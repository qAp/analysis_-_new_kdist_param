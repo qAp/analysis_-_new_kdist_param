{
 "cells": [
  {
   "cell_type": "code",
   "execution_count": 1,
   "metadata": {
    "collapsed": true
   },
   "outputs": [],
   "source": [
    "%reload_ext autoreload\n",
    "%autoreload 2\n",
    "\n",
    "import os\n",
    "import pprint\n",
    "\n",
    "import pymongo\n",
    "\n",
    "from bokeh.io import output_notebook, show\n",
    "from bokeh.layouts import gridplot\n",
    "from bokeh.plotting import figure\n",
    "from bokeh.models import Range1d, Legend, ColumnDataSource, FactorRange\n",
    "from bokeh.palettes import all_palettes\n",
    "from bokeh.transform import factor_cmap\n",
    "\n",
    "from climatools.atm import *\n",
    "from climatools.spectrum import *\n",
    "from climatools.html.html import *\n",
    "from climatools.plot.plot import *\n",
    "\n",
    "from IPython import display"
   ]
  },
  {
   "cell_type": "code",
   "execution_count": 2,
   "metadata": {
    "scrolled": true
   },
   "outputs": [
    {
     "data": {
      "text/html": [
       "\n",
       "    <div class=\"bk-root\">\n",
       "        <a href=\"https://bokeh.pydata.org\" target=\"_blank\" class=\"bk-logo bk-logo-small bk-logo-notebook\"></a>\n",
       "        <span id=\"a6049291-5b14-4f72-a582-a31a2bbb82c4\">Loading BokehJS ...</span>\n",
       "    </div>"
      ]
     },
     "metadata": {},
     "output_type": "display_data"
    },
    {
     "data": {
      "application/javascript": [
       "\n",
       "(function(root) {\n",
       "  function now() {\n",
       "    return new Date();\n",
       "  }\n",
       "\n",
       "  var force = true;\n",
       "\n",
       "  if (typeof (root._bokeh_onload_callbacks) === \"undefined\" || force === true) {\n",
       "    root._bokeh_onload_callbacks = [];\n",
       "    root._bokeh_is_loading = undefined;\n",
       "  }\n",
       "\n",
       "  var JS_MIME_TYPE = 'application/javascript';\n",
       "  var HTML_MIME_TYPE = 'text/html';\n",
       "  var EXEC_MIME_TYPE = 'application/vnd.bokehjs_exec.v0+json';\n",
       "  var CLASS_NAME = 'output_bokeh rendered_html';\n",
       "\n",
       "  /**\n",
       "   * Render data to the DOM node\n",
       "   */\n",
       "  function render(props, node) {\n",
       "    var script = document.createElement(\"script\");\n",
       "    node.appendChild(script);\n",
       "  }\n",
       "\n",
       "  /**\n",
       "   * Handle when an output is cleared or removed\n",
       "   */\n",
       "  function handleClearOutput(event, handle) {\n",
       "    var cell = handle.cell;\n",
       "\n",
       "    var id = cell.output_area._bokeh_element_id;\n",
       "    var server_id = cell.output_area._bokeh_server_id;\n",
       "    // Clean up Bokeh references\n",
       "    if (id !== undefined) {\n",
       "      Bokeh.index[id].model.document.clear();\n",
       "      delete Bokeh.index[id];\n",
       "    }\n",
       "\n",
       "    if (server_id !== undefined) {\n",
       "      // Clean up Bokeh references\n",
       "      var cmd = \"from bokeh.io.state import curstate; print(curstate().uuid_to_server['\" + server_id + \"'].get_sessions()[0].document.roots[0]._id)\";\n",
       "      cell.notebook.kernel.execute(cmd, {\n",
       "        iopub: {\n",
       "          output: function(msg) {\n",
       "            var element_id = msg.content.text.trim();\n",
       "            Bokeh.index[element_id].model.document.clear();\n",
       "            delete Bokeh.index[element_id];\n",
       "          }\n",
       "        }\n",
       "      });\n",
       "      // Destroy server and session\n",
       "      var cmd = \"import bokeh.io.notebook as ion; ion.destroy_server('\" + server_id + \"')\";\n",
       "      cell.notebook.kernel.execute(cmd);\n",
       "    }\n",
       "  }\n",
       "\n",
       "  /**\n",
       "   * Handle when a new output is added\n",
       "   */\n",
       "  function handleAddOutput(event, handle) {\n",
       "    var output_area = handle.output_area;\n",
       "    var output = handle.output;\n",
       "\n",
       "    // limit handleAddOutput to display_data with EXEC_MIME_TYPE content only\n",
       "    if ((output.output_type != \"display_data\") || (!output.data.hasOwnProperty(EXEC_MIME_TYPE))) {\n",
       "      return\n",
       "    }\n",
       "\n",
       "    var toinsert = output_area.element.find(\".\" + CLASS_NAME.split(' ')[0]);\n",
       "\n",
       "    if (output.metadata[EXEC_MIME_TYPE][\"id\"] !== undefined) {\n",
       "      toinsert[toinsert.length - 1].firstChild.textContent = output.data[JS_MIME_TYPE];\n",
       "      // store reference to embed id on output_area\n",
       "      output_area._bokeh_element_id = output.metadata[EXEC_MIME_TYPE][\"id\"];\n",
       "    }\n",
       "    if (output.metadata[EXEC_MIME_TYPE][\"server_id\"] !== undefined) {\n",
       "      var bk_div = document.createElement(\"div\");\n",
       "      bk_div.innerHTML = output.data[HTML_MIME_TYPE];\n",
       "      var script_attrs = bk_div.children[0].attributes;\n",
       "      for (var i = 0; i < script_attrs.length; i++) {\n",
       "        toinsert[toinsert.length - 1].firstChild.setAttribute(script_attrs[i].name, script_attrs[i].value);\n",
       "      }\n",
       "      // store reference to server id on output_area\n",
       "      output_area._bokeh_server_id = output.metadata[EXEC_MIME_TYPE][\"server_id\"];\n",
       "    }\n",
       "  }\n",
       "\n",
       "  function register_renderer(events, OutputArea) {\n",
       "\n",
       "    function append_mime(data, metadata, element) {\n",
       "      // create a DOM node to render to\n",
       "      var toinsert = this.create_output_subarea(\n",
       "        metadata,\n",
       "        CLASS_NAME,\n",
       "        EXEC_MIME_TYPE\n",
       "      );\n",
       "      this.keyboard_manager.register_events(toinsert);\n",
       "      // Render to node\n",
       "      var props = {data: data, metadata: metadata[EXEC_MIME_TYPE]};\n",
       "      render(props, toinsert[toinsert.length - 1]);\n",
       "      element.append(toinsert);\n",
       "      return toinsert\n",
       "    }\n",
       "\n",
       "    /* Handle when an output is cleared or removed */\n",
       "    events.on('clear_output.CodeCell', handleClearOutput);\n",
       "    events.on('delete.Cell', handleClearOutput);\n",
       "\n",
       "    /* Handle when a new output is added */\n",
       "    events.on('output_added.OutputArea', handleAddOutput);\n",
       "\n",
       "    /**\n",
       "     * Register the mime type and append_mime function with output_area\n",
       "     */\n",
       "    OutputArea.prototype.register_mime_type(EXEC_MIME_TYPE, append_mime, {\n",
       "      /* Is output safe? */\n",
       "      safe: true,\n",
       "      /* Index of renderer in `output_area.display_order` */\n",
       "      index: 0\n",
       "    });\n",
       "  }\n",
       "\n",
       "  // register the mime type if in Jupyter Notebook environment and previously unregistered\n",
       "  if (root.Jupyter !== undefined) {\n",
       "    var events = require('base/js/events');\n",
       "    var OutputArea = require('notebook/js/outputarea').OutputArea;\n",
       "\n",
       "    if (OutputArea.prototype.mime_types().indexOf(EXEC_MIME_TYPE) == -1) {\n",
       "      register_renderer(events, OutputArea);\n",
       "    }\n",
       "  }\n",
       "\n",
       "  \n",
       "  if (typeof (root._bokeh_timeout) === \"undefined\" || force === true) {\n",
       "    root._bokeh_timeout = Date.now() + 5000;\n",
       "    root._bokeh_failed_load = false;\n",
       "  }\n",
       "\n",
       "  var NB_LOAD_WARNING = {'data': {'text/html':\n",
       "     \"<div style='background-color: #fdd'>\\n\"+\n",
       "     \"<p>\\n\"+\n",
       "     \"BokehJS does not appear to have successfully loaded. If loading BokehJS from CDN, this \\n\"+\n",
       "     \"may be due to a slow or bad network connection. Possible fixes:\\n\"+\n",
       "     \"</p>\\n\"+\n",
       "     \"<ul>\\n\"+\n",
       "     \"<li>re-rerun `output_notebook()` to attempt to load from CDN again, or</li>\\n\"+\n",
       "     \"<li>use INLINE resources instead, as so:</li>\\n\"+\n",
       "     \"</ul>\\n\"+\n",
       "     \"<code>\\n\"+\n",
       "     \"from bokeh.resources import INLINE\\n\"+\n",
       "     \"output_notebook(resources=INLINE)\\n\"+\n",
       "     \"</code>\\n\"+\n",
       "     \"</div>\"}};\n",
       "\n",
       "  function display_loaded() {\n",
       "    var el = document.getElementById(\"a6049291-5b14-4f72-a582-a31a2bbb82c4\");\n",
       "    if (el != null) {\n",
       "      el.textContent = \"BokehJS is loading...\";\n",
       "    }\n",
       "    if (root.Bokeh !== undefined) {\n",
       "      if (el != null) {\n",
       "        el.textContent = \"BokehJS \" + root.Bokeh.version + \" successfully loaded.\";\n",
       "      }\n",
       "    } else if (Date.now() < root._bokeh_timeout) {\n",
       "      setTimeout(display_loaded, 100)\n",
       "    }\n",
       "  }\n",
       "\n",
       "\n",
       "  function run_callbacks() {\n",
       "    try {\n",
       "      root._bokeh_onload_callbacks.forEach(function(callback) { callback() });\n",
       "    }\n",
       "    finally {\n",
       "      delete root._bokeh_onload_callbacks\n",
       "    }\n",
       "    console.info(\"Bokeh: all callbacks have finished\");\n",
       "  }\n",
       "\n",
       "  function load_libs(js_urls, callback) {\n",
       "    root._bokeh_onload_callbacks.push(callback);\n",
       "    if (root._bokeh_is_loading > 0) {\n",
       "      console.log(\"Bokeh: BokehJS is being loaded, scheduling callback at\", now());\n",
       "      return null;\n",
       "    }\n",
       "    if (js_urls == null || js_urls.length === 0) {\n",
       "      run_callbacks();\n",
       "      return null;\n",
       "    }\n",
       "    console.log(\"Bokeh: BokehJS not loaded, scheduling load and callback at\", now());\n",
       "    root._bokeh_is_loading = js_urls.length;\n",
       "    for (var i = 0; i < js_urls.length; i++) {\n",
       "      var url = js_urls[i];\n",
       "      var s = document.createElement('script');\n",
       "      s.src = url;\n",
       "      s.async = false;\n",
       "      s.onreadystatechange = s.onload = function() {\n",
       "        root._bokeh_is_loading--;\n",
       "        if (root._bokeh_is_loading === 0) {\n",
       "          console.log(\"Bokeh: all BokehJS libraries loaded\");\n",
       "          run_callbacks()\n",
       "        }\n",
       "      };\n",
       "      s.onerror = function() {\n",
       "        console.warn(\"failed to load library \" + url);\n",
       "      };\n",
       "      console.log(\"Bokeh: injecting script tag for BokehJS library: \", url);\n",
       "      document.getElementsByTagName(\"head\")[0].appendChild(s);\n",
       "    }\n",
       "  };var element = document.getElementById(\"a6049291-5b14-4f72-a582-a31a2bbb82c4\");\n",
       "  if (element == null) {\n",
       "    console.log(\"Bokeh: ERROR: autoload.js configured with elementid 'a6049291-5b14-4f72-a582-a31a2bbb82c4' but no matching script tag was found. \")\n",
       "    return false;\n",
       "  }\n",
       "\n",
       "  var js_urls = [\"https://cdn.pydata.org/bokeh/release/bokeh-0.12.16.min.js\", \"https://cdn.pydata.org/bokeh/release/bokeh-widgets-0.12.16.min.js\", \"https://cdn.pydata.org/bokeh/release/bokeh-tables-0.12.16.min.js\", \"https://cdn.pydata.org/bokeh/release/bokeh-gl-0.12.16.min.js\"];\n",
       "\n",
       "  var inline_js = [\n",
       "    function(Bokeh) {\n",
       "      Bokeh.set_log_level(\"info\");\n",
       "    },\n",
       "    \n",
       "    function(Bokeh) {\n",
       "      \n",
       "    },\n",
       "    function(Bokeh) {\n",
       "      console.log(\"Bokeh: injecting CSS: https://cdn.pydata.org/bokeh/release/bokeh-0.12.16.min.css\");\n",
       "      Bokeh.embed.inject_css(\"https://cdn.pydata.org/bokeh/release/bokeh-0.12.16.min.css\");\n",
       "      console.log(\"Bokeh: injecting CSS: https://cdn.pydata.org/bokeh/release/bokeh-widgets-0.12.16.min.css\");\n",
       "      Bokeh.embed.inject_css(\"https://cdn.pydata.org/bokeh/release/bokeh-widgets-0.12.16.min.css\");\n",
       "      console.log(\"Bokeh: injecting CSS: https://cdn.pydata.org/bokeh/release/bokeh-tables-0.12.16.min.css\");\n",
       "      Bokeh.embed.inject_css(\"https://cdn.pydata.org/bokeh/release/bokeh-tables-0.12.16.min.css\");\n",
       "    }\n",
       "  ];\n",
       "\n",
       "  function run_inline_js() {\n",
       "    \n",
       "    if ((root.Bokeh !== undefined) || (force === true)) {\n",
       "      for (var i = 0; i < inline_js.length; i++) {\n",
       "        inline_js[i].call(root, root.Bokeh);\n",
       "      }if (force === true) {\n",
       "        display_loaded();\n",
       "      }} else if (Date.now() < root._bokeh_timeout) {\n",
       "      setTimeout(run_inline_js, 100);\n",
       "    } else if (!root._bokeh_failed_load) {\n",
       "      console.log(\"Bokeh: BokehJS failed to load within specified timeout.\");\n",
       "      root._bokeh_failed_load = true;\n",
       "    } else if (force !== true) {\n",
       "      var cell = $(document.getElementById(\"a6049291-5b14-4f72-a582-a31a2bbb82c4\")).parents('.cell').data().cell;\n",
       "      cell.output_area.append_execute_result(NB_LOAD_WARNING)\n",
       "    }\n",
       "\n",
       "  }\n",
       "\n",
       "  if (root._bokeh_is_loading === 0) {\n",
       "    console.log(\"Bokeh: BokehJS loaded, going straight to plotting\");\n",
       "    run_inline_js();\n",
       "  } else {\n",
       "    load_libs(js_urls, function() {\n",
       "      console.log(\"Bokeh: BokehJS plotting callback run at\", now());\n",
       "      run_inline_js();\n",
       "    });\n",
       "  }\n",
       "}(window));"
      ],
      "application/vnd.bokehjs_load.v0+json": "\n(function(root) {\n  function now() {\n    return new Date();\n  }\n\n  var force = true;\n\n  if (typeof (root._bokeh_onload_callbacks) === \"undefined\" || force === true) {\n    root._bokeh_onload_callbacks = [];\n    root._bokeh_is_loading = undefined;\n  }\n\n  \n\n  \n  if (typeof (root._bokeh_timeout) === \"undefined\" || force === true) {\n    root._bokeh_timeout = Date.now() + 5000;\n    root._bokeh_failed_load = false;\n  }\n\n  var NB_LOAD_WARNING = {'data': {'text/html':\n     \"<div style='background-color: #fdd'>\\n\"+\n     \"<p>\\n\"+\n     \"BokehJS does not appear to have successfully loaded. If loading BokehJS from CDN, this \\n\"+\n     \"may be due to a slow or bad network connection. Possible fixes:\\n\"+\n     \"</p>\\n\"+\n     \"<ul>\\n\"+\n     \"<li>re-rerun `output_notebook()` to attempt to load from CDN again, or</li>\\n\"+\n     \"<li>use INLINE resources instead, as so:</li>\\n\"+\n     \"</ul>\\n\"+\n     \"<code>\\n\"+\n     \"from bokeh.resources import INLINE\\n\"+\n     \"output_notebook(resources=INLINE)\\n\"+\n     \"</code>\\n\"+\n     \"</div>\"}};\n\n  function display_loaded() {\n    var el = document.getElementById(\"a6049291-5b14-4f72-a582-a31a2bbb82c4\");\n    if (el != null) {\n      el.textContent = \"BokehJS is loading...\";\n    }\n    if (root.Bokeh !== undefined) {\n      if (el != null) {\n        el.textContent = \"BokehJS \" + root.Bokeh.version + \" successfully loaded.\";\n      }\n    } else if (Date.now() < root._bokeh_timeout) {\n      setTimeout(display_loaded, 100)\n    }\n  }\n\n\n  function run_callbacks() {\n    try {\n      root._bokeh_onload_callbacks.forEach(function(callback) { callback() });\n    }\n    finally {\n      delete root._bokeh_onload_callbacks\n    }\n    console.info(\"Bokeh: all callbacks have finished\");\n  }\n\n  function load_libs(js_urls, callback) {\n    root._bokeh_onload_callbacks.push(callback);\n    if (root._bokeh_is_loading > 0) {\n      console.log(\"Bokeh: BokehJS is being loaded, scheduling callback at\", now());\n      return null;\n    }\n    if (js_urls == null || js_urls.length === 0) {\n      run_callbacks();\n      return null;\n    }\n    console.log(\"Bokeh: BokehJS not loaded, scheduling load and callback at\", now());\n    root._bokeh_is_loading = js_urls.length;\n    for (var i = 0; i < js_urls.length; i++) {\n      var url = js_urls[i];\n      var s = document.createElement('script');\n      s.src = url;\n      s.async = false;\n      s.onreadystatechange = s.onload = function() {\n        root._bokeh_is_loading--;\n        if (root._bokeh_is_loading === 0) {\n          console.log(\"Bokeh: all BokehJS libraries loaded\");\n          run_callbacks()\n        }\n      };\n      s.onerror = function() {\n        console.warn(\"failed to load library \" + url);\n      };\n      console.log(\"Bokeh: injecting script tag for BokehJS library: \", url);\n      document.getElementsByTagName(\"head\")[0].appendChild(s);\n    }\n  };var element = document.getElementById(\"a6049291-5b14-4f72-a582-a31a2bbb82c4\");\n  if (element == null) {\n    console.log(\"Bokeh: ERROR: autoload.js configured with elementid 'a6049291-5b14-4f72-a582-a31a2bbb82c4' but no matching script tag was found. \")\n    return false;\n  }\n\n  var js_urls = [\"https://cdn.pydata.org/bokeh/release/bokeh-0.12.16.min.js\", \"https://cdn.pydata.org/bokeh/release/bokeh-widgets-0.12.16.min.js\", \"https://cdn.pydata.org/bokeh/release/bokeh-tables-0.12.16.min.js\", \"https://cdn.pydata.org/bokeh/release/bokeh-gl-0.12.16.min.js\"];\n\n  var inline_js = [\n    function(Bokeh) {\n      Bokeh.set_log_level(\"info\");\n    },\n    \n    function(Bokeh) {\n      \n    },\n    function(Bokeh) {\n      console.log(\"Bokeh: injecting CSS: https://cdn.pydata.org/bokeh/release/bokeh-0.12.16.min.css\");\n      Bokeh.embed.inject_css(\"https://cdn.pydata.org/bokeh/release/bokeh-0.12.16.min.css\");\n      console.log(\"Bokeh: injecting CSS: https://cdn.pydata.org/bokeh/release/bokeh-widgets-0.12.16.min.css\");\n      Bokeh.embed.inject_css(\"https://cdn.pydata.org/bokeh/release/bokeh-widgets-0.12.16.min.css\");\n      console.log(\"Bokeh: injecting CSS: https://cdn.pydata.org/bokeh/release/bokeh-tables-0.12.16.min.css\");\n      Bokeh.embed.inject_css(\"https://cdn.pydata.org/bokeh/release/bokeh-tables-0.12.16.min.css\");\n    }\n  ];\n\n  function run_inline_js() {\n    \n    if ((root.Bokeh !== undefined) || (force === true)) {\n      for (var i = 0; i < inline_js.length; i++) {\n        inline_js[i].call(root, root.Bokeh);\n      }if (force === true) {\n        display_loaded();\n      }} else if (Date.now() < root._bokeh_timeout) {\n      setTimeout(run_inline_js, 100);\n    } else if (!root._bokeh_failed_load) {\n      console.log(\"Bokeh: BokehJS failed to load within specified timeout.\");\n      root._bokeh_failed_load = true;\n    } else if (force !== true) {\n      var cell = $(document.getElementById(\"a6049291-5b14-4f72-a582-a31a2bbb82c4\")).parents('.cell').data().cell;\n      cell.output_area.append_execute_result(NB_LOAD_WARNING)\n    }\n\n  }\n\n  if (root._bokeh_is_loading === 0) {\n    console.log(\"Bokeh: BokehJS loaded, going straight to plotting\");\n    run_inline_js();\n  } else {\n    load_libs(js_urls, function() {\n      console.log(\"Bokeh: BokehJS plotting callback run at\", now());\n      run_inline_js();\n    });\n  }\n}(window));"
     },
     "metadata": {},
     "output_type": "display_data"
    }
   ],
   "source": [
    "output_notebook()\n",
    "client = pymongo.MongoClient('localhost', 27017)"
   ]
  },
  {
   "cell_type": "markdown",
   "metadata": {
    "heading_collapsed": true
   },
   "source": [
    "## Data"
   ]
  },
  {
   "cell_type": "code",
   "execution_count": 3,
   "metadata": {
    "collapsed": true,
    "hidden": true
   },
   "outputs": [],
   "source": [
    "MOL = 'h2o'\n",
    "COMMITNUMBER = '1013f91'\n",
    "ATMPRO = dict(mls=294, saw=257, trp=300)\n",
    "\n",
    "NV, DV = 1000, .001\n",
    "OPTION_WGT_FLUX, OPTION_WGT_K = 1, 1"
   ]
  },
  {
   "cell_type": "code",
   "execution_count": 4,
   "metadata": {
    "collapsed": true,
    "hidden": true
   },
   "outputs": [],
   "source": [
    "atmcomp = AtmComposition.cliradlw_nongreys(onlygas=MOL)"
   ]
  },
  {
   "cell_type": "code",
   "execution_count": 5,
   "metadata": {
    "hidden": true
   },
   "outputs": [],
   "source": [
    "DCLI = {}\n",
    "for atmpro, _ in ATMPRO.items():\n",
    "    pcli = atmcomp.to_cliradparam(commitnumber=COMMITNUMBER, atmpro=atmpro, tsfc=ATMPRO[atmpro])\n",
    "    dcli = pcli.modeldata_pymongo(collection=client.cliradnew.lw)\n",
    "    DCLI[atmpro] = dcli"
   ]
  },
  {
   "cell_type": "code",
   "execution_count": 6,
   "metadata": {
    "hidden": true
   },
   "outputs": [],
   "source": [
    "DCRD = {}"
   ]
  },
  {
   "cell_type": "code",
   "execution_count": 16,
   "metadata": {
    "collapsed": true,
    "hidden": true
   },
   "outputs": [],
   "source": [
    "atmpro = 'trp'\n",
    "pcrds = atmcomp.to_lblnewparam(nv=NV, dv=DV, option_wgt_flux=OPTION_WGT_FLUX, option_wgt_k=OPTION_WGT_K, atmpro=atmpro, tsfc=ATMPRO[atmpro])\n",
    "collecs = [client.lblnew.bestfit_lw if p.model_name=='lblnew-bestfit' else client.lblnew.overlap_lw for p in pcrds]"
   ]
  },
  {
   "cell_type": "code",
   "execution_count": 17,
   "metadata": {
    "hidden": true,
    "scrolled": false
   },
   "outputs": [
    {
     "data": {
      "text/plain": [
       "[['5014a19'],\n",
       " ['5014a19'],\n",
       " ['5014a19'],\n",
       " ['5014a19'],\n",
       " ['5014a19'],\n",
       " ['5014a19', '5014a19'],\n",
       " ['5014a19'],\n",
       " ['5014a19'],\n",
       " ['5014a19'],\n",
       " ['5014a19'],\n",
       " ['5014a19']]"
      ]
     },
     "execution_count": 17,
     "metadata": {},
     "output_type": "execute_result"
    }
   ],
   "source": [
    "cmts = [p.avail_commits(c) for p, c in zip(pcrds, collecs)]\n",
    "cmts "
   ]
  },
  {
   "cell_type": "code",
   "execution_count": null,
   "metadata": {
    "hidden": true
   },
   "outputs": [],
   "source": []
  },
  {
   "cell_type": "code",
   "execution_count": 18,
   "metadata": {
    "collapsed": true,
    "hidden": true
   },
   "outputs": [],
   "source": [
    "commits = ['a06b618', '5014a19']\n",
    "dcrds = [p.modeldata_pymongo(collection=c, commits=commits) for p, c in zip(pcrds, collecs)]\n",
    "\n",
    "def concat():\n",
    "    bands = [mapband_old2new()[d.param['band']] for d in dcrds]\n",
    "    params = [d.param for d in dcrds]\n",
    "    \n",
    "    rename = {'concat_dim': 'band'}\n",
    "    wgt_flux = xr.concat([d.wgt_flux for d in dcrds], dim=bands).rename(rename)\n",
    "    wgt_cool = xr.concat([d.wgt_cool for d in dcrds], dim=bands).rename(rename)\n",
    "    crd_flux = xr.concat([d.crd_flux for d in dcrds], dim=bands).rename(rename)\n",
    "    crd_cool = xr.concat([d.crd_cool for d in dcrds], dim=bands).rename(rename)\n",
    "    \n",
    "    data = LBLnewModelData(params, wgt_flux, wgt_cool, crd_flux, crd_cool)\n",
    "    return data\n",
    "\n",
    "dcrd = concat()\n",
    "DCRD[atmpro] = dcrd"
   ]
  },
  {
   "cell_type": "markdown",
   "metadata": {},
   "source": [
    "## Analysis code"
   ]
  },
  {
   "cell_type": "code",
   "execution_count": 19,
   "metadata": {
    "collapsed": true
   },
   "outputs": [],
   "source": [
    "def show_html(s):\n",
    "    display.display(display.HTML(s))\n",
    "\n",
    "def show_markdown(s):\n",
    "    display.display(display.Markdown(s))"
   ]
  },
  {
   "cell_type": "code",
   "execution_count": 20,
   "metadata": {
    "collapsed": true
   },
   "outputs": [],
   "source": [
    "import rtmtools.clirad.sw.wrangle as cliradwrangle\n",
    "\n",
    "def oldclirad_data_atm():\n",
    "    '''\n",
    "    Load the OLD clirad's results. mls only.\n",
    "    '''\n",
    "    fpath = os.path.join('/chia_cluster/home/jackyu/radiation',\n",
    "                         'clirad-lw',\n",
    "                         'LW',\n",
    "                         'examples',\n",
    "                         'mls75_h2o_atmpro_co2_.0004_o3_atmpro_n2o_3.2e-7_ch4_1.8e-6_H2012',\n",
    "                         'OUTPUT_CLIRAD.dat')\n",
    "    \n",
    "    ds = cliradwrangle.load_OUTPUT_CLIRAD(readfrom=fpath)\n",
    "    \n",
    "    ds_cool = xr.Dataset()\n",
    "    ds_cool.coords['pressure'] = ('pressure', ds['layer_pressure'])\n",
    "    ds_cool.coords['band'] = ('band', ds['spectral_band'])\n",
    "    ds_cool['coolrg'] = (('band', 'pressure'), - ds['heating_rate'])\n",
    "    \n",
    "    ds_flux = xr.Dataset()\n",
    "    ds_flux.coords['pressure'] = ('pressure', ds['level_pressure'])\n",
    "    ds_flux.coords['band'] = ('band', ds['spectral_band'])\n",
    "    ds_flux['flug'] = (('band', 'pressure'), ds['flux_up'])\n",
    "    ds_flux['fldg'] = (('band', 'pressure'), ds['flux_down'])\n",
    "    ds_flux['fnetg'] = (('band', 'pressure'), ds['net_flux'])\n",
    "    \n",
    "    \n",
    "    d = {}\n",
    "    d['cool'] = ds_cool\n",
    "    d['flux'] = ds_flux\n",
    "    return d"
   ]
  },
  {
   "cell_type": "code",
   "execution_count": 21,
   "metadata": {},
   "outputs": [],
   "source": [
    "def show_makeup():\n",
    "    df = pd.DataFrame()\n",
    "    for band, gs in atmcomp.gasinbands.items():\n",
    "        for g in gs:\n",
    "            df.loc[g, band] = str(atmcomp.gasconcs[g])\n",
    "\n",
    "    df = df.fillna(0)\n",
    "    df.columns.name = 'clirad band'\n",
    "    df.index.name = 'molecule'\n",
    "    \n",
    "    display.display(df)\n",
    "    display.display(display.Markdown('*TABLE.* Non-grey absorbers in the atmosphere.'))"
   ]
  },
  {
   "cell_type": "code",
   "execution_count": 22,
   "metadata": {
    "scrolled": false
   },
   "outputs": [],
   "source": [
    "def pltdata_cool(dcrd=None, dcli=None, atmpro='mls'):\n",
    "    colors = all_palettes['Set1'][4]\n",
    "    cool_cli = dcli.wgt_cool.sel(i=1).sum('band')['coolrg']\n",
    "    cool_crd = dcrd.crd_cool['coolrg'].sum('band').sum('g')\n",
    "    \n",
    "    data = [\n",
    "        {'label': 'CLIRAD',\n",
    "         'srs': cool_cli,\n",
    "         'line_dash': 'dashed', 'line_width': 5,\n",
    "         'color': colors[0], 'alpha': .6},\n",
    "        {'label': 'CRD',\n",
    "         'srs': cool_crd,\n",
    "         'line_dash': 'solid', 'line_width': 1.5,\n",
    "         'marker': 'circle', 'marker_size': 5,\n",
    "         'color': colors[2], 'alpha': 1}\n",
    "    ]\n",
    "    \n",
    "    # include old CLIRAD's results for mls profile\n",
    "#    if atmpro == 'mls':\n",
    "#        d_oldclirad = oldclirad_data_atm()\n",
    "#        ds_oldclirad = d_oldclirad['cool']        \n",
    "#        data.append(\n",
    "#            {'label': 'old CLIRAD (H2012)',\n",
    "#             'srs': fmt_cool(ds_oldclirad),\n",
    "#             'line_dash': 'solid', 'line_width': 1.5,\n",
    "#             'marker': 'square', 'marker_size': 3,\n",
    "#             'color': colors[3], 'alpha': .5})\n",
    "    return data\n",
    "\n",
    "\n",
    "def pltdata_cooldiff(dcrd=None, dcli=None, atmpro='mls'): \n",
    "    colors = all_palettes['Set1'][4]\n",
    "    cool_cli = dcli.wgt_cool.sel(i=1).sum('band')['coolrg']\n",
    "    cool_crd = dcrd.crd_cool['coolrg'].sum('band').sum('g')\n",
    "    cool_dif = cool_cli - cool_crd\n",
    "    \n",
    "    data = [\n",
    "        {'label': 'CLIRAD - CRD',\n",
    "         'srs': cool_dif,\n",
    "         'line_dash': 'solid', 'line_width': 1.5, \n",
    "         'marker': 'circle', 'marker_size': 7,\n",
    "         'color': colors[3], 'alpha': .8}\n",
    "    ]\n",
    "    \n",
    "    # include old CLIRAD's results for mls profile\n",
    "#    if atmpro == 'mls':\n",
    "#        d_oldclirad = oldclirad_data_atm()\n",
    "#        ds_oldclirad = d_oldclirad['cool']\n",
    "#        ds_oldclirad.coords['pressure'] = ds_crd.coords['pressure']\n",
    "#        ds_diff_old = ds_oldclirad.sum('band') - ds_crd.sum('band')\n",
    "#        data.append(\n",
    "#            {'label': 'old CLIRAD (H2012) - CRD',\n",
    "#             'srs': fmt_cool(ds_diff_old),\n",
    "#             'line_dash': 'dashed', 'line_width': 4,\n",
    "#             'color': colors[1], 'alpha': .5}\n",
    "#        )\n",
    "    return data\n",
    "\n",
    "\n",
    "def show_cool(dcrd=None, dcli=None, atmpro='mls'):\n",
    "    data_cool = pltdata_cool(dcrd, dcli, atmpro=atmpro)\n",
    "    p_cool_liny = plt_vert_profile_bokeh(pltdata=data_cool)\n",
    "    p_cool_logy = plt_vert_profile_bokeh(pltdata=data_cool, y_axis_type='log', prange=(.01, 200))\n",
    "    \n",
    "    data_cooldiff = pltdata_cooldiff(dcrd, dcli, atmpro=atmpro)\n",
    "    p_cooldiff_logy = plt_vert_profile_bokeh(pltdata=data_cooldiff, y_axis_type='log', prange=(.01, 200))\n",
    "    \n",
    "    everything = gridplot(p_cool_liny, p_cool_logy, p_cooldiff_logy, ncols=3)\n",
    "    show(everything)\n",
    "    display.display(display.Markdown('*FIGURE.* Cooling rates & difference.'))"
   ]
  },
  {
   "cell_type": "code",
   "execution_count": 23,
   "metadata": {
    "scrolled": false
   },
   "outputs": [],
   "source": [
    "def hist_band_vs_flux(da, title='Title'):\n",
    "    bands = [str(b.values) for b in da['band']]\n",
    "    source = ColumnDataSource(data={'band': bands, 'flux': da.values})\n",
    "    p = figure(x_range=bands, title=title)\n",
    "    p.vbar(source=source, x='band', top='flux', width=.9)\n",
    "    p.yaxis.axis_label = 'flux (W m-2)'\n",
    "    p.xaxis.axis_label = 'spectral band'\n",
    "    return p\n",
    "\n",
    "def show_hist_flux(dcrd=None, dcli=None, atmpro='mls'):\n",
    "    ds_crd = dcrd.crd_flux.sum('g')\n",
    "    ds_clirad = dcli.wgt_flux.sel(i=1)\n",
    "    \n",
    "    ip, varname = 0, 'flug'\n",
    "    da = (ds_clirad - ds_crd).isel(pressure=ip)[varname]\n",
    "    p_toa = hist_band_vs_flux(da, title='TOA flux. CLIRAD - CRD.')\n",
    "\n",
    "    ip, varname = -1, 'fldg'\n",
    "    da = (ds_clirad - ds_crd).isel(pressure=ip)[varname]\n",
    "    p_sfc = hist_band_vs_flux(da, title='SFC flux. CLIRAD - CRD.')    \n",
    "    \n",
    "    atm_crd = (ds_crd.isel(pressure=0) - ds_crd.isel(pressure=-1))['fnetg']\n",
    "    atm_clirad = (ds_clirad.isel(pressure=0) - ds_clirad.isel(pressure=-1))['fnetg']\n",
    "    da = atm_clirad - atm_crd\n",
    "    p_atm = hist_band_vs_flux(da, title='Atmosphere heating. CLIRAD - CRD.')\n",
    "\n",
    "    everything = gridplot(p_toa, p_sfc, p_atm, ncols=3, plot_width=300, plot_height=300)\n",
    "    \n",
    "    show(everything)\n",
    "    display.display(\n",
    "        display.Markdown('*FIGURE.* Difference between CLIRAD and CRD'\n",
    "          ' in TOA, SFC and net atmosphere flux,'\n",
    "          ' in each spectral band.'))\n",
    "\n",
    "def show_tb_flux(dcrd=None, dcli=None, atmpro='mls'):\n",
    "    fluxcrd = dcrd.crd_flux.sum(['band', 'g'])\n",
    "    olr_crd = fluxcrd['flug'].isel(pressure=0)\n",
    "    sfc_crd = fluxcrd['fldg'].isel(pressure=-1)\n",
    "    atm_crd = (fluxcrd.isel(pressure=0) - fluxcrd.isel(pressure=-1))['fnetg']\n",
    "    \n",
    "    fluxcli = dcli.wgt_flux.sel(i=1).sum('band')\n",
    "    olr_cli = fluxcli['flug'].isel(pressure=0)\n",
    "    sfc_cli = fluxcli['fldg'].isel(pressure=-1)\n",
    "    atm_cli = (fluxcli.isel(pressure=0) - fluxcli.isel(pressure=-1))['fnetg']\n",
    "    \n",
    "#    if atmpro == 'mls':\n",
    "#        ds_oldclirad = oldclirad_data_atm()['flux']\n",
    "#        ds_oldclirad['pressure'] = ds_crd['pressure']\n",
    "#        olr_oldclirad = ds_oldclirad['flug'].isel(pressure=0)\n",
    "#        sfc_oldclirad = ds_oldclirad['fldg'].isel(pressure=-1)\n",
    "#        atm_oldclirad = (ds_oldclirad.isel(pressure=0)\n",
    "#                         - ds_oldclirad.isel(pressure=-1))['fnetg']\n",
    "        \n",
    "    df = pd.DataFrame()\n",
    "    df.index.name = 'Sum over bands'\n",
    "    \n",
    "#    if atmpro == 'mls':\n",
    "#        df.loc['old CLIRAD - CRD', 'OLR flux'] = (fmt(olr_oldclirad) - fmt(olr_crd)).values\n",
    "#        df.loc['old CLIRAD - CRD', 'SFC flux'] = (fmt(sfc_oldclirad) - fmt(sfc_crd)).values\n",
    "#        df.loc['old CLIRAD - CRD', 'ATM heating'] = (fmt(atm_oldclirad) - fmt(atm_crd)).values\n",
    "\n",
    "    df.loc['CLIRAD - CRD', 'OLR flux'] = (olr_cli - olr_crd).values\n",
    "    df.loc['CLIRAD - CRD', 'SFC flux'] = (sfc_cli - sfc_crd).values\n",
    "    df.loc['CLIRAD - CRD', 'ATM heating'] = (atm_cli - atm_crd).values\n",
    "\n",
    "    df.loc['CRD', 'OLR flux'] = olr_crd.values\n",
    "    df.loc['CRD', 'SFC flux'] = sfc_crd.values\n",
    "    df.loc['CRD', 'ATM heating'] = atm_crd.values\n",
    "        \n",
    "    df = df.astype('float').round(2)\n",
    "    \n",
    "    display.display(df)\n",
    "    display.display(\n",
    "        display.Markdown('*TABLE.* Difference between CLIRAD and CRD'\n",
    "          ' in TOA, SFC and net atmosphere flux,'\n",
    "          ' over all spectral bands. CRD\\'s'\n",
    "          ' TOA, SFC and net atmosphere flux,'\n",
    "          ' over all spectral bands.'))\n",
    "    \n",
    "\n",
    "#show_hist_flux(dcrd, dcli, atmpro='mls')\n",
    "#show_tb_flux(DCRD['mls'], DCLI['mls'], atmpro='mls')"
   ]
  },
  {
   "cell_type": "code",
   "execution_count": 24,
   "metadata": {
    "collapsed": true,
    "scrolled": true
   },
   "outputs": [],
   "source": [
    "def cool_tofile(atmpro=None):\n",
    "    dcli = clirad_data_atm(params_atm=[subparam_atm_clirad(atmpro=atmpro)])\n",
    "    dcrd = crd_data_atm(params_atm=subparams_atm_lblnew(atmpro=atmpro))\n",
    "    \n",
    "    dcli = dcli['cool'].sel(i=1).drop('i').sum('band')\n",
    "    dcrd = dcrd['cool'].sum('band')\n",
    "    \n",
    "    dcli = dcli['coolrg'].to_dataframe()\n",
    "    dcrd = dcrd['coolrg'].to_dataframe()\n",
    "    \n",
    "    dcli = dcli.set_index('layer', append=True)\n",
    "    dcrd = dcrd.set_index('layer', append=True)\n",
    "    \n",
    "    ddif = dcli - dcrd\n",
    "    \n",
    "    df = pd.concat([dcrd, dcli, ddif], axis=1, keys=['CRD', 'CLIRAD', 'CLIRAD - CRD'])\n",
    "    return df\n",
    "\n",
    "\n",
    "def flux_tofile(atmpro=None):\n",
    "    tropopauses = {'mls': 40, 'saw': 45, 'trp': 37}\n",
    "    ilevels = [0, tropopauses[atmpro], -1]\n",
    "    \n",
    "    dcli = clirad_data_atm(params_atm=[subparam_atm_clirad(atmpro=atmpro)])\n",
    "    dcrd = crd_data_atm(params_atm=subparams_atm_lblnew(atmpro=atmpro))\n",
    "    \n",
    "    dcli = dcli['flux'].sel(i=1).drop('i').sum('band').isel(pressure=ilevels)\n",
    "    dcrd = dcrd['flux'].sum('band').isel(pressure=ilevels)\n",
    "    \n",
    "    dcli = dcli.to_dataframe()\n",
    "    dcrd = dcrd.to_dataframe()\n",
    "    \n",
    "    dcli = dcli.set_index('level', append=True)\n",
    "    dcrd = dcrd.set_index('level', append=True)\n",
    "    \n",
    "    ddif = dcli - dcrd\n",
    "    \n",
    "    df = pd.concat([dcrd, dcli, ddif], axis=1, keys=['CRD', 'CLIRAD', 'CLIRAD - CRD'])\n",
    "    return df\n",
    "\n",
    "\n",
    "def script_tofile():\n",
    "    fname = f'results_{MOL}atm_cliradsinglerun.xlsx'\n",
    "    writer = pd.ExcelWriter(fname)\n",
    "    for atmpro in ('mls', 'saw', 'trp'):\n",
    "        dflux = flux_tofile(atmpro=atmpro)\n",
    "        dflux.to_excel(writer, f'flux {atmpro}')\n",
    "        \n",
    "        dcool = cool_tofile(atmpro=atmpro)\n",
    "        dcool.to_excel(writer, f'cool {atmpro}')\n",
    "        \n",
    "    html = f'Download: <a href=\"./{fname}\">{fname}</a>'\n",
    "    show_html(html) "
   ]
  },
  {
   "cell_type": "code",
   "execution_count": 25,
   "metadata": {
    "scrolled": false
   },
   "outputs": [],
   "source": [
    "def script():\n",
    "    \n",
    "    d_atm = {'mls': 'mid-latitude summer', 'saw': 'sub-arctic winter', 'trp': 'tropical'}\n",
    "    \n",
    "    s_makeup = 'Makeup of atmosphere.'\n",
    "    s_atmpro = '# {}'\n",
    "    s_cool = 'Cooling rates. {}.'\n",
    "    s_flux = 'Fluxes. {}.'\n",
    "    \n",
    "    atmpros = ['mls', 'saw', 'trp']\n",
    "    \n",
    "    # TOC\n",
    "    show_markdown('### Table of Contents')\n",
    "    show_html(getHTML_hrefanchor(s_makeup))\n",
    "    for atmpro in atmpros:\n",
    "        show_markdown('**' + d_atm[atmpro] + '**')\n",
    "        show_html(getHTML_hrefanchor(s_cool.format(atmpro)))\n",
    "        show_html(getHTML_hrefanchor(s_flux.format(atmpro)))\n",
    "\n",
    "        \n",
    "    # Atmosphere makeup\n",
    "    show_html(getHTML_idanchor(s_makeup))\n",
    "    show_markdown(getMarkdown_sectitle(s_makeup))\n",
    "    show_makeup()\n",
    "        \n",
    "    for atmpro in atmpros:\n",
    "        dcrd, dcli = DCRD[atmpro], DCLI[atmpro]\n",
    "        show_html(getHTML_idanchor(s_cool.format(atmpro)))\n",
    "        show_markdown(getMarkdown_sectitle(s_cool.format(atmpro)))\n",
    "        show_cool(dcrd, dcli, atmpro=atmpro)\n",
    "        show_html(getHTML_idanchor(s_flux.format(atmpro)))\n",
    "        show_markdown(getMarkdown_sectitle(s_flux.format(atmpro)))\n",
    "        show_hist_flux(dcrd, dcli, atmpro=atmpro)\n",
    "        show_tb_flux(dcrd, dcli, atmpro=atmpro)\n",
    "    \n",
    "    #script_tofile()"
   ]
  },
  {
   "cell_type": "markdown",
   "metadata": {},
   "source": [
    "## Analysis Result"
   ]
  },
  {
   "cell_type": "code",
   "execution_count": 26,
   "metadata": {
    "scrolled": false
   },
   "outputs": [
    {
     "data": {
      "text/markdown": [
       "### Table of Contents"
      ],
      "text/plain": [
       "<IPython.core.display.Markdown object>"
      ]
     },
     "metadata": {},
     "output_type": "display_data"
    },
    {
     "data": {
      "text/html": [
       "<a href=\"#Makeup_of_atmosphere.\">Makeup of atmosphere.</a>"
      ],
      "text/plain": [
       "<IPython.core.display.HTML object>"
      ]
     },
     "metadata": {},
     "output_type": "display_data"
    },
    {
     "data": {
      "text/markdown": [
       "**mid-latitude summer**"
      ],
      "text/plain": [
       "<IPython.core.display.Markdown object>"
      ]
     },
     "metadata": {},
     "output_type": "display_data"
    },
    {
     "data": {
      "text/html": [
       "<a href=\"#Cooling_rates._mls.\">Cooling rates. mls.</a>"
      ],
      "text/plain": [
       "<IPython.core.display.HTML object>"
      ]
     },
     "metadata": {},
     "output_type": "display_data"
    },
    {
     "data": {
      "text/html": [
       "<a href=\"#Fluxes._mls.\">Fluxes. mls.</a>"
      ],
      "text/plain": [
       "<IPython.core.display.HTML object>"
      ]
     },
     "metadata": {},
     "output_type": "display_data"
    },
    {
     "data": {
      "text/markdown": [
       "**sub-arctic winter**"
      ],
      "text/plain": [
       "<IPython.core.display.Markdown object>"
      ]
     },
     "metadata": {},
     "output_type": "display_data"
    },
    {
     "data": {
      "text/html": [
       "<a href=\"#Cooling_rates._saw.\">Cooling rates. saw.</a>"
      ],
      "text/plain": [
       "<IPython.core.display.HTML object>"
      ]
     },
     "metadata": {},
     "output_type": "display_data"
    },
    {
     "data": {
      "text/html": [
       "<a href=\"#Fluxes._saw.\">Fluxes. saw.</a>"
      ],
      "text/plain": [
       "<IPython.core.display.HTML object>"
      ]
     },
     "metadata": {},
     "output_type": "display_data"
    },
    {
     "data": {
      "text/markdown": [
       "**tropical**"
      ],
      "text/plain": [
       "<IPython.core.display.Markdown object>"
      ]
     },
     "metadata": {},
     "output_type": "display_data"
    },
    {
     "data": {
      "text/html": [
       "<a href=\"#Cooling_rates._trp.\">Cooling rates. trp.</a>"
      ],
      "text/plain": [
       "<IPython.core.display.HTML object>"
      ]
     },
     "metadata": {},
     "output_type": "display_data"
    },
    {
     "data": {
      "text/html": [
       "<a href=\"#Fluxes._trp.\">Fluxes. trp.</a>"
      ],
      "text/plain": [
       "<IPython.core.display.HTML object>"
      ]
     },
     "metadata": {},
     "output_type": "display_data"
    },
    {
     "data": {
      "text/html": [
       "<a id=\"Makeup_of_atmosphere.\"></a>"
      ],
      "text/plain": [
       "<IPython.core.display.HTML object>"
      ]
     },
     "metadata": {},
     "output_type": "display_data"
    },
    {
     "data": {
      "text/markdown": [
       "# Makeup of atmosphere."
      ],
      "text/plain": [
       "<IPython.core.display.Markdown object>"
      ]
     },
     "metadata": {},
     "output_type": "display_data"
    },
    {
     "data": {
      "text/html": [
       "<div>\n",
       "<style scoped>\n",
       "    .dataframe tbody tr th:only-of-type {\n",
       "        vertical-align: middle;\n",
       "    }\n",
       "\n",
       "    .dataframe tbody tr th {\n",
       "        vertical-align: top;\n",
       "    }\n",
       "\n",
       "    .dataframe thead th {\n",
       "        text-align: right;\n",
       "    }\n",
       "</style>\n",
       "<table border=\"1\" class=\"dataframe\">\n",
       "  <thead>\n",
       "    <tr style=\"text-align: right;\">\n",
       "      <th>clirad band</th>\n",
       "      <th>1</th>\n",
       "      <th>2</th>\n",
       "      <th>3</th>\n",
       "      <th>4</th>\n",
       "      <th>5</th>\n",
       "      <th>6</th>\n",
       "      <th>7</th>\n",
       "      <th>8</th>\n",
       "      <th>9</th>\n",
       "      <th>10</th>\n",
       "      <th>11</th>\n",
       "    </tr>\n",
       "    <tr>\n",
       "      <th>molecule</th>\n",
       "      <th></th>\n",
       "      <th></th>\n",
       "      <th></th>\n",
       "      <th></th>\n",
       "      <th></th>\n",
       "      <th></th>\n",
       "      <th></th>\n",
       "      <th></th>\n",
       "      <th></th>\n",
       "      <th></th>\n",
       "      <th></th>\n",
       "    </tr>\n",
       "  </thead>\n",
       "  <tbody>\n",
       "    <tr>\n",
       "      <th>h2o</th>\n",
       "      <td>atmpro</td>\n",
       "      <td>atmpro</td>\n",
       "      <td>atmpro</td>\n",
       "      <td>atmpro</td>\n",
       "      <td>atmpro</td>\n",
       "      <td>atmpro</td>\n",
       "      <td>atmpro</td>\n",
       "      <td>atmpro</td>\n",
       "      <td>atmpro</td>\n",
       "      <td>atmpro</td>\n",
       "      <td>atmpro</td>\n",
       "    </tr>\n",
       "  </tbody>\n",
       "</table>\n",
       "</div>"
      ],
      "text/plain": [
       "clirad band      1       2       3       4       5       6       7       8   \\\n",
       "molecule                                                                      \n",
       "h2o          atmpro  atmpro  atmpro  atmpro  atmpro  atmpro  atmpro  atmpro   \n",
       "\n",
       "clirad band      9       10      11  \n",
       "molecule                             \n",
       "h2o          atmpro  atmpro  atmpro  "
      ]
     },
     "metadata": {},
     "output_type": "display_data"
    },
    {
     "data": {
      "text/markdown": [
       "*TABLE.* Non-grey absorbers in the atmosphere."
      ],
      "text/plain": [
       "<IPython.core.display.Markdown object>"
      ]
     },
     "metadata": {},
     "output_type": "display_data"
    },
    {
     "data": {
      "text/html": [
       "<a id=\"Cooling_rates._mls.\"></a>"
      ],
      "text/plain": [
       "<IPython.core.display.HTML object>"
      ]
     },
     "metadata": {},
     "output_type": "display_data"
    },
    {
     "data": {
      "text/markdown": [
       "# Cooling rates. mls."
      ],
      "text/plain": [
       "<IPython.core.display.Markdown object>"
      ]
     },
     "metadata": {},
     "output_type": "display_data"
    },
    {
     "data": {
      "text/html": [
       "\n",
       "<div class=\"bk-root\">\n",
       "    <div class=\"bk-plotdiv\" id=\"128cc830-c577-4a5d-bdb4-7fe8f2d46baf\"></div>\n",
       "</div>"
      ]
     },
     "metadata": {},
     "output_type": "display_data"
    },
    {
     "data": {
      "application/javascript": [
       "(function(root) {\n",
       "  function embed_document(root) {\n",
       "    \n",
       "  var docs_json = {\"f9fcddee-1b0f-4fbe-a315-3cc973349fe1\":{\"roots\":{\"references\":[{\"attributes\":{\"callback\":null,\"data\":{\"x\":{\"__ndarray__\":\"MlTLxtgzGkD+MP3HkEYUQFWrapbPMRJAS2RsoDoSEEDBJr0fW/YLQDXKk7hxAghAUib2ZOxgBEBSf6gO3BgBQKQqGVnpT/w/YMIG/GMV9z/kWLgrlnryP8OK3ZSk4uw/7HvpX4295T/uaFn6Y/fdP0iouw/EdtQ/unxU3WXa1D8C+tQVy4XaP2T7ecPfdt8/IX0Co0Bq4j8gxjOxZ8PlP/5j0dgpSuo/1ETtqdCT8D9MMxROiD30P9/FpZliavM/7PnayPz47j/hsl10vnPpPzTUqNgwAOY/eh3QNK6a4z8YsCFZ6OPhP6z1NtAJg+A/WVWhMIov3j/pXGOXChPbP44LipRVn9g/6sYzaUX61j8eNZ/6CAjVP3+ucG6YrNI/l2IRqQIj0T9XbVpx+GfQPwKxkrF2E84/gnBbyL2GzD/q2eK1z+XWP1u3wMB3Pe0/kUQZ8veu+D8vUjuhlwwAQJexbF7Z1AFAPleG2sMrAECAF8GvXqr9P3EPP7CDhfw/8AfBhqoK/D+4uLy0wdz7P2OpHx1/y/s//CkhJENN+z9K/FJMg+b6P8kQ699czvo/rG6e+Hf2+j97ktpcX1X7P0WkVFMM6/s/nZAGTXm+/T8MKWQrbDX/Pz8Ai1ktEABAXS6QqcZPAEC56xoji2IAQDz9GxZFWABABZ/s5qA+AEBe5a+GDCIAQP63encFEQBAiuPLD4kNAEC+dQIBm/T/P/tY/MRWVv8/0M6CMgs5/j+lfXz+h/38P4jX1tqm/vs/Nfk3/Vtk+z+1ZH6DbmL7PwPpUrgCcABA\",\"dtype\":\"float64\",\"shape\":[75]},\"y\":{\"__ndarray__\":\"GhExyth1ND/Sv8nbtpRIP2vylNV0PVE/aTum7souWD/At0SJ8fVgPw3Iuahxymc/MSNhhJWvcD/bTfBN02d3P2zb5nxnaoA/CD5h5MAGhz8NmeH1TyaQP+zrCsc9p5Y/LbKd76fGnz/bLW5ISEmmPww9YvTcQq8/JV2OstnstT8Er5Y7M8G+P0c+r3jqkcU/5h99k6ZBzj88bCIzFzjVP4enV8oyxN0//yH99nXg5D8qOpLLf0jtP5kqGJXUifQ/c9cS8kHP/D+/DpwzojQEQIEmwoanVwxA4lgXt9HgE0BSSZ2AJuIbQAMJih9jjiNA5q4l5INuK0AwTKYKRj0zQNv5fmq8/DpAaCJseHrtQkB/+zpwzoxKQM3MzMzMeFJAZmZmZmZqWEAAAAAAAFxeQM3MzMzMJmJAmpmZmZkfZUBmZmZmZhhoQDMzMzMzEWtAAAAAAAAKbkBmZmZmZoFwQM3MzMzM/XFAMzMzMzN6c0CamZmZmfZ0QAAAAAAAc3ZAZmZmZmbvd0DNzMzMzGt5QDMzMzMz6HpAmpmZmZlkfEAAAAAAAOF9QGZmZmZmXX9AZmZmZuZsgECamZmZGSuBQM3MzMxM6YFAAAAAAICngkAzMzMzs2WDQGZmZmbmI4RAmpmZmRnihEDNzMzMTKCFQAAAAACAXoZAMzMzM7Mch0BmZmZm5tqHQJqZmZkZmYhAzczMzExXiUAAAAAAgBWKQDMzMzOz04pAZmZmZuaRi0CamZmZGVCMQM3MzMxMDo1AAAAAAIDMjUAzMzMzs4qOQGZmZmbmSI9A\",\"dtype\":\"float64\",\"shape\":[75]}},\"selected\":{\"id\":\"e6e09090-086d-42a1-9792-c9c832dde2a9\",\"type\":\"Selection\"},\"selection_policy\":{\"id\":\"8da9e3c7-bcd2-4810-9052-8cb80ccfc49e\",\"type\":\"UnionRenderers\"}},\"id\":\"7c76dab9-26bd-489b-ac1a-74b88adb7ad2\",\"type\":\"ColumnDataSource\"},{\"attributes\":{\"axis_label\":\"cooling rate [K/day]\",\"formatter\":{\"id\":\"28b67a4e-49d3-4f87-95ae-3c201c0a4744\",\"type\":\"BasicTickFormatter\"},\"plot\":{\"id\":\"92b8b61e-4ad3-4a2f-b436-98fa0c7671a1\",\"subtype\":\"Figure\",\"type\":\"Plot\"},\"ticker\":{\"id\":\"e911dcef-e34f-4334-989d-250871f1eb62\",\"type\":\"BasicTicker\"}},\"id\":\"384e030a-3b03-4e6d-98d6-6b81cb84d3e9\",\"type\":\"LinearAxis\"},{\"attributes\":{\"data_source\":{\"id\":\"1bceff71-59a8-466a-b3db-53f7b3ae1119\",\"type\":\"ColumnDataSource\"},\"glyph\":{\"id\":\"0c8bf6b6-2eef-48cd-8377-5b3d15d09247\",\"type\":\"Circle\"},\"hover_glyph\":null,\"muted_glyph\":null,\"nonselection_glyph\":{\"id\":\"12eb7ab6-7856-4e9b-8128-b5af832f04cc\",\"type\":\"Circle\"},\"selection_glyph\":null,\"view\":{\"id\":\"3f74f7d4-3529-4fb6-a103-5b61f7cec223\",\"type\":\"CDSView\"}},\"id\":\"65d99c79-4f33-4900-84fa-f04e2feb6b11\",\"type\":\"GlyphRenderer\"},{\"attributes\":{},\"id\":\"407bd0f4-2032-4291-bf11-25abe304687a\",\"type\":\"PanTool\"},{\"attributes\":{\"plot\":{\"id\":\"92b8b61e-4ad3-4a2f-b436-98fa0c7671a1\",\"subtype\":\"Figure\",\"type\":\"Plot\"},\"ticker\":{\"id\":\"e911dcef-e34f-4334-989d-250871f1eb62\",\"type\":\"BasicTicker\"}},\"id\":\"d2414ee0-9d7f-47dc-9313-217247bf3991\",\"type\":\"Grid\"},{\"attributes\":{\"line_alpha\":0.6,\"line_color\":\"#e41a1c\",\"line_dash\":[6],\"line_width\":5,\"x\":{\"field\":\"x\"},\"y\":{\"field\":\"y\"}},\"id\":\"0b8dab47-bc44-4778-a15b-363b7a1e8d6e\",\"type\":\"Line\"},{\"attributes\":{},\"id\":\"1e430932-6814-4312-9e45-6073e00e7338\",\"type\":\"LinearScale\"},{\"attributes\":{\"line_alpha\":0.6,\"line_color\":\"#e41a1c\",\"line_dash\":[6],\"line_width\":5,\"x\":{\"field\":\"x\"},\"y\":{\"field\":\"y\"}},\"id\":\"db51a4dd-f32c-4331-90dc-1f80cae3baa5\",\"type\":\"Line\"},{\"attributes\":{},\"id\":\"ae25f4c9-8533-46a9-a262-771482c7ac19\",\"type\":\"UnionRenderers\"},{\"attributes\":{},\"id\":\"19670fc3-c3c0-48c4-b73c-ade66b2c67e8\",\"type\":\"WheelZoomTool\"},{\"attributes\":{\"items\":[{\"id\":\"20c808d2-857a-4413-9afd-abe9e4827d1f\",\"type\":\"LegendItem\"},{\"id\":\"f2415503-a682-4d18-9638-a1273a3b36d0\",\"type\":\"LegendItem\"}],\"label_text_font_size\":{\"value\":\"8pt\"},\"location\":\"top_center\",\"orientation\":\"horizontal\",\"plot\":{\"id\":\"92b8b61e-4ad3-4a2f-b436-98fa0c7671a1\",\"subtype\":\"Figure\",\"type\":\"Plot\"}},\"id\":\"8ecf7be0-1eaf-4919-87d1-571dea155e38\",\"type\":\"Legend\"},{\"attributes\":{\"axis_label\":\"cooling rate [K/day]\",\"formatter\":{\"id\":\"0511b4ea-089c-4946-b84a-6b8bcb6b7c38\",\"type\":\"BasicTickFormatter\"},\"plot\":{\"id\":\"3526f719-37af-4924-8394-07af30524dc2\",\"subtype\":\"Figure\",\"type\":\"Plot\"},\"ticker\":{\"id\":\"552dba2d-31ef-49d1-8786-7a76dd4a0e9e\",\"type\":\"BasicTicker\"}},\"id\":\"a3d5dc6a-93cb-4043-ae4f-529aa1645ddc\",\"type\":\"LinearAxis\"},{\"attributes\":{\"label\":{\"value\":\"CRD\"},\"renderers\":[{\"id\":\"65d99c79-4f33-4900-84fa-f04e2feb6b11\",\"type\":\"GlyphRenderer\"},{\"id\":\"0e69ff10-7587-4ae9-b0a3-ed00ccf7a540\",\"type\":\"GlyphRenderer\"}]},\"id\":\"7b26f26c-14e8-4efd-aad7-e9a07c59650a\",\"type\":\"LegendItem\"},{\"attributes\":{\"source\":{\"id\":\"7523f64f-9c50-470d-a645-aab6a920708d\",\"type\":\"ColumnDataSource\"}},\"id\":\"6debb58c-5b94-4c3f-a2fa-eb3b61dc37f8\",\"type\":\"CDSView\"},{\"attributes\":{\"source\":{\"id\":\"7c76dab9-26bd-489b-ac1a-74b88adb7ad2\",\"type\":\"ColumnDataSource\"}},\"id\":\"f5b8f7b3-a936-4742-a463-41f6ba142fe2\",\"type\":\"CDSView\"},{\"attributes\":{\"callback\":null,\"end\":2.2491534495693686,\"start\":0.18638435696633102},\"id\":\"78e14199-c8c3-477f-90cd-3323bd7d697e\",\"type\":\"Range1d\"},{\"attributes\":{\"data_source\":{\"id\":\"7523f64f-9c50-470d-a645-aab6a920708d\",\"type\":\"ColumnDataSource\"},\"glyph\":{\"id\":\"0b8dab47-bc44-4778-a15b-363b7a1e8d6e\",\"type\":\"Line\"},\"hover_glyph\":null,\"muted_glyph\":null,\"nonselection_glyph\":{\"id\":\"805a1233-6a97-4e80-91e7-7db8243d7e36\",\"type\":\"Line\"},\"selection_glyph\":null,\"view\":{\"id\":\"6debb58c-5b94-4c3f-a2fa-eb3b61dc37f8\",\"type\":\"CDSView\"}},\"id\":\"a5548858-33e5-4306-9aef-d9e11316fb2c\",\"type\":\"GlyphRenderer\"},{\"attributes\":{\"dimension\":1,\"plot\":{\"id\":\"92b8b61e-4ad3-4a2f-b436-98fa0c7671a1\",\"subtype\":\"Figure\",\"type\":\"Plot\"},\"ticker\":{\"id\":\"b04d666f-440b-4902-a1af-e9641726ee1c\",\"type\":\"LogTicker\"}},\"id\":\"14bf1758-7ee7-40fa-94c3-8b02ec895b7b\",\"type\":\"Grid\"},{\"attributes\":{\"data_source\":{\"id\":\"6edffe57-240e-482f-8a76-26d44317faff\",\"type\":\"ColumnDataSource\"},\"glyph\":{\"id\":\"2a46fee1-ade5-43cf-8db7-b8e16f6379d1\",\"type\":\"Circle\"},\"hover_glyph\":null,\"muted_glyph\":null,\"nonselection_glyph\":{\"id\":\"4c74a4e2-3a41-4312-9892-b9e4c2cec928\",\"type\":\"Circle\"},\"selection_glyph\":null,\"view\":{\"id\":\"f3e75d42-814a-45eb-a5de-bf785933cc02\",\"type\":\"CDSView\"}},\"id\":\"5a360a79-4dae-401b-8bd3-de3dc20fc898\",\"type\":\"GlyphRenderer\"},{\"attributes\":{},\"id\":\"e911dcef-e34f-4334-989d-250871f1eb62\",\"type\":\"BasicTicker\"},{\"attributes\":{\"axis_label\":\"pressure [mb]\",\"formatter\":{\"id\":\"499e1b17-058b-4358-807b-1fd24740216e\",\"type\":\"LogTickFormatter\"},\"plot\":{\"id\":\"92b8b61e-4ad3-4a2f-b436-98fa0c7671a1\",\"subtype\":\"Figure\",\"type\":\"Plot\"},\"ticker\":{\"id\":\"b04d666f-440b-4902-a1af-e9641726ee1c\",\"type\":\"LogTicker\"}},\"id\":\"37d1e440-6fc2-4dd1-97c6-24a6c6e5bc44\",\"type\":\"LogAxis\"},{\"attributes\":{\"callback\":null,\"data\":{\"x\":{\"__ndarray__\":\"MlTLxtgzGkD+MP3HkEYUQFWrapbPMRJAS2RsoDoSEEDBJr0fW/YLQDXKk7hxAghAUib2ZOxgBEBSf6gO3BgBQKQqGVnpT/w/YMIG/GMV9z/kWLgrlnryP8OK3ZSk4uw/7HvpX4295T/uaFn6Y/fdP0iouw/EdtQ/unxU3WXa1D8C+tQVy4XaP2T7ecPfdt8/IX0Co0Bq4j8gxjOxZ8PlP/5j0dgpSuo/1ETtqdCT8D9MMxROiD30P9/FpZliavM/7PnayPz47j/hsl10vnPpPzTUqNgwAOY/eh3QNK6a4z8YsCFZ6OPhP6z1NtAJg+A/WVWhMIov3j/pXGOXChPbP44LipRVn9g/6sYzaUX61j8eNZ/6CAjVP3+ucG6YrNI/l2IRqQIj0T9XbVpx+GfQPwKxkrF2E84/gnBbyL2GzD/q2eK1z+XWP1u3wMB3Pe0/kUQZ8veu+D8vUjuhlwwAQJexbF7Z1AFAPleG2sMrAECAF8GvXqr9P3EPP7CDhfw/8AfBhqoK/D+4uLy0wdz7P2OpHx1/y/s//CkhJENN+z9K/FJMg+b6P8kQ699czvo/rG6e+Hf2+j97ktpcX1X7P0WkVFMM6/s/nZAGTXm+/T8MKWQrbDX/Pz8Ai1ktEABAXS6QqcZPAEC56xoji2IAQDz9GxZFWABABZ/s5qA+AEBe5a+GDCIAQP63encFEQBAiuPLD4kNAEC+dQIBm/T/P/tY/MRWVv8/0M6CMgs5/j+lfXz+h/38P4jX1tqm/vs/Nfk3/Vtk+z+1ZH6DbmL7PwPpUrgCcABA\",\"dtype\":\"float64\",\"shape\":[75]},\"y\":{\"__ndarray__\":\"GhExyth1ND/Sv8nbtpRIP2vylNV0PVE/aTum7souWD/At0SJ8fVgPw3Iuahxymc/MSNhhJWvcD/bTfBN02d3P2zb5nxnaoA/CD5h5MAGhz8NmeH1TyaQP+zrCsc9p5Y/LbKd76fGnz/bLW5ISEmmPww9YvTcQq8/JV2OstnstT8Er5Y7M8G+P0c+r3jqkcU/5h99k6ZBzj88bCIzFzjVP4enV8oyxN0//yH99nXg5D8qOpLLf0jtP5kqGJXUifQ/c9cS8kHP/D+/DpwzojQEQIEmwoanVwxA4lgXt9HgE0BSSZ2AJuIbQAMJih9jjiNA5q4l5INuK0AwTKYKRj0zQNv5fmq8/DpAaCJseHrtQkB/+zpwzoxKQM3MzMzMeFJAZmZmZmZqWEAAAAAAAFxeQM3MzMzMJmJAmpmZmZkfZUBmZmZmZhhoQDMzMzMzEWtAAAAAAAAKbkBmZmZmZoFwQM3MzMzM/XFAMzMzMzN6c0CamZmZmfZ0QAAAAAAAc3ZAZmZmZmbvd0DNzMzMzGt5QDMzMzMz6HpAmpmZmZlkfEAAAAAAAOF9QGZmZmZmXX9AZmZmZuZsgECamZmZGSuBQM3MzMxM6YFAAAAAAICngkAzMzMzs2WDQGZmZmbmI4RAmpmZmRnihEDNzMzMTKCFQAAAAACAXoZAMzMzM7Mch0BmZmZm5tqHQJqZmZkZmYhAzczMzExXiUAAAAAAgBWKQDMzMzOz04pAZmZmZuaRi0CamZmZGVCMQM3MzMxMDo1AAAAAAIDMjUAzMzMzs4qOQGZmZmbmSI9A\",\"dtype\":\"float64\",\"shape\":[75]}},\"selected\":{\"id\":\"532a7d6a-2b40-4496-90f2-de9c3f417461\",\"type\":\"Selection\"},\"selection_policy\":{\"id\":\"84ca856d-e916-4282-b78d-be9d89f88ac3\",\"type\":\"UnionRenderers\"}},\"id\":\"f4c32f2f-e8b0-488f-b0ce-ba454f79d912\",\"type\":\"ColumnDataSource\"},{\"attributes\":{\"data_source\":{\"id\":\"83710daa-d197-412c-a313-2ec60c7d6220\",\"type\":\"ColumnDataSource\"},\"glyph\":{\"id\":\"db51a4dd-f32c-4331-90dc-1f80cae3baa5\",\"type\":\"Line\"},\"hover_glyph\":null,\"muted_glyph\":null,\"nonselection_glyph\":{\"id\":\"e9cfbc5b-f93a-4f51-8f35-6cce40eb79bf\",\"type\":\"Line\"},\"selection_glyph\":null,\"view\":{\"id\":\"ecb2b005-43f2-4439-bbbd-00ee9206105f\",\"type\":\"CDSView\"}},\"id\":\"d18e497b-fd16-42cd-9c25-c2504019a52b\",\"type\":\"GlyphRenderer\"},{\"attributes\":{},\"id\":\"a7be4b67-4434-4ef4-bd82-8ba541f7a50f\",\"type\":\"Selection\"},{\"attributes\":{\"data_source\":{\"id\":\"7c76dab9-26bd-489b-ac1a-74b88adb7ad2\",\"type\":\"ColumnDataSource\"},\"glyph\":{\"id\":\"ecd29822-a11c-48ac-b79b-546164219824\",\"type\":\"Line\"},\"hover_glyph\":null,\"muted_glyph\":null,\"nonselection_glyph\":{\"id\":\"9621de4f-3baf-469f-80bf-d46f25b95b40\",\"type\":\"Line\"},\"selection_glyph\":null,\"view\":{\"id\":\"f5b8f7b3-a936-4742-a463-41f6ba142fe2\",\"type\":\"CDSView\"}},\"id\":\"0e69ff10-7587-4ae9-b0a3-ed00ccf7a540\",\"type\":\"GlyphRenderer\"},{\"attributes\":{\"line_alpha\":0.1,\"line_color\":\"#1f77b4\",\"line_width\":1.5,\"x\":{\"field\":\"x\"},\"y\":{\"field\":\"y\"}},\"id\":\"9621de4f-3baf-469f-80bf-d46f25b95b40\",\"type\":\"Line\"},{\"attributes\":{\"fill_alpha\":{\"value\":0.7},\"fill_color\":{\"value\":\"#4daf4a\"},\"line_alpha\":{\"value\":0.7},\"line_color\":{\"value\":\"#4daf4a\"},\"x\":{\"field\":\"x\"},\"y\":{\"field\":\"y\"}},\"id\":\"2a46fee1-ade5-43cf-8db7-b8e16f6379d1\",\"type\":\"Circle\"},{\"attributes\":{\"overlay\":{\"id\":\"ed8aee5c-e805-4ab3-8520-a76a1b0360d9\",\"type\":\"BoxAnnotation\"}},\"id\":\"f8de0501-a9d5-4f33-8f44-5d77b757a568\",\"type\":\"BoxZoomTool\"},{\"attributes\":{\"source\":{\"id\":\"6edffe57-240e-482f-8a76-26d44317faff\",\"type\":\"ColumnDataSource\"}},\"id\":\"f3e75d42-814a-45eb-a5de-bf785933cc02\",\"type\":\"CDSView\"},{\"attributes\":{},\"id\":\"395d760a-d540-4584-b499-18739170d59b\",\"type\":\"LinearScale\"},{\"attributes\":{\"callback\":null,\"data\":{\"x\":{\"__ndarray__\":\"MifBicXGDkDbDhwrOKwMQJsq7tzMpgtAk65sOekzCkAQdoOJvjoIQCapULRUtwVA9JyutT28AkD75SltqAL/P3Ah4AHOu/g/lFXGZXZt8z/4V4YW5Q7vP7BLZmxAiuk/D3nkeI/j5D9GlIN/N0TfPyy51bZ6GtY/K1XhAQmZ1D8MOeRwpU/YPwSRuVR+79w/UiJC9OeE4T+Fj6QL/CvlP9dHd/1bnOk/SFElIREq8D+bzbeRuBn0P+6YpMcmB/Q/PJm9QIaq8D9IWr42FJLrP8izsdLRh+c/hTMLU6vv4z8fwLS53HzhP2+SAtowNOA/nh3kElXV3T8iJUEhOZfaP+Pdc9jQt9g/Ko7su0gg1z/WQSz2WabUP/Cp1KgK19E/yxWyA4OCzz+Bx8IDvrTNP5BVWdSpY8s/te3TBh5yyj/bLy+te9rVP/W6MV0Ij+w/RGv/hS4/+D+jpG1q1hUAQMXTMVmFYQFAEOwk6x5I/z8QiTN0cz79P4CXG7lI8fs/a2c6PTcm+z/DSfl2IPj6PxbUSEUdJvs/o+I1kBDZ+j8Y2uODKp76Py41kqpMjfo/17wJAWK2+j/aUbtnLQX7PyxBKVhvlfs/F6rxQlmE/T+oqNhiwET/PxDDmgy/SgBAE1AVjd2wAEBjfwR1troAQE3Onv2gmgBAk1KYjOZgAED73pOAOSsAQOMtXWY0LABA11YZsUJKAEBD0Q5IWlcAQJCHfJ/DNwBAfk/BXPFq/z+/K4e4Zzn+P+7IByb/R/0/bhF68LGU/D96kDrTpr/8P8W+Z5tQLQFA\",\"dtype\":\"float64\",\"shape\":[75]},\"y\":{\"__ndarray__\":\"GhExyth1ND/Sv8nbtpRIP2vylNV0PVE/aTum7souWD/At0SJ8fVgPw3Iuahxymc/MSNhhJWvcD/bTfBN02d3P2zb5nxnaoA/CD5h5MAGhz8NmeH1TyaQP+zrCsc9p5Y/LbKd76fGnz/bLW5ISEmmPww9YvTcQq8/JV2OstnstT8Er5Y7M8G+P0c+r3jqkcU/5h99k6ZBzj88bCIzFzjVP4enV8oyxN0//yH99nXg5D8qOpLLf0jtP5kqGJXUifQ/c9cS8kHP/D+/DpwzojQEQIEmwoanVwxA4lgXt9HgE0BSSZ2AJuIbQAMJih9jjiNA5q4l5INuK0AwTKYKRj0zQNv5fmq8/DpAaCJseHrtQkB/+zpwzoxKQM3MzMzMeFJAZmZmZmZqWEAAAAAAAFxeQM3MzMzMJmJAmpmZmZkfZUBmZmZmZhhoQDMzMzMzEWtAAAAAAAAKbkBmZmZmZoFwQM3MzMzM/XFAMzMzMzN6c0CamZmZmfZ0QAAAAAAAc3ZAZmZmZmbvd0DNzMzMzGt5QDMzMzMz6HpAmpmZmZlkfEAAAAAAAOF9QGZmZmZmXX9AZmZmZuZsgECamZmZGSuBQM3MzMxM6YFAAAAAAICngkAzMzMzs2WDQGZmZmbmI4RAmpmZmRnihEDNzMzMTKCFQAAAAACAXoZAMzMzM7Mch0BmZmZm5tqHQJqZmZkZmYhAzczMzExXiUAAAAAAgBWKQDMzMzOz04pAZmZmZuaRi0CamZmZGVCMQM3MzMxMDo1AAAAAAIDMjUAzMzMzs4qOQGZmZmbmSI9A\",\"dtype\":\"float64\",\"shape\":[75]}},\"selected\":{\"id\":\"8839b7cc-4eb6-4987-8f9a-7ac0264e896c\",\"type\":\"Selection\"},\"selection_policy\":{\"id\":\"459680b8-860d-4a09-97f5-c1c849f629fe\",\"type\":\"UnionRenderers\"}},\"id\":\"83710daa-d197-412c-a313-2ec60c7d6220\",\"type\":\"ColumnDataSource\"},{\"attributes\":{\"callback\":null,\"end\":0.01,\"start\":1020},\"id\":\"035f66b0-1a3b-4dc3-9a89-c56ec25a219c\",\"type\":\"Range1d\"},{\"attributes\":{\"active_drag\":\"auto\",\"active_inspect\":\"auto\",\"active_scroll\":\"auto\",\"active_tap\":\"auto\",\"tools\":[{\"id\":\"389ff223-6a7d-436d-8662-bdfd2ed97680\",\"type\":\"PanTool\"},{\"id\":\"8657edfc-ae48-410e-b3ce-dedea371a2c1\",\"type\":\"WheelZoomTool\"},{\"id\":\"8edfc0de-798a-4acc-8610-0c2180d95312\",\"type\":\"BoxZoomTool\"},{\"id\":\"c8a244b3-24a1-492b-80de-93792a686c54\",\"type\":\"SaveTool\"},{\"id\":\"27fcfe06-b1fd-4d6e-ac7d-9d1622a1143b\",\"type\":\"ResetTool\"},{\"id\":\"5e6d2aaa-94b4-4bea-a2e7-027fc3525af5\",\"type\":\"HelpTool\"}]},\"id\":\"716c51f2-fbc7-4c5f-84c2-55e5b73d1855\",\"type\":\"Toolbar\"},{\"attributes\":{},\"id\":\"c7f12380-42bf-45e8-879b-1c45fec684fd\",\"type\":\"HelpTool\"},{\"attributes\":{\"callback\":null,\"end\":1.4550834529777343,\"start\":0.19424643614050563},\"id\":\"2a32e034-e93e-4eaa-9760-281c46f0bef2\",\"type\":\"Range1d\"},{\"attributes\":{\"num_minor_ticks\":10},\"id\":\"b04d666f-440b-4902-a1af-e9641726ee1c\",\"type\":\"LogTicker\"},{\"attributes\":{\"line_alpha\":0.1,\"line_color\":\"#1f77b4\",\"line_dash\":[6],\"line_width\":5,\"x\":{\"field\":\"x\"},\"y\":{\"field\":\"y\"}},\"id\":\"805a1233-6a97-4e80-91e7-7db8243d7e36\",\"type\":\"Line\"},{\"attributes\":{},\"id\":\"4b5150e6-73dd-4afb-b67c-964a96ce7ed4\",\"type\":\"Selection\"},{\"attributes\":{\"callback\":null,\"data\":{\"x\":{\"__ndarray__\":\"MifBicXGDkDbDhwrOKwMQJsq7tzMpgtAk65sOekzCkAQdoOJvjoIQCapULRUtwVA9JyutT28AkD75SltqAL/P3Ah4AHOu/g/lFXGZXZt8z/4V4YW5Q7vP7BLZmxAiuk/D3nkeI/j5D9GlIN/N0TfPyy51bZ6GtY/K1XhAQmZ1D8MOeRwpU/YPwSRuVR+79w/UiJC9OeE4T+Fj6QL/CvlP9dHd/1bnOk/SFElIREq8D+bzbeRuBn0P+6YpMcmB/Q/PJm9QIaq8D9IWr42FJLrP8izsdLRh+c/hTMLU6vv4z8fwLS53HzhP2+SAtowNOA/nh3kElXV3T8iJUEhOZfaP+Pdc9jQt9g/Ko7su0gg1z/WQSz2WabUP/Cp1KgK19E/yxWyA4OCzz+Bx8IDvrTNP5BVWdSpY8s/te3TBh5yyj/bLy+te9rVP/W6MV0Ij+w/RGv/hS4/+D+jpG1q1hUAQMXTMVmFYQFAEOwk6x5I/z8QiTN0cz79P4CXG7lI8fs/a2c6PTcm+z/DSfl2IPj6PxbUSEUdJvs/o+I1kBDZ+j8Y2uODKp76Py41kqpMjfo/17wJAWK2+j/aUbtnLQX7PyxBKVhvlfs/F6rxQlmE/T+oqNhiwET/PxDDmgy/SgBAE1AVjd2wAEBjfwR1troAQE3Onv2gmgBAk1KYjOZgAED73pOAOSsAQOMtXWY0LABA11YZsUJKAEBD0Q5IWlcAQJCHfJ/DNwBAfk/BXPFq/z+/K4e4Zzn+P+7IByb/R/0/bhF68LGU/D96kDrTpr/8P8W+Z5tQLQFA\",\"dtype\":\"float64\",\"shape\":[75]},\"y\":{\"__ndarray__\":\"GhExyth1ND/Sv8nbtpRIP2vylNV0PVE/aTum7souWD/At0SJ8fVgPw3Iuahxymc/MSNhhJWvcD/bTfBN02d3P2zb5nxnaoA/CD5h5MAGhz8NmeH1TyaQP+zrCsc9p5Y/LbKd76fGnz/bLW5ISEmmPww9YvTcQq8/JV2OstnstT8Er5Y7M8G+P0c+r3jqkcU/5h99k6ZBzj88bCIzFzjVP4enV8oyxN0//yH99nXg5D8qOpLLf0jtP5kqGJXUifQ/c9cS8kHP/D+/DpwzojQEQIEmwoanVwxA4lgXt9HgE0BSSZ2AJuIbQAMJih9jjiNA5q4l5INuK0AwTKYKRj0zQNv5fmq8/DpAaCJseHrtQkB/+zpwzoxKQM3MzMzMeFJAZmZmZmZqWEAAAAAAAFxeQM3MzMzMJmJAmpmZmZkfZUBmZmZmZhhoQDMzMzMzEWtAAAAAAAAKbkBmZmZmZoFwQM3MzMzM/XFAMzMzMzN6c0CamZmZmfZ0QAAAAAAAc3ZAZmZmZmbvd0DNzMzMzGt5QDMzMzMz6HpAmpmZmZlkfEAAAAAAAOF9QGZmZmZmXX9AZmZmZuZsgECamZmZGSuBQM3MzMxM6YFAAAAAAICngkAzMzMzs2WDQGZmZmbmI4RAmpmZmRnihEDNzMzMTKCFQAAAAACAXoZAMzMzM7Mch0BmZmZm5tqHQJqZmZkZmYhAzczMzExXiUAAAAAAgBWKQDMzMzOz04pAZmZmZuaRi0CamZmZGVCMQM3MzMxMDo1AAAAAAIDMjUAzMzMzs4qOQGZmZmbmSI9A\",\"dtype\":\"float64\",\"shape\":[75]}},\"selected\":{\"id\":\"a7be4b67-4434-4ef4-bd82-8ba541f7a50f\",\"type\":\"Selection\"},\"selection_policy\":{\"id\":\"ae25f4c9-8533-46a9-a262-771482c7ac19\",\"type\":\"UnionRenderers\"}},\"id\":\"7523f64f-9c50-470d-a645-aab6a920708d\",\"type\":\"ColumnDataSource\"},{\"attributes\":{},\"id\":\"783f19c0-9b3d-4c9a-9ade-1fb3cf7c86ff\",\"type\":\"LinearScale\"},{\"attributes\":{},\"id\":\"7f93b991-54a6-4c7a-a145-b041f1304450\",\"type\":\"ResetTool\"},{\"attributes\":{\"bottom_units\":\"screen\",\"fill_alpha\":{\"value\":0.5},\"fill_color\":{\"value\":\"lightgrey\"},\"left_units\":\"screen\",\"level\":\"overlay\",\"line_alpha\":{\"value\":1.0},\"line_color\":{\"value\":\"black\"},\"line_dash\":[4,4],\"line_width\":{\"value\":2},\"plot\":null,\"render_mode\":\"css\",\"right_units\":\"screen\",\"top_units\":\"screen\"},\"id\":\"ed8aee5c-e805-4ab3-8520-a76a1b0360d9\",\"type\":\"BoxAnnotation\"},{\"attributes\":{\"line_color\":\"#4daf4a\",\"line_width\":1.5,\"x\":{\"field\":\"x\"},\"y\":{\"field\":\"y\"}},\"id\":\"ecd29822-a11c-48ac-b79b-546164219824\",\"type\":\"Line\"},{\"attributes\":{\"label\":{\"value\":\"CLIRAD\"},\"renderers\":[{\"id\":\"d18e497b-fd16-42cd-9c25-c2504019a52b\",\"type\":\"GlyphRenderer\"}]},\"id\":\"d08a6f07-ed02-449b-9c9a-5ea9008fdb97\",\"type\":\"LegendItem\"},{\"attributes\":{},\"id\":\"92e842f8-df2e-48e9-8013-8059e5f893f3\",\"type\":\"UnionRenderers\"},{\"attributes\":{\"items\":[{\"id\":\"d08a6f07-ed02-449b-9c9a-5ea9008fdb97\",\"type\":\"LegendItem\"},{\"id\":\"7b26f26c-14e8-4efd-aad7-e9a07c59650a\",\"type\":\"LegendItem\"}],\"label_text_font_size\":{\"value\":\"8pt\"},\"location\":\"top_center\",\"orientation\":\"horizontal\",\"plot\":{\"id\":\"3526f719-37af-4924-8394-07af30524dc2\",\"subtype\":\"Figure\",\"type\":\"Plot\"}},\"id\":\"4f3f34d6-eec4-46dc-8aad-20f2bdaab7d4\",\"type\":\"Legend\"},{\"attributes\":{},\"id\":\"096744bd-ad4d-4115-b6fd-6b60ccb927e7\",\"type\":\"LogScale\"},{\"attributes\":{},\"id\":\"62519aaf-229f-40f6-bf75-cadeabcb012e\",\"type\":\"SaveTool\"},{\"attributes\":{\"line_alpha\":0.1,\"line_color\":\"#1f77b4\",\"line_dash\":[6],\"line_width\":5,\"x\":{\"field\":\"x\"},\"y\":{\"field\":\"y\"}},\"id\":\"e9cfbc5b-f93a-4f51-8f35-6cce40eb79bf\",\"type\":\"Line\"},{\"attributes\":{\"line_alpha\":0.1,\"line_color\":\"#1f77b4\",\"line_width\":1.5,\"x\":{\"field\":\"x\"},\"y\":{\"field\":\"y\"}},\"id\":\"d269d0b4-0410-494e-b947-24c75a5a1be2\",\"type\":\"Line\"},{\"attributes\":{},\"id\":\"1841ce0f-01d9-4ed3-a7ae-2f6c04682c20\",\"type\":\"Selection\"},{\"attributes\":{},\"id\":\"27fcfe06-b1fd-4d6e-ac7d-9d1622a1143b\",\"type\":\"ResetTool\"},{\"attributes\":{\"label\":{\"value\":\"CRD\"},\"renderers\":[{\"id\":\"5a360a79-4dae-401b-8bd3-de3dc20fc898\",\"type\":\"GlyphRenderer\"},{\"id\":\"2978d08d-0599-4daa-a489-51450e663ada\",\"type\":\"GlyphRenderer\"}]},\"id\":\"f2415503-a682-4d18-9638-a1273a3b36d0\",\"type\":\"LegendItem\"},{\"attributes\":{\"bottom_units\":\"screen\",\"fill_alpha\":{\"value\":0.5},\"fill_color\":{\"value\":\"lightgrey\"},\"left_units\":\"screen\",\"level\":\"overlay\",\"line_alpha\":{\"value\":1.0},\"line_color\":{\"value\":\"black\"},\"line_dash\":[4,4],\"line_width\":{\"value\":2},\"plot\":null,\"render_mode\":\"css\",\"right_units\":\"screen\",\"top_units\":\"screen\"},\"id\":\"8a160702-5ed2-493e-b7b1-4115ed1888a0\",\"type\":\"BoxAnnotation\"},{\"attributes\":{\"callback\":null,\"end\":0.01,\"start\":1020},\"id\":\"d577b22e-fb20-4091-a0c7-fd5990f85b12\",\"type\":\"Range1d\"},{\"attributes\":{\"callback\":null,\"data\":{\"x\":{\"__ndarray__\":\"MoHVA+ygBcBCprzJ0sH3vx5Yzp+kefG/DGiwHTDC57+Ihc2x5Nzdv3gIGSLoWNK/4JV49OpKyr9IxTiBfXjJv6BJyLnaoMy/YGYDsmw/zb9AZ6kDHZnHv5j4uUMhw7q/oFug4Lw/m7+AtaJSOM2UP0AOoXFqO5o/wOPJ3DZXcL+wB4YnLbGhvwBTA3YLO6S/4FkL2BWrnL9g0+axdO2Sv+CEQ2u7uZW/AOP8MeJvmr+A2DIu3ueBv+Bh2r+FmKM/YMQBxX3gsj84OwUTrvKwP0D5jaAPeqg/wILFjkc/hT9A/jvb58KJv0DPGI09toO/wO5Nb0eNdr/A8Y2IXfR+vwBV0ulDe1g/AKBjXKkBYz8A0rwcwWt4v+CRgLO4sYq/GHuFcxIclr9omZD3ltmYv5DbyulmfpW/aBY8DP6kkL/woDqLQLWQv8CM33HszZW/QFN2Blvym78A6KRkkn1yP4B0t04B1ay/wCZ8noz2sL8AnGPjzvqavyD+buReh6K/oBDUMGmOrL+g3m24J5Ssv6Cp2vo6rKS/QNbR+qQMnb+AjMgbMhaSv8DmNlYNRJC/QHUs5X0FkL9AKNBHfQyUv0DG2Mo+Z5W/AENzCgUQjb8AOP/obqhuP4Bo4YfZSJ0/gG1I4bhFqD+A6mR61AqmP0BEtOD5lqA/AMfZ1dIikT8AOvPH81lyPwDldeLuLos/gKa5ptBcnj8AmWXjMUOnP1Biy58Hk7E/4Aroo2Iesz+g4aqg+72zP2AWD7OElbQ/kIMhNF8Fsz9QvML7hNO1P0C4mmK8qbc/\",\"dtype\":\"float64\",\"shape\":[75]},\"y\":{\"__ndarray__\":\"GhExyth1ND/Sv8nbtpRIP2vylNV0PVE/aTum7souWD/At0SJ8fVgPw3Iuahxymc/MSNhhJWvcD/bTfBN02d3P2zb5nxnaoA/CD5h5MAGhz8NmeH1TyaQP+zrCsc9p5Y/LbKd76fGnz/bLW5ISEmmPww9YvTcQq8/JV2OstnstT8Er5Y7M8G+P0c+r3jqkcU/5h99k6ZBzj88bCIzFzjVP4enV8oyxN0//yH99nXg5D8qOpLLf0jtP5kqGJXUifQ/c9cS8kHP/D+/DpwzojQEQIEmwoanVwxA4lgXt9HgE0BSSZ2AJuIbQAMJih9jjiNA5q4l5INuK0AwTKYKRj0zQNv5fmq8/DpAaCJseHrtQkB/+zpwzoxKQM3MzMzMeFJAZmZmZmZqWEAAAAAAAFxeQM3MzMzMJmJAmpmZmZkfZUBmZmZmZhhoQDMzMzMzEWtAAAAAAAAKbkBmZmZmZoFwQM3MzMzM/XFAMzMzMzN6c0CamZmZmfZ0QAAAAAAAc3ZAZmZmZmbvd0DNzMzMzGt5QDMzMzMz6HpAmpmZmZlkfEAAAAAAAOF9QGZmZmZmXX9AZmZmZuZsgECamZmZGSuBQM3MzMxM6YFAAAAAAICngkAzMzMzs2WDQGZmZmbmI4RAmpmZmRnihEDNzMzMTKCFQAAAAACAXoZAMzMzM7Mch0BmZmZm5tqHQJqZmZkZmYhAzczMzExXiUAAAAAAgBWKQDMzMzOz04pAZmZmZuaRi0CamZmZGVCMQM3MzMxMDo1AAAAAAIDMjUAzMzMzs4qOQGZmZmbmSI9A\",\"dtype\":\"float64\",\"shape\":[75]}},\"selected\":{\"id\":\"4274a71b-28a8-4a5a-b444-6809a5548b34\",\"type\":\"Selection\"},\"selection_policy\":{\"id\":\"9d7a4d5e-a401-450b-aa7c-e13fed9313c4\",\"type\":\"UnionRenderers\"}},\"id\":\"6434da97-7690-42a0-a35e-eada06470cf8\",\"type\":\"ColumnDataSource\"},{\"attributes\":{},\"id\":\"2188a743-9d43-4263-bb5b-a75dd8fa377b\",\"type\":\"LogScale\"},{\"attributes\":{\"axis_label\":\"pressure [mb]\",\"formatter\":{\"id\":\"334c9940-3cd0-4a9a-91cd-49513bddd418\",\"type\":\"LogTickFormatter\"},\"plot\":{\"id\":\"3b0118f2-d302-4f26-8bd3-8c459ae5ba5a\",\"subtype\":\"Figure\",\"type\":\"Plot\"},\"ticker\":{\"id\":\"2391d4b2-262f-4a6d-ab68-3847b652da97\",\"type\":\"LogTicker\"}},\"id\":\"f463f388-d794-4c89-b081-9fc6f9c0b93e\",\"type\":\"LogAxis\"},{\"attributes\":{\"tools\":[{\"id\":\"407bd0f4-2032-4291-bf11-25abe304687a\",\"type\":\"PanTool\"},{\"id\":\"19670fc3-c3c0-48c4-b73c-ade66b2c67e8\",\"type\":\"WheelZoomTool\"},{\"id\":\"f8de0501-a9d5-4f33-8f44-5d77b757a568\",\"type\":\"BoxZoomTool\"},{\"id\":\"62519aaf-229f-40f6-bf75-cadeabcb012e\",\"type\":\"SaveTool\"},{\"id\":\"7f93b991-54a6-4c7a-a145-b041f1304450\",\"type\":\"ResetTool\"},{\"id\":\"c7f12380-42bf-45e8-879b-1c45fec684fd\",\"type\":\"HelpTool\"},{\"id\":\"389ff223-6a7d-436d-8662-bdfd2ed97680\",\"type\":\"PanTool\"},{\"id\":\"8657edfc-ae48-410e-b3ce-dedea371a2c1\",\"type\":\"WheelZoomTool\"},{\"id\":\"8edfc0de-798a-4acc-8610-0c2180d95312\",\"type\":\"BoxZoomTool\"},{\"id\":\"c8a244b3-24a1-492b-80de-93792a686c54\",\"type\":\"SaveTool\"},{\"id\":\"27fcfe06-b1fd-4d6e-ac7d-9d1622a1143b\",\"type\":\"ResetTool\"},{\"id\":\"5e6d2aaa-94b4-4bea-a2e7-027fc3525af5\",\"type\":\"HelpTool\"},{\"id\":\"10e78de1-f5d7-4043-aa48-2d78ae527cba\",\"type\":\"PanTool\"},{\"id\":\"5820319b-1cd0-4b0a-aa22-56c58e47e04e\",\"type\":\"WheelZoomTool\"},{\"id\":\"3edcdd51-3c0a-43e6-93d6-14285a585eb8\",\"type\":\"BoxZoomTool\"},{\"id\":\"a36a9c47-7528-414e-9169-f27d3f668a67\",\"type\":\"SaveTool\"},{\"id\":\"49e4f035-4d52-45bb-9ba6-5f38db994c61\",\"type\":\"ResetTool\"},{\"id\":\"4c121c36-de9a-4251-a407-3f687ef59760\",\"type\":\"HelpTool\"}]},\"id\":\"68c85377-ed0b-4504-bcef-125779563a17\",\"type\":\"ProxyToolbar\"},{\"attributes\":{},\"id\":\"8f41a157-98a4-4123-b3b0-61aa871193f1\",\"type\":\"LinearScale\"},{\"attributes\":{\"callback\":null,\"data\":{\"x\":{\"__ndarray__\":\"MoHVA+ygBcBCprzJ0sH3vx5Yzp+kefG/DGiwHTDC57+Ihc2x5Nzdv3gIGSLoWNK/4JV49OpKyr9IxTiBfXjJv6BJyLnaoMy/YGYDsmw/zb9AZ6kDHZnHv5j4uUMhw7q/oFug4Lw/m7+AtaJSOM2UP0AOoXFqO5o/wOPJ3DZXcL+wB4YnLbGhvwBTA3YLO6S/4FkL2BWrnL9g0+axdO2Sv+CEQ2u7uZW/AOP8MeJvmr+A2DIu3ueBv+Bh2r+FmKM/YMQBxX3gsj84OwUTrvKwP0D5jaAPeqg/wILFjkc/hT9A/jvb58KJv0DPGI09toO/wO5Nb0eNdr/A8Y2IXfR+vwBV0ulDe1g/AKBjXKkBYz8A0rwcwWt4v+CRgLO4sYq/GHuFcxIclr9omZD3ltmYv5DbyulmfpW/aBY8DP6kkL/woDqLQLWQv8CM33HszZW/QFN2Blvym78A6KRkkn1yP4B0t04B1ay/wCZ8noz2sL8AnGPjzvqavyD+buReh6K/oBDUMGmOrL+g3m24J5Ssv6Cp2vo6rKS/QNbR+qQMnb+AjMgbMhaSv8DmNlYNRJC/QHUs5X0FkL9AKNBHfQyUv0DG2Mo+Z5W/AENzCgUQjb8AOP/obqhuP4Bo4YfZSJ0/gG1I4bhFqD+A6mR61AqmP0BEtOD5lqA/AMfZ1dIikT8AOvPH81lyPwDldeLuLos/gKa5ptBcnj8AmWXjMUOnP1Biy58Hk7E/4Aroo2Iesz+g4aqg+72zP2AWD7OElbQ/kIMhNF8Fsz9QvML7hNO1P0C4mmK8qbc/\",\"dtype\":\"float64\",\"shape\":[75]},\"y\":{\"__ndarray__\":\"GhExyth1ND/Sv8nbtpRIP2vylNV0PVE/aTum7souWD/At0SJ8fVgPw3Iuahxymc/MSNhhJWvcD/bTfBN02d3P2zb5nxnaoA/CD5h5MAGhz8NmeH1TyaQP+zrCsc9p5Y/LbKd76fGnz/bLW5ISEmmPww9YvTcQq8/JV2OstnstT8Er5Y7M8G+P0c+r3jqkcU/5h99k6ZBzj88bCIzFzjVP4enV8oyxN0//yH99nXg5D8qOpLLf0jtP5kqGJXUifQ/c9cS8kHP/D+/DpwzojQEQIEmwoanVwxA4lgXt9HgE0BSSZ2AJuIbQAMJih9jjiNA5q4l5INuK0AwTKYKRj0zQNv5fmq8/DpAaCJseHrtQkB/+zpwzoxKQM3MzMzMeFJAZmZmZmZqWEAAAAAAAFxeQM3MzMzMJmJAmpmZmZkfZUBmZmZmZhhoQDMzMzMzEWtAAAAAAAAKbkBmZmZmZoFwQM3MzMzM/XFAMzMzMzN6c0CamZmZmfZ0QAAAAAAAc3ZAZmZmZmbvd0DNzMzMzGt5QDMzMzMz6HpAmpmZmZlkfEAAAAAAAOF9QGZmZmZmXX9AZmZmZuZsgECamZmZGSuBQM3MzMxM6YFAAAAAAICngkAzMzMzs2WDQGZmZmbmI4RAmpmZmRnihEDNzMzMTKCFQAAAAACAXoZAMzMzM7Mch0BmZmZm5tqHQJqZmZkZmYhAzczMzExXiUAAAAAAgBWKQDMzMzOz04pAZmZmZuaRi0CamZmZGVCMQM3MzMxMDo1AAAAAAIDMjUAzMzMzs4qOQGZmZmbmSI9A\",\"dtype\":\"float64\",\"shape\":[75]}},\"selected\":{\"id\":\"18bbf309-3068-4806-8a50-533bf5ad8d46\",\"type\":\"Selection\"},\"selection_policy\":{\"id\":\"dcfd481e-8af4-4795-b0d7-b9451c8f5c3f\",\"type\":\"UnionRenderers\"}},\"id\":\"3937bc0e-50a6-4f84-8f57-0c8110ba4712\",\"type\":\"ColumnDataSource\"},{\"attributes\":{},\"id\":\"5820319b-1cd0-4b0a-aa22-56c58e47e04e\",\"type\":\"WheelZoomTool\"},{\"attributes\":{\"overlay\":{\"id\":\"8a160702-5ed2-493e-b7b1-4115ed1888a0\",\"type\":\"BoxAnnotation\"}},\"id\":\"8edfc0de-798a-4acc-8610-0c2180d95312\",\"type\":\"BoxZoomTool\"},{\"attributes\":{},\"id\":\"4c121c36-de9a-4251-a407-3f687ef59760\",\"type\":\"HelpTool\"},{\"attributes\":{\"axis_label\":\"cooling rate [K/day]\",\"formatter\":{\"id\":\"3facb176-5835-4378-a925-2a6318c907f4\",\"type\":\"BasicTickFormatter\"},\"plot\":{\"id\":\"3b0118f2-d302-4f26-8bd3-8c459ae5ba5a\",\"subtype\":\"Figure\",\"type\":\"Plot\"},\"ticker\":{\"id\":\"15b80f57-d215-4750-9d7a-666c17658353\",\"type\":\"BasicTicker\"}},\"id\":\"51543dcf-1895-4f3d-8c1b-daa1f9cd5560\",\"type\":\"LinearAxis\"},{\"attributes\":{\"items\":[{\"id\":\"f084a71f-55ab-4bf3-88f6-09430d0cbae2\",\"type\":\"LegendItem\"}],\"label_text_font_size\":{\"value\":\"8pt\"},\"location\":\"top_center\",\"orientation\":\"horizontal\",\"plot\":{\"id\":\"3b0118f2-d302-4f26-8bd3-8c459ae5ba5a\",\"subtype\":\"Figure\",\"type\":\"Plot\"}},\"id\":\"90205a82-006c-4ff7-96ea-91cc9d4ab7aa\",\"type\":\"Legend\"},{\"attributes\":{},\"id\":\"389ff223-6a7d-436d-8662-bdfd2ed97680\",\"type\":\"PanTool\"},{\"attributes\":{},\"id\":\"8839b7cc-4eb6-4987-8f9a-7ac0264e896c\",\"type\":\"Selection\"},{\"attributes\":{\"overlay\":{\"id\":\"2afe3ce9-b25a-4434-8e5a-783a5ed6879d\",\"type\":\"BoxAnnotation\"}},\"id\":\"3edcdd51-3c0a-43e6-93d6-14285a585eb8\",\"type\":\"BoxZoomTool\"},{\"attributes\":{\"plot\":{\"id\":\"3b0118f2-d302-4f26-8bd3-8c459ae5ba5a\",\"subtype\":\"Figure\",\"type\":\"Plot\"},\"ticker\":{\"id\":\"15b80f57-d215-4750-9d7a-666c17658353\",\"type\":\"BasicTicker\"}},\"id\":\"cdf15d93-aa6a-4729-9a22-9c8739378b09\",\"type\":\"Grid\"},{\"attributes\":{},\"id\":\"9d7a4d5e-a401-450b-aa7c-e13fed9313c4\",\"type\":\"UnionRenderers\"},{\"attributes\":{},\"id\":\"a36a9c47-7528-414e-9169-f27d3f668a67\",\"type\":\"SaveTool\"},{\"attributes\":{\"children\":[{\"id\":\"3526f719-37af-4924-8394-07af30524dc2\",\"subtype\":\"Figure\",\"type\":\"Plot\"},{\"id\":\"92b8b61e-4ad3-4a2f-b436-98fa0c7671a1\",\"subtype\":\"Figure\",\"type\":\"Plot\"},{\"id\":\"3b0118f2-d302-4f26-8bd3-8c459ae5ba5a\",\"subtype\":\"Figure\",\"type\":\"Plot\"}]},\"id\":\"84150568-5bf3-4a8c-8413-bc0096bcb12b\",\"type\":\"Row\"},{\"attributes\":{\"source\":{\"id\":\"f4c32f2f-e8b0-488f-b0ce-ba454f79d912\",\"type\":\"ColumnDataSource\"}},\"id\":\"3e6743f4-f1a8-4a59-acd3-390706db9db4\",\"type\":\"CDSView\"},{\"attributes\":{\"above\":[{\"id\":\"8ecf7be0-1eaf-4919-87d1-571dea155e38\",\"type\":\"Legend\"}],\"below\":[{\"id\":\"384e030a-3b03-4e6d-98d6-6b81cb84d3e9\",\"type\":\"LinearAxis\"}],\"left\":[{\"id\":\"37d1e440-6fc2-4dd1-97c6-24a6c6e5bc44\",\"type\":\"LogAxis\"}],\"plot_width\":300,\"renderers\":[{\"id\":\"384e030a-3b03-4e6d-98d6-6b81cb84d3e9\",\"type\":\"LinearAxis\"},{\"id\":\"d2414ee0-9d7f-47dc-9313-217247bf3991\",\"type\":\"Grid\"},{\"id\":\"37d1e440-6fc2-4dd1-97c6-24a6c6e5bc44\",\"type\":\"LogAxis\"},{\"id\":\"14bf1758-7ee7-40fa-94c3-8b02ec895b7b\",\"type\":\"Grid\"},{\"id\":\"8a160702-5ed2-493e-b7b1-4115ed1888a0\",\"type\":\"BoxAnnotation\"},{\"id\":\"a5548858-33e5-4306-9aef-d9e11316fb2c\",\"type\":\"GlyphRenderer\"},{\"id\":\"5a360a79-4dae-401b-8bd3-de3dc20fc898\",\"type\":\"GlyphRenderer\"},{\"id\":\"2978d08d-0599-4daa-a489-51450e663ada\",\"type\":\"GlyphRenderer\"},{\"id\":\"8ecf7be0-1eaf-4919-87d1-571dea155e38\",\"type\":\"Legend\"}],\"title\":{\"id\":\"1ccbecd8-1ce7-49d4-8ebe-1de1fa55a88c\",\"type\":\"Title\"},\"toolbar\":{\"id\":\"716c51f2-fbc7-4c5f-84c2-55e5b73d1855\",\"type\":\"Toolbar\"},\"toolbar_location\":null,\"x_range\":{\"id\":\"2a32e034-e93e-4eaa-9760-281c46f0bef2\",\"type\":\"Range1d\"},\"x_scale\":{\"id\":\"1e430932-6814-4312-9e45-6073e00e7338\",\"type\":\"LinearScale\"},\"y_range\":{\"id\":\"035f66b0-1a3b-4dc3-9a89-c56ec25a219c\",\"type\":\"Range1d\"},\"y_scale\":{\"id\":\"096744bd-ad4d-4115-b6fd-6b60ccb927e7\",\"type\":\"LogScale\"}},\"id\":\"92b8b61e-4ad3-4a2f-b436-98fa0c7671a1\",\"subtype\":\"Figure\",\"type\":\"Plot\"},{\"attributes\":{\"axis_label\":\"pressure [mb]\",\"formatter\":{\"id\":\"cc46c751-b32d-4717-ab97-0abe70784517\",\"type\":\"BasicTickFormatter\"},\"plot\":{\"id\":\"3526f719-37af-4924-8394-07af30524dc2\",\"subtype\":\"Figure\",\"type\":\"Plot\"},\"ticker\":{\"id\":\"199e604d-a190-4570-b29f-426f942493d5\",\"type\":\"BasicTicker\"}},\"id\":\"bca0df5f-f958-4e0e-887c-6fed755af1be\",\"type\":\"LinearAxis\"},{\"attributes\":{\"active_drag\":\"auto\",\"active_inspect\":\"auto\",\"active_scroll\":\"auto\",\"active_tap\":\"auto\",\"tools\":[{\"id\":\"407bd0f4-2032-4291-bf11-25abe304687a\",\"type\":\"PanTool\"},{\"id\":\"19670fc3-c3c0-48c4-b73c-ade66b2c67e8\",\"type\":\"WheelZoomTool\"},{\"id\":\"f8de0501-a9d5-4f33-8f44-5d77b757a568\",\"type\":\"BoxZoomTool\"},{\"id\":\"62519aaf-229f-40f6-bf75-cadeabcb012e\",\"type\":\"SaveTool\"},{\"id\":\"7f93b991-54a6-4c7a-a145-b041f1304450\",\"type\":\"ResetTool\"},{\"id\":\"c7f12380-42bf-45e8-879b-1c45fec684fd\",\"type\":\"HelpTool\"}]},\"id\":\"31ed706e-6aa8-4e7c-b2a2-8b509c245d03\",\"type\":\"Toolbar\"},{\"attributes\":{\"active_drag\":\"auto\",\"active_inspect\":\"auto\",\"active_scroll\":\"auto\",\"active_tap\":\"auto\",\"tools\":[{\"id\":\"10e78de1-f5d7-4043-aa48-2d78ae527cba\",\"type\":\"PanTool\"},{\"id\":\"5820319b-1cd0-4b0a-aa22-56c58e47e04e\",\"type\":\"WheelZoomTool\"},{\"id\":\"3edcdd51-3c0a-43e6-93d6-14285a585eb8\",\"type\":\"BoxZoomTool\"},{\"id\":\"a36a9c47-7528-414e-9169-f27d3f668a67\",\"type\":\"SaveTool\"},{\"id\":\"49e4f035-4d52-45bb-9ba6-5f38db994c61\",\"type\":\"ResetTool\"},{\"id\":\"4c121c36-de9a-4251-a407-3f687ef59760\",\"type\":\"HelpTool\"}]},\"id\":\"35093029-ac47-4405-828b-06f003c26cbf\",\"type\":\"Toolbar\"},{\"attributes\":{\"callback\":null,\"end\":0.0767603255010297,\"start\":-0.2315204252202288},\"id\":\"c0994c74-938b-4a00-99b8-d1f270304de8\",\"type\":\"Range1d\"},{\"attributes\":{},\"id\":\"5e6d2aaa-94b4-4bea-a2e7-027fc3525af5\",\"type\":\"HelpTool\"},{\"attributes\":{\"source\":{\"id\":\"6434da97-7690-42a0-a35e-eada06470cf8\",\"type\":\"ColumnDataSource\"}},\"id\":\"f087a8d9-6fe9-4b55-9110-8f18e13b2eba\",\"type\":\"CDSView\"},{\"attributes\":{},\"id\":\"8657edfc-ae48-410e-b3ce-dedea371a2c1\",\"type\":\"WheelZoomTool\"},{\"attributes\":{},\"id\":\"15b80f57-d215-4750-9d7a-666c17658353\",\"type\":\"BasicTicker\"},{\"attributes\":{\"dimension\":1,\"plot\":{\"id\":\"3b0118f2-d302-4f26-8bd3-8c459ae5ba5a\",\"subtype\":\"Figure\",\"type\":\"Plot\"},\"ticker\":{\"id\":\"2391d4b2-262f-4a6d-ab68-3847b652da97\",\"type\":\"LogTicker\"}},\"id\":\"80efb92d-4e3e-488a-b51f-c8086b32b6b7\",\"type\":\"Grid\"},{\"attributes\":{},\"id\":\"8da9e3c7-bcd2-4810-9052-8cb80ccfc49e\",\"type\":\"UnionRenderers\"},{\"attributes\":{},\"id\":\"3facb176-5835-4378-a925-2a6318c907f4\",\"type\":\"BasicTickFormatter\"},{\"attributes\":{},\"id\":\"dcfd481e-8af4-4795-b0d7-b9451c8f5c3f\",\"type\":\"UnionRenderers\"},{\"attributes\":{\"fill_alpha\":{\"value\":0.7},\"fill_color\":{\"value\":\"#4daf4a\"},\"line_alpha\":{\"value\":0.7},\"line_color\":{\"value\":\"#4daf4a\"},\"x\":{\"field\":\"x\"},\"y\":{\"field\":\"y\"}},\"id\":\"0c8bf6b6-2eef-48cd-8377-5b3d15d09247\",\"type\":\"Circle\"},{\"attributes\":{\"line_alpha\":0.1,\"line_color\":\"#1f77b4\",\"line_width\":1.5,\"x\":{\"field\":\"x\"},\"y\":{\"field\":\"y\"}},\"id\":\"d28a87c7-e391-49a5-a009-ba9a68044cc4\",\"type\":\"Line\"},{\"attributes\":{},\"id\":\"18bbf309-3068-4806-8a50-533bf5ad8d46\",\"type\":\"Selection\"},{\"attributes\":{\"plot\":{\"id\":\"3526f719-37af-4924-8394-07af30524dc2\",\"subtype\":\"Figure\",\"type\":\"Plot\"},\"ticker\":{\"id\":\"552dba2d-31ef-49d1-8786-7a76dd4a0e9e\",\"type\":\"BasicTicker\"}},\"id\":\"80c6f1e7-bd1d-46b5-aa61-a147be06516d\",\"type\":\"Grid\"},{\"attributes\":{},\"id\":\"10e78de1-f5d7-4043-aa48-2d78ae527cba\",\"type\":\"PanTool\"},{\"attributes\":{\"callback\":null,\"end\":0.01,\"start\":1020},\"id\":\"94a7d93a-2c57-4e78-bf19-8f6477d43355\",\"type\":\"Range1d\"},{\"attributes\":{\"fill_alpha\":{\"value\":0.1},\"fill_color\":{\"value\":\"#1f77b4\"},\"line_alpha\":{\"value\":0.1},\"line_color\":{\"value\":\"#1f77b4\"},\"x\":{\"field\":\"x\"},\"y\":{\"field\":\"y\"}},\"id\":\"4c74a4e2-3a41-4312-9892-b9e4c2cec928\",\"type\":\"Circle\"},{\"attributes\":{},\"id\":\"4274a71b-28a8-4a5a-b444-6809a5548b34\",\"type\":\"Selection\"},{\"attributes\":{},\"id\":\"199e604d-a190-4570-b29f-426f942493d5\",\"type\":\"BasicTicker\"},{\"attributes\":{\"plot\":null,\"text\":\"\"},\"id\":\"1ccbecd8-1ce7-49d4-8ebe-1de1fa55a88c\",\"type\":\"Title\"},{\"attributes\":{},\"id\":\"0511b4ea-089c-4946-b84a-6b8bcb6b7c38\",\"type\":\"BasicTickFormatter\"},{\"attributes\":{\"plot\":null,\"text\":\"\"},\"id\":\"2d7e924e-97f5-42fd-a9e3-d29a2dbc98f9\",\"type\":\"Title\"},{\"attributes\":{\"dimension\":1,\"plot\":{\"id\":\"3526f719-37af-4924-8394-07af30524dc2\",\"subtype\":\"Figure\",\"type\":\"Plot\"},\"ticker\":{\"id\":\"199e604d-a190-4570-b29f-426f942493d5\",\"type\":\"BasicTicker\"}},\"id\":\"35ba8e6c-c565-46a4-8ffc-a1b430265be6\",\"type\":\"Grid\"},{\"attributes\":{\"plot\":null,\"text\":\"\"},\"id\":\"ef479e33-7adb-4025-a5d2-98ddeadef263\",\"type\":\"Title\"},{\"attributes\":{},\"id\":\"49e4f035-4d52-45bb-9ba6-5f38db994c61\",\"type\":\"ResetTool\"},{\"attributes\":{},\"id\":\"459680b8-860d-4a09-97f5-c1c849f629fe\",\"type\":\"UnionRenderers\"},{\"attributes\":{\"bottom_units\":\"screen\",\"fill_alpha\":{\"value\":0.5},\"fill_color\":{\"value\":\"lightgrey\"},\"left_units\":\"screen\",\"level\":\"overlay\",\"line_alpha\":{\"value\":1.0},\"line_color\":{\"value\":\"black\"},\"line_dash\":[4,4],\"line_width\":{\"value\":2},\"plot\":null,\"render_mode\":\"css\",\"right_units\":\"screen\",\"top_units\":\"screen\"},\"id\":\"2afe3ce9-b25a-4434-8e5a-783a5ed6879d\",\"type\":\"BoxAnnotation\"},{\"attributes\":{},\"id\":\"f0c8e451-f195-40c1-a5e7-e1a63634d991\",\"type\":\"UnionRenderers\"},{\"attributes\":{\"children\":[{\"id\":\"1fde7ac1-b8e8-4f35-840f-d4cc7b18cd55\",\"type\":\"ToolbarBox\"},{\"id\":\"289bcf67-30bb-48d1-a293-4babb21ac892\",\"type\":\"Column\"}]},\"id\":\"f3706ea6-b34f-4874-bcb1-e423c261474c\",\"type\":\"Column\"},{\"attributes\":{\"children\":[{\"id\":\"84150568-5bf3-4a8c-8413-bc0096bcb12b\",\"type\":\"Row\"}]},\"id\":\"289bcf67-30bb-48d1-a293-4babb21ac892\",\"type\":\"Column\"},{\"attributes\":{\"source\":{\"id\":\"1bceff71-59a8-466a-b3db-53f7b3ae1119\",\"type\":\"ColumnDataSource\"}},\"id\":\"3f74f7d4-3529-4fb6-a103-5b61f7cec223\",\"type\":\"CDSView\"},{\"attributes\":{\"fill_alpha\":{\"value\":0.1},\"fill_color\":{\"value\":\"#1f77b4\"},\"line_alpha\":{\"value\":0.1},\"line_color\":{\"value\":\"#1f77b4\"},\"x\":{\"field\":\"x\"},\"y\":{\"field\":\"y\"}},\"id\":\"31122631-af42-4f3c-b32b-368a4d9e0a58\",\"type\":\"Circle\"},{\"attributes\":{},\"id\":\"532a7d6a-2b40-4496-90f2-de9c3f417461\",\"type\":\"Selection\"},{\"attributes\":{\"source\":{\"id\":\"83710daa-d197-412c-a313-2ec60c7d6220\",\"type\":\"ColumnDataSource\"}},\"id\":\"ecb2b005-43f2-4439-bbbd-00ee9206105f\",\"type\":\"CDSView\"},{\"attributes\":{\"source\":{\"id\":\"3937bc0e-50a6-4f84-8f57-0c8110ba4712\",\"type\":\"ColumnDataSource\"}},\"id\":\"39183edb-cd06-4287-89d3-47ff26879a51\",\"type\":\"CDSView\"},{\"attributes\":{\"line_alpha\":0.8,\"line_color\":\"#984ea3\",\"line_width\":1.5,\"x\":{\"field\":\"x\"},\"y\":{\"field\":\"y\"}},\"id\":\"c04e32c8-8e6a-4f82-865d-b450bc8e6d84\",\"type\":\"Line\"},{\"attributes\":{\"fill_alpha\":{\"value\":0.7},\"fill_color\":{\"value\":\"#984ea3\"},\"line_alpha\":{\"value\":0.7},\"line_color\":{\"value\":\"#984ea3\"},\"x\":{\"field\":\"x\"},\"y\":{\"field\":\"y\"}},\"id\":\"7e59c3d8-b487-436e-818f-1e6ac899ede1\",\"type\":\"Circle\"},{\"attributes\":{\"line_color\":\"#4daf4a\",\"line_width\":1.5,\"x\":{\"field\":\"x\"},\"y\":{\"field\":\"y\"}},\"id\":\"95a02bac-261c-4c49-b9d5-7b1ceb968959\",\"type\":\"Line\"},{\"attributes\":{\"above\":[{\"id\":\"4f3f34d6-eec4-46dc-8aad-20f2bdaab7d4\",\"type\":\"Legend\"}],\"below\":[{\"id\":\"a3d5dc6a-93cb-4043-ae4f-529aa1645ddc\",\"type\":\"LinearAxis\"}],\"left\":[{\"id\":\"bca0df5f-f958-4e0e-887c-6fed755af1be\",\"type\":\"LinearAxis\"}],\"plot_width\":300,\"renderers\":[{\"id\":\"a3d5dc6a-93cb-4043-ae4f-529aa1645ddc\",\"type\":\"LinearAxis\"},{\"id\":\"80c6f1e7-bd1d-46b5-aa61-a147be06516d\",\"type\":\"Grid\"},{\"id\":\"bca0df5f-f958-4e0e-887c-6fed755af1be\",\"type\":\"LinearAxis\"},{\"id\":\"35ba8e6c-c565-46a4-8ffc-a1b430265be6\",\"type\":\"Grid\"},{\"id\":\"ed8aee5c-e805-4ab3-8520-a76a1b0360d9\",\"type\":\"BoxAnnotation\"},{\"id\":\"d18e497b-fd16-42cd-9c25-c2504019a52b\",\"type\":\"GlyphRenderer\"},{\"id\":\"65d99c79-4f33-4900-84fa-f04e2feb6b11\",\"type\":\"GlyphRenderer\"},{\"id\":\"0e69ff10-7587-4ae9-b0a3-ed00ccf7a540\",\"type\":\"GlyphRenderer\"},{\"id\":\"4f3f34d6-eec4-46dc-8aad-20f2bdaab7d4\",\"type\":\"Legend\"}],\"title\":{\"id\":\"ef479e33-7adb-4025-a5d2-98ddeadef263\",\"type\":\"Title\"},\"toolbar\":{\"id\":\"31ed706e-6aa8-4e7c-b2a2-8b509c245d03\",\"type\":\"Toolbar\"},\"toolbar_location\":null,\"x_range\":{\"id\":\"78e14199-c8c3-477f-90cd-3323bd7d697e\",\"type\":\"Range1d\"},\"x_scale\":{\"id\":\"783f19c0-9b3d-4c9a-9ade-1fb3cf7c86ff\",\"type\":\"LinearScale\"},\"y_range\":{\"id\":\"d577b22e-fb20-4091-a0c7-fd5990f85b12\",\"type\":\"Range1d\"},\"y_scale\":{\"id\":\"395d760a-d540-4584-b499-18739170d59b\",\"type\":\"LinearScale\"}},\"id\":\"3526f719-37af-4924-8394-07af30524dc2\",\"subtype\":\"Figure\",\"type\":\"Plot\"},{\"attributes\":{\"above\":[{\"id\":\"90205a82-006c-4ff7-96ea-91cc9d4ab7aa\",\"type\":\"Legend\"}],\"below\":[{\"id\":\"51543dcf-1895-4f3d-8c1b-daa1f9cd5560\",\"type\":\"LinearAxis\"}],\"left\":[{\"id\":\"f463f388-d794-4c89-b081-9fc6f9c0b93e\",\"type\":\"LogAxis\"}],\"plot_width\":300,\"renderers\":[{\"id\":\"51543dcf-1895-4f3d-8c1b-daa1f9cd5560\",\"type\":\"LinearAxis\"},{\"id\":\"cdf15d93-aa6a-4729-9a22-9c8739378b09\",\"type\":\"Grid\"},{\"id\":\"f463f388-d794-4c89-b081-9fc6f9c0b93e\",\"type\":\"LogAxis\"},{\"id\":\"80efb92d-4e3e-488a-b51f-c8086b32b6b7\",\"type\":\"Grid\"},{\"id\":\"2afe3ce9-b25a-4434-8e5a-783a5ed6879d\",\"type\":\"BoxAnnotation\"},{\"id\":\"d101e1bb-c507-4201-a7ac-83b23ca60c69\",\"type\":\"GlyphRenderer\"},{\"id\":\"a6c2055d-2942-483c-88d7-4ffc1e54fd66\",\"type\":\"GlyphRenderer\"},{\"id\":\"90205a82-006c-4ff7-96ea-91cc9d4ab7aa\",\"type\":\"Legend\"}],\"title\":{\"id\":\"2d7e924e-97f5-42fd-a9e3-d29a2dbc98f9\",\"type\":\"Title\"},\"toolbar\":{\"id\":\"35093029-ac47-4405-828b-06f003c26cbf\",\"type\":\"Toolbar\"},\"toolbar_location\":null,\"x_range\":{\"id\":\"c0994c74-938b-4a00-99b8-d1f270304de8\",\"type\":\"Range1d\"},\"x_scale\":{\"id\":\"8f41a157-98a4-4123-b3b0-61aa871193f1\",\"type\":\"LinearScale\"},\"y_range\":{\"id\":\"94a7d93a-2c57-4e78-bf19-8f6477d43355\",\"type\":\"Range1d\"},\"y_scale\":{\"id\":\"2188a743-9d43-4263-bb5b-a75dd8fa377b\",\"type\":\"LogScale\"}},\"id\":\"3b0118f2-d302-4f26-8bd3-8c459ae5ba5a\",\"subtype\":\"Figure\",\"type\":\"Plot\"},{\"attributes\":{},\"id\":\"c8a244b3-24a1-492b-80de-93792a686c54\",\"type\":\"SaveTool\"},{\"attributes\":{\"data_source\":{\"id\":\"6434da97-7690-42a0-a35e-eada06470cf8\",\"type\":\"ColumnDataSource\"},\"glyph\":{\"id\":\"7e59c3d8-b487-436e-818f-1e6ac899ede1\",\"type\":\"Circle\"},\"hover_glyph\":null,\"muted_glyph\":null,\"nonselection_glyph\":{\"id\":\"31122631-af42-4f3c-b32b-368a4d9e0a58\",\"type\":\"Circle\"},\"selection_glyph\":null,\"view\":{\"id\":\"f087a8d9-6fe9-4b55-9110-8f18e13b2eba\",\"type\":\"CDSView\"}},\"id\":\"d101e1bb-c507-4201-a7ac-83b23ca60c69\",\"type\":\"GlyphRenderer\"},{\"attributes\":{\"callback\":null,\"data\":{\"x\":{\"__ndarray__\":\"MlTLxtgzGkD+MP3HkEYUQFWrapbPMRJAS2RsoDoSEEDBJr0fW/YLQDXKk7hxAghAUib2ZOxgBEBSf6gO3BgBQKQqGVnpT/w/YMIG/GMV9z/kWLgrlnryP8OK3ZSk4uw/7HvpX4295T/uaFn6Y/fdP0iouw/EdtQ/unxU3WXa1D8C+tQVy4XaP2T7ecPfdt8/IX0Co0Bq4j8gxjOxZ8PlP/5j0dgpSuo/1ETtqdCT8D9MMxROiD30P9/FpZliavM/7PnayPz47j/hsl10vnPpPzTUqNgwAOY/eh3QNK6a4z8YsCFZ6OPhP6z1NtAJg+A/WVWhMIov3j/pXGOXChPbP44LipRVn9g/6sYzaUX61j8eNZ/6CAjVP3+ucG6YrNI/l2IRqQIj0T9XbVpx+GfQPwKxkrF2E84/gnBbyL2GzD/q2eK1z+XWP1u3wMB3Pe0/kUQZ8veu+D8vUjuhlwwAQJexbF7Z1AFAPleG2sMrAECAF8GvXqr9P3EPP7CDhfw/8AfBhqoK/D+4uLy0wdz7P2OpHx1/y/s//CkhJENN+z9K/FJMg+b6P8kQ699czvo/rG6e+Hf2+j97ktpcX1X7P0WkVFMM6/s/nZAGTXm+/T8MKWQrbDX/Pz8Ai1ktEABAXS6QqcZPAEC56xoji2IAQDz9GxZFWABABZ/s5qA+AEBe5a+GDCIAQP63encFEQBAiuPLD4kNAEC+dQIBm/T/P/tY/MRWVv8/0M6CMgs5/j+lfXz+h/38P4jX1tqm/vs/Nfk3/Vtk+z+1ZH6DbmL7PwPpUrgCcABA\",\"dtype\":\"float64\",\"shape\":[75]},\"y\":{\"__ndarray__\":\"GhExyth1ND/Sv8nbtpRIP2vylNV0PVE/aTum7souWD/At0SJ8fVgPw3Iuahxymc/MSNhhJWvcD/bTfBN02d3P2zb5nxnaoA/CD5h5MAGhz8NmeH1TyaQP+zrCsc9p5Y/LbKd76fGnz/bLW5ISEmmPww9YvTcQq8/JV2OstnstT8Er5Y7M8G+P0c+r3jqkcU/5h99k6ZBzj88bCIzFzjVP4enV8oyxN0//yH99nXg5D8qOpLLf0jtP5kqGJXUifQ/c9cS8kHP/D+/DpwzojQEQIEmwoanVwxA4lgXt9HgE0BSSZ2AJuIbQAMJih9jjiNA5q4l5INuK0AwTKYKRj0zQNv5fmq8/DpAaCJseHrtQkB/+zpwzoxKQM3MzMzMeFJAZmZmZmZqWEAAAAAAAFxeQM3MzMzMJmJAmpmZmZkfZUBmZmZmZhhoQDMzMzMzEWtAAAAAAAAKbkBmZmZmZoFwQM3MzMzM/XFAMzMzMzN6c0CamZmZmfZ0QAAAAAAAc3ZAZmZmZmbvd0DNzMzMzGt5QDMzMzMz6HpAmpmZmZlkfEAAAAAAAOF9QGZmZmZmXX9AZmZmZuZsgECamZmZGSuBQM3MzMxM6YFAAAAAAICngkAzMzMzs2WDQGZmZmbmI4RAmpmZmRnihEDNzMzMTKCFQAAAAACAXoZAMzMzM7Mch0BmZmZm5tqHQJqZmZkZmYhAzczMzExXiUAAAAAAgBWKQDMzMzOz04pAZmZmZuaRi0CamZmZGVCMQM3MzMxMDo1AAAAAAIDMjUAzMzMzs4qOQGZmZmbmSI9A\",\"dtype\":\"float64\",\"shape\":[75]}},\"selected\":{\"id\":\"4b5150e6-73dd-4afb-b67c-964a96ce7ed4\",\"type\":\"Selection\"},\"selection_policy\":{\"id\":\"92e842f8-df2e-48e9-8013-8059e5f893f3\",\"type\":\"UnionRenderers\"}},\"id\":\"6edffe57-240e-482f-8a76-26d44317faff\",\"type\":\"ColumnDataSource\"},{\"attributes\":{\"label\":{\"value\":\"CLIRAD - CRD\"},\"renderers\":[{\"id\":\"d101e1bb-c507-4201-a7ac-83b23ca60c69\",\"type\":\"GlyphRenderer\"},{\"id\":\"a6c2055d-2942-483c-88d7-4ffc1e54fd66\",\"type\":\"GlyphRenderer\"}]},\"id\":\"f084a71f-55ab-4bf3-88f6-09430d0cbae2\",\"type\":\"LegendItem\"},{\"attributes\":{},\"id\":\"552dba2d-31ef-49d1-8786-7a76dd4a0e9e\",\"type\":\"BasicTicker\"},{\"attributes\":{\"num_minor_ticks\":10},\"id\":\"2391d4b2-262f-4a6d-ab68-3847b652da97\",\"type\":\"LogTicker\"},{\"attributes\":{\"callback\":null,\"data\":{\"x\":{\"__ndarray__\":\"MlTLxtgzGkD+MP3HkEYUQFWrapbPMRJAS2RsoDoSEEDBJr0fW/YLQDXKk7hxAghAUib2ZOxgBEBSf6gO3BgBQKQqGVnpT/w/YMIG/GMV9z/kWLgrlnryP8OK3ZSk4uw/7HvpX4295T/uaFn6Y/fdP0iouw/EdtQ/unxU3WXa1D8C+tQVy4XaP2T7ecPfdt8/IX0Co0Bq4j8gxjOxZ8PlP/5j0dgpSuo/1ETtqdCT8D9MMxROiD30P9/FpZliavM/7PnayPz47j/hsl10vnPpPzTUqNgwAOY/eh3QNK6a4z8YsCFZ6OPhP6z1NtAJg+A/WVWhMIov3j/pXGOXChPbP44LipRVn9g/6sYzaUX61j8eNZ/6CAjVP3+ucG6YrNI/l2IRqQIj0T9XbVpx+GfQPwKxkrF2E84/gnBbyL2GzD/q2eK1z+XWP1u3wMB3Pe0/kUQZ8veu+D8vUjuhlwwAQJexbF7Z1AFAPleG2sMrAECAF8GvXqr9P3EPP7CDhfw/8AfBhqoK/D+4uLy0wdz7P2OpHx1/y/s//CkhJENN+z9K/FJMg+b6P8kQ699czvo/rG6e+Hf2+j97ktpcX1X7P0WkVFMM6/s/nZAGTXm+/T8MKWQrbDX/Pz8Ai1ktEABAXS6QqcZPAEC56xoji2IAQDz9GxZFWABABZ/s5qA+AEBe5a+GDCIAQP63encFEQBAiuPLD4kNAEC+dQIBm/T/P/tY/MRWVv8/0M6CMgs5/j+lfXz+h/38P4jX1tqm/vs/Nfk3/Vtk+z+1ZH6DbmL7PwPpUrgCcABA\",\"dtype\":\"float64\",\"shape\":[75]},\"y\":{\"__ndarray__\":\"GhExyth1ND/Sv8nbtpRIP2vylNV0PVE/aTum7souWD/At0SJ8fVgPw3Iuahxymc/MSNhhJWvcD/bTfBN02d3P2zb5nxnaoA/CD5h5MAGhz8NmeH1TyaQP+zrCsc9p5Y/LbKd76fGnz/bLW5ISEmmPww9YvTcQq8/JV2OstnstT8Er5Y7M8G+P0c+r3jqkcU/5h99k6ZBzj88bCIzFzjVP4enV8oyxN0//yH99nXg5D8qOpLLf0jtP5kqGJXUifQ/c9cS8kHP/D+/DpwzojQEQIEmwoanVwxA4lgXt9HgE0BSSZ2AJuIbQAMJih9jjiNA5q4l5INuK0AwTKYKRj0zQNv5fmq8/DpAaCJseHrtQkB/+zpwzoxKQM3MzMzMeFJAZmZmZmZqWEAAAAAAAFxeQM3MzMzMJmJAmpmZmZkfZUBmZmZmZhhoQDMzMzMzEWtAAAAAAAAKbkBmZmZmZoFwQM3MzMzM/XFAMzMzMzN6c0CamZmZmfZ0QAAAAAAAc3ZAZmZmZmbvd0DNzMzMzGt5QDMzMzMz6HpAmpmZmZlkfEAAAAAAAOF9QGZmZmZmXX9AZmZmZuZsgECamZmZGSuBQM3MzMxM6YFAAAAAAICngkAzMzMzs2WDQGZmZmbmI4RAmpmZmRnihEDNzMzMTKCFQAAAAACAXoZAMzMzM7Mch0BmZmZm5tqHQJqZmZkZmYhAzczMzExXiUAAAAAAgBWKQDMzMzOz04pAZmZmZuaRi0CamZmZGVCMQM3MzMxMDo1AAAAAAIDMjUAzMzMzs4qOQGZmZmbmSI9A\",\"dtype\":\"float64\",\"shape\":[75]}},\"selected\":{\"id\":\"1841ce0f-01d9-4ed3-a7ae-2f6c04682c20\",\"type\":\"Selection\"},\"selection_policy\":{\"id\":\"f0c8e451-f195-40c1-a5e7-e1a63634d991\",\"type\":\"UnionRenderers\"}},\"id\":\"1bceff71-59a8-466a-b3db-53f7b3ae1119\",\"type\":\"ColumnDataSource\"},{\"attributes\":{},\"id\":\"e6e09090-086d-42a1-9792-c9c832dde2a9\",\"type\":\"Selection\"},{\"attributes\":{\"data_source\":{\"id\":\"3937bc0e-50a6-4f84-8f57-0c8110ba4712\",\"type\":\"ColumnDataSource\"},\"glyph\":{\"id\":\"c04e32c8-8e6a-4f82-865d-b450bc8e6d84\",\"type\":\"Line\"},\"hover_glyph\":null,\"muted_glyph\":null,\"nonselection_glyph\":{\"id\":\"d269d0b4-0410-494e-b947-24c75a5a1be2\",\"type\":\"Line\"},\"selection_glyph\":null,\"view\":{\"id\":\"39183edb-cd06-4287-89d3-47ff26879a51\",\"type\":\"CDSView\"}},\"id\":\"a6c2055d-2942-483c-88d7-4ffc1e54fd66\",\"type\":\"GlyphRenderer\"},{\"attributes\":{},\"id\":\"84ca856d-e916-4282-b78d-be9d89f88ac3\",\"type\":\"UnionRenderers\"},{\"attributes\":{},\"id\":\"28b67a4e-49d3-4f87-95ae-3c201c0a4744\",\"type\":\"BasicTickFormatter\"},{\"attributes\":{\"ticker\":null},\"id\":\"334c9940-3cd0-4a9a-91cd-49513bddd418\",\"type\":\"LogTickFormatter\"},{\"attributes\":{\"toolbar\":{\"id\":\"68c85377-ed0b-4504-bcef-125779563a17\",\"type\":\"ProxyToolbar\"},\"toolbar_location\":\"above\"},\"id\":\"1fde7ac1-b8e8-4f35-840f-d4cc7b18cd55\",\"type\":\"ToolbarBox\"},{\"attributes\":{\"ticker\":null},\"id\":\"499e1b17-058b-4358-807b-1fd24740216e\",\"type\":\"LogTickFormatter\"},{\"attributes\":{\"label\":{\"value\":\"CLIRAD\"},\"renderers\":[{\"id\":\"a5548858-33e5-4306-9aef-d9e11316fb2c\",\"type\":\"GlyphRenderer\"}]},\"id\":\"20c808d2-857a-4413-9afd-abe9e4827d1f\",\"type\":\"LegendItem\"},{\"attributes\":{\"data_source\":{\"id\":\"f4c32f2f-e8b0-488f-b0ce-ba454f79d912\",\"type\":\"ColumnDataSource\"},\"glyph\":{\"id\":\"95a02bac-261c-4c49-b9d5-7b1ceb968959\",\"type\":\"Line\"},\"hover_glyph\":null,\"muted_glyph\":null,\"nonselection_glyph\":{\"id\":\"d28a87c7-e391-49a5-a009-ba9a68044cc4\",\"type\":\"Line\"},\"selection_glyph\":null,\"view\":{\"id\":\"3e6743f4-f1a8-4a59-acd3-390706db9db4\",\"type\":\"CDSView\"}},\"id\":\"2978d08d-0599-4daa-a489-51450e663ada\",\"type\":\"GlyphRenderer\"},{\"attributes\":{\"fill_alpha\":{\"value\":0.1},\"fill_color\":{\"value\":\"#1f77b4\"},\"line_alpha\":{\"value\":0.1},\"line_color\":{\"value\":\"#1f77b4\"},\"x\":{\"field\":\"x\"},\"y\":{\"field\":\"y\"}},\"id\":\"12eb7ab6-7856-4e9b-8128-b5af832f04cc\",\"type\":\"Circle\"},{\"attributes\":{},\"id\":\"cc46c751-b32d-4717-ab97-0abe70784517\",\"type\":\"BasicTickFormatter\"}],\"root_ids\":[\"f3706ea6-b34f-4874-bcb1-e423c261474c\"]},\"title\":\"Bokeh Application\",\"version\":\"0.12.16\"}};\n",
       "  var render_items = [{\"docid\":\"f9fcddee-1b0f-4fbe-a315-3cc973349fe1\",\"elementid\":\"128cc830-c577-4a5d-bdb4-7fe8f2d46baf\",\"modelid\":\"f3706ea6-b34f-4874-bcb1-e423c261474c\"}];\n",
       "  root.Bokeh.embed.embed_items_notebook(docs_json, render_items);\n",
       "\n",
       "  }\n",
       "  if (root.Bokeh !== undefined) {\n",
       "    embed_document(root);\n",
       "  } else {\n",
       "    var attempts = 0;\n",
       "    var timer = setInterval(function(root) {\n",
       "      if (root.Bokeh !== undefined) {\n",
       "        embed_document(root);\n",
       "        clearInterval(timer);\n",
       "      }\n",
       "      attempts++;\n",
       "      if (attempts > 100) {\n",
       "        console.log(\"Bokeh: ERROR: Unable to run BokehJS code because BokehJS library is missing\")\n",
       "        clearInterval(timer);\n",
       "      }\n",
       "    }, 10, root)\n",
       "  }\n",
       "})(window);"
      ],
      "application/vnd.bokehjs_exec.v0+json": ""
     },
     "metadata": {
      "application/vnd.bokehjs_exec.v0+json": {
       "id": "f3706ea6-b34f-4874-bcb1-e423c261474c"
      }
     },
     "output_type": "display_data"
    },
    {
     "data": {
      "text/markdown": [
       "*FIGURE.* Cooling rates & difference."
      ],
      "text/plain": [
       "<IPython.core.display.Markdown object>"
      ]
     },
     "metadata": {},
     "output_type": "display_data"
    },
    {
     "data": {
      "text/html": [
       "<a id=\"Fluxes._mls.\"></a>"
      ],
      "text/plain": [
       "<IPython.core.display.HTML object>"
      ]
     },
     "metadata": {},
     "output_type": "display_data"
    },
    {
     "data": {
      "text/markdown": [
       "# Fluxes. mls."
      ],
      "text/plain": [
       "<IPython.core.display.Markdown object>"
      ]
     },
     "metadata": {},
     "output_type": "display_data"
    },
    {
     "data": {
      "text/html": [
       "\n",
       "<div class=\"bk-root\">\n",
       "    <div class=\"bk-plotdiv\" id=\"d2fe180c-92dc-475c-9068-a95ebe9734a9\"></div>\n",
       "</div>"
      ]
     },
     "metadata": {},
     "output_type": "display_data"
    },
    {
     "data": {
      "application/javascript": [
       "(function(root) {\n",
       "  function embed_document(root) {\n",
       "    \n",
       "  var docs_json = {\"cf3494b8-7de8-4eb9-9c45-e907328e278b\":{\"roots\":{\"references\":[{\"attributes\":{\"fill_alpha\":{\"value\":0.1},\"fill_color\":{\"value\":\"#1f77b4\"},\"line_alpha\":{\"value\":0.1},\"line_color\":{\"value\":\"#1f77b4\"},\"top\":{\"field\":\"flux\"},\"width\":{\"value\":0.9},\"x\":{\"field\":\"band\"}},\"id\":\"d05ef52c-0db9-4951-bf18-0d74f969e979\",\"type\":\"VBar\"},{\"attributes\":{\"plot\":{\"id\":\"85b78c5b-4102-4d75-877b-29f0b6107f11\",\"subtype\":\"Figure\",\"type\":\"Plot\"},\"ticker\":{\"id\":\"a7a1ce91-419e-41bc-82ec-3a3ccdfbc3cd\",\"type\":\"CategoricalTicker\"}},\"id\":\"8278db18-1f61-4d67-81e5-9bade0c9afc7\",\"type\":\"Grid\"},{\"attributes\":{},\"id\":\"9b17336b-9d09-4c7b-87a1-716e5816d39f\",\"type\":\"BasicTicker\"},{\"attributes\":{},\"id\":\"a7a1ce91-419e-41bc-82ec-3a3ccdfbc3cd\",\"type\":\"CategoricalTicker\"},{\"attributes\":{},\"id\":\"ee088293-431b-4e56-b470-b807673b563a\",\"type\":\"PanTool\"},{\"attributes\":{\"dimension\":1,\"plot\":{\"id\":\"c78c6247-6dbd-4b6b-9a1e-cf7092d4df71\",\"subtype\":\"Figure\",\"type\":\"Plot\"},\"ticker\":{\"id\":\"9b17336b-9d09-4c7b-87a1-716e5816d39f\",\"type\":\"BasicTicker\"}},\"id\":\"0bcf987b-f72f-4ef0-ad1a-5362f3b6cf40\",\"type\":\"Grid\"},{\"attributes\":{},\"id\":\"f9312413-c558-48cc-8721-cf556f756c03\",\"type\":\"CategoricalScale\"},{\"attributes\":{},\"id\":\"7be6ae70-3b00-4edb-850b-e93fc00cf5ce\",\"type\":\"CategoricalTickFormatter\"},{\"attributes\":{},\"id\":\"fb212642-2dd7-405a-bac5-3a85dec3ce9f\",\"type\":\"BasicTicker\"},{\"attributes\":{\"bottom_units\":\"screen\",\"fill_alpha\":{\"value\":0.5},\"fill_color\":{\"value\":\"lightgrey\"},\"left_units\":\"screen\",\"level\":\"overlay\",\"line_alpha\":{\"value\":1.0},\"line_color\":{\"value\":\"black\"},\"line_dash\":[4,4],\"line_width\":{\"value\":2},\"plot\":null,\"render_mode\":\"css\",\"right_units\":\"screen\",\"top_units\":\"screen\"},\"id\":\"c7693f92-e475-46eb-9f80-c3ef366db4d0\",\"type\":\"BoxAnnotation\"},{\"attributes\":{\"fill_color\":{\"value\":\"#1f77b4\"},\"line_color\":{\"value\":\"#1f77b4\"},\"top\":{\"field\":\"flux\"},\"width\":{\"value\":0.9},\"x\":{\"field\":\"band\"}},\"id\":\"35abb7a2-e745-4958-80f6-ffdd3feeabc9\",\"type\":\"VBar\"},{\"attributes\":{\"callback\":null},\"id\":\"11ecd653-befc-4589-be03-f66ea76819a4\",\"type\":\"DataRange1d\"},{\"attributes\":{\"children\":[{\"id\":\"adedbab9-008e-4e27-bfaf-ee182d04d35e\",\"subtype\":\"Figure\",\"type\":\"Plot\"},{\"id\":\"85b78c5b-4102-4d75-877b-29f0b6107f11\",\"subtype\":\"Figure\",\"type\":\"Plot\"},{\"id\":\"c78c6247-6dbd-4b6b-9a1e-cf7092d4df71\",\"subtype\":\"Figure\",\"type\":\"Plot\"}]},\"id\":\"d94989f0-4a98-4b0d-9a00-85db2c567a98\",\"type\":\"Row\"},{\"attributes\":{\"axis_label\":\"flux (W m-2)\",\"formatter\":{\"id\":\"61366a9b-0963-490f-b6e5-9da8d032735e\",\"type\":\"BasicTickFormatter\"},\"plot\":{\"id\":\"85b78c5b-4102-4d75-877b-29f0b6107f11\",\"subtype\":\"Figure\",\"type\":\"Plot\"},\"ticker\":{\"id\":\"8c548b59-d599-40c4-8939-31d663c90ec1\",\"type\":\"BasicTicker\"}},\"id\":\"78f0e0f8-6485-48df-aca9-427d0e472e31\",\"type\":\"LinearAxis\"},{\"attributes\":{\"bottom_units\":\"screen\",\"fill_alpha\":{\"value\":0.5},\"fill_color\":{\"value\":\"lightgrey\"},\"left_units\":\"screen\",\"level\":\"overlay\",\"line_alpha\":{\"value\":1.0},\"line_color\":{\"value\":\"black\"},\"line_dash\":[4,4],\"line_width\":{\"value\":2},\"plot\":null,\"render_mode\":\"css\",\"right_units\":\"screen\",\"top_units\":\"screen\"},\"id\":\"29c4fa68-354b-4c5e-8d86-14c6c668e509\",\"type\":\"BoxAnnotation\"},{\"attributes\":{},\"id\":\"61043bae-58cd-4730-b35e-32bd6976bf7b\",\"type\":\"LinearScale\"},{\"attributes\":{},\"id\":\"8e78ceaf-0404-42fa-bed6-d1f5bbfed31d\",\"type\":\"PanTool\"},{\"attributes\":{},\"id\":\"8c548b59-d599-40c4-8939-31d663c90ec1\",\"type\":\"BasicTicker\"},{\"attributes\":{\"data_source\":{\"id\":\"119460f9-26f8-437f-a9a1-f450b7df3f35\",\"type\":\"ColumnDataSource\"},\"glyph\":{\"id\":\"35abb7a2-e745-4958-80f6-ffdd3feeabc9\",\"type\":\"VBar\"},\"hover_glyph\":null,\"muted_glyph\":null,\"nonselection_glyph\":{\"id\":\"d05ef52c-0db9-4951-bf18-0d74f969e979\",\"type\":\"VBar\"},\"selection_glyph\":null,\"view\":{\"id\":\"8a4b3571-1860-46de-a71c-4a6708650c6c\",\"type\":\"CDSView\"}},\"id\":\"5c64431c-3250-4c5a-a81f-e7d68b6c49f2\",\"type\":\"GlyphRenderer\"},{\"attributes\":{\"callback\":null,\"data\":{\"band\":[\"1\",\"2\",\"3\",\"4\",\"5\",\"6\",\"7\",\"8\",\"9\",\"10\",\"11\"],\"flux\":{\"__ndarray__\":\"AJyjysxeyD8AHVfUva3SPwAuO+oGD7m/AEoziqN6ur8AUJ7cY6evvwD42oaTLKS/ANhi+ev8pL8AoaF/gou5vwCTqjm1XdO/wAdjiy7dwD/g3TT3PNHMPw==\",\"dtype\":\"float64\",\"shape\":[11]}},\"selected\":{\"id\":\"59b3d62b-aeca-475c-ba67-092de651143a\",\"type\":\"Selection\"},\"selection_policy\":{\"id\":\"b17745e8-33a5-4e1c-bf96-93f9f49b4b1d\",\"type\":\"UnionRenderers\"}},\"id\":\"ba7fd037-9eaf-4540-9eea-463ac0d96572\",\"type\":\"ColumnDataSource\"},{\"attributes\":{},\"id\":\"1ceecf84-a4ae-4385-b2b2-d77835286764\",\"type\":\"CategoricalTicker\"},{\"attributes\":{},\"id\":\"fe636cad-8186-4cf6-936c-7484019f705d\",\"type\":\"WheelZoomTool\"},{\"attributes\":{\"overlay\":{\"id\":\"29c4fa68-354b-4c5e-8d86-14c6c668e509\",\"type\":\"BoxAnnotation\"}},\"id\":\"18d2b86a-7bb1-41d3-afbd-e8bed899b324\",\"type\":\"BoxZoomTool\"},{\"attributes\":{\"dimension\":1,\"plot\":{\"id\":\"85b78c5b-4102-4d75-877b-29f0b6107f11\",\"subtype\":\"Figure\",\"type\":\"Plot\"},\"ticker\":{\"id\":\"8c548b59-d599-40c4-8939-31d663c90ec1\",\"type\":\"BasicTicker\"}},\"id\":\"e23605cc-55de-4553-94d9-b6fc9732451d\",\"type\":\"Grid\"},{\"attributes\":{},\"id\":\"1dc812f7-aa09-443c-a7fd-5b56e5568205\",\"type\":\"SaveTool\"},{\"attributes\":{\"fill_alpha\":{\"value\":0.1},\"fill_color\":{\"value\":\"#1f77b4\"},\"line_alpha\":{\"value\":0.1},\"line_color\":{\"value\":\"#1f77b4\"},\"top\":{\"field\":\"flux\"},\"width\":{\"value\":0.9},\"x\":{\"field\":\"band\"}},\"id\":\"07d32c6b-8347-4c8f-810a-daa0178e9ac4\",\"type\":\"VBar\"},{\"attributes\":{},\"id\":\"a498c8bc-35c2-4627-9b40-c514903e53ab\",\"type\":\"ResetTool\"},{\"attributes\":{\"axis_label\":\"spectral band\",\"formatter\":{\"id\":\"206e1f23-8774-414b-ab36-9521326da541\",\"type\":\"CategoricalTickFormatter\"},\"plot\":{\"id\":\"85b78c5b-4102-4d75-877b-29f0b6107f11\",\"subtype\":\"Figure\",\"type\":\"Plot\"},\"ticker\":{\"id\":\"a7a1ce91-419e-41bc-82ec-3a3ccdfbc3cd\",\"type\":\"CategoricalTicker\"}},\"id\":\"2a286b53-02b4-48db-9dde-4bc83c0fc092\",\"type\":\"CategoricalAxis\"},{\"attributes\":{},\"id\":\"3a4f181b-9b7c-42cb-a38c-4e99863e458d\",\"type\":\"HelpTool\"},{\"attributes\":{},\"id\":\"206e1f23-8774-414b-ab36-9521326da541\",\"type\":\"CategoricalTickFormatter\"},{\"attributes\":{},\"id\":\"b17745e8-33a5-4e1c-bf96-93f9f49b4b1d\",\"type\":\"UnionRenderers\"},{\"attributes\":{\"active_drag\":\"auto\",\"active_inspect\":\"auto\",\"active_scroll\":\"auto\",\"active_tap\":\"auto\",\"tools\":[{\"id\":\"ee088293-431b-4e56-b470-b807673b563a\",\"type\":\"PanTool\"},{\"id\":\"56696b30-5e6e-4b9b-99b1-d4989744ec22\",\"type\":\"WheelZoomTool\"},{\"id\":\"f68f6984-f8f7-423d-ad7e-156d4d5d62f4\",\"type\":\"BoxZoomTool\"},{\"id\":\"3735d561-35e6-4a59-ba4b-402aa9c34ae6\",\"type\":\"SaveTool\"},{\"id\":\"a2bea88b-7892-4649-af67-07c143f4c1b4\",\"type\":\"ResetTool\"},{\"id\":\"6eee4492-c3b0-4710-bda4-1d7d836f4085\",\"type\":\"HelpTool\"}]},\"id\":\"8115dae4-0014-4544-836a-85e8037d0157\",\"type\":\"Toolbar\"},{\"attributes\":{\"source\":{\"id\":\"119460f9-26f8-437f-a9a1-f450b7df3f35\",\"type\":\"ColumnDataSource\"}},\"id\":\"8a4b3571-1860-46de-a71c-4a6708650c6c\",\"type\":\"CDSView\"},{\"attributes\":{\"overlay\":{\"id\":\"2b585bae-79f9-4fb7-86f5-ac8ce4cf3c0b\",\"type\":\"BoxAnnotation\"}},\"id\":\"f8eecf48-48c4-42ff-86a8-b2860ab8230f\",\"type\":\"BoxZoomTool\"},{\"attributes\":{\"children\":[{\"id\":\"d94989f0-4a98-4b0d-9a00-85db2c567a98\",\"type\":\"Row\"}]},\"id\":\"a0027602-4cd6-4613-bf18-7644ce581c45\",\"type\":\"Column\"},{\"attributes\":{},\"id\":\"59b3d62b-aeca-475c-ba67-092de651143a\",\"type\":\"Selection\"},{\"attributes\":{\"fill_color\":{\"value\":\"#1f77b4\"},\"line_color\":{\"value\":\"#1f77b4\"},\"top\":{\"field\":\"flux\"},\"width\":{\"value\":0.9},\"x\":{\"field\":\"band\"}},\"id\":\"9a647c20-0d4a-42ca-a1c8-3d0d4370bab4\",\"type\":\"VBar\"},{\"attributes\":{},\"id\":\"61366a9b-0963-490f-b6e5-9da8d032735e\",\"type\":\"BasicTickFormatter\"},{\"attributes\":{},\"id\":\"49758696-2e36-454f-b7a4-5b360d6c733b\",\"type\":\"PanTool\"},{\"attributes\":{\"callback\":null,\"data\":{\"band\":[\"1\",\"2\",\"3\",\"4\",\"5\",\"6\",\"7\",\"8\",\"9\",\"10\",\"11\"],\"flux\":{\"__ndarray__\":\"AADQ153tB78AacHu6P3XP4DmW1TIi9o/gPaRIegk1r+A0etofxSxP4AZdQh3wrY/wCxGPF0Gob/AOTR20/fBvwAwJXlLxcC/AGi4dD7Pij9I2w9DbtDVPw==\",\"dtype\":\"float64\",\"shape\":[11]}},\"selected\":{\"id\":\"2b84bf0e-2b21-4a4e-bc3a-171190fbc15e\",\"type\":\"Selection\"},\"selection_policy\":{\"id\":\"d76a4458-7a7a-42d0-89c2-2424a37ba8bb\",\"type\":\"UnionRenderers\"}},\"id\":\"cfc5734f-c1d6-4853-bf6e-e99ac8871d4a\",\"type\":\"ColumnDataSource\"},{\"attributes\":{\"dimension\":1,\"plot\":{\"id\":\"adedbab9-008e-4e27-bfaf-ee182d04d35e\",\"subtype\":\"Figure\",\"type\":\"Plot\"},\"ticker\":{\"id\":\"fb212642-2dd7-405a-bac5-3a85dec3ce9f\",\"type\":\"BasicTicker\"}},\"id\":\"3933fa8c-e530-418a-a692-e7dba03b8393\",\"type\":\"Grid\"},{\"attributes\":{},\"id\":\"2a3f1250-71e7-4ebe-b6cd-40a8a1e7a439\",\"type\":\"BasicTickFormatter\"},{\"attributes\":{},\"id\":\"f8f0c271-0a6f-46de-ada5-e8d2551874b2\",\"type\":\"WheelZoomTool\"},{\"attributes\":{\"fill_alpha\":{\"value\":0.1},\"fill_color\":{\"value\":\"#1f77b4\"},\"line_alpha\":{\"value\":0.1},\"line_color\":{\"value\":\"#1f77b4\"},\"top\":{\"field\":\"flux\"},\"width\":{\"value\":0.9},\"x\":{\"field\":\"band\"}},\"id\":\"0e4eb795-e095-4a7e-840e-b1b8ca322560\",\"type\":\"VBar\"},{\"attributes\":{},\"id\":\"b4550786-9f30-417a-84f8-69af9f02ee7c\",\"type\":\"UnionRenderers\"},{\"attributes\":{\"axis_label\":\"flux (W m-2)\",\"formatter\":{\"id\":\"2a3f1250-71e7-4ebe-b6cd-40a8a1e7a439\",\"type\":\"BasicTickFormatter\"},\"plot\":{\"id\":\"adedbab9-008e-4e27-bfaf-ee182d04d35e\",\"subtype\":\"Figure\",\"type\":\"Plot\"},\"ticker\":{\"id\":\"fb212642-2dd7-405a-bac5-3a85dec3ce9f\",\"type\":\"BasicTicker\"}},\"id\":\"61d741f7-ad3e-4118-954e-22e793322db8\",\"type\":\"LinearAxis\"},{\"attributes\":{},\"id\":\"d76a4458-7a7a-42d0-89c2-2424a37ba8bb\",\"type\":\"UnionRenderers\"},{\"attributes\":{},\"id\":\"7db923bc-d215-497d-92ab-e2b14faceb24\",\"type\":\"BasicTickFormatter\"},{\"attributes\":{},\"id\":\"2b84bf0e-2b21-4a4e-bc3a-171190fbc15e\",\"type\":\"Selection\"},{\"attributes\":{\"toolbar\":{\"id\":\"65f9308b-66c2-4b95-a3c0-9749661fad10\",\"type\":\"ProxyToolbar\"},\"toolbar_location\":\"above\"},\"id\":\"85ff08b3-f7f3-4de4-8408-f075a6662a35\",\"type\":\"ToolbarBox\"},{\"attributes\":{\"source\":{\"id\":\"cfc5734f-c1d6-4853-bf6e-e99ac8871d4a\",\"type\":\"ColumnDataSource\"}},\"id\":\"86cf9e79-eb4a-4853-9581-95cf2dc8be08\",\"type\":\"CDSView\"},{\"attributes\":{\"tools\":[{\"id\":\"ee088293-431b-4e56-b470-b807673b563a\",\"type\":\"PanTool\"},{\"id\":\"56696b30-5e6e-4b9b-99b1-d4989744ec22\",\"type\":\"WheelZoomTool\"},{\"id\":\"f68f6984-f8f7-423d-ad7e-156d4d5d62f4\",\"type\":\"BoxZoomTool\"},{\"id\":\"3735d561-35e6-4a59-ba4b-402aa9c34ae6\",\"type\":\"SaveTool\"},{\"id\":\"a2bea88b-7892-4649-af67-07c143f4c1b4\",\"type\":\"ResetTool\"},{\"id\":\"6eee4492-c3b0-4710-bda4-1d7d836f4085\",\"type\":\"HelpTool\"},{\"id\":\"49758696-2e36-454f-b7a4-5b360d6c733b\",\"type\":\"PanTool\"},{\"id\":\"f8f0c271-0a6f-46de-ada5-e8d2551874b2\",\"type\":\"WheelZoomTool\"},{\"id\":\"f8eecf48-48c4-42ff-86a8-b2860ab8230f\",\"type\":\"BoxZoomTool\"},{\"id\":\"23de2572-248f-4c56-a9f4-be14e39a41bd\",\"type\":\"SaveTool\"},{\"id\":\"82b020f0-6591-4066-897c-cb1194c745c2\",\"type\":\"ResetTool\"},{\"id\":\"e7ac5cc5-a057-4393-82ad-1c79e8c9c454\",\"type\":\"HelpTool\"},{\"id\":\"8e78ceaf-0404-42fa-bed6-d1f5bbfed31d\",\"type\":\"PanTool\"},{\"id\":\"fe636cad-8186-4cf6-936c-7484019f705d\",\"type\":\"WheelZoomTool\"},{\"id\":\"18d2b86a-7bb1-41d3-afbd-e8bed899b324\",\"type\":\"BoxZoomTool\"},{\"id\":\"1dc812f7-aa09-443c-a7fd-5b56e5568205\",\"type\":\"SaveTool\"},{\"id\":\"a498c8bc-35c2-4627-9b40-c514903e53ab\",\"type\":\"ResetTool\"},{\"id\":\"3a4f181b-9b7c-42cb-a38c-4e99863e458d\",\"type\":\"HelpTool\"}]},\"id\":\"65f9308b-66c2-4b95-a3c0-9749661fad10\",\"type\":\"ProxyToolbar\"},{\"attributes\":{},\"id\":\"23de2572-248f-4c56-a9f4-be14e39a41bd\",\"type\":\"SaveTool\"},{\"attributes\":{},\"id\":\"0dcf9d3c-cf7d-4895-ad02-5966607fc243\",\"type\":\"Selection\"},{\"attributes\":{\"data_source\":{\"id\":\"cfc5734f-c1d6-4853-bf6e-e99ac8871d4a\",\"type\":\"ColumnDataSource\"},\"glyph\":{\"id\":\"9a647c20-0d4a-42ca-a1c8-3d0d4370bab4\",\"type\":\"VBar\"},\"hover_glyph\":null,\"muted_glyph\":null,\"nonselection_glyph\":{\"id\":\"07d32c6b-8347-4c8f-810a-daa0178e9ac4\",\"type\":\"VBar\"},\"selection_glyph\":null,\"view\":{\"id\":\"86cf9e79-eb4a-4853-9581-95cf2dc8be08\",\"type\":\"CDSView\"}},\"id\":\"85ef1296-bd12-452d-bf52-ffc68d09a423\",\"type\":\"GlyphRenderer\"},{\"attributes\":{\"children\":[{\"id\":\"85ff08b3-f7f3-4de4-8408-f075a6662a35\",\"type\":\"ToolbarBox\"},{\"id\":\"a0027602-4cd6-4613-bf18-7644ce581c45\",\"type\":\"Column\"}]},\"id\":\"280fbaee-89df-4850-877a-60cb70dfcf9d\",\"type\":\"Column\"},{\"attributes\":{\"data_source\":{\"id\":\"ba7fd037-9eaf-4540-9eea-463ac0d96572\",\"type\":\"ColumnDataSource\"},\"glyph\":{\"id\":\"286f1cce-b6a4-46da-86ca-be02a02b8362\",\"type\":\"VBar\"},\"hover_glyph\":null,\"muted_glyph\":null,\"nonselection_glyph\":{\"id\":\"0e4eb795-e095-4a7e-840e-b1b8ca322560\",\"type\":\"VBar\"},\"selection_glyph\":null,\"view\":{\"id\":\"345be331-2266-49e0-8d08-296fb57923c7\",\"type\":\"CDSView\"}},\"id\":\"c1eaf1cd-faa2-4b54-9260-f801e764742c\",\"type\":\"GlyphRenderer\"},{\"attributes\":{},\"id\":\"11afc746-af87-4dc2-bdaa-8d76d65af344\",\"type\":\"CategoricalScale\"},{\"attributes\":{\"active_drag\":\"auto\",\"active_inspect\":\"auto\",\"active_scroll\":\"auto\",\"active_tap\":\"auto\",\"tools\":[{\"id\":\"49758696-2e36-454f-b7a4-5b360d6c733b\",\"type\":\"PanTool\"},{\"id\":\"f8f0c271-0a6f-46de-ada5-e8d2551874b2\",\"type\":\"WheelZoomTool\"},{\"id\":\"f8eecf48-48c4-42ff-86a8-b2860ab8230f\",\"type\":\"BoxZoomTool\"},{\"id\":\"23de2572-248f-4c56-a9f4-be14e39a41bd\",\"type\":\"SaveTool\"},{\"id\":\"82b020f0-6591-4066-897c-cb1194c745c2\",\"type\":\"ResetTool\"},{\"id\":\"e7ac5cc5-a057-4393-82ad-1c79e8c9c454\",\"type\":\"HelpTool\"}]},\"id\":\"5032ee83-3ed5-40c8-bb14-e0188ab8ce95\",\"type\":\"Toolbar\"},{\"attributes\":{\"fill_color\":{\"value\":\"#1f77b4\"},\"line_color\":{\"value\":\"#1f77b4\"},\"top\":{\"field\":\"flux\"},\"width\":{\"value\":0.9},\"x\":{\"field\":\"band\"}},\"id\":\"286f1cce-b6a4-46da-86ca-be02a02b8362\",\"type\":\"VBar\"},{\"attributes\":{\"bottom_units\":\"screen\",\"fill_alpha\":{\"value\":0.5},\"fill_color\":{\"value\":\"lightgrey\"},\"left_units\":\"screen\",\"level\":\"overlay\",\"line_alpha\":{\"value\":1.0},\"line_color\":{\"value\":\"black\"},\"line_dash\":[4,4],\"line_width\":{\"value\":2},\"plot\":null,\"render_mode\":\"css\",\"right_units\":\"screen\",\"top_units\":\"screen\"},\"id\":\"2b585bae-79f9-4fb7-86f5-ac8ce4cf3c0b\",\"type\":\"BoxAnnotation\"},{\"attributes\":{\"overlay\":{\"id\":\"c7693f92-e475-46eb-9f80-c3ef366db4d0\",\"type\":\"BoxAnnotation\"}},\"id\":\"f68f6984-f8f7-423d-ad7e-156d4d5d62f4\",\"type\":\"BoxZoomTool\"},{\"attributes\":{},\"id\":\"56696b30-5e6e-4b9b-99b1-d4989744ec22\",\"type\":\"WheelZoomTool\"},{\"attributes\":{},\"id\":\"82b020f0-6591-4066-897c-cb1194c745c2\",\"type\":\"ResetTool\"},{\"attributes\":{},\"id\":\"3735d561-35e6-4a59-ba4b-402aa9c34ae6\",\"type\":\"SaveTool\"},{\"attributes\":{},\"id\":\"e7ac5cc5-a057-4393-82ad-1c79e8c9c454\",\"type\":\"HelpTool\"},{\"attributes\":{\"below\":[{\"id\":\"c3a7af62-e417-40ae-8d4d-cb255ebbd540\",\"type\":\"CategoricalAxis\"}],\"left\":[{\"id\":\"61d741f7-ad3e-4118-954e-22e793322db8\",\"type\":\"LinearAxis\"}],\"plot_height\":300,\"plot_width\":300,\"renderers\":[{\"id\":\"c3a7af62-e417-40ae-8d4d-cb255ebbd540\",\"type\":\"CategoricalAxis\"},{\"id\":\"cab94306-98b1-4111-aa03-702858f36d2a\",\"type\":\"Grid\"},{\"id\":\"61d741f7-ad3e-4118-954e-22e793322db8\",\"type\":\"LinearAxis\"},{\"id\":\"3933fa8c-e530-418a-a692-e7dba03b8393\",\"type\":\"Grid\"},{\"id\":\"c7693f92-e475-46eb-9f80-c3ef366db4d0\",\"type\":\"BoxAnnotation\"},{\"id\":\"c1eaf1cd-faa2-4b54-9260-f801e764742c\",\"type\":\"GlyphRenderer\"}],\"title\":{\"id\":\"a82e4242-7e0a-49e7-82fe-a4c70f96e428\",\"type\":\"Title\"},\"toolbar\":{\"id\":\"8115dae4-0014-4544-836a-85e8037d0157\",\"type\":\"Toolbar\"},\"toolbar_location\":null,\"x_range\":{\"id\":\"44130453-a6d6-49e1-ac64-0b4018896846\",\"type\":\"FactorRange\"},\"x_scale\":{\"id\":\"11afc746-af87-4dc2-bdaa-8d76d65af344\",\"type\":\"CategoricalScale\"},\"y_range\":{\"id\":\"be9b6d5e-190b-4fc5-b99a-89a7f78803bd\",\"type\":\"DataRange1d\"},\"y_scale\":{\"id\":\"5e5601fa-0af1-43de-86cc-79e8b976ee37\",\"type\":\"LinearScale\"}},\"id\":\"adedbab9-008e-4e27-bfaf-ee182d04d35e\",\"subtype\":\"Figure\",\"type\":\"Plot\"},{\"attributes\":{},\"id\":\"6eee4492-c3b0-4710-bda4-1d7d836f4085\",\"type\":\"HelpTool\"},{\"attributes\":{},\"id\":\"a2bea88b-7892-4649-af67-07c143f4c1b4\",\"type\":\"ResetTool\"},{\"attributes\":{\"source\":{\"id\":\"ba7fd037-9eaf-4540-9eea-463ac0d96572\",\"type\":\"ColumnDataSource\"}},\"id\":\"345be331-2266-49e0-8d08-296fb57923c7\",\"type\":\"CDSView\"},{\"attributes\":{\"callback\":null},\"id\":\"be9b6d5e-190b-4fc5-b99a-89a7f78803bd\",\"type\":\"DataRange1d\"},{\"attributes\":{\"callback\":null,\"factors\":[\"1\",\"2\",\"3\",\"4\",\"5\",\"6\",\"7\",\"8\",\"9\",\"10\",\"11\"]},\"id\":\"2c76d0cb-6ef0-4d30-802d-d2c026986065\",\"type\":\"FactorRange\"},{\"attributes\":{\"plot\":null,\"text\":\"TOA flux. CLIRAD - CRD.\"},\"id\":\"a82e4242-7e0a-49e7-82fe-a4c70f96e428\",\"type\":\"Title\"},{\"attributes\":{\"plot\":{\"id\":\"c78c6247-6dbd-4b6b-9a1e-cf7092d4df71\",\"subtype\":\"Figure\",\"type\":\"Plot\"},\"ticker\":{\"id\":\"61a944ef-0b25-41fc-8f17-634154282661\",\"type\":\"CategoricalTicker\"}},\"id\":\"c8aa1dfe-4376-44d8-a225-791e1e958951\",\"type\":\"Grid\"},{\"attributes\":{},\"id\":\"3bf05645-dbe5-4dab-b378-59261b4ed8fc\",\"type\":\"CategoricalTickFormatter\"},{\"attributes\":{\"plot\":{\"id\":\"adedbab9-008e-4e27-bfaf-ee182d04d35e\",\"subtype\":\"Figure\",\"type\":\"Plot\"},\"ticker\":{\"id\":\"1ceecf84-a4ae-4385-b2b2-d77835286764\",\"type\":\"CategoricalTicker\"}},\"id\":\"cab94306-98b1-4111-aa03-702858f36d2a\",\"type\":\"Grid\"},{\"attributes\":{\"callback\":null,\"data\":{\"band\":[\"1\",\"2\",\"3\",\"4\",\"5\",\"6\",\"7\",\"8\",\"9\",\"10\",\"11\"],\"flux\":{\"__ndarray__\":\"AAD2K01gyD8Aamor3UC1v8BtYAfAZ+C/gLfwiogMzz+Anh9HLXTAvwB45WE+bMC/AHAZXrKxf78A9KGEQsikPwD+Zkr59cW/wMC9b7xgvj/AsOD1Q5+9vw==\",\"dtype\":\"float64\",\"shape\":[11]}},\"selected\":{\"id\":\"0dcf9d3c-cf7d-4895-ad02-5966607fc243\",\"type\":\"Selection\"},\"selection_policy\":{\"id\":\"b4550786-9f30-417a-84f8-69af9f02ee7c\",\"type\":\"UnionRenderers\"}},\"id\":\"119460f9-26f8-437f-a9a1-f450b7df3f35\",\"type\":\"ColumnDataSource\"},{\"attributes\":{\"axis_label\":\"flux (W m-2)\",\"formatter\":{\"id\":\"7db923bc-d215-497d-92ab-e2b14faceb24\",\"type\":\"BasicTickFormatter\"},\"plot\":{\"id\":\"c78c6247-6dbd-4b6b-9a1e-cf7092d4df71\",\"subtype\":\"Figure\",\"type\":\"Plot\"},\"ticker\":{\"id\":\"9b17336b-9d09-4c7b-87a1-716e5816d39f\",\"type\":\"BasicTicker\"}},\"id\":\"f8a019da-6866-4ffb-a9d3-728592e319c5\",\"type\":\"LinearAxis\"},{\"attributes\":{\"plot\":null,\"text\":\"SFC flux. CLIRAD - CRD.\"},\"id\":\"eb5daffd-8f2f-4e07-9714-862f3c3419b9\",\"type\":\"Title\"},{\"attributes\":{\"active_drag\":\"auto\",\"active_inspect\":\"auto\",\"active_scroll\":\"auto\",\"active_tap\":\"auto\",\"tools\":[{\"id\":\"8e78ceaf-0404-42fa-bed6-d1f5bbfed31d\",\"type\":\"PanTool\"},{\"id\":\"fe636cad-8186-4cf6-936c-7484019f705d\",\"type\":\"WheelZoomTool\"},{\"id\":\"18d2b86a-7bb1-41d3-afbd-e8bed899b324\",\"type\":\"BoxZoomTool\"},{\"id\":\"1dc812f7-aa09-443c-a7fd-5b56e5568205\",\"type\":\"SaveTool\"},{\"id\":\"a498c8bc-35c2-4627-9b40-c514903e53ab\",\"type\":\"ResetTool\"},{\"id\":\"3a4f181b-9b7c-42cb-a38c-4e99863e458d\",\"type\":\"HelpTool\"}]},\"id\":\"f09edd44-52d5-4091-b399-de50e92ff347\",\"type\":\"Toolbar\"},{\"attributes\":{\"axis_label\":\"spectral band\",\"formatter\":{\"id\":\"7be6ae70-3b00-4edb-850b-e93fc00cf5ce\",\"type\":\"CategoricalTickFormatter\"},\"plot\":{\"id\":\"adedbab9-008e-4e27-bfaf-ee182d04d35e\",\"subtype\":\"Figure\",\"type\":\"Plot\"},\"ticker\":{\"id\":\"1ceecf84-a4ae-4385-b2b2-d77835286764\",\"type\":\"CategoricalTicker\"}},\"id\":\"c3a7af62-e417-40ae-8d4d-cb255ebbd540\",\"type\":\"CategoricalAxis\"},{\"attributes\":{},\"id\":\"25bcbeeb-06ed-4c2a-96b3-b0ad607c98fb\",\"type\":\"CategoricalScale\"},{\"attributes\":{},\"id\":\"5e5601fa-0af1-43de-86cc-79e8b976ee37\",\"type\":\"LinearScale\"},{\"attributes\":{\"callback\":null,\"factors\":[\"1\",\"2\",\"3\",\"4\",\"5\",\"6\",\"7\",\"8\",\"9\",\"10\",\"11\"]},\"id\":\"44130453-a6d6-49e1-ac64-0b4018896846\",\"type\":\"FactorRange\"},{\"attributes\":{\"plot\":null,\"text\":\"Atmosphere heating. CLIRAD - CRD.\"},\"id\":\"1241ba57-5e5b-4d3e-8d8e-d0b38bd0c3ae\",\"type\":\"Title\"},{\"attributes\":{\"below\":[{\"id\":\"2a286b53-02b4-48db-9dde-4bc83c0fc092\",\"type\":\"CategoricalAxis\"}],\"left\":[{\"id\":\"78f0e0f8-6485-48df-aca9-427d0e472e31\",\"type\":\"LinearAxis\"}],\"plot_height\":300,\"plot_width\":300,\"renderers\":[{\"id\":\"2a286b53-02b4-48db-9dde-4bc83c0fc092\",\"type\":\"CategoricalAxis\"},{\"id\":\"8278db18-1f61-4d67-81e5-9bade0c9afc7\",\"type\":\"Grid\"},{\"id\":\"78f0e0f8-6485-48df-aca9-427d0e472e31\",\"type\":\"LinearAxis\"},{\"id\":\"e23605cc-55de-4553-94d9-b6fc9732451d\",\"type\":\"Grid\"},{\"id\":\"2b585bae-79f9-4fb7-86f5-ac8ce4cf3c0b\",\"type\":\"BoxAnnotation\"},{\"id\":\"85ef1296-bd12-452d-bf52-ffc68d09a423\",\"type\":\"GlyphRenderer\"}],\"title\":{\"id\":\"eb5daffd-8f2f-4e07-9714-862f3c3419b9\",\"type\":\"Title\"},\"toolbar\":{\"id\":\"5032ee83-3ed5-40c8-bb14-e0188ab8ce95\",\"type\":\"Toolbar\"},\"toolbar_location\":null,\"x_range\":{\"id\":\"2c76d0cb-6ef0-4d30-802d-d2c026986065\",\"type\":\"FactorRange\"},\"x_scale\":{\"id\":\"f9312413-c558-48cc-8721-cf556f756c03\",\"type\":\"CategoricalScale\"},\"y_range\":{\"id\":\"11ecd653-befc-4589-be03-f66ea76819a4\",\"type\":\"DataRange1d\"},\"y_scale\":{\"id\":\"61043bae-58cd-4730-b35e-32bd6976bf7b\",\"type\":\"LinearScale\"}},\"id\":\"85b78c5b-4102-4d75-877b-29f0b6107f11\",\"subtype\":\"Figure\",\"type\":\"Plot\"},{\"attributes\":{\"below\":[{\"id\":\"dad52d74-f3fd-4283-ad02-524b80ca28be\",\"type\":\"CategoricalAxis\"}],\"left\":[{\"id\":\"f8a019da-6866-4ffb-a9d3-728592e319c5\",\"type\":\"LinearAxis\"}],\"plot_height\":300,\"plot_width\":300,\"renderers\":[{\"id\":\"dad52d74-f3fd-4283-ad02-524b80ca28be\",\"type\":\"CategoricalAxis\"},{\"id\":\"c8aa1dfe-4376-44d8-a225-791e1e958951\",\"type\":\"Grid\"},{\"id\":\"f8a019da-6866-4ffb-a9d3-728592e319c5\",\"type\":\"LinearAxis\"},{\"id\":\"0bcf987b-f72f-4ef0-ad1a-5362f3b6cf40\",\"type\":\"Grid\"},{\"id\":\"29c4fa68-354b-4c5e-8d86-14c6c668e509\",\"type\":\"BoxAnnotation\"},{\"id\":\"5c64431c-3250-4c5a-a81f-e7d68b6c49f2\",\"type\":\"GlyphRenderer\"}],\"title\":{\"id\":\"1241ba57-5e5b-4d3e-8d8e-d0b38bd0c3ae\",\"type\":\"Title\"},\"toolbar\":{\"id\":\"f09edd44-52d5-4091-b399-de50e92ff347\",\"type\":\"Toolbar\"},\"toolbar_location\":null,\"x_range\":{\"id\":\"99447d96-26d3-41a5-ac30-78109ce45ee1\",\"type\":\"FactorRange\"},\"x_scale\":{\"id\":\"25bcbeeb-06ed-4c2a-96b3-b0ad607c98fb\",\"type\":\"CategoricalScale\"},\"y_range\":{\"id\":\"ab92fa0f-4fc6-4074-bb18-162d1867e4ab\",\"type\":\"DataRange1d\"},\"y_scale\":{\"id\":\"d8978cd3-b856-494f-a624-0b6f0ad0a1db\",\"type\":\"LinearScale\"}},\"id\":\"c78c6247-6dbd-4b6b-9a1e-cf7092d4df71\",\"subtype\":\"Figure\",\"type\":\"Plot\"},{\"attributes\":{},\"id\":\"d8978cd3-b856-494f-a624-0b6f0ad0a1db\",\"type\":\"LinearScale\"},{\"attributes\":{\"callback\":null,\"factors\":[\"1\",\"2\",\"3\",\"4\",\"5\",\"6\",\"7\",\"8\",\"9\",\"10\",\"11\"]},\"id\":\"99447d96-26d3-41a5-ac30-78109ce45ee1\",\"type\":\"FactorRange\"},{\"attributes\":{\"callback\":null},\"id\":\"ab92fa0f-4fc6-4074-bb18-162d1867e4ab\",\"type\":\"DataRange1d\"},{\"attributes\":{\"axis_label\":\"spectral band\",\"formatter\":{\"id\":\"3bf05645-dbe5-4dab-b378-59261b4ed8fc\",\"type\":\"CategoricalTickFormatter\"},\"plot\":{\"id\":\"c78c6247-6dbd-4b6b-9a1e-cf7092d4df71\",\"subtype\":\"Figure\",\"type\":\"Plot\"},\"ticker\":{\"id\":\"61a944ef-0b25-41fc-8f17-634154282661\",\"type\":\"CategoricalTicker\"}},\"id\":\"dad52d74-f3fd-4283-ad02-524b80ca28be\",\"type\":\"CategoricalAxis\"},{\"attributes\":{},\"id\":\"61a944ef-0b25-41fc-8f17-634154282661\",\"type\":\"CategoricalTicker\"}],\"root_ids\":[\"280fbaee-89df-4850-877a-60cb70dfcf9d\"]},\"title\":\"Bokeh Application\",\"version\":\"0.12.16\"}};\n",
       "  var render_items = [{\"docid\":\"cf3494b8-7de8-4eb9-9c45-e907328e278b\",\"elementid\":\"d2fe180c-92dc-475c-9068-a95ebe9734a9\",\"modelid\":\"280fbaee-89df-4850-877a-60cb70dfcf9d\"}];\n",
       "  root.Bokeh.embed.embed_items_notebook(docs_json, render_items);\n",
       "\n",
       "  }\n",
       "  if (root.Bokeh !== undefined) {\n",
       "    embed_document(root);\n",
       "  } else {\n",
       "    var attempts = 0;\n",
       "    var timer = setInterval(function(root) {\n",
       "      if (root.Bokeh !== undefined) {\n",
       "        embed_document(root);\n",
       "        clearInterval(timer);\n",
       "      }\n",
       "      attempts++;\n",
       "      if (attempts > 100) {\n",
       "        console.log(\"Bokeh: ERROR: Unable to run BokehJS code because BokehJS library is missing\")\n",
       "        clearInterval(timer);\n",
       "      }\n",
       "    }, 10, root)\n",
       "  }\n",
       "})(window);"
      ],
      "application/vnd.bokehjs_exec.v0+json": ""
     },
     "metadata": {
      "application/vnd.bokehjs_exec.v0+json": {
       "id": "280fbaee-89df-4850-877a-60cb70dfcf9d"
      }
     },
     "output_type": "display_data"
    },
    {
     "data": {
      "text/markdown": [
       "*FIGURE.* Difference between CLIRAD and CRD in TOA, SFC and net atmosphere flux, in each spectral band."
      ],
      "text/plain": [
       "<IPython.core.display.Markdown object>"
      ]
     },
     "metadata": {},
     "output_type": "display_data"
    },
    {
     "data": {
      "text/html": [
       "<div>\n",
       "<style scoped>\n",
       "    .dataframe tbody tr th:only-of-type {\n",
       "        vertical-align: middle;\n",
       "    }\n",
       "\n",
       "    .dataframe tbody tr th {\n",
       "        vertical-align: top;\n",
       "    }\n",
       "\n",
       "    .dataframe thead th {\n",
       "        text-align: right;\n",
       "    }\n",
       "</style>\n",
       "<table border=\"1\" class=\"dataframe\">\n",
       "  <thead>\n",
       "    <tr style=\"text-align: right;\">\n",
       "      <th></th>\n",
       "      <th>OLR flux</th>\n",
       "      <th>SFC flux</th>\n",
       "      <th>ATM heating</th>\n",
       "    </tr>\n",
       "    <tr>\n",
       "      <th>Sum over bands</th>\n",
       "      <th></th>\n",
       "      <th></th>\n",
       "      <th></th>\n",
       "    </tr>\n",
       "  </thead>\n",
       "  <tbody>\n",
       "    <tr>\n",
       "      <th>CLIRAD - CRD</th>\n",
       "      <td>0.09</td>\n",
       "      <td>0.65</td>\n",
       "      <td>-0.56</td>\n",
       "    </tr>\n",
       "    <tr>\n",
       "      <th>CRD</th>\n",
       "      <td>-335.19</td>\n",
       "      <td>272.69</td>\n",
       "      <td>-184.24</td>\n",
       "    </tr>\n",
       "  </tbody>\n",
       "</table>\n",
       "</div>"
      ],
      "text/plain": [
       "                OLR flux  SFC flux  ATM heating\n",
       "Sum over bands                                 \n",
       "CLIRAD - CRD        0.09      0.65        -0.56\n",
       "CRD              -335.19    272.69      -184.24"
      ]
     },
     "metadata": {},
     "output_type": "display_data"
    },
    {
     "data": {
      "text/markdown": [
       "*TABLE.* Difference between CLIRAD and CRD in TOA, SFC and net atmosphere flux, over all spectral bands. CRD's TOA, SFC and net atmosphere flux, over all spectral bands."
      ],
      "text/plain": [
       "<IPython.core.display.Markdown object>"
      ]
     },
     "metadata": {},
     "output_type": "display_data"
    },
    {
     "data": {
      "text/html": [
       "<a id=\"Cooling_rates._saw.\"></a>"
      ],
      "text/plain": [
       "<IPython.core.display.HTML object>"
      ]
     },
     "metadata": {},
     "output_type": "display_data"
    },
    {
     "data": {
      "text/markdown": [
       "# Cooling rates. saw."
      ],
      "text/plain": [
       "<IPython.core.display.Markdown object>"
      ]
     },
     "metadata": {},
     "output_type": "display_data"
    },
    {
     "data": {
      "text/html": [
       "\n",
       "<div class=\"bk-root\">\n",
       "    <div class=\"bk-plotdiv\" id=\"d2436efe-af38-42fd-9a12-c083a6a9b5da\"></div>\n",
       "</div>"
      ]
     },
     "metadata": {},
     "output_type": "display_data"
    },
    {
     "data": {
      "application/javascript": [
       "(function(root) {\n",
       "  function embed_document(root) {\n",
       "    \n",
       "  var docs_json = {\"e6a54ada-0f07-4328-aa3f-aef4d3ba980e\":{\"roots\":{\"references\":[{\"attributes\":{\"fill_alpha\":{\"value\":0.7},\"fill_color\":{\"value\":\"#4daf4a\"},\"line_alpha\":{\"value\":0.7},\"line_color\":{\"value\":\"#4daf4a\"},\"x\":{\"field\":\"x\"},\"y\":{\"field\":\"y\"}},\"id\":\"3e344b47-1dce-40ba-8c17-082129974059\",\"type\":\"Circle\"},{\"attributes\":{\"source\":{\"id\":\"8fd94e91-ab9f-4b1e-ad25-0c10320b1cc3\",\"type\":\"ColumnDataSource\"}},\"id\":\"38fa58af-4a51-4b52-b8fa-09d38c448910\",\"type\":\"CDSView\"},{\"attributes\":{\"data_source\":{\"id\":\"e3c3da7f-18fc-4d10-a592-3285ea829693\",\"type\":\"ColumnDataSource\"},\"glyph\":{\"id\":\"3e344b47-1dce-40ba-8c17-082129974059\",\"type\":\"Circle\"},\"hover_glyph\":null,\"muted_glyph\":null,\"nonselection_glyph\":{\"id\":\"cb776acd-2b1a-483a-8fcb-4f821fae8caa\",\"type\":\"Circle\"},\"selection_glyph\":null,\"view\":{\"id\":\"c500c152-498f-4a6e-b04a-3935d51c2354\",\"type\":\"CDSView\"}},\"id\":\"7f40de77-26d1-43dc-b7d5-522ec94396ac\",\"type\":\"GlyphRenderer\"},{\"attributes\":{\"line_color\":\"#4daf4a\",\"line_width\":1.5,\"x\":{\"field\":\"x\"},\"y\":{\"field\":\"y\"}},\"id\":\"cfcb7431-8c95-407f-8f63-72152713d264\",\"type\":\"Line\"},{\"attributes\":{\"callback\":null,\"data\":{\"x\":{\"__ndarray__\":\"1YyRaZi/F0CU1F7hSB0SQIKPSFAdLxFA96gYKhUaEEAHijy3cNkNQKhfJ8zdbwtAoI71LrcQCUCv+t8VqcoGQMshcDlvpgRAwaHqSPusAkAciU1U6OYAQNULAML5uv4/cnWCh5k6/D/Xya5MbML5PzVHaLs67vY/+BqpChRj9D+M2kDHeXjyP0+4qGWNFPE/tVZ9cm428D9VzrzewvHvP67JRWwto/A/uZh8RW0W7z9+5PUJGNjoPzLIq9FsNOQ/xsbxcJ5x4T8H0ZfDy/TePxlpke45jNs/XpKaud0e2T9Eh5Llag7YP0b2lLNGM9c/2PA8Pm341T/Ve1WX62TUPwmBIl+iqdM/T8usCkv70z83oQqX0yTUPxvf9UmkLNQ/V66heEAU1D/pWHc8/KXTP9/dlyKkKtk/UC4WFals3T/KquLtL1zgPzE5bY4mf+A/6eAhvuEt4D9MS0Q+iD/fP5Rj3OIkydw/ofcR2RpL3D/GEDtHN2rgP+iZr9DjeuM/hKWhCpn16j8i6HgXe93xP32sef+w6fQ/ecpQvUix9j+OBqtqVIX3P1oduBWbufc/vG+ljK+J9z+GE4ADMRz3P6qAuNdnj/Y/8P4b2Dfx9T+2mbSi9Uv1PwTu+72NpPQ/GnyUiJP98z9+cxqZNVjzP4CZOOnitPI/vJ7cPGIY8j89A3VrgIvxPzLp/jRpGfE/BPKOyhbV8D9IbZO+jsvwP2qldoHpzPA/9/QBN+VU8D/dN4rUvr7tPyOibIJUeOk/7eWRmUxU5T/q5Z9u/7HhPxKfkFwHTNo/\",\"dtype\":\"float64\",\"shape\":[75]},\"y\":{\"__ndarray__\":\"GhExyth1ND/Sv8nbtpRIP2vylNV0PVE/aTum7souWD/At0SJ8fVgPw3Iuahxymc/MSNhhJWvcD/bTfBN02d3P2zb5nxnaoA/CD5h5MAGhz8NmeH1TyaQP+zrCsc9p5Y/LbKd76fGnz/bLW5ISEmmPww9YvTcQq8/JV2OstnstT8Er5Y7M8G+P0c+r3jqkcU/5h99k6ZBzj88bCIzFzjVP4enV8oyxN0//yH99nXg5D8qOpLLf0jtP5kqGJXUifQ/c9cS8kHP/D+/DpwzojQEQIEmwoanVwxA4lgXt9HgE0BSSZ2AJuIbQAMJih9jjiNA5q4l5INuK0AwTKYKRj0zQNv5fmq8/DpAaCJseHrtQkB/+zpwzoxKQM3MzMzMeFJAZmZmZmZqWEAAAAAAAFxeQM3MzMzMJmJAmpmZmZkfZUBmZmZmZhhoQDMzMzMzEWtAAAAAAAAKbkBmZmZmZoFwQM3MzMzM/XFAMzMzMzN6c0CamZmZmfZ0QAAAAAAAc3ZAZmZmZmbvd0DNzMzMzGt5QDMzMzMz6HpAmpmZmZlkfEAAAAAAAOF9QGZmZmZmXX9AZmZmZuZsgECamZmZGSuBQM3MzMxM6YFAAAAAAICngkAzMzMzs2WDQGZmZmbmI4RAmpmZmRnihEDNzMzMTKCFQAAAAACAXoZAMzMzM7Mch0BmZmZm5tqHQJqZmZkZmYhAzczMzExXiUAAAAAAgBWKQDMzMzOz04pAZmZmZuaRi0CamZmZGVCMQM3MzMxMDo1AAAAAAIDMjUAzMzMzs4qOQGZmZmbmSI9A\",\"dtype\":\"float64\",\"shape\":[75]}},\"selected\":{\"id\":\"7e991346-5302-4ae9-90ad-549c6463fbad\",\"type\":\"Selection\"},\"selection_policy\":{\"id\":\"502171f7-ba5f-4bcd-bfb5-c3997cf6d4b6\",\"type\":\"UnionRenderers\"}},\"id\":\"206ea641-db38-4587-82ed-286b14e33913\",\"type\":\"ColumnDataSource\"},{\"attributes\":{\"data_source\":{\"id\":\"206ea641-db38-4587-82ed-286b14e33913\",\"type\":\"ColumnDataSource\"},\"glyph\":{\"id\":\"cfcb7431-8c95-407f-8f63-72152713d264\",\"type\":\"Line\"},\"hover_glyph\":null,\"muted_glyph\":null,\"nonselection_glyph\":{\"id\":\"25c167bc-fbcd-4513-a6be-3a1620d6aa65\",\"type\":\"Line\"},\"selection_glyph\":null,\"view\":{\"id\":\"05c38e5c-aaed-4bd8-8de4-dfb8ff901ced\",\"type\":\"CDSView\"}},\"id\":\"838ba85c-1e6c-405b-b176-99c138f5f043\",\"type\":\"GlyphRenderer\"},{\"attributes\":{\"callback\":null,\"data\":{\"x\":{\"__ndarray__\":\"1YyRaZi/F0CU1F7hSB0SQIKPSFAdLxFA96gYKhUaEEAHijy3cNkNQKhfJ8zdbwtAoI71LrcQCUCv+t8VqcoGQMshcDlvpgRAwaHqSPusAkAciU1U6OYAQNULAML5uv4/cnWCh5k6/D/Xya5MbML5PzVHaLs67vY/+BqpChRj9D+M2kDHeXjyP0+4qGWNFPE/tVZ9cm428D9VzrzewvHvP67JRWwto/A/uZh8RW0W7z9+5PUJGNjoPzLIq9FsNOQ/xsbxcJ5x4T8H0ZfDy/TePxlpke45jNs/XpKaud0e2T9Eh5Llag7YP0b2lLNGM9c/2PA8Pm341T/Ve1WX62TUPwmBIl+iqdM/T8usCkv70z83oQqX0yTUPxvf9UmkLNQ/V66heEAU1D/pWHc8/KXTP9/dlyKkKtk/UC4WFals3T/KquLtL1zgPzE5bY4mf+A/6eAhvuEt4D9MS0Q+iD/fP5Rj3OIkydw/ofcR2RpL3D/GEDtHN2rgP+iZr9DjeuM/hKWhCpn16j8i6HgXe93xP32sef+w6fQ/ecpQvUix9j+OBqtqVIX3P1oduBWbufc/vG+ljK+J9z+GE4ADMRz3P6qAuNdnj/Y/8P4b2Dfx9T+2mbSi9Uv1PwTu+72NpPQ/GnyUiJP98z9+cxqZNVjzP4CZOOnitPI/vJ7cPGIY8j89A3VrgIvxPzLp/jRpGfE/BPKOyhbV8D9IbZO+jsvwP2qldoHpzPA/9/QBN+VU8D/dN4rUvr7tPyOibIJUeOk/7eWRmUxU5T/q5Z9u/7HhPxKfkFwHTNo/\",\"dtype\":\"float64\",\"shape\":[75]},\"y\":{\"__ndarray__\":\"GhExyth1ND/Sv8nbtpRIP2vylNV0PVE/aTum7souWD/At0SJ8fVgPw3Iuahxymc/MSNhhJWvcD/bTfBN02d3P2zb5nxnaoA/CD5h5MAGhz8NmeH1TyaQP+zrCsc9p5Y/LbKd76fGnz/bLW5ISEmmPww9YvTcQq8/JV2OstnstT8Er5Y7M8G+P0c+r3jqkcU/5h99k6ZBzj88bCIzFzjVP4enV8oyxN0//yH99nXg5D8qOpLLf0jtP5kqGJXUifQ/c9cS8kHP/D+/DpwzojQEQIEmwoanVwxA4lgXt9HgE0BSSZ2AJuIbQAMJih9jjiNA5q4l5INuK0AwTKYKRj0zQNv5fmq8/DpAaCJseHrtQkB/+zpwzoxKQM3MzMzMeFJAZmZmZmZqWEAAAAAAAFxeQM3MzMzMJmJAmpmZmZkfZUBmZmZmZhhoQDMzMzMzEWtAAAAAAAAKbkBmZmZmZoFwQM3MzMzM/XFAMzMzMzN6c0CamZmZmfZ0QAAAAAAAc3ZAZmZmZmbvd0DNzMzMzGt5QDMzMzMz6HpAmpmZmZlkfEAAAAAAAOF9QGZmZmZmXX9AZmZmZuZsgECamZmZGSuBQM3MzMxM6YFAAAAAAICngkAzMzMzs2WDQGZmZmbmI4RAmpmZmRnihEDNzMzMTKCFQAAAAACAXoZAMzMzM7Mch0BmZmZm5tqHQJqZmZkZmYhAzczMzExXiUAAAAAAgBWKQDMzMzOz04pAZmZmZuaRi0CamZmZGVCMQM3MzMxMDo1AAAAAAIDMjUAzMzMzs4qOQGZmZmbmSI9A\",\"dtype\":\"float64\",\"shape\":[75]}},\"selected\":{\"id\":\"454e494f-c3e5-48fd-b9d5-20ab6b4a68b7\",\"type\":\"Selection\"},\"selection_policy\":{\"id\":\"c4ffb97e-5b6c-43f6-b4aa-07f690343f1f\",\"type\":\"UnionRenderers\"}},\"id\":\"e3c3da7f-18fc-4d10-a592-3285ea829693\",\"type\":\"ColumnDataSource\"},{\"attributes\":{\"source\":{\"id\":\"e3c3da7f-18fc-4d10-a592-3285ea829693\",\"type\":\"ColumnDataSource\"}},\"id\":\"c500c152-498f-4a6e-b04a-3935d51c2354\",\"type\":\"CDSView\"},{\"attributes\":{},\"id\":\"7ae7d03e-12d1-4b9c-9c3e-efd563a2d30f\",\"type\":\"PanTool\"},{\"attributes\":{\"data_source\":{\"id\":\"026a3d38-7c58-465b-a4a0-7036b644d37d\",\"type\":\"ColumnDataSource\"},\"glyph\":{\"id\":\"2b1ec2c1-e224-4b92-812d-4843c138d702\",\"type\":\"Line\"},\"hover_glyph\":null,\"muted_glyph\":null,\"nonselection_glyph\":{\"id\":\"2664c738-1f11-4253-8bed-4207deeffbd0\",\"type\":\"Line\"},\"selection_glyph\":null,\"view\":{\"id\":\"f746ee5a-3322-487f-bbed-a1c597d02dd8\",\"type\":\"CDSView\"}},\"id\":\"0c2336ca-2c4d-48d2-b3fa-434ec6b0fc96\",\"type\":\"GlyphRenderer\"},{\"attributes\":{\"above\":[{\"id\":\"8062975d-a8b9-4d1d-bcec-1eaa5a444b3d\",\"type\":\"Legend\"}],\"below\":[{\"id\":\"b41154e5-1f33-48f9-b65e-d9e10c6f91d6\",\"type\":\"LinearAxis\"}],\"left\":[{\"id\":\"9a174889-5eed-4a1e-9c45-4243a52686bf\",\"type\":\"LogAxis\"}],\"plot_width\":300,\"renderers\":[{\"id\":\"b41154e5-1f33-48f9-b65e-d9e10c6f91d6\",\"type\":\"LinearAxis\"},{\"id\":\"03384f5e-6a56-464c-91e9-cc8d21a97d50\",\"type\":\"Grid\"},{\"id\":\"9a174889-5eed-4a1e-9c45-4243a52686bf\",\"type\":\"LogAxis\"},{\"id\":\"ae7f5b6e-f28e-4283-83b7-9913caa06345\",\"type\":\"Grid\"},{\"id\":\"d47e7026-6467-42c4-9b59-ccd9557de282\",\"type\":\"BoxAnnotation\"},{\"id\":\"961f3d26-a568-4114-9052-6e3041ca2370\",\"type\":\"GlyphRenderer\"},{\"id\":\"663eba05-09a2-4f0b-9df3-a87c6b2f8989\",\"type\":\"GlyphRenderer\"},{\"id\":\"7dd5b36b-d079-4db0-959a-f3b8514cfd50\",\"type\":\"GlyphRenderer\"},{\"id\":\"8062975d-a8b9-4d1d-bcec-1eaa5a444b3d\",\"type\":\"Legend\"}],\"title\":{\"id\":\"f68d44fa-8697-4909-a879-e9268c11f10d\",\"type\":\"Title\"},\"toolbar\":{\"id\":\"e058d0a9-42e0-4d63-ab76-b5b79fa01712\",\"type\":\"Toolbar\"},\"toolbar_location\":null,\"x_range\":{\"id\":\"af967693-53a3-4b28-ac98-36b06d15723d\",\"type\":\"Range1d\"},\"x_scale\":{\"id\":\"4ace4361-7486-4dee-b149-e75d5bb1d5ab\",\"type\":\"LinearScale\"},\"y_range\":{\"id\":\"eaec1e7a-ab8e-4a04-bee1-c5fcaab1e162\",\"type\":\"Range1d\"},\"y_scale\":{\"id\":\"72d702a9-319b-475a-80c4-ac7302a9db91\",\"type\":\"LogScale\"}},\"id\":\"72e29059-35c1-4c50-a4f1-5ea33bbbb435\",\"subtype\":\"Figure\",\"type\":\"Plot\"},{\"attributes\":{\"source\":{\"id\":\"026a3d38-7c58-465b-a4a0-7036b644d37d\",\"type\":\"ColumnDataSource\"}},\"id\":\"f746ee5a-3322-487f-bbed-a1c597d02dd8\",\"type\":\"CDSView\"},{\"attributes\":{\"line_alpha\":0.1,\"line_color\":\"#1f77b4\",\"line_width\":1.5,\"x\":{\"field\":\"x\"},\"y\":{\"field\":\"y\"}},\"id\":\"25c167bc-fbcd-4513-a6be-3a1620d6aa65\",\"type\":\"Line\"},{\"attributes\":{\"active_drag\":\"auto\",\"active_inspect\":\"auto\",\"active_scroll\":\"auto\",\"active_tap\":\"auto\",\"tools\":[{\"id\":\"7ae7d03e-12d1-4b9c-9c3e-efd563a2d30f\",\"type\":\"PanTool\"},{\"id\":\"40db0693-a6f7-48a9-9b21-48ac04e1d6df\",\"type\":\"WheelZoomTool\"},{\"id\":\"caa45f02-22ce-4a6b-8e18-ef72c69f720a\",\"type\":\"BoxZoomTool\"},{\"id\":\"75daa0fa-ae95-4fad-b5bd-1b2f5349eaf8\",\"type\":\"SaveTool\"},{\"id\":\"1b4ba9f1-38dd-4c81-8a81-006d015093e2\",\"type\":\"ResetTool\"},{\"id\":\"d0b581ff-2d8f-4514-945a-772903fd0ce9\",\"type\":\"HelpTool\"}]},\"id\":\"e058d0a9-42e0-4d63-ab76-b5b79fa01712\",\"type\":\"Toolbar\"},{\"attributes\":{\"above\":[{\"id\":\"feb16bb4-581f-457b-b261-9285fbba0753\",\"type\":\"Legend\"}],\"below\":[{\"id\":\"3ffebaf3-e307-4184-b1bf-469ac6833334\",\"type\":\"LinearAxis\"}],\"left\":[{\"id\":\"a56f974e-947f-494b-8f93-9918a7595f98\",\"type\":\"LogAxis\"}],\"plot_width\":300,\"renderers\":[{\"id\":\"3ffebaf3-e307-4184-b1bf-469ac6833334\",\"type\":\"LinearAxis\"},{\"id\":\"ff593c45-d768-492e-b0b6-e39df270d7c8\",\"type\":\"Grid\"},{\"id\":\"a56f974e-947f-494b-8f93-9918a7595f98\",\"type\":\"LogAxis\"},{\"id\":\"1a870909-2201-4d97-86dc-d5048b0976e7\",\"type\":\"Grid\"},{\"id\":\"b89e325a-9bb0-46bd-a158-ca1a84c5f46b\",\"type\":\"BoxAnnotation\"},{\"id\":\"31c3446b-85cb-42d9-9bd6-e1180287e88c\",\"type\":\"GlyphRenderer\"},{\"id\":\"03f67115-e464-4375-bdd8-5230364d2e7a\",\"type\":\"GlyphRenderer\"},{\"id\":\"feb16bb4-581f-457b-b261-9285fbba0753\",\"type\":\"Legend\"}],\"title\":{\"id\":\"2dccb8a2-9f18-4b4a-912a-abe38066d350\",\"type\":\"Title\"},\"toolbar\":{\"id\":\"2829175d-6a54-4d14-8f7c-8164f862bd67\",\"type\":\"Toolbar\"},\"toolbar_location\":null,\"x_range\":{\"id\":\"cc7ddd19-9e90-42b5-af1a-9740637dab00\",\"type\":\"Range1d\"},\"x_scale\":{\"id\":\"15656ed6-56c7-496d-a7ca-b50d94b3140f\",\"type\":\"LinearScale\"},\"y_range\":{\"id\":\"69279b6c-28ec-4213-a0b5-1836f334c684\",\"type\":\"Range1d\"},\"y_scale\":{\"id\":\"9f70729b-fa58-4925-b565-d31e26e40ec2\",\"type\":\"LogScale\"}},\"id\":\"626ce877-9153-49ab-a717-f50a3e397707\",\"subtype\":\"Figure\",\"type\":\"Plot\"},{\"attributes\":{\"line_alpha\":0.6,\"line_color\":\"#e41a1c\",\"line_dash\":[6],\"line_width\":5,\"x\":{\"field\":\"x\"},\"y\":{\"field\":\"y\"}},\"id\":\"b21b4f98-047e-491e-ba0e-9ce849258157\",\"type\":\"Line\"},{\"attributes\":{\"fill_alpha\":{\"value\":0.1},\"fill_color\":{\"value\":\"#1f77b4\"},\"line_alpha\":{\"value\":0.1},\"line_color\":{\"value\":\"#1f77b4\"},\"x\":{\"field\":\"x\"},\"y\":{\"field\":\"y\"}},\"id\":\"cb776acd-2b1a-483a-8fcb-4f821fae8caa\",\"type\":\"Circle\"},{\"attributes\":{\"label\":{\"value\":\"CLIRAD\"},\"renderers\":[{\"id\":\"0c2336ca-2c4d-48d2-b3fa-434ec6b0fc96\",\"type\":\"GlyphRenderer\"}]},\"id\":\"17325245-3f92-4d29-b9bc-0bcbd535e255\",\"type\":\"LegendItem\"},{\"attributes\":{\"source\":{\"id\":\"206ea641-db38-4587-82ed-286b14e33913\",\"type\":\"ColumnDataSource\"}},\"id\":\"05c38e5c-aaed-4bd8-8de4-dfb8ff901ced\",\"type\":\"CDSView\"},{\"attributes\":{\"label\":{\"value\":\"CRD\"},\"renderers\":[{\"id\":\"7f40de77-26d1-43dc-b7d5-522ec94396ac\",\"type\":\"GlyphRenderer\"},{\"id\":\"838ba85c-1e6c-405b-b176-99c138f5f043\",\"type\":\"GlyphRenderer\"}]},\"id\":\"9270b538-0724-4d81-a588-e796dbd1fff2\",\"type\":\"LegendItem\"},{\"attributes\":{\"active_drag\":\"auto\",\"active_inspect\":\"auto\",\"active_scroll\":\"auto\",\"active_tap\":\"auto\",\"tools\":[{\"id\":\"cfc25aa0-0bc1-4b33-b6cc-a045e3311cd1\",\"type\":\"PanTool\"},{\"id\":\"16e94b4c-aa5e-46b9-8ea5-26e96745e642\",\"type\":\"WheelZoomTool\"},{\"id\":\"7173fbff-0180-46f3-837f-66dd73d1e902\",\"type\":\"BoxZoomTool\"},{\"id\":\"bbafadf0-e1f7-4e93-ba2c-f1ebb9498a5d\",\"type\":\"SaveTool\"},{\"id\":\"f0129c5a-6cb2-4a58-bcf7-1b28563faaa5\",\"type\":\"ResetTool\"},{\"id\":\"a9ae23bb-c1f0-4d51-b3fa-29f5c5ab0686\",\"type\":\"HelpTool\"}]},\"id\":\"66fc20ec-0664-443c-8f21-209fa3ef1bce\",\"type\":\"Toolbar\"},{\"attributes\":{},\"id\":\"c4ffb97e-5b6c-43f6-b4aa-07f690343f1f\",\"type\":\"UnionRenderers\"},{\"attributes\":{\"overlay\":{\"id\":\"d47e7026-6467-42c4-9b59-ccd9557de282\",\"type\":\"BoxAnnotation\"}},\"id\":\"caa45f02-22ce-4a6b-8e18-ef72c69f720a\",\"type\":\"BoxZoomTool\"},{\"attributes\":{\"bottom_units\":\"screen\",\"fill_alpha\":{\"value\":0.5},\"fill_color\":{\"value\":\"lightgrey\"},\"left_units\":\"screen\",\"level\":\"overlay\",\"line_alpha\":{\"value\":1.0},\"line_color\":{\"value\":\"black\"},\"line_dash\":[4,4],\"line_width\":{\"value\":2},\"plot\":null,\"render_mode\":\"css\",\"right_units\":\"screen\",\"top_units\":\"screen\"},\"id\":\"d47e7026-6467-42c4-9b59-ccd9557de282\",\"type\":\"BoxAnnotation\"},{\"attributes\":{\"callback\":null,\"end\":0.01,\"start\":1020},\"id\":\"8a9de091-e2ab-4269-9010-db87f275558b\",\"type\":\"Range1d\"},{\"attributes\":{},\"id\":\"40db0693-a6f7-48a9-9b21-48ac04e1d6df\",\"type\":\"WheelZoomTool\"},{\"attributes\":{},\"id\":\"75daa0fa-ae95-4fad-b5bd-1b2f5349eaf8\",\"type\":\"SaveTool\"},{\"attributes\":{},\"id\":\"1b4ba9f1-38dd-4c81-8a81-006d015093e2\",\"type\":\"ResetTool\"},{\"attributes\":{},\"id\":\"d0b581ff-2d8f-4514-945a-772903fd0ce9\",\"type\":\"HelpTool\"},{\"attributes\":{\"dimension\":1,\"plot\":{\"id\":\"72e29059-35c1-4c50-a4f1-5ea33bbbb435\",\"subtype\":\"Figure\",\"type\":\"Plot\"},\"ticker\":{\"id\":\"ed46ebdd-ee6b-471f-be9a-a2c2738b67c2\",\"type\":\"LogTicker\"}},\"id\":\"ae7f5b6e-f28e-4283-83b7-9913caa06345\",\"type\":\"Grid\"},{\"attributes\":{},\"id\":\"7a1f0fac-9441-4a8c-9d71-ec4bfb8558fe\",\"type\":\"Selection\"},{\"attributes\":{\"callback\":null,\"data\":{\"x\":{\"__ndarray__\":\"XUK14PHpCkCGWZx/lWUJQBO5WYZcBwpAw1+c1McuCkDD5aU5GrgJQIG1K5txjghAez/7STi0BkDGeO9HRGIEQNobbYgX+wFAi9tVR8/p/z9T3K1dDDn9P+VwRwYurvs/sjIHxcGa+j/VQY3s1/H4P31VMZF0UPY/Yyxv7wKj8z+QJo2+CKvxP6Hq2DfChvA/5Eb5ioXq7z/diqj1U4XvP7mDea64KvA/T/UCTp8W7j9gCFFAp7foP/JTQKCiKOU/sjgsjnLx4j+j6/lI5ZzgP1UzL61Q5tw/71VqeIHJ2D9DbOcdB8DWP+FniMIBPNY/hhtiszxW1T+x31zJ35fTP9ogvYfLRdM/lqFTjn/K0z/kIByKHbjTP/e58w+cg9M/qptCXVfw0j/ZKH4hZUzSP6U5ukiEwdc//mdZI2KS3D85YUXc3RzgP+DOHJ71MuA/mXA2UYV23z9jxwn+TW7eP11iAlzJUdw/Sc1bBFIH3D/0LACTr1TgP2irrJsIO+M/uO4UHkIq6j/YOrLtjR7xPxOgjEzyMPQ/jM3EEM839j/pzyeVNwn3P8hqa1+MAvc/mKC1VzjV9j9lQV/pVpL2PwtoZ4KAMfY/aAjKm+qu9T/Rh9yEahP1P25fJtvXhfQ/VljBz/7n8z+2Zug2IUDzP8/3NB8HlfI/xm1E0Anz8T9OrPW8mWjxPzaaBPleAvE/l5GhO63Y8D9NoWMmWe/wP7LYTQFV+fA/HNZkZteb8D+GqMVXcFzuPzKkng9c/+k/lZgJtKvo5T/u+TK5HhLiPz9ZA21RI9s/\",\"dtype\":\"float64\",\"shape\":[75]},\"y\":{\"__ndarray__\":\"GhExyth1ND/Sv8nbtpRIP2vylNV0PVE/aTum7souWD/At0SJ8fVgPw3Iuahxymc/MSNhhJWvcD/bTfBN02d3P2zb5nxnaoA/CD5h5MAGhz8NmeH1TyaQP+zrCsc9p5Y/LbKd76fGnz/bLW5ISEmmPww9YvTcQq8/JV2OstnstT8Er5Y7M8G+P0c+r3jqkcU/5h99k6ZBzj88bCIzFzjVP4enV8oyxN0//yH99nXg5D8qOpLLf0jtP5kqGJXUifQ/c9cS8kHP/D+/DpwzojQEQIEmwoanVwxA4lgXt9HgE0BSSZ2AJuIbQAMJih9jjiNA5q4l5INuK0AwTKYKRj0zQNv5fmq8/DpAaCJseHrtQkB/+zpwzoxKQM3MzMzMeFJAZmZmZmZqWEAAAAAAAFxeQM3MzMzMJmJAmpmZmZkfZUBmZmZmZhhoQDMzMzMzEWtAAAAAAAAKbkBmZmZmZoFwQM3MzMzM/XFAMzMzMzN6c0CamZmZmfZ0QAAAAAAAc3ZAZmZmZmbvd0DNzMzMzGt5QDMzMzMz6HpAmpmZmZlkfEAAAAAAAOF9QGZmZmZmXX9AZmZmZuZsgECamZmZGSuBQM3MzMxM6YFAAAAAAICngkAzMzMzs2WDQGZmZmbmI4RAmpmZmRnihEDNzMzMTKCFQAAAAACAXoZAMzMzM7Mch0BmZmZm5tqHQJqZmZkZmYhAzczMzExXiUAAAAAAgBWKQDMzMzOz04pAZmZmZuaRi0CamZmZGVCMQM3MzMxMDo1AAAAAAIDMjUAzMzMzs4qOQGZmZmbmSI9A\",\"dtype\":\"float64\",\"shape\":[75]}},\"selected\":{\"id\":\"a82290a1-81c8-4d71-b378-92ccaff17666\",\"type\":\"Selection\"},\"selection_policy\":{\"id\":\"661bdb52-9892-4e22-89c3-ec1b59eefab7\",\"type\":\"UnionRenderers\"}},\"id\":\"8fd94e91-ab9f-4b1e-ad25-0c10320b1cc3\",\"type\":\"ColumnDataSource\"},{\"attributes\":{\"line_alpha\":0.1,\"line_color\":\"#1f77b4\",\"line_dash\":[6],\"line_width\":5,\"x\":{\"field\":\"x\"},\"y\":{\"field\":\"y\"}},\"id\":\"8a8f6861-225d-4f14-a6ac-c7c80bf29a00\",\"type\":\"Line\"},{\"attributes\":{},\"id\":\"454e494f-c3e5-48fd-b9d5-20ab6b4a68b7\",\"type\":\"Selection\"},{\"attributes\":{\"data_source\":{\"id\":\"8fd94e91-ab9f-4b1e-ad25-0c10320b1cc3\",\"type\":\"ColumnDataSource\"},\"glyph\":{\"id\":\"b21b4f98-047e-491e-ba0e-9ce849258157\",\"type\":\"Line\"},\"hover_glyph\":null,\"muted_glyph\":null,\"nonselection_glyph\":{\"id\":\"8a8f6861-225d-4f14-a6ac-c7c80bf29a00\",\"type\":\"Line\"},\"selection_glyph\":null,\"view\":{\"id\":\"38fa58af-4a51-4b52-b8fa-09d38c448910\",\"type\":\"CDSView\"}},\"id\":\"961f3d26-a568-4114-9052-6e3041ca2370\",\"type\":\"GlyphRenderer\"},{\"attributes\":{},\"id\":\"1e785db2-07c6-482e-96c7-b8ae295a513c\",\"type\":\"BasicTicker\"},{\"attributes\":{\"dimension\":1,\"plot\":{\"id\":\"191d199f-d99d-4ea4-a02e-241335c7f5dd\",\"subtype\":\"Figure\",\"type\":\"Plot\"},\"ticker\":{\"id\":\"c9a73980-16b8-40fe-aa13-bac458b05abf\",\"type\":\"BasicTicker\"}},\"id\":\"40a47a61-4f61-4eb5-af07-87a2ba1b3b20\",\"type\":\"Grid\"},{\"attributes\":{\"bottom_units\":\"screen\",\"fill_alpha\":{\"value\":0.5},\"fill_color\":{\"value\":\"lightgrey\"},\"left_units\":\"screen\",\"level\":\"overlay\",\"line_alpha\":{\"value\":1.0},\"line_color\":{\"value\":\"black\"},\"line_dash\":[4,4],\"line_width\":{\"value\":2},\"plot\":null,\"render_mode\":\"css\",\"right_units\":\"screen\",\"top_units\":\"screen\"},\"id\":\"b89e325a-9bb0-46bd-a158-ca1a84c5f46b\",\"type\":\"BoxAnnotation\"},{\"attributes\":{},\"id\":\"c9a73980-16b8-40fe-aa13-bac458b05abf\",\"type\":\"BasicTicker\"},{\"attributes\":{},\"id\":\"2b580ce3-583c-4f34-81b8-156b50d1edac\",\"type\":\"SaveTool\"},{\"attributes\":{},\"id\":\"b7ea139c-47c8-4fe4-9f70-eebd596cd87f\",\"type\":\"PanTool\"},{\"attributes\":{},\"id\":\"62eee58e-7326-42b0-b536-bf7c73352266\",\"type\":\"ResetTool\"},{\"attributes\":{},\"id\":\"92f0ba56-bbc1-4b4d-a1e3-62757d3bf022\",\"type\":\"HelpTool\"},{\"attributes\":{},\"id\":\"d678e506-ca35-4ed0-b435-14b270dddbd5\",\"type\":\"BasicTickFormatter\"},{\"attributes\":{\"data_source\":{\"id\":\"24c3073f-ab3e-4ed6-a8ed-7a14fa192d4d\",\"type\":\"ColumnDataSource\"},\"glyph\":{\"id\":\"a09ea975-dde9-4bf5-b192-ecc7b148e780\",\"type\":\"Circle\"},\"hover_glyph\":null,\"muted_glyph\":null,\"nonselection_glyph\":{\"id\":\"ea07fd0e-955a-4d91-baf2-f8b2f6d9bb99\",\"type\":\"Circle\"},\"selection_glyph\":null,\"view\":{\"id\":\"12a890df-7e0d-4f8b-9dce-4ef6f1d4f646\",\"type\":\"CDSView\"}},\"id\":\"31c3446b-85cb-42d9-9bd6-e1180287e88c\",\"type\":\"GlyphRenderer\"},{\"attributes\":{\"axis_label\":\"cooling rate [K/day]\",\"formatter\":{\"id\":\"1b436eea-22f6-4906-b00c-268d85acd370\",\"type\":\"BasicTickFormatter\"},\"plot\":{\"id\":\"191d199f-d99d-4ea4-a02e-241335c7f5dd\",\"subtype\":\"Figure\",\"type\":\"Plot\"},\"ticker\":{\"id\":\"1e785db2-07c6-482e-96c7-b8ae295a513c\",\"type\":\"BasicTicker\"}},\"id\":\"e08d68fc-d2b3-44a3-b296-9f803a081597\",\"type\":\"LinearAxis\"},{\"attributes\":{\"axis_label\":\"pressure [mb]\",\"formatter\":{\"id\":\"d678e506-ca35-4ed0-b435-14b270dddbd5\",\"type\":\"BasicTickFormatter\"},\"plot\":{\"id\":\"191d199f-d99d-4ea4-a02e-241335c7f5dd\",\"subtype\":\"Figure\",\"type\":\"Plot\"},\"ticker\":{\"id\":\"c9a73980-16b8-40fe-aa13-bac458b05abf\",\"type\":\"BasicTicker\"}},\"id\":\"77a5c72b-c9ad-4a41-b42f-ecfcb9ebb951\",\"type\":\"LinearAxis\"},{\"attributes\":{},\"id\":\"1a20ea9f-ca74-422b-8023-2d0569d48aa8\",\"type\":\"LinearScale\"},{\"attributes\":{\"ticker\":null},\"id\":\"21305711-7837-41a0-9367-7823ab8bbcd2\",\"type\":\"LogTickFormatter\"},{\"attributes\":{},\"id\":\"4102e288-172f-4c4b-9071-e77e0a0b569c\",\"type\":\"LinearScale\"},{\"attributes\":{\"line_color\":\"#4daf4a\",\"line_width\":1.5,\"x\":{\"field\":\"x\"},\"y\":{\"field\":\"y\"}},\"id\":\"62ffa6d8-43d5-4f69-89a2-456c513ef95b\",\"type\":\"Line\"},{\"attributes\":{\"source\":{\"id\":\"691b62ea-81ee-4f1f-9a4e-5cffaea9eeeb\",\"type\":\"ColumnDataSource\"}},\"id\":\"b03c52d2-74b0-4862-a09c-1f7d54aac055\",\"type\":\"CDSView\"},{\"attributes\":{\"items\":[{\"id\":\"4e3f9001-a649-4627-9287-8a5c92afff68\",\"type\":\"LegendItem\"},{\"id\":\"d5e1be2b-2d8c-4da0-9a36-5426746bf8eb\",\"type\":\"LegendItem\"}],\"label_text_font_size\":{\"value\":\"8pt\"},\"location\":\"top_center\",\"orientation\":\"horizontal\",\"plot\":{\"id\":\"72e29059-35c1-4c50-a4f1-5ea33bbbb435\",\"subtype\":\"Figure\",\"type\":\"Plot\"}},\"id\":\"8062975d-a8b9-4d1d-bcec-1eaa5a444b3d\",\"type\":\"Legend\"},{\"attributes\":{\"line_alpha\":0.8,\"line_color\":\"#984ea3\",\"line_width\":1.5,\"x\":{\"field\":\"x\"},\"y\":{\"field\":\"y\"}},\"id\":\"af316673-6fd3-42e0-b7c4-c443bed68027\",\"type\":\"Line\"},{\"attributes\":{\"callback\":null,\"end\":1.4947829273814628,\"start\":0.27394377201699743},\"id\":\"abe66333-dd21-4c8e-8b3d-1b0f9db817c6\",\"type\":\"Range1d\"},{\"attributes\":{\"line_alpha\":0.1,\"line_color\":\"#1f77b4\",\"line_width\":1.5,\"x\":{\"field\":\"x\"},\"y\":{\"field\":\"y\"}},\"id\":\"85644432-b248-4fd1-a1ce-0f9f20a6532b\",\"type\":\"Line\"},{\"attributes\":{\"children\":[{\"id\":\"8674caab-5644-4dcd-b566-331e679c8382\",\"type\":\"Row\"}]},\"id\":\"b9b17c8e-4dba-4079-9a9f-47c4f044bb6e\",\"type\":\"Column\"},{\"attributes\":{\"callback\":null,\"data\":{\"x\":{\"__ndarray__\":\"1YyRaZi/F0CU1F7hSB0SQIKPSFAdLxFA96gYKhUaEEAHijy3cNkNQKhfJ8zdbwtAoI71LrcQCUCv+t8VqcoGQMshcDlvpgRAwaHqSPusAkAciU1U6OYAQNULAML5uv4/cnWCh5k6/D/Xya5MbML5PzVHaLs67vY/+BqpChRj9D+M2kDHeXjyP0+4qGWNFPE/tVZ9cm428D9VzrzewvHvP67JRWwto/A/uZh8RW0W7z9+5PUJGNjoPzLIq9FsNOQ/xsbxcJ5x4T8H0ZfDy/TePxlpke45jNs/XpKaud0e2T9Eh5Llag7YP0b2lLNGM9c/2PA8Pm341T/Ve1WX62TUPwmBIl+iqdM/T8usCkv70z83oQqX0yTUPxvf9UmkLNQ/V66heEAU1D/pWHc8/KXTP9/dlyKkKtk/UC4WFals3T/KquLtL1zgPzE5bY4mf+A/6eAhvuEt4D9MS0Q+iD/fP5Rj3OIkydw/ofcR2RpL3D/GEDtHN2rgP+iZr9DjeuM/hKWhCpn16j8i6HgXe93xP32sef+w6fQ/ecpQvUix9j+OBqtqVIX3P1oduBWbufc/vG+ljK+J9z+GE4ADMRz3P6qAuNdnj/Y/8P4b2Dfx9T+2mbSi9Uv1PwTu+72NpPQ/GnyUiJP98z9+cxqZNVjzP4CZOOnitPI/vJ7cPGIY8j89A3VrgIvxPzLp/jRpGfE/BPKOyhbV8D9IbZO+jsvwP2qldoHpzPA/9/QBN+VU8D/dN4rUvr7tPyOibIJUeOk/7eWRmUxU5T/q5Z9u/7HhPxKfkFwHTNo/\",\"dtype\":\"float64\",\"shape\":[75]},\"y\":{\"__ndarray__\":\"GhExyth1ND/Sv8nbtpRIP2vylNV0PVE/aTum7souWD/At0SJ8fVgPw3Iuahxymc/MSNhhJWvcD/bTfBN02d3P2zb5nxnaoA/CD5h5MAGhz8NmeH1TyaQP+zrCsc9p5Y/LbKd76fGnz/bLW5ISEmmPww9YvTcQq8/JV2OstnstT8Er5Y7M8G+P0c+r3jqkcU/5h99k6ZBzj88bCIzFzjVP4enV8oyxN0//yH99nXg5D8qOpLLf0jtP5kqGJXUifQ/c9cS8kHP/D+/DpwzojQEQIEmwoanVwxA4lgXt9HgE0BSSZ2AJuIbQAMJih9jjiNA5q4l5INuK0AwTKYKRj0zQNv5fmq8/DpAaCJseHrtQkB/+zpwzoxKQM3MzMzMeFJAZmZmZmZqWEAAAAAAAFxeQM3MzMzMJmJAmpmZmZkfZUBmZmZmZhhoQDMzMzMzEWtAAAAAAAAKbkBmZmZmZoFwQM3MzMzM/XFAMzMzMzN6c0CamZmZmfZ0QAAAAAAAc3ZAZmZmZmbvd0DNzMzMzGt5QDMzMzMz6HpAmpmZmZlkfEAAAAAAAOF9QGZmZmZmXX9AZmZmZuZsgECamZmZGSuBQM3MzMxM6YFAAAAAAICngkAzMzMzs2WDQGZmZmbmI4RAmpmZmRnihEDNzMzMTKCFQAAAAACAXoZAMzMzM7Mch0BmZmZm5tqHQJqZmZkZmYhAzczMzExXiUAAAAAAgBWKQDMzMzOz04pAZmZmZuaRi0CamZmZGVCMQM3MzMxMDo1AAAAAAIDMjUAzMzMzs4qOQGZmZmbmSI9A\",\"dtype\":\"float64\",\"shape\":[75]}},\"selected\":{\"id\":\"aeb5a2eb-4721-4cdc-a306-cb50a41f4bfc\",\"type\":\"Selection\"},\"selection_policy\":{\"id\":\"03d6c38d-1436-4e93-b873-289f1cd56b44\",\"type\":\"UnionRenderers\"}},\"id\":\"691b62ea-81ee-4f1f-9a4e-5cffaea9eeeb\",\"type\":\"ColumnDataSource\"},{\"attributes\":{\"callback\":null,\"end\":2.354949171571657,\"start\":0.2654272745497678},\"id\":\"af967693-53a3-4b28-ac98-36b06d15723d\",\"type\":\"Range1d\"},{\"attributes\":{\"source\":{\"id\":\"09885a14-1b02-4b79-b9c2-bad89c959e6d\",\"type\":\"ColumnDataSource\"}},\"id\":\"c922b741-1855-4b5c-9672-56a6b3515184\",\"type\":\"CDSView\"},{\"attributes\":{\"children\":[{\"id\":\"191d199f-d99d-4ea4-a02e-241335c7f5dd\",\"subtype\":\"Figure\",\"type\":\"Plot\"},{\"id\":\"72e29059-35c1-4c50-a4f1-5ea33bbbb435\",\"subtype\":\"Figure\",\"type\":\"Plot\"},{\"id\":\"626ce877-9153-49ab-a717-f50a3e397707\",\"subtype\":\"Figure\",\"type\":\"Plot\"}]},\"id\":\"8674caab-5644-4dcd-b566-331e679c8382\",\"type\":\"Row\"},{\"attributes\":{\"above\":[{\"id\":\"e0c5dc15-bfd6-4d13-ac84-442adbb5589c\",\"type\":\"Legend\"}],\"below\":[{\"id\":\"e08d68fc-d2b3-44a3-b296-9f803a081597\",\"type\":\"LinearAxis\"}],\"left\":[{\"id\":\"77a5c72b-c9ad-4a41-b42f-ecfcb9ebb951\",\"type\":\"LinearAxis\"}],\"plot_width\":300,\"renderers\":[{\"id\":\"e08d68fc-d2b3-44a3-b296-9f803a081597\",\"type\":\"LinearAxis\"},{\"id\":\"5a66ce56-a805-4089-b8e6-e0f7216347cd\",\"type\":\"Grid\"},{\"id\":\"77a5c72b-c9ad-4a41-b42f-ecfcb9ebb951\",\"type\":\"LinearAxis\"},{\"id\":\"40a47a61-4f61-4eb5-af07-87a2ba1b3b20\",\"type\":\"Grid\"},{\"id\":\"4afbc23c-3ab3-4a5f-89c7-0adbb36b6c5d\",\"type\":\"BoxAnnotation\"},{\"id\":\"0c2336ca-2c4d-48d2-b3fa-434ec6b0fc96\",\"type\":\"GlyphRenderer\"},{\"id\":\"7f40de77-26d1-43dc-b7d5-522ec94396ac\",\"type\":\"GlyphRenderer\"},{\"id\":\"838ba85c-1e6c-405b-b176-99c138f5f043\",\"type\":\"GlyphRenderer\"},{\"id\":\"e0c5dc15-bfd6-4d13-ac84-442adbb5589c\",\"type\":\"Legend\"}],\"title\":{\"id\":\"a2445b70-dab4-4eea-a4ef-2b313e156c8b\",\"type\":\"Title\"},\"toolbar\":{\"id\":\"66fc20ec-0664-443c-8f21-209fa3ef1bce\",\"type\":\"Toolbar\"},\"toolbar_location\":null,\"x_range\":{\"id\":\"abe66333-dd21-4c8e-8b3d-1b0f9db817c6\",\"type\":\"Range1d\"},\"x_scale\":{\"id\":\"4102e288-172f-4c4b-9071-e77e0a0b569c\",\"type\":\"LinearScale\"},\"y_range\":{\"id\":\"8a9de091-e2ab-4269-9010-db87f275558b\",\"type\":\"Range1d\"},\"y_scale\":{\"id\":\"1a20ea9f-ca74-422b-8023-2d0569d48aa8\",\"type\":\"LinearScale\"}},\"id\":\"191d199f-d99d-4ea4-a02e-241335c7f5dd\",\"subtype\":\"Figure\",\"type\":\"Plot\"},{\"attributes\":{\"plot\":{\"id\":\"191d199f-d99d-4ea4-a02e-241335c7f5dd\",\"subtype\":\"Figure\",\"type\":\"Plot\"},\"ticker\":{\"id\":\"1e785db2-07c6-482e-96c7-b8ae295a513c\",\"type\":\"BasicTicker\"}},\"id\":\"5a66ce56-a805-4089-b8e6-e0f7216347cd\",\"type\":\"Grid\"},{\"attributes\":{\"source\":{\"id\":\"57c9a7c2-aa38-499a-b8e4-5b149aff2d30\",\"type\":\"ColumnDataSource\"}},\"id\":\"f9ef1ec3-02ca-4b17-bdf5-bbe275b8bf78\",\"type\":\"CDSView\"},{\"attributes\":{\"label\":{\"value\":\"CLIRAD - CRD\"},\"renderers\":[{\"id\":\"31c3446b-85cb-42d9-9bd6-e1180287e88c\",\"type\":\"GlyphRenderer\"},{\"id\":\"03f67115-e464-4375-bdd8-5230364d2e7a\",\"type\":\"GlyphRenderer\"}]},\"id\":\"13e0f0c6-48ae-48a5-8089-59db494e5d25\",\"type\":\"LegendItem\"},{\"attributes\":{},\"id\":\"4ace4361-7486-4dee-b149-e75d5bb1d5ab\",\"type\":\"LinearScale\"},{\"attributes\":{},\"id\":\"15656ed6-56c7-496d-a7ca-b50d94b3140f\",\"type\":\"LinearScale\"},{\"attributes\":{},\"id\":\"d208c0f8-b09b-4175-a5f9-9d782b3e0836\",\"type\":\"BasicTickFormatter\"},{\"attributes\":{\"fill_alpha\":{\"value\":0.7},\"fill_color\":{\"value\":\"#4daf4a\"},\"line_alpha\":{\"value\":0.7},\"line_color\":{\"value\":\"#4daf4a\"},\"x\":{\"field\":\"x\"},\"y\":{\"field\":\"y\"}},\"id\":\"46999d40-5d09-4e9a-91ce-13108ba30fd1\",\"type\":\"Circle\"},{\"attributes\":{\"callback\":null,\"data\":{\"x\":{\"__ndarray__\":\"1YyRaZi/F0CU1F7hSB0SQIKPSFAdLxFA96gYKhUaEEAHijy3cNkNQKhfJ8zdbwtAoI71LrcQCUCv+t8VqcoGQMshcDlvpgRAwaHqSPusAkAciU1U6OYAQNULAML5uv4/cnWCh5k6/D/Xya5MbML5PzVHaLs67vY/+BqpChRj9D+M2kDHeXjyP0+4qGWNFPE/tVZ9cm428D9VzrzewvHvP67JRWwto/A/uZh8RW0W7z9+5PUJGNjoPzLIq9FsNOQ/xsbxcJ5x4T8H0ZfDy/TePxlpke45jNs/XpKaud0e2T9Eh5Llag7YP0b2lLNGM9c/2PA8Pm341T/Ve1WX62TUPwmBIl+iqdM/T8usCkv70z83oQqX0yTUPxvf9UmkLNQ/V66heEAU1D/pWHc8/KXTP9/dlyKkKtk/UC4WFals3T/KquLtL1zgPzE5bY4mf+A/6eAhvuEt4D9MS0Q+iD/fP5Rj3OIkydw/ofcR2RpL3D/GEDtHN2rgP+iZr9DjeuM/hKWhCpn16j8i6HgXe93xP32sef+w6fQ/ecpQvUix9j+OBqtqVIX3P1oduBWbufc/vG+ljK+J9z+GE4ADMRz3P6qAuNdnj/Y/8P4b2Dfx9T+2mbSi9Uv1PwTu+72NpPQ/GnyUiJP98z9+cxqZNVjzP4CZOOnitPI/vJ7cPGIY8j89A3VrgIvxPzLp/jRpGfE/BPKOyhbV8D9IbZO+jsvwP2qldoHpzPA/9/QBN+VU8D/dN4rUvr7tPyOibIJUeOk/7eWRmUxU5T/q5Z9u/7HhPxKfkFwHTNo/\",\"dtype\":\"float64\",\"shape\":[75]},\"y\":{\"__ndarray__\":\"GhExyth1ND/Sv8nbtpRIP2vylNV0PVE/aTum7souWD/At0SJ8fVgPw3Iuahxymc/MSNhhJWvcD/bTfBN02d3P2zb5nxnaoA/CD5h5MAGhz8NmeH1TyaQP+zrCsc9p5Y/LbKd76fGnz/bLW5ISEmmPww9YvTcQq8/JV2OstnstT8Er5Y7M8G+P0c+r3jqkcU/5h99k6ZBzj88bCIzFzjVP4enV8oyxN0//yH99nXg5D8qOpLLf0jtP5kqGJXUifQ/c9cS8kHP/D+/DpwzojQEQIEmwoanVwxA4lgXt9HgE0BSSZ2AJuIbQAMJih9jjiNA5q4l5INuK0AwTKYKRj0zQNv5fmq8/DpAaCJseHrtQkB/+zpwzoxKQM3MzMzMeFJAZmZmZmZqWEAAAAAAAFxeQM3MzMzMJmJAmpmZmZkfZUBmZmZmZhhoQDMzMzMzEWtAAAAAAAAKbkBmZmZmZoFwQM3MzMzM/XFAMzMzMzN6c0CamZmZmfZ0QAAAAAAAc3ZAZmZmZmbvd0DNzMzMzGt5QDMzMzMz6HpAmpmZmZlkfEAAAAAAAOF9QGZmZmZmXX9AZmZmZuZsgECamZmZGSuBQM3MzMxM6YFAAAAAAICngkAzMzMzs2WDQGZmZmbmI4RAmpmZmRnihEDNzMzMTKCFQAAAAACAXoZAMzMzM7Mch0BmZmZm5tqHQJqZmZkZmYhAzczMzExXiUAAAAAAgBWKQDMzMzOz04pAZmZmZuaRi0CamZmZGVCMQM3MzMxMDo1AAAAAAIDMjUAzMzMzs4qOQGZmZmbmSI9A\",\"dtype\":\"float64\",\"shape\":[75]}},\"selected\":{\"id\":\"506964b8-a1c6-4244-8c74-7b34fcbb9ddc\",\"type\":\"Selection\"},\"selection_policy\":{\"id\":\"2a493340-67de-4f4f-852b-715fdbd44cd4\",\"type\":\"UnionRenderers\"}},\"id\":\"09885a14-1b02-4b79-b9c2-bad89c959e6d\",\"type\":\"ColumnDataSource\"},{\"attributes\":{\"data_source\":{\"id\":\"691b62ea-81ee-4f1f-9a4e-5cffaea9eeeb\",\"type\":\"ColumnDataSource\"},\"glyph\":{\"id\":\"46999d40-5d09-4e9a-91ce-13108ba30fd1\",\"type\":\"Circle\"},\"hover_glyph\":null,\"muted_glyph\":null,\"nonselection_glyph\":{\"id\":\"b7951760-6dfc-448b-ae73-796a998e7e0e\",\"type\":\"Circle\"},\"selection_glyph\":null,\"view\":{\"id\":\"b03c52d2-74b0-4862-a09c-1f7d54aac055\",\"type\":\"CDSView\"}},\"id\":\"663eba05-09a2-4f0b-9df3-a87c6b2f8989\",\"type\":\"GlyphRenderer\"},{\"attributes\":{\"fill_alpha\":{\"value\":0.1},\"fill_color\":{\"value\":\"#1f77b4\"},\"line_alpha\":{\"value\":0.1},\"line_color\":{\"value\":\"#1f77b4\"},\"x\":{\"field\":\"x\"},\"y\":{\"field\":\"y\"}},\"id\":\"ea07fd0e-955a-4d91-baf2-f8b2f6d9bb99\",\"type\":\"Circle\"},{\"attributes\":{\"fill_alpha\":{\"value\":0.1},\"fill_color\":{\"value\":\"#1f77b4\"},\"line_alpha\":{\"value\":0.1},\"line_color\":{\"value\":\"#1f77b4\"},\"x\":{\"field\":\"x\"},\"y\":{\"field\":\"y\"}},\"id\":\"b7951760-6dfc-448b-ae73-796a998e7e0e\",\"type\":\"Circle\"},{\"attributes\":{\"line_alpha\":0.1,\"line_color\":\"#1f77b4\",\"line_width\":1.5,\"x\":{\"field\":\"x\"},\"y\":{\"field\":\"y\"}},\"id\":\"ba396f77-b713-4998-afd1-6324741fc3b5\",\"type\":\"Line\"},{\"attributes\":{\"source\":{\"id\":\"24c3073f-ab3e-4ed6-a8ed-7a14fa192d4d\",\"type\":\"ColumnDataSource\"}},\"id\":\"12a890df-7e0d-4f8b-9dce-4ef6f1d4f646\",\"type\":\"CDSView\"},{\"attributes\":{},\"id\":\"1252769a-5472-41ed-9c9b-83d1d460b395\",\"type\":\"UnionRenderers\"},{\"attributes\":{},\"id\":\"03d6c38d-1436-4e93-b873-289f1cd56b44\",\"type\":\"UnionRenderers\"},{\"attributes\":{\"label\":{\"value\":\"CLIRAD\"},\"renderers\":[{\"id\":\"961f3d26-a568-4114-9052-6e3041ca2370\",\"type\":\"GlyphRenderer\"}]},\"id\":\"4e3f9001-a649-4627-9287-8a5c92afff68\",\"type\":\"LegendItem\"},{\"attributes\":{},\"id\":\"502171f7-ba5f-4bcd-bfb5-c3997cf6d4b6\",\"type\":\"UnionRenderers\"},{\"attributes\":{\"data_source\":{\"id\":\"09885a14-1b02-4b79-b9c2-bad89c959e6d\",\"type\":\"ColumnDataSource\"},\"glyph\":{\"id\":\"62ffa6d8-43d5-4f69-89a2-456c513ef95b\",\"type\":\"Line\"},\"hover_glyph\":null,\"muted_glyph\":null,\"nonselection_glyph\":{\"id\":\"85644432-b248-4fd1-a1ce-0f9f20a6532b\",\"type\":\"Line\"},\"selection_glyph\":null,\"view\":{\"id\":\"c922b741-1855-4b5c-9672-56a6b3515184\",\"type\":\"CDSView\"}},\"id\":\"7dd5b36b-d079-4db0-959a-f3b8514cfd50\",\"type\":\"GlyphRenderer\"},{\"attributes\":{\"data_source\":{\"id\":\"57c9a7c2-aa38-499a-b8e4-5b149aff2d30\",\"type\":\"ColumnDataSource\"},\"glyph\":{\"id\":\"af316673-6fd3-42e0-b7c4-c443bed68027\",\"type\":\"Line\"},\"hover_glyph\":null,\"muted_glyph\":null,\"nonselection_glyph\":{\"id\":\"ba396f77-b713-4998-afd1-6324741fc3b5\",\"type\":\"Line\"},\"selection_glyph\":null,\"view\":{\"id\":\"f9ef1ec3-02ca-4b17-bdf5-bbe275b8bf78\",\"type\":\"CDSView\"}},\"id\":\"03f67115-e464-4375-bdd8-5230364d2e7a\",\"type\":\"GlyphRenderer\"},{\"attributes\":{},\"id\":\"f0129c5a-6cb2-4a58-bcf7-1b28563faaa5\",\"type\":\"ResetTool\"},{\"attributes\":{\"label\":{\"value\":\"CRD\"},\"renderers\":[{\"id\":\"663eba05-09a2-4f0b-9df3-a87c6b2f8989\",\"type\":\"GlyphRenderer\"},{\"id\":\"7dd5b36b-d079-4db0-959a-f3b8514cfd50\",\"type\":\"GlyphRenderer\"}]},\"id\":\"d5e1be2b-2d8c-4da0-9a36-5426746bf8eb\",\"type\":\"LegendItem\"},{\"attributes\":{},\"id\":\"a82290a1-81c8-4d71-b378-92ccaff17666\",\"type\":\"Selection\"},{\"attributes\":{\"plot\":null,\"text\":\"\"},\"id\":\"a2445b70-dab4-4eea-a4ef-2b313e156c8b\",\"type\":\"Title\"},{\"attributes\":{\"axis_label\":\"pressure [mb]\",\"formatter\":{\"id\":\"21305711-7837-41a0-9367-7823ab8bbcd2\",\"type\":\"LogTickFormatter\"},\"plot\":{\"id\":\"72e29059-35c1-4c50-a4f1-5ea33bbbb435\",\"subtype\":\"Figure\",\"type\":\"Plot\"},\"ticker\":{\"id\":\"ed46ebdd-ee6b-471f-be9a-a2c2738b67c2\",\"type\":\"LogTicker\"}},\"id\":\"9a174889-5eed-4a1e-9c45-4243a52686bf\",\"type\":\"LogAxis\"},{\"attributes\":{\"bottom_units\":\"screen\",\"fill_alpha\":{\"value\":0.5},\"fill_color\":{\"value\":\"lightgrey\"},\"left_units\":\"screen\",\"level\":\"overlay\",\"line_alpha\":{\"value\":1.0},\"line_color\":{\"value\":\"black\"},\"line_dash\":[4,4],\"line_width\":{\"value\":2},\"plot\":null,\"render_mode\":\"css\",\"right_units\":\"screen\",\"top_units\":\"screen\"},\"id\":\"4afbc23c-3ab3-4a5f-89c7-0adbb36b6c5d\",\"type\":\"BoxAnnotation\"},{\"attributes\":{\"callback\":null,\"data\":{\"x\":{\"__ndarray__\":\"Tddt8j6VBMBEn0KG+Kn1v+LLbjS8rfC/rMhT/okV6L8QkVr2WYXgvzhR3YdhC9e/KHnSJ/fj0r9ID4RvJkPTv4gvGIi9WtW/3J/9KZ3A1b+U17QrEVPSv4DXxN1dZsi/ACy0J3z9ub9AADEEjBKqvwA33kbFuKO/oNI9ZyMCqL+Af3YWIa6pv8C1+blluaG/wNAsQOtKkL8A3hBFuhuLv0B9EXMvHZ6/QG007775n78AD27SZDhwvwB4kdK5hp4/wB6n00H9pz/4MeBy9ieiP8Cj3OlroZU/wBsPTBBXdb8QsLF6POaUv6DMkSGe6I6/QKpaWxFGhL+AhBO/eaGJv8ALWNm19Xi/gNyULL5laL/AFKA7gy17v4CkREAHIYW/0CrxtZE+kr8AAZOvcZmVv6BD2p39kZa/QMqYN95Ii7+AyKTOCKl/v0CUGhQ8DIO/ICeqYcWnjL8gfVAHSCeKv8BNgLbh1n2/AJaKLTXycL8A0uM6tIdlvwBAd4Ga7X+/gNmWkd1qmb9AqdU4pd2nv0CNoV3WF6e/QDv/Imtenr9Aqc1gNQefv0BSlsnW4aa/gOT5neaOpr8gRBpEQzuhv8AnRlTVeZe/AKJ9FE+TkL+A8gjsjkWMvwCWjtXitX6/AMQj07iUdb8AyAwyYhR4vwCxoQPK23+/AHsYTDasgr+Ad6s/V3OBvwD8Tvo7Cne/AJj8lIizTD+AAhroM+WBPwCkmeu/NYY/QEm42Iu8kT8gFW5nMLaTP+BBQKbx4JA/AFX2TuOLkj8AAcWk0geIP6BFVw5C6Yo/\",\"dtype\":\"float64\",\"shape\":[75]},\"y\":{\"__ndarray__\":\"GhExyth1ND/Sv8nbtpRIP2vylNV0PVE/aTum7souWD/At0SJ8fVgPw3Iuahxymc/MSNhhJWvcD/bTfBN02d3P2zb5nxnaoA/CD5h5MAGhz8NmeH1TyaQP+zrCsc9p5Y/LbKd76fGnz/bLW5ISEmmPww9YvTcQq8/JV2OstnstT8Er5Y7M8G+P0c+r3jqkcU/5h99k6ZBzj88bCIzFzjVP4enV8oyxN0//yH99nXg5D8qOpLLf0jtP5kqGJXUifQ/c9cS8kHP/D+/DpwzojQEQIEmwoanVwxA4lgXt9HgE0BSSZ2AJuIbQAMJih9jjiNA5q4l5INuK0AwTKYKRj0zQNv5fmq8/DpAaCJseHrtQkB/+zpwzoxKQM3MzMzMeFJAZmZmZmZqWEAAAAAAAFxeQM3MzMzMJmJAmpmZmZkfZUBmZmZmZhhoQDMzMzMzEWtAAAAAAAAKbkBmZmZmZoFwQM3MzMzM/XFAMzMzMzN6c0CamZmZmfZ0QAAAAAAAc3ZAZmZmZmbvd0DNzMzMzGt5QDMzMzMz6HpAmpmZmZlkfEAAAAAAAOF9QGZmZmZmXX9AZmZmZuZsgECamZmZGSuBQM3MzMxM6YFAAAAAAICngkAzMzMzs2WDQGZmZmbmI4RAmpmZmRnihEDNzMzMTKCFQAAAAACAXoZAMzMzM7Mch0BmZmZm5tqHQJqZmZkZmYhAzczMzExXiUAAAAAAgBWKQDMzMzOz04pAZmZmZuaRi0CamZmZGVCMQM3MzMxMDo1AAAAAAIDMjUAzMzMzs4qOQGZmZmbmSI9A\",\"dtype\":\"float64\",\"shape\":[75]}},\"selected\":{\"id\":\"2f9c4dfe-5656-4248-8a12-56bd9211847c\",\"type\":\"Selection\"},\"selection_policy\":{\"id\":\"982dae04-198c-4b02-a503-392db444f639\",\"type\":\"UnionRenderers\"}},\"id\":\"57c9a7c2-aa38-499a-b8e4-5b149aff2d30\",\"type\":\"ColumnDataSource\"},{\"attributes\":{\"ticker\":null},\"id\":\"85f7c7e2-653a-4d37-a130-71a99db045db\",\"type\":\"LogTickFormatter\"},{\"attributes\":{},\"id\":\"7e991346-5302-4ae9-90ad-549c6463fbad\",\"type\":\"Selection\"},{\"attributes\":{\"plot\":null,\"text\":\"\"},\"id\":\"f68d44fa-8697-4909-a879-e9268c11f10d\",\"type\":\"Title\"},{\"attributes\":{\"plot\":null,\"text\":\"\"},\"id\":\"2dccb8a2-9f18-4b4a-912a-abe38066d350\",\"type\":\"Title\"},{\"attributes\":{\"callback\":null,\"data\":{\"x\":{\"__ndarray__\":\"Tddt8j6VBMBEn0KG+Kn1v+LLbjS8rfC/rMhT/okV6L8QkVr2WYXgvzhR3YdhC9e/KHnSJ/fj0r9ID4RvJkPTv4gvGIi9WtW/3J/9KZ3A1b+U17QrEVPSv4DXxN1dZsi/ACy0J3z9ub9AADEEjBKqvwA33kbFuKO/oNI9ZyMCqL+Af3YWIa6pv8C1+blluaG/wNAsQOtKkL8A3hBFuhuLv0B9EXMvHZ6/QG007775n78AD27SZDhwvwB4kdK5hp4/wB6n00H9pz/4MeBy9ieiP8Cj3OlroZU/wBsPTBBXdb8QsLF6POaUv6DMkSGe6I6/QKpaWxFGhL+AhBO/eaGJv8ALWNm19Xi/gNyULL5laL/AFKA7gy17v4CkREAHIYW/0CrxtZE+kr8AAZOvcZmVv6BD2p39kZa/QMqYN95Ii7+AyKTOCKl/v0CUGhQ8DIO/ICeqYcWnjL8gfVAHSCeKv8BNgLbh1n2/AJaKLTXycL8A0uM6tIdlvwBAd4Ga7X+/gNmWkd1qmb9AqdU4pd2nv0CNoV3WF6e/QDv/Imtenr9Aqc1gNQefv0BSlsnW4aa/gOT5neaOpr8gRBpEQzuhv8AnRlTVeZe/AKJ9FE+TkL+A8gjsjkWMvwCWjtXitX6/AMQj07iUdb8AyAwyYhR4vwCxoQPK23+/AHsYTDasgr+Ad6s/V3OBvwD8Tvo7Cne/AJj8lIizTD+AAhroM+WBPwCkmeu/NYY/QEm42Iu8kT8gFW5nMLaTP+BBQKbx4JA/AFX2TuOLkj8AAcWk0geIP6BFVw5C6Yo/\",\"dtype\":\"float64\",\"shape\":[75]},\"y\":{\"__ndarray__\":\"GhExyth1ND/Sv8nbtpRIP2vylNV0PVE/aTum7souWD/At0SJ8fVgPw3Iuahxymc/MSNhhJWvcD/bTfBN02d3P2zb5nxnaoA/CD5h5MAGhz8NmeH1TyaQP+zrCsc9p5Y/LbKd76fGnz/bLW5ISEmmPww9YvTcQq8/JV2OstnstT8Er5Y7M8G+P0c+r3jqkcU/5h99k6ZBzj88bCIzFzjVP4enV8oyxN0//yH99nXg5D8qOpLLf0jtP5kqGJXUifQ/c9cS8kHP/D+/DpwzojQEQIEmwoanVwxA4lgXt9HgE0BSSZ2AJuIbQAMJih9jjiNA5q4l5INuK0AwTKYKRj0zQNv5fmq8/DpAaCJseHrtQkB/+zpwzoxKQM3MzMzMeFJAZmZmZmZqWEAAAAAAAFxeQM3MzMzMJmJAmpmZmZkfZUBmZmZmZhhoQDMzMzMzEWtAAAAAAAAKbkBmZmZmZoFwQM3MzMzM/XFAMzMzMzN6c0CamZmZmfZ0QAAAAAAAc3ZAZmZmZmbvd0DNzMzMzGt5QDMzMzMz6HpAmpmZmZlkfEAAAAAAAOF9QGZmZmZmXX9AZmZmZuZsgECamZmZGSuBQM3MzMxM6YFAAAAAAICngkAzMzMzs2WDQGZmZmbmI4RAmpmZmRnihEDNzMzMTKCFQAAAAACAXoZAMzMzM7Mch0BmZmZm5tqHQJqZmZkZmYhAzczMzExXiUAAAAAAgBWKQDMzMzOz04pAZmZmZuaRi0CamZmZGVCMQM3MzMxMDo1AAAAAAIDMjUAzMzMzs4qOQGZmZmbmSI9A\",\"dtype\":\"float64\",\"shape\":[75]}},\"selected\":{\"id\":\"7a3c726f-3936-4bd1-aa3c-dec5a3d884ab\",\"type\":\"Selection\"},\"selection_policy\":{\"id\":\"4eb1f954-75e3-4848-8ff0-709e98068682\",\"type\":\"UnionRenderers\"}},\"id\":\"24c3073f-ab3e-4ed6-a8ed-7a14fa192d4d\",\"type\":\"ColumnDataSource\"},{\"attributes\":{\"callback\":null,\"end\":0.01,\"start\":1020},\"id\":\"69279b6c-28ec-4213-a0b5-1836f334c684\",\"type\":\"Range1d\"},{\"attributes\":{},\"id\":\"661bdb52-9892-4e22-89c3-ec1b59eefab7\",\"type\":\"UnionRenderers\"},{\"attributes\":{\"line_alpha\":0.1,\"line_color\":\"#1f77b4\",\"line_dash\":[6],\"line_width\":5,\"x\":{\"field\":\"x\"},\"y\":{\"field\":\"y\"}},\"id\":\"2664c738-1f11-4253-8bed-4207deeffbd0\",\"type\":\"Line\"},{\"attributes\":{},\"id\":\"3c4639c3-ba53-4977-8fe9-77a53289812a\",\"type\":\"BasicTickFormatter\"},{\"attributes\":{},\"id\":\"aeb5a2eb-4721-4cdc-a306-cb50a41f4bfc\",\"type\":\"Selection\"},{\"attributes\":{},\"id\":\"2a493340-67de-4f4f-852b-715fdbd44cd4\",\"type\":\"UnionRenderers\"},{\"attributes\":{},\"id\":\"506964b8-a1c6-4244-8c74-7b34fcbb9ddc\",\"type\":\"Selection\"},{\"attributes\":{},\"id\":\"7a3c726f-3936-4bd1-aa3c-dec5a3d884ab\",\"type\":\"Selection\"},{\"attributes\":{},\"id\":\"2f9c4dfe-5656-4248-8a12-56bd9211847c\",\"type\":\"Selection\"},{\"attributes\":{\"tools\":[{\"id\":\"cfc25aa0-0bc1-4b33-b6cc-a045e3311cd1\",\"type\":\"PanTool\"},{\"id\":\"16e94b4c-aa5e-46b9-8ea5-26e96745e642\",\"type\":\"WheelZoomTool\"},{\"id\":\"7173fbff-0180-46f3-837f-66dd73d1e902\",\"type\":\"BoxZoomTool\"},{\"id\":\"bbafadf0-e1f7-4e93-ba2c-f1ebb9498a5d\",\"type\":\"SaveTool\"},{\"id\":\"f0129c5a-6cb2-4a58-bcf7-1b28563faaa5\",\"type\":\"ResetTool\"},{\"id\":\"a9ae23bb-c1f0-4d51-b3fa-29f5c5ab0686\",\"type\":\"HelpTool\"},{\"id\":\"7ae7d03e-12d1-4b9c-9c3e-efd563a2d30f\",\"type\":\"PanTool\"},{\"id\":\"40db0693-a6f7-48a9-9b21-48ac04e1d6df\",\"type\":\"WheelZoomTool\"},{\"id\":\"caa45f02-22ce-4a6b-8e18-ef72c69f720a\",\"type\":\"BoxZoomTool\"},{\"id\":\"75daa0fa-ae95-4fad-b5bd-1b2f5349eaf8\",\"type\":\"SaveTool\"},{\"id\":\"1b4ba9f1-38dd-4c81-8a81-006d015093e2\",\"type\":\"ResetTool\"},{\"id\":\"d0b581ff-2d8f-4514-945a-772903fd0ce9\",\"type\":\"HelpTool\"},{\"id\":\"b7ea139c-47c8-4fe4-9f70-eebd596cd87f\",\"type\":\"PanTool\"},{\"id\":\"1c3f35b2-d7d2-48e8-abc7-609245508d2e\",\"type\":\"WheelZoomTool\"},{\"id\":\"4022fed8-a29f-45a6-9665-dbf1ebe12227\",\"type\":\"BoxZoomTool\"},{\"id\":\"2b580ce3-583c-4f34-81b8-156b50d1edac\",\"type\":\"SaveTool\"},{\"id\":\"62eee58e-7326-42b0-b536-bf7c73352266\",\"type\":\"ResetTool\"},{\"id\":\"92f0ba56-bbc1-4b4d-a1e3-62757d3bf022\",\"type\":\"HelpTool\"}]},\"id\":\"db0ef384-a100-4c36-9c44-1ed7afb12b04\",\"type\":\"ProxyToolbar\"},{\"attributes\":{},\"id\":\"72d702a9-319b-475a-80c4-ac7302a9db91\",\"type\":\"LogScale\"},{\"attributes\":{\"callback\":null,\"end\":0.05072142655129995,\"start\":-0.34374857376813306},\"id\":\"cc7ddd19-9e90-42b5-af1a-9740637dab00\",\"type\":\"Range1d\"},{\"attributes\":{},\"id\":\"982dae04-198c-4b02-a503-392db444f639\",\"type\":\"UnionRenderers\"},{\"attributes\":{},\"id\":\"4eb1f954-75e3-4848-8ff0-709e98068682\",\"type\":\"UnionRenderers\"},{\"attributes\":{\"toolbar\":{\"id\":\"db0ef384-a100-4c36-9c44-1ed7afb12b04\",\"type\":\"ProxyToolbar\"},\"toolbar_location\":\"above\"},\"id\":\"a6fedecb-c30d-4da0-975b-ec05c5ee3b6f\",\"type\":\"ToolbarBox\"},{\"attributes\":{\"fill_alpha\":{\"value\":0.7},\"fill_color\":{\"value\":\"#984ea3\"},\"line_alpha\":{\"value\":0.7},\"line_color\":{\"value\":\"#984ea3\"},\"x\":{\"field\":\"x\"},\"y\":{\"field\":\"y\"}},\"id\":\"a09ea975-dde9-4bf5-b192-ecc7b148e780\",\"type\":\"Circle\"},{\"attributes\":{\"overlay\":{\"id\":\"4afbc23c-3ab3-4a5f-89c7-0adbb36b6c5d\",\"type\":\"BoxAnnotation\"}},\"id\":\"7173fbff-0180-46f3-837f-66dd73d1e902\",\"type\":\"BoxZoomTool\"},{\"attributes\":{\"children\":[{\"id\":\"a6fedecb-c30d-4da0-975b-ec05c5ee3b6f\",\"type\":\"ToolbarBox\"},{\"id\":\"b9b17c8e-4dba-4079-9a9f-47c4f044bb6e\",\"type\":\"Column\"}]},\"id\":\"6b888254-9c24-4baf-8e7a-af0f62ab5617\",\"type\":\"Column\"},{\"attributes\":{\"active_drag\":\"auto\",\"active_inspect\":\"auto\",\"active_scroll\":\"auto\",\"active_tap\":\"auto\",\"tools\":[{\"id\":\"b7ea139c-47c8-4fe4-9f70-eebd596cd87f\",\"type\":\"PanTool\"},{\"id\":\"1c3f35b2-d7d2-48e8-abc7-609245508d2e\",\"type\":\"WheelZoomTool\"},{\"id\":\"4022fed8-a29f-45a6-9665-dbf1ebe12227\",\"type\":\"BoxZoomTool\"},{\"id\":\"2b580ce3-583c-4f34-81b8-156b50d1edac\",\"type\":\"SaveTool\"},{\"id\":\"62eee58e-7326-42b0-b536-bf7c73352266\",\"type\":\"ResetTool\"},{\"id\":\"92f0ba56-bbc1-4b4d-a1e3-62757d3bf022\",\"type\":\"HelpTool\"}]},\"id\":\"2829175d-6a54-4d14-8f7c-8164f862bd67\",\"type\":\"Toolbar\"},{\"attributes\":{\"items\":[{\"id\":\"13e0f0c6-48ae-48a5-8089-59db494e5d25\",\"type\":\"LegendItem\"}],\"label_text_font_size\":{\"value\":\"8pt\"},\"location\":\"top_center\",\"orientation\":\"horizontal\",\"plot\":{\"id\":\"626ce877-9153-49ab-a717-f50a3e397707\",\"subtype\":\"Figure\",\"type\":\"Plot\"}},\"id\":\"feb16bb4-581f-457b-b261-9285fbba0753\",\"type\":\"Legend\"},{\"attributes\":{},\"id\":\"9f70729b-fa58-4925-b565-d31e26e40ec2\",\"type\":\"LogScale\"},{\"attributes\":{\"callback\":null,\"end\":0.01,\"start\":1020},\"id\":\"eaec1e7a-ab8e-4a04-bee1-c5fcaab1e162\",\"type\":\"Range1d\"},{\"attributes\":{\"plot\":{\"id\":\"72e29059-35c1-4c50-a4f1-5ea33bbbb435\",\"subtype\":\"Figure\",\"type\":\"Plot\"},\"ticker\":{\"id\":\"7b3394c8-7dac-4206-a82d-8a084a74043b\",\"type\":\"BasicTicker\"}},\"id\":\"03384f5e-6a56-464c-91e9-cc8d21a97d50\",\"type\":\"Grid\"},{\"attributes\":{},\"id\":\"1b436eea-22f6-4906-b00c-268d85acd370\",\"type\":\"BasicTickFormatter\"},{\"attributes\":{},\"id\":\"16e94b4c-aa5e-46b9-8ea5-26e96745e642\",\"type\":\"WheelZoomTool\"},{\"attributes\":{\"dimension\":1,\"plot\":{\"id\":\"626ce877-9153-49ab-a717-f50a3e397707\",\"subtype\":\"Figure\",\"type\":\"Plot\"},\"ticker\":{\"id\":\"60270756-7043-4942-99b5-010278cc8aa8\",\"type\":\"LogTicker\"}},\"id\":\"1a870909-2201-4d97-86dc-d5048b0976e7\",\"type\":\"Grid\"},{\"attributes\":{},\"id\":\"7b3394c8-7dac-4206-a82d-8a084a74043b\",\"type\":\"BasicTicker\"},{\"attributes\":{\"num_minor_ticks\":10},\"id\":\"60270756-7043-4942-99b5-010278cc8aa8\",\"type\":\"LogTicker\"},{\"attributes\":{\"axis_label\":\"cooling rate [K/day]\",\"formatter\":{\"id\":\"d208c0f8-b09b-4175-a5f9-9d782b3e0836\",\"type\":\"BasicTickFormatter\"},\"plot\":{\"id\":\"72e29059-35c1-4c50-a4f1-5ea33bbbb435\",\"subtype\":\"Figure\",\"type\":\"Plot\"},\"ticker\":{\"id\":\"7b3394c8-7dac-4206-a82d-8a084a74043b\",\"type\":\"BasicTicker\"}},\"id\":\"b41154e5-1f33-48f9-b65e-d9e10c6f91d6\",\"type\":\"LinearAxis\"},{\"attributes\":{\"axis_label\":\"pressure [mb]\",\"formatter\":{\"id\":\"85f7c7e2-653a-4d37-a130-71a99db045db\",\"type\":\"LogTickFormatter\"},\"plot\":{\"id\":\"626ce877-9153-49ab-a717-f50a3e397707\",\"subtype\":\"Figure\",\"type\":\"Plot\"},\"ticker\":{\"id\":\"60270756-7043-4942-99b5-010278cc8aa8\",\"type\":\"LogTicker\"}},\"id\":\"a56f974e-947f-494b-8f93-9918a7595f98\",\"type\":\"LogAxis\"},{\"attributes\":{},\"id\":\"a9ae23bb-c1f0-4d51-b3fa-29f5c5ab0686\",\"type\":\"HelpTool\"},{\"attributes\":{},\"id\":\"063416ea-968f-428e-8cc9-0bfe148647d1\",\"type\":\"BasicTicker\"},{\"attributes\":{\"axis_label\":\"cooling rate [K/day]\",\"formatter\":{\"id\":\"3c4639c3-ba53-4977-8fe9-77a53289812a\",\"type\":\"BasicTickFormatter\"},\"plot\":{\"id\":\"626ce877-9153-49ab-a717-f50a3e397707\",\"subtype\":\"Figure\",\"type\":\"Plot\"},\"ticker\":{\"id\":\"063416ea-968f-428e-8cc9-0bfe148647d1\",\"type\":\"BasicTicker\"}},\"id\":\"3ffebaf3-e307-4184-b1bf-469ac6833334\",\"type\":\"LinearAxis\"},{\"attributes\":{\"plot\":{\"id\":\"626ce877-9153-49ab-a717-f50a3e397707\",\"subtype\":\"Figure\",\"type\":\"Plot\"},\"ticker\":{\"id\":\"063416ea-968f-428e-8cc9-0bfe148647d1\",\"type\":\"BasicTicker\"}},\"id\":\"ff593c45-d768-492e-b0b6-e39df270d7c8\",\"type\":\"Grid\"},{\"attributes\":{},\"id\":\"cfc25aa0-0bc1-4b33-b6cc-a045e3311cd1\",\"type\":\"PanTool\"},{\"attributes\":{},\"id\":\"1c3f35b2-d7d2-48e8-abc7-609245508d2e\",\"type\":\"WheelZoomTool\"},{\"attributes\":{},\"id\":\"bbafadf0-e1f7-4e93-ba2c-f1ebb9498a5d\",\"type\":\"SaveTool\"},{\"attributes\":{\"items\":[{\"id\":\"17325245-3f92-4d29-b9bc-0bcbd535e255\",\"type\":\"LegendItem\"},{\"id\":\"9270b538-0724-4d81-a588-e796dbd1fff2\",\"type\":\"LegendItem\"}],\"label_text_font_size\":{\"value\":\"8pt\"},\"location\":\"top_center\",\"orientation\":\"horizontal\",\"plot\":{\"id\":\"191d199f-d99d-4ea4-a02e-241335c7f5dd\",\"subtype\":\"Figure\",\"type\":\"Plot\"}},\"id\":\"e0c5dc15-bfd6-4d13-ac84-442adbb5589c\",\"type\":\"Legend\"},{\"attributes\":{\"line_alpha\":0.6,\"line_color\":\"#e41a1c\",\"line_dash\":[6],\"line_width\":5,\"x\":{\"field\":\"x\"},\"y\":{\"field\":\"y\"}},\"id\":\"2b1ec2c1-e224-4b92-812d-4843c138d702\",\"type\":\"Line\"},{\"attributes\":{\"num_minor_ticks\":10},\"id\":\"ed46ebdd-ee6b-471f-be9a-a2c2738b67c2\",\"type\":\"LogTicker\"},{\"attributes\":{\"overlay\":{\"id\":\"b89e325a-9bb0-46bd-a158-ca1a84c5f46b\",\"type\":\"BoxAnnotation\"}},\"id\":\"4022fed8-a29f-45a6-9665-dbf1ebe12227\",\"type\":\"BoxZoomTool\"},{\"attributes\":{\"callback\":null,\"data\":{\"x\":{\"__ndarray__\":\"XUK14PHpCkCGWZx/lWUJQBO5WYZcBwpAw1+c1McuCkDD5aU5GrgJQIG1K5txjghAez/7STi0BkDGeO9HRGIEQNobbYgX+wFAi9tVR8/p/z9T3K1dDDn9P+VwRwYurvs/sjIHxcGa+j/VQY3s1/H4P31VMZF0UPY/Yyxv7wKj8z+QJo2+CKvxP6Hq2DfChvA/5Eb5ioXq7z/diqj1U4XvP7mDea64KvA/T/UCTp8W7j9gCFFAp7foP/JTQKCiKOU/sjgsjnLx4j+j6/lI5ZzgP1UzL61Q5tw/71VqeIHJ2D9DbOcdB8DWP+FniMIBPNY/hhtiszxW1T+x31zJ35fTP9ogvYfLRdM/lqFTjn/K0z/kIByKHbjTP/e58w+cg9M/qptCXVfw0j/ZKH4hZUzSP6U5ukiEwdc//mdZI2KS3D85YUXc3RzgP+DOHJ71MuA/mXA2UYV23z9jxwn+TW7eP11iAlzJUdw/Sc1bBFIH3D/0LACTr1TgP2irrJsIO+M/uO4UHkIq6j/YOrLtjR7xPxOgjEzyMPQ/jM3EEM839j/pzyeVNwn3P8hqa1+MAvc/mKC1VzjV9j9lQV/pVpL2PwtoZ4KAMfY/aAjKm+qu9T/Rh9yEahP1P25fJtvXhfQ/VljBz/7n8z+2Zug2IUDzP8/3NB8HlfI/xm1E0Anz8T9OrPW8mWjxPzaaBPleAvE/l5GhO63Y8D9NoWMmWe/wP7LYTQFV+fA/HNZkZteb8D+GqMVXcFzuPzKkng9c/+k/lZgJtKvo5T/u+TK5HhLiPz9ZA21RI9s/\",\"dtype\":\"float64\",\"shape\":[75]},\"y\":{\"__ndarray__\":\"GhExyth1ND/Sv8nbtpRIP2vylNV0PVE/aTum7souWD/At0SJ8fVgPw3Iuahxymc/MSNhhJWvcD/bTfBN02d3P2zb5nxnaoA/CD5h5MAGhz8NmeH1TyaQP+zrCsc9p5Y/LbKd76fGnz/bLW5ISEmmPww9YvTcQq8/JV2OstnstT8Er5Y7M8G+P0c+r3jqkcU/5h99k6ZBzj88bCIzFzjVP4enV8oyxN0//yH99nXg5D8qOpLLf0jtP5kqGJXUifQ/c9cS8kHP/D+/DpwzojQEQIEmwoanVwxA4lgXt9HgE0BSSZ2AJuIbQAMJih9jjiNA5q4l5INuK0AwTKYKRj0zQNv5fmq8/DpAaCJseHrtQkB/+zpwzoxKQM3MzMzMeFJAZmZmZmZqWEAAAAAAAFxeQM3MzMzMJmJAmpmZmZkfZUBmZmZmZhhoQDMzMzMzEWtAAAAAAAAKbkBmZmZmZoFwQM3MzMzM/XFAMzMzMzN6c0CamZmZmfZ0QAAAAAAAc3ZAZmZmZmbvd0DNzMzMzGt5QDMzMzMz6HpAmpmZmZlkfEAAAAAAAOF9QGZmZmZmXX9AZmZmZuZsgECamZmZGSuBQM3MzMxM6YFAAAAAAICngkAzMzMzs2WDQGZmZmbmI4RAmpmZmRnihEDNzMzMTKCFQAAAAACAXoZAMzMzM7Mch0BmZmZm5tqHQJqZmZkZmYhAzczMzExXiUAAAAAAgBWKQDMzMzOz04pAZmZmZuaRi0CamZmZGVCMQM3MzMxMDo1AAAAAAIDMjUAzMzMzs4qOQGZmZmbmSI9A\",\"dtype\":\"float64\",\"shape\":[75]}},\"selected\":{\"id\":\"7a1f0fac-9441-4a8c-9d71-ec4bfb8558fe\",\"type\":\"Selection\"},\"selection_policy\":{\"id\":\"1252769a-5472-41ed-9c9b-83d1d460b395\",\"type\":\"UnionRenderers\"}},\"id\":\"026a3d38-7c58-465b-a4a0-7036b644d37d\",\"type\":\"ColumnDataSource\"}],\"root_ids\":[\"6b888254-9c24-4baf-8e7a-af0f62ab5617\"]},\"title\":\"Bokeh Application\",\"version\":\"0.12.16\"}};\n",
       "  var render_items = [{\"docid\":\"e6a54ada-0f07-4328-aa3f-aef4d3ba980e\",\"elementid\":\"d2436efe-af38-42fd-9a12-c083a6a9b5da\",\"modelid\":\"6b888254-9c24-4baf-8e7a-af0f62ab5617\"}];\n",
       "  root.Bokeh.embed.embed_items_notebook(docs_json, render_items);\n",
       "\n",
       "  }\n",
       "  if (root.Bokeh !== undefined) {\n",
       "    embed_document(root);\n",
       "  } else {\n",
       "    var attempts = 0;\n",
       "    var timer = setInterval(function(root) {\n",
       "      if (root.Bokeh !== undefined) {\n",
       "        embed_document(root);\n",
       "        clearInterval(timer);\n",
       "      }\n",
       "      attempts++;\n",
       "      if (attempts > 100) {\n",
       "        console.log(\"Bokeh: ERROR: Unable to run BokehJS code because BokehJS library is missing\")\n",
       "        clearInterval(timer);\n",
       "      }\n",
       "    }, 10, root)\n",
       "  }\n",
       "})(window);"
      ],
      "application/vnd.bokehjs_exec.v0+json": ""
     },
     "metadata": {
      "application/vnd.bokehjs_exec.v0+json": {
       "id": "6b888254-9c24-4baf-8e7a-af0f62ab5617"
      }
     },
     "output_type": "display_data"
    },
    {
     "data": {
      "text/markdown": [
       "*FIGURE.* Cooling rates & difference."
      ],
      "text/plain": [
       "<IPython.core.display.Markdown object>"
      ]
     },
     "metadata": {},
     "output_type": "display_data"
    },
    {
     "data": {
      "text/html": [
       "<a id=\"Fluxes._saw.\"></a>"
      ],
      "text/plain": [
       "<IPython.core.display.HTML object>"
      ]
     },
     "metadata": {},
     "output_type": "display_data"
    },
    {
     "data": {
      "text/markdown": [
       "# Fluxes. saw."
      ],
      "text/plain": [
       "<IPython.core.display.Markdown object>"
      ]
     },
     "metadata": {},
     "output_type": "display_data"
    },
    {
     "data": {
      "text/html": [
       "\n",
       "<div class=\"bk-root\">\n",
       "    <div class=\"bk-plotdiv\" id=\"6d35f0aa-add8-45f2-a8a0-accc3119c2d1\"></div>\n",
       "</div>"
      ]
     },
     "metadata": {},
     "output_type": "display_data"
    },
    {
     "data": {
      "application/javascript": [
       "(function(root) {\n",
       "  function embed_document(root) {\n",
       "    \n",
       "  var docs_json = {\"590596e9-801d-4cec-982b-f6eb876efe44\":{\"roots\":{\"references\":[{\"attributes\":{\"plot\":{\"id\":\"c2ef0039-21c1-4fdd-977f-0676f0a9a2a1\",\"subtype\":\"Figure\",\"type\":\"Plot\"},\"ticker\":{\"id\":\"fff147a4-049a-416f-9531-9771bb2cacf5\",\"type\":\"CategoricalTicker\"}},\"id\":\"709e2aeb-1e50-4557-abd3-69e060b6c837\",\"type\":\"Grid\"},{\"attributes\":{},\"id\":\"fff147a4-049a-416f-9531-9771bb2cacf5\",\"type\":\"CategoricalTicker\"},{\"attributes\":{\"active_drag\":\"auto\",\"active_inspect\":\"auto\",\"active_scroll\":\"auto\",\"active_tap\":\"auto\",\"tools\":[{\"id\":\"2a22fdfb-379b-49c7-98df-229dc3567c9d\",\"type\":\"PanTool\"},{\"id\":\"0dd0641a-d45a-47f6-9383-c2e3cba01b65\",\"type\":\"WheelZoomTool\"},{\"id\":\"02a6de1e-d278-4750-bba2-08ad069d71b0\",\"type\":\"BoxZoomTool\"},{\"id\":\"85fd4003-a6eb-4574-8dfa-6dfa08ba9838\",\"type\":\"SaveTool\"},{\"id\":\"d6c76c2d-0cc9-4591-8098-2eebd8f537b4\",\"type\":\"ResetTool\"},{\"id\":\"86fc29d2-645e-4127-b1de-ff2a87722100\",\"type\":\"HelpTool\"}]},\"id\":\"fbf746bd-ab41-4988-9bfa-941edac3590a\",\"type\":\"Toolbar\"},{\"attributes\":{\"axis_label\":\"flux (W m-2)\",\"formatter\":{\"id\":\"deaf8f06-04be-484f-a2b0-9275e6a8664e\",\"type\":\"BasicTickFormatter\"},\"plot\":{\"id\":\"c2ef0039-21c1-4fdd-977f-0676f0a9a2a1\",\"subtype\":\"Figure\",\"type\":\"Plot\"},\"ticker\":{\"id\":\"bef8d4b4-73e8-48d5-bcd2-b1d54b86c498\",\"type\":\"BasicTicker\"}},\"id\":\"516b119c-71c4-4e60-a9d9-efd9ec039a98\",\"type\":\"LinearAxis\"},{\"attributes\":{},\"id\":\"a75b42a5-ccf9-4764-b79e-d8f66469a9d4\",\"type\":\"CategoricalScale\"},{\"attributes\":{\"axis_label\":\"spectral band\",\"formatter\":{\"id\":\"6e24cc77-c86e-4844-82fb-87feaf4772bd\",\"type\":\"CategoricalTickFormatter\"},\"plot\":{\"id\":\"c2ef0039-21c1-4fdd-977f-0676f0a9a2a1\",\"subtype\":\"Figure\",\"type\":\"Plot\"},\"ticker\":{\"id\":\"fff147a4-049a-416f-9531-9771bb2cacf5\",\"type\":\"CategoricalTicker\"}},\"id\":\"213eeda7-bb39-4226-a1d5-e061d1acddfe\",\"type\":\"CategoricalAxis\"},{\"attributes\":{\"active_drag\":\"auto\",\"active_inspect\":\"auto\",\"active_scroll\":\"auto\",\"active_tap\":\"auto\",\"tools\":[{\"id\":\"b43666dd-f703-4b4f-957e-91071284867d\",\"type\":\"PanTool\"},{\"id\":\"e06a3128-420e-456e-ac0a-04122c7285d4\",\"type\":\"WheelZoomTool\"},{\"id\":\"e6cdbb21-485e-451c-a87b-de076b47af5b\",\"type\":\"BoxZoomTool\"},{\"id\":\"fbab0d28-3d1d-453b-ab0b-762b61819102\",\"type\":\"SaveTool\"},{\"id\":\"4b1db4cb-acdd-4625-9db9-e771386c981f\",\"type\":\"ResetTool\"},{\"id\":\"e206a80b-0c43-4f46-89f0-e3d851285444\",\"type\":\"HelpTool\"}]},\"id\":\"5a4023c0-ad46-489d-b2fe-634d30acf906\",\"type\":\"Toolbar\"},{\"attributes\":{},\"id\":\"3b42f893-f720-4c53-b7e5-185ef08870e6\",\"type\":\"LinearScale\"},{\"attributes\":{\"callback\":null},\"id\":\"fe499ea9-cd54-454c-bff2-43e2cae77bf9\",\"type\":\"DataRange1d\"},{\"attributes\":{\"callback\":null,\"factors\":[\"1\",\"2\",\"3\",\"4\",\"5\",\"6\",\"7\",\"8\",\"9\",\"10\",\"11\"]},\"id\":\"05328941-7719-4904-ac79-25055c8d05b7\",\"type\":\"FactorRange\"},{\"attributes\":{},\"id\":\"13a06f3e-aabc-41cb-a262-307d93e79552\",\"type\":\"CategoricalScale\"},{\"attributes\":{\"callback\":null,\"factors\":[\"1\",\"2\",\"3\",\"4\",\"5\",\"6\",\"7\",\"8\",\"9\",\"10\",\"11\"]},\"id\":\"312a71d4-1ead-4907-912a-862a5db98f12\",\"type\":\"FactorRange\"},{\"attributes\":{\"callback\":null},\"id\":\"0f4de41b-df80-4c8a-bb80-5d68898f7133\",\"type\":\"DataRange1d\"},{\"attributes\":{},\"id\":\"bef8d4b4-73e8-48d5-bcd2-b1d54b86c498\",\"type\":\"BasicTicker\"},{\"attributes\":{\"plot\":{\"id\":\"17982237-9a23-434b-9ab9-cb673325ee43\",\"subtype\":\"Figure\",\"type\":\"Plot\"},\"ticker\":{\"id\":\"e6d694df-148a-4843-93ef-1b5f3fa94614\",\"type\":\"CategoricalTicker\"}},\"id\":\"d482ae4e-6176-4bae-b5af-bf3b22a4caea\",\"type\":\"Grid\"},{\"attributes\":{\"fill_alpha\":{\"value\":0.1},\"fill_color\":{\"value\":\"#1f77b4\"},\"line_alpha\":{\"value\":0.1},\"line_color\":{\"value\":\"#1f77b4\"},\"top\":{\"field\":\"flux\"},\"width\":{\"value\":0.9},\"x\":{\"field\":\"band\"}},\"id\":\"9d8390af-b477-452b-9514-1df7fb4cff42\",\"type\":\"VBar\"},{\"attributes\":{\"plot\":{\"id\":\"fb39d763-1817-47e3-9bf5-4a9ed0da9f92\",\"subtype\":\"Figure\",\"type\":\"Plot\"},\"ticker\":{\"id\":\"52f7d712-abd2-48d5-b208-896c315de1d8\",\"type\":\"CategoricalTicker\"}},\"id\":\"f3953326-225a-4c43-9706-7d362045de85\",\"type\":\"Grid\"},{\"attributes\":{\"axis_label\":\"flux (W m-2)\",\"formatter\":{\"id\":\"224269ec-b784-4ad1-9fc0-a290b94e78f4\",\"type\":\"BasicTickFormatter\"},\"plot\":{\"id\":\"17982237-9a23-434b-9ab9-cb673325ee43\",\"subtype\":\"Figure\",\"type\":\"Plot\"},\"ticker\":{\"id\":\"15e8c9d7-5f64-4599-a71c-923576447b5f\",\"type\":\"BasicTicker\"}},\"id\":\"eb457efa-8a95-4fb6-bdd2-3ab40ac2c40d\",\"type\":\"LinearAxis\"},{\"attributes\":{\"dimension\":1,\"plot\":{\"id\":\"c2ef0039-21c1-4fdd-977f-0676f0a9a2a1\",\"subtype\":\"Figure\",\"type\":\"Plot\"},\"ticker\":{\"id\":\"bef8d4b4-73e8-48d5-bcd2-b1d54b86c498\",\"type\":\"BasicTicker\"}},\"id\":\"58805318-448a-4dfa-b044-1324df35c1c5\",\"type\":\"Grid\"},{\"attributes\":{\"plot\":null,\"text\":\"SFC flux. CLIRAD - CRD.\"},\"id\":\"4cb9a01c-c380-4514-b29a-abd8b08413be\",\"type\":\"Title\"},{\"attributes\":{},\"id\":\"894154d2-2fdc-4253-b6f5-9156985206d6\",\"type\":\"LinearScale\"},{\"attributes\":{\"axis_label\":\"spectral band\",\"formatter\":{\"id\":\"c442e45b-ee19-450d-a4ac-1add30df5432\",\"type\":\"CategoricalTickFormatter\"},\"plot\":{\"id\":\"17982237-9a23-434b-9ab9-cb673325ee43\",\"subtype\":\"Figure\",\"type\":\"Plot\"},\"ticker\":{\"id\":\"e6d694df-148a-4843-93ef-1b5f3fa94614\",\"type\":\"CategoricalTicker\"}},\"id\":\"3da45853-5ec5-4a5c-98d9-6f82e9af5dc2\",\"type\":\"CategoricalAxis\"},{\"attributes\":{\"fill_color\":{\"value\":\"#1f77b4\"},\"line_color\":{\"value\":\"#1f77b4\"},\"top\":{\"field\":\"flux\"},\"width\":{\"value\":0.9},\"x\":{\"field\":\"band\"}},\"id\":\"c172da7b-7b4b-40bd-8786-0cfdee56cb40\",\"type\":\"VBar\"},{\"attributes\":{},\"id\":\"e5d9a37a-646c-4d9e-930d-c3b4c2bacea8\",\"type\":\"BasicTicker\"},{\"attributes\":{},\"id\":\"e6d694df-148a-4843-93ef-1b5f3fa94614\",\"type\":\"CategoricalTicker\"},{\"attributes\":{\"fill_alpha\":{\"value\":0.1},\"fill_color\":{\"value\":\"#1f77b4\"},\"line_alpha\":{\"value\":0.1},\"line_color\":{\"value\":\"#1f77b4\"},\"top\":{\"field\":\"flux\"},\"width\":{\"value\":0.9},\"x\":{\"field\":\"band\"}},\"id\":\"74c5ab18-d4f3-442a-9f23-7c985a033e6c\",\"type\":\"VBar\"},{\"attributes\":{},\"id\":\"15e8c9d7-5f64-4599-a71c-923576447b5f\",\"type\":\"BasicTicker\"},{\"attributes\":{\"dimension\":1,\"plot\":{\"id\":\"17982237-9a23-434b-9ab9-cb673325ee43\",\"subtype\":\"Figure\",\"type\":\"Plot\"},\"ticker\":{\"id\":\"15e8c9d7-5f64-4599-a71c-923576447b5f\",\"type\":\"BasicTicker\"}},\"id\":\"de2b5419-16ba-416a-a5c0-541f76fc68a9\",\"type\":\"Grid\"},{\"attributes\":{},\"id\":\"6e24cc77-c86e-4844-82fb-87feaf4772bd\",\"type\":\"CategoricalTickFormatter\"},{\"attributes\":{\"callback\":null},\"id\":\"1c7bb3ac-ff3a-46bf-bc99-1860c7d8fa39\",\"type\":\"DataRange1d\"},{\"attributes\":{\"fill_color\":{\"value\":\"#1f77b4\"},\"line_color\":{\"value\":\"#1f77b4\"},\"top\":{\"field\":\"flux\"},\"width\":{\"value\":0.9},\"x\":{\"field\":\"band\"}},\"id\":\"716529e8-2b6e-4b11-b075-d7e226a142e5\",\"type\":\"VBar\"},{\"attributes\":{\"children\":[{\"id\":\"c2ef0039-21c1-4fdd-977f-0676f0a9a2a1\",\"subtype\":\"Figure\",\"type\":\"Plot\"},{\"id\":\"fb39d763-1817-47e3-9bf5-4a9ed0da9f92\",\"subtype\":\"Figure\",\"type\":\"Plot\"},{\"id\":\"17982237-9a23-434b-9ab9-cb673325ee43\",\"subtype\":\"Figure\",\"type\":\"Plot\"}]},\"id\":\"195d8a36-0125-477d-b607-f540ca729e42\",\"type\":\"Row\"},{\"attributes\":{\"bottom_units\":\"screen\",\"fill_alpha\":{\"value\":0.5},\"fill_color\":{\"value\":\"lightgrey\"},\"left_units\":\"screen\",\"level\":\"overlay\",\"line_alpha\":{\"value\":1.0},\"line_color\":{\"value\":\"black\"},\"line_dash\":[4,4],\"line_width\":{\"value\":2},\"plot\":null,\"render_mode\":\"css\",\"right_units\":\"screen\",\"top_units\":\"screen\"},\"id\":\"a4c76bf8-90c9-4ed5-84cc-27d3d6ba49b5\",\"type\":\"BoxAnnotation\"},{\"attributes\":{},\"id\":\"dcd772db-ff04-474e-a1a9-3b1d726cd5b6\",\"type\":\"LinearScale\"},{\"attributes\":{},\"id\":\"2a22fdfb-379b-49c7-98df-229dc3567c9d\",\"type\":\"PanTool\"},{\"attributes\":{},\"id\":\"73e0f2cc-3661-4725-bddf-9932eb2cfab9\",\"type\":\"CategoricalScale\"},{\"attributes\":{\"active_drag\":\"auto\",\"active_inspect\":\"auto\",\"active_scroll\":\"auto\",\"active_tap\":\"auto\",\"tools\":[{\"id\":\"e83fcbe5-d54d-4a7f-99bd-10d703d851e3\",\"type\":\"PanTool\"},{\"id\":\"94dd9164-38cc-4232-9cb8-326f22fbf702\",\"type\":\"WheelZoomTool\"},{\"id\":\"90645ab4-6d85-4ad2-a715-90e432291527\",\"type\":\"BoxZoomTool\"},{\"id\":\"8e8b4dff-9486-4bc7-b704-508c92642a37\",\"type\":\"SaveTool\"},{\"id\":\"21f5c0fb-06c2-43ce-b600-86d0d9789c17\",\"type\":\"ResetTool\"},{\"id\":\"73d7633a-3575-4b27-8999-d22670cb11d8\",\"type\":\"HelpTool\"}]},\"id\":\"c44e77a6-031c-4779-b2d0-9c6ec206ce0f\",\"type\":\"Toolbar\"},{\"attributes\":{\"data_source\":{\"id\":\"e34b455a-251b-428d-8987-9f62925fb32d\",\"type\":\"ColumnDataSource\"},\"glyph\":{\"id\":\"716529e8-2b6e-4b11-b075-d7e226a142e5\",\"type\":\"VBar\"},\"hover_glyph\":null,\"muted_glyph\":null,\"nonselection_glyph\":{\"id\":\"74c5ab18-d4f3-442a-9f23-7c985a033e6c\",\"type\":\"VBar\"},\"selection_glyph\":null,\"view\":{\"id\":\"d7940a01-ac52-40e8-8bb2-b4e21db31b50\",\"type\":\"CDSView\"}},\"id\":\"77fa5ad6-afec-4943-a0aa-078fd36f52b1\",\"type\":\"GlyphRenderer\"},{\"attributes\":{},\"id\":\"0dd0641a-d45a-47f6-9383-c2e3cba01b65\",\"type\":\"WheelZoomTool\"},{\"attributes\":{\"callback\":null,\"factors\":[\"1\",\"2\",\"3\",\"4\",\"5\",\"6\",\"7\",\"8\",\"9\",\"10\",\"11\"]},\"id\":\"64a1f5dc-7803-465b-866e-b393375c4cbd\",\"type\":\"FactorRange\"},{\"attributes\":{\"overlay\":{\"id\":\"a4c76bf8-90c9-4ed5-84cc-27d3d6ba49b5\",\"type\":\"BoxAnnotation\"}},\"id\":\"02a6de1e-d278-4750-bba2-08ad069d71b0\",\"type\":\"BoxZoomTool\"},{\"attributes\":{\"axis_label\":\"spectral band\",\"formatter\":{\"id\":\"dbb56334-078a-4d7c-bc08-a1ae1bb8dafd\",\"type\":\"CategoricalTickFormatter\"},\"plot\":{\"id\":\"fb39d763-1817-47e3-9bf5-4a9ed0da9f92\",\"subtype\":\"Figure\",\"type\":\"Plot\"},\"ticker\":{\"id\":\"52f7d712-abd2-48d5-b208-896c315de1d8\",\"type\":\"CategoricalTicker\"}},\"id\":\"c7d3e811-3211-4af3-b147-95ed48b27713\",\"type\":\"CategoricalAxis\"},{\"attributes\":{\"below\":[{\"id\":\"213eeda7-bb39-4226-a1d5-e061d1acddfe\",\"type\":\"CategoricalAxis\"}],\"left\":[{\"id\":\"516b119c-71c4-4e60-a9d9-efd9ec039a98\",\"type\":\"LinearAxis\"}],\"plot_height\":300,\"plot_width\":300,\"renderers\":[{\"id\":\"213eeda7-bb39-4226-a1d5-e061d1acddfe\",\"type\":\"CategoricalAxis\"},{\"id\":\"709e2aeb-1e50-4557-abd3-69e060b6c837\",\"type\":\"Grid\"},{\"id\":\"516b119c-71c4-4e60-a9d9-efd9ec039a98\",\"type\":\"LinearAxis\"},{\"id\":\"58805318-448a-4dfa-b044-1324df35c1c5\",\"type\":\"Grid\"},{\"id\":\"7a8d5739-b5ce-4cd6-b7a2-432ae94ece01\",\"type\":\"BoxAnnotation\"},{\"id\":\"8d123f1c-40bc-4f1d-b9bf-dbaaee58bb07\",\"type\":\"GlyphRenderer\"}],\"title\":{\"id\":\"148e3e36-aaa7-445e-aed9-608fa555f4cd\",\"type\":\"Title\"},\"toolbar\":{\"id\":\"c44e77a6-031c-4779-b2d0-9c6ec206ce0f\",\"type\":\"Toolbar\"},\"toolbar_location\":null,\"x_range\":{\"id\":\"05328941-7719-4904-ac79-25055c8d05b7\",\"type\":\"FactorRange\"},\"x_scale\":{\"id\":\"13a06f3e-aabc-41cb-a262-307d93e79552\",\"type\":\"CategoricalScale\"},\"y_range\":{\"id\":\"0f4de41b-df80-4c8a-bb80-5d68898f7133\",\"type\":\"DataRange1d\"},\"y_scale\":{\"id\":\"3b42f893-f720-4c53-b7e5-185ef08870e6\",\"type\":\"LinearScale\"}},\"id\":\"c2ef0039-21c1-4fdd-977f-0676f0a9a2a1\",\"subtype\":\"Figure\",\"type\":\"Plot\"},{\"attributes\":{},\"id\":\"85fd4003-a6eb-4574-8dfa-6dfa08ba9838\",\"type\":\"SaveTool\"},{\"attributes\":{\"source\":{\"id\":\"85af78f9-9739-4332-bcf9-d59f0f972697\",\"type\":\"ColumnDataSource\"}},\"id\":\"87a4ee54-1a42-40ee-bf3d-63539905529a\",\"type\":\"CDSView\"},{\"attributes\":{},\"id\":\"d6c76c2d-0cc9-4591-8098-2eebd8f537b4\",\"type\":\"ResetTool\"},{\"attributes\":{\"below\":[{\"id\":\"c7d3e811-3211-4af3-b147-95ed48b27713\",\"type\":\"CategoricalAxis\"}],\"left\":[{\"id\":\"af062533-1ddc-4dd1-b4cc-ce1afb22d891\",\"type\":\"LinearAxis\"}],\"plot_height\":300,\"plot_width\":300,\"renderers\":[{\"id\":\"c7d3e811-3211-4af3-b147-95ed48b27713\",\"type\":\"CategoricalAxis\"},{\"id\":\"f3953326-225a-4c43-9706-7d362045de85\",\"type\":\"Grid\"},{\"id\":\"af062533-1ddc-4dd1-b4cc-ce1afb22d891\",\"type\":\"LinearAxis\"},{\"id\":\"0213c720-bd00-4385-834b-efa3b0a8710f\",\"type\":\"Grid\"},{\"id\":\"1d9a9b63-e9e5-40f2-85f5-b9f4eddcee18\",\"type\":\"BoxAnnotation\"},{\"id\":\"3dbad7a9-712e-467b-9630-181f2641aedd\",\"type\":\"GlyphRenderer\"}],\"title\":{\"id\":\"4cb9a01c-c380-4514-b29a-abd8b08413be\",\"type\":\"Title\"},\"toolbar\":{\"id\":\"5a4023c0-ad46-489d-b2fe-634d30acf906\",\"type\":\"Toolbar\"},\"toolbar_location\":null,\"x_range\":{\"id\":\"64a1f5dc-7803-465b-866e-b393375c4cbd\",\"type\":\"FactorRange\"},\"x_scale\":{\"id\":\"73e0f2cc-3661-4725-bddf-9932eb2cfab9\",\"type\":\"CategoricalScale\"},\"y_range\":{\"id\":\"1c7bb3ac-ff3a-46bf-bc99-1860c7d8fa39\",\"type\":\"DataRange1d\"},\"y_scale\":{\"id\":\"dcd772db-ff04-474e-a1a9-3b1d726cd5b6\",\"type\":\"LinearScale\"}},\"id\":\"fb39d763-1817-47e3-9bf5-4a9ed0da9f92\",\"subtype\":\"Figure\",\"type\":\"Plot\"},{\"attributes\":{},\"id\":\"86fc29d2-645e-4127-b1de-ff2a87722100\",\"type\":\"HelpTool\"},{\"attributes\":{\"callback\":null,\"data\":{\"band\":[\"1\",\"2\",\"3\",\"4\",\"5\",\"6\",\"7\",\"8\",\"9\",\"10\",\"11\"],\"flux\":{\"__ndarray__\":\"AADBog+PZb8AUJQ3ke/Av0C9ee5ga9a/wCv5VCX81r8QzXEYE7W4v4gGUvc787W/WL0TEdANm78AgocJbTC0vwCLKpvwTbu/AMRJLaN3oj+AeVKvJhKCPw==\",\"dtype\":\"float64\",\"shape\":[11]}},\"selected\":{\"id\":\"bdd6b469-4a06-454a-991c-34193e3edc4b\",\"type\":\"Selection\"},\"selection_policy\":{\"id\":\"c8bef5fb-9793-4bd2-940b-80fd7082a3f4\",\"type\":\"UnionRenderers\"}},\"id\":\"be8dda34-1beb-4c7f-82e8-c66ac119c147\",\"type\":\"ColumnDataSource\"},{\"attributes\":{},\"id\":\"dbb56334-078a-4d7c-bc08-a1ae1bb8dafd\",\"type\":\"CategoricalTickFormatter\"},{\"attributes\":{\"fill_color\":{\"value\":\"#1f77b4\"},\"line_color\":{\"value\":\"#1f77b4\"},\"top\":{\"field\":\"flux\"},\"width\":{\"value\":0.9},\"x\":{\"field\":\"band\"}},\"id\":\"376a73c6-9484-4f5b-ae0d-a1fc19547eac\",\"type\":\"VBar\"},{\"attributes\":{},\"id\":\"73d7633a-3575-4b27-8999-d22670cb11d8\",\"type\":\"HelpTool\"},{\"attributes\":{\"axis_label\":\"flux (W m-2)\",\"formatter\":{\"id\":\"83427108-7992-4676-9e10-0270470b8935\",\"type\":\"BasicTickFormatter\"},\"plot\":{\"id\":\"fb39d763-1817-47e3-9bf5-4a9ed0da9f92\",\"subtype\":\"Figure\",\"type\":\"Plot\"},\"ticker\":{\"id\":\"e5d9a37a-646c-4d9e-930d-c3b4c2bacea8\",\"type\":\"BasicTicker\"}},\"id\":\"af062533-1ddc-4dd1-b4cc-ce1afb22d891\",\"type\":\"LinearAxis\"},{\"attributes\":{},\"id\":\"9744b1bc-478b-4caa-a659-2696365dc9f3\",\"type\":\"UnionRenderers\"},{\"attributes\":{\"plot\":null,\"text\":\"TOA flux. CLIRAD - CRD.\"},\"id\":\"148e3e36-aaa7-445e-aed9-608fa555f4cd\",\"type\":\"Title\"},{\"attributes\":{},\"id\":\"21f5c0fb-06c2-43ce-b600-86d0d9789c17\",\"type\":\"ResetTool\"},{\"attributes\":{},\"id\":\"52f7d712-abd2-48d5-b208-896c315de1d8\",\"type\":\"CategoricalTicker\"},{\"attributes\":{\"source\":{\"id\":\"e34b455a-251b-428d-8987-9f62925fb32d\",\"type\":\"ColumnDataSource\"}},\"id\":\"d7940a01-ac52-40e8-8bb2-b4e21db31b50\",\"type\":\"CDSView\"},{\"attributes\":{\"below\":[{\"id\":\"3da45853-5ec5-4a5c-98d9-6f82e9af5dc2\",\"type\":\"CategoricalAxis\"}],\"left\":[{\"id\":\"eb457efa-8a95-4fb6-bdd2-3ab40ac2c40d\",\"type\":\"LinearAxis\"}],\"plot_height\":300,\"plot_width\":300,\"renderers\":[{\"id\":\"3da45853-5ec5-4a5c-98d9-6f82e9af5dc2\",\"type\":\"CategoricalAxis\"},{\"id\":\"d482ae4e-6176-4bae-b5af-bf3b22a4caea\",\"type\":\"Grid\"},{\"id\":\"eb457efa-8a95-4fb6-bdd2-3ab40ac2c40d\",\"type\":\"LinearAxis\"},{\"id\":\"de2b5419-16ba-416a-a5c0-541f76fc68a9\",\"type\":\"Grid\"},{\"id\":\"a4c76bf8-90c9-4ed5-84cc-27d3d6ba49b5\",\"type\":\"BoxAnnotation\"},{\"id\":\"77fa5ad6-afec-4943-a0aa-078fd36f52b1\",\"type\":\"GlyphRenderer\"}],\"title\":{\"id\":\"a3e34ae4-deb5-4af3-9841-1b5feeeffac3\",\"type\":\"Title\"},\"toolbar\":{\"id\":\"fbf746bd-ab41-4988-9bfa-941edac3590a\",\"type\":\"Toolbar\"},\"toolbar_location\":null,\"x_range\":{\"id\":\"312a71d4-1ead-4907-912a-862a5db98f12\",\"type\":\"FactorRange\"},\"x_scale\":{\"id\":\"a75b42a5-ccf9-4764-b79e-d8f66469a9d4\",\"type\":\"CategoricalScale\"},\"y_range\":{\"id\":\"fe499ea9-cd54-454c-bff2-43e2cae77bf9\",\"type\":\"DataRange1d\"},\"y_scale\":{\"id\":\"894154d2-2fdc-4253-b6f5-9156985206d6\",\"type\":\"LinearScale\"}},\"id\":\"17982237-9a23-434b-9ab9-cb673325ee43\",\"subtype\":\"Figure\",\"type\":\"Plot\"},{\"attributes\":{\"dimension\":1,\"plot\":{\"id\":\"fb39d763-1817-47e3-9bf5-4a9ed0da9f92\",\"subtype\":\"Figure\",\"type\":\"Plot\"},\"ticker\":{\"id\":\"e5d9a37a-646c-4d9e-930d-c3b4c2bacea8\",\"type\":\"BasicTicker\"}},\"id\":\"0213c720-bd00-4385-834b-efa3b0a8710f\",\"type\":\"Grid\"},{\"attributes\":{\"children\":[{\"id\":\"195d8a36-0125-477d-b607-f540ca729e42\",\"type\":\"Row\"}]},\"id\":\"78ff2e24-7ef8-4227-9a94-6740b4086150\",\"type\":\"Column\"},{\"attributes\":{},\"id\":\"8e8b4dff-9486-4bc7-b704-508c92642a37\",\"type\":\"SaveTool\"},{\"attributes\":{\"overlay\":{\"id\":\"7a8d5739-b5ce-4cd6-b7a2-432ae94ece01\",\"type\":\"BoxAnnotation\"}},\"id\":\"90645ab4-6d85-4ad2-a715-90e432291527\",\"type\":\"BoxZoomTool\"},{\"attributes\":{\"fill_alpha\":{\"value\":0.1},\"fill_color\":{\"value\":\"#1f77b4\"},\"line_alpha\":{\"value\":0.1},\"line_color\":{\"value\":\"#1f77b4\"},\"top\":{\"field\":\"flux\"},\"width\":{\"value\":0.9},\"x\":{\"field\":\"band\"}},\"id\":\"d34914db-fdd4-4c5d-aa23-e883acef6e6b\",\"type\":\"VBar\"},{\"attributes\":{},\"id\":\"4d60af09-5e15-443e-b0a2-22f95d36cbcf\",\"type\":\"Selection\"},{\"attributes\":{},\"id\":\"94dd9164-38cc-4232-9cb8-326f22fbf702\",\"type\":\"WheelZoomTool\"},{\"attributes\":{},\"id\":\"83427108-7992-4676-9e10-0270470b8935\",\"type\":\"BasicTickFormatter\"},{\"attributes\":{\"data_source\":{\"id\":\"85af78f9-9739-4332-bcf9-d59f0f972697\",\"type\":\"ColumnDataSource\"},\"glyph\":{\"id\":\"c172da7b-7b4b-40bd-8786-0cfdee56cb40\",\"type\":\"VBar\"},\"hover_glyph\":null,\"muted_glyph\":null,\"nonselection_glyph\":{\"id\":\"9d8390af-b477-452b-9514-1df7fb4cff42\",\"type\":\"VBar\"},\"selection_glyph\":null,\"view\":{\"id\":\"87a4ee54-1a42-40ee-bf3d-63539905529a\",\"type\":\"CDSView\"}},\"id\":\"8d123f1c-40bc-4f1d-b9bf-dbaaee58bb07\",\"type\":\"GlyphRenderer\"},{\"attributes\":{},\"id\":\"deaf8f06-04be-484f-a2b0-9275e6a8664e\",\"type\":\"BasicTickFormatter\"},{\"attributes\":{},\"id\":\"e83fcbe5-d54d-4a7f-99bd-10d703d851e3\",\"type\":\"PanTool\"},{\"attributes\":{\"bottom_units\":\"screen\",\"fill_alpha\":{\"value\":0.5},\"fill_color\":{\"value\":\"lightgrey\"},\"left_units\":\"screen\",\"level\":\"overlay\",\"line_alpha\":{\"value\":1.0},\"line_color\":{\"value\":\"black\"},\"line_dash\":[4,4],\"line_width\":{\"value\":2},\"plot\":null,\"render_mode\":\"css\",\"right_units\":\"screen\",\"top_units\":\"screen\"},\"id\":\"1d9a9b63-e9e5-40f2-85f5-b9f4eddcee18\",\"type\":\"BoxAnnotation\"},{\"attributes\":{\"bottom_units\":\"screen\",\"fill_alpha\":{\"value\":0.5},\"fill_color\":{\"value\":\"lightgrey\"},\"left_units\":\"screen\",\"level\":\"overlay\",\"line_alpha\":{\"value\":1.0},\"line_color\":{\"value\":\"black\"},\"line_dash\":[4,4],\"line_width\":{\"value\":2},\"plot\":null,\"render_mode\":\"css\",\"right_units\":\"screen\",\"top_units\":\"screen\"},\"id\":\"7a8d5739-b5ce-4cd6-b7a2-432ae94ece01\",\"type\":\"BoxAnnotation\"},{\"attributes\":{},\"id\":\"b43666dd-f703-4b4f-957e-91071284867d\",\"type\":\"PanTool\"},{\"attributes\":{},\"id\":\"c8bef5fb-9793-4bd2-940b-80fd7082a3f4\",\"type\":\"UnionRenderers\"},{\"attributes\":{\"data_source\":{\"id\":\"be8dda34-1beb-4c7f-82e8-c66ac119c147\",\"type\":\"ColumnDataSource\"},\"glyph\":{\"id\":\"376a73c6-9484-4f5b-ae0d-a1fc19547eac\",\"type\":\"VBar\"},\"hover_glyph\":null,\"muted_glyph\":null,\"nonselection_glyph\":{\"id\":\"d34914db-fdd4-4c5d-aa23-e883acef6e6b\",\"type\":\"VBar\"},\"selection_glyph\":null,\"view\":{\"id\":\"4c9814ca-7b83-4b7e-8b30-d149bbd8d82e\",\"type\":\"CDSView\"}},\"id\":\"3dbad7a9-712e-467b-9630-181f2641aedd\",\"type\":\"GlyphRenderer\"},{\"attributes\":{},\"id\":\"a395647c-e501-43bb-9fdb-2450d061c56b\",\"type\":\"UnionRenderers\"},{\"attributes\":{},\"id\":\"e06a3128-420e-456e-ac0a-04122c7285d4\",\"type\":\"WheelZoomTool\"},{\"attributes\":{},\"id\":\"bdd6b469-4a06-454a-991c-34193e3edc4b\",\"type\":\"Selection\"},{\"attributes\":{\"plot\":null,\"text\":\"Atmosphere heating. CLIRAD - CRD.\"},\"id\":\"a3e34ae4-deb5-4af3-9841-1b5feeeffac3\",\"type\":\"Title\"},{\"attributes\":{\"overlay\":{\"id\":\"1d9a9b63-e9e5-40f2-85f5-b9f4eddcee18\",\"type\":\"BoxAnnotation\"}},\"id\":\"e6cdbb21-485e-451c-a87b-de076b47af5b\",\"type\":\"BoxZoomTool\"},{\"attributes\":{\"toolbar\":{\"id\":\"13bde020-85a8-4def-809c-a5274b4980a7\",\"type\":\"ProxyToolbar\"},\"toolbar_location\":\"above\"},\"id\":\"a0f4a9d7-601b-461a-9569-cfceb9c94023\",\"type\":\"ToolbarBox\"},{\"attributes\":{},\"id\":\"fbab0d28-3d1d-453b-ab0b-762b61819102\",\"type\":\"SaveTool\"},{\"attributes\":{},\"id\":\"224269ec-b784-4ad1-9fc0-a290b94e78f4\",\"type\":\"BasicTickFormatter\"},{\"attributes\":{},\"id\":\"4b1db4cb-acdd-4625-9db9-e771386c981f\",\"type\":\"ResetTool\"},{\"attributes\":{\"callback\":null,\"data\":{\"band\":[\"1\",\"2\",\"3\",\"4\",\"5\",\"6\",\"7\",\"8\",\"9\",\"10\",\"11\"],\"flux\":{\"__ndarray__\":\"gJpaPdKWxz8AFYN+kWrKP6Dti9eJPdE/gJjWcb+N1j8AcoxBrLa0PwD42n3YHLQ/AKhUeoeKmD8AEfdO0XywP4AroAl6U6g/gKuFkO3gpL8ANMgw5px8vw==\",\"dtype\":\"float64\",\"shape\":[11]}},\"selected\":{\"id\":\"776de20d-c951-481d-ad29-d8f6e238bcfc\",\"type\":\"Selection\"},\"selection_policy\":{\"id\":\"a395647c-e501-43bb-9fdb-2450d061c56b\",\"type\":\"UnionRenderers\"}},\"id\":\"e34b455a-251b-428d-8987-9f62925fb32d\",\"type\":\"ColumnDataSource\"},{\"attributes\":{\"children\":[{\"id\":\"a0f4a9d7-601b-461a-9569-cfceb9c94023\",\"type\":\"ToolbarBox\"},{\"id\":\"78ff2e24-7ef8-4227-9a94-6740b4086150\",\"type\":\"Column\"}]},\"id\":\"d94ec28e-505c-4b2a-8940-2e65dba9bd63\",\"type\":\"Column\"},{\"attributes\":{},\"id\":\"e206a80b-0c43-4f46-89f0-e3d851285444\",\"type\":\"HelpTool\"},{\"attributes\":{},\"id\":\"776de20d-c951-481d-ad29-d8f6e238bcfc\",\"type\":\"Selection\"},{\"attributes\":{\"tools\":[{\"id\":\"e83fcbe5-d54d-4a7f-99bd-10d703d851e3\",\"type\":\"PanTool\"},{\"id\":\"94dd9164-38cc-4232-9cb8-326f22fbf702\",\"type\":\"WheelZoomTool\"},{\"id\":\"90645ab4-6d85-4ad2-a715-90e432291527\",\"type\":\"BoxZoomTool\"},{\"id\":\"8e8b4dff-9486-4bc7-b704-508c92642a37\",\"type\":\"SaveTool\"},{\"id\":\"21f5c0fb-06c2-43ce-b600-86d0d9789c17\",\"type\":\"ResetTool\"},{\"id\":\"73d7633a-3575-4b27-8999-d22670cb11d8\",\"type\":\"HelpTool\"},{\"id\":\"b43666dd-f703-4b4f-957e-91071284867d\",\"type\":\"PanTool\"},{\"id\":\"e06a3128-420e-456e-ac0a-04122c7285d4\",\"type\":\"WheelZoomTool\"},{\"id\":\"e6cdbb21-485e-451c-a87b-de076b47af5b\",\"type\":\"BoxZoomTool\"},{\"id\":\"fbab0d28-3d1d-453b-ab0b-762b61819102\",\"type\":\"SaveTool\"},{\"id\":\"4b1db4cb-acdd-4625-9db9-e771386c981f\",\"type\":\"ResetTool\"},{\"id\":\"e206a80b-0c43-4f46-89f0-e3d851285444\",\"type\":\"HelpTool\"},{\"id\":\"2a22fdfb-379b-49c7-98df-229dc3567c9d\",\"type\":\"PanTool\"},{\"id\":\"0dd0641a-d45a-47f6-9383-c2e3cba01b65\",\"type\":\"WheelZoomTool\"},{\"id\":\"02a6de1e-d278-4750-bba2-08ad069d71b0\",\"type\":\"BoxZoomTool\"},{\"id\":\"85fd4003-a6eb-4574-8dfa-6dfa08ba9838\",\"type\":\"SaveTool\"},{\"id\":\"d6c76c2d-0cc9-4591-8098-2eebd8f537b4\",\"type\":\"ResetTool\"},{\"id\":\"86fc29d2-645e-4127-b1de-ff2a87722100\",\"type\":\"HelpTool\"}]},\"id\":\"13bde020-85a8-4def-809c-a5274b4980a7\",\"type\":\"ProxyToolbar\"},{\"attributes\":{\"source\":{\"id\":\"be8dda34-1beb-4c7f-82e8-c66ac119c147\",\"type\":\"ColumnDataSource\"}},\"id\":\"4c9814ca-7b83-4b7e-8b30-d149bbd8d82e\",\"type\":\"CDSView\"},{\"attributes\":{},\"id\":\"c442e45b-ee19-450d-a4ac-1add30df5432\",\"type\":\"CategoricalTickFormatter\"},{\"attributes\":{\"callback\":null,\"data\":{\"band\":[\"1\",\"2\",\"3\",\"4\",\"5\",\"6\",\"7\",\"8\",\"9\",\"10\",\"11\"],\"flux\":{\"__ndarray__\":\"AC4ynJNAxz8AgMUnxvWyPwCgsbiBt7S/AICY886Ze78AcMqz/fGPvwDAcVAEaX2/AMCsOFEiZL8AdJASeZqNvwA05wRgSK6/AIRFaT5Jc78AWMp/dxxePw==\",\"dtype\":\"float64\",\"shape\":[11]}},\"selected\":{\"id\":\"4d60af09-5e15-443e-b0a2-22f95d36cbcf\",\"type\":\"Selection\"},\"selection_policy\":{\"id\":\"9744b1bc-478b-4caa-a659-2696365dc9f3\",\"type\":\"UnionRenderers\"}},\"id\":\"85af78f9-9739-4332-bcf9-d59f0f972697\",\"type\":\"ColumnDataSource\"}],\"root_ids\":[\"d94ec28e-505c-4b2a-8940-2e65dba9bd63\"]},\"title\":\"Bokeh Application\",\"version\":\"0.12.16\"}};\n",
       "  var render_items = [{\"docid\":\"590596e9-801d-4cec-982b-f6eb876efe44\",\"elementid\":\"6d35f0aa-add8-45f2-a8a0-accc3119c2d1\",\"modelid\":\"d94ec28e-505c-4b2a-8940-2e65dba9bd63\"}];\n",
       "  root.Bokeh.embed.embed_items_notebook(docs_json, render_items);\n",
       "\n",
       "  }\n",
       "  if (root.Bokeh !== undefined) {\n",
       "    embed_document(root);\n",
       "  } else {\n",
       "    var attempts = 0;\n",
       "    var timer = setInterval(function(root) {\n",
       "      if (root.Bokeh !== undefined) {\n",
       "        embed_document(root);\n",
       "        clearInterval(timer);\n",
       "      }\n",
       "      attempts++;\n",
       "      if (attempts > 100) {\n",
       "        console.log(\"Bokeh: ERROR: Unable to run BokehJS code because BokehJS library is missing\")\n",
       "        clearInterval(timer);\n",
       "      }\n",
       "    }, 10, root)\n",
       "  }\n",
       "})(window);"
      ],
      "application/vnd.bokehjs_exec.v0+json": ""
     },
     "metadata": {
      "application/vnd.bokehjs_exec.v0+json": {
       "id": "d94ec28e-505c-4b2a-8940-2e65dba9bd63"
      }
     },
     "output_type": "display_data"
    },
    {
     "data": {
      "text/markdown": [
       "*FIGURE.* Difference between CLIRAD and CRD in TOA, SFC and net atmosphere flux, in each spectral band."
      ],
      "text/plain": [
       "<IPython.core.display.Markdown object>"
      ]
     },
     "metadata": {},
     "output_type": "display_data"
    },
    {
     "data": {
      "text/html": [
       "<div>\n",
       "<style scoped>\n",
       "    .dataframe tbody tr th:only-of-type {\n",
       "        vertical-align: middle;\n",
       "    }\n",
       "\n",
       "    .dataframe tbody tr th {\n",
       "        vertical-align: top;\n",
       "    }\n",
       "\n",
       "    .dataframe thead th {\n",
       "        text-align: right;\n",
       "    }\n",
       "</style>\n",
       "<table border=\"1\" class=\"dataframe\">\n",
       "  <thead>\n",
       "    <tr style=\"text-align: right;\">\n",
       "      <th></th>\n",
       "      <th>OLR flux</th>\n",
       "      <th>SFC flux</th>\n",
       "      <th>ATM heating</th>\n",
       "    </tr>\n",
       "    <tr>\n",
       "      <th>Sum over bands</th>\n",
       "      <th></th>\n",
       "      <th></th>\n",
       "      <th></th>\n",
       "    </tr>\n",
       "  </thead>\n",
       "  <tbody>\n",
       "    <tr>\n",
       "      <th>CLIRAD - CRD</th>\n",
       "      <td>0.07</td>\n",
       "      <td>-1.19</td>\n",
       "      <td>1.26</td>\n",
       "    </tr>\n",
       "    <tr>\n",
       "      <th>CRD</th>\n",
       "      <td>-224.58</td>\n",
       "      <td>127.40</td>\n",
       "      <td>-104.56</td>\n",
       "    </tr>\n",
       "  </tbody>\n",
       "</table>\n",
       "</div>"
      ],
      "text/plain": [
       "                OLR flux  SFC flux  ATM heating\n",
       "Sum over bands                                 \n",
       "CLIRAD - CRD        0.07     -1.19         1.26\n",
       "CRD              -224.58    127.40      -104.56"
      ]
     },
     "metadata": {},
     "output_type": "display_data"
    },
    {
     "data": {
      "text/markdown": [
       "*TABLE.* Difference between CLIRAD and CRD in TOA, SFC and net atmosphere flux, over all spectral bands. CRD's TOA, SFC and net atmosphere flux, over all spectral bands."
      ],
      "text/plain": [
       "<IPython.core.display.Markdown object>"
      ]
     },
     "metadata": {},
     "output_type": "display_data"
    },
    {
     "data": {
      "text/html": [
       "<a id=\"Cooling_rates._trp.\"></a>"
      ],
      "text/plain": [
       "<IPython.core.display.HTML object>"
      ]
     },
     "metadata": {},
     "output_type": "display_data"
    },
    {
     "data": {
      "text/markdown": [
       "# Cooling rates. trp."
      ],
      "text/plain": [
       "<IPython.core.display.Markdown object>"
      ]
     },
     "metadata": {},
     "output_type": "display_data"
    },
    {
     "data": {
      "text/html": [
       "\n",
       "<div class=\"bk-root\">\n",
       "    <div class=\"bk-plotdiv\" id=\"398610ef-f6ea-499e-a46c-bf002e81dd55\"></div>\n",
       "</div>"
      ]
     },
     "metadata": {},
     "output_type": "display_data"
    },
    {
     "data": {
      "application/javascript": [
       "(function(root) {\n",
       "  function embed_document(root) {\n",
       "    \n",
       "  var docs_json = {\"2118b2e2-7a54-4ec5-b1a1-6e13a7f1b5e6\":{\"roots\":{\"references\":[{\"attributes\":{\"overlay\":{\"id\":\"864b195b-44e4-403f-919a-231aa435675c\",\"type\":\"BoxAnnotation\"}},\"id\":\"dcadcf68-d29c-4e0d-8dcf-a78138710b25\",\"type\":\"BoxZoomTool\"},{\"attributes\":{\"callback\":null,\"data\":{\"x\":{\"__ndarray__\":\"ko1oKQnuFUBFW7cawXwRQP29T1U4xA9AXxx2f/hdDEB2M4Bnq+oIQM7EdNFZkgVAbsIjJpVwAkAHTkBdfSj/P52Mltho/vk/CdkNP3Jd9T+FJwMzEz/xP/QSn/yHL+s/Z2K/A0qX5D+qmPJX8rfcPwxz8GnNAtc/P+1a2aWL2T+K/HUHYL7dP4HThzhZ1+A/XDY71Qsp4z+Al4CX7DHmP0y5WBNnpuo/v5Op0WRe8D+83vwrS4XwPzCHP+6nfOw/OEitOzWp6D+1ckF0wRblP76W1X4TrOI/3jQxUysJ4T9kjUzMH3HfPzlWhsZ+FN0/7fJ+yajT2j/FHTbaTZnYP0DCPPgbY9Y/qWGpzj9W1D9MsaqAVJzQP4ckjegum8U/zayBcYxYuD+8X4f9Y6W7P4rppdVS6MY/2nObdikz0D8QtHwiPhXbP2CoTBldtuw/Cy7BROld9j+pLQ1IFND8P+hR1b9jdABA5GJm1lx+AUC2jin5IO8BQFb9+Fxe3wFAC5h0ZSDrAEBpHsZ3c3IAQCcC0aF8MQBAwqwNvfgRAECCKyPtow8AQECuLTZiJQBALWJN4OBYAEBB/dOurZkAQBvjjL2v3QBAw7zr9uEeAUCgbAkOClkBQDWXDA07nQFA1cX0pxf1AUDLtw9JBUUCQA6cHoZsQAJAgQXppEyiAkDRWdR+3fIBQB9M4bA87ABAYS8Ep/wHAEBPgycSxM39P9C6xOCYZfw/RoFwmRWu+z9hk9+kaGX7P9r2uB/afvs/mq4NmAcL/D9rCbRKol79PydIR355HgRA\",\"dtype\":\"float64\",\"shape\":[75]},\"y\":{\"__ndarray__\":\"GhExyth1ND/Sv8nbtpRIP2vylNV0PVE/aTum7souWD/At0SJ8fVgPw3Iuahxymc/MSNhhJWvcD/bTfBN02d3P2zb5nxnaoA/CD5h5MAGhz8NmeH1TyaQP+zrCsc9p5Y/LbKd76fGnz/bLW5ISEmmPww9YvTcQq8/JV2OstnstT8Er5Y7M8G+P0c+r3jqkcU/5h99k6ZBzj88bCIzFzjVP4enV8oyxN0//yH99nXg5D8qOpLLf0jtP5kqGJXUifQ/c9cS8kHP/D+/DpwzojQEQIEmwoanVwxA4lgXt9HgE0BSSZ2AJuIbQAMJih9jjiNA5q4l5INuK0AwTKYKRj0zQNv5fmq8/DpAaCJseHrtQkB/+zpwzoxKQM3MzMzMeFJAZmZmZmZqWEAAAAAAAFxeQM3MzMzMJmJAmpmZmZkfZUBmZmZmZhhoQDMzMzMzEWtAAAAAAAAKbkBmZmZmZoFwQM3MzMzM/XFAMzMzMzN6c0CamZmZmfZ0QAAAAAAAc3ZAZmZmZmbvd0DNzMzMzGt5QDMzMzMz6HpAmpmZmZlkfEAAAAAAAOF9QGZmZmZmXX9AZmZmZuZsgECamZmZGSuBQM3MzMxM6YFAAAAAAICngkAzMzMzs2WDQGZmZmbmI4RAmpmZmRnihEDNzMzMTKCFQAAAAACAXoZAMzMzM7Mch0BmZmZm5tqHQJqZmZkZmYhAzczMzExXiUAAAAAAgBWKQDMzMzOz04pAZmZmZuaRi0CamZmZGVCMQM3MzMxMDo1AAAAAAIDMjUAzMzMzs4qOQGZmZmbmSI9A\",\"dtype\":\"float64\",\"shape\":[75]}},\"selected\":{\"id\":\"dd215a48-8dc0-476a-9f62-24acc0a18abd\",\"type\":\"Selection\"},\"selection_policy\":{\"id\":\"033064a4-e847-4c13-8d89-b687f7466ae6\",\"type\":\"UnionRenderers\"}},\"id\":\"b06c10e7-377f-4b21-a70e-13efc645f6ad\",\"type\":\"ColumnDataSource\"},{\"attributes\":{},\"id\":\"54afb08b-f037-45a8-a441-9cf147471698\",\"type\":\"LinearScale\"},{\"attributes\":{\"fill_alpha\":{\"value\":0.7},\"fill_color\":{\"value\":\"#4daf4a\"},\"line_alpha\":{\"value\":0.7},\"line_color\":{\"value\":\"#4daf4a\"},\"x\":{\"field\":\"x\"},\"y\":{\"field\":\"y\"}},\"id\":\"c373eb3f-d53b-4893-82e8-18375601c492\",\"type\":\"Circle\"},{\"attributes\":{\"axis_label\":\"pressure [mb]\",\"formatter\":{\"id\":\"37a23b95-5e6f-4c80-8fad-5384b95bf96d\",\"type\":\"BasicTickFormatter\"},\"plot\":{\"id\":\"3ea75ea0-90d8-4777-9e76-c59aac86da06\",\"subtype\":\"Figure\",\"type\":\"Plot\"},\"ticker\":{\"id\":\"b2f3472a-50db-47d3-9ad6-e10f92b6785e\",\"type\":\"BasicTicker\"}},\"id\":\"983ef74b-0327-496a-947e-32338b467d61\",\"type\":\"LinearAxis\"},{\"attributes\":{},\"id\":\"7a9f5b95-2231-493c-b8d4-0e414739c3ad\",\"type\":\"BasicTicker\"},{\"attributes\":{\"axis_label\":\"cooling rate [K/day]\",\"formatter\":{\"id\":\"22750495-f47b-436b-8bd3-d1807c3e0bff\",\"type\":\"BasicTickFormatter\"},\"plot\":{\"id\":\"3ea75ea0-90d8-4777-9e76-c59aac86da06\",\"subtype\":\"Figure\",\"type\":\"Plot\"},\"ticker\":{\"id\":\"7a9f5b95-2231-493c-b8d4-0e414739c3ad\",\"type\":\"BasicTicker\"}},\"id\":\"b1b3bd3c-5b78-4342-9b4a-049f56fe816b\",\"type\":\"LinearAxis\"},{\"attributes\":{\"callback\":null,\"data\":{\"x\":{\"__ndarray__\":\"W2LS03H8CEAkcDN2aZ0HQOlaoL0cBAdAZR3GEYcWBkB2nSJW+MIEQOYsPqMZ/QJA3Om/KgbIAECea8RWIXv8P0OO86pMLPc/ozy3+lRI8j8FXGdJS8HsP6L+8WD5Iec/COwUHvbT4j+IkrTWNwfdP1mQXFp3aNg/Ol2qo6iF2T+NlE++yfLbP1V7CbR4E98/jT0AkZQG4j96SgszpHHlP5Uwrcx28+k/qe7Nubaj7z8Yzvds3DTwP+Evd4TIBO0/hJfrol8p6j8HsgwHoJjmP3rybxhz3eM/hOKLCFNw4T9cDl4iv7nePyPwinNvLdw/qVn6J/Rn2j/FvofQBAXYPxpmRktnGdY/lt2c3KdF1D/7H94udCDQPweAsVY7x8M/H1Ao2IoPsz+HYK9z2Ji1PwLViggr9cM/NO5nQ5CmzT9va0SQWarZPyBrtjHJJOw/jEdHojgC9j/pwr8Uw8n8P6jf6SWDRwBAYMR5fF/QAEA71X+oxI0BQFRpMyF5ngFAAVhBMYZzAED/SXB07uX/P5QZazh8vv8/flyi/fPE/z+Yr18wd/L/Py4qGIyH//8/ntC7Fsw0AEBtMc90tWwAQJSZg0bG0gBAD/XAae9DAUAwDX2XXagBQK2oEnwL+wFAZGATVZw/AkDCUl3Ay2wCQKedJb6WRAJA07aedxy0AkC6a17UNCgCQB/m7z/pVgFApFMO1tWYAEAgT1wp4yL/PzHLBcOFqP0/YSJtwRzW/D8+Owy/kMz8PxrTQHk6Hf0/SfBMiaD1/T+mHaHgDur/P6klwivuiAVA\",\"dtype\":\"float64\",\"shape\":[75]},\"y\":{\"__ndarray__\":\"GhExyth1ND/Sv8nbtpRIP2vylNV0PVE/aTum7souWD/At0SJ8fVgPw3Iuahxymc/MSNhhJWvcD/bTfBN02d3P2zb5nxnaoA/CD5h5MAGhz8NmeH1TyaQP+zrCsc9p5Y/LbKd76fGnz/bLW5ISEmmPww9YvTcQq8/JV2OstnstT8Er5Y7M8G+P0c+r3jqkcU/5h99k6ZBzj88bCIzFzjVP4enV8oyxN0//yH99nXg5D8qOpLLf0jtP5kqGJXUifQ/c9cS8kHP/D+/DpwzojQEQIEmwoanVwxA4lgXt9HgE0BSSZ2AJuIbQAMJih9jjiNA5q4l5INuK0AwTKYKRj0zQNv5fmq8/DpAaCJseHrtQkB/+zpwzoxKQM3MzMzMeFJAZmZmZmZqWEAAAAAAAFxeQM3MzMzMJmJAmpmZmZkfZUBmZmZmZhhoQDMzMzMzEWtAAAAAAAAKbkBmZmZmZoFwQM3MzMzM/XFAMzMzMzN6c0CamZmZmfZ0QAAAAAAAc3ZAZmZmZmbvd0DNzMzMzGt5QDMzMzMz6HpAmpmZmZlkfEAAAAAAAOF9QGZmZmZmXX9AZmZmZuZsgECamZmZGSuBQM3MzMxM6YFAAAAAAICngkAzMzMzs2WDQGZmZmbmI4RAmpmZmRnihEDNzMzMTKCFQAAAAACAXoZAMzMzM7Mch0BmZmZm5tqHQJqZmZkZmYhAzczMzExXiUAAAAAAgBWKQDMzMzOz04pAZmZmZuaRi0CamZmZGVCMQM3MzMxMDo1AAAAAAIDMjUAzMzMzs4qOQGZmZmbmSI9A\",\"dtype\":\"float64\",\"shape\":[75]}},\"selected\":{\"id\":\"e92293dd-a83a-4e52-a4f4-591539b65a10\",\"type\":\"Selection\"},\"selection_policy\":{\"id\":\"48a263cb-d43e-4d61-b739-8ed6e567fa5d\",\"type\":\"UnionRenderers\"}},\"id\":\"2ce018e1-3bbf-4b1a-81c9-c99f3f65bead\",\"type\":\"ColumnDataSource\"},{\"attributes\":{},\"id\":\"86465669-1370-4398-9b61-f2bb19af23ae\",\"type\":\"LinearScale\"},{\"attributes\":{},\"id\":\"dc6db62b-2cec-4acc-aa21-68d80ee9ec34\",\"type\":\"ResetTool\"},{\"attributes\":{\"dimension\":1,\"plot\":{\"id\":\"3ea75ea0-90d8-4777-9e76-c59aac86da06\",\"subtype\":\"Figure\",\"type\":\"Plot\"},\"ticker\":{\"id\":\"b2f3472a-50db-47d3-9ad6-e10f92b6785e\",\"type\":\"BasicTicker\"}},\"id\":\"e050cf58-a4de-4fc8-92eb-ce515a53bdfb\",\"type\":\"Grid\"},{\"attributes\":{\"overlay\":{\"id\":\"0a4055f7-9f54-424b-b1c3-ba8fe9766f8a\",\"type\":\"BoxAnnotation\"}},\"id\":\"65cb9055-335d-4d72-be93-edd50ac77c0a\",\"type\":\"BoxZoomTool\"},{\"attributes\":{},\"id\":\"b2f3472a-50db-47d3-9ad6-e10f92b6785e\",\"type\":\"BasicTicker\"},{\"attributes\":{\"items\":[{\"id\":\"1285ef9f-fe69-45f0-a372-074d0861eca9\",\"type\":\"LegendItem\"},{\"id\":\"9c3ec2c6-9b59-424a-a30a-2153eb0ac1bd\",\"type\":\"LegendItem\"}],\"label_text_font_size\":{\"value\":\"8pt\"},\"location\":\"top_center\",\"orientation\":\"horizontal\",\"plot\":{\"id\":\"3ea75ea0-90d8-4777-9e76-c59aac86da06\",\"subtype\":\"Figure\",\"type\":\"Plot\"}},\"id\":\"4749a54d-0f5d-4d41-a774-8b6b309c7190\",\"type\":\"Legend\"},{\"attributes\":{\"plot\":{\"id\":\"3ea75ea0-90d8-4777-9e76-c59aac86da06\",\"subtype\":\"Figure\",\"type\":\"Plot\"},\"ticker\":{\"id\":\"7a9f5b95-2231-493c-b8d4-0e414739c3ad\",\"type\":\"BasicTicker\"}},\"id\":\"f2a25eb5-aefa-47ce-80f4-75d3fb14b6d8\",\"type\":\"Grid\"},{\"attributes\":{\"active_drag\":\"auto\",\"active_inspect\":\"auto\",\"active_scroll\":\"auto\",\"active_tap\":\"auto\",\"tools\":[{\"id\":\"6c89ccc1-ea52-49d2-9c39-77cdafbaa9e0\",\"type\":\"PanTool\"},{\"id\":\"b52de327-0b7e-4de0-9b2b-4cec8232fcab\",\"type\":\"WheelZoomTool\"},{\"id\":\"dcadcf68-d29c-4e0d-8dcf-a78138710b25\",\"type\":\"BoxZoomTool\"},{\"id\":\"fcfd7086-b9bd-453a-8e26-acc8fea4f792\",\"type\":\"SaveTool\"},{\"id\":\"077347e9-0e70-4cd6-bb74-3efbbf59854a\",\"type\":\"ResetTool\"},{\"id\":\"92070f40-9938-4448-bcf8-3865296a63fd\",\"type\":\"HelpTool\"}]},\"id\":\"847e43c3-b8a5-4ffb-85e7-fa484c0a9de0\",\"type\":\"Toolbar\"},{\"attributes\":{},\"id\":\"9e1d3f0d-f544-472b-a37f-ba942845f910\",\"type\":\"SaveTool\"},{\"attributes\":{\"axis_label\":\"pressure [mb]\",\"formatter\":{\"id\":\"5081b99c-75aa-44dd-9d70-fe303fc24dcb\",\"type\":\"LogTickFormatter\"},\"plot\":{\"id\":\"3bb8ec21-b241-4716-89bb-1c2dae403714\",\"subtype\":\"Figure\",\"type\":\"Plot\"},\"ticker\":{\"id\":\"2a056104-b9e9-454f-880e-be59821f9fef\",\"type\":\"LogTicker\"}},\"id\":\"fceb8cab-8137-46ab-92c1-0c8f79ddcf11\",\"type\":\"LogAxis\"},{\"attributes\":{\"data_source\":{\"id\":\"2ce018e1-3bbf-4b1a-81c9-c99f3f65bead\",\"type\":\"ColumnDataSource\"},\"glyph\":{\"id\":\"584b987a-e233-46f8-9f55-b8894588c3df\",\"type\":\"Line\"},\"hover_glyph\":null,\"muted_glyph\":null,\"nonselection_glyph\":{\"id\":\"26bc8d00-5eba-4813-8e6b-6e291735a6b1\",\"type\":\"Line\"},\"selection_glyph\":null,\"view\":{\"id\":\"1eb398e5-23d2-46ad-b399-015deb087965\",\"type\":\"CDSView\"}},\"id\":\"b90f758d-fb83-4ac1-9eac-24d12c35b47f\",\"type\":\"GlyphRenderer\"},{\"attributes\":{\"callback\":null,\"end\":2.7180345711739498,\"start\":0.04828186143104997},\"id\":\"145adb21-150e-462a-81bf-cb8d9dd63206\",\"type\":\"Range1d\"},{\"attributes\":{},\"id\":\"6c89ccc1-ea52-49d2-9c39-77cdafbaa9e0\",\"type\":\"PanTool\"},{\"attributes\":{\"line_alpha\":0.1,\"line_color\":\"#1f77b4\",\"line_dash\":[6],\"line_width\":5,\"x\":{\"field\":\"x\"},\"y\":{\"field\":\"y\"}},\"id\":\"26bc8d00-5eba-4813-8e6b-6e291735a6b1\",\"type\":\"Line\"},{\"attributes\":{\"source\":{\"id\":\"2ce018e1-3bbf-4b1a-81c9-c99f3f65bead\",\"type\":\"ColumnDataSource\"}},\"id\":\"1eb398e5-23d2-46ad-b399-015deb087965\",\"type\":\"CDSView\"},{\"attributes\":{\"data_source\":{\"id\":\"d40c4da0-3548-4bed-b167-63bba5434217\",\"type\":\"ColumnDataSource\"},\"glyph\":{\"id\":\"c373eb3f-d53b-4893-82e8-18375601c492\",\"type\":\"Circle\"},\"hover_glyph\":null,\"muted_glyph\":null,\"nonselection_glyph\":{\"id\":\"e9011aee-7273-456a-a69d-d9528da6e925\",\"type\":\"Circle\"},\"selection_glyph\":null,\"view\":{\"id\":\"b1387020-5854-434a-a70f-15af239136c7\",\"type\":\"CDSView\"}},\"id\":\"5809ef2f-4d1c-4db3-813f-3de6c89f1b6a\",\"type\":\"GlyphRenderer\"},{\"attributes\":{},\"id\":\"fcfd7086-b9bd-453a-8e26-acc8fea4f792\",\"type\":\"SaveTool\"},{\"attributes\":{\"source\":{\"id\":\"b06c10e7-377f-4b21-a70e-13efc645f6ad\",\"type\":\"ColumnDataSource\"}},\"id\":\"3de8e9de-2137-46e0-bc9b-d8ca1a008250\",\"type\":\"CDSView\"},{\"attributes\":{\"active_drag\":\"auto\",\"active_inspect\":\"auto\",\"active_scroll\":\"auto\",\"active_tap\":\"auto\",\"tools\":[{\"id\":\"95355b6e-0e2c-43c1-af5b-8b38082e6a05\",\"type\":\"PanTool\"},{\"id\":\"8f6c180b-8263-4e07-8522-06af9ebdadba\",\"type\":\"WheelZoomTool\"},{\"id\":\"65cb9055-335d-4d72-be93-edd50ac77c0a\",\"type\":\"BoxZoomTool\"},{\"id\":\"9e1d3f0d-f544-472b-a37f-ba942845f910\",\"type\":\"SaveTool\"},{\"id\":\"dc6db62b-2cec-4acc-aa21-68d80ee9ec34\",\"type\":\"ResetTool\"},{\"id\":\"fc5dc714-b0a5-406b-922d-fe63d0e33f53\",\"type\":\"HelpTool\"}]},\"id\":\"a2d76d6a-0978-4a3c-aed8-9bc9c0a52eca\",\"type\":\"Toolbar\"},{\"attributes\":{\"line_alpha\":0.6,\"line_color\":\"#e41a1c\",\"line_dash\":[6],\"line_width\":5,\"x\":{\"field\":\"x\"},\"y\":{\"field\":\"y\"}},\"id\":\"1d53c502-b12b-4d82-9b38-03fa936583f8\",\"type\":\"Line\"},{\"attributes\":{\"line_color\":\"#4daf4a\",\"line_width\":1.5,\"x\":{\"field\":\"x\"},\"y\":{\"field\":\"y\"}},\"id\":\"27e9cf68-28de-46ee-8fc0-6a1aef6e1e5b\",\"type\":\"Line\"},{\"attributes\":{\"callback\":null,\"data\":{\"x\":{\"__ndarray__\":\"W2LS03H8CEAkcDN2aZ0HQOlaoL0cBAdAZR3GEYcWBkB2nSJW+MIEQOYsPqMZ/QJA3Om/KgbIAECea8RWIXv8P0OO86pMLPc/ozy3+lRI8j8FXGdJS8HsP6L+8WD5Iec/COwUHvbT4j+IkrTWNwfdP1mQXFp3aNg/Ol2qo6iF2T+NlE++yfLbP1V7CbR4E98/jT0AkZQG4j96SgszpHHlP5Uwrcx28+k/qe7Nubaj7z8Yzvds3DTwP+Evd4TIBO0/hJfrol8p6j8HsgwHoJjmP3rybxhz3eM/hOKLCFNw4T9cDl4iv7nePyPwinNvLdw/qVn6J/Rn2j/FvofQBAXYPxpmRktnGdY/lt2c3KdF1D/7H94udCDQPweAsVY7x8M/H1Ao2IoPsz+HYK9z2Ji1PwLViggr9cM/NO5nQ5CmzT9va0SQWarZPyBrtjHJJOw/jEdHojgC9j/pwr8Uw8n8P6jf6SWDRwBAYMR5fF/QAEA71X+oxI0BQFRpMyF5ngFAAVhBMYZzAED/SXB07uX/P5QZazh8vv8/flyi/fPE/z+Yr18wd/L/Py4qGIyH//8/ntC7Fsw0AEBtMc90tWwAQJSZg0bG0gBAD/XAae9DAUAwDX2XXagBQK2oEnwL+wFAZGATVZw/AkDCUl3Ay2wCQKedJb6WRAJA07aedxy0AkC6a17UNCgCQB/m7z/pVgFApFMO1tWYAEAgT1wp4yL/PzHLBcOFqP0/YSJtwRzW/D8+Owy/kMz8PxrTQHk6Hf0/SfBMiaD1/T+mHaHgDur/P6klwivuiAVA\",\"dtype\":\"float64\",\"shape\":[75]},\"y\":{\"__ndarray__\":\"GhExyth1ND/Sv8nbtpRIP2vylNV0PVE/aTum7souWD/At0SJ8fVgPw3Iuahxymc/MSNhhJWvcD/bTfBN02d3P2zb5nxnaoA/CD5h5MAGhz8NmeH1TyaQP+zrCsc9p5Y/LbKd76fGnz/bLW5ISEmmPww9YvTcQq8/JV2OstnstT8Er5Y7M8G+P0c+r3jqkcU/5h99k6ZBzj88bCIzFzjVP4enV8oyxN0//yH99nXg5D8qOpLLf0jtP5kqGJXUifQ/c9cS8kHP/D+/DpwzojQEQIEmwoanVwxA4lgXt9HgE0BSSZ2AJuIbQAMJih9jjiNA5q4l5INuK0AwTKYKRj0zQNv5fmq8/DpAaCJseHrtQkB/+zpwzoxKQM3MzMzMeFJAZmZmZmZqWEAAAAAAAFxeQM3MzMzMJmJAmpmZmZkfZUBmZmZmZhhoQDMzMzMzEWtAAAAAAAAKbkBmZmZmZoFwQM3MzMzM/XFAMzMzMzN6c0CamZmZmfZ0QAAAAAAAc3ZAZmZmZmbvd0DNzMzMzGt5QDMzMzMz6HpAmpmZmZlkfEAAAAAAAOF9QGZmZmZmXX9AZmZmZuZsgECamZmZGSuBQM3MzMxM6YFAAAAAAICngkAzMzMzs2WDQGZmZmbmI4RAmpmZmRnihEDNzMzMTKCFQAAAAACAXoZAMzMzM7Mch0BmZmZm5tqHQJqZmZkZmYhAzczMzExXiUAAAAAAgBWKQDMzMzOz04pAZmZmZuaRi0CamZmZGVCMQM3MzMxMDo1AAAAAAIDMjUAzMzMzs4qOQGZmZmbmSI9A\",\"dtype\":\"float64\",\"shape\":[75]}},\"selected\":{\"id\":\"a1bc2abf-7ace-4fc2-add1-c0cfae67a2c7\",\"type\":\"Selection\"},\"selection_policy\":{\"id\":\"d7da6e0b-f6b5-462e-9dbb-7ffc54beb1ed\",\"type\":\"UnionRenderers\"}},\"id\":\"3febeb0c-c4bf-4a52-aa93-eb11068c92ad\",\"type\":\"ColumnDataSource\"},{\"attributes\":{\"data_source\":{\"id\":\"b06c10e7-377f-4b21-a70e-13efc645f6ad\",\"type\":\"ColumnDataSource\"},\"glyph\":{\"id\":\"27e9cf68-28de-46ee-8fc0-6a1aef6e1e5b\",\"type\":\"Line\"},\"hover_glyph\":null,\"muted_glyph\":null,\"nonselection_glyph\":{\"id\":\"463a417b-ca78-4f52-8c22-8608a8993aaa\",\"type\":\"Line\"},\"selection_glyph\":null,\"view\":{\"id\":\"3de8e9de-2137-46e0-bc9b-d8ca1a008250\",\"type\":\"CDSView\"}},\"id\":\"de0a6362-b0a7-4d7a-911f-7d61fd34e555\",\"type\":\"GlyphRenderer\"},{\"attributes\":{\"label\":{\"value\":\"CRD\"},\"renderers\":[{\"id\":\"5809ef2f-4d1c-4db3-813f-3de6c89f1b6a\",\"type\":\"GlyphRenderer\"},{\"id\":\"de0a6362-b0a7-4d7a-911f-7d61fd34e555\",\"type\":\"GlyphRenderer\"}]},\"id\":\"9c3ec2c6-9b59-424a-a30a-2153eb0ac1bd\",\"type\":\"LegendItem\"},{\"attributes\":{\"line_alpha\":0.1,\"line_color\":\"#1f77b4\",\"line_width\":1.5,\"x\":{\"field\":\"x\"},\"y\":{\"field\":\"y\"}},\"id\":\"463a417b-ca78-4f52-8c22-8608a8993aaa\",\"type\":\"Line\"},{\"attributes\":{\"fill_alpha\":{\"value\":0.1},\"fill_color\":{\"value\":\"#1f77b4\"},\"line_alpha\":{\"value\":0.1},\"line_color\":{\"value\":\"#1f77b4\"},\"x\":{\"field\":\"x\"},\"y\":{\"field\":\"y\"}},\"id\":\"e9011aee-7273-456a-a69d-d9528da6e925\",\"type\":\"Circle\"},{\"attributes\":{\"above\":[{\"id\":\"dbdd6f93-741d-4532-9677-64c07112d543\",\"type\":\"Legend\"}],\"below\":[{\"id\":\"7c1b8aa1-9586-4fac-80d7-8ac9b733c640\",\"type\":\"LinearAxis\"}],\"left\":[{\"id\":\"fceb8cab-8137-46ab-92c1-0c8f79ddcf11\",\"type\":\"LogAxis\"}],\"plot_width\":300,\"renderers\":[{\"id\":\"7c1b8aa1-9586-4fac-80d7-8ac9b733c640\",\"type\":\"LinearAxis\"},{\"id\":\"267cd262-37a2-4992-a47c-10f057974f69\",\"type\":\"Grid\"},{\"id\":\"fceb8cab-8137-46ab-92c1-0c8f79ddcf11\",\"type\":\"LogAxis\"},{\"id\":\"f70f44e1-152d-4f00-91f0-aa08c4f99e44\",\"type\":\"Grid\"},{\"id\":\"0a4055f7-9f54-424b-b1c3-ba8fe9766f8a\",\"type\":\"BoxAnnotation\"},{\"id\":\"c5e74a09-0fe5-414b-a3fc-9d1d09a62f9e\",\"type\":\"GlyphRenderer\"},{\"id\":\"34c85fc9-7c8e-4055-aa03-359ac63c4ee6\",\"type\":\"GlyphRenderer\"},{\"id\":\"0bd55dfd-83cc-4441-8a9f-2ab211d2b817\",\"type\":\"GlyphRenderer\"},{\"id\":\"dbdd6f93-741d-4532-9677-64c07112d543\",\"type\":\"Legend\"}],\"title\":{\"id\":\"4a67d30b-e344-4cbf-b96f-c054069d1943\",\"type\":\"Title\"},\"toolbar\":{\"id\":\"a2d76d6a-0978-4a3c-aed8-9bc9c0a52eca\",\"type\":\"Toolbar\"},\"toolbar_location\":null,\"x_range\":{\"id\":\"1d777dff-97c9-417d-9876-4464f774147b\",\"type\":\"Range1d\"},\"x_scale\":{\"id\":\"c1aa5571-c3d8-44bf-aba3-733c68d3dd23\",\"type\":\"LinearScale\"},\"y_range\":{\"id\":\"d58b6bf3-f5c7-4dcd-b99e-b6dd9c10f3ee\",\"type\":\"Range1d\"},\"y_scale\":{\"id\":\"4d89c9c4-2653-4b9d-8977-c535901e661f\",\"type\":\"LogScale\"}},\"id\":\"3bb8ec21-b241-4716-89bb-1c2dae403714\",\"subtype\":\"Figure\",\"type\":\"Plot\"},{\"attributes\":{\"callback\":null,\"data\":{\"x\":{\"__ndarray__\":\"ko1oKQnuFUBFW7cawXwRQP29T1U4xA9AXxx2f/hdDEB2M4Bnq+oIQM7EdNFZkgVAbsIjJpVwAkAHTkBdfSj/P52Mltho/vk/CdkNP3Jd9T+FJwMzEz/xP/QSn/yHL+s/Z2K/A0qX5D+qmPJX8rfcPwxz8GnNAtc/P+1a2aWL2T+K/HUHYL7dP4HThzhZ1+A/XDY71Qsp4z+Al4CX7DHmP0y5WBNnpuo/v5Op0WRe8D+83vwrS4XwPzCHP+6nfOw/OEitOzWp6D+1ckF0wRblP76W1X4TrOI/3jQxUysJ4T9kjUzMH3HfPzlWhsZ+FN0/7fJ+yajT2j/FHTbaTZnYP0DCPPgbY9Y/qWGpzj9W1D9MsaqAVJzQP4ckjegum8U/zayBcYxYuD+8X4f9Y6W7P4rppdVS6MY/2nObdikz0D8QtHwiPhXbP2CoTBldtuw/Cy7BROld9j+pLQ1IFND8P+hR1b9jdABA5GJm1lx+AUC2jin5IO8BQFb9+Fxe3wFAC5h0ZSDrAEBpHsZ3c3IAQCcC0aF8MQBAwqwNvfgRAECCKyPtow8AQECuLTZiJQBALWJN4OBYAEBB/dOurZkAQBvjjL2v3QBAw7zr9uEeAUCgbAkOClkBQDWXDA07nQFA1cX0pxf1AUDLtw9JBUUCQA6cHoZsQAJAgQXppEyiAkDRWdR+3fIBQB9M4bA87ABAYS8Ep/wHAEBPgycSxM39P9C6xOCYZfw/RoFwmRWu+z9hk9+kaGX7P9r2uB/afvs/mq4NmAcL/D9rCbRKol79PydIR355HgRA\",\"dtype\":\"float64\",\"shape\":[75]},\"y\":{\"__ndarray__\":\"GhExyth1ND/Sv8nbtpRIP2vylNV0PVE/aTum7souWD/At0SJ8fVgPw3Iuahxymc/MSNhhJWvcD/bTfBN02d3P2zb5nxnaoA/CD5h5MAGhz8NmeH1TyaQP+zrCsc9p5Y/LbKd76fGnz/bLW5ISEmmPww9YvTcQq8/JV2OstnstT8Er5Y7M8G+P0c+r3jqkcU/5h99k6ZBzj88bCIzFzjVP4enV8oyxN0//yH99nXg5D8qOpLLf0jtP5kqGJXUifQ/c9cS8kHP/D+/DpwzojQEQIEmwoanVwxA4lgXt9HgE0BSSZ2AJuIbQAMJih9jjiNA5q4l5INuK0AwTKYKRj0zQNv5fmq8/DpAaCJseHrtQkB/+zpwzoxKQM3MzMzMeFJAZmZmZmZqWEAAAAAAAFxeQM3MzMzMJmJAmpmZmZkfZUBmZmZmZhhoQDMzMzMzEWtAAAAAAAAKbkBmZmZmZoFwQM3MzMzM/XFAMzMzMzN6c0CamZmZmfZ0QAAAAAAAc3ZAZmZmZmbvd0DNzMzMzGt5QDMzMzMz6HpAmpmZmZlkfEAAAAAAAOF9QGZmZmZmXX9AZmZmZuZsgECamZmZGSuBQM3MzMxM6YFAAAAAAICngkAzMzMzs2WDQGZmZmbmI4RAmpmZmRnihEDNzMzMTKCFQAAAAACAXoZAMzMzM7Mch0BmZmZm5tqHQJqZmZkZmYhAzczMzExXiUAAAAAAgBWKQDMzMzOz04pAZmZmZuaRi0CamZmZGVCMQM3MzMxMDo1AAAAAAIDMjUAzMzMzs4qOQGZmZmbmSI9A\",\"dtype\":\"float64\",\"shape\":[75]}},\"selected\":{\"id\":\"ca14eefd-9dd4-470e-bd6e-f427e17da00c\",\"type\":\"Selection\"},\"selection_policy\":{\"id\":\"5679c6e4-d6e1-4920-b018-4fb8a37e3f77\",\"type\":\"UnionRenderers\"}},\"id\":\"d40c4da0-3548-4bed-b167-63bba5434217\",\"type\":\"ColumnDataSource\"},{\"attributes\":{\"source\":{\"id\":\"d40c4da0-3548-4bed-b167-63bba5434217\",\"type\":\"ColumnDataSource\"}},\"id\":\"b1387020-5854-434a-a70f-15af239136c7\",\"type\":\"CDSView\"},{\"attributes\":{\"label\":{\"value\":\"CLIRAD\"},\"renderers\":[{\"id\":\"b90f758d-fb83-4ac1-9eac-24d12c35b47f\",\"type\":\"GlyphRenderer\"}]},\"id\":\"1285ef9f-fe69-45f0-a372-074d0861eca9\",\"type\":\"LegendItem\"},{\"attributes\":{\"callback\":null,\"end\":1.3479226131347397,\"start\":0.06184732636213126},\"id\":\"1d777dff-97c9-417d-9876-4464f774147b\",\"type\":\"Range1d\"},{\"attributes\":{},\"id\":\"077347e9-0e70-4cd6-bb74-3efbbf59854a\",\"type\":\"ResetTool\"},{\"attributes\":{},\"id\":\"c1aa5571-c3d8-44bf-aba3-733c68d3dd23\",\"type\":\"LinearScale\"},{\"attributes\":{\"items\":[{\"id\":\"7e5bd04f-5a10-4575-81c4-c450c767f822\",\"type\":\"LegendItem\"},{\"id\":\"973fdeef-ce4f-4bc7-b821-be710eb33a77\",\"type\":\"LegendItem\"}],\"label_text_font_size\":{\"value\":\"8pt\"},\"location\":\"top_center\",\"orientation\":\"horizontal\",\"plot\":{\"id\":\"3bb8ec21-b241-4716-89bb-1c2dae403714\",\"subtype\":\"Figure\",\"type\":\"Plot\"}},\"id\":\"dbdd6f93-741d-4532-9677-64c07112d543\",\"type\":\"Legend\"},{\"attributes\":{\"bottom_units\":\"screen\",\"fill_alpha\":{\"value\":0.5},\"fill_color\":{\"value\":\"lightgrey\"},\"left_units\":\"screen\",\"level\":\"overlay\",\"line_alpha\":{\"value\":1.0},\"line_color\":{\"value\":\"black\"},\"line_dash\":[4,4],\"line_width\":{\"value\":2},\"plot\":null,\"render_mode\":\"css\",\"right_units\":\"screen\",\"top_units\":\"screen\"},\"id\":\"0a4055f7-9f54-424b-b1c3-ba8fe9766f8a\",\"type\":\"BoxAnnotation\"},{\"attributes\":{\"num_minor_ticks\":10},\"id\":\"2a056104-b9e9-454f-880e-be59821f9fef\",\"type\":\"LogTicker\"},{\"attributes\":{},\"id\":\"fc5dc714-b0a5-406b-922d-fe63d0e33f53\",\"type\":\"HelpTool\"},{\"attributes\":{},\"id\":\"4d89c9c4-2653-4b9d-8977-c535901e661f\",\"type\":\"LogScale\"},{\"attributes\":{},\"id\":\"92070f40-9938-4448-bcf8-3865296a63fd\",\"type\":\"HelpTool\"},{\"attributes\":{\"axis_label\":\"cooling rate [K/day]\",\"formatter\":{\"id\":\"6227cc4f-78b2-4624-820e-574d6c636624\",\"type\":\"BasicTickFormatter\"},\"plot\":{\"id\":\"3bb8ec21-b241-4716-89bb-1c2dae403714\",\"subtype\":\"Figure\",\"type\":\"Plot\"},\"ticker\":{\"id\":\"922792db-3a5d-437a-aa57-fd6ed1324237\",\"type\":\"BasicTicker\"}},\"id\":\"7c1b8aa1-9586-4fac-80d7-8ac9b733c640\",\"type\":\"LinearAxis\"},{\"attributes\":{},\"id\":\"95355b6e-0e2c-43c1-af5b-8b38082e6a05\",\"type\":\"PanTool\"},{\"attributes\":{},\"id\":\"922792db-3a5d-437a-aa57-fd6ed1324237\",\"type\":\"BasicTicker\"},{\"attributes\":{},\"id\":\"8f6c180b-8263-4e07-8522-06af9ebdadba\",\"type\":\"WheelZoomTool\"},{\"attributes\":{\"line_alpha\":0.6,\"line_color\":\"#e41a1c\",\"line_dash\":[6],\"line_width\":5,\"x\":{\"field\":\"x\"},\"y\":{\"field\":\"y\"}},\"id\":\"584b987a-e233-46f8-9f55-b8894588c3df\",\"type\":\"Line\"},{\"attributes\":{},\"id\":\"ca14eefd-9dd4-470e-bd6e-f427e17da00c\",\"type\":\"Selection\"},{\"attributes\":{\"above\":[{\"id\":\"10626b74-afaa-45a8-be49-5260d6c61312\",\"type\":\"Legend\"}],\"below\":[{\"id\":\"8d2becdb-130a-4774-8a5e-b0150115ef01\",\"type\":\"LinearAxis\"}],\"left\":[{\"id\":\"9e963fb5-2e72-4211-bc66-8d9ba6fe521b\",\"type\":\"LogAxis\"}],\"plot_width\":300,\"renderers\":[{\"id\":\"8d2becdb-130a-4774-8a5e-b0150115ef01\",\"type\":\"LinearAxis\"},{\"id\":\"b100228b-5d72-4e42-92e8-3fca6464873c\",\"type\":\"Grid\"},{\"id\":\"9e963fb5-2e72-4211-bc66-8d9ba6fe521b\",\"type\":\"LogAxis\"},{\"id\":\"0a0392f3-5680-41da-9537-df7c4df977ee\",\"type\":\"Grid\"},{\"id\":\"33bb493a-bdf5-4778-bc37-9ac4aed469bd\",\"type\":\"BoxAnnotation\"},{\"id\":\"b3cf79fe-e092-4e7a-a853-a8ce01c8c17a\",\"type\":\"GlyphRenderer\"},{\"id\":\"c7f3da5e-689b-41b5-9a2d-700446e67378\",\"type\":\"GlyphRenderer\"},{\"id\":\"10626b74-afaa-45a8-be49-5260d6c61312\",\"type\":\"Legend\"}],\"title\":{\"id\":\"3f430c11-3f24-4a44-b35c-b88b1b36442a\",\"type\":\"Title\"},\"toolbar\":{\"id\":\"12497222-b3ca-4593-90f0-b387933b3eec\",\"type\":\"Toolbar\"},\"toolbar_location\":null,\"x_range\":{\"id\":\"d9b40b5d-4b18-4308-885d-4a80aab5e648\",\"type\":\"Range1d\"},\"x_scale\":{\"id\":\"7bd1684a-8080-4b34-b5f8-39a11a252e84\",\"type\":\"LinearScale\"},\"y_range\":{\"id\":\"e0f4f135-1679-4ae5-a27d-05cd32948a6f\",\"type\":\"Range1d\"},\"y_scale\":{\"id\":\"0c3724f8-9be0-495e-8825-03947dbba369\",\"type\":\"LogScale\"}},\"id\":\"0a810b79-5eda-4e2d-8426-5ee976ec56fe\",\"subtype\":\"Figure\",\"type\":\"Plot\"},{\"attributes\":{},\"id\":\"b52de327-0b7e-4de0-9b2b-4cec8232fcab\",\"type\":\"WheelZoomTool\"},{\"attributes\":{\"callback\":null,\"end\":0.01,\"start\":1020},\"id\":\"d58b6bf3-f5c7-4dcd-b99e-b6dd9c10f3ee\",\"type\":\"Range1d\"},{\"attributes\":{\"bottom_units\":\"screen\",\"fill_alpha\":{\"value\":0.5},\"fill_color\":{\"value\":\"lightgrey\"},\"left_units\":\"screen\",\"level\":\"overlay\",\"line_alpha\":{\"value\":1.0},\"line_color\":{\"value\":\"black\"},\"line_dash\":[4,4],\"line_width\":{\"value\":2},\"plot\":null,\"render_mode\":\"css\",\"right_units\":\"screen\",\"top_units\":\"screen\"},\"id\":\"864b195b-44e4-403f-919a-231aa435675c\",\"type\":\"BoxAnnotation\"},{\"attributes\":{\"dimension\":1,\"plot\":{\"id\":\"3bb8ec21-b241-4716-89bb-1c2dae403714\",\"subtype\":\"Figure\",\"type\":\"Plot\"},\"ticker\":{\"id\":\"2a056104-b9e9-454f-880e-be59821f9fef\",\"type\":\"LogTicker\"}},\"id\":\"f70f44e1-152d-4f00-91f0-aa08c4f99e44\",\"type\":\"Grid\"},{\"attributes\":{},\"id\":\"5679c6e4-d6e1-4920-b018-4fb8a37e3f77\",\"type\":\"UnionRenderers\"},{\"attributes\":{},\"id\":\"a1bc2abf-7ace-4fc2-add1-c0cfae67a2c7\",\"type\":\"Selection\"},{\"attributes\":{\"line_alpha\":0.8,\"line_color\":\"#984ea3\",\"line_width\":1.5,\"x\":{\"field\":\"x\"},\"y\":{\"field\":\"y\"}},\"id\":\"c0feae13-41e9-4abd-b26d-52bff6248310\",\"type\":\"Line\"},{\"attributes\":{\"dimension\":1,\"plot\":{\"id\":\"0a810b79-5eda-4e2d-8426-5ee976ec56fe\",\"subtype\":\"Figure\",\"type\":\"Plot\"},\"ticker\":{\"id\":\"685cb0e5-6122-4807-85da-60c0a116017c\",\"type\":\"LogTicker\"}},\"id\":\"0a0392f3-5680-41da-9537-df7c4df977ee\",\"type\":\"Grid\"},{\"attributes\":{\"source\":{\"id\":\"3febeb0c-c4bf-4a52-aa93-eb11068c92ad\",\"type\":\"ColumnDataSource\"}},\"id\":\"630bef59-577e-4f17-a44c-80c683bb506e\",\"type\":\"CDSView\"},{\"attributes\":{\"plot\":null,\"text\":\"\"},\"id\":\"4a67d30b-e344-4cbf-b96f-c054069d1943\",\"type\":\"Title\"},{\"attributes\":{},\"id\":\"d6cd405d-c9e1-4aea-a88d-0fc98c1b1fbb\",\"type\":\"WheelZoomTool\"},{\"attributes\":{\"fill_alpha\":{\"value\":0.7},\"fill_color\":{\"value\":\"#4daf4a\"},\"line_alpha\":{\"value\":0.7},\"line_color\":{\"value\":\"#4daf4a\"},\"x\":{\"field\":\"x\"},\"y\":{\"field\":\"y\"}},\"id\":\"c1660563-c819-4298-a49e-6c1b40d49d2a\",\"type\":\"Circle\"},{\"attributes\":{\"bottom_units\":\"screen\",\"fill_alpha\":{\"value\":0.5},\"fill_color\":{\"value\":\"lightgrey\"},\"left_units\":\"screen\",\"level\":\"overlay\",\"line_alpha\":{\"value\":1.0},\"line_color\":{\"value\":\"black\"},\"line_dash\":[4,4],\"line_width\":{\"value\":2},\"plot\":null,\"render_mode\":\"css\",\"right_units\":\"screen\",\"top_units\":\"screen\"},\"id\":\"33bb493a-bdf5-4778-bc37-9ac4aed469bd\",\"type\":\"BoxAnnotation\"},{\"attributes\":{},\"id\":\"033064a4-e847-4c13-8d89-b687f7466ae6\",\"type\":\"UnionRenderers\"},{\"attributes\":{},\"id\":\"81d0be3f-41a8-4457-94e5-57bd00fbfcce\",\"type\":\"PanTool\"},{\"attributes\":{\"overlay\":{\"id\":\"33bb493a-bdf5-4778-bc37-9ac4aed469bd\",\"type\":\"BoxAnnotation\"}},\"id\":\"f389c411-2466-4fc0-b483-9b2a66584684\",\"type\":\"BoxZoomTool\"},{\"attributes\":{},\"id\":\"f54e63d3-9081-4d7d-818f-9a854c105e2c\",\"type\":\"SaveTool\"},{\"attributes\":{},\"id\":\"d9a0c910-995b-460e-95d5-1f6365870bab\",\"type\":\"ResetTool\"},{\"attributes\":{},\"id\":\"d5747181-2c4c-409a-ab5f-39f9463aed2a\",\"type\":\"HelpTool\"},{\"attributes\":{\"fill_alpha\":{\"value\":0.1},\"fill_color\":{\"value\":\"#1f77b4\"},\"line_alpha\":{\"value\":0.1},\"line_color\":{\"value\":\"#1f77b4\"},\"x\":{\"field\":\"x\"},\"y\":{\"field\":\"y\"}},\"id\":\"cbac6a05-d387-44f1-9798-9126bcc64763\",\"type\":\"Circle\"},{\"attributes\":{},\"id\":\"e92293dd-a83a-4e52-a4f4-591539b65a10\",\"type\":\"Selection\"},{\"attributes\":{\"data_source\":{\"id\":\"60376588-aa0e-4bfc-b93f-189a08003d03\",\"type\":\"ColumnDataSource\"},\"glyph\":{\"id\":\"c1660563-c819-4298-a49e-6c1b40d49d2a\",\"type\":\"Circle\"},\"hover_glyph\":null,\"muted_glyph\":null,\"nonselection_glyph\":{\"id\":\"79ede8b9-624b-484f-9d90-1379ae155b85\",\"type\":\"Circle\"},\"selection_glyph\":null,\"view\":{\"id\":\"ef664f1b-05a9-45b3-b74b-443e7564718b\",\"type\":\"CDSView\"}},\"id\":\"34c85fc9-7c8e-4055-aa03-359ac63c4ee6\",\"type\":\"GlyphRenderer\"},{\"attributes\":{\"ticker\":null},\"id\":\"5081b99c-75aa-44dd-9d70-fe303fc24dcb\",\"type\":\"LogTickFormatter\"},{\"attributes\":{\"line_color\":\"#4daf4a\",\"line_width\":1.5,\"x\":{\"field\":\"x\"},\"y\":{\"field\":\"y\"}},\"id\":\"f026c891-8f45-4b49-8325-535b3e236113\",\"type\":\"Line\"},{\"attributes\":{\"callback\":null,\"data\":{\"x\":{\"__ndarray__\":\"ko1oKQnuFUBFW7cawXwRQP29T1U4xA9AXxx2f/hdDEB2M4Bnq+oIQM7EdNFZkgVAbsIjJpVwAkAHTkBdfSj/P52Mltho/vk/CdkNP3Jd9T+FJwMzEz/xP/QSn/yHL+s/Z2K/A0qX5D+qmPJX8rfcPwxz8GnNAtc/P+1a2aWL2T+K/HUHYL7dP4HThzhZ1+A/XDY71Qsp4z+Al4CX7DHmP0y5WBNnpuo/v5Op0WRe8D+83vwrS4XwPzCHP+6nfOw/OEitOzWp6D+1ckF0wRblP76W1X4TrOI/3jQxUysJ4T9kjUzMH3HfPzlWhsZ+FN0/7fJ+yajT2j/FHTbaTZnYP0DCPPgbY9Y/qWGpzj9W1D9MsaqAVJzQP4ckjegum8U/zayBcYxYuD+8X4f9Y6W7P4rppdVS6MY/2nObdikz0D8QtHwiPhXbP2CoTBldtuw/Cy7BROld9j+pLQ1IFND8P+hR1b9jdABA5GJm1lx+AUC2jin5IO8BQFb9+Fxe3wFAC5h0ZSDrAEBpHsZ3c3IAQCcC0aF8MQBAwqwNvfgRAECCKyPtow8AQECuLTZiJQBALWJN4OBYAEBB/dOurZkAQBvjjL2v3QBAw7zr9uEeAUCgbAkOClkBQDWXDA07nQFA1cX0pxf1AUDLtw9JBUUCQA6cHoZsQAJAgQXppEyiAkDRWdR+3fIBQB9M4bA87ABAYS8Ep/wHAEBPgycSxM39P9C6xOCYZfw/RoFwmRWu+z9hk9+kaGX7P9r2uB/afvs/mq4NmAcL/D9rCbRKol79PydIR355HgRA\",\"dtype\":\"float64\",\"shape\":[75]},\"y\":{\"__ndarray__\":\"GhExyth1ND/Sv8nbtpRIP2vylNV0PVE/aTum7souWD/At0SJ8fVgPw3Iuahxymc/MSNhhJWvcD/bTfBN02d3P2zb5nxnaoA/CD5h5MAGhz8NmeH1TyaQP+zrCsc9p5Y/LbKd76fGnz/bLW5ISEmmPww9YvTcQq8/JV2OstnstT8Er5Y7M8G+P0c+r3jqkcU/5h99k6ZBzj88bCIzFzjVP4enV8oyxN0//yH99nXg5D8qOpLLf0jtP5kqGJXUifQ/c9cS8kHP/D+/DpwzojQEQIEmwoanVwxA4lgXt9HgE0BSSZ2AJuIbQAMJih9jjiNA5q4l5INuK0AwTKYKRj0zQNv5fmq8/DpAaCJseHrtQkB/+zpwzoxKQM3MzMzMeFJAZmZmZmZqWEAAAAAAAFxeQM3MzMzMJmJAmpmZmZkfZUBmZmZmZhhoQDMzMzMzEWtAAAAAAAAKbkBmZmZmZoFwQM3MzMzM/XFAMzMzMzN6c0CamZmZmfZ0QAAAAAAAc3ZAZmZmZmbvd0DNzMzMzGt5QDMzMzMz6HpAmpmZmZlkfEAAAAAAAOF9QGZmZmZmXX9AZmZmZuZsgECamZmZGSuBQM3MzMxM6YFAAAAAAICngkAzMzMzs2WDQGZmZmbmI4RAmpmZmRnihEDNzMzMTKCFQAAAAACAXoZAMzMzM7Mch0BmZmZm5tqHQJqZmZkZmYhAzczMzExXiUAAAAAAgBWKQDMzMzOz04pAZmZmZuaRi0CamZmZGVCMQM3MzMxMDo1AAAAAAIDMjUAzMzMzs4qOQGZmZmbmSI9A\",\"dtype\":\"float64\",\"shape\":[75]}},\"selected\":{\"id\":\"6597a614-6791-4a97-8584-b929cbab6ba2\",\"type\":\"Selection\"},\"selection_policy\":{\"id\":\"df6af253-11c0-439f-99df-c39d4ae1c4de\",\"type\":\"UnionRenderers\"}},\"id\":\"56be61ff-7c16-4ae8-a7e0-201ae7891615\",\"type\":\"ColumnDataSource\"},{\"attributes\":{\"source\":{\"id\":\"e62ccff8-9ed3-4b27-97a5-1e532784fa07\",\"type\":\"ColumnDataSource\"}},\"id\":\"71ab4126-ed24-44a9-9afc-fd739863adba\",\"type\":\"CDSView\"},{\"attributes\":{\"data_source\":{\"id\":\"56be61ff-7c16-4ae8-a7e0-201ae7891615\",\"type\":\"ColumnDataSource\"},\"glyph\":{\"id\":\"f026c891-8f45-4b49-8325-535b3e236113\",\"type\":\"Line\"},\"hover_glyph\":null,\"muted_glyph\":null,\"nonselection_glyph\":{\"id\":\"8cf01763-6e27-4c89-a18c-96e70ff3cbd3\",\"type\":\"Line\"},\"selection_glyph\":null,\"view\":{\"id\":\"df406358-02b1-4c2f-9b3f-6fe087234893\",\"type\":\"CDSView\"}},\"id\":\"0bd55dfd-83cc-4441-8a9f-2ab211d2b817\",\"type\":\"GlyphRenderer\"},{\"attributes\":{\"children\":[{\"id\":\"e2fbad81-18bb-4b5e-9730-4117f2fb704f\",\"type\":\"Row\"}]},\"id\":\"77151336-f575-4541-a8d3-834f8884407f\",\"type\":\"Column\"},{\"attributes\":{\"callback\":null,\"data\":{\"x\":{\"__ndarray__\":\"ko1oKQnuFUBFW7cawXwRQP29T1U4xA9AXxx2f/hdDEB2M4Bnq+oIQM7EdNFZkgVAbsIjJpVwAkAHTkBdfSj/P52Mltho/vk/CdkNP3Jd9T+FJwMzEz/xP/QSn/yHL+s/Z2K/A0qX5D+qmPJX8rfcPwxz8GnNAtc/P+1a2aWL2T+K/HUHYL7dP4HThzhZ1+A/XDY71Qsp4z+Al4CX7DHmP0y5WBNnpuo/v5Op0WRe8D+83vwrS4XwPzCHP+6nfOw/OEitOzWp6D+1ckF0wRblP76W1X4TrOI/3jQxUysJ4T9kjUzMH3HfPzlWhsZ+FN0/7fJ+yajT2j/FHTbaTZnYP0DCPPgbY9Y/qWGpzj9W1D9MsaqAVJzQP4ckjegum8U/zayBcYxYuD+8X4f9Y6W7P4rppdVS6MY/2nObdikz0D8QtHwiPhXbP2CoTBldtuw/Cy7BROld9j+pLQ1IFND8P+hR1b9jdABA5GJm1lx+AUC2jin5IO8BQFb9+Fxe3wFAC5h0ZSDrAEBpHsZ3c3IAQCcC0aF8MQBAwqwNvfgRAECCKyPtow8AQECuLTZiJQBALWJN4OBYAEBB/dOurZkAQBvjjL2v3QBAw7zr9uEeAUCgbAkOClkBQDWXDA07nQFA1cX0pxf1AUDLtw9JBUUCQA6cHoZsQAJAgQXppEyiAkDRWdR+3fIBQB9M4bA87ABAYS8Ep/wHAEBPgycSxM39P9C6xOCYZfw/RoFwmRWu+z9hk9+kaGX7P9r2uB/afvs/mq4NmAcL/D9rCbRKol79PydIR355HgRA\",\"dtype\":\"float64\",\"shape\":[75]},\"y\":{\"__ndarray__\":\"GhExyth1ND/Sv8nbtpRIP2vylNV0PVE/aTum7souWD/At0SJ8fVgPw3Iuahxymc/MSNhhJWvcD/bTfBN02d3P2zb5nxnaoA/CD5h5MAGhz8NmeH1TyaQP+zrCsc9p5Y/LbKd76fGnz/bLW5ISEmmPww9YvTcQq8/JV2OstnstT8Er5Y7M8G+P0c+r3jqkcU/5h99k6ZBzj88bCIzFzjVP4enV8oyxN0//yH99nXg5D8qOpLLf0jtP5kqGJXUifQ/c9cS8kHP/D+/DpwzojQEQIEmwoanVwxA4lgXt9HgE0BSSZ2AJuIbQAMJih9jjiNA5q4l5INuK0AwTKYKRj0zQNv5fmq8/DpAaCJseHrtQkB/+zpwzoxKQM3MzMzMeFJAZmZmZmZqWEAAAAAAAFxeQM3MzMzMJmJAmpmZmZkfZUBmZmZmZhhoQDMzMzMzEWtAAAAAAAAKbkBmZmZmZoFwQM3MzMzM/XFAMzMzMzN6c0CamZmZmfZ0QAAAAAAAc3ZAZmZmZmbvd0DNzMzMzGt5QDMzMzMz6HpAmpmZmZlkfEAAAAAAAOF9QGZmZmZmXX9AZmZmZuZsgECamZmZGSuBQM3MzMxM6YFAAAAAAICngkAzMzMzs2WDQGZmZmbmI4RAmpmZmRnihEDNzMzMTKCFQAAAAACAXoZAMzMzM7Mch0BmZmZm5tqHQJqZmZkZmYhAzczMzExXiUAAAAAAgBWKQDMzMzOz04pAZmZmZuaRi0CamZmZGVCMQM3MzMxMDo1AAAAAAIDMjUAzMzMzs4qOQGZmZmbmSI9A\",\"dtype\":\"float64\",\"shape\":[75]}},\"selected\":{\"id\":\"f865ca09-0e9e-496f-b5ed-2a411a69a40f\",\"type\":\"Selection\"},\"selection_policy\":{\"id\":\"dc1e6e21-b778-4e33-822a-5124d5a74c5f\",\"type\":\"UnionRenderers\"}},\"id\":\"60376588-aa0e-4bfc-b93f-189a08003d03\",\"type\":\"ColumnDataSource\"},{\"attributes\":{\"source\":{\"id\":\"60376588-aa0e-4bfc-b93f-189a08003d03\",\"type\":\"ColumnDataSource\"}},\"id\":\"ef664f1b-05a9-45b3-b74b-443e7564718b\",\"type\":\"CDSView\"},{\"attributes\":{\"source\":{\"id\":\"9080d8fa-a7c3-43f9-adbc-fb191e83fd5f\",\"type\":\"ColumnDataSource\"}},\"id\":\"627e2420-e3cd-42b5-99de-712c75333df8\",\"type\":\"CDSView\"},{\"attributes\":{\"line_alpha\":0.1,\"line_color\":\"#1f77b4\",\"line_width\":1.5,\"x\":{\"field\":\"x\"},\"y\":{\"field\":\"y\"}},\"id\":\"cd5a6f48-5b79-4942-82b9-5e505a605e17\",\"type\":\"Line\"},{\"attributes\":{\"children\":[{\"id\":\"3ea75ea0-90d8-4777-9e76-c59aac86da06\",\"subtype\":\"Figure\",\"type\":\"Plot\"},{\"id\":\"3bb8ec21-b241-4716-89bb-1c2dae403714\",\"subtype\":\"Figure\",\"type\":\"Plot\"},{\"id\":\"0a810b79-5eda-4e2d-8426-5ee976ec56fe\",\"subtype\":\"Figure\",\"type\":\"Plot\"}]},\"id\":\"e2fbad81-18bb-4b5e-9730-4117f2fb704f\",\"type\":\"Row\"},{\"attributes\":{},\"id\":\"7bd1684a-8080-4b34-b5f8-39a11a252e84\",\"type\":\"LinearScale\"},{\"attributes\":{\"line_alpha\":0.1,\"line_color\":\"#1f77b4\",\"line_dash\":[6],\"line_width\":5,\"x\":{\"field\":\"x\"},\"y\":{\"field\":\"y\"}},\"id\":\"e743cf5e-c584-47a0-bde0-548c1037c21e\",\"type\":\"Line\"},{\"attributes\":{\"label\":{\"value\":\"CLIRAD - CRD\"},\"renderers\":[{\"id\":\"b3cf79fe-e092-4e7a-a853-a8ce01c8c17a\",\"type\":\"GlyphRenderer\"},{\"id\":\"c7f3da5e-689b-41b5-9a2d-700446e67378\",\"type\":\"GlyphRenderer\"}]},\"id\":\"6537a6af-e2d7-42ba-af67-fc04389f5349\",\"type\":\"LegendItem\"},{\"attributes\":{\"data_source\":{\"id\":\"3febeb0c-c4bf-4a52-aa93-eb11068c92ad\",\"type\":\"ColumnDataSource\"},\"glyph\":{\"id\":\"1d53c502-b12b-4d82-9b38-03fa936583f8\",\"type\":\"Line\"},\"hover_glyph\":null,\"muted_glyph\":null,\"nonselection_glyph\":{\"id\":\"e743cf5e-c584-47a0-bde0-548c1037c21e\",\"type\":\"Line\"},\"selection_glyph\":null,\"view\":{\"id\":\"630bef59-577e-4f17-a44c-80c683bb506e\",\"type\":\"CDSView\"}},\"id\":\"c5e74a09-0fe5-414b-a3fc-9d1d09a62f9e\",\"type\":\"GlyphRenderer\"},{\"attributes\":{\"line_alpha\":0.1,\"line_color\":\"#1f77b4\",\"line_width\":1.5,\"x\":{\"field\":\"x\"},\"y\":{\"field\":\"y\"}},\"id\":\"8cf01763-6e27-4c89-a18c-96e70ff3cbd3\",\"type\":\"Line\"},{\"attributes\":{\"fill_alpha\":{\"value\":0.7},\"fill_color\":{\"value\":\"#984ea3\"},\"line_alpha\":{\"value\":0.7},\"line_color\":{\"value\":\"#984ea3\"},\"x\":{\"field\":\"x\"},\"y\":{\"field\":\"y\"}},\"id\":\"ebd8f92e-9c71-49d5-9789-56c90ef28984\",\"type\":\"Circle\"},{\"attributes\":{\"callback\":null,\"data\":{\"x\":{\"__ndarray__\":\"ybj+fqDfAsDMjHZ+Mbj2vyjGXi83gPG/6Pu/tsUd6b8AWHZFzJ7gv0C/tHEBqtS/IIk9tu+Iyr9IE98z4GrFv9DyF23hkMa/MOO0IuqoyL8UzHtybPPGv0hRtG46NsC/8GWnWj41rL+Ad36wX9FzP9DUwQafWpY/ABRAwtb0N7/Qf2aSZLmcv2hdMejN2aS/8IyvQ3Qnor/AoKmODAmYv+AWcdUIXpa/UI1TmC6Rob8AKUTBrxuUvyAW9cYSBJE/wPTkc6YCqD8g9bMs6R2oP8C7pZn5FaM/gGmrVu3JiT8A4c89FeyGv8DCbF/q4Yy/AFEmYSjter8A4Ms1IYmCv4AJlz0rbXK/ABOEDPKXUL9AVCRzFPh+vwBIuh05P42/uHJlZQYklb/U/F8nLjKYv0Ck2Gg+mZe/AMx3ThX+lb8QioQjSa6WvwCox/J8MpK/wJ95nijslr8AAKs1zURZvwAgufVMcJa/gNCTPau/tb/AXm4qFFeov4AAZfFOOaC/gALQDI3mrb9gWn5jD9+vv0BX3Wahj6S/gEE/Hl+/l78AtlPzVGiGv4CUzBA4z5K/gMfIyGQKkr8A6mUCHXyWvwAOkxLu0nW/ACacarmGkj8AJOhc4tSjPwBehMEbdKc/wKOmRyuhoj+Ae82mO+OTPwBkBhzgqGA/AFKxtdLPgT+A9AjFqquaPwCApsMjq6o/YIhE4SUbsj8QvUxz8VG1PxAGESTOLrQ/sBHKf3KAsj/QfcqigXK2PwDEfZgF5rk/8Br0E4+pvj/YoWivZFvEPyDYrddKp8Y/\",\"dtype\":\"float64\",\"shape\":[75]},\"y\":{\"__ndarray__\":\"GhExyth1ND/Sv8nbtpRIP2vylNV0PVE/aTum7souWD/At0SJ8fVgPw3Iuahxymc/MSNhhJWvcD/bTfBN02d3P2zb5nxnaoA/CD5h5MAGhz8NmeH1TyaQP+zrCsc9p5Y/LbKd76fGnz/bLW5ISEmmPww9YvTcQq8/JV2OstnstT8Er5Y7M8G+P0c+r3jqkcU/5h99k6ZBzj88bCIzFzjVP4enV8oyxN0//yH99nXg5D8qOpLLf0jtP5kqGJXUifQ/c9cS8kHP/D+/DpwzojQEQIEmwoanVwxA4lgXt9HgE0BSSZ2AJuIbQAMJih9jjiNA5q4l5INuK0AwTKYKRj0zQNv5fmq8/DpAaCJseHrtQkB/+zpwzoxKQM3MzMzMeFJAZmZmZmZqWEAAAAAAAFxeQM3MzMzMJmJAmpmZmZkfZUBmZmZmZhhoQDMzMzMzEWtAAAAAAAAKbkBmZmZmZoFwQM3MzMzM/XFAMzMzMzN6c0CamZmZmfZ0QAAAAAAAc3ZAZmZmZmbvd0DNzMzMzGt5QDMzMzMz6HpAmpmZmZlkfEAAAAAAAOF9QGZmZmZmXX9AZmZmZuZsgECamZmZGSuBQM3MzMxM6YFAAAAAAICngkAzMzMzs2WDQGZmZmbmI4RAmpmZmRnihEDNzMzMTKCFQAAAAACAXoZAMzMzM7Mch0BmZmZm5tqHQJqZmZkZmYhAzczMzExXiUAAAAAAgBWKQDMzMzOz04pAZmZmZuaRi0CamZmZGVCMQM3MzMxMDo1AAAAAAIDMjUAzMzMzs4qOQGZmZmbmSI9A\",\"dtype\":\"float64\",\"shape\":[75]}},\"selected\":{\"id\":\"1375b459-92de-46ad-a11a-092dac5ebcb7\",\"type\":\"Selection\"},\"selection_policy\":{\"id\":\"0a4ec38e-7165-408d-977a-529e54287ba7\",\"type\":\"UnionRenderers\"}},\"id\":\"9080d8fa-a7c3-43f9-adbc-fb191e83fd5f\",\"type\":\"ColumnDataSource\"},{\"attributes\":{\"data_source\":{\"id\":\"e62ccff8-9ed3-4b27-97a5-1e532784fa07\",\"type\":\"ColumnDataSource\"},\"glyph\":{\"id\":\"ebd8f92e-9c71-49d5-9789-56c90ef28984\",\"type\":\"Circle\"},\"hover_glyph\":null,\"muted_glyph\":null,\"nonselection_glyph\":{\"id\":\"cbac6a05-d387-44f1-9798-9126bcc64763\",\"type\":\"Circle\"},\"selection_glyph\":null,\"view\":{\"id\":\"71ab4126-ed24-44a9-9afc-fd739863adba\",\"type\":\"CDSView\"}},\"id\":\"b3cf79fe-e092-4e7a-a853-a8ce01c8c17a\",\"type\":\"GlyphRenderer\"},{\"attributes\":{},\"id\":\"48a263cb-d43e-4d61-b739-8ed6e567fa5d\",\"type\":\"UnionRenderers\"},{\"attributes\":{\"fill_alpha\":{\"value\":0.1},\"fill_color\":{\"value\":\"#1f77b4\"},\"line_alpha\":{\"value\":0.1},\"line_color\":{\"value\":\"#1f77b4\"},\"x\":{\"field\":\"x\"},\"y\":{\"field\":\"y\"}},\"id\":\"79ede8b9-624b-484f-9d90-1379ae155b85\",\"type\":\"Circle\"},{\"attributes\":{},\"id\":\"d7da6e0b-f6b5-462e-9dbb-7ffc54beb1ed\",\"type\":\"UnionRenderers\"},{\"attributes\":{},\"id\":\"37a23b95-5e6f-4c80-8fad-5384b95bf96d\",\"type\":\"BasicTickFormatter\"},{\"attributes\":{\"label\":{\"value\":\"CLIRAD\"},\"renderers\":[{\"id\":\"c5e74a09-0fe5-414b-a3fc-9d1d09a62f9e\",\"type\":\"GlyphRenderer\"}]},\"id\":\"7e5bd04f-5a10-4575-81c4-c450c767f822\",\"type\":\"LegendItem\"},{\"attributes\":{\"data_source\":{\"id\":\"9080d8fa-a7c3-43f9-adbc-fb191e83fd5f\",\"type\":\"ColumnDataSource\"},\"glyph\":{\"id\":\"c0feae13-41e9-4abd-b26d-52bff6248310\",\"type\":\"Line\"},\"hover_glyph\":null,\"muted_glyph\":null,\"nonselection_glyph\":{\"id\":\"cd5a6f48-5b79-4942-82b9-5e505a605e17\",\"type\":\"Line\"},\"selection_glyph\":null,\"view\":{\"id\":\"627e2420-e3cd-42b5-99de-712c75333df8\",\"type\":\"CDSView\"}},\"id\":\"c7f3da5e-689b-41b5-9a2d-700446e67378\",\"type\":\"GlyphRenderer\"},{\"attributes\":{\"source\":{\"id\":\"56be61ff-7c16-4ae8-a7e0-201ae7891615\",\"type\":\"ColumnDataSource\"}},\"id\":\"df406358-02b1-4c2f-9b3f-6fe087234893\",\"type\":\"CDSView\"},{\"attributes\":{\"label\":{\"value\":\"CRD\"},\"renderers\":[{\"id\":\"34c85fc9-7c8e-4055-aa03-359ac63c4ee6\",\"type\":\"GlyphRenderer\"},{\"id\":\"0bd55dfd-83cc-4441-8a9f-2ab211d2b817\",\"type\":\"GlyphRenderer\"}]},\"id\":\"973fdeef-ce4f-4bc7-b821-be710eb33a77\",\"type\":\"LegendItem\"},{\"attributes\":{},\"id\":\"dc1e6e21-b778-4e33-822a-5124d5a74c5f\",\"type\":\"UnionRenderers\"},{\"attributes\":{\"plot\":null,\"text\":\"\"},\"id\":\"a33107dd-b7be-4cbe-9464-dcaed11b5edf\",\"type\":\"Title\"},{\"attributes\":{\"callback\":null,\"data\":{\"x\":{\"__ndarray__\":\"ybj+fqDfAsDMjHZ+Mbj2vyjGXi83gPG/6Pu/tsUd6b8AWHZFzJ7gv0C/tHEBqtS/IIk9tu+Iyr9IE98z4GrFv9DyF23hkMa/MOO0IuqoyL8UzHtybPPGv0hRtG46NsC/8GWnWj41rL+Ad36wX9FzP9DUwQafWpY/ABRAwtb0N7/Qf2aSZLmcv2hdMejN2aS/8IyvQ3Qnor/AoKmODAmYv+AWcdUIXpa/UI1TmC6Rob8AKUTBrxuUvyAW9cYSBJE/wPTkc6YCqD8g9bMs6R2oP8C7pZn5FaM/gGmrVu3JiT8A4c89FeyGv8DCbF/q4Yy/AFEmYSjter8A4Ms1IYmCv4AJlz0rbXK/ABOEDPKXUL9AVCRzFPh+vwBIuh05P42/uHJlZQYklb/U/F8nLjKYv0Ck2Gg+mZe/AMx3ThX+lb8QioQjSa6WvwCox/J8MpK/wJ95nijslr8AAKs1zURZvwAgufVMcJa/gNCTPau/tb/AXm4qFFeov4AAZfFOOaC/gALQDI3mrb9gWn5jD9+vv0BX3Wahj6S/gEE/Hl+/l78AtlPzVGiGv4CUzBA4z5K/gMfIyGQKkr8A6mUCHXyWvwAOkxLu0nW/ACacarmGkj8AJOhc4tSjPwBehMEbdKc/wKOmRyuhoj+Ae82mO+OTPwBkBhzgqGA/AFKxtdLPgT+A9AjFqquaPwCApsMjq6o/YIhE4SUbsj8QvUxz8VG1PxAGESTOLrQ/sBHKf3KAsj/QfcqigXK2PwDEfZgF5rk/8Br0E4+pvj/YoWivZFvEPyDYrddKp8Y/\",\"dtype\":\"float64\",\"shape\":[75]},\"y\":{\"__ndarray__\":\"GhExyth1ND/Sv8nbtpRIP2vylNV0PVE/aTum7souWD/At0SJ8fVgPw3Iuahxymc/MSNhhJWvcD/bTfBN02d3P2zb5nxnaoA/CD5h5MAGhz8NmeH1TyaQP+zrCsc9p5Y/LbKd76fGnz/bLW5ISEmmPww9YvTcQq8/JV2OstnstT8Er5Y7M8G+P0c+r3jqkcU/5h99k6ZBzj88bCIzFzjVP4enV8oyxN0//yH99nXg5D8qOpLLf0jtP5kqGJXUifQ/c9cS8kHP/D+/DpwzojQEQIEmwoanVwxA4lgXt9HgE0BSSZ2AJuIbQAMJih9jjiNA5q4l5INuK0AwTKYKRj0zQNv5fmq8/DpAaCJseHrtQkB/+zpwzoxKQM3MzMzMeFJAZmZmZmZqWEAAAAAAAFxeQM3MzMzMJmJAmpmZmZkfZUBmZmZmZhhoQDMzMzMzEWtAAAAAAAAKbkBmZmZmZoFwQM3MzMzM/XFAMzMzMzN6c0CamZmZmfZ0QAAAAAAAc3ZAZmZmZmbvd0DNzMzMzGt5QDMzMzMz6HpAmpmZmZlkfEAAAAAAAOF9QGZmZmZmXX9AZmZmZuZsgECamZmZGSuBQM3MzMxM6YFAAAAAAICngkAzMzMzs2WDQGZmZmbmI4RAmpmZmRnihEDNzMzMTKCFQAAAAACAXoZAMzMzM7Mch0BmZmZm5tqHQJqZmZkZmYhAzczMzExXiUAAAAAAgBWKQDMzMzOz04pAZmZmZuaRi0CamZmZGVCMQM3MzMxMDo1AAAAAAIDMjUAzMzMzs4qOQGZmZmbmSI9A\",\"dtype\":\"float64\",\"shape\":[75]}},\"selected\":{\"id\":\"387618c2-270c-4ad0-b4c2-c53f4fba21de\",\"type\":\"Selection\"},\"selection_policy\":{\"id\":\"ec026540-031e-41ef-9943-855e0b20fc81\",\"type\":\"UnionRenderers\"}},\"id\":\"e62ccff8-9ed3-4b27-97a5-1e532784fa07\",\"type\":\"ColumnDataSource\"},{\"attributes\":{},\"id\":\"dd215a48-8dc0-476a-9f62-24acc0a18abd\",\"type\":\"Selection\"},{\"attributes\":{},\"id\":\"6227cc4f-78b2-4624-820e-574d6c636624\",\"type\":\"BasicTickFormatter\"},{\"attributes\":{},\"id\":\"22750495-f47b-436b-8bd3-d1807c3e0bff\",\"type\":\"BasicTickFormatter\"},{\"attributes\":{\"callback\":null,\"end\":0.01,\"start\":1020},\"id\":\"e0f4f135-1679-4ae5-a27d-05cd32948a6f\",\"type\":\"Range1d\"},{\"attributes\":{\"plot\":null,\"text\":\"\"},\"id\":\"3f430c11-3f24-4a44-b35c-b88b1b36442a\",\"type\":\"Title\"},{\"attributes\":{},\"id\":\"1e38f7f7-d84c-4fcf-95ad-4bebd2333d2c\",\"type\":\"BasicTicker\"},{\"attributes\":{\"ticker\":null},\"id\":\"312d2641-4def-40e5-9166-70499fa3ef6c\",\"type\":\"LogTickFormatter\"},{\"attributes\":{\"above\":[{\"id\":\"4749a54d-0f5d-4d41-a774-8b6b309c7190\",\"type\":\"Legend\"}],\"below\":[{\"id\":\"b1b3bd3c-5b78-4342-9b4a-049f56fe816b\",\"type\":\"LinearAxis\"}],\"left\":[{\"id\":\"983ef74b-0327-496a-947e-32338b467d61\",\"type\":\"LinearAxis\"}],\"plot_width\":300,\"renderers\":[{\"id\":\"b1b3bd3c-5b78-4342-9b4a-049f56fe816b\",\"type\":\"LinearAxis\"},{\"id\":\"f2a25eb5-aefa-47ce-80f4-75d3fb14b6d8\",\"type\":\"Grid\"},{\"id\":\"983ef74b-0327-496a-947e-32338b467d61\",\"type\":\"LinearAxis\"},{\"id\":\"e050cf58-a4de-4fc8-92eb-ce515a53bdfb\",\"type\":\"Grid\"},{\"id\":\"864b195b-44e4-403f-919a-231aa435675c\",\"type\":\"BoxAnnotation\"},{\"id\":\"b90f758d-fb83-4ac1-9eac-24d12c35b47f\",\"type\":\"GlyphRenderer\"},{\"id\":\"5809ef2f-4d1c-4db3-813f-3de6c89f1b6a\",\"type\":\"GlyphRenderer\"},{\"id\":\"de0a6362-b0a7-4d7a-911f-7d61fd34e555\",\"type\":\"GlyphRenderer\"},{\"id\":\"4749a54d-0f5d-4d41-a774-8b6b309c7190\",\"type\":\"Legend\"}],\"title\":{\"id\":\"a33107dd-b7be-4cbe-9464-dcaed11b5edf\",\"type\":\"Title\"},\"toolbar\":{\"id\":\"847e43c3-b8a5-4ffb-85e7-fa484c0a9de0\",\"type\":\"Toolbar\"},\"toolbar_location\":null,\"x_range\":{\"id\":\"145adb21-150e-462a-81bf-cb8d9dd63206\",\"type\":\"Range1d\"},\"x_scale\":{\"id\":\"86465669-1370-4398-9b61-f2bb19af23ae\",\"type\":\"LinearScale\"},\"y_range\":{\"id\":\"6d85b1a1-3056-4af1-8003-fc20469f7ca9\",\"type\":\"Range1d\"},\"y_scale\":{\"id\":\"54afb08b-f037-45a8-a441-9cf147471698\",\"type\":\"LinearScale\"}},\"id\":\"3ea75ea0-90d8-4777-9e76-c59aac86da06\",\"subtype\":\"Figure\",\"type\":\"Plot\"},{\"attributes\":{},\"id\":\"8e65266e-24f9-47fd-bcf1-4517aedecec3\",\"type\":\"BasicTickFormatter\"},{\"attributes\":{\"plot\":{\"id\":\"3bb8ec21-b241-4716-89bb-1c2dae403714\",\"subtype\":\"Figure\",\"type\":\"Plot\"},\"ticker\":{\"id\":\"922792db-3a5d-437a-aa57-fd6ed1324237\",\"type\":\"BasicTicker\"}},\"id\":\"267cd262-37a2-4992-a47c-10f057974f69\",\"type\":\"Grid\"},{\"attributes\":{},\"id\":\"f865ca09-0e9e-496f-b5ed-2a411a69a40f\",\"type\":\"Selection\"},{\"attributes\":{},\"id\":\"df6af253-11c0-439f-99df-c39d4ae1c4de\",\"type\":\"UnionRenderers\"},{\"attributes\":{\"callback\":null,\"end\":0.01,\"start\":1020},\"id\":\"6d85b1a1-3056-4af1-8003-fc20469f7ca9\",\"type\":\"Range1d\"},{\"attributes\":{},\"id\":\"6597a614-6791-4a97-8584-b929cbab6ba2\",\"type\":\"Selection\"},{\"attributes\":{},\"id\":\"387618c2-270c-4ad0-b4c2-c53f4fba21de\",\"type\":\"Selection\"},{\"attributes\":{},\"id\":\"1375b459-92de-46ad-a11a-092dac5ebcb7\",\"type\":\"Selection\"},{\"attributes\":{\"tools\":[{\"id\":\"6c89ccc1-ea52-49d2-9c39-77cdafbaa9e0\",\"type\":\"PanTool\"},{\"id\":\"b52de327-0b7e-4de0-9b2b-4cec8232fcab\",\"type\":\"WheelZoomTool\"},{\"id\":\"dcadcf68-d29c-4e0d-8dcf-a78138710b25\",\"type\":\"BoxZoomTool\"},{\"id\":\"fcfd7086-b9bd-453a-8e26-acc8fea4f792\",\"type\":\"SaveTool\"},{\"id\":\"077347e9-0e70-4cd6-bb74-3efbbf59854a\",\"type\":\"ResetTool\"},{\"id\":\"92070f40-9938-4448-bcf8-3865296a63fd\",\"type\":\"HelpTool\"},{\"id\":\"95355b6e-0e2c-43c1-af5b-8b38082e6a05\",\"type\":\"PanTool\"},{\"id\":\"8f6c180b-8263-4e07-8522-06af9ebdadba\",\"type\":\"WheelZoomTool\"},{\"id\":\"65cb9055-335d-4d72-be93-edd50ac77c0a\",\"type\":\"BoxZoomTool\"},{\"id\":\"9e1d3f0d-f544-472b-a37f-ba942845f910\",\"type\":\"SaveTool\"},{\"id\":\"dc6db62b-2cec-4acc-aa21-68d80ee9ec34\",\"type\":\"ResetTool\"},{\"id\":\"fc5dc714-b0a5-406b-922d-fe63d0e33f53\",\"type\":\"HelpTool\"},{\"id\":\"81d0be3f-41a8-4457-94e5-57bd00fbfcce\",\"type\":\"PanTool\"},{\"id\":\"d6cd405d-c9e1-4aea-a88d-0fc98c1b1fbb\",\"type\":\"WheelZoomTool\"},{\"id\":\"f389c411-2466-4fc0-b483-9b2a66584684\",\"type\":\"BoxZoomTool\"},{\"id\":\"f54e63d3-9081-4d7d-818f-9a854c105e2c\",\"type\":\"SaveTool\"},{\"id\":\"d9a0c910-995b-460e-95d5-1f6365870bab\",\"type\":\"ResetTool\"},{\"id\":\"d5747181-2c4c-409a-ab5f-39f9463aed2a\",\"type\":\"HelpTool\"}]},\"id\":\"8cb079e9-32e9-4f08-a096-cbc7156ac344\",\"type\":\"ProxyToolbar\"},{\"attributes\":{\"callback\":null,\"end\":0.04950078224510098,\"start\":-0.19505244491874005},\"id\":\"d9b40b5d-4b18-4308-885d-4a80aab5e648\",\"type\":\"Range1d\"},{\"attributes\":{},\"id\":\"0a4ec38e-7165-408d-977a-529e54287ba7\",\"type\":\"UnionRenderers\"},{\"attributes\":{},\"id\":\"ec026540-031e-41ef-9943-855e0b20fc81\",\"type\":\"UnionRenderers\"},{\"attributes\":{\"toolbar\":{\"id\":\"8cb079e9-32e9-4f08-a096-cbc7156ac344\",\"type\":\"ProxyToolbar\"},\"toolbar_location\":\"above\"},\"id\":\"3d43cc9a-071f-4335-84b3-4d6ba0cc6e07\",\"type\":\"ToolbarBox\"},{\"attributes\":{\"axis_label\":\"pressure [mb]\",\"formatter\":{\"id\":\"312d2641-4def-40e5-9166-70499fa3ef6c\",\"type\":\"LogTickFormatter\"},\"plot\":{\"id\":\"0a810b79-5eda-4e2d-8426-5ee976ec56fe\",\"subtype\":\"Figure\",\"type\":\"Plot\"},\"ticker\":{\"id\":\"685cb0e5-6122-4807-85da-60c0a116017c\",\"type\":\"LogTicker\"}},\"id\":\"9e963fb5-2e72-4211-bc66-8d9ba6fe521b\",\"type\":\"LogAxis\"},{\"attributes\":{\"num_minor_ticks\":10},\"id\":\"685cb0e5-6122-4807-85da-60c0a116017c\",\"type\":\"LogTicker\"},{\"attributes\":{\"children\":[{\"id\":\"3d43cc9a-071f-4335-84b3-4d6ba0cc6e07\",\"type\":\"ToolbarBox\"},{\"id\":\"77151336-f575-4541-a8d3-834f8884407f\",\"type\":\"Column\"}]},\"id\":\"0bb3739a-68aa-49e2-a87b-f4ba859fe284\",\"type\":\"Column\"},{\"attributes\":{\"active_drag\":\"auto\",\"active_inspect\":\"auto\",\"active_scroll\":\"auto\",\"active_tap\":\"auto\",\"tools\":[{\"id\":\"81d0be3f-41a8-4457-94e5-57bd00fbfcce\",\"type\":\"PanTool\"},{\"id\":\"d6cd405d-c9e1-4aea-a88d-0fc98c1b1fbb\",\"type\":\"WheelZoomTool\"},{\"id\":\"f389c411-2466-4fc0-b483-9b2a66584684\",\"type\":\"BoxZoomTool\"},{\"id\":\"f54e63d3-9081-4d7d-818f-9a854c105e2c\",\"type\":\"SaveTool\"},{\"id\":\"d9a0c910-995b-460e-95d5-1f6365870bab\",\"type\":\"ResetTool\"},{\"id\":\"d5747181-2c4c-409a-ab5f-39f9463aed2a\",\"type\":\"HelpTool\"}]},\"id\":\"12497222-b3ca-4593-90f0-b387933b3eec\",\"type\":\"Toolbar\"},{\"attributes\":{\"items\":[{\"id\":\"6537a6af-e2d7-42ba-af67-fc04389f5349\",\"type\":\"LegendItem\"}],\"label_text_font_size\":{\"value\":\"8pt\"},\"location\":\"top_center\",\"orientation\":\"horizontal\",\"plot\":{\"id\":\"0a810b79-5eda-4e2d-8426-5ee976ec56fe\",\"subtype\":\"Figure\",\"type\":\"Plot\"}},\"id\":\"10626b74-afaa-45a8-be49-5260d6c61312\",\"type\":\"Legend\"},{\"attributes\":{},\"id\":\"0c3724f8-9be0-495e-8825-03947dbba369\",\"type\":\"LogScale\"},{\"attributes\":{\"axis_label\":\"cooling rate [K/day]\",\"formatter\":{\"id\":\"8e65266e-24f9-47fd-bcf1-4517aedecec3\",\"type\":\"BasicTickFormatter\"},\"plot\":{\"id\":\"0a810b79-5eda-4e2d-8426-5ee976ec56fe\",\"subtype\":\"Figure\",\"type\":\"Plot\"},\"ticker\":{\"id\":\"1e38f7f7-d84c-4fcf-95ad-4bebd2333d2c\",\"type\":\"BasicTicker\"}},\"id\":\"8d2becdb-130a-4774-8a5e-b0150115ef01\",\"type\":\"LinearAxis\"},{\"attributes\":{\"plot\":{\"id\":\"0a810b79-5eda-4e2d-8426-5ee976ec56fe\",\"subtype\":\"Figure\",\"type\":\"Plot\"},\"ticker\":{\"id\":\"1e38f7f7-d84c-4fcf-95ad-4bebd2333d2c\",\"type\":\"BasicTicker\"}},\"id\":\"b100228b-5d72-4e42-92e8-3fca6464873c\",\"type\":\"Grid\"}],\"root_ids\":[\"0bb3739a-68aa-49e2-a87b-f4ba859fe284\"]},\"title\":\"Bokeh Application\",\"version\":\"0.12.16\"}};\n",
       "  var render_items = [{\"docid\":\"2118b2e2-7a54-4ec5-b1a1-6e13a7f1b5e6\",\"elementid\":\"398610ef-f6ea-499e-a46c-bf002e81dd55\",\"modelid\":\"0bb3739a-68aa-49e2-a87b-f4ba859fe284\"}];\n",
       "  root.Bokeh.embed.embed_items_notebook(docs_json, render_items);\n",
       "\n",
       "  }\n",
       "  if (root.Bokeh !== undefined) {\n",
       "    embed_document(root);\n",
       "  } else {\n",
       "    var attempts = 0;\n",
       "    var timer = setInterval(function(root) {\n",
       "      if (root.Bokeh !== undefined) {\n",
       "        embed_document(root);\n",
       "        clearInterval(timer);\n",
       "      }\n",
       "      attempts++;\n",
       "      if (attempts > 100) {\n",
       "        console.log(\"Bokeh: ERROR: Unable to run BokehJS code because BokehJS library is missing\")\n",
       "        clearInterval(timer);\n",
       "      }\n",
       "    }, 10, root)\n",
       "  }\n",
       "})(window);"
      ],
      "application/vnd.bokehjs_exec.v0+json": ""
     },
     "metadata": {
      "application/vnd.bokehjs_exec.v0+json": {
       "id": "0bb3739a-68aa-49e2-a87b-f4ba859fe284"
      }
     },
     "output_type": "display_data"
    },
    {
     "data": {
      "text/markdown": [
       "*FIGURE.* Cooling rates & difference."
      ],
      "text/plain": [
       "<IPython.core.display.Markdown object>"
      ]
     },
     "metadata": {},
     "output_type": "display_data"
    },
    {
     "data": {
      "text/html": [
       "<a id=\"Fluxes._trp.\"></a>"
      ],
      "text/plain": [
       "<IPython.core.display.HTML object>"
      ]
     },
     "metadata": {},
     "output_type": "display_data"
    },
    {
     "data": {
      "text/markdown": [
       "# Fluxes. trp."
      ],
      "text/plain": [
       "<IPython.core.display.Markdown object>"
      ]
     },
     "metadata": {},
     "output_type": "display_data"
    },
    {
     "data": {
      "text/html": [
       "\n",
       "<div class=\"bk-root\">\n",
       "    <div class=\"bk-plotdiv\" id=\"85179e37-1e4f-4d56-adce-bd694d212907\"></div>\n",
       "</div>"
      ]
     },
     "metadata": {},
     "output_type": "display_data"
    },
    {
     "data": {
      "application/javascript": [
       "(function(root) {\n",
       "  function embed_document(root) {\n",
       "    \n",
       "  var docs_json = {\"df383b9f-ffac-480e-9b50-11eb45a4305c\":{\"roots\":{\"references\":[{\"attributes\":{\"axis_label\":\"spectral band\",\"formatter\":{\"id\":\"0ff8148d-5fcb-40b9-a379-e1b62a224ba7\",\"type\":\"CategoricalTickFormatter\"},\"plot\":{\"id\":\"847c3329-b008-4c6a-b3db-f4e73c1616c5\",\"subtype\":\"Figure\",\"type\":\"Plot\"},\"ticker\":{\"id\":\"1fba87c1-f810-467c-b368-d2a869036610\",\"type\":\"CategoricalTicker\"}},\"id\":\"6562010f-eb39-4c2a-a372-bd4a86122144\",\"type\":\"CategoricalAxis\"},{\"attributes\":{\"axis_label\":\"flux (W m-2)\",\"formatter\":{\"id\":\"1a8986c0-3ba5-49ae-9252-560fc200da46\",\"type\":\"BasicTickFormatter\"},\"plot\":{\"id\":\"5b429103-de76-436b-a4c8-d7892ce9775e\",\"subtype\":\"Figure\",\"type\":\"Plot\"},\"ticker\":{\"id\":\"e28545b1-8966-4905-8858-e9be64b25a5f\",\"type\":\"BasicTicker\"}},\"id\":\"86f7b15c-1c75-4873-8f9a-8ba31faf32cc\",\"type\":\"LinearAxis\"},{\"attributes\":{\"axis_label\":\"flux (W m-2)\",\"formatter\":{\"id\":\"39d1df81-f273-475f-b0b6-5ada0f3329ed\",\"type\":\"BasicTickFormatter\"},\"plot\":{\"id\":\"847c3329-b008-4c6a-b3db-f4e73c1616c5\",\"subtype\":\"Figure\",\"type\":\"Plot\"},\"ticker\":{\"id\":\"481ba065-f302-4b8d-a9de-ce940f14c71c\",\"type\":\"BasicTicker\"}},\"id\":\"545c79be-4756-4031-bbb1-fe9d6d54bb4a\",\"type\":\"LinearAxis\"},{\"attributes\":{\"active_drag\":\"auto\",\"active_inspect\":\"auto\",\"active_scroll\":\"auto\",\"active_tap\":\"auto\",\"tools\":[{\"id\":\"69050d80-351c-4dc4-941a-12f0cd3bd9b5\",\"type\":\"PanTool\"},{\"id\":\"00dec67f-5732-47bc-92b9-7ec4053fc165\",\"type\":\"WheelZoomTool\"},{\"id\":\"4e47971a-8aa4-4e77-842f-ebf7147694db\",\"type\":\"BoxZoomTool\"},{\"id\":\"a458e9e3-7a0e-406a-ae15-ff25d6bda27e\",\"type\":\"SaveTool\"},{\"id\":\"d58be16e-8f71-4fa0-a8ae-5ab8bdf0decc\",\"type\":\"ResetTool\"},{\"id\":\"249d17df-b850-4fdd-8707-9ef1699c885c\",\"type\":\"HelpTool\"}]},\"id\":\"0013f733-02fc-40d0-bef4-cd18f892f179\",\"type\":\"Toolbar\"},{\"attributes\":{\"plot\":{\"id\":\"847c3329-b008-4c6a-b3db-f4e73c1616c5\",\"subtype\":\"Figure\",\"type\":\"Plot\"},\"ticker\":{\"id\":\"1fba87c1-f810-467c-b368-d2a869036610\",\"type\":\"CategoricalTicker\"}},\"id\":\"4e90e38e-d848-432c-8f3e-7ada2e7fd7f4\",\"type\":\"Grid\"},{\"attributes\":{\"plot\":{\"id\":\"5b429103-de76-436b-a4c8-d7892ce9775e\",\"subtype\":\"Figure\",\"type\":\"Plot\"},\"ticker\":{\"id\":\"c63ccb40-2f0f-4117-88cf-580fb59e05c1\",\"type\":\"CategoricalTicker\"}},\"id\":\"a063cd46-8ed9-4397-b697-6181ff887e13\",\"type\":\"Grid\"},{\"attributes\":{},\"id\":\"07bccc2a-63f6-4767-bd78-a3c27980b5e5\",\"type\":\"LinearScale\"},{\"attributes\":{\"plot\":{\"id\":\"eda11d66-fcd5-4919-a4e0-cfae63eda376\",\"subtype\":\"Figure\",\"type\":\"Plot\"},\"ticker\":{\"id\":\"619fe696-fe06-4baa-b169-7a2125ad75d5\",\"type\":\"CategoricalTicker\"}},\"id\":\"7a4ca29f-a795-4c39-b02f-e2539dd2440f\",\"type\":\"Grid\"},{\"attributes\":{\"plot\":null,\"text\":\"Atmosphere heating. CLIRAD - CRD.\"},\"id\":\"48646427-dbbc-4292-a4e0-da40c0a7c7d8\",\"type\":\"Title\"},{\"attributes\":{},\"id\":\"e67f81ad-0df9-4fe4-9eaa-b0011b6cd5f2\",\"type\":\"BasicTicker\"},{\"attributes\":{\"callback\":null},\"id\":\"f47c1b29-b6b9-46a7-a7e3-d118b85e8dd8\",\"type\":\"DataRange1d\"},{\"attributes\":{\"active_drag\":\"auto\",\"active_inspect\":\"auto\",\"active_scroll\":\"auto\",\"active_tap\":\"auto\",\"tools\":[{\"id\":\"2d2f39d1-6a37-4877-9979-c2c0c0bbe46f\",\"type\":\"PanTool\"},{\"id\":\"2d685ae5-c5d7-4593-89a5-e5f873d8da06\",\"type\":\"WheelZoomTool\"},{\"id\":\"bbddcf56-c81f-486d-8ead-2e86224800c6\",\"type\":\"BoxZoomTool\"},{\"id\":\"4d2d7052-85c5-495a-ae9d-94c898f03ee2\",\"type\":\"SaveTool\"},{\"id\":\"bb4f01be-0e96-4e41-b79b-e848dfddd7f3\",\"type\":\"ResetTool\"},{\"id\":\"6635f1cb-323c-42cc-8073-1143fe31e5c3\",\"type\":\"HelpTool\"}]},\"id\":\"c613fc6d-9ad5-4f67-b4a0-963a46542553\",\"type\":\"Toolbar\"},{\"attributes\":{\"callback\":null},\"id\":\"c9252560-2a36-4304-af49-2e54fdcc983e\",\"type\":\"DataRange1d\"},{\"attributes\":{},\"id\":\"1fba87c1-f810-467c-b368-d2a869036610\",\"type\":\"CategoricalTicker\"},{\"attributes\":{\"callback\":null,\"factors\":[\"1\",\"2\",\"3\",\"4\",\"5\",\"6\",\"7\",\"8\",\"9\",\"10\",\"11\"]},\"id\":\"b9087ee2-81a6-4c31-9f8c-6a572e4320e3\",\"type\":\"FactorRange\"},{\"attributes\":{},\"id\":\"b9c9286f-a7d2-4dfe-adbc-e6279c0d8b1b\",\"type\":\"CategoricalScale\"},{\"attributes\":{\"plot\":null,\"text\":\"TOA flux. CLIRAD - CRD.\"},\"id\":\"a2fd82e3-1a5c-415b-a7ad-edcae8d2ea9b\",\"type\":\"Title\"},{\"attributes\":{\"active_drag\":\"auto\",\"active_inspect\":\"auto\",\"active_scroll\":\"auto\",\"active_tap\":\"auto\",\"tools\":[{\"id\":\"3ea4f35b-bdd4-49bd-98a5-16158322a43e\",\"type\":\"PanTool\"},{\"id\":\"0f567efe-a37e-4053-9727-8704ad1e5ced\",\"type\":\"WheelZoomTool\"},{\"id\":\"5c6a2808-868b-49af-ab43-e7d8ae9883c6\",\"type\":\"BoxZoomTool\"},{\"id\":\"92ea89d0-fb8e-4b55-9ca9-7da961e2233c\",\"type\":\"SaveTool\"},{\"id\":\"509ba4c2-29c7-48a0-9bea-519399e1c40e\",\"type\":\"ResetTool\"},{\"id\":\"3455928b-ae2f-46a5-acf6-575f2e3d35ec\",\"type\":\"HelpTool\"}]},\"id\":\"f0593e4e-1cc8-4042-95f6-617fa336c574\",\"type\":\"Toolbar\"},{\"attributes\":{},\"id\":\"0ff8148d-5fcb-40b9-a379-e1b62a224ba7\",\"type\":\"CategoricalTickFormatter\"},{\"attributes\":{\"plot\":null,\"text\":\"SFC flux. CLIRAD - CRD.\"},\"id\":\"c93d4865-a83c-4c6a-937e-ca329f0c9b59\",\"type\":\"Title\"},{\"attributes\":{\"dimension\":1,\"plot\":{\"id\":\"847c3329-b008-4c6a-b3db-f4e73c1616c5\",\"subtype\":\"Figure\",\"type\":\"Plot\"},\"ticker\":{\"id\":\"481ba065-f302-4b8d-a9de-ce940f14c71c\",\"type\":\"BasicTicker\"}},\"id\":\"8fb61ac4-de19-42e8-9ae6-f9fe90f06cab\",\"type\":\"Grid\"},{\"attributes\":{},\"id\":\"23fe5a69-f283-4292-8458-883834d0c83d\",\"type\":\"LinearScale\"},{\"attributes\":{\"callback\":null,\"factors\":[\"1\",\"2\",\"3\",\"4\",\"5\",\"6\",\"7\",\"8\",\"9\",\"10\",\"11\"]},\"id\":\"835367be-9461-424f-bb6d-4da28f64d1ee\",\"type\":\"FactorRange\"},{\"attributes\":{\"fill_alpha\":{\"value\":0.1},\"fill_color\":{\"value\":\"#1f77b4\"},\"line_alpha\":{\"value\":0.1},\"line_color\":{\"value\":\"#1f77b4\"},\"top\":{\"field\":\"flux\"},\"width\":{\"value\":0.9},\"x\":{\"field\":\"band\"}},\"id\":\"23ab6046-a285-4101-ae8a-9cfd409992b3\",\"type\":\"VBar\"},{\"attributes\":{},\"id\":\"3ede361d-7dee-46c5-96c6-6ea125718847\",\"type\":\"CategoricalScale\"},{\"attributes\":{\"callback\":null},\"id\":\"b92b1842-bd0e-4073-8a0f-d6b0af5aa625\",\"type\":\"DataRange1d\"},{\"attributes\":{\"axis_label\":\"spectral band\",\"formatter\":{\"id\":\"53f3afd7-73b4-4c21-8017-02555d97471b\",\"type\":\"CategoricalTickFormatter\"},\"plot\":{\"id\":\"5b429103-de76-436b-a4c8-d7892ce9775e\",\"subtype\":\"Figure\",\"type\":\"Plot\"},\"ticker\":{\"id\":\"c63ccb40-2f0f-4117-88cf-580fb59e05c1\",\"type\":\"CategoricalTicker\"}},\"id\":\"de00f5a2-084e-4ec4-96ef-44108e2ba91b\",\"type\":\"CategoricalAxis\"},{\"attributes\":{},\"id\":\"481ba065-f302-4b8d-a9de-ce940f14c71c\",\"type\":\"BasicTicker\"},{\"attributes\":{\"bottom_units\":\"screen\",\"fill_alpha\":{\"value\":0.5},\"fill_color\":{\"value\":\"lightgrey\"},\"left_units\":\"screen\",\"level\":\"overlay\",\"line_alpha\":{\"value\":1.0},\"line_color\":{\"value\":\"black\"},\"line_dash\":[4,4],\"line_width\":{\"value\":2},\"plot\":null,\"render_mode\":\"css\",\"right_units\":\"screen\",\"top_units\":\"screen\"},\"id\":\"314218e4-026d-4fef-9400-f1bb416ec6e0\",\"type\":\"BoxAnnotation\"},{\"attributes\":{},\"id\":\"c63ccb40-2f0f-4117-88cf-580fb59e05c1\",\"type\":\"CategoricalTicker\"},{\"attributes\":{\"fill_color\":{\"value\":\"#1f77b4\"},\"line_color\":{\"value\":\"#1f77b4\"},\"top\":{\"field\":\"flux\"},\"width\":{\"value\":0.9},\"x\":{\"field\":\"band\"}},\"id\":\"33685c0c-2a7a-4908-bbfc-a521c0638e5b\",\"type\":\"VBar\"},{\"attributes\":{\"fill_color\":{\"value\":\"#1f77b4\"},\"line_color\":{\"value\":\"#1f77b4\"},\"top\":{\"field\":\"flux\"},\"width\":{\"value\":0.9},\"x\":{\"field\":\"band\"}},\"id\":\"c8b501d4-466b-46c3-83e1-9f0d994a477e\",\"type\":\"VBar\"},{\"attributes\":{},\"id\":\"e28545b1-8966-4905-8858-e9be64b25a5f\",\"type\":\"BasicTicker\"},{\"attributes\":{},\"id\":\"3455928b-ae2f-46a5-acf6-575f2e3d35ec\",\"type\":\"HelpTool\"},{\"attributes\":{\"dimension\":1,\"plot\":{\"id\":\"5b429103-de76-436b-a4c8-d7892ce9775e\",\"subtype\":\"Figure\",\"type\":\"Plot\"},\"ticker\":{\"id\":\"e28545b1-8966-4905-8858-e9be64b25a5f\",\"type\":\"BasicTicker\"}},\"id\":\"f2e9d0b5-ec0f-495f-8fa4-1db01ddb4d5d\",\"type\":\"Grid\"},{\"attributes\":{},\"id\":\"509ba4c2-29c7-48a0-9bea-519399e1c40e\",\"type\":\"ResetTool\"},{\"attributes\":{\"fill_alpha\":{\"value\":0.1},\"fill_color\":{\"value\":\"#1f77b4\"},\"line_alpha\":{\"value\":0.1},\"line_color\":{\"value\":\"#1f77b4\"},\"top\":{\"field\":\"flux\"},\"width\":{\"value\":0.9},\"x\":{\"field\":\"band\"}},\"id\":\"c9c7166d-6227-447e-9bfc-6b20a643bc0b\",\"type\":\"VBar\"},{\"attributes\":{\"children\":[{\"id\":\"847c3329-b008-4c6a-b3db-f4e73c1616c5\",\"subtype\":\"Figure\",\"type\":\"Plot\"},{\"id\":\"eda11d66-fcd5-4919-a4e0-cfae63eda376\",\"subtype\":\"Figure\",\"type\":\"Plot\"},{\"id\":\"5b429103-de76-436b-a4c8-d7892ce9775e\",\"subtype\":\"Figure\",\"type\":\"Plot\"}]},\"id\":\"499b7d30-00bb-43dc-89c0-9827d65cc483\",\"type\":\"Row\"},{\"attributes\":{},\"id\":\"92ea89d0-fb8e-4b55-9ca9-7da961e2233c\",\"type\":\"SaveTool\"},{\"attributes\":{},\"id\":\"0f7ca184-30d0-44fd-8dc1-8e65bdac8e02\",\"type\":\"LinearScale\"},{\"attributes\":{\"callback\":null,\"data\":{\"band\":[\"1\",\"2\",\"3\",\"4\",\"5\",\"6\",\"7\",\"8\",\"9\",\"10\",\"11\"],\"flux\":{\"__ndarray__\":\"AABAneLh874AjfZviw/QP4DsT1TJj9k/AIAqvLKoez9A0zUwRXvNPyDi+OtfI94/IMLczddVtT8ADO5B57mOPwBwtCbteHk/AACGOj/UiD8YkMssALXgPw==\",\"dtype\":\"float64\",\"shape\":[11]}},\"selected\":{\"id\":\"9dc587d3-0401-43b4-90a2-81b6c7be08d0\",\"type\":\"Selection\"},\"selection_policy\":{\"id\":\"1b290110-bd4e-4903-a91a-1983308262a5\",\"type\":\"UnionRenderers\"}},\"id\":\"4d24f186-a74e-4182-b871-6f66ce81eaa8\",\"type\":\"ColumnDataSource\"},{\"attributes\":{},\"id\":\"1a8986c0-3ba5-49ae-9252-560fc200da46\",\"type\":\"BasicTickFormatter\"},{\"attributes\":{\"overlay\":{\"id\":\"314218e4-026d-4fef-9400-f1bb416ec6e0\",\"type\":\"BoxAnnotation\"}},\"id\":\"5c6a2808-868b-49af-ab43-e7d8ae9883c6\",\"type\":\"BoxZoomTool\"},{\"attributes\":{\"bottom_units\":\"screen\",\"fill_alpha\":{\"value\":0.5},\"fill_color\":{\"value\":\"lightgrey\"},\"left_units\":\"screen\",\"level\":\"overlay\",\"line_alpha\":{\"value\":1.0},\"line_color\":{\"value\":\"black\"},\"line_dash\":[4,4],\"line_width\":{\"value\":2},\"plot\":null,\"render_mode\":\"css\",\"right_units\":\"screen\",\"top_units\":\"screen\"},\"id\":\"ced3cd3e-67cf-43e4-8235-7cbd96cea426\",\"type\":\"BoxAnnotation\"},{\"attributes\":{},\"id\":\"0f567efe-a37e-4053-9727-8704ad1e5ced\",\"type\":\"WheelZoomTool\"},{\"attributes\":{\"callback\":null,\"data\":{\"band\":[\"1\",\"2\",\"3\",\"4\",\"5\",\"6\",\"7\",\"8\",\"9\",\"10\",\"11\"],\"flux\":{\"__ndarray__\":\"AHpfE9T7yj8AY4txfqLUPwA314RC8bC/AKSROsehub8A3FPNB1+pvwAAvehl82y/AESPxj5UpL8Ap8Fdi1C8v4AwkESIe9S/gPeiSD4Awj9wloEmab7XPw==\",\"dtype\":\"float64\",\"shape\":[11]}},\"selected\":{\"id\":\"8ac6c41a-4bf2-4231-890c-e75fc24917c4\",\"type\":\"Selection\"},\"selection_policy\":{\"id\":\"dc10d00e-8538-477a-bc10-9dbbbf158233\",\"type\":\"UnionRenderers\"}},\"id\":\"cf313cb3-db2f-4278-b19c-3c870b16ade6\",\"type\":\"ColumnDataSource\"},{\"attributes\":{},\"id\":\"07335a75-67b7-41e6-b632-59469754cee0\",\"type\":\"CategoricalScale\"},{\"attributes\":{\"data_source\":{\"id\":\"cf313cb3-db2f-4278-b19c-3c870b16ade6\",\"type\":\"ColumnDataSource\"},\"glyph\":{\"id\":\"c8b501d4-466b-46c3-83e1-9f0d994a477e\",\"type\":\"VBar\"},\"hover_glyph\":null,\"muted_glyph\":null,\"nonselection_glyph\":{\"id\":\"23ab6046-a285-4101-ae8a-9cfd409992b3\",\"type\":\"VBar\"},\"selection_glyph\":null,\"view\":{\"id\":\"088a3227-900b-40cf-b429-0d8c340a7b92\",\"type\":\"CDSView\"}},\"id\":\"2163f550-ce7d-4cbc-9889-de9e675c9abb\",\"type\":\"GlyphRenderer\"},{\"attributes\":{},\"id\":\"2d2f39d1-6a37-4877-9979-c2c0c0bbe46f\",\"type\":\"PanTool\"},{\"attributes\":{},\"id\":\"3ea4f35b-bdd4-49bd-98a5-16158322a43e\",\"type\":\"PanTool\"},{\"attributes\":{\"data_source\":{\"id\":\"fc038423-030c-4ba3-928f-6554131b63c8\",\"type\":\"ColumnDataSource\"},\"glyph\":{\"id\":\"33685c0c-2a7a-4908-bbfc-a521c0638e5b\",\"type\":\"VBar\"},\"hover_glyph\":null,\"muted_glyph\":null,\"nonselection_glyph\":{\"id\":\"c9c7166d-6227-447e-9bfc-6b20a643bc0b\",\"type\":\"VBar\"},\"selection_glyph\":null,\"view\":{\"id\":\"75167d6f-ec09-42d3-999f-6f716b9f1c70\",\"type\":\"CDSView\"}},\"id\":\"90002587-07a5-4378-af0a-9feadd85418c\",\"type\":\"GlyphRenderer\"},{\"attributes\":{},\"id\":\"2d685ae5-c5d7-4593-89a5-e5f873d8da06\",\"type\":\"WheelZoomTool\"},{\"attributes\":{\"callback\":null,\"factors\":[\"1\",\"2\",\"3\",\"4\",\"5\",\"6\",\"7\",\"8\",\"9\",\"10\",\"11\"]},\"id\":\"d9ec18ac-e995-43e6-805a-d48c8d4e8faf\",\"type\":\"FactorRange\"},{\"attributes\":{\"source\":{\"id\":\"cf313cb3-db2f-4278-b19c-3c870b16ade6\",\"type\":\"ColumnDataSource\"}},\"id\":\"088a3227-900b-40cf-b429-0d8c340a7b92\",\"type\":\"CDSView\"},{\"attributes\":{\"overlay\":{\"id\":\"ced3cd3e-67cf-43e4-8235-7cbd96cea426\",\"type\":\"BoxAnnotation\"}},\"id\":\"bbddcf56-c81f-486d-8ead-2e86224800c6\",\"type\":\"BoxZoomTool\"},{\"attributes\":{\"axis_label\":\"spectral band\",\"formatter\":{\"id\":\"ee6bbca3-a22d-4806-8de6-d4a53e43f140\",\"type\":\"CategoricalTickFormatter\"},\"plot\":{\"id\":\"eda11d66-fcd5-4919-a4e0-cfae63eda376\",\"subtype\":\"Figure\",\"type\":\"Plot\"},\"ticker\":{\"id\":\"619fe696-fe06-4baa-b169-7a2125ad75d5\",\"type\":\"CategoricalTicker\"}},\"id\":\"8507d15b-237e-45bc-9563-d158abeef498\",\"type\":\"CategoricalAxis\"},{\"attributes\":{},\"id\":\"4d2d7052-85c5-495a-ae9d-94c898f03ee2\",\"type\":\"SaveTool\"},{\"attributes\":{},\"id\":\"bb4f01be-0e96-4e41-b79b-e848dfddd7f3\",\"type\":\"ResetTool\"},{\"attributes\":{\"below\":[{\"id\":\"8507d15b-237e-45bc-9563-d158abeef498\",\"type\":\"CategoricalAxis\"}],\"left\":[{\"id\":\"9b863e85-01e9-4440-b955-8ede08ac6157\",\"type\":\"LinearAxis\"}],\"plot_height\":300,\"plot_width\":300,\"renderers\":[{\"id\":\"8507d15b-237e-45bc-9563-d158abeef498\",\"type\":\"CategoricalAxis\"},{\"id\":\"7a4ca29f-a795-4c39-b02f-e2539dd2440f\",\"type\":\"Grid\"},{\"id\":\"9b863e85-01e9-4440-b955-8ede08ac6157\",\"type\":\"LinearAxis\"},{\"id\":\"e554ccbd-a3aa-4993-ad25-257b130b026e\",\"type\":\"Grid\"},{\"id\":\"c126f49e-1efd-4ffa-8d41-125ff3e7f24d\",\"type\":\"BoxAnnotation\"},{\"id\":\"1c578650-8b7b-4d4f-8199-d2ba4c543ec3\",\"type\":\"GlyphRenderer\"}],\"title\":{\"id\":\"c93d4865-a83c-4c6a-937e-ca329f0c9b59\",\"type\":\"Title\"},\"toolbar\":{\"id\":\"0013f733-02fc-40d0-bef4-cd18f892f179\",\"type\":\"Toolbar\"},\"toolbar_location\":null,\"x_range\":{\"id\":\"d9ec18ac-e995-43e6-805a-d48c8d4e8faf\",\"type\":\"FactorRange\"},\"x_scale\":{\"id\":\"07335a75-67b7-41e6-b632-59469754cee0\",\"type\":\"CategoricalScale\"},\"y_range\":{\"id\":\"c9252560-2a36-4304-af49-2e54fdcc983e\",\"type\":\"DataRange1d\"},\"y_scale\":{\"id\":\"0f7ca184-30d0-44fd-8dc1-8e65bdac8e02\",\"type\":\"LinearScale\"}},\"id\":\"eda11d66-fcd5-4919-a4e0-cfae63eda376\",\"subtype\":\"Figure\",\"type\":\"Plot\"},{\"attributes\":{},\"id\":\"6635f1cb-323c-42cc-8073-1143fe31e5c3\",\"type\":\"HelpTool\"},{\"attributes\":{},\"id\":\"ee6bbca3-a22d-4806-8de6-d4a53e43f140\",\"type\":\"CategoricalTickFormatter\"},{\"attributes\":{\"fill_color\":{\"value\":\"#1f77b4\"},\"line_color\":{\"value\":\"#1f77b4\"},\"top\":{\"field\":\"flux\"},\"width\":{\"value\":0.9},\"x\":{\"field\":\"band\"}},\"id\":\"82bd2cdb-9f8e-4460-a2db-39414444cf75\",\"type\":\"VBar\"},{\"attributes\":{\"axis_label\":\"flux (W m-2)\",\"formatter\":{\"id\":\"1b938406-79ee-44bd-8793-2d8dd8d21290\",\"type\":\"BasicTickFormatter\"},\"plot\":{\"id\":\"eda11d66-fcd5-4919-a4e0-cfae63eda376\",\"subtype\":\"Figure\",\"type\":\"Plot\"},\"ticker\":{\"id\":\"e67f81ad-0df9-4fe4-9eaa-b0011b6cd5f2\",\"type\":\"BasicTicker\"}},\"id\":\"9b863e85-01e9-4440-b955-8ede08ac6157\",\"type\":\"LinearAxis\"},{\"attributes\":{},\"id\":\"dc10d00e-8538-477a-bc10-9dbbbf158233\",\"type\":\"UnionRenderers\"},{\"attributes\":{},\"id\":\"619fe696-fe06-4baa-b169-7a2125ad75d5\",\"type\":\"CategoricalTicker\"},{\"attributes\":{\"source\":{\"id\":\"fc038423-030c-4ba3-928f-6554131b63c8\",\"type\":\"ColumnDataSource\"}},\"id\":\"75167d6f-ec09-42d3-999f-6f716b9f1c70\",\"type\":\"CDSView\"},{\"attributes\":{\"callback\":null,\"data\":{\"band\":[\"1\",\"2\",\"3\",\"4\",\"5\",\"6\",\"7\",\"8\",\"9\",\"10\",\"11\"],\"flux\":{\"__ndarray__\":\"AKBDzE78yj8ADMdG/UuyPwANfaQozN2/AOD76lVcu79A+kIxgunRvwBvOF5HXd6/AOt5nR2Av78AJp39DxTAv8BAWYld4dS/oNvoGt1ywD+gM4tjK1fDvw==\",\"dtype\":\"float64\",\"shape\":[11]}},\"selected\":{\"id\":\"918c46db-4836-43e8-8b5f-e67f2063f8db\",\"type\":\"Selection\"},\"selection_policy\":{\"id\":\"2e8d22de-7808-4ccc-8f1a-ec3fcb2deb11\",\"type\":\"UnionRenderers\"}},\"id\":\"fc038423-030c-4ba3-928f-6554131b63c8\",\"type\":\"ColumnDataSource\"},{\"attributes\":{\"children\":[{\"id\":\"499b7d30-00bb-43dc-89c0-9827d65cc483\",\"type\":\"Row\"}]},\"id\":\"dd914445-74db-43bc-ac6a-6b37c45b358a\",\"type\":\"Column\"},{\"attributes\":{\"dimension\":1,\"plot\":{\"id\":\"eda11d66-fcd5-4919-a4e0-cfae63eda376\",\"subtype\":\"Figure\",\"type\":\"Plot\"},\"ticker\":{\"id\":\"e67f81ad-0df9-4fe4-9eaa-b0011b6cd5f2\",\"type\":\"BasicTicker\"}},\"id\":\"e554ccbd-a3aa-4993-ad25-257b130b026e\",\"type\":\"Grid\"},{\"attributes\":{\"fill_alpha\":{\"value\":0.1},\"fill_color\":{\"value\":\"#1f77b4\"},\"line_alpha\":{\"value\":0.1},\"line_color\":{\"value\":\"#1f77b4\"},\"top\":{\"field\":\"flux\"},\"width\":{\"value\":0.9},\"x\":{\"field\":\"band\"}},\"id\":\"6a307690-e003-4e42-a3c0-21ac56d70de3\",\"type\":\"VBar\"},{\"attributes\":{},\"id\":\"8ac6c41a-4bf2-4231-890c-e75fc24917c4\",\"type\":\"Selection\"},{\"attributes\":{},\"id\":\"1b938406-79ee-44bd-8793-2d8dd8d21290\",\"type\":\"BasicTickFormatter\"},{\"attributes\":{},\"id\":\"39d1df81-f273-475f-b0b6-5ada0f3329ed\",\"type\":\"BasicTickFormatter\"},{\"attributes\":{\"bottom_units\":\"screen\",\"fill_alpha\":{\"value\":0.5},\"fill_color\":{\"value\":\"lightgrey\"},\"left_units\":\"screen\",\"level\":\"overlay\",\"line_alpha\":{\"value\":1.0},\"line_color\":{\"value\":\"black\"},\"line_dash\":[4,4],\"line_width\":{\"value\":2},\"plot\":null,\"render_mode\":\"css\",\"right_units\":\"screen\",\"top_units\":\"screen\"},\"id\":\"c126f49e-1efd-4ffa-8d41-125ff3e7f24d\",\"type\":\"BoxAnnotation\"},{\"attributes\":{},\"id\":\"69050d80-351c-4dc4-941a-12f0cd3bd9b5\",\"type\":\"PanTool\"},{\"attributes\":{},\"id\":\"1b290110-bd4e-4903-a91a-1983308262a5\",\"type\":\"UnionRenderers\"},{\"attributes\":{\"data_source\":{\"id\":\"4d24f186-a74e-4182-b871-6f66ce81eaa8\",\"type\":\"ColumnDataSource\"},\"glyph\":{\"id\":\"82bd2cdb-9f8e-4460-a2db-39414444cf75\",\"type\":\"VBar\"},\"hover_glyph\":null,\"muted_glyph\":null,\"nonselection_glyph\":{\"id\":\"6a307690-e003-4e42-a3c0-21ac56d70de3\",\"type\":\"VBar\"},\"selection_glyph\":null,\"view\":{\"id\":\"310876f4-6e20-418f-b01d-66dfd7ccec15\",\"type\":\"CDSView\"}},\"id\":\"1c578650-8b7b-4d4f-8199-d2ba4c543ec3\",\"type\":\"GlyphRenderer\"},{\"attributes\":{},\"id\":\"53f3afd7-73b4-4c21-8017-02555d97471b\",\"type\":\"CategoricalTickFormatter\"},{\"attributes\":{},\"id\":\"00dec67f-5732-47bc-92b9-7ec4053fc165\",\"type\":\"WheelZoomTool\"},{\"attributes\":{},\"id\":\"9dc587d3-0401-43b4-90a2-81b6c7be08d0\",\"type\":\"Selection\"},{\"attributes\":{\"overlay\":{\"id\":\"c126f49e-1efd-4ffa-8d41-125ff3e7f24d\",\"type\":\"BoxAnnotation\"}},\"id\":\"4e47971a-8aa4-4e77-842f-ebf7147694db\",\"type\":\"BoxZoomTool\"},{\"attributes\":{\"toolbar\":{\"id\":\"0b266d05-888e-4d10-8628-907f377d451f\",\"type\":\"ProxyToolbar\"},\"toolbar_location\":\"above\"},\"id\":\"5d1236b8-6f02-41b9-b19c-0a476f37c7e2\",\"type\":\"ToolbarBox\"},{\"attributes\":{},\"id\":\"a458e9e3-7a0e-406a-ae15-ff25d6bda27e\",\"type\":\"SaveTool\"},{\"attributes\":{},\"id\":\"2e8d22de-7808-4ccc-8f1a-ec3fcb2deb11\",\"type\":\"UnionRenderers\"},{\"attributes\":{},\"id\":\"d58be16e-8f71-4fa0-a8ae-5ab8bdf0decc\",\"type\":\"ResetTool\"},{\"attributes\":{\"children\":[{\"id\":\"5d1236b8-6f02-41b9-b19c-0a476f37c7e2\",\"type\":\"ToolbarBox\"},{\"id\":\"dd914445-74db-43bc-ac6a-6b37c45b358a\",\"type\":\"Column\"}]},\"id\":\"e5ec0cb0-71e9-437c-8e72-7181e8ac48be\",\"type\":\"Column\"},{\"attributes\":{},\"id\":\"249d17df-b850-4fdd-8707-9ef1699c885c\",\"type\":\"HelpTool\"},{\"attributes\":{},\"id\":\"918c46db-4836-43e8-8b5f-e67f2063f8db\",\"type\":\"Selection\"},{\"attributes\":{\"tools\":[{\"id\":\"3ea4f35b-bdd4-49bd-98a5-16158322a43e\",\"type\":\"PanTool\"},{\"id\":\"0f567efe-a37e-4053-9727-8704ad1e5ced\",\"type\":\"WheelZoomTool\"},{\"id\":\"5c6a2808-868b-49af-ab43-e7d8ae9883c6\",\"type\":\"BoxZoomTool\"},{\"id\":\"92ea89d0-fb8e-4b55-9ca9-7da961e2233c\",\"type\":\"SaveTool\"},{\"id\":\"509ba4c2-29c7-48a0-9bea-519399e1c40e\",\"type\":\"ResetTool\"},{\"id\":\"3455928b-ae2f-46a5-acf6-575f2e3d35ec\",\"type\":\"HelpTool\"},{\"id\":\"69050d80-351c-4dc4-941a-12f0cd3bd9b5\",\"type\":\"PanTool\"},{\"id\":\"00dec67f-5732-47bc-92b9-7ec4053fc165\",\"type\":\"WheelZoomTool\"},{\"id\":\"4e47971a-8aa4-4e77-842f-ebf7147694db\",\"type\":\"BoxZoomTool\"},{\"id\":\"a458e9e3-7a0e-406a-ae15-ff25d6bda27e\",\"type\":\"SaveTool\"},{\"id\":\"d58be16e-8f71-4fa0-a8ae-5ab8bdf0decc\",\"type\":\"ResetTool\"},{\"id\":\"249d17df-b850-4fdd-8707-9ef1699c885c\",\"type\":\"HelpTool\"},{\"id\":\"2d2f39d1-6a37-4877-9979-c2c0c0bbe46f\",\"type\":\"PanTool\"},{\"id\":\"2d685ae5-c5d7-4593-89a5-e5f873d8da06\",\"type\":\"WheelZoomTool\"},{\"id\":\"bbddcf56-c81f-486d-8ead-2e86224800c6\",\"type\":\"BoxZoomTool\"},{\"id\":\"4d2d7052-85c5-495a-ae9d-94c898f03ee2\",\"type\":\"SaveTool\"},{\"id\":\"bb4f01be-0e96-4e41-b79b-e848dfddd7f3\",\"type\":\"ResetTool\"},{\"id\":\"6635f1cb-323c-42cc-8073-1143fe31e5c3\",\"type\":\"HelpTool\"}]},\"id\":\"0b266d05-888e-4d10-8628-907f377d451f\",\"type\":\"ProxyToolbar\"},{\"attributes\":{\"source\":{\"id\":\"4d24f186-a74e-4182-b871-6f66ce81eaa8\",\"type\":\"ColumnDataSource\"}},\"id\":\"310876f4-6e20-418f-b01d-66dfd7ccec15\",\"type\":\"CDSView\"},{\"attributes\":{\"below\":[{\"id\":\"de00f5a2-084e-4ec4-96ef-44108e2ba91b\",\"type\":\"CategoricalAxis\"}],\"left\":[{\"id\":\"86f7b15c-1c75-4873-8f9a-8ba31faf32cc\",\"type\":\"LinearAxis\"}],\"plot_height\":300,\"plot_width\":300,\"renderers\":[{\"id\":\"de00f5a2-084e-4ec4-96ef-44108e2ba91b\",\"type\":\"CategoricalAxis\"},{\"id\":\"a063cd46-8ed9-4397-b697-6181ff887e13\",\"type\":\"Grid\"},{\"id\":\"86f7b15c-1c75-4873-8f9a-8ba31faf32cc\",\"type\":\"LinearAxis\"},{\"id\":\"f2e9d0b5-ec0f-495f-8fa4-1db01ddb4d5d\",\"type\":\"Grid\"},{\"id\":\"ced3cd3e-67cf-43e4-8235-7cbd96cea426\",\"type\":\"BoxAnnotation\"},{\"id\":\"90002587-07a5-4378-af0a-9feadd85418c\",\"type\":\"GlyphRenderer\"}],\"title\":{\"id\":\"48646427-dbbc-4292-a4e0-da40c0a7c7d8\",\"type\":\"Title\"},\"toolbar\":{\"id\":\"c613fc6d-9ad5-4f67-b4a0-963a46542553\",\"type\":\"Toolbar\"},\"toolbar_location\":null,\"x_range\":{\"id\":\"835367be-9461-424f-bb6d-4da28f64d1ee\",\"type\":\"FactorRange\"},\"x_scale\":{\"id\":\"b9c9286f-a7d2-4dfe-adbc-e6279c0d8b1b\",\"type\":\"CategoricalScale\"},\"y_range\":{\"id\":\"b92b1842-bd0e-4073-8a0f-d6b0af5aa625\",\"type\":\"DataRange1d\"},\"y_scale\":{\"id\":\"23fe5a69-f283-4292-8458-883834d0c83d\",\"type\":\"LinearScale\"}},\"id\":\"5b429103-de76-436b-a4c8-d7892ce9775e\",\"subtype\":\"Figure\",\"type\":\"Plot\"},{\"attributes\":{\"below\":[{\"id\":\"6562010f-eb39-4c2a-a372-bd4a86122144\",\"type\":\"CategoricalAxis\"}],\"left\":[{\"id\":\"545c79be-4756-4031-bbb1-fe9d6d54bb4a\",\"type\":\"LinearAxis\"}],\"plot_height\":300,\"plot_width\":300,\"renderers\":[{\"id\":\"6562010f-eb39-4c2a-a372-bd4a86122144\",\"type\":\"CategoricalAxis\"},{\"id\":\"4e90e38e-d848-432c-8f3e-7ada2e7fd7f4\",\"type\":\"Grid\"},{\"id\":\"545c79be-4756-4031-bbb1-fe9d6d54bb4a\",\"type\":\"LinearAxis\"},{\"id\":\"8fb61ac4-de19-42e8-9ae6-f9fe90f06cab\",\"type\":\"Grid\"},{\"id\":\"314218e4-026d-4fef-9400-f1bb416ec6e0\",\"type\":\"BoxAnnotation\"},{\"id\":\"2163f550-ce7d-4cbc-9889-de9e675c9abb\",\"type\":\"GlyphRenderer\"}],\"title\":{\"id\":\"a2fd82e3-1a5c-415b-a7ad-edcae8d2ea9b\",\"type\":\"Title\"},\"toolbar\":{\"id\":\"f0593e4e-1cc8-4042-95f6-617fa336c574\",\"type\":\"Toolbar\"},\"toolbar_location\":null,\"x_range\":{\"id\":\"b9087ee2-81a6-4c31-9f8c-6a572e4320e3\",\"type\":\"FactorRange\"},\"x_scale\":{\"id\":\"3ede361d-7dee-46c5-96c6-6ea125718847\",\"type\":\"CategoricalScale\"},\"y_range\":{\"id\":\"f47c1b29-b6b9-46a7-a7e3-d118b85e8dd8\",\"type\":\"DataRange1d\"},\"y_scale\":{\"id\":\"07bccc2a-63f6-4767-bd78-a3c27980b5e5\",\"type\":\"LinearScale\"}},\"id\":\"847c3329-b008-4c6a-b3db-f4e73c1616c5\",\"subtype\":\"Figure\",\"type\":\"Plot\"}],\"root_ids\":[\"e5ec0cb0-71e9-437c-8e72-7181e8ac48be\"]},\"title\":\"Bokeh Application\",\"version\":\"0.12.16\"}};\n",
       "  var render_items = [{\"docid\":\"df383b9f-ffac-480e-9b50-11eb45a4305c\",\"elementid\":\"85179e37-1e4f-4d56-adce-bd694d212907\",\"modelid\":\"e5ec0cb0-71e9-437c-8e72-7181e8ac48be\"}];\n",
       "  root.Bokeh.embed.embed_items_notebook(docs_json, render_items);\n",
       "\n",
       "  }\n",
       "  if (root.Bokeh !== undefined) {\n",
       "    embed_document(root);\n",
       "  } else {\n",
       "    var attempts = 0;\n",
       "    var timer = setInterval(function(root) {\n",
       "      if (root.Bokeh !== undefined) {\n",
       "        embed_document(root);\n",
       "        clearInterval(timer);\n",
       "      }\n",
       "      attempts++;\n",
       "      if (attempts > 100) {\n",
       "        console.log(\"Bokeh: ERROR: Unable to run BokehJS code because BokehJS library is missing\")\n",
       "        clearInterval(timer);\n",
       "      }\n",
       "    }, 10, root)\n",
       "  }\n",
       "})(window);"
      ],
      "application/vnd.bokehjs_exec.v0+json": ""
     },
     "metadata": {
      "application/vnd.bokehjs_exec.v0+json": {
       "id": "e5ec0cb0-71e9-437c-8e72-7181e8ac48be"
      }
     },
     "output_type": "display_data"
    },
    {
     "data": {
      "text/markdown": [
       "*FIGURE.* Difference between CLIRAD and CRD in TOA, SFC and net atmosphere flux, in each spectral band."
      ],
      "text/plain": [
       "<IPython.core.display.Markdown object>"
      ]
     },
     "metadata": {},
     "output_type": "display_data"
    },
    {
     "data": {
      "text/html": [
       "<div>\n",
       "<style scoped>\n",
       "    .dataframe tbody tr th:only-of-type {\n",
       "        vertical-align: middle;\n",
       "    }\n",
       "\n",
       "    .dataframe tbody tr th {\n",
       "        vertical-align: top;\n",
       "    }\n",
       "\n",
       "    .dataframe thead th {\n",
       "        text-align: right;\n",
       "    }\n",
       "</style>\n",
       "<table border=\"1\" class=\"dataframe\">\n",
       "  <thead>\n",
       "    <tr style=\"text-align: right;\">\n",
       "      <th></th>\n",
       "      <th>OLR flux</th>\n",
       "      <th>SFC flux</th>\n",
       "      <th>ATM heating</th>\n",
       "    </tr>\n",
       "    <tr>\n",
       "      <th>Sum over bands</th>\n",
       "      <th></th>\n",
       "      <th></th>\n",
       "      <th></th>\n",
       "    </tr>\n",
       "  </thead>\n",
       "  <tbody>\n",
       "    <tr>\n",
       "      <th>CLIRAD - CRD</th>\n",
       "      <td>0.36</td>\n",
       "      <td>2.00</td>\n",
       "      <td>-1.64</td>\n",
       "    </tr>\n",
       "    <tr>\n",
       "      <th>CRD</th>\n",
       "      <td>-351.98</td>\n",
       "      <td>305.47</td>\n",
       "      <td>-198.18</td>\n",
       "    </tr>\n",
       "  </tbody>\n",
       "</table>\n",
       "</div>"
      ],
      "text/plain": [
       "                OLR flux  SFC flux  ATM heating\n",
       "Sum over bands                                 \n",
       "CLIRAD - CRD        0.36      2.00        -1.64\n",
       "CRD              -351.98    305.47      -198.18"
      ]
     },
     "metadata": {},
     "output_type": "display_data"
    },
    {
     "data": {
      "text/markdown": [
       "*TABLE.* Difference between CLIRAD and CRD in TOA, SFC and net atmosphere flux, over all spectral bands. CRD's TOA, SFC and net atmosphere flux, over all spectral bands."
      ],
      "text/plain": [
       "<IPython.core.display.Markdown object>"
      ]
     },
     "metadata": {},
     "output_type": "display_data"
    }
   ],
   "source": [
    "script()"
   ]
  },
  {
   "cell_type": "markdown",
   "metadata": {},
   "source": [
    "## --"
   ]
  },
  {
   "cell_type": "code",
   "execution_count": 27,
   "metadata": {},
   "outputs": [
    {
     "data": {
      "text/html": [
       "<script>\n",
       "code_show=true; \n",
       "function code_toggle() {\n",
       " if (code_show){\n",
       " $('div.input').hide();\n",
       " } else {\n",
       " $('div.input').show();\n",
       " }\n",
       " code_show = !code_show\n",
       "} \n",
       "$( document ).ready(code_toggle);\n",
       "</script>\n",
       "<form action=\"javascript:code_toggle()\"><input type=\"submit\" value=\"Click here to toggle on/off the raw code.\"></form>"
      ],
      "text/plain": [
       "<IPython.core.display.HTML object>"
      ]
     },
     "execution_count": 27,
     "metadata": {},
     "output_type": "execute_result"
    }
   ],
   "source": [
    "display.HTML('''<script>\n",
    "code_show=true; \n",
    "function code_toggle() {\n",
    " if (code_show){\n",
    " $('div.input').hide();\n",
    " } else {\n",
    " $('div.input').show();\n",
    " }\n",
    " code_show = !code_show\n",
    "} \n",
    "$( document ).ready(code_toggle);\n",
    "</script>\n",
    "<form action=\"javascript:code_toggle()\"><input type=\"submit\" value=\"Click here to toggle on/off the raw code.\"></form>''')"
   ]
  },
  {
   "cell_type": "code",
   "execution_count": null,
   "metadata": {
    "collapsed": true
   },
   "outputs": [],
   "source": []
  }
 ],
 "metadata": {
  "kernelspec": {
   "display_name": "Python 3",
   "language": "python",
   "name": "python3"
  },
  "language_info": {
   "codemirror_mode": {
    "name": "ipython",
    "version": 3
   },
   "file_extension": ".py",
   "mimetype": "text/x-python",
   "name": "python",
   "nbconvert_exporter": "python",
   "pygments_lexer": "ipython3",
   "version": "3.6.7"
  }
 },
 "nbformat": 4,
 "nbformat_minor": 2
}
