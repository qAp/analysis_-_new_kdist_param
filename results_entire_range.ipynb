{
 "cells": [
  {
   "cell_type": "code",
   "execution_count": 732,
   "metadata": {
    "collapsed": true
   },
   "outputs": [],
   "source": [
    "import os\n",
    "import ast\n",
    "import json\n",
    "import importlib \n",
    "import itertools\n",
    "import collections\n",
    "import pprint\n",
    "\n",
    "from bokeh.io import output_notebook, show\n",
    "from bokeh.layouts import gridplot\n",
    "from bokeh.plotting import figure\n",
    "from bokeh.models import Range1d, Legend, ColumnDataSource\n",
    "from bokeh.palettes import all_palettes\n",
    "\n",
    "import matplotlib\n",
    "import matplotlib.pyplot as plt\n",
    "import numpy as np\n",
    "import pandas as pd\n",
    "import xarray as xr\n",
    "\n",
    "\n",
    "import climatools.lblnew.bestfit_params as bestfits\n",
    "from climatools.lblnew import setup_bestfit, setup_overlap\n",
    "import climatools.lblnew.pipeline as pipe_lblnew\n",
    "import climatools.cliradlw.setup as setup_cliradlw\n",
    "import climatools.cliradlw.pipeline as pipe_cliradlw\n",
    "\n",
    "import climatools.html.html as climahtml\n",
    "from climatools.lblnew.dataio import *\n",
    "from climatools.plot.plot import *\n",
    "\n",
    "\n",
    "from IPython import display\n",
    "\n",
    "#importlib.reload(bestfits)\n",
    "#importlib.reload(setup_bestfit)\n",
    "#importlib.reload(setup_overlap)\n",
    "#importlib.reload(pipe_lblnew)\n",
    "#importlib.reload(setup_cliradlw)\n",
    "#importlib.reload(pipe_cliradlw)"
   ]
  },
  {
   "cell_type": "code",
   "execution_count": 733,
   "metadata": {},
   "outputs": [
    {
     "data": {
      "text/html": [
       "\n",
       "    <div class=\"bk-root\">\n",
       "        <a href=\"https://bokeh.pydata.org\" target=\"_blank\" class=\"bk-logo bk-logo-small bk-logo-notebook\"></a>\n",
       "        <span id=\"5a5c6f06-264a-4abc-a168-0cfdeee840be\">Loading BokehJS ...</span>\n",
       "    </div>"
      ]
     },
     "metadata": {},
     "output_type": "display_data"
    },
    {
     "data": {
      "application/javascript": [
       "\n",
       "(function(root) {\n",
       "  function now() {\n",
       "    return new Date();\n",
       "  }\n",
       "\n",
       "  var force = true;\n",
       "\n",
       "  if (typeof (root._bokeh_onload_callbacks) === \"undefined\" || force === true) {\n",
       "    root._bokeh_onload_callbacks = [];\n",
       "    root._bokeh_is_loading = undefined;\n",
       "  }\n",
       "\n",
       "  var JS_MIME_TYPE = 'application/javascript';\n",
       "  var HTML_MIME_TYPE = 'text/html';\n",
       "  var EXEC_MIME_TYPE = 'application/vnd.bokehjs_exec.v0+json';\n",
       "  var CLASS_NAME = 'output_bokeh rendered_html';\n",
       "\n",
       "  /**\n",
       "   * Render data to the DOM node\n",
       "   */\n",
       "  function render(props, node) {\n",
       "    var script = document.createElement(\"script\");\n",
       "    node.appendChild(script);\n",
       "  }\n",
       "\n",
       "  /**\n",
       "   * Handle when an output is cleared or removed\n",
       "   */\n",
       "  function handleClearOutput(event, handle) {\n",
       "    var cell = handle.cell;\n",
       "\n",
       "    var id = cell.output_area._bokeh_element_id;\n",
       "    var server_id = cell.output_area._bokeh_server_id;\n",
       "    // Clean up Bokeh references\n",
       "    if (id !== undefined) {\n",
       "      Bokeh.index[id].model.document.clear();\n",
       "      delete Bokeh.index[id];\n",
       "    }\n",
       "\n",
       "    if (server_id !== undefined) {\n",
       "      // Clean up Bokeh references\n",
       "      var cmd = \"from bokeh.io.state import curstate; print(curstate().uuid_to_server['\" + server_id + \"'].get_sessions()[0].document.roots[0]._id)\";\n",
       "      cell.notebook.kernel.execute(cmd, {\n",
       "        iopub: {\n",
       "          output: function(msg) {\n",
       "            var element_id = msg.content.text.trim();\n",
       "            Bokeh.index[element_id].model.document.clear();\n",
       "            delete Bokeh.index[element_id];\n",
       "          }\n",
       "        }\n",
       "      });\n",
       "      // Destroy server and session\n",
       "      var cmd = \"import bokeh.io.notebook as ion; ion.destroy_server('\" + server_id + \"')\";\n",
       "      cell.notebook.kernel.execute(cmd);\n",
       "    }\n",
       "  }\n",
       "\n",
       "  /**\n",
       "   * Handle when a new output is added\n",
       "   */\n",
       "  function handleAddOutput(event, handle) {\n",
       "    var output_area = handle.output_area;\n",
       "    var output = handle.output;\n",
       "\n",
       "    // limit handleAddOutput to display_data with EXEC_MIME_TYPE content only\n",
       "    if ((output.output_type != \"display_data\") || (!output.data.hasOwnProperty(EXEC_MIME_TYPE))) {\n",
       "      return\n",
       "    }\n",
       "\n",
       "    var toinsert = output_area.element.find(\".\" + CLASS_NAME.split(' ')[0]);\n",
       "\n",
       "    if (output.metadata[EXEC_MIME_TYPE][\"id\"] !== undefined) {\n",
       "      toinsert[toinsert.length - 1].firstChild.textContent = output.data[JS_MIME_TYPE];\n",
       "      // store reference to embed id on output_area\n",
       "      output_area._bokeh_element_id = output.metadata[EXEC_MIME_TYPE][\"id\"];\n",
       "    }\n",
       "    if (output.metadata[EXEC_MIME_TYPE][\"server_id\"] !== undefined) {\n",
       "      var bk_div = document.createElement(\"div\");\n",
       "      bk_div.innerHTML = output.data[HTML_MIME_TYPE];\n",
       "      var script_attrs = bk_div.children[0].attributes;\n",
       "      for (var i = 0; i < script_attrs.length; i++) {\n",
       "        toinsert[toinsert.length - 1].firstChild.setAttribute(script_attrs[i].name, script_attrs[i].value);\n",
       "      }\n",
       "      // store reference to server id on output_area\n",
       "      output_area._bokeh_server_id = output.metadata[EXEC_MIME_TYPE][\"server_id\"];\n",
       "    }\n",
       "  }\n",
       "\n",
       "  function register_renderer(events, OutputArea) {\n",
       "\n",
       "    function append_mime(data, metadata, element) {\n",
       "      // create a DOM node to render to\n",
       "      var toinsert = this.create_output_subarea(\n",
       "        metadata,\n",
       "        CLASS_NAME,\n",
       "        EXEC_MIME_TYPE\n",
       "      );\n",
       "      this.keyboard_manager.register_events(toinsert);\n",
       "      // Render to node\n",
       "      var props = {data: data, metadata: metadata[EXEC_MIME_TYPE]};\n",
       "      render(props, toinsert[toinsert.length - 1]);\n",
       "      element.append(toinsert);\n",
       "      return toinsert\n",
       "    }\n",
       "\n",
       "    /* Handle when an output is cleared or removed */\n",
       "    events.on('clear_output.CodeCell', handleClearOutput);\n",
       "    events.on('delete.Cell', handleClearOutput);\n",
       "\n",
       "    /* Handle when a new output is added */\n",
       "    events.on('output_added.OutputArea', handleAddOutput);\n",
       "\n",
       "    /**\n",
       "     * Register the mime type and append_mime function with output_area\n",
       "     */\n",
       "    OutputArea.prototype.register_mime_type(EXEC_MIME_TYPE, append_mime, {\n",
       "      /* Is output safe? */\n",
       "      safe: true,\n",
       "      /* Index of renderer in `output_area.display_order` */\n",
       "      index: 0\n",
       "    });\n",
       "  }\n",
       "\n",
       "  // register the mime type if in Jupyter Notebook environment and previously unregistered\n",
       "  if (root.Jupyter !== undefined) {\n",
       "    var events = require('base/js/events');\n",
       "    var OutputArea = require('notebook/js/outputarea').OutputArea;\n",
       "\n",
       "    if (OutputArea.prototype.mime_types().indexOf(EXEC_MIME_TYPE) == -1) {\n",
       "      register_renderer(events, OutputArea);\n",
       "    }\n",
       "  }\n",
       "\n",
       "  \n",
       "  if (typeof (root._bokeh_timeout) === \"undefined\" || force === true) {\n",
       "    root._bokeh_timeout = Date.now() + 5000;\n",
       "    root._bokeh_failed_load = false;\n",
       "  }\n",
       "\n",
       "  var NB_LOAD_WARNING = {'data': {'text/html':\n",
       "     \"<div style='background-color: #fdd'>\\n\"+\n",
       "     \"<p>\\n\"+\n",
       "     \"BokehJS does not appear to have successfully loaded. If loading BokehJS from CDN, this \\n\"+\n",
       "     \"may be due to a slow or bad network connection. Possible fixes:\\n\"+\n",
       "     \"</p>\\n\"+\n",
       "     \"<ul>\\n\"+\n",
       "     \"<li>re-rerun `output_notebook()` to attempt to load from CDN again, or</li>\\n\"+\n",
       "     \"<li>use INLINE resources instead, as so:</li>\\n\"+\n",
       "     \"</ul>\\n\"+\n",
       "     \"<code>\\n\"+\n",
       "     \"from bokeh.resources import INLINE\\n\"+\n",
       "     \"output_notebook(resources=INLINE)\\n\"+\n",
       "     \"</code>\\n\"+\n",
       "     \"</div>\"}};\n",
       "\n",
       "  function display_loaded() {\n",
       "    var el = document.getElementById(\"5a5c6f06-264a-4abc-a168-0cfdeee840be\");\n",
       "    if (el != null) {\n",
       "      el.textContent = \"BokehJS is loading...\";\n",
       "    }\n",
       "    if (root.Bokeh !== undefined) {\n",
       "      if (el != null) {\n",
       "        el.textContent = \"BokehJS \" + root.Bokeh.version + \" successfully loaded.\";\n",
       "      }\n",
       "    } else if (Date.now() < root._bokeh_timeout) {\n",
       "      setTimeout(display_loaded, 100)\n",
       "    }\n",
       "  }\n",
       "\n",
       "\n",
       "  function run_callbacks() {\n",
       "    try {\n",
       "      root._bokeh_onload_callbacks.forEach(function(callback) { callback() });\n",
       "    }\n",
       "    finally {\n",
       "      delete root._bokeh_onload_callbacks\n",
       "    }\n",
       "    console.info(\"Bokeh: all callbacks have finished\");\n",
       "  }\n",
       "\n",
       "  function load_libs(js_urls, callback) {\n",
       "    root._bokeh_onload_callbacks.push(callback);\n",
       "    if (root._bokeh_is_loading > 0) {\n",
       "      console.log(\"Bokeh: BokehJS is being loaded, scheduling callback at\", now());\n",
       "      return null;\n",
       "    }\n",
       "    if (js_urls == null || js_urls.length === 0) {\n",
       "      run_callbacks();\n",
       "      return null;\n",
       "    }\n",
       "    console.log(\"Bokeh: BokehJS not loaded, scheduling load and callback at\", now());\n",
       "    root._bokeh_is_loading = js_urls.length;\n",
       "    for (var i = 0; i < js_urls.length; i++) {\n",
       "      var url = js_urls[i];\n",
       "      var s = document.createElement('script');\n",
       "      s.src = url;\n",
       "      s.async = false;\n",
       "      s.onreadystatechange = s.onload = function() {\n",
       "        root._bokeh_is_loading--;\n",
       "        if (root._bokeh_is_loading === 0) {\n",
       "          console.log(\"Bokeh: all BokehJS libraries loaded\");\n",
       "          run_callbacks()\n",
       "        }\n",
       "      };\n",
       "      s.onerror = function() {\n",
       "        console.warn(\"failed to load library \" + url);\n",
       "      };\n",
       "      console.log(\"Bokeh: injecting script tag for BokehJS library: \", url);\n",
       "      document.getElementsByTagName(\"head\")[0].appendChild(s);\n",
       "    }\n",
       "  };var element = document.getElementById(\"5a5c6f06-264a-4abc-a168-0cfdeee840be\");\n",
       "  if (element == null) {\n",
       "    console.log(\"Bokeh: ERROR: autoload.js configured with elementid '5a5c6f06-264a-4abc-a168-0cfdeee840be' but no matching script tag was found. \")\n",
       "    return false;\n",
       "  }\n",
       "\n",
       "  var js_urls = [\"https://cdn.pydata.org/bokeh/release/bokeh-0.12.16.min.js\", \"https://cdn.pydata.org/bokeh/release/bokeh-widgets-0.12.16.min.js\", \"https://cdn.pydata.org/bokeh/release/bokeh-tables-0.12.16.min.js\", \"https://cdn.pydata.org/bokeh/release/bokeh-gl-0.12.16.min.js\"];\n",
       "\n",
       "  var inline_js = [\n",
       "    function(Bokeh) {\n",
       "      Bokeh.set_log_level(\"info\");\n",
       "    },\n",
       "    \n",
       "    function(Bokeh) {\n",
       "      \n",
       "    },\n",
       "    function(Bokeh) {\n",
       "      console.log(\"Bokeh: injecting CSS: https://cdn.pydata.org/bokeh/release/bokeh-0.12.16.min.css\");\n",
       "      Bokeh.embed.inject_css(\"https://cdn.pydata.org/bokeh/release/bokeh-0.12.16.min.css\");\n",
       "      console.log(\"Bokeh: injecting CSS: https://cdn.pydata.org/bokeh/release/bokeh-widgets-0.12.16.min.css\");\n",
       "      Bokeh.embed.inject_css(\"https://cdn.pydata.org/bokeh/release/bokeh-widgets-0.12.16.min.css\");\n",
       "      console.log(\"Bokeh: injecting CSS: https://cdn.pydata.org/bokeh/release/bokeh-tables-0.12.16.min.css\");\n",
       "      Bokeh.embed.inject_css(\"https://cdn.pydata.org/bokeh/release/bokeh-tables-0.12.16.min.css\");\n",
       "    }\n",
       "  ];\n",
       "\n",
       "  function run_inline_js() {\n",
       "    \n",
       "    if ((root.Bokeh !== undefined) || (force === true)) {\n",
       "      for (var i = 0; i < inline_js.length; i++) {\n",
       "        inline_js[i].call(root, root.Bokeh);\n",
       "      }if (force === true) {\n",
       "        display_loaded();\n",
       "      }} else if (Date.now() < root._bokeh_timeout) {\n",
       "      setTimeout(run_inline_js, 100);\n",
       "    } else if (!root._bokeh_failed_load) {\n",
       "      console.log(\"Bokeh: BokehJS failed to load within specified timeout.\");\n",
       "      root._bokeh_failed_load = true;\n",
       "    } else if (force !== true) {\n",
       "      var cell = $(document.getElementById(\"5a5c6f06-264a-4abc-a168-0cfdeee840be\")).parents('.cell').data().cell;\n",
       "      cell.output_area.append_execute_result(NB_LOAD_WARNING)\n",
       "    }\n",
       "\n",
       "  }\n",
       "\n",
       "  if (root._bokeh_is_loading === 0) {\n",
       "    console.log(\"Bokeh: BokehJS loaded, going straight to plotting\");\n",
       "    run_inline_js();\n",
       "  } else {\n",
       "    load_libs(js_urls, function() {\n",
       "      console.log(\"Bokeh: BokehJS plotting callback run at\", now());\n",
       "      run_inline_js();\n",
       "    });\n",
       "  }\n",
       "}(window));"
      ],
      "application/vnd.bokehjs_load.v0+json": "\n(function(root) {\n  function now() {\n    return new Date();\n  }\n\n  var force = true;\n\n  if (typeof (root._bokeh_onload_callbacks) === \"undefined\" || force === true) {\n    root._bokeh_onload_callbacks = [];\n    root._bokeh_is_loading = undefined;\n  }\n\n  \n\n  \n  if (typeof (root._bokeh_timeout) === \"undefined\" || force === true) {\n    root._bokeh_timeout = Date.now() + 5000;\n    root._bokeh_failed_load = false;\n  }\n\n  var NB_LOAD_WARNING = {'data': {'text/html':\n     \"<div style='background-color: #fdd'>\\n\"+\n     \"<p>\\n\"+\n     \"BokehJS does not appear to have successfully loaded. If loading BokehJS from CDN, this \\n\"+\n     \"may be due to a slow or bad network connection. Possible fixes:\\n\"+\n     \"</p>\\n\"+\n     \"<ul>\\n\"+\n     \"<li>re-rerun `output_notebook()` to attempt to load from CDN again, or</li>\\n\"+\n     \"<li>use INLINE resources instead, as so:</li>\\n\"+\n     \"</ul>\\n\"+\n     \"<code>\\n\"+\n     \"from bokeh.resources import INLINE\\n\"+\n     \"output_notebook(resources=INLINE)\\n\"+\n     \"</code>\\n\"+\n     \"</div>\"}};\n\n  function display_loaded() {\n    var el = document.getElementById(\"5a5c6f06-264a-4abc-a168-0cfdeee840be\");\n    if (el != null) {\n      el.textContent = \"BokehJS is loading...\";\n    }\n    if (root.Bokeh !== undefined) {\n      if (el != null) {\n        el.textContent = \"BokehJS \" + root.Bokeh.version + \" successfully loaded.\";\n      }\n    } else if (Date.now() < root._bokeh_timeout) {\n      setTimeout(display_loaded, 100)\n    }\n  }\n\n\n  function run_callbacks() {\n    try {\n      root._bokeh_onload_callbacks.forEach(function(callback) { callback() });\n    }\n    finally {\n      delete root._bokeh_onload_callbacks\n    }\n    console.info(\"Bokeh: all callbacks have finished\");\n  }\n\n  function load_libs(js_urls, callback) {\n    root._bokeh_onload_callbacks.push(callback);\n    if (root._bokeh_is_loading > 0) {\n      console.log(\"Bokeh: BokehJS is being loaded, scheduling callback at\", now());\n      return null;\n    }\n    if (js_urls == null || js_urls.length === 0) {\n      run_callbacks();\n      return null;\n    }\n    console.log(\"Bokeh: BokehJS not loaded, scheduling load and callback at\", now());\n    root._bokeh_is_loading = js_urls.length;\n    for (var i = 0; i < js_urls.length; i++) {\n      var url = js_urls[i];\n      var s = document.createElement('script');\n      s.src = url;\n      s.async = false;\n      s.onreadystatechange = s.onload = function() {\n        root._bokeh_is_loading--;\n        if (root._bokeh_is_loading === 0) {\n          console.log(\"Bokeh: all BokehJS libraries loaded\");\n          run_callbacks()\n        }\n      };\n      s.onerror = function() {\n        console.warn(\"failed to load library \" + url);\n      };\n      console.log(\"Bokeh: injecting script tag for BokehJS library: \", url);\n      document.getElementsByTagName(\"head\")[0].appendChild(s);\n    }\n  };var element = document.getElementById(\"5a5c6f06-264a-4abc-a168-0cfdeee840be\");\n  if (element == null) {\n    console.log(\"Bokeh: ERROR: autoload.js configured with elementid '5a5c6f06-264a-4abc-a168-0cfdeee840be' but no matching script tag was found. \")\n    return false;\n  }\n\n  var js_urls = [\"https://cdn.pydata.org/bokeh/release/bokeh-0.12.16.min.js\", \"https://cdn.pydata.org/bokeh/release/bokeh-widgets-0.12.16.min.js\", \"https://cdn.pydata.org/bokeh/release/bokeh-tables-0.12.16.min.js\", \"https://cdn.pydata.org/bokeh/release/bokeh-gl-0.12.16.min.js\"];\n\n  var inline_js = [\n    function(Bokeh) {\n      Bokeh.set_log_level(\"info\");\n    },\n    \n    function(Bokeh) {\n      \n    },\n    function(Bokeh) {\n      console.log(\"Bokeh: injecting CSS: https://cdn.pydata.org/bokeh/release/bokeh-0.12.16.min.css\");\n      Bokeh.embed.inject_css(\"https://cdn.pydata.org/bokeh/release/bokeh-0.12.16.min.css\");\n      console.log(\"Bokeh: injecting CSS: https://cdn.pydata.org/bokeh/release/bokeh-widgets-0.12.16.min.css\");\n      Bokeh.embed.inject_css(\"https://cdn.pydata.org/bokeh/release/bokeh-widgets-0.12.16.min.css\");\n      console.log(\"Bokeh: injecting CSS: https://cdn.pydata.org/bokeh/release/bokeh-tables-0.12.16.min.css\");\n      Bokeh.embed.inject_css(\"https://cdn.pydata.org/bokeh/release/bokeh-tables-0.12.16.min.css\");\n    }\n  ];\n\n  function run_inline_js() {\n    \n    if ((root.Bokeh !== undefined) || (force === true)) {\n      for (var i = 0; i < inline_js.length; i++) {\n        inline_js[i].call(root, root.Bokeh);\n      }if (force === true) {\n        display_loaded();\n      }} else if (Date.now() < root._bokeh_timeout) {\n      setTimeout(run_inline_js, 100);\n    } else if (!root._bokeh_failed_load) {\n      console.log(\"Bokeh: BokehJS failed to load within specified timeout.\");\n      root._bokeh_failed_load = true;\n    } else if (force !== true) {\n      var cell = $(document.getElementById(\"5a5c6f06-264a-4abc-a168-0cfdeee840be\")).parents('.cell').data().cell;\n      cell.output_area.append_execute_result(NB_LOAD_WARNING)\n    }\n\n  }\n\n  if (root._bokeh_is_loading === 0) {\n    console.log(\"Bokeh: BokehJS loaded, going straight to plotting\");\n    run_inline_js();\n  } else {\n    load_libs(js_urls, function() {\n      console.log(\"Bokeh: BokehJS plotting callback run at\", now());\n      run_inline_js();\n    });\n  }\n}(window));"
     },
     "metadata": {},
     "output_type": "display_data"
    }
   ],
   "source": [
    "output_notebook()"
   ]
  },
  {
   "cell_type": "code",
   "execution_count": 734,
   "metadata": {
    "collapsed": true
   },
   "outputs": [],
   "source": [
    "'''\n",
    "Get the clirad-lw and lblnew `param`s for all spectral bands.  \n",
    "These are returned by functions `clirad_params_atm` and\n",
    "`lblnew_params_atm`, respectively.\n",
    "'''\n",
    "\n",
    "def molecules_byband_atm():\n",
    "    return {1: {'h2o': 'atmpro'},\n",
    "            2: {'h2o': 'atmpro'}, \n",
    "            3: {'co2': 0.0004, 'h2o': 'atmpro', 'n2o': 3.2e-07},\n",
    "            4: {'co2': 0.0004, 'h2o': 'atmpro'},\n",
    "            5: {'co2': 0.0004, 'h2o': 'atmpro'},\n",
    "            6: {'co2': 0.0004, 'h2o': 'atmpro'},\n",
    "            7: {'co2': 0.0004, 'h2o': 'atmpro', 'o3': 'atmpro'},\n",
    "            8: {'h2o': 'atmpro'},\n",
    "            9: {'ch4': 1.8e-06, 'h2o': 'atmpro', 'n2o': 3.2e-07},\n",
    "            10: {'h2o': 'atmpro'},\n",
    "            11: {'co2': 0.0004, 'h2o': 'atmpro'}}\n",
    "\n",
    "\n",
    "def clirad_params_atm(atmpro='mls'):\n",
    "    d = {}\n",
    "    for band, molecule in molecules_byband_atm().items():\n",
    "        for param in setup_cliradlw.test_cases():\n",
    "            if [band] == param['band'] and molecule == param['molecule']:\n",
    "                param['atmpro'] = atmpro\n",
    "                d[band] = param\n",
    "                break                \n",
    "    return d\n",
    "\n",
    "\n",
    "def analysis_dirs_atm(atmpro='mls'):\n",
    "    params = clirad_params_atm(atmpro=atmpro)\n",
    "    return {band: pipe_cliradlw.get_analysis_dir(param=param,\n",
    "                                                 setup=setup_cliradlw) \n",
    "            for band, param in params.items()}\n",
    "\n",
    "\n",
    "def lblnew_params_atm(atmpro='mls'):\n",
    "    dirs = analysis_dirs_atm(atmpro=atmpro)\n",
    "    \n",
    "    d = {}\n",
    "    for band, dirname in dirs.items():\n",
    "        with open(os.path.join(dirname, 'param.py'), \n",
    "                  mode='r', encoding='utf-8') as f:\n",
    "            _, l = f.readlines()\n",
    "        \n",
    "        s = l.split('=')[1].strip()\n",
    "        d[band] = ast.literal_eval(s)\n",
    "        \n",
    "    return d\n",
    "\n",
    "    \n"
   ]
  },
  {
   "cell_type": "code",
   "execution_count": 735,
   "metadata": {
    "collapsed": true
   },
   "outputs": [],
   "source": [
    "def show_makeup():\n",
    "    df = pd.DataFrame()\n",
    "\n",
    "    for band, molecule in molecules_byband_atm().items():\n",
    "        for name, conc in molecule.items():\n",
    "            df.loc[name, band] = str(conc)\n",
    "\n",
    "    df = df.fillna(0)\n",
    "    df.columns.name = 'clirad band'\n",
    "    df.index.name = 'molecule'\n",
    "    \n",
    "    display.display(df)\n",
    "    \n",
    "    display.display(\n",
    "        display.Markdown('*TABLE.* The makeup of the atmosphere.'))\n",
    "\n"
   ]
  },
  {
   "cell_type": "code",
   "execution_count": 736,
   "metadata": {
    "collapsed": true
   },
   "outputs": [],
   "source": [
    "def load_output_file(path_csv):\n",
    "    '''\n",
    "    Load lblnew output .csv file to xarray.Dataset\n",
    "    \n",
    "    Parameters\n",
    "    ----------\n",
    "    path_csv: str\n",
    "              Path to the .csv file to be loaded.\n",
    "    ds: xarray.Dataset\n",
    "        Data in the input file in the form of an xarray.Dataset.\n",
    "    '''\n",
    "    toindex = ['band', 'pressure', 'igg', 'g']    \n",
    "    df = pd.read_csv(path_csv, sep=r'\\s+')\n",
    "    df = df.set_index([i for i in toindex if i in df.columns])\n",
    "    df = df.rename(columns={'sfu': 'flug',\n",
    "                            'sfd': 'fldg',\n",
    "                            'fnet': 'fnetg',\n",
    "                            'coolr': 'coolrg'})\n",
    "    ds = xr.Dataset.from_dataframe(df)\n",
    "\n",
    "    for l in ('level', 'layer'):\n",
    "        if l in ds.data_vars:\n",
    "            if len(ds[l].dims) > 1:\n",
    "                surface = {d: 0 for d in ds.dims if d != 'pressure'}\n",
    "                coord_level = ds[l][surface]\n",
    "                ds.coords[l] = ('pressure', coord_level)\n",
    "            else:\n",
    "                ds.coords[l] = ('pressure', ds[l])\n",
    "    \n",
    "    return ds"
   ]
  },
  {
   "cell_type": "code",
   "execution_count": 737,
   "metadata": {
    "collapsed": true
   },
   "outputs": [],
   "source": [
    "def lblnew_setup(param=None):\n",
    "    if 'ng_refs' in param:\n",
    "        return {'setup': setup_bestfit,\n",
    "                'fname_flux_crd': 'output_flux.dat',\n",
    "                'fname_cool_crd': 'output_coolr.dat',\n",
    "                'fname_flux_wgt': 'output_wfluxg.dat',\n",
    "                'fname_cool_wgt': 'output_wcoolrg.dat'}\n",
    "    else:\n",
    "        return {'setup': setup_overlap,\n",
    "                'fname_flux_crd': 'output_flux.dat',\n",
    "                'fname_cool_crd': 'output_coolr.dat',\n",
    "                'fname_flux_wgt': 'output_wflux.dat',\n",
    "                'fname_cool_wgt': 'output_wcoolr.dat'}\n",
    "\n",
    "    \n",
    "def load_lblnew_data(param):\n",
    "    \n",
    "    fname_dsname = [('fname_flux_crd', 'ds_flux_crd'),\n",
    "                    ('fname_cool_crd', 'ds_cool_crd'),\n",
    "                    ('fname_flux_wgt', 'ds_flux_wgt'),\n",
    "                    ('fname_cool_wgt', 'ds_cool_wgt')]\n",
    "    \n",
    "    d = lblnew_setup(param)\n",
    "    dir_fortran = pipe_lblnew.get_dir_case(param, setup=d['setup'])\n",
    "    \n",
    "    data_dict = {}\n",
    "    for fname, dsname in fname_dsname:\n",
    "        fpath = os.path.join(dir_fortran, d[fname])\n",
    "        data_dict[dsname] = load_output_file(fpath)\n",
    "    return data_dict"
   ]
  },
  {
   "cell_type": "code",
   "execution_count": 738,
   "metadata": {
    "collapsed": true
   },
   "outputs": [],
   "source": [
    "def crd_data_atm(params_atm):\n",
    "    '''\n",
    "    Parameters\n",
    "    ----------\n",
    "    \n",
    "    params_atm: dict\n",
    "                Parameter dictionary for each band.\n",
    "                \n",
    "    d: dict\n",
    "       'flux': xr.Dataset. [pressure, band]\n",
    "               Fluxes.\n",
    "       'cool': xr.Dataset. [pressure, band]\n",
    "               Cooling rate.\n",
    "    \n",
    "    '''\n",
    "    \n",
    "    results_atm = {band: load_lblnew_data(param) \n",
    "                   for band, param in params_atm.items()}\n",
    "    \n",
    "    bands = [band for band, _ in params_atm.items()]\n",
    "    fluxs = [d['ds_flux_crd'] for _, d in results_atm.items()]\n",
    "    cools = [d['ds_cool_crd'] for _, d in results_atm.items()]\n",
    "    \n",
    "    d = {}\n",
    "    d['flux'] = xr.concat(fluxs, dim=bands).rename({'concat_dim': 'band'})\n",
    "    d['cool'] = xr.concat(cools, dim=bands).rename({'concat_dim': 'band'})\n",
    "    return d        \n",
    "        \n",
    "        \n",
    "\n",
    "def clirad_data_atm(params_atm):\n",
    "    \n",
    "    dirnames = [pipe_cliradlw.get_fortran_dir(param,\n",
    "                                              setup=setup_cliradlw)\n",
    "                for _, param in params_atm.items()]\n",
    "    \n",
    "    fpaths_flux = [os.path.join(n, 'output_flux.dat') for n in dirnames]\n",
    "    fpaths_cool = [os.path.join(n, 'output_coolr.dat') for n in dirnames]\n",
    "    \n",
    "    bands = [band for band, _ in params_atm.items()]\n",
    "    fluxs = [load_output_file(p) for p in fpaths_flux]    \n",
    "    cools = [load_output_file(p) for p in fpaths_cool]\n",
    "    \n",
    "    d = {}\n",
    "    d['flux'] = sum(fluxs).sel(band=bands)\n",
    "    d['cool'] = sum(cools).sel(band=bands)\n",
    "    return d\n",
    "\n"
   ]
  },
  {
   "cell_type": "code",
   "execution_count": 739,
   "metadata": {
    "collapsed": true
   },
   "outputs": [],
   "source": [
    "def fmt_cool(ds_in):\n",
    "    ds = ds_in.copy(deep=True)\n",
    "    if 'igg' in ds.dims:\n",
    "        ds = ds.sel(igg=1)\n",
    "\n",
    "    if 'g' in ds.dims:\n",
    "        ds = ds.sum('g')\n",
    "            \n",
    "    if 'band' in ds.dims:\n",
    "        try:\n",
    "            ds = ds.squeeze('band')\n",
    "        except ValueError:\n",
    "            ds = ds.sum('band')\n",
    "                \n",
    "    return ds['coolrg']\n",
    "\n",
    "\n",
    "\n",
    "def nice_xlims(pltdata=None, prange=None):\n",
    "    \n",
    "    def get_slice(srs):\n",
    "        return srs.sel(pressure=slice(*prange))\n",
    "    \n",
    "    srss = [d['srs'] for d in pltdata]\n",
    "    vmin = min([get_slice(srs).min() for srs in srss])\n",
    "    vmax = max([get_slice(srs).max() for srs in srss])\n",
    "    dv = (vmax - vmin) * .01\n",
    "    return float(vmin - dv), float(vmax + dv)\n",
    "\n",
    "\n",
    "    \n",
    "def plt_cool_bokeh(pltdata=None, \n",
    "                   y_axis_type='linear', prange=(50, 1050)):\n",
    "    \n",
    "    ymin = 1e-2 \n",
    "    ymax = 1020\n",
    "    \n",
    "    p2 = figure(y_axis_type=y_axis_type, plot_width=300)\n",
    "    xmin, xmax = nice_xlims(pltdata, prange=prange)\n",
    "    \n",
    "    rs = []\n",
    "    for d in pltdata:\n",
    "        rd = []\n",
    "        if 'marker' in d:\n",
    "            r_mark = getattr(p2, d['marker'])(d['srs'].values, \n",
    "                        d['srs'].coords['pressure'].values,\n",
    "                        color=d['color'], alpha=.7)\n",
    "            rd.append(r_mark)\n",
    "        r_line = p2.line(d['srs'].values, \n",
    "                         d['srs'].coords['pressure'].values,\n",
    "                         color=d['color'], alpha=d['alpha'], \n",
    "                         line_width=d['line_width'], \n",
    "                         line_dash=d['line_dash'])\n",
    "        rd.append(r_line)\n",
    "      \n",
    "        rs.append(rd)\n",
    "        \n",
    "    p2.y_range = Range1d(ymax, ymin)  \n",
    "    p2.yaxis.axis_label = 'pressure [mb]'\n",
    "    \n",
    "    p2.x_range = Range1d(xmin, xmax)\n",
    "    p2.xaxis.axis_label = 'cooling rate [K/day]'\n",
    "    \n",
    "    items = [(d['label'], r) for r, d in zip(rs, pltdata)]\n",
    "    legend = Legend(items=items, location=(10, 0))\n",
    "    legend.label_text_font_size = '8pt'\n",
    "    p2.add_layout(legend, 'above')\n",
    "    p2.legend.orientation = 'horizontal'\n",
    "    p2.legend.location = 'top_center'\n",
    "    \n",
    "    return p2"
   ]
  },
  {
   "cell_type": "code",
   "execution_count": 740,
   "metadata": {
    "collapsed": true
   },
   "outputs": [],
   "source": [
    "def pltdata_cool(atmpro='mls'):\n",
    "    \n",
    "    d_clirad = clirad_data_atm(clirad_params_atm(atmpro=atmpro))\n",
    "    d_crd = crd_data_atm(lblnew_params_atm(atmpro=atmpro))\n",
    "    \n",
    "    ds_clirad = d_clirad['cool']\n",
    "    ds_crd = d_crd['cool']\n",
    "    \n",
    "    colors = all_palettes['Set1'][4]\n",
    "    \n",
    "    data = [\n",
    "        {'label': 'CLIRAD',\n",
    "         'srs': fmt_cool(ds_clirad),\n",
    "         'line_dash': 'dashed', 'line_width': 5,\n",
    "         'color': colors[0], 'alpha': .6},\n",
    "        {'label': 'CRD',\n",
    "         'srs': fmt_cool(ds_crd),\n",
    "         'line_dash': 'solid', 'line_width': 1.5,\n",
    "         'marker': 'circle', 'marker_size': 5,\n",
    "         'color': colors[2], 'alpha': 1}\n",
    "    ]\n",
    "    return data\n",
    "\n",
    "\n",
    "def pltdata_cooldiff(atmpro='mls'):\n",
    "    \n",
    "    d_clirad = clirad_data_atm(clirad_params_atm(atmpro=atmpro))\n",
    "    d_crd = crd_data_atm(lblnew_params_atm(atmpro=atmpro))\n",
    "    \n",
    "    ds_clirad = d_clirad['cool']\n",
    "    ds_crd = d_crd['cool']\n",
    "    \n",
    "    ds_diff = ds_clirad - ds_crd\n",
    "    \n",
    "    colors = all_palettes['Set1'][4]\n",
    "    \n",
    "    data = [\n",
    "        {'label': 'CLIRAD - CRD',\n",
    "         'srs': fmt_cool(ds_diff),\n",
    "         'line_dash': 'solid', 'line_width': 1.5, \n",
    "         'marker': 'circle', 'marker_size': 7,\n",
    "         'color': colors[3], 'alpha': .8}\n",
    "    ]\n",
    "    return data\n",
    "\n",
    "\n",
    "def show_cool(atmpro='mls'):\n",
    "    \n",
    "    data_cool = pltdata_cool(atmpro=atmpro)\n",
    "    p_cool_liny = plt_cool_bokeh(pltdata=data_cool)\n",
    "    p_cool_logy = plt_cool_bokeh(pltdata=data_cool, \n",
    "                                 y_axis_type='log',\n",
    "                                 prange=(.01, 200))\n",
    "    \n",
    "    data_cooldiff = pltdata_cooldiff(atmpro=atmpro)\n",
    "    p_cooldiff_logy = plt_cool_bokeh(pltdata=data_cooldiff,\n",
    "                                     y_axis_type='log',\n",
    "                                     prange=(.01, 200))\n",
    "    \n",
    "    everything = gridplot(p_cool_liny, p_cool_logy, \n",
    "                          p_cooldiff_logy,\n",
    "                          ncols=3)\n",
    "    show(everything)\n",
    "    display.display(\n",
    "        display.Markdown('*FIGURE.* Cooling rates & difference.'))\n",
    "\n",
    "\n",
    "    "
   ]
  },
  {
   "cell_type": "code",
   "execution_count": null,
   "metadata": {
    "collapsed": true
   },
   "outputs": [],
   "source": []
  },
  {
   "cell_type": "code",
   "execution_count": 741,
   "metadata": {
    "scrolled": false
   },
   "outputs": [],
   "source": [
    "\n",
    "\n",
    "def hist_band_vs_flux(da, title='Title'):\n",
    "       \n",
    "    bands = [str(b.values) for b in da['band']]\n",
    "\n",
    "    source = ColumnDataSource(\n",
    "        data={'band': bands, 'flux': da.values})\n",
    "\n",
    "    p = figure(x_range=bands, title=title)\n",
    "    p.vbar(source=source, x='band', top='flux', width=.9)\n",
    "\n",
    "    p.yaxis.axis_label = 'flux (W m-2)'\n",
    "    p.xaxis.axis_label = 'spectral band'\n",
    "    \n",
    "    return p\n",
    "\n",
    "\n",
    "def show_hist_flux(atmpro='mls'):\n",
    "    ds_crd = crd_data_atm(lblnew_params_atm(atmpro=atmpro))['flux']\n",
    "    ds_clirad = clirad_data_atm(\n",
    "        clirad_params_atm(atmpro=atmpro))['flux']\n",
    "    \n",
    "    ip, varname = 0, 'flug'\n",
    "    da = (ds_clirad - ds_crd).isel(pressure=ip)[varname]\n",
    "    p_toa = hist_band_vs_flux(da, title='TOA flux. CLIRAD - CRD.')\n",
    "\n",
    "    ip, varname = -1, 'fldg'\n",
    "    da = (ds_clirad - ds_crd).isel(pressure=ip)[varname]\n",
    "    p_sfc = hist_band_vs_flux(da, title='SFC flux. CLIRAD - CRD.')    \n",
    "    \n",
    "    atm_crd = (ds_crd.isel(pressure=0) \n",
    "               - ds_crd.isel(pressure=-1))['fnetg']\n",
    "    atm_clirad = (ds_clirad.isel(pressure=0) \n",
    "                  - ds_clirad.isel(pressure=-1))['fnetg']\n",
    "    da = atm_clirad - atm_crd\n",
    "    p_atm = hist_band_vs_flux(da, \n",
    "                              title='Atmosphere heating. CLIRAD - CRD.')\n",
    "\n",
    "    everything = gridplot(p_toa, p_sfc, p_atm, ncols=3, \n",
    "                          plot_width=300, plot_height=300)\n",
    "    \n",
    "    show(everything)\n",
    "    display.display(\n",
    "        display.Markdown('*FIGURE.* Difference between CLIRAD and CRD'\n",
    "          ' in TOA, SFC and net atmosphere flux,'\n",
    "          ' in each spectral band.'))\n",
    "\n",
    "\n",
    "    \n",
    "def show_tb_flux(atmpro='mls'):\n",
    "    ds_crd = crd_data_atm(lblnew_params_atm(atmpro=atmpro))['flux']\n",
    "    ds_clirad = clirad_data_atm(\n",
    "        clirad_params_atm(atmpro=atmpro))['flux']\n",
    "    \n",
    "    ip, varname = 0, 'flug'\n",
    "    olr_crd = ds_crd[varname].isel(pressure=ip)\n",
    "    olr_clirad = ds_clirad[varname].isel(pressure=ip)\n",
    "    \n",
    "    ip, varname = -1, 'fldg'\n",
    "    sfc_crd = ds_crd[varname].isel(pressure=ip)\n",
    "    sfc_clirad = ds_clirad[varname].isel(pressure=ip)\n",
    "    \n",
    "    ipt, ipb, varname = 0, -1, 'fnetg'\n",
    "    atm_crd = (ds_crd.isel(pressure=ipt)\n",
    "               - ds_crd.isel(pressure=ipb))[varname]\n",
    "    atm_clirad = (ds_clirad.isel(pressure=ipt)\n",
    "                  - ds_clirad.isel(pressure=ipb))[varname]\n",
    "    \n",
    "    df = pd.DataFrame(index=['CLIRAD - CRD', \n",
    "                             'CRD'])\n",
    "    df.index.name = 'Summed over bands'\n",
    "    \n",
    "    df['OLR flux'] = [(olr_clirad - olr_crd).sum('band').values, \n",
    "                 olr_crd.sum('band').values]\n",
    "    df['SFC flux'] = [(sfc_clirad - sfc_crd).sum('band').values,\n",
    "                 sfc_crd.sum('band').values]\n",
    "    df['ATM heating'] = [(atm_clirad - atm_crd).sum('band').values,\n",
    "                 atm_crd.sum('band').values]\n",
    "\n",
    "    df = df.astype('float').round(2)\n",
    "    \n",
    "    display.display(df)\n",
    "    display.display(\n",
    "        display.Markdown('*TABLE.* Difference between CLIRAD and CRD'\n",
    "          ' in TOA, SFC and net atmosphere flux,'\n",
    "          ' over all spectral bands. CRD\\'s'\n",
    "          ' TOA, SFC and net atmosphere flux,'\n",
    "          ' over all spectral bands.'))\n"
   ]
  },
  {
   "cell_type": "code",
   "execution_count": 742,
   "metadata": {
    "scrolled": false
   },
   "outputs": [
    {
     "data": {
      "text/markdown": [
       "## Results over entire range of molecules and spectral bands"
      ],
      "text/plain": [
       "<IPython.core.display.Markdown object>"
      ]
     },
     "metadata": {},
     "output_type": "display_data"
    },
    {
     "data": {
      "text/markdown": [
       "### Table of Contents"
      ],
      "text/plain": [
       "<IPython.core.display.Markdown object>"
      ]
     },
     "metadata": {},
     "output_type": "display_data"
    },
    {
     "data": {
      "text/html": [
       "<a href=\"#Makeup_of_atmosphere.\">Makeup of atmosphere.</a>"
      ],
      "text/plain": [
       "<IPython.core.display.HTML object>"
      ]
     },
     "metadata": {},
     "output_type": "display_data"
    },
    {
     "data": {
      "text/markdown": [
       "**mid-latitude summer**"
      ],
      "text/plain": [
       "<IPython.core.display.Markdown object>"
      ]
     },
     "metadata": {},
     "output_type": "display_data"
    },
    {
     "data": {
      "text/html": [
       "<a href=\"#Cooling_rates._mls.\">Cooling rates. mls.</a>"
      ],
      "text/plain": [
       "<IPython.core.display.HTML object>"
      ]
     },
     "metadata": {},
     "output_type": "display_data"
    },
    {
     "data": {
      "text/html": [
       "<a href=\"#Fluxes._mls.\">Fluxes. mls.</a>"
      ],
      "text/plain": [
       "<IPython.core.display.HTML object>"
      ]
     },
     "metadata": {},
     "output_type": "display_data"
    },
    {
     "data": {
      "text/markdown": [
       "**sub-arctic winter**"
      ],
      "text/plain": [
       "<IPython.core.display.Markdown object>"
      ]
     },
     "metadata": {},
     "output_type": "display_data"
    },
    {
     "data": {
      "text/html": [
       "<a href=\"#Cooling_rates._saw.\">Cooling rates. saw.</a>"
      ],
      "text/plain": [
       "<IPython.core.display.HTML object>"
      ]
     },
     "metadata": {},
     "output_type": "display_data"
    },
    {
     "data": {
      "text/html": [
       "<a href=\"#Fluxes._saw.\">Fluxes. saw.</a>"
      ],
      "text/plain": [
       "<IPython.core.display.HTML object>"
      ]
     },
     "metadata": {},
     "output_type": "display_data"
    },
    {
     "data": {
      "text/markdown": [
       "**tropical**"
      ],
      "text/plain": [
       "<IPython.core.display.Markdown object>"
      ]
     },
     "metadata": {},
     "output_type": "display_data"
    },
    {
     "data": {
      "text/html": [
       "<a href=\"#Cooling_rates._trp.\">Cooling rates. trp.</a>"
      ],
      "text/plain": [
       "<IPython.core.display.HTML object>"
      ]
     },
     "metadata": {},
     "output_type": "display_data"
    },
    {
     "data": {
      "text/html": [
       "<a href=\"#Fluxes._trp.\">Fluxes. trp.</a>"
      ],
      "text/plain": [
       "<IPython.core.display.HTML object>"
      ]
     },
     "metadata": {},
     "output_type": "display_data"
    },
    {
     "data": {
      "text/html": [
       "<a id=\"Makeup_of_atmosphere.\"></a>"
      ],
      "text/plain": [
       "<IPython.core.display.HTML object>"
      ]
     },
     "metadata": {},
     "output_type": "display_data"
    },
    {
     "data": {
      "text/markdown": [
       "# Makeup of atmosphere."
      ],
      "text/plain": [
       "<IPython.core.display.Markdown object>"
      ]
     },
     "metadata": {},
     "output_type": "display_data"
    },
    {
     "data": {
      "text/html": [
       "<div>\n",
       "<style scoped>\n",
       "    .dataframe tbody tr th:only-of-type {\n",
       "        vertical-align: middle;\n",
       "    }\n",
       "\n",
       "    .dataframe tbody tr th {\n",
       "        vertical-align: top;\n",
       "    }\n",
       "\n",
       "    .dataframe thead th {\n",
       "        text-align: right;\n",
       "    }\n",
       "</style>\n",
       "<table border=\"1\" class=\"dataframe\">\n",
       "  <thead>\n",
       "    <tr style=\"text-align: right;\">\n",
       "      <th>clirad band</th>\n",
       "      <th>1</th>\n",
       "      <th>2</th>\n",
       "      <th>3</th>\n",
       "      <th>4</th>\n",
       "      <th>5</th>\n",
       "      <th>6</th>\n",
       "      <th>7</th>\n",
       "      <th>8</th>\n",
       "      <th>9</th>\n",
       "      <th>10</th>\n",
       "      <th>11</th>\n",
       "    </tr>\n",
       "    <tr>\n",
       "      <th>molecule</th>\n",
       "      <th></th>\n",
       "      <th></th>\n",
       "      <th></th>\n",
       "      <th></th>\n",
       "      <th></th>\n",
       "      <th></th>\n",
       "      <th></th>\n",
       "      <th></th>\n",
       "      <th></th>\n",
       "      <th></th>\n",
       "      <th></th>\n",
       "    </tr>\n",
       "  </thead>\n",
       "  <tbody>\n",
       "    <tr>\n",
       "      <th>h2o</th>\n",
       "      <td>atmpro</td>\n",
       "      <td>atmpro</td>\n",
       "      <td>atmpro</td>\n",
       "      <td>atmpro</td>\n",
       "      <td>atmpro</td>\n",
       "      <td>atmpro</td>\n",
       "      <td>atmpro</td>\n",
       "      <td>atmpro</td>\n",
       "      <td>atmpro</td>\n",
       "      <td>atmpro</td>\n",
       "      <td>atmpro</td>\n",
       "    </tr>\n",
       "    <tr>\n",
       "      <th>co2</th>\n",
       "      <td>0</td>\n",
       "      <td>0</td>\n",
       "      <td>0.0004</td>\n",
       "      <td>0.0004</td>\n",
       "      <td>0.0004</td>\n",
       "      <td>0.0004</td>\n",
       "      <td>0.0004</td>\n",
       "      <td>0</td>\n",
       "      <td>0</td>\n",
       "      <td>0</td>\n",
       "      <td>0.0004</td>\n",
       "    </tr>\n",
       "    <tr>\n",
       "      <th>n2o</th>\n",
       "      <td>0</td>\n",
       "      <td>0</td>\n",
       "      <td>3.2e-07</td>\n",
       "      <td>0</td>\n",
       "      <td>0</td>\n",
       "      <td>0</td>\n",
       "      <td>0</td>\n",
       "      <td>0</td>\n",
       "      <td>3.2e-07</td>\n",
       "      <td>0</td>\n",
       "      <td>0</td>\n",
       "    </tr>\n",
       "    <tr>\n",
       "      <th>o3</th>\n",
       "      <td>0</td>\n",
       "      <td>0</td>\n",
       "      <td>0</td>\n",
       "      <td>0</td>\n",
       "      <td>0</td>\n",
       "      <td>0</td>\n",
       "      <td>atmpro</td>\n",
       "      <td>0</td>\n",
       "      <td>0</td>\n",
       "      <td>0</td>\n",
       "      <td>0</td>\n",
       "    </tr>\n",
       "    <tr>\n",
       "      <th>ch4</th>\n",
       "      <td>0</td>\n",
       "      <td>0</td>\n",
       "      <td>0</td>\n",
       "      <td>0</td>\n",
       "      <td>0</td>\n",
       "      <td>0</td>\n",
       "      <td>0</td>\n",
       "      <td>0</td>\n",
       "      <td>1.8e-06</td>\n",
       "      <td>0</td>\n",
       "      <td>0</td>\n",
       "    </tr>\n",
       "  </tbody>\n",
       "</table>\n",
       "</div>"
      ],
      "text/plain": [
       "clirad band      1       2        3       4       5       6       7       8   \\\n",
       "molecule                                                                       \n",
       "h2o          atmpro  atmpro   atmpro  atmpro  atmpro  atmpro  atmpro  atmpro   \n",
       "co2               0       0   0.0004  0.0004  0.0004  0.0004  0.0004       0   \n",
       "n2o               0       0  3.2e-07       0       0       0       0       0   \n",
       "o3                0       0        0       0       0       0  atmpro       0   \n",
       "ch4               0       0        0       0       0       0       0       0   \n",
       "\n",
       "clirad band       9       10      11  \n",
       "molecule                              \n",
       "h2o           atmpro  atmpro  atmpro  \n",
       "co2                0       0  0.0004  \n",
       "n2o          3.2e-07       0       0  \n",
       "o3                 0       0       0  \n",
       "ch4          1.8e-06       0       0  "
      ]
     },
     "metadata": {},
     "output_type": "display_data"
    },
    {
     "data": {
      "text/markdown": [
       "*TABLE.* The makeup of the atmosphere."
      ],
      "text/plain": [
       "<IPython.core.display.Markdown object>"
      ]
     },
     "metadata": {},
     "output_type": "display_data"
    },
    {
     "data": {
      "text/html": [
       "<a id=\"Cooling_rates._mls.\"></a>"
      ],
      "text/plain": [
       "<IPython.core.display.HTML object>"
      ]
     },
     "metadata": {},
     "output_type": "display_data"
    },
    {
     "data": {
      "text/markdown": [
       "# Cooling rates. mls."
      ],
      "text/plain": [
       "<IPython.core.display.Markdown object>"
      ]
     },
     "metadata": {},
     "output_type": "display_data"
    },
    {
     "data": {
      "text/html": [
       "\n",
       "<div class=\"bk-root\">\n",
       "    <div class=\"bk-plotdiv\" id=\"7b614b76-2edb-40fb-a1ba-d3fe3023a1d6\"></div>\n",
       "</div>"
      ]
     },
     "metadata": {},
     "output_type": "display_data"
    },
    {
     "data": {
      "application/javascript": [
       "(function(root) {\n",
       "  function embed_document(root) {\n",
       "    \n",
       "  var docs_json = {\"c42c1a71-9287-4263-a2e9-6c04778e9a57\":{\"roots\":{\"references\":[{\"attributes\":{\"active_drag\":\"auto\",\"active_inspect\":\"auto\",\"active_scroll\":\"auto\",\"active_tap\":\"auto\",\"tools\":[{\"id\":\"a810f9c3-c782-48e6-9041-95d6fe20b1a5\",\"type\":\"PanTool\"},{\"id\":\"85906c22-ebda-4cb6-b1d5-bd62af5549e9\",\"type\":\"WheelZoomTool\"},{\"id\":\"155a6277-b602-4466-bea6-d34b8481da4a\",\"type\":\"BoxZoomTool\"},{\"id\":\"44e08c33-dd79-467a-bbc1-260cb0303707\",\"type\":\"SaveTool\"},{\"id\":\"1fdf16b5-771e-432d-a51e-a690975bd9ed\",\"type\":\"ResetTool\"},{\"id\":\"6767cfdb-4503-43ee-bca5-0759139ec8cb\",\"type\":\"HelpTool\"}]},\"id\":\"c6ec5bc7-5e9b-4e8e-ab61-9cedaf297abe\",\"type\":\"Toolbar\"},{\"attributes\":{\"num_minor_ticks\":10},\"id\":\"d59930ae-a844-48ea-be9b-9886353ee7c5\",\"type\":\"LogTicker\"},{\"attributes\":{\"source\":{\"id\":\"c4e9dfcd-63bb-40b7-9029-583b4a5816bc\",\"type\":\"ColumnDataSource\"}},\"id\":\"76015a7e-2c8f-482c-b52c-404f969679ca\",\"type\":\"CDSView\"},{\"attributes\":{\"label\":{\"value\":\"CLIRAD\"},\"renderers\":[{\"id\":\"1e4b2138-313e-45d1-b0cd-5195aff23f5f\",\"type\":\"GlyphRenderer\"}]},\"id\":\"83adf44b-0ef0-45e7-a2f4-663c8e02afad\",\"type\":\"LegendItem\"},{\"attributes\":{\"line_alpha\":0.1,\"line_color\":\"#1f77b4\",\"line_width\":1.5,\"x\":{\"field\":\"x\"},\"y\":{\"field\":\"y\"}},\"id\":\"ec0d4879-62a4-4383-a581-ba6350258199\",\"type\":\"Line\"},{\"attributes\":{\"toolbar\":{\"id\":\"f448f04b-2c39-4d2a-992d-d8f1317285c8\",\"type\":\"ProxyToolbar\"},\"toolbar_location\":\"above\"},\"id\":\"95cff92a-8879-4fa7-a117-f516f90dd49b\",\"type\":\"ToolbarBox\"},{\"attributes\":{},\"id\":\"85906c22-ebda-4cb6-b1d5-bd62af5549e9\",\"type\":\"WheelZoomTool\"},{\"attributes\":{},\"id\":\"6767cfdb-4503-43ee-bca5-0759139ec8cb\",\"type\":\"HelpTool\"},{\"attributes\":{\"plot\":{\"id\":\"0a1d89e4-dc24-4bce-942f-39395fe40c98\",\"subtype\":\"Figure\",\"type\":\"Plot\"},\"ticker\":{\"id\":\"87d40302-0f85-46d4-a71d-9ef9796698cc\",\"type\":\"BasicTicker\"}},\"id\":\"ecfe2d29-a74b-4b45-a205-657c94fb0e63\",\"type\":\"Grid\"},{\"attributes\":{\"axis_label\":\"cooling rate [K/day]\",\"formatter\":{\"id\":\"5efe2917-66d5-4680-ae9f-c43c0c8cfc8b\",\"type\":\"BasicTickFormatter\"},\"plot\":{\"id\":\"0a1d89e4-dc24-4bce-942f-39395fe40c98\",\"subtype\":\"Figure\",\"type\":\"Plot\"},\"ticker\":{\"id\":\"87d40302-0f85-46d4-a71d-9ef9796698cc\",\"type\":\"BasicTicker\"}},\"id\":\"f1426ad2-409f-47d4-b639-2c80ee521ecf\",\"type\":\"LinearAxis\"},{\"attributes\":{},\"id\":\"f62252fd-71b0-4149-8298-d06e210f9032\",\"type\":\"BasicTickFormatter\"},{\"attributes\":{},\"id\":\"a810f9c3-c782-48e6-9041-95d6fe20b1a5\",\"type\":\"PanTool\"},{\"attributes\":{\"axis_label\":\"pressure [mb]\",\"formatter\":{\"id\":\"674889d0-ff89-45ce-b9e0-8d3013f0cb51\",\"type\":\"LogTickFormatter\"},\"plot\":{\"id\":\"0a1d89e4-dc24-4bce-942f-39395fe40c98\",\"subtype\":\"Figure\",\"type\":\"Plot\"},\"ticker\":{\"id\":\"d59930ae-a844-48ea-be9b-9886353ee7c5\",\"type\":\"LogTicker\"}},\"id\":\"84426376-a4ea-43e7-9a84-8bbd1616b96f\",\"type\":\"LogAxis\"},{\"attributes\":{\"dimension\":1,\"plot\":{\"id\":\"0a1d89e4-dc24-4bce-942f-39395fe40c98\",\"subtype\":\"Figure\",\"type\":\"Plot\"},\"ticker\":{\"id\":\"d59930ae-a844-48ea-be9b-9886353ee7c5\",\"type\":\"LogTicker\"}},\"id\":\"445c6cb6-a801-46d1-8238-ebe29b0fde5f\",\"type\":\"Grid\"},{\"attributes\":{},\"id\":\"e67282d5-77a8-49bb-86be-104b2f884bc6\",\"type\":\"Selection\"},{\"attributes\":{\"label\":{\"value\":\"CLIRAD\"},\"renderers\":[{\"id\":\"29af422d-35ba-43d1-9d57-6c80439fe932\",\"type\":\"GlyphRenderer\"}]},\"id\":\"f602d37c-c63a-4705-b3c5-8a93fbcbb0f7\",\"type\":\"LegendItem\"},{\"attributes\":{\"ticker\":null},\"id\":\"3f318268-57e3-4c46-aac1-365529ac2307\",\"type\":\"LogTickFormatter\"},{\"attributes\":{},\"id\":\"44e08c33-dd79-467a-bbc1-260cb0303707\",\"type\":\"SaveTool\"},{\"attributes\":{\"label\":{\"value\":\"CRD\"},\"renderers\":[{\"id\":\"46e399b1-0dd0-40ce-9475-b18140e46c1f\",\"type\":\"GlyphRenderer\"},{\"id\":\"060b7359-6b1e-41eb-8d39-28fed1ef9ace\",\"type\":\"GlyphRenderer\"}]},\"id\":\"1de590d5-92d9-4543-8d72-7c04d56c7d53\",\"type\":\"LegendItem\"},{\"attributes\":{\"tools\":[{\"id\":\"58a2cfde-32e6-4c79-92ea-fcce32580c00\",\"type\":\"PanTool\"},{\"id\":\"da7d8507-e363-407d-bee9-edd39beca5db\",\"type\":\"WheelZoomTool\"},{\"id\":\"7875c2b6-1a39-4a28-83f4-65977916d1f5\",\"type\":\"BoxZoomTool\"},{\"id\":\"70cf02bc-02c8-414c-a5a0-8fe2f2a57277\",\"type\":\"SaveTool\"},{\"id\":\"b08fdd59-5338-40f3-b142-cf225157a70e\",\"type\":\"ResetTool\"},{\"id\":\"cf404f34-9320-4d7a-8202-e100adc6a6af\",\"type\":\"HelpTool\"},{\"id\":\"a810f9c3-c782-48e6-9041-95d6fe20b1a5\",\"type\":\"PanTool\"},{\"id\":\"85906c22-ebda-4cb6-b1d5-bd62af5549e9\",\"type\":\"WheelZoomTool\"},{\"id\":\"155a6277-b602-4466-bea6-d34b8481da4a\",\"type\":\"BoxZoomTool\"},{\"id\":\"44e08c33-dd79-467a-bbc1-260cb0303707\",\"type\":\"SaveTool\"},{\"id\":\"1fdf16b5-771e-432d-a51e-a690975bd9ed\",\"type\":\"ResetTool\"},{\"id\":\"6767cfdb-4503-43ee-bca5-0759139ec8cb\",\"type\":\"HelpTool\"},{\"id\":\"822916a1-6946-4323-9382-6243a70d6e7c\",\"type\":\"PanTool\"},{\"id\":\"a91bc20a-16fb-41ce-b30f-e82f1fc153f0\",\"type\":\"WheelZoomTool\"},{\"id\":\"f9d159fb-1ad1-4edd-bf27-880ac9ffb2d4\",\"type\":\"BoxZoomTool\"},{\"id\":\"8fb6ab2a-1161-4f1d-812c-e4c7d20aee72\",\"type\":\"SaveTool\"},{\"id\":\"883dde03-cda0-4f69-b599-d87311ef5e7f\",\"type\":\"ResetTool\"},{\"id\":\"bcc5904f-7da7-4c6f-a363-ced057631b3b\",\"type\":\"HelpTool\"}]},\"id\":\"f448f04b-2c39-4d2a-992d-d8f1317285c8\",\"type\":\"ProxyToolbar\"},{\"attributes\":{\"data_source\":{\"id\":\"c4e9dfcd-63bb-40b7-9029-583b4a5816bc\",\"type\":\"ColumnDataSource\"},\"glyph\":{\"id\":\"ca58ee38-305c-4b8c-96d8-3faf1be4aeac\",\"type\":\"Line\"},\"hover_glyph\":null,\"muted_glyph\":null,\"nonselection_glyph\":{\"id\":\"ec0d4879-62a4-4383-a581-ba6350258199\",\"type\":\"Line\"},\"selection_glyph\":null,\"view\":{\"id\":\"76015a7e-2c8f-482c-b52c-404f969679ca\",\"type\":\"CDSView\"}},\"id\":\"060b7359-6b1e-41eb-8d39-28fed1ef9ace\",\"type\":\"GlyphRenderer\"},{\"attributes\":{\"axis_label\":\"cooling rate [K/day]\",\"formatter\":{\"id\":\"fc77392b-b0bf-407c-ab94-342829b1ed37\",\"type\":\"BasicTickFormatter\"},\"plot\":{\"id\":\"ebed2c87-a216-4c19-9733-5cd42c7fd2aa\",\"subtype\":\"Figure\",\"type\":\"Plot\"},\"ticker\":{\"id\":\"7c4332c6-6581-40a0-9c31-4c9b89710594\",\"type\":\"BasicTicker\"}},\"id\":\"4fad7169-59ba-4a19-a643-c98ffa557f5a\",\"type\":\"LinearAxis\"},{\"attributes\":{},\"id\":\"9d51e07f-86ef-4750-a06a-e29bf94b7d63\",\"type\":\"LinearScale\"},{\"attributes\":{},\"id\":\"87d40302-0f85-46d4-a71d-9ef9796698cc\",\"type\":\"BasicTicker\"},{\"attributes\":{\"source\":{\"id\":\"6a56030a-2eb5-4605-9e50-ce743a2f0ec7\",\"type\":\"ColumnDataSource\"}},\"id\":\"2c7381c3-d0f3-42eb-8cfe-900c095fef60\",\"type\":\"CDSView\"},{\"attributes\":{},\"id\":\"c21fc7d2-185e-4990-958d-766954742657\",\"type\":\"LogScale\"},{\"attributes\":{\"above\":[{\"id\":\"1abd3670-7f50-4734-8b13-a4ba1219ba9a\",\"type\":\"Legend\"}],\"below\":[{\"id\":\"f1426ad2-409f-47d4-b639-2c80ee521ecf\",\"type\":\"LinearAxis\"}],\"left\":[{\"id\":\"84426376-a4ea-43e7-9a84-8bbd1616b96f\",\"type\":\"LogAxis\"}],\"plot_width\":300,\"renderers\":[{\"id\":\"f1426ad2-409f-47d4-b639-2c80ee521ecf\",\"type\":\"LinearAxis\"},{\"id\":\"ecfe2d29-a74b-4b45-a205-657c94fb0e63\",\"type\":\"Grid\"},{\"id\":\"84426376-a4ea-43e7-9a84-8bbd1616b96f\",\"type\":\"LogAxis\"},{\"id\":\"445c6cb6-a801-46d1-8238-ebe29b0fde5f\",\"type\":\"Grid\"},{\"id\":\"8bc62cdc-9376-432e-86ab-e13b10ca6a6d\",\"type\":\"BoxAnnotation\"},{\"id\":\"29af422d-35ba-43d1-9d57-6c80439fe932\",\"type\":\"GlyphRenderer\"},{\"id\":\"0f501088-65b0-4551-bf13-8b23c2a71859\",\"type\":\"GlyphRenderer\"},{\"id\":\"a9f45b5a-a66a-41be-8167-2c42b6ce239c\",\"type\":\"GlyphRenderer\"},{\"id\":\"1abd3670-7f50-4734-8b13-a4ba1219ba9a\",\"type\":\"Legend\"}],\"title\":{\"id\":\"b88eaf98-e0f3-4b0a-9939-a87997c9622f\",\"type\":\"Title\"},\"toolbar\":{\"id\":\"c6ec5bc7-5e9b-4e8e-ab61-9cedaf297abe\",\"type\":\"Toolbar\"},\"toolbar_location\":null,\"x_range\":{\"id\":\"c83985bf-8b1b-41a6-a8f8-967fa96ded84\",\"type\":\"Range1d\"},\"x_scale\":{\"id\":\"9d51e07f-86ef-4750-a06a-e29bf94b7d63\",\"type\":\"LinearScale\"},\"y_range\":{\"id\":\"8c81f350-fe71-4cca-9fba-7c3d8bf5bec1\",\"type\":\"Range1d\"},\"y_scale\":{\"id\":\"c21fc7d2-185e-4990-958d-766954742657\",\"type\":\"LogScale\"}},\"id\":\"0a1d89e4-dc24-4bce-942f-39395fe40c98\",\"subtype\":\"Figure\",\"type\":\"Plot\"},{\"attributes\":{},\"id\":\"1fdf16b5-771e-432d-a51e-a690975bd9ed\",\"type\":\"ResetTool\"},{\"attributes\":{\"active_drag\":\"auto\",\"active_inspect\":\"auto\",\"active_scroll\":\"auto\",\"active_tap\":\"auto\",\"tools\":[{\"id\":\"822916a1-6946-4323-9382-6243a70d6e7c\",\"type\":\"PanTool\"},{\"id\":\"a91bc20a-16fb-41ce-b30f-e82f1fc153f0\",\"type\":\"WheelZoomTool\"},{\"id\":\"f9d159fb-1ad1-4edd-bf27-880ac9ffb2d4\",\"type\":\"BoxZoomTool\"},{\"id\":\"8fb6ab2a-1161-4f1d-812c-e4c7d20aee72\",\"type\":\"SaveTool\"},{\"id\":\"883dde03-cda0-4f69-b599-d87311ef5e7f\",\"type\":\"ResetTool\"},{\"id\":\"bcc5904f-7da7-4c6f-a363-ced057631b3b\",\"type\":\"HelpTool\"}]},\"id\":\"42ec71fe-7497-434e-9b17-4b75f54925a2\",\"type\":\"Toolbar\"},{\"attributes\":{\"overlay\":{\"id\":\"8bc62cdc-9376-432e-86ab-e13b10ca6a6d\",\"type\":\"BoxAnnotation\"}},\"id\":\"155a6277-b602-4466-bea6-d34b8481da4a\",\"type\":\"BoxZoomTool\"},{\"attributes\":{\"line_alpha\":0.1,\"line_color\":\"#1f77b4\",\"line_dash\":[6],\"line_width\":5,\"x\":{\"field\":\"x\"},\"y\":{\"field\":\"y\"}},\"id\":\"3fa786fd-8fd8-48c8-af3b-cec77b183bf6\",\"type\":\"Line\"},{\"attributes\":{\"source\":{\"id\":\"2411e559-3c1e-4510-b834-a528eb8b53d9\",\"type\":\"ColumnDataSource\"}},\"id\":\"81b124ff-cd24-45d9-a201-f0f1ff32ac30\",\"type\":\"CDSView\"},{\"attributes\":{\"line_color\":\"#4daf4a\",\"line_width\":1.5,\"x\":{\"field\":\"x\"},\"y\":{\"field\":\"y\"}},\"id\":\"7060499e-358b-41b8-93ff-e7dfedb984ec\",\"type\":\"Line\"},{\"attributes\":{\"line_alpha\":0.8,\"line_color\":\"#984ea3\",\"line_width\":1.5,\"x\":{\"field\":\"x\"},\"y\":{\"field\":\"y\"}},\"id\":\"08d91d5e-6751-436e-84a6-b0f5e024f0be\",\"type\":\"Line\"},{\"attributes\":{},\"id\":\"58a2cfde-32e6-4c79-92ea-fcce32580c00\",\"type\":\"PanTool\"},{\"attributes\":{\"line_alpha\":0.6,\"line_color\":\"#e41a1c\",\"line_dash\":[6],\"line_width\":5,\"x\":{\"field\":\"x\"},\"y\":{\"field\":\"y\"}},\"id\":\"59eae2ef-25e3-4390-a488-9ea6960fe215\",\"type\":\"Line\"},{\"attributes\":{\"line_alpha\":0.1,\"line_color\":\"#1f77b4\",\"line_width\":1.5,\"x\":{\"field\":\"x\"},\"y\":{\"field\":\"y\"}},\"id\":\"a48bb48d-6cb7-40ec-ba2c-f3cbbc45fa20\",\"type\":\"Line\"},{\"attributes\":{\"items\":[{\"id\":\"d6c058fb-8d91-4fd9-aa37-bdc114699493\",\"type\":\"LegendItem\"}],\"label_text_font_size\":{\"value\":\"8pt\"},\"location\":\"top_center\",\"orientation\":\"horizontal\",\"plot\":{\"id\":\"ebed2c87-a216-4c19-9733-5cd42c7fd2aa\",\"subtype\":\"Figure\",\"type\":\"Plot\"}},\"id\":\"e8d0d48b-4c0e-4545-b671-8d6848424d81\",\"type\":\"Legend\"},{\"attributes\":{\"callback\":null,\"end\":0.01,\"start\":1020},\"id\":\"8c81f350-fe71-4cca-9fba-7c3d8bf5bec1\",\"type\":\"Range1d\"},{\"attributes\":{},\"id\":\"c032bc2a-5b5e-48aa-b182-f43fe20e4a57\",\"type\":\"UnionRenderers\"},{\"attributes\":{\"source\":{\"id\":\"6992c2d8-139d-4be6-9cc6-42ca60ecae1c\",\"type\":\"ColumnDataSource\"}},\"id\":\"48ed01eb-2fc8-4385-8f44-2030a862b01f\",\"type\":\"CDSView\"},{\"attributes\":{},\"id\":\"7132b7a1-d530-4842-b336-637f5f54611c\",\"type\":\"Selection\"},{\"attributes\":{\"children\":[{\"id\":\"dd7416f9-9ccb-4521-8837-2ab185835ec3\",\"subtype\":\"Figure\",\"type\":\"Plot\"},{\"id\":\"0a1d89e4-dc24-4bce-942f-39395fe40c98\",\"subtype\":\"Figure\",\"type\":\"Plot\"},{\"id\":\"ebed2c87-a216-4c19-9733-5cd42c7fd2aa\",\"subtype\":\"Figure\",\"type\":\"Plot\"}]},\"id\":\"adcb6e95-b34a-41df-945e-89da24b96874\",\"type\":\"Row\"},{\"attributes\":{},\"id\":\"d95375cb-4668-4d2d-b2f3-d76788e442bc\",\"type\":\"Selection\"},{\"attributes\":{\"callback\":null,\"data\":{\"x\":{\"__ndarray__\":\"cm1sTMT3VEDEyvjosEJHQOKI6DjzCUNArgQWV9awPkB9Lm8XG3M4QEz+Qv6iYzNA7eV8HaPLLkCX1QHyTpMoQFBmYSYetiNAUB04GtGpH0AmFyVE5j8ZQJca9QPGqBNALJP+OOHHDEBNxaf7QF8AQKtislomWuw/cW2dcO6A9T/uJJvfPu0EQIaQLTI/JQ1AxGiII+PmEkCJvfVeuCsYQD6ZBhGbHB9AXQw69DTYJEAsubcwKucqQNuT9D5OmipAJyi3szEJJUBlNebh5WkgQDDcPHBr2xlArtlANXuQFEBdJadFHckQQI2Avh0ZsQtAjYiwt1rsBUCL0SDoVBgAQK6C0nEEjvc/CggLSme58T9sXU2orFPnP0v0JYz9Gdg/vT38vxYczD9nBQTe6kHHP1IhkEXJwKo/8OZnhCVAub+xtVgCpmqzP6DUpY6g0+k/PKK3T1h4+D8RTDjQc1EAQG/dAQs7TwJAQt2eHpPLAEBWEh074x//PyCap9ZSGf4/rEzaTySm/T+7aXhHRmr9P688KeqeNP0/ruZ4EemD/D8olrZcn9T7P0+vNc9hW/s/i9VVL+4P+z+0NzC24uz6P8731Kza8vo/xFf4SHzq+z+gYyHpvHb8P68ROkiFevw/BAjYdCga/D8AUp8VbW77P3JrF/nKmvo/qCQeGfq++T/dplwHJfn4P2G4p+Uva/g/OzZ0RqMZ+D8dmn/iar73P/OuA7Ka8PY/gaaeQHGn9T9hkyjAH1L0P3aZGhdAU/M/n8VP/g7P8j+90HxHNvfyPwhNBtgrqvk/\",\"dtype\":\"float64\",\"shape\":[75]},\"y\":{\"__ndarray__\":\"GhExyth1ND/Sv8nbtpRIP2vylNV0PVE/aTum7souWD/At0SJ8fVgPw3Iuahxymc/MSNhhJWvcD/bTfBN02d3P2zb5nxnaoA/CD5h5MAGhz8NmeH1TyaQP+zrCsc9p5Y/LbKd76fGnz/bLW5ISEmmPww9YvTcQq8/JV2OstnstT8Er5Y7M8G+P0c+r3jqkcU/5h99k6ZBzj88bCIzFzjVP4enV8oyxN0//yH99nXg5D8qOpLLf0jtP5kqGJXUifQ/c9cS8kHP/D+/DpwzojQEQIEmwoanVwxA4lgXt9HgE0BSSZ2AJuIbQAMJih9jjiNA5q4l5INuK0AwTKYKRj0zQNv5fmq8/DpAaCJseHrtQkB/+zpwzoxKQM3MzMzMeFJAZmZmZmZqWEAAAAAAAFxeQM3MzMzMJmJAmpmZmZkfZUBmZmZmZhhoQDMzMzMzEWtAAAAAAAAKbkBmZmZmZoFwQM3MzMzM/XFAMzMzMzN6c0CamZmZmfZ0QAAAAAAAc3ZAZmZmZmbvd0DNzMzMzGt5QDMzMzMz6HpAmpmZmZlkfEAAAAAAAOF9QGZmZmZmXX9AZmZmZuZsgECamZmZGSuBQM3MzMxM6YFAAAAAAICngkAzMzMzs2WDQGZmZmbmI4RAmpmZmRnihEDNzMzMTKCFQAAAAACAXoZAMzMzM7Mch0BmZmZm5tqHQJqZmZkZmYhAzczMzExXiUAAAAAAgBWKQDMzMzOz04pAZmZmZuaRi0CamZmZGVCMQM3MzMxMDo1AAAAAAIDMjUAzMzMzs4qOQGZmZmbmSI9A\",\"dtype\":\"float64\",\"shape\":[75]}},\"selected\":{\"id\":\"94fef9f8-9db8-4569-9b6a-5ee6d6be679f\",\"type\":\"Selection\"},\"selection_policy\":{\"id\":\"1690499f-9ed8-42bf-9421-2309cb76d497\",\"type\":\"UnionRenderers\"}},\"id\":\"d1fbf70d-7303-4b00-908f-26b640176435\",\"type\":\"ColumnDataSource\"},{\"attributes\":{\"callback\":null,\"data\":{\"x\":{\"__ndarray__\":\"Plrp3Z5jIcBKBfk9Qf4EwAhIBjTPV/g/re0xy0SUDEBKEKO2F2oNQEotRpaPLQNAtDasTSvz4j/Y3ph+zcLqv4miLOrMCfa/OZBOUS2a8b+Z2paSN0Xfv1rfYeD8N7A/VKELW16e2T/SMT3umRDfP8gh/JbbJ9Q/51E4qEcEoT9WPU9YQbrQv7cvfAWGNOC/FNnELayj4L8H/Z4Hc+/RvyD2rlRKVnm/oiytkRnvqr/asVgECtHTv8S4lvwuT9e/lyLME90hsb+NumOLN4rYP2kST9+NU9c/ZHxOx1zgtz+8LlyImOOXP/M/QDSg49A/o19OiZWc1T8r3Tg+sr3DPwNRi39W7Jy/pot48Rxicz/M/YUoLnSuP9PWP6lll34/EA5yTmTwq7/VHz/yu+C2v7idMclkh7m/zr7TrDXmtb+tZ9JQi4mwv8Fb5PyqNq+/RXg+tzI/nb9kXxACbO22vyPL1Yclmbi/Ni/HdfWLq7+VvARYV+iuvywUiu+ftrO/2INf1gPnsr90zRiVMqerv/ZCQ546s6K/UwZzLjJfmL8ZbMtKJ+aUvwLnnTDIqZS/eN5UNdxfmb8dBs8ktFybvzkwxDJBwpO/qA45dIJPVj+1n5LzvX+gP9DECtE+aqw/zGSrPX/prT+uWeZFjnqlPxImF6RXypU/0KnXZtHmWT8AGej+SwlBPzTnWDkPgoE/Lp8yUn1Unj87o+X0gG+oP3LpuEoSrK8/6IIHwTsdsj9OhzEMSFmzP2c1UW85I7Q/Hxy8y9bVtD8HjZAcEVW0Pw==\",\"dtype\":\"float64\",\"shape\":[74]},\"y\":{\"__ndarray__\":\"0r/J27aUSD9r8pTVdD1RP2k7pu7KLlg/wLdEifH1YD8NyLmoccpnPzEjYYSVr3A/203wTdNndz9s2+Z8Z2qAPwg+YeTABoc/DZnh9U8mkD/s6wrHPaeWPy2yne+nxp8/2y1uSEhJpj8MPWL03EKvPyVdjrLZ7LU/BK+WOzPBvj9HPq946pHFP+YffZOmQc4/PGwiMxc41T+Hp1fKMsTdP/8h/fZ14OQ/KjqSy39I7T+ZKhiV1In0P3PXEvJBz/w/vw6cM6I0BECBJsKGp1cMQOJYF7fR4BNAUkmdgCbiG0ADCYofY44jQOauJeSDbitAMEymCkY9M0Db+X5qvPw6QGgibHh67UJAf/s6cM6MSkDNzMzMzHhSQGZmZmZmalhAAAAAAABcXkDNzMzMzCZiQJqZmZmZH2VAZmZmZmYYaEAzMzMzMxFrQAAAAAAACm5AZmZmZmaBcEDNzMzMzP1xQDMzMzMzenNAmpmZmZn2dEAAAAAAAHN2QGZmZmZm73dAzczMzMxreUAzMzMzM+h6QJqZmZmZZHxAAAAAAADhfUBmZmZmZl1/QGZmZmbmbIBAmpmZmRkrgUDNzMzMTOmBQAAAAACAp4JAMzMzM7Nlg0BmZmZm5iOEQJqZmZkZ4oRAzczMzEyghUAAAAAAgF6GQDMzMzOzHIdAZmZmZubah0CamZmZGZmIQM3MzMxMV4lAAAAAAIAVikAzMzMzs9OKQGZmZmbmkYtAmpmZmRlQjEDNzMzMTA6NQAAAAACAzI1AMzMzM7OKjkBmZmZm5kiPQA==\",\"dtype\":\"float64\",\"shape\":[74]}},\"selected\":{\"id\":\"27f31b79-17f4-4e5f-8a44-b50c4f3af29f\",\"type\":\"Selection\"},\"selection_policy\":{\"id\":\"c032bc2a-5b5e-48aa-b182-f43fe20e4a57\",\"type\":\"UnionRenderers\"}},\"id\":\"87218bb5-b072-4165-8caf-bd2b9c8f20a9\",\"type\":\"ColumnDataSource\"},{\"attributes\":{},\"id\":\"47635a82-5064-49cd-a9df-b121f78fd5b5\",\"type\":\"UnionRenderers\"},{\"attributes\":{},\"id\":\"bf3f2b5d-5c95-433e-b3c8-7ed982b0cffd\",\"type\":\"UnionRenderers\"},{\"attributes\":{\"children\":[{\"id\":\"adcb6e95-b34a-41df-945e-89da24b96874\",\"type\":\"Row\"}]},\"id\":\"002da1dc-e885-4c0c-b95b-d4382f5433d7\",\"type\":\"Column\"},{\"attributes\":{},\"id\":\"b08fdd59-5338-40f3-b142-cf225157a70e\",\"type\":\"ResetTool\"},{\"attributes\":{},\"id\":\"0114ddb8-6741-430c-8a3b-376a7ef3ea6f\",\"type\":\"LinearScale\"},{\"attributes\":{},\"id\":\"05bdaf05-e7d8-4a2c-b025-c0bba999200e\",\"type\":\"UnionRenderers\"},{\"attributes\":{\"plot\":null,\"text\":\"\"},\"id\":\"b88eaf98-e0f3-4b0a-9939-a87997c9622f\",\"type\":\"Title\"},{\"attributes\":{\"axis_label\":\"cooling rate [K/day]\",\"formatter\":{\"id\":\"f62252fd-71b0-4149-8298-d06e210f9032\",\"type\":\"BasicTickFormatter\"},\"plot\":{\"id\":\"dd7416f9-9ccb-4521-8837-2ab185835ec3\",\"subtype\":\"Figure\",\"type\":\"Plot\"},\"ticker\":{\"id\":\"0f116805-e780-4d89-88f4-c3f6a10fa50c\",\"type\":\"BasicTicker\"}},\"id\":\"c3e566f8-b0cc-4f07-b59b-4882f3c03548\",\"type\":\"LinearAxis\"},{\"attributes\":{\"callback\":null,\"data\":{\"x\":{\"__ndarray__\":\"Ay4WgzmiRUAzdH4xyelCQI/4CCUPukFAmDQrpSkbQEAzbNWwowU8QFVgF/XlEDdAoDiHgYPLMUABmdymgcIpQGLYd07xCSJArfSs310nGkAWc9HvWtkUQOusy4pytBFAJqIBIKFJDUB2OQnHDJMDQMl96Kg58fU/43VcVuWK+j82Bjz+TzEFQNyoIwf3DQtAy+LYYlLgEEBpIj3ZQhcWQG2pjOCj/R1Af3bvKgrVJEABDCYXO8wqQEzO0e7F+ylAYXLSO7hOJEAgnb4nokcgQNoX8+gOZBtA1Mo1E7QFFkBNX8S4nigRQOo4z07g4AtAipA4vs4ICEB/nUqZ58sCQFWembm6Bfo/xtoM8LVF8T+FTjDicHrnPwW0NlGD6Ns/djxG7dEQzT/kgWfK0UXAP04e7p6uAKO/U8LMJsVjyb/9SNhTfdyDv6yHiyRvwuc/YH/Q96J+9z8fz8lq9RYAQHNa8arPlwFA6C5g8skGAEDf2G6Pg0P+Pzx05xsQIv0/aqvhULpq/D9/cRIK1jv8P0N2gFVlV/w/l8yGPE/u+z8PyvyTInP7P5+BCjLJB/s/712TDke9+j855FpFY4f6P7S7Qdxnhfo/BEctRHOb+z/jcb7JUHz8P62m1jeD/vw/Kl5ga3r9/D8lrYwPuV38Pz+eRmufRvs/QIGudyMW+j/FXLa7nv/4P2WVJw9Rbfg/CejmZKc8+D+aZMjXvDf4PwzcqrkWtPc/y2300tGk9j+PCzl883P1P+ux3ZfUiPQ/9dhElUIR9D9+kji0k0T0P9hVz+l87/o/\",\"dtype\":\"float64\",\"shape\":[75]},\"y\":{\"__ndarray__\":\"S/O/Q+51ND/Sv8nbtpRIP2vylNV0PVE/aTum7souWD/At0SJ8fVgPw3Iuahxymc/MSNhhJWvcD/bTfBN02d3P2zb5nxnaoA/CD5h5MAGhz8NmeH1TyaQP+zrCsc9p5Y/LbKd76fGnz/bLW5ISEmmPww9YvTcQq8/JV2OstnstT8Er5Y7M8G+P0c+r3jqkcU/5h99k6ZBzj88bCIzFzjVP4enV8oyxN0//yH99nXg5D8qOpLLf0jtP5kqGJXUifQ/c9cS8kHP/D+/DpwzojQEQIEmwoanVwxA4lgXt9HgE0BSSZ2AJuIbQAMJih9jjiNA5q4l5INuK0AwTKYKRj0zQNv5fmq8/DpAaCJseHrtQkB/+zpwzoxKQM3MzMzMeFJAZmZmZmZqWEAAAAAAAFxeQM3MzMzMJmJAmpmZmZkfZUBmZmZmZhhoQDMzMzMzEWtAAAAAAAAKbkBmZmZmZoFwQM3MzMzM/XFAMzMzMzN6c0CamZmZmfZ0QAAAAAAAc3ZAZmZmZmbvd0DNzMzMzGt5QDMzMzMz6HpAmpmZmZlkfEAAAAAAAOF9QGZmZmZmXX9AZmZmZuZsgECamZmZGSuBQM3MzMxM6YFAAAAAAICngkAzMzMzs2WDQGZmZmbmI4RAmpmZmRnihEDNzMzMTKCFQAAAAACAXoZAMzMzM7Mch0BmZmZm5tqHQJqZmZkZmYhAzczMzExXiUAAAAAAgBWKQDMzMzOz04pAZmZmZuaRi0CamZmZGVCMQM3MzMxMDo1AAAAAAIDMjUAzMzMzs4qOQGZmZmbmSI9A\",\"dtype\":\"float64\",\"shape\":[75]}},\"selected\":{\"id\":\"198b18ee-306e-4a44-b5b0-df64dd5e3a03\",\"type\":\"Selection\"},\"selection_policy\":{\"id\":\"2483edd6-6dd8-46b3-bf23-3b9fa98c5e64\",\"type\":\"UnionRenderers\"}},\"id\":\"2411e559-3c1e-4510-b834-a528eb8b53d9\",\"type\":\"ColumnDataSource\"},{\"attributes\":{\"label\":{\"value\":\"CRD\"},\"renderers\":[{\"id\":\"0f501088-65b0-4551-bf13-8b23c2a71859\",\"type\":\"GlyphRenderer\"},{\"id\":\"a9f45b5a-a66a-41be-8167-2c42b6ce239c\",\"type\":\"GlyphRenderer\"}]},\"id\":\"57e8fe3a-7e9b-49d7-ae74-e26448a9d749\",\"type\":\"LegendItem\"},{\"attributes\":{},\"id\":\"27f31b79-17f4-4e5f-8a44-b50c4f3af29f\",\"type\":\"Selection\"},{\"attributes\":{},\"id\":\"efdfb8cc-bc6c-448f-b842-05d46a7f111e\",\"type\":\"LogScale\"},{\"attributes\":{\"plot\":{\"id\":\"ebed2c87-a216-4c19-9733-5cd42c7fd2aa\",\"subtype\":\"Figure\",\"type\":\"Plot\"},\"ticker\":{\"id\":\"7c4332c6-6581-40a0-9c31-4c9b89710594\",\"type\":\"BasicTicker\"}},\"id\":\"c89eecfe-c641-45b3-b356-bdaec90a8db8\",\"type\":\"Grid\"},{\"attributes\":{\"data_source\":{\"id\":\"6992c2d8-139d-4be6-9cc6-42ca60ecae1c\",\"type\":\"ColumnDataSource\"},\"glyph\":{\"id\":\"08d91d5e-6751-436e-84a6-b0f5e024f0be\",\"type\":\"Line\"},\"hover_glyph\":null,\"muted_glyph\":null,\"nonselection_glyph\":{\"id\":\"a48bb48d-6cb7-40ec-ba2c-f3cbbc45fa20\",\"type\":\"Line\"},\"selection_glyph\":null,\"view\":{\"id\":\"48ed01eb-2fc8-4385-8f44-2030a862b01f\",\"type\":\"CDSView\"}},\"id\":\"981f3dfa-5235-456e-a428-f6f4b3b227fb\",\"type\":\"GlyphRenderer\"},{\"attributes\":{\"callback\":null,\"end\":0.01,\"start\":1020},\"id\":\"85b5fa52-629a-4a3b-90df-e6babea1c857\",\"type\":\"Range1d\"},{\"attributes\":{},\"id\":\"70cf02bc-02c8-414c-a5a0-8fe2f2a57277\",\"type\":\"SaveTool\"},{\"attributes\":{\"source\":{\"id\":\"06af793e-185c-44dd-bc80-8c1b67e49ac0\",\"type\":\"ColumnDataSource\"}},\"id\":\"186d3717-63c0-4c05-93f3-4924655db235\",\"type\":\"CDSView\"},{\"attributes\":{\"items\":[{\"id\":\"f602d37c-c63a-4705-b3c5-8a93fbcbb0f7\",\"type\":\"LegendItem\"},{\"id\":\"57e8fe3a-7e9b-49d7-ae74-e26448a9d749\",\"type\":\"LegendItem\"}],\"label_text_font_size\":{\"value\":\"8pt\"},\"location\":\"top_center\",\"orientation\":\"horizontal\",\"plot\":{\"id\":\"0a1d89e4-dc24-4bce-942f-39395fe40c98\",\"subtype\":\"Figure\",\"type\":\"Plot\"}},\"id\":\"1abd3670-7f50-4734-8b13-a4ba1219ba9a\",\"type\":\"Legend\"},{\"attributes\":{\"line_alpha\":0.1,\"line_color\":\"#1f77b4\",\"line_width\":1.5,\"x\":{\"field\":\"x\"},\"y\":{\"field\":\"y\"}},\"id\":\"b7ecada1-638c-40e6-955f-7640307fc2d6\",\"type\":\"Line\"},{\"attributes\":{},\"id\":\"723c06df-d684-4de5-9893-9bbc936b1080\",\"type\":\"Selection\"},{\"attributes\":{},\"id\":\"cf404f34-9320-4d7a-8202-e100adc6a6af\",\"type\":\"HelpTool\"},{\"attributes\":{\"source\":{\"id\":\"d1fbf70d-7303-4b00-908f-26b640176435\",\"type\":\"ColumnDataSource\"}},\"id\":\"d9997512-3e9d-48b7-9023-89df91d9cff7\",\"type\":\"CDSView\"},{\"attributes\":{\"callback\":null,\"data\":{\"x\":{\"__ndarray__\":\"Plrp3Z5jIcBKBfk9Qf4EwAhIBjTPV/g/re0xy0SUDEBKEKO2F2oNQEotRpaPLQNAtDasTSvz4j/Y3ph+zcLqv4miLOrMCfa/OZBOUS2a8b+Z2paSN0Xfv1rfYeD8N7A/VKELW16e2T/SMT3umRDfP8gh/JbbJ9Q/51E4qEcEoT9WPU9YQbrQv7cvfAWGNOC/FNnELayj4L8H/Z4Hc+/RvyD2rlRKVnm/oiytkRnvqr/asVgECtHTv8S4lvwuT9e/lyLME90hsb+NumOLN4rYP2kST9+NU9c/ZHxOx1zgtz+8LlyImOOXP/M/QDSg49A/o19OiZWc1T8r3Tg+sr3DPwNRi39W7Jy/pot48Rxicz/M/YUoLnSuP9PWP6lll34/EA5yTmTwq7/VHz/yu+C2v7idMclkh7m/zr7TrDXmtb+tZ9JQi4mwv8Fb5PyqNq+/RXg+tzI/nb9kXxACbO22vyPL1Yclmbi/Ni/HdfWLq7+VvARYV+iuvywUiu+ftrO/2INf1gPnsr90zRiVMqerv/ZCQ546s6K/UwZzLjJfmL8ZbMtKJ+aUvwLnnTDIqZS/eN5UNdxfmb8dBs8ktFybvzkwxDJBwpO/qA45dIJPVj+1n5LzvX+gP9DECtE+aqw/zGSrPX/prT+uWeZFjnqlPxImF6RXypU/0KnXZtHmWT8AGej+SwlBPzTnWDkPgoE/Lp8yUn1Unj87o+X0gG+oP3LpuEoSrK8/6IIHwTsdsj9OhzEMSFmzP2c1UW85I7Q/Hxy8y9bVtD8HjZAcEVW0Pw==\",\"dtype\":\"float64\",\"shape\":[74]},\"y\":{\"__ndarray__\":\"0r/J27aUSD9r8pTVdD1RP2k7pu7KLlg/wLdEifH1YD8NyLmoccpnPzEjYYSVr3A/203wTdNndz9s2+Z8Z2qAPwg+YeTABoc/DZnh9U8mkD/s6wrHPaeWPy2yne+nxp8/2y1uSEhJpj8MPWL03EKvPyVdjrLZ7LU/BK+WOzPBvj9HPq946pHFP+YffZOmQc4/PGwiMxc41T+Hp1fKMsTdP/8h/fZ14OQ/KjqSy39I7T+ZKhiV1In0P3PXEvJBz/w/vw6cM6I0BECBJsKGp1cMQOJYF7fR4BNAUkmdgCbiG0ADCYofY44jQOauJeSDbitAMEymCkY9M0Db+X5qvPw6QGgibHh67UJAf/s6cM6MSkDNzMzMzHhSQGZmZmZmalhAAAAAAABcXkDNzMzMzCZiQJqZmZmZH2VAZmZmZmYYaEAzMzMzMxFrQAAAAAAACm5AZmZmZmaBcEDNzMzMzP1xQDMzMzMzenNAmpmZmZn2dEAAAAAAAHN2QGZmZmZm73dAzczMzMxreUAzMzMzM+h6QJqZmZmZZHxAAAAAAADhfUBmZmZmZl1/QGZmZmbmbIBAmpmZmRkrgUDNzMzMTOmBQAAAAACAp4JAMzMzM7Nlg0BmZmZm5iOEQJqZmZkZ4oRAzczMzEyghUAAAAAAgF6GQDMzMzOzHIdAZmZmZubah0CamZmZGZmIQM3MzMxMV4lAAAAAAIAVikAzMzMzs9OKQGZmZmbmkYtAmpmZmRlQjEDNzMzMTA6NQAAAAACAzI1AMzMzM7OKjkBmZmZm5kiPQA==\",\"dtype\":\"float64\",\"shape\":[74]}},\"selected\":{\"id\":\"e67282d5-77a8-49bb-86be-104b2f884bc6\",\"type\":\"Selection\"},\"selection_policy\":{\"id\":\"bf3f2b5d-5c95-433e-b3c8-7ed982b0cffd\",\"type\":\"UnionRenderers\"}},\"id\":\"6992c2d8-139d-4be6-9cc6-42ca60ecae1c\",\"type\":\"ColumnDataSource\"},{\"attributes\":{},\"id\":\"d1e65b13-bc3b-4dfd-83f2-0ac09ddc4d1e\",\"type\":\"UnionRenderers\"},{\"attributes\":{\"bottom_units\":\"screen\",\"fill_alpha\":{\"value\":0.5},\"fill_color\":{\"value\":\"lightgrey\"},\"left_units\":\"screen\",\"level\":\"overlay\",\"line_alpha\":{\"value\":1.0},\"line_color\":{\"value\":\"black\"},\"line_dash\":[4,4],\"line_width\":{\"value\":2},\"plot\":null,\"render_mode\":\"css\",\"right_units\":\"screen\",\"top_units\":\"screen\"},\"id\":\"fb95f3d8-4111-42b7-9a42-7d2e7a29c289\",\"type\":\"BoxAnnotation\"},{\"attributes\":{\"data_source\":{\"id\":\"d1fbf70d-7303-4b00-908f-26b640176435\",\"type\":\"ColumnDataSource\"},\"glyph\":{\"id\":\"1e469fc7-39c8-448b-8279-e690fd9d2409\",\"type\":\"Circle\"},\"hover_glyph\":null,\"muted_glyph\":null,\"nonselection_glyph\":{\"id\":\"a8b99cfb-d22a-4a19-b76c-4f2e4cd339b5\",\"type\":\"Circle\"},\"selection_glyph\":null,\"view\":{\"id\":\"d9997512-3e9d-48b7-9023-89df91d9cff7\",\"type\":\"CDSView\"}},\"id\":\"0f501088-65b0-4551-bf13-8b23c2a71859\",\"type\":\"GlyphRenderer\"},{\"attributes\":{\"fill_alpha\":{\"value\":0.1},\"fill_color\":{\"value\":\"#1f77b4\"},\"line_alpha\":{\"value\":0.1},\"line_color\":{\"value\":\"#1f77b4\"},\"x\":{\"field\":\"x\"},\"y\":{\"field\":\"y\"}},\"id\":\"a8b99cfb-d22a-4a19-b76c-4f2e4cd339b5\",\"type\":\"Circle\"},{\"attributes\":{\"data_source\":{\"id\":\"06af793e-185c-44dd-bc80-8c1b67e49ac0\",\"type\":\"ColumnDataSource\"},\"glyph\":{\"id\":\"7060499e-358b-41b8-93ff-e7dfedb984ec\",\"type\":\"Line\"},\"hover_glyph\":null,\"muted_glyph\":null,\"nonselection_glyph\":{\"id\":\"b7ecada1-638c-40e6-955f-7640307fc2d6\",\"type\":\"Line\"},\"selection_glyph\":null,\"view\":{\"id\":\"186d3717-63c0-4c05-93f3-4924655db235\",\"type\":\"CDSView\"}},\"id\":\"a9f45b5a-a66a-41be-8167-2c42b6ce239c\",\"type\":\"GlyphRenderer\"},{\"attributes\":{\"fill_alpha\":{\"value\":0.1},\"fill_color\":{\"value\":\"#1f77b4\"},\"line_alpha\":{\"value\":0.1},\"line_color\":{\"value\":\"#1f77b4\"},\"x\":{\"field\":\"x\"},\"y\":{\"field\":\"y\"}},\"id\":\"51d08e9e-a69d-4343-8d96-dd71d2dc8b8f\",\"type\":\"Circle\"},{\"attributes\":{\"overlay\":{\"id\":\"fb95f3d8-4111-42b7-9a42-7d2e7a29c289\",\"type\":\"BoxAnnotation\"}},\"id\":\"7875c2b6-1a39-4a28-83f4-65977916d1f5\",\"type\":\"BoxZoomTool\"},{\"attributes\":{\"callback\":null,\"data\":{\"x\":{\"__ndarray__\":\"cm1sTMT3VEDEyvjosEJHQOKI6DjzCUNArgQWV9awPkB9Lm8XG3M4QEz+Qv6iYzNA7eV8HaPLLkCX1QHyTpMoQFBmYSYetiNAUB04GtGpH0AmFyVE5j8ZQJca9QPGqBNALJP+OOHHDEBNxaf7QF8AQKtislomWuw/cW2dcO6A9T/uJJvfPu0EQIaQLTI/JQ1AxGiII+PmEkCJvfVeuCsYQD6ZBhGbHB9AXQw69DTYJEAsubcwKucqQNuT9D5OmipAJyi3szEJJUBlNebh5WkgQDDcPHBr2xlArtlANXuQFEBdJadFHckQQI2Avh0ZsQtAjYiwt1rsBUCL0SDoVBgAQK6C0nEEjvc/CggLSme58T9sXU2orFPnP0v0JYz9Gdg/vT38vxYczD9nBQTe6kHHP1IhkEXJwKo/8OZnhCVAub+xtVgCpmqzP6DUpY6g0+k/PKK3T1h4+D8RTDjQc1EAQG/dAQs7TwJAQt2eHpPLAEBWEh074x//PyCap9ZSGf4/rEzaTySm/T+7aXhHRmr9P688KeqeNP0/ruZ4EemD/D8olrZcn9T7P0+vNc9hW/s/i9VVL+4P+z+0NzC24uz6P8731Kza8vo/xFf4SHzq+z+gYyHpvHb8P68ROkiFevw/BAjYdCga/D8AUp8VbW77P3JrF/nKmvo/qCQeGfq++T/dplwHJfn4P2G4p+Uva/g/OzZ0RqMZ+D8dmn/iar73P/OuA7Ka8PY/gaaeQHGn9T9hkyjAH1L0P3aZGhdAU/M/n8VP/g7P8j+90HxHNvfyPwhNBtgrqvk/\",\"dtype\":\"float64\",\"shape\":[75]},\"y\":{\"__ndarray__\":\"GhExyth1ND/Sv8nbtpRIP2vylNV0PVE/aTum7souWD/At0SJ8fVgPw3Iuahxymc/MSNhhJWvcD/bTfBN02d3P2zb5nxnaoA/CD5h5MAGhz8NmeH1TyaQP+zrCsc9p5Y/LbKd76fGnz/bLW5ISEmmPww9YvTcQq8/JV2OstnstT8Er5Y7M8G+P0c+r3jqkcU/5h99k6ZBzj88bCIzFzjVP4enV8oyxN0//yH99nXg5D8qOpLLf0jtP5kqGJXUifQ/c9cS8kHP/D+/DpwzojQEQIEmwoanVwxA4lgXt9HgE0BSSZ2AJuIbQAMJih9jjiNA5q4l5INuK0AwTKYKRj0zQNv5fmq8/DpAaCJseHrtQkB/+zpwzoxKQM3MzMzMeFJAZmZmZmZqWEAAAAAAAFxeQM3MzMzMJmJAmpmZmZkfZUBmZmZmZhhoQDMzMzMzEWtAAAAAAAAKbkBmZmZmZoFwQM3MzMzM/XFAMzMzMzN6c0CamZmZmfZ0QAAAAAAAc3ZAZmZmZmbvd0DNzMzMzGt5QDMzMzMz6HpAmpmZmZlkfEAAAAAAAOF9QGZmZmZmXX9AZmZmZuZsgECamZmZGSuBQM3MzMxM6YFAAAAAAICngkAzMzMzs2WDQGZmZmbmI4RAmpmZmRnihEDNzMzMTKCFQAAAAACAXoZAMzMzM7Mch0BmZmZm5tqHQJqZmZkZmYhAzczMzExXiUAAAAAAgBWKQDMzMzOz04pAZmZmZuaRi0CamZmZGVCMQM3MzMxMDo1AAAAAAIDMjUAzMzMzs4qOQGZmZmbmSI9A\",\"dtype\":\"float64\",\"shape\":[75]}},\"selected\":{\"id\":\"d9b08136-6aa4-409d-af7a-d860cce403ad\",\"type\":\"Selection\"},\"selection_policy\":{\"id\":\"05bdaf05-e7d8-4a2c-b025-c0bba999200e\",\"type\":\"UnionRenderers\"}},\"id\":\"06af793e-185c-44dd-bc80-8c1b67e49ac0\",\"type\":\"ColumnDataSource\"},{\"attributes\":{},\"id\":\"da7d8507-e363-407d-bee9-edd39beca5db\",\"type\":\"WheelZoomTool\"},{\"attributes\":{\"callback\":null,\"end\":0.50401607191973,\"start\":-1.3960204970527301},\"id\":\"42a33df6-f1b8-4405-9301-cd9ce9f7b048\",\"type\":\"Range1d\"},{\"attributes\":{\"fill_alpha\":{\"value\":0.7},\"fill_color\":{\"value\":\"#4daf4a\"},\"line_alpha\":{\"value\":0.7},\"line_color\":{\"value\":\"#4daf4a\"},\"x\":{\"field\":\"x\"},\"y\":{\"field\":\"y\"}},\"id\":\"1e469fc7-39c8-448b-8279-e690fd9d2409\",\"type\":\"Circle\"},{\"attributes\":{},\"id\":\"5efe2917-66d5-4680-ae9f-c43c0c8cfc8b\",\"type\":\"BasicTickFormatter\"},{\"attributes\":{\"data_source\":{\"id\":\"6a56030a-2eb5-4605-9e50-ce743a2f0ec7\",\"type\":\"ColumnDataSource\"},\"glyph\":{\"id\":\"59eae2ef-25e3-4390-a488-9ea6960fe215\",\"type\":\"Line\"},\"hover_glyph\":null,\"muted_glyph\":null,\"nonselection_glyph\":{\"id\":\"3fa786fd-8fd8-48c8-af3b-cec77b183bf6\",\"type\":\"Line\"},\"selection_glyph\":null,\"view\":{\"id\":\"2c7381c3-d0f3-42eb-8cfe-900c095fef60\",\"type\":\"CDSView\"}},\"id\":\"1e4b2138-313e-45d1-b0cd-5195aff23f5f\",\"type\":\"GlyphRenderer\"},{\"attributes\":{},\"id\":\"822916a1-6946-4323-9382-6243a70d6e7c\",\"type\":\"PanTool\"},{\"attributes\":{},\"id\":\"8fb6ab2a-1161-4f1d-812c-e4c7d20aee72\",\"type\":\"SaveTool\"},{\"attributes\":{\"above\":[{\"id\":\"632ac98b-2350-4324-aeed-019b6ad1bbdb\",\"type\":\"Legend\"}],\"below\":[{\"id\":\"c3e566f8-b0cc-4f07-b59b-4882f3c03548\",\"type\":\"LinearAxis\"}],\"left\":[{\"id\":\"46533199-bddc-4355-a2b8-a9893ee11ff8\",\"type\":\"LinearAxis\"}],\"plot_width\":300,\"renderers\":[{\"id\":\"c3e566f8-b0cc-4f07-b59b-4882f3c03548\",\"type\":\"LinearAxis\"},{\"id\":\"c001c95c-9eaf-4665-ae77-f753e1724c84\",\"type\":\"Grid\"},{\"id\":\"46533199-bddc-4355-a2b8-a9893ee11ff8\",\"type\":\"LinearAxis\"},{\"id\":\"b04cfc0f-151b-44d2-8b03-eacc3343c438\",\"type\":\"Grid\"},{\"id\":\"fb95f3d8-4111-42b7-9a42-7d2e7a29c289\",\"type\":\"BoxAnnotation\"},{\"id\":\"1e4b2138-313e-45d1-b0cd-5195aff23f5f\",\"type\":\"GlyphRenderer\"},{\"id\":\"46e399b1-0dd0-40ce-9475-b18140e46c1f\",\"type\":\"GlyphRenderer\"},{\"id\":\"060b7359-6b1e-41eb-8d39-28fed1ef9ace\",\"type\":\"GlyphRenderer\"},{\"id\":\"632ac98b-2350-4324-aeed-019b6ad1bbdb\",\"type\":\"Legend\"}],\"title\":{\"id\":\"adf0da84-a7b5-45d4-84f7-1db5627ceb81\",\"type\":\"Title\"},\"toolbar\":{\"id\":\"b85b60d8-e467-4b36-bd8d-896272f36de6\",\"type\":\"Toolbar\"},\"toolbar_location\":null,\"x_range\":{\"id\":\"e5d263a2-0d85-4259-a0ef-7552fc6c946a\",\"type\":\"Range1d\"},\"x_scale\":{\"id\":\"ed3b58e3-8bfe-4bc9-8a29-f5aa158d2353\",\"type\":\"LinearScale\"},\"y_range\":{\"id\":\"e2df5bab-5e5f-4fc1-a698-b15c22ef41b0\",\"type\":\"Range1d\"},\"y_scale\":{\"id\":\"0114ddb8-6741-430c-8a3b-376a7ef3ea6f\",\"type\":\"LinearScale\"}},\"id\":\"dd7416f9-9ccb-4521-8837-2ab185835ec3\",\"subtype\":\"Figure\",\"type\":\"Plot\"},{\"attributes\":{},\"id\":\"a91bc20a-16fb-41ce-b30f-e82f1fc153f0\",\"type\":\"WheelZoomTool\"},{\"attributes\":{\"active_drag\":\"auto\",\"active_inspect\":\"auto\",\"active_scroll\":\"auto\",\"active_tap\":\"auto\",\"tools\":[{\"id\":\"58a2cfde-32e6-4c79-92ea-fcce32580c00\",\"type\":\"PanTool\"},{\"id\":\"da7d8507-e363-407d-bee9-edd39beca5db\",\"type\":\"WheelZoomTool\"},{\"id\":\"7875c2b6-1a39-4a28-83f4-65977916d1f5\",\"type\":\"BoxZoomTool\"},{\"id\":\"70cf02bc-02c8-414c-a5a0-8fe2f2a57277\",\"type\":\"SaveTool\"},{\"id\":\"b08fdd59-5338-40f3-b142-cf225157a70e\",\"type\":\"ResetTool\"},{\"id\":\"cf404f34-9320-4d7a-8202-e100adc6a6af\",\"type\":\"HelpTool\"}]},\"id\":\"b85b60d8-e467-4b36-bd8d-896272f36de6\",\"type\":\"Toolbar\"},{\"attributes\":{\"line_alpha\":0.6,\"line_color\":\"#e41a1c\",\"line_dash\":[6],\"line_width\":5,\"x\":{\"field\":\"x\"},\"y\":{\"field\":\"y\"}},\"id\":\"d1151123-d2e3-4fef-ad14-c6d31cf71704\",\"type\":\"Line\"},{\"attributes\":{},\"id\":\"0d43df9d-ab40-45dc-85ff-901e2e92adbc\",\"type\":\"BasicTicker\"},{\"attributes\":{\"dimension\":1,\"plot\":{\"id\":\"dd7416f9-9ccb-4521-8837-2ab185835ec3\",\"subtype\":\"Figure\",\"type\":\"Plot\"},\"ticker\":{\"id\":\"0d43df9d-ab40-45dc-85ff-901e2e92adbc\",\"type\":\"BasicTicker\"}},\"id\":\"b04cfc0f-151b-44d2-8b03-eacc3343c438\",\"type\":\"Grid\"},{\"attributes\":{},\"id\":\"fc77392b-b0bf-407c-ab94-342829b1ed37\",\"type\":\"BasicTickFormatter\"},{\"attributes\":{\"items\":[{\"id\":\"83adf44b-0ef0-45e7-a2f4-663c8e02afad\",\"type\":\"LegendItem\"},{\"id\":\"1de590d5-92d9-4543-8d72-7c04d56c7d53\",\"type\":\"LegendItem\"}],\"label_text_font_size\":{\"value\":\"8pt\"},\"location\":\"top_center\",\"orientation\":\"horizontal\",\"plot\":{\"id\":\"dd7416f9-9ccb-4521-8837-2ab185835ec3\",\"subtype\":\"Figure\",\"type\":\"Plot\"}},\"id\":\"632ac98b-2350-4324-aeed-019b6ad1bbdb\",\"type\":\"Legend\"},{\"attributes\":{\"data_source\":{\"id\":\"0104e837-321e-475b-9f75-480f52af3fe7\",\"type\":\"ColumnDataSource\"},\"glyph\":{\"id\":\"924ad483-6dcf-42e2-8c32-426a3130b28b\",\"type\":\"Circle\"},\"hover_glyph\":null,\"muted_glyph\":null,\"nonselection_glyph\":{\"id\":\"4e4bf1b1-8f70-4228-b1ca-3000cad30a9e\",\"type\":\"Circle\"},\"selection_glyph\":null,\"view\":{\"id\":\"e77f6714-6a79-47de-ba0e-4f00ed55a674\",\"type\":\"CDSView\"}},\"id\":\"46e399b1-0dd0-40ce-9475-b18140e46c1f\",\"type\":\"GlyphRenderer\"},{\"attributes\":{\"plot\":null,\"text\":\"\"},\"id\":\"53ba1b38-8f5b-49d0-80fc-cf803292311e\",\"type\":\"Title\"},{\"attributes\":{\"label\":{\"value\":\"CLIRAD - CRD\"},\"renderers\":[{\"id\":\"04e16f4c-7c2c-4eef-8722-b018984a968e\",\"type\":\"GlyphRenderer\"},{\"id\":\"981f3dfa-5235-456e-a428-f6f4b3b227fb\",\"type\":\"GlyphRenderer\"}]},\"id\":\"d6c058fb-8d91-4fd9-aa37-bdc114699493\",\"type\":\"LegendItem\"},{\"attributes\":{\"dimension\":1,\"plot\":{\"id\":\"ebed2c87-a216-4c19-9733-5cd42c7fd2aa\",\"subtype\":\"Figure\",\"type\":\"Plot\"},\"ticker\":{\"id\":\"8726bd7d-9ae3-4514-935e-e9b748289f83\",\"type\":\"LogTicker\"}},\"id\":\"ee1e4b61-786b-4180-b4c0-64512b82561d\",\"type\":\"Grid\"},{\"attributes\":{\"callback\":null,\"end\":2.3135572750986206,\"start\":-0.22322768330062},\"id\":\"e5d263a2-0d85-4259-a0ef-7552fc6c946a\",\"type\":\"Range1d\"},{\"attributes\":{},\"id\":\"ed3b58e3-8bfe-4bc9-8a29-f5aa158d2353\",\"type\":\"LinearScale\"},{\"attributes\":{},\"id\":\"0f116805-e780-4d89-88f4-c3f6a10fa50c\",\"type\":\"BasicTicker\"},{\"attributes\":{\"callback\":null,\"data\":{\"x\":{\"__ndarray__\":\"cm1sTMT3VEDEyvjosEJHQOKI6DjzCUNArgQWV9awPkB9Lm8XG3M4QEz+Qv6iYzNA7eV8HaPLLkCX1QHyTpMoQFBmYSYetiNAUB04GtGpH0AmFyVE5j8ZQJca9QPGqBNALJP+OOHHDEBNxaf7QF8AQKtislomWuw/cW2dcO6A9T/uJJvfPu0EQIaQLTI/JQ1AxGiII+PmEkCJvfVeuCsYQD6ZBhGbHB9AXQw69DTYJEAsubcwKucqQNuT9D5OmipAJyi3szEJJUBlNebh5WkgQDDcPHBr2xlArtlANXuQFEBdJadFHckQQI2Avh0ZsQtAjYiwt1rsBUCL0SDoVBgAQK6C0nEEjvc/CggLSme58T9sXU2orFPnP0v0JYz9Gdg/vT38vxYczD9nBQTe6kHHP1IhkEXJwKo/8OZnhCVAub+xtVgCpmqzP6DUpY6g0+k/PKK3T1h4+D8RTDjQc1EAQG/dAQs7TwJAQt2eHpPLAEBWEh074x//PyCap9ZSGf4/rEzaTySm/T+7aXhHRmr9P688KeqeNP0/ruZ4EemD/D8olrZcn9T7P0+vNc9hW/s/i9VVL+4P+z+0NzC24uz6P8731Kza8vo/xFf4SHzq+z+gYyHpvHb8P68ROkiFevw/BAjYdCga/D8AUp8VbW77P3JrF/nKmvo/qCQeGfq++T/dplwHJfn4P2G4p+Uva/g/OzZ0RqMZ+D8dmn/iar73P/OuA7Ka8PY/gaaeQHGn9T9hkyjAH1L0P3aZGhdAU/M/n8VP/g7P8j+90HxHNvfyPwhNBtgrqvk/\",\"dtype\":\"float64\",\"shape\":[75]},\"y\":{\"__ndarray__\":\"GhExyth1ND/Sv8nbtpRIP2vylNV0PVE/aTum7souWD/At0SJ8fVgPw3Iuahxymc/MSNhhJWvcD/bTfBN02d3P2zb5nxnaoA/CD5h5MAGhz8NmeH1TyaQP+zrCsc9p5Y/LbKd76fGnz/bLW5ISEmmPww9YvTcQq8/JV2OstnstT8Er5Y7M8G+P0c+r3jqkcU/5h99k6ZBzj88bCIzFzjVP4enV8oyxN0//yH99nXg5D8qOpLLf0jtP5kqGJXUifQ/c9cS8kHP/D+/DpwzojQEQIEmwoanVwxA4lgXt9HgE0BSSZ2AJuIbQAMJih9jjiNA5q4l5INuK0AwTKYKRj0zQNv5fmq8/DpAaCJseHrtQkB/+zpwzoxKQM3MzMzMeFJAZmZmZmZqWEAAAAAAAFxeQM3MzMzMJmJAmpmZmZkfZUBmZmZmZhhoQDMzMzMzEWtAAAAAAAAKbkBmZmZmZoFwQM3MzMzM/XFAMzMzMzN6c0CamZmZmfZ0QAAAAAAAc3ZAZmZmZmbvd0DNzMzMzGt5QDMzMzMz6HpAmpmZmZlkfEAAAAAAAOF9QGZmZmZmXX9AZmZmZuZsgECamZmZGSuBQM3MzMxM6YFAAAAAAICngkAzMzMzs2WDQGZmZmbmI4RAmpmZmRnihEDNzMzMTKCFQAAAAACAXoZAMzMzM7Mch0BmZmZm5tqHQJqZmZkZmYhAzczMzExXiUAAAAAAgBWKQDMzMzOz04pAZmZmZuaRi0CamZmZGVCMQM3MzMxMDo1AAAAAAIDMjUAzMzMzs4qOQGZmZmbmSI9A\",\"dtype\":\"float64\",\"shape\":[75]}},\"selected\":{\"id\":\"723c06df-d684-4de5-9893-9bbc936b1080\",\"type\":\"Selection\"},\"selection_policy\":{\"id\":\"d1e65b13-bc3b-4dfd-83f2-0ac09ddc4d1e\",\"type\":\"UnionRenderers\"}},\"id\":\"0104e837-321e-475b-9f75-480f52af3fe7\",\"type\":\"ColumnDataSource\"},{\"attributes\":{\"plot\":null,\"text\":\"\"},\"id\":\"adf0da84-a7b5-45d4-84f7-1db5627ceb81\",\"type\":\"Title\"},{\"attributes\":{},\"id\":\"2483edd6-6dd8-46b3-bf23-3b9fa98c5e64\",\"type\":\"UnionRenderers\"},{\"attributes\":{},\"id\":\"dfbfa8fd-e769-4d17-b15a-ad2c0218f9b0\",\"type\":\"UnionRenderers\"},{\"attributes\":{\"axis_label\":\"pressure [mb]\",\"formatter\":{\"id\":\"6d9d92d0-74c5-40ee-adf7-49b30425be66\",\"type\":\"BasicTickFormatter\"},\"plot\":{\"id\":\"dd7416f9-9ccb-4521-8837-2ab185835ec3\",\"subtype\":\"Figure\",\"type\":\"Plot\"},\"ticker\":{\"id\":\"0d43df9d-ab40-45dc-85ff-901e2e92adbc\",\"type\":\"BasicTicker\"}},\"id\":\"46533199-bddc-4355-a2b8-a9893ee11ff8\",\"type\":\"LinearAxis\"},{\"attributes\":{\"source\":{\"id\":\"0104e837-321e-475b-9f75-480f52af3fe7\",\"type\":\"ColumnDataSource\"}},\"id\":\"e77f6714-6a79-47de-ba0e-4f00ed55a674\",\"type\":\"CDSView\"},{\"attributes\":{},\"id\":\"88d74819-cef5-4795-9400-0ac1b1b9ab08\",\"type\":\"LinearScale\"},{\"attributes\":{\"data_source\":{\"id\":\"2411e559-3c1e-4510-b834-a528eb8b53d9\",\"type\":\"ColumnDataSource\"},\"glyph\":{\"id\":\"d1151123-d2e3-4fef-ad14-c6d31cf71704\",\"type\":\"Line\"},\"hover_glyph\":null,\"muted_glyph\":null,\"nonselection_glyph\":{\"id\":\"95986e8a-cb54-413a-a422-7119aac3097f\",\"type\":\"Line\"},\"selection_glyph\":null,\"view\":{\"id\":\"81b124ff-cd24-45d9-a201-f0f1ff32ac30\",\"type\":\"CDSView\"}},\"id\":\"29af422d-35ba-43d1-9d57-6c80439fe932\",\"type\":\"GlyphRenderer\"},{\"attributes\":{},\"id\":\"883dde03-cda0-4f69-b599-d87311ef5e7f\",\"type\":\"ResetTool\"},{\"attributes\":{},\"id\":\"bcc5904f-7da7-4c6f-a363-ced057631b3b\",\"type\":\"HelpTool\"},{\"attributes\":{\"fill_alpha\":{\"value\":0.7},\"fill_color\":{\"value\":\"#4daf4a\"},\"line_alpha\":{\"value\":0.7},\"line_color\":{\"value\":\"#4daf4a\"},\"x\":{\"field\":\"x\"},\"y\":{\"field\":\"y\"}},\"id\":\"924ad483-6dcf-42e2-8c32-426a3130b28b\",\"type\":\"Circle\"},{\"attributes\":{\"ticker\":null},\"id\":\"674889d0-ff89-45ce-b9e0-8d3013f0cb51\",\"type\":\"LogTickFormatter\"},{\"attributes\":{\"bottom_units\":\"screen\",\"fill_alpha\":{\"value\":0.5},\"fill_color\":{\"value\":\"lightgrey\"},\"left_units\":\"screen\",\"level\":\"overlay\",\"line_alpha\":{\"value\":1.0},\"line_color\":{\"value\":\"black\"},\"line_dash\":[4,4],\"line_width\":{\"value\":2},\"plot\":null,\"render_mode\":\"css\",\"right_units\":\"screen\",\"top_units\":\"screen\"},\"id\":\"5395e0c7-08e7-46e2-bfba-d3b0f3f811fa\",\"type\":\"BoxAnnotation\"},{\"attributes\":{\"callback\":null,\"end\":0.01,\"start\":1020},\"id\":\"e2df5bab-5e5f-4fc1-a698-b15c22ef41b0\",\"type\":\"Range1d\"},{\"attributes\":{\"line_color\":\"#4daf4a\",\"line_width\":1.5,\"x\":{\"field\":\"x\"},\"y\":{\"field\":\"y\"}},\"id\":\"ca58ee38-305c-4b8c-96d8-3faf1be4aeac\",\"type\":\"Line\"},{\"attributes\":{},\"id\":\"6d9d92d0-74c5-40ee-adf7-49b30425be66\",\"type\":\"BasicTickFormatter\"},{\"attributes\":{\"num_minor_ticks\":10},\"id\":\"8726bd7d-9ae3-4514-935e-e9b748289f83\",\"type\":\"LogTicker\"},{\"attributes\":{\"fill_alpha\":{\"value\":0.7},\"fill_color\":{\"value\":\"#984ea3\"},\"line_alpha\":{\"value\":0.7},\"line_color\":{\"value\":\"#984ea3\"},\"x\":{\"field\":\"x\"},\"y\":{\"field\":\"y\"}},\"id\":\"5ef861fb-ffc1-402e-97a0-a8178b654861\",\"type\":\"Circle\"},{\"attributes\":{\"plot\":{\"id\":\"dd7416f9-9ccb-4521-8837-2ab185835ec3\",\"subtype\":\"Figure\",\"type\":\"Plot\"},\"ticker\":{\"id\":\"0f116805-e780-4d89-88f4-c3f6a10fa50c\",\"type\":\"BasicTicker\"}},\"id\":\"c001c95c-9eaf-4665-ae77-f753e1724c84\",\"type\":\"Grid\"},{\"attributes\":{},\"id\":\"198b18ee-306e-4a44-b5b0-df64dd5e3a03\",\"type\":\"Selection\"},{\"attributes\":{\"callback\":null,\"data\":{\"x\":{\"__ndarray__\":\"cm1sTMT3VEDEyvjosEJHQOKI6DjzCUNArgQWV9awPkB9Lm8XG3M4QEz+Qv6iYzNA7eV8HaPLLkCX1QHyTpMoQFBmYSYetiNAUB04GtGpH0AmFyVE5j8ZQJca9QPGqBNALJP+OOHHDEBNxaf7QF8AQKtislomWuw/cW2dcO6A9T/uJJvfPu0EQIaQLTI/JQ1AxGiII+PmEkCJvfVeuCsYQD6ZBhGbHB9AXQw69DTYJEAsubcwKucqQNuT9D5OmipAJyi3szEJJUBlNebh5WkgQDDcPHBr2xlArtlANXuQFEBdJadFHckQQI2Avh0ZsQtAjYiwt1rsBUCL0SDoVBgAQK6C0nEEjvc/CggLSme58T9sXU2orFPnP0v0JYz9Gdg/vT38vxYczD9nBQTe6kHHP1IhkEXJwKo/8OZnhCVAub+xtVgCpmqzP6DUpY6g0+k/PKK3T1h4+D8RTDjQc1EAQG/dAQs7TwJAQt2eHpPLAEBWEh074x//PyCap9ZSGf4/rEzaTySm/T+7aXhHRmr9P688KeqeNP0/ruZ4EemD/D8olrZcn9T7P0+vNc9hW/s/i9VVL+4P+z+0NzC24uz6P8731Kza8vo/xFf4SHzq+z+gYyHpvHb8P68ROkiFevw/BAjYdCga/D8AUp8VbW77P3JrF/nKmvo/qCQeGfq++T/dplwHJfn4P2G4p+Uva/g/OzZ0RqMZ+D8dmn/iar73P/OuA7Ka8PY/gaaeQHGn9T9hkyjAH1L0P3aZGhdAU/M/n8VP/g7P8j+90HxHNvfyPwhNBtgrqvk/\",\"dtype\":\"float64\",\"shape\":[75]},\"y\":{\"__ndarray__\":\"GhExyth1ND/Sv8nbtpRIP2vylNV0PVE/aTum7souWD/At0SJ8fVgPw3Iuahxymc/MSNhhJWvcD/bTfBN02d3P2zb5nxnaoA/CD5h5MAGhz8NmeH1TyaQP+zrCsc9p5Y/LbKd76fGnz/bLW5ISEmmPww9YvTcQq8/JV2OstnstT8Er5Y7M8G+P0c+r3jqkcU/5h99k6ZBzj88bCIzFzjVP4enV8oyxN0//yH99nXg5D8qOpLLf0jtP5kqGJXUifQ/c9cS8kHP/D+/DpwzojQEQIEmwoanVwxA4lgXt9HgE0BSSZ2AJuIbQAMJih9jjiNA5q4l5INuK0AwTKYKRj0zQNv5fmq8/DpAaCJseHrtQkB/+zpwzoxKQM3MzMzMeFJAZmZmZmZqWEAAAAAAAFxeQM3MzMzMJmJAmpmZmZkfZUBmZmZmZhhoQDMzMzMzEWtAAAAAAAAKbkBmZmZmZoFwQM3MzMzM/XFAMzMzMzN6c0CamZmZmfZ0QAAAAAAAc3ZAZmZmZmbvd0DNzMzMzGt5QDMzMzMz6HpAmpmZmZlkfEAAAAAAAOF9QGZmZmZmXX9AZmZmZuZsgECamZmZGSuBQM3MzMxM6YFAAAAAAICngkAzMzMzs2WDQGZmZmbmI4RAmpmZmRnihEDNzMzMTKCFQAAAAACAXoZAMzMzM7Mch0BmZmZm5tqHQJqZmZkZmYhAzczMzExXiUAAAAAAgBWKQDMzMzOz04pAZmZmZuaRi0CamZmZGVCMQM3MzMxMDo1AAAAAAIDMjUAzMzMzs4qOQGZmZmbmSI9A\",\"dtype\":\"float64\",\"shape\":[75]}},\"selected\":{\"id\":\"d95375cb-4668-4d2d-b2f3-d76788e442bc\",\"type\":\"Selection\"},\"selection_policy\":{\"id\":\"47635a82-5064-49cd-a9df-b121f78fd5b5\",\"type\":\"UnionRenderers\"}},\"id\":\"c4e9dfcd-63bb-40b7-9029-583b4a5816bc\",\"type\":\"ColumnDataSource\"},{\"attributes\":{\"fill_alpha\":{\"value\":0.1},\"fill_color\":{\"value\":\"#1f77b4\"},\"line_alpha\":{\"value\":0.1},\"line_color\":{\"value\":\"#1f77b4\"},\"x\":{\"field\":\"x\"},\"y\":{\"field\":\"y\"}},\"id\":\"4e4bf1b1-8f70-4228-b1ca-3000cad30a9e\",\"type\":\"Circle\"},{\"attributes\":{\"overlay\":{\"id\":\"5395e0c7-08e7-46e2-bfba-d3b0f3f811fa\",\"type\":\"BoxAnnotation\"}},\"id\":\"f9d159fb-1ad1-4edd-bf27-880ac9ffb2d4\",\"type\":\"BoxZoomTool\"},{\"attributes\":{},\"id\":\"94fef9f8-9db8-4569-9b6a-5ee6d6be679f\",\"type\":\"Selection\"},{\"attributes\":{\"callback\":null,\"data\":{\"x\":{\"__ndarray__\":\"Ay4WgzmiRUAzdH4xyelCQI/4CCUPukFAmDQrpSkbQEAzbNWwowU8QFVgF/XlEDdAoDiHgYPLMUABmdymgcIpQGLYd07xCSJArfSs310nGkAWc9HvWtkUQOusy4pytBFAJqIBIKFJDUB2OQnHDJMDQMl96Kg58fU/43VcVuWK+j82Bjz+TzEFQNyoIwf3DQtAy+LYYlLgEEBpIj3ZQhcWQG2pjOCj/R1Af3bvKgrVJEABDCYXO8wqQEzO0e7F+ylAYXLSO7hOJEAgnb4nokcgQNoX8+gOZBtA1Mo1E7QFFkBNX8S4nigRQOo4z07g4AtAipA4vs4ICEB/nUqZ58sCQFWembm6Bfo/xtoM8LVF8T+FTjDicHrnPwW0NlGD6Ns/djxG7dEQzT/kgWfK0UXAP04e7p6uAKO/U8LMJsVjyb/9SNhTfdyDv6yHiyRvwuc/YH/Q96J+9z8fz8lq9RYAQHNa8arPlwFA6C5g8skGAEDf2G6Pg0P+Pzx05xsQIv0/aqvhULpq/D9/cRIK1jv8P0N2gFVlV/w/l8yGPE/u+z8PyvyTInP7P5+BCjLJB/s/712TDke9+j855FpFY4f6P7S7Qdxnhfo/BEctRHOb+z/jcb7JUHz8P62m1jeD/vw/Kl5ga3r9/D8lrYwPuV38Pz+eRmufRvs/QIGudyMW+j/FXLa7nv/4P2WVJw9Rbfg/CejmZKc8+D+aZMjXvDf4PwzcqrkWtPc/y2300tGk9j+PCzl883P1P+ux3ZfUiPQ/9dhElUIR9D9+kji0k0T0P9hVz+l87/o/\",\"dtype\":\"float64\",\"shape\":[75]},\"y\":{\"__ndarray__\":\"S/O/Q+51ND/Sv8nbtpRIP2vylNV0PVE/aTum7souWD/At0SJ8fVgPw3Iuahxymc/MSNhhJWvcD/bTfBN02d3P2zb5nxnaoA/CD5h5MAGhz8NmeH1TyaQP+zrCsc9p5Y/LbKd76fGnz/bLW5ISEmmPww9YvTcQq8/JV2OstnstT8Er5Y7M8G+P0c+r3jqkcU/5h99k6ZBzj88bCIzFzjVP4enV8oyxN0//yH99nXg5D8qOpLLf0jtP5kqGJXUifQ/c9cS8kHP/D+/DpwzojQEQIEmwoanVwxA4lgXt9HgE0BSSZ2AJuIbQAMJih9jjiNA5q4l5INuK0AwTKYKRj0zQNv5fmq8/DpAaCJseHrtQkB/+zpwzoxKQM3MzMzMeFJAZmZmZmZqWEAAAAAAAFxeQM3MzMzMJmJAmpmZmZkfZUBmZmZmZhhoQDMzMzMzEWtAAAAAAAAKbkBmZmZmZoFwQM3MzMzM/XFAMzMzMzN6c0CamZmZmfZ0QAAAAAAAc3ZAZmZmZmbvd0DNzMzMzGt5QDMzMzMz6HpAmpmZmZlkfEAAAAAAAOF9QGZmZmZmXX9AZmZmZuZsgECamZmZGSuBQM3MzMxM6YFAAAAAAICngkAzMzMzs2WDQGZmZmbmI4RAmpmZmRnihEDNzMzMTKCFQAAAAACAXoZAMzMzM7Mch0BmZmZm5tqHQJqZmZkZmYhAzczMzExXiUAAAAAAgBWKQDMzMzOz04pAZmZmZuaRi0CamZmZGVCMQM3MzMxMDo1AAAAAAIDMjUAzMzMzs4qOQGZmZmbmSI9A\",\"dtype\":\"float64\",\"shape\":[75]}},\"selected\":{\"id\":\"7132b7a1-d530-4842-b336-637f5f54611c\",\"type\":\"Selection\"},\"selection_policy\":{\"id\":\"dfbfa8fd-e769-4d17-b15a-ad2c0218f9b0\",\"type\":\"UnionRenderers\"}},\"id\":\"6a56030a-2eb5-4605-9e50-ce743a2f0ec7\",\"type\":\"ColumnDataSource\"},{\"attributes\":{\"children\":[{\"id\":\"95cff92a-8879-4fa7-a117-f516f90dd49b\",\"type\":\"ToolbarBox\"},{\"id\":\"002da1dc-e885-4c0c-b95b-d4382f5433d7\",\"type\":\"Column\"}]},\"id\":\"f8d91cde-db9c-465f-a4f4-81906a79544c\",\"type\":\"Column\"},{\"attributes\":{\"above\":[{\"id\":\"e8d0d48b-4c0e-4545-b671-8d6848424d81\",\"type\":\"Legend\"}],\"below\":[{\"id\":\"4fad7169-59ba-4a19-a643-c98ffa557f5a\",\"type\":\"LinearAxis\"}],\"left\":[{\"id\":\"46e061c7-ada2-4e7a-97e6-60c6d82b419a\",\"type\":\"LogAxis\"}],\"plot_width\":300,\"renderers\":[{\"id\":\"4fad7169-59ba-4a19-a643-c98ffa557f5a\",\"type\":\"LinearAxis\"},{\"id\":\"c89eecfe-c641-45b3-b356-bdaec90a8db8\",\"type\":\"Grid\"},{\"id\":\"46e061c7-ada2-4e7a-97e6-60c6d82b419a\",\"type\":\"LogAxis\"},{\"id\":\"ee1e4b61-786b-4180-b4c0-64512b82561d\",\"type\":\"Grid\"},{\"id\":\"5395e0c7-08e7-46e2-bfba-d3b0f3f811fa\",\"type\":\"BoxAnnotation\"},{\"id\":\"04e16f4c-7c2c-4eef-8722-b018984a968e\",\"type\":\"GlyphRenderer\"},{\"id\":\"981f3dfa-5235-456e-a428-f6f4b3b227fb\",\"type\":\"GlyphRenderer\"},{\"id\":\"e8d0d48b-4c0e-4545-b671-8d6848424d81\",\"type\":\"Legend\"}],\"title\":{\"id\":\"53ba1b38-8f5b-49d0-80fc-cf803292311e\",\"type\":\"Title\"},\"toolbar\":{\"id\":\"42ec71fe-7497-434e-9b17-4b75f54925a2\",\"type\":\"Toolbar\"},\"toolbar_location\":null,\"x_range\":{\"id\":\"42a33df6-f1b8-4405-9301-cd9ce9f7b048\",\"type\":\"Range1d\"},\"x_scale\":{\"id\":\"88d74819-cef5-4795-9400-0ac1b1b9ab08\",\"type\":\"LinearScale\"},\"y_range\":{\"id\":\"85b5fa52-629a-4a3b-90df-e6babea1c857\",\"type\":\"Range1d\"},\"y_scale\":{\"id\":\"efdfb8cc-bc6c-448f-b842-05d46a7f111e\",\"type\":\"LogScale\"}},\"id\":\"ebed2c87-a216-4c19-9733-5cd42c7fd2aa\",\"subtype\":\"Figure\",\"type\":\"Plot\"},{\"attributes\":{},\"id\":\"1690499f-9ed8-42bf-9421-2309cb76d497\",\"type\":\"UnionRenderers\"},{\"attributes\":{\"callback\":null,\"end\":13.587992271510018,\"start\":-0.33485575257202},\"id\":\"c83985bf-8b1b-41a6-a8f8-967fa96ded84\",\"type\":\"Range1d\"},{\"attributes\":{\"data_source\":{\"id\":\"87218bb5-b072-4165-8caf-bd2b9c8f20a9\",\"type\":\"ColumnDataSource\"},\"glyph\":{\"id\":\"5ef861fb-ffc1-402e-97a0-a8178b654861\",\"type\":\"Circle\"},\"hover_glyph\":null,\"muted_glyph\":null,\"nonselection_glyph\":{\"id\":\"51d08e9e-a69d-4343-8d96-dd71d2dc8b8f\",\"type\":\"Circle\"},\"selection_glyph\":null,\"view\":{\"id\":\"02b801cb-39b5-4a69-a523-d36162890100\",\"type\":\"CDSView\"}},\"id\":\"04e16f4c-7c2c-4eef-8722-b018984a968e\",\"type\":\"GlyphRenderer\"},{\"attributes\":{\"source\":{\"id\":\"87218bb5-b072-4165-8caf-bd2b9c8f20a9\",\"type\":\"ColumnDataSource\"}},\"id\":\"02b801cb-39b5-4a69-a523-d36162890100\",\"type\":\"CDSView\"},{\"attributes\":{\"bottom_units\":\"screen\",\"fill_alpha\":{\"value\":0.5},\"fill_color\":{\"value\":\"lightgrey\"},\"left_units\":\"screen\",\"level\":\"overlay\",\"line_alpha\":{\"value\":1.0},\"line_color\":{\"value\":\"black\"},\"line_dash\":[4,4],\"line_width\":{\"value\":2},\"plot\":null,\"render_mode\":\"css\",\"right_units\":\"screen\",\"top_units\":\"screen\"},\"id\":\"8bc62cdc-9376-432e-86ab-e13b10ca6a6d\",\"type\":\"BoxAnnotation\"},{\"attributes\":{\"line_alpha\":0.1,\"line_color\":\"#1f77b4\",\"line_dash\":[6],\"line_width\":5,\"x\":{\"field\":\"x\"},\"y\":{\"field\":\"y\"}},\"id\":\"95986e8a-cb54-413a-a422-7119aac3097f\",\"type\":\"Line\"},{\"attributes\":{\"axis_label\":\"pressure [mb]\",\"formatter\":{\"id\":\"3f318268-57e3-4c46-aac1-365529ac2307\",\"type\":\"LogTickFormatter\"},\"plot\":{\"id\":\"ebed2c87-a216-4c19-9733-5cd42c7fd2aa\",\"subtype\":\"Figure\",\"type\":\"Plot\"},\"ticker\":{\"id\":\"8726bd7d-9ae3-4514-935e-e9b748289f83\",\"type\":\"LogTicker\"}},\"id\":\"46e061c7-ada2-4e7a-97e6-60c6d82b419a\",\"type\":\"LogAxis\"},{\"attributes\":{},\"id\":\"7c4332c6-6581-40a0-9c31-4c9b89710594\",\"type\":\"BasicTicker\"},{\"attributes\":{},\"id\":\"d9b08136-6aa4-409d-af7a-d860cce403ad\",\"type\":\"Selection\"}],\"root_ids\":[\"f8d91cde-db9c-465f-a4f4-81906a79544c\"]},\"title\":\"Bokeh Application\",\"version\":\"0.12.16\"}};\n",
       "  var render_items = [{\"docid\":\"c42c1a71-9287-4263-a2e9-6c04778e9a57\",\"elementid\":\"7b614b76-2edb-40fb-a1ba-d3fe3023a1d6\",\"modelid\":\"f8d91cde-db9c-465f-a4f4-81906a79544c\"}];\n",
       "  root.Bokeh.embed.embed_items_notebook(docs_json, render_items);\n",
       "\n",
       "  }\n",
       "  if (root.Bokeh !== undefined) {\n",
       "    embed_document(root);\n",
       "  } else {\n",
       "    var attempts = 0;\n",
       "    var timer = setInterval(function(root) {\n",
       "      if (root.Bokeh !== undefined) {\n",
       "        embed_document(root);\n",
       "        clearInterval(timer);\n",
       "      }\n",
       "      attempts++;\n",
       "      if (attempts > 100) {\n",
       "        console.log(\"Bokeh: ERROR: Unable to run BokehJS code because BokehJS library is missing\")\n",
       "        clearInterval(timer);\n",
       "      }\n",
       "    }, 10, root)\n",
       "  }\n",
       "})(window);"
      ],
      "application/vnd.bokehjs_exec.v0+json": ""
     },
     "metadata": {
      "application/vnd.bokehjs_exec.v0+json": {
       "id": "f8d91cde-db9c-465f-a4f4-81906a79544c"
      }
     },
     "output_type": "display_data"
    },
    {
     "data": {
      "text/markdown": [
       "*FIGURE.* Cooling rates & difference."
      ],
      "text/plain": [
       "<IPython.core.display.Markdown object>"
      ]
     },
     "metadata": {},
     "output_type": "display_data"
    },
    {
     "data": {
      "text/html": [
       "<a id=\"Fluxes._mls.\"></a>"
      ],
      "text/plain": [
       "<IPython.core.display.HTML object>"
      ]
     },
     "metadata": {},
     "output_type": "display_data"
    },
    {
     "data": {
      "text/markdown": [
       "# Fluxes. mls."
      ],
      "text/plain": [
       "<IPython.core.display.Markdown object>"
      ]
     },
     "metadata": {},
     "output_type": "display_data"
    },
    {
     "data": {
      "text/html": [
       "\n",
       "<div class=\"bk-root\">\n",
       "    <div class=\"bk-plotdiv\" id=\"8b780d19-203a-45d7-8434-eccc71c6ac72\"></div>\n",
       "</div>"
      ]
     },
     "metadata": {},
     "output_type": "display_data"
    },
    {
     "data": {
      "application/javascript": [
       "(function(root) {\n",
       "  function embed_document(root) {\n",
       "    \n",
       "  var docs_json = {\"d1345e53-470f-46b3-bf4b-26ea72f5f190\":{\"roots\":{\"references\":[{\"attributes\":{\"callback\":null},\"id\":\"12e4b169-b334-4150-ad87-4f78e4063375\",\"type\":\"DataRange1d\"},{\"attributes\":{\"below\":[{\"id\":\"e9c87c64-a9a2-4628-9b59-48ef79bce9df\",\"type\":\"CategoricalAxis\"}],\"left\":[{\"id\":\"34ebbb31-b6ec-4415-b637-4d7e374aa0b0\",\"type\":\"LinearAxis\"}],\"plot_height\":300,\"plot_width\":300,\"renderers\":[{\"id\":\"e9c87c64-a9a2-4628-9b59-48ef79bce9df\",\"type\":\"CategoricalAxis\"},{\"id\":\"d54e56db-0c41-46f0-93ec-8cf545f0e44a\",\"type\":\"Grid\"},{\"id\":\"34ebbb31-b6ec-4415-b637-4d7e374aa0b0\",\"type\":\"LinearAxis\"},{\"id\":\"61a0c8f8-065d-43af-943b-d58a92c6b2c4\",\"type\":\"Grid\"},{\"id\":\"ee0134d0-a1dd-4c29-901b-dac779f16cf3\",\"type\":\"BoxAnnotation\"},{\"id\":\"4fcd668d-d593-48f8-a3b4-242d49ba5007\",\"type\":\"GlyphRenderer\"}],\"title\":{\"id\":\"344fe79f-c90f-4e18-a06a-85c1a2bfde42\",\"type\":\"Title\"},\"toolbar\":{\"id\":\"0a57b984-9ce3-40b2-ba54-8ac29d9e755d\",\"type\":\"Toolbar\"},\"toolbar_location\":null,\"x_range\":{\"id\":\"a8a01f1e-2b08-4fa6-b8d9-3577c8c5a700\",\"type\":\"FactorRange\"},\"x_scale\":{\"id\":\"2a8a8fc6-ed1f-4cde-b249-d38326d982c3\",\"type\":\"CategoricalScale\"},\"y_range\":{\"id\":\"bb2c1511-8498-48c2-b8b7-a88423f9b52e\",\"type\":\"DataRange1d\"},\"y_scale\":{\"id\":\"89a9e367-ae55-4500-bac7-8df1a1dbaabb\",\"type\":\"LinearScale\"}},\"id\":\"d1d852a2-4722-4ff7-9a94-66cb9125ef90\",\"subtype\":\"Figure\",\"type\":\"Plot\"},{\"attributes\":{\"fill_color\":{\"value\":\"#1f77b4\"},\"line_color\":{\"value\":\"#1f77b4\"},\"top\":{\"field\":\"flux\"},\"width\":{\"value\":0.9},\"x\":{\"field\":\"band\"}},\"id\":\"5c8d60c6-4ed5-4fe9-993c-e9927204874e\",\"type\":\"VBar\"},{\"attributes\":{\"callback\":null,\"data\":{\"band\":[\"1\",\"2\",\"3\",\"4\",\"5\",\"6\",\"7\",\"8\",\"9\",\"10\",\"11\"],\"flux\":{\"__ndarray__\":\"AOIC0ChdyD+AEwg7xarSP8DjvWplwtO/QHBbW3he0z8AkszqHW7QPwASj8TL07G/wHx6bMuA2D8A6tK/JJW5vwAmamluhZC/QD96efDJwD9AKej2ksawPw==\",\"dtype\":\"float64\",\"shape\":[11]}},\"selected\":{\"id\":\"2f9ab9d8-e6d9-4ba5-b33c-786fa66f5652\",\"type\":\"Selection\"},\"selection_policy\":{\"id\":\"561df20d-e7cd-4741-84e4-5198e652ed77\",\"type\":\"UnionRenderers\"}},\"id\":\"33f4dd2d-6c3b-4571-8ad6-9b4f683354ae\",\"type\":\"ColumnDataSource\"},{\"attributes\":{\"below\":[{\"id\":\"ee02d04a-3d0d-4401-b6e5-6731bfaaa5b8\",\"type\":\"CategoricalAxis\"}],\"left\":[{\"id\":\"2b5fac69-c1c3-409a-9fba-5236c2d44a5a\",\"type\":\"LinearAxis\"}],\"plot_height\":300,\"plot_width\":300,\"renderers\":[{\"id\":\"ee02d04a-3d0d-4401-b6e5-6731bfaaa5b8\",\"type\":\"CategoricalAxis\"},{\"id\":\"f709c035-47e6-458e-93f6-9e7a1b84253a\",\"type\":\"Grid\"},{\"id\":\"2b5fac69-c1c3-409a-9fba-5236c2d44a5a\",\"type\":\"LinearAxis\"},{\"id\":\"a77065ed-e9fc-43ad-baff-f10be2091c5c\",\"type\":\"Grid\"},{\"id\":\"6dafcb7a-242c-448a-916a-ec24afe7f3d5\",\"type\":\"BoxAnnotation\"},{\"id\":\"986125a4-5070-4330-a6f9-1451cd2858d7\",\"type\":\"GlyphRenderer\"}],\"title\":{\"id\":\"617356dd-6242-4939-abdd-3f9b3335c268\",\"type\":\"Title\"},\"toolbar\":{\"id\":\"c01356f4-1234-4e9d-a2a6-2e3f8e6bcbc9\",\"type\":\"Toolbar\"},\"toolbar_location\":null,\"x_range\":{\"id\":\"7f9cc804-d1a6-4b79-979e-3b329c4894ae\",\"type\":\"FactorRange\"},\"x_scale\":{\"id\":\"8ea394c3-e698-43b6-9e60-6e48c2a903a7\",\"type\":\"CategoricalScale\"},\"y_range\":{\"id\":\"12e4b169-b334-4150-ad87-4f78e4063375\",\"type\":\"DataRange1d\"},\"y_scale\":{\"id\":\"759a206e-5148-498e-a9ec-c21de322e3b2\",\"type\":\"LinearScale\"}},\"id\":\"517f025e-7635-4a99-903e-e12e7378f74e\",\"subtype\":\"Figure\",\"type\":\"Plot\"},{\"attributes\":{\"callback\":null,\"data\":{\"band\":[\"1\",\"2\",\"3\",\"4\",\"5\",\"6\",\"7\",\"8\",\"9\",\"10\",\"11\"],\"flux\":{\"__ndarray__\":\"AAAAAyUF9r4AaoKo+wDYP4DPYb68ANO/ANyul6YIsD+Adtzwu+nfPwAyj/zBwLM/AIEU4cvplz+gE/5W/PDBvwAFptO6DcY/AKBF71TAjT8ApFGBk22APw==\",\"dtype\":\"float64\",\"shape\":[11]}},\"selected\":{\"id\":\"aff1e29c-e6b4-4f45-9308-2fd7c2d6eb71\",\"type\":\"Selection\"},\"selection_policy\":{\"id\":\"ee129fa8-2d65-45ae-a916-1b22e390255d\",\"type\":\"UnionRenderers\"}},\"id\":\"cccf1b9d-e2d1-49ba-a089-38aeb3567d7c\",\"type\":\"ColumnDataSource\"},{\"attributes\":{\"dimension\":1,\"plot\":{\"id\":\"7a181344-f78d-45e1-8aa0-d70f49fa2cb6\",\"subtype\":\"Figure\",\"type\":\"Plot\"},\"ticker\":{\"id\":\"12165efe-74cb-460c-bb52-d7be42e45a85\",\"type\":\"BasicTicker\"}},\"id\":\"e2057957-540f-4213-803d-4899ccf219dd\",\"type\":\"Grid\"},{\"attributes\":{},\"id\":\"ee129fa8-2d65-45ae-a916-1b22e390255d\",\"type\":\"UnionRenderers\"},{\"attributes\":{\"overlay\":{\"id\":\"c2c6be50-9ac9-4196-b85f-8eb6f35bf4a9\",\"type\":\"BoxAnnotation\"}},\"id\":\"86953140-5eef-454e-bc5e-75f13cee7754\",\"type\":\"BoxZoomTool\"},{\"attributes\":{\"data_source\":{\"id\":\"a9ad2024-e3a1-4f32-8f08-bb5eb8efa6ff\",\"type\":\"ColumnDataSource\"},\"glyph\":{\"id\":\"39c43387-5add-40cb-afb9-0ccd04b03270\",\"type\":\"VBar\"},\"hover_glyph\":null,\"muted_glyph\":null,\"nonselection_glyph\":{\"id\":\"2acea690-4de9-4461-be5d-12533ac966a1\",\"type\":\"VBar\"},\"selection_glyph\":null,\"view\":{\"id\":\"0d346a57-0c49-463f-9914-de95488edf71\",\"type\":\"CDSView\"}},\"id\":\"8f6c32a3-adb1-478a-bebe-531bccf05305\",\"type\":\"GlyphRenderer\"},{\"attributes\":{},\"id\":\"fe42b355-9f51-42a6-a71e-91ff4ec3afda\",\"type\":\"BasicTicker\"},{\"attributes\":{},\"id\":\"80fb4c47-ceef-405b-96fe-3889eb61dfe2\",\"type\":\"PanTool\"},{\"attributes\":{},\"id\":\"30e87b23-c076-4d19-ba69-6ffb235ca249\",\"type\":\"WheelZoomTool\"},{\"attributes\":{\"data_source\":{\"id\":\"cccf1b9d-e2d1-49ba-a089-38aeb3567d7c\",\"type\":\"ColumnDataSource\"},\"glyph\":{\"id\":\"0114bf13-d626-4f16-8980-1333176e276a\",\"type\":\"VBar\"},\"hover_glyph\":null,\"muted_glyph\":null,\"nonselection_glyph\":{\"id\":\"ece99853-74aa-4431-a6d2-595e7565b48b\",\"type\":\"VBar\"},\"selection_glyph\":null,\"view\":{\"id\":\"f43c261c-c9d0-4f83-a5c5-3f981a4972b1\",\"type\":\"CDSView\"}},\"id\":\"4fcd668d-d593-48f8-a3b4-242d49ba5007\",\"type\":\"GlyphRenderer\"},{\"attributes\":{\"fill_alpha\":{\"value\":0.1},\"fill_color\":{\"value\":\"#1f77b4\"},\"line_alpha\":{\"value\":0.1},\"line_color\":{\"value\":\"#1f77b4\"},\"top\":{\"field\":\"flux\"},\"width\":{\"value\":0.9},\"x\":{\"field\":\"band\"}},\"id\":\"2acea690-4de9-4461-be5d-12533ac966a1\",\"type\":\"VBar\"},{\"attributes\":{},\"id\":\"68667387-b685-48e0-9b7d-ab126d7ee91f\",\"type\":\"BasicTickFormatter\"},{\"attributes\":{\"callback\":null},\"id\":\"bb2c1511-8498-48c2-b8b7-a88423f9b52e\",\"type\":\"DataRange1d\"},{\"attributes\":{\"plot\":null,\"text\":\"Atmosphere heating. CLIRAD - CRD.\"},\"id\":\"e0647f20-7ca2-4885-b25b-8ec127c12d8e\",\"type\":\"Title\"},{\"attributes\":{\"callback\":null,\"factors\":[\"1\",\"2\",\"3\",\"4\",\"5\",\"6\",\"7\",\"8\",\"9\",\"10\",\"11\"]},\"id\":\"7f9cc804-d1a6-4b79-979e-3b329c4894ae\",\"type\":\"FactorRange\"},{\"attributes\":{},\"id\":\"8ea394c3-e698-43b6-9e60-6e48c2a903a7\",\"type\":\"CategoricalScale\"},{\"attributes\":{\"axis_label\":\"flux (W m-2)\",\"formatter\":{\"id\":\"4cde11a6-4a49-4573-bbc4-3f32cf35fb44\",\"type\":\"BasicTickFormatter\"},\"plot\":{\"id\":\"517f025e-7635-4a99-903e-e12e7378f74e\",\"subtype\":\"Figure\",\"type\":\"Plot\"},\"ticker\":{\"id\":\"fe42b355-9f51-42a6-a71e-91ff4ec3afda\",\"type\":\"BasicTicker\"}},\"id\":\"2b5fac69-c1c3-409a-9fba-5236c2d44a5a\",\"type\":\"LinearAxis\"},{\"attributes\":{},\"id\":\"f4af73aa-14f7-446a-a517-4c97c1552df4\",\"type\":\"CategoricalTickFormatter\"},{\"attributes\":{},\"id\":\"66a89d11-1c38-4722-9718-76bc268e59a3\",\"type\":\"SaveTool\"},{\"attributes\":{},\"id\":\"4cde11a6-4a49-4573-bbc4-3f32cf35fb44\",\"type\":\"BasicTickFormatter\"},{\"attributes\":{},\"id\":\"89a9e367-ae55-4500-bac7-8df1a1dbaabb\",\"type\":\"LinearScale\"},{\"attributes\":{},\"id\":\"12165efe-74cb-460c-bb52-d7be42e45a85\",\"type\":\"BasicTicker\"},{\"attributes\":{},\"id\":\"aff1e29c-e6b4-4f45-9308-2fd7c2d6eb71\",\"type\":\"Selection\"},{\"attributes\":{},\"id\":\"acd3f75c-98aa-4175-bae2-94fd3ba51438\",\"type\":\"CategoricalTickFormatter\"},{\"attributes\":{\"source\":{\"id\":\"a9ad2024-e3a1-4f32-8f08-bb5eb8efa6ff\",\"type\":\"ColumnDataSource\"}},\"id\":\"0d346a57-0c49-463f-9914-de95488edf71\",\"type\":\"CDSView\"},{\"attributes\":{},\"id\":\"c787d4a4-9588-4d98-a40d-a22a3ab4707a\",\"type\":\"BasicTickFormatter\"},{\"attributes\":{\"toolbar\":{\"id\":\"b58ba3eb-20c5-4477-835e-c849d8b1bc17\",\"type\":\"ProxyToolbar\"},\"toolbar_location\":\"above\"},\"id\":\"d3904ae7-2690-4844-b125-0d7cc98757f1\",\"type\":\"ToolbarBox\"},{\"attributes\":{},\"id\":\"89fe9751-108d-4c1f-abf9-90305b643c09\",\"type\":\"SaveTool\"},{\"attributes\":{\"fill_alpha\":{\"value\":0.1},\"fill_color\":{\"value\":\"#1f77b4\"},\"line_alpha\":{\"value\":0.1},\"line_color\":{\"value\":\"#1f77b4\"},\"top\":{\"field\":\"flux\"},\"width\":{\"value\":0.9},\"x\":{\"field\":\"band\"}},\"id\":\"cd0b7191-437e-4dfc-8d1b-cbaf36579abc\",\"type\":\"VBar\"},{\"attributes\":{\"data_source\":{\"id\":\"33f4dd2d-6c3b-4571-8ad6-9b4f683354ae\",\"type\":\"ColumnDataSource\"},\"glyph\":{\"id\":\"5c8d60c6-4ed5-4fe9-993c-e9927204874e\",\"type\":\"VBar\"},\"hover_glyph\":null,\"muted_glyph\":null,\"nonselection_glyph\":{\"id\":\"cd0b7191-437e-4dfc-8d1b-cbaf36579abc\",\"type\":\"VBar\"},\"selection_glyph\":null,\"view\":{\"id\":\"adc9a1ee-575c-4791-bdf2-43bf1ec55b5c\",\"type\":\"CDSView\"}},\"id\":\"986125a4-5070-4330-a6f9-1451cd2858d7\",\"type\":\"GlyphRenderer\"},{\"attributes\":{\"active_drag\":\"auto\",\"active_inspect\":\"auto\",\"active_scroll\":\"auto\",\"active_tap\":\"auto\",\"tools\":[{\"id\":\"80fb4c47-ceef-405b-96fe-3889eb61dfe2\",\"type\":\"PanTool\"},{\"id\":\"1190e7c7-3f36-49e8-96c5-23d6ab4f3b29\",\"type\":\"WheelZoomTool\"},{\"id\":\"86953140-5eef-454e-bc5e-75f13cee7754\",\"type\":\"BoxZoomTool\"},{\"id\":\"89fe9751-108d-4c1f-abf9-90305b643c09\",\"type\":\"SaveTool\"},{\"id\":\"ef16910d-2cae-4065-934d-1e9910b013fa\",\"type\":\"ResetTool\"},{\"id\":\"53860287-8f54-4065-944f-e6fe1a6ebd79\",\"type\":\"HelpTool\"}]},\"id\":\"75ca7f05-692f-413c-b30b-ddc5c71a88a2\",\"type\":\"Toolbar\"},{\"attributes\":{},\"id\":\"20f3eea2-ca04-41f7-a6f8-f6330d74ef3e\",\"type\":\"CategoricalTicker\"},{\"attributes\":{},\"id\":\"bbd92ec1-104c-4b6e-aacd-9731c9895b3b\",\"type\":\"UnionRenderers\"},{\"attributes\":{},\"id\":\"53860287-8f54-4065-944f-e6fe1a6ebd79\",\"type\":\"HelpTool\"},{\"attributes\":{\"plot\":null,\"text\":\"TOA flux. CLIRAD - CRD.\"},\"id\":\"617356dd-6242-4939-abdd-3f9b3335c268\",\"type\":\"Title\"},{\"attributes\":{\"callback\":null,\"factors\":[\"1\",\"2\",\"3\",\"4\",\"5\",\"6\",\"7\",\"8\",\"9\",\"10\",\"11\"]},\"id\":\"ec703173-fd11-4346-8399-248d880d81dd\",\"type\":\"FactorRange\"},{\"attributes\":{},\"id\":\"561df20d-e7cd-4741-84e4-5198e652ed77\",\"type\":\"UnionRenderers\"},{\"attributes\":{\"source\":{\"id\":\"cccf1b9d-e2d1-49ba-a089-38aeb3567d7c\",\"type\":\"ColumnDataSource\"}},\"id\":\"f43c261c-c9d0-4f83-a5c5-3f981a4972b1\",\"type\":\"CDSView\"},{\"attributes\":{},\"id\":\"bd1d8a94-8e52-4177-aa40-a8de499affe2\",\"type\":\"PanTool\"},{\"attributes\":{},\"id\":\"86bfb5e0-4b27-47b7-ac75-78502388c6a4\",\"type\":\"BasicTicker\"},{\"attributes\":{},\"id\":\"2e3c4005-5a59-4b15-be4f-276ca04fd177\",\"type\":\"WheelZoomTool\"},{\"attributes\":{\"callback\":null,\"factors\":[\"1\",\"2\",\"3\",\"4\",\"5\",\"6\",\"7\",\"8\",\"9\",\"10\",\"11\"]},\"id\":\"a8a01f1e-2b08-4fa6-b8d9-3577c8c5a700\",\"type\":\"FactorRange\"},{\"attributes\":{},\"id\":\"ef16910d-2cae-4065-934d-1e9910b013fa\",\"type\":\"ResetTool\"},{\"attributes\":{},\"id\":\"3fd66ef2-9867-44c7-ad91-5eab6a39289e\",\"type\":\"CategoricalTicker\"},{\"attributes\":{\"below\":[{\"id\":\"197c2fc8-d40a-4207-b929-0ce72b82d4bd\",\"type\":\"CategoricalAxis\"}],\"left\":[{\"id\":\"d707db90-d839-41c5-b0ce-fb3280ae4396\",\"type\":\"LinearAxis\"}],\"plot_height\":300,\"plot_width\":300,\"renderers\":[{\"id\":\"197c2fc8-d40a-4207-b929-0ce72b82d4bd\",\"type\":\"CategoricalAxis\"},{\"id\":\"da5c4ecd-4419-4426-aea7-e70c153ccc70\",\"type\":\"Grid\"},{\"id\":\"d707db90-d839-41c5-b0ce-fb3280ae4396\",\"type\":\"LinearAxis\"},{\"id\":\"e2057957-540f-4213-803d-4899ccf219dd\",\"type\":\"Grid\"},{\"id\":\"c2c6be50-9ac9-4196-b85f-8eb6f35bf4a9\",\"type\":\"BoxAnnotation\"},{\"id\":\"8f6c32a3-adb1-478a-bebe-531bccf05305\",\"type\":\"GlyphRenderer\"}],\"title\":{\"id\":\"e0647f20-7ca2-4885-b25b-8ec127c12d8e\",\"type\":\"Title\"},\"toolbar\":{\"id\":\"75ca7f05-692f-413c-b30b-ddc5c71a88a2\",\"type\":\"Toolbar\"},\"toolbar_location\":null,\"x_range\":{\"id\":\"ec703173-fd11-4346-8399-248d880d81dd\",\"type\":\"FactorRange\"},\"x_scale\":{\"id\":\"9694ff6f-dc23-490a-84a2-bcc5918784af\",\"type\":\"CategoricalScale\"},\"y_range\":{\"id\":\"9b72e341-d136-4f62-85f3-40f2ca2056b2\",\"type\":\"DataRange1d\"},\"y_scale\":{\"id\":\"c03fbd67-13b2-459f-978d-e7595fdc3edf\",\"type\":\"LinearScale\"}},\"id\":\"7a181344-f78d-45e1-8aa0-d70f49fa2cb6\",\"subtype\":\"Figure\",\"type\":\"Plot\"},{\"attributes\":{\"fill_color\":{\"value\":\"#1f77b4\"},\"line_color\":{\"value\":\"#1f77b4\"},\"top\":{\"field\":\"flux\"},\"width\":{\"value\":0.9},\"x\":{\"field\":\"band\"}},\"id\":\"0114bf13-d626-4f16-8980-1333176e276a\",\"type\":\"VBar\"},{\"attributes\":{},\"id\":\"dad04c67-0fd7-428e-bcb9-9a2fd58895e8\",\"type\":\"SaveTool\"},{\"attributes\":{\"plot\":{\"id\":\"7a181344-f78d-45e1-8aa0-d70f49fa2cb6\",\"subtype\":\"Figure\",\"type\":\"Plot\"},\"ticker\":{\"id\":\"3fd66ef2-9867-44c7-ad91-5eab6a39289e\",\"type\":\"CategoricalTicker\"}},\"id\":\"da5c4ecd-4419-4426-aea7-e70c153ccc70\",\"type\":\"Grid\"},{\"attributes\":{},\"id\":\"2cb51098-7bfa-4673-8227-bd5ccf825193\",\"type\":\"Selection\"},{\"attributes\":{},\"id\":\"485097f6-2f5f-4e61-aea8-716dd17dd0db\",\"type\":\"CategoricalTicker\"},{\"attributes\":{\"plot\":{\"id\":\"517f025e-7635-4a99-903e-e12e7378f74e\",\"subtype\":\"Figure\",\"type\":\"Plot\"},\"ticker\":{\"id\":\"20f3eea2-ca04-41f7-a6f8-f6330d74ef3e\",\"type\":\"CategoricalTicker\"}},\"id\":\"f709c035-47e6-458e-93f6-9e7a1b84253a\",\"type\":\"Grid\"},{\"attributes\":{},\"id\":\"1190e7c7-3f36-49e8-96c5-23d6ab4f3b29\",\"type\":\"WheelZoomTool\"},{\"attributes\":{\"dimension\":1,\"plot\":{\"id\":\"d1d852a2-4722-4ff7-9a94-66cb9125ef90\",\"subtype\":\"Figure\",\"type\":\"Plot\"},\"ticker\":{\"id\":\"86bfb5e0-4b27-47b7-ac75-78502388c6a4\",\"type\":\"BasicTicker\"}},\"id\":\"61a0c8f8-065d-43af-943b-d58a92c6b2c4\",\"type\":\"Grid\"},{\"attributes\":{\"overlay\":{\"id\":\"6dafcb7a-242c-448a-916a-ec24afe7f3d5\",\"type\":\"BoxAnnotation\"}},\"id\":\"93859315-19e7-43f7-95e0-72c3040df65e\",\"type\":\"BoxZoomTool\"},{\"attributes\":{},\"id\":\"8e72177f-1b85-4cb3-8b17-3357ee7d2454\",\"type\":\"ResetTool\"},{\"attributes\":{},\"id\":\"9694ff6f-dc23-490a-84a2-bcc5918784af\",\"type\":\"CategoricalScale\"},{\"attributes\":{\"overlay\":{\"id\":\"ee0134d0-a1dd-4c29-901b-dac779f16cf3\",\"type\":\"BoxAnnotation\"}},\"id\":\"c0f28661-1567-47b1-b7df-11141053156e\",\"type\":\"BoxZoomTool\"},{\"attributes\":{\"axis_label\":\"spectral band\",\"formatter\":{\"id\":\"acd3f75c-98aa-4175-bae2-94fd3ba51438\",\"type\":\"CategoricalTickFormatter\"},\"plot\":{\"id\":\"7a181344-f78d-45e1-8aa0-d70f49fa2cb6\",\"subtype\":\"Figure\",\"type\":\"Plot\"},\"ticker\":{\"id\":\"3fd66ef2-9867-44c7-ad91-5eab6a39289e\",\"type\":\"CategoricalTicker\"}},\"id\":\"197c2fc8-d40a-4207-b929-0ce72b82d4bd\",\"type\":\"CategoricalAxis\"},{\"attributes\":{\"bottom_units\":\"screen\",\"fill_alpha\":{\"value\":0.5},\"fill_color\":{\"value\":\"lightgrey\"},\"left_units\":\"screen\",\"level\":\"overlay\",\"line_alpha\":{\"value\":1.0},\"line_color\":{\"value\":\"black\"},\"line_dash\":[4,4],\"line_width\":{\"value\":2},\"plot\":null,\"render_mode\":\"css\",\"right_units\":\"screen\",\"top_units\":\"screen\"},\"id\":\"6dafcb7a-242c-448a-916a-ec24afe7f3d5\",\"type\":\"BoxAnnotation\"},{\"attributes\":{},\"id\":\"e2aab57b-5e92-4560-a3d9-8d0aff806de1\",\"type\":\"CategoricalTickFormatter\"},{\"attributes\":{\"children\":[{\"id\":\"777b90ec-6380-4a25-848f-b35ba442e2ab\",\"type\":\"Row\"}]},\"id\":\"f235699c-a840-4f71-a13f-b99ec1aeb7e2\",\"type\":\"Column\"},{\"attributes\":{\"children\":[{\"id\":\"d3904ae7-2690-4844-b125-0d7cc98757f1\",\"type\":\"ToolbarBox\"},{\"id\":\"f235699c-a840-4f71-a13f-b99ec1aeb7e2\",\"type\":\"Column\"}]},\"id\":\"545c50ba-747b-4614-bbda-73fba5efbcfa\",\"type\":\"Column\"},{\"attributes\":{},\"id\":\"cccd7e62-02d3-44d9-bf14-dcfc7556214e\",\"type\":\"HelpTool\"},{\"attributes\":{\"axis_label\":\"spectral band\",\"formatter\":{\"id\":\"e2aab57b-5e92-4560-a3d9-8d0aff806de1\",\"type\":\"CategoricalTickFormatter\"},\"plot\":{\"id\":\"517f025e-7635-4a99-903e-e12e7378f74e\",\"subtype\":\"Figure\",\"type\":\"Plot\"},\"ticker\":{\"id\":\"20f3eea2-ca04-41f7-a6f8-f6330d74ef3e\",\"type\":\"CategoricalTicker\"}},\"id\":\"ee02d04a-3d0d-4401-b6e5-6731bfaaa5b8\",\"type\":\"CategoricalAxis\"},{\"attributes\":{\"active_drag\":\"auto\",\"active_inspect\":\"auto\",\"active_scroll\":\"auto\",\"active_tap\":\"auto\",\"tools\":[{\"id\":\"9971a014-323a-4241-962d-301524698396\",\"type\":\"PanTool\"},{\"id\":\"2e3c4005-5a59-4b15-be4f-276ca04fd177\",\"type\":\"WheelZoomTool\"},{\"id\":\"c0f28661-1567-47b1-b7df-11141053156e\",\"type\":\"BoxZoomTool\"},{\"id\":\"66a89d11-1c38-4722-9718-76bc268e59a3\",\"type\":\"SaveTool\"},{\"id\":\"8e72177f-1b85-4cb3-8b17-3357ee7d2454\",\"type\":\"ResetTool\"},{\"id\":\"cccd7e62-02d3-44d9-bf14-dcfc7556214e\",\"type\":\"HelpTool\"}]},\"id\":\"0a57b984-9ce3-40b2-ba54-8ac29d9e755d\",\"type\":\"Toolbar\"},{\"attributes\":{\"axis_label\":\"spectral band\",\"formatter\":{\"id\":\"f4af73aa-14f7-446a-a517-4c97c1552df4\",\"type\":\"CategoricalTickFormatter\"},\"plot\":{\"id\":\"d1d852a2-4722-4ff7-9a94-66cb9125ef90\",\"subtype\":\"Figure\",\"type\":\"Plot\"},\"ticker\":{\"id\":\"485097f6-2f5f-4e61-aea8-716dd17dd0db\",\"type\":\"CategoricalTicker\"}},\"id\":\"e9c87c64-a9a2-4628-9b59-48ef79bce9df\",\"type\":\"CategoricalAxis\"},{\"attributes\":{\"axis_label\":\"flux (W m-2)\",\"formatter\":{\"id\":\"68667387-b685-48e0-9b7d-ab126d7ee91f\",\"type\":\"BasicTickFormatter\"},\"plot\":{\"id\":\"d1d852a2-4722-4ff7-9a94-66cb9125ef90\",\"subtype\":\"Figure\",\"type\":\"Plot\"},\"ticker\":{\"id\":\"86bfb5e0-4b27-47b7-ac75-78502388c6a4\",\"type\":\"BasicTicker\"}},\"id\":\"34ebbb31-b6ec-4415-b637-4d7e374aa0b0\",\"type\":\"LinearAxis\"},{\"attributes\":{\"dimension\":1,\"plot\":{\"id\":\"517f025e-7635-4a99-903e-e12e7378f74e\",\"subtype\":\"Figure\",\"type\":\"Plot\"},\"ticker\":{\"id\":\"fe42b355-9f51-42a6-a71e-91ff4ec3afda\",\"type\":\"BasicTicker\"}},\"id\":\"a77065ed-e9fc-43ad-baff-f10be2091c5c\",\"type\":\"Grid\"},{\"attributes\":{},\"id\":\"91c7d22d-7fb2-4cec-a6fd-f83f9d3b0757\",\"type\":\"ResetTool\"},{\"attributes\":{\"plot\":{\"id\":\"d1d852a2-4722-4ff7-9a94-66cb9125ef90\",\"subtype\":\"Figure\",\"type\":\"Plot\"},\"ticker\":{\"id\":\"485097f6-2f5f-4e61-aea8-716dd17dd0db\",\"type\":\"CategoricalTicker\"}},\"id\":\"d54e56db-0c41-46f0-93ec-8cf545f0e44a\",\"type\":\"Grid\"},{\"attributes\":{\"plot\":null,\"text\":\"SFC flux. CLIRAD - CRD.\"},\"id\":\"344fe79f-c90f-4e18-a06a-85c1a2bfde42\",\"type\":\"Title\"},{\"attributes\":{},\"id\":\"2f9ab9d8-e6d9-4ba5-b33c-786fa66f5652\",\"type\":\"Selection\"},{\"attributes\":{\"active_drag\":\"auto\",\"active_inspect\":\"auto\",\"active_scroll\":\"auto\",\"active_tap\":\"auto\",\"tools\":[{\"id\":\"bd1d8a94-8e52-4177-aa40-a8de499affe2\",\"type\":\"PanTool\"},{\"id\":\"30e87b23-c076-4d19-ba69-6ffb235ca249\",\"type\":\"WheelZoomTool\"},{\"id\":\"93859315-19e7-43f7-95e0-72c3040df65e\",\"type\":\"BoxZoomTool\"},{\"id\":\"dad04c67-0fd7-428e-bcb9-9a2fd58895e8\",\"type\":\"SaveTool\"},{\"id\":\"91c7d22d-7fb2-4cec-a6fd-f83f9d3b0757\",\"type\":\"ResetTool\"},{\"id\":\"f7d8de01-05cf-4d11-8aa2-c13598f6c978\",\"type\":\"HelpTool\"}]},\"id\":\"c01356f4-1234-4e9d-a2a6-2e3f8e6bcbc9\",\"type\":\"Toolbar\"},{\"attributes\":{\"bottom_units\":\"screen\",\"fill_alpha\":{\"value\":0.5},\"fill_color\":{\"value\":\"lightgrey\"},\"left_units\":\"screen\",\"level\":\"overlay\",\"line_alpha\":{\"value\":1.0},\"line_color\":{\"value\":\"black\"},\"line_dash\":[4,4],\"line_width\":{\"value\":2},\"plot\":null,\"render_mode\":\"css\",\"right_units\":\"screen\",\"top_units\":\"screen\"},\"id\":\"c2c6be50-9ac9-4196-b85f-8eb6f35bf4a9\",\"type\":\"BoxAnnotation\"},{\"attributes\":{\"bottom_units\":\"screen\",\"fill_alpha\":{\"value\":0.5},\"fill_color\":{\"value\":\"lightgrey\"},\"left_units\":\"screen\",\"level\":\"overlay\",\"line_alpha\":{\"value\":1.0},\"line_color\":{\"value\":\"black\"},\"line_dash\":[4,4],\"line_width\":{\"value\":2},\"plot\":null,\"render_mode\":\"css\",\"right_units\":\"screen\",\"top_units\":\"screen\"},\"id\":\"ee0134d0-a1dd-4c29-901b-dac779f16cf3\",\"type\":\"BoxAnnotation\"},{\"attributes\":{},\"id\":\"759a206e-5148-498e-a9ec-c21de322e3b2\",\"type\":\"LinearScale\"},{\"attributes\":{\"callback\":null},\"id\":\"9b72e341-d136-4f62-85f3-40f2ca2056b2\",\"type\":\"DataRange1d\"},{\"attributes\":{\"tools\":[{\"id\":\"bd1d8a94-8e52-4177-aa40-a8de499affe2\",\"type\":\"PanTool\"},{\"id\":\"30e87b23-c076-4d19-ba69-6ffb235ca249\",\"type\":\"WheelZoomTool\"},{\"id\":\"93859315-19e7-43f7-95e0-72c3040df65e\",\"type\":\"BoxZoomTool\"},{\"id\":\"dad04c67-0fd7-428e-bcb9-9a2fd58895e8\",\"type\":\"SaveTool\"},{\"id\":\"91c7d22d-7fb2-4cec-a6fd-f83f9d3b0757\",\"type\":\"ResetTool\"},{\"id\":\"f7d8de01-05cf-4d11-8aa2-c13598f6c978\",\"type\":\"HelpTool\"},{\"id\":\"9971a014-323a-4241-962d-301524698396\",\"type\":\"PanTool\"},{\"id\":\"2e3c4005-5a59-4b15-be4f-276ca04fd177\",\"type\":\"WheelZoomTool\"},{\"id\":\"c0f28661-1567-47b1-b7df-11141053156e\",\"type\":\"BoxZoomTool\"},{\"id\":\"66a89d11-1c38-4722-9718-76bc268e59a3\",\"type\":\"SaveTool\"},{\"id\":\"8e72177f-1b85-4cb3-8b17-3357ee7d2454\",\"type\":\"ResetTool\"},{\"id\":\"cccd7e62-02d3-44d9-bf14-dcfc7556214e\",\"type\":\"HelpTool\"},{\"id\":\"80fb4c47-ceef-405b-96fe-3889eb61dfe2\",\"type\":\"PanTool\"},{\"id\":\"1190e7c7-3f36-49e8-96c5-23d6ab4f3b29\",\"type\":\"WheelZoomTool\"},{\"id\":\"86953140-5eef-454e-bc5e-75f13cee7754\",\"type\":\"BoxZoomTool\"},{\"id\":\"89fe9751-108d-4c1f-abf9-90305b643c09\",\"type\":\"SaveTool\"},{\"id\":\"ef16910d-2cae-4065-934d-1e9910b013fa\",\"type\":\"ResetTool\"},{\"id\":\"53860287-8f54-4065-944f-e6fe1a6ebd79\",\"type\":\"HelpTool\"}]},\"id\":\"b58ba3eb-20c5-4477-835e-c849d8b1bc17\",\"type\":\"ProxyToolbar\"},{\"attributes\":{},\"id\":\"9971a014-323a-4241-962d-301524698396\",\"type\":\"PanTool\"},{\"attributes\":{\"fill_color\":{\"value\":\"#1f77b4\"},\"line_color\":{\"value\":\"#1f77b4\"},\"top\":{\"field\":\"flux\"},\"width\":{\"value\":0.9},\"x\":{\"field\":\"band\"}},\"id\":\"39c43387-5add-40cb-afb9-0ccd04b03270\",\"type\":\"VBar\"},{\"attributes\":{\"children\":[{\"id\":\"517f025e-7635-4a99-903e-e12e7378f74e\",\"subtype\":\"Figure\",\"type\":\"Plot\"},{\"id\":\"d1d852a2-4722-4ff7-9a94-66cb9125ef90\",\"subtype\":\"Figure\",\"type\":\"Plot\"},{\"id\":\"7a181344-f78d-45e1-8aa0-d70f49fa2cb6\",\"subtype\":\"Figure\",\"type\":\"Plot\"}]},\"id\":\"777b90ec-6380-4a25-848f-b35ba442e2ab\",\"type\":\"Row\"},{\"attributes\":{\"source\":{\"id\":\"33f4dd2d-6c3b-4571-8ad6-9b4f683354ae\",\"type\":\"ColumnDataSource\"}},\"id\":\"adc9a1ee-575c-4791-bdf2-43bf1ec55b5c\",\"type\":\"CDSView\"},{\"attributes\":{},\"id\":\"2a8a8fc6-ed1f-4cde-b249-d38326d982c3\",\"type\":\"CategoricalScale\"},{\"attributes\":{\"fill_alpha\":{\"value\":0.1},\"fill_color\":{\"value\":\"#1f77b4\"},\"line_alpha\":{\"value\":0.1},\"line_color\":{\"value\":\"#1f77b4\"},\"top\":{\"field\":\"flux\"},\"width\":{\"value\":0.9},\"x\":{\"field\":\"band\"}},\"id\":\"ece99853-74aa-4431-a6d2-595e7565b48b\",\"type\":\"VBar\"},{\"attributes\":{},\"id\":\"c03fbd67-13b2-459f-978d-e7595fdc3edf\",\"type\":\"LinearScale\"},{\"attributes\":{\"axis_label\":\"flux (W m-2)\",\"formatter\":{\"id\":\"c787d4a4-9588-4d98-a40d-a22a3ab4707a\",\"type\":\"BasicTickFormatter\"},\"plot\":{\"id\":\"7a181344-f78d-45e1-8aa0-d70f49fa2cb6\",\"subtype\":\"Figure\",\"type\":\"Plot\"},\"ticker\":{\"id\":\"12165efe-74cb-460c-bb52-d7be42e45a85\",\"type\":\"BasicTicker\"}},\"id\":\"d707db90-d839-41c5-b0ce-fb3280ae4396\",\"type\":\"LinearAxis\"},{\"attributes\":{\"callback\":null,\"data\":{\"band\":[\"1\",\"2\",\"3\",\"4\",\"5\",\"6\",\"7\",\"8\",\"9\",\"10\",\"11\"],\"flux\":{\"__ndarray__\":\"AFOZ3tVdyD8A2BIs7Vi1vwBYNyirM4i/AKplKWG/zj+AyB8MPPfOvwDgn1IlysK/gFjjbDoC1z8AYj4g0JmkP0B/ij56Hsi/QB6QnRrcvT9AQzegSnKtPw==\",\"dtype\":\"float64\",\"shape\":[11]}},\"selected\":{\"id\":\"2cb51098-7bfa-4673-8227-bd5ccf825193\",\"type\":\"Selection\"},\"selection_policy\":{\"id\":\"bbd92ec1-104c-4b6e-aacd-9731c9895b3b\",\"type\":\"UnionRenderers\"}},\"id\":\"a9ad2024-e3a1-4f32-8f08-bb5eb8efa6ff\",\"type\":\"ColumnDataSource\"},{\"attributes\":{},\"id\":\"f7d8de01-05cf-4d11-8aa2-c13598f6c978\",\"type\":\"HelpTool\"}],\"root_ids\":[\"545c50ba-747b-4614-bbda-73fba5efbcfa\"]},\"title\":\"Bokeh Application\",\"version\":\"0.12.16\"}};\n",
       "  var render_items = [{\"docid\":\"d1345e53-470f-46b3-bf4b-26ea72f5f190\",\"elementid\":\"8b780d19-203a-45d7-8434-eccc71c6ac72\",\"modelid\":\"545c50ba-747b-4614-bbda-73fba5efbcfa\"}];\n",
       "  root.Bokeh.embed.embed_items_notebook(docs_json, render_items);\n",
       "\n",
       "  }\n",
       "  if (root.Bokeh !== undefined) {\n",
       "    embed_document(root);\n",
       "  } else {\n",
       "    var attempts = 0;\n",
       "    var timer = setInterval(function(root) {\n",
       "      if (root.Bokeh !== undefined) {\n",
       "        embed_document(root);\n",
       "        clearInterval(timer);\n",
       "      }\n",
       "      attempts++;\n",
       "      if (attempts > 100) {\n",
       "        console.log(\"Bokeh: ERROR: Unable to run BokehJS code because BokehJS library is missing\")\n",
       "        clearInterval(timer);\n",
       "      }\n",
       "    }, 10, root)\n",
       "  }\n",
       "})(window);"
      ],
      "application/vnd.bokehjs_exec.v0+json": ""
     },
     "metadata": {
      "application/vnd.bokehjs_exec.v0+json": {
       "id": "545c50ba-747b-4614-bbda-73fba5efbcfa"
      }
     },
     "output_type": "display_data"
    },
    {
     "data": {
      "text/markdown": [
       "*FIGURE.* Difference between CLIRAD and CRD in TOA, SFC and net atmosphere flux, in each spectral band."
      ],
      "text/plain": [
       "<IPython.core.display.Markdown object>"
      ]
     },
     "metadata": {},
     "output_type": "display_data"
    },
    {
     "data": {
      "text/html": [
       "<div>\n",
       "<style scoped>\n",
       "    .dataframe tbody tr th:only-of-type {\n",
       "        vertical-align: middle;\n",
       "    }\n",
       "\n",
       "    .dataframe tbody tr th {\n",
       "        vertical-align: top;\n",
       "    }\n",
       "\n",
       "    .dataframe thead th {\n",
       "        text-align: right;\n",
       "    }\n",
       "</style>\n",
       "<table border=\"1\" class=\"dataframe\">\n",
       "  <thead>\n",
       "    <tr style=\"text-align: right;\">\n",
       "      <th></th>\n",
       "      <th>OLR flux</th>\n",
       "      <th>SFC flux</th>\n",
       "      <th>ATM heating</th>\n",
       "    </tr>\n",
       "    <tr>\n",
       "      <th>Summed over bands</th>\n",
       "      <th></th>\n",
       "      <th></th>\n",
       "      <th></th>\n",
       "    </tr>\n",
       "  </thead>\n",
       "  <tbody>\n",
       "    <tr>\n",
       "      <th>CLIRAD - CRD</th>\n",
       "      <td>1.13</td>\n",
       "      <td>0.79</td>\n",
       "      <td>0.33</td>\n",
       "    </tr>\n",
       "    <tr>\n",
       "      <th>CRD</th>\n",
       "      <td>-290.39</td>\n",
       "      <td>308.14</td>\n",
       "      <td>-174.89</td>\n",
       "    </tr>\n",
       "  </tbody>\n",
       "</table>\n",
       "</div>"
      ],
      "text/plain": [
       "                   OLR flux  SFC flux  ATM heating\n",
       "Summed over bands                                 \n",
       "CLIRAD - CRD           1.13      0.79         0.33\n",
       "CRD                 -290.39    308.14      -174.89"
      ]
     },
     "metadata": {},
     "output_type": "display_data"
    },
    {
     "data": {
      "text/markdown": [
       "*TABLE.* Difference between CLIRAD and CRD in TOA, SFC and net atmosphere flux, over all spectral bands. CRD's TOA, SFC and net atmosphere flux, over all spectral bands."
      ],
      "text/plain": [
       "<IPython.core.display.Markdown object>"
      ]
     },
     "metadata": {},
     "output_type": "display_data"
    },
    {
     "data": {
      "text/html": [
       "<a id=\"Cooling_rates._saw.\"></a>"
      ],
      "text/plain": [
       "<IPython.core.display.HTML object>"
      ]
     },
     "metadata": {},
     "output_type": "display_data"
    },
    {
     "data": {
      "text/markdown": [
       "# Cooling rates. saw."
      ],
      "text/plain": [
       "<IPython.core.display.Markdown object>"
      ]
     },
     "metadata": {},
     "output_type": "display_data"
    },
    {
     "data": {
      "text/html": [
       "\n",
       "<div class=\"bk-root\">\n",
       "    <div class=\"bk-plotdiv\" id=\"7126553c-33de-4d67-94d3-abf55dfd73de\"></div>\n",
       "</div>"
      ]
     },
     "metadata": {},
     "output_type": "display_data"
    },
    {
     "data": {
      "application/javascript": [
       "(function(root) {\n",
       "  function embed_document(root) {\n",
       "    \n",
       "  var docs_json = {\"701ea5fd-1f2b-47a0-8369-57f9c8e1141a\":{\"roots\":{\"references\":[{\"attributes\":{\"dimension\":1,\"plot\":{\"id\":\"4ae0fd48-b014-4670-b23f-19ae6bb49646\",\"subtype\":\"Figure\",\"type\":\"Plot\"},\"ticker\":{\"id\":\"0b24e7fe-e5c4-46eb-bd7d-834461c73efe\",\"type\":\"LogTicker\"}},\"id\":\"b5ff1f60-30b8-4012-970a-5a3923988471\",\"type\":\"Grid\"},{\"attributes\":{},\"id\":\"7e8aa40a-a6f8-41a0-abe7-4b67df5e8a1c\",\"type\":\"WheelZoomTool\"},{\"attributes\":{},\"id\":\"c7d5b856-5bc2-4d5a-97f9-31ed799102b9\",\"type\":\"Selection\"},{\"attributes\":{\"overlay\":{\"id\":\"2b708137-75b7-4267-ab19-a704c89e5ab5\",\"type\":\"BoxAnnotation\"}},\"id\":\"2a029df6-e968-46ed-8bdb-864608b463e7\",\"type\":\"BoxZoomTool\"},{\"attributes\":{\"label\":{\"value\":\"CRD\"},\"renderers\":[{\"id\":\"310e6518-2cbc-4d43-8508-1ea98aef4e4f\",\"type\":\"GlyphRenderer\"},{\"id\":\"de3568ab-82a1-4e19-8d0b-6cf5ac86b33e\",\"type\":\"GlyphRenderer\"}]},\"id\":\"615c412a-3c9a-4bc6-9e11-f707c24ce2e2\",\"type\":\"LegendItem\"},{\"attributes\":{\"items\":[{\"id\":\"2202c47e-bf7b-43b4-946c-b1c294ee2451\",\"type\":\"LegendItem\"},{\"id\":\"615c412a-3c9a-4bc6-9e11-f707c24ce2e2\",\"type\":\"LegendItem\"}],\"label_text_font_size\":{\"value\":\"8pt\"},\"location\":\"top_center\",\"orientation\":\"horizontal\",\"plot\":{\"id\":\"4ae0fd48-b014-4670-b23f-19ae6bb49646\",\"subtype\":\"Figure\",\"type\":\"Plot\"}},\"id\":\"84188b12-63d4-40a6-8e1f-f5e7e3e756d5\",\"type\":\"Legend\"},{\"attributes\":{\"fill_alpha\":{\"value\":0.7},\"fill_color\":{\"value\":\"#984ea3\"},\"line_alpha\":{\"value\":0.7},\"line_color\":{\"value\":\"#984ea3\"},\"x\":{\"field\":\"x\"},\"y\":{\"field\":\"y\"}},\"id\":\"dad9959a-2868-4ab9-819f-d82b19fa0d5a\",\"type\":\"Circle\"},{\"attributes\":{},\"id\":\"0e85d28d-e62e-48dd-a3d0-4921f11e9d0d\",\"type\":\"PanTool\"},{\"attributes\":{},\"id\":\"e3146f39-e7b7-4d55-b3b6-c2739d919f69\",\"type\":\"PanTool\"},{\"attributes\":{\"overlay\":{\"id\":\"b3a64565-c7be-4916-8427-a4b94850b17c\",\"type\":\"BoxAnnotation\"}},\"id\":\"3d1858e5-1626-4730-b275-bf2ccd1a46a1\",\"type\":\"BoxZoomTool\"},{\"attributes\":{},\"id\":\"d5ad0f4f-b016-4a33-aa20-1e8b22cceb78\",\"type\":\"SaveTool\"},{\"attributes\":{\"source\":{\"id\":\"3a8fb396-09ad-4685-b400-d9e34dfeffc5\",\"type\":\"ColumnDataSource\"}},\"id\":\"bb31744b-5149-4b5b-ab70-74e9fc1ec324\",\"type\":\"CDSView\"},{\"attributes\":{},\"id\":\"89008ae7-c178-439c-89c2-663000e9274a\",\"type\":\"ResetTool\"},{\"attributes\":{\"dimension\":1,\"plot\":{\"id\":\"f9d61036-64ec-4f2f-a836-8e65e8d18be1\",\"subtype\":\"Figure\",\"type\":\"Plot\"},\"ticker\":{\"id\":\"bf29b959-f7a2-4ee4-8685-d9b33f9facc1\",\"type\":\"BasicTicker\"}},\"id\":\"7c19a9f4-9ff2-46c0-9b88-16432a099b43\",\"type\":\"Grid\"},{\"attributes\":{},\"id\":\"de9ea4b8-3e95-43ec-a5f8-083568baeb57\",\"type\":\"WheelZoomTool\"},{\"attributes\":{},\"id\":\"c06c31cc-9216-4575-9838-5a4e74ca9127\",\"type\":\"SaveTool\"},{\"attributes\":{\"bottom_units\":\"screen\",\"fill_alpha\":{\"value\":0.5},\"fill_color\":{\"value\":\"lightgrey\"},\"left_units\":\"screen\",\"level\":\"overlay\",\"line_alpha\":{\"value\":1.0},\"line_color\":{\"value\":\"black\"},\"line_dash\":[4,4],\"line_width\":{\"value\":2},\"plot\":null,\"render_mode\":\"css\",\"right_units\":\"screen\",\"top_units\":\"screen\"},\"id\":\"7d3dfeaa-9fe6-4599-a39f-198a4a0bdab3\",\"type\":\"BoxAnnotation\"},{\"attributes\":{},\"id\":\"d49d4f87-f5e6-4fd0-bc39-dca3dd8f797f\",\"type\":\"PanTool\"},{\"attributes\":{\"label\":{\"value\":\"CLIRAD\"},\"renderers\":[{\"id\":\"0f9adc80-597a-4029-abc1-18004d89ea56\",\"type\":\"GlyphRenderer\"}]},\"id\":\"2202c47e-bf7b-43b4-946c-b1c294ee2451\",\"type\":\"LegendItem\"},{\"attributes\":{\"num_minor_ticks\":10},\"id\":\"0b24e7fe-e5c4-46eb-bd7d-834461c73efe\",\"type\":\"LogTicker\"},{\"attributes\":{},\"id\":\"4791d446-ff3e-4794-ba85-1ea9920dd7ce\",\"type\":\"BasicTickFormatter\"},{\"attributes\":{\"data_source\":{\"id\":\"d5fb84be-0230-4845-aaa6-147dbeb750a6\",\"type\":\"ColumnDataSource\"},\"glyph\":{\"id\":\"32156bdc-f627-483e-947d-7ef88a2e9d80\",\"type\":\"Circle\"},\"hover_glyph\":null,\"muted_glyph\":null,\"nonselection_glyph\":{\"id\":\"8f510577-c354-45ef-8e51-9f27194ea86c\",\"type\":\"Circle\"},\"selection_glyph\":null,\"view\":{\"id\":\"d59ecf0e-f781-46ec-871f-58e62acdd9de\",\"type\":\"CDSView\"}},\"id\":\"310e6518-2cbc-4d43-8508-1ea98aef4e4f\",\"type\":\"GlyphRenderer\"},{\"attributes\":{\"data_source\":{\"id\":\"a352165b-38b6-46d9-8208-8c642e265f21\",\"type\":\"ColumnDataSource\"},\"glyph\":{\"id\":\"87269670-d905-41b8-87db-4feb2d7a2306\",\"type\":\"Line\"},\"hover_glyph\":null,\"muted_glyph\":null,\"nonselection_glyph\":{\"id\":\"1b1688b6-c408-44e6-b116-7d6071c0fbfc\",\"type\":\"Line\"},\"selection_glyph\":null,\"view\":{\"id\":\"939ba420-6384-4b4c-ac0d-f06c6fb136a3\",\"type\":\"CDSView\"}},\"id\":\"de3568ab-82a1-4e19-8d0b-6cf5ac86b33e\",\"type\":\"GlyphRenderer\"},{\"attributes\":{\"toolbar\":{\"id\":\"ddb35143-080c-4648-9384-26e3d36cbe26\",\"type\":\"ProxyToolbar\"},\"toolbar_location\":\"above\"},\"id\":\"2294c5b9-a7fd-40b3-b503-ebec07e25fbc\",\"type\":\"ToolbarBox\"},{\"attributes\":{\"line_alpha\":0.1,\"line_color\":\"#1f77b4\",\"line_width\":1.5,\"x\":{\"field\":\"x\"},\"y\":{\"field\":\"y\"}},\"id\":\"1b1688b6-c408-44e6-b116-7d6071c0fbfc\",\"type\":\"Line\"},{\"attributes\":{},\"id\":\"5ebe3c0a-0bd4-49b4-a610-023624eb189e\",\"type\":\"Selection\"},{\"attributes\":{\"fill_alpha\":{\"value\":0.1},\"fill_color\":{\"value\":\"#1f77b4\"},\"line_alpha\":{\"value\":0.1},\"line_color\":{\"value\":\"#1f77b4\"},\"x\":{\"field\":\"x\"},\"y\":{\"field\":\"y\"}},\"id\":\"8f510577-c354-45ef-8e51-9f27194ea86c\",\"type\":\"Circle\"},{\"attributes\":{\"tools\":[{\"id\":\"0e85d28d-e62e-48dd-a3d0-4921f11e9d0d\",\"type\":\"PanTool\"},{\"id\":\"7e8aa40a-a6f8-41a0-abe7-4b67df5e8a1c\",\"type\":\"WheelZoomTool\"},{\"id\":\"35e76009-9f7d-4ccd-834d-d9b5af00108c\",\"type\":\"BoxZoomTool\"},{\"id\":\"c06c31cc-9216-4575-9838-5a4e74ca9127\",\"type\":\"SaveTool\"},{\"id\":\"89008ae7-c178-439c-89c2-663000e9274a\",\"type\":\"ResetTool\"},{\"id\":\"b75ac95b-e082-47d0-923d-3a9d6e8a9380\",\"type\":\"HelpTool\"},{\"id\":\"d49d4f87-f5e6-4fd0-bc39-dca3dd8f797f\",\"type\":\"PanTool\"},{\"id\":\"de9ea4b8-3e95-43ec-a5f8-083568baeb57\",\"type\":\"WheelZoomTool\"},{\"id\":\"2a029df6-e968-46ed-8bdb-864608b463e7\",\"type\":\"BoxZoomTool\"},{\"id\":\"d5ad0f4f-b016-4a33-aa20-1e8b22cceb78\",\"type\":\"SaveTool\"},{\"id\":\"31183229-2908-49df-9ddb-26a06ba00ab6\",\"type\":\"ResetTool\"},{\"id\":\"fbc067af-f599-49b3-b20c-a32f2914fad1\",\"type\":\"HelpTool\"},{\"id\":\"e3146f39-e7b7-4d55-b3b6-c2739d919f69\",\"type\":\"PanTool\"},{\"id\":\"0c416b12-07ec-433c-af71-870bb3c5882d\",\"type\":\"WheelZoomTool\"},{\"id\":\"3d1858e5-1626-4730-b275-bf2ccd1a46a1\",\"type\":\"BoxZoomTool\"},{\"id\":\"6b770a67-d0ec-4931-be6f-1601eeb086cd\",\"type\":\"SaveTool\"},{\"id\":\"925ead6d-6d6f-406b-b5dc-97f4b9f4b7fa\",\"type\":\"ResetTool\"},{\"id\":\"d2a70b0a-c2c6-4d11-9178-47b66dfbdbff\",\"type\":\"HelpTool\"}]},\"id\":\"ddb35143-080c-4648-9384-26e3d36cbe26\",\"type\":\"ProxyToolbar\"},{\"attributes\":{\"bottom_units\":\"screen\",\"fill_alpha\":{\"value\":0.5},\"fill_color\":{\"value\":\"lightgrey\"},\"left_units\":\"screen\",\"level\":\"overlay\",\"line_alpha\":{\"value\":1.0},\"line_color\":{\"value\":\"black\"},\"line_dash\":[4,4],\"line_width\":{\"value\":2},\"plot\":null,\"render_mode\":\"css\",\"right_units\":\"screen\",\"top_units\":\"screen\"},\"id\":\"b3a64565-c7be-4916-8427-a4b94850b17c\",\"type\":\"BoxAnnotation\"},{\"attributes\":{\"callback\":null,\"data\":{\"x\":{\"__ndarray__\":\"0CYBcvU5UkCik9zf2GVBQF1VoNfLZ0BAVLxhiVXTPUDD1Wu1wJM6QFJyB025jjdAU6Aw5+b/NECYe1uuDfgyQB6bYtVTbTFAPxYSAF1HMEA00pYVm9QuQLolHbMzgC1AntlwirGsLECv+G9SjE4rQJH6ZLBp0ShAsLZQyPd/JkDyjgyf2PwkQLgyNGsrJyRAA13QbJD6I0C8hy0ilI4kQOVTXCEgcSZAovOGvZSGJUBVc/ZmUOIgQOf/6GHAyRlAcE8fAOBSFEDRur1U//gPQGFD9ZbokghAQsqHuSqSA0C91ci3W0UBQCtRQfvz7/4/kh8pntyB+j9t1/n+4TX1P773MAUjFfI/RgzR+CI28T8hBW8WHK7uPzVKjJfU8uk/0FPt4/z65T/wVYqzMPDhPz7K9C5CXuE/8+hSn9hY4T/9PPCkR6rhP1XsIC599OA/66X1nBCX3z/YbRM56QjcPz4dkSQc/dM/S7Wb8Fq00T+/yQdmX0vcP7TrGf476eM/WqNPJoWO7D9qOH1bcwDzP2bw+R5DQ/Y/RLSuQOQp+D8+aif8yAz5P0Wv6eBKRfk/0i2+IN4R+T/ik8QNFZr4PyS5UD5j/Pc/yJ68zXRG9z/2CHPL54H2P59SOhwKtPU/npkP8dfg9D8NlmVcdQz0P80ugRvuOvM/byxiAHN18j9USVZie8nxP5l9lNXYSPE/OB+F0UYP8T8Y7dsUCTHxP3EBgTHPcPE/bfx15p8S8T8FT+xkGtTuP6mdG7rkxuk/pboqTkHX5D/CrN8qGYngP7R4ZaL+htU/\",\"dtype\":\"float64\",\"shape\":[75]},\"y\":{\"__ndarray__\":\"GhExyth1ND/Sv8nbtpRIP2vylNV0PVE/aTum7souWD/At0SJ8fVgPw3Iuahxymc/MSNhhJWvcD/bTfBN02d3P2zb5nxnaoA/CD5h5MAGhz8NmeH1TyaQP+zrCsc9p5Y/LbKd76fGnz/bLW5ISEmmPww9YvTcQq8/JV2OstnstT8Er5Y7M8G+P0c+r3jqkcU/5h99k6ZBzj88bCIzFzjVP4enV8oyxN0//yH99nXg5D8qOpLLf0jtP5kqGJXUifQ/c9cS8kHP/D+/DpwzojQEQIEmwoanVwxA4lgXt9HgE0BSSZ2AJuIbQAMJih9jjiNA5q4l5INuK0AwTKYKRj0zQNv5fmq8/DpAaCJseHrtQkB/+zpwzoxKQM3MzMzMeFJAZmZmZmZqWEAAAAAAAFxeQM3MzMzMJmJAmpmZmZkfZUBmZmZmZhhoQDMzMzMzEWtAAAAAAAAKbkBmZmZmZoFwQM3MzMzM/XFAMzMzMzN6c0CamZmZmfZ0QAAAAAAAc3ZAZmZmZmbvd0DNzMzMzGt5QDMzMzMz6HpAmpmZmZlkfEAAAAAAAOF9QGZmZmZmXX9AZmZmZuZsgECamZmZGSuBQM3MzMxM6YFAAAAAAICngkAzMzMzs2WDQGZmZmbmI4RAmpmZmRnihEDNzMzMTKCFQAAAAACAXoZAMzMzM7Mch0BmZmZm5tqHQJqZmZkZmYhAzczMzExXiUAAAAAAgBWKQDMzMzOz04pAZmZmZuaRi0CamZmZGVCMQM3MzMxMDo1AAAAAAIDMjUAzMzMzs4qOQGZmZmbmSI9A\",\"dtype\":\"float64\",\"shape\":[75]}},\"selected\":{\"id\":\"c7d5b856-5bc2-4d5a-97f9-31ed799102b9\",\"type\":\"Selection\"},\"selection_policy\":{\"id\":\"99343072-5456-414e-ad7d-184c08ed85e7\",\"type\":\"UnionRenderers\"}},\"id\":\"a352165b-38b6-46d9-8208-8c642e265f21\",\"type\":\"ColumnDataSource\"},{\"attributes\":{},\"id\":\"4ec31465-cec5-4a76-a3cd-6484f9468bbb\",\"type\":\"UnionRenderers\"},{\"attributes\":{\"axis_label\":\"pressure [mb]\",\"formatter\":{\"id\":\"9a97b91b-b671-41bc-8e78-1cfde932a983\",\"type\":\"LogTickFormatter\"},\"plot\":{\"id\":\"8d81d606-e7bb-4d58-9001-ee6797b30811\",\"subtype\":\"Figure\",\"type\":\"Plot\"},\"ticker\":{\"id\":\"59fa79cf-8280-4ed4-9de4-f456b9bf174c\",\"type\":\"LogTicker\"}},\"id\":\"42fce845-f09b-41d1-be3a-fd90f4d42d91\",\"type\":\"LogAxis\"},{\"attributes\":{\"children\":[{\"id\":\"2294c5b9-a7fd-40b3-b503-ebec07e25fbc\",\"type\":\"ToolbarBox\"},{\"id\":\"3ab25535-d480-42ee-926c-7a31748cdd39\",\"type\":\"Column\"}]},\"id\":\"6bd55212-e3ea-4288-97be-b4430bb0829e\",\"type\":\"Column\"},{\"attributes\":{},\"id\":\"d2a70b0a-c2c6-4d11-9178-47b66dfbdbff\",\"type\":\"HelpTool\"},{\"attributes\":{},\"id\":\"99343072-5456-414e-ad7d-184c08ed85e7\",\"type\":\"UnionRenderers\"},{\"attributes\":{},\"id\":\"6b770a67-d0ec-4931-be6f-1601eeb086cd\",\"type\":\"SaveTool\"},{\"attributes\":{\"source\":{\"id\":\"d5fb84be-0230-4845-aaa6-147dbeb750a6\",\"type\":\"ColumnDataSource\"}},\"id\":\"d59ecf0e-f781-46ec-871f-58e62acdd9de\",\"type\":\"CDSView\"},{\"attributes\":{},\"id\":\"b75ac95b-e082-47d0-923d-3a9d6e8a9380\",\"type\":\"HelpTool\"},{\"attributes\":{},\"id\":\"cfe4afa6-6293-4aa1-9096-e4456f22f2ba\",\"type\":\"Selection\"},{\"attributes\":{},\"id\":\"925ead6d-6d6f-406b-b5dc-97f4b9f4b7fa\",\"type\":\"ResetTool\"},{\"attributes\":{\"num_minor_ticks\":10},\"id\":\"59fa79cf-8280-4ed4-9de4-f456b9bf174c\",\"type\":\"LogTicker\"},{\"attributes\":{},\"id\":\"4f58909a-4d60-4475-8de1-526e843ebf48\",\"type\":\"Selection\"},{\"attributes\":{\"plot\":null,\"text\":\"\"},\"id\":\"0bc25754-d304-4f3a-b3f5-0ecc4d9a0694\",\"type\":\"Title\"},{\"attributes\":{},\"id\":\"53a59446-7648-4b94-898b-816ae784545b\",\"type\":\"Selection\"},{\"attributes\":{},\"id\":\"ee2c1410-09d7-4b25-9e10-664e7e7e880a\",\"type\":\"LinearScale\"},{\"attributes\":{\"overlay\":{\"id\":\"7d3dfeaa-9fe6-4599-a39f-198a4a0bdab3\",\"type\":\"BoxAnnotation\"}},\"id\":\"35e76009-9f7d-4ccd-834d-d9b5af00108c\",\"type\":\"BoxZoomTool\"},{\"attributes\":{\"line_color\":\"#4daf4a\",\"line_width\":1.5,\"x\":{\"field\":\"x\"},\"y\":{\"field\":\"y\"}},\"id\":\"87269670-d905-41b8-87db-4feb2d7a2306\",\"type\":\"Line\"},{\"attributes\":{},\"id\":\"a2a15d41-284d-4b3f-b21f-0ee421b5cf4a\",\"type\":\"BasicTicker\"},{\"attributes\":{\"axis_label\":\"cooling rate [K/day]\",\"formatter\":{\"id\":\"ccbe4451-afed-434a-b5c7-eb69f4e72e39\",\"type\":\"BasicTickFormatter\"},\"plot\":{\"id\":\"8d81d606-e7bb-4d58-9001-ee6797b30811\",\"subtype\":\"Figure\",\"type\":\"Plot\"},\"ticker\":{\"id\":\"ffae8116-c0d5-474d-9aaf-bc88b4bf0ba2\",\"type\":\"BasicTicker\"}},\"id\":\"8d663275-9231-427e-8603-bf8533b05d84\",\"type\":\"LinearAxis\"},{\"attributes\":{\"plot\":{\"id\":\"f9d61036-64ec-4f2f-a836-8e65e8d18be1\",\"subtype\":\"Figure\",\"type\":\"Plot\"},\"ticker\":{\"id\":\"a2a15d41-284d-4b3f-b21f-0ee421b5cf4a\",\"type\":\"BasicTicker\"}},\"id\":\"a46ce502-83e8-44af-8eb9-e9aa9d06f75d\",\"type\":\"Grid\"},{\"attributes\":{},\"id\":\"e857abc5-6d8c-421a-9348-0aba8cbfab01\",\"type\":\"LinearScale\"},{\"attributes\":{},\"id\":\"846813d4-c3a5-41cc-b630-78014dd7f567\",\"type\":\"LinearScale\"},{\"attributes\":{\"callback\":null,\"end\":0.9901076539675107,\"start\":-1.6882974602205094},\"id\":\"a4d080ae-4478-4533-8a58-efd6fee030b7\",\"type\":\"Range1d\"},{\"attributes\":{\"plot\":{\"id\":\"8d81d606-e7bb-4d58-9001-ee6797b30811\",\"subtype\":\"Figure\",\"type\":\"Plot\"},\"ticker\":{\"id\":\"ffae8116-c0d5-474d-9aaf-bc88b4bf0ba2\",\"type\":\"BasicTicker\"}},\"id\":\"01f16555-f4c0-47f3-81d4-b4aa7726290f\",\"type\":\"Grid\"},{\"attributes\":{\"line_alpha\":0.6,\"line_color\":\"#e41a1c\",\"line_dash\":[6],\"line_width\":5,\"x\":{\"field\":\"x\"},\"y\":{\"field\":\"y\"}},\"id\":\"85aff589-c0ab-4ea8-8078-6e9d89d8b35d\",\"type\":\"Line\"},{\"attributes\":{\"data_source\":{\"id\":\"c2247bd9-6a56-4d78-a014-c81c0c9e8622\",\"type\":\"ColumnDataSource\"},\"glyph\":{\"id\":\"0f59415b-d827-4338-ba27-e6ca0efafa9b\",\"type\":\"Line\"},\"hover_glyph\":null,\"muted_glyph\":null,\"nonselection_glyph\":{\"id\":\"a9c998cb-0b80-4d09-b6b8-2ffc4c7163ff\",\"type\":\"Line\"},\"selection_glyph\":null,\"view\":{\"id\":\"cdb572be-d8c0-437e-932f-fb5c149205b5\",\"type\":\"CDSView\"}},\"id\":\"0f9adc80-597a-4029-abc1-18004d89ea56\",\"type\":\"GlyphRenderer\"},{\"attributes\":{},\"id\":\"fbc067af-f599-49b3-b20c-a32f2914fad1\",\"type\":\"HelpTool\"},{\"attributes\":{},\"id\":\"5f0d43a6-3f4a-40d6-9791-5f427aa00615\",\"type\":\"LogScale\"},{\"attributes\":{\"bottom_units\":\"screen\",\"fill_alpha\":{\"value\":0.5},\"fill_color\":{\"value\":\"lightgrey\"},\"left_units\":\"screen\",\"level\":\"overlay\",\"line_alpha\":{\"value\":1.0},\"line_color\":{\"value\":\"black\"},\"line_dash\":[4,4],\"line_width\":{\"value\":2},\"plot\":null,\"render_mode\":\"css\",\"right_units\":\"screen\",\"top_units\":\"screen\"},\"id\":\"2b708137-75b7-4267-ab19-a704c89e5ab5\",\"type\":\"BoxAnnotation\"},{\"attributes\":{\"fill_alpha\":{\"value\":0.7},\"fill_color\":{\"value\":\"#4daf4a\"},\"line_alpha\":{\"value\":0.7},\"line_color\":{\"value\":\"#4daf4a\"},\"x\":{\"field\":\"x\"},\"y\":{\"field\":\"y\"}},\"id\":\"32156bdc-f627-483e-947d-7ef88a2e9d80\",\"type\":\"Circle\"},{\"attributes\":{\"callback\":null,\"end\":1.5925520914356002,\"start\":0.2527842797844001},\"id\":\"0ed07a8a-1234-44db-9004-2e0052944b50\",\"type\":\"Range1d\"},{\"attributes\":{\"axis_label\":\"pressure [mb]\",\"formatter\":{\"id\":\"dbe2e07e-2401-48f5-b880-7d78966ebdea\",\"type\":\"BasicTickFormatter\"},\"plot\":{\"id\":\"f9d61036-64ec-4f2f-a836-8e65e8d18be1\",\"subtype\":\"Figure\",\"type\":\"Plot\"},\"ticker\":{\"id\":\"bf29b959-f7a2-4ee4-8685-d9b33f9facc1\",\"type\":\"BasicTicker\"}},\"id\":\"8d83c7c9-a6cf-49da-8b7f-1b37ed752f4f\",\"type\":\"LinearAxis\"},{\"attributes\":{\"items\":[{\"id\":\"579b1ef0-62de-4bcf-887b-67dc2d1e1639\",\"type\":\"LegendItem\"},{\"id\":\"67d82536-381b-454d-9b52-3a98fb62de6b\",\"type\":\"LegendItem\"}],\"label_text_font_size\":{\"value\":\"8pt\"},\"location\":\"top_center\",\"orientation\":\"horizontal\",\"plot\":{\"id\":\"f9d61036-64ec-4f2f-a836-8e65e8d18be1\",\"subtype\":\"Figure\",\"type\":\"Plot\"}},\"id\":\"1da2c2d9-4c92-4d4b-b380-05ad37366a1d\",\"type\":\"Legend\"},{\"attributes\":{\"axis_label\":\"cooling rate [K/day]\",\"formatter\":{\"id\":\"10f0bd78-8acd-4487-87f3-26655b1de2f3\",\"type\":\"BasicTickFormatter\"},\"plot\":{\"id\":\"f9d61036-64ec-4f2f-a836-8e65e8d18be1\",\"subtype\":\"Figure\",\"type\":\"Plot\"},\"ticker\":{\"id\":\"a2a15d41-284d-4b3f-b21f-0ee421b5cf4a\",\"type\":\"BasicTicker\"}},\"id\":\"9bca35b4-738a-4ae2-ba05-2e2605b3be44\",\"type\":\"LinearAxis\"},{\"attributes\":{\"source\":{\"id\":\"c2247bd9-6a56-4d78-a014-c81c0c9e8622\",\"type\":\"ColumnDataSource\"}},\"id\":\"cdb572be-d8c0-437e-932f-fb5c149205b5\",\"type\":\"CDSView\"},{\"attributes\":{\"above\":[{\"id\":\"1da2c2d9-4c92-4d4b-b380-05ad37366a1d\",\"type\":\"Legend\"}],\"below\":[{\"id\":\"9bca35b4-738a-4ae2-ba05-2e2605b3be44\",\"type\":\"LinearAxis\"}],\"left\":[{\"id\":\"8d83c7c9-a6cf-49da-8b7f-1b37ed752f4f\",\"type\":\"LinearAxis\"}],\"plot_width\":300,\"renderers\":[{\"id\":\"9bca35b4-738a-4ae2-ba05-2e2605b3be44\",\"type\":\"LinearAxis\"},{\"id\":\"a46ce502-83e8-44af-8eb9-e9aa9d06f75d\",\"type\":\"Grid\"},{\"id\":\"8d83c7c9-a6cf-49da-8b7f-1b37ed752f4f\",\"type\":\"LinearAxis\"},{\"id\":\"7c19a9f4-9ff2-46c0-9b88-16432a099b43\",\"type\":\"Grid\"},{\"id\":\"7d3dfeaa-9fe6-4599-a39f-198a4a0bdab3\",\"type\":\"BoxAnnotation\"},{\"id\":\"830280a9-2458-47e0-8037-3dc495eed894\",\"type\":\"GlyphRenderer\"},{\"id\":\"57d93fc2-4585-467f-a890-c19e6df23fea\",\"type\":\"GlyphRenderer\"},{\"id\":\"a6ec5616-2bf8-4202-b492-e20261f38399\",\"type\":\"GlyphRenderer\"},{\"id\":\"1da2c2d9-4c92-4d4b-b380-05ad37366a1d\",\"type\":\"Legend\"}],\"title\":{\"id\":\"948c0f1d-a1f3-4fe4-afb9-67db5d124e0f\",\"type\":\"Title\"},\"toolbar\":{\"id\":\"95447fc1-7ffd-4dea-894e-64e0e524e1fe\",\"type\":\"Toolbar\"},\"toolbar_location\":null,\"x_range\":{\"id\":\"0ed07a8a-1234-44db-9004-2e0052944b50\",\"type\":\"Range1d\"},\"x_scale\":{\"id\":\"846813d4-c3a5-41cc-b630-78014dd7f567\",\"type\":\"LinearScale\"},\"y_range\":{\"id\":\"83a18e7e-7878-474c-aaea-982c685bade9\",\"type\":\"Range1d\"},\"y_scale\":{\"id\":\"ee2c1410-09d7-4b25-9e10-664e7e7e880a\",\"type\":\"LinearScale\"}},\"id\":\"f9d61036-64ec-4f2f-a836-8e65e8d18be1\",\"subtype\":\"Figure\",\"type\":\"Plot\"},{\"attributes\":{},\"id\":\"31183229-2908-49df-9ddb-26a06ba00ab6\",\"type\":\"ResetTool\"},{\"attributes\":{\"above\":[{\"id\":\"5f06762f-c978-4de6-bfae-bf4b2a06624e\",\"type\":\"Legend\"}],\"below\":[{\"id\":\"8d663275-9231-427e-8603-bf8533b05d84\",\"type\":\"LinearAxis\"}],\"left\":[{\"id\":\"42fce845-f09b-41d1-be3a-fd90f4d42d91\",\"type\":\"LogAxis\"}],\"plot_width\":300,\"renderers\":[{\"id\":\"8d663275-9231-427e-8603-bf8533b05d84\",\"type\":\"LinearAxis\"},{\"id\":\"01f16555-f4c0-47f3-81d4-b4aa7726290f\",\"type\":\"Grid\"},{\"id\":\"42fce845-f09b-41d1-be3a-fd90f4d42d91\",\"type\":\"LogAxis\"},{\"id\":\"3663987d-1d51-4ef0-86e2-8e07b0809cf7\",\"type\":\"Grid\"},{\"id\":\"b3a64565-c7be-4916-8427-a4b94850b17c\",\"type\":\"BoxAnnotation\"},{\"id\":\"4c43ef1c-11b9-4840-a2f6-f02da0bb6e31\",\"type\":\"GlyphRenderer\"},{\"id\":\"9e62949a-8765-429a-918f-b75110d18298\",\"type\":\"GlyphRenderer\"},{\"id\":\"5f06762f-c978-4de6-bfae-bf4b2a06624e\",\"type\":\"Legend\"}],\"title\":{\"id\":\"0bc25754-d304-4f3a-b3f5-0ecc4d9a0694\",\"type\":\"Title\"},\"toolbar\":{\"id\":\"92801256-20fe-462f-8f98-aea6a68ec87e\",\"type\":\"Toolbar\"},\"toolbar_location\":null,\"x_range\":{\"id\":\"a4d080ae-4478-4533-8a58-efd6fee030b7\",\"type\":\"Range1d\"},\"x_scale\":{\"id\":\"e857abc5-6d8c-421a-9348-0aba8cbfab01\",\"type\":\"LinearScale\"},\"y_range\":{\"id\":\"aefadefa-99ad-4507-a75c-bdf9b36bde7f\",\"type\":\"Range1d\"},\"y_scale\":{\"id\":\"5f0d43a6-3f4a-40d6-9791-5f427aa00615\",\"type\":\"LogScale\"}},\"id\":\"8d81d606-e7bb-4d58-9001-ee6797b30811\",\"subtype\":\"Figure\",\"type\":\"Plot\"},{\"attributes\":{\"callback\":null,\"end\":0.01,\"start\":1020},\"id\":\"83a18e7e-7878-474c-aaea-982c685bade9\",\"type\":\"Range1d\"},{\"attributes\":{\"dimension\":1,\"plot\":{\"id\":\"8d81d606-e7bb-4d58-9001-ee6797b30811\",\"subtype\":\"Figure\",\"type\":\"Plot\"},\"ticker\":{\"id\":\"59fa79cf-8280-4ed4-9de4-f456b9bf174c\",\"type\":\"LogTicker\"}},\"id\":\"3663987d-1d51-4ef0-86e2-8e07b0809cf7\",\"type\":\"Grid\"},{\"attributes\":{\"active_drag\":\"auto\",\"active_inspect\":\"auto\",\"active_scroll\":\"auto\",\"active_tap\":\"auto\",\"tools\":[{\"id\":\"0e85d28d-e62e-48dd-a3d0-4921f11e9d0d\",\"type\":\"PanTool\"},{\"id\":\"7e8aa40a-a6f8-41a0-abe7-4b67df5e8a1c\",\"type\":\"WheelZoomTool\"},{\"id\":\"35e76009-9f7d-4ccd-834d-d9b5af00108c\",\"type\":\"BoxZoomTool\"},{\"id\":\"c06c31cc-9216-4575-9838-5a4e74ca9127\",\"type\":\"SaveTool\"},{\"id\":\"89008ae7-c178-439c-89c2-663000e9274a\",\"type\":\"ResetTool\"},{\"id\":\"b75ac95b-e082-47d0-923d-3a9d6e8a9380\",\"type\":\"HelpTool\"}]},\"id\":\"95447fc1-7ffd-4dea-894e-64e0e524e1fe\",\"type\":\"Toolbar\"},{\"attributes\":{\"callback\":null,\"data\":{\"x\":{\"__ndarray__\":\"0CYBcvU5UkCik9zf2GVBQF1VoNfLZ0BAVLxhiVXTPUDD1Wu1wJM6QFJyB025jjdAU6Aw5+b/NECYe1uuDfgyQB6bYtVTbTFAPxYSAF1HMEA00pYVm9QuQLolHbMzgC1AntlwirGsLECv+G9SjE4rQJH6ZLBp0ShAsLZQyPd/JkDyjgyf2PwkQLgyNGsrJyRAA13QbJD6I0C8hy0ilI4kQOVTXCEgcSZAovOGvZSGJUBVc/ZmUOIgQOf/6GHAyRlAcE8fAOBSFEDRur1U//gPQGFD9ZbokghAQsqHuSqSA0C91ci3W0UBQCtRQfvz7/4/kh8pntyB+j9t1/n+4TX1P773MAUjFfI/RgzR+CI28T8hBW8WHK7uPzVKjJfU8uk/0FPt4/z65T/wVYqzMPDhPz7K9C5CXuE/8+hSn9hY4T/9PPCkR6rhP1XsIC599OA/66X1nBCX3z/YbRM56QjcPz4dkSQc/dM/S7Wb8Fq00T+/yQdmX0vcP7TrGf476eM/WqNPJoWO7D9qOH1bcwDzP2bw+R5DQ/Y/RLSuQOQp+D8+aif8yAz5P0Wv6eBKRfk/0i2+IN4R+T/ik8QNFZr4PyS5UD5j/Pc/yJ68zXRG9z/2CHPL54H2P59SOhwKtPU/npkP8dfg9D8NlmVcdQz0P80ugRvuOvM/byxiAHN18j9USVZie8nxP5l9lNXYSPE/OB+F0UYP8T8Y7dsUCTHxP3EBgTHPcPE/bfx15p8S8T8FT+xkGtTuP6mdG7rkxuk/pboqTkHX5D/CrN8qGYngP7R4ZaL+htU/\",\"dtype\":\"float64\",\"shape\":[75]},\"y\":{\"__ndarray__\":\"GhExyth1ND/Sv8nbtpRIP2vylNV0PVE/aTum7souWD/At0SJ8fVgPw3Iuahxymc/MSNhhJWvcD/bTfBN02d3P2zb5nxnaoA/CD5h5MAGhz8NmeH1TyaQP+zrCsc9p5Y/LbKd76fGnz/bLW5ISEmmPww9YvTcQq8/JV2OstnstT8Er5Y7M8G+P0c+r3jqkcU/5h99k6ZBzj88bCIzFzjVP4enV8oyxN0//yH99nXg5D8qOpLLf0jtP5kqGJXUifQ/c9cS8kHP/D+/DpwzojQEQIEmwoanVwxA4lgXt9HgE0BSSZ2AJuIbQAMJih9jjiNA5q4l5INuK0AwTKYKRj0zQNv5fmq8/DpAaCJseHrtQkB/+zpwzoxKQM3MzMzMeFJAZmZmZmZqWEAAAAAAAFxeQM3MzMzMJmJAmpmZmZkfZUBmZmZmZhhoQDMzMzMzEWtAAAAAAAAKbkBmZmZmZoFwQM3MzMzM/XFAMzMzMzN6c0CamZmZmfZ0QAAAAAAAc3ZAZmZmZmbvd0DNzMzMzGt5QDMzMzMz6HpAmpmZmZlkfEAAAAAAAOF9QGZmZmZmXX9AZmZmZuZsgECamZmZGSuBQM3MzMxM6YFAAAAAAICngkAzMzMzs2WDQGZmZmbmI4RAmpmZmRnihEDNzMzMTKCFQAAAAACAXoZAMzMzM7Mch0BmZmZm5tqHQJqZmZkZmYhAzczMzExXiUAAAAAAgBWKQDMzMzOz04pAZmZmZuaRi0CamZmZGVCMQM3MzMxMDo1AAAAAAIDMjUAzMzMzs4qOQGZmZmbmSI9A\",\"dtype\":\"float64\",\"shape\":[75]}},\"selected\":{\"id\":\"cfe4afa6-6293-4aa1-9096-e4456f22f2ba\",\"type\":\"Selection\"},\"selection_policy\":{\"id\":\"a5a73e08-7f80-40f7-82ce-6e590164d585\",\"type\":\"UnionRenderers\"}},\"id\":\"d5fb84be-0230-4845-aaa6-147dbeb750a6\",\"type\":\"ColumnDataSource\"},{\"attributes\":{},\"id\":\"bf29b959-f7a2-4ee4-8685-d9b33f9facc1\",\"type\":\"BasicTicker\"},{\"attributes\":{},\"id\":\"d053d88e-0281-47f4-8c71-911c721f7fac\",\"type\":\"LogScale\"},{\"attributes\":{\"line_alpha\":0.6,\"line_color\":\"#e41a1c\",\"line_dash\":[6],\"line_width\":5,\"x\":{\"field\":\"x\"},\"y\":{\"field\":\"y\"}},\"id\":\"0f59415b-d827-4338-ba27-e6ca0efafa9b\",\"type\":\"Line\"},{\"attributes\":{},\"id\":\"87b94fff-3c60-43f8-9508-c8fd8a4d0c27\",\"type\":\"BasicTicker\"},{\"attributes\":{\"source\":{\"id\":\"dd952e97-128d-48de-81f2-a3edadafd293\",\"type\":\"ColumnDataSource\"}},\"id\":\"d8868df6-5996-4222-badc-405bd7e53001\",\"type\":\"CDSView\"},{\"attributes\":{\"data_source\":{\"id\":\"3a8fb396-09ad-4685-b400-d9e34dfeffc5\",\"type\":\"ColumnDataSource\"},\"glyph\":{\"id\":\"85aff589-c0ab-4ea8-8078-6e9d89d8b35d\",\"type\":\"Line\"},\"hover_glyph\":null,\"muted_glyph\":null,\"nonselection_glyph\":{\"id\":\"e25689d2-dbb9-49ac-a84c-702e97ca7804\",\"type\":\"Line\"},\"selection_glyph\":null,\"view\":{\"id\":\"bb31744b-5149-4b5b-ab70-74e9fc1ec324\",\"type\":\"CDSView\"}},\"id\":\"830280a9-2458-47e0-8037-3dc495eed894\",\"type\":\"GlyphRenderer\"},{\"attributes\":{},\"id\":\"ca3f6715-a45d-4127-a9f2-20f2502e1d7a\",\"type\":\"UnionRenderers\"},{\"attributes\":{\"callback\":null,\"end\":16.436989944098436,\"start\":0.2978234486455601},\"id\":\"665030aa-1ee2-499a-ac24-b975224783ef\",\"type\":\"Range1d\"},{\"attributes\":{},\"id\":\"e44f19e5-3b2a-4f6a-a526-c9725a493142\",\"type\":\"LinearScale\"},{\"attributes\":{\"callback\":null,\"data\":{\"x\":{\"__ndarray__\":\"TTdxrtF3GsDZuaAGLWAGwLCvVEtCveo/lZei41epCUBCC4AywGEOQKWMji2yzgVAbiXANW/56D9QZt8+XKbuv/rk3sW1l/q/takToPst9L+YsgmEQfbUvzWVCNewmOA/7Y61ZdnX7j9ySOJByPbsP1pfrAFNANk/Q7hrSxLm0L8jrOYeQWDlv8Ajao7ecuW/kPrPblR92r8aq4cUA+HBv05oQFt2HLI/NXoUHbYvwT+eebAk4v65v2z6jkOhcM2/lvgOf2YSob9Mx2SHbVzRP8Rk3R5n8dE/5CbmDFkyvD+DTE2lzp+gPzORCt5IRcQ/vOFSvRUXzT+W6vje2NPAP6/IcjgH9na/RSfLTiwOaD8bRkv0qkyzP9UNr96LOag/PmJvOaW5mL/9lrS96Kazv/33LQoKB7a/iouAY/+nsr8HhgcU1rmsv33ebJUefqW/ol0MeY5bmr/x0C2d1q+Qv+NrO2QX8YW/tBXmB1iTP79E04Gu55R0vyE1jv7gVJu/Ww3noWKfqr9ye2AOP4Cqv5kng/CXwKK/K61DFqpZo7/98QtuLcyqv6pal2vSkaq/uqUH8Jtcpb+Wh2fesaWfv8XVhkieS5i/Tdg/Fn2hk7/mapn+wOuJv6Q3P3RzAIS/2+XwzPFxgb9rVLl0v0+EvwE/xm8ZVoa/US2l5mc1hL/iO/p/lwl6v0ATht6pWzm//llQLsKafz+eQ3D04tiLP+iU2AYF3ZI/RqUIeOtflj8M0EVGNROYP3N9tU3vbpc/bHeyzMBXlz9Za/ozDViWPw==\",\"dtype\":\"float64\",\"shape\":[74]},\"y\":{\"__ndarray__\":\"0r/J27aUSD9r8pTVdD1RP2k7pu7KLlg/wLdEifH1YD8NyLmoccpnPzEjYYSVr3A/203wTdNndz9s2+Z8Z2qAPwg+YeTABoc/DZnh9U8mkD/s6wrHPaeWPy2yne+nxp8/2y1uSEhJpj8MPWL03EKvPyVdjrLZ7LU/BK+WOzPBvj9HPq946pHFP+YffZOmQc4/PGwiMxc41T+Hp1fKMsTdP/8h/fZ14OQ/KjqSy39I7T+ZKhiV1In0P3PXEvJBz/w/vw6cM6I0BECBJsKGp1cMQOJYF7fR4BNAUkmdgCbiG0ADCYofY44jQOauJeSDbitAMEymCkY9M0Db+X5qvPw6QGgibHh67UJAf/s6cM6MSkDNzMzMzHhSQGZmZmZmalhAAAAAAABcXkDNzMzMzCZiQJqZmZmZH2VAZmZmZmYYaEAzMzMzMxFrQAAAAAAACm5AZmZmZmaBcEDNzMzMzP1xQDMzMzMzenNAmpmZmZn2dEAAAAAAAHN2QGZmZmZm73dAzczMzMxreUAzMzMzM+h6QJqZmZmZZHxAAAAAAADhfUBmZmZmZl1/QGZmZmbmbIBAmpmZmRkrgUDNzMzMTOmBQAAAAACAp4JAMzMzM7Nlg0BmZmZm5iOEQJqZmZkZ4oRAzczMzEyghUAAAAAAgF6GQDMzMzOzHIdAZmZmZubah0CamZmZGZmIQM3MzMxMV4lAAAAAAIAVikAzMzMzs9OKQGZmZmbmkYtAmpmZmRlQjEDNzMzMTA6NQAAAAACAzI1AMzMzM7OKjkBmZmZm5kiPQA==\",\"dtype\":\"float64\",\"shape\":[74]}},\"selected\":{\"id\":\"4f58909a-4d60-4475-8de1-526e843ebf48\",\"type\":\"Selection\"},\"selection_policy\":{\"id\":\"4ec31465-cec5-4a76-a3cd-6484f9468bbb\",\"type\":\"UnionRenderers\"}},\"id\":\"7fcb9219-0278-480e-a695-d32e6398a4c2\",\"type\":\"ColumnDataSource\"},{\"attributes\":{\"plot\":null,\"text\":\"\"},\"id\":\"63271209-a5b0-4c7a-946f-1ed2ecb8e510\",\"type\":\"Title\"},{\"attributes\":{},\"id\":\"a5a73e08-7f80-40f7-82ce-6e590164d585\",\"type\":\"UnionRenderers\"},{\"attributes\":{},\"id\":\"255de2fd-7996-4624-abda-4df72768a736\",\"type\":\"Selection\"},{\"attributes\":{\"plot\":{\"id\":\"4ae0fd48-b014-4670-b23f-19ae6bb49646\",\"subtype\":\"Figure\",\"type\":\"Plot\"},\"ticker\":{\"id\":\"87b94fff-3c60-43f8-9508-c8fd8a4d0c27\",\"type\":\"BasicTicker\"}},\"id\":\"47df59d3-4115-4ee0-ad6a-a12fe4caea4c\",\"type\":\"Grid\"},{\"attributes\":{\"label\":{\"value\":\"CLIRAD - CRD\"},\"renderers\":[{\"id\":\"4c43ef1c-11b9-4840-a2f6-f02da0bb6e31\",\"type\":\"GlyphRenderer\"},{\"id\":\"9e62949a-8765-429a-918f-b75110d18298\",\"type\":\"GlyphRenderer\"}]},\"id\":\"d24dbf0d-560b-4cb8-ae82-38d40c9d1064\",\"type\":\"LegendItem\"},{\"attributes\":{\"callback\":null,\"data\":{\"x\":{\"__ndarray__\":\"0CYBcvU5UkCik9zf2GVBQF1VoNfLZ0BAVLxhiVXTPUDD1Wu1wJM6QFJyB025jjdAU6Aw5+b/NECYe1uuDfgyQB6bYtVTbTFAPxYSAF1HMEA00pYVm9QuQLolHbMzgC1AntlwirGsLECv+G9SjE4rQJH6ZLBp0ShAsLZQyPd/JkDyjgyf2PwkQLgyNGsrJyRAA13QbJD6I0C8hy0ilI4kQOVTXCEgcSZAovOGvZSGJUBVc/ZmUOIgQOf/6GHAyRlAcE8fAOBSFEDRur1U//gPQGFD9ZbokghAQsqHuSqSA0C91ci3W0UBQCtRQfvz7/4/kh8pntyB+j9t1/n+4TX1P773MAUjFfI/RgzR+CI28T8hBW8WHK7uPzVKjJfU8uk/0FPt4/z65T/wVYqzMPDhPz7K9C5CXuE/8+hSn9hY4T/9PPCkR6rhP1XsIC599OA/66X1nBCX3z/YbRM56QjcPz4dkSQc/dM/S7Wb8Fq00T+/yQdmX0vcP7TrGf476eM/WqNPJoWO7D9qOH1bcwDzP2bw+R5DQ/Y/RLSuQOQp+D8+aif8yAz5P0Wv6eBKRfk/0i2+IN4R+T/ik8QNFZr4PyS5UD5j/Pc/yJ68zXRG9z/2CHPL54H2P59SOhwKtPU/npkP8dfg9D8NlmVcdQz0P80ugRvuOvM/byxiAHN18j9USVZie8nxP5l9lNXYSPE/OB+F0UYP8T8Y7dsUCTHxP3EBgTHPcPE/bfx15p8S8T8FT+xkGtTuP6mdG7rkxuk/pboqTkHX5D/CrN8qGYngP7R4ZaL+htU/\",\"dtype\":\"float64\",\"shape\":[75]},\"y\":{\"__ndarray__\":\"GhExyth1ND/Sv8nbtpRIP2vylNV0PVE/aTum7souWD/At0SJ8fVgPw3Iuahxymc/MSNhhJWvcD/bTfBN02d3P2zb5nxnaoA/CD5h5MAGhz8NmeH1TyaQP+zrCsc9p5Y/LbKd76fGnz/bLW5ISEmmPww9YvTcQq8/JV2OstnstT8Er5Y7M8G+P0c+r3jqkcU/5h99k6ZBzj88bCIzFzjVP4enV8oyxN0//yH99nXg5D8qOpLLf0jtP5kqGJXUifQ/c9cS8kHP/D+/DpwzojQEQIEmwoanVwxA4lgXt9HgE0BSSZ2AJuIbQAMJih9jjiNA5q4l5INuK0AwTKYKRj0zQNv5fmq8/DpAaCJseHrtQkB/+zpwzoxKQM3MzMzMeFJAZmZmZmZqWEAAAAAAAFxeQM3MzMzMJmJAmpmZmZkfZUBmZmZmZhhoQDMzMzMzEWtAAAAAAAAKbkBmZmZmZoFwQM3MzMzM/XFAMzMzMzN6c0CamZmZmfZ0QAAAAAAAc3ZAZmZmZmbvd0DNzMzMzGt5QDMzMzMz6HpAmpmZmZlkfEAAAAAAAOF9QGZmZmZmXX9AZmZmZuZsgECamZmZGSuBQM3MzMxM6YFAAAAAAICngkAzMzMzs2WDQGZmZmbmI4RAmpmZmRnihEDNzMzMTKCFQAAAAACAXoZAMzMzM7Mch0BmZmZm5tqHQJqZmZkZmYhAzczMzExXiUAAAAAAgBWKQDMzMzOz04pAZmZmZuaRi0CamZmZGVCMQM3MzMxMDo1AAAAAAIDMjUAzMzMzs4qOQGZmZmbmSI9A\",\"dtype\":\"float64\",\"shape\":[75]}},\"selected\":{\"id\":\"ed745245-f9ae-4cdc-97b7-084518b1796f\",\"type\":\"Selection\"},\"selection_policy\":{\"id\":\"3043ed13-4d79-4bad-9045-b8eba7f88593\",\"type\":\"UnionRenderers\"}},\"id\":\"147df947-0652-462d-8c53-ee72ae770d5a\",\"type\":\"ColumnDataSource\"},{\"attributes\":{\"label\":{\"value\":\"CLIRAD\"},\"renderers\":[{\"id\":\"830280a9-2458-47e0-8037-3dc495eed894\",\"type\":\"GlyphRenderer\"}]},\"id\":\"579b1ef0-62de-4bcf-887b-67dc2d1e1639\",\"type\":\"LegendItem\"},{\"attributes\":{\"axis_label\":\"pressure [mb]\",\"formatter\":{\"id\":\"130a500b-8e4d-4b05-b2ce-22803c0a08d8\",\"type\":\"LogTickFormatter\"},\"plot\":{\"id\":\"4ae0fd48-b014-4670-b23f-19ae6bb49646\",\"subtype\":\"Figure\",\"type\":\"Plot\"},\"ticker\":{\"id\":\"0b24e7fe-e5c4-46eb-bd7d-834461c73efe\",\"type\":\"LogTicker\"}},\"id\":\"a964f5b2-c155-4444-89f9-57e079f12174\",\"type\":\"LogAxis\"},{\"attributes\":{\"callback\":null,\"data\":{\"x\":{\"__ndarray__\":\"0CYBcvU5UkCik9zf2GVBQF1VoNfLZ0BAVLxhiVXTPUDD1Wu1wJM6QFJyB025jjdAU6Aw5+b/NECYe1uuDfgyQB6bYtVTbTFAPxYSAF1HMEA00pYVm9QuQLolHbMzgC1AntlwirGsLECv+G9SjE4rQJH6ZLBp0ShAsLZQyPd/JkDyjgyf2PwkQLgyNGsrJyRAA13QbJD6I0C8hy0ilI4kQOVTXCEgcSZAovOGvZSGJUBVc/ZmUOIgQOf/6GHAyRlAcE8fAOBSFEDRur1U//gPQGFD9ZbokghAQsqHuSqSA0C91ci3W0UBQCtRQfvz7/4/kh8pntyB+j9t1/n+4TX1P773MAUjFfI/RgzR+CI28T8hBW8WHK7uPzVKjJfU8uk/0FPt4/z65T/wVYqzMPDhPz7K9C5CXuE/8+hSn9hY4T/9PPCkR6rhP1XsIC599OA/66X1nBCX3z/YbRM56QjcPz4dkSQc/dM/S7Wb8Fq00T+/yQdmX0vcP7TrGf476eM/WqNPJoWO7D9qOH1bcwDzP2bw+R5DQ/Y/RLSuQOQp+D8+aif8yAz5P0Wv6eBKRfk/0i2+IN4R+T/ik8QNFZr4PyS5UD5j/Pc/yJ68zXRG9z/2CHPL54H2P59SOhwKtPU/npkP8dfg9D8NlmVcdQz0P80ugRvuOvM/byxiAHN18j9USVZie8nxP5l9lNXYSPE/OB+F0UYP8T8Y7dsUCTHxP3EBgTHPcPE/bfx15p8S8T8FT+xkGtTuP6mdG7rkxuk/pboqTkHX5D/CrN8qGYngP7R4ZaL+htU/\",\"dtype\":\"float64\",\"shape\":[75]},\"y\":{\"__ndarray__\":\"GhExyth1ND/Sv8nbtpRIP2vylNV0PVE/aTum7souWD/At0SJ8fVgPw3Iuahxymc/MSNhhJWvcD/bTfBN02d3P2zb5nxnaoA/CD5h5MAGhz8NmeH1TyaQP+zrCsc9p5Y/LbKd76fGnz/bLW5ISEmmPww9YvTcQq8/JV2OstnstT8Er5Y7M8G+P0c+r3jqkcU/5h99k6ZBzj88bCIzFzjVP4enV8oyxN0//yH99nXg5D8qOpLLf0jtP5kqGJXUifQ/c9cS8kHP/D+/DpwzojQEQIEmwoanVwxA4lgXt9HgE0BSSZ2AJuIbQAMJih9jjiNA5q4l5INuK0AwTKYKRj0zQNv5fmq8/DpAaCJseHrtQkB/+zpwzoxKQM3MzMzMeFJAZmZmZmZqWEAAAAAAAFxeQM3MzMzMJmJAmpmZmZkfZUBmZmZmZhhoQDMzMzMzEWtAAAAAAAAKbkBmZmZmZoFwQM3MzMzM/XFAMzMzMzN6c0CamZmZmfZ0QAAAAAAAc3ZAZmZmZmbvd0DNzMzMzGt5QDMzMzMz6HpAmpmZmZlkfEAAAAAAAOF9QGZmZmZmXX9AZmZmZuZsgECamZmZGSuBQM3MzMxM6YFAAAAAAICngkAzMzMzs2WDQGZmZmbmI4RAmpmZmRnihEDNzMzMTKCFQAAAAACAXoZAMzMzM7Mch0BmZmZm5tqHQJqZmZkZmYhAzczMzExXiUAAAAAAgBWKQDMzMzOz04pAZmZmZuaRi0CamZmZGVCMQM3MzMxMDo1AAAAAAIDMjUAzMzMzs4qOQGZmZmbmSI9A\",\"dtype\":\"float64\",\"shape\":[75]}},\"selected\":{\"id\":\"a0ce5970-441e-4ded-b91b-609dfee6b995\",\"type\":\"Selection\"},\"selection_policy\":{\"id\":\"947cc743-0149-4af6-83de-1b9fee9af382\",\"type\":\"UnionRenderers\"}},\"id\":\"a27e5300-88f3-4d7d-a624-8b71bbe9a4f5\",\"type\":\"ColumnDataSource\"},{\"attributes\":{\"line_alpha\":0.1,\"line_color\":\"#1f77b4\",\"line_width\":1.5,\"x\":{\"field\":\"x\"},\"y\":{\"field\":\"y\"}},\"id\":\"28170daf-75e5-4233-b989-16a0f994a802\",\"type\":\"Line\"},{\"attributes\":{},\"id\":\"dbe2e07e-2401-48f5-b880-7d78966ebdea\",\"type\":\"BasicTickFormatter\"},{\"attributes\":{\"items\":[{\"id\":\"d24dbf0d-560b-4cb8-ae82-38d40c9d1064\",\"type\":\"LegendItem\"}],\"label_text_font_size\":{\"value\":\"8pt\"},\"location\":\"top_center\",\"orientation\":\"horizontal\",\"plot\":{\"id\":\"8d81d606-e7bb-4d58-9001-ee6797b30811\",\"subtype\":\"Figure\",\"type\":\"Plot\"}},\"id\":\"5f06762f-c978-4de6-bfae-bf4b2a06624e\",\"type\":\"Legend\"},{\"attributes\":{\"callback\":null,\"data\":{\"x\":{\"__ndarray__\":\"K5c+YwNdQEBz2RxUvS08QH2TbA6SAz5A0GG8mz+pPkC0KOCx68g9QLpzV1PxWjtA53HiLL25N0DDfAko2b8zQOifa/MgeDBA309oR8M7LUD9XJSh204sQCXY/KaB2CxA8mLhlzy2LUCeUcvoCTwtQBkfgzTWoCpArRleMPpHJ0AxMbEMqHUkQPbHRVkn0SJAx7rpg2KjIkDnB7d+qbojQDg1ChWcKSZAcnQ9qs2qJUBAxWo/DychQAE+VtnEYRlAndcC9lpnE0DwfsG6tbQPQErc4Ud2vgpA23ZjnVfQBUD0BjCA7iYCQI+7a3DydP8/u3HquYUK/T+oM6S2xNj4PxAVECGeL/Q/gJmY8Swf8T9I0L1CKsbuP/qyFfZpXOw/rETYoZV+5z/d2r6JYyrhP71ufC7K0t0/6VMavO4v3T8UVwBxj6reP+rnwJm/Ud4/HQpIykzn3D//p4JRMGPaPy1Avroe8tI/7Nl5NdIE0T860AWQekPcPw3ovC4SwOM/sDFbHt6z6z/+/21GeCvyP4nshiZBb/U/B5sqgd+T9z/TTHWr+3H4P7VPeXXpbvg//XJhjU89+D+1VkQuMO/3PwUb13bMffc/cIOaVEbl9j+WCRrXYTP2P8ofPZoygPU/LBsnCte49D9DtMt4kenzPyS8l5xOEvM/8J+CzcZI8j/4/oiSEKHxP1yDFD7PLvE/1jbnFrEN8T9wPQrXo1DxP/jhafeAqPE/v16R+hNe8T8wlKzAGYfvPyrMTWR+h+o/kWaYyLiS5T9/QEUx10PhP2kfpXV/7NY/\",\"dtype\":\"float64\",\"shape\":[75]},\"y\":{\"__ndarray__\":\"S/O/Q+51ND/Sv8nbtpRIP2vylNV0PVE/aTum7souWD/At0SJ8fVgPw3Iuahxymc/MSNhhJWvcD/bTfBN02d3P2zb5nxnaoA/CD5h5MAGhz8NmeH1TyaQP+zrCsc9p5Y/LbKd76fGnz/bLW5ISEmmPww9YvTcQq8/JV2OstnstT8Er5Y7M8G+P0c+r3jqkcU/5h99k6ZBzj88bCIzFzjVP4enV8oyxN0//yH99nXg5D8qOpLLf0jtP5kqGJXUifQ/c9cS8kHP/D+/DpwzojQEQIEmwoanVwxA4lgXt9HgE0BSSZ2AJuIbQAMJih9jjiNA5q4l5INuK0AwTKYKRj0zQNv5fmq8/DpAaCJseHrtQkB/+zpwzoxKQM3MzMzMeFJAZmZmZmZqWEAAAAAAAFxeQM3MzMzMJmJAmpmZmZkfZUBmZmZmZhhoQDMzMzMzEWtAAAAAAAAKbkBmZmZmZoFwQM3MzMzM/XFAMzMzMzN6c0CamZmZmfZ0QAAAAAAAc3ZAZmZmZmbvd0DNzMzMzGt5QDMzMzMz6HpAmpmZmZlkfEAAAAAAAOF9QGZmZmZmXX9AZmZmZuZsgECamZmZGSuBQM3MzMxM6YFAAAAAAICngkAzMzMzs2WDQGZmZmbmI4RAmpmZmRnihEDNzMzMTKCFQAAAAACAXoZAMzMzM7Mch0BmZmZm5tqHQJqZmZkZmYhAzczMzExXiUAAAAAAgBWKQDMzMzOz04pAZmZmZuaRi0CamZmZGVCMQM3MzMxMDo1AAAAAAIDMjUAzMzMzs4qOQGZmZmbmSI9A\",\"dtype\":\"float64\",\"shape\":[75]}},\"selected\":{\"id\":\"255de2fd-7996-4624-abda-4df72768a736\",\"type\":\"Selection\"},\"selection_policy\":{\"id\":\"8a43acfb-ec5c-48a8-961e-b583df84cd26\",\"type\":\"UnionRenderers\"}},\"id\":\"3a8fb396-09ad-4685-b400-d9e34dfeffc5\",\"type\":\"ColumnDataSource\"},{\"attributes\":{\"fill_alpha\":{\"value\":0.1},\"fill_color\":{\"value\":\"#1f77b4\"},\"line_alpha\":{\"value\":0.1},\"line_color\":{\"value\":\"#1f77b4\"},\"x\":{\"field\":\"x\"},\"y\":{\"field\":\"y\"}},\"id\":\"f6ef8dd4-cf51-4b65-a15c-3a627f88fc9e\",\"type\":\"Circle\"},{\"attributes\":{},\"id\":\"3043ed13-4d79-4bad-9045-b8eba7f88593\",\"type\":\"UnionRenderers\"},{\"attributes\":{\"children\":[{\"id\":\"e95acbe6-1347-4ad3-8c68-8421793eff7d\",\"type\":\"Row\"}]},\"id\":\"3ab25535-d480-42ee-926c-7a31748cdd39\",\"type\":\"Column\"},{\"attributes\":{\"callback\":null,\"end\":0.01,\"start\":1020},\"id\":\"7b447b04-fa38-49f7-97c5-ff76ff1c6f6a\",\"type\":\"Range1d\"},{\"attributes\":{\"line_color\":\"#4daf4a\",\"line_width\":1.5,\"x\":{\"field\":\"x\"},\"y\":{\"field\":\"y\"}},\"id\":\"646cfb88-b04f-4083-b68e-bedad66ef352\",\"type\":\"Line\"},{\"attributes\":{\"line_alpha\":0.1,\"line_color\":\"#1f77b4\",\"line_width\":1.5,\"x\":{\"field\":\"x\"},\"y\":{\"field\":\"y\"}},\"id\":\"058f0f01-017c-4689-a224-37226761ba58\",\"type\":\"Line\"},{\"attributes\":{},\"id\":\"10f0bd78-8acd-4487-87f3-26655b1de2f3\",\"type\":\"BasicTickFormatter\"},{\"attributes\":{\"data_source\":{\"id\":\"dd952e97-128d-48de-81f2-a3edadafd293\",\"type\":\"ColumnDataSource\"},\"glyph\":{\"id\":\"dad9959a-2868-4ab9-819f-d82b19fa0d5a\",\"type\":\"Circle\"},\"hover_glyph\":null,\"muted_glyph\":null,\"nonselection_glyph\":{\"id\":\"f6ef8dd4-cf51-4b65-a15c-3a627f88fc9e\",\"type\":\"Circle\"},\"selection_glyph\":null,\"view\":{\"id\":\"d8868df6-5996-4222-badc-405bd7e53001\",\"type\":\"CDSView\"}},\"id\":\"4c43ef1c-11b9-4840-a2f6-f02da0bb6e31\",\"type\":\"GlyphRenderer\"},{\"attributes\":{\"label\":{\"value\":\"CRD\"},\"renderers\":[{\"id\":\"57d93fc2-4585-467f-a890-c19e6df23fea\",\"type\":\"GlyphRenderer\"},{\"id\":\"a6ec5616-2bf8-4202-b492-e20261f38399\",\"type\":\"GlyphRenderer\"}]},\"id\":\"67d82536-381b-454d-9b52-3a98fb62de6b\",\"type\":\"LegendItem\"},{\"attributes\":{\"ticker\":null},\"id\":\"130a500b-8e4d-4b05-b2ce-22803c0a08d8\",\"type\":\"LogTickFormatter\"},{\"attributes\":{\"data_source\":{\"id\":\"a27e5300-88f3-4d7d-a624-8b71bbe9a4f5\",\"type\":\"ColumnDataSource\"},\"glyph\":{\"id\":\"55283f9d-f875-4341-b577-b3be49c0bae8\",\"type\":\"Circle\"},\"hover_glyph\":null,\"muted_glyph\":null,\"nonselection_glyph\":{\"id\":\"871404e7-219b-47ec-af7a-e5502f9d7c23\",\"type\":\"Circle\"},\"selection_glyph\":null,\"view\":{\"id\":\"7f5e4fad-a752-4bc0-9105-882ca455ac10\",\"type\":\"CDSView\"}},\"id\":\"57d93fc2-4585-467f-a890-c19e6df23fea\",\"type\":\"GlyphRenderer\"},{\"attributes\":{\"callback\":null,\"data\":{\"x\":{\"__ndarray__\":\"K5c+YwNdQEBz2RxUvS08QH2TbA6SAz5A0GG8mz+pPkC0KOCx68g9QLpzV1PxWjtA53HiLL25N0DDfAko2b8zQOifa/MgeDBA309oR8M7LUD9XJSh204sQCXY/KaB2CxA8mLhlzy2LUCeUcvoCTwtQBkfgzTWoCpArRleMPpHJ0AxMbEMqHUkQPbHRVkn0SJAx7rpg2KjIkDnB7d+qbojQDg1ChWcKSZAcnQ9qs2qJUBAxWo/DychQAE+VtnEYRlAndcC9lpnE0DwfsG6tbQPQErc4Ud2vgpA23ZjnVfQBUD0BjCA7iYCQI+7a3DydP8/u3HquYUK/T+oM6S2xNj4PxAVECGeL/Q/gJmY8Swf8T9I0L1CKsbuP/qyFfZpXOw/rETYoZV+5z/d2r6JYyrhP71ufC7K0t0/6VMavO4v3T8UVwBxj6reP+rnwJm/Ud4/HQpIykzn3D//p4JRMGPaPy1Avroe8tI/7Nl5NdIE0T860AWQekPcPw3ovC4SwOM/sDFbHt6z6z/+/21GeCvyP4nshiZBb/U/B5sqgd+T9z/TTHWr+3H4P7VPeXXpbvg//XJhjU89+D+1VkQuMO/3PwUb13bMffc/cIOaVEbl9j+WCRrXYTP2P8ofPZoygPU/LBsnCte49D9DtMt4kenzPyS8l5xOEvM/8J+CzcZI8j/4/oiSEKHxP1yDFD7PLvE/1jbnFrEN8T9wPQrXo1DxP/jhafeAqPE/v16R+hNe8T8wlKzAGYfvPyrMTWR+h+o/kWaYyLiS5T9/QEUx10PhP2kfpXV/7NY/\",\"dtype\":\"float64\",\"shape\":[75]},\"y\":{\"__ndarray__\":\"S/O/Q+51ND/Sv8nbtpRIP2vylNV0PVE/aTum7souWD/At0SJ8fVgPw3Iuahxymc/MSNhhJWvcD/bTfBN02d3P2zb5nxnaoA/CD5h5MAGhz8NmeH1TyaQP+zrCsc9p5Y/LbKd76fGnz/bLW5ISEmmPww9YvTcQq8/JV2OstnstT8Er5Y7M8G+P0c+r3jqkcU/5h99k6ZBzj88bCIzFzjVP4enV8oyxN0//yH99nXg5D8qOpLLf0jtP5kqGJXUifQ/c9cS8kHP/D+/DpwzojQEQIEmwoanVwxA4lgXt9HgE0BSSZ2AJuIbQAMJih9jjiNA5q4l5INuK0AwTKYKRj0zQNv5fmq8/DpAaCJseHrtQkB/+zpwzoxKQM3MzMzMeFJAZmZmZmZqWEAAAAAAAFxeQM3MzMzMJmJAmpmZmZkfZUBmZmZmZhhoQDMzMzMzEWtAAAAAAAAKbkBmZmZmZoFwQM3MzMzM/XFAMzMzMzN6c0CamZmZmfZ0QAAAAAAAc3ZAZmZmZmbvd0DNzMzMzGt5QDMzMzMz6HpAmpmZmZlkfEAAAAAAAOF9QGZmZmZmXX9AZmZmZuZsgECamZmZGSuBQM3MzMxM6YFAAAAAAICngkAzMzMzs2WDQGZmZmbmI4RAmpmZmRnihEDNzMzMTKCFQAAAAACAXoZAMzMzM7Mch0BmZmZm5tqHQJqZmZkZmYhAzczMzExXiUAAAAAAgBWKQDMzMzOz04pAZmZmZuaRi0CamZmZGVCMQM3MzMxMDo1AAAAAAIDMjUAzMzMzs4qOQGZmZmbmSI9A\",\"dtype\":\"float64\",\"shape\":[75]}},\"selected\":{\"id\":\"5ebe3c0a-0bd4-49b4-a610-023624eb189e\",\"type\":\"Selection\"},\"selection_policy\":{\"id\":\"ca3f6715-a45d-4127-a9f2-20f2502e1d7a\",\"type\":\"UnionRenderers\"}},\"id\":\"c2247bd9-6a56-4d78-a014-c81c0c9e8622\",\"type\":\"ColumnDataSource\"},{\"attributes\":{\"data_source\":{\"id\":\"7fcb9219-0278-480e-a695-d32e6398a4c2\",\"type\":\"ColumnDataSource\"},\"glyph\":{\"id\":\"1dc3f2bc-381e-4b86-85a9-315b95456504\",\"type\":\"Line\"},\"hover_glyph\":null,\"muted_glyph\":null,\"nonselection_glyph\":{\"id\":\"28170daf-75e5-4233-b989-16a0f994a802\",\"type\":\"Line\"},\"selection_glyph\":null,\"view\":{\"id\":\"81ab81a2-49b3-4b24-badd-58c291d480dd\",\"type\":\"CDSView\"}},\"id\":\"9e62949a-8765-429a-918f-b75110d18298\",\"type\":\"GlyphRenderer\"},{\"attributes\":{},\"id\":\"ffae8116-c0d5-474d-9aaf-bc88b4bf0ba2\",\"type\":\"BasicTicker\"},{\"attributes\":{\"source\":{\"id\":\"7fcb9219-0278-480e-a695-d32e6398a4c2\",\"type\":\"ColumnDataSource\"}},\"id\":\"81ab81a2-49b3-4b24-badd-58c291d480dd\",\"type\":\"CDSView\"},{\"attributes\":{},\"id\":\"0c416b12-07ec-433c-af71-870bb3c5882d\",\"type\":\"WheelZoomTool\"},{\"attributes\":{\"data_source\":{\"id\":\"147df947-0652-462d-8c53-ee72ae770d5a\",\"type\":\"ColumnDataSource\"},\"glyph\":{\"id\":\"646cfb88-b04f-4083-b68e-bedad66ef352\",\"type\":\"Line\"},\"hover_glyph\":null,\"muted_glyph\":null,\"nonselection_glyph\":{\"id\":\"058f0f01-017c-4689-a224-37226761ba58\",\"type\":\"Line\"},\"selection_glyph\":null,\"view\":{\"id\":\"46028f99-1ad3-4e1d-aeda-0831d9a78b53\",\"type\":\"CDSView\"}},\"id\":\"a6ec5616-2bf8-4202-b492-e20261f38399\",\"type\":\"GlyphRenderer\"},{\"attributes\":{\"active_drag\":\"auto\",\"active_inspect\":\"auto\",\"active_scroll\":\"auto\",\"active_tap\":\"auto\",\"tools\":[{\"id\":\"d49d4f87-f5e6-4fd0-bc39-dca3dd8f797f\",\"type\":\"PanTool\"},{\"id\":\"de9ea4b8-3e95-43ec-a5f8-083568baeb57\",\"type\":\"WheelZoomTool\"},{\"id\":\"2a029df6-e968-46ed-8bdb-864608b463e7\",\"type\":\"BoxZoomTool\"},{\"id\":\"d5ad0f4f-b016-4a33-aa20-1e8b22cceb78\",\"type\":\"SaveTool\"},{\"id\":\"31183229-2908-49df-9ddb-26a06ba00ab6\",\"type\":\"ResetTool\"},{\"id\":\"fbc067af-f599-49b3-b20c-a32f2914fad1\",\"type\":\"HelpTool\"}]},\"id\":\"60e7039a-ae07-4a70-a992-2e81ebc094be\",\"type\":\"Toolbar\"},{\"attributes\":{\"plot\":null,\"text\":\"\"},\"id\":\"948c0f1d-a1f3-4fe4-afb9-67db5d124e0f\",\"type\":\"Title\"},{\"attributes\":{},\"id\":\"cd4a17ef-75be-4bdb-8bd3-9f7fecdfc8d0\",\"type\":\"UnionRenderers\"},{\"attributes\":{},\"id\":\"ed745245-f9ae-4cdc-97b7-084518b1796f\",\"type\":\"Selection\"},{\"attributes\":{\"callback\":null,\"end\":0.01,\"start\":1020},\"id\":\"aefadefa-99ad-4507-a75c-bdf9b36bde7f\",\"type\":\"Range1d\"},{\"attributes\":{\"callback\":null,\"data\":{\"x\":{\"__ndarray__\":\"TTdxrtF3GsDZuaAGLWAGwLCvVEtCveo/lZei41epCUBCC4AywGEOQKWMji2yzgVAbiXANW/56D9QZt8+XKbuv/rk3sW1l/q/takToPst9L+YsgmEQfbUvzWVCNewmOA/7Y61ZdnX7j9ySOJByPbsP1pfrAFNANk/Q7hrSxLm0L8jrOYeQWDlv8Ajao7ecuW/kPrPblR92r8aq4cUA+HBv05oQFt2HLI/NXoUHbYvwT+eebAk4v65v2z6jkOhcM2/lvgOf2YSob9Mx2SHbVzRP8Rk3R5n8dE/5CbmDFkyvD+DTE2lzp+gPzORCt5IRcQ/vOFSvRUXzT+W6vje2NPAP6/IcjgH9na/RSfLTiwOaD8bRkv0qkyzP9UNr96LOag/PmJvOaW5mL/9lrS96Kazv/33LQoKB7a/iouAY/+nsr8HhgcU1rmsv33ebJUefqW/ol0MeY5bmr/x0C2d1q+Qv+NrO2QX8YW/tBXmB1iTP79E04Gu55R0vyE1jv7gVJu/Ww3noWKfqr9ye2AOP4Cqv5kng/CXwKK/K61DFqpZo7/98QtuLcyqv6pal2vSkaq/uqUH8Jtcpb+Wh2fesaWfv8XVhkieS5i/Tdg/Fn2hk7/mapn+wOuJv6Q3P3RzAIS/2+XwzPFxgb9rVLl0v0+EvwE/xm8ZVoa/US2l5mc1hL/iO/p/lwl6v0ATht6pWzm//llQLsKafz+eQ3D04tiLP+iU2AYF3ZI/RqUIeOtflj8M0EVGNROYP3N9tU3vbpc/bHeyzMBXlz9Za/ozDViWPw==\",\"dtype\":\"float64\",\"shape\":[74]},\"y\":{\"__ndarray__\":\"0r/J27aUSD9r8pTVdD1RP2k7pu7KLlg/wLdEifH1YD8NyLmoccpnPzEjYYSVr3A/203wTdNndz9s2+Z8Z2qAPwg+YeTABoc/DZnh9U8mkD/s6wrHPaeWPy2yne+nxp8/2y1uSEhJpj8MPWL03EKvPyVdjrLZ7LU/BK+WOzPBvj9HPq946pHFP+YffZOmQc4/PGwiMxc41T+Hp1fKMsTdP/8h/fZ14OQ/KjqSy39I7T+ZKhiV1In0P3PXEvJBz/w/vw6cM6I0BECBJsKGp1cMQOJYF7fR4BNAUkmdgCbiG0ADCYofY44jQOauJeSDbitAMEymCkY9M0Db+X5qvPw6QGgibHh67UJAf/s6cM6MSkDNzMzMzHhSQGZmZmZmalhAAAAAAABcXkDNzMzMzCZiQJqZmZmZH2VAZmZmZmYYaEAzMzMzMxFrQAAAAAAACm5AZmZmZmaBcEDNzMzMzP1xQDMzMzMzenNAmpmZmZn2dEAAAAAAAHN2QGZmZmZm73dAzczMzMxreUAzMzMzM+h6QJqZmZmZZHxAAAAAAADhfUBmZmZmZl1/QGZmZmbmbIBAmpmZmRkrgUDNzMzMTOmBQAAAAACAp4JAMzMzM7Nlg0BmZmZm5iOEQJqZmZkZ4oRAzczMzEyghUAAAAAAgF6GQDMzMzOzHIdAZmZmZubah0CamZmZGZmIQM3MzMxMV4lAAAAAAIAVikAzMzMzs9OKQGZmZmbmkYtAmpmZmRlQjEDNzMzMTA6NQAAAAACAzI1AMzMzM7OKjkBmZmZm5kiPQA==\",\"dtype\":\"float64\",\"shape\":[74]}},\"selected\":{\"id\":\"53a59446-7648-4b94-898b-816ae784545b\",\"type\":\"Selection\"},\"selection_policy\":{\"id\":\"cd4a17ef-75be-4bdb-8bd3-9f7fecdfc8d0\",\"type\":\"UnionRenderers\"}},\"id\":\"dd952e97-128d-48de-81f2-a3edadafd293\",\"type\":\"ColumnDataSource\"},{\"attributes\":{\"line_alpha\":0.8,\"line_color\":\"#984ea3\",\"line_width\":1.5,\"x\":{\"field\":\"x\"},\"y\":{\"field\":\"y\"}},\"id\":\"1dc3f2bc-381e-4b86-85a9-315b95456504\",\"type\":\"Line\"},{\"attributes\":{\"line_alpha\":0.1,\"line_color\":\"#1f77b4\",\"line_dash\":[6],\"line_width\":5,\"x\":{\"field\":\"x\"},\"y\":{\"field\":\"y\"}},\"id\":\"e25689d2-dbb9-49ac-a84c-702e97ca7804\",\"type\":\"Line\"},{\"attributes\":{},\"id\":\"8a43acfb-ec5c-48a8-961e-b583df84cd26\",\"type\":\"UnionRenderers\"},{\"attributes\":{},\"id\":\"ccbe4451-afed-434a-b5c7-eb69f4e72e39\",\"type\":\"BasicTickFormatter\"},{\"attributes\":{\"fill_alpha\":{\"value\":0.7},\"fill_color\":{\"value\":\"#4daf4a\"},\"line_alpha\":{\"value\":0.7},\"line_color\":{\"value\":\"#4daf4a\"},\"x\":{\"field\":\"x\"},\"y\":{\"field\":\"y\"}},\"id\":\"55283f9d-f875-4341-b577-b3be49c0bae8\",\"type\":\"Circle\"},{\"attributes\":{\"source\":{\"id\":\"147df947-0652-462d-8c53-ee72ae770d5a\",\"type\":\"ColumnDataSource\"}},\"id\":\"46028f99-1ad3-4e1d-aeda-0831d9a78b53\",\"type\":\"CDSView\"},{\"attributes\":{\"line_alpha\":0.1,\"line_color\":\"#1f77b4\",\"line_dash\":[6],\"line_width\":5,\"x\":{\"field\":\"x\"},\"y\":{\"field\":\"y\"}},\"id\":\"a9c998cb-0b80-4d09-b6b8-2ffc4c7163ff\",\"type\":\"Line\"},{\"attributes\":{\"axis_label\":\"cooling rate [K/day]\",\"formatter\":{\"id\":\"4791d446-ff3e-4794-ba85-1ea9920dd7ce\",\"type\":\"BasicTickFormatter\"},\"plot\":{\"id\":\"4ae0fd48-b014-4670-b23f-19ae6bb49646\",\"subtype\":\"Figure\",\"type\":\"Plot\"},\"ticker\":{\"id\":\"87b94fff-3c60-43f8-9508-c8fd8a4d0c27\",\"type\":\"BasicTicker\"}},\"id\":\"f7119e6d-1bb0-46f0-8ced-d1c01e4d0410\",\"type\":\"LinearAxis\"},{\"attributes\":{\"above\":[{\"id\":\"84188b12-63d4-40a6-8e1f-f5e7e3e756d5\",\"type\":\"Legend\"}],\"below\":[{\"id\":\"f7119e6d-1bb0-46f0-8ced-d1c01e4d0410\",\"type\":\"LinearAxis\"}],\"left\":[{\"id\":\"a964f5b2-c155-4444-89f9-57e079f12174\",\"type\":\"LogAxis\"}],\"plot_width\":300,\"renderers\":[{\"id\":\"f7119e6d-1bb0-46f0-8ced-d1c01e4d0410\",\"type\":\"LinearAxis\"},{\"id\":\"47df59d3-4115-4ee0-ad6a-a12fe4caea4c\",\"type\":\"Grid\"},{\"id\":\"a964f5b2-c155-4444-89f9-57e079f12174\",\"type\":\"LogAxis\"},{\"id\":\"b5ff1f60-30b8-4012-970a-5a3923988471\",\"type\":\"Grid\"},{\"id\":\"2b708137-75b7-4267-ab19-a704c89e5ab5\",\"type\":\"BoxAnnotation\"},{\"id\":\"0f9adc80-597a-4029-abc1-18004d89ea56\",\"type\":\"GlyphRenderer\"},{\"id\":\"310e6518-2cbc-4d43-8508-1ea98aef4e4f\",\"type\":\"GlyphRenderer\"},{\"id\":\"de3568ab-82a1-4e19-8d0b-6cf5ac86b33e\",\"type\":\"GlyphRenderer\"},{\"id\":\"84188b12-63d4-40a6-8e1f-f5e7e3e756d5\",\"type\":\"Legend\"}],\"title\":{\"id\":\"63271209-a5b0-4c7a-946f-1ed2ecb8e510\",\"type\":\"Title\"},\"toolbar\":{\"id\":\"60e7039a-ae07-4a70-a992-2e81ebc094be\",\"type\":\"Toolbar\"},\"toolbar_location\":null,\"x_range\":{\"id\":\"665030aa-1ee2-499a-ac24-b975224783ef\",\"type\":\"Range1d\"},\"x_scale\":{\"id\":\"e44f19e5-3b2a-4f6a-a526-c9725a493142\",\"type\":\"LinearScale\"},\"y_range\":{\"id\":\"7b447b04-fa38-49f7-97c5-ff76ff1c6f6a\",\"type\":\"Range1d\"},\"y_scale\":{\"id\":\"d053d88e-0281-47f4-8c71-911c721f7fac\",\"type\":\"LogScale\"}},\"id\":\"4ae0fd48-b014-4670-b23f-19ae6bb49646\",\"subtype\":\"Figure\",\"type\":\"Plot\"},{\"attributes\":{\"ticker\":null},\"id\":\"9a97b91b-b671-41bc-8e78-1cfde932a983\",\"type\":\"LogTickFormatter\"},{\"attributes\":{\"fill_alpha\":{\"value\":0.1},\"fill_color\":{\"value\":\"#1f77b4\"},\"line_alpha\":{\"value\":0.1},\"line_color\":{\"value\":\"#1f77b4\"},\"x\":{\"field\":\"x\"},\"y\":{\"field\":\"y\"}},\"id\":\"871404e7-219b-47ec-af7a-e5502f9d7c23\",\"type\":\"Circle\"},{\"attributes\":{\"active_drag\":\"auto\",\"active_inspect\":\"auto\",\"active_scroll\":\"auto\",\"active_tap\":\"auto\",\"tools\":[{\"id\":\"e3146f39-e7b7-4d55-b3b6-c2739d919f69\",\"type\":\"PanTool\"},{\"id\":\"0c416b12-07ec-433c-af71-870bb3c5882d\",\"type\":\"WheelZoomTool\"},{\"id\":\"3d1858e5-1626-4730-b275-bf2ccd1a46a1\",\"type\":\"BoxZoomTool\"},{\"id\":\"6b770a67-d0ec-4931-be6f-1601eeb086cd\",\"type\":\"SaveTool\"},{\"id\":\"925ead6d-6d6f-406b-b5dc-97f4b9f4b7fa\",\"type\":\"ResetTool\"},{\"id\":\"d2a70b0a-c2c6-4d11-9178-47b66dfbdbff\",\"type\":\"HelpTool\"}]},\"id\":\"92801256-20fe-462f-8f98-aea6a68ec87e\",\"type\":\"Toolbar\"},{\"attributes\":{\"children\":[{\"id\":\"f9d61036-64ec-4f2f-a836-8e65e8d18be1\",\"subtype\":\"Figure\",\"type\":\"Plot\"},{\"id\":\"4ae0fd48-b014-4670-b23f-19ae6bb49646\",\"subtype\":\"Figure\",\"type\":\"Plot\"},{\"id\":\"8d81d606-e7bb-4d58-9001-ee6797b30811\",\"subtype\":\"Figure\",\"type\":\"Plot\"}]},\"id\":\"e95acbe6-1347-4ad3-8c68-8421793eff7d\",\"type\":\"Row\"},{\"attributes\":{},\"id\":\"a0ce5970-441e-4ded-b91b-609dfee6b995\",\"type\":\"Selection\"},{\"attributes\":{\"source\":{\"id\":\"a27e5300-88f3-4d7d-a624-8b71bbe9a4f5\",\"type\":\"ColumnDataSource\"}},\"id\":\"7f5e4fad-a752-4bc0-9105-882ca455ac10\",\"type\":\"CDSView\"},{\"attributes\":{},\"id\":\"947cc743-0149-4af6-83de-1b9fee9af382\",\"type\":\"UnionRenderers\"},{\"attributes\":{\"source\":{\"id\":\"a352165b-38b6-46d9-8208-8c642e265f21\",\"type\":\"ColumnDataSource\"}},\"id\":\"939ba420-6384-4b4c-ac0d-f06c6fb136a3\",\"type\":\"CDSView\"}],\"root_ids\":[\"6bd55212-e3ea-4288-97be-b4430bb0829e\"]},\"title\":\"Bokeh Application\",\"version\":\"0.12.16\"}};\n",
       "  var render_items = [{\"docid\":\"701ea5fd-1f2b-47a0-8369-57f9c8e1141a\",\"elementid\":\"7126553c-33de-4d67-94d3-abf55dfd73de\",\"modelid\":\"6bd55212-e3ea-4288-97be-b4430bb0829e\"}];\n",
       "  root.Bokeh.embed.embed_items_notebook(docs_json, render_items);\n",
       "\n",
       "  }\n",
       "  if (root.Bokeh !== undefined) {\n",
       "    embed_document(root);\n",
       "  } else {\n",
       "    var attempts = 0;\n",
       "    var timer = setInterval(function(root) {\n",
       "      if (root.Bokeh !== undefined) {\n",
       "        embed_document(root);\n",
       "        clearInterval(timer);\n",
       "      }\n",
       "      attempts++;\n",
       "      if (attempts > 100) {\n",
       "        console.log(\"Bokeh: ERROR: Unable to run BokehJS code because BokehJS library is missing\")\n",
       "        clearInterval(timer);\n",
       "      }\n",
       "    }, 10, root)\n",
       "  }\n",
       "})(window);"
      ],
      "application/vnd.bokehjs_exec.v0+json": ""
     },
     "metadata": {
      "application/vnd.bokehjs_exec.v0+json": {
       "id": "6bd55212-e3ea-4288-97be-b4430bb0829e"
      }
     },
     "output_type": "display_data"
    },
    {
     "data": {
      "text/markdown": [
       "*FIGURE.* Cooling rates & difference."
      ],
      "text/plain": [
       "<IPython.core.display.Markdown object>"
      ]
     },
     "metadata": {},
     "output_type": "display_data"
    },
    {
     "data": {
      "text/html": [
       "<a id=\"Fluxes._saw.\"></a>"
      ],
      "text/plain": [
       "<IPython.core.display.HTML object>"
      ]
     },
     "metadata": {},
     "output_type": "display_data"
    },
    {
     "data": {
      "text/markdown": [
       "# Fluxes. saw."
      ],
      "text/plain": [
       "<IPython.core.display.Markdown object>"
      ]
     },
     "metadata": {},
     "output_type": "display_data"
    },
    {
     "data": {
      "text/html": [
       "\n",
       "<div class=\"bk-root\">\n",
       "    <div class=\"bk-plotdiv\" id=\"494b7843-0003-4936-9bdf-b355314acca6\"></div>\n",
       "</div>"
      ]
     },
     "metadata": {},
     "output_type": "display_data"
    },
    {
     "data": {
      "application/javascript": [
       "(function(root) {\n",
       "  function embed_document(root) {\n",
       "    \n",
       "  var docs_json = {\"2a7f201a-e630-4e15-bffa-b5a19dcaf27a\":{\"roots\":{\"references\":[{\"attributes\":{\"axis_label\":\"flux (W m-2)\",\"formatter\":{\"id\":\"b4494683-9206-4f85-9958-dac969a02403\",\"type\":\"BasicTickFormatter\"},\"plot\":{\"id\":\"967ce2e1-3fc4-482e-a132-49507245d06c\",\"subtype\":\"Figure\",\"type\":\"Plot\"},\"ticker\":{\"id\":\"9d3202fc-5aba-41c0-95ec-e1c0cde2b212\",\"type\":\"BasicTicker\"}},\"id\":\"7b03a6a8-2f0d-47a9-abc1-9f9b2a3bea7d\",\"type\":\"LinearAxis\"},{\"attributes\":{\"callback\":null,\"data\":{\"band\":[\"1\",\"2\",\"3\",\"4\",\"5\",\"6\",\"7\",\"8\",\"9\",\"10\",\"11\"],\"flux\":{\"__ndarray__\":\"AEDdJAaBZb8Asg5HV+nAvyAq/1peueC/AAeY+Q5+tj+AoAVXL3XIP5BpRlBGprm/AILknUMZsD8gTuW8GC20vwApH4Kq0ZM/AJDEy9O5oj8AoYsCVKNtPw==\",\"dtype\":\"float64\",\"shape\":[11]}},\"selected\":{\"id\":\"9504a0b6-0d33-4a18-a15f-885cf41b675f\",\"type\":\"Selection\"},\"selection_policy\":{\"id\":\"eb616ddd-2fe4-4a26-b84b-923e08b4e60e\",\"type\":\"UnionRenderers\"}},\"id\":\"6304cf9c-fb8a-4f60-a5e2-36887a847a5b\",\"type\":\"ColumnDataSource\"},{\"attributes\":{},\"id\":\"b90eed98-16aa-4f33-b618-dfec73434b3a\",\"type\":\"HelpTool\"},{\"attributes\":{},\"id\":\"84bcc71f-e33b-4334-a342-22bb6de6e2f9\",\"type\":\"LinearScale\"},{\"attributes\":{\"plot\":null,\"text\":\"SFC flux. CLIRAD - CRD.\"},\"id\":\"2d77fae8-e9cc-4419-aebf-c043eb410ef6\",\"type\":\"Title\"},{\"attributes\":{\"active_drag\":\"auto\",\"active_inspect\":\"auto\",\"active_scroll\":\"auto\",\"active_tap\":\"auto\",\"tools\":[{\"id\":\"40b5034e-c0c5-47bc-abab-eac45623c34e\",\"type\":\"PanTool\"},{\"id\":\"696491c3-384a-4bc9-a1e3-d808db593499\",\"type\":\"WheelZoomTool\"},{\"id\":\"120fe6eb-f86b-4795-b235-97d91b27e1e5\",\"type\":\"BoxZoomTool\"},{\"id\":\"1581cdc0-2f81-43ab-b04e-f6e7cf9060b0\",\"type\":\"SaveTool\"},{\"id\":\"272ae6df-fefa-4f0c-9ad4-db17a7a4bc5d\",\"type\":\"ResetTool\"},{\"id\":\"d56a4128-185a-4997-972f-cbe2cd96b7b3\",\"type\":\"HelpTool\"}]},\"id\":\"9ba381ee-08d3-4dca-a270-d2494fab65a1\",\"type\":\"Toolbar\"},{\"attributes\":{\"dimension\":1,\"plot\":{\"id\":\"c64d8ab8-e188-4ea2-af34-fa769493a9c4\",\"subtype\":\"Figure\",\"type\":\"Plot\"},\"ticker\":{\"id\":\"799bdb73-65f7-4c5b-b9c3-6801bdd9d5da\",\"type\":\"BasicTicker\"}},\"id\":\"a753e3cc-b268-4285-93af-1e5cb4024c5c\",\"type\":\"Grid\"},{\"attributes\":{},\"id\":\"9d3202fc-5aba-41c0-95ec-e1c0cde2b212\",\"type\":\"BasicTicker\"},{\"attributes\":{},\"id\":\"696491c3-384a-4bc9-a1e3-d808db593499\",\"type\":\"WheelZoomTool\"},{\"attributes\":{\"data_source\":{\"id\":\"0df24d4d-757f-4031-b7a9-68e6940bca8a\",\"type\":\"ColumnDataSource\"},\"glyph\":{\"id\":\"adf627a8-6fae-49f2-8e2c-a9ec55757847\",\"type\":\"VBar\"},\"hover_glyph\":null,\"muted_glyph\":null,\"nonselection_glyph\":{\"id\":\"d1fd1797-22e1-4e5d-bbb0-0221e22cb57d\",\"type\":\"VBar\"},\"selection_glyph\":null,\"view\":{\"id\":\"c28b0a61-517b-47d9-ad1e-9676e9a234fb\",\"type\":\"CDSView\"}},\"id\":\"60537ceb-37a7-4566-83b4-b09d8497f9a5\",\"type\":\"GlyphRenderer\"},{\"attributes\":{\"callback\":null},\"id\":\"8e5de636-0bfb-46b6-8644-a1b617f0dbc0\",\"type\":\"DataRange1d\"},{\"attributes\":{\"plot\":{\"id\":\"c64d8ab8-e188-4ea2-af34-fa769493a9c4\",\"subtype\":\"Figure\",\"type\":\"Plot\"},\"ticker\":{\"id\":\"a9ede0b3-629f-4667-be97-6575eebebea6\",\"type\":\"CategoricalTicker\"}},\"id\":\"9c02d46d-31e2-4625-8b65-99da3a15a83d\",\"type\":\"Grid\"},{\"attributes\":{},\"id\":\"c0ecf5d6-fe52-4d3b-a76d-84337f89231b\",\"type\":\"UnionRenderers\"},{\"attributes\":{\"dimension\":1,\"plot\":{\"id\":\"967ce2e1-3fc4-482e-a132-49507245d06c\",\"subtype\":\"Figure\",\"type\":\"Plot\"},\"ticker\":{\"id\":\"9d3202fc-5aba-41c0-95ec-e1c0cde2b212\",\"type\":\"BasicTicker\"}},\"id\":\"0e027c94-9b62-4eac-9322-54802647ee0a\",\"type\":\"Grid\"},{\"attributes\":{\"fill_alpha\":{\"value\":0.1},\"fill_color\":{\"value\":\"#1f77b4\"},\"line_alpha\":{\"value\":0.1},\"line_color\":{\"value\":\"#1f77b4\"},\"top\":{\"field\":\"flux\"},\"width\":{\"value\":0.9},\"x\":{\"field\":\"band\"}},\"id\":\"990079c0-9fd0-46f8-b93f-1e02f59736bd\",\"type\":\"VBar\"},{\"attributes\":{\"dimension\":1,\"plot\":{\"id\":\"0f312a62-18ed-46d1-8207-103d9b211693\",\"subtype\":\"Figure\",\"type\":\"Plot\"},\"ticker\":{\"id\":\"2ecee40d-bcdb-4943-86df-9e7f922976fb\",\"type\":\"BasicTicker\"}},\"id\":\"de24012e-a970-47bc-86e6-ced6fc3dde19\",\"type\":\"Grid\"},{\"attributes\":{\"plot\":null,\"text\":\"TOA flux. CLIRAD - CRD.\"},\"id\":\"34b20c38-680b-4e88-8639-35170ececc67\",\"type\":\"Title\"},{\"attributes\":{},\"id\":\"d56a4128-185a-4997-972f-cbe2cd96b7b3\",\"type\":\"HelpTool\"},{\"attributes\":{\"fill_alpha\":{\"value\":0.1},\"fill_color\":{\"value\":\"#1f77b4\"},\"line_alpha\":{\"value\":0.1},\"line_color\":{\"value\":\"#1f77b4\"},\"top\":{\"field\":\"flux\"},\"width\":{\"value\":0.9},\"x\":{\"field\":\"band\"}},\"id\":\"d1fd1797-22e1-4e5d-bbb0-0221e22cb57d\",\"type\":\"VBar\"},{\"attributes\":{\"bottom_units\":\"screen\",\"fill_alpha\":{\"value\":0.5},\"fill_color\":{\"value\":\"lightgrey\"},\"left_units\":\"screen\",\"level\":\"overlay\",\"line_alpha\":{\"value\":1.0},\"line_color\":{\"value\":\"black\"},\"line_dash\":[4,4],\"line_width\":{\"value\":2},\"plot\":null,\"render_mode\":\"css\",\"right_units\":\"screen\",\"top_units\":\"screen\"},\"id\":\"02816d09-d61f-44b5-bd6d-cca053600e21\",\"type\":\"BoxAnnotation\"},{\"attributes\":{},\"id\":\"40b5034e-c0c5-47bc-abab-eac45623c34e\",\"type\":\"PanTool\"},{\"attributes\":{\"bottom_units\":\"screen\",\"fill_alpha\":{\"value\":0.5},\"fill_color\":{\"value\":\"lightgrey\"},\"left_units\":\"screen\",\"level\":\"overlay\",\"line_alpha\":{\"value\":1.0},\"line_color\":{\"value\":\"black\"},\"line_dash\":[4,4],\"line_width\":{\"value\":2},\"plot\":null,\"render_mode\":\"css\",\"right_units\":\"screen\",\"top_units\":\"screen\"},\"id\":\"7c3c867f-6748-4264-ace4-868daa565317\",\"type\":\"BoxAnnotation\"},{\"attributes\":{\"fill_color\":{\"value\":\"#1f77b4\"},\"line_color\":{\"value\":\"#1f77b4\"},\"top\":{\"field\":\"flux\"},\"width\":{\"value\":0.9},\"x\":{\"field\":\"band\"}},\"id\":\"8cbc5840-a3fa-43d6-a572-d9e44d578036\",\"type\":\"VBar\"},{\"attributes\":{},\"id\":\"a9ede0b3-629f-4667-be97-6575eebebea6\",\"type\":\"CategoricalTicker\"},{\"attributes\":{\"callback\":null,\"factors\":[\"1\",\"2\",\"3\",\"4\",\"5\",\"6\",\"7\",\"8\",\"9\",\"10\",\"11\"]},\"id\":\"27578591-3095-45ce-a319-1bf502b7ab83\",\"type\":\"FactorRange\"},{\"attributes\":{\"source\":{\"id\":\"6304cf9c-fb8a-4f60-a5e2-36887a847a5b\",\"type\":\"ColumnDataSource\"}},\"id\":\"b63cdd60-aa2e-428e-bd4a-d285c7da1e04\",\"type\":\"CDSView\"},{\"attributes\":{\"overlay\":{\"id\":\"7c3c867f-6748-4264-ace4-868daa565317\",\"type\":\"BoxAnnotation\"}},\"id\":\"120fe6eb-f86b-4795-b235-97d91b27e1e5\",\"type\":\"BoxZoomTool\"},{\"attributes\":{\"axis_label\":\"flux (W m-2)\",\"formatter\":{\"id\":\"1877067f-8e23-43e6-937c-d561e5abc0df\",\"type\":\"BasicTickFormatter\"},\"plot\":{\"id\":\"0f312a62-18ed-46d1-8207-103d9b211693\",\"subtype\":\"Figure\",\"type\":\"Plot\"},\"ticker\":{\"id\":\"2ecee40d-bcdb-4943-86df-9e7f922976fb\",\"type\":\"BasicTicker\"}},\"id\":\"3dcc797d-ece4-4581-b149-2f216e7cf0b9\",\"type\":\"LinearAxis\"},{\"attributes\":{\"below\":[{\"id\":\"e2ae26cd-0c74-4a11-aa34-7427db6eb13c\",\"type\":\"CategoricalAxis\"}],\"left\":[{\"id\":\"3dcc797d-ece4-4581-b149-2f216e7cf0b9\",\"type\":\"LinearAxis\"}],\"plot_height\":300,\"plot_width\":300,\"renderers\":[{\"id\":\"e2ae26cd-0c74-4a11-aa34-7427db6eb13c\",\"type\":\"CategoricalAxis\"},{\"id\":\"41ca50a4-2f60-4aeb-acdb-3682c12a9f71\",\"type\":\"Grid\"},{\"id\":\"3dcc797d-ece4-4581-b149-2f216e7cf0b9\",\"type\":\"LinearAxis\"},{\"id\":\"de24012e-a970-47bc-86e6-ced6fc3dde19\",\"type\":\"Grid\"},{\"id\":\"02816d09-d61f-44b5-bd6d-cca053600e21\",\"type\":\"BoxAnnotation\"},{\"id\":\"60537ceb-37a7-4566-83b4-b09d8497f9a5\",\"type\":\"GlyphRenderer\"}],\"title\":{\"id\":\"34b20c38-680b-4e88-8639-35170ececc67\",\"type\":\"Title\"},\"toolbar\":{\"id\":\"4b5657f8-164d-4c50-8d06-6cefc0c7eb71\",\"type\":\"Toolbar\"},\"toolbar_location\":null,\"x_range\":{\"id\":\"68d71f2e-9e29-45f4-88ef-724a0e51f206\",\"type\":\"FactorRange\"},\"x_scale\":{\"id\":\"578bc234-14a1-4609-b784-7e81bdeecbcc\",\"type\":\"CategoricalScale\"},\"y_range\":{\"id\":\"3c2bbf4f-c7d3-4859-ba38-4c3d6981787f\",\"type\":\"DataRange1d\"},\"y_scale\":{\"id\":\"5a97d199-0bb5-4d7d-89da-40b4bd61b3b1\",\"type\":\"LinearScale\"}},\"id\":\"0f312a62-18ed-46d1-8207-103d9b211693\",\"subtype\":\"Figure\",\"type\":\"Plot\"},{\"attributes\":{\"plot\":{\"id\":\"967ce2e1-3fc4-482e-a132-49507245d06c\",\"subtype\":\"Figure\",\"type\":\"Plot\"},\"ticker\":{\"id\":\"dfda572d-68ad-4bf2-a471-46f0052c3418\",\"type\":\"CategoricalTicker\"}},\"id\":\"1a3ab866-0657-4ef1-987e-d9c924f49b1a\",\"type\":\"Grid\"},{\"attributes\":{\"fill_color\":{\"value\":\"#1f77b4\"},\"line_color\":{\"value\":\"#1f77b4\"},\"top\":{\"field\":\"flux\"},\"width\":{\"value\":0.9},\"x\":{\"field\":\"band\"}},\"id\":\"adf627a8-6fae-49f2-8e2c-a9ec55757847\",\"type\":\"VBar\"},{\"attributes\":{\"data_source\":{\"id\":\"6304cf9c-fb8a-4f60-a5e2-36887a847a5b\",\"type\":\"ColumnDataSource\"},\"glyph\":{\"id\":\"8cbc5840-a3fa-43d6-a572-d9e44d578036\",\"type\":\"VBar\"},\"hover_glyph\":null,\"muted_glyph\":null,\"nonselection_glyph\":{\"id\":\"990079c0-9fd0-46f8-b93f-1e02f59736bd\",\"type\":\"VBar\"},\"selection_glyph\":null,\"view\":{\"id\":\"b63cdd60-aa2e-428e-bd4a-d285c7da1e04\",\"type\":\"CDSView\"}},\"id\":\"b4d0ce8f-0903-4ed9-9e88-ca2f7ff6372b\",\"type\":\"GlyphRenderer\"},{\"attributes\":{},\"id\":\"dfda572d-68ad-4bf2-a471-46f0052c3418\",\"type\":\"CategoricalTicker\"},{\"attributes\":{\"axis_label\":\"flux (W m-2)\",\"formatter\":{\"id\":\"cdadb285-5107-4fe6-a238-5da573ee8e32\",\"type\":\"BasicTickFormatter\"},\"plot\":{\"id\":\"c64d8ab8-e188-4ea2-af34-fa769493a9c4\",\"subtype\":\"Figure\",\"type\":\"Plot\"},\"ticker\":{\"id\":\"799bdb73-65f7-4c5b-b9c3-6801bdd9d5da\",\"type\":\"BasicTicker\"}},\"id\":\"29d47399-99b8-401c-84d7-785dbdda94a3\",\"type\":\"LinearAxis\"},{\"attributes\":{\"fill_alpha\":{\"value\":0.1},\"fill_color\":{\"value\":\"#1f77b4\"},\"line_alpha\":{\"value\":0.1},\"line_color\":{\"value\":\"#1f77b4\"},\"top\":{\"field\":\"flux\"},\"width\":{\"value\":0.9},\"x\":{\"field\":\"band\"}},\"id\":\"b3fee4b7-6d32-4a0d-a8b8-ba57632f4c48\",\"type\":\"VBar\"},{\"attributes\":{\"axis_label\":\"spectral band\",\"formatter\":{\"id\":\"b2a688c4-537e-42f9-b47c-61a019508beb\",\"type\":\"CategoricalTickFormatter\"},\"plot\":{\"id\":\"c64d8ab8-e188-4ea2-af34-fa769493a9c4\",\"subtype\":\"Figure\",\"type\":\"Plot\"},\"ticker\":{\"id\":\"a9ede0b3-629f-4667-be97-6575eebebea6\",\"type\":\"CategoricalTicker\"}},\"id\":\"2cc92e50-3d23-419a-bc80-49350f37249d\",\"type\":\"CategoricalAxis\"},{\"attributes\":{\"callback\":null,\"data\":{\"band\":[\"1\",\"2\",\"3\",\"4\",\"5\",\"6\",\"7\",\"8\",\"9\",\"10\",\"11\"],\"flux\":{\"__ndarray__\":\"ABU3bjE/xz8AZg3eV+WyPwARbjKqDLO/IP5+MVuy0D8AgbVq14S4PwDQ+uk/a46/YGthFto50j8AHErtRbSNv4DSeglfqaA/AMybHm9Ndb8AjgOvljuTPw==\",\"dtype\":\"float64\",\"shape\":[11]}},\"selected\":{\"id\":\"409c8d5b-d93e-4c83-92e1-2c40a3ac812b\",\"type\":\"Selection\"},\"selection_policy\":{\"id\":\"a7a38c9e-ee1b-4dc2-aad3-baad78c14a81\",\"type\":\"UnionRenderers\"}},\"id\":\"0df24d4d-757f-4031-b7a9-68e6940bca8a\",\"type\":\"ColumnDataSource\"},{\"attributes\":{},\"id\":\"2ecee40d-bcdb-4943-86df-9e7f922976fb\",\"type\":\"BasicTicker\"},{\"attributes\":{},\"id\":\"272ae6df-fefa-4f0c-9ad4-db17a7a4bc5d\",\"type\":\"ResetTool\"},{\"attributes\":{},\"id\":\"1581cdc0-2f81-43ab-b04e-f6e7cf9060b0\",\"type\":\"SaveTool\"},{\"attributes\":{},\"id\":\"799bdb73-65f7-4c5b-b9c3-6801bdd9d5da\",\"type\":\"BasicTicker\"},{\"attributes\":{},\"id\":\"211a7dff-4b3f-465d-9059-105ab2e4d429\",\"type\":\"CategoricalScale\"},{\"attributes\":{\"children\":[{\"id\":\"0f312a62-18ed-46d1-8207-103d9b211693\",\"subtype\":\"Figure\",\"type\":\"Plot\"},{\"id\":\"c64d8ab8-e188-4ea2-af34-fa769493a9c4\",\"subtype\":\"Figure\",\"type\":\"Plot\"},{\"id\":\"967ce2e1-3fc4-482e-a132-49507245d06c\",\"subtype\":\"Figure\",\"type\":\"Plot\"}]},\"id\":\"f71c5b78-c3dd-4d85-9970-e27f04c38beb\",\"type\":\"Row\"},{\"attributes\":{},\"id\":\"1ef56b74-d62f-41f5-9fc3-c6e1fdf72496\",\"type\":\"WheelZoomTool\"},{\"attributes\":{\"axis_label\":\"spectral band\",\"formatter\":{\"id\":\"3f435b2e-1ea5-4aeb-8de7-e54399afe2df\",\"type\":\"CategoricalTickFormatter\"},\"plot\":{\"id\":\"0f312a62-18ed-46d1-8207-103d9b211693\",\"subtype\":\"Figure\",\"type\":\"Plot\"},\"ticker\":{\"id\":\"72bd8dc7-cd5c-4ac7-98b6-25a7fe001695\",\"type\":\"CategoricalTicker\"}},\"id\":\"e2ae26cd-0c74-4a11-aa34-7427db6eb13c\",\"type\":\"CategoricalAxis\"},{\"attributes\":{\"callback\":null},\"id\":\"1f77d2da-1716-45cf-9770-24ebd1c073c0\",\"type\":\"DataRange1d\"},{\"attributes\":{},\"id\":\"6527d5eb-474a-4c60-9d70-9b51165e45ae\",\"type\":\"PanTool\"},{\"attributes\":{},\"id\":\"9504a0b6-0d33-4a18-a15f-885cf41b675f\",\"type\":\"Selection\"},{\"attributes\":{},\"id\":\"b4494683-9206-4f85-9958-dac969a02403\",\"type\":\"BasicTickFormatter\"},{\"attributes\":{\"overlay\":{\"id\":\"e5f6d0f5-07f3-491b-8101-a162750f57fb\",\"type\":\"BoxAnnotation\"}},\"id\":\"a3ceb1e4-3b21-4261-a774-62c390086196\",\"type\":\"BoxZoomTool\"},{\"attributes\":{},\"id\":\"578bc234-14a1-4609-b784-7e81bdeecbcc\",\"type\":\"CategoricalScale\"},{\"attributes\":{},\"id\":\"8f0cddf5-88e7-4d98-b48f-b12357f31cd8\",\"type\":\"CategoricalScale\"},{\"attributes\":{},\"id\":\"63da635a-b9af-4e31-ab16-4a4934dcd96c\",\"type\":\"Selection\"},{\"attributes\":{\"below\":[{\"id\":\"0787c2d0-c321-415d-84e8-fc3cda9a14d8\",\"type\":\"CategoricalAxis\"}],\"left\":[{\"id\":\"7b03a6a8-2f0d-47a9-abc1-9f9b2a3bea7d\",\"type\":\"LinearAxis\"}],\"plot_height\":300,\"plot_width\":300,\"renderers\":[{\"id\":\"0787c2d0-c321-415d-84e8-fc3cda9a14d8\",\"type\":\"CategoricalAxis\"},{\"id\":\"1a3ab866-0657-4ef1-987e-d9c924f49b1a\",\"type\":\"Grid\"},{\"id\":\"7b03a6a8-2f0d-47a9-abc1-9f9b2a3bea7d\",\"type\":\"LinearAxis\"},{\"id\":\"0e027c94-9b62-4eac-9322-54802647ee0a\",\"type\":\"Grid\"},{\"id\":\"e5f6d0f5-07f3-491b-8101-a162750f57fb\",\"type\":\"BoxAnnotation\"},{\"id\":\"40095fbb-f36d-4416-905e-3180ded7a08f\",\"type\":\"GlyphRenderer\"}],\"title\":{\"id\":\"08259069-51f3-4f11-b5b9-7da56d5f47d5\",\"type\":\"Title\"},\"toolbar\":{\"id\":\"1f32f89b-8085-40aa-95d1-aaa19b4097d0\",\"type\":\"Toolbar\"},\"toolbar_location\":null,\"x_range\":{\"id\":\"e9a88db3-719a-43f2-a71b-a12fc8804111\",\"type\":\"FactorRange\"},\"x_scale\":{\"id\":\"8f0cddf5-88e7-4d98-b48f-b12357f31cd8\",\"type\":\"CategoricalScale\"},\"y_range\":{\"id\":\"1f77d2da-1716-45cf-9770-24ebd1c073c0\",\"type\":\"DataRange1d\"},\"y_scale\":{\"id\":\"8335b3ac-49da-43c5-b0bc-ea1989d58964\",\"type\":\"LinearScale\"}},\"id\":\"967ce2e1-3fc4-482e-a132-49507245d06c\",\"subtype\":\"Figure\",\"type\":\"Plot\"},{\"attributes\":{},\"id\":\"1877067f-8e23-43e6-937c-d561e5abc0df\",\"type\":\"BasicTickFormatter\"},{\"attributes\":{\"callback\":null,\"data\":{\"band\":[\"1\",\"2\",\"3\",\"4\",\"5\",\"6\",\"7\",\"8\",\"9\",\"10\",\"11\"],\"flux\":{\"__ndarray__\":\"AEIA0xaVxz8AmszTFFzKP6DtqeaDr9w/gKZD7rwpxj8ACKbk5mW4vwDq6Lga2bU/QL99HThnzD+AUnx8QnawPwCJRWf0/oo/gPCZrTtkpb8AT6VNchOPPw==\",\"dtype\":\"float64\",\"shape\":[11]}},\"selected\":{\"id\":\"63da635a-b9af-4e31-ab16-4a4934dcd96c\",\"type\":\"Selection\"},\"selection_policy\":{\"id\":\"c0ecf5d6-fe52-4d3b-a76d-84337f89231b\",\"type\":\"UnionRenderers\"}},\"id\":\"f4269a56-9ccd-4bc9-ad6e-582aa224df0c\",\"type\":\"ColumnDataSource\"},{\"attributes\":{\"overlay\":{\"id\":\"02816d09-d61f-44b5-bd6d-cca053600e21\",\"type\":\"BoxAnnotation\"}},\"id\":\"81d86ff6-0ee6-4e47-be82-4f0ffb5f62ce\",\"type\":\"BoxZoomTool\"},{\"attributes\":{\"plot\":null,\"text\":\"Atmosphere heating. CLIRAD - CRD.\"},\"id\":\"08259069-51f3-4f11-b5b9-7da56d5f47d5\",\"type\":\"Title\"},{\"attributes\":{\"plot\":{\"id\":\"0f312a62-18ed-46d1-8207-103d9b211693\",\"subtype\":\"Figure\",\"type\":\"Plot\"},\"ticker\":{\"id\":\"72bd8dc7-cd5c-4ac7-98b6-25a7fe001695\",\"type\":\"CategoricalTicker\"}},\"id\":\"41ca50a4-2f60-4aeb-acdb-3682c12a9f71\",\"type\":\"Grid\"},{\"attributes\":{},\"id\":\"32b29b21-9996-495a-80a7-652249df8d45\",\"type\":\"HelpTool\"},{\"attributes\":{\"active_drag\":\"auto\",\"active_inspect\":\"auto\",\"active_scroll\":\"auto\",\"active_tap\":\"auto\",\"tools\":[{\"id\":\"6527d5eb-474a-4c60-9d70-9b51165e45ae\",\"type\":\"PanTool\"},{\"id\":\"1ef56b74-d62f-41f5-9fc3-c6e1fdf72496\",\"type\":\"WheelZoomTool\"},{\"id\":\"a3ceb1e4-3b21-4261-a774-62c390086196\",\"type\":\"BoxZoomTool\"},{\"id\":\"ec06702b-6de2-4cac-92f0-427cbf8fa8ee\",\"type\":\"SaveTool\"},{\"id\":\"5f4e0c22-a950-4fa9-baf5-7d32843c7068\",\"type\":\"ResetTool\"},{\"id\":\"32b29b21-9996-495a-80a7-652249df8d45\",\"type\":\"HelpTool\"}]},\"id\":\"1f32f89b-8085-40aa-95d1-aaa19b4097d0\",\"type\":\"Toolbar\"},{\"attributes\":{\"children\":[{\"id\":\"f71c5b78-c3dd-4d85-9970-e27f04c38beb\",\"type\":\"Row\"}]},\"id\":\"11f46b35-f402-43bd-becf-800eccfa68da\",\"type\":\"Column\"},{\"attributes\":{},\"id\":\"ec06702b-6de2-4cac-92f0-427cbf8fa8ee\",\"type\":\"SaveTool\"},{\"attributes\":{},\"id\":\"cdadb285-5107-4fe6-a238-5da573ee8e32\",\"type\":\"BasicTickFormatter\"},{\"attributes\":{},\"id\":\"eb616ddd-2fe4-4a26-b84b-923e08b4e60e\",\"type\":\"UnionRenderers\"},{\"attributes\":{},\"id\":\"5a97d199-0bb5-4d7d-89da-40b4bd61b3b1\",\"type\":\"LinearScale\"},{\"attributes\":{},\"id\":\"0bc6b884-a27c-49f5-a2a4-b32fb0132f47\",\"type\":\"WheelZoomTool\"},{\"attributes\":{},\"id\":\"a7a38c9e-ee1b-4dc2-aad3-baad78c14a81\",\"type\":\"UnionRenderers\"},{\"attributes\":{\"tools\":[{\"id\":\"28cb0a2a-b133-4fe8-a50e-9c0969cb7012\",\"type\":\"PanTool\"},{\"id\":\"0bc6b884-a27c-49f5-a2a4-b32fb0132f47\",\"type\":\"WheelZoomTool\"},{\"id\":\"81d86ff6-0ee6-4e47-be82-4f0ffb5f62ce\",\"type\":\"BoxZoomTool\"},{\"id\":\"1f11ddfb-67c1-45a1-a18e-3811fa8dd94b\",\"type\":\"SaveTool\"},{\"id\":\"a8dcc60b-a218-49f3-a8f6-092d1f668f9b\",\"type\":\"ResetTool\"},{\"id\":\"b90eed98-16aa-4f33-b618-dfec73434b3a\",\"type\":\"HelpTool\"},{\"id\":\"40b5034e-c0c5-47bc-abab-eac45623c34e\",\"type\":\"PanTool\"},{\"id\":\"696491c3-384a-4bc9-a1e3-d808db593499\",\"type\":\"WheelZoomTool\"},{\"id\":\"120fe6eb-f86b-4795-b235-97d91b27e1e5\",\"type\":\"BoxZoomTool\"},{\"id\":\"1581cdc0-2f81-43ab-b04e-f6e7cf9060b0\",\"type\":\"SaveTool\"},{\"id\":\"272ae6df-fefa-4f0c-9ad4-db17a7a4bc5d\",\"type\":\"ResetTool\"},{\"id\":\"d56a4128-185a-4997-972f-cbe2cd96b7b3\",\"type\":\"HelpTool\"},{\"id\":\"6527d5eb-474a-4c60-9d70-9b51165e45ae\",\"type\":\"PanTool\"},{\"id\":\"1ef56b74-d62f-41f5-9fc3-c6e1fdf72496\",\"type\":\"WheelZoomTool\"},{\"id\":\"a3ceb1e4-3b21-4261-a774-62c390086196\",\"type\":\"BoxZoomTool\"},{\"id\":\"ec06702b-6de2-4cac-92f0-427cbf8fa8ee\",\"type\":\"SaveTool\"},{\"id\":\"5f4e0c22-a950-4fa9-baf5-7d32843c7068\",\"type\":\"ResetTool\"},{\"id\":\"32b29b21-9996-495a-80a7-652249df8d45\",\"type\":\"HelpTool\"}]},\"id\":\"42c9e26f-2be9-4a27-8321-e2963ebe2d2e\",\"type\":\"ProxyToolbar\"},{\"attributes\":{},\"id\":\"72bd8dc7-cd5c-4ac7-98b6-25a7fe001695\",\"type\":\"CategoricalTicker\"},{\"attributes\":{},\"id\":\"3f435b2e-1ea5-4aeb-8de7-e54399afe2df\",\"type\":\"CategoricalTickFormatter\"},{\"attributes\":{\"fill_color\":{\"value\":\"#1f77b4\"},\"line_color\":{\"value\":\"#1f77b4\"},\"top\":{\"field\":\"flux\"},\"width\":{\"value\":0.9},\"x\":{\"field\":\"band\"}},\"id\":\"cb125f30-27f1-459b-9b23-201fee151077\",\"type\":\"VBar\"},{\"attributes\":{\"callback\":null},\"id\":\"3c2bbf4f-c7d3-4859-ba38-4c3d6981787f\",\"type\":\"DataRange1d\"},{\"attributes\":{\"below\":[{\"id\":\"2cc92e50-3d23-419a-bc80-49350f37249d\",\"type\":\"CategoricalAxis\"}],\"left\":[{\"id\":\"29d47399-99b8-401c-84d7-785dbdda94a3\",\"type\":\"LinearAxis\"}],\"plot_height\":300,\"plot_width\":300,\"renderers\":[{\"id\":\"2cc92e50-3d23-419a-bc80-49350f37249d\",\"type\":\"CategoricalAxis\"},{\"id\":\"9c02d46d-31e2-4625-8b65-99da3a15a83d\",\"type\":\"Grid\"},{\"id\":\"29d47399-99b8-401c-84d7-785dbdda94a3\",\"type\":\"LinearAxis\"},{\"id\":\"a753e3cc-b268-4285-93af-1e5cb4024c5c\",\"type\":\"Grid\"},{\"id\":\"7c3c867f-6748-4264-ace4-868daa565317\",\"type\":\"BoxAnnotation\"},{\"id\":\"b4d0ce8f-0903-4ed9-9e88-ca2f7ff6372b\",\"type\":\"GlyphRenderer\"}],\"title\":{\"id\":\"2d77fae8-e9cc-4419-aebf-c043eb410ef6\",\"type\":\"Title\"},\"toolbar\":{\"id\":\"9ba381ee-08d3-4dca-a270-d2494fab65a1\",\"type\":\"Toolbar\"},\"toolbar_location\":null,\"x_range\":{\"id\":\"27578591-3095-45ce-a319-1bf502b7ab83\",\"type\":\"FactorRange\"},\"x_scale\":{\"id\":\"211a7dff-4b3f-465d-9059-105ab2e4d429\",\"type\":\"CategoricalScale\"},\"y_range\":{\"id\":\"8e5de636-0bfb-46b6-8644-a1b617f0dbc0\",\"type\":\"DataRange1d\"},\"y_scale\":{\"id\":\"84bcc71f-e33b-4334-a342-22bb6de6e2f9\",\"type\":\"LinearScale\"}},\"id\":\"c64d8ab8-e188-4ea2-af34-fa769493a9c4\",\"subtype\":\"Figure\",\"type\":\"Plot\"},{\"attributes\":{\"active_drag\":\"auto\",\"active_inspect\":\"auto\",\"active_scroll\":\"auto\",\"active_tap\":\"auto\",\"tools\":[{\"id\":\"28cb0a2a-b133-4fe8-a50e-9c0969cb7012\",\"type\":\"PanTool\"},{\"id\":\"0bc6b884-a27c-49f5-a2a4-b32fb0132f47\",\"type\":\"WheelZoomTool\"},{\"id\":\"81d86ff6-0ee6-4e47-be82-4f0ffb5f62ce\",\"type\":\"BoxZoomTool\"},{\"id\":\"1f11ddfb-67c1-45a1-a18e-3811fa8dd94b\",\"type\":\"SaveTool\"},{\"id\":\"a8dcc60b-a218-49f3-a8f6-092d1f668f9b\",\"type\":\"ResetTool\"},{\"id\":\"b90eed98-16aa-4f33-b618-dfec73434b3a\",\"type\":\"HelpTool\"}]},\"id\":\"4b5657f8-164d-4c50-8d06-6cefc0c7eb71\",\"type\":\"Toolbar\"},{\"attributes\":{\"data_source\":{\"id\":\"f4269a56-9ccd-4bc9-ad6e-582aa224df0c\",\"type\":\"ColumnDataSource\"},\"glyph\":{\"id\":\"cb125f30-27f1-459b-9b23-201fee151077\",\"type\":\"VBar\"},\"hover_glyph\":null,\"muted_glyph\":null,\"nonselection_glyph\":{\"id\":\"b3fee4b7-6d32-4a0d-a8b8-ba57632f4c48\",\"type\":\"VBar\"},\"selection_glyph\":null,\"view\":{\"id\":\"d0de646e-437c-4b62-90a3-a146a87e7c23\",\"type\":\"CDSView\"}},\"id\":\"40095fbb-f36d-4416-905e-3180ded7a08f\",\"type\":\"GlyphRenderer\"},{\"attributes\":{\"axis_label\":\"spectral band\",\"formatter\":{\"id\":\"1078085c-4f36-4c60-9c7c-b2bd872d299d\",\"type\":\"CategoricalTickFormatter\"},\"plot\":{\"id\":\"967ce2e1-3fc4-482e-a132-49507245d06c\",\"subtype\":\"Figure\",\"type\":\"Plot\"},\"ticker\":{\"id\":\"dfda572d-68ad-4bf2-a471-46f0052c3418\",\"type\":\"CategoricalTicker\"}},\"id\":\"0787c2d0-c321-415d-84e8-fc3cda9a14d8\",\"type\":\"CategoricalAxis\"},{\"attributes\":{},\"id\":\"b2a688c4-537e-42f9-b47c-61a019508beb\",\"type\":\"CategoricalTickFormatter\"},{\"attributes\":{},\"id\":\"28cb0a2a-b133-4fe8-a50e-9c0969cb7012\",\"type\":\"PanTool\"},{\"attributes\":{},\"id\":\"1078085c-4f36-4c60-9c7c-b2bd872d299d\",\"type\":\"CategoricalTickFormatter\"},{\"attributes\":{\"callback\":null,\"factors\":[\"1\",\"2\",\"3\",\"4\",\"5\",\"6\",\"7\",\"8\",\"9\",\"10\",\"11\"]},\"id\":\"e9a88db3-719a-43f2-a71b-a12fc8804111\",\"type\":\"FactorRange\"},{\"attributes\":{\"bottom_units\":\"screen\",\"fill_alpha\":{\"value\":0.5},\"fill_color\":{\"value\":\"lightgrey\"},\"left_units\":\"screen\",\"level\":\"overlay\",\"line_alpha\":{\"value\":1.0},\"line_color\":{\"value\":\"black\"},\"line_dash\":[4,4],\"line_width\":{\"value\":2},\"plot\":null,\"render_mode\":\"css\",\"right_units\":\"screen\",\"top_units\":\"screen\"},\"id\":\"e5f6d0f5-07f3-491b-8101-a162750f57fb\",\"type\":\"BoxAnnotation\"},{\"attributes\":{},\"id\":\"409c8d5b-d93e-4c83-92e1-2c40a3ac812b\",\"type\":\"Selection\"},{\"attributes\":{\"toolbar\":{\"id\":\"42c9e26f-2be9-4a27-8321-e2963ebe2d2e\",\"type\":\"ProxyToolbar\"},\"toolbar_location\":\"above\"},\"id\":\"3f1344b7-e771-4b5f-b289-206b0686cd7e\",\"type\":\"ToolbarBox\"},{\"attributes\":{\"source\":{\"id\":\"f4269a56-9ccd-4bc9-ad6e-582aa224df0c\",\"type\":\"ColumnDataSource\"}},\"id\":\"d0de646e-437c-4b62-90a3-a146a87e7c23\",\"type\":\"CDSView\"},{\"attributes\":{},\"id\":\"5f4e0c22-a950-4fa9-baf5-7d32843c7068\",\"type\":\"ResetTool\"},{\"attributes\":{},\"id\":\"8335b3ac-49da-43c5-b0bc-ea1989d58964\",\"type\":\"LinearScale\"},{\"attributes\":{\"callback\":null,\"factors\":[\"1\",\"2\",\"3\",\"4\",\"5\",\"6\",\"7\",\"8\",\"9\",\"10\",\"11\"]},\"id\":\"68d71f2e-9e29-45f4-88ef-724a0e51f206\",\"type\":\"FactorRange\"},{\"attributes\":{\"children\":[{\"id\":\"3f1344b7-e771-4b5f-b289-206b0686cd7e\",\"type\":\"ToolbarBox\"},{\"id\":\"11f46b35-f402-43bd-becf-800eccfa68da\",\"type\":\"Column\"}]},\"id\":\"0725d62a-707a-416e-897a-c5d33d00e568\",\"type\":\"Column\"},{\"attributes\":{},\"id\":\"1f11ddfb-67c1-45a1-a18e-3811fa8dd94b\",\"type\":\"SaveTool\"},{\"attributes\":{},\"id\":\"a8dcc60b-a218-49f3-a8f6-092d1f668f9b\",\"type\":\"ResetTool\"},{\"attributes\":{\"source\":{\"id\":\"0df24d4d-757f-4031-b7a9-68e6940bca8a\",\"type\":\"ColumnDataSource\"}},\"id\":\"c28b0a61-517b-47d9-ad1e-9676e9a234fb\",\"type\":\"CDSView\"}],\"root_ids\":[\"0725d62a-707a-416e-897a-c5d33d00e568\"]},\"title\":\"Bokeh Application\",\"version\":\"0.12.16\"}};\n",
       "  var render_items = [{\"docid\":\"2a7f201a-e630-4e15-bffa-b5a19dcaf27a\",\"elementid\":\"494b7843-0003-4936-9bdf-b355314acca6\",\"modelid\":\"0725d62a-707a-416e-897a-c5d33d00e568\"}];\n",
       "  root.Bokeh.embed.embed_items_notebook(docs_json, render_items);\n",
       "\n",
       "  }\n",
       "  if (root.Bokeh !== undefined) {\n",
       "    embed_document(root);\n",
       "  } else {\n",
       "    var attempts = 0;\n",
       "    var timer = setInterval(function(root) {\n",
       "      if (root.Bokeh !== undefined) {\n",
       "        embed_document(root);\n",
       "        clearInterval(timer);\n",
       "      }\n",
       "      attempts++;\n",
       "      if (attempts > 100) {\n",
       "        console.log(\"Bokeh: ERROR: Unable to run BokehJS code because BokehJS library is missing\")\n",
       "        clearInterval(timer);\n",
       "      }\n",
       "    }, 10, root)\n",
       "  }\n",
       "})(window);"
      ],
      "application/vnd.bokehjs_exec.v0+json": ""
     },
     "metadata": {
      "application/vnd.bokehjs_exec.v0+json": {
       "id": "0725d62a-707a-416e-897a-c5d33d00e568"
      }
     },
     "output_type": "display_data"
    },
    {
     "data": {
      "text/markdown": [
       "*FIGURE.* Difference between CLIRAD and CRD in TOA, SFC and net atmosphere flux, in each spectral band."
      ],
      "text/plain": [
       "<IPython.core.display.Markdown object>"
      ]
     },
     "metadata": {},
     "output_type": "display_data"
    },
    {
     "data": {
      "text/html": [
       "<div>\n",
       "<style scoped>\n",
       "    .dataframe tbody tr th:only-of-type {\n",
       "        vertical-align: middle;\n",
       "    }\n",
       "\n",
       "    .dataframe tbody tr th {\n",
       "        vertical-align: top;\n",
       "    }\n",
       "\n",
       "    .dataframe thead th {\n",
       "        text-align: right;\n",
       "    }\n",
       "</style>\n",
       "<table border=\"1\" class=\"dataframe\">\n",
       "  <thead>\n",
       "    <tr style=\"text-align: right;\">\n",
       "      <th></th>\n",
       "      <th>OLR flux</th>\n",
       "      <th>SFC flux</th>\n",
       "      <th>ATM heating</th>\n",
       "    </tr>\n",
       "    <tr>\n",
       "      <th>Summed over bands</th>\n",
       "      <th></th>\n",
       "      <th></th>\n",
       "      <th></th>\n",
       "    </tr>\n",
       "  </thead>\n",
       "  <tbody>\n",
       "    <tr>\n",
       "      <th>CLIRAD - CRD</th>\n",
       "      <td>0.84</td>\n",
       "      <td>-0.44</td>\n",
       "      <td>1.27</td>\n",
       "    </tr>\n",
       "    <tr>\n",
       "      <th>CRD</th>\n",
       "      <td>-201.06</td>\n",
       "      <td>166.03</td>\n",
       "      <td>-119.67</td>\n",
       "    </tr>\n",
       "  </tbody>\n",
       "</table>\n",
       "</div>"
      ],
      "text/plain": [
       "                   OLR flux  SFC flux  ATM heating\n",
       "Summed over bands                                 \n",
       "CLIRAD - CRD           0.84     -0.44         1.27\n",
       "CRD                 -201.06    166.03      -119.67"
      ]
     },
     "metadata": {},
     "output_type": "display_data"
    },
    {
     "data": {
      "text/markdown": [
       "*TABLE.* Difference between CLIRAD and CRD in TOA, SFC and net atmosphere flux, over all spectral bands. CRD's TOA, SFC and net atmosphere flux, over all spectral bands."
      ],
      "text/plain": [
       "<IPython.core.display.Markdown object>"
      ]
     },
     "metadata": {},
     "output_type": "display_data"
    },
    {
     "data": {
      "text/html": [
       "<a id=\"Cooling_rates._trp.\"></a>"
      ],
      "text/plain": [
       "<IPython.core.display.HTML object>"
      ]
     },
     "metadata": {},
     "output_type": "display_data"
    },
    {
     "data": {
      "text/markdown": [
       "# Cooling rates. trp."
      ],
      "text/plain": [
       "<IPython.core.display.Markdown object>"
      ]
     },
     "metadata": {},
     "output_type": "display_data"
    },
    {
     "data": {
      "text/html": [
       "\n",
       "<div class=\"bk-root\">\n",
       "    <div class=\"bk-plotdiv\" id=\"c466bf05-5aa3-45bb-9821-6a3f4de76773\"></div>\n",
       "</div>"
      ]
     },
     "metadata": {},
     "output_type": "display_data"
    },
    {
     "data": {
      "application/javascript": [
       "(function(root) {\n",
       "  function embed_document(root) {\n",
       "    \n",
       "  var docs_json = {\"88631a97-a0e4-42d8-bffd-51e55bc76dbe\":{\"roots\":{\"references\":[{\"attributes\":{\"data_source\":{\"id\":\"6de5ad9d-01aa-4c5f-a7f9-a6ac0a2fe01c\",\"type\":\"ColumnDataSource\"},\"glyph\":{\"id\":\"e124998c-d9ad-42f2-a8f9-5d16cec11059\",\"type\":\"Line\"},\"hover_glyph\":null,\"muted_glyph\":null,\"nonselection_glyph\":{\"id\":\"3172ff1d-4975-42c1-be0e-bf97553b5376\",\"type\":\"Line\"},\"selection_glyph\":null,\"view\":{\"id\":\"5b04ddbb-e8e6-46fe-8eed-06955a8d71f6\",\"type\":\"CDSView\"}},\"id\":\"6030dc4f-3339-4b1d-b1aa-97044eaed261\",\"type\":\"GlyphRenderer\"},{\"attributes\":{\"above\":[{\"id\":\"6fb3dd8d-e11f-4ed0-83d1-a283df37589f\",\"type\":\"Legend\"}],\"below\":[{\"id\":\"04ccd0ea-eb97-48c1-bd99-0e9174dd9d7e\",\"type\":\"LinearAxis\"}],\"left\":[{\"id\":\"cdccc193-ec26-40b8-b8b9-0eb58cc575bc\",\"type\":\"LinearAxis\"}],\"plot_width\":300,\"renderers\":[{\"id\":\"04ccd0ea-eb97-48c1-bd99-0e9174dd9d7e\",\"type\":\"LinearAxis\"},{\"id\":\"49394b67-e911-406e-bcb4-f7390ee4a0e2\",\"type\":\"Grid\"},{\"id\":\"cdccc193-ec26-40b8-b8b9-0eb58cc575bc\",\"type\":\"LinearAxis\"},{\"id\":\"0d89a03e-98fc-4c1b-bf19-ba916ca82fca\",\"type\":\"Grid\"},{\"id\":\"a20ac7d0-2cd4-400c-89bd-38bc61c5c15f\",\"type\":\"BoxAnnotation\"},{\"id\":\"bd031510-a425-4f6c-ba55-85e7503e409e\",\"type\":\"GlyphRenderer\"},{\"id\":\"ed001dc0-7131-4fa5-8d5e-f4231fe70dc3\",\"type\":\"GlyphRenderer\"},{\"id\":\"6947a1a7-84da-4eb1-932c-4e9075259406\",\"type\":\"GlyphRenderer\"},{\"id\":\"6fb3dd8d-e11f-4ed0-83d1-a283df37589f\",\"type\":\"Legend\"}],\"title\":{\"id\":\"4a4f0c79-8e9f-442d-addc-96ee923ee66b\",\"type\":\"Title\"},\"toolbar\":{\"id\":\"7909fe87-41d4-44a2-b37a-9da53d2c4192\",\"type\":\"Toolbar\"},\"toolbar_location\":null,\"x_range\":{\"id\":\"d6c78d3b-4876-4dbd-94a1-63f3b642565f\",\"type\":\"Range1d\"},\"x_scale\":{\"id\":\"090c8ece-9d70-4296-8bdb-4bbf89c82f4b\",\"type\":\"LinearScale\"},\"y_range\":{\"id\":\"e438e291-b498-4816-b792-76e90838767c\",\"type\":\"Range1d\"},\"y_scale\":{\"id\":\"0790bf0f-07e3-4c43-9d98-1281b959f989\",\"type\":\"LinearScale\"}},\"id\":\"ec61583a-d650-4d4e-ae96-6ad31dd49f6c\",\"subtype\":\"Figure\",\"type\":\"Plot\"},{\"attributes\":{\"num_minor_ticks\":10},\"id\":\"ec39ec3a-dabd-4909-95c6-6d3e12f9b5eb\",\"type\":\"LogTicker\"},{\"attributes\":{},\"id\":\"95ed69d5-ac71-4a66-9f18-aa5f3c0a0249\",\"type\":\"LinearScale\"},{\"attributes\":{\"data_source\":{\"id\":\"9553d653-dbe3-42d0-9278-00fe81e40567\",\"type\":\"ColumnDataSource\"},\"glyph\":{\"id\":\"506bc83b-71cd-47ad-af5b-2c6e0dadcb5a\",\"type\":\"Circle\"},\"hover_glyph\":null,\"muted_glyph\":null,\"nonselection_glyph\":{\"id\":\"e0791b49-b35c-4532-b59f-c32194d9c25e\",\"type\":\"Circle\"},\"selection_glyph\":null,\"view\":{\"id\":\"8afd55f9-60a8-4721-a342-c76d5fdf306e\",\"type\":\"CDSView\"}},\"id\":\"ed001dc0-7131-4fa5-8d5e-f4231fe70dc3\",\"type\":\"GlyphRenderer\"},{\"attributes\":{\"items\":[{\"id\":\"306428ca-fcb0-4947-a4f2-33a7a8da0638\",\"type\":\"LegendItem\"},{\"id\":\"1b5806f8-cfc6-434f-b8c6-a560f35322a6\",\"type\":\"LegendItem\"}],\"label_text_font_size\":{\"value\":\"8pt\"},\"location\":\"top_center\",\"orientation\":\"horizontal\",\"plot\":{\"id\":\"ec61583a-d650-4d4e-ae96-6ad31dd49f6c\",\"subtype\":\"Figure\",\"type\":\"Plot\"}},\"id\":\"6fb3dd8d-e11f-4ed0-83d1-a283df37589f\",\"type\":\"Legend\"},{\"attributes\":{},\"id\":\"749081bc-0e9e-4674-a1b2-90a4c4c45ab9\",\"type\":\"LogScale\"},{\"attributes\":{\"items\":[{\"id\":\"59ec1a02-0693-47fb-99d2-de248a5dafbb\",\"type\":\"LegendItem\"},{\"id\":\"4e667a3e-3f86-4aca-b450-535c9ec59e14\",\"type\":\"LegendItem\"}],\"label_text_font_size\":{\"value\":\"8pt\"},\"location\":\"top_center\",\"orientation\":\"horizontal\",\"plot\":{\"id\":\"039a5493-54ae-4b87-b90a-10a3b35cdbc7\",\"subtype\":\"Figure\",\"type\":\"Plot\"}},\"id\":\"f9fe947f-1b3f-4a3b-bbbc-5560a7560e69\",\"type\":\"Legend\"},{\"attributes\":{\"axis_label\":\"pressure [mb]\",\"formatter\":{\"id\":\"3553845c-2efa-4591-aee7-c13d7c53d71e\",\"type\":\"LogTickFormatter\"},\"plot\":{\"id\":\"039a5493-54ae-4b87-b90a-10a3b35cdbc7\",\"subtype\":\"Figure\",\"type\":\"Plot\"},\"ticker\":{\"id\":\"ec39ec3a-dabd-4909-95c6-6d3e12f9b5eb\",\"type\":\"LogTicker\"}},\"id\":\"a5a0858a-5a13-46c3-87a0-ed7e052419e5\",\"type\":\"LogAxis\"},{\"attributes\":{},\"id\":\"0790bf0f-07e3-4c43-9d98-1281b959f989\",\"type\":\"LinearScale\"},{\"attributes\":{},\"id\":\"23eb59a5-adc8-4a5b-b5f8-e9b19d07f367\",\"type\":\"SaveTool\"},{\"attributes\":{\"dimension\":1,\"plot\":{\"id\":\"039a5493-54ae-4b87-b90a-10a3b35cdbc7\",\"subtype\":\"Figure\",\"type\":\"Plot\"},\"ticker\":{\"id\":\"ec39ec3a-dabd-4909-95c6-6d3e12f9b5eb\",\"type\":\"LogTicker\"}},\"id\":\"9187c5d7-c433-49ca-8bc1-114e84f01e67\",\"type\":\"Grid\"},{\"attributes\":{\"axis_label\":\"cooling rate [K/day]\",\"formatter\":{\"id\":\"bd3635d4-426b-4af3-9d20-a5253c3cd33b\",\"type\":\"BasicTickFormatter\"},\"plot\":{\"id\":\"039a5493-54ae-4b87-b90a-10a3b35cdbc7\",\"subtype\":\"Figure\",\"type\":\"Plot\"},\"ticker\":{\"id\":\"1c39d677-93d7-4d53-9e23-49ba57e2a5d0\",\"type\":\"BasicTicker\"}},\"id\":\"a11268ed-3452-4731-8e6f-75652ced2a30\",\"type\":\"LinearAxis\"},{\"attributes\":{\"line_alpha\":0.6,\"line_color\":\"#e41a1c\",\"line_dash\":[6],\"line_width\":5,\"x\":{\"field\":\"x\"},\"y\":{\"field\":\"y\"}},\"id\":\"e124998c-d9ad-42f2-a8f9-5d16cec11059\",\"type\":\"Line\"},{\"attributes\":{},\"id\":\"1c39d677-93d7-4d53-9e23-49ba57e2a5d0\",\"type\":\"BasicTicker\"},{\"attributes\":{\"label\":{\"value\":\"CLIRAD\"},\"renderers\":[{\"id\":\"bd031510-a425-4f6c-ba55-85e7503e409e\",\"type\":\"GlyphRenderer\"}]},\"id\":\"306428ca-fcb0-4947-a4f2-33a7a8da0638\",\"type\":\"LegendItem\"},{\"attributes\":{},\"id\":\"3dcd8e3c-9827-41c1-879b-3f3850870d63\",\"type\":\"BasicTicker\"},{\"attributes\":{\"callback\":null,\"end\":0.01,\"start\":1020},\"id\":\"dae64235-6a81-4dd6-aecb-1f0d90d15d65\",\"type\":\"Range1d\"},{\"attributes\":{\"axis_label\":\"cooling rate [K/day]\",\"formatter\":{\"id\":\"7ba410e0-cb53-4250-be43-2c97c7787d7f\",\"type\":\"BasicTickFormatter\"},\"plot\":{\"id\":\"ec61583a-d650-4d4e-ae96-6ad31dd49f6c\",\"subtype\":\"Figure\",\"type\":\"Plot\"},\"ticker\":{\"id\":\"3dcd8e3c-9827-41c1-879b-3f3850870d63\",\"type\":\"BasicTicker\"}},\"id\":\"04ccd0ea-eb97-48c1-bd99-0e9174dd9d7e\",\"type\":\"LinearAxis\"},{\"attributes\":{},\"id\":\"425c24b6-4e44-43ad-867d-991103b315e9\",\"type\":\"ResetTool\"},{\"attributes\":{},\"id\":\"090c8ece-9d70-4296-8bdb-4bbf89c82f4b\",\"type\":\"LinearScale\"},{\"attributes\":{\"line_alpha\":0.6,\"line_color\":\"#e41a1c\",\"line_dash\":[6],\"line_width\":5,\"x\":{\"field\":\"x\"},\"y\":{\"field\":\"y\"}},\"id\":\"13c347a6-a1a6-46cd-8c3a-0afc9175b954\",\"type\":\"Line\"},{\"attributes\":{\"callback\":null,\"end\":2.3923471771224505,\"start\":-0.50611196022745},\"id\":\"d6c78d3b-4876-4dbd-94a1-63f3b642565f\",\"type\":\"Range1d\"},{\"attributes\":{\"plot\":{\"id\":\"039a5493-54ae-4b87-b90a-10a3b35cdbc7\",\"subtype\":\"Figure\",\"type\":\"Plot\"},\"ticker\":{\"id\":\"1c39d677-93d7-4d53-9e23-49ba57e2a5d0\",\"type\":\"BasicTicker\"}},\"id\":\"0ce9ce75-442e-4d25-8e53-596c0ffcf31c\",\"type\":\"Grid\"},{\"attributes\":{\"label\":{\"value\":\"CRD\"},\"renderers\":[{\"id\":\"ed001dc0-7131-4fa5-8d5e-f4231fe70dc3\",\"type\":\"GlyphRenderer\"},{\"id\":\"6947a1a7-84da-4eb1-932c-4e9075259406\",\"type\":\"GlyphRenderer\"}]},\"id\":\"1b5806f8-cfc6-434f-b8c6-a560f35322a6\",\"type\":\"LegendItem\"},{\"attributes\":{},\"id\":\"0553b765-6a5d-440f-bea1-d67c686f02f0\",\"type\":\"WheelZoomTool\"},{\"attributes\":{\"overlay\":{\"id\":\"666a8503-15c0-43c3-8837-429730ff1e70\",\"type\":\"BoxAnnotation\"}},\"id\":\"2664aa48-808d-4876-b397-b74711828eb1\",\"type\":\"BoxZoomTool\"},{\"attributes\":{\"bottom_units\":\"screen\",\"fill_alpha\":{\"value\":0.5},\"fill_color\":{\"value\":\"lightgrey\"},\"left_units\":\"screen\",\"level\":\"overlay\",\"line_alpha\":{\"value\":1.0},\"line_color\":{\"value\":\"black\"},\"line_dash\":[4,4],\"line_width\":{\"value\":2},\"plot\":null,\"render_mode\":\"css\",\"right_units\":\"screen\",\"top_units\":\"screen\"},\"id\":\"666a8503-15c0-43c3-8837-429730ff1e70\",\"type\":\"BoxAnnotation\"},{\"attributes\":{\"active_drag\":\"auto\",\"active_inspect\":\"auto\",\"active_scroll\":\"auto\",\"active_tap\":\"auto\",\"tools\":[{\"id\":\"50a8adfd-11b4-4892-a77d-1150ea7eb579\",\"type\":\"PanTool\"},{\"id\":\"38e250c6-dc3c-49d3-b074-542a8c089090\",\"type\":\"WheelZoomTool\"},{\"id\":\"ee56c18f-9d2d-4930-a13b-36666cf9b73b\",\"type\":\"BoxZoomTool\"},{\"id\":\"a9e450b5-bfbf-4f31-bbc7-56fab15ea083\",\"type\":\"SaveTool\"},{\"id\":\"bdd538fa-8b60-4044-8116-1968096a3325\",\"type\":\"ResetTool\"},{\"id\":\"dc95116f-9b15-458d-9250-00d09efcb6f4\",\"type\":\"HelpTool\"}]},\"id\":\"7909fe87-41d4-44a2-b37a-9da53d2c4192\",\"type\":\"Toolbar\"},{\"attributes\":{},\"id\":\"a6536785-96d1-43cb-886e-01f563a5a7c8\",\"type\":\"HelpTool\"},{\"attributes\":{\"plot\":{\"id\":\"ec61583a-d650-4d4e-ae96-6ad31dd49f6c\",\"subtype\":\"Figure\",\"type\":\"Plot\"},\"ticker\":{\"id\":\"3dcd8e3c-9827-41c1-879b-3f3850870d63\",\"type\":\"BasicTicker\"}},\"id\":\"49394b67-e911-406e-bcb4-f7390ee4a0e2\",\"type\":\"Grid\"},{\"attributes\":{},\"id\":\"b0c1c1cc-f8ce-4630-995a-de205ac3045e\",\"type\":\"PanTool\"},{\"attributes\":{},\"id\":\"a443c171-da37-43a3-b2b1-0a361b33ba7b\",\"type\":\"Selection\"},{\"attributes\":{\"tools\":[{\"id\":\"50a8adfd-11b4-4892-a77d-1150ea7eb579\",\"type\":\"PanTool\"},{\"id\":\"38e250c6-dc3c-49d3-b074-542a8c089090\",\"type\":\"WheelZoomTool\"},{\"id\":\"ee56c18f-9d2d-4930-a13b-36666cf9b73b\",\"type\":\"BoxZoomTool\"},{\"id\":\"a9e450b5-bfbf-4f31-bbc7-56fab15ea083\",\"type\":\"SaveTool\"},{\"id\":\"bdd538fa-8b60-4044-8116-1968096a3325\",\"type\":\"ResetTool\"},{\"id\":\"dc95116f-9b15-458d-9250-00d09efcb6f4\",\"type\":\"HelpTool\"},{\"id\":\"b0c1c1cc-f8ce-4630-995a-de205ac3045e\",\"type\":\"PanTool\"},{\"id\":\"0553b765-6a5d-440f-bea1-d67c686f02f0\",\"type\":\"WheelZoomTool\"},{\"id\":\"2664aa48-808d-4876-b397-b74711828eb1\",\"type\":\"BoxZoomTool\"},{\"id\":\"23eb59a5-adc8-4a5b-b5f8-e9b19d07f367\",\"type\":\"SaveTool\"},{\"id\":\"425c24b6-4e44-43ad-867d-991103b315e9\",\"type\":\"ResetTool\"},{\"id\":\"a6536785-96d1-43cb-886e-01f563a5a7c8\",\"type\":\"HelpTool\"},{\"id\":\"3d3e8073-2d5b-4298-8d41-b6f415b1e1c7\",\"type\":\"PanTool\"},{\"id\":\"89fe43f1-62e6-4d60-8454-8cac693004ae\",\"type\":\"WheelZoomTool\"},{\"id\":\"222ee038-8179-4996-a416-db724979088e\",\"type\":\"BoxZoomTool\"},{\"id\":\"c76d2f59-1838-4d1a-aefc-6d8bab901269\",\"type\":\"SaveTool\"},{\"id\":\"3a75afd9-bd34-4f08-993a-5942ec78e0af\",\"type\":\"ResetTool\"},{\"id\":\"12532914-059d-454a-82a7-d467cbf7224c\",\"type\":\"HelpTool\"}]},\"id\":\"42bf8739-f951-45e8-bd8f-412be594b726\",\"type\":\"ProxyToolbar\"},{\"attributes\":{\"children\":[{\"id\":\"e38e444f-befb-44ce-9597-72883648f35d\",\"type\":\"ToolbarBox\"},{\"id\":\"4a975a82-f0a1-4046-ad98-1e2a352e0750\",\"type\":\"Column\"}]},\"id\":\"b4b8c214-8330-428c-adc2-4b0e5fef1f8b\",\"type\":\"Column\"},{\"attributes\":{},\"id\":\"dff523c0-682a-4303-92e2-885a23696549\",\"type\":\"UnionRenderers\"},{\"attributes\":{\"line_color\":\"#4daf4a\",\"line_width\":1.5,\"x\":{\"field\":\"x\"},\"y\":{\"field\":\"y\"}},\"id\":\"9943df8d-18ec-4a7c-bfad-b5f79bdd87ed\",\"type\":\"Line\"},{\"attributes\":{},\"id\":\"1ebbfd41-ec0d-4acf-84d1-a5e6808b72ee\",\"type\":\"UnionRenderers\"},{\"attributes\":{\"line_alpha\":0.1,\"line_color\":\"#1f77b4\",\"line_dash\":[6],\"line_width\":5,\"x\":{\"field\":\"x\"},\"y\":{\"field\":\"y\"}},\"id\":\"3172ff1d-4975-42c1-be0e-bf97553b5376\",\"type\":\"Line\"},{\"attributes\":{\"ticker\":null},\"id\":\"606b57aa-cc93-4a17-b16d-87f2ac91966d\",\"type\":\"LogTickFormatter\"},{\"attributes\":{\"plot\":null,\"text\":\"\"},\"id\":\"62b57ae9-3eaa-4168-b07e-fb48ce381446\",\"type\":\"Title\"},{\"attributes\":{},\"id\":\"bd3635d4-426b-4af3-9d20-a5253c3cd33b\",\"type\":\"BasicTickFormatter\"},{\"attributes\":{\"above\":[{\"id\":\"f9fe947f-1b3f-4a3b-bbbc-5560a7560e69\",\"type\":\"Legend\"}],\"below\":[{\"id\":\"a11268ed-3452-4731-8e6f-75652ced2a30\",\"type\":\"LinearAxis\"}],\"left\":[{\"id\":\"a5a0858a-5a13-46c3-87a0-ed7e052419e5\",\"type\":\"LogAxis\"}],\"plot_width\":300,\"renderers\":[{\"id\":\"a11268ed-3452-4731-8e6f-75652ced2a30\",\"type\":\"LinearAxis\"},{\"id\":\"0ce9ce75-442e-4d25-8e53-596c0ffcf31c\",\"type\":\"Grid\"},{\"id\":\"a5a0858a-5a13-46c3-87a0-ed7e052419e5\",\"type\":\"LogAxis\"},{\"id\":\"9187c5d7-c433-49ca-8bc1-114e84f01e67\",\"type\":\"Grid\"},{\"id\":\"666a8503-15c0-43c3-8837-429730ff1e70\",\"type\":\"BoxAnnotation\"},{\"id\":\"6030dc4f-3339-4b1d-b1aa-97044eaed261\",\"type\":\"GlyphRenderer\"},{\"id\":\"ef69a928-a523-4bf7-b969-fbd3cc2a4856\",\"type\":\"GlyphRenderer\"},{\"id\":\"7ff4ba86-fe8e-461b-a261-ea462acb5873\",\"type\":\"GlyphRenderer\"},{\"id\":\"f9fe947f-1b3f-4a3b-bbbc-5560a7560e69\",\"type\":\"Legend\"}],\"title\":{\"id\":\"62b57ae9-3eaa-4168-b07e-fb48ce381446\",\"type\":\"Title\"},\"toolbar\":{\"id\":\"e8807b18-05cd-4d1e-8a8c-2ff059c770ff\",\"type\":\"Toolbar\"},\"toolbar_location\":null,\"x_range\":{\"id\":\"49e8cb46-c3f0-43a4-9e19-cd1a00bdba12\",\"type\":\"Range1d\"},\"x_scale\":{\"id\":\"95ed69d5-ac71-4a66-9f18-aa5f3c0a0249\",\"type\":\"LinearScale\"},\"y_range\":{\"id\":\"dae64235-6a81-4dd6-aecb-1f0d90d15d65\",\"type\":\"Range1d\"},\"y_scale\":{\"id\":\"749081bc-0e9e-4674-a1b2-90a4c4c45ab9\",\"type\":\"LogScale\"}},\"id\":\"039a5493-54ae-4b87-b90a-10a3b35cdbc7\",\"subtype\":\"Figure\",\"type\":\"Plot\"},{\"attributes\":{},\"id\":\"b4f994a2-7426-48fd-868d-cd44559b7834\",\"type\":\"Selection\"},{\"attributes\":{\"data_source\":{\"id\":\"0979690c-9349-45a9-a2c4-2533cff01490\",\"type\":\"ColumnDataSource\"},\"glyph\":{\"id\":\"9943df8d-18ec-4a7c-bfad-b5f79bdd87ed\",\"type\":\"Line\"},\"hover_glyph\":null,\"muted_glyph\":null,\"nonselection_glyph\":{\"id\":\"b8e6c26f-12de-4ddb-9f48-4c3c2d76dee6\",\"type\":\"Line\"},\"selection_glyph\":null,\"view\":{\"id\":\"2b33a827-9006-4d39-8835-8ba2ec41421c\",\"type\":\"CDSView\"}},\"id\":\"6947a1a7-84da-4eb1-932c-4e9075259406\",\"type\":\"GlyphRenderer\"},{\"attributes\":{\"ticker\":null},\"id\":\"3553845c-2efa-4591-aee7-c13d7c53d71e\",\"type\":\"LogTickFormatter\"},{\"attributes\":{},\"id\":\"223109e9-f7bb-4264-b345-3ec5e5f68faf\",\"type\":\"UnionRenderers\"},{\"attributes\":{\"source\":{\"id\":\"0979690c-9349-45a9-a2c4-2533cff01490\",\"type\":\"ColumnDataSource\"}},\"id\":\"2b33a827-9006-4d39-8835-8ba2ec41421c\",\"type\":\"CDSView\"},{\"attributes\":{\"label\":{\"value\":\"CLIRAD\"},\"renderers\":[{\"id\":\"6030dc4f-3339-4b1d-b1aa-97044eaed261\",\"type\":\"GlyphRenderer\"}]},\"id\":\"59ec1a02-0693-47fb-99d2-de248a5dafbb\",\"type\":\"LegendItem\"},{\"attributes\":{},\"id\":\"c521d5e1-9519-4b5b-8348-fc4f2ff512c4\",\"type\":\"Selection\"},{\"attributes\":{},\"id\":\"d9821300-9815-4455-87ac-e351d9134fb1\",\"type\":\"Selection\"},{\"attributes\":{},\"id\":\"1ba68692-bebf-4313-a1a0-64afaac14085\",\"type\":\"BasicTicker\"},{\"attributes\":{},\"id\":\"ccfc7c6b-f761-4d28-89a8-a31cedd890c1\",\"type\":\"BasicTickFormatter\"},{\"attributes\":{\"toolbar\":{\"id\":\"42bf8739-f951-45e8-bd8f-412be594b726\",\"type\":\"ProxyToolbar\"},\"toolbar_location\":\"above\"},\"id\":\"e38e444f-befb-44ce-9597-72883648f35d\",\"type\":\"ToolbarBox\"},{\"attributes\":{\"active_drag\":\"auto\",\"active_inspect\":\"auto\",\"active_scroll\":\"auto\",\"active_tap\":\"auto\",\"tools\":[{\"id\":\"b0c1c1cc-f8ce-4630-995a-de205ac3045e\",\"type\":\"PanTool\"},{\"id\":\"0553b765-6a5d-440f-bea1-d67c686f02f0\",\"type\":\"WheelZoomTool\"},{\"id\":\"2664aa48-808d-4876-b397-b74711828eb1\",\"type\":\"BoxZoomTool\"},{\"id\":\"23eb59a5-adc8-4a5b-b5f8-e9b19d07f367\",\"type\":\"SaveTool\"},{\"id\":\"425c24b6-4e44-43ad-867d-991103b315e9\",\"type\":\"ResetTool\"},{\"id\":\"a6536785-96d1-43cb-886e-01f563a5a7c8\",\"type\":\"HelpTool\"}]},\"id\":\"e8807b18-05cd-4d1e-8a8c-2ff059c770ff\",\"type\":\"Toolbar\"},{\"attributes\":{\"plot\":null,\"text\":\"\"},\"id\":\"2b4a2172-8a67-4f33-9a5c-9ee57223d30a\",\"type\":\"Title\"},{\"attributes\":{\"callback\":null,\"data\":{\"x\":{\"__ndarray__\":\"R/KIaN7AVEClCeJMyPNGQOvRhpxr30JAptxzhxx4PkA7SssMElA4QK6Bp3CyUDNAsVXpjES9LkBFhUV0+5coQMHYwqbbySNA6f09nM3nH0CaSd/3eYoZQDmgiAOW8BNAPYqARh3eDEBkm4vCgvr+P9D+5tWhQfY/P8DwKRnSAkBq38kb17ILQDT7IWuSsxFAUr2Rjm0FFkAinq3s9XgbQGCHwtYcqSFAG64kT303J0C7dRDneyooQD9JYrbK8yRA9S3bneHhIUAIymSuUMMcQIkHLe6VEBdAAau3cITREkA6CiNvkQIPQJU39ki7IQlAaAvwok1UA0BXLQiS4+L7P0xzDpJ2hPI/NNuPGMbJ5z91mUVYxqfSPxqwUPSxZca/G11peifD3L8QzNj5t2jTvwzOozTL360/SPJ4VI1VzD9KJ0nXEIncP8yDdlvHt+4/Et49nYLW9z++2teD4Jn+P+568eH/bwFALf5D9lmAAkCiZAicVOkCQPPT4jNKxwJAOjp3wTzBAUBSQsKNGisBQG4OmjqJwQBAJ3sZoHFuAEA5Ar0Sdi0AQGy4rw5+9f8/7W4nSrC3/z8mPr8zj4T/P4UYRHCQS/8/embVKYcF/z+5YXG+LLP+P/qb8BVUgf4/KvafTtyO/j/avAK1Ppv+PwJV9VVm2P0/JFtYlU/n/D9sN+q2fiX6Pw44e41PNPc/Opt+Z/wN9T+x3vcSW1vzP9ofvWQJlvI/8sciQQBW8j80sfkQa17yPzg5qng2r/I/Oh14WJBh8z+VZjnpctj0P6CcrSuCqQBA\",\"dtype\":\"float64\",\"shape\":[75]},\"y\":{\"__ndarray__\":\"GhExyth1ND/Sv8nbtpRIP2vylNV0PVE/aTum7souWD/At0SJ8fVgPw3Iuahxymc/MSNhhJWvcD/bTfBN02d3P2zb5nxnaoA/CD5h5MAGhz8NmeH1TyaQP+zrCsc9p5Y/LbKd76fGnz/bLW5ISEmmPww9YvTcQq8/JV2OstnstT8Er5Y7M8G+P0c+r3jqkcU/5h99k6ZBzj88bCIzFzjVP4enV8oyxN0//yH99nXg5D8qOpLLf0jtP5kqGJXUifQ/c9cS8kHP/D+/DpwzojQEQIEmwoanVwxA4lgXt9HgE0BSSZ2AJuIbQAMJih9jjiNA5q4l5INuK0AwTKYKRj0zQNv5fmq8/DpAaCJseHrtQkB/+zpwzoxKQM3MzMzMeFJAZmZmZmZqWEAAAAAAAFxeQM3MzMzMJmJAmpmZmZkfZUBmZmZmZhhoQDMzMzMzEWtAAAAAAAAKbkBmZmZmZoFwQM3MzMzM/XFAMzMzMzN6c0CamZmZmfZ0QAAAAAAAc3ZAZmZmZmbvd0DNzMzMzGt5QDMzMzMz6HpAmpmZmZlkfEAAAAAAAOF9QGZmZmZmXX9AZmZmZuZsgECamZmZGSuBQM3MzMxM6YFAAAAAAICngkAzMzMzs2WDQGZmZmbmI4RAmpmZmRnihEDNzMzMTKCFQAAAAACAXoZAMzMzM7Mch0BmZmZm5tqHQJqZmZkZmYhAzczMzExXiUAAAAAAgBWKQDMzMzOz04pAZmZmZuaRi0CamZmZGVCMQM3MzMxMDo1AAAAAAIDMjUAzMzMzs4qOQGZmZmbmSI9A\",\"dtype\":\"float64\",\"shape\":[75]}},\"selected\":{\"id\":\"b4f994a2-7426-48fd-868d-cd44559b7834\",\"type\":\"Selection\"},\"selection_policy\":{\"id\":\"1ebbfd41-ec0d-4acf-84d1-a5e6808b72ee\",\"type\":\"UnionRenderers\"}},\"id\":\"0979690c-9349-45a9-a2c4-2533cff01490\",\"type\":\"ColumnDataSource\"},{\"attributes\":{\"above\":[{\"id\":\"25293fac-99ae-4e3f-b01e-d018ac5ec998\",\"type\":\"Legend\"}],\"below\":[{\"id\":\"4a726186-ee7b-41e4-a231-525eeca454e6\",\"type\":\"LinearAxis\"}],\"left\":[{\"id\":\"eb07df33-1686-46a9-9619-368fb9a2372e\",\"type\":\"LogAxis\"}],\"plot_width\":300,\"renderers\":[{\"id\":\"4a726186-ee7b-41e4-a231-525eeca454e6\",\"type\":\"LinearAxis\"},{\"id\":\"9ab7ed4c-b34a-4146-bf2f-3d5d26bc0739\",\"type\":\"Grid\"},{\"id\":\"eb07df33-1686-46a9-9619-368fb9a2372e\",\"type\":\"LogAxis\"},{\"id\":\"02dd92b1-c4db-4d3c-a6a0-cd045cd9f195\",\"type\":\"Grid\"},{\"id\":\"c875ca9d-9bd8-461b-9f4e-f39ce589e16a\",\"type\":\"BoxAnnotation\"},{\"id\":\"bfad9dc5-9c49-4f88-b6cd-4a1517444d6f\",\"type\":\"GlyphRenderer\"},{\"id\":\"fb254e31-70dc-4435-830c-b9e7ad18d7ba\",\"type\":\"GlyphRenderer\"},{\"id\":\"25293fac-99ae-4e3f-b01e-d018ac5ec998\",\"type\":\"Legend\"}],\"title\":{\"id\":\"2b4a2172-8a67-4f33-9a5c-9ee57223d30a\",\"type\":\"Title\"},\"toolbar\":{\"id\":\"6f98b783-e5bd-4f3a-a820-11b71befd1c4\",\"type\":\"Toolbar\"},\"toolbar_location\":null,\"x_range\":{\"id\":\"2e4f38e0-2dd7-4274-9046-3cf1ffdecea4\",\"type\":\"Range1d\"},\"x_scale\":{\"id\":\"3e714adb-e604-4d3b-9e35-40dda4f391b0\",\"type\":\"LinearScale\"},\"y_range\":{\"id\":\"d7b091ae-1176-40cd-ba0e-5d08ad993f37\",\"type\":\"Range1d\"},\"y_scale\":{\"id\":\"9999e345-3404-4607-9e07-f9dbb95b082b\",\"type\":\"LogScale\"}},\"id\":\"0b32130c-7c4d-404f-9a06-357397a6f222\",\"subtype\":\"Figure\",\"type\":\"Plot\"},{\"attributes\":{},\"id\":\"12532914-059d-454a-82a7-d467cbf7224c\",\"type\":\"HelpTool\"},{\"attributes\":{},\"id\":\"3941578d-b837-4d33-9022-bb63098bab42\",\"type\":\"Selection\"},{\"attributes\":{\"overlay\":{\"id\":\"c875ca9d-9bd8-461b-9f4e-f39ce589e16a\",\"type\":\"BoxAnnotation\"}},\"id\":\"222ee038-8179-4996-a416-db724979088e\",\"type\":\"BoxZoomTool\"},{\"attributes\":{\"callback\":null,\"end\":12.208583274239547,\"start\":-0.60330241663455},\"id\":\"49e8cb46-c3f0-43a4-9e19-cd1a00bdba12\",\"type\":\"Range1d\"},{\"attributes\":{},\"id\":\"89fe43f1-62e6-4d60-8454-8cac693004ae\",\"type\":\"WheelZoomTool\"},{\"attributes\":{\"callback\":null,\"data\":{\"x\":{\"__ndarray__\":\"eh+s5yk9IcA/tAgfJ08FwPlkXZDRnfc/bXnIlZZWDEA+x9NjC2kNQIC1T1zgYANAIubiXAuW5D87A4TF5ibpv48iccULXvW/V80t0FxP8b+03TPX9srev9xFiXU0Z7Y/SjPNzuSG3T/QpPGK30XhP2NkLfabwdY/RMnk2qf5sT/+VKZbP2/RvxuceXMWOeG/lTKpouNP4b/6KlgVVZ3Tv1TY7gxrfbq/ZseUwVL4oL9kgCLVXMbLv7DKufbHSte/18Lhtysvu7+3BmgGWorUPwMVnIdErdU/+reGEt+XuD+6Io6PJA+KP/BnHjlzdM4/84FmIa1B1D9sWuv/gmXBP15sseAg76u/MAEWuK+Vmr9eN73VJXKjP2LxGbmX9py/z9glU1nksr8B8a5UQtmuvw2FWwXT+au/an22EJfWrr/hHeOgQcqvv+Q56uhWvbG/5P2nZ4BSqL9K9DVujoCwv6kcADhccb+/DxIx3rw8tL9AGAXMZKeuv5OSQJTCVLW/BQIDUYc/tb/1MWppzpasv42zeSqBtJ+/IYGVzj6flL+itMunpTqWv37hfR6pGp6/eNvm7rxSn7+8j5R7IeeOv265NxViW44/W8vOqw0Ypj8gTluB83KsP2ZQkBKaqKc/uBfjWQjGlz8Amh0To5MHP4AMpk0Uon2/cEhJxNmKZD9cTq4YG+KZP2zRXyQH96s/WfLyac4wsj/qrzeMsd+yP0OH+jzK8bM/yvvP8DUFtT/ELmnH7x+2P33lNzupI7o/WoDcLo4rvj9qUvTUq8e/Pw==\",\"dtype\":\"float64\",\"shape\":[74]},\"y\":{\"__ndarray__\":\"0r/J27aUSD9r8pTVdD1RP2k7pu7KLlg/wLdEifH1YD8NyLmoccpnPzEjYYSVr3A/203wTdNndz9s2+Z8Z2qAPwg+YeTABoc/DZnh9U8mkD/s6wrHPaeWPy2yne+nxp8/2y1uSEhJpj8MPWL03EKvPyVdjrLZ7LU/BK+WOzPBvj9HPq946pHFP+YffZOmQc4/PGwiMxc41T+Hp1fKMsTdP/8h/fZ14OQ/KjqSy39I7T+ZKhiV1In0P3PXEvJBz/w/vw6cM6I0BECBJsKGp1cMQOJYF7fR4BNAUkmdgCbiG0ADCYofY44jQOauJeSDbitAMEymCkY9M0Db+X5qvPw6QGgibHh67UJAf/s6cM6MSkDNzMzMzHhSQGZmZmZmalhAAAAAAABcXkDNzMzMzCZiQJqZmZmZH2VAZmZmZmYYaEAzMzMzMxFrQAAAAAAACm5AZmZmZmaBcEDNzMzMzP1xQDMzMzMzenNAmpmZmZn2dEAAAAAAAHN2QGZmZmZm73dAzczMzMxreUAzMzMzM+h6QJqZmZmZZHxAAAAAAADhfUBmZmZmZl1/QGZmZmbmbIBAmpmZmRkrgUDNzMzMTOmBQAAAAACAp4JAMzMzM7Nlg0BmZmZm5iOEQJqZmZkZ4oRAzczMzEyghUAAAAAAgF6GQDMzMzOzHIdAZmZmZubah0CamZmZGZmIQM3MzMxMV4lAAAAAAIAVikAzMzMzs9OKQGZmZmbmkYtAmpmZmRlQjEDNzMzMTA6NQAAAAACAzI1AMzMzM7OKjkBmZmZm5kiPQA==\",\"dtype\":\"float64\",\"shape\":[74]}},\"selected\":{\"id\":\"c521d5e1-9519-4b5b-8348-fc4f2ff512c4\",\"type\":\"Selection\"},\"selection_policy\":{\"id\":\"223109e9-f7bb-4264-b345-3ec5e5f68faf\",\"type\":\"UnionRenderers\"}},\"id\":\"6bec52f2-fba4-42ba-8e03-6a6b7d7393c3\",\"type\":\"ColumnDataSource\"},{\"attributes\":{},\"id\":\"3a75afd9-bd34-4f08-993a-5942ec78e0af\",\"type\":\"ResetTool\"},{\"attributes\":{\"items\":[{\"id\":\"f71263d7-e059-4934-b653-ad47bb8483a1\",\"type\":\"LegendItem\"}],\"label_text_font_size\":{\"value\":\"8pt\"},\"location\":\"top_center\",\"orientation\":\"horizontal\",\"plot\":{\"id\":\"0b32130c-7c4d-404f-9a06-357397a6f222\",\"subtype\":\"Figure\",\"type\":\"Plot\"}},\"id\":\"25293fac-99ae-4e3f-b01e-d018ac5ec998\",\"type\":\"Legend\"},{\"attributes\":{\"fill_alpha\":{\"value\":0.7},\"fill_color\":{\"value\":\"#4daf4a\"},\"line_alpha\":{\"value\":0.7},\"line_color\":{\"value\":\"#4daf4a\"},\"x\":{\"field\":\"x\"},\"y\":{\"field\":\"y\"}},\"id\":\"492bf614-f314-4cd2-b7b3-1eb3518c0cde\",\"type\":\"Circle\"},{\"attributes\":{\"line_alpha\":0.1,\"line_color\":\"#1f77b4\",\"line_width\":1.5,\"x\":{\"field\":\"x\"},\"y\":{\"field\":\"y\"}},\"id\":\"c878bc18-e985-4f37-ac27-609046cde038\",\"type\":\"Line\"},{\"attributes\":{\"children\":[{\"id\":\"ec61583a-d650-4d4e-ae96-6ad31dd49f6c\",\"subtype\":\"Figure\",\"type\":\"Plot\"},{\"id\":\"039a5493-54ae-4b87-b90a-10a3b35cdbc7\",\"subtype\":\"Figure\",\"type\":\"Plot\"},{\"id\":\"0b32130c-7c4d-404f-9a06-357397a6f222\",\"subtype\":\"Figure\",\"type\":\"Plot\"}]},\"id\":\"0a9b598b-d128-4563-bbc8-50096c6b7f1e\",\"type\":\"Row\"},{\"attributes\":{},\"id\":\"6808d13e-4be4-41c0-9f02-39e9af43bae5\",\"type\":\"Selection\"},{\"attributes\":{\"callback\":null,\"data\":{\"x\":{\"__ndarray__\":\"R/KIaN7AVEClCeJMyPNGQOvRhpxr30JAptxzhxx4PkA7SssMElA4QK6Bp3CyUDNAsVXpjES9LkBFhUV0+5coQMHYwqbbySNA6f09nM3nH0CaSd/3eYoZQDmgiAOW8BNAPYqARh3eDEBkm4vCgvr+P9D+5tWhQfY/P8DwKRnSAkBq38kb17ILQDT7IWuSsxFAUr2Rjm0FFkAinq3s9XgbQGCHwtYcqSFAG64kT303J0C7dRDneyooQD9JYrbK8yRA9S3bneHhIUAIymSuUMMcQIkHLe6VEBdAAau3cITREkA6CiNvkQIPQJU39ki7IQlAaAvwok1UA0BXLQiS4+L7P0xzDpJ2hPI/NNuPGMbJ5z91mUVYxqfSPxqwUPSxZca/G11peifD3L8QzNj5t2jTvwzOozTL360/SPJ4VI1VzD9KJ0nXEIncP8yDdlvHt+4/Et49nYLW9z++2teD4Jn+P+568eH/bwFALf5D9lmAAkCiZAicVOkCQPPT4jNKxwJAOjp3wTzBAUBSQsKNGisBQG4OmjqJwQBAJ3sZoHFuAEA5Ar0Sdi0AQGy4rw5+9f8/7W4nSrC3/z8mPr8zj4T/P4UYRHCQS/8/embVKYcF/z+5YXG+LLP+P/qb8BVUgf4/KvafTtyO/j/avAK1Ppv+PwJV9VVm2P0/JFtYlU/n/D9sN+q2fiX6Pw44e41PNPc/Opt+Z/wN9T+x3vcSW1vzP9ofvWQJlvI/8sciQQBW8j80sfkQa17yPzg5qng2r/I/Oh14WJBh8z+VZjnpctj0P6CcrSuCqQBA\",\"dtype\":\"float64\",\"shape\":[75]},\"y\":{\"__ndarray__\":\"GhExyth1ND/Sv8nbtpRIP2vylNV0PVE/aTum7souWD/At0SJ8fVgPw3Iuahxymc/MSNhhJWvcD/bTfBN02d3P2zb5nxnaoA/CD5h5MAGhz8NmeH1TyaQP+zrCsc9p5Y/LbKd76fGnz/bLW5ISEmmPww9YvTcQq8/JV2OstnstT8Er5Y7M8G+P0c+r3jqkcU/5h99k6ZBzj88bCIzFzjVP4enV8oyxN0//yH99nXg5D8qOpLLf0jtP5kqGJXUifQ/c9cS8kHP/D+/DpwzojQEQIEmwoanVwxA4lgXt9HgE0BSSZ2AJuIbQAMJih9jjiNA5q4l5INuK0AwTKYKRj0zQNv5fmq8/DpAaCJseHrtQkB/+zpwzoxKQM3MzMzMeFJAZmZmZmZqWEAAAAAAAFxeQM3MzMzMJmJAmpmZmZkfZUBmZmZmZhhoQDMzMzMzEWtAAAAAAAAKbkBmZmZmZoFwQM3MzMzM/XFAMzMzMzN6c0CamZmZmfZ0QAAAAAAAc3ZAZmZmZmbvd0DNzMzMzGt5QDMzMzMz6HpAmpmZmZlkfEAAAAAAAOF9QGZmZmZmXX9AZmZmZuZsgECamZmZGSuBQM3MzMxM6YFAAAAAAICngkAzMzMzs2WDQGZmZmbmI4RAmpmZmRnihEDNzMzMTKCFQAAAAACAXoZAMzMzM7Mch0BmZmZm5tqHQJqZmZkZmYhAzczMzExXiUAAAAAAgBWKQDMzMzOz04pAZmZmZuaRi0CamZmZGVCMQM3MzMxMDo1AAAAAAIDMjUAzMzMzs4qOQGZmZmbmSI9A\",\"dtype\":\"float64\",\"shape\":[75]}},\"selected\":{\"id\":\"3941578d-b837-4d33-9022-bb63098bab42\",\"type\":\"Selection\"},\"selection_policy\":{\"id\":\"8f611249-e649-4447-bd1a-ad03ab69396a\",\"type\":\"UnionRenderers\"}},\"id\":\"20541d6a-36ab-4a6c-bac6-fb6c0797b8d4\",\"type\":\"ColumnDataSource\"},{\"attributes\":{},\"id\":\"a2890d85-c593-4e0b-9ba2-7a436171075e\",\"type\":\"Selection\"},{\"attributes\":{\"data_source\":{\"id\":\"20541d6a-36ab-4a6c-bac6-fb6c0797b8d4\",\"type\":\"ColumnDataSource\"},\"glyph\":{\"id\":\"492bf614-f314-4cd2-b7b3-1eb3518c0cde\",\"type\":\"Circle\"},\"hover_glyph\":null,\"muted_glyph\":null,\"nonselection_glyph\":{\"id\":\"0b026b5c-a591-4d43-894a-c0e73d2ed427\",\"type\":\"Circle\"},\"selection_glyph\":null,\"view\":{\"id\":\"29823b19-f865-4b5f-95e4-1bac0274529f\",\"type\":\"CDSView\"}},\"id\":\"ef69a928-a523-4bf7-b969-fbd3cc2a4856\",\"type\":\"GlyphRenderer\"},{\"attributes\":{},\"id\":\"7ba410e0-cb53-4250-be43-2c97c7787d7f\",\"type\":\"BasicTickFormatter\"},{\"attributes\":{\"callback\":null,\"data\":{\"x\":{\"__ndarray__\":\"eh+s5yk9IcA/tAgfJ08FwPlkXZDRnfc/bXnIlZZWDEA+x9NjC2kNQIC1T1zgYANAIubiXAuW5D87A4TF5ibpv48iccULXvW/V80t0FxP8b+03TPX9srev9xFiXU0Z7Y/SjPNzuSG3T/QpPGK30XhP2NkLfabwdY/RMnk2qf5sT/+VKZbP2/RvxuceXMWOeG/lTKpouNP4b/6KlgVVZ3Tv1TY7gxrfbq/ZseUwVL4oL9kgCLVXMbLv7DKufbHSte/18Lhtysvu7+3BmgGWorUPwMVnIdErdU/+reGEt+XuD+6Io6PJA+KP/BnHjlzdM4/84FmIa1B1D9sWuv/gmXBP15sseAg76u/MAEWuK+Vmr9eN73VJXKjP2LxGbmX9py/z9glU1nksr8B8a5UQtmuvw2FWwXT+au/an22EJfWrr/hHeOgQcqvv+Q56uhWvbG/5P2nZ4BSqL9K9DVujoCwv6kcADhccb+/DxIx3rw8tL9AGAXMZKeuv5OSQJTCVLW/BQIDUYc/tb/1MWppzpasv42zeSqBtJ+/IYGVzj6flL+itMunpTqWv37hfR6pGp6/eNvm7rxSn7+8j5R7IeeOv265NxViW44/W8vOqw0Ypj8gTluB83KsP2ZQkBKaqKc/uBfjWQjGlz8Amh0To5MHP4AMpk0Uon2/cEhJxNmKZD9cTq4YG+KZP2zRXyQH96s/WfLyac4wsj/qrzeMsd+yP0OH+jzK8bM/yvvP8DUFtT/ELmnH7x+2P33lNzupI7o/WoDcLo4rvj9qUvTUq8e/Pw==\",\"dtype\":\"float64\",\"shape\":[74]},\"y\":{\"__ndarray__\":\"0r/J27aUSD9r8pTVdD1RP2k7pu7KLlg/wLdEifH1YD8NyLmoccpnPzEjYYSVr3A/203wTdNndz9s2+Z8Z2qAPwg+YeTABoc/DZnh9U8mkD/s6wrHPaeWPy2yne+nxp8/2y1uSEhJpj8MPWL03EKvPyVdjrLZ7LU/BK+WOzPBvj9HPq946pHFP+YffZOmQc4/PGwiMxc41T+Hp1fKMsTdP/8h/fZ14OQ/KjqSy39I7T+ZKhiV1In0P3PXEvJBz/w/vw6cM6I0BECBJsKGp1cMQOJYF7fR4BNAUkmdgCbiG0ADCYofY44jQOauJeSDbitAMEymCkY9M0Db+X5qvPw6QGgibHh67UJAf/s6cM6MSkDNzMzMzHhSQGZmZmZmalhAAAAAAABcXkDNzMzMzCZiQJqZmZmZH2VAZmZmZmYYaEAzMzMzMxFrQAAAAAAACm5AZmZmZmaBcEDNzMzMzP1xQDMzMzMzenNAmpmZmZn2dEAAAAAAAHN2QGZmZmZm73dAzczMzMxreUAzMzMzM+h6QJqZmZmZZHxAAAAAAADhfUBmZmZmZl1/QGZmZmbmbIBAmpmZmRkrgUDNzMzMTOmBQAAAAACAp4JAMzMzM7Nlg0BmZmZm5iOEQJqZmZkZ4oRAzczMzEyghUAAAAAAgF6GQDMzMzOzHIdAZmZmZubah0CamZmZGZmIQM3MzMxMV4lAAAAAAIAVikAzMzMzs9OKQGZmZmbmkYtAmpmZmRlQjEDNzMzMTA6NQAAAAACAzI1AMzMzM7OKjkBmZmZm5kiPQA==\",\"dtype\":\"float64\",\"shape\":[74]}},\"selected\":{\"id\":\"a443c171-da37-43a3-b2b1-0a361b33ba7b\",\"type\":\"Selection\"},\"selection_policy\":{\"id\":\"dff523c0-682a-4303-92e2-885a23696549\",\"type\":\"UnionRenderers\"}},\"id\":\"bf0ddddf-98f0-4dfd-bf1b-6bffe4796efa\",\"type\":\"ColumnDataSource\"},{\"attributes\":{\"line_alpha\":0.8,\"line_color\":\"#984ea3\",\"line_width\":1.5,\"x\":{\"field\":\"x\"},\"y\":{\"field\":\"y\"}},\"id\":\"ce4883bf-9e21-47b0-9dcd-ee5b720ad6b6\",\"type\":\"Line\"},{\"attributes\":{\"source\":{\"id\":\"6de5ad9d-01aa-4c5f-a7f9-a6ac0a2fe01c\",\"type\":\"ColumnDataSource\"}},\"id\":\"5b04ddbb-e8e6-46fe-8eed-06955a8d71f6\",\"type\":\"CDSView\"},{\"attributes\":{\"source\":{\"id\":\"bf0ddddf-98f0-4dfd-bf1b-6bffe4796efa\",\"type\":\"ColumnDataSource\"}},\"id\":\"2f1eb774-5e41-4d75-9f34-446f31642cce\",\"type\":\"CDSView\"},{\"attributes\":{\"line_alpha\":0.1,\"line_color\":\"#1f77b4\",\"line_width\":1.5,\"x\":{\"field\":\"x\"},\"y\":{\"field\":\"y\"}},\"id\":\"126f49c8-7cfe-4876-8d64-0ec1a9c39b34\",\"type\":\"Line\"},{\"attributes\":{\"fill_alpha\":{\"value\":0.1},\"fill_color\":{\"value\":\"#1f77b4\"},\"line_alpha\":{\"value\":0.1},\"line_color\":{\"value\":\"#1f77b4\"},\"x\":{\"field\":\"x\"},\"y\":{\"field\":\"y\"}},\"id\":\"0b026b5c-a591-4d43-894a-c0e73d2ed427\",\"type\":\"Circle\"},{\"attributes\":{\"data_source\":{\"id\":\"bf0ddddf-98f0-4dfd-bf1b-6bffe4796efa\",\"type\":\"ColumnDataSource\"},\"glyph\":{\"id\":\"ce4883bf-9e21-47b0-9dcd-ee5b720ad6b6\",\"type\":\"Line\"},\"hover_glyph\":null,\"muted_glyph\":null,\"nonselection_glyph\":{\"id\":\"c878bc18-e985-4f37-ac27-609046cde038\",\"type\":\"Line\"},\"selection_glyph\":null,\"view\":{\"id\":\"2f1eb774-5e41-4d75-9f34-446f31642cce\",\"type\":\"CDSView\"}},\"id\":\"fb254e31-70dc-4435-830c-b9e7ad18d7ba\",\"type\":\"GlyphRenderer\"},{\"attributes\":{\"fill_alpha\":{\"value\":0.7},\"fill_color\":{\"value\":\"#4daf4a\"},\"line_alpha\":{\"value\":0.7},\"line_color\":{\"value\":\"#4daf4a\"},\"x\":{\"field\":\"x\"},\"y\":{\"field\":\"y\"}},\"id\":\"506bc83b-71cd-47ad-af5b-2c6e0dadcb5a\",\"type\":\"Circle\"},{\"attributes\":{},\"id\":\"a9b9081a-edfa-41e3-96de-b7a6cb74e3c9\",\"type\":\"UnionRenderers\"},{\"attributes\":{\"label\":{\"value\":\"CLIRAD - CRD\"},\"renderers\":[{\"id\":\"bfad9dc5-9c49-4f88-b6cd-4a1517444d6f\",\"type\":\"GlyphRenderer\"},{\"id\":\"fb254e31-70dc-4435-830c-b9e7ad18d7ba\",\"type\":\"GlyphRenderer\"}]},\"id\":\"f71263d7-e059-4934-b653-ad47bb8483a1\",\"type\":\"LegendItem\"},{\"attributes\":{},\"id\":\"6a5af36e-027c-4d0f-945d-1bd06e674b02\",\"type\":\"UnionRenderers\"},{\"attributes\":{\"axis_label\":\"cooling rate [K/day]\",\"formatter\":{\"id\":\"ccfc7c6b-f761-4d28-89a8-a31cedd890c1\",\"type\":\"BasicTickFormatter\"},\"plot\":{\"id\":\"0b32130c-7c4d-404f-9a06-357397a6f222\",\"subtype\":\"Figure\",\"type\":\"Plot\"},\"ticker\":{\"id\":\"1ba68692-bebf-4313-a1a0-64afaac14085\",\"type\":\"BasicTicker\"}},\"id\":\"4a726186-ee7b-41e4-a231-525eeca454e6\",\"type\":\"LinearAxis\"},{\"attributes\":{},\"id\":\"f052944c-f88f-4545-a670-c091e13b5da9\",\"type\":\"Selection\"},{\"attributes\":{\"callback\":null,\"end\":0.55853184394948,\"start\":-1.3542128435934802},\"id\":\"2e4f38e0-2dd7-4274-9046-3cf1ffdecea4\",\"type\":\"Range1d\"},{\"attributes\":{\"source\":{\"id\":\"9bc7782f-092c-4d4b-ac54-a727d80e660a\",\"type\":\"ColumnDataSource\"}},\"id\":\"1db1a038-5120-4c9d-9740-40d63c58e53d\",\"type\":\"CDSView\"},{\"attributes\":{\"fill_alpha\":{\"value\":0.1},\"fill_color\":{\"value\":\"#1f77b4\"},\"line_alpha\":{\"value\":0.1},\"line_color\":{\"value\":\"#1f77b4\"},\"x\":{\"field\":\"x\"},\"y\":{\"field\":\"y\"}},\"id\":\"2ea54da4-db9b-4eb2-98a3-c12e54ed6663\",\"type\":\"Circle\"},{\"attributes\":{\"active_drag\":\"auto\",\"active_inspect\":\"auto\",\"active_scroll\":\"auto\",\"active_tap\":\"auto\",\"tools\":[{\"id\":\"3d3e8073-2d5b-4298-8d41-b6f415b1e1c7\",\"type\":\"PanTool\"},{\"id\":\"89fe43f1-62e6-4d60-8454-8cac693004ae\",\"type\":\"WheelZoomTool\"},{\"id\":\"222ee038-8179-4996-a416-db724979088e\",\"type\":\"BoxZoomTool\"},{\"id\":\"c76d2f59-1838-4d1a-aefc-6d8bab901269\",\"type\":\"SaveTool\"},{\"id\":\"3a75afd9-bd34-4f08-993a-5942ec78e0af\",\"type\":\"ResetTool\"},{\"id\":\"12532914-059d-454a-82a7-d467cbf7224c\",\"type\":\"HelpTool\"}]},\"id\":\"6f98b783-e5bd-4f3a-a820-11b71befd1c4\",\"type\":\"Toolbar\"},{\"attributes\":{},\"id\":\"cd9d6c25-ffeb-4cc2-85db-2e4377415301\",\"type\":\"BasicTickFormatter\"},{\"attributes\":{\"line_alpha\":0.1,\"line_color\":\"#1f77b4\",\"line_width\":1.5,\"x\":{\"field\":\"x\"},\"y\":{\"field\":\"y\"}},\"id\":\"b8e6c26f-12de-4ddb-9f48-4c3c2d76dee6\",\"type\":\"Line\"},{\"attributes\":{},\"id\":\"8f611249-e649-4447-bd1a-ad03ab69396a\",\"type\":\"UnionRenderers\"},{\"attributes\":{\"callback\":null,\"end\":0.01,\"start\":1020},\"id\":\"d7b091ae-1176-40cd-ba0e-5d08ad993f37\",\"type\":\"Range1d\"},{\"attributes\":{\"label\":{\"value\":\"CRD\"},\"renderers\":[{\"id\":\"ef69a928-a523-4bf7-b969-fbd3cc2a4856\",\"type\":\"GlyphRenderer\"},{\"id\":\"7ff4ba86-fe8e-461b-a261-ea462acb5873\",\"type\":\"GlyphRenderer\"}]},\"id\":\"4e667a3e-3f86-4aca-b450-535c9ec59e14\",\"type\":\"LegendItem\"},{\"attributes\":{\"source\":{\"id\":\"9553d653-dbe3-42d0-9278-00fe81e40567\",\"type\":\"ColumnDataSource\"}},\"id\":\"8afd55f9-60a8-4721-a342-c76d5fdf306e\",\"type\":\"CDSView\"},{\"attributes\":{\"data_source\":{\"id\":\"6bec52f2-fba4-42ba-8e03-6a6b7d7393c3\",\"type\":\"ColumnDataSource\"},\"glyph\":{\"id\":\"01d22443-9009-4e5b-84ce-4fe196e7fdd3\",\"type\":\"Circle\"},\"hover_glyph\":null,\"muted_glyph\":null,\"nonselection_glyph\":{\"id\":\"2ea54da4-db9b-4eb2-98a3-c12e54ed6663\",\"type\":\"Circle\"},\"selection_glyph\":null,\"view\":{\"id\":\"74ebf672-9434-45ef-afdf-385428d39aac\",\"type\":\"CDSView\"}},\"id\":\"bfad9dc5-9c49-4f88-b6cd-4a1517444d6f\",\"type\":\"GlyphRenderer\"},{\"attributes\":{\"callback\":null,\"data\":{\"x\":{\"__ndarray__\":\"R/KIaN7AVEClCeJMyPNGQOvRhpxr30JAptxzhxx4PkA7SssMElA4QK6Bp3CyUDNAsVXpjES9LkBFhUV0+5coQMHYwqbbySNA6f09nM3nH0CaSd/3eYoZQDmgiAOW8BNAPYqARh3eDEBkm4vCgvr+P9D+5tWhQfY/P8DwKRnSAkBq38kb17ILQDT7IWuSsxFAUr2Rjm0FFkAinq3s9XgbQGCHwtYcqSFAG64kT303J0C7dRDneyooQD9JYrbK8yRA9S3bneHhIUAIymSuUMMcQIkHLe6VEBdAAau3cITREkA6CiNvkQIPQJU39ki7IQlAaAvwok1UA0BXLQiS4+L7P0xzDpJ2hPI/NNuPGMbJ5z91mUVYxqfSPxqwUPSxZca/G11peifD3L8QzNj5t2jTvwzOozTL360/SPJ4VI1VzD9KJ0nXEIncP8yDdlvHt+4/Et49nYLW9z++2teD4Jn+P+568eH/bwFALf5D9lmAAkCiZAicVOkCQPPT4jNKxwJAOjp3wTzBAUBSQsKNGisBQG4OmjqJwQBAJ3sZoHFuAEA5Ar0Sdi0AQGy4rw5+9f8/7W4nSrC3/z8mPr8zj4T/P4UYRHCQS/8/embVKYcF/z+5YXG+LLP+P/qb8BVUgf4/KvafTtyO/j/avAK1Ppv+PwJV9VVm2P0/JFtYlU/n/D9sN+q2fiX6Pw44e41PNPc/Opt+Z/wN9T+x3vcSW1vzP9ofvWQJlvI/8sciQQBW8j80sfkQa17yPzg5qng2r/I/Oh14WJBh8z+VZjnpctj0P6CcrSuCqQBA\",\"dtype\":\"float64\",\"shape\":[75]},\"y\":{\"__ndarray__\":\"GhExyth1ND/Sv8nbtpRIP2vylNV0PVE/aTum7souWD/At0SJ8fVgPw3Iuahxymc/MSNhhJWvcD/bTfBN02d3P2zb5nxnaoA/CD5h5MAGhz8NmeH1TyaQP+zrCsc9p5Y/LbKd76fGnz/bLW5ISEmmPww9YvTcQq8/JV2OstnstT8Er5Y7M8G+P0c+r3jqkcU/5h99k6ZBzj88bCIzFzjVP4enV8oyxN0//yH99nXg5D8qOpLLf0jtP5kqGJXUifQ/c9cS8kHP/D+/DpwzojQEQIEmwoanVwxA4lgXt9HgE0BSSZ2AJuIbQAMJih9jjiNA5q4l5INuK0AwTKYKRj0zQNv5fmq8/DpAaCJseHrtQkB/+zpwzoxKQM3MzMzMeFJAZmZmZmZqWEAAAAAAAFxeQM3MzMzMJmJAmpmZmZkfZUBmZmZmZhhoQDMzMzMzEWtAAAAAAAAKbkBmZmZmZoFwQM3MzMzM/XFAMzMzMzN6c0CamZmZmfZ0QAAAAAAAc3ZAZmZmZmbvd0DNzMzMzGt5QDMzMzMz6HpAmpmZmZlkfEAAAAAAAOF9QGZmZmZmXX9AZmZmZuZsgECamZmZGSuBQM3MzMxM6YFAAAAAAICngkAzMzMzs2WDQGZmZmbmI4RAmpmZmRnihEDNzMzMTKCFQAAAAACAXoZAMzMzM7Mch0BmZmZm5tqHQJqZmZkZmYhAzczMzExXiUAAAAAAgBWKQDMzMzOz04pAZmZmZuaRi0CamZmZGVCMQM3MzMxMDo1AAAAAAIDMjUAzMzMzs4qOQGZmZmbmSI9A\",\"dtype\":\"float64\",\"shape\":[75]}},\"selected\":{\"id\":\"a2890d85-c593-4e0b-9ba2-7a436171075e\",\"type\":\"Selection\"},\"selection_policy\":{\"id\":\"b04eb994-28da-4b5f-a2b4-ed848f85ef14\",\"type\":\"UnionRenderers\"}},\"id\":\"308dbfbb-62da-43f4-a7fa-497e73fca12c\",\"type\":\"ColumnDataSource\"},{\"attributes\":{\"axis_label\":\"pressure [mb]\",\"formatter\":{\"id\":\"606b57aa-cc93-4a17-b16d-87f2ac91966d\",\"type\":\"LogTickFormatter\"},\"plot\":{\"id\":\"0b32130c-7c4d-404f-9a06-357397a6f222\",\"subtype\":\"Figure\",\"type\":\"Plot\"},\"ticker\":{\"id\":\"74297cbe-49a4-4c1c-8552-b3cbcd2414d5\",\"type\":\"LogTicker\"}},\"id\":\"eb07df33-1686-46a9-9619-368fb9a2372e\",\"type\":\"LogAxis\"},{\"attributes\":{\"plot\":null,\"text\":\"\"},\"id\":\"4a4f0c79-8e9f-442d-addc-96ee923ee66b\",\"type\":\"Title\"},{\"attributes\":{\"source\":{\"id\":\"20541d6a-36ab-4a6c-bac6-fb6c0797b8d4\",\"type\":\"ColumnDataSource\"}},\"id\":\"29823b19-f865-4b5f-95e4-1bac0274529f\",\"type\":\"CDSView\"},{\"attributes\":{\"children\":[{\"id\":\"0a9b598b-d128-4563-bbc8-50096c6b7f1e\",\"type\":\"Row\"}]},\"id\":\"4a975a82-f0a1-4046-ad98-1e2a352e0750\",\"type\":\"Column\"},{\"attributes\":{},\"id\":\"a78d3c69-2584-404a-9fec-bff499df8ac7\",\"type\":\"UnionRenderers\"},{\"attributes\":{\"callback\":null,\"data\":{\"x\":{\"__ndarray__\":\"R/KIaN7AVEClCeJMyPNGQOvRhpxr30JAptxzhxx4PkA7SssMElA4QK6Bp3CyUDNAsVXpjES9LkBFhUV0+5coQMHYwqbbySNA6f09nM3nH0CaSd/3eYoZQDmgiAOW8BNAPYqARh3eDEBkm4vCgvr+P9D+5tWhQfY/P8DwKRnSAkBq38kb17ILQDT7IWuSsxFAUr2Rjm0FFkAinq3s9XgbQGCHwtYcqSFAG64kT303J0C7dRDneyooQD9JYrbK8yRA9S3bneHhIUAIymSuUMMcQIkHLe6VEBdAAau3cITREkA6CiNvkQIPQJU39ki7IQlAaAvwok1UA0BXLQiS4+L7P0xzDpJ2hPI/NNuPGMbJ5z91mUVYxqfSPxqwUPSxZca/G11peifD3L8QzNj5t2jTvwzOozTL360/SPJ4VI1VzD9KJ0nXEIncP8yDdlvHt+4/Et49nYLW9z++2teD4Jn+P+568eH/bwFALf5D9lmAAkCiZAicVOkCQPPT4jNKxwJAOjp3wTzBAUBSQsKNGisBQG4OmjqJwQBAJ3sZoHFuAEA5Ar0Sdi0AQGy4rw5+9f8/7W4nSrC3/z8mPr8zj4T/P4UYRHCQS/8/embVKYcF/z+5YXG+LLP+P/qb8BVUgf4/KvafTtyO/j/avAK1Ppv+PwJV9VVm2P0/JFtYlU/n/D9sN+q2fiX6Pw44e41PNPc/Opt+Z/wN9T+x3vcSW1vzP9ofvWQJlvI/8sciQQBW8j80sfkQa17yPzg5qng2r/I/Oh14WJBh8z+VZjnpctj0P6CcrSuCqQBA\",\"dtype\":\"float64\",\"shape\":[75]},\"y\":{\"__ndarray__\":\"GhExyth1ND/Sv8nbtpRIP2vylNV0PVE/aTum7souWD/At0SJ8fVgPw3Iuahxymc/MSNhhJWvcD/bTfBN02d3P2zb5nxnaoA/CD5h5MAGhz8NmeH1TyaQP+zrCsc9p5Y/LbKd76fGnz/bLW5ISEmmPww9YvTcQq8/JV2OstnstT8Er5Y7M8G+P0c+r3jqkcU/5h99k6ZBzj88bCIzFzjVP4enV8oyxN0//yH99nXg5D8qOpLLf0jtP5kqGJXUifQ/c9cS8kHP/D+/DpwzojQEQIEmwoanVwxA4lgXt9HgE0BSSZ2AJuIbQAMJih9jjiNA5q4l5INuK0AwTKYKRj0zQNv5fmq8/DpAaCJseHrtQkB/+zpwzoxKQM3MzMzMeFJAZmZmZmZqWEAAAAAAAFxeQM3MzMzMJmJAmpmZmZkfZUBmZmZmZhhoQDMzMzMzEWtAAAAAAAAKbkBmZmZmZoFwQM3MzMzM/XFAMzMzMzN6c0CamZmZmfZ0QAAAAAAAc3ZAZmZmZmbvd0DNzMzMzGt5QDMzMzMz6HpAmpmZmZlkfEAAAAAAAOF9QGZmZmZmXX9AZmZmZuZsgECamZmZGSuBQM3MzMxM6YFAAAAAAICngkAzMzMzs2WDQGZmZmbmI4RAmpmZmRnihEDNzMzMTKCFQAAAAACAXoZAMzMzM7Mch0BmZmZm5tqHQJqZmZkZmYhAzczMzExXiUAAAAAAgBWKQDMzMzOz04pAZmZmZuaRi0CamZmZGVCMQM3MzMxMDo1AAAAAAIDMjUAzMzMzs4qOQGZmZmbmSI9A\",\"dtype\":\"float64\",\"shape\":[75]}},\"selected\":{\"id\":\"f052944c-f88f-4545-a670-c091e13b5da9\",\"type\":\"Selection\"},\"selection_policy\":{\"id\":\"6a5af36e-027c-4d0f-945d-1bd06e674b02\",\"type\":\"UnionRenderers\"}},\"id\":\"9553d653-dbe3-42d0-9278-00fe81e40567\",\"type\":\"ColumnDataSource\"},{\"attributes\":{\"source\":{\"id\":\"6bec52f2-fba4-42ba-8e03-6a6b7d7393c3\",\"type\":\"ColumnDataSource\"}},\"id\":\"74ebf672-9434-45ef-afdf-385428d39aac\",\"type\":\"CDSView\"},{\"attributes\":{\"line_color\":\"#4daf4a\",\"line_width\":1.5,\"x\":{\"field\":\"x\"},\"y\":{\"field\":\"y\"}},\"id\":\"f855ff90-74ef-4455-97d7-1b0493f17f20\",\"type\":\"Line\"},{\"attributes\":{\"source\":{\"id\":\"308dbfbb-62da-43f4-a7fa-497e73fca12c\",\"type\":\"ColumnDataSource\"}},\"id\":\"a6af2bfd-8fef-4840-8d43-abbfd1b6ee38\",\"type\":\"CDSView\"},{\"attributes\":{\"data_source\":{\"id\":\"308dbfbb-62da-43f4-a7fa-497e73fca12c\",\"type\":\"ColumnDataSource\"},\"glyph\":{\"id\":\"f855ff90-74ef-4455-97d7-1b0493f17f20\",\"type\":\"Line\"},\"hover_glyph\":null,\"muted_glyph\":null,\"nonselection_glyph\":{\"id\":\"126f49c8-7cfe-4876-8d64-0ec1a9c39b34\",\"type\":\"Line\"},\"selection_glyph\":null,\"view\":{\"id\":\"a6af2bfd-8fef-4840-8d43-abbfd1b6ee38\",\"type\":\"CDSView\"}},\"id\":\"7ff4ba86-fe8e-461b-a261-ea462acb5873\",\"type\":\"GlyphRenderer\"},{\"attributes\":{},\"id\":\"c76d2f59-1838-4d1a-aefc-6d8bab901269\",\"type\":\"SaveTool\"},{\"attributes\":{\"plot\":{\"id\":\"0b32130c-7c4d-404f-9a06-357397a6f222\",\"subtype\":\"Figure\",\"type\":\"Plot\"},\"ticker\":{\"id\":\"1ba68692-bebf-4313-a1a0-64afaac14085\",\"type\":\"BasicTicker\"}},\"id\":\"9ab7ed4c-b34a-4146-bf2f-3d5d26bc0739\",\"type\":\"Grid\"},{\"attributes\":{\"bottom_units\":\"screen\",\"fill_alpha\":{\"value\":0.5},\"fill_color\":{\"value\":\"lightgrey\"},\"left_units\":\"screen\",\"level\":\"overlay\",\"line_alpha\":{\"value\":1.0},\"line_color\":{\"value\":\"black\"},\"line_dash\":[4,4],\"line_width\":{\"value\":2},\"plot\":null,\"render_mode\":\"css\",\"right_units\":\"screen\",\"top_units\":\"screen\"},\"id\":\"c875ca9d-9bd8-461b-9f4e-f39ce589e16a\",\"type\":\"BoxAnnotation\"},{\"attributes\":{},\"id\":\"3d3e8073-2d5b-4298-8d41-b6f415b1e1c7\",\"type\":\"PanTool\"},{\"attributes\":{},\"id\":\"3e714adb-e604-4d3b-9e35-40dda4f391b0\",\"type\":\"LinearScale\"},{\"attributes\":{},\"id\":\"9999e345-3404-4607-9e07-f9dbb95b082b\",\"type\":\"LogScale\"},{\"attributes\":{\"axis_label\":\"pressure [mb]\",\"formatter\":{\"id\":\"cd9d6c25-ffeb-4cc2-85db-2e4377415301\",\"type\":\"BasicTickFormatter\"},\"plot\":{\"id\":\"ec61583a-d650-4d4e-ae96-6ad31dd49f6c\",\"subtype\":\"Figure\",\"type\":\"Plot\"},\"ticker\":{\"id\":\"652cadf5-8dde-42bd-a33a-f6431a70628b\",\"type\":\"BasicTicker\"}},\"id\":\"cdccc193-ec26-40b8-b8b9-0eb58cc575bc\",\"type\":\"LinearAxis\"},{\"attributes\":{\"callback\":null,\"data\":{\"x\":{\"__ndarray__\":\"kqvVCTJORUDGAffSfaRCQKZGlip5ikFA97J5oPnxP0BpWYTf5No7QJb6Id3T/TZAiqH+Ub7KMUCmsxMqXOEpQI6YajptNyJARrXhqkqQGkBE1tPDojYVQF9iFZbmAxJAbdQs6laRDUAcdB/7HS4DQDvRX5uR5P4/y2y2qEyqBUCzBaFapEIMQOWVZ3WenBBA0YkiwEreE0DPd1h4+U4ZQAjGFy4yDCFAatAKeYICJ0D04E6UgxkoQEC/DUOxhCRAn18lXosnIUD7QoX/k1YcQPSHk447WRhAU2wxuVgsFED5P7dnUMcPQLfFhW3KOwlA6PGB1pQ7BUDr5jBtp3kAQJjeC/ImsfQ/ccSECtQK5j9hOcRca/7QP0Fi4X4oicG/Mvz69ZCS3r9DQqJOziHYv/xeZAHkLl+/BREikxhXxT+cVzL1Pa7YP+5RaEEju+w/dDqvLq269j/QmpqATNf9P0zLf2776wBASP2DFM+EAUAQ3Ba1bkcCQJG/sqCsTAJApzXVrJYWAUBCKjpTHoEAQKZl9AAuTwBAwIfEnQgvAEA51x+VNwQAQJqJEHiTnP8/aHetpUU//z+4ogNARAf/P2XvTC3CDf8/7dX/7T1C/z8V2M8r7WP/P2p2+7HrZP8/rng0HyFM/z86SWrWVvr+Pzx7O32V2P0/GLUKga3J/D8RXMwjxC/6P0jx3fnXm/c/xpmhoLTt9T/XDZf5Z370P9iagH0ExPM/ZXDy5ByV8z/xsAZwvq7zPyTMIHU1EfQ/kpsr7MoD9T+bLifMK7v2PzM/VYq/pwFA\",\"dtype\":\"float64\",\"shape\":[75]},\"y\":{\"__ndarray__\":\"S/O/Q+51ND/Sv8nbtpRIP2vylNV0PVE/aTum7souWD/At0SJ8fVgPw3Iuahxymc/MSNhhJWvcD/bTfBN02d3P2zb5nxnaoA/CD5h5MAGhz8NmeH1TyaQP+zrCsc9p5Y/LbKd76fGnz/bLW5ISEmmPww9YvTcQq8/JV2OstnstT8Er5Y7M8G+P0c+r3jqkcU/5h99k6ZBzj88bCIzFzjVP4enV8oyxN0//yH99nXg5D8qOpLLf0jtP5kqGJXUifQ/c9cS8kHP/D+/DpwzojQEQIEmwoanVwxA4lgXt9HgE0BSSZ2AJuIbQAMJih9jjiNA5q4l5INuK0AwTKYKRj0zQNv5fmq8/DpAaCJseHrtQkB/+zpwzoxKQM3MzMzMeFJAZmZmZmZqWEAAAAAAAFxeQM3MzMzMJmJAmpmZmZkfZUBmZmZmZhhoQDMzMzMzEWtAAAAAAAAKbkBmZmZmZoFwQM3MzMzM/XFAMzMzMzN6c0CamZmZmfZ0QAAAAAAAc3ZAZmZmZmbvd0DNzMzMzGt5QDMzMzMz6HpAmpmZmZlkfEAAAAAAAOF9QGZmZmZmXX9AZmZmZuZsgECamZmZGSuBQM3MzMxM6YFAAAAAAICngkAzMzMzs2WDQGZmZmbmI4RAmpmZmRnihEDNzMzMTKCFQAAAAACAXoZAMzMzM7Mch0BmZmZm5tqHQJqZmZkZmYhAzczMzExXiUAAAAAAgBWKQDMzMzOz04pAZmZmZuaRi0CamZmZGVCMQM3MzMxMDo1AAAAAAIDMjUAzMzMzs4qOQGZmZmbmSI9A\",\"dtype\":\"float64\",\"shape\":[75]}},\"selected\":{\"id\":\"6808d13e-4be4-41c0-9f02-39e9af43bae5\",\"type\":\"Selection\"},\"selection_policy\":{\"id\":\"a9b9081a-edfa-41e3-96de-b7a6cb74e3c9\",\"type\":\"UnionRenderers\"}},\"id\":\"9bc7782f-092c-4d4b-ac54-a727d80e660a\",\"type\":\"ColumnDataSource\"},{\"attributes\":{},\"id\":\"38e250c6-dc3c-49d3-b074-542a8c089090\",\"type\":\"WheelZoomTool\"},{\"attributes\":{\"dimension\":1,\"plot\":{\"id\":\"ec61583a-d650-4d4e-ae96-6ad31dd49f6c\",\"subtype\":\"Figure\",\"type\":\"Plot\"},\"ticker\":{\"id\":\"652cadf5-8dde-42bd-a33a-f6431a70628b\",\"type\":\"BasicTicker\"}},\"id\":\"0d89a03e-98fc-4c1b-bf19-ba916ca82fca\",\"type\":\"Grid\"},{\"attributes\":{\"fill_alpha\":{\"value\":0.7},\"fill_color\":{\"value\":\"#984ea3\"},\"line_alpha\":{\"value\":0.7},\"line_color\":{\"value\":\"#984ea3\"},\"x\":{\"field\":\"x\"},\"y\":{\"field\":\"y\"}},\"id\":\"01d22443-9009-4e5b-84ce-4fe196e7fdd3\",\"type\":\"Circle\"},{\"attributes\":{\"data_source\":{\"id\":\"9bc7782f-092c-4d4b-ac54-a727d80e660a\",\"type\":\"ColumnDataSource\"},\"glyph\":{\"id\":\"13c347a6-a1a6-46cd-8c3a-0afc9175b954\",\"type\":\"Line\"},\"hover_glyph\":null,\"muted_glyph\":null,\"nonselection_glyph\":{\"id\":\"dfde0e91-24e3-4159-8b6a-6c354246f175\",\"type\":\"Line\"},\"selection_glyph\":null,\"view\":{\"id\":\"1db1a038-5120-4c9d-9740-40d63c58e53d\",\"type\":\"CDSView\"}},\"id\":\"bd031510-a425-4f6c-ba55-85e7503e409e\",\"type\":\"GlyphRenderer\"},{\"attributes\":{\"line_alpha\":0.1,\"line_color\":\"#1f77b4\",\"line_dash\":[6],\"line_width\":5,\"x\":{\"field\":\"x\"},\"y\":{\"field\":\"y\"}},\"id\":\"dfde0e91-24e3-4159-8b6a-6c354246f175\",\"type\":\"Line\"},{\"attributes\":{},\"id\":\"a9e450b5-bfbf-4f31-bbc7-56fab15ea083\",\"type\":\"SaveTool\"},{\"attributes\":{},\"id\":\"50a8adfd-11b4-4892-a77d-1150ea7eb579\",\"type\":\"PanTool\"},{\"attributes\":{\"bottom_units\":\"screen\",\"fill_alpha\":{\"value\":0.5},\"fill_color\":{\"value\":\"lightgrey\"},\"left_units\":\"screen\",\"level\":\"overlay\",\"line_alpha\":{\"value\":1.0},\"line_color\":{\"value\":\"black\"},\"line_dash\":[4,4],\"line_width\":{\"value\":2},\"plot\":null,\"render_mode\":\"css\",\"right_units\":\"screen\",\"top_units\":\"screen\"},\"id\":\"a20ac7d0-2cd4-400c-89bd-38bc61c5c15f\",\"type\":\"BoxAnnotation\"},{\"attributes\":{},\"id\":\"dc95116f-9b15-458d-9250-00d09efcb6f4\",\"type\":\"HelpTool\"},{\"attributes\":{\"num_minor_ticks\":10},\"id\":\"74297cbe-49a4-4c1c-8552-b3cbcd2414d5\",\"type\":\"LogTicker\"},{\"attributes\":{},\"id\":\"bdd538fa-8b60-4044-8116-1968096a3325\",\"type\":\"ResetTool\"},{\"attributes\":{\"callback\":null,\"end\":0.01,\"start\":1020},\"id\":\"e438e291-b498-4816-b792-76e90838767c\",\"type\":\"Range1d\"},{\"attributes\":{},\"id\":\"652cadf5-8dde-42bd-a33a-f6431a70628b\",\"type\":\"BasicTicker\"},{\"attributes\":{\"callback\":null,\"data\":{\"x\":{\"__ndarray__\":\"kqvVCTJORUDGAffSfaRCQKZGlip5ikFA97J5oPnxP0BpWYTf5No7QJb6Id3T/TZAiqH+Ub7KMUCmsxMqXOEpQI6YajptNyJARrXhqkqQGkBE1tPDojYVQF9iFZbmAxJAbdQs6laRDUAcdB/7HS4DQDvRX5uR5P4/y2y2qEyqBUCzBaFapEIMQOWVZ3WenBBA0YkiwEreE0DPd1h4+U4ZQAjGFy4yDCFAatAKeYICJ0D04E6UgxkoQEC/DUOxhCRAn18lXosnIUD7QoX/k1YcQPSHk447WRhAU2wxuVgsFED5P7dnUMcPQLfFhW3KOwlA6PGB1pQ7BUDr5jBtp3kAQJjeC/ImsfQ/ccSECtQK5j9hOcRca/7QP0Fi4X4oicG/Mvz69ZCS3r9DQqJOziHYv/xeZAHkLl+/BREikxhXxT+cVzL1Pa7YP+5RaEEju+w/dDqvLq269j/QmpqATNf9P0zLf2776wBASP2DFM+EAUAQ3Ba1bkcCQJG/sqCsTAJApzXVrJYWAUBCKjpTHoEAQKZl9AAuTwBAwIfEnQgvAEA51x+VNwQAQJqJEHiTnP8/aHetpUU//z+4ogNARAf/P2XvTC3CDf8/7dX/7T1C/z8V2M8r7WP/P2p2+7HrZP8/rng0HyFM/z86SWrWVvr+Pzx7O32V2P0/GLUKga3J/D8RXMwjxC/6P0jx3fnXm/c/xpmhoLTt9T/XDZf5Z370P9iagH0ExPM/ZXDy5ByV8z/xsAZwvq7zPyTMIHU1EfQ/kpsr7MoD9T+bLifMK7v2PzM/VYq/pwFA\",\"dtype\":\"float64\",\"shape\":[75]},\"y\":{\"__ndarray__\":\"S/O/Q+51ND/Sv8nbtpRIP2vylNV0PVE/aTum7souWD/At0SJ8fVgPw3Iuahxymc/MSNhhJWvcD/bTfBN02d3P2zb5nxnaoA/CD5h5MAGhz8NmeH1TyaQP+zrCsc9p5Y/LbKd76fGnz/bLW5ISEmmPww9YvTcQq8/JV2OstnstT8Er5Y7M8G+P0c+r3jqkcU/5h99k6ZBzj88bCIzFzjVP4enV8oyxN0//yH99nXg5D8qOpLLf0jtP5kqGJXUifQ/c9cS8kHP/D+/DpwzojQEQIEmwoanVwxA4lgXt9HgE0BSSZ2AJuIbQAMJih9jjiNA5q4l5INuK0AwTKYKRj0zQNv5fmq8/DpAaCJseHrtQkB/+zpwzoxKQM3MzMzMeFJAZmZmZmZqWEAAAAAAAFxeQM3MzMzMJmJAmpmZmZkfZUBmZmZmZhhoQDMzMzMzEWtAAAAAAAAKbkBmZmZmZoFwQM3MzMzM/XFAMzMzMzN6c0CamZmZmfZ0QAAAAAAAc3ZAZmZmZmbvd0DNzMzMzGt5QDMzMzMz6HpAmpmZmZlkfEAAAAAAAOF9QGZmZmZmXX9AZmZmZuZsgECamZmZGSuBQM3MzMxM6YFAAAAAAICngkAzMzMzs2WDQGZmZmbmI4RAmpmZmRnihEDNzMzMTKCFQAAAAACAXoZAMzMzM7Mch0BmZmZm5tqHQJqZmZkZmYhAzczMzExXiUAAAAAAgBWKQDMzMzOz04pAZmZmZuaRi0CamZmZGVCMQM3MzMxMDo1AAAAAAIDMjUAzMzMzs4qOQGZmZmbmSI9A\",\"dtype\":\"float64\",\"shape\":[75]}},\"selected\":{\"id\":\"d9821300-9815-4455-87ac-e351d9134fb1\",\"type\":\"Selection\"},\"selection_policy\":{\"id\":\"a78d3c69-2584-404a-9fec-bff499df8ac7\",\"type\":\"UnionRenderers\"}},\"id\":\"6de5ad9d-01aa-4c5f-a7f9-a6ac0a2fe01c\",\"type\":\"ColumnDataSource\"},{\"attributes\":{\"overlay\":{\"id\":\"a20ac7d0-2cd4-400c-89bd-38bc61c5c15f\",\"type\":\"BoxAnnotation\"}},\"id\":\"ee56c18f-9d2d-4930-a13b-36666cf9b73b\",\"type\":\"BoxZoomTool\"},{\"attributes\":{\"dimension\":1,\"plot\":{\"id\":\"0b32130c-7c4d-404f-9a06-357397a6f222\",\"subtype\":\"Figure\",\"type\":\"Plot\"},\"ticker\":{\"id\":\"74297cbe-49a4-4c1c-8552-b3cbcd2414d5\",\"type\":\"LogTicker\"}},\"id\":\"02dd92b1-c4db-4d3c-a6a0-cd045cd9f195\",\"type\":\"Grid\"},{\"attributes\":{},\"id\":\"b04eb994-28da-4b5f-a2b4-ed848f85ef14\",\"type\":\"UnionRenderers\"},{\"attributes\":{\"fill_alpha\":{\"value\":0.1},\"fill_color\":{\"value\":\"#1f77b4\"},\"line_alpha\":{\"value\":0.1},\"line_color\":{\"value\":\"#1f77b4\"},\"x\":{\"field\":\"x\"},\"y\":{\"field\":\"y\"}},\"id\":\"e0791b49-b35c-4532-b59f-c32194d9c25e\",\"type\":\"Circle\"}],\"root_ids\":[\"b4b8c214-8330-428c-adc2-4b0e5fef1f8b\"]},\"title\":\"Bokeh Application\",\"version\":\"0.12.16\"}};\n",
       "  var render_items = [{\"docid\":\"88631a97-a0e4-42d8-bffd-51e55bc76dbe\",\"elementid\":\"c466bf05-5aa3-45bb-9821-6a3f4de76773\",\"modelid\":\"b4b8c214-8330-428c-adc2-4b0e5fef1f8b\"}];\n",
       "  root.Bokeh.embed.embed_items_notebook(docs_json, render_items);\n",
       "\n",
       "  }\n",
       "  if (root.Bokeh !== undefined) {\n",
       "    embed_document(root);\n",
       "  } else {\n",
       "    var attempts = 0;\n",
       "    var timer = setInterval(function(root) {\n",
       "      if (root.Bokeh !== undefined) {\n",
       "        embed_document(root);\n",
       "        clearInterval(timer);\n",
       "      }\n",
       "      attempts++;\n",
       "      if (attempts > 100) {\n",
       "        console.log(\"Bokeh: ERROR: Unable to run BokehJS code because BokehJS library is missing\")\n",
       "        clearInterval(timer);\n",
       "      }\n",
       "    }, 10, root)\n",
       "  }\n",
       "})(window);"
      ],
      "application/vnd.bokehjs_exec.v0+json": ""
     },
     "metadata": {
      "application/vnd.bokehjs_exec.v0+json": {
       "id": "b4b8c214-8330-428c-adc2-4b0e5fef1f8b"
      }
     },
     "output_type": "display_data"
    },
    {
     "data": {
      "text/markdown": [
       "*FIGURE.* Cooling rates & difference."
      ],
      "text/plain": [
       "<IPython.core.display.Markdown object>"
      ]
     },
     "metadata": {},
     "output_type": "display_data"
    },
    {
     "data": {
      "text/html": [
       "<a id=\"Fluxes._trp.\"></a>"
      ],
      "text/plain": [
       "<IPython.core.display.HTML object>"
      ]
     },
     "metadata": {},
     "output_type": "display_data"
    },
    {
     "data": {
      "text/markdown": [
       "# Fluxes. trp."
      ],
      "text/plain": [
       "<IPython.core.display.Markdown object>"
      ]
     },
     "metadata": {},
     "output_type": "display_data"
    },
    {
     "data": {
      "text/html": [
       "\n",
       "<div class=\"bk-root\">\n",
       "    <div class=\"bk-plotdiv\" id=\"6ff5237e-c4ef-4f95-ba03-b514c945f052\"></div>\n",
       "</div>"
      ]
     },
     "metadata": {},
     "output_type": "display_data"
    },
    {
     "data": {
      "application/javascript": [
       "(function(root) {\n",
       "  function embed_document(root) {\n",
       "    \n",
       "  var docs_json = {\"f4459575-c028-4e98-b649-8c16e35bb98d\":{\"roots\":{\"references\":[{\"attributes\":{\"axis_label\":\"spectral band\",\"formatter\":{\"id\":\"d784b49e-69cf-4e14-b1bc-b380e238a560\",\"type\":\"CategoricalTickFormatter\"},\"plot\":{\"id\":\"f70f1152-a9d8-4cc4-b626-677cbabc4407\",\"subtype\":\"Figure\",\"type\":\"Plot\"},\"ticker\":{\"id\":\"6988b057-3509-44ef-9824-49384a507e00\",\"type\":\"CategoricalTicker\"}},\"id\":\"949f6283-50ca-40f0-9f13-c9cda1d5c686\",\"type\":\"CategoricalAxis\"},{\"attributes\":{\"callback\":null,\"data\":{\"band\":[\"1\",\"2\",\"3\",\"4\",\"5\",\"6\",\"7\",\"8\",\"9\",\"10\",\"11\"],\"flux\":{\"__ndarray__\":\"AADADkbs874Ak+S5vg/QPwA9t9CVCMq/ABTRr62frj8g2VvK+WLjPwD9aaM6Hd0/gI4AbhYvsj8AsOtypfmOP4CJeOv829E/AFDtmpDWiD/ANHG8TF6wPw==\",\"dtype\":\"float64\",\"shape\":[11]}},\"selected\":{\"id\":\"fb06960e-8691-43dd-92c2-e5e1511ff114\",\"type\":\"Selection\"},\"selection_policy\":{\"id\":\"a54be939-d4e8-4abd-91d0-dd75a1ca2efd\",\"type\":\"UnionRenderers\"}},\"id\":\"8a843206-c41c-4b99-b0e6-ad71f73ba100\",\"type\":\"ColumnDataSource\"},{\"attributes\":{\"callback\":null,\"data\":{\"band\":[\"1\",\"2\",\"3\",\"4\",\"5\",\"6\",\"7\",\"8\",\"9\",\"10\",\"11\"],\"flux\":{\"__ndarray__\":\"AJJCWfj6yj8Ac9nonJ/UP4A1I4PcRdO/UGMJa2Ps4T/APq2iPzTUPwAo5bUSuqO/gPm7d9SYzj8ADTLJyFm8vwBAGHjuPZw/4IZphCPtwT/AuWLrvgi9Pw==\",\"dtype\":\"float64\",\"shape\":[11]}},\"selected\":{\"id\":\"07be8ab3-4182-4490-a058-7736f1a5ba71\",\"type\":\"Selection\"},\"selection_policy\":{\"id\":\"07e42a85-8bb2-4dba-b2ff-dac7bad85e6a\",\"type\":\"UnionRenderers\"}},\"id\":\"8c5f749b-d476-4caa-ae09-eaf5597c0f6a\",\"type\":\"ColumnDataSource\"},{\"attributes\":{\"toolbar\":{\"id\":\"c94186ff-c2dc-4119-b6a5-787d228e2493\",\"type\":\"ProxyToolbar\"},\"toolbar_location\":\"above\"},\"id\":\"5baac35e-9104-40ab-8644-663b2e094e58\",\"type\":\"ToolbarBox\"},{\"attributes\":{},\"id\":\"2f7bf27b-f105-4460-a080-57cd345d4b13\",\"type\":\"Selection\"},{\"attributes\":{\"data_source\":{\"id\":\"8c5f749b-d476-4caa-ae09-eaf5597c0f6a\",\"type\":\"ColumnDataSource\"},\"glyph\":{\"id\":\"89e65d77-6f31-4f1a-b7ed-ecfd834aede4\",\"type\":\"VBar\"},\"hover_glyph\":null,\"muted_glyph\":null,\"nonselection_glyph\":{\"id\":\"f4be4b24-d0e4-48be-951e-4f82431dc96c\",\"type\":\"VBar\"},\"selection_glyph\":null,\"view\":{\"id\":\"f27b6434-54da-46a5-8fe3-ce3b4787dc21\",\"type\":\"CDSView\"}},\"id\":\"95d44b92-37e3-488f-9905-afd617b34f24\",\"type\":\"GlyphRenderer\"},{\"attributes\":{\"bottom_units\":\"screen\",\"fill_alpha\":{\"value\":0.5},\"fill_color\":{\"value\":\"lightgrey\"},\"left_units\":\"screen\",\"level\":\"overlay\",\"line_alpha\":{\"value\":1.0},\"line_color\":{\"value\":\"black\"},\"line_dash\":[4,4],\"line_width\":{\"value\":2},\"plot\":null,\"render_mode\":\"css\",\"right_units\":\"screen\",\"top_units\":\"screen\"},\"id\":\"a20c7860-2a2d-49af-9d66-112ce8988f37\",\"type\":\"BoxAnnotation\"},{\"attributes\":{},\"id\":\"46498780-fb91-478e-b852-1808fb09e402\",\"type\":\"CategoricalScale\"},{\"attributes\":{\"below\":[{\"id\":\"120d0453-1c4a-4a40-9b14-8eb398a1bca4\",\"type\":\"CategoricalAxis\"}],\"left\":[{\"id\":\"de4df4f8-ce90-4a07-b258-d9479b1b6a13\",\"type\":\"LinearAxis\"}],\"plot_height\":300,\"plot_width\":300,\"renderers\":[{\"id\":\"120d0453-1c4a-4a40-9b14-8eb398a1bca4\",\"type\":\"CategoricalAxis\"},{\"id\":\"ec63ef7b-37b1-4027-9373-0888b5627e14\",\"type\":\"Grid\"},{\"id\":\"de4df4f8-ce90-4a07-b258-d9479b1b6a13\",\"type\":\"LinearAxis\"},{\"id\":\"abdfb8a0-595b-45bb-aac0-f0374c03eb95\",\"type\":\"Grid\"},{\"id\":\"3f9fe263-5ca3-42ba-a462-4081469cb4c6\",\"type\":\"BoxAnnotation\"},{\"id\":\"95d44b92-37e3-488f-9905-afd617b34f24\",\"type\":\"GlyphRenderer\"}],\"title\":{\"id\":\"77fe9ef2-2211-431d-94f5-44a25b7dd58d\",\"type\":\"Title\"},\"toolbar\":{\"id\":\"2996071c-3c83-41a8-b349-f2769ecc04d9\",\"type\":\"Toolbar\"},\"toolbar_location\":null,\"x_range\":{\"id\":\"caa3bb7d-c346-4632-aab2-d93a59e37330\",\"type\":\"FactorRange\"},\"x_scale\":{\"id\":\"334b729c-210d-422f-a4c4-d66d9f3646b6\",\"type\":\"CategoricalScale\"},\"y_range\":{\"id\":\"2076dca2-8ea3-4bea-a88d-d422738b39ef\",\"type\":\"DataRange1d\"},\"y_scale\":{\"id\":\"494871eb-e363-44da-92c2-e6089d763769\",\"type\":\"LinearScale\"}},\"id\":\"222de5e1-fa26-4da8-8923-6cbeb82d8cd3\",\"subtype\":\"Figure\",\"type\":\"Plot\"},{\"attributes\":{\"data_source\":{\"id\":\"aa8b7fcd-7be7-4189-8aa1-f9b50f568f2d\",\"type\":\"ColumnDataSource\"},\"glyph\":{\"id\":\"b9c4dec3-46dc-4af0-ace2-9ca2463e98b9\",\"type\":\"VBar\"},\"hover_glyph\":null,\"muted_glyph\":null,\"nonselection_glyph\":{\"id\":\"cbec5d5e-056a-4579-976c-ccfde8007cd3\",\"type\":\"VBar\"},\"selection_glyph\":null,\"view\":{\"id\":\"0c5b3194-0140-4629-a81a-767cc9592c1b\",\"type\":\"CDSView\"}},\"id\":\"3eade55e-49ca-4247-9fed-2fc601d39a4f\",\"type\":\"GlyphRenderer\"},{\"attributes\":{\"plot\":null,\"text\":\"SFC flux. CLIRAD - CRD.\"},\"id\":\"cac1d061-0dc2-4dc8-8fd1-0398c50bc336\",\"type\":\"Title\"},{\"attributes\":{},\"id\":\"c5be1f80-a23f-492c-809e-e42d9e9fec2c\",\"type\":\"CategoricalTickFormatter\"},{\"attributes\":{},\"id\":\"07be8ab3-4182-4490-a058-7736f1a5ba71\",\"type\":\"Selection\"},{\"attributes\":{\"overlay\":{\"id\":\"a20c7860-2a2d-49af-9d66-112ce8988f37\",\"type\":\"BoxAnnotation\"}},\"id\":\"9439e73a-cf08-4259-9cab-d3f422157eaf\",\"type\":\"BoxZoomTool\"},{\"attributes\":{\"callback\":null,\"data\":{\"band\":[\"1\",\"2\",\"3\",\"4\",\"5\",\"6\",\"7\",\"8\",\"9\",\"10\",\"11\"],\"flux\":{\"__ndarray__\":\"AFB2r2r7yj8AbHBcpT+yPwCSAxt8Brm/QFQrXQsE4D9g0xIro5HSv4ChJvp8lN+/ALK7QEmBxT+AJjEIrBzAv8Dnr0YsGNC/YJ9mkqJfwD/ApI1+j1WpPw==\",\"dtype\":\"float64\",\"shape\":[11]}},\"selected\":{\"id\":\"2f7bf27b-f105-4460-a080-57cd345d4b13\",\"type\":\"Selection\"},\"selection_policy\":{\"id\":\"72666018-cc92-47cf-ae79-9d635ed8f2ae\",\"type\":\"UnionRenderers\"}},\"id\":\"aa8b7fcd-7be7-4189-8aa1-f9b50f568f2d\",\"type\":\"ColumnDataSource\"},{\"attributes\":{},\"id\":\"e70f6372-f46f-45fa-b9f6-c6d25fd79c0f\",\"type\":\"SaveTool\"},{\"attributes\":{\"axis_label\":\"flux (W m-2)\",\"formatter\":{\"id\":\"2299634c-a272-4f54-b77a-5751fa796e65\",\"type\":\"BasicTickFormatter\"},\"plot\":{\"id\":\"f70f1152-a9d8-4cc4-b626-677cbabc4407\",\"subtype\":\"Figure\",\"type\":\"Plot\"},\"ticker\":{\"id\":\"67d63394-6f16-4da2-882b-e158f692f674\",\"type\":\"BasicTicker\"}},\"id\":\"1e0df921-a077-45a3-8955-f5f04a38c7e4\",\"type\":\"LinearAxis\"},{\"attributes\":{},\"id\":\"0e3e28bf-3b34-488e-b9b7-71c9b75cf0c5\",\"type\":\"HelpTool\"},{\"attributes\":{\"plot\":null,\"text\":\"TOA flux. CLIRAD - CRD.\"},\"id\":\"77fe9ef2-2211-431d-94f5-44a25b7dd58d\",\"type\":\"Title\"},{\"attributes\":{},\"id\":\"21dee44a-eea7-4c93-8468-b7f31544251e\",\"type\":\"ResetTool\"},{\"attributes\":{},\"id\":\"fb06960e-8691-43dd-92c2-e5e1511ff114\",\"type\":\"Selection\"},{\"attributes\":{},\"id\":\"a54be939-d4e8-4abd-91d0-dd75a1ca2efd\",\"type\":\"UnionRenderers\"},{\"attributes\":{\"callback\":null,\"factors\":[\"1\",\"2\",\"3\",\"4\",\"5\",\"6\",\"7\",\"8\",\"9\",\"10\",\"11\"]},\"id\":\"6f3394c6-3cbf-4065-9d9b-389a1ecd6431\",\"type\":\"FactorRange\"},{\"attributes\":{\"callback\":null},\"id\":\"3b0cfd7f-bb5e-4467-9616-48acd9fcf54f\",\"type\":\"DataRange1d\"},{\"attributes\":{\"bottom_units\":\"screen\",\"fill_alpha\":{\"value\":0.5},\"fill_color\":{\"value\":\"lightgrey\"},\"left_units\":\"screen\",\"level\":\"overlay\",\"line_alpha\":{\"value\":1.0},\"line_color\":{\"value\":\"black\"},\"line_dash\":[4,4],\"line_width\":{\"value\":2},\"plot\":null,\"render_mode\":\"css\",\"right_units\":\"screen\",\"top_units\":\"screen\"},\"id\":\"3f9fe263-5ca3-42ba-a462-4081469cb4c6\",\"type\":\"BoxAnnotation\"},{\"attributes\":{\"children\":[{\"id\":\"222de5e1-fa26-4da8-8923-6cbeb82d8cd3\",\"subtype\":\"Figure\",\"type\":\"Plot\"},{\"id\":\"f70f1152-a9d8-4cc4-b626-677cbabc4407\",\"subtype\":\"Figure\",\"type\":\"Plot\"},{\"id\":\"9f129e71-e45b-48ce-8cc2-272b2d993221\",\"subtype\":\"Figure\",\"type\":\"Plot\"}]},\"id\":\"863d6db1-c732-427b-be09-dcb91aa48773\",\"type\":\"Row\"},{\"attributes\":{},\"id\":\"07e42a85-8bb2-4dba-b2ff-dac7bad85e6a\",\"type\":\"UnionRenderers\"},{\"attributes\":{},\"id\":\"d784b49e-69cf-4e14-b1bc-b380e238a560\",\"type\":\"CategoricalTickFormatter\"},{\"attributes\":{},\"id\":\"d512e6e1-40eb-4b9c-8a02-ff1b1b2d3724\",\"type\":\"BasicTickFormatter\"},{\"attributes\":{},\"id\":\"19fc0cb2-3533-41f5-99d6-ab89fa7e5b62\",\"type\":\"WheelZoomTool\"},{\"attributes\":{\"children\":[{\"id\":\"863d6db1-c732-427b-be09-dcb91aa48773\",\"type\":\"Row\"}]},\"id\":\"5ca66032-8591-4cb2-b3c9-a98dd28a0792\",\"type\":\"Column\"},{\"attributes\":{},\"id\":\"576cb8eb-f981-452d-babc-bde5861e8d6c\",\"type\":\"HelpTool\"},{\"attributes\":{\"children\":[{\"id\":\"5baac35e-9104-40ab-8644-663b2e094e58\",\"type\":\"ToolbarBox\"},{\"id\":\"5ca66032-8591-4cb2-b3c9-a98dd28a0792\",\"type\":\"Column\"}]},\"id\":\"3270a5d6-e1ca-42e4-9865-4ad0db0f2d7a\",\"type\":\"Column\"},{\"attributes\":{\"tools\":[{\"id\":\"e0642025-8ceb-42e2-9b2f-9c11aec6e8ca\",\"type\":\"PanTool\"},{\"id\":\"9fcf543b-b69a-429d-b161-2a741c4b8e66\",\"type\":\"WheelZoomTool\"},{\"id\":\"02cd0e4d-3400-4f27-9b97-ba335eee9cd2\",\"type\":\"BoxZoomTool\"},{\"id\":\"1ceae8d9-311b-4286-b844-da4f87c9ad26\",\"type\":\"SaveTool\"},{\"id\":\"21dee44a-eea7-4c93-8468-b7f31544251e\",\"type\":\"ResetTool\"},{\"id\":\"0e3e28bf-3b34-488e-b9b7-71c9b75cf0c5\",\"type\":\"HelpTool\"},{\"id\":\"bb64cd59-91e4-4d69-8b8f-4a556f5ddb91\",\"type\":\"PanTool\"},{\"id\":\"554cec15-2996-48ba-8568-64e0a5ae11d2\",\"type\":\"WheelZoomTool\"},{\"id\":\"4c218bc4-5a8a-46f7-b763-1d96b3b803f0\",\"type\":\"BoxZoomTool\"},{\"id\":\"0be05515-5f32-4a9a-ae94-1f7ccbfcfbe6\",\"type\":\"SaveTool\"},{\"id\":\"7208a1fd-a82b-45ef-b128-2530faa290fb\",\"type\":\"ResetTool\"},{\"id\":\"33e6af54-cf16-4547-b49d-9d027ece2e95\",\"type\":\"HelpTool\"},{\"id\":\"b1dd7ecb-6bc1-4454-b97b-a690827a9c49\",\"type\":\"PanTool\"},{\"id\":\"19fc0cb2-3533-41f5-99d6-ab89fa7e5b62\",\"type\":\"WheelZoomTool\"},{\"id\":\"9439e73a-cf08-4259-9cab-d3f422157eaf\",\"type\":\"BoxZoomTool\"},{\"id\":\"e70f6372-f46f-45fa-b9f6-c6d25fd79c0f\",\"type\":\"SaveTool\"},{\"id\":\"f5d7e521-873e-4e74-a116-5933ce44e860\",\"type\":\"ResetTool\"},{\"id\":\"576cb8eb-f981-452d-babc-bde5861e8d6c\",\"type\":\"HelpTool\"}]},\"id\":\"c94186ff-c2dc-4119-b6a5-787d228e2493\",\"type\":\"ProxyToolbar\"},{\"attributes\":{\"plot\":{\"id\":\"f70f1152-a9d8-4cc4-b626-677cbabc4407\",\"subtype\":\"Figure\",\"type\":\"Plot\"},\"ticker\":{\"id\":\"6988b057-3509-44ef-9824-49384a507e00\",\"type\":\"CategoricalTicker\"}},\"id\":\"d2a3d970-e8b3-4737-a7b8-2c9d19d8812a\",\"type\":\"Grid\"},{\"attributes\":{},\"id\":\"2299634c-a272-4f54-b77a-5751fa796e65\",\"type\":\"BasicTickFormatter\"},{\"attributes\":{},\"id\":\"ac31052b-462c-45bf-b5bf-d732f916c8cb\",\"type\":\"CategoricalTickFormatter\"},{\"attributes\":{},\"id\":\"efd6f0b5-6438-465a-b19a-401f2a3b53a4\",\"type\":\"LinearScale\"},{\"attributes\":{},\"id\":\"b1dd7ecb-6bc1-4454-b97b-a690827a9c49\",\"type\":\"PanTool\"},{\"attributes\":{\"active_drag\":\"auto\",\"active_inspect\":\"auto\",\"active_scroll\":\"auto\",\"active_tap\":\"auto\",\"tools\":[{\"id\":\"bb64cd59-91e4-4d69-8b8f-4a556f5ddb91\",\"type\":\"PanTool\"},{\"id\":\"554cec15-2996-48ba-8568-64e0a5ae11d2\",\"type\":\"WheelZoomTool\"},{\"id\":\"4c218bc4-5a8a-46f7-b763-1d96b3b803f0\",\"type\":\"BoxZoomTool\"},{\"id\":\"0be05515-5f32-4a9a-ae94-1f7ccbfcfbe6\",\"type\":\"SaveTool\"},{\"id\":\"7208a1fd-a82b-45ef-b128-2530faa290fb\",\"type\":\"ResetTool\"},{\"id\":\"33e6af54-cf16-4547-b49d-9d027ece2e95\",\"type\":\"HelpTool\"}]},\"id\":\"0609286a-8b03-4cb8-a01f-f0424299a432\",\"type\":\"Toolbar\"},{\"attributes\":{\"source\":{\"id\":\"8c5f749b-d476-4caa-ae09-eaf5597c0f6a\",\"type\":\"ColumnDataSource\"}},\"id\":\"f27b6434-54da-46a5-8fe3-ce3b4787dc21\",\"type\":\"CDSView\"},{\"attributes\":{},\"id\":\"6988b057-3509-44ef-9824-49384a507e00\",\"type\":\"CategoricalTicker\"},{\"attributes\":{},\"id\":\"e0642025-8ceb-42e2-9b2f-9c11aec6e8ca\",\"type\":\"PanTool\"},{\"attributes\":{},\"id\":\"e503a1a7-1333-4e21-b451-03d52b00bfb3\",\"type\":\"BasicTickFormatter\"},{\"attributes\":{},\"id\":\"f5d7e521-873e-4e74-a116-5933ce44e860\",\"type\":\"ResetTool\"},{\"attributes\":{\"below\":[{\"id\":\"53a2b270-105a-4b6f-9305-b5da4dcf98a8\",\"type\":\"CategoricalAxis\"}],\"left\":[{\"id\":\"3e3994dc-790c-4a00-a26a-39fe88739a3a\",\"type\":\"LinearAxis\"}],\"plot_height\":300,\"plot_width\":300,\"renderers\":[{\"id\":\"53a2b270-105a-4b6f-9305-b5da4dcf98a8\",\"type\":\"CategoricalAxis\"},{\"id\":\"a97256b4-8a5f-41c2-88e6-8cdc001077bd\",\"type\":\"Grid\"},{\"id\":\"3e3994dc-790c-4a00-a26a-39fe88739a3a\",\"type\":\"LinearAxis\"},{\"id\":\"89f5328a-ac97-4da0-a16d-2261e9a0eddf\",\"type\":\"Grid\"},{\"id\":\"a20c7860-2a2d-49af-9d66-112ce8988f37\",\"type\":\"BoxAnnotation\"},{\"id\":\"3eade55e-49ca-4247-9fed-2fc601d39a4f\",\"type\":\"GlyphRenderer\"}],\"title\":{\"id\":\"d1a88397-6541-465b-92db-3045299565b3\",\"type\":\"Title\"},\"toolbar\":{\"id\":\"d9f454dd-2089-4b35-8527-9b69ecbd2917\",\"type\":\"Toolbar\"},\"toolbar_location\":null,\"x_range\":{\"id\":\"3ee4ec29-f176-4d5f-8274-e7a42e7a38bb\",\"type\":\"FactorRange\"},\"x_scale\":{\"id\":\"2b271be1-8638-4b5d-8f17-a8a342bbdd66\",\"type\":\"CategoricalScale\"},\"y_range\":{\"id\":\"52251e24-792e-4309-b5ba-418c6fe8c257\",\"type\":\"DataRange1d\"},\"y_scale\":{\"id\":\"994dc612-05e8-4bf9-ad55-e6d4e837ec0a\",\"type\":\"LinearScale\"}},\"id\":\"9f129e71-e45b-48ce-8cc2-272b2d993221\",\"subtype\":\"Figure\",\"type\":\"Plot\"},{\"attributes\":{\"source\":{\"id\":\"aa8b7fcd-7be7-4189-8aa1-f9b50f568f2d\",\"type\":\"ColumnDataSource\"}},\"id\":\"0c5b3194-0140-4629-a81a-767cc9592c1b\",\"type\":\"CDSView\"},{\"attributes\":{\"fill_color\":{\"value\":\"#1f77b4\"},\"line_color\":{\"value\":\"#1f77b4\"},\"top\":{\"field\":\"flux\"},\"width\":{\"value\":0.9},\"x\":{\"field\":\"band\"}},\"id\":\"b9c4dec3-46dc-4af0-ace2-9ca2463e98b9\",\"type\":\"VBar\"},{\"attributes\":{\"source\":{\"id\":\"8a843206-c41c-4b99-b0e6-ad71f73ba100\",\"type\":\"ColumnDataSource\"}},\"id\":\"1402d628-2db2-4683-8e70-8ad55bc60407\",\"type\":\"CDSView\"},{\"attributes\":{},\"id\":\"0be05515-5f32-4a9a-ae94-1f7ccbfcfbe6\",\"type\":\"SaveTool\"},{\"attributes\":{},\"id\":\"ff4415f6-9e06-4391-9467-9bfe6bd704f2\",\"type\":\"CategoricalTicker\"},{\"attributes\":{\"callback\":null},\"id\":\"52251e24-792e-4309-b5ba-418c6fe8c257\",\"type\":\"DataRange1d\"},{\"attributes\":{\"plot\":null,\"text\":\"Atmosphere heating. CLIRAD - CRD.\"},\"id\":\"d1a88397-6541-465b-92db-3045299565b3\",\"type\":\"Title\"},{\"attributes\":{},\"id\":\"67d63394-6f16-4da2-882b-e158f692f674\",\"type\":\"BasicTicker\"},{\"attributes\":{},\"id\":\"994dc612-05e8-4bf9-ad55-e6d4e837ec0a\",\"type\":\"LinearScale\"},{\"attributes\":{},\"id\":\"4868247d-dd70-428c-9232-52ffd46a10d4\",\"type\":\"BasicTicker\"},{\"attributes\":{\"plot\":{\"id\":\"9f129e71-e45b-48ce-8cc2-272b2d993221\",\"subtype\":\"Figure\",\"type\":\"Plot\"},\"ticker\":{\"id\":\"d4c21863-3d81-468a-b802-07a698b48426\",\"type\":\"CategoricalTicker\"}},\"id\":\"a97256b4-8a5f-41c2-88e6-8cdc001077bd\",\"type\":\"Grid\"},{\"attributes\":{\"dimension\":1,\"plot\":{\"id\":\"9f129e71-e45b-48ce-8cc2-272b2d993221\",\"subtype\":\"Figure\",\"type\":\"Plot\"},\"ticker\":{\"id\":\"8c957703-485e-4ce9-a3d6-909a675176d4\",\"type\":\"BasicTicker\"}},\"id\":\"89f5328a-ac97-4da0-a16d-2261e9a0eddf\",\"type\":\"Grid\"},{\"attributes\":{},\"id\":\"72666018-cc92-47cf-ae79-9d635ed8f2ae\",\"type\":\"UnionRenderers\"},{\"attributes\":{\"fill_color\":{\"value\":\"#1f77b4\"},\"line_color\":{\"value\":\"#1f77b4\"},\"top\":{\"field\":\"flux\"},\"width\":{\"value\":0.9},\"x\":{\"field\":\"band\"}},\"id\":\"89e65d77-6f31-4f1a-b7ed-ecfd834aede4\",\"type\":\"VBar\"},{\"attributes\":{},\"id\":\"554cec15-2996-48ba-8568-64e0a5ae11d2\",\"type\":\"WheelZoomTool\"},{\"attributes\":{\"axis_label\":\"spectral band\",\"formatter\":{\"id\":\"c5be1f80-a23f-492c-809e-e42d9e9fec2c\",\"type\":\"CategoricalTickFormatter\"},\"plot\":{\"id\":\"222de5e1-fa26-4da8-8923-6cbeb82d8cd3\",\"subtype\":\"Figure\",\"type\":\"Plot\"},\"ticker\":{\"id\":\"ff4415f6-9e06-4391-9467-9bfe6bd704f2\",\"type\":\"CategoricalTicker\"}},\"id\":\"120d0453-1c4a-4a40-9b14-8eb398a1bca4\",\"type\":\"CategoricalAxis\"},{\"attributes\":{},\"id\":\"bb64cd59-91e4-4d69-8b8f-4a556f5ddb91\",\"type\":\"PanTool\"},{\"attributes\":{\"callback\":null},\"id\":\"2076dca2-8ea3-4bea-a88d-d422738b39ef\",\"type\":\"DataRange1d\"},{\"attributes\":{},\"id\":\"d4c21863-3d81-468a-b802-07a698b48426\",\"type\":\"CategoricalTicker\"},{\"attributes\":{\"fill_alpha\":{\"value\":0.1},\"fill_color\":{\"value\":\"#1f77b4\"},\"line_alpha\":{\"value\":0.1},\"line_color\":{\"value\":\"#1f77b4\"},\"top\":{\"field\":\"flux\"},\"width\":{\"value\":0.9},\"x\":{\"field\":\"band\"}},\"id\":\"f4be4b24-d0e4-48be-951e-4f82431dc96c\",\"type\":\"VBar\"},{\"attributes\":{\"callback\":null,\"factors\":[\"1\",\"2\",\"3\",\"4\",\"5\",\"6\",\"7\",\"8\",\"9\",\"10\",\"11\"]},\"id\":\"caa3bb7d-c346-4632-aab2-d93a59e37330\",\"type\":\"FactorRange\"},{\"attributes\":{\"plot\":{\"id\":\"222de5e1-fa26-4da8-8923-6cbeb82d8cd3\",\"subtype\":\"Figure\",\"type\":\"Plot\"},\"ticker\":{\"id\":\"ff4415f6-9e06-4391-9467-9bfe6bd704f2\",\"type\":\"CategoricalTicker\"}},\"id\":\"ec63ef7b-37b1-4027-9373-0888b5627e14\",\"type\":\"Grid\"},{\"attributes\":{\"axis_label\":\"spectral band\",\"formatter\":{\"id\":\"ac31052b-462c-45bf-b5bf-d732f916c8cb\",\"type\":\"CategoricalTickFormatter\"},\"plot\":{\"id\":\"9f129e71-e45b-48ce-8cc2-272b2d993221\",\"subtype\":\"Figure\",\"type\":\"Plot\"},\"ticker\":{\"id\":\"d4c21863-3d81-468a-b802-07a698b48426\",\"type\":\"CategoricalTicker\"}},\"id\":\"53a2b270-105a-4b6f-9305-b5da4dcf98a8\",\"type\":\"CategoricalAxis\"},{\"attributes\":{\"bottom_units\":\"screen\",\"fill_alpha\":{\"value\":0.5},\"fill_color\":{\"value\":\"lightgrey\"},\"left_units\":\"screen\",\"level\":\"overlay\",\"line_alpha\":{\"value\":1.0},\"line_color\":{\"value\":\"black\"},\"line_dash\":[4,4],\"line_width\":{\"value\":2},\"plot\":null,\"render_mode\":\"css\",\"right_units\":\"screen\",\"top_units\":\"screen\"},\"id\":\"a2255544-e51e-43b6-b42e-77b4b3c976c3\",\"type\":\"BoxAnnotation\"},{\"attributes\":{\"fill_color\":{\"value\":\"#1f77b4\"},\"line_color\":{\"value\":\"#1f77b4\"},\"top\":{\"field\":\"flux\"},\"width\":{\"value\":0.9},\"x\":{\"field\":\"band\"}},\"id\":\"0b6256a2-295d-429a-8034-8ff17be6a7c8\",\"type\":\"VBar\"},{\"attributes\":{},\"id\":\"7208a1fd-a82b-45ef-b128-2530faa290fb\",\"type\":\"ResetTool\"},{\"attributes\":{\"callback\":null,\"factors\":[\"1\",\"2\",\"3\",\"4\",\"5\",\"6\",\"7\",\"8\",\"9\",\"10\",\"11\"]},\"id\":\"3ee4ec29-f176-4d5f-8274-e7a42e7a38bb\",\"type\":\"FactorRange\"},{\"attributes\":{\"active_drag\":\"auto\",\"active_inspect\":\"auto\",\"active_scroll\":\"auto\",\"active_tap\":\"auto\",\"tools\":[{\"id\":\"b1dd7ecb-6bc1-4454-b97b-a690827a9c49\",\"type\":\"PanTool\"},{\"id\":\"19fc0cb2-3533-41f5-99d6-ab89fa7e5b62\",\"type\":\"WheelZoomTool\"},{\"id\":\"9439e73a-cf08-4259-9cab-d3f422157eaf\",\"type\":\"BoxZoomTool\"},{\"id\":\"e70f6372-f46f-45fa-b9f6-c6d25fd79c0f\",\"type\":\"SaveTool\"},{\"id\":\"f5d7e521-873e-4e74-a116-5933ce44e860\",\"type\":\"ResetTool\"},{\"id\":\"576cb8eb-f981-452d-babc-bde5861e8d6c\",\"type\":\"HelpTool\"}]},\"id\":\"d9f454dd-2089-4b35-8527-9b69ecbd2917\",\"type\":\"Toolbar\"},{\"attributes\":{\"axis_label\":\"flux (W m-2)\",\"formatter\":{\"id\":\"e503a1a7-1333-4e21-b451-03d52b00bfb3\",\"type\":\"BasicTickFormatter\"},\"plot\":{\"id\":\"9f129e71-e45b-48ce-8cc2-272b2d993221\",\"subtype\":\"Figure\",\"type\":\"Plot\"},\"ticker\":{\"id\":\"8c957703-485e-4ce9-a3d6-909a675176d4\",\"type\":\"BasicTicker\"}},\"id\":\"3e3994dc-790c-4a00-a26a-39fe88739a3a\",\"type\":\"LinearAxis\"},{\"attributes\":{\"active_drag\":\"auto\",\"active_inspect\":\"auto\",\"active_scroll\":\"auto\",\"active_tap\":\"auto\",\"tools\":[{\"id\":\"e0642025-8ceb-42e2-9b2f-9c11aec6e8ca\",\"type\":\"PanTool\"},{\"id\":\"9fcf543b-b69a-429d-b161-2a741c4b8e66\",\"type\":\"WheelZoomTool\"},{\"id\":\"02cd0e4d-3400-4f27-9b97-ba335eee9cd2\",\"type\":\"BoxZoomTool\"},{\"id\":\"1ceae8d9-311b-4286-b844-da4f87c9ad26\",\"type\":\"SaveTool\"},{\"id\":\"21dee44a-eea7-4c93-8468-b7f31544251e\",\"type\":\"ResetTool\"},{\"id\":\"0e3e28bf-3b34-488e-b9b7-71c9b75cf0c5\",\"type\":\"HelpTool\"}]},\"id\":\"2996071c-3c83-41a8-b349-f2769ecc04d9\",\"type\":\"Toolbar\"},{\"attributes\":{},\"id\":\"494871eb-e363-44da-92c2-e6089d763769\",\"type\":\"LinearScale\"},{\"attributes\":{},\"id\":\"33e6af54-cf16-4547-b49d-9d027ece2e95\",\"type\":\"HelpTool\"},{\"attributes\":{\"dimension\":1,\"plot\":{\"id\":\"f70f1152-a9d8-4cc4-b626-677cbabc4407\",\"subtype\":\"Figure\",\"type\":\"Plot\"},\"ticker\":{\"id\":\"67d63394-6f16-4da2-882b-e158f692f674\",\"type\":\"BasicTicker\"}},\"id\":\"436d73c6-2eca-4956-9e28-eb523eac9929\",\"type\":\"Grid\"},{\"attributes\":{\"fill_alpha\":{\"value\":0.1},\"fill_color\":{\"value\":\"#1f77b4\"},\"line_alpha\":{\"value\":0.1},\"line_color\":{\"value\":\"#1f77b4\"},\"top\":{\"field\":\"flux\"},\"width\":{\"value\":0.9},\"x\":{\"field\":\"band\"}},\"id\":\"d7a98ce3-fef0-4582-8000-eedc483e1f76\",\"type\":\"VBar\"},{\"attributes\":{},\"id\":\"334b729c-210d-422f-a4c4-d66d9f3646b6\",\"type\":\"CategoricalScale\"},{\"attributes\":{},\"id\":\"1ceae8d9-311b-4286-b844-da4f87c9ad26\",\"type\":\"SaveTool\"},{\"attributes\":{},\"id\":\"2b271be1-8638-4b5d-8f17-a8a342bbdd66\",\"type\":\"CategoricalScale\"},{\"attributes\":{\"below\":[{\"id\":\"949f6283-50ca-40f0-9f13-c9cda1d5c686\",\"type\":\"CategoricalAxis\"}],\"left\":[{\"id\":\"1e0df921-a077-45a3-8955-f5f04a38c7e4\",\"type\":\"LinearAxis\"}],\"plot_height\":300,\"plot_width\":300,\"renderers\":[{\"id\":\"949f6283-50ca-40f0-9f13-c9cda1d5c686\",\"type\":\"CategoricalAxis\"},{\"id\":\"d2a3d970-e8b3-4737-a7b8-2c9d19d8812a\",\"type\":\"Grid\"},{\"id\":\"1e0df921-a077-45a3-8955-f5f04a38c7e4\",\"type\":\"LinearAxis\"},{\"id\":\"436d73c6-2eca-4956-9e28-eb523eac9929\",\"type\":\"Grid\"},{\"id\":\"a2255544-e51e-43b6-b42e-77b4b3c976c3\",\"type\":\"BoxAnnotation\"},{\"id\":\"24533557-5d08-4d78-8a6c-65fb3f89ffff\",\"type\":\"GlyphRenderer\"}],\"title\":{\"id\":\"cac1d061-0dc2-4dc8-8fd1-0398c50bc336\",\"type\":\"Title\"},\"toolbar\":{\"id\":\"0609286a-8b03-4cb8-a01f-f0424299a432\",\"type\":\"Toolbar\"},\"toolbar_location\":null,\"x_range\":{\"id\":\"6f3394c6-3cbf-4065-9d9b-389a1ecd6431\",\"type\":\"FactorRange\"},\"x_scale\":{\"id\":\"46498780-fb91-478e-b852-1808fb09e402\",\"type\":\"CategoricalScale\"},\"y_range\":{\"id\":\"3b0cfd7f-bb5e-4467-9616-48acd9fcf54f\",\"type\":\"DataRange1d\"},\"y_scale\":{\"id\":\"efd6f0b5-6438-465a-b19a-401f2a3b53a4\",\"type\":\"LinearScale\"}},\"id\":\"f70f1152-a9d8-4cc4-b626-677cbabc4407\",\"subtype\":\"Figure\",\"type\":\"Plot\"},{\"attributes\":{\"fill_alpha\":{\"value\":0.1},\"fill_color\":{\"value\":\"#1f77b4\"},\"line_alpha\":{\"value\":0.1},\"line_color\":{\"value\":\"#1f77b4\"},\"top\":{\"field\":\"flux\"},\"width\":{\"value\":0.9},\"x\":{\"field\":\"band\"}},\"id\":\"cbec5d5e-056a-4579-976c-ccfde8007cd3\",\"type\":\"VBar\"},{\"attributes\":{\"overlay\":{\"id\":\"3f9fe263-5ca3-42ba-a462-4081469cb4c6\",\"type\":\"BoxAnnotation\"}},\"id\":\"02cd0e4d-3400-4f27-9b97-ba335eee9cd2\",\"type\":\"BoxZoomTool\"},{\"attributes\":{\"axis_label\":\"flux (W m-2)\",\"formatter\":{\"id\":\"d512e6e1-40eb-4b9c-8a02-ff1b1b2d3724\",\"type\":\"BasicTickFormatter\"},\"plot\":{\"id\":\"222de5e1-fa26-4da8-8923-6cbeb82d8cd3\",\"subtype\":\"Figure\",\"type\":\"Plot\"},\"ticker\":{\"id\":\"4868247d-dd70-428c-9232-52ffd46a10d4\",\"type\":\"BasicTicker\"}},\"id\":\"de4df4f8-ce90-4a07-b258-d9479b1b6a13\",\"type\":\"LinearAxis\"},{\"attributes\":{\"dimension\":1,\"plot\":{\"id\":\"222de5e1-fa26-4da8-8923-6cbeb82d8cd3\",\"subtype\":\"Figure\",\"type\":\"Plot\"},\"ticker\":{\"id\":\"4868247d-dd70-428c-9232-52ffd46a10d4\",\"type\":\"BasicTicker\"}},\"id\":\"abdfb8a0-595b-45bb-aac0-f0374c03eb95\",\"type\":\"Grid\"},{\"attributes\":{},\"id\":\"8c957703-485e-4ce9-a3d6-909a675176d4\",\"type\":\"BasicTicker\"},{\"attributes\":{},\"id\":\"9fcf543b-b69a-429d-b161-2a741c4b8e66\",\"type\":\"WheelZoomTool\"},{\"attributes\":{\"overlay\":{\"id\":\"a2255544-e51e-43b6-b42e-77b4b3c976c3\",\"type\":\"BoxAnnotation\"}},\"id\":\"4c218bc4-5a8a-46f7-b763-1d96b3b803f0\",\"type\":\"BoxZoomTool\"},{\"attributes\":{\"data_source\":{\"id\":\"8a843206-c41c-4b99-b0e6-ad71f73ba100\",\"type\":\"ColumnDataSource\"},\"glyph\":{\"id\":\"0b6256a2-295d-429a-8034-8ff17be6a7c8\",\"type\":\"VBar\"},\"hover_glyph\":null,\"muted_glyph\":null,\"nonselection_glyph\":{\"id\":\"d7a98ce3-fef0-4582-8000-eedc483e1f76\",\"type\":\"VBar\"},\"selection_glyph\":null,\"view\":{\"id\":\"1402d628-2db2-4683-8e70-8ad55bc60407\",\"type\":\"CDSView\"}},\"id\":\"24533557-5d08-4d78-8a6c-65fb3f89ffff\",\"type\":\"GlyphRenderer\"}],\"root_ids\":[\"3270a5d6-e1ca-42e4-9865-4ad0db0f2d7a\"]},\"title\":\"Bokeh Application\",\"version\":\"0.12.16\"}};\n",
       "  var render_items = [{\"docid\":\"f4459575-c028-4e98-b649-8c16e35bb98d\",\"elementid\":\"6ff5237e-c4ef-4f95-ba03-b514c945f052\",\"modelid\":\"3270a5d6-e1ca-42e4-9865-4ad0db0f2d7a\"}];\n",
       "  root.Bokeh.embed.embed_items_notebook(docs_json, render_items);\n",
       "\n",
       "  }\n",
       "  if (root.Bokeh !== undefined) {\n",
       "    embed_document(root);\n",
       "  } else {\n",
       "    var attempts = 0;\n",
       "    var timer = setInterval(function(root) {\n",
       "      if (root.Bokeh !== undefined) {\n",
       "        embed_document(root);\n",
       "        clearInterval(timer);\n",
       "      }\n",
       "      attempts++;\n",
       "      if (attempts > 100) {\n",
       "        console.log(\"Bokeh: ERROR: Unable to run BokehJS code because BokehJS library is missing\")\n",
       "        clearInterval(timer);\n",
       "      }\n",
       "    }, 10, root)\n",
       "  }\n",
       "})(window);"
      ],
      "application/vnd.bokehjs_exec.v0+json": ""
     },
     "metadata": {
      "application/vnd.bokehjs_exec.v0+json": {
       "id": "3270a5d6-e1ca-42e4-9865-4ad0db0f2d7a"
      }
     },
     "output_type": "display_data"
    },
    {
     "data": {
      "text/markdown": [
       "*FIGURE.* Difference between CLIRAD and CRD in TOA, SFC and net atmosphere flux, in each spectral band."
      ],
      "text/plain": [
       "<IPython.core.display.Markdown object>"
      ]
     },
     "metadata": {},
     "output_type": "display_data"
    },
    {
     "data": {
      "text/html": [
       "<div>\n",
       "<style scoped>\n",
       "    .dataframe tbody tr th:only-of-type {\n",
       "        vertical-align: middle;\n",
       "    }\n",
       "\n",
       "    .dataframe tbody tr th {\n",
       "        vertical-align: top;\n",
       "    }\n",
       "\n",
       "    .dataframe thead th {\n",
       "        text-align: right;\n",
       "    }\n",
       "</style>\n",
       "<table border=\"1\" class=\"dataframe\">\n",
       "  <thead>\n",
       "    <tr style=\"text-align: right;\">\n",
       "      <th></th>\n",
       "      <th>OLR flux</th>\n",
       "      <th>SFC flux</th>\n",
       "      <th>ATM heating</th>\n",
       "    </tr>\n",
       "    <tr>\n",
       "      <th>Summed over bands</th>\n",
       "      <th></th>\n",
       "      <th></th>\n",
       "      <th></th>\n",
       "    </tr>\n",
       "  </thead>\n",
       "  <tbody>\n",
       "    <tr>\n",
       "      <th>CLIRAD - CRD</th>\n",
       "      <td>1.48</td>\n",
       "      <td>1.61</td>\n",
       "      <td>-0.13</td>\n",
       "    </tr>\n",
       "    <tr>\n",
       "      <th>CRD</th>\n",
       "      <td>-303.40</td>\n",
       "      <td>337.24</td>\n",
       "      <td>-181.37</td>\n",
       "    </tr>\n",
       "  </tbody>\n",
       "</table>\n",
       "</div>"
      ],
      "text/plain": [
       "                   OLR flux  SFC flux  ATM heating\n",
       "Summed over bands                                 \n",
       "CLIRAD - CRD           1.48      1.61        -0.13\n",
       "CRD                 -303.40    337.24      -181.37"
      ]
     },
     "metadata": {},
     "output_type": "display_data"
    },
    {
     "data": {
      "text/markdown": [
       "*TABLE.* Difference between CLIRAD and CRD in TOA, SFC and net atmosphere flux, over all spectral bands. CRD's TOA, SFC and net atmosphere flux, over all spectral bands."
      ],
      "text/plain": [
       "<IPython.core.display.Markdown object>"
      ]
     },
     "metadata": {},
     "output_type": "display_data"
    }
   ],
   "source": [
    "def show_html(s):\n",
    "    display.display(display.HTML(s))\n",
    "\n",
    "    \n",
    "def show_markdown(s):\n",
    "    display.display(display.Markdown(s))\n",
    "\n",
    "\n",
    "def script():\n",
    "    \n",
    "    d_atm = {'mls': 'mid-latitude summer',\n",
    "             'saw': 'sub-arctic winter',\n",
    "             'trp': 'tropical'}\n",
    "    \n",
    "    title = ('## Results over entire range of molecules'\n",
    "             ' and spectral bands')\n",
    "    \n",
    "    s_makeup = 'Makeup of atmosphere.'\n",
    "    s_atmpro = '# {}'\n",
    "    s_cool = 'Cooling rates. {}.'\n",
    "    s_flux = 'Fluxes. {}.'\n",
    "    \n",
    "    atmpros = ['mls', 'saw', 'trp']\n",
    "    \n",
    "    # TOC\n",
    "    show_markdown(title)\n",
    "    show_markdown('### Table of Contents')\n",
    "    show_html(climahtml.getHTML_hrefanchor(s_makeup))\n",
    "    for atmpro in atmpros:\n",
    "        show_markdown('**' + d_atm[atmpro] + '**')\n",
    "        show_html(climahtml.getHTML_hrefanchor(s_cool.format(atmpro)))\n",
    "        show_html(climahtml.getHTML_hrefanchor(s_flux.format(atmpro)))\n",
    "\n",
    "        \n",
    "    # Atmosphere makeup\n",
    "    show_html(climahtml.getHTML_idanchor(s_makeup))\n",
    "    show_markdown(climahtml.getMarkdown_sectitle(s_makeup))\n",
    "    show_makeup()\n",
    "        \n",
    "    for atmpro in atmpros:\n",
    "        show_html(climahtml.getHTML_idanchor(s_cool.format(atmpro)))\n",
    "        show_markdown(\n",
    "            climahtml.getMarkdown_sectitle(s_cool.format(atmpro)))\n",
    "        show_cool(atmpro=atmpro)\n",
    "        show_html(climahtml.getHTML_idanchor(s_flux.format(atmpro)))\n",
    "        show_markdown(\n",
    "            climahtml.getMarkdown_sectitle(s_flux.format(atmpro)))\n",
    "        show_hist_flux(atmpro=atmpro)\n",
    "        show_tb_flux(atmpro=atmpro)\n",
    "    \n",
    "    \n",
    "script()  "
   ]
  },
  {
   "cell_type": "code",
   "execution_count": null,
   "metadata": {
    "collapsed": true
   },
   "outputs": [],
   "source": []
  },
  {
   "cell_type": "code",
   "execution_count": 743,
   "metadata": {},
   "outputs": [
    {
     "data": {
      "text/html": [
       "<script>\n",
       "code_show=true; \n",
       "function code_toggle() {\n",
       " if (code_show){\n",
       " $('div.input').hide();\n",
       " } else {\n",
       " $('div.input').show();\n",
       " }\n",
       " code_show = !code_show\n",
       "} \n",
       "$( document ).ready(code_toggle);\n",
       "</script>\n",
       "<form action=\"javascript:code_toggle()\"><input type=\"submit\" value=\"Click here to toggle on/off the raw code.\"></form>"
      ],
      "text/plain": [
       "<IPython.core.display.HTML object>"
      ]
     },
     "execution_count": 743,
     "metadata": {},
     "output_type": "execute_result"
    }
   ],
   "source": [
    "display.HTML('''<script>\n",
    "code_show=true; \n",
    "function code_toggle() {\n",
    " if (code_show){\n",
    " $('div.input').hide();\n",
    " } else {\n",
    " $('div.input').show();\n",
    " }\n",
    " code_show = !code_show\n",
    "} \n",
    "$( document ).ready(code_toggle);\n",
    "</script>\n",
    "<form action=\"javascript:code_toggle()\"><input type=\"submit\" value=\"Click here to toggle on/off the raw code.\"></form>''')"
   ]
  },
  {
   "cell_type": "code",
   "execution_count": null,
   "metadata": {
    "collapsed": true
   },
   "outputs": [],
   "source": []
  }
 ],
 "metadata": {
  "kernelspec": {
   "display_name": "Python 3",
   "language": "python",
   "name": "python3"
  },
  "language_info": {
   "codemirror_mode": {
    "name": "ipython",
    "version": 3
   },
   "file_extension": ".py",
   "mimetype": "text/x-python",
   "name": "python",
   "nbconvert_exporter": "python",
   "pygments_lexer": "ipython3",
   "version": "3.6.1"
  }
 },
 "nbformat": 4,
 "nbformat_minor": 2
}
