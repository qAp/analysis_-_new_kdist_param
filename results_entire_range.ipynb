{
 "cells": [
  {
   "cell_type": "code",
   "execution_count": 255,
   "metadata": {
    "collapsed": true
   },
   "outputs": [],
   "source": [
    "import os\n",
    "import ast\n",
    "import json\n",
    "import importlib \n",
    "import itertools\n",
    "import collections\n",
    "import pprint\n",
    "\n",
    "from bokeh.io import output_notebook, show\n",
    "from bokeh.layouts import gridplot\n",
    "from bokeh.plotting import figure\n",
    "from bokeh.models import Range1d, Legend, ColumnDataSource, FactorRange\n",
    "from bokeh.palettes import all_palettes\n",
    "from bokeh.transform import factor_cmap\n",
    "\n",
    "import matplotlib\n",
    "import matplotlib.pyplot as plt\n",
    "import numpy as np\n",
    "import pandas as pd\n",
    "import xarray as xr\n",
    "\n",
    "\n",
    "import climatools.lblnew.bestfit_params as bestfits\n",
    "from climatools.lblnew import setup_bestfit, setup_overlap\n",
    "import climatools.lblnew.pipeline as pipe_lblnew\n",
    "import climatools.cliradlw.setup as setup_cliradlw\n",
    "import climatools.cliradlw.pipeline as pipe_cliradlw\n",
    "\n",
    "import climatools.html.html as climahtml\n",
    "from climatools.lblnew.dataio import *\n",
    "from climatools.plot.plot import *\n",
    "\n",
    "\n",
    "from IPython import display\n",
    "\n",
    "#importlib.reload(bestfits)\n",
    "#importlib.reload(setup_bestfit)\n",
    "#importlib.reload(setup_overlap)\n",
    "#importlib.reload(pipe_lblnew)\n",
    "#importlib.reload(setup_cliradlw)\n",
    "#importlib.reload(pipe_cliradlw)"
   ]
  },
  {
   "cell_type": "code",
   "execution_count": 256,
   "metadata": {},
   "outputs": [
    {
     "data": {
      "text/html": [
       "\n",
       "    <div class=\"bk-root\">\n",
       "        <a href=\"https://bokeh.pydata.org\" target=\"_blank\" class=\"bk-logo bk-logo-small bk-logo-notebook\"></a>\n",
       "        <span id=\"ba247d07-a5d4-4a50-a6f7-921ddf5b440c\">Loading BokehJS ...</span>\n",
       "    </div>"
      ]
     },
     "metadata": {},
     "output_type": "display_data"
    },
    {
     "data": {
      "application/javascript": [
       "\n",
       "(function(root) {\n",
       "  function now() {\n",
       "    return new Date();\n",
       "  }\n",
       "\n",
       "  var force = true;\n",
       "\n",
       "  if (typeof (root._bokeh_onload_callbacks) === \"undefined\" || force === true) {\n",
       "    root._bokeh_onload_callbacks = [];\n",
       "    root._bokeh_is_loading = undefined;\n",
       "  }\n",
       "\n",
       "  var JS_MIME_TYPE = 'application/javascript';\n",
       "  var HTML_MIME_TYPE = 'text/html';\n",
       "  var EXEC_MIME_TYPE = 'application/vnd.bokehjs_exec.v0+json';\n",
       "  var CLASS_NAME = 'output_bokeh rendered_html';\n",
       "\n",
       "  /**\n",
       "   * Render data to the DOM node\n",
       "   */\n",
       "  function render(props, node) {\n",
       "    var script = document.createElement(\"script\");\n",
       "    node.appendChild(script);\n",
       "  }\n",
       "\n",
       "  /**\n",
       "   * Handle when an output is cleared or removed\n",
       "   */\n",
       "  function handleClearOutput(event, handle) {\n",
       "    var cell = handle.cell;\n",
       "\n",
       "    var id = cell.output_area._bokeh_element_id;\n",
       "    var server_id = cell.output_area._bokeh_server_id;\n",
       "    // Clean up Bokeh references\n",
       "    if (id !== undefined) {\n",
       "      Bokeh.index[id].model.document.clear();\n",
       "      delete Bokeh.index[id];\n",
       "    }\n",
       "\n",
       "    if (server_id !== undefined) {\n",
       "      // Clean up Bokeh references\n",
       "      var cmd = \"from bokeh.io.state import curstate; print(curstate().uuid_to_server['\" + server_id + \"'].get_sessions()[0].document.roots[0]._id)\";\n",
       "      cell.notebook.kernel.execute(cmd, {\n",
       "        iopub: {\n",
       "          output: function(msg) {\n",
       "            var element_id = msg.content.text.trim();\n",
       "            Bokeh.index[element_id].model.document.clear();\n",
       "            delete Bokeh.index[element_id];\n",
       "          }\n",
       "        }\n",
       "      });\n",
       "      // Destroy server and session\n",
       "      var cmd = \"import bokeh.io.notebook as ion; ion.destroy_server('\" + server_id + \"')\";\n",
       "      cell.notebook.kernel.execute(cmd);\n",
       "    }\n",
       "  }\n",
       "\n",
       "  /**\n",
       "   * Handle when a new output is added\n",
       "   */\n",
       "  function handleAddOutput(event, handle) {\n",
       "    var output_area = handle.output_area;\n",
       "    var output = handle.output;\n",
       "\n",
       "    // limit handleAddOutput to display_data with EXEC_MIME_TYPE content only\n",
       "    if ((output.output_type != \"display_data\") || (!output.data.hasOwnProperty(EXEC_MIME_TYPE))) {\n",
       "      return\n",
       "    }\n",
       "\n",
       "    var toinsert = output_area.element.find(\".\" + CLASS_NAME.split(' ')[0]);\n",
       "\n",
       "    if (output.metadata[EXEC_MIME_TYPE][\"id\"] !== undefined) {\n",
       "      toinsert[toinsert.length - 1].firstChild.textContent = output.data[JS_MIME_TYPE];\n",
       "      // store reference to embed id on output_area\n",
       "      output_area._bokeh_element_id = output.metadata[EXEC_MIME_TYPE][\"id\"];\n",
       "    }\n",
       "    if (output.metadata[EXEC_MIME_TYPE][\"server_id\"] !== undefined) {\n",
       "      var bk_div = document.createElement(\"div\");\n",
       "      bk_div.innerHTML = output.data[HTML_MIME_TYPE];\n",
       "      var script_attrs = bk_div.children[0].attributes;\n",
       "      for (var i = 0; i < script_attrs.length; i++) {\n",
       "        toinsert[toinsert.length - 1].firstChild.setAttribute(script_attrs[i].name, script_attrs[i].value);\n",
       "      }\n",
       "      // store reference to server id on output_area\n",
       "      output_area._bokeh_server_id = output.metadata[EXEC_MIME_TYPE][\"server_id\"];\n",
       "    }\n",
       "  }\n",
       "\n",
       "  function register_renderer(events, OutputArea) {\n",
       "\n",
       "    function append_mime(data, metadata, element) {\n",
       "      // create a DOM node to render to\n",
       "      var toinsert = this.create_output_subarea(\n",
       "        metadata,\n",
       "        CLASS_NAME,\n",
       "        EXEC_MIME_TYPE\n",
       "      );\n",
       "      this.keyboard_manager.register_events(toinsert);\n",
       "      // Render to node\n",
       "      var props = {data: data, metadata: metadata[EXEC_MIME_TYPE]};\n",
       "      render(props, toinsert[toinsert.length - 1]);\n",
       "      element.append(toinsert);\n",
       "      return toinsert\n",
       "    }\n",
       "\n",
       "    /* Handle when an output is cleared or removed */\n",
       "    events.on('clear_output.CodeCell', handleClearOutput);\n",
       "    events.on('delete.Cell', handleClearOutput);\n",
       "\n",
       "    /* Handle when a new output is added */\n",
       "    events.on('output_added.OutputArea', handleAddOutput);\n",
       "\n",
       "    /**\n",
       "     * Register the mime type and append_mime function with output_area\n",
       "     */\n",
       "    OutputArea.prototype.register_mime_type(EXEC_MIME_TYPE, append_mime, {\n",
       "      /* Is output safe? */\n",
       "      safe: true,\n",
       "      /* Index of renderer in `output_area.display_order` */\n",
       "      index: 0\n",
       "    });\n",
       "  }\n",
       "\n",
       "  // register the mime type if in Jupyter Notebook environment and previously unregistered\n",
       "  if (root.Jupyter !== undefined) {\n",
       "    var events = require('base/js/events');\n",
       "    var OutputArea = require('notebook/js/outputarea').OutputArea;\n",
       "\n",
       "    if (OutputArea.prototype.mime_types().indexOf(EXEC_MIME_TYPE) == -1) {\n",
       "      register_renderer(events, OutputArea);\n",
       "    }\n",
       "  }\n",
       "\n",
       "  \n",
       "  if (typeof (root._bokeh_timeout) === \"undefined\" || force === true) {\n",
       "    root._bokeh_timeout = Date.now() + 5000;\n",
       "    root._bokeh_failed_load = false;\n",
       "  }\n",
       "\n",
       "  var NB_LOAD_WARNING = {'data': {'text/html':\n",
       "     \"<div style='background-color: #fdd'>\\n\"+\n",
       "     \"<p>\\n\"+\n",
       "     \"BokehJS does not appear to have successfully loaded. If loading BokehJS from CDN, this \\n\"+\n",
       "     \"may be due to a slow or bad network connection. Possible fixes:\\n\"+\n",
       "     \"</p>\\n\"+\n",
       "     \"<ul>\\n\"+\n",
       "     \"<li>re-rerun `output_notebook()` to attempt to load from CDN again, or</li>\\n\"+\n",
       "     \"<li>use INLINE resources instead, as so:</li>\\n\"+\n",
       "     \"</ul>\\n\"+\n",
       "     \"<code>\\n\"+\n",
       "     \"from bokeh.resources import INLINE\\n\"+\n",
       "     \"output_notebook(resources=INLINE)\\n\"+\n",
       "     \"</code>\\n\"+\n",
       "     \"</div>\"}};\n",
       "\n",
       "  function display_loaded() {\n",
       "    var el = document.getElementById(\"ba247d07-a5d4-4a50-a6f7-921ddf5b440c\");\n",
       "    if (el != null) {\n",
       "      el.textContent = \"BokehJS is loading...\";\n",
       "    }\n",
       "    if (root.Bokeh !== undefined) {\n",
       "      if (el != null) {\n",
       "        el.textContent = \"BokehJS \" + root.Bokeh.version + \" successfully loaded.\";\n",
       "      }\n",
       "    } else if (Date.now() < root._bokeh_timeout) {\n",
       "      setTimeout(display_loaded, 100)\n",
       "    }\n",
       "  }\n",
       "\n",
       "\n",
       "  function run_callbacks() {\n",
       "    try {\n",
       "      root._bokeh_onload_callbacks.forEach(function(callback) { callback() });\n",
       "    }\n",
       "    finally {\n",
       "      delete root._bokeh_onload_callbacks\n",
       "    }\n",
       "    console.info(\"Bokeh: all callbacks have finished\");\n",
       "  }\n",
       "\n",
       "  function load_libs(js_urls, callback) {\n",
       "    root._bokeh_onload_callbacks.push(callback);\n",
       "    if (root._bokeh_is_loading > 0) {\n",
       "      console.log(\"Bokeh: BokehJS is being loaded, scheduling callback at\", now());\n",
       "      return null;\n",
       "    }\n",
       "    if (js_urls == null || js_urls.length === 0) {\n",
       "      run_callbacks();\n",
       "      return null;\n",
       "    }\n",
       "    console.log(\"Bokeh: BokehJS not loaded, scheduling load and callback at\", now());\n",
       "    root._bokeh_is_loading = js_urls.length;\n",
       "    for (var i = 0; i < js_urls.length; i++) {\n",
       "      var url = js_urls[i];\n",
       "      var s = document.createElement('script');\n",
       "      s.src = url;\n",
       "      s.async = false;\n",
       "      s.onreadystatechange = s.onload = function() {\n",
       "        root._bokeh_is_loading--;\n",
       "        if (root._bokeh_is_loading === 0) {\n",
       "          console.log(\"Bokeh: all BokehJS libraries loaded\");\n",
       "          run_callbacks()\n",
       "        }\n",
       "      };\n",
       "      s.onerror = function() {\n",
       "        console.warn(\"failed to load library \" + url);\n",
       "      };\n",
       "      console.log(\"Bokeh: injecting script tag for BokehJS library: \", url);\n",
       "      document.getElementsByTagName(\"head\")[0].appendChild(s);\n",
       "    }\n",
       "  };var element = document.getElementById(\"ba247d07-a5d4-4a50-a6f7-921ddf5b440c\");\n",
       "  if (element == null) {\n",
       "    console.log(\"Bokeh: ERROR: autoload.js configured with elementid 'ba247d07-a5d4-4a50-a6f7-921ddf5b440c' but no matching script tag was found. \")\n",
       "    return false;\n",
       "  }\n",
       "\n",
       "  var js_urls = [\"https://cdn.pydata.org/bokeh/release/bokeh-0.12.16.min.js\", \"https://cdn.pydata.org/bokeh/release/bokeh-widgets-0.12.16.min.js\", \"https://cdn.pydata.org/bokeh/release/bokeh-tables-0.12.16.min.js\", \"https://cdn.pydata.org/bokeh/release/bokeh-gl-0.12.16.min.js\"];\n",
       "\n",
       "  var inline_js = [\n",
       "    function(Bokeh) {\n",
       "      Bokeh.set_log_level(\"info\");\n",
       "    },\n",
       "    \n",
       "    function(Bokeh) {\n",
       "      \n",
       "    },\n",
       "    function(Bokeh) {\n",
       "      console.log(\"Bokeh: injecting CSS: https://cdn.pydata.org/bokeh/release/bokeh-0.12.16.min.css\");\n",
       "      Bokeh.embed.inject_css(\"https://cdn.pydata.org/bokeh/release/bokeh-0.12.16.min.css\");\n",
       "      console.log(\"Bokeh: injecting CSS: https://cdn.pydata.org/bokeh/release/bokeh-widgets-0.12.16.min.css\");\n",
       "      Bokeh.embed.inject_css(\"https://cdn.pydata.org/bokeh/release/bokeh-widgets-0.12.16.min.css\");\n",
       "      console.log(\"Bokeh: injecting CSS: https://cdn.pydata.org/bokeh/release/bokeh-tables-0.12.16.min.css\");\n",
       "      Bokeh.embed.inject_css(\"https://cdn.pydata.org/bokeh/release/bokeh-tables-0.12.16.min.css\");\n",
       "    }\n",
       "  ];\n",
       "\n",
       "  function run_inline_js() {\n",
       "    \n",
       "    if ((root.Bokeh !== undefined) || (force === true)) {\n",
       "      for (var i = 0; i < inline_js.length; i++) {\n",
       "        inline_js[i].call(root, root.Bokeh);\n",
       "      }if (force === true) {\n",
       "        display_loaded();\n",
       "      }} else if (Date.now() < root._bokeh_timeout) {\n",
       "      setTimeout(run_inline_js, 100);\n",
       "    } else if (!root._bokeh_failed_load) {\n",
       "      console.log(\"Bokeh: BokehJS failed to load within specified timeout.\");\n",
       "      root._bokeh_failed_load = true;\n",
       "    } else if (force !== true) {\n",
       "      var cell = $(document.getElementById(\"ba247d07-a5d4-4a50-a6f7-921ddf5b440c\")).parents('.cell').data().cell;\n",
       "      cell.output_area.append_execute_result(NB_LOAD_WARNING)\n",
       "    }\n",
       "\n",
       "  }\n",
       "\n",
       "  if (root._bokeh_is_loading === 0) {\n",
       "    console.log(\"Bokeh: BokehJS loaded, going straight to plotting\");\n",
       "    run_inline_js();\n",
       "  } else {\n",
       "    load_libs(js_urls, function() {\n",
       "      console.log(\"Bokeh: BokehJS plotting callback run at\", now());\n",
       "      run_inline_js();\n",
       "    });\n",
       "  }\n",
       "}(window));"
      ],
      "application/vnd.bokehjs_load.v0+json": "\n(function(root) {\n  function now() {\n    return new Date();\n  }\n\n  var force = true;\n\n  if (typeof (root._bokeh_onload_callbacks) === \"undefined\" || force === true) {\n    root._bokeh_onload_callbacks = [];\n    root._bokeh_is_loading = undefined;\n  }\n\n  \n\n  \n  if (typeof (root._bokeh_timeout) === \"undefined\" || force === true) {\n    root._bokeh_timeout = Date.now() + 5000;\n    root._bokeh_failed_load = false;\n  }\n\n  var NB_LOAD_WARNING = {'data': {'text/html':\n     \"<div style='background-color: #fdd'>\\n\"+\n     \"<p>\\n\"+\n     \"BokehJS does not appear to have successfully loaded. If loading BokehJS from CDN, this \\n\"+\n     \"may be due to a slow or bad network connection. Possible fixes:\\n\"+\n     \"</p>\\n\"+\n     \"<ul>\\n\"+\n     \"<li>re-rerun `output_notebook()` to attempt to load from CDN again, or</li>\\n\"+\n     \"<li>use INLINE resources instead, as so:</li>\\n\"+\n     \"</ul>\\n\"+\n     \"<code>\\n\"+\n     \"from bokeh.resources import INLINE\\n\"+\n     \"output_notebook(resources=INLINE)\\n\"+\n     \"</code>\\n\"+\n     \"</div>\"}};\n\n  function display_loaded() {\n    var el = document.getElementById(\"ba247d07-a5d4-4a50-a6f7-921ddf5b440c\");\n    if (el != null) {\n      el.textContent = \"BokehJS is loading...\";\n    }\n    if (root.Bokeh !== undefined) {\n      if (el != null) {\n        el.textContent = \"BokehJS \" + root.Bokeh.version + \" successfully loaded.\";\n      }\n    } else if (Date.now() < root._bokeh_timeout) {\n      setTimeout(display_loaded, 100)\n    }\n  }\n\n\n  function run_callbacks() {\n    try {\n      root._bokeh_onload_callbacks.forEach(function(callback) { callback() });\n    }\n    finally {\n      delete root._bokeh_onload_callbacks\n    }\n    console.info(\"Bokeh: all callbacks have finished\");\n  }\n\n  function load_libs(js_urls, callback) {\n    root._bokeh_onload_callbacks.push(callback);\n    if (root._bokeh_is_loading > 0) {\n      console.log(\"Bokeh: BokehJS is being loaded, scheduling callback at\", now());\n      return null;\n    }\n    if (js_urls == null || js_urls.length === 0) {\n      run_callbacks();\n      return null;\n    }\n    console.log(\"Bokeh: BokehJS not loaded, scheduling load and callback at\", now());\n    root._bokeh_is_loading = js_urls.length;\n    for (var i = 0; i < js_urls.length; i++) {\n      var url = js_urls[i];\n      var s = document.createElement('script');\n      s.src = url;\n      s.async = false;\n      s.onreadystatechange = s.onload = function() {\n        root._bokeh_is_loading--;\n        if (root._bokeh_is_loading === 0) {\n          console.log(\"Bokeh: all BokehJS libraries loaded\");\n          run_callbacks()\n        }\n      };\n      s.onerror = function() {\n        console.warn(\"failed to load library \" + url);\n      };\n      console.log(\"Bokeh: injecting script tag for BokehJS library: \", url);\n      document.getElementsByTagName(\"head\")[0].appendChild(s);\n    }\n  };var element = document.getElementById(\"ba247d07-a5d4-4a50-a6f7-921ddf5b440c\");\n  if (element == null) {\n    console.log(\"Bokeh: ERROR: autoload.js configured with elementid 'ba247d07-a5d4-4a50-a6f7-921ddf5b440c' but no matching script tag was found. \")\n    return false;\n  }\n\n  var js_urls = [\"https://cdn.pydata.org/bokeh/release/bokeh-0.12.16.min.js\", \"https://cdn.pydata.org/bokeh/release/bokeh-widgets-0.12.16.min.js\", \"https://cdn.pydata.org/bokeh/release/bokeh-tables-0.12.16.min.js\", \"https://cdn.pydata.org/bokeh/release/bokeh-gl-0.12.16.min.js\"];\n\n  var inline_js = [\n    function(Bokeh) {\n      Bokeh.set_log_level(\"info\");\n    },\n    \n    function(Bokeh) {\n      \n    },\n    function(Bokeh) {\n      console.log(\"Bokeh: injecting CSS: https://cdn.pydata.org/bokeh/release/bokeh-0.12.16.min.css\");\n      Bokeh.embed.inject_css(\"https://cdn.pydata.org/bokeh/release/bokeh-0.12.16.min.css\");\n      console.log(\"Bokeh: injecting CSS: https://cdn.pydata.org/bokeh/release/bokeh-widgets-0.12.16.min.css\");\n      Bokeh.embed.inject_css(\"https://cdn.pydata.org/bokeh/release/bokeh-widgets-0.12.16.min.css\");\n      console.log(\"Bokeh: injecting CSS: https://cdn.pydata.org/bokeh/release/bokeh-tables-0.12.16.min.css\");\n      Bokeh.embed.inject_css(\"https://cdn.pydata.org/bokeh/release/bokeh-tables-0.12.16.min.css\");\n    }\n  ];\n\n  function run_inline_js() {\n    \n    if ((root.Bokeh !== undefined) || (force === true)) {\n      for (var i = 0; i < inline_js.length; i++) {\n        inline_js[i].call(root, root.Bokeh);\n      }if (force === true) {\n        display_loaded();\n      }} else if (Date.now() < root._bokeh_timeout) {\n      setTimeout(run_inline_js, 100);\n    } else if (!root._bokeh_failed_load) {\n      console.log(\"Bokeh: BokehJS failed to load within specified timeout.\");\n      root._bokeh_failed_load = true;\n    } else if (force !== true) {\n      var cell = $(document.getElementById(\"ba247d07-a5d4-4a50-a6f7-921ddf5b440c\")).parents('.cell').data().cell;\n      cell.output_area.append_execute_result(NB_LOAD_WARNING)\n    }\n\n  }\n\n  if (root._bokeh_is_loading === 0) {\n    console.log(\"Bokeh: BokehJS loaded, going straight to plotting\");\n    run_inline_js();\n  } else {\n    load_libs(js_urls, function() {\n      console.log(\"Bokeh: BokehJS plotting callback run at\", now());\n      run_inline_js();\n    });\n  }\n}(window));"
     },
     "metadata": {},
     "output_type": "display_data"
    }
   ],
   "source": [
    "output_notebook()"
   ]
  },
  {
   "cell_type": "code",
   "execution_count": 257,
   "metadata": {
    "collapsed": true
   },
   "outputs": [],
   "source": [
    "'''\n",
    "Get the clirad-lw and lblnew `param`s for all spectral bands.  \n",
    "These are returned by functions `clirad_params_atm` and\n",
    "`lblnew_params_atm`, respectively.\n",
    "'''\n",
    "\n",
    "def molecules_byband_atm():\n",
    "    return {1: {'h2o': 'atmpro'},\n",
    "            2: {'h2o': 'atmpro'}, \n",
    "            3: {'co2': 0.0004, 'h2o': 'atmpro', 'n2o': 3.2e-07},\n",
    "            4: {'co2': 0.0004, 'h2o': 'atmpro'},\n",
    "            5: {'co2': 0.0004, 'h2o': 'atmpro'},\n",
    "            6: {'co2': 0.0004, 'h2o': 'atmpro'},\n",
    "            7: {'co2': 0.0004, 'h2o': 'atmpro', 'o3': 'atmpro'},\n",
    "            8: {'h2o': 'atmpro'},\n",
    "            9: {'ch4': 1.8e-06, 'h2o': 'atmpro', 'n2o': 3.2e-07},\n",
    "            10: {'h2o': 'atmpro'},\n",
    "            11: {'co2': 0.0004, 'h2o': 'atmpro'}}\n",
    "\n",
    "\n",
    "def clirad_params_atm(atmpro='mls'):\n",
    "    d = {}\n",
    "    for band, molecule in molecules_byband_atm().items():\n",
    "        for param in setup_cliradlw.test_cases():\n",
    "            if [band] == param['band'] and molecule == param['molecule']:\n",
    "                param['atmpro'] = atmpro\n",
    "                d[band] = param\n",
    "                break                \n",
    "    return d\n",
    "\n",
    "\n",
    "def analysis_dirs_atm(atmpro='mls'):\n",
    "    params = clirad_params_atm(atmpro=atmpro)\n",
    "    return {band: pipe_cliradlw.get_analysis_dir(param=param,\n",
    "                                                 setup=setup_cliradlw) \n",
    "            for band, param in params.items()}\n",
    "\n",
    "\n",
    "def lblnew_params_atm(atmpro='mls'):\n",
    "    dirs = analysis_dirs_atm(atmpro=atmpro)\n",
    "    \n",
    "    d = {}\n",
    "    for band, dirname in dirs.items():\n",
    "        with open(os.path.join(dirname, 'param.py'), \n",
    "                  mode='r', encoding='utf-8') as f:\n",
    "            _, l = f.readlines()\n",
    "        \n",
    "        s = l.split('=')[1].strip()\n",
    "        d[band] = ast.literal_eval(s)\n",
    "        \n",
    "    return d\n",
    "\n",
    "    \n"
   ]
  },
  {
   "cell_type": "code",
   "execution_count": 258,
   "metadata": {
    "collapsed": true
   },
   "outputs": [],
   "source": [
    "def show_makeup():\n",
    "    df = pd.DataFrame()\n",
    "\n",
    "    for band, molecule in molecules_byband_atm().items():\n",
    "        for name, conc in molecule.items():\n",
    "            df.loc[name, band] = str(conc)\n",
    "\n",
    "    df = df.fillna(0)\n",
    "    df.columns.name = 'clirad band'\n",
    "    df.index.name = 'molecule'\n",
    "    \n",
    "    display.display(df)\n",
    "    \n",
    "    display.display(\n",
    "        display.Markdown('*TABLE.* The makeup of the atmosphere.'))\n",
    "\n"
   ]
  },
  {
   "cell_type": "code",
   "execution_count": 259,
   "metadata": {
    "collapsed": true
   },
   "outputs": [],
   "source": [
    "def load_output_file(path_csv):\n",
    "    '''\n",
    "    Load lblnew output .csv file to xarray.Dataset\n",
    "    \n",
    "    Parameters\n",
    "    ----------\n",
    "    path_csv: str\n",
    "              Path to the .csv file to be loaded.\n",
    "    ds: xarray.Dataset\n",
    "        Data in the input file in the form of an xarray.Dataset.\n",
    "    '''\n",
    "    toindex = ['band', 'pressure', 'igg', 'g']    \n",
    "    df = pd.read_csv(path_csv, sep=r'\\s+')\n",
    "    df = df.set_index([i for i in toindex if i in df.columns])\n",
    "    df = df.rename(columns={'sfu': 'flug',\n",
    "                            'sfd': 'fldg',\n",
    "                            'fnet': 'fnetg',\n",
    "                            'coolr': 'coolrg'})\n",
    "    ds = xr.Dataset.from_dataframe(df)\n",
    "\n",
    "    for l in ('level', 'layer'):\n",
    "        if l in ds.data_vars:\n",
    "            if len(ds[l].dims) > 1:\n",
    "                surface = {d: 0 for d in ds.dims if d != 'pressure'}\n",
    "                coord_level = ds[l][surface]\n",
    "                ds.coords[l] = ('pressure', coord_level)\n",
    "            else:\n",
    "                ds.coords[l] = ('pressure', ds[l])\n",
    "    \n",
    "    return ds"
   ]
  },
  {
   "cell_type": "code",
   "execution_count": 260,
   "metadata": {
    "collapsed": true
   },
   "outputs": [],
   "source": [
    "def lblnew_setup(param=None):\n",
    "    if 'ng_refs' in param:\n",
    "        return {'setup': setup_bestfit,\n",
    "                'fname_flux_crd': 'output_flux.dat',\n",
    "                'fname_cool_crd': 'output_coolr.dat',\n",
    "                'fname_flux_wgt': 'output_wfluxg.dat',\n",
    "                'fname_cool_wgt': 'output_wcoolrg.dat'}\n",
    "    else:\n",
    "        return {'setup': setup_overlap,\n",
    "                'fname_flux_crd': 'output_flux.dat',\n",
    "                'fname_cool_crd': 'output_coolr.dat',\n",
    "                'fname_flux_wgt': 'output_wflux.dat',\n",
    "                'fname_cool_wgt': 'output_wcoolr.dat'}\n",
    "\n",
    "    \n",
    "def load_lblnew_data(param):\n",
    "    \n",
    "    fname_dsname = [('fname_flux_crd', 'ds_flux_crd'),\n",
    "                    ('fname_cool_crd', 'ds_cool_crd'),\n",
    "                    ('fname_flux_wgt', 'ds_flux_wgt'),\n",
    "                    ('fname_cool_wgt', 'ds_cool_wgt')]\n",
    "    \n",
    "    d = lblnew_setup(param)\n",
    "    dir_fortran = pipe_lblnew.get_dir_case(param, setup=d['setup'])\n",
    "    \n",
    "    data_dict = {}\n",
    "    for fname, dsname in fname_dsname:\n",
    "        fpath = os.path.join(dir_fortran, d[fname])\n",
    "        data_dict[dsname] = load_output_file(fpath)\n",
    "    return data_dict"
   ]
  },
  {
   "cell_type": "code",
   "execution_count": 261,
   "metadata": {
    "collapsed": true
   },
   "outputs": [],
   "source": [
    "def crd_data_atm(params_atm):\n",
    "    '''\n",
    "    Parameters\n",
    "    ----------\n",
    "    \n",
    "    params_atm: dict\n",
    "                Parameter dictionary for each band.\n",
    "                \n",
    "    d: dict\n",
    "       'flux': xr.Dataset. [pressure, band]\n",
    "               Fluxes.\n",
    "       'cool': xr.Dataset. [pressure, band]\n",
    "               Cooling rate.\n",
    "    \n",
    "    '''\n",
    "    \n",
    "    results_atm = {band: load_lblnew_data(param) \n",
    "                   for band, param in params_atm.items()}\n",
    "    \n",
    "    bands = [band for band, _ in params_atm.items()]\n",
    "    fluxs = [d['ds_flux_crd'] for _, d in results_atm.items()]\n",
    "    cools = [d['ds_cool_crd'] for _, d in results_atm.items()]\n",
    "    \n",
    "    d = {}\n",
    "    d['flux'] = xr.concat(fluxs, dim=bands).rename({'concat_dim': 'band'})\n",
    "    d['cool'] = xr.concat(cools, dim=bands).rename({'concat_dim': 'band'})\n",
    "    return d        \n",
    "        \n",
    "        \n",
    "\n",
    "def clirad_data_atm(params_atm):\n",
    "    \n",
    "    dirnames = [pipe_cliradlw.get_fortran_dir(param,\n",
    "                                              setup=setup_cliradlw)\n",
    "                for _, param in params_atm.items()]\n",
    "    \n",
    "    fpaths_flux = [os.path.join(n, 'output_flux.dat') for n in dirnames]\n",
    "    fpaths_cool = [os.path.join(n, 'output_coolr.dat') for n in dirnames]\n",
    "    \n",
    "    bands = [band for band, _ in params_atm.items()]\n",
    "    fluxs = [load_output_file(p) for p in fpaths_flux]    \n",
    "    cools = [load_output_file(p) for p in fpaths_cool]\n",
    "    \n",
    "    d = {}\n",
    "    d['flux'] = sum(fluxs).sel(band=bands)\n",
    "    d['cool'] = sum(cools).sel(band=bands)\n",
    "    return d\n",
    "\n"
   ]
  },
  {
   "cell_type": "code",
   "execution_count": 262,
   "metadata": {},
   "outputs": [],
   "source": [
    "\n",
    "\n",
    "import rtmtools.clirad.sw.wrangle as cliradwrangle\n",
    "\n",
    "import importlib\n",
    "importlib.reload(cliradwrangle)\n",
    "\n",
    "def oldclirad_data_atm():\n",
    "    '''\n",
    "    Load the OLD clirad's results. mls only.\n",
    "    '''\n",
    "    fpath = os.path.join('/chia_cluster/home/jackyu/radiation',\n",
    "                         'clirad-lw',\n",
    "                         'LW',\n",
    "                         'examples',\n",
    "                         'mls75_h2o_atmpro_co2_.0004_o3_atmpro_n2o_3.2e-7_ch4_1.8e-6_H2012',\n",
    "                         'OUTPUT_CLIRAD.dat')\n",
    "    \n",
    "    ds = cliradwrangle.load_OUTPUT_CLIRAD(readfrom=fpath)\n",
    "    \n",
    "    ds_cool = xr.Dataset()\n",
    "    ds_cool.coords['pressure'] = ('pressure', ds['layer_pressure'])\n",
    "    ds_cool.coords['band'] = ('band', ds['spectral_band'])\n",
    "    ds_cool['coolrg'] = (('band', 'pressure'), - ds['heating_rate'])\n",
    "    \n",
    "    ds_flux = xr.Dataset()\n",
    "    ds_flux.coords['pressure'] = ('pressure', ds['level_pressure'])\n",
    "    ds_flux.coords['band'] = ('band', ds['spectral_band'])\n",
    "    ds_flux['flug'] = (('band', 'pressure'), ds['flux_up'])\n",
    "    ds_flux['fldg'] = (('band', 'pressure'), ds['flux_down'])\n",
    "    ds_flux['fnetg'] = (('band', 'pressure'), ds['net_flux'])\n",
    "    \n",
    "    \n",
    "    d = {}\n",
    "    d['cool'] = ds_cool\n",
    "    d['flux'] = ds_flux\n",
    "    return d\n"
   ]
  },
  {
   "cell_type": "code",
   "execution_count": 263,
   "metadata": {
    "collapsed": true
   },
   "outputs": [],
   "source": [
    "def fmt_cool(ds_in):\n",
    "    ds = ds_in.copy(deep=True)\n",
    "    if 'igg' in ds.dims:\n",
    "        ds = ds.sel(igg=1)\n",
    "\n",
    "    if 'g' in ds.dims:\n",
    "        ds = ds.sum('g')\n",
    "            \n",
    "    if 'band' in ds.dims:\n",
    "        try:\n",
    "            ds = ds.squeeze('band')\n",
    "        except ValueError:\n",
    "            ds = ds.sum('band')\n",
    "                \n",
    "    return ds['coolrg']\n",
    "\n",
    "\n",
    "\n",
    "def nice_xlims(pltdata=None, prange=None):\n",
    "    \n",
    "    def get_slice(srs):\n",
    "        return srs.sel(pressure=slice(*prange))\n",
    "    \n",
    "    srss = [d['srs'] for d in pltdata]\n",
    "    vmin = min([get_slice(srs).min() for srs in srss])\n",
    "    vmax = max([get_slice(srs).max() for srs in srss])\n",
    "    dv = (vmax - vmin) * .01\n",
    "    return float(vmin - dv), float(vmax + dv)\n",
    "\n",
    "\n",
    "    \n",
    "def plt_cool_bokeh(pltdata=None, \n",
    "                   y_axis_type='linear', prange=(50, 1050)):\n",
    "    \n",
    "    ymin = 1e-2 \n",
    "    ymax = 1020\n",
    "    \n",
    "    p2 = figure(y_axis_type=y_axis_type, plot_width=300)\n",
    "    xmin, xmax = nice_xlims(pltdata, prange=prange)\n",
    "    \n",
    "    rs = []\n",
    "    for d in pltdata:\n",
    "        rd = []\n",
    "        if 'marker' in d:\n",
    "            r_mark = getattr(p2, d['marker'])(d['srs'].values, \n",
    "                        d['srs'].coords['pressure'].values,\n",
    "                        color=d['color'], alpha=.7)\n",
    "            rd.append(r_mark)\n",
    "        r_line = p2.line(d['srs'].values, \n",
    "                         d['srs'].coords['pressure'].values,\n",
    "                         color=d['color'], alpha=d['alpha'], \n",
    "                         line_width=d['line_width'], \n",
    "                         line_dash=d['line_dash'])\n",
    "        rd.append(r_line)\n",
    "      \n",
    "        rs.append(rd)\n",
    "        \n",
    "    p2.y_range = Range1d(ymax, ymin)  \n",
    "    p2.yaxis.axis_label = 'pressure [mb]'\n",
    "    \n",
    "    p2.x_range = Range1d(xmin, xmax)\n",
    "    p2.xaxis.axis_label = 'cooling rate [K/day]'\n",
    "    \n",
    "    items = [(d['label'], r) for r, d in zip(rs, pltdata)]\n",
    "    legend = Legend(items=items, location=(10, 0))\n",
    "    legend.label_text_font_size = '8pt'\n",
    "    p2.add_layout(legend, 'above')\n",
    "    p2.legend.orientation = 'horizontal'\n",
    "    p2.legend.location = 'top_center'\n",
    "    \n",
    "    return p2"
   ]
  },
  {
   "cell_type": "code",
   "execution_count": 264,
   "metadata": {},
   "outputs": [],
   "source": [
    "def pltdata_cool(atmpro='mls'):\n",
    "    \n",
    "    d_clirad = clirad_data_atm(clirad_params_atm(atmpro=atmpro))\n",
    "    d_crd = crd_data_atm(lblnew_params_atm(atmpro=atmpro))\n",
    "\n",
    "    ds_clirad = d_clirad['cool']\n",
    "    ds_crd = d_crd['cool']\n",
    "\n",
    "    colors = all_palettes['Set1'][4]\n",
    "    \n",
    "    data = [\n",
    "        {'label': 'CLIRAD',\n",
    "         'srs': fmt_cool(ds_clirad),\n",
    "         'line_dash': 'dashed', 'line_width': 5,\n",
    "         'color': colors[0], 'alpha': .6},\n",
    "        {'label': 'CRD',\n",
    "         'srs': fmt_cool(ds_crd),\n",
    "         'line_dash': 'solid', 'line_width': 1.5,\n",
    "         'marker': 'circle', 'marker_size': 5,\n",
    "         'color': colors[2], 'alpha': 1}\n",
    "    ]\n",
    "    \n",
    "    # include old CLIRAD's results for mls profile\n",
    "    if atmpro == 'mls':\n",
    "        d_oldclirad = oldclirad_data_atm()\n",
    "        ds_oldclirad = d_oldclirad['cool']        \n",
    "        data.append(\n",
    "            {'label': 'old CLIRAD (H2012)',\n",
    "             'srs': fmt_cool(ds_oldclirad),\n",
    "             'line_dash': 'solid', 'line_width': 1.5,\n",
    "             'marker': 'square', 'marker_size': 3,\n",
    "             'color': colors[1], 'alpha': .5})\n",
    "    return data\n",
    "\n",
    "\n",
    "def pltdata_cooldiff(atmpro='mls'):\n",
    "    \n",
    "    d_clirad = clirad_data_atm(clirad_params_atm(atmpro=atmpro))\n",
    "    d_crd = crd_data_atm(lblnew_params_atm(atmpro=atmpro))\n",
    "    \n",
    "    ds_clirad = d_clirad['cool']\n",
    "    ds_crd = d_crd['cool']\n",
    "    \n",
    "    ds_diff = ds_clirad - ds_crd\n",
    "    \n",
    "    colors = all_palettes['Set1'][4]\n",
    "    \n",
    "    data = [\n",
    "        {'label': 'CLIRAD - CRD',\n",
    "         'srs': fmt_cool(ds_diff),\n",
    "         'line_dash': 'solid', 'line_width': 1.5, \n",
    "         'marker': 'circle', 'marker_size': 7,\n",
    "         'color': colors[3], 'alpha': .8}\n",
    "    ]\n",
    "    \n",
    "    # include old CLIRAD's results for mls profile\n",
    "    if atmpro == 'mls':\n",
    "        d_oldclirad = oldclirad_data_atm()\n",
    "        ds_oldclirad = d_oldclirad['cool']\n",
    "        ds_oldclirad.coords['pressure'] = ds_crd.coords['pressure']\n",
    "        ds_diff_old = ds_oldclirad.sum('band') - ds_crd.sum('band')\n",
    "        data.append(\n",
    "            {'label': 'old CLIRAD (H2012) - CRD',\n",
    "             'srs': fmt_cool(ds_diff_old),\n",
    "             'line_dash': 'dashed', 'line_width': 4,\n",
    "             'color': colors[1], 'alpha': .5}\n",
    "        )\n",
    "    return data\n",
    "\n",
    "\n",
    "def show_cool(atmpro='mls'):\n",
    "    \n",
    "    data_cool = pltdata_cool(atmpro=atmpro)\n",
    "    p_cool_liny = plt_cool_bokeh(pltdata=data_cool)\n",
    "    p_cool_logy = plt_cool_bokeh(pltdata=data_cool, \n",
    "                                 y_axis_type='log',\n",
    "                                 prange=(.01, 200))\n",
    "    \n",
    "    data_cooldiff = pltdata_cooldiff(atmpro=atmpro)\n",
    "    p_cooldiff_logy = plt_cool_bokeh(pltdata=data_cooldiff,\n",
    "                                     y_axis_type='log',\n",
    "                                     prange=(.01, 200))\n",
    "    \n",
    "    everything = gridplot(p_cool_liny, p_cool_logy, \n",
    "                          p_cooldiff_logy,\n",
    "                          ncols=3)\n",
    "    show(everything)\n",
    "    display.display(\n",
    "        display.Markdown('*FIGURE.* Cooling rates & difference.'))\n",
    "\n",
    "\n",
    "    "
   ]
  },
  {
   "cell_type": "code",
   "execution_count": null,
   "metadata": {
    "collapsed": true
   },
   "outputs": [],
   "source": []
  },
  {
   "cell_type": "code",
   "execution_count": 265,
   "metadata": {
    "scrolled": false
   },
   "outputs": [],
   "source": [
    "\n",
    "\n",
    "def hist_band_vs_flux(da, title='Title'):\n",
    "       \n",
    "    bands = [str(b.values) for b in da['band']]\n",
    "\n",
    "    source = ColumnDataSource(\n",
    "        data={'band': bands, 'flux': da.values})\n",
    "\n",
    "    p = figure(x_range=bands, title=title)\n",
    "    p.vbar(source=source, x='band', top='flux', width=.9)\n",
    "\n",
    "    p.yaxis.axis_label = 'flux (W m-2)'\n",
    "    p.xaxis.axis_label = 'spectral band'\n",
    "    \n",
    "    return p\n",
    "\n",
    "\n",
    "def show_hist_flux(atmpro='mls'):\n",
    "    ds_crd = crd_data_atm(lblnew_params_atm(atmpro=atmpro))['flux']\n",
    "    ds_clirad = clirad_data_atm(\n",
    "        clirad_params_atm(atmpro=atmpro))['flux']\n",
    "    \n",
    "    ip, varname = 0, 'flug'\n",
    "    da = (ds_clirad - ds_crd).isel(pressure=ip)[varname]\n",
    "    p_toa = hist_band_vs_flux(da, title='TOA flux. CLIRAD - CRD.')\n",
    "\n",
    "    ip, varname = -1, 'fldg'\n",
    "    da = (ds_clirad - ds_crd).isel(pressure=ip)[varname]\n",
    "    p_sfc = hist_band_vs_flux(da, title='SFC flux. CLIRAD - CRD.')    \n",
    "    \n",
    "    atm_crd = (ds_crd.isel(pressure=0) \n",
    "               - ds_crd.isel(pressure=-1))['fnetg']\n",
    "    atm_clirad = (ds_clirad.isel(pressure=0) \n",
    "                  - ds_clirad.isel(pressure=-1))['fnetg']\n",
    "    da = atm_clirad - atm_crd\n",
    "    p_atm = hist_band_vs_flux(da, \n",
    "                              title='Atmosphere heating. CLIRAD - CRD.')\n",
    "\n",
    "    everything = gridplot(p_toa, p_sfc, p_atm, ncols=3, \n",
    "                          plot_width=300, plot_height=300)\n",
    "    \n",
    "    show(everything)\n",
    "    display.display(\n",
    "        display.Markdown('*FIGURE.* Difference between CLIRAD and CRD'\n",
    "          ' in TOA, SFC and net atmosphere flux,'\n",
    "          ' in each spectral band.'))\n",
    "\n",
    "\n",
    "    \n",
    "def show_tb_flux(atmpro='mls'):\n",
    "    ds_crd = crd_data_atm(lblnew_params_atm(atmpro=atmpro))['flux']\n",
    "    olr_crd = ds_crd['flug'].isel(pressure=0)\n",
    "    sfc_crd = ds_crd['fldg'].isel(pressure=-1)\n",
    "    atm_crd = (ds_crd.isel(pressure=0)\n",
    "               - ds_crd.isel(pressure=-1))['fnetg']\n",
    "    \n",
    "    ds_clirad = clirad_data_atm(\n",
    "        clirad_params_atm(atmpro=atmpro))['flux']\n",
    "    olr_clirad = ds_clirad['flug'].isel(pressure=0)\n",
    "    sfc_clirad = ds_clirad['fldg'].isel(pressure=-1)\n",
    "    atm_clirad = (ds_clirad.isel(pressure=0)\n",
    "                  - ds_clirad.isel(pressure=-1))['fnetg']\n",
    "    \n",
    "    if atmpro == 'mls':\n",
    "        ds_oldclirad = oldclirad_data_atm()['flux']\n",
    "        ds_oldclirad['pressure'] = ds_crd['pressure']\n",
    "        olr_oldclirad = ds_oldclirad['flug'].isel(pressure=0)\n",
    "        sfc_oldclirad = ds_oldclirad['fldg'].isel(pressure=-1)\n",
    "        atm_oldclirad = (ds_oldclirad.isel(pressure=0)\n",
    "                         - ds_oldclirad.isel(pressure=-1))['fnetg']\n",
    "        \n",
    "    \n",
    "    \n",
    "    df = pd.DataFrame()\n",
    "    df.index.name = 'Sum over bands'\n",
    "    \n",
    "    if atmpro == 'mls':\n",
    "        df.loc['old CLIRAD - CRD', 'OLR flux'] = (olr_oldclirad.sum('band') - olr_crd.sum('band')).values\n",
    "        df.loc['old CLIRAD - CRD', 'SFC flux'] = (sfc_oldclirad.sum('band') - sfc_crd.sum('band')).values\n",
    "        df.loc['old CLIRAD - CRD', 'ATM heating'] = (atm_oldclirad.sum('band') - atm_crd.sum('band')).values\n",
    "    \n",
    "    df.loc['CLIRAD - CRD', 'OLR flux'] = (olr_clirad - olr_crd).sum('band').values\n",
    "    df.loc['CLIRAD - CRD', 'SFC flux'] = (sfc_clirad - sfc_crd).sum('band').values\n",
    "    df.loc['CLIRAD - CRD', 'ATM heating'] = (atm_clirad - atm_crd).sum('band').values\n",
    "\n",
    "    df.loc['CRD', 'OLR flux'] = olr_crd.sum('band').values\n",
    "    df.loc['CRD', 'SFC flux'] = sfc_crd.sum('band').values\n",
    "    df.loc['CRD', 'ATM heating'] = atm_crd.sum('band').values\n",
    "        \n",
    "    df = df.astype('float').round(2)\n",
    "    \n",
    "    display.display(df)\n",
    "    display.display(\n",
    "        display.Markdown('*TABLE.* Difference between CLIRAD and CRD'\n",
    "          ' in TOA, SFC and net atmosphere flux,'\n",
    "          ' over all spectral bands. CRD\\'s'\n",
    "          ' TOA, SFC and net atmosphere flux,'\n",
    "          ' over all spectral bands.'))\n"
   ]
  },
  {
   "cell_type": "code",
   "execution_count": 266,
   "metadata": {
    "scrolled": false
   },
   "outputs": [
    {
     "data": {
      "text/markdown": [
       "## Results over entire range of molecules and spectral bands"
      ],
      "text/plain": [
       "<IPython.core.display.Markdown object>"
      ]
     },
     "metadata": {},
     "output_type": "display_data"
    },
    {
     "data": {
      "text/markdown": [
       "### Table of Contents"
      ],
      "text/plain": [
       "<IPython.core.display.Markdown object>"
      ]
     },
     "metadata": {},
     "output_type": "display_data"
    },
    {
     "data": {
      "text/html": [
       "<a href=\"#Makeup_of_atmosphere.\">Makeup of atmosphere.</a>"
      ],
      "text/plain": [
       "<IPython.core.display.HTML object>"
      ]
     },
     "metadata": {},
     "output_type": "display_data"
    },
    {
     "data": {
      "text/markdown": [
       "**mid-latitude summer**"
      ],
      "text/plain": [
       "<IPython.core.display.Markdown object>"
      ]
     },
     "metadata": {},
     "output_type": "display_data"
    },
    {
     "data": {
      "text/html": [
       "<a href=\"#Cooling_rates._mls.\">Cooling rates. mls.</a>"
      ],
      "text/plain": [
       "<IPython.core.display.HTML object>"
      ]
     },
     "metadata": {},
     "output_type": "display_data"
    },
    {
     "data": {
      "text/html": [
       "<a href=\"#Fluxes._mls.\">Fluxes. mls.</a>"
      ],
      "text/plain": [
       "<IPython.core.display.HTML object>"
      ]
     },
     "metadata": {},
     "output_type": "display_data"
    },
    {
     "data": {
      "text/markdown": [
       "**sub-arctic winter**"
      ],
      "text/plain": [
       "<IPython.core.display.Markdown object>"
      ]
     },
     "metadata": {},
     "output_type": "display_data"
    },
    {
     "data": {
      "text/html": [
       "<a href=\"#Cooling_rates._saw.\">Cooling rates. saw.</a>"
      ],
      "text/plain": [
       "<IPython.core.display.HTML object>"
      ]
     },
     "metadata": {},
     "output_type": "display_data"
    },
    {
     "data": {
      "text/html": [
       "<a href=\"#Fluxes._saw.\">Fluxes. saw.</a>"
      ],
      "text/plain": [
       "<IPython.core.display.HTML object>"
      ]
     },
     "metadata": {},
     "output_type": "display_data"
    },
    {
     "data": {
      "text/markdown": [
       "**tropical**"
      ],
      "text/plain": [
       "<IPython.core.display.Markdown object>"
      ]
     },
     "metadata": {},
     "output_type": "display_data"
    },
    {
     "data": {
      "text/html": [
       "<a href=\"#Cooling_rates._trp.\">Cooling rates. trp.</a>"
      ],
      "text/plain": [
       "<IPython.core.display.HTML object>"
      ]
     },
     "metadata": {},
     "output_type": "display_data"
    },
    {
     "data": {
      "text/html": [
       "<a href=\"#Fluxes._trp.\">Fluxes. trp.</a>"
      ],
      "text/plain": [
       "<IPython.core.display.HTML object>"
      ]
     },
     "metadata": {},
     "output_type": "display_data"
    },
    {
     "data": {
      "text/html": [
       "<a id=\"Makeup_of_atmosphere.\"></a>"
      ],
      "text/plain": [
       "<IPython.core.display.HTML object>"
      ]
     },
     "metadata": {},
     "output_type": "display_data"
    },
    {
     "data": {
      "text/markdown": [
       "# Makeup of atmosphere."
      ],
      "text/plain": [
       "<IPython.core.display.Markdown object>"
      ]
     },
     "metadata": {},
     "output_type": "display_data"
    },
    {
     "data": {
      "text/html": [
       "<div>\n",
       "<style scoped>\n",
       "    .dataframe tbody tr th:only-of-type {\n",
       "        vertical-align: middle;\n",
       "    }\n",
       "\n",
       "    .dataframe tbody tr th {\n",
       "        vertical-align: top;\n",
       "    }\n",
       "\n",
       "    .dataframe thead th {\n",
       "        text-align: right;\n",
       "    }\n",
       "</style>\n",
       "<table border=\"1\" class=\"dataframe\">\n",
       "  <thead>\n",
       "    <tr style=\"text-align: right;\">\n",
       "      <th>clirad band</th>\n",
       "      <th>1</th>\n",
       "      <th>2</th>\n",
       "      <th>3</th>\n",
       "      <th>4</th>\n",
       "      <th>5</th>\n",
       "      <th>6</th>\n",
       "      <th>7</th>\n",
       "      <th>8</th>\n",
       "      <th>9</th>\n",
       "      <th>10</th>\n",
       "      <th>11</th>\n",
       "    </tr>\n",
       "    <tr>\n",
       "      <th>molecule</th>\n",
       "      <th></th>\n",
       "      <th></th>\n",
       "      <th></th>\n",
       "      <th></th>\n",
       "      <th></th>\n",
       "      <th></th>\n",
       "      <th></th>\n",
       "      <th></th>\n",
       "      <th></th>\n",
       "      <th></th>\n",
       "      <th></th>\n",
       "    </tr>\n",
       "  </thead>\n",
       "  <tbody>\n",
       "    <tr>\n",
       "      <th>h2o</th>\n",
       "      <td>atmpro</td>\n",
       "      <td>atmpro</td>\n",
       "      <td>atmpro</td>\n",
       "      <td>atmpro</td>\n",
       "      <td>atmpro</td>\n",
       "      <td>atmpro</td>\n",
       "      <td>atmpro</td>\n",
       "      <td>atmpro</td>\n",
       "      <td>atmpro</td>\n",
       "      <td>atmpro</td>\n",
       "      <td>atmpro</td>\n",
       "    </tr>\n",
       "    <tr>\n",
       "      <th>co2</th>\n",
       "      <td>0</td>\n",
       "      <td>0</td>\n",
       "      <td>0.0004</td>\n",
       "      <td>0.0004</td>\n",
       "      <td>0.0004</td>\n",
       "      <td>0.0004</td>\n",
       "      <td>0.0004</td>\n",
       "      <td>0</td>\n",
       "      <td>0</td>\n",
       "      <td>0</td>\n",
       "      <td>0.0004</td>\n",
       "    </tr>\n",
       "    <tr>\n",
       "      <th>n2o</th>\n",
       "      <td>0</td>\n",
       "      <td>0</td>\n",
       "      <td>3.2e-07</td>\n",
       "      <td>0</td>\n",
       "      <td>0</td>\n",
       "      <td>0</td>\n",
       "      <td>0</td>\n",
       "      <td>0</td>\n",
       "      <td>3.2e-07</td>\n",
       "      <td>0</td>\n",
       "      <td>0</td>\n",
       "    </tr>\n",
       "    <tr>\n",
       "      <th>o3</th>\n",
       "      <td>0</td>\n",
       "      <td>0</td>\n",
       "      <td>0</td>\n",
       "      <td>0</td>\n",
       "      <td>0</td>\n",
       "      <td>0</td>\n",
       "      <td>atmpro</td>\n",
       "      <td>0</td>\n",
       "      <td>0</td>\n",
       "      <td>0</td>\n",
       "      <td>0</td>\n",
       "    </tr>\n",
       "    <tr>\n",
       "      <th>ch4</th>\n",
       "      <td>0</td>\n",
       "      <td>0</td>\n",
       "      <td>0</td>\n",
       "      <td>0</td>\n",
       "      <td>0</td>\n",
       "      <td>0</td>\n",
       "      <td>0</td>\n",
       "      <td>0</td>\n",
       "      <td>1.8e-06</td>\n",
       "      <td>0</td>\n",
       "      <td>0</td>\n",
       "    </tr>\n",
       "  </tbody>\n",
       "</table>\n",
       "</div>"
      ],
      "text/plain": [
       "clirad band      1       2        3       4       5       6       7       8   \\\n",
       "molecule                                                                       \n",
       "h2o          atmpro  atmpro   atmpro  atmpro  atmpro  atmpro  atmpro  atmpro   \n",
       "co2               0       0   0.0004  0.0004  0.0004  0.0004  0.0004       0   \n",
       "n2o               0       0  3.2e-07       0       0       0       0       0   \n",
       "o3                0       0        0       0       0       0  atmpro       0   \n",
       "ch4               0       0        0       0       0       0       0       0   \n",
       "\n",
       "clirad band       9       10      11  \n",
       "molecule                              \n",
       "h2o           atmpro  atmpro  atmpro  \n",
       "co2                0       0  0.0004  \n",
       "n2o          3.2e-07       0       0  \n",
       "o3                 0       0       0  \n",
       "ch4          1.8e-06       0       0  "
      ]
     },
     "metadata": {},
     "output_type": "display_data"
    },
    {
     "data": {
      "text/markdown": [
       "*TABLE.* The makeup of the atmosphere."
      ],
      "text/plain": [
       "<IPython.core.display.Markdown object>"
      ]
     },
     "metadata": {},
     "output_type": "display_data"
    },
    {
     "data": {
      "text/html": [
       "<a id=\"Cooling_rates._mls.\"></a>"
      ],
      "text/plain": [
       "<IPython.core.display.HTML object>"
      ]
     },
     "metadata": {},
     "output_type": "display_data"
    },
    {
     "data": {
      "text/markdown": [
       "# Cooling rates. mls."
      ],
      "text/plain": [
       "<IPython.core.display.Markdown object>"
      ]
     },
     "metadata": {},
     "output_type": "display_data"
    },
    {
     "data": {
      "text/html": [
       "\n",
       "<div class=\"bk-root\">\n",
       "    <div class=\"bk-plotdiv\" id=\"7a4cd68b-84ef-4014-859d-2e49199c3006\"></div>\n",
       "</div>"
      ]
     },
     "metadata": {},
     "output_type": "display_data"
    },
    {
     "data": {
      "application/javascript": [
       "(function(root) {\n",
       "  function embed_document(root) {\n",
       "    \n",
       "  var docs_json = {\"3cd28c6a-125e-4e85-b83f-537ee44e4cbd\":{\"roots\":{\"references\":[{\"attributes\":{},\"id\":\"d107ba9b-1f9b-4db5-b113-1d83b71a96fe\",\"type\":\"HelpTool\"},{\"attributes\":{},\"id\":\"d6b7094a-6fed-4a9c-8e55-cc3df7af5d78\",\"type\":\"UnionRenderers\"},{\"attributes\":{\"overlay\":{\"id\":\"2e91a936-5da7-462b-9c5c-22602346e8c3\",\"type\":\"BoxAnnotation\"}},\"id\":\"8fd7d765-de4f-4e46-9cea-8e47067b53b3\",\"type\":\"BoxZoomTool\"},{\"attributes\":{\"data_source\":{\"id\":\"3e409750-0ab8-4cd1-a824-7f1ba187cda3\",\"type\":\"ColumnDataSource\"},\"glyph\":{\"id\":\"39f7e121-c3d6-4f3e-b004-65331293fafa\",\"type\":\"Line\"},\"hover_glyph\":null,\"muted_glyph\":null,\"nonselection_glyph\":{\"id\":\"ae064415-7bfb-46fe-a43f-37fb5ebfc25c\",\"type\":\"Line\"},\"selection_glyph\":null,\"view\":{\"id\":\"6116f659-aae8-4cd8-ac56-5bba57b50336\",\"type\":\"CDSView\"}},\"id\":\"7a7e68b8-1594-42ad-b9bd-6920c53de596\",\"type\":\"GlyphRenderer\"},{\"attributes\":{},\"id\":\"7f57000e-609a-40f7-acde-c736a9ef92e0\",\"type\":\"UnionRenderers\"},{\"attributes\":{\"fill_alpha\":{\"value\":0.7},\"fill_color\":{\"value\":\"#377eb8\"},\"line_alpha\":{\"value\":0.7},\"line_color\":{\"value\":\"#377eb8\"},\"x\":{\"field\":\"x\"},\"y\":{\"field\":\"y\"}},\"id\":\"6329444b-2b82-4855-b6d8-63a98923afb7\",\"type\":\"Square\"},{\"attributes\":{\"plot\":null,\"text\":\"\"},\"id\":\"5eef2bb0-3f5c-4fa5-aa58-b37a04447d85\",\"type\":\"Title\"},{\"attributes\":{},\"id\":\"495eb2d4-0ea0-4760-93f5-28ed4989c939\",\"type\":\"UnionRenderers\"},{\"attributes\":{\"source\":{\"id\":\"06f68e0e-898d-40af-8d97-863f3e18ddd0\",\"type\":\"ColumnDataSource\"}},\"id\":\"6ad6ab52-1200-4262-9863-f7d3c66a9dae\",\"type\":\"CDSView\"},{\"attributes\":{},\"id\":\"ac2c799d-093c-4cdd-8528-01d9fe7c3101\",\"type\":\"Selection\"},{\"attributes\":{},\"id\":\"2ebdac3b-f0f3-4240-898b-1e103261f309\",\"type\":\"Selection\"},{\"attributes\":{\"bottom_units\":\"screen\",\"fill_alpha\":{\"value\":0.5},\"fill_color\":{\"value\":\"lightgrey\"},\"left_units\":\"screen\",\"level\":\"overlay\",\"line_alpha\":{\"value\":1.0},\"line_color\":{\"value\":\"black\"},\"line_dash\":[4,4],\"line_width\":{\"value\":2},\"plot\":null,\"render_mode\":\"css\",\"right_units\":\"screen\",\"top_units\":\"screen\"},\"id\":\"32c9cbdd-b471-4794-8f49-b0ece912d59b\",\"type\":\"BoxAnnotation\"},{\"attributes\":{\"above\":[{\"id\":\"6cd20f44-b7f7-4986-8837-c2b2350bcafc\",\"type\":\"Legend\"}],\"below\":[{\"id\":\"4ecdb41a-2920-4b59-9b71-9bf1597ef6b7\",\"type\":\"LinearAxis\"}],\"left\":[{\"id\":\"9137b0a0-5080-4bc1-936d-bf4a11e4ebd1\",\"type\":\"LinearAxis\"}],\"plot_width\":300,\"renderers\":[{\"id\":\"4ecdb41a-2920-4b59-9b71-9bf1597ef6b7\",\"type\":\"LinearAxis\"},{\"id\":\"f09df814-c58e-4408-b81b-5caf60e5f1b3\",\"type\":\"Grid\"},{\"id\":\"9137b0a0-5080-4bc1-936d-bf4a11e4ebd1\",\"type\":\"LinearAxis\"},{\"id\":\"e32fba69-18d5-4cf3-be63-a8fd1afdbaf2\",\"type\":\"Grid\"},{\"id\":\"2e91a936-5da7-462b-9c5c-22602346e8c3\",\"type\":\"BoxAnnotation\"},{\"id\":\"12241e1c-ba4e-4ee2-b476-1bbfce700855\",\"type\":\"GlyphRenderer\"},{\"id\":\"e49b43e2-da7c-4db7-9b42-7cb9af12892c\",\"type\":\"GlyphRenderer\"},{\"id\":\"49554aff-c2a7-41cc-b647-c427536b1ab6\",\"type\":\"GlyphRenderer\"},{\"id\":\"fb8ac9d1-1664-48e8-86ef-858004661856\",\"type\":\"GlyphRenderer\"},{\"id\":\"7a7e68b8-1594-42ad-b9bd-6920c53de596\",\"type\":\"GlyphRenderer\"},{\"id\":\"6cd20f44-b7f7-4986-8837-c2b2350bcafc\",\"type\":\"Legend\"}],\"title\":{\"id\":\"013d94a0-6ce5-49f8-a8cf-9f47adaa2067\",\"type\":\"Title\"},\"toolbar\":{\"id\":\"be224101-328a-4753-93ea-9290175a6f38\",\"type\":\"Toolbar\"},\"toolbar_location\":null,\"x_range\":{\"id\":\"8215cb8c-9d8b-4f84-b761-817c1864fe36\",\"type\":\"Range1d\"},\"x_scale\":{\"id\":\"a8f860f7-185c-4a20-b603-32f55a1546de\",\"type\":\"LinearScale\"},\"y_range\":{\"id\":\"76f80dac-6e22-490c-92bb-131f6755b57c\",\"type\":\"Range1d\"},\"y_scale\":{\"id\":\"74f834d8-cb1e-46dd-9a5c-acc8274baf57\",\"type\":\"LinearScale\"}},\"id\":\"6810da44-510c-454f-b496-cfb0cca28ab7\",\"subtype\":\"Figure\",\"type\":\"Plot\"},{\"attributes\":{\"line_alpha\":0.1,\"line_color\":\"#1f77b4\",\"line_dash\":[6],\"line_width\":5,\"x\":{\"field\":\"x\"},\"y\":{\"field\":\"y\"}},\"id\":\"0e2b5a5c-6ef5-49e9-b4c0-855f110b5d8c\",\"type\":\"Line\"},{\"attributes\":{},\"id\":\"3b63ff0a-9038-4a31-b94b-a29d2cc22294\",\"type\":\"PanTool\"},{\"attributes\":{},\"id\":\"80b546bb-971b-45f0-b20a-4c4e03d4bd6a\",\"type\":\"SaveTool\"},{\"attributes\":{\"dimension\":1,\"plot\":{\"id\":\"6810da44-510c-454f-b496-cfb0cca28ab7\",\"subtype\":\"Figure\",\"type\":\"Plot\"},\"ticker\":{\"id\":\"32749d16-16e4-4c30-ad80-ea8ea3430e36\",\"type\":\"BasicTicker\"}},\"id\":\"e32fba69-18d5-4cf3-be63-a8fd1afdbaf2\",\"type\":\"Grid\"},{\"attributes\":{},\"id\":\"d0ea1990-8004-4915-912e-da8b66a6e686\",\"type\":\"BasicTickFormatter\"},{\"attributes\":{},\"id\":\"5aed7b5b-a7bb-4108-bc48-d4b7068438b9\",\"type\":\"UnionRenderers\"},{\"attributes\":{\"axis_label\":\"pressure [mb]\",\"formatter\":{\"id\":\"bf0a1535-7376-4595-9759-8f4157a57308\",\"type\":\"LogTickFormatter\"},\"plot\":{\"id\":\"9d4329bf-c46f-49b8-a09c-8cb5b9f4fc11\",\"subtype\":\"Figure\",\"type\":\"Plot\"},\"ticker\":{\"id\":\"15a052ac-5197-4b83-9503-e0952aa621e3\",\"type\":\"LogTicker\"}},\"id\":\"bfd5f859-f5b3-4f07-9fa4-0fd286de3acc\",\"type\":\"LogAxis\"},{\"attributes\":{},\"id\":\"d8462071-c569-493a-bf27-34f36ec52396\",\"type\":\"Selection\"},{\"attributes\":{\"fill_alpha\":{\"value\":0.1},\"fill_color\":{\"value\":\"#1f77b4\"},\"line_alpha\":{\"value\":0.1},\"line_color\":{\"value\":\"#1f77b4\"},\"x\":{\"field\":\"x\"},\"y\":{\"field\":\"y\"}},\"id\":\"7fe6338b-07ef-4080-b8f4-a836cf35bbd8\",\"type\":\"Square\"},{\"attributes\":{\"above\":[{\"id\":\"4c38f577-39c7-4a47-8c1d-1eec82c211d1\",\"type\":\"Legend\"}],\"below\":[{\"id\":\"c5fcbaed-9a19-45ae-9cc8-feab322df84f\",\"type\":\"LinearAxis\"}],\"left\":[{\"id\":\"bfd5f859-f5b3-4f07-9fa4-0fd286de3acc\",\"type\":\"LogAxis\"}],\"plot_width\":300,\"renderers\":[{\"id\":\"c5fcbaed-9a19-45ae-9cc8-feab322df84f\",\"type\":\"LinearAxis\"},{\"id\":\"2be47790-98ff-4f85-8157-53c1c44be0f9\",\"type\":\"Grid\"},{\"id\":\"bfd5f859-f5b3-4f07-9fa4-0fd286de3acc\",\"type\":\"LogAxis\"},{\"id\":\"402b5a23-64f3-43ad-bba3-2586ad3ee852\",\"type\":\"Grid\"},{\"id\":\"32c9cbdd-b471-4794-8f49-b0ece912d59b\",\"type\":\"BoxAnnotation\"},{\"id\":\"2ebaa94f-5f8c-4eb1-9226-bf4205c4749b\",\"type\":\"GlyphRenderer\"},{\"id\":\"7c69fde9-74c8-4f42-a403-0dd0fb5a721e\",\"type\":\"GlyphRenderer\"},{\"id\":\"29ed39f0-51b8-4283-b28d-fb7c9b58e3ef\",\"type\":\"GlyphRenderer\"},{\"id\":\"903b95d3-cbfe-4a00-8421-b9349a4d9961\",\"type\":\"GlyphRenderer\"},{\"id\":\"4eb42da9-3fc0-437f-a758-50a4ee3e5922\",\"type\":\"GlyphRenderer\"},{\"id\":\"4c38f577-39c7-4a47-8c1d-1eec82c211d1\",\"type\":\"Legend\"}],\"title\":{\"id\":\"5eef2bb0-3f5c-4fa5-aa58-b37a04447d85\",\"type\":\"Title\"},\"toolbar\":{\"id\":\"69cb82fb-b6d4-4bba-9532-fe6674014727\",\"type\":\"Toolbar\"},\"toolbar_location\":null,\"x_range\":{\"id\":\"0bbce0b4-8c49-49c1-bc64-fc27af7e566d\",\"type\":\"Range1d\"},\"x_scale\":{\"id\":\"6cb46b5d-bf9d-4d91-a5e5-0aa5a7aaa73c\",\"type\":\"LinearScale\"},\"y_range\":{\"id\":\"fd2d99ef-17bc-455c-8661-d8b8291bc956\",\"type\":\"Range1d\"},\"y_scale\":{\"id\":\"c5107867-ec04-40fd-96df-f3573d4ca0b8\",\"type\":\"LogScale\"}},\"id\":\"9d4329bf-c46f-49b8-a09c-8cb5b9f4fc11\",\"subtype\":\"Figure\",\"type\":\"Plot\"},{\"attributes\":{\"active_drag\":\"auto\",\"active_inspect\":\"auto\",\"active_scroll\":\"auto\",\"active_tap\":\"auto\",\"tools\":[{\"id\":\"3b63ff0a-9038-4a31-b94b-a29d2cc22294\",\"type\":\"PanTool\"},{\"id\":\"a17b8276-dcf2-4294-bf34-7d7558039b9e\",\"type\":\"WheelZoomTool\"},{\"id\":\"8fd7d765-de4f-4e46-9cea-8e47067b53b3\",\"type\":\"BoxZoomTool\"},{\"id\":\"f7ee8e66-7ac5-4941-9cb8-eaf1e05a834f\",\"type\":\"SaveTool\"},{\"id\":\"b2bd4652-ba9f-44cc-9c5b-f16963e26fb4\",\"type\":\"ResetTool\"},{\"id\":\"dc9af827-40d2-4185-9ab5-caac8d73d673\",\"type\":\"HelpTool\"}]},\"id\":\"be224101-328a-4753-93ea-9290175a6f38\",\"type\":\"Toolbar\"},{\"attributes\":{},\"id\":\"7efeb4b3-bb6d-4021-8a5c-2070776ddcf9\",\"type\":\"Selection\"},{\"attributes\":{\"callback\":null,\"end\":0.01,\"start\":1020},\"id\":\"76f80dac-6e22-490c-92bb-131f6755b57c\",\"type\":\"Range1d\"},{\"attributes\":{\"callback\":null,\"data\":{\"x\":{\"__ndarray__\":\"MXhf+wfXU0AZbvNjswdFQLQWsEQVdUFA5TlpnhT9QUB/x1dOYK05QImjxHmcEjZA9jYDSBB3L0AISPl4H6wqQBPuuwfAzyJAOcHprUZAIUB7WWpkesAXQJoT1Uq+ChVArO/8u0EXCkBgVNlshzgCQMeNQ+Nzu/I/POwv1Qzh+D9QxMRmcj8DQOrE7tC4mAxAQsLBRIlHEkAi4cPYoDEXQEeDpjRjzB1ASZ0GEfCuI0DVFj11sssnQOMiVKSMHyhAWRHvUxNoJEDo8cjD4g8gQLGGvR2NDRpAdpI3nV5oFECtyWH9Lp4QQIZQd9bvmwtAkshlnu1BBkBMysnQf1UAQHZJU/DYZ/c/HoEhV+G48T/rSm4vc/TmP3EgV4cD49g/xmy6+4w7zz+bEsjh3uDDPw5SRMRogKs/4GPKdPc1a78lazVXN1vCP/B84ODeUug/LOyxgXDV9z+/DBHyZAwAQAOIY+fy/QFAahF3XKCUAECV0GHvGsz+P+X4k4Nhvf0/RO/IqI98/T8rkW+v/zT9P59vGMDsAv0/zEX7plCY/D/E3siS8kj7P2yUMv+hDvs/RmrXDaYs+z+c9f5GCO36P58nVCbr7vo/Qus8hbcy/D+rD5hFMCf9P4t6dxofnPw/bRp4QYZ2/D/q8NNiN2b8P5YTVw9ESPw/l1Dy0X/K+j+WKih3ZdD5P2k8OYxHjvk/hceGh5N4+T8lpPahWSn5P6vJnePt4vY/UuhmxnXI9T8miFqdE+D0Pz7qfx5CR/Q/0khvq2US9D9LfVdHQGv0P9syeEmwYfg/\",\"dtype\":\"float64\",\"shape\":[75]},\"y\":{\"__ndarray__\":\"hLndy31yND/6fmq8dJNIP8n9DkWBPlE/aDum7souWD/b4a/JGvVgP9f34SAhymc/ZvM4DOavcD+z0M5pFmh3PxuC4zJuaoA/xjcUPlsHhz8uHAjJAiaQP9ieWRKgppY/oI7HDFTGnz+a5h2n6EimPzS6g9iZQq8/IuAQqtTstT9SSZ2AJsK+P4nS3uALk8U/ih9j7lpCzj+ASL99HTjVP4enV8oyxN0/ACL99nXg5D9fmEwVjErtPyUGgZVDi/Q/AiuHFtnO/D9OYhBYOTQEQPHSTWIQWAxA4XoUrkfhE0D8qfHSTeIbQMh2vp8ajyNArkfhehRuK0Bcj8L1KDwzQFyPwvUo/DpAPgrXo3DtQkDNzMzMzIxKQClcj8L1eFJAKVyPwvVoWECamZmZmVleQGZmZmZmJmJAAAAAAAAgZUCamZmZmRloQJqZmZmZEWtAmpmZmZkJbkCamZmZmYFwQGZmZmZm/nFAZmZmZmZ6c0BmZmZmZvZ0QDQzMzMzc3ZAAAAAAADwd0AAAAAAAGx5QAAAAAAA6HpAzMzMzMxkfEDMzMzMzOB9QM3MzMzMXH9AzczMzMxsgEAzMzMzMyuBQDMzMzMz6YFAMzMzMzOngkCamZmZmWWDQAAAAAAAJIRAAAAAAADihEAAAAAAAKCFQGZmZmZmXoZAzczMzMwch0DNzMzMzNqHQM3MzMzMmIhAMzMzMzNXiUCamZmZmRWKQAAAAAAA1IpAAAAAAACSi0AAAAAAAFCMQGZmZmZmDo1AzczMzMzMjUDNzMzMzIqOQM3MzMzMSI9A\",\"dtype\":\"float64\",\"shape\":[75]}},\"selected\":{\"id\":\"7d6cc16d-97dd-4924-a499-e9371d24afe9\",\"type\":\"Selection\"},\"selection_policy\":{\"id\":\"7f57000e-609a-40f7-acde-c736a9ef92e0\",\"type\":\"UnionRenderers\"}},\"id\":\"3e409750-0ab8-4cd1-a824-7f1ba187cda3\",\"type\":\"ColumnDataSource\"},{\"attributes\":{},\"id\":\"7d6cc16d-97dd-4924-a499-e9371d24afe9\",\"type\":\"Selection\"},{\"attributes\":{},\"id\":\"41ab1be7-d3ab-42ee-9705-300336463914\",\"type\":\"UnionRenderers\"},{\"attributes\":{},\"id\":\"a17b8276-dcf2-4294-bf34-7d7558039b9e\",\"type\":\"WheelZoomTool\"},{\"attributes\":{\"source\":{\"id\":\"3e409750-0ab8-4cd1-a824-7f1ba187cda3\",\"type\":\"ColumnDataSource\"}},\"id\":\"6116f659-aae8-4cd8-ac56-5bba57b50336\",\"type\":\"CDSView\"},{\"attributes\":{},\"id\":\"32749d16-16e4-4c30-ad80-ea8ea3430e36\",\"type\":\"BasicTicker\"},{\"attributes\":{},\"id\":\"51dc783f-0f8c-43d6-a85b-2cadfc71cd1e\",\"type\":\"PanTool\"},{\"attributes\":{\"callback\":null,\"data\":{\"x\":{\"__ndarray__\":\"Ay4WgzmiRUAzdH4xyelCQI/4CCUPukFAmDQrpSkbQEAzbNWwowU8QFVgF/XlEDdAoDiHgYPLMUABmdymgcIpQGLYd07xCSJArfSs310nGkAWc9HvWtkUQOusy4pytBFAJqIBIKFJDUB2OQnHDJMDQMl96Kg58fU/43VcVuWK+j82Bjz+TzEFQNyoIwf3DQtAy+LYYlLgEEBpIj3ZQhcWQG2pjOCj/R1Af3bvKgrVJEABDCYXO8wqQEzO0e7F+ylAYXLSO7hOJEAgnb4nokcgQNoX8+gOZBtA1Mo1E7QFFkBNX8S4nigRQOo4z07g4AtAipA4vs4ICEB/nUqZ58sCQFWembm6Bfo/xtoM8LVF8T+FTjDicHrnPwW0NlGD6Ns/djxG7dEQzT/kgWfK0UXAP04e7p6uAKO/U8LMJsVjyb/9SNhTfdyDv6yHiyRvwuc/YH/Q96J+9z8fz8lq9RYAQHNa8arPlwFA6C5g8skGAEDf2G6Pg0P+Pzx05xsQIv0/aqvhULpq/D9/cRIK1jv8P0N2gFVlV/w/l8yGPE/u+z8PyvyTInP7P5+BCjLJB/s/712TDke9+j855FpFY4f6P7S7Qdxnhfo/BEctRHOb+z/jcb7JUHz8P62m1jeD/vw/Kl5ga3r9/D8lrYwPuV38Pz+eRmufRvs/QIGudyMW+j/FXLa7nv/4P2WVJw9Rbfg/CejmZKc8+D+aZMjXvDf4PwzcqrkWtPc/y2300tGk9j+PCzl883P1P+ux3ZfUiPQ/9dhElUIR9D9+kji0k0T0P9hVz+l87/o/\",\"dtype\":\"float64\",\"shape\":[75]},\"y\":{\"__ndarray__\":\"S/O/Q+51ND/Sv8nbtpRIP2vylNV0PVE/aTum7souWD/At0SJ8fVgPw3Iuahxymc/MSNhhJWvcD/bTfBN02d3P2zb5nxnaoA/CD5h5MAGhz8NmeH1TyaQP+zrCsc9p5Y/LbKd76fGnz/bLW5ISEmmPww9YvTcQq8/JV2OstnstT8Er5Y7M8G+P0c+r3jqkcU/5h99k6ZBzj88bCIzFzjVP4enV8oyxN0//yH99nXg5D8qOpLLf0jtP5kqGJXUifQ/c9cS8kHP/D+/DpwzojQEQIEmwoanVwxA4lgXt9HgE0BSSZ2AJuIbQAMJih9jjiNA5q4l5INuK0AwTKYKRj0zQNv5fmq8/DpAaCJseHrtQkB/+zpwzoxKQM3MzMzMeFJAZmZmZmZqWEAAAAAAAFxeQM3MzMzMJmJAmpmZmZkfZUBmZmZmZhhoQDMzMzMzEWtAAAAAAAAKbkBmZmZmZoFwQM3MzMzM/XFAMzMzMzN6c0CamZmZmfZ0QAAAAAAAc3ZAZmZmZmbvd0DNzMzMzGt5QDMzMzMz6HpAmpmZmZlkfEAAAAAAAOF9QGZmZmZmXX9AZmZmZuZsgECamZmZGSuBQM3MzMxM6YFAAAAAAICngkAzMzMzs2WDQGZmZmbmI4RAmpmZmRnihEDNzMzMTKCFQAAAAACAXoZAMzMzM7Mch0BmZmZm5tqHQJqZmZkZmYhAzczMzExXiUAAAAAAgBWKQDMzMzOz04pAZmZmZuaRi0CamZmZGVCMQM3MzMxMDo1AAAAAAIDMjUAzMzMzs4qOQGZmZmbmSI9A\",\"dtype\":\"float64\",\"shape\":[75]}},\"selected\":{\"id\":\"6df76d2b-acb1-455e-bd7e-7225d4ab7c45\",\"type\":\"Selection\"},\"selection_policy\":{\"id\":\"ef5b8091-a671-4e5c-9c02-95668b379842\",\"type\":\"UnionRenderers\"}},\"id\":\"91b5edbf-84b3-4bb7-ae0e-988060d23f87\",\"type\":\"ColumnDataSource\"},{\"attributes\":{},\"id\":\"b027ac73-8eb9-4a9f-9c5e-0c63b86046ae\",\"type\":\"Selection\"},{\"attributes\":{},\"id\":\"dc9af827-40d2-4185-9ab5-caac8d73d673\",\"type\":\"HelpTool\"},{\"attributes\":{},\"id\":\"079d99f3-0921-46c3-adfb-b687b7ee3acc\",\"type\":\"ResetTool\"},{\"attributes\":{},\"id\":\"285e9ede-4dc0-49f6-9739-4a509c6d62c6\",\"type\":\"UnionRenderers\"},{\"attributes\":{\"data_source\":{\"id\":\"91b5edbf-84b3-4bb7-ae0e-988060d23f87\",\"type\":\"ColumnDataSource\"},\"glyph\":{\"id\":\"edcd262f-2f75-446b-9b89-c98c22269c77\",\"type\":\"Line\"},\"hover_glyph\":null,\"muted_glyph\":null,\"nonselection_glyph\":{\"id\":\"0e2b5a5c-6ef5-49e9-b4c0-855f110b5d8c\",\"type\":\"Line\"},\"selection_glyph\":null,\"view\":{\"id\":\"36159a1b-aac6-438d-92e7-c9744f99a889\",\"type\":\"CDSView\"}},\"id\":\"12241e1c-ba4e-4ee2-b476-1bbfce700855\",\"type\":\"GlyphRenderer\"},{\"attributes\":{\"plot\":{\"id\":\"9d4329bf-c46f-49b8-a09c-8cb5b9f4fc11\",\"subtype\":\"Figure\",\"type\":\"Plot\"},\"ticker\":{\"id\":\"d23a5afd-6c8b-4f2f-a23c-ecbfbdbf3454\",\"type\":\"BasicTicker\"}},\"id\":\"2be47790-98ff-4f85-8157-53c1c44be0f9\",\"type\":\"Grid\"},{\"attributes\":{\"line_alpha\":0.5,\"line_color\":\"#377eb8\",\"line_width\":1.5,\"x\":{\"field\":\"x\"},\"y\":{\"field\":\"y\"}},\"id\":\"39f7e121-c3d6-4f3e-b004-65331293fafa\",\"type\":\"Line\"},{\"attributes\":{},\"id\":\"0856598e-7107-478a-8af8-a8b466a76771\",\"type\":\"Selection\"},{\"attributes\":{\"axis_label\":\"pressure [mb]\",\"formatter\":{\"id\":\"dd8b6311-caf6-44ae-a03d-6529e6c07b15\",\"type\":\"BasicTickFormatter\"},\"plot\":{\"id\":\"6810da44-510c-454f-b496-cfb0cca28ab7\",\"subtype\":\"Figure\",\"type\":\"Plot\"},\"ticker\":{\"id\":\"32749d16-16e4-4c30-ad80-ea8ea3430e36\",\"type\":\"BasicTicker\"}},\"id\":\"9137b0a0-5080-4bc1-936d-bf4a11e4ebd1\",\"type\":\"LinearAxis\"},{\"attributes\":{},\"id\":\"6c2e510d-fe48-48bc-9c0d-b78fcacf58e3\",\"type\":\"WheelZoomTool\"},{\"attributes\":{\"bottom_units\":\"screen\",\"fill_alpha\":{\"value\":0.5},\"fill_color\":{\"value\":\"lightgrey\"},\"left_units\":\"screen\",\"level\":\"overlay\",\"line_alpha\":{\"value\":1.0},\"line_color\":{\"value\":\"black\"},\"line_dash\":[4,4],\"line_width\":{\"value\":2},\"plot\":null,\"render_mode\":\"css\",\"right_units\":\"screen\",\"top_units\":\"screen\"},\"id\":\"2e91a936-5da7-462b-9c5c-22602346e8c3\",\"type\":\"BoxAnnotation\"},{\"attributes\":{\"line_alpha\":0.1,\"line_color\":\"#1f77b4\",\"line_width\":1.5,\"x\":{\"field\":\"x\"},\"y\":{\"field\":\"y\"}},\"id\":\"ae064415-7bfb-46fe-a43f-37fb5ebfc25c\",\"type\":\"Line\"},{\"attributes\":{\"callback\":null,\"data\":{\"x\":{\"__ndarray__\":\"Plrp3Z5jIcBKBfk9Qf4EwAhIBjTPV/g/re0xy0SUDEBKEKO2F2oNQEotRpaPLQNAtDasTSvz4j/Y3ph+zcLqv4miLOrMCfa/OZBOUS2a8b+Z2paSN0Xfv1rfYeD8N7A/VKELW16e2T/SMT3umRDfP8gh/JbbJ9Q/51E4qEcEoT9WPU9YQbrQv7cvfAWGNOC/FNnELayj4L8H/Z4Hc+/RvyD2rlRKVnm/oiytkRnvqr/asVgECtHTv8S4lvwuT9e/lyLME90hsb+NumOLN4rYP2kST9+NU9c/ZHxOx1zgtz+8LlyImOOXP/M/QDSg49A/o19OiZWc1T8r3Tg+sr3DPwNRi39W7Jy/pot48Rxicz/M/YUoLnSuP9PWP6lll34/EA5yTmTwq7/VHz/yu+C2v7idMclkh7m/zr7TrDXmtb+tZ9JQi4mwv8Fb5PyqNq+/RXg+tzI/nb9kXxACbO22vyPL1Yclmbi/Ni/HdfWLq7+VvARYV+iuvywUiu+ftrO/2INf1gPnsr90zRiVMqerv/ZCQ546s6K/UwZzLjJfmL8ZbMtKJ+aUvwLnnTDIqZS/eN5UNdxfmb8dBs8ktFybvzkwxDJBwpO/qA45dIJPVj+1n5LzvX+gP9DECtE+aqw/zGSrPX/prT+uWeZFjnqlPxImF6RXypU/0KnXZtHmWT8AGej+SwlBPzTnWDkPgoE/Lp8yUn1Unj87o+X0gG+oP3LpuEoSrK8/6IIHwTsdsj9OhzEMSFmzP2c1UW85I7Q/Hxy8y9bVtD8HjZAcEVW0Pw==\",\"dtype\":\"float64\",\"shape\":[74]},\"y\":{\"__ndarray__\":\"0r/J27aUSD9r8pTVdD1RP2k7pu7KLlg/wLdEifH1YD8NyLmoccpnPzEjYYSVr3A/203wTdNndz9s2+Z8Z2qAPwg+YeTABoc/DZnh9U8mkD/s6wrHPaeWPy2yne+nxp8/2y1uSEhJpj8MPWL03EKvPyVdjrLZ7LU/BK+WOzPBvj9HPq946pHFP+YffZOmQc4/PGwiMxc41T+Hp1fKMsTdP/8h/fZ14OQ/KjqSy39I7T+ZKhiV1In0P3PXEvJBz/w/vw6cM6I0BECBJsKGp1cMQOJYF7fR4BNAUkmdgCbiG0ADCYofY44jQOauJeSDbitAMEymCkY9M0Db+X5qvPw6QGgibHh67UJAf/s6cM6MSkDNzMzMzHhSQGZmZmZmalhAAAAAAABcXkDNzMzMzCZiQJqZmZmZH2VAZmZmZmYYaEAzMzMzMxFrQAAAAAAACm5AZmZmZmaBcEDNzMzMzP1xQDMzMzMzenNAmpmZmZn2dEAAAAAAAHN2QGZmZmZm73dAzczMzMxreUAzMzMzM+h6QJqZmZmZZHxAAAAAAADhfUBmZmZmZl1/QGZmZmbmbIBAmpmZmRkrgUDNzMzMTOmBQAAAAACAp4JAMzMzM7Nlg0BmZmZm5iOEQJqZmZkZ4oRAzczMzEyghUAAAAAAgF6GQDMzMzOzHIdAZmZmZubah0CamZmZGZmIQM3MzMxMV4lAAAAAAIAVikAzMzMzs9OKQGZmZmbmkYtAmpmZmRlQjEDNzMzMTA6NQAAAAACAzI1AMzMzM7OKjkBmZmZm5kiPQA==\",\"dtype\":\"float64\",\"shape\":[74]}},\"selected\":{\"id\":\"298ac3db-8e71-4c1b-a1ce-476fd3cfc1ac\",\"type\":\"Selection\"},\"selection_policy\":{\"id\":\"7ca6ec57-ded0-44c4-aefc-2e751421c5b9\",\"type\":\"UnionRenderers\"}},\"id\":\"1c831c98-df62-4e18-a134-1fdc1d2577f0\",\"type\":\"ColumnDataSource\"},{\"attributes\":{\"line_alpha\":0.1,\"line_color\":\"#1f77b4\",\"line_dash\":[6],\"line_width\":5,\"x\":{\"field\":\"x\"},\"y\":{\"field\":\"y\"}},\"id\":\"01fb4de0-aaaa-4c4d-8fe7-a3b844409042\",\"type\":\"Line\"},{\"attributes\":{\"overlay\":{\"id\":\"32c9cbdd-b471-4794-8f49-b0ece912d59b\",\"type\":\"BoxAnnotation\"}},\"id\":\"d8395cf5-c9fe-440d-a403-a3b1a99ece56\",\"type\":\"BoxZoomTool\"},{\"attributes\":{\"line_alpha\":0.6,\"line_color\":\"#e41a1c\",\"line_dash\":[6],\"line_width\":5,\"x\":{\"field\":\"x\"},\"y\":{\"field\":\"y\"}},\"id\":\"edcd262f-2f75-446b-9b89-c98c22269c77\",\"type\":\"Line\"},{\"attributes\":{},\"id\":\"f7ee8e66-7ac5-4941-9cb8-eaf1e05a834f\",\"type\":\"SaveTool\"},{\"attributes\":{\"ticker\":null},\"id\":\"bf0a1535-7376-4595-9759-8f4157a57308\",\"type\":\"LogTickFormatter\"},{\"attributes\":{\"callback\":null,\"end\":2.3135572750986206,\"start\":-0.22322768330062},\"id\":\"8215cb8c-9d8b-4f84-b761-817c1864fe36\",\"type\":\"Range1d\"},{\"attributes\":{},\"id\":\"b2bd4652-ba9f-44cc-9c5b-f16963e26fb4\",\"type\":\"ResetTool\"},{\"attributes\":{\"data_source\":{\"id\":\"06f68e0e-898d-40af-8d97-863f3e18ddd0\",\"type\":\"ColumnDataSource\"},\"glyph\":{\"id\":\"6329444b-2b82-4855-b6d8-63a98923afb7\",\"type\":\"Square\"},\"hover_glyph\":null,\"muted_glyph\":null,\"nonselection_glyph\":{\"id\":\"7fe6338b-07ef-4080-b8f4-a836cf35bbd8\",\"type\":\"Square\"},\"selection_glyph\":null,\"view\":{\"id\":\"6ad6ab52-1200-4262-9863-f7d3c66a9dae\",\"type\":\"CDSView\"}},\"id\":\"fb8ac9d1-1664-48e8-86ef-858004661856\",\"type\":\"GlyphRenderer\"},{\"attributes\":{},\"id\":\"0e818218-7101-4396-97cb-4eb7f72175bf\",\"type\":\"Selection\"},{\"attributes\":{},\"id\":\"71cc6cb0-a29f-4573-83b3-4c59857acaab\",\"type\":\"BasicTicker\"},{\"attributes\":{\"axis_label\":\"cooling rate [K/day]\",\"formatter\":{\"id\":\"cfabfade-5e02-414c-ae70-0c4ddecbc1a2\",\"type\":\"BasicTickFormatter\"},\"plot\":{\"id\":\"6810da44-510c-454f-b496-cfb0cca28ab7\",\"subtype\":\"Figure\",\"type\":\"Plot\"},\"ticker\":{\"id\":\"71cc6cb0-a29f-4573-83b3-4c59857acaab\",\"type\":\"BasicTicker\"}},\"id\":\"4ecdb41a-2920-4b59-9b71-9bf1597ef6b7\",\"type\":\"LinearAxis\"},{\"attributes\":{},\"id\":\"6df76d2b-acb1-455e-bd7e-7225d4ab7c45\",\"type\":\"Selection\"},{\"attributes\":{\"data_source\":{\"id\":\"8d6e3d0f-334b-4208-aa2e-b94702c84c8a\",\"type\":\"ColumnDataSource\"},\"glyph\":{\"id\":\"3001610b-ba68-4697-b214-c9d7fb8a73e8\",\"type\":\"Line\"},\"hover_glyph\":null,\"muted_glyph\":null,\"nonselection_glyph\":{\"id\":\"802cdcf6-b947-4ad9-87a3-bd543111641e\",\"type\":\"Line\"},\"selection_glyph\":null,\"view\":{\"id\":\"cf3836ef-cc53-4a72-a652-230ca08419f2\",\"type\":\"CDSView\"}},\"id\":\"f69362c7-d6d3-4bec-98db-1a0052eb6bfc\",\"type\":\"GlyphRenderer\"},{\"attributes\":{},\"id\":\"58cf42f2-2236-422e-a5f8-4ef772029316\",\"type\":\"LogScale\"},{\"attributes\":{\"items\":[{\"id\":\"827cac53-c946-4e63-bf60-c70691445604\",\"type\":\"LegendItem\"},{\"id\":\"823362b3-eef8-49e4-b048-87c67528d395\",\"type\":\"LegendItem\"},{\"id\":\"447827d4-e738-4985-a54b-29f57203f919\",\"type\":\"LegendItem\"}],\"label_text_font_size\":{\"value\":\"8pt\"},\"location\":\"top_center\",\"orientation\":\"horizontal\",\"plot\":{\"id\":\"6810da44-510c-454f-b496-cfb0cca28ab7\",\"subtype\":\"Figure\",\"type\":\"Plot\"}},\"id\":\"6cd20f44-b7f7-4986-8837-c2b2350bcafc\",\"type\":\"Legend\"},{\"attributes\":{},\"id\":\"3a09c187-c1f4-478b-ab31-a702d3df47a3\",\"type\":\"WheelZoomTool\"},{\"attributes\":{\"source\":{\"id\":\"1c831c98-df62-4e18-a134-1fdc1d2577f0\",\"type\":\"ColumnDataSource\"}},\"id\":\"be26386d-c8f1-4b94-b84a-d8fde875181a\",\"type\":\"CDSView\"},{\"attributes\":{\"items\":[{\"id\":\"cf89fcbb-d36b-4722-8a56-653ed701f028\",\"type\":\"LegendItem\"},{\"id\":\"0fc07f39-7581-4e5e-9673-d6244d5fcfaa\",\"type\":\"LegendItem\"},{\"id\":\"a48c1fea-2335-4421-b5aa-df2dfb163b6d\",\"type\":\"LegendItem\"}],\"label_text_font_size\":{\"value\":\"8pt\"},\"location\":\"top_center\",\"orientation\":\"horizontal\",\"plot\":{\"id\":\"9d4329bf-c46f-49b8-a09c-8cb5b9f4fc11\",\"subtype\":\"Figure\",\"type\":\"Plot\"}},\"id\":\"4c38f577-39c7-4a47-8c1d-1eec82c211d1\",\"type\":\"Legend\"},{\"attributes\":{\"plot\":{\"id\":\"6810da44-510c-454f-b496-cfb0cca28ab7\",\"subtype\":\"Figure\",\"type\":\"Plot\"},\"ticker\":{\"id\":\"71cc6cb0-a29f-4573-83b3-4c59857acaab\",\"type\":\"BasicTicker\"}},\"id\":\"f09df814-c58e-4408-b81b-5caf60e5f1b3\",\"type\":\"Grid\"},{\"attributes\":{},\"id\":\"5d0d2981-355e-4f1c-b423-5b49ce9ba2fe\",\"type\":\"ResetTool\"},{\"attributes\":{},\"id\":\"205dc632-6739-43fa-abaf-b66246f64fe6\",\"type\":\"Selection\"},{\"attributes\":{},\"id\":\"cf7102d1-8180-4a60-b326-50942230ab1a\",\"type\":\"PanTool\"},{\"attributes\":{\"data_source\":{\"id\":\"1c831c98-df62-4e18-a134-1fdc1d2577f0\",\"type\":\"ColumnDataSource\"},\"glyph\":{\"id\":\"16e8b870-2127-495e-8ce3-8b0cd1e40174\",\"type\":\"Circle\"},\"hover_glyph\":null,\"muted_glyph\":null,\"nonselection_glyph\":{\"id\":\"1d6cb6c9-16a9-4e18-b7d9-aeaa5bf72f56\",\"type\":\"Circle\"},\"selection_glyph\":null,\"view\":{\"id\":\"be26386d-c8f1-4b94-b84a-d8fde875181a\",\"type\":\"CDSView\"}},\"id\":\"c412a238-c973-48ad-9e94-c9b400a536b9\",\"type\":\"GlyphRenderer\"},{\"attributes\":{\"axis_label\":\"cooling rate [K/day]\",\"formatter\":{\"id\":\"3eb3c93a-76f0-4918-8537-fb2505aeace6\",\"type\":\"BasicTickFormatter\"},\"plot\":{\"id\":\"0e6191e4-1198-4d7e-b7d6-54e93f0e63e9\",\"subtype\":\"Figure\",\"type\":\"Plot\"},\"ticker\":{\"id\":\"158cdb75-1090-47de-86e2-6d1720a319f1\",\"type\":\"BasicTicker\"}},\"id\":\"58ece251-07d5-41a2-9331-cbcc280b9024\",\"type\":\"LinearAxis\"},{\"attributes\":{\"callback\":null,\"data\":{\"x\":{\"__ndarray__\":\"Plrp3Z5jIcBKBfk9Qf4EwAhIBjTPV/g/re0xy0SUDEBKEKO2F2oNQEotRpaPLQNAtDasTSvz4j/Y3ph+zcLqv4miLOrMCfa/OZBOUS2a8b+Z2paSN0Xfv1rfYeD8N7A/VKELW16e2T/SMT3umRDfP8gh/JbbJ9Q/51E4qEcEoT9WPU9YQbrQv7cvfAWGNOC/FNnELayj4L8H/Z4Hc+/RvyD2rlRKVnm/oiytkRnvqr/asVgECtHTv8S4lvwuT9e/lyLME90hsb+NumOLN4rYP2kST9+NU9c/ZHxOx1zgtz+8LlyImOOXP/M/QDSg49A/o19OiZWc1T8r3Tg+sr3DPwNRi39W7Jy/pot48Rxicz/M/YUoLnSuP9PWP6lll34/EA5yTmTwq7/VHz/yu+C2v7idMclkh7m/zr7TrDXmtb+tZ9JQi4mwv8Fb5PyqNq+/RXg+tzI/nb9kXxACbO22vyPL1Yclmbi/Ni/HdfWLq7+VvARYV+iuvywUiu+ftrO/2INf1gPnsr90zRiVMqerv/ZCQ546s6K/UwZzLjJfmL8ZbMtKJ+aUvwLnnTDIqZS/eN5UNdxfmb8dBs8ktFybvzkwxDJBwpO/qA45dIJPVj+1n5LzvX+gP9DECtE+aqw/zGSrPX/prT+uWeZFjnqlPxImF6RXypU/0KnXZtHmWT8AGej+SwlBPzTnWDkPgoE/Lp8yUn1Unj87o+X0gG+oP3LpuEoSrK8/6IIHwTsdsj9OhzEMSFmzP2c1UW85I7Q/Hxy8y9bVtD8HjZAcEVW0Pw==\",\"dtype\":\"float64\",\"shape\":[74]},\"y\":{\"__ndarray__\":\"0r/J27aUSD9r8pTVdD1RP2k7pu7KLlg/wLdEifH1YD8NyLmoccpnPzEjYYSVr3A/203wTdNndz9s2+Z8Z2qAPwg+YeTABoc/DZnh9U8mkD/s6wrHPaeWPy2yne+nxp8/2y1uSEhJpj8MPWL03EKvPyVdjrLZ7LU/BK+WOzPBvj9HPq946pHFP+YffZOmQc4/PGwiMxc41T+Hp1fKMsTdP/8h/fZ14OQ/KjqSy39I7T+ZKhiV1In0P3PXEvJBz/w/vw6cM6I0BECBJsKGp1cMQOJYF7fR4BNAUkmdgCbiG0ADCYofY44jQOauJeSDbitAMEymCkY9M0Db+X5qvPw6QGgibHh67UJAf/s6cM6MSkDNzMzMzHhSQGZmZmZmalhAAAAAAABcXkDNzMzMzCZiQJqZmZmZH2VAZmZmZmYYaEAzMzMzMxFrQAAAAAAACm5AZmZmZmaBcEDNzMzMzP1xQDMzMzMzenNAmpmZmZn2dEAAAAAAAHN2QGZmZmZm73dAzczMzMxreUAzMzMzM+h6QJqZmZmZZHxAAAAAAADhfUBmZmZmZl1/QGZmZmbmbIBAmpmZmRkrgUDNzMzMTOmBQAAAAACAp4JAMzMzM7Nlg0BmZmZm5iOEQJqZmZkZ4oRAzczMzEyghUAAAAAAgF6GQDMzMzOzHIdAZmZmZubah0CamZmZGZmIQM3MzMxMV4lAAAAAAIAVikAzMzMzs9OKQGZmZmbmkYtAmpmZmRlQjEDNzMzMTA6NQAAAAACAzI1AMzMzM7OKjkBmZmZm5kiPQA==\",\"dtype\":\"float64\",\"shape\":[74]}},\"selected\":{\"id\":\"42f205fe-c8ac-43d5-b358-af823d457a44\",\"type\":\"Selection\"},\"selection_policy\":{\"id\":\"87877534-9471-4970-8b0e-489b5e9fd557\",\"type\":\"UnionRenderers\"}},\"id\":\"8d6e3d0f-334b-4208-aa2e-b94702c84c8a\",\"type\":\"ColumnDataSource\"},{\"attributes\":{\"line_alpha\":0.1,\"line_color\":\"#1f77b4\",\"line_width\":1.5,\"x\":{\"field\":\"x\"},\"y\":{\"field\":\"y\"}},\"id\":\"802cdcf6-b947-4ad9-87a3-bd543111641e\",\"type\":\"Line\"},{\"attributes\":{\"overlay\":{\"id\":\"a6a089e9-9433-4c55-b76e-078dea1a9baf\",\"type\":\"BoxAnnotation\"}},\"id\":\"48eec46c-ce1d-4e9a-976e-dd9978cedbbb\",\"type\":\"BoxZoomTool\"},{\"attributes\":{\"bottom_units\":\"screen\",\"fill_alpha\":{\"value\":0.5},\"fill_color\":{\"value\":\"lightgrey\"},\"left_units\":\"screen\",\"level\":\"overlay\",\"line_alpha\":{\"value\":1.0},\"line_color\":{\"value\":\"black\"},\"line_dash\":[4,4],\"line_width\":{\"value\":2},\"plot\":null,\"render_mode\":\"css\",\"right_units\":\"screen\",\"top_units\":\"screen\"},\"id\":\"a6a089e9-9433-4c55-b76e-078dea1a9baf\",\"type\":\"BoxAnnotation\"},{\"attributes\":{},\"id\":\"436fc85e-0487-403c-b103-a8ef4c09bc00\",\"type\":\"SaveTool\"},{\"attributes\":{},\"id\":\"b52449b7-4f85-4c22-a0a0-4081c91de716\",\"type\":\"UnionRenderers\"},{\"attributes\":{},\"id\":\"298ac3db-8e71-4c1b-a1ce-476fd3cfc1ac\",\"type\":\"Selection\"},{\"attributes\":{\"label\":{\"value\":\"old CLIRAD (H2012)\"},\"renderers\":[{\"id\":\"fb8ac9d1-1664-48e8-86ef-858004661856\",\"type\":\"GlyphRenderer\"},{\"id\":\"7a7e68b8-1594-42ad-b9bd-6920c53de596\",\"type\":\"GlyphRenderer\"}]},\"id\":\"447827d4-e738-4985-a54b-29f57203f919\",\"type\":\"LegendItem\"},{\"attributes\":{},\"id\":\"87877534-9471-4970-8b0e-489b5e9fd557\",\"type\":\"UnionRenderers\"},{\"attributes\":{\"line_alpha\":0.6,\"line_color\":\"#e41a1c\",\"line_dash\":[6],\"line_width\":5,\"x\":{\"field\":\"x\"},\"y\":{\"field\":\"y\"}},\"id\":\"67f00afd-ddd1-4684-a90a-3420a749b1fd\",\"type\":\"Line\"},{\"attributes\":{\"line_alpha\":0.8,\"line_color\":\"#984ea3\",\"line_width\":1.5,\"x\":{\"field\":\"x\"},\"y\":{\"field\":\"y\"}},\"id\":\"3001610b-ba68-4697-b214-c9d7fb8a73e8\",\"type\":\"Line\"},{\"attributes\":{},\"id\":\"76795230-7730-4335-825c-d98f5df8e2fd\",\"type\":\"UnionRenderers\"},{\"attributes\":{},\"id\":\"7ca6ec57-ded0-44c4-aefc-2e751421c5b9\",\"type\":\"UnionRenderers\"},{\"attributes\":{},\"id\":\"42f205fe-c8ac-43d5-b358-af823d457a44\",\"type\":\"Selection\"},{\"attributes\":{},\"id\":\"68c89911-b933-448c-8c7f-f401f7980643\",\"type\":\"HelpTool\"},{\"attributes\":{},\"id\":\"6285750a-284e-446a-8858-8a6b4e13c23f\",\"type\":\"Selection\"},{\"attributes\":{\"children\":[{\"id\":\"6810da44-510c-454f-b496-cfb0cca28ab7\",\"subtype\":\"Figure\",\"type\":\"Plot\"},{\"id\":\"9d4329bf-c46f-49b8-a09c-8cb5b9f4fc11\",\"subtype\":\"Figure\",\"type\":\"Plot\"},{\"id\":\"0e6191e4-1198-4d7e-b7d6-54e93f0e63e9\",\"subtype\":\"Figure\",\"type\":\"Plot\"}]},\"id\":\"2b6eede4-908f-45b3-b763-bb3f7754e2b2\",\"type\":\"Row\"},{\"attributes\":{\"toolbar\":{\"id\":\"bb75a227-905b-4919-b66e-b5e041dba983\",\"type\":\"ProxyToolbar\"},\"toolbar_location\":\"above\"},\"id\":\"eae985bd-f9d7-4197-9aa5-007e3bde82af\",\"type\":\"ToolbarBox\"},{\"attributes\":{\"items\":[{\"id\":\"cc5bd0fb-fc91-42ed-8e3f-6c972671165c\",\"type\":\"LegendItem\"},{\"id\":\"0c06d498-1be3-4844-887b-d006753ace63\",\"type\":\"LegendItem\"}],\"label_text_font_size\":{\"value\":\"8pt\"},\"location\":\"top_center\",\"orientation\":\"horizontal\",\"plot\":{\"id\":\"0e6191e4-1198-4d7e-b7d6-54e93f0e63e9\",\"subtype\":\"Figure\",\"type\":\"Plot\"}},\"id\":\"85be6de5-99c6-4215-a370-99a525febd30\",\"type\":\"Legend\"},{\"attributes\":{\"data_source\":{\"id\":\"37a81d28-c5de-4710-9176-03de13dd9f6b\",\"type\":\"ColumnDataSource\"},\"glyph\":{\"id\":\"67f00afd-ddd1-4684-a90a-3420a749b1fd\",\"type\":\"Line\"},\"hover_glyph\":null,\"muted_glyph\":null,\"nonselection_glyph\":{\"id\":\"01fb4de0-aaaa-4c4d-8fe7-a3b844409042\",\"type\":\"Line\"},\"selection_glyph\":null,\"view\":{\"id\":\"38c0db74-0331-4e03-b35e-4f09ea794e12\",\"type\":\"CDSView\"}},\"id\":\"2ebaa94f-5f8c-4eb1-9226-bf4205c4749b\",\"type\":\"GlyphRenderer\"},{\"attributes\":{\"callback\":null,\"end\":0.01,\"start\":1020},\"id\":\"9bfd90d4-b9df-4cce-9861-2cf0dc48911e\",\"type\":\"Range1d\"},{\"attributes\":{\"plot\":null,\"text\":\"\"},\"id\":\"2f4da3f2-7f9b-4b71-9e2a-f61a921b86d2\",\"type\":\"Title\"},{\"attributes\":{\"ticker\":null},\"id\":\"248ecf69-113f-4f73-b92e-3a41505692f8\",\"type\":\"LogTickFormatter\"},{\"attributes\":{},\"id\":\"3eb3c93a-76f0-4918-8537-fb2505aeace6\",\"type\":\"BasicTickFormatter\"},{\"attributes\":{\"callback\":null,\"end\":0.7323360194662635,\"start\":-1.576281364019664},\"id\":\"d6d0ed15-8f34-478f-8632-2f59feb2979b\",\"type\":\"Range1d\"},{\"attributes\":{\"callback\":null,\"end\":0.01,\"start\":1020},\"id\":\"fd2d99ef-17bc-455c-8661-d8b8291bc956\",\"type\":\"Range1d\"},{\"attributes\":{\"callback\":null,\"data\":{\"x\":{\"__ndarray__\":\"MXhf+wfXU0AZbvNjswdFQLQWsEQVdUFA5TlpnhT9QUB/x1dOYK05QImjxHmcEjZA9jYDSBB3L0AISPl4H6wqQBPuuwfAzyJAOcHprUZAIUB7WWpkesAXQJoT1Uq+ChVArO/8u0EXCkBgVNlshzgCQMeNQ+Nzu/I/POwv1Qzh+D9QxMRmcj8DQOrE7tC4mAxAQsLBRIlHEkAi4cPYoDEXQEeDpjRjzB1ASZ0GEfCuI0DVFj11sssnQOMiVKSMHyhAWRHvUxNoJEDo8cjD4g8gQLGGvR2NDRpAdpI3nV5oFECtyWH9Lp4QQIZQd9bvmwtAkshlnu1BBkBMysnQf1UAQHZJU/DYZ/c/HoEhV+G48T/rSm4vc/TmP3EgV4cD49g/xmy6+4w7zz+bEsjh3uDDPw5SRMRogKs/4GPKdPc1a78lazVXN1vCP/B84ODeUug/LOyxgXDV9z+/DBHyZAwAQAOIY+fy/QFAahF3XKCUAECV0GHvGsz+P+X4k4Nhvf0/RO/IqI98/T8rkW+v/zT9P59vGMDsAv0/zEX7plCY/D/E3siS8kj7P2yUMv+hDvs/RmrXDaYs+z+c9f5GCO36P58nVCbr7vo/Qus8hbcy/D+rD5hFMCf9P4t6dxofnPw/bRp4QYZ2/D/q8NNiN2b8P5YTVw9ESPw/l1Dy0X/K+j+WKih3ZdD5P2k8OYxHjvk/hceGh5N4+T8lpPahWSn5P6vJnePt4vY/UuhmxnXI9T8miFqdE+D0Pz7qfx5CR/Q/0khvq2US9D9LfVdHQGv0P9syeEmwYfg/\",\"dtype\":\"float64\",\"shape\":[75]},\"y\":{\"__ndarray__\":\"hLndy31yND/6fmq8dJNIP8n9DkWBPlE/aDum7souWD/b4a/JGvVgP9f34SAhymc/ZvM4DOavcD+z0M5pFmh3PxuC4zJuaoA/xjcUPlsHhz8uHAjJAiaQP9ieWRKgppY/oI7HDFTGnz+a5h2n6EimPzS6g9iZQq8/IuAQqtTstT9SSZ2AJsK+P4nS3uALk8U/ih9j7lpCzj+ASL99HTjVP4enV8oyxN0/ACL99nXg5D9fmEwVjErtPyUGgZVDi/Q/AiuHFtnO/D9OYhBYOTQEQPHSTWIQWAxA4XoUrkfhE0D8qfHSTeIbQMh2vp8ajyNArkfhehRuK0Bcj8L1KDwzQFyPwvUo/DpAPgrXo3DtQkDNzMzMzIxKQClcj8L1eFJAKVyPwvVoWECamZmZmVleQGZmZmZmJmJAAAAAAAAgZUCamZmZmRloQJqZmZmZEWtAmpmZmZkJbkCamZmZmYFwQGZmZmZm/nFAZmZmZmZ6c0BmZmZmZvZ0QDQzMzMzc3ZAAAAAAADwd0AAAAAAAGx5QAAAAAAA6HpAzMzMzMxkfEDMzMzMzOB9QM3MzMzMXH9AzczMzMxsgEAzMzMzMyuBQDMzMzMz6YFAMzMzMzOngkCamZmZmWWDQAAAAAAAJIRAAAAAAADihEAAAAAAAKCFQGZmZmZmXoZAzczMzMwch0DNzMzMzNqHQM3MzMzMmIhAMzMzMzNXiUCamZmZmRWKQAAAAAAA1IpAAAAAAACSi0AAAAAAAFCMQGZmZmZmDo1AzczMzMzMjUDNzMzMzIqOQM3MzMzMSI9A\",\"dtype\":\"float64\",\"shape\":[75]}},\"selected\":{\"id\":\"6285750a-284e-446a-8858-8a6b4e13c23f\",\"type\":\"Selection\"},\"selection_policy\":{\"id\":\"10a67060-2b57-4f41-b9d9-f36069572628\",\"type\":\"UnionRenderers\"}},\"id\":\"de459157-3f92-401d-80ee-b9a61bf448b0\",\"type\":\"ColumnDataSource\"},{\"attributes\":{},\"id\":\"c5107867-ec04-40fd-96df-f3573d4ca0b8\",\"type\":\"LogScale\"},{\"attributes\":{\"label\":{\"value\":\"CRD\"},\"renderers\":[{\"id\":\"e49b43e2-da7c-4db7-9b42-7cb9af12892c\",\"type\":\"GlyphRenderer\"},{\"id\":\"49554aff-c2a7-41cc-b647-c427536b1ab6\",\"type\":\"GlyphRenderer\"}]},\"id\":\"823362b3-eef8-49e4-b048-87c67528d395\",\"type\":\"LegendItem\"},{\"attributes\":{\"num_minor_ticks\":10},\"id\":\"15a052ac-5197-4b83-9503-e0952aa621e3\",\"type\":\"LogTicker\"},{\"attributes\":{\"callback\":null,\"data\":{\"x\":{\"__ndarray__\":\"Ay4WgzmiRUAzdH4xyelCQI/4CCUPukFAmDQrpSkbQEAzbNWwowU8QFVgF/XlEDdAoDiHgYPLMUABmdymgcIpQGLYd07xCSJArfSs310nGkAWc9HvWtkUQOusy4pytBFAJqIBIKFJDUB2OQnHDJMDQMl96Kg58fU/43VcVuWK+j82Bjz+TzEFQNyoIwf3DQtAy+LYYlLgEEBpIj3ZQhcWQG2pjOCj/R1Af3bvKgrVJEABDCYXO8wqQEzO0e7F+ylAYXLSO7hOJEAgnb4nokcgQNoX8+gOZBtA1Mo1E7QFFkBNX8S4nigRQOo4z07g4AtAipA4vs4ICEB/nUqZ58sCQFWembm6Bfo/xtoM8LVF8T+FTjDicHrnPwW0NlGD6Ns/djxG7dEQzT/kgWfK0UXAP04e7p6uAKO/U8LMJsVjyb/9SNhTfdyDv6yHiyRvwuc/YH/Q96J+9z8fz8lq9RYAQHNa8arPlwFA6C5g8skGAEDf2G6Pg0P+Pzx05xsQIv0/aqvhULpq/D9/cRIK1jv8P0N2gFVlV/w/l8yGPE/u+z8PyvyTInP7P5+BCjLJB/s/712TDke9+j855FpFY4f6P7S7Qdxnhfo/BEctRHOb+z/jcb7JUHz8P62m1jeD/vw/Kl5ga3r9/D8lrYwPuV38Pz+eRmufRvs/QIGudyMW+j/FXLa7nv/4P2WVJw9Rbfg/CejmZKc8+D+aZMjXvDf4PwzcqrkWtPc/y2300tGk9j+PCzl883P1P+ux3ZfUiPQ/9dhElUIR9D9+kji0k0T0P9hVz+l87/o/\",\"dtype\":\"float64\",\"shape\":[75]},\"y\":{\"__ndarray__\":\"S/O/Q+51ND/Sv8nbtpRIP2vylNV0PVE/aTum7souWD/At0SJ8fVgPw3Iuahxymc/MSNhhJWvcD/bTfBN02d3P2zb5nxnaoA/CD5h5MAGhz8NmeH1TyaQP+zrCsc9p5Y/LbKd76fGnz/bLW5ISEmmPww9YvTcQq8/JV2OstnstT8Er5Y7M8G+P0c+r3jqkcU/5h99k6ZBzj88bCIzFzjVP4enV8oyxN0//yH99nXg5D8qOpLLf0jtP5kqGJXUifQ/c9cS8kHP/D+/DpwzojQEQIEmwoanVwxA4lgXt9HgE0BSSZ2AJuIbQAMJih9jjiNA5q4l5INuK0AwTKYKRj0zQNv5fmq8/DpAaCJseHrtQkB/+zpwzoxKQM3MzMzMeFJAZmZmZmZqWEAAAAAAAFxeQM3MzMzMJmJAmpmZmZkfZUBmZmZmZhhoQDMzMzMzEWtAAAAAAAAKbkBmZmZmZoFwQM3MzMzM/XFAMzMzMzN6c0CamZmZmfZ0QAAAAAAAc3ZAZmZmZmbvd0DNzMzMzGt5QDMzMzMz6HpAmpmZmZlkfEAAAAAAAOF9QGZmZmZmXX9AZmZmZuZsgECamZmZGSuBQM3MzMxM6YFAAAAAAICngkAzMzMzs2WDQGZmZmbmI4RAmpmZmRnihEDNzMzMTKCFQAAAAACAXoZAMzMzM7Mch0BmZmZm5tqHQJqZmZkZmYhAzczMzExXiUAAAAAAgBWKQDMzMzOz04pAZmZmZuaRi0CamZmZGVCMQM3MzMxMDo1AAAAAAIDMjUAzMzMzs4qOQGZmZmbmSI9A\",\"dtype\":\"float64\",\"shape\":[75]}},\"selected\":{\"id\":\"ac2c799d-093c-4cdd-8528-01d9fe7c3101\",\"type\":\"Selection\"},\"selection_policy\":{\"id\":\"5aed7b5b-a7bb-4108-bc48-d4b7068438b9\",\"type\":\"UnionRenderers\"}},\"id\":\"37a81d28-c5de-4710-9176-03de13dd9f6b\",\"type\":\"ColumnDataSource\"},{\"attributes\":{},\"id\":\"d23a5afd-6c8b-4f2f-a23c-ecbfbdbf3454\",\"type\":\"BasicTicker\"},{\"attributes\":{\"axis_label\":\"cooling rate [K/day]\",\"formatter\":{\"id\":\"d0ea1990-8004-4915-912e-da8b66a6e686\",\"type\":\"BasicTickFormatter\"},\"plot\":{\"id\":\"9d4329bf-c46f-49b8-a09c-8cb5b9f4fc11\",\"subtype\":\"Figure\",\"type\":\"Plot\"},\"ticker\":{\"id\":\"d23a5afd-6c8b-4f2f-a23c-ecbfbdbf3454\",\"type\":\"BasicTicker\"}},\"id\":\"c5fcbaed-9a19-45ae-9cc8-feab322df84f\",\"type\":\"LinearAxis\"},{\"attributes\":{\"label\":{\"value\":\"CLIRAD\"},\"renderers\":[{\"id\":\"12241e1c-ba4e-4ee2-b476-1bbfce700855\",\"type\":\"GlyphRenderer\"}]},\"id\":\"827cac53-c946-4e63-bf60-c70691445604\",\"type\":\"LegendItem\"},{\"attributes\":{\"active_drag\":\"auto\",\"active_inspect\":\"auto\",\"active_scroll\":\"auto\",\"active_tap\":\"auto\",\"tools\":[{\"id\":\"51dc783f-0f8c-43d6-a85b-2cadfc71cd1e\",\"type\":\"PanTool\"},{\"id\":\"6c2e510d-fe48-48bc-9c0d-b78fcacf58e3\",\"type\":\"WheelZoomTool\"},{\"id\":\"d8395cf5-c9fe-440d-a403-a3b1a99ece56\",\"type\":\"BoxZoomTool\"},{\"id\":\"80b546bb-971b-45f0-b20a-4c4e03d4bd6a\",\"type\":\"SaveTool\"},{\"id\":\"079d99f3-0921-46c3-adfb-b687b7ee3acc\",\"type\":\"ResetTool\"},{\"id\":\"d107ba9b-1f9b-4db5-b113-1d83b71a96fe\",\"type\":\"HelpTool\"}]},\"id\":\"69cb82fb-b6d4-4bba-9532-fe6674014727\",\"type\":\"Toolbar\"},{\"attributes\":{},\"id\":\"be831ccc-0388-43d1-a761-2026cfa5ab6a\",\"type\":\"LinearScale\"},{\"attributes\":{\"above\":[{\"id\":\"85be6de5-99c6-4215-a370-99a525febd30\",\"type\":\"Legend\"}],\"below\":[{\"id\":\"58ece251-07d5-41a2-9331-cbcc280b9024\",\"type\":\"LinearAxis\"}],\"left\":[{\"id\":\"24a3c0d1-5e3e-4477-a99c-1782ef395a92\",\"type\":\"LogAxis\"}],\"plot_width\":300,\"renderers\":[{\"id\":\"58ece251-07d5-41a2-9331-cbcc280b9024\",\"type\":\"LinearAxis\"},{\"id\":\"dd1a1700-d46f-439f-8ec5-d4eb00a306aa\",\"type\":\"Grid\"},{\"id\":\"24a3c0d1-5e3e-4477-a99c-1782ef395a92\",\"type\":\"LogAxis\"},{\"id\":\"d28bb46d-29c2-4060-9718-31db3d8a0aa0\",\"type\":\"Grid\"},{\"id\":\"a6a089e9-9433-4c55-b76e-078dea1a9baf\",\"type\":\"BoxAnnotation\"},{\"id\":\"c412a238-c973-48ad-9e94-c9b400a536b9\",\"type\":\"GlyphRenderer\"},{\"id\":\"f69362c7-d6d3-4bec-98db-1a0052eb6bfc\",\"type\":\"GlyphRenderer\"},{\"id\":\"99337c2f-0679-4289-9782-48cd7b27c177\",\"type\":\"GlyphRenderer\"},{\"id\":\"85be6de5-99c6-4215-a370-99a525febd30\",\"type\":\"Legend\"}],\"title\":{\"id\":\"2f4da3f2-7f9b-4b71-9e2a-f61a921b86d2\",\"type\":\"Title\"},\"toolbar\":{\"id\":\"1b0224e2-8dcf-404f-8a72-a7ec02c60767\",\"type\":\"Toolbar\"},\"toolbar_location\":null,\"x_range\":{\"id\":\"d6d0ed15-8f34-478f-8632-2f59feb2979b\",\"type\":\"Range1d\"},\"x_scale\":{\"id\":\"be831ccc-0388-43d1-a761-2026cfa5ab6a\",\"type\":\"LinearScale\"},\"y_range\":{\"id\":\"9bfd90d4-b9df-4cce-9861-2cf0dc48911e\",\"type\":\"Range1d\"},\"y_scale\":{\"id\":\"58cf42f2-2236-422e-a5f8-4ef772029316\",\"type\":\"LogScale\"}},\"id\":\"0e6191e4-1198-4d7e-b7d6-54e93f0e63e9\",\"subtype\":\"Figure\",\"type\":\"Plot\"},{\"attributes\":{\"plot\":null,\"text\":\"\"},\"id\":\"013d94a0-6ce5-49f8-a8cf-9f47adaa2067\",\"type\":\"Title\"},{\"attributes\":{},\"id\":\"a8f860f7-185c-4a20-b603-32f55a1546de\",\"type\":\"LinearScale\"},{\"attributes\":{\"source\":{\"id\":\"de459157-3f92-401d-80ee-b9a61bf448b0\",\"type\":\"ColumnDataSource\"}},\"id\":\"0eebba53-1ca6-418a-bcb5-41ed14adecc9\",\"type\":\"CDSView\"},{\"attributes\":{\"fill_alpha\":{\"value\":0.7},\"fill_color\":{\"value\":\"#4daf4a\"},\"line_alpha\":{\"value\":0.7},\"line_color\":{\"value\":\"#4daf4a\"},\"x\":{\"field\":\"x\"},\"y\":{\"field\":\"y\"}},\"id\":\"81db2d73-a53b-4eac-9eca-0a8f1a529403\",\"type\":\"Circle\"},{\"attributes\":{\"line_alpha\":0.1,\"line_color\":\"#1f77b4\",\"line_width\":1.5,\"x\":{\"field\":\"x\"},\"y\":{\"field\":\"y\"}},\"id\":\"f9d5346e-6811-4976-bf3e-4e51fd24411c\",\"type\":\"Line\"},{\"attributes\":{\"source\":{\"id\":\"a4213764-865f-4314-98de-4c8234a5b211\",\"type\":\"ColumnDataSource\"}},\"id\":\"ce79a481-025e-426c-9332-bfd92d9b183b\",\"type\":\"CDSView\"},{\"attributes\":{},\"id\":\"10a67060-2b57-4f41-b9d9-f36069572628\",\"type\":\"UnionRenderers\"},{\"attributes\":{\"data_source\":{\"id\":\"96cbcb9c-3a73-4d8b-b74e-bcd339a28433\",\"type\":\"ColumnDataSource\"},\"glyph\":{\"id\":\"70af74a4-801c-43e6-ad9d-6681f82e3221\",\"type\":\"Line\"},\"hover_glyph\":null,\"muted_glyph\":null,\"nonselection_glyph\":{\"id\":\"f9d5346e-6811-4976-bf3e-4e51fd24411c\",\"type\":\"Line\"},\"selection_glyph\":null,\"view\":{\"id\":\"9e2e42df-509a-4013-ab9a-eb840bf75dc9\",\"type\":\"CDSView\"}},\"id\":\"49554aff-c2a7-41cc-b647-c427536b1ab6\",\"type\":\"GlyphRenderer\"},{\"attributes\":{\"source\":{\"id\":\"96cbcb9c-3a73-4d8b-b74e-bcd339a28433\",\"type\":\"ColumnDataSource\"}},\"id\":\"9e2e42df-509a-4013-ab9a-eb840bf75dc9\",\"type\":\"CDSView\"},{\"attributes\":{\"fill_alpha\":{\"value\":0.7},\"fill_color\":{\"value\":\"#377eb8\"},\"line_alpha\":{\"value\":0.7},\"line_color\":{\"value\":\"#377eb8\"},\"x\":{\"field\":\"x\"},\"y\":{\"field\":\"y\"}},\"id\":\"53b6ade4-291c-4e9a-87b8-35c180514baa\",\"type\":\"Square\"},{\"attributes\":{\"callback\":null,\"end\":13.587992271510018,\"start\":-0.33485575257202},\"id\":\"0bbce0b4-8c49-49c1-bc64-fc27af7e566d\",\"type\":\"Range1d\"},{\"attributes\":{\"line_color\":\"#4daf4a\",\"line_width\":1.5,\"x\":{\"field\":\"x\"},\"y\":{\"field\":\"y\"}},\"id\":\"70af74a4-801c-43e6-ad9d-6681f82e3221\",\"type\":\"Line\"},{\"attributes\":{\"line_alpha\":0.5,\"line_color\":\"#377eb8\",\"line_width\":1.5,\"x\":{\"field\":\"x\"},\"y\":{\"field\":\"y\"}},\"id\":\"14b1aae0-1195-49c3-b94c-08080dcb9b34\",\"type\":\"Line\"},{\"attributes\":{\"num_minor_ticks\":10},\"id\":\"5c148257-be39-4860-8d3c-9df273a85010\",\"type\":\"LogTicker\"},{\"attributes\":{\"data_source\":{\"id\":\"de459157-3f92-401d-80ee-b9a61bf448b0\",\"type\":\"ColumnDataSource\"},\"glyph\":{\"id\":\"14b1aae0-1195-49c3-b94c-08080dcb9b34\",\"type\":\"Line\"},\"hover_glyph\":null,\"muted_glyph\":null,\"nonselection_glyph\":{\"id\":\"17051b76-e869-4274-8527-0857dfef65ab\",\"type\":\"Line\"},\"selection_glyph\":null,\"view\":{\"id\":\"0eebba53-1ca6-418a-bcb5-41ed14adecc9\",\"type\":\"CDSView\"}},\"id\":\"4eb42da9-3fc0-437f-a758-50a4ee3e5922\",\"type\":\"GlyphRenderer\"},{\"attributes\":{\"source\":{\"id\":\"367548fa-be93-4f41-a9fb-806150159b54\",\"type\":\"ColumnDataSource\"}},\"id\":\"71368ccb-331a-4c00-a463-a9e2231d31f7\",\"type\":\"CDSView\"},{\"attributes\":{\"fill_alpha\":{\"value\":0.7},\"fill_color\":{\"value\":\"#984ea3\"},\"line_alpha\":{\"value\":0.7},\"line_color\":{\"value\":\"#984ea3\"},\"x\":{\"field\":\"x\"},\"y\":{\"field\":\"y\"}},\"id\":\"16e8b870-2127-495e-8ce3-8b0cd1e40174\",\"type\":\"Circle\"},{\"attributes\":{\"fill_alpha\":{\"value\":0.1},\"fill_color\":{\"value\":\"#1f77b4\"},\"line_alpha\":{\"value\":0.1},\"line_color\":{\"value\":\"#1f77b4\"},\"x\":{\"field\":\"x\"},\"y\":{\"field\":\"y\"}},\"id\":\"58141dad-cb84-4fd7-a7b0-7e9e9f95fd4d\",\"type\":\"Square\"},{\"attributes\":{\"source\":{\"id\":\"8d6e3d0f-334b-4208-aa2e-b94702c84c8a\",\"type\":\"ColumnDataSource\"}},\"id\":\"cf3836ef-cc53-4a72-a652-230ca08419f2\",\"type\":\"CDSView\"},{\"attributes\":{\"label\":{\"value\":\"CRD\"},\"renderers\":[{\"id\":\"7c69fde9-74c8-4f42-a403-0dd0fb5a721e\",\"type\":\"GlyphRenderer\"},{\"id\":\"29ed39f0-51b8-4283-b28d-fb7c9b58e3ef\",\"type\":\"GlyphRenderer\"}]},\"id\":\"0fc07f39-7581-4e5e-9673-d6244d5fcfaa\",\"type\":\"LegendItem\"},{\"attributes\":{\"data_source\":{\"id\":\"cd4c1d79-2825-446f-9eb9-c8c6cfea42d1\",\"type\":\"ColumnDataSource\"},\"glyph\":{\"id\":\"aa51ac3b-192b-43ed-a83a-83764f2729b2\",\"type\":\"Line\"},\"hover_glyph\":null,\"muted_glyph\":null,\"nonselection_glyph\":{\"id\":\"f6a82200-13af-48eb-8e20-ecfb67762d21\",\"type\":\"Line\"},\"selection_glyph\":null,\"view\":{\"id\":\"e6e953d1-5b32-4941-9832-57a735083b15\",\"type\":\"CDSView\"}},\"id\":\"99337c2f-0679-4289-9782-48cd7b27c177\",\"type\":\"GlyphRenderer\"},{\"attributes\":{\"children\":[{\"id\":\"2b6eede4-908f-45b3-b763-bb3f7754e2b2\",\"type\":\"Row\"}]},\"id\":\"1d2d6372-3dff-43ea-ba5d-46a9138d6843\",\"type\":\"Column\"},{\"attributes\":{\"callback\":null,\"data\":{\"x\":{\"__ndarray__\":\"cm1sTMT3VEDEyvjosEJHQOKI6DjzCUNArgQWV9awPkB9Lm8XG3M4QEz+Qv6iYzNA7eV8HaPLLkCX1QHyTpMoQFBmYSYetiNAUB04GtGpH0AmFyVE5j8ZQJca9QPGqBNALJP+OOHHDEBNxaf7QF8AQKtislomWuw/cW2dcO6A9T/uJJvfPu0EQIaQLTI/JQ1AxGiII+PmEkCJvfVeuCsYQD6ZBhGbHB9AXQw69DTYJEAsubcwKucqQNuT9D5OmipAJyi3szEJJUBlNebh5WkgQDDcPHBr2xlArtlANXuQFEBdJadFHckQQI2Avh0ZsQtAjYiwt1rsBUCL0SDoVBgAQK6C0nEEjvc/CggLSme58T9sXU2orFPnP0v0JYz9Gdg/vT38vxYczD9nBQTe6kHHP1IhkEXJwKo/8OZnhCVAub+xtVgCpmqzP6DUpY6g0+k/PKK3T1h4+D8RTDjQc1EAQG/dAQs7TwJAQt2eHpPLAEBWEh074x//PyCap9ZSGf4/rEzaTySm/T+7aXhHRmr9P688KeqeNP0/ruZ4EemD/D8olrZcn9T7P0+vNc9hW/s/i9VVL+4P+z+0NzC24uz6P8731Kza8vo/xFf4SHzq+z+gYyHpvHb8P68ROkiFevw/BAjYdCga/D8AUp8VbW77P3JrF/nKmvo/qCQeGfq++T/dplwHJfn4P2G4p+Uva/g/OzZ0RqMZ+D8dmn/iar73P/OuA7Ka8PY/gaaeQHGn9T9hkyjAH1L0P3aZGhdAU/M/n8VP/g7P8j+90HxHNvfyPwhNBtgrqvk/\",\"dtype\":\"float64\",\"shape\":[75]},\"y\":{\"__ndarray__\":\"GhExyth1ND/Sv8nbtpRIP2vylNV0PVE/aTum7souWD/At0SJ8fVgPw3Iuahxymc/MSNhhJWvcD/bTfBN02d3P2zb5nxnaoA/CD5h5MAGhz8NmeH1TyaQP+zrCsc9p5Y/LbKd76fGnz/bLW5ISEmmPww9YvTcQq8/JV2OstnstT8Er5Y7M8G+P0c+r3jqkcU/5h99k6ZBzj88bCIzFzjVP4enV8oyxN0//yH99nXg5D8qOpLLf0jtP5kqGJXUifQ/c9cS8kHP/D+/DpwzojQEQIEmwoanVwxA4lgXt9HgE0BSSZ2AJuIbQAMJih9jjiNA5q4l5INuK0AwTKYKRj0zQNv5fmq8/DpAaCJseHrtQkB/+zpwzoxKQM3MzMzMeFJAZmZmZmZqWEAAAAAAAFxeQM3MzMzMJmJAmpmZmZkfZUBmZmZmZhhoQDMzMzMzEWtAAAAAAAAKbkBmZmZmZoFwQM3MzMzM/XFAMzMzMzN6c0CamZmZmfZ0QAAAAAAAc3ZAZmZmZmbvd0DNzMzMzGt5QDMzMzMz6HpAmpmZmZlkfEAAAAAAAOF9QGZmZmZmXX9AZmZmZuZsgECamZmZGSuBQM3MzMxM6YFAAAAAAICngkAzMzMzs2WDQGZmZmbmI4RAmpmZmRnihEDNzMzMTKCFQAAAAACAXoZAMzMzM7Mch0BmZmZm5tqHQJqZmZkZmYhAzczMzExXiUAAAAAAgBWKQDMzMzOz04pAZmZmZuaRi0CamZmZGVCMQM3MzMxMDo1AAAAAAIDMjUAzMzMzs4qOQGZmZmbmSI9A\",\"dtype\":\"float64\",\"shape\":[75]}},\"selected\":{\"id\":\"7efeb4b3-bb6d-4021-8a5c-2070776ddcf9\",\"type\":\"Selection\"},\"selection_policy\":{\"id\":\"41ab1be7-d3ab-42ee-9705-300336463914\",\"type\":\"UnionRenderers\"}},\"id\":\"96cbcb9c-3a73-4d8b-b74e-bcd339a28433\",\"type\":\"ColumnDataSource\"},{\"attributes\":{\"callback\":null,\"data\":{\"x\":{\"__ndarray__\":\"MXhf+wfXU0AZbvNjswdFQLQWsEQVdUFA5TlpnhT9QUB/x1dOYK05QImjxHmcEjZA9jYDSBB3L0AISPl4H6wqQBPuuwfAzyJAOcHprUZAIUB7WWpkesAXQJoT1Uq+ChVArO/8u0EXCkBgVNlshzgCQMeNQ+Nzu/I/POwv1Qzh+D9QxMRmcj8DQOrE7tC4mAxAQsLBRIlHEkAi4cPYoDEXQEeDpjRjzB1ASZ0GEfCuI0DVFj11sssnQOMiVKSMHyhAWRHvUxNoJEDo8cjD4g8gQLGGvR2NDRpAdpI3nV5oFECtyWH9Lp4QQIZQd9bvmwtAkshlnu1BBkBMysnQf1UAQHZJU/DYZ/c/HoEhV+G48T/rSm4vc/TmP3EgV4cD49g/xmy6+4w7zz+bEsjh3uDDPw5SRMRogKs/4GPKdPc1a78lazVXN1vCP/B84ODeUug/LOyxgXDV9z+/DBHyZAwAQAOIY+fy/QFAahF3XKCUAECV0GHvGsz+P+X4k4Nhvf0/RO/IqI98/T8rkW+v/zT9P59vGMDsAv0/zEX7plCY/D/E3siS8kj7P2yUMv+hDvs/RmrXDaYs+z+c9f5GCO36P58nVCbr7vo/Qus8hbcy/D+rD5hFMCf9P4t6dxofnPw/bRp4QYZ2/D/q8NNiN2b8P5YTVw9ESPw/l1Dy0X/K+j+WKih3ZdD5P2k8OYxHjvk/hceGh5N4+T8lpPahWSn5P6vJnePt4vY/UuhmxnXI9T8miFqdE+D0Pz7qfx5CR/Q/0khvq2US9D9LfVdHQGv0P9syeEmwYfg/\",\"dtype\":\"float64\",\"shape\":[75]},\"y\":{\"__ndarray__\":\"hLndy31yND/6fmq8dJNIP8n9DkWBPlE/aDum7souWD/b4a/JGvVgP9f34SAhymc/ZvM4DOavcD+z0M5pFmh3PxuC4zJuaoA/xjcUPlsHhz8uHAjJAiaQP9ieWRKgppY/oI7HDFTGnz+a5h2n6EimPzS6g9iZQq8/IuAQqtTstT9SSZ2AJsK+P4nS3uALk8U/ih9j7lpCzj+ASL99HTjVP4enV8oyxN0/ACL99nXg5D9fmEwVjErtPyUGgZVDi/Q/AiuHFtnO/D9OYhBYOTQEQPHSTWIQWAxA4XoUrkfhE0D8qfHSTeIbQMh2vp8ajyNArkfhehRuK0Bcj8L1KDwzQFyPwvUo/DpAPgrXo3DtQkDNzMzMzIxKQClcj8L1eFJAKVyPwvVoWECamZmZmVleQGZmZmZmJmJAAAAAAAAgZUCamZmZmRloQJqZmZmZEWtAmpmZmZkJbkCamZmZmYFwQGZmZmZm/nFAZmZmZmZ6c0BmZmZmZvZ0QDQzMzMzc3ZAAAAAAADwd0AAAAAAAGx5QAAAAAAA6HpAzMzMzMxkfEDMzMzMzOB9QM3MzMzMXH9AzczMzMxsgEAzMzMzMyuBQDMzMzMz6YFAMzMzMzOngkCamZmZmWWDQAAAAAAAJIRAAAAAAADihEAAAAAAAKCFQGZmZmZmXoZAzczMzMwch0DNzMzMzNqHQM3MzMzMmIhAMzMzMzNXiUCamZmZmRWKQAAAAAAA1IpAAAAAAACSi0AAAAAAAFCMQGZmZmZmDo1AzczMzMzMjUDNzMzMzIqOQM3MzMzMSI9A\",\"dtype\":\"float64\",\"shape\":[75]}},\"selected\":{\"id\":\"0e818218-7101-4396-97cb-4eb7f72175bf\",\"type\":\"Selection\"},\"selection_policy\":{\"id\":\"76795230-7730-4335-825c-d98f5df8e2fd\",\"type\":\"UnionRenderers\"}},\"id\":\"a4213764-865f-4314-98de-4c8234a5b211\",\"type\":\"ColumnDataSource\"},{\"attributes\":{\"data_source\":{\"id\":\"a4213764-865f-4314-98de-4c8234a5b211\",\"type\":\"ColumnDataSource\"},\"glyph\":{\"id\":\"53b6ade4-291c-4e9a-87b8-35c180514baa\",\"type\":\"Square\"},\"hover_glyph\":null,\"muted_glyph\":null,\"nonselection_glyph\":{\"id\":\"58141dad-cb84-4fd7-a7b0-7e9e9f95fd4d\",\"type\":\"Square\"},\"selection_glyph\":null,\"view\":{\"id\":\"ce79a481-025e-426c-9332-bfd92d9b183b\",\"type\":\"CDSView\"}},\"id\":\"903b95d3-cbfe-4a00-8421-b9349a4d9961\",\"type\":\"GlyphRenderer\"},{\"attributes\":{\"label\":{\"value\":\"old CLIRAD (H2012) - CRD\"},\"renderers\":[{\"id\":\"99337c2f-0679-4289-9782-48cd7b27c177\",\"type\":\"GlyphRenderer\"}]},\"id\":\"0c06d498-1be3-4844-887b-d006753ace63\",\"type\":\"LegendItem\"},{\"attributes\":{},\"id\":\"74f834d8-cb1e-46dd-9a5c-acc8274baf57\",\"type\":\"LinearScale\"},{\"attributes\":{\"line_alpha\":0.1,\"line_color\":\"#1f77b4\",\"line_width\":1.5,\"x\":{\"field\":\"x\"},\"y\":{\"field\":\"y\"}},\"id\":\"e2ba9917-df63-493c-b382-ccd072a810ba\",\"type\":\"Line\"},{\"attributes\":{\"fill_alpha\":{\"value\":0.1},\"fill_color\":{\"value\":\"#1f77b4\"},\"line_alpha\":{\"value\":0.1},\"line_color\":{\"value\":\"#1f77b4\"},\"x\":{\"field\":\"x\"},\"y\":{\"field\":\"y\"}},\"id\":\"1d6cb6c9-16a9-4e18-b7d9-aeaa5bf72f56\",\"type\":\"Circle\"},{\"attributes\":{\"data_source\":{\"id\":\"9c3c2934-944e-420c-851c-492859300842\",\"type\":\"ColumnDataSource\"},\"glyph\":{\"id\":\"9d2d0b49-4762-4321-a554-7ae11b88ed3a\",\"type\":\"Line\"},\"hover_glyph\":null,\"muted_glyph\":null,\"nonselection_glyph\":{\"id\":\"e2ba9917-df63-493c-b382-ccd072a810ba\",\"type\":\"Line\"},\"selection_glyph\":null,\"view\":{\"id\":\"bed8e0d5-794a-4fa7-8f78-fa47f3aaaa88\",\"type\":\"CDSView\"}},\"id\":\"29ed39f0-51b8-4283-b28d-fb7c9b58e3ef\",\"type\":\"GlyphRenderer\"},{\"attributes\":{\"fill_alpha\":{\"value\":0.7},\"fill_color\":{\"value\":\"#4daf4a\"},\"line_alpha\":{\"value\":0.7},\"line_color\":{\"value\":\"#4daf4a\"},\"x\":{\"field\":\"x\"},\"y\":{\"field\":\"y\"}},\"id\":\"b46de7ab-3cb5-4a5a-9a76-b6630a0508cc\",\"type\":\"Circle\"},{\"attributes\":{},\"id\":\"ef5b8091-a671-4e5c-9c02-95668b379842\",\"type\":\"UnionRenderers\"},{\"attributes\":{\"callback\":null,\"data\":{\"x\":{\"__ndarray__\":\"MXhf+wfXU0AZbvNjswdFQLQWsEQVdUFA5TlpnhT9QUB/x1dOYK05QImjxHmcEjZA9jYDSBB3L0AISPl4H6wqQBPuuwfAzyJAOcHprUZAIUB7WWpkesAXQJoT1Uq+ChVArO/8u0EXCkBgVNlshzgCQMeNQ+Nzu/I/POwv1Qzh+D9QxMRmcj8DQOrE7tC4mAxAQsLBRIlHEkAi4cPYoDEXQEeDpjRjzB1ASZ0GEfCuI0DVFj11sssnQOMiVKSMHyhAWRHvUxNoJEDo8cjD4g8gQLGGvR2NDRpAdpI3nV5oFECtyWH9Lp4QQIZQd9bvmwtAkshlnu1BBkBMysnQf1UAQHZJU/DYZ/c/HoEhV+G48T/rSm4vc/TmP3EgV4cD49g/xmy6+4w7zz+bEsjh3uDDPw5SRMRogKs/4GPKdPc1a78lazVXN1vCP/B84ODeUug/LOyxgXDV9z+/DBHyZAwAQAOIY+fy/QFAahF3XKCUAECV0GHvGsz+P+X4k4Nhvf0/RO/IqI98/T8rkW+v/zT9P59vGMDsAv0/zEX7plCY/D/E3siS8kj7P2yUMv+hDvs/RmrXDaYs+z+c9f5GCO36P58nVCbr7vo/Qus8hbcy/D+rD5hFMCf9P4t6dxofnPw/bRp4QYZ2/D/q8NNiN2b8P5YTVw9ESPw/l1Dy0X/K+j+WKih3ZdD5P2k8OYxHjvk/hceGh5N4+T8lpPahWSn5P6vJnePt4vY/UuhmxnXI9T8miFqdE+D0Pz7qfx5CR/Q/0khvq2US9D9LfVdHQGv0P9syeEmwYfg/\",\"dtype\":\"float64\",\"shape\":[75]},\"y\":{\"__ndarray__\":\"hLndy31yND/6fmq8dJNIP8n9DkWBPlE/aDum7souWD/b4a/JGvVgP9f34SAhymc/ZvM4DOavcD+z0M5pFmh3PxuC4zJuaoA/xjcUPlsHhz8uHAjJAiaQP9ieWRKgppY/oI7HDFTGnz+a5h2n6EimPzS6g9iZQq8/IuAQqtTstT9SSZ2AJsK+P4nS3uALk8U/ih9j7lpCzj+ASL99HTjVP4enV8oyxN0/ACL99nXg5D9fmEwVjErtPyUGgZVDi/Q/AiuHFtnO/D9OYhBYOTQEQPHSTWIQWAxA4XoUrkfhE0D8qfHSTeIbQMh2vp8ajyNArkfhehRuK0Bcj8L1KDwzQFyPwvUo/DpAPgrXo3DtQkDNzMzMzIxKQClcj8L1eFJAKVyPwvVoWECamZmZmVleQGZmZmZmJmJAAAAAAAAgZUCamZmZmRloQJqZmZmZEWtAmpmZmZkJbkCamZmZmYFwQGZmZmZm/nFAZmZmZmZ6c0BmZmZmZvZ0QDQzMzMzc3ZAAAAAAADwd0AAAAAAAGx5QAAAAAAA6HpAzMzMzMxkfEDMzMzMzOB9QM3MzMzMXH9AzczMzMxsgEAzMzMzMyuBQDMzMzMz6YFAMzMzMzOngkCamZmZmWWDQAAAAAAAJIRAAAAAAADihEAAAAAAAKCFQGZmZmZmXoZAzczMzMwch0DNzMzMzNqHQM3MzMzMmIhAMzMzMzNXiUCamZmZmRWKQAAAAAAA1IpAAAAAAACSi0AAAAAAAFCMQGZmZmZmDo1AzczMzMzMjUDNzMzMzIqOQM3MzMzMSI9A\",\"dtype\":\"float64\",\"shape\":[75]}},\"selected\":{\"id\":\"d8462071-c569-493a-bf27-34f36ec52396\",\"type\":\"Selection\"},\"selection_policy\":{\"id\":\"d6b7094a-6fed-4a9c-8e55-cc3df7af5d78\",\"type\":\"UnionRenderers\"}},\"id\":\"06f68e0e-898d-40af-8d97-863f3e18ddd0\",\"type\":\"ColumnDataSource\"},{\"attributes\":{\"label\":{\"value\":\"old CLIRAD (H2012)\"},\"renderers\":[{\"id\":\"903b95d3-cbfe-4a00-8421-b9349a4d9961\",\"type\":\"GlyphRenderer\"},{\"id\":\"4eb42da9-3fc0-437f-a758-50a4ee3e5922\",\"type\":\"GlyphRenderer\"}]},\"id\":\"a48c1fea-2335-4421-b5aa-df2dfb163b6d\",\"type\":\"LegendItem\"},{\"attributes\":{\"dimension\":1,\"plot\":{\"id\":\"0e6191e4-1198-4d7e-b7d6-54e93f0e63e9\",\"subtype\":\"Figure\",\"type\":\"Plot\"},\"ticker\":{\"id\":\"5c148257-be39-4860-8d3c-9df273a85010\",\"type\":\"LogTicker\"}},\"id\":\"d28bb46d-29c2-4060-9718-31db3d8a0aa0\",\"type\":\"Grid\"},{\"attributes\":{\"plot\":{\"id\":\"0e6191e4-1198-4d7e-b7d6-54e93f0e63e9\",\"subtype\":\"Figure\",\"type\":\"Plot\"},\"ticker\":{\"id\":\"158cdb75-1090-47de-86e2-6d1720a319f1\",\"type\":\"BasicTicker\"}},\"id\":\"dd1a1700-d46f-439f-8ec5-d4eb00a306aa\",\"type\":\"Grid\"},{\"attributes\":{\"source\":{\"id\":\"91b5edbf-84b3-4bb7-ae0e-988060d23f87\",\"type\":\"ColumnDataSource\"}},\"id\":\"36159a1b-aac6-438d-92e7-c9744f99a889\",\"type\":\"CDSView\"},{\"attributes\":{\"axis_label\":\"pressure [mb]\",\"formatter\":{\"id\":\"248ecf69-113f-4f73-b92e-3a41505692f8\",\"type\":\"LogTickFormatter\"},\"plot\":{\"id\":\"0e6191e4-1198-4d7e-b7d6-54e93f0e63e9\",\"subtype\":\"Figure\",\"type\":\"Plot\"},\"ticker\":{\"id\":\"5c148257-be39-4860-8d3c-9df273a85010\",\"type\":\"LogTicker\"}},\"id\":\"24a3c0d1-5e3e-4477-a99c-1782ef395a92\",\"type\":\"LogAxis\"},{\"attributes\":{\"callback\":null,\"data\":{\"x\":{\"__ndarray__\":\"EFTPEMULEsBY5Soo7NcRwOAih0PfTQnAcLzxlkslFUAgkIluU6TzP+gpDdzLdwVAICHKUKVt1T+Ik7s3hMbwP6AHr9TDy9y/ECnbDOK15j+w2qv7vfbXvzCQ/22EH9Y/ABwN6PuE1b8w8RgTZ5TNP8ZxqdeCOdI/WPaTJPMAyz/gCWaNx9zKv4Bz2SfMkLG/QNDU2Dvrw7/gjDvG8ELPv3BfAcZ9A9W/QPE2M06U4r+4EtXbvdv4v8CHA9UM1vO/wNkC+csj1L9A31CHx4DGv4BAVcDWEKk/AJyjBEwOpL8A2K0iJHelvwAHMEdHKYW/QAFQrblkpT+AYHxUdJWePwCcnL/AFYO/AIDdMF2+IL9AoMQ3Xs6Hv8CEJWa/IIk/SHjx3bH7mD9glt/hXwibv4AXhtbv81c/0ZPByHVmuD+ZIBKsyEuxPwB7VdwaDKi/AMK2wPlcpL+A1M+Jt0OhvwBblecIUqS/AOzlE2F5m79AcNDuEvKUv8BO6MRU/Ja/ALSuiFPKhL8ASGwETKOKvwCIZggV2Yi/AB5fgpVndD+A7LY9mXWhv8C4xgD0L5O/ALuUgd63fD8AAPReZ8gCPwB4gQY0fE+/gN8kEc8Okj9ggdWOaw6mPwButB7pzIA/QJoEKHMXlz9A3ZOmSfmuP0CC+mOR17o/8L5CjVu4sD8gd3D5DeiqP4BAGGl6MbI/oBQpEQTvtT+AoHD36662PwCQysucWWu/gOgg5EKCgD+gmD6me76hPwAZquxAgK4/MDP40Wo1tD/gyKr9n0C3P9Ci4ei4h7S/\",\"dtype\":\"float64\",\"shape\":[75]},\"y\":{\"__ndarray__\":\"GhExyth1ND/Sv8nbtpRIP2vylNV0PVE/aTum7souWD/At0SJ8fVgPw3Iuahxymc/MSNhhJWvcD/bTfBN02d3P2zb5nxnaoA/CD5h5MAGhz8NmeH1TyaQP+zrCsc9p5Y/LbKd76fGnz/bLW5ISEmmPww9YvTcQq8/JV2OstnstT8Er5Y7M8G+P0c+r3jqkcU/5h99k6ZBzj88bCIzFzjVP4enV8oyxN0//yH99nXg5D8qOpLLf0jtP5kqGJXUifQ/c9cS8kHP/D+/DpwzojQEQIEmwoanVwxA4lgXt9HgE0BSSZ2AJuIbQAMJih9jjiNA5q4l5INuK0AwTKYKRj0zQNv5fmq8/DpAaCJseHrtQkB/+zpwzoxKQM3MzMzMeFJAZmZmZmZqWEAAAAAAAFxeQM3MzMzMJmJAmpmZmZkfZUBmZmZmZhhoQDMzMzMzEWtAAAAAAAAKbkBmZmZmZoFwQM3MzMzM/XFAMzMzMzN6c0CamZmZmfZ0QAAAAAAAc3ZAZmZmZmbvd0DNzMzMzGt5QDMzMzMz6HpAmpmZmZlkfEAAAAAAAOF9QGZmZmZmXX9AZmZmZuZsgECamZmZGSuBQM3MzMxM6YFAAAAAAICngkAzMzMzs2WDQGZmZmbmI4RAmpmZmRnihEDNzMzMTKCFQAAAAACAXoZAMzMzM7Mch0BmZmZm5tqHQJqZmZkZmYhAzczMzExXiUAAAAAAgBWKQDMzMzOz04pAZmZmZuaRi0CamZmZGVCMQM3MzMxMDo1AAAAAAIDMjUAzMzMzs4qOQGZmZmbmSI9A\",\"dtype\":\"float64\",\"shape\":[75]}},\"selected\":{\"id\":\"205dc632-6739-43fa-abaf-b66246f64fe6\",\"type\":\"Selection\"},\"selection_policy\":{\"id\":\"b52449b7-4f85-4c22-a0a0-4081c91de716\",\"type\":\"UnionRenderers\"}},\"id\":\"cd4c1d79-2825-446f-9eb9-c8c6cfea42d1\",\"type\":\"ColumnDataSource\"},{\"attributes\":{},\"id\":\"6cb46b5d-bf9d-4d91-a5e5-0aa5a7aaa73c\",\"type\":\"LinearScale\"},{\"attributes\":{\"source\":{\"id\":\"d63b1cb8-7128-4878-96ac-a98e34f31441\",\"type\":\"ColumnDataSource\"}},\"id\":\"e508e52f-14fe-4af2-b227-5693e00c07e0\",\"type\":\"CDSView\"},{\"attributes\":{\"callback\":null,\"data\":{\"x\":{\"__ndarray__\":\"cm1sTMT3VEDEyvjosEJHQOKI6DjzCUNArgQWV9awPkB9Lm8XG3M4QEz+Qv6iYzNA7eV8HaPLLkCX1QHyTpMoQFBmYSYetiNAUB04GtGpH0AmFyVE5j8ZQJca9QPGqBNALJP+OOHHDEBNxaf7QF8AQKtislomWuw/cW2dcO6A9T/uJJvfPu0EQIaQLTI/JQ1AxGiII+PmEkCJvfVeuCsYQD6ZBhGbHB9AXQw69DTYJEAsubcwKucqQNuT9D5OmipAJyi3szEJJUBlNebh5WkgQDDcPHBr2xlArtlANXuQFEBdJadFHckQQI2Avh0ZsQtAjYiwt1rsBUCL0SDoVBgAQK6C0nEEjvc/CggLSme58T9sXU2orFPnP0v0JYz9Gdg/vT38vxYczD9nBQTe6kHHP1IhkEXJwKo/8OZnhCVAub+xtVgCpmqzP6DUpY6g0+k/PKK3T1h4+D8RTDjQc1EAQG/dAQs7TwJAQt2eHpPLAEBWEh074x//PyCap9ZSGf4/rEzaTySm/T+7aXhHRmr9P688KeqeNP0/ruZ4EemD/D8olrZcn9T7P0+vNc9hW/s/i9VVL+4P+z+0NzC24uz6P8731Kza8vo/xFf4SHzq+z+gYyHpvHb8P68ROkiFevw/BAjYdCga/D8AUp8VbW77P3JrF/nKmvo/qCQeGfq++T/dplwHJfn4P2G4p+Uva/g/OzZ0RqMZ+D8dmn/iar73P/OuA7Ka8PY/gaaeQHGn9T9hkyjAH1L0P3aZGhdAU/M/n8VP/g7P8j+90HxHNvfyPwhNBtgrqvk/\",\"dtype\":\"float64\",\"shape\":[75]},\"y\":{\"__ndarray__\":\"GhExyth1ND/Sv8nbtpRIP2vylNV0PVE/aTum7souWD/At0SJ8fVgPw3Iuahxymc/MSNhhJWvcD/bTfBN02d3P2zb5nxnaoA/CD5h5MAGhz8NmeH1TyaQP+zrCsc9p5Y/LbKd76fGnz/bLW5ISEmmPww9YvTcQq8/JV2OstnstT8Er5Y7M8G+P0c+r3jqkcU/5h99k6ZBzj88bCIzFzjVP4enV8oyxN0//yH99nXg5D8qOpLLf0jtP5kqGJXUifQ/c9cS8kHP/D+/DpwzojQEQIEmwoanVwxA4lgXt9HgE0BSSZ2AJuIbQAMJih9jjiNA5q4l5INuK0AwTKYKRj0zQNv5fmq8/DpAaCJseHrtQkB/+zpwzoxKQM3MzMzMeFJAZmZmZmZqWEAAAAAAAFxeQM3MzMzMJmJAmpmZmZkfZUBmZmZmZhhoQDMzMzMzEWtAAAAAAAAKbkBmZmZmZoFwQM3MzMzM/XFAMzMzMzN6c0CamZmZmfZ0QAAAAAAAc3ZAZmZmZmbvd0DNzMzMzGt5QDMzMzMz6HpAmpmZmZlkfEAAAAAAAOF9QGZmZmZmXX9AZmZmZuZsgECamZmZGSuBQM3MzMxM6YFAAAAAAICngkAzMzMzs2WDQGZmZmbmI4RAmpmZmRnihEDNzMzMTKCFQAAAAACAXoZAMzMzM7Mch0BmZmZm5tqHQJqZmZkZmYhAzczMzExXiUAAAAAAgBWKQDMzMzOz04pAZmZmZuaRi0CamZmZGVCMQM3MzMxMDo1AAAAAAIDMjUAzMzMzs4qOQGZmZmbmSI9A\",\"dtype\":\"float64\",\"shape\":[75]}},\"selected\":{\"id\":\"b027ac73-8eb9-4a9f-9c5e-0c63b86046ae\",\"type\":\"Selection\"},\"selection_policy\":{\"id\":\"285e9ede-4dc0-49f6-9739-4a509c6d62c6\",\"type\":\"UnionRenderers\"}},\"id\":\"9c3c2934-944e-420c-851c-492859300842\",\"type\":\"ColumnDataSource\"},{\"attributes\":{},\"id\":\"158cdb75-1090-47de-86e2-6d1720a319f1\",\"type\":\"BasicTicker\"},{\"attributes\":{\"active_drag\":\"auto\",\"active_inspect\":\"auto\",\"active_scroll\":\"auto\",\"active_tap\":\"auto\",\"tools\":[{\"id\":\"cf7102d1-8180-4a60-b326-50942230ab1a\",\"type\":\"PanTool\"},{\"id\":\"3a09c187-c1f4-478b-ab31-a702d3df47a3\",\"type\":\"WheelZoomTool\"},{\"id\":\"48eec46c-ce1d-4e9a-976e-dd9978cedbbb\",\"type\":\"BoxZoomTool\"},{\"id\":\"436fc85e-0487-403c-b103-a8ef4c09bc00\",\"type\":\"SaveTool\"},{\"id\":\"5d0d2981-355e-4f1c-b423-5b49ce9ba2fe\",\"type\":\"ResetTool\"},{\"id\":\"68c89911-b933-448c-8c7f-f401f7980643\",\"type\":\"HelpTool\"}]},\"id\":\"1b0224e2-8dcf-404f-8a72-a7ec02c60767\",\"type\":\"Toolbar\"},{\"attributes\":{},\"id\":\"dd8b6311-caf6-44ae-a03d-6529e6c07b15\",\"type\":\"BasicTickFormatter\"},{\"attributes\":{\"line_alpha\":0.1,\"line_color\":\"#1f77b4\",\"line_width\":1.5,\"x\":{\"field\":\"x\"},\"y\":{\"field\":\"y\"}},\"id\":\"17051b76-e869-4274-8527-0857dfef65ab\",\"type\":\"Line\"},{\"attributes\":{\"fill_alpha\":{\"value\":0.1},\"fill_color\":{\"value\":\"#1f77b4\"},\"line_alpha\":{\"value\":0.1},\"line_color\":{\"value\":\"#1f77b4\"},\"x\":{\"field\":\"x\"},\"y\":{\"field\":\"y\"}},\"id\":\"cc6302f8-7943-461c-817c-4c87e4a0b8fc\",\"type\":\"Circle\"},{\"attributes\":{\"source\":{\"id\":\"cd4c1d79-2825-446f-9eb9-c8c6cfea42d1\",\"type\":\"ColumnDataSource\"}},\"id\":\"e6e953d1-5b32-4941-9832-57a735083b15\",\"type\":\"CDSView\"},{\"attributes\":{\"callback\":null,\"data\":{\"x\":{\"__ndarray__\":\"cm1sTMT3VEDEyvjosEJHQOKI6DjzCUNArgQWV9awPkB9Lm8XG3M4QEz+Qv6iYzNA7eV8HaPLLkCX1QHyTpMoQFBmYSYetiNAUB04GtGpH0AmFyVE5j8ZQJca9QPGqBNALJP+OOHHDEBNxaf7QF8AQKtislomWuw/cW2dcO6A9T/uJJvfPu0EQIaQLTI/JQ1AxGiII+PmEkCJvfVeuCsYQD6ZBhGbHB9AXQw69DTYJEAsubcwKucqQNuT9D5OmipAJyi3szEJJUBlNebh5WkgQDDcPHBr2xlArtlANXuQFEBdJadFHckQQI2Avh0ZsQtAjYiwt1rsBUCL0SDoVBgAQK6C0nEEjvc/CggLSme58T9sXU2orFPnP0v0JYz9Gdg/vT38vxYczD9nBQTe6kHHP1IhkEXJwKo/8OZnhCVAub+xtVgCpmqzP6DUpY6g0+k/PKK3T1h4+D8RTDjQc1EAQG/dAQs7TwJAQt2eHpPLAEBWEh074x//PyCap9ZSGf4/rEzaTySm/T+7aXhHRmr9P688KeqeNP0/ruZ4EemD/D8olrZcn9T7P0+vNc9hW/s/i9VVL+4P+z+0NzC24uz6P8731Kza8vo/xFf4SHzq+z+gYyHpvHb8P68ROkiFevw/BAjYdCga/D8AUp8VbW77P3JrF/nKmvo/qCQeGfq++T/dplwHJfn4P2G4p+Uva/g/OzZ0RqMZ+D8dmn/iar73P/OuA7Ka8PY/gaaeQHGn9T9hkyjAH1L0P3aZGhdAU/M/n8VP/g7P8j+90HxHNvfyPwhNBtgrqvk/\",\"dtype\":\"float64\",\"shape\":[75]},\"y\":{\"__ndarray__\":\"GhExyth1ND/Sv8nbtpRIP2vylNV0PVE/aTum7souWD/At0SJ8fVgPw3Iuahxymc/MSNhhJWvcD/bTfBN02d3P2zb5nxnaoA/CD5h5MAGhz8NmeH1TyaQP+zrCsc9p5Y/LbKd76fGnz/bLW5ISEmmPww9YvTcQq8/JV2OstnstT8Er5Y7M8G+P0c+r3jqkcU/5h99k6ZBzj88bCIzFzjVP4enV8oyxN0//yH99nXg5D8qOpLLf0jtP5kqGJXUifQ/c9cS8kHP/D+/DpwzojQEQIEmwoanVwxA4lgXt9HgE0BSSZ2AJuIbQAMJih9jjiNA5q4l5INuK0AwTKYKRj0zQNv5fmq8/DpAaCJseHrtQkB/+zpwzoxKQM3MzMzMeFJAZmZmZmZqWEAAAAAAAFxeQM3MzMzMJmJAmpmZmZkfZUBmZmZmZhhoQDMzMzMzEWtAAAAAAAAKbkBmZmZmZoFwQM3MzMzM/XFAMzMzMzN6c0CamZmZmfZ0QAAAAAAAc3ZAZmZmZmbvd0DNzMzMzGt5QDMzMzMz6HpAmpmZmZlkfEAAAAAAAOF9QGZmZmZmXX9AZmZmZuZsgECamZmZGSuBQM3MzMxM6YFAAAAAAICngkAzMzMzs2WDQGZmZmbmI4RAmpmZmRnihEDNzMzMTKCFQAAAAACAXoZAMzMzM7Mch0BmZmZm5tqHQJqZmZkZmYhAzczMzExXiUAAAAAAgBWKQDMzMzOz04pAZmZmZuaRi0CamZmZGVCMQM3MzMxMDo1AAAAAAIDMjUAzMzMzs4qOQGZmZmbmSI9A\",\"dtype\":\"float64\",\"shape\":[75]}},\"selected\":{\"id\":\"2ebdac3b-f0f3-4240-898b-1e103261f309\",\"type\":\"Selection\"},\"selection_policy\":{\"id\":\"495eb2d4-0ea0-4760-93f5-28ed4989c939\",\"type\":\"UnionRenderers\"}},\"id\":\"d63b1cb8-7128-4878-96ac-a98e34f31441\",\"type\":\"ColumnDataSource\"},{\"attributes\":{\"label\":{\"value\":\"CLIRAD - CRD\"},\"renderers\":[{\"id\":\"c412a238-c973-48ad-9e94-c9b400a536b9\",\"type\":\"GlyphRenderer\"},{\"id\":\"f69362c7-d6d3-4bec-98db-1a0052eb6bfc\",\"type\":\"GlyphRenderer\"}]},\"id\":\"cc5bd0fb-fc91-42ed-8e3f-6c972671165c\",\"type\":\"LegendItem\"},{\"attributes\":{\"source\":{\"id\":\"37a81d28-c5de-4710-9176-03de13dd9f6b\",\"type\":\"ColumnDataSource\"}},\"id\":\"38c0db74-0331-4e03-b35e-4f09ea794e12\",\"type\":\"CDSView\"},{\"attributes\":{\"line_color\":\"#4daf4a\",\"line_width\":1.5,\"x\":{\"field\":\"x\"},\"y\":{\"field\":\"y\"}},\"id\":\"9d2d0b49-4762-4321-a554-7ae11b88ed3a\",\"type\":\"Line\"},{\"attributes\":{\"label\":{\"value\":\"CLIRAD\"},\"renderers\":[{\"id\":\"2ebaa94f-5f8c-4eb1-9226-bf4205c4749b\",\"type\":\"GlyphRenderer\"}]},\"id\":\"cf89fcbb-d36b-4722-8a56-653ed701f028\",\"type\":\"LegendItem\"},{\"attributes\":{\"children\":[{\"id\":\"eae985bd-f9d7-4197-9aa5-007e3bde82af\",\"type\":\"ToolbarBox\"},{\"id\":\"1d2d6372-3dff-43ea-ba5d-46a9138d6843\",\"type\":\"Column\"}]},\"id\":\"d664b1c7-7401-454d-bd24-fec6286dd7f8\",\"type\":\"Column\"},{\"attributes\":{\"dimension\":1,\"plot\":{\"id\":\"9d4329bf-c46f-49b8-a09c-8cb5b9f4fc11\",\"subtype\":\"Figure\",\"type\":\"Plot\"},\"ticker\":{\"id\":\"15a052ac-5197-4b83-9503-e0952aa621e3\",\"type\":\"LogTicker\"}},\"id\":\"402b5a23-64f3-43ad-bba3-2586ad3ee852\",\"type\":\"Grid\"},{\"attributes\":{\"data_source\":{\"id\":\"367548fa-be93-4f41-a9fb-806150159b54\",\"type\":\"ColumnDataSource\"},\"glyph\":{\"id\":\"81db2d73-a53b-4eac-9eca-0a8f1a529403\",\"type\":\"Circle\"},\"hover_glyph\":null,\"muted_glyph\":null,\"nonselection_glyph\":{\"id\":\"15b50195-4b2a-47fd-8cf2-135a82e34dc1\",\"type\":\"Circle\"},\"selection_glyph\":null,\"view\":{\"id\":\"71368ccb-331a-4c00-a463-a9e2231d31f7\",\"type\":\"CDSView\"}},\"id\":\"e49b43e2-da7c-4db7-9b42-7cb9af12892c\",\"type\":\"GlyphRenderer\"},{\"attributes\":{\"fill_alpha\":{\"value\":0.1},\"fill_color\":{\"value\":\"#1f77b4\"},\"line_alpha\":{\"value\":0.1},\"line_color\":{\"value\":\"#1f77b4\"},\"x\":{\"field\":\"x\"},\"y\":{\"field\":\"y\"}},\"id\":\"15b50195-4b2a-47fd-8cf2-135a82e34dc1\",\"type\":\"Circle\"},{\"attributes\":{\"line_alpha\":0.5,\"line_color\":\"#377eb8\",\"line_dash\":[6],\"line_width\":4,\"x\":{\"field\":\"x\"},\"y\":{\"field\":\"y\"}},\"id\":\"aa51ac3b-192b-43ed-a83a-83764f2729b2\",\"type\":\"Line\"},{\"attributes\":{\"callback\":null,\"data\":{\"x\":{\"__ndarray__\":\"cm1sTMT3VEDEyvjosEJHQOKI6DjzCUNArgQWV9awPkB9Lm8XG3M4QEz+Qv6iYzNA7eV8HaPLLkCX1QHyTpMoQFBmYSYetiNAUB04GtGpH0AmFyVE5j8ZQJca9QPGqBNALJP+OOHHDEBNxaf7QF8AQKtislomWuw/cW2dcO6A9T/uJJvfPu0EQIaQLTI/JQ1AxGiII+PmEkCJvfVeuCsYQD6ZBhGbHB9AXQw69DTYJEAsubcwKucqQNuT9D5OmipAJyi3szEJJUBlNebh5WkgQDDcPHBr2xlArtlANXuQFEBdJadFHckQQI2Avh0ZsQtAjYiwt1rsBUCL0SDoVBgAQK6C0nEEjvc/CggLSme58T9sXU2orFPnP0v0JYz9Gdg/vT38vxYczD9nBQTe6kHHP1IhkEXJwKo/8OZnhCVAub+xtVgCpmqzP6DUpY6g0+k/PKK3T1h4+D8RTDjQc1EAQG/dAQs7TwJAQt2eHpPLAEBWEh074x//PyCap9ZSGf4/rEzaTySm/T+7aXhHRmr9P688KeqeNP0/ruZ4EemD/D8olrZcn9T7P0+vNc9hW/s/i9VVL+4P+z+0NzC24uz6P8731Kza8vo/xFf4SHzq+z+gYyHpvHb8P68ROkiFevw/BAjYdCga/D8AUp8VbW77P3JrF/nKmvo/qCQeGfq++T/dplwHJfn4P2G4p+Uva/g/OzZ0RqMZ+D8dmn/iar73P/OuA7Ka8PY/gaaeQHGn9T9hkyjAH1L0P3aZGhdAU/M/n8VP/g7P8j+90HxHNvfyPwhNBtgrqvk/\",\"dtype\":\"float64\",\"shape\":[75]},\"y\":{\"__ndarray__\":\"GhExyth1ND/Sv8nbtpRIP2vylNV0PVE/aTum7souWD/At0SJ8fVgPw3Iuahxymc/MSNhhJWvcD/bTfBN02d3P2zb5nxnaoA/CD5h5MAGhz8NmeH1TyaQP+zrCsc9p5Y/LbKd76fGnz/bLW5ISEmmPww9YvTcQq8/JV2OstnstT8Er5Y7M8G+P0c+r3jqkcU/5h99k6ZBzj88bCIzFzjVP4enV8oyxN0//yH99nXg5D8qOpLLf0jtP5kqGJXUifQ/c9cS8kHP/D+/DpwzojQEQIEmwoanVwxA4lgXt9HgE0BSSZ2AJuIbQAMJih9jjiNA5q4l5INuK0AwTKYKRj0zQNv5fmq8/DpAaCJseHrtQkB/+zpwzoxKQM3MzMzMeFJAZmZmZmZqWEAAAAAAAFxeQM3MzMzMJmJAmpmZmZkfZUBmZmZmZhhoQDMzMzMzEWtAAAAAAAAKbkBmZmZmZoFwQM3MzMzM/XFAMzMzMzN6c0CamZmZmfZ0QAAAAAAAc3ZAZmZmZmbvd0DNzMzMzGt5QDMzMzMz6HpAmpmZmZlkfEAAAAAAAOF9QGZmZmZmXX9AZmZmZuZsgECamZmZGSuBQM3MzMxM6YFAAAAAAICngkAzMzMzs2WDQGZmZmbmI4RAmpmZmRnihEDNzMzMTKCFQAAAAACAXoZAMzMzM7Mch0BmZmZm5tqHQJqZmZkZmYhAzczMzExXiUAAAAAAgBWKQDMzMzOz04pAZmZmZuaRi0CamZmZGVCMQM3MzMxMDo1AAAAAAIDMjUAzMzMzs4qOQGZmZmbmSI9A\",\"dtype\":\"float64\",\"shape\":[75]}},\"selected\":{\"id\":\"0856598e-7107-478a-8af8-a8b466a76771\",\"type\":\"Selection\"},\"selection_policy\":{\"id\":\"cb2ce24b-ae41-47c6-80b0-4916f92b3ab4\",\"type\":\"UnionRenderers\"}},\"id\":\"367548fa-be93-4f41-a9fb-806150159b54\",\"type\":\"ColumnDataSource\"},{\"attributes\":{\"data_source\":{\"id\":\"d63b1cb8-7128-4878-96ac-a98e34f31441\",\"type\":\"ColumnDataSource\"},\"glyph\":{\"id\":\"b46de7ab-3cb5-4a5a-9a76-b6630a0508cc\",\"type\":\"Circle\"},\"hover_glyph\":null,\"muted_glyph\":null,\"nonselection_glyph\":{\"id\":\"cc6302f8-7943-461c-817c-4c87e4a0b8fc\",\"type\":\"Circle\"},\"selection_glyph\":null,\"view\":{\"id\":\"e508e52f-14fe-4af2-b227-5693e00c07e0\",\"type\":\"CDSView\"}},\"id\":\"7c69fde9-74c8-4f42-a403-0dd0fb5a721e\",\"type\":\"GlyphRenderer\"},{\"attributes\":{\"line_alpha\":0.1,\"line_color\":\"#1f77b4\",\"line_dash\":[6],\"line_width\":4,\"x\":{\"field\":\"x\"},\"y\":{\"field\":\"y\"}},\"id\":\"f6a82200-13af-48eb-8e20-ecfb67762d21\",\"type\":\"Line\"},{\"attributes\":{\"tools\":[{\"id\":\"3b63ff0a-9038-4a31-b94b-a29d2cc22294\",\"type\":\"PanTool\"},{\"id\":\"a17b8276-dcf2-4294-bf34-7d7558039b9e\",\"type\":\"WheelZoomTool\"},{\"id\":\"8fd7d765-de4f-4e46-9cea-8e47067b53b3\",\"type\":\"BoxZoomTool\"},{\"id\":\"f7ee8e66-7ac5-4941-9cb8-eaf1e05a834f\",\"type\":\"SaveTool\"},{\"id\":\"b2bd4652-ba9f-44cc-9c5b-f16963e26fb4\",\"type\":\"ResetTool\"},{\"id\":\"dc9af827-40d2-4185-9ab5-caac8d73d673\",\"type\":\"HelpTool\"},{\"id\":\"51dc783f-0f8c-43d6-a85b-2cadfc71cd1e\",\"type\":\"PanTool\"},{\"id\":\"6c2e510d-fe48-48bc-9c0d-b78fcacf58e3\",\"type\":\"WheelZoomTool\"},{\"id\":\"d8395cf5-c9fe-440d-a403-a3b1a99ece56\",\"type\":\"BoxZoomTool\"},{\"id\":\"80b546bb-971b-45f0-b20a-4c4e03d4bd6a\",\"type\":\"SaveTool\"},{\"id\":\"079d99f3-0921-46c3-adfb-b687b7ee3acc\",\"type\":\"ResetTool\"},{\"id\":\"d107ba9b-1f9b-4db5-b113-1d83b71a96fe\",\"type\":\"HelpTool\"},{\"id\":\"cf7102d1-8180-4a60-b326-50942230ab1a\",\"type\":\"PanTool\"},{\"id\":\"3a09c187-c1f4-478b-ab31-a702d3df47a3\",\"type\":\"WheelZoomTool\"},{\"id\":\"48eec46c-ce1d-4e9a-976e-dd9978cedbbb\",\"type\":\"BoxZoomTool\"},{\"id\":\"436fc85e-0487-403c-b103-a8ef4c09bc00\",\"type\":\"SaveTool\"},{\"id\":\"5d0d2981-355e-4f1c-b423-5b49ce9ba2fe\",\"type\":\"ResetTool\"},{\"id\":\"68c89911-b933-448c-8c7f-f401f7980643\",\"type\":\"HelpTool\"}]},\"id\":\"bb75a227-905b-4919-b66e-b5e041dba983\",\"type\":\"ProxyToolbar\"},{\"attributes\":{},\"id\":\"cfabfade-5e02-414c-ae70-0c4ddecbc1a2\",\"type\":\"BasicTickFormatter\"},{\"attributes\":{},\"id\":\"cb2ce24b-ae41-47c6-80b0-4916f92b3ab4\",\"type\":\"UnionRenderers\"},{\"attributes\":{\"source\":{\"id\":\"9c3c2934-944e-420c-851c-492859300842\",\"type\":\"ColumnDataSource\"}},\"id\":\"bed8e0d5-794a-4fa7-8f78-fa47f3aaaa88\",\"type\":\"CDSView\"}],\"root_ids\":[\"d664b1c7-7401-454d-bd24-fec6286dd7f8\"]},\"title\":\"Bokeh Application\",\"version\":\"0.12.16\"}};\n",
       "  var render_items = [{\"docid\":\"3cd28c6a-125e-4e85-b83f-537ee44e4cbd\",\"elementid\":\"7a4cd68b-84ef-4014-859d-2e49199c3006\",\"modelid\":\"d664b1c7-7401-454d-bd24-fec6286dd7f8\"}];\n",
       "  root.Bokeh.embed.embed_items_notebook(docs_json, render_items);\n",
       "\n",
       "  }\n",
       "  if (root.Bokeh !== undefined) {\n",
       "    embed_document(root);\n",
       "  } else {\n",
       "    var attempts = 0;\n",
       "    var timer = setInterval(function(root) {\n",
       "      if (root.Bokeh !== undefined) {\n",
       "        embed_document(root);\n",
       "        clearInterval(timer);\n",
       "      }\n",
       "      attempts++;\n",
       "      if (attempts > 100) {\n",
       "        console.log(\"Bokeh: ERROR: Unable to run BokehJS code because BokehJS library is missing\")\n",
       "        clearInterval(timer);\n",
       "      }\n",
       "    }, 10, root)\n",
       "  }\n",
       "})(window);"
      ],
      "application/vnd.bokehjs_exec.v0+json": ""
     },
     "metadata": {
      "application/vnd.bokehjs_exec.v0+json": {
       "id": "d664b1c7-7401-454d-bd24-fec6286dd7f8"
      }
     },
     "output_type": "display_data"
    },
    {
     "data": {
      "text/markdown": [
       "*FIGURE.* Cooling rates & difference."
      ],
      "text/plain": [
       "<IPython.core.display.Markdown object>"
      ]
     },
     "metadata": {},
     "output_type": "display_data"
    },
    {
     "data": {
      "text/html": [
       "<a id=\"Fluxes._mls.\"></a>"
      ],
      "text/plain": [
       "<IPython.core.display.HTML object>"
      ]
     },
     "metadata": {},
     "output_type": "display_data"
    },
    {
     "data": {
      "text/markdown": [
       "# Fluxes. mls."
      ],
      "text/plain": [
       "<IPython.core.display.Markdown object>"
      ]
     },
     "metadata": {},
     "output_type": "display_data"
    },
    {
     "data": {
      "text/html": [
       "\n",
       "<div class=\"bk-root\">\n",
       "    <div class=\"bk-plotdiv\" id=\"4b930052-167e-453c-9ef3-c4b0cf655d86\"></div>\n",
       "</div>"
      ]
     },
     "metadata": {},
     "output_type": "display_data"
    },
    {
     "data": {
      "application/javascript": [
       "(function(root) {\n",
       "  function embed_document(root) {\n",
       "    \n",
       "  var docs_json = {\"cb2d675c-00dc-435e-975b-25fc45eb56bd\":{\"roots\":{\"references\":[{\"attributes\":{\"callback\":null,\"factors\":[\"1\",\"2\",\"3\",\"4\",\"5\",\"6\",\"7\",\"8\",\"9\",\"10\",\"11\"]},\"id\":\"9da22f81-f16e-4555-a703-d3e5910a019b\",\"type\":\"FactorRange\"},{\"attributes\":{},\"id\":\"8dae2a76-f180-4cf8-8024-11f6975cb89d\",\"type\":\"CategoricalTickFormatter\"},{\"attributes\":{},\"id\":\"f5194786-0ec5-4edb-82df-5963761c4b58\",\"type\":\"SaveTool\"},{\"attributes\":{},\"id\":\"712456e5-7511-4c3f-9b71-5631a39260fb\",\"type\":\"CategoricalTicker\"},{\"attributes\":{\"plot\":null,\"text\":\"SFC flux. CLIRAD - CRD.\"},\"id\":\"17fbde24-cbba-4d1d-92b6-8f74d57b862f\",\"type\":\"Title\"},{\"attributes\":{},\"id\":\"18bdd15e-0b93-4eca-a874-216ee724cc29\",\"type\":\"WheelZoomTool\"},{\"attributes\":{},\"id\":\"ffd241b1-1eed-480d-b148-7bfc5c1ed0d9\",\"type\":\"PanTool\"},{\"attributes\":{\"source\":{\"id\":\"5c39ac09-c774-4359-9266-b3a512945615\",\"type\":\"ColumnDataSource\"}},\"id\":\"73db900c-caaa-478c-9ebf-0495965e96d8\",\"type\":\"CDSView\"},{\"attributes\":{\"children\":[{\"id\":\"3751086e-e0c9-4017-8eff-8192d6e3eb06\",\"type\":\"ToolbarBox\"},{\"id\":\"29cd818e-498f-4320-b579-59c49bbd683e\",\"type\":\"Column\"}]},\"id\":\"aa68079c-73e5-4771-b526-9f89e896e85d\",\"type\":\"Column\"},{\"attributes\":{},\"id\":\"ca0b66d7-bf1c-4434-8510-769508fe134c\",\"type\":\"UnionRenderers\"},{\"attributes\":{\"fill_alpha\":{\"value\":0.1},\"fill_color\":{\"value\":\"#1f77b4\"},\"line_alpha\":{\"value\":0.1},\"line_color\":{\"value\":\"#1f77b4\"},\"top\":{\"field\":\"flux\"},\"width\":{\"value\":0.9},\"x\":{\"field\":\"band\"}},\"id\":\"ad65b56e-7ca3-4882-bc81-4abdbd6fca00\",\"type\":\"VBar\"},{\"attributes\":{},\"id\":\"ef3e9f0e-3f94-4a78-b8a0-5e8798edbc1c\",\"type\":\"Selection\"},{\"attributes\":{\"dimension\":1,\"plot\":{\"id\":\"3d05bbdb-460a-4273-a593-179171f5150b\",\"subtype\":\"Figure\",\"type\":\"Plot\"},\"ticker\":{\"id\":\"19fc560d-d1a0-48fc-8f12-2173607e108a\",\"type\":\"BasicTicker\"}},\"id\":\"b7e3eee4-9ee6-40a9-8549-b6fee1f9b1ad\",\"type\":\"Grid\"},{\"attributes\":{},\"id\":\"13a13041-f7f0-44f9-b7bf-7def52da7938\",\"type\":\"Selection\"},{\"attributes\":{},\"id\":\"19fc560d-d1a0-48fc-8f12-2173607e108a\",\"type\":\"BasicTicker\"},{\"attributes\":{},\"id\":\"26178dcf-5dc9-462c-98eb-30d52e2c3433\",\"type\":\"BasicTickFormatter\"},{\"attributes\":{},\"id\":\"1261bcbb-5b70-42e9-8c45-5e2a9305abff\",\"type\":\"HelpTool\"},{\"attributes\":{\"children\":[{\"id\":\"6cc12330-c744-449e-949d-56ae7c3c4ac2\",\"type\":\"Row\"}]},\"id\":\"29cd818e-498f-4320-b579-59c49bbd683e\",\"type\":\"Column\"},{\"attributes\":{},\"id\":\"3a4d2cb5-d970-46a8-9398-224c8af6f643\",\"type\":\"UnionRenderers\"},{\"attributes\":{\"fill_color\":{\"value\":\"#1f77b4\"},\"line_color\":{\"value\":\"#1f77b4\"},\"top\":{\"field\":\"flux\"},\"width\":{\"value\":0.9},\"x\":{\"field\":\"band\"}},\"id\":\"c7d5c470-fbae-4745-9c75-feb13e662437\",\"type\":\"VBar\"},{\"attributes\":{},\"id\":\"82ee63e9-a1d4-4457-8bf3-ec938cf635db\",\"type\":\"ResetTool\"},{\"attributes\":{\"active_drag\":\"auto\",\"active_inspect\":\"auto\",\"active_scroll\":\"auto\",\"active_tap\":\"auto\",\"tools\":[{\"id\":\"ffd241b1-1eed-480d-b148-7bfc5c1ed0d9\",\"type\":\"PanTool\"},{\"id\":\"18bdd15e-0b93-4eca-a874-216ee724cc29\",\"type\":\"WheelZoomTool\"},{\"id\":\"ffc5ddc3-e320-4606-aca5-fc68cf81ea7b\",\"type\":\"BoxZoomTool\"},{\"id\":\"f5194786-0ec5-4edb-82df-5963761c4b58\",\"type\":\"SaveTool\"},{\"id\":\"82ee63e9-a1d4-4457-8bf3-ec938cf635db\",\"type\":\"ResetTool\"},{\"id\":\"1261bcbb-5b70-42e9-8c45-5e2a9305abff\",\"type\":\"HelpTool\"}]},\"id\":\"e31bfbe8-48d9-4bd2-8691-bb6459943891\",\"type\":\"Toolbar\"},{\"attributes\":{},\"id\":\"4735c454-4a1d-4ea8-aa94-ac45efeb58ca\",\"type\":\"BasicTickFormatter\"},{\"attributes\":{\"bottom_units\":\"screen\",\"fill_alpha\":{\"value\":0.5},\"fill_color\":{\"value\":\"lightgrey\"},\"left_units\":\"screen\",\"level\":\"overlay\",\"line_alpha\":{\"value\":1.0},\"line_color\":{\"value\":\"black\"},\"line_dash\":[4,4],\"line_width\":{\"value\":2},\"plot\":null,\"render_mode\":\"css\",\"right_units\":\"screen\",\"top_units\":\"screen\"},\"id\":\"e5d0f459-2dd3-46f8-86c7-5ea865dcc6b5\",\"type\":\"BoxAnnotation\"},{\"attributes\":{},\"id\":\"e0ffb8e0-cac9-4191-9616-3537b7eac1a3\",\"type\":\"CategoricalScale\"},{\"attributes\":{},\"id\":\"ada283ca-d631-4829-aa27-397c2c938954\",\"type\":\"CategoricalTickFormatter\"},{\"attributes\":{},\"id\":\"30846776-6ee3-4622-ad0f-e1104f5ddca2\",\"type\":\"CategoricalTickFormatter\"},{\"attributes\":{\"axis_label\":\"flux (W m-2)\",\"formatter\":{\"id\":\"4735c454-4a1d-4ea8-aa94-ac45efeb58ca\",\"type\":\"BasicTickFormatter\"},\"plot\":{\"id\":\"3d05bbdb-460a-4273-a593-179171f5150b\",\"subtype\":\"Figure\",\"type\":\"Plot\"},\"ticker\":{\"id\":\"19fc560d-d1a0-48fc-8f12-2173607e108a\",\"type\":\"BasicTicker\"}},\"id\":\"c3ef82ce-3e3d-4cb1-8447-dfa4c6edbd59\",\"type\":\"LinearAxis\"},{\"attributes\":{},\"id\":\"ceb80bd3-e545-4d06-aa60-e51cf386e9d8\",\"type\":\"UnionRenderers\"},{\"attributes\":{\"plot\":null,\"text\":\"Atmosphere heating. CLIRAD - CRD.\"},\"id\":\"d0b867f3-0f27-4cc2-8a33-e34e52adb5de\",\"type\":\"Title\"},{\"attributes\":{\"children\":[{\"id\":\"cb478afa-368a-48ff-a1cc-ad7aa66d7a6e\",\"subtype\":\"Figure\",\"type\":\"Plot\"},{\"id\":\"6d03ab32-a8d6-49e3-9db8-6e83771b92a4\",\"subtype\":\"Figure\",\"type\":\"Plot\"},{\"id\":\"3d05bbdb-460a-4273-a593-179171f5150b\",\"subtype\":\"Figure\",\"type\":\"Plot\"}]},\"id\":\"6cc12330-c744-449e-949d-56ae7c3c4ac2\",\"type\":\"Row\"},{\"attributes\":{\"below\":[{\"id\":\"7ab3efeb-01f6-44fd-99de-d3f354eb330d\",\"type\":\"CategoricalAxis\"}],\"left\":[{\"id\":\"5c0d1937-e511-4c70-ac0c-aa475b305a71\",\"type\":\"LinearAxis\"}],\"plot_height\":300,\"plot_width\":300,\"renderers\":[{\"id\":\"7ab3efeb-01f6-44fd-99de-d3f354eb330d\",\"type\":\"CategoricalAxis\"},{\"id\":\"5646f912-63bc-4b62-9798-b54421943584\",\"type\":\"Grid\"},{\"id\":\"5c0d1937-e511-4c70-ac0c-aa475b305a71\",\"type\":\"LinearAxis\"},{\"id\":\"e0725cb3-03c6-41ae-b2f4-045a967cb5bd\",\"type\":\"Grid\"},{\"id\":\"aae4bc50-ca75-497d-898c-d92e42192ded\",\"type\":\"BoxAnnotation\"},{\"id\":\"b6540fc0-2e7c-4d0c-8995-e59e75f6e1a8\",\"type\":\"GlyphRenderer\"}],\"title\":{\"id\":\"17fbde24-cbba-4d1d-92b6-8f74d57b862f\",\"type\":\"Title\"},\"toolbar\":{\"id\":\"ce909415-bddf-4ccb-a337-500cc8e604b7\",\"type\":\"Toolbar\"},\"toolbar_location\":null,\"x_range\":{\"id\":\"4cf83865-3f18-47e1-9faa-834a3a312845\",\"type\":\"FactorRange\"},\"x_scale\":{\"id\":\"9c63dd47-7ce1-47bd-bd2a-4b1ba107ff35\",\"type\":\"CategoricalScale\"},\"y_range\":{\"id\":\"bb7c9263-b702-4abc-a75a-52a562519c69\",\"type\":\"DataRange1d\"},\"y_scale\":{\"id\":\"6070f167-726e-4e52-afc8-00dad0ee5a0e\",\"type\":\"LinearScale\"}},\"id\":\"6d03ab32-a8d6-49e3-9db8-6e83771b92a4\",\"subtype\":\"Figure\",\"type\":\"Plot\"},{\"attributes\":{\"callback\":null},\"id\":\"6571f6ee-06f6-461f-a068-e7a78f4e4f61\",\"type\":\"DataRange1d\"},{\"attributes\":{\"toolbar\":{\"id\":\"5a4f8b67-8942-4398-951e-877598ba42c4\",\"type\":\"ProxyToolbar\"},\"toolbar_location\":\"above\"},\"id\":\"3751086e-e0c9-4017-8eff-8192d6e3eb06\",\"type\":\"ToolbarBox\"},{\"attributes\":{\"overlay\":{\"id\":\"e5d0f459-2dd3-46f8-86c7-5ea865dcc6b5\",\"type\":\"BoxAnnotation\"}},\"id\":\"ffc5ddc3-e320-4606-aca5-fc68cf81ea7b\",\"type\":\"BoxZoomTool\"},{\"attributes\":{\"plot\":{\"id\":\"3d05bbdb-460a-4273-a593-179171f5150b\",\"subtype\":\"Figure\",\"type\":\"Plot\"},\"ticker\":{\"id\":\"712456e5-7511-4c3f-9b71-5631a39260fb\",\"type\":\"CategoricalTicker\"}},\"id\":\"a634966c-80ca-4273-b8bf-38f43a4f3c8a\",\"type\":\"Grid\"},{\"attributes\":{\"callback\":null,\"data\":{\"band\":[\"1\",\"2\",\"3\",\"4\",\"5\",\"6\",\"7\",\"8\",\"9\",\"10\",\"11\"],\"flux\":{\"__ndarray__\":\"AAAAAyUF9r4AaoKo+wDYP4DPYb68ANO/ANyul6YIsD+Adtzwu+nfPwAyj/zBwLM/AIEU4cvplz+gE/5W/PDBvwAFptO6DcY/AKBF71TAjT8ApFGBk22APw==\",\"dtype\":\"float64\",\"shape\":[11]}},\"selected\":{\"id\":\"13a13041-f7f0-44f9-b7bf-7def52da7938\",\"type\":\"Selection\"},\"selection_policy\":{\"id\":\"3a4d2cb5-d970-46a8-9398-224c8af6f643\",\"type\":\"UnionRenderers\"}},\"id\":\"292b3a8a-c94d-416d-a7e6-c6176ba00e4f\",\"type\":\"ColumnDataSource\"},{\"attributes\":{\"below\":[{\"id\":\"57691dbc-b2dc-4d51-aa9b-8c61754c96b4\",\"type\":\"CategoricalAxis\"}],\"left\":[{\"id\":\"c3ef82ce-3e3d-4cb1-8447-dfa4c6edbd59\",\"type\":\"LinearAxis\"}],\"plot_height\":300,\"plot_width\":300,\"renderers\":[{\"id\":\"57691dbc-b2dc-4d51-aa9b-8c61754c96b4\",\"type\":\"CategoricalAxis\"},{\"id\":\"a634966c-80ca-4273-b8bf-38f43a4f3c8a\",\"type\":\"Grid\"},{\"id\":\"c3ef82ce-3e3d-4cb1-8447-dfa4c6edbd59\",\"type\":\"LinearAxis\"},{\"id\":\"b7e3eee4-9ee6-40a9-8549-b6fee1f9b1ad\",\"type\":\"Grid\"},{\"id\":\"e5d0f459-2dd3-46f8-86c7-5ea865dcc6b5\",\"type\":\"BoxAnnotation\"},{\"id\":\"5409306a-5d38-4e74-8b7f-bc3f4dad5d00\",\"type\":\"GlyphRenderer\"}],\"title\":{\"id\":\"d0b867f3-0f27-4cc2-8a33-e34e52adb5de\",\"type\":\"Title\"},\"toolbar\":{\"id\":\"e31bfbe8-48d9-4bd2-8691-bb6459943891\",\"type\":\"Toolbar\"},\"toolbar_location\":null,\"x_range\":{\"id\":\"9da22f81-f16e-4555-a703-d3e5910a019b\",\"type\":\"FactorRange\"},\"x_scale\":{\"id\":\"e0ffb8e0-cac9-4191-9616-3537b7eac1a3\",\"type\":\"CategoricalScale\"},\"y_range\":{\"id\":\"6571f6ee-06f6-461f-a068-e7a78f4e4f61\",\"type\":\"DataRange1d\"},\"y_scale\":{\"id\":\"0a0330f7-7846-4448-9408-cfe394423e56\",\"type\":\"LinearScale\"}},\"id\":\"3d05bbdb-460a-4273-a593-179171f5150b\",\"subtype\":\"Figure\",\"type\":\"Plot\"},{\"attributes\":{},\"id\":\"408141da-39aa-49d7-abdc-53afbb866a22\",\"type\":\"Selection\"},{\"attributes\":{\"data_source\":{\"id\":\"5c39ac09-c774-4359-9266-b3a512945615\",\"type\":\"ColumnDataSource\"},\"glyph\":{\"id\":\"c7d5c470-fbae-4745-9c75-feb13e662437\",\"type\":\"VBar\"},\"hover_glyph\":null,\"muted_glyph\":null,\"nonselection_glyph\":{\"id\":\"ad65b56e-7ca3-4882-bc81-4abdbd6fca00\",\"type\":\"VBar\"},\"selection_glyph\":null,\"view\":{\"id\":\"73db900c-caaa-478c-9ebf-0495965e96d8\",\"type\":\"CDSView\"}},\"id\":\"5409306a-5d38-4e74-8b7f-bc3f4dad5d00\",\"type\":\"GlyphRenderer\"},{\"attributes\":{\"callback\":null,\"data\":{\"band\":[\"1\",\"2\",\"3\",\"4\",\"5\",\"6\",\"7\",\"8\",\"9\",\"10\",\"11\"],\"flux\":{\"__ndarray__\":\"AOIC0ChdyD+AEwg7xarSP8DjvWplwtO/QHBbW3he0z8AkszqHW7QPwASj8TL07G/wHx6bMuA2D8A6tK/JJW5vwAmamluhZC/QD96efDJwD9AKej2ksawPw==\",\"dtype\":\"float64\",\"shape\":[11]}},\"selected\":{\"id\":\"408141da-39aa-49d7-abdc-53afbb866a22\",\"type\":\"Selection\"},\"selection_policy\":{\"id\":\"ceb80bd3-e545-4d06-aa60-e51cf386e9d8\",\"type\":\"UnionRenderers\"}},\"id\":\"845d23b9-efc9-4034-b5a8-b747084db6a6\",\"type\":\"ColumnDataSource\"},{\"attributes\":{\"tools\":[{\"id\":\"627f6c5f-73bb-45aa-9150-8e7dfc86aa09\",\"type\":\"PanTool\"},{\"id\":\"e46aec50-c1f5-4529-92df-db083511f217\",\"type\":\"WheelZoomTool\"},{\"id\":\"04948e0c-efbd-49ee-a496-f54fb218199b\",\"type\":\"BoxZoomTool\"},{\"id\":\"407a5ace-411a-4343-9b13-6f8fc4476cba\",\"type\":\"SaveTool\"},{\"id\":\"2d5332c4-9313-4501-87ba-ec6059947284\",\"type\":\"ResetTool\"},{\"id\":\"63107d07-b759-471f-894e-aee449e48e3b\",\"type\":\"HelpTool\"},{\"id\":\"fffbc824-24d0-4b97-b2bd-33fbbeec2edf\",\"type\":\"PanTool\"},{\"id\":\"838a3d45-8adf-4b58-a705-ab6acd413cdd\",\"type\":\"WheelZoomTool\"},{\"id\":\"50ccf2d8-c139-4a79-9537-db9483c0aa63\",\"type\":\"BoxZoomTool\"},{\"id\":\"dd691325-fd3d-4b9a-a779-44a9ad14b75c\",\"type\":\"SaveTool\"},{\"id\":\"8e0f76c4-2a5c-47eb-a4d9-b924d1c24e67\",\"type\":\"ResetTool\"},{\"id\":\"19c195da-17d2-45f2-a480-d0d1f0d7f29d\",\"type\":\"HelpTool\"},{\"id\":\"ffd241b1-1eed-480d-b148-7bfc5c1ed0d9\",\"type\":\"PanTool\"},{\"id\":\"18bdd15e-0b93-4eca-a874-216ee724cc29\",\"type\":\"WheelZoomTool\"},{\"id\":\"ffc5ddc3-e320-4606-aca5-fc68cf81ea7b\",\"type\":\"BoxZoomTool\"},{\"id\":\"f5194786-0ec5-4edb-82df-5963761c4b58\",\"type\":\"SaveTool\"},{\"id\":\"82ee63e9-a1d4-4457-8bf3-ec938cf635db\",\"type\":\"ResetTool\"},{\"id\":\"1261bcbb-5b70-42e9-8c45-5e2a9305abff\",\"type\":\"HelpTool\"}]},\"id\":\"5a4f8b67-8942-4398-951e-877598ba42c4\",\"type\":\"ProxyToolbar\"},{\"attributes\":{\"active_drag\":\"auto\",\"active_inspect\":\"auto\",\"active_scroll\":\"auto\",\"active_tap\":\"auto\",\"tools\":[{\"id\":\"627f6c5f-73bb-45aa-9150-8e7dfc86aa09\",\"type\":\"PanTool\"},{\"id\":\"e46aec50-c1f5-4529-92df-db083511f217\",\"type\":\"WheelZoomTool\"},{\"id\":\"04948e0c-efbd-49ee-a496-f54fb218199b\",\"type\":\"BoxZoomTool\"},{\"id\":\"407a5ace-411a-4343-9b13-6f8fc4476cba\",\"type\":\"SaveTool\"},{\"id\":\"2d5332c4-9313-4501-87ba-ec6059947284\",\"type\":\"ResetTool\"},{\"id\":\"63107d07-b759-471f-894e-aee449e48e3b\",\"type\":\"HelpTool\"}]},\"id\":\"4786a999-1f34-42a2-8c86-5eed349481d1\",\"type\":\"Toolbar\"},{\"attributes\":{\"axis_label\":\"spectral band\",\"formatter\":{\"id\":\"8dae2a76-f180-4cf8-8024-11f6975cb89d\",\"type\":\"CategoricalTickFormatter\"},\"plot\":{\"id\":\"3d05bbdb-460a-4273-a593-179171f5150b\",\"subtype\":\"Figure\",\"type\":\"Plot\"},\"ticker\":{\"id\":\"712456e5-7511-4c3f-9b71-5631a39260fb\",\"type\":\"CategoricalTicker\"}},\"id\":\"57691dbc-b2dc-4d51-aa9b-8c61754c96b4\",\"type\":\"CategoricalAxis\"},{\"attributes\":{},\"id\":\"a92f3f5e-2645-404d-8dba-8fb83dca61b5\",\"type\":\"BasicTickFormatter\"},{\"attributes\":{},\"id\":\"0a0330f7-7846-4448-9408-cfe394423e56\",\"type\":\"LinearScale\"},{\"attributes\":{\"below\":[{\"id\":\"d9f91387-0d92-498e-ba94-2eb275fc1a37\",\"type\":\"CategoricalAxis\"}],\"left\":[{\"id\":\"8f02f150-f291-4d12-b7b6-9648a49834a7\",\"type\":\"LinearAxis\"}],\"plot_height\":300,\"plot_width\":300,\"renderers\":[{\"id\":\"d9f91387-0d92-498e-ba94-2eb275fc1a37\",\"type\":\"CategoricalAxis\"},{\"id\":\"5ba20d9d-3bd8-4498-a638-566f890a1353\",\"type\":\"Grid\"},{\"id\":\"8f02f150-f291-4d12-b7b6-9648a49834a7\",\"type\":\"LinearAxis\"},{\"id\":\"997f82ca-d024-4060-be3f-95eaefdbe84b\",\"type\":\"Grid\"},{\"id\":\"dd112ee9-719a-45c9-b5c8-4d7178dd55cd\",\"type\":\"BoxAnnotation\"},{\"id\":\"45b2bdc0-8d3e-4a63-80c0-7fef67ddc132\",\"type\":\"GlyphRenderer\"}],\"title\":{\"id\":\"08e5dae3-261e-43b8-8e53-247ce41b6404\",\"type\":\"Title\"},\"toolbar\":{\"id\":\"4786a999-1f34-42a2-8c86-5eed349481d1\",\"type\":\"Toolbar\"},\"toolbar_location\":null,\"x_range\":{\"id\":\"5d987031-d434-47c8-80b6-4c19f1a21386\",\"type\":\"FactorRange\"},\"x_scale\":{\"id\":\"db236461-f1f1-4cce-905f-3cf26ebc82b4\",\"type\":\"CategoricalScale\"},\"y_range\":{\"id\":\"e6d7bd2f-bda1-4df2-a260-43c767e6fb5f\",\"type\":\"DataRange1d\"},\"y_scale\":{\"id\":\"bbc2a356-07aa-4219-986c-0c64331710ef\",\"type\":\"LinearScale\"}},\"id\":\"cb478afa-368a-48ff-a1cc-ad7aa66d7a6e\",\"subtype\":\"Figure\",\"type\":\"Plot\"},{\"attributes\":{\"callback\":null,\"factors\":[\"1\",\"2\",\"3\",\"4\",\"5\",\"6\",\"7\",\"8\",\"9\",\"10\",\"11\"]},\"id\":\"4cf83865-3f18-47e1-9faa-834a3a312845\",\"type\":\"FactorRange\"},{\"attributes\":{\"bottom_units\":\"screen\",\"fill_alpha\":{\"value\":0.5},\"fill_color\":{\"value\":\"lightgrey\"},\"left_units\":\"screen\",\"level\":\"overlay\",\"line_alpha\":{\"value\":1.0},\"line_color\":{\"value\":\"black\"},\"line_dash\":[4,4],\"line_width\":{\"value\":2},\"plot\":null,\"render_mode\":\"css\",\"right_units\":\"screen\",\"top_units\":\"screen\"},\"id\":\"dd112ee9-719a-45c9-b5c8-4d7178dd55cd\",\"type\":\"BoxAnnotation\"},{\"attributes\":{\"dimension\":1,\"plot\":{\"id\":\"cb478afa-368a-48ff-a1cc-ad7aa66d7a6e\",\"subtype\":\"Figure\",\"type\":\"Plot\"},\"ticker\":{\"id\":\"5232a218-816c-40ea-b287-25058d1eecfb\",\"type\":\"BasicTicker\"}},\"id\":\"997f82ca-d024-4060-be3f-95eaefdbe84b\",\"type\":\"Grid\"},{\"attributes\":{\"axis_label\":\"spectral band\",\"formatter\":{\"id\":\"30846776-6ee3-4622-ad0f-e1104f5ddca2\",\"type\":\"CategoricalTickFormatter\"},\"plot\":{\"id\":\"6d03ab32-a8d6-49e3-9db8-6e83771b92a4\",\"subtype\":\"Figure\",\"type\":\"Plot\"},\"ticker\":{\"id\":\"66a6411c-7c6c-41d2-9b86-66beb5e70268\",\"type\":\"CategoricalTicker\"}},\"id\":\"7ab3efeb-01f6-44fd-99de-d3f354eb330d\",\"type\":\"CategoricalAxis\"},{\"attributes\":{},\"id\":\"5232a218-816c-40ea-b287-25058d1eecfb\",\"type\":\"BasicTicker\"},{\"attributes\":{\"plot\":{\"id\":\"cb478afa-368a-48ff-a1cc-ad7aa66d7a6e\",\"subtype\":\"Figure\",\"type\":\"Plot\"},\"ticker\":{\"id\":\"3d4d9c0b-b477-4ced-9fb5-2d0c2f0c832e\",\"type\":\"CategoricalTicker\"}},\"id\":\"5ba20d9d-3bd8-4498-a638-566f890a1353\",\"type\":\"Grid\"},{\"attributes\":{},\"id\":\"6070f167-726e-4e52-afc8-00dad0ee5a0e\",\"type\":\"LinearScale\"},{\"attributes\":{\"data_source\":{\"id\":\"292b3a8a-c94d-416d-a7e6-c6176ba00e4f\",\"type\":\"ColumnDataSource\"},\"glyph\":{\"id\":\"e650ffef-299d-4f5e-9ada-4be9e3aa34e4\",\"type\":\"VBar\"},\"hover_glyph\":null,\"muted_glyph\":null,\"nonselection_glyph\":{\"id\":\"72b7681c-f3d6-4c4a-bc83-06d250c211e8\",\"type\":\"VBar\"},\"selection_glyph\":null,\"view\":{\"id\":\"52ab6991-4672-4e42-9761-d1744f095000\",\"type\":\"CDSView\"}},\"id\":\"b6540fc0-2e7c-4d0c-8995-e59e75f6e1a8\",\"type\":\"GlyphRenderer\"},{\"attributes\":{},\"id\":\"8e0f76c4-2a5c-47eb-a4d9-b924d1c24e67\",\"type\":\"ResetTool\"},{\"attributes\":{\"overlay\":{\"id\":\"aae4bc50-ca75-497d-898c-d92e42192ded\",\"type\":\"BoxAnnotation\"}},\"id\":\"50ccf2d8-c139-4a79-9537-db9483c0aa63\",\"type\":\"BoxZoomTool\"},{\"attributes\":{\"fill_color\":{\"value\":\"#1f77b4\"},\"line_color\":{\"value\":\"#1f77b4\"},\"top\":{\"field\":\"flux\"},\"width\":{\"value\":0.9},\"x\":{\"field\":\"band\"}},\"id\":\"e650ffef-299d-4f5e-9ada-4be9e3aa34e4\",\"type\":\"VBar\"},{\"attributes\":{\"fill_alpha\":{\"value\":0.1},\"fill_color\":{\"value\":\"#1f77b4\"},\"line_alpha\":{\"value\":0.1},\"line_color\":{\"value\":\"#1f77b4\"},\"top\":{\"field\":\"flux\"},\"width\":{\"value\":0.9},\"x\":{\"field\":\"band\"}},\"id\":\"ee0fbed2-9678-4233-a062-8df6e71490c6\",\"type\":\"VBar\"},{\"attributes\":{\"axis_label\":\"spectral band\",\"formatter\":{\"id\":\"ada283ca-d631-4829-aa27-397c2c938954\",\"type\":\"CategoricalTickFormatter\"},\"plot\":{\"id\":\"cb478afa-368a-48ff-a1cc-ad7aa66d7a6e\",\"subtype\":\"Figure\",\"type\":\"Plot\"},\"ticker\":{\"id\":\"3d4d9c0b-b477-4ced-9fb5-2d0c2f0c832e\",\"type\":\"CategoricalTicker\"}},\"id\":\"d9f91387-0d92-498e-ba94-2eb275fc1a37\",\"type\":\"CategoricalAxis\"},{\"attributes\":{},\"id\":\"838a3d45-8adf-4b58-a705-ab6acd413cdd\",\"type\":\"WheelZoomTool\"},{\"attributes\":{\"overlay\":{\"id\":\"dd112ee9-719a-45c9-b5c8-4d7178dd55cd\",\"type\":\"BoxAnnotation\"}},\"id\":\"04948e0c-efbd-49ee-a496-f54fb218199b\",\"type\":\"BoxZoomTool\"},{\"attributes\":{\"dimension\":1,\"plot\":{\"id\":\"6d03ab32-a8d6-49e3-9db8-6e83771b92a4\",\"subtype\":\"Figure\",\"type\":\"Plot\"},\"ticker\":{\"id\":\"dcfdf5aa-8105-4461-8abf-ca11c5349937\",\"type\":\"BasicTicker\"}},\"id\":\"e0725cb3-03c6-41ae-b2f4-045a967cb5bd\",\"type\":\"Grid\"},{\"attributes\":{\"axis_label\":\"flux (W m-2)\",\"formatter\":{\"id\":\"a92f3f5e-2645-404d-8dba-8fb83dca61b5\",\"type\":\"BasicTickFormatter\"},\"plot\":{\"id\":\"6d03ab32-a8d6-49e3-9db8-6e83771b92a4\",\"subtype\":\"Figure\",\"type\":\"Plot\"},\"ticker\":{\"id\":\"dcfdf5aa-8105-4461-8abf-ca11c5349937\",\"type\":\"BasicTicker\"}},\"id\":\"5c0d1937-e511-4c70-ac0c-aa475b305a71\",\"type\":\"LinearAxis\"},{\"attributes\":{},\"id\":\"db236461-f1f1-4cce-905f-3cf26ebc82b4\",\"type\":\"CategoricalScale\"},{\"attributes\":{\"callback\":null,\"data\":{\"band\":[\"1\",\"2\",\"3\",\"4\",\"5\",\"6\",\"7\",\"8\",\"9\",\"10\",\"11\"],\"flux\":{\"__ndarray__\":\"AFOZ3tVdyD8A2BIs7Vi1vwBYNyirM4i/AKplKWG/zj+AyB8MPPfOvwDgn1IlysK/gFjjbDoC1z8AYj4g0JmkP0B/ij56Hsi/QB6QnRrcvT9AQzegSnKtPw==\",\"dtype\":\"float64\",\"shape\":[11]}},\"selected\":{\"id\":\"ef3e9f0e-3f94-4a78-b8a0-5e8798edbc1c\",\"type\":\"Selection\"},\"selection_policy\":{\"id\":\"ca0b66d7-bf1c-4434-8510-769508fe134c\",\"type\":\"UnionRenderers\"}},\"id\":\"5c39ac09-c774-4359-9266-b3a512945615\",\"type\":\"ColumnDataSource\"},{\"attributes\":{},\"id\":\"66a6411c-7c6c-41d2-9b86-66beb5e70268\",\"type\":\"CategoricalTicker\"},{\"attributes\":{\"fill_alpha\":{\"value\":0.1},\"fill_color\":{\"value\":\"#1f77b4\"},\"line_alpha\":{\"value\":0.1},\"line_color\":{\"value\":\"#1f77b4\"},\"top\":{\"field\":\"flux\"},\"width\":{\"value\":0.9},\"x\":{\"field\":\"band\"}},\"id\":\"72b7681c-f3d6-4c4a-bc83-06d250c211e8\",\"type\":\"VBar\"},{\"attributes\":{},\"id\":\"fffbc824-24d0-4b97-b2bd-33fbbeec2edf\",\"type\":\"PanTool\"},{\"attributes\":{},\"id\":\"2d5332c4-9313-4501-87ba-ec6059947284\",\"type\":\"ResetTool\"},{\"attributes\":{},\"id\":\"9c63dd47-7ce1-47bd-bd2a-4b1ba107ff35\",\"type\":\"CategoricalScale\"},{\"attributes\":{\"bottom_units\":\"screen\",\"fill_alpha\":{\"value\":0.5},\"fill_color\":{\"value\":\"lightgrey\"},\"left_units\":\"screen\",\"level\":\"overlay\",\"line_alpha\":{\"value\":1.0},\"line_color\":{\"value\":\"black\"},\"line_dash\":[4,4],\"line_width\":{\"value\":2},\"plot\":null,\"render_mode\":\"css\",\"right_units\":\"screen\",\"top_units\":\"screen\"},\"id\":\"aae4bc50-ca75-497d-898c-d92e42192ded\",\"type\":\"BoxAnnotation\"},{\"attributes\":{\"data_source\":{\"id\":\"845d23b9-efc9-4034-b5a8-b747084db6a6\",\"type\":\"ColumnDataSource\"},\"glyph\":{\"id\":\"a2bbddd3-d9aa-490e-a6ff-abf71d944203\",\"type\":\"VBar\"},\"hover_glyph\":null,\"muted_glyph\":null,\"nonselection_glyph\":{\"id\":\"ee0fbed2-9678-4233-a062-8df6e71490c6\",\"type\":\"VBar\"},\"selection_glyph\":null,\"view\":{\"id\":\"ffdbc464-1c4c-4a4a-b019-1d4ebe4cf09f\",\"type\":\"CDSView\"}},\"id\":\"45b2bdc0-8d3e-4a63-80c0-7fef67ddc132\",\"type\":\"GlyphRenderer\"},{\"attributes\":{\"callback\":null},\"id\":\"e6d7bd2f-bda1-4df2-a260-43c767e6fb5f\",\"type\":\"DataRange1d\"},{\"attributes\":{\"axis_label\":\"flux (W m-2)\",\"formatter\":{\"id\":\"26178dcf-5dc9-462c-98eb-30d52e2c3433\",\"type\":\"BasicTickFormatter\"},\"plot\":{\"id\":\"cb478afa-368a-48ff-a1cc-ad7aa66d7a6e\",\"subtype\":\"Figure\",\"type\":\"Plot\"},\"ticker\":{\"id\":\"5232a218-816c-40ea-b287-25058d1eecfb\",\"type\":\"BasicTicker\"}},\"id\":\"8f02f150-f291-4d12-b7b6-9648a49834a7\",\"type\":\"LinearAxis\"},{\"attributes\":{},\"id\":\"407a5ace-411a-4343-9b13-6f8fc4476cba\",\"type\":\"SaveTool\"},{\"attributes\":{},\"id\":\"dd691325-fd3d-4b9a-a779-44a9ad14b75c\",\"type\":\"SaveTool\"},{\"attributes\":{\"active_drag\":\"auto\",\"active_inspect\":\"auto\",\"active_scroll\":\"auto\",\"active_tap\":\"auto\",\"tools\":[{\"id\":\"fffbc824-24d0-4b97-b2bd-33fbbeec2edf\",\"type\":\"PanTool\"},{\"id\":\"838a3d45-8adf-4b58-a705-ab6acd413cdd\",\"type\":\"WheelZoomTool\"},{\"id\":\"50ccf2d8-c139-4a79-9537-db9483c0aa63\",\"type\":\"BoxZoomTool\"},{\"id\":\"dd691325-fd3d-4b9a-a779-44a9ad14b75c\",\"type\":\"SaveTool\"},{\"id\":\"8e0f76c4-2a5c-47eb-a4d9-b924d1c24e67\",\"type\":\"ResetTool\"},{\"id\":\"19c195da-17d2-45f2-a480-d0d1f0d7f29d\",\"type\":\"HelpTool\"}]},\"id\":\"ce909415-bddf-4ccb-a337-500cc8e604b7\",\"type\":\"Toolbar\"},{\"attributes\":{},\"id\":\"19c195da-17d2-45f2-a480-d0d1f0d7f29d\",\"type\":\"HelpTool\"},{\"attributes\":{},\"id\":\"dcfdf5aa-8105-4461-8abf-ca11c5349937\",\"type\":\"BasicTicker\"},{\"attributes\":{\"plot\":{\"id\":\"6d03ab32-a8d6-49e3-9db8-6e83771b92a4\",\"subtype\":\"Figure\",\"type\":\"Plot\"},\"ticker\":{\"id\":\"66a6411c-7c6c-41d2-9b86-66beb5e70268\",\"type\":\"CategoricalTicker\"}},\"id\":\"5646f912-63bc-4b62-9798-b54421943584\",\"type\":\"Grid\"},{\"attributes\":{},\"id\":\"627f6c5f-73bb-45aa-9150-8e7dfc86aa09\",\"type\":\"PanTool\"},{\"attributes\":{\"source\":{\"id\":\"845d23b9-efc9-4034-b5a8-b747084db6a6\",\"type\":\"ColumnDataSource\"}},\"id\":\"ffdbc464-1c4c-4a4a-b019-1d4ebe4cf09f\",\"type\":\"CDSView\"},{\"attributes\":{},\"id\":\"63107d07-b759-471f-894e-aee449e48e3b\",\"type\":\"HelpTool\"},{\"attributes\":{\"callback\":null},\"id\":\"bb7c9263-b702-4abc-a75a-52a562519c69\",\"type\":\"DataRange1d\"},{\"attributes\":{},\"id\":\"bbc2a356-07aa-4219-986c-0c64331710ef\",\"type\":\"LinearScale\"},{\"attributes\":{},\"id\":\"e46aec50-c1f5-4529-92df-db083511f217\",\"type\":\"WheelZoomTool\"},{\"attributes\":{\"fill_color\":{\"value\":\"#1f77b4\"},\"line_color\":{\"value\":\"#1f77b4\"},\"top\":{\"field\":\"flux\"},\"width\":{\"value\":0.9},\"x\":{\"field\":\"band\"}},\"id\":\"a2bbddd3-d9aa-490e-a6ff-abf71d944203\",\"type\":\"VBar\"},{\"attributes\":{\"plot\":null,\"text\":\"TOA flux. CLIRAD - CRD.\"},\"id\":\"08e5dae3-261e-43b8-8e53-247ce41b6404\",\"type\":\"Title\"},{\"attributes\":{\"callback\":null,\"factors\":[\"1\",\"2\",\"3\",\"4\",\"5\",\"6\",\"7\",\"8\",\"9\",\"10\",\"11\"]},\"id\":\"5d987031-d434-47c8-80b6-4c19f1a21386\",\"type\":\"FactorRange\"},{\"attributes\":{\"source\":{\"id\":\"292b3a8a-c94d-416d-a7e6-c6176ba00e4f\",\"type\":\"ColumnDataSource\"}},\"id\":\"52ab6991-4672-4e42-9761-d1744f095000\",\"type\":\"CDSView\"},{\"attributes\":{},\"id\":\"3d4d9c0b-b477-4ced-9fb5-2d0c2f0c832e\",\"type\":\"CategoricalTicker\"}],\"root_ids\":[\"aa68079c-73e5-4771-b526-9f89e896e85d\"]},\"title\":\"Bokeh Application\",\"version\":\"0.12.16\"}};\n",
       "  var render_items = [{\"docid\":\"cb2d675c-00dc-435e-975b-25fc45eb56bd\",\"elementid\":\"4b930052-167e-453c-9ef3-c4b0cf655d86\",\"modelid\":\"aa68079c-73e5-4771-b526-9f89e896e85d\"}];\n",
       "  root.Bokeh.embed.embed_items_notebook(docs_json, render_items);\n",
       "\n",
       "  }\n",
       "  if (root.Bokeh !== undefined) {\n",
       "    embed_document(root);\n",
       "  } else {\n",
       "    var attempts = 0;\n",
       "    var timer = setInterval(function(root) {\n",
       "      if (root.Bokeh !== undefined) {\n",
       "        embed_document(root);\n",
       "        clearInterval(timer);\n",
       "      }\n",
       "      attempts++;\n",
       "      if (attempts > 100) {\n",
       "        console.log(\"Bokeh: ERROR: Unable to run BokehJS code because BokehJS library is missing\")\n",
       "        clearInterval(timer);\n",
       "      }\n",
       "    }, 10, root)\n",
       "  }\n",
       "})(window);"
      ],
      "application/vnd.bokehjs_exec.v0+json": ""
     },
     "metadata": {
      "application/vnd.bokehjs_exec.v0+json": {
       "id": "aa68079c-73e5-4771-b526-9f89e896e85d"
      }
     },
     "output_type": "display_data"
    },
    {
     "data": {
      "text/markdown": [
       "*FIGURE.* Difference between CLIRAD and CRD in TOA, SFC and net atmosphere flux, in each spectral band."
      ],
      "text/plain": [
       "<IPython.core.display.Markdown object>"
      ]
     },
     "metadata": {},
     "output_type": "display_data"
    },
    {
     "data": {
      "text/html": [
       "<div>\n",
       "<style scoped>\n",
       "    .dataframe tbody tr th:only-of-type {\n",
       "        vertical-align: middle;\n",
       "    }\n",
       "\n",
       "    .dataframe tbody tr th {\n",
       "        vertical-align: top;\n",
       "    }\n",
       "\n",
       "    .dataframe thead th {\n",
       "        text-align: right;\n",
       "    }\n",
       "</style>\n",
       "<table border=\"1\" class=\"dataframe\">\n",
       "  <thead>\n",
       "    <tr style=\"text-align: right;\">\n",
       "      <th></th>\n",
       "      <th>OLR flux</th>\n",
       "      <th>SFC flux</th>\n",
       "      <th>ATM heating</th>\n",
       "    </tr>\n",
       "    <tr>\n",
       "      <th>Sum over bands</th>\n",
       "      <th></th>\n",
       "      <th></th>\n",
       "      <th></th>\n",
       "    </tr>\n",
       "  </thead>\n",
       "  <tbody>\n",
       "    <tr>\n",
       "      <th>old CLIRAD - CRD</th>\n",
       "      <td>0.14</td>\n",
       "      <td>2.01</td>\n",
       "      <td>-1.73</td>\n",
       "    </tr>\n",
       "    <tr>\n",
       "      <th>CLIRAD - CRD</th>\n",
       "      <td>1.13</td>\n",
       "      <td>0.79</td>\n",
       "      <td>0.33</td>\n",
       "    </tr>\n",
       "    <tr>\n",
       "      <th>CRD</th>\n",
       "      <td>-290.39</td>\n",
       "      <td>308.14</td>\n",
       "      <td>-174.89</td>\n",
       "    </tr>\n",
       "  </tbody>\n",
       "</table>\n",
       "</div>"
      ],
      "text/plain": [
       "                  OLR flux  SFC flux  ATM heating\n",
       "Sum over bands                                   \n",
       "old CLIRAD - CRD      0.14      2.01        -1.73\n",
       "CLIRAD - CRD          1.13      0.79         0.33\n",
       "CRD                -290.39    308.14      -174.89"
      ]
     },
     "metadata": {},
     "output_type": "display_data"
    },
    {
     "data": {
      "text/markdown": [
       "*TABLE.* Difference between CLIRAD and CRD in TOA, SFC and net atmosphere flux, over all spectral bands. CRD's TOA, SFC and net atmosphere flux, over all spectral bands."
      ],
      "text/plain": [
       "<IPython.core.display.Markdown object>"
      ]
     },
     "metadata": {},
     "output_type": "display_data"
    },
    {
     "data": {
      "text/html": [
       "<a id=\"Cooling_rates._saw.\"></a>"
      ],
      "text/plain": [
       "<IPython.core.display.HTML object>"
      ]
     },
     "metadata": {},
     "output_type": "display_data"
    },
    {
     "data": {
      "text/markdown": [
       "# Cooling rates. saw."
      ],
      "text/plain": [
       "<IPython.core.display.Markdown object>"
      ]
     },
     "metadata": {},
     "output_type": "display_data"
    },
    {
     "data": {
      "text/html": [
       "\n",
       "<div class=\"bk-root\">\n",
       "    <div class=\"bk-plotdiv\" id=\"323a78b8-8826-4cc7-836f-14576817053c\"></div>\n",
       "</div>"
      ]
     },
     "metadata": {},
     "output_type": "display_data"
    },
    {
     "data": {
      "application/javascript": [
       "(function(root) {\n",
       "  function embed_document(root) {\n",
       "    \n",
       "  var docs_json = {\"9961ebe9-fe4a-4ca4-8ef9-8091966703ac\":{\"roots\":{\"references\":[{\"attributes\":{\"line_color\":\"#4daf4a\",\"line_width\":1.5,\"x\":{\"field\":\"x\"},\"y\":{\"field\":\"y\"}},\"id\":\"787a8315-df94-4987-bc6c-c245f3d9f133\",\"type\":\"Line\"},{\"attributes\":{\"plot\":null,\"text\":\"\"},\"id\":\"2f6ac04c-8483-4625-933c-96567aabe52d\",\"type\":\"Title\"},{\"attributes\":{},\"id\":\"2bc3a8eb-9550-4aa3-a221-ea43518fbdc3\",\"type\":\"PanTool\"},{\"attributes\":{\"axis_label\":\"cooling rate [K/day]\",\"formatter\":{\"id\":\"58b5a15a-3262-4957-abd0-61adf9ecd611\",\"type\":\"BasicTickFormatter\"},\"plot\":{\"id\":\"b72e42cb-12c5-4683-8d10-08fcb8a62192\",\"subtype\":\"Figure\",\"type\":\"Plot\"},\"ticker\":{\"id\":\"f2612432-b9cb-4aea-8511-b29788a70c9e\",\"type\":\"BasicTicker\"}},\"id\":\"e210441b-d6d9-493f-9985-fcd4bee7a732\",\"type\":\"LinearAxis\"},{\"attributes\":{\"callback\":null,\"data\":{\"x\":{\"__ndarray__\":\"0CYBcvU5UkCik9zf2GVBQF1VoNfLZ0BAVLxhiVXTPUDD1Wu1wJM6QFJyB025jjdAU6Aw5+b/NECYe1uuDfgyQB6bYtVTbTFAPxYSAF1HMEA00pYVm9QuQLolHbMzgC1AntlwirGsLECv+G9SjE4rQJH6ZLBp0ShAsLZQyPd/JkDyjgyf2PwkQLgyNGsrJyRAA13QbJD6I0C8hy0ilI4kQOVTXCEgcSZAovOGvZSGJUBVc/ZmUOIgQOf/6GHAyRlAcE8fAOBSFEDRur1U//gPQGFD9ZbokghAQsqHuSqSA0C91ci3W0UBQCtRQfvz7/4/kh8pntyB+j9t1/n+4TX1P773MAUjFfI/RgzR+CI28T8hBW8WHK7uPzVKjJfU8uk/0FPt4/z65T/wVYqzMPDhPz7K9C5CXuE/8+hSn9hY4T/9PPCkR6rhP1XsIC599OA/66X1nBCX3z/YbRM56QjcPz4dkSQc/dM/S7Wb8Fq00T+/yQdmX0vcP7TrGf476eM/WqNPJoWO7D9qOH1bcwDzP2bw+R5DQ/Y/RLSuQOQp+D8+aif8yAz5P0Wv6eBKRfk/0i2+IN4R+T/ik8QNFZr4PyS5UD5j/Pc/yJ68zXRG9z/2CHPL54H2P59SOhwKtPU/npkP8dfg9D8NlmVcdQz0P80ugRvuOvM/byxiAHN18j9USVZie8nxP5l9lNXYSPE/OB+F0UYP8T8Y7dsUCTHxP3EBgTHPcPE/bfx15p8S8T8FT+xkGtTuP6mdG7rkxuk/pboqTkHX5D/CrN8qGYngP7R4ZaL+htU/\",\"dtype\":\"float64\",\"shape\":[75]},\"y\":{\"__ndarray__\":\"GhExyth1ND/Sv8nbtpRIP2vylNV0PVE/aTum7souWD/At0SJ8fVgPw3Iuahxymc/MSNhhJWvcD/bTfBN02d3P2zb5nxnaoA/CD5h5MAGhz8NmeH1TyaQP+zrCsc9p5Y/LbKd76fGnz/bLW5ISEmmPww9YvTcQq8/JV2OstnstT8Er5Y7M8G+P0c+r3jqkcU/5h99k6ZBzj88bCIzFzjVP4enV8oyxN0//yH99nXg5D8qOpLLf0jtP5kqGJXUifQ/c9cS8kHP/D+/DpwzojQEQIEmwoanVwxA4lgXt9HgE0BSSZ2AJuIbQAMJih9jjiNA5q4l5INuK0AwTKYKRj0zQNv5fmq8/DpAaCJseHrtQkB/+zpwzoxKQM3MzMzMeFJAZmZmZmZqWEAAAAAAAFxeQM3MzMzMJmJAmpmZmZkfZUBmZmZmZhhoQDMzMzMzEWtAAAAAAAAKbkBmZmZmZoFwQM3MzMzM/XFAMzMzMzN6c0CamZmZmfZ0QAAAAAAAc3ZAZmZmZmbvd0DNzMzMzGt5QDMzMzMz6HpAmpmZmZlkfEAAAAAAAOF9QGZmZmZmXX9AZmZmZuZsgECamZmZGSuBQM3MzMxM6YFAAAAAAICngkAzMzMzs2WDQGZmZmbmI4RAmpmZmRnihEDNzMzMTKCFQAAAAACAXoZAMzMzM7Mch0BmZmZm5tqHQJqZmZkZmYhAzczMzExXiUAAAAAAgBWKQDMzMzOz04pAZmZmZuaRi0CamZmZGVCMQM3MzMxMDo1AAAAAAIDMjUAzMzMzs4qOQGZmZmbmSI9A\",\"dtype\":\"float64\",\"shape\":[75]}},\"selected\":{\"id\":\"638eb038-4252-4849-9419-5a4358f924a4\",\"type\":\"Selection\"},\"selection_policy\":{\"id\":\"e0fcbdfe-7df3-432d-8add-6322e1f1667f\",\"type\":\"UnionRenderers\"}},\"id\":\"4fb8de3e-acc6-4b41-98b4-06cd65f9f62e\",\"type\":\"ColumnDataSource\"},{\"attributes\":{},\"id\":\"638eb038-4252-4849-9419-5a4358f924a4\",\"type\":\"Selection\"},{\"attributes\":{\"dimension\":1,\"plot\":{\"id\":\"b72e42cb-12c5-4683-8d10-08fcb8a62192\",\"subtype\":\"Figure\",\"type\":\"Plot\"},\"ticker\":{\"id\":\"9194dfca-db0b-4e97-b603-29686b1ef2c6\",\"type\":\"LogTicker\"}},\"id\":\"0bd912bb-7fc7-4938-848f-bba00a58223c\",\"type\":\"Grid\"},{\"attributes\":{},\"id\":\"7b0170de-69aa-4078-aece-77ce62b1395c\",\"type\":\"LogScale\"},{\"attributes\":{},\"id\":\"a93b3a69-75e0-45a0-8d7b-04117e8221c9\",\"type\":\"LinearScale\"},{\"attributes\":{},\"id\":\"1b847349-58fd-4d48-a045-eed2323c5013\",\"type\":\"UnionRenderers\"},{\"attributes\":{},\"id\":\"5a1ba7b2-9c6c-49d9-bf8e-752a0b74c601\",\"type\":\"BasicTickFormatter\"},{\"attributes\":{\"label\":{\"value\":\"CRD\"},\"renderers\":[{\"id\":\"b09439e6-6421-4eb3-9885-a2a91b920201\",\"type\":\"GlyphRenderer\"},{\"id\":\"02d788fd-478b-4fe6-b2a2-c5ff524f664c\",\"type\":\"GlyphRenderer\"}]},\"id\":\"2a0ff3bc-b4e5-4d27-84e5-cca463be3e62\",\"type\":\"LegendItem\"},{\"attributes\":{\"axis_label\":\"pressure [mb]\",\"formatter\":{\"id\":\"fc8bfa39-897b-4bd5-bfe9-4fc633df98ee\",\"type\":\"LogTickFormatter\"},\"plot\":{\"id\":\"b72e42cb-12c5-4683-8d10-08fcb8a62192\",\"subtype\":\"Figure\",\"type\":\"Plot\"},\"ticker\":{\"id\":\"9194dfca-db0b-4e97-b603-29686b1ef2c6\",\"type\":\"LogTicker\"}},\"id\":\"0960cb1d-598f-4b60-808a-15f51ee5ceb9\",\"type\":\"LogAxis\"},{\"attributes\":{\"items\":[{\"id\":\"5a16066c-64d0-4838-a2c3-d03c3fd800b5\",\"type\":\"LegendItem\"}],\"label_text_font_size\":{\"value\":\"8pt\"},\"location\":\"top_center\",\"orientation\":\"horizontal\",\"plot\":{\"id\":\"8090ee93-b3ad-4ec5-8589-a101a142ec70\",\"subtype\":\"Figure\",\"type\":\"Plot\"}},\"id\":\"7e0e14c7-5485-434c-bc4e-161be6e5c96a\",\"type\":\"Legend\"},{\"attributes\":{},\"id\":\"c14b0e2a-1991-460c-ae3e-edde56d39216\",\"type\":\"BasicTickFormatter\"},{\"attributes\":{\"source\":{\"id\":\"fc579991-be31-4a43-9adb-c5bddf6b2ac0\",\"type\":\"ColumnDataSource\"}},\"id\":\"bf504784-053a-40c5-8dd8-aa6e4cd8acfe\",\"type\":\"CDSView\"},{\"attributes\":{},\"id\":\"8d71f7c6-428b-47f0-ab01-f9c0f9de7e38\",\"type\":\"UnionRenderers\"},{\"attributes\":{\"num_minor_ticks\":10},\"id\":\"9194dfca-db0b-4e97-b603-29686b1ef2c6\",\"type\":\"LogTicker\"},{\"attributes\":{\"items\":[{\"id\":\"8f9643b9-dc20-4b32-87b3-3a41636cf939\",\"type\":\"LegendItem\"},{\"id\":\"98382fd2-49a6-4f86-be6f-24ebb85b6ed2\",\"type\":\"LegendItem\"}],\"label_text_font_size\":{\"value\":\"8pt\"},\"location\":\"top_center\",\"orientation\":\"horizontal\",\"plot\":{\"id\":\"b72e42cb-12c5-4683-8d10-08fcb8a62192\",\"subtype\":\"Figure\",\"type\":\"Plot\"}},\"id\":\"76549dbf-3133-4904-95a7-db4f79835cb4\",\"type\":\"Legend\"},{\"attributes\":{},\"id\":\"f2612432-b9cb-4aea-8511-b29788a70c9e\",\"type\":\"BasicTicker\"},{\"attributes\":{\"data_source\":{\"id\":\"4fb8de3e-acc6-4b41-98b4-06cd65f9f62e\",\"type\":\"ColumnDataSource\"},\"glyph\":{\"id\":\"787a8315-df94-4987-bc6c-c245f3d9f133\",\"type\":\"Line\"},\"hover_glyph\":null,\"muted_glyph\":null,\"nonselection_glyph\":{\"id\":\"1e70fe96-ff2d-47ed-a126-3f766ae502f3\",\"type\":\"Line\"},\"selection_glyph\":null,\"view\":{\"id\":\"24a905bb-b49a-4fa3-8e3c-f2f23d9744a2\",\"type\":\"CDSView\"}},\"id\":\"02d788fd-478b-4fe6-b2a2-c5ff524f664c\",\"type\":\"GlyphRenderer\"},{\"attributes\":{\"fill_alpha\":{\"value\":0.1},\"fill_color\":{\"value\":\"#1f77b4\"},\"line_alpha\":{\"value\":0.1},\"line_color\":{\"value\":\"#1f77b4\"},\"x\":{\"field\":\"x\"},\"y\":{\"field\":\"y\"}},\"id\":\"44715ed0-c701-44c9-84c4-ca6ccd304a97\",\"type\":\"Circle\"},{\"attributes\":{},\"id\":\"05e325e8-c98e-4dea-be7d-73a93c4cb6be\",\"type\":\"LogScale\"},{\"attributes\":{},\"id\":\"aad96b2b-4381-435b-bf67-d051d85c16c8\",\"type\":\"LinearScale\"},{\"attributes\":{\"line_alpha\":0.1,\"line_color\":\"#1f77b4\",\"line_width\":1.5,\"x\":{\"field\":\"x\"},\"y\":{\"field\":\"y\"}},\"id\":\"1e70fe96-ff2d-47ed-a126-3f766ae502f3\",\"type\":\"Line\"},{\"attributes\":{},\"id\":\"ac51e78d-27eb-425a-917d-439a1ad5eb9f\",\"type\":\"Selection\"},{\"attributes\":{},\"id\":\"e0fcbdfe-7df3-432d-8add-6322e1f1667f\",\"type\":\"UnionRenderers\"},{\"attributes\":{\"axis_label\":\"cooling rate [K/day]\",\"formatter\":{\"id\":\"b85e68f5-d424-4582-b815-550d98a83e72\",\"type\":\"BasicTickFormatter\"},\"plot\":{\"id\":\"8090ee93-b3ad-4ec5-8589-a101a142ec70\",\"subtype\":\"Figure\",\"type\":\"Plot\"},\"ticker\":{\"id\":\"8af9e8a2-75ee-4160-b03b-23b86da75f9b\",\"type\":\"BasicTicker\"}},\"id\":\"d68930d6-dc48-43e3-a7d5-26cb2038d285\",\"type\":\"LinearAxis\"},{\"attributes\":{\"callback\":null,\"end\":0.01,\"start\":1020},\"id\":\"909ca4f5-6a0b-4118-b2bf-c2393ffdb86b\",\"type\":\"Range1d\"},{\"attributes\":{},\"id\":\"c622ee99-5c8c-4ce7-8585-bcaf2b848b2d\",\"type\":\"WheelZoomTool\"},{\"attributes\":{\"plot\":{\"id\":\"b72e42cb-12c5-4683-8d10-08fcb8a62192\",\"subtype\":\"Figure\",\"type\":\"Plot\"},\"ticker\":{\"id\":\"f2612432-b9cb-4aea-8511-b29788a70c9e\",\"type\":\"BasicTicker\"}},\"id\":\"dec1fb68-46ec-4bd1-925a-0d7283283f33\",\"type\":\"Grid\"},{\"attributes\":{\"callback\":null,\"end\":0.9901076539675107,\"start\":-1.6882974602205094},\"id\":\"59866ede-303e-4184-a8d8-1bc68cb5f2a8\",\"type\":\"Range1d\"},{\"attributes\":{},\"id\":\"6c5e01bb-4be4-42a3-84ad-8c89f88b46ba\",\"type\":\"Selection\"},{\"attributes\":{\"fill_alpha\":{\"value\":0.7},\"fill_color\":{\"value\":\"#4daf4a\"},\"line_alpha\":{\"value\":0.7},\"line_color\":{\"value\":\"#4daf4a\"},\"x\":{\"field\":\"x\"},\"y\":{\"field\":\"y\"}},\"id\":\"4218b92f-684d-4dc8-9c47-cbaa4f91bc2c\",\"type\":\"Circle\"},{\"attributes\":{},\"id\":\"f55f6e87-de41-45dc-9ec3-d339eab63fac\",\"type\":\"HelpTool\"},{\"attributes\":{\"line_alpha\":0.1,\"line_color\":\"#1f77b4\",\"line_width\":1.5,\"x\":{\"field\":\"x\"},\"y\":{\"field\":\"y\"}},\"id\":\"3ba9e6c3-3f7f-455b-863f-aff2f51af567\",\"type\":\"Line\"},{\"attributes\":{},\"id\":\"dd798d07-0bc7-44d0-a724-7861e9f98f2c\",\"type\":\"ResetTool\"},{\"attributes\":{\"source\":{\"id\":\"9cf3cf53-2cad-4ee1-910a-6795a6e73289\",\"type\":\"ColumnDataSource\"}},\"id\":\"fb852638-e64f-4045-9d04-02d588abc21a\",\"type\":\"CDSView\"},{\"attributes\":{\"children\":[{\"id\":\"a0926aaa-e3d9-49c1-9e60-65a95d399e83\",\"type\":\"Row\"}]},\"id\":\"6ae661c8-5a32-41f6-b392-9fb695948202\",\"type\":\"Column\"},{\"attributes\":{\"fill_alpha\":{\"value\":0.1},\"fill_color\":{\"value\":\"#1f77b4\"},\"line_alpha\":{\"value\":0.1},\"line_color\":{\"value\":\"#1f77b4\"},\"x\":{\"field\":\"x\"},\"y\":{\"field\":\"y\"}},\"id\":\"d39946d2-1a78-4d52-8538-00fc291efbc6\",\"type\":\"Circle\"},{\"attributes\":{\"label\":{\"value\":\"CLIRAD\"},\"renderers\":[{\"id\":\"e533b861-5680-4b47-8b63-d08279f7a492\",\"type\":\"GlyphRenderer\"}]},\"id\":\"8f9643b9-dc20-4b32-87b3-3a41636cf939\",\"type\":\"LegendItem\"},{\"attributes\":{\"line_alpha\":0.8,\"line_color\":\"#984ea3\",\"line_width\":1.5,\"x\":{\"field\":\"x\"},\"y\":{\"field\":\"y\"}},\"id\":\"8986e35d-318c-40fe-96e8-7b5a58f5c49b\",\"type\":\"Line\"},{\"attributes\":{\"line_alpha\":0.1,\"line_color\":\"#1f77b4\",\"line_dash\":[6],\"line_width\":5,\"x\":{\"field\":\"x\"},\"y\":{\"field\":\"y\"}},\"id\":\"3308ae29-bd9a-4924-88cc-a654fe32119e\",\"type\":\"Line\"},{\"attributes\":{},\"id\":\"d31fc749-7674-4bd0-83a3-ccec93285a2d\",\"type\":\"Selection\"},{\"attributes\":{\"active_drag\":\"auto\",\"active_inspect\":\"auto\",\"active_scroll\":\"auto\",\"active_tap\":\"auto\",\"tools\":[{\"id\":\"2bc3a8eb-9550-4aa3-a221-ea43518fbdc3\",\"type\":\"PanTool\"},{\"id\":\"c622ee99-5c8c-4ce7-8585-bcaf2b848b2d\",\"type\":\"WheelZoomTool\"},{\"id\":\"9206fc93-b9c5-4ffb-9d1a-80156579b1cb\",\"type\":\"BoxZoomTool\"},{\"id\":\"5487b1c9-55f8-43ee-99a1-05917e107adf\",\"type\":\"SaveTool\"},{\"id\":\"2dbd75d3-a401-4ad3-933e-69769107d5cc\",\"type\":\"ResetTool\"},{\"id\":\"55d80543-2c7a-4eb6-801c-640bc8781bbc\",\"type\":\"HelpTool\"}]},\"id\":\"68222366-c40c-483e-ac43-bf0a46738de0\",\"type\":\"Toolbar\"},{\"attributes\":{\"fill_alpha\":{\"value\":0.7},\"fill_color\":{\"value\":\"#4daf4a\"},\"line_alpha\":{\"value\":0.7},\"line_color\":{\"value\":\"#4daf4a\"},\"x\":{\"field\":\"x\"},\"y\":{\"field\":\"y\"}},\"id\":\"2357f2ac-5088-4ef9-8c85-0cb98cad2b5f\",\"type\":\"Circle\"},{\"attributes\":{\"axis_label\":\"pressure [mb]\",\"formatter\":{\"id\":\"afbf0a16-5637-499e-af12-af521b21cec1\",\"type\":\"LogTickFormatter\"},\"plot\":{\"id\":\"8090ee93-b3ad-4ec5-8589-a101a142ec70\",\"subtype\":\"Figure\",\"type\":\"Plot\"},\"ticker\":{\"id\":\"c84e6b6b-31d1-4f53-88b3-1d459ca33af7\",\"type\":\"LogTicker\"}},\"id\":\"5498f70e-72a4-421c-8235-beaef7b3b1fa\",\"type\":\"LogAxis\"},{\"attributes\":{\"source\":{\"id\":\"4fb8de3e-acc6-4b41-98b4-06cd65f9f62e\",\"type\":\"ColumnDataSource\"}},\"id\":\"24a905bb-b49a-4fa3-8e3c-f2f23d9744a2\",\"type\":\"CDSView\"},{\"attributes\":{\"plot\":{\"id\":\"8090ee93-b3ad-4ec5-8589-a101a142ec70\",\"subtype\":\"Figure\",\"type\":\"Plot\"},\"ticker\":{\"id\":\"8af9e8a2-75ee-4160-b03b-23b86da75f9b\",\"type\":\"BasicTicker\"}},\"id\":\"430c226e-6d96-4203-8620-0a2918b1b95d\",\"type\":\"Grid\"},{\"attributes\":{\"overlay\":{\"id\":\"c07dc9c0-0fe9-40f9-b3f6-10158e1d7fbd\",\"type\":\"BoxAnnotation\"}},\"id\":\"a20a2f08-db04-4147-8176-370aae666fdc\",\"type\":\"BoxZoomTool\"},{\"attributes\":{\"label\":{\"value\":\"CLIRAD\"},\"renderers\":[{\"id\":\"fc236f91-6643-412f-bdd9-38791cb9af92\",\"type\":\"GlyphRenderer\"}]},\"id\":\"b032fff2-acd4-48da-9c2d-444f92f84867\",\"type\":\"LegendItem\"},{\"attributes\":{\"active_drag\":\"auto\",\"active_inspect\":\"auto\",\"active_scroll\":\"auto\",\"active_tap\":\"auto\",\"tools\":[{\"id\":\"7e912142-72c9-463a-8873-70bb7cd9c644\",\"type\":\"PanTool\"},{\"id\":\"03587bc9-cd6b-41d0-bfdf-c0ca4d5ec8e4\",\"type\":\"WheelZoomTool\"},{\"id\":\"a20a2f08-db04-4147-8176-370aae666fdc\",\"type\":\"BoxZoomTool\"},{\"id\":\"53b20abe-c036-44bc-98a6-9ec38b91db59\",\"type\":\"SaveTool\"},{\"id\":\"dd798d07-0bc7-44d0-a724-7861e9f98f2c\",\"type\":\"ResetTool\"},{\"id\":\"f55f6e87-de41-45dc-9ec3-d339eab63fac\",\"type\":\"HelpTool\"}]},\"id\":\"7542bdba-da57-4d39-afd2-27bda2bd8226\",\"type\":\"Toolbar\"},{\"attributes\":{\"num_minor_ticks\":10},\"id\":\"c84e6b6b-31d1-4f53-88b3-1d459ca33af7\",\"type\":\"LogTicker\"},{\"attributes\":{\"data_source\":{\"id\":\"2e632fca-608a-45cc-a0d7-03021ea534e9\",\"type\":\"ColumnDataSource\"},\"glyph\":{\"id\":\"2357f2ac-5088-4ef9-8c85-0cb98cad2b5f\",\"type\":\"Circle\"},\"hover_glyph\":null,\"muted_glyph\":null,\"nonselection_glyph\":{\"id\":\"d39946d2-1a78-4d52-8538-00fc291efbc6\",\"type\":\"Circle\"},\"selection_glyph\":null,\"view\":{\"id\":\"4205c510-ac24-403e-9f15-c6f9e0301107\",\"type\":\"CDSView\"}},\"id\":\"b09439e6-6421-4eb3-9885-a2a91b920201\",\"type\":\"GlyphRenderer\"},{\"attributes\":{\"callback\":null,\"end\":0.01,\"start\":1020},\"id\":\"d5d3a3a7-fa22-434b-a883-0114d719f5c6\",\"type\":\"Range1d\"},{\"attributes\":{\"dimension\":1,\"plot\":{\"id\":\"5447036a-aa36-4d6a-be2e-d7f1c2efaf8b\",\"subtype\":\"Figure\",\"type\":\"Plot\"},\"ticker\":{\"id\":\"423df42d-25c9-48ba-9150-01d31aec0fd0\",\"type\":\"BasicTicker\"}},\"id\":\"3f363346-4db2-4b8d-99fe-559de0f089bc\",\"type\":\"Grid\"},{\"attributes\":{},\"id\":\"a5be720e-93f8-43d3-b487-2eba4f74625a\",\"type\":\"PanTool\"},{\"attributes\":{\"label\":{\"value\":\"CLIRAD - CRD\"},\"renderers\":[{\"id\":\"8acc2902-b300-4136-8d05-e8e609a55d3d\",\"type\":\"GlyphRenderer\"},{\"id\":\"f73eb32a-231f-46dc-bb09-9f1213a9de8e\",\"type\":\"GlyphRenderer\"}]},\"id\":\"5a16066c-64d0-4838-a2c3-d03c3fd800b5\",\"type\":\"LegendItem\"},{\"attributes\":{},\"id\":\"482f7c47-a81a-43ce-af92-58bf08ce7d78\",\"type\":\"Selection\"},{\"attributes\":{\"above\":[{\"id\":\"ddad65aa-9dff-4e8c-b658-a70bf8d69e64\",\"type\":\"Legend\"}],\"below\":[{\"id\":\"c7a7f15d-12f5-48e1-ba23-498c596c3d70\",\"type\":\"LinearAxis\"}],\"left\":[{\"id\":\"4fbd9fd3-0c6d-48c1-a159-bc7160bf0b30\",\"type\":\"LinearAxis\"}],\"plot_width\":300,\"renderers\":[{\"id\":\"c7a7f15d-12f5-48e1-ba23-498c596c3d70\",\"type\":\"LinearAxis\"},{\"id\":\"783b49c0-f719-4077-905f-c7002376e704\",\"type\":\"Grid\"},{\"id\":\"4fbd9fd3-0c6d-48c1-a159-bc7160bf0b30\",\"type\":\"LinearAxis\"},{\"id\":\"3f363346-4db2-4b8d-99fe-559de0f089bc\",\"type\":\"Grid\"},{\"id\":\"c07dc9c0-0fe9-40f9-b3f6-10158e1d7fbd\",\"type\":\"BoxAnnotation\"},{\"id\":\"fc236f91-6643-412f-bdd9-38791cb9af92\",\"type\":\"GlyphRenderer\"},{\"id\":\"b09439e6-6421-4eb3-9885-a2a91b920201\",\"type\":\"GlyphRenderer\"},{\"id\":\"02d788fd-478b-4fe6-b2a2-c5ff524f664c\",\"type\":\"GlyphRenderer\"},{\"id\":\"ddad65aa-9dff-4e8c-b658-a70bf8d69e64\",\"type\":\"Legend\"}],\"title\":{\"id\":\"2690adb9-547c-4874-a8f8-5b31f0ea24fe\",\"type\":\"Title\"},\"toolbar\":{\"id\":\"7542bdba-da57-4d39-afd2-27bda2bd8226\",\"type\":\"Toolbar\"},\"toolbar_location\":null,\"x_range\":{\"id\":\"9ad2d6a4-27b5-4725-a3bb-c9f05c4edd59\",\"type\":\"Range1d\"},\"x_scale\":{\"id\":\"22a84b0e-afed-4833-9249-f9cbf25db470\",\"type\":\"LinearScale\"},\"y_range\":{\"id\":\"d5d3a3a7-fa22-434b-a883-0114d719f5c6\",\"type\":\"Range1d\"},\"y_scale\":{\"id\":\"af59608e-b333-4553-905b-387b4848ae47\",\"type\":\"LinearScale\"}},\"id\":\"5447036a-aa36-4d6a-be2e-d7f1c2efaf8b\",\"subtype\":\"Figure\",\"type\":\"Plot\"},{\"attributes\":{\"overlay\":{\"id\":\"128e9376-23ad-4749-afa6-8389d52744ff\",\"type\":\"BoxAnnotation\"}},\"id\":\"f825a469-f95a-417f-a510-3087334a6466\",\"type\":\"BoxZoomTool\"},{\"attributes\":{},\"id\":\"8af9e8a2-75ee-4160-b03b-23b86da75f9b\",\"type\":\"BasicTicker\"},{\"attributes\":{},\"id\":\"6b10c139-dd64-4915-8177-cd5e0d17edd8\",\"type\":\"WheelZoomTool\"},{\"attributes\":{\"data_source\":{\"id\":\"9cf3cf53-2cad-4ee1-910a-6795a6e73289\",\"type\":\"ColumnDataSource\"},\"glyph\":{\"id\":\"f187e467-0764-4665-bcad-59f2a3ce2378\",\"type\":\"Line\"},\"hover_glyph\":null,\"muted_glyph\":null,\"nonselection_glyph\":{\"id\":\"3308ae29-bd9a-4924-88cc-a654fe32119e\",\"type\":\"Line\"},\"selection_glyph\":null,\"view\":{\"id\":\"fb852638-e64f-4045-9d04-02d588abc21a\",\"type\":\"CDSView\"}},\"id\":\"fc236f91-6643-412f-bdd9-38791cb9af92\",\"type\":\"GlyphRenderer\"},{\"attributes\":{\"callback\":null,\"data\":{\"x\":{\"__ndarray__\":\"TTdxrtF3GsDZuaAGLWAGwLCvVEtCveo/lZei41epCUBCC4AywGEOQKWMji2yzgVAbiXANW/56D9QZt8+XKbuv/rk3sW1l/q/takToPst9L+YsgmEQfbUvzWVCNewmOA/7Y61ZdnX7j9ySOJByPbsP1pfrAFNANk/Q7hrSxLm0L8jrOYeQWDlv8Ajao7ecuW/kPrPblR92r8aq4cUA+HBv05oQFt2HLI/NXoUHbYvwT+eebAk4v65v2z6jkOhcM2/lvgOf2YSob9Mx2SHbVzRP8Rk3R5n8dE/5CbmDFkyvD+DTE2lzp+gPzORCt5IRcQ/vOFSvRUXzT+W6vje2NPAP6/IcjgH9na/RSfLTiwOaD8bRkv0qkyzP9UNr96LOag/PmJvOaW5mL/9lrS96Kazv/33LQoKB7a/iouAY/+nsr8HhgcU1rmsv33ebJUefqW/ol0MeY5bmr/x0C2d1q+Qv+NrO2QX8YW/tBXmB1iTP79E04Gu55R0vyE1jv7gVJu/Ww3noWKfqr9ye2AOP4Cqv5kng/CXwKK/K61DFqpZo7/98QtuLcyqv6pal2vSkaq/uqUH8Jtcpb+Wh2fesaWfv8XVhkieS5i/Tdg/Fn2hk7/mapn+wOuJv6Q3P3RzAIS/2+XwzPFxgb9rVLl0v0+EvwE/xm8ZVoa/US2l5mc1hL/iO/p/lwl6v0ATht6pWzm//llQLsKafz+eQ3D04tiLP+iU2AYF3ZI/RqUIeOtflj8M0EVGNROYP3N9tU3vbpc/bHeyzMBXlz9Za/ozDViWPw==\",\"dtype\":\"float64\",\"shape\":[74]},\"y\":{\"__ndarray__\":\"0r/J27aUSD9r8pTVdD1RP2k7pu7KLlg/wLdEifH1YD8NyLmoccpnPzEjYYSVr3A/203wTdNndz9s2+Z8Z2qAPwg+YeTABoc/DZnh9U8mkD/s6wrHPaeWPy2yne+nxp8/2y1uSEhJpj8MPWL03EKvPyVdjrLZ7LU/BK+WOzPBvj9HPq946pHFP+YffZOmQc4/PGwiMxc41T+Hp1fKMsTdP/8h/fZ14OQ/KjqSy39I7T+ZKhiV1In0P3PXEvJBz/w/vw6cM6I0BECBJsKGp1cMQOJYF7fR4BNAUkmdgCbiG0ADCYofY44jQOauJeSDbitAMEymCkY9M0Db+X5qvPw6QGgibHh67UJAf/s6cM6MSkDNzMzMzHhSQGZmZmZmalhAAAAAAABcXkDNzMzMzCZiQJqZmZmZH2VAZmZmZmYYaEAzMzMzMxFrQAAAAAAACm5AZmZmZmaBcEDNzMzMzP1xQDMzMzMzenNAmpmZmZn2dEAAAAAAAHN2QGZmZmZm73dAzczMzMxreUAzMzMzM+h6QJqZmZmZZHxAAAAAAADhfUBmZmZmZl1/QGZmZmbmbIBAmpmZmRkrgUDNzMzMTOmBQAAAAACAp4JAMzMzM7Nlg0BmZmZm5iOEQJqZmZkZ4oRAzczMzEyghUAAAAAAgF6GQDMzMzOzHIdAZmZmZubah0CamZmZGZmIQM3MzMxMV4lAAAAAAIAVikAzMzMzs9OKQGZmZmbmkYtAmpmZmRlQjEDNzMzMTA6NQAAAAACAzI1AMzMzM7OKjkBmZmZm5kiPQA==\",\"dtype\":\"float64\",\"shape\":[74]}},\"selected\":{\"id\":\"7b85f351-079f-433d-a253-63a6d932f408\",\"type\":\"Selection\"},\"selection_policy\":{\"id\":\"f9869356-38f4-42d2-a821-9147a14fd19f\",\"type\":\"UnionRenderers\"}},\"id\":\"a8ef1252-ab26-4bd0-bf28-fb94d2ba5307\",\"type\":\"ColumnDataSource\"},{\"attributes\":{},\"id\":\"4fc8b767-3d8d-46eb-8d30-78b22e1b40d5\",\"type\":\"SaveTool\"},{\"attributes\":{\"callback\":null,\"end\":16.436989944098436,\"start\":0.2978234486455601},\"id\":\"48d66139-d56d-4bd8-b4d9-bfb840c8fc81\",\"type\":\"Range1d\"},{\"attributes\":{\"callback\":null,\"data\":{\"x\":{\"__ndarray__\":\"0CYBcvU5UkCik9zf2GVBQF1VoNfLZ0BAVLxhiVXTPUDD1Wu1wJM6QFJyB025jjdAU6Aw5+b/NECYe1uuDfgyQB6bYtVTbTFAPxYSAF1HMEA00pYVm9QuQLolHbMzgC1AntlwirGsLECv+G9SjE4rQJH6ZLBp0ShAsLZQyPd/JkDyjgyf2PwkQLgyNGsrJyRAA13QbJD6I0C8hy0ilI4kQOVTXCEgcSZAovOGvZSGJUBVc/ZmUOIgQOf/6GHAyRlAcE8fAOBSFEDRur1U//gPQGFD9ZbokghAQsqHuSqSA0C91ci3W0UBQCtRQfvz7/4/kh8pntyB+j9t1/n+4TX1P773MAUjFfI/RgzR+CI28T8hBW8WHK7uPzVKjJfU8uk/0FPt4/z65T/wVYqzMPDhPz7K9C5CXuE/8+hSn9hY4T/9PPCkR6rhP1XsIC599OA/66X1nBCX3z/YbRM56QjcPz4dkSQc/dM/S7Wb8Fq00T+/yQdmX0vcP7TrGf476eM/WqNPJoWO7D9qOH1bcwDzP2bw+R5DQ/Y/RLSuQOQp+D8+aif8yAz5P0Wv6eBKRfk/0i2+IN4R+T/ik8QNFZr4PyS5UD5j/Pc/yJ68zXRG9z/2CHPL54H2P59SOhwKtPU/npkP8dfg9D8NlmVcdQz0P80ugRvuOvM/byxiAHN18j9USVZie8nxP5l9lNXYSPE/OB+F0UYP8T8Y7dsUCTHxP3EBgTHPcPE/bfx15p8S8T8FT+xkGtTuP6mdG7rkxuk/pboqTkHX5D/CrN8qGYngP7R4ZaL+htU/\",\"dtype\":\"float64\",\"shape\":[75]},\"y\":{\"__ndarray__\":\"GhExyth1ND/Sv8nbtpRIP2vylNV0PVE/aTum7souWD/At0SJ8fVgPw3Iuahxymc/MSNhhJWvcD/bTfBN02d3P2zb5nxnaoA/CD5h5MAGhz8NmeH1TyaQP+zrCsc9p5Y/LbKd76fGnz/bLW5ISEmmPww9YvTcQq8/JV2OstnstT8Er5Y7M8G+P0c+r3jqkcU/5h99k6ZBzj88bCIzFzjVP4enV8oyxN0//yH99nXg5D8qOpLLf0jtP5kqGJXUifQ/c9cS8kHP/D+/DpwzojQEQIEmwoanVwxA4lgXt9HgE0BSSZ2AJuIbQAMJih9jjiNA5q4l5INuK0AwTKYKRj0zQNv5fmq8/DpAaCJseHrtQkB/+zpwzoxKQM3MzMzMeFJAZmZmZmZqWEAAAAAAAFxeQM3MzMzMJmJAmpmZmZkfZUBmZmZmZhhoQDMzMzMzEWtAAAAAAAAKbkBmZmZmZoFwQM3MzMzM/XFAMzMzMzN6c0CamZmZmfZ0QAAAAAAAc3ZAZmZmZmbvd0DNzMzMzGt5QDMzMzMz6HpAmpmZmZlkfEAAAAAAAOF9QGZmZmZmXX9AZmZmZuZsgECamZmZGSuBQM3MzMxM6YFAAAAAAICngkAzMzMzs2WDQGZmZmbmI4RAmpmZmRnihEDNzMzMTKCFQAAAAACAXoZAMzMzM7Mch0BmZmZm5tqHQJqZmZkZmYhAzczMzExXiUAAAAAAgBWKQDMzMzOz04pAZmZmZuaRi0CamZmZGVCMQM3MzMxMDo1AAAAAAIDMjUAzMzMzs4qOQGZmZmbmSI9A\",\"dtype\":\"float64\",\"shape\":[75]}},\"selected\":{\"id\":\"6c5e01bb-4be4-42a3-84ad-8c89f88b46ba\",\"type\":\"Selection\"},\"selection_policy\":{\"id\":\"8d71f7c6-428b-47f0-ab01-f9c0f9de7e38\",\"type\":\"UnionRenderers\"}},\"id\":\"2e632fca-608a-45cc-a0d7-03021ea534e9\",\"type\":\"ColumnDataSource\"},{\"attributes\":{\"callback\":null,\"end\":1.5925520914356002,\"start\":0.2527842797844001},\"id\":\"9ad2d6a4-27b5-4725-a3bb-c9f05c4edd59\",\"type\":\"Range1d\"},{\"attributes\":{},\"id\":\"7e912142-72c9-463a-8873-70bb7cd9c644\",\"type\":\"PanTool\"},{\"attributes\":{},\"id\":\"bfcf9104-95cc-415b-b487-d60923b5e888\",\"type\":\"ResetTool\"},{\"attributes\":{\"data_source\":{\"id\":\"a8ef1252-ab26-4bd0-bf28-fb94d2ba5307\",\"type\":\"ColumnDataSource\"},\"glyph\":{\"id\":\"8986e35d-318c-40fe-96e8-7b5a58f5c49b\",\"type\":\"Line\"},\"hover_glyph\":null,\"muted_glyph\":null,\"nonselection_glyph\":{\"id\":\"3ba9e6c3-3f7f-455b-863f-aff2f51af567\",\"type\":\"Line\"},\"selection_glyph\":null,\"view\":{\"id\":\"5cacae9d-5aae-4138-b4ce-4f6a28601343\",\"type\":\"CDSView\"}},\"id\":\"f73eb32a-231f-46dc-bb09-9f1213a9de8e\",\"type\":\"GlyphRenderer\"},{\"attributes\":{},\"id\":\"12a1aaa8-46d8-4959-bcab-0b087fe0b13f\",\"type\":\"Selection\"},{\"attributes\":{},\"id\":\"709325b0-01f6-4cee-8c1d-73f18810a36b\",\"type\":\"HelpTool\"},{\"attributes\":{\"bottom_units\":\"screen\",\"fill_alpha\":{\"value\":0.5},\"fill_color\":{\"value\":\"lightgrey\"},\"left_units\":\"screen\",\"level\":\"overlay\",\"line_alpha\":{\"value\":1.0},\"line_color\":{\"value\":\"black\"},\"line_dash\":[4,4],\"line_width\":{\"value\":2},\"plot\":null,\"render_mode\":\"css\",\"right_units\":\"screen\",\"top_units\":\"screen\"},\"id\":\"c07dc9c0-0fe9-40f9-b3f6-10158e1d7fbd\",\"type\":\"BoxAnnotation\"},{\"attributes\":{\"callback\":null,\"data\":{\"x\":{\"__ndarray__\":\"K5c+YwNdQEBz2RxUvS08QH2TbA6SAz5A0GG8mz+pPkC0KOCx68g9QLpzV1PxWjtA53HiLL25N0DDfAko2b8zQOifa/MgeDBA309oR8M7LUD9XJSh204sQCXY/KaB2CxA8mLhlzy2LUCeUcvoCTwtQBkfgzTWoCpArRleMPpHJ0AxMbEMqHUkQPbHRVkn0SJAx7rpg2KjIkDnB7d+qbojQDg1ChWcKSZAcnQ9qs2qJUBAxWo/DychQAE+VtnEYRlAndcC9lpnE0DwfsG6tbQPQErc4Ud2vgpA23ZjnVfQBUD0BjCA7iYCQI+7a3DydP8/u3HquYUK/T+oM6S2xNj4PxAVECGeL/Q/gJmY8Swf8T9I0L1CKsbuP/qyFfZpXOw/rETYoZV+5z/d2r6JYyrhP71ufC7K0t0/6VMavO4v3T8UVwBxj6reP+rnwJm/Ud4/HQpIykzn3D//p4JRMGPaPy1Avroe8tI/7Nl5NdIE0T860AWQekPcPw3ovC4SwOM/sDFbHt6z6z/+/21GeCvyP4nshiZBb/U/B5sqgd+T9z/TTHWr+3H4P7VPeXXpbvg//XJhjU89+D+1VkQuMO/3PwUb13bMffc/cIOaVEbl9j+WCRrXYTP2P8ofPZoygPU/LBsnCte49D9DtMt4kenzPyS8l5xOEvM/8J+CzcZI8j/4/oiSEKHxP1yDFD7PLvE/1jbnFrEN8T9wPQrXo1DxP/jhafeAqPE/v16R+hNe8T8wlKzAGYfvPyrMTWR+h+o/kWaYyLiS5T9/QEUx10PhP2kfpXV/7NY/\",\"dtype\":\"float64\",\"shape\":[75]},\"y\":{\"__ndarray__\":\"S/O/Q+51ND/Sv8nbtpRIP2vylNV0PVE/aTum7souWD/At0SJ8fVgPw3Iuahxymc/MSNhhJWvcD/bTfBN02d3P2zb5nxnaoA/CD5h5MAGhz8NmeH1TyaQP+zrCsc9p5Y/LbKd76fGnz/bLW5ISEmmPww9YvTcQq8/JV2OstnstT8Er5Y7M8G+P0c+r3jqkcU/5h99k6ZBzj88bCIzFzjVP4enV8oyxN0//yH99nXg5D8qOpLLf0jtP5kqGJXUifQ/c9cS8kHP/D+/DpwzojQEQIEmwoanVwxA4lgXt9HgE0BSSZ2AJuIbQAMJih9jjiNA5q4l5INuK0AwTKYKRj0zQNv5fmq8/DpAaCJseHrtQkB/+zpwzoxKQM3MzMzMeFJAZmZmZmZqWEAAAAAAAFxeQM3MzMzMJmJAmpmZmZkfZUBmZmZmZhhoQDMzMzMzEWtAAAAAAAAKbkBmZmZmZoFwQM3MzMzM/XFAMzMzMzN6c0CamZmZmfZ0QAAAAAAAc3ZAZmZmZmbvd0DNzMzMzGt5QDMzMzMz6HpAmpmZmZlkfEAAAAAAAOF9QGZmZmZmXX9AZmZmZuZsgECamZmZGSuBQM3MzMxM6YFAAAAAAICngkAzMzMzs2WDQGZmZmbmI4RAmpmZmRnihEDNzMzMTKCFQAAAAACAXoZAMzMzM7Mch0BmZmZm5tqHQJqZmZkZmYhAzczMzExXiUAAAAAAgBWKQDMzMzOz04pAZmZmZuaRi0CamZmZGVCMQM3MzMxMDo1AAAAAAIDMjUAzMzMzs4qOQGZmZmbmSI9A\",\"dtype\":\"float64\",\"shape\":[75]}},\"selected\":{\"id\":\"ac51e78d-27eb-425a-917d-439a1ad5eb9f\",\"type\":\"Selection\"},\"selection_policy\":{\"id\":\"1b847349-58fd-4d48-a045-eed2323c5013\",\"type\":\"UnionRenderers\"}},\"id\":\"9cf3cf53-2cad-4ee1-910a-6795a6e73289\",\"type\":\"ColumnDataSource\"},{\"attributes\":{\"callback\":null,\"data\":{\"x\":{\"__ndarray__\":\"K5c+YwNdQEBz2RxUvS08QH2TbA6SAz5A0GG8mz+pPkC0KOCx68g9QLpzV1PxWjtA53HiLL25N0DDfAko2b8zQOifa/MgeDBA309oR8M7LUD9XJSh204sQCXY/KaB2CxA8mLhlzy2LUCeUcvoCTwtQBkfgzTWoCpArRleMPpHJ0AxMbEMqHUkQPbHRVkn0SJAx7rpg2KjIkDnB7d+qbojQDg1ChWcKSZAcnQ9qs2qJUBAxWo/DychQAE+VtnEYRlAndcC9lpnE0DwfsG6tbQPQErc4Ud2vgpA23ZjnVfQBUD0BjCA7iYCQI+7a3DydP8/u3HquYUK/T+oM6S2xNj4PxAVECGeL/Q/gJmY8Swf8T9I0L1CKsbuP/qyFfZpXOw/rETYoZV+5z/d2r6JYyrhP71ufC7K0t0/6VMavO4v3T8UVwBxj6reP+rnwJm/Ud4/HQpIykzn3D//p4JRMGPaPy1Avroe8tI/7Nl5NdIE0T860AWQekPcPw3ovC4SwOM/sDFbHt6z6z/+/21GeCvyP4nshiZBb/U/B5sqgd+T9z/TTHWr+3H4P7VPeXXpbvg//XJhjU89+D+1VkQuMO/3PwUb13bMffc/cIOaVEbl9j+WCRrXYTP2P8ofPZoygPU/LBsnCte49D9DtMt4kenzPyS8l5xOEvM/8J+CzcZI8j/4/oiSEKHxP1yDFD7PLvE/1jbnFrEN8T9wPQrXo1DxP/jhafeAqPE/v16R+hNe8T8wlKzAGYfvPyrMTWR+h+o/kWaYyLiS5T9/QEUx10PhP2kfpXV/7NY/\",\"dtype\":\"float64\",\"shape\":[75]},\"y\":{\"__ndarray__\":\"S/O/Q+51ND/Sv8nbtpRIP2vylNV0PVE/aTum7souWD/At0SJ8fVgPw3Iuahxymc/MSNhhJWvcD/bTfBN02d3P2zb5nxnaoA/CD5h5MAGhz8NmeH1TyaQP+zrCsc9p5Y/LbKd76fGnz/bLW5ISEmmPww9YvTcQq8/JV2OstnstT8Er5Y7M8G+P0c+r3jqkcU/5h99k6ZBzj88bCIzFzjVP4enV8oyxN0//yH99nXg5D8qOpLLf0jtP5kqGJXUifQ/c9cS8kHP/D+/DpwzojQEQIEmwoanVwxA4lgXt9HgE0BSSZ2AJuIbQAMJih9jjiNA5q4l5INuK0AwTKYKRj0zQNv5fmq8/DpAaCJseHrtQkB/+zpwzoxKQM3MzMzMeFJAZmZmZmZqWEAAAAAAAFxeQM3MzMzMJmJAmpmZmZkfZUBmZmZmZhhoQDMzMzMzEWtAAAAAAAAKbkBmZmZmZoFwQM3MzMzM/XFAMzMzMzN6c0CamZmZmfZ0QAAAAAAAc3ZAZmZmZmbvd0DNzMzMzGt5QDMzMzMz6HpAmpmZmZlkfEAAAAAAAOF9QGZmZmZmXX9AZmZmZuZsgECamZmZGSuBQM3MzMxM6YFAAAAAAICngkAzMzMzs2WDQGZmZmbmI4RAmpmZmRnihEDNzMzMTKCFQAAAAACAXoZAMzMzM7Mch0BmZmZm5tqHQJqZmZkZmYhAzczMzExXiUAAAAAAgBWKQDMzMzOz04pAZmZmZuaRi0CamZmZGVCMQM3MzMxMDo1AAAAAAIDMjUAzMzMzs4qOQGZmZmbmSI9A\",\"dtype\":\"float64\",\"shape\":[75]}},\"selected\":{\"id\":\"482f7c47-a81a-43ce-af92-58bf08ce7d78\",\"type\":\"Selection\"},\"selection_policy\":{\"id\":\"b2ad9af5-1278-4e71-b3a9-95c503d85dde\",\"type\":\"UnionRenderers\"}},\"id\":\"cefafcd8-7548-4697-942a-b2abe91289cc\",\"type\":\"ColumnDataSource\"},{\"attributes\":{\"plot\":null,\"text\":\"\"},\"id\":\"2690adb9-547c-4874-a8f8-5b31f0ea24fe\",\"type\":\"Title\"},{\"attributes\":{},\"id\":\"03587bc9-cd6b-41d0-bfdf-c0ca4d5ec8e4\",\"type\":\"WheelZoomTool\"},{\"attributes\":{},\"id\":\"cee84d4e-e585-4e94-a104-53540217bdfa\",\"type\":\"UnionRenderers\"},{\"attributes\":{\"source\":{\"id\":\"a8ef1252-ab26-4bd0-bf28-fb94d2ba5307\",\"type\":\"ColumnDataSource\"}},\"id\":\"5cacae9d-5aae-4138-b4ce-4f6a28601343\",\"type\":\"CDSView\"},{\"attributes\":{},\"id\":\"a154ebd2-2461-4638-ab26-c52075c8bc8b\",\"type\":\"UnionRenderers\"},{\"attributes\":{\"line_alpha\":0.6,\"line_color\":\"#e41a1c\",\"line_dash\":[6],\"line_width\":5,\"x\":{\"field\":\"x\"},\"y\":{\"field\":\"y\"}},\"id\":\"7c624e06-6fe8-4218-b103-5a9fef08a2cf\",\"type\":\"Line\"},{\"attributes\":{\"children\":[{\"id\":\"5447036a-aa36-4d6a-be2e-d7f1c2efaf8b\",\"subtype\":\"Figure\",\"type\":\"Plot\"},{\"id\":\"b72e42cb-12c5-4683-8d10-08fcb8a62192\",\"subtype\":\"Figure\",\"type\":\"Plot\"},{\"id\":\"8090ee93-b3ad-4ec5-8589-a101a142ec70\",\"subtype\":\"Figure\",\"type\":\"Plot\"}]},\"id\":\"a0926aaa-e3d9-49c1-9e60-65a95d399e83\",\"type\":\"Row\"},{\"attributes\":{\"dimension\":1,\"plot\":{\"id\":\"8090ee93-b3ad-4ec5-8589-a101a142ec70\",\"subtype\":\"Figure\",\"type\":\"Plot\"},\"ticker\":{\"id\":\"c84e6b6b-31d1-4f53-88b3-1d459ca33af7\",\"type\":\"LogTicker\"}},\"id\":\"5c9e341a-9ec6-48e4-9851-2bf946e287b7\",\"type\":\"Grid\"},{\"attributes\":{},\"id\":\"53b20abe-c036-44bc-98a6-9ec38b91db59\",\"type\":\"SaveTool\"},{\"attributes\":{\"source\":{\"id\":\"2e632fca-608a-45cc-a0d7-03021ea534e9\",\"type\":\"ColumnDataSource\"}},\"id\":\"4205c510-ac24-403e-9f15-c6f9e0301107\",\"type\":\"CDSView\"},{\"attributes\":{\"data_source\":{\"id\":\"fc579991-be31-4a43-9adb-c5bddf6b2ac0\",\"type\":\"ColumnDataSource\"},\"glyph\":{\"id\":\"3d758011-1a8f-4c3a-88cb-1ad5211b0e22\",\"type\":\"Circle\"},\"hover_glyph\":null,\"muted_glyph\":null,\"nonselection_glyph\":{\"id\":\"44715ed0-c701-44c9-84c4-ca6ccd304a97\",\"type\":\"Circle\"},\"selection_glyph\":null,\"view\":{\"id\":\"bf504784-053a-40c5-8dd8-aa6e4cd8acfe\",\"type\":\"CDSView\"}},\"id\":\"8acc2902-b300-4136-8d05-e8e609a55d3d\",\"type\":\"GlyphRenderer\"},{\"attributes\":{},\"id\":\"00c5fdd0-58bf-454b-b3ee-7844b41d7f0f\",\"type\":\"BasicTicker\"},{\"attributes\":{\"ticker\":null},\"id\":\"fc8bfa39-897b-4bd5-bfe9-4fc633df98ee\",\"type\":\"LogTickFormatter\"},{\"attributes\":{},\"id\":\"55d80543-2c7a-4eb6-801c-640bc8781bbc\",\"type\":\"HelpTool\"},{\"attributes\":{\"overlay\":{\"id\":\"a96925c3-1e3f-4c52-a964-f0635871a12a\",\"type\":\"BoxAnnotation\"}},\"id\":\"9206fc93-b9c5-4ffb-9d1a-80156579b1cb\",\"type\":\"BoxZoomTool\"},{\"attributes\":{\"data_source\":{\"id\":\"26cd0f01-1732-4248-ad6b-8c3c41e3297f\",\"type\":\"ColumnDataSource\"},\"glyph\":{\"id\":\"df644065-65c8-4bdb-9f88-fc43a4759580\",\"type\":\"Line\"},\"hover_glyph\":null,\"muted_glyph\":null,\"nonselection_glyph\":{\"id\":\"4ef90210-9b0e-4fd1-9234-7bf8e6ab34a8\",\"type\":\"Line\"},\"selection_glyph\":null,\"view\":{\"id\":\"ebe8f046-e73c-44c0-89dc-4c78e7bd54be\",\"type\":\"CDSView\"}},\"id\":\"fb28b72f-a602-4068-936c-eb1d939123dc\",\"type\":\"GlyphRenderer\"},{\"attributes\":{},\"id\":\"58b5a15a-3262-4957-abd0-61adf9ecd611\",\"type\":\"BasicTickFormatter\"},{\"attributes\":{\"bottom_units\":\"screen\",\"fill_alpha\":{\"value\":0.5},\"fill_color\":{\"value\":\"lightgrey\"},\"left_units\":\"screen\",\"level\":\"overlay\",\"line_alpha\":{\"value\":1.0},\"line_color\":{\"value\":\"black\"},\"line_dash\":[4,4],\"line_width\":{\"value\":2},\"plot\":null,\"render_mode\":\"css\",\"right_units\":\"screen\",\"top_units\":\"screen\"},\"id\":\"a96925c3-1e3f-4c52-a964-f0635871a12a\",\"type\":\"BoxAnnotation\"},{\"attributes\":{\"line_alpha\":0.1,\"line_color\":\"#1f77b4\",\"line_width\":1.5,\"x\":{\"field\":\"x\"},\"y\":{\"field\":\"y\"}},\"id\":\"4ef90210-9b0e-4fd1-9234-7bf8e6ab34a8\",\"type\":\"Line\"},{\"attributes\":{},\"id\":\"f9869356-38f4-42d2-a821-9147a14fd19f\",\"type\":\"UnionRenderers\"},{\"attributes\":{},\"id\":\"22a84b0e-afed-4833-9249-f9cbf25db470\",\"type\":\"LinearScale\"},{\"attributes\":{\"tools\":[{\"id\":\"7e912142-72c9-463a-8873-70bb7cd9c644\",\"type\":\"PanTool\"},{\"id\":\"03587bc9-cd6b-41d0-bfdf-c0ca4d5ec8e4\",\"type\":\"WheelZoomTool\"},{\"id\":\"a20a2f08-db04-4147-8176-370aae666fdc\",\"type\":\"BoxZoomTool\"},{\"id\":\"53b20abe-c036-44bc-98a6-9ec38b91db59\",\"type\":\"SaveTool\"},{\"id\":\"dd798d07-0bc7-44d0-a724-7861e9f98f2c\",\"type\":\"ResetTool\"},{\"id\":\"f55f6e87-de41-45dc-9ec3-d339eab63fac\",\"type\":\"HelpTool\"},{\"id\":\"2bc3a8eb-9550-4aa3-a221-ea43518fbdc3\",\"type\":\"PanTool\"},{\"id\":\"c622ee99-5c8c-4ce7-8585-bcaf2b848b2d\",\"type\":\"WheelZoomTool\"},{\"id\":\"9206fc93-b9c5-4ffb-9d1a-80156579b1cb\",\"type\":\"BoxZoomTool\"},{\"id\":\"5487b1c9-55f8-43ee-99a1-05917e107adf\",\"type\":\"SaveTool\"},{\"id\":\"2dbd75d3-a401-4ad3-933e-69769107d5cc\",\"type\":\"ResetTool\"},{\"id\":\"55d80543-2c7a-4eb6-801c-640bc8781bbc\",\"type\":\"HelpTool\"},{\"id\":\"a5be720e-93f8-43d3-b487-2eba4f74625a\",\"type\":\"PanTool\"},{\"id\":\"6b10c139-dd64-4915-8177-cd5e0d17edd8\",\"type\":\"WheelZoomTool\"},{\"id\":\"f825a469-f95a-417f-a510-3087334a6466\",\"type\":\"BoxZoomTool\"},{\"id\":\"4fc8b767-3d8d-46eb-8d30-78b22e1b40d5\",\"type\":\"SaveTool\"},{\"id\":\"bfcf9104-95cc-415b-b487-d60923b5e888\",\"type\":\"ResetTool\"},{\"id\":\"709325b0-01f6-4cee-8c1d-73f18810a36b\",\"type\":\"HelpTool\"}]},\"id\":\"a5f68fd6-49e9-4c8c-9fe1-6d9bf1dfed2a\",\"type\":\"ProxyToolbar\"},{\"attributes\":{\"toolbar\":{\"id\":\"a5f68fd6-49e9-4c8c-9fe1-6d9bf1dfed2a\",\"type\":\"ProxyToolbar\"},\"toolbar_location\":\"above\"},\"id\":\"8ca530f4-362d-4dbc-a4db-ce6941b92409\",\"type\":\"ToolbarBox\"},{\"attributes\":{\"line_alpha\":0.6,\"line_color\":\"#e41a1c\",\"line_dash\":[6],\"line_width\":5,\"x\":{\"field\":\"x\"},\"y\":{\"field\":\"y\"}},\"id\":\"f187e467-0764-4665-bcad-59f2a3ce2378\",\"type\":\"Line\"},{\"attributes\":{},\"id\":\"58b28856-2e79-4894-ba75-b7041217f5ff\",\"type\":\"Selection\"},{\"attributes\":{\"plot\":null,\"text\":\"\"},\"id\":\"ef9b9fd8-5ca2-456f-baaf-7f4ee54b0f65\",\"type\":\"Title\"},{\"attributes\":{\"ticker\":null},\"id\":\"afbf0a16-5637-499e-af12-af521b21cec1\",\"type\":\"LogTickFormatter\"},{\"attributes\":{},\"id\":\"75f5d196-b0f9-45ae-a437-658fb51623b9\",\"type\":\"UnionRenderers\"},{\"attributes\":{},\"id\":\"5487b1c9-55f8-43ee-99a1-05917e107adf\",\"type\":\"SaveTool\"},{\"attributes\":{\"children\":[{\"id\":\"8ca530f4-362d-4dbc-a4db-ce6941b92409\",\"type\":\"ToolbarBox\"},{\"id\":\"6ae661c8-5a32-41f6-b392-9fb695948202\",\"type\":\"Column\"}]},\"id\":\"1d53a0e0-0bc0-467d-b356-4b285e64ffd3\",\"type\":\"Column\"},{\"attributes\":{},\"id\":\"2dbd75d3-a401-4ad3-933e-69769107d5cc\",\"type\":\"ResetTool\"},{\"attributes\":{},\"id\":\"7b85f351-079f-433d-a253-63a6d932f408\",\"type\":\"Selection\"},{\"attributes\":{\"callback\":null,\"end\":0.01,\"start\":1020},\"id\":\"a2d56c2b-6cae-40cc-98a4-a5fd9840c3da\",\"type\":\"Range1d\"},{\"attributes\":{\"callback\":null,\"data\":{\"x\":{\"__ndarray__\":\"TTdxrtF3GsDZuaAGLWAGwLCvVEtCveo/lZei41epCUBCC4AywGEOQKWMji2yzgVAbiXANW/56D9QZt8+XKbuv/rk3sW1l/q/takToPst9L+YsgmEQfbUvzWVCNewmOA/7Y61ZdnX7j9ySOJByPbsP1pfrAFNANk/Q7hrSxLm0L8jrOYeQWDlv8Ajao7ecuW/kPrPblR92r8aq4cUA+HBv05oQFt2HLI/NXoUHbYvwT+eebAk4v65v2z6jkOhcM2/lvgOf2YSob9Mx2SHbVzRP8Rk3R5n8dE/5CbmDFkyvD+DTE2lzp+gPzORCt5IRcQ/vOFSvRUXzT+W6vje2NPAP6/IcjgH9na/RSfLTiwOaD8bRkv0qkyzP9UNr96LOag/PmJvOaW5mL/9lrS96Kazv/33LQoKB7a/iouAY/+nsr8HhgcU1rmsv33ebJUefqW/ol0MeY5bmr/x0C2d1q+Qv+NrO2QX8YW/tBXmB1iTP79E04Gu55R0vyE1jv7gVJu/Ww3noWKfqr9ye2AOP4Cqv5kng/CXwKK/K61DFqpZo7/98QtuLcyqv6pal2vSkaq/uqUH8Jtcpb+Wh2fesaWfv8XVhkieS5i/Tdg/Fn2hk7/mapn+wOuJv6Q3P3RzAIS/2+XwzPFxgb9rVLl0v0+EvwE/xm8ZVoa/US2l5mc1hL/iO/p/lwl6v0ATht6pWzm//llQLsKafz+eQ3D04tiLP+iU2AYF3ZI/RqUIeOtflj8M0EVGNROYP3N9tU3vbpc/bHeyzMBXlz9Za/ozDViWPw==\",\"dtype\":\"float64\",\"shape\":[74]},\"y\":{\"__ndarray__\":\"0r/J27aUSD9r8pTVdD1RP2k7pu7KLlg/wLdEifH1YD8NyLmoccpnPzEjYYSVr3A/203wTdNndz9s2+Z8Z2qAPwg+YeTABoc/DZnh9U8mkD/s6wrHPaeWPy2yne+nxp8/2y1uSEhJpj8MPWL03EKvPyVdjrLZ7LU/BK+WOzPBvj9HPq946pHFP+YffZOmQc4/PGwiMxc41T+Hp1fKMsTdP/8h/fZ14OQ/KjqSy39I7T+ZKhiV1In0P3PXEvJBz/w/vw6cM6I0BECBJsKGp1cMQOJYF7fR4BNAUkmdgCbiG0ADCYofY44jQOauJeSDbitAMEymCkY9M0Db+X5qvPw6QGgibHh67UJAf/s6cM6MSkDNzMzMzHhSQGZmZmZmalhAAAAAAABcXkDNzMzMzCZiQJqZmZmZH2VAZmZmZmYYaEAzMzMzMxFrQAAAAAAACm5AZmZmZmaBcEDNzMzMzP1xQDMzMzMzenNAmpmZmZn2dEAAAAAAAHN2QGZmZmZm73dAzczMzMxreUAzMzMzM+h6QJqZmZmZZHxAAAAAAADhfUBmZmZmZl1/QGZmZmbmbIBAmpmZmRkrgUDNzMzMTOmBQAAAAACAp4JAMzMzM7Nlg0BmZmZm5iOEQJqZmZkZ4oRAzczMzEyghUAAAAAAgF6GQDMzMzOzHIdAZmZmZubah0CamZmZGZmIQM3MzMxMV4lAAAAAAIAVikAzMzMzs9OKQGZmZmbmkYtAmpmZmRlQjEDNzMzMTA6NQAAAAACAzI1AMzMzM7OKjkBmZmZm5kiPQA==\",\"dtype\":\"float64\",\"shape\":[74]}},\"selected\":{\"id\":\"58b28856-2e79-4894-ba75-b7041217f5ff\",\"type\":\"Selection\"},\"selection_policy\":{\"id\":\"75f5d196-b0f9-45ae-a437-658fb51623b9\",\"type\":\"UnionRenderers\"}},\"id\":\"fc579991-be31-4a43-9adb-c5bddf6b2ac0\",\"type\":\"ColumnDataSource\"},{\"attributes\":{\"above\":[{\"id\":\"76549dbf-3133-4904-95a7-db4f79835cb4\",\"type\":\"Legend\"}],\"below\":[{\"id\":\"e210441b-d6d9-493f-9985-fcd4bee7a732\",\"type\":\"LinearAxis\"}],\"left\":[{\"id\":\"0960cb1d-598f-4b60-808a-15f51ee5ceb9\",\"type\":\"LogAxis\"}],\"plot_width\":300,\"renderers\":[{\"id\":\"e210441b-d6d9-493f-9985-fcd4bee7a732\",\"type\":\"LinearAxis\"},{\"id\":\"dec1fb68-46ec-4bd1-925a-0d7283283f33\",\"type\":\"Grid\"},{\"id\":\"0960cb1d-598f-4b60-808a-15f51ee5ceb9\",\"type\":\"LogAxis\"},{\"id\":\"0bd912bb-7fc7-4938-848f-bba00a58223c\",\"type\":\"Grid\"},{\"id\":\"a96925c3-1e3f-4c52-a964-f0635871a12a\",\"type\":\"BoxAnnotation\"},{\"id\":\"e533b861-5680-4b47-8b63-d08279f7a492\",\"type\":\"GlyphRenderer\"},{\"id\":\"4cc06738-ad39-4dab-bf08-16d67d1d4207\",\"type\":\"GlyphRenderer\"},{\"id\":\"fb28b72f-a602-4068-936c-eb1d939123dc\",\"type\":\"GlyphRenderer\"},{\"id\":\"76549dbf-3133-4904-95a7-db4f79835cb4\",\"type\":\"Legend\"}],\"title\":{\"id\":\"2f6ac04c-8483-4625-933c-96567aabe52d\",\"type\":\"Title\"},\"toolbar\":{\"id\":\"68222366-c40c-483e-ac43-bf0a46738de0\",\"type\":\"Toolbar\"},\"toolbar_location\":null,\"x_range\":{\"id\":\"48d66139-d56d-4bd8-b4d9-bfb840c8fc81\",\"type\":\"Range1d\"},\"x_scale\":{\"id\":\"a93b3a69-75e0-45a0-8d7b-04117e8221c9\",\"type\":\"LinearScale\"},\"y_range\":{\"id\":\"909ca4f5-6a0b-4118-b2bf-c2393ffdb86b\",\"type\":\"Range1d\"},\"y_scale\":{\"id\":\"05e325e8-c98e-4dea-be7d-73a93c4cb6be\",\"type\":\"LogScale\"}},\"id\":\"b72e42cb-12c5-4683-8d10-08fcb8a62192\",\"subtype\":\"Figure\",\"type\":\"Plot\"},{\"attributes\":{\"fill_alpha\":{\"value\":0.1},\"fill_color\":{\"value\":\"#1f77b4\"},\"line_alpha\":{\"value\":0.1},\"line_color\":{\"value\":\"#1f77b4\"},\"x\":{\"field\":\"x\"},\"y\":{\"field\":\"y\"}},\"id\":\"c13f6bad-3577-42e5-993b-e0e38aa496de\",\"type\":\"Circle\"},{\"attributes\":{\"fill_alpha\":{\"value\":0.7},\"fill_color\":{\"value\":\"#984ea3\"},\"line_alpha\":{\"value\":0.7},\"line_color\":{\"value\":\"#984ea3\"},\"x\":{\"field\":\"x\"},\"y\":{\"field\":\"y\"}},\"id\":\"3d758011-1a8f-4c3a-88cb-1ad5211b0e22\",\"type\":\"Circle\"},{\"attributes\":{},\"id\":\"b85e68f5-d424-4582-b815-550d98a83e72\",\"type\":\"BasicTickFormatter\"},{\"attributes\":{\"active_drag\":\"auto\",\"active_inspect\":\"auto\",\"active_scroll\":\"auto\",\"active_tap\":\"auto\",\"tools\":[{\"id\":\"a5be720e-93f8-43d3-b487-2eba4f74625a\",\"type\":\"PanTool\"},{\"id\":\"6b10c139-dd64-4915-8177-cd5e0d17edd8\",\"type\":\"WheelZoomTool\"},{\"id\":\"f825a469-f95a-417f-a510-3087334a6466\",\"type\":\"BoxZoomTool\"},{\"id\":\"4fc8b767-3d8d-46eb-8d30-78b22e1b40d5\",\"type\":\"SaveTool\"},{\"id\":\"bfcf9104-95cc-415b-b487-d60923b5e888\",\"type\":\"ResetTool\"},{\"id\":\"709325b0-01f6-4cee-8c1d-73f18810a36b\",\"type\":\"HelpTool\"}]},\"id\":\"54412af6-0514-4211-a854-8023e6098f2e\",\"type\":\"Toolbar\"},{\"attributes\":{\"plot\":{\"id\":\"5447036a-aa36-4d6a-be2e-d7f1c2efaf8b\",\"subtype\":\"Figure\",\"type\":\"Plot\"},\"ticker\":{\"id\":\"00c5fdd0-58bf-454b-b3ee-7844b41d7f0f\",\"type\":\"BasicTicker\"}},\"id\":\"783b49c0-f719-4077-905f-c7002376e704\",\"type\":\"Grid\"},{\"attributes\":{\"axis_label\":\"pressure [mb]\",\"formatter\":{\"id\":\"5a1ba7b2-9c6c-49d9-bf8e-752a0b74c601\",\"type\":\"BasicTickFormatter\"},\"plot\":{\"id\":\"5447036a-aa36-4d6a-be2e-d7f1c2efaf8b\",\"subtype\":\"Figure\",\"type\":\"Plot\"},\"ticker\":{\"id\":\"423df42d-25c9-48ba-9150-01d31aec0fd0\",\"type\":\"BasicTicker\"}},\"id\":\"4fbd9fd3-0c6d-48c1-a159-bc7160bf0b30\",\"type\":\"LinearAxis\"},{\"attributes\":{},\"id\":\"af59608e-b333-4553-905b-387b4848ae47\",\"type\":\"LinearScale\"},{\"attributes\":{\"data_source\":{\"id\":\"cefafcd8-7548-4697-942a-b2abe91289cc\",\"type\":\"ColumnDataSource\"},\"glyph\":{\"id\":\"7c624e06-6fe8-4218-b103-5a9fef08a2cf\",\"type\":\"Line\"},\"hover_glyph\":null,\"muted_glyph\":null,\"nonselection_glyph\":{\"id\":\"9435b412-b70a-4e87-92bc-c5c85aa4f1ca\",\"type\":\"Line\"},\"selection_glyph\":null,\"view\":{\"id\":\"69aaedcb-cb96-4cad-9f4a-0d031da25821\",\"type\":\"CDSView\"}},\"id\":\"e533b861-5680-4b47-8b63-d08279f7a492\",\"type\":\"GlyphRenderer\"},{\"attributes\":{\"source\":{\"id\":\"26cd0f01-1732-4248-ad6b-8c3c41e3297f\",\"type\":\"ColumnDataSource\"}},\"id\":\"ebe8f046-e73c-44c0-89dc-4c78e7bd54be\",\"type\":\"CDSView\"},{\"attributes\":{\"above\":[{\"id\":\"7e0e14c7-5485-434c-bc4e-161be6e5c96a\",\"type\":\"Legend\"}],\"below\":[{\"id\":\"d68930d6-dc48-43e3-a7d5-26cb2038d285\",\"type\":\"LinearAxis\"}],\"left\":[{\"id\":\"5498f70e-72a4-421c-8235-beaef7b3b1fa\",\"type\":\"LogAxis\"}],\"plot_width\":300,\"renderers\":[{\"id\":\"d68930d6-dc48-43e3-a7d5-26cb2038d285\",\"type\":\"LinearAxis\"},{\"id\":\"430c226e-6d96-4203-8620-0a2918b1b95d\",\"type\":\"Grid\"},{\"id\":\"5498f70e-72a4-421c-8235-beaef7b3b1fa\",\"type\":\"LogAxis\"},{\"id\":\"5c9e341a-9ec6-48e4-9851-2bf946e287b7\",\"type\":\"Grid\"},{\"id\":\"128e9376-23ad-4749-afa6-8389d52744ff\",\"type\":\"BoxAnnotation\"},{\"id\":\"8acc2902-b300-4136-8d05-e8e609a55d3d\",\"type\":\"GlyphRenderer\"},{\"id\":\"f73eb32a-231f-46dc-bb09-9f1213a9de8e\",\"type\":\"GlyphRenderer\"},{\"id\":\"7e0e14c7-5485-434c-bc4e-161be6e5c96a\",\"type\":\"Legend\"}],\"title\":{\"id\":\"ef9b9fd8-5ca2-456f-baaf-7f4ee54b0f65\",\"type\":\"Title\"},\"toolbar\":{\"id\":\"54412af6-0514-4211-a854-8023e6098f2e\",\"type\":\"Toolbar\"},\"toolbar_location\":null,\"x_range\":{\"id\":\"59866ede-303e-4184-a8d8-1bc68cb5f2a8\",\"type\":\"Range1d\"},\"x_scale\":{\"id\":\"aad96b2b-4381-435b-bf67-d051d85c16c8\",\"type\":\"LinearScale\"},\"y_range\":{\"id\":\"a2d56c2b-6cae-40cc-98a4-a5fd9840c3da\",\"type\":\"Range1d\"},\"y_scale\":{\"id\":\"7b0170de-69aa-4078-aece-77ce62b1395c\",\"type\":\"LogScale\"}},\"id\":\"8090ee93-b3ad-4ec5-8589-a101a142ec70\",\"subtype\":\"Figure\",\"type\":\"Plot\"},{\"attributes\":{},\"id\":\"b2ad9af5-1278-4e71-b3a9-95c503d85dde\",\"type\":\"UnionRenderers\"},{\"attributes\":{\"items\":[{\"id\":\"b032fff2-acd4-48da-9c2d-444f92f84867\",\"type\":\"LegendItem\"},{\"id\":\"2a0ff3bc-b4e5-4d27-84e5-cca463be3e62\",\"type\":\"LegendItem\"}],\"label_text_font_size\":{\"value\":\"8pt\"},\"location\":\"top_center\",\"orientation\":\"horizontal\",\"plot\":{\"id\":\"5447036a-aa36-4d6a-be2e-d7f1c2efaf8b\",\"subtype\":\"Figure\",\"type\":\"Plot\"}},\"id\":\"ddad65aa-9dff-4e8c-b658-a70bf8d69e64\",\"type\":\"Legend\"},{\"attributes\":{\"source\":{\"id\":\"89a2110b-6a0c-494b-925a-dc54a4e5ca1b\",\"type\":\"ColumnDataSource\"}},\"id\":\"2d29b22d-17f0-4b87-b262-f2172d786543\",\"type\":\"CDSView\"},{\"attributes\":{},\"id\":\"423df42d-25c9-48ba-9150-01d31aec0fd0\",\"type\":\"BasicTicker\"},{\"attributes\":{\"axis_label\":\"cooling rate [K/day]\",\"formatter\":{\"id\":\"c14b0e2a-1991-460c-ae3e-edde56d39216\",\"type\":\"BasicTickFormatter\"},\"plot\":{\"id\":\"5447036a-aa36-4d6a-be2e-d7f1c2efaf8b\",\"subtype\":\"Figure\",\"type\":\"Plot\"},\"ticker\":{\"id\":\"00c5fdd0-58bf-454b-b3ee-7844b41d7f0f\",\"type\":\"BasicTicker\"}},\"id\":\"c7a7f15d-12f5-48e1-ba23-498c596c3d70\",\"type\":\"LinearAxis\"},{\"attributes\":{\"callback\":null,\"data\":{\"x\":{\"__ndarray__\":\"0CYBcvU5UkCik9zf2GVBQF1VoNfLZ0BAVLxhiVXTPUDD1Wu1wJM6QFJyB025jjdAU6Aw5+b/NECYe1uuDfgyQB6bYtVTbTFAPxYSAF1HMEA00pYVm9QuQLolHbMzgC1AntlwirGsLECv+G9SjE4rQJH6ZLBp0ShAsLZQyPd/JkDyjgyf2PwkQLgyNGsrJyRAA13QbJD6I0C8hy0ilI4kQOVTXCEgcSZAovOGvZSGJUBVc/ZmUOIgQOf/6GHAyRlAcE8fAOBSFEDRur1U//gPQGFD9ZbokghAQsqHuSqSA0C91ci3W0UBQCtRQfvz7/4/kh8pntyB+j9t1/n+4TX1P773MAUjFfI/RgzR+CI28T8hBW8WHK7uPzVKjJfU8uk/0FPt4/z65T/wVYqzMPDhPz7K9C5CXuE/8+hSn9hY4T/9PPCkR6rhP1XsIC599OA/66X1nBCX3z/YbRM56QjcPz4dkSQc/dM/S7Wb8Fq00T+/yQdmX0vcP7TrGf476eM/WqNPJoWO7D9qOH1bcwDzP2bw+R5DQ/Y/RLSuQOQp+D8+aif8yAz5P0Wv6eBKRfk/0i2+IN4R+T/ik8QNFZr4PyS5UD5j/Pc/yJ68zXRG9z/2CHPL54H2P59SOhwKtPU/npkP8dfg9D8NlmVcdQz0P80ugRvuOvM/byxiAHN18j9USVZie8nxP5l9lNXYSPE/OB+F0UYP8T8Y7dsUCTHxP3EBgTHPcPE/bfx15p8S8T8FT+xkGtTuP6mdG7rkxuk/pboqTkHX5D/CrN8qGYngP7R4ZaL+htU/\",\"dtype\":\"float64\",\"shape\":[75]},\"y\":{\"__ndarray__\":\"GhExyth1ND/Sv8nbtpRIP2vylNV0PVE/aTum7souWD/At0SJ8fVgPw3Iuahxymc/MSNhhJWvcD/bTfBN02d3P2zb5nxnaoA/CD5h5MAGhz8NmeH1TyaQP+zrCsc9p5Y/LbKd76fGnz/bLW5ISEmmPww9YvTcQq8/JV2OstnstT8Er5Y7M8G+P0c+r3jqkcU/5h99k6ZBzj88bCIzFzjVP4enV8oyxN0//yH99nXg5D8qOpLLf0jtP5kqGJXUifQ/c9cS8kHP/D+/DpwzojQEQIEmwoanVwxA4lgXt9HgE0BSSZ2AJuIbQAMJih9jjiNA5q4l5INuK0AwTKYKRj0zQNv5fmq8/DpAaCJseHrtQkB/+zpwzoxKQM3MzMzMeFJAZmZmZmZqWEAAAAAAAFxeQM3MzMzMJmJAmpmZmZkfZUBmZmZmZhhoQDMzMzMzEWtAAAAAAAAKbkBmZmZmZoFwQM3MzMzM/XFAMzMzMzN6c0CamZmZmfZ0QAAAAAAAc3ZAZmZmZmbvd0DNzMzMzGt5QDMzMzMz6HpAmpmZmZlkfEAAAAAAAOF9QGZmZmZmXX9AZmZmZuZsgECamZmZGSuBQM3MzMxM6YFAAAAAAICngkAzMzMzs2WDQGZmZmbmI4RAmpmZmRnihEDNzMzMTKCFQAAAAACAXoZAMzMzM7Mch0BmZmZm5tqHQJqZmZkZmYhAzczMzExXiUAAAAAAgBWKQDMzMzOz04pAZmZmZuaRi0CamZmZGVCMQM3MzMxMDo1AAAAAAIDMjUAzMzMzs4qOQGZmZmbmSI9A\",\"dtype\":\"float64\",\"shape\":[75]}},\"selected\":{\"id\":\"12a1aaa8-46d8-4959-bcab-0b087fe0b13f\",\"type\":\"Selection\"},\"selection_policy\":{\"id\":\"cee84d4e-e585-4e94-a104-53540217bdfa\",\"type\":\"UnionRenderers\"}},\"id\":\"89a2110b-6a0c-494b-925a-dc54a4e5ca1b\",\"type\":\"ColumnDataSource\"},{\"attributes\":{\"bottom_units\":\"screen\",\"fill_alpha\":{\"value\":0.5},\"fill_color\":{\"value\":\"lightgrey\"},\"left_units\":\"screen\",\"level\":\"overlay\",\"line_alpha\":{\"value\":1.0},\"line_color\":{\"value\":\"black\"},\"line_dash\":[4,4],\"line_width\":{\"value\":2},\"plot\":null,\"render_mode\":\"css\",\"right_units\":\"screen\",\"top_units\":\"screen\"},\"id\":\"128e9376-23ad-4749-afa6-8389d52744ff\",\"type\":\"BoxAnnotation\"},{\"attributes\":{\"callback\":null,\"data\":{\"x\":{\"__ndarray__\":\"0CYBcvU5UkCik9zf2GVBQF1VoNfLZ0BAVLxhiVXTPUDD1Wu1wJM6QFJyB025jjdAU6Aw5+b/NECYe1uuDfgyQB6bYtVTbTFAPxYSAF1HMEA00pYVm9QuQLolHbMzgC1AntlwirGsLECv+G9SjE4rQJH6ZLBp0ShAsLZQyPd/JkDyjgyf2PwkQLgyNGsrJyRAA13QbJD6I0C8hy0ilI4kQOVTXCEgcSZAovOGvZSGJUBVc/ZmUOIgQOf/6GHAyRlAcE8fAOBSFEDRur1U//gPQGFD9ZbokghAQsqHuSqSA0C91ci3W0UBQCtRQfvz7/4/kh8pntyB+j9t1/n+4TX1P773MAUjFfI/RgzR+CI28T8hBW8WHK7uPzVKjJfU8uk/0FPt4/z65T/wVYqzMPDhPz7K9C5CXuE/8+hSn9hY4T/9PPCkR6rhP1XsIC599OA/66X1nBCX3z/YbRM56QjcPz4dkSQc/dM/S7Wb8Fq00T+/yQdmX0vcP7TrGf476eM/WqNPJoWO7D9qOH1bcwDzP2bw+R5DQ/Y/RLSuQOQp+D8+aif8yAz5P0Wv6eBKRfk/0i2+IN4R+T/ik8QNFZr4PyS5UD5j/Pc/yJ68zXRG9z/2CHPL54H2P59SOhwKtPU/npkP8dfg9D8NlmVcdQz0P80ugRvuOvM/byxiAHN18j9USVZie8nxP5l9lNXYSPE/OB+F0UYP8T8Y7dsUCTHxP3EBgTHPcPE/bfx15p8S8T8FT+xkGtTuP6mdG7rkxuk/pboqTkHX5D/CrN8qGYngP7R4ZaL+htU/\",\"dtype\":\"float64\",\"shape\":[75]},\"y\":{\"__ndarray__\":\"GhExyth1ND/Sv8nbtpRIP2vylNV0PVE/aTum7souWD/At0SJ8fVgPw3Iuahxymc/MSNhhJWvcD/bTfBN02d3P2zb5nxnaoA/CD5h5MAGhz8NmeH1TyaQP+zrCsc9p5Y/LbKd76fGnz/bLW5ISEmmPww9YvTcQq8/JV2OstnstT8Er5Y7M8G+P0c+r3jqkcU/5h99k6ZBzj88bCIzFzjVP4enV8oyxN0//yH99nXg5D8qOpLLf0jtP5kqGJXUifQ/c9cS8kHP/D+/DpwzojQEQIEmwoanVwxA4lgXt9HgE0BSSZ2AJuIbQAMJih9jjiNA5q4l5INuK0AwTKYKRj0zQNv5fmq8/DpAaCJseHrtQkB/+zpwzoxKQM3MzMzMeFJAZmZmZmZqWEAAAAAAAFxeQM3MzMzMJmJAmpmZmZkfZUBmZmZmZhhoQDMzMzMzEWtAAAAAAAAKbkBmZmZmZoFwQM3MzMzM/XFAMzMzMzN6c0CamZmZmfZ0QAAAAAAAc3ZAZmZmZmbvd0DNzMzMzGt5QDMzMzMz6HpAmpmZmZlkfEAAAAAAAOF9QGZmZmZmXX9AZmZmZuZsgECamZmZGSuBQM3MzMxM6YFAAAAAAICngkAzMzMzs2WDQGZmZmbmI4RAmpmZmRnihEDNzMzMTKCFQAAAAACAXoZAMzMzM7Mch0BmZmZm5tqHQJqZmZkZmYhAzczMzExXiUAAAAAAgBWKQDMzMzOz04pAZmZmZuaRi0CamZmZGVCMQM3MzMxMDo1AAAAAAIDMjUAzMzMzs4qOQGZmZmbmSI9A\",\"dtype\":\"float64\",\"shape\":[75]}},\"selected\":{\"id\":\"d31fc749-7674-4bd0-83a3-ccec93285a2d\",\"type\":\"Selection\"},\"selection_policy\":{\"id\":\"a154ebd2-2461-4638-ab26-c52075c8bc8b\",\"type\":\"UnionRenderers\"}},\"id\":\"26cd0f01-1732-4248-ad6b-8c3c41e3297f\",\"type\":\"ColumnDataSource\"},{\"attributes\":{\"line_color\":\"#4daf4a\",\"line_width\":1.5,\"x\":{\"field\":\"x\"},\"y\":{\"field\":\"y\"}},\"id\":\"df644065-65c8-4bdb-9f88-fc43a4759580\",\"type\":\"Line\"},{\"attributes\":{\"line_alpha\":0.1,\"line_color\":\"#1f77b4\",\"line_dash\":[6],\"line_width\":5,\"x\":{\"field\":\"x\"},\"y\":{\"field\":\"y\"}},\"id\":\"9435b412-b70a-4e87-92bc-c5c85aa4f1ca\",\"type\":\"Line\"},{\"attributes\":{\"source\":{\"id\":\"cefafcd8-7548-4697-942a-b2abe91289cc\",\"type\":\"ColumnDataSource\"}},\"id\":\"69aaedcb-cb96-4cad-9f4a-0d031da25821\",\"type\":\"CDSView\"},{\"attributes\":{\"label\":{\"value\":\"CRD\"},\"renderers\":[{\"id\":\"4cc06738-ad39-4dab-bf08-16d67d1d4207\",\"type\":\"GlyphRenderer\"},{\"id\":\"fb28b72f-a602-4068-936c-eb1d939123dc\",\"type\":\"GlyphRenderer\"}]},\"id\":\"98382fd2-49a6-4f86-be6f-24ebb85b6ed2\",\"type\":\"LegendItem\"},{\"attributes\":{\"data_source\":{\"id\":\"89a2110b-6a0c-494b-925a-dc54a4e5ca1b\",\"type\":\"ColumnDataSource\"},\"glyph\":{\"id\":\"4218b92f-684d-4dc8-9c47-cbaa4f91bc2c\",\"type\":\"Circle\"},\"hover_glyph\":null,\"muted_glyph\":null,\"nonselection_glyph\":{\"id\":\"c13f6bad-3577-42e5-993b-e0e38aa496de\",\"type\":\"Circle\"},\"selection_glyph\":null,\"view\":{\"id\":\"2d29b22d-17f0-4b87-b262-f2172d786543\",\"type\":\"CDSView\"}},\"id\":\"4cc06738-ad39-4dab-bf08-16d67d1d4207\",\"type\":\"GlyphRenderer\"}],\"root_ids\":[\"1d53a0e0-0bc0-467d-b356-4b285e64ffd3\"]},\"title\":\"Bokeh Application\",\"version\":\"0.12.16\"}};\n",
       "  var render_items = [{\"docid\":\"9961ebe9-fe4a-4ca4-8ef9-8091966703ac\",\"elementid\":\"323a78b8-8826-4cc7-836f-14576817053c\",\"modelid\":\"1d53a0e0-0bc0-467d-b356-4b285e64ffd3\"}];\n",
       "  root.Bokeh.embed.embed_items_notebook(docs_json, render_items);\n",
       "\n",
       "  }\n",
       "  if (root.Bokeh !== undefined) {\n",
       "    embed_document(root);\n",
       "  } else {\n",
       "    var attempts = 0;\n",
       "    var timer = setInterval(function(root) {\n",
       "      if (root.Bokeh !== undefined) {\n",
       "        embed_document(root);\n",
       "        clearInterval(timer);\n",
       "      }\n",
       "      attempts++;\n",
       "      if (attempts > 100) {\n",
       "        console.log(\"Bokeh: ERROR: Unable to run BokehJS code because BokehJS library is missing\")\n",
       "        clearInterval(timer);\n",
       "      }\n",
       "    }, 10, root)\n",
       "  }\n",
       "})(window);"
      ],
      "application/vnd.bokehjs_exec.v0+json": ""
     },
     "metadata": {
      "application/vnd.bokehjs_exec.v0+json": {
       "id": "1d53a0e0-0bc0-467d-b356-4b285e64ffd3"
      }
     },
     "output_type": "display_data"
    },
    {
     "data": {
      "text/markdown": [
       "*FIGURE.* Cooling rates & difference."
      ],
      "text/plain": [
       "<IPython.core.display.Markdown object>"
      ]
     },
     "metadata": {},
     "output_type": "display_data"
    },
    {
     "data": {
      "text/html": [
       "<a id=\"Fluxes._saw.\"></a>"
      ],
      "text/plain": [
       "<IPython.core.display.HTML object>"
      ]
     },
     "metadata": {},
     "output_type": "display_data"
    },
    {
     "data": {
      "text/markdown": [
       "# Fluxes. saw."
      ],
      "text/plain": [
       "<IPython.core.display.Markdown object>"
      ]
     },
     "metadata": {},
     "output_type": "display_data"
    },
    {
     "data": {
      "text/html": [
       "\n",
       "<div class=\"bk-root\">\n",
       "    <div class=\"bk-plotdiv\" id=\"9de7155b-052c-48c9-933d-3912f4ca325e\"></div>\n",
       "</div>"
      ]
     },
     "metadata": {},
     "output_type": "display_data"
    },
    {
     "data": {
      "application/javascript": [
       "(function(root) {\n",
       "  function embed_document(root) {\n",
       "    \n",
       "  var docs_json = {\"9db06d0a-311c-4757-8411-a8489140ef9c\":{\"roots\":{\"references\":[{\"attributes\":{},\"id\":\"e2863a6e-4226-416c-990c-259e4f0bbd2c\",\"type\":\"WheelZoomTool\"},{\"attributes\":{},\"id\":\"edc92a9f-cce4-4849-aeb8-1a4ae639b615\",\"type\":\"LinearScale\"},{\"attributes\":{\"overlay\":{\"id\":\"47c7d07d-3da3-4c29-b8cc-5a071b2c30b1\",\"type\":\"BoxAnnotation\"}},\"id\":\"50357a3e-77c7-480c-9122-798a85d88b65\",\"type\":\"BoxZoomTool\"},{\"attributes\":{},\"id\":\"8d24a669-b7b8-480d-8e21-75aee1cbcfe5\",\"type\":\"PanTool\"},{\"attributes\":{\"plot\":null,\"text\":\"TOA flux. CLIRAD - CRD.\"},\"id\":\"84c7ee7c-18e7-4316-91a9-b1223b49b6b3\",\"type\":\"Title\"},{\"attributes\":{\"callback\":null,\"data\":{\"band\":[\"1\",\"2\",\"3\",\"4\",\"5\",\"6\",\"7\",\"8\",\"9\",\"10\",\"11\"],\"flux\":{\"__ndarray__\":\"ABU3bjE/xz8AZg3eV+WyPwARbjKqDLO/IP5+MVuy0D8AgbVq14S4PwDQ+uk/a46/YGthFto50j8AHErtRbSNv4DSeglfqaA/AMybHm9Ndb8AjgOvljuTPw==\",\"dtype\":\"float64\",\"shape\":[11]}},\"selected\":{\"id\":\"eabf4f67-1225-49c2-8a39-dd7f971b74ef\",\"type\":\"Selection\"},\"selection_policy\":{\"id\":\"9d2c8ea7-ebe4-4b23-961a-f72a3e6386aa\",\"type\":\"UnionRenderers\"}},\"id\":\"17da55b4-9624-4b72-b3b4-320f8ca9dde4\",\"type\":\"ColumnDataSource\"},{\"attributes\":{\"below\":[{\"id\":\"0a52199f-f5ba-4b63-92ec-a0cbe5f97930\",\"type\":\"CategoricalAxis\"}],\"left\":[{\"id\":\"6871d6ff-55f5-46a3-a885-12fa87c7661e\",\"type\":\"LinearAxis\"}],\"plot_height\":300,\"plot_width\":300,\"renderers\":[{\"id\":\"0a52199f-f5ba-4b63-92ec-a0cbe5f97930\",\"type\":\"CategoricalAxis\"},{\"id\":\"972c8dc4-5aaf-48a3-836b-007416321bbb\",\"type\":\"Grid\"},{\"id\":\"6871d6ff-55f5-46a3-a885-12fa87c7661e\",\"type\":\"LinearAxis\"},{\"id\":\"e9f8e843-52c6-41f9-a6d4-c38657cab5b8\",\"type\":\"Grid\"},{\"id\":\"0c502b24-3e5a-46c6-b913-9f477051d3be\",\"type\":\"BoxAnnotation\"},{\"id\":\"b0d060d3-7024-4349-92c3-93a71fff6e8f\",\"type\":\"GlyphRenderer\"}],\"title\":{\"id\":\"84c7ee7c-18e7-4316-91a9-b1223b49b6b3\",\"type\":\"Title\"},\"toolbar\":{\"id\":\"94525499-105e-42c4-ae2d-485b9f121476\",\"type\":\"Toolbar\"},\"toolbar_location\":null,\"x_range\":{\"id\":\"8306452a-9200-4286-a898-f9f08253e4cc\",\"type\":\"FactorRange\"},\"x_scale\":{\"id\":\"cb8c9f16-0c68-47fd-b637-1e7a2467f3b6\",\"type\":\"CategoricalScale\"},\"y_range\":{\"id\":\"f3a034e3-daa0-4189-a033-c610f5b9889e\",\"type\":\"DataRange1d\"},\"y_scale\":{\"id\":\"edc92a9f-cce4-4849-aeb8-1a4ae639b615\",\"type\":\"LinearScale\"}},\"id\":\"2c6d3416-1035-4f28-b226-01360f0ed605\",\"subtype\":\"Figure\",\"type\":\"Plot\"},{\"attributes\":{\"data_source\":{\"id\":\"c85657e8-f06a-48e0-958e-6a66d2e183dc\",\"type\":\"ColumnDataSource\"},\"glyph\":{\"id\":\"972b0d0f-26c9-4121-a297-085776fc77f8\",\"type\":\"VBar\"},\"hover_glyph\":null,\"muted_glyph\":null,\"nonselection_glyph\":{\"id\":\"1d8c1b2a-e6ac-40b2-8bee-ec07cff82a2e\",\"type\":\"VBar\"},\"selection_glyph\":null,\"view\":{\"id\":\"14cf3328-ce20-4731-aeec-9b814ef8cdc0\",\"type\":\"CDSView\"}},\"id\":\"2d01d8a5-175e-482a-95e6-32c6e671d323\",\"type\":\"GlyphRenderer\"},{\"attributes\":{\"callback\":null},\"id\":\"f3a034e3-daa0-4189-a033-c610f5b9889e\",\"type\":\"DataRange1d\"},{\"attributes\":{\"axis_label\":\"flux (W m-2)\",\"formatter\":{\"id\":\"627277b7-bcd4-4f74-90b9-4061b52b0b02\",\"type\":\"BasicTickFormatter\"},\"plot\":{\"id\":\"2c6d3416-1035-4f28-b226-01360f0ed605\",\"subtype\":\"Figure\",\"type\":\"Plot\"},\"ticker\":{\"id\":\"178f99ad-2dc2-4b8f-acd3-b5a3cfbe8cda\",\"type\":\"BasicTicker\"}},\"id\":\"6871d6ff-55f5-46a3-a885-12fa87c7661e\",\"type\":\"LinearAxis\"},{\"attributes\":{\"active_drag\":\"auto\",\"active_inspect\":\"auto\",\"active_scroll\":\"auto\",\"active_tap\":\"auto\",\"tools\":[{\"id\":\"afa4f122-9a44-4030-9b9e-e7c865180c8d\",\"type\":\"PanTool\"},{\"id\":\"7f7ce767-7ce9-4306-b997-2b2dad747ce2\",\"type\":\"WheelZoomTool\"},{\"id\":\"3622edb6-997c-4611-822d-12f2522e662b\",\"type\":\"BoxZoomTool\"},{\"id\":\"2700f869-8bdc-46ca-9c84-bc9bbd24938e\",\"type\":\"SaveTool\"},{\"id\":\"e7f7ede5-0979-48e2-8e75-080c594469c7\",\"type\":\"ResetTool\"},{\"id\":\"47959a27-5200-4301-b971-d85b3abcd194\",\"type\":\"HelpTool\"}]},\"id\":\"94525499-105e-42c4-ae2d-485b9f121476\",\"type\":\"Toolbar\"},{\"attributes\":{\"dimension\":1,\"plot\":{\"id\":\"2c6d3416-1035-4f28-b226-01360f0ed605\",\"subtype\":\"Figure\",\"type\":\"Plot\"},\"ticker\":{\"id\":\"178f99ad-2dc2-4b8f-acd3-b5a3cfbe8cda\",\"type\":\"BasicTicker\"}},\"id\":\"e9f8e843-52c6-41f9-a6d4-c38657cab5b8\",\"type\":\"Grid\"},{\"attributes\":{},\"id\":\"67e576f0-0313-4962-967f-13d8632ca5a2\",\"type\":\"CategoricalTicker\"},{\"attributes\":{\"plot\":{\"id\":\"2c6d3416-1035-4f28-b226-01360f0ed605\",\"subtype\":\"Figure\",\"type\":\"Plot\"},\"ticker\":{\"id\":\"67e576f0-0313-4962-967f-13d8632ca5a2\",\"type\":\"CategoricalTicker\"}},\"id\":\"972c8dc4-5aaf-48a3-836b-007416321bbb\",\"type\":\"Grid\"},{\"attributes\":{\"callback\":null,\"factors\":[\"1\",\"2\",\"3\",\"4\",\"5\",\"6\",\"7\",\"8\",\"9\",\"10\",\"11\"]},\"id\":\"8306452a-9200-4286-a898-f9f08253e4cc\",\"type\":\"FactorRange\"},{\"attributes\":{},\"id\":\"cb8c9f16-0c68-47fd-b637-1e7a2467f3b6\",\"type\":\"CategoricalScale\"},{\"attributes\":{\"fill_color\":{\"value\":\"#1f77b4\"},\"line_color\":{\"value\":\"#1f77b4\"},\"top\":{\"field\":\"flux\"},\"width\":{\"value\":0.9},\"x\":{\"field\":\"band\"}},\"id\":\"7d5cf1c0-3920-4117-8701-a311e313db0b\",\"type\":\"VBar\"},{\"attributes\":{\"axis_label\":\"spectral band\",\"formatter\":{\"id\":\"6d3de873-f92d-46b4-840a-2a8044a4a6d1\",\"type\":\"CategoricalTickFormatter\"},\"plot\":{\"id\":\"2c6d3416-1035-4f28-b226-01360f0ed605\",\"subtype\":\"Figure\",\"type\":\"Plot\"},\"ticker\":{\"id\":\"67e576f0-0313-4962-967f-13d8632ca5a2\",\"type\":\"CategoricalTicker\"}},\"id\":\"0a52199f-f5ba-4b63-92ec-a0cbe5f97930\",\"type\":\"CategoricalAxis\"},{\"attributes\":{\"fill_alpha\":{\"value\":0.1},\"fill_color\":{\"value\":\"#1f77b4\"},\"line_alpha\":{\"value\":0.1},\"line_color\":{\"value\":\"#1f77b4\"},\"top\":{\"field\":\"flux\"},\"width\":{\"value\":0.9},\"x\":{\"field\":\"band\"}},\"id\":\"34f709e4-0684-4cfb-9f47-3bf734964da0\",\"type\":\"VBar\"},{\"attributes\":{},\"id\":\"7f7ce767-7ce9-4306-b997-2b2dad747ce2\",\"type\":\"WheelZoomTool\"},{\"attributes\":{},\"id\":\"178f99ad-2dc2-4b8f-acd3-b5a3cfbe8cda\",\"type\":\"BasicTicker\"},{\"attributes\":{},\"id\":\"47959a27-5200-4301-b971-d85b3abcd194\",\"type\":\"HelpTool\"},{\"attributes\":{\"source\":{\"id\":\"c85657e8-f06a-48e0-958e-6a66d2e183dc\",\"type\":\"ColumnDataSource\"}},\"id\":\"14cf3328-ce20-4731-aeec-9b814ef8cdc0\",\"type\":\"CDSView\"},{\"attributes\":{\"children\":[{\"id\":\"2ce8d344-0e66-488d-be1e-111b30486b4b\",\"type\":\"ToolbarBox\"},{\"id\":\"299df566-f422-4611-95f2-79516c7b49a5\",\"type\":\"Column\"}]},\"id\":\"e92c7e32-3ba4-42eb-858b-e1c6c6cc5729\",\"type\":\"Column\"},{\"attributes\":{},\"id\":\"fc4c205f-4db5-4280-a559-39f2d953abd6\",\"type\":\"SaveTool\"},{\"attributes\":{},\"id\":\"2700f869-8bdc-46ca-9c84-bc9bbd24938e\",\"type\":\"SaveTool\"},{\"attributes\":{\"data_source\":{\"id\":\"17da55b4-9624-4b72-b3b4-320f8ca9dde4\",\"type\":\"ColumnDataSource\"},\"glyph\":{\"id\":\"7d5cf1c0-3920-4117-8701-a311e313db0b\",\"type\":\"VBar\"},\"hover_glyph\":null,\"muted_glyph\":null,\"nonselection_glyph\":{\"id\":\"34f709e4-0684-4cfb-9f47-3bf734964da0\",\"type\":\"VBar\"},\"selection_glyph\":null,\"view\":{\"id\":\"da7417a4-b3ed-4a3b-bd60-e71f91ed1434\",\"type\":\"CDSView\"}},\"id\":\"b0d060d3-7024-4349-92c3-93a71fff6e8f\",\"type\":\"GlyphRenderer\"},{\"attributes\":{\"callback\":null,\"data\":{\"band\":[\"1\",\"2\",\"3\",\"4\",\"5\",\"6\",\"7\",\"8\",\"9\",\"10\",\"11\"],\"flux\":{\"__ndarray__\":\"AEDdJAaBZb8Asg5HV+nAvyAq/1peueC/AAeY+Q5+tj+AoAVXL3XIP5BpRlBGprm/AILknUMZsD8gTuW8GC20vwApH4Kq0ZM/AJDEy9O5oj8AoYsCVKNtPw==\",\"dtype\":\"float64\",\"shape\":[11]}},\"selected\":{\"id\":\"7f7c40d4-4aa3-4929-9b82-853c912523f1\",\"type\":\"Selection\"},\"selection_policy\":{\"id\":\"ef811cc4-c8a4-41cb-97c2-ef68cbf65342\",\"type\":\"UnionRenderers\"}},\"id\":\"c85657e8-f06a-48e0-958e-6a66d2e183dc\",\"type\":\"ColumnDataSource\"},{\"attributes\":{},\"id\":\"e7f7ede5-0979-48e2-8e75-080c594469c7\",\"type\":\"ResetTool\"},{\"attributes\":{},\"id\":\"eabf4f67-1225-49c2-8a39-dd7f971b74ef\",\"type\":\"Selection\"},{\"attributes\":{\"axis_label\":\"flux (W m-2)\",\"formatter\":{\"id\":\"f21172ed-379e-493c-8ef1-979a9eb5fab3\",\"type\":\"BasicTickFormatter\"},\"plot\":{\"id\":\"99690456-eb87-4254-a6cf-5fbd4d9b36e0\",\"subtype\":\"Figure\",\"type\":\"Plot\"},\"ticker\":{\"id\":\"a16b6c30-5ee9-4831-a239-f8b6b8da6584\",\"type\":\"BasicTicker\"}},\"id\":\"4b5e25cb-244a-400f-bf92-7ccd93b76bd6\",\"type\":\"LinearAxis\"},{\"attributes\":{},\"id\":\"ef811cc4-c8a4-41cb-97c2-ef68cbf65342\",\"type\":\"UnionRenderers\"},{\"attributes\":{},\"id\":\"83616d52-d0fa-44b2-9fcf-4a7e4145ca5d\",\"type\":\"WheelZoomTool\"},{\"attributes\":{\"axis_label\":\"spectral band\",\"formatter\":{\"id\":\"7019e455-d5a7-42d2-a8b1-d5d755f0196e\",\"type\":\"CategoricalTickFormatter\"},\"plot\":{\"id\":\"02ee261a-cb83-42a9-bcaf-a41366a8a31d\",\"subtype\":\"Figure\",\"type\":\"Plot\"},\"ticker\":{\"id\":\"0070624a-c827-4855-b489-0bf2309357e6\",\"type\":\"CategoricalTicker\"}},\"id\":\"dc5b0dbb-ab9a-4713-b29a-37b466df0a7f\",\"type\":\"CategoricalAxis\"},{\"attributes\":{\"data_source\":{\"id\":\"bd9169b3-e1f1-490b-a69d-020a3a9a2889\",\"type\":\"ColumnDataSource\"},\"glyph\":{\"id\":\"87acef7e-5213-4d20-b827-e0d72527837c\",\"type\":\"VBar\"},\"hover_glyph\":null,\"muted_glyph\":null,\"nonselection_glyph\":{\"id\":\"f8dab167-12c5-49bc-af28-2a5760256676\",\"type\":\"VBar\"},\"selection_glyph\":null,\"view\":{\"id\":\"f97041c6-3ec1-46ea-aaff-4494eedd6d36\",\"type\":\"CDSView\"}},\"id\":\"d62b2371-a772-4fd7-a14d-02e03d1ace8d\",\"type\":\"GlyphRenderer\"},{\"attributes\":{\"callback\":null,\"factors\":[\"1\",\"2\",\"3\",\"4\",\"5\",\"6\",\"7\",\"8\",\"9\",\"10\",\"11\"]},\"id\":\"03f3b24c-bdb6-4b65-a32e-8c8ec2322b18\",\"type\":\"FactorRange\"},{\"attributes\":{},\"id\":\"9e8cf6ac-9ca0-4daf-b8c4-ffdeca39aeb5\",\"type\":\"BasicTickFormatter\"},{\"attributes\":{},\"id\":\"0070624a-c827-4855-b489-0bf2309357e6\",\"type\":\"CategoricalTicker\"},{\"attributes\":{\"plot\":null,\"text\":\"SFC flux. CLIRAD - CRD.\"},\"id\":\"3f12a592-adfc-428e-bb06-90ba26585958\",\"type\":\"Title\"},{\"attributes\":{\"dimension\":1,\"plot\":{\"id\":\"99690456-eb87-4254-a6cf-5fbd4d9b36e0\",\"subtype\":\"Figure\",\"type\":\"Plot\"},\"ticker\":{\"id\":\"a16b6c30-5ee9-4831-a239-f8b6b8da6584\",\"type\":\"BasicTicker\"}},\"id\":\"7fdb4129-6819-460e-ae76-1978404d17df\",\"type\":\"Grid\"},{\"attributes\":{},\"id\":\"d7053958-8249-4073-9fcc-79b84f16a188\",\"type\":\"CategoricalTickFormatter\"},{\"attributes\":{},\"id\":\"110a575b-d5a3-435f-905b-5720045bcadb\",\"type\":\"Selection\"},{\"attributes\":{\"children\":[{\"id\":\"2c6d3416-1035-4f28-b226-01360f0ed605\",\"subtype\":\"Figure\",\"type\":\"Plot\"},{\"id\":\"02ee261a-cb83-42a9-bcaf-a41366a8a31d\",\"subtype\":\"Figure\",\"type\":\"Plot\"},{\"id\":\"99690456-eb87-4254-a6cf-5fbd4d9b36e0\",\"subtype\":\"Figure\",\"type\":\"Plot\"}]},\"id\":\"2b1ea9df-c54a-4c6b-842a-a39af04c9a55\",\"type\":\"Row\"},{\"attributes\":{\"active_drag\":\"auto\",\"active_inspect\":\"auto\",\"active_scroll\":\"auto\",\"active_tap\":\"auto\",\"tools\":[{\"id\":\"8d24a669-b7b8-480d-8e21-75aee1cbcfe5\",\"type\":\"PanTool\"},{\"id\":\"e2863a6e-4226-416c-990c-259e4f0bbd2c\",\"type\":\"WheelZoomTool\"},{\"id\":\"50357a3e-77c7-480c-9122-798a85d88b65\",\"type\":\"BoxZoomTool\"},{\"id\":\"fc4c205f-4db5-4280-a559-39f2d953abd6\",\"type\":\"SaveTool\"},{\"id\":\"b2130eb3-123a-484f-be49-092c96f37089\",\"type\":\"ResetTool\"},{\"id\":\"19538316-9243-4e73-9310-c5a33e41e400\",\"type\":\"HelpTool\"}]},\"id\":\"1b228897-0a33-433c-a988-b0983e6093bc\",\"type\":\"Toolbar\"},{\"attributes\":{\"fill_alpha\":{\"value\":0.1},\"fill_color\":{\"value\":\"#1f77b4\"},\"line_alpha\":{\"value\":0.1},\"line_color\":{\"value\":\"#1f77b4\"},\"top\":{\"field\":\"flux\"},\"width\":{\"value\":0.9},\"x\":{\"field\":\"band\"}},\"id\":\"1d8c1b2a-e6ac-40b2-8bee-ec07cff82a2e\",\"type\":\"VBar\"},{\"attributes\":{},\"id\":\"a16b6c30-5ee9-4831-a239-f8b6b8da6584\",\"type\":\"BasicTicker\"},{\"attributes\":{},\"id\":\"41796ea7-9b7a-4a8f-92c1-7ccac98d99b4\",\"type\":\"PanTool\"},{\"attributes\":{\"tools\":[{\"id\":\"afa4f122-9a44-4030-9b9e-e7c865180c8d\",\"type\":\"PanTool\"},{\"id\":\"7f7ce767-7ce9-4306-b997-2b2dad747ce2\",\"type\":\"WheelZoomTool\"},{\"id\":\"3622edb6-997c-4611-822d-12f2522e662b\",\"type\":\"BoxZoomTool\"},{\"id\":\"2700f869-8bdc-46ca-9c84-bc9bbd24938e\",\"type\":\"SaveTool\"},{\"id\":\"e7f7ede5-0979-48e2-8e75-080c594469c7\",\"type\":\"ResetTool\"},{\"id\":\"47959a27-5200-4301-b971-d85b3abcd194\",\"type\":\"HelpTool\"},{\"id\":\"8d24a669-b7b8-480d-8e21-75aee1cbcfe5\",\"type\":\"PanTool\"},{\"id\":\"e2863a6e-4226-416c-990c-259e4f0bbd2c\",\"type\":\"WheelZoomTool\"},{\"id\":\"50357a3e-77c7-480c-9122-798a85d88b65\",\"type\":\"BoxZoomTool\"},{\"id\":\"fc4c205f-4db5-4280-a559-39f2d953abd6\",\"type\":\"SaveTool\"},{\"id\":\"b2130eb3-123a-484f-be49-092c96f37089\",\"type\":\"ResetTool\"},{\"id\":\"19538316-9243-4e73-9310-c5a33e41e400\",\"type\":\"HelpTool\"},{\"id\":\"41796ea7-9b7a-4a8f-92c1-7ccac98d99b4\",\"type\":\"PanTool\"},{\"id\":\"83616d52-d0fa-44b2-9fcf-4a7e4145ca5d\",\"type\":\"WheelZoomTool\"},{\"id\":\"046e7661-64df-4df9-a627-cb332901fe8f\",\"type\":\"BoxZoomTool\"},{\"id\":\"b72a160c-bc62-41e7-ab7a-b10f90f6f095\",\"type\":\"SaveTool\"},{\"id\":\"63f20d87-917f-4824-a1e9-61f3db447874\",\"type\":\"ResetTool\"},{\"id\":\"144f3aec-e12a-42c4-8377-3710343a41be\",\"type\":\"HelpTool\"}]},\"id\":\"3ed81990-8fbd-4695-9678-a46e97981687\",\"type\":\"ProxyToolbar\"},{\"attributes\":{\"fill_alpha\":{\"value\":0.1},\"fill_color\":{\"value\":\"#1f77b4\"},\"line_alpha\":{\"value\":0.1},\"line_color\":{\"value\":\"#1f77b4\"},\"top\":{\"field\":\"flux\"},\"width\":{\"value\":0.9},\"x\":{\"field\":\"band\"}},\"id\":\"f8dab167-12c5-49bc-af28-2a5760256676\",\"type\":\"VBar\"},{\"attributes\":{},\"id\":\"7f7c40d4-4aa3-4929-9b82-853c912523f1\",\"type\":\"Selection\"},{\"attributes\":{\"below\":[{\"id\":\"e9a471ae-ae7b-495c-b7c3-90948e2e4a2a\",\"type\":\"CategoricalAxis\"}],\"left\":[{\"id\":\"4b5e25cb-244a-400f-bf92-7ccd93b76bd6\",\"type\":\"LinearAxis\"}],\"plot_height\":300,\"plot_width\":300,\"renderers\":[{\"id\":\"e9a471ae-ae7b-495c-b7c3-90948e2e4a2a\",\"type\":\"CategoricalAxis\"},{\"id\":\"96ba9e9d-e3b2-4737-b4b4-6e0ffa9e85ab\",\"type\":\"Grid\"},{\"id\":\"4b5e25cb-244a-400f-bf92-7ccd93b76bd6\",\"type\":\"LinearAxis\"},{\"id\":\"7fdb4129-6819-460e-ae76-1978404d17df\",\"type\":\"Grid\"},{\"id\":\"73b70487-ea5c-4f02-a50c-a2bef68fcf27\",\"type\":\"BoxAnnotation\"},{\"id\":\"d62b2371-a772-4fd7-a14d-02e03d1ace8d\",\"type\":\"GlyphRenderer\"}],\"title\":{\"id\":\"f2ce1cd3-59f3-46ff-887d-7008accf192a\",\"type\":\"Title\"},\"toolbar\":{\"id\":\"1ece6705-7451-480b-93fb-0a76c06dc33c\",\"type\":\"Toolbar\"},\"toolbar_location\":null,\"x_range\":{\"id\":\"03f3b24c-bdb6-4b65-a32e-8c8ec2322b18\",\"type\":\"FactorRange\"},\"x_scale\":{\"id\":\"3f2807e6-4d92-4275-8f80-2ca3dfbcec4c\",\"type\":\"CategoricalScale\"},\"y_range\":{\"id\":\"7633ad0f-e1c3-439f-9124-616eed572c99\",\"type\":\"DataRange1d\"},\"y_scale\":{\"id\":\"de82ac4b-0445-421b-b41c-2b9ff6a5c1b7\",\"type\":\"LinearScale\"}},\"id\":\"99690456-eb87-4254-a6cf-5fbd4d9b36e0\",\"subtype\":\"Figure\",\"type\":\"Plot\"},{\"attributes\":{\"bottom_units\":\"screen\",\"fill_alpha\":{\"value\":0.5},\"fill_color\":{\"value\":\"lightgrey\"},\"left_units\":\"screen\",\"level\":\"overlay\",\"line_alpha\":{\"value\":1.0},\"line_color\":{\"value\":\"black\"},\"line_dash\":[4,4],\"line_width\":{\"value\":2},\"plot\":null,\"render_mode\":\"css\",\"right_units\":\"screen\",\"top_units\":\"screen\"},\"id\":\"0c502b24-3e5a-46c6-b913-9f477051d3be\",\"type\":\"BoxAnnotation\"},{\"attributes\":{\"bottom_units\":\"screen\",\"fill_alpha\":{\"value\":0.5},\"fill_color\":{\"value\":\"lightgrey\"},\"left_units\":\"screen\",\"level\":\"overlay\",\"line_alpha\":{\"value\":1.0},\"line_color\":{\"value\":\"black\"},\"line_dash\":[4,4],\"line_width\":{\"value\":2},\"plot\":null,\"render_mode\":\"css\",\"right_units\":\"screen\",\"top_units\":\"screen\"},\"id\":\"73b70487-ea5c-4f02-a50c-a2bef68fcf27\",\"type\":\"BoxAnnotation\"},{\"attributes\":{\"below\":[{\"id\":\"dc5b0dbb-ab9a-4713-b29a-37b466df0a7f\",\"type\":\"CategoricalAxis\"}],\"left\":[{\"id\":\"80c534c4-24f7-456a-ba2d-7049c23c4ae5\",\"type\":\"LinearAxis\"}],\"plot_height\":300,\"plot_width\":300,\"renderers\":[{\"id\":\"dc5b0dbb-ab9a-4713-b29a-37b466df0a7f\",\"type\":\"CategoricalAxis\"},{\"id\":\"1d2b27d3-17bc-4675-a259-5d65c5c2b324\",\"type\":\"Grid\"},{\"id\":\"80c534c4-24f7-456a-ba2d-7049c23c4ae5\",\"type\":\"LinearAxis\"},{\"id\":\"3420a3e3-d4a7-4e68-8241-9bf48a8c52d9\",\"type\":\"Grid\"},{\"id\":\"47c7d07d-3da3-4c29-b8cc-5a071b2c30b1\",\"type\":\"BoxAnnotation\"},{\"id\":\"2d01d8a5-175e-482a-95e6-32c6e671d323\",\"type\":\"GlyphRenderer\"}],\"title\":{\"id\":\"3f12a592-adfc-428e-bb06-90ba26585958\",\"type\":\"Title\"},\"toolbar\":{\"id\":\"1b228897-0a33-433c-a988-b0983e6093bc\",\"type\":\"Toolbar\"},\"toolbar_location\":null,\"x_range\":{\"id\":\"dc3b9153-489e-4f9a-942d-739736eb94a7\",\"type\":\"FactorRange\"},\"x_scale\":{\"id\":\"4c5e2237-edb3-4bd0-b9c5-45e534e8db6e\",\"type\":\"CategoricalScale\"},\"y_range\":{\"id\":\"22b63455-0d9d-432e-99e8-281aab0ea941\",\"type\":\"DataRange1d\"},\"y_scale\":{\"id\":\"80e6820f-fc3f-4498-be6a-e8520b682670\",\"type\":\"LinearScale\"}},\"id\":\"02ee261a-cb83-42a9-bcaf-a41366a8a31d\",\"subtype\":\"Figure\",\"type\":\"Plot\"},{\"attributes\":{\"fill_color\":{\"value\":\"#1f77b4\"},\"line_color\":{\"value\":\"#1f77b4\"},\"top\":{\"field\":\"flux\"},\"width\":{\"value\":0.9},\"x\":{\"field\":\"band\"}},\"id\":\"972b0d0f-26c9-4121-a297-085776fc77f8\",\"type\":\"VBar\"},{\"attributes\":{\"source\":{\"id\":\"17da55b4-9624-4b72-b3b4-320f8ca9dde4\",\"type\":\"ColumnDataSource\"}},\"id\":\"da7417a4-b3ed-4a3b-bd60-e71f91ed1434\",\"type\":\"CDSView\"},{\"attributes\":{},\"id\":\"7019e455-d5a7-42d2-a8b1-d5d755f0196e\",\"type\":\"CategoricalTickFormatter\"},{\"attributes\":{\"children\":[{\"id\":\"2b1ea9df-c54a-4c6b-842a-a39af04c9a55\",\"type\":\"Row\"}]},\"id\":\"299df566-f422-4611-95f2-79516c7b49a5\",\"type\":\"Column\"},{\"attributes\":{\"plot\":{\"id\":\"02ee261a-cb83-42a9-bcaf-a41366a8a31d\",\"subtype\":\"Figure\",\"type\":\"Plot\"},\"ticker\":{\"id\":\"0070624a-c827-4855-b489-0bf2309357e6\",\"type\":\"CategoricalTicker\"}},\"id\":\"1d2b27d3-17bc-4675-a259-5d65c5c2b324\",\"type\":\"Grid\"},{\"attributes\":{},\"id\":\"b2130eb3-123a-484f-be49-092c96f37089\",\"type\":\"ResetTool\"},{\"attributes\":{\"axis_label\":\"spectral band\",\"formatter\":{\"id\":\"d7053958-8249-4073-9fcc-79b84f16a188\",\"type\":\"CategoricalTickFormatter\"},\"plot\":{\"id\":\"99690456-eb87-4254-a6cf-5fbd4d9b36e0\",\"subtype\":\"Figure\",\"type\":\"Plot\"},\"ticker\":{\"id\":\"ee9b9803-d05f-446c-8261-5a35c95c116c\",\"type\":\"CategoricalTicker\"}},\"id\":\"e9a471ae-ae7b-495c-b7c3-90948e2e4a2a\",\"type\":\"CategoricalAxis\"},{\"attributes\":{},\"id\":\"80e6820f-fc3f-4498-be6a-e8520b682670\",\"type\":\"LinearScale\"},{\"attributes\":{\"active_drag\":\"auto\",\"active_inspect\":\"auto\",\"active_scroll\":\"auto\",\"active_tap\":\"auto\",\"tools\":[{\"id\":\"41796ea7-9b7a-4a8f-92c1-7ccac98d99b4\",\"type\":\"PanTool\"},{\"id\":\"83616d52-d0fa-44b2-9fcf-4a7e4145ca5d\",\"type\":\"WheelZoomTool\"},{\"id\":\"046e7661-64df-4df9-a627-cb332901fe8f\",\"type\":\"BoxZoomTool\"},{\"id\":\"b72a160c-bc62-41e7-ab7a-b10f90f6f095\",\"type\":\"SaveTool\"},{\"id\":\"63f20d87-917f-4824-a1e9-61f3db447874\",\"type\":\"ResetTool\"},{\"id\":\"144f3aec-e12a-42c4-8377-3710343a41be\",\"type\":\"HelpTool\"}]},\"id\":\"1ece6705-7451-480b-93fb-0a76c06dc33c\",\"type\":\"Toolbar\"},{\"attributes\":{},\"id\":\"9d2c8ea7-ebe4-4b23-961a-f72a3e6386aa\",\"type\":\"UnionRenderers\"},{\"attributes\":{\"toolbar\":{\"id\":\"3ed81990-8fbd-4695-9678-a46e97981687\",\"type\":\"ProxyToolbar\"},\"toolbar_location\":\"above\"},\"id\":\"2ce8d344-0e66-488d-be1e-111b30486b4b\",\"type\":\"ToolbarBox\"},{\"attributes\":{\"axis_label\":\"flux (W m-2)\",\"formatter\":{\"id\":\"9e8cf6ac-9ca0-4daf-b8c4-ffdeca39aeb5\",\"type\":\"BasicTickFormatter\"},\"plot\":{\"id\":\"02ee261a-cb83-42a9-bcaf-a41366a8a31d\",\"subtype\":\"Figure\",\"type\":\"Plot\"},\"ticker\":{\"id\":\"00162131-a048-454d-b657-c04aa9c46209\",\"type\":\"BasicTicker\"}},\"id\":\"80c534c4-24f7-456a-ba2d-7049c23c4ae5\",\"type\":\"LinearAxis\"},{\"attributes\":{\"callback\":null,\"factors\":[\"1\",\"2\",\"3\",\"4\",\"5\",\"6\",\"7\",\"8\",\"9\",\"10\",\"11\"]},\"id\":\"dc3b9153-489e-4f9a-942d-739736eb94a7\",\"type\":\"FactorRange\"},{\"attributes\":{\"plot\":null,\"text\":\"Atmosphere heating. CLIRAD - CRD.\"},\"id\":\"f2ce1cd3-59f3-46ff-887d-7008accf192a\",\"type\":\"Title\"},{\"attributes\":{},\"id\":\"00162131-a048-454d-b657-c04aa9c46209\",\"type\":\"BasicTicker\"},{\"attributes\":{},\"id\":\"4c5e2237-edb3-4bd0-b9c5-45e534e8db6e\",\"type\":\"CategoricalScale\"},{\"attributes\":{\"fill_color\":{\"value\":\"#1f77b4\"},\"line_color\":{\"value\":\"#1f77b4\"},\"top\":{\"field\":\"flux\"},\"width\":{\"value\":0.9},\"x\":{\"field\":\"band\"}},\"id\":\"87acef7e-5213-4d20-b827-e0d72527837c\",\"type\":\"VBar\"},{\"attributes\":{\"dimension\":1,\"plot\":{\"id\":\"02ee261a-cb83-42a9-bcaf-a41366a8a31d\",\"subtype\":\"Figure\",\"type\":\"Plot\"},\"ticker\":{\"id\":\"00162131-a048-454d-b657-c04aa9c46209\",\"type\":\"BasicTicker\"}},\"id\":\"3420a3e3-d4a7-4e68-8241-9bf48a8c52d9\",\"type\":\"Grid\"},{\"attributes\":{\"source\":{\"id\":\"bd9169b3-e1f1-490b-a69d-020a3a9a2889\",\"type\":\"ColumnDataSource\"}},\"id\":\"f97041c6-3ec1-46ea-aaff-4494eedd6d36\",\"type\":\"CDSView\"},{\"attributes\":{},\"id\":\"63f20d87-917f-4824-a1e9-61f3db447874\",\"type\":\"ResetTool\"},{\"attributes\":{},\"id\":\"efc83b25-ea91-4df5-b73d-3d75c17852d8\",\"type\":\"UnionRenderers\"},{\"attributes\":{},\"id\":\"3f2807e6-4d92-4275-8f80-2ca3dfbcec4c\",\"type\":\"CategoricalScale\"},{\"attributes\":{\"overlay\":{\"id\":\"0c502b24-3e5a-46c6-b913-9f477051d3be\",\"type\":\"BoxAnnotation\"}},\"id\":\"3622edb6-997c-4611-822d-12f2522e662b\",\"type\":\"BoxZoomTool\"},{\"attributes\":{\"callback\":null},\"id\":\"22b63455-0d9d-432e-99e8-281aab0ea941\",\"type\":\"DataRange1d\"},{\"attributes\":{},\"id\":\"627277b7-bcd4-4f74-90b9-4061b52b0b02\",\"type\":\"BasicTickFormatter\"},{\"attributes\":{\"callback\":null,\"data\":{\"band\":[\"1\",\"2\",\"3\",\"4\",\"5\",\"6\",\"7\",\"8\",\"9\",\"10\",\"11\"],\"flux\":{\"__ndarray__\":\"AEIA0xaVxz8AmszTFFzKP6DtqeaDr9w/gKZD7rwpxj8ACKbk5mW4vwDq6Lga2bU/QL99HThnzD+AUnx8QnawPwCJRWf0/oo/gPCZrTtkpb8AT6VNchOPPw==\",\"dtype\":\"float64\",\"shape\":[11]}},\"selected\":{\"id\":\"110a575b-d5a3-435f-905b-5720045bcadb\",\"type\":\"Selection\"},\"selection_policy\":{\"id\":\"efc83b25-ea91-4df5-b73d-3d75c17852d8\",\"type\":\"UnionRenderers\"}},\"id\":\"bd9169b3-e1f1-490b-a69d-020a3a9a2889\",\"type\":\"ColumnDataSource\"},{\"attributes\":{},\"id\":\"ee9b9803-d05f-446c-8261-5a35c95c116c\",\"type\":\"CategoricalTicker\"},{\"attributes\":{\"callback\":null},\"id\":\"7633ad0f-e1c3-439f-9124-616eed572c99\",\"type\":\"DataRange1d\"},{\"attributes\":{},\"id\":\"afa4f122-9a44-4030-9b9e-e7c865180c8d\",\"type\":\"PanTool\"},{\"attributes\":{},\"id\":\"de82ac4b-0445-421b-b41c-2b9ff6a5c1b7\",\"type\":\"LinearScale\"},{\"attributes\":{},\"id\":\"f21172ed-379e-493c-8ef1-979a9eb5fab3\",\"type\":\"BasicTickFormatter\"},{\"attributes\":{\"bottom_units\":\"screen\",\"fill_alpha\":{\"value\":0.5},\"fill_color\":{\"value\":\"lightgrey\"},\"left_units\":\"screen\",\"level\":\"overlay\",\"line_alpha\":{\"value\":1.0},\"line_color\":{\"value\":\"black\"},\"line_dash\":[4,4],\"line_width\":{\"value\":2},\"plot\":null,\"render_mode\":\"css\",\"right_units\":\"screen\",\"top_units\":\"screen\"},\"id\":\"47c7d07d-3da3-4c29-b8cc-5a071b2c30b1\",\"type\":\"BoxAnnotation\"},{\"attributes\":{},\"id\":\"b72a160c-bc62-41e7-ab7a-b10f90f6f095\",\"type\":\"SaveTool\"},{\"attributes\":{},\"id\":\"19538316-9243-4e73-9310-c5a33e41e400\",\"type\":\"HelpTool\"},{\"attributes\":{},\"id\":\"144f3aec-e12a-42c4-8377-3710343a41be\",\"type\":\"HelpTool\"},{\"attributes\":{\"overlay\":{\"id\":\"73b70487-ea5c-4f02-a50c-a2bef68fcf27\",\"type\":\"BoxAnnotation\"}},\"id\":\"046e7661-64df-4df9-a627-cb332901fe8f\",\"type\":\"BoxZoomTool\"},{\"attributes\":{\"plot\":{\"id\":\"99690456-eb87-4254-a6cf-5fbd4d9b36e0\",\"subtype\":\"Figure\",\"type\":\"Plot\"},\"ticker\":{\"id\":\"ee9b9803-d05f-446c-8261-5a35c95c116c\",\"type\":\"CategoricalTicker\"}},\"id\":\"96ba9e9d-e3b2-4737-b4b4-6e0ffa9e85ab\",\"type\":\"Grid\"},{\"attributes\":{},\"id\":\"6d3de873-f92d-46b4-840a-2a8044a4a6d1\",\"type\":\"CategoricalTickFormatter\"}],\"root_ids\":[\"e92c7e32-3ba4-42eb-858b-e1c6c6cc5729\"]},\"title\":\"Bokeh Application\",\"version\":\"0.12.16\"}};\n",
       "  var render_items = [{\"docid\":\"9db06d0a-311c-4757-8411-a8489140ef9c\",\"elementid\":\"9de7155b-052c-48c9-933d-3912f4ca325e\",\"modelid\":\"e92c7e32-3ba4-42eb-858b-e1c6c6cc5729\"}];\n",
       "  root.Bokeh.embed.embed_items_notebook(docs_json, render_items);\n",
       "\n",
       "  }\n",
       "  if (root.Bokeh !== undefined) {\n",
       "    embed_document(root);\n",
       "  } else {\n",
       "    var attempts = 0;\n",
       "    var timer = setInterval(function(root) {\n",
       "      if (root.Bokeh !== undefined) {\n",
       "        embed_document(root);\n",
       "        clearInterval(timer);\n",
       "      }\n",
       "      attempts++;\n",
       "      if (attempts > 100) {\n",
       "        console.log(\"Bokeh: ERROR: Unable to run BokehJS code because BokehJS library is missing\")\n",
       "        clearInterval(timer);\n",
       "      }\n",
       "    }, 10, root)\n",
       "  }\n",
       "})(window);"
      ],
      "application/vnd.bokehjs_exec.v0+json": ""
     },
     "metadata": {
      "application/vnd.bokehjs_exec.v0+json": {
       "id": "e92c7e32-3ba4-42eb-858b-e1c6c6cc5729"
      }
     },
     "output_type": "display_data"
    },
    {
     "data": {
      "text/markdown": [
       "*FIGURE.* Difference between CLIRAD and CRD in TOA, SFC and net atmosphere flux, in each spectral band."
      ],
      "text/plain": [
       "<IPython.core.display.Markdown object>"
      ]
     },
     "metadata": {},
     "output_type": "display_data"
    },
    {
     "data": {
      "text/html": [
       "<div>\n",
       "<style scoped>\n",
       "    .dataframe tbody tr th:only-of-type {\n",
       "        vertical-align: middle;\n",
       "    }\n",
       "\n",
       "    .dataframe tbody tr th {\n",
       "        vertical-align: top;\n",
       "    }\n",
       "\n",
       "    .dataframe thead th {\n",
       "        text-align: right;\n",
       "    }\n",
       "</style>\n",
       "<table border=\"1\" class=\"dataframe\">\n",
       "  <thead>\n",
       "    <tr style=\"text-align: right;\">\n",
       "      <th></th>\n",
       "      <th>OLR flux</th>\n",
       "      <th>SFC flux</th>\n",
       "      <th>ATM heating</th>\n",
       "    </tr>\n",
       "    <tr>\n",
       "      <th>Sum over bands</th>\n",
       "      <th></th>\n",
       "      <th></th>\n",
       "      <th></th>\n",
       "    </tr>\n",
       "  </thead>\n",
       "  <tbody>\n",
       "    <tr>\n",
       "      <th>CLIRAD - CRD</th>\n",
       "      <td>0.84</td>\n",
       "      <td>-0.44</td>\n",
       "      <td>1.27</td>\n",
       "    </tr>\n",
       "    <tr>\n",
       "      <th>CRD</th>\n",
       "      <td>-201.06</td>\n",
       "      <td>166.03</td>\n",
       "      <td>-119.67</td>\n",
       "    </tr>\n",
       "  </tbody>\n",
       "</table>\n",
       "</div>"
      ],
      "text/plain": [
       "                OLR flux  SFC flux  ATM heating\n",
       "Sum over bands                                 \n",
       "CLIRAD - CRD        0.84     -0.44         1.27\n",
       "CRD              -201.06    166.03      -119.67"
      ]
     },
     "metadata": {},
     "output_type": "display_data"
    },
    {
     "data": {
      "text/markdown": [
       "*TABLE.* Difference between CLIRAD and CRD in TOA, SFC and net atmosphere flux, over all spectral bands. CRD's TOA, SFC and net atmosphere flux, over all spectral bands."
      ],
      "text/plain": [
       "<IPython.core.display.Markdown object>"
      ]
     },
     "metadata": {},
     "output_type": "display_data"
    },
    {
     "data": {
      "text/html": [
       "<a id=\"Cooling_rates._trp.\"></a>"
      ],
      "text/plain": [
       "<IPython.core.display.HTML object>"
      ]
     },
     "metadata": {},
     "output_type": "display_data"
    },
    {
     "data": {
      "text/markdown": [
       "# Cooling rates. trp."
      ],
      "text/plain": [
       "<IPython.core.display.Markdown object>"
      ]
     },
     "metadata": {},
     "output_type": "display_data"
    },
    {
     "data": {
      "text/html": [
       "\n",
       "<div class=\"bk-root\">\n",
       "    <div class=\"bk-plotdiv\" id=\"15d74e9e-37c3-47c1-a76f-0490de6d9648\"></div>\n",
       "</div>"
      ]
     },
     "metadata": {},
     "output_type": "display_data"
    },
    {
     "data": {
      "application/javascript": [
       "(function(root) {\n",
       "  function embed_document(root) {\n",
       "    \n",
       "  var docs_json = {\"d86676a8-5e3f-43a1-8f10-615a6985fb47\":{\"roots\":{\"references\":[{\"attributes\":{\"above\":[{\"id\":\"7252e962-9957-401e-a10c-990004bac5c4\",\"type\":\"Legend\"}],\"below\":[{\"id\":\"8ef5fef1-a8ea-4627-892c-a2a96411abc3\",\"type\":\"LinearAxis\"}],\"left\":[{\"id\":\"38a7f2ce-71c8-4efb-84d5-aaafc86ba190\",\"type\":\"LogAxis\"}],\"plot_width\":300,\"renderers\":[{\"id\":\"8ef5fef1-a8ea-4627-892c-a2a96411abc3\",\"type\":\"LinearAxis\"},{\"id\":\"0b95feb7-c100-4168-ba10-db926cd0c73b\",\"type\":\"Grid\"},{\"id\":\"38a7f2ce-71c8-4efb-84d5-aaafc86ba190\",\"type\":\"LogAxis\"},{\"id\":\"db033495-2de7-4e8f-91af-dcb3d9c13ae3\",\"type\":\"Grid\"},{\"id\":\"ffdd981a-2c96-463b-8230-691bc43130e5\",\"type\":\"BoxAnnotation\"},{\"id\":\"6bdcb221-44dd-452c-8760-f245baad816f\",\"type\":\"GlyphRenderer\"},{\"id\":\"ed27f47f-240c-4c40-8eb2-e9afe099c314\",\"type\":\"GlyphRenderer\"},{\"id\":\"bc46c28d-0a60-4c06-8114-545aedf5c780\",\"type\":\"GlyphRenderer\"},{\"id\":\"7252e962-9957-401e-a10c-990004bac5c4\",\"type\":\"Legend\"}],\"title\":{\"id\":\"005c8350-dc7e-468d-bb0b-5785f3905812\",\"type\":\"Title\"},\"toolbar\":{\"id\":\"4bf106db-3d4f-4251-8ab2-b1b178897333\",\"type\":\"Toolbar\"},\"toolbar_location\":null,\"x_range\":{\"id\":\"215620d5-4a7e-420a-9e51-3f5f4b9da76f\",\"type\":\"Range1d\"},\"x_scale\":{\"id\":\"a5349a42-2385-4a5c-9f59-c9412144d676\",\"type\":\"LinearScale\"},\"y_range\":{\"id\":\"cf6985e6-551d-4cc9-b1d2-9575fc03e806\",\"type\":\"Range1d\"},\"y_scale\":{\"id\":\"74a2f496-2a65-4e0d-9e64-5dd8c08db7cd\",\"type\":\"LogScale\"}},\"id\":\"be39ca3c-83e8-45a4-aa5c-438315a23849\",\"subtype\":\"Figure\",\"type\":\"Plot\"},{\"attributes\":{},\"id\":\"4710e6fc-ac67-4fba-8cb1-ab2b63039e9f\",\"type\":\"ResetTool\"},{\"attributes\":{},\"id\":\"ffadd7d8-479d-4609-a181-e2fba01f37f7\",\"type\":\"WheelZoomTool\"},{\"attributes\":{\"line_alpha\":0.6,\"line_color\":\"#e41a1c\",\"line_dash\":[6],\"line_width\":5,\"x\":{\"field\":\"x\"},\"y\":{\"field\":\"y\"}},\"id\":\"e0714519-d6a5-4659-830e-1d36b9bd33a3\",\"type\":\"Line\"},{\"attributes\":{},\"id\":\"2227d1a9-9729-46f9-b5e4-e1f837879b1d\",\"type\":\"PanTool\"},{\"attributes\":{\"line_alpha\":0.1,\"line_color\":\"#1f77b4\",\"line_width\":1.5,\"x\":{\"field\":\"x\"},\"y\":{\"field\":\"y\"}},\"id\":\"51f53009-25c9-45f0-8f4c-02ebd8ea209e\",\"type\":\"Line\"},{\"attributes\":{\"source\":{\"id\":\"03736add-8143-47fc-a65a-e4c13966a313\",\"type\":\"ColumnDataSource\"}},\"id\":\"9521bda4-3284-437e-b00d-3abe98b66417\",\"type\":\"CDSView\"},{\"attributes\":{\"data_source\":{\"id\":\"03736add-8143-47fc-a65a-e4c13966a313\",\"type\":\"ColumnDataSource\"},\"glyph\":{\"id\":\"e0714519-d6a5-4659-830e-1d36b9bd33a3\",\"type\":\"Line\"},\"hover_glyph\":null,\"muted_glyph\":null,\"nonselection_glyph\":{\"id\":\"33e91383-21de-4aa6-982e-e85ad5c447db\",\"type\":\"Line\"},\"selection_glyph\":null,\"view\":{\"id\":\"9521bda4-3284-437e-b00d-3abe98b66417\",\"type\":\"CDSView\"}},\"id\":\"6bdcb221-44dd-452c-8760-f245baad816f\",\"type\":\"GlyphRenderer\"},{\"attributes\":{\"fill_alpha\":{\"value\":0.1},\"fill_color\":{\"value\":\"#1f77b4\"},\"line_alpha\":{\"value\":0.1},\"line_color\":{\"value\":\"#1f77b4\"},\"x\":{\"field\":\"x\"},\"y\":{\"field\":\"y\"}},\"id\":\"3e978f0c-c4cd-4793-b68b-94bc025d8364\",\"type\":\"Circle\"},{\"attributes\":{\"data_source\":{\"id\":\"38048a17-c6a1-4e4c-8e83-edbe8512e0f9\",\"type\":\"ColumnDataSource\"},\"glyph\":{\"id\":\"d5a5cd82-0e99-4345-af31-e777a5da3bf2\",\"type\":\"Line\"},\"hover_glyph\":null,\"muted_glyph\":null,\"nonselection_glyph\":{\"id\":\"51f53009-25c9-45f0-8f4c-02ebd8ea209e\",\"type\":\"Line\"},\"selection_glyph\":null,\"view\":{\"id\":\"ee959a34-9b24-4fc4-9113-b46e17296386\",\"type\":\"CDSView\"}},\"id\":\"bc46c28d-0a60-4c06-8114-545aedf5c780\",\"type\":\"GlyphRenderer\"},{\"attributes\":{\"line_color\":\"#4daf4a\",\"line_width\":1.5,\"x\":{\"field\":\"x\"},\"y\":{\"field\":\"y\"}},\"id\":\"d5a5cd82-0e99-4345-af31-e777a5da3bf2\",\"type\":\"Line\"},{\"attributes\":{},\"id\":\"0da1b1b7-7732-47f3-b5ab-d2b2083267c9\",\"type\":\"SaveTool\"},{\"attributes\":{\"callback\":null,\"data\":{\"x\":{\"__ndarray__\":\"R/KIaN7AVEClCeJMyPNGQOvRhpxr30JAptxzhxx4PkA7SssMElA4QK6Bp3CyUDNAsVXpjES9LkBFhUV0+5coQMHYwqbbySNA6f09nM3nH0CaSd/3eYoZQDmgiAOW8BNAPYqARh3eDEBkm4vCgvr+P9D+5tWhQfY/P8DwKRnSAkBq38kb17ILQDT7IWuSsxFAUr2Rjm0FFkAinq3s9XgbQGCHwtYcqSFAG64kT303J0C7dRDneyooQD9JYrbK8yRA9S3bneHhIUAIymSuUMMcQIkHLe6VEBdAAau3cITREkA6CiNvkQIPQJU39ki7IQlAaAvwok1UA0BXLQiS4+L7P0xzDpJ2hPI/NNuPGMbJ5z91mUVYxqfSPxqwUPSxZca/G11peifD3L8QzNj5t2jTvwzOozTL360/SPJ4VI1VzD9KJ0nXEIncP8yDdlvHt+4/Et49nYLW9z++2teD4Jn+P+568eH/bwFALf5D9lmAAkCiZAicVOkCQPPT4jNKxwJAOjp3wTzBAUBSQsKNGisBQG4OmjqJwQBAJ3sZoHFuAEA5Ar0Sdi0AQGy4rw5+9f8/7W4nSrC3/z8mPr8zj4T/P4UYRHCQS/8/embVKYcF/z+5YXG+LLP+P/qb8BVUgf4/KvafTtyO/j/avAK1Ppv+PwJV9VVm2P0/JFtYlU/n/D9sN+q2fiX6Pw44e41PNPc/Opt+Z/wN9T+x3vcSW1vzP9ofvWQJlvI/8sciQQBW8j80sfkQa17yPzg5qng2r/I/Oh14WJBh8z+VZjnpctj0P6CcrSuCqQBA\",\"dtype\":\"float64\",\"shape\":[75]},\"y\":{\"__ndarray__\":\"GhExyth1ND/Sv8nbtpRIP2vylNV0PVE/aTum7souWD/At0SJ8fVgPw3Iuahxymc/MSNhhJWvcD/bTfBN02d3P2zb5nxnaoA/CD5h5MAGhz8NmeH1TyaQP+zrCsc9p5Y/LbKd76fGnz/bLW5ISEmmPww9YvTcQq8/JV2OstnstT8Er5Y7M8G+P0c+r3jqkcU/5h99k6ZBzj88bCIzFzjVP4enV8oyxN0//yH99nXg5D8qOpLLf0jtP5kqGJXUifQ/c9cS8kHP/D+/DpwzojQEQIEmwoanVwxA4lgXt9HgE0BSSZ2AJuIbQAMJih9jjiNA5q4l5INuK0AwTKYKRj0zQNv5fmq8/DpAaCJseHrtQkB/+zpwzoxKQM3MzMzMeFJAZmZmZmZqWEAAAAAAAFxeQM3MzMzMJmJAmpmZmZkfZUBmZmZmZhhoQDMzMzMzEWtAAAAAAAAKbkBmZmZmZoFwQM3MzMzM/XFAMzMzMzN6c0CamZmZmfZ0QAAAAAAAc3ZAZmZmZmbvd0DNzMzMzGt5QDMzMzMz6HpAmpmZmZlkfEAAAAAAAOF9QGZmZmZmXX9AZmZmZuZsgECamZmZGSuBQM3MzMxM6YFAAAAAAICngkAzMzMzs2WDQGZmZmbmI4RAmpmZmRnihEDNzMzMTKCFQAAAAACAXoZAMzMzM7Mch0BmZmZm5tqHQJqZmZkZmYhAzczMzExXiUAAAAAAgBWKQDMzMzOz04pAZmZmZuaRi0CamZmZGVCMQM3MzMxMDo1AAAAAAIDMjUAzMzMzs4qOQGZmZmbmSI9A\",\"dtype\":\"float64\",\"shape\":[75]}},\"selected\":{\"id\":\"0266cdaf-6a9f-4649-bfeb-b5cfb9ced866\",\"type\":\"Selection\"},\"selection_policy\":{\"id\":\"f57105c2-8c4c-49b0-ac05-3611f7f171f4\",\"type\":\"UnionRenderers\"}},\"id\":\"82c2e55a-0e9a-48e3-8a21-bf013dc119b7\",\"type\":\"ColumnDataSource\"},{\"attributes\":{\"overlay\":{\"id\":\"2b61da96-60bc-4716-ad75-0ca07b91a342\",\"type\":\"BoxAnnotation\"}},\"id\":\"07a8412e-2621-43b2-90cf-f03651acca68\",\"type\":\"BoxZoomTool\"},{\"attributes\":{\"data_source\":{\"id\":\"82c2e55a-0e9a-48e3-8a21-bf013dc119b7\",\"type\":\"ColumnDataSource\"},\"glyph\":{\"id\":\"24383112-1ada-45a0-a829-a91427fec23e\",\"type\":\"Circle\"},\"hover_glyph\":null,\"muted_glyph\":null,\"nonselection_glyph\":{\"id\":\"3e978f0c-c4cd-4793-b68b-94bc025d8364\",\"type\":\"Circle\"},\"selection_glyph\":null,\"view\":{\"id\":\"1134a728-aa74-4c94-810f-ba738798a021\",\"type\":\"CDSView\"}},\"id\":\"ed27f47f-240c-4c40-8eb2-e9afe099c314\",\"type\":\"GlyphRenderer\"},{\"attributes\":{\"source\":{\"id\":\"82c2e55a-0e9a-48e3-8a21-bf013dc119b7\",\"type\":\"ColumnDataSource\"}},\"id\":\"1134a728-aa74-4c94-810f-ba738798a021\",\"type\":\"CDSView\"},{\"attributes\":{\"line_alpha\":0.1,\"line_color\":\"#1f77b4\",\"line_dash\":[6],\"line_width\":5,\"x\":{\"field\":\"x\"},\"y\":{\"field\":\"y\"}},\"id\":\"33e91383-21de-4aa6-982e-e85ad5c447db\",\"type\":\"Line\"},{\"attributes\":{\"callback\":null,\"data\":{\"x\":{\"__ndarray__\":\"R/KIaN7AVEClCeJMyPNGQOvRhpxr30JAptxzhxx4PkA7SssMElA4QK6Bp3CyUDNAsVXpjES9LkBFhUV0+5coQMHYwqbbySNA6f09nM3nH0CaSd/3eYoZQDmgiAOW8BNAPYqARh3eDEBkm4vCgvr+P9D+5tWhQfY/P8DwKRnSAkBq38kb17ILQDT7IWuSsxFAUr2Rjm0FFkAinq3s9XgbQGCHwtYcqSFAG64kT303J0C7dRDneyooQD9JYrbK8yRA9S3bneHhIUAIymSuUMMcQIkHLe6VEBdAAau3cITREkA6CiNvkQIPQJU39ki7IQlAaAvwok1UA0BXLQiS4+L7P0xzDpJ2hPI/NNuPGMbJ5z91mUVYxqfSPxqwUPSxZca/G11peifD3L8QzNj5t2jTvwzOozTL360/SPJ4VI1VzD9KJ0nXEIncP8yDdlvHt+4/Et49nYLW9z++2teD4Jn+P+568eH/bwFALf5D9lmAAkCiZAicVOkCQPPT4jNKxwJAOjp3wTzBAUBSQsKNGisBQG4OmjqJwQBAJ3sZoHFuAEA5Ar0Sdi0AQGy4rw5+9f8/7W4nSrC3/z8mPr8zj4T/P4UYRHCQS/8/embVKYcF/z+5YXG+LLP+P/qb8BVUgf4/KvafTtyO/j/avAK1Ppv+PwJV9VVm2P0/JFtYlU/n/D9sN+q2fiX6Pw44e41PNPc/Opt+Z/wN9T+x3vcSW1vzP9ofvWQJlvI/8sciQQBW8j80sfkQa17yPzg5qng2r/I/Oh14WJBh8z+VZjnpctj0P6CcrSuCqQBA\",\"dtype\":\"float64\",\"shape\":[75]},\"y\":{\"__ndarray__\":\"GhExyth1ND/Sv8nbtpRIP2vylNV0PVE/aTum7souWD/At0SJ8fVgPw3Iuahxymc/MSNhhJWvcD/bTfBN02d3P2zb5nxnaoA/CD5h5MAGhz8NmeH1TyaQP+zrCsc9p5Y/LbKd76fGnz/bLW5ISEmmPww9YvTcQq8/JV2OstnstT8Er5Y7M8G+P0c+r3jqkcU/5h99k6ZBzj88bCIzFzjVP4enV8oyxN0//yH99nXg5D8qOpLLf0jtP5kqGJXUifQ/c9cS8kHP/D+/DpwzojQEQIEmwoanVwxA4lgXt9HgE0BSSZ2AJuIbQAMJih9jjiNA5q4l5INuK0AwTKYKRj0zQNv5fmq8/DpAaCJseHrtQkB/+zpwzoxKQM3MzMzMeFJAZmZmZmZqWEAAAAAAAFxeQM3MzMzMJmJAmpmZmZkfZUBmZmZmZhhoQDMzMzMzEWtAAAAAAAAKbkBmZmZmZoFwQM3MzMzM/XFAMzMzMzN6c0CamZmZmfZ0QAAAAAAAc3ZAZmZmZmbvd0DNzMzMzGt5QDMzMzMz6HpAmpmZmZlkfEAAAAAAAOF9QGZmZmZmXX9AZmZmZuZsgECamZmZGSuBQM3MzMxM6YFAAAAAAICngkAzMzMzs2WDQGZmZmbmI4RAmpmZmRnihEDNzMzMTKCFQAAAAACAXoZAMzMzM7Mch0BmZmZm5tqHQJqZmZkZmYhAzczMzExXiUAAAAAAgBWKQDMzMzOz04pAZmZmZuaRi0CamZmZGVCMQM3MzMxMDo1AAAAAAIDMjUAzMzMzs4qOQGZmZmbmSI9A\",\"dtype\":\"float64\",\"shape\":[75]}},\"selected\":{\"id\":\"4b059c8d-b398-4ca1-ba4d-7285db542709\",\"type\":\"Selection\"},\"selection_policy\":{\"id\":\"612ae90f-3fb2-4b51-a0e0-47abd5553917\",\"type\":\"UnionRenderers\"}},\"id\":\"38048a17-c6a1-4e4c-8e83-edbe8512e0f9\",\"type\":\"ColumnDataSource\"},{\"attributes\":{\"fill_alpha\":{\"value\":0.7},\"fill_color\":{\"value\":\"#4daf4a\"},\"line_alpha\":{\"value\":0.7},\"line_color\":{\"value\":\"#4daf4a\"},\"x\":{\"field\":\"x\"},\"y\":{\"field\":\"y\"}},\"id\":\"24383112-1ada-45a0-a829-a91427fec23e\",\"type\":\"Circle\"},{\"attributes\":{},\"id\":\"dd7f217e-680f-444e-9df8-8d464ff91e2c\",\"type\":\"Selection\"},{\"attributes\":{\"plot\":null,\"text\":\"\"},\"id\":\"6a549618-d50a-4037-9572-4cbe16ff9875\",\"type\":\"Title\"},{\"attributes\":{\"callback\":null,\"end\":0.01,\"start\":1020},\"id\":\"612b69b7-4ab5-4e1b-a17b-cfb393a5b41b\",\"type\":\"Range1d\"},{\"attributes\":{\"plot\":{\"id\":\"3475a10e-2e2c-49bc-99a1-00395129e081\",\"subtype\":\"Figure\",\"type\":\"Plot\"},\"ticker\":{\"id\":\"8e3598b4-db1e-42b1-a4c3-894687699bc3\",\"type\":\"BasicTicker\"}},\"id\":\"0397b437-52f9-4ff2-ba63-5b288c1b3320\",\"type\":\"Grid\"},{\"attributes\":{\"source\":{\"id\":\"3fb4965f-2846-4c52-b768-4a3e4ab56423\",\"type\":\"ColumnDataSource\"}},\"id\":\"c42f7f1e-c34e-46ed-a0ed-4779280e0554\",\"type\":\"CDSView\"},{\"attributes\":{},\"id\":\"b3adf927-e2fb-45cc-a41b-22d4e08b8560\",\"type\":\"UnionRenderers\"},{\"attributes\":{\"children\":[{\"id\":\"fdf0f53e-650d-4dca-a601-ad3f1a978620\",\"subtype\":\"Figure\",\"type\":\"Plot\"},{\"id\":\"be39ca3c-83e8-45a4-aa5c-438315a23849\",\"subtype\":\"Figure\",\"type\":\"Plot\"},{\"id\":\"3475a10e-2e2c-49bc-99a1-00395129e081\",\"subtype\":\"Figure\",\"type\":\"Plot\"}]},\"id\":\"5641a6c2-8c1a-4741-b22d-ef927764f3f0\",\"type\":\"Row\"},{\"attributes\":{},\"id\":\"f4476d9c-6fc2-406a-84ce-7434e7a10a68\",\"type\":\"LinearScale\"},{\"attributes\":{\"callback\":null,\"data\":{\"x\":{\"__ndarray__\":\"kqvVCTJORUDGAffSfaRCQKZGlip5ikFA97J5oPnxP0BpWYTf5No7QJb6Id3T/TZAiqH+Ub7KMUCmsxMqXOEpQI6YajptNyJARrXhqkqQGkBE1tPDojYVQF9iFZbmAxJAbdQs6laRDUAcdB/7HS4DQDvRX5uR5P4/y2y2qEyqBUCzBaFapEIMQOWVZ3WenBBA0YkiwEreE0DPd1h4+U4ZQAjGFy4yDCFAatAKeYICJ0D04E6UgxkoQEC/DUOxhCRAn18lXosnIUD7QoX/k1YcQPSHk447WRhAU2wxuVgsFED5P7dnUMcPQLfFhW3KOwlA6PGB1pQ7BUDr5jBtp3kAQJjeC/ImsfQ/ccSECtQK5j9hOcRca/7QP0Fi4X4oicG/Mvz69ZCS3r9DQqJOziHYv/xeZAHkLl+/BREikxhXxT+cVzL1Pa7YP+5RaEEju+w/dDqvLq269j/QmpqATNf9P0zLf2776wBASP2DFM+EAUAQ3Ba1bkcCQJG/sqCsTAJApzXVrJYWAUBCKjpTHoEAQKZl9AAuTwBAwIfEnQgvAEA51x+VNwQAQJqJEHiTnP8/aHetpUU//z+4ogNARAf/P2XvTC3CDf8/7dX/7T1C/z8V2M8r7WP/P2p2+7HrZP8/rng0HyFM/z86SWrWVvr+Pzx7O32V2P0/GLUKga3J/D8RXMwjxC/6P0jx3fnXm/c/xpmhoLTt9T/XDZf5Z370P9iagH0ExPM/ZXDy5ByV8z/xsAZwvq7zPyTMIHU1EfQ/kpsr7MoD9T+bLifMK7v2PzM/VYq/pwFA\",\"dtype\":\"float64\",\"shape\":[75]},\"y\":{\"__ndarray__\":\"S/O/Q+51ND/Sv8nbtpRIP2vylNV0PVE/aTum7souWD/At0SJ8fVgPw3Iuahxymc/MSNhhJWvcD/bTfBN02d3P2zb5nxnaoA/CD5h5MAGhz8NmeH1TyaQP+zrCsc9p5Y/LbKd76fGnz/bLW5ISEmmPww9YvTcQq8/JV2OstnstT8Er5Y7M8G+P0c+r3jqkcU/5h99k6ZBzj88bCIzFzjVP4enV8oyxN0//yH99nXg5D8qOpLLf0jtP5kqGJXUifQ/c9cS8kHP/D+/DpwzojQEQIEmwoanVwxA4lgXt9HgE0BSSZ2AJuIbQAMJih9jjiNA5q4l5INuK0AwTKYKRj0zQNv5fmq8/DpAaCJseHrtQkB/+zpwzoxKQM3MzMzMeFJAZmZmZmZqWEAAAAAAAFxeQM3MzMzMJmJAmpmZmZkfZUBmZmZmZhhoQDMzMzMzEWtAAAAAAAAKbkBmZmZmZoFwQM3MzMzM/XFAMzMzMzN6c0CamZmZmfZ0QAAAAAAAc3ZAZmZmZmbvd0DNzMzMzGt5QDMzMzMz6HpAmpmZmZlkfEAAAAAAAOF9QGZmZmZmXX9AZmZmZuZsgECamZmZGSuBQM3MzMxM6YFAAAAAAICngkAzMzMzs2WDQGZmZmbmI4RAmpmZmRnihEDNzMzMTKCFQAAAAACAXoZAMzMzM7Mch0BmZmZm5tqHQJqZmZkZmYhAzczMzExXiUAAAAAAgBWKQDMzMzOz04pAZmZmZuaRi0CamZmZGVCMQM3MzMxMDo1AAAAAAIDMjUAzMzMzs4qOQGZmZmbmSI9A\",\"dtype\":\"float64\",\"shape\":[75]}},\"selected\":{\"id\":\"16debde5-6b46-470f-b726-1a76610223d5\",\"type\":\"Selection\"},\"selection_policy\":{\"id\":\"a5bd8df9-11db-4284-99e4-319654d96a2a\",\"type\":\"UnionRenderers\"}},\"id\":\"03736add-8143-47fc-a65a-e4c13966a313\",\"type\":\"ColumnDataSource\"},{\"attributes\":{\"data_source\":{\"id\":\"5adafa9d-a2c1-4734-8a96-41eb06a916e6\",\"type\":\"ColumnDataSource\"},\"glyph\":{\"id\":\"182c28f2-694a-4344-a750-6d54a7b0cff7\",\"type\":\"Line\"},\"hover_glyph\":null,\"muted_glyph\":null,\"nonselection_glyph\":{\"id\":\"cc90f27c-e3a8-4baf-9e9c-9778c6e77029\",\"type\":\"Line\"},\"selection_glyph\":null,\"view\":{\"id\":\"6ed55820-a710-4174-a896-ca302e704885\",\"type\":\"CDSView\"}},\"id\":\"291bdb3d-b59d-46d4-8ca1-2c2bee948959\",\"type\":\"GlyphRenderer\"},{\"attributes\":{\"line_alpha\":0.1,\"line_color\":\"#1f77b4\",\"line_width\":1.5,\"x\":{\"field\":\"x\"},\"y\":{\"field\":\"y\"}},\"id\":\"aa32d730-3f02-43db-87e9-d945e2b44716\",\"type\":\"Line\"},{\"attributes\":{},\"id\":\"612ae90f-3fb2-4b51-a0e0-47abd5553917\",\"type\":\"UnionRenderers\"},{\"attributes\":{\"axis_label\":\"cooling rate [K/day]\",\"formatter\":{\"id\":\"25bc94c2-9f4e-4215-b00e-694ef8418a80\",\"type\":\"BasicTickFormatter\"},\"plot\":{\"id\":\"fdf0f53e-650d-4dca-a601-ad3f1a978620\",\"subtype\":\"Figure\",\"type\":\"Plot\"},\"ticker\":{\"id\":\"bc628db4-429a-4e36-8139-b3758bf04bd4\",\"type\":\"BasicTicker\"}},\"id\":\"a974415f-5123-4a19-9515-70f5047e793e\",\"type\":\"LinearAxis\"},{\"attributes\":{\"callback\":null,\"end\":0.01,\"start\":1020},\"id\":\"cf6985e6-551d-4cc9-b1d2-9575fc03e806\",\"type\":\"Range1d\"},{\"attributes\":{\"line_color\":\"#4daf4a\",\"line_width\":1.5,\"x\":{\"field\":\"x\"},\"y\":{\"field\":\"y\"}},\"id\":\"be141f8c-120c-47c1-817c-83248b7b539d\",\"type\":\"Line\"},{\"attributes\":{\"callback\":null,\"end\":0.55853184394948,\"start\":-1.3542128435934802},\"id\":\"4b0c5c22-43a4-4aeb-abca-853a56f186ce\",\"type\":\"Range1d\"},{\"attributes\":{\"num_minor_ticks\":10},\"id\":\"d3ec089e-23a7-400f-a22f-854f9207582c\",\"type\":\"LogTicker\"},{\"attributes\":{},\"id\":\"f5a81f56-1c84-48c8-9ecf-4fde373956c3\",\"type\":\"UnionRenderers\"},{\"attributes\":{\"items\":[{\"id\":\"2fc6faa8-ec00-4ec1-87a2-909eef303fe6\",\"type\":\"LegendItem\"},{\"id\":\"846b5e2c-e887-4a58-aff8-546117a01104\",\"type\":\"LegendItem\"}],\"label_text_font_size\":{\"value\":\"8pt\"},\"location\":\"top_center\",\"orientation\":\"horizontal\",\"plot\":{\"id\":\"fdf0f53e-650d-4dca-a601-ad3f1a978620\",\"subtype\":\"Figure\",\"type\":\"Plot\"}},\"id\":\"739f7d82-a490-469d-83be-6a708a1639b9\",\"type\":\"Legend\"},{\"attributes\":{\"callback\":null,\"data\":{\"x\":{\"__ndarray__\":\"R/KIaN7AVEClCeJMyPNGQOvRhpxr30JAptxzhxx4PkA7SssMElA4QK6Bp3CyUDNAsVXpjES9LkBFhUV0+5coQMHYwqbbySNA6f09nM3nH0CaSd/3eYoZQDmgiAOW8BNAPYqARh3eDEBkm4vCgvr+P9D+5tWhQfY/P8DwKRnSAkBq38kb17ILQDT7IWuSsxFAUr2Rjm0FFkAinq3s9XgbQGCHwtYcqSFAG64kT303J0C7dRDneyooQD9JYrbK8yRA9S3bneHhIUAIymSuUMMcQIkHLe6VEBdAAau3cITREkA6CiNvkQIPQJU39ki7IQlAaAvwok1UA0BXLQiS4+L7P0xzDpJ2hPI/NNuPGMbJ5z91mUVYxqfSPxqwUPSxZca/G11peifD3L8QzNj5t2jTvwzOozTL360/SPJ4VI1VzD9KJ0nXEIncP8yDdlvHt+4/Et49nYLW9z++2teD4Jn+P+568eH/bwFALf5D9lmAAkCiZAicVOkCQPPT4jNKxwJAOjp3wTzBAUBSQsKNGisBQG4OmjqJwQBAJ3sZoHFuAEA5Ar0Sdi0AQGy4rw5+9f8/7W4nSrC3/z8mPr8zj4T/P4UYRHCQS/8/embVKYcF/z+5YXG+LLP+P/qb8BVUgf4/KvafTtyO/j/avAK1Ppv+PwJV9VVm2P0/JFtYlU/n/D9sN+q2fiX6Pw44e41PNPc/Opt+Z/wN9T+x3vcSW1vzP9ofvWQJlvI/8sciQQBW8j80sfkQa17yPzg5qng2r/I/Oh14WJBh8z+VZjnpctj0P6CcrSuCqQBA\",\"dtype\":\"float64\",\"shape\":[75]},\"y\":{\"__ndarray__\":\"GhExyth1ND/Sv8nbtpRIP2vylNV0PVE/aTum7souWD/At0SJ8fVgPw3Iuahxymc/MSNhhJWvcD/bTfBN02d3P2zb5nxnaoA/CD5h5MAGhz8NmeH1TyaQP+zrCsc9p5Y/LbKd76fGnz/bLW5ISEmmPww9YvTcQq8/JV2OstnstT8Er5Y7M8G+P0c+r3jqkcU/5h99k6ZBzj88bCIzFzjVP4enV8oyxN0//yH99nXg5D8qOpLLf0jtP5kqGJXUifQ/c9cS8kHP/D+/DpwzojQEQIEmwoanVwxA4lgXt9HgE0BSSZ2AJuIbQAMJih9jjiNA5q4l5INuK0AwTKYKRj0zQNv5fmq8/DpAaCJseHrtQkB/+zpwzoxKQM3MzMzMeFJAZmZmZmZqWEAAAAAAAFxeQM3MzMzMJmJAmpmZmZkfZUBmZmZmZhhoQDMzMzMzEWtAAAAAAAAKbkBmZmZmZoFwQM3MzMzM/XFAMzMzMzN6c0CamZmZmfZ0QAAAAAAAc3ZAZmZmZmbvd0DNzMzMzGt5QDMzMzMz6HpAmpmZmZlkfEAAAAAAAOF9QGZmZmZmXX9AZmZmZuZsgECamZmZGSuBQM3MzMxM6YFAAAAAAICngkAzMzMzs2WDQGZmZmbmI4RAmpmZmRnihEDNzMzMTKCFQAAAAACAXoZAMzMzM7Mch0BmZmZm5tqHQJqZmZkZmYhAzczMzExXiUAAAAAAgBWKQDMzMzOz04pAZmZmZuaRi0CamZmZGVCMQM3MzMxMDo1AAAAAAIDMjUAzMzMzs4qOQGZmZmbmSI9A\",\"dtype\":\"float64\",\"shape\":[75]}},\"selected\":{\"id\":\"dd7f217e-680f-444e-9df8-8d464ff91e2c\",\"type\":\"Selection\"},\"selection_policy\":{\"id\":\"f5a81f56-1c84-48c8-9ecf-4fde373956c3\",\"type\":\"UnionRenderers\"}},\"id\":\"9c300c9b-63e4-4c74-99c3-9d5482d327dc\",\"type\":\"ColumnDataSource\"},{\"attributes\":{},\"id\":\"adb11883-763e-4aa0-a775-dfe5f5fd5aa1\",\"type\":\"LinearScale\"},{\"attributes\":{\"fill_alpha\":{\"value\":0.1},\"fill_color\":{\"value\":\"#1f77b4\"},\"line_alpha\":{\"value\":0.1},\"line_color\":{\"value\":\"#1f77b4\"},\"x\":{\"field\":\"x\"},\"y\":{\"field\":\"y\"}},\"id\":\"8656a403-6d72-4fb1-a75b-b388be5bd7a6\",\"type\":\"Circle\"},{\"attributes\":{\"callback\":null,\"data\":{\"x\":{\"__ndarray__\":\"eh+s5yk9IcA/tAgfJ08FwPlkXZDRnfc/bXnIlZZWDEA+x9NjC2kNQIC1T1zgYANAIubiXAuW5D87A4TF5ibpv48iccULXvW/V80t0FxP8b+03TPX9srev9xFiXU0Z7Y/SjPNzuSG3T/QpPGK30XhP2NkLfabwdY/RMnk2qf5sT/+VKZbP2/RvxuceXMWOeG/lTKpouNP4b/6KlgVVZ3Tv1TY7gxrfbq/ZseUwVL4oL9kgCLVXMbLv7DKufbHSte/18Lhtysvu7+3BmgGWorUPwMVnIdErdU/+reGEt+XuD+6Io6PJA+KP/BnHjlzdM4/84FmIa1B1D9sWuv/gmXBP15sseAg76u/MAEWuK+Vmr9eN73VJXKjP2LxGbmX9py/z9glU1nksr8B8a5UQtmuvw2FWwXT+au/an22EJfWrr/hHeOgQcqvv+Q56uhWvbG/5P2nZ4BSqL9K9DVujoCwv6kcADhccb+/DxIx3rw8tL9AGAXMZKeuv5OSQJTCVLW/BQIDUYc/tb/1MWppzpasv42zeSqBtJ+/IYGVzj6flL+itMunpTqWv37hfR6pGp6/eNvm7rxSn7+8j5R7IeeOv265NxViW44/W8vOqw0Ypj8gTluB83KsP2ZQkBKaqKc/uBfjWQjGlz8Amh0To5MHP4AMpk0Uon2/cEhJxNmKZD9cTq4YG+KZP2zRXyQH96s/WfLyac4wsj/qrzeMsd+yP0OH+jzK8bM/yvvP8DUFtT/ELmnH7x+2P33lNzupI7o/WoDcLo4rvj9qUvTUq8e/Pw==\",\"dtype\":\"float64\",\"shape\":[74]},\"y\":{\"__ndarray__\":\"0r/J27aUSD9r8pTVdD1RP2k7pu7KLlg/wLdEifH1YD8NyLmoccpnPzEjYYSVr3A/203wTdNndz9s2+Z8Z2qAPwg+YeTABoc/DZnh9U8mkD/s6wrHPaeWPy2yne+nxp8/2y1uSEhJpj8MPWL03EKvPyVdjrLZ7LU/BK+WOzPBvj9HPq946pHFP+YffZOmQc4/PGwiMxc41T+Hp1fKMsTdP/8h/fZ14OQ/KjqSy39I7T+ZKhiV1In0P3PXEvJBz/w/vw6cM6I0BECBJsKGp1cMQOJYF7fR4BNAUkmdgCbiG0ADCYofY44jQOauJeSDbitAMEymCkY9M0Db+X5qvPw6QGgibHh67UJAf/s6cM6MSkDNzMzMzHhSQGZmZmZmalhAAAAAAABcXkDNzMzMzCZiQJqZmZmZH2VAZmZmZmYYaEAzMzMzMxFrQAAAAAAACm5AZmZmZmaBcEDNzMzMzP1xQDMzMzMzenNAmpmZmZn2dEAAAAAAAHN2QGZmZmZm73dAzczMzMxreUAzMzMzM+h6QJqZmZmZZHxAAAAAAADhfUBmZmZmZl1/QGZmZmbmbIBAmpmZmRkrgUDNzMzMTOmBQAAAAACAp4JAMzMzM7Nlg0BmZmZm5iOEQJqZmZkZ4oRAzczMzEyghUAAAAAAgF6GQDMzMzOzHIdAZmZmZubah0CamZmZGZmIQM3MzMxMV4lAAAAAAIAVikAzMzMzs9OKQGZmZmbmkYtAmpmZmRlQjEDNzMzMTA6NQAAAAACAzI1AMzMzM7OKjkBmZmZm5kiPQA==\",\"dtype\":\"float64\",\"shape\":[74]}},\"selected\":{\"id\":\"bef3cdd6-0fc2-4ce0-a88c-df2d665e846c\",\"type\":\"Selection\"},\"selection_policy\":{\"id\":\"bd02ee3f-fd20-4338-ada8-5701e279d817\",\"type\":\"UnionRenderers\"}},\"id\":\"5adafa9d-a2c1-4734-8a96-41eb06a916e6\",\"type\":\"ColumnDataSource\"},{\"attributes\":{},\"id\":\"a5bd8df9-11db-4284-99e4-319654d96a2a\",\"type\":\"UnionRenderers\"},{\"attributes\":{\"label\":{\"value\":\"CLIRAD - CRD\"},\"renderers\":[{\"id\":\"85dfbdaa-4065-40c1-9990-69e69e1c8b4d\",\"type\":\"GlyphRenderer\"},{\"id\":\"291bdb3d-b59d-46d4-8ca1-2c2bee948959\",\"type\":\"GlyphRenderer\"}]},\"id\":\"366df201-d55c-4e67-87f5-bb5641c5a168\",\"type\":\"LegendItem\"},{\"attributes\":{\"callback\":null,\"end\":0.01,\"start\":1020},\"id\":\"bc5d1569-9dba-46a4-be83-62524add6576\",\"type\":\"Range1d\"},{\"attributes\":{\"line_alpha\":0.1,\"line_color\":\"#1f77b4\",\"line_width\":1.5,\"x\":{\"field\":\"x\"},\"y\":{\"field\":\"y\"}},\"id\":\"cc90f27c-e3a8-4baf-9e9c-9778c6e77029\",\"type\":\"Line\"},{\"attributes\":{},\"id\":\"1affd916-f5e7-46ed-a0f5-9613e7145a87\",\"type\":\"Selection\"},{\"attributes\":{\"ticker\":null},\"id\":\"eae1517b-a4e6-4d77-b97c-a7566e655a38\",\"type\":\"LogTickFormatter\"},{\"attributes\":{\"fill_alpha\":{\"value\":0.1},\"fill_color\":{\"value\":\"#1f77b4\"},\"line_alpha\":{\"value\":0.1},\"line_color\":{\"value\":\"#1f77b4\"},\"x\":{\"field\":\"x\"},\"y\":{\"field\":\"y\"}},\"id\":\"89446744-de6a-4f0e-962b-14707b064853\",\"type\":\"Circle\"},{\"attributes\":{},\"id\":\"0266cdaf-6a9f-4649-bfeb-b5cfb9ced866\",\"type\":\"Selection\"},{\"attributes\":{},\"id\":\"d86dce6c-ec9c-45be-849b-c9dde569e2a5\",\"type\":\"BasicTickFormatter\"},{\"attributes\":{},\"id\":\"97dd17d5-fcb7-4838-96d3-ab6d5f1a0956\",\"type\":\"LogScale\"},{\"attributes\":{},\"id\":\"92b761ea-db90-4d8c-990e-812710b55867\",\"type\":\"Selection\"},{\"attributes\":{\"axis_label\":\"cooling rate [K/day]\",\"formatter\":{\"id\":\"47a5db4b-f58a-4c31-92ae-106e15d78fd3\",\"type\":\"BasicTickFormatter\"},\"plot\":{\"id\":\"3475a10e-2e2c-49bc-99a1-00395129e081\",\"subtype\":\"Figure\",\"type\":\"Plot\"},\"ticker\":{\"id\":\"8e3598b4-db1e-42b1-a4c3-894687699bc3\",\"type\":\"BasicTicker\"}},\"id\":\"4493d471-db60-484f-858b-78c58220d315\",\"type\":\"LinearAxis\"},{\"attributes\":{},\"id\":\"bc628db4-429a-4e36-8139-b3758bf04bd4\",\"type\":\"BasicTicker\"},{\"attributes\":{\"children\":[{\"id\":\"5641a6c2-8c1a-4741-b22d-ef927764f3f0\",\"type\":\"Row\"}]},\"id\":\"ee8818ce-4906-40c2-a6a8-5b15075cc32a\",\"type\":\"Column\"},{\"attributes\":{\"fill_alpha\":{\"value\":0.7},\"fill_color\":{\"value\":\"#4daf4a\"},\"line_alpha\":{\"value\":0.7},\"line_color\":{\"value\":\"#4daf4a\"},\"x\":{\"field\":\"x\"},\"y\":{\"field\":\"y\"}},\"id\":\"275c183e-6d13-4a6f-9c86-c343289df1fc\",\"type\":\"Circle\"},{\"attributes\":{},\"id\":\"3f6eb8b1-d6f9-4b34-b50c-cd308e9c3bc6\",\"type\":\"BasicTicker\"},{\"attributes\":{\"active_drag\":\"auto\",\"active_inspect\":\"auto\",\"active_scroll\":\"auto\",\"active_tap\":\"auto\",\"tools\":[{\"id\":\"27d9f059-701f-40ab-b275-994cd25b32d6\",\"type\":\"PanTool\"},{\"id\":\"9f880608-fa8c-48ce-a9c6-c65d2906f9dd\",\"type\":\"WheelZoomTool\"},{\"id\":\"a9dc23f8-4b38-469c-bdcb-e416060798d4\",\"type\":\"BoxZoomTool\"},{\"id\":\"c9b8bbac-6a59-43ca-bb07-6c72ce19eba8\",\"type\":\"SaveTool\"},{\"id\":\"8c9b3c7a-29e7-439c-bb08-ef2b610923fd\",\"type\":\"ResetTool\"},{\"id\":\"b522b8ba-26f2-45c2-bb30-0df7628227ca\",\"type\":\"HelpTool\"}]},\"id\":\"260eaf56-bc44-4962-983f-68342f17fe93\",\"type\":\"Toolbar\"},{\"attributes\":{\"source\":{\"id\":\"9c300c9b-63e4-4c74-99c3-9d5482d327dc\",\"type\":\"ColumnDataSource\"}},\"id\":\"9dfba6cc-36ab-4a26-99d6-b2502833c12b\",\"type\":\"CDSView\"},{\"attributes\":{\"plot\":{\"id\":\"fdf0f53e-650d-4dca-a601-ad3f1a978620\",\"subtype\":\"Figure\",\"type\":\"Plot\"},\"ticker\":{\"id\":\"bc628db4-429a-4e36-8139-b3758bf04bd4\",\"type\":\"BasicTicker\"}},\"id\":\"d240e889-43d1-4a50-9d50-cf06cc6be7d6\",\"type\":\"Grid\"},{\"attributes\":{\"dimension\":1,\"plot\":{\"id\":\"fdf0f53e-650d-4dca-a601-ad3f1a978620\",\"subtype\":\"Figure\",\"type\":\"Plot\"},\"ticker\":{\"id\":\"3f6eb8b1-d6f9-4b34-b50c-cd308e9c3bc6\",\"type\":\"BasicTicker\"}},\"id\":\"7d3396c5-6611-4d66-b13f-2a172f74e910\",\"type\":\"Grid\"},{\"attributes\":{\"axis_label\":\"pressure [mb]\",\"formatter\":{\"id\":\"d86dce6c-ec9c-45be-849b-c9dde569e2a5\",\"type\":\"BasicTickFormatter\"},\"plot\":{\"id\":\"fdf0f53e-650d-4dca-a601-ad3f1a978620\",\"subtype\":\"Figure\",\"type\":\"Plot\"},\"ticker\":{\"id\":\"3f6eb8b1-d6f9-4b34-b50c-cd308e9c3bc6\",\"type\":\"BasicTicker\"}},\"id\":\"5bf14843-371d-4561-ac8e-d68bfc3d4f16\",\"type\":\"LinearAxis\"},{\"attributes\":{},\"id\":\"8c5715c1-1cef-4c6c-a7d3-297e6940bff5\",\"type\":\"LinearScale\"},{\"attributes\":{},\"id\":\"b768728f-2287-4ee2-8167-56e9298f9bde\",\"type\":\"UnionRenderers\"},{\"attributes\":{},\"id\":\"fab2be73-f3ee-43c3-a169-4cdf7d3e8afd\",\"type\":\"BasicTickFormatter\"},{\"attributes\":{\"source\":{\"id\":\"5adafa9d-a2c1-4734-8a96-41eb06a916e6\",\"type\":\"ColumnDataSource\"}},\"id\":\"6ed55820-a710-4174-a896-ca302e704885\",\"type\":\"CDSView\"},{\"attributes\":{\"above\":[{\"id\":\"4572cb87-dc63-483b-b4f9-5b4d6c03fbef\",\"type\":\"Legend\"}],\"below\":[{\"id\":\"4493d471-db60-484f-858b-78c58220d315\",\"type\":\"LinearAxis\"}],\"left\":[{\"id\":\"7b83d8d3-b64a-4821-8a35-74059a4e4796\",\"type\":\"LogAxis\"}],\"plot_width\":300,\"renderers\":[{\"id\":\"4493d471-db60-484f-858b-78c58220d315\",\"type\":\"LinearAxis\"},{\"id\":\"0397b437-52f9-4ff2-ba63-5b288c1b3320\",\"type\":\"Grid\"},{\"id\":\"7b83d8d3-b64a-4821-8a35-74059a4e4796\",\"type\":\"LogAxis\"},{\"id\":\"f3fcc98f-d164-4bc2-b688-de583cf91b32\",\"type\":\"Grid\"},{\"id\":\"e53d1ccc-52e7-4fc6-ba34-624fb504d111\",\"type\":\"BoxAnnotation\"},{\"id\":\"85dfbdaa-4065-40c1-9990-69e69e1c8b4d\",\"type\":\"GlyphRenderer\"},{\"id\":\"291bdb3d-b59d-46d4-8ca1-2c2bee948959\",\"type\":\"GlyphRenderer\"},{\"id\":\"4572cb87-dc63-483b-b4f9-5b4d6c03fbef\",\"type\":\"Legend\"}],\"title\":{\"id\":\"b435f645-d300-4176-8d5c-b130d71e8710\",\"type\":\"Title\"},\"toolbar\":{\"id\":\"260eaf56-bc44-4962-983f-68342f17fe93\",\"type\":\"Toolbar\"},\"toolbar_location\":null,\"x_range\":{\"id\":\"4b0c5c22-43a4-4aeb-abca-853a56f186ce\",\"type\":\"Range1d\"},\"x_scale\":{\"id\":\"f4476d9c-6fc2-406a-84ce-7434e7a10a68\",\"type\":\"LinearScale\"},\"y_range\":{\"id\":\"bc5d1569-9dba-46a4-be83-62524add6576\",\"type\":\"Range1d\"},\"y_scale\":{\"id\":\"97dd17d5-fcb7-4838-96d3-ab6d5f1a0956\",\"type\":\"LogScale\"}},\"id\":\"3475a10e-2e2c-49bc-99a1-00395129e081\",\"subtype\":\"Figure\",\"type\":\"Plot\"},{\"attributes\":{\"axis_label\":\"pressure [mb]\",\"formatter\":{\"id\":\"53a5236d-45b8-4f94-b5b0-be6cff240729\",\"type\":\"LogTickFormatter\"},\"plot\":{\"id\":\"3475a10e-2e2c-49bc-99a1-00395129e081\",\"subtype\":\"Figure\",\"type\":\"Plot\"},\"ticker\":{\"id\":\"d3ec089e-23a7-400f-a22f-854f9207582c\",\"type\":\"LogTicker\"}},\"id\":\"7b83d8d3-b64a-4821-8a35-74059a4e4796\",\"type\":\"LogAxis\"},{\"attributes\":{\"line_alpha\":0.6,\"line_color\":\"#e41a1c\",\"line_dash\":[6],\"line_width\":5,\"x\":{\"field\":\"x\"},\"y\":{\"field\":\"y\"}},\"id\":\"9fd960c0-50b6-4da3-8eb9-d3d47487e927\",\"type\":\"Line\"},{\"attributes\":{\"line_alpha\":0.8,\"line_color\":\"#984ea3\",\"line_width\":1.5,\"x\":{\"field\":\"x\"},\"y\":{\"field\":\"y\"}},\"id\":\"182c28f2-694a-4344-a750-6d54a7b0cff7\",\"type\":\"Line\"},{\"attributes\":{\"callback\":null,\"end\":12.208583274239547,\"start\":-0.60330241663455},\"id\":\"215620d5-4a7e-420a-9e51-3f5f4b9da76f\",\"type\":\"Range1d\"},{\"attributes\":{\"label\":{\"value\":\"CRD\"},\"renderers\":[{\"id\":\"ed27f47f-240c-4c40-8eb2-e9afe099c314\",\"type\":\"GlyphRenderer\"},{\"id\":\"bc46c28d-0a60-4c06-8114-545aedf5c780\",\"type\":\"GlyphRenderer\"}]},\"id\":\"62fcb3bf-2163-42e7-9426-d7628abafa1d\",\"type\":\"LegendItem\"},{\"attributes\":{\"items\":[{\"id\":\"366df201-d55c-4e67-87f5-bb5641c5a168\",\"type\":\"LegendItem\"}],\"label_text_font_size\":{\"value\":\"8pt\"},\"location\":\"top_center\",\"orientation\":\"horizontal\",\"plot\":{\"id\":\"3475a10e-2e2c-49bc-99a1-00395129e081\",\"subtype\":\"Figure\",\"type\":\"Plot\"}},\"id\":\"4572cb87-dc63-483b-b4f9-5b4d6c03fbef\",\"type\":\"Legend\"},{\"attributes\":{},\"id\":\"25bc94c2-9f4e-4215-b00e-694ef8418a80\",\"type\":\"BasicTickFormatter\"},{\"attributes\":{\"label\":{\"value\":\"CLIRAD\"},\"renderers\":[{\"id\":\"6bdcb221-44dd-452c-8760-f245baad816f\",\"type\":\"GlyphRenderer\"}]},\"id\":\"a713fdc1-fa6d-4f79-96f2-eb7e89a41ab0\",\"type\":\"LegendItem\"},{\"attributes\":{\"plot\":null,\"text\":\"\"},\"id\":\"005c8350-dc7e-468d-bb0b-5785f3905812\",\"type\":\"Title\"},{\"attributes\":{\"fill_alpha\":{\"value\":0.7},\"fill_color\":{\"value\":\"#984ea3\"},\"line_alpha\":{\"value\":0.7},\"line_color\":{\"value\":\"#984ea3\"},\"x\":{\"field\":\"x\"},\"y\":{\"field\":\"y\"}},\"id\":\"b31d0ea9-c47d-46ae-a386-207324c7a913\",\"type\":\"Circle\"},{\"attributes\":{\"data_source\":{\"id\":\"9c300c9b-63e4-4c74-99c3-9d5482d327dc\",\"type\":\"ColumnDataSource\"},\"glyph\":{\"id\":\"be141f8c-120c-47c1-817c-83248b7b539d\",\"type\":\"Line\"},\"hover_glyph\":null,\"muted_glyph\":null,\"nonselection_glyph\":{\"id\":\"aa32d730-3f02-43db-87e9-d945e2b44716\",\"type\":\"Line\"},\"selection_glyph\":null,\"view\":{\"id\":\"9dfba6cc-36ab-4a26-99d6-b2502833c12b\",\"type\":\"CDSView\"}},\"id\":\"9824757a-9136-468e-a9ce-7d71211d87c9\",\"type\":\"GlyphRenderer\"},{\"attributes\":{},\"id\":\"8e3598b4-db1e-42b1-a4c3-894687699bc3\",\"type\":\"BasicTicker\"},{\"attributes\":{\"callback\":null,\"end\":2.3923471771224505,\"start\":-0.50611196022745},\"id\":\"baf4ecaa-f433-4ad4-a4f2-b449c0acd0f2\",\"type\":\"Range1d\"},{\"attributes\":{\"overlay\":{\"id\":\"e53d1ccc-52e7-4fc6-ba34-624fb504d111\",\"type\":\"BoxAnnotation\"}},\"id\":\"a9dc23f8-4b38-469c-bdcb-e416060798d4\",\"type\":\"BoxZoomTool\"},{\"attributes\":{},\"id\":\"b522b8ba-26f2-45c2-bb30-0df7628227ca\",\"type\":\"HelpTool\"},{\"attributes\":{\"dimension\":1,\"plot\":{\"id\":\"3475a10e-2e2c-49bc-99a1-00395129e081\",\"subtype\":\"Figure\",\"type\":\"Plot\"},\"ticker\":{\"id\":\"d3ec089e-23a7-400f-a22f-854f9207582c\",\"type\":\"LogTicker\"}},\"id\":\"f3fcc98f-d164-4bc2-b688-de583cf91b32\",\"type\":\"Grid\"},{\"attributes\":{\"data_source\":{\"id\":\"3fb4965f-2846-4c52-b768-4a3e4ab56423\",\"type\":\"ColumnDataSource\"},\"glyph\":{\"id\":\"b31d0ea9-c47d-46ae-a386-207324c7a913\",\"type\":\"Circle\"},\"hover_glyph\":null,\"muted_glyph\":null,\"nonselection_glyph\":{\"id\":\"8656a403-6d72-4fb1-a75b-b388be5bd7a6\",\"type\":\"Circle\"},\"selection_glyph\":null,\"view\":{\"id\":\"c42f7f1e-c34e-46ed-a0ed-4779280e0554\",\"type\":\"CDSView\"}},\"id\":\"85dfbdaa-4065-40c1-9990-69e69e1c8b4d\",\"type\":\"GlyphRenderer\"},{\"attributes\":{\"callback\":null,\"data\":{\"x\":{\"__ndarray__\":\"kqvVCTJORUDGAffSfaRCQKZGlip5ikFA97J5oPnxP0BpWYTf5No7QJb6Id3T/TZAiqH+Ub7KMUCmsxMqXOEpQI6YajptNyJARrXhqkqQGkBE1tPDojYVQF9iFZbmAxJAbdQs6laRDUAcdB/7HS4DQDvRX5uR5P4/y2y2qEyqBUCzBaFapEIMQOWVZ3WenBBA0YkiwEreE0DPd1h4+U4ZQAjGFy4yDCFAatAKeYICJ0D04E6UgxkoQEC/DUOxhCRAn18lXosnIUD7QoX/k1YcQPSHk447WRhAU2wxuVgsFED5P7dnUMcPQLfFhW3KOwlA6PGB1pQ7BUDr5jBtp3kAQJjeC/ImsfQ/ccSECtQK5j9hOcRca/7QP0Fi4X4oicG/Mvz69ZCS3r9DQqJOziHYv/xeZAHkLl+/BREikxhXxT+cVzL1Pa7YP+5RaEEju+w/dDqvLq269j/QmpqATNf9P0zLf2776wBASP2DFM+EAUAQ3Ba1bkcCQJG/sqCsTAJApzXVrJYWAUBCKjpTHoEAQKZl9AAuTwBAwIfEnQgvAEA51x+VNwQAQJqJEHiTnP8/aHetpUU//z+4ogNARAf/P2XvTC3CDf8/7dX/7T1C/z8V2M8r7WP/P2p2+7HrZP8/rng0HyFM/z86SWrWVvr+Pzx7O32V2P0/GLUKga3J/D8RXMwjxC/6P0jx3fnXm/c/xpmhoLTt9T/XDZf5Z370P9iagH0ExPM/ZXDy5ByV8z/xsAZwvq7zPyTMIHU1EfQ/kpsr7MoD9T+bLifMK7v2PzM/VYq/pwFA\",\"dtype\":\"float64\",\"shape\":[75]},\"y\":{\"__ndarray__\":\"S/O/Q+51ND/Sv8nbtpRIP2vylNV0PVE/aTum7souWD/At0SJ8fVgPw3Iuahxymc/MSNhhJWvcD/bTfBN02d3P2zb5nxnaoA/CD5h5MAGhz8NmeH1TyaQP+zrCsc9p5Y/LbKd76fGnz/bLW5ISEmmPww9YvTcQq8/JV2OstnstT8Er5Y7M8G+P0c+r3jqkcU/5h99k6ZBzj88bCIzFzjVP4enV8oyxN0//yH99nXg5D8qOpLLf0jtP5kqGJXUifQ/c9cS8kHP/D+/DpwzojQEQIEmwoanVwxA4lgXt9HgE0BSSZ2AJuIbQAMJih9jjiNA5q4l5INuK0AwTKYKRj0zQNv5fmq8/DpAaCJseHrtQkB/+zpwzoxKQM3MzMzMeFJAZmZmZmZqWEAAAAAAAFxeQM3MzMzMJmJAmpmZmZkfZUBmZmZmZhhoQDMzMzMzEWtAAAAAAAAKbkBmZmZmZoFwQM3MzMzM/XFAMzMzMzN6c0CamZmZmfZ0QAAAAAAAc3ZAZmZmZmbvd0DNzMzMzGt5QDMzMzMz6HpAmpmZmZlkfEAAAAAAAOF9QGZmZmZmXX9AZmZmZuZsgECamZmZGSuBQM3MzMxM6YFAAAAAAICngkAzMzMzs2WDQGZmZmbmI4RAmpmZmRnihEDNzMzMTKCFQAAAAACAXoZAMzMzM7Mch0BmZmZm5tqHQJqZmZkZmYhAzczMzExXiUAAAAAAgBWKQDMzMzOz04pAZmZmZuaRi0CamZmZGVCMQM3MzMxMDo1AAAAAAIDMjUAzMzMzs4qOQGZmZmbmSI9A\",\"dtype\":\"float64\",\"shape\":[75]}},\"selected\":{\"id\":\"92b761ea-db90-4d8c-990e-812710b55867\",\"type\":\"Selection\"},\"selection_policy\":{\"id\":\"b3adf927-e2fb-45cc-a41b-22d4e08b8560\",\"type\":\"UnionRenderers\"}},\"id\":\"fcae92c8-4f66-4e15-8ae7-8bcd19831322\",\"type\":\"ColumnDataSource\"},{\"attributes\":{},\"id\":\"c9b8bbac-6a59-43ca-bb07-6c72ce19eba8\",\"type\":\"SaveTool\"},{\"attributes\":{\"line_alpha\":0.1,\"line_color\":\"#1f77b4\",\"line_dash\":[6],\"line_width\":5,\"x\":{\"field\":\"x\"},\"y\":{\"field\":\"y\"}},\"id\":\"893209e5-3d77-4fc4-8ad6-222f1c47c6f1\",\"type\":\"Line\"},{\"attributes\":{\"source\":{\"id\":\"fcae92c8-4f66-4e15-8ae7-8bcd19831322\",\"type\":\"ColumnDataSource\"}},\"id\":\"c6eff7db-9b44-45d1-ad8e-a36cdd3989f6\",\"type\":\"CDSView\"},{\"attributes\":{},\"id\":\"4b059c8d-b398-4ca1-ba4d-7285db542709\",\"type\":\"Selection\"},{\"attributes\":{},\"id\":\"8c9b3c7a-29e7-439c-bb08-ef2b610923fd\",\"type\":\"ResetTool\"},{\"attributes\":{\"plot\":null,\"text\":\"\"},\"id\":\"b435f645-d300-4176-8d5c-b130d71e8710\",\"type\":\"Title\"},{\"attributes\":{\"callback\":null,\"data\":{\"x\":{\"__ndarray__\":\"R/KIaN7AVEClCeJMyPNGQOvRhpxr30JAptxzhxx4PkA7SssMElA4QK6Bp3CyUDNAsVXpjES9LkBFhUV0+5coQMHYwqbbySNA6f09nM3nH0CaSd/3eYoZQDmgiAOW8BNAPYqARh3eDEBkm4vCgvr+P9D+5tWhQfY/P8DwKRnSAkBq38kb17ILQDT7IWuSsxFAUr2Rjm0FFkAinq3s9XgbQGCHwtYcqSFAG64kT303J0C7dRDneyooQD9JYrbK8yRA9S3bneHhIUAIymSuUMMcQIkHLe6VEBdAAau3cITREkA6CiNvkQIPQJU39ki7IQlAaAvwok1UA0BXLQiS4+L7P0xzDpJ2hPI/NNuPGMbJ5z91mUVYxqfSPxqwUPSxZca/G11peifD3L8QzNj5t2jTvwzOozTL360/SPJ4VI1VzD9KJ0nXEIncP8yDdlvHt+4/Et49nYLW9z++2teD4Jn+P+568eH/bwFALf5D9lmAAkCiZAicVOkCQPPT4jNKxwJAOjp3wTzBAUBSQsKNGisBQG4OmjqJwQBAJ3sZoHFuAEA5Ar0Sdi0AQGy4rw5+9f8/7W4nSrC3/z8mPr8zj4T/P4UYRHCQS/8/embVKYcF/z+5YXG+LLP+P/qb8BVUgf4/KvafTtyO/j/avAK1Ppv+PwJV9VVm2P0/JFtYlU/n/D9sN+q2fiX6Pw44e41PNPc/Opt+Z/wN9T+x3vcSW1vzP9ofvWQJlvI/8sciQQBW8j80sfkQa17yPzg5qng2r/I/Oh14WJBh8z+VZjnpctj0P6CcrSuCqQBA\",\"dtype\":\"float64\",\"shape\":[75]},\"y\":{\"__ndarray__\":\"GhExyth1ND/Sv8nbtpRIP2vylNV0PVE/aTum7souWD/At0SJ8fVgPw3Iuahxymc/MSNhhJWvcD/bTfBN02d3P2zb5nxnaoA/CD5h5MAGhz8NmeH1TyaQP+zrCsc9p5Y/LbKd76fGnz/bLW5ISEmmPww9YvTcQq8/JV2OstnstT8Er5Y7M8G+P0c+r3jqkcU/5h99k6ZBzj88bCIzFzjVP4enV8oyxN0//yH99nXg5D8qOpLLf0jtP5kqGJXUifQ/c9cS8kHP/D+/DpwzojQEQIEmwoanVwxA4lgXt9HgE0BSSZ2AJuIbQAMJih9jjiNA5q4l5INuK0AwTKYKRj0zQNv5fmq8/DpAaCJseHrtQkB/+zpwzoxKQM3MzMzMeFJAZmZmZmZqWEAAAAAAAFxeQM3MzMzMJmJAmpmZmZkfZUBmZmZmZhhoQDMzMzMzEWtAAAAAAAAKbkBmZmZmZoFwQM3MzMzM/XFAMzMzMzN6c0CamZmZmfZ0QAAAAAAAc3ZAZmZmZmbvd0DNzMzMzGt5QDMzMzMz6HpAmpmZmZlkfEAAAAAAAOF9QGZmZmZmXX9AZmZmZuZsgECamZmZGSuBQM3MzMxM6YFAAAAAAICngkAzMzMzs2WDQGZmZmbmI4RAmpmZmRnihEDNzMzMTKCFQAAAAACAXoZAMzMzM7Mch0BmZmZm5tqHQJqZmZkZmYhAzczMzExXiUAAAAAAgBWKQDMzMzOz04pAZmZmZuaRi0CamZmZGVCMQM3MzMxMDo1AAAAAAIDMjUAzMzMzs4qOQGZmZmbmSI9A\",\"dtype\":\"float64\",\"shape\":[75]}},\"selected\":{\"id\":\"1affd916-f5e7-46ed-a0f5-9613e7145a87\",\"type\":\"Selection\"},\"selection_policy\":{\"id\":\"b768728f-2287-4ee2-8167-56e9298f9bde\",\"type\":\"UnionRenderers\"}},\"id\":\"31d5e027-9fad-4ec5-b3c7-855963740c51\",\"type\":\"ColumnDataSource\"},{\"attributes\":{\"bottom_units\":\"screen\",\"fill_alpha\":{\"value\":0.5},\"fill_color\":{\"value\":\"lightgrey\"},\"left_units\":\"screen\",\"level\":\"overlay\",\"line_alpha\":{\"value\":1.0},\"line_color\":{\"value\":\"black\"},\"line_dash\":[4,4],\"line_width\":{\"value\":2},\"plot\":null,\"render_mode\":\"css\",\"right_units\":\"screen\",\"top_units\":\"screen\"},\"id\":\"e53d1ccc-52e7-4fc6-ba34-624fb504d111\",\"type\":\"BoxAnnotation\"},{\"attributes\":{\"data_source\":{\"id\":\"fcae92c8-4f66-4e15-8ae7-8bcd19831322\",\"type\":\"ColumnDataSource\"},\"glyph\":{\"id\":\"9fd960c0-50b6-4da3-8eb9-d3d47487e927\",\"type\":\"Line\"},\"hover_glyph\":null,\"muted_glyph\":null,\"nonselection_glyph\":{\"id\":\"893209e5-3d77-4fc4-8ad6-222f1c47c6f1\",\"type\":\"Line\"},\"selection_glyph\":null,\"view\":{\"id\":\"c6eff7db-9b44-45d1-ad8e-a36cdd3989f6\",\"type\":\"CDSView\"}},\"id\":\"73e94dc3-5afb-482a-b78c-6a0e5c5b3f96\",\"type\":\"GlyphRenderer\"},{\"attributes\":{\"source\":{\"id\":\"38048a17-c6a1-4e4c-8e83-edbe8512e0f9\",\"type\":\"ColumnDataSource\"}},\"id\":\"ee959a34-9b24-4fc4-9113-b46e17296386\",\"type\":\"CDSView\"},{\"attributes\":{},\"id\":\"9f880608-fa8c-48ce-a9c6-c65d2906f9dd\",\"type\":\"WheelZoomTool\"},{\"attributes\":{},\"id\":\"47a5db4b-f58a-4c31-92ae-106e15d78fd3\",\"type\":\"BasicTickFormatter\"},{\"attributes\":{},\"id\":\"27d9f059-701f-40ab-b275-994cd25b32d6\",\"type\":\"PanTool\"},{\"attributes\":{},\"id\":\"16debde5-6b46-470f-b726-1a76610223d5\",\"type\":\"Selection\"},{\"attributes\":{},\"id\":\"a5349a42-2385-4a5c-9f59-c9412144d676\",\"type\":\"LinearScale\"},{\"attributes\":{\"toolbar\":{\"id\":\"3052f708-d9a7-43a1-8f32-db1dab6d4dc1\",\"type\":\"ProxyToolbar\"},\"toolbar_location\":\"above\"},\"id\":\"b37c0f3d-ed2f-46fe-af75-59bcbd9dbfe9\",\"type\":\"ToolbarBox\"},{\"attributes\":{},\"id\":\"94602911-6f5b-4006-addb-331bc23f12cd\",\"type\":\"HelpTool\"},{\"attributes\":{},\"id\":\"8611e1fb-1b72-4c3d-83dc-50a2217d97d4\",\"type\":\"Selection\"},{\"attributes\":{\"label\":{\"value\":\"CRD\"},\"renderers\":[{\"id\":\"3995b9b0-7fe3-4fe6-b2e6-1ba5fd687cab\",\"type\":\"GlyphRenderer\"},{\"id\":\"9824757a-9136-468e-a9ce-7d71211d87c9\",\"type\":\"GlyphRenderer\"}]},\"id\":\"846b5e2c-e887-4a58-aff8-546117a01104\",\"type\":\"LegendItem\"},{\"attributes\":{\"label\":{\"value\":\"CLIRAD\"},\"renderers\":[{\"id\":\"73e94dc3-5afb-482a-b78c-6a0e5c5b3f96\",\"type\":\"GlyphRenderer\"}]},\"id\":\"2fc6faa8-ec00-4ec1-87a2-909eef303fe6\",\"type\":\"LegendItem\"},{\"attributes\":{},\"id\":\"ef138e0b-3794-4c34-98cb-1df355607fd2\",\"type\":\"HelpTool\"},{\"attributes\":{},\"id\":\"bd02ee3f-fd20-4338-ada8-5701e279d817\",\"type\":\"UnionRenderers\"},{\"attributes\":{},\"id\":\"bef3cdd6-0fc2-4ce0-a88c-df2d665e846c\",\"type\":\"Selection\"},{\"attributes\":{},\"id\":\"02851a13-005b-4edc-a34a-936ef746d5c2\",\"type\":\"WheelZoomTool\"},{\"attributes\":{},\"id\":\"e9ada47e-ed32-41d8-b766-44e6ad7c1836\",\"type\":\"SaveTool\"},{\"attributes\":{\"above\":[{\"id\":\"739f7d82-a490-469d-83be-6a708a1639b9\",\"type\":\"Legend\"}],\"below\":[{\"id\":\"a974415f-5123-4a19-9515-70f5047e793e\",\"type\":\"LinearAxis\"}],\"left\":[{\"id\":\"5bf14843-371d-4561-ac8e-d68bfc3d4f16\",\"type\":\"LinearAxis\"}],\"plot_width\":300,\"renderers\":[{\"id\":\"a974415f-5123-4a19-9515-70f5047e793e\",\"type\":\"LinearAxis\"},{\"id\":\"d240e889-43d1-4a50-9d50-cf06cc6be7d6\",\"type\":\"Grid\"},{\"id\":\"5bf14843-371d-4561-ac8e-d68bfc3d4f16\",\"type\":\"LinearAxis\"},{\"id\":\"7d3396c5-6611-4d66-b13f-2a172f74e910\",\"type\":\"Grid\"},{\"id\":\"2b61da96-60bc-4716-ad75-0ca07b91a342\",\"type\":\"BoxAnnotation\"},{\"id\":\"73e94dc3-5afb-482a-b78c-6a0e5c5b3f96\",\"type\":\"GlyphRenderer\"},{\"id\":\"3995b9b0-7fe3-4fe6-b2e6-1ba5fd687cab\",\"type\":\"GlyphRenderer\"},{\"id\":\"9824757a-9136-468e-a9ce-7d71211d87c9\",\"type\":\"GlyphRenderer\"},{\"id\":\"739f7d82-a490-469d-83be-6a708a1639b9\",\"type\":\"Legend\"}],\"title\":{\"id\":\"6a549618-d50a-4037-9572-4cbe16ff9875\",\"type\":\"Title\"},\"toolbar\":{\"id\":\"b8556123-2415-426a-9855-a54a03a26694\",\"type\":\"Toolbar\"},\"toolbar_location\":null,\"x_range\":{\"id\":\"baf4ecaa-f433-4ad4-a4f2-b449c0acd0f2\",\"type\":\"Range1d\"},\"x_scale\":{\"id\":\"adb11883-763e-4aa0-a775-dfe5f5fd5aa1\",\"type\":\"LinearScale\"},\"y_range\":{\"id\":\"612b69b7-4ab5-4e1b-a17b-cfb393a5b41b\",\"type\":\"Range1d\"},\"y_scale\":{\"id\":\"8c5715c1-1cef-4c6c-a7d3-297e6940bff5\",\"type\":\"LinearScale\"}},\"id\":\"fdf0f53e-650d-4dca-a601-ad3f1a978620\",\"subtype\":\"Figure\",\"type\":\"Plot\"},{\"attributes\":{},\"id\":\"74a2f496-2a65-4e0d-9e64-5dd8c08db7cd\",\"type\":\"LogScale\"},{\"attributes\":{\"num_minor_ticks\":10},\"id\":\"b7a1a5e7-eace-4d89-a55b-51507b845ad9\",\"type\":\"LogTicker\"},{\"attributes\":{\"data_source\":{\"id\":\"31d5e027-9fad-4ec5-b3c7-855963740c51\",\"type\":\"ColumnDataSource\"},\"glyph\":{\"id\":\"275c183e-6d13-4a6f-9c86-c343289df1fc\",\"type\":\"Circle\"},\"hover_glyph\":null,\"muted_glyph\":null,\"nonselection_glyph\":{\"id\":\"89446744-de6a-4f0e-962b-14707b064853\",\"type\":\"Circle\"},\"selection_glyph\":null,\"view\":{\"id\":\"3dcc2d3a-484c-4bd6-9367-fd151397dd63\",\"type\":\"CDSView\"}},\"id\":\"3995b9b0-7fe3-4fe6-b2e6-1ba5fd687cab\",\"type\":\"GlyphRenderer\"},{\"attributes\":{},\"id\":\"fdc3d754-b726-4d22-beca-0bbded18bd7a\",\"type\":\"BasicTicker\"},{\"attributes\":{\"callback\":null,\"data\":{\"x\":{\"__ndarray__\":\"eh+s5yk9IcA/tAgfJ08FwPlkXZDRnfc/bXnIlZZWDEA+x9NjC2kNQIC1T1zgYANAIubiXAuW5D87A4TF5ibpv48iccULXvW/V80t0FxP8b+03TPX9srev9xFiXU0Z7Y/SjPNzuSG3T/QpPGK30XhP2NkLfabwdY/RMnk2qf5sT/+VKZbP2/RvxuceXMWOeG/lTKpouNP4b/6KlgVVZ3Tv1TY7gxrfbq/ZseUwVL4oL9kgCLVXMbLv7DKufbHSte/18Lhtysvu7+3BmgGWorUPwMVnIdErdU/+reGEt+XuD+6Io6PJA+KP/BnHjlzdM4/84FmIa1B1D9sWuv/gmXBP15sseAg76u/MAEWuK+Vmr9eN73VJXKjP2LxGbmX9py/z9glU1nksr8B8a5UQtmuvw2FWwXT+au/an22EJfWrr/hHeOgQcqvv+Q56uhWvbG/5P2nZ4BSqL9K9DVujoCwv6kcADhccb+/DxIx3rw8tL9AGAXMZKeuv5OSQJTCVLW/BQIDUYc/tb/1MWppzpasv42zeSqBtJ+/IYGVzj6flL+itMunpTqWv37hfR6pGp6/eNvm7rxSn7+8j5R7IeeOv265NxViW44/W8vOqw0Ypj8gTluB83KsP2ZQkBKaqKc/uBfjWQjGlz8Amh0To5MHP4AMpk0Uon2/cEhJxNmKZD9cTq4YG+KZP2zRXyQH96s/WfLyac4wsj/qrzeMsd+yP0OH+jzK8bM/yvvP8DUFtT/ELmnH7x+2P33lNzupI7o/WoDcLo4rvj9qUvTUq8e/Pw==\",\"dtype\":\"float64\",\"shape\":[74]},\"y\":{\"__ndarray__\":\"0r/J27aUSD9r8pTVdD1RP2k7pu7KLlg/wLdEifH1YD8NyLmoccpnPzEjYYSVr3A/203wTdNndz9s2+Z8Z2qAPwg+YeTABoc/DZnh9U8mkD/s6wrHPaeWPy2yne+nxp8/2y1uSEhJpj8MPWL03EKvPyVdjrLZ7LU/BK+WOzPBvj9HPq946pHFP+YffZOmQc4/PGwiMxc41T+Hp1fKMsTdP/8h/fZ14OQ/KjqSy39I7T+ZKhiV1In0P3PXEvJBz/w/vw6cM6I0BECBJsKGp1cMQOJYF7fR4BNAUkmdgCbiG0ADCYofY44jQOauJeSDbitAMEymCkY9M0Db+X5qvPw6QGgibHh67UJAf/s6cM6MSkDNzMzMzHhSQGZmZmZmalhAAAAAAABcXkDNzMzMzCZiQJqZmZmZH2VAZmZmZmYYaEAzMzMzMxFrQAAAAAAACm5AZmZmZmaBcEDNzMzMzP1xQDMzMzMzenNAmpmZmZn2dEAAAAAAAHN2QGZmZmZm73dAzczMzMxreUAzMzMzM+h6QJqZmZmZZHxAAAAAAADhfUBmZmZmZl1/QGZmZmbmbIBAmpmZmRkrgUDNzMzMTOmBQAAAAACAp4JAMzMzM7Nlg0BmZmZm5iOEQJqZmZkZ4oRAzczMzEyghUAAAAAAgF6GQDMzMzOzHIdAZmZmZubah0CamZmZGZmIQM3MzMxMV4lAAAAAAIAVikAzMzMzs9OKQGZmZmbmkYtAmpmZmRlQjEDNzMzMTA6NQAAAAACAzI1AMzMzM7OKjkBmZmZm5kiPQA==\",\"dtype\":\"float64\",\"shape\":[74]}},\"selected\":{\"id\":\"8611e1fb-1b72-4c3d-83dc-50a2217d97d4\",\"type\":\"Selection\"},\"selection_policy\":{\"id\":\"c16325a5-6101-42aa-adab-fadccb8fb80b\",\"type\":\"UnionRenderers\"}},\"id\":\"3fb4965f-2846-4c52-b768-4a3e4ab56423\",\"type\":\"ColumnDataSource\"},{\"attributes\":{\"overlay\":{\"id\":\"ffdd981a-2c96-463b-8230-691bc43130e5\",\"type\":\"BoxAnnotation\"}},\"id\":\"3e78f92e-398f-48dd-8485-298aed6c9c28\",\"type\":\"BoxZoomTool\"},{\"attributes\":{\"items\":[{\"id\":\"a713fdc1-fa6d-4f79-96f2-eb7e89a41ab0\",\"type\":\"LegendItem\"},{\"id\":\"62fcb3bf-2163-42e7-9426-d7628abafa1d\",\"type\":\"LegendItem\"}],\"label_text_font_size\":{\"value\":\"8pt\"},\"location\":\"top_center\",\"orientation\":\"horizontal\",\"plot\":{\"id\":\"be39ca3c-83e8-45a4-aa5c-438315a23849\",\"subtype\":\"Figure\",\"type\":\"Plot\"}},\"id\":\"7252e962-9957-401e-a10c-990004bac5c4\",\"type\":\"Legend\"},{\"attributes\":{\"axis_label\":\"cooling rate [K/day]\",\"formatter\":{\"id\":\"fab2be73-f3ee-43c3-a169-4cdf7d3e8afd\",\"type\":\"BasicTickFormatter\"},\"plot\":{\"id\":\"be39ca3c-83e8-45a4-aa5c-438315a23849\",\"subtype\":\"Figure\",\"type\":\"Plot\"},\"ticker\":{\"id\":\"fdc3d754-b726-4d22-beca-0bbded18bd7a\",\"type\":\"BasicTicker\"}},\"id\":\"8ef5fef1-a8ea-4627-892c-a2a96411abc3\",\"type\":\"LinearAxis\"},{\"attributes\":{\"bottom_units\":\"screen\",\"fill_alpha\":{\"value\":0.5},\"fill_color\":{\"value\":\"lightgrey\"},\"left_units\":\"screen\",\"level\":\"overlay\",\"line_alpha\":{\"value\":1.0},\"line_color\":{\"value\":\"black\"},\"line_dash\":[4,4],\"line_width\":{\"value\":2},\"plot\":null,\"render_mode\":\"css\",\"right_units\":\"screen\",\"top_units\":\"screen\"},\"id\":\"2b61da96-60bc-4716-ad75-0ca07b91a342\",\"type\":\"BoxAnnotation\"},{\"attributes\":{\"dimension\":1,\"plot\":{\"id\":\"be39ca3c-83e8-45a4-aa5c-438315a23849\",\"subtype\":\"Figure\",\"type\":\"Plot\"},\"ticker\":{\"id\":\"b7a1a5e7-eace-4d89-a55b-51507b845ad9\",\"type\":\"LogTicker\"}},\"id\":\"db033495-2de7-4e8f-91af-dcb3d9c13ae3\",\"type\":\"Grid\"},{\"attributes\":{\"source\":{\"id\":\"31d5e027-9fad-4ec5-b3c7-855963740c51\",\"type\":\"ColumnDataSource\"}},\"id\":\"3dcc2d3a-484c-4bd6-9367-fd151397dd63\",\"type\":\"CDSView\"},{\"attributes\":{\"axis_label\":\"pressure [mb]\",\"formatter\":{\"id\":\"eae1517b-a4e6-4d77-b97c-a7566e655a38\",\"type\":\"LogTickFormatter\"},\"plot\":{\"id\":\"be39ca3c-83e8-45a4-aa5c-438315a23849\",\"subtype\":\"Figure\",\"type\":\"Plot\"},\"ticker\":{\"id\":\"b7a1a5e7-eace-4d89-a55b-51507b845ad9\",\"type\":\"LogTicker\"}},\"id\":\"38a7f2ce-71c8-4efb-84d5-aaafc86ba190\",\"type\":\"LogAxis\"},{\"attributes\":{\"active_drag\":\"auto\",\"active_inspect\":\"auto\",\"active_scroll\":\"auto\",\"active_tap\":\"auto\",\"tools\":[{\"id\":\"2227d1a9-9729-46f9-b5e4-e1f837879b1d\",\"type\":\"PanTool\"},{\"id\":\"ffadd7d8-479d-4609-a181-e2fba01f37f7\",\"type\":\"WheelZoomTool\"},{\"id\":\"07a8412e-2621-43b2-90cf-f03651acca68\",\"type\":\"BoxZoomTool\"},{\"id\":\"0da1b1b7-7732-47f3-b5ab-d2b2083267c9\",\"type\":\"SaveTool\"},{\"id\":\"4710e6fc-ac67-4fba-8cb1-ab2b63039e9f\",\"type\":\"ResetTool\"},{\"id\":\"ef138e0b-3794-4c34-98cb-1df355607fd2\",\"type\":\"HelpTool\"}]},\"id\":\"b8556123-2415-426a-9855-a54a03a26694\",\"type\":\"Toolbar\"},{\"attributes\":{\"ticker\":null},\"id\":\"53a5236d-45b8-4f94-b5b0-be6cff240729\",\"type\":\"LogTickFormatter\"},{\"attributes\":{\"bottom_units\":\"screen\",\"fill_alpha\":{\"value\":0.5},\"fill_color\":{\"value\":\"lightgrey\"},\"left_units\":\"screen\",\"level\":\"overlay\",\"line_alpha\":{\"value\":1.0},\"line_color\":{\"value\":\"black\"},\"line_dash\":[4,4],\"line_width\":{\"value\":2},\"plot\":null,\"render_mode\":\"css\",\"right_units\":\"screen\",\"top_units\":\"screen\"},\"id\":\"ffdd981a-2c96-463b-8230-691bc43130e5\",\"type\":\"BoxAnnotation\"},{\"attributes\":{\"children\":[{\"id\":\"b37c0f3d-ed2f-46fe-af75-59bcbd9dbfe9\",\"type\":\"ToolbarBox\"},{\"id\":\"ee8818ce-4906-40c2-a6a8-5b15075cc32a\",\"type\":\"Column\"}]},\"id\":\"870e6ea4-21e6-4acb-a85e-0d9d3cf90300\",\"type\":\"Column\"},{\"attributes\":{},\"id\":\"6c00cf34-af17-447f-8707-78796c3db0f8\",\"type\":\"PanTool\"},{\"attributes\":{\"plot\":{\"id\":\"be39ca3c-83e8-45a4-aa5c-438315a23849\",\"subtype\":\"Figure\",\"type\":\"Plot\"},\"ticker\":{\"id\":\"fdc3d754-b726-4d22-beca-0bbded18bd7a\",\"type\":\"BasicTicker\"}},\"id\":\"0b95feb7-c100-4168-ba10-db926cd0c73b\",\"type\":\"Grid\"},{\"attributes\":{},\"id\":\"c16325a5-6101-42aa-adab-fadccb8fb80b\",\"type\":\"UnionRenderers\"},{\"attributes\":{},\"id\":\"7aa19d76-989d-4fcd-94bf-7a0912da4234\",\"type\":\"ResetTool\"},{\"attributes\":{},\"id\":\"f57105c2-8c4c-49b0-ac05-3611f7f171f4\",\"type\":\"UnionRenderers\"},{\"attributes\":{\"active_drag\":\"auto\",\"active_inspect\":\"auto\",\"active_scroll\":\"auto\",\"active_tap\":\"auto\",\"tools\":[{\"id\":\"6c00cf34-af17-447f-8707-78796c3db0f8\",\"type\":\"PanTool\"},{\"id\":\"02851a13-005b-4edc-a34a-936ef746d5c2\",\"type\":\"WheelZoomTool\"},{\"id\":\"3e78f92e-398f-48dd-8485-298aed6c9c28\",\"type\":\"BoxZoomTool\"},{\"id\":\"e9ada47e-ed32-41d8-b766-44e6ad7c1836\",\"type\":\"SaveTool\"},{\"id\":\"7aa19d76-989d-4fcd-94bf-7a0912da4234\",\"type\":\"ResetTool\"},{\"id\":\"94602911-6f5b-4006-addb-331bc23f12cd\",\"type\":\"HelpTool\"}]},\"id\":\"4bf106db-3d4f-4251-8ab2-b1b178897333\",\"type\":\"Toolbar\"},{\"attributes\":{\"tools\":[{\"id\":\"2227d1a9-9729-46f9-b5e4-e1f837879b1d\",\"type\":\"PanTool\"},{\"id\":\"ffadd7d8-479d-4609-a181-e2fba01f37f7\",\"type\":\"WheelZoomTool\"},{\"id\":\"07a8412e-2621-43b2-90cf-f03651acca68\",\"type\":\"BoxZoomTool\"},{\"id\":\"0da1b1b7-7732-47f3-b5ab-d2b2083267c9\",\"type\":\"SaveTool\"},{\"id\":\"4710e6fc-ac67-4fba-8cb1-ab2b63039e9f\",\"type\":\"ResetTool\"},{\"id\":\"ef138e0b-3794-4c34-98cb-1df355607fd2\",\"type\":\"HelpTool\"},{\"id\":\"6c00cf34-af17-447f-8707-78796c3db0f8\",\"type\":\"PanTool\"},{\"id\":\"02851a13-005b-4edc-a34a-936ef746d5c2\",\"type\":\"WheelZoomTool\"},{\"id\":\"3e78f92e-398f-48dd-8485-298aed6c9c28\",\"type\":\"BoxZoomTool\"},{\"id\":\"e9ada47e-ed32-41d8-b766-44e6ad7c1836\",\"type\":\"SaveTool\"},{\"id\":\"7aa19d76-989d-4fcd-94bf-7a0912da4234\",\"type\":\"ResetTool\"},{\"id\":\"94602911-6f5b-4006-addb-331bc23f12cd\",\"type\":\"HelpTool\"},{\"id\":\"27d9f059-701f-40ab-b275-994cd25b32d6\",\"type\":\"PanTool\"},{\"id\":\"9f880608-fa8c-48ce-a9c6-c65d2906f9dd\",\"type\":\"WheelZoomTool\"},{\"id\":\"a9dc23f8-4b38-469c-bdcb-e416060798d4\",\"type\":\"BoxZoomTool\"},{\"id\":\"c9b8bbac-6a59-43ca-bb07-6c72ce19eba8\",\"type\":\"SaveTool\"},{\"id\":\"8c9b3c7a-29e7-439c-bb08-ef2b610923fd\",\"type\":\"ResetTool\"},{\"id\":\"b522b8ba-26f2-45c2-bb30-0df7628227ca\",\"type\":\"HelpTool\"}]},\"id\":\"3052f708-d9a7-43a1-8f32-db1dab6d4dc1\",\"type\":\"ProxyToolbar\"}],\"root_ids\":[\"870e6ea4-21e6-4acb-a85e-0d9d3cf90300\"]},\"title\":\"Bokeh Application\",\"version\":\"0.12.16\"}};\n",
       "  var render_items = [{\"docid\":\"d86676a8-5e3f-43a1-8f10-615a6985fb47\",\"elementid\":\"15d74e9e-37c3-47c1-a76f-0490de6d9648\",\"modelid\":\"870e6ea4-21e6-4acb-a85e-0d9d3cf90300\"}];\n",
       "  root.Bokeh.embed.embed_items_notebook(docs_json, render_items);\n",
       "\n",
       "  }\n",
       "  if (root.Bokeh !== undefined) {\n",
       "    embed_document(root);\n",
       "  } else {\n",
       "    var attempts = 0;\n",
       "    var timer = setInterval(function(root) {\n",
       "      if (root.Bokeh !== undefined) {\n",
       "        embed_document(root);\n",
       "        clearInterval(timer);\n",
       "      }\n",
       "      attempts++;\n",
       "      if (attempts > 100) {\n",
       "        console.log(\"Bokeh: ERROR: Unable to run BokehJS code because BokehJS library is missing\")\n",
       "        clearInterval(timer);\n",
       "      }\n",
       "    }, 10, root)\n",
       "  }\n",
       "})(window);"
      ],
      "application/vnd.bokehjs_exec.v0+json": ""
     },
     "metadata": {
      "application/vnd.bokehjs_exec.v0+json": {
       "id": "870e6ea4-21e6-4acb-a85e-0d9d3cf90300"
      }
     },
     "output_type": "display_data"
    },
    {
     "data": {
      "text/markdown": [
       "*FIGURE.* Cooling rates & difference."
      ],
      "text/plain": [
       "<IPython.core.display.Markdown object>"
      ]
     },
     "metadata": {},
     "output_type": "display_data"
    },
    {
     "data": {
      "text/html": [
       "<a id=\"Fluxes._trp.\"></a>"
      ],
      "text/plain": [
       "<IPython.core.display.HTML object>"
      ]
     },
     "metadata": {},
     "output_type": "display_data"
    },
    {
     "data": {
      "text/markdown": [
       "# Fluxes. trp."
      ],
      "text/plain": [
       "<IPython.core.display.Markdown object>"
      ]
     },
     "metadata": {},
     "output_type": "display_data"
    },
    {
     "data": {
      "text/html": [
       "\n",
       "<div class=\"bk-root\">\n",
       "    <div class=\"bk-plotdiv\" id=\"9c4e5b10-1981-4a2d-865b-673dd5d80a7a\"></div>\n",
       "</div>"
      ]
     },
     "metadata": {},
     "output_type": "display_data"
    },
    {
     "data": {
      "application/javascript": [
       "(function(root) {\n",
       "  function embed_document(root) {\n",
       "    \n",
       "  var docs_json = {\"f1b1767f-f3d8-4ffc-97e8-fcf0af53c3a0\":{\"roots\":{\"references\":[{\"attributes\":{},\"id\":\"beaf11fa-7402-4611-9364-14d69f1dd326\",\"type\":\"PanTool\"},{\"attributes\":{\"axis_label\":\"spectral band\",\"formatter\":{\"id\":\"71e8d5c8-638a-4a2a-98c8-4108feff3148\",\"type\":\"CategoricalTickFormatter\"},\"plot\":{\"id\":\"74c1971a-fb40-49d6-a0f6-67c4e5e0778c\",\"subtype\":\"Figure\",\"type\":\"Plot\"},\"ticker\":{\"id\":\"a2b62db8-547b-4b99-9b66-07073bbd2f6d\",\"type\":\"CategoricalTicker\"}},\"id\":\"a62f147d-9f1e-4efa-a012-2f955eb4256b\",\"type\":\"CategoricalAxis\"},{\"attributes\":{\"dimension\":1,\"plot\":{\"id\":\"d4dbad3a-b09a-480f-ab20-cf2cbf6eaeda\",\"subtype\":\"Figure\",\"type\":\"Plot\"},\"ticker\":{\"id\":\"4844dac6-77a6-44d3-8925-99b1410c16e4\",\"type\":\"BasicTicker\"}},\"id\":\"f07f6c9f-68ae-4ab1-938d-779fa41fa0dd\",\"type\":\"Grid\"},{\"attributes\":{\"axis_label\":\"flux (W m-2)\",\"formatter\":{\"id\":\"3d22e544-cb6c-4822-a885-8849555313c0\",\"type\":\"BasicTickFormatter\"},\"plot\":{\"id\":\"74c1971a-fb40-49d6-a0f6-67c4e5e0778c\",\"subtype\":\"Figure\",\"type\":\"Plot\"},\"ticker\":{\"id\":\"c3ac8299-4cf0-4bd8-963f-630958e6553b\",\"type\":\"BasicTicker\"}},\"id\":\"74d92283-4790-4ac2-93f3-161a7ff85a98\",\"type\":\"LinearAxis\"},{\"attributes\":{\"callback\":null,\"data\":{\"band\":[\"1\",\"2\",\"3\",\"4\",\"5\",\"6\",\"7\",\"8\",\"9\",\"10\",\"11\"],\"flux\":{\"__ndarray__\":\"AFB2r2r7yj8AbHBcpT+yPwCSAxt8Brm/QFQrXQsE4D9g0xIro5HSv4ChJvp8lN+/ALK7QEmBxT+AJjEIrBzAv8Dnr0YsGNC/YJ9mkqJfwD/ApI1+j1WpPw==\",\"dtype\":\"float64\",\"shape\":[11]}},\"selected\":{\"id\":\"770e3e75-49ac-4b53-a0e2-dcc23dfda77a\",\"type\":\"Selection\"},\"selection_policy\":{\"id\":\"c6a8a7c6-6b5e-4fef-81b8-d3836a0c05aa\",\"type\":\"UnionRenderers\"}},\"id\":\"0d787804-a037-4f7b-ba02-b501c7a6357a\",\"type\":\"ColumnDataSource\"},{\"attributes\":{},\"id\":\"c3ac8299-4cf0-4bd8-963f-630958e6553b\",\"type\":\"BasicTicker\"},{\"attributes\":{\"plot\":{\"id\":\"d6435b79-c7b1-42b0-8033-5d1ee0de1e5e\",\"subtype\":\"Figure\",\"type\":\"Plot\"},\"ticker\":{\"id\":\"7e3c2f96-cf30-4bb2-a858-53f6816a4054\",\"type\":\"CategoricalTicker\"}},\"id\":\"bcf5c112-e194-4286-98f2-2cf7dfc04d6e\",\"type\":\"Grid\"},{\"attributes\":{\"data_source\":{\"id\":\"8391a7a6-dc4c-4649-b2ba-315bfe746025\",\"type\":\"ColumnDataSource\"},\"glyph\":{\"id\":\"09d9c77c-bf4d-46a5-861c-87923eff77f5\",\"type\":\"VBar\"},\"hover_glyph\":null,\"muted_glyph\":null,\"nonselection_glyph\":{\"id\":\"b9181f29-e94b-4b25-a7e0-21407e686c86\",\"type\":\"VBar\"},\"selection_glyph\":null,\"view\":{\"id\":\"b7e00509-d29c-4c41-b788-9dd2b20fbd4f\",\"type\":\"CDSView\"}},\"id\":\"a1037671-a507-47b9-95d8-d4ec2962ee88\",\"type\":\"GlyphRenderer\"},{\"attributes\":{\"bottom_units\":\"screen\",\"fill_alpha\":{\"value\":0.5},\"fill_color\":{\"value\":\"lightgrey\"},\"left_units\":\"screen\",\"level\":\"overlay\",\"line_alpha\":{\"value\":1.0},\"line_color\":{\"value\":\"black\"},\"line_dash\":[4,4],\"line_width\":{\"value\":2},\"plot\":null,\"render_mode\":\"css\",\"right_units\":\"screen\",\"top_units\":\"screen\"},\"id\":\"420b8e3a-fccf-4c75-99c1-4eef26138608\",\"type\":\"BoxAnnotation\"},{\"attributes\":{},\"id\":\"a2b62db8-547b-4b99-9b66-07073bbd2f6d\",\"type\":\"CategoricalTicker\"},{\"attributes\":{\"fill_color\":{\"value\":\"#1f77b4\"},\"line_color\":{\"value\":\"#1f77b4\"},\"top\":{\"field\":\"flux\"},\"width\":{\"value\":0.9},\"x\":{\"field\":\"band\"}},\"id\":\"09d9c77c-bf4d-46a5-861c-87923eff77f5\",\"type\":\"VBar\"},{\"attributes\":{},\"id\":\"65212e41-ddf7-4f89-bf5b-0c7ffe6aa16b\",\"type\":\"WheelZoomTool\"},{\"attributes\":{\"plot\":null,\"text\":\"TOA flux. CLIRAD - CRD.\"},\"id\":\"a99836ad-deb7-4624-b103-685a9085d2ae\",\"type\":\"Title\"},{\"attributes\":{},\"id\":\"7e3c2f96-cf30-4bb2-a858-53f6816a4054\",\"type\":\"CategoricalTicker\"},{\"attributes\":{\"source\":{\"id\":\"f41c6f43-6f1d-4127-bb53-6cef3c550758\",\"type\":\"ColumnDataSource\"}},\"id\":\"bd320e00-3b4c-4b4f-adbc-7342eb471f65\",\"type\":\"CDSView\"},{\"attributes\":{\"bottom_units\":\"screen\",\"fill_alpha\":{\"value\":0.5},\"fill_color\":{\"value\":\"lightgrey\"},\"left_units\":\"screen\",\"level\":\"overlay\",\"line_alpha\":{\"value\":1.0},\"line_color\":{\"value\":\"black\"},\"line_dash\":[4,4],\"line_width\":{\"value\":2},\"plot\":null,\"render_mode\":\"css\",\"right_units\":\"screen\",\"top_units\":\"screen\"},\"id\":\"13343032-b9ce-435f-a26c-cda5abc05e84\",\"type\":\"BoxAnnotation\"},{\"attributes\":{\"callback\":null},\"id\":\"ad5a98d0-14bf-48a2-8c92-93fcb2531c9b\",\"type\":\"DataRange1d\"},{\"attributes\":{\"data_source\":{\"id\":\"f41c6f43-6f1d-4127-bb53-6cef3c550758\",\"type\":\"ColumnDataSource\"},\"glyph\":{\"id\":\"62992d09-4110-4092-aa57-d11412899be4\",\"type\":\"VBar\"},\"hover_glyph\":null,\"muted_glyph\":null,\"nonselection_glyph\":{\"id\":\"5739eacb-20bc-450f-9a8e-d67f5f6afdd6\",\"type\":\"VBar\"},\"selection_glyph\":null,\"view\":{\"id\":\"bd320e00-3b4c-4b4f-adbc-7342eb471f65\",\"type\":\"CDSView\"}},\"id\":\"11fc98d7-a9e6-44f9-9c01-f2a9ccc14d68\",\"type\":\"GlyphRenderer\"},{\"attributes\":{\"active_drag\":\"auto\",\"active_inspect\":\"auto\",\"active_scroll\":\"auto\",\"active_tap\":\"auto\",\"tools\":[{\"id\":\"beaf11fa-7402-4611-9364-14d69f1dd326\",\"type\":\"PanTool\"},{\"id\":\"a795e2e4-8883-4cc3-a00b-ccde144c66da\",\"type\":\"WheelZoomTool\"},{\"id\":\"ca3fb1a4-3d67-4bcb-87fb-42bea8e0d263\",\"type\":\"BoxZoomTool\"},{\"id\":\"1973b15f-eb12-4329-9779-fcbbe22fcee5\",\"type\":\"SaveTool\"},{\"id\":\"b4399d5d-1ab4-42eb-8c63-cd386879daf2\",\"type\":\"ResetTool\"},{\"id\":\"99d9b0ca-9775-4c4f-a88f-a6e2b9cc133a\",\"type\":\"HelpTool\"}]},\"id\":\"06003e3f-c2e1-4c1a-92eb-c844f92393d9\",\"type\":\"Toolbar\"},{\"attributes\":{},\"id\":\"52b51731-a550-4887-bca1-a8c6636badf8\",\"type\":\"CategoricalTicker\"},{\"attributes\":{},\"id\":\"e38db5c3-34b0-439c-9212-54e5d2fdcc6a\",\"type\":\"BasicTicker\"},{\"attributes\":{\"overlay\":{\"id\":\"13343032-b9ce-435f-a26c-cda5abc05e84\",\"type\":\"BoxAnnotation\"}},\"id\":\"9b4bb3d3-fc68-4ccb-8252-e5c5a819e8db\",\"type\":\"BoxZoomTool\"},{\"attributes\":{\"axis_label\":\"flux (W m-2)\",\"formatter\":{\"id\":\"f5a7c6ad-0b02-4011-9ec7-c1d969c455bd\",\"type\":\"BasicTickFormatter\"},\"plot\":{\"id\":\"d4dbad3a-b09a-480f-ab20-cf2cbf6eaeda\",\"subtype\":\"Figure\",\"type\":\"Plot\"},\"ticker\":{\"id\":\"4844dac6-77a6-44d3-8925-99b1410c16e4\",\"type\":\"BasicTicker\"}},\"id\":\"6042668c-8f7e-4eca-ac44-9251cfd22260\",\"type\":\"LinearAxis\"},{\"attributes\":{\"fill_alpha\":{\"value\":0.1},\"fill_color\":{\"value\":\"#1f77b4\"},\"line_alpha\":{\"value\":0.1},\"line_color\":{\"value\":\"#1f77b4\"},\"top\":{\"field\":\"flux\"},\"width\":{\"value\":0.9},\"x\":{\"field\":\"band\"}},\"id\":\"5739eacb-20bc-450f-9a8e-d67f5f6afdd6\",\"type\":\"VBar\"},{\"attributes\":{\"fill_alpha\":{\"value\":0.1},\"fill_color\":{\"value\":\"#1f77b4\"},\"line_alpha\":{\"value\":0.1},\"line_color\":{\"value\":\"#1f77b4\"},\"top\":{\"field\":\"flux\"},\"width\":{\"value\":0.9},\"x\":{\"field\":\"band\"}},\"id\":\"ad4d3cc8-9146-4b9e-96b1-89aaeca2d01b\",\"type\":\"VBar\"},{\"attributes\":{},\"id\":\"b1727676-b0aa-4824-8372-a1af7dde0cf2\",\"type\":\"PanTool\"},{\"attributes\":{},\"id\":\"a451d577-3032-4b71-b5a3-942e25590ba2\",\"type\":\"SaveTool\"},{\"attributes\":{\"callback\":null,\"factors\":[\"1\",\"2\",\"3\",\"4\",\"5\",\"6\",\"7\",\"8\",\"9\",\"10\",\"11\"]},\"id\":\"63f39667-6c3f-456d-a182-4347066654fd\",\"type\":\"FactorRange\"},{\"attributes\":{},\"id\":\"1484202e-8a73-4d6e-abe7-1d23c7c067cc\",\"type\":\"LinearScale\"},{\"attributes\":{},\"id\":\"33969294-62d3-4437-bab0-53d9c218bdc8\",\"type\":\"SaveTool\"},{\"attributes\":{},\"id\":\"05fd1d83-d536-4aa2-9ea4-cca137efabd6\",\"type\":\"CategoricalScale\"},{\"attributes\":{},\"id\":\"f799b1fd-e0dd-4efb-ad25-16eed05eb15a\",\"type\":\"CategoricalScale\"},{\"attributes\":{\"overlay\":{\"id\":\"420b8e3a-fccf-4c75-99c1-4eef26138608\",\"type\":\"BoxAnnotation\"}},\"id\":\"6fc49d15-541a-4a62-9562-07ac2d33cb9e\",\"type\":\"BoxZoomTool\"},{\"attributes\":{},\"id\":\"e6b46822-541e-45b9-a279-43faf93e2a83\",\"type\":\"HelpTool\"},{\"attributes\":{\"callback\":null,\"factors\":[\"1\",\"2\",\"3\",\"4\",\"5\",\"6\",\"7\",\"8\",\"9\",\"10\",\"11\"]},\"id\":\"46b59e9a-b184-4fae-b04a-06b951652ac9\",\"type\":\"FactorRange\"},{\"attributes\":{\"fill_alpha\":{\"value\":0.1},\"fill_color\":{\"value\":\"#1f77b4\"},\"line_alpha\":{\"value\":0.1},\"line_color\":{\"value\":\"#1f77b4\"},\"top\":{\"field\":\"flux\"},\"width\":{\"value\":0.9},\"x\":{\"field\":\"band\"}},\"id\":\"b9181f29-e94b-4b25-a7e0-21407e686c86\",\"type\":\"VBar\"},{\"attributes\":{},\"id\":\"d1376e6a-65ff-49fc-b812-3b08b4d09847\",\"type\":\"ResetTool\"},{\"attributes\":{},\"id\":\"a4f27bcd-3159-4051-9803-b748609d97a9\",\"type\":\"PanTool\"},{\"attributes\":{\"active_drag\":\"auto\",\"active_inspect\":\"auto\",\"active_scroll\":\"auto\",\"active_tap\":\"auto\",\"tools\":[{\"id\":\"a4f27bcd-3159-4051-9803-b748609d97a9\",\"type\":\"PanTool\"},{\"id\":\"ed8fedb2-e440-4393-bee9-00a638ebaa74\",\"type\":\"WheelZoomTool\"},{\"id\":\"6fc49d15-541a-4a62-9562-07ac2d33cb9e\",\"type\":\"BoxZoomTool\"},{\"id\":\"33969294-62d3-4437-bab0-53d9c218bdc8\",\"type\":\"SaveTool\"},{\"id\":\"bc6be9a7-36c3-48af-82ed-b4bc9eb5644b\",\"type\":\"ResetTool\"},{\"id\":\"e6b46822-541e-45b9-a279-43faf93e2a83\",\"type\":\"HelpTool\"}]},\"id\":\"743c5267-8cb8-40f5-941d-8f16f9797754\",\"type\":\"Toolbar\"},{\"attributes\":{\"plot\":{\"id\":\"74c1971a-fb40-49d6-a0f6-67c4e5e0778c\",\"subtype\":\"Figure\",\"type\":\"Plot\"},\"ticker\":{\"id\":\"a2b62db8-547b-4b99-9b66-07073bbd2f6d\",\"type\":\"CategoricalTicker\"}},\"id\":\"8ec90082-c9a4-465e-be5c-d910cb53006f\",\"type\":\"Grid\"},{\"attributes\":{\"children\":[{\"id\":\"05cb562e-319d-463b-9e64-d20c64761e91\",\"type\":\"Row\"}]},\"id\":\"509ee1a9-897e-4412-be14-f00bc0dd758c\",\"type\":\"Column\"},{\"attributes\":{\"dimension\":1,\"plot\":{\"id\":\"74c1971a-fb40-49d6-a0f6-67c4e5e0778c\",\"subtype\":\"Figure\",\"type\":\"Plot\"},\"ticker\":{\"id\":\"c3ac8299-4cf0-4bd8-963f-630958e6553b\",\"type\":\"BasicTicker\"}},\"id\":\"82953b6f-0ed2-41c8-b1fa-d37927bbf030\",\"type\":\"Grid\"},{\"attributes\":{\"plot\":null,\"text\":\"Atmosphere heating. CLIRAD - CRD.\"},\"id\":\"1c6730fa-e793-45fe-8d58-fd280b8f35f6\",\"type\":\"Title\"},{\"attributes\":{},\"id\":\"4844dac6-77a6-44d3-8925-99b1410c16e4\",\"type\":\"BasicTicker\"},{\"attributes\":{\"fill_color\":{\"value\":\"#1f77b4\"},\"line_color\":{\"value\":\"#1f77b4\"},\"top\":{\"field\":\"flux\"},\"width\":{\"value\":0.9},\"x\":{\"field\":\"band\"}},\"id\":\"62992d09-4110-4092-aa57-d11412899be4\",\"type\":\"VBar\"},{\"attributes\":{},\"id\":\"ed8fedb2-e440-4393-bee9-00a638ebaa74\",\"type\":\"WheelZoomTool\"},{\"attributes\":{},\"id\":\"46aed93c-68ca-47de-8b68-3c201111899d\",\"type\":\"LinearScale\"},{\"attributes\":{\"axis_label\":\"flux (W m-2)\",\"formatter\":{\"id\":\"4e355a91-e2bd-442e-b6bd-0744f1f69563\",\"type\":\"BasicTickFormatter\"},\"plot\":{\"id\":\"d6435b79-c7b1-42b0-8033-5d1ee0de1e5e\",\"subtype\":\"Figure\",\"type\":\"Plot\"},\"ticker\":{\"id\":\"e38db5c3-34b0-439c-9212-54e5d2fdcc6a\",\"type\":\"BasicTicker\"}},\"id\":\"dbd16411-8f43-4612-81ac-9d36f3559e39\",\"type\":\"LinearAxis\"},{\"attributes\":{\"plot\":{\"id\":\"d4dbad3a-b09a-480f-ab20-cf2cbf6eaeda\",\"subtype\":\"Figure\",\"type\":\"Plot\"},\"ticker\":{\"id\":\"52b51731-a550-4887-bca1-a8c6636badf8\",\"type\":\"CategoricalTicker\"}},\"id\":\"60aef759-a925-4e13-a3aa-ef4ad78e1dfe\",\"type\":\"Grid\"},{\"attributes\":{},\"id\":\"8e4b2138-1615-4440-bb04-c10a89723222\",\"type\":\"HelpTool\"},{\"attributes\":{\"below\":[{\"id\":\"d60d7ad7-5a94-413b-952e-ba9acbce2213\",\"type\":\"CategoricalAxis\"}],\"left\":[{\"id\":\"6042668c-8f7e-4eca-ac44-9251cfd22260\",\"type\":\"LinearAxis\"}],\"plot_height\":300,\"plot_width\":300,\"renderers\":[{\"id\":\"d60d7ad7-5a94-413b-952e-ba9acbce2213\",\"type\":\"CategoricalAxis\"},{\"id\":\"60aef759-a925-4e13-a3aa-ef4ad78e1dfe\",\"type\":\"Grid\"},{\"id\":\"6042668c-8f7e-4eca-ac44-9251cfd22260\",\"type\":\"LinearAxis\"},{\"id\":\"f07f6c9f-68ae-4ab1-938d-779fa41fa0dd\",\"type\":\"Grid\"},{\"id\":\"a5dec990-0507-4af4-af82-d2d84aa8f94f\",\"type\":\"BoxAnnotation\"},{\"id\":\"9f6056e1-5424-48fb-9990-c2b55e24d90b\",\"type\":\"GlyphRenderer\"}],\"title\":{\"id\":\"1c6730fa-e793-45fe-8d58-fd280b8f35f6\",\"type\":\"Title\"},\"toolbar\":{\"id\":\"06003e3f-c2e1-4c1a-92eb-c844f92393d9\",\"type\":\"Toolbar\"},\"toolbar_location\":null,\"x_range\":{\"id\":\"63f39667-6c3f-456d-a182-4347066654fd\",\"type\":\"FactorRange\"},\"x_scale\":{\"id\":\"f799b1fd-e0dd-4efb-ad25-16eed05eb15a\",\"type\":\"CategoricalScale\"},\"y_range\":{\"id\":\"e211971f-f6b7-4922-93b6-dfc8bfc2c294\",\"type\":\"DataRange1d\"},\"y_scale\":{\"id\":\"1484202e-8a73-4d6e-abe7-1d23c7c067cc\",\"type\":\"LinearScale\"}},\"id\":\"d4dbad3a-b09a-480f-ab20-cf2cbf6eaeda\",\"subtype\":\"Figure\",\"type\":\"Plot\"},{\"attributes\":{\"source\":{\"id\":\"0d787804-a037-4f7b-ba02-b501c7a6357a\",\"type\":\"ColumnDataSource\"}},\"id\":\"143ace72-78ca-4745-863a-9f943bbe0b12\",\"type\":\"CDSView\"},{\"attributes\":{\"dimension\":1,\"plot\":{\"id\":\"d6435b79-c7b1-42b0-8033-5d1ee0de1e5e\",\"subtype\":\"Figure\",\"type\":\"Plot\"},\"ticker\":{\"id\":\"e38db5c3-34b0-439c-9212-54e5d2fdcc6a\",\"type\":\"BasicTicker\"}},\"id\":\"e3980d7c-e5a1-4abd-9286-3b0c8dc1aea4\",\"type\":\"Grid\"},{\"attributes\":{\"axis_label\":\"spectral band\",\"formatter\":{\"id\":\"3351ac2e-f8e3-4057-9efa-53c3d444cb8f\",\"type\":\"CategoricalTickFormatter\"},\"plot\":{\"id\":\"d6435b79-c7b1-42b0-8033-5d1ee0de1e5e\",\"subtype\":\"Figure\",\"type\":\"Plot\"},\"ticker\":{\"id\":\"7e3c2f96-cf30-4bb2-a858-53f6816a4054\",\"type\":\"CategoricalTicker\"}},\"id\":\"3ff7eeb9-2877-4d05-b918-a3574d21c2b8\",\"type\":\"CategoricalAxis\"},{\"attributes\":{\"data_source\":{\"id\":\"0d787804-a037-4f7b-ba02-b501c7a6357a\",\"type\":\"ColumnDataSource\"},\"glyph\":{\"id\":\"240814ea-2db4-45a2-90af-09a1af6de31b\",\"type\":\"VBar\"},\"hover_glyph\":null,\"muted_glyph\":null,\"nonselection_glyph\":{\"id\":\"ad4d3cc8-9146-4b9e-96b1-89aaeca2d01b\",\"type\":\"VBar\"},\"selection_glyph\":null,\"view\":{\"id\":\"143ace72-78ca-4745-863a-9f943bbe0b12\",\"type\":\"CDSView\"}},\"id\":\"9f6056e1-5424-48fb-9990-c2b55e24d90b\",\"type\":\"GlyphRenderer\"},{\"attributes\":{\"fill_color\":{\"value\":\"#1f77b4\"},\"line_color\":{\"value\":\"#1f77b4\"},\"top\":{\"field\":\"flux\"},\"width\":{\"value\":0.9},\"x\":{\"field\":\"band\"}},\"id\":\"240814ea-2db4-45a2-90af-09a1af6de31b\",\"type\":\"VBar\"},{\"attributes\":{},\"id\":\"c6a8a7c6-6b5e-4fef-81b8-d3836a0c05aa\",\"type\":\"UnionRenderers\"},{\"attributes\":{\"callback\":null},\"id\":\"e211971f-f6b7-4922-93b6-dfc8bfc2c294\",\"type\":\"DataRange1d\"},{\"attributes\":{\"axis_label\":\"spectral band\",\"formatter\":{\"id\":\"1fe40c47-fcc4-4fd3-a048-0ae055099d59\",\"type\":\"CategoricalTickFormatter\"},\"plot\":{\"id\":\"d4dbad3a-b09a-480f-ab20-cf2cbf6eaeda\",\"subtype\":\"Figure\",\"type\":\"Plot\"},\"ticker\":{\"id\":\"52b51731-a550-4887-bca1-a8c6636badf8\",\"type\":\"CategoricalTicker\"}},\"id\":\"d60d7ad7-5a94-413b-952e-ba9acbce2213\",\"type\":\"CategoricalAxis\"},{\"attributes\":{},\"id\":\"bc6be9a7-36c3-48af-82ed-b4bc9eb5644b\",\"type\":\"ResetTool\"},{\"attributes\":{\"source\":{\"id\":\"8391a7a6-dc4c-4649-b2ba-315bfe746025\",\"type\":\"ColumnDataSource\"}},\"id\":\"b7e00509-d29c-4c41-b788-9dd2b20fbd4f\",\"type\":\"CDSView\"},{\"attributes\":{\"bottom_units\":\"screen\",\"fill_alpha\":{\"value\":0.5},\"fill_color\":{\"value\":\"lightgrey\"},\"left_units\":\"screen\",\"level\":\"overlay\",\"line_alpha\":{\"value\":1.0},\"line_color\":{\"value\":\"black\"},\"line_dash\":[4,4],\"line_width\":{\"value\":2},\"plot\":null,\"render_mode\":\"css\",\"right_units\":\"screen\",\"top_units\":\"screen\"},\"id\":\"a5dec990-0507-4af4-af82-d2d84aa8f94f\",\"type\":\"BoxAnnotation\"},{\"attributes\":{\"callback\":null},\"id\":\"c5150b97-7293-4145-9d8f-0b9d96285516\",\"type\":\"DataRange1d\"},{\"attributes\":{},\"id\":\"a2aaf954-0725-4311-a1f9-412acbaf4a72\",\"type\":\"UnionRenderers\"},{\"attributes\":{},\"id\":\"3d22e544-cb6c-4822-a885-8849555313c0\",\"type\":\"BasicTickFormatter\"},{\"attributes\":{},\"id\":\"1973b15f-eb12-4329-9779-fcbbe22fcee5\",\"type\":\"SaveTool\"},{\"attributes\":{},\"id\":\"1fe40c47-fcc4-4fd3-a048-0ae055099d59\",\"type\":\"CategoricalTickFormatter\"},{\"attributes\":{},\"id\":\"3351ac2e-f8e3-4057-9efa-53c3d444cb8f\",\"type\":\"CategoricalTickFormatter\"},{\"attributes\":{},\"id\":\"7ae156bf-e01f-4fac-995b-8ecdeb63d454\",\"type\":\"CategoricalScale\"},{\"attributes\":{},\"id\":\"cdb46974-c5d4-4d3e-b090-3cff27f40701\",\"type\":\"UnionRenderers\"},{\"attributes\":{},\"id\":\"b4399d5d-1ab4-42eb-8c63-cd386879daf2\",\"type\":\"ResetTool\"},{\"attributes\":{},\"id\":\"4e355a91-e2bd-442e-b6bd-0744f1f69563\",\"type\":\"BasicTickFormatter\"},{\"attributes\":{\"below\":[{\"id\":\"a62f147d-9f1e-4efa-a012-2f955eb4256b\",\"type\":\"CategoricalAxis\"}],\"left\":[{\"id\":\"74d92283-4790-4ac2-93f3-161a7ff85a98\",\"type\":\"LinearAxis\"}],\"plot_height\":300,\"plot_width\":300,\"renderers\":[{\"id\":\"a62f147d-9f1e-4efa-a012-2f955eb4256b\",\"type\":\"CategoricalAxis\"},{\"id\":\"8ec90082-c9a4-465e-be5c-d910cb53006f\",\"type\":\"Grid\"},{\"id\":\"74d92283-4790-4ac2-93f3-161a7ff85a98\",\"type\":\"LinearAxis\"},{\"id\":\"82953b6f-0ed2-41c8-b1fa-d37927bbf030\",\"type\":\"Grid\"},{\"id\":\"13343032-b9ce-435f-a26c-cda5abc05e84\",\"type\":\"BoxAnnotation\"},{\"id\":\"a1037671-a507-47b9-95d8-d4ec2962ee88\",\"type\":\"GlyphRenderer\"}],\"title\":{\"id\":\"9ca8b239-062c-40ec-8c1f-38dc1bedb982\",\"type\":\"Title\"},\"toolbar\":{\"id\":\"369c7ba3-6206-42cb-b342-90afc79159c2\",\"type\":\"Toolbar\"},\"toolbar_location\":null,\"x_range\":{\"id\":\"91cdd842-0303-4aa6-80be-81affd9459af\",\"type\":\"FactorRange\"},\"x_scale\":{\"id\":\"7ae156bf-e01f-4fac-995b-8ecdeb63d454\",\"type\":\"CategoricalScale\"},\"y_range\":{\"id\":\"c5150b97-7293-4145-9d8f-0b9d96285516\",\"type\":\"DataRange1d\"},\"y_scale\":{\"id\":\"23647572-7966-414b-bc2c-e9710b1243f2\",\"type\":\"LinearScale\"}},\"id\":\"74c1971a-fb40-49d6-a0f6-67c4e5e0778c\",\"subtype\":\"Figure\",\"type\":\"Plot\"},{\"attributes\":{\"plot\":null,\"text\":\"SFC flux. CLIRAD - CRD.\"},\"id\":\"9ca8b239-062c-40ec-8c1f-38dc1bedb982\",\"type\":\"Title\"},{\"attributes\":{},\"id\":\"71e8d5c8-638a-4a2a-98c8-4108feff3148\",\"type\":\"CategoricalTickFormatter\"},{\"attributes\":{\"children\":[{\"id\":\"59ababb6-0160-4d73-a6a3-2ade70862389\",\"type\":\"ToolbarBox\"},{\"id\":\"509ee1a9-897e-4412-be14-f00bc0dd758c\",\"type\":\"Column\"}]},\"id\":\"aa6694dd-4f9d-4ac0-86c2-d8c0e1d696ec\",\"type\":\"Column\"},{\"attributes\":{\"callback\":null,\"data\":{\"band\":[\"1\",\"2\",\"3\",\"4\",\"5\",\"6\",\"7\",\"8\",\"9\",\"10\",\"11\"],\"flux\":{\"__ndarray__\":\"AADADkbs874Ak+S5vg/QPwA9t9CVCMq/ABTRr62frj8g2VvK+WLjPwD9aaM6Hd0/gI4AbhYvsj8AsOtypfmOP4CJeOv829E/AFDtmpDWiD/ANHG8TF6wPw==\",\"dtype\":\"float64\",\"shape\":[11]}},\"selected\":{\"id\":\"869bd7a3-e32c-4464-acbc-ff31c8b8e2b0\",\"type\":\"Selection\"},\"selection_policy\":{\"id\":\"cdb46974-c5d4-4d3e-b090-3cff27f40701\",\"type\":\"UnionRenderers\"}},\"id\":\"8391a7a6-dc4c-4649-b2ba-315bfe746025\",\"type\":\"ColumnDataSource\"},{\"attributes\":{},\"id\":\"23647572-7966-414b-bc2c-e9710b1243f2\",\"type\":\"LinearScale\"},{\"attributes\":{},\"id\":\"99d9b0ca-9775-4c4f-a88f-a6e2b9cc133a\",\"type\":\"HelpTool\"},{\"attributes\":{},\"id\":\"a795e2e4-8883-4cc3-a00b-ccde144c66da\",\"type\":\"WheelZoomTool\"},{\"attributes\":{\"callback\":null,\"data\":{\"band\":[\"1\",\"2\",\"3\",\"4\",\"5\",\"6\",\"7\",\"8\",\"9\",\"10\",\"11\"],\"flux\":{\"__ndarray__\":\"AJJCWfj6yj8Ac9nonJ/UP4A1I4PcRdO/UGMJa2Ps4T/APq2iPzTUPwAo5bUSuqO/gPm7d9SYzj8ADTLJyFm8vwBAGHjuPZw/4IZphCPtwT/AuWLrvgi9Pw==\",\"dtype\":\"float64\",\"shape\":[11]}},\"selected\":{\"id\":\"60486899-b07d-4fc4-8940-c9c188e500d0\",\"type\":\"Selection\"},\"selection_policy\":{\"id\":\"a2aaf954-0725-4311-a1f9-412acbaf4a72\",\"type\":\"UnionRenderers\"}},\"id\":\"f41c6f43-6f1d-4127-bb53-6cef3c550758\",\"type\":\"ColumnDataSource\"},{\"attributes\":{},\"id\":\"60486899-b07d-4fc4-8940-c9c188e500d0\",\"type\":\"Selection\"},{\"attributes\":{\"tools\":[{\"id\":\"a4f27bcd-3159-4051-9803-b748609d97a9\",\"type\":\"PanTool\"},{\"id\":\"ed8fedb2-e440-4393-bee9-00a638ebaa74\",\"type\":\"WheelZoomTool\"},{\"id\":\"6fc49d15-541a-4a62-9562-07ac2d33cb9e\",\"type\":\"BoxZoomTool\"},{\"id\":\"33969294-62d3-4437-bab0-53d9c218bdc8\",\"type\":\"SaveTool\"},{\"id\":\"bc6be9a7-36c3-48af-82ed-b4bc9eb5644b\",\"type\":\"ResetTool\"},{\"id\":\"e6b46822-541e-45b9-a279-43faf93e2a83\",\"type\":\"HelpTool\"},{\"id\":\"b1727676-b0aa-4824-8372-a1af7dde0cf2\",\"type\":\"PanTool\"},{\"id\":\"65212e41-ddf7-4f89-bf5b-0c7ffe6aa16b\",\"type\":\"WheelZoomTool\"},{\"id\":\"9b4bb3d3-fc68-4ccb-8252-e5c5a819e8db\",\"type\":\"BoxZoomTool\"},{\"id\":\"a451d577-3032-4b71-b5a3-942e25590ba2\",\"type\":\"SaveTool\"},{\"id\":\"d1376e6a-65ff-49fc-b812-3b08b4d09847\",\"type\":\"ResetTool\"},{\"id\":\"8e4b2138-1615-4440-bb04-c10a89723222\",\"type\":\"HelpTool\"},{\"id\":\"beaf11fa-7402-4611-9364-14d69f1dd326\",\"type\":\"PanTool\"},{\"id\":\"a795e2e4-8883-4cc3-a00b-ccde144c66da\",\"type\":\"WheelZoomTool\"},{\"id\":\"ca3fb1a4-3d67-4bcb-87fb-42bea8e0d263\",\"type\":\"BoxZoomTool\"},{\"id\":\"1973b15f-eb12-4329-9779-fcbbe22fcee5\",\"type\":\"SaveTool\"},{\"id\":\"b4399d5d-1ab4-42eb-8c63-cd386879daf2\",\"type\":\"ResetTool\"},{\"id\":\"99d9b0ca-9775-4c4f-a88f-a6e2b9cc133a\",\"type\":\"HelpTool\"}]},\"id\":\"558d6ec2-93ae-4e80-8385-d6edb5188c94\",\"type\":\"ProxyToolbar\"},{\"attributes\":{\"callback\":null,\"factors\":[\"1\",\"2\",\"3\",\"4\",\"5\",\"6\",\"7\",\"8\",\"9\",\"10\",\"11\"]},\"id\":\"91cdd842-0303-4aa6-80be-81affd9459af\",\"type\":\"FactorRange\"},{\"attributes\":{\"children\":[{\"id\":\"d6435b79-c7b1-42b0-8033-5d1ee0de1e5e\",\"subtype\":\"Figure\",\"type\":\"Plot\"},{\"id\":\"74c1971a-fb40-49d6-a0f6-67c4e5e0778c\",\"subtype\":\"Figure\",\"type\":\"Plot\"},{\"id\":\"d4dbad3a-b09a-480f-ab20-cf2cbf6eaeda\",\"subtype\":\"Figure\",\"type\":\"Plot\"}]},\"id\":\"05cb562e-319d-463b-9e64-d20c64761e91\",\"type\":\"Row\"},{\"attributes\":{},\"id\":\"f5a7c6ad-0b02-4011-9ec7-c1d969c455bd\",\"type\":\"BasicTickFormatter\"},{\"attributes\":{},\"id\":\"770e3e75-49ac-4b53-a0e2-dcc23dfda77a\",\"type\":\"Selection\"},{\"attributes\":{},\"id\":\"869bd7a3-e32c-4464-acbc-ff31c8b8e2b0\",\"type\":\"Selection\"},{\"attributes\":{\"active_drag\":\"auto\",\"active_inspect\":\"auto\",\"active_scroll\":\"auto\",\"active_tap\":\"auto\",\"tools\":[{\"id\":\"b1727676-b0aa-4824-8372-a1af7dde0cf2\",\"type\":\"PanTool\"},{\"id\":\"65212e41-ddf7-4f89-bf5b-0c7ffe6aa16b\",\"type\":\"WheelZoomTool\"},{\"id\":\"9b4bb3d3-fc68-4ccb-8252-e5c5a819e8db\",\"type\":\"BoxZoomTool\"},{\"id\":\"a451d577-3032-4b71-b5a3-942e25590ba2\",\"type\":\"SaveTool\"},{\"id\":\"d1376e6a-65ff-49fc-b812-3b08b4d09847\",\"type\":\"ResetTool\"},{\"id\":\"8e4b2138-1615-4440-bb04-c10a89723222\",\"type\":\"HelpTool\"}]},\"id\":\"369c7ba3-6206-42cb-b342-90afc79159c2\",\"type\":\"Toolbar\"},{\"attributes\":{\"toolbar\":{\"id\":\"558d6ec2-93ae-4e80-8385-d6edb5188c94\",\"type\":\"ProxyToolbar\"},\"toolbar_location\":\"above\"},\"id\":\"59ababb6-0160-4d73-a6a3-2ade70862389\",\"type\":\"ToolbarBox\"},{\"attributes\":{\"below\":[{\"id\":\"3ff7eeb9-2877-4d05-b918-a3574d21c2b8\",\"type\":\"CategoricalAxis\"}],\"left\":[{\"id\":\"dbd16411-8f43-4612-81ac-9d36f3559e39\",\"type\":\"LinearAxis\"}],\"plot_height\":300,\"plot_width\":300,\"renderers\":[{\"id\":\"3ff7eeb9-2877-4d05-b918-a3574d21c2b8\",\"type\":\"CategoricalAxis\"},{\"id\":\"bcf5c112-e194-4286-98f2-2cf7dfc04d6e\",\"type\":\"Grid\"},{\"id\":\"dbd16411-8f43-4612-81ac-9d36f3559e39\",\"type\":\"LinearAxis\"},{\"id\":\"e3980d7c-e5a1-4abd-9286-3b0c8dc1aea4\",\"type\":\"Grid\"},{\"id\":\"420b8e3a-fccf-4c75-99c1-4eef26138608\",\"type\":\"BoxAnnotation\"},{\"id\":\"11fc98d7-a9e6-44f9-9c01-f2a9ccc14d68\",\"type\":\"GlyphRenderer\"}],\"title\":{\"id\":\"a99836ad-deb7-4624-b103-685a9085d2ae\",\"type\":\"Title\"},\"toolbar\":{\"id\":\"743c5267-8cb8-40f5-941d-8f16f9797754\",\"type\":\"Toolbar\"},\"toolbar_location\":null,\"x_range\":{\"id\":\"46b59e9a-b184-4fae-b04a-06b951652ac9\",\"type\":\"FactorRange\"},\"x_scale\":{\"id\":\"05fd1d83-d536-4aa2-9ea4-cca137efabd6\",\"type\":\"CategoricalScale\"},\"y_range\":{\"id\":\"ad5a98d0-14bf-48a2-8c92-93fcb2531c9b\",\"type\":\"DataRange1d\"},\"y_scale\":{\"id\":\"46aed93c-68ca-47de-8b68-3c201111899d\",\"type\":\"LinearScale\"}},\"id\":\"d6435b79-c7b1-42b0-8033-5d1ee0de1e5e\",\"subtype\":\"Figure\",\"type\":\"Plot\"},{\"attributes\":{\"overlay\":{\"id\":\"a5dec990-0507-4af4-af82-d2d84aa8f94f\",\"type\":\"BoxAnnotation\"}},\"id\":\"ca3fb1a4-3d67-4bcb-87fb-42bea8e0d263\",\"type\":\"BoxZoomTool\"}],\"root_ids\":[\"aa6694dd-4f9d-4ac0-86c2-d8c0e1d696ec\"]},\"title\":\"Bokeh Application\",\"version\":\"0.12.16\"}};\n",
       "  var render_items = [{\"docid\":\"f1b1767f-f3d8-4ffc-97e8-fcf0af53c3a0\",\"elementid\":\"9c4e5b10-1981-4a2d-865b-673dd5d80a7a\",\"modelid\":\"aa6694dd-4f9d-4ac0-86c2-d8c0e1d696ec\"}];\n",
       "  root.Bokeh.embed.embed_items_notebook(docs_json, render_items);\n",
       "\n",
       "  }\n",
       "  if (root.Bokeh !== undefined) {\n",
       "    embed_document(root);\n",
       "  } else {\n",
       "    var attempts = 0;\n",
       "    var timer = setInterval(function(root) {\n",
       "      if (root.Bokeh !== undefined) {\n",
       "        embed_document(root);\n",
       "        clearInterval(timer);\n",
       "      }\n",
       "      attempts++;\n",
       "      if (attempts > 100) {\n",
       "        console.log(\"Bokeh: ERROR: Unable to run BokehJS code because BokehJS library is missing\")\n",
       "        clearInterval(timer);\n",
       "      }\n",
       "    }, 10, root)\n",
       "  }\n",
       "})(window);"
      ],
      "application/vnd.bokehjs_exec.v0+json": ""
     },
     "metadata": {
      "application/vnd.bokehjs_exec.v0+json": {
       "id": "aa6694dd-4f9d-4ac0-86c2-d8c0e1d696ec"
      }
     },
     "output_type": "display_data"
    },
    {
     "data": {
      "text/markdown": [
       "*FIGURE.* Difference between CLIRAD and CRD in TOA, SFC and net atmosphere flux, in each spectral band."
      ],
      "text/plain": [
       "<IPython.core.display.Markdown object>"
      ]
     },
     "metadata": {},
     "output_type": "display_data"
    },
    {
     "data": {
      "text/html": [
       "<div>\n",
       "<style scoped>\n",
       "    .dataframe tbody tr th:only-of-type {\n",
       "        vertical-align: middle;\n",
       "    }\n",
       "\n",
       "    .dataframe tbody tr th {\n",
       "        vertical-align: top;\n",
       "    }\n",
       "\n",
       "    .dataframe thead th {\n",
       "        text-align: right;\n",
       "    }\n",
       "</style>\n",
       "<table border=\"1\" class=\"dataframe\">\n",
       "  <thead>\n",
       "    <tr style=\"text-align: right;\">\n",
       "      <th></th>\n",
       "      <th>OLR flux</th>\n",
       "      <th>SFC flux</th>\n",
       "      <th>ATM heating</th>\n",
       "    </tr>\n",
       "    <tr>\n",
       "      <th>Sum over bands</th>\n",
       "      <th></th>\n",
       "      <th></th>\n",
       "      <th></th>\n",
       "    </tr>\n",
       "  </thead>\n",
       "  <tbody>\n",
       "    <tr>\n",
       "      <th>CLIRAD - CRD</th>\n",
       "      <td>1.48</td>\n",
       "      <td>1.61</td>\n",
       "      <td>-0.13</td>\n",
       "    </tr>\n",
       "    <tr>\n",
       "      <th>CRD</th>\n",
       "      <td>-303.40</td>\n",
       "      <td>337.24</td>\n",
       "      <td>-181.37</td>\n",
       "    </tr>\n",
       "  </tbody>\n",
       "</table>\n",
       "</div>"
      ],
      "text/plain": [
       "                OLR flux  SFC flux  ATM heating\n",
       "Sum over bands                                 \n",
       "CLIRAD - CRD        1.48      1.61        -0.13\n",
       "CRD              -303.40    337.24      -181.37"
      ]
     },
     "metadata": {},
     "output_type": "display_data"
    },
    {
     "data": {
      "text/markdown": [
       "*TABLE.* Difference between CLIRAD and CRD in TOA, SFC and net atmosphere flux, over all spectral bands. CRD's TOA, SFC and net atmosphere flux, over all spectral bands."
      ],
      "text/plain": [
       "<IPython.core.display.Markdown object>"
      ]
     },
     "metadata": {},
     "output_type": "display_data"
    }
   ],
   "source": [
    "def show_html(s):\n",
    "    display.display(display.HTML(s))\n",
    "\n",
    "    \n",
    "def show_markdown(s):\n",
    "    display.display(display.Markdown(s))\n",
    "\n",
    "\n",
    "def script():\n",
    "    \n",
    "    d_atm = {'mls': 'mid-latitude summer',\n",
    "             'saw': 'sub-arctic winter',\n",
    "             'trp': 'tropical'}\n",
    "    \n",
    "    title = ('## Results over entire range of molecules'\n",
    "             ' and spectral bands')\n",
    "    \n",
    "    s_makeup = 'Makeup of atmosphere.'\n",
    "    s_atmpro = '# {}'\n",
    "    s_cool = 'Cooling rates. {}.'\n",
    "    s_flux = 'Fluxes. {}.'\n",
    "    \n",
    "    atmpros = ['mls', 'saw', 'trp']\n",
    "    \n",
    "    # TOC\n",
    "    show_markdown(title)\n",
    "    show_markdown('### Table of Contents')\n",
    "    show_html(climahtml.getHTML_hrefanchor(s_makeup))\n",
    "    for atmpro in atmpros:\n",
    "        show_markdown('**' + d_atm[atmpro] + '**')\n",
    "        show_html(climahtml.getHTML_hrefanchor(s_cool.format(atmpro)))\n",
    "        show_html(climahtml.getHTML_hrefanchor(s_flux.format(atmpro)))\n",
    "\n",
    "        \n",
    "    # Atmosphere makeup\n",
    "    show_html(climahtml.getHTML_idanchor(s_makeup))\n",
    "    show_markdown(climahtml.getMarkdown_sectitle(s_makeup))\n",
    "    show_makeup()\n",
    "        \n",
    "    for atmpro in atmpros:\n",
    "        show_html(climahtml.getHTML_idanchor(s_cool.format(atmpro)))\n",
    "        show_markdown(\n",
    "            climahtml.getMarkdown_sectitle(s_cool.format(atmpro)))\n",
    "        show_cool(atmpro=atmpro)\n",
    "        show_html(climahtml.getHTML_idanchor(s_flux.format(atmpro)))\n",
    "        show_markdown(\n",
    "            climahtml.getMarkdown_sectitle(s_flux.format(atmpro)))\n",
    "        show_hist_flux(atmpro=atmpro)\n",
    "        show_tb_flux(atmpro=atmpro)\n",
    "    \n",
    "    \n",
    "script()  "
   ]
  },
  {
   "cell_type": "code",
   "execution_count": null,
   "metadata": {
    "collapsed": true
   },
   "outputs": [],
   "source": []
  },
  {
   "cell_type": "code",
   "execution_count": 267,
   "metadata": {},
   "outputs": [
    {
     "data": {
      "text/html": [
       "<script>\n",
       "code_show=true; \n",
       "function code_toggle() {\n",
       " if (code_show){\n",
       " $('div.input').hide();\n",
       " } else {\n",
       " $('div.input').show();\n",
       " }\n",
       " code_show = !code_show\n",
       "} \n",
       "$( document ).ready(code_toggle);\n",
       "</script>\n",
       "<form action=\"javascript:code_toggle()\"><input type=\"submit\" value=\"Click here to toggle on/off the raw code.\"></form>"
      ],
      "text/plain": [
       "<IPython.core.display.HTML object>"
      ]
     },
     "execution_count": 267,
     "metadata": {},
     "output_type": "execute_result"
    }
   ],
   "source": [
    "display.HTML('''<script>\n",
    "code_show=true; \n",
    "function code_toggle() {\n",
    " if (code_show){\n",
    " $('div.input').hide();\n",
    " } else {\n",
    " $('div.input').show();\n",
    " }\n",
    " code_show = !code_show\n",
    "} \n",
    "$( document ).ready(code_toggle);\n",
    "</script>\n",
    "<form action=\"javascript:code_toggle()\"><input type=\"submit\" value=\"Click here to toggle on/off the raw code.\"></form>''')"
   ]
  },
  {
   "cell_type": "code",
   "execution_count": null,
   "metadata": {
    "collapsed": true
   },
   "outputs": [],
   "source": []
  }
 ],
 "metadata": {
  "kernelspec": {
   "display_name": "Python 3",
   "language": "python",
   "name": "python3"
  },
  "language_info": {
   "codemirror_mode": {
    "name": "ipython",
    "version": 3
   },
   "file_extension": ".py",
   "mimetype": "text/x-python",
   "name": "python",
   "nbconvert_exporter": "python",
   "pygments_lexer": "ipython3",
   "version": "3.6.1"
  }
 },
 "nbformat": 4,
 "nbformat_minor": 2
}
