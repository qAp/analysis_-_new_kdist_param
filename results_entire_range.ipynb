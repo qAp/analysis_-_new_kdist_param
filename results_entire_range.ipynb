{
 "cells": [
  {
   "cell_type": "code",
   "execution_count": 650,
   "metadata": {
    "collapsed": true
   },
   "outputs": [],
   "source": [
    "import os\n",
    "import ast\n",
    "import json\n",
    "import importlib \n",
    "import itertools\n",
    "import collections\n",
    "import pprint\n",
    "\n",
    "from bokeh.io import output_notebook, show\n",
    "from bokeh.layouts import gridplot\n",
    "from bokeh.plotting import figure\n",
    "from bokeh.models import Range1d, Legend, ColumnDataSource\n",
    "from bokeh.palettes import all_palettes\n",
    "\n",
    "import matplotlib\n",
    "import matplotlib.pyplot as plt\n",
    "import numpy as np\n",
    "import pandas as pd\n",
    "import xarray as xr\n",
    "\n",
    "\n",
    "import climatools.lblnew.bestfit_params as bestfits\n",
    "from climatools.lblnew import setup_bestfit, setup_overlap\n",
    "import climatools.lblnew.pipeline as pipe_lblnew\n",
    "import climatools.cliradlw.setup as setup_cliradlw\n",
    "import climatools.cliradlw.pipeline as pipe_cliradlw\n",
    "\n",
    "import climatools.html.html as climahtml\n",
    "from climatools.lblnew.dataio import *\n",
    "from climatools.plot.plot import *\n",
    "\n",
    "\n",
    "from IPython import display\n",
    "\n",
    "#importlib.reload(bestfits)\n",
    "#importlib.reload(setup_bestfit)\n",
    "#importlib.reload(setup_overlap)\n",
    "#importlib.reload(pipe_lblnew)\n",
    "#importlib.reload(setup_cliradlw)\n",
    "#importlib.reload(pipe_cliradlw)"
   ]
  },
  {
   "cell_type": "code",
   "execution_count": 651,
   "metadata": {},
   "outputs": [
    {
     "data": {
      "text/html": [
       "\n",
       "    <div class=\"bk-root\">\n",
       "        <a href=\"https://bokeh.pydata.org\" target=\"_blank\" class=\"bk-logo bk-logo-small bk-logo-notebook\"></a>\n",
       "        <span id=\"a3576d7d-08ca-4562-8eda-44bf31fe8f21\">Loading BokehJS ...</span>\n",
       "    </div>"
      ]
     },
     "metadata": {},
     "output_type": "display_data"
    },
    {
     "data": {
      "application/javascript": [
       "\n",
       "(function(root) {\n",
       "  function now() {\n",
       "    return new Date();\n",
       "  }\n",
       "\n",
       "  var force = true;\n",
       "\n",
       "  if (typeof (root._bokeh_onload_callbacks) === \"undefined\" || force === true) {\n",
       "    root._bokeh_onload_callbacks = [];\n",
       "    root._bokeh_is_loading = undefined;\n",
       "  }\n",
       "\n",
       "  var JS_MIME_TYPE = 'application/javascript';\n",
       "  var HTML_MIME_TYPE = 'text/html';\n",
       "  var EXEC_MIME_TYPE = 'application/vnd.bokehjs_exec.v0+json';\n",
       "  var CLASS_NAME = 'output_bokeh rendered_html';\n",
       "\n",
       "  /**\n",
       "   * Render data to the DOM node\n",
       "   */\n",
       "  function render(props, node) {\n",
       "    var script = document.createElement(\"script\");\n",
       "    node.appendChild(script);\n",
       "  }\n",
       "\n",
       "  /**\n",
       "   * Handle when an output is cleared or removed\n",
       "   */\n",
       "  function handleClearOutput(event, handle) {\n",
       "    var cell = handle.cell;\n",
       "\n",
       "    var id = cell.output_area._bokeh_element_id;\n",
       "    var server_id = cell.output_area._bokeh_server_id;\n",
       "    // Clean up Bokeh references\n",
       "    if (id !== undefined) {\n",
       "      Bokeh.index[id].model.document.clear();\n",
       "      delete Bokeh.index[id];\n",
       "    }\n",
       "\n",
       "    if (server_id !== undefined) {\n",
       "      // Clean up Bokeh references\n",
       "      var cmd = \"from bokeh.io.state import curstate; print(curstate().uuid_to_server['\" + server_id + \"'].get_sessions()[0].document.roots[0]._id)\";\n",
       "      cell.notebook.kernel.execute(cmd, {\n",
       "        iopub: {\n",
       "          output: function(msg) {\n",
       "            var element_id = msg.content.text.trim();\n",
       "            Bokeh.index[element_id].model.document.clear();\n",
       "            delete Bokeh.index[element_id];\n",
       "          }\n",
       "        }\n",
       "      });\n",
       "      // Destroy server and session\n",
       "      var cmd = \"import bokeh.io.notebook as ion; ion.destroy_server('\" + server_id + \"')\";\n",
       "      cell.notebook.kernel.execute(cmd);\n",
       "    }\n",
       "  }\n",
       "\n",
       "  /**\n",
       "   * Handle when a new output is added\n",
       "   */\n",
       "  function handleAddOutput(event, handle) {\n",
       "    var output_area = handle.output_area;\n",
       "    var output = handle.output;\n",
       "\n",
       "    // limit handleAddOutput to display_data with EXEC_MIME_TYPE content only\n",
       "    if ((output.output_type != \"display_data\") || (!output.data.hasOwnProperty(EXEC_MIME_TYPE))) {\n",
       "      return\n",
       "    }\n",
       "\n",
       "    var toinsert = output_area.element.find(\".\" + CLASS_NAME.split(' ')[0]);\n",
       "\n",
       "    if (output.metadata[EXEC_MIME_TYPE][\"id\"] !== undefined) {\n",
       "      toinsert[toinsert.length - 1].firstChild.textContent = output.data[JS_MIME_TYPE];\n",
       "      // store reference to embed id on output_area\n",
       "      output_area._bokeh_element_id = output.metadata[EXEC_MIME_TYPE][\"id\"];\n",
       "    }\n",
       "    if (output.metadata[EXEC_MIME_TYPE][\"server_id\"] !== undefined) {\n",
       "      var bk_div = document.createElement(\"div\");\n",
       "      bk_div.innerHTML = output.data[HTML_MIME_TYPE];\n",
       "      var script_attrs = bk_div.children[0].attributes;\n",
       "      for (var i = 0; i < script_attrs.length; i++) {\n",
       "        toinsert[toinsert.length - 1].firstChild.setAttribute(script_attrs[i].name, script_attrs[i].value);\n",
       "      }\n",
       "      // store reference to server id on output_area\n",
       "      output_area._bokeh_server_id = output.metadata[EXEC_MIME_TYPE][\"server_id\"];\n",
       "    }\n",
       "  }\n",
       "\n",
       "  function register_renderer(events, OutputArea) {\n",
       "\n",
       "    function append_mime(data, metadata, element) {\n",
       "      // create a DOM node to render to\n",
       "      var toinsert = this.create_output_subarea(\n",
       "        metadata,\n",
       "        CLASS_NAME,\n",
       "        EXEC_MIME_TYPE\n",
       "      );\n",
       "      this.keyboard_manager.register_events(toinsert);\n",
       "      // Render to node\n",
       "      var props = {data: data, metadata: metadata[EXEC_MIME_TYPE]};\n",
       "      render(props, toinsert[toinsert.length - 1]);\n",
       "      element.append(toinsert);\n",
       "      return toinsert\n",
       "    }\n",
       "\n",
       "    /* Handle when an output is cleared or removed */\n",
       "    events.on('clear_output.CodeCell', handleClearOutput);\n",
       "    events.on('delete.Cell', handleClearOutput);\n",
       "\n",
       "    /* Handle when a new output is added */\n",
       "    events.on('output_added.OutputArea', handleAddOutput);\n",
       "\n",
       "    /**\n",
       "     * Register the mime type and append_mime function with output_area\n",
       "     */\n",
       "    OutputArea.prototype.register_mime_type(EXEC_MIME_TYPE, append_mime, {\n",
       "      /* Is output safe? */\n",
       "      safe: true,\n",
       "      /* Index of renderer in `output_area.display_order` */\n",
       "      index: 0\n",
       "    });\n",
       "  }\n",
       "\n",
       "  // register the mime type if in Jupyter Notebook environment and previously unregistered\n",
       "  if (root.Jupyter !== undefined) {\n",
       "    var events = require('base/js/events');\n",
       "    var OutputArea = require('notebook/js/outputarea').OutputArea;\n",
       "\n",
       "    if (OutputArea.prototype.mime_types().indexOf(EXEC_MIME_TYPE) == -1) {\n",
       "      register_renderer(events, OutputArea);\n",
       "    }\n",
       "  }\n",
       "\n",
       "  \n",
       "  if (typeof (root._bokeh_timeout) === \"undefined\" || force === true) {\n",
       "    root._bokeh_timeout = Date.now() + 5000;\n",
       "    root._bokeh_failed_load = false;\n",
       "  }\n",
       "\n",
       "  var NB_LOAD_WARNING = {'data': {'text/html':\n",
       "     \"<div style='background-color: #fdd'>\\n\"+\n",
       "     \"<p>\\n\"+\n",
       "     \"BokehJS does not appear to have successfully loaded. If loading BokehJS from CDN, this \\n\"+\n",
       "     \"may be due to a slow or bad network connection. Possible fixes:\\n\"+\n",
       "     \"</p>\\n\"+\n",
       "     \"<ul>\\n\"+\n",
       "     \"<li>re-rerun `output_notebook()` to attempt to load from CDN again, or</li>\\n\"+\n",
       "     \"<li>use INLINE resources instead, as so:</li>\\n\"+\n",
       "     \"</ul>\\n\"+\n",
       "     \"<code>\\n\"+\n",
       "     \"from bokeh.resources import INLINE\\n\"+\n",
       "     \"output_notebook(resources=INLINE)\\n\"+\n",
       "     \"</code>\\n\"+\n",
       "     \"</div>\"}};\n",
       "\n",
       "  function display_loaded() {\n",
       "    var el = document.getElementById(\"a3576d7d-08ca-4562-8eda-44bf31fe8f21\");\n",
       "    if (el != null) {\n",
       "      el.textContent = \"BokehJS is loading...\";\n",
       "    }\n",
       "    if (root.Bokeh !== undefined) {\n",
       "      if (el != null) {\n",
       "        el.textContent = \"BokehJS \" + root.Bokeh.version + \" successfully loaded.\";\n",
       "      }\n",
       "    } else if (Date.now() < root._bokeh_timeout) {\n",
       "      setTimeout(display_loaded, 100)\n",
       "    }\n",
       "  }\n",
       "\n",
       "\n",
       "  function run_callbacks() {\n",
       "    try {\n",
       "      root._bokeh_onload_callbacks.forEach(function(callback) { callback() });\n",
       "    }\n",
       "    finally {\n",
       "      delete root._bokeh_onload_callbacks\n",
       "    }\n",
       "    console.info(\"Bokeh: all callbacks have finished\");\n",
       "  }\n",
       "\n",
       "  function load_libs(js_urls, callback) {\n",
       "    root._bokeh_onload_callbacks.push(callback);\n",
       "    if (root._bokeh_is_loading > 0) {\n",
       "      console.log(\"Bokeh: BokehJS is being loaded, scheduling callback at\", now());\n",
       "      return null;\n",
       "    }\n",
       "    if (js_urls == null || js_urls.length === 0) {\n",
       "      run_callbacks();\n",
       "      return null;\n",
       "    }\n",
       "    console.log(\"Bokeh: BokehJS not loaded, scheduling load and callback at\", now());\n",
       "    root._bokeh_is_loading = js_urls.length;\n",
       "    for (var i = 0; i < js_urls.length; i++) {\n",
       "      var url = js_urls[i];\n",
       "      var s = document.createElement('script');\n",
       "      s.src = url;\n",
       "      s.async = false;\n",
       "      s.onreadystatechange = s.onload = function() {\n",
       "        root._bokeh_is_loading--;\n",
       "        if (root._bokeh_is_loading === 0) {\n",
       "          console.log(\"Bokeh: all BokehJS libraries loaded\");\n",
       "          run_callbacks()\n",
       "        }\n",
       "      };\n",
       "      s.onerror = function() {\n",
       "        console.warn(\"failed to load library \" + url);\n",
       "      };\n",
       "      console.log(\"Bokeh: injecting script tag for BokehJS library: \", url);\n",
       "      document.getElementsByTagName(\"head\")[0].appendChild(s);\n",
       "    }\n",
       "  };var element = document.getElementById(\"a3576d7d-08ca-4562-8eda-44bf31fe8f21\");\n",
       "  if (element == null) {\n",
       "    console.log(\"Bokeh: ERROR: autoload.js configured with elementid 'a3576d7d-08ca-4562-8eda-44bf31fe8f21' but no matching script tag was found. \")\n",
       "    return false;\n",
       "  }\n",
       "\n",
       "  var js_urls = [\"https://cdn.pydata.org/bokeh/release/bokeh-0.12.16.min.js\", \"https://cdn.pydata.org/bokeh/release/bokeh-widgets-0.12.16.min.js\", \"https://cdn.pydata.org/bokeh/release/bokeh-tables-0.12.16.min.js\", \"https://cdn.pydata.org/bokeh/release/bokeh-gl-0.12.16.min.js\"];\n",
       "\n",
       "  var inline_js = [\n",
       "    function(Bokeh) {\n",
       "      Bokeh.set_log_level(\"info\");\n",
       "    },\n",
       "    \n",
       "    function(Bokeh) {\n",
       "      \n",
       "    },\n",
       "    function(Bokeh) {\n",
       "      console.log(\"Bokeh: injecting CSS: https://cdn.pydata.org/bokeh/release/bokeh-0.12.16.min.css\");\n",
       "      Bokeh.embed.inject_css(\"https://cdn.pydata.org/bokeh/release/bokeh-0.12.16.min.css\");\n",
       "      console.log(\"Bokeh: injecting CSS: https://cdn.pydata.org/bokeh/release/bokeh-widgets-0.12.16.min.css\");\n",
       "      Bokeh.embed.inject_css(\"https://cdn.pydata.org/bokeh/release/bokeh-widgets-0.12.16.min.css\");\n",
       "      console.log(\"Bokeh: injecting CSS: https://cdn.pydata.org/bokeh/release/bokeh-tables-0.12.16.min.css\");\n",
       "      Bokeh.embed.inject_css(\"https://cdn.pydata.org/bokeh/release/bokeh-tables-0.12.16.min.css\");\n",
       "    }\n",
       "  ];\n",
       "\n",
       "  function run_inline_js() {\n",
       "    \n",
       "    if ((root.Bokeh !== undefined) || (force === true)) {\n",
       "      for (var i = 0; i < inline_js.length; i++) {\n",
       "        inline_js[i].call(root, root.Bokeh);\n",
       "      }if (force === true) {\n",
       "        display_loaded();\n",
       "      }} else if (Date.now() < root._bokeh_timeout) {\n",
       "      setTimeout(run_inline_js, 100);\n",
       "    } else if (!root._bokeh_failed_load) {\n",
       "      console.log(\"Bokeh: BokehJS failed to load within specified timeout.\");\n",
       "      root._bokeh_failed_load = true;\n",
       "    } else if (force !== true) {\n",
       "      var cell = $(document.getElementById(\"a3576d7d-08ca-4562-8eda-44bf31fe8f21\")).parents('.cell').data().cell;\n",
       "      cell.output_area.append_execute_result(NB_LOAD_WARNING)\n",
       "    }\n",
       "\n",
       "  }\n",
       "\n",
       "  if (root._bokeh_is_loading === 0) {\n",
       "    console.log(\"Bokeh: BokehJS loaded, going straight to plotting\");\n",
       "    run_inline_js();\n",
       "  } else {\n",
       "    load_libs(js_urls, function() {\n",
       "      console.log(\"Bokeh: BokehJS plotting callback run at\", now());\n",
       "      run_inline_js();\n",
       "    });\n",
       "  }\n",
       "}(window));"
      ],
      "application/vnd.bokehjs_load.v0+json": "\n(function(root) {\n  function now() {\n    return new Date();\n  }\n\n  var force = true;\n\n  if (typeof (root._bokeh_onload_callbacks) === \"undefined\" || force === true) {\n    root._bokeh_onload_callbacks = [];\n    root._bokeh_is_loading = undefined;\n  }\n\n  \n\n  \n  if (typeof (root._bokeh_timeout) === \"undefined\" || force === true) {\n    root._bokeh_timeout = Date.now() + 5000;\n    root._bokeh_failed_load = false;\n  }\n\n  var NB_LOAD_WARNING = {'data': {'text/html':\n     \"<div style='background-color: #fdd'>\\n\"+\n     \"<p>\\n\"+\n     \"BokehJS does not appear to have successfully loaded. If loading BokehJS from CDN, this \\n\"+\n     \"may be due to a slow or bad network connection. Possible fixes:\\n\"+\n     \"</p>\\n\"+\n     \"<ul>\\n\"+\n     \"<li>re-rerun `output_notebook()` to attempt to load from CDN again, or</li>\\n\"+\n     \"<li>use INLINE resources instead, as so:</li>\\n\"+\n     \"</ul>\\n\"+\n     \"<code>\\n\"+\n     \"from bokeh.resources import INLINE\\n\"+\n     \"output_notebook(resources=INLINE)\\n\"+\n     \"</code>\\n\"+\n     \"</div>\"}};\n\n  function display_loaded() {\n    var el = document.getElementById(\"a3576d7d-08ca-4562-8eda-44bf31fe8f21\");\n    if (el != null) {\n      el.textContent = \"BokehJS is loading...\";\n    }\n    if (root.Bokeh !== undefined) {\n      if (el != null) {\n        el.textContent = \"BokehJS \" + root.Bokeh.version + \" successfully loaded.\";\n      }\n    } else if (Date.now() < root._bokeh_timeout) {\n      setTimeout(display_loaded, 100)\n    }\n  }\n\n\n  function run_callbacks() {\n    try {\n      root._bokeh_onload_callbacks.forEach(function(callback) { callback() });\n    }\n    finally {\n      delete root._bokeh_onload_callbacks\n    }\n    console.info(\"Bokeh: all callbacks have finished\");\n  }\n\n  function load_libs(js_urls, callback) {\n    root._bokeh_onload_callbacks.push(callback);\n    if (root._bokeh_is_loading > 0) {\n      console.log(\"Bokeh: BokehJS is being loaded, scheduling callback at\", now());\n      return null;\n    }\n    if (js_urls == null || js_urls.length === 0) {\n      run_callbacks();\n      return null;\n    }\n    console.log(\"Bokeh: BokehJS not loaded, scheduling load and callback at\", now());\n    root._bokeh_is_loading = js_urls.length;\n    for (var i = 0; i < js_urls.length; i++) {\n      var url = js_urls[i];\n      var s = document.createElement('script');\n      s.src = url;\n      s.async = false;\n      s.onreadystatechange = s.onload = function() {\n        root._bokeh_is_loading--;\n        if (root._bokeh_is_loading === 0) {\n          console.log(\"Bokeh: all BokehJS libraries loaded\");\n          run_callbacks()\n        }\n      };\n      s.onerror = function() {\n        console.warn(\"failed to load library \" + url);\n      };\n      console.log(\"Bokeh: injecting script tag for BokehJS library: \", url);\n      document.getElementsByTagName(\"head\")[0].appendChild(s);\n    }\n  };var element = document.getElementById(\"a3576d7d-08ca-4562-8eda-44bf31fe8f21\");\n  if (element == null) {\n    console.log(\"Bokeh: ERROR: autoload.js configured with elementid 'a3576d7d-08ca-4562-8eda-44bf31fe8f21' but no matching script tag was found. \")\n    return false;\n  }\n\n  var js_urls = [\"https://cdn.pydata.org/bokeh/release/bokeh-0.12.16.min.js\", \"https://cdn.pydata.org/bokeh/release/bokeh-widgets-0.12.16.min.js\", \"https://cdn.pydata.org/bokeh/release/bokeh-tables-0.12.16.min.js\", \"https://cdn.pydata.org/bokeh/release/bokeh-gl-0.12.16.min.js\"];\n\n  var inline_js = [\n    function(Bokeh) {\n      Bokeh.set_log_level(\"info\");\n    },\n    \n    function(Bokeh) {\n      \n    },\n    function(Bokeh) {\n      console.log(\"Bokeh: injecting CSS: https://cdn.pydata.org/bokeh/release/bokeh-0.12.16.min.css\");\n      Bokeh.embed.inject_css(\"https://cdn.pydata.org/bokeh/release/bokeh-0.12.16.min.css\");\n      console.log(\"Bokeh: injecting CSS: https://cdn.pydata.org/bokeh/release/bokeh-widgets-0.12.16.min.css\");\n      Bokeh.embed.inject_css(\"https://cdn.pydata.org/bokeh/release/bokeh-widgets-0.12.16.min.css\");\n      console.log(\"Bokeh: injecting CSS: https://cdn.pydata.org/bokeh/release/bokeh-tables-0.12.16.min.css\");\n      Bokeh.embed.inject_css(\"https://cdn.pydata.org/bokeh/release/bokeh-tables-0.12.16.min.css\");\n    }\n  ];\n\n  function run_inline_js() {\n    \n    if ((root.Bokeh !== undefined) || (force === true)) {\n      for (var i = 0; i < inline_js.length; i++) {\n        inline_js[i].call(root, root.Bokeh);\n      }if (force === true) {\n        display_loaded();\n      }} else if (Date.now() < root._bokeh_timeout) {\n      setTimeout(run_inline_js, 100);\n    } else if (!root._bokeh_failed_load) {\n      console.log(\"Bokeh: BokehJS failed to load within specified timeout.\");\n      root._bokeh_failed_load = true;\n    } else if (force !== true) {\n      var cell = $(document.getElementById(\"a3576d7d-08ca-4562-8eda-44bf31fe8f21\")).parents('.cell').data().cell;\n      cell.output_area.append_execute_result(NB_LOAD_WARNING)\n    }\n\n  }\n\n  if (root._bokeh_is_loading === 0) {\n    console.log(\"Bokeh: BokehJS loaded, going straight to plotting\");\n    run_inline_js();\n  } else {\n    load_libs(js_urls, function() {\n      console.log(\"Bokeh: BokehJS plotting callback run at\", now());\n      run_inline_js();\n    });\n  }\n}(window));"
     },
     "metadata": {},
     "output_type": "display_data"
    }
   ],
   "source": [
    "output_notebook()"
   ]
  },
  {
   "cell_type": "code",
   "execution_count": 652,
   "metadata": {
    "collapsed": true
   },
   "outputs": [],
   "source": [
    "'''\n",
    "Get the clirad-lw and lblnew `param`s for all spectral bands.  \n",
    "These are returned by functions `clirad_params_atm` and\n",
    "`lblnew_params_atm`, respectively.\n",
    "'''\n",
    "\n",
    "def molecules_byband_atm():\n",
    "    return {1: {'h2o': 'atmpro'},\n",
    "            2: {'h2o': 'atmpro'}, \n",
    "            3: {'co2': 0.0004, 'h2o': 'atmpro', 'n2o': 3.2e-07},\n",
    "            4: {'co2': 0.0004, 'h2o': 'atmpro'},\n",
    "            5: {'co2': 0.0004, 'h2o': 'atmpro'},\n",
    "            6: {'co2': 0.0004, 'h2o': 'atmpro'},\n",
    "            7: {'co2': 0.0004, 'h2o': 'atmpro', 'o3': 'atmpro'},\n",
    "            8: {'h2o': 'atmpro'},\n",
    "            9: {'ch4': 1.8e-06, 'h2o': 'atmpro', 'n2o': 3.2e-07},\n",
    "            10: {'h2o': 'atmpro'},\n",
    "            11: {'co2': 0.0004, 'h2o': 'atmpro'}}\n",
    "\n",
    "\n",
    "def clirad_params_atm(atmpro='mls'):\n",
    "    d = {}\n",
    "    for band, molecule in molecules_byband_atm().items():\n",
    "        for param in setup_cliradlw.test_cases():\n",
    "            if [band] == param['band'] and molecule == param['molecule']:\n",
    "                param['atmpro'] = atmpro\n",
    "                d[band] = param\n",
    "                break                \n",
    "    return d\n",
    "\n",
    "\n",
    "def analysis_dirs_atm(atmpro='mls'):\n",
    "    params = clirad_params_atm(atmpro=atmpro)\n",
    "    return {band: pipe_cliradlw.get_analysis_dir(param=param,\n",
    "                                                 setup=setup_cliradlw) \n",
    "            for band, param in params.items()}\n",
    "\n",
    "\n",
    "def lblnew_params_atm(atmpro='mls'):\n",
    "    dirs = analysis_dirs_atm(atmpro=atmpro)\n",
    "    \n",
    "    d = {}\n",
    "    for band, dirname in dirs.items():\n",
    "        with open(os.path.join(dirname, 'param.py'), \n",
    "                  mode='r', encoding='utf-8') as f:\n",
    "            _, l = f.readlines()\n",
    "        \n",
    "        s = l.split('=')[1].strip()\n",
    "        d[band] = ast.literal_eval(s)\n",
    "        \n",
    "    return d\n",
    "\n",
    "    \n"
   ]
  },
  {
   "cell_type": "code",
   "execution_count": 653,
   "metadata": {
    "collapsed": true
   },
   "outputs": [],
   "source": [
    "def show_makeup():\n",
    "    df = pd.DataFrame()\n",
    "\n",
    "    for band, molecule in molecules_byband_atm().items():\n",
    "        for name, conc in molecule.items():\n",
    "            df.loc[name, band] = str(conc)\n",
    "\n",
    "    df = df.fillna(0)\n",
    "    df.columns.name = 'clirad band'\n",
    "    df.index.name = 'molecule'\n",
    "    \n",
    "    display.display(df)\n",
    "    \n",
    "    print('Table. The makeup of the atmosphere.')\n",
    "\n"
   ]
  },
  {
   "cell_type": "code",
   "execution_count": 654,
   "metadata": {
    "collapsed": true
   },
   "outputs": [],
   "source": [
    "def load_output_file(path_csv):\n",
    "    '''\n",
    "    Load lblnew output .csv file to xarray.Dataset\n",
    "    \n",
    "    Parameters\n",
    "    ----------\n",
    "    path_csv: str\n",
    "              Path to the .csv file to be loaded.\n",
    "    ds: xarray.Dataset\n",
    "        Data in the input file in the form of an xarray.Dataset.\n",
    "    '''\n",
    "    toindex = ['band', 'pressure', 'igg', 'g']    \n",
    "    df = pd.read_csv(path_csv, sep=r'\\s+')\n",
    "    df = df.set_index([i for i in toindex if i in df.columns])\n",
    "    df = df.rename(columns={'sfu': 'flug',\n",
    "                            'sfd': 'fldg',\n",
    "                            'fnet': 'fnetg',\n",
    "                            'coolr': 'coolrg'})\n",
    "    ds = xr.Dataset.from_dataframe(df)\n",
    "\n",
    "    for l in ('level', 'layer'):\n",
    "        if l in ds.data_vars:\n",
    "            if len(ds[l].dims) > 1:\n",
    "                surface = {d: 0 for d in ds.dims if d != 'pressure'}\n",
    "                coord_level = ds[l][surface]\n",
    "                ds.coords[l] = ('pressure', coord_level)\n",
    "            else:\n",
    "                ds.coords[l] = ('pressure', ds[l])\n",
    "    \n",
    "    return ds"
   ]
  },
  {
   "cell_type": "code",
   "execution_count": 655,
   "metadata": {
    "collapsed": true
   },
   "outputs": [],
   "source": [
    "def lblnew_setup(param=None):\n",
    "    if 'ng_refs' in param:\n",
    "        return {'setup': setup_bestfit,\n",
    "                'fname_flux_crd': 'output_flux.dat',\n",
    "                'fname_cool_crd': 'output_coolr.dat',\n",
    "                'fname_flux_wgt': 'output_wfluxg.dat',\n",
    "                'fname_cool_wgt': 'output_wcoolrg.dat'}\n",
    "    else:\n",
    "        return {'setup': setup_overlap,\n",
    "                'fname_flux_crd': 'output_flux.dat',\n",
    "                'fname_cool_crd': 'output_coolr.dat',\n",
    "                'fname_flux_wgt': 'output_wflux.dat',\n",
    "                'fname_cool_wgt': 'output_wcoolr.dat'}\n",
    "\n",
    "    \n",
    "def load_lblnew_data(param):\n",
    "    \n",
    "    fname_dsname = [('fname_flux_crd', 'ds_flux_crd'),\n",
    "                    ('fname_cool_crd', 'ds_cool_crd'),\n",
    "                    ('fname_flux_wgt', 'ds_flux_wgt'),\n",
    "                    ('fname_cool_wgt', 'ds_cool_wgt')]\n",
    "    \n",
    "    d = lblnew_setup(param)\n",
    "    dir_fortran = pipe_lblnew.get_dir_case(param, setup=d['setup'])\n",
    "    \n",
    "    data_dict = {}\n",
    "    for fname, dsname in fname_dsname:\n",
    "        fpath = os.path.join(dir_fortran, d[fname])\n",
    "        data_dict[dsname] = load_output_file(fpath)\n",
    "    return data_dict"
   ]
  },
  {
   "cell_type": "code",
   "execution_count": 656,
   "metadata": {
    "collapsed": true
   },
   "outputs": [],
   "source": [
    "def crd_data_atm(params_atm):\n",
    "    '''\n",
    "    Parameters\n",
    "    ----------\n",
    "    \n",
    "    params_atm: dict\n",
    "                Parameter dictionary for each band.\n",
    "                \n",
    "    d: dict\n",
    "       'flux': xr.Dataset. [pressure, band]\n",
    "               Fluxes.\n",
    "       'cool': xr.Dataset. [pressure, band]\n",
    "               Cooling rate.\n",
    "    \n",
    "    '''\n",
    "    \n",
    "    results_atm = {band: load_lblnew_data(param) \n",
    "                   for band, param in params_atm.items()}\n",
    "    \n",
    "    bands = [band for band, _ in params_atm.items()]\n",
    "    fluxs = [d['ds_flux_crd'] for _, d in results_atm.items()]\n",
    "    cools = [d['ds_cool_crd'] for _, d in results_atm.items()]\n",
    "    \n",
    "    d = {}\n",
    "    d['flux'] = xr.concat(fluxs, dim=bands).rename({'concat_dim': 'band'})\n",
    "    d['cool'] = xr.concat(cools, dim=bands).rename({'concat_dim': 'band'})\n",
    "    return d        \n",
    "        \n",
    "        \n",
    "\n",
    "def clirad_data_atm(params_atm):\n",
    "    \n",
    "    dirnames = [pipe_cliradlw.get_fortran_dir(param,\n",
    "                                              setup=setup_cliradlw)\n",
    "                for _, param in params_atm.items()]\n",
    "    \n",
    "    fpaths_flux = [os.path.join(n, 'output_flux.dat') for n in dirnames]\n",
    "    fpaths_cool = [os.path.join(n, 'output_coolr.dat') for n in dirnames]\n",
    "    \n",
    "    bands = [band for band, _ in params_atm.items()]\n",
    "    fluxs = [load_output_file(p) for p in fpaths_flux]    \n",
    "    cools = [load_output_file(p) for p in fpaths_cool]\n",
    "    \n",
    "    d = {}\n",
    "    d['flux'] = sum(fluxs).sel(band=bands)\n",
    "    d['cool'] = sum(cools).sel(band=bands)\n",
    "    return d\n",
    "\n"
   ]
  },
  {
   "cell_type": "code",
   "execution_count": 657,
   "metadata": {
    "collapsed": true
   },
   "outputs": [],
   "source": [
    "def fmt_cool(ds_in):\n",
    "    ds = ds_in.copy(deep=True)\n",
    "    if 'igg' in ds.dims:\n",
    "        ds = ds.sel(igg=1)\n",
    "\n",
    "    if 'g' in ds.dims:\n",
    "        ds = ds.sum('g')\n",
    "            \n",
    "    if 'band' in ds.dims:\n",
    "        try:\n",
    "            ds = ds.squeeze('band')\n",
    "        except ValueError:\n",
    "            ds = ds.sum('band')\n",
    "                \n",
    "    return ds['coolrg']\n",
    "\n",
    "\n",
    "\n",
    "def nice_xlims(pltdata=None, prange=None):\n",
    "    \n",
    "    def get_slice(srs):\n",
    "        return srs.sel(pressure=slice(*prange))\n",
    "    \n",
    "    srss = [d['srs'] for d in pltdata]\n",
    "    vmin = min([get_slice(srs).min() for srs in srss])\n",
    "    vmax = max([get_slice(srs).max() for srs in srss])\n",
    "    dv = (vmax - vmin) * .01\n",
    "    return float(vmin - dv), float(vmax + dv)\n",
    "\n",
    "\n",
    "    \n",
    "def plt_cool_bokeh(pltdata=None, \n",
    "                   y_axis_type='linear', prange=(50, 1050)):\n",
    "    \n",
    "    ymin = 1e-2 \n",
    "    ymax = 1020\n",
    "    \n",
    "    p2 = figure(y_axis_type=y_axis_type, plot_width=300)\n",
    "    xmin, xmax = nice_xlims(pltdata, prange=prange)\n",
    "    \n",
    "    rs = []\n",
    "    for d in pltdata:\n",
    "        rd = []\n",
    "        if 'marker' in d:\n",
    "            r_mark = getattr(p2, d['marker'])(d['srs'].values, \n",
    "                        d['srs'].coords['pressure'].values,\n",
    "                        color=d['color'], alpha=.7)\n",
    "            rd.append(r_mark)\n",
    "        r_line = p2.line(d['srs'].values, \n",
    "                         d['srs'].coords['pressure'].values,\n",
    "                         color=d['color'], alpha=d['alpha'], \n",
    "                         line_width=d['line_width'], \n",
    "                         line_dash=d['line_dash'])\n",
    "        rd.append(r_line)\n",
    "      \n",
    "        rs.append(rd)\n",
    "        \n",
    "    p2.y_range = Range1d(ymax, ymin)  \n",
    "    p2.yaxis.axis_label = 'pressure [mb]'\n",
    "    \n",
    "    p2.x_range = Range1d(xmin, xmax)\n",
    "    p2.xaxis.axis_label = 'cooling rate [K/day]'\n",
    "    \n",
    "    items = [(d['label'], r) for r, d in zip(rs, pltdata)]\n",
    "    legend = Legend(items=items, location=(10, 0))\n",
    "    legend.label_text_font_size = '8pt'\n",
    "    p2.add_layout(legend, 'above')\n",
    "    p2.legend.orientation = 'horizontal'\n",
    "    p2.legend.location = 'top_center'\n",
    "    \n",
    "    return p2"
   ]
  },
  {
   "cell_type": "code",
   "execution_count": 658,
   "metadata": {
    "collapsed": true
   },
   "outputs": [],
   "source": [
    "def pltdata_cool(atmpro='mls'):\n",
    "    \n",
    "    d_clirad = clirad_data_atm(clirad_params_atm(atmpro=atmpro))\n",
    "    d_crd = crd_data_atm(lblnew_params_atm(atmpro=atmpro))\n",
    "    \n",
    "    ds_clirad = d_clirad['cool']\n",
    "    ds_crd = d_crd['cool']\n",
    "    \n",
    "    colors = all_palettes['Set1'][4]\n",
    "    \n",
    "    data = [\n",
    "        {'label': 'CLIRAD',\n",
    "         'srs': fmt_cool(ds_clirad),\n",
    "         'line_dash': 'dashed', 'line_width': 5,\n",
    "         'color': colors[0], 'alpha': .6},\n",
    "        {'label': 'CRD',\n",
    "         'srs': fmt_cool(ds_crd),\n",
    "         'line_dash': 'solid', 'line_width': 1.5,\n",
    "         'marker': 'circle', 'marker_size': 5,\n",
    "         'color': colors[2], 'alpha': 1}\n",
    "    ]\n",
    "    return data\n",
    "\n",
    "\n",
    "def pltdata_cooldiff(atmpro='mls'):\n",
    "    \n",
    "    d_clirad = clirad_data_atm(clirad_params_atm(atmpro=atmpro))\n",
    "    d_crd = crd_data_atm(lblnew_params_atm(atmpro=atmpro))\n",
    "    \n",
    "    ds_clirad = d_clirad['cool']\n",
    "    ds_crd = d_crd['cool']\n",
    "    \n",
    "    ds_diff = ds_clirad - ds_crd\n",
    "    \n",
    "    colors = all_palettes['Set1'][4]\n",
    "    \n",
    "    data = [\n",
    "        {'label': 'CLIRAD - CRD',\n",
    "         'srs': fmt_cool(ds_diff),\n",
    "         'line_dash': 'solid', 'line_width': 1.5, \n",
    "         'marker': 'circle', 'marker_size': 7,\n",
    "         'color': colors[3], 'alpha': .8}\n",
    "    ]\n",
    "    return data\n",
    "\n",
    "\n",
    "def show_cool(atmpro='mls'):\n",
    "    \n",
    "    data_cool = pltdata_cool(atmpro=atmpro)\n",
    "    p_cool_liny = plt_cool_bokeh(pltdata=data_cool)\n",
    "    p_cool_logy = plt_cool_bokeh(pltdata=data_cool, \n",
    "                                 y_axis_type='log',\n",
    "                                 prange=(.01, 200))\n",
    "    \n",
    "    data_cooldiff = pltdata_cooldiff(atmpro=atmpro)\n",
    "    p_cooldiff_logy = plt_cool_bokeh(pltdata=data_cooldiff,\n",
    "                                     y_axis_type='log',\n",
    "                                     prange=(.01, 200))\n",
    "    \n",
    "    everything = gridplot(p_cool_liny, p_cool_logy, \n",
    "                          p_cooldiff_logy,\n",
    "                          ncols=3)\n",
    "    show(everything)\n",
    "    print('Figure. Cooling rates & difference.')\n",
    "    print()\n",
    "\n",
    "    "
   ]
  },
  {
   "cell_type": "code",
   "execution_count": null,
   "metadata": {
    "collapsed": true
   },
   "outputs": [],
   "source": []
  },
  {
   "cell_type": "code",
   "execution_count": 659,
   "metadata": {
    "scrolled": false
   },
   "outputs": [],
   "source": [
    "\n",
    "\n",
    "def hist_band_vs_flux(da, title='Title'):\n",
    "       \n",
    "    bands = [str(b.values) for b in da['band']]\n",
    "\n",
    "    source = ColumnDataSource(\n",
    "        data={'band': bands, 'flux': da.values})\n",
    "\n",
    "    p = figure(x_range=bands, title=title)\n",
    "    p.vbar(source=source, x='band', top='flux', width=.9)\n",
    "\n",
    "    p.yaxis.axis_label = 'flux (W m-2)'\n",
    "    p.xaxis.axis_label = 'spectral band'\n",
    "    \n",
    "    return p\n",
    "\n",
    "\n",
    "def show_hist_flux(atmpro='mls'):\n",
    "    ds_crd = crd_data_atm(lblnew_params_atm(atmpro=atmpro))['flux']\n",
    "    ds_clirad = clirad_data_atm(\n",
    "        clirad_params_atm(atmpro=atmpro))['flux']\n",
    "    \n",
    "    ip, varname = 0, 'flug'\n",
    "    da = (ds_clirad - ds_crd).isel(pressure=ip)[varname]\n",
    "    p_toa = hist_band_vs_flux(da, title='TOA flux. CLIRAD - CRD.')\n",
    "\n",
    "    ip, varname = -1, 'fldg'\n",
    "    da = (ds_clirad - ds_crd).isel(pressure=ip)[varname]\n",
    "    p_sfc = hist_band_vs_flux(da, title='SFC flux. CLIRAD - CRD.')    \n",
    "    \n",
    "    atm_crd = (ds_crd.isel(pressure=0) \n",
    "               - ds_crd.isel(pressure=-1))['fnetg']\n",
    "    atm_clirad = (ds_clirad.isel(pressure=0) \n",
    "                  - ds_clirad.isel(pressure=-1))['fnetg']\n",
    "    da = atm_clirad - atm_crd\n",
    "    p_atm = hist_band_vs_flux(da, title='Atmosphere heating. CLIRAD - CRD.')\n",
    "\n",
    "    everything = gridplot(p_toa, p_sfc, p_atm, ncols=3, \n",
    "                          plot_width=300, plot_height=300)\n",
    "    \n",
    "    show(everything)\n",
    "    print('Figure. Difference in TOA flux, SFC flux' \n",
    "          ' and net atmosphere heating.')\n",
    "\n",
    "    \n",
    "def show_tb_flux(atmpro='mls'):\n",
    "    "
   ]
  },
  {
   "cell_type": "code",
   "execution_count": 660,
   "metadata": {
    "scrolled": false
   },
   "outputs": [
    {
     "data": {
      "text/markdown": [
       "## Results over entire range of molecules and spectral bands"
      ],
      "text/plain": [
       "<IPython.core.display.Markdown object>"
      ]
     },
     "metadata": {},
     "output_type": "display_data"
    },
    {
     "data": {
      "text/markdown": [
       "### Table of Contents"
      ],
      "text/plain": [
       "<IPython.core.display.Markdown object>"
      ]
     },
     "metadata": {},
     "output_type": "display_data"
    },
    {
     "data": {
      "text/html": [
       "<a href=\"#Makeup_of_atmosphere.\">Makeup of atmosphere.</a>"
      ],
      "text/plain": [
       "<IPython.core.display.HTML object>"
      ]
     },
     "metadata": {},
     "output_type": "display_data"
    },
    {
     "data": {
      "text/markdown": [
       "**mid-latitude summer**"
      ],
      "text/plain": [
       "<IPython.core.display.Markdown object>"
      ]
     },
     "metadata": {},
     "output_type": "display_data"
    },
    {
     "data": {
      "text/html": [
       "<a href=\"#Cooling_rates._mls.\">Cooling rates. mls.</a>"
      ],
      "text/plain": [
       "<IPython.core.display.HTML object>"
      ]
     },
     "metadata": {},
     "output_type": "display_data"
    },
    {
     "data": {
      "text/html": [
       "<a href=\"#Fluxes._mls.\">Fluxes. mls.</a>"
      ],
      "text/plain": [
       "<IPython.core.display.HTML object>"
      ]
     },
     "metadata": {},
     "output_type": "display_data"
    },
    {
     "data": {
      "text/markdown": [
       "**sub-arctic winter**"
      ],
      "text/plain": [
       "<IPython.core.display.Markdown object>"
      ]
     },
     "metadata": {},
     "output_type": "display_data"
    },
    {
     "data": {
      "text/html": [
       "<a href=\"#Cooling_rates._saw.\">Cooling rates. saw.</a>"
      ],
      "text/plain": [
       "<IPython.core.display.HTML object>"
      ]
     },
     "metadata": {},
     "output_type": "display_data"
    },
    {
     "data": {
      "text/html": [
       "<a href=\"#Fluxes._saw.\">Fluxes. saw.</a>"
      ],
      "text/plain": [
       "<IPython.core.display.HTML object>"
      ]
     },
     "metadata": {},
     "output_type": "display_data"
    },
    {
     "data": {
      "text/markdown": [
       "**tropical**"
      ],
      "text/plain": [
       "<IPython.core.display.Markdown object>"
      ]
     },
     "metadata": {},
     "output_type": "display_data"
    },
    {
     "data": {
      "text/html": [
       "<a href=\"#Cooling_rates._trp.\">Cooling rates. trp.</a>"
      ],
      "text/plain": [
       "<IPython.core.display.HTML object>"
      ]
     },
     "metadata": {},
     "output_type": "display_data"
    },
    {
     "data": {
      "text/html": [
       "<a href=\"#Fluxes._trp.\">Fluxes. trp.</a>"
      ],
      "text/plain": [
       "<IPython.core.display.HTML object>"
      ]
     },
     "metadata": {},
     "output_type": "display_data"
    },
    {
     "data": {
      "text/html": [
       "<a id=\"Makeup_of_atmosphere.\"></a>"
      ],
      "text/plain": [
       "<IPython.core.display.HTML object>"
      ]
     },
     "metadata": {},
     "output_type": "display_data"
    },
    {
     "data": {
      "text/markdown": [
       "# Makeup of atmosphere."
      ],
      "text/plain": [
       "<IPython.core.display.Markdown object>"
      ]
     },
     "metadata": {},
     "output_type": "display_data"
    },
    {
     "data": {
      "text/html": [
       "<div>\n",
       "<style scoped>\n",
       "    .dataframe tbody tr th:only-of-type {\n",
       "        vertical-align: middle;\n",
       "    }\n",
       "\n",
       "    .dataframe tbody tr th {\n",
       "        vertical-align: top;\n",
       "    }\n",
       "\n",
       "    .dataframe thead th {\n",
       "        text-align: right;\n",
       "    }\n",
       "</style>\n",
       "<table border=\"1\" class=\"dataframe\">\n",
       "  <thead>\n",
       "    <tr style=\"text-align: right;\">\n",
       "      <th>clirad band</th>\n",
       "      <th>1</th>\n",
       "      <th>2</th>\n",
       "      <th>3</th>\n",
       "      <th>4</th>\n",
       "      <th>5</th>\n",
       "      <th>6</th>\n",
       "      <th>7</th>\n",
       "      <th>8</th>\n",
       "      <th>9</th>\n",
       "      <th>10</th>\n",
       "      <th>11</th>\n",
       "    </tr>\n",
       "    <tr>\n",
       "      <th>molecule</th>\n",
       "      <th></th>\n",
       "      <th></th>\n",
       "      <th></th>\n",
       "      <th></th>\n",
       "      <th></th>\n",
       "      <th></th>\n",
       "      <th></th>\n",
       "      <th></th>\n",
       "      <th></th>\n",
       "      <th></th>\n",
       "      <th></th>\n",
       "    </tr>\n",
       "  </thead>\n",
       "  <tbody>\n",
       "    <tr>\n",
       "      <th>h2o</th>\n",
       "      <td>atmpro</td>\n",
       "      <td>atmpro</td>\n",
       "      <td>atmpro</td>\n",
       "      <td>atmpro</td>\n",
       "      <td>atmpro</td>\n",
       "      <td>atmpro</td>\n",
       "      <td>atmpro</td>\n",
       "      <td>atmpro</td>\n",
       "      <td>atmpro</td>\n",
       "      <td>atmpro</td>\n",
       "      <td>atmpro</td>\n",
       "    </tr>\n",
       "    <tr>\n",
       "      <th>co2</th>\n",
       "      <td>0</td>\n",
       "      <td>0</td>\n",
       "      <td>0.0004</td>\n",
       "      <td>0.0004</td>\n",
       "      <td>0.0004</td>\n",
       "      <td>0.0004</td>\n",
       "      <td>0.0004</td>\n",
       "      <td>0</td>\n",
       "      <td>0</td>\n",
       "      <td>0</td>\n",
       "      <td>0.0004</td>\n",
       "    </tr>\n",
       "    <tr>\n",
       "      <th>n2o</th>\n",
       "      <td>0</td>\n",
       "      <td>0</td>\n",
       "      <td>3.2e-07</td>\n",
       "      <td>0</td>\n",
       "      <td>0</td>\n",
       "      <td>0</td>\n",
       "      <td>0</td>\n",
       "      <td>0</td>\n",
       "      <td>3.2e-07</td>\n",
       "      <td>0</td>\n",
       "      <td>0</td>\n",
       "    </tr>\n",
       "    <tr>\n",
       "      <th>o3</th>\n",
       "      <td>0</td>\n",
       "      <td>0</td>\n",
       "      <td>0</td>\n",
       "      <td>0</td>\n",
       "      <td>0</td>\n",
       "      <td>0</td>\n",
       "      <td>atmpro</td>\n",
       "      <td>0</td>\n",
       "      <td>0</td>\n",
       "      <td>0</td>\n",
       "      <td>0</td>\n",
       "    </tr>\n",
       "    <tr>\n",
       "      <th>ch4</th>\n",
       "      <td>0</td>\n",
       "      <td>0</td>\n",
       "      <td>0</td>\n",
       "      <td>0</td>\n",
       "      <td>0</td>\n",
       "      <td>0</td>\n",
       "      <td>0</td>\n",
       "      <td>0</td>\n",
       "      <td>1.8e-06</td>\n",
       "      <td>0</td>\n",
       "      <td>0</td>\n",
       "    </tr>\n",
       "  </tbody>\n",
       "</table>\n",
       "</div>"
      ],
      "text/plain": [
       "clirad band      1       2        3       4       5       6       7       8   \\\n",
       "molecule                                                                       \n",
       "h2o          atmpro  atmpro   atmpro  atmpro  atmpro  atmpro  atmpro  atmpro   \n",
       "co2               0       0   0.0004  0.0004  0.0004  0.0004  0.0004       0   \n",
       "n2o               0       0  3.2e-07       0       0       0       0       0   \n",
       "o3                0       0        0       0       0       0  atmpro       0   \n",
       "ch4               0       0        0       0       0       0       0       0   \n",
       "\n",
       "clirad band       9       10      11  \n",
       "molecule                              \n",
       "h2o           atmpro  atmpro  atmpro  \n",
       "co2                0       0  0.0004  \n",
       "n2o          3.2e-07       0       0  \n",
       "o3                 0       0       0  \n",
       "ch4          1.8e-06       0       0  "
      ]
     },
     "metadata": {},
     "output_type": "display_data"
    },
    {
     "name": "stdout",
     "output_type": "stream",
     "text": [
      "Table. The makeup of the atmosphere.\n"
     ]
    },
    {
     "data": {
      "text/html": [
       "<a id=\"Cooling_rates._mls.\"></a>"
      ],
      "text/plain": [
       "<IPython.core.display.HTML object>"
      ]
     },
     "metadata": {},
     "output_type": "display_data"
    },
    {
     "data": {
      "text/markdown": [
       "# Cooling rates. mls."
      ],
      "text/plain": [
       "<IPython.core.display.Markdown object>"
      ]
     },
     "metadata": {},
     "output_type": "display_data"
    },
    {
     "data": {
      "text/html": [
       "\n",
       "<div class=\"bk-root\">\n",
       "    <div class=\"bk-plotdiv\" id=\"d8265fe3-3e56-4802-8dec-0a1c41864dcd\"></div>\n",
       "</div>"
      ]
     },
     "metadata": {},
     "output_type": "display_data"
    },
    {
     "data": {
      "application/javascript": [
       "(function(root) {\n",
       "  function embed_document(root) {\n",
       "    \n",
       "  var docs_json = {\"736a53b6-233b-4e91-a702-1b7f98d61f4c\":{\"roots\":{\"references\":[{\"attributes\":{\"source\":{\"id\":\"6f131ccd-a46b-4529-98b5-63ee6f159bea\",\"type\":\"ColumnDataSource\"}},\"id\":\"4117d6d0-642b-45c0-968f-c03b50b86d6a\",\"type\":\"CDSView\"},{\"attributes\":{\"above\":[{\"id\":\"c02b4768-d648-4272-9596-1d883fc3bd58\",\"type\":\"Legend\"}],\"below\":[{\"id\":\"01fdffb2-4eae-412c-9fdf-51b05b6c05be\",\"type\":\"LinearAxis\"}],\"left\":[{\"id\":\"8e904875-2a26-492a-a4af-31633c48e793\",\"type\":\"LogAxis\"}],\"plot_width\":300,\"renderers\":[{\"id\":\"01fdffb2-4eae-412c-9fdf-51b05b6c05be\",\"type\":\"LinearAxis\"},{\"id\":\"0eccaf09-7811-4f4b-8f2b-5a8f5e430e08\",\"type\":\"Grid\"},{\"id\":\"8e904875-2a26-492a-a4af-31633c48e793\",\"type\":\"LogAxis\"},{\"id\":\"8839b34f-2d85-43b2-8f50-4a9bbcd209e3\",\"type\":\"Grid\"},{\"id\":\"0ef48286-0831-4f7e-965d-4b7aa5ab00d8\",\"type\":\"BoxAnnotation\"},{\"id\":\"62f5551e-6b3a-4518-bdcf-546385fd3c2c\",\"type\":\"GlyphRenderer\"},{\"id\":\"38fefaad-b9af-4948-8276-1edddba67910\",\"type\":\"GlyphRenderer\"},{\"id\":\"c02b4768-d648-4272-9596-1d883fc3bd58\",\"type\":\"Legend\"}],\"title\":{\"id\":\"0b29207c-8acc-4214-9cab-80ecaeed2adf\",\"type\":\"Title\"},\"toolbar\":{\"id\":\"43f904aa-8d0e-4a65-b4b4-975a38c80226\",\"type\":\"Toolbar\"},\"toolbar_location\":null,\"x_range\":{\"id\":\"76be5b62-f2a6-46f0-af60-a851958fbfe7\",\"type\":\"Range1d\"},\"x_scale\":{\"id\":\"ac9e3748-1409-4a06-be43-b8da72a5b3b8\",\"type\":\"LinearScale\"},\"y_range\":{\"id\":\"97db03bf-d3a8-4671-ab34-0f67d582b6c5\",\"type\":\"Range1d\"},\"y_scale\":{\"id\":\"3fa2a8c0-0c27-469e-8790-20cca0bba2fa\",\"type\":\"LogScale\"}},\"id\":\"90f199e4-2dde-4843-b5d1-4c744302fa9e\",\"subtype\":\"Figure\",\"type\":\"Plot\"},{\"attributes\":{\"data_source\":{\"id\":\"6f131ccd-a46b-4529-98b5-63ee6f159bea\",\"type\":\"ColumnDataSource\"},\"glyph\":{\"id\":\"ff720da0-b40c-46a7-bc87-10a1af391baf\",\"type\":\"Line\"},\"hover_glyph\":null,\"muted_glyph\":null,\"nonselection_glyph\":{\"id\":\"01528a8c-da31-4c9b-bcb6-c262936525e1\",\"type\":\"Line\"},\"selection_glyph\":null,\"view\":{\"id\":\"4117d6d0-642b-45c0-968f-c03b50b86d6a\",\"type\":\"CDSView\"}},\"id\":\"0f6929c8-e142-4151-8c8d-240f4f3845b1\",\"type\":\"GlyphRenderer\"},{\"attributes\":{\"callback\":null,\"data\":{\"x\":{\"__ndarray__\":\"cm1sTMT3VEDEyvjosEJHQOKI6DjzCUNArgQWV9awPkB9Lm8XG3M4QEz+Qv6iYzNA7eV8HaPLLkCX1QHyTpMoQFBmYSYetiNAUB04GtGpH0AmFyVE5j8ZQJca9QPGqBNALJP+OOHHDEBNxaf7QF8AQKtislomWuw/cW2dcO6A9T/uJJvfPu0EQIaQLTI/JQ1AxGiII+PmEkCJvfVeuCsYQD6ZBhGbHB9AXQw69DTYJEAsubcwKucqQNuT9D5OmipAJyi3szEJJUBlNebh5WkgQDDcPHBr2xlArtlANXuQFEBdJadFHckQQI2Avh0ZsQtAjYiwt1rsBUCL0SDoVBgAQK6C0nEEjvc/CggLSme58T9sXU2orFPnP0v0JYz9Gdg/vT38vxYczD9nBQTe6kHHP1IhkEXJwKo/8OZnhCVAub+xtVgCpmqzP6DUpY6g0+k/PKK3T1h4+D8RTDjQc1EAQG/dAQs7TwJAQt2eHpPLAEBWEh074x//PyCap9ZSGf4/rEzaTySm/T+7aXhHRmr9P688KeqeNP0/ruZ4EemD/D8olrZcn9T7P0+vNc9hW/s/i9VVL+4P+z+0NzC24uz6P8731Kza8vo/xFf4SHzq+z+gYyHpvHb8P68ROkiFevw/BAjYdCga/D8AUp8VbW77P3JrF/nKmvo/qCQeGfq++T/dplwHJfn4P2G4p+Uva/g/OzZ0RqMZ+D8dmn/iar73P/OuA7Ka8PY/gaaeQHGn9T9hkyjAH1L0P3aZGhdAU/M/n8VP/g7P8j+90HxHNvfyPwhNBtgrqvk/\",\"dtype\":\"float64\",\"shape\":[75]},\"y\":{\"__ndarray__\":\"GhExyth1ND/Sv8nbtpRIP2vylNV0PVE/aTum7souWD/At0SJ8fVgPw3Iuahxymc/MSNhhJWvcD/bTfBN02d3P2zb5nxnaoA/CD5h5MAGhz8NmeH1TyaQP+zrCsc9p5Y/LbKd76fGnz/bLW5ISEmmPww9YvTcQq8/JV2OstnstT8Er5Y7M8G+P0c+r3jqkcU/5h99k6ZBzj88bCIzFzjVP4enV8oyxN0//yH99nXg5D8qOpLLf0jtP5kqGJXUifQ/c9cS8kHP/D+/DpwzojQEQIEmwoanVwxA4lgXt9HgE0BSSZ2AJuIbQAMJih9jjiNA5q4l5INuK0AwTKYKRj0zQNv5fmq8/DpAaCJseHrtQkB/+zpwzoxKQM3MzMzMeFJAZmZmZmZqWEAAAAAAAFxeQM3MzMzMJmJAmpmZmZkfZUBmZmZmZhhoQDMzMzMzEWtAAAAAAAAKbkBmZmZmZoFwQM3MzMzM/XFAMzMzMzN6c0CamZmZmfZ0QAAAAAAAc3ZAZmZmZmbvd0DNzMzMzGt5QDMzMzMz6HpAmpmZmZlkfEAAAAAAAOF9QGZmZmZmXX9AZmZmZuZsgECamZmZGSuBQM3MzMxM6YFAAAAAAICngkAzMzMzs2WDQGZmZmbmI4RAmpmZmRnihEDNzMzMTKCFQAAAAACAXoZAMzMzM7Mch0BmZmZm5tqHQJqZmZkZmYhAzczMzExXiUAAAAAAgBWKQDMzMzOz04pAZmZmZuaRi0CamZmZGVCMQM3MzMxMDo1AAAAAAIDMjUAzMzMzs4qOQGZmZmbmSI9A\",\"dtype\":\"float64\",\"shape\":[75]}},\"selected\":{\"id\":\"cbf9db9c-ce07-4b88-a8be-ca350c7e0ac1\",\"type\":\"Selection\"},\"selection_policy\":{\"id\":\"fd4e0dab-31eb-41d1-818a-35c9d44fa2a9\",\"type\":\"UnionRenderers\"}},\"id\":\"730eaf20-13f8-4a74-80b7-5545dddf8685\",\"type\":\"ColumnDataSource\"},{\"attributes\":{\"active_drag\":\"auto\",\"active_inspect\":\"auto\",\"active_scroll\":\"auto\",\"active_tap\":\"auto\",\"tools\":[{\"id\":\"8a69d6d8-f926-45b2-8ce9-4e0fdc67a522\",\"type\":\"PanTool\"},{\"id\":\"d6d223fd-6415-49b3-afcf-26d5edbeed7a\",\"type\":\"WheelZoomTool\"},{\"id\":\"0750e77e-7fcc-4153-bdef-32af3f153b4a\",\"type\":\"BoxZoomTool\"},{\"id\":\"f8305353-d61d-4343-8574-22f7f65be874\",\"type\":\"SaveTool\"},{\"id\":\"e67d40b0-fb74-4570-8fcd-b07f2122106e\",\"type\":\"ResetTool\"},{\"id\":\"5fbb9996-d805-4fe7-8095-6a908536f37c\",\"type\":\"HelpTool\"}]},\"id\":\"90147630-9aa5-43e9-9d46-789d72f668a2\",\"type\":\"Toolbar\"},{\"attributes\":{},\"id\":\"e67d40b0-fb74-4570-8fcd-b07f2122106e\",\"type\":\"ResetTool\"},{\"attributes\":{},\"id\":\"ac038701-b7d1-4706-8bdf-098dddedb83a\",\"type\":\"LinearScale\"},{\"attributes\":{\"axis_label\":\"cooling rate [K/day]\",\"formatter\":{\"id\":\"d4e94600-1e30-41bb-8194-a0b84b39e2af\",\"type\":\"BasicTickFormatter\"},\"plot\":{\"id\":\"90f199e4-2dde-4843-b5d1-4c744302fa9e\",\"subtype\":\"Figure\",\"type\":\"Plot\"},\"ticker\":{\"id\":\"5c6a7242-0a65-4ed9-859c-688722016f5a\",\"type\":\"BasicTicker\"}},\"id\":\"01fdffb2-4eae-412c-9fdf-51b05b6c05be\",\"type\":\"LinearAxis\"},{\"attributes\":{\"callback\":null,\"end\":2.3135572750986206,\"start\":-0.22322768330062},\"id\":\"7ec1293e-1fe1-4db7-ab25-2f2006333bb3\",\"type\":\"Range1d\"},{\"attributes\":{},\"id\":\"c25db053-c8f1-4715-bd9d-6248c3bbfa47\",\"type\":\"BasicTicker\"},{\"attributes\":{\"source\":{\"id\":\"730eaf20-13f8-4a74-80b7-5545dddf8685\",\"type\":\"ColumnDataSource\"}},\"id\":\"95a22fa1-a77a-4224-a3e9-f230f968f454\",\"type\":\"CDSView\"},{\"attributes\":{\"plot\":{\"id\":\"90f199e4-2dde-4843-b5d1-4c744302fa9e\",\"subtype\":\"Figure\",\"type\":\"Plot\"},\"ticker\":{\"id\":\"5c6a7242-0a65-4ed9-859c-688722016f5a\",\"type\":\"BasicTicker\"}},\"id\":\"0eccaf09-7811-4f4b-8f2b-5a8f5e430e08\",\"type\":\"Grid\"},{\"attributes\":{\"overlay\":{\"id\":\"a660c76e-2d52-4e85-9034-da4fe2a002e7\",\"type\":\"BoxAnnotation\"}},\"id\":\"0750e77e-7fcc-4153-bdef-32af3f153b4a\",\"type\":\"BoxZoomTool\"},{\"attributes\":{\"line_alpha\":0.1,\"line_color\":\"#1f77b4\",\"line_dash\":[6],\"line_width\":5,\"x\":{\"field\":\"x\"},\"y\":{\"field\":\"y\"}},\"id\":\"01528a8c-da31-4c9b-bcb6-c262936525e1\",\"type\":\"Line\"},{\"attributes\":{\"data_source\":{\"id\":\"730eaf20-13f8-4a74-80b7-5545dddf8685\",\"type\":\"ColumnDataSource\"},\"glyph\":{\"id\":\"4e4823b9-d4b7-4e7c-80da-840ff7c5be2c\",\"type\":\"Circle\"},\"hover_glyph\":null,\"muted_glyph\":null,\"nonselection_glyph\":{\"id\":\"6220c598-2873-4fe5-a86c-75741053d43b\",\"type\":\"Circle\"},\"selection_glyph\":null,\"view\":{\"id\":\"95a22fa1-a77a-4224-a3e9-f230f968f454\",\"type\":\"CDSView\"}},\"id\":\"7ea687fe-5ff7-438a-b236-ba8e095d9d72\",\"type\":\"GlyphRenderer\"},{\"attributes\":{\"line_alpha\":0.6,\"line_color\":\"#e41a1c\",\"line_dash\":[6],\"line_width\":5,\"x\":{\"field\":\"x\"},\"y\":{\"field\":\"y\"}},\"id\":\"ff720da0-b40c-46a7-bc87-10a1af391baf\",\"type\":\"Line\"},{\"attributes\":{},\"id\":\"6f514370-c63f-4264-99d5-a345f7d54b78\",\"type\":\"BasicTicker\"},{\"attributes\":{\"callback\":null,\"data\":{\"x\":{\"__ndarray__\":\"Plrp3Z5jIcBKBfk9Qf4EwAhIBjTPV/g/re0xy0SUDEBKEKO2F2oNQEotRpaPLQNAtDasTSvz4j/Y3ph+zcLqv4miLOrMCfa/OZBOUS2a8b+Z2paSN0Xfv1rfYeD8N7A/VKELW16e2T/SMT3umRDfP8gh/JbbJ9Q/51E4qEcEoT9WPU9YQbrQv7cvfAWGNOC/FNnELayj4L8H/Z4Hc+/RvyD2rlRKVnm/oiytkRnvqr/asVgECtHTv8S4lvwuT9e/lyLME90hsb+NumOLN4rYP2kST9+NU9c/ZHxOx1zgtz+8LlyImOOXP/M/QDSg49A/o19OiZWc1T8r3Tg+sr3DPwNRi39W7Jy/pot48Rxicz/M/YUoLnSuP9PWP6lll34/EA5yTmTwq7/VHz/yu+C2v7idMclkh7m/zr7TrDXmtb+tZ9JQi4mwv8Fb5PyqNq+/RXg+tzI/nb9kXxACbO22vyPL1Yclmbi/Ni/HdfWLq7+VvARYV+iuvywUiu+ftrO/2INf1gPnsr90zRiVMqerv/ZCQ546s6K/UwZzLjJfmL8ZbMtKJ+aUvwLnnTDIqZS/eN5UNdxfmb8dBs8ktFybvzkwxDJBwpO/qA45dIJPVj+1n5LzvX+gP9DECtE+aqw/zGSrPX/prT+uWeZFjnqlPxImF6RXypU/0KnXZtHmWT8AGej+SwlBPzTnWDkPgoE/Lp8yUn1Unj87o+X0gG+oP3LpuEoSrK8/6IIHwTsdsj9OhzEMSFmzP2c1UW85I7Q/Hxy8y9bVtD8HjZAcEVW0Pw==\",\"dtype\":\"float64\",\"shape\":[74]},\"y\":{\"__ndarray__\":\"0r/J27aUSD9r8pTVdD1RP2k7pu7KLlg/wLdEifH1YD8NyLmoccpnPzEjYYSVr3A/203wTdNndz9s2+Z8Z2qAPwg+YeTABoc/DZnh9U8mkD/s6wrHPaeWPy2yne+nxp8/2y1uSEhJpj8MPWL03EKvPyVdjrLZ7LU/BK+WOzPBvj9HPq946pHFP+YffZOmQc4/PGwiMxc41T+Hp1fKMsTdP/8h/fZ14OQ/KjqSy39I7T+ZKhiV1In0P3PXEvJBz/w/vw6cM6I0BECBJsKGp1cMQOJYF7fR4BNAUkmdgCbiG0ADCYofY44jQOauJeSDbitAMEymCkY9M0Db+X5qvPw6QGgibHh67UJAf/s6cM6MSkDNzMzMzHhSQGZmZmZmalhAAAAAAABcXkDNzMzMzCZiQJqZmZmZH2VAZmZmZmYYaEAzMzMzMxFrQAAAAAAACm5AZmZmZmaBcEDNzMzMzP1xQDMzMzMzenNAmpmZmZn2dEAAAAAAAHN2QGZmZmZm73dAzczMzMxreUAzMzMzM+h6QJqZmZmZZHxAAAAAAADhfUBmZmZmZl1/QGZmZmbmbIBAmpmZmRkrgUDNzMzMTOmBQAAAAACAp4JAMzMzM7Nlg0BmZmZm5iOEQJqZmZkZ4oRAzczMzEyghUAAAAAAgF6GQDMzMzOzHIdAZmZmZubah0CamZmZGZmIQM3MzMxMV4lAAAAAAIAVikAzMzMzs9OKQGZmZmbmkYtAmpmZmRlQjEDNzMzMTA6NQAAAAACAzI1AMzMzM7OKjkBmZmZm5kiPQA==\",\"dtype\":\"float64\",\"shape\":[74]}},\"selected\":{\"id\":\"b53e6f61-f709-48a6-8711-fa0a4f91fa5c\",\"type\":\"Selection\"},\"selection_policy\":{\"id\":\"4aa3129f-7138-4d58-b94b-f369abecb066\",\"type\":\"UnionRenderers\"}},\"id\":\"abe10a59-deca-4734-8bee-4246384101c8\",\"type\":\"ColumnDataSource\"},{\"attributes\":{\"items\":[{\"id\":\"7b41731d-995e-4671-b48a-952c8608e004\",\"type\":\"LegendItem\"},{\"id\":\"ac4e215c-78b7-43d6-80d0-0638c360ed6d\",\"type\":\"LegendItem\"}],\"label_text_font_size\":{\"value\":\"8pt\"},\"location\":\"top_center\",\"orientation\":\"horizontal\",\"plot\":{\"id\":\"61ea35e7-a3ff-43e5-8774-43570fe99b28\",\"subtype\":\"Figure\",\"type\":\"Plot\"}},\"id\":\"55a08f78-9fec-4c09-82fe-71f2593e5519\",\"type\":\"Legend\"},{\"attributes\":{},\"id\":\"d6d223fd-6415-49b3-afcf-26d5edbeed7a\",\"type\":\"WheelZoomTool\"},{\"attributes\":{},\"id\":\"3fa2a8c0-0c27-469e-8790-20cca0bba2fa\",\"type\":\"LogScale\"},{\"attributes\":{},\"id\":\"a5cd0895-38a9-4abe-915f-129ff4957791\",\"type\":\"LinearScale\"},{\"attributes\":{\"axis_label\":\"cooling rate [K/day]\",\"formatter\":{\"id\":\"52847393-9429-401c-a8aa-6abdf1c4dac4\",\"type\":\"BasicTickFormatter\"},\"plot\":{\"id\":\"61ea35e7-a3ff-43e5-8774-43570fe99b28\",\"subtype\":\"Figure\",\"type\":\"Plot\"},\"ticker\":{\"id\":\"c25db053-c8f1-4715-bd9d-6248c3bbfa47\",\"type\":\"BasicTicker\"}},\"id\":\"57015ea0-54a5-493d-b14e-daa07d0fc26d\",\"type\":\"LinearAxis\"},{\"attributes\":{\"axis_label\":\"pressure [mb]\",\"formatter\":{\"id\":\"06af3808-9344-4ad1-9008-7ec9aade7369\",\"type\":\"BasicTickFormatter\"},\"plot\":{\"id\":\"61ea35e7-a3ff-43e5-8774-43570fe99b28\",\"subtype\":\"Figure\",\"type\":\"Plot\"},\"ticker\":{\"id\":\"6f514370-c63f-4264-99d5-a345f7d54b78\",\"type\":\"BasicTicker\"}},\"id\":\"c3d999af-049d-45f2-85b2-75418999377b\",\"type\":\"LinearAxis\"},{\"attributes\":{},\"id\":\"f8305353-d61d-4343-8574-22f7f65be874\",\"type\":\"SaveTool\"},{\"attributes\":{\"callback\":null,\"end\":0.01,\"start\":1020},\"id\":\"97db03bf-d3a8-4671-ab34-0f67d582b6c5\",\"type\":\"Range1d\"},{\"attributes\":{\"axis_label\":\"pressure [mb]\",\"formatter\":{\"id\":\"8f315831-617e-4eca-972b-6861d88eae83\",\"type\":\"LogTickFormatter\"},\"plot\":{\"id\":\"90f199e4-2dde-4843-b5d1-4c744302fa9e\",\"subtype\":\"Figure\",\"type\":\"Plot\"},\"ticker\":{\"id\":\"339db12f-e9fe-4a06-af69-d4b2776bf5ef\",\"type\":\"LogTicker\"}},\"id\":\"8e904875-2a26-492a-a4af-31633c48e793\",\"type\":\"LogAxis\"},{\"attributes\":{},\"id\":\"5c6a7242-0a65-4ed9-859c-688722016f5a\",\"type\":\"BasicTicker\"},{\"attributes\":{\"plot\":{\"id\":\"61ea35e7-a3ff-43e5-8774-43570fe99b28\",\"subtype\":\"Figure\",\"type\":\"Plot\"},\"ticker\":{\"id\":\"c25db053-c8f1-4715-bd9d-6248c3bbfa47\",\"type\":\"BasicTicker\"}},\"id\":\"557db72d-3ea4-4bed-9848-46948274ba4e\",\"type\":\"Grid\"},{\"attributes\":{},\"id\":\"8a69d6d8-f926-45b2-8ce9-4e0fdc67a522\",\"type\":\"PanTool\"},{\"attributes\":{\"above\":[{\"id\":\"55a08f78-9fec-4c09-82fe-71f2593e5519\",\"type\":\"Legend\"}],\"below\":[{\"id\":\"57015ea0-54a5-493d-b14e-daa07d0fc26d\",\"type\":\"LinearAxis\"}],\"left\":[{\"id\":\"c3d999af-049d-45f2-85b2-75418999377b\",\"type\":\"LinearAxis\"}],\"plot_width\":300,\"renderers\":[{\"id\":\"57015ea0-54a5-493d-b14e-daa07d0fc26d\",\"type\":\"LinearAxis\"},{\"id\":\"557db72d-3ea4-4bed-9848-46948274ba4e\",\"type\":\"Grid\"},{\"id\":\"c3d999af-049d-45f2-85b2-75418999377b\",\"type\":\"LinearAxis\"},{\"id\":\"c4110310-0c75-4f09-98c8-7ff4bc784efd\",\"type\":\"Grid\"},{\"id\":\"a660c76e-2d52-4e85-9034-da4fe2a002e7\",\"type\":\"BoxAnnotation\"},{\"id\":\"0f6929c8-e142-4151-8c8d-240f4f3845b1\",\"type\":\"GlyphRenderer\"},{\"id\":\"7ea687fe-5ff7-438a-b236-ba8e095d9d72\",\"type\":\"GlyphRenderer\"},{\"id\":\"25dab6c2-0c16-40e4-b1c0-4f369d3ccc46\",\"type\":\"GlyphRenderer\"},{\"id\":\"55a08f78-9fec-4c09-82fe-71f2593e5519\",\"type\":\"Legend\"}],\"title\":{\"id\":\"fef8d215-f0c5-45ae-b70e-51bd5c92906d\",\"type\":\"Title\"},\"toolbar\":{\"id\":\"90147630-9aa5-43e9-9d46-789d72f668a2\",\"type\":\"Toolbar\"},\"toolbar_location\":null,\"x_range\":{\"id\":\"7ec1293e-1fe1-4db7-ab25-2f2006333bb3\",\"type\":\"Range1d\"},\"x_scale\":{\"id\":\"a5cd0895-38a9-4abe-915f-129ff4957791\",\"type\":\"LinearScale\"},\"y_range\":{\"id\":\"589edb87-2998-483a-be91-ed8a369ba1f1\",\"type\":\"Range1d\"},\"y_scale\":{\"id\":\"ac038701-b7d1-4706-8bdf-098dddedb83a\",\"type\":\"LinearScale\"}},\"id\":\"61ea35e7-a3ff-43e5-8774-43570fe99b28\",\"subtype\":\"Figure\",\"type\":\"Plot\"},{\"attributes\":{},\"id\":\"5fbb9996-d805-4fe7-8095-6a908536f37c\",\"type\":\"HelpTool\"},{\"attributes\":{\"num_minor_ticks\":10},\"id\":\"339db12f-e9fe-4a06-af69-d4b2776bf5ef\",\"type\":\"LogTicker\"},{\"attributes\":{\"dimension\":1,\"plot\":{\"id\":\"61ea35e7-a3ff-43e5-8774-43570fe99b28\",\"subtype\":\"Figure\",\"type\":\"Plot\"},\"ticker\":{\"id\":\"6f514370-c63f-4264-99d5-a345f7d54b78\",\"type\":\"BasicTicker\"}},\"id\":\"c4110310-0c75-4f09-98c8-7ff4bc784efd\",\"type\":\"Grid\"},{\"attributes\":{\"dimension\":1,\"plot\":{\"id\":\"90f199e4-2dde-4843-b5d1-4c744302fa9e\",\"subtype\":\"Figure\",\"type\":\"Plot\"},\"ticker\":{\"id\":\"339db12f-e9fe-4a06-af69-d4b2776bf5ef\",\"type\":\"LogTicker\"}},\"id\":\"8839b34f-2d85-43b2-8f50-4a9bbcd209e3\",\"type\":\"Grid\"},{\"attributes\":{\"bottom_units\":\"screen\",\"fill_alpha\":{\"value\":0.5},\"fill_color\":{\"value\":\"lightgrey\"},\"left_units\":\"screen\",\"level\":\"overlay\",\"line_alpha\":{\"value\":1.0},\"line_color\":{\"value\":\"black\"},\"line_dash\":[4,4],\"line_width\":{\"value\":2},\"plot\":null,\"render_mode\":\"css\",\"right_units\":\"screen\",\"top_units\":\"screen\"},\"id\":\"a660c76e-2d52-4e85-9034-da4fe2a002e7\",\"type\":\"BoxAnnotation\"},{\"attributes\":{\"callback\":null,\"data\":{\"x\":{\"__ndarray__\":\"Ay4WgzmiRUAzdH4xyelCQI/4CCUPukFAmDQrpSkbQEAzbNWwowU8QFVgF/XlEDdAoDiHgYPLMUABmdymgcIpQGLYd07xCSJArfSs310nGkAWc9HvWtkUQOusy4pytBFAJqIBIKFJDUB2OQnHDJMDQMl96Kg58fU/43VcVuWK+j82Bjz+TzEFQNyoIwf3DQtAy+LYYlLgEEBpIj3ZQhcWQG2pjOCj/R1Af3bvKgrVJEABDCYXO8wqQEzO0e7F+ylAYXLSO7hOJEAgnb4nokcgQNoX8+gOZBtA1Mo1E7QFFkBNX8S4nigRQOo4z07g4AtAipA4vs4ICEB/nUqZ58sCQFWembm6Bfo/xtoM8LVF8T+FTjDicHrnPwW0NlGD6Ns/djxG7dEQzT/kgWfK0UXAP04e7p6uAKO/U8LMJsVjyb/9SNhTfdyDv6yHiyRvwuc/YH/Q96J+9z8fz8lq9RYAQHNa8arPlwFA6C5g8skGAEDf2G6Pg0P+Pzx05xsQIv0/aqvhULpq/D9/cRIK1jv8P0N2gFVlV/w/l8yGPE/u+z8PyvyTInP7P5+BCjLJB/s/712TDke9+j855FpFY4f6P7S7Qdxnhfo/BEctRHOb+z/jcb7JUHz8P62m1jeD/vw/Kl5ga3r9/D8lrYwPuV38Pz+eRmufRvs/QIGudyMW+j/FXLa7nv/4P2WVJw9Rbfg/CejmZKc8+D+aZMjXvDf4PwzcqrkWtPc/y2300tGk9j+PCzl883P1P+ux3ZfUiPQ/9dhElUIR9D9+kji0k0T0P9hVz+l87/o/\",\"dtype\":\"float64\",\"shape\":[75]},\"y\":{\"__ndarray__\":\"S/O/Q+51ND/Sv8nbtpRIP2vylNV0PVE/aTum7souWD/At0SJ8fVgPw3Iuahxymc/MSNhhJWvcD/bTfBN02d3P2zb5nxnaoA/CD5h5MAGhz8NmeH1TyaQP+zrCsc9p5Y/LbKd76fGnz/bLW5ISEmmPww9YvTcQq8/JV2OstnstT8Er5Y7M8G+P0c+r3jqkcU/5h99k6ZBzj88bCIzFzjVP4enV8oyxN0//yH99nXg5D8qOpLLf0jtP5kqGJXUifQ/c9cS8kHP/D+/DpwzojQEQIEmwoanVwxA4lgXt9HgE0BSSZ2AJuIbQAMJih9jjiNA5q4l5INuK0AwTKYKRj0zQNv5fmq8/DpAaCJseHrtQkB/+zpwzoxKQM3MzMzMeFJAZmZmZmZqWEAAAAAAAFxeQM3MzMzMJmJAmpmZmZkfZUBmZmZmZhhoQDMzMzMzEWtAAAAAAAAKbkBmZmZmZoFwQM3MzMzM/XFAMzMzMzN6c0CamZmZmfZ0QAAAAAAAc3ZAZmZmZmbvd0DNzMzMzGt5QDMzMzMz6HpAmpmZmZlkfEAAAAAAAOF9QGZmZmZmXX9AZmZmZuZsgECamZmZGSuBQM3MzMxM6YFAAAAAAICngkAzMzMzs2WDQGZmZmbmI4RAmpmZmRnihEDNzMzMTKCFQAAAAACAXoZAMzMzM7Mch0BmZmZm5tqHQJqZmZkZmYhAzczMzExXiUAAAAAAgBWKQDMzMzOz04pAZmZmZuaRi0CamZmZGVCMQM3MzMxMDo1AAAAAAIDMjUAzMzMzs4qOQGZmZmbmSI9A\",\"dtype\":\"float64\",\"shape\":[75]}},\"selected\":{\"id\":\"f9d4fef5-e8c5-4a8f-84a1-31a65dbe2364\",\"type\":\"Selection\"},\"selection_policy\":{\"id\":\"ac3e1406-9894-4e01-bed6-cc4a82077c24\",\"type\":\"UnionRenderers\"}},\"id\":\"6f131ccd-a46b-4529-98b5-63ee6f159bea\",\"type\":\"ColumnDataSource\"},{\"attributes\":{\"callback\":null,\"data\":{\"x\":{\"__ndarray__\":\"cm1sTMT3VEDEyvjosEJHQOKI6DjzCUNArgQWV9awPkB9Lm8XG3M4QEz+Qv6iYzNA7eV8HaPLLkCX1QHyTpMoQFBmYSYetiNAUB04GtGpH0AmFyVE5j8ZQJca9QPGqBNALJP+OOHHDEBNxaf7QF8AQKtislomWuw/cW2dcO6A9T/uJJvfPu0EQIaQLTI/JQ1AxGiII+PmEkCJvfVeuCsYQD6ZBhGbHB9AXQw69DTYJEAsubcwKucqQNuT9D5OmipAJyi3szEJJUBlNebh5WkgQDDcPHBr2xlArtlANXuQFEBdJadFHckQQI2Avh0ZsQtAjYiwt1rsBUCL0SDoVBgAQK6C0nEEjvc/CggLSme58T9sXU2orFPnP0v0JYz9Gdg/vT38vxYczD9nBQTe6kHHP1IhkEXJwKo/8OZnhCVAub+xtVgCpmqzP6DUpY6g0+k/PKK3T1h4+D8RTDjQc1EAQG/dAQs7TwJAQt2eHpPLAEBWEh074x//PyCap9ZSGf4/rEzaTySm/T+7aXhHRmr9P688KeqeNP0/ruZ4EemD/D8olrZcn9T7P0+vNc9hW/s/i9VVL+4P+z+0NzC24uz6P8731Kza8vo/xFf4SHzq+z+gYyHpvHb8P68ROkiFevw/BAjYdCga/D8AUp8VbW77P3JrF/nKmvo/qCQeGfq++T/dplwHJfn4P2G4p+Uva/g/OzZ0RqMZ+D8dmn/iar73P/OuA7Ka8PY/gaaeQHGn9T9hkyjAH1L0P3aZGhdAU/M/n8VP/g7P8j+90HxHNvfyPwhNBtgrqvk/\",\"dtype\":\"float64\",\"shape\":[75]},\"y\":{\"__ndarray__\":\"GhExyth1ND/Sv8nbtpRIP2vylNV0PVE/aTum7souWD/At0SJ8fVgPw3Iuahxymc/MSNhhJWvcD/bTfBN02d3P2zb5nxnaoA/CD5h5MAGhz8NmeH1TyaQP+zrCsc9p5Y/LbKd76fGnz/bLW5ISEmmPww9YvTcQq8/JV2OstnstT8Er5Y7M8G+P0c+r3jqkcU/5h99k6ZBzj88bCIzFzjVP4enV8oyxN0//yH99nXg5D8qOpLLf0jtP5kqGJXUifQ/c9cS8kHP/D+/DpwzojQEQIEmwoanVwxA4lgXt9HgE0BSSZ2AJuIbQAMJih9jjiNA5q4l5INuK0AwTKYKRj0zQNv5fmq8/DpAaCJseHrtQkB/+zpwzoxKQM3MzMzMeFJAZmZmZmZqWEAAAAAAAFxeQM3MzMzMJmJAmpmZmZkfZUBmZmZmZhhoQDMzMzMzEWtAAAAAAAAKbkBmZmZmZoFwQM3MzMzM/XFAMzMzMzN6c0CamZmZmfZ0QAAAAAAAc3ZAZmZmZmbvd0DNzMzMzGt5QDMzMzMz6HpAmpmZmZlkfEAAAAAAAOF9QGZmZmZmXX9AZmZmZuZsgECamZmZGSuBQM3MzMxM6YFAAAAAAICngkAzMzMzs2WDQGZmZmbmI4RAmpmZmRnihEDNzMzMTKCFQAAAAACAXoZAMzMzM7Mch0BmZmZm5tqHQJqZmZkZmYhAzczMzExXiUAAAAAAgBWKQDMzMzOz04pAZmZmZuaRi0CamZmZGVCMQM3MzMxMDo1AAAAAAIDMjUAzMzMzs4qOQGZmZmbmSI9A\",\"dtype\":\"float64\",\"shape\":[75]}},\"selected\":{\"id\":\"fb7fd00a-fe34-4eba-a098-7010f2f47571\",\"type\":\"Selection\"},\"selection_policy\":{\"id\":\"bd3efa7b-348d-4520-9684-6f727914c0a4\",\"type\":\"UnionRenderers\"}},\"id\":\"95f9617f-8fde-4caa-85ab-09b88c8e8186\",\"type\":\"ColumnDataSource\"},{\"attributes\":{\"source\":{\"id\":\"33a2f34c-6ff1-4114-844c-2d5620d38ccf\",\"type\":\"ColumnDataSource\"}},\"id\":\"f580a072-b9cb-4212-a51f-7dd2e6a94886\",\"type\":\"CDSView\"},{\"attributes\":{\"callback\":null,\"data\":{\"x\":{\"__ndarray__\":\"cm1sTMT3VEDEyvjosEJHQOKI6DjzCUNArgQWV9awPkB9Lm8XG3M4QEz+Qv6iYzNA7eV8HaPLLkCX1QHyTpMoQFBmYSYetiNAUB04GtGpH0AmFyVE5j8ZQJca9QPGqBNALJP+OOHHDEBNxaf7QF8AQKtislomWuw/cW2dcO6A9T/uJJvfPu0EQIaQLTI/JQ1AxGiII+PmEkCJvfVeuCsYQD6ZBhGbHB9AXQw69DTYJEAsubcwKucqQNuT9D5OmipAJyi3szEJJUBlNebh5WkgQDDcPHBr2xlArtlANXuQFEBdJadFHckQQI2Avh0ZsQtAjYiwt1rsBUCL0SDoVBgAQK6C0nEEjvc/CggLSme58T9sXU2orFPnP0v0JYz9Gdg/vT38vxYczD9nBQTe6kHHP1IhkEXJwKo/8OZnhCVAub+xtVgCpmqzP6DUpY6g0+k/PKK3T1h4+D8RTDjQc1EAQG/dAQs7TwJAQt2eHpPLAEBWEh074x//PyCap9ZSGf4/rEzaTySm/T+7aXhHRmr9P688KeqeNP0/ruZ4EemD/D8olrZcn9T7P0+vNc9hW/s/i9VVL+4P+z+0NzC24uz6P8731Kza8vo/xFf4SHzq+z+gYyHpvHb8P68ROkiFevw/BAjYdCga/D8AUp8VbW77P3JrF/nKmvo/qCQeGfq++T/dplwHJfn4P2G4p+Uva/g/OzZ0RqMZ+D8dmn/iar73P/OuA7Ka8PY/gaaeQHGn9T9hkyjAH1L0P3aZGhdAU/M/n8VP/g7P8j+90HxHNvfyPwhNBtgrqvk/\",\"dtype\":\"float64\",\"shape\":[75]},\"y\":{\"__ndarray__\":\"GhExyth1ND/Sv8nbtpRIP2vylNV0PVE/aTum7souWD/At0SJ8fVgPw3Iuahxymc/MSNhhJWvcD/bTfBN02d3P2zb5nxnaoA/CD5h5MAGhz8NmeH1TyaQP+zrCsc9p5Y/LbKd76fGnz/bLW5ISEmmPww9YvTcQq8/JV2OstnstT8Er5Y7M8G+P0c+r3jqkcU/5h99k6ZBzj88bCIzFzjVP4enV8oyxN0//yH99nXg5D8qOpLLf0jtP5kqGJXUifQ/c9cS8kHP/D+/DpwzojQEQIEmwoanVwxA4lgXt9HgE0BSSZ2AJuIbQAMJih9jjiNA5q4l5INuK0AwTKYKRj0zQNv5fmq8/DpAaCJseHrtQkB/+zpwzoxKQM3MzMzMeFJAZmZmZmZqWEAAAAAAAFxeQM3MzMzMJmJAmpmZmZkfZUBmZmZmZhhoQDMzMzMzEWtAAAAAAAAKbkBmZmZmZoFwQM3MzMzM/XFAMzMzMzN6c0CamZmZmfZ0QAAAAAAAc3ZAZmZmZmbvd0DNzMzMzGt5QDMzMzMz6HpAmpmZmZlkfEAAAAAAAOF9QGZmZmZmXX9AZmZmZuZsgECamZmZGSuBQM3MzMxM6YFAAAAAAICngkAzMzMzs2WDQGZmZmbmI4RAmpmZmRnihEDNzMzMTKCFQAAAAACAXoZAMzMzM7Mch0BmZmZm5tqHQJqZmZkZmYhAzczMzExXiUAAAAAAgBWKQDMzMzOz04pAZmZmZuaRi0CamZmZGVCMQM3MzMxMDo1AAAAAAIDMjUAzMzMzs4qOQGZmZmbmSI9A\",\"dtype\":\"float64\",\"shape\":[75]}},\"selected\":{\"id\":\"0672f062-a7b6-4dab-813b-9a4905bace2f\",\"type\":\"Selection\"},\"selection_policy\":{\"id\":\"63e92fde-f29a-45a3-87f0-47b1246eedcd\",\"type\":\"UnionRenderers\"}},\"id\":\"b38824a4-d11c-4504-8509-d6d68b03b629\",\"type\":\"ColumnDataSource\"},{\"attributes\":{\"callback\":null,\"end\":0.01,\"start\":1020},\"id\":\"db996831-4026-4e67-ade2-d5b1811887a1\",\"type\":\"Range1d\"},{\"attributes\":{\"callback\":null,\"end\":13.587992271510018,\"start\":-0.33485575257202},\"id\":\"de5758e8-c671-47b7-aa19-44bb66ea8537\",\"type\":\"Range1d\"},{\"attributes\":{\"data_source\":{\"id\":\"b38824a4-d11c-4504-8509-d6d68b03b629\",\"type\":\"ColumnDataSource\"},\"glyph\":{\"id\":\"67dcbc85-7458-48f2-89b3-4e5a0c826af6\",\"type\":\"Circle\"},\"hover_glyph\":null,\"muted_glyph\":null,\"nonselection_glyph\":{\"id\":\"bc44c86e-8384-464c-9fc1-c6215e1fcd3f\",\"type\":\"Circle\"},\"selection_glyph\":null,\"view\":{\"id\":\"cee34500-4a56-44f4-9386-f8ffa37289c8\",\"type\":\"CDSView\"}},\"id\":\"52342e84-a3b0-4b70-804f-2cf9c04e682f\",\"type\":\"GlyphRenderer\"},{\"attributes\":{\"items\":[{\"id\":\"0e25d22a-fa36-4a2e-8fa3-949c64084074\",\"type\":\"LegendItem\"},{\"id\":\"f929c322-57b9-4ff4-8099-6552aa6f4cab\",\"type\":\"LegendItem\"}],\"label_text_font_size\":{\"value\":\"8pt\"},\"location\":\"top_center\",\"orientation\":\"horizontal\",\"plot\":{\"id\":\"ba7ebc97-deb5-4cd3-9176-5be508a79eac\",\"subtype\":\"Figure\",\"type\":\"Plot\"}},\"id\":\"d023a096-50ae-4d8d-8d13-484c6ff3e8f7\",\"type\":\"Legend\"},{\"attributes\":{\"fill_alpha\":{\"value\":0.1},\"fill_color\":{\"value\":\"#1f77b4\"},\"line_alpha\":{\"value\":0.1},\"line_color\":{\"value\":\"#1f77b4\"},\"x\":{\"field\":\"x\"},\"y\":{\"field\":\"y\"}},\"id\":\"821159db-b3b9-4211-9b74-dc48dc41c2a1\",\"type\":\"Circle\"},{\"attributes\":{\"source\":{\"id\":\"95f9617f-8fde-4caa-85ab-09b88c8e8186\",\"type\":\"ColumnDataSource\"}},\"id\":\"178ec0fe-86e1-4a24-aabe-d1446fa76bca\",\"type\":\"CDSView\"},{\"attributes\":{\"line_alpha\":0.1,\"line_color\":\"#1f77b4\",\"line_width\":1.5,\"x\":{\"field\":\"x\"},\"y\":{\"field\":\"y\"}},\"id\":\"2c9607ab-5d1f-462a-879a-0fefe0fdaa1d\",\"type\":\"Line\"},{\"attributes\":{\"fill_alpha\":{\"value\":0.1},\"fill_color\":{\"value\":\"#1f77b4\"},\"line_alpha\":{\"value\":0.1},\"line_color\":{\"value\":\"#1f77b4\"},\"x\":{\"field\":\"x\"},\"y\":{\"field\":\"y\"}},\"id\":\"bc44c86e-8384-464c-9fc1-c6215e1fcd3f\",\"type\":\"Circle\"},{\"attributes\":{\"data_source\":{\"id\":\"95f9617f-8fde-4caa-85ab-09b88c8e8186\",\"type\":\"ColumnDataSource\"},\"glyph\":{\"id\":\"8ce61211-d20c-4939-8ab0-860799c68d26\",\"type\":\"Line\"},\"hover_glyph\":null,\"muted_glyph\":null,\"nonselection_glyph\":{\"id\":\"2c9607ab-5d1f-462a-879a-0fefe0fdaa1d\",\"type\":\"Line\"},\"selection_glyph\":null,\"view\":{\"id\":\"178ec0fe-86e1-4a24-aabe-d1446fa76bca\",\"type\":\"CDSView\"}},\"id\":\"00ad8b26-6950-49a7-bd77-06486b74f6b1\",\"type\":\"GlyphRenderer\"},{\"attributes\":{\"bottom_units\":\"screen\",\"fill_alpha\":{\"value\":0.5},\"fill_color\":{\"value\":\"lightgrey\"},\"left_units\":\"screen\",\"level\":\"overlay\",\"line_alpha\":{\"value\":1.0},\"line_color\":{\"value\":\"black\"},\"line_dash\":[4,4],\"line_width\":{\"value\":2},\"plot\":null,\"render_mode\":\"css\",\"right_units\":\"screen\",\"top_units\":\"screen\"},\"id\":\"f3b5e2f7-af9a-463e-a5db-c4f4359b233e\",\"type\":\"BoxAnnotation\"},{\"attributes\":{},\"id\":\"74b3b577-95b7-4615-bd08-573a8254353e\",\"type\":\"HelpTool\"},{\"attributes\":{\"source\":{\"id\":\"b38824a4-d11c-4504-8509-d6d68b03b629\",\"type\":\"ColumnDataSource\"}},\"id\":\"cee34500-4a56-44f4-9386-f8ffa37289c8\",\"type\":\"CDSView\"},{\"attributes\":{},\"id\":\"6cf78395-9834-4e25-8629-c66e4412e6bf\",\"type\":\"UnionRenderers\"},{\"attributes\":{\"line_color\":\"#4daf4a\",\"line_width\":1.5,\"x\":{\"field\":\"x\"},\"y\":{\"field\":\"y\"}},\"id\":\"8ce61211-d20c-4939-8ab0-860799c68d26\",\"type\":\"Line\"},{\"attributes\":{\"fill_alpha\":{\"value\":0.7},\"fill_color\":{\"value\":\"#4daf4a\"},\"line_alpha\":{\"value\":0.7},\"line_color\":{\"value\":\"#4daf4a\"},\"x\":{\"field\":\"x\"},\"y\":{\"field\":\"y\"}},\"id\":\"67dcbc85-7458-48f2-89b3-4e5a0c826af6\",\"type\":\"Circle\"},{\"attributes\":{\"fill_alpha\":{\"value\":0.7},\"fill_color\":{\"value\":\"#4daf4a\"},\"line_alpha\":{\"value\":0.7},\"line_color\":{\"value\":\"#4daf4a\"},\"x\":{\"field\":\"x\"},\"y\":{\"field\":\"y\"}},\"id\":\"4e4823b9-d4b7-4e7c-80da-840ff7c5be2c\",\"type\":\"Circle\"},{\"attributes\":{},\"id\":\"928bfd1b-7c87-4e7c-b80f-856d76a2299c\",\"type\":\"Selection\"},{\"attributes\":{\"overlay\":{\"id\":\"f3b5e2f7-af9a-463e-a5db-c4f4359b233e\",\"type\":\"BoxAnnotation\"}},\"id\":\"86ceb255-4818-4375-a85c-43588c0cbf53\",\"type\":\"BoxZoomTool\"},{\"attributes\":{},\"id\":\"0f78b47c-47a4-4dbe-9edd-9fe3970919cf\",\"type\":\"LinearScale\"},{\"attributes\":{\"children\":[{\"id\":\"61ea35e7-a3ff-43e5-8774-43570fe99b28\",\"subtype\":\"Figure\",\"type\":\"Plot\"},{\"id\":\"ba7ebc97-deb5-4cd3-9176-5be508a79eac\",\"subtype\":\"Figure\",\"type\":\"Plot\"},{\"id\":\"90f199e4-2dde-4843-b5d1-4c744302fa9e\",\"subtype\":\"Figure\",\"type\":\"Plot\"}]},\"id\":\"2d777eef-1a01-4a70-8793-2d201f7cfbbe\",\"type\":\"Row\"},{\"attributes\":{\"active_drag\":\"auto\",\"active_inspect\":\"auto\",\"active_scroll\":\"auto\",\"active_tap\":\"auto\",\"tools\":[{\"id\":\"efef6d3b-7b86-43eb-abe2-397ab20a1257\",\"type\":\"PanTool\"},{\"id\":\"2f4fa3ef-b782-4c6d-b361-2b16fa1c01e2\",\"type\":\"WheelZoomTool\"},{\"id\":\"b0fad781-9827-4236-9a52-125590d39e61\",\"type\":\"BoxZoomTool\"},{\"id\":\"c056f107-03c4-44e1-8452-0d4073c0dd2d\",\"type\":\"SaveTool\"},{\"id\":\"c529e617-8430-4e55-8a2e-2072896dbf53\",\"type\":\"ResetTool\"},{\"id\":\"319ced1f-e143-4e29-b11f-bc3790de97ea\",\"type\":\"HelpTool\"}]},\"id\":\"43f904aa-8d0e-4a65-b4b4-975a38c80226\",\"type\":\"Toolbar\"},{\"attributes\":{},\"id\":\"efef6d3b-7b86-43eb-abe2-397ab20a1257\",\"type\":\"PanTool\"},{\"attributes\":{},\"id\":\"b53e6f61-f709-48a6-8711-fa0a4f91fa5c\",\"type\":\"Selection\"},{\"attributes\":{\"bottom_units\":\"screen\",\"fill_alpha\":{\"value\":0.5},\"fill_color\":{\"value\":\"lightgrey\"},\"left_units\":\"screen\",\"level\":\"overlay\",\"line_alpha\":{\"value\":1.0},\"line_color\":{\"value\":\"black\"},\"line_dash\":[4,4],\"line_width\":{\"value\":2},\"plot\":null,\"render_mode\":\"css\",\"right_units\":\"screen\",\"top_units\":\"screen\"},\"id\":\"0ef48286-0831-4f7e-965d-4b7aa5ab00d8\",\"type\":\"BoxAnnotation\"},{\"attributes\":{},\"id\":\"ac80d2fb-0ec7-47e0-b1ca-f98bf7fee43e\",\"type\":\"ResetTool\"},{\"attributes\":{},\"id\":\"fb7fd00a-fe34-4eba-a098-7010f2f47571\",\"type\":\"Selection\"},{\"attributes\":{},\"id\":\"fd4e0dab-31eb-41d1-818a-35c9d44fa2a9\",\"type\":\"UnionRenderers\"},{\"attributes\":{\"ticker\":null},\"id\":\"8f315831-617e-4eca-972b-6861d88eae83\",\"type\":\"LogTickFormatter\"},{\"attributes\":{\"ticker\":null},\"id\":\"81ad8d14-24d5-46dd-9446-a1e40cf3b3b8\",\"type\":\"LogTickFormatter\"},{\"attributes\":{},\"id\":\"c056f107-03c4-44e1-8452-0d4073c0dd2d\",\"type\":\"SaveTool\"},{\"attributes\":{\"above\":[{\"id\":\"d023a096-50ae-4d8d-8d13-484c6ff3e8f7\",\"type\":\"Legend\"}],\"below\":[{\"id\":\"881dfa73-b8cf-42bf-8701-834792b4f25c\",\"type\":\"LinearAxis\"}],\"left\":[{\"id\":\"e53347cc-6a7d-4dd8-b2e3-120f74a25792\",\"type\":\"LogAxis\"}],\"plot_width\":300,\"renderers\":[{\"id\":\"881dfa73-b8cf-42bf-8701-834792b4f25c\",\"type\":\"LinearAxis\"},{\"id\":\"c6ce767e-cc47-46a3-a35c-84ec0cd5b848\",\"type\":\"Grid\"},{\"id\":\"e53347cc-6a7d-4dd8-b2e3-120f74a25792\",\"type\":\"LogAxis\"},{\"id\":\"548373ff-a37c-4b56-b9d1-edec446a079e\",\"type\":\"Grid\"},{\"id\":\"f3b5e2f7-af9a-463e-a5db-c4f4359b233e\",\"type\":\"BoxAnnotation\"},{\"id\":\"c4fe6cc4-d980-4116-b0ea-3a5cc27658e5\",\"type\":\"GlyphRenderer\"},{\"id\":\"52342e84-a3b0-4b70-804f-2cf9c04e682f\",\"type\":\"GlyphRenderer\"},{\"id\":\"00ad8b26-6950-49a7-bd77-06486b74f6b1\",\"type\":\"GlyphRenderer\"},{\"id\":\"d023a096-50ae-4d8d-8d13-484c6ff3e8f7\",\"type\":\"Legend\"}],\"title\":{\"id\":\"dce8510d-f915-441a-b915-98156690f52f\",\"type\":\"Title\"},\"toolbar\":{\"id\":\"3be9e640-aa0a-4261-90a1-eb062c1374d4\",\"type\":\"Toolbar\"},\"toolbar_location\":null,\"x_range\":{\"id\":\"de5758e8-c671-47b7-aa19-44bb66ea8537\",\"type\":\"Range1d\"},\"x_scale\":{\"id\":\"0f78b47c-47a4-4dbe-9edd-9fe3970919cf\",\"type\":\"LinearScale\"},\"y_range\":{\"id\":\"db996831-4026-4e67-ade2-d5b1811887a1\",\"type\":\"Range1d\"},\"y_scale\":{\"id\":\"c63a1c43-e7c6-4418-9397-6f7d25656d06\",\"type\":\"LogScale\"}},\"id\":\"ba7ebc97-deb5-4cd3-9176-5be508a79eac\",\"subtype\":\"Figure\",\"type\":\"Plot\"},{\"attributes\":{},\"id\":\"06af3808-9344-4ad1-9008-7ec9aade7369\",\"type\":\"BasicTickFormatter\"},{\"attributes\":{\"plot\":null,\"text\":\"\"},\"id\":\"fef8d215-f0c5-45ae-b70e-51bd5c92906d\",\"type\":\"Title\"},{\"attributes\":{\"label\":{\"value\":\"CRD\"},\"renderers\":[{\"id\":\"7ea687fe-5ff7-438a-b236-ba8e095d9d72\",\"type\":\"GlyphRenderer\"},{\"id\":\"25dab6c2-0c16-40e4-b1c0-4f369d3ccc46\",\"type\":\"GlyphRenderer\"}]},\"id\":\"ac4e215c-78b7-43d6-80d0-0638c360ed6d\",\"type\":\"LegendItem\"},{\"attributes\":{},\"id\":\"289e8076-ea87-48cb-9741-f9f29e92b60a\",\"type\":\"SaveTool\"},{\"attributes\":{},\"id\":\"2f4fa3ef-b782-4c6d-b361-2b16fa1c01e2\",\"type\":\"WheelZoomTool\"},{\"attributes\":{\"label\":{\"value\":\"CLIRAD - CRD\"},\"renderers\":[{\"id\":\"62f5551e-6b3a-4518-bdcf-546385fd3c2c\",\"type\":\"GlyphRenderer\"},{\"id\":\"38fefaad-b9af-4948-8276-1edddba67910\",\"type\":\"GlyphRenderer\"}]},\"id\":\"7d1c4107-94b5-42a9-936e-4af303b22a59\",\"type\":\"LegendItem\"},{\"attributes\":{},\"id\":\"7f0278fa-e38f-4477-a9d7-95088ea01ca8\",\"type\":\"WheelZoomTool\"},{\"attributes\":{\"callback\":null,\"data\":{\"x\":{\"__ndarray__\":\"Ay4WgzmiRUAzdH4xyelCQI/4CCUPukFAmDQrpSkbQEAzbNWwowU8QFVgF/XlEDdAoDiHgYPLMUABmdymgcIpQGLYd07xCSJArfSs310nGkAWc9HvWtkUQOusy4pytBFAJqIBIKFJDUB2OQnHDJMDQMl96Kg58fU/43VcVuWK+j82Bjz+TzEFQNyoIwf3DQtAy+LYYlLgEEBpIj3ZQhcWQG2pjOCj/R1Af3bvKgrVJEABDCYXO8wqQEzO0e7F+ylAYXLSO7hOJEAgnb4nokcgQNoX8+gOZBtA1Mo1E7QFFkBNX8S4nigRQOo4z07g4AtAipA4vs4ICEB/nUqZ58sCQFWembm6Bfo/xtoM8LVF8T+FTjDicHrnPwW0NlGD6Ns/djxG7dEQzT/kgWfK0UXAP04e7p6uAKO/U8LMJsVjyb/9SNhTfdyDv6yHiyRvwuc/YH/Q96J+9z8fz8lq9RYAQHNa8arPlwFA6C5g8skGAEDf2G6Pg0P+Pzx05xsQIv0/aqvhULpq/D9/cRIK1jv8P0N2gFVlV/w/l8yGPE/u+z8PyvyTInP7P5+BCjLJB/s/712TDke9+j855FpFY4f6P7S7Qdxnhfo/BEctRHOb+z/jcb7JUHz8P62m1jeD/vw/Kl5ga3r9/D8lrYwPuV38Pz+eRmufRvs/QIGudyMW+j/FXLa7nv/4P2WVJw9Rbfg/CejmZKc8+D+aZMjXvDf4PwzcqrkWtPc/y2300tGk9j+PCzl883P1P+ux3ZfUiPQ/9dhElUIR9D9+kji0k0T0P9hVz+l87/o/\",\"dtype\":\"float64\",\"shape\":[75]},\"y\":{\"__ndarray__\":\"S/O/Q+51ND/Sv8nbtpRIP2vylNV0PVE/aTum7souWD/At0SJ8fVgPw3Iuahxymc/MSNhhJWvcD/bTfBN02d3P2zb5nxnaoA/CD5h5MAGhz8NmeH1TyaQP+zrCsc9p5Y/LbKd76fGnz/bLW5ISEmmPww9YvTcQq8/JV2OstnstT8Er5Y7M8G+P0c+r3jqkcU/5h99k6ZBzj88bCIzFzjVP4enV8oyxN0//yH99nXg5D8qOpLLf0jtP5kqGJXUifQ/c9cS8kHP/D+/DpwzojQEQIEmwoanVwxA4lgXt9HgE0BSSZ2AJuIbQAMJih9jjiNA5q4l5INuK0AwTKYKRj0zQNv5fmq8/DpAaCJseHrtQkB/+zpwzoxKQM3MzMzMeFJAZmZmZmZqWEAAAAAAAFxeQM3MzMzMJmJAmpmZmZkfZUBmZmZmZhhoQDMzMzMzEWtAAAAAAAAKbkBmZmZmZoFwQM3MzMzM/XFAMzMzMzN6c0CamZmZmfZ0QAAAAAAAc3ZAZmZmZmbvd0DNzMzMzGt5QDMzMzMz6HpAmpmZmZlkfEAAAAAAAOF9QGZmZmZmXX9AZmZmZuZsgECamZmZGSuBQM3MzMxM6YFAAAAAAICngkAzMzMzs2WDQGZmZmbmI4RAmpmZmRnihEDNzMzMTKCFQAAAAACAXoZAMzMzM7Mch0BmZmZm5tqHQJqZmZkZmYhAzczMzExXiUAAAAAAgBWKQDMzMzOz04pAZmZmZuaRi0CamZmZGVCMQM3MzMxMDo1AAAAAAIDMjUAzMzMzs4qOQGZmZmbmSI9A\",\"dtype\":\"float64\",\"shape\":[75]}},\"selected\":{\"id\":\"3ed3610c-284e-43b2-b226-3ed25f9613a8\",\"type\":\"Selection\"},\"selection_policy\":{\"id\":\"6cf78395-9834-4e25-8629-c66e4412e6bf\",\"type\":\"UnionRenderers\"}},\"id\":\"33a2f34c-6ff1-4114-844c-2d5620d38ccf\",\"type\":\"ColumnDataSource\"},{\"attributes\":{\"line_alpha\":0.8,\"line_color\":\"#984ea3\",\"line_width\":1.5,\"x\":{\"field\":\"x\"},\"y\":{\"field\":\"y\"}},\"id\":\"862a30c3-e883-4f62-9848-de279f4cde1e\",\"type\":\"Line\"},{\"attributes\":{},\"id\":\"04522faa-f324-4b52-a7c9-5f1a12f77953\",\"type\":\"PanTool\"},{\"attributes\":{\"callback\":null,\"end\":0.50401607191973,\"start\":-1.3960204970527301},\"id\":\"76be5b62-f2a6-46f0-af60-a851958fbfe7\",\"type\":\"Range1d\"},{\"attributes\":{\"data_source\":{\"id\":\"abe10a59-deca-4734-8bee-4246384101c8\",\"type\":\"ColumnDataSource\"},\"glyph\":{\"id\":\"7fcdd886-0a8a-4a43-b400-71c098756880\",\"type\":\"Circle\"},\"hover_glyph\":null,\"muted_glyph\":null,\"nonselection_glyph\":{\"id\":\"821159db-b3b9-4211-9b74-dc48dc41c2a1\",\"type\":\"Circle\"},\"selection_glyph\":null,\"view\":{\"id\":\"27ab4868-517c-4333-a386-7e2c90092222\",\"type\":\"CDSView\"}},\"id\":\"62f5551e-6b3a-4518-bdcf-546385fd3c2c\",\"type\":\"GlyphRenderer\"},{\"attributes\":{\"overlay\":{\"id\":\"0ef48286-0831-4f7e-965d-4b7aa5ab00d8\",\"type\":\"BoxAnnotation\"}},\"id\":\"b0fad781-9827-4236-9a52-125590d39e61\",\"type\":\"BoxZoomTool\"},{\"attributes\":{},\"id\":\"ac9e3748-1409-4a06-be43-b8da72a5b3b8\",\"type\":\"LinearScale\"},{\"attributes\":{\"source\":{\"id\":\"23290f7c-f205-4e84-8c15-6013de4f3058\",\"type\":\"ColumnDataSource\"}},\"id\":\"48840e77-bfbf-4395-8131-8210d38c53a2\",\"type\":\"CDSView\"},{\"attributes\":{\"axis_label\":\"pressure [mb]\",\"formatter\":{\"id\":\"81ad8d14-24d5-46dd-9446-a1e40cf3b3b8\",\"type\":\"LogTickFormatter\"},\"plot\":{\"id\":\"ba7ebc97-deb5-4cd3-9176-5be508a79eac\",\"subtype\":\"Figure\",\"type\":\"Plot\"},\"ticker\":{\"id\":\"8217767d-38dc-4c3d-bd1a-29a271308269\",\"type\":\"LogTicker\"}},\"id\":\"e53347cc-6a7d-4dd8-b2e3-120f74a25792\",\"type\":\"LogAxis\"},{\"attributes\":{\"line_alpha\":0.1,\"line_color\":\"#1f77b4\",\"line_width\":1.5,\"x\":{\"field\":\"x\"},\"y\":{\"field\":\"y\"}},\"id\":\"13f6ba63-59bd-4758-86ae-0f634ce17a72\",\"type\":\"Line\"},{\"attributes\":{\"num_minor_ticks\":10},\"id\":\"8217767d-38dc-4c3d-bd1a-29a271308269\",\"type\":\"LogTicker\"},{\"attributes\":{\"children\":[{\"id\":\"2d777eef-1a01-4a70-8793-2d201f7cfbbe\",\"type\":\"Row\"}]},\"id\":\"baba4832-a14c-46fc-86bd-42c5e4bfce96\",\"type\":\"Column\"},{\"attributes\":{\"data_source\":{\"id\":\"f1f226ae-481c-4d5c-b5ab-8e76fca4be5d\",\"type\":\"ColumnDataSource\"},\"glyph\":{\"id\":\"862a30c3-e883-4f62-9848-de279f4cde1e\",\"type\":\"Line\"},\"hover_glyph\":null,\"muted_glyph\":null,\"nonselection_glyph\":{\"id\":\"300fa851-a016-4bf8-8cd3-38c3a7118d37\",\"type\":\"Line\"},\"selection_glyph\":null,\"view\":{\"id\":\"5a5920ab-62fe-4a44-a524-e1a3287f31ec\",\"type\":\"CDSView\"}},\"id\":\"38fefaad-b9af-4948-8276-1edddba67910\",\"type\":\"GlyphRenderer\"},{\"attributes\":{},\"id\":\"bd3efa7b-348d-4520-9684-6f727914c0a4\",\"type\":\"UnionRenderers\"},{\"attributes\":{},\"id\":\"c529e617-8430-4e55-8a2e-2072896dbf53\",\"type\":\"ResetTool\"},{\"attributes\":{},\"id\":\"c63a1c43-e7c6-4418-9397-6f7d25656d06\",\"type\":\"LogScale\"},{\"attributes\":{\"data_source\":{\"id\":\"23290f7c-f205-4e84-8c15-6013de4f3058\",\"type\":\"ColumnDataSource\"},\"glyph\":{\"id\":\"c3991846-65e4-459f-a09e-7982a5b0f8b6\",\"type\":\"Line\"},\"hover_glyph\":null,\"muted_glyph\":null,\"nonselection_glyph\":{\"id\":\"13f6ba63-59bd-4758-86ae-0f634ce17a72\",\"type\":\"Line\"},\"selection_glyph\":null,\"view\":{\"id\":\"48840e77-bfbf-4395-8131-8210d38c53a2\",\"type\":\"CDSView\"}},\"id\":\"25dab6c2-0c16-40e4-b1c0-4f369d3ccc46\",\"type\":\"GlyphRenderer\"},{\"attributes\":{\"active_drag\":\"auto\",\"active_inspect\":\"auto\",\"active_scroll\":\"auto\",\"active_tap\":\"auto\",\"tools\":[{\"id\":\"04522faa-f324-4b52-a7c9-5f1a12f77953\",\"type\":\"PanTool\"},{\"id\":\"7f0278fa-e38f-4477-a9d7-95088ea01ca8\",\"type\":\"WheelZoomTool\"},{\"id\":\"86ceb255-4818-4375-a85c-43588c0cbf53\",\"type\":\"BoxZoomTool\"},{\"id\":\"289e8076-ea87-48cb-9741-f9f29e92b60a\",\"type\":\"SaveTool\"},{\"id\":\"ac80d2fb-0ec7-47e0-b1ca-f98bf7fee43e\",\"type\":\"ResetTool\"},{\"id\":\"74b3b577-95b7-4615-bd08-573a8254353e\",\"type\":\"HelpTool\"}]},\"id\":\"3be9e640-aa0a-4261-90a1-eb062c1374d4\",\"type\":\"Toolbar\"},{\"attributes\":{\"label\":{\"value\":\"CLIRAD\"},\"renderers\":[{\"id\":\"0f6929c8-e142-4151-8c8d-240f4f3845b1\",\"type\":\"GlyphRenderer\"}]},\"id\":\"7b41731d-995e-4671-b48a-952c8608e004\",\"type\":\"LegendItem\"},{\"attributes\":{\"line_color\":\"#4daf4a\",\"line_width\":1.5,\"x\":{\"field\":\"x\"},\"y\":{\"field\":\"y\"}},\"id\":\"c3991846-65e4-459f-a09e-7982a5b0f8b6\",\"type\":\"Line\"},{\"attributes\":{\"fill_alpha\":{\"value\":0.7},\"fill_color\":{\"value\":\"#984ea3\"},\"line_alpha\":{\"value\":0.7},\"line_color\":{\"value\":\"#984ea3\"},\"x\":{\"field\":\"x\"},\"y\":{\"field\":\"y\"}},\"id\":\"7fcdd886-0a8a-4a43-b400-71c098756880\",\"type\":\"Circle\"},{\"attributes\":{\"dimension\":1,\"plot\":{\"id\":\"ba7ebc97-deb5-4cd3-9176-5be508a79eac\",\"subtype\":\"Figure\",\"type\":\"Plot\"},\"ticker\":{\"id\":\"8217767d-38dc-4c3d-bd1a-29a271308269\",\"type\":\"LogTicker\"}},\"id\":\"548373ff-a37c-4b56-b9d1-edec446a079e\",\"type\":\"Grid\"},{\"attributes\":{\"source\":{\"id\":\"f1f226ae-481c-4d5c-b5ab-8e76fca4be5d\",\"type\":\"ColumnDataSource\"}},\"id\":\"5a5920ab-62fe-4a44-a524-e1a3287f31ec\",\"type\":\"CDSView\"},{\"attributes\":{},\"id\":\"3ed3610c-284e-43b2-b226-3ed25f9613a8\",\"type\":\"Selection\"},{\"attributes\":{},\"id\":\"2d37d13b-d345-42d2-b9cf-d8573d7a9acc\",\"type\":\"Selection\"},{\"attributes\":{\"items\":[{\"id\":\"7d1c4107-94b5-42a9-936e-4af303b22a59\",\"type\":\"LegendItem\"}],\"label_text_font_size\":{\"value\":\"8pt\"},\"location\":\"top_center\",\"orientation\":\"horizontal\",\"plot\":{\"id\":\"90f199e4-2dde-4843-b5d1-4c744302fa9e\",\"subtype\":\"Figure\",\"type\":\"Plot\"}},\"id\":\"c02b4768-d648-4272-9596-1d883fc3bd58\",\"type\":\"Legend\"},{\"attributes\":{},\"id\":\"52847393-9429-401c-a8aa-6abdf1c4dac4\",\"type\":\"BasicTickFormatter\"},{\"attributes\":{\"line_alpha\":0.6,\"line_color\":\"#e41a1c\",\"line_dash\":[6],\"line_width\":5,\"x\":{\"field\":\"x\"},\"y\":{\"field\":\"y\"}},\"id\":\"ddf82c2c-4c98-4e66-96b2-70b8f890cabb\",\"type\":\"Line\"},{\"attributes\":{\"label\":{\"value\":\"CRD\"},\"renderers\":[{\"id\":\"52342e84-a3b0-4b70-804f-2cf9c04e682f\",\"type\":\"GlyphRenderer\"},{\"id\":\"00ad8b26-6950-49a7-bd77-06486b74f6b1\",\"type\":\"GlyphRenderer\"}]},\"id\":\"f929c322-57b9-4ff4-8099-6552aa6f4cab\",\"type\":\"LegendItem\"},{\"attributes\":{\"callback\":null,\"data\":{\"x\":{\"__ndarray__\":\"cm1sTMT3VEDEyvjosEJHQOKI6DjzCUNArgQWV9awPkB9Lm8XG3M4QEz+Qv6iYzNA7eV8HaPLLkCX1QHyTpMoQFBmYSYetiNAUB04GtGpH0AmFyVE5j8ZQJca9QPGqBNALJP+OOHHDEBNxaf7QF8AQKtislomWuw/cW2dcO6A9T/uJJvfPu0EQIaQLTI/JQ1AxGiII+PmEkCJvfVeuCsYQD6ZBhGbHB9AXQw69DTYJEAsubcwKucqQNuT9D5OmipAJyi3szEJJUBlNebh5WkgQDDcPHBr2xlArtlANXuQFEBdJadFHckQQI2Avh0ZsQtAjYiwt1rsBUCL0SDoVBgAQK6C0nEEjvc/CggLSme58T9sXU2orFPnP0v0JYz9Gdg/vT38vxYczD9nBQTe6kHHP1IhkEXJwKo/8OZnhCVAub+xtVgCpmqzP6DUpY6g0+k/PKK3T1h4+D8RTDjQc1EAQG/dAQs7TwJAQt2eHpPLAEBWEh074x//PyCap9ZSGf4/rEzaTySm/T+7aXhHRmr9P688KeqeNP0/ruZ4EemD/D8olrZcn9T7P0+vNc9hW/s/i9VVL+4P+z+0NzC24uz6P8731Kza8vo/xFf4SHzq+z+gYyHpvHb8P68ROkiFevw/BAjYdCga/D8AUp8VbW77P3JrF/nKmvo/qCQeGfq++T/dplwHJfn4P2G4p+Uva/g/OzZ0RqMZ+D8dmn/iar73P/OuA7Ka8PY/gaaeQHGn9T9hkyjAH1L0P3aZGhdAU/M/n8VP/g7P8j+90HxHNvfyPwhNBtgrqvk/\",\"dtype\":\"float64\",\"shape\":[75]},\"y\":{\"__ndarray__\":\"GhExyth1ND/Sv8nbtpRIP2vylNV0PVE/aTum7souWD/At0SJ8fVgPw3Iuahxymc/MSNhhJWvcD/bTfBN02d3P2zb5nxnaoA/CD5h5MAGhz8NmeH1TyaQP+zrCsc9p5Y/LbKd76fGnz/bLW5ISEmmPww9YvTcQq8/JV2OstnstT8Er5Y7M8G+P0c+r3jqkcU/5h99k6ZBzj88bCIzFzjVP4enV8oyxN0//yH99nXg5D8qOpLLf0jtP5kqGJXUifQ/c9cS8kHP/D+/DpwzojQEQIEmwoanVwxA4lgXt9HgE0BSSZ2AJuIbQAMJih9jjiNA5q4l5INuK0AwTKYKRj0zQNv5fmq8/DpAaCJseHrtQkB/+zpwzoxKQM3MzMzMeFJAZmZmZmZqWEAAAAAAAFxeQM3MzMzMJmJAmpmZmZkfZUBmZmZmZhhoQDMzMzMzEWtAAAAAAAAKbkBmZmZmZoFwQM3MzMzM/XFAMzMzMzN6c0CamZmZmfZ0QAAAAAAAc3ZAZmZmZmbvd0DNzMzMzGt5QDMzMzMz6HpAmpmZmZlkfEAAAAAAAOF9QGZmZmZmXX9AZmZmZuZsgECamZmZGSuBQM3MzMxM6YFAAAAAAICngkAzMzMzs2WDQGZmZmbmI4RAmpmZmRnihEDNzMzMTKCFQAAAAACAXoZAMzMzM7Mch0BmZmZm5tqHQJqZmZkZmYhAzczMzExXiUAAAAAAgBWKQDMzMzOz04pAZmZmZuaRi0CamZmZGVCMQM3MzMxMDo1AAAAAAIDMjUAzMzMzs4qOQGZmZmbmSI9A\",\"dtype\":\"float64\",\"shape\":[75]}},\"selected\":{\"id\":\"928bfd1b-7c87-4e7c-b80f-856d76a2299c\",\"type\":\"Selection\"},\"selection_policy\":{\"id\":\"75e75c49-311e-4b97-bc49-de72c89f3390\",\"type\":\"UnionRenderers\"}},\"id\":\"23290f7c-f205-4e84-8c15-6013de4f3058\",\"type\":\"ColumnDataSource\"},{\"attributes\":{\"toolbar\":{\"id\":\"96befb98-dc2c-4c7a-8e22-783a39083428\",\"type\":\"ProxyToolbar\"},\"toolbar_location\":\"above\"},\"id\":\"4f217c0c-055c-4371-b219-073db503aac2\",\"type\":\"ToolbarBox\"},{\"attributes\":{\"plot\":null,\"text\":\"\"},\"id\":\"0b29207c-8acc-4214-9cab-80ecaeed2adf\",\"type\":\"Title\"},{\"attributes\":{\"fill_alpha\":{\"value\":0.1},\"fill_color\":{\"value\":\"#1f77b4\"},\"line_alpha\":{\"value\":0.1},\"line_color\":{\"value\":\"#1f77b4\"},\"x\":{\"field\":\"x\"},\"y\":{\"field\":\"y\"}},\"id\":\"6220c598-2873-4fe5-a86c-75741053d43b\",\"type\":\"Circle\"},{\"attributes\":{\"source\":{\"id\":\"abe10a59-deca-4734-8bee-4246384101c8\",\"type\":\"ColumnDataSource\"}},\"id\":\"27ab4868-517c-4333-a386-7e2c90092222\",\"type\":\"CDSView\"},{\"attributes\":{},\"id\":\"cbf9db9c-ce07-4b88-a8be-ca350c7e0ac1\",\"type\":\"Selection\"},{\"attributes\":{},\"id\":\"7418ab7c-13a9-415b-9e49-89170bb2ecb0\",\"type\":\"BasicTicker\"},{\"attributes\":{\"line_alpha\":0.1,\"line_color\":\"#1f77b4\",\"line_width\":1.5,\"x\":{\"field\":\"x\"},\"y\":{\"field\":\"y\"}},\"id\":\"300fa851-a016-4bf8-8cd3-38c3a7118d37\",\"type\":\"Line\"},{\"attributes\":{\"plot\":{\"id\":\"ba7ebc97-deb5-4cd3-9176-5be508a79eac\",\"subtype\":\"Figure\",\"type\":\"Plot\"},\"ticker\":{\"id\":\"7418ab7c-13a9-415b-9e49-89170bb2ecb0\",\"type\":\"BasicTicker\"}},\"id\":\"c6ce767e-cc47-46a3-a35c-84ec0cd5b848\",\"type\":\"Grid\"},{\"attributes\":{\"callback\":null,\"data\":{\"x\":{\"__ndarray__\":\"Plrp3Z5jIcBKBfk9Qf4EwAhIBjTPV/g/re0xy0SUDEBKEKO2F2oNQEotRpaPLQNAtDasTSvz4j/Y3ph+zcLqv4miLOrMCfa/OZBOUS2a8b+Z2paSN0Xfv1rfYeD8N7A/VKELW16e2T/SMT3umRDfP8gh/JbbJ9Q/51E4qEcEoT9WPU9YQbrQv7cvfAWGNOC/FNnELayj4L8H/Z4Hc+/RvyD2rlRKVnm/oiytkRnvqr/asVgECtHTv8S4lvwuT9e/lyLME90hsb+NumOLN4rYP2kST9+NU9c/ZHxOx1zgtz+8LlyImOOXP/M/QDSg49A/o19OiZWc1T8r3Tg+sr3DPwNRi39W7Jy/pot48Rxicz/M/YUoLnSuP9PWP6lll34/EA5yTmTwq7/VHz/yu+C2v7idMclkh7m/zr7TrDXmtb+tZ9JQi4mwv8Fb5PyqNq+/RXg+tzI/nb9kXxACbO22vyPL1Yclmbi/Ni/HdfWLq7+VvARYV+iuvywUiu+ftrO/2INf1gPnsr90zRiVMqerv/ZCQ546s6K/UwZzLjJfmL8ZbMtKJ+aUvwLnnTDIqZS/eN5UNdxfmb8dBs8ktFybvzkwxDJBwpO/qA45dIJPVj+1n5LzvX+gP9DECtE+aqw/zGSrPX/prT+uWeZFjnqlPxImF6RXypU/0KnXZtHmWT8AGej+SwlBPzTnWDkPgoE/Lp8yUn1Unj87o+X0gG+oP3LpuEoSrK8/6IIHwTsdsj9OhzEMSFmzP2c1UW85I7Q/Hxy8y9bVtD8HjZAcEVW0Pw==\",\"dtype\":\"float64\",\"shape\":[74]},\"y\":{\"__ndarray__\":\"0r/J27aUSD9r8pTVdD1RP2k7pu7KLlg/wLdEifH1YD8NyLmoccpnPzEjYYSVr3A/203wTdNndz9s2+Z8Z2qAPwg+YeTABoc/DZnh9U8mkD/s6wrHPaeWPy2yne+nxp8/2y1uSEhJpj8MPWL03EKvPyVdjrLZ7LU/BK+WOzPBvj9HPq946pHFP+YffZOmQc4/PGwiMxc41T+Hp1fKMsTdP/8h/fZ14OQ/KjqSy39I7T+ZKhiV1In0P3PXEvJBz/w/vw6cM6I0BECBJsKGp1cMQOJYF7fR4BNAUkmdgCbiG0ADCYofY44jQOauJeSDbitAMEymCkY9M0Db+X5qvPw6QGgibHh67UJAf/s6cM6MSkDNzMzMzHhSQGZmZmZmalhAAAAAAABcXkDNzMzMzCZiQJqZmZmZH2VAZmZmZmYYaEAzMzMzMxFrQAAAAAAACm5AZmZmZmaBcEDNzMzMzP1xQDMzMzMzenNAmpmZmZn2dEAAAAAAAHN2QGZmZmZm73dAzczMzMxreUAzMzMzM+h6QJqZmZmZZHxAAAAAAADhfUBmZmZmZl1/QGZmZmbmbIBAmpmZmRkrgUDNzMzMTOmBQAAAAACAp4JAMzMzM7Nlg0BmZmZm5iOEQJqZmZkZ4oRAzczMzEyghUAAAAAAgF6GQDMzMzOzHIdAZmZmZubah0CamZmZGZmIQM3MzMxMV4lAAAAAAIAVikAzMzMzs9OKQGZmZmbmkYtAmpmZmRlQjEDNzMzMTA6NQAAAAACAzI1AMzMzM7OKjkBmZmZm5kiPQA==\",\"dtype\":\"float64\",\"shape\":[74]}},\"selected\":{\"id\":\"2d37d13b-d345-42d2-b9cf-d8573d7a9acc\",\"type\":\"Selection\"},\"selection_policy\":{\"id\":\"8eddf846-1673-48ab-858d-2f4463ede59b\",\"type\":\"UnionRenderers\"}},\"id\":\"f1f226ae-481c-4d5c-b5ab-8e76fca4be5d\",\"type\":\"ColumnDataSource\"},{\"attributes\":{\"plot\":null,\"text\":\"\"},\"id\":\"dce8510d-f915-441a-b915-98156690f52f\",\"type\":\"Title\"},{\"attributes\":{},\"id\":\"0672f062-a7b6-4dab-813b-9a4905bace2f\",\"type\":\"Selection\"},{\"attributes\":{\"callback\":null,\"end\":0.01,\"start\":1020},\"id\":\"589edb87-2998-483a-be91-ed8a369ba1f1\",\"type\":\"Range1d\"},{\"attributes\":{\"children\":[{\"id\":\"4f217c0c-055c-4371-b219-073db503aac2\",\"type\":\"ToolbarBox\"},{\"id\":\"baba4832-a14c-46fc-86bd-42c5e4bfce96\",\"type\":\"Column\"}]},\"id\":\"f1f7ef45-c8f0-4837-ba06-28a54e7a8c97\",\"type\":\"Column\"},{\"attributes\":{\"axis_label\":\"cooling rate [K/day]\",\"formatter\":{\"id\":\"4ad62494-c41c-40bd-bc12-a137afd730f3\",\"type\":\"BasicTickFormatter\"},\"plot\":{\"id\":\"ba7ebc97-deb5-4cd3-9176-5be508a79eac\",\"subtype\":\"Figure\",\"type\":\"Plot\"},\"ticker\":{\"id\":\"7418ab7c-13a9-415b-9e49-89170bb2ecb0\",\"type\":\"BasicTicker\"}},\"id\":\"881dfa73-b8cf-42bf-8701-834792b4f25c\",\"type\":\"LinearAxis\"},{\"attributes\":{},\"id\":\"ac3e1406-9894-4e01-bed6-cc4a82077c24\",\"type\":\"UnionRenderers\"},{\"attributes\":{\"line_alpha\":0.1,\"line_color\":\"#1f77b4\",\"line_dash\":[6],\"line_width\":5,\"x\":{\"field\":\"x\"},\"y\":{\"field\":\"y\"}},\"id\":\"8450aae6-1ee6-49b1-9ac4-74ac27425a32\",\"type\":\"Line\"},{\"attributes\":{\"tools\":[{\"id\":\"8a69d6d8-f926-45b2-8ce9-4e0fdc67a522\",\"type\":\"PanTool\"},{\"id\":\"d6d223fd-6415-49b3-afcf-26d5edbeed7a\",\"type\":\"WheelZoomTool\"},{\"id\":\"0750e77e-7fcc-4153-bdef-32af3f153b4a\",\"type\":\"BoxZoomTool\"},{\"id\":\"f8305353-d61d-4343-8574-22f7f65be874\",\"type\":\"SaveTool\"},{\"id\":\"e67d40b0-fb74-4570-8fcd-b07f2122106e\",\"type\":\"ResetTool\"},{\"id\":\"5fbb9996-d805-4fe7-8095-6a908536f37c\",\"type\":\"HelpTool\"},{\"id\":\"04522faa-f324-4b52-a7c9-5f1a12f77953\",\"type\":\"PanTool\"},{\"id\":\"7f0278fa-e38f-4477-a9d7-95088ea01ca8\",\"type\":\"WheelZoomTool\"},{\"id\":\"86ceb255-4818-4375-a85c-43588c0cbf53\",\"type\":\"BoxZoomTool\"},{\"id\":\"289e8076-ea87-48cb-9741-f9f29e92b60a\",\"type\":\"SaveTool\"},{\"id\":\"ac80d2fb-0ec7-47e0-b1ca-f98bf7fee43e\",\"type\":\"ResetTool\"},{\"id\":\"74b3b577-95b7-4615-bd08-573a8254353e\",\"type\":\"HelpTool\"},{\"id\":\"efef6d3b-7b86-43eb-abe2-397ab20a1257\",\"type\":\"PanTool\"},{\"id\":\"2f4fa3ef-b782-4c6d-b361-2b16fa1c01e2\",\"type\":\"WheelZoomTool\"},{\"id\":\"b0fad781-9827-4236-9a52-125590d39e61\",\"type\":\"BoxZoomTool\"},{\"id\":\"c056f107-03c4-44e1-8452-0d4073c0dd2d\",\"type\":\"SaveTool\"},{\"id\":\"c529e617-8430-4e55-8a2e-2072896dbf53\",\"type\":\"ResetTool\"},{\"id\":\"319ced1f-e143-4e29-b11f-bc3790de97ea\",\"type\":\"HelpTool\"}]},\"id\":\"96befb98-dc2c-4c7a-8e22-783a39083428\",\"type\":\"ProxyToolbar\"},{\"attributes\":{\"label\":{\"value\":\"CLIRAD\"},\"renderers\":[{\"id\":\"c4fe6cc4-d980-4116-b0ea-3a5cc27658e5\",\"type\":\"GlyphRenderer\"}]},\"id\":\"0e25d22a-fa36-4a2e-8fa3-949c64084074\",\"type\":\"LegendItem\"},{\"attributes\":{},\"id\":\"319ced1f-e143-4e29-b11f-bc3790de97ea\",\"type\":\"HelpTool\"},{\"attributes\":{},\"id\":\"f9d4fef5-e8c5-4a8f-84a1-31a65dbe2364\",\"type\":\"Selection\"},{\"attributes\":{},\"id\":\"75e75c49-311e-4b97-bc49-de72c89f3390\",\"type\":\"UnionRenderers\"},{\"attributes\":{\"data_source\":{\"id\":\"33a2f34c-6ff1-4114-844c-2d5620d38ccf\",\"type\":\"ColumnDataSource\"},\"glyph\":{\"id\":\"ddf82c2c-4c98-4e66-96b2-70b8f890cabb\",\"type\":\"Line\"},\"hover_glyph\":null,\"muted_glyph\":null,\"nonselection_glyph\":{\"id\":\"8450aae6-1ee6-49b1-9ac4-74ac27425a32\",\"type\":\"Line\"},\"selection_glyph\":null,\"view\":{\"id\":\"f580a072-b9cb-4212-a51f-7dd2e6a94886\",\"type\":\"CDSView\"}},\"id\":\"c4fe6cc4-d980-4116-b0ea-3a5cc27658e5\",\"type\":\"GlyphRenderer\"},{\"attributes\":{},\"id\":\"4ad62494-c41c-40bd-bc12-a137afd730f3\",\"type\":\"BasicTickFormatter\"},{\"attributes\":{},\"id\":\"63e92fde-f29a-45a3-87f0-47b1246eedcd\",\"type\":\"UnionRenderers\"},{\"attributes\":{},\"id\":\"4aa3129f-7138-4d58-b94b-f369abecb066\",\"type\":\"UnionRenderers\"},{\"attributes\":{},\"id\":\"8eddf846-1673-48ab-858d-2f4463ede59b\",\"type\":\"UnionRenderers\"},{\"attributes\":{},\"id\":\"d4e94600-1e30-41bb-8194-a0b84b39e2af\",\"type\":\"BasicTickFormatter\"}],\"root_ids\":[\"f1f7ef45-c8f0-4837-ba06-28a54e7a8c97\"]},\"title\":\"Bokeh Application\",\"version\":\"0.12.16\"}};\n",
       "  var render_items = [{\"docid\":\"736a53b6-233b-4e91-a702-1b7f98d61f4c\",\"elementid\":\"d8265fe3-3e56-4802-8dec-0a1c41864dcd\",\"modelid\":\"f1f7ef45-c8f0-4837-ba06-28a54e7a8c97\"}];\n",
       "  root.Bokeh.embed.embed_items_notebook(docs_json, render_items);\n",
       "\n",
       "  }\n",
       "  if (root.Bokeh !== undefined) {\n",
       "    embed_document(root);\n",
       "  } else {\n",
       "    var attempts = 0;\n",
       "    var timer = setInterval(function(root) {\n",
       "      if (root.Bokeh !== undefined) {\n",
       "        embed_document(root);\n",
       "        clearInterval(timer);\n",
       "      }\n",
       "      attempts++;\n",
       "      if (attempts > 100) {\n",
       "        console.log(\"Bokeh: ERROR: Unable to run BokehJS code because BokehJS library is missing\")\n",
       "        clearInterval(timer);\n",
       "      }\n",
       "    }, 10, root)\n",
       "  }\n",
       "})(window);"
      ],
      "application/vnd.bokehjs_exec.v0+json": ""
     },
     "metadata": {
      "application/vnd.bokehjs_exec.v0+json": {
       "id": "f1f7ef45-c8f0-4837-ba06-28a54e7a8c97"
      }
     },
     "output_type": "display_data"
    },
    {
     "name": "stdout",
     "output_type": "stream",
     "text": [
      "Figure. Cooling rates & difference.\n",
      "\n"
     ]
    },
    {
     "data": {
      "text/html": [
       "<a id=\"Fluxes._mls.\"></a>"
      ],
      "text/plain": [
       "<IPython.core.display.HTML object>"
      ]
     },
     "metadata": {},
     "output_type": "display_data"
    },
    {
     "data": {
      "text/markdown": [
       "# Fluxes. mls."
      ],
      "text/plain": [
       "<IPython.core.display.Markdown object>"
      ]
     },
     "metadata": {},
     "output_type": "display_data"
    },
    {
     "data": {
      "text/html": [
       "\n",
       "<div class=\"bk-root\">\n",
       "    <div class=\"bk-plotdiv\" id=\"dceb16b4-9895-4bb0-83d6-ecd6c1dfcae2\"></div>\n",
       "</div>"
      ]
     },
     "metadata": {},
     "output_type": "display_data"
    },
    {
     "data": {
      "application/javascript": [
       "(function(root) {\n",
       "  function embed_document(root) {\n",
       "    \n",
       "  var docs_json = {\"4b306d7c-0a91-4852-9316-208b40a903af\":{\"roots\":{\"references\":[{\"attributes\":{\"dimension\":1,\"plot\":{\"id\":\"1395ae57-9b96-4b6d-9347-a6c31f462b23\",\"subtype\":\"Figure\",\"type\":\"Plot\"},\"ticker\":{\"id\":\"eaef57a1-5fd0-44eb-a031-76d408d68634\",\"type\":\"BasicTicker\"}},\"id\":\"85c37fa5-1fe7-4227-bd49-230efabc7bfb\",\"type\":\"Grid\"},{\"attributes\":{},\"id\":\"740b2ecc-d0f2-49db-b1fd-615179e02502\",\"type\":\"WheelZoomTool\"},{\"attributes\":{},\"id\":\"041f51de-5e8c-4ab6-a8d9-b3864be89089\",\"type\":\"ResetTool\"},{\"attributes\":{\"active_drag\":\"auto\",\"active_inspect\":\"auto\",\"active_scroll\":\"auto\",\"active_tap\":\"auto\",\"tools\":[{\"id\":\"b8d4cf55-96eb-4010-894a-f76ea403a64f\",\"type\":\"PanTool\"},{\"id\":\"740b2ecc-d0f2-49db-b1fd-615179e02502\",\"type\":\"WheelZoomTool\"},{\"id\":\"3f98ed11-04ce-4d0b-a4e1-b8f751b82a4f\",\"type\":\"BoxZoomTool\"},{\"id\":\"5c41196c-a7b7-4c09-bc4d-1b942dfdc188\",\"type\":\"SaveTool\"},{\"id\":\"ae7257e6-1b69-4edc-a361-08f1d2e73089\",\"type\":\"ResetTool\"},{\"id\":\"8a8b2ea3-e084-4370-b2a3-44650c588f9b\",\"type\":\"HelpTool\"}]},\"id\":\"e4a8aaa0-f730-4ead-b37d-70cac47281c1\",\"type\":\"Toolbar\"},{\"attributes\":{\"children\":[{\"id\":\"b8759099-0007-48b2-a5a9-6c89da7024c9\",\"type\":\"ToolbarBox\"},{\"id\":\"b0e9911c-713b-4c0c-9a1b-32ac9a6b1b54\",\"type\":\"Column\"}]},\"id\":\"83ebf0af-c048-4e82-8880-7b437bc58c54\",\"type\":\"Column\"},{\"attributes\":{\"axis_label\":\"flux (W m-2)\",\"formatter\":{\"id\":\"7d4d80d0-c9aa-48d7-bc28-288feeab820a\",\"type\":\"BasicTickFormatter\"},\"plot\":{\"id\":\"1395ae57-9b96-4b6d-9347-a6c31f462b23\",\"subtype\":\"Figure\",\"type\":\"Plot\"},\"ticker\":{\"id\":\"eaef57a1-5fd0-44eb-a031-76d408d68634\",\"type\":\"BasicTicker\"}},\"id\":\"55d7561c-e99a-4497-b834-6d94f78103cb\",\"type\":\"LinearAxis\"},{\"attributes\":{},\"id\":\"eaef57a1-5fd0-44eb-a031-76d408d68634\",\"type\":\"BasicTicker\"},{\"attributes\":{\"below\":[{\"id\":\"c62176f6-54a4-4ad5-9bea-0d2ecd0e6c74\",\"type\":\"CategoricalAxis\"}],\"left\":[{\"id\":\"55d7561c-e99a-4497-b834-6d94f78103cb\",\"type\":\"LinearAxis\"}],\"plot_height\":300,\"plot_width\":300,\"renderers\":[{\"id\":\"c62176f6-54a4-4ad5-9bea-0d2ecd0e6c74\",\"type\":\"CategoricalAxis\"},{\"id\":\"36cfe194-594b-4f9c-8e3d-eeb607f8a432\",\"type\":\"Grid\"},{\"id\":\"55d7561c-e99a-4497-b834-6d94f78103cb\",\"type\":\"LinearAxis\"},{\"id\":\"85c37fa5-1fe7-4227-bd49-230efabc7bfb\",\"type\":\"Grid\"},{\"id\":\"9cd4ccec-7c1c-495c-868f-98bb4e2390c1\",\"type\":\"BoxAnnotation\"},{\"id\":\"00c9b7d8-d07f-471a-9c5b-f434b823cb24\",\"type\":\"GlyphRenderer\"}],\"title\":{\"id\":\"3b132030-4b26-4308-9a42-e3733a92a605\",\"type\":\"Title\"},\"toolbar\":{\"id\":\"8a6bf590-8d48-4bf1-84b0-2d2bcd96ee18\",\"type\":\"Toolbar\"},\"toolbar_location\":null,\"x_range\":{\"id\":\"0b07001e-ea69-4d8d-9097-1985dcceb7aa\",\"type\":\"FactorRange\"},\"x_scale\":{\"id\":\"4400a186-0f32-4618-add9-710189a8cdce\",\"type\":\"CategoricalScale\"},\"y_range\":{\"id\":\"67267d51-c472-4bb7-855e-1b5b3ca033d6\",\"type\":\"DataRange1d\"},\"y_scale\":{\"id\":\"6c3d976a-4c91-4d13-a1d6-6ac0a038d552\",\"type\":\"LinearScale\"}},\"id\":\"1395ae57-9b96-4b6d-9347-a6c31f462b23\",\"subtype\":\"Figure\",\"type\":\"Plot\"},{\"attributes\":{},\"id\":\"7af71f21-a45a-4d1e-89b1-78a3011892ef\",\"type\":\"WheelZoomTool\"},{\"attributes\":{\"tools\":[{\"id\":\"b8d4cf55-96eb-4010-894a-f76ea403a64f\",\"type\":\"PanTool\"},{\"id\":\"740b2ecc-d0f2-49db-b1fd-615179e02502\",\"type\":\"WheelZoomTool\"},{\"id\":\"3f98ed11-04ce-4d0b-a4e1-b8f751b82a4f\",\"type\":\"BoxZoomTool\"},{\"id\":\"5c41196c-a7b7-4c09-bc4d-1b942dfdc188\",\"type\":\"SaveTool\"},{\"id\":\"ae7257e6-1b69-4edc-a361-08f1d2e73089\",\"type\":\"ResetTool\"},{\"id\":\"8a8b2ea3-e084-4370-b2a3-44650c588f9b\",\"type\":\"HelpTool\"},{\"id\":\"ab23c142-f051-4afd-999e-0d65de8b7765\",\"type\":\"PanTool\"},{\"id\":\"cb926634-85df-4d9c-86a7-7bf37d8915fe\",\"type\":\"WheelZoomTool\"},{\"id\":\"6a1b35d5-6f61-4900-9497-455b0d1a3d2b\",\"type\":\"BoxZoomTool\"},{\"id\":\"42777b61-0f4d-4333-a97b-d40470416512\",\"type\":\"SaveTool\"},{\"id\":\"648234d7-8052-4b07-930e-d64f9b0c2561\",\"type\":\"ResetTool\"},{\"id\":\"14a8083c-c7c0-457e-83c3-77deebb51203\",\"type\":\"HelpTool\"},{\"id\":\"a864322a-1343-486d-bff6-853799699d72\",\"type\":\"PanTool\"},{\"id\":\"7af71f21-a45a-4d1e-89b1-78a3011892ef\",\"type\":\"WheelZoomTool\"},{\"id\":\"23c8eb28-e27c-4431-8057-a410bf6ace64\",\"type\":\"BoxZoomTool\"},{\"id\":\"878692ff-aefb-4f61-92d5-8e80579a01e5\",\"type\":\"SaveTool\"},{\"id\":\"041f51de-5e8c-4ab6-a8d9-b3864be89089\",\"type\":\"ResetTool\"},{\"id\":\"29ee1cb6-24f7-46a8-ab06-5807563967cb\",\"type\":\"HelpTool\"}]},\"id\":\"b5d5995c-f759-4f18-9d5e-fb509b6eafd9\",\"type\":\"ProxyToolbar\"},{\"attributes\":{},\"id\":\"29ee1cb6-24f7-46a8-ab06-5807563967cb\",\"type\":\"HelpTool\"},{\"attributes\":{},\"id\":\"a24cee8d-add9-4d70-b060-9e5c58f6f259\",\"type\":\"UnionRenderers\"},{\"attributes\":{\"data_source\":{\"id\":\"f5848c4e-e9df-4ac9-b7a5-803eff269ed5\",\"type\":\"ColumnDataSource\"},\"glyph\":{\"id\":\"4b1bcb7f-393e-43a6-8ae7-97cf22a6d9fb\",\"type\":\"VBar\"},\"hover_glyph\":null,\"muted_glyph\":null,\"nonselection_glyph\":{\"id\":\"808e6701-8716-4e22-bd32-77c27d7c8298\",\"type\":\"VBar\"},\"selection_glyph\":null,\"view\":{\"id\":\"5977e83f-654a-4199-9d01-781833a0bd16\",\"type\":\"CDSView\"}},\"id\":\"00c9b7d8-d07f-471a-9c5b-f434b823cb24\",\"type\":\"GlyphRenderer\"},{\"attributes\":{\"overlay\":{\"id\":\"9cd4ccec-7c1c-495c-868f-98bb4e2390c1\",\"type\":\"BoxAnnotation\"}},\"id\":\"23c8eb28-e27c-4431-8057-a410bf6ace64\",\"type\":\"BoxZoomTool\"},{\"attributes\":{},\"id\":\"8a03ecba-19c4-4d56-a5ab-f0a7bec016dc\",\"type\":\"UnionRenderers\"},{\"attributes\":{\"children\":[{\"id\":\"1a0ea2d1-ddbb-4274-aaec-a70ea4bc270d\",\"subtype\":\"Figure\",\"type\":\"Plot\"},{\"id\":\"3486de4b-6988-4c98-8be4-44235d97bf2e\",\"subtype\":\"Figure\",\"type\":\"Plot\"},{\"id\":\"1395ae57-9b96-4b6d-9347-a6c31f462b23\",\"subtype\":\"Figure\",\"type\":\"Plot\"}]},\"id\":\"96f58e79-0566-4c31-a125-beac41e68129\",\"type\":\"Row\"},{\"attributes\":{\"callback\":null,\"data\":{\"band\":[\"1\",\"2\",\"3\",\"4\",\"5\",\"6\",\"7\",\"8\",\"9\",\"10\",\"11\"],\"flux\":{\"__ndarray__\":\"AOIC0ChdyD+AEwg7xarSP8DjvWplwtO/QHBbW3he0z8AkszqHW7QPwASj8TL07G/wHx6bMuA2D8A6tK/JJW5vwAmamluhZC/QD96efDJwD9AKej2ksawPw==\",\"dtype\":\"float64\",\"shape\":[11]}},\"selected\":{\"id\":\"29ad0850-7672-44cf-9113-615c3fcd9006\",\"type\":\"Selection\"},\"selection_policy\":{\"id\":\"8a03ecba-19c4-4d56-a5ab-f0a7bec016dc\",\"type\":\"UnionRenderers\"}},\"id\":\"87e7b48f-56ec-47b2-b499-14f1a5a505c3\",\"type\":\"ColumnDataSource\"},{\"attributes\":{\"fill_alpha\":{\"value\":0.1},\"fill_color\":{\"value\":\"#1f77b4\"},\"line_alpha\":{\"value\":0.1},\"line_color\":{\"value\":\"#1f77b4\"},\"top\":{\"field\":\"flux\"},\"width\":{\"value\":0.9},\"x\":{\"field\":\"band\"}},\"id\":\"808e6701-8716-4e22-bd32-77c27d7c8298\",\"type\":\"VBar\"},{\"attributes\":{},\"id\":\"906159af-db30-4072-b8a6-d5d2007cb555\",\"type\":\"BasicTickFormatter\"},{\"attributes\":{\"children\":[{\"id\":\"96f58e79-0566-4c31-a125-beac41e68129\",\"type\":\"Row\"}]},\"id\":\"b0e9911c-713b-4c0c-9a1b-32ac9a6b1b54\",\"type\":\"Column\"},{\"attributes\":{\"source\":{\"id\":\"87e7b48f-56ec-47b2-b499-14f1a5a505c3\",\"type\":\"ColumnDataSource\"}},\"id\":\"d2d5b1aa-f262-4dc5-a629-2a35e34b9b9c\",\"type\":\"CDSView\"},{\"attributes\":{\"axis_label\":\"spectral band\",\"formatter\":{\"id\":\"2ca6be5a-a377-4fa4-90b6-c3222c809269\",\"type\":\"CategoricalTickFormatter\"},\"plot\":{\"id\":\"1395ae57-9b96-4b6d-9347-a6c31f462b23\",\"subtype\":\"Figure\",\"type\":\"Plot\"},\"ticker\":{\"id\":\"4f012b24-2771-4dc8-b59a-0fbf9cd35c03\",\"type\":\"CategoricalTicker\"}},\"id\":\"c62176f6-54a4-4ad5-9bea-0d2ecd0e6c74\",\"type\":\"CategoricalAxis\"},{\"attributes\":{\"plot\":{\"id\":\"1395ae57-9b96-4b6d-9347-a6c31f462b23\",\"subtype\":\"Figure\",\"type\":\"Plot\"},\"ticker\":{\"id\":\"4f012b24-2771-4dc8-b59a-0fbf9cd35c03\",\"type\":\"CategoricalTicker\"}},\"id\":\"36cfe194-594b-4f9c-8e3d-eeb607f8a432\",\"type\":\"Grid\"},{\"attributes\":{\"bottom_units\":\"screen\",\"fill_alpha\":{\"value\":0.5},\"fill_color\":{\"value\":\"lightgrey\"},\"left_units\":\"screen\",\"level\":\"overlay\",\"line_alpha\":{\"value\":1.0},\"line_color\":{\"value\":\"black\"},\"line_dash\":[4,4],\"line_width\":{\"value\":2},\"plot\":null,\"render_mode\":\"css\",\"right_units\":\"screen\",\"top_units\":\"screen\"},\"id\":\"9cd4ccec-7c1c-495c-868f-98bb4e2390c1\",\"type\":\"BoxAnnotation\"},{\"attributes\":{},\"id\":\"7d4d80d0-c9aa-48d7-bc28-288feeab820a\",\"type\":\"BasicTickFormatter\"},{\"attributes\":{\"callback\":null,\"data\":{\"band\":[\"1\",\"2\",\"3\",\"4\",\"5\",\"6\",\"7\",\"8\",\"9\",\"10\",\"11\"],\"flux\":{\"__ndarray__\":\"AFOZ3tVdyD8A2BIs7Vi1vwBYNyirM4i/AKplKWG/zj+AyB8MPPfOvwDgn1IlysK/gFjjbDoC1z8AYj4g0JmkP0B/ij56Hsi/QB6QnRrcvT9AQzegSnKtPw==\",\"dtype\":\"float64\",\"shape\":[11]}},\"selected\":{\"id\":\"292f1aaf-7667-405a-91ac-5edeaaaa98da\",\"type\":\"Selection\"},\"selection_policy\":{\"id\":\"fb752926-f7b2-41a6-bea4-5814756e8571\",\"type\":\"UnionRenderers\"}},\"id\":\"f5848c4e-e9df-4ac9-b7a5-803eff269ed5\",\"type\":\"ColumnDataSource\"},{\"attributes\":{\"plot\":null,\"text\":\"Atmosphere heating. CLIRAD - CRD.\"},\"id\":\"3b132030-4b26-4308-9a42-e3733a92a605\",\"type\":\"Title\"},{\"attributes\":{\"callback\":null},\"id\":\"67267d51-c472-4bb7-855e-1b5b3ca033d6\",\"type\":\"DataRange1d\"},{\"attributes\":{\"overlay\":{\"id\":\"1dc893f8-ec36-4908-87ef-021a0f50596e\",\"type\":\"BoxAnnotation\"}},\"id\":\"3f98ed11-04ce-4d0b-a4e1-b8f751b82a4f\",\"type\":\"BoxZoomTool\"},{\"attributes\":{\"below\":[{\"id\":\"6c6f3cd8-5caf-4bc9-a0c4-4a37bce77730\",\"type\":\"CategoricalAxis\"}],\"left\":[{\"id\":\"290597bc-899a-4348-83d3-673bc9132e98\",\"type\":\"LinearAxis\"}],\"plot_height\":300,\"plot_width\":300,\"renderers\":[{\"id\":\"6c6f3cd8-5caf-4bc9-a0c4-4a37bce77730\",\"type\":\"CategoricalAxis\"},{\"id\":\"eda6399f-72bc-4714-b5b8-a3c04c8e1253\",\"type\":\"Grid\"},{\"id\":\"290597bc-899a-4348-83d3-673bc9132e98\",\"type\":\"LinearAxis\"},{\"id\":\"8033037f-4f1d-4c27-9a19-34bc1f1e898d\",\"type\":\"Grid\"},{\"id\":\"1dc893f8-ec36-4908-87ef-021a0f50596e\",\"type\":\"BoxAnnotation\"},{\"id\":\"f0a781c1-f81e-4425-8583-b6de4f604b93\",\"type\":\"GlyphRenderer\"}],\"title\":{\"id\":\"c572f90d-7858-4616-a230-8500e2128347\",\"type\":\"Title\"},\"toolbar\":{\"id\":\"e4a8aaa0-f730-4ead-b37d-70cac47281c1\",\"type\":\"Toolbar\"},\"toolbar_location\":null,\"x_range\":{\"id\":\"cddb4272-c479-48f5-be8d-f61d46ce68c9\",\"type\":\"FactorRange\"},\"x_scale\":{\"id\":\"952b4dd4-df85-40a2-8aa3-0552608ecc86\",\"type\":\"CategoricalScale\"},\"y_range\":{\"id\":\"a8756f4e-6a92-4cde-8c79-0853581c4112\",\"type\":\"DataRange1d\"},\"y_scale\":{\"id\":\"ae6eb946-4b1a-4438-98a1-0938e449cd4a\",\"type\":\"LinearScale\"}},\"id\":\"1a0ea2d1-ddbb-4274-aaec-a70ea4bc270d\",\"subtype\":\"Figure\",\"type\":\"Plot\"},{\"attributes\":{},\"id\":\"07066b94-115f-457c-b526-b7916f0d6ee3\",\"type\":\"CategoricalTickFormatter\"},{\"attributes\":{},\"id\":\"6c3d976a-4c91-4d13-a1d6-6ac0a038d552\",\"type\":\"LinearScale\"},{\"attributes\":{},\"id\":\"878692ff-aefb-4f61-92d5-8e80579a01e5\",\"type\":\"SaveTool\"},{\"attributes\":{},\"id\":\"292f1aaf-7667-405a-91ac-5edeaaaa98da\",\"type\":\"Selection\"},{\"attributes\":{},\"id\":\"fb752926-f7b2-41a6-bea4-5814756e8571\",\"type\":\"UnionRenderers\"},{\"attributes\":{},\"id\":\"4f012b24-2771-4dc8-b59a-0fbf9cd35c03\",\"type\":\"CategoricalTicker\"},{\"attributes\":{\"callback\":null,\"factors\":[\"1\",\"2\",\"3\",\"4\",\"5\",\"6\",\"7\",\"8\",\"9\",\"10\",\"11\"]},\"id\":\"cddb4272-c479-48f5-be8d-f61d46ce68c9\",\"type\":\"FactorRange\"},{\"attributes\":{\"data_source\":{\"id\":\"87e7b48f-56ec-47b2-b499-14f1a5a505c3\",\"type\":\"ColumnDataSource\"},\"glyph\":{\"id\":\"ea8a2dd6-60e5-4cd8-a314-230918012165\",\"type\":\"VBar\"},\"hover_glyph\":null,\"muted_glyph\":null,\"nonselection_glyph\":{\"id\":\"c6505cc1-9416-46b0-bbb7-ef7104939942\",\"type\":\"VBar\"},\"selection_glyph\":null,\"view\":{\"id\":\"d2d5b1aa-f262-4dc5-a629-2a35e34b9b9c\",\"type\":\"CDSView\"}},\"id\":\"f0a781c1-f81e-4425-8583-b6de4f604b93\",\"type\":\"GlyphRenderer\"},{\"attributes\":{\"fill_color\":{\"value\":\"#1f77b4\"},\"line_color\":{\"value\":\"#1f77b4\"},\"top\":{\"field\":\"flux\"},\"width\":{\"value\":0.9},\"x\":{\"field\":\"band\"}},\"id\":\"4b1bcb7f-393e-43a6-8ae7-97cf22a6d9fb\",\"type\":\"VBar\"},{\"attributes\":{\"callback\":null,\"factors\":[\"1\",\"2\",\"3\",\"4\",\"5\",\"6\",\"7\",\"8\",\"9\",\"10\",\"11\"]},\"id\":\"0b07001e-ea69-4d8d-9097-1985dcceb7aa\",\"type\":\"FactorRange\"},{\"attributes\":{\"active_drag\":\"auto\",\"active_inspect\":\"auto\",\"active_scroll\":\"auto\",\"active_tap\":\"auto\",\"tools\":[{\"id\":\"a864322a-1343-486d-bff6-853799699d72\",\"type\":\"PanTool\"},{\"id\":\"7af71f21-a45a-4d1e-89b1-78a3011892ef\",\"type\":\"WheelZoomTool\"},{\"id\":\"23c8eb28-e27c-4431-8057-a410bf6ace64\",\"type\":\"BoxZoomTool\"},{\"id\":\"878692ff-aefb-4f61-92d5-8e80579a01e5\",\"type\":\"SaveTool\"},{\"id\":\"041f51de-5e8c-4ab6-a8d9-b3864be89089\",\"type\":\"ResetTool\"},{\"id\":\"29ee1cb6-24f7-46a8-ab06-5807563967cb\",\"type\":\"HelpTool\"}]},\"id\":\"8a6bf590-8d48-4bf1-84b0-2d2bcd96ee18\",\"type\":\"Toolbar\"},{\"attributes\":{},\"id\":\"a864322a-1343-486d-bff6-853799699d72\",\"type\":\"PanTool\"},{\"attributes\":{\"source\":{\"id\":\"f5848c4e-e9df-4ac9-b7a5-803eff269ed5\",\"type\":\"ColumnDataSource\"}},\"id\":\"5977e83f-654a-4199-9d01-781833a0bd16\",\"type\":\"CDSView\"},{\"attributes\":{},\"id\":\"4400a186-0f32-4618-add9-710189a8cdce\",\"type\":\"CategoricalScale\"},{\"attributes\":{},\"id\":\"2ca6be5a-a377-4fa4-90b6-c3222c809269\",\"type\":\"CategoricalTickFormatter\"},{\"attributes\":{\"plot\":null,\"text\":\"TOA flux. CLIRAD - CRD.\"},\"id\":\"c572f90d-7858-4616-a230-8500e2128347\",\"type\":\"Title\"},{\"attributes\":{},\"id\":\"2cb843cc-2f25-4461-a4b6-d2dd7a34e0b5\",\"type\":\"BasicTickFormatter\"},{\"attributes\":{\"toolbar\":{\"id\":\"b5d5995c-f759-4f18-9d5e-fb509b6eafd9\",\"type\":\"ProxyToolbar\"},\"toolbar_location\":\"above\"},\"id\":\"b8759099-0007-48b2-a5a9-6c89da7024c9\",\"type\":\"ToolbarBox\"},{\"attributes\":{},\"id\":\"a4fa00ad-ad8a-435d-85cc-560698dd0989\",\"type\":\"CategoricalTickFormatter\"},{\"attributes\":{},\"id\":\"b8d4cf55-96eb-4010-894a-f76ea403a64f\",\"type\":\"PanTool\"},{\"attributes\":{},\"id\":\"7ad3cab2-698b-48c1-b0a7-c7614f2939b2\",\"type\":\"Selection\"},{\"attributes\":{},\"id\":\"29ad0850-7672-44cf-9113-615c3fcd9006\",\"type\":\"Selection\"},{\"attributes\":{},\"id\":\"cb926634-85df-4d9c-86a7-7bf37d8915fe\",\"type\":\"WheelZoomTool\"},{\"attributes\":{\"plot\":null,\"text\":\"SFC flux. CLIRAD - CRD.\"},\"id\":\"680edec0-eb43-4309-82c9-4abab133163f\",\"type\":\"Title\"},{\"attributes\":{\"source\":{\"id\":\"f13ccff4-9a10-41a3-be8e-1b8985bbcc62\",\"type\":\"ColumnDataSource\"}},\"id\":\"88c483a9-c295-4e54-b27a-0da0d41efbfa\",\"type\":\"CDSView\"},{\"attributes\":{},\"id\":\"b5f52b0b-5ab6-4ad5-bb07-01c35a276c77\",\"type\":\"LinearScale\"},{\"attributes\":{\"dimension\":1,\"plot\":{\"id\":\"1a0ea2d1-ddbb-4274-aaec-a70ea4bc270d\",\"subtype\":\"Figure\",\"type\":\"Plot\"},\"ticker\":{\"id\":\"1427175b-8217-40fc-9013-738a5bfff350\",\"type\":\"BasicTicker\"}},\"id\":\"8033037f-4f1d-4c27-9a19-34bc1f1e898d\",\"type\":\"Grid\"},{\"attributes\":{\"callback\":null},\"id\":\"4c3cfbfa-3057-4c19-bc47-88b9cb051f00\",\"type\":\"DataRange1d\"},{\"attributes\":{},\"id\":\"a7ffd3f7-31fa-4b5c-91b5-e107869a4fcf\",\"type\":\"BasicTicker\"},{\"attributes\":{},\"id\":\"14a8083c-c7c0-457e-83c3-77deebb51203\",\"type\":\"HelpTool\"},{\"attributes\":{},\"id\":\"ae7257e6-1b69-4edc-a361-08f1d2e73089\",\"type\":\"ResetTool\"},{\"attributes\":{\"bottom_units\":\"screen\",\"fill_alpha\":{\"value\":0.5},\"fill_color\":{\"value\":\"lightgrey\"},\"left_units\":\"screen\",\"level\":\"overlay\",\"line_alpha\":{\"value\":1.0},\"line_color\":{\"value\":\"black\"},\"line_dash\":[4,4],\"line_width\":{\"value\":2},\"plot\":null,\"render_mode\":\"css\",\"right_units\":\"screen\",\"top_units\":\"screen\"},\"id\":\"1dc893f8-ec36-4908-87ef-021a0f50596e\",\"type\":\"BoxAnnotation\"},{\"attributes\":{},\"id\":\"8a8b2ea3-e084-4370-b2a3-44650c588f9b\",\"type\":\"HelpTool\"},{\"attributes\":{\"active_drag\":\"auto\",\"active_inspect\":\"auto\",\"active_scroll\":\"auto\",\"active_tap\":\"auto\",\"tools\":[{\"id\":\"ab23c142-f051-4afd-999e-0d65de8b7765\",\"type\":\"PanTool\"},{\"id\":\"cb926634-85df-4d9c-86a7-7bf37d8915fe\",\"type\":\"WheelZoomTool\"},{\"id\":\"6a1b35d5-6f61-4900-9497-455b0d1a3d2b\",\"type\":\"BoxZoomTool\"},{\"id\":\"42777b61-0f4d-4333-a97b-d40470416512\",\"type\":\"SaveTool\"},{\"id\":\"648234d7-8052-4b07-930e-d64f9b0c2561\",\"type\":\"ResetTool\"},{\"id\":\"14a8083c-c7c0-457e-83c3-77deebb51203\",\"type\":\"HelpTool\"}]},\"id\":\"9ab1f60b-972c-4694-ae93-9e761211a57a\",\"type\":\"Toolbar\"},{\"attributes\":{\"axis_label\":\"flux (W m-2)\",\"formatter\":{\"id\":\"2cb843cc-2f25-4461-a4b6-d2dd7a34e0b5\",\"type\":\"BasicTickFormatter\"},\"plot\":{\"id\":\"1a0ea2d1-ddbb-4274-aaec-a70ea4bc270d\",\"subtype\":\"Figure\",\"type\":\"Plot\"},\"ticker\":{\"id\":\"1427175b-8217-40fc-9013-738a5bfff350\",\"type\":\"BasicTicker\"}},\"id\":\"290597bc-899a-4348-83d3-673bc9132e98\",\"type\":\"LinearAxis\"},{\"attributes\":{},\"id\":\"ab23c142-f051-4afd-999e-0d65de8b7765\",\"type\":\"PanTool\"},{\"attributes\":{\"below\":[{\"id\":\"c29d4e30-ba8d-4604-ba15-1de6c96b29e9\",\"type\":\"CategoricalAxis\"}],\"left\":[{\"id\":\"bf504a8a-9c75-48a4-b614-a82b21c35fba\",\"type\":\"LinearAxis\"}],\"plot_height\":300,\"plot_width\":300,\"renderers\":[{\"id\":\"c29d4e30-ba8d-4604-ba15-1de6c96b29e9\",\"type\":\"CategoricalAxis\"},{\"id\":\"96fb1ae5-d638-450b-a156-22883ad46c8d\",\"type\":\"Grid\"},{\"id\":\"bf504a8a-9c75-48a4-b614-a82b21c35fba\",\"type\":\"LinearAxis\"},{\"id\":\"196dc368-3c90-47b7-9cb2-ebf1e8a879b0\",\"type\":\"Grid\"},{\"id\":\"4f6e01f4-16ff-4234-86bc-22b4fbde8838\",\"type\":\"BoxAnnotation\"},{\"id\":\"7615054b-b151-4db4-aced-7c4ae15a4de4\",\"type\":\"GlyphRenderer\"}],\"title\":{\"id\":\"680edec0-eb43-4309-82c9-4abab133163f\",\"type\":\"Title\"},\"toolbar\":{\"id\":\"9ab1f60b-972c-4694-ae93-9e761211a57a\",\"type\":\"Toolbar\"},\"toolbar_location\":null,\"x_range\":{\"id\":\"0e7d991c-8b38-42c8-be56-949a0189e939\",\"type\":\"FactorRange\"},\"x_scale\":{\"id\":\"ff16ae94-3592-455b-908c-767a78f6ed0d\",\"type\":\"CategoricalScale\"},\"y_range\":{\"id\":\"4c3cfbfa-3057-4c19-bc47-88b9cb051f00\",\"type\":\"DataRange1d\"},\"y_scale\":{\"id\":\"b5f52b0b-5ab6-4ad5-bb07-01c35a276c77\",\"type\":\"LinearScale\"}},\"id\":\"3486de4b-6988-4c98-8be4-44235d97bf2e\",\"subtype\":\"Figure\",\"type\":\"Plot\"},{\"attributes\":{},\"id\":\"ff16ae94-3592-455b-908c-767a78f6ed0d\",\"type\":\"CategoricalScale\"},{\"attributes\":{\"fill_color\":{\"value\":\"#1f77b4\"},\"line_color\":{\"value\":\"#1f77b4\"},\"top\":{\"field\":\"flux\"},\"width\":{\"value\":0.9},\"x\":{\"field\":\"band\"}},\"id\":\"ea8a2dd6-60e5-4cd8-a314-230918012165\",\"type\":\"VBar\"},{\"attributes\":{},\"id\":\"1427175b-8217-40fc-9013-738a5bfff350\",\"type\":\"BasicTicker\"},{\"attributes\":{\"fill_alpha\":{\"value\":0.1},\"fill_color\":{\"value\":\"#1f77b4\"},\"line_alpha\":{\"value\":0.1},\"line_color\":{\"value\":\"#1f77b4\"},\"top\":{\"field\":\"flux\"},\"width\":{\"value\":0.9},\"x\":{\"field\":\"band\"}},\"id\":\"a8a3113e-22a7-4a14-8011-772a5860f611\",\"type\":\"VBar\"},{\"attributes\":{\"overlay\":{\"id\":\"4f6e01f4-16ff-4234-86bc-22b4fbde8838\",\"type\":\"BoxAnnotation\"}},\"id\":\"6a1b35d5-6f61-4900-9497-455b0d1a3d2b\",\"type\":\"BoxZoomTool\"},{\"attributes\":{\"axis_label\":\"spectral band\",\"formatter\":{\"id\":\"07066b94-115f-457c-b526-b7916f0d6ee3\",\"type\":\"CategoricalTickFormatter\"},\"plot\":{\"id\":\"3486de4b-6988-4c98-8be4-44235d97bf2e\",\"subtype\":\"Figure\",\"type\":\"Plot\"},\"ticker\":{\"id\":\"6cd52ef2-bd93-4c04-979e-8e756dc32a9f\",\"type\":\"CategoricalTicker\"}},\"id\":\"c29d4e30-ba8d-4604-ba15-1de6c96b29e9\",\"type\":\"CategoricalAxis\"},{\"attributes\":{},\"id\":\"952b4dd4-df85-40a2-8aa3-0552608ecc86\",\"type\":\"CategoricalScale\"},{\"attributes\":{\"plot\":{\"id\":\"3486de4b-6988-4c98-8be4-44235d97bf2e\",\"subtype\":\"Figure\",\"type\":\"Plot\"},\"ticker\":{\"id\":\"6cd52ef2-bd93-4c04-979e-8e756dc32a9f\",\"type\":\"CategoricalTicker\"}},\"id\":\"96fb1ae5-d638-450b-a156-22883ad46c8d\",\"type\":\"Grid\"},{\"attributes\":{\"callback\":null,\"data\":{\"band\":[\"1\",\"2\",\"3\",\"4\",\"5\",\"6\",\"7\",\"8\",\"9\",\"10\",\"11\"],\"flux\":{\"__ndarray__\":\"AAAAAyUF9r4AaoKo+wDYP4DPYb68ANO/ANyul6YIsD+Adtzwu+nfPwAyj/zBwLM/AIEU4cvplz+gE/5W/PDBvwAFptO6DcY/AKBF71TAjT8ApFGBk22APw==\",\"dtype\":\"float64\",\"shape\":[11]}},\"selected\":{\"id\":\"7ad3cab2-698b-48c1-b0a7-c7614f2939b2\",\"type\":\"Selection\"},\"selection_policy\":{\"id\":\"a24cee8d-add9-4d70-b060-9e5c58f6f259\",\"type\":\"UnionRenderers\"}},\"id\":\"f13ccff4-9a10-41a3-be8e-1b8985bbcc62\",\"type\":\"ColumnDataSource\"},{\"attributes\":{\"callback\":null},\"id\":\"a8756f4e-6a92-4cde-8c79-0853581c4112\",\"type\":\"DataRange1d\"},{\"attributes\":{\"data_source\":{\"id\":\"f13ccff4-9a10-41a3-be8e-1b8985bbcc62\",\"type\":\"ColumnDataSource\"},\"glyph\":{\"id\":\"32516463-2495-477d-9195-122b35f0b21c\",\"type\":\"VBar\"},\"hover_glyph\":null,\"muted_glyph\":null,\"nonselection_glyph\":{\"id\":\"a8a3113e-22a7-4a14-8011-772a5860f611\",\"type\":\"VBar\"},\"selection_glyph\":null,\"view\":{\"id\":\"88c483a9-c295-4e54-b27a-0da0d41efbfa\",\"type\":\"CDSView\"}},\"id\":\"7615054b-b151-4db4-aced-7c4ae15a4de4\",\"type\":\"GlyphRenderer\"},{\"attributes\":{\"dimension\":1,\"plot\":{\"id\":\"3486de4b-6988-4c98-8be4-44235d97bf2e\",\"subtype\":\"Figure\",\"type\":\"Plot\"},\"ticker\":{\"id\":\"a7ffd3f7-31fa-4b5c-91b5-e107869a4fcf\",\"type\":\"BasicTicker\"}},\"id\":\"196dc368-3c90-47b7-9cb2-ebf1e8a879b0\",\"type\":\"Grid\"},{\"attributes\":{},\"id\":\"42777b61-0f4d-4333-a97b-d40470416512\",\"type\":\"SaveTool\"},{\"attributes\":{},\"id\":\"0d16a35a-b1b3-4ea1-b0ed-ac64b31e6ba5\",\"type\":\"CategoricalTicker\"},{\"attributes\":{},\"id\":\"648234d7-8052-4b07-930e-d64f9b0c2561\",\"type\":\"ResetTool\"},{\"attributes\":{\"axis_label\":\"spectral band\",\"formatter\":{\"id\":\"a4fa00ad-ad8a-435d-85cc-560698dd0989\",\"type\":\"CategoricalTickFormatter\"},\"plot\":{\"id\":\"1a0ea2d1-ddbb-4274-aaec-a70ea4bc270d\",\"subtype\":\"Figure\",\"type\":\"Plot\"},\"ticker\":{\"id\":\"0d16a35a-b1b3-4ea1-b0ed-ac64b31e6ba5\",\"type\":\"CategoricalTicker\"}},\"id\":\"6c6f3cd8-5caf-4bc9-a0c4-4a37bce77730\",\"type\":\"CategoricalAxis\"},{\"attributes\":{\"callback\":null,\"factors\":[\"1\",\"2\",\"3\",\"4\",\"5\",\"6\",\"7\",\"8\",\"9\",\"10\",\"11\"]},\"id\":\"0e7d991c-8b38-42c8-be56-949a0189e939\",\"type\":\"FactorRange\"},{\"attributes\":{},\"id\":\"6cd52ef2-bd93-4c04-979e-8e756dc32a9f\",\"type\":\"CategoricalTicker\"},{\"attributes\":{\"fill_alpha\":{\"value\":0.1},\"fill_color\":{\"value\":\"#1f77b4\"},\"line_alpha\":{\"value\":0.1},\"line_color\":{\"value\":\"#1f77b4\"},\"top\":{\"field\":\"flux\"},\"width\":{\"value\":0.9},\"x\":{\"field\":\"band\"}},\"id\":\"c6505cc1-9416-46b0-bbb7-ef7104939942\",\"type\":\"VBar\"},{\"attributes\":{},\"id\":\"ae6eb946-4b1a-4438-98a1-0938e449cd4a\",\"type\":\"LinearScale\"},{\"attributes\":{},\"id\":\"5c41196c-a7b7-4c09-bc4d-1b942dfdc188\",\"type\":\"SaveTool\"},{\"attributes\":{\"plot\":{\"id\":\"1a0ea2d1-ddbb-4274-aaec-a70ea4bc270d\",\"subtype\":\"Figure\",\"type\":\"Plot\"},\"ticker\":{\"id\":\"0d16a35a-b1b3-4ea1-b0ed-ac64b31e6ba5\",\"type\":\"CategoricalTicker\"}},\"id\":\"eda6399f-72bc-4714-b5b8-a3c04c8e1253\",\"type\":\"Grid\"},{\"attributes\":{\"fill_color\":{\"value\":\"#1f77b4\"},\"line_color\":{\"value\":\"#1f77b4\"},\"top\":{\"field\":\"flux\"},\"width\":{\"value\":0.9},\"x\":{\"field\":\"band\"}},\"id\":\"32516463-2495-477d-9195-122b35f0b21c\",\"type\":\"VBar\"},{\"attributes\":{\"bottom_units\":\"screen\",\"fill_alpha\":{\"value\":0.5},\"fill_color\":{\"value\":\"lightgrey\"},\"left_units\":\"screen\",\"level\":\"overlay\",\"line_alpha\":{\"value\":1.0},\"line_color\":{\"value\":\"black\"},\"line_dash\":[4,4],\"line_width\":{\"value\":2},\"plot\":null,\"render_mode\":\"css\",\"right_units\":\"screen\",\"top_units\":\"screen\"},\"id\":\"4f6e01f4-16ff-4234-86bc-22b4fbde8838\",\"type\":\"BoxAnnotation\"},{\"attributes\":{\"axis_label\":\"flux (W m-2)\",\"formatter\":{\"id\":\"906159af-db30-4072-b8a6-d5d2007cb555\",\"type\":\"BasicTickFormatter\"},\"plot\":{\"id\":\"3486de4b-6988-4c98-8be4-44235d97bf2e\",\"subtype\":\"Figure\",\"type\":\"Plot\"},\"ticker\":{\"id\":\"a7ffd3f7-31fa-4b5c-91b5-e107869a4fcf\",\"type\":\"BasicTicker\"}},\"id\":\"bf504a8a-9c75-48a4-b614-a82b21c35fba\",\"type\":\"LinearAxis\"}],\"root_ids\":[\"83ebf0af-c048-4e82-8880-7b437bc58c54\"]},\"title\":\"Bokeh Application\",\"version\":\"0.12.16\"}};\n",
       "  var render_items = [{\"docid\":\"4b306d7c-0a91-4852-9316-208b40a903af\",\"elementid\":\"dceb16b4-9895-4bb0-83d6-ecd6c1dfcae2\",\"modelid\":\"83ebf0af-c048-4e82-8880-7b437bc58c54\"}];\n",
       "  root.Bokeh.embed.embed_items_notebook(docs_json, render_items);\n",
       "\n",
       "  }\n",
       "  if (root.Bokeh !== undefined) {\n",
       "    embed_document(root);\n",
       "  } else {\n",
       "    var attempts = 0;\n",
       "    var timer = setInterval(function(root) {\n",
       "      if (root.Bokeh !== undefined) {\n",
       "        embed_document(root);\n",
       "        clearInterval(timer);\n",
       "      }\n",
       "      attempts++;\n",
       "      if (attempts > 100) {\n",
       "        console.log(\"Bokeh: ERROR: Unable to run BokehJS code because BokehJS library is missing\")\n",
       "        clearInterval(timer);\n",
       "      }\n",
       "    }, 10, root)\n",
       "  }\n",
       "})(window);"
      ],
      "application/vnd.bokehjs_exec.v0+json": ""
     },
     "metadata": {
      "application/vnd.bokehjs_exec.v0+json": {
       "id": "83ebf0af-c048-4e82-8880-7b437bc58c54"
      }
     },
     "output_type": "display_data"
    },
    {
     "name": "stdout",
     "output_type": "stream",
     "text": [
      "Figure. Difference in TOA flux, SFC flux and net atmosphere heating.\n"
     ]
    },
    {
     "data": {
      "text/html": [
       "<a id=\"Cooling_rates._saw.\"></a>"
      ],
      "text/plain": [
       "<IPython.core.display.HTML object>"
      ]
     },
     "metadata": {},
     "output_type": "display_data"
    },
    {
     "data": {
      "text/markdown": [
       "# Cooling rates. saw."
      ],
      "text/plain": [
       "<IPython.core.display.Markdown object>"
      ]
     },
     "metadata": {},
     "output_type": "display_data"
    },
    {
     "data": {
      "text/html": [
       "\n",
       "<div class=\"bk-root\">\n",
       "    <div class=\"bk-plotdiv\" id=\"e70f1db0-bdfe-4237-b981-21177829588d\"></div>\n",
       "</div>"
      ]
     },
     "metadata": {},
     "output_type": "display_data"
    },
    {
     "data": {
      "application/javascript": [
       "(function(root) {\n",
       "  function embed_document(root) {\n",
       "    \n",
       "  var docs_json = {\"b00a5644-504a-47e0-943f-66d716b268f9\":{\"roots\":{\"references\":[{\"attributes\":{},\"id\":\"089a6b20-a0d3-4820-9522-10dea3e06b84\",\"type\":\"ResetTool\"},{\"attributes\":{\"data_source\":{\"id\":\"8df27fcc-4a95-4c5d-b4a3-419c346bd4d0\",\"type\":\"ColumnDataSource\"},\"glyph\":{\"id\":\"d06e5e26-e405-4862-b897-c18c4f5dcac2\",\"type\":\"Line\"},\"hover_glyph\":null,\"muted_glyph\":null,\"nonselection_glyph\":{\"id\":\"3c751d1c-799a-423b-b1c2-749130a594cb\",\"type\":\"Line\"},\"selection_glyph\":null,\"view\":{\"id\":\"536c771b-fc4f-48ae-b66c-78767c6083fb\",\"type\":\"CDSView\"}},\"id\":\"88131315-f1eb-48ec-ad8a-02206b288408\",\"type\":\"GlyphRenderer\"},{\"attributes\":{\"overlay\":{\"id\":\"6d283ba8-bf06-4437-a697-16d13e9b65c1\",\"type\":\"BoxAnnotation\"}},\"id\":\"66e7bde9-8be2-4e37-bcbf-c741320212c0\",\"type\":\"BoxZoomTool\"},{\"attributes\":{\"bottom_units\":\"screen\",\"fill_alpha\":{\"value\":0.5},\"fill_color\":{\"value\":\"lightgrey\"},\"left_units\":\"screen\",\"level\":\"overlay\",\"line_alpha\":{\"value\":1.0},\"line_color\":{\"value\":\"black\"},\"line_dash\":[4,4],\"line_width\":{\"value\":2},\"plot\":null,\"render_mode\":\"css\",\"right_units\":\"screen\",\"top_units\":\"screen\"},\"id\":\"6d283ba8-bf06-4437-a697-16d13e9b65c1\",\"type\":\"BoxAnnotation\"},{\"attributes\":{},\"id\":\"446aeb53-dec5-4b1a-baa5-8cbdc9eb99d3\",\"type\":\"UnionRenderers\"},{\"attributes\":{},\"id\":\"7727a1f6-c06b-4b1d-af2c-31648f57aafa\",\"type\":\"SaveTool\"},{\"attributes\":{},\"id\":\"e31aedc4-cf58-4558-ad88-af5533706dee\",\"type\":\"SaveTool\"},{\"attributes\":{\"overlay\":{\"id\":\"82c4c682-3269-43ed-98b3-355fd42c7256\",\"type\":\"BoxAnnotation\"}},\"id\":\"32c4a16b-bfa1-4c4a-9120-13e6bd799a40\",\"type\":\"BoxZoomTool\"},{\"attributes\":{},\"id\":\"b2e95a51-1f19-48dd-9832-4bcc20367043\",\"type\":\"HelpTool\"},{\"attributes\":{\"line_alpha\":0.6,\"line_color\":\"#e41a1c\",\"line_dash\":[6],\"line_width\":5,\"x\":{\"field\":\"x\"},\"y\":{\"field\":\"y\"}},\"id\":\"d06e5e26-e405-4862-b897-c18c4f5dcac2\",\"type\":\"Line\"},{\"attributes\":{},\"id\":\"d4706aed-0fcb-471e-8a66-a7f9ae3ae705\",\"type\":\"UnionRenderers\"},{\"attributes\":{\"data_source\":{\"id\":\"7da1689f-7f38-4bb1-8bab-e9b1c90f4bee\",\"type\":\"ColumnDataSource\"},\"glyph\":{\"id\":\"5d8e8e4c-24c3-4f20-a52c-bbda3bacf08b\",\"type\":\"Circle\"},\"hover_glyph\":null,\"muted_glyph\":null,\"nonselection_glyph\":{\"id\":\"8f77f5fb-2a61-4a52-8711-08cdcbf6e8d6\",\"type\":\"Circle\"},\"selection_glyph\":null,\"view\":{\"id\":\"a8f9ad1b-9b44-483e-bc20-a639f3c8eaf8\",\"type\":\"CDSView\"}},\"id\":\"9b51337f-7411-40ce-bb67-6df40cab3f0e\",\"type\":\"GlyphRenderer\"},{\"attributes\":{},\"id\":\"b90ec9e7-6e28-4947-9526-f9b12acf53be\",\"type\":\"BasicTicker\"},{\"attributes\":{\"callback\":null,\"end\":2.3135572750986206,\"start\":-0.22322768330062},\"id\":\"5220ae6c-6f3e-495e-b0c6-f3879c5b179f\",\"type\":\"Range1d\"},{\"attributes\":{\"data_source\":{\"id\":\"3f79f3b1-900c-4e42-a2c5-68b0979083b9\",\"type\":\"ColumnDataSource\"},\"glyph\":{\"id\":\"98839750-6aad-49ba-a8a1-d22e51a79cc8\",\"type\":\"Line\"},\"hover_glyph\":null,\"muted_glyph\":null,\"nonselection_glyph\":{\"id\":\"b2345f38-59e8-48d7-acdf-7dceaccd8bea\",\"type\":\"Line\"},\"selection_glyph\":null,\"view\":{\"id\":\"30b9ada3-48a2-404a-a490-debf498cbfdb\",\"type\":\"CDSView\"}},\"id\":\"491be2df-3a31-4d62-a01a-94e60714487d\",\"type\":\"GlyphRenderer\"},{\"attributes\":{\"bottom_units\":\"screen\",\"fill_alpha\":{\"value\":0.5},\"fill_color\":{\"value\":\"lightgrey\"},\"left_units\":\"screen\",\"level\":\"overlay\",\"line_alpha\":{\"value\":1.0},\"line_color\":{\"value\":\"black\"},\"line_dash\":[4,4],\"line_width\":{\"value\":2},\"plot\":null,\"render_mode\":\"css\",\"right_units\":\"screen\",\"top_units\":\"screen\"},\"id\":\"6db84d72-ff27-44b1-89bc-e4113903b4a1\",\"type\":\"BoxAnnotation\"},{\"attributes\":{},\"id\":\"5a09fade-f5a0-4adb-b15a-edc6d5968fdc\",\"type\":\"Selection\"},{\"attributes\":{\"label\":{\"value\":\"CLIRAD\"},\"renderers\":[{\"id\":\"7bcb8603-a23f-4d0d-9a6f-48ff94bb0017\",\"type\":\"GlyphRenderer\"}]},\"id\":\"31471588-c750-4eed-a15d-5de26a9090c7\",\"type\":\"LegendItem\"},{\"attributes\":{\"source\":{\"id\":\"7da1689f-7f38-4bb1-8bab-e9b1c90f4bee\",\"type\":\"ColumnDataSource\"}},\"id\":\"a8f9ad1b-9b44-483e-bc20-a639f3c8eaf8\",\"type\":\"CDSView\"},{\"attributes\":{\"tools\":[{\"id\":\"1e587cc5-f302-4c05-98e9-decaa5e5f1fb\",\"type\":\"PanTool\"},{\"id\":\"882965ba-db72-455d-b44e-122ac688256f\",\"type\":\"WheelZoomTool\"},{\"id\":\"7a5e70f6-eb36-44d2-b74d-0bb742cb98d0\",\"type\":\"BoxZoomTool\"},{\"id\":\"fa1ddf59-9290-4a06-a9c3-03789c3fa611\",\"type\":\"SaveTool\"},{\"id\":\"400bf984-4596-43c0-9192-c40bcae9bb3a\",\"type\":\"ResetTool\"},{\"id\":\"305a3016-052a-4643-b1bf-77cdfdf1e0e1\",\"type\":\"HelpTool\"},{\"id\":\"2fffc087-ca79-439b-a21c-7daa4bc51158\",\"type\":\"PanTool\"},{\"id\":\"e718d8a3-bce2-467a-9922-c7278dcd2095\",\"type\":\"WheelZoomTool\"},{\"id\":\"32c4a16b-bfa1-4c4a-9120-13e6bd799a40\",\"type\":\"BoxZoomTool\"},{\"id\":\"7727a1f6-c06b-4b1d-af2c-31648f57aafa\",\"type\":\"SaveTool\"},{\"id\":\"1d00107a-d54c-4007-b858-506fc2338340\",\"type\":\"ResetTool\"},{\"id\":\"a42cbd11-0b15-4152-ac07-4075fc82f1c1\",\"type\":\"HelpTool\"},{\"id\":\"ebb3290c-5fb6-485f-9d8a-c9740db279b1\",\"type\":\"PanTool\"},{\"id\":\"2e648da7-4c55-4cc6-9a29-d94b274ba094\",\"type\":\"WheelZoomTool\"},{\"id\":\"66e7bde9-8be2-4e37-bcbf-c741320212c0\",\"type\":\"BoxZoomTool\"},{\"id\":\"e31aedc4-cf58-4558-ad88-af5533706dee\",\"type\":\"SaveTool\"},{\"id\":\"089a6b20-a0d3-4820-9522-10dea3e06b84\",\"type\":\"ResetTool\"},{\"id\":\"b2e95a51-1f19-48dd-9832-4bcc20367043\",\"type\":\"HelpTool\"}]},\"id\":\"870174d8-e75d-42ea-a57a-2bc27d177916\",\"type\":\"ProxyToolbar\"},{\"attributes\":{},\"id\":\"7b891470-8338-4a00-aa58-e4dd8521bf9a\",\"type\":\"Selection\"},{\"attributes\":{},\"id\":\"7507a637-c725-4254-aaea-8960578d759b\",\"type\":\"Selection\"},{\"attributes\":{\"above\":[{\"id\":\"4eb6e4ab-4be1-4ece-8fff-044e0fdb3b73\",\"type\":\"Legend\"}],\"below\":[{\"id\":\"0c041666-deb3-4a89-a328-902636829448\",\"type\":\"LinearAxis\"}],\"left\":[{\"id\":\"cacdfaa0-5e89-429b-aca0-c4fcbd82e64a\",\"type\":\"LinearAxis\"}],\"plot_width\":300,\"renderers\":[{\"id\":\"0c041666-deb3-4a89-a328-902636829448\",\"type\":\"LinearAxis\"},{\"id\":\"ece31cfb-717f-4ea5-b310-0444c0c7699a\",\"type\":\"Grid\"},{\"id\":\"cacdfaa0-5e89-429b-aca0-c4fcbd82e64a\",\"type\":\"LinearAxis\"},{\"id\":\"6cc5d2eb-cc33-4252-9787-77aa2b24cfe9\",\"type\":\"Grid\"},{\"id\":\"6db84d72-ff27-44b1-89bc-e4113903b4a1\",\"type\":\"BoxAnnotation\"},{\"id\":\"88131315-f1eb-48ec-ad8a-02206b288408\",\"type\":\"GlyphRenderer\"},{\"id\":\"4e9df55a-f962-428d-9fe9-8e63bc8eafe6\",\"type\":\"GlyphRenderer\"},{\"id\":\"e8858953-fc35-48a9-9c3c-e96a4cef10ff\",\"type\":\"GlyphRenderer\"},{\"id\":\"4eb6e4ab-4be1-4ece-8fff-044e0fdb3b73\",\"type\":\"Legend\"}],\"title\":{\"id\":\"bdd8b5d3-5c90-4e58-bc0f-5a1369cd30b1\",\"type\":\"Title\"},\"toolbar\":{\"id\":\"3db59d33-b949-41aa-a20e-ad8acb63c8b0\",\"type\":\"Toolbar\"},\"toolbar_location\":null,\"x_range\":{\"id\":\"5220ae6c-6f3e-495e-b0c6-f3879c5b179f\",\"type\":\"Range1d\"},\"x_scale\":{\"id\":\"e7fbd08d-b362-43bf-a5e1-4556d4bb008e\",\"type\":\"LinearScale\"},\"y_range\":{\"id\":\"65097fee-4732-4afd-ad9e-098855f9c38e\",\"type\":\"Range1d\"},\"y_scale\":{\"id\":\"8de38cc8-7894-4645-9644-d95948da0bfc\",\"type\":\"LinearScale\"}},\"id\":\"7bbd3f9b-51e1-47dd-8c4d-f145f413a082\",\"subtype\":\"Figure\",\"type\":\"Plot\"},{\"attributes\":{\"plot\":{\"id\":\"7bbd3f9b-51e1-47dd-8c4d-f145f413a082\",\"subtype\":\"Figure\",\"type\":\"Plot\"},\"ticker\":{\"id\":\"b90ec9e7-6e28-4947-9526-f9b12acf53be\",\"type\":\"BasicTicker\"}},\"id\":\"ece31cfb-717f-4ea5-b310-0444c0c7699a\",\"type\":\"Grid\"},{\"attributes\":{\"axis_label\":\"pressure [mb]\",\"formatter\":{\"id\":\"d8e59ca2-35fa-44e8-a6c0-e57d339b85e6\",\"type\":\"BasicTickFormatter\"},\"plot\":{\"id\":\"7bbd3f9b-51e1-47dd-8c4d-f145f413a082\",\"subtype\":\"Figure\",\"type\":\"Plot\"},\"ticker\":{\"id\":\"87e6586d-ba61-4045-a6f8-30f4b0edf2e6\",\"type\":\"BasicTicker\"}},\"id\":\"cacdfaa0-5e89-429b-aca0-c4fcbd82e64a\",\"type\":\"LinearAxis\"},{\"attributes\":{\"fill_alpha\":{\"value\":0.1},\"fill_color\":{\"value\":\"#1f77b4\"},\"line_alpha\":{\"value\":0.1},\"line_color\":{\"value\":\"#1f77b4\"},\"x\":{\"field\":\"x\"},\"y\":{\"field\":\"y\"}},\"id\":\"8f77f5fb-2a61-4a52-8711-08cdcbf6e8d6\",\"type\":\"Circle\"},{\"attributes\":{},\"id\":\"b34d8faf-25da-47b3-af2c-779feb23cd13\",\"type\":\"BasicTicker\"},{\"attributes\":{\"children\":[{\"id\":\"cb63f01f-be35-41bc-8a20-6c572c743170\",\"type\":\"ToolbarBox\"},{\"id\":\"698cf601-254f-4f24-b84f-4b369b65c733\",\"type\":\"Column\"}]},\"id\":\"524985db-b17f-4bb6-8669-fab168d0cd81\",\"type\":\"Column\"},{\"attributes\":{},\"id\":\"fa1ddf59-9290-4a06-a9c3-03789c3fa611\",\"type\":\"SaveTool\"},{\"attributes\":{\"active_drag\":\"auto\",\"active_inspect\":\"auto\",\"active_scroll\":\"auto\",\"active_tap\":\"auto\",\"tools\":[{\"id\":\"1e587cc5-f302-4c05-98e9-decaa5e5f1fb\",\"type\":\"PanTool\"},{\"id\":\"882965ba-db72-455d-b44e-122ac688256f\",\"type\":\"WheelZoomTool\"},{\"id\":\"7a5e70f6-eb36-44d2-b74d-0bb742cb98d0\",\"type\":\"BoxZoomTool\"},{\"id\":\"fa1ddf59-9290-4a06-a9c3-03789c3fa611\",\"type\":\"SaveTool\"},{\"id\":\"400bf984-4596-43c0-9192-c40bcae9bb3a\",\"type\":\"ResetTool\"},{\"id\":\"305a3016-052a-4643-b1bf-77cdfdf1e0e1\",\"type\":\"HelpTool\"}]},\"id\":\"3db59d33-b949-41aa-a20e-ad8acb63c8b0\",\"type\":\"Toolbar\"},{\"attributes\":{\"line_alpha\":0.1,\"line_color\":\"#1f77b4\",\"line_width\":1.5,\"x\":{\"field\":\"x\"},\"y\":{\"field\":\"y\"}},\"id\":\"b2345f38-59e8-48d7-acdf-7dceaccd8bea\",\"type\":\"Line\"},{\"attributes\":{},\"id\":\"882965ba-db72-455d-b44e-122ac688256f\",\"type\":\"WheelZoomTool\"},{\"attributes\":{\"dimension\":1,\"plot\":{\"id\":\"7bbd3f9b-51e1-47dd-8c4d-f145f413a082\",\"subtype\":\"Figure\",\"type\":\"Plot\"},\"ticker\":{\"id\":\"87e6586d-ba61-4045-a6f8-30f4b0edf2e6\",\"type\":\"BasicTicker\"}},\"id\":\"6cc5d2eb-cc33-4252-9787-77aa2b24cfe9\",\"type\":\"Grid\"},{\"attributes\":{},\"id\":\"1e587cc5-f302-4c05-98e9-decaa5e5f1fb\",\"type\":\"PanTool\"},{\"attributes\":{\"toolbar\":{\"id\":\"870174d8-e75d-42ea-a57a-2bc27d177916\",\"type\":\"ProxyToolbar\"},\"toolbar_location\":\"above\"},\"id\":\"cb63f01f-be35-41bc-8a20-6c572c743170\",\"type\":\"ToolbarBox\"},{\"attributes\":{\"items\":[{\"id\":\"8fc061f9-b415-493c-bc00-64a757dbff48\",\"type\":\"LegendItem\"},{\"id\":\"70a6f68a-5c11-4feb-94f7-76a2cf9efa59\",\"type\":\"LegendItem\"}],\"label_text_font_size\":{\"value\":\"8pt\"},\"location\":\"top_center\",\"orientation\":\"horizontal\",\"plot\":{\"id\":\"7bbd3f9b-51e1-47dd-8c4d-f145f413a082\",\"subtype\":\"Figure\",\"type\":\"Plot\"}},\"id\":\"4eb6e4ab-4be1-4ece-8fff-044e0fdb3b73\",\"type\":\"Legend\"},{\"attributes\":{\"axis_label\":\"cooling rate [K/day]\",\"formatter\":{\"id\":\"76402ae9-0265-4209-95c6-847b8e891a0a\",\"type\":\"BasicTickFormatter\"},\"plot\":{\"id\":\"43f70582-52d1-4877-b063-5ca85c6535e8\",\"subtype\":\"Figure\",\"type\":\"Plot\"},\"ticker\":{\"id\":\"b34d8faf-25da-47b3-af2c-779feb23cd13\",\"type\":\"BasicTicker\"}},\"id\":\"739fc5de-ca39-4e72-b3b5-f892035cc3a7\",\"type\":\"LinearAxis\"},{\"attributes\":{\"line_alpha\":0.1,\"line_color\":\"#1f77b4\",\"line_dash\":[6],\"line_width\":5,\"x\":{\"field\":\"x\"},\"y\":{\"field\":\"y\"}},\"id\":\"3c751d1c-799a-423b-b1c2-749130a594cb\",\"type\":\"Line\"},{\"attributes\":{\"callback\":null,\"data\":{\"x\":{\"__ndarray__\":\"Plrp3Z5jIcBKBfk9Qf4EwAhIBjTPV/g/re0xy0SUDEBKEKO2F2oNQEotRpaPLQNAtDasTSvz4j/Y3ph+zcLqv4miLOrMCfa/OZBOUS2a8b+Z2paSN0Xfv1rfYeD8N7A/VKELW16e2T/SMT3umRDfP8gh/JbbJ9Q/51E4qEcEoT9WPU9YQbrQv7cvfAWGNOC/FNnELayj4L8H/Z4Hc+/RvyD2rlRKVnm/oiytkRnvqr/asVgECtHTv8S4lvwuT9e/lyLME90hsb+NumOLN4rYP2kST9+NU9c/ZHxOx1zgtz+8LlyImOOXP/M/QDSg49A/o19OiZWc1T8r3Tg+sr3DPwNRi39W7Jy/pot48Rxicz/M/YUoLnSuP9PWP6lll34/EA5yTmTwq7/VHz/yu+C2v7idMclkh7m/zr7TrDXmtb+tZ9JQi4mwv8Fb5PyqNq+/RXg+tzI/nb9kXxACbO22vyPL1Yclmbi/Ni/HdfWLq7+VvARYV+iuvywUiu+ftrO/2INf1gPnsr90zRiVMqerv/ZCQ546s6K/UwZzLjJfmL8ZbMtKJ+aUvwLnnTDIqZS/eN5UNdxfmb8dBs8ktFybvzkwxDJBwpO/qA45dIJPVj+1n5LzvX+gP9DECtE+aqw/zGSrPX/prT+uWeZFjnqlPxImF6RXypU/0KnXZtHmWT8AGej+SwlBPzTnWDkPgoE/Lp8yUn1Unj87o+X0gG+oP3LpuEoSrK8/6IIHwTsdsj9OhzEMSFmzP2c1UW85I7Q/Hxy8y9bVtD8HjZAcEVW0Pw==\",\"dtype\":\"float64\",\"shape\":[74]},\"y\":{\"__ndarray__\":\"0r/J27aUSD9r8pTVdD1RP2k7pu7KLlg/wLdEifH1YD8NyLmoccpnPzEjYYSVr3A/203wTdNndz9s2+Z8Z2qAPwg+YeTABoc/DZnh9U8mkD/s6wrHPaeWPy2yne+nxp8/2y1uSEhJpj8MPWL03EKvPyVdjrLZ7LU/BK+WOzPBvj9HPq946pHFP+YffZOmQc4/PGwiMxc41T+Hp1fKMsTdP/8h/fZ14OQ/KjqSy39I7T+ZKhiV1In0P3PXEvJBz/w/vw6cM6I0BECBJsKGp1cMQOJYF7fR4BNAUkmdgCbiG0ADCYofY44jQOauJeSDbitAMEymCkY9M0Db+X5qvPw6QGgibHh67UJAf/s6cM6MSkDNzMzMzHhSQGZmZmZmalhAAAAAAABcXkDNzMzMzCZiQJqZmZmZH2VAZmZmZmYYaEAzMzMzMxFrQAAAAAAACm5AZmZmZmaBcEDNzMzMzP1xQDMzMzMzenNAmpmZmZn2dEAAAAAAAHN2QGZmZmZm73dAzczMzMxreUAzMzMzM+h6QJqZmZmZZHxAAAAAAADhfUBmZmZmZl1/QGZmZmbmbIBAmpmZmRkrgUDNzMzMTOmBQAAAAACAp4JAMzMzM7Nlg0BmZmZm5iOEQJqZmZkZ4oRAzczMzEyghUAAAAAAgF6GQDMzMzOzHIdAZmZmZubah0CamZmZGZmIQM3MzMxMV4lAAAAAAIAVikAzMzMzs9OKQGZmZmbmkYtAmpmZmRlQjEDNzMzMTA6NQAAAAACAzI1AMzMzM7OKjkBmZmZm5kiPQA==\",\"dtype\":\"float64\",\"shape\":[74]}},\"selected\":{\"id\":\"5a09fade-f5a0-4adb-b15a-edc6d5968fdc\",\"type\":\"Selection\"},\"selection_policy\":{\"id\":\"d4706aed-0fcb-471e-8a66-a7f9ae3ae705\",\"type\":\"UnionRenderers\"}},\"id\":\"3f79f3b1-900c-4e42-a2c5-68b0979083b9\",\"type\":\"ColumnDataSource\"},{\"attributes\":{},\"id\":\"8de38cc8-7894-4645-9644-d95948da0bfc\",\"type\":\"LinearScale\"},{\"attributes\":{},\"id\":\"1ae8e69b-c72c-4cb7-bb71-7a6f9285924a\",\"type\":\"Selection\"},{\"attributes\":{\"above\":[{\"id\":\"962afbf6-7dba-41c0-b5f9-fa8e6e22f48b\",\"type\":\"Legend\"}],\"below\":[{\"id\":\"50ad6784-2eb6-4726-8d4d-1f14bd2a7196\",\"type\":\"LinearAxis\"}],\"left\":[{\"id\":\"0ea719e7-2c3d-41e7-9624-f01ea83ef95f\",\"type\":\"LogAxis\"}],\"plot_width\":300,\"renderers\":[{\"id\":\"50ad6784-2eb6-4726-8d4d-1f14bd2a7196\",\"type\":\"LinearAxis\"},{\"id\":\"0b326352-7775-44ee-9bea-1177f1529d1f\",\"type\":\"Grid\"},{\"id\":\"0ea719e7-2c3d-41e7-9624-f01ea83ef95f\",\"type\":\"LogAxis\"},{\"id\":\"601a4878-130d-4e20-8bc9-447dae090ea3\",\"type\":\"Grid\"},{\"id\":\"6d283ba8-bf06-4437-a697-16d13e9b65c1\",\"type\":\"BoxAnnotation\"},{\"id\":\"9b51337f-7411-40ce-bb67-6df40cab3f0e\",\"type\":\"GlyphRenderer\"},{\"id\":\"491be2df-3a31-4d62-a01a-94e60714487d\",\"type\":\"GlyphRenderer\"},{\"id\":\"962afbf6-7dba-41c0-b5f9-fa8e6e22f48b\",\"type\":\"Legend\"}],\"title\":{\"id\":\"fc0a2493-ea1b-4d30-8ba4-29acf9e9788b\",\"type\":\"Title\"},\"toolbar\":{\"id\":\"db4cafdb-c6b2-4c0d-88b0-2278697202dc\",\"type\":\"Toolbar\"},\"toolbar_location\":null,\"x_range\":{\"id\":\"3ec8b993-bbc2-4ebd-81d0-18bc1a79d177\",\"type\":\"Range1d\"},\"x_scale\":{\"id\":\"23efa72a-3227-40cb-9f95-f6d1a2761067\",\"type\":\"LinearScale\"},\"y_range\":{\"id\":\"9e739ae1-d4ad-4918-acc5-5a01a2c90e26\",\"type\":\"Range1d\"},\"y_scale\":{\"id\":\"9d70b590-a918-4fc2-a83a-480e4c1ede6a\",\"type\":\"LogScale\"}},\"id\":\"e82016e3-e361-401b-9870-1baa7b13fbe0\",\"subtype\":\"Figure\",\"type\":\"Plot\"},{\"attributes\":{},\"id\":\"b1edd3eb-be44-4ea4-b6b1-2cf93bfe93f5\",\"type\":\"UnionRenderers\"},{\"attributes\":{\"line_alpha\":0.8,\"line_color\":\"#984ea3\",\"line_width\":1.5,\"x\":{\"field\":\"x\"},\"y\":{\"field\":\"y\"}},\"id\":\"98839750-6aad-49ba-a8a1-d22e51a79cc8\",\"type\":\"Line\"},{\"attributes\":{},\"id\":\"759a7048-d22c-4bbf-bcf6-304e0022f3a5\",\"type\":\"UnionRenderers\"},{\"attributes\":{},\"id\":\"e7fbd08d-b362-43bf-a5e1-4556d4bb008e\",\"type\":\"LinearScale\"},{\"attributes\":{\"plot\":{\"id\":\"43f70582-52d1-4877-b063-5ca85c6535e8\",\"subtype\":\"Figure\",\"type\":\"Plot\"},\"ticker\":{\"id\":\"b34d8faf-25da-47b3-af2c-779feb23cd13\",\"type\":\"BasicTicker\"}},\"id\":\"dd4835be-c140-4ecf-a9fe-a5461d3aeb11\",\"type\":\"Grid\"},{\"attributes\":{},\"id\":\"87e6586d-ba61-4045-a6f8-30f4b0edf2e6\",\"type\":\"BasicTicker\"},{\"attributes\":{\"axis_label\":\"cooling rate [K/day]\",\"formatter\":{\"id\":\"a5367f28-d92e-43bb-8e43-e166e02cb6d7\",\"type\":\"BasicTickFormatter\"},\"plot\":{\"id\":\"7bbd3f9b-51e1-47dd-8c4d-f145f413a082\",\"subtype\":\"Figure\",\"type\":\"Plot\"},\"ticker\":{\"id\":\"b90ec9e7-6e28-4947-9526-f9b12acf53be\",\"type\":\"BasicTicker\"}},\"id\":\"0c041666-deb3-4a89-a328-902636829448\",\"type\":\"LinearAxis\"},{\"attributes\":{\"overlay\":{\"id\":\"6db84d72-ff27-44b1-89bc-e4113903b4a1\",\"type\":\"BoxAnnotation\"}},\"id\":\"7a5e70f6-eb36-44d2-b74d-0bb742cb98d0\",\"type\":\"BoxZoomTool\"},{\"attributes\":{},\"id\":\"d3acf6da-2b19-4d6f-9c81-868fad28e07a\",\"type\":\"UnionRenderers\"},{\"attributes\":{},\"id\":\"400bf984-4596-43c0-9192-c40bcae9bb3a\",\"type\":\"ResetTool\"},{\"attributes\":{},\"id\":\"305a3016-052a-4643-b1bf-77cdfdf1e0e1\",\"type\":\"HelpTool\"},{\"attributes\":{\"above\":[{\"id\":\"eeee59d5-57be-4fc6-9d4a-63e6ba2df542\",\"type\":\"Legend\"}],\"below\":[{\"id\":\"739fc5de-ca39-4e72-b3b5-f892035cc3a7\",\"type\":\"LinearAxis\"}],\"left\":[{\"id\":\"0a913529-02d0-4bc8-82cb-9f4002e1e5fc\",\"type\":\"LogAxis\"}],\"plot_width\":300,\"renderers\":[{\"id\":\"739fc5de-ca39-4e72-b3b5-f892035cc3a7\",\"type\":\"LinearAxis\"},{\"id\":\"dd4835be-c140-4ecf-a9fe-a5461d3aeb11\",\"type\":\"Grid\"},{\"id\":\"0a913529-02d0-4bc8-82cb-9f4002e1e5fc\",\"type\":\"LogAxis\"},{\"id\":\"c03c4e92-1ec2-43fa-9e02-a540866afea1\",\"type\":\"Grid\"},{\"id\":\"82c4c682-3269-43ed-98b3-355fd42c7256\",\"type\":\"BoxAnnotation\"},{\"id\":\"7bcb8603-a23f-4d0d-9a6f-48ff94bb0017\",\"type\":\"GlyphRenderer\"},{\"id\":\"6bc476a0-f4bb-4b27-a27e-aa884924cd69\",\"type\":\"GlyphRenderer\"},{\"id\":\"fc9f47d7-0eed-44fc-8b0d-4bb824cfd8eb\",\"type\":\"GlyphRenderer\"},{\"id\":\"eeee59d5-57be-4fc6-9d4a-63e6ba2df542\",\"type\":\"Legend\"}],\"title\":{\"id\":\"c9b63b0e-436f-4947-aa7c-b67aeb10f7e0\",\"type\":\"Title\"},\"toolbar\":{\"id\":\"0b1623a7-5ae0-494c-a3a3-394a202eec94\",\"type\":\"Toolbar\"},\"toolbar_location\":null,\"x_range\":{\"id\":\"09cfb68c-da8f-4755-a8a5-205f12e3b69e\",\"type\":\"Range1d\"},\"x_scale\":{\"id\":\"49912428-bcf1-4408-88d2-0d6d8bcf05d5\",\"type\":\"LinearScale\"},\"y_range\":{\"id\":\"5b04e8b2-42f5-40c8-81d8-563f98a7b4e3\",\"type\":\"Range1d\"},\"y_scale\":{\"id\":\"55c1234a-c961-4c3f-bb4b-5a510b0ea4fb\",\"type\":\"LogScale\"}},\"id\":\"43f70582-52d1-4877-b063-5ca85c6535e8\",\"subtype\":\"Figure\",\"type\":\"Plot\"},{\"attributes\":{\"ticker\":null},\"id\":\"adc313a6-1133-43de-9506-cd15db5eebac\",\"type\":\"LogTickFormatter\"},{\"attributes\":{},\"id\":\"057c93d2-9bfe-42c6-8793-db241f27b3b9\",\"type\":\"Selection\"},{\"attributes\":{},\"id\":\"55c1234a-c961-4c3f-bb4b-5a510b0ea4fb\",\"type\":\"LogScale\"},{\"attributes\":{\"line_alpha\":0.6,\"line_color\":\"#e41a1c\",\"line_dash\":[6],\"line_width\":5,\"x\":{\"field\":\"x\"},\"y\":{\"field\":\"y\"}},\"id\":\"1cef13fc-db12-4f91-8125-a8b4396a9b33\",\"type\":\"Line\"},{\"attributes\":{\"line_alpha\":0.1,\"line_color\":\"#1f77b4\",\"line_dash\":[6],\"line_width\":5,\"x\":{\"field\":\"x\"},\"y\":{\"field\":\"y\"}},\"id\":\"e3e86c60-ecd1-4385-829f-3954d4b3fb1d\",\"type\":\"Line\"},{\"attributes\":{},\"id\":\"96ffac2a-741d-4009-95de-863e9243b039\",\"type\":\"Selection\"},{\"attributes\":{\"source\":{\"id\":\"5c758463-9ddd-47ef-bc3a-a4eeca20fa73\",\"type\":\"ColumnDataSource\"}},\"id\":\"542b37db-cdf4-416d-bcab-76dcae84ea83\",\"type\":\"CDSView\"},{\"attributes\":{},\"id\":\"76402ae9-0265-4209-95c6-847b8e891a0a\",\"type\":\"BasicTickFormatter\"},{\"attributes\":{\"items\":[{\"id\":\"31471588-c750-4eed-a15d-5de26a9090c7\",\"type\":\"LegendItem\"},{\"id\":\"c95d2617-edbb-4e79-824d-1122f7943dc8\",\"type\":\"LegendItem\"}],\"label_text_font_size\":{\"value\":\"8pt\"},\"location\":\"top_center\",\"orientation\":\"horizontal\",\"plot\":{\"id\":\"43f70582-52d1-4877-b063-5ca85c6535e8\",\"subtype\":\"Figure\",\"type\":\"Plot\"}},\"id\":\"eeee59d5-57be-4fc6-9d4a-63e6ba2df542\",\"type\":\"Legend\"},{\"attributes\":{\"callback\":null,\"end\":0.01,\"start\":1020},\"id\":\"65097fee-4732-4afd-ad9e-098855f9c38e\",\"type\":\"Range1d\"},{\"attributes\":{\"active_drag\":\"auto\",\"active_inspect\":\"auto\",\"active_scroll\":\"auto\",\"active_tap\":\"auto\",\"tools\":[{\"id\":\"ebb3290c-5fb6-485f-9d8a-c9740db279b1\",\"type\":\"PanTool\"},{\"id\":\"2e648da7-4c55-4cc6-9a29-d94b274ba094\",\"type\":\"WheelZoomTool\"},{\"id\":\"66e7bde9-8be2-4e37-bcbf-c741320212c0\",\"type\":\"BoxZoomTool\"},{\"id\":\"e31aedc4-cf58-4558-ad88-af5533706dee\",\"type\":\"SaveTool\"},{\"id\":\"089a6b20-a0d3-4820-9522-10dea3e06b84\",\"type\":\"ResetTool\"},{\"id\":\"b2e95a51-1f19-48dd-9832-4bcc20367043\",\"type\":\"HelpTool\"}]},\"id\":\"db4cafdb-c6b2-4c0d-88b0-2278697202dc\",\"type\":\"Toolbar\"},{\"attributes\":{\"data_source\":{\"id\":\"5c758463-9ddd-47ef-bc3a-a4eeca20fa73\",\"type\":\"ColumnDataSource\"},\"glyph\":{\"id\":\"8efeea71-6f88-48d7-b5bf-1b1787c2fc1c\",\"type\":\"Line\"},\"hover_glyph\":null,\"muted_glyph\":null,\"nonselection_glyph\":{\"id\":\"29216008-6c6f-4f41-aa04-c20a03aa8264\",\"type\":\"Line\"},\"selection_glyph\":null,\"view\":{\"id\":\"542b37db-cdf4-416d-bcab-76dcae84ea83\",\"type\":\"CDSView\"}},\"id\":\"e8858953-fc35-48a9-9c3c-e96a4cef10ff\",\"type\":\"GlyphRenderer\"},{\"attributes\":{\"dimension\":1,\"plot\":{\"id\":\"43f70582-52d1-4877-b063-5ca85c6535e8\",\"subtype\":\"Figure\",\"type\":\"Plot\"},\"ticker\":{\"id\":\"1e65f14f-6633-4d4c-ab46-cfba359dd065\",\"type\":\"LogTicker\"}},\"id\":\"c03c4e92-1ec2-43fa-9e02-a540866afea1\",\"type\":\"Grid\"},{\"attributes\":{\"label\":{\"value\":\"CRD\"},\"renderers\":[{\"id\":\"4e9df55a-f962-428d-9fe9-8e63bc8eafe6\",\"type\":\"GlyphRenderer\"},{\"id\":\"e8858953-fc35-48a9-9c3c-e96a4cef10ff\",\"type\":\"GlyphRenderer\"}]},\"id\":\"70a6f68a-5c11-4feb-94f7-76a2cf9efa59\",\"type\":\"LegendItem\"},{\"attributes\":{\"label\":{\"value\":\"CLIRAD\"},\"renderers\":[{\"id\":\"88131315-f1eb-48ec-ad8a-02206b288408\",\"type\":\"GlyphRenderer\"}]},\"id\":\"8fc061f9-b415-493c-bc00-64a757dbff48\",\"type\":\"LegendItem\"},{\"attributes\":{\"axis_label\":\"pressure [mb]\",\"formatter\":{\"id\":\"adc313a6-1133-43de-9506-cd15db5eebac\",\"type\":\"LogTickFormatter\"},\"plot\":{\"id\":\"43f70582-52d1-4877-b063-5ca85c6535e8\",\"subtype\":\"Figure\",\"type\":\"Plot\"},\"ticker\":{\"id\":\"1e65f14f-6633-4d4c-ab46-cfba359dd065\",\"type\":\"LogTicker\"}},\"id\":\"0a913529-02d0-4bc8-82cb-9f4002e1e5fc\",\"type\":\"LogAxis\"},{\"attributes\":{\"plot\":null,\"text\":\"\"},\"id\":\"c9b63b0e-436f-4947-aa7c-b67aeb10f7e0\",\"type\":\"Title\"},{\"attributes\":{\"line_alpha\":0.1,\"line_color\":\"#1f77b4\",\"line_width\":1.5,\"x\":{\"field\":\"x\"},\"y\":{\"field\":\"y\"}},\"id\":\"29216008-6c6f-4f41-aa04-c20a03aa8264\",\"type\":\"Line\"},{\"attributes\":{},\"id\":\"49912428-bcf1-4408-88d2-0d6d8bcf05d5\",\"type\":\"LinearScale\"},{\"attributes\":{\"callback\":null,\"end\":0.01,\"start\":1020},\"id\":\"9e739ae1-d4ad-4918-acc5-5a01a2c90e26\",\"type\":\"Range1d\"},{\"attributes\":{},\"id\":\"b6c8be45-5d22-4469-a93e-f6b2db267dcb\",\"type\":\"Selection\"},{\"attributes\":{\"active_drag\":\"auto\",\"active_inspect\":\"auto\",\"active_scroll\":\"auto\",\"active_tap\":\"auto\",\"tools\":[{\"id\":\"2fffc087-ca79-439b-a21c-7daa4bc51158\",\"type\":\"PanTool\"},{\"id\":\"e718d8a3-bce2-467a-9922-c7278dcd2095\",\"type\":\"WheelZoomTool\"},{\"id\":\"32c4a16b-bfa1-4c4a-9120-13e6bd799a40\",\"type\":\"BoxZoomTool\"},{\"id\":\"7727a1f6-c06b-4b1d-af2c-31648f57aafa\",\"type\":\"SaveTool\"},{\"id\":\"1d00107a-d54c-4007-b858-506fc2338340\",\"type\":\"ResetTool\"},{\"id\":\"a42cbd11-0b15-4152-ac07-4075fc82f1c1\",\"type\":\"HelpTool\"}]},\"id\":\"0b1623a7-5ae0-494c-a3a3-394a202eec94\",\"type\":\"Toolbar\"},{\"attributes\":{\"data_source\":{\"id\":\"19dec860-40ee-497c-b580-a636573b24f6\",\"type\":\"ColumnDataSource\"},\"glyph\":{\"id\":\"c4ad13f6-48f8-4df9-87c8-2c39be511994\",\"type\":\"Circle\"},\"hover_glyph\":null,\"muted_glyph\":null,\"nonselection_glyph\":{\"id\":\"83d03265-ab48-4429-99a1-a2b79b2a3b5c\",\"type\":\"Circle\"},\"selection_glyph\":null,\"view\":{\"id\":\"9f6d2c6e-9f5e-4215-9794-b71bb6526cc8\",\"type\":\"CDSView\"}},\"id\":\"6bc476a0-f4bb-4b27-a27e-aa884924cd69\",\"type\":\"GlyphRenderer\"},{\"attributes\":{\"bottom_units\":\"screen\",\"fill_alpha\":{\"value\":0.5},\"fill_color\":{\"value\":\"lightgrey\"},\"left_units\":\"screen\",\"level\":\"overlay\",\"line_alpha\":{\"value\":1.0},\"line_color\":{\"value\":\"black\"},\"line_dash\":[4,4],\"line_width\":{\"value\":2},\"plot\":null,\"render_mode\":\"css\",\"right_units\":\"screen\",\"top_units\":\"screen\"},\"id\":\"82c4c682-3269-43ed-98b3-355fd42c7256\",\"type\":\"BoxAnnotation\"},{\"attributes\":{},\"id\":\"d8e59ca2-35fa-44e8-a6c0-e57d339b85e6\",\"type\":\"BasicTickFormatter\"},{\"attributes\":{\"children\":[{\"id\":\"7bbd3f9b-51e1-47dd-8c4d-f145f413a082\",\"subtype\":\"Figure\",\"type\":\"Plot\"},{\"id\":\"43f70582-52d1-4877-b063-5ca85c6535e8\",\"subtype\":\"Figure\",\"type\":\"Plot\"},{\"id\":\"e82016e3-e361-401b-9870-1baa7b13fbe0\",\"subtype\":\"Figure\",\"type\":\"Plot\"}]},\"id\":\"bbc6069e-f294-435c-851e-7001aa54404e\",\"type\":\"Row\"},{\"attributes\":{\"fill_alpha\":{\"value\":0.7},\"fill_color\":{\"value\":\"#4daf4a\"},\"line_alpha\":{\"value\":0.7},\"line_color\":{\"value\":\"#4daf4a\"},\"x\":{\"field\":\"x\"},\"y\":{\"field\":\"y\"}},\"id\":\"c4ad13f6-48f8-4df9-87c8-2c39be511994\",\"type\":\"Circle\"},{\"attributes\":{\"source\":{\"id\":\"227cd3eb-cb07-488d-81fb-880762b9a316\",\"type\":\"ColumnDataSource\"}},\"id\":\"9d232902-8dad-4bb5-98ab-5cf0de27558d\",\"type\":\"CDSView\"},{\"attributes\":{},\"id\":\"17e57d1c-93e8-4450-af8e-eb1e55eb405f\",\"type\":\"BasicTickFormatter\"},{\"attributes\":{\"line_alpha\":0.1,\"line_color\":\"#1f77b4\",\"line_width\":1.5,\"x\":{\"field\":\"x\"},\"y\":{\"field\":\"y\"}},\"id\":\"4ed2b0cd-10e4-4629-92f3-deb9bb8b8afb\",\"type\":\"Line\"},{\"attributes\":{},\"id\":\"5c1d322b-6565-48bb-ad10-fe6d74b642a3\",\"type\":\"UnionRenderers\"},{\"attributes\":{},\"id\":\"1d00107a-d54c-4007-b858-506fc2338340\",\"type\":\"ResetTool\"},{\"attributes\":{},\"id\":\"a42cbd11-0b15-4152-ac07-4075fc82f1c1\",\"type\":\"HelpTool\"},{\"attributes\":{},\"id\":\"2e648da7-4c55-4cc6-9a29-d94b274ba094\",\"type\":\"WheelZoomTool\"},{\"attributes\":{},\"id\":\"61fa2914-cbfe-408f-819a-1866badc29bd\",\"type\":\"UnionRenderers\"},{\"attributes\":{\"fill_alpha\":{\"value\":0.1},\"fill_color\":{\"value\":\"#1f77b4\"},\"line_alpha\":{\"value\":0.1},\"line_color\":{\"value\":\"#1f77b4\"},\"x\":{\"field\":\"x\"},\"y\":{\"field\":\"y\"}},\"id\":\"9f7406a2-46f9-4653-8384-51b9eb6fca78\",\"type\":\"Circle\"},{\"attributes\":{},\"id\":\"2fffc087-ca79-439b-a21c-7daa4bc51158\",\"type\":\"PanTool\"},{\"attributes\":{},\"id\":\"a5367f28-d92e-43bb-8e43-e166e02cb6d7\",\"type\":\"BasicTickFormatter\"},{\"attributes\":{\"ticker\":null},\"id\":\"79153fd2-9130-40d4-8ac0-d88bbb0da6fe\",\"type\":\"LogTickFormatter\"},{\"attributes\":{\"children\":[{\"id\":\"bbc6069e-f294-435c-851e-7001aa54404e\",\"type\":\"Row\"}]},\"id\":\"698cf601-254f-4f24-b84f-4b369b65c733\",\"type\":\"Column\"},{\"attributes\":{},\"id\":\"ebb3290c-5fb6-485f-9d8a-c9740db279b1\",\"type\":\"PanTool\"},{\"attributes\":{\"axis_label\":\"pressure [mb]\",\"formatter\":{\"id\":\"79153fd2-9130-40d4-8ac0-d88bbb0da6fe\",\"type\":\"LogTickFormatter\"},\"plot\":{\"id\":\"e82016e3-e361-401b-9870-1baa7b13fbe0\",\"subtype\":\"Figure\",\"type\":\"Plot\"},\"ticker\":{\"id\":\"88076a0d-4900-466e-a50a-38f7273675d4\",\"type\":\"LogTicker\"}},\"id\":\"0ea719e7-2c3d-41e7-9624-f01ea83ef95f\",\"type\":\"LogAxis\"},{\"attributes\":{\"plot\":null,\"text\":\"\"},\"id\":\"fc0a2493-ea1b-4d30-8ba4-29acf9e9788b\",\"type\":\"Title\"},{\"attributes\":{\"source\":{\"id\":\"4e90254b-42a1-4ef9-9f82-b37aa384511c\",\"type\":\"ColumnDataSource\"}},\"id\":\"91440d0a-5692-4c65-a32a-7ff9c09f3559\",\"type\":\"CDSView\"},{\"attributes\":{\"items\":[{\"id\":\"6abc7433-6c5a-4b07-ba84-502304767253\",\"type\":\"LegendItem\"}],\"label_text_font_size\":{\"value\":\"8pt\"},\"location\":\"top_center\",\"orientation\":\"horizontal\",\"plot\":{\"id\":\"e82016e3-e361-401b-9870-1baa7b13fbe0\",\"subtype\":\"Figure\",\"type\":\"Plot\"}},\"id\":\"962afbf6-7dba-41c0-b5f9-fa8e6e22f48b\",\"type\":\"Legend\"},{\"attributes\":{},\"id\":\"9d70b590-a918-4fc2-a83a-480e4c1ede6a\",\"type\":\"LogScale\"},{\"attributes\":{\"callback\":null,\"data\":{\"x\":{\"__ndarray__\":\"cm1sTMT3VEDEyvjosEJHQOKI6DjzCUNArgQWV9awPkB9Lm8XG3M4QEz+Qv6iYzNA7eV8HaPLLkCX1QHyTpMoQFBmYSYetiNAUB04GtGpH0AmFyVE5j8ZQJca9QPGqBNALJP+OOHHDEBNxaf7QF8AQKtislomWuw/cW2dcO6A9T/uJJvfPu0EQIaQLTI/JQ1AxGiII+PmEkCJvfVeuCsYQD6ZBhGbHB9AXQw69DTYJEAsubcwKucqQNuT9D5OmipAJyi3szEJJUBlNebh5WkgQDDcPHBr2xlArtlANXuQFEBdJadFHckQQI2Avh0ZsQtAjYiwt1rsBUCL0SDoVBgAQK6C0nEEjvc/CggLSme58T9sXU2orFPnP0v0JYz9Gdg/vT38vxYczD9nBQTe6kHHP1IhkEXJwKo/8OZnhCVAub+xtVgCpmqzP6DUpY6g0+k/PKK3T1h4+D8RTDjQc1EAQG/dAQs7TwJAQt2eHpPLAEBWEh074x//PyCap9ZSGf4/rEzaTySm/T+7aXhHRmr9P688KeqeNP0/ruZ4EemD/D8olrZcn9T7P0+vNc9hW/s/i9VVL+4P+z+0NzC24uz6P8731Kza8vo/xFf4SHzq+z+gYyHpvHb8P68ROkiFevw/BAjYdCga/D8AUp8VbW77P3JrF/nKmvo/qCQeGfq++T/dplwHJfn4P2G4p+Uva/g/OzZ0RqMZ+D8dmn/iar73P/OuA7Ka8PY/gaaeQHGn9T9hkyjAH1L0P3aZGhdAU/M/n8VP/g7P8j+90HxHNvfyPwhNBtgrqvk/\",\"dtype\":\"float64\",\"shape\":[75]},\"y\":{\"__ndarray__\":\"GhExyth1ND/Sv8nbtpRIP2vylNV0PVE/aTum7souWD/At0SJ8fVgPw3Iuahxymc/MSNhhJWvcD/bTfBN02d3P2zb5nxnaoA/CD5h5MAGhz8NmeH1TyaQP+zrCsc9p5Y/LbKd76fGnz/bLW5ISEmmPww9YvTcQq8/JV2OstnstT8Er5Y7M8G+P0c+r3jqkcU/5h99k6ZBzj88bCIzFzjVP4enV8oyxN0//yH99nXg5D8qOpLLf0jtP5kqGJXUifQ/c9cS8kHP/D+/DpwzojQEQIEmwoanVwxA4lgXt9HgE0BSSZ2AJuIbQAMJih9jjiNA5q4l5INuK0AwTKYKRj0zQNv5fmq8/DpAaCJseHrtQkB/+zpwzoxKQM3MzMzMeFJAZmZmZmZqWEAAAAAAAFxeQM3MzMzMJmJAmpmZmZkfZUBmZmZmZhhoQDMzMzMzEWtAAAAAAAAKbkBmZmZmZoFwQM3MzMzM/XFAMzMzMzN6c0CamZmZmfZ0QAAAAAAAc3ZAZmZmZmbvd0DNzMzMzGt5QDMzMzMz6HpAmpmZmZlkfEAAAAAAAOF9QGZmZmZmXX9AZmZmZuZsgECamZmZGSuBQM3MzMxM6YFAAAAAAICngkAzMzMzs2WDQGZmZmbmI4RAmpmZmRnihEDNzMzMTKCFQAAAAACAXoZAMzMzM7Mch0BmZmZm5tqHQJqZmZkZmYhAzczMzExXiUAAAAAAgBWKQDMzMzOz04pAZmZmZuaRi0CamZmZGVCMQM3MzMxMDo1AAAAAAIDMjUAzMzMzs4qOQGZmZmbmSI9A\",\"dtype\":\"float64\",\"shape\":[75]}},\"selected\":{\"id\":\"057c93d2-9bfe-42c6-8793-db241f27b3b9\",\"type\":\"Selection\"},\"selection_policy\":{\"id\":\"5c1d322b-6565-48bb-ad10-fe6d74b642a3\",\"type\":\"UnionRenderers\"}},\"id\":\"19dec860-40ee-497c-b580-a636573b24f6\",\"type\":\"ColumnDataSource\"},{\"attributes\":{\"source\":{\"id\":\"d0dd3ea1-e9dc-4d5b-b9c8-be75cd5829ea\",\"type\":\"ColumnDataSource\"}},\"id\":\"50d0528e-3d11-445e-859d-167d35863a78\",\"type\":\"CDSView\"},{\"attributes\":{\"fill_alpha\":{\"value\":0.7},\"fill_color\":{\"value\":\"#984ea3\"},\"line_alpha\":{\"value\":0.7},\"line_color\":{\"value\":\"#984ea3\"},\"x\":{\"field\":\"x\"},\"y\":{\"field\":\"y\"}},\"id\":\"5d8e8e4c-24c3-4f20-a52c-bbda3bacf08b\",\"type\":\"Circle\"},{\"attributes\":{\"plot\":null,\"text\":\"\"},\"id\":\"bdd8b5d3-5c90-4e58-bc0f-5a1369cd30b1\",\"type\":\"Title\"},{\"attributes\":{\"source\":{\"id\":\"19dec860-40ee-497c-b580-a636573b24f6\",\"type\":\"ColumnDataSource\"}},\"id\":\"9f6d2c6e-9f5e-4215-9794-b71bb6526cc8\",\"type\":\"CDSView\"},{\"attributes\":{\"data_source\":{\"id\":\"d0dd3ea1-e9dc-4d5b-b9c8-be75cd5829ea\",\"type\":\"ColumnDataSource\"},\"glyph\":{\"id\":\"d7e25891-32d1-47a1-bdbb-d07059f596e6\",\"type\":\"Line\"},\"hover_glyph\":null,\"muted_glyph\":null,\"nonselection_glyph\":{\"id\":\"4ed2b0cd-10e4-4629-92f3-deb9bb8b8afb\",\"type\":\"Line\"},\"selection_glyph\":null,\"view\":{\"id\":\"50d0528e-3d11-445e-859d-167d35863a78\",\"type\":\"CDSView\"}},\"id\":\"fc9f47d7-0eed-44fc-8b0d-4bb824cfd8eb\",\"type\":\"GlyphRenderer\"},{\"attributes\":{\"label\":{\"value\":\"CRD\"},\"renderers\":[{\"id\":\"6bc476a0-f4bb-4b27-a27e-aa884924cd69\",\"type\":\"GlyphRenderer\"},{\"id\":\"fc9f47d7-0eed-44fc-8b0d-4bb824cfd8eb\",\"type\":\"GlyphRenderer\"}]},\"id\":\"c95d2617-edbb-4e79-824d-1122f7943dc8\",\"type\":\"LegendItem\"},{\"attributes\":{\"fill_alpha\":{\"value\":0.1},\"fill_color\":{\"value\":\"#1f77b4\"},\"line_alpha\":{\"value\":0.1},\"line_color\":{\"value\":\"#1f77b4\"},\"x\":{\"field\":\"x\"},\"y\":{\"field\":\"y\"}},\"id\":\"83d03265-ab48-4429-99a1-a2b79b2a3b5c\",\"type\":\"Circle\"},{\"attributes\":{\"axis_label\":\"cooling rate [K/day]\",\"formatter\":{\"id\":\"17e57d1c-93e8-4450-af8e-eb1e55eb405f\",\"type\":\"BasicTickFormatter\"},\"plot\":{\"id\":\"e82016e3-e361-401b-9870-1baa7b13fbe0\",\"subtype\":\"Figure\",\"type\":\"Plot\"},\"ticker\":{\"id\":\"db23428e-3b36-4c35-be6d-1b057e12da20\",\"type\":\"BasicTicker\"}},\"id\":\"50ad6784-2eb6-4726-8d4d-1f14bd2a7196\",\"type\":\"LinearAxis\"},{\"attributes\":{\"callback\":null,\"end\":0.50401607191973,\"start\":-1.3960204970527301},\"id\":\"3ec8b993-bbc2-4ebd-81d0-18bc1a79d177\",\"type\":\"Range1d\"},{\"attributes\":{\"callback\":null,\"end\":0.01,\"start\":1020},\"id\":\"5b04e8b2-42f5-40c8-81d8-563f98a7b4e3\",\"type\":\"Range1d\"},{\"attributes\":{\"plot\":{\"id\":\"e82016e3-e361-401b-9870-1baa7b13fbe0\",\"subtype\":\"Figure\",\"type\":\"Plot\"},\"ticker\":{\"id\":\"db23428e-3b36-4c35-be6d-1b057e12da20\",\"type\":\"BasicTicker\"}},\"id\":\"0b326352-7775-44ee-9bea-1177f1529d1f\",\"type\":\"Grid\"},{\"attributes\":{},\"id\":\"23efa72a-3227-40cb-9f95-f6d1a2761067\",\"type\":\"LinearScale\"},{\"attributes\":{\"fill_alpha\":{\"value\":0.7},\"fill_color\":{\"value\":\"#4daf4a\"},\"line_alpha\":{\"value\":0.7},\"line_color\":{\"value\":\"#4daf4a\"},\"x\":{\"field\":\"x\"},\"y\":{\"field\":\"y\"}},\"id\":\"5da95673-811f-488c-b037-a4382764e30f\",\"type\":\"Circle\"},{\"attributes\":{\"source\":{\"id\":\"3f79f3b1-900c-4e42-a2c5-68b0979083b9\",\"type\":\"ColumnDataSource\"}},\"id\":\"30b9ada3-48a2-404a-a490-debf498cbfdb\",\"type\":\"CDSView\"},{\"attributes\":{\"data_source\":{\"id\":\"4e90254b-42a1-4ef9-9f82-b37aa384511c\",\"type\":\"ColumnDataSource\"},\"glyph\":{\"id\":\"1cef13fc-db12-4f91-8125-a8b4396a9b33\",\"type\":\"Line\"},\"hover_glyph\":null,\"muted_glyph\":null,\"nonselection_glyph\":{\"id\":\"e3e86c60-ecd1-4385-829f-3954d4b3fb1d\",\"type\":\"Line\"},\"selection_glyph\":null,\"view\":{\"id\":\"91440d0a-5692-4c65-a32a-7ff9c09f3559\",\"type\":\"CDSView\"}},\"id\":\"7bcb8603-a23f-4d0d-9a6f-48ff94bb0017\",\"type\":\"GlyphRenderer\"},{\"attributes\":{\"dimension\":1,\"plot\":{\"id\":\"e82016e3-e361-401b-9870-1baa7b13fbe0\",\"subtype\":\"Figure\",\"type\":\"Plot\"},\"ticker\":{\"id\":\"88076a0d-4900-466e-a50a-38f7273675d4\",\"type\":\"LogTicker\"}},\"id\":\"601a4878-130d-4e20-8bc9-447dae090ea3\",\"type\":\"Grid\"},{\"attributes\":{},\"id\":\"8f9e0f05-f153-4a5c-bd90-bba1ba600b54\",\"type\":\"UnionRenderers\"},{\"attributes\":{\"callback\":null,\"data\":{\"x\":{\"__ndarray__\":\"Ay4WgzmiRUAzdH4xyelCQI/4CCUPukFAmDQrpSkbQEAzbNWwowU8QFVgF/XlEDdAoDiHgYPLMUABmdymgcIpQGLYd07xCSJArfSs310nGkAWc9HvWtkUQOusy4pytBFAJqIBIKFJDUB2OQnHDJMDQMl96Kg58fU/43VcVuWK+j82Bjz+TzEFQNyoIwf3DQtAy+LYYlLgEEBpIj3ZQhcWQG2pjOCj/R1Af3bvKgrVJEABDCYXO8wqQEzO0e7F+ylAYXLSO7hOJEAgnb4nokcgQNoX8+gOZBtA1Mo1E7QFFkBNX8S4nigRQOo4z07g4AtAipA4vs4ICEB/nUqZ58sCQFWembm6Bfo/xtoM8LVF8T+FTjDicHrnPwW0NlGD6Ns/djxG7dEQzT/kgWfK0UXAP04e7p6uAKO/U8LMJsVjyb/9SNhTfdyDv6yHiyRvwuc/YH/Q96J+9z8fz8lq9RYAQHNa8arPlwFA6C5g8skGAEDf2G6Pg0P+Pzx05xsQIv0/aqvhULpq/D9/cRIK1jv8P0N2gFVlV/w/l8yGPE/u+z8PyvyTInP7P5+BCjLJB/s/712TDke9+j855FpFY4f6P7S7Qdxnhfo/BEctRHOb+z/jcb7JUHz8P62m1jeD/vw/Kl5ga3r9/D8lrYwPuV38Pz+eRmufRvs/QIGudyMW+j/FXLa7nv/4P2WVJw9Rbfg/CejmZKc8+D+aZMjXvDf4PwzcqrkWtPc/y2300tGk9j+PCzl883P1P+ux3ZfUiPQ/9dhElUIR9D9+kji0k0T0P9hVz+l87/o/\",\"dtype\":\"float64\",\"shape\":[75]},\"y\":{\"__ndarray__\":\"S/O/Q+51ND/Sv8nbtpRIP2vylNV0PVE/aTum7souWD/At0SJ8fVgPw3Iuahxymc/MSNhhJWvcD/bTfBN02d3P2zb5nxnaoA/CD5h5MAGhz8NmeH1TyaQP+zrCsc9p5Y/LbKd76fGnz/bLW5ISEmmPww9YvTcQq8/JV2OstnstT8Er5Y7M8G+P0c+r3jqkcU/5h99k6ZBzj88bCIzFzjVP4enV8oyxN0//yH99nXg5D8qOpLLf0jtP5kqGJXUifQ/c9cS8kHP/D+/DpwzojQEQIEmwoanVwxA4lgXt9HgE0BSSZ2AJuIbQAMJih9jjiNA5q4l5INuK0AwTKYKRj0zQNv5fmq8/DpAaCJseHrtQkB/+zpwzoxKQM3MzMzMeFJAZmZmZmZqWEAAAAAAAFxeQM3MzMzMJmJAmpmZmZkfZUBmZmZmZhhoQDMzMzMzEWtAAAAAAAAKbkBmZmZmZoFwQM3MzMzM/XFAMzMzMzN6c0CamZmZmfZ0QAAAAAAAc3ZAZmZmZmbvd0DNzMzMzGt5QDMzMzMz6HpAmpmZmZlkfEAAAAAAAOF9QGZmZmZmXX9AZmZmZuZsgECamZmZGSuBQM3MzMxM6YFAAAAAAICngkAzMzMzs2WDQGZmZmbmI4RAmpmZmRnihEDNzMzMTKCFQAAAAACAXoZAMzMzM7Mch0BmZmZm5tqHQJqZmZkZmYhAzczMzExXiUAAAAAAgBWKQDMzMzOz04pAZmZmZuaRi0CamZmZGVCMQM3MzMxMDo1AAAAAAIDMjUAzMzMzs4qOQGZmZmbmSI9A\",\"dtype\":\"float64\",\"shape\":[75]}},\"selected\":{\"id\":\"6554ee10-8d40-46b1-821e-0ac6f0743a4b\",\"type\":\"Selection\"},\"selection_policy\":{\"id\":\"446aeb53-dec5-4b1a-baa5-8cbdc9eb99d3\",\"type\":\"UnionRenderers\"}},\"id\":\"4e90254b-42a1-4ef9-9f82-b37aa384511c\",\"type\":\"ColumnDataSource\"},{\"attributes\":{\"line_color\":\"#4daf4a\",\"line_width\":1.5,\"x\":{\"field\":\"x\"},\"y\":{\"field\":\"y\"}},\"id\":\"8efeea71-6f88-48d7-b5bf-1b1787c2fc1c\",\"type\":\"Line\"},{\"attributes\":{\"callback\":null,\"end\":13.587992271510018,\"start\":-0.33485575257202},\"id\":\"09cfb68c-da8f-4755-a8a5-205f12e3b69e\",\"type\":\"Range1d\"},{\"attributes\":{\"callback\":null,\"data\":{\"x\":{\"__ndarray__\":\"cm1sTMT3VEDEyvjosEJHQOKI6DjzCUNArgQWV9awPkB9Lm8XG3M4QEz+Qv6iYzNA7eV8HaPLLkCX1QHyTpMoQFBmYSYetiNAUB04GtGpH0AmFyVE5j8ZQJca9QPGqBNALJP+OOHHDEBNxaf7QF8AQKtislomWuw/cW2dcO6A9T/uJJvfPu0EQIaQLTI/JQ1AxGiII+PmEkCJvfVeuCsYQD6ZBhGbHB9AXQw69DTYJEAsubcwKucqQNuT9D5OmipAJyi3szEJJUBlNebh5WkgQDDcPHBr2xlArtlANXuQFEBdJadFHckQQI2Avh0ZsQtAjYiwt1rsBUCL0SDoVBgAQK6C0nEEjvc/CggLSme58T9sXU2orFPnP0v0JYz9Gdg/vT38vxYczD9nBQTe6kHHP1IhkEXJwKo/8OZnhCVAub+xtVgCpmqzP6DUpY6g0+k/PKK3T1h4+D8RTDjQc1EAQG/dAQs7TwJAQt2eHpPLAEBWEh074x//PyCap9ZSGf4/rEzaTySm/T+7aXhHRmr9P688KeqeNP0/ruZ4EemD/D8olrZcn9T7P0+vNc9hW/s/i9VVL+4P+z+0NzC24uz6P8731Kza8vo/xFf4SHzq+z+gYyHpvHb8P68ROkiFevw/BAjYdCga/D8AUp8VbW77P3JrF/nKmvo/qCQeGfq++T/dplwHJfn4P2G4p+Uva/g/OzZ0RqMZ+D8dmn/iar73P/OuA7Ka8PY/gaaeQHGn9T9hkyjAH1L0P3aZGhdAU/M/n8VP/g7P8j+90HxHNvfyPwhNBtgrqvk/\",\"dtype\":\"float64\",\"shape\":[75]},\"y\":{\"__ndarray__\":\"GhExyth1ND/Sv8nbtpRIP2vylNV0PVE/aTum7souWD/At0SJ8fVgPw3Iuahxymc/MSNhhJWvcD/bTfBN02d3P2zb5nxnaoA/CD5h5MAGhz8NmeH1TyaQP+zrCsc9p5Y/LbKd76fGnz/bLW5ISEmmPww9YvTcQq8/JV2OstnstT8Er5Y7M8G+P0c+r3jqkcU/5h99k6ZBzj88bCIzFzjVP4enV8oyxN0//yH99nXg5D8qOpLLf0jtP5kqGJXUifQ/c9cS8kHP/D+/DpwzojQEQIEmwoanVwxA4lgXt9HgE0BSSZ2AJuIbQAMJih9jjiNA5q4l5INuK0AwTKYKRj0zQNv5fmq8/DpAaCJseHrtQkB/+zpwzoxKQM3MzMzMeFJAZmZmZmZqWEAAAAAAAFxeQM3MzMzMJmJAmpmZmZkfZUBmZmZmZhhoQDMzMzMzEWtAAAAAAAAKbkBmZmZmZoFwQM3MzMzM/XFAMzMzMzN6c0CamZmZmfZ0QAAAAAAAc3ZAZmZmZmbvd0DNzMzMzGt5QDMzMzMz6HpAmpmZmZlkfEAAAAAAAOF9QGZmZmZmXX9AZmZmZuZsgECamZmZGSuBQM3MzMxM6YFAAAAAAICngkAzMzMzs2WDQGZmZmbmI4RAmpmZmRnihEDNzMzMTKCFQAAAAACAXoZAMzMzM7Mch0BmZmZm5tqHQJqZmZkZmYhAzczMzExXiUAAAAAAgBWKQDMzMzOz04pAZmZmZuaRi0CamZmZGVCMQM3MzMxMDo1AAAAAAIDMjUAzMzMzs4qOQGZmZmbmSI9A\",\"dtype\":\"float64\",\"shape\":[75]}},\"selected\":{\"id\":\"7507a637-c725-4254-aaea-8960578d759b\",\"type\":\"Selection\"},\"selection_policy\":{\"id\":\"b1edd3eb-be44-4ea4-b6b1-2cf93bfe93f5\",\"type\":\"UnionRenderers\"}},\"id\":\"227cd3eb-cb07-488d-81fb-880762b9a316\",\"type\":\"ColumnDataSource\"},{\"attributes\":{\"line_color\":\"#4daf4a\",\"line_width\":1.5,\"x\":{\"field\":\"x\"},\"y\":{\"field\":\"y\"}},\"id\":\"d7e25891-32d1-47a1-bdbb-d07059f596e6\",\"type\":\"Line\"},{\"attributes\":{},\"id\":\"6554ee10-8d40-46b1-821e-0ac6f0743a4b\",\"type\":\"Selection\"},{\"attributes\":{\"callback\":null,\"data\":{\"x\":{\"__ndarray__\":\"cm1sTMT3VEDEyvjosEJHQOKI6DjzCUNArgQWV9awPkB9Lm8XG3M4QEz+Qv6iYzNA7eV8HaPLLkCX1QHyTpMoQFBmYSYetiNAUB04GtGpH0AmFyVE5j8ZQJca9QPGqBNALJP+OOHHDEBNxaf7QF8AQKtislomWuw/cW2dcO6A9T/uJJvfPu0EQIaQLTI/JQ1AxGiII+PmEkCJvfVeuCsYQD6ZBhGbHB9AXQw69DTYJEAsubcwKucqQNuT9D5OmipAJyi3szEJJUBlNebh5WkgQDDcPHBr2xlArtlANXuQFEBdJadFHckQQI2Avh0ZsQtAjYiwt1rsBUCL0SDoVBgAQK6C0nEEjvc/CggLSme58T9sXU2orFPnP0v0JYz9Gdg/vT38vxYczD9nBQTe6kHHP1IhkEXJwKo/8OZnhCVAub+xtVgCpmqzP6DUpY6g0+k/PKK3T1h4+D8RTDjQc1EAQG/dAQs7TwJAQt2eHpPLAEBWEh074x//PyCap9ZSGf4/rEzaTySm/T+7aXhHRmr9P688KeqeNP0/ruZ4EemD/D8olrZcn9T7P0+vNc9hW/s/i9VVL+4P+z+0NzC24uz6P8731Kza8vo/xFf4SHzq+z+gYyHpvHb8P68ROkiFevw/BAjYdCga/D8AUp8VbW77P3JrF/nKmvo/qCQeGfq++T/dplwHJfn4P2G4p+Uva/g/OzZ0RqMZ+D8dmn/iar73P/OuA7Ka8PY/gaaeQHGn9T9hkyjAH1L0P3aZGhdAU/M/n8VP/g7P8j+90HxHNvfyPwhNBtgrqvk/\",\"dtype\":\"float64\",\"shape\":[75]},\"y\":{\"__ndarray__\":\"GhExyth1ND/Sv8nbtpRIP2vylNV0PVE/aTum7souWD/At0SJ8fVgPw3Iuahxymc/MSNhhJWvcD/bTfBN02d3P2zb5nxnaoA/CD5h5MAGhz8NmeH1TyaQP+zrCsc9p5Y/LbKd76fGnz/bLW5ISEmmPww9YvTcQq8/JV2OstnstT8Er5Y7M8G+P0c+r3jqkcU/5h99k6ZBzj88bCIzFzjVP4enV8oyxN0//yH99nXg5D8qOpLLf0jtP5kqGJXUifQ/c9cS8kHP/D+/DpwzojQEQIEmwoanVwxA4lgXt9HgE0BSSZ2AJuIbQAMJih9jjiNA5q4l5INuK0AwTKYKRj0zQNv5fmq8/DpAaCJseHrtQkB/+zpwzoxKQM3MzMzMeFJAZmZmZmZqWEAAAAAAAFxeQM3MzMzMJmJAmpmZmZkfZUBmZmZmZhhoQDMzMzMzEWtAAAAAAAAKbkBmZmZmZoFwQM3MzMzM/XFAMzMzMzN6c0CamZmZmfZ0QAAAAAAAc3ZAZmZmZmbvd0DNzMzMzGt5QDMzMzMz6HpAmpmZmZlkfEAAAAAAAOF9QGZmZmZmXX9AZmZmZuZsgECamZmZGSuBQM3MzMxM6YFAAAAAAICngkAzMzMzs2WDQGZmZmbmI4RAmpmZmRnihEDNzMzMTKCFQAAAAACAXoZAMzMzM7Mch0BmZmZm5tqHQJqZmZkZmYhAzczMzExXiUAAAAAAgBWKQDMzMzOz04pAZmZmZuaRi0CamZmZGVCMQM3MzMxMDo1AAAAAAIDMjUAzMzMzs4qOQGZmZmbmSI9A\",\"dtype\":\"float64\",\"shape\":[75]}},\"selected\":{\"id\":\"96ffac2a-741d-4009-95de-863e9243b039\",\"type\":\"Selection\"},\"selection_policy\":{\"id\":\"d3acf6da-2b19-4d6f-9c81-868fad28e07a\",\"type\":\"UnionRenderers\"}},\"id\":\"5c758463-9ddd-47ef-bc3a-a4eeca20fa73\",\"type\":\"ColumnDataSource\"},{\"attributes\":{\"callback\":null,\"data\":{\"x\":{\"__ndarray__\":\"Ay4WgzmiRUAzdH4xyelCQI/4CCUPukFAmDQrpSkbQEAzbNWwowU8QFVgF/XlEDdAoDiHgYPLMUABmdymgcIpQGLYd07xCSJArfSs310nGkAWc9HvWtkUQOusy4pytBFAJqIBIKFJDUB2OQnHDJMDQMl96Kg58fU/43VcVuWK+j82Bjz+TzEFQNyoIwf3DQtAy+LYYlLgEEBpIj3ZQhcWQG2pjOCj/R1Af3bvKgrVJEABDCYXO8wqQEzO0e7F+ylAYXLSO7hOJEAgnb4nokcgQNoX8+gOZBtA1Mo1E7QFFkBNX8S4nigRQOo4z07g4AtAipA4vs4ICEB/nUqZ58sCQFWembm6Bfo/xtoM8LVF8T+FTjDicHrnPwW0NlGD6Ns/djxG7dEQzT/kgWfK0UXAP04e7p6uAKO/U8LMJsVjyb/9SNhTfdyDv6yHiyRvwuc/YH/Q96J+9z8fz8lq9RYAQHNa8arPlwFA6C5g8skGAEDf2G6Pg0P+Pzx05xsQIv0/aqvhULpq/D9/cRIK1jv8P0N2gFVlV/w/l8yGPE/u+z8PyvyTInP7P5+BCjLJB/s/712TDke9+j855FpFY4f6P7S7Qdxnhfo/BEctRHOb+z/jcb7JUHz8P62m1jeD/vw/Kl5ga3r9/D8lrYwPuV38Pz+eRmufRvs/QIGudyMW+j/FXLa7nv/4P2WVJw9Rbfg/CejmZKc8+D+aZMjXvDf4PwzcqrkWtPc/y2300tGk9j+PCzl883P1P+ux3ZfUiPQ/9dhElUIR9D9+kji0k0T0P9hVz+l87/o/\",\"dtype\":\"float64\",\"shape\":[75]},\"y\":{\"__ndarray__\":\"S/O/Q+51ND/Sv8nbtpRIP2vylNV0PVE/aTum7souWD/At0SJ8fVgPw3Iuahxymc/MSNhhJWvcD/bTfBN02d3P2zb5nxnaoA/CD5h5MAGhz8NmeH1TyaQP+zrCsc9p5Y/LbKd76fGnz/bLW5ISEmmPww9YvTcQq8/JV2OstnstT8Er5Y7M8G+P0c+r3jqkcU/5h99k6ZBzj88bCIzFzjVP4enV8oyxN0//yH99nXg5D8qOpLLf0jtP5kqGJXUifQ/c9cS8kHP/D+/DpwzojQEQIEmwoanVwxA4lgXt9HgE0BSSZ2AJuIbQAMJih9jjiNA5q4l5INuK0AwTKYKRj0zQNv5fmq8/DpAaCJseHrtQkB/+zpwzoxKQM3MzMzMeFJAZmZmZmZqWEAAAAAAAFxeQM3MzMzMJmJAmpmZmZkfZUBmZmZmZhhoQDMzMzMzEWtAAAAAAAAKbkBmZmZmZoFwQM3MzMzM/XFAMzMzMzN6c0CamZmZmfZ0QAAAAAAAc3ZAZmZmZmbvd0DNzMzMzGt5QDMzMzMz6HpAmpmZmZlkfEAAAAAAAOF9QGZmZmZmXX9AZmZmZuZsgECamZmZGSuBQM3MzMxM6YFAAAAAAICngkAzMzMzs2WDQGZmZmbmI4RAmpmZmRnihEDNzMzMTKCFQAAAAACAXoZAMzMzM7Mch0BmZmZm5tqHQJqZmZkZmYhAzczMzExXiUAAAAAAgBWKQDMzMzOz04pAZmZmZuaRi0CamZmZGVCMQM3MzMxMDo1AAAAAAIDMjUAzMzMzs4qOQGZmZmbmSI9A\",\"dtype\":\"float64\",\"shape\":[75]}},\"selected\":{\"id\":\"7b891470-8338-4a00-aa58-e4dd8521bf9a\",\"type\":\"Selection\"},\"selection_policy\":{\"id\":\"61fa2914-cbfe-408f-819a-1866badc29bd\",\"type\":\"UnionRenderers\"}},\"id\":\"8df27fcc-4a95-4c5d-b4a3-419c346bd4d0\",\"type\":\"ColumnDataSource\"},{\"attributes\":{\"source\":{\"id\":\"8df27fcc-4a95-4c5d-b4a3-419c346bd4d0\",\"type\":\"ColumnDataSource\"}},\"id\":\"536c771b-fc4f-48ae-b66c-78767c6083fb\",\"type\":\"CDSView\"},{\"attributes\":{\"num_minor_ticks\":10},\"id\":\"88076a0d-4900-466e-a50a-38f7273675d4\",\"type\":\"LogTicker\"},{\"attributes\":{\"label\":{\"value\":\"CLIRAD - CRD\"},\"renderers\":[{\"id\":\"9b51337f-7411-40ce-bb67-6df40cab3f0e\",\"type\":\"GlyphRenderer\"},{\"id\":\"491be2df-3a31-4d62-a01a-94e60714487d\",\"type\":\"GlyphRenderer\"}]},\"id\":\"6abc7433-6c5a-4b07-ba84-502304767253\",\"type\":\"LegendItem\"},{\"attributes\":{\"callback\":null,\"data\":{\"x\":{\"__ndarray__\":\"cm1sTMT3VEDEyvjosEJHQOKI6DjzCUNArgQWV9awPkB9Lm8XG3M4QEz+Qv6iYzNA7eV8HaPLLkCX1QHyTpMoQFBmYSYetiNAUB04GtGpH0AmFyVE5j8ZQJca9QPGqBNALJP+OOHHDEBNxaf7QF8AQKtislomWuw/cW2dcO6A9T/uJJvfPu0EQIaQLTI/JQ1AxGiII+PmEkCJvfVeuCsYQD6ZBhGbHB9AXQw69DTYJEAsubcwKucqQNuT9D5OmipAJyi3szEJJUBlNebh5WkgQDDcPHBr2xlArtlANXuQFEBdJadFHckQQI2Avh0ZsQtAjYiwt1rsBUCL0SDoVBgAQK6C0nEEjvc/CggLSme58T9sXU2orFPnP0v0JYz9Gdg/vT38vxYczD9nBQTe6kHHP1IhkEXJwKo/8OZnhCVAub+xtVgCpmqzP6DUpY6g0+k/PKK3T1h4+D8RTDjQc1EAQG/dAQs7TwJAQt2eHpPLAEBWEh074x//PyCap9ZSGf4/rEzaTySm/T+7aXhHRmr9P688KeqeNP0/ruZ4EemD/D8olrZcn9T7P0+vNc9hW/s/i9VVL+4P+z+0NzC24uz6P8731Kza8vo/xFf4SHzq+z+gYyHpvHb8P68ROkiFevw/BAjYdCga/D8AUp8VbW77P3JrF/nKmvo/qCQeGfq++T/dplwHJfn4P2G4p+Uva/g/OzZ0RqMZ+D8dmn/iar73P/OuA7Ka8PY/gaaeQHGn9T9hkyjAH1L0P3aZGhdAU/M/n8VP/g7P8j+90HxHNvfyPwhNBtgrqvk/\",\"dtype\":\"float64\",\"shape\":[75]},\"y\":{\"__ndarray__\":\"GhExyth1ND/Sv8nbtpRIP2vylNV0PVE/aTum7souWD/At0SJ8fVgPw3Iuahxymc/MSNhhJWvcD/bTfBN02d3P2zb5nxnaoA/CD5h5MAGhz8NmeH1TyaQP+zrCsc9p5Y/LbKd76fGnz/bLW5ISEmmPww9YvTcQq8/JV2OstnstT8Er5Y7M8G+P0c+r3jqkcU/5h99k6ZBzj88bCIzFzjVP4enV8oyxN0//yH99nXg5D8qOpLLf0jtP5kqGJXUifQ/c9cS8kHP/D+/DpwzojQEQIEmwoanVwxA4lgXt9HgE0BSSZ2AJuIbQAMJih9jjiNA5q4l5INuK0AwTKYKRj0zQNv5fmq8/DpAaCJseHrtQkB/+zpwzoxKQM3MzMzMeFJAZmZmZmZqWEAAAAAAAFxeQM3MzMzMJmJAmpmZmZkfZUBmZmZmZhhoQDMzMzMzEWtAAAAAAAAKbkBmZmZmZoFwQM3MzMzM/XFAMzMzMzN6c0CamZmZmfZ0QAAAAAAAc3ZAZmZmZmbvd0DNzMzMzGt5QDMzMzMz6HpAmpmZmZlkfEAAAAAAAOF9QGZmZmZmXX9AZmZmZuZsgECamZmZGSuBQM3MzMxM6YFAAAAAAICngkAzMzMzs2WDQGZmZmbmI4RAmpmZmRnihEDNzMzMTKCFQAAAAACAXoZAMzMzM7Mch0BmZmZm5tqHQJqZmZkZmYhAzczMzExXiUAAAAAAgBWKQDMzMzOz04pAZmZmZuaRi0CamZmZGVCMQM3MzMxMDo1AAAAAAIDMjUAzMzMzs4qOQGZmZmbmSI9A\",\"dtype\":\"float64\",\"shape\":[75]}},\"selected\":{\"id\":\"b6c8be45-5d22-4469-a93e-f6b2db267dcb\",\"type\":\"Selection\"},\"selection_policy\":{\"id\":\"759a7048-d22c-4bbf-bcf6-304e0022f3a5\",\"type\":\"UnionRenderers\"}},\"id\":\"d0dd3ea1-e9dc-4d5b-b9c8-be75cd5829ea\",\"type\":\"ColumnDataSource\"},{\"attributes\":{},\"id\":\"db23428e-3b36-4c35-be6d-1b057e12da20\",\"type\":\"BasicTicker\"},{\"attributes\":{\"data_source\":{\"id\":\"227cd3eb-cb07-488d-81fb-880762b9a316\",\"type\":\"ColumnDataSource\"},\"glyph\":{\"id\":\"5da95673-811f-488c-b037-a4382764e30f\",\"type\":\"Circle\"},\"hover_glyph\":null,\"muted_glyph\":null,\"nonselection_glyph\":{\"id\":\"9f7406a2-46f9-4653-8384-51b9eb6fca78\",\"type\":\"Circle\"},\"selection_glyph\":null,\"view\":{\"id\":\"9d232902-8dad-4bb5-98ab-5cf0de27558d\",\"type\":\"CDSView\"}},\"id\":\"4e9df55a-f962-428d-9fe9-8e63bc8eafe6\",\"type\":\"GlyphRenderer\"},{\"attributes\":{\"num_minor_ticks\":10},\"id\":\"1e65f14f-6633-4d4c-ab46-cfba359dd065\",\"type\":\"LogTicker\"},{\"attributes\":{\"callback\":null,\"data\":{\"x\":{\"__ndarray__\":\"Plrp3Z5jIcBKBfk9Qf4EwAhIBjTPV/g/re0xy0SUDEBKEKO2F2oNQEotRpaPLQNAtDasTSvz4j/Y3ph+zcLqv4miLOrMCfa/OZBOUS2a8b+Z2paSN0Xfv1rfYeD8N7A/VKELW16e2T/SMT3umRDfP8gh/JbbJ9Q/51E4qEcEoT9WPU9YQbrQv7cvfAWGNOC/FNnELayj4L8H/Z4Hc+/RvyD2rlRKVnm/oiytkRnvqr/asVgECtHTv8S4lvwuT9e/lyLME90hsb+NumOLN4rYP2kST9+NU9c/ZHxOx1zgtz+8LlyImOOXP/M/QDSg49A/o19OiZWc1T8r3Tg+sr3DPwNRi39W7Jy/pot48Rxicz/M/YUoLnSuP9PWP6lll34/EA5yTmTwq7/VHz/yu+C2v7idMclkh7m/zr7TrDXmtb+tZ9JQi4mwv8Fb5PyqNq+/RXg+tzI/nb9kXxACbO22vyPL1Yclmbi/Ni/HdfWLq7+VvARYV+iuvywUiu+ftrO/2INf1gPnsr90zRiVMqerv/ZCQ546s6K/UwZzLjJfmL8ZbMtKJ+aUvwLnnTDIqZS/eN5UNdxfmb8dBs8ktFybvzkwxDJBwpO/qA45dIJPVj+1n5LzvX+gP9DECtE+aqw/zGSrPX/prT+uWeZFjnqlPxImF6RXypU/0KnXZtHmWT8AGej+SwlBPzTnWDkPgoE/Lp8yUn1Unj87o+X0gG+oP3LpuEoSrK8/6IIHwTsdsj9OhzEMSFmzP2c1UW85I7Q/Hxy8y9bVtD8HjZAcEVW0Pw==\",\"dtype\":\"float64\",\"shape\":[74]},\"y\":{\"__ndarray__\":\"0r/J27aUSD9r8pTVdD1RP2k7pu7KLlg/wLdEifH1YD8NyLmoccpnPzEjYYSVr3A/203wTdNndz9s2+Z8Z2qAPwg+YeTABoc/DZnh9U8mkD/s6wrHPaeWPy2yne+nxp8/2y1uSEhJpj8MPWL03EKvPyVdjrLZ7LU/BK+WOzPBvj9HPq946pHFP+YffZOmQc4/PGwiMxc41T+Hp1fKMsTdP/8h/fZ14OQ/KjqSy39I7T+ZKhiV1In0P3PXEvJBz/w/vw6cM6I0BECBJsKGp1cMQOJYF7fR4BNAUkmdgCbiG0ADCYofY44jQOauJeSDbitAMEymCkY9M0Db+X5qvPw6QGgibHh67UJAf/s6cM6MSkDNzMzMzHhSQGZmZmZmalhAAAAAAABcXkDNzMzMzCZiQJqZmZmZH2VAZmZmZmYYaEAzMzMzMxFrQAAAAAAACm5AZmZmZmaBcEDNzMzMzP1xQDMzMzMzenNAmpmZmZn2dEAAAAAAAHN2QGZmZmZm73dAzczMzMxreUAzMzMzM+h6QJqZmZmZZHxAAAAAAADhfUBmZmZmZl1/QGZmZmbmbIBAmpmZmRkrgUDNzMzMTOmBQAAAAACAp4JAMzMzM7Nlg0BmZmZm5iOEQJqZmZkZ4oRAzczMzEyghUAAAAAAgF6GQDMzMzOzHIdAZmZmZubah0CamZmZGZmIQM3MzMxMV4lAAAAAAIAVikAzMzMzs9OKQGZmZmbmkYtAmpmZmRlQjEDNzMzMTA6NQAAAAACAzI1AMzMzM7OKjkBmZmZm5kiPQA==\",\"dtype\":\"float64\",\"shape\":[74]}},\"selected\":{\"id\":\"1ae8e69b-c72c-4cb7-bb71-7a6f9285924a\",\"type\":\"Selection\"},\"selection_policy\":{\"id\":\"8f9e0f05-f153-4a5c-bd90-bba1ba600b54\",\"type\":\"UnionRenderers\"}},\"id\":\"7da1689f-7f38-4bb1-8bab-e9b1c90f4bee\",\"type\":\"ColumnDataSource\"},{\"attributes\":{},\"id\":\"e718d8a3-bce2-467a-9922-c7278dcd2095\",\"type\":\"WheelZoomTool\"}],\"root_ids\":[\"524985db-b17f-4bb6-8669-fab168d0cd81\"]},\"title\":\"Bokeh Application\",\"version\":\"0.12.16\"}};\n",
       "  var render_items = [{\"docid\":\"b00a5644-504a-47e0-943f-66d716b268f9\",\"elementid\":\"e70f1db0-bdfe-4237-b981-21177829588d\",\"modelid\":\"524985db-b17f-4bb6-8669-fab168d0cd81\"}];\n",
       "  root.Bokeh.embed.embed_items_notebook(docs_json, render_items);\n",
       "\n",
       "  }\n",
       "  if (root.Bokeh !== undefined) {\n",
       "    embed_document(root);\n",
       "  } else {\n",
       "    var attempts = 0;\n",
       "    var timer = setInterval(function(root) {\n",
       "      if (root.Bokeh !== undefined) {\n",
       "        embed_document(root);\n",
       "        clearInterval(timer);\n",
       "      }\n",
       "      attempts++;\n",
       "      if (attempts > 100) {\n",
       "        console.log(\"Bokeh: ERROR: Unable to run BokehJS code because BokehJS library is missing\")\n",
       "        clearInterval(timer);\n",
       "      }\n",
       "    }, 10, root)\n",
       "  }\n",
       "})(window);"
      ],
      "application/vnd.bokehjs_exec.v0+json": ""
     },
     "metadata": {
      "application/vnd.bokehjs_exec.v0+json": {
       "id": "524985db-b17f-4bb6-8669-fab168d0cd81"
      }
     },
     "output_type": "display_data"
    },
    {
     "name": "stdout",
     "output_type": "stream",
     "text": [
      "Figure. Cooling rates & difference.\n",
      "\n"
     ]
    },
    {
     "data": {
      "text/html": [
       "<a id=\"Fluxes._saw.\"></a>"
      ],
      "text/plain": [
       "<IPython.core.display.HTML object>"
      ]
     },
     "metadata": {},
     "output_type": "display_data"
    },
    {
     "data": {
      "text/markdown": [
       "# Fluxes. saw."
      ],
      "text/plain": [
       "<IPython.core.display.Markdown object>"
      ]
     },
     "metadata": {},
     "output_type": "display_data"
    },
    {
     "data": {
      "text/html": [
       "\n",
       "<div class=\"bk-root\">\n",
       "    <div class=\"bk-plotdiv\" id=\"eec4da2c-fed4-4001-8a78-4282c741159a\"></div>\n",
       "</div>"
      ]
     },
     "metadata": {},
     "output_type": "display_data"
    },
    {
     "data": {
      "application/javascript": [
       "(function(root) {\n",
       "  function embed_document(root) {\n",
       "    \n",
       "  var docs_json = {\"24fc0025-6ca0-437d-8189-b3b379d6a2a9\":{\"roots\":{\"references\":[{\"attributes\":{},\"id\":\"7fc4ae0b-44e0-4381-b1b7-04f8fe892660\",\"type\":\"CategoricalTickFormatter\"},{\"attributes\":{},\"id\":\"20576cc6-98b2-4a7a-8d96-44ab856b31c0\",\"type\":\"SaveTool\"},{\"attributes\":{},\"id\":\"7073d93f-88b2-45b8-82d5-9107a90f919d\",\"type\":\"BasicTicker\"},{\"attributes\":{},\"id\":\"a8bb43c9-f580-4f8d-9ade-6279a39c9716\",\"type\":\"UnionRenderers\"},{\"attributes\":{\"active_drag\":\"auto\",\"active_inspect\":\"auto\",\"active_scroll\":\"auto\",\"active_tap\":\"auto\",\"tools\":[{\"id\":\"3d58ffe9-39e1-44d3-acf3-6abc6dc0583c\",\"type\":\"PanTool\"},{\"id\":\"a564b385-ce94-4de7-ba72-0bb238ce650c\",\"type\":\"WheelZoomTool\"},{\"id\":\"78fc1529-3a54-4dda-91ba-e47055c399eb\",\"type\":\"BoxZoomTool\"},{\"id\":\"20576cc6-98b2-4a7a-8d96-44ab856b31c0\",\"type\":\"SaveTool\"},{\"id\":\"6d9255e6-38c2-4f3b-ab76-bcb7cd067c0e\",\"type\":\"ResetTool\"},{\"id\":\"98e119ed-2fb5-4b77-a2b3-7d46ef4688d2\",\"type\":\"HelpTool\"}]},\"id\":\"61529cae-87b4-4514-80b4-998a3dfdadf4\",\"type\":\"Toolbar\"},{\"attributes\":{},\"id\":\"06f7ccca-396b-468e-b89b-3b310a31717c\",\"type\":\"BasicTickFormatter\"},{\"attributes\":{\"callback\":null},\"id\":\"ec05e91e-490d-47ab-9007-f498345de776\",\"type\":\"DataRange1d\"},{\"attributes\":{},\"id\":\"78f47ea9-3dda-46c2-970f-11e5772ff17c\",\"type\":\"Selection\"},{\"attributes\":{\"overlay\":{\"id\":\"226661a7-e00b-45e6-b343-bbef1dce8acf\",\"type\":\"BoxAnnotation\"}},\"id\":\"78fc1529-3a54-4dda-91ba-e47055c399eb\",\"type\":\"BoxZoomTool\"},{\"attributes\":{\"dimension\":1,\"plot\":{\"id\":\"ce10c5f7-a551-41b9-a291-158bb172ada6\",\"subtype\":\"Figure\",\"type\":\"Plot\"},\"ticker\":{\"id\":\"0acdcde6-c404-4862-bfb5-eae2dd881364\",\"type\":\"BasicTicker\"}},\"id\":\"39cb3b6a-8402-451e-8c2e-6a4c2a7d6193\",\"type\":\"Grid\"},{\"attributes\":{},\"id\":\"be827cec-fb2f-49d2-bbdc-6d741e383e1f\",\"type\":\"CategoricalScale\"},{\"attributes\":{\"source\":{\"id\":\"6db05ee1-05c5-4a3e-8b85-6faffea06bb5\",\"type\":\"ColumnDataSource\"}},\"id\":\"ef2bac52-2355-45bc-94be-e6a6acaff423\",\"type\":\"CDSView\"},{\"attributes\":{},\"id\":\"67cbc837-4b4b-4a76-9a98-6084fb6f29c5\",\"type\":\"CategoricalTickFormatter\"},{\"attributes\":{\"fill_alpha\":{\"value\":0.1},\"fill_color\":{\"value\":\"#1f77b4\"},\"line_alpha\":{\"value\":0.1},\"line_color\":{\"value\":\"#1f77b4\"},\"top\":{\"field\":\"flux\"},\"width\":{\"value\":0.9},\"x\":{\"field\":\"band\"}},\"id\":\"53c02ce7-93ed-4393-a157-5d931c152b21\",\"type\":\"VBar\"},{\"attributes\":{\"callback\":null},\"id\":\"fd6882f7-c8b9-4da1-978a-c5be50b565b6\",\"type\":\"DataRange1d\"},{\"attributes\":{\"bottom_units\":\"screen\",\"fill_alpha\":{\"value\":0.5},\"fill_color\":{\"value\":\"lightgrey\"},\"left_units\":\"screen\",\"level\":\"overlay\",\"line_alpha\":{\"value\":1.0},\"line_color\":{\"value\":\"black\"},\"line_dash\":[4,4],\"line_width\":{\"value\":2},\"plot\":null,\"render_mode\":\"css\",\"right_units\":\"screen\",\"top_units\":\"screen\"},\"id\":\"226661a7-e00b-45e6-b343-bbef1dce8acf\",\"type\":\"BoxAnnotation\"},{\"attributes\":{\"callback\":null,\"factors\":[\"1\",\"2\",\"3\",\"4\",\"5\",\"6\",\"7\",\"8\",\"9\",\"10\",\"11\"]},\"id\":\"1ec49288-5303-435e-bd88-13eb00f3f5a6\",\"type\":\"FactorRange\"},{\"attributes\":{},\"id\":\"0acdcde6-c404-4862-bfb5-eae2dd881364\",\"type\":\"BasicTicker\"},{\"attributes\":{\"plot\":null,\"text\":\"Atmosphere heating. CLIRAD - CRD.\"},\"id\":\"8a94c0cf-9539-4979-8889-fb9c83a21d07\",\"type\":\"Title\"},{\"attributes\":{},\"id\":\"6d9255e6-38c2-4f3b-ab76-bcb7cd067c0e\",\"type\":\"ResetTool\"},{\"attributes\":{\"callback\":null,\"factors\":[\"1\",\"2\",\"3\",\"4\",\"5\",\"6\",\"7\",\"8\",\"9\",\"10\",\"11\"]},\"id\":\"5ade7aed-2377-4e92-b1b6-c683980047e9\",\"type\":\"FactorRange\"},{\"attributes\":{\"axis_label\":\"spectral band\",\"formatter\":{\"id\":\"38abe36a-cbd7-4868-81df-ad2de3135dc4\",\"type\":\"CategoricalTickFormatter\"},\"plot\":{\"id\":\"78346768-b044-423f-8546-6db76223f303\",\"subtype\":\"Figure\",\"type\":\"Plot\"},\"ticker\":{\"id\":\"d9f65771-bd41-4523-9963-cd394ee6cf3e\",\"type\":\"CategoricalTicker\"}},\"id\":\"e8e79f53-1e4c-452b-9582-d20ada137515\",\"type\":\"CategoricalAxis\"},{\"attributes\":{\"children\":[{\"id\":\"648d4838-84be-4c81-a60d-c524934bef54\",\"type\":\"ToolbarBox\"},{\"id\":\"5a60003d-22b6-47d1-a4b4-e15545a6bdc3\",\"type\":\"Column\"}]},\"id\":\"d0295fad-0438-4f04-99c6-cf34b3c4e9fc\",\"type\":\"Column\"},{\"attributes\":{},\"id\":\"d9f65771-bd41-4523-9963-cd394ee6cf3e\",\"type\":\"CategoricalTicker\"},{\"attributes\":{},\"id\":\"6eeb2d68-5b17-4245-af6c-b159bd43079d\",\"type\":\"Selection\"},{\"attributes\":{\"toolbar\":{\"id\":\"1e4200c8-da4a-4dcd-b83c-7779ce2dcec1\",\"type\":\"ProxyToolbar\"},\"toolbar_location\":\"above\"},\"id\":\"648d4838-84be-4c81-a60d-c524934bef54\",\"type\":\"ToolbarBox\"},{\"attributes\":{\"plot\":null,\"text\":\"SFC flux. CLIRAD - CRD.\"},\"id\":\"20d273dd-c566-4c65-9c20-959131aa8528\",\"type\":\"Title\"},{\"attributes\":{\"callback\":null,\"data\":{\"band\":[\"1\",\"2\",\"3\",\"4\",\"5\",\"6\",\"7\",\"8\",\"9\",\"10\",\"11\"],\"flux\":{\"__ndarray__\":\"AAAAAyUF9r4AaoKo+wDYP4DPYb68ANO/ANyul6YIsD+Adtzwu+nfPwAyj/zBwLM/AIEU4cvplz+gE/5W/PDBvwAFptO6DcY/AKBF71TAjT8ApFGBk22APw==\",\"dtype\":\"float64\",\"shape\":[11]}},\"selected\":{\"id\":\"78f47ea9-3dda-46c2-970f-11e5772ff17c\",\"type\":\"Selection\"},\"selection_policy\":{\"id\":\"a8bb43c9-f580-4f8d-9ade-6279a39c9716\",\"type\":\"UnionRenderers\"}},\"id\":\"cd61af24-4d9d-4ecb-bf63-88c89a5dbdae\",\"type\":\"ColumnDataSource\"},{\"attributes\":{},\"id\":\"d592f6e9-8e7f-4d1e-925c-6d71327f0827\",\"type\":\"BasicTickFormatter\"},{\"attributes\":{},\"id\":\"98e119ed-2fb5-4b77-a2b3-7d46ef4688d2\",\"type\":\"HelpTool\"},{\"attributes\":{},\"id\":\"f4b8e28c-c7f0-49dd-a704-51a322f69ba5\",\"type\":\"CategoricalTicker\"},{\"attributes\":{},\"id\":\"38abe36a-cbd7-4868-81df-ad2de3135dc4\",\"type\":\"CategoricalTickFormatter\"},{\"attributes\":{\"axis_label\":\"flux (W m-2)\",\"formatter\":{\"id\":\"73fa306e-95c5-4022-8259-5b31aae56be1\",\"type\":\"BasicTickFormatter\"},\"plot\":{\"id\":\"78346768-b044-423f-8546-6db76223f303\",\"subtype\":\"Figure\",\"type\":\"Plot\"},\"ticker\":{\"id\":\"7073d93f-88b2-45b8-82d5-9107a90f919d\",\"type\":\"BasicTicker\"}},\"id\":\"a224fd67-8c1a-4d26-9e80-0774da80df17\",\"type\":\"LinearAxis\"},{\"attributes\":{\"plot\":{\"id\":\"78346768-b044-423f-8546-6db76223f303\",\"subtype\":\"Figure\",\"type\":\"Plot\"},\"ticker\":{\"id\":\"d9f65771-bd41-4523-9963-cd394ee6cf3e\",\"type\":\"CategoricalTicker\"}},\"id\":\"b5396a63-6fed-4c17-8665-5886aac18199\",\"type\":\"Grid\"},{\"attributes\":{\"below\":[{\"id\":\"1a96d893-f7d8-4fcc-a401-2a6fdaea3733\",\"type\":\"CategoricalAxis\"}],\"left\":[{\"id\":\"a304ee21-d09e-400e-9184-aed0bf22e831\",\"type\":\"LinearAxis\"}],\"plot_height\":300,\"plot_width\":300,\"renderers\":[{\"id\":\"1a96d893-f7d8-4fcc-a401-2a6fdaea3733\",\"type\":\"CategoricalAxis\"},{\"id\":\"b7b079b4-09c2-4331-b5d0-abb0e85bbb6f\",\"type\":\"Grid\"},{\"id\":\"a304ee21-d09e-400e-9184-aed0bf22e831\",\"type\":\"LinearAxis\"},{\"id\":\"39cb3b6a-8402-451e-8c2e-6a4c2a7d6193\",\"type\":\"Grid\"},{\"id\":\"4f249857-2a60-4599-bba1-f004b18ea343\",\"type\":\"BoxAnnotation\"},{\"id\":\"c1447973-ff26-41f7-8773-59f00e04b166\",\"type\":\"GlyphRenderer\"}],\"title\":{\"id\":\"7e8028bd-c6a5-4edb-8ab2-c7b1ad509d64\",\"type\":\"Title\"},\"toolbar\":{\"id\":\"80d0cffa-4835-4350-b976-1e186f5333d6\",\"type\":\"Toolbar\"},\"toolbar_location\":null,\"x_range\":{\"id\":\"2b553ab9-7d1d-47d9-8248-6d9d8999070f\",\"type\":\"FactorRange\"},\"x_scale\":{\"id\":\"f35c9f31-f4d5-43a7-ae05-0aec79b27e66\",\"type\":\"CategoricalScale\"},\"y_range\":{\"id\":\"2e6a169a-3bc4-43fc-9df0-ad9d78ba9839\",\"type\":\"DataRange1d\"},\"y_scale\":{\"id\":\"20b7da17-6f6f-4911-bf8d-795515fd226c\",\"type\":\"LinearScale\"}},\"id\":\"ce10c5f7-a551-41b9-a291-158bb172ada6\",\"subtype\":\"Figure\",\"type\":\"Plot\"},{\"attributes\":{},\"id\":\"0c3e6528-bd8e-40ea-a023-dfde8ce1c9f8\",\"type\":\"UnionRenderers\"},{\"attributes\":{\"below\":[{\"id\":\"e8e79f53-1e4c-452b-9582-d20ada137515\",\"type\":\"CategoricalAxis\"}],\"left\":[{\"id\":\"a224fd67-8c1a-4d26-9e80-0774da80df17\",\"type\":\"LinearAxis\"}],\"plot_height\":300,\"plot_width\":300,\"renderers\":[{\"id\":\"e8e79f53-1e4c-452b-9582-d20ada137515\",\"type\":\"CategoricalAxis\"},{\"id\":\"b5396a63-6fed-4c17-8665-5886aac18199\",\"type\":\"Grid\"},{\"id\":\"a224fd67-8c1a-4d26-9e80-0774da80df17\",\"type\":\"LinearAxis\"},{\"id\":\"7471955c-7d26-4c83-981c-29f40f4e79b6\",\"type\":\"Grid\"},{\"id\":\"226661a7-e00b-45e6-b343-bbef1dce8acf\",\"type\":\"BoxAnnotation\"},{\"id\":\"85142bf4-4a96-4115-94c9-1d15a866e2c6\",\"type\":\"GlyphRenderer\"}],\"title\":{\"id\":\"8a94c0cf-9539-4979-8889-fb9c83a21d07\",\"type\":\"Title\"},\"toolbar\":{\"id\":\"61529cae-87b4-4514-80b4-998a3dfdadf4\",\"type\":\"Toolbar\"},\"toolbar_location\":null,\"x_range\":{\"id\":\"1ec49288-5303-435e-bd88-13eb00f3f5a6\",\"type\":\"FactorRange\"},\"x_scale\":{\"id\":\"6e72d187-2e33-491a-80ec-7cdda44a2a9a\",\"type\":\"CategoricalScale\"},\"y_range\":{\"id\":\"ec05e91e-490d-47ab-9007-f498345de776\",\"type\":\"DataRange1d\"},\"y_scale\":{\"id\":\"86091844-ec05-4259-a387-84640fce7dc3\",\"type\":\"LinearScale\"}},\"id\":\"78346768-b044-423f-8546-6db76223f303\",\"subtype\":\"Figure\",\"type\":\"Plot\"},{\"attributes\":{\"fill_color\":{\"value\":\"#1f77b4\"},\"line_color\":{\"value\":\"#1f77b4\"},\"top\":{\"field\":\"flux\"},\"width\":{\"value\":0.9},\"x\":{\"field\":\"band\"}},\"id\":\"f141e7ba-906c-4a25-8957-5447ccd74e1c\",\"type\":\"VBar\"},{\"attributes\":{},\"id\":\"a564b385-ce94-4de7-ba72-0bb238ce650c\",\"type\":\"WheelZoomTool\"},{\"attributes\":{\"axis_label\":\"flux (W m-2)\",\"formatter\":{\"id\":\"d592f6e9-8e7f-4d1e-925c-6d71327f0827\",\"type\":\"BasicTickFormatter\"},\"plot\":{\"id\":\"ce10c5f7-a551-41b9-a291-158bb172ada6\",\"subtype\":\"Figure\",\"type\":\"Plot\"},\"ticker\":{\"id\":\"0acdcde6-c404-4862-bfb5-eae2dd881364\",\"type\":\"BasicTicker\"}},\"id\":\"a304ee21-d09e-400e-9184-aed0bf22e831\",\"type\":\"LinearAxis\"},{\"attributes\":{\"dimension\":1,\"plot\":{\"id\":\"78346768-b044-423f-8546-6db76223f303\",\"subtype\":\"Figure\",\"type\":\"Plot\"},\"ticker\":{\"id\":\"7073d93f-88b2-45b8-82d5-9107a90f919d\",\"type\":\"BasicTicker\"}},\"id\":\"7471955c-7d26-4c83-981c-29f40f4e79b6\",\"type\":\"Grid\"},{\"attributes\":{\"tools\":[{\"id\":\"52afc35f-6166-44dc-89ef-e15510482653\",\"type\":\"PanTool\"},{\"id\":\"43e78e61-75e5-4721-bf67-d02d5afa1b8c\",\"type\":\"WheelZoomTool\"},{\"id\":\"a4bb3ae6-11bd-4f89-99ec-a8c1d0566316\",\"type\":\"BoxZoomTool\"},{\"id\":\"c356f9c0-0a34-4b49-a568-bd47422fd2e3\",\"type\":\"SaveTool\"},{\"id\":\"3b25df70-c33d-4e90-aa7c-38f720d2d6b9\",\"type\":\"ResetTool\"},{\"id\":\"0707dc78-5985-49b7-a616-11ec4c455d97\",\"type\":\"HelpTool\"},{\"id\":\"edbb4fbc-089a-4d4d-8d09-9fdabdc573cc\",\"type\":\"PanTool\"},{\"id\":\"3434c685-b632-4413-96bc-1fab7a6ebcc8\",\"type\":\"WheelZoomTool\"},{\"id\":\"dbdad283-e827-4210-8d0d-1ee8547c4b2e\",\"type\":\"BoxZoomTool\"},{\"id\":\"9013f23f-82ea-4687-b9a2-2b42f21782ea\",\"type\":\"SaveTool\"},{\"id\":\"7422718f-44e0-4a7b-b6af-86c61acbadf9\",\"type\":\"ResetTool\"},{\"id\":\"96771b4a-063b-4d6d-afd1-a1b65c8d0989\",\"type\":\"HelpTool\"},{\"id\":\"3d58ffe9-39e1-44d3-acf3-6abc6dc0583c\",\"type\":\"PanTool\"},{\"id\":\"a564b385-ce94-4de7-ba72-0bb238ce650c\",\"type\":\"WheelZoomTool\"},{\"id\":\"78fc1529-3a54-4dda-91ba-e47055c399eb\",\"type\":\"BoxZoomTool\"},{\"id\":\"20576cc6-98b2-4a7a-8d96-44ab856b31c0\",\"type\":\"SaveTool\"},{\"id\":\"6d9255e6-38c2-4f3b-ab76-bcb7cd067c0e\",\"type\":\"ResetTool\"},{\"id\":\"98e119ed-2fb5-4b77-a2b3-7d46ef4688d2\",\"type\":\"HelpTool\"}]},\"id\":\"1e4200c8-da4a-4dcd-b83c-7779ce2dcec1\",\"type\":\"ProxyToolbar\"},{\"attributes\":{\"active_drag\":\"auto\",\"active_inspect\":\"auto\",\"active_scroll\":\"auto\",\"active_tap\":\"auto\",\"tools\":[{\"id\":\"edbb4fbc-089a-4d4d-8d09-9fdabdc573cc\",\"type\":\"PanTool\"},{\"id\":\"3434c685-b632-4413-96bc-1fab7a6ebcc8\",\"type\":\"WheelZoomTool\"},{\"id\":\"dbdad283-e827-4210-8d0d-1ee8547c4b2e\",\"type\":\"BoxZoomTool\"},{\"id\":\"9013f23f-82ea-4687-b9a2-2b42f21782ea\",\"type\":\"SaveTool\"},{\"id\":\"7422718f-44e0-4a7b-b6af-86c61acbadf9\",\"type\":\"ResetTool\"},{\"id\":\"96771b4a-063b-4d6d-afd1-a1b65c8d0989\",\"type\":\"HelpTool\"}]},\"id\":\"28d3f504-3239-4f10-b990-53e5124729af\",\"type\":\"Toolbar\"},{\"attributes\":{},\"id\":\"86091844-ec05-4259-a387-84640fce7dc3\",\"type\":\"LinearScale\"},{\"attributes\":{},\"id\":\"3d58ffe9-39e1-44d3-acf3-6abc6dc0583c\",\"type\":\"PanTool\"},{\"attributes\":{\"data_source\":{\"id\":\"6db05ee1-05c5-4a3e-8b85-6faffea06bb5\",\"type\":\"ColumnDataSource\"},\"glyph\":{\"id\":\"f141e7ba-906c-4a25-8957-5447ccd74e1c\",\"type\":\"VBar\"},\"hover_glyph\":null,\"muted_glyph\":null,\"nonselection_glyph\":{\"id\":\"53c02ce7-93ed-4393-a157-5d931c152b21\",\"type\":\"VBar\"},\"selection_glyph\":null,\"view\":{\"id\":\"ef2bac52-2355-45bc-94be-e6a6acaff423\",\"type\":\"CDSView\"}},\"id\":\"85142bf4-4a96-4115-94c9-1d15a866e2c6\",\"type\":\"GlyphRenderer\"},{\"attributes\":{},\"id\":\"6e72d187-2e33-491a-80ec-7cdda44a2a9a\",\"type\":\"CategoricalScale\"},{\"attributes\":{},\"id\":\"c0509a86-663d-4675-9377-a73cd55e12dd\",\"type\":\"Selection\"},{\"attributes\":{\"children\":[{\"id\":\"eb36eb5c-e755-44dc-a7fd-5ce86aea23b4\",\"type\":\"Row\"}]},\"id\":\"5a60003d-22b6-47d1-a4b4-e15545a6bdc3\",\"type\":\"Column\"},{\"attributes\":{},\"id\":\"a00c1c93-6df7-4c64-a52e-685dadfcf77a\",\"type\":\"UnionRenderers\"},{\"attributes\":{},\"id\":\"73fa306e-95c5-4022-8259-5b31aae56be1\",\"type\":\"BasicTickFormatter\"},{\"attributes\":{\"children\":[{\"id\":\"ce10c5f7-a551-41b9-a291-158bb172ada6\",\"subtype\":\"Figure\",\"type\":\"Plot\"},{\"id\":\"fb1fa08d-5467-4db5-8961-6f2fcbed3d9a\",\"subtype\":\"Figure\",\"type\":\"Plot\"},{\"id\":\"78346768-b044-423f-8546-6db76223f303\",\"subtype\":\"Figure\",\"type\":\"Plot\"}]},\"id\":\"eb36eb5c-e755-44dc-a7fd-5ce86aea23b4\",\"type\":\"Row\"},{\"attributes\":{\"plot\":{\"id\":\"ce10c5f7-a551-41b9-a291-158bb172ada6\",\"subtype\":\"Figure\",\"type\":\"Plot\"},\"ticker\":{\"id\":\"f4b8e28c-c7f0-49dd-a704-51a322f69ba5\",\"type\":\"CategoricalTicker\"}},\"id\":\"b7b079b4-09c2-4331-b5d0-abb0e85bbb6f\",\"type\":\"Grid\"},{\"attributes\":{},\"id\":\"52afc35f-6166-44dc-89ef-e15510482653\",\"type\":\"PanTool\"},{\"attributes\":{\"bottom_units\":\"screen\",\"fill_alpha\":{\"value\":0.5},\"fill_color\":{\"value\":\"lightgrey\"},\"left_units\":\"screen\",\"level\":\"overlay\",\"line_alpha\":{\"value\":1.0},\"line_color\":{\"value\":\"black\"},\"line_dash\":[4,4],\"line_width\":{\"value\":2},\"plot\":null,\"render_mode\":\"css\",\"right_units\":\"screen\",\"top_units\":\"screen\"},\"id\":\"4f249857-2a60-4599-bba1-f004b18ea343\",\"type\":\"BoxAnnotation\"},{\"attributes\":{},\"id\":\"ffe5f09a-b610-4ec4-a13c-a4cd43888ce8\",\"type\":\"LinearScale\"},{\"attributes\":{\"axis_label\":\"flux (W m-2)\",\"formatter\":{\"id\":\"06f7ccca-396b-468e-b89b-3b310a31717c\",\"type\":\"BasicTickFormatter\"},\"plot\":{\"id\":\"fb1fa08d-5467-4db5-8961-6f2fcbed3d9a\",\"subtype\":\"Figure\",\"type\":\"Plot\"},\"ticker\":{\"id\":\"30aef8a5-97e7-4e5e-8d13-34751fa5470d\",\"type\":\"BasicTicker\"}},\"id\":\"115096c1-e041-467c-b1d7-eb0758cfb085\",\"type\":\"LinearAxis\"},{\"attributes\":{\"fill_alpha\":{\"value\":0.1},\"fill_color\":{\"value\":\"#1f77b4\"},\"line_alpha\":{\"value\":0.1},\"line_color\":{\"value\":\"#1f77b4\"},\"top\":{\"field\":\"flux\"},\"width\":{\"value\":0.9},\"x\":{\"field\":\"band\"}},\"id\":\"650cf787-ea59-449b-b126-668d1d42ea44\",\"type\":\"VBar\"},{\"attributes\":{},\"id\":\"edbb4fbc-089a-4d4d-8d09-9fdabdc573cc\",\"type\":\"PanTool\"},{\"attributes\":{},\"id\":\"30aef8a5-97e7-4e5e-8d13-34751fa5470d\",\"type\":\"BasicTicker\"},{\"attributes\":{\"fill_color\":{\"value\":\"#1f77b4\"},\"line_color\":{\"value\":\"#1f77b4\"},\"top\":{\"field\":\"flux\"},\"width\":{\"value\":0.9},\"x\":{\"field\":\"band\"}},\"id\":\"934d35e9-6ff5-40b9-bd0b-7e7856273db0\",\"type\":\"VBar\"},{\"attributes\":{\"plot\":{\"id\":\"fb1fa08d-5467-4db5-8961-6f2fcbed3d9a\",\"subtype\":\"Figure\",\"type\":\"Plot\"},\"ticker\":{\"id\":\"5710e9fd-732d-4429-baef-6e17da27ceb4\",\"type\":\"CategoricalTicker\"}},\"id\":\"8239b7be-a482-4490-8cac-c9a1c71f3571\",\"type\":\"Grid\"},{\"attributes\":{\"fill_color\":{\"value\":\"#1f77b4\"},\"line_color\":{\"value\":\"#1f77b4\"},\"top\":{\"field\":\"flux\"},\"width\":{\"value\":0.9},\"x\":{\"field\":\"band\"}},\"id\":\"581d3ed3-09a9-4e48-8d68-d0b7a6b1a480\",\"type\":\"VBar\"},{\"attributes\":{},\"id\":\"0707dc78-5985-49b7-a616-11ec4c455d97\",\"type\":\"HelpTool\"},{\"attributes\":{},\"id\":\"3434c685-b632-4413-96bc-1fab7a6ebcc8\",\"type\":\"WheelZoomTool\"},{\"attributes\":{},\"id\":\"3b25df70-c33d-4e90-aa7c-38f720d2d6b9\",\"type\":\"ResetTool\"},{\"attributes\":{\"axis_label\":\"spectral band\",\"formatter\":{\"id\":\"7fc4ae0b-44e0-4381-b1b7-04f8fe892660\",\"type\":\"CategoricalTickFormatter\"},\"plot\":{\"id\":\"ce10c5f7-a551-41b9-a291-158bb172ada6\",\"subtype\":\"Figure\",\"type\":\"Plot\"},\"ticker\":{\"id\":\"f4b8e28c-c7f0-49dd-a704-51a322f69ba5\",\"type\":\"CategoricalTicker\"}},\"id\":\"1a96d893-f7d8-4fcc-a401-2a6fdaea3733\",\"type\":\"CategoricalAxis\"},{\"attributes\":{\"data_source\":{\"id\":\"cd61af24-4d9d-4ecb-bf63-88c89a5dbdae\",\"type\":\"ColumnDataSource\"},\"glyph\":{\"id\":\"581d3ed3-09a9-4e48-8d68-d0b7a6b1a480\",\"type\":\"VBar\"},\"hover_glyph\":null,\"muted_glyph\":null,\"nonselection_glyph\":{\"id\":\"55927345-0dba-4982-9b73-0a8f8e0e060e\",\"type\":\"VBar\"},\"selection_glyph\":null,\"view\":{\"id\":\"1dd3a4bf-5ba0-439f-98fb-4256f2efc9d7\",\"type\":\"CDSView\"}},\"id\":\"919f856a-752e-4089-95b7-a25b126a90ab\",\"type\":\"GlyphRenderer\"},{\"attributes\":{\"plot\":null,\"text\":\"TOA flux. CLIRAD - CRD.\"},\"id\":\"7e8028bd-c6a5-4edb-8ab2-c7b1ad509d64\",\"type\":\"Title\"},{\"attributes\":{\"dimension\":1,\"plot\":{\"id\":\"fb1fa08d-5467-4db5-8961-6f2fcbed3d9a\",\"subtype\":\"Figure\",\"type\":\"Plot\"},\"ticker\":{\"id\":\"30aef8a5-97e7-4e5e-8d13-34751fa5470d\",\"type\":\"BasicTicker\"}},\"id\":\"f560929b-6c7c-4d06-8622-5f78c7633ad0\",\"type\":\"Grid\"},{\"attributes\":{\"bottom_units\":\"screen\",\"fill_alpha\":{\"value\":0.5},\"fill_color\":{\"value\":\"lightgrey\"},\"left_units\":\"screen\",\"level\":\"overlay\",\"line_alpha\":{\"value\":1.0},\"line_color\":{\"value\":\"black\"},\"line_dash\":[4,4],\"line_width\":{\"value\":2},\"plot\":null,\"render_mode\":\"css\",\"right_units\":\"screen\",\"top_units\":\"screen\"},\"id\":\"4a361380-f303-47a4-91c5-968c2f615234\",\"type\":\"BoxAnnotation\"},{\"attributes\":{},\"id\":\"c356f9c0-0a34-4b49-a568-bd47422fd2e3\",\"type\":\"SaveTool\"},{\"attributes\":{},\"id\":\"96771b4a-063b-4d6d-afd1-a1b65c8d0989\",\"type\":\"HelpTool\"},{\"attributes\":{},\"id\":\"f35c9f31-f4d5-43a7-ae05-0aec79b27e66\",\"type\":\"CategoricalScale\"},{\"attributes\":{\"active_drag\":\"auto\",\"active_inspect\":\"auto\",\"active_scroll\":\"auto\",\"active_tap\":\"auto\",\"tools\":[{\"id\":\"52afc35f-6166-44dc-89ef-e15510482653\",\"type\":\"PanTool\"},{\"id\":\"43e78e61-75e5-4721-bf67-d02d5afa1b8c\",\"type\":\"WheelZoomTool\"},{\"id\":\"a4bb3ae6-11bd-4f89-99ec-a8c1d0566316\",\"type\":\"BoxZoomTool\"},{\"id\":\"c356f9c0-0a34-4b49-a568-bd47422fd2e3\",\"type\":\"SaveTool\"},{\"id\":\"3b25df70-c33d-4e90-aa7c-38f720d2d6b9\",\"type\":\"ResetTool\"},{\"id\":\"0707dc78-5985-49b7-a616-11ec4c455d97\",\"type\":\"HelpTool\"}]},\"id\":\"80d0cffa-4835-4350-b976-1e186f5333d6\",\"type\":\"Toolbar\"},{\"attributes\":{\"overlay\":{\"id\":\"4f249857-2a60-4599-bba1-f004b18ea343\",\"type\":\"BoxAnnotation\"}},\"id\":\"a4bb3ae6-11bd-4f89-99ec-a8c1d0566316\",\"type\":\"BoxZoomTool\"},{\"attributes\":{\"fill_alpha\":{\"value\":0.1},\"fill_color\":{\"value\":\"#1f77b4\"},\"line_alpha\":{\"value\":0.1},\"line_color\":{\"value\":\"#1f77b4\"},\"top\":{\"field\":\"flux\"},\"width\":{\"value\":0.9},\"x\":{\"field\":\"band\"}},\"id\":\"55927345-0dba-4982-9b73-0a8f8e0e060e\",\"type\":\"VBar\"},{\"attributes\":{},\"id\":\"20b7da17-6f6f-4911-bf8d-795515fd226c\",\"type\":\"LinearScale\"},{\"attributes\":{\"data_source\":{\"id\":\"e3933d81-84ba-461d-bd1c-ed37473ceee0\",\"type\":\"ColumnDataSource\"},\"glyph\":{\"id\":\"934d35e9-6ff5-40b9-bd0b-7e7856273db0\",\"type\":\"VBar\"},\"hover_glyph\":null,\"muted_glyph\":null,\"nonselection_glyph\":{\"id\":\"650cf787-ea59-449b-b126-668d1d42ea44\",\"type\":\"VBar\"},\"selection_glyph\":null,\"view\":{\"id\":\"be582405-fd8e-4539-ae92-c92b7e7aef38\",\"type\":\"CDSView\"}},\"id\":\"c1447973-ff26-41f7-8773-59f00e04b166\",\"type\":\"GlyphRenderer\"},{\"attributes\":{\"callback\":null,\"data\":{\"band\":[\"1\",\"2\",\"3\",\"4\",\"5\",\"6\",\"7\",\"8\",\"9\",\"10\",\"11\"],\"flux\":{\"__ndarray__\":\"AOIC0ChdyD+AEwg7xarSP8DjvWplwtO/QHBbW3he0z8AkszqHW7QPwASj8TL07G/wHx6bMuA2D8A6tK/JJW5vwAmamluhZC/QD96efDJwD9AKej2ksawPw==\",\"dtype\":\"float64\",\"shape\":[11]}},\"selected\":{\"id\":\"c0509a86-663d-4675-9377-a73cd55e12dd\",\"type\":\"Selection\"},\"selection_policy\":{\"id\":\"0c3e6528-bd8e-40ea-a023-dfde8ce1c9f8\",\"type\":\"UnionRenderers\"}},\"id\":\"e3933d81-84ba-461d-bd1c-ed37473ceee0\",\"type\":\"ColumnDataSource\"},{\"attributes\":{},\"id\":\"5710e9fd-732d-4429-baef-6e17da27ceb4\",\"type\":\"CategoricalTicker\"},{\"attributes\":{},\"id\":\"7422718f-44e0-4a7b-b6af-86c61acbadf9\",\"type\":\"ResetTool\"},{\"attributes\":{\"axis_label\":\"spectral band\",\"formatter\":{\"id\":\"67cbc837-4b4b-4a76-9a98-6084fb6f29c5\",\"type\":\"CategoricalTickFormatter\"},\"plot\":{\"id\":\"fb1fa08d-5467-4db5-8961-6f2fcbed3d9a\",\"subtype\":\"Figure\",\"type\":\"Plot\"},\"ticker\":{\"id\":\"5710e9fd-732d-4429-baef-6e17da27ceb4\",\"type\":\"CategoricalTicker\"}},\"id\":\"839ee37f-04ca-4331-80d7-9e039d08ed49\",\"type\":\"CategoricalAxis\"},{\"attributes\":{\"callback\":null,\"data\":{\"band\":[\"1\",\"2\",\"3\",\"4\",\"5\",\"6\",\"7\",\"8\",\"9\",\"10\",\"11\"],\"flux\":{\"__ndarray__\":\"AFOZ3tVdyD8A2BIs7Vi1vwBYNyirM4i/AKplKWG/zj+AyB8MPPfOvwDgn1IlysK/gFjjbDoC1z8AYj4g0JmkP0B/ij56Hsi/QB6QnRrcvT9AQzegSnKtPw==\",\"dtype\":\"float64\",\"shape\":[11]}},\"selected\":{\"id\":\"6eeb2d68-5b17-4245-af6c-b159bd43079d\",\"type\":\"Selection\"},\"selection_policy\":{\"id\":\"a00c1c93-6df7-4c64-a52e-685dadfcf77a\",\"type\":\"UnionRenderers\"}},\"id\":\"6db05ee1-05c5-4a3e-8b85-6faffea06bb5\",\"type\":\"ColumnDataSource\"},{\"attributes\":{\"source\":{\"id\":\"e3933d81-84ba-461d-bd1c-ed37473ceee0\",\"type\":\"ColumnDataSource\"}},\"id\":\"be582405-fd8e-4539-ae92-c92b7e7aef38\",\"type\":\"CDSView\"},{\"attributes\":{\"callback\":null,\"factors\":[\"1\",\"2\",\"3\",\"4\",\"5\",\"6\",\"7\",\"8\",\"9\",\"10\",\"11\"]},\"id\":\"2b553ab9-7d1d-47d9-8248-6d9d8999070f\",\"type\":\"FactorRange\"},{\"attributes\":{},\"id\":\"43e78e61-75e5-4721-bf67-d02d5afa1b8c\",\"type\":\"WheelZoomTool\"},{\"attributes\":{\"callback\":null},\"id\":\"2e6a169a-3bc4-43fc-9df0-ad9d78ba9839\",\"type\":\"DataRange1d\"},{\"attributes\":{\"below\":[{\"id\":\"839ee37f-04ca-4331-80d7-9e039d08ed49\",\"type\":\"CategoricalAxis\"}],\"left\":[{\"id\":\"115096c1-e041-467c-b1d7-eb0758cfb085\",\"type\":\"LinearAxis\"}],\"plot_height\":300,\"plot_width\":300,\"renderers\":[{\"id\":\"839ee37f-04ca-4331-80d7-9e039d08ed49\",\"type\":\"CategoricalAxis\"},{\"id\":\"8239b7be-a482-4490-8cac-c9a1c71f3571\",\"type\":\"Grid\"},{\"id\":\"115096c1-e041-467c-b1d7-eb0758cfb085\",\"type\":\"LinearAxis\"},{\"id\":\"f560929b-6c7c-4d06-8622-5f78c7633ad0\",\"type\":\"Grid\"},{\"id\":\"4a361380-f303-47a4-91c5-968c2f615234\",\"type\":\"BoxAnnotation\"},{\"id\":\"919f856a-752e-4089-95b7-a25b126a90ab\",\"type\":\"GlyphRenderer\"}],\"title\":{\"id\":\"20d273dd-c566-4c65-9c20-959131aa8528\",\"type\":\"Title\"},\"toolbar\":{\"id\":\"28d3f504-3239-4f10-b990-53e5124729af\",\"type\":\"Toolbar\"},\"toolbar_location\":null,\"x_range\":{\"id\":\"5ade7aed-2377-4e92-b1b6-c683980047e9\",\"type\":\"FactorRange\"},\"x_scale\":{\"id\":\"be827cec-fb2f-49d2-bbdc-6d741e383e1f\",\"type\":\"CategoricalScale\"},\"y_range\":{\"id\":\"fd6882f7-c8b9-4da1-978a-c5be50b565b6\",\"type\":\"DataRange1d\"},\"y_scale\":{\"id\":\"ffe5f09a-b610-4ec4-a13c-a4cd43888ce8\",\"type\":\"LinearScale\"}},\"id\":\"fb1fa08d-5467-4db5-8961-6f2fcbed3d9a\",\"subtype\":\"Figure\",\"type\":\"Plot\"},{\"attributes\":{\"overlay\":{\"id\":\"4a361380-f303-47a4-91c5-968c2f615234\",\"type\":\"BoxAnnotation\"}},\"id\":\"dbdad283-e827-4210-8d0d-1ee8547c4b2e\",\"type\":\"BoxZoomTool\"},{\"attributes\":{\"source\":{\"id\":\"cd61af24-4d9d-4ecb-bf63-88c89a5dbdae\",\"type\":\"ColumnDataSource\"}},\"id\":\"1dd3a4bf-5ba0-439f-98fb-4256f2efc9d7\",\"type\":\"CDSView\"},{\"attributes\":{},\"id\":\"9013f23f-82ea-4687-b9a2-2b42f21782ea\",\"type\":\"SaveTool\"}],\"root_ids\":[\"d0295fad-0438-4f04-99c6-cf34b3c4e9fc\"]},\"title\":\"Bokeh Application\",\"version\":\"0.12.16\"}};\n",
       "  var render_items = [{\"docid\":\"24fc0025-6ca0-437d-8189-b3b379d6a2a9\",\"elementid\":\"eec4da2c-fed4-4001-8a78-4282c741159a\",\"modelid\":\"d0295fad-0438-4f04-99c6-cf34b3c4e9fc\"}];\n",
       "  root.Bokeh.embed.embed_items_notebook(docs_json, render_items);\n",
       "\n",
       "  }\n",
       "  if (root.Bokeh !== undefined) {\n",
       "    embed_document(root);\n",
       "  } else {\n",
       "    var attempts = 0;\n",
       "    var timer = setInterval(function(root) {\n",
       "      if (root.Bokeh !== undefined) {\n",
       "        embed_document(root);\n",
       "        clearInterval(timer);\n",
       "      }\n",
       "      attempts++;\n",
       "      if (attempts > 100) {\n",
       "        console.log(\"Bokeh: ERROR: Unable to run BokehJS code because BokehJS library is missing\")\n",
       "        clearInterval(timer);\n",
       "      }\n",
       "    }, 10, root)\n",
       "  }\n",
       "})(window);"
      ],
      "application/vnd.bokehjs_exec.v0+json": ""
     },
     "metadata": {
      "application/vnd.bokehjs_exec.v0+json": {
       "id": "d0295fad-0438-4f04-99c6-cf34b3c4e9fc"
      }
     },
     "output_type": "display_data"
    },
    {
     "name": "stdout",
     "output_type": "stream",
     "text": [
      "Figure. Difference in TOA flux, SFC flux and net atmosphere heating.\n"
     ]
    },
    {
     "data": {
      "text/html": [
       "<a id=\"Cooling_rates._trp.\"></a>"
      ],
      "text/plain": [
       "<IPython.core.display.HTML object>"
      ]
     },
     "metadata": {},
     "output_type": "display_data"
    },
    {
     "data": {
      "text/markdown": [
       "# Cooling rates. trp."
      ],
      "text/plain": [
       "<IPython.core.display.Markdown object>"
      ]
     },
     "metadata": {},
     "output_type": "display_data"
    },
    {
     "data": {
      "text/html": [
       "\n",
       "<div class=\"bk-root\">\n",
       "    <div class=\"bk-plotdiv\" id=\"2ce7da26-641e-4d9e-87b0-ba4e227c0f70\"></div>\n",
       "</div>"
      ]
     },
     "metadata": {},
     "output_type": "display_data"
    },
    {
     "data": {
      "application/javascript": [
       "(function(root) {\n",
       "  function embed_document(root) {\n",
       "    \n",
       "  var docs_json = {\"8ff44e0a-e650-4da9-abff-ef866935e780\":{\"roots\":{\"references\":[{\"attributes\":{\"ticker\":null},\"id\":\"49e57614-a2b0-42ae-80ef-eebd3f6dd013\",\"type\":\"LogTickFormatter\"},{\"attributes\":{},\"id\":\"662fbf1f-092c-4407-9f8f-00270f5b746f\",\"type\":\"BasicTickFormatter\"},{\"attributes\":{\"plot\":null,\"text\":\"\"},\"id\":\"b4f4a408-6671-49d3-bd22-bc705f9a7c6b\",\"type\":\"Title\"},{\"attributes\":{\"source\":{\"id\":\"27f215b6-c336-48af-8d0e-5f1f46fa826f\",\"type\":\"ColumnDataSource\"}},\"id\":\"b53a8c36-bf7d-48c0-9da4-81e4a7f91c00\",\"type\":\"CDSView\"},{\"attributes\":{\"callback\":null,\"end\":0.01,\"start\":1020},\"id\":\"4d6cb6ed-2fa1-454c-8e5f-623e84042f9b\",\"type\":\"Range1d\"},{\"attributes\":{\"data_source\":{\"id\":\"27f215b6-c336-48af-8d0e-5f1f46fa826f\",\"type\":\"ColumnDataSource\"},\"glyph\":{\"id\":\"5b0311cd-ce6d-44af-860f-9b4f82c74a9b\",\"type\":\"Line\"},\"hover_glyph\":null,\"muted_glyph\":null,\"nonselection_glyph\":{\"id\":\"1e12935e-535f-478b-8fd1-8a8ffc2bea73\",\"type\":\"Line\"},\"selection_glyph\":null,\"view\":{\"id\":\"b53a8c36-bf7d-48c0-9da4-81e4a7f91c00\",\"type\":\"CDSView\"}},\"id\":\"91de8c6e-62ef-4f91-a416-ee854c8cb02c\",\"type\":\"GlyphRenderer\"},{\"attributes\":{\"plot\":null,\"text\":\"\"},\"id\":\"5928c5b3-9f04-4bac-a8c6-790532e45768\",\"type\":\"Title\"},{\"attributes\":{\"children\":[{\"id\":\"1c068a19-9e87-43ac-9f4d-2becea62fe39\",\"type\":\"ToolbarBox\"},{\"id\":\"57559e0f-54a6-4361-8cf3-8aec5371da9a\",\"type\":\"Column\"}]},\"id\":\"5af2f9dd-4d65-4cca-b684-7441f7154420\",\"type\":\"Column\"},{\"attributes\":{},\"id\":\"c4b37af0-fc1b-4e54-aacf-48085343dc32\",\"type\":\"BasicTickFormatter\"},{\"attributes\":{},\"id\":\"c7d279ed-297e-4343-a50f-52366790a15c\",\"type\":\"SaveTool\"},{\"attributes\":{},\"id\":\"67efa89b-88bd-44e1-937f-e7bd56256e92\",\"type\":\"HelpTool\"},{\"attributes\":{\"ticker\":null},\"id\":\"6346fa85-e264-4e84-8981-fa0d02048371\",\"type\":\"LogTickFormatter\"},{\"attributes\":{\"overlay\":{\"id\":\"ec862d7e-8972-4d3a-9955-bef9bb460d65\",\"type\":\"BoxAnnotation\"}},\"id\":\"12e10227-2404-40ac-9daf-0872495427c7\",\"type\":\"BoxZoomTool\"},{\"attributes\":{},\"id\":\"1a336997-16ac-450d-b386-03d479f80ada\",\"type\":\"Selection\"},{\"attributes\":{},\"id\":\"c950a0c9-55ff-4e04-b3a8-30e5eaf7520f\",\"type\":\"ResetTool\"},{\"attributes\":{\"line_color\":\"#4daf4a\",\"line_width\":1.5,\"x\":{\"field\":\"x\"},\"y\":{\"field\":\"y\"}},\"id\":\"3413dc4f-5a79-486a-8360-b2dfcb127576\",\"type\":\"Line\"},{\"attributes\":{\"fill_alpha\":{\"value\":0.7},\"fill_color\":{\"value\":\"#4daf4a\"},\"line_alpha\":{\"value\":0.7},\"line_color\":{\"value\":\"#4daf4a\"},\"x\":{\"field\":\"x\"},\"y\":{\"field\":\"y\"}},\"id\":\"f521d2e3-32e9-4fcb-a23c-02265cd278b8\",\"type\":\"Circle\"},{\"attributes\":{\"fill_alpha\":{\"value\":0.1},\"fill_color\":{\"value\":\"#1f77b4\"},\"line_alpha\":{\"value\":0.1},\"line_color\":{\"value\":\"#1f77b4\"},\"x\":{\"field\":\"x\"},\"y\":{\"field\":\"y\"}},\"id\":\"f98e7800-7e62-4c01-aa21-caa166a84657\",\"type\":\"Circle\"},{\"attributes\":{\"data_source\":{\"id\":\"36d4dcca-ec63-4bcb-93c5-7112078e13b6\",\"type\":\"ColumnDataSource\"},\"glyph\":{\"id\":\"14a6a07a-eda5-4f1b-bd7c-abbeafadecb1\",\"type\":\"Line\"},\"hover_glyph\":null,\"muted_glyph\":null,\"nonselection_glyph\":{\"id\":\"9a9fcd46-4fa9-4240-9f32-734dcc2c089a\",\"type\":\"Line\"},\"selection_glyph\":null,\"view\":{\"id\":\"f80dc96d-0ba2-4c88-8556-da11aff80900\",\"type\":\"CDSView\"}},\"id\":\"5b179fed-5094-408c-978e-4ede085260e3\",\"type\":\"GlyphRenderer\"},{\"attributes\":{\"callback\":null,\"data\":{\"x\":{\"__ndarray__\":\"cm1sTMT3VEDEyvjosEJHQOKI6DjzCUNArgQWV9awPkB9Lm8XG3M4QEz+Qv6iYzNA7eV8HaPLLkCX1QHyTpMoQFBmYSYetiNAUB04GtGpH0AmFyVE5j8ZQJca9QPGqBNALJP+OOHHDEBNxaf7QF8AQKtislomWuw/cW2dcO6A9T/uJJvfPu0EQIaQLTI/JQ1AxGiII+PmEkCJvfVeuCsYQD6ZBhGbHB9AXQw69DTYJEAsubcwKucqQNuT9D5OmipAJyi3szEJJUBlNebh5WkgQDDcPHBr2xlArtlANXuQFEBdJadFHckQQI2Avh0ZsQtAjYiwt1rsBUCL0SDoVBgAQK6C0nEEjvc/CggLSme58T9sXU2orFPnP0v0JYz9Gdg/vT38vxYczD9nBQTe6kHHP1IhkEXJwKo/8OZnhCVAub+xtVgCpmqzP6DUpY6g0+k/PKK3T1h4+D8RTDjQc1EAQG/dAQs7TwJAQt2eHpPLAEBWEh074x//PyCap9ZSGf4/rEzaTySm/T+7aXhHRmr9P688KeqeNP0/ruZ4EemD/D8olrZcn9T7P0+vNc9hW/s/i9VVL+4P+z+0NzC24uz6P8731Kza8vo/xFf4SHzq+z+gYyHpvHb8P68ROkiFevw/BAjYdCga/D8AUp8VbW77P3JrF/nKmvo/qCQeGfq++T/dplwHJfn4P2G4p+Uva/g/OzZ0RqMZ+D8dmn/iar73P/OuA7Ka8PY/gaaeQHGn9T9hkyjAH1L0P3aZGhdAU/M/n8VP/g7P8j+90HxHNvfyPwhNBtgrqvk/\",\"dtype\":\"float64\",\"shape\":[75]},\"y\":{\"__ndarray__\":\"GhExyth1ND/Sv8nbtpRIP2vylNV0PVE/aTum7souWD/At0SJ8fVgPw3Iuahxymc/MSNhhJWvcD/bTfBN02d3P2zb5nxnaoA/CD5h5MAGhz8NmeH1TyaQP+zrCsc9p5Y/LbKd76fGnz/bLW5ISEmmPww9YvTcQq8/JV2OstnstT8Er5Y7M8G+P0c+r3jqkcU/5h99k6ZBzj88bCIzFzjVP4enV8oyxN0//yH99nXg5D8qOpLLf0jtP5kqGJXUifQ/c9cS8kHP/D+/DpwzojQEQIEmwoanVwxA4lgXt9HgE0BSSZ2AJuIbQAMJih9jjiNA5q4l5INuK0AwTKYKRj0zQNv5fmq8/DpAaCJseHrtQkB/+zpwzoxKQM3MzMzMeFJAZmZmZmZqWEAAAAAAAFxeQM3MzMzMJmJAmpmZmZkfZUBmZmZmZhhoQDMzMzMzEWtAAAAAAAAKbkBmZmZmZoFwQM3MzMzM/XFAMzMzMzN6c0CamZmZmfZ0QAAAAAAAc3ZAZmZmZmbvd0DNzMzMzGt5QDMzMzMz6HpAmpmZmZlkfEAAAAAAAOF9QGZmZmZmXX9AZmZmZuZsgECamZmZGSuBQM3MzMxM6YFAAAAAAICngkAzMzMzs2WDQGZmZmbmI4RAmpmZmRnihEDNzMzMTKCFQAAAAACAXoZAMzMzM7Mch0BmZmZm5tqHQJqZmZkZmYhAzczMzExXiUAAAAAAgBWKQDMzMzOz04pAZmZmZuaRi0CamZmZGVCMQM3MzMxMDo1AAAAAAIDMjUAzMzMzs4qOQGZmZmbmSI9A\",\"dtype\":\"float64\",\"shape\":[75]}},\"selected\":{\"id\":\"8d6a27df-0994-4d36-a46e-e13aba69bd87\",\"type\":\"Selection\"},\"selection_policy\":{\"id\":\"6551ee26-4489-4d8e-984b-579e5ca574f3\",\"type\":\"UnionRenderers\"}},\"id\":\"897188e7-44e9-4c2b-b4b7-dd8e061dbb91\",\"type\":\"ColumnDataSource\"},{\"attributes\":{},\"id\":\"6551ee26-4489-4d8e-984b-579e5ca574f3\",\"type\":\"UnionRenderers\"},{\"attributes\":{\"data_source\":{\"id\":\"897188e7-44e9-4c2b-b4b7-dd8e061dbb91\",\"type\":\"ColumnDataSource\"},\"glyph\":{\"id\":\"3413dc4f-5a79-486a-8360-b2dfcb127576\",\"type\":\"Line\"},\"hover_glyph\":null,\"muted_glyph\":null,\"nonselection_glyph\":{\"id\":\"c4fb7083-140b-4104-a909-972144b834a3\",\"type\":\"Line\"},\"selection_glyph\":null,\"view\":{\"id\":\"ec25f136-4abf-4a0c-8b99-c4ceda08a8eb\",\"type\":\"CDSView\"}},\"id\":\"112ae870-dde0-4ca8-b076-e54aed3a3eb9\",\"type\":\"GlyphRenderer\"},{\"attributes\":{},\"id\":\"8fec8bcf-3638-4352-a842-31d641175ddf\",\"type\":\"LinearScale\"},{\"attributes\":{\"callback\":null,\"data\":{\"x\":{\"__ndarray__\":\"Ay4WgzmiRUAzdH4xyelCQI/4CCUPukFAmDQrpSkbQEAzbNWwowU8QFVgF/XlEDdAoDiHgYPLMUABmdymgcIpQGLYd07xCSJArfSs310nGkAWc9HvWtkUQOusy4pytBFAJqIBIKFJDUB2OQnHDJMDQMl96Kg58fU/43VcVuWK+j82Bjz+TzEFQNyoIwf3DQtAy+LYYlLgEEBpIj3ZQhcWQG2pjOCj/R1Af3bvKgrVJEABDCYXO8wqQEzO0e7F+ylAYXLSO7hOJEAgnb4nokcgQNoX8+gOZBtA1Mo1E7QFFkBNX8S4nigRQOo4z07g4AtAipA4vs4ICEB/nUqZ58sCQFWembm6Bfo/xtoM8LVF8T+FTjDicHrnPwW0NlGD6Ns/djxG7dEQzT/kgWfK0UXAP04e7p6uAKO/U8LMJsVjyb/9SNhTfdyDv6yHiyRvwuc/YH/Q96J+9z8fz8lq9RYAQHNa8arPlwFA6C5g8skGAEDf2G6Pg0P+Pzx05xsQIv0/aqvhULpq/D9/cRIK1jv8P0N2gFVlV/w/l8yGPE/u+z8PyvyTInP7P5+BCjLJB/s/712TDke9+j855FpFY4f6P7S7Qdxnhfo/BEctRHOb+z/jcb7JUHz8P62m1jeD/vw/Kl5ga3r9/D8lrYwPuV38Pz+eRmufRvs/QIGudyMW+j/FXLa7nv/4P2WVJw9Rbfg/CejmZKc8+D+aZMjXvDf4PwzcqrkWtPc/y2300tGk9j+PCzl883P1P+ux3ZfUiPQ/9dhElUIR9D9+kji0k0T0P9hVz+l87/o/\",\"dtype\":\"float64\",\"shape\":[75]},\"y\":{\"__ndarray__\":\"S/O/Q+51ND/Sv8nbtpRIP2vylNV0PVE/aTum7souWD/At0SJ8fVgPw3Iuahxymc/MSNhhJWvcD/bTfBN02d3P2zb5nxnaoA/CD5h5MAGhz8NmeH1TyaQP+zrCsc9p5Y/LbKd76fGnz/bLW5ISEmmPww9YvTcQq8/JV2OstnstT8Er5Y7M8G+P0c+r3jqkcU/5h99k6ZBzj88bCIzFzjVP4enV8oyxN0//yH99nXg5D8qOpLLf0jtP5kqGJXUifQ/c9cS8kHP/D+/DpwzojQEQIEmwoanVwxA4lgXt9HgE0BSSZ2AJuIbQAMJih9jjiNA5q4l5INuK0AwTKYKRj0zQNv5fmq8/DpAaCJseHrtQkB/+zpwzoxKQM3MzMzMeFJAZmZmZmZqWEAAAAAAAFxeQM3MzMzMJmJAmpmZmZkfZUBmZmZmZhhoQDMzMzMzEWtAAAAAAAAKbkBmZmZmZoFwQM3MzMzM/XFAMzMzMzN6c0CamZmZmfZ0QAAAAAAAc3ZAZmZmZmbvd0DNzMzMzGt5QDMzMzMz6HpAmpmZmZlkfEAAAAAAAOF9QGZmZmZmXX9AZmZmZuZsgECamZmZGSuBQM3MzMxM6YFAAAAAAICngkAzMzMzs2WDQGZmZmbmI4RAmpmZmRnihEDNzMzMTKCFQAAAAACAXoZAMzMzM7Mch0BmZmZm5tqHQJqZmZkZmYhAzczMzExXiUAAAAAAgBWKQDMzMzOz04pAZmZmZuaRi0CamZmZGVCMQM3MzMxMDo1AAAAAAIDMjUAzMzMzs4qOQGZmZmbmSI9A\",\"dtype\":\"float64\",\"shape\":[75]}},\"selected\":{\"id\":\"f7dacadb-0e51-4a3a-9ccd-f4586295ccea\",\"type\":\"Selection\"},\"selection_policy\":{\"id\":\"71d58cf2-afd5-49ff-9d6c-314acdeb976b\",\"type\":\"UnionRenderers\"}},\"id\":\"36d4dcca-ec63-4bcb-93c5-7112078e13b6\",\"type\":\"ColumnDataSource\"},{\"attributes\":{\"axis_label\":\"cooling rate [K/day]\",\"formatter\":{\"id\":\"10f525ff-133d-4452-acc4-bfd1827afc06\",\"type\":\"BasicTickFormatter\"},\"plot\":{\"id\":\"9a741b58-a862-4f8d-b3a9-c7752b9af06e\",\"subtype\":\"Figure\",\"type\":\"Plot\"},\"ticker\":{\"id\":\"0a7bac6f-7a31-45e1-8924-822e2982ac20\",\"type\":\"BasicTicker\"}},\"id\":\"861c02b8-e5f6-4126-bb01-7d88214784bc\",\"type\":\"LinearAxis\"},{\"attributes\":{\"data_source\":{\"id\":\"b3a9252a-389b-467c-b69f-3af050854bb4\",\"type\":\"ColumnDataSource\"},\"glyph\":{\"id\":\"f521d2e3-32e9-4fcb-a23c-02265cd278b8\",\"type\":\"Circle\"},\"hover_glyph\":null,\"muted_glyph\":null,\"nonselection_glyph\":{\"id\":\"f98e7800-7e62-4c01-aa21-caa166a84657\",\"type\":\"Circle\"},\"selection_glyph\":null,\"view\":{\"id\":\"ff9d75c4-3367-4b2c-8a2a-0093816fa8af\",\"type\":\"CDSView\"}},\"id\":\"c9c8257f-a8ba-48ae-b9c0-961815c53669\",\"type\":\"GlyphRenderer\"},{\"attributes\":{\"fill_alpha\":{\"value\":0.7},\"fill_color\":{\"value\":\"#984ea3\"},\"line_alpha\":{\"value\":0.7},\"line_color\":{\"value\":\"#984ea3\"},\"x\":{\"field\":\"x\"},\"y\":{\"field\":\"y\"}},\"id\":\"42698f7a-2bb4-4811-8fec-dd59c6634279\",\"type\":\"Circle\"},{\"attributes\":{\"line_alpha\":0.1,\"line_color\":\"#1f77b4\",\"line_width\":1.5,\"x\":{\"field\":\"x\"},\"y\":{\"field\":\"y\"}},\"id\":\"c4fb7083-140b-4104-a909-972144b834a3\",\"type\":\"Line\"},{\"attributes\":{\"line_alpha\":0.6,\"line_color\":\"#e41a1c\",\"line_dash\":[6],\"line_width\":5,\"x\":{\"field\":\"x\"},\"y\":{\"field\":\"y\"}},\"id\":\"5b0311cd-ce6d-44af-860f-9b4f82c74a9b\",\"type\":\"Line\"},{\"attributes\":{\"callback\":null,\"end\":0.01,\"start\":1020},\"id\":\"fae48dc4-1255-4ae4-ae7c-0867d5ae03b5\",\"type\":\"Range1d\"},{\"attributes\":{\"callback\":null,\"data\":{\"x\":{\"__ndarray__\":\"Plrp3Z5jIcBKBfk9Qf4EwAhIBjTPV/g/re0xy0SUDEBKEKO2F2oNQEotRpaPLQNAtDasTSvz4j/Y3ph+zcLqv4miLOrMCfa/OZBOUS2a8b+Z2paSN0Xfv1rfYeD8N7A/VKELW16e2T/SMT3umRDfP8gh/JbbJ9Q/51E4qEcEoT9WPU9YQbrQv7cvfAWGNOC/FNnELayj4L8H/Z4Hc+/RvyD2rlRKVnm/oiytkRnvqr/asVgECtHTv8S4lvwuT9e/lyLME90hsb+NumOLN4rYP2kST9+NU9c/ZHxOx1zgtz+8LlyImOOXP/M/QDSg49A/o19OiZWc1T8r3Tg+sr3DPwNRi39W7Jy/pot48Rxicz/M/YUoLnSuP9PWP6lll34/EA5yTmTwq7/VHz/yu+C2v7idMclkh7m/zr7TrDXmtb+tZ9JQi4mwv8Fb5PyqNq+/RXg+tzI/nb9kXxACbO22vyPL1Yclmbi/Ni/HdfWLq7+VvARYV+iuvywUiu+ftrO/2INf1gPnsr90zRiVMqerv/ZCQ546s6K/UwZzLjJfmL8ZbMtKJ+aUvwLnnTDIqZS/eN5UNdxfmb8dBs8ktFybvzkwxDJBwpO/qA45dIJPVj+1n5LzvX+gP9DECtE+aqw/zGSrPX/prT+uWeZFjnqlPxImF6RXypU/0KnXZtHmWT8AGej+SwlBPzTnWDkPgoE/Lp8yUn1Unj87o+X0gG+oP3LpuEoSrK8/6IIHwTsdsj9OhzEMSFmzP2c1UW85I7Q/Hxy8y9bVtD8HjZAcEVW0Pw==\",\"dtype\":\"float64\",\"shape\":[74]},\"y\":{\"__ndarray__\":\"0r/J27aUSD9r8pTVdD1RP2k7pu7KLlg/wLdEifH1YD8NyLmoccpnPzEjYYSVr3A/203wTdNndz9s2+Z8Z2qAPwg+YeTABoc/DZnh9U8mkD/s6wrHPaeWPy2yne+nxp8/2y1uSEhJpj8MPWL03EKvPyVdjrLZ7LU/BK+WOzPBvj9HPq946pHFP+YffZOmQc4/PGwiMxc41T+Hp1fKMsTdP/8h/fZ14OQ/KjqSy39I7T+ZKhiV1In0P3PXEvJBz/w/vw6cM6I0BECBJsKGp1cMQOJYF7fR4BNAUkmdgCbiG0ADCYofY44jQOauJeSDbitAMEymCkY9M0Db+X5qvPw6QGgibHh67UJAf/s6cM6MSkDNzMzMzHhSQGZmZmZmalhAAAAAAABcXkDNzMzMzCZiQJqZmZmZH2VAZmZmZmYYaEAzMzMzMxFrQAAAAAAACm5AZmZmZmaBcEDNzMzMzP1xQDMzMzMzenNAmpmZmZn2dEAAAAAAAHN2QGZmZmZm73dAzczMzMxreUAzMzMzM+h6QJqZmZmZZHxAAAAAAADhfUBmZmZmZl1/QGZmZmbmbIBAmpmZmRkrgUDNzMzMTOmBQAAAAACAp4JAMzMzM7Nlg0BmZmZm5iOEQJqZmZkZ4oRAzczMzEyghUAAAAAAgF6GQDMzMzOzHIdAZmZmZubah0CamZmZGZmIQM3MzMxMV4lAAAAAAIAVikAzMzMzs9OKQGZmZmbmkYtAmpmZmRlQjEDNzMzMTA6NQAAAAACAzI1AMzMzM7OKjkBmZmZm5kiPQA==\",\"dtype\":\"float64\",\"shape\":[74]}},\"selected\":{\"id\":\"e09e24b2-7018-4979-a541-be461578e2bd\",\"type\":\"Selection\"},\"selection_policy\":{\"id\":\"1712b392-2f95-4f7c-8973-f077a62c46a4\",\"type\":\"UnionRenderers\"}},\"id\":\"97ab0338-d5c6-4155-905c-7954a8f9522b\",\"type\":\"ColumnDataSource\"},{\"attributes\":{\"source\":{\"id\":\"b3a9252a-389b-467c-b69f-3af050854bb4\",\"type\":\"ColumnDataSource\"}},\"id\":\"ff9d75c4-3367-4b2c-8a2a-0093816fa8af\",\"type\":\"CDSView\"},{\"attributes\":{},\"id\":\"bf0b2505-312f-4319-bf8c-59691d950640\",\"type\":\"SaveTool\"},{\"attributes\":{},\"id\":\"800622cd-9ba2-4a04-a541-7e44da43920e\",\"type\":\"UnionRenderers\"},{\"attributes\":{},\"id\":\"2a54eaf6-e492-4d2a-9438-da90a0d5d166\",\"type\":\"SaveTool\"},{\"attributes\":{},\"id\":\"e09e24b2-7018-4979-a541-be461578e2bd\",\"type\":\"Selection\"},{\"attributes\":{},\"id\":\"9c8e49d4-08e6-445a-975b-cc647026303a\",\"type\":\"LinearScale\"},{\"attributes\":{\"toolbar\":{\"id\":\"69e03aaf-e4e9-4b4d-9e37-0d59349727cc\",\"type\":\"ProxyToolbar\"},\"toolbar_location\":\"above\"},\"id\":\"1c068a19-9e87-43ac-9f4d-2becea62fe39\",\"type\":\"ToolbarBox\"},{\"attributes\":{},\"id\":\"e6dcdf94-fb3b-4cb0-a38f-4cd6e3ad42d8\",\"type\":\"ResetTool\"},{\"attributes\":{\"overlay\":{\"id\":\"d3a8166f-8aff-4690-a7b5-af83a03cb550\",\"type\":\"BoxAnnotation\"}},\"id\":\"ed32b003-b7a5-4217-b930-bd9c7d6e4e1a\",\"type\":\"BoxZoomTool\"},{\"attributes\":{\"axis_label\":\"cooling rate [K/day]\",\"formatter\":{\"id\":\"c4b37af0-fc1b-4e54-aacf-48085343dc32\",\"type\":\"BasicTickFormatter\"},\"plot\":{\"id\":\"0cb8e049-c5c0-4031-86d0-b180302ac6f3\",\"subtype\":\"Figure\",\"type\":\"Plot\"},\"ticker\":{\"id\":\"b32a94d3-10aa-4e40-8c1e-f5f4c72cc569\",\"type\":\"BasicTicker\"}},\"id\":\"e8b73c6d-4605-41e1-9d2a-c3201b90de2f\",\"type\":\"LinearAxis\"},{\"attributes\":{\"line_alpha\":0.1,\"line_color\":\"#1f77b4\",\"line_width\":1.5,\"x\":{\"field\":\"x\"},\"y\":{\"field\":\"y\"}},\"id\":\"25aabcbd-60e9-4ceb-933d-2d22cac7f1cf\",\"type\":\"Line\"},{\"attributes\":{\"fill_alpha\":{\"value\":0.1},\"fill_color\":{\"value\":\"#1f77b4\"},\"line_alpha\":{\"value\":0.1},\"line_color\":{\"value\":\"#1f77b4\"},\"x\":{\"field\":\"x\"},\"y\":{\"field\":\"y\"}},\"id\":\"98549831-f0fa-4e21-b4a4-e6f22ed33a25\",\"type\":\"Circle\"},{\"attributes\":{},\"id\":\"4df99721-b178-4265-9baa-dfba51e7f440\",\"type\":\"UnionRenderers\"},{\"attributes\":{\"callback\":null,\"end\":13.587992271510018,\"start\":-0.33485575257202},\"id\":\"e672ead3-3250-428f-bbdc-8ee884767bcd\",\"type\":\"Range1d\"},{\"attributes\":{},\"id\":\"1712b392-2f95-4f7c-8973-f077a62c46a4\",\"type\":\"UnionRenderers\"},{\"attributes\":{},\"id\":\"b0ed2062-ca93-496c-990a-950710738654\",\"type\":\"PanTool\"},{\"attributes\":{\"above\":[{\"id\":\"b7e87a86-ebff-4683-9990-dae18c10f58e\",\"type\":\"Legend\"}],\"below\":[{\"id\":\"e8b73c6d-4605-41e1-9d2a-c3201b90de2f\",\"type\":\"LinearAxis\"}],\"left\":[{\"id\":\"f9d8c73b-3eea-4e8b-8a07-ea5a942139ed\",\"type\":\"LogAxis\"}],\"plot_width\":300,\"renderers\":[{\"id\":\"e8b73c6d-4605-41e1-9d2a-c3201b90de2f\",\"type\":\"LinearAxis\"},{\"id\":\"7a2aa03c-9c5f-4641-a0b6-02399446b448\",\"type\":\"Grid\"},{\"id\":\"f9d8c73b-3eea-4e8b-8a07-ea5a942139ed\",\"type\":\"LogAxis\"},{\"id\":\"df803f50-dc4b-4b63-af8d-aa7a8dc03c08\",\"type\":\"Grid\"},{\"id\":\"d3a8166f-8aff-4690-a7b5-af83a03cb550\",\"type\":\"BoxAnnotation\"},{\"id\":\"1fecd806-7f43-498a-9be3-29600e747954\",\"type\":\"GlyphRenderer\"},{\"id\":\"b2101a8a-f7fc-4ad9-b689-008bfbee33ed\",\"type\":\"GlyphRenderer\"},{\"id\":\"b7e87a86-ebff-4683-9990-dae18c10f58e\",\"type\":\"Legend\"}],\"title\":{\"id\":\"b4f4a408-6671-49d3-bd22-bc705f9a7c6b\",\"type\":\"Title\"},\"toolbar\":{\"id\":\"dde38c31-12a5-4a25-83b9-1233b34be1cb\",\"type\":\"Toolbar\"},\"toolbar_location\":null,\"x_range\":{\"id\":\"02f5ca0d-08dc-47df-bffd-56ccc3349305\",\"type\":\"Range1d\"},\"x_scale\":{\"id\":\"e4b79c37-b5fa-4590-a8e6-de07379fcd0f\",\"type\":\"LinearScale\"},\"y_range\":{\"id\":\"7cd9e278-8391-4992-8a44-30b050d1de16\",\"type\":\"Range1d\"},\"y_scale\":{\"id\":\"77941fbb-ecf8-44a5-a910-abdcbf3ff7cf\",\"type\":\"LogScale\"}},\"id\":\"0cb8e049-c5c0-4031-86d0-b180302ac6f3\",\"subtype\":\"Figure\",\"type\":\"Plot\"},{\"attributes\":{\"label\":{\"value\":\"CRD\"},\"renderers\":[{\"id\":\"fdf38a96-ebce-4bb8-8b83-b2f158f52d1a\",\"type\":\"GlyphRenderer\"},{\"id\":\"a62429f0-93ca-420b-9b6a-8477e2df5714\",\"type\":\"GlyphRenderer\"}]},\"id\":\"e6e1f7af-78d3-42cc-944f-edb9a732f86a\",\"type\":\"LegendItem\"},{\"attributes\":{\"data_source\":{\"id\":\"97ab0338-d5c6-4155-905c-7954a8f9522b\",\"type\":\"ColumnDataSource\"},\"glyph\":{\"id\":\"42698f7a-2bb4-4811-8fec-dd59c6634279\",\"type\":\"Circle\"},\"hover_glyph\":null,\"muted_glyph\":null,\"nonselection_glyph\":{\"id\":\"98549831-f0fa-4e21-b4a4-e6f22ed33a25\",\"type\":\"Circle\"},\"selection_glyph\":null,\"view\":{\"id\":\"f3f843df-9712-42d9-943e-aec94af9cd64\",\"type\":\"CDSView\"}},\"id\":\"1fecd806-7f43-498a-9be3-29600e747954\",\"type\":\"GlyphRenderer\"},{\"attributes\":{},\"id\":\"44e15868-9a01-4004-b131-a32db9fa6e1a\",\"type\":\"UnionRenderers\"},{\"attributes\":{\"callback\":null,\"end\":0.50401607191973,\"start\":-1.3960204970527301},\"id\":\"02f5ca0d-08dc-47df-bffd-56ccc3349305\",\"type\":\"Range1d\"},{\"attributes\":{\"above\":[{\"id\":\"955ee3fc-ecdc-4d70-9ddc-716a993a1ef1\",\"type\":\"Legend\"}],\"below\":[{\"id\":\"861c02b8-e5f6-4126-bb01-7d88214784bc\",\"type\":\"LinearAxis\"}],\"left\":[{\"id\":\"1162cd67-f8a3-4f70-aa12-7b6e68a9799a\",\"type\":\"LinearAxis\"}],\"plot_width\":300,\"renderers\":[{\"id\":\"861c02b8-e5f6-4126-bb01-7d88214784bc\",\"type\":\"LinearAxis\"},{\"id\":\"b057054e-7fa5-4c71-9ed0-d8d8d82fe136\",\"type\":\"Grid\"},{\"id\":\"1162cd67-f8a3-4f70-aa12-7b6e68a9799a\",\"type\":\"LinearAxis\"},{\"id\":\"e6c5c2da-85e7-490b-8507-aad780800002\",\"type\":\"Grid\"},{\"id\":\"ec862d7e-8972-4d3a-9955-bef9bb460d65\",\"type\":\"BoxAnnotation\"},{\"id\":\"91de8c6e-62ef-4f91-a416-ee854c8cb02c\",\"type\":\"GlyphRenderer\"},{\"id\":\"fdf38a96-ebce-4bb8-8b83-b2f158f52d1a\",\"type\":\"GlyphRenderer\"},{\"id\":\"a62429f0-93ca-420b-9b6a-8477e2df5714\",\"type\":\"GlyphRenderer\"},{\"id\":\"955ee3fc-ecdc-4d70-9ddc-716a993a1ef1\",\"type\":\"Legend\"}],\"title\":{\"id\":\"c45a261c-41d2-4f98-b322-891ec9965a67\",\"type\":\"Title\"},\"toolbar\":{\"id\":\"d3a78028-2bc1-4cac-b407-dd1e66a7b751\",\"type\":\"Toolbar\"},\"toolbar_location\":null,\"x_range\":{\"id\":\"9703b2c2-9cc0-47ec-b5f1-7dec51d836bf\",\"type\":\"Range1d\"},\"x_scale\":{\"id\":\"9c8e49d4-08e6-445a-975b-cc647026303a\",\"type\":\"LinearScale\"},\"y_range\":{\"id\":\"4d6cb6ed-2fa1-454c-8e5f-623e84042f9b\",\"type\":\"Range1d\"},\"y_scale\":{\"id\":\"8fec8bcf-3638-4352-a842-31d641175ddf\",\"type\":\"LinearScale\"}},\"id\":\"9a741b58-a862-4f8d-b3a9-c7752b9af06e\",\"subtype\":\"Figure\",\"type\":\"Plot\"},{\"attributes\":{\"dimension\":1,\"plot\":{\"id\":\"64a4c7e3-bfdd-44d3-ac13-ab7b521380f0\",\"subtype\":\"Figure\",\"type\":\"Plot\"},\"ticker\":{\"id\":\"81495369-5b1e-4713-bf6d-78bb099f9d94\",\"type\":\"LogTicker\"}},\"id\":\"4c8c2ea7-8ad0-4db0-981e-c4749e98c8a3\",\"type\":\"Grid\"},{\"attributes\":{\"plot\":{\"id\":\"0cb8e049-c5c0-4031-86d0-b180302ac6f3\",\"subtype\":\"Figure\",\"type\":\"Plot\"},\"ticker\":{\"id\":\"b32a94d3-10aa-4e40-8c1e-f5f4c72cc569\",\"type\":\"BasicTicker\"}},\"id\":\"7a2aa03c-9c5f-4641-a0b6-02399446b448\",\"type\":\"Grid\"},{\"attributes\":{\"callback\":null,\"end\":2.3135572750986206,\"start\":-0.22322768330062},\"id\":\"9703b2c2-9cc0-47ec-b5f1-7dec51d836bf\",\"type\":\"Range1d\"},{\"attributes\":{\"dimension\":1,\"plot\":{\"id\":\"0cb8e049-c5c0-4031-86d0-b180302ac6f3\",\"subtype\":\"Figure\",\"type\":\"Plot\"},\"ticker\":{\"id\":\"27df987c-8bfb-44e4-8bfd-256a328f85d0\",\"type\":\"LogTicker\"}},\"id\":\"df803f50-dc4b-4b63-af8d-aa7a8dc03c08\",\"type\":\"Grid\"},{\"attributes\":{},\"id\":\"ddb5506a-be48-4f68-992f-b1c314ff6eac\",\"type\":\"UnionRenderers\"},{\"attributes\":{},\"id\":\"8859f7f1-dcdf-4016-b11e-ef0b2987e457\",\"type\":\"WheelZoomTool\"},{\"attributes\":{\"axis_label\":\"pressure [mb]\",\"formatter\":{\"id\":\"6346fa85-e264-4e84-8981-fa0d02048371\",\"type\":\"LogTickFormatter\"},\"plot\":{\"id\":\"64a4c7e3-bfdd-44d3-ac13-ab7b521380f0\",\"subtype\":\"Figure\",\"type\":\"Plot\"},\"ticker\":{\"id\":\"81495369-5b1e-4713-bf6d-78bb099f9d94\",\"type\":\"LogTicker\"}},\"id\":\"aa77056e-add7-4705-8c7e-61c52160a592\",\"type\":\"LogAxis\"},{\"attributes\":{},\"id\":\"9dd5a8e6-c2b4-475e-a039-6272c6c49a68\",\"type\":\"BasicTicker\"},{\"attributes\":{\"bottom_units\":\"screen\",\"fill_alpha\":{\"value\":0.5},\"fill_color\":{\"value\":\"lightgrey\"},\"left_units\":\"screen\",\"level\":\"overlay\",\"line_alpha\":{\"value\":1.0},\"line_color\":{\"value\":\"black\"},\"line_dash\":[4,4],\"line_width\":{\"value\":2},\"plot\":null,\"render_mode\":\"css\",\"right_units\":\"screen\",\"top_units\":\"screen\"},\"id\":\"e78ef44c-c5e4-4017-a7d7-214b8a880981\",\"type\":\"BoxAnnotation\"},{\"attributes\":{\"line_alpha\":0.6,\"line_color\":\"#e41a1c\",\"line_dash\":[6],\"line_width\":5,\"x\":{\"field\":\"x\"},\"y\":{\"field\":\"y\"}},\"id\":\"14a6a07a-eda5-4f1b-bd7c-abbeafadecb1\",\"type\":\"Line\"},{\"attributes\":{\"label\":{\"value\":\"CRD\"},\"renderers\":[{\"id\":\"c9c8257f-a8ba-48ae-b9c0-961815c53669\",\"type\":\"GlyphRenderer\"},{\"id\":\"112ae870-dde0-4ca8-b076-e54aed3a3eb9\",\"type\":\"GlyphRenderer\"}]},\"id\":\"bdaa05dc-8f50-4c14-b810-4e2c208615f7\",\"type\":\"LegendItem\"},{\"attributes\":{\"tools\":[{\"id\":\"3395ebef-0f4d-43b9-89ba-62b9054271c1\",\"type\":\"PanTool\"},{\"id\":\"207980ce-4ae2-4c10-9113-c4e7b4e1f158\",\"type\":\"WheelZoomTool\"},{\"id\":\"12e10227-2404-40ac-9daf-0872495427c7\",\"type\":\"BoxZoomTool\"},{\"id\":\"c7d279ed-297e-4343-a50f-52366790a15c\",\"type\":\"SaveTool\"},{\"id\":\"c950a0c9-55ff-4e04-b3a8-30e5eaf7520f\",\"type\":\"ResetTool\"},{\"id\":\"67efa89b-88bd-44e1-937f-e7bd56256e92\",\"type\":\"HelpTool\"},{\"id\":\"b0ed2062-ca93-496c-990a-950710738654\",\"type\":\"PanTool\"},{\"id\":\"d5390c8c-7157-4a2d-bf93-d1d3dbed694b\",\"type\":\"WheelZoomTool\"},{\"id\":\"a2827b57-7829-449a-8403-6d291f57ac42\",\"type\":\"BoxZoomTool\"},{\"id\":\"2a54eaf6-e492-4d2a-9438-da90a0d5d166\",\"type\":\"SaveTool\"},{\"id\":\"e6dcdf94-fb3b-4cb0-a38f-4cd6e3ad42d8\",\"type\":\"ResetTool\"},{\"id\":\"8aab3eb8-1abb-4a90-9d6d-a5494afc0e1d\",\"type\":\"HelpTool\"},{\"id\":\"95950a1b-0a33-45d0-a2ea-5ecb7de57121\",\"type\":\"PanTool\"},{\"id\":\"8859f7f1-dcdf-4016-b11e-ef0b2987e457\",\"type\":\"WheelZoomTool\"},{\"id\":\"ed32b003-b7a5-4217-b930-bd9c7d6e4e1a\",\"type\":\"BoxZoomTool\"},{\"id\":\"bf0b2505-312f-4319-bf8c-59691d950640\",\"type\":\"SaveTool\"},{\"id\":\"71d556f7-3e09-4958-8d39-ca7fccd29dfc\",\"type\":\"ResetTool\"},{\"id\":\"43969974-d245-40f0-85a6-874fc89696d0\",\"type\":\"HelpTool\"}]},\"id\":\"69e03aaf-e4e9-4b4d-9e37-0d59349727cc\",\"type\":\"ProxyToolbar\"},{\"attributes\":{\"overlay\":{\"id\":\"e78ef44c-c5e4-4017-a7d7-214b8a880981\",\"type\":\"BoxAnnotation\"}},\"id\":\"a2827b57-7829-449a-8403-6d291f57ac42\",\"type\":\"BoxZoomTool\"},{\"attributes\":{},\"id\":\"0a7bac6f-7a31-45e1-8924-822e2982ac20\",\"type\":\"BasicTicker\"},{\"attributes\":{\"source\":{\"id\":\"36d4dcca-ec63-4bcb-93c5-7112078e13b6\",\"type\":\"ColumnDataSource\"}},\"id\":\"f80dc96d-0ba2-4c88-8556-da11aff80900\",\"type\":\"CDSView\"},{\"attributes\":{\"above\":[{\"id\":\"7fe39c75-afb0-4a07-bfa1-56d91a3723c6\",\"type\":\"Legend\"}],\"below\":[{\"id\":\"c9099af9-32e4-450d-9ad0-7a928af6e64d\",\"type\":\"LinearAxis\"}],\"left\":[{\"id\":\"aa77056e-add7-4705-8c7e-61c52160a592\",\"type\":\"LogAxis\"}],\"plot_width\":300,\"renderers\":[{\"id\":\"c9099af9-32e4-450d-9ad0-7a928af6e64d\",\"type\":\"LinearAxis\"},{\"id\":\"e5b3de2c-6df2-40ae-b61f-6e3f84baff05\",\"type\":\"Grid\"},{\"id\":\"aa77056e-add7-4705-8c7e-61c52160a592\",\"type\":\"LogAxis\"},{\"id\":\"4c8c2ea7-8ad0-4db0-981e-c4749e98c8a3\",\"type\":\"Grid\"},{\"id\":\"e78ef44c-c5e4-4017-a7d7-214b8a880981\",\"type\":\"BoxAnnotation\"},{\"id\":\"5b179fed-5094-408c-978e-4ede085260e3\",\"type\":\"GlyphRenderer\"},{\"id\":\"c9c8257f-a8ba-48ae-b9c0-961815c53669\",\"type\":\"GlyphRenderer\"},{\"id\":\"112ae870-dde0-4ca8-b076-e54aed3a3eb9\",\"type\":\"GlyphRenderer\"},{\"id\":\"7fe39c75-afb0-4a07-bfa1-56d91a3723c6\",\"type\":\"Legend\"}],\"title\":{\"id\":\"5928c5b3-9f04-4bac-a8c6-790532e45768\",\"type\":\"Title\"},\"toolbar\":{\"id\":\"b6acff66-6b5c-4c5f-888c-bc0e7e20d9be\",\"type\":\"Toolbar\"},\"toolbar_location\":null,\"x_range\":{\"id\":\"e672ead3-3250-428f-bbdc-8ee884767bcd\",\"type\":\"Range1d\"},\"x_scale\":{\"id\":\"0b53a527-0fd6-4f7e-9895-f54203874d02\",\"type\":\"LinearScale\"},\"y_range\":{\"id\":\"fae48dc4-1255-4ae4-ae7c-0867d5ae03b5\",\"type\":\"Range1d\"},\"y_scale\":{\"id\":\"23024975-3065-4352-ac7f-085c2e69c948\",\"type\":\"LogScale\"}},\"id\":\"64a4c7e3-bfdd-44d3-ac13-ab7b521380f0\",\"subtype\":\"Figure\",\"type\":\"Plot\"},{\"attributes\":{},\"id\":\"6093e7df-be69-443c-bcb4-4606425a1475\",\"type\":\"Selection\"},{\"attributes\":{},\"id\":\"0b53a527-0fd6-4f7e-9895-f54203874d02\",\"type\":\"LinearScale\"},{\"attributes\":{},\"id\":\"77941fbb-ecf8-44a5-a910-abdcbf3ff7cf\",\"type\":\"LogScale\"},{\"attributes\":{\"data_source\":{\"id\":\"dc07eec1-7c03-4e2a-aed5-feb97fa153fd\",\"type\":\"ColumnDataSource\"},\"glyph\":{\"id\":\"5370f7bc-2682-4596-9ca4-d1c06fb0af59\",\"type\":\"Line\"},\"hover_glyph\":null,\"muted_glyph\":null,\"nonselection_glyph\":{\"id\":\"25aabcbd-60e9-4ceb-933d-2d22cac7f1cf\",\"type\":\"Line\"},\"selection_glyph\":null,\"view\":{\"id\":\"533af88c-bd4c-4130-825c-654dde24c9ae\",\"type\":\"CDSView\"}},\"id\":\"a62429f0-93ca-420b-9b6a-8477e2df5714\",\"type\":\"GlyphRenderer\"},{\"attributes\":{\"callback\":null,\"end\":0.01,\"start\":1020},\"id\":\"7cd9e278-8391-4992-8a44-30b050d1de16\",\"type\":\"Range1d\"},{\"attributes\":{\"line_alpha\":0.1,\"line_color\":\"#1f77b4\",\"line_dash\":[6],\"line_width\":5,\"x\":{\"field\":\"x\"},\"y\":{\"field\":\"y\"}},\"id\":\"1e12935e-535f-478b-8fd1-8a8ffc2bea73\",\"type\":\"Line\"},{\"attributes\":{\"plot\":{\"id\":\"64a4c7e3-bfdd-44d3-ac13-ab7b521380f0\",\"subtype\":\"Figure\",\"type\":\"Plot\"},\"ticker\":{\"id\":\"9dd5a8e6-c2b4-475e-a039-6272c6c49a68\",\"type\":\"BasicTicker\"}},\"id\":\"e5b3de2c-6df2-40ae-b61f-6e3f84baff05\",\"type\":\"Grid\"},{\"attributes\":{\"callback\":null,\"data\":{\"x\":{\"__ndarray__\":\"cm1sTMT3VEDEyvjosEJHQOKI6DjzCUNArgQWV9awPkB9Lm8XG3M4QEz+Qv6iYzNA7eV8HaPLLkCX1QHyTpMoQFBmYSYetiNAUB04GtGpH0AmFyVE5j8ZQJca9QPGqBNALJP+OOHHDEBNxaf7QF8AQKtislomWuw/cW2dcO6A9T/uJJvfPu0EQIaQLTI/JQ1AxGiII+PmEkCJvfVeuCsYQD6ZBhGbHB9AXQw69DTYJEAsubcwKucqQNuT9D5OmipAJyi3szEJJUBlNebh5WkgQDDcPHBr2xlArtlANXuQFEBdJadFHckQQI2Avh0ZsQtAjYiwt1rsBUCL0SDoVBgAQK6C0nEEjvc/CggLSme58T9sXU2orFPnP0v0JYz9Gdg/vT38vxYczD9nBQTe6kHHP1IhkEXJwKo/8OZnhCVAub+xtVgCpmqzP6DUpY6g0+k/PKK3T1h4+D8RTDjQc1EAQG/dAQs7TwJAQt2eHpPLAEBWEh074x//PyCap9ZSGf4/rEzaTySm/T+7aXhHRmr9P688KeqeNP0/ruZ4EemD/D8olrZcn9T7P0+vNc9hW/s/i9VVL+4P+z+0NzC24uz6P8731Kza8vo/xFf4SHzq+z+gYyHpvHb8P68ROkiFevw/BAjYdCga/D8AUp8VbW77P3JrF/nKmvo/qCQeGfq++T/dplwHJfn4P2G4p+Uva/g/OzZ0RqMZ+D8dmn/iar73P/OuA7Ka8PY/gaaeQHGn9T9hkyjAH1L0P3aZGhdAU/M/n8VP/g7P8j+90HxHNvfyPwhNBtgrqvk/\",\"dtype\":\"float64\",\"shape\":[75]},\"y\":{\"__ndarray__\":\"GhExyth1ND/Sv8nbtpRIP2vylNV0PVE/aTum7souWD/At0SJ8fVgPw3Iuahxymc/MSNhhJWvcD/bTfBN02d3P2zb5nxnaoA/CD5h5MAGhz8NmeH1TyaQP+zrCsc9p5Y/LbKd76fGnz/bLW5ISEmmPww9YvTcQq8/JV2OstnstT8Er5Y7M8G+P0c+r3jqkcU/5h99k6ZBzj88bCIzFzjVP4enV8oyxN0//yH99nXg5D8qOpLLf0jtP5kqGJXUifQ/c9cS8kHP/D+/DpwzojQEQIEmwoanVwxA4lgXt9HgE0BSSZ2AJuIbQAMJih9jjiNA5q4l5INuK0AwTKYKRj0zQNv5fmq8/DpAaCJseHrtQkB/+zpwzoxKQM3MzMzMeFJAZmZmZmZqWEAAAAAAAFxeQM3MzMzMJmJAmpmZmZkfZUBmZmZmZhhoQDMzMzMzEWtAAAAAAAAKbkBmZmZmZoFwQM3MzMzM/XFAMzMzMzN6c0CamZmZmfZ0QAAAAAAAc3ZAZmZmZmbvd0DNzMzMzGt5QDMzMzMz6HpAmpmZmZlkfEAAAAAAAOF9QGZmZmZmXX9AZmZmZuZsgECamZmZGSuBQM3MzMxM6YFAAAAAAICngkAzMzMzs2WDQGZmZmbmI4RAmpmZmRnihEDNzMzMTKCFQAAAAACAXoZAMzMzM7Mch0BmZmZm5tqHQJqZmZkZmYhAzczMzExXiUAAAAAAgBWKQDMzMzOz04pAZmZmZuaRi0CamZmZGVCMQM3MzMxMDo1AAAAAAIDMjUAzMzMzs4qOQGZmZmbmSI9A\",\"dtype\":\"float64\",\"shape\":[75]}},\"selected\":{\"id\":\"6093e7df-be69-443c-bcb4-4606425a1475\",\"type\":\"Selection\"},\"selection_policy\":{\"id\":\"ddb5506a-be48-4f68-992f-b1c314ff6eac\",\"type\":\"UnionRenderers\"}},\"id\":\"b3a9252a-389b-467c-b69f-3af050854bb4\",\"type\":\"ColumnDataSource\"},{\"attributes\":{\"items\":[{\"id\":\"a75c76f9-8a1c-4cad-a1d3-2197da7399a2\",\"type\":\"LegendItem\"},{\"id\":\"bdaa05dc-8f50-4c14-b810-4e2c208615f7\",\"type\":\"LegendItem\"}],\"label_text_font_size\":{\"value\":\"8pt\"},\"location\":\"top_center\",\"orientation\":\"horizontal\",\"plot\":{\"id\":\"64a4c7e3-bfdd-44d3-ac13-ab7b521380f0\",\"subtype\":\"Figure\",\"type\":\"Plot\"}},\"id\":\"7fe39c75-afb0-4a07-bfa1-56d91a3723c6\",\"type\":\"Legend\"},{\"attributes\":{},\"id\":\"71d58cf2-afd5-49ff-9d6c-314acdeb976b\",\"type\":\"UnionRenderers\"},{\"attributes\":{\"axis_label\":\"cooling rate [K/day]\",\"formatter\":{\"id\":\"662fbf1f-092c-4407-9f8f-00270f5b746f\",\"type\":\"BasicTickFormatter\"},\"plot\":{\"id\":\"64a4c7e3-bfdd-44d3-ac13-ab7b521380f0\",\"subtype\":\"Figure\",\"type\":\"Plot\"},\"ticker\":{\"id\":\"9dd5a8e6-c2b4-475e-a039-6272c6c49a68\",\"type\":\"BasicTicker\"}},\"id\":\"c9099af9-32e4-450d-9ad0-7a928af6e64d\",\"type\":\"LinearAxis\"},{\"attributes\":{\"line_color\":\"#4daf4a\",\"line_width\":1.5,\"x\":{\"field\":\"x\"},\"y\":{\"field\":\"y\"}},\"id\":\"5370f7bc-2682-4596-9ca4-d1c06fb0af59\",\"type\":\"Line\"},{\"attributes\":{},\"id\":\"8aab3eb8-1abb-4a90-9d6d-a5494afc0e1d\",\"type\":\"HelpTool\"},{\"attributes\":{},\"id\":\"43969974-d245-40f0-85a6-874fc89696d0\",\"type\":\"HelpTool\"},{\"attributes\":{},\"id\":\"e4b79c37-b5fa-4590-a8e6-de07379fcd0f\",\"type\":\"LinearScale\"},{\"attributes\":{},\"id\":\"f7dacadb-0e51-4a3a-9ccd-f4586295ccea\",\"type\":\"Selection\"},{\"attributes\":{\"source\":{\"id\":\"897188e7-44e9-4c2b-b4b7-dd8e061dbb91\",\"type\":\"ColumnDataSource\"}},\"id\":\"ec25f136-4abf-4a0c-8b99-c4ceda08a8eb\",\"type\":\"CDSView\"},{\"attributes\":{},\"id\":\"b32a94d3-10aa-4e40-8c1e-f5f4c72cc569\",\"type\":\"BasicTicker\"},{\"attributes\":{\"items\":[{\"id\":\"0a1deed7-7b18-471e-9c56-3f8bf5f7c4d9\",\"type\":\"LegendItem\"},{\"id\":\"e6e1f7af-78d3-42cc-944f-edb9a732f86a\",\"type\":\"LegendItem\"}],\"label_text_font_size\":{\"value\":\"8pt\"},\"location\":\"top_center\",\"orientation\":\"horizontal\",\"plot\":{\"id\":\"9a741b58-a862-4f8d-b3a9-c7752b9af06e\",\"subtype\":\"Figure\",\"type\":\"Plot\"}},\"id\":\"955ee3fc-ecdc-4d70-9ddc-716a993a1ef1\",\"type\":\"Legend\"},{\"attributes\":{},\"id\":\"f120dc2e-9d6f-4d55-b8b6-e453ae5f6cd2\",\"type\":\"Selection\"},{\"attributes\":{\"bottom_units\":\"screen\",\"fill_alpha\":{\"value\":0.5},\"fill_color\":{\"value\":\"lightgrey\"},\"left_units\":\"screen\",\"level\":\"overlay\",\"line_alpha\":{\"value\":1.0},\"line_color\":{\"value\":\"black\"},\"line_dash\":[4,4],\"line_width\":{\"value\":2},\"plot\":null,\"render_mode\":\"css\",\"right_units\":\"screen\",\"top_units\":\"screen\"},\"id\":\"d3a8166f-8aff-4690-a7b5-af83a03cb550\",\"type\":\"BoxAnnotation\"},{\"attributes\":{\"callback\":null,\"data\":{\"x\":{\"__ndarray__\":\"cm1sTMT3VEDEyvjosEJHQOKI6DjzCUNArgQWV9awPkB9Lm8XG3M4QEz+Qv6iYzNA7eV8HaPLLkCX1QHyTpMoQFBmYSYetiNAUB04GtGpH0AmFyVE5j8ZQJca9QPGqBNALJP+OOHHDEBNxaf7QF8AQKtislomWuw/cW2dcO6A9T/uJJvfPu0EQIaQLTI/JQ1AxGiII+PmEkCJvfVeuCsYQD6ZBhGbHB9AXQw69DTYJEAsubcwKucqQNuT9D5OmipAJyi3szEJJUBlNebh5WkgQDDcPHBr2xlArtlANXuQFEBdJadFHckQQI2Avh0ZsQtAjYiwt1rsBUCL0SDoVBgAQK6C0nEEjvc/CggLSme58T9sXU2orFPnP0v0JYz9Gdg/vT38vxYczD9nBQTe6kHHP1IhkEXJwKo/8OZnhCVAub+xtVgCpmqzP6DUpY6g0+k/PKK3T1h4+D8RTDjQc1EAQG/dAQs7TwJAQt2eHpPLAEBWEh074x//PyCap9ZSGf4/rEzaTySm/T+7aXhHRmr9P688KeqeNP0/ruZ4EemD/D8olrZcn9T7P0+vNc9hW/s/i9VVL+4P+z+0NzC24uz6P8731Kza8vo/xFf4SHzq+z+gYyHpvHb8P68ROkiFevw/BAjYdCga/D8AUp8VbW77P3JrF/nKmvo/qCQeGfq++T/dplwHJfn4P2G4p+Uva/g/OzZ0RqMZ+D8dmn/iar73P/OuA7Ka8PY/gaaeQHGn9T9hkyjAH1L0P3aZGhdAU/M/n8VP/g7P8j+90HxHNvfyPwhNBtgrqvk/\",\"dtype\":\"float64\",\"shape\":[75]},\"y\":{\"__ndarray__\":\"GhExyth1ND/Sv8nbtpRIP2vylNV0PVE/aTum7souWD/At0SJ8fVgPw3Iuahxymc/MSNhhJWvcD/bTfBN02d3P2zb5nxnaoA/CD5h5MAGhz8NmeH1TyaQP+zrCsc9p5Y/LbKd76fGnz/bLW5ISEmmPww9YvTcQq8/JV2OstnstT8Er5Y7M8G+P0c+r3jqkcU/5h99k6ZBzj88bCIzFzjVP4enV8oyxN0//yH99nXg5D8qOpLLf0jtP5kqGJXUifQ/c9cS8kHP/D+/DpwzojQEQIEmwoanVwxA4lgXt9HgE0BSSZ2AJuIbQAMJih9jjiNA5q4l5INuK0AwTKYKRj0zQNv5fmq8/DpAaCJseHrtQkB/+zpwzoxKQM3MzMzMeFJAZmZmZmZqWEAAAAAAAFxeQM3MzMzMJmJAmpmZmZkfZUBmZmZmZhhoQDMzMzMzEWtAAAAAAAAKbkBmZmZmZoFwQM3MzMzM/XFAMzMzMzN6c0CamZmZmfZ0QAAAAAAAc3ZAZmZmZmbvd0DNzMzMzGt5QDMzMzMz6HpAmpmZmZlkfEAAAAAAAOF9QGZmZmZmXX9AZmZmZuZsgECamZmZGSuBQM3MzMxM6YFAAAAAAICngkAzMzMzs2WDQGZmZmbmI4RAmpmZmRnihEDNzMzMTKCFQAAAAACAXoZAMzMzM7Mch0BmZmZm5tqHQJqZmZkZmYhAzczMzExXiUAAAAAAgBWKQDMzMzOz04pAZmZmZuaRi0CamZmZGVCMQM3MzMxMDo1AAAAAAIDMjUAzMzMzs4qOQGZmZmbmSI9A\",\"dtype\":\"float64\",\"shape\":[75]}},\"selected\":{\"id\":\"1a336997-16ac-450d-b386-03d479f80ada\",\"type\":\"Selection\"},\"selection_policy\":{\"id\":\"44e15868-9a01-4004-b131-a32db9fa6e1a\",\"type\":\"UnionRenderers\"}},\"id\":\"dc07eec1-7c03-4e2a-aed5-feb97fa153fd\",\"type\":\"ColumnDataSource\"},{\"attributes\":{},\"id\":\"23024975-3065-4352-ac7f-085c2e69c948\",\"type\":\"LogScale\"},{\"attributes\":{},\"id\":\"8d6a27df-0994-4d36-a46e-e13aba69bd87\",\"type\":\"Selection\"},{\"attributes\":{},\"id\":\"f980f7f1-7d6b-42af-a1a8-a253a6e9203b\",\"type\":\"Selection\"},{\"attributes\":{},\"id\":\"71d556f7-3e09-4958-8d39-ca7fccd29dfc\",\"type\":\"ResetTool\"},{\"attributes\":{\"active_drag\":\"auto\",\"active_inspect\":\"auto\",\"active_scroll\":\"auto\",\"active_tap\":\"auto\",\"tools\":[{\"id\":\"95950a1b-0a33-45d0-a2ea-5ecb7de57121\",\"type\":\"PanTool\"},{\"id\":\"8859f7f1-dcdf-4016-b11e-ef0b2987e457\",\"type\":\"WheelZoomTool\"},{\"id\":\"ed32b003-b7a5-4217-b930-bd9c7d6e4e1a\",\"type\":\"BoxZoomTool\"},{\"id\":\"bf0b2505-312f-4319-bf8c-59691d950640\",\"type\":\"SaveTool\"},{\"id\":\"71d556f7-3e09-4958-8d39-ca7fccd29dfc\",\"type\":\"ResetTool\"},{\"id\":\"43969974-d245-40f0-85a6-874fc89696d0\",\"type\":\"HelpTool\"}]},\"id\":\"dde38c31-12a5-4a25-83b9-1233b34be1cb\",\"type\":\"Toolbar\"},{\"attributes\":{\"axis_label\":\"pressure [mb]\",\"formatter\":{\"id\":\"d67619e2-15e0-4a71-9c12-91fed8c7d51e\",\"type\":\"BasicTickFormatter\"},\"plot\":{\"id\":\"9a741b58-a862-4f8d-b3a9-c7752b9af06e\",\"subtype\":\"Figure\",\"type\":\"Plot\"},\"ticker\":{\"id\":\"be62b782-989a-4ec9-9b71-1b3ecdee34b1\",\"type\":\"BasicTicker\"}},\"id\":\"1162cd67-f8a3-4f70-aa12-7b6e68a9799a\",\"type\":\"LinearAxis\"},{\"attributes\":{\"active_drag\":\"auto\",\"active_inspect\":\"auto\",\"active_scroll\":\"auto\",\"active_tap\":\"auto\",\"tools\":[{\"id\":\"b0ed2062-ca93-496c-990a-950710738654\",\"type\":\"PanTool\"},{\"id\":\"d5390c8c-7157-4a2d-bf93-d1d3dbed694b\",\"type\":\"WheelZoomTool\"},{\"id\":\"a2827b57-7829-449a-8403-6d291f57ac42\",\"type\":\"BoxZoomTool\"},{\"id\":\"2a54eaf6-e492-4d2a-9438-da90a0d5d166\",\"type\":\"SaveTool\"},{\"id\":\"e6dcdf94-fb3b-4cb0-a38f-4cd6e3ad42d8\",\"type\":\"ResetTool\"},{\"id\":\"8aab3eb8-1abb-4a90-9d6d-a5494afc0e1d\",\"type\":\"HelpTool\"}]},\"id\":\"b6acff66-6b5c-4c5f-888c-bc0e7e20d9be\",\"type\":\"Toolbar\"},{\"attributes\":{\"source\":{\"id\":\"6de5e7bd-2522-462f-8bdc-bf2ba39b842b\",\"type\":\"ColumnDataSource\"}},\"id\":\"473774c4-9345-4f83-9b93-b100761ef573\",\"type\":\"CDSView\"},{\"attributes\":{\"plot\":{\"id\":\"9a741b58-a862-4f8d-b3a9-c7752b9af06e\",\"subtype\":\"Figure\",\"type\":\"Plot\"},\"ticker\":{\"id\":\"0a7bac6f-7a31-45e1-8924-822e2982ac20\",\"type\":\"BasicTicker\"}},\"id\":\"b057054e-7fa5-4c71-9ed0-d8d8d82fe136\",\"type\":\"Grid\"},{\"attributes\":{\"num_minor_ticks\":10},\"id\":\"27df987c-8bfb-44e4-8bfd-256a328f85d0\",\"type\":\"LogTicker\"},{\"attributes\":{},\"id\":\"d5390c8c-7157-4a2d-bf93-d1d3dbed694b\",\"type\":\"WheelZoomTool\"},{\"attributes\":{},\"id\":\"95950a1b-0a33-45d0-a2ea-5ecb7de57121\",\"type\":\"PanTool\"},{\"attributes\":{\"items\":[{\"id\":\"200e48a2-a97b-4465-919c-d56256de7b19\",\"type\":\"LegendItem\"}],\"label_text_font_size\":{\"value\":\"8pt\"},\"location\":\"top_center\",\"orientation\":\"horizontal\",\"plot\":{\"id\":\"0cb8e049-c5c0-4031-86d0-b180302ac6f3\",\"subtype\":\"Figure\",\"type\":\"Plot\"}},\"id\":\"b7e87a86-ebff-4683-9990-dae18c10f58e\",\"type\":\"Legend\"},{\"attributes\":{\"source\":{\"id\":\"dc07eec1-7c03-4e2a-aed5-feb97fa153fd\",\"type\":\"ColumnDataSource\"}},\"id\":\"533af88c-bd4c-4130-825c-654dde24c9ae\",\"type\":\"CDSView\"},{\"attributes\":{\"label\":{\"value\":\"CLIRAD\"},\"renderers\":[{\"id\":\"91de8c6e-62ef-4f91-a416-ee854c8cb02c\",\"type\":\"GlyphRenderer\"}]},\"id\":\"0a1deed7-7b18-471e-9c56-3f8bf5f7c4d9\",\"type\":\"LegendItem\"},{\"attributes\":{\"axis_label\":\"pressure [mb]\",\"formatter\":{\"id\":\"49e57614-a2b0-42ae-80ef-eebd3f6dd013\",\"type\":\"LogTickFormatter\"},\"plot\":{\"id\":\"0cb8e049-c5c0-4031-86d0-b180302ac6f3\",\"subtype\":\"Figure\",\"type\":\"Plot\"},\"ticker\":{\"id\":\"27df987c-8bfb-44e4-8bfd-256a328f85d0\",\"type\":\"LogTicker\"}},\"id\":\"f9d8c73b-3eea-4e8b-8a07-ea5a942139ed\",\"type\":\"LogAxis\"},{\"attributes\":{\"num_minor_ticks\":10},\"id\":\"81495369-5b1e-4713-bf6d-78bb099f9d94\",\"type\":\"LogTicker\"},{\"attributes\":{\"callback\":null,\"data\":{\"x\":{\"__ndarray__\":\"cm1sTMT3VEDEyvjosEJHQOKI6DjzCUNArgQWV9awPkB9Lm8XG3M4QEz+Qv6iYzNA7eV8HaPLLkCX1QHyTpMoQFBmYSYetiNAUB04GtGpH0AmFyVE5j8ZQJca9QPGqBNALJP+OOHHDEBNxaf7QF8AQKtislomWuw/cW2dcO6A9T/uJJvfPu0EQIaQLTI/JQ1AxGiII+PmEkCJvfVeuCsYQD6ZBhGbHB9AXQw69DTYJEAsubcwKucqQNuT9D5OmipAJyi3szEJJUBlNebh5WkgQDDcPHBr2xlArtlANXuQFEBdJadFHckQQI2Avh0ZsQtAjYiwt1rsBUCL0SDoVBgAQK6C0nEEjvc/CggLSme58T9sXU2orFPnP0v0JYz9Gdg/vT38vxYczD9nBQTe6kHHP1IhkEXJwKo/8OZnhCVAub+xtVgCpmqzP6DUpY6g0+k/PKK3T1h4+D8RTDjQc1EAQG/dAQs7TwJAQt2eHpPLAEBWEh074x//PyCap9ZSGf4/rEzaTySm/T+7aXhHRmr9P688KeqeNP0/ruZ4EemD/D8olrZcn9T7P0+vNc9hW/s/i9VVL+4P+z+0NzC24uz6P8731Kza8vo/xFf4SHzq+z+gYyHpvHb8P68ROkiFevw/BAjYdCga/D8AUp8VbW77P3JrF/nKmvo/qCQeGfq++T/dplwHJfn4P2G4p+Uva/g/OzZ0RqMZ+D8dmn/iar73P/OuA7Ka8PY/gaaeQHGn9T9hkyjAH1L0P3aZGhdAU/M/n8VP/g7P8j+90HxHNvfyPwhNBtgrqvk/\",\"dtype\":\"float64\",\"shape\":[75]},\"y\":{\"__ndarray__\":\"GhExyth1ND/Sv8nbtpRIP2vylNV0PVE/aTum7souWD/At0SJ8fVgPw3Iuahxymc/MSNhhJWvcD/bTfBN02d3P2zb5nxnaoA/CD5h5MAGhz8NmeH1TyaQP+zrCsc9p5Y/LbKd76fGnz/bLW5ISEmmPww9YvTcQq8/JV2OstnstT8Er5Y7M8G+P0c+r3jqkcU/5h99k6ZBzj88bCIzFzjVP4enV8oyxN0//yH99nXg5D8qOpLLf0jtP5kqGJXUifQ/c9cS8kHP/D+/DpwzojQEQIEmwoanVwxA4lgXt9HgE0BSSZ2AJuIbQAMJih9jjiNA5q4l5INuK0AwTKYKRj0zQNv5fmq8/DpAaCJseHrtQkB/+zpwzoxKQM3MzMzMeFJAZmZmZmZqWEAAAAAAAFxeQM3MzMzMJmJAmpmZmZkfZUBmZmZmZhhoQDMzMzMzEWtAAAAAAAAKbkBmZmZmZoFwQM3MzMzM/XFAMzMzMzN6c0CamZmZmfZ0QAAAAAAAc3ZAZmZmZmbvd0DNzMzMzGt5QDMzMzMz6HpAmpmZmZlkfEAAAAAAAOF9QGZmZmZmXX9AZmZmZuZsgECamZmZGSuBQM3MzMxM6YFAAAAAAICngkAzMzMzs2WDQGZmZmbmI4RAmpmZmRnihEDNzMzMTKCFQAAAAACAXoZAMzMzM7Mch0BmZmZm5tqHQJqZmZkZmYhAzczMzExXiUAAAAAAgBWKQDMzMzOz04pAZmZmZuaRi0CamZmZGVCMQM3MzMxMDo1AAAAAAIDMjUAzMzMzs4qOQGZmZmbmSI9A\",\"dtype\":\"float64\",\"shape\":[75]}},\"selected\":{\"id\":\"f120dc2e-9d6f-4d55-b8b6-e453ae5f6cd2\",\"type\":\"Selection\"},\"selection_policy\":{\"id\":\"800622cd-9ba2-4a04-a541-7e44da43920e\",\"type\":\"UnionRenderers\"}},\"id\":\"6de5e7bd-2522-462f-8bdc-bf2ba39b842b\",\"type\":\"ColumnDataSource\"},{\"attributes\":{},\"id\":\"c2656b7d-5433-4c74-aaec-f6db94fad035\",\"type\":\"UnionRenderers\"},{\"attributes\":{\"callback\":null,\"data\":{\"x\":{\"__ndarray__\":\"Ay4WgzmiRUAzdH4xyelCQI/4CCUPukFAmDQrpSkbQEAzbNWwowU8QFVgF/XlEDdAoDiHgYPLMUABmdymgcIpQGLYd07xCSJArfSs310nGkAWc9HvWtkUQOusy4pytBFAJqIBIKFJDUB2OQnHDJMDQMl96Kg58fU/43VcVuWK+j82Bjz+TzEFQNyoIwf3DQtAy+LYYlLgEEBpIj3ZQhcWQG2pjOCj/R1Af3bvKgrVJEABDCYXO8wqQEzO0e7F+ylAYXLSO7hOJEAgnb4nokcgQNoX8+gOZBtA1Mo1E7QFFkBNX8S4nigRQOo4z07g4AtAipA4vs4ICEB/nUqZ58sCQFWembm6Bfo/xtoM8LVF8T+FTjDicHrnPwW0NlGD6Ns/djxG7dEQzT/kgWfK0UXAP04e7p6uAKO/U8LMJsVjyb/9SNhTfdyDv6yHiyRvwuc/YH/Q96J+9z8fz8lq9RYAQHNa8arPlwFA6C5g8skGAEDf2G6Pg0P+Pzx05xsQIv0/aqvhULpq/D9/cRIK1jv8P0N2gFVlV/w/l8yGPE/u+z8PyvyTInP7P5+BCjLJB/s/712TDke9+j855FpFY4f6P7S7Qdxnhfo/BEctRHOb+z/jcb7JUHz8P62m1jeD/vw/Kl5ga3r9/D8lrYwPuV38Pz+eRmufRvs/QIGudyMW+j/FXLa7nv/4P2WVJw9Rbfg/CejmZKc8+D+aZMjXvDf4PwzcqrkWtPc/y2300tGk9j+PCzl883P1P+ux3ZfUiPQ/9dhElUIR9D9+kji0k0T0P9hVz+l87/o/\",\"dtype\":\"float64\",\"shape\":[75]},\"y\":{\"__ndarray__\":\"S/O/Q+51ND/Sv8nbtpRIP2vylNV0PVE/aTum7souWD/At0SJ8fVgPw3Iuahxymc/MSNhhJWvcD/bTfBN02d3P2zb5nxnaoA/CD5h5MAGhz8NmeH1TyaQP+zrCsc9p5Y/LbKd76fGnz/bLW5ISEmmPww9YvTcQq8/JV2OstnstT8Er5Y7M8G+P0c+r3jqkcU/5h99k6ZBzj88bCIzFzjVP4enV8oyxN0//yH99nXg5D8qOpLLf0jtP5kqGJXUifQ/c9cS8kHP/D+/DpwzojQEQIEmwoanVwxA4lgXt9HgE0BSSZ2AJuIbQAMJih9jjiNA5q4l5INuK0AwTKYKRj0zQNv5fmq8/DpAaCJseHrtQkB/+zpwzoxKQM3MzMzMeFJAZmZmZmZqWEAAAAAAAFxeQM3MzMzMJmJAmpmZmZkfZUBmZmZmZhhoQDMzMzMzEWtAAAAAAAAKbkBmZmZmZoFwQM3MzMzM/XFAMzMzMzN6c0CamZmZmfZ0QAAAAAAAc3ZAZmZmZmbvd0DNzMzMzGt5QDMzMzMz6HpAmpmZmZlkfEAAAAAAAOF9QGZmZmZmXX9AZmZmZuZsgECamZmZGSuBQM3MzMxM6YFAAAAAAICngkAzMzMzs2WDQGZmZmbmI4RAmpmZmRnihEDNzMzMTKCFQAAAAACAXoZAMzMzM7Mch0BmZmZm5tqHQJqZmZkZmYhAzczMzExXiUAAAAAAgBWKQDMzMzOz04pAZmZmZuaRi0CamZmZGVCMQM3MzMxMDo1AAAAAAIDMjUAzMzMzs4qOQGZmZmbmSI9A\",\"dtype\":\"float64\",\"shape\":[75]}},\"selected\":{\"id\":\"886600f2-ffa1-48f3-b473-fcd4678527b4\",\"type\":\"Selection\"},\"selection_policy\":{\"id\":\"c2656b7d-5433-4c74-aaec-f6db94fad035\",\"type\":\"UnionRenderers\"}},\"id\":\"27f215b6-c336-48af-8d0e-5f1f46fa826f\",\"type\":\"ColumnDataSource\"},{\"attributes\":{\"label\":{\"value\":\"CLIRAD\"},\"renderers\":[{\"id\":\"5b179fed-5094-408c-978e-4ede085260e3\",\"type\":\"GlyphRenderer\"}]},\"id\":\"a75c76f9-8a1c-4cad-a1d3-2197da7399a2\",\"type\":\"LegendItem\"},{\"attributes\":{\"data_source\":{\"id\":\"6de5e7bd-2522-462f-8bdc-bf2ba39b842b\",\"type\":\"ColumnDataSource\"},\"glyph\":{\"id\":\"ecfcd29a-c0d7-4bc2-bbd2-7a289e36136c\",\"type\":\"Circle\"},\"hover_glyph\":null,\"muted_glyph\":null,\"nonselection_glyph\":{\"id\":\"23f06b1a-41ad-44ba-8f3d-271eff58e90d\",\"type\":\"Circle\"},\"selection_glyph\":null,\"view\":{\"id\":\"473774c4-9345-4f83-9b93-b100761ef573\",\"type\":\"CDSView\"}},\"id\":\"fdf38a96-ebce-4bb8-8b83-b2f158f52d1a\",\"type\":\"GlyphRenderer\"},{\"attributes\":{\"plot\":null,\"text\":\"\"},\"id\":\"c45a261c-41d2-4f98-b322-891ec9965a67\",\"type\":\"Title\"},{\"attributes\":{\"children\":[{\"id\":\"9a741b58-a862-4f8d-b3a9-c7752b9af06e\",\"subtype\":\"Figure\",\"type\":\"Plot\"},{\"id\":\"64a4c7e3-bfdd-44d3-ac13-ab7b521380f0\",\"subtype\":\"Figure\",\"type\":\"Plot\"},{\"id\":\"0cb8e049-c5c0-4031-86d0-b180302ac6f3\",\"subtype\":\"Figure\",\"type\":\"Plot\"}]},\"id\":\"dc471944-0b79-455c-b116-53c7c3bb75aa\",\"type\":\"Row\"},{\"attributes\":{\"fill_alpha\":{\"value\":0.1},\"fill_color\":{\"value\":\"#1f77b4\"},\"line_alpha\":{\"value\":0.1},\"line_color\":{\"value\":\"#1f77b4\"},\"x\":{\"field\":\"x\"},\"y\":{\"field\":\"y\"}},\"id\":\"23f06b1a-41ad-44ba-8f3d-271eff58e90d\",\"type\":\"Circle\"},{\"attributes\":{},\"id\":\"886600f2-ffa1-48f3-b473-fcd4678527b4\",\"type\":\"Selection\"},{\"attributes\":{\"fill_alpha\":{\"value\":0.7},\"fill_color\":{\"value\":\"#4daf4a\"},\"line_alpha\":{\"value\":0.7},\"line_color\":{\"value\":\"#4daf4a\"},\"x\":{\"field\":\"x\"},\"y\":{\"field\":\"y\"}},\"id\":\"ecfcd29a-c0d7-4bc2-bbd2-7a289e36136c\",\"type\":\"Circle\"},{\"attributes\":{\"source\":{\"id\":\"b9978688-0d84-42ce-acbb-70420c80a9a7\",\"type\":\"ColumnDataSource\"}},\"id\":\"3e1eda5b-fa54-4af7-973e-88c9cfa01876\",\"type\":\"CDSView\"},{\"attributes\":{\"active_drag\":\"auto\",\"active_inspect\":\"auto\",\"active_scroll\":\"auto\",\"active_tap\":\"auto\",\"tools\":[{\"id\":\"3395ebef-0f4d-43b9-89ba-62b9054271c1\",\"type\":\"PanTool\"},{\"id\":\"207980ce-4ae2-4c10-9113-c4e7b4e1f158\",\"type\":\"WheelZoomTool\"},{\"id\":\"12e10227-2404-40ac-9daf-0872495427c7\",\"type\":\"BoxZoomTool\"},{\"id\":\"c7d279ed-297e-4343-a50f-52366790a15c\",\"type\":\"SaveTool\"},{\"id\":\"c950a0c9-55ff-4e04-b3a8-30e5eaf7520f\",\"type\":\"ResetTool\"},{\"id\":\"67efa89b-88bd-44e1-937f-e7bd56256e92\",\"type\":\"HelpTool\"}]},\"id\":\"d3a78028-2bc1-4cac-b407-dd1e66a7b751\",\"type\":\"Toolbar\"},{\"attributes\":{\"label\":{\"value\":\"CLIRAD - CRD\"},\"renderers\":[{\"id\":\"1fecd806-7f43-498a-9be3-29600e747954\",\"type\":\"GlyphRenderer\"},{\"id\":\"b2101a8a-f7fc-4ad9-b689-008bfbee33ed\",\"type\":\"GlyphRenderer\"}]},\"id\":\"200e48a2-a97b-4465-919c-d56256de7b19\",\"type\":\"LegendItem\"},{\"attributes\":{\"bottom_units\":\"screen\",\"fill_alpha\":{\"value\":0.5},\"fill_color\":{\"value\":\"lightgrey\"},\"left_units\":\"screen\",\"level\":\"overlay\",\"line_alpha\":{\"value\":1.0},\"line_color\":{\"value\":\"black\"},\"line_dash\":[4,4],\"line_width\":{\"value\":2},\"plot\":null,\"render_mode\":\"css\",\"right_units\":\"screen\",\"top_units\":\"screen\"},\"id\":\"ec862d7e-8972-4d3a-9955-bef9bb460d65\",\"type\":\"BoxAnnotation\"},{\"attributes\":{},\"id\":\"10f525ff-133d-4452-acc4-bfd1827afc06\",\"type\":\"BasicTickFormatter\"},{\"attributes\":{\"dimension\":1,\"plot\":{\"id\":\"9a741b58-a862-4f8d-b3a9-c7752b9af06e\",\"subtype\":\"Figure\",\"type\":\"Plot\"},\"ticker\":{\"id\":\"be62b782-989a-4ec9-9b71-1b3ecdee34b1\",\"type\":\"BasicTicker\"}},\"id\":\"e6c5c2da-85e7-490b-8507-aad780800002\",\"type\":\"Grid\"},{\"attributes\":{},\"id\":\"3395ebef-0f4d-43b9-89ba-62b9054271c1\",\"type\":\"PanTool\"},{\"attributes\":{\"callback\":null,\"data\":{\"x\":{\"__ndarray__\":\"Plrp3Z5jIcBKBfk9Qf4EwAhIBjTPV/g/re0xy0SUDEBKEKO2F2oNQEotRpaPLQNAtDasTSvz4j/Y3ph+zcLqv4miLOrMCfa/OZBOUS2a8b+Z2paSN0Xfv1rfYeD8N7A/VKELW16e2T/SMT3umRDfP8gh/JbbJ9Q/51E4qEcEoT9WPU9YQbrQv7cvfAWGNOC/FNnELayj4L8H/Z4Hc+/RvyD2rlRKVnm/oiytkRnvqr/asVgECtHTv8S4lvwuT9e/lyLME90hsb+NumOLN4rYP2kST9+NU9c/ZHxOx1zgtz+8LlyImOOXP/M/QDSg49A/o19OiZWc1T8r3Tg+sr3DPwNRi39W7Jy/pot48Rxicz/M/YUoLnSuP9PWP6lll34/EA5yTmTwq7/VHz/yu+C2v7idMclkh7m/zr7TrDXmtb+tZ9JQi4mwv8Fb5PyqNq+/RXg+tzI/nb9kXxACbO22vyPL1Yclmbi/Ni/HdfWLq7+VvARYV+iuvywUiu+ftrO/2INf1gPnsr90zRiVMqerv/ZCQ546s6K/UwZzLjJfmL8ZbMtKJ+aUvwLnnTDIqZS/eN5UNdxfmb8dBs8ktFybvzkwxDJBwpO/qA45dIJPVj+1n5LzvX+gP9DECtE+aqw/zGSrPX/prT+uWeZFjnqlPxImF6RXypU/0KnXZtHmWT8AGej+SwlBPzTnWDkPgoE/Lp8yUn1Unj87o+X0gG+oP3LpuEoSrK8/6IIHwTsdsj9OhzEMSFmzP2c1UW85I7Q/Hxy8y9bVtD8HjZAcEVW0Pw==\",\"dtype\":\"float64\",\"shape\":[74]},\"y\":{\"__ndarray__\":\"0r/J27aUSD9r8pTVdD1RP2k7pu7KLlg/wLdEifH1YD8NyLmoccpnPzEjYYSVr3A/203wTdNndz9s2+Z8Z2qAPwg+YeTABoc/DZnh9U8mkD/s6wrHPaeWPy2yne+nxp8/2y1uSEhJpj8MPWL03EKvPyVdjrLZ7LU/BK+WOzPBvj9HPq946pHFP+YffZOmQc4/PGwiMxc41T+Hp1fKMsTdP/8h/fZ14OQ/KjqSy39I7T+ZKhiV1In0P3PXEvJBz/w/vw6cM6I0BECBJsKGp1cMQOJYF7fR4BNAUkmdgCbiG0ADCYofY44jQOauJeSDbitAMEymCkY9M0Db+X5qvPw6QGgibHh67UJAf/s6cM6MSkDNzMzMzHhSQGZmZmZmalhAAAAAAABcXkDNzMzMzCZiQJqZmZmZH2VAZmZmZmYYaEAzMzMzMxFrQAAAAAAACm5AZmZmZmaBcEDNzMzMzP1xQDMzMzMzenNAmpmZmZn2dEAAAAAAAHN2QGZmZmZm73dAzczMzMxreUAzMzMzM+h6QJqZmZmZZHxAAAAAAADhfUBmZmZmZl1/QGZmZmbmbIBAmpmZmRkrgUDNzMzMTOmBQAAAAACAp4JAMzMzM7Nlg0BmZmZm5iOEQJqZmZkZ4oRAzczMzEyghUAAAAAAgF6GQDMzMzOzHIdAZmZmZubah0CamZmZGZmIQM3MzMxMV4lAAAAAAIAVikAzMzMzs9OKQGZmZmbmkYtAmpmZmRlQjEDNzMzMTA6NQAAAAACAzI1AMzMzM7OKjkBmZmZm5kiPQA==\",\"dtype\":\"float64\",\"shape\":[74]}},\"selected\":{\"id\":\"f980f7f1-7d6b-42af-a1a8-a253a6e9203b\",\"type\":\"Selection\"},\"selection_policy\":{\"id\":\"4df99721-b178-4265-9baa-dfba51e7f440\",\"type\":\"UnionRenderers\"}},\"id\":\"b9978688-0d84-42ce-acbb-70420c80a9a7\",\"type\":\"ColumnDataSource\"},{\"attributes\":{\"line_alpha\":0.1,\"line_color\":\"#1f77b4\",\"line_dash\":[6],\"line_width\":5,\"x\":{\"field\":\"x\"},\"y\":{\"field\":\"y\"}},\"id\":\"9a9fcd46-4fa9-4240-9f32-734dcc2c089a\",\"type\":\"Line\"},{\"attributes\":{},\"id\":\"207980ce-4ae2-4c10-9113-c4e7b4e1f158\",\"type\":\"WheelZoomTool\"},{\"attributes\":{\"line_alpha\":0.1,\"line_color\":\"#1f77b4\",\"line_width\":1.5,\"x\":{\"field\":\"x\"},\"y\":{\"field\":\"y\"}},\"id\":\"539e7f0f-75d2-463f-b297-75a18657da60\",\"type\":\"Line\"},{\"attributes\":{\"children\":[{\"id\":\"dc471944-0b79-455c-b116-53c7c3bb75aa\",\"type\":\"Row\"}]},\"id\":\"57559e0f-54a6-4361-8cf3-8aec5371da9a\",\"type\":\"Column\"},{\"attributes\":{\"data_source\":{\"id\":\"b9978688-0d84-42ce-acbb-70420c80a9a7\",\"type\":\"ColumnDataSource\"},\"glyph\":{\"id\":\"f900b99a-c2f2-48d9-a76e-7f893f57549d\",\"type\":\"Line\"},\"hover_glyph\":null,\"muted_glyph\":null,\"nonselection_glyph\":{\"id\":\"539e7f0f-75d2-463f-b297-75a18657da60\",\"type\":\"Line\"},\"selection_glyph\":null,\"view\":{\"id\":\"3e1eda5b-fa54-4af7-973e-88c9cfa01876\",\"type\":\"CDSView\"}},\"id\":\"b2101a8a-f7fc-4ad9-b689-008bfbee33ed\",\"type\":\"GlyphRenderer\"},{\"attributes\":{},\"id\":\"d67619e2-15e0-4a71-9c12-91fed8c7d51e\",\"type\":\"BasicTickFormatter\"},{\"attributes\":{\"source\":{\"id\":\"97ab0338-d5c6-4155-905c-7954a8f9522b\",\"type\":\"ColumnDataSource\"}},\"id\":\"f3f843df-9712-42d9-943e-aec94af9cd64\",\"type\":\"CDSView\"},{\"attributes\":{},\"id\":\"be62b782-989a-4ec9-9b71-1b3ecdee34b1\",\"type\":\"BasicTicker\"},{\"attributes\":{\"line_alpha\":0.8,\"line_color\":\"#984ea3\",\"line_width\":1.5,\"x\":{\"field\":\"x\"},\"y\":{\"field\":\"y\"}},\"id\":\"f900b99a-c2f2-48d9-a76e-7f893f57549d\",\"type\":\"Line\"}],\"root_ids\":[\"5af2f9dd-4d65-4cca-b684-7441f7154420\"]},\"title\":\"Bokeh Application\",\"version\":\"0.12.16\"}};\n",
       "  var render_items = [{\"docid\":\"8ff44e0a-e650-4da9-abff-ef866935e780\",\"elementid\":\"2ce7da26-641e-4d9e-87b0-ba4e227c0f70\",\"modelid\":\"5af2f9dd-4d65-4cca-b684-7441f7154420\"}];\n",
       "  root.Bokeh.embed.embed_items_notebook(docs_json, render_items);\n",
       "\n",
       "  }\n",
       "  if (root.Bokeh !== undefined) {\n",
       "    embed_document(root);\n",
       "  } else {\n",
       "    var attempts = 0;\n",
       "    var timer = setInterval(function(root) {\n",
       "      if (root.Bokeh !== undefined) {\n",
       "        embed_document(root);\n",
       "        clearInterval(timer);\n",
       "      }\n",
       "      attempts++;\n",
       "      if (attempts > 100) {\n",
       "        console.log(\"Bokeh: ERROR: Unable to run BokehJS code because BokehJS library is missing\")\n",
       "        clearInterval(timer);\n",
       "      }\n",
       "    }, 10, root)\n",
       "  }\n",
       "})(window);"
      ],
      "application/vnd.bokehjs_exec.v0+json": ""
     },
     "metadata": {
      "application/vnd.bokehjs_exec.v0+json": {
       "id": "5af2f9dd-4d65-4cca-b684-7441f7154420"
      }
     },
     "output_type": "display_data"
    },
    {
     "name": "stdout",
     "output_type": "stream",
     "text": [
      "Figure. Cooling rates & difference.\n",
      "\n"
     ]
    },
    {
     "data": {
      "text/html": [
       "<a id=\"Fluxes._trp.\"></a>"
      ],
      "text/plain": [
       "<IPython.core.display.HTML object>"
      ]
     },
     "metadata": {},
     "output_type": "display_data"
    },
    {
     "data": {
      "text/markdown": [
       "# Fluxes. trp."
      ],
      "text/plain": [
       "<IPython.core.display.Markdown object>"
      ]
     },
     "metadata": {},
     "output_type": "display_data"
    },
    {
     "data": {
      "text/html": [
       "\n",
       "<div class=\"bk-root\">\n",
       "    <div class=\"bk-plotdiv\" id=\"31addb1f-2bf2-4987-a1a2-6ce2dc70cd2a\"></div>\n",
       "</div>"
      ]
     },
     "metadata": {},
     "output_type": "display_data"
    },
    {
     "data": {
      "application/javascript": [
       "(function(root) {\n",
       "  function embed_document(root) {\n",
       "    \n",
       "  var docs_json = {\"9eb692f0-912f-482c-a240-7aec08071a2a\":{\"roots\":{\"references\":[{\"attributes\":{\"plot\":null,\"text\":\"Atmosphere heating. CLIRAD - CRD.\"},\"id\":\"234e27f8-bd8d-45e1-8c61-05cd0ce7889c\",\"type\":\"Title\"},{\"attributes\":{},\"id\":\"f34780a7-cab8-4b03-b39b-47b5b660f1b3\",\"type\":\"Selection\"},{\"attributes\":{},\"id\":\"a3a53157-8ab5-4383-9eb3-0e1d6048e808\",\"type\":\"WheelZoomTool\"},{\"attributes\":{\"fill_color\":{\"value\":\"#1f77b4\"},\"line_color\":{\"value\":\"#1f77b4\"},\"top\":{\"field\":\"flux\"},\"width\":{\"value\":0.9},\"x\":{\"field\":\"band\"}},\"id\":\"448e5556-2394-4191-89cb-0c0c0260fc18\",\"type\":\"VBar\"},{\"attributes\":{\"callback\":null},\"id\":\"d64ffb49-82c5-4828-bc8a-3b944beccb3f\",\"type\":\"DataRange1d\"},{\"attributes\":{},\"id\":\"c00fb0f5-9022-4771-b39d-5cf9cdf32dde\",\"type\":\"BasicTicker\"},{\"attributes\":{\"fill_alpha\":{\"value\":0.1},\"fill_color\":{\"value\":\"#1f77b4\"},\"line_alpha\":{\"value\":0.1},\"line_color\":{\"value\":\"#1f77b4\"},\"top\":{\"field\":\"flux\"},\"width\":{\"value\":0.9},\"x\":{\"field\":\"band\"}},\"id\":\"ad324bae-e301-4f8b-8a6a-ebb5146dd461\",\"type\":\"VBar\"},{\"attributes\":{\"fill_alpha\":{\"value\":0.1},\"fill_color\":{\"value\":\"#1f77b4\"},\"line_alpha\":{\"value\":0.1},\"line_color\":{\"value\":\"#1f77b4\"},\"top\":{\"field\":\"flux\"},\"width\":{\"value\":0.9},\"x\":{\"field\":\"band\"}},\"id\":\"9e7cc6ee-b7a0-4275-bfb1-5342cca22be4\",\"type\":\"VBar\"},{\"attributes\":{},\"id\":\"b679612b-4fe9-4c55-b219-3b36c969bd18\",\"type\":\"UnionRenderers\"},{\"attributes\":{\"bottom_units\":\"screen\",\"fill_alpha\":{\"value\":0.5},\"fill_color\":{\"value\":\"lightgrey\"},\"left_units\":\"screen\",\"level\":\"overlay\",\"line_alpha\":{\"value\":1.0},\"line_color\":{\"value\":\"black\"},\"line_dash\":[4,4],\"line_width\":{\"value\":2},\"plot\":null,\"render_mode\":\"css\",\"right_units\":\"screen\",\"top_units\":\"screen\"},\"id\":\"255f0f68-0cd4-41cb-b25d-3e5f8f6b35fc\",\"type\":\"BoxAnnotation\"},{\"attributes\":{},\"id\":\"b0526692-b1ed-4b0b-8bc5-16130dd1dc54\",\"type\":\"CategoricalScale\"},{\"attributes\":{},\"id\":\"5e4a9a9d-8f71-4e9f-a4cc-b7bd2c63dda3\",\"type\":\"ResetTool\"},{\"attributes\":{\"dimension\":1,\"plot\":{\"id\":\"ef645862-f7e5-4ad2-89ea-2a07254256e6\",\"subtype\":\"Figure\",\"type\":\"Plot\"},\"ticker\":{\"id\":\"f0e2e797-5c18-4d01-8468-613fe4ee705c\",\"type\":\"BasicTicker\"}},\"id\":\"f5396b91-8906-4f99-800b-3038eb0ad57d\",\"type\":\"Grid\"},{\"attributes\":{},\"id\":\"5b531f23-1efe-4c25-828e-be6ec9d4c8f2\",\"type\":\"HelpTool\"},{\"attributes\":{\"below\":[{\"id\":\"fbf7d910-c5d2-4aaa-8e9b-8c0330dcacc0\",\"type\":\"CategoricalAxis\"}],\"left\":[{\"id\":\"6a71a1ed-9dc5-4306-8366-039832a28c9f\",\"type\":\"LinearAxis\"}],\"plot_height\":300,\"plot_width\":300,\"renderers\":[{\"id\":\"fbf7d910-c5d2-4aaa-8e9b-8c0330dcacc0\",\"type\":\"CategoricalAxis\"},{\"id\":\"43ac3a88-e96a-4137-9e73-006fa14d16e8\",\"type\":\"Grid\"},{\"id\":\"6a71a1ed-9dc5-4306-8366-039832a28c9f\",\"type\":\"LinearAxis\"},{\"id\":\"161b7aeb-df22-4c68-a16e-68b39ceda322\",\"type\":\"Grid\"},{\"id\":\"44894059-a9b9-4996-9ab1-9a975c7a7ba7\",\"type\":\"BoxAnnotation\"},{\"id\":\"daeb19fa-7e12-4b90-8583-99b571b544c8\",\"type\":\"GlyphRenderer\"}],\"title\":{\"id\":\"f4222db3-e0e1-4a14-9ade-79204da1bf9e\",\"type\":\"Title\"},\"toolbar\":{\"id\":\"595872a8-60a2-4b78-b9a6-13fe8fb10085\",\"type\":\"Toolbar\"},\"toolbar_location\":null,\"x_range\":{\"id\":\"8ee95f6b-bd8d-48dd-b7c5-654fb5d83923\",\"type\":\"FactorRange\"},\"x_scale\":{\"id\":\"db157999-3c67-401b-a120-bf9feeb95150\",\"type\":\"CategoricalScale\"},\"y_range\":{\"id\":\"decfff24-5c97-467b-a559-aa60cad21e97\",\"type\":\"DataRange1d\"},\"y_scale\":{\"id\":\"5ccd643b-30bf-4c27-8ad7-9a9da1a52b13\",\"type\":\"LinearScale\"}},\"id\":\"667e7d44-1a73-406a-bef2-251fb8114dd8\",\"subtype\":\"Figure\",\"type\":\"Plot\"},{\"attributes\":{\"plot\":{\"id\":\"ef645862-f7e5-4ad2-89ea-2a07254256e6\",\"subtype\":\"Figure\",\"type\":\"Plot\"},\"ticker\":{\"id\":\"9fb78274-5bc7-48d0-817a-04f49950d524\",\"type\":\"CategoricalTicker\"}},\"id\":\"16f0c748-a597-4dff-8fab-b1cf41dc1f36\",\"type\":\"Grid\"},{\"attributes\":{\"plot\":null,\"text\":\"TOA flux. CLIRAD - CRD.\"},\"id\":\"6c18955c-bcd4-4c0a-a88a-1af3997b7e02\",\"type\":\"Title\"},{\"attributes\":{\"source\":{\"id\":\"96387169-d4c9-4730-bfda-247492f652d9\",\"type\":\"ColumnDataSource\"}},\"id\":\"f08b16ba-faf1-4171-a2fb-477da9e01c71\",\"type\":\"CDSView\"},{\"attributes\":{\"active_drag\":\"auto\",\"active_inspect\":\"auto\",\"active_scroll\":\"auto\",\"active_tap\":\"auto\",\"tools\":[{\"id\":\"ffa1af66-d4f0-4d89-bd77-03ad91fa842f\",\"type\":\"PanTool\"},{\"id\":\"19629dd8-48a2-4264-9fea-785c96a5ea8f\",\"type\":\"WheelZoomTool\"},{\"id\":\"9d43b058-632c-417d-bb7b-e856b58249aa\",\"type\":\"BoxZoomTool\"},{\"id\":\"64972a78-789b-4548-8596-02102816cadc\",\"type\":\"SaveTool\"},{\"id\":\"5e4a9a9d-8f71-4e9f-a4cc-b7bd2c63dda3\",\"type\":\"ResetTool\"},{\"id\":\"1e6a8ded-5fff-4388-98c4-d9abddef3387\",\"type\":\"HelpTool\"}]},\"id\":\"595872a8-60a2-4b78-b9a6-13fe8fb10085\",\"type\":\"Toolbar\"},{\"attributes\":{\"active_drag\":\"auto\",\"active_inspect\":\"auto\",\"active_scroll\":\"auto\",\"active_tap\":\"auto\",\"tools\":[{\"id\":\"512ef232-b326-4d51-8309-0e7bef177dda\",\"type\":\"PanTool\"},{\"id\":\"a3a53157-8ab5-4383-9eb3-0e1d6048e808\",\"type\":\"WheelZoomTool\"},{\"id\":\"5efd7035-386c-41e9-9ac1-b9c1685f5bc8\",\"type\":\"BoxZoomTool\"},{\"id\":\"26943a77-f74d-4f4e-8047-0a40fb85aee0\",\"type\":\"SaveTool\"},{\"id\":\"5922b3b8-3c83-4413-ae94-ed7bb1a3fad2\",\"type\":\"ResetTool\"},{\"id\":\"5b531f23-1efe-4c25-828e-be6ec9d4c8f2\",\"type\":\"HelpTool\"}]},\"id\":\"dd7b1ea7-8e3e-48b9-a174-d5546a5ad71f\",\"type\":\"Toolbar\"},{\"attributes\":{\"axis_label\":\"spectral band\",\"formatter\":{\"id\":\"8eb89486-4c64-4bb1-8767-245a58250f7a\",\"type\":\"CategoricalTickFormatter\"},\"plot\":{\"id\":\"667e7d44-1a73-406a-bef2-251fb8114dd8\",\"subtype\":\"Figure\",\"type\":\"Plot\"},\"ticker\":{\"id\":\"b2e9bbed-4684-485a-8051-8c063935c133\",\"type\":\"CategoricalTicker\"}},\"id\":\"fbf7d910-c5d2-4aaa-8e9b-8c0330dcacc0\",\"type\":\"CategoricalAxis\"},{\"attributes\":{},\"id\":\"5ccd643b-30bf-4c27-8ad7-9a9da1a52b13\",\"type\":\"LinearScale\"},{\"attributes\":{\"children\":[{\"id\":\"8e29920e-47f9-4b15-8d0c-a1e861c70599\",\"type\":\"Row\"}]},\"id\":\"8cec6693-b33e-46f2-a7a7-ed7c625fc871\",\"type\":\"Column\"},{\"attributes\":{\"plot\":{\"id\":\"667e7d44-1a73-406a-bef2-251fb8114dd8\",\"subtype\":\"Figure\",\"type\":\"Plot\"},\"ticker\":{\"id\":\"b2e9bbed-4684-485a-8051-8c063935c133\",\"type\":\"CategoricalTicker\"}},\"id\":\"43ac3a88-e96a-4137-9e73-006fa14d16e8\",\"type\":\"Grid\"},{\"attributes\":{},\"id\":\"1e6a8ded-5fff-4388-98c4-d9abddef3387\",\"type\":\"HelpTool\"},{\"attributes\":{\"callback\":null,\"data\":{\"band\":[\"1\",\"2\",\"3\",\"4\",\"5\",\"6\",\"7\",\"8\",\"9\",\"10\",\"11\"],\"flux\":{\"__ndarray__\":\"AAAAAyUF9r4AaoKo+wDYP4DPYb68ANO/ANyul6YIsD+Adtzwu+nfPwAyj/zBwLM/AIEU4cvplz+gE/5W/PDBvwAFptO6DcY/AKBF71TAjT8ApFGBk22APw==\",\"dtype\":\"float64\",\"shape\":[11]}},\"selected\":{\"id\":\"3b340f2d-d007-4382-b31d-0f17c207c2af\",\"type\":\"Selection\"},\"selection_policy\":{\"id\":\"4ebb4d6f-bfef-4657-b9ef-2a0e49afa835\",\"type\":\"UnionRenderers\"}},\"id\":\"73d890fb-9597-4e5a-8bf4-c4a3c610e6f8\",\"type\":\"ColumnDataSource\"},{\"attributes\":{\"axis_label\":\"spectral band\",\"formatter\":{\"id\":\"fc3673ae-e92e-4c8d-8081-b6e805423c40\",\"type\":\"CategoricalTickFormatter\"},\"plot\":{\"id\":\"ef645862-f7e5-4ad2-89ea-2a07254256e6\",\"subtype\":\"Figure\",\"type\":\"Plot\"},\"ticker\":{\"id\":\"9fb78274-5bc7-48d0-817a-04f49950d524\",\"type\":\"CategoricalTicker\"}},\"id\":\"4c556704-97e4-4031-aeac-af645dc1a414\",\"type\":\"CategoricalAxis\"},{\"attributes\":{\"bottom_units\":\"screen\",\"fill_alpha\":{\"value\":0.5},\"fill_color\":{\"value\":\"lightgrey\"},\"left_units\":\"screen\",\"level\":\"overlay\",\"line_alpha\":{\"value\":1.0},\"line_color\":{\"value\":\"black\"},\"line_dash\":[4,4],\"line_width\":{\"value\":2},\"plot\":null,\"render_mode\":\"css\",\"right_units\":\"screen\",\"top_units\":\"screen\"},\"id\":\"44894059-a9b9-4996-9ab1-9a975c7a7ba7\",\"type\":\"BoxAnnotation\"},{\"attributes\":{\"callback\":null},\"id\":\"decfff24-5c97-467b-a559-aa60cad21e97\",\"type\":\"DataRange1d\"},{\"attributes\":{},\"id\":\"b2e9bbed-4684-485a-8051-8c063935c133\",\"type\":\"CategoricalTicker\"},{\"attributes\":{\"axis_label\":\"flux (W m-2)\",\"formatter\":{\"id\":\"9d75d91e-630b-4e9a-aeb9-073e668959b0\",\"type\":\"BasicTickFormatter\"},\"plot\":{\"id\":\"667e7d44-1a73-406a-bef2-251fb8114dd8\",\"subtype\":\"Figure\",\"type\":\"Plot\"},\"ticker\":{\"id\":\"c00fb0f5-9022-4771-b39d-5cf9cdf32dde\",\"type\":\"BasicTicker\"}},\"id\":\"6a71a1ed-9dc5-4306-8366-039832a28c9f\",\"type\":\"LinearAxis\"},{\"attributes\":{},\"id\":\"19629dd8-48a2-4264-9fea-785c96a5ea8f\",\"type\":\"WheelZoomTool\"},{\"attributes\":{\"callback\":null},\"id\":\"cb729ce9-d344-4006-bae0-9b0178214e55\",\"type\":\"DataRange1d\"},{\"attributes\":{},\"id\":\"832166be-bae4-44ad-bcc2-f135042543ca\",\"type\":\"CategoricalTickFormatter\"},{\"attributes\":{},\"id\":\"e1e3201d-a7d3-4eac-b59c-df0395c35197\",\"type\":\"BasicTickFormatter\"},{\"attributes\":{},\"id\":\"5922b3b8-3c83-4413-ae94-ed7bb1a3fad2\",\"type\":\"ResetTool\"},{\"attributes\":{\"callback\":null,\"factors\":[\"1\",\"2\",\"3\",\"4\",\"5\",\"6\",\"7\",\"8\",\"9\",\"10\",\"11\"]},\"id\":\"bdc18370-774a-49b7-ba89-f40b92fd3aa4\",\"type\":\"FactorRange\"},{\"attributes\":{},\"id\":\"db157999-3c67-401b-a120-bf9feeb95150\",\"type\":\"CategoricalScale\"},{\"attributes\":{\"fill_color\":{\"value\":\"#1f77b4\"},\"line_color\":{\"value\":\"#1f77b4\"},\"top\":{\"field\":\"flux\"},\"width\":{\"value\":0.9},\"x\":{\"field\":\"band\"}},\"id\":\"35323f83-07ca-440e-81ad-8a5f6bae6161\",\"type\":\"VBar\"},{\"attributes\":{\"callback\":null,\"factors\":[\"1\",\"2\",\"3\",\"4\",\"5\",\"6\",\"7\",\"8\",\"9\",\"10\",\"11\"]},\"id\":\"8ee95f6b-bd8d-48dd-b7c5-654fb5d83923\",\"type\":\"FactorRange\"},{\"attributes\":{},\"id\":\"f0e2e797-5c18-4d01-8468-613fe4ee705c\",\"type\":\"BasicTicker\"},{\"attributes\":{\"dimension\":1,\"plot\":{\"id\":\"667e7d44-1a73-406a-bef2-251fb8114dd8\",\"subtype\":\"Figure\",\"type\":\"Plot\"},\"ticker\":{\"id\":\"c00fb0f5-9022-4771-b39d-5cf9cdf32dde\",\"type\":\"BasicTicker\"}},\"id\":\"161b7aeb-df22-4c68-a16e-68b39ceda322\",\"type\":\"Grid\"},{\"attributes\":{},\"id\":\"9fb78274-5bc7-48d0-817a-04f49950d524\",\"type\":\"CategoricalTicker\"},{\"attributes\":{\"data_source\":{\"id\":\"96387169-d4c9-4730-bfda-247492f652d9\",\"type\":\"ColumnDataSource\"},\"glyph\":{\"id\":\"35323f83-07ca-440e-81ad-8a5f6bae6161\",\"type\":\"VBar\"},\"hover_glyph\":null,\"muted_glyph\":null,\"nonselection_glyph\":{\"id\":\"ad324bae-e301-4f8b-8a6a-ebb5146dd461\",\"type\":\"VBar\"},\"selection_glyph\":null,\"view\":{\"id\":\"f08b16ba-faf1-4171-a2fb-477da9e01c71\",\"type\":\"CDSView\"}},\"id\":\"b98c162a-cc89-474b-b1e4-3d2837099f98\",\"type\":\"GlyphRenderer\"},{\"attributes\":{\"callback\":null,\"factors\":[\"1\",\"2\",\"3\",\"4\",\"5\",\"6\",\"7\",\"8\",\"9\",\"10\",\"11\"]},\"id\":\"5492d3c9-3f80-4603-bcfa-639cd5a9b1da\",\"type\":\"FactorRange\"},{\"attributes\":{\"active_drag\":\"auto\",\"active_inspect\":\"auto\",\"active_scroll\":\"auto\",\"active_tap\":\"auto\",\"tools\":[{\"id\":\"3c4cf55a-128b-4418-8965-8a2cc0d8c37c\",\"type\":\"PanTool\"},{\"id\":\"dfbb8962-7c5a-4731-ae70-4dffae86191a\",\"type\":\"WheelZoomTool\"},{\"id\":\"cbbafa4c-a5aa-4ddd-9e3f-866b2cc0acc3\",\"type\":\"BoxZoomTool\"},{\"id\":\"276059a3-7992-422a-9b13-a7f5aab5bdfa\",\"type\":\"SaveTool\"},{\"id\":\"71b7e102-5c63-45d6-97b0-95017847732d\",\"type\":\"ResetTool\"},{\"id\":\"6c24fa80-7fd9-4632-83a2-7fee0f4778ff\",\"type\":\"HelpTool\"}]},\"id\":\"c9cf7f97-0b79-422b-a690-66de895838e7\",\"type\":\"Toolbar\"},{\"attributes\":{\"axis_label\":\"flux (W m-2)\",\"formatter\":{\"id\":\"ae1cab73-760c-45db-8de1-49cfbedc6748\",\"type\":\"BasicTickFormatter\"},\"plot\":{\"id\":\"ef645862-f7e5-4ad2-89ea-2a07254256e6\",\"subtype\":\"Figure\",\"type\":\"Plot\"},\"ticker\":{\"id\":\"f0e2e797-5c18-4d01-8468-613fe4ee705c\",\"type\":\"BasicTicker\"}},\"id\":\"05ed7840-c3a0-4473-bf35-98e304f8483f\",\"type\":\"LinearAxis\"},{\"attributes\":{\"children\":[{\"id\":\"63f0e310-1937-49ee-a9da-1b471bc41373\",\"subtype\":\"Figure\",\"type\":\"Plot\"},{\"id\":\"667e7d44-1a73-406a-bef2-251fb8114dd8\",\"subtype\":\"Figure\",\"type\":\"Plot\"},{\"id\":\"ef645862-f7e5-4ad2-89ea-2a07254256e6\",\"subtype\":\"Figure\",\"type\":\"Plot\"}]},\"id\":\"8e29920e-47f9-4b15-8d0c-a1e861c70599\",\"type\":\"Row\"},{\"attributes\":{},\"id\":\"512ef232-b326-4d51-8309-0e7bef177dda\",\"type\":\"PanTool\"},{\"attributes\":{\"data_source\":{\"id\":\"73d890fb-9597-4e5a-8bf4-c4a3c610e6f8\",\"type\":\"ColumnDataSource\"},\"glyph\":{\"id\":\"448e5556-2394-4191-89cb-0c0c0260fc18\",\"type\":\"VBar\"},\"hover_glyph\":null,\"muted_glyph\":null,\"nonselection_glyph\":{\"id\":\"9e7cc6ee-b7a0-4275-bfb1-5342cca22be4\",\"type\":\"VBar\"},\"selection_glyph\":null,\"view\":{\"id\":\"da3740bf-55bd-4f8e-a8b3-8361a8403dff\",\"type\":\"CDSView\"}},\"id\":\"daeb19fa-7e12-4b90-8583-99b571b544c8\",\"type\":\"GlyphRenderer\"},{\"attributes\":{},\"id\":\"24bae5b2-eea6-4fa8-94b8-4b69fcd45224\",\"type\":\"LinearScale\"},{\"attributes\":{},\"id\":\"ffa1af66-d4f0-4d89-bd77-03ad91fa842f\",\"type\":\"PanTool\"},{\"attributes\":{},\"id\":\"8eb89486-4c64-4bb1-8767-245a58250f7a\",\"type\":\"CategoricalTickFormatter\"},{\"attributes\":{\"overlay\":{\"id\":\"44894059-a9b9-4996-9ab1-9a975c7a7ba7\",\"type\":\"BoxAnnotation\"}},\"id\":\"9d43b058-632c-417d-bb7b-e856b58249aa\",\"type\":\"BoxZoomTool\"},{\"attributes\":{\"below\":[{\"id\":\"4c556704-97e4-4031-aeac-af645dc1a414\",\"type\":\"CategoricalAxis\"}],\"left\":[{\"id\":\"05ed7840-c3a0-4473-bf35-98e304f8483f\",\"type\":\"LinearAxis\"}],\"plot_height\":300,\"plot_width\":300,\"renderers\":[{\"id\":\"4c556704-97e4-4031-aeac-af645dc1a414\",\"type\":\"CategoricalAxis\"},{\"id\":\"16f0c748-a597-4dff-8fab-b1cf41dc1f36\",\"type\":\"Grid\"},{\"id\":\"05ed7840-c3a0-4473-bf35-98e304f8483f\",\"type\":\"LinearAxis\"},{\"id\":\"f5396b91-8906-4f99-800b-3038eb0ad57d\",\"type\":\"Grid\"},{\"id\":\"255f0f68-0cd4-41cb-b25d-3e5f8f6b35fc\",\"type\":\"BoxAnnotation\"},{\"id\":\"b98c162a-cc89-474b-b1e4-3d2837099f98\",\"type\":\"GlyphRenderer\"}],\"title\":{\"id\":\"234e27f8-bd8d-45e1-8c61-05cd0ce7889c\",\"type\":\"Title\"},\"toolbar\":{\"id\":\"dd7b1ea7-8e3e-48b9-a174-d5546a5ad71f\",\"type\":\"Toolbar\"},\"toolbar_location\":null,\"x_range\":{\"id\":\"5492d3c9-3f80-4603-bcfa-639cd5a9b1da\",\"type\":\"FactorRange\"},\"x_scale\":{\"id\":\"d3168847-bfff-4843-9200-90b35d1f9d36\",\"type\":\"CategoricalScale\"},\"y_range\":{\"id\":\"d64ffb49-82c5-4828-bc8a-3b944beccb3f\",\"type\":\"DataRange1d\"},\"y_scale\":{\"id\":\"24bae5b2-eea6-4fa8-94b8-4b69fcd45224\",\"type\":\"LinearScale\"}},\"id\":\"ef645862-f7e5-4ad2-89ea-2a07254256e6\",\"subtype\":\"Figure\",\"type\":\"Plot\"},{\"attributes\":{\"overlay\":{\"id\":\"255f0f68-0cd4-41cb-b25d-3e5f8f6b35fc\",\"type\":\"BoxAnnotation\"}},\"id\":\"5efd7035-386c-41e9-9ac1-b9c1685f5bc8\",\"type\":\"BoxZoomTool\"},{\"attributes\":{},\"id\":\"26943a77-f74d-4f4e-8047-0a40fb85aee0\",\"type\":\"SaveTool\"},{\"attributes\":{},\"id\":\"8184b4e3-43c2-4d8d-b941-15e7f0b7d33d\",\"type\":\"UnionRenderers\"},{\"attributes\":{},\"id\":\"64972a78-789b-4548-8596-02102816cadc\",\"type\":\"SaveTool\"},{\"attributes\":{},\"id\":\"d3168847-bfff-4843-9200-90b35d1f9d36\",\"type\":\"CategoricalScale\"},{\"attributes\":{\"source\":{\"id\":\"73d890fb-9597-4e5a-8bf4-c4a3c610e6f8\",\"type\":\"ColumnDataSource\"}},\"id\":\"da3740bf-55bd-4f8e-a8b3-8361a8403dff\",\"type\":\"CDSView\"},{\"attributes\":{},\"id\":\"71b7e102-5c63-45d6-97b0-95017847732d\",\"type\":\"ResetTool\"},{\"attributes\":{},\"id\":\"9d2ba303-0e2a-481d-8bcb-5bcd5dcb849c\",\"type\":\"CategoricalTicker\"},{\"attributes\":{},\"id\":\"4ebb4d6f-bfef-4657-b9ef-2a0e49afa835\",\"type\":\"UnionRenderers\"},{\"attributes\":{\"toolbar\":{\"id\":\"d86b3e87-8b3c-4915-bf54-f491f24767fb\",\"type\":\"ProxyToolbar\"},\"toolbar_location\":\"above\"},\"id\":\"5b6ed427-09e6-421c-bc47-3507638a998e\",\"type\":\"ToolbarBox\"},{\"attributes\":{\"fill_color\":{\"value\":\"#1f77b4\"},\"line_color\":{\"value\":\"#1f77b4\"},\"top\":{\"field\":\"flux\"},\"width\":{\"value\":0.9},\"x\":{\"field\":\"band\"}},\"id\":\"5e52158c-09c4-4fab-966a-950bb35ebd7c\",\"type\":\"VBar\"},{\"attributes\":{},\"id\":\"9d75d91e-630b-4e9a-aeb9-073e668959b0\",\"type\":\"BasicTickFormatter\"},{\"attributes\":{\"bottom_units\":\"screen\",\"fill_alpha\":{\"value\":0.5},\"fill_color\":{\"value\":\"lightgrey\"},\"left_units\":\"screen\",\"level\":\"overlay\",\"line_alpha\":{\"value\":1.0},\"line_color\":{\"value\":\"black\"},\"line_dash\":[4,4],\"line_width\":{\"value\":2},\"plot\":null,\"render_mode\":\"css\",\"right_units\":\"screen\",\"top_units\":\"screen\"},\"id\":\"7cd3d2c3-7a8d-405f-8fe6-40d6388668fa\",\"type\":\"BoxAnnotation\"},{\"attributes\":{\"plot\":{\"id\":\"63f0e310-1937-49ee-a9da-1b471bc41373\",\"subtype\":\"Figure\",\"type\":\"Plot\"},\"ticker\":{\"id\":\"9d2ba303-0e2a-481d-8bcb-5bcd5dcb849c\",\"type\":\"CategoricalTicker\"}},\"id\":\"0715b8fe-4b4a-485f-b29e-0d317e6ab511\",\"type\":\"Grid\"},{\"attributes\":{},\"id\":\"dfbb8962-7c5a-4731-ae70-4dffae86191a\",\"type\":\"WheelZoomTool\"},{\"attributes\":{},\"id\":\"0b171fc1-3a9c-422c-9d2d-b326b904b56a\",\"type\":\"BasicTicker\"},{\"attributes\":{\"callback\":null,\"data\":{\"band\":[\"1\",\"2\",\"3\",\"4\",\"5\",\"6\",\"7\",\"8\",\"9\",\"10\",\"11\"],\"flux\":{\"__ndarray__\":\"AOIC0ChdyD+AEwg7xarSP8DjvWplwtO/QHBbW3he0z8AkszqHW7QPwASj8TL07G/wHx6bMuA2D8A6tK/JJW5vwAmamluhZC/QD96efDJwD9AKej2ksawPw==\",\"dtype\":\"float64\",\"shape\":[11]}},\"selected\":{\"id\":\"f34780a7-cab8-4b03-b39b-47b5b660f1b3\",\"type\":\"Selection\"},\"selection_policy\":{\"id\":\"8184b4e3-43c2-4d8d-b941-15e7f0b7d33d\",\"type\":\"UnionRenderers\"}},\"id\":\"5b44c093-f5c5-44e6-b23c-cc2d5b7c180d\",\"type\":\"ColumnDataSource\"},{\"attributes\":{\"dimension\":1,\"plot\":{\"id\":\"63f0e310-1937-49ee-a9da-1b471bc41373\",\"subtype\":\"Figure\",\"type\":\"Plot\"},\"ticker\":{\"id\":\"0b171fc1-3a9c-422c-9d2d-b326b904b56a\",\"type\":\"BasicTicker\"}},\"id\":\"ffea2e5a-e9d9-46b8-8142-310fde5f8238\",\"type\":\"Grid\"},{\"attributes\":{},\"id\":\"f16adcbf-b673-41ec-b40c-4e31a4466f0c\",\"type\":\"LinearScale\"},{\"attributes\":{\"callback\":null,\"data\":{\"band\":[\"1\",\"2\",\"3\",\"4\",\"5\",\"6\",\"7\",\"8\",\"9\",\"10\",\"11\"],\"flux\":{\"__ndarray__\":\"AFOZ3tVdyD8A2BIs7Vi1vwBYNyirM4i/AKplKWG/zj+AyB8MPPfOvwDgn1IlysK/gFjjbDoC1z8AYj4g0JmkP0B/ij56Hsi/QB6QnRrcvT9AQzegSnKtPw==\",\"dtype\":\"float64\",\"shape\":[11]}},\"selected\":{\"id\":\"f1cac6d2-ff79-46a0-b274-01e5e1e59c00\",\"type\":\"Selection\"},\"selection_policy\":{\"id\":\"b679612b-4fe9-4c55-b219-3b36c969bd18\",\"type\":\"UnionRenderers\"}},\"id\":\"96387169-d4c9-4730-bfda-247492f652d9\",\"type\":\"ColumnDataSource\"},{\"attributes\":{\"overlay\":{\"id\":\"7cd3d2c3-7a8d-405f-8fe6-40d6388668fa\",\"type\":\"BoxAnnotation\"}},\"id\":\"cbbafa4c-a5aa-4ddd-9e3f-866b2cc0acc3\",\"type\":\"BoxZoomTool\"},{\"attributes\":{},\"id\":\"fc3673ae-e92e-4c8d-8081-b6e805423c40\",\"type\":\"CategoricalTickFormatter\"},{\"attributes\":{},\"id\":\"6c24fa80-7fd9-4632-83a2-7fee0f4778ff\",\"type\":\"HelpTool\"},{\"attributes\":{},\"id\":\"ae1cab73-760c-45db-8de1-49cfbedc6748\",\"type\":\"BasicTickFormatter\"},{\"attributes\":{\"axis_label\":\"flux (W m-2)\",\"formatter\":{\"id\":\"e1e3201d-a7d3-4eac-b59c-df0395c35197\",\"type\":\"BasicTickFormatter\"},\"plot\":{\"id\":\"63f0e310-1937-49ee-a9da-1b471bc41373\",\"subtype\":\"Figure\",\"type\":\"Plot\"},\"ticker\":{\"id\":\"0b171fc1-3a9c-422c-9d2d-b326b904b56a\",\"type\":\"BasicTicker\"}},\"id\":\"f3115814-5a81-4fec-92be-3efdb4363cf8\",\"type\":\"LinearAxis\"},{\"attributes\":{\"axis_label\":\"spectral band\",\"formatter\":{\"id\":\"832166be-bae4-44ad-bcc2-f135042543ca\",\"type\":\"CategoricalTickFormatter\"},\"plot\":{\"id\":\"63f0e310-1937-49ee-a9da-1b471bc41373\",\"subtype\":\"Figure\",\"type\":\"Plot\"},\"ticker\":{\"id\":\"9d2ba303-0e2a-481d-8bcb-5bcd5dcb849c\",\"type\":\"CategoricalTicker\"}},\"id\":\"3286acdf-43cc-4331-9506-406c71a38a2d\",\"type\":\"CategoricalAxis\"},{\"attributes\":{\"tools\":[{\"id\":\"3c4cf55a-128b-4418-8965-8a2cc0d8c37c\",\"type\":\"PanTool\"},{\"id\":\"dfbb8962-7c5a-4731-ae70-4dffae86191a\",\"type\":\"WheelZoomTool\"},{\"id\":\"cbbafa4c-a5aa-4ddd-9e3f-866b2cc0acc3\",\"type\":\"BoxZoomTool\"},{\"id\":\"276059a3-7992-422a-9b13-a7f5aab5bdfa\",\"type\":\"SaveTool\"},{\"id\":\"71b7e102-5c63-45d6-97b0-95017847732d\",\"type\":\"ResetTool\"},{\"id\":\"6c24fa80-7fd9-4632-83a2-7fee0f4778ff\",\"type\":\"HelpTool\"},{\"id\":\"ffa1af66-d4f0-4d89-bd77-03ad91fa842f\",\"type\":\"PanTool\"},{\"id\":\"19629dd8-48a2-4264-9fea-785c96a5ea8f\",\"type\":\"WheelZoomTool\"},{\"id\":\"9d43b058-632c-417d-bb7b-e856b58249aa\",\"type\":\"BoxZoomTool\"},{\"id\":\"64972a78-789b-4548-8596-02102816cadc\",\"type\":\"SaveTool\"},{\"id\":\"5e4a9a9d-8f71-4e9f-a4cc-b7bd2c63dda3\",\"type\":\"ResetTool\"},{\"id\":\"1e6a8ded-5fff-4388-98c4-d9abddef3387\",\"type\":\"HelpTool\"},{\"id\":\"512ef232-b326-4d51-8309-0e7bef177dda\",\"type\":\"PanTool\"},{\"id\":\"a3a53157-8ab5-4383-9eb3-0e1d6048e808\",\"type\":\"WheelZoomTool\"},{\"id\":\"5efd7035-386c-41e9-9ac1-b9c1685f5bc8\",\"type\":\"BoxZoomTool\"},{\"id\":\"26943a77-f74d-4f4e-8047-0a40fb85aee0\",\"type\":\"SaveTool\"},{\"id\":\"5922b3b8-3c83-4413-ae94-ed7bb1a3fad2\",\"type\":\"ResetTool\"},{\"id\":\"5b531f23-1efe-4c25-828e-be6ec9d4c8f2\",\"type\":\"HelpTool\"}]},\"id\":\"d86b3e87-8b3c-4915-bf54-f491f24767fb\",\"type\":\"ProxyToolbar\"},{\"attributes\":{\"data_source\":{\"id\":\"5b44c093-f5c5-44e6-b23c-cc2d5b7c180d\",\"type\":\"ColumnDataSource\"},\"glyph\":{\"id\":\"5e52158c-09c4-4fab-966a-950bb35ebd7c\",\"type\":\"VBar\"},\"hover_glyph\":null,\"muted_glyph\":null,\"nonselection_glyph\":{\"id\":\"14594ce2-d7d2-498c-b7f2-2c40961292e8\",\"type\":\"VBar\"},\"selection_glyph\":null,\"view\":{\"id\":\"502cf1b7-3a00-470b-b6db-ff40c1a0d255\",\"type\":\"CDSView\"}},\"id\":\"9713a0f2-eb2c-43bd-964c-f6738143394c\",\"type\":\"GlyphRenderer\"},{\"attributes\":{},\"id\":\"276059a3-7992-422a-9b13-a7f5aab5bdfa\",\"type\":\"SaveTool\"},{\"attributes\":{\"below\":[{\"id\":\"3286acdf-43cc-4331-9506-406c71a38a2d\",\"type\":\"CategoricalAxis\"}],\"left\":[{\"id\":\"f3115814-5a81-4fec-92be-3efdb4363cf8\",\"type\":\"LinearAxis\"}],\"plot_height\":300,\"plot_width\":300,\"renderers\":[{\"id\":\"3286acdf-43cc-4331-9506-406c71a38a2d\",\"type\":\"CategoricalAxis\"},{\"id\":\"0715b8fe-4b4a-485f-b29e-0d317e6ab511\",\"type\":\"Grid\"},{\"id\":\"f3115814-5a81-4fec-92be-3efdb4363cf8\",\"type\":\"LinearAxis\"},{\"id\":\"ffea2e5a-e9d9-46b8-8142-310fde5f8238\",\"type\":\"Grid\"},{\"id\":\"7cd3d2c3-7a8d-405f-8fe6-40d6388668fa\",\"type\":\"BoxAnnotation\"},{\"id\":\"9713a0f2-eb2c-43bd-964c-f6738143394c\",\"type\":\"GlyphRenderer\"}],\"title\":{\"id\":\"6c18955c-bcd4-4c0a-a88a-1af3997b7e02\",\"type\":\"Title\"},\"toolbar\":{\"id\":\"c9cf7f97-0b79-422b-a690-66de895838e7\",\"type\":\"Toolbar\"},\"toolbar_location\":null,\"x_range\":{\"id\":\"bdc18370-774a-49b7-ba89-f40b92fd3aa4\",\"type\":\"FactorRange\"},\"x_scale\":{\"id\":\"b0526692-b1ed-4b0b-8bc5-16130dd1dc54\",\"type\":\"CategoricalScale\"},\"y_range\":{\"id\":\"cb729ce9-d344-4006-bae0-9b0178214e55\",\"type\":\"DataRange1d\"},\"y_scale\":{\"id\":\"f16adcbf-b673-41ec-b40c-4e31a4466f0c\",\"type\":\"LinearScale\"}},\"id\":\"63f0e310-1937-49ee-a9da-1b471bc41373\",\"subtype\":\"Figure\",\"type\":\"Plot\"},{\"attributes\":{\"source\":{\"id\":\"5b44c093-f5c5-44e6-b23c-cc2d5b7c180d\",\"type\":\"ColumnDataSource\"}},\"id\":\"502cf1b7-3a00-470b-b6db-ff40c1a0d255\",\"type\":\"CDSView\"},{\"attributes\":{},\"id\":\"3c4cf55a-128b-4418-8965-8a2cc0d8c37c\",\"type\":\"PanTool\"},{\"attributes\":{\"fill_alpha\":{\"value\":0.1},\"fill_color\":{\"value\":\"#1f77b4\"},\"line_alpha\":{\"value\":0.1},\"line_color\":{\"value\":\"#1f77b4\"},\"top\":{\"field\":\"flux\"},\"width\":{\"value\":0.9},\"x\":{\"field\":\"band\"}},\"id\":\"14594ce2-d7d2-498c-b7f2-2c40961292e8\",\"type\":\"VBar\"},{\"attributes\":{},\"id\":\"3b340f2d-d007-4382-b31d-0f17c207c2af\",\"type\":\"Selection\"},{\"attributes\":{\"children\":[{\"id\":\"5b6ed427-09e6-421c-bc47-3507638a998e\",\"type\":\"ToolbarBox\"},{\"id\":\"8cec6693-b33e-46f2-a7a7-ed7c625fc871\",\"type\":\"Column\"}]},\"id\":\"05bc4b5b-7396-470b-a3c2-642dcb51c598\",\"type\":\"Column\"},{\"attributes\":{\"plot\":null,\"text\":\"SFC flux. CLIRAD - CRD.\"},\"id\":\"f4222db3-e0e1-4a14-9ade-79204da1bf9e\",\"type\":\"Title\"},{\"attributes\":{},\"id\":\"f1cac6d2-ff79-46a0-b274-01e5e1e59c00\",\"type\":\"Selection\"}],\"root_ids\":[\"05bc4b5b-7396-470b-a3c2-642dcb51c598\"]},\"title\":\"Bokeh Application\",\"version\":\"0.12.16\"}};\n",
       "  var render_items = [{\"docid\":\"9eb692f0-912f-482c-a240-7aec08071a2a\",\"elementid\":\"31addb1f-2bf2-4987-a1a2-6ce2dc70cd2a\",\"modelid\":\"05bc4b5b-7396-470b-a3c2-642dcb51c598\"}];\n",
       "  root.Bokeh.embed.embed_items_notebook(docs_json, render_items);\n",
       "\n",
       "  }\n",
       "  if (root.Bokeh !== undefined) {\n",
       "    embed_document(root);\n",
       "  } else {\n",
       "    var attempts = 0;\n",
       "    var timer = setInterval(function(root) {\n",
       "      if (root.Bokeh !== undefined) {\n",
       "        embed_document(root);\n",
       "        clearInterval(timer);\n",
       "      }\n",
       "      attempts++;\n",
       "      if (attempts > 100) {\n",
       "        console.log(\"Bokeh: ERROR: Unable to run BokehJS code because BokehJS library is missing\")\n",
       "        clearInterval(timer);\n",
       "      }\n",
       "    }, 10, root)\n",
       "  }\n",
       "})(window);"
      ],
      "application/vnd.bokehjs_exec.v0+json": ""
     },
     "metadata": {
      "application/vnd.bokehjs_exec.v0+json": {
       "id": "05bc4b5b-7396-470b-a3c2-642dcb51c598"
      }
     },
     "output_type": "display_data"
    },
    {
     "name": "stdout",
     "output_type": "stream",
     "text": [
      "Figure. Difference in TOA flux, SFC flux and net atmosphere heating.\n"
     ]
    }
   ],
   "source": [
    "def show_html(s):\n",
    "    display.display(display.HTML(s))\n",
    "\n",
    "    \n",
    "def show_markdown(s):\n",
    "    display.display(display.Markdown(s))\n",
    "\n",
    "\n",
    "def script():\n",
    "    \n",
    "    d_atm = {'mls': 'mid-latitude summer',\n",
    "             'saw': 'sub-arctic winter',\n",
    "             'trp': 'tropical'}\n",
    "    \n",
    "    title = ('## Results over entire range of molecules'\n",
    "             ' and spectral bands')\n",
    "    \n",
    "    s_makeup = 'Makeup of atmosphere.'\n",
    "    s_atmpro = '# {}'\n",
    "    s_cool = 'Cooling rates. {}.'\n",
    "    s_flux = 'Fluxes. {}.'\n",
    "    \n",
    "    atmpros = ['mls', 'saw', 'trp']\n",
    "    \n",
    "    # TOC\n",
    "    show_markdown(title)\n",
    "    show_markdown('### Table of Contents')\n",
    "    show_html(climahtml.getHTML_hrefanchor(s_makeup))\n",
    "    for atmpro in atmpros:\n",
    "        show_markdown('**' + d_atm[atmpro] + '**')\n",
    "        show_html(climahtml.getHTML_hrefanchor(s_cool.format(atmpro)))\n",
    "        show_html(climahtml.getHTML_hrefanchor(s_flux.format(atmpro)))\n",
    "\n",
    "        \n",
    "    # Atmosphere makeup\n",
    "    show_html(climahtml.getHTML_idanchor(s_makeup))\n",
    "    show_markdown(climahtml.getMarkdown_sectitle(s_makeup))\n",
    "    show_makeup()\n",
    "        \n",
    "    for atmpro in atmpros:\n",
    "        show_html(climahtml.getHTML_idanchor(s_cool.format(atmpro)))\n",
    "        show_markdown(\n",
    "            climahtml.getMarkdown_sectitle(s_cool.format(atmpro)))\n",
    "        show_cool(atmpro='mls')\n",
    "        show_html(climahtml.getHTML_idanchor(s_flux.format(atmpro)))\n",
    "        show_markdown(\n",
    "            climahtml.getMarkdown_sectitle(s_flux.format(atmpro)))\n",
    "        show_flux(atmpro='mls')\n",
    "    \n",
    "    \n",
    "script()  "
   ]
  },
  {
   "cell_type": "code",
   "execution_count": null,
   "metadata": {
    "collapsed": true
   },
   "outputs": [],
   "source": []
  },
  {
   "cell_type": "code",
   "execution_count": 661,
   "metadata": {},
   "outputs": [
    {
     "data": {
      "text/html": [
       "<script>\n",
       "code_show=true; \n",
       "function code_toggle() {\n",
       " if (code_show){\n",
       " $('div.input').hide();\n",
       " } else {\n",
       " $('div.input').show();\n",
       " }\n",
       " code_show = !code_show\n",
       "} \n",
       "$( document ).ready(code_toggle);\n",
       "</script>\n",
       "<form action=\"javascript:code_toggle()\"><input type=\"submit\" value=\"Click here to toggle on/off the raw code.\"></form>"
      ],
      "text/plain": [
       "<IPython.core.display.HTML object>"
      ]
     },
     "execution_count": 661,
     "metadata": {},
     "output_type": "execute_result"
    }
   ],
   "source": [
    "display.HTML('''<script>\n",
    "code_show=true; \n",
    "function code_toggle() {\n",
    " if (code_show){\n",
    " $('div.input').hide();\n",
    " } else {\n",
    " $('div.input').show();\n",
    " }\n",
    " code_show = !code_show\n",
    "} \n",
    "$( document ).ready(code_toggle);\n",
    "</script>\n",
    "<form action=\"javascript:code_toggle()\"><input type=\"submit\" value=\"Click here to toggle on/off the raw code.\"></form>''')"
   ]
  },
  {
   "cell_type": "code",
   "execution_count": null,
   "metadata": {
    "collapsed": true
   },
   "outputs": [],
   "source": []
  }
 ],
 "metadata": {
  "kernelspec": {
   "display_name": "Python 3",
   "language": "python",
   "name": "python3"
  },
  "language_info": {
   "codemirror_mode": {
    "name": "ipython",
    "version": 3
   },
   "file_extension": ".py",
   "mimetype": "text/x-python",
   "name": "python",
   "nbconvert_exporter": "python",
   "pygments_lexer": "ipython3",
   "version": "3.6.1"
  }
 },
 "nbformat": 4,
 "nbformat_minor": 2
}
