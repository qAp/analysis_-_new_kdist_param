{
 "cells": [
  {
   "cell_type": "markdown",
   "metadata": {},
   "source": [
    "# $H_2O$ cooling rate profiles"
   ]
  },
  {
   "cell_type": "code",
   "execution_count": 1,
   "metadata": {
    "collapsed": true
   },
   "outputs": [],
   "source": [
    "%matplotlib inline\n",
    "%reload_ext autoreload\n",
    "%autoreload 2"
   ]
  },
  {
   "cell_type": "code",
   "execution_count": 45,
   "metadata": {
    "collapsed": true
   },
   "outputs": [],
   "source": [
    "import os\n",
    "import sys\n",
    "import shutil\n",
    "import pprint\n",
    "from pathlib import *\n",
    "\n",
    "import pymongo\n",
    "import json\n",
    "import pandas as pd\n",
    "import xarray as xr\n",
    "\n",
    "from climatools.lblnew.bestfit_params import *\n",
    "from climatools.atm import *\n",
    "from climatools.parameters import *\n",
    "from climatools.dataset import *\n",
    "from climatools.spectrum import *"
   ]
  },
  {
   "cell_type": "code",
   "execution_count": 12,
   "metadata": {
    "collapsed": true
   },
   "outputs": [],
   "source": [
    "client = pymongo.MongoClient('localhost', 27017)"
   ]
  },
  {
   "cell_type": "code",
   "execution_count": 96,
   "metadata": {
    "collapsed": true
   },
   "outputs": [],
   "source": [
    "PATH = Path('./data')"
   ]
  },
  {
   "cell_type": "markdown",
   "metadata": {},
   "source": [
    "## Parameters"
   ]
  },
  {
   "cell_type": "code",
   "execution_count": 13,
   "metadata": {
    "collapsed": true
   },
   "outputs": [],
   "source": [
    "MOLECULE = 'h2o'"
   ]
  },
  {
   "cell_type": "code",
   "execution_count": 14,
   "metadata": {
    "collapsed": true
   },
   "outputs": [],
   "source": [
    "atm = AtmComposition.cliradlw_nongreys()\n",
    "BANDMOLS = [(mapband_new2old()[band], 'h2o') for band, absorbers in atm.gasinbands.items() if 'h2o' in absorbers]"
   ]
  },
  {
   "cell_type": "code",
   "execution_count": 15,
   "metadata": {
    "collapsed": true
   },
   "outputs": [],
   "source": [
    "ATMPROS = [('saw_trpwlayer', 257), ('trp_sawwlayer', 300)]"
   ]
  },
  {
   "cell_type": "code",
   "execution_count": 147,
   "metadata": {
    "collapsed": true
   },
   "outputs": [],
   "source": [
    "PARAMS = []\n",
    "for band, absorber in BANDMOLS:\n",
    "    for atmpro, tsfc in ATMPROS:\n",
    "        param = kdist_params(molecule=absorber, band=band)\n",
    "        param['commitnumber'] = '9dc25c5'\n",
    "        param['atmpro'], param['tsfc'] = atmpro, tsfc\n",
    "        param['option_compute_ktable'] = 0\n",
    "        param['option_compute_btable'] = 0\n",
    "        PARAMS.append(param)"
   ]
  },
  {
   "cell_type": "code",
   "execution_count": 148,
   "metadata": {},
   "outputs": [],
   "source": [
    "PARAMS = [LBLnewBestfitParam(**param) for param in PARAMS]"
   ]
  },
  {
   "cell_type": "markdown",
   "metadata": {},
   "source": [
    "## Cooling rate profiles from all spectral bands in Dataframe\n",
    "These are also exported to excel files."
   ]
  },
  {
   "cell_type": "code",
   "execution_count": 149,
   "metadata": {},
   "outputs": [],
   "source": [
    "bands = list(AtmComposition.cliradlw_nongreys().gasinbands.keys())"
   ]
  },
  {
   "cell_type": "code",
   "execution_count": 160,
   "metadata": {},
   "outputs": [],
   "source": [
    "a = 'trp_sawwlayer' #'saw_trpwlayer'\n",
    "\n",
    "with pd.ExcelWriter(PATH/f'h2o_cool_{a}.xlsx') as writer:\n",
    "    for i, b in enumerate(bands):\n",
    "        ps = [p for p in PARAMS if p.atmpro==a and mapband_old2new()[p.band]==b]\n",
    "        datas = [p.modeldata_pymongo(collection=client.lblnew.bestfit_lw) for p in ps]\n",
    "        assert len(datas) == 1\n",
    "        data = datas[0]\n",
    "        df = pd.concat([data.crd_cool.coolrg.sum('g').to_pandas(),\n",
    "                        data.wgt_cool.coolrg.sum('g').sel(igg=1).to_pandas(),\n",
    "                        data.wgt_cool.coolrg.sum('g').sel(igg=10).to_pandas()],\n",
    "                       axis=1, keys=['CRD', 'WGT igg=1', 'WGT igg=10'])\n",
    "        \n",
    "        if i==0: bandstot = df\n",
    "        else: bandstot += df\n",
    "            \n",
    "        df.to_excel(writer, sheet_name=f'band {b}')\n",
    "\n",
    "    bandstot.to_excel(writer, sheet_name=f'bands-tot')"
   ]
  },
  {
   "cell_type": "code",
   "execution_count": 162,
   "metadata": {},
   "outputs": [
    {
     "data": {
      "text/plain": [
       "[PosixPath('/chia_cluster/home/jackyu/radiation/analysis_-_new_kdist_param/sawtrp_swap_atmpros/data/h2o_cool_saw_trpwlayer.xlsx'),\n",
       " PosixPath('/chia_cluster/home/jackyu/radiation/analysis_-_new_kdist_param/sawtrp_swap_atmpros/data/cool_specialprofiles.xlsx'),\n",
       " PosixPath('/chia_cluster/home/jackyu/radiation/analysis_-_new_kdist_param/sawtrp_swap_atmpros/data/h2o_cool_trp_sawwlayer.xlsx')]"
      ]
     },
     "execution_count": 162,
     "metadata": {},
     "output_type": "execute_result"
    }
   ],
   "source": [
    "[p.resolve() for p in PATH.iterdir()]"
   ]
  },
  {
   "cell_type": "code",
   "execution_count": null,
   "metadata": {
    "collapsed": true
   },
   "outputs": [],
   "source": []
  },
  {
   "cell_type": "code",
   "execution_count": null,
   "metadata": {
    "collapsed": true
   },
   "outputs": [],
   "source": []
  },
  {
   "cell_type": "code",
   "execution_count": null,
   "metadata": {
    "collapsed": true
   },
   "outputs": [],
   "source": []
  },
  {
   "cell_type": "markdown",
   "metadata": {
    "heading_collapsed": true
   },
   "source": [
    "# fin"
   ]
  },
  {
   "cell_type": "code",
   "execution_count": null,
   "metadata": {
    "collapsed": true,
    "hidden": true
   },
   "outputs": [],
   "source": []
  }
 ],
 "metadata": {
  "kernelspec": {
   "display_name": "Python 3",
   "language": "python",
   "name": "python3"
  },
  "language_info": {
   "codemirror_mode": {
    "name": "ipython",
    "version": 3
   },
   "file_extension": ".py",
   "mimetype": "text/x-python",
   "name": "python",
   "nbconvert_exporter": "python",
   "pygments_lexer": "ipython3",
   "version": "3.6.7"
  }
 },
 "nbformat": 4,
 "nbformat_minor": 2
}
