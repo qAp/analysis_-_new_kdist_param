{
 "cells": [
  {
   "cell_type": "markdown",
   "metadata": {},
   "source": [
    "# $H_2O$ cooling rate profiles"
   ]
  },
  {
   "cell_type": "code",
   "execution_count": 1,
   "metadata": {
    "collapsed": true
   },
   "outputs": [],
   "source": [
    "%matplotlib inline\n",
    "%reload_ext autoreload\n",
    "%autoreload 2"
   ]
  },
  {
   "cell_type": "code",
   "execution_count": 45,
   "metadata": {
    "collapsed": true
   },
   "outputs": [],
   "source": [
    "import os\n",
    "import sys\n",
    "import shutil\n",
    "import pprint\n",
    "from pathlib import *\n",
    "\n",
    "import pymongo\n",
    "import json\n",
    "import pandas as pd\n",
    "import xarray as xr\n",
    "\n",
    "from climatools.lblnew.bestfit_params import *\n",
    "from climatools.atm import *\n",
    "from climatools.parameters import *\n",
    "from climatools.dataset import *\n",
    "from climatools.spectrum import *"
   ]
  },
  {
   "cell_type": "code",
   "execution_count": 12,
   "metadata": {
    "collapsed": true
   },
   "outputs": [],
   "source": [
    "client = pymongo.MongoClient('localhost', 27017)"
   ]
  },
  {
   "cell_type": "code",
   "execution_count": 96,
   "metadata": {
    "collapsed": true
   },
   "outputs": [],
   "source": [
    "PATH = Path('./data')"
   ]
  },
  {
   "cell_type": "markdown",
   "metadata": {
    "heading_collapsed": true
   },
   "source": [
    "## Parameters"
   ]
  },
  {
   "cell_type": "code",
   "execution_count": 13,
   "metadata": {
    "collapsed": true,
    "hidden": true
   },
   "outputs": [],
   "source": [
    "MOLECULE = 'h2o'"
   ]
  },
  {
   "cell_type": "code",
   "execution_count": 14,
   "metadata": {
    "collapsed": true,
    "hidden": true
   },
   "outputs": [],
   "source": [
    "atm = AtmComposition.cliradlw_nongreys()\n",
    "BANDMOLS = [(mapband_new2old()[band], 'h2o') for band, absorbers in atm.gasinbands.items() if 'h2o' in absorbers]"
   ]
  },
  {
   "cell_type": "code",
   "execution_count": 15,
   "metadata": {
    "collapsed": true,
    "hidden": true
   },
   "outputs": [],
   "source": [
    "ATMPROS = [('saw_trpwlayer', 257), ('trp_sawwlayer', 300)]"
   ]
  },
  {
   "cell_type": "code",
   "execution_count": 35,
   "metadata": {
    "collapsed": true,
    "hidden": true
   },
   "outputs": [],
   "source": [
    "PARAMS = []\n",
    "for band, absorber in BANDMOLS:\n",
    "    for atmpro, tsfc in ATMPROS:\n",
    "        param = kdist_params(molecule=absorber, band=band)\n",
    "        param['commitnumber'] = '9dc25c5'\n",
    "        param['atmpro'], param['tsfc'] = atmpro, tsfc\n",
    "        param['option_compute_ktable'] = 0\n",
    "        param['option_compute_btable'] = 0\n",
    "        PARAMS.append(param)"
   ]
  },
  {
   "cell_type": "markdown",
   "metadata": {
    "heading_collapsed": true
   },
   "source": [
    "## Cooling rate profiles from all spectral bands in Dataframe\n",
    "These are also exported to excel files."
   ]
  },
  {
   "cell_type": "code",
   "execution_count": 92,
   "metadata": {
    "collapsed": true,
    "hidden": true
   },
   "outputs": [],
   "source": [
    "def cool_bands(*ps):\n",
    "    for p in ps:\n",
    "        data = p.modeldata_pymongo(collection=client.lblnew.bestfit_lw)\n",
    "        cool = data.crd_cool.sum('g')\n",
    "        yield cool\n",
    "        \n",
    "def cool_table(atmpro):\n",
    "    ps = [p for p in PARAMS if p['atmpro'] == atmpro]\n",
    "    ps = [LBLnewBestfitParam(**p) for p in ps]\n",
    "    \n",
    "    bands = [mapband_old2new()[p.band] for p in ps]\n",
    "    ds = xr.concat(cool_bands(*ps), dim='band')\n",
    "    ds.coords['band'] = bands\n",
    "    \n",
    "    df = ds['coolrg'].to_pandas().transpose()\n",
    "    df['bands-total'] = df.sum(axis=1)\n",
    "    df['layer'] = ds['layer'].values\n",
    "    cs = list(df.columns)\n",
    "    cs.remove('layer')\n",
    "    df = df[['layer'] + cs]\n",
    "    return df"
   ]
  },
  {
   "cell_type": "code",
   "execution_count": 123,
   "metadata": {
    "hidden": true
   },
   "outputs": [
    {
     "data": {
      "text/plain": [
       "PosixPath('/chia_cluster/home/jackyu/radiation/analysis_-_new_kdist_param/sawtrp_swap_atmpros/data/cool_specialprofiles.xlsx')"
      ]
     },
     "execution_count": 123,
     "metadata": {},
     "output_type": "execute_result"
    }
   ],
   "source": [
    "list(PATH.iterdir())[0].resolve()"
   ]
  },
  {
   "cell_type": "code",
   "execution_count": 110,
   "metadata": {
    "hidden": true,
    "scrolled": false
   },
   "outputs": [],
   "source": [
    "os.makedirs('data', exist_ok=True)"
   ]
  },
  {
   "cell_type": "code",
   "execution_count": 115,
   "metadata": {
    "hidden": true,
    "scrolled": false
   },
   "outputs": [],
   "source": [
    "with pd.ExcelWriter(PATH/'cool_specialprofiles.xlsx') as writer:\n",
    "    for atmpro, tsfc in ATMPROS:\n",
    "        cool_table(atmpro).to_excel(writer, sheet_name=atmpro)"
   ]
  },
  {
   "cell_type": "code",
   "execution_count": null,
   "metadata": {
    "collapsed": true,
    "hidden": true
   },
   "outputs": [],
   "source": []
  },
  {
   "cell_type": "markdown",
   "metadata": {},
   "source": [
    "# fin"
   ]
  },
  {
   "cell_type": "code",
   "execution_count": null,
   "metadata": {
    "collapsed": true
   },
   "outputs": [],
   "source": []
  }
 ],
 "metadata": {
  "kernelspec": {
   "display_name": "Python 3",
   "language": "python",
   "name": "python3"
  },
  "language_info": {
   "codemirror_mode": {
    "name": "ipython",
    "version": 3
   },
   "file_extension": ".py",
   "mimetype": "text/x-python",
   "name": "python",
   "nbconvert_exporter": "python",
   "pygments_lexer": "ipython3",
   "version": "3.6.7"
  }
 },
 "nbformat": 4,
 "nbformat_minor": 2
}
