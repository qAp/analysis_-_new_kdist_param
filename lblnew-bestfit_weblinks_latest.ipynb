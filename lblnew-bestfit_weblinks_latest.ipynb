{
 "cells": [
  {
   "cell_type": "markdown",
   "metadata": {},
   "source": [
    "# Analysis of lblnew-bestfit results  by (molecule, band)"
   ]
  },
  {
   "cell_type": "code",
   "execution_count": 122,
   "metadata": {
    "collapsed": true
   },
   "outputs": [],
   "source": [
    "%reload_ext autoreload\n",
    "%autoreload 2\n",
    "\n",
    "import os\n",
    "import copy\n",
    "import pprint\n",
    "import pandas as pd\n",
    "import pymongo\n",
    "\n",
    "from climatools.atm.absorbers import *\n",
    "from climatools.cliradlw.utils import *\n",
    "from climatools.lblnew.bestfit_params import *\n",
    "from climatools.lblnew.pipeline import *\n",
    "import climatools.lblnew.setup_bestfit as setup_bestfit\n",
    "\n",
    "from IPython import display"
   ]
  },
  {
   "cell_type": "code",
   "execution_count": 123,
   "metadata": {},
   "outputs": [],
   "source": [
    "pd.set_option('max_colwidth', -1)"
   ]
  },
  {
   "cell_type": "code",
   "execution_count": 124,
   "metadata": {
    "collapsed": true
   },
   "outputs": [],
   "source": [
    "ATMPROS = [('mls', 294), ('saw', 257), ('trp', 300)]"
   ]
  },
  {
   "cell_type": "code",
   "execution_count": 125,
   "metadata": {
    "collapsed": true
   },
   "outputs": [],
   "source": [
    "client = pymongo.MongoClient('localhost', 27017)"
   ]
  },
  {
   "cell_type": "code",
   "execution_count": 126,
   "metadata": {
    "collapsed": true
   },
   "outputs": [],
   "source": [
    "def make_query(param=None):\n",
    "    q = {}\n",
    "    for n, v in param.items():\n",
    "        if n == 'molecule' and type(v) == dict:\n",
    "            for mol, conc in v.items():\n",
    "                q[f'param.molecule.{mol}'] = conc\n",
    "        else:\n",
    "            q[f'param.{n}'] = v\n",
    "    return q\n",
    "\n",
    "def run_exists(param=None):\n",
    "    q = make_query(param)\n",
    "    cnt = client.lblnew.bestfit_lw.count(q)\n",
    "    return True if cnt else False\n",
    "\n",
    "def notebook_exists(param=None):\n",
    "    d = get_analysis_dir(param=param, setup=setup_bestfit)\n",
    "    try: \n",
    "        return 'results.ipynb' in os.listdir(d)\n",
    "    except FileNotFoundError:\n",
    "        return False"
   ]
  },
  {
   "cell_type": "code",
   "execution_count": 127,
   "metadata": {
    "scrolled": false
   },
   "outputs": [],
   "source": [
    "def get_3tuple_params():\n",
    "    bandmols = [(band, mol) for band, molconc in nongreys_byband().items()\n",
    "                for mol in molconc.keys()]\n",
    "    bandmols = [(mapband_new2old()[band], mol) for band, mol in bandmols]\n",
    "    \n",
    "    params = []\n",
    "    for band, mol in bandmols:\n",
    "        p = kdist_params(molecule=mol, band=band)\n",
    "\n",
    "        for k in ('option_compute_ktable', 'option_compute_btable', 'commitnumber'):\n",
    "            if k in p: del p[k]\n",
    "        \n",
    "        param_bandmol = []\n",
    "        for atmpro, tsfc in ATMPROS:\n",
    "            p['atmpro'], p['tsfc'] = atmpro, tsfc\n",
    "            \n",
    "            q = make_query(p)\n",
    "            r = client.lblnew.bestfit_lw.find_one(q, projection=['param'])\n",
    "            if not r:\n",
    "                print('Following lblnew run not available:')\n",
    "                pprint.pprint(p)\n",
    "                continue\n",
    "                \n",
    "            if not notebook_exists(param=r['param']):\n",
    "                print('Following lblnew analysis not avaialble:')\n",
    "                pprint.pprint(p)\n",
    "                continue\n",
    "                \n",
    "            param_bandmol.append(r.get('param'))\n",
    "        params.append(tuple(param_bandmol))\n",
    "    return params"
   ]
  },
  {
   "cell_type": "code",
   "execution_count": 128,
   "metadata": {
    "collapsed": true
   },
   "outputs": [],
   "source": [
    "def get_hrefs(param_3tuple=None):\n",
    "    hrefs = []\n",
    "    for param in param_3tuple:\n",
    "        if notebook_exists(param=param):\n",
    "            url = nbviewer_url(param=param, setup=setup_bestfit)\n",
    "            s = f'''<a href=\"{url}\">{param['atmpro']}</a>'''\n",
    "            hrefs.append(s)\n",
    "    s_hrefs = ' '.join(hrefs)\n",
    "    return s_hrefs\n",
    "\n",
    "def tb_hrefs():\n",
    "    df = pd.DataFrame()\n",
    "    for params in get_3tuple_params():\n",
    "        hrefs = get_hrefs(param_3tuple=params)\n",
    "        molecule, band = params[0]['molecule'], params[0]['band']\n",
    "        df.loc[molecule, band] = hrefs\n",
    "        \n",
    "    df.fillna('', inplace=True)\n",
    "    clirad_bands = [mapband_old2new()[b] for b in df.columns]\n",
    "    columns = pd.MultiIndex.from_arrays([df.columns, clirad_bands],\n",
    "                                        names=['lblnew', 'clirad'])\n",
    "    df.columns = columns\n",
    "    return df"
   ]
  },
  {
   "cell_type": "code",
   "execution_count": 129,
   "metadata": {
    "collapsed": true
   },
   "outputs": [],
   "source": [
    "def script():\n",
    "    df = tb_hrefs()\n",
    "    s_html = df.to_html(escape=False)\n",
    "    display.display(display.HTML(s_html))"
   ]
  },
  {
   "cell_type": "code",
   "execution_count": 130,
   "metadata": {
    "scrolled": false
   },
   "outputs": [
    {
     "data": {
      "text/html": [
       "<table border=\"1\" class=\"dataframe\">\n",
       "  <thead>\n",
       "    <tr>\n",
       "      <th>lblnew</th>\n",
       "      <th>1</th>\n",
       "      <th>2</th>\n",
       "      <th>3a</th>\n",
       "      <th>3b</th>\n",
       "      <th>3c</th>\n",
       "      <th>4</th>\n",
       "      <th>5</th>\n",
       "      <th>6</th>\n",
       "      <th>7</th>\n",
       "      <th>8</th>\n",
       "      <th>9</th>\n",
       "    </tr>\n",
       "    <tr>\n",
       "      <th>clirad</th>\n",
       "      <th>1</th>\n",
       "      <th>2</th>\n",
       "      <th>3</th>\n",
       "      <th>4</th>\n",
       "      <th>5</th>\n",
       "      <th>6</th>\n",
       "      <th>7</th>\n",
       "      <th>8</th>\n",
       "      <th>9</th>\n",
       "      <th>10</th>\n",
       "      <th>11</th>\n",
       "    </tr>\n",
       "  </thead>\n",
       "  <tbody>\n",
       "    <tr>\n",
       "      <th>h2o</th>\n",
       "      <td><a href=\"http://nbviewer.jupyter.org/github/qap/analysis_-_new_kdist_param/blob/master/lblnew/h2o/conc_None/band01_wn_20_340/nv_1000/dv_0.001/ng_12/g_ascending_k_descending/refPTs_P_1_T_250__P_30_T_250__P_300_T_250/ng_refs_3__3__6/ng_adju_0__0__0/getabsth_auto__auto__auto/absth_dlogN_uniform__dlogN_uniform__dlogN_uniform/klin_none/atmpro_mls/wgt_k_1/wgt_0.2_0.2_0.2__0.2_0.2_0.2__0.2_0.2_0.65_0.65_0.65_0.65/wgt_flux_1/w_diffuse_1.66_1.66_1.66__1.66_1.66_1.66__1.66_1.66_1.5_1.5_1.5_1.5/option_compute_ktable_0/option_compute_btable_0/crd_5014a19/results.ipynb\">mls</a> <a href=\"http://nbviewer.jupyter.org/github/qap/analysis_-_new_kdist_param/blob/master/lblnew/h2o/conc_None/band01_wn_20_340/nv_1000/dv_0.001/ng_12/g_ascending_k_descending/refPTs_P_1_T_250__P_30_T_250__P_300_T_250/ng_refs_3__3__6/ng_adju_0__0__0/getabsth_auto__auto__auto/absth_dlogN_uniform__dlogN_uniform__dlogN_uniform/klin_none/atmpro_saw/wgt_k_1/wgt_0.2_0.2_0.2__0.2_0.2_0.2__0.2_0.2_0.65_0.65_0.65_0.65/wgt_flux_1/w_diffuse_1.66_1.66_1.66__1.66_1.66_1.66__1.66_1.66_1.5_1.5_1.5_1.5/option_compute_ktable_0/option_compute_btable_0/crd_5014a19/results.ipynb\">saw</a> <a href=\"http://nbviewer.jupyter.org/github/qap/analysis_-_new_kdist_param/blob/master/lblnew/h2o/conc_None/band01_wn_20_340/nv_1000/dv_0.001/ng_12/g_ascending_k_descending/refPTs_P_1_T_250__P_30_T_250__P_300_T_250/ng_refs_3__3__6/ng_adju_0__0__0/getabsth_auto__auto__auto/absth_dlogN_uniform__dlogN_uniform__dlogN_uniform/klin_none/atmpro_trp/wgt_k_1/wgt_0.2_0.2_0.2__0.2_0.2_0.2__0.2_0.2_0.65_0.65_0.65_0.65/wgt_flux_1/w_diffuse_1.66_1.66_1.66__1.66_1.66_1.66__1.66_1.66_1.5_1.5_1.5_1.5/option_compute_ktable_0/option_compute_btable_0/crd_5014a19/results.ipynb\">trp</a></td>\n",
       "      <td><a href=\"http://nbviewer.jupyter.org/github/qap/analysis_-_new_kdist_param/blob/master/lblnew/h2o/conc_None/band02_wn_340_540/nv_1000/dv_0.001/ng_11/g_ascending_k_descending/refPTs_P_1_T_250__P_10_T_250__P_500_T_250/ng_refs_2__3__6/ng_adju_-2__-2__0/getabsth_auto__auto__auto/absth_dlogN_uniform__dlogN_uniform__dlogN_uniform/klin_none/atmpro_mls/wgt_k_1/wgt_0.6_0.6__0.6_0.6_0.6__0.6_0.6_0.6_0.6_0.6_0.6/wgt_flux_1/w_diffuse_1.66_1.66__1.8_1.8_1.8__1.8_1.66_1.45_1.45_1.45_1.45/option_compute_ktable_0/option_compute_btable_0/crd_5014a19/results.ipynb\">mls</a> <a href=\"http://nbviewer.jupyter.org/github/qap/analysis_-_new_kdist_param/blob/master/lblnew/h2o/conc_None/band02_wn_340_540/nv_1000/dv_0.001/ng_11/g_ascending_k_descending/refPTs_P_1_T_250__P_10_T_250__P_500_T_250/ng_refs_2__3__6/ng_adju_-2__-2__0/getabsth_auto__auto__auto/absth_dlogN_uniform__dlogN_uniform__dlogN_uniform/klin_none/atmpro_saw/wgt_k_1/wgt_0.6_0.6__0.6_0.6_0.6__0.6_0.6_0.6_0.6_0.6_0.6/wgt_flux_1/w_diffuse_1.66_1.66__1.8_1.8_1.8__1.8_1.66_1.45_1.45_1.45_1.45/option_compute_ktable_0/option_compute_btable_0/crd_5014a19/results.ipynb\">saw</a> <a href=\"http://nbviewer.jupyter.org/github/qap/analysis_-_new_kdist_param/blob/master/lblnew/h2o/conc_None/band02_wn_340_540/nv_1000/dv_0.001/ng_11/g_ascending_k_descending/refPTs_P_1_T_250__P_10_T_250__P_500_T_250/ng_refs_2__3__6/ng_adju_-2__-2__0/getabsth_auto__auto__auto/absth_dlogN_uniform__dlogN_uniform__dlogN_uniform/klin_none/atmpro_trp/wgt_k_1/wgt_0.6_0.6__0.6_0.6_0.6__0.6_0.6_0.6_0.6_0.6_0.6/wgt_flux_1/w_diffuse_1.66_1.66__1.8_1.8_1.8__1.8_1.66_1.45_1.45_1.45_1.45/option_compute_ktable_0/option_compute_btable_0/crd_5014a19/results.ipynb\">trp</a></td>\n",
       "      <td><a href=\"http://nbviewer.jupyter.org/github/qap/analysis_-_new_kdist_param/blob/master/lblnew/h2o/conc_None/band03a_wn_540_620/nv_1000/dv_0.001/ng_8/g_ascending_k_descending/refPTs_P_10_T_250__P_600_T_250/ng_refs_2__6/ng_adju_0__0/getabsth_auto__auto/absth_dlogN_uniform__dlogN_uniform/klin_none/atmpro_mls/wgt_k_1/wgt_0.7_0.7__0.7_0.5_0.5_0.5_0.5_0.5/wgt_flux_1/w_diffuse_1.9_1.7__1.4_1.4_1.4_1.55_1.6_1.66/option_compute_ktable_1/option_compute_btable_0/crd_a06b618/results.ipynb\">mls</a> <a href=\"http://nbviewer.jupyter.org/github/qap/analysis_-_new_kdist_param/blob/master/lblnew/h2o/conc_None/band03a_wn_540_620/nv_1000/dv_0.001/ng_8/g_ascending_k_descending/refPTs_P_10_T_250__P_600_T_250/ng_refs_2__6/ng_adju_0__0/getabsth_auto__auto/absth_dlogN_uniform__dlogN_uniform/klin_none/atmpro_saw/wgt_k_1/wgt_0.7_0.7__0.7_0.5_0.5_0.5_0.5_0.5/wgt_flux_1/w_diffuse_1.9_1.7__1.4_1.4_1.4_1.55_1.6_1.66/option_compute_ktable_0/option_compute_btable_0/crd_5014a19/results.ipynb\">saw</a> <a href=\"http://nbviewer.jupyter.org/github/qap/analysis_-_new_kdist_param/blob/master/lblnew/h2o/conc_None/band03a_wn_540_620/nv_1000/dv_0.001/ng_8/g_ascending_k_descending/refPTs_P_10_T_250__P_600_T_250/ng_refs_2__6/ng_adju_0__0/getabsth_auto__auto/absth_dlogN_uniform__dlogN_uniform/klin_none/atmpro_trp/wgt_k_1/wgt_0.7_0.7__0.7_0.5_0.5_0.5_0.5_0.5/wgt_flux_1/w_diffuse_1.9_1.7__1.4_1.4_1.4_1.55_1.6_1.66/option_compute_ktable_0/option_compute_btable_0/crd_5014a19/results.ipynb\">trp</a></td>\n",
       "      <td><a href=\"http://nbviewer.jupyter.org/github/qap/analysis_-_new_kdist_param/blob/master/lblnew/h2o/conc_None/band03b_wn_620_720/nv_1000/dv_0.001/ng_6/g_ascending_k_descending/refPTs_P_600_T_250/ng_refs_6/ng_adju_0/getabsth_auto/absth_dlogN_uniform/klin_1e-24/atmpro_mls/wgt_k_1/wgt_0.8_0.8_0.8_0.6_0.6_0.9/wgt_flux_1/w_diffuse_1.66_1.66_1.66_1.55_1.5_1.66/option_compute_ktable_0/option_compute_btable_0/crd_5014a19/results.ipynb\">mls</a> <a href=\"http://nbviewer.jupyter.org/github/qap/analysis_-_new_kdist_param/blob/master/lblnew/h2o/conc_None/band03b_wn_620_720/nv_1000/dv_0.001/ng_6/g_ascending_k_descending/refPTs_P_600_T_250/ng_refs_6/ng_adju_0/getabsth_auto/absth_dlogN_uniform/klin_1e-24/atmpro_saw/wgt_k_1/wgt_0.8_0.8_0.8_0.6_0.6_0.9/wgt_flux_1/w_diffuse_1.66_1.66_1.66_1.55_1.5_1.66/option_compute_ktable_0/option_compute_btable_0/crd_5014a19/results.ipynb\">saw</a> <a href=\"http://nbviewer.jupyter.org/github/qap/analysis_-_new_kdist_param/blob/master/lblnew/h2o/conc_None/band03b_wn_620_720/nv_1000/dv_0.001/ng_6/g_ascending_k_descending/refPTs_P_600_T_250/ng_refs_6/ng_adju_0/getabsth_auto/absth_dlogN_uniform/klin_1e-24/atmpro_trp/wgt_k_1/wgt_0.8_0.8_0.8_0.6_0.6_0.9/wgt_flux_1/w_diffuse_1.66_1.66_1.66_1.55_1.5_1.66/option_compute_ktable_0/option_compute_btable_0/crd_5014a19/results.ipynb\">trp</a></td>\n",
       "      <td><a href=\"http://nbviewer.jupyter.org/github/qap/analysis_-_new_kdist_param/blob/master/lblnew/h2o/conc_None/band03c_wn_720_800/nv_1000/dv_0.001/ng_5/g_ascending_k_descending/refPTs_P_600_T_250/ng_refs_5/ng_adju_0/getabsth_auto/absth_dlogN_uniform/klin_5e-25/atmpro_mls/wgt_k_1/wgt_0.5_0.5_0.6_0.7_0.9/wgt_flux_1/w_diffuse_1.55_1.6_1.66_1.66_1.8/option_compute_ktable_1/option_compute_btable_0/crd_a06b618/results.ipynb\">mls</a> <a href=\"http://nbviewer.jupyter.org/github/qap/analysis_-_new_kdist_param/blob/master/lblnew/h2o/conc_None/band03c_wn_720_800/nv_1000/dv_0.001/ng_5/g_ascending_k_descending/refPTs_P_600_T_250/ng_refs_5/ng_adju_0/getabsth_auto/absth_dlogN_uniform/klin_5e-25/atmpro_saw/wgt_k_1/wgt_0.5_0.5_0.6_0.7_0.9/wgt_flux_1/w_diffuse_1.55_1.6_1.66_1.66_1.8/option_compute_ktable_0/option_compute_btable_0/crd_5014a19/results.ipynb\">saw</a> <a href=\"http://nbviewer.jupyter.org/github/qap/analysis_-_new_kdist_param/blob/master/lblnew/h2o/conc_None/band03c_wn_720_800/nv_1000/dv_0.001/ng_5/g_ascending_k_descending/refPTs_P_600_T_250/ng_refs_5/ng_adju_0/getabsth_auto/absth_dlogN_uniform/klin_5e-25/atmpro_trp/wgt_k_1/wgt_0.5_0.5_0.6_0.7_0.9/wgt_flux_1/w_diffuse_1.55_1.6_1.66_1.66_1.8/option_compute_ktable_0/option_compute_btable_0/crd_5014a19/results.ipynb\">trp</a></td>\n",
       "      <td><a href=\"http://nbviewer.jupyter.org/github/qap/analysis_-_new_kdist_param/blob/master/lblnew/h2o/conc_None/band04_wn_800_980/nv_1000/dv_0.001/ng_3/g_ascending_k_descending/refPTs_P_600_T_250/ng_refs_3/ng_adju_0/getabsth_auto/absth_dlogN_uniform/klin_1e-24/atmpro_mls/wgt_k_1/wgt_0.5_0.55_0.85/wgt_flux_1/w_diffuse_1.66_1.66_1.85/option_compute_ktable_1/option_compute_btable_0/crd_a06b618/results.ipynb\">mls</a> <a href=\"http://nbviewer.jupyter.org/github/qap/analysis_-_new_kdist_param/blob/master/lblnew/h2o/conc_None/band04_wn_800_980/nv_1000/dv_0.001/ng_3/g_ascending_k_descending/refPTs_P_600_T_250/ng_refs_3/ng_adju_0/getabsth_auto/absth_dlogN_uniform/klin_1e-24/atmpro_saw/wgt_k_1/wgt_0.5_0.55_0.85/wgt_flux_1/w_diffuse_1.66_1.66_1.85/option_compute_ktable_0/option_compute_btable_0/crd_5014a19/results.ipynb\">saw</a> <a href=\"http://nbviewer.jupyter.org/github/qap/analysis_-_new_kdist_param/blob/master/lblnew/h2o/conc_None/band04_wn_800_980/nv_1000/dv_0.001/ng_3/g_ascending_k_descending/refPTs_P_600_T_250/ng_refs_3/ng_adju_0/getabsth_auto/absth_dlogN_uniform/klin_1e-24/atmpro_trp/wgt_k_1/wgt_0.5_0.55_0.85/wgt_flux_1/w_diffuse_1.66_1.66_1.85/option_compute_ktable_0/option_compute_btable_0/crd_5014a19/results.ipynb\">trp</a></td>\n",
       "      <td><a href=\"http://nbviewer.jupyter.org/github/qap/analysis_-_new_kdist_param/blob/master/lblnew/h2o/conc_None/band05_wn_980_1100/nv_1000/dv_0.001/ng_3/g_ascending_k_descending/refPTs_P_600_T_250/ng_refs_3/ng_adju_0/getabsth_auto/absth_dlogN_uniform/klin_1e-24/atmpro_mls/wgt_k_1/wgt_0.5_0.55_0.9/wgt_flux_1/w_diffuse_1.66_1.66_1.8/option_compute_ktable_1/option_compute_btable_0/crd_a06b618/results.ipynb\">mls</a> <a href=\"http://nbviewer.jupyter.org/github/qap/analysis_-_new_kdist_param/blob/master/lblnew/h2o/conc_None/band05_wn_980_1100/nv_1000/dv_0.001/ng_3/g_ascending_k_descending/refPTs_P_600_T_250/ng_refs_3/ng_adju_0/getabsth_auto/absth_dlogN_uniform/klin_1e-24/atmpro_saw/wgt_k_1/wgt_0.5_0.55_0.9/wgt_flux_1/w_diffuse_1.66_1.66_1.8/option_compute_ktable_0/option_compute_btable_0/crd_5014a19/results.ipynb\">saw</a> <a href=\"http://nbviewer.jupyter.org/github/qap/analysis_-_new_kdist_param/blob/master/lblnew/h2o/conc_None/band05_wn_980_1100/nv_1000/dv_0.001/ng_3/g_ascending_k_descending/refPTs_P_600_T_250/ng_refs_3/ng_adju_0/getabsth_auto/absth_dlogN_uniform/klin_1e-24/atmpro_trp/wgt_k_1/wgt_0.5_0.55_0.9/wgt_flux_1/w_diffuse_1.66_1.66_1.8/option_compute_ktable_0/option_compute_btable_0/crd_5014a19/results.ipynb\">trp</a></td>\n",
       "      <td><a href=\"http://nbviewer.jupyter.org/github/qap/analysis_-_new_kdist_param/blob/master/lblnew/h2o/conc_None/band06_wn_1100_1215/nv_1000/dv_0.001/ng_4/g_ascending_k_descending/refPTs_P_600_T_250/ng_refs_4/ng_adju_0/getabsth_auto/absth_dlogN_uniform/klin_5e-25/atmpro_mls/wgt_k_1/wgt_0.3_0.45_0.6_0.95/wgt_flux_1/w_diffuse_1.66_1.66_1.7_1.8/option_compute_ktable_0/option_compute_btable_0/crd_5014a19/results.ipynb\">mls</a> <a href=\"http://nbviewer.jupyter.org/github/qap/analysis_-_new_kdist_param/blob/master/lblnew/h2o/conc_None/band06_wn_1100_1215/nv_1000/dv_0.001/ng_4/g_ascending_k_descending/refPTs_P_600_T_250/ng_refs_4/ng_adju_0/getabsth_auto/absth_dlogN_uniform/klin_5e-25/atmpro_saw/wgt_k_1/wgt_0.3_0.45_0.6_0.95/wgt_flux_1/w_diffuse_1.66_1.66_1.7_1.8/option_compute_ktable_0/option_compute_btable_0/crd_5014a19/results.ipynb\">saw</a> <a href=\"http://nbviewer.jupyter.org/github/qap/analysis_-_new_kdist_param/blob/master/lblnew/h2o/conc_None/band06_wn_1100_1215/nv_1000/dv_0.001/ng_4/g_ascending_k_descending/refPTs_P_600_T_250/ng_refs_4/ng_adju_0/getabsth_auto/absth_dlogN_uniform/klin_5e-25/atmpro_trp/wgt_k_1/wgt_0.3_0.45_0.6_0.95/wgt_flux_1/w_diffuse_1.66_1.66_1.7_1.8/option_compute_ktable_0/option_compute_btable_0/crd_5014a19/results.ipynb\">trp</a></td>\n",
       "      <td><a href=\"http://nbviewer.jupyter.org/github/qap/analysis_-_new_kdist_param/blob/master/lblnew/h2o/conc_None/band07_wn_1215_1380/nv_1000/dv_0.001/ng_7/g_ascending_k_descending/refPTs_P_600_T_250/ng_refs_7/ng_adju_0/getabsth_auto/absth_dlogN_uniform/klin_none/atmpro_mls/wgt_k_1/wgt_0.5_0.5_0.5_0.5_0.5_0.5_0.9/wgt_flux_1/w_diffuse_2_1.6_1.6_1.6_1.6_1.6_1.8/option_compute_ktable_1/option_compute_btable_0/crd_a06b618/results.ipynb\">mls</a> <a href=\"http://nbviewer.jupyter.org/github/qap/analysis_-_new_kdist_param/blob/master/lblnew/h2o/conc_None/band07_wn_1215_1380/nv_1000/dv_0.001/ng_7/g_ascending_k_descending/refPTs_P_600_T_250/ng_refs_7/ng_adju_0/getabsth_auto/absth_dlogN_uniform/klin_none/atmpro_saw/wgt_k_1/wgt_0.5_0.5_0.5_0.5_0.5_0.5_0.9/wgt_flux_1/w_diffuse_2_1.6_1.6_1.6_1.6_1.6_1.8/option_compute_ktable_0/option_compute_btable_0/crd_5014a19/results.ipynb\">saw</a> <a href=\"http://nbviewer.jupyter.org/github/qap/analysis_-_new_kdist_param/blob/master/lblnew/h2o/conc_None/band07_wn_1215_1380/nv_1000/dv_0.001/ng_7/g_ascending_k_descending/refPTs_P_600_T_250/ng_refs_7/ng_adju_0/getabsth_auto/absth_dlogN_uniform/klin_none/atmpro_trp/wgt_k_1/wgt_0.5_0.5_0.5_0.5_0.5_0.5_0.9/wgt_flux_1/w_diffuse_2_1.6_1.6_1.6_1.6_1.6_1.8/option_compute_ktable_0/option_compute_btable_0/crd_5014a19/results.ipynb\">trp</a></td>\n",
       "      <td><a href=\"http://nbviewer.jupyter.org/github/qap/analysis_-_new_kdist_param/blob/master/lblnew/h2o/conc_None/band08_wn_1380_1900/nv_1000/dv_0.001/ng_8/g_ascending_k_descending/refPTs_P_1_T_250__P_10_T_250__P_500_T_250/ng_refs_3__2__3/ng_adju_0__-1__0/getabsth_auto__auto__auto/absth_dlogN_uniform__dlogN_uniform__dlogN_uniform/klin_none/atmpro_mls/wgt_k_1/wgt_0.55_0.55_0.85__0.85_0.85__0_0.3_0.55/wgt_flux_1/w_diffuse_1.66_1.66_1.66__1.66_1.66__1.66_1.66_1.66/option_compute_ktable_0/option_compute_btable_0/crd_5014a19/results.ipynb\">mls</a> <a href=\"http://nbviewer.jupyter.org/github/qap/analysis_-_new_kdist_param/blob/master/lblnew/h2o/conc_None/band08_wn_1380_1900/nv_1000/dv_0.001/ng_8/g_ascending_k_descending/refPTs_P_1_T_250__P_10_T_250__P_500_T_250/ng_refs_3__2__3/ng_adju_0__-1__0/getabsth_auto__auto__auto/absth_dlogN_uniform__dlogN_uniform__dlogN_uniform/klin_none/atmpro_saw/wgt_k_1/wgt_0.55_0.55_0.85__0.85_0.85__0_0.3_0.55/wgt_flux_1/w_diffuse_1.66_1.66_1.66__1.66_1.66__1.66_1.66_1.66/option_compute_ktable_0/option_compute_btable_0/crd_5014a19/results.ipynb\">saw</a> <a href=\"http://nbviewer.jupyter.org/github/qap/analysis_-_new_kdist_param/blob/master/lblnew/h2o/conc_None/band08_wn_1380_1900/nv_1000/dv_0.001/ng_8/g_ascending_k_descending/refPTs_P_1_T_250__P_10_T_250__P_500_T_250/ng_refs_3__2__3/ng_adju_0__-1__0/getabsth_auto__auto__auto/absth_dlogN_uniform__dlogN_uniform__dlogN_uniform/klin_none/atmpro_trp/wgt_k_1/wgt_0.55_0.55_0.85__0.85_0.85__0_0.3_0.55/wgt_flux_1/w_diffuse_1.66_1.66_1.66__1.66_1.66__1.66_1.66_1.66/option_compute_ktable_0/option_compute_btable_0/crd_5014a19/results.ipynb\">trp</a></td>\n",
       "      <td><a href=\"http://nbviewer.jupyter.org/github/qap/analysis_-_new_kdist_param/blob/master/lblnew/h2o/conc_None/band09_wn_1900_3000/nv_1000/dv_0.001/ng_5/g_ascending_k_descending/refPTs_P_500_T_250/ng_refs_5/ng_adju_0/getabsth_auto/absth_dlogN_uniform/klin_1e-24/atmpro_mls/wgt_k_1/wgt_0.4_0.4_0.5_0.55_0.85/wgt_flux_1/w_diffuse_1.66_1.66_1.66_1.66_1.66/option_compute_ktable_1/option_compute_btable_0/crd_a06b618/results.ipynb\">mls</a> <a href=\"http://nbviewer.jupyter.org/github/qap/analysis_-_new_kdist_param/blob/master/lblnew/h2o/conc_None/band09_wn_1900_3000/nv_1000/dv_0.001/ng_5/g_ascending_k_descending/refPTs_P_500_T_250/ng_refs_5/ng_adju_0/getabsth_auto/absth_dlogN_uniform/klin_1e-24/atmpro_saw/wgt_k_1/wgt_0.4_0.4_0.5_0.55_0.85/wgt_flux_1/w_diffuse_1.66_1.66_1.66_1.66_1.66/option_compute_ktable_0/option_compute_btable_0/crd_5014a19/results.ipynb\">saw</a> <a href=\"http://nbviewer.jupyter.org/github/qap/analysis_-_new_kdist_param/blob/master/lblnew/h2o/conc_None/band09_wn_1900_3000/nv_1000/dv_0.001/ng_5/g_ascending_k_descending/refPTs_P_500_T_250/ng_refs_5/ng_adju_0/getabsth_auto/absth_dlogN_uniform/klin_1e-24/atmpro_trp/wgt_k_1/wgt_0.4_0.4_0.5_0.55_0.85/wgt_flux_1/w_diffuse_1.66_1.66_1.66_1.66_1.66/option_compute_ktable_0/option_compute_btable_0/crd_5014a19/results.ipynb\">trp</a></td>\n",
       "    </tr>\n",
       "    <tr>\n",
       "      <th>co2</th>\n",
       "      <td></td>\n",
       "      <td></td>\n",
       "      <td><a href=\"http://nbviewer.jupyter.org/github/qap/analysis_-_new_kdist_param/blob/master/lblnew/co2/conc_0.0004/band03a_wn_540_620/nv_1000/dv_0.001/ng_9/g_ascending_k_descending/refPTs_P_1_T_250__P_10_T_250__P_500_T_250/ng_refs_3__2__4/ng_adju_0__0__0/getabsth_auto__auto__auto/absth_dlogN_uniform__dlogN_uniform__dlogN_uniform/klin_6.375563e-24/atmpro_mls/wgt_k_1/wgt_0.7_0.3_0.7__0.7_0.6__0.4_0.5_0.8_0.95/wgt_flux_1/w_diffuse_1.6_1.6_1.7__1.75_1.75__1.55_1.55_1.6_1.85/option_compute_ktable_0/option_compute_btable_0/crd_a22ab94/results.ipynb\">mls</a> <a href=\"http://nbviewer.jupyter.org/github/qap/analysis_-_new_kdist_param/blob/master/lblnew/co2/conc_0.0004/band03a_wn_540_620/nv_1000/dv_0.001/ng_9/g_ascending_k_descending/refPTs_P_1_T_250__P_10_T_250__P_500_T_250/ng_refs_3__2__4/ng_adju_0__0__0/getabsth_auto__auto__auto/absth_dlogN_uniform__dlogN_uniform__dlogN_uniform/klin_6.375563e-24/atmpro_saw/wgt_k_1/wgt_0.7_0.3_0.7__0.7_0.6__0.4_0.5_0.8_0.95/wgt_flux_1/w_diffuse_1.6_1.6_1.7__1.75_1.75__1.55_1.55_1.6_1.85/option_compute_ktable_0/option_compute_btable_0/crd_a22ab94/results.ipynb\">saw</a> <a href=\"http://nbviewer.jupyter.org/github/qap/analysis_-_new_kdist_param/blob/master/lblnew/co2/conc_0.0004/band03a_wn_540_620/nv_1000/dv_0.001/ng_9/g_ascending_k_descending/refPTs_P_1_T_250__P_10_T_250__P_500_T_250/ng_refs_3__2__4/ng_adju_0__0__0/getabsth_auto__auto__auto/absth_dlogN_uniform__dlogN_uniform__dlogN_uniform/klin_6.375563e-24/atmpro_trp/wgt_k_1/wgt_0.7_0.3_0.7__0.7_0.6__0.4_0.5_0.8_0.95/wgt_flux_1/w_diffuse_1.6_1.6_1.7__1.75_1.75__1.55_1.55_1.6_1.85/option_compute_ktable_0/option_compute_btable_0/crd_a22ab94/results.ipynb\">trp</a></td>\n",
       "      <td><a href=\"http://nbviewer.jupyter.org/github/qap/analysis_-_new_kdist_param/blob/master/lblnew/co2/conc_0.0004/band03b_wn_620_720/nv_1000/dv_0.001/ng_9/g_ascending_k_descending/refPTs_P_1_T_250__P_10_T_250/ng_refs_5__4/ng_adju_0__0/getabsth_auto__auto/absth_dlogN_uniform__dlogN_uniform/klin_none/atmpro_mls/wgt_k_1/wgt_0_0.5_0.4_0.6_0.65__0.7_0.7_0.55_0.6/wgt_flux_1/w_diffuse_1.66_1.66_1.66_1.66_1.66__1.66_1.66_1.66_1.66/option_compute_ktable_0/option_compute_btable_0/crd_a22ab94/results.ipynb\">mls</a> <a href=\"http://nbviewer.jupyter.org/github/qap/analysis_-_new_kdist_param/blob/master/lblnew/co2/conc_0.0004/band03b_wn_620_720/nv_1000/dv_0.001/ng_9/g_ascending_k_descending/refPTs_P_1_T_250__P_10_T_250/ng_refs_5__4/ng_adju_0__0/getabsth_auto__auto/absth_dlogN_uniform__dlogN_uniform/klin_none/atmpro_saw/wgt_k_1/wgt_0_0.5_0.4_0.6_0.65__0.7_0.7_0.55_0.6/wgt_flux_1/w_diffuse_1.66_1.66_1.66_1.66_1.66__1.66_1.66_1.66_1.66/option_compute_ktable_0/option_compute_btable_0/crd_a22ab94/results.ipynb\">saw</a> <a href=\"http://nbviewer.jupyter.org/github/qap/analysis_-_new_kdist_param/blob/master/lblnew/co2/conc_0.0004/band03b_wn_620_720/nv_1000/dv_0.001/ng_9/g_ascending_k_descending/refPTs_P_1_T_250__P_10_T_250/ng_refs_5__4/ng_adju_0__0/getabsth_auto__auto/absth_dlogN_uniform__dlogN_uniform/klin_none/atmpro_trp/wgt_k_1/wgt_0_0.5_0.4_0.6_0.65__0.7_0.7_0.55_0.6/wgt_flux_1/w_diffuse_1.66_1.66_1.66_1.66_1.66__1.66_1.66_1.66_1.66/option_compute_ktable_0/option_compute_btable_0/crd_a22ab94/results.ipynb\">trp</a></td>\n",
       "      <td><a href=\"http://nbviewer.jupyter.org/github/qap/analysis_-_new_kdist_param/blob/master/lblnew/co2/conc_0.0004/band03c_wn_720_800/nv_1000/dv_0.001/ng_9/g_ascending_k_descending/refPTs_P_1_T_250__P_10_T_250__P_500_T_250/ng_refs_3__2__4/ng_adju_0__0__0/getabsth_auto__auto__auto/absth_dlogN_uniform__dlogN_uniform__dlogN_uniform/klin_6.375563e-24/atmpro_mls/wgt_k_1/wgt_0.6_0.4_0.7__0.7_0.4__0.3_0.4_0.85_0.9/wgt_flux_1/w_diffuse_1.7_1.6_1.8__1.8_1.7__1.5_1.6_1.7_1.8/option_compute_ktable_0/option_compute_btable_0/crd_a22ab94/results.ipynb\">mls</a> <a href=\"http://nbviewer.jupyter.org/github/qap/analysis_-_new_kdist_param/blob/master/lblnew/co2/conc_0.0004/band03c_wn_720_800/nv_1000/dv_0.001/ng_9/g_ascending_k_descending/refPTs_P_1_T_250__P_10_T_250__P_500_T_250/ng_refs_3__2__4/ng_adju_0__0__0/getabsth_auto__auto__auto/absth_dlogN_uniform__dlogN_uniform__dlogN_uniform/klin_6.375563e-24/atmpro_saw/wgt_k_1/wgt_0.6_0.4_0.7__0.7_0.4__0.3_0.4_0.85_0.9/wgt_flux_1/w_diffuse_1.7_1.6_1.8__1.8_1.7__1.5_1.6_1.7_1.8/option_compute_ktable_0/option_compute_btable_0/crd_a22ab94/results.ipynb\">saw</a> <a href=\"http://nbviewer.jupyter.org/github/qap/analysis_-_new_kdist_param/blob/master/lblnew/co2/conc_0.0004/band03c_wn_720_800/nv_1000/dv_0.001/ng_9/g_ascending_k_descending/refPTs_P_1_T_250__P_10_T_250__P_500_T_250/ng_refs_3__2__4/ng_adju_0__0__0/getabsth_auto__auto__auto/absth_dlogN_uniform__dlogN_uniform__dlogN_uniform/klin_6.375563e-24/atmpro_trp/wgt_k_1/wgt_0.6_0.4_0.7__0.7_0.4__0.3_0.4_0.85_0.9/wgt_flux_1/w_diffuse_1.7_1.6_1.8__1.8_1.7__1.5_1.6_1.7_1.8/option_compute_ktable_0/option_compute_btable_0/crd_a22ab94/results.ipynb\">trp</a></td>\n",
       "      <td><a href=\"http://nbviewer.jupyter.org/github/qap/analysis_-_new_kdist_param/blob/master/lblnew/co2/conc_0.0004/band04_wn_800_980/nv_1000/dv_0.001/ng_3/g_ascending_k_descending/refPTs_P_1_T_250__P_500_T_250/ng_refs_1__2/ng_adju_0__0/getabsth_auto__auto/absth_dlogN_uniform__dlogN_uniform/klin_6.5e-24/atmpro_mls/wgt_k_1/wgt_0.75__0.75_0.95/wgt_flux_1/w_diffuse_1.75__1.66_1.9/option_compute_ktable_0/option_compute_btable_0/crd_a22ab94/results.ipynb\">mls</a> <a href=\"http://nbviewer.jupyter.org/github/qap/analysis_-_new_kdist_param/blob/master/lblnew/co2/conc_0.0004/band04_wn_800_980/nv_1000/dv_0.001/ng_3/g_ascending_k_descending/refPTs_P_1_T_250__P_500_T_250/ng_refs_1__2/ng_adju_0__0/getabsth_auto__auto/absth_dlogN_uniform__dlogN_uniform/klin_6.5e-24/atmpro_saw/wgt_k_1/wgt_0.75__0.75_0.95/wgt_flux_1/w_diffuse_1.75__1.66_1.9/option_compute_ktable_0/option_compute_btable_0/crd_a22ab94/results.ipynb\">saw</a> <a href=\"http://nbviewer.jupyter.org/github/qap/analysis_-_new_kdist_param/blob/master/lblnew/co2/conc_0.0004/band04_wn_800_980/nv_1000/dv_0.001/ng_3/g_ascending_k_descending/refPTs_P_1_T_250__P_500_T_250/ng_refs_1__2/ng_adju_0__0/getabsth_auto__auto/absth_dlogN_uniform__dlogN_uniform/klin_6.5e-24/atmpro_trp/wgt_k_1/wgt_0.75__0.75_0.95/wgt_flux_1/w_diffuse_1.75__1.66_1.9/option_compute_ktable_0/option_compute_btable_0/crd_a22ab94/results.ipynb\">trp</a></td>\n",
       "      <td><a href=\"http://nbviewer.jupyter.org/github/qap/analysis_-_new_kdist_param/blob/master/lblnew/co2/conc_0.0004/band05_wn_980_1100/nv_1000/dv_0.001/ng_3/g_ascending_k_descending/refPTs_P_1_T_250__P_500_T_250/ng_refs_1__2/ng_adju_0__0/getabsth_auto__auto/absth_dlogN_uniform__dlogN_uniform/klin_6.5e-24/atmpro_mls/wgt_k_1/wgt_0.75__0.75_0.95/wgt_flux_1/w_diffuse_1.75__1.66_1.9/option_compute_ktable_0/option_compute_btable_0/crd_a22ab94/results.ipynb\">mls</a> <a href=\"http://nbviewer.jupyter.org/github/qap/analysis_-_new_kdist_param/blob/master/lblnew/co2/conc_0.0004/band05_wn_980_1100/nv_1000/dv_0.001/ng_3/g_ascending_k_descending/refPTs_P_1_T_250__P_500_T_250/ng_refs_1__2/ng_adju_0__0/getabsth_auto__auto/absth_dlogN_uniform__dlogN_uniform/klin_6.5e-24/atmpro_saw/wgt_k_1/wgt_0.75__0.75_0.95/wgt_flux_1/w_diffuse_1.75__1.66_1.9/option_compute_ktable_0/option_compute_btable_0/crd_a22ab94/results.ipynb\">saw</a> <a href=\"http://nbviewer.jupyter.org/github/qap/analysis_-_new_kdist_param/blob/master/lblnew/co2/conc_0.0004/band05_wn_980_1100/nv_1000/dv_0.001/ng_3/g_ascending_k_descending/refPTs_P_1_T_250__P_500_T_250/ng_refs_1__2/ng_adju_0__0/getabsth_auto__auto/absth_dlogN_uniform__dlogN_uniform/klin_6.5e-24/atmpro_trp/wgt_k_1/wgt_0.75__0.75_0.95/wgt_flux_1/w_diffuse_1.75__1.66_1.9/option_compute_ktable_0/option_compute_btable_0/crd_a22ab94/results.ipynb\">trp</a></td>\n",
       "      <td></td>\n",
       "      <td></td>\n",
       "      <td></td>\n",
       "      <td><a href=\"http://nbviewer.jupyter.org/github/qap/analysis_-_new_kdist_param/blob/master/lblnew/co2/conc_0.0004/band09_wn_1900_3000/nv_1000/dv_0.001/ng_6/g_ascending_k_descending/refPTs_P_1_T_250__P_50_T_250/ng_refs_3__3/ng_adju_0__0/getabsth_auto__auto/absth_dlogN_uniform__dlogN_uniform/klin_6.5e-24/atmpro_mls/wgt_k_1/wgt_0.7_0.8_0.7__0.8_0.7_0.8/wgt_flux_1/w_diffuse_1.66_1.66_1.75__1.75_1.6_1.85/option_compute_ktable_0/option_compute_btable_0/crd_a22ab94/results.ipynb\">mls</a> <a href=\"http://nbviewer.jupyter.org/github/qap/analysis_-_new_kdist_param/blob/master/lblnew/co2/conc_0.0004/band09_wn_1900_3000/nv_1000/dv_0.001/ng_6/g_ascending_k_descending/refPTs_P_1_T_250__P_50_T_250/ng_refs_3__3/ng_adju_0__0/getabsth_auto__auto/absth_dlogN_uniform__dlogN_uniform/klin_6.5e-24/atmpro_saw/wgt_k_1/wgt_0.7_0.8_0.7__0.8_0.7_0.8/wgt_flux_1/w_diffuse_1.66_1.66_1.75__1.75_1.6_1.85/option_compute_ktable_0/option_compute_btable_0/crd_a22ab94/results.ipynb\">saw</a> <a href=\"http://nbviewer.jupyter.org/github/qap/analysis_-_new_kdist_param/blob/master/lblnew/co2/conc_0.0004/band09_wn_1900_3000/nv_1000/dv_0.001/ng_6/g_ascending_k_descending/refPTs_P_1_T_250__P_50_T_250/ng_refs_3__3/ng_adju_0__0/getabsth_auto__auto/absth_dlogN_uniform__dlogN_uniform/klin_6.5e-24/atmpro_trp/wgt_k_1/wgt_0.7_0.8_0.7__0.8_0.7_0.8/wgt_flux_1/w_diffuse_1.66_1.66_1.75__1.75_1.6_1.85/option_compute_ktable_0/option_compute_btable_0/crd_a22ab94/results.ipynb\">trp</a></td>\n",
       "    </tr>\n",
       "    <tr>\n",
       "      <th>n2o</th>\n",
       "      <td></td>\n",
       "      <td></td>\n",
       "      <td><a href=\"http://nbviewer.jupyter.org/github/qap/analysis_-_new_kdist_param/blob/master/lblnew/n2o/conc_3.2e-07/band03a_wn_540_620/nv_1000/dv_0.001/ng_3/g_ascending_k_descending/refPTs_P_1_T_250__P_500_T_250/ng_refs_1__2/ng_adju_0__0/getabsth_auto__auto/absth_dlogN_uniform__dlogN_uniform/klin_2.22e-20/atmpro_mls/wgt_k_1/wgt_0.9__0.5_0.95/wgt_flux_1/w_diffuse_1.8__1.66_1.8/option_compute_ktable_0/option_compute_btable_0/crd_5014a19/results.ipynb\">mls</a> <a href=\"http://nbviewer.jupyter.org/github/qap/analysis_-_new_kdist_param/blob/master/lblnew/n2o/conc_3.2e-07/band03a_wn_540_620/nv_1000/dv_0.001/ng_3/g_ascending_k_descending/refPTs_P_1_T_250__P_500_T_250/ng_refs_1__2/ng_adju_0__0/getabsth_auto__auto/absth_dlogN_uniform__dlogN_uniform/klin_2.22e-20/atmpro_saw/wgt_k_1/wgt_0.9__0.5_0.95/wgt_flux_1/w_diffuse_1.8__1.66_1.8/option_compute_ktable_0/option_compute_btable_0/crd_5014a19/results.ipynb\">saw</a> <a href=\"http://nbviewer.jupyter.org/github/qap/analysis_-_new_kdist_param/blob/master/lblnew/n2o/conc_3.2e-07/band03a_wn_540_620/nv_1000/dv_0.001/ng_3/g_ascending_k_descending/refPTs_P_1_T_250__P_500_T_250/ng_refs_1__2/ng_adju_0__0/getabsth_auto__auto/absth_dlogN_uniform__dlogN_uniform/klin_2.22e-20/atmpro_trp/wgt_k_1/wgt_0.9__0.5_0.95/wgt_flux_1/w_diffuse_1.8__1.66_1.8/option_compute_ktable_0/option_compute_btable_0/crd_5014a19/results.ipynb\">trp</a></td>\n",
       "      <td></td>\n",
       "      <td></td>\n",
       "      <td></td>\n",
       "      <td></td>\n",
       "      <td></td>\n",
       "      <td><a href=\"http://nbviewer.jupyter.org/github/qap/analysis_-_new_kdist_param/blob/master/lblnew/n2o/conc_3.2e-07/band07_wn_1215_1380/nv_1000/dv_0.001/ng_4/g_ascending_k_descending/refPTs_P_1_T_250__P_500_T_250/ng_refs_2__2/ng_adju_0__0/getabsth_auto__auto/absth_dlogN_uniform__dlogN_uniform/klin_2.22e-20/atmpro_mls/wgt_k_1/wgt_0.6_0.5__0.6_0.9/wgt_flux_1/w_diffuse_1.8_1.66__1.6_1.8/option_compute_ktable_0/option_compute_btable_0/crd_5014a19/results.ipynb\">mls</a> <a href=\"http://nbviewer.jupyter.org/github/qap/analysis_-_new_kdist_param/blob/master/lblnew/n2o/conc_3.2e-07/band07_wn_1215_1380/nv_1000/dv_0.001/ng_4/g_ascending_k_descending/refPTs_P_1_T_250__P_500_T_250/ng_refs_2__2/ng_adju_0__0/getabsth_auto__auto/absth_dlogN_uniform__dlogN_uniform/klin_2.22e-20/atmpro_saw/wgt_k_1/wgt_0.6_0.5__0.6_0.9/wgt_flux_1/w_diffuse_1.8_1.66__1.6_1.8/option_compute_ktable_0/option_compute_btable_0/crd_5014a19/results.ipynb\">saw</a> <a href=\"http://nbviewer.jupyter.org/github/qap/analysis_-_new_kdist_param/blob/master/lblnew/n2o/conc_3.2e-07/band07_wn_1215_1380/nv_1000/dv_0.001/ng_4/g_ascending_k_descending/refPTs_P_1_T_250__P_500_T_250/ng_refs_2__2/ng_adju_0__0/getabsth_auto__auto/absth_dlogN_uniform__dlogN_uniform/klin_2.22e-20/atmpro_trp/wgt_k_1/wgt_0.6_0.5__0.6_0.9/wgt_flux_1/w_diffuse_1.8_1.66__1.6_1.8/option_compute_ktable_0/option_compute_btable_0/crd_5014a19/results.ipynb\">trp</a></td>\n",
       "      <td></td>\n",
       "      <td></td>\n",
       "    </tr>\n",
       "    <tr>\n",
       "      <th>o3</th>\n",
       "      <td></td>\n",
       "      <td></td>\n",
       "      <td></td>\n",
       "      <td></td>\n",
       "      <td></td>\n",
       "      <td></td>\n",
       "      <td><a href=\"http://nbviewer.jupyter.org/github/qap/analysis_-_new_kdist_param/blob/master/lblnew/o3/conc_None/band05_wn_980_1100/nv_1000/dv_0.001/ng_7/g_ascending_k_descending/refPTs_P_1_T_250__P_50_T_250/ng_refs_2__5/ng_adju_0__0/getabsth_auto__auto/absth_dlogN_uniform__dlogN_uniform/klin_2e-20/atmpro_mls/wgt_k_1/wgt_0.35_0.6__0.5_0.55_0.7_0.9_1.0/wgt_flux_1/w_diffuse_1.6_1.75__1.55_1.66_1.7_1.75_1.8/option_compute_ktable_1/option_compute_btable_0/crd_a06b618/results.ipynb\">mls</a> <a href=\"http://nbviewer.jupyter.org/github/qap/analysis_-_new_kdist_param/blob/master/lblnew/o3/conc_None/band05_wn_980_1100/nv_1000/dv_0.001/ng_7/g_ascending_k_descending/refPTs_P_1_T_250__P_50_T_250/ng_refs_2__5/ng_adju_0__0/getabsth_auto__auto/absth_dlogN_uniform__dlogN_uniform/klin_2e-20/atmpro_saw/wgt_k_1/wgt_0.35_0.6__0.5_0.55_0.7_0.9_1.0/wgt_flux_1/w_diffuse_1.6_1.75__1.55_1.66_1.7_1.75_1.8/option_compute_ktable_0/option_compute_btable_0/crd_5014a19/results.ipynb\">saw</a> <a href=\"http://nbviewer.jupyter.org/github/qap/analysis_-_new_kdist_param/blob/master/lblnew/o3/conc_None/band05_wn_980_1100/nv_1000/dv_0.001/ng_7/g_ascending_k_descending/refPTs_P_1_T_250__P_50_T_250/ng_refs_2__5/ng_adju_0__0/getabsth_auto__auto/absth_dlogN_uniform__dlogN_uniform/klin_2e-20/atmpro_trp/wgt_k_1/wgt_0.35_0.6__0.5_0.55_0.7_0.9_1.0/wgt_flux_1/w_diffuse_1.6_1.75__1.55_1.66_1.7_1.75_1.8/option_compute_ktable_0/option_compute_btable_0/crd_5014a19/results.ipynb\">trp</a></td>\n",
       "      <td></td>\n",
       "      <td></td>\n",
       "      <td></td>\n",
       "      <td></td>\n",
       "    </tr>\n",
       "    <tr>\n",
       "      <th>ch4</th>\n",
       "      <td></td>\n",
       "      <td></td>\n",
       "      <td></td>\n",
       "      <td></td>\n",
       "      <td></td>\n",
       "      <td></td>\n",
       "      <td></td>\n",
       "      <td></td>\n",
       "      <td><a href=\"http://nbviewer.jupyter.org/github/qap/analysis_-_new_kdist_param/blob/master/lblnew/ch4/conc_1.8e-06/band07_wn_1215_1380/nv_1000/dv_0.001/ng_5/g_ascending_k_descending/refPTs_P_1_T_250__P_500_T_250/ng_refs_2__3/ng_adju_0__0/getabsth_auto__auto/absth_dlogN_uniform__dlogN_uniform/klin_2e-21/atmpro_mls/wgt_k_1/wgt_0.7_0.7__0.4_0.6_0.75/wgt_flux_1/w_diffuse_1.66_1.66__1.66_1.66_1.66/option_compute_ktable_0/option_compute_btable_0/crd_5014a19/results.ipynb\">mls</a> <a href=\"http://nbviewer.jupyter.org/github/qap/analysis_-_new_kdist_param/blob/master/lblnew/ch4/conc_1.8e-06/band07_wn_1215_1380/nv_1000/dv_0.001/ng_5/g_ascending_k_descending/refPTs_P_1_T_250__P_500_T_250/ng_refs_2__3/ng_adju_0__0/getabsth_auto__auto/absth_dlogN_uniform__dlogN_uniform/klin_2e-21/atmpro_saw/wgt_k_1/wgt_0.7_0.7__0.4_0.6_0.75/wgt_flux_1/w_diffuse_1.66_1.66__1.66_1.66_1.66/option_compute_ktable_0/option_compute_btable_0/crd_5014a19/results.ipynb\">saw</a> <a href=\"http://nbviewer.jupyter.org/github/qap/analysis_-_new_kdist_param/blob/master/lblnew/ch4/conc_1.8e-06/band07_wn_1215_1380/nv_1000/dv_0.001/ng_5/g_ascending_k_descending/refPTs_P_1_T_250__P_500_T_250/ng_refs_2__3/ng_adju_0__0/getabsth_auto__auto/absth_dlogN_uniform__dlogN_uniform/klin_2e-21/atmpro_trp/wgt_k_1/wgt_0.7_0.7__0.4_0.6_0.75/wgt_flux_1/w_diffuse_1.66_1.66__1.66_1.66_1.66/option_compute_ktable_0/option_compute_btable_0/crd_5014a19/results.ipynb\">trp</a></td>\n",
       "      <td></td>\n",
       "      <td></td>\n",
       "    </tr>\n",
       "  </tbody>\n",
       "</table>"
      ],
      "text/plain": [
       "<IPython.core.display.HTML object>"
      ]
     },
     "metadata": {},
     "output_type": "display_data"
    }
   ],
   "source": [
    "script()"
   ]
  },
  {
   "cell_type": "code",
   "execution_count": 131,
   "metadata": {},
   "outputs": [
    {
     "data": {
      "text/html": [
       "<script>\n",
       "code_show=true; \n",
       "function code_toggle() {\n",
       " if (code_show){\n",
       " $('div.input').hide();\n",
       " } else {\n",
       " $('div.input').show();\n",
       " }\n",
       " code_show = !code_show\n",
       "} \n",
       "$( document ).ready(code_toggle);\n",
       "</script>\n",
       "<form action=\"javascript:code_toggle()\"><input type=\"submit\" value=\"Click here to toggle on/off the raw code.\"></form>"
      ],
      "text/plain": [
       "<IPython.core.display.HTML object>"
      ]
     },
     "execution_count": 131,
     "metadata": {},
     "output_type": "execute_result"
    }
   ],
   "source": [
    "display.HTML('''<script>\n",
    "code_show=true; \n",
    "function code_toggle() {\n",
    " if (code_show){\n",
    " $('div.input').hide();\n",
    " } else {\n",
    " $('div.input').show();\n",
    " }\n",
    " code_show = !code_show\n",
    "} \n",
    "$( document ).ready(code_toggle);\n",
    "</script>\n",
    "<form action=\"javascript:code_toggle()\"><input type=\"submit\" value=\"Click here to toggle on/off the raw code.\"></form>''')"
   ]
  },
  {
   "cell_type": "code",
   "execution_count": null,
   "metadata": {
    "collapsed": true
   },
   "outputs": [],
   "source": []
  },
  {
   "cell_type": "code",
   "execution_count": null,
   "metadata": {
    "collapsed": true
   },
   "outputs": [],
   "source": []
  },
  {
   "cell_type": "code",
   "execution_count": null,
   "metadata": {
    "collapsed": true
   },
   "outputs": [],
   "source": []
  },
  {
   "cell_type": "code",
   "execution_count": null,
   "metadata": {
    "collapsed": true
   },
   "outputs": [],
   "source": []
  },
  {
   "cell_type": "code",
   "execution_count": null,
   "metadata": {
    "collapsed": true
   },
   "outputs": [],
   "source": []
  }
 ],
 "metadata": {
  "kernelspec": {
   "display_name": "Python 3",
   "language": "python",
   "name": "python3"
  },
  "language_info": {
   "codemirror_mode": {
    "name": "ipython",
    "version": 3
   },
   "file_extension": ".py",
   "mimetype": "text/x-python",
   "name": "python",
   "nbconvert_exporter": "python",
   "pygments_lexer": "ipython3",
   "version": "3.6.1"
  }
 },
 "nbformat": 4,
 "nbformat_minor": 2
}
