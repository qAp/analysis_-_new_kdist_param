{
 "cells": [
  {
   "cell_type": "markdown",
   "metadata": {},
   "source": [
    "# LW paper's tables\n",
    "\n",
    "The tables in the longwave paper are generated here.  "
   ]
  },
  {
   "cell_type": "code",
   "execution_count": 42,
   "metadata": {
    "collapsed": true
   },
   "outputs": [],
   "source": [
    "%reload_ext autoreload\n",
    "%autoreload 2\n",
    "%matplotlib inline\n",
    "\n",
    "import pymongo\n",
    "import pandas as pd\n",
    "\n",
    "from climatools.spectrum import *\n",
    "from climatools.atm import *\n",
    "from climatools.lblnew.bestfit_params import *\n",
    "\n",
    "from IPython import display"
   ]
  },
  {
   "cell_type": "code",
   "execution_count": 43,
   "metadata": {
    "collapsed": true
   },
   "outputs": [],
   "source": [
    "client = pymongo.MongoClient('localhost', 27017)"
   ]
  },
  {
   "cell_type": "code",
   "execution_count": 44,
   "metadata": {
    "collapsed": true
   },
   "outputs": [],
   "source": [
    "COMMITNUMBER = '1013f91'\n",
    "ATMPRO = {'mls':294, 'saw':257, 'trp':300}"
   ]
  },
  {
   "cell_type": "markdown",
   "metadata": {},
   "source": [
    "# Table 1"
   ]
  },
  {
   "cell_type": "code",
   "execution_count": 45,
   "metadata": {
    "collapsed": true
   },
   "outputs": [],
   "source": []
  },
  {
   "cell_type": "code",
   "execution_count": 68,
   "metadata": {},
   "outputs": [
    {
     "data": {
      "text/html": [
       "<div>\n",
       "<style scoped>\n",
       "    .dataframe tbody tr th:only-of-type {\n",
       "        vertical-align: middle;\n",
       "    }\n",
       "\n",
       "    .dataframe tbody tr th {\n",
       "        vertical-align: top;\n",
       "    }\n",
       "\n",
       "    .dataframe thead th {\n",
       "        text-align: right;\n",
       "    }\n",
       "</style>\n",
       "<table border=\"1\" class=\"dataframe\">\n",
       "  <thead>\n",
       "    <tr style=\"text-align: right;\">\n",
       "      <th></th>\n",
       "      <th>Gas</th>\n",
       "      <th>h2o</th>\n",
       "      <th>co2</th>\n",
       "      <th>o3</th>\n",
       "      <th>n2o</th>\n",
       "      <th>ch4</th>\n",
       "      <th>all</th>\n",
       "    </tr>\n",
       "    <tr>\n",
       "      <th>Spectral band</th>\n",
       "      <th>Spectral range</th>\n",
       "      <th></th>\n",
       "      <th></th>\n",
       "      <th></th>\n",
       "      <th></th>\n",
       "      <th></th>\n",
       "      <th></th>\n",
       "    </tr>\n",
       "  </thead>\n",
       "  <tbody>\n",
       "    <tr>\n",
       "      <th>1</th>\n",
       "      <th>0 - 340 cm-1</th>\n",
       "      <td>12.0</td>\n",
       "      <td>-</td>\n",
       "      <td>-</td>\n",
       "      <td>-</td>\n",
       "      <td>-</td>\n",
       "      <td>12.0</td>\n",
       "    </tr>\n",
       "    <tr>\n",
       "      <th>2</th>\n",
       "      <th>340 - 540 cm-1</th>\n",
       "      <td>11.0</td>\n",
       "      <td>-</td>\n",
       "      <td>-</td>\n",
       "      <td>-</td>\n",
       "      <td>-</td>\n",
       "      <td>11.0</td>\n",
       "    </tr>\n",
       "    <tr>\n",
       "      <th>3</th>\n",
       "      <th>540 - 620 cm-1</th>\n",
       "      <td>8.0</td>\n",
       "      <td>9</td>\n",
       "      <td>-</td>\n",
       "      <td>3</td>\n",
       "      <td>-</td>\n",
       "      <td>20.0</td>\n",
       "    </tr>\n",
       "    <tr>\n",
       "      <th>4</th>\n",
       "      <th>620 - 720 cm-1</th>\n",
       "      <td>6.0</td>\n",
       "      <td>9</td>\n",
       "      <td>-</td>\n",
       "      <td>-</td>\n",
       "      <td>-</td>\n",
       "      <td>15.0</td>\n",
       "    </tr>\n",
       "    <tr>\n",
       "      <th>5</th>\n",
       "      <th>720 - 800 cm-1</th>\n",
       "      <td>5.0</td>\n",
       "      <td>9</td>\n",
       "      <td>-</td>\n",
       "      <td>-</td>\n",
       "      <td>-</td>\n",
       "      <td>14.0</td>\n",
       "    </tr>\n",
       "    <tr>\n",
       "      <th>6</th>\n",
       "      <th>800 - 980 cm-1</th>\n",
       "      <td>3.0</td>\n",
       "      <td>3</td>\n",
       "      <td>-</td>\n",
       "      <td>-</td>\n",
       "      <td>-</td>\n",
       "      <td>6.0</td>\n",
       "    </tr>\n",
       "    <tr>\n",
       "      <th>7</th>\n",
       "      <th>980 - 1100 cm-1</th>\n",
       "      <td>3.0</td>\n",
       "      <td>3</td>\n",
       "      <td>7</td>\n",
       "      <td>-</td>\n",
       "      <td>-</td>\n",
       "      <td>13.0</td>\n",
       "    </tr>\n",
       "    <tr>\n",
       "      <th>8</th>\n",
       "      <th>1100 - 1215 cm-1</th>\n",
       "      <td>4.0</td>\n",
       "      <td>-</td>\n",
       "      <td>-</td>\n",
       "      <td>-</td>\n",
       "      <td>-</td>\n",
       "      <td>4.0</td>\n",
       "    </tr>\n",
       "    <tr>\n",
       "      <th>9</th>\n",
       "      <th>1215 - 1380 cm-1</th>\n",
       "      <td>7.0</td>\n",
       "      <td>-</td>\n",
       "      <td>-</td>\n",
       "      <td>4</td>\n",
       "      <td>5</td>\n",
       "      <td>16.0</td>\n",
       "    </tr>\n",
       "    <tr>\n",
       "      <th>10</th>\n",
       "      <th>1380 - 1900 cm-1</th>\n",
       "      <td>8.0</td>\n",
       "      <td>-</td>\n",
       "      <td>-</td>\n",
       "      <td>-</td>\n",
       "      <td>-</td>\n",
       "      <td>8.0</td>\n",
       "    </tr>\n",
       "    <tr>\n",
       "      <th>11</th>\n",
       "      <th>1900 - 3000 cm-1</th>\n",
       "      <td>5.0</td>\n",
       "      <td>6</td>\n",
       "      <td>-</td>\n",
       "      <td>-</td>\n",
       "      <td>-</td>\n",
       "      <td>11.0</td>\n",
       "    </tr>\n",
       "    <tr>\n",
       "      <th>all</th>\n",
       "      <th>0 - 3000 cm-1</th>\n",
       "      <td>72.0</td>\n",
       "      <td>39</td>\n",
       "      <td>7</td>\n",
       "      <td>7</td>\n",
       "      <td>5</td>\n",
       "      <td>130.0</td>\n",
       "    </tr>\n",
       "  </tbody>\n",
       "</table>\n",
       "</div>"
      ],
      "text/plain": [
       "Gas                              h2o co2 o3 n2o ch4    all\n",
       "Spectral band Spectral range                              \n",
       "1             0 - 340 cm-1      12.0   -  -   -   -   12.0\n",
       "2             340 - 540 cm-1    11.0   -  -   -   -   11.0\n",
       "3             540 - 620 cm-1     8.0   9  -   3   -   20.0\n",
       "4             620 - 720 cm-1     6.0   9  -   -   -   15.0\n",
       "5             720 - 800 cm-1     5.0   9  -   -   -   14.0\n",
       "6             800 - 980 cm-1     3.0   3  -   -   -    6.0\n",
       "7             980 - 1100 cm-1    3.0   3  7   -   -   13.0\n",
       "8             1100 - 1215 cm-1   4.0   -  -   -   -    4.0\n",
       "9             1215 - 1380 cm-1   7.0   -  -   4   5   16.0\n",
       "10            1380 - 1900 cm-1   8.0   -  -   -   -    8.0\n",
       "11            1900 - 3000 cm-1   5.0   6  -   -   -   11.0\n",
       "all           0 - 3000 cm-1     72.0  39  7   7   5  130.0"
      ]
     },
     "execution_count": 68,
     "metadata": {},
     "output_type": "execute_result"
    }
   ],
   "source": [
    "atmcomp = AtmComposition.cliradlw_nongreys()\n",
    "bands = atmcomp.gasinbands.keys()\n",
    "df = pd.DataFrame(index=bands, columns=atmcomp.gasconcs.keys())\n",
    "df.index.name, df.columns.name = 'Spectral band', 'Gas'\n",
    "for band, gs in atmcomp.gasinbands.items():\n",
    "    for g in gs:\n",
    "        p = kdist_params(band=mapband_new2old()[band], molecule=g)\n",
    "        df.loc[band, g] = sum(p['ng_refs'])\n",
    "df['all'] = df.sum(axis=1)\n",
    "df.loc['all', :] = df.sum(axis=0)\n",
    "lims = [wavenumber_bands(region='lw')[mapband_new2old()[b]][0] for b in bands]\n",
    "strs = [f'{low} - {high} cm-1' for low, high in lims]\n",
    "strs.append(f'{lims[0][0]} - {lims[-1][-1]} cm-1')\n",
    "df['Spectral range'] = strs\n",
    "df.set_index('Spectral range', inplace=True, append=True)\n",
    "df.fillna('-', inplace=True)\n",
    "df"
   ]
  },
  {
   "cell_type": "code",
   "execution_count": null,
   "metadata": {
    "collapsed": true
   },
   "outputs": [],
   "source": []
  },
  {
   "cell_type": "code",
   "execution_count": null,
   "metadata": {
    "collapsed": true
   },
   "outputs": [],
   "source": []
  },
  {
   "cell_type": "code",
   "execution_count": null,
   "metadata": {
    "collapsed": true
   },
   "outputs": [],
   "source": []
  }
 ],
 "metadata": {
  "kernelspec": {
   "display_name": "Python 3",
   "language": "python",
   "name": "python3"
  },
  "language_info": {
   "codemirror_mode": {
    "name": "ipython",
    "version": 3
   },
   "file_extension": ".py",
   "mimetype": "text/x-python",
   "name": "python",
   "nbconvert_exporter": "python",
   "pygments_lexer": "ipython3",
   "version": "3.6.7"
  }
 },
 "nbformat": 4,
 "nbformat_minor": 2
}
