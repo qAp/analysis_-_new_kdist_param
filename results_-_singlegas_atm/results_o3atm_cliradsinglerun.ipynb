{
 "cells": [
  {
   "cell_type": "code",
   "execution_count": 29,
   "metadata": {
    "collapsed": true
   },
   "outputs": [],
   "source": [
    "%reload_ext autoreload\n",
    "%autoreload 2\n",
    "\n",
    "import os\n",
    "import pprint\n",
    "\n",
    "import pymongo\n",
    "\n",
    "from bokeh.io import output_notebook, show\n",
    "from bokeh.layouts import gridplot\n",
    "from bokeh.plotting import figure\n",
    "from bokeh.models import ColumnDataSource\n",
    "from bokeh.palettes import all_palettes\n",
    "\n",
    "from climatools.atm import *\n",
    "from climatools.dataset import *\n",
    "from climatools.spectrum import *\n",
    "from climatools.html.html import *\n",
    "from climatools.plot.plot import *\n",
    "from climatools.lblnew.bestfit_params import *\n",
    "\n",
    "from IPython import display"
   ]
  },
  {
   "cell_type": "code",
   "execution_count": 30,
   "metadata": {
    "scrolled": true
   },
   "outputs": [
    {
     "data": {
      "text/html": [
       "\n",
       "    <div class=\"bk-root\">\n",
       "        <a href=\"https://bokeh.pydata.org\" target=\"_blank\" class=\"bk-logo bk-logo-small bk-logo-notebook\"></a>\n",
       "        <span id=\"75c7b18a-8544-4301-b002-d0181f6e6103\">Loading BokehJS ...</span>\n",
       "    </div>"
      ]
     },
     "metadata": {},
     "output_type": "display_data"
    },
    {
     "data": {
      "application/javascript": [
       "\n",
       "(function(root) {\n",
       "  function now() {\n",
       "    return new Date();\n",
       "  }\n",
       "\n",
       "  var force = true;\n",
       "\n",
       "  if (typeof (root._bokeh_onload_callbacks) === \"undefined\" || force === true) {\n",
       "    root._bokeh_onload_callbacks = [];\n",
       "    root._bokeh_is_loading = undefined;\n",
       "  }\n",
       "\n",
       "  var JS_MIME_TYPE = 'application/javascript';\n",
       "  var HTML_MIME_TYPE = 'text/html';\n",
       "  var EXEC_MIME_TYPE = 'application/vnd.bokehjs_exec.v0+json';\n",
       "  var CLASS_NAME = 'output_bokeh rendered_html';\n",
       "\n",
       "  /**\n",
       "   * Render data to the DOM node\n",
       "   */\n",
       "  function render(props, node) {\n",
       "    var script = document.createElement(\"script\");\n",
       "    node.appendChild(script);\n",
       "  }\n",
       "\n",
       "  /**\n",
       "   * Handle when an output is cleared or removed\n",
       "   */\n",
       "  function handleClearOutput(event, handle) {\n",
       "    var cell = handle.cell;\n",
       "\n",
       "    var id = cell.output_area._bokeh_element_id;\n",
       "    var server_id = cell.output_area._bokeh_server_id;\n",
       "    // Clean up Bokeh references\n",
       "    if (id !== undefined) {\n",
       "      Bokeh.index[id].model.document.clear();\n",
       "      delete Bokeh.index[id];\n",
       "    }\n",
       "\n",
       "    if (server_id !== undefined) {\n",
       "      // Clean up Bokeh references\n",
       "      var cmd = \"from bokeh.io.state import curstate; print(curstate().uuid_to_server['\" + server_id + \"'].get_sessions()[0].document.roots[0]._id)\";\n",
       "      cell.notebook.kernel.execute(cmd, {\n",
       "        iopub: {\n",
       "          output: function(msg) {\n",
       "            var element_id = msg.content.text.trim();\n",
       "            Bokeh.index[element_id].model.document.clear();\n",
       "            delete Bokeh.index[element_id];\n",
       "          }\n",
       "        }\n",
       "      });\n",
       "      // Destroy server and session\n",
       "      var cmd = \"import bokeh.io.notebook as ion; ion.destroy_server('\" + server_id + \"')\";\n",
       "      cell.notebook.kernel.execute(cmd);\n",
       "    }\n",
       "  }\n",
       "\n",
       "  /**\n",
       "   * Handle when a new output is added\n",
       "   */\n",
       "  function handleAddOutput(event, handle) {\n",
       "    var output_area = handle.output_area;\n",
       "    var output = handle.output;\n",
       "\n",
       "    // limit handleAddOutput to display_data with EXEC_MIME_TYPE content only\n",
       "    if ((output.output_type != \"display_data\") || (!output.data.hasOwnProperty(EXEC_MIME_TYPE))) {\n",
       "      return\n",
       "    }\n",
       "\n",
       "    var toinsert = output_area.element.find(\".\" + CLASS_NAME.split(' ')[0]);\n",
       "\n",
       "    if (output.metadata[EXEC_MIME_TYPE][\"id\"] !== undefined) {\n",
       "      toinsert[toinsert.length - 1].firstChild.textContent = output.data[JS_MIME_TYPE];\n",
       "      // store reference to embed id on output_area\n",
       "      output_area._bokeh_element_id = output.metadata[EXEC_MIME_TYPE][\"id\"];\n",
       "    }\n",
       "    if (output.metadata[EXEC_MIME_TYPE][\"server_id\"] !== undefined) {\n",
       "      var bk_div = document.createElement(\"div\");\n",
       "      bk_div.innerHTML = output.data[HTML_MIME_TYPE];\n",
       "      var script_attrs = bk_div.children[0].attributes;\n",
       "      for (var i = 0; i < script_attrs.length; i++) {\n",
       "        toinsert[toinsert.length - 1].firstChild.setAttribute(script_attrs[i].name, script_attrs[i].value);\n",
       "      }\n",
       "      // store reference to server id on output_area\n",
       "      output_area._bokeh_server_id = output.metadata[EXEC_MIME_TYPE][\"server_id\"];\n",
       "    }\n",
       "  }\n",
       "\n",
       "  function register_renderer(events, OutputArea) {\n",
       "\n",
       "    function append_mime(data, metadata, element) {\n",
       "      // create a DOM node to render to\n",
       "      var toinsert = this.create_output_subarea(\n",
       "        metadata,\n",
       "        CLASS_NAME,\n",
       "        EXEC_MIME_TYPE\n",
       "      );\n",
       "      this.keyboard_manager.register_events(toinsert);\n",
       "      // Render to node\n",
       "      var props = {data: data, metadata: metadata[EXEC_MIME_TYPE]};\n",
       "      render(props, toinsert[toinsert.length - 1]);\n",
       "      element.append(toinsert);\n",
       "      return toinsert\n",
       "    }\n",
       "\n",
       "    /* Handle when an output is cleared or removed */\n",
       "    events.on('clear_output.CodeCell', handleClearOutput);\n",
       "    events.on('delete.Cell', handleClearOutput);\n",
       "\n",
       "    /* Handle when a new output is added */\n",
       "    events.on('output_added.OutputArea', handleAddOutput);\n",
       "\n",
       "    /**\n",
       "     * Register the mime type and append_mime function with output_area\n",
       "     */\n",
       "    OutputArea.prototype.register_mime_type(EXEC_MIME_TYPE, append_mime, {\n",
       "      /* Is output safe? */\n",
       "      safe: true,\n",
       "      /* Index of renderer in `output_area.display_order` */\n",
       "      index: 0\n",
       "    });\n",
       "  }\n",
       "\n",
       "  // register the mime type if in Jupyter Notebook environment and previously unregistered\n",
       "  if (root.Jupyter !== undefined) {\n",
       "    var events = require('base/js/events');\n",
       "    var OutputArea = require('notebook/js/outputarea').OutputArea;\n",
       "\n",
       "    if (OutputArea.prototype.mime_types().indexOf(EXEC_MIME_TYPE) == -1) {\n",
       "      register_renderer(events, OutputArea);\n",
       "    }\n",
       "  }\n",
       "\n",
       "  \n",
       "  if (typeof (root._bokeh_timeout) === \"undefined\" || force === true) {\n",
       "    root._bokeh_timeout = Date.now() + 5000;\n",
       "    root._bokeh_failed_load = false;\n",
       "  }\n",
       "\n",
       "  var NB_LOAD_WARNING = {'data': {'text/html':\n",
       "     \"<div style='background-color: #fdd'>\\n\"+\n",
       "     \"<p>\\n\"+\n",
       "     \"BokehJS does not appear to have successfully loaded. If loading BokehJS from CDN, this \\n\"+\n",
       "     \"may be due to a slow or bad network connection. Possible fixes:\\n\"+\n",
       "     \"</p>\\n\"+\n",
       "     \"<ul>\\n\"+\n",
       "     \"<li>re-rerun `output_notebook()` to attempt to load from CDN again, or</li>\\n\"+\n",
       "     \"<li>use INLINE resources instead, as so:</li>\\n\"+\n",
       "     \"</ul>\\n\"+\n",
       "     \"<code>\\n\"+\n",
       "     \"from bokeh.resources import INLINE\\n\"+\n",
       "     \"output_notebook(resources=INLINE)\\n\"+\n",
       "     \"</code>\\n\"+\n",
       "     \"</div>\"}};\n",
       "\n",
       "  function display_loaded() {\n",
       "    var el = document.getElementById(\"75c7b18a-8544-4301-b002-d0181f6e6103\");\n",
       "    if (el != null) {\n",
       "      el.textContent = \"BokehJS is loading...\";\n",
       "    }\n",
       "    if (root.Bokeh !== undefined) {\n",
       "      if (el != null) {\n",
       "        el.textContent = \"BokehJS \" + root.Bokeh.version + \" successfully loaded.\";\n",
       "      }\n",
       "    } else if (Date.now() < root._bokeh_timeout) {\n",
       "      setTimeout(display_loaded, 100)\n",
       "    }\n",
       "  }\n",
       "\n",
       "\n",
       "  function run_callbacks() {\n",
       "    try {\n",
       "      root._bokeh_onload_callbacks.forEach(function(callback) { callback() });\n",
       "    }\n",
       "    finally {\n",
       "      delete root._bokeh_onload_callbacks\n",
       "    }\n",
       "    console.info(\"Bokeh: all callbacks have finished\");\n",
       "  }\n",
       "\n",
       "  function load_libs(js_urls, callback) {\n",
       "    root._bokeh_onload_callbacks.push(callback);\n",
       "    if (root._bokeh_is_loading > 0) {\n",
       "      console.log(\"Bokeh: BokehJS is being loaded, scheduling callback at\", now());\n",
       "      return null;\n",
       "    }\n",
       "    if (js_urls == null || js_urls.length === 0) {\n",
       "      run_callbacks();\n",
       "      return null;\n",
       "    }\n",
       "    console.log(\"Bokeh: BokehJS not loaded, scheduling load and callback at\", now());\n",
       "    root._bokeh_is_loading = js_urls.length;\n",
       "    for (var i = 0; i < js_urls.length; i++) {\n",
       "      var url = js_urls[i];\n",
       "      var s = document.createElement('script');\n",
       "      s.src = url;\n",
       "      s.async = false;\n",
       "      s.onreadystatechange = s.onload = function() {\n",
       "        root._bokeh_is_loading--;\n",
       "        if (root._bokeh_is_loading === 0) {\n",
       "          console.log(\"Bokeh: all BokehJS libraries loaded\");\n",
       "          run_callbacks()\n",
       "        }\n",
       "      };\n",
       "      s.onerror = function() {\n",
       "        console.warn(\"failed to load library \" + url);\n",
       "      };\n",
       "      console.log(\"Bokeh: injecting script tag for BokehJS library: \", url);\n",
       "      document.getElementsByTagName(\"head\")[0].appendChild(s);\n",
       "    }\n",
       "  };var element = document.getElementById(\"75c7b18a-8544-4301-b002-d0181f6e6103\");\n",
       "  if (element == null) {\n",
       "    console.log(\"Bokeh: ERROR: autoload.js configured with elementid '75c7b18a-8544-4301-b002-d0181f6e6103' but no matching script tag was found. \")\n",
       "    return false;\n",
       "  }\n",
       "\n",
       "  var js_urls = [\"https://cdn.pydata.org/bokeh/release/bokeh-0.12.16.min.js\", \"https://cdn.pydata.org/bokeh/release/bokeh-widgets-0.12.16.min.js\", \"https://cdn.pydata.org/bokeh/release/bokeh-tables-0.12.16.min.js\", \"https://cdn.pydata.org/bokeh/release/bokeh-gl-0.12.16.min.js\"];\n",
       "\n",
       "  var inline_js = [\n",
       "    function(Bokeh) {\n",
       "      Bokeh.set_log_level(\"info\");\n",
       "    },\n",
       "    \n",
       "    function(Bokeh) {\n",
       "      \n",
       "    },\n",
       "    function(Bokeh) {\n",
       "      console.log(\"Bokeh: injecting CSS: https://cdn.pydata.org/bokeh/release/bokeh-0.12.16.min.css\");\n",
       "      Bokeh.embed.inject_css(\"https://cdn.pydata.org/bokeh/release/bokeh-0.12.16.min.css\");\n",
       "      console.log(\"Bokeh: injecting CSS: https://cdn.pydata.org/bokeh/release/bokeh-widgets-0.12.16.min.css\");\n",
       "      Bokeh.embed.inject_css(\"https://cdn.pydata.org/bokeh/release/bokeh-widgets-0.12.16.min.css\");\n",
       "      console.log(\"Bokeh: injecting CSS: https://cdn.pydata.org/bokeh/release/bokeh-tables-0.12.16.min.css\");\n",
       "      Bokeh.embed.inject_css(\"https://cdn.pydata.org/bokeh/release/bokeh-tables-0.12.16.min.css\");\n",
       "    }\n",
       "  ];\n",
       "\n",
       "  function run_inline_js() {\n",
       "    \n",
       "    if ((root.Bokeh !== undefined) || (force === true)) {\n",
       "      for (var i = 0; i < inline_js.length; i++) {\n",
       "        inline_js[i].call(root, root.Bokeh);\n",
       "      }if (force === true) {\n",
       "        display_loaded();\n",
       "      }} else if (Date.now() < root._bokeh_timeout) {\n",
       "      setTimeout(run_inline_js, 100);\n",
       "    } else if (!root._bokeh_failed_load) {\n",
       "      console.log(\"Bokeh: BokehJS failed to load within specified timeout.\");\n",
       "      root._bokeh_failed_load = true;\n",
       "    } else if (force !== true) {\n",
       "      var cell = $(document.getElementById(\"75c7b18a-8544-4301-b002-d0181f6e6103\")).parents('.cell').data().cell;\n",
       "      cell.output_area.append_execute_result(NB_LOAD_WARNING)\n",
       "    }\n",
       "\n",
       "  }\n",
       "\n",
       "  if (root._bokeh_is_loading === 0) {\n",
       "    console.log(\"Bokeh: BokehJS loaded, going straight to plotting\");\n",
       "    run_inline_js();\n",
       "  } else {\n",
       "    load_libs(js_urls, function() {\n",
       "      console.log(\"Bokeh: BokehJS plotting callback run at\", now());\n",
       "      run_inline_js();\n",
       "    });\n",
       "  }\n",
       "}(window));"
      ],
      "application/vnd.bokehjs_load.v0+json": "\n(function(root) {\n  function now() {\n    return new Date();\n  }\n\n  var force = true;\n\n  if (typeof (root._bokeh_onload_callbacks) === \"undefined\" || force === true) {\n    root._bokeh_onload_callbacks = [];\n    root._bokeh_is_loading = undefined;\n  }\n\n  \n\n  \n  if (typeof (root._bokeh_timeout) === \"undefined\" || force === true) {\n    root._bokeh_timeout = Date.now() + 5000;\n    root._bokeh_failed_load = false;\n  }\n\n  var NB_LOAD_WARNING = {'data': {'text/html':\n     \"<div style='background-color: #fdd'>\\n\"+\n     \"<p>\\n\"+\n     \"BokehJS does not appear to have successfully loaded. If loading BokehJS from CDN, this \\n\"+\n     \"may be due to a slow or bad network connection. Possible fixes:\\n\"+\n     \"</p>\\n\"+\n     \"<ul>\\n\"+\n     \"<li>re-rerun `output_notebook()` to attempt to load from CDN again, or</li>\\n\"+\n     \"<li>use INLINE resources instead, as so:</li>\\n\"+\n     \"</ul>\\n\"+\n     \"<code>\\n\"+\n     \"from bokeh.resources import INLINE\\n\"+\n     \"output_notebook(resources=INLINE)\\n\"+\n     \"</code>\\n\"+\n     \"</div>\"}};\n\n  function display_loaded() {\n    var el = document.getElementById(\"75c7b18a-8544-4301-b002-d0181f6e6103\");\n    if (el != null) {\n      el.textContent = \"BokehJS is loading...\";\n    }\n    if (root.Bokeh !== undefined) {\n      if (el != null) {\n        el.textContent = \"BokehJS \" + root.Bokeh.version + \" successfully loaded.\";\n      }\n    } else if (Date.now() < root._bokeh_timeout) {\n      setTimeout(display_loaded, 100)\n    }\n  }\n\n\n  function run_callbacks() {\n    try {\n      root._bokeh_onload_callbacks.forEach(function(callback) { callback() });\n    }\n    finally {\n      delete root._bokeh_onload_callbacks\n    }\n    console.info(\"Bokeh: all callbacks have finished\");\n  }\n\n  function load_libs(js_urls, callback) {\n    root._bokeh_onload_callbacks.push(callback);\n    if (root._bokeh_is_loading > 0) {\n      console.log(\"Bokeh: BokehJS is being loaded, scheduling callback at\", now());\n      return null;\n    }\n    if (js_urls == null || js_urls.length === 0) {\n      run_callbacks();\n      return null;\n    }\n    console.log(\"Bokeh: BokehJS not loaded, scheduling load and callback at\", now());\n    root._bokeh_is_loading = js_urls.length;\n    for (var i = 0; i < js_urls.length; i++) {\n      var url = js_urls[i];\n      var s = document.createElement('script');\n      s.src = url;\n      s.async = false;\n      s.onreadystatechange = s.onload = function() {\n        root._bokeh_is_loading--;\n        if (root._bokeh_is_loading === 0) {\n          console.log(\"Bokeh: all BokehJS libraries loaded\");\n          run_callbacks()\n        }\n      };\n      s.onerror = function() {\n        console.warn(\"failed to load library \" + url);\n      };\n      console.log(\"Bokeh: injecting script tag for BokehJS library: \", url);\n      document.getElementsByTagName(\"head\")[0].appendChild(s);\n    }\n  };var element = document.getElementById(\"75c7b18a-8544-4301-b002-d0181f6e6103\");\n  if (element == null) {\n    console.log(\"Bokeh: ERROR: autoload.js configured with elementid '75c7b18a-8544-4301-b002-d0181f6e6103' but no matching script tag was found. \")\n    return false;\n  }\n\n  var js_urls = [\"https://cdn.pydata.org/bokeh/release/bokeh-0.12.16.min.js\", \"https://cdn.pydata.org/bokeh/release/bokeh-widgets-0.12.16.min.js\", \"https://cdn.pydata.org/bokeh/release/bokeh-tables-0.12.16.min.js\", \"https://cdn.pydata.org/bokeh/release/bokeh-gl-0.12.16.min.js\"];\n\n  var inline_js = [\n    function(Bokeh) {\n      Bokeh.set_log_level(\"info\");\n    },\n    \n    function(Bokeh) {\n      \n    },\n    function(Bokeh) {\n      console.log(\"Bokeh: injecting CSS: https://cdn.pydata.org/bokeh/release/bokeh-0.12.16.min.css\");\n      Bokeh.embed.inject_css(\"https://cdn.pydata.org/bokeh/release/bokeh-0.12.16.min.css\");\n      console.log(\"Bokeh: injecting CSS: https://cdn.pydata.org/bokeh/release/bokeh-widgets-0.12.16.min.css\");\n      Bokeh.embed.inject_css(\"https://cdn.pydata.org/bokeh/release/bokeh-widgets-0.12.16.min.css\");\n      console.log(\"Bokeh: injecting CSS: https://cdn.pydata.org/bokeh/release/bokeh-tables-0.12.16.min.css\");\n      Bokeh.embed.inject_css(\"https://cdn.pydata.org/bokeh/release/bokeh-tables-0.12.16.min.css\");\n    }\n  ];\n\n  function run_inline_js() {\n    \n    if ((root.Bokeh !== undefined) || (force === true)) {\n      for (var i = 0; i < inline_js.length; i++) {\n        inline_js[i].call(root, root.Bokeh);\n      }if (force === true) {\n        display_loaded();\n      }} else if (Date.now() < root._bokeh_timeout) {\n      setTimeout(run_inline_js, 100);\n    } else if (!root._bokeh_failed_load) {\n      console.log(\"Bokeh: BokehJS failed to load within specified timeout.\");\n      root._bokeh_failed_load = true;\n    } else if (force !== true) {\n      var cell = $(document.getElementById(\"75c7b18a-8544-4301-b002-d0181f6e6103\")).parents('.cell').data().cell;\n      cell.output_area.append_execute_result(NB_LOAD_WARNING)\n    }\n\n  }\n\n  if (root._bokeh_is_loading === 0) {\n    console.log(\"Bokeh: BokehJS loaded, going straight to plotting\");\n    run_inline_js();\n  } else {\n    load_libs(js_urls, function() {\n      console.log(\"Bokeh: BokehJS plotting callback run at\", now());\n      run_inline_js();\n    });\n  }\n}(window));"
     },
     "metadata": {},
     "output_type": "display_data"
    }
   ],
   "source": [
    "output_notebook()\n",
    "client = pymongo.MongoClient('localhost', 27017)"
   ]
  },
  {
   "cell_type": "markdown",
   "metadata": {},
   "source": [
    "## Data"
   ]
  },
  {
   "cell_type": "code",
   "execution_count": 31,
   "metadata": {
    "collapsed": true
   },
   "outputs": [],
   "source": [
    "MOL = 'o3'\n",
    "COMMITNUMBER = '1013f91'\n",
    "ATMPRO = dict(mls=294, saw=257, trp=300)"
   ]
  },
  {
   "cell_type": "code",
   "execution_count": 32,
   "metadata": {
    "collapsed": true
   },
   "outputs": [],
   "source": [
    "atmcomp = AtmComposition.cliradlw_nongreys(onlygas=MOL)"
   ]
  },
  {
   "cell_type": "code",
   "execution_count": 33,
   "metadata": {
    "collapsed": true
   },
   "outputs": [],
   "source": [
    "DCLI = {}\n",
    "for atmpro, _ in ATMPRO.items():\n",
    "    pcli = atmcomp.to_cliradparam(commitnumber=COMMITNUMBER, atmpro=atmpro, tsfc=ATMPRO[atmpro])\n",
    "    dcli = pcli.modeldata_pymongo(collection=client.cliradnew.lw)\n",
    "    DCLI[atmpro] = dcli"
   ]
  },
  {
   "cell_type": "code",
   "execution_count": 34,
   "metadata": {
    "collapsed": true
   },
   "outputs": [],
   "source": [
    "DCRD = {}"
   ]
  },
  {
   "cell_type": "code",
   "execution_count": 43,
   "metadata": {
    "collapsed": true
   },
   "outputs": [],
   "source": [
    "atmpro = 'trp'\n",
    "pcrds = atmcomp.to_lblnewparam(bestfit_values=True, atmpro=atmpro, tsfc=ATMPRO[atmpro])"
   ]
  },
  {
   "cell_type": "code",
   "execution_count": 44,
   "metadata": {
    "scrolled": true
   },
   "outputs": [
    {
     "data": {
      "text/plain": [
       "[['5014a19']]"
      ]
     },
     "execution_count": 44,
     "metadata": {},
     "output_type": "execute_result"
    }
   ],
   "source": [
    "cmts = [p.avail_commits(client.lblnew.bestfit_lw) for p in pcrds]\n",
    "cmts"
   ]
  },
  {
   "cell_type": "code",
   "execution_count": 45,
   "metadata": {
    "collapsed": true,
    "scrolled": false
   },
   "outputs": [],
   "source": [
    "commits = ['a06b618', '5014a19']\n",
    "dcrds = [p.modeldata_pymongo(collection=client.lblnew.bestfit_lw, commits=commits) for p in pcrds]\n",
    "\n",
    "dcrd = concat(*dcrds)\n",
    "DCRD[atmpro] = dcrd"
   ]
  },
  {
   "cell_type": "code",
   "execution_count": 46,
   "metadata": {},
   "outputs": [
    {
     "data": {
      "text/plain": [
       "({'mls': <climatools.dataset.CliradnewLWModelData at 0x2b166136efd0>,\n",
       "  'saw': <climatools.dataset.CliradnewLWModelData at 0x2b1661387320>,\n",
       "  'trp': <climatools.dataset.CliradnewLWModelData at 0x2b166138ea58>},\n",
       " {'mls': <climatools.dataset.LBLnewModelData at 0x2b16608feac8>,\n",
       "  'saw': <climatools.dataset.LBLnewModelData at 0x2b16612e2b38>,\n",
       "  'trp': <climatools.dataset.LBLnewModelData at 0x2b16611244a8>})"
      ]
     },
     "execution_count": 46,
     "metadata": {},
     "output_type": "execute_result"
    }
   ],
   "source": [
    "DCLI, DCRD"
   ]
  },
  {
   "cell_type": "markdown",
   "metadata": {},
   "source": [
    "## Analysis code"
   ]
  },
  {
   "cell_type": "code",
   "execution_count": 47,
   "metadata": {
    "collapsed": true
   },
   "outputs": [],
   "source": [
    "def show_html(s):\n",
    "    display.display(display.HTML(s))\n",
    "\n",
    "def show_markdown(s):\n",
    "    display.display(display.Markdown(s))"
   ]
  },
  {
   "cell_type": "code",
   "execution_count": 48,
   "metadata": {
    "collapsed": true
   },
   "outputs": [],
   "source": [
    "def show_parameters(dcrd, dcli):\n",
    "    srss = [pd.Series(dcli.param, name=':D')]\n",
    "    srss_crd = [pd.Series(p) for p in dcrd.param]\n",
    "    df = pd.concat(srss_crd, axis=1, sort=True, keys=[f\"band{s['band']} {s['molecule']}\" for s in srss_crd])\n",
    "    srss.append(df)\n",
    "    df = pd.concat(srss, axis=1, sort=True, keys=['clirad-lw', 'lblnew-bestfit lw'])\n",
    "    df.fillna('-', inplace=True)\n",
    "    with pd.option_context('display.max_colwidth', 100):\n",
    "        display.display(df)"
   ]
  },
  {
   "cell_type": "code",
   "execution_count": 49,
   "metadata": {
    "collapsed": true
   },
   "outputs": [],
   "source": [
    "import rtmtools.clirad.sw.wrangle as cliradwrangle\n",
    "\n",
    "def oldclirad_data_atm():\n",
    "    '''\n",
    "    Load the OLD clirad's results. mls only.\n",
    "    '''\n",
    "    fpath = os.path.join('/chia_cluster/home/jackyu/radiation',\n",
    "                         'clirad-lw',\n",
    "                         'LW',\n",
    "                         'examples',\n",
    "                         'mls75_h2o_atmpro_co2_.0004_o3_atmpro_n2o_3.2e-7_ch4_1.8e-6_H2012',\n",
    "                         'OUTPUT_CLIRAD.dat')\n",
    "    \n",
    "    ds = cliradwrangle.load_OUTPUT_CLIRAD(readfrom=fpath)\n",
    "    \n",
    "    ds_cool = xr.Dataset()\n",
    "    ds_cool.coords['pressure'] = ('pressure', ds['layer_pressure'])\n",
    "    ds_cool.coords['band'] = ('band', ds['spectral_band'])\n",
    "    ds_cool['coolrg'] = (('band', 'pressure'), - ds['heating_rate'])\n",
    "    \n",
    "    ds_flux = xr.Dataset()\n",
    "    ds_flux.coords['pressure'] = ('pressure', ds['level_pressure'])\n",
    "    ds_flux.coords['band'] = ('band', ds['spectral_band'])\n",
    "    ds_flux['flug'] = (('band', 'pressure'), ds['flux_up'])\n",
    "    ds_flux['fldg'] = (('band', 'pressure'), ds['flux_down'])\n",
    "    ds_flux['fnetg'] = (('band', 'pressure'), ds['net_flux'])\n",
    "    \n",
    "    \n",
    "    d = {}\n",
    "    d['cool'] = ds_cool\n",
    "    d['flux'] = ds_flux\n",
    "    return d"
   ]
  },
  {
   "cell_type": "code",
   "execution_count": 50,
   "metadata": {
    "collapsed": true
   },
   "outputs": [],
   "source": [
    "def show_makeup():\n",
    "    df = pd.DataFrame()\n",
    "    for band, gs in atmcomp.gasinbands.items():\n",
    "        for g in gs:\n",
    "            df.loc[g, band] = str(atmcomp.gasconcs[g])\n",
    "\n",
    "    df = df.fillna(0)\n",
    "    df.columns.name = 'clirad band'\n",
    "    df.index.name = 'molecule'\n",
    "    \n",
    "    display.display(df)\n",
    "    display.display(display.Markdown('*TABLE.* Non-grey absorbers in the atmosphere.'))"
   ]
  },
  {
   "cell_type": "code",
   "execution_count": 51,
   "metadata": {
    "collapsed": true,
    "scrolled": false
   },
   "outputs": [],
   "source": [
    "def pltdata_cool(dcrd=None, dcli=None, atmpro='mls'):\n",
    "    colors = all_palettes['Set1'][4]\n",
    "    cool_cli = dcli.wgt_cool.sel(i=1).sum('band')['coolrg']\n",
    "    cool_crd = dcrd.crd_cool['coolrg'].sum('band').sum('g')\n",
    "    \n",
    "    data = [\n",
    "        {'label': 'CLIRAD',\n",
    "         'srs': cool_cli,\n",
    "         'line_dash': 'dashed', 'line_width': 5,\n",
    "         'color': colors[0], 'alpha': .6},\n",
    "        {'label': 'CRD',\n",
    "         'srs': cool_crd,\n",
    "         'line_dash': 'solid', 'line_width': 1.5,\n",
    "         'marker': 'circle', 'marker_size': 5,\n",
    "         'color': colors[2], 'alpha': 1}\n",
    "    ]\n",
    "    \n",
    "    # include old CLIRAD's results for mls profile\n",
    "#    if atmpro == 'mls':\n",
    "#        d_oldclirad = oldclirad_data_atm()\n",
    "#        ds_oldclirad = d_oldclirad['cool']        \n",
    "#        data.append(\n",
    "#            {'label': 'old CLIRAD (H2012)',\n",
    "#             'srs': fmt_cool(ds_oldclirad),\n",
    "#             'line_dash': 'solid', 'line_width': 1.5,\n",
    "#             'marker': 'square', 'marker_size': 3,\n",
    "#             'color': colors[3], 'alpha': .5})\n",
    "    return data\n",
    "\n",
    "\n",
    "def pltdata_cooldiff(dcrd=None, dcli=None, atmpro='mls'): \n",
    "    colors = all_palettes['Set1'][4]\n",
    "    cool_cli = dcli.wgt_cool.sel(i=1).sum('band')['coolrg']\n",
    "    cool_crd = dcrd.crd_cool['coolrg'].sum('band').sum('g')\n",
    "    cool_dif = cool_cli - cool_crd\n",
    "    \n",
    "    data = [\n",
    "        {'label': 'CLIRAD - CRD',\n",
    "         'srs': cool_dif,\n",
    "         'line_dash': 'solid', 'line_width': 1.5, \n",
    "         'marker': 'circle', 'marker_size': 7,\n",
    "         'color': colors[3], 'alpha': .8}\n",
    "    ]\n",
    "    \n",
    "    # include old CLIRAD's results for mls profile\n",
    "#    if atmpro == 'mls':\n",
    "#        d_oldclirad = oldclirad_data_atm()\n",
    "#        ds_oldclirad = d_oldclirad['cool']\n",
    "#        ds_oldclirad.coords['pressure'] = ds_crd.coords['pressure']\n",
    "#        ds_diff_old = ds_oldclirad.sum('band') - ds_crd.sum('band')\n",
    "#        data.append(\n",
    "#            {'label': 'old CLIRAD (H2012) - CRD',\n",
    "#             'srs': fmt_cool(ds_diff_old),\n",
    "#             'line_dash': 'dashed', 'line_width': 4,\n",
    "#             'color': colors[1], 'alpha': .5}\n",
    "#        )\n",
    "    return data\n",
    "\n",
    "\n",
    "def show_cool(dcrd=None, dcli=None, atmpro='mls'):\n",
    "    data_cool = pltdata_cool(dcrd, dcli, atmpro=atmpro)\n",
    "    p_cool_liny = plt_vert_profile_bokeh(pltdata=data_cool)\n",
    "    p_cool_logy = plt_vert_profile_bokeh(pltdata=data_cool, y_axis_type='log', prange=(.01, 200))\n",
    "    \n",
    "    data_cooldiff = pltdata_cooldiff(dcrd, dcli, atmpro=atmpro)\n",
    "    p_cooldiff_logy = plt_vert_profile_bokeh(pltdata=data_cooldiff, y_axis_type='log', prange=(.01, 200))\n",
    "    \n",
    "    everything = gridplot(p_cool_liny, p_cool_logy, p_cooldiff_logy, ncols=3)\n",
    "    show(everything)\n",
    "    display.display(display.Markdown('*FIGURE.* Cooling rates & difference.'))"
   ]
  },
  {
   "cell_type": "code",
   "execution_count": 52,
   "metadata": {
    "collapsed": true,
    "scrolled": false
   },
   "outputs": [],
   "source": [
    "def hist_band_vs_flux(da, title='Title'):\n",
    "    bands = [str(b.values) for b in da['band']]\n",
    "    source = ColumnDataSource(data={'band': bands, 'flux': da.values})\n",
    "    p = figure(x_range=bands, title=title)\n",
    "    p.vbar(source=source, x='band', top='flux', width=.9)\n",
    "    p.yaxis.axis_label = 'flux (W m-2)'\n",
    "    p.xaxis.axis_label = 'spectral band'\n",
    "    return p\n",
    "\n",
    "def show_hist_flux(dcrd=None, dcli=None, atmpro='mls'):\n",
    "    ds_crd = dcrd.crd_flux.sum('g')\n",
    "    ds_clirad = dcli.wgt_flux.sel(i=1)\n",
    "    \n",
    "    ip, varname = 0, 'flug'\n",
    "    da = (ds_clirad - ds_crd).isel(pressure=ip)[varname]\n",
    "    p_toa = hist_band_vs_flux(da, title='TOA flux. CLIRAD - CRD.')\n",
    "\n",
    "    ip, varname = -1, 'fldg'\n",
    "    da = (ds_clirad - ds_crd).isel(pressure=ip)[varname]\n",
    "    p_sfc = hist_band_vs_flux(da, title='SFC flux. CLIRAD - CRD.')    \n",
    "    \n",
    "    atm_crd = (ds_crd.isel(pressure=0) - ds_crd.isel(pressure=-1))['fnetg']\n",
    "    atm_clirad = (ds_clirad.isel(pressure=0) - ds_clirad.isel(pressure=-1))['fnetg']\n",
    "    da = atm_clirad - atm_crd\n",
    "    p_atm = hist_band_vs_flux(da, title='Atmosphere heating. CLIRAD - CRD.')\n",
    "\n",
    "    everything = gridplot(p_toa, p_sfc, p_atm, ncols=3, plot_width=300, plot_height=300)\n",
    "    \n",
    "    show(everything)\n",
    "    display.display(\n",
    "        display.Markdown('*FIGURE.* Difference between CLIRAD and CRD'\n",
    "          ' in TOA, SFC and net atmosphere flux,'\n",
    "          ' in each spectral band.'))\n",
    "\n",
    "def tb_flux(fluxcrd, fluxcli, atmpro='mls'):\n",
    "    '''\n",
    "    Return table that shows the difference between CRD and CLIRAD fluxes\n",
    "    at various levels.\n",
    "    '''\n",
    "    tropos = tropopause_pressures()\n",
    "    \n",
    "    olr_crd = fluxcrd['flug'].isel(pressure=0)\n",
    "    sfc_crd = fluxcrd['fldg'].isel(pressure=-1)\n",
    "    atm_crd = (fluxcrd.isel(pressure=0) - fluxcrd.isel(pressure=-1))['fnetg']\n",
    "    trop_up_crd = fluxcrd['flug'].sel(pressure=tropos[atmpro])\n",
    "    trop_down_crd = fluxcrd['fldg'].sel(pressure=tropos[atmpro])\n",
    "    trop_net_crd = fluxcrd['fnetg'].sel(pressure=tropos[atmpro])\n",
    "    \n",
    "    olr_cli = fluxcli['flug'].isel(pressure=0)\n",
    "    sfc_cli = fluxcli['fldg'].isel(pressure=-1)\n",
    "    atm_cli = (fluxcli.isel(pressure=0) - fluxcli.isel(pressure=-1))['fnetg']\n",
    "    trop_up_cli = fluxcli['flug'].sel(pressure=tropos[atmpro])\n",
    "    trop_down_cli = fluxcli['fldg'].sel(pressure=tropos[atmpro])\n",
    "    trop_net_cli = fluxcli['fnetg'].sel(pressure=tropos[atmpro])\n",
    "    \n",
    "    df = pd.DataFrame()\n",
    "    df.loc['CLIRAD - CRD', 'TOA up'] = (olr_cli - olr_crd).values\n",
    "    df.loc['CLIRAD - CRD', 'SFC down'] = (sfc_cli - sfc_crd).values\n",
    "    df.loc['CLIRAD - CRD', 'ATM heating'] = (atm_cli - atm_crd).values\n",
    "    df.loc['CLIRAD - CRD', 'tropo up'] = (trop_up_cli - trop_up_crd).values\n",
    "    df.loc['CLIRAD - CRD', 'tropo down'] = (trop_down_cli - trop_down_crd).values\n",
    "    df.loc['CLIRAD - CRD', 'tropo net'] = (trop_net_cli - trop_net_crd).values\n",
    "    df.loc['CRD', 'TOA up'] = olr_crd.values\n",
    "    df.loc['CRD', 'SFC down'] = sfc_crd.values\n",
    "    df.loc['CRD', 'ATM heating'] = atm_crd.values\n",
    "    df.loc['CRD', 'tropo up'] = trop_up_crd.values\n",
    "    df.loc['CRD', 'tropo down'] = trop_down_crd.values\n",
    "    df.loc['CRD', 'tropo net'] = trop_net_crd.values\n",
    "        \n",
    "    return df.astype('float').round(2)   \n",
    "    \n",
    "def show_tb_flux(dcrd=None, dcli=None, atmpro='mls'):\n",
    "    dfs = {}\n",
    "    fluxcrd = dcrd.crd_flux.sum(['band', 'g'])    \n",
    "    fluxcli = dcli.wgt_flux.sel(i=1).sum('band')\n",
    "    dfs['Sum over band'] = tb_flux(fluxcrd, fluxcli, atmpro=atmpro)\n",
    "    for b in dcrd.crd_flux['band']:\n",
    "        fluxcrd = dcrd.crd_flux.sum('g').sel(band=b)\n",
    "        fluxcli = dcli.wgt_flux.sel(i=1, band=b)\n",
    "        dfs[f'Band {int(b)}'] = tb_flux(fluxcrd, fluxcli, atmpro=atmpro)\n",
    "    dflist = [df for _, df in dfs.items()]\n",
    "    keys = [key for key, _ in dfs.items()]\n",
    "    df = pd.concat(dflist, axis=0, keys=keys)\n",
    "    \n",
    "#    if atmpro == 'mls':\n",
    "#        ds_oldclirad = oldclirad_data_atm()['flux']\n",
    "#        ds_oldclirad['pressure'] = ds_crd['pressure']\n",
    "#        olr_oldclirad = ds_oldclirad['flug'].isel(pressure=0)\n",
    "#        sfc_oldclirad = ds_oldclirad['fldg'].isel(pressure=-1)\n",
    "#        atm_oldclirad = (ds_oldclirad.isel(pressure=0)\n",
    "#                         - ds_oldclirad.isel(pressure=-1))['fnetg']\n",
    "   \n",
    "##    if atmpro == 'mls':\n",
    "##        df.loc['old CLIRAD - CRD', 'OLR flux'] = (fmt(olr_oldclirad) - fmt(olr_crd)).values\n",
    "##        df.loc['old CLIRAD - CRD', 'SFC flux'] = (fmt(sfc_oldclirad) - fmt(sfc_crd)).values\n",
    "##        df.loc['old CLIRAD - CRD', 'ATM heating'] = (fmt(atm_oldclirad) - fmt(atm_crd)).values\n",
    "    display.display(df)\n",
    "    display.display(\n",
    "        display.Markdown('*TABLE.* Difference between CLIRAD and CRD fluxes'\n",
    "          ' at various atmosphere levels.'))\n",
    "    \n",
    "#show_hist_flux(dcrd, dcli, atmpro='mls')\n",
    "#show_tb_flux(DCRD['mls'], DCLI['mls'], atmpro='mls')"
   ]
  },
  {
   "cell_type": "code",
   "execution_count": 53,
   "metadata": {
    "collapsed": true,
    "scrolled": true
   },
   "outputs": [],
   "source": [
    "def cool_tofile(atmpro=None):\n",
    "    dcli = clirad_data_atm(params_atm=[subparam_atm_clirad(atmpro=atmpro)])\n",
    "    dcrd = crd_data_atm(params_atm=subparams_atm_lblnew(atmpro=atmpro))\n",
    "    \n",
    "    dcli = dcli['cool'].sel(i=1).drop('i').sum('band')\n",
    "    dcrd = dcrd['cool'].sum('band')\n",
    "    \n",
    "    dcli = dcli['coolrg'].to_dataframe()\n",
    "    dcrd = dcrd['coolrg'].to_dataframe()\n",
    "    \n",
    "    dcli = dcli.set_index('layer', append=True)\n",
    "    dcrd = dcrd.set_index('layer', append=True)\n",
    "    \n",
    "    ddif = dcli - dcrd\n",
    "    \n",
    "    df = pd.concat([dcrd, dcli, ddif], axis=1, keys=['CRD', 'CLIRAD', 'CLIRAD - CRD'])\n",
    "    return df\n",
    "\n",
    "\n",
    "def flux_tofile(atmpro=None):\n",
    "    tropopauses = {'mls': 40, 'saw': 45, 'trp': 37}\n",
    "    ilevels = [0, tropopauses[atmpro], -1]\n",
    "    \n",
    "    dcli = clirad_data_atm(params_atm=[subparam_atm_clirad(atmpro=atmpro)])\n",
    "    dcrd = crd_data_atm(params_atm=subparams_atm_lblnew(atmpro=atmpro))\n",
    "    \n",
    "    dcli = dcli['flux'].sel(i=1).drop('i').sum('band').isel(pressure=ilevels)\n",
    "    dcrd = dcrd['flux'].sum('band').isel(pressure=ilevels)\n",
    "    \n",
    "    dcli = dcli.to_dataframe()\n",
    "    dcrd = dcrd.to_dataframe()\n",
    "    \n",
    "    dcli = dcli.set_index('level', append=True)\n",
    "    dcrd = dcrd.set_index('level', append=True)\n",
    "    \n",
    "    ddif = dcli - dcrd\n",
    "    \n",
    "    df = pd.concat([dcrd, dcli, ddif], axis=1, keys=['CRD', 'CLIRAD', 'CLIRAD - CRD'])\n",
    "    return df\n",
    "\n",
    "\n",
    "def script_tofile():\n",
    "    fname = f'results_{MOL}atm_cliradsinglerun.xlsx'\n",
    "    writer = pd.ExcelWriter(fname)\n",
    "    for atmpro in ('mls', 'saw', 'trp'):\n",
    "        dflux = flux_tofile(atmpro=atmpro)\n",
    "        dflux.to_excel(writer, f'flux {atmpro}')\n",
    "        \n",
    "        dcool = cool_tofile(atmpro=atmpro)\n",
    "        dcool.to_excel(writer, f'cool {atmpro}')\n",
    "        \n",
    "    html = f'Download: <a href=\"./{fname}\">{fname}</a>'\n",
    "    show_html(html) "
   ]
  },
  {
   "cell_type": "code",
   "execution_count": 54,
   "metadata": {
    "collapsed": true,
    "scrolled": false
   },
   "outputs": [],
   "source": [
    "def script():\n",
    "    \n",
    "    d_atm = {'mls': 'mid-latitude summer', 'saw': 'sub-arctic winter', 'trp': 'tropical'}\n",
    "    \n",
    "    s_makeup = 'Makeup of atmosphere.'\n",
    "    s_parameters = 'Parameters of runs.'\n",
    "    s_atmpro = '# {}'\n",
    "    s_cool = 'Cooling rates. {}.'\n",
    "    s_flux = 'Fluxes. {}.'\n",
    "    \n",
    "    atmpros = ['mls', 'saw', 'trp']\n",
    "    \n",
    "    # TOC\n",
    "    show_markdown('### Table of Contents')\n",
    "    show_html(getHTML_hrefanchor(s_makeup))\n",
    "    \n",
    "    for atmpro in atmpros:\n",
    "        show_markdown('**' + d_atm[atmpro] + '**')\n",
    "        show_html(getHTML_hrefanchor(s_parameters + f' {atmpro}'))\n",
    "        show_html(getHTML_hrefanchor(s_cool.format(atmpro)))\n",
    "        show_html(getHTML_hrefanchor(s_flux.format(atmpro)))\n",
    "\n",
    "    # Atmosphere makeup\n",
    "    show_html(getHTML_idanchor(s_makeup))\n",
    "    show_markdown(getMarkdown_sectitle(s_makeup))\n",
    "    show_makeup()\n",
    "        \n",
    "    for atmpro in atmpros:\n",
    "        dcrd, dcli = DCRD[atmpro], DCLI[atmpro]\n",
    "        \n",
    "        show_html(getHTML_idanchor(s_parameters + f' {atmpro}'))\n",
    "        show_markdown(getMarkdown_sectitle(s_parameters + f' {atmpro}'))\n",
    "        show_parameters(dcrd, dcli)\n",
    "        \n",
    "        show_html(getHTML_idanchor(s_cool.format(atmpro)))\n",
    "        show_markdown(getMarkdown_sectitle(s_cool.format(atmpro)))\n",
    "        show_cool(dcrd, dcli, atmpro=atmpro)\n",
    "        \n",
    "        show_html(getHTML_idanchor(s_flux.format(atmpro)))\n",
    "        show_markdown(getMarkdown_sectitle(s_flux.format(atmpro)))\n",
    "        show_hist_flux(dcrd, dcli, atmpro=atmpro)\n",
    "        show_tb_flux(dcrd, dcli, atmpro=atmpro)\n",
    "    \n",
    "    #script_tofile()"
   ]
  },
  {
   "cell_type": "markdown",
   "metadata": {},
   "source": [
    "## Analysis Result"
   ]
  },
  {
   "cell_type": "code",
   "execution_count": 55,
   "metadata": {
    "scrolled": false
   },
   "outputs": [
    {
     "data": {
      "text/markdown": [
       "### Table of Contents"
      ],
      "text/plain": [
       "<IPython.core.display.Markdown object>"
      ]
     },
     "metadata": {},
     "output_type": "display_data"
    },
    {
     "data": {
      "text/html": [
       "<a href=\"#Makeup_of_atmosphere.\">Makeup of atmosphere.</a>"
      ],
      "text/plain": [
       "<IPython.core.display.HTML object>"
      ]
     },
     "metadata": {},
     "output_type": "display_data"
    },
    {
     "data": {
      "text/markdown": [
       "**mid-latitude summer**"
      ],
      "text/plain": [
       "<IPython.core.display.Markdown object>"
      ]
     },
     "metadata": {},
     "output_type": "display_data"
    },
    {
     "data": {
      "text/html": [
       "<a href=\"#Parameters_of_runs._mls\">Parameters of runs. mls</a>"
      ],
      "text/plain": [
       "<IPython.core.display.HTML object>"
      ]
     },
     "metadata": {},
     "output_type": "display_data"
    },
    {
     "data": {
      "text/html": [
       "<a href=\"#Cooling_rates._mls.\">Cooling rates. mls.</a>"
      ],
      "text/plain": [
       "<IPython.core.display.HTML object>"
      ]
     },
     "metadata": {},
     "output_type": "display_data"
    },
    {
     "data": {
      "text/html": [
       "<a href=\"#Fluxes._mls.\">Fluxes. mls.</a>"
      ],
      "text/plain": [
       "<IPython.core.display.HTML object>"
      ]
     },
     "metadata": {},
     "output_type": "display_data"
    },
    {
     "data": {
      "text/markdown": [
       "**sub-arctic winter**"
      ],
      "text/plain": [
       "<IPython.core.display.Markdown object>"
      ]
     },
     "metadata": {},
     "output_type": "display_data"
    },
    {
     "data": {
      "text/html": [
       "<a href=\"#Parameters_of_runs._saw\">Parameters of runs. saw</a>"
      ],
      "text/plain": [
       "<IPython.core.display.HTML object>"
      ]
     },
     "metadata": {},
     "output_type": "display_data"
    },
    {
     "data": {
      "text/html": [
       "<a href=\"#Cooling_rates._saw.\">Cooling rates. saw.</a>"
      ],
      "text/plain": [
       "<IPython.core.display.HTML object>"
      ]
     },
     "metadata": {},
     "output_type": "display_data"
    },
    {
     "data": {
      "text/html": [
       "<a href=\"#Fluxes._saw.\">Fluxes. saw.</a>"
      ],
      "text/plain": [
       "<IPython.core.display.HTML object>"
      ]
     },
     "metadata": {},
     "output_type": "display_data"
    },
    {
     "data": {
      "text/markdown": [
       "**tropical**"
      ],
      "text/plain": [
       "<IPython.core.display.Markdown object>"
      ]
     },
     "metadata": {},
     "output_type": "display_data"
    },
    {
     "data": {
      "text/html": [
       "<a href=\"#Parameters_of_runs._trp\">Parameters of runs. trp</a>"
      ],
      "text/plain": [
       "<IPython.core.display.HTML object>"
      ]
     },
     "metadata": {},
     "output_type": "display_data"
    },
    {
     "data": {
      "text/html": [
       "<a href=\"#Cooling_rates._trp.\">Cooling rates. trp.</a>"
      ],
      "text/plain": [
       "<IPython.core.display.HTML object>"
      ]
     },
     "metadata": {},
     "output_type": "display_data"
    },
    {
     "data": {
      "text/html": [
       "<a href=\"#Fluxes._trp.\">Fluxes. trp.</a>"
      ],
      "text/plain": [
       "<IPython.core.display.HTML object>"
      ]
     },
     "metadata": {},
     "output_type": "display_data"
    },
    {
     "data": {
      "text/html": [
       "<a id=\"Makeup_of_atmosphere.\"></a>"
      ],
      "text/plain": [
       "<IPython.core.display.HTML object>"
      ]
     },
     "metadata": {},
     "output_type": "display_data"
    },
    {
     "data": {
      "text/markdown": [
       "# Makeup of atmosphere."
      ],
      "text/plain": [
       "<IPython.core.display.Markdown object>"
      ]
     },
     "metadata": {},
     "output_type": "display_data"
    },
    {
     "data": {
      "text/html": [
       "<div>\n",
       "<style scoped>\n",
       "    .dataframe tbody tr th:only-of-type {\n",
       "        vertical-align: middle;\n",
       "    }\n",
       "\n",
       "    .dataframe tbody tr th {\n",
       "        vertical-align: top;\n",
       "    }\n",
       "\n",
       "    .dataframe thead th {\n",
       "        text-align: right;\n",
       "    }\n",
       "</style>\n",
       "<table border=\"1\" class=\"dataframe\">\n",
       "  <thead>\n",
       "    <tr style=\"text-align: right;\">\n",
       "      <th>clirad band</th>\n",
       "      <th>7</th>\n",
       "    </tr>\n",
       "    <tr>\n",
       "      <th>molecule</th>\n",
       "      <th></th>\n",
       "    </tr>\n",
       "  </thead>\n",
       "  <tbody>\n",
       "    <tr>\n",
       "      <th>o3</th>\n",
       "      <td>atmpro</td>\n",
       "    </tr>\n",
       "  </tbody>\n",
       "</table>\n",
       "</div>"
      ],
      "text/plain": [
       "clirad band       7\n",
       "molecule           \n",
       "o3           atmpro"
      ]
     },
     "metadata": {},
     "output_type": "display_data"
    },
    {
     "data": {
      "text/markdown": [
       "*TABLE.* Non-grey absorbers in the atmosphere."
      ],
      "text/plain": [
       "<IPython.core.display.Markdown object>"
      ]
     },
     "metadata": {},
     "output_type": "display_data"
    },
    {
     "data": {
      "text/html": [
       "<a id=\"Parameters_of_runs._mls\"></a>"
      ],
      "text/plain": [
       "<IPython.core.display.HTML object>"
      ]
     },
     "metadata": {},
     "output_type": "display_data"
    },
    {
     "data": {
      "text/markdown": [
       "# Parameters of runs. mls"
      ],
      "text/plain": [
       "<IPython.core.display.Markdown object>"
      ]
     },
     "metadata": {},
     "output_type": "display_data"
    },
    {
     "data": {
      "text/html": [
       "<div>\n",
       "<style scoped>\n",
       "    .dataframe tbody tr th:only-of-type {\n",
       "        vertical-align: middle;\n",
       "    }\n",
       "\n",
       "    .dataframe tbody tr th {\n",
       "        vertical-align: top;\n",
       "    }\n",
       "\n",
       "    .dataframe thead tr th {\n",
       "        text-align: left;\n",
       "    }\n",
       "</style>\n",
       "<table border=\"1\" class=\"dataframe\">\n",
       "  <thead>\n",
       "    <tr>\n",
       "      <th></th>\n",
       "      <th>clirad-lw</th>\n",
       "      <th>lblnew-bestfit lw</th>\n",
       "    </tr>\n",
       "    <tr>\n",
       "      <th></th>\n",
       "      <th>:D</th>\n",
       "      <th>band5 o3</th>\n",
       "    </tr>\n",
       "  </thead>\n",
       "  <tbody>\n",
       "    <tr>\n",
       "      <th>atmpro</th>\n",
       "      <td>mls</td>\n",
       "      <td>mls</td>\n",
       "    </tr>\n",
       "    <tr>\n",
       "      <th>band</th>\n",
       "      <td>[7]</td>\n",
       "      <td>5</td>\n",
       "    </tr>\n",
       "    <tr>\n",
       "      <th>commitnumber</th>\n",
       "      <td>1013f91</td>\n",
       "      <td>a06b618</td>\n",
       "    </tr>\n",
       "    <tr>\n",
       "      <th>conc</th>\n",
       "      <td>-</td>\n",
       "      <td>-</td>\n",
       "    </tr>\n",
       "    <tr>\n",
       "      <th>dv</th>\n",
       "      <td>-</td>\n",
       "      <td>0.001</td>\n",
       "    </tr>\n",
       "    <tr>\n",
       "      <th>klin</th>\n",
       "      <td>-</td>\n",
       "      <td>2e-20</td>\n",
       "    </tr>\n",
       "    <tr>\n",
       "      <th>molecule</th>\n",
       "      <td>{'o3': 'atmpro'}</td>\n",
       "      <td>o3</td>\n",
       "    </tr>\n",
       "    <tr>\n",
       "      <th>ng_adju</th>\n",
       "      <td>-</td>\n",
       "      <td>[0, 0]</td>\n",
       "    </tr>\n",
       "    <tr>\n",
       "      <th>ng_refs</th>\n",
       "      <td>-</td>\n",
       "      <td>[2, 5]</td>\n",
       "    </tr>\n",
       "    <tr>\n",
       "      <th>nv</th>\n",
       "      <td>-</td>\n",
       "      <td>1000</td>\n",
       "    </tr>\n",
       "    <tr>\n",
       "      <th>option_compute_btable</th>\n",
       "      <td>-</td>\n",
       "      <td>0</td>\n",
       "    </tr>\n",
       "    <tr>\n",
       "      <th>option_compute_ktable</th>\n",
       "      <td>-</td>\n",
       "      <td>1</td>\n",
       "    </tr>\n",
       "    <tr>\n",
       "      <th>option_wgt_flux</th>\n",
       "      <td>-</td>\n",
       "      <td>1</td>\n",
       "    </tr>\n",
       "    <tr>\n",
       "      <th>option_wgt_k</th>\n",
       "      <td>-</td>\n",
       "      <td>1</td>\n",
       "    </tr>\n",
       "    <tr>\n",
       "      <th>ref_pts</th>\n",
       "      <td>-</td>\n",
       "      <td>[[1, 250], [50, 250]]</td>\n",
       "    </tr>\n",
       "    <tr>\n",
       "      <th>tsfc</th>\n",
       "      <td>294</td>\n",
       "      <td>294</td>\n",
       "    </tr>\n",
       "    <tr>\n",
       "      <th>vmax</th>\n",
       "      <td>-</td>\n",
       "      <td>1100</td>\n",
       "    </tr>\n",
       "    <tr>\n",
       "      <th>vmin</th>\n",
       "      <td>-</td>\n",
       "      <td>980</td>\n",
       "    </tr>\n",
       "    <tr>\n",
       "      <th>w_diffuse</th>\n",
       "      <td>-</td>\n",
       "      <td>[[1.6, 1.75], [1.55, 1.66, 1.7, 1.75, 1.8]]</td>\n",
       "    </tr>\n",
       "    <tr>\n",
       "      <th>wgt</th>\n",
       "      <td>-</td>\n",
       "      <td>[[0.35, 0.6], [0.5, 0.55, 0.7, 0.9, 1.0]]</td>\n",
       "    </tr>\n",
       "  </tbody>\n",
       "</table>\n",
       "</div>"
      ],
      "text/plain": [
       "                              clirad-lw  \\\n",
       "                                     :D   \n",
       "atmpro                              mls   \n",
       "band                                [7]   \n",
       "commitnumber                    1013f91   \n",
       "conc                                  -   \n",
       "dv                                    -   \n",
       "klin                                  -   \n",
       "molecule               {'o3': 'atmpro'}   \n",
       "ng_adju                               -   \n",
       "ng_refs                               -   \n",
       "nv                                    -   \n",
       "option_compute_btable                 -   \n",
       "option_compute_ktable                 -   \n",
       "option_wgt_flux                       -   \n",
       "option_wgt_k                          -   \n",
       "ref_pts                               -   \n",
       "tsfc                                294   \n",
       "vmax                                  -   \n",
       "vmin                                  -   \n",
       "w_diffuse                             -   \n",
       "wgt                                   -   \n",
       "\n",
       "                                                 lblnew-bestfit lw  \n",
       "                                                          band5 o3  \n",
       "atmpro                                                         mls  \n",
       "band                                                             5  \n",
       "commitnumber                                               a06b618  \n",
       "conc                                                             -  \n",
       "dv                                                           0.001  \n",
       "klin                                                         2e-20  \n",
       "molecule                                                        o3  \n",
       "ng_adju                                                     [0, 0]  \n",
       "ng_refs                                                     [2, 5]  \n",
       "nv                                                            1000  \n",
       "option_compute_btable                                            0  \n",
       "option_compute_ktable                                            1  \n",
       "option_wgt_flux                                                  1  \n",
       "option_wgt_k                                                     1  \n",
       "ref_pts                                      [[1, 250], [50, 250]]  \n",
       "tsfc                                                           294  \n",
       "vmax                                                          1100  \n",
       "vmin                                                           980  \n",
       "w_diffuse              [[1.6, 1.75], [1.55, 1.66, 1.7, 1.75, 1.8]]  \n",
       "wgt                      [[0.35, 0.6], [0.5, 0.55, 0.7, 0.9, 1.0]]  "
      ]
     },
     "metadata": {},
     "output_type": "display_data"
    },
    {
     "data": {
      "text/html": [
       "<a id=\"Cooling_rates._mls.\"></a>"
      ],
      "text/plain": [
       "<IPython.core.display.HTML object>"
      ]
     },
     "metadata": {},
     "output_type": "display_data"
    },
    {
     "data": {
      "text/markdown": [
       "# Cooling rates. mls."
      ],
      "text/plain": [
       "<IPython.core.display.Markdown object>"
      ]
     },
     "metadata": {},
     "output_type": "display_data"
    },
    {
     "data": {
      "text/html": [
       "\n",
       "<div class=\"bk-root\">\n",
       "    <div class=\"bk-plotdiv\" id=\"5462d74c-8d42-46c1-b608-fc2257edbc28\"></div>\n",
       "</div>"
      ]
     },
     "metadata": {},
     "output_type": "display_data"
    },
    {
     "data": {
      "application/javascript": [
       "(function(root) {\n",
       "  function embed_document(root) {\n",
       "    \n",
       "  var docs_json = {\"3f917eb2-c1e1-4c09-9839-785b87572d80\":{\"roots\":{\"references\":[{\"attributes\":{\"overlay\":{\"id\":\"39b40bf8-0275-456e-a297-14f22de5b5bb\",\"type\":\"BoxAnnotation\"}},\"id\":\"f13ba5a9-2886-42b1-a417-2dfbe7085baf\",\"type\":\"BoxZoomTool\"},{\"attributes\":{\"callback\":null,\"data\":{\"x\":{\"__ndarray__\":\"jH/SYoZMn78sw/w4QWuhv+ykNTuP4KS/UdkntVQ0qL+OM3ZXsGyrv2nHt77iha6/3Zzn28TBsL9i1s29bi6yv1vPC9WfjbO/liuOk1rZtL9DKicCHha2v8xHzpkfRbe/5X7JvhJluL/NuTKt73G5v0OIVOYgx7m/2eCTOkAxuL+L+OTn2qWtv0nVcVrCapo/MegICeaixT9c2Q30s8XYP4R5VYjDSeY/W2ykth7P8T9PZPcu77v5P1XYDHBBlv4/TRHg9C5+/D+lAAejSO32P67BVmTP2fA/3JMTL0cW6D9fUucXRrbhP4vp+B7ka9k/CdCEYDQvzD8M5ekBmNehP0aDb/X3rbm/8PAJn86Ryb93Yhioc2LSv8enW9FBstS/FwHCRfaa0r+GAraDEfvPv7AEUmLX9sy/yys6BiITyb8qss7fIZjDvzpK0vN2nb6/ByDMJQnNuL+UWrOLJYmzvyu922G4366/sLg/5Bt0qb8gAwrZn+Kkv9KNBqlBvKC/ZPJPbrB3mr9RHTaHJ5iUv7Lsd5hesY6/4wvF48Nohb/AD2B4eX96v4iRttXS+mi/Ervz8SqhBL/1YjF0KN9lP3d8OikTCHU/7+M+M3VQfj8wCGj/XGSDP5Mx9fWnTYc/5G0PvAbvij/oKdD5uTmOP7OBuM5mpZA/ahimBRsWkj+GbLG/EmaTP/IgSm8QkZQ/AqFs/weulT9mzov3Cb6WP0uWIfsRoJc/KnM6Y3RNmD/BT4yUfNiYP7r+BOfxU5k/+/yN/BXAmT+Zinbdpx+aP6ZBJTwOdJo/\",\"dtype\":\"float64\",\"shape\":[75]},\"y\":{\"__ndarray__\":\"GhExyth1ND/Sv8nbtpRIP2vylNV0PVE/aTum7souWD/At0SJ8fVgPw3Iuahxymc/MSNhhJWvcD/bTfBN02d3P2zb5nxnaoA/CD5h5MAGhz8NmeH1TyaQP+zrCsc9p5Y/LbKd76fGnz/bLW5ISEmmPww9YvTcQq8/JV2OstnstT8Er5Y7M8G+P0c+r3jqkcU/5h99k6ZBzj88bCIzFzjVP4enV8oyxN0//yH99nXg5D8qOpLLf0jtP5kqGJXUifQ/c9cS8kHP/D+/DpwzojQEQIEmwoanVwxA4lgXt9HgE0BSSZ2AJuIbQAMJih9jjiNA5q4l5INuK0AwTKYKRj0zQNv5fmq8/DpAaCJseHrtQkB/+zpwzoxKQM3MzMzMeFJAZmZmZmZqWEAAAAAAAFxeQM3MzMzMJmJAmpmZmZkfZUBmZmZmZhhoQDMzMzMzEWtAAAAAAAAKbkBmZmZmZoFwQM3MzMzM/XFAMzMzMzN6c0CamZmZmfZ0QAAAAAAAc3ZAZmZmZmbvd0DNzMzMzGt5QDMzMzMz6HpAmpmZmZlkfEAAAAAAAOF9QGZmZmZmXX9AZmZmZuZsgECamZmZGSuBQM3MzMxM6YFAAAAAAICngkAzMzMzs2WDQGZmZmbmI4RAmpmZmRnihEDNzMzMTKCFQAAAAACAXoZAMzMzM7Mch0BmZmZm5tqHQJqZmZkZmYhAzczMzExXiUAAAAAAgBWKQDMzMzOz04pAZmZmZuaRi0CamZmZGVCMQM3MzMxMDo1AAAAAAIDMjUAzMzMzs4qOQGZmZmbmSI9A\",\"dtype\":\"float64\",\"shape\":[75]}},\"selected\":{\"id\":\"2ff40c09-2013-4a22-9484-dec57104ea35\",\"type\":\"Selection\"},\"selection_policy\":{\"id\":\"0d46bfa7-651b-4bac-aab0-c30daeea19fb\",\"type\":\"UnionRenderers\"}},\"id\":\"848202e9-c1fe-4681-b849-81903fe31b05\",\"type\":\"ColumnDataSource\"},{\"attributes\":{},\"id\":\"8ae69b65-c51f-4b20-a82f-b0a2d1ba5d51\",\"type\":\"UnionRenderers\"},{\"attributes\":{},\"id\":\"352173eb-2ac2-4bb9-97bd-27fa2039dba8\",\"type\":\"LinearScale\"},{\"attributes\":{},\"id\":\"a9f6ce98-3d27-4423-b40f-24d8b4965df0\",\"type\":\"PanTool\"},{\"attributes\":{},\"id\":\"22c490fa-e028-4462-98c9-1790900fac8f\",\"type\":\"BasicTickFormatter\"},{\"attributes\":{},\"id\":\"1f37b512-aaed-47ce-93dc-2909b717985a\",\"type\":\"HelpTool\"},{\"attributes\":{},\"id\":\"1d07c0e0-aa0c-4bb4-afea-6e6821b1647f\",\"type\":\"Selection\"},{\"attributes\":{\"source\":{\"id\":\"11a6d1ed-46e6-42ce-9941-fc9fc58aae75\",\"type\":\"ColumnDataSource\"}},\"id\":\"595e7dbe-0132-43e6-a3c1-8a7354adb58d\",\"type\":\"CDSView\"},{\"attributes\":{\"toolbar\":{\"id\":\"fcf30bad-b4d7-42bb-8041-2ff44c60437f\",\"type\":\"ProxyToolbar\"},\"toolbar_location\":\"above\"},\"id\":\"6632002f-4e6f-493a-8d24-21f22a98af12\",\"type\":\"ToolbarBox\"},{\"attributes\":{\"fill_alpha\":{\"value\":0.7},\"fill_color\":{\"value\":\"#984ea3\"},\"line_alpha\":{\"value\":0.7},\"line_color\":{\"value\":\"#984ea3\"},\"x\":{\"field\":\"x\"},\"y\":{\"field\":\"y\"}},\"id\":\"694e0aa5-0288-4c94-94c8-7f672b406c4b\",\"type\":\"Circle\"},{\"attributes\":{\"line_alpha\":0.8,\"line_color\":\"#984ea3\",\"line_width\":1.5,\"x\":{\"field\":\"x\"},\"y\":{\"field\":\"y\"}},\"id\":\"f18ecfc2-bb13-4cd0-952b-c2359200d3a9\",\"type\":\"Line\"},{\"attributes\":{\"bottom_units\":\"screen\",\"fill_alpha\":{\"value\":0.5},\"fill_color\":{\"value\":\"lightgrey\"},\"left_units\":\"screen\",\"level\":\"overlay\",\"line_alpha\":{\"value\":1.0},\"line_color\":{\"value\":\"black\"},\"line_dash\":[4,4],\"line_width\":{\"value\":2},\"plot\":null,\"render_mode\":\"css\",\"right_units\":\"screen\",\"top_units\":\"screen\"},\"id\":\"39b40bf8-0275-456e-a297-14f22de5b5bb\",\"type\":\"BoxAnnotation\"},{\"attributes\":{\"source\":{\"id\":\"0e6c58f5-1acf-4105-aa08-fed48a14fb74\",\"type\":\"ColumnDataSource\"}},\"id\":\"a76b67df-5084-4c8c-a633-f7de209ad7e4\",\"type\":\"CDSView\"},{\"attributes\":{},\"id\":\"5f879e4c-67c2-4343-9d46-730c134f4ee4\",\"type\":\"WheelZoomTool\"},{\"attributes\":{\"source\":{\"id\":\"4053a64b-8e54-4cf2-bec5-2c76cd2aef94\",\"type\":\"ColumnDataSource\"}},\"id\":\"04507390-bee8-4245-b2cc-202926653cc1\",\"type\":\"CDSView\"},{\"attributes\":{},\"id\":\"9cb927d7-ea49-4fc3-802b-c37a4493ba1d\",\"type\":\"Selection\"},{\"attributes\":{\"axis_label\":\"pressure [mb]\",\"formatter\":{\"id\":\"17e92ab4-823d-43f8-912e-a5a6c48e3d29\",\"type\":\"BasicTickFormatter\"},\"plot\":{\"id\":\"29f4fcca-a858-4c70-83e4-bb83998a02c8\",\"subtype\":\"Figure\",\"type\":\"Plot\"},\"ticker\":{\"id\":\"29cd24f0-be5d-43e4-9845-239ea44065f8\",\"type\":\"BasicTicker\"}},\"id\":\"30b037cb-178a-4e16-bf98-d462e70c6d23\",\"type\":\"LinearAxis\"},{\"attributes\":{\"plot\":null,\"text\":\"\"},\"id\":\"969cd3c5-6908-4f8d-9016-970fdb62d69c\",\"type\":\"Title\"},{\"attributes\":{},\"id\":\"dca37764-8570-4da7-8b68-2f36a776cf80\",\"type\":\"WheelZoomTool\"},{\"attributes\":{\"dimension\":1,\"plot\":{\"id\":\"bb0a3175-6e87-4b65-99f9-b7e4b23daf74\",\"subtype\":\"Figure\",\"type\":\"Plot\"},\"ticker\":{\"id\":\"1a1e3a4b-68fa-4077-8463-372c29316d8f\",\"type\":\"LogTicker\"}},\"id\":\"bf818208-a405-4f01-ab40-33a5f7a2e4bb\",\"type\":\"Grid\"},{\"attributes\":{},\"id\":\"486d7d0f-014b-42ef-850d-54d86a08602f\",\"type\":\"HelpTool\"},{\"attributes\":{},\"id\":\"2ff40c09-2013-4a22-9484-dec57104ea35\",\"type\":\"Selection\"},{\"attributes\":{},\"id\":\"c999f325-48d9-4995-959b-b0dc87cf3c0a\",\"type\":\"ResetTool\"},{\"attributes\":{\"children\":[{\"id\":\"29f4fcca-a858-4c70-83e4-bb83998a02c8\",\"subtype\":\"Figure\",\"type\":\"Plot\"},{\"id\":\"fa458cae-3075-4078-b201-52a11805edfd\",\"subtype\":\"Figure\",\"type\":\"Plot\"},{\"id\":\"bb0a3175-6e87-4b65-99f9-b7e4b23daf74\",\"subtype\":\"Figure\",\"type\":\"Plot\"}]},\"id\":\"3fa399cf-6722-40d6-9c06-96ef074f8b07\",\"type\":\"Row\"},{\"attributes\":{\"data_source\":{\"id\":\"4053a64b-8e54-4cf2-bec5-2c76cd2aef94\",\"type\":\"ColumnDataSource\"},\"glyph\":{\"id\":\"0370fc67-d17e-44c3-bb84-afde9bbd856a\",\"type\":\"Line\"},\"hover_glyph\":null,\"muted_glyph\":null,\"nonselection_glyph\":{\"id\":\"b685139f-fc22-479e-8dd0-9babc8653b95\",\"type\":\"Line\"},\"selection_glyph\":null,\"view\":{\"id\":\"04507390-bee8-4245-b2cc-202926653cc1\",\"type\":\"CDSView\"}},\"id\":\"c9e4d57e-7a7a-4905-ad01-65b9c7cb9f6c\",\"type\":\"GlyphRenderer\"},{\"attributes\":{\"data_source\":{\"id\":\"0e6c58f5-1acf-4105-aa08-fed48a14fb74\",\"type\":\"ColumnDataSource\"},\"glyph\":{\"id\":\"f18ecfc2-bb13-4cd0-952b-c2359200d3a9\",\"type\":\"Line\"},\"hover_glyph\":null,\"muted_glyph\":null,\"nonselection_glyph\":{\"id\":\"72cb80dc-2435-4642-b791-200045e113d4\",\"type\":\"Line\"},\"selection_glyph\":null,\"view\":{\"id\":\"a76b67df-5084-4c8c-a633-f7de209ad7e4\",\"type\":\"CDSView\"}},\"id\":\"2966a817-661a-47bb-b627-79109c69f9cd\",\"type\":\"GlyphRenderer\"},{\"attributes\":{\"bottom_units\":\"screen\",\"fill_alpha\":{\"value\":0.5},\"fill_color\":{\"value\":\"lightgrey\"},\"left_units\":\"screen\",\"level\":\"overlay\",\"line_alpha\":{\"value\":1.0},\"line_color\":{\"value\":\"black\"},\"line_dash\":[4,4],\"line_width\":{\"value\":2},\"plot\":null,\"render_mode\":\"css\",\"right_units\":\"screen\",\"top_units\":\"screen\"},\"id\":\"be1189de-8f8d-4c73-8d95-e6f2e788a441\",\"type\":\"BoxAnnotation\"},{\"attributes\":{\"label\":{\"value\":\"CLIRAD - CRD\"},\"renderers\":[{\"id\":\"0f3d0081-9507-4a3c-90a7-cf4dd76a1e48\",\"type\":\"GlyphRenderer\"},{\"id\":\"2966a817-661a-47bb-b627-79109c69f9cd\",\"type\":\"GlyphRenderer\"}]},\"id\":\"2f431ea5-b62d-48c2-9377-a2d86d32acd4\",\"type\":\"LegendItem\"},{\"attributes\":{},\"id\":\"0d46bfa7-651b-4bac-aab0-c30daeea19fb\",\"type\":\"UnionRenderers\"},{\"attributes\":{\"axis_label\":\"pressure [mb]\",\"formatter\":{\"id\":\"4723c266-14b2-4c87-86ef-5a6cd724af6e\",\"type\":\"LogTickFormatter\"},\"plot\":{\"id\":\"bb0a3175-6e87-4b65-99f9-b7e4b23daf74\",\"subtype\":\"Figure\",\"type\":\"Plot\"},\"ticker\":{\"id\":\"1a1e3a4b-68fa-4077-8463-372c29316d8f\",\"type\":\"LogTicker\"}},\"id\":\"3883b234-b432-49b3-9283-24d27c24b889\",\"type\":\"LogAxis\"},{\"attributes\":{\"data_source\":{\"id\":\"11a6d1ed-46e6-42ce-9941-fc9fc58aae75\",\"type\":\"ColumnDataSource\"},\"glyph\":{\"id\":\"694e0aa5-0288-4c94-94c8-7f672b406c4b\",\"type\":\"Circle\"},\"hover_glyph\":null,\"muted_glyph\":null,\"nonselection_glyph\":{\"id\":\"fe248384-6c99-465c-9741-d0ce2dfb9db6\",\"type\":\"Circle\"},\"selection_glyph\":null,\"view\":{\"id\":\"595e7dbe-0132-43e6-a3c1-8a7354adb58d\",\"type\":\"CDSView\"}},\"id\":\"0f3d0081-9507-4a3c-90a7-cf4dd76a1e48\",\"type\":\"GlyphRenderer\"},{\"attributes\":{\"line_alpha\":0.1,\"line_color\":\"#1f77b4\",\"line_dash\":[6],\"line_width\":5,\"x\":{\"field\":\"x\"},\"y\":{\"field\":\"y\"}},\"id\":\"5097add3-496b-41ea-938e-bd036b4b05e3\",\"type\":\"Line\"},{\"attributes\":{\"source\":{\"id\":\"848202e9-c1fe-4681-b849-81903fe31b05\",\"type\":\"ColumnDataSource\"}},\"id\":\"a7819a5a-ea38-4da1-9b92-dfbea0de277c\",\"type\":\"CDSView\"},{\"attributes\":{\"callback\":null,\"end\":0.01,\"start\":1020},\"id\":\"cae9c81a-2b75-49f2-9418-f1b92990f4c2\",\"type\":\"Range1d\"},{\"attributes\":{},\"id\":\"ee2d05c7-116f-4ead-908a-73ce3f03fe57\",\"type\":\"SaveTool\"},{\"attributes\":{\"overlay\":{\"id\":\"be1189de-8f8d-4c73-8d95-e6f2e788a441\",\"type\":\"BoxAnnotation\"}},\"id\":\"31563cb4-5557-452a-a7cf-495bf2edfe57\",\"type\":\"BoxZoomTool\"},{\"attributes\":{},\"id\":\"d761c1f5-e6de-4078-95df-906fa1681f91\",\"type\":\"BasicTickFormatter\"},{\"attributes\":{\"plot\":null,\"text\":\"\"},\"id\":\"76711fb1-98cf-408a-8fb0-62a6fc3a4f27\",\"type\":\"Title\"},{\"attributes\":{},\"id\":\"25d83098-d737-401f-a0ce-20016b959f7d\",\"type\":\"SaveTool\"},{\"attributes\":{},\"id\":\"ead25e30-60e1-4bb0-bbc3-4b67e37fd697\",\"type\":\"UnionRenderers\"},{\"attributes\":{\"callback\":null,\"end\":0.029961189806799998,\"start\":-0.3268783771268},\"id\":\"b8f16ada-348c-4186-874b-92b2678f3d02\",\"type\":\"Range1d\"},{\"attributes\":{\"callback\":null,\"data\":{\"x\":{\"__ndarray__\":\"xDa/Y0s4gT/c44ExoCCDP9z9YY7QnYY/UJb0w87siT/Ywh4cLfyMP7Sae3nh4I8/+GKkRmpAkT+QlhNhDH6SPyjS1GZwmJM/QHv+0F2tlD/474YQItGVPxBAbeFCA5c/OPjvyCx0mD8AR8ntGiWaP4wrKrEW15o/UPCp/e/jlz90k9ziZ5SIP4ww2mZQ1Hq/iM1hrrXNnr9wxbOaF1ysvwiEBSGoNLS/UHsZcXO9ur9gRwmF/sW/v3BPFza+B7W/gPMP2UK7g78ATKcGfnpqvwAo4U6RX4G/ACY58XAagT/g8sasixmgP5DyVSuBP6c/hIQBBUcbpT/i9U2TuiGZP2AQWBZclX8/YIK6Jrc9gb+A3nSOq9iavyCh/BpW46S/qGtMFNHSpL/cj5zLWxWhv1CA33c2oZm/mMciOv1BkL+QZHkh3UuCv7AkXqOHz3W/4P1djHopab8AxdH+S75Xv4AEjMHS3zy/AD8rOB7dKD+AygABf7lFPwAFCAhPkk8/4NXNYRvdUj8Q3cVmmMVUP2C+7ha/p1U/WIYgkdyiVT/oEfs2YChVP7hYm1mjS1Q/B0QceFg+Uz9lrUqCkPRRP/R7J7fuilA/YFg87DoLTj9AtwLnrKxKP8CX75UHDUc/oItiaEhJQz+A80Enx2U+P4ATooQKiDY/gBjI7lm/LD8AvzD6wWkXPwAAnjbU7AG/gBoqyKKSJL8AGxebNXExv0AiWiLPdTa/ANlqkuZUOr/APnD2kkc9v8A7ajxO9D+/wHrV74WJQb9geK+cKvxCvyAaNp72n0S/\",\"dtype\":\"float64\",\"shape\":[75]},\"y\":{\"__ndarray__\":\"GhExyth1ND/Sv8nbtpRIP2vylNV0PVE/aTum7souWD/At0SJ8fVgPw3Iuahxymc/MSNhhJWvcD/bTfBN02d3P2zb5nxnaoA/CD5h5MAGhz8NmeH1TyaQP+zrCsc9p5Y/LbKd76fGnz/bLW5ISEmmPww9YvTcQq8/JV2OstnstT8Er5Y7M8G+P0c+r3jqkcU/5h99k6ZBzj88bCIzFzjVP4enV8oyxN0//yH99nXg5D8qOpLLf0jtP5kqGJXUifQ/c9cS8kHP/D+/DpwzojQEQIEmwoanVwxA4lgXt9HgE0BSSZ2AJuIbQAMJih9jjiNA5q4l5INuK0AwTKYKRj0zQNv5fmq8/DpAaCJseHrtQkB/+zpwzoxKQM3MzMzMeFJAZmZmZmZqWEAAAAAAAFxeQM3MzMzMJmJAmpmZmZkfZUBmZmZmZhhoQDMzMzMzEWtAAAAAAAAKbkBmZmZmZoFwQM3MzMzM/XFAMzMzMzN6c0CamZmZmfZ0QAAAAAAAc3ZAZmZmZmbvd0DNzMzMzGt5QDMzMzMz6HpAmpmZmZlkfEAAAAAAAOF9QGZmZmZmXX9AZmZmZuZsgECamZmZGSuBQM3MzMxM6YFAAAAAAICngkAzMzMzs2WDQGZmZmbmI4RAmpmZmRnihEDNzMzMTKCFQAAAAACAXoZAMzMzM7Mch0BmZmZm5tqHQJqZmZkZmYhAzczMzExXiUAAAAAAgBWKQDMzMzOz04pAZmZmZuaRi0CamZmZGVCMQM3MzMxMDo1AAAAAAIDMjUAzMzMzs4qOQGZmZmbmSI9A\",\"dtype\":\"float64\",\"shape\":[75]}},\"selected\":{\"id\":\"f92ca1b8-d01a-42ef-befd-fdd67bf454c2\",\"type\":\"Selection\"},\"selection_policy\":{\"id\":\"90f4257d-bf77-47b5-911b-f358a25a0135\",\"type\":\"UnionRenderers\"}},\"id\":\"0e6c58f5-1acf-4105-aa08-fed48a14fb74\",\"type\":\"ColumnDataSource\"},{\"attributes\":{\"num_minor_ticks\":10},\"id\":\"1a1e3a4b-68fa-4077-8463-372c29316d8f\",\"type\":\"LogTicker\"},{\"attributes\":{},\"id\":\"f68d08b5-8101-4e58-b8c8-7a5917a7da1b\",\"type\":\"BasicTicker\"},{\"attributes\":{},\"id\":\"5f44e497-cceb-43f7-a595-41389ade4ca1\",\"type\":\"PanTool\"},{\"attributes\":{\"callback\":null,\"data\":{\"x\":{\"__ndarray__\":\"xDa/Y0s4gT/c44ExoCCDP9z9YY7QnYY/UJb0w87siT/Ywh4cLfyMP7Sae3nh4I8/+GKkRmpAkT+QlhNhDH6SPyjS1GZwmJM/QHv+0F2tlD/474YQItGVPxBAbeFCA5c/OPjvyCx0mD8AR8ntGiWaP4wrKrEW15o/UPCp/e/jlz90k9ziZ5SIP4ww2mZQ1Hq/iM1hrrXNnr9wxbOaF1ysvwiEBSGoNLS/UHsZcXO9ur9gRwmF/sW/v3BPFza+B7W/gPMP2UK7g78ATKcGfnpqvwAo4U6RX4G/ACY58XAagT/g8sasixmgP5DyVSuBP6c/hIQBBUcbpT/i9U2TuiGZP2AQWBZclX8/YIK6Jrc9gb+A3nSOq9iavyCh/BpW46S/qGtMFNHSpL/cj5zLWxWhv1CA33c2oZm/mMciOv1BkL+QZHkh3UuCv7AkXqOHz3W/4P1djHopab8AxdH+S75Xv4AEjMHS3zy/AD8rOB7dKD+AygABf7lFPwAFCAhPkk8/4NXNYRvdUj8Q3cVmmMVUP2C+7ha/p1U/WIYgkdyiVT/oEfs2YChVP7hYm1mjS1Q/B0QceFg+Uz9lrUqCkPRRP/R7J7fuilA/YFg87DoLTj9AtwLnrKxKP8CX75UHDUc/oItiaEhJQz+A80Enx2U+P4ATooQKiDY/gBjI7lm/LD8AvzD6wWkXPwAAnjbU7AG/gBoqyKKSJL8AGxebNXExv0AiWiLPdTa/ANlqkuZUOr/APnD2kkc9v8A7ajxO9D+/wHrV74WJQb9geK+cKvxCvyAaNp72n0S/\",\"dtype\":\"float64\",\"shape\":[75]},\"y\":{\"__ndarray__\":\"GhExyth1ND/Sv8nbtpRIP2vylNV0PVE/aTum7souWD/At0SJ8fVgPw3Iuahxymc/MSNhhJWvcD/bTfBN02d3P2zb5nxnaoA/CD5h5MAGhz8NmeH1TyaQP+zrCsc9p5Y/LbKd76fGnz/bLW5ISEmmPww9YvTcQq8/JV2OstnstT8Er5Y7M8G+P0c+r3jqkcU/5h99k6ZBzj88bCIzFzjVP4enV8oyxN0//yH99nXg5D8qOpLLf0jtP5kqGJXUifQ/c9cS8kHP/D+/DpwzojQEQIEmwoanVwxA4lgXt9HgE0BSSZ2AJuIbQAMJih9jjiNA5q4l5INuK0AwTKYKRj0zQNv5fmq8/DpAaCJseHrtQkB/+zpwzoxKQM3MzMzMeFJAZmZmZmZqWEAAAAAAAFxeQM3MzMzMJmJAmpmZmZkfZUBmZmZmZhhoQDMzMzMzEWtAAAAAAAAKbkBmZmZmZoFwQM3MzMzM/XFAMzMzMzN6c0CamZmZmfZ0QAAAAAAAc3ZAZmZmZmbvd0DNzMzMzGt5QDMzMzMz6HpAmpmZmZlkfEAAAAAAAOF9QGZmZmZmXX9AZmZmZuZsgECamZmZGSuBQM3MzMxM6YFAAAAAAICngkAzMzMzs2WDQGZmZmbmI4RAmpmZmRnihEDNzMzMTKCFQAAAAACAXoZAMzMzM7Mch0BmZmZm5tqHQJqZmZkZmYhAzczMzExXiUAAAAAAgBWKQDMzMzOz04pAZmZmZuaRi0CamZmZGVCMQM3MzMxMDo1AAAAAAIDMjUAzMzMzs4qOQGZmZmbmSI9A\",\"dtype\":\"float64\",\"shape\":[75]}},\"selected\":{\"id\":\"07e6b685-8196-4847-ad0c-6c4e3b5b00bd\",\"type\":\"Selection\"},\"selection_policy\":{\"id\":\"15308d88-e350-493a-b9b8-49e43d9504da\",\"type\":\"UnionRenderers\"}},\"id\":\"11a6d1ed-46e6-42ce-9941-fc9fc58aae75\",\"type\":\"ColumnDataSource\"},{\"attributes\":{},\"id\":\"1edf247b-7311-46ae-8686-9b0adf53a0d5\",\"type\":\"ResetTool\"},{\"attributes\":{\"line_alpha\":0.1,\"line_color\":\"#1f77b4\",\"line_width\":1.5,\"x\":{\"field\":\"x\"},\"y\":{\"field\":\"y\"}},\"id\":\"b685139f-fc22-479e-8dd0-9babc8653b95\",\"type\":\"Line\"},{\"attributes\":{\"active_drag\":\"auto\",\"active_inspect\":\"auto\",\"active_scroll\":\"auto\",\"active_tap\":\"auto\",\"tools\":[{\"id\":\"a9f6ce98-3d27-4423-b40f-24d8b4965df0\",\"type\":\"PanTool\"},{\"id\":\"dca37764-8570-4da7-8b68-2f36a776cf80\",\"type\":\"WheelZoomTool\"},{\"id\":\"f13ba5a9-2886-42b1-a417-2dfbe7085baf\",\"type\":\"BoxZoomTool\"},{\"id\":\"ee2d05c7-116f-4ead-908a-73ce3f03fe57\",\"type\":\"SaveTool\"},{\"id\":\"c999f325-48d9-4995-959b-b0dc87cf3c0a\",\"type\":\"ResetTool\"},{\"id\":\"1f37b512-aaed-47ce-93dc-2909b717985a\",\"type\":\"HelpTool\"}]},\"id\":\"26079afe-497c-4f8b-b48f-e7b097e5169f\",\"type\":\"Toolbar\"},{\"attributes\":{\"above\":[{\"id\":\"d7fccd54-91d1-4486-ab64-9f914d49d8ca\",\"type\":\"Legend\"}],\"below\":[{\"id\":\"4951e397-7c1f-4f57-942a-e6811bf2febd\",\"type\":\"LinearAxis\"}],\"left\":[{\"id\":\"3883b234-b432-49b3-9283-24d27c24b889\",\"type\":\"LogAxis\"}],\"plot_width\":300,\"renderers\":[{\"id\":\"4951e397-7c1f-4f57-942a-e6811bf2febd\",\"type\":\"LinearAxis\"},{\"id\":\"3b923285-f9e6-42ff-9a4b-5bf8651b461c\",\"type\":\"Grid\"},{\"id\":\"3883b234-b432-49b3-9283-24d27c24b889\",\"type\":\"LogAxis\"},{\"id\":\"bf818208-a405-4f01-ab40-33a5f7a2e4bb\",\"type\":\"Grid\"},{\"id\":\"be1189de-8f8d-4c73-8d95-e6f2e788a441\",\"type\":\"BoxAnnotation\"},{\"id\":\"0f3d0081-9507-4a3c-90a7-cf4dd76a1e48\",\"type\":\"GlyphRenderer\"},{\"id\":\"2966a817-661a-47bb-b627-79109c69f9cd\",\"type\":\"GlyphRenderer\"},{\"id\":\"d7fccd54-91d1-4486-ab64-9f914d49d8ca\",\"type\":\"Legend\"}],\"title\":{\"id\":\"76711fb1-98cf-408a-8fb0-62a6fc3a4f27\",\"type\":\"Title\"},\"toolbar\":{\"id\":\"08fd1ca2-09bf-4d74-8cf7-09da17b0bd1f\",\"type\":\"Toolbar\"},\"toolbar_location\":null,\"x_range\":{\"id\":\"7415e24d-694d-4275-95c0-c76b6b6044a6\",\"type\":\"Range1d\"},\"x_scale\":{\"id\":\"146c9a4d-1c91-41e6-aa20-36f5ad341eb4\",\"type\":\"LinearScale\"},\"y_range\":{\"id\":\"117c0158-568f-4f53-8f63-981aac1518ce\",\"type\":\"Range1d\"},\"y_scale\":{\"id\":\"4bb75a20-d4ec-437e-a182-fd1eab789b24\",\"type\":\"LogScale\"}},\"id\":\"bb0a3175-6e87-4b65-99f9-b7e4b23daf74\",\"subtype\":\"Figure\",\"type\":\"Plot\"},{\"attributes\":{},\"id\":\"1f62251f-0825-4c68-afed-a21dfad9e7a5\",\"type\":\"UnionRenderers\"},{\"attributes\":{\"children\":[{\"id\":\"3fa399cf-6722-40d6-9c06-96ef074f8b07\",\"type\":\"Row\"}]},\"id\":\"f395c454-370c-4e88-9473-8bc5460d29f7\",\"type\":\"Column\"},{\"attributes\":{\"items\":[{\"id\":\"45dac9e2-9762-4fd0-a0b3-9d33477ba7c6\",\"type\":\"LegendItem\"},{\"id\":\"76649ea2-1e04-4111-b79f-196000e4caf4\",\"type\":\"LegendItem\"}],\"label_text_font_size\":{\"value\":\"8pt\"},\"location\":\"top_center\",\"orientation\":\"horizontal\",\"plot\":{\"id\":\"29f4fcca-a858-4c70-83e4-bb83998a02c8\",\"subtype\":\"Figure\",\"type\":\"Plot\"}},\"id\":\"cf1d8020-83c3-431a-8012-f66e29b22732\",\"type\":\"Legend\"},{\"attributes\":{\"ticker\":null},\"id\":\"4723c266-14b2-4c87-86ef-5a6cd724af6e\",\"type\":\"LogTickFormatter\"},{\"attributes\":{\"plot\":{\"id\":\"29f4fcca-a858-4c70-83e4-bb83998a02c8\",\"subtype\":\"Figure\",\"type\":\"Plot\"},\"ticker\":{\"id\":\"f68d08b5-8101-4e58-b8c8-7a5917a7da1b\",\"type\":\"BasicTicker\"}},\"id\":\"07de8420-b2b0-40d1-885a-d8dc29a79eba\",\"type\":\"Grid\"},{\"attributes\":{\"line_alpha\":0.6,\"line_color\":\"#e41a1c\",\"line_dash\":[6],\"line_width\":5,\"x\":{\"field\":\"x\"},\"y\":{\"field\":\"y\"}},\"id\":\"fa24d0cd-d937-4944-b57b-5f1c9c288e06\",\"type\":\"Line\"},{\"attributes\":{\"line_alpha\":0.1,\"line_color\":\"#1f77b4\",\"line_width\":1.5,\"x\":{\"field\":\"x\"},\"y\":{\"field\":\"y\"}},\"id\":\"72cb80dc-2435-4642-b791-200045e113d4\",\"type\":\"Line\"},{\"attributes\":{},\"id\":\"2270a9a5-177e-4928-8cb8-4c146e6d60e8\",\"type\":\"LinearScale\"},{\"attributes\":{},\"id\":\"90f4257d-bf77-47b5-911b-f358a25a0135\",\"type\":\"UnionRenderers\"},{\"attributes\":{\"dimension\":1,\"plot\":{\"id\":\"29f4fcca-a858-4c70-83e4-bb83998a02c8\",\"subtype\":\"Figure\",\"type\":\"Plot\"},\"ticker\":{\"id\":\"29cd24f0-be5d-43e4-9845-239ea44065f8\",\"type\":\"BasicTicker\"}},\"id\":\"3126950d-25f2-48ab-8bba-3e8a7bebea1b\",\"type\":\"Grid\"},{\"attributes\":{},\"id\":\"17e92ab4-823d-43f8-912e-a5a6c48e3d29\",\"type\":\"BasicTickFormatter\"},{\"attributes\":{},\"id\":\"f988f0c0-35c0-488f-a1b2-b0582aa8081f\",\"type\":\"UnionRenderers\"},{\"attributes\":{\"axis_label\":\"cooling rate [K/day]\",\"formatter\":{\"id\":\"d761c1f5-e6de-4078-95df-906fa1681f91\",\"type\":\"BasicTickFormatter\"},\"plot\":{\"id\":\"29f4fcca-a858-4c70-83e4-bb83998a02c8\",\"subtype\":\"Figure\",\"type\":\"Plot\"},\"ticker\":{\"id\":\"f68d08b5-8101-4e58-b8c8-7a5917a7da1b\",\"type\":\"BasicTicker\"}},\"id\":\"82725f08-e163-4d9a-8252-970e2b973c5f\",\"type\":\"LinearAxis\"},{\"attributes\":{},\"id\":\"07e6b685-8196-4847-ad0c-6c4e3b5b00bd\",\"type\":\"Selection\"},{\"attributes\":{\"data_source\":{\"id\":\"848202e9-c1fe-4681-b849-81903fe31b05\",\"type\":\"ColumnDataSource\"},\"glyph\":{\"id\":\"fa24d0cd-d937-4944-b57b-5f1c9c288e06\",\"type\":\"Line\"},\"hover_glyph\":null,\"muted_glyph\":null,\"nonselection_glyph\":{\"id\":\"5097add3-496b-41ea-938e-bd036b4b05e3\",\"type\":\"Line\"},\"selection_glyph\":null,\"view\":{\"id\":\"a7819a5a-ea38-4da1-9b92-dfbea0de277c\",\"type\":\"CDSView\"}},\"id\":\"c27dbc5b-c8a5-4aa5-b03f-cef984b99637\",\"type\":\"GlyphRenderer\"},{\"attributes\":{},\"id\":\"29cd24f0-be5d-43e4-9845-239ea44065f8\",\"type\":\"BasicTicker\"},{\"attributes\":{},\"id\":\"15308d88-e350-493a-b9b8-49e43d9504da\",\"type\":\"UnionRenderers\"},{\"attributes\":{\"callback\":null,\"end\":2.01700502749,\"start\":-0.34655207849},\"id\":\"24b1c806-4235-4bcf-a5dc-2faa4032741c\",\"type\":\"Range1d\"},{\"attributes\":{\"ticker\":null},\"id\":\"6bdb0fa8-8688-4429-a042-ef10cdea9a0b\",\"type\":\"LogTickFormatter\"},{\"attributes\":{},\"id\":\"dc7a8521-16ce-448d-8208-287ef87591d7\",\"type\":\"UnionRenderers\"},{\"attributes\":{\"children\":[{\"id\":\"6632002f-4e6f-493a-8d24-21f22a98af12\",\"type\":\"ToolbarBox\"},{\"id\":\"f395c454-370c-4e88-9473-8bc5460d29f7\",\"type\":\"Column\"}]},\"id\":\"d580d601-40db-479a-8757-048949d6fe99\",\"type\":\"Column\"},{\"attributes\":{\"tools\":[{\"id\":\"a9f6ce98-3d27-4423-b40f-24d8b4965df0\",\"type\":\"PanTool\"},{\"id\":\"dca37764-8570-4da7-8b68-2f36a776cf80\",\"type\":\"WheelZoomTool\"},{\"id\":\"f13ba5a9-2886-42b1-a417-2dfbe7085baf\",\"type\":\"BoxZoomTool\"},{\"id\":\"ee2d05c7-116f-4ead-908a-73ce3f03fe57\",\"type\":\"SaveTool\"},{\"id\":\"c999f325-48d9-4995-959b-b0dc87cf3c0a\",\"type\":\"ResetTool\"},{\"id\":\"1f37b512-aaed-47ce-93dc-2909b717985a\",\"type\":\"HelpTool\"},{\"id\":\"06324a85-62d4-420b-8158-edf4314c4c01\",\"type\":\"PanTool\"},{\"id\":\"43066828-a4c8-4321-93b7-e4b7b8711d9c\",\"type\":\"WheelZoomTool\"},{\"id\":\"2ac8812b-06a3-43ae-8836-49c4095c9ac8\",\"type\":\"BoxZoomTool\"},{\"id\":\"166f8b37-7933-40ff-b841-b84f9159d744\",\"type\":\"SaveTool\"},{\"id\":\"3578c75a-5c97-43b2-98f0-9a4fc88b4009\",\"type\":\"ResetTool\"},{\"id\":\"651a11a9-557d-4789-9860-7720d379bb5e\",\"type\":\"HelpTool\"},{\"id\":\"5f44e497-cceb-43f7-a595-41389ade4ca1\",\"type\":\"PanTool\"},{\"id\":\"5f879e4c-67c2-4343-9d46-730c134f4ee4\",\"type\":\"WheelZoomTool\"},{\"id\":\"31563cb4-5557-452a-a7cf-495bf2edfe57\",\"type\":\"BoxZoomTool\"},{\"id\":\"25d83098-d737-401f-a0ce-20016b959f7d\",\"type\":\"SaveTool\"},{\"id\":\"1edf247b-7311-46ae-8686-9b0adf53a0d5\",\"type\":\"ResetTool\"},{\"id\":\"486d7d0f-014b-42ef-850d-54d86a08602f\",\"type\":\"HelpTool\"}]},\"id\":\"fcf30bad-b4d7-42bb-8041-2ff44c60437f\",\"type\":\"ProxyToolbar\"},{\"attributes\":{},\"id\":\"f92ca1b8-d01a-42ef-befd-fdd67bf454c2\",\"type\":\"Selection\"},{\"attributes\":{},\"id\":\"cf8d4863-cdb8-4030-bc62-137fb8ac25ad\",\"type\":\"Selection\"},{\"attributes\":{},\"id\":\"37ebd8d1-9b9f-4a57-88a3-a875e0a4bc27\",\"type\":\"Selection\"},{\"attributes\":{},\"id\":\"ce00e8fe-583d-4c5a-9435-cebbfd12e046\",\"type\":\"Selection\"},{\"attributes\":{\"plot\":null,\"text\":\"\"},\"id\":\"9b088f29-8032-4d13-ad14-981b9b55a735\",\"type\":\"Title\"},{\"attributes\":{\"overlay\":{\"id\":\"5d6df165-301a-4d98-844e-8a460902c2ac\",\"type\":\"BoxAnnotation\"}},\"id\":\"2ac8812b-06a3-43ae-8836-49c4095c9ac8\",\"type\":\"BoxZoomTool\"},{\"attributes\":{\"above\":[{\"id\":\"cf108ded-ef84-4701-b0ac-ee4a34fef4d6\",\"type\":\"Legend\"}],\"below\":[{\"id\":\"243858af-2e15-4d72-bbab-394ec2414125\",\"type\":\"LinearAxis\"}],\"left\":[{\"id\":\"4418e786-d454-4d53-866c-22b92a9a636f\",\"type\":\"LogAxis\"}],\"plot_width\":300,\"renderers\":[{\"id\":\"243858af-2e15-4d72-bbab-394ec2414125\",\"type\":\"LinearAxis\"},{\"id\":\"743cd0e6-1b47-4625-8d76-d2b7fbc98873\",\"type\":\"Grid\"},{\"id\":\"4418e786-d454-4d53-866c-22b92a9a636f\",\"type\":\"LogAxis\"},{\"id\":\"22b113da-51ec-4c6c-873c-ec33fe668ecc\",\"type\":\"Grid\"},{\"id\":\"5d6df165-301a-4d98-844e-8a460902c2ac\",\"type\":\"BoxAnnotation\"},{\"id\":\"dea388c2-8580-4eb6-b505-08a4246def87\",\"type\":\"GlyphRenderer\"},{\"id\":\"d33977e7-348e-4608-b949-b051d8e2c107\",\"type\":\"GlyphRenderer\"},{\"id\":\"c9e4d57e-7a7a-4905-ad01-65b9c7cb9f6c\",\"type\":\"GlyphRenderer\"},{\"id\":\"cf108ded-ef84-4701-b0ac-ee4a34fef4d6\",\"type\":\"Legend\"}],\"title\":{\"id\":\"9b088f29-8032-4d13-ad14-981b9b55a735\",\"type\":\"Title\"},\"toolbar\":{\"id\":\"df2e00e0-a647-4459-bed8-26c90ede93c1\",\"type\":\"Toolbar\"},\"toolbar_location\":null,\"x_range\":{\"id\":\"24b1c806-4235-4bcf-a5dc-2faa4032741c\",\"type\":\"Range1d\"},\"x_scale\":{\"id\":\"72847111-183c-42a5-ae43-181dd7fa5631\",\"type\":\"LinearScale\"},\"y_range\":{\"id\":\"d9481d88-1479-450f-8e79-698005396510\",\"type\":\"Range1d\"},\"y_scale\":{\"id\":\"8fdf1711-fce6-4e16-8d90-5e1a36926d92\",\"type\":\"LogScale\"}},\"id\":\"fa458cae-3075-4078-b201-52a11805edfd\",\"subtype\":\"Figure\",\"type\":\"Plot\"},{\"attributes\":{\"label\":{\"value\":\"CRD\"},\"renderers\":[{\"id\":\"f5d5809c-328e-45a8-a575-fedc2b84a179\",\"type\":\"GlyphRenderer\"},{\"id\":\"72c459f3-fc25-4cc8-aef3-96b86f4f5a62\",\"type\":\"GlyphRenderer\"}]},\"id\":\"76649ea2-1e04-4111-b79f-196000e4caf4\",\"type\":\"LegendItem\"},{\"attributes\":{},\"id\":\"f37c6328-b9da-467a-90b0-d1620a10e68f\",\"type\":\"BasicTicker\"},{\"attributes\":{\"callback\":null,\"end\":0.01,\"start\":1020},\"id\":\"d9481d88-1479-450f-8e79-698005396510\",\"type\":\"Range1d\"},{\"attributes\":{},\"id\":\"4bb75a20-d4ec-437e-a182-fd1eab789b24\",\"type\":\"LogScale\"},{\"attributes\":{\"num_minor_ticks\":10},\"id\":\"f5cd4691-ec02-4f81-9491-00a5ea1b33d0\",\"type\":\"LogTicker\"},{\"attributes\":{\"active_drag\":\"auto\",\"active_inspect\":\"auto\",\"active_scroll\":\"auto\",\"active_tap\":\"auto\",\"tools\":[{\"id\":\"06324a85-62d4-420b-8158-edf4314c4c01\",\"type\":\"PanTool\"},{\"id\":\"43066828-a4c8-4321-93b7-e4b7b8711d9c\",\"type\":\"WheelZoomTool\"},{\"id\":\"2ac8812b-06a3-43ae-8836-49c4095c9ac8\",\"type\":\"BoxZoomTool\"},{\"id\":\"166f8b37-7933-40ff-b841-b84f9159d744\",\"type\":\"SaveTool\"},{\"id\":\"3578c75a-5c97-43b2-98f0-9a4fc88b4009\",\"type\":\"ResetTool\"},{\"id\":\"651a11a9-557d-4789-9860-7720d379bb5e\",\"type\":\"HelpTool\"}]},\"id\":\"df2e00e0-a647-4459-bed8-26c90ede93c1\",\"type\":\"Toolbar\"},{\"attributes\":{\"fill_alpha\":{\"value\":0.7},\"fill_color\":{\"value\":\"#4daf4a\"},\"line_alpha\":{\"value\":0.7},\"line_color\":{\"value\":\"#4daf4a\"},\"x\":{\"field\":\"x\"},\"y\":{\"field\":\"y\"}},\"id\":\"5756b558-556d-46ee-9206-a2563f53cf76\",\"type\":\"Circle\"},{\"attributes\":{\"label\":{\"value\":\"CRD\"},\"renderers\":[{\"id\":\"d33977e7-348e-4608-b949-b051d8e2c107\",\"type\":\"GlyphRenderer\"},{\"id\":\"c9e4d57e-7a7a-4905-ad01-65b9c7cb9f6c\",\"type\":\"GlyphRenderer\"}]},\"id\":\"4cddbc44-a0cc-4708-ae7c-6f8be86919bf\",\"type\":\"LegendItem\"},{\"attributes\":{\"line_alpha\":0.1,\"line_color\":\"#1f77b4\",\"line_dash\":[6],\"line_width\":5,\"x\":{\"field\":\"x\"},\"y\":{\"field\":\"y\"}},\"id\":\"9f2de8ec-a3fa-424e-bc70-61b8982adb3c\",\"type\":\"Line\"},{\"attributes\":{\"fill_alpha\":{\"value\":0.1},\"fill_color\":{\"value\":\"#1f77b4\"},\"line_alpha\":{\"value\":0.1},\"line_color\":{\"value\":\"#1f77b4\"},\"x\":{\"field\":\"x\"},\"y\":{\"field\":\"y\"}},\"id\":\"6abad8f7-58d1-4e53-a5b2-481e9eab8b5d\",\"type\":\"Circle\"},{\"attributes\":{},\"id\":\"651a11a9-557d-4789-9860-7720d379bb5e\",\"type\":\"HelpTool\"},{\"attributes\":{\"source\":{\"id\":\"429e89d6-a34a-48eb-802d-d555f962992e\",\"type\":\"ColumnDataSource\"}},\"id\":\"63db542c-48af-4905-82cc-2b53d04c7533\",\"type\":\"CDSView\"},{\"attributes\":{},\"id\":\"0655376b-998d-4a21-88e8-35b16193a97e\",\"type\":\"BasicTicker\"},{\"attributes\":{},\"id\":\"43066828-a4c8-4321-93b7-e4b7b8711d9c\",\"type\":\"WheelZoomTool\"},{\"attributes\":{\"plot\":{\"id\":\"bb0a3175-6e87-4b65-99f9-b7e4b23daf74\",\"subtype\":\"Figure\",\"type\":\"Plot\"},\"ticker\":{\"id\":\"0655376b-998d-4a21-88e8-35b16193a97e\",\"type\":\"BasicTicker\"}},\"id\":\"3b923285-f9e6-42ff-9a4b-5bf8651b461c\",\"type\":\"Grid\"},{\"attributes\":{\"line_alpha\":0.6,\"line_color\":\"#e41a1c\",\"line_dash\":[6],\"line_width\":5,\"x\":{\"field\":\"x\"},\"y\":{\"field\":\"y\"}},\"id\":\"ca81fc27-7ada-4d39-9cdb-2c2b767a2b82\",\"type\":\"Line\"},{\"attributes\":{\"label\":{\"value\":\"CLIRAD\"},\"renderers\":[{\"id\":\"dea388c2-8580-4eb6-b505-08a4246def87\",\"type\":\"GlyphRenderer\"}]},\"id\":\"82da365e-ce49-44a2-9ea2-2653b843c9d0\",\"type\":\"LegendItem\"},{\"attributes\":{\"label\":{\"value\":\"CLIRAD\"},\"renderers\":[{\"id\":\"c27dbc5b-c8a5-4aa5-b03f-cef984b99637\",\"type\":\"GlyphRenderer\"}]},\"id\":\"45dac9e2-9762-4fd0-a0b3-9d33477ba7c6\",\"type\":\"LegendItem\"},{\"attributes\":{},\"id\":\"166f8b37-7933-40ff-b841-b84f9159d744\",\"type\":\"SaveTool\"},{\"attributes\":{\"items\":[{\"id\":\"2f431ea5-b62d-48c2-9377-a2d86d32acd4\",\"type\":\"LegendItem\"}],\"label_text_font_size\":{\"value\":\"8pt\"},\"location\":\"top_center\",\"orientation\":\"horizontal\",\"plot\":{\"id\":\"bb0a3175-6e87-4b65-99f9-b7e4b23daf74\",\"subtype\":\"Figure\",\"type\":\"Plot\"}},\"id\":\"d7fccd54-91d1-4486-ab64-9f914d49d8ca\",\"type\":\"Legend\"},{\"attributes\":{\"axis_label\":\"pressure [mb]\",\"formatter\":{\"id\":\"6bdb0fa8-8688-4429-a042-ef10cdea9a0b\",\"type\":\"LogTickFormatter\"},\"plot\":{\"id\":\"fa458cae-3075-4078-b201-52a11805edfd\",\"subtype\":\"Figure\",\"type\":\"Plot\"},\"ticker\":{\"id\":\"f5cd4691-ec02-4f81-9491-00a5ea1b33d0\",\"type\":\"LogTicker\"}},\"id\":\"4418e786-d454-4d53-866c-22b92a9a636f\",\"type\":\"LogAxis\"},{\"attributes\":{\"callback\":null,\"data\":{\"x\":{\"__ndarray__\":\"dw1ZClb0o78jPF1FaTOmv2Mkzl4DiKq/5f4kZoivrr8i8j7P3VWxvwtXi44NP7O/m7WQbd8Rtb8GvBLW8c22v+UDwe67c7i/ZsrNB7IEur9B5kiGZoq7v9CXKVLwBb2/83wF8R2Cvr+NC6VoNvu/v5OJT0lzPsC/7Vz+OTwqvr+0Dk5weuWxv7YwFDrrj6A/4iHVvpx8yT8KUmTnNlHcPwUqdoxY0Og/EAS27fV68z/F+EcXT7j7P0xNblO95v8/NDGSeqWl/D9LVArihfr2P/6D9IaO/PA/RK9Oa93R5z8x4xpdrbTgPzkrjvnzg9Y/6G5En2Loxj9sqAvh6hqFP0wE1bZNp7u/ykieLPN9yL+PFDHv6LTQv6MT/A3XFdK/onM4I5wA0L+P3s6QurXLv6YUVpOwwsm/2NL1XuIKx7/hG7cNZHPCv+9nnHl+QL2/GDBpUb0DuL+AE7hbLCqzvyKlWLz4pa6/7+N3AvmMqb9KBg7VhTmlv+atJuWKOqG/ws9sJIKlm78ie6INgeSVvz/iqj0rs5C/rhzpdR8diL861B6Gkcl/v/IeQkFSkHG/4OGrz2HjU7+FGBhmwMlZP3qdcHtX5XA/41i31Q2Pej+83PcwkrmBPxc4lnzX3IU/KkWJNXK6iT9MGpbAi0aNP2X5paRGS5A/OYjIUZzckT/HO7f9qE6TP/JvZdkGmpQ/N/X8RC3XlT/SKvjNzgOXP9T+qjfp+Zc/jh6E/ce2mD+8EGbgmk2ZP6mn9h/D05k/0agMLGJMmj9cBlwyibeaP3fyFvENGZs/\",\"dtype\":\"float64\",\"shape\":[75]},\"y\":{\"__ndarray__\":\"GhExyth1ND/Sv8nbtpRIP2vylNV0PVE/aTum7souWD/At0SJ8fVgPw3Iuahxymc/MSNhhJWvcD/bTfBN02d3P2zb5nxnaoA/CD5h5MAGhz8NmeH1TyaQP+zrCsc9p5Y/LbKd76fGnz/bLW5ISEmmPww9YvTcQq8/JV2OstnstT8Er5Y7M8G+P0c+r3jqkcU/5h99k6ZBzj88bCIzFzjVP4enV8oyxN0//yH99nXg5D8qOpLLf0jtP5kqGJXUifQ/c9cS8kHP/D+/DpwzojQEQIEmwoanVwxA4lgXt9HgE0BSSZ2AJuIbQAMJih9jjiNA5q4l5INuK0AwTKYKRj0zQNv5fmq8/DpAaCJseHrtQkB/+zpwzoxKQM3MzMzMeFJAZmZmZmZqWEAAAAAAAFxeQM3MzMzMJmJAmpmZmZkfZUBmZmZmZhhoQDMzMzMzEWtAAAAAAAAKbkBmZmZmZoFwQM3MzMzM/XFAMzMzMzN6c0CamZmZmfZ0QAAAAAAAc3ZAZmZmZmbvd0DNzMzMzGt5QDMzMzMz6HpAmpmZmZlkfEAAAAAAAOF9QGZmZmZmXX9AZmZmZuZsgECamZmZGSuBQM3MzMxM6YFAAAAAAICngkAzMzMzs2WDQGZmZmbmI4RAmpmZmRnihEDNzMzMTKCFQAAAAACAXoZAMzMzM7Mch0BmZmZm5tqHQJqZmZkZmYhAzczMzExXiUAAAAAAgBWKQDMzMzOz04pAZmZmZuaRi0CamZmZGVCMQM3MzMxMDo1AAAAAAIDMjUAzMzMzs4qOQGZmZmbmSI9A\",\"dtype\":\"float64\",\"shape\":[75]}},\"selected\":{\"id\":\"cf8d4863-cdb8-4030-bc62-137fb8ac25ad\",\"type\":\"Selection\"},\"selection_policy\":{\"id\":\"8ae69b65-c51f-4b20-a82f-b0a2d1ba5d51\",\"type\":\"UnionRenderers\"}},\"id\":\"4053a64b-8e54-4cf2-bec5-2c76cd2aef94\",\"type\":\"ColumnDataSource\"},{\"attributes\":{\"callback\":null,\"data\":{\"x\":{\"__ndarray__\":\"dw1ZClb0o78jPF1FaTOmv2Mkzl4DiKq/5f4kZoivrr8i8j7P3VWxvwtXi44NP7O/m7WQbd8Rtb8GvBLW8c22v+UDwe67c7i/ZsrNB7IEur9B5kiGZoq7v9CXKVLwBb2/83wF8R2Cvr+NC6VoNvu/v5OJT0lzPsC/7Vz+OTwqvr+0Dk5weuWxv7YwFDrrj6A/4iHVvpx8yT8KUmTnNlHcPwUqdoxY0Og/EAS27fV68z/F+EcXT7j7P0xNblO95v8/NDGSeqWl/D9LVArihfr2P/6D9IaO/PA/RK9Oa93R5z8x4xpdrbTgPzkrjvnzg9Y/6G5En2Loxj9sqAvh6hqFP0wE1bZNp7u/ykieLPN9yL+PFDHv6LTQv6MT/A3XFdK/onM4I5wA0L+P3s6QurXLv6YUVpOwwsm/2NL1XuIKx7/hG7cNZHPCv+9nnHl+QL2/GDBpUb0DuL+AE7hbLCqzvyKlWLz4pa6/7+N3AvmMqb9KBg7VhTmlv+atJuWKOqG/ws9sJIKlm78ie6INgeSVvz/iqj0rs5C/rhzpdR8diL861B6Gkcl/v/IeQkFSkHG/4OGrz2HjU7+FGBhmwMlZP3qdcHtX5XA/41i31Q2Pej+83PcwkrmBPxc4lnzX3IU/KkWJNXK6iT9MGpbAi0aNP2X5paRGS5A/OYjIUZzckT/HO7f9qE6TP/JvZdkGmpQ/N/X8RC3XlT/SKvjNzgOXP9T+qjfp+Zc/jh6E/ce2mD+8EGbgmk2ZP6mn9h/D05k/0agMLGJMmj9cBlwyibeaP3fyFvENGZs/\",\"dtype\":\"float64\",\"shape\":[75]},\"y\":{\"__ndarray__\":\"GhExyth1ND/Sv8nbtpRIP2vylNV0PVE/aTum7souWD/At0SJ8fVgPw3Iuahxymc/MSNhhJWvcD/bTfBN02d3P2zb5nxnaoA/CD5h5MAGhz8NmeH1TyaQP+zrCsc9p5Y/LbKd76fGnz/bLW5ISEmmPww9YvTcQq8/JV2OstnstT8Er5Y7M8G+P0c+r3jqkcU/5h99k6ZBzj88bCIzFzjVP4enV8oyxN0//yH99nXg5D8qOpLLf0jtP5kqGJXUifQ/c9cS8kHP/D+/DpwzojQEQIEmwoanVwxA4lgXt9HgE0BSSZ2AJuIbQAMJih9jjiNA5q4l5INuK0AwTKYKRj0zQNv5fmq8/DpAaCJseHrtQkB/+zpwzoxKQM3MzMzMeFJAZmZmZmZqWEAAAAAAAFxeQM3MzMzMJmJAmpmZmZkfZUBmZmZmZhhoQDMzMzMzEWtAAAAAAAAKbkBmZmZmZoFwQM3MzMzM/XFAMzMzMzN6c0CamZmZmfZ0QAAAAAAAc3ZAZmZmZmbvd0DNzMzMzGt5QDMzMzMz6HpAmpmZmZlkfEAAAAAAAOF9QGZmZmZmXX9AZmZmZuZsgECamZmZGSuBQM3MzMxM6YFAAAAAAICngkAzMzMzs2WDQGZmZmbmI4RAmpmZmRnihEDNzMzMTKCFQAAAAACAXoZAMzMzM7Mch0BmZmZm5tqHQJqZmZkZmYhAzczMzExXiUAAAAAAgBWKQDMzMzOz04pAZmZmZuaRi0CamZmZGVCMQM3MzMxMDo1AAAAAAIDMjUAzMzMzs4qOQGZmZmbmSI9A\",\"dtype\":\"float64\",\"shape\":[75]}},\"selected\":{\"id\":\"9cb927d7-ea49-4fc3-802b-c37a4493ba1d\",\"type\":\"Selection\"},\"selection_policy\":{\"id\":\"1f62251f-0825-4c68-afed-a21dfad9e7a5\",\"type\":\"UnionRenderers\"}},\"id\":\"71b34032-dfa5-44cb-821a-e5bce7e70579\",\"type\":\"ColumnDataSource\"},{\"attributes\":{\"fill_alpha\":{\"value\":0.7},\"fill_color\":{\"value\":\"#4daf4a\"},\"line_alpha\":{\"value\":0.7},\"line_color\":{\"value\":\"#4daf4a\"},\"x\":{\"field\":\"x\"},\"y\":{\"field\":\"y\"}},\"id\":\"2408329b-33f4-4a04-acce-4d35ad652332\",\"type\":\"Circle\"},{\"attributes\":{\"data_source\":{\"id\":\"34ceeec3-831c-4029-95f8-98f816ea8414\",\"type\":\"ColumnDataSource\"},\"glyph\":{\"id\":\"e88b089b-50a2-410e-a82e-a7e1b3ed56de\",\"type\":\"Line\"},\"hover_glyph\":null,\"muted_glyph\":null,\"nonselection_glyph\":{\"id\":\"e8bfeff9-88c3-4d12-bd1c-8dc1a7b4d284\",\"type\":\"Line\"},\"selection_glyph\":null,\"view\":{\"id\":\"18b0206b-b686-4d7a-af8d-fc7d2248692f\",\"type\":\"CDSView\"}},\"id\":\"72c459f3-fc25-4cc8-aef3-96b86f4f5a62\",\"type\":\"GlyphRenderer\"},{\"attributes\":{},\"id\":\"146c9a4d-1c91-41e6-aa20-36f5ad341eb4\",\"type\":\"LinearScale\"},{\"attributes\":{},\"id\":\"06324a85-62d4-420b-8158-edf4314c4c01\",\"type\":\"PanTool\"},{\"attributes\":{\"callback\":null,\"end\":0.01,\"start\":1020},\"id\":\"117c0158-568f-4f53-8f63-981aac1518ce\",\"type\":\"Range1d\"},{\"attributes\":{\"callback\":null,\"data\":{\"x\":{\"__ndarray__\":\"dw1ZClb0o78jPF1FaTOmv2Mkzl4DiKq/5f4kZoivrr8i8j7P3VWxvwtXi44NP7O/m7WQbd8Rtb8GvBLW8c22v+UDwe67c7i/ZsrNB7IEur9B5kiGZoq7v9CXKVLwBb2/83wF8R2Cvr+NC6VoNvu/v5OJT0lzPsC/7Vz+OTwqvr+0Dk5weuWxv7YwFDrrj6A/4iHVvpx8yT8KUmTnNlHcPwUqdoxY0Og/EAS27fV68z/F+EcXT7j7P0xNblO95v8/NDGSeqWl/D9LVArihfr2P/6D9IaO/PA/RK9Oa93R5z8x4xpdrbTgPzkrjvnzg9Y/6G5En2Loxj9sqAvh6hqFP0wE1bZNp7u/ykieLPN9yL+PFDHv6LTQv6MT/A3XFdK/onM4I5wA0L+P3s6QurXLv6YUVpOwwsm/2NL1XuIKx7/hG7cNZHPCv+9nnHl+QL2/GDBpUb0DuL+AE7hbLCqzvyKlWLz4pa6/7+N3AvmMqb9KBg7VhTmlv+atJuWKOqG/ws9sJIKlm78ie6INgeSVvz/iqj0rs5C/rhzpdR8diL861B6Gkcl/v/IeQkFSkHG/4OGrz2HjU7+FGBhmwMlZP3qdcHtX5XA/41i31Q2Pej+83PcwkrmBPxc4lnzX3IU/KkWJNXK6iT9MGpbAi0aNP2X5paRGS5A/OYjIUZzckT/HO7f9qE6TP/JvZdkGmpQ/N/X8RC3XlT/SKvjNzgOXP9T+qjfp+Zc/jh6E/ce2mD+8EGbgmk2ZP6mn9h/D05k/0agMLGJMmj9cBlwyibeaP3fyFvENGZs/\",\"dtype\":\"float64\",\"shape\":[75]},\"y\":{\"__ndarray__\":\"GhExyth1ND/Sv8nbtpRIP2vylNV0PVE/aTum7souWD/At0SJ8fVgPw3Iuahxymc/MSNhhJWvcD/bTfBN02d3P2zb5nxnaoA/CD5h5MAGhz8NmeH1TyaQP+zrCsc9p5Y/LbKd76fGnz/bLW5ISEmmPww9YvTcQq8/JV2OstnstT8Er5Y7M8G+P0c+r3jqkcU/5h99k6ZBzj88bCIzFzjVP4enV8oyxN0//yH99nXg5D8qOpLLf0jtP5kqGJXUifQ/c9cS8kHP/D+/DpwzojQEQIEmwoanVwxA4lgXt9HgE0BSSZ2AJuIbQAMJih9jjiNA5q4l5INuK0AwTKYKRj0zQNv5fmq8/DpAaCJseHrtQkB/+zpwzoxKQM3MzMzMeFJAZmZmZmZqWEAAAAAAAFxeQM3MzMzMJmJAmpmZmZkfZUBmZmZmZhhoQDMzMzMzEWtAAAAAAAAKbkBmZmZmZoFwQM3MzMzM/XFAMzMzMzN6c0CamZmZmfZ0QAAAAAAAc3ZAZmZmZmbvd0DNzMzMzGt5QDMzMzMz6HpAmpmZmZlkfEAAAAAAAOF9QGZmZmZmXX9AZmZmZuZsgECamZmZGSuBQM3MzMxM6YFAAAAAAICngkAzMzMzs2WDQGZmZmbmI4RAmpmZmRnihEDNzMzMTKCFQAAAAACAXoZAMzMzM7Mch0BmZmZm5tqHQJqZmZkZmYhAzczMzExXiUAAAAAAgBWKQDMzMzOz04pAZmZmZuaRi0CamZmZGVCMQM3MzMxMDo1AAAAAAIDMjUAzMzMzs4qOQGZmZmbmSI9A\",\"dtype\":\"float64\",\"shape\":[75]}},\"selected\":{\"id\":\"ce00e8fe-583d-4c5a-9435-cebbfd12e046\",\"type\":\"Selection\"},\"selection_policy\":{\"id\":\"dc7a8521-16ce-448d-8208-287ef87591d7\",\"type\":\"UnionRenderers\"}},\"id\":\"429e89d6-a34a-48eb-802d-d555f962992e\",\"type\":\"ColumnDataSource\"},{\"attributes\":{\"fill_alpha\":{\"value\":0.1},\"fill_color\":{\"value\":\"#1f77b4\"},\"line_alpha\":{\"value\":0.1},\"line_color\":{\"value\":\"#1f77b4\"},\"x\":{\"field\":\"x\"},\"y\":{\"field\":\"y\"}},\"id\":\"bfdc8b95-0b27-4cf8-83f2-3d59ef636411\",\"type\":\"Circle\"},{\"attributes\":{\"active_drag\":\"auto\",\"active_inspect\":\"auto\",\"active_scroll\":\"auto\",\"active_tap\":\"auto\",\"tools\":[{\"id\":\"5f44e497-cceb-43f7-a595-41389ade4ca1\",\"type\":\"PanTool\"},{\"id\":\"5f879e4c-67c2-4343-9d46-730c134f4ee4\",\"type\":\"WheelZoomTool\"},{\"id\":\"31563cb4-5557-452a-a7cf-495bf2edfe57\",\"type\":\"BoxZoomTool\"},{\"id\":\"25d83098-d737-401f-a0ce-20016b959f7d\",\"type\":\"SaveTool\"},{\"id\":\"1edf247b-7311-46ae-8686-9b0adf53a0d5\",\"type\":\"ResetTool\"},{\"id\":\"486d7d0f-014b-42ef-850d-54d86a08602f\",\"type\":\"HelpTool\"}]},\"id\":\"08fd1ca2-09bf-4d74-8cf7-09da17b0bd1f\",\"type\":\"Toolbar\"},{\"attributes\":{\"fill_alpha\":{\"value\":0.1},\"fill_color\":{\"value\":\"#1f77b4\"},\"line_alpha\":{\"value\":0.1},\"line_color\":{\"value\":\"#1f77b4\"},\"x\":{\"field\":\"x\"},\"y\":{\"field\":\"y\"}},\"id\":\"fe248384-6c99-465c-9741-d0ce2dfb9db6\",\"type\":\"Circle\"},{\"attributes\":{\"data_source\":{\"id\":\"71b34032-dfa5-44cb-821a-e5bce7e70579\",\"type\":\"ColumnDataSource\"},\"glyph\":{\"id\":\"5756b558-556d-46ee-9206-a2563f53cf76\",\"type\":\"Circle\"},\"hover_glyph\":null,\"muted_glyph\":null,\"nonselection_glyph\":{\"id\":\"bfdc8b95-0b27-4cf8-83f2-3d59ef636411\",\"type\":\"Circle\"},\"selection_glyph\":null,\"view\":{\"id\":\"77fffedf-8af2-49e6-b3c5-978f5a8be5cd\",\"type\":\"CDSView\"}},\"id\":\"f5d5809c-328e-45a8-a575-fedc2b84a179\",\"type\":\"GlyphRenderer\"},{\"attributes\":{\"line_color\":\"#4daf4a\",\"line_width\":1.5,\"x\":{\"field\":\"x\"},\"y\":{\"field\":\"y\"}},\"id\":\"0370fc67-d17e-44c3-bb84-afde9bbd856a\",\"type\":\"Line\"},{\"attributes\":{\"source\":{\"id\":\"2c7ab2fb-a5d9-4a5b-bf32-ff0f90e7c9d7\",\"type\":\"ColumnDataSource\"}},\"id\":\"71bc3998-d8bb-46fc-9674-a66aebea32dd\",\"type\":\"CDSView\"},{\"attributes\":{\"axis_label\":\"cooling rate [K/day]\",\"formatter\":{\"id\":\"22c490fa-e028-4462-98c9-1790900fac8f\",\"type\":\"BasicTickFormatter\"},\"plot\":{\"id\":\"bb0a3175-6e87-4b65-99f9-b7e4b23daf74\",\"subtype\":\"Figure\",\"type\":\"Plot\"},\"ticker\":{\"id\":\"0655376b-998d-4a21-88e8-35b16193a97e\",\"type\":\"BasicTicker\"}},\"id\":\"4951e397-7c1f-4f57-942a-e6811bf2febd\",\"type\":\"LinearAxis\"},{\"attributes\":{\"callback\":null,\"data\":{\"x\":{\"__ndarray__\":\"dw1ZClb0o78jPF1FaTOmv2Mkzl4DiKq/5f4kZoivrr8i8j7P3VWxvwtXi44NP7O/m7WQbd8Rtb8GvBLW8c22v+UDwe67c7i/ZsrNB7IEur9B5kiGZoq7v9CXKVLwBb2/83wF8R2Cvr+NC6VoNvu/v5OJT0lzPsC/7Vz+OTwqvr+0Dk5weuWxv7YwFDrrj6A/4iHVvpx8yT8KUmTnNlHcPwUqdoxY0Og/EAS27fV68z/F+EcXT7j7P0xNblO95v8/NDGSeqWl/D9LVArihfr2P/6D9IaO/PA/RK9Oa93R5z8x4xpdrbTgPzkrjvnzg9Y/6G5En2Loxj9sqAvh6hqFP0wE1bZNp7u/ykieLPN9yL+PFDHv6LTQv6MT/A3XFdK/onM4I5wA0L+P3s6QurXLv6YUVpOwwsm/2NL1XuIKx7/hG7cNZHPCv+9nnHl+QL2/GDBpUb0DuL+AE7hbLCqzvyKlWLz4pa6/7+N3AvmMqb9KBg7VhTmlv+atJuWKOqG/ws9sJIKlm78ie6INgeSVvz/iqj0rs5C/rhzpdR8diL861B6Gkcl/v/IeQkFSkHG/4OGrz2HjU7+FGBhmwMlZP3qdcHtX5XA/41i31Q2Pej+83PcwkrmBPxc4lnzX3IU/KkWJNXK6iT9MGpbAi0aNP2X5paRGS5A/OYjIUZzckT/HO7f9qE6TP/JvZdkGmpQ/N/X8RC3XlT/SKvjNzgOXP9T+qjfp+Zc/jh6E/ce2mD+8EGbgmk2ZP6mn9h/D05k/0agMLGJMmj9cBlwyibeaP3fyFvENGZs/\",\"dtype\":\"float64\",\"shape\":[75]},\"y\":{\"__ndarray__\":\"GhExyth1ND/Sv8nbtpRIP2vylNV0PVE/aTum7souWD/At0SJ8fVgPw3Iuahxymc/MSNhhJWvcD/bTfBN02d3P2zb5nxnaoA/CD5h5MAGhz8NmeH1TyaQP+zrCsc9p5Y/LbKd76fGnz/bLW5ISEmmPww9YvTcQq8/JV2OstnstT8Er5Y7M8G+P0c+r3jqkcU/5h99k6ZBzj88bCIzFzjVP4enV8oyxN0//yH99nXg5D8qOpLLf0jtP5kqGJXUifQ/c9cS8kHP/D+/DpwzojQEQIEmwoanVwxA4lgXt9HgE0BSSZ2AJuIbQAMJih9jjiNA5q4l5INuK0AwTKYKRj0zQNv5fmq8/DpAaCJseHrtQkB/+zpwzoxKQM3MzMzMeFJAZmZmZmZqWEAAAAAAAFxeQM3MzMzMJmJAmpmZmZkfZUBmZmZmZhhoQDMzMzMzEWtAAAAAAAAKbkBmZmZmZoFwQM3MzMzM/XFAMzMzMzN6c0CamZmZmfZ0QAAAAAAAc3ZAZmZmZmbvd0DNzMzMzGt5QDMzMzMz6HpAmpmZmZlkfEAAAAAAAOF9QGZmZmZmXX9AZmZmZuZsgECamZmZGSuBQM3MzMxM6YFAAAAAAICngkAzMzMzs2WDQGZmZmbmI4RAmpmZmRnihEDNzMzMTKCFQAAAAACAXoZAMzMzM7Mch0BmZmZm5tqHQJqZmZkZmYhAzczMzExXiUAAAAAAgBWKQDMzMzOz04pAZmZmZuaRi0CamZmZGVCMQM3MzMxMDo1AAAAAAIDMjUAzMzMzs4qOQGZmZmbmSI9A\",\"dtype\":\"float64\",\"shape\":[75]}},\"selected\":{\"id\":\"37ebd8d1-9b9f-4a57-88a3-a875e0a4bc27\",\"type\":\"Selection\"},\"selection_policy\":{\"id\":\"ead25e30-60e1-4bb0-bbc3-4b67e37fd697\",\"type\":\"UnionRenderers\"}},\"id\":\"34ceeec3-831c-4029-95f8-98f816ea8414\",\"type\":\"ColumnDataSource\"},{\"attributes\":{\"source\":{\"id\":\"71b34032-dfa5-44cb-821a-e5bce7e70579\",\"type\":\"ColumnDataSource\"}},\"id\":\"77fffedf-8af2-49e6-b3c5-978f5a8be5cd\",\"type\":\"CDSView\"},{\"attributes\":{\"line_alpha\":0.1,\"line_color\":\"#1f77b4\",\"line_width\":1.5,\"x\":{\"field\":\"x\"},\"y\":{\"field\":\"y\"}},\"id\":\"e8bfeff9-88c3-4d12-bd1c-8dc1a7b4d284\",\"type\":\"Line\"},{\"attributes\":{\"source\":{\"id\":\"34ceeec3-831c-4029-95f8-98f816ea8414\",\"type\":\"ColumnDataSource\"}},\"id\":\"18b0206b-b686-4d7a-af8d-fc7d2248692f\",\"type\":\"CDSView\"},{\"attributes\":{},\"id\":\"3578c75a-5c97-43b2-98f0-9a4fc88b4009\",\"type\":\"ResetTool\"},{\"attributes\":{\"dimension\":1,\"plot\":{\"id\":\"fa458cae-3075-4078-b201-52a11805edfd\",\"subtype\":\"Figure\",\"type\":\"Plot\"},\"ticker\":{\"id\":\"f5cd4691-ec02-4f81-9491-00a5ea1b33d0\",\"type\":\"LogTicker\"}},\"id\":\"22b113da-51ec-4c6c-873c-ec33fe668ecc\",\"type\":\"Grid\"},{\"attributes\":{\"plot\":{\"id\":\"fa458cae-3075-4078-b201-52a11805edfd\",\"subtype\":\"Figure\",\"type\":\"Plot\"},\"ticker\":{\"id\":\"f37c6328-b9da-467a-90b0-d1620a10e68f\",\"type\":\"BasicTicker\"}},\"id\":\"743cd0e6-1b47-4625-8d76-d2b7fbc98873\",\"type\":\"Grid\"},{\"attributes\":{\"items\":[{\"id\":\"82da365e-ce49-44a2-9ea2-2653b843c9d0\",\"type\":\"LegendItem\"},{\"id\":\"4cddbc44-a0cc-4708-ae7c-6f8be86919bf\",\"type\":\"LegendItem\"}],\"label_text_font_size\":{\"value\":\"8pt\"},\"location\":\"top_center\",\"orientation\":\"horizontal\",\"plot\":{\"id\":\"fa458cae-3075-4078-b201-52a11805edfd\",\"subtype\":\"Figure\",\"type\":\"Plot\"}},\"id\":\"cf108ded-ef84-4701-b0ac-ee4a34fef4d6\",\"type\":\"Legend\"},{\"attributes\":{\"data_source\":{\"id\":\"429e89d6-a34a-48eb-802d-d555f962992e\",\"type\":\"ColumnDataSource\"},\"glyph\":{\"id\":\"2408329b-33f4-4a04-acce-4d35ad652332\",\"type\":\"Circle\"},\"hover_glyph\":null,\"muted_glyph\":null,\"nonselection_glyph\":{\"id\":\"6abad8f7-58d1-4e53-a5b2-481e9eab8b5d\",\"type\":\"Circle\"},\"selection_glyph\":null,\"view\":{\"id\":\"63db542c-48af-4905-82cc-2b53d04c7533\",\"type\":\"CDSView\"}},\"id\":\"d33977e7-348e-4608-b949-b051d8e2c107\",\"type\":\"GlyphRenderer\"},{\"attributes\":{},\"id\":\"98c32a33-5999-4787-b518-e4e5d2aa5cff\",\"type\":\"BasicTickFormatter\"},{\"attributes\":{\"data_source\":{\"id\":\"2c7ab2fb-a5d9-4a5b-bf32-ff0f90e7c9d7\",\"type\":\"ColumnDataSource\"},\"glyph\":{\"id\":\"ca81fc27-7ada-4d39-9cdb-2c2b767a2b82\",\"type\":\"Line\"},\"hover_glyph\":null,\"muted_glyph\":null,\"nonselection_glyph\":{\"id\":\"9f2de8ec-a3fa-424e-bc70-61b8982adb3c\",\"type\":\"Line\"},\"selection_glyph\":null,\"view\":{\"id\":\"71bc3998-d8bb-46fc-9674-a66aebea32dd\",\"type\":\"CDSView\"}},\"id\":\"dea388c2-8580-4eb6-b505-08a4246def87\",\"type\":\"GlyphRenderer\"},{\"attributes\":{},\"id\":\"8fdf1711-fce6-4e16-8d90-5e1a36926d92\",\"type\":\"LogScale\"},{\"attributes\":{\"callback\":null,\"end\":0.047101589184,\"start\":-0.1258101147840001},\"id\":\"7415e24d-694d-4275-95c0-c76b6b6044a6\",\"type\":\"Range1d\"},{\"attributes\":{\"line_color\":\"#4daf4a\",\"line_width\":1.5,\"x\":{\"field\":\"x\"},\"y\":{\"field\":\"y\"}},\"id\":\"e88b089b-50a2-410e-a82e-a7e1b3ed56de\",\"type\":\"Line\"},{\"attributes\":{\"callback\":null,\"data\":{\"x\":{\"__ndarray__\":\"jH/SYoZMn78sw/w4QWuhv+ykNTuP4KS/UdkntVQ0qL+OM3ZXsGyrv2nHt77iha6/3Zzn28TBsL9i1s29bi6yv1vPC9WfjbO/liuOk1rZtL9DKicCHha2v8xHzpkfRbe/5X7JvhJluL/NuTKt73G5v0OIVOYgx7m/2eCTOkAxuL+L+OTn2qWtv0nVcVrCapo/MegICeaixT9c2Q30s8XYP4R5VYjDSeY/W2ykth7P8T9PZPcu77v5P1XYDHBBlv4/TRHg9C5+/D+lAAejSO32P67BVmTP2fA/3JMTL0cW6D9fUucXRrbhP4vp+B7ka9k/CdCEYDQvzD8M5ekBmNehP0aDb/X3rbm/8PAJn86Ryb93Yhioc2LSv8enW9FBstS/FwHCRfaa0r+GAraDEfvPv7AEUmLX9sy/yys6BiITyb8qss7fIZjDvzpK0vN2nb6/ByDMJQnNuL+UWrOLJYmzvyu922G4366/sLg/5Bt0qb8gAwrZn+Kkv9KNBqlBvKC/ZPJPbrB3mr9RHTaHJ5iUv7Lsd5hesY6/4wvF48Nohb/AD2B4eX96v4iRttXS+mi/Ervz8SqhBL/1YjF0KN9lP3d8OikTCHU/7+M+M3VQfj8wCGj/XGSDP5Mx9fWnTYc/5G0PvAbvij/oKdD5uTmOP7OBuM5mpZA/ahimBRsWkj+GbLG/EmaTP/IgSm8QkZQ/AqFs/weulT9mzov3Cb6WP0uWIfsRoJc/KnM6Y3RNmD/BT4yUfNiYP7r+BOfxU5k/+/yN/BXAmT+Zinbdpx+aP6ZBJTwOdJo/\",\"dtype\":\"float64\",\"shape\":[75]},\"y\":{\"__ndarray__\":\"GhExyth1ND/Sv8nbtpRIP2vylNV0PVE/aTum7souWD/At0SJ8fVgPw3Iuahxymc/MSNhhJWvcD/bTfBN02d3P2zb5nxnaoA/CD5h5MAGhz8NmeH1TyaQP+zrCsc9p5Y/LbKd76fGnz/bLW5ISEmmPww9YvTcQq8/JV2OstnstT8Er5Y7M8G+P0c+r3jqkcU/5h99k6ZBzj88bCIzFzjVP4enV8oyxN0//yH99nXg5D8qOpLLf0jtP5kqGJXUifQ/c9cS8kHP/D+/DpwzojQEQIEmwoanVwxA4lgXt9HgE0BSSZ2AJuIbQAMJih9jjiNA5q4l5INuK0AwTKYKRj0zQNv5fmq8/DpAaCJseHrtQkB/+zpwzoxKQM3MzMzMeFJAZmZmZmZqWEAAAAAAAFxeQM3MzMzMJmJAmpmZmZkfZUBmZmZmZhhoQDMzMzMzEWtAAAAAAAAKbkBmZmZmZoFwQM3MzMzM/XFAMzMzMzN6c0CamZmZmfZ0QAAAAAAAc3ZAZmZmZmbvd0DNzMzMzGt5QDMzMzMz6HpAmpmZmZlkfEAAAAAAAOF9QGZmZmZmXX9AZmZmZuZsgECamZmZGSuBQM3MzMxM6YFAAAAAAICngkAzMzMzs2WDQGZmZmbmI4RAmpmZmRnihEDNzMzMTKCFQAAAAACAXoZAMzMzM7Mch0BmZmZm5tqHQJqZmZkZmYhAzczMzExXiUAAAAAAgBWKQDMzMzOz04pAZmZmZuaRi0CamZmZGVCMQM3MzMxMDo1AAAAAAIDMjUAzMzMzs4qOQGZmZmbmSI9A\",\"dtype\":\"float64\",\"shape\":[75]}},\"selected\":{\"id\":\"1d07c0e0-aa0c-4bb4-afea-6e6821b1647f\",\"type\":\"Selection\"},\"selection_policy\":{\"id\":\"f988f0c0-35c0-488f-a1b2-b0582aa8081f\",\"type\":\"UnionRenderers\"}},\"id\":\"2c7ab2fb-a5d9-4a5b-bf32-ff0f90e7c9d7\",\"type\":\"ColumnDataSource\"},{\"attributes\":{\"bottom_units\":\"screen\",\"fill_alpha\":{\"value\":0.5},\"fill_color\":{\"value\":\"lightgrey\"},\"left_units\":\"screen\",\"level\":\"overlay\",\"line_alpha\":{\"value\":1.0},\"line_color\":{\"value\":\"black\"},\"line_dash\":[4,4],\"line_width\":{\"value\":2},\"plot\":null,\"render_mode\":\"css\",\"right_units\":\"screen\",\"top_units\":\"screen\"},\"id\":\"5d6df165-301a-4d98-844e-8a460902c2ac\",\"type\":\"BoxAnnotation\"},{\"attributes\":{\"above\":[{\"id\":\"cf1d8020-83c3-431a-8012-f66e29b22732\",\"type\":\"Legend\"}],\"below\":[{\"id\":\"82725f08-e163-4d9a-8252-970e2b973c5f\",\"type\":\"LinearAxis\"}],\"left\":[{\"id\":\"30b037cb-178a-4e16-bf98-d462e70c6d23\",\"type\":\"LinearAxis\"}],\"plot_width\":300,\"renderers\":[{\"id\":\"82725f08-e163-4d9a-8252-970e2b973c5f\",\"type\":\"LinearAxis\"},{\"id\":\"07de8420-b2b0-40d1-885a-d8dc29a79eba\",\"type\":\"Grid\"},{\"id\":\"30b037cb-178a-4e16-bf98-d462e70c6d23\",\"type\":\"LinearAxis\"},{\"id\":\"3126950d-25f2-48ab-8bba-3e8a7bebea1b\",\"type\":\"Grid\"},{\"id\":\"39b40bf8-0275-456e-a297-14f22de5b5bb\",\"type\":\"BoxAnnotation\"},{\"id\":\"c27dbc5b-c8a5-4aa5-b03f-cef984b99637\",\"type\":\"GlyphRenderer\"},{\"id\":\"f5d5809c-328e-45a8-a575-fedc2b84a179\",\"type\":\"GlyphRenderer\"},{\"id\":\"72c459f3-fc25-4cc8-aef3-96b86f4f5a62\",\"type\":\"GlyphRenderer\"},{\"id\":\"cf1d8020-83c3-431a-8012-f66e29b22732\",\"type\":\"Legend\"}],\"title\":{\"id\":\"969cd3c5-6908-4f8d-9016-970fdb62d69c\",\"type\":\"Title\"},\"toolbar\":{\"id\":\"26079afe-497c-4f8b-b48f-e7b097e5169f\",\"type\":\"Toolbar\"},\"toolbar_location\":null,\"x_range\":{\"id\":\"b8f16ada-348c-4186-874b-92b2678f3d02\",\"type\":\"Range1d\"},\"x_scale\":{\"id\":\"2270a9a5-177e-4928-8cb8-4c146e6d60e8\",\"type\":\"LinearScale\"},\"y_range\":{\"id\":\"cae9c81a-2b75-49f2-9418-f1b92990f4c2\",\"type\":\"Range1d\"},\"y_scale\":{\"id\":\"352173eb-2ac2-4bb9-97bd-27fa2039dba8\",\"type\":\"LinearScale\"}},\"id\":\"29f4fcca-a858-4c70-83e4-bb83998a02c8\",\"subtype\":\"Figure\",\"type\":\"Plot\"},{\"attributes\":{\"axis_label\":\"cooling rate [K/day]\",\"formatter\":{\"id\":\"98c32a33-5999-4787-b518-e4e5d2aa5cff\",\"type\":\"BasicTickFormatter\"},\"plot\":{\"id\":\"fa458cae-3075-4078-b201-52a11805edfd\",\"subtype\":\"Figure\",\"type\":\"Plot\"},\"ticker\":{\"id\":\"f37c6328-b9da-467a-90b0-d1620a10e68f\",\"type\":\"BasicTicker\"}},\"id\":\"243858af-2e15-4d72-bbab-394ec2414125\",\"type\":\"LinearAxis\"},{\"attributes\":{},\"id\":\"72847111-183c-42a5-ae43-181dd7fa5631\",\"type\":\"LinearScale\"}],\"root_ids\":[\"d580d601-40db-479a-8757-048949d6fe99\"]},\"title\":\"Bokeh Application\",\"version\":\"0.12.16\"}};\n",
       "  var render_items = [{\"docid\":\"3f917eb2-c1e1-4c09-9839-785b87572d80\",\"elementid\":\"5462d74c-8d42-46c1-b608-fc2257edbc28\",\"modelid\":\"d580d601-40db-479a-8757-048949d6fe99\"}];\n",
       "  root.Bokeh.embed.embed_items_notebook(docs_json, render_items);\n",
       "\n",
       "  }\n",
       "  if (root.Bokeh !== undefined) {\n",
       "    embed_document(root);\n",
       "  } else {\n",
       "    var attempts = 0;\n",
       "    var timer = setInterval(function(root) {\n",
       "      if (root.Bokeh !== undefined) {\n",
       "        embed_document(root);\n",
       "        clearInterval(timer);\n",
       "      }\n",
       "      attempts++;\n",
       "      if (attempts > 100) {\n",
       "        console.log(\"Bokeh: ERROR: Unable to run BokehJS code because BokehJS library is missing\")\n",
       "        clearInterval(timer);\n",
       "      }\n",
       "    }, 10, root)\n",
       "  }\n",
       "})(window);"
      ],
      "application/vnd.bokehjs_exec.v0+json": ""
     },
     "metadata": {
      "application/vnd.bokehjs_exec.v0+json": {
       "id": "d580d601-40db-479a-8757-048949d6fe99"
      }
     },
     "output_type": "display_data"
    },
    {
     "data": {
      "text/markdown": [
       "*FIGURE.* Cooling rates & difference."
      ],
      "text/plain": [
       "<IPython.core.display.Markdown object>"
      ]
     },
     "metadata": {},
     "output_type": "display_data"
    },
    {
     "data": {
      "text/html": [
       "<a id=\"Fluxes._mls.\"></a>"
      ],
      "text/plain": [
       "<IPython.core.display.HTML object>"
      ]
     },
     "metadata": {},
     "output_type": "display_data"
    },
    {
     "data": {
      "text/markdown": [
       "# Fluxes. mls."
      ],
      "text/plain": [
       "<IPython.core.display.Markdown object>"
      ]
     },
     "metadata": {},
     "output_type": "display_data"
    },
    {
     "data": {
      "text/html": [
       "\n",
       "<div class=\"bk-root\">\n",
       "    <div class=\"bk-plotdiv\" id=\"dc4e7004-16af-4261-96f0-f3c04be6d0aa\"></div>\n",
       "</div>"
      ]
     },
     "metadata": {},
     "output_type": "display_data"
    },
    {
     "data": {
      "application/javascript": [
       "(function(root) {\n",
       "  function embed_document(root) {\n",
       "    \n",
       "  var docs_json = {\"172de780-389a-4894-98ab-135079ab67e6\":{\"roots\":{\"references\":[{\"attributes\":{},\"id\":\"be79b5ed-1dcd-4f08-90c0-a9d87209b502\",\"type\":\"LinearScale\"},{\"attributes\":{},\"id\":\"e88529a8-9c28-40cd-9463-3137c97d45ff\",\"type\":\"SaveTool\"},{\"attributes\":{\"callback\":null,\"factors\":[\"7\"]},\"id\":\"e8f00583-b6cf-4211-b837-5fc111040f6e\",\"type\":\"FactorRange\"},{\"attributes\":{\"tools\":[{\"id\":\"63d4996a-d2cb-4777-8d23-8e4069892d83\",\"type\":\"PanTool\"},{\"id\":\"9e228d54-8580-4108-aae2-027e19a36404\",\"type\":\"WheelZoomTool\"},{\"id\":\"c7790ea6-155f-4faf-b592-5899c8e942c9\",\"type\":\"BoxZoomTool\"},{\"id\":\"e2b9217a-5a78-491b-b77d-5ba518ea6bd5\",\"type\":\"SaveTool\"},{\"id\":\"8c7e0041-bf02-4dde-9da9-97d156c41d06\",\"type\":\"ResetTool\"},{\"id\":\"fccb5c4d-89e1-4011-995b-a03c54cf2c27\",\"type\":\"HelpTool\"},{\"id\":\"9b72cad0-6be9-49b2-bf4e-50eb095bb71e\",\"type\":\"PanTool\"},{\"id\":\"45538b51-f975-4f2a-a1f0-5e6d61a95e2d\",\"type\":\"WheelZoomTool\"},{\"id\":\"a6522624-76b9-4227-8b4b-f0b997bba94e\",\"type\":\"BoxZoomTool\"},{\"id\":\"4cfa4e0f-e7e7-4cdd-9d26-82a8cadf0a02\",\"type\":\"SaveTool\"},{\"id\":\"4b11a7f0-a284-4ecf-abd1-d3b6f3339676\",\"type\":\"ResetTool\"},{\"id\":\"589fb22b-8a3c-4704-99bd-18a882da4aa4\",\"type\":\"HelpTool\"},{\"id\":\"cab9e66c-1395-4e79-aa51-f45f6e310a5a\",\"type\":\"PanTool\"},{\"id\":\"12331815-b2ba-4f9e-b01f-ac8ad9a71b7d\",\"type\":\"WheelZoomTool\"},{\"id\":\"69b6f0c7-6f02-4ff2-8721-9dc853e35830\",\"type\":\"BoxZoomTool\"},{\"id\":\"e88529a8-9c28-40cd-9463-3137c97d45ff\",\"type\":\"SaveTool\"},{\"id\":\"bc416f0f-2408-4906-8cc9-c9c2d91ab6e2\",\"type\":\"ResetTool\"},{\"id\":\"55524759-a918-40aa-b7e2-88eaa37a6287\",\"type\":\"HelpTool\"}]},\"id\":\"598466c4-b201-43d8-a2f1-df7b7108ec39\",\"type\":\"ProxyToolbar\"},{\"attributes\":{\"axis_label\":\"flux (W m-2)\",\"formatter\":{\"id\":\"9eca3dd7-d3e8-472a-9202-f0af082c69da\",\"type\":\"BasicTickFormatter\"},\"plot\":{\"id\":\"51b45b15-5151-4e33-af5c-2f2d3b980561\",\"subtype\":\"Figure\",\"type\":\"Plot\"},\"ticker\":{\"id\":\"ff8b0102-986b-4ba0-9d34-f3b806f29f07\",\"type\":\"BasicTicker\"}},\"id\":\"1859771d-b58d-427f-9324-3fd387e906fb\",\"type\":\"LinearAxis\"},{\"attributes\":{\"plot\":{\"id\":\"37f1fbe0-2fb8-46a2-995a-a805426dd884\",\"subtype\":\"Figure\",\"type\":\"Plot\"},\"ticker\":{\"id\":\"db343144-c835-44af-bad6-cb91e84289df\",\"type\":\"CategoricalTicker\"}},\"id\":\"2c323d32-fee7-465c-99e9-ed9c5d1dd24b\",\"type\":\"Grid\"},{\"attributes\":{\"source\":{\"id\":\"15d47402-d502-4ae1-9a1c-d5396629c0d2\",\"type\":\"ColumnDataSource\"}},\"id\":\"da4dd96e-5a30-4992-a90f-be54fefd2640\",\"type\":\"CDSView\"},{\"attributes\":{\"dimension\":1,\"plot\":{\"id\":\"533b8b67-9a4d-4188-bd76-1a175106b133\",\"subtype\":\"Figure\",\"type\":\"Plot\"},\"ticker\":{\"id\":\"788b610e-3e60-4247-8a6a-e00db5120ad2\",\"type\":\"BasicTicker\"}},\"id\":\"4939c7aa-0c98-402f-b4b9-d637fc753956\",\"type\":\"Grid\"},{\"attributes\":{\"callback\":null},\"id\":\"1c436231-9ea1-4206-bbd2-4fe73bf474a7\",\"type\":\"DataRange1d\"},{\"attributes\":{\"source\":{\"id\":\"8026b6cf-2a37-48b3-aabc-949aad949744\",\"type\":\"ColumnDataSource\"}},\"id\":\"b3101852-cd06-447e-87f7-86b63941f424\",\"type\":\"CDSView\"},{\"attributes\":{\"plot\":null,\"text\":\"SFC flux. CLIRAD - CRD.\"},\"id\":\"20c89ee7-108e-45a9-bf41-0c14d13051e7\",\"type\":\"Title\"},{\"attributes\":{},\"id\":\"9eca3dd7-d3e8-472a-9202-f0af082c69da\",\"type\":\"BasicTickFormatter\"},{\"attributes\":{\"plot\":null,\"text\":\"Atmosphere heating. CLIRAD - CRD.\"},\"id\":\"6bb3975a-8a5f-4f1a-8dc4-743f91a99e6e\",\"type\":\"Title\"},{\"attributes\":{\"callback\":null,\"data\":{\"band\":[\"7\"],\"flux\":{\"__ndarray__\":\"wICrZQCi3T8=\",\"dtype\":\"float64\",\"shape\":[1]}},\"selected\":{\"id\":\"740fd83a-c627-4a79-9ee5-e7052c3714b3\",\"type\":\"Selection\"},\"selection_policy\":{\"id\":\"bfcf98da-7b10-4ab1-979b-24d13369dd36\",\"type\":\"UnionRenderers\"}},\"id\":\"15d47402-d502-4ae1-9a1c-d5396629c0d2\",\"type\":\"ColumnDataSource\"},{\"attributes\":{\"fill_color\":{\"value\":\"#1f77b4\"},\"line_color\":{\"value\":\"#1f77b4\"},\"top\":{\"field\":\"flux\"},\"width\":{\"value\":0.9},\"x\":{\"field\":\"band\"}},\"id\":\"404fce01-b2ad-41cb-968d-0cd1ca8d6845\",\"type\":\"VBar\"},{\"attributes\":{},\"id\":\"589fb22b-8a3c-4704-99bd-18a882da4aa4\",\"type\":\"HelpTool\"},{\"attributes\":{},\"id\":\"107afee1-f78e-4f87-91ea-aac05e372ef1\",\"type\":\"LinearScale\"},{\"attributes\":{\"callback\":null,\"factors\":[\"7\"]},\"id\":\"0231d967-fb87-4847-9d00-c385821b30d9\",\"type\":\"FactorRange\"},{\"attributes\":{\"callback\":null,\"data\":{\"band\":[\"7\"],\"flux\":{\"__ndarray__\":\"AN1cPorh2T8=\",\"dtype\":\"float64\",\"shape\":[1]}},\"selected\":{\"id\":\"ac4ea4c2-336b-4064-b421-226566534c36\",\"type\":\"Selection\"},\"selection_policy\":{\"id\":\"2aee6b35-a54a-4cdb-a994-7fc74406c52f\",\"type\":\"UnionRenderers\"}},\"id\":\"f4ac127b-9055-4e45-b5a3-de583d86692b\",\"type\":\"ColumnDataSource\"},{\"attributes\":{},\"id\":\"2aee6b35-a54a-4cdb-a994-7fc74406c52f\",\"type\":\"UnionRenderers\"},{\"attributes\":{\"plot\":{\"id\":\"533b8b67-9a4d-4188-bd76-1a175106b133\",\"subtype\":\"Figure\",\"type\":\"Plot\"},\"ticker\":{\"id\":\"0ad6dbdf-ac30-4e4e-aa3b-c155972c3f40\",\"type\":\"CategoricalTicker\"}},\"id\":\"c3d317ef-8a19-4ede-8963-e04182bb3133\",\"type\":\"Grid\"},{\"attributes\":{},\"id\":\"740fd83a-c627-4a79-9ee5-e7052c3714b3\",\"type\":\"Selection\"},{\"attributes\":{\"below\":[{\"id\":\"ee67f672-0bf2-491f-9c95-95d226616b3b\",\"type\":\"CategoricalAxis\"}],\"left\":[{\"id\":\"1859771d-b58d-427f-9324-3fd387e906fb\",\"type\":\"LinearAxis\"}],\"plot_height\":300,\"plot_width\":300,\"renderers\":[{\"id\":\"ee67f672-0bf2-491f-9c95-95d226616b3b\",\"type\":\"CategoricalAxis\"},{\"id\":\"5ab008eb-39b9-420c-b69a-0ee204b00777\",\"type\":\"Grid\"},{\"id\":\"1859771d-b58d-427f-9324-3fd387e906fb\",\"type\":\"LinearAxis\"},{\"id\":\"81f3b6d4-b86f-4370-91b7-1e906dde2566\",\"type\":\"Grid\"},{\"id\":\"09dfa442-a9dd-46bb-b696-7061a5a2feac\",\"type\":\"BoxAnnotation\"},{\"id\":\"cdab3adc-204b-4dc7-834d-d52b36c2d310\",\"type\":\"GlyphRenderer\"}],\"title\":{\"id\":\"ca57efd6-d0d3-4682-be96-e54d3116afd6\",\"type\":\"Title\"},\"toolbar\":{\"id\":\"09734d0a-fd09-4ed2-aeae-867b782c2536\",\"type\":\"Toolbar\"},\"toolbar_location\":null,\"x_range\":{\"id\":\"0231d967-fb87-4847-9d00-c385821b30d9\",\"type\":\"FactorRange\"},\"x_scale\":{\"id\":\"104d027e-6b13-4294-a22c-f1d1e9bc9455\",\"type\":\"CategoricalScale\"},\"y_range\":{\"id\":\"1c436231-9ea1-4206-bbd2-4fe73bf474a7\",\"type\":\"DataRange1d\"},\"y_scale\":{\"id\":\"be79b5ed-1dcd-4f08-90c0-a9d87209b502\",\"type\":\"LinearScale\"}},\"id\":\"51b45b15-5151-4e33-af5c-2f2d3b980561\",\"subtype\":\"Figure\",\"type\":\"Plot\"},{\"attributes\":{\"data_source\":{\"id\":\"8026b6cf-2a37-48b3-aabc-949aad949744\",\"type\":\"ColumnDataSource\"},\"glyph\":{\"id\":\"404fce01-b2ad-41cb-968d-0cd1ca8d6845\",\"type\":\"VBar\"},\"hover_glyph\":null,\"muted_glyph\":null,\"nonselection_glyph\":{\"id\":\"6b6f9d3c-e051-4ba0-97bf-807798ce9e15\",\"type\":\"VBar\"},\"selection_glyph\":null,\"view\":{\"id\":\"b3101852-cd06-447e-87f7-86b63941f424\",\"type\":\"CDSView\"}},\"id\":\"373aafad-f55d-4a55-b81e-1d4b2ea13477\",\"type\":\"GlyphRenderer\"},{\"attributes\":{\"axis_label\":\"flux (W m-2)\",\"formatter\":{\"id\":\"8912656c-446c-4e1a-8207-fccf94b4b267\",\"type\":\"BasicTickFormatter\"},\"plot\":{\"id\":\"533b8b67-9a4d-4188-bd76-1a175106b133\",\"subtype\":\"Figure\",\"type\":\"Plot\"},\"ticker\":{\"id\":\"788b610e-3e60-4247-8a6a-e00db5120ad2\",\"type\":\"BasicTicker\"}},\"id\":\"8e886649-8823-4d8e-a619-a688b5953621\",\"type\":\"LinearAxis\"},{\"attributes\":{\"data_source\":{\"id\":\"15d47402-d502-4ae1-9a1c-d5396629c0d2\",\"type\":\"ColumnDataSource\"},\"glyph\":{\"id\":\"20874c3e-885a-4168-a3e7-8eafe4d73f86\",\"type\":\"VBar\"},\"hover_glyph\":null,\"muted_glyph\":null,\"nonselection_glyph\":{\"id\":\"d102ad42-6847-4b31-a20b-7340b80fa03d\",\"type\":\"VBar\"},\"selection_glyph\":null,\"view\":{\"id\":\"da4dd96e-5a30-4992-a90f-be54fefd2640\",\"type\":\"CDSView\"}},\"id\":\"c639db64-7bd8-4a7a-937c-d12bf5443928\",\"type\":\"GlyphRenderer\"},{\"attributes\":{\"fill_alpha\":{\"value\":0.1},\"fill_color\":{\"value\":\"#1f77b4\"},\"line_alpha\":{\"value\":0.1},\"line_color\":{\"value\":\"#1f77b4\"},\"top\":{\"field\":\"flux\"},\"width\":{\"value\":0.9},\"x\":{\"field\":\"band\"}},\"id\":\"df2960f8-dceb-4af6-90e6-3c9d8aeca8a4\",\"type\":\"VBar\"},{\"attributes\":{\"overlay\":{\"id\":\"91135571-0bfa-40bd-8665-33d16da242f0\",\"type\":\"BoxAnnotation\"}},\"id\":\"a6522624-76b9-4227-8b4b-f0b997bba94e\",\"type\":\"BoxZoomTool\"},{\"attributes\":{\"active_drag\":\"auto\",\"active_inspect\":\"auto\",\"active_scroll\":\"auto\",\"active_tap\":\"auto\",\"tools\":[{\"id\":\"9b72cad0-6be9-49b2-bf4e-50eb095bb71e\",\"type\":\"PanTool\"},{\"id\":\"45538b51-f975-4f2a-a1f0-5e6d61a95e2d\",\"type\":\"WheelZoomTool\"},{\"id\":\"a6522624-76b9-4227-8b4b-f0b997bba94e\",\"type\":\"BoxZoomTool\"},{\"id\":\"4cfa4e0f-e7e7-4cdd-9d26-82a8cadf0a02\",\"type\":\"SaveTool\"},{\"id\":\"4b11a7f0-a284-4ecf-abd1-d3b6f3339676\",\"type\":\"ResetTool\"},{\"id\":\"589fb22b-8a3c-4704-99bd-18a882da4aa4\",\"type\":\"HelpTool\"}]},\"id\":\"bbc3c11b-b57e-4614-b03f-e4c30b9d74b8\",\"type\":\"Toolbar\"},{\"attributes\":{\"bottom_units\":\"screen\",\"fill_alpha\":{\"value\":0.5},\"fill_color\":{\"value\":\"lightgrey\"},\"left_units\":\"screen\",\"level\":\"overlay\",\"line_alpha\":{\"value\":1.0},\"line_color\":{\"value\":\"black\"},\"line_dash\":[4,4],\"line_width\":{\"value\":2},\"plot\":null,\"render_mode\":\"css\",\"right_units\":\"screen\",\"top_units\":\"screen\"},\"id\":\"09dfa442-a9dd-46bb-b696-7061a5a2feac\",\"type\":\"BoxAnnotation\"},{\"attributes\":{\"data_source\":{\"id\":\"f4ac127b-9055-4e45-b5a3-de583d86692b\",\"type\":\"ColumnDataSource\"},\"glyph\":{\"id\":\"b570d3a1-0843-49d2-b605-af6a6483418a\",\"type\":\"VBar\"},\"hover_glyph\":null,\"muted_glyph\":null,\"nonselection_glyph\":{\"id\":\"df2960f8-dceb-4af6-90e6-3c9d8aeca8a4\",\"type\":\"VBar\"},\"selection_glyph\":null,\"view\":{\"id\":\"09128d11-f9cc-4093-b8f0-bcd672183e33\",\"type\":\"CDSView\"}},\"id\":\"cdab3adc-204b-4dc7-834d-d52b36c2d310\",\"type\":\"GlyphRenderer\"},{\"attributes\":{},\"id\":\"ac4ea4c2-336b-4064-b421-226566534c36\",\"type\":\"Selection\"},{\"attributes\":{\"axis_label\":\"spectral band\",\"formatter\":{\"id\":\"c4a1efb4-5056-4df9-a304-8e45df58e2f1\",\"type\":\"CategoricalTickFormatter\"},\"plot\":{\"id\":\"51b45b15-5151-4e33-af5c-2f2d3b980561\",\"subtype\":\"Figure\",\"type\":\"Plot\"},\"ticker\":{\"id\":\"012ffccb-20ae-4e1a-a4ce-472768d402ba\",\"type\":\"CategoricalTicker\"}},\"id\":\"ee67f672-0bf2-491f-9c95-95d226616b3b\",\"type\":\"CategoricalAxis\"},{\"attributes\":{\"callback\":null},\"id\":\"3445f246-b3f5-49ae-bf3a-45f3ba0f0ddb\",\"type\":\"DataRange1d\"},{\"attributes\":{},\"id\":\"24c317a8-5d8f-46f0-adf6-347dc4efc55d\",\"type\":\"CategoricalTickFormatter\"},{\"attributes\":{\"source\":{\"id\":\"f4ac127b-9055-4e45-b5a3-de583d86692b\",\"type\":\"ColumnDataSource\"}},\"id\":\"09128d11-f9cc-4093-b8f0-bcd672183e33\",\"type\":\"CDSView\"},{\"attributes\":{\"fill_color\":{\"value\":\"#1f77b4\"},\"line_color\":{\"value\":\"#1f77b4\"},\"top\":{\"field\":\"flux\"},\"width\":{\"value\":0.9},\"x\":{\"field\":\"band\"}},\"id\":\"20874c3e-885a-4168-a3e7-8eafe4d73f86\",\"type\":\"VBar\"},{\"attributes\":{\"callback\":null},\"id\":\"d5da8fd6-85d9-4f58-bfb9-6c0477a79f11\",\"type\":\"DataRange1d\"},{\"attributes\":{\"overlay\":{\"id\":\"2d61247c-7704-433c-af18-6edfc5808781\",\"type\":\"BoxAnnotation\"}},\"id\":\"69b6f0c7-6f02-4ff2-8721-9dc853e35830\",\"type\":\"BoxZoomTool\"},{\"attributes\":{},\"id\":\"788b610e-3e60-4247-8a6a-e00db5120ad2\",\"type\":\"BasicTicker\"},{\"attributes\":{\"below\":[{\"id\":\"74ec15a7-913d-4253-bd40-d0b3f8c31baf\",\"type\":\"CategoricalAxis\"}],\"left\":[{\"id\":\"d5e9bbfc-a87b-4be1-bd70-5aaeca83fa75\",\"type\":\"LinearAxis\"}],\"plot_height\":300,\"plot_width\":300,\"renderers\":[{\"id\":\"74ec15a7-913d-4253-bd40-d0b3f8c31baf\",\"type\":\"CategoricalAxis\"},{\"id\":\"2c323d32-fee7-465c-99e9-ed9c5d1dd24b\",\"type\":\"Grid\"},{\"id\":\"d5e9bbfc-a87b-4be1-bd70-5aaeca83fa75\",\"type\":\"LinearAxis\"},{\"id\":\"6ff621f0-18c4-4ac1-84eb-e4ca7d31aa09\",\"type\":\"Grid\"},{\"id\":\"2d61247c-7704-433c-af18-6edfc5808781\",\"type\":\"BoxAnnotation\"},{\"id\":\"c639db64-7bd8-4a7a-937c-d12bf5443928\",\"type\":\"GlyphRenderer\"}],\"title\":{\"id\":\"6bb3975a-8a5f-4f1a-8dc4-743f91a99e6e\",\"type\":\"Title\"},\"toolbar\":{\"id\":\"7bdf7875-76db-4412-bc29-b6a8be25e060\",\"type\":\"Toolbar\"},\"toolbar_location\":null,\"x_range\":{\"id\":\"6fbc5cf7-93fe-445e-97a8-e9501d99fbb5\",\"type\":\"FactorRange\"},\"x_scale\":{\"id\":\"5347770b-bfcd-4499-a8e9-2f3a1be80e8c\",\"type\":\"CategoricalScale\"},\"y_range\":{\"id\":\"3445f246-b3f5-49ae-bf3a-45f3ba0f0ddb\",\"type\":\"DataRange1d\"},\"y_scale\":{\"id\":\"c4e5088b-e9dc-4b42-a5e1-9778472901c4\",\"type\":\"LinearScale\"}},\"id\":\"37f1fbe0-2fb8-46a2-995a-a805426dd884\",\"subtype\":\"Figure\",\"type\":\"Plot\"},{\"attributes\":{},\"id\":\"55524759-a918-40aa-b7e2-88eaa37a6287\",\"type\":\"HelpTool\"},{\"attributes\":{},\"id\":\"68db30b8-005b-42f1-af5b-31e0de2faadb\",\"type\":\"CategoricalScale\"},{\"attributes\":{\"children\":[{\"id\":\"51b45b15-5151-4e33-af5c-2f2d3b980561\",\"subtype\":\"Figure\",\"type\":\"Plot\"},{\"id\":\"533b8b67-9a4d-4188-bd76-1a175106b133\",\"subtype\":\"Figure\",\"type\":\"Plot\"},{\"id\":\"37f1fbe0-2fb8-46a2-995a-a805426dd884\",\"subtype\":\"Figure\",\"type\":\"Plot\"}]},\"id\":\"2faca64e-9fb7-4ef1-8262-9d794d020ec8\",\"type\":\"Row\"},{\"attributes\":{\"toolbar\":{\"id\":\"598466c4-b201-43d8-a2f1-df7b7108ec39\",\"type\":\"ProxyToolbar\"},\"toolbar_location\":\"above\"},\"id\":\"186fa12d-2430-4e5b-8258-277b9b9cec64\",\"type\":\"ToolbarBox\"},{\"attributes\":{},\"id\":\"db343144-c835-44af-bad6-cb91e84289df\",\"type\":\"CategoricalTicker\"},{\"attributes\":{\"children\":[{\"id\":\"186fa12d-2430-4e5b-8258-277b9b9cec64\",\"type\":\"ToolbarBox\"},{\"id\":\"f2866daa-5e94-44c4-9413-2e42240948a0\",\"type\":\"Column\"}]},\"id\":\"c7ac91e1-fbf2-423c-b93f-cc5b86cba6f5\",\"type\":\"Column\"},{\"attributes\":{\"fill_alpha\":{\"value\":0.1},\"fill_color\":{\"value\":\"#1f77b4\"},\"line_alpha\":{\"value\":0.1},\"line_color\":{\"value\":\"#1f77b4\"},\"top\":{\"field\":\"flux\"},\"width\":{\"value\":0.9},\"x\":{\"field\":\"band\"}},\"id\":\"6b6f9d3c-e051-4ba0-97bf-807798ce9e15\",\"type\":\"VBar\"},{\"attributes\":{\"bottom_units\":\"screen\",\"fill_alpha\":{\"value\":0.5},\"fill_color\":{\"value\":\"lightgrey\"},\"left_units\":\"screen\",\"level\":\"overlay\",\"line_alpha\":{\"value\":1.0},\"line_color\":{\"value\":\"black\"},\"line_dash\":[4,4],\"line_width\":{\"value\":2},\"plot\":null,\"render_mode\":\"css\",\"right_units\":\"screen\",\"top_units\":\"screen\"},\"id\":\"2d61247c-7704-433c-af18-6edfc5808781\",\"type\":\"BoxAnnotation\"},{\"attributes\":{\"axis_label\":\"spectral band\",\"formatter\":{\"id\":\"24c317a8-5d8f-46f0-adf6-347dc4efc55d\",\"type\":\"CategoricalTickFormatter\"},\"plot\":{\"id\":\"533b8b67-9a4d-4188-bd76-1a175106b133\",\"subtype\":\"Figure\",\"type\":\"Plot\"},\"ticker\":{\"id\":\"0ad6dbdf-ac30-4e4e-aa3b-c155972c3f40\",\"type\":\"CategoricalTicker\"}},\"id\":\"ca52ff19-52b2-4e49-9ebd-a4788079cd0d\",\"type\":\"CategoricalAxis\"},{\"attributes\":{\"below\":[{\"id\":\"ca52ff19-52b2-4e49-9ebd-a4788079cd0d\",\"type\":\"CategoricalAxis\"}],\"left\":[{\"id\":\"8e886649-8823-4d8e-a619-a688b5953621\",\"type\":\"LinearAxis\"}],\"plot_height\":300,\"plot_width\":300,\"renderers\":[{\"id\":\"ca52ff19-52b2-4e49-9ebd-a4788079cd0d\",\"type\":\"CategoricalAxis\"},{\"id\":\"c3d317ef-8a19-4ede-8963-e04182bb3133\",\"type\":\"Grid\"},{\"id\":\"8e886649-8823-4d8e-a619-a688b5953621\",\"type\":\"LinearAxis\"},{\"id\":\"4939c7aa-0c98-402f-b4b9-d637fc753956\",\"type\":\"Grid\"},{\"id\":\"91135571-0bfa-40bd-8665-33d16da242f0\",\"type\":\"BoxAnnotation\"},{\"id\":\"373aafad-f55d-4a55-b81e-1d4b2ea13477\",\"type\":\"GlyphRenderer\"}],\"title\":{\"id\":\"20c89ee7-108e-45a9-bf41-0c14d13051e7\",\"type\":\"Title\"},\"toolbar\":{\"id\":\"bbc3c11b-b57e-4614-b03f-e4c30b9d74b8\",\"type\":\"Toolbar\"},\"toolbar_location\":null,\"x_range\":{\"id\":\"e8f00583-b6cf-4211-b837-5fc111040f6e\",\"type\":\"FactorRange\"},\"x_scale\":{\"id\":\"68db30b8-005b-42f1-af5b-31e0de2faadb\",\"type\":\"CategoricalScale\"},\"y_range\":{\"id\":\"d5da8fd6-85d9-4f58-bfb9-6c0477a79f11\",\"type\":\"DataRange1d\"},\"y_scale\":{\"id\":\"107afee1-f78e-4f87-91ea-aac05e372ef1\",\"type\":\"LinearScale\"}},\"id\":\"533b8b67-9a4d-4188-bd76-1a175106b133\",\"subtype\":\"Figure\",\"type\":\"Plot\"},{\"attributes\":{},\"id\":\"2603b16b-69f3-4cad-98a0-324de8d48ad6\",\"type\":\"Selection\"},{\"attributes\":{\"callback\":null,\"data\":{\"band\":[\"7\"],\"flux\":{\"__ndarray__\":\"gLaP31IDrr8=\",\"dtype\":\"float64\",\"shape\":[1]}},\"selected\":{\"id\":\"2603b16b-69f3-4cad-98a0-324de8d48ad6\",\"type\":\"Selection\"},\"selection_policy\":{\"id\":\"3216520f-817c-49fe-b738-a3fca463f21a\",\"type\":\"UnionRenderers\"}},\"id\":\"8026b6cf-2a37-48b3-aabc-949aad949744\",\"type\":\"ColumnDataSource\"},{\"attributes\":{},\"id\":\"c4a1efb4-5056-4df9-a304-8e45df58e2f1\",\"type\":\"CategoricalTickFormatter\"},{\"attributes\":{\"active_drag\":\"auto\",\"active_inspect\":\"auto\",\"active_scroll\":\"auto\",\"active_tap\":\"auto\",\"tools\":[{\"id\":\"63d4996a-d2cb-4777-8d23-8e4069892d83\",\"type\":\"PanTool\"},{\"id\":\"9e228d54-8580-4108-aae2-027e19a36404\",\"type\":\"WheelZoomTool\"},{\"id\":\"c7790ea6-155f-4faf-b592-5899c8e942c9\",\"type\":\"BoxZoomTool\"},{\"id\":\"e2b9217a-5a78-491b-b77d-5ba518ea6bd5\",\"type\":\"SaveTool\"},{\"id\":\"8c7e0041-bf02-4dde-9da9-97d156c41d06\",\"type\":\"ResetTool\"},{\"id\":\"fccb5c4d-89e1-4011-995b-a03c54cf2c27\",\"type\":\"HelpTool\"}]},\"id\":\"09734d0a-fd09-4ed2-aeae-867b782c2536\",\"type\":\"Toolbar\"},{\"attributes\":{},\"id\":\"cab9e66c-1395-4e79-aa51-f45f6e310a5a\",\"type\":\"PanTool\"},{\"attributes\":{},\"id\":\"104d027e-6b13-4294-a22c-f1d1e9bc9455\",\"type\":\"CategoricalScale\"},{\"attributes\":{},\"id\":\"012ffccb-20ae-4e1a-a4ce-472768d402ba\",\"type\":\"CategoricalTicker\"},{\"attributes\":{\"plot\":null,\"text\":\"TOA flux. CLIRAD - CRD.\"},\"id\":\"ca57efd6-d0d3-4682-be96-e54d3116afd6\",\"type\":\"Title\"},{\"attributes\":{},\"id\":\"00382585-1027-4a9e-ba10-1683d896499e\",\"type\":\"CategoricalTickFormatter\"},{\"attributes\":{},\"id\":\"fccb5c4d-89e1-4011-995b-a03c54cf2c27\",\"type\":\"HelpTool\"},{\"attributes\":{},\"id\":\"3216520f-817c-49fe-b738-a3fca463f21a\",\"type\":\"UnionRenderers\"},{\"attributes\":{},\"id\":\"bc416f0f-2408-4906-8cc9-c9c2d91ab6e2\",\"type\":\"ResetTool\"},{\"attributes\":{\"callback\":null,\"factors\":[\"7\"]},\"id\":\"6fbc5cf7-93fe-445e-97a8-e9501d99fbb5\",\"type\":\"FactorRange\"},{\"attributes\":{\"active_drag\":\"auto\",\"active_inspect\":\"auto\",\"active_scroll\":\"auto\",\"active_tap\":\"auto\",\"tools\":[{\"id\":\"cab9e66c-1395-4e79-aa51-f45f6e310a5a\",\"type\":\"PanTool\"},{\"id\":\"12331815-b2ba-4f9e-b01f-ac8ad9a71b7d\",\"type\":\"WheelZoomTool\"},{\"id\":\"69b6f0c7-6f02-4ff2-8721-9dc853e35830\",\"type\":\"BoxZoomTool\"},{\"id\":\"e88529a8-9c28-40cd-9463-3137c97d45ff\",\"type\":\"SaveTool\"},{\"id\":\"bc416f0f-2408-4906-8cc9-c9c2d91ab6e2\",\"type\":\"ResetTool\"},{\"id\":\"55524759-a918-40aa-b7e2-88eaa37a6287\",\"type\":\"HelpTool\"}]},\"id\":\"7bdf7875-76db-4412-bc29-b6a8be25e060\",\"type\":\"Toolbar\"},{\"attributes\":{\"children\":[{\"id\":\"2faca64e-9fb7-4ef1-8262-9d794d020ec8\",\"type\":\"Row\"}]},\"id\":\"f2866daa-5e94-44c4-9413-2e42240948a0\",\"type\":\"Column\"},{\"attributes\":{},\"id\":\"63d4996a-d2cb-4777-8d23-8e4069892d83\",\"type\":\"PanTool\"},{\"attributes\":{},\"id\":\"8912656c-446c-4e1a-8207-fccf94b4b267\",\"type\":\"BasicTickFormatter\"},{\"attributes\":{},\"id\":\"e2b9217a-5a78-491b-b77d-5ba518ea6bd5\",\"type\":\"SaveTool\"},{\"attributes\":{},\"id\":\"5347770b-bfcd-4499-a8e9-2f3a1be80e8c\",\"type\":\"CategoricalScale\"},{\"attributes\":{},\"id\":\"45538b51-f975-4f2a-a1f0-5e6d61a95e2d\",\"type\":\"WheelZoomTool\"},{\"attributes\":{\"dimension\":1,\"plot\":{\"id\":\"51b45b15-5151-4e33-af5c-2f2d3b980561\",\"subtype\":\"Figure\",\"type\":\"Plot\"},\"ticker\":{\"id\":\"ff8b0102-986b-4ba0-9d34-f3b806f29f07\",\"type\":\"BasicTicker\"}},\"id\":\"81f3b6d4-b86f-4370-91b7-1e906dde2566\",\"type\":\"Grid\"},{\"attributes\":{},\"id\":\"9de02d33-36b8-4544-a064-66813726a733\",\"type\":\"BasicTicker\"},{\"attributes\":{\"plot\":{\"id\":\"51b45b15-5151-4e33-af5c-2f2d3b980561\",\"subtype\":\"Figure\",\"type\":\"Plot\"},\"ticker\":{\"id\":\"012ffccb-20ae-4e1a-a4ce-472768d402ba\",\"type\":\"CategoricalTicker\"}},\"id\":\"5ab008eb-39b9-420c-b69a-0ee204b00777\",\"type\":\"Grid\"},{\"attributes\":{\"axis_label\":\"flux (W m-2)\",\"formatter\":{\"id\":\"ad2c3821-578f-4925-bc39-fd7d648d0605\",\"type\":\"BasicTickFormatter\"},\"plot\":{\"id\":\"37f1fbe0-2fb8-46a2-995a-a805426dd884\",\"subtype\":\"Figure\",\"type\":\"Plot\"},\"ticker\":{\"id\":\"9de02d33-36b8-4544-a064-66813726a733\",\"type\":\"BasicTicker\"}},\"id\":\"d5e9bbfc-a87b-4be1-bd70-5aaeca83fa75\",\"type\":\"LinearAxis\"},{\"attributes\":{},\"id\":\"bfcf98da-7b10-4ab1-979b-24d13369dd36\",\"type\":\"UnionRenderers\"},{\"attributes\":{\"axis_label\":\"spectral band\",\"formatter\":{\"id\":\"00382585-1027-4a9e-ba10-1683d896499e\",\"type\":\"CategoricalTickFormatter\"},\"plot\":{\"id\":\"37f1fbe0-2fb8-46a2-995a-a805426dd884\",\"subtype\":\"Figure\",\"type\":\"Plot\"},\"ticker\":{\"id\":\"db343144-c835-44af-bad6-cb91e84289df\",\"type\":\"CategoricalTicker\"}},\"id\":\"74ec15a7-913d-4253-bd40-d0b3f8c31baf\",\"type\":\"CategoricalAxis\"},{\"attributes\":{\"bottom_units\":\"screen\",\"fill_alpha\":{\"value\":0.5},\"fill_color\":{\"value\":\"lightgrey\"},\"left_units\":\"screen\",\"level\":\"overlay\",\"line_alpha\":{\"value\":1.0},\"line_color\":{\"value\":\"black\"},\"line_dash\":[4,4],\"line_width\":{\"value\":2},\"plot\":null,\"render_mode\":\"css\",\"right_units\":\"screen\",\"top_units\":\"screen\"},\"id\":\"91135571-0bfa-40bd-8665-33d16da242f0\",\"type\":\"BoxAnnotation\"},{\"attributes\":{},\"id\":\"8c7e0041-bf02-4dde-9da9-97d156c41d06\",\"type\":\"ResetTool\"},{\"attributes\":{\"dimension\":1,\"plot\":{\"id\":\"37f1fbe0-2fb8-46a2-995a-a805426dd884\",\"subtype\":\"Figure\",\"type\":\"Plot\"},\"ticker\":{\"id\":\"9de02d33-36b8-4544-a064-66813726a733\",\"type\":\"BasicTicker\"}},\"id\":\"6ff621f0-18c4-4ac1-84eb-e4ca7d31aa09\",\"type\":\"Grid\"},{\"attributes\":{},\"id\":\"12331815-b2ba-4f9e-b01f-ac8ad9a71b7d\",\"type\":\"WheelZoomTool\"},{\"attributes\":{},\"id\":\"0ad6dbdf-ac30-4e4e-aa3b-c155972c3f40\",\"type\":\"CategoricalTicker\"},{\"attributes\":{},\"id\":\"4cfa4e0f-e7e7-4cdd-9d26-82a8cadf0a02\",\"type\":\"SaveTool\"},{\"attributes\":{\"fill_alpha\":{\"value\":0.1},\"fill_color\":{\"value\":\"#1f77b4\"},\"line_alpha\":{\"value\":0.1},\"line_color\":{\"value\":\"#1f77b4\"},\"top\":{\"field\":\"flux\"},\"width\":{\"value\":0.9},\"x\":{\"field\":\"band\"}},\"id\":\"d102ad42-6847-4b31-a20b-7340b80fa03d\",\"type\":\"VBar\"},{\"attributes\":{},\"id\":\"4b11a7f0-a284-4ecf-abd1-d3b6f3339676\",\"type\":\"ResetTool\"},{\"attributes\":{},\"id\":\"9e228d54-8580-4108-aae2-027e19a36404\",\"type\":\"WheelZoomTool\"},{\"attributes\":{},\"id\":\"ad2c3821-578f-4925-bc39-fd7d648d0605\",\"type\":\"BasicTickFormatter\"},{\"attributes\":{},\"id\":\"ff8b0102-986b-4ba0-9d34-f3b806f29f07\",\"type\":\"BasicTicker\"},{\"attributes\":{\"fill_color\":{\"value\":\"#1f77b4\"},\"line_color\":{\"value\":\"#1f77b4\"},\"top\":{\"field\":\"flux\"},\"width\":{\"value\":0.9},\"x\":{\"field\":\"band\"}},\"id\":\"b570d3a1-0843-49d2-b605-af6a6483418a\",\"type\":\"VBar\"},{\"attributes\":{},\"id\":\"9b72cad0-6be9-49b2-bf4e-50eb095bb71e\",\"type\":\"PanTool\"},{\"attributes\":{},\"id\":\"c4e5088b-e9dc-4b42-a5e1-9778472901c4\",\"type\":\"LinearScale\"},{\"attributes\":{\"overlay\":{\"id\":\"09dfa442-a9dd-46bb-b696-7061a5a2feac\",\"type\":\"BoxAnnotation\"}},\"id\":\"c7790ea6-155f-4faf-b592-5899c8e942c9\",\"type\":\"BoxZoomTool\"}],\"root_ids\":[\"c7ac91e1-fbf2-423c-b93f-cc5b86cba6f5\"]},\"title\":\"Bokeh Application\",\"version\":\"0.12.16\"}};\n",
       "  var render_items = [{\"docid\":\"172de780-389a-4894-98ab-135079ab67e6\",\"elementid\":\"dc4e7004-16af-4261-96f0-f3c04be6d0aa\",\"modelid\":\"c7ac91e1-fbf2-423c-b93f-cc5b86cba6f5\"}];\n",
       "  root.Bokeh.embed.embed_items_notebook(docs_json, render_items);\n",
       "\n",
       "  }\n",
       "  if (root.Bokeh !== undefined) {\n",
       "    embed_document(root);\n",
       "  } else {\n",
       "    var attempts = 0;\n",
       "    var timer = setInterval(function(root) {\n",
       "      if (root.Bokeh !== undefined) {\n",
       "        embed_document(root);\n",
       "        clearInterval(timer);\n",
       "      }\n",
       "      attempts++;\n",
       "      if (attempts > 100) {\n",
       "        console.log(\"Bokeh: ERROR: Unable to run BokehJS code because BokehJS library is missing\")\n",
       "        clearInterval(timer);\n",
       "      }\n",
       "    }, 10, root)\n",
       "  }\n",
       "})(window);"
      ],
      "application/vnd.bokehjs_exec.v0+json": ""
     },
     "metadata": {
      "application/vnd.bokehjs_exec.v0+json": {
       "id": "c7ac91e1-fbf2-423c-b93f-cc5b86cba6f5"
      }
     },
     "output_type": "display_data"
    },
    {
     "data": {
      "text/markdown": [
       "*FIGURE.* Difference between CLIRAD and CRD in TOA, SFC and net atmosphere flux, in each spectral band."
      ],
      "text/plain": [
       "<IPython.core.display.Markdown object>"
      ]
     },
     "metadata": {},
     "output_type": "display_data"
    },
    {
     "data": {
      "text/html": [
       "<div>\n",
       "<style scoped>\n",
       "    .dataframe tbody tr th:only-of-type {\n",
       "        vertical-align: middle;\n",
       "    }\n",
       "\n",
       "    .dataframe tbody tr th {\n",
       "        vertical-align: top;\n",
       "    }\n",
       "\n",
       "    .dataframe thead th {\n",
       "        text-align: right;\n",
       "    }\n",
       "</style>\n",
       "<table border=\"1\" class=\"dataframe\">\n",
       "  <thead>\n",
       "    <tr style=\"text-align: right;\">\n",
       "      <th></th>\n",
       "      <th></th>\n",
       "      <th>TOA up</th>\n",
       "      <th>SFC down</th>\n",
       "      <th>ATM heating</th>\n",
       "      <th>tropo up</th>\n",
       "      <th>tropo down</th>\n",
       "      <th>tropo net</th>\n",
       "    </tr>\n",
       "  </thead>\n",
       "  <tbody>\n",
       "    <tr>\n",
       "      <th rowspan=\"2\" valign=\"top\">Sum over band</th>\n",
       "      <th>CLIRAD - CRD</th>\n",
       "      <td>0.40</td>\n",
       "      <td>-0.06</td>\n",
       "      <td>0.46</td>\n",
       "      <td>-0.10</td>\n",
       "      <td>0.06</td>\n",
       "      <td>-0.04</td>\n",
       "    </tr>\n",
       "    <tr>\n",
       "      <th>CRD</th>\n",
       "      <td>-23.05</td>\n",
       "      <td>4.35</td>\n",
       "      <td>3.96</td>\n",
       "      <td>-27.78</td>\n",
       "      <td>1.77</td>\n",
       "      <td>-26.01</td>\n",
       "    </tr>\n",
       "    <tr>\n",
       "      <th rowspan=\"2\" valign=\"top\">Band 7</th>\n",
       "      <th>CLIRAD - CRD</th>\n",
       "      <td>0.40</td>\n",
       "      <td>-0.06</td>\n",
       "      <td>0.46</td>\n",
       "      <td>-0.10</td>\n",
       "      <td>0.06</td>\n",
       "      <td>-0.04</td>\n",
       "    </tr>\n",
       "    <tr>\n",
       "      <th>CRD</th>\n",
       "      <td>-23.05</td>\n",
       "      <td>4.35</td>\n",
       "      <td>3.96</td>\n",
       "      <td>-27.78</td>\n",
       "      <td>1.77</td>\n",
       "      <td>-26.01</td>\n",
       "    </tr>\n",
       "  </tbody>\n",
       "</table>\n",
       "</div>"
      ],
      "text/plain": [
       "                            TOA up  SFC down  ATM heating  tropo up  \\\n",
       "Sum over band CLIRAD - CRD    0.40     -0.06         0.46     -0.10   \n",
       "              CRD           -23.05      4.35         3.96    -27.78   \n",
       "Band 7        CLIRAD - CRD    0.40     -0.06         0.46     -0.10   \n",
       "              CRD           -23.05      4.35         3.96    -27.78   \n",
       "\n",
       "                            tropo down  tropo net  \n",
       "Sum over band CLIRAD - CRD        0.06      -0.04  \n",
       "              CRD                 1.77     -26.01  \n",
       "Band 7        CLIRAD - CRD        0.06      -0.04  \n",
       "              CRD                 1.77     -26.01  "
      ]
     },
     "metadata": {},
     "output_type": "display_data"
    },
    {
     "data": {
      "text/markdown": [
       "*TABLE.* Difference between CLIRAD and CRD fluxes at various atmosphere levels."
      ],
      "text/plain": [
       "<IPython.core.display.Markdown object>"
      ]
     },
     "metadata": {},
     "output_type": "display_data"
    },
    {
     "data": {
      "text/html": [
       "<a id=\"Parameters_of_runs._saw\"></a>"
      ],
      "text/plain": [
       "<IPython.core.display.HTML object>"
      ]
     },
     "metadata": {},
     "output_type": "display_data"
    },
    {
     "data": {
      "text/markdown": [
       "# Parameters of runs. saw"
      ],
      "text/plain": [
       "<IPython.core.display.Markdown object>"
      ]
     },
     "metadata": {},
     "output_type": "display_data"
    },
    {
     "data": {
      "text/html": [
       "<div>\n",
       "<style scoped>\n",
       "    .dataframe tbody tr th:only-of-type {\n",
       "        vertical-align: middle;\n",
       "    }\n",
       "\n",
       "    .dataframe tbody tr th {\n",
       "        vertical-align: top;\n",
       "    }\n",
       "\n",
       "    .dataframe thead tr th {\n",
       "        text-align: left;\n",
       "    }\n",
       "</style>\n",
       "<table border=\"1\" class=\"dataframe\">\n",
       "  <thead>\n",
       "    <tr>\n",
       "      <th></th>\n",
       "      <th>clirad-lw</th>\n",
       "      <th>lblnew-bestfit lw</th>\n",
       "    </tr>\n",
       "    <tr>\n",
       "      <th></th>\n",
       "      <th>:D</th>\n",
       "      <th>band5 o3</th>\n",
       "    </tr>\n",
       "  </thead>\n",
       "  <tbody>\n",
       "    <tr>\n",
       "      <th>atmpro</th>\n",
       "      <td>saw</td>\n",
       "      <td>saw</td>\n",
       "    </tr>\n",
       "    <tr>\n",
       "      <th>band</th>\n",
       "      <td>[7]</td>\n",
       "      <td>5</td>\n",
       "    </tr>\n",
       "    <tr>\n",
       "      <th>commitnumber</th>\n",
       "      <td>1013f91</td>\n",
       "      <td>5014a19</td>\n",
       "    </tr>\n",
       "    <tr>\n",
       "      <th>conc</th>\n",
       "      <td>-</td>\n",
       "      <td>-</td>\n",
       "    </tr>\n",
       "    <tr>\n",
       "      <th>dv</th>\n",
       "      <td>-</td>\n",
       "      <td>0.001</td>\n",
       "    </tr>\n",
       "    <tr>\n",
       "      <th>klin</th>\n",
       "      <td>-</td>\n",
       "      <td>2e-20</td>\n",
       "    </tr>\n",
       "    <tr>\n",
       "      <th>molecule</th>\n",
       "      <td>{'o3': 'atmpro'}</td>\n",
       "      <td>o3</td>\n",
       "    </tr>\n",
       "    <tr>\n",
       "      <th>ng_adju</th>\n",
       "      <td>-</td>\n",
       "      <td>[0, 0]</td>\n",
       "    </tr>\n",
       "    <tr>\n",
       "      <th>ng_refs</th>\n",
       "      <td>-</td>\n",
       "      <td>[2, 5]</td>\n",
       "    </tr>\n",
       "    <tr>\n",
       "      <th>nv</th>\n",
       "      <td>-</td>\n",
       "      <td>1000</td>\n",
       "    </tr>\n",
       "    <tr>\n",
       "      <th>option_compute_btable</th>\n",
       "      <td>-</td>\n",
       "      <td>0</td>\n",
       "    </tr>\n",
       "    <tr>\n",
       "      <th>option_compute_ktable</th>\n",
       "      <td>-</td>\n",
       "      <td>0</td>\n",
       "    </tr>\n",
       "    <tr>\n",
       "      <th>option_wgt_flux</th>\n",
       "      <td>-</td>\n",
       "      <td>1</td>\n",
       "    </tr>\n",
       "    <tr>\n",
       "      <th>option_wgt_k</th>\n",
       "      <td>-</td>\n",
       "      <td>1</td>\n",
       "    </tr>\n",
       "    <tr>\n",
       "      <th>ref_pts</th>\n",
       "      <td>-</td>\n",
       "      <td>[[1, 250], [50, 250]]</td>\n",
       "    </tr>\n",
       "    <tr>\n",
       "      <th>tsfc</th>\n",
       "      <td>257</td>\n",
       "      <td>257</td>\n",
       "    </tr>\n",
       "    <tr>\n",
       "      <th>vmax</th>\n",
       "      <td>-</td>\n",
       "      <td>1100</td>\n",
       "    </tr>\n",
       "    <tr>\n",
       "      <th>vmin</th>\n",
       "      <td>-</td>\n",
       "      <td>980</td>\n",
       "    </tr>\n",
       "    <tr>\n",
       "      <th>w_diffuse</th>\n",
       "      <td>-</td>\n",
       "      <td>[[1.6, 1.75], [1.55, 1.66, 1.7, 1.75, 1.8]]</td>\n",
       "    </tr>\n",
       "    <tr>\n",
       "      <th>wgt</th>\n",
       "      <td>-</td>\n",
       "      <td>[[0.35, 0.6], [0.5, 0.55, 0.7, 0.9, 1.0]]</td>\n",
       "    </tr>\n",
       "  </tbody>\n",
       "</table>\n",
       "</div>"
      ],
      "text/plain": [
       "                              clirad-lw  \\\n",
       "                                     :D   \n",
       "atmpro                              saw   \n",
       "band                                [7]   \n",
       "commitnumber                    1013f91   \n",
       "conc                                  -   \n",
       "dv                                    -   \n",
       "klin                                  -   \n",
       "molecule               {'o3': 'atmpro'}   \n",
       "ng_adju                               -   \n",
       "ng_refs                               -   \n",
       "nv                                    -   \n",
       "option_compute_btable                 -   \n",
       "option_compute_ktable                 -   \n",
       "option_wgt_flux                       -   \n",
       "option_wgt_k                          -   \n",
       "ref_pts                               -   \n",
       "tsfc                                257   \n",
       "vmax                                  -   \n",
       "vmin                                  -   \n",
       "w_diffuse                             -   \n",
       "wgt                                   -   \n",
       "\n",
       "                                                 lblnew-bestfit lw  \n",
       "                                                          band5 o3  \n",
       "atmpro                                                         saw  \n",
       "band                                                             5  \n",
       "commitnumber                                               5014a19  \n",
       "conc                                                             -  \n",
       "dv                                                           0.001  \n",
       "klin                                                         2e-20  \n",
       "molecule                                                        o3  \n",
       "ng_adju                                                     [0, 0]  \n",
       "ng_refs                                                     [2, 5]  \n",
       "nv                                                            1000  \n",
       "option_compute_btable                                            0  \n",
       "option_compute_ktable                                            0  \n",
       "option_wgt_flux                                                  1  \n",
       "option_wgt_k                                                     1  \n",
       "ref_pts                                      [[1, 250], [50, 250]]  \n",
       "tsfc                                                           257  \n",
       "vmax                                                          1100  \n",
       "vmin                                                           980  \n",
       "w_diffuse              [[1.6, 1.75], [1.55, 1.66, 1.7, 1.75, 1.8]]  \n",
       "wgt                      [[0.35, 0.6], [0.5, 0.55, 0.7, 0.9, 1.0]]  "
      ]
     },
     "metadata": {},
     "output_type": "display_data"
    },
    {
     "data": {
      "text/html": [
       "<a id=\"Cooling_rates._saw.\"></a>"
      ],
      "text/plain": [
       "<IPython.core.display.HTML object>"
      ]
     },
     "metadata": {},
     "output_type": "display_data"
    },
    {
     "data": {
      "text/markdown": [
       "# Cooling rates. saw."
      ],
      "text/plain": [
       "<IPython.core.display.Markdown object>"
      ]
     },
     "metadata": {},
     "output_type": "display_data"
    },
    {
     "data": {
      "text/html": [
       "\n",
       "<div class=\"bk-root\">\n",
       "    <div class=\"bk-plotdiv\" id=\"6a455345-4fb3-426c-bcf3-9e7caaa50d56\"></div>\n",
       "</div>"
      ]
     },
     "metadata": {},
     "output_type": "display_data"
    },
    {
     "data": {
      "application/javascript": [
       "(function(root) {\n",
       "  function embed_document(root) {\n",
       "    \n",
       "  var docs_json = {\"72d2eeec-2476-48a6-9c5f-adf8a0f58e2c\":{\"roots\":{\"references\":[{\"attributes\":{\"bottom_units\":\"screen\",\"fill_alpha\":{\"value\":0.5},\"fill_color\":{\"value\":\"lightgrey\"},\"left_units\":\"screen\",\"level\":\"overlay\",\"line_alpha\":{\"value\":1.0},\"line_color\":{\"value\":\"black\"},\"line_dash\":[4,4],\"line_width\":{\"value\":2},\"plot\":null,\"render_mode\":\"css\",\"right_units\":\"screen\",\"top_units\":\"screen\"},\"id\":\"d21972be-b3cb-4f87-859a-0a5a59ea05a4\",\"type\":\"BoxAnnotation\"},{\"attributes\":{\"data_source\":{\"id\":\"0649c184-1cce-4341-8420-1485402a3609\",\"type\":\"ColumnDataSource\"},\"glyph\":{\"id\":\"c90ec7da-74e1-4d9f-bcc5-c2a94e4842f2\",\"type\":\"Circle\"},\"hover_glyph\":null,\"muted_glyph\":null,\"nonselection_glyph\":{\"id\":\"e4107fa9-8915-401b-97fe-ff2d60068136\",\"type\":\"Circle\"},\"selection_glyph\":null,\"view\":{\"id\":\"45c123e9-5e4c-4c6e-84a2-d837e19dc081\",\"type\":\"CDSView\"}},\"id\":\"c665a9fc-d2ae-431c-aa40-54bc90da3345\",\"type\":\"GlyphRenderer\"},{\"attributes\":{\"data_source\":{\"id\":\"7727fe69-9acc-40b5-bb60-5a96cafe1459\",\"type\":\"ColumnDataSource\"},\"glyph\":{\"id\":\"efbc9457-f032-4927-a0a2-7856f559b0f7\",\"type\":\"Line\"},\"hover_glyph\":null,\"muted_glyph\":null,\"nonselection_glyph\":{\"id\":\"feab37ff-2021-4820-bfcb-253cf5bc9843\",\"type\":\"Line\"},\"selection_glyph\":null,\"view\":{\"id\":\"264318d0-6136-4761-86ed-45629c71a8fb\",\"type\":\"CDSView\"}},\"id\":\"3253676f-321c-426f-aa75-803463872547\",\"type\":\"GlyphRenderer\"},{\"attributes\":{},\"id\":\"268e0374-ad74-47ff-8d1a-eb8c6210d82c\",\"type\":\"BasicTickFormatter\"},{\"attributes\":{\"fill_alpha\":{\"value\":0.1},\"fill_color\":{\"value\":\"#1f77b4\"},\"line_alpha\":{\"value\":0.1},\"line_color\":{\"value\":\"#1f77b4\"},\"x\":{\"field\":\"x\"},\"y\":{\"field\":\"y\"}},\"id\":\"e4107fa9-8915-401b-97fe-ff2d60068136\",\"type\":\"Circle\"},{\"attributes\":{\"axis_label\":\"cooling rate [K/day]\",\"formatter\":{\"id\":\"268e0374-ad74-47ff-8d1a-eb8c6210d82c\",\"type\":\"BasicTickFormatter\"},\"plot\":{\"id\":\"7b44ea4f-158a-4909-92a7-6c6ebebb9324\",\"subtype\":\"Figure\",\"type\":\"Plot\"},\"ticker\":{\"id\":\"455552cb-5363-48ef-92d9-35b3911910a4\",\"type\":\"BasicTicker\"}},\"id\":\"d0bd6815-b302-4e2c-bd47-1bc71c2988e7\",\"type\":\"LinearAxis\"},{\"attributes\":{\"callback\":null,\"data\":{\"x\":{\"__ndarray__\":\"TFMSUYFuiD/8gEGr95KKPya7BM8Qp4w/auFiphkxjD8PBKkvuuWIP7UHoTMGZYI/1GtGDmx7cD/Al+NYaulmvxjV7Uh/4Ie/hDN3oFINl79kw01gVyeiv4jbIQZB1am/bGfYrNo8sb/EEcdhAEa3v/gsETPxSr+/HHFB8fxtw790k4J7WSvGv3iVtU3xOMe/8NUg/CY1xr9oF3wCd0zDvyAdndRG3r+/IJbd/iKJsb8AnmakhZuJP8D0MSTJoaA/ADBc3psthD8AZUzaX9NoP4AiCZ288YQ/YNfYeUqZjj9YHFnuzpeVP4CYvSMcl5U/QCpfh9oMkT/w0fAR7HuGP3BvoIm2v3g/YMjiavqIVz9M2bZUgQxZvxhsmVtPb3W/oGCaCOEehr94dn7rMfOPv3hlXgbc5ZK/mHLfVCZok79gNC2SbnuOv3BZMjy3BoK/4FthF5B4bL+APQVkmm5DP5DXxWXDN2g/ICIE/g1ubD9gUm6b3AFoP3jQfPldC2Q/zBc/V+/EYD+QLjHIQN5aPzjVe8g/KlQ/dO+aR0irTT/iupg9l4FGPwdPsyb/H0A/POpyfQt5ND9gfGmpGakjPwBY7MvK89E+4G3d4MBMIL+gtzjGu1Yvv9DhhTKPyDW/kGG00b8DO78gmbRXw1w/v0CtdL4pekG/gFF6GMHmQr/Q5YiQIwVEvzBB3nF4CkW/cPTkkEcGRr/AowUy+7hGvwBIHbM/8Ua/0Hw+dBMZRr+gPHyWo0VEvwCq0W3YuEG/kGBXLOlcPb9A/IdoZX03v+AVemxynDG/\",\"dtype\":\"float64\",\"shape\":[75]},\"y\":{\"__ndarray__\":\"GhExyth1ND/Sv8nbtpRIP2vylNV0PVE/aTum7souWD/At0SJ8fVgPw3Iuahxymc/MSNhhJWvcD/bTfBN02d3P2zb5nxnaoA/CD5h5MAGhz8NmeH1TyaQP+zrCsc9p5Y/LbKd76fGnz/bLW5ISEmmPww9YvTcQq8/JV2OstnstT8Er5Y7M8G+P0c+r3jqkcU/5h99k6ZBzj88bCIzFzjVP4enV8oyxN0//yH99nXg5D8qOpLLf0jtP5kqGJXUifQ/c9cS8kHP/D+/DpwzojQEQIEmwoanVwxA4lgXt9HgE0BSSZ2AJuIbQAMJih9jjiNA5q4l5INuK0AwTKYKRj0zQNv5fmq8/DpAaCJseHrtQkB/+zpwzoxKQM3MzMzMeFJAZmZmZmZqWEAAAAAAAFxeQM3MzMzMJmJAmpmZmZkfZUBmZmZmZhhoQDMzMzMzEWtAAAAAAAAKbkBmZmZmZoFwQM3MzMzM/XFAMzMzMzN6c0CamZmZmfZ0QAAAAAAAc3ZAZmZmZmbvd0DNzMzMzGt5QDMzMzMz6HpAmpmZmZlkfEAAAAAAAOF9QGZmZmZmXX9AZmZmZuZsgECamZmZGSuBQM3MzMxM6YFAAAAAAICngkAzMzMzs2WDQGZmZmbmI4RAmpmZmRnihEDNzMzMTKCFQAAAAACAXoZAMzMzM7Mch0BmZmZm5tqHQJqZmZkZmYhAzczMzExXiUAAAAAAgBWKQDMzMzOz04pAZmZmZuaRi0CamZmZGVCMQM3MzMxMDo1AAAAAAIDMjUAzMzMzs4qOQGZmZmbmSI9A\",\"dtype\":\"float64\",\"shape\":[75]}},\"selected\":{\"id\":\"90df7e1e-509d-44a1-aa52-05d52c4bac6e\",\"type\":\"Selection\"},\"selection_policy\":{\"id\":\"27d32aee-41ab-4a57-9ea8-64f0bf8ea114\",\"type\":\"UnionRenderers\"}},\"id\":\"65df1b0e-f932-4421-bc22-559a9e1da34a\",\"type\":\"ColumnDataSource\"},{\"attributes\":{\"callback\":null,\"data\":{\"x\":{\"__ndarray__\":\"iuvwqr0Nnb9oqXVFhJmevzOhVj2KiZ6/yDIj8CDAmb+BlIq3tVSPvx6dq74IXzs/Vs1r8HpPlz/Up3sTX+iqP0S3omwyMbc/u0XVcMebwT9iL4Xg4ObIP+4cYra/x9A/LwNW1svS1T+isMNMZnLdP79BX6DCZuQ/cpLTh4j06j9atr97k/PwP6cSVEPRgvQ/0u1k8RQK+D8HQ6sA0Hr7PzdfxPUqtf4/rIUfvV12/z+UK4fZdYb6P9suZ8gO+PM/9IVynaSb7T/iUJWalrnkP8cMWKNzNts/LY7fc+Uw0j+X9J7jT+/KP5hE5TrgLsQ/ij1c/PKsvD9qn3YWXa6wP4h9wXm4bqI/FuUSbGFZlz8wL2pJ79tQv0zkCXxfDKC/vsbCBc4+rb++txSZ+m6zv96LVzTwN7e/xxvPXvNuur/V4G9PJmK6vzhWWQgo1be/DgwwFZoptb+dfetoeNGxvxAey42ylqy/56yPwo7qpL9QzgsIkbKcv8qCOPiKupS/UK342u0Pjr/6i/gjYquEvzAvTo12C3q/9G/17Ggrbr9Tc3gD2Ftcv+BBv0ZEcfW+WMvnzXC7WD+SKJJQpI5nP6cMmdLgr3A/PZqya47ydD9iKsALDqF4PzWywenWtXs/qcODmi8vfj+UjFXGPhyAP5IK+gKn9IA/uRiLQjiZgT+i3uGL0BCCP45Cal5dhYI/x1OMfCn/gj8ewWHvq1WDP8JZeXfybIM/Ao3whqAsgz9WY34ZLoqCP1mQdEgvnoE/8orpg1qMgD86UK0EDOV+P54q5Zy3wHw/\",\"dtype\":\"float64\",\"shape\":[75]},\"y\":{\"__ndarray__\":\"GhExyth1ND/Sv8nbtpRIP2vylNV0PVE/aTum7souWD/At0SJ8fVgPw3Iuahxymc/MSNhhJWvcD/bTfBN02d3P2zb5nxnaoA/CD5h5MAGhz8NmeH1TyaQP+zrCsc9p5Y/LbKd76fGnz/bLW5ISEmmPww9YvTcQq8/JV2OstnstT8Er5Y7M8G+P0c+r3jqkcU/5h99k6ZBzj88bCIzFzjVP4enV8oyxN0//yH99nXg5D8qOpLLf0jtP5kqGJXUifQ/c9cS8kHP/D+/DpwzojQEQIEmwoanVwxA4lgXt9HgE0BSSZ2AJuIbQAMJih9jjiNA5q4l5INuK0AwTKYKRj0zQNv5fmq8/DpAaCJseHrtQkB/+zpwzoxKQM3MzMzMeFJAZmZmZmZqWEAAAAAAAFxeQM3MzMzMJmJAmpmZmZkfZUBmZmZmZhhoQDMzMzMzEWtAAAAAAAAKbkBmZmZmZoFwQM3MzMzM/XFAMzMzMzN6c0CamZmZmfZ0QAAAAAAAc3ZAZmZmZmbvd0DNzMzMzGt5QDMzMzMz6HpAmpmZmZlkfEAAAAAAAOF9QGZmZmZmXX9AZmZmZuZsgECamZmZGSuBQM3MzMxM6YFAAAAAAICngkAzMzMzs2WDQGZmZmbmI4RAmpmZmRnihEDNzMzMTKCFQAAAAACAXoZAMzMzM7Mch0BmZmZm5tqHQJqZmZkZmYhAzczMzExXiUAAAAAAgBWKQDMzMzOz04pAZmZmZuaRi0CamZmZGVCMQM3MzMxMDo1AAAAAAIDMjUAzMzMzs4qOQGZmZmbmSI9A\",\"dtype\":\"float64\",\"shape\":[75]}},\"selected\":{\"id\":\"1bec445f-91d3-491a-a593-b096c3498ac3\",\"type\":\"Selection\"},\"selection_policy\":{\"id\":\"0685714e-fc57-4a73-b4b8-7d962a5bd934\",\"type\":\"UnionRenderers\"}},\"id\":\"80f11647-4e0e-4e20-86cf-afadc5226ac3\",\"type\":\"ColumnDataSource\"},{\"attributes\":{\"overlay\":{\"id\":\"d21972be-b3cb-4f87-859a-0a5a59ea05a4\",\"type\":\"BoxAnnotation\"}},\"id\":\"e6807e66-f8b6-4a52-9b09-cc7fb9f955a8\",\"type\":\"BoxZoomTool\"},{\"attributes\":{\"callback\":null,\"end\":0.03462342277000015,\"start\":-0.18356434576999997},\"id\":\"573ecdd2-c322-4892-a747-d023503b343c\",\"type\":\"Range1d\"},{\"attributes\":{\"ticker\":null},\"id\":\"bbc4f7cb-d177-46b8-8e64-780fbc90d365\",\"type\":\"LogTickFormatter\"},{\"attributes\":{},\"id\":\"cc897fff-360e-4aff-a195-36ca60e6af09\",\"type\":\"HelpTool\"},{\"attributes\":{},\"id\":\"7b30ca31-d843-4871-b932-12c5e7329fbc\",\"type\":\"SaveTool\"},{\"attributes\":{\"line_alpha\":0.1,\"line_color\":\"#1f77b4\",\"line_dash\":[6],\"line_width\":5,\"x\":{\"field\":\"x\"},\"y\":{\"field\":\"y\"}},\"id\":\"27b29a28-cb43-4287-a9b4-bfb107624242\",\"type\":\"Line\"},{\"attributes\":{\"axis_label\":\"pressure [mb]\",\"formatter\":{\"id\":\"b0554acd-ff95-41e1-a3b2-d106d96a5aac\",\"type\":\"LogTickFormatter\"},\"plot\":{\"id\":\"7b44ea4f-158a-4909-92a7-6c6ebebb9324\",\"subtype\":\"Figure\",\"type\":\"Plot\"},\"ticker\":{\"id\":\"bb8c5cbe-4542-4ca8-b05d-2196948b98fb\",\"type\":\"LogTicker\"}},\"id\":\"1b5bda8c-f0dc-4fee-8ded-1a0767984c46\",\"type\":\"LogAxis\"},{\"attributes\":{\"line_color\":\"#4daf4a\",\"line_width\":1.5,\"x\":{\"field\":\"x\"},\"y\":{\"field\":\"y\"}},\"id\":\"2ed09d9e-a913-4a02-9036-8008c26296d7\",\"type\":\"Line\"},{\"attributes\":{\"data_source\":{\"id\":\"80f11647-4e0e-4e20-86cf-afadc5226ac3\",\"type\":\"ColumnDataSource\"},\"glyph\":{\"id\":\"2ed09d9e-a913-4a02-9036-8008c26296d7\",\"type\":\"Line\"},\"hover_glyph\":null,\"muted_glyph\":null,\"nonselection_glyph\":{\"id\":\"b963dd9f-9390-4ff2-9f07-966367d2aa4d\",\"type\":\"Line\"},\"selection_glyph\":null,\"view\":{\"id\":\"dbbc7764-2976-46f0-9f2d-e7e08f1cdec1\",\"type\":\"CDSView\"}},\"id\":\"183ec26e-0f11-4e8a-a27e-a1fc68b377f9\",\"type\":\"GlyphRenderer\"},{\"attributes\":{},\"id\":\"ac523ee5-014d-4ba0-9b8b-0b3a0b038fd6\",\"type\":\"SaveTool\"},{\"attributes\":{\"callback\":null,\"end\":0.01,\"start\":1020},\"id\":\"03dfb65d-93d6-4f2f-9547-ab7bd903ab13\",\"type\":\"Range1d\"},{\"attributes\":{},\"id\":\"39f7d04e-becd-48e3-a361-c81619507ce0\",\"type\":\"LogScale\"},{\"attributes\":{\"active_drag\":\"auto\",\"active_inspect\":\"auto\",\"active_scroll\":\"auto\",\"active_tap\":\"auto\",\"tools\":[{\"id\":\"6c6151d5-6e64-4a5d-9070-e98b7902d11d\",\"type\":\"PanTool\"},{\"id\":\"49dded2d-2465-475b-b5e8-2dac0933f55f\",\"type\":\"WheelZoomTool\"},{\"id\":\"e6807e66-f8b6-4a52-9b09-cc7fb9f955a8\",\"type\":\"BoxZoomTool\"},{\"id\":\"7b30ca31-d843-4871-b932-12c5e7329fbc\",\"type\":\"SaveTool\"},{\"id\":\"9e8859da-ceb3-4319-839d-bc0d71f9e059\",\"type\":\"ResetTool\"},{\"id\":\"caf72ed0-3984-4ed3-8d5e-75cbcf0b9b97\",\"type\":\"HelpTool\"}]},\"id\":\"62433d8d-912f-4a11-baed-fc97ec624362\",\"type\":\"Toolbar\"},{\"attributes\":{\"label\":{\"value\":\"CRD\"},\"renderers\":[{\"id\":\"d50386d7-02da-4fe1-9686-9fc8e1e29dd0\",\"type\":\"GlyphRenderer\"},{\"id\":\"183ec26e-0f11-4e8a-a27e-a1fc68b377f9\",\"type\":\"GlyphRenderer\"}]},\"id\":\"ee6cb201-2a15-40fa-9953-d49b70bd4b3c\",\"type\":\"LegendItem\"},{\"attributes\":{\"callback\":null,\"data\":{\"x\":{\"__ndarray__\":\"5MFnAn3WkL/q6NRvCFCRv6BD1NUBNpC/JoTjOShPh7/JQYYf7rtpv55klnn+P4M/S2j981Vumz9Ybu1tyHmpP6H8hIMiNbQ/lb6MOTp0vT+JvnEIC13EP/rCOysvGss/VOkfK5WD0T8x7FE05qDXPyAc/XlkfeA/KzaDSwkZ5j/Xx56YUFzsP/hfnRmzm/E/FNPgEXBD9T8awFsgQRH5P2WNeohGt/w/Sqwxjctd/j/Q+M/krLn6P4G+iBEdffQ/tPbrDFvs7T9HnW/6adLkP9tVQIgB3ts/6FSux68l0z8iGGrBSaLNP6j3XL/D4cY/DQQazxR4wD+oubSY2n2zP3aL9UqvhqU/nBHBEvHRmD8+hBBPOPRkv88RfWdJuqK/c6/0I0Njsb+NhoTWYG23vzwl7zVn8bu/bfgG9PxIv79hh7UhlDG+v2ah3+/+Fbq/7RbrlV4Ntr8icyM0m6qxv5fAblc2E6u/xWqv4q0jo78EBJ50VbKZv7voCDkfOZK/XecoBbLeib8oZvIKmk+Bv+I5L5vmAHW/F7QO25bAZr/iFaxkDBtRv/Cp+gjq6D4/54VErbPZXT9YwCjrNcloP70HTMVdtHA/zq6rZChwdD+lZI4tWKZ3PxhUmfZNWXo/kH1onfN+fD+Wzy9XsUJ+P3x/Jc4Iun8/oXMDMcxqgD9FUNlSftCAP3teTNe1NIE/gAR+A8WegT/iZkE8HOqBP0KFR3ze/YE/NaWsTw/LgT+Mnxbg00WBP7l1l8GhgoA/258NdeZCfz920CSuNW19P0CJHXbwpns/\",\"dtype\":\"float64\",\"shape\":[75]},\"y\":{\"__ndarray__\":\"GhExyth1ND/Sv8nbtpRIP2vylNV0PVE/aTum7souWD/At0SJ8fVgPw3Iuahxymc/MSNhhJWvcD/bTfBN02d3P2zb5nxnaoA/CD5h5MAGhz8NmeH1TyaQP+zrCsc9p5Y/LbKd76fGnz/bLW5ISEmmPww9YvTcQq8/JV2OstnstT8Er5Y7M8G+P0c+r3jqkcU/5h99k6ZBzj88bCIzFzjVP4enV8oyxN0//yH99nXg5D8qOpLLf0jtP5kqGJXUifQ/c9cS8kHP/D+/DpwzojQEQIEmwoanVwxA4lgXt9HgE0BSSZ2AJuIbQAMJih9jjiNA5q4l5INuK0AwTKYKRj0zQNv5fmq8/DpAaCJseHrtQkB/+zpwzoxKQM3MzMzMeFJAZmZmZmZqWEAAAAAAAFxeQM3MzMzMJmJAmpmZmZkfZUBmZmZmZhhoQDMzMzMzEWtAAAAAAAAKbkBmZmZmZoFwQM3MzMzM/XFAMzMzMzN6c0CamZmZmfZ0QAAAAAAAc3ZAZmZmZmbvd0DNzMzMzGt5QDMzMzMz6HpAmpmZmZlkfEAAAAAAAOF9QGZmZmZmXX9AZmZmZuZsgECamZmZGSuBQM3MzMxM6YFAAAAAAICngkAzMzMzs2WDQGZmZmbmI4RAmpmZmRnihEDNzMzMTKCFQAAAAACAXoZAMzMzM7Mch0BmZmZm5tqHQJqZmZkZmYhAzczMzExXiUAAAAAAgBWKQDMzMzOz04pAZmZmZuaRi0CamZmZGVCMQM3MzMxMDo1AAAAAAIDMjUAzMzMzs4qOQGZmZmbmSI9A\",\"dtype\":\"float64\",\"shape\":[75]}},\"selected\":{\"id\":\"a5482ff7-d9dd-4cc9-b0c0-f41952596c5d\",\"type\":\"Selection\"},\"selection_policy\":{\"id\":\"6d57b079-4bd9-443c-bd24-6c2bd30e7bbc\",\"type\":\"UnionRenderers\"}},\"id\":\"bb724f5d-ba6d-4854-88c8-1df1f45aec66\",\"type\":\"ColumnDataSource\"},{\"attributes\":{},\"id\":\"48503033-399c-4568-b923-52f874936752\",\"type\":\"Selection\"},{\"attributes\":{},\"id\":\"455552cb-5363-48ef-92d9-35b3911910a4\",\"type\":\"BasicTicker\"},{\"attributes\":{\"children\":[{\"id\":\"7a6b1e2d-d4a9-4dcd-8bc2-0046469e4558\",\"type\":\"ToolbarBox\"},{\"id\":\"68a179ca-9afc-42d9-b773-fb9c6a481eca\",\"type\":\"Column\"}]},\"id\":\"65b7cb6a-ff74-4149-9f56-31d782fc7b33\",\"type\":\"Column\"},{\"attributes\":{},\"id\":\"caf72ed0-3984-4ed3-8d5e-75cbcf0b9b97\",\"type\":\"HelpTool\"},{\"attributes\":{\"num_minor_ticks\":10},\"id\":\"bb8c5cbe-4542-4ca8-b05d-2196948b98fb\",\"type\":\"LogTicker\"},{\"attributes\":{\"data_source\":{\"id\":\"df9ce4e6-1188-48bd-a449-b8e05ee247aa\",\"type\":\"ColumnDataSource\"},\"glyph\":{\"id\":\"29a6d489-70ef-4161-9a56-4e248dcc0437\",\"type\":\"Circle\"},\"hover_glyph\":null,\"muted_glyph\":null,\"nonselection_glyph\":{\"id\":\"4957efb7-11aa-45e2-bb85-81b6a483a5da\",\"type\":\"Circle\"},\"selection_glyph\":null,\"view\":{\"id\":\"efb16c2d-08e7-4e6f-92b3-1da529db9a4a\",\"type\":\"CDSView\"}},\"id\":\"d50386d7-02da-4fe1-9686-9fc8e1e29dd0\",\"type\":\"GlyphRenderer\"},{\"attributes\":{},\"id\":\"6c6151d5-6e64-4a5d-9070-e98b7902d11d\",\"type\":\"PanTool\"},{\"attributes\":{\"source\":{\"id\":\"df9ce4e6-1188-48bd-a449-b8e05ee247aa\",\"type\":\"ColumnDataSource\"}},\"id\":\"efb16c2d-08e7-4e6f-92b3-1da529db9a4a\",\"type\":\"CDSView\"},{\"attributes\":{\"label\":{\"value\":\"CLIRAD\"},\"renderers\":[{\"id\":\"3253676f-321c-426f-aa75-803463872547\",\"type\":\"GlyphRenderer\"}]},\"id\":\"a10e76e7-4172-4717-bf8b-a9b41801f678\",\"type\":\"LegendItem\"},{\"attributes\":{\"fill_alpha\":{\"value\":0.1},\"fill_color\":{\"value\":\"#1f77b4\"},\"line_alpha\":{\"value\":0.1},\"line_color\":{\"value\":\"#1f77b4\"},\"x\":{\"field\":\"x\"},\"y\":{\"field\":\"y\"}},\"id\":\"888e97c7-c4c1-4ce7-86cd-a7651721940d\",\"type\":\"Circle\"},{\"attributes\":{},\"id\":\"1730f2d9-0664-40de-b3c0-c413a92ac739\",\"type\":\"LinearScale\"},{\"attributes\":{\"source\":{\"id\":\"7727fe69-9acc-40b5-bb60-5a96cafe1459\",\"type\":\"ColumnDataSource\"}},\"id\":\"264318d0-6136-4761-86ed-45629c71a8fb\",\"type\":\"CDSView\"},{\"attributes\":{},\"id\":\"49dded2d-2465-475b-b5e8-2dac0933f55f\",\"type\":\"WheelZoomTool\"},{\"attributes\":{\"data_source\":{\"id\":\"bb724f5d-ba6d-4854-88c8-1df1f45aec66\",\"type\":\"ColumnDataSource\"},\"glyph\":{\"id\":\"737ec690-78fb-4a54-b69d-979046831247\",\"type\":\"Line\"},\"hover_glyph\":null,\"muted_glyph\":null,\"nonselection_glyph\":{\"id\":\"27b29a28-cb43-4287-a9b4-bfb107624242\",\"type\":\"Line\"},\"selection_glyph\":null,\"view\":{\"id\":\"a11b85ae-39d6-4a8b-9664-cb261d98c5e9\",\"type\":\"CDSView\"}},\"id\":\"e21936da-b510-4be4-a92f-0f96083d8453\",\"type\":\"GlyphRenderer\"},{\"attributes\":{\"fill_alpha\":{\"value\":0.7},\"fill_color\":{\"value\":\"#984ea3\"},\"line_alpha\":{\"value\":0.7},\"line_color\":{\"value\":\"#984ea3\"},\"x\":{\"field\":\"x\"},\"y\":{\"field\":\"y\"}},\"id\":\"c90ec7da-74e1-4d9f-bcc5-c2a94e4842f2\",\"type\":\"Circle\"},{\"attributes\":{\"items\":[{\"id\":\"09746f7a-11ac-412e-ae2a-49be74536028\",\"type\":\"LegendItem\"}],\"label_text_font_size\":{\"value\":\"8pt\"},\"location\":\"top_center\",\"orientation\":\"horizontal\",\"plot\":{\"id\":\"7b44ea4f-158a-4909-92a7-6c6ebebb9324\",\"subtype\":\"Figure\",\"type\":\"Plot\"}},\"id\":\"30389acb-69ec-4805-b3cd-fe17eb7aea04\",\"type\":\"Legend\"},{\"attributes\":{\"fill_alpha\":{\"value\":0.7},\"fill_color\":{\"value\":\"#4daf4a\"},\"line_alpha\":{\"value\":0.7},\"line_color\":{\"value\":\"#4daf4a\"},\"x\":{\"field\":\"x\"},\"y\":{\"field\":\"y\"}},\"id\":\"430779ab-6a4b-436c-914e-f682010c2c15\",\"type\":\"Circle\"},{\"attributes\":{\"callback\":null,\"data\":{\"x\":{\"__ndarray__\":\"TFMSUYFuiD/8gEGr95KKPya7BM8Qp4w/auFiphkxjD8PBKkvuuWIP7UHoTMGZYI/1GtGDmx7cD/Al+NYaulmvxjV7Uh/4Ie/hDN3oFINl79kw01gVyeiv4jbIQZB1am/bGfYrNo8sb/EEcdhAEa3v/gsETPxSr+/HHFB8fxtw790k4J7WSvGv3iVtU3xOMe/8NUg/CY1xr9oF3wCd0zDvyAdndRG3r+/IJbd/iKJsb8AnmakhZuJP8D0MSTJoaA/ADBc3psthD8AZUzaX9NoP4AiCZ288YQ/YNfYeUqZjj9YHFnuzpeVP4CYvSMcl5U/QCpfh9oMkT/w0fAR7HuGP3BvoIm2v3g/YMjiavqIVz9M2bZUgQxZvxhsmVtPb3W/oGCaCOEehr94dn7rMfOPv3hlXgbc5ZK/mHLfVCZok79gNC2SbnuOv3BZMjy3BoK/4FthF5B4bL+APQVkmm5DP5DXxWXDN2g/ICIE/g1ubD9gUm6b3AFoP3jQfPldC2Q/zBc/V+/EYD+QLjHIQN5aPzjVe8g/KlQ/dO+aR0irTT/iupg9l4FGPwdPsyb/H0A/POpyfQt5ND9gfGmpGakjPwBY7MvK89E+4G3d4MBMIL+gtzjGu1Yvv9DhhTKPyDW/kGG00b8DO78gmbRXw1w/v0CtdL4pekG/gFF6GMHmQr/Q5YiQIwVEvzBB3nF4CkW/cPTkkEcGRr/AowUy+7hGvwBIHbM/8Ua/0Hw+dBMZRr+gPHyWo0VEvwCq0W3YuEG/kGBXLOlcPb9A/IdoZX03v+AVemxynDG/\",\"dtype\":\"float64\",\"shape\":[75]},\"y\":{\"__ndarray__\":\"GhExyth1ND/Sv8nbtpRIP2vylNV0PVE/aTum7souWD/At0SJ8fVgPw3Iuahxymc/MSNhhJWvcD/bTfBN02d3P2zb5nxnaoA/CD5h5MAGhz8NmeH1TyaQP+zrCsc9p5Y/LbKd76fGnz/bLW5ISEmmPww9YvTcQq8/JV2OstnstT8Er5Y7M8G+P0c+r3jqkcU/5h99k6ZBzj88bCIzFzjVP4enV8oyxN0//yH99nXg5D8qOpLLf0jtP5kqGJXUifQ/c9cS8kHP/D+/DpwzojQEQIEmwoanVwxA4lgXt9HgE0BSSZ2AJuIbQAMJih9jjiNA5q4l5INuK0AwTKYKRj0zQNv5fmq8/DpAaCJseHrtQkB/+zpwzoxKQM3MzMzMeFJAZmZmZmZqWEAAAAAAAFxeQM3MzMzMJmJAmpmZmZkfZUBmZmZmZhhoQDMzMzMzEWtAAAAAAAAKbkBmZmZmZoFwQM3MzMzM/XFAMzMzMzN6c0CamZmZmfZ0QAAAAAAAc3ZAZmZmZmbvd0DNzMzMzGt5QDMzMzMz6HpAmpmZmZlkfEAAAAAAAOF9QGZmZmZmXX9AZmZmZuZsgECamZmZGSuBQM3MzMxM6YFAAAAAAICngkAzMzMzs2WDQGZmZmbmI4RAmpmZmRnihEDNzMzMTKCFQAAAAACAXoZAMzMzM7Mch0BmZmZm5tqHQJqZmZkZmYhAzczMzExXiUAAAAAAgBWKQDMzMzOz04pAZmZmZuaRi0CamZmZGVCMQM3MzMxMDo1AAAAAAIDMjUAzMzMzs4qOQGZmZmbmSI9A\",\"dtype\":\"float64\",\"shape\":[75]}},\"selected\":{\"id\":\"e33b772b-e015-4100-aaff-8e0980b9b892\",\"type\":\"Selection\"},\"selection_policy\":{\"id\":\"151c97bd-bd9b-4518-a434-b8d6d938ecbd\",\"type\":\"UnionRenderers\"}},\"id\":\"0649c184-1cce-4341-8420-1485402a3609\",\"type\":\"ColumnDataSource\"},{\"attributes\":{\"bottom_units\":\"screen\",\"fill_alpha\":{\"value\":0.5},\"fill_color\":{\"value\":\"lightgrey\"},\"left_units\":\"screen\",\"level\":\"overlay\",\"line_alpha\":{\"value\":1.0},\"line_color\":{\"value\":\"black\"},\"line_dash\":[4,4],\"line_width\":{\"value\":2},\"plot\":null,\"render_mode\":\"css\",\"right_units\":\"screen\",\"top_units\":\"screen\"},\"id\":\"ad588e1e-bb4d-4ab2-9704-356016642571\",\"type\":\"BoxAnnotation\"},{\"attributes\":{\"plot\":{\"id\":\"7b44ea4f-158a-4909-92a7-6c6ebebb9324\",\"subtype\":\"Figure\",\"type\":\"Plot\"},\"ticker\":{\"id\":\"455552cb-5363-48ef-92d9-35b3911910a4\",\"type\":\"BasicTicker\"}},\"id\":\"d6b62d90-32ff-4f53-bb1a-15e4cff593b1\",\"type\":\"Grid\"},{\"attributes\":{\"toolbar\":{\"id\":\"507a4f89-4aee-4f3e-965f-61bef270c417\",\"type\":\"ProxyToolbar\"},\"toolbar_location\":\"above\"},\"id\":\"7a6b1e2d-d4a9-4dcd-8bc2-0046469e4558\",\"type\":\"ToolbarBox\"},{\"attributes\":{\"source\":{\"id\":\"80f11647-4e0e-4e20-86cf-afadc5226ac3\",\"type\":\"ColumnDataSource\"}},\"id\":\"dbbc7764-2976-46f0-9f2d-e7e08f1cdec1\",\"type\":\"CDSView\"},{\"attributes\":{},\"id\":\"4c0e709d-664c-4722-9546-28d476d61cfa\",\"type\":\"UnionRenderers\"},{\"attributes\":{},\"id\":\"9e8859da-ceb3-4319-839d-bc0d71f9e059\",\"type\":\"ResetTool\"},{\"attributes\":{\"dimension\":1,\"plot\":{\"id\":\"7b44ea4f-158a-4909-92a7-6c6ebebb9324\",\"subtype\":\"Figure\",\"type\":\"Plot\"},\"ticker\":{\"id\":\"bb8c5cbe-4542-4ca8-b05d-2196948b98fb\",\"type\":\"LogTicker\"}},\"id\":\"566fe140-49ef-4a12-aff5-c0f825b5901f\",\"type\":\"Grid\"},{\"attributes\":{\"source\":{\"id\":\"bb724f5d-ba6d-4854-88c8-1df1f45aec66\",\"type\":\"ColumnDataSource\"}},\"id\":\"a11b85ae-39d6-4a8b-9664-cb261d98c5e9\",\"type\":\"CDSView\"},{\"attributes\":{\"callback\":null,\"end\":0.01,\"start\":1020},\"id\":\"2611b9cd-fc2b-4b6a-839d-2a3dab6e318c\",\"type\":\"Range1d\"},{\"attributes\":{\"callback\":null,\"data\":{\"x\":{\"__ndarray__\":\"iuvwqr0Nnb9oqXVFhJmevzOhVj2KiZ6/yDIj8CDAmb+BlIq3tVSPvx6dq74IXzs/Vs1r8HpPlz/Up3sTX+iqP0S3omwyMbc/u0XVcMebwT9iL4Xg4ObIP+4cYra/x9A/LwNW1svS1T+isMNMZnLdP79BX6DCZuQ/cpLTh4j06j9atr97k/PwP6cSVEPRgvQ/0u1k8RQK+D8HQ6sA0Hr7PzdfxPUqtf4/rIUfvV12/z+UK4fZdYb6P9suZ8gO+PM/9IVynaSb7T/iUJWalrnkP8cMWKNzNts/LY7fc+Uw0j+X9J7jT+/KP5hE5TrgLsQ/ij1c/PKsvD9qn3YWXa6wP4h9wXm4bqI/FuUSbGFZlz8wL2pJ79tQv0zkCXxfDKC/vsbCBc4+rb++txSZ+m6zv96LVzTwN7e/xxvPXvNuur/V4G9PJmK6vzhWWQgo1be/DgwwFZoptb+dfetoeNGxvxAey42ylqy/56yPwo7qpL9QzgsIkbKcv8qCOPiKupS/UK342u0Pjr/6i/gjYquEvzAvTo12C3q/9G/17Ggrbr9Tc3gD2Ftcv+BBv0ZEcfW+WMvnzXC7WD+SKJJQpI5nP6cMmdLgr3A/PZqya47ydD9iKsALDqF4PzWywenWtXs/qcODmi8vfj+UjFXGPhyAP5IK+gKn9IA/uRiLQjiZgT+i3uGL0BCCP45Cal5dhYI/x1OMfCn/gj8ewWHvq1WDP8JZeXfybIM/Ao3whqAsgz9WY34ZLoqCP1mQdEgvnoE/8orpg1qMgD86UK0EDOV+P54q5Zy3wHw/\",\"dtype\":\"float64\",\"shape\":[75]},\"y\":{\"__ndarray__\":\"GhExyth1ND/Sv8nbtpRIP2vylNV0PVE/aTum7souWD/At0SJ8fVgPw3Iuahxymc/MSNhhJWvcD/bTfBN02d3P2zb5nxnaoA/CD5h5MAGhz8NmeH1TyaQP+zrCsc9p5Y/LbKd76fGnz/bLW5ISEmmPww9YvTcQq8/JV2OstnstT8Er5Y7M8G+P0c+r3jqkcU/5h99k6ZBzj88bCIzFzjVP4enV8oyxN0//yH99nXg5D8qOpLLf0jtP5kqGJXUifQ/c9cS8kHP/D+/DpwzojQEQIEmwoanVwxA4lgXt9HgE0BSSZ2AJuIbQAMJih9jjiNA5q4l5INuK0AwTKYKRj0zQNv5fmq8/DpAaCJseHrtQkB/+zpwzoxKQM3MzMzMeFJAZmZmZmZqWEAAAAAAAFxeQM3MzMzMJmJAmpmZmZkfZUBmZmZmZhhoQDMzMzMzEWtAAAAAAAAKbkBmZmZmZoFwQM3MzMzM/XFAMzMzMzN6c0CamZmZmfZ0QAAAAAAAc3ZAZmZmZmbvd0DNzMzMzGt5QDMzMzMz6HpAmpmZmZlkfEAAAAAAAOF9QGZmZmZmXX9AZmZmZuZsgECamZmZGSuBQM3MzMxM6YFAAAAAAICngkAzMzMzs2WDQGZmZmbmI4RAmpmZmRnihEDNzMzMTKCFQAAAAACAXoZAMzMzM7Mch0BmZmZm5tqHQJqZmZkZmYhAzczMzExXiUAAAAAAgBWKQDMzMzOz04pAZmZmZuaRi0CamZmZGVCMQM3MzMxMDo1AAAAAAIDMjUAzMzMzs4qOQGZmZmbmSI9A\",\"dtype\":\"float64\",\"shape\":[75]}},\"selected\":{\"id\":\"60b59fd7-8cec-4cc2-875d-40a0c363f6cd\",\"type\":\"Selection\"},\"selection_policy\":{\"id\":\"b4ea2d94-162c-4f44-9c74-0e8e9852c3e7\",\"type\":\"UnionRenderers\"}},\"id\":\"c098ad04-b087-4c84-8722-d0d2afcd9333\",\"type\":\"ColumnDataSource\"},{\"attributes\":{\"line_alpha\":0.1,\"line_color\":\"#1f77b4\",\"line_width\":1.5,\"x\":{\"field\":\"x\"},\"y\":{\"field\":\"y\"}},\"id\":\"b963dd9f-9390-4ff2-9f07-966367d2aa4d\",\"type\":\"Line\"},{\"attributes\":{\"callback\":null,\"data\":{\"x\":{\"__ndarray__\":\"5MFnAn3WkL/q6NRvCFCRv6BD1NUBNpC/JoTjOShPh7/JQYYf7rtpv55klnn+P4M/S2j981Vumz9Ybu1tyHmpP6H8hIMiNbQ/lb6MOTp0vT+JvnEIC13EP/rCOysvGss/VOkfK5WD0T8x7FE05qDXPyAc/XlkfeA/KzaDSwkZ5j/Xx56YUFzsP/hfnRmzm/E/FNPgEXBD9T8awFsgQRH5P2WNeohGt/w/Sqwxjctd/j/Q+M/krLn6P4G+iBEdffQ/tPbrDFvs7T9HnW/6adLkP9tVQIgB3ts/6FSux68l0z8iGGrBSaLNP6j3XL/D4cY/DQQazxR4wD+oubSY2n2zP3aL9UqvhqU/nBHBEvHRmD8+hBBPOPRkv88RfWdJuqK/c6/0I0Njsb+NhoTWYG23vzwl7zVn8bu/bfgG9PxIv79hh7UhlDG+v2ah3+/+Fbq/7RbrlV4Ntr8icyM0m6qxv5fAblc2E6u/xWqv4q0jo78EBJ50VbKZv7voCDkfOZK/XecoBbLeib8oZvIKmk+Bv+I5L5vmAHW/F7QO25bAZr/iFaxkDBtRv/Cp+gjq6D4/54VErbPZXT9YwCjrNcloP70HTMVdtHA/zq6rZChwdD+lZI4tWKZ3PxhUmfZNWXo/kH1onfN+fD+Wzy9XsUJ+P3x/Jc4Iun8/oXMDMcxqgD9FUNlSftCAP3teTNe1NIE/gAR+A8WegT/iZkE8HOqBP0KFR3ze/YE/NaWsTw/LgT+Mnxbg00WBP7l1l8GhgoA/258NdeZCfz920CSuNW19P0CJHXbwpns/\",\"dtype\":\"float64\",\"shape\":[75]},\"y\":{\"__ndarray__\":\"GhExyth1ND/Sv8nbtpRIP2vylNV0PVE/aTum7souWD/At0SJ8fVgPw3Iuahxymc/MSNhhJWvcD/bTfBN02d3P2zb5nxnaoA/CD5h5MAGhz8NmeH1TyaQP+zrCsc9p5Y/LbKd76fGnz/bLW5ISEmmPww9YvTcQq8/JV2OstnstT8Er5Y7M8G+P0c+r3jqkcU/5h99k6ZBzj88bCIzFzjVP4enV8oyxN0//yH99nXg5D8qOpLLf0jtP5kqGJXUifQ/c9cS8kHP/D+/DpwzojQEQIEmwoanVwxA4lgXt9HgE0BSSZ2AJuIbQAMJih9jjiNA5q4l5INuK0AwTKYKRj0zQNv5fmq8/DpAaCJseHrtQkB/+zpwzoxKQM3MzMzMeFJAZmZmZmZqWEAAAAAAAFxeQM3MzMzMJmJAmpmZmZkfZUBmZmZmZhhoQDMzMzMzEWtAAAAAAAAKbkBmZmZmZoFwQM3MzMzM/XFAMzMzMzN6c0CamZmZmfZ0QAAAAAAAc3ZAZmZmZmbvd0DNzMzMzGt5QDMzMzMz6HpAmpmZmZlkfEAAAAAAAOF9QGZmZmZmXX9AZmZmZuZsgECamZmZGSuBQM3MzMxM6YFAAAAAAICngkAzMzMzs2WDQGZmZmbmI4RAmpmZmRnihEDNzMzMTKCFQAAAAACAXoZAMzMzM7Mch0BmZmZm5tqHQJqZmZkZmYhAzczMzExXiUAAAAAAgBWKQDMzMzOz04pAZmZmZuaRi0CamZmZGVCMQM3MzMxMDo1AAAAAAIDMjUAzMzMzs4qOQGZmZmbmSI9A\",\"dtype\":\"float64\",\"shape\":[75]}},\"selected\":{\"id\":\"48503033-399c-4568-b923-52f874936752\",\"type\":\"Selection\"},\"selection_policy\":{\"id\":\"571b72c0-17fd-4a9b-b256-e53a466686c3\",\"type\":\"UnionRenderers\"}},\"id\":\"7727fe69-9acc-40b5-bb60-5a96cafe1459\",\"type\":\"ColumnDataSource\"},{\"attributes\":{\"bottom_units\":\"screen\",\"fill_alpha\":{\"value\":0.5},\"fill_color\":{\"value\":\"lightgrey\"},\"left_units\":\"screen\",\"level\":\"overlay\",\"line_alpha\":{\"value\":1.0},\"line_color\":{\"value\":\"black\"},\"line_dash\":[4,4],\"line_width\":{\"value\":2},\"plot\":null,\"render_mode\":\"css\",\"right_units\":\"screen\",\"top_units\":\"screen\"},\"id\":\"3c06a4b3-1dc2-44e0-aa7f-239dee277302\",\"type\":\"BoxAnnotation\"},{\"attributes\":{\"plot\":{\"id\":\"27761727-6cb2-4dee-ae46-717efab859a0\",\"subtype\":\"Figure\",\"type\":\"Plot\"},\"ticker\":{\"id\":\"0a9fe4b9-650c-4876-b8ad-0190fb13efe3\",\"type\":\"BasicTicker\"}},\"id\":\"dfaa1688-4b81-4e0c-a5b6-e4ab32523adc\",\"type\":\"Grid\"},{\"attributes\":{},\"id\":\"d15e8b32-9313-4dd6-86cb-1b0f3aadcf2e\",\"type\":\"PanTool\"},{\"attributes\":{\"line_alpha\":0.1,\"line_color\":\"#1f77b4\",\"line_dash\":[6],\"line_width\":5,\"x\":{\"field\":\"x\"},\"y\":{\"field\":\"y\"}},\"id\":\"feab37ff-2021-4820-bfcb-253cf5bc9843\",\"type\":\"Line\"},{\"attributes\":{\"tools\":[{\"id\":\"d15e8b32-9313-4dd6-86cb-1b0f3aadcf2e\",\"type\":\"PanTool\"},{\"id\":\"9f62aa99-9824-43a5-ad21-910d62aeeb72\",\"type\":\"WheelZoomTool\"},{\"id\":\"d8298325-a570-4887-81a7-1f0d84161283\",\"type\":\"BoxZoomTool\"},{\"id\":\"65d53ac4-eda5-49c3-a624-7b0d5168e1bd\",\"type\":\"SaveTool\"},{\"id\":\"931dcf8f-9998-476e-93da-0303c627cb0b\",\"type\":\"ResetTool\"},{\"id\":\"cc897fff-360e-4aff-a195-36ca60e6af09\",\"type\":\"HelpTool\"},{\"id\":\"4a4fef94-04b3-4966-bfff-d5f9a974e183\",\"type\":\"PanTool\"},{\"id\":\"4f73ffed-0327-4ad1-93c0-c9e67273c077\",\"type\":\"WheelZoomTool\"},{\"id\":\"abafe278-8ff4-448a-adab-8b080f2c2d7b\",\"type\":\"BoxZoomTool\"},{\"id\":\"ac523ee5-014d-4ba0-9b8b-0b3a0b038fd6\",\"type\":\"SaveTool\"},{\"id\":\"51e22817-370b-414d-95eb-38243c61bc50\",\"type\":\"ResetTool\"},{\"id\":\"f49273fc-b0ee-46d4-9a44-effa351408af\",\"type\":\"HelpTool\"},{\"id\":\"6c6151d5-6e64-4a5d-9070-e98b7902d11d\",\"type\":\"PanTool\"},{\"id\":\"49dded2d-2465-475b-b5e8-2dac0933f55f\",\"type\":\"WheelZoomTool\"},{\"id\":\"e6807e66-f8b6-4a52-9b09-cc7fb9f955a8\",\"type\":\"BoxZoomTool\"},{\"id\":\"7b30ca31-d843-4871-b932-12c5e7329fbc\",\"type\":\"SaveTool\"},{\"id\":\"9e8859da-ceb3-4319-839d-bc0d71f9e059\",\"type\":\"ResetTool\"},{\"id\":\"caf72ed0-3984-4ed3-8d5e-75cbcf0b9b97\",\"type\":\"HelpTool\"}]},\"id\":\"507a4f89-4aee-4f3e-965f-61bef270c417\",\"type\":\"ProxyToolbar\"},{\"attributes\":{\"above\":[{\"id\":\"95d86cda-b66c-4b37-ae73-dfe0bb9ba908\",\"type\":\"Legend\"}],\"below\":[{\"id\":\"1cc377d3-5395-440b-9d84-5cddc466f2f9\",\"type\":\"LinearAxis\"}],\"left\":[{\"id\":\"2b47b5d9-2a4b-4198-9d02-838255601e6a\",\"type\":\"LinearAxis\"}],\"plot_width\":300,\"renderers\":[{\"id\":\"1cc377d3-5395-440b-9d84-5cddc466f2f9\",\"type\":\"LinearAxis\"},{\"id\":\"dfaa1688-4b81-4e0c-a5b6-e4ab32523adc\",\"type\":\"Grid\"},{\"id\":\"2b47b5d9-2a4b-4198-9d02-838255601e6a\",\"type\":\"LinearAxis\"},{\"id\":\"d1443466-7158-4b8b-9b35-9171f71aec3e\",\"type\":\"Grid\"},{\"id\":\"ad588e1e-bb4d-4ab2-9704-356016642571\",\"type\":\"BoxAnnotation\"},{\"id\":\"e21936da-b510-4be4-a92f-0f96083d8453\",\"type\":\"GlyphRenderer\"},{\"id\":\"e9c33e87-10c0-4e29-b5b3-04ff19f71f2a\",\"type\":\"GlyphRenderer\"},{\"id\":\"0f5fb2f9-5a83-4959-896c-35aad06a6f21\",\"type\":\"GlyphRenderer\"},{\"id\":\"95d86cda-b66c-4b37-ae73-dfe0bb9ba908\",\"type\":\"Legend\"}],\"title\":{\"id\":\"518c947c-e32a-441e-b59e-c369eab232a8\",\"type\":\"Title\"},\"toolbar\":{\"id\":\"0f3d3fa8-ed14-4d3e-8fc0-69bf97f6e09d\",\"type\":\"Toolbar\"},\"toolbar_location\":null,\"x_range\":{\"id\":\"de93fcf4-3a3e-4046-8963-dc2c6acbcdb8\",\"type\":\"Range1d\"},\"x_scale\":{\"id\":\"5edfb155-9e6f-4e9f-8e76-c4fa990b47b6\",\"type\":\"LinearScale\"},\"y_range\":{\"id\":\"2611b9cd-fc2b-4b6a-839d-2a3dab6e318c\",\"type\":\"Range1d\"},\"y_scale\":{\"id\":\"932c4791-95c0-4ff9-8343-6aaba9f2210e\",\"type\":\"LinearScale\"}},\"id\":\"27761727-6cb2-4dee-ae46-717efab859a0\",\"subtype\":\"Figure\",\"type\":\"Plot\"},{\"attributes\":{\"plot\":{\"id\":\"8226e5a5-e398-4cef-83db-cd8580ce5892\",\"subtype\":\"Figure\",\"type\":\"Plot\"},\"ticker\":{\"id\":\"1d930f0d-15cd-4e17-97a3-acb955592275\",\"type\":\"BasicTicker\"}},\"id\":\"e50475ec-2405-4ed2-b4ca-dfefdc6918ca\",\"type\":\"Grid\"},{\"attributes\":{\"callback\":null,\"data\":{\"x\":{\"__ndarray__\":\"iuvwqr0Nnb9oqXVFhJmevzOhVj2KiZ6/yDIj8CDAmb+BlIq3tVSPvx6dq74IXzs/Vs1r8HpPlz/Up3sTX+iqP0S3omwyMbc/u0XVcMebwT9iL4Xg4ObIP+4cYra/x9A/LwNW1svS1T+isMNMZnLdP79BX6DCZuQ/cpLTh4j06j9atr97k/PwP6cSVEPRgvQ/0u1k8RQK+D8HQ6sA0Hr7PzdfxPUqtf4/rIUfvV12/z+UK4fZdYb6P9suZ8gO+PM/9IVynaSb7T/iUJWalrnkP8cMWKNzNts/LY7fc+Uw0j+X9J7jT+/KP5hE5TrgLsQ/ij1c/PKsvD9qn3YWXa6wP4h9wXm4bqI/FuUSbGFZlz8wL2pJ79tQv0zkCXxfDKC/vsbCBc4+rb++txSZ+m6zv96LVzTwN7e/xxvPXvNuur/V4G9PJmK6vzhWWQgo1be/DgwwFZoptb+dfetoeNGxvxAey42ylqy/56yPwo7qpL9QzgsIkbKcv8qCOPiKupS/UK342u0Pjr/6i/gjYquEvzAvTo12C3q/9G/17Ggrbr9Tc3gD2Ftcv+BBv0ZEcfW+WMvnzXC7WD+SKJJQpI5nP6cMmdLgr3A/PZqya47ydD9iKsALDqF4PzWywenWtXs/qcODmi8vfj+UjFXGPhyAP5IK+gKn9IA/uRiLQjiZgT+i3uGL0BCCP45Cal5dhYI/x1OMfCn/gj8ewWHvq1WDP8JZeXfybIM/Ao3whqAsgz9WY34ZLoqCP1mQdEgvnoE/8orpg1qMgD86UK0EDOV+P54q5Zy3wHw/\",\"dtype\":\"float64\",\"shape\":[75]},\"y\":{\"__ndarray__\":\"GhExyth1ND/Sv8nbtpRIP2vylNV0PVE/aTum7souWD/At0SJ8fVgPw3Iuahxymc/MSNhhJWvcD/bTfBN02d3P2zb5nxnaoA/CD5h5MAGhz8NmeH1TyaQP+zrCsc9p5Y/LbKd76fGnz/bLW5ISEmmPww9YvTcQq8/JV2OstnstT8Er5Y7M8G+P0c+r3jqkcU/5h99k6ZBzj88bCIzFzjVP4enV8oyxN0//yH99nXg5D8qOpLLf0jtP5kqGJXUifQ/c9cS8kHP/D+/DpwzojQEQIEmwoanVwxA4lgXt9HgE0BSSZ2AJuIbQAMJih9jjiNA5q4l5INuK0AwTKYKRj0zQNv5fmq8/DpAaCJseHrtQkB/+zpwzoxKQM3MzMzMeFJAZmZmZmZqWEAAAAAAAFxeQM3MzMzMJmJAmpmZmZkfZUBmZmZmZhhoQDMzMzMzEWtAAAAAAAAKbkBmZmZmZoFwQM3MzMzM/XFAMzMzMzN6c0CamZmZmfZ0QAAAAAAAc3ZAZmZmZmbvd0DNzMzMzGt5QDMzMzMz6HpAmpmZmZlkfEAAAAAAAOF9QGZmZmZmXX9AZmZmZuZsgECamZmZGSuBQM3MzMxM6YFAAAAAAICngkAzMzMzs2WDQGZmZmbmI4RAmpmZmRnihEDNzMzMTKCFQAAAAACAXoZAMzMzM7Mch0BmZmZm5tqHQJqZmZkZmYhAzczMzExXiUAAAAAAgBWKQDMzMzOz04pAZmZmZuaRi0CamZmZGVCMQM3MzMxMDo1AAAAAAIDMjUAzMzMzs4qOQGZmZmbmSI9A\",\"dtype\":\"float64\",\"shape\":[75]}},\"selected\":{\"id\":\"49507967-1c64-4070-9386-9f141ec5d86b\",\"type\":\"Selection\"},\"selection_policy\":{\"id\":\"4c0e709d-664c-4722-9546-28d476d61cfa\",\"type\":\"UnionRenderers\"}},\"id\":\"372c2092-dfd3-4d2c-86c1-15ba7f31b3a5\",\"type\":\"ColumnDataSource\"},{\"attributes\":{},\"id\":\"51e22817-370b-414d-95eb-38243c61bc50\",\"type\":\"ResetTool\"},{\"attributes\":{\"line_alpha\":0.1,\"line_color\":\"#1f77b4\",\"line_width\":1.5,\"x\":{\"field\":\"x\"},\"y\":{\"field\":\"y\"}},\"id\":\"b1a288c4-0df5-4242-b6d7-129e42e910f0\",\"type\":\"Line\"},{\"attributes\":{},\"id\":\"0a9fe4b9-650c-4876-b8ad-0190fb13efe3\",\"type\":\"BasicTicker\"},{\"attributes\":{\"items\":[{\"id\":\"a10e76e7-4172-4717-bf8b-a9b41801f678\",\"type\":\"LegendItem\"},{\"id\":\"ee6cb201-2a15-40fa-9953-d49b70bd4b3c\",\"type\":\"LegendItem\"}],\"label_text_font_size\":{\"value\":\"8pt\"},\"location\":\"top_center\",\"orientation\":\"horizontal\",\"plot\":{\"id\":\"8226e5a5-e398-4cef-83db-cd8580ce5892\",\"subtype\":\"Figure\",\"type\":\"Plot\"}},\"id\":\"0f98a19c-4ce0-4763-afa4-dc63d35733fd\",\"type\":\"Legend\"},{\"attributes\":{},\"id\":\"f84a08da-9f30-4b69-882a-fbec83883ea6\",\"type\":\"BasicTickFormatter\"},{\"attributes\":{\"children\":[{\"id\":\"e2562c14-c659-4b62-b111-c28f1b243ce2\",\"type\":\"Row\"}]},\"id\":\"68a179ca-9afc-42d9-b773-fb9c6a481eca\",\"type\":\"Column\"},{\"attributes\":{},\"id\":\"932c4791-95c0-4ff9-8343-6aaba9f2210e\",\"type\":\"LinearScale\"},{\"attributes\":{\"label\":{\"value\":\"CRD\"},\"renderers\":[{\"id\":\"e9c33e87-10c0-4e29-b5b3-04ff19f71f2a\",\"type\":\"GlyphRenderer\"},{\"id\":\"0f5fb2f9-5a83-4959-896c-35aad06a6f21\",\"type\":\"GlyphRenderer\"}]},\"id\":\"70edecb4-8c6c-451b-84df-1188a59d70f0\",\"type\":\"LegendItem\"},{\"attributes\":{\"label\":{\"value\":\"CLIRAD - CRD\"},\"renderers\":[{\"id\":\"c665a9fc-d2ae-431c-aa40-54bc90da3345\",\"type\":\"GlyphRenderer\"},{\"id\":\"c8b83277-8928-49b1-a4bb-ef118984c991\",\"type\":\"GlyphRenderer\"}]},\"id\":\"09746f7a-11ac-412e-ae2a-49be74536028\",\"type\":\"LegendItem\"},{\"attributes\":{},\"id\":\"1d930f0d-15cd-4e17-97a3-acb955592275\",\"type\":\"BasicTicker\"},{\"attributes\":{\"fill_alpha\":{\"value\":0.1},\"fill_color\":{\"value\":\"#1f77b4\"},\"line_alpha\":{\"value\":0.1},\"line_color\":{\"value\":\"#1f77b4\"},\"x\":{\"field\":\"x\"},\"y\":{\"field\":\"y\"}},\"id\":\"4957efb7-11aa-45e2-bb85-81b6a483a5da\",\"type\":\"Circle\"},{\"attributes\":{},\"id\":\"571b72c0-17fd-4a9b-b256-e53a466686c3\",\"type\":\"UnionRenderers\"},{\"attributes\":{\"items\":[{\"id\":\"38189c74-e16a-4cd0-8b7f-f24d31da5bb1\",\"type\":\"LegendItem\"},{\"id\":\"70edecb4-8c6c-451b-84df-1188a59d70f0\",\"type\":\"LegendItem\"}],\"label_text_font_size\":{\"value\":\"8pt\"},\"location\":\"top_center\",\"orientation\":\"horizontal\",\"plot\":{\"id\":\"27761727-6cb2-4dee-ae46-717efab859a0\",\"subtype\":\"Figure\",\"type\":\"Plot\"}},\"id\":\"95d86cda-b66c-4b37-ae73-dfe0bb9ba908\",\"type\":\"Legend\"},{\"attributes\":{},\"id\":\"1bec445f-91d3-491a-a593-b096c3498ac3\",\"type\":\"Selection\"},{\"attributes\":{},\"id\":\"26280214-13ee-4f18-9a12-38a12966252c\",\"type\":\"LogScale\"},{\"attributes\":{},\"id\":\"1d5bc1db-8b7b-4e3f-9a37-efcc58b53e6f\",\"type\":\"UnionRenderers\"},{\"attributes\":{},\"id\":\"6d57b079-4bd9-443c-bd24-6c2bd30e7bbc\",\"type\":\"UnionRenderers\"},{\"attributes\":{},\"id\":\"09a5bf20-8e5c-4b26-a013-3b508bcf0d26\",\"type\":\"BasicTickFormatter\"},{\"attributes\":{},\"id\":\"67b264c5-e37d-4ef1-a1b1-af4abab111b5\",\"type\":\"LinearScale\"},{\"attributes\":{},\"id\":\"a5482ff7-d9dd-4cc9-b0c0-f41952596c5d\",\"type\":\"Selection\"},{\"attributes\":{},\"id\":\"65d53ac4-eda5-49c3-a624-7b0d5168e1bd\",\"type\":\"SaveTool\"},{\"attributes\":{\"callback\":null,\"end\":0.010802069959199998,\"start\":-0.1235243860392},\"id\":\"de93fcf4-3a3e-4046-8963-dc2c6acbcdb8\",\"type\":\"Range1d\"},{\"attributes\":{\"line_alpha\":0.6,\"line_color\":\"#e41a1c\",\"line_dash\":[6],\"line_width\":5,\"x\":{\"field\":\"x\"},\"y\":{\"field\":\"y\"}},\"id\":\"efbc9457-f032-4927-a0a2-7856f559b0f7\",\"type\":\"Line\"},{\"attributes\":{\"line_alpha\":0.1,\"line_color\":\"#1f77b4\",\"line_width\":1.5,\"x\":{\"field\":\"x\"},\"y\":{\"field\":\"y\"}},\"id\":\"abf1a6dd-e285-48ae-b4b6-09fc86789654\",\"type\":\"Line\"},{\"attributes\":{},\"id\":\"0685714e-fc57-4a73-b4b8-7d962a5bd934\",\"type\":\"UnionRenderers\"},{\"attributes\":{\"axis_label\":\"cooling rate [K/day]\",\"formatter\":{\"id\":\"09a5bf20-8e5c-4b26-a013-3b508bcf0d26\",\"type\":\"BasicTickFormatter\"},\"plot\":{\"id\":\"8226e5a5-e398-4cef-83db-cd8580ce5892\",\"subtype\":\"Figure\",\"type\":\"Plot\"},\"ticker\":{\"id\":\"1d930f0d-15cd-4e17-97a3-acb955592275\",\"type\":\"BasicTicker\"}},\"id\":\"21657df6-5409-4a51-b610-2218c2006871\",\"type\":\"LinearAxis\"},{\"attributes\":{\"children\":[{\"id\":\"27761727-6cb2-4dee-ae46-717efab859a0\",\"subtype\":\"Figure\",\"type\":\"Plot\"},{\"id\":\"8226e5a5-e398-4cef-83db-cd8580ce5892\",\"subtype\":\"Figure\",\"type\":\"Plot\"},{\"id\":\"7b44ea4f-158a-4909-92a7-6c6ebebb9324\",\"subtype\":\"Figure\",\"type\":\"Plot\"}]},\"id\":\"e2562c14-c659-4b62-b111-c28f1b243ce2\",\"type\":\"Row\"},{\"attributes\":{\"num_minor_ticks\":10},\"id\":\"633667c2-9c1b-47af-bdca-1230530953f6\",\"type\":\"LogTicker\"},{\"attributes\":{\"source\":{\"id\":\"c098ad04-b087-4c84-8722-d0d2afcd9333\",\"type\":\"ColumnDataSource\"}},\"id\":\"1c595b61-254e-49fe-bd4c-f5bd6b698890\",\"type\":\"CDSView\"},{\"attributes\":{\"above\":[{\"id\":\"30389acb-69ec-4805-b3cd-fe17eb7aea04\",\"type\":\"Legend\"}],\"below\":[{\"id\":\"d0bd6815-b302-4e2c-bd47-1bc71c2988e7\",\"type\":\"LinearAxis\"}],\"left\":[{\"id\":\"1b5bda8c-f0dc-4fee-8ded-1a0767984c46\",\"type\":\"LogAxis\"}],\"plot_width\":300,\"renderers\":[{\"id\":\"d0bd6815-b302-4e2c-bd47-1bc71c2988e7\",\"type\":\"LinearAxis\"},{\"id\":\"d6b62d90-32ff-4f53-bb1a-15e4cff593b1\",\"type\":\"Grid\"},{\"id\":\"1b5bda8c-f0dc-4fee-8ded-1a0767984c46\",\"type\":\"LogAxis\"},{\"id\":\"566fe140-49ef-4a12-aff5-c0f825b5901f\",\"type\":\"Grid\"},{\"id\":\"d21972be-b3cb-4f87-859a-0a5a59ea05a4\",\"type\":\"BoxAnnotation\"},{\"id\":\"c665a9fc-d2ae-431c-aa40-54bc90da3345\",\"type\":\"GlyphRenderer\"},{\"id\":\"c8b83277-8928-49b1-a4bb-ef118984c991\",\"type\":\"GlyphRenderer\"},{\"id\":\"30389acb-69ec-4805-b3cd-fe17eb7aea04\",\"type\":\"Legend\"}],\"title\":{\"id\":\"6a40c4ea-3779-4f55-8702-0f056ab305b6\",\"type\":\"Title\"},\"toolbar\":{\"id\":\"62433d8d-912f-4a11-baed-fc97ec624362\",\"type\":\"Toolbar\"},\"toolbar_location\":null,\"x_range\":{\"id\":\"573ecdd2-c322-4892-a747-d023503b343c\",\"type\":\"Range1d\"},\"x_scale\":{\"id\":\"1730f2d9-0664-40de-b3c0-c413a92ac739\",\"type\":\"LinearScale\"},\"y_range\":{\"id\":\"03dfb65d-93d6-4f2f-9547-ab7bd903ab13\",\"type\":\"Range1d\"},\"y_scale\":{\"id\":\"39f7d04e-becd-48e3-a361-c81619507ce0\",\"type\":\"LogScale\"}},\"id\":\"7b44ea4f-158a-4909-92a7-6c6ebebb9324\",\"subtype\":\"Figure\",\"type\":\"Plot\"},{\"attributes\":{},\"id\":\"60b59fd7-8cec-4cc2-875d-40a0c363f6cd\",\"type\":\"Selection\"},{\"attributes\":{\"plot\":null,\"text\":\"\"},\"id\":\"6a40c4ea-3779-4f55-8702-0f056ab305b6\",\"type\":\"Title\"},{\"attributes\":{\"overlay\":{\"id\":\"ad588e1e-bb4d-4ab2-9704-356016642571\",\"type\":\"BoxAnnotation\"}},\"id\":\"d8298325-a570-4887-81a7-1f0d84161283\",\"type\":\"BoxZoomTool\"},{\"attributes\":{\"dimension\":1,\"plot\":{\"id\":\"8226e5a5-e398-4cef-83db-cd8580ce5892\",\"subtype\":\"Figure\",\"type\":\"Plot\"},\"ticker\":{\"id\":\"633667c2-9c1b-47af-bdca-1230530953f6\",\"type\":\"LogTicker\"}},\"id\":\"68fc5620-3d47-41ca-b044-9d1c082254af\",\"type\":\"Grid\"},{\"attributes\":{\"source\":{\"id\":\"0649c184-1cce-4341-8420-1485402a3609\",\"type\":\"ColumnDataSource\"}},\"id\":\"45c123e9-5e4c-4c6e-84a2-d837e19dc081\",\"type\":\"CDSView\"},{\"attributes\":{},\"id\":\"b4ea2d94-162c-4f44-9c74-0e8e9852c3e7\",\"type\":\"UnionRenderers\"},{\"attributes\":{},\"id\":\"e33b772b-e015-4100-aaff-8e0980b9b892\",\"type\":\"Selection\"},{\"attributes\":{\"data_source\":{\"id\":\"c098ad04-b087-4c84-8722-d0d2afcd9333\",\"type\":\"ColumnDataSource\"},\"glyph\":{\"id\":\"430779ab-6a4b-436c-914e-f682010c2c15\",\"type\":\"Circle\"},\"hover_glyph\":null,\"muted_glyph\":null,\"nonselection_glyph\":{\"id\":\"888e97c7-c4c1-4ce7-86cd-a7651721940d\",\"type\":\"Circle\"},\"selection_glyph\":null,\"view\":{\"id\":\"1c595b61-254e-49fe-bd4c-f5bd6b698890\",\"type\":\"CDSView\"}},\"id\":\"e9c33e87-10c0-4e29-b5b3-04ff19f71f2a\",\"type\":\"GlyphRenderer\"},{\"attributes\":{\"active_drag\":\"auto\",\"active_inspect\":\"auto\",\"active_scroll\":\"auto\",\"active_tap\":\"auto\",\"tools\":[{\"id\":\"4a4fef94-04b3-4966-bfff-d5f9a974e183\",\"type\":\"PanTool\"},{\"id\":\"4f73ffed-0327-4ad1-93c0-c9e67273c077\",\"type\":\"WheelZoomTool\"},{\"id\":\"abafe278-8ff4-448a-adab-8b080f2c2d7b\",\"type\":\"BoxZoomTool\"},{\"id\":\"ac523ee5-014d-4ba0-9b8b-0b3a0b038fd6\",\"type\":\"SaveTool\"},{\"id\":\"51e22817-370b-414d-95eb-38243c61bc50\",\"type\":\"ResetTool\"},{\"id\":\"f49273fc-b0ee-46d4-9a44-effa351408af\",\"type\":\"HelpTool\"}]},\"id\":\"936573ec-5245-4a57-b405-659d78715a68\",\"type\":\"Toolbar\"},{\"attributes\":{\"line_alpha\":0.6,\"line_color\":\"#e41a1c\",\"line_dash\":[6],\"line_width\":5,\"x\":{\"field\":\"x\"},\"y\":{\"field\":\"y\"}},\"id\":\"737ec690-78fb-4a54-b69d-979046831247\",\"type\":\"Line\"},{\"attributes\":{\"callback\":null,\"data\":{\"x\":{\"__ndarray__\":\"iuvwqr0Nnb9oqXVFhJmevzOhVj2KiZ6/yDIj8CDAmb+BlIq3tVSPvx6dq74IXzs/Vs1r8HpPlz/Up3sTX+iqP0S3omwyMbc/u0XVcMebwT9iL4Xg4ObIP+4cYra/x9A/LwNW1svS1T+isMNMZnLdP79BX6DCZuQ/cpLTh4j06j9atr97k/PwP6cSVEPRgvQ/0u1k8RQK+D8HQ6sA0Hr7PzdfxPUqtf4/rIUfvV12/z+UK4fZdYb6P9suZ8gO+PM/9IVynaSb7T/iUJWalrnkP8cMWKNzNts/LY7fc+Uw0j+X9J7jT+/KP5hE5TrgLsQ/ij1c/PKsvD9qn3YWXa6wP4h9wXm4bqI/FuUSbGFZlz8wL2pJ79tQv0zkCXxfDKC/vsbCBc4+rb++txSZ+m6zv96LVzTwN7e/xxvPXvNuur/V4G9PJmK6vzhWWQgo1be/DgwwFZoptb+dfetoeNGxvxAey42ylqy/56yPwo7qpL9QzgsIkbKcv8qCOPiKupS/UK342u0Pjr/6i/gjYquEvzAvTo12C3q/9G/17Ggrbr9Tc3gD2Ftcv+BBv0ZEcfW+WMvnzXC7WD+SKJJQpI5nP6cMmdLgr3A/PZqya47ydD9iKsALDqF4PzWywenWtXs/qcODmi8vfj+UjFXGPhyAP5IK+gKn9IA/uRiLQjiZgT+i3uGL0BCCP45Cal5dhYI/x1OMfCn/gj8ewWHvq1WDP8JZeXfybIM/Ao3whqAsgz9WY34ZLoqCP1mQdEgvnoE/8orpg1qMgD86UK0EDOV+P54q5Zy3wHw/\",\"dtype\":\"float64\",\"shape\":[75]},\"y\":{\"__ndarray__\":\"GhExyth1ND/Sv8nbtpRIP2vylNV0PVE/aTum7souWD/At0SJ8fVgPw3Iuahxymc/MSNhhJWvcD/bTfBN02d3P2zb5nxnaoA/CD5h5MAGhz8NmeH1TyaQP+zrCsc9p5Y/LbKd76fGnz/bLW5ISEmmPww9YvTcQq8/JV2OstnstT8Er5Y7M8G+P0c+r3jqkcU/5h99k6ZBzj88bCIzFzjVP4enV8oyxN0//yH99nXg5D8qOpLLf0jtP5kqGJXUifQ/c9cS8kHP/D+/DpwzojQEQIEmwoanVwxA4lgXt9HgE0BSSZ2AJuIbQAMJih9jjiNA5q4l5INuK0AwTKYKRj0zQNv5fmq8/DpAaCJseHrtQkB/+zpwzoxKQM3MzMzMeFJAZmZmZmZqWEAAAAAAAFxeQM3MzMzMJmJAmpmZmZkfZUBmZmZmZhhoQDMzMzMzEWtAAAAAAAAKbkBmZmZmZoFwQM3MzMzM/XFAMzMzMzN6c0CamZmZmfZ0QAAAAAAAc3ZAZmZmZmbvd0DNzMzMzGt5QDMzMzMz6HpAmpmZmZlkfEAAAAAAAOF9QGZmZmZmXX9AZmZmZuZsgECamZmZGSuBQM3MzMxM6YFAAAAAAICngkAzMzMzs2WDQGZmZmbmI4RAmpmZmRnihEDNzMzMTKCFQAAAAACAXoZAMzMzM7Mch0BmZmZm5tqHQJqZmZkZmYhAzczMzExXiUAAAAAAgBWKQDMzMzOz04pAZmZmZuaRi0CamZmZGVCMQM3MzMxMDo1AAAAAAIDMjUAzMzMzs4qOQGZmZmbmSI9A\",\"dtype\":\"float64\",\"shape\":[75]}},\"selected\":{\"id\":\"1ff10795-96a0-48d0-b6f1-92a10eb21eae\",\"type\":\"Selection\"},\"selection_policy\":{\"id\":\"1d5bc1db-8b7b-4e3f-9a37-efcc58b53e6f\",\"type\":\"UnionRenderers\"}},\"id\":\"df9ce4e6-1188-48bd-a449-b8e05ee247aa\",\"type\":\"ColumnDataSource\"},{\"attributes\":{},\"id\":\"27d32aee-41ab-4a57-9ea8-64f0bf8ea114\",\"type\":\"UnionRenderers\"},{\"attributes\":{\"line_color\":\"#4daf4a\",\"line_width\":1.5,\"x\":{\"field\":\"x\"},\"y\":{\"field\":\"y\"}},\"id\":\"1cd28502-230b-43f5-8dea-a32620e0838d\",\"type\":\"Line\"},{\"attributes\":{\"data_source\":{\"id\":\"65df1b0e-f932-4421-bc22-559a9e1da34a\",\"type\":\"ColumnDataSource\"},\"glyph\":{\"id\":\"fa01782d-597d-4092-b251-c2da6bace4f7\",\"type\":\"Line\"},\"hover_glyph\":null,\"muted_glyph\":null,\"nonselection_glyph\":{\"id\":\"abf1a6dd-e285-48ae-b4b6-09fc86789654\",\"type\":\"Line\"},\"selection_glyph\":null,\"view\":{\"id\":\"859fb3ef-59b3-4552-a365-6a916e74961f\",\"type\":\"CDSView\"}},\"id\":\"c8b83277-8928-49b1-a4bb-ef118984c991\",\"type\":\"GlyphRenderer\"},{\"attributes\":{\"label\":{\"value\":\"CLIRAD\"},\"renderers\":[{\"id\":\"e21936da-b510-4be4-a92f-0f96083d8453\",\"type\":\"GlyphRenderer\"}]},\"id\":\"38189c74-e16a-4cd0-8b7f-f24d31da5bb1\",\"type\":\"LegendItem\"},{\"attributes\":{\"data_source\":{\"id\":\"372c2092-dfd3-4d2c-86c1-15ba7f31b3a5\",\"type\":\"ColumnDataSource\"},\"glyph\":{\"id\":\"1cd28502-230b-43f5-8dea-a32620e0838d\",\"type\":\"Line\"},\"hover_glyph\":null,\"muted_glyph\":null,\"nonselection_glyph\":{\"id\":\"b1a288c4-0df5-4242-b6d7-129e42e910f0\",\"type\":\"Line\"},\"selection_glyph\":null,\"view\":{\"id\":\"f57a2c83-38e9-4458-87e3-ba848ea242ab\",\"type\":\"CDSView\"}},\"id\":\"0f5fb2f9-5a83-4959-896c-35aad06a6f21\",\"type\":\"GlyphRenderer\"},{\"attributes\":{},\"id\":\"f49273fc-b0ee-46d4-9a44-effa351408af\",\"type\":\"HelpTool\"},{\"attributes\":{\"above\":[{\"id\":\"0f98a19c-4ce0-4763-afa4-dc63d35733fd\",\"type\":\"Legend\"}],\"below\":[{\"id\":\"21657df6-5409-4a51-b610-2218c2006871\",\"type\":\"LinearAxis\"}],\"left\":[{\"id\":\"37938db5-00da-4645-986d-749803a8243d\",\"type\":\"LogAxis\"}],\"plot_width\":300,\"renderers\":[{\"id\":\"21657df6-5409-4a51-b610-2218c2006871\",\"type\":\"LinearAxis\"},{\"id\":\"e50475ec-2405-4ed2-b4ca-dfefdc6918ca\",\"type\":\"Grid\"},{\"id\":\"37938db5-00da-4645-986d-749803a8243d\",\"type\":\"LogAxis\"},{\"id\":\"68fc5620-3d47-41ca-b044-9d1c082254af\",\"type\":\"Grid\"},{\"id\":\"3c06a4b3-1dc2-44e0-aa7f-239dee277302\",\"type\":\"BoxAnnotation\"},{\"id\":\"3253676f-321c-426f-aa75-803463872547\",\"type\":\"GlyphRenderer\"},{\"id\":\"d50386d7-02da-4fe1-9686-9fc8e1e29dd0\",\"type\":\"GlyphRenderer\"},{\"id\":\"183ec26e-0f11-4e8a-a27e-a1fc68b377f9\",\"type\":\"GlyphRenderer\"},{\"id\":\"0f98a19c-4ce0-4763-afa4-dc63d35733fd\",\"type\":\"Legend\"}],\"title\":{\"id\":\"346e1c3d-4496-4ec9-8a27-47c7538bb2b4\",\"type\":\"Title\"},\"toolbar\":{\"id\":\"936573ec-5245-4a57-b405-659d78715a68\",\"type\":\"Toolbar\"},\"toolbar_location\":null,\"x_range\":{\"id\":\"b3de8660-ac64-4bfe-bbfd-00db42796186\",\"type\":\"Range1d\"},\"x_scale\":{\"id\":\"67b264c5-e37d-4ef1-a1b1-af4abab111b5\",\"type\":\"LinearScale\"},\"y_range\":{\"id\":\"eaae0386-b421-4a27-95fd-ffcdf270634c\",\"type\":\"Range1d\"},\"y_scale\":{\"id\":\"26280214-13ee-4f18-9a12-38a12966252c\",\"type\":\"LogScale\"}},\"id\":\"8226e5a5-e398-4cef-83db-cd8580ce5892\",\"subtype\":\"Figure\",\"type\":\"Plot\"},{\"attributes\":{},\"id\":\"4bdd7c5f-f877-45ca-ad58-295ef35d9a01\",\"type\":\"BasicTickFormatter\"},{\"attributes\":{},\"id\":\"5edfb155-9e6f-4e9f-8e76-c4fa990b47b6\",\"type\":\"LinearScale\"},{\"attributes\":{\"source\":{\"id\":\"372c2092-dfd3-4d2c-86c1-15ba7f31b3a5\",\"type\":\"ColumnDataSource\"}},\"id\":\"f57a2c83-38e9-4458-87e3-ba848ea242ab\",\"type\":\"CDSView\"},{\"attributes\":{\"ticker\":null},\"id\":\"b0554acd-ff95-41e1-a3b2-d106d96a5aac\",\"type\":\"LogTickFormatter\"},{\"attributes\":{\"line_alpha\":0.8,\"line_color\":\"#984ea3\",\"line_width\":1.5,\"x\":{\"field\":\"x\"},\"y\":{\"field\":\"y\"}},\"id\":\"fa01782d-597d-4092-b251-c2da6bace4f7\",\"type\":\"Line\"},{\"attributes\":{},\"id\":\"90df7e1e-509d-44a1-aa52-05d52c4bac6e\",\"type\":\"Selection\"},{\"attributes\":{},\"id\":\"931dcf8f-9998-476e-93da-0303c627cb0b\",\"type\":\"ResetTool\"},{\"attributes\":{},\"id\":\"4a4fef94-04b3-4966-bfff-d5f9a974e183\",\"type\":\"PanTool\"},{\"attributes\":{\"axis_label\":\"pressure [mb]\",\"formatter\":{\"id\":\"bbc4f7cb-d177-46b8-8e64-780fbc90d365\",\"type\":\"LogTickFormatter\"},\"plot\":{\"id\":\"8226e5a5-e398-4cef-83db-cd8580ce5892\",\"subtype\":\"Figure\",\"type\":\"Plot\"},\"ticker\":{\"id\":\"633667c2-9c1b-47af-bdca-1230530953f6\",\"type\":\"LogTicker\"}},\"id\":\"37938db5-00da-4645-986d-749803a8243d\",\"type\":\"LogAxis\"},{\"attributes\":{},\"id\":\"1ff10795-96a0-48d0-b6f1-92a10eb21eae\",\"type\":\"Selection\"},{\"attributes\":{\"plot\":null,\"text\":\"\"},\"id\":\"518c947c-e32a-441e-b59e-c369eab232a8\",\"type\":\"Title\"},{\"attributes\":{\"axis_label\":\"cooling rate [K/day]\",\"formatter\":{\"id\":\"4bdd7c5f-f877-45ca-ad58-295ef35d9a01\",\"type\":\"BasicTickFormatter\"},\"plot\":{\"id\":\"27761727-6cb2-4dee-ae46-717efab859a0\",\"subtype\":\"Figure\",\"type\":\"Plot\"},\"ticker\":{\"id\":\"0a9fe4b9-650c-4876-b8ad-0190fb13efe3\",\"type\":\"BasicTicker\"}},\"id\":\"1cc377d3-5395-440b-9d84-5cddc466f2f9\",\"type\":\"LinearAxis\"},{\"attributes\":{\"axis_label\":\"pressure [mb]\",\"formatter\":{\"id\":\"f84a08da-9f30-4b69-882a-fbec83883ea6\",\"type\":\"BasicTickFormatter\"},\"plot\":{\"id\":\"27761727-6cb2-4dee-ae46-717efab859a0\",\"subtype\":\"Figure\",\"type\":\"Plot\"},\"ticker\":{\"id\":\"35102640-ad0d-4e1f-a606-6012def2d65f\",\"type\":\"BasicTicker\"}},\"id\":\"2b47b5d9-2a4b-4198-9d02-838255601e6a\",\"type\":\"LinearAxis\"},{\"attributes\":{\"plot\":null,\"text\":\"\"},\"id\":\"346e1c3d-4496-4ec9-8a27-47c7538bb2b4\",\"type\":\"Title\"},{\"attributes\":{},\"id\":\"35102640-ad0d-4e1f-a606-6012def2d65f\",\"type\":\"BasicTicker\"},{\"attributes\":{\"fill_alpha\":{\"value\":0.7},\"fill_color\":{\"value\":\"#4daf4a\"},\"line_alpha\":{\"value\":0.7},\"line_color\":{\"value\":\"#4daf4a\"},\"x\":{\"field\":\"x\"},\"y\":{\"field\":\"y\"}},\"id\":\"29a6d489-70ef-4161-9a56-4e248dcc0437\",\"type\":\"Circle\"},{\"attributes\":{\"source\":{\"id\":\"65df1b0e-f932-4421-bc22-559a9e1da34a\",\"type\":\"ColumnDataSource\"}},\"id\":\"859fb3ef-59b3-4552-a365-6a916e74961f\",\"type\":\"CDSView\"},{\"attributes\":{},\"id\":\"49507967-1c64-4070-9386-9f141ec5d86b\",\"type\":\"Selection\"},{\"attributes\":{},\"id\":\"4f73ffed-0327-4ad1-93c0-c9e67273c077\",\"type\":\"WheelZoomTool\"},{\"attributes\":{\"callback\":null,\"end\":1.9872840445,\"start\":-0.1430935145},\"id\":\"b3de8660-ac64-4bfe-bbfd-00db42796186\",\"type\":\"Range1d\"},{\"attributes\":{},\"id\":\"151c97bd-bd9b-4518-a434-b8d6d938ecbd\",\"type\":\"UnionRenderers\"},{\"attributes\":{\"overlay\":{\"id\":\"3c06a4b3-1dc2-44e0-aa7f-239dee277302\",\"type\":\"BoxAnnotation\"}},\"id\":\"abafe278-8ff4-448a-adab-8b080f2c2d7b\",\"type\":\"BoxZoomTool\"},{\"attributes\":{\"dimension\":1,\"plot\":{\"id\":\"27761727-6cb2-4dee-ae46-717efab859a0\",\"subtype\":\"Figure\",\"type\":\"Plot\"},\"ticker\":{\"id\":\"35102640-ad0d-4e1f-a606-6012def2d65f\",\"type\":\"BasicTicker\"}},\"id\":\"d1443466-7158-4b8b-9b35-9171f71aec3e\",\"type\":\"Grid\"},{\"attributes\":{\"active_drag\":\"auto\",\"active_inspect\":\"auto\",\"active_scroll\":\"auto\",\"active_tap\":\"auto\",\"tools\":[{\"id\":\"d15e8b32-9313-4dd6-86cb-1b0f3aadcf2e\",\"type\":\"PanTool\"},{\"id\":\"9f62aa99-9824-43a5-ad21-910d62aeeb72\",\"type\":\"WheelZoomTool\"},{\"id\":\"d8298325-a570-4887-81a7-1f0d84161283\",\"type\":\"BoxZoomTool\"},{\"id\":\"65d53ac4-eda5-49c3-a624-7b0d5168e1bd\",\"type\":\"SaveTool\"},{\"id\":\"931dcf8f-9998-476e-93da-0303c627cb0b\",\"type\":\"ResetTool\"},{\"id\":\"cc897fff-360e-4aff-a195-36ca60e6af09\",\"type\":\"HelpTool\"}]},\"id\":\"0f3d3fa8-ed14-4d3e-8fc0-69bf97f6e09d\",\"type\":\"Toolbar\"},{\"attributes\":{},\"id\":\"9f62aa99-9824-43a5-ad21-910d62aeeb72\",\"type\":\"WheelZoomTool\"},{\"attributes\":{\"callback\":null,\"end\":0.01,\"start\":1020},\"id\":\"eaae0386-b421-4a27-95fd-ffcdf270634c\",\"type\":\"Range1d\"}],\"root_ids\":[\"65b7cb6a-ff74-4149-9f56-31d782fc7b33\"]},\"title\":\"Bokeh Application\",\"version\":\"0.12.16\"}};\n",
       "  var render_items = [{\"docid\":\"72d2eeec-2476-48a6-9c5f-adf8a0f58e2c\",\"elementid\":\"6a455345-4fb3-426c-bcf3-9e7caaa50d56\",\"modelid\":\"65b7cb6a-ff74-4149-9f56-31d782fc7b33\"}];\n",
       "  root.Bokeh.embed.embed_items_notebook(docs_json, render_items);\n",
       "\n",
       "  }\n",
       "  if (root.Bokeh !== undefined) {\n",
       "    embed_document(root);\n",
       "  } else {\n",
       "    var attempts = 0;\n",
       "    var timer = setInterval(function(root) {\n",
       "      if (root.Bokeh !== undefined) {\n",
       "        embed_document(root);\n",
       "        clearInterval(timer);\n",
       "      }\n",
       "      attempts++;\n",
       "      if (attempts > 100) {\n",
       "        console.log(\"Bokeh: ERROR: Unable to run BokehJS code because BokehJS library is missing\")\n",
       "        clearInterval(timer);\n",
       "      }\n",
       "    }, 10, root)\n",
       "  }\n",
       "})(window);"
      ],
      "application/vnd.bokehjs_exec.v0+json": ""
     },
     "metadata": {
      "application/vnd.bokehjs_exec.v0+json": {
       "id": "65b7cb6a-ff74-4149-9f56-31d782fc7b33"
      }
     },
     "output_type": "display_data"
    },
    {
     "data": {
      "text/markdown": [
       "*FIGURE.* Cooling rates & difference."
      ],
      "text/plain": [
       "<IPython.core.display.Markdown object>"
      ]
     },
     "metadata": {},
     "output_type": "display_data"
    },
    {
     "data": {
      "text/html": [
       "<a id=\"Fluxes._saw.\"></a>"
      ],
      "text/plain": [
       "<IPython.core.display.HTML object>"
      ]
     },
     "metadata": {},
     "output_type": "display_data"
    },
    {
     "data": {
      "text/markdown": [
       "# Fluxes. saw."
      ],
      "text/plain": [
       "<IPython.core.display.Markdown object>"
      ]
     },
     "metadata": {},
     "output_type": "display_data"
    },
    {
     "data": {
      "text/html": [
       "\n",
       "<div class=\"bk-root\">\n",
       "    <div class=\"bk-plotdiv\" id=\"62c51053-c0e2-4b14-b4f4-f87fd5ec9fdf\"></div>\n",
       "</div>"
      ]
     },
     "metadata": {},
     "output_type": "display_data"
    },
    {
     "data": {
      "application/javascript": [
       "(function(root) {\n",
       "  function embed_document(root) {\n",
       "    \n",
       "  var docs_json = {\"2dbb9eab-95d3-47d7-a32e-71a3125397c5\":{\"roots\":{\"references\":[{\"attributes\":{\"active_drag\":\"auto\",\"active_inspect\":\"auto\",\"active_scroll\":\"auto\",\"active_tap\":\"auto\",\"tools\":[{\"id\":\"fafc1fdf-406f-42f8-bec0-e241fe05602f\",\"type\":\"PanTool\"},{\"id\":\"9c3202fa-2c5c-4977-89bf-0c12015cb95b\",\"type\":\"WheelZoomTool\"},{\"id\":\"c56e38ba-60a8-4a98-a60a-783d26bff701\",\"type\":\"BoxZoomTool\"},{\"id\":\"3e6d672c-f86e-4987-895e-76e1abff5b94\",\"type\":\"SaveTool\"},{\"id\":\"e37af781-8483-4268-8cdb-9e0c91e8a804\",\"type\":\"ResetTool\"},{\"id\":\"92011751-e2a5-47bd-a7f2-3ac19173468b\",\"type\":\"HelpTool\"}]},\"id\":\"f99b8c6b-fd6e-45b9-a28b-28c542daf7f7\",\"type\":\"Toolbar\"},{\"attributes\":{\"children\":[{\"id\":\"0dc7ec99-be0d-4011-9ea4-0d5141c7e2f5\",\"type\":\"ToolbarBox\"},{\"id\":\"fabaa510-fdde-4ce7-ac37-7306d67a64e5\",\"type\":\"Column\"}]},\"id\":\"755b6570-db3e-4005-9159-e1fd4105749a\",\"type\":\"Column\"},{\"attributes\":{\"dimension\":1,\"plot\":{\"id\":\"2c699943-7b57-4134-b40b-5159d6702d2c\",\"subtype\":\"Figure\",\"type\":\"Plot\"},\"ticker\":{\"id\":\"b6a00d05-1c0f-4d23-88d0-f8742c5685ba\",\"type\":\"BasicTicker\"}},\"id\":\"95189664-e264-4a1c-9eaa-7d33a5265664\",\"type\":\"Grid\"},{\"attributes\":{\"axis_label\":\"flux (W m-2)\",\"formatter\":{\"id\":\"0691f20d-5bd0-42f4-b4d6-057cd7d66ce5\",\"type\":\"BasicTickFormatter\"},\"plot\":{\"id\":\"2c699943-7b57-4134-b40b-5159d6702d2c\",\"subtype\":\"Figure\",\"type\":\"Plot\"},\"ticker\":{\"id\":\"b6a00d05-1c0f-4d23-88d0-f8742c5685ba\",\"type\":\"BasicTicker\"}},\"id\":\"acc4645b-8670-41a9-9c62-6e4a28ebca41\",\"type\":\"LinearAxis\"},{\"attributes\":{\"axis_label\":\"flux (W m-2)\",\"formatter\":{\"id\":\"cf78b00a-92eb-4944-87b9-e5656656d9b5\",\"type\":\"BasicTickFormatter\"},\"plot\":{\"id\":\"570e4c57-61ba-45a0-bc40-e6731014447e\",\"subtype\":\"Figure\",\"type\":\"Plot\"},\"ticker\":{\"id\":\"da589d4d-8f37-4079-a23d-0511aa877055\",\"type\":\"BasicTicker\"}},\"id\":\"3ac65a16-8dea-4667-ad2e-870acea6c126\",\"type\":\"LinearAxis\"},{\"attributes\":{},\"id\":\"a0e0050c-27c8-4c60-b9fa-7e482f79dab9\",\"type\":\"CategoricalScale\"},{\"attributes\":{},\"id\":\"cf78b00a-92eb-4944-87b9-e5656656d9b5\",\"type\":\"BasicTickFormatter\"},{\"attributes\":{\"callback\":null},\"id\":\"6727404a-796c-4d3d-9a4b-14367b1800c9\",\"type\":\"DataRange1d\"},{\"attributes\":{\"active_drag\":\"auto\",\"active_inspect\":\"auto\",\"active_scroll\":\"auto\",\"active_tap\":\"auto\",\"tools\":[{\"id\":\"5c468f18-f6bb-4499-a4ee-a3e3a65c6121\",\"type\":\"PanTool\"},{\"id\":\"f619ccb4-f08b-4fc5-8ad0-ca09ad295741\",\"type\":\"WheelZoomTool\"},{\"id\":\"f1556f2e-79ee-41d9-80ff-f3762818aa31\",\"type\":\"BoxZoomTool\"},{\"id\":\"876f33cb-a87a-41fa-ba22-a7bc9876cb47\",\"type\":\"SaveTool\"},{\"id\":\"cae02e70-3653-4350-add3-3d137ecb04b0\",\"type\":\"ResetTool\"},{\"id\":\"b9785b01-b091-4340-9234-6ed93caa1406\",\"type\":\"HelpTool\"}]},\"id\":\"6d3d4a2e-8a89-4fd2-a028-f0e65411c222\",\"type\":\"Toolbar\"},{\"attributes\":{},\"id\":\"2138488a-1d5a-4a30-86f5-aadc941e5b7c\",\"type\":\"UnionRenderers\"},{\"attributes\":{},\"id\":\"24b71062-eec4-45e0-8a40-f1b3e5b6696a\",\"type\":\"LinearScale\"},{\"attributes\":{\"axis_label\":\"spectral band\",\"formatter\":{\"id\":\"07a0efae-8d70-472b-97aa-8bd9db2fa84f\",\"type\":\"CategoricalTickFormatter\"},\"plot\":{\"id\":\"570e4c57-61ba-45a0-bc40-e6731014447e\",\"subtype\":\"Figure\",\"type\":\"Plot\"},\"ticker\":{\"id\":\"087c111f-c506-46ff-90f9-d5354dcc5297\",\"type\":\"CategoricalTicker\"}},\"id\":\"9f50dc5a-19da-4001-90a6-ca9956f5bf8b\",\"type\":\"CategoricalAxis\"},{\"attributes\":{\"plot\":null,\"text\":\"SFC flux. CLIRAD - CRD.\"},\"id\":\"6031b288-762c-46cf-9609-92d3db0ca3e0\",\"type\":\"Title\"},{\"attributes\":{},\"id\":\"087c34dc-9a21-44e1-9877-07002358ca88\",\"type\":\"CategoricalScale\"},{\"attributes\":{\"plot\":null,\"text\":\"Atmosphere heating. CLIRAD - CRD.\"},\"id\":\"1f0cd2d6-5ece-47b2-8a38-985bd611a02d\",\"type\":\"Title\"},{\"attributes\":{\"callback\":null,\"data\":{\"band\":[\"7\"],\"flux\":{\"__ndarray__\":\"gEQlv480tT8=\",\"dtype\":\"float64\",\"shape\":[1]}},\"selected\":{\"id\":\"2487e7cf-d571-49da-94be-91b8a2ebc94e\",\"type\":\"Selection\"},\"selection_policy\":{\"id\":\"b0779d1b-96e2-47c5-b185-4f8d6fbac3c8\",\"type\":\"UnionRenderers\"}},\"id\":\"78e50f68-f19f-4c73-b7b6-22a7146b55f1\",\"type\":\"ColumnDataSource\"},{\"attributes\":{},\"id\":\"b6a00d05-1c0f-4d23-88d0-f8742c5685ba\",\"type\":\"BasicTicker\"},{\"attributes\":{},\"id\":\"876f33cb-a87a-41fa-ba22-a7bc9876cb47\",\"type\":\"SaveTool\"},{\"attributes\":{\"fill_alpha\":{\"value\":0.1},\"fill_color\":{\"value\":\"#1f77b4\"},\"line_alpha\":{\"value\":0.1},\"line_color\":{\"value\":\"#1f77b4\"},\"top\":{\"field\":\"flux\"},\"width\":{\"value\":0.9},\"x\":{\"field\":\"band\"}},\"id\":\"d3434217-23cb-4f77-9fc0-03fb5ed4ffd1\",\"type\":\"VBar\"},{\"attributes\":{},\"id\":\"f458c5dc-f50e-412e-ae78-bd551135cfa1\",\"type\":\"CategoricalTicker\"},{\"attributes\":{\"below\":[{\"id\":\"9f50dc5a-19da-4001-90a6-ca9956f5bf8b\",\"type\":\"CategoricalAxis\"}],\"left\":[{\"id\":\"3ac65a16-8dea-4667-ad2e-870acea6c126\",\"type\":\"LinearAxis\"}],\"plot_height\":300,\"plot_width\":300,\"renderers\":[{\"id\":\"9f50dc5a-19da-4001-90a6-ca9956f5bf8b\",\"type\":\"CategoricalAxis\"},{\"id\":\"0a6f5c8b-ba1f-49eb-ab9e-c88d5e767ff5\",\"type\":\"Grid\"},{\"id\":\"3ac65a16-8dea-4667-ad2e-870acea6c126\",\"type\":\"LinearAxis\"},{\"id\":\"8ad4ac89-30e5-486e-8cd4-541f4094aec2\",\"type\":\"Grid\"},{\"id\":\"69af138d-a9df-45d0-9885-cf513775efb6\",\"type\":\"BoxAnnotation\"},{\"id\":\"d4189211-fa7c-439a-8a6f-5589648f0cfa\",\"type\":\"GlyphRenderer\"}],\"title\":{\"id\":\"1f0cd2d6-5ece-47b2-8a38-985bd611a02d\",\"type\":\"Title\"},\"toolbar\":{\"id\":\"6d3d4a2e-8a89-4fd2-a028-f0e65411c222\",\"type\":\"Toolbar\"},\"toolbar_location\":null,\"x_range\":{\"id\":\"0bda1699-9fb6-4949-8745-c1cf70e298ee\",\"type\":\"FactorRange\"},\"x_scale\":{\"id\":\"a0e0050c-27c8-4c60-b9fa-7e482f79dab9\",\"type\":\"CategoricalScale\"},\"y_range\":{\"id\":\"6727404a-796c-4d3d-9a4b-14367b1800c9\",\"type\":\"DataRange1d\"},\"y_scale\":{\"id\":\"24b71062-eec4-45e0-8a40-f1b3e5b6696a\",\"type\":\"LinearScale\"}},\"id\":\"570e4c57-61ba-45a0-bc40-e6731014447e\",\"subtype\":\"Figure\",\"type\":\"Plot\"},{\"attributes\":{},\"id\":\"016906be-b832-41b1-b5b8-e0826a6c19d4\",\"type\":\"CategoricalScale\"},{\"attributes\":{},\"id\":\"930dd388-2777-4760-9fb2-e9e96f602d83\",\"type\":\"LinearScale\"},{\"attributes\":{\"plot\":{\"id\":\"2c699943-7b57-4134-b40b-5159d6702d2c\",\"subtype\":\"Figure\",\"type\":\"Plot\"},\"ticker\":{\"id\":\"f458c5dc-f50e-412e-ae78-bd551135cfa1\",\"type\":\"CategoricalTicker\"}},\"id\":\"2881aa21-8e65-4182-ac2a-abfb2a179555\",\"type\":\"Grid\"},{\"attributes\":{\"overlay\":{\"id\":\"69af138d-a9df-45d0-9885-cf513775efb6\",\"type\":\"BoxAnnotation\"}},\"id\":\"f1556f2e-79ee-41d9-80ff-f3762818aa31\",\"type\":\"BoxZoomTool\"},{\"attributes\":{\"callback\":null,\"factors\":[\"7\"]},\"id\":\"e062e261-eec9-4522-aac6-8f68d1ab08cc\",\"type\":\"FactorRange\"},{\"attributes\":{},\"id\":\"cae02e70-3653-4350-add3-3d137ecb04b0\",\"type\":\"ResetTool\"},{\"attributes\":{\"axis_label\":\"spectral band\",\"formatter\":{\"id\":\"8fd9d4de-7918-47dc-8080-dd213a9dcd95\",\"type\":\"CategoricalTickFormatter\"},\"plot\":{\"id\":\"2c699943-7b57-4134-b40b-5159d6702d2c\",\"subtype\":\"Figure\",\"type\":\"Plot\"},\"ticker\":{\"id\":\"f458c5dc-f50e-412e-ae78-bd551135cfa1\",\"type\":\"CategoricalTicker\"}},\"id\":\"f3a81b93-7231-47b9-b7cb-36e70627690b\",\"type\":\"CategoricalAxis\"},{\"attributes\":{\"source\":{\"id\":\"7177d3ba-2040-4d3b-b769-003a997cbc98\",\"type\":\"ColumnDataSource\"}},\"id\":\"8cc0fe38-6340-4463-bf92-ac562d95589c\",\"type\":\"CDSView\"},{\"attributes\":{},\"id\":\"f619ccb4-f08b-4fc5-8ad0-ca09ad295741\",\"type\":\"WheelZoomTool\"},{\"attributes\":{\"callback\":null},\"id\":\"ff33a57b-3a6f-43ac-8d26-0ba64d9b739c\",\"type\":\"DataRange1d\"},{\"attributes\":{\"data_source\":{\"id\":\"7177d3ba-2040-4d3b-b769-003a997cbc98\",\"type\":\"ColumnDataSource\"},\"glyph\":{\"id\":\"41ebfc40-8bce-4ba9-9b54-5c63c5b05950\",\"type\":\"VBar\"},\"hover_glyph\":null,\"muted_glyph\":null,\"nonselection_glyph\":{\"id\":\"315e1f7d-0056-402e-b200-6184b48deee3\",\"type\":\"VBar\"},\"selection_glyph\":null,\"view\":{\"id\":\"8cc0fe38-6340-4463-bf92-ac562d95589c\",\"type\":\"CDSView\"}},\"id\":\"d4189211-fa7c-439a-8a6f-5589648f0cfa\",\"type\":\"GlyphRenderer\"},{\"attributes\":{\"fill_color\":{\"value\":\"#1f77b4\"},\"line_color\":{\"value\":\"#1f77b4\"},\"top\":{\"field\":\"flux\"},\"width\":{\"value\":0.9},\"x\":{\"field\":\"band\"}},\"id\":\"0364d6fa-50b1-45dd-ab5a-1185d2952c2b\",\"type\":\"VBar\"},{\"attributes\":{},\"id\":\"5c468f18-f6bb-4499-a4ee-a3e3a65c6121\",\"type\":\"PanTool\"},{\"attributes\":{\"bottom_units\":\"screen\",\"fill_alpha\":{\"value\":0.5},\"fill_color\":{\"value\":\"lightgrey\"},\"left_units\":\"screen\",\"level\":\"overlay\",\"line_alpha\":{\"value\":1.0},\"line_color\":{\"value\":\"black\"},\"line_dash\":[4,4],\"line_width\":{\"value\":2},\"plot\":null,\"render_mode\":\"css\",\"right_units\":\"screen\",\"top_units\":\"screen\"},\"id\":\"69af138d-a9df-45d0-9885-cf513775efb6\",\"type\":\"BoxAnnotation\"},{\"attributes\":{\"children\":[{\"id\":\"17e678eb-ca9a-41a3-89df-d61a2a6228db\",\"subtype\":\"Figure\",\"type\":\"Plot\"},{\"id\":\"2c699943-7b57-4134-b40b-5159d6702d2c\",\"subtype\":\"Figure\",\"type\":\"Plot\"},{\"id\":\"570e4c57-61ba-45a0-bc40-e6731014447e\",\"subtype\":\"Figure\",\"type\":\"Plot\"}]},\"id\":\"214e43d9-53be-4928-871e-0fd0758f6f8e\",\"type\":\"Row\"},{\"attributes\":{\"bottom_units\":\"screen\",\"fill_alpha\":{\"value\":0.5},\"fill_color\":{\"value\":\"lightgrey\"},\"left_units\":\"screen\",\"level\":\"overlay\",\"line_alpha\":{\"value\":1.0},\"line_color\":{\"value\":\"black\"},\"line_dash\":[4,4],\"line_width\":{\"value\":2},\"plot\":null,\"render_mode\":\"css\",\"right_units\":\"screen\",\"top_units\":\"screen\"},\"id\":\"7cedf3f0-b498-45b8-a1c0-67bc71f4793f\",\"type\":\"BoxAnnotation\"},{\"attributes\":{},\"id\":\"64d0dc6d-19a4-40e5-9dbe-e82308aa0c4b\",\"type\":\"PanTool\"},{\"attributes\":{\"fill_color\":{\"value\":\"#1f77b4\"},\"line_color\":{\"value\":\"#1f77b4\"},\"top\":{\"field\":\"flux\"},\"width\":{\"value\":0.9},\"x\":{\"field\":\"band\"}},\"id\":\"41ebfc40-8bce-4ba9-9b54-5c63c5b05950\",\"type\":\"VBar\"},{\"attributes\":{\"below\":[{\"id\":\"5c18c8f5-4a7e-4fc8-b03f-5551be55ebf3\",\"type\":\"CategoricalAxis\"}],\"left\":[{\"id\":\"76a363c8-875b-4c5d-99fc-3e9ba08b0d57\",\"type\":\"LinearAxis\"}],\"plot_height\":300,\"plot_width\":300,\"renderers\":[{\"id\":\"5c18c8f5-4a7e-4fc8-b03f-5551be55ebf3\",\"type\":\"CategoricalAxis\"},{\"id\":\"50d0e559-bec2-4689-a4d3-4676a3d1e14b\",\"type\":\"Grid\"},{\"id\":\"76a363c8-875b-4c5d-99fc-3e9ba08b0d57\",\"type\":\"LinearAxis\"},{\"id\":\"aeba3266-c33a-49b0-98d9-4fd68d49fabc\",\"type\":\"Grid\"},{\"id\":\"fb839379-5cb1-4b45-b203-509c199f057f\",\"type\":\"BoxAnnotation\"},{\"id\":\"63a163e9-f159-4fb8-8c8e-74fbf47db625\",\"type\":\"GlyphRenderer\"}],\"title\":{\"id\":\"f9a24dc6-90cd-4afc-a81e-8b2f69b5bba2\",\"type\":\"Title\"},\"toolbar\":{\"id\":\"f99b8c6b-fd6e-45b9-a28b-28c542daf7f7\",\"type\":\"Toolbar\"},\"toolbar_location\":null,\"x_range\":{\"id\":\"fd1d6f59-8b68-41b7-8077-669a15990872\",\"type\":\"FactorRange\"},\"x_scale\":{\"id\":\"087c34dc-9a21-44e1-9877-07002358ca88\",\"type\":\"CategoricalScale\"},\"y_range\":{\"id\":\"e7ab5b27-31ee-4668-abe0-e374b3840c05\",\"type\":\"DataRange1d\"},\"y_scale\":{\"id\":\"b90ac5cb-6f06-4785-af80-491543e8af42\",\"type\":\"LinearScale\"}},\"id\":\"17e678eb-ca9a-41a3-89df-d61a2a6228db\",\"subtype\":\"Figure\",\"type\":\"Plot\"},{\"attributes\":{\"data_source\":{\"id\":\"78e50f68-f19f-4c73-b7b6-22a7146b55f1\",\"type\":\"ColumnDataSource\"},\"glyph\":{\"id\":\"0364d6fa-50b1-45dd-ab5a-1185d2952c2b\",\"type\":\"VBar\"},\"hover_glyph\":null,\"muted_glyph\":null,\"nonselection_glyph\":{\"id\":\"d3434217-23cb-4f77-9fc0-03fb5ed4ffd1\",\"type\":\"VBar\"},\"selection_glyph\":null,\"view\":{\"id\":\"622ce1a0-8859-4b8a-a60b-7d35edfe54a2\",\"type\":\"CDSView\"}},\"id\":\"88138716-b4ab-468f-92cf-dcaa78db946f\",\"type\":\"GlyphRenderer\"},{\"attributes\":{},\"id\":\"28e20bfd-f8ef-4f2e-9412-67c3aae0233b\",\"type\":\"CategoricalTickFormatter\"},{\"attributes\":{},\"id\":\"57cdd8c8-0ba6-4077-b8e1-15c66fad19a9\",\"type\":\"WheelZoomTool\"},{\"attributes\":{\"dimension\":1,\"plot\":{\"id\":\"570e4c57-61ba-45a0-bc40-e6731014447e\",\"subtype\":\"Figure\",\"type\":\"Plot\"},\"ticker\":{\"id\":\"da589d4d-8f37-4079-a23d-0511aa877055\",\"type\":\"BasicTicker\"}},\"id\":\"8ad4ac89-30e5-486e-8cd4-541f4094aec2\",\"type\":\"Grid\"},{\"attributes\":{\"overlay\":{\"id\":\"7cedf3f0-b498-45b8-a1c0-67bc71f4793f\",\"type\":\"BoxAnnotation\"}},\"id\":\"a25f70a0-9447-4117-af2d-460cd075b007\",\"type\":\"BoxZoomTool\"},{\"attributes\":{},\"id\":\"da589d4d-8f37-4079-a23d-0511aa877055\",\"type\":\"BasicTicker\"},{\"attributes\":{\"callback\":null,\"factors\":[\"7\"]},\"id\":\"fd1d6f59-8b68-41b7-8077-669a15990872\",\"type\":\"FactorRange\"},{\"attributes\":{},\"id\":\"9bf95d6e-bf9d-4031-a045-8b306df8e1fb\",\"type\":\"SaveTool\"},{\"attributes\":{},\"id\":\"087c111f-c506-46ff-90f9-d5354dcc5297\",\"type\":\"CategoricalTicker\"},{\"attributes\":{\"callback\":null},\"id\":\"e7ab5b27-31ee-4668-abe0-e374b3840c05\",\"type\":\"DataRange1d\"},{\"attributes\":{},\"id\":\"d153c7b2-b594-4d73-ae0f-f7d1e926609b\",\"type\":\"ResetTool\"},{\"attributes\":{},\"id\":\"7d48bbe6-242d-4860-8b7e-13d9b2292c4f\",\"type\":\"HelpTool\"},{\"attributes\":{\"plot\":null,\"text\":\"TOA flux. CLIRAD - CRD.\"},\"id\":\"f9a24dc6-90cd-4afc-a81e-8b2f69b5bba2\",\"type\":\"Title\"},{\"attributes\":{\"fill_alpha\":{\"value\":0.1},\"fill_color\":{\"value\":\"#1f77b4\"},\"line_alpha\":{\"value\":0.1},\"line_color\":{\"value\":\"#1f77b4\"},\"top\":{\"field\":\"flux\"},\"width\":{\"value\":0.9},\"x\":{\"field\":\"band\"}},\"id\":\"315e1f7d-0056-402e-b200-6184b48deee3\",\"type\":\"VBar\"},{\"attributes\":{\"active_drag\":\"auto\",\"active_inspect\":\"auto\",\"active_scroll\":\"auto\",\"active_tap\":\"auto\",\"tools\":[{\"id\":\"64d0dc6d-19a4-40e5-9dbe-e82308aa0c4b\",\"type\":\"PanTool\"},{\"id\":\"57cdd8c8-0ba6-4077-b8e1-15c66fad19a9\",\"type\":\"WheelZoomTool\"},{\"id\":\"a25f70a0-9447-4117-af2d-460cd075b007\",\"type\":\"BoxZoomTool\"},{\"id\":\"9bf95d6e-bf9d-4031-a045-8b306df8e1fb\",\"type\":\"SaveTool\"},{\"id\":\"d153c7b2-b594-4d73-ae0f-f7d1e926609b\",\"type\":\"ResetTool\"},{\"id\":\"7d48bbe6-242d-4860-8b7e-13d9b2292c4f\",\"type\":\"HelpTool\"}]},\"id\":\"163802dd-dbb4-430c-aed9-35e364015b16\",\"type\":\"Toolbar\"},{\"attributes\":{\"callback\":null,\"data\":{\"band\":[\"7\"],\"flux\":{\"__ndarray__\":\"oJN6wzuI0j8=\",\"dtype\":\"float64\",\"shape\":[1]}},\"selected\":{\"id\":\"0e497bfa-5050-48f1-9499-d98032e11a6c\",\"type\":\"Selection\"},\"selection_policy\":{\"id\":\"ff262512-121c-4c0e-9025-0c1149cdcb12\",\"type\":\"UnionRenderers\"}},\"id\":\"dc9e260b-b8ca-463e-a504-9185735e9cac\",\"type\":\"ColumnDataSource\"},{\"attributes\":{\"plot\":{\"id\":\"570e4c57-61ba-45a0-bc40-e6731014447e\",\"subtype\":\"Figure\",\"type\":\"Plot\"},\"ticker\":{\"id\":\"087c111f-c506-46ff-90f9-d5354dcc5297\",\"type\":\"CategoricalTicker\"}},\"id\":\"0a6f5c8b-ba1f-49eb-ab9e-c88d5e767ff5\",\"type\":\"Grid\"},{\"attributes\":{\"source\":{\"id\":\"78e50f68-f19f-4c73-b7b6-22a7146b55f1\",\"type\":\"ColumnDataSource\"}},\"id\":\"622ce1a0-8859-4b8a-a60b-7d35edfe54a2\",\"type\":\"CDSView\"},{\"attributes\":{\"axis_label\":\"flux (W m-2)\",\"formatter\":{\"id\":\"d6719e7c-74fc-436e-9a57-22a5414a3ec4\",\"type\":\"BasicTickFormatter\"},\"plot\":{\"id\":\"17e678eb-ca9a-41a3-89df-d61a2a6228db\",\"subtype\":\"Figure\",\"type\":\"Plot\"},\"ticker\":{\"id\":\"e5cd39f7-48fc-4d8d-a2b2-cb4bd2fb930c\",\"type\":\"BasicTicker\"}},\"id\":\"76a363c8-875b-4c5d-99fc-3e9ba08b0d57\",\"type\":\"LinearAxis\"},{\"attributes\":{},\"id\":\"b90ac5cb-6f06-4785-af80-491543e8af42\",\"type\":\"LinearScale\"},{\"attributes\":{},\"id\":\"b9785b01-b091-4340-9234-6ed93caa1406\",\"type\":\"HelpTool\"},{\"attributes\":{\"plot\":{\"id\":\"17e678eb-ca9a-41a3-89df-d61a2a6228db\",\"subtype\":\"Figure\",\"type\":\"Plot\"},\"ticker\":{\"id\":\"e74c94ca-3d2a-4530-9391-0c567e70e82f\",\"type\":\"CategoricalTicker\"}},\"id\":\"50d0e559-bec2-4689-a4d3-4676a3d1e14b\",\"type\":\"Grid\"},{\"attributes\":{\"callback\":null,\"factors\":[\"7\"]},\"id\":\"0bda1699-9fb6-4949-8745-c1cf70e298ee\",\"type\":\"FactorRange\"},{\"attributes\":{\"axis_label\":\"spectral band\",\"formatter\":{\"id\":\"28e20bfd-f8ef-4f2e-9412-67c3aae0233b\",\"type\":\"CategoricalTickFormatter\"},\"plot\":{\"id\":\"17e678eb-ca9a-41a3-89df-d61a2a6228db\",\"subtype\":\"Figure\",\"type\":\"Plot\"},\"ticker\":{\"id\":\"e74c94ca-3d2a-4530-9391-0c567e70e82f\",\"type\":\"CategoricalTicker\"}},\"id\":\"5c18c8f5-4a7e-4fc8-b03f-5551be55ebf3\",\"type\":\"CategoricalAxis\"},{\"attributes\":{},\"id\":\"ff262512-121c-4c0e-9025-0c1149cdcb12\",\"type\":\"UnionRenderers\"},{\"attributes\":{},\"id\":\"e74c94ca-3d2a-4530-9391-0c567e70e82f\",\"type\":\"CategoricalTicker\"},{\"attributes\":{\"fill_color\":{\"value\":\"#1f77b4\"},\"line_color\":{\"value\":\"#1f77b4\"},\"top\":{\"field\":\"flux\"},\"width\":{\"value\":0.9},\"x\":{\"field\":\"band\"}},\"id\":\"5fda94e3-0262-43a8-8105-d71e16aa497c\",\"type\":\"VBar\"},{\"attributes\":{},\"id\":\"e5cd39f7-48fc-4d8d-a2b2-cb4bd2fb930c\",\"type\":\"BasicTicker\"},{\"attributes\":{\"dimension\":1,\"plot\":{\"id\":\"17e678eb-ca9a-41a3-89df-d61a2a6228db\",\"subtype\":\"Figure\",\"type\":\"Plot\"},\"ticker\":{\"id\":\"e5cd39f7-48fc-4d8d-a2b2-cb4bd2fb930c\",\"type\":\"BasicTicker\"}},\"id\":\"aeba3266-c33a-49b0-98d9-4fd68d49fabc\",\"type\":\"Grid\"},{\"attributes\":{\"fill_alpha\":{\"value\":0.1},\"fill_color\":{\"value\":\"#1f77b4\"},\"line_alpha\":{\"value\":0.1},\"line_color\":{\"value\":\"#1f77b4\"},\"top\":{\"field\":\"flux\"},\"width\":{\"value\":0.9},\"x\":{\"field\":\"band\"}},\"id\":\"a0ea2e28-3d9a-440a-bf02-aa83d38e60ea\",\"type\":\"VBar\"},{\"attributes\":{\"children\":[{\"id\":\"214e43d9-53be-4928-871e-0fd0758f6f8e\",\"type\":\"Row\"}]},\"id\":\"fabaa510-fdde-4ce7-ac37-7306d67a64e5\",\"type\":\"Column\"},{\"attributes\":{\"below\":[{\"id\":\"f3a81b93-7231-47b9-b7cb-36e70627690b\",\"type\":\"CategoricalAxis\"}],\"left\":[{\"id\":\"acc4645b-8670-41a9-9c62-6e4a28ebca41\",\"type\":\"LinearAxis\"}],\"plot_height\":300,\"plot_width\":300,\"renderers\":[{\"id\":\"f3a81b93-7231-47b9-b7cb-36e70627690b\",\"type\":\"CategoricalAxis\"},{\"id\":\"2881aa21-8e65-4182-ac2a-abfb2a179555\",\"type\":\"Grid\"},{\"id\":\"acc4645b-8670-41a9-9c62-6e4a28ebca41\",\"type\":\"LinearAxis\"},{\"id\":\"95189664-e264-4a1c-9eaa-7d33a5265664\",\"type\":\"Grid\"},{\"id\":\"7cedf3f0-b498-45b8-a1c0-67bc71f4793f\",\"type\":\"BoxAnnotation\"},{\"id\":\"88138716-b4ab-468f-92cf-dcaa78db946f\",\"type\":\"GlyphRenderer\"}],\"title\":{\"id\":\"6031b288-762c-46cf-9609-92d3db0ca3e0\",\"type\":\"Title\"},\"toolbar\":{\"id\":\"163802dd-dbb4-430c-aed9-35e364015b16\",\"type\":\"Toolbar\"},\"toolbar_location\":null,\"x_range\":{\"id\":\"e062e261-eec9-4522-aac6-8f68d1ab08cc\",\"type\":\"FactorRange\"},\"x_scale\":{\"id\":\"016906be-b832-41b1-b5b8-e0826a6c19d4\",\"type\":\"CategoricalScale\"},\"y_range\":{\"id\":\"ff33a57b-3a6f-43ac-8d26-0ba64d9b739c\",\"type\":\"DataRange1d\"},\"y_scale\":{\"id\":\"930dd388-2777-4760-9fb2-e9e96f602d83\",\"type\":\"LinearScale\"}},\"id\":\"2c699943-7b57-4134-b40b-5159d6702d2c\",\"subtype\":\"Figure\",\"type\":\"Plot\"},{\"attributes\":{},\"id\":\"0691f20d-5bd0-42f4-b4d6-057cd7d66ce5\",\"type\":\"BasicTickFormatter\"},{\"attributes\":{},\"id\":\"d6719e7c-74fc-436e-9a57-22a5414a3ec4\",\"type\":\"BasicTickFormatter\"},{\"attributes\":{\"bottom_units\":\"screen\",\"fill_alpha\":{\"value\":0.5},\"fill_color\":{\"value\":\"lightgrey\"},\"left_units\":\"screen\",\"level\":\"overlay\",\"line_alpha\":{\"value\":1.0},\"line_color\":{\"value\":\"black\"},\"line_dash\":[4,4],\"line_width\":{\"value\":2},\"plot\":null,\"render_mode\":\"css\",\"right_units\":\"screen\",\"top_units\":\"screen\"},\"id\":\"fb839379-5cb1-4b45-b203-509c199f057f\",\"type\":\"BoxAnnotation\"},{\"attributes\":{},\"id\":\"fafc1fdf-406f-42f8-bec0-e241fe05602f\",\"type\":\"PanTool\"},{\"attributes\":{\"data_source\":{\"id\":\"dc9e260b-b8ca-463e-a504-9185735e9cac\",\"type\":\"ColumnDataSource\"},\"glyph\":{\"id\":\"5fda94e3-0262-43a8-8105-d71e16aa497c\",\"type\":\"VBar\"},\"hover_glyph\":null,\"muted_glyph\":null,\"nonselection_glyph\":{\"id\":\"a0ea2e28-3d9a-440a-bf02-aa83d38e60ea\",\"type\":\"VBar\"},\"selection_glyph\":null,\"view\":{\"id\":\"0513a84c-5c83-4ece-8292-f2c3ae7df18c\",\"type\":\"CDSView\"}},\"id\":\"63a163e9-f159-4fb8-8c8e-74fbf47db625\",\"type\":\"GlyphRenderer\"},{\"attributes\":{},\"id\":\"9c3202fa-2c5c-4977-89bf-0c12015cb95b\",\"type\":\"WheelZoomTool\"},{\"attributes\":{},\"id\":\"0e497bfa-5050-48f1-9499-d98032e11a6c\",\"type\":\"Selection\"},{\"attributes\":{\"overlay\":{\"id\":\"fb839379-5cb1-4b45-b203-509c199f057f\",\"type\":\"BoxAnnotation\"}},\"id\":\"c56e38ba-60a8-4a98-a60a-783d26bff701\",\"type\":\"BoxZoomTool\"},{\"attributes\":{},\"id\":\"8fd9d4de-7918-47dc-8080-dd213a9dcd95\",\"type\":\"CategoricalTickFormatter\"},{\"attributes\":{},\"id\":\"3e6d672c-f86e-4987-895e-76e1abff5b94\",\"type\":\"SaveTool\"},{\"attributes\":{},\"id\":\"b0779d1b-96e2-47c5-b185-4f8d6fbac3c8\",\"type\":\"UnionRenderers\"},{\"attributes\":{},\"id\":\"e37af781-8483-4268-8cdb-9e0c91e8a804\",\"type\":\"ResetTool\"},{\"attributes\":{\"tools\":[{\"id\":\"fafc1fdf-406f-42f8-bec0-e241fe05602f\",\"type\":\"PanTool\"},{\"id\":\"9c3202fa-2c5c-4977-89bf-0c12015cb95b\",\"type\":\"WheelZoomTool\"},{\"id\":\"c56e38ba-60a8-4a98-a60a-783d26bff701\",\"type\":\"BoxZoomTool\"},{\"id\":\"3e6d672c-f86e-4987-895e-76e1abff5b94\",\"type\":\"SaveTool\"},{\"id\":\"e37af781-8483-4268-8cdb-9e0c91e8a804\",\"type\":\"ResetTool\"},{\"id\":\"92011751-e2a5-47bd-a7f2-3ac19173468b\",\"type\":\"HelpTool\"},{\"id\":\"64d0dc6d-19a4-40e5-9dbe-e82308aa0c4b\",\"type\":\"PanTool\"},{\"id\":\"57cdd8c8-0ba6-4077-b8e1-15c66fad19a9\",\"type\":\"WheelZoomTool\"},{\"id\":\"a25f70a0-9447-4117-af2d-460cd075b007\",\"type\":\"BoxZoomTool\"},{\"id\":\"9bf95d6e-bf9d-4031-a045-8b306df8e1fb\",\"type\":\"SaveTool\"},{\"id\":\"d153c7b2-b594-4d73-ae0f-f7d1e926609b\",\"type\":\"ResetTool\"},{\"id\":\"7d48bbe6-242d-4860-8b7e-13d9b2292c4f\",\"type\":\"HelpTool\"},{\"id\":\"5c468f18-f6bb-4499-a4ee-a3e3a65c6121\",\"type\":\"PanTool\"},{\"id\":\"f619ccb4-f08b-4fc5-8ad0-ca09ad295741\",\"type\":\"WheelZoomTool\"},{\"id\":\"f1556f2e-79ee-41d9-80ff-f3762818aa31\",\"type\":\"BoxZoomTool\"},{\"id\":\"876f33cb-a87a-41fa-ba22-a7bc9876cb47\",\"type\":\"SaveTool\"},{\"id\":\"cae02e70-3653-4350-add3-3d137ecb04b0\",\"type\":\"ResetTool\"},{\"id\":\"b9785b01-b091-4340-9234-6ed93caa1406\",\"type\":\"HelpTool\"}]},\"id\":\"8c906cbd-d202-44d2-b5ea-941b1ff033d9\",\"type\":\"ProxyToolbar\"},{\"attributes\":{},\"id\":\"92011751-e2a5-47bd-a7f2-3ac19173468b\",\"type\":\"HelpTool\"},{\"attributes\":{\"toolbar\":{\"id\":\"8c906cbd-d202-44d2-b5ea-941b1ff033d9\",\"type\":\"ProxyToolbar\"},\"toolbar_location\":\"above\"},\"id\":\"0dc7ec99-be0d-4011-9ea4-0d5141c7e2f5\",\"type\":\"ToolbarBox\"},{\"attributes\":{},\"id\":\"ab8beded-cbba-463c-b91c-686ecc2861ba\",\"type\":\"Selection\"},{\"attributes\":{},\"id\":\"07a0efae-8d70-472b-97aa-8bd9db2fa84f\",\"type\":\"CategoricalTickFormatter\"},{\"attributes\":{},\"id\":\"2487e7cf-d571-49da-94be-91b8a2ebc94e\",\"type\":\"Selection\"},{\"attributes\":{\"source\":{\"id\":\"dc9e260b-b8ca-463e-a504-9185735e9cac\",\"type\":\"ColumnDataSource\"}},\"id\":\"0513a84c-5c83-4ece-8292-f2c3ae7df18c\",\"type\":\"CDSView\"},{\"attributes\":{\"callback\":null,\"data\":{\"band\":[\"7\"],\"flux\":{\"__ndarray__\":\"QDHjpU92yj8=\",\"dtype\":\"float64\",\"shape\":[1]}},\"selected\":{\"id\":\"ab8beded-cbba-463c-b91c-686ecc2861ba\",\"type\":\"Selection\"},\"selection_policy\":{\"id\":\"2138488a-1d5a-4a30-86f5-aadc941e5b7c\",\"type\":\"UnionRenderers\"}},\"id\":\"7177d3ba-2040-4d3b-b769-003a997cbc98\",\"type\":\"ColumnDataSource\"}],\"root_ids\":[\"755b6570-db3e-4005-9159-e1fd4105749a\"]},\"title\":\"Bokeh Application\",\"version\":\"0.12.16\"}};\n",
       "  var render_items = [{\"docid\":\"2dbb9eab-95d3-47d7-a32e-71a3125397c5\",\"elementid\":\"62c51053-c0e2-4b14-b4f4-f87fd5ec9fdf\",\"modelid\":\"755b6570-db3e-4005-9159-e1fd4105749a\"}];\n",
       "  root.Bokeh.embed.embed_items_notebook(docs_json, render_items);\n",
       "\n",
       "  }\n",
       "  if (root.Bokeh !== undefined) {\n",
       "    embed_document(root);\n",
       "  } else {\n",
       "    var attempts = 0;\n",
       "    var timer = setInterval(function(root) {\n",
       "      if (root.Bokeh !== undefined) {\n",
       "        embed_document(root);\n",
       "        clearInterval(timer);\n",
       "      }\n",
       "      attempts++;\n",
       "      if (attempts > 100) {\n",
       "        console.log(\"Bokeh: ERROR: Unable to run BokehJS code because BokehJS library is missing\")\n",
       "        clearInterval(timer);\n",
       "      }\n",
       "    }, 10, root)\n",
       "  }\n",
       "})(window);"
      ],
      "application/vnd.bokehjs_exec.v0+json": ""
     },
     "metadata": {
      "application/vnd.bokehjs_exec.v0+json": {
       "id": "755b6570-db3e-4005-9159-e1fd4105749a"
      }
     },
     "output_type": "display_data"
    },
    {
     "data": {
      "text/markdown": [
       "*FIGURE.* Difference between CLIRAD and CRD in TOA, SFC and net atmosphere flux, in each spectral band."
      ],
      "text/plain": [
       "<IPython.core.display.Markdown object>"
      ]
     },
     "metadata": {},
     "output_type": "display_data"
    },
    {
     "data": {
      "text/html": [
       "<div>\n",
       "<style scoped>\n",
       "    .dataframe tbody tr th:only-of-type {\n",
       "        vertical-align: middle;\n",
       "    }\n",
       "\n",
       "    .dataframe tbody tr th {\n",
       "        vertical-align: top;\n",
       "    }\n",
       "\n",
       "    .dataframe thead th {\n",
       "        text-align: right;\n",
       "    }\n",
       "</style>\n",
       "<table border=\"1\" class=\"dataframe\">\n",
       "  <thead>\n",
       "    <tr style=\"text-align: right;\">\n",
       "      <th></th>\n",
       "      <th></th>\n",
       "      <th>TOA up</th>\n",
       "      <th>SFC down</th>\n",
       "      <th>ATM heating</th>\n",
       "      <th>tropo up</th>\n",
       "      <th>tropo down</th>\n",
       "      <th>tropo net</th>\n",
       "    </tr>\n",
       "  </thead>\n",
       "  <tbody>\n",
       "    <tr>\n",
       "      <th rowspan=\"2\" valign=\"top\">Sum over band</th>\n",
       "      <th>CLIRAD - CRD</th>\n",
       "      <td>0.29</td>\n",
       "      <td>0.08</td>\n",
       "      <td>0.21</td>\n",
       "      <td>-0.07</td>\n",
       "      <td>0.13</td>\n",
       "      <td>0.06</td>\n",
       "    </tr>\n",
       "    <tr>\n",
       "      <th>CRD</th>\n",
       "      <td>-11.00</td>\n",
       "      <td>2.80</td>\n",
       "      <td>1.25</td>\n",
       "      <td>-14.43</td>\n",
       "      <td>2.10</td>\n",
       "      <td>-12.33</td>\n",
       "    </tr>\n",
       "    <tr>\n",
       "      <th rowspan=\"2\" valign=\"top\">Band 7</th>\n",
       "      <th>CLIRAD - CRD</th>\n",
       "      <td>0.29</td>\n",
       "      <td>0.08</td>\n",
       "      <td>0.21</td>\n",
       "      <td>-0.07</td>\n",
       "      <td>0.13</td>\n",
       "      <td>0.06</td>\n",
       "    </tr>\n",
       "    <tr>\n",
       "      <th>CRD</th>\n",
       "      <td>-11.00</td>\n",
       "      <td>2.80</td>\n",
       "      <td>1.25</td>\n",
       "      <td>-14.43</td>\n",
       "      <td>2.10</td>\n",
       "      <td>-12.33</td>\n",
       "    </tr>\n",
       "  </tbody>\n",
       "</table>\n",
       "</div>"
      ],
      "text/plain": [
       "                            TOA up  SFC down  ATM heating  tropo up  \\\n",
       "Sum over band CLIRAD - CRD    0.29      0.08         0.21     -0.07   \n",
       "              CRD           -11.00      2.80         1.25    -14.43   \n",
       "Band 7        CLIRAD - CRD    0.29      0.08         0.21     -0.07   \n",
       "              CRD           -11.00      2.80         1.25    -14.43   \n",
       "\n",
       "                            tropo down  tropo net  \n",
       "Sum over band CLIRAD - CRD        0.13       0.06  \n",
       "              CRD                 2.10     -12.33  \n",
       "Band 7        CLIRAD - CRD        0.13       0.06  \n",
       "              CRD                 2.10     -12.33  "
      ]
     },
     "metadata": {},
     "output_type": "display_data"
    },
    {
     "data": {
      "text/markdown": [
       "*TABLE.* Difference between CLIRAD and CRD fluxes at various atmosphere levels."
      ],
      "text/plain": [
       "<IPython.core.display.Markdown object>"
      ]
     },
     "metadata": {},
     "output_type": "display_data"
    },
    {
     "data": {
      "text/html": [
       "<a id=\"Parameters_of_runs._trp\"></a>"
      ],
      "text/plain": [
       "<IPython.core.display.HTML object>"
      ]
     },
     "metadata": {},
     "output_type": "display_data"
    },
    {
     "data": {
      "text/markdown": [
       "# Parameters of runs. trp"
      ],
      "text/plain": [
       "<IPython.core.display.Markdown object>"
      ]
     },
     "metadata": {},
     "output_type": "display_data"
    },
    {
     "data": {
      "text/html": [
       "<div>\n",
       "<style scoped>\n",
       "    .dataframe tbody tr th:only-of-type {\n",
       "        vertical-align: middle;\n",
       "    }\n",
       "\n",
       "    .dataframe tbody tr th {\n",
       "        vertical-align: top;\n",
       "    }\n",
       "\n",
       "    .dataframe thead tr th {\n",
       "        text-align: left;\n",
       "    }\n",
       "</style>\n",
       "<table border=\"1\" class=\"dataframe\">\n",
       "  <thead>\n",
       "    <tr>\n",
       "      <th></th>\n",
       "      <th>clirad-lw</th>\n",
       "      <th>lblnew-bestfit lw</th>\n",
       "    </tr>\n",
       "    <tr>\n",
       "      <th></th>\n",
       "      <th>:D</th>\n",
       "      <th>band5 o3</th>\n",
       "    </tr>\n",
       "  </thead>\n",
       "  <tbody>\n",
       "    <tr>\n",
       "      <th>atmpro</th>\n",
       "      <td>trp</td>\n",
       "      <td>trp</td>\n",
       "    </tr>\n",
       "    <tr>\n",
       "      <th>band</th>\n",
       "      <td>[7]</td>\n",
       "      <td>5</td>\n",
       "    </tr>\n",
       "    <tr>\n",
       "      <th>commitnumber</th>\n",
       "      <td>1013f91</td>\n",
       "      <td>5014a19</td>\n",
       "    </tr>\n",
       "    <tr>\n",
       "      <th>conc</th>\n",
       "      <td>-</td>\n",
       "      <td>-</td>\n",
       "    </tr>\n",
       "    <tr>\n",
       "      <th>dv</th>\n",
       "      <td>-</td>\n",
       "      <td>0.001</td>\n",
       "    </tr>\n",
       "    <tr>\n",
       "      <th>klin</th>\n",
       "      <td>-</td>\n",
       "      <td>2e-20</td>\n",
       "    </tr>\n",
       "    <tr>\n",
       "      <th>molecule</th>\n",
       "      <td>{'o3': 'atmpro'}</td>\n",
       "      <td>o3</td>\n",
       "    </tr>\n",
       "    <tr>\n",
       "      <th>ng_adju</th>\n",
       "      <td>-</td>\n",
       "      <td>[0, 0]</td>\n",
       "    </tr>\n",
       "    <tr>\n",
       "      <th>ng_refs</th>\n",
       "      <td>-</td>\n",
       "      <td>[2, 5]</td>\n",
       "    </tr>\n",
       "    <tr>\n",
       "      <th>nv</th>\n",
       "      <td>-</td>\n",
       "      <td>1000</td>\n",
       "    </tr>\n",
       "    <tr>\n",
       "      <th>option_compute_btable</th>\n",
       "      <td>-</td>\n",
       "      <td>0</td>\n",
       "    </tr>\n",
       "    <tr>\n",
       "      <th>option_compute_ktable</th>\n",
       "      <td>-</td>\n",
       "      <td>0</td>\n",
       "    </tr>\n",
       "    <tr>\n",
       "      <th>option_wgt_flux</th>\n",
       "      <td>-</td>\n",
       "      <td>1</td>\n",
       "    </tr>\n",
       "    <tr>\n",
       "      <th>option_wgt_k</th>\n",
       "      <td>-</td>\n",
       "      <td>1</td>\n",
       "    </tr>\n",
       "    <tr>\n",
       "      <th>ref_pts</th>\n",
       "      <td>-</td>\n",
       "      <td>[[1, 250], [50, 250]]</td>\n",
       "    </tr>\n",
       "    <tr>\n",
       "      <th>tsfc</th>\n",
       "      <td>300</td>\n",
       "      <td>300</td>\n",
       "    </tr>\n",
       "    <tr>\n",
       "      <th>vmax</th>\n",
       "      <td>-</td>\n",
       "      <td>1100</td>\n",
       "    </tr>\n",
       "    <tr>\n",
       "      <th>vmin</th>\n",
       "      <td>-</td>\n",
       "      <td>980</td>\n",
       "    </tr>\n",
       "    <tr>\n",
       "      <th>w_diffuse</th>\n",
       "      <td>-</td>\n",
       "      <td>[[1.6, 1.75], [1.55, 1.66, 1.7, 1.75, 1.8]]</td>\n",
       "    </tr>\n",
       "    <tr>\n",
       "      <th>wgt</th>\n",
       "      <td>-</td>\n",
       "      <td>[[0.35, 0.6], [0.5, 0.55, 0.7, 0.9, 1.0]]</td>\n",
       "    </tr>\n",
       "  </tbody>\n",
       "</table>\n",
       "</div>"
      ],
      "text/plain": [
       "                              clirad-lw  \\\n",
       "                                     :D   \n",
       "atmpro                              trp   \n",
       "band                                [7]   \n",
       "commitnumber                    1013f91   \n",
       "conc                                  -   \n",
       "dv                                    -   \n",
       "klin                                  -   \n",
       "molecule               {'o3': 'atmpro'}   \n",
       "ng_adju                               -   \n",
       "ng_refs                               -   \n",
       "nv                                    -   \n",
       "option_compute_btable                 -   \n",
       "option_compute_ktable                 -   \n",
       "option_wgt_flux                       -   \n",
       "option_wgt_k                          -   \n",
       "ref_pts                               -   \n",
       "tsfc                                300   \n",
       "vmax                                  -   \n",
       "vmin                                  -   \n",
       "w_diffuse                             -   \n",
       "wgt                                   -   \n",
       "\n",
       "                                                 lblnew-bestfit lw  \n",
       "                                                          band5 o3  \n",
       "atmpro                                                         trp  \n",
       "band                                                             5  \n",
       "commitnumber                                               5014a19  \n",
       "conc                                                             -  \n",
       "dv                                                           0.001  \n",
       "klin                                                         2e-20  \n",
       "molecule                                                        o3  \n",
       "ng_adju                                                     [0, 0]  \n",
       "ng_refs                                                     [2, 5]  \n",
       "nv                                                            1000  \n",
       "option_compute_btable                                            0  \n",
       "option_compute_ktable                                            0  \n",
       "option_wgt_flux                                                  1  \n",
       "option_wgt_k                                                     1  \n",
       "ref_pts                                      [[1, 250], [50, 250]]  \n",
       "tsfc                                                           300  \n",
       "vmax                                                          1100  \n",
       "vmin                                                           980  \n",
       "w_diffuse              [[1.6, 1.75], [1.55, 1.66, 1.7, 1.75, 1.8]]  \n",
       "wgt                      [[0.35, 0.6], [0.5, 0.55, 0.7, 0.9, 1.0]]  "
      ]
     },
     "metadata": {},
     "output_type": "display_data"
    },
    {
     "data": {
      "text/html": [
       "<a id=\"Cooling_rates._trp.\"></a>"
      ],
      "text/plain": [
       "<IPython.core.display.HTML object>"
      ]
     },
     "metadata": {},
     "output_type": "display_data"
    },
    {
     "data": {
      "text/markdown": [
       "# Cooling rates. trp."
      ],
      "text/plain": [
       "<IPython.core.display.Markdown object>"
      ]
     },
     "metadata": {},
     "output_type": "display_data"
    },
    {
     "data": {
      "text/html": [
       "\n",
       "<div class=\"bk-root\">\n",
       "    <div class=\"bk-plotdiv\" id=\"c5c7378b-24c5-42a1-ab35-14a0ad71033f\"></div>\n",
       "</div>"
      ]
     },
     "metadata": {},
     "output_type": "display_data"
    },
    {
     "data": {
      "application/javascript": [
       "(function(root) {\n",
       "  function embed_document(root) {\n",
       "    \n",
       "  var docs_json = {\"ca581bab-4bbc-4425-9ffb-f29025d2db2c\":{\"roots\":{\"references\":[{\"attributes\":{\"line_color\":\"#4daf4a\",\"line_width\":1.5,\"x\":{\"field\":\"x\"},\"y\":{\"field\":\"y\"}},\"id\":\"f64f05d7-292d-49d4-a4d1-e8d102e4f5b7\",\"type\":\"Line\"},{\"attributes\":{\"above\":[{\"id\":\"4f3fcfcb-4873-45a4-bf98-0056f827ac81\",\"type\":\"Legend\"}],\"below\":[{\"id\":\"2b12233e-6de3-4fc6-86c5-272f2a6557ba\",\"type\":\"LinearAxis\"}],\"left\":[{\"id\":\"a50a8a8e-f88f-4555-9b4c-77b966bd6923\",\"type\":\"LogAxis\"}],\"plot_width\":300,\"renderers\":[{\"id\":\"2b12233e-6de3-4fc6-86c5-272f2a6557ba\",\"type\":\"LinearAxis\"},{\"id\":\"1b027121-ef3d-43b6-839b-dfb83b8a307a\",\"type\":\"Grid\"},{\"id\":\"a50a8a8e-f88f-4555-9b4c-77b966bd6923\",\"type\":\"LogAxis\"},{\"id\":\"d2144994-361d-4223-9877-84c045dabd7e\",\"type\":\"Grid\"},{\"id\":\"b07cba5d-69fd-4bc9-acde-2e6036e61432\",\"type\":\"BoxAnnotation\"},{\"id\":\"4059ee8c-fde7-44b3-b05f-291010469e4e\",\"type\":\"GlyphRenderer\"},{\"id\":\"39611265-ed0b-478a-9dff-6a0023067577\",\"type\":\"GlyphRenderer\"},{\"id\":\"4f3fcfcb-4873-45a4-bf98-0056f827ac81\",\"type\":\"Legend\"}],\"title\":{\"id\":\"22a28073-2376-407c-bfcf-75efd0c5a94c\",\"type\":\"Title\"},\"toolbar\":{\"id\":\"0efab12c-d4b6-48d1-b8a4-8764d321b5bc\",\"type\":\"Toolbar\"},\"toolbar_location\":null,\"x_range\":{\"id\":\"8a26307b-ded7-4495-92e0-0e67bbdf254e\",\"type\":\"Range1d\"},\"x_scale\":{\"id\":\"2bf15a95-f83d-4e44-b670-649dd1b4afb1\",\"type\":\"LinearScale\"},\"y_range\":{\"id\":\"88ac3146-1ef4-4460-bec2-cc605f83a2c3\",\"type\":\"Range1d\"},\"y_scale\":{\"id\":\"02cadbac-a7ff-4039-8ed9-ed48d46601f5\",\"type\":\"LogScale\"}},\"id\":\"5b08069c-a9a2-43f0-970a-34eff479f1c9\",\"subtype\":\"Figure\",\"type\":\"Plot\"},{\"attributes\":{},\"id\":\"57cbc66c-5ca1-445c-871c-700694c1db5e\",\"type\":\"LinearScale\"},{\"attributes\":{},\"id\":\"9ff94389-7138-431e-8607-a724f7656332\",\"type\":\"HelpTool\"},{\"attributes\":{\"active_drag\":\"auto\",\"active_inspect\":\"auto\",\"active_scroll\":\"auto\",\"active_tap\":\"auto\",\"tools\":[{\"id\":\"f57f7719-a751-48ef-ac72-bc3b4aae9e7f\",\"type\":\"PanTool\"},{\"id\":\"d0461862-548e-4b36-8d3d-0a00b0e35ae7\",\"type\":\"WheelZoomTool\"},{\"id\":\"4cae1bbe-6c47-48dc-80dc-c5d04731d441\",\"type\":\"BoxZoomTool\"},{\"id\":\"6575e624-19d7-4719-9b25-09f7c4b20d14\",\"type\":\"SaveTool\"},{\"id\":\"2c670134-6fd8-46a8-840e-0bb0b43a1f29\",\"type\":\"ResetTool\"},{\"id\":\"9ff94389-7138-431e-8607-a724f7656332\",\"type\":\"HelpTool\"}]},\"id\":\"09e3c620-2cf2-463a-b056-541a9a864802\",\"type\":\"Toolbar\"},{\"attributes\":{\"line_alpha\":0.1,\"line_color\":\"#1f77b4\",\"line_width\":1.5,\"x\":{\"field\":\"x\"},\"y\":{\"field\":\"y\"}},\"id\":\"22e3dbbb-698f-4da7-b4b2-901281e85fca\",\"type\":\"Line\"},{\"attributes\":{\"line_color\":\"#4daf4a\",\"line_width\":1.5,\"x\":{\"field\":\"x\"},\"y\":{\"field\":\"y\"}},\"id\":\"5a2db295-fc37-460e-bfb8-49acbdb5809b\",\"type\":\"Line\"},{\"attributes\":{},\"id\":\"2c670134-6fd8-46a8-840e-0bb0b43a1f29\",\"type\":\"ResetTool\"},{\"attributes\":{\"data_source\":{\"id\":\"1a86f1c2-b0b4-46e5-9eef-7234a654eccd\",\"type\":\"ColumnDataSource\"},\"glyph\":{\"id\":\"5a2db295-fc37-460e-bfb8-49acbdb5809b\",\"type\":\"Line\"},\"hover_glyph\":null,\"muted_glyph\":null,\"nonselection_glyph\":{\"id\":\"22e3dbbb-698f-4da7-b4b2-901281e85fca\",\"type\":\"Line\"},\"selection_glyph\":null,\"view\":{\"id\":\"f20616a3-a10b-49fd-9fb6-43226704f715\",\"type\":\"CDSView\"}},\"id\":\"bf393a74-a353-4168-87ba-20d938f2b889\",\"type\":\"GlyphRenderer\"},{\"attributes\":{},\"id\":\"2bf15a95-f83d-4e44-b670-649dd1b4afb1\",\"type\":\"LinearScale\"},{\"attributes\":{\"callback\":null,\"end\":0.03701496515450001,\"start\":-0.6044900347045},\"id\":\"e547cb79-8afc-4c50-8eb8-6bc66fa489c3\",\"type\":\"Range1d\"},{\"attributes\":{\"axis_label\":\"cooling rate [K/day]\",\"formatter\":{\"id\":\"7757835f-0ec9-4d44-9091-6dbff0b46532\",\"type\":\"BasicTickFormatter\"},\"plot\":{\"id\":\"1bbf327a-c2d6-48fb-b514-db78e7b38e0b\",\"subtype\":\"Figure\",\"type\":\"Plot\"},\"ticker\":{\"id\":\"29b25468-6738-42ac-ba72-0943af7fae15\",\"type\":\"BasicTicker\"}},\"id\":\"1cfcc271-f85c-4d55-92a9-c9e7892c8628\",\"type\":\"LinearAxis\"},{\"attributes\":{\"fill_alpha\":{\"value\":0.7},\"fill_color\":{\"value\":\"#4daf4a\"},\"line_alpha\":{\"value\":0.7},\"line_color\":{\"value\":\"#4daf4a\"},\"x\":{\"field\":\"x\"},\"y\":{\"field\":\"y\"}},\"id\":\"cacc10ba-ad21-48df-a064-6eac2509a718\",\"type\":\"Circle\"},{\"attributes\":{\"label\":{\"value\":\"CRD\"},\"renderers\":[{\"id\":\"bb2483c0-3b65-4087-860f-c58cfe44aabf\",\"type\":\"GlyphRenderer\"},{\"id\":\"573942b7-dd3f-47b9-8d22-0eb2510d5f43\",\"type\":\"GlyphRenderer\"}]},\"id\":\"a3b29ebb-16ab-45fe-b67c-07c80c9bdb85\",\"type\":\"LegendItem\"},{\"attributes\":{\"source\":{\"id\":\"47dbe383-1f3b-426a-b629-a281a4f6a515\",\"type\":\"ColumnDataSource\"}},\"id\":\"f6ce3ff3-200d-445f-8f9c-9f08d8100d2f\",\"type\":\"CDSView\"},{\"attributes\":{\"callback\":null,\"data\":{\"x\":{\"__ndarray__\":\"T+GLyvYGo7/c+WPbBU+lv6NTUeuysam/TVrcXK3arb/fYqGTCeWwv0ZoazFbv7K/6dPk1KN7tL+kN2CAEhm2vzzLb/Fpl7e/MGv/bIH9uL9GQWdQuFC6v4ySjTGglru/rzLusufZvL8RMWnid969vwvOU8nREb2/ATz6dusOtb+E+1N7MOhWv536m6tBc8E/gqwg+GrP1T8xc8xnFu3jPwt/yFM93u8/F9VuMN7n9j99x2AtjUP7P1p2zVM5D/s/ohW3iCpf+D8MhZjjxlnzPxVsAWvee+s/zuPwxTdl4j9Rw6g8IozXP5gyVxFsn8U/XlRoMC+/sb8AQIJl26fSv6hRVjizKd6/KqCVI4AV4r8wNaKxf+ngv/bsCpRMota/tLFmqRudxr/SRlDhMYi8v4KU3W53hre/PcKOGurrs7+nB9GOnhGxvzxJD4ulxKy/C7n+z/QhqL9RRJAQTzmkv6nuMoBOAaG/jbmVZDDNnL9rVlTBw1SYv7mhuAo6RpS/Oh4WNXGwkL9UhNpPGg6Lv6UsruMIHoW/GBeq3E/afr/KrJKV2Olzv/29JzyiyWK/xhQj8kDNJz9LIuxCGwxlPwIzgzvs+HM/rHyqcKMdfT+qmZTwGfaCP+v7jhn9UYc/1r/HoIGkiz/aQn0G+KOPP3lrcC7phZE/Isa7IQPekj/lmR6Bj/2TP3/TJ0/1E5U/+3Qzjos6lj/wvOtNpXSXPzzL+gD4wJg/LPbvnNARmj/60tlrzlObPxpHsKJbd5w/wDe5AJqEnT/FVTsPpYOeP2BZUdqOdp8/\",\"dtype\":\"float64\",\"shape\":[75]},\"y\":{\"__ndarray__\":\"GhExyth1ND/Sv8nbtpRIP2vylNV0PVE/aTum7souWD/At0SJ8fVgPw3Iuahxymc/MSNhhJWvcD/bTfBN02d3P2zb5nxnaoA/CD5h5MAGhz8NmeH1TyaQP+zrCsc9p5Y/LbKd76fGnz/bLW5ISEmmPww9YvTcQq8/JV2OstnstT8Er5Y7M8G+P0c+r3jqkcU/5h99k6ZBzj88bCIzFzjVP4enV8oyxN0//yH99nXg5D8qOpLLf0jtP5kqGJXUifQ/c9cS8kHP/D+/DpwzojQEQIEmwoanVwxA4lgXt9HgE0BSSZ2AJuIbQAMJih9jjiNA5q4l5INuK0AwTKYKRj0zQNv5fmq8/DpAaCJseHrtQkB/+zpwzoxKQM3MzMzMeFJAZmZmZmZqWEAAAAAAAFxeQM3MzMzMJmJAmpmZmZkfZUBmZmZmZhhoQDMzMzMzEWtAAAAAAAAKbkBmZmZmZoFwQM3MzMzM/XFAMzMzMzN6c0CamZmZmfZ0QAAAAAAAc3ZAZmZmZmbvd0DNzMzMzGt5QDMzMzMz6HpAmpmZmZlkfEAAAAAAAOF9QGZmZmZmXX9AZmZmZuZsgECamZmZGSuBQM3MzMxM6YFAAAAAAICngkAzMzMzs2WDQGZmZmbmI4RAmpmZmRnihEDNzMzMTKCFQAAAAACAXoZAMzMzM7Mch0BmZmZm5tqHQJqZmZkZmYhAzczMzExXiUAAAAAAgBWKQDMzMzOz04pAZmZmZuaRi0CamZmZGVCMQM3MzMxMDo1AAAAAAIDMjUAzMzMzs4qOQGZmZmbmSI9A\",\"dtype\":\"float64\",\"shape\":[75]}},\"selected\":{\"id\":\"bf5635d3-22ac-4da9-8afd-8324e3b281e3\",\"type\":\"Selection\"},\"selection_policy\":{\"id\":\"2e0dc29e-14b4-4fd4-89f9-ba2e60b696ce\",\"type\":\"UnionRenderers\"}},\"id\":\"80a0a70b-eb9a-4e95-86ed-808a5cdb6c23\",\"type\":\"ColumnDataSource\"},{\"attributes\":{\"data_source\":{\"id\":\"6459423e-9e70-4d85-9759-9cdedab084f0\",\"type\":\"ColumnDataSource\"},\"glyph\":{\"id\":\"f5594c22-cb4a-4dbd-9968-bf68ba5d204a\",\"type\":\"Line\"},\"hover_glyph\":null,\"muted_glyph\":null,\"nonselection_glyph\":{\"id\":\"9acbe01a-99a0-47d2-b706-1d680692f3e4\",\"type\":\"Line\"},\"selection_glyph\":null,\"view\":{\"id\":\"ab81ba8a-8fcc-49f2-9fa5-acf1b8a806a9\",\"type\":\"CDSView\"}},\"id\":\"17196539-e05e-44e0-ba56-96d25521450a\",\"type\":\"GlyphRenderer\"},{\"attributes\":{\"data_source\":{\"id\":\"69709352-8628-41f4-8e73-ac2f034037c7\",\"type\":\"ColumnDataSource\"},\"glyph\":{\"id\":\"f64f05d7-292d-49d4-a4d1-e8d102e4f5b7\",\"type\":\"Line\"},\"hover_glyph\":null,\"muted_glyph\":null,\"nonselection_glyph\":{\"id\":\"b892ba99-c82a-4387-972b-32127c7f7c73\",\"type\":\"Line\"},\"selection_glyph\":null,\"view\":{\"id\":\"88c2bb15-39cb-4d2f-acf5-0e23f86e9e51\",\"type\":\"CDSView\"}},\"id\":\"573942b7-dd3f-47b9-8d22-0eb2510d5f43\",\"type\":\"GlyphRenderer\"},{\"attributes\":{},\"id\":\"dd6b667c-68b5-49f0-8b40-569e9e2ca335\",\"type\":\"Selection\"},{\"attributes\":{\"axis_label\":\"pressure [mb]\",\"formatter\":{\"id\":\"3d51ed24-5054-40d7-ab3e-58621c810466\",\"type\":\"BasicTickFormatter\"},\"plot\":{\"id\":\"1bbf327a-c2d6-48fb-b514-db78e7b38e0b\",\"subtype\":\"Figure\",\"type\":\"Plot\"},\"ticker\":{\"id\":\"94f9a560-575f-416c-b4f8-dbf17d209502\",\"type\":\"BasicTicker\"}},\"id\":\"55bba42a-f7d7-4150-b32d-926ddf274db7\",\"type\":\"LinearAxis\"},{\"attributes\":{\"callback\":null,\"data\":{\"x\":{\"__ndarray__\":\"T+GLyvYGo7/c+WPbBU+lv6NTUeuysam/TVrcXK3arb/fYqGTCeWwv0ZoazFbv7K/6dPk1KN7tL+kN2CAEhm2vzzLb/Fpl7e/MGv/bIH9uL9GQWdQuFC6v4ySjTGglru/rzLusufZvL8RMWnid969vwvOU8nREb2/ATz6dusOtb+E+1N7MOhWv536m6tBc8E/gqwg+GrP1T8xc8xnFu3jPwt/yFM93u8/F9VuMN7n9j99x2AtjUP7P1p2zVM5D/s/ohW3iCpf+D8MhZjjxlnzPxVsAWvee+s/zuPwxTdl4j9Rw6g8IozXP5gyVxFsn8U/XlRoMC+/sb8AQIJl26fSv6hRVjizKd6/KqCVI4AV4r8wNaKxf+ngv/bsCpRMota/tLFmqRudxr/SRlDhMYi8v4KU3W53hre/PcKOGurrs7+nB9GOnhGxvzxJD4ulxKy/C7n+z/QhqL9RRJAQTzmkv6nuMoBOAaG/jbmVZDDNnL9rVlTBw1SYv7mhuAo6RpS/Oh4WNXGwkL9UhNpPGg6Lv6UsruMIHoW/GBeq3E/afr/KrJKV2Olzv/29JzyiyWK/xhQj8kDNJz9LIuxCGwxlPwIzgzvs+HM/rHyqcKMdfT+qmZTwGfaCP+v7jhn9UYc/1r/HoIGkiz/aQn0G+KOPP3lrcC7phZE/Isa7IQPekj/lmR6Bj/2TP3/TJ0/1E5U/+3Qzjos6lj/wvOtNpXSXPzzL+gD4wJg/LPbvnNARmj/60tlrzlObPxpHsKJbd5w/wDe5AJqEnT/FVTsPpYOeP2BZUdqOdp8/\",\"dtype\":\"float64\",\"shape\":[75]},\"y\":{\"__ndarray__\":\"GhExyth1ND/Sv8nbtpRIP2vylNV0PVE/aTum7souWD/At0SJ8fVgPw3Iuahxymc/MSNhhJWvcD/bTfBN02d3P2zb5nxnaoA/CD5h5MAGhz8NmeH1TyaQP+zrCsc9p5Y/LbKd76fGnz/bLW5ISEmmPww9YvTcQq8/JV2OstnstT8Er5Y7M8G+P0c+r3jqkcU/5h99k6ZBzj88bCIzFzjVP4enV8oyxN0//yH99nXg5D8qOpLLf0jtP5kqGJXUifQ/c9cS8kHP/D+/DpwzojQEQIEmwoanVwxA4lgXt9HgE0BSSZ2AJuIbQAMJih9jjiNA5q4l5INuK0AwTKYKRj0zQNv5fmq8/DpAaCJseHrtQkB/+zpwzoxKQM3MzMzMeFJAZmZmZmZqWEAAAAAAAFxeQM3MzMzMJmJAmpmZmZkfZUBmZmZmZhhoQDMzMzMzEWtAAAAAAAAKbkBmZmZmZoFwQM3MzMzM/XFAMzMzMzN6c0CamZmZmfZ0QAAAAAAAc3ZAZmZmZmbvd0DNzMzMzGt5QDMzMzMz6HpAmpmZmZlkfEAAAAAAAOF9QGZmZmZmXX9AZmZmZuZsgECamZmZGSuBQM3MzMxM6YFAAAAAAICngkAzMzMzs2WDQGZmZmbmI4RAmpmZmRnihEDNzMzMTKCFQAAAAACAXoZAMzMzM7Mch0BmZmZm5tqHQJqZmZkZmYhAzczMzExXiUAAAAAAgBWKQDMzMzOz04pAZmZmZuaRi0CamZmZGVCMQM3MzMxMDo1AAAAAAIDMjUAzMzMzs4qOQGZmZmbmSI9A\",\"dtype\":\"float64\",\"shape\":[75]}},\"selected\":{\"id\":\"54191625-250a-4cac-8ea8-b619ea75547e\",\"type\":\"Selection\"},\"selection_policy\":{\"id\":\"fc14cee4-e8b2-44f2-9c31-4c9ed476bb41\",\"type\":\"UnionRenderers\"}},\"id\":\"1a86f1c2-b0b4-46e5-9eef-7234a654eccd\",\"type\":\"ColumnDataSource\"},{\"attributes\":{\"overlay\":{\"id\":\"0603a036-c49f-4432-9293-0ff568b90b51\",\"type\":\"BoxAnnotation\"}},\"id\":\"4cae1bbe-6c47-48dc-80dc-c5d04731d441\",\"type\":\"BoxZoomTool\"},{\"attributes\":{\"source\":{\"id\":\"1a86f1c2-b0b4-46e5-9eef-7234a654eccd\",\"type\":\"ColumnDataSource\"}},\"id\":\"f20616a3-a10b-49fd-9fb6-43226704f715\",\"type\":\"CDSView\"},{\"attributes\":{},\"id\":\"f57f7719-a751-48ef-ac72-bc3b4aae9e7f\",\"type\":\"PanTool\"},{\"attributes\":{\"source\":{\"id\":\"69709352-8628-41f4-8e73-ac2f034037c7\",\"type\":\"ColumnDataSource\"}},\"id\":\"88c2bb15-39cb-4d2f-acf5-0e23f86e9e51\",\"type\":\"CDSView\"},{\"attributes\":{\"label\":{\"value\":\"CLIRAD\"},\"renderers\":[{\"id\":\"20630b92-9b4c-4a6d-a92d-213441c3d0d0\",\"type\":\"GlyphRenderer\"}]},\"id\":\"c720c2b1-1b5d-43f6-ad01-9ae45d8266dd\",\"type\":\"LegendItem\"},{\"attributes\":{\"label\":{\"value\":\"CRD\"},\"renderers\":[{\"id\":\"9ca31c86-58c8-483e-8028-261f024eedf5\",\"type\":\"GlyphRenderer\"},{\"id\":\"bf393a74-a353-4168-87ba-20d938f2b889\",\"type\":\"GlyphRenderer\"}]},\"id\":\"0f21299d-d83d-48b1-947a-d46c99e11b36\",\"type\":\"LegendItem\"},{\"attributes\":{\"plot\":{\"id\":\"1bbf327a-c2d6-48fb-b514-db78e7b38e0b\",\"subtype\":\"Figure\",\"type\":\"Plot\"},\"ticker\":{\"id\":\"29b25468-6738-42ac-ba72-0943af7fae15\",\"type\":\"BasicTicker\"}},\"id\":\"1cc118a2-1f58-4aa3-8359-23b84fcb4a09\",\"type\":\"Grid\"},{\"attributes\":{\"above\":[{\"id\":\"8e466220-0484-4336-9f78-b4249e4d32a7\",\"type\":\"Legend\"}],\"below\":[{\"id\":\"e7f0e9e9-1260-4d46-9693-43da5fc36425\",\"type\":\"LinearAxis\"}],\"left\":[{\"id\":\"e729c6d7-8c98-4b7e-baff-139f4dd1a6a9\",\"type\":\"LogAxis\"}],\"plot_width\":300,\"renderers\":[{\"id\":\"e7f0e9e9-1260-4d46-9693-43da5fc36425\",\"type\":\"LinearAxis\"},{\"id\":\"e491cc7c-fd0f-4455-9f2c-f624800858d0\",\"type\":\"Grid\"},{\"id\":\"e729c6d7-8c98-4b7e-baff-139f4dd1a6a9\",\"type\":\"LogAxis\"},{\"id\":\"b0ee0a03-c113-4db8-ae1d-96b823f0d567\",\"type\":\"Grid\"},{\"id\":\"282ddd8f-812a-46bb-85ea-24037f088499\",\"type\":\"BoxAnnotation\"},{\"id\":\"20630b92-9b4c-4a6d-a92d-213441c3d0d0\",\"type\":\"GlyphRenderer\"},{\"id\":\"9ca31c86-58c8-483e-8028-261f024eedf5\",\"type\":\"GlyphRenderer\"},{\"id\":\"bf393a74-a353-4168-87ba-20d938f2b889\",\"type\":\"GlyphRenderer\"},{\"id\":\"8e466220-0484-4336-9f78-b4249e4d32a7\",\"type\":\"Legend\"}],\"title\":{\"id\":\"d9e71435-ae56-4952-b650-6b2af84d5395\",\"type\":\"Title\"},\"toolbar\":{\"id\":\"baaaca80-1b9d-497a-802a-68dc8c70f2e1\",\"type\":\"Toolbar\"},\"toolbar_location\":null,\"x_range\":{\"id\":\"27a5c633-e2bc-4936-90dc-d4f889f6b6fa\",\"type\":\"Range1d\"},\"x_scale\":{\"id\":\"5c5cc328-cba3-42c5-9b73-a3b405ee5a0a\",\"type\":\"LinearScale\"},\"y_range\":{\"id\":\"0b1ecbb8-6f8b-42bf-94f3-a976e7594eb2\",\"type\":\"Range1d\"},\"y_scale\":{\"id\":\"d0c25419-41a0-41a0-8fac-0b8fb0b0a401\",\"type\":\"LogScale\"}},\"id\":\"2a10ae67-a767-46ec-b1c7-2648e79aeb49\",\"subtype\":\"Figure\",\"type\":\"Plot\"},{\"attributes\":{},\"id\":\"0b576573-e5fe-4ec4-8835-6ae1977f4260\",\"type\":\"LinearScale\"},{\"attributes\":{\"source\":{\"id\":\"80a0a70b-eb9a-4e95-86ed-808a5cdb6c23\",\"type\":\"ColumnDataSource\"}},\"id\":\"e73244a2-19ab-4c96-9a5c-07f987bffbce\",\"type\":\"CDSView\"},{\"attributes\":{\"source\":{\"id\":\"6459423e-9e70-4d85-9759-9cdedab084f0\",\"type\":\"ColumnDataSource\"}},\"id\":\"ab81ba8a-8fcc-49f2-9fa5-acf1b8a806a9\",\"type\":\"CDSView\"},{\"attributes\":{\"line_alpha\":0.1,\"line_color\":\"#1f77b4\",\"line_width\":1.5,\"x\":{\"field\":\"x\"},\"y\":{\"field\":\"y\"}},\"id\":\"b892ba99-c82a-4387-972b-32127c7f7c73\",\"type\":\"Line\"},{\"attributes\":{\"fill_alpha\":{\"value\":0.7},\"fill_color\":{\"value\":\"#984ea3\"},\"line_alpha\":{\"value\":0.7},\"line_color\":{\"value\":\"#984ea3\"},\"x\":{\"field\":\"x\"},\"y\":{\"field\":\"y\"}},\"id\":\"2763cfcd-5ff4-47aa-b9fc-862c6e36c1b1\",\"type\":\"Circle\"},{\"attributes\":{\"callback\":null,\"end\":0.01,\"start\":1020},\"id\":\"88ac3146-1ef4-4460-bec2-cc605f83a2c3\",\"type\":\"Range1d\"},{\"attributes\":{\"callback\":null,\"data\":{\"x\":{\"__ndarray__\":\"T+GLyvYGo7/c+WPbBU+lv6NTUeuysam/TVrcXK3arb/fYqGTCeWwv0ZoazFbv7K/6dPk1KN7tL+kN2CAEhm2vzzLb/Fpl7e/MGv/bIH9uL9GQWdQuFC6v4ySjTGglru/rzLusufZvL8RMWnid969vwvOU8nREb2/ATz6dusOtb+E+1N7MOhWv536m6tBc8E/gqwg+GrP1T8xc8xnFu3jPwt/yFM93u8/F9VuMN7n9j99x2AtjUP7P1p2zVM5D/s/ohW3iCpf+D8MhZjjxlnzPxVsAWvee+s/zuPwxTdl4j9Rw6g8IozXP5gyVxFsn8U/XlRoMC+/sb8AQIJl26fSv6hRVjizKd6/KqCVI4AV4r8wNaKxf+ngv/bsCpRMota/tLFmqRudxr/SRlDhMYi8v4KU3W53hre/PcKOGurrs7+nB9GOnhGxvzxJD4ulxKy/C7n+z/QhqL9RRJAQTzmkv6nuMoBOAaG/jbmVZDDNnL9rVlTBw1SYv7mhuAo6RpS/Oh4WNXGwkL9UhNpPGg6Lv6UsruMIHoW/GBeq3E/afr/KrJKV2Olzv/29JzyiyWK/xhQj8kDNJz9LIuxCGwxlPwIzgzvs+HM/rHyqcKMdfT+qmZTwGfaCP+v7jhn9UYc/1r/HoIGkiz/aQn0G+KOPP3lrcC7phZE/Isa7IQPekj/lmR6Bj/2TP3/TJ0/1E5U/+3Qzjos6lj/wvOtNpXSXPzzL+gD4wJg/LPbvnNARmj/60tlrzlObPxpHsKJbd5w/wDe5AJqEnT/FVTsPpYOeP2BZUdqOdp8/\",\"dtype\":\"float64\",\"shape\":[75]},\"y\":{\"__ndarray__\":\"GhExyth1ND/Sv8nbtpRIP2vylNV0PVE/aTum7souWD/At0SJ8fVgPw3Iuahxymc/MSNhhJWvcD/bTfBN02d3P2zb5nxnaoA/CD5h5MAGhz8NmeH1TyaQP+zrCsc9p5Y/LbKd76fGnz/bLW5ISEmmPww9YvTcQq8/JV2OstnstT8Er5Y7M8G+P0c+r3jqkcU/5h99k6ZBzj88bCIzFzjVP4enV8oyxN0//yH99nXg5D8qOpLLf0jtP5kqGJXUifQ/c9cS8kHP/D+/DpwzojQEQIEmwoanVwxA4lgXt9HgE0BSSZ2AJuIbQAMJih9jjiNA5q4l5INuK0AwTKYKRj0zQNv5fmq8/DpAaCJseHrtQkB/+zpwzoxKQM3MzMzMeFJAZmZmZmZqWEAAAAAAAFxeQM3MzMzMJmJAmpmZmZkfZUBmZmZmZhhoQDMzMzMzEWtAAAAAAAAKbkBmZmZmZoFwQM3MzMzM/XFAMzMzMzN6c0CamZmZmfZ0QAAAAAAAc3ZAZmZmZmbvd0DNzMzMzGt5QDMzMzMz6HpAmpmZmZlkfEAAAAAAAOF9QGZmZmZmXX9AZmZmZuZsgECamZmZGSuBQM3MzMxM6YFAAAAAAICngkAzMzMzs2WDQGZmZmbmI4RAmpmZmRnihEDNzMzMTKCFQAAAAACAXoZAMzMzM7Mch0BmZmZm5tqHQJqZmZkZmYhAzczMzExXiUAAAAAAgBWKQDMzMzOz04pAZmZmZuaRi0CamZmZGVCMQM3MzMxMDo1AAAAAAIDMjUAzMzMzs4qOQGZmZmbmSI9A\",\"dtype\":\"float64\",\"shape\":[75]}},\"selected\":{\"id\":\"2c9e9507-2965-4970-96bf-a60c64b5229d\",\"type\":\"Selection\"},\"selection_policy\":{\"id\":\"b5ce4e2b-0942-4baf-8db3-729870361dda\",\"type\":\"UnionRenderers\"}},\"id\":\"69709352-8628-41f4-8e73-ac2f034037c7\",\"type\":\"ColumnDataSource\"},{\"attributes\":{\"line_alpha\":0.1,\"line_color\":\"#1f77b4\",\"line_dash\":[6],\"line_width\":5,\"x\":{\"field\":\"x\"},\"y\":{\"field\":\"y\"}},\"id\":\"9acbe01a-99a0-47d2-b706-1d680692f3e4\",\"type\":\"Line\"},{\"attributes\":{\"dimension\":1,\"plot\":{\"id\":\"1bbf327a-c2d6-48fb-b514-db78e7b38e0b\",\"subtype\":\"Figure\",\"type\":\"Plot\"},\"ticker\":{\"id\":\"94f9a560-575f-416c-b4f8-dbf17d209502\",\"type\":\"BasicTicker\"}},\"id\":\"dd9c2c62-6963-4425-98ba-f4cf48bcf095\",\"type\":\"Grid\"},{\"attributes\":{\"line_alpha\":0.6,\"line_color\":\"#e41a1c\",\"line_dash\":[6],\"line_width\":5,\"x\":{\"field\":\"x\"},\"y\":{\"field\":\"y\"}},\"id\":\"d217ac9b-0cb3-4d10-88ee-158bd692ff40\",\"type\":\"Line\"},{\"attributes\":{\"callback\":null,\"end\":0.01,\"start\":1020},\"id\":\"0b1ecbb8-6f8b-42bf-94f3-a976e7594eb2\",\"type\":\"Range1d\"},{\"attributes\":{\"fill_alpha\":{\"value\":0.1},\"fill_color\":{\"value\":\"#1f77b4\"},\"line_alpha\":{\"value\":0.1},\"line_color\":{\"value\":\"#1f77b4\"},\"x\":{\"field\":\"x\"},\"y\":{\"field\":\"y\"}},\"id\":\"ccb9505c-3794-4705-b84c-a686331a9ee8\",\"type\":\"Circle\"},{\"attributes\":{\"items\":[{\"id\":\"122806a4-f15c-4ed7-8725-195bf02b1aaa\",\"type\":\"LegendItem\"},{\"id\":\"a3b29ebb-16ab-45fe-b67c-07c80c9bdb85\",\"type\":\"LegendItem\"}],\"label_text_font_size\":{\"value\":\"8pt\"},\"location\":\"top_center\",\"orientation\":\"horizontal\",\"plot\":{\"id\":\"1bbf327a-c2d6-48fb-b514-db78e7b38e0b\",\"subtype\":\"Figure\",\"type\":\"Plot\"}},\"id\":\"2d4375b5-8a21-4db2-a3fd-23692eba115b\",\"type\":\"Legend\"},{\"attributes\":{\"fill_alpha\":{\"value\":0.7},\"fill_color\":{\"value\":\"#4daf4a\"},\"line_alpha\":{\"value\":0.7},\"line_color\":{\"value\":\"#4daf4a\"},\"x\":{\"field\":\"x\"},\"y\":{\"field\":\"y\"}},\"id\":\"6d7c146b-21c2-49a2-a03c-9b51fa59f6b0\",\"type\":\"Circle\"},{\"attributes\":{\"label\":{\"value\":\"CLIRAD\"},\"renderers\":[{\"id\":\"17196539-e05e-44e0-ba56-96d25521450a\",\"type\":\"GlyphRenderer\"}]},\"id\":\"122806a4-f15c-4ed7-8725-195bf02b1aaa\",\"type\":\"LegendItem\"},{\"attributes\":{\"active_drag\":\"auto\",\"active_inspect\":\"auto\",\"active_scroll\":\"auto\",\"active_tap\":\"auto\",\"tools\":[{\"id\":\"99f663c4-0885-447c-9c8c-e2a13d099351\",\"type\":\"PanTool\"},{\"id\":\"8bfd1dee-bcdd-4e5d-980e-fd6ad250003d\",\"type\":\"WheelZoomTool\"},{\"id\":\"be5fb179-3d70-4e6d-9620-0246eb158917\",\"type\":\"BoxZoomTool\"},{\"id\":\"b69768b8-5b99-40e5-8123-a5466b5ae423\",\"type\":\"SaveTool\"},{\"id\":\"64a6a61f-8e01-46e6-93da-5320b653ef33\",\"type\":\"ResetTool\"},{\"id\":\"9c565a7e-af2b-4f6d-8f58-fa88efa38c74\",\"type\":\"HelpTool\"}]},\"id\":\"baaaca80-1b9d-497a-802a-68dc8c70f2e1\",\"type\":\"Toolbar\"},{\"attributes\":{},\"id\":\"29b25468-6738-42ac-ba72-0943af7fae15\",\"type\":\"BasicTicker\"},{\"attributes\":{\"data_source\":{\"id\":\"80a0a70b-eb9a-4e95-86ed-808a5cdb6c23\",\"type\":\"ColumnDataSource\"},\"glyph\":{\"id\":\"6d7c146b-21c2-49a2-a03c-9b51fa59f6b0\",\"type\":\"Circle\"},\"hover_glyph\":null,\"muted_glyph\":null,\"nonselection_glyph\":{\"id\":\"ccb9505c-3794-4705-b84c-a686331a9ee8\",\"type\":\"Circle\"},\"selection_glyph\":null,\"view\":{\"id\":\"e73244a2-19ab-4c96-9a5c-07f987bffbce\",\"type\":\"CDSView\"}},\"id\":\"bb2483c0-3b65-4087-860f-c58cfe44aabf\",\"type\":\"GlyphRenderer\"},{\"attributes\":{\"callback\":null,\"end\":0.022834164423399996,\"start\":-0.14438326708339985},\"id\":\"8a26307b-ded7-4495-92e0-0e67bbdf254e\",\"type\":\"Range1d\"},{\"attributes\":{\"line_alpha\":0.1,\"line_color\":\"#1f77b4\",\"line_dash\":[6],\"line_width\":5,\"x\":{\"field\":\"x\"},\"y\":{\"field\":\"y\"}},\"id\":\"bbdb02c1-ad90-438d-9c65-a4a6c9984fc5\",\"type\":\"Line\"},{\"attributes\":{\"data_source\":{\"id\":\"47dbe383-1f3b-426a-b629-a281a4f6a515\",\"type\":\"ColumnDataSource\"},\"glyph\":{\"id\":\"cacc10ba-ad21-48df-a064-6eac2509a718\",\"type\":\"Circle\"},\"hover_glyph\":null,\"muted_glyph\":null,\"nonselection_glyph\":{\"id\":\"095f7713-4fab-4268-b6bf-9c7d8c71a649\",\"type\":\"Circle\"},\"selection_glyph\":null,\"view\":{\"id\":\"f6ce3ff3-200d-445f-8f9c-9f08d8100d2f\",\"type\":\"CDSView\"}},\"id\":\"9ca31c86-58c8-483e-8028-261f024eedf5\",\"type\":\"GlyphRenderer\"},{\"attributes\":{\"callback\":null,\"end\":1.7272173485900002,\"start\":-0.64176218959},\"id\":\"27a5c633-e2bc-4936-90dc-d4f889f6b6fa\",\"type\":\"Range1d\"},{\"attributes\":{\"fill_alpha\":{\"value\":0.1},\"fill_color\":{\"value\":\"#1f77b4\"},\"line_alpha\":{\"value\":0.1},\"line_color\":{\"value\":\"#1f77b4\"},\"x\":{\"field\":\"x\"},\"y\":{\"field\":\"y\"}},\"id\":\"34f1b17e-6a80-4e42-954f-ee256c91d708\",\"type\":\"Circle\"},{\"attributes\":{\"data_source\":{\"id\":\"dfe78784-31ea-4139-a7d1-95644be03388\",\"type\":\"ColumnDataSource\"},\"glyph\":{\"id\":\"d217ac9b-0cb3-4d10-88ee-158bd692ff40\",\"type\":\"Line\"},\"hover_glyph\":null,\"muted_glyph\":null,\"nonselection_glyph\":{\"id\":\"bbdb02c1-ad90-438d-9c65-a4a6c9984fc5\",\"type\":\"Line\"},\"selection_glyph\":null,\"view\":{\"id\":\"d772fa2c-9d82-478d-a4b8-091f0caaf52d\",\"type\":\"CDSView\"}},\"id\":\"20630b92-9b4c-4a6d-a92d-213441c3d0d0\",\"type\":\"GlyphRenderer\"},{\"attributes\":{\"plot\":null,\"text\":\"\"},\"id\":\"d9e71435-ae56-4952-b650-6b2af84d5395\",\"type\":\"Title\"},{\"attributes\":{\"active_drag\":\"auto\",\"active_inspect\":\"auto\",\"active_scroll\":\"auto\",\"active_tap\":\"auto\",\"tools\":[{\"id\":\"31c53e7a-67fa-4a5c-ba1e-d7b5c327bf9e\",\"type\":\"PanTool\"},{\"id\":\"eb305b20-18f8-4c00-b8b8-ddcfecd989cb\",\"type\":\"WheelZoomTool\"},{\"id\":\"3ba33c6d-0897-407c-81d1-433014c453b8\",\"type\":\"BoxZoomTool\"},{\"id\":\"66e81d41-4825-43eb-97a6-524bcceb9b14\",\"type\":\"SaveTool\"},{\"id\":\"d020c423-ee29-4ace-85a6-52ec5e2715ac\",\"type\":\"ResetTool\"},{\"id\":\"e683d7bb-4b68-4126-a378-a755e6196be1\",\"type\":\"HelpTool\"}]},\"id\":\"0efab12c-d4b6-48d1-b8a4-8764d321b5bc\",\"type\":\"Toolbar\"},{\"attributes\":{},\"id\":\"12b95e26-f9bd-4f0d-9040-949f348e8876\",\"type\":\"BasicTickFormatter\"},{\"attributes\":{\"callback\":null,\"data\":{\"x\":{\"__ndarray__\":\"LhhzD71Qnr9+1pIUrP+gv/Ngg2z2k6S/VR1lCdoAqL9wHqcYgkSrv/bwI4Y2Y66/JpcsEgaqsL/AnxK+lA2yv8fiNM0GXLO/1g3UXICTtL//MLuHgbe1v3Irnildwra/i/2VMPu+t7+K+72EcnG4v2lW/eQE+re/ymhjc3VKsr+cbJpuBjWCvwtyQOC7rLo/9eOjg/3w0T8Qex1ISRXhP93X3Cy5Jew/NZvHYTCf9D+9YezOJFv5Px7zpsdbM/o/xRW8jXL19z82M58Y/rjyPxsHA3QENeo/bovw/pGs4T8GamsjIqXXP+elpH8wDcg/Dky/W1jrqr+iP9k5conSv1+UZhRHdd+/q9Cb5Q3L47/Q8fLwdSTjv8OmxjKa6Ni/ZFlyDRqXx78yGjvZtO+8v76qzPcAm7e/BGOqhBrKs794Yh1hLcuwvxx7TF1fD6y/EeFQ2V9fp7//SqeoDHmjvxuYFNMQS6C/oG5PeTx5m781xnI+gR+Xv6sQYYzgMJO/8lD6kw95j7+S47ETHGaJv8ccCGgitYO/JDY5K4uKfL/OIqGXFBJyv2/UJ01MHWC/yagkEXq+OT8JdeOufcBlP4UzQdJ81XM/0txkPqJ1fD/hXSRwyF+CP1Nu3fjTeYY/5viy/uCNij+zuW9X3VqOP32m/kTc0ZA/Ei2LH+knkj9RmEZ/p0qTP8os9CGlYpQ/3yesLIiDlT98h853X7GWP3x8Y4TH6Zc/Rn2SO2wimT+UkY/qL0yaPxGBxxAwVZs/PpRHu/pGnD8yQ7VRNSudPxFZl191AJ4/\",\"dtype\":\"float64\",\"shape\":[75]},\"y\":{\"__ndarray__\":\"GhExyth1ND/Sv8nbtpRIP2vylNV0PVE/aTum7souWD/At0SJ8fVgPw3Iuahxymc/MSNhhJWvcD/bTfBN02d3P2zb5nxnaoA/CD5h5MAGhz8NmeH1TyaQP+zrCsc9p5Y/LbKd76fGnz/bLW5ISEmmPww9YvTcQq8/JV2OstnstT8Er5Y7M8G+P0c+r3jqkcU/5h99k6ZBzj88bCIzFzjVP4enV8oyxN0//yH99nXg5D8qOpLLf0jtP5kqGJXUifQ/c9cS8kHP/D+/DpwzojQEQIEmwoanVwxA4lgXt9HgE0BSSZ2AJuIbQAMJih9jjiNA5q4l5INuK0AwTKYKRj0zQNv5fmq8/DpAaCJseHrtQkB/+zpwzoxKQM3MzMzMeFJAZmZmZmZqWEAAAAAAAFxeQM3MzMzMJmJAmpmZmZkfZUBmZmZmZhhoQDMzMzMzEWtAAAAAAAAKbkBmZmZmZoFwQM3MzMzM/XFAMzMzMzN6c0CamZmZmfZ0QAAAAAAAc3ZAZmZmZmbvd0DNzMzMzGt5QDMzMzMz6HpAmpmZmZlkfEAAAAAAAOF9QGZmZmZmXX9AZmZmZuZsgECamZmZGSuBQM3MzMxM6YFAAAAAAICngkAzMzMzs2WDQGZmZmbmI4RAmpmZmRnihEDNzMzMTKCFQAAAAACAXoZAMzMzM7Mch0BmZmZm5tqHQJqZmZkZmYhAzczMzExXiUAAAAAAgBWKQDMzMzOz04pAZmZmZuaRi0CamZmZGVCMQM3MzMxMDo1AAAAAAIDMjUAzMzMzs4qOQGZmZmbmSI9A\",\"dtype\":\"float64\",\"shape\":[75]}},\"selected\":{\"id\":\"dd6b667c-68b5-49f0-8b40-569e9e2ca335\",\"type\":\"Selection\"},\"selection_policy\":{\"id\":\"5d8ae8e3-0b9c-4b6d-9a13-7a825f9d936f\",\"type\":\"UnionRenderers\"}},\"id\":\"dfe78784-31ea-4139-a7d1-95644be03388\",\"type\":\"ColumnDataSource\"},{\"attributes\":{\"items\":[{\"id\":\"b5b2ab3c-3b35-4f82-ac0b-c2e45ed142e5\",\"type\":\"LegendItem\"}],\"label_text_font_size\":{\"value\":\"8pt\"},\"location\":\"top_center\",\"orientation\":\"horizontal\",\"plot\":{\"id\":\"5b08069c-a9a2-43f0-970a-34eff479f1c9\",\"subtype\":\"Figure\",\"type\":\"Plot\"}},\"id\":\"4f3fcfcb-4873-45a4-bf98-0056f827ac81\",\"type\":\"Legend\"},{\"attributes\":{\"callback\":null,\"data\":{\"x\":{\"__ndarray__\":\"T+GLyvYGo7/c+WPbBU+lv6NTUeuysam/TVrcXK3arb/fYqGTCeWwv0ZoazFbv7K/6dPk1KN7tL+kN2CAEhm2vzzLb/Fpl7e/MGv/bIH9uL9GQWdQuFC6v4ySjTGglru/rzLusufZvL8RMWnid969vwvOU8nREb2/ATz6dusOtb+E+1N7MOhWv536m6tBc8E/gqwg+GrP1T8xc8xnFu3jPwt/yFM93u8/F9VuMN7n9j99x2AtjUP7P1p2zVM5D/s/ohW3iCpf+D8MhZjjxlnzPxVsAWvee+s/zuPwxTdl4j9Rw6g8IozXP5gyVxFsn8U/XlRoMC+/sb8AQIJl26fSv6hRVjizKd6/KqCVI4AV4r8wNaKxf+ngv/bsCpRMota/tLFmqRudxr/SRlDhMYi8v4KU3W53hre/PcKOGurrs7+nB9GOnhGxvzxJD4ulxKy/C7n+z/QhqL9RRJAQTzmkv6nuMoBOAaG/jbmVZDDNnL9rVlTBw1SYv7mhuAo6RpS/Oh4WNXGwkL9UhNpPGg6Lv6UsruMIHoW/GBeq3E/afr/KrJKV2Olzv/29JzyiyWK/xhQj8kDNJz9LIuxCGwxlPwIzgzvs+HM/rHyqcKMdfT+qmZTwGfaCP+v7jhn9UYc/1r/HoIGkiz/aQn0G+KOPP3lrcC7phZE/Isa7IQPekj/lmR6Bj/2TP3/TJ0/1E5U/+3Qzjos6lj/wvOtNpXSXPzzL+gD4wJg/LPbvnNARmj/60tlrzlObPxpHsKJbd5w/wDe5AJqEnT/FVTsPpYOeP2BZUdqOdp8/\",\"dtype\":\"float64\",\"shape\":[75]},\"y\":{\"__ndarray__\":\"GhExyth1ND/Sv8nbtpRIP2vylNV0PVE/aTum7souWD/At0SJ8fVgPw3Iuahxymc/MSNhhJWvcD/bTfBN02d3P2zb5nxnaoA/CD5h5MAGhz8NmeH1TyaQP+zrCsc9p5Y/LbKd76fGnz/bLW5ISEmmPww9YvTcQq8/JV2OstnstT8Er5Y7M8G+P0c+r3jqkcU/5h99k6ZBzj88bCIzFzjVP4enV8oyxN0//yH99nXg5D8qOpLLf0jtP5kqGJXUifQ/c9cS8kHP/D+/DpwzojQEQIEmwoanVwxA4lgXt9HgE0BSSZ2AJuIbQAMJih9jjiNA5q4l5INuK0AwTKYKRj0zQNv5fmq8/DpAaCJseHrtQkB/+zpwzoxKQM3MzMzMeFJAZmZmZmZqWEAAAAAAAFxeQM3MzMzMJmJAmpmZmZkfZUBmZmZmZhhoQDMzMzMzEWtAAAAAAAAKbkBmZmZmZoFwQM3MzMzM/XFAMzMzMzN6c0CamZmZmfZ0QAAAAAAAc3ZAZmZmZmbvd0DNzMzMzGt5QDMzMzMz6HpAmpmZmZlkfEAAAAAAAOF9QGZmZmZmXX9AZmZmZuZsgECamZmZGSuBQM3MzMxM6YFAAAAAAICngkAzMzMzs2WDQGZmZmbmI4RAmpmZmRnihEDNzMzMTKCFQAAAAACAXoZAMzMzM7Mch0BmZmZm5tqHQJqZmZkZmYhAzczMzExXiUAAAAAAgBWKQDMzMzOz04pAZmZmZuaRi0CamZmZGVCMQM3MzMxMDo1AAAAAAIDMjUAzMzMzs4qOQGZmZmbmSI9A\",\"dtype\":\"float64\",\"shape\":[75]}},\"selected\":{\"id\":\"12324592-68cd-4ffc-9530-6df1c995cf7b\",\"type\":\"Selection\"},\"selection_policy\":{\"id\":\"cc3e5205-d614-424e-b979-88c3969ed2ee\",\"type\":\"UnionRenderers\"}},\"id\":\"47dbe383-1f3b-426a-b629-a281a4f6a515\",\"type\":\"ColumnDataSource\"},{\"attributes\":{},\"id\":\"02cadbac-a7ff-4039-8ed9-ed48d46601f5\",\"type\":\"LogScale\"},{\"attributes\":{},\"id\":\"5c5cc328-cba3-42c5-9b73-a3b405ee5a0a\",\"type\":\"LinearScale\"},{\"attributes\":{\"ticker\":null},\"id\":\"b63b7599-00ff-4b69-bc70-540e23100d37\",\"type\":\"LogTickFormatter\"},{\"attributes\":{\"items\":[{\"id\":\"c720c2b1-1b5d-43f6-ad01-9ae45d8266dd\",\"type\":\"LegendItem\"},{\"id\":\"0f21299d-d83d-48b1-947a-d46c99e11b36\",\"type\":\"LegendItem\"}],\"label_text_font_size\":{\"value\":\"8pt\"},\"location\":\"top_center\",\"orientation\":\"horizontal\",\"plot\":{\"id\":\"2a10ae67-a767-46ec-b1c7-2648e79aeb49\",\"subtype\":\"Figure\",\"type\":\"Plot\"}},\"id\":\"8e466220-0484-4336-9f78-b4249e4d32a7\",\"type\":\"Legend\"},{\"attributes\":{\"dimension\":1,\"plot\":{\"id\":\"5b08069c-a9a2-43f0-970a-34eff479f1c9\",\"subtype\":\"Figure\",\"type\":\"Plot\"},\"ticker\":{\"id\":\"95c3bd11-070b-47fb-8ea3-96b8d5ad9a2b\",\"type\":\"LogTicker\"}},\"id\":\"d2144994-361d-4223-9877-84c045dabd7e\",\"type\":\"Grid\"},{\"attributes\":{\"plot\":{\"id\":\"2a10ae67-a767-46ec-b1c7-2648e79aeb49\",\"subtype\":\"Figure\",\"type\":\"Plot\"},\"ticker\":{\"id\":\"bde2b57c-d634-47c1-a628-3e22b0c87675\",\"type\":\"BasicTicker\"}},\"id\":\"e491cc7c-fd0f-4455-9f2c-f624800858d0\",\"type\":\"Grid\"},{\"attributes\":{\"num_minor_ticks\":10},\"id\":\"95c3bd11-070b-47fb-8ea3-96b8d5ad9a2b\",\"type\":\"LogTicker\"},{\"attributes\":{\"axis_label\":\"pressure [mb]\",\"formatter\":{\"id\":\"3834b4b7-7ebe-4f6c-aaae-56b87d0b8518\",\"type\":\"LogTickFormatter\"},\"plot\":{\"id\":\"5b08069c-a9a2-43f0-970a-34eff479f1c9\",\"subtype\":\"Figure\",\"type\":\"Plot\"},\"ticker\":{\"id\":\"95c3bd11-070b-47fb-8ea3-96b8d5ad9a2b\",\"type\":\"LogTicker\"}},\"id\":\"a50a8a8e-f88f-4555-9b4c-77b966bd6923\",\"type\":\"LogAxis\"},{\"attributes\":{},\"id\":\"d0c25419-41a0-41a0-8fac-0b8fb0b0a401\",\"type\":\"LogScale\"},{\"attributes\":{},\"id\":\"cd913c6e-0bee-4312-b0eb-7969066cf5ff\",\"type\":\"BasicTicker\"},{\"attributes\":{\"axis_label\":\"cooling rate [K/day]\",\"formatter\":{\"id\":\"12b95e26-f9bd-4f0d-9040-949f348e8876\",\"type\":\"BasicTickFormatter\"},\"plot\":{\"id\":\"2a10ae67-a767-46ec-b1c7-2648e79aeb49\",\"subtype\":\"Figure\",\"type\":\"Plot\"},\"ticker\":{\"id\":\"bde2b57c-d634-47c1-a628-3e22b0c87675\",\"type\":\"BasicTicker\"}},\"id\":\"e7f0e9e9-1260-4d46-9693-43da5fc36425\",\"type\":\"LinearAxis\"},{\"attributes\":{\"axis_label\":\"cooling rate [K/day]\",\"formatter\":{\"id\":\"4b1c0dd2-185b-4ded-8016-0386365baf23\",\"type\":\"BasicTickFormatter\"},\"plot\":{\"id\":\"5b08069c-a9a2-43f0-970a-34eff479f1c9\",\"subtype\":\"Figure\",\"type\":\"Plot\"},\"ticker\":{\"id\":\"cd913c6e-0bee-4312-b0eb-7969066cf5ff\",\"type\":\"BasicTicker\"}},\"id\":\"2b12233e-6de3-4fc6-86c5-272f2a6557ba\",\"type\":\"LinearAxis\"},{\"attributes\":{\"plot\":{\"id\":\"5b08069c-a9a2-43f0-970a-34eff479f1c9\",\"subtype\":\"Figure\",\"type\":\"Plot\"},\"ticker\":{\"id\":\"cd913c6e-0bee-4312-b0eb-7969066cf5ff\",\"type\":\"BasicTicker\"}},\"id\":\"1b027121-ef3d-43b6-839b-dfb83b8a307a\",\"type\":\"Grid\"},{\"attributes\":{},\"id\":\"bde2b57c-d634-47c1-a628-3e22b0c87675\",\"type\":\"BasicTicker\"},{\"attributes\":{},\"id\":\"eb305b20-18f8-4c00-b8b8-ddcfecd989cb\",\"type\":\"WheelZoomTool\"},{\"attributes\":{\"axis_label\":\"pressure [mb]\",\"formatter\":{\"id\":\"b63b7599-00ff-4b69-bc70-540e23100d37\",\"type\":\"LogTickFormatter\"},\"plot\":{\"id\":\"2a10ae67-a767-46ec-b1c7-2648e79aeb49\",\"subtype\":\"Figure\",\"type\":\"Plot\"},\"ticker\":{\"id\":\"8a8e81f5-185b-4060-85fd-5ca65408da4d\",\"type\":\"LogTicker\"}},\"id\":\"e729c6d7-8c98-4b7e-baff-139f4dd1a6a9\",\"type\":\"LogAxis\"},{\"attributes\":{\"num_minor_ticks\":10},\"id\":\"8a8e81f5-185b-4060-85fd-5ca65408da4d\",\"type\":\"LogTicker\"},{\"attributes\":{\"dimension\":1,\"plot\":{\"id\":\"2a10ae67-a767-46ec-b1c7-2648e79aeb49\",\"subtype\":\"Figure\",\"type\":\"Plot\"},\"ticker\":{\"id\":\"8a8e81f5-185b-4060-85fd-5ca65408da4d\",\"type\":\"LogTicker\"}},\"id\":\"b0ee0a03-c113-4db8-ae1d-96b823f0d567\",\"type\":\"Grid\"},{\"attributes\":{\"bottom_units\":\"screen\",\"fill_alpha\":{\"value\":0.5},\"fill_color\":{\"value\":\"lightgrey\"},\"left_units\":\"screen\",\"level\":\"overlay\",\"line_alpha\":{\"value\":1.0},\"line_color\":{\"value\":\"black\"},\"line_dash\":[4,4],\"line_width\":{\"value\":2},\"plot\":null,\"render_mode\":\"css\",\"right_units\":\"screen\",\"top_units\":\"screen\"},\"id\":\"b07cba5d-69fd-4bc9-acde-2e6036e61432\",\"type\":\"BoxAnnotation\"},{\"attributes\":{},\"id\":\"31c53e7a-67fa-4a5c-ba1e-d7b5c327bf9e\",\"type\":\"PanTool\"},{\"attributes\":{\"bottom_units\":\"screen\",\"fill_alpha\":{\"value\":0.5},\"fill_color\":{\"value\":\"lightgrey\"},\"left_units\":\"screen\",\"level\":\"overlay\",\"line_alpha\":{\"value\":1.0},\"line_color\":{\"value\":\"black\"},\"line_dash\":[4,4],\"line_width\":{\"value\":2},\"plot\":null,\"render_mode\":\"css\",\"right_units\":\"screen\",\"top_units\":\"screen\"},\"id\":\"282ddd8f-812a-46bb-85ea-24037f088499\",\"type\":\"BoxAnnotation\"},{\"attributes\":{},\"id\":\"94f9a560-575f-416c-b4f8-dbf17d209502\",\"type\":\"BasicTicker\"},{\"attributes\":{},\"id\":\"99f663c4-0885-447c-9c8c-e2a13d099351\",\"type\":\"PanTool\"},{\"attributes\":{\"overlay\":{\"id\":\"b07cba5d-69fd-4bc9-acde-2e6036e61432\",\"type\":\"BoxAnnotation\"}},\"id\":\"3ba33c6d-0897-407c-81d1-433014c453b8\",\"type\":\"BoxZoomTool\"},{\"attributes\":{},\"id\":\"66e81d41-4825-43eb-97a6-524bcceb9b14\",\"type\":\"SaveTool\"},{\"attributes\":{},\"id\":\"8bfd1dee-bcdd-4e5d-980e-fd6ad250003d\",\"type\":\"WheelZoomTool\"},{\"attributes\":{\"overlay\":{\"id\":\"282ddd8f-812a-46bb-85ea-24037f088499\",\"type\":\"BoxAnnotation\"}},\"id\":\"be5fb179-3d70-4e6d-9620-0246eb158917\",\"type\":\"BoxZoomTool\"},{\"attributes\":{},\"id\":\"d020c423-ee29-4ace-85a6-52ec5e2715ac\",\"type\":\"ResetTool\"},{\"attributes\":{},\"id\":\"b69768b8-5b99-40e5-8123-a5466b5ae423\",\"type\":\"SaveTool\"},{\"attributes\":{},\"id\":\"e683d7bb-4b68-4126-a378-a755e6196be1\",\"type\":\"HelpTool\"},{\"attributes\":{},\"id\":\"64a6a61f-8e01-46e6-93da-5320b653ef33\",\"type\":\"ResetTool\"},{\"attributes\":{},\"id\":\"b5ce4e2b-0942-4baf-8db3-729870361dda\",\"type\":\"UnionRenderers\"},{\"attributes\":{},\"id\":\"9c565a7e-af2b-4f6d-8f58-fa88efa38c74\",\"type\":\"HelpTool\"},{\"attributes\":{\"callback\":null,\"data\":{\"x\":{\"__ndarray__\":\"wKmSFsL0fj94jUQbZz2BP8DKN/vxdoQ/4PPcTU1nhz84nW46RBaKP1h+y3L/bYw/GObBFe6Mjj+QXzYJ9y2QP9Sh65CM7ZA/aHWtQASokT8cQbAi22SSP2icvR8MUZM/kNRgCbJrlD8c1qx2FbSVP4jeWZEzX5Q/uJm2HLAjhj9X2l++ALB+v14G7+2Oc6C/aETmo2vzrr8IwXf9aL62v3A5XTchxL2/EM85dW5Fwr8AXEbnhYa+v4Bn0ISxe6u/QPe/vv5tmr/AOipfGRmkv6BP5m+fbaS/AAwL4LgUl78AtabC5v9YP3iaa3IjbpM/XLkiCgwmkT8AXgCpK2leP3ArBME9uZS/EAhjINxYq78A5YX6sdexv2jO3fVsMqK/APZ0gcw/f78A2LT6veBZvwA8Fu+IiTS/gJwv8srnQD/AS+lsS5xRPwDEWbjFqFY/QP+61Z5SWD9AKh/9TAhYP8DRyqO1x1Y/0K5ktD4/VT9gAxkuKFRTP+AQeeWXVVE/ILgeYy19Tj8gDIrC439KP+D9YLpnjkY/oAeHiyV+Qj/AnxjfP3w9P3BM/3evYjU/zDwmMLOvKz/AV+p+TYwWP4C+/6C0twG/QPuzSCYAJb8geQcOMMoyvwCzMRYkBTu/AG9MIQpqQb9wktjwqpFEv4CfOC6dgUa/ACITRkDDRr+AMgA7AF1Gv6DWdKYFKka/gKPpMGzgRr+ArqbDumhIvwDY6ZIP5kq/wByvK4zsTb9gFqQU6HlQv5BgjB65IlK/IDgaV/TZU78wKWHY+4ZVv/AEoKuXYVe/\",\"dtype\":\"float64\",\"shape\":[75]},\"y\":{\"__ndarray__\":\"GhExyth1ND/Sv8nbtpRIP2vylNV0PVE/aTum7souWD/At0SJ8fVgPw3Iuahxymc/MSNhhJWvcD/bTfBN02d3P2zb5nxnaoA/CD5h5MAGhz8NmeH1TyaQP+zrCsc9p5Y/LbKd76fGnz/bLW5ISEmmPww9YvTcQq8/JV2OstnstT8Er5Y7M8G+P0c+r3jqkcU/5h99k6ZBzj88bCIzFzjVP4enV8oyxN0//yH99nXg5D8qOpLLf0jtP5kqGJXUifQ/c9cS8kHP/D+/DpwzojQEQIEmwoanVwxA4lgXt9HgE0BSSZ2AJuIbQAMJih9jjiNA5q4l5INuK0AwTKYKRj0zQNv5fmq8/DpAaCJseHrtQkB/+zpwzoxKQM3MzMzMeFJAZmZmZmZqWEAAAAAAAFxeQM3MzMzMJmJAmpmZmZkfZUBmZmZmZhhoQDMzMzMzEWtAAAAAAAAKbkBmZmZmZoFwQM3MzMzM/XFAMzMzMzN6c0CamZmZmfZ0QAAAAAAAc3ZAZmZmZmbvd0DNzMzMzGt5QDMzMzMz6HpAmpmZmZlkfEAAAAAAAOF9QGZmZmZmXX9AZmZmZuZsgECamZmZGSuBQM3MzMxM6YFAAAAAAICngkAzMzMzs2WDQGZmZmbmI4RAmpmZmRnihEDNzMzMTKCFQAAAAACAXoZAMzMzM7Mch0BmZmZm5tqHQJqZmZkZmYhAzczMzExXiUAAAAAAgBWKQDMzMzOz04pAZmZmZuaRi0CamZmZGVCMQM3MzMxMDo1AAAAAAIDMjUAzMzMzs4qOQGZmZmbmSI9A\",\"dtype\":\"float64\",\"shape\":[75]}},\"selected\":{\"id\":\"9384b271-6c1e-40d1-ac94-9dd8185f6d2c\",\"type\":\"Selection\"},\"selection_policy\":{\"id\":\"1e303ae7-0c91-48a9-b522-1c47365b0be1\",\"type\":\"UnionRenderers\"}},\"id\":\"365770a0-f156-497b-937c-94193e69ec21\",\"type\":\"ColumnDataSource\"},{\"attributes\":{},\"id\":\"6575e624-19d7-4719-9b25-09f7c4b20d14\",\"type\":\"SaveTool\"},{\"attributes\":{},\"id\":\"d0461862-548e-4b36-8d3d-0a00b0e35ae7\",\"type\":\"WheelZoomTool\"},{\"attributes\":{\"children\":[{\"id\":\"7cfb5487-b625-4182-9102-19ca84b92ec8\",\"type\":\"Row\"}]},\"id\":\"7ca1d14e-01ba-4156-83e1-23f0fcd02d88\",\"type\":\"Column\"},{\"attributes\":{\"line_alpha\":0.8,\"line_color\":\"#984ea3\",\"line_width\":1.5,\"x\":{\"field\":\"x\"},\"y\":{\"field\":\"y\"}},\"id\":\"51534d81-a905-428b-897c-d323fa657f6b\",\"type\":\"Line\"},{\"attributes\":{\"children\":[{\"id\":\"1bbf327a-c2d6-48fb-b514-db78e7b38e0b\",\"subtype\":\"Figure\",\"type\":\"Plot\"},{\"id\":\"2a10ae67-a767-46ec-b1c7-2648e79aeb49\",\"subtype\":\"Figure\",\"type\":\"Plot\"},{\"id\":\"5b08069c-a9a2-43f0-970a-34eff479f1c9\",\"subtype\":\"Figure\",\"type\":\"Plot\"}]},\"id\":\"7cfb5487-b625-4182-9102-19ca84b92ec8\",\"type\":\"Row\"},{\"attributes\":{\"source\":{\"id\":\"df53e793-de1d-4176-9bc2-aaabccdf7295\",\"type\":\"ColumnDataSource\"}},\"id\":\"f29300c5-ac29-43bb-ae44-43ad2bc1a426\",\"type\":\"CDSView\"},{\"attributes\":{\"label\":{\"value\":\"CLIRAD - CRD\"},\"renderers\":[{\"id\":\"4059ee8c-fde7-44b3-b05f-291010469e4e\",\"type\":\"GlyphRenderer\"},{\"id\":\"39611265-ed0b-478a-9dff-6a0023067577\",\"type\":\"GlyphRenderer\"}]},\"id\":\"b5b2ab3c-3b35-4f82-ac0b-c2e45ed142e5\",\"type\":\"LegendItem\"},{\"attributes\":{},\"id\":\"3d51ed24-5054-40d7-ab3e-58621c810466\",\"type\":\"BasicTickFormatter\"},{\"attributes\":{\"data_source\":{\"id\":\"365770a0-f156-497b-937c-94193e69ec21\",\"type\":\"ColumnDataSource\"},\"glyph\":{\"id\":\"2763cfcd-5ff4-47aa-b9fc-862c6e36c1b1\",\"type\":\"Circle\"},\"hover_glyph\":null,\"muted_glyph\":null,\"nonselection_glyph\":{\"id\":\"34f1b17e-6a80-4e42-954f-ee256c91d708\",\"type\":\"Circle\"},\"selection_glyph\":null,\"view\":{\"id\":\"a96c9b43-eb07-48a8-bf30-a9f8896304ad\",\"type\":\"CDSView\"}},\"id\":\"4059ee8c-fde7-44b3-b05f-291010469e4e\",\"type\":\"GlyphRenderer\"},{\"attributes\":{\"plot\":null,\"text\":\"\"},\"id\":\"681dab15-a5d0-4225-bd38-3a1c116872e4\",\"type\":\"Title\"},{\"attributes\":{\"line_alpha\":0.1,\"line_color\":\"#1f77b4\",\"line_width\":1.5,\"x\":{\"field\":\"x\"},\"y\":{\"field\":\"y\"}},\"id\":\"2e3df734-6471-466e-a033-5a038cd5f9bc\",\"type\":\"Line\"},{\"attributes\":{\"callback\":null,\"end\":0.01,\"start\":1020},\"id\":\"710f2bc4-24f3-46a6-b882-fc342be93e1a\",\"type\":\"Range1d\"},{\"attributes\":{\"callback\":null,\"data\":{\"x\":{\"__ndarray__\":\"wKmSFsL0fj94jUQbZz2BP8DKN/vxdoQ/4PPcTU1nhz84nW46RBaKP1h+y3L/bYw/GObBFe6Mjj+QXzYJ9y2QP9Sh65CM7ZA/aHWtQASokT8cQbAi22SSP2icvR8MUZM/kNRgCbJrlD8c1qx2FbSVP4jeWZEzX5Q/uJm2HLAjhj9X2l++ALB+v14G7+2Oc6C/aETmo2vzrr8IwXf9aL62v3A5XTchxL2/EM85dW5Fwr8AXEbnhYa+v4Bn0ISxe6u/QPe/vv5tmr/AOipfGRmkv6BP5m+fbaS/AAwL4LgUl78AtabC5v9YP3iaa3IjbpM/XLkiCgwmkT8AXgCpK2leP3ArBME9uZS/EAhjINxYq78A5YX6sdexv2jO3fVsMqK/APZ0gcw/f78A2LT6veBZvwA8Fu+IiTS/gJwv8srnQD/AS+lsS5xRPwDEWbjFqFY/QP+61Z5SWD9AKh/9TAhYP8DRyqO1x1Y/0K5ktD4/VT9gAxkuKFRTP+AQeeWXVVE/ILgeYy19Tj8gDIrC439KP+D9YLpnjkY/oAeHiyV+Qj/AnxjfP3w9P3BM/3evYjU/zDwmMLOvKz/AV+p+TYwWP4C+/6C0twG/QPuzSCYAJb8geQcOMMoyvwCzMRYkBTu/AG9MIQpqQb9wktjwqpFEv4CfOC6dgUa/ACITRkDDRr+AMgA7AF1Gv6DWdKYFKka/gKPpMGzgRr+ArqbDumhIvwDY6ZIP5kq/wByvK4zsTb9gFqQU6HlQv5BgjB65IlK/IDgaV/TZU78wKWHY+4ZVv/AEoKuXYVe/\",\"dtype\":\"float64\",\"shape\":[75]},\"y\":{\"__ndarray__\":\"GhExyth1ND/Sv8nbtpRIP2vylNV0PVE/aTum7souWD/At0SJ8fVgPw3Iuahxymc/MSNhhJWvcD/bTfBN02d3P2zb5nxnaoA/CD5h5MAGhz8NmeH1TyaQP+zrCsc9p5Y/LbKd76fGnz/bLW5ISEmmPww9YvTcQq8/JV2OstnstT8Er5Y7M8G+P0c+r3jqkcU/5h99k6ZBzj88bCIzFzjVP4enV8oyxN0//yH99nXg5D8qOpLLf0jtP5kqGJXUifQ/c9cS8kHP/D+/DpwzojQEQIEmwoanVwxA4lgXt9HgE0BSSZ2AJuIbQAMJih9jjiNA5q4l5INuK0AwTKYKRj0zQNv5fmq8/DpAaCJseHrtQkB/+zpwzoxKQM3MzMzMeFJAZmZmZmZqWEAAAAAAAFxeQM3MzMzMJmJAmpmZmZkfZUBmZmZmZhhoQDMzMzMzEWtAAAAAAAAKbkBmZmZmZoFwQM3MzMzM/XFAMzMzMzN6c0CamZmZmfZ0QAAAAAAAc3ZAZmZmZmbvd0DNzMzMzGt5QDMzMzMz6HpAmpmZmZlkfEAAAAAAAOF9QGZmZmZmXX9AZmZmZuZsgECamZmZGSuBQM3MzMxM6YFAAAAAAICngkAzMzMzs2WDQGZmZmbmI4RAmpmZmRnihEDNzMzMTKCFQAAAAACAXoZAMzMzM7Mch0BmZmZm5tqHQJqZmZkZmYhAzczMzExXiUAAAAAAgBWKQDMzMzOz04pAZmZmZuaRi0CamZmZGVCMQM3MzMxMDo1AAAAAAIDMjUAzMzMzs4qOQGZmZmbmSI9A\",\"dtype\":\"float64\",\"shape\":[75]}},\"selected\":{\"id\":\"0b5a4662-6841-46a9-9441-15b272f41ded\",\"type\":\"Selection\"},\"selection_policy\":{\"id\":\"e2b1c924-5b13-4f61-94fa-e5b7ce3e8cb6\",\"type\":\"UnionRenderers\"}},\"id\":\"df53e793-de1d-4176-9bc2-aaabccdf7295\",\"type\":\"ColumnDataSource\"},{\"attributes\":{\"source\":{\"id\":\"365770a0-f156-497b-937c-94193e69ec21\",\"type\":\"ColumnDataSource\"}},\"id\":\"a96c9b43-eb07-48a8-bf30-a9f8896304ad\",\"type\":\"CDSView\"},{\"attributes\":{},\"id\":\"e92d3d4d-bd50-4518-8e26-82a12ecd846b\",\"type\":\"Selection\"},{\"attributes\":{},\"id\":\"2e0dc29e-14b4-4fd4-89f9-ba2e60b696ce\",\"type\":\"UnionRenderers\"},{\"attributes\":{\"data_source\":{\"id\":\"df53e793-de1d-4176-9bc2-aaabccdf7295\",\"type\":\"ColumnDataSource\"},\"glyph\":{\"id\":\"51534d81-a905-428b-897c-d323fa657f6b\",\"type\":\"Line\"},\"hover_glyph\":null,\"muted_glyph\":null,\"nonselection_glyph\":{\"id\":\"2e3df734-6471-466e-a033-5a038cd5f9bc\",\"type\":\"Line\"},\"selection_glyph\":null,\"view\":{\"id\":\"f29300c5-ac29-43bb-ae44-43ad2bc1a426\",\"type\":\"CDSView\"}},\"id\":\"39611265-ed0b-478a-9dff-6a0023067577\",\"type\":\"GlyphRenderer\"},{\"attributes\":{\"line_alpha\":0.6,\"line_color\":\"#e41a1c\",\"line_dash\":[6],\"line_width\":5,\"x\":{\"field\":\"x\"},\"y\":{\"field\":\"y\"}},\"id\":\"f5594c22-cb4a-4dbd-9968-bf68ba5d204a\",\"type\":\"Line\"},{\"attributes\":{},\"id\":\"cc3e5205-d614-424e-b979-88c3969ed2ee\",\"type\":\"UnionRenderers\"},{\"attributes\":{},\"id\":\"fc14cee4-e8b2-44f2-9c31-4c9ed476bb41\",\"type\":\"UnionRenderers\"},{\"attributes\":{},\"id\":\"7757835f-0ec9-4d44-9091-6dbff0b46532\",\"type\":\"BasicTickFormatter\"},{\"attributes\":{},\"id\":\"4b1c0dd2-185b-4ded-8016-0386365baf23\",\"type\":\"BasicTickFormatter\"},{\"attributes\":{},\"id\":\"8d662352-e6d1-4af1-aefe-93c31b3c64f3\",\"type\":\"UnionRenderers\"},{\"attributes\":{\"plot\":null,\"text\":\"\"},\"id\":\"22a28073-2376-407c-bfcf-75efd0c5a94c\",\"type\":\"Title\"},{\"attributes\":{},\"id\":\"2c9e9507-2965-4970-96bf-a60c64b5229d\",\"type\":\"Selection\"},{\"attributes\":{},\"id\":\"bf5635d3-22ac-4da9-8afd-8324e3b281e3\",\"type\":\"Selection\"},{\"attributes\":{},\"id\":\"1e303ae7-0c91-48a9-b522-1c47365b0be1\",\"type\":\"UnionRenderers\"},{\"attributes\":{},\"id\":\"9384b271-6c1e-40d1-ac94-9dd8185f6d2c\",\"type\":\"Selection\"},{\"attributes\":{},\"id\":\"12324592-68cd-4ffc-9530-6df1c995cf7b\",\"type\":\"Selection\"},{\"attributes\":{},\"id\":\"5d8ae8e3-0b9c-4b6d-9a13-7a825f9d936f\",\"type\":\"UnionRenderers\"},{\"attributes\":{\"ticker\":null},\"id\":\"3834b4b7-7ebe-4f6c-aaae-56b87d0b8518\",\"type\":\"LogTickFormatter\"},{\"attributes\":{},\"id\":\"54191625-250a-4cac-8ea8-b619ea75547e\",\"type\":\"Selection\"},{\"attributes\":{\"children\":[{\"id\":\"9289dba2-244b-4537-9680-c57e03c5a7fa\",\"type\":\"ToolbarBox\"},{\"id\":\"7ca1d14e-01ba-4156-83e1-23f0fcd02d88\",\"type\":\"Column\"}]},\"id\":\"269d9ff5-b084-45ed-834e-a81f38df997b\",\"type\":\"Column\"},{\"attributes\":{},\"id\":\"e2b1c924-5b13-4f61-94fa-e5b7ce3e8cb6\",\"type\":\"UnionRenderers\"},{\"attributes\":{},\"id\":\"0b5a4662-6841-46a9-9441-15b272f41ded\",\"type\":\"Selection\"},{\"attributes\":{\"toolbar\":{\"id\":\"f9f67028-0bb7-4f07-bcc3-331de0cd349b\",\"type\":\"ProxyToolbar\"},\"toolbar_location\":\"above\"},\"id\":\"9289dba2-244b-4537-9680-c57e03c5a7fa\",\"type\":\"ToolbarBox\"},{\"attributes\":{\"tools\":[{\"id\":\"f57f7719-a751-48ef-ac72-bc3b4aae9e7f\",\"type\":\"PanTool\"},{\"id\":\"d0461862-548e-4b36-8d3d-0a00b0e35ae7\",\"type\":\"WheelZoomTool\"},{\"id\":\"4cae1bbe-6c47-48dc-80dc-c5d04731d441\",\"type\":\"BoxZoomTool\"},{\"id\":\"6575e624-19d7-4719-9b25-09f7c4b20d14\",\"type\":\"SaveTool\"},{\"id\":\"2c670134-6fd8-46a8-840e-0bb0b43a1f29\",\"type\":\"ResetTool\"},{\"id\":\"9ff94389-7138-431e-8607-a724f7656332\",\"type\":\"HelpTool\"},{\"id\":\"99f663c4-0885-447c-9c8c-e2a13d099351\",\"type\":\"PanTool\"},{\"id\":\"8bfd1dee-bcdd-4e5d-980e-fd6ad250003d\",\"type\":\"WheelZoomTool\"},{\"id\":\"be5fb179-3d70-4e6d-9620-0246eb158917\",\"type\":\"BoxZoomTool\"},{\"id\":\"b69768b8-5b99-40e5-8123-a5466b5ae423\",\"type\":\"SaveTool\"},{\"id\":\"64a6a61f-8e01-46e6-93da-5320b653ef33\",\"type\":\"ResetTool\"},{\"id\":\"9c565a7e-af2b-4f6d-8f58-fa88efa38c74\",\"type\":\"HelpTool\"},{\"id\":\"31c53e7a-67fa-4a5c-ba1e-d7b5c327bf9e\",\"type\":\"PanTool\"},{\"id\":\"eb305b20-18f8-4c00-b8b8-ddcfecd989cb\",\"type\":\"WheelZoomTool\"},{\"id\":\"3ba33c6d-0897-407c-81d1-433014c453b8\",\"type\":\"BoxZoomTool\"},{\"id\":\"66e81d41-4825-43eb-97a6-524bcceb9b14\",\"type\":\"SaveTool\"},{\"id\":\"d020c423-ee29-4ace-85a6-52ec5e2715ac\",\"type\":\"ResetTool\"},{\"id\":\"e683d7bb-4b68-4126-a378-a755e6196be1\",\"type\":\"HelpTool\"}]},\"id\":\"f9f67028-0bb7-4f07-bcc3-331de0cd349b\",\"type\":\"ProxyToolbar\"},{\"attributes\":{\"fill_alpha\":{\"value\":0.1},\"fill_color\":{\"value\":\"#1f77b4\"},\"line_alpha\":{\"value\":0.1},\"line_color\":{\"value\":\"#1f77b4\"},\"x\":{\"field\":\"x\"},\"y\":{\"field\":\"y\"}},\"id\":\"095f7713-4fab-4268-b6bf-9c7d8c71a649\",\"type\":\"Circle\"},{\"attributes\":{\"callback\":null,\"data\":{\"x\":{\"__ndarray__\":\"LhhzD71Qnr9+1pIUrP+gv/Ngg2z2k6S/VR1lCdoAqL9wHqcYgkSrv/bwI4Y2Y66/JpcsEgaqsL/AnxK+lA2yv8fiNM0GXLO/1g3UXICTtL//MLuHgbe1v3Irnildwra/i/2VMPu+t7+K+72EcnG4v2lW/eQE+re/ymhjc3VKsr+cbJpuBjWCvwtyQOC7rLo/9eOjg/3w0T8Qex1ISRXhP93X3Cy5Jew/NZvHYTCf9D+9YezOJFv5Px7zpsdbM/o/xRW8jXL19z82M58Y/rjyPxsHA3QENeo/bovw/pGs4T8GamsjIqXXP+elpH8wDcg/Dky/W1jrqr+iP9k5conSv1+UZhRHdd+/q9Cb5Q3L47/Q8fLwdSTjv8OmxjKa6Ni/ZFlyDRqXx78yGjvZtO+8v76qzPcAm7e/BGOqhBrKs794Yh1hLcuwvxx7TF1fD6y/EeFQ2V9fp7//SqeoDHmjvxuYFNMQS6C/oG5PeTx5m781xnI+gR+Xv6sQYYzgMJO/8lD6kw95j7+S47ETHGaJv8ccCGgitYO/JDY5K4uKfL/OIqGXFBJyv2/UJ01MHWC/yagkEXq+OT8JdeOufcBlP4UzQdJ81XM/0txkPqJ1fD/hXSRwyF+CP1Nu3fjTeYY/5viy/uCNij+zuW9X3VqOP32m/kTc0ZA/Ei2LH+knkj9RmEZ/p0qTP8os9CGlYpQ/3yesLIiDlT98h853X7GWP3x8Y4TH6Zc/Rn2SO2wimT+UkY/qL0yaPxGBxxAwVZs/PpRHu/pGnD8yQ7VRNSudPxFZl191AJ4/\",\"dtype\":\"float64\",\"shape\":[75]},\"y\":{\"__ndarray__\":\"GhExyth1ND/Sv8nbtpRIP2vylNV0PVE/aTum7souWD/At0SJ8fVgPw3Iuahxymc/MSNhhJWvcD/bTfBN02d3P2zb5nxnaoA/CD5h5MAGhz8NmeH1TyaQP+zrCsc9p5Y/LbKd76fGnz/bLW5ISEmmPww9YvTcQq8/JV2OstnstT8Er5Y7M8G+P0c+r3jqkcU/5h99k6ZBzj88bCIzFzjVP4enV8oyxN0//yH99nXg5D8qOpLLf0jtP5kqGJXUifQ/c9cS8kHP/D+/DpwzojQEQIEmwoanVwxA4lgXt9HgE0BSSZ2AJuIbQAMJih9jjiNA5q4l5INuK0AwTKYKRj0zQNv5fmq8/DpAaCJseHrtQkB/+zpwzoxKQM3MzMzMeFJAZmZmZmZqWEAAAAAAAFxeQM3MzMzMJmJAmpmZmZkfZUBmZmZmZhhoQDMzMzMzEWtAAAAAAAAKbkBmZmZmZoFwQM3MzMzM/XFAMzMzMzN6c0CamZmZmfZ0QAAAAAAAc3ZAZmZmZmbvd0DNzMzMzGt5QDMzMzMz6HpAmpmZmZlkfEAAAAAAAOF9QGZmZmZmXX9AZmZmZuZsgECamZmZGSuBQM3MzMxM6YFAAAAAAICngkAzMzMzs2WDQGZmZmbmI4RAmpmZmRnihEDNzMzMTKCFQAAAAACAXoZAMzMzM7Mch0BmZmZm5tqHQJqZmZkZmYhAzczMzExXiUAAAAAAgBWKQDMzMzOz04pAZmZmZuaRi0CamZmZGVCMQM3MzMxMDo1AAAAAAIDMjUAzMzMzs4qOQGZmZmbmSI9A\",\"dtype\":\"float64\",\"shape\":[75]}},\"selected\":{\"id\":\"e92d3d4d-bd50-4518-8e26-82a12ecd846b\",\"type\":\"Selection\"},\"selection_policy\":{\"id\":\"8d662352-e6d1-4af1-aefe-93c31b3c64f3\",\"type\":\"UnionRenderers\"}},\"id\":\"6459423e-9e70-4d85-9759-9cdedab084f0\",\"type\":\"ColumnDataSource\"},{\"attributes\":{\"source\":{\"id\":\"dfe78784-31ea-4139-a7d1-95644be03388\",\"type\":\"ColumnDataSource\"}},\"id\":\"d772fa2c-9d82-478d-a4b8-091f0caaf52d\",\"type\":\"CDSView\"},{\"attributes\":{\"bottom_units\":\"screen\",\"fill_alpha\":{\"value\":0.5},\"fill_color\":{\"value\":\"lightgrey\"},\"left_units\":\"screen\",\"level\":\"overlay\",\"line_alpha\":{\"value\":1.0},\"line_color\":{\"value\":\"black\"},\"line_dash\":[4,4],\"line_width\":{\"value\":2},\"plot\":null,\"render_mode\":\"css\",\"right_units\":\"screen\",\"top_units\":\"screen\"},\"id\":\"0603a036-c49f-4432-9293-0ff568b90b51\",\"type\":\"BoxAnnotation\"},{\"attributes\":{\"above\":[{\"id\":\"2d4375b5-8a21-4db2-a3fd-23692eba115b\",\"type\":\"Legend\"}],\"below\":[{\"id\":\"1cfcc271-f85c-4d55-92a9-c9e7892c8628\",\"type\":\"LinearAxis\"}],\"left\":[{\"id\":\"55bba42a-f7d7-4150-b32d-926ddf274db7\",\"type\":\"LinearAxis\"}],\"plot_width\":300,\"renderers\":[{\"id\":\"1cfcc271-f85c-4d55-92a9-c9e7892c8628\",\"type\":\"LinearAxis\"},{\"id\":\"1cc118a2-1f58-4aa3-8359-23b84fcb4a09\",\"type\":\"Grid\"},{\"id\":\"55bba42a-f7d7-4150-b32d-926ddf274db7\",\"type\":\"LinearAxis\"},{\"id\":\"dd9c2c62-6963-4425-98ba-f4cf48bcf095\",\"type\":\"Grid\"},{\"id\":\"0603a036-c49f-4432-9293-0ff568b90b51\",\"type\":\"BoxAnnotation\"},{\"id\":\"17196539-e05e-44e0-ba56-96d25521450a\",\"type\":\"GlyphRenderer\"},{\"id\":\"bb2483c0-3b65-4087-860f-c58cfe44aabf\",\"type\":\"GlyphRenderer\"},{\"id\":\"573942b7-dd3f-47b9-8d22-0eb2510d5f43\",\"type\":\"GlyphRenderer\"},{\"id\":\"2d4375b5-8a21-4db2-a3fd-23692eba115b\",\"type\":\"Legend\"}],\"title\":{\"id\":\"681dab15-a5d0-4225-bd38-3a1c116872e4\",\"type\":\"Title\"},\"toolbar\":{\"id\":\"09e3c620-2cf2-463a-b056-541a9a864802\",\"type\":\"Toolbar\"},\"toolbar_location\":null,\"x_range\":{\"id\":\"e547cb79-8afc-4c50-8eb8-6bc66fa489c3\",\"type\":\"Range1d\"},\"x_scale\":{\"id\":\"0b576573-e5fe-4ec4-8835-6ae1977f4260\",\"type\":\"LinearScale\"},\"y_range\":{\"id\":\"710f2bc4-24f3-46a6-b882-fc342be93e1a\",\"type\":\"Range1d\"},\"y_scale\":{\"id\":\"57cbc66c-5ca1-445c-871c-700694c1db5e\",\"type\":\"LinearScale\"}},\"id\":\"1bbf327a-c2d6-48fb-b514-db78e7b38e0b\",\"subtype\":\"Figure\",\"type\":\"Plot\"}],\"root_ids\":[\"269d9ff5-b084-45ed-834e-a81f38df997b\"]},\"title\":\"Bokeh Application\",\"version\":\"0.12.16\"}};\n",
       "  var render_items = [{\"docid\":\"ca581bab-4bbc-4425-9ffb-f29025d2db2c\",\"elementid\":\"c5c7378b-24c5-42a1-ab35-14a0ad71033f\",\"modelid\":\"269d9ff5-b084-45ed-834e-a81f38df997b\"}];\n",
       "  root.Bokeh.embed.embed_items_notebook(docs_json, render_items);\n",
       "\n",
       "  }\n",
       "  if (root.Bokeh !== undefined) {\n",
       "    embed_document(root);\n",
       "  } else {\n",
       "    var attempts = 0;\n",
       "    var timer = setInterval(function(root) {\n",
       "      if (root.Bokeh !== undefined) {\n",
       "        embed_document(root);\n",
       "        clearInterval(timer);\n",
       "      }\n",
       "      attempts++;\n",
       "      if (attempts > 100) {\n",
       "        console.log(\"Bokeh: ERROR: Unable to run BokehJS code because BokehJS library is missing\")\n",
       "        clearInterval(timer);\n",
       "      }\n",
       "    }, 10, root)\n",
       "  }\n",
       "})(window);"
      ],
      "application/vnd.bokehjs_exec.v0+json": ""
     },
     "metadata": {
      "application/vnd.bokehjs_exec.v0+json": {
       "id": "269d9ff5-b084-45ed-834e-a81f38df997b"
      }
     },
     "output_type": "display_data"
    },
    {
     "data": {
      "text/markdown": [
       "*FIGURE.* Cooling rates & difference."
      ],
      "text/plain": [
       "<IPython.core.display.Markdown object>"
      ]
     },
     "metadata": {},
     "output_type": "display_data"
    },
    {
     "data": {
      "text/html": [
       "<a id=\"Fluxes._trp.\"></a>"
      ],
      "text/plain": [
       "<IPython.core.display.HTML object>"
      ]
     },
     "metadata": {},
     "output_type": "display_data"
    },
    {
     "data": {
      "text/markdown": [
       "# Fluxes. trp."
      ],
      "text/plain": [
       "<IPython.core.display.Markdown object>"
      ]
     },
     "metadata": {},
     "output_type": "display_data"
    },
    {
     "data": {
      "text/html": [
       "\n",
       "<div class=\"bk-root\">\n",
       "    <div class=\"bk-plotdiv\" id=\"7ee8f991-3f50-4ca9-9c1e-872808a3ad49\"></div>\n",
       "</div>"
      ]
     },
     "metadata": {},
     "output_type": "display_data"
    },
    {
     "data": {
      "application/javascript": [
       "(function(root) {\n",
       "  function embed_document(root) {\n",
       "    \n",
       "  var docs_json = {\"d057cd63-2df2-41af-bb41-9d5bbd5f5c57\":{\"roots\":{\"references\":[{\"attributes\":{\"fill_alpha\":{\"value\":0.1},\"fill_color\":{\"value\":\"#1f77b4\"},\"line_alpha\":{\"value\":0.1},\"line_color\":{\"value\":\"#1f77b4\"},\"top\":{\"field\":\"flux\"},\"width\":{\"value\":0.9},\"x\":{\"field\":\"band\"}},\"id\":\"5949a553-7d55-4cf6-90ba-7890d575be25\",\"type\":\"VBar\"},{\"attributes\":{\"axis_label\":\"spectral band\",\"formatter\":{\"id\":\"00870296-f64e-4b56-88e5-4f53948e4bf8\",\"type\":\"CategoricalTickFormatter\"},\"plot\":{\"id\":\"39db79a3-ffc6-4a7d-8fa1-e3cf13357e63\",\"subtype\":\"Figure\",\"type\":\"Plot\"},\"ticker\":{\"id\":\"59e10de2-ef4f-43cd-96e1-2e347067f4b6\",\"type\":\"CategoricalTicker\"}},\"id\":\"36669f7c-b75d-4a34-9632-1d67939bf358\",\"type\":\"CategoricalAxis\"},{\"attributes\":{},\"id\":\"e2b80930-2a38-4377-aede-d09568d2bb76\",\"type\":\"BasicTicker\"},{\"attributes\":{},\"id\":\"ea8a0355-0f6f-456d-aff2-40d43c6a847a\",\"type\":\"SaveTool\"},{\"attributes\":{},\"id\":\"b5210b5f-2ca9-4eac-bcff-2ea8b70044d7\",\"type\":\"ResetTool\"},{\"attributes\":{\"callback\":null,\"factors\":[\"7\"]},\"id\":\"16f4b6fe-41ab-4898-b35c-0cbb5f2a7412\",\"type\":\"FactorRange\"},{\"attributes\":{\"dimension\":1,\"plot\":{\"id\":\"432199f7-21cd-4a58-8c82-c9c6b2711f19\",\"subtype\":\"Figure\",\"type\":\"Plot\"},\"ticker\":{\"id\":\"e2b80930-2a38-4377-aede-d09568d2bb76\",\"type\":\"BasicTicker\"}},\"id\":\"b83f7668-8feb-4713-ae6c-705bafca245a\",\"type\":\"Grid\"},{\"attributes\":{\"source\":{\"id\":\"a5940710-1214-4fcb-bd3e-cfa126fd36ec\",\"type\":\"ColumnDataSource\"}},\"id\":\"b7579104-8caf-40cb-916e-a0c081fe3251\",\"type\":\"CDSView\"},{\"attributes\":{\"overlay\":{\"id\":\"8ca560cc-99e2-4714-b8f8-081bb3fc17e3\",\"type\":\"BoxAnnotation\"}},\"id\":\"1bd5e091-9368-4511-9122-9d54b80d597a\",\"type\":\"BoxZoomTool\"},{\"attributes\":{\"axis_label\":\"flux (W m-2)\",\"formatter\":{\"id\":\"a076f6b3-4cd3-4c79-bf2b-5407a2d44d32\",\"type\":\"BasicTickFormatter\"},\"plot\":{\"id\":\"432199f7-21cd-4a58-8c82-c9c6b2711f19\",\"subtype\":\"Figure\",\"type\":\"Plot\"},\"ticker\":{\"id\":\"e2b80930-2a38-4377-aede-d09568d2bb76\",\"type\":\"BasicTicker\"}},\"id\":\"a1d730eb-2b40-46b0-9184-2183a46d64db\",\"type\":\"LinearAxis\"},{\"attributes\":{},\"id\":\"9de02e5b-6982-44c1-bd05-60a53a185f24\",\"type\":\"WheelZoomTool\"},{\"attributes\":{\"plot\":{\"id\":\"432199f7-21cd-4a58-8c82-c9c6b2711f19\",\"subtype\":\"Figure\",\"type\":\"Plot\"},\"ticker\":{\"id\":\"0b9f71d5-c9b7-4d7e-9054-01694cfc29cf\",\"type\":\"CategoricalTicker\"}},\"id\":\"d91bc7a3-0140-423b-a21c-acc413952160\",\"type\":\"Grid\"},{\"attributes\":{\"active_drag\":\"auto\",\"active_inspect\":\"auto\",\"active_scroll\":\"auto\",\"active_tap\":\"auto\",\"tools\":[{\"id\":\"fc02cf2c-7d3a-4b2a-bb7a-3079209f7c68\",\"type\":\"PanTool\"},{\"id\":\"9b792330-f077-4da5-bda9-b509a5e2459f\",\"type\":\"WheelZoomTool\"},{\"id\":\"8fadf824-6d18-460a-8832-763c85bc4282\",\"type\":\"BoxZoomTool\"},{\"id\":\"bdd83ec1-d539-4f31-ae0a-f1ec20de1474\",\"type\":\"SaveTool\"},{\"id\":\"f264ea7a-52c8-42cb-9847-0a89bccc6074\",\"type\":\"ResetTool\"},{\"id\":\"4a01daf7-0313-430c-ab16-d5fbd8cf2407\",\"type\":\"HelpTool\"}]},\"id\":\"34e7fade-dfe5-4eef-988c-9ecea1a1cf7c\",\"type\":\"Toolbar\"},{\"attributes\":{\"data_source\":{\"id\":\"a5940710-1214-4fcb-bd3e-cfa126fd36ec\",\"type\":\"ColumnDataSource\"},\"glyph\":{\"id\":\"bd8c3c60-79f6-47d8-9711-91020bd1b3bb\",\"type\":\"VBar\"},\"hover_glyph\":null,\"muted_glyph\":null,\"nonselection_glyph\":{\"id\":\"9090fb17-8493-4a9a-9322-d68ec103ccc2\",\"type\":\"VBar\"},\"selection_glyph\":null,\"view\":{\"id\":\"b7579104-8caf-40cb-916e-a0c081fe3251\",\"type\":\"CDSView\"}},\"id\":\"26cefbb0-6b31-4e6e-8d98-67712b957705\",\"type\":\"GlyphRenderer\"},{\"attributes\":{\"fill_color\":{\"value\":\"#1f77b4\"},\"line_color\":{\"value\":\"#1f77b4\"},\"top\":{\"field\":\"flux\"},\"width\":{\"value\":0.9},\"x\":{\"field\":\"band\"}},\"id\":\"ae31f592-e99a-45cd-bdfb-443f669170c3\",\"type\":\"VBar\"},{\"attributes\":{},\"id\":\"21171992-f4d3-4bb5-a6b9-b4821519832a\",\"type\":\"PanTool\"},{\"attributes\":{\"bottom_units\":\"screen\",\"fill_alpha\":{\"value\":0.5},\"fill_color\":{\"value\":\"lightgrey\"},\"left_units\":\"screen\",\"level\":\"overlay\",\"line_alpha\":{\"value\":1.0},\"line_color\":{\"value\":\"black\"},\"line_dash\":[4,4],\"line_width\":{\"value\":2},\"plot\":null,\"render_mode\":\"css\",\"right_units\":\"screen\",\"top_units\":\"screen\"},\"id\":\"4555a2c0-c091-4182-b0e5-930daaea9d4b\",\"type\":\"BoxAnnotation\"},{\"attributes\":{\"bottom_units\":\"screen\",\"fill_alpha\":{\"value\":0.5},\"fill_color\":{\"value\":\"lightgrey\"},\"left_units\":\"screen\",\"level\":\"overlay\",\"line_alpha\":{\"value\":1.0},\"line_color\":{\"value\":\"black\"},\"line_dash\":[4,4],\"line_width\":{\"value\":2},\"plot\":null,\"render_mode\":\"css\",\"right_units\":\"screen\",\"top_units\":\"screen\"},\"id\":\"8ca560cc-99e2-4714-b8f8-081bb3fc17e3\",\"type\":\"BoxAnnotation\"},{\"attributes\":{\"axis_label\":\"flux (W m-2)\",\"formatter\":{\"id\":\"dc4325aa-5f48-4508-8def-274fdda447c1\",\"type\":\"BasicTickFormatter\"},\"plot\":{\"id\":\"a7a3acc2-4725-462f-a23a-ee7713b40f0a\",\"subtype\":\"Figure\",\"type\":\"Plot\"},\"ticker\":{\"id\":\"16191848-dde0-4bd2-9eb1-a00622da6fa6\",\"type\":\"BasicTicker\"}},\"id\":\"b41031ff-15af-456d-861b-c0b32f423c42\",\"type\":\"LinearAxis\"},{\"attributes\":{\"tools\":[{\"id\":\"7bec9713-154b-452c-a932-ce6bb2c77ef7\",\"type\":\"PanTool\"},{\"id\":\"24998098-c41a-4a8b-b615-f4d158de3404\",\"type\":\"WheelZoomTool\"},{\"id\":\"59710c8d-9982-4b86-85ca-d5201748ce2e\",\"type\":\"BoxZoomTool\"},{\"id\":\"118dfa88-f067-403e-bc35-8b929310d91d\",\"type\":\"SaveTool\"},{\"id\":\"dde31f92-acda-4747-8999-b6dfc6ff3a2b\",\"type\":\"ResetTool\"},{\"id\":\"d705307f-fbb0-424d-b405-443d3b1d1d4f\",\"type\":\"HelpTool\"},{\"id\":\"fc02cf2c-7d3a-4b2a-bb7a-3079209f7c68\",\"type\":\"PanTool\"},{\"id\":\"9b792330-f077-4da5-bda9-b509a5e2459f\",\"type\":\"WheelZoomTool\"},{\"id\":\"8fadf824-6d18-460a-8832-763c85bc4282\",\"type\":\"BoxZoomTool\"},{\"id\":\"bdd83ec1-d539-4f31-ae0a-f1ec20de1474\",\"type\":\"SaveTool\"},{\"id\":\"f264ea7a-52c8-42cb-9847-0a89bccc6074\",\"type\":\"ResetTool\"},{\"id\":\"4a01daf7-0313-430c-ab16-d5fbd8cf2407\",\"type\":\"HelpTool\"},{\"id\":\"21171992-f4d3-4bb5-a6b9-b4821519832a\",\"type\":\"PanTool\"},{\"id\":\"9de02e5b-6982-44c1-bd05-60a53a185f24\",\"type\":\"WheelZoomTool\"},{\"id\":\"1bd5e091-9368-4511-9122-9d54b80d597a\",\"type\":\"BoxZoomTool\"},{\"id\":\"ea8a0355-0f6f-456d-aff2-40d43c6a847a\",\"type\":\"SaveTool\"},{\"id\":\"b5210b5f-2ca9-4eac-bcff-2ea8b70044d7\",\"type\":\"ResetTool\"},{\"id\":\"2349e31a-31bb-40b8-bd6a-8df62df05ef9\",\"type\":\"HelpTool\"}]},\"id\":\"ba8cb797-1348-4da0-ae32-90d7ac90d97b\",\"type\":\"ProxyToolbar\"},{\"attributes\":{},\"id\":\"fc02cf2c-7d3a-4b2a-bb7a-3079209f7c68\",\"type\":\"PanTool\"},{\"attributes\":{\"callback\":null},\"id\":\"dab52208-e20b-423a-b6af-9c6602f97f48\",\"type\":\"DataRange1d\"},{\"attributes\":{\"data_source\":{\"id\":\"b5191562-61b1-4248-9c4a-5967c234ee8d\",\"type\":\"ColumnDataSource\"},\"glyph\":{\"id\":\"ae31f592-e99a-45cd-bdfb-443f669170c3\",\"type\":\"VBar\"},\"hover_glyph\":null,\"muted_glyph\":null,\"nonselection_glyph\":{\"id\":\"5949a553-7d55-4cf6-90ba-7890d575be25\",\"type\":\"VBar\"},\"selection_glyph\":null,\"view\":{\"id\":\"aa5013b3-a927-4132-98c7-fdfa8c3726a5\",\"type\":\"CDSView\"}},\"id\":\"76142f29-4b04-4b2d-a740-9a2ae8b4bd8a\",\"type\":\"GlyphRenderer\"},{\"attributes\":{\"fill_color\":{\"value\":\"#1f77b4\"},\"line_color\":{\"value\":\"#1f77b4\"},\"top\":{\"field\":\"flux\"},\"width\":{\"value\":0.9},\"x\":{\"field\":\"band\"}},\"id\":\"bd8c3c60-79f6-47d8-9711-91020bd1b3bb\",\"type\":\"VBar\"},{\"attributes\":{},\"id\":\"9b792330-f077-4da5-bda9-b509a5e2459f\",\"type\":\"WheelZoomTool\"},{\"attributes\":{},\"id\":\"61968035-30f1-4b35-a62f-9b346dd90c44\",\"type\":\"CategoricalTickFormatter\"},{\"attributes\":{\"overlay\":{\"id\":\"4555a2c0-c091-4182-b0e5-930daaea9d4b\",\"type\":\"BoxAnnotation\"}},\"id\":\"8fadf824-6d18-460a-8832-763c85bc4282\",\"type\":\"BoxZoomTool\"},{\"attributes\":{\"active_drag\":\"auto\",\"active_inspect\":\"auto\",\"active_scroll\":\"auto\",\"active_tap\":\"auto\",\"tools\":[{\"id\":\"7bec9713-154b-452c-a932-ce6bb2c77ef7\",\"type\":\"PanTool\"},{\"id\":\"24998098-c41a-4a8b-b615-f4d158de3404\",\"type\":\"WheelZoomTool\"},{\"id\":\"59710c8d-9982-4b86-85ca-d5201748ce2e\",\"type\":\"BoxZoomTool\"},{\"id\":\"118dfa88-f067-403e-bc35-8b929310d91d\",\"type\":\"SaveTool\"},{\"id\":\"dde31f92-acda-4747-8999-b6dfc6ff3a2b\",\"type\":\"ResetTool\"},{\"id\":\"d705307f-fbb0-424d-b405-443d3b1d1d4f\",\"type\":\"HelpTool\"}]},\"id\":\"75111111-939d-411b-99ec-53dbd7fd5347\",\"type\":\"Toolbar\"},{\"attributes\":{\"dimension\":1,\"plot\":{\"id\":\"39db79a3-ffc6-4a7d-8fa1-e3cf13357e63\",\"subtype\":\"Figure\",\"type\":\"Plot\"},\"ticker\":{\"id\":\"c9fa5e66-151b-45c3-bdd2-58eab2066de2\",\"type\":\"BasicTicker\"}},\"id\":\"1a594377-e54a-47e1-8e2c-18d3462a2658\",\"type\":\"Grid\"},{\"attributes\":{},\"id\":\"bdd83ec1-d539-4f31-ae0a-f1ec20de1474\",\"type\":\"SaveTool\"},{\"attributes\":{\"callback\":null,\"factors\":[\"7\"]},\"id\":\"fee686c2-8d85-46e2-89bc-a4830ddb58fd\",\"type\":\"FactorRange\"},{\"attributes\":{},\"id\":\"c9fa5e66-151b-45c3-bdd2-58eab2066de2\",\"type\":\"BasicTicker\"},{\"attributes\":{},\"id\":\"f264ea7a-52c8-42cb-9847-0a89bccc6074\",\"type\":\"ResetTool\"},{\"attributes\":{\"plot\":null,\"text\":\"TOA flux. CLIRAD - CRD.\"},\"id\":\"beae162d-3436-48b7-9c5f-0b8dc144ffd6\",\"type\":\"Title\"},{\"attributes\":{},\"id\":\"59e10de2-ef4f-43cd-96e1-2e347067f4b6\",\"type\":\"CategoricalTicker\"},{\"attributes\":{},\"id\":\"4a01daf7-0313-430c-ab16-d5fbd8cf2407\",\"type\":\"HelpTool\"},{\"attributes\":{},\"id\":\"ee10183d-9bf1-4e03-9544-3241070ed45e\",\"type\":\"CategoricalScale\"},{\"attributes\":{\"fill_alpha\":{\"value\":0.1},\"fill_color\":{\"value\":\"#1f77b4\"},\"line_alpha\":{\"value\":0.1},\"line_color\":{\"value\":\"#1f77b4\"},\"top\":{\"field\":\"flux\"},\"width\":{\"value\":0.9},\"x\":{\"field\":\"band\"}},\"id\":\"9090fb17-8493-4a9a-9322-d68ec103ccc2\",\"type\":\"VBar\"},{\"attributes\":{\"source\":{\"id\":\"b5191562-61b1-4248-9c4a-5967c234ee8d\",\"type\":\"ColumnDataSource\"}},\"id\":\"aa5013b3-a927-4132-98c7-fdfa8c3726a5\",\"type\":\"CDSView\"},{\"attributes\":{},\"id\":\"2349e31a-31bb-40b8-bd6a-8df62df05ef9\",\"type\":\"HelpTool\"},{\"attributes\":{},\"id\":\"46648578-6313-4ccf-88a0-66339cc4d38b\",\"type\":\"LinearScale\"},{\"attributes\":{\"plot\":{\"id\":\"a7a3acc2-4725-462f-a23a-ee7713b40f0a\",\"subtype\":\"Figure\",\"type\":\"Plot\"},\"ticker\":{\"id\":\"89d87897-5746-4ce8-b3be-a24a16aca769\",\"type\":\"CategoricalTicker\"}},\"id\":\"7c7409e4-2b7b-46c0-a90f-7326ed4853e1\",\"type\":\"Grid\"},{\"attributes\":{\"axis_label\":\"flux (W m-2)\",\"formatter\":{\"id\":\"7498dcea-adcb-41e1-bb05-1cee45d79613\",\"type\":\"BasicTickFormatter\"},\"plot\":{\"id\":\"39db79a3-ffc6-4a7d-8fa1-e3cf13357e63\",\"subtype\":\"Figure\",\"type\":\"Plot\"},\"ticker\":{\"id\":\"c9fa5e66-151b-45c3-bdd2-58eab2066de2\",\"type\":\"BasicTicker\"}},\"id\":\"701f4816-5566-4022-8bbb-3dd0b5e7320e\",\"type\":\"LinearAxis\"},{\"attributes\":{\"axis_label\":\"spectral band\",\"formatter\":{\"id\":\"61968035-30f1-4b35-a62f-9b346dd90c44\",\"type\":\"CategoricalTickFormatter\"},\"plot\":{\"id\":\"a7a3acc2-4725-462f-a23a-ee7713b40f0a\",\"subtype\":\"Figure\",\"type\":\"Plot\"},\"ticker\":{\"id\":\"89d87897-5746-4ce8-b3be-a24a16aca769\",\"type\":\"CategoricalTicker\"}},\"id\":\"1a98af59-f91a-4b85-b43b-e32134a59abc\",\"type\":\"CategoricalAxis\"},{\"attributes\":{},\"id\":\"70c9fc5a-3344-491f-8db9-2181fcf0b8f1\",\"type\":\"LinearScale\"},{\"attributes\":{},\"id\":\"48caa66c-cb03-401a-9f36-ab9ed062948c\",\"type\":\"UnionRenderers\"},{\"attributes\":{},\"id\":\"89d87897-5746-4ce8-b3be-a24a16aca769\",\"type\":\"CategoricalTicker\"},{\"attributes\":{\"fill_color\":{\"value\":\"#1f77b4\"},\"line_color\":{\"value\":\"#1f77b4\"},\"top\":{\"field\":\"flux\"},\"width\":{\"value\":0.9},\"x\":{\"field\":\"band\"}},\"id\":\"a8f384e9-48e0-45e0-a587-d17a0a2a3377\",\"type\":\"VBar\"},{\"attributes\":{\"plot\":{\"id\":\"39db79a3-ffc6-4a7d-8fa1-e3cf13357e63\",\"subtype\":\"Figure\",\"type\":\"Plot\"},\"ticker\":{\"id\":\"59e10de2-ef4f-43cd-96e1-2e347067f4b6\",\"type\":\"CategoricalTicker\"}},\"id\":\"dde1c832-01f6-4b21-96ac-d0a04a9e9114\",\"type\":\"Grid\"},{\"attributes\":{},\"id\":\"16191848-dde0-4bd2-9eb1-a00622da6fa6\",\"type\":\"BasicTicker\"},{\"attributes\":{\"dimension\":1,\"plot\":{\"id\":\"a7a3acc2-4725-462f-a23a-ee7713b40f0a\",\"subtype\":\"Figure\",\"type\":\"Plot\"},\"ticker\":{\"id\":\"16191848-dde0-4bd2-9eb1-a00622da6fa6\",\"type\":\"BasicTicker\"}},\"id\":\"72ff37b3-9588-4d76-a1f6-a2d7a9be2c73\",\"type\":\"Grid\"},{\"attributes\":{},\"id\":\"c35cb6dd-0e57-4fe5-9085-0f1e723e08bb\",\"type\":\"Selection\"},{\"attributes\":{\"fill_alpha\":{\"value\":0.1},\"fill_color\":{\"value\":\"#1f77b4\"},\"line_alpha\":{\"value\":0.1},\"line_color\":{\"value\":\"#1f77b4\"},\"top\":{\"field\":\"flux\"},\"width\":{\"value\":0.9},\"x\":{\"field\":\"band\"}},\"id\":\"5c93b145-1042-4b50-8777-e4553ccceb43\",\"type\":\"VBar\"},{\"attributes\":{},\"id\":\"9f98a13f-821c-4507-862b-89836c43f928\",\"type\":\"LinearScale\"},{\"attributes\":{},\"id\":\"a076f6b3-4cd3-4c79-bf2b-5407a2d44d32\",\"type\":\"BasicTickFormatter\"},{\"attributes\":{},\"id\":\"dc4325aa-5f48-4508-8def-274fdda447c1\",\"type\":\"BasicTickFormatter\"},{\"attributes\":{\"plot\":null,\"text\":\"Atmosphere heating. CLIRAD - CRD.\"},\"id\":\"95fbad4b-f5fb-41bb-9492-302e96dd516e\",\"type\":\"Title\"},{\"attributes\":{\"below\":[{\"id\":\"1a98af59-f91a-4b85-b43b-e32134a59abc\",\"type\":\"CategoricalAxis\"}],\"left\":[{\"id\":\"b41031ff-15af-456d-861b-c0b32f423c42\",\"type\":\"LinearAxis\"}],\"plot_height\":300,\"plot_width\":300,\"renderers\":[{\"id\":\"1a98af59-f91a-4b85-b43b-e32134a59abc\",\"type\":\"CategoricalAxis\"},{\"id\":\"7c7409e4-2b7b-46c0-a90f-7326ed4853e1\",\"type\":\"Grid\"},{\"id\":\"b41031ff-15af-456d-861b-c0b32f423c42\",\"type\":\"LinearAxis\"},{\"id\":\"72ff37b3-9588-4d76-a1f6-a2d7a9be2c73\",\"type\":\"Grid\"},{\"id\":\"3464a340-3a4a-46b4-b5c1-a1e35a46853a\",\"type\":\"BoxAnnotation\"},{\"id\":\"d9cb9d6d-e8d0-4ebd-b06d-d4589742d2fa\",\"type\":\"GlyphRenderer\"}],\"title\":{\"id\":\"beae162d-3436-48b7-9c5f-0b8dc144ffd6\",\"type\":\"Title\"},\"toolbar\":{\"id\":\"75111111-939d-411b-99ec-53dbd7fd5347\",\"type\":\"Toolbar\"},\"toolbar_location\":null,\"x_range\":{\"id\":\"fee686c2-8d85-46e2-89bc-a4830ddb58fd\",\"type\":\"FactorRange\"},\"x_scale\":{\"id\":\"ee10183d-9bf1-4e03-9544-3241070ed45e\",\"type\":\"CategoricalScale\"},\"y_range\":{\"id\":\"dab52208-e20b-423a-b6af-9c6602f97f48\",\"type\":\"DataRange1d\"},\"y_scale\":{\"id\":\"46648578-6313-4ccf-88a0-66339cc4d38b\",\"type\":\"LinearScale\"}},\"id\":\"a7a3acc2-4725-462f-a23a-ee7713b40f0a\",\"subtype\":\"Figure\",\"type\":\"Plot\"},{\"attributes\":{\"bottom_units\":\"screen\",\"fill_alpha\":{\"value\":0.5},\"fill_color\":{\"value\":\"lightgrey\"},\"left_units\":\"screen\",\"level\":\"overlay\",\"line_alpha\":{\"value\":1.0},\"line_color\":{\"value\":\"black\"},\"line_dash\":[4,4],\"line_width\":{\"value\":2},\"plot\":null,\"render_mode\":\"css\",\"right_units\":\"screen\",\"top_units\":\"screen\"},\"id\":\"3464a340-3a4a-46b4-b5c1-a1e35a46853a\",\"type\":\"BoxAnnotation\"},{\"attributes\":{},\"id\":\"7bec9713-154b-452c-a932-ce6bb2c77ef7\",\"type\":\"PanTool\"},{\"attributes\":{\"data_source\":{\"id\":\"3133db15-3af0-4568-ae35-e3a226afebd3\",\"type\":\"ColumnDataSource\"},\"glyph\":{\"id\":\"a8f384e9-48e0-45e0-a587-d17a0a2a3377\",\"type\":\"VBar\"},\"hover_glyph\":null,\"muted_glyph\":null,\"nonselection_glyph\":{\"id\":\"5c93b145-1042-4b50-8777-e4553ccceb43\",\"type\":\"VBar\"},\"selection_glyph\":null,\"view\":{\"id\":\"92bd80aa-ae2a-465e-b4e5-c1b5a109224a\",\"type\":\"CDSView\"}},\"id\":\"d9cb9d6d-e8d0-4ebd-b06d-d4589742d2fa\",\"type\":\"GlyphRenderer\"},{\"attributes\":{},\"id\":\"24998098-c41a-4a8b-b615-f4d158de3404\",\"type\":\"WheelZoomTool\"},{\"attributes\":{},\"id\":\"43800b0a-19ae-4836-8060-f25ec7dc3ff9\",\"type\":\"Selection\"},{\"attributes\":{},\"id\":\"df7230ae-cde0-43cf-8639-7f64e91f985d\",\"type\":\"CategoricalTickFormatter\"},{\"attributes\":{\"overlay\":{\"id\":\"3464a340-3a4a-46b4-b5c1-a1e35a46853a\",\"type\":\"BoxAnnotation\"}},\"id\":\"59710c8d-9982-4b86-85ca-d5201748ce2e\",\"type\":\"BoxZoomTool\"},{\"attributes\":{},\"id\":\"118dfa88-f067-403e-bc35-8b929310d91d\",\"type\":\"SaveTool\"},{\"attributes\":{},\"id\":\"074e4f50-51b0-4370-97c3-752fd18c491e\",\"type\":\"CategoricalScale\"},{\"attributes\":{},\"id\":\"56dc3359-ef8e-43b1-a89e-21bc1949cc9b\",\"type\":\"UnionRenderers\"},{\"attributes\":{\"toolbar\":{\"id\":\"ba8cb797-1348-4da0-ae32-90d7ac90d97b\",\"type\":\"ProxyToolbar\"},\"toolbar_location\":\"above\"},\"id\":\"d650b698-7c53-49cd-b967-eca4bb3e56a2\",\"type\":\"ToolbarBox\"},{\"attributes\":{},\"id\":\"dde31f92-acda-4747-8999-b6dfc6ff3a2b\",\"type\":\"ResetTool\"},{\"attributes\":{},\"id\":\"d705307f-fbb0-424d-b405-443d3b1d1d4f\",\"type\":\"HelpTool\"},{\"attributes\":{\"children\":[{\"id\":\"a7a3acc2-4725-462f-a23a-ee7713b40f0a\",\"subtype\":\"Figure\",\"type\":\"Plot\"},{\"id\":\"432199f7-21cd-4a58-8c82-c9c6b2711f19\",\"subtype\":\"Figure\",\"type\":\"Plot\"},{\"id\":\"39db79a3-ffc6-4a7d-8fa1-e3cf13357e63\",\"subtype\":\"Figure\",\"type\":\"Plot\"}]},\"id\":\"b17d1dab-2d92-4d93-8f94-1df46cd357ee\",\"type\":\"Row\"},{\"attributes\":{},\"id\":\"00870296-f64e-4b56-88e5-4f53948e4bf8\",\"type\":\"CategoricalTickFormatter\"},{\"attributes\":{},\"id\":\"c57bab60-944c-49e9-a133-4355e5d252ab\",\"type\":\"Selection\"},{\"attributes\":{\"source\":{\"id\":\"3133db15-3af0-4568-ae35-e3a226afebd3\",\"type\":\"ColumnDataSource\"}},\"id\":\"92bd80aa-ae2a-465e-b4e5-c1b5a109224a\",\"type\":\"CDSView\"},{\"attributes\":{\"children\":[{\"id\":\"d650b698-7c53-49cd-b967-eca4bb3e56a2\",\"type\":\"ToolbarBox\"},{\"id\":\"cf2b1825-c6d8-4d21-b7b2-10867eccfd4c\",\"type\":\"Column\"}]},\"id\":\"62cfe24c-d246-4313-a27d-3bd7a2925932\",\"type\":\"Column\"},{\"attributes\":{\"children\":[{\"id\":\"b17d1dab-2d92-4d93-8f94-1df46cd357ee\",\"type\":\"Row\"}]},\"id\":\"cf2b1825-c6d8-4d21-b7b2-10867eccfd4c\",\"type\":\"Column\"},{\"attributes\":{\"plot\":null,\"text\":\"SFC flux. CLIRAD - CRD.\"},\"id\":\"5493d1f9-5f56-4ad1-a1c0-e257c0fbf154\",\"type\":\"Title\"},{\"attributes\":{\"axis_label\":\"spectral band\",\"formatter\":{\"id\":\"df7230ae-cde0-43cf-8639-7f64e91f985d\",\"type\":\"CategoricalTickFormatter\"},\"plot\":{\"id\":\"432199f7-21cd-4a58-8c82-c9c6b2711f19\",\"subtype\":\"Figure\",\"type\":\"Plot\"},\"ticker\":{\"id\":\"0b9f71d5-c9b7-4d7e-9054-01694cfc29cf\",\"type\":\"CategoricalTicker\"}},\"id\":\"f775964c-00e0-4d61-8a99-266524d4c6ab\",\"type\":\"CategoricalAxis\"},{\"attributes\":{},\"id\":\"81159ce0-2f8a-4d80-9958-a390c191eb18\",\"type\":\"CategoricalScale\"},{\"attributes\":{\"callback\":null,\"data\":{\"band\":[\"7\"],\"flux\":{\"__ndarray__\":\"ADuJShu12D8=\",\"dtype\":\"float64\",\"shape\":[1]}},\"selected\":{\"id\":\"c35cb6dd-0e57-4fe5-9085-0f1e723e08bb\",\"type\":\"Selection\"},\"selection_policy\":{\"id\":\"88597500-8916-488a-88bc-37f81260277d\",\"type\":\"UnionRenderers\"}},\"id\":\"a5940710-1214-4fcb-bd3e-cfa126fd36ec\",\"type\":\"ColumnDataSource\"},{\"attributes\":{\"below\":[{\"id\":\"36669f7c-b75d-4a34-9632-1d67939bf358\",\"type\":\"CategoricalAxis\"}],\"left\":[{\"id\":\"701f4816-5566-4022-8bbb-3dd0b5e7320e\",\"type\":\"LinearAxis\"}],\"plot_height\":300,\"plot_width\":300,\"renderers\":[{\"id\":\"36669f7c-b75d-4a34-9632-1d67939bf358\",\"type\":\"CategoricalAxis\"},{\"id\":\"dde1c832-01f6-4b21-96ac-d0a04a9e9114\",\"type\":\"Grid\"},{\"id\":\"701f4816-5566-4022-8bbb-3dd0b5e7320e\",\"type\":\"LinearAxis\"},{\"id\":\"1a594377-e54a-47e1-8e2c-18d3462a2658\",\"type\":\"Grid\"},{\"id\":\"8ca560cc-99e2-4714-b8f8-081bb3fc17e3\",\"type\":\"BoxAnnotation\"},{\"id\":\"26cefbb0-6b31-4e6e-8d98-67712b957705\",\"type\":\"GlyphRenderer\"}],\"title\":{\"id\":\"95fbad4b-f5fb-41bb-9492-302e96dd516e\",\"type\":\"Title\"},\"toolbar\":{\"id\":\"ddafccb8-37a8-4986-8956-5588e477830c\",\"type\":\"Toolbar\"},\"toolbar_location\":null,\"x_range\":{\"id\":\"8ee37a06-7d52-4db3-98a6-e14b4407dac4\",\"type\":\"FactorRange\"},\"x_scale\":{\"id\":\"074e4f50-51b0-4370-97c3-752fd18c491e\",\"type\":\"CategoricalScale\"},\"y_range\":{\"id\":\"92c7c3bd-104c-4fb8-b67d-630472b871aa\",\"type\":\"DataRange1d\"},\"y_scale\":{\"id\":\"70c9fc5a-3344-491f-8db9-2181fcf0b8f1\",\"type\":\"LinearScale\"}},\"id\":\"39db79a3-ffc6-4a7d-8fa1-e3cf13357e63\",\"subtype\":\"Figure\",\"type\":\"Plot\"},{\"attributes\":{\"callback\":null},\"id\":\"92c7c3bd-104c-4fb8-b67d-630472b871aa\",\"type\":\"DataRange1d\"},{\"attributes\":{\"callback\":null,\"data\":{\"band\":[\"7\"],\"flux\":{\"__ndarray__\":\"AGzvFvLPwb8=\",\"dtype\":\"float64\",\"shape\":[1]}},\"selected\":{\"id\":\"c57bab60-944c-49e9-a133-4355e5d252ab\",\"type\":\"Selection\"},\"selection_policy\":{\"id\":\"56dc3359-ef8e-43b1-a89e-21bc1949cc9b\",\"type\":\"UnionRenderers\"}},\"id\":\"b5191562-61b1-4248-9c4a-5967c234ee8d\",\"type\":\"ColumnDataSource\"},{\"attributes\":{\"callback\":null,\"factors\":[\"7\"]},\"id\":\"8ee37a06-7d52-4db3-98a6-e14b4407dac4\",\"type\":\"FactorRange\"},{\"attributes\":{\"callback\":null,\"data\":{\"band\":[\"7\"],\"flux\":{\"__ndarray__\":\"gCIe5FCazz8=\",\"dtype\":\"float64\",\"shape\":[1]}},\"selected\":{\"id\":\"43800b0a-19ae-4836-8060-f25ec7dc3ff9\",\"type\":\"Selection\"},\"selection_policy\":{\"id\":\"48caa66c-cb03-401a-9f36-ab9ed062948c\",\"type\":\"UnionRenderers\"}},\"id\":\"3133db15-3af0-4568-ae35-e3a226afebd3\",\"type\":\"ColumnDataSource\"},{\"attributes\":{\"active_drag\":\"auto\",\"active_inspect\":\"auto\",\"active_scroll\":\"auto\",\"active_tap\":\"auto\",\"tools\":[{\"id\":\"21171992-f4d3-4bb5-a6b9-b4821519832a\",\"type\":\"PanTool\"},{\"id\":\"9de02e5b-6982-44c1-bd05-60a53a185f24\",\"type\":\"WheelZoomTool\"},{\"id\":\"1bd5e091-9368-4511-9122-9d54b80d597a\",\"type\":\"BoxZoomTool\"},{\"id\":\"ea8a0355-0f6f-456d-aff2-40d43c6a847a\",\"type\":\"SaveTool\"},{\"id\":\"b5210b5f-2ca9-4eac-bcff-2ea8b70044d7\",\"type\":\"ResetTool\"},{\"id\":\"2349e31a-31bb-40b8-bd6a-8df62df05ef9\",\"type\":\"HelpTool\"}]},\"id\":\"ddafccb8-37a8-4986-8956-5588e477830c\",\"type\":\"Toolbar\"},{\"attributes\":{},\"id\":\"0b9f71d5-c9b7-4d7e-9054-01694cfc29cf\",\"type\":\"CategoricalTicker\"},{\"attributes\":{\"callback\":null},\"id\":\"4629c6b1-2d38-4ba5-beb4-0d6b239c75d5\",\"type\":\"DataRange1d\"},{\"attributes\":{},\"id\":\"88597500-8916-488a-88bc-37f81260277d\",\"type\":\"UnionRenderers\"},{\"attributes\":{\"below\":[{\"id\":\"f775964c-00e0-4d61-8a99-266524d4c6ab\",\"type\":\"CategoricalAxis\"}],\"left\":[{\"id\":\"a1d730eb-2b40-46b0-9184-2183a46d64db\",\"type\":\"LinearAxis\"}],\"plot_height\":300,\"plot_width\":300,\"renderers\":[{\"id\":\"f775964c-00e0-4d61-8a99-266524d4c6ab\",\"type\":\"CategoricalAxis\"},{\"id\":\"d91bc7a3-0140-423b-a21c-acc413952160\",\"type\":\"Grid\"},{\"id\":\"a1d730eb-2b40-46b0-9184-2183a46d64db\",\"type\":\"LinearAxis\"},{\"id\":\"b83f7668-8feb-4713-ae6c-705bafca245a\",\"type\":\"Grid\"},{\"id\":\"4555a2c0-c091-4182-b0e5-930daaea9d4b\",\"type\":\"BoxAnnotation\"},{\"id\":\"76142f29-4b04-4b2d-a740-9a2ae8b4bd8a\",\"type\":\"GlyphRenderer\"}],\"title\":{\"id\":\"5493d1f9-5f56-4ad1-a1c0-e257c0fbf154\",\"type\":\"Title\"},\"toolbar\":{\"id\":\"34e7fade-dfe5-4eef-988c-9ecea1a1cf7c\",\"type\":\"Toolbar\"},\"toolbar_location\":null,\"x_range\":{\"id\":\"16f4b6fe-41ab-4898-b35c-0cbb5f2a7412\",\"type\":\"FactorRange\"},\"x_scale\":{\"id\":\"81159ce0-2f8a-4d80-9958-a390c191eb18\",\"type\":\"CategoricalScale\"},\"y_range\":{\"id\":\"4629c6b1-2d38-4ba5-beb4-0d6b239c75d5\",\"type\":\"DataRange1d\"},\"y_scale\":{\"id\":\"9f98a13f-821c-4507-862b-89836c43f928\",\"type\":\"LinearScale\"}},\"id\":\"432199f7-21cd-4a58-8c82-c9c6b2711f19\",\"subtype\":\"Figure\",\"type\":\"Plot\"},{\"attributes\":{},\"id\":\"7498dcea-adcb-41e1-bb05-1cee45d79613\",\"type\":\"BasicTickFormatter\"}],\"root_ids\":[\"62cfe24c-d246-4313-a27d-3bd7a2925932\"]},\"title\":\"Bokeh Application\",\"version\":\"0.12.16\"}};\n",
       "  var render_items = [{\"docid\":\"d057cd63-2df2-41af-bb41-9d5bbd5f5c57\",\"elementid\":\"7ee8f991-3f50-4ca9-9c1e-872808a3ad49\",\"modelid\":\"62cfe24c-d246-4313-a27d-3bd7a2925932\"}];\n",
       "  root.Bokeh.embed.embed_items_notebook(docs_json, render_items);\n",
       "\n",
       "  }\n",
       "  if (root.Bokeh !== undefined) {\n",
       "    embed_document(root);\n",
       "  } else {\n",
       "    var attempts = 0;\n",
       "    var timer = setInterval(function(root) {\n",
       "      if (root.Bokeh !== undefined) {\n",
       "        embed_document(root);\n",
       "        clearInterval(timer);\n",
       "      }\n",
       "      attempts++;\n",
       "      if (attempts > 100) {\n",
       "        console.log(\"Bokeh: ERROR: Unable to run BokehJS code because BokehJS library is missing\")\n",
       "        clearInterval(timer);\n",
       "      }\n",
       "    }, 10, root)\n",
       "  }\n",
       "})(window);"
      ],
      "application/vnd.bokehjs_exec.v0+json": ""
     },
     "metadata": {
      "application/vnd.bokehjs_exec.v0+json": {
       "id": "62cfe24c-d246-4313-a27d-3bd7a2925932"
      }
     },
     "output_type": "display_data"
    },
    {
     "data": {
      "text/markdown": [
       "*FIGURE.* Difference between CLIRAD and CRD in TOA, SFC and net atmosphere flux, in each spectral band."
      ],
      "text/plain": [
       "<IPython.core.display.Markdown object>"
      ]
     },
     "metadata": {},
     "output_type": "display_data"
    },
    {
     "data": {
      "text/html": [
       "<div>\n",
       "<style scoped>\n",
       "    .dataframe tbody tr th:only-of-type {\n",
       "        vertical-align: middle;\n",
       "    }\n",
       "\n",
       "    .dataframe tbody tr th {\n",
       "        vertical-align: top;\n",
       "    }\n",
       "\n",
       "    .dataframe thead th {\n",
       "        text-align: right;\n",
       "    }\n",
       "</style>\n",
       "<table border=\"1\" class=\"dataframe\">\n",
       "  <thead>\n",
       "    <tr style=\"text-align: right;\">\n",
       "      <th></th>\n",
       "      <th></th>\n",
       "      <th>TOA up</th>\n",
       "      <th>SFC down</th>\n",
       "      <th>ATM heating</th>\n",
       "      <th>tropo up</th>\n",
       "      <th>tropo down</th>\n",
       "      <th>tropo net</th>\n",
       "    </tr>\n",
       "  </thead>\n",
       "  <tbody>\n",
       "    <tr>\n",
       "      <th rowspan=\"2\" valign=\"top\">Sum over band</th>\n",
       "      <th>CLIRAD - CRD</th>\n",
       "      <td>0.25</td>\n",
       "      <td>-0.14</td>\n",
       "      <td>0.39</td>\n",
       "      <td>-0.20</td>\n",
       "      <td>0.06</td>\n",
       "      <td>-0.14</td>\n",
       "    </tr>\n",
       "    <tr>\n",
       "      <th>CRD</th>\n",
       "      <td>-27.01</td>\n",
       "      <td>3.57</td>\n",
       "      <td>4.14</td>\n",
       "      <td>-31.61</td>\n",
       "      <td>1.22</td>\n",
       "      <td>-30.39</td>\n",
       "    </tr>\n",
       "    <tr>\n",
       "      <th rowspan=\"2\" valign=\"top\">Band 7</th>\n",
       "      <th>CLIRAD - CRD</th>\n",
       "      <td>0.25</td>\n",
       "      <td>-0.14</td>\n",
       "      <td>0.39</td>\n",
       "      <td>-0.20</td>\n",
       "      <td>0.06</td>\n",
       "      <td>-0.14</td>\n",
       "    </tr>\n",
       "    <tr>\n",
       "      <th>CRD</th>\n",
       "      <td>-27.01</td>\n",
       "      <td>3.57</td>\n",
       "      <td>4.14</td>\n",
       "      <td>-31.61</td>\n",
       "      <td>1.22</td>\n",
       "      <td>-30.39</td>\n",
       "    </tr>\n",
       "  </tbody>\n",
       "</table>\n",
       "</div>"
      ],
      "text/plain": [
       "                            TOA up  SFC down  ATM heating  tropo up  \\\n",
       "Sum over band CLIRAD - CRD    0.25     -0.14         0.39     -0.20   \n",
       "              CRD           -27.01      3.57         4.14    -31.61   \n",
       "Band 7        CLIRAD - CRD    0.25     -0.14         0.39     -0.20   \n",
       "              CRD           -27.01      3.57         4.14    -31.61   \n",
       "\n",
       "                            tropo down  tropo net  \n",
       "Sum over band CLIRAD - CRD        0.06      -0.14  \n",
       "              CRD                 1.22     -30.39  \n",
       "Band 7        CLIRAD - CRD        0.06      -0.14  \n",
       "              CRD                 1.22     -30.39  "
      ]
     },
     "metadata": {},
     "output_type": "display_data"
    },
    {
     "data": {
      "text/markdown": [
       "*TABLE.* Difference between CLIRAD and CRD fluxes at various atmosphere levels."
      ],
      "text/plain": [
       "<IPython.core.display.Markdown object>"
      ]
     },
     "metadata": {},
     "output_type": "display_data"
    }
   ],
   "source": [
    "script()"
   ]
  },
  {
   "cell_type": "markdown",
   "metadata": {},
   "source": [
    "## --"
   ]
  },
  {
   "cell_type": "code",
   "execution_count": 56,
   "metadata": {},
   "outputs": [
    {
     "data": {
      "text/html": [
       "<script>\n",
       "code_show=true; \n",
       "function code_toggle() {\n",
       " if (code_show){\n",
       " $('div.input').hide();\n",
       " } else {\n",
       " $('div.input').show();\n",
       " }\n",
       " code_show = !code_show\n",
       "} \n",
       "$( document ).ready(code_toggle);\n",
       "</script>\n",
       "<form action=\"javascript:code_toggle()\"><input type=\"submit\" value=\"Click here to toggle on/off the raw code.\"></form>"
      ],
      "text/plain": [
       "<IPython.core.display.HTML object>"
      ]
     },
     "execution_count": 56,
     "metadata": {},
     "output_type": "execute_result"
    }
   ],
   "source": [
    "display.HTML('''<script>\n",
    "code_show=true; \n",
    "function code_toggle() {\n",
    " if (code_show){\n",
    " $('div.input').hide();\n",
    " } else {\n",
    " $('div.input').show();\n",
    " }\n",
    " code_show = !code_show\n",
    "} \n",
    "$( document ).ready(code_toggle);\n",
    "</script>\n",
    "<form action=\"javascript:code_toggle()\"><input type=\"submit\" value=\"Click here to toggle on/off the raw code.\"></form>''')"
   ]
  },
  {
   "cell_type": "code",
   "execution_count": null,
   "metadata": {
    "collapsed": true
   },
   "outputs": [],
   "source": []
  }
 ],
 "metadata": {
  "kernelspec": {
   "display_name": "Python 3",
   "language": "python",
   "name": "python3"
  },
  "language_info": {
   "codemirror_mode": {
    "name": "ipython",
    "version": 3
   },
   "file_extension": ".py",
   "mimetype": "text/x-python",
   "name": "python",
   "nbconvert_exporter": "python",
   "pygments_lexer": "ipython3",
   "version": "3.6.7"
  }
 },
 "nbformat": 4,
 "nbformat_minor": 2
}
