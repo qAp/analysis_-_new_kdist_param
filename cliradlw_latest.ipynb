{
 "cells": [
  {
   "cell_type": "code",
   "execution_count": 1,
   "metadata": {},
   "outputs": [
    {
     "data": {
      "text/html": [
       "\n",
       "    <div class=\"bk-root\">\n",
       "        <a href=\"https://bokeh.pydata.org\" target=\"_blank\" class=\"bk-logo bk-logo-small bk-logo-notebook\"></a>\n",
       "        <span id=\"f6734e8f-e7a0-4dde-bd40-93052982c6fd\">Loading BokehJS ...</span>\n",
       "    </div>"
      ]
     },
     "metadata": {},
     "output_type": "display_data"
    },
    {
     "data": {
      "application/javascript": [
       "\n",
       "(function(root) {\n",
       "  function now() {\n",
       "    return new Date();\n",
       "  }\n",
       "\n",
       "  var force = true;\n",
       "\n",
       "  if (typeof (root._bokeh_onload_callbacks) === \"undefined\" || force === true) {\n",
       "    root._bokeh_onload_callbacks = [];\n",
       "    root._bokeh_is_loading = undefined;\n",
       "  }\n",
       "\n",
       "  var JS_MIME_TYPE = 'application/javascript';\n",
       "  var HTML_MIME_TYPE = 'text/html';\n",
       "  var EXEC_MIME_TYPE = 'application/vnd.bokehjs_exec.v0+json';\n",
       "  var CLASS_NAME = 'output_bokeh rendered_html';\n",
       "\n",
       "  /**\n",
       "   * Render data to the DOM node\n",
       "   */\n",
       "  function render(props, node) {\n",
       "    var script = document.createElement(\"script\");\n",
       "    node.appendChild(script);\n",
       "  }\n",
       "\n",
       "  /**\n",
       "   * Handle when an output is cleared or removed\n",
       "   */\n",
       "  function handleClearOutput(event, handle) {\n",
       "    var cell = handle.cell;\n",
       "\n",
       "    var id = cell.output_area._bokeh_element_id;\n",
       "    var server_id = cell.output_area._bokeh_server_id;\n",
       "    // Clean up Bokeh references\n",
       "    if (id !== undefined) {\n",
       "      Bokeh.index[id].model.document.clear();\n",
       "      delete Bokeh.index[id];\n",
       "    }\n",
       "\n",
       "    if (server_id !== undefined) {\n",
       "      // Clean up Bokeh references\n",
       "      var cmd = \"from bokeh.io.state import curstate; print(curstate().uuid_to_server['\" + server_id + \"'].get_sessions()[0].document.roots[0]._id)\";\n",
       "      cell.notebook.kernel.execute(cmd, {\n",
       "        iopub: {\n",
       "          output: function(msg) {\n",
       "            var element_id = msg.content.text.trim();\n",
       "            Bokeh.index[element_id].model.document.clear();\n",
       "            delete Bokeh.index[element_id];\n",
       "          }\n",
       "        }\n",
       "      });\n",
       "      // Destroy server and session\n",
       "      var cmd = \"import bokeh.io.notebook as ion; ion.destroy_server('\" + server_id + \"')\";\n",
       "      cell.notebook.kernel.execute(cmd);\n",
       "    }\n",
       "  }\n",
       "\n",
       "  /**\n",
       "   * Handle when a new output is added\n",
       "   */\n",
       "  function handleAddOutput(event, handle) {\n",
       "    var output_area = handle.output_area;\n",
       "    var output = handle.output;\n",
       "\n",
       "    // limit handleAddOutput to display_data with EXEC_MIME_TYPE content only\n",
       "    if ((output.output_type != \"display_data\") || (!output.data.hasOwnProperty(EXEC_MIME_TYPE))) {\n",
       "      return\n",
       "    }\n",
       "\n",
       "    var toinsert = output_area.element.find(\".\" + CLASS_NAME.split(' ')[0]);\n",
       "\n",
       "    if (output.metadata[EXEC_MIME_TYPE][\"id\"] !== undefined) {\n",
       "      toinsert[toinsert.length - 1].firstChild.textContent = output.data[JS_MIME_TYPE];\n",
       "      // store reference to embed id on output_area\n",
       "      output_area._bokeh_element_id = output.metadata[EXEC_MIME_TYPE][\"id\"];\n",
       "    }\n",
       "    if (output.metadata[EXEC_MIME_TYPE][\"server_id\"] !== undefined) {\n",
       "      var bk_div = document.createElement(\"div\");\n",
       "      bk_div.innerHTML = output.data[HTML_MIME_TYPE];\n",
       "      var script_attrs = bk_div.children[0].attributes;\n",
       "      for (var i = 0; i < script_attrs.length; i++) {\n",
       "        toinsert[toinsert.length - 1].firstChild.setAttribute(script_attrs[i].name, script_attrs[i].value);\n",
       "      }\n",
       "      // store reference to server id on output_area\n",
       "      output_area._bokeh_server_id = output.metadata[EXEC_MIME_TYPE][\"server_id\"];\n",
       "    }\n",
       "  }\n",
       "\n",
       "  function register_renderer(events, OutputArea) {\n",
       "\n",
       "    function append_mime(data, metadata, element) {\n",
       "      // create a DOM node to render to\n",
       "      var toinsert = this.create_output_subarea(\n",
       "        metadata,\n",
       "        CLASS_NAME,\n",
       "        EXEC_MIME_TYPE\n",
       "      );\n",
       "      this.keyboard_manager.register_events(toinsert);\n",
       "      // Render to node\n",
       "      var props = {data: data, metadata: metadata[EXEC_MIME_TYPE]};\n",
       "      render(props, toinsert[toinsert.length - 1]);\n",
       "      element.append(toinsert);\n",
       "      return toinsert\n",
       "    }\n",
       "\n",
       "    /* Handle when an output is cleared or removed */\n",
       "    events.on('clear_output.CodeCell', handleClearOutput);\n",
       "    events.on('delete.Cell', handleClearOutput);\n",
       "\n",
       "    /* Handle when a new output is added */\n",
       "    events.on('output_added.OutputArea', handleAddOutput);\n",
       "\n",
       "    /**\n",
       "     * Register the mime type and append_mime function with output_area\n",
       "     */\n",
       "    OutputArea.prototype.register_mime_type(EXEC_MIME_TYPE, append_mime, {\n",
       "      /* Is output safe? */\n",
       "      safe: true,\n",
       "      /* Index of renderer in `output_area.display_order` */\n",
       "      index: 0\n",
       "    });\n",
       "  }\n",
       "\n",
       "  // register the mime type if in Jupyter Notebook environment and previously unregistered\n",
       "  if (root.Jupyter !== undefined) {\n",
       "    var events = require('base/js/events');\n",
       "    var OutputArea = require('notebook/js/outputarea').OutputArea;\n",
       "\n",
       "    if (OutputArea.prototype.mime_types().indexOf(EXEC_MIME_TYPE) == -1) {\n",
       "      register_renderer(events, OutputArea);\n",
       "    }\n",
       "  }\n",
       "\n",
       "  \n",
       "  if (typeof (root._bokeh_timeout) === \"undefined\" || force === true) {\n",
       "    root._bokeh_timeout = Date.now() + 5000;\n",
       "    root._bokeh_failed_load = false;\n",
       "  }\n",
       "\n",
       "  var NB_LOAD_WARNING = {'data': {'text/html':\n",
       "     \"<div style='background-color: #fdd'>\\n\"+\n",
       "     \"<p>\\n\"+\n",
       "     \"BokehJS does not appear to have successfully loaded. If loading BokehJS from CDN, this \\n\"+\n",
       "     \"may be due to a slow or bad network connection. Possible fixes:\\n\"+\n",
       "     \"</p>\\n\"+\n",
       "     \"<ul>\\n\"+\n",
       "     \"<li>re-rerun `output_notebook()` to attempt to load from CDN again, or</li>\\n\"+\n",
       "     \"<li>use INLINE resources instead, as so:</li>\\n\"+\n",
       "     \"</ul>\\n\"+\n",
       "     \"<code>\\n\"+\n",
       "     \"from bokeh.resources import INLINE\\n\"+\n",
       "     \"output_notebook(resources=INLINE)\\n\"+\n",
       "     \"</code>\\n\"+\n",
       "     \"</div>\"}};\n",
       "\n",
       "  function display_loaded() {\n",
       "    var el = document.getElementById(\"f6734e8f-e7a0-4dde-bd40-93052982c6fd\");\n",
       "    if (el != null) {\n",
       "      el.textContent = \"BokehJS is loading...\";\n",
       "    }\n",
       "    if (root.Bokeh !== undefined) {\n",
       "      if (el != null) {\n",
       "        el.textContent = \"BokehJS \" + root.Bokeh.version + \" successfully loaded.\";\n",
       "      }\n",
       "    } else if (Date.now() < root._bokeh_timeout) {\n",
       "      setTimeout(display_loaded, 100)\n",
       "    }\n",
       "  }\n",
       "\n",
       "\n",
       "  function run_callbacks() {\n",
       "    try {\n",
       "      root._bokeh_onload_callbacks.forEach(function(callback) { callback() });\n",
       "    }\n",
       "    finally {\n",
       "      delete root._bokeh_onload_callbacks\n",
       "    }\n",
       "    console.info(\"Bokeh: all callbacks have finished\");\n",
       "  }\n",
       "\n",
       "  function load_libs(js_urls, callback) {\n",
       "    root._bokeh_onload_callbacks.push(callback);\n",
       "    if (root._bokeh_is_loading > 0) {\n",
       "      console.log(\"Bokeh: BokehJS is being loaded, scheduling callback at\", now());\n",
       "      return null;\n",
       "    }\n",
       "    if (js_urls == null || js_urls.length === 0) {\n",
       "      run_callbacks();\n",
       "      return null;\n",
       "    }\n",
       "    console.log(\"Bokeh: BokehJS not loaded, scheduling load and callback at\", now());\n",
       "    root._bokeh_is_loading = js_urls.length;\n",
       "    for (var i = 0; i < js_urls.length; i++) {\n",
       "      var url = js_urls[i];\n",
       "      var s = document.createElement('script');\n",
       "      s.src = url;\n",
       "      s.async = false;\n",
       "      s.onreadystatechange = s.onload = function() {\n",
       "        root._bokeh_is_loading--;\n",
       "        if (root._bokeh_is_loading === 0) {\n",
       "          console.log(\"Bokeh: all BokehJS libraries loaded\");\n",
       "          run_callbacks()\n",
       "        }\n",
       "      };\n",
       "      s.onerror = function() {\n",
       "        console.warn(\"failed to load library \" + url);\n",
       "      };\n",
       "      console.log(\"Bokeh: injecting script tag for BokehJS library: \", url);\n",
       "      document.getElementsByTagName(\"head\")[0].appendChild(s);\n",
       "    }\n",
       "  };var element = document.getElementById(\"f6734e8f-e7a0-4dde-bd40-93052982c6fd\");\n",
       "  if (element == null) {\n",
       "    console.log(\"Bokeh: ERROR: autoload.js configured with elementid 'f6734e8f-e7a0-4dde-bd40-93052982c6fd' but no matching script tag was found. \")\n",
       "    return false;\n",
       "  }\n",
       "\n",
       "  var js_urls = [\"https://cdn.pydata.org/bokeh/release/bokeh-0.12.16.min.js\", \"https://cdn.pydata.org/bokeh/release/bokeh-widgets-0.12.16.min.js\", \"https://cdn.pydata.org/bokeh/release/bokeh-tables-0.12.16.min.js\", \"https://cdn.pydata.org/bokeh/release/bokeh-gl-0.12.16.min.js\"];\n",
       "\n",
       "  var inline_js = [\n",
       "    function(Bokeh) {\n",
       "      Bokeh.set_log_level(\"info\");\n",
       "    },\n",
       "    \n",
       "    function(Bokeh) {\n",
       "      \n",
       "    },\n",
       "    function(Bokeh) {\n",
       "      console.log(\"Bokeh: injecting CSS: https://cdn.pydata.org/bokeh/release/bokeh-0.12.16.min.css\");\n",
       "      Bokeh.embed.inject_css(\"https://cdn.pydata.org/bokeh/release/bokeh-0.12.16.min.css\");\n",
       "      console.log(\"Bokeh: injecting CSS: https://cdn.pydata.org/bokeh/release/bokeh-widgets-0.12.16.min.css\");\n",
       "      Bokeh.embed.inject_css(\"https://cdn.pydata.org/bokeh/release/bokeh-widgets-0.12.16.min.css\");\n",
       "      console.log(\"Bokeh: injecting CSS: https://cdn.pydata.org/bokeh/release/bokeh-tables-0.12.16.min.css\");\n",
       "      Bokeh.embed.inject_css(\"https://cdn.pydata.org/bokeh/release/bokeh-tables-0.12.16.min.css\");\n",
       "    }\n",
       "  ];\n",
       "\n",
       "  function run_inline_js() {\n",
       "    \n",
       "    if ((root.Bokeh !== undefined) || (force === true)) {\n",
       "      for (var i = 0; i < inline_js.length; i++) {\n",
       "        inline_js[i].call(root, root.Bokeh);\n",
       "      }if (force === true) {\n",
       "        display_loaded();\n",
       "      }} else if (Date.now() < root._bokeh_timeout) {\n",
       "      setTimeout(run_inline_js, 100);\n",
       "    } else if (!root._bokeh_failed_load) {\n",
       "      console.log(\"Bokeh: BokehJS failed to load within specified timeout.\");\n",
       "      root._bokeh_failed_load = true;\n",
       "    } else if (force !== true) {\n",
       "      var cell = $(document.getElementById(\"f6734e8f-e7a0-4dde-bd40-93052982c6fd\")).parents('.cell').data().cell;\n",
       "      cell.output_area.append_execute_result(NB_LOAD_WARNING)\n",
       "    }\n",
       "\n",
       "  }\n",
       "\n",
       "  if (root._bokeh_is_loading === 0) {\n",
       "    console.log(\"Bokeh: BokehJS loaded, going straight to plotting\");\n",
       "    run_inline_js();\n",
       "  } else {\n",
       "    load_libs(js_urls, function() {\n",
       "      console.log(\"Bokeh: BokehJS plotting callback run at\", now());\n",
       "      run_inline_js();\n",
       "    });\n",
       "  }\n",
       "}(window));"
      ],
      "application/vnd.bokehjs_load.v0+json": "\n(function(root) {\n  function now() {\n    return new Date();\n  }\n\n  var force = true;\n\n  if (typeof (root._bokeh_onload_callbacks) === \"undefined\" || force === true) {\n    root._bokeh_onload_callbacks = [];\n    root._bokeh_is_loading = undefined;\n  }\n\n  \n\n  \n  if (typeof (root._bokeh_timeout) === \"undefined\" || force === true) {\n    root._bokeh_timeout = Date.now() + 5000;\n    root._bokeh_failed_load = false;\n  }\n\n  var NB_LOAD_WARNING = {'data': {'text/html':\n     \"<div style='background-color: #fdd'>\\n\"+\n     \"<p>\\n\"+\n     \"BokehJS does not appear to have successfully loaded. If loading BokehJS from CDN, this \\n\"+\n     \"may be due to a slow or bad network connection. Possible fixes:\\n\"+\n     \"</p>\\n\"+\n     \"<ul>\\n\"+\n     \"<li>re-rerun `output_notebook()` to attempt to load from CDN again, or</li>\\n\"+\n     \"<li>use INLINE resources instead, as so:</li>\\n\"+\n     \"</ul>\\n\"+\n     \"<code>\\n\"+\n     \"from bokeh.resources import INLINE\\n\"+\n     \"output_notebook(resources=INLINE)\\n\"+\n     \"</code>\\n\"+\n     \"</div>\"}};\n\n  function display_loaded() {\n    var el = document.getElementById(\"f6734e8f-e7a0-4dde-bd40-93052982c6fd\");\n    if (el != null) {\n      el.textContent = \"BokehJS is loading...\";\n    }\n    if (root.Bokeh !== undefined) {\n      if (el != null) {\n        el.textContent = \"BokehJS \" + root.Bokeh.version + \" successfully loaded.\";\n      }\n    } else if (Date.now() < root._bokeh_timeout) {\n      setTimeout(display_loaded, 100)\n    }\n  }\n\n\n  function run_callbacks() {\n    try {\n      root._bokeh_onload_callbacks.forEach(function(callback) { callback() });\n    }\n    finally {\n      delete root._bokeh_onload_callbacks\n    }\n    console.info(\"Bokeh: all callbacks have finished\");\n  }\n\n  function load_libs(js_urls, callback) {\n    root._bokeh_onload_callbacks.push(callback);\n    if (root._bokeh_is_loading > 0) {\n      console.log(\"Bokeh: BokehJS is being loaded, scheduling callback at\", now());\n      return null;\n    }\n    if (js_urls == null || js_urls.length === 0) {\n      run_callbacks();\n      return null;\n    }\n    console.log(\"Bokeh: BokehJS not loaded, scheduling load and callback at\", now());\n    root._bokeh_is_loading = js_urls.length;\n    for (var i = 0; i < js_urls.length; i++) {\n      var url = js_urls[i];\n      var s = document.createElement('script');\n      s.src = url;\n      s.async = false;\n      s.onreadystatechange = s.onload = function() {\n        root._bokeh_is_loading--;\n        if (root._bokeh_is_loading === 0) {\n          console.log(\"Bokeh: all BokehJS libraries loaded\");\n          run_callbacks()\n        }\n      };\n      s.onerror = function() {\n        console.warn(\"failed to load library \" + url);\n      };\n      console.log(\"Bokeh: injecting script tag for BokehJS library: \", url);\n      document.getElementsByTagName(\"head\")[0].appendChild(s);\n    }\n  };var element = document.getElementById(\"f6734e8f-e7a0-4dde-bd40-93052982c6fd\");\n  if (element == null) {\n    console.log(\"Bokeh: ERROR: autoload.js configured with elementid 'f6734e8f-e7a0-4dde-bd40-93052982c6fd' but no matching script tag was found. \")\n    return false;\n  }\n\n  var js_urls = [\"https://cdn.pydata.org/bokeh/release/bokeh-0.12.16.min.js\", \"https://cdn.pydata.org/bokeh/release/bokeh-widgets-0.12.16.min.js\", \"https://cdn.pydata.org/bokeh/release/bokeh-tables-0.12.16.min.js\", \"https://cdn.pydata.org/bokeh/release/bokeh-gl-0.12.16.min.js\"];\n\n  var inline_js = [\n    function(Bokeh) {\n      Bokeh.set_log_level(\"info\");\n    },\n    \n    function(Bokeh) {\n      \n    },\n    function(Bokeh) {\n      console.log(\"Bokeh: injecting CSS: https://cdn.pydata.org/bokeh/release/bokeh-0.12.16.min.css\");\n      Bokeh.embed.inject_css(\"https://cdn.pydata.org/bokeh/release/bokeh-0.12.16.min.css\");\n      console.log(\"Bokeh: injecting CSS: https://cdn.pydata.org/bokeh/release/bokeh-widgets-0.12.16.min.css\");\n      Bokeh.embed.inject_css(\"https://cdn.pydata.org/bokeh/release/bokeh-widgets-0.12.16.min.css\");\n      console.log(\"Bokeh: injecting CSS: https://cdn.pydata.org/bokeh/release/bokeh-tables-0.12.16.min.css\");\n      Bokeh.embed.inject_css(\"https://cdn.pydata.org/bokeh/release/bokeh-tables-0.12.16.min.css\");\n    }\n  ];\n\n  function run_inline_js() {\n    \n    if ((root.Bokeh !== undefined) || (force === true)) {\n      for (var i = 0; i < inline_js.length; i++) {\n        inline_js[i].call(root, root.Bokeh);\n      }if (force === true) {\n        display_loaded();\n      }} else if (Date.now() < root._bokeh_timeout) {\n      setTimeout(run_inline_js, 100);\n    } else if (!root._bokeh_failed_load) {\n      console.log(\"Bokeh: BokehJS failed to load within specified timeout.\");\n      root._bokeh_failed_load = true;\n    } else if (force !== true) {\n      var cell = $(document.getElementById(\"f6734e8f-e7a0-4dde-bd40-93052982c6fd\")).parents('.cell').data().cell;\n      cell.output_area.append_execute_result(NB_LOAD_WARNING)\n    }\n\n  }\n\n  if (root._bokeh_is_loading === 0) {\n    console.log(\"Bokeh: BokehJS loaded, going straight to plotting\");\n    run_inline_js();\n  } else {\n    load_libs(js_urls, function() {\n      console.log(\"Bokeh: BokehJS plotting callback run at\", now());\n      run_inline_js();\n    });\n  }\n}(window));"
     },
     "metadata": {},
     "output_type": "display_data"
    }
   ],
   "source": [
    "%reload_ext autoreload\n",
    "%autoreload 2\n",
    "%matplotlib inline\n",
    "from IPython import display\n",
    "import pymongo\n",
    "import random\n",
    "import numpy as np\n",
    "from bokeh.io import output_notebook\n",
    "from climatools.cliradlw.cliradlw_latest import *\n",
    "from climatools.html.html import *\n",
    "output_notebook()\n",
    "pd.set_option('max_colwidth', -1)"
   ]
  },
  {
   "cell_type": "code",
   "execution_count": 2,
   "metadata": {
    "collapsed": true
   },
   "outputs": [],
   "source": [
    "CLIENT = pymongo.MongoClient(host='localhost', port=27017)"
   ]
  },
  {
   "cell_type": "code",
   "execution_count": 3,
   "metadata": {
    "collapsed": true
   },
   "outputs": [],
   "source": [
    "LINKS = pd.DataFrame()"
   ]
  },
  {
   "cell_type": "code",
   "execution_count": 4,
   "metadata": {},
   "outputs": [],
   "source": [
    "def markdown_anchor(dlbl=None, dcli=None, link=None):  \n",
    "    band, molecule, atmpro = [dcli.param.get(p) for p in ('band', 'molecule', 'atmpro')]\n",
    "    s_band = f'''{band}'''                                                      \n",
    "    s_conc = f'''{molecule}'''                                                                       \n",
    "    s_atmpro = f'''{atmpro}'''                                                                       \n",
    "    s = f'{s_band} {s_conc} {s_atmpro}'                                             \n",
    "    s_anchor = ''.join(list(np.random.choice(range(9), 11).astype(str)))\n",
    "    \n",
    "    if isinstance(link, pd.DataFrame):\n",
    "        id_anchor = f'''<a id=\"{s_anchor}\"></a>'''\n",
    "        href_anchor = f'''<a href=\"#{s_anchor}\">{atmpro}</a>'''\n",
    "        print(s_anchor)\n",
    "        print(id_anchor)\n",
    "        print(href_anchor)\n",
    "        display.display(display.Markdown(id_anchor))\n",
    "        display.display(display.Markdown(s))\n",
    "        try:\n",
    "            print(':O')\n",
    "            print(molecule, band, href_anchor)\n",
    "            link.loc[f\"{molecule}\", f\"{band}\"] = link.loc[f\"{molecule}\", f\"{band}\"] + (' ' + href_anchor)\n",
    "        except KeyError:\n",
    "            link.loc[f\"{molecule}\", f\"{band}\"] = href_anchor\n",
    "    else:\n",
    "        display.display(display.Markdown(s))\n",
    "\n",
    "def show_results(dlbl=None, dcli=None, link=None):                                                                            \n",
    "    display.display(display.Markdown('-----------------------------'))                                             \n",
    "    markdown_anchor(dlbl=dlbl, dcli=dcli, link=link)                                                                                                                                                          \n",
    "    # Parameters                                                                                                   \n",
    "    show_parameters(dlbl=dlbl, dcli=dcli)                                                                                                                                                                          \n",
    "    # Plot cooling rate profiles                                                                                   \n",
    "    show_cools(dlbl=dlbl, dcli=dcli)                                                                                                                                                                                      \n",
    "    display.display(display.Markdown('--------------------------'))"
   ]
  },
  {
   "cell_type": "code",
   "execution_count": 28,
   "metadata": {},
   "outputs": [
    {
     "data": {
      "text/html": [
       "<table border=\"1\" class=\"dataframe\">\n",
       "  <thead>\n",
       "    <tr style=\"text-align: right;\">\n",
       "      <th></th>\n",
       "      <th>[3]</th>\n",
       "      <th>[4]</th>\n",
       "    </tr>\n",
       "  </thead>\n",
       "  <tbody>\n",
       "    <tr>\n",
       "      <th>{'co2': 0.0008}</th>\n",
       "      <td><a href=\"#08138157864\">mls</a></td>\n",
       "      <td><a href=\"#01880782230\">mls</a></td>\n",
       "    </tr>\n",
       "  </tbody>\n",
       "</table>"
      ],
      "text/plain": [
       "<IPython.core.display.HTML object>"
      ]
     },
     "metadata": {},
     "output_type": "display_data"
    }
   ],
   "source": [
    "display.display(display.HTML(LINKS.fillna('').to_html(escape=False)))"
   ]
  },
  {
   "cell_type": "markdown",
   "metadata": {},
   "source": [
    "# 2 x $CO_2$"
   ]
  },
  {
   "cell_type": "code",
   "execution_count": 6,
   "metadata": {
    "collapsed": true
   },
   "outputs": [],
   "source": [
    "MOL = 'co2'\n",
    "CONC = 2 * 400e-6\n",
    "COMMITNUMBER = '1013f91'\n",
    "NV, DV = 1000, .001\n",
    "ATMPRO = dict(mls=294, saw=257, trp=300)"
   ]
  },
  {
   "cell_type": "markdown",
   "metadata": {},
   "source": [
    "## Atmosphere compositions\n",
    "\n",
    "We first set the concentration of CO2 to that double of the usual 4e-6 ppmv.  Then we split the overall composition into those where CO2 overlaps with other gases and those where only CO2 is present."
   ]
  },
  {
   "cell_type": "code",
   "execution_count": 7,
   "metadata": {
    "collapsed": true
   },
   "outputs": [],
   "source": [
    "atmcomp = AtmComposition.cliradlw_nongreys()\n",
    "atmcomp.gasconcs['co2'] = CONC\n",
    "atmcomp.gasinbands = {b:gs for b, gs in atmcomp.gasinbands.items() if MOL in gs}"
   ]
  },
  {
   "cell_type": "code",
   "execution_count": 8,
   "metadata": {
    "collapsed": true
   },
   "outputs": [],
   "source": [
    "atmcomps_olp = [AtmComposition(gasconcs=atmcomp.gasconcs, gasinbands={b: gs}) \n",
    "                for b, gs in atmcomp.gasinbands.items() if len(gs) > 1]"
   ]
  },
  {
   "cell_type": "code",
   "execution_count": 9,
   "metadata": {
    "collapsed": true
   },
   "outputs": [],
   "source": [
    "atmcomps_bft = [AtmComposition(gasconcs=atmcomp.gasconcs, gasinbands={b:[MOL]}) for b, _ in atmcomp.gasinbands.items()]"
   ]
  },
  {
   "cell_type": "code",
   "execution_count": 10,
   "metadata": {
    "collapsed": true
   },
   "outputs": [],
   "source": [
    "## CO2 only case"
   ]
  },
  {
   "cell_type": "code",
   "execution_count": 20,
   "metadata": {
    "collapsed": true
   },
   "outputs": [],
   "source": [
    "atmpro = 'mls'"
   ]
  },
  {
   "cell_type": "code",
   "execution_count": 21,
   "metadata": {
    "collapsed": true
   },
   "outputs": [],
   "source": [
    "atmbft = atmcomps_bft[1]"
   ]
  },
  {
   "cell_type": "code",
   "execution_count": 22,
   "metadata": {
    "collapsed": true
   },
   "outputs": [],
   "source": [
    "parm_cli = atmbft.to_cliradparam(commitnumber=COMMITNUMBER, atmpro=atmpro, tsfc=ATMPRO[atmpro])"
   ]
  },
  {
   "cell_type": "code",
   "execution_count": 23,
   "metadata": {
    "collapsed": true
   },
   "outputs": [],
   "source": [
    "data_cli = parm_cli.modeldata_pymongo(collection=CLIENT.cliradnew.lw)"
   ]
  },
  {
   "cell_type": "code",
   "execution_count": 24,
   "metadata": {
    "collapsed": true
   },
   "outputs": [],
   "source": [
    "parms_lbl = atmbft.to_lblnewparam(bestfit_values=True, atmpro=atmpro, tsfc=ATMPRO[atmpro], nv=NV, dv=DV)"
   ]
  },
  {
   "cell_type": "code",
   "execution_count": 25,
   "metadata": {},
   "outputs": [
    {
     "data": {
      "text/plain": [
       "['a22ab94']"
      ]
     },
     "execution_count": 25,
     "metadata": {},
     "output_type": "execute_result"
    }
   ],
   "source": [
    "parms_lbl[0].avail_commits(collection=CLIENT.lblnew.bestfit_lw)"
   ]
  },
  {
   "cell_type": "code",
   "execution_count": 26,
   "metadata": {
    "collapsed": true
   },
   "outputs": [],
   "source": [
    "data_lbl = parms_lbl[0].modeldata_pymongo(collection=CLIENT.lblnew.bestfit_lw)"
   ]
  },
  {
   "cell_type": "code",
   "execution_count": 27,
   "metadata": {},
   "outputs": [
    {
     "data": {
      "text/markdown": [
       "-----------------------------"
      ],
      "text/plain": [
       "<IPython.core.display.Markdown object>"
      ]
     },
     "metadata": {},
     "output_type": "display_data"
    },
    {
     "name": "stdout",
     "output_type": "stream",
     "text": [
      "01880782230\n",
      "<a id=\"01880782230\"></a>\n",
      "<a href=\"#01880782230\">mls</a>\n"
     ]
    },
    {
     "data": {
      "text/markdown": [
       "<a id=\"01880782230\"></a>"
      ],
      "text/plain": [
       "<IPython.core.display.Markdown object>"
      ]
     },
     "metadata": {},
     "output_type": "display_data"
    },
    {
     "data": {
      "text/markdown": [
       "[4] {'co2': 0.0008} mls"
      ],
      "text/plain": [
       "<IPython.core.display.Markdown object>"
      ]
     },
     "metadata": {},
     "output_type": "display_data"
    },
    {
     "name": "stdout",
     "output_type": "stream",
     "text": [
      ":O\n",
      "{'co2': 0.0008} [4] <a href=\"#01880782230\">mls</a>\n"
     ]
    },
    {
     "data": {
      "text/html": [
       "<div>\n",
       "<style scoped>\n",
       "    .dataframe tbody tr th:only-of-type {\n",
       "        vertical-align: middle;\n",
       "    }\n",
       "\n",
       "    .dataframe tbody tr th {\n",
       "        vertical-align: top;\n",
       "    }\n",
       "\n",
       "    .dataframe thead tr th {\n",
       "        text-align: left;\n",
       "    }\n",
       "</style>\n",
       "<table border=\"1\" class=\"dataframe\">\n",
       "  <thead>\n",
       "    <tr>\n",
       "      <th></th>\n",
       "      <th colspan=\"2\" halign=\"left\">Run parameters</th>\n",
       "      <th>Fit parameters</th>\n",
       "    </tr>\n",
       "    <tr>\n",
       "      <th></th>\n",
       "      <th>CLIRAD</th>\n",
       "      <th>LBLNEW</th>\n",
       "      <th>(co2, 3b)</th>\n",
       "    </tr>\n",
       "  </thead>\n",
       "  <tbody>\n",
       "    <tr>\n",
       "      <th>atmpro</th>\n",
       "      <td>mls</td>\n",
       "      <td>mls</td>\n",
       "      <td>mls</td>\n",
       "    </tr>\n",
       "    <tr>\n",
       "      <th>band</th>\n",
       "      <td>[4]</td>\n",
       "      <td>3b</td>\n",
       "      <td>3b</td>\n",
       "    </tr>\n",
       "    <tr>\n",
       "      <th>commitnumber</th>\n",
       "      <td>1013f91</td>\n",
       "      <td>a22ab94</td>\n",
       "      <td>a22ab94</td>\n",
       "    </tr>\n",
       "    <tr>\n",
       "      <th>conc</th>\n",
       "      <td>-</td>\n",
       "      <td>0.0008</td>\n",
       "      <td>0.0004</td>\n",
       "    </tr>\n",
       "    <tr>\n",
       "      <th>dv</th>\n",
       "      <td>-</td>\n",
       "      <td>0.001</td>\n",
       "      <td>0.001</td>\n",
       "    </tr>\n",
       "    <tr>\n",
       "      <th>klin</th>\n",
       "      <td>-</td>\n",
       "      <td>0</td>\n",
       "      <td>0</td>\n",
       "    </tr>\n",
       "    <tr>\n",
       "      <th>molecule</th>\n",
       "      <td>{'co2': 0.0008}</td>\n",
       "      <td>co2</td>\n",
       "      <td>co2</td>\n",
       "    </tr>\n",
       "    <tr>\n",
       "      <th>ng_adju</th>\n",
       "      <td>-</td>\n",
       "      <td>[0, 0]</td>\n",
       "      <td>[0, 0]</td>\n",
       "    </tr>\n",
       "    <tr>\n",
       "      <th>ng_refs</th>\n",
       "      <td>-</td>\n",
       "      <td>[5, 4]</td>\n",
       "      <td>[5, 4]</td>\n",
       "    </tr>\n",
       "    <tr>\n",
       "      <th>nv</th>\n",
       "      <td>-</td>\n",
       "      <td>1000</td>\n",
       "      <td>1000</td>\n",
       "    </tr>\n",
       "    <tr>\n",
       "      <th>option_compute_btable</th>\n",
       "      <td>-</td>\n",
       "      <td>0</td>\n",
       "      <td>1</td>\n",
       "    </tr>\n",
       "    <tr>\n",
       "      <th>option_compute_ktable</th>\n",
       "      <td>-</td>\n",
       "      <td>0</td>\n",
       "      <td>1</td>\n",
       "    </tr>\n",
       "    <tr>\n",
       "      <th>option_wgt_flux</th>\n",
       "      <td>-</td>\n",
       "      <td>1</td>\n",
       "      <td>1</td>\n",
       "    </tr>\n",
       "    <tr>\n",
       "      <th>option_wgt_k</th>\n",
       "      <td>-</td>\n",
       "      <td>1</td>\n",
       "      <td>1</td>\n",
       "    </tr>\n",
       "    <tr>\n",
       "      <th>ref_pts</th>\n",
       "      <td>-</td>\n",
       "      <td>[[1, 250], [10, 250]]</td>\n",
       "      <td>[(1, 250), (10, 250)]</td>\n",
       "    </tr>\n",
       "    <tr>\n",
       "      <th>tsfc</th>\n",
       "      <td>294</td>\n",
       "      <td>294</td>\n",
       "      <td>294</td>\n",
       "    </tr>\n",
       "    <tr>\n",
       "      <th>vmax</th>\n",
       "      <td>-</td>\n",
       "      <td>720</td>\n",
       "      <td>720</td>\n",
       "    </tr>\n",
       "    <tr>\n",
       "      <th>vmin</th>\n",
       "      <td>-</td>\n",
       "      <td>620</td>\n",
       "      <td>620</td>\n",
       "    </tr>\n",
       "    <tr>\n",
       "      <th>w_diffuse</th>\n",
       "      <td>-</td>\n",
       "      <td>[[1.66, 1.66, 1.66, 1.66, 1.66], [1.66, 1.66, 1.66, 1.66]]</td>\n",
       "      <td>[(1.66, 1.66, 1.66, 1.66, 1.66), (1.66, 1.66, 1.66, 1.66)]</td>\n",
       "    </tr>\n",
       "    <tr>\n",
       "      <th>wgt</th>\n",
       "      <td>-</td>\n",
       "      <td>[[0, 0.5, 0.4, 0.6, 0.65], [0.7, 0.7, 0.55, 0.6]]</td>\n",
       "      <td>[(0, 0.5, 0.4, 0.6, 0.65), (0.7, 0.7, 0.55, 0.6)]</td>\n",
       "    </tr>\n",
       "  </tbody>\n",
       "</table>\n",
       "</div>"
      ],
      "text/plain": [
       "                        Run parameters  \\\n",
       "                                CLIRAD   \n",
       "atmpro                 mls               \n",
       "band                   [4]               \n",
       "commitnumber           1013f91           \n",
       "conc                   -                 \n",
       "dv                     -                 \n",
       "klin                   -                 \n",
       "molecule               {'co2': 0.0008}   \n",
       "ng_adju                -                 \n",
       "ng_refs                -                 \n",
       "nv                     -                 \n",
       "option_compute_btable  -                 \n",
       "option_compute_ktable  -                 \n",
       "option_wgt_flux        -                 \n",
       "option_wgt_k           -                 \n",
       "ref_pts                -                 \n",
       "tsfc                   294               \n",
       "vmax                   -                 \n",
       "vmin                   -                 \n",
       "w_diffuse              -                 \n",
       "wgt                    -                 \n",
       "\n",
       "                                                                                   \\\n",
       "                                                                           LBLNEW   \n",
       "atmpro                 mls                                                          \n",
       "band                   3b                                                           \n",
       "commitnumber           a22ab94                                                      \n",
       "conc                   0.0008                                                       \n",
       "dv                     0.001                                                        \n",
       "klin                   0                                                            \n",
       "molecule               co2                                                          \n",
       "ng_adju                [0, 0]                                                       \n",
       "ng_refs                [5, 4]                                                       \n",
       "nv                     1000                                                         \n",
       "option_compute_btable  0                                                            \n",
       "option_compute_ktable  0                                                            \n",
       "option_wgt_flux        1                                                            \n",
       "option_wgt_k           1                                                            \n",
       "ref_pts                [[1, 250], [10, 250]]                                        \n",
       "tsfc                   294                                                          \n",
       "vmax                   720                                                          \n",
       "vmin                   620                                                          \n",
       "w_diffuse              [[1.66, 1.66, 1.66, 1.66, 1.66], [1.66, 1.66, 1.66, 1.66]]   \n",
       "wgt                    [[0, 0.5, 0.4, 0.6, 0.65], [0.7, 0.7, 0.55, 0.6]]            \n",
       "\n",
       "                                                                   Fit parameters  \n",
       "                                                                        (co2, 3b)  \n",
       "atmpro                 mls                                                         \n",
       "band                   3b                                                          \n",
       "commitnumber           a22ab94                                                     \n",
       "conc                   0.0004                                                      \n",
       "dv                     0.001                                                       \n",
       "klin                   0                                                           \n",
       "molecule               co2                                                         \n",
       "ng_adju                [0, 0]                                                      \n",
       "ng_refs                [5, 4]                                                      \n",
       "nv                     1000                                                        \n",
       "option_compute_btable  1                                                           \n",
       "option_compute_ktable  1                                                           \n",
       "option_wgt_flux        1                                                           \n",
       "option_wgt_k           1                                                           \n",
       "ref_pts                [(1, 250), (10, 250)]                                       \n",
       "tsfc                   294                                                         \n",
       "vmax                   720                                                         \n",
       "vmin                   620                                                         \n",
       "w_diffuse              [(1.66, 1.66, 1.66, 1.66, 1.66), (1.66, 1.66, 1.66, 1.66)]  \n",
       "wgt                    [(0, 0.5, 0.4, 0.6, 0.65), (0.7, 0.7, 0.55, 0.6)]           "
      ]
     },
     "metadata": {},
     "output_type": "display_data"
    },
    {
     "data": {
      "text/html": [
       "\n",
       "<div class=\"bk-root\">\n",
       "    <div class=\"bk-plotdiv\" id=\"e40f37d5-8c7b-4ca9-89c4-ab09a1027425\"></div>\n",
       "</div>"
      ]
     },
     "metadata": {},
     "output_type": "display_data"
    },
    {
     "data": {
      "application/javascript": [
       "(function(root) {\n",
       "  function embed_document(root) {\n",
       "    \n",
       "  var docs_json = {\"18d8b4c1-0e95-4dbc-b3af-7e5bac5d1b94\":{\"roots\":{\"references\":[{\"attributes\":{\"source\":{\"id\":\"d9f5d9d6-c2e2-4d60-8d07-f3a067403ca4\",\"type\":\"ColumnDataSource\"}},\"id\":\"aea2435b-effb-45c3-a8e5-da4abac7b204\",\"type\":\"CDSView\"},{\"attributes\":{\"bottom_units\":\"screen\",\"fill_alpha\":{\"value\":0.5},\"fill_color\":{\"value\":\"lightgrey\"},\"left_units\":\"screen\",\"level\":\"overlay\",\"line_alpha\":{\"value\":1.0},\"line_color\":{\"value\":\"black\"},\"line_dash\":[4,4],\"line_width\":{\"value\":2},\"plot\":null,\"render_mode\":\"css\",\"right_units\":\"screen\",\"top_units\":\"screen\"},\"id\":\"cc5e47c2-f8e8-401a-b57e-2ae4090663c6\",\"type\":\"BoxAnnotation\"},{\"attributes\":{},\"id\":\"19b438ff-26d6-4d7a-b351-cb0942bcdbd2\",\"type\":\"HelpTool\"},{\"attributes\":{\"source\":{\"id\":\"b8c315f6-b458-4a2d-a5ba-5aaf5b21cab4\",\"type\":\"ColumnDataSource\"}},\"id\":\"11dd0e12-b844-4a3f-9aab-86061239e91e\",\"type\":\"CDSView\"},{\"attributes\":{\"source\":{\"id\":\"d83f6d72-3234-4574-9762-f2dae9bd5574\",\"type\":\"ColumnDataSource\"}},\"id\":\"3c1f5aaa-efe7-452c-aba3-664a7d18617c\",\"type\":\"CDSView\"},{\"attributes\":{\"data_source\":{\"id\":\"b8c315f6-b458-4a2d-a5ba-5aaf5b21cab4\",\"type\":\"ColumnDataSource\"},\"glyph\":{\"id\":\"bb900b14-4a0a-4fb6-ba2f-27ae96e9a9b8\",\"type\":\"Line\"},\"hover_glyph\":null,\"muted_glyph\":null,\"nonselection_glyph\":{\"id\":\"43c6afa3-8835-47aa-a258-352ca54aa9af\",\"type\":\"Line\"},\"selection_glyph\":null,\"view\":{\"id\":\"11dd0e12-b844-4a3f-9aab-86061239e91e\",\"type\":\"CDSView\"}},\"id\":\"a34e4035-8ec4-44be-9aee-747032b2fb39\",\"type\":\"GlyphRenderer\"},{\"attributes\":{\"callback\":null,\"data\":{\"x\":{\"__ndarray__\":\"xAPxz49hNMAIuQoHzs0aQEAa5393uA5AwOwwNAPy2z/g6IZaEfn/v+h6OCPSlATA4K3Wxy2Y/b/QCldn+Ozrv6CzRjXm6tu/IIv5OQ2V379IJA/onwDpvxgM04RqEe+//KilM6a36r/cheCSEQ3av9ACkFQ8Gas//LUT/eln0j+goLkCfzLTP6D+1KQZP8o/gHytZQ2vrb8gjh1u7cfSv6B73V4lqsu/AAGgWuIgsT8AhtmfWnGUP6BwA89YU9i/4OBklBDg2r8Albeobhmdv8AAqoH/fcs/AGVm/aZrrj+AIEiailicP8C7muu+yaw/ALQYO4ZCpr/A2wSvz8ylvxAom8Ici7o/AK6EgR9zsj8Qy13Wsb2iv7AoyzQuBpG/3KwkPPNCpj/QSR3QgV2nP/gMA8Iq0JM/ML4QkaKefL8gOsZVXgiWv4yDfwmBdpi/LImJ5DeRkr9ACzrp1ouMv6DppJqAqYa/WAnvh696hL+AqqINICp5vwBqdlF2n3C/wDqUOb87X78AgGsxxv79voCaVBiRulQ/QBftZS5dQj8AA+NUgk9GP4Cpg7e5mTa/4Esc6AtxVL/wjITQLg1jvxjQnN6gDWu/vDYufHSWcL983ERU929yv9RDhKtAIHO/eArdychkcr/yAJ2SUGx1v4ANy9PkxHK/xgjUY6hwcb+Cc/ikfZ1yv6gveD4Q7m2/ILShnw/DbL+gYmDab4tvv6DAH5/5qGa/2GasY7w8aL8gG54shThnv3AqSLCoJGO/CPgBa/OkaL88GS9/39tjvwCpBAQmz12/\",\"dtype\":\"float64\",\"shape\":[75]},\"y\":{\"__ndarray__\":\"GhExyth1ND/Sv8nbtpRIP2vylNV0PVE/aTum7souWD/At0SJ8fVgPw3Iuahxymc/MSNhhJWvcD/bTfBN02d3P2zb5nxnaoA/CD5h5MAGhz8NmeH1TyaQP+zrCsc9p5Y/LbKd76fGnz/bLW5ISEmmPww9YvTcQq8/JV2OstnstT8Er5Y7M8G+P0c+r3jqkcU/5h99k6ZBzj88bCIzFzjVP4enV8oyxN0//yH99nXg5D8qOpLLf0jtP5kqGJXUifQ/c9cS8kHP/D+/DpwzojQEQIEmwoanVwxA4lgXt9HgE0BSSZ2AJuIbQAMJih9jjiNA5q4l5INuK0AwTKYKRj0zQNv5fmq8/DpAaCJseHrtQkB/+zpwzoxKQM3MzMzMeFJAZmZmZmZqWEAAAAAAAFxeQM3MzMzMJmJAmpmZmZkfZUBmZmZmZhhoQDMzMzMzEWtAAAAAAAAKbkBmZmZmZoFwQM3MzMzM/XFAMzMzMzN6c0CamZmZmfZ0QAAAAAAAc3ZAZmZmZmbvd0DNzMzMzGt5QDMzMzMz6HpAmpmZmZlkfEAAAAAAAOF9QGZmZmZmXX9AZmZmZuZsgECamZmZGSuBQM3MzMxM6YFAAAAAAICngkAzMzMzs2WDQGZmZmbmI4RAmpmZmRnihEDNzMzMTKCFQAAAAACAXoZAMzMzM7Mch0BmZmZm5tqHQJqZmZkZmYhAzczMzExXiUAAAAAAgBWKQDMzMzOz04pAZmZmZuaRi0CamZmZGVCMQM3MzMxMDo1AAAAAAIDMjUAzMzMzs4qOQGZmZmbmSI9A\",\"dtype\":\"float64\",\"shape\":[75]}},\"selected\":{\"id\":\"88aca758-f6be-4f07-90e9-a4fcac14d8b7\",\"type\":\"Selection\"},\"selection_policy\":{\"id\":\"8f5dae4d-6fab-4100-b6f0-652817e87eea\",\"type\":\"UnionRenderers\"}},\"id\":\"e3562698-0849-4d01-a90d-a5b1391df9f3\",\"type\":\"ColumnDataSource\"},{\"attributes\":{\"line_alpha\":0.1,\"line_color\":\"#1f77b4\",\"line_width\":8,\"x\":{\"field\":\"x\"},\"y\":{\"field\":\"y\"}},\"id\":\"10d07cf2-0b90-4696-8938-8c23e469a0b9\",\"type\":\"Line\"},{\"attributes\":{\"callback\":null,\"data\":{\"x\":{\"__ndarray__\":\"VzMxI1O6V0BWlk0bWDlMQB8CpIyWo0VAYR953UGAP0C/QbMNZ4c2QDtKemlM7jBAAGI7mvnDK0BXo3/0qtwnQHJfgGWcLiRAn539Qu87IEDWqns9Ep4YQLnX38HCxhFAuDD1tKLaCEBnM1p48qr8P0Y0DtjJBe4/8cZGcfGh+j/x79vjGPEHQIFl4thbqg5ABaBIbaYEEkAj6ieQTW0VQHHP2sHNGRtATdlWpKMmIkB5dFNlwLEmQL4A57tODyVAiWHWd73hH0AbqfAIKycaQOcyfii05RVAMiUjAu1wEUATlBJ1/3YMQLU89gcP0QdAr8Q7vSQMAkCRLIR/DxT6P8yd1tndwfQ/sMTj2kBu7j9vHQUtMbDgP7Qi9M7fMc8/e1dhfsrpxT9jXfnazqzDP+3/2uj5qaI/JMlSosiDwL+I/ASbITfBv1oq00SGQXK/HlRcQ57oqT9eufkqWBSxP2oYBaLjZ7I/Dg5HVSeqsj8Alh3mw4WyP9rcTJWPMrI/0jpfNNHHsT+mcjprmUWxPwN8YRp+iLA/NHcUQQHMrj8CiSyWwq2rP9rBl1qHJqg/GBfc8THEpD9W4ay7Hc+hP4DSZpRglJ4/TsxDIq1cmj/70znAceGWP5jIL8jJ/ZM/k2wzoAKnkT+OFpRTJ7qPP+r4WhA/XI0/bvOM9FOdjD+YORLqU2+OP0j2RS8jSZI/ZPP/qCh+lz820OEvJ/ebP+Ep0hjAcps/a1gfNwavlT8F7PcR3fiNP0rTbkXGKoU/Fqh0/rDngT/p5qE5+FiFP04cZYFDm7Q/\",\"dtype\":\"float64\",\"shape\":[75]},\"y\":{\"__ndarray__\":\"GhExyth1ND/Sv8nbtpRIP2vylNV0PVE/aTum7souWD/At0SJ8fVgPw3Iuahxymc/MSNhhJWvcD/bTfBN02d3P2zb5nxnaoA/CD5h5MAGhz8NmeH1TyaQP+zrCsc9p5Y/LbKd76fGnz/bLW5ISEmmPww9YvTcQq8/JV2OstnstT8Er5Y7M8G+P0c+r3jqkcU/5h99k6ZBzj88bCIzFzjVP4enV8oyxN0//yH99nXg5D8qOpLLf0jtP5kqGJXUifQ/c9cS8kHP/D+/DpwzojQEQIEmwoanVwxA4lgXt9HgE0BSSZ2AJuIbQAMJih9jjiNA5q4l5INuK0AwTKYKRj0zQNv5fmq8/DpAaCJseHrtQkB/+zpwzoxKQM3MzMzMeFJAZmZmZmZqWEAAAAAAAFxeQM3MzMzMJmJAmpmZmZkfZUBmZmZmZhhoQDMzMzMzEWtAAAAAAAAKbkBmZmZmZoFwQM3MzMzM/XFAMzMzMzN6c0CamZmZmfZ0QAAAAAAAc3ZAZmZmZmbvd0DNzMzMzGt5QDMzMzMz6HpAmpmZmZlkfEAAAAAAAOF9QGZmZmZmXX9AZmZmZuZsgECamZmZGSuBQM3MzMxM6YFAAAAAAICngkAzMzMzs2WDQGZmZmbmI4RAmpmZmRnihEDNzMzMTKCFQAAAAACAXoZAMzMzM7Mch0BmZmZm5tqHQJqZmZkZmYhAzczMzExXiUAAAAAAgBWKQDMzMzOz04pAZmZmZuaRi0CamZmZGVCMQM3MzMxMDo1AAAAAAIDMjUAzMzMzs4qOQGZmZmbmSI9A\",\"dtype\":\"float64\",\"shape\":[75]}},\"selected\":{\"id\":\"cf390e43-8ebc-4d22-bab8-825ba01f5d47\",\"type\":\"Selection\"},\"selection_policy\":{\"id\":\"74f600d2-a0a8-4a94-b3e0-33c23da75b0d\",\"type\":\"UnionRenderers\"}},\"id\":\"d9f5d9d6-c2e2-4d60-8d07-f3a067403ca4\",\"type\":\"ColumnDataSource\"},{\"attributes\":{\"data_source\":{\"id\":\"d9f5d9d6-c2e2-4d60-8d07-f3a067403ca4\",\"type\":\"ColumnDataSource\"},\"glyph\":{\"id\":\"afb2e036-9b54-4c51-96f8-a81ac90322f5\",\"type\":\"Line\"},\"hover_glyph\":null,\"muted_glyph\":null,\"nonselection_glyph\":{\"id\":\"10d07cf2-0b90-4696-8938-8c23e469a0b9\",\"type\":\"Line\"},\"selection_glyph\":null,\"view\":{\"id\":\"aea2435b-effb-45c3-a8e5-da4abac7b204\",\"type\":\"CDSView\"}},\"id\":\"54dea220-bcbc-4e79-b75e-eb59c01cb061\",\"type\":\"GlyphRenderer\"},{\"attributes\":{\"active_drag\":\"auto\",\"active_inspect\":\"auto\",\"active_scroll\":\"auto\",\"active_tap\":\"auto\",\"tools\":[{\"id\":\"37d7e992-b751-41f9-b1f6-100a6fc820d6\",\"type\":\"PanTool\"},{\"id\":\"a16818d0-6658-41b1-848d-14277d98ff0a\",\"type\":\"WheelZoomTool\"},{\"id\":\"cbdc9588-3657-4372-af0e-0bb77dbcd438\",\"type\":\"BoxZoomTool\"},{\"id\":\"a1c2d137-4cec-4d6b-b237-cb78d3f9d276\",\"type\":\"SaveTool\"},{\"id\":\"402becfe-0e60-41c5-82df-9a9bd02fb2a8\",\"type\":\"ResetTool\"},{\"id\":\"5325b2e0-8b17-47b4-92a6-b1163500a46c\",\"type\":\"HelpTool\"}]},\"id\":\"c0461040-0274-4a47-a908-d1a457b95baa\",\"type\":\"Toolbar\"},{\"attributes\":{\"callback\":null,\"data\":{\"x\":{\"__ndarray__\":\"VzMxI1O6V0BWlk0bWDlMQB8CpIyWo0VAYR953UGAP0C/QbMNZ4c2QDtKemlM7jBAAGI7mvnDK0BXo3/0qtwnQHJfgGWcLiRAn539Qu87IEDWqns9Ep4YQLnX38HCxhFAuDD1tKLaCEBnM1p48qr8P0Y0DtjJBe4/8cZGcfGh+j/x79vjGPEHQIFl4thbqg5ABaBIbaYEEkAj6ieQTW0VQHHP2sHNGRtATdlWpKMmIkB5dFNlwLEmQL4A57tODyVAiWHWd73hH0AbqfAIKycaQOcyfii05RVAMiUjAu1wEUATlBJ1/3YMQLU89gcP0QdAr8Q7vSQMAkCRLIR/DxT6P8yd1tndwfQ/sMTj2kBu7j9vHQUtMbDgP7Qi9M7fMc8/e1dhfsrpxT9jXfnazqzDP+3/2uj5qaI/JMlSosiDwL+I/ASbITfBv1oq00SGQXK/HlRcQ57oqT9eufkqWBSxP2oYBaLjZ7I/Dg5HVSeqsj8Alh3mw4WyP9rcTJWPMrI/0jpfNNHHsT+mcjprmUWxPwN8YRp+iLA/NHcUQQHMrj8CiSyWwq2rP9rBl1qHJqg/GBfc8THEpD9W4ay7Hc+hP4DSZpRglJ4/TsxDIq1cmj/70znAceGWP5jIL8jJ/ZM/k2wzoAKnkT+OFpRTJ7qPP+r4WhA/XI0/bvOM9FOdjD+YORLqU2+OP0j2RS8jSZI/ZPP/qCh+lz820OEvJ/ebP+Ep0hjAcps/a1gfNwavlT8F7PcR3fiNP0rTbkXGKoU/Fqh0/rDngT/p5qE5+FiFP04cZYFDm7Q/\",\"dtype\":\"float64\",\"shape\":[75]},\"y\":{\"__ndarray__\":\"GhExyth1ND/Sv8nbtpRIP2vylNV0PVE/aTum7souWD/At0SJ8fVgPw3Iuahxymc/MSNhhJWvcD/bTfBN02d3P2zb5nxnaoA/CD5h5MAGhz8NmeH1TyaQP+zrCsc9p5Y/LbKd76fGnz/bLW5ISEmmPww9YvTcQq8/JV2OstnstT8Er5Y7M8G+P0c+r3jqkcU/5h99k6ZBzj88bCIzFzjVP4enV8oyxN0//yH99nXg5D8qOpLLf0jtP5kqGJXUifQ/c9cS8kHP/D+/DpwzojQEQIEmwoanVwxA4lgXt9HgE0BSSZ2AJuIbQAMJih9jjiNA5q4l5INuK0AwTKYKRj0zQNv5fmq8/DpAaCJseHrtQkB/+zpwzoxKQM3MzMzMeFJAZmZmZmZqWEAAAAAAAFxeQM3MzMzMJmJAmpmZmZkfZUBmZmZmZhhoQDMzMzMzEWtAAAAAAAAKbkBmZmZmZoFwQM3MzMzM/XFAMzMzMzN6c0CamZmZmfZ0QAAAAAAAc3ZAZmZmZmbvd0DNzMzMzGt5QDMzMzMz6HpAmpmZmZlkfEAAAAAAAOF9QGZmZmZmXX9AZmZmZuZsgECamZmZGSuBQM3MzMxM6YFAAAAAAICngkAzMzMzs2WDQGZmZmbmI4RAmpmZmRnihEDNzMzMTKCFQAAAAACAXoZAMzMzM7Mch0BmZmZm5tqHQJqZmZkZmYhAzczMzExXiUAAAAAAgBWKQDMzMzOz04pAZmZmZuaRi0CamZmZGVCMQM3MzMxMDo1AAAAAAIDMjUAzMzMzs4qOQGZmZmbmSI9A\",\"dtype\":\"float64\",\"shape\":[75]}},\"selected\":{\"id\":\"5c847b1c-4014-40ba-8c2d-96a6fb6a67b5\",\"type\":\"Selection\"},\"selection_policy\":{\"id\":\"bc59f3a9-443c-40bd-8fcd-1c0d987deb07\",\"type\":\"UnionRenderers\"}},\"id\":\"c9d30060-6298-44b5-a4ff-deef99641371\",\"type\":\"ColumnDataSource\"},{\"attributes\":{\"line_alpha\":0.3,\"line_color\":\"#984ea3\",\"line_width\":8,\"x\":{\"field\":\"x\"},\"y\":{\"field\":\"y\"}},\"id\":\"afb2e036-9b54-4c51-96f8-a81ac90322f5\",\"type\":\"Line\"},{\"attributes\":{\"active_drag\":\"auto\",\"active_inspect\":\"auto\",\"active_scroll\":\"auto\",\"active_tap\":\"auto\",\"tools\":[{\"id\":\"6f9b51be-8f95-48d9-b1e6-92b14b7c47e4\",\"type\":\"PanTool\"},{\"id\":\"b8962dbe-8b9c-488a-a3ba-8101469c51fe\",\"type\":\"WheelZoomTool\"},{\"id\":\"97443d63-7eac-47a9-b83a-80513adcfc15\",\"type\":\"BoxZoomTool\"},{\"id\":\"fbb83dc9-33ce-4d1e-a2f3-f08949293b5c\",\"type\":\"SaveTool\"},{\"id\":\"7201458c-fbb5-45d2-aaec-83afed4b1c4a\",\"type\":\"ResetTool\"},{\"id\":\"9ea4e240-d361-4914-a44b-9a14f1d99d8a\",\"type\":\"HelpTool\"}]},\"id\":\"6a88a618-3950-4a90-88db-a7ac34311641\",\"type\":\"Toolbar\"},{\"attributes\":{\"line_alpha\":0.1,\"line_color\":\"#1f77b4\",\"line_width\":1.5,\"x\":{\"field\":\"x\"},\"y\":{\"field\":\"y\"}},\"id\":\"43c6afa3-8835-47aa-a258-352ca54aa9af\",\"type\":\"Line\"},{\"attributes\":{\"above\":[{\"id\":\"6a08f270-e3fb-4b03-b669-3473a66cbcee\",\"type\":\"Legend\"}],\"below\":[{\"id\":\"dc513061-7ef4-436e-82dd-268690457ae8\",\"type\":\"LinearAxis\"}],\"left\":[{\"id\":\"aec524c6-d323-4185-9f91-5eca23ed210e\",\"type\":\"LogAxis\"}],\"plot_height\":500,\"plot_width\":300,\"renderers\":[{\"id\":\"dc513061-7ef4-436e-82dd-268690457ae8\",\"type\":\"LinearAxis\"},{\"id\":\"0111c39e-91cc-40c7-a1b4-012f63b9cd30\",\"type\":\"Grid\"},{\"id\":\"aec524c6-d323-4185-9f91-5eca23ed210e\",\"type\":\"LogAxis\"},{\"id\":\"f85ffbaa-7500-4689-9386-578142f192c8\",\"type\":\"Grid\"},{\"id\":\"b86899ef-64ac-4357-a87d-7680abeb0b9a\",\"type\":\"BoxAnnotation\"},{\"id\":\"e6d36fab-50a1-4fb5-acff-e925e1cd7ffd\",\"type\":\"GlyphRenderer\"},{\"id\":\"c92deec6-c9cb-459a-9df6-ecda870fb3f1\",\"type\":\"GlyphRenderer\"},{\"id\":\"6a08f270-e3fb-4b03-b669-3473a66cbcee\",\"type\":\"Legend\"}],\"title\":{\"id\":\"3218f7b7-ec20-40c2-a234-05051be72248\",\"type\":\"Title\"},\"toolbar\":{\"id\":\"c0461040-0274-4a47-a908-d1a457b95baa\",\"type\":\"Toolbar\"},\"toolbar_location\":null,\"x_range\":{\"id\":\"6bc3834b-0b98-4de1-afcb-715c30e51ad5\",\"type\":\"Range1d\"},\"x_scale\":{\"id\":\"88cbb474-6d2e-4e10-b8db-aac7ca904b93\",\"type\":\"LinearScale\"},\"y_range\":{\"id\":\"2751fb90-b20b-48cb-b9c9-92933ead09b2\",\"type\":\"Range1d\"},\"y_scale\":{\"id\":\"2e62a879-21f3-4fd2-a164-4d58a0b9c330\",\"type\":\"LogScale\"}},\"id\":\"7242b2ff-a02a-4dc1-b776-7477f22b8734\",\"subtype\":\"Figure\",\"type\":\"Plot\"},{\"attributes\":{\"callback\":null,\"end\":0.56386164118833,\"start\":-0.14163009565533},\"id\":\"f37d9768-ef53-48e6-a069-30df1da30ba3\",\"type\":\"Range1d\"},{\"attributes\":{\"label\":{\"value\":\"CLIRAD\"},\"renderers\":[{\"id\":\"1f998398-838c-4122-b1e6-ff3f21a50cee\",\"type\":\"GlyphRenderer\"}]},\"id\":\"70c9fda1-7a56-4e52-8731-b0fce2a17f18\",\"type\":\"LegendItem\"},{\"attributes\":{\"callback\":null,\"end\":0.31271314962742974,\"start\":-0.9884100823504303},\"id\":\"6bc3834b-0b98-4de1-afcb-715c30e51ad5\",\"type\":\"Range1d\"},{\"attributes\":{\"label\":{\"value\":\"CRD\"},\"renderers\":[{\"id\":\"d0f4f6b7-4b9a-4f38-8362-8e6537924a5b\",\"type\":\"GlyphRenderer\"},{\"id\":\"a34e4035-8ec4-44be-9aee-747032b2fb39\",\"type\":\"GlyphRenderer\"}]},\"id\":\"6a01da2b-b314-4ab0-8af5-7a8087f10809\",\"type\":\"LegendItem\"},{\"attributes\":{},\"id\":\"36282bb0-6d65-46e9-90f3-01b8d445d21c\",\"type\":\"ResetTool\"},{\"attributes\":{},\"id\":\"88cbb474-6d2e-4e10-b8db-aac7ca904b93\",\"type\":\"LinearScale\"},{\"attributes\":{\"label\":{\"value\":\"WGT igg=10\"},\"renderers\":[{\"id\":\"54dea220-bcbc-4e79-b75e-eb59c01cb061\",\"type\":\"GlyphRenderer\"}]},\"id\":\"a06a5602-b3ba-425a-9cfa-756980f8f80a\",\"type\":\"LegendItem\"},{\"attributes\":{\"plot\":{\"id\":\"7242b2ff-a02a-4dc1-b776-7477f22b8734\",\"subtype\":\"Figure\",\"type\":\"Plot\"},\"ticker\":{\"id\":\"5d8964b1-339a-432f-8cce-cf3dff497e21\",\"type\":\"BasicTicker\"}},\"id\":\"0111c39e-91cc-40c7-a1b4-012f63b9cd30\",\"type\":\"Grid\"},{\"attributes\":{\"fill_alpha\":{\"value\":0.7},\"fill_color\":{\"value\":\"#4daf4a\"},\"line_alpha\":{\"value\":0.7},\"line_color\":{\"value\":\"#4daf4a\"},\"x\":{\"field\":\"x\"},\"y\":{\"field\":\"y\"}},\"id\":\"c6e6946c-407b-4ee7-9dae-465f8136c20f\",\"type\":\"Circle\"},{\"attributes\":{\"items\":[{\"id\":\"71fa9507-3349-4fba-a09d-9fb9fec0e0ba\",\"type\":\"LegendItem\"},{\"id\":\"89fa6f58-2c2d-4842-a350-9b0bdd46e059\",\"type\":\"LegendItem\"}],\"label_text_font_size\":{\"value\":\"8pt\"},\"location\":\"top_center\",\"orientation\":\"horizontal\",\"plot\":{\"id\":\"7242b2ff-a02a-4dc1-b776-7477f22b8734\",\"subtype\":\"Figure\",\"type\":\"Plot\"}},\"id\":\"6a08f270-e3fb-4b03-b669-3473a66cbcee\",\"type\":\"Legend\"},{\"attributes\":{},\"id\":\"a16818d0-6658-41b1-848d-14277d98ff0a\",\"type\":\"WheelZoomTool\"},{\"attributes\":{\"callback\":null,\"data\":{\"x\":{\"__ndarray__\":\"MK5Qm2fUXEBe91+9fPJIQImZJ4ahykNA6TSaOqk6P0DdVTNo06c4QBtFF5ocoDNAEsdBn5eaL0BviJvZ1LkpQAEFSf0rFCVABibtWO07IUDduRd6Y8YbQNSnm5fUrRVAQGBgfaKbD0BrUVDX7psBQD+qrT2CW+w/AfLVs+kZ9j9wH9mT5pcFQOoXFXvYKQ1ARcnfc8lTEkAuUwtddKUWQDBOKds6AhxAUPtXnW8dIkDcvl0rJ8wmQBm8N5e+4CVADm1cFDjfIEBxVzT1pVQaQMoeMcNJKRVAhrA2V2g4EUAvS9S/ZmoMQLCIW5PFbQdA2QMVjnh4AkCyMUt1gdD6P8BooM7wJPM/bi5f5lkM7D9G3OVvftLhP6+vlqFtp9A/Eslr1/pLwD8oqQTne367P8RM0XwqaZA/p5xXB0x4v78y9lUSfvq8v423hBU+fpM/dUEFxO+1sT/bjko4SLS0P2sjbI9+WrU/5G/hCwQEtT/GYZRTijK0P+0BhMbfK7M/mngzj7wjsj/+peJVqC+xP4JEW3SlNLA/TB9IZDQNrj+sCG3L+yarP/5T3963C6g/bR41xicupT8MXnBLfsGiP7bmOi/LuKA/QFHyVncEnj8v42VsJB2bP5D7fO/IlJg/BlAd4Lhnlj/0UkJjOJ+UP8KrEEu/U5M/zFXsUWXEkj86nFkwR3STP/p0vvJ8TZY/yv3jEBVNmz9HnYf9q4SfP+JngVVpwJ4/KDE40nbGmD8X7/ABHOORP1Qr9rM3iYo/4AaMJQC1hj+pP9JC9cOJP1NTdpJxBLU/\",\"dtype\":\"float64\",\"shape\":[75]},\"y\":{\"__ndarray__\":\"GhExyth1ND/Sv8nbtpRIP2vylNV0PVE/aTum7souWD/At0SJ8fVgPw3Iuahxymc/MSNhhJWvcD/bTfBN02d3P2zb5nxnaoA/CD5h5MAGhz8NmeH1TyaQP+zrCsc9p5Y/LbKd76fGnz/bLW5ISEmmPww9YvTcQq8/JV2OstnstT8Er5Y7M8G+P0c+r3jqkcU/5h99k6ZBzj88bCIzFzjVP4enV8oyxN0//yH99nXg5D8qOpLLf0jtP5kqGJXUifQ/c9cS8kHP/D+/DpwzojQEQIEmwoanVwxA4lgXt9HgE0BSSZ2AJuIbQAMJih9jjiNA5q4l5INuK0AwTKYKRj0zQNv5fmq8/DpAaCJseHrtQkB/+zpwzoxKQM3MzMzMeFJAZmZmZmZqWEAAAAAAAFxeQM3MzMzMJmJAmpmZmZkfZUBmZmZmZhhoQDMzMzMzEWtAAAAAAAAKbkBmZmZmZoFwQM3MzMzM/XFAMzMzMzN6c0CamZmZmfZ0QAAAAAAAc3ZAZmZmZmbvd0DNzMzMzGt5QDMzMzMz6HpAmpmZmZlkfEAAAAAAAOF9QGZmZmZmXX9AZmZmZuZsgECamZmZGSuBQM3MzMxM6YFAAAAAAICngkAzMzMzs2WDQGZmZmbmI4RAmpmZmRnihEDNzMzMTKCFQAAAAACAXoZAMzMzM7Mch0BmZmZm5tqHQJqZmZkZmYhAzczMzExXiUAAAAAAgBWKQDMzMzOz04pAZmZmZuaRi0CamZmZGVCMQM3MzMxMDo1AAAAAAIDMjUAzMzMzs4qOQGZmZmbmSI9A\",\"dtype\":\"float64\",\"shape\":[75]}},\"selected\":{\"id\":\"4e6f0a28-1213-4fad-bc46-f41548477ead\",\"type\":\"Selection\"},\"selection_policy\":{\"id\":\"1087b662-ae50-453b-a262-939043ed76b9\",\"type\":\"UnionRenderers\"}},\"id\":\"b8c315f6-b458-4a2d-a5ba-5aaf5b21cab4\",\"type\":\"ColumnDataSource\"},{\"attributes\":{},\"id\":\"2e62a879-21f3-4fd2-a164-4d58a0b9c330\",\"type\":\"LogScale\"},{\"attributes\":{\"axis_label\":\"cooling rate [K/day]\",\"formatter\":{\"id\":\"05de4362-336e-4224-b09f-1331a20af8dd\",\"type\":\"BasicTickFormatter\"},\"plot\":{\"id\":\"7242b2ff-a02a-4dc1-b776-7477f22b8734\",\"subtype\":\"Figure\",\"type\":\"Plot\"},\"ticker\":{\"id\":\"5d8964b1-339a-432f-8cce-cf3dff497e21\",\"type\":\"BasicTicker\"}},\"id\":\"dc513061-7ef4-436e-82dd-268690457ae8\",\"type\":\"LinearAxis\"},{\"attributes\":{\"callback\":null,\"end\":0.01,\"start\":1020},\"id\":\"2751fb90-b20b-48cb-b9c9-92933ead09b2\",\"type\":\"Range1d\"},{\"attributes\":{},\"id\":\"5d8964b1-339a-432f-8cce-cf3dff497e21\",\"type\":\"BasicTicker\"},{\"attributes\":{\"axis_label\":\"pressure [mb]\",\"formatter\":{\"id\":\"cd4bdac3-0d12-4b61-ad37-6c161ce8e34a\",\"type\":\"LogTickFormatter\"},\"plot\":{\"id\":\"7242b2ff-a02a-4dc1-b776-7477f22b8734\",\"subtype\":\"Figure\",\"type\":\"Plot\"},\"ticker\":{\"id\":\"ba340848-d50e-453e-a8b2-5c28cec7a25c\",\"type\":\"LogTicker\"}},\"id\":\"aec524c6-d323-4185-9f91-5eca23ed210e\",\"type\":\"LogAxis\"},{\"attributes\":{\"num_minor_ticks\":10},\"id\":\"ba340848-d50e-453e-a8b2-5c28cec7a25c\",\"type\":\"LogTicker\"},{\"attributes\":{\"dimension\":1,\"plot\":{\"id\":\"7242b2ff-a02a-4dc1-b776-7477f22b8734\",\"subtype\":\"Figure\",\"type\":\"Plot\"},\"ticker\":{\"id\":\"ba340848-d50e-453e-a8b2-5c28cec7a25c\",\"type\":\"LogTicker\"}},\"id\":\"f85ffbaa-7500-4689-9386-578142f192c8\",\"type\":\"Grid\"},{\"attributes\":{\"bottom_units\":\"screen\",\"fill_alpha\":{\"value\":0.5},\"fill_color\":{\"value\":\"lightgrey\"},\"left_units\":\"screen\",\"level\":\"overlay\",\"line_alpha\":{\"value\":1.0},\"line_color\":{\"value\":\"black\"},\"line_dash\":[4,4],\"line_width\":{\"value\":2},\"plot\":null,\"render_mode\":\"css\",\"right_units\":\"screen\",\"top_units\":\"screen\"},\"id\":\"b86899ef-64ac-4357-a87d-7680abeb0b9a\",\"type\":\"BoxAnnotation\"},{\"attributes\":{\"overlay\":{\"id\":\"cc5e47c2-f8e8-401a-b57e-2ae4090663c6\",\"type\":\"BoxAnnotation\"}},\"id\":\"cd22c9cc-9bec-43b7-94e5-b81cd5ed3ccc\",\"type\":\"BoxZoomTool\"},{\"attributes\":{\"overlay\":{\"id\":\"b86899ef-64ac-4357-a87d-7680abeb0b9a\",\"type\":\"BoxAnnotation\"}},\"id\":\"cbdc9588-3657-4372-af0e-0bb77dbcd438\",\"type\":\"BoxZoomTool\"},{\"attributes\":{},\"id\":\"a1c2d137-4cec-4d6b-b237-cb78d3f9d276\",\"type\":\"SaveTool\"},{\"attributes\":{},\"id\":\"402becfe-0e60-41c5-82df-9a9bd02fb2a8\",\"type\":\"ResetTool\"},{\"attributes\":{},\"id\":\"5325b2e0-8b17-47b4-92a6-b1163500a46c\",\"type\":\"HelpTool\"},{\"attributes\":{\"callback\":null,\"data\":{\"x\":{\"__ndarray__\":\"P21UpwO8V0B/TkF+NkxMQC0LJv4otkVAnPhqR3GqP0BP54pSQqg2QL41sFWCDTFAVvFG5pHnK0DCFyZTBfsnQGTPnsvUNCRArVkd70Q/IEBU1RV9T6YYQFFGAUenyxFAAfZ28LjtCEBfgehJmbT8P2yq9gIWDe4/gN8aM+Sz+j+EUzB0Nv4HQNRnYhXKzQ5ATG4UWWsYEkBMeimG9XgVQFNiMrDpJBtAUjsNYrE/IkCfq63YX9YmQJSgv9AjHiVAB0a5jzcIIEDcn4uGjDcaQNBuPr85BRZAUH0xpT91EUBw2wjVF6MMQJ/zCY/s4AdACaEodW4fAkDUCtP3GiL6P0EbypqizfQ/LsSP1r1a7j+V/39So6bgP0j6k3wVLs8/SfR0prfcxT8Ip4lnnpbDP94sap+qHKI/RVQ0GBuhwL9dwuPTSj7Bv/wv688L4XO/VL7FlUMjqj9zTSNbzSKxPzeGF3xOhbI/uY7jGq50sj8eN7pS6J+yP02bbGHoIbI/rydNks2msT9Gj39pyC2xP+yWvLiPh7A/qdPfHalWrj+4lMDUOYCrP6tMcGuE3qc/Djz0Zp+KpD89FWheq5ChP2kzokLiD54/kcPmN9remT8QrFSXJoGWP5vqm8S4zJM/aA2mrYbOkT9vJTZ9SIiOP8TQOywMRY0/NafucXbQjD+z/jaOz5mNPwVv7+q6j5I/RsfvHLO0lz/zkDsCPpObP85vnSFK65s/TaTCRd++lT9mV7q4FviNP7gg5IcNwIU/3ojLSsOLgD9aeQZj/cyEP69AZvo0jbQ/\",\"dtype\":\"float64\",\"shape\":[75]},\"y\":{\"__ndarray__\":\"GhExyth1ND/Sv8nbtpRIP2vylNV0PVE/aTum7souWD/At0SJ8fVgPw3Iuahxymc/MSNhhJWvcD/bTfBN02d3P2zb5nxnaoA/CD5h5MAGhz8NmeH1TyaQP+zrCsc9p5Y/LbKd76fGnz/bLW5ISEmmPww9YvTcQq8/JV2OstnstT8Er5Y7M8G+P0c+r3jqkcU/5h99k6ZBzj88bCIzFzjVP4enV8oyxN0//yH99nXg5D8qOpLLf0jtP5kqGJXUifQ/c9cS8kHP/D+/DpwzojQEQIEmwoanVwxA4lgXt9HgE0BSSZ2AJuIbQAMJih9jjiNA5q4l5INuK0AwTKYKRj0zQNv5fmq8/DpAaCJseHrtQkB/+zpwzoxKQM3MzMzMeFJAZmZmZmZqWEAAAAAAAFxeQM3MzMzMJmJAmpmZmZkfZUBmZmZmZhhoQDMzMzMzEWtAAAAAAAAKbkBmZmZmZoFwQM3MzMzM/XFAMzMzMzN6c0CamZmZmfZ0QAAAAAAAc3ZAZmZmZmbvd0DNzMzMzGt5QDMzMzMz6HpAmpmZmZlkfEAAAAAAAOF9QGZmZmZmXX9AZmZmZuZsgECamZmZGSuBQM3MzMxM6YFAAAAAAICngkAzMzMzs2WDQGZmZmbmI4RAmpmZmRnihEDNzMzMTKCFQAAAAACAXoZAMzMzM7Mch0BmZmZm5tqHQJqZmZkZmYhAzczMzExXiUAAAAAAgBWKQDMzMzOz04pAZmZmZuaRi0CamZmZGVCMQM3MzMxMDo1AAAAAAIDMjUAzMzMzs4qOQGZmZmbmSI9A\",\"dtype\":\"float64\",\"shape\":[75]}},\"selected\":{\"id\":\"2441a8e2-bf36-42e5-bc28-6a970363298b\",\"type\":\"Selection\"},\"selection_policy\":{\"id\":\"7af38fab-bedb-4007-af2e-13a3412854b4\",\"type\":\"UnionRenderers\"}},\"id\":\"75f4d4c6-b220-4f4e-8905-bd679a963e2d\",\"type\":\"ColumnDataSource\"},{\"attributes\":{},\"id\":\"ac63258a-82a8-44a7-b6a9-3154dfb0f3c7\",\"type\":\"LinearScale\"},{\"attributes\":{},\"id\":\"370644bb-9b8c-4415-b8d3-da9994214b82\",\"type\":\"UnionRenderers\"},{\"attributes\":{},\"id\":\"37d7e992-b751-41f9-b1f6-100a6fc820d6\",\"type\":\"PanTool\"},{\"attributes\":{\"items\":[{\"id\":\"81230310-f49f-4419-8d4b-951830e66d93\",\"type\":\"LegendItem\"},{\"id\":\"3c4aa206-5b3e-4522-b52c-b508801f5017\",\"type\":\"LegendItem\"},{\"id\":\"c1635bc9-5bb5-4906-9563-7c0f343b7cff\",\"type\":\"LegendItem\"}],\"label_text_font_size\":{\"value\":\"8pt\"},\"location\":\"top_center\",\"orientation\":\"horizontal\",\"plot\":{\"id\":\"dac2f6b2-8e45-48ea-bda9-0898487fbf8f\",\"subtype\":\"Figure\",\"type\":\"Plot\"}},\"id\":\"af9a73b1-d192-4ed1-8e93-6c01f7929137\",\"type\":\"Legend\"},{\"attributes\":{\"data_source\":{\"id\":\"75f4d4c6-b220-4f4e-8905-bd679a963e2d\",\"type\":\"ColumnDataSource\"},\"glyph\":{\"id\":\"808ffa91-4e02-4f28-baec-b9588c26e4e7\",\"type\":\"Line\"},\"hover_glyph\":null,\"muted_glyph\":null,\"nonselection_glyph\":{\"id\":\"0c65f0fb-2e5a-4885-9396-89e532b68812\",\"type\":\"Line\"},\"selection_glyph\":null,\"view\":{\"id\":\"273a1106-c2cc-4ffe-b3e6-dfb7bfc9d583\",\"type\":\"CDSView\"}},\"id\":\"1f998398-838c-4122-b1e6-ff3f21a50cee\",\"type\":\"GlyphRenderer\"},{\"attributes\":{\"line_alpha\":0.6,\"line_color\":\"#e41a1c\",\"line_dash\":[6],\"line_width\":5,\"x\":{\"field\":\"x\"},\"y\":{\"field\":\"y\"}},\"id\":\"808ffa91-4e02-4f28-baec-b9588c26e4e7\",\"type\":\"Line\"},{\"attributes\":{},\"id\":\"7af38fab-bedb-4007-af2e-13a3412854b4\",\"type\":\"UnionRenderers\"},{\"attributes\":{\"line_alpha\":0.6,\"line_color\":\"#e41a1c\",\"line_dash\":[6],\"line_width\":5,\"x\":{\"field\":\"x\"},\"y\":{\"field\":\"y\"}},\"id\":\"d0d20aa4-755b-4ffe-8a41-5749364f5b7d\",\"type\":\"Line\"},{\"attributes\":{\"axis_label\":\"cooling rate [K/day]\",\"formatter\":{\"id\":\"8e823bb2-d735-4a57-91b8-a59682ede59d\",\"type\":\"BasicTickFormatter\"},\"plot\":{\"id\":\"dac2f6b2-8e45-48ea-bda9-0898487fbf8f\",\"subtype\":\"Figure\",\"type\":\"Plot\"},\"ticker\":{\"id\":\"ded34bea-e7d9-4f2b-bb0f-28bca3efb3ef\",\"type\":\"BasicTicker\"}},\"id\":\"d68235a7-4a8d-488a-a7b1-179ca34cd3c7\",\"type\":\"LinearAxis\"},{\"attributes\":{\"line_alpha\":0.1,\"line_color\":\"#1f77b4\",\"line_dash\":[6],\"line_width\":5,\"x\":{\"field\":\"x\"},\"y\":{\"field\":\"y\"}},\"id\":\"0c65f0fb-2e5a-4885-9396-89e532b68812\",\"type\":\"Line\"},{\"attributes\":{\"source\":{\"id\":\"e3562698-0849-4d01-a90d-a5b1391df9f3\",\"type\":\"ColumnDataSource\"}},\"id\":\"5e0278c4-fdca-4f48-8759-6f9db84117dc\",\"type\":\"CDSView\"},{\"attributes\":{\"source\":{\"id\":\"c9d30060-6298-44b5-a4ff-deef99641371\",\"type\":\"ColumnDataSource\"}},\"id\":\"838dff25-2fde-418b-b5d2-af25e4dc14b5\",\"type\":\"CDSView\"},{\"attributes\":{\"source\":{\"id\":\"75f4d4c6-b220-4f4e-8905-bd679a963e2d\",\"type\":\"ColumnDataSource\"}},\"id\":\"273a1106-c2cc-4ffe-b3e6-dfb7bfc9d583\",\"type\":\"CDSView\"},{\"attributes\":{\"data_source\":{\"id\":\"e3562698-0849-4d01-a90d-a5b1391df9f3\",\"type\":\"ColumnDataSource\"},\"glyph\":{\"id\":\"d0d20aa4-755b-4ffe-8a41-5749364f5b7d\",\"type\":\"Line\"},\"hover_glyph\":null,\"muted_glyph\":null,\"nonselection_glyph\":{\"id\":\"643dd496-6f05-4607-bfad-d8234ab43a21\",\"type\":\"Line\"},\"selection_glyph\":null,\"view\":{\"id\":\"5e0278c4-fdca-4f48-8759-6f9db84117dc\",\"type\":\"CDSView\"}},\"id\":\"e6d36fab-50a1-4fb5-acff-e925e1cd7ffd\",\"type\":\"GlyphRenderer\"},{\"attributes\":{},\"id\":\"219e45d0-e6a8-4035-9b3c-acec7b04e7bd\",\"type\":\"Selection\"},{\"attributes\":{},\"id\":\"2441a8e2-bf36-42e5-bc28-6a970363298b\",\"type\":\"Selection\"},{\"attributes\":{},\"id\":\"41bf8dea-9627-471f-8ffd-5c5d423fcf01\",\"type\":\"LinearScale\"},{\"attributes\":{\"dimension\":1,\"plot\":{\"id\":\"9008c9b9-6e10-4cb9-9a8c-e4edca6f3264\",\"subtype\":\"Figure\",\"type\":\"Plot\"},\"ticker\":{\"id\":\"5e4f472c-b20e-4f70-97c9-ebfb6497db80\",\"type\":\"LogTicker\"}},\"id\":\"8f799845-7c62-42c5-a2d2-5e911f07fa4b\",\"type\":\"Grid\"},{\"attributes\":{\"source\":{\"id\":\"77806185-4c0f-4fcd-b266-dde9d34a7d7d\",\"type\":\"ColumnDataSource\"}},\"id\":\"0ac1a0e3-2e83-4c4b-975a-00160991ae74\",\"type\":\"CDSView\"},{\"attributes\":{\"line_alpha\":0.3,\"line_color\":\"#984ea3\",\"line_width\":8,\"x\":{\"field\":\"x\"},\"y\":{\"field\":\"y\"}},\"id\":\"446c9e0c-cca1-492a-9463-3e53699ad2dd\",\"type\":\"Line\"},{\"attributes\":{},\"id\":\"c07705be-0215-45de-9a2c-47cd55520bad\",\"type\":\"PanTool\"},{\"attributes\":{\"source\":{\"id\":\"d45fbfa9-c9db-41dc-84fd-461907bf3e09\",\"type\":\"ColumnDataSource\"}},\"id\":\"26e81baa-e613-45ea-83e1-c35473a1a44d\",\"type\":\"CDSView\"},{\"attributes\":{},\"id\":\"ded34bea-e7d9-4f2b-bb0f-28bca3efb3ef\",\"type\":\"BasicTicker\"},{\"attributes\":{\"data_source\":{\"id\":\"d45fbfa9-c9db-41dc-84fd-461907bf3e09\",\"type\":\"ColumnDataSource\"},\"glyph\":{\"id\":\"c6e6946c-407b-4ee7-9dae-465f8136c20f\",\"type\":\"Circle\"},\"hover_glyph\":null,\"muted_glyph\":null,\"nonselection_glyph\":{\"id\":\"0726518f-1068-423e-9d6c-bde47b4974ac\",\"type\":\"Circle\"},\"selection_glyph\":null,\"view\":{\"id\":\"26e81baa-e613-45ea-83e1-c35473a1a44d\",\"type\":\"CDSView\"}},\"id\":\"d0f4f6b7-4b9a-4f38-8362-8e6537924a5b\",\"type\":\"GlyphRenderer\"},{\"attributes\":{\"line_color\":\"#4daf4a\",\"line_width\":1.5,\"x\":{\"field\":\"x\"},\"y\":{\"field\":\"y\"}},\"id\":\"bb900b14-4a0a-4fb6-ba2f-27ae96e9a9b8\",\"type\":\"Line\"},{\"attributes\":{\"callback\":null,\"data\":{\"x\":{\"__ndarray__\":\"ZOt94FFoNMDA92zv2jYaQGCJxmdQjw1AAJ66tyhm0T/woADUYgMBwADX54SBjgXAkCgzKPC0/r+AUb5RntLtv+CxFPnysdy/4AzxvcL/3784eODkiULpv9iA3q2OOO+/IL6sIf8D67+8vRnZrDPav3CgCKZ5pKo/wFPD9R4g0j8IhBaAksnSP3DZ1Nw1CMg/AFDKpcHIs7+wkDbObILTv+DXzymjDc2/APq7/Q1okj8AY0oKxmaqv2BrF2r7Ldq/MIknDivL3b8AK9chdr2mv6CDoqlMjcc/AFY6dlVCrD8AyJF8ajF5P0ABrSZd0qg/gMpPNvQUq78gpOC4Po6nv8BQY7PQzrk/ELIkpDcPsz9w7Qsu1CSiv1DlyaHb55C/pDnWmz53pj88I9ydQ7anPxaz5FTJ6pQ/EFrf1FP0eL94C9COFM+VvySCuaafDpi/mF1ciYIGk7/oq4ZqgP+MvwhYOGvXlIe/sA7TtOXOgr9gvGzXZsx6v2Ci5CYGKm+/AHIPtdb6Vr8AqMxXFfE1P0DgjYEp9lQ/AP2KmZvZVz/ACvBX2dhQPwDcbbh7zyo/QNVBFnV9Sr/Alm/4EUxev2DXd1Cu6Wa/kCd0pVE+bb/QPLCwyu5wv+DLNJ38W3K/zI2n/9gCc7+0HuHlkghzvzS9jAt/lnK/VHCXXu3Wcb+4/UHtdPJwv8j64Q1nEXC/MFMgP2N3br+IaC5tJmxsvwjweeVJbWq/6MXG2IS7aL+kyKfHazVnvyhgHbrFeWW/KHtdnDw1Y78AY8Ek9Kthv0DBTUSES1q/\",\"dtype\":\"float64\",\"shape\":[75]},\"y\":{\"__ndarray__\":\"GhExyth1ND/Sv8nbtpRIP2vylNV0PVE/aTum7souWD/At0SJ8fVgPw3Iuahxymc/MSNhhJWvcD/bTfBN02d3P2zb5nxnaoA/CD5h5MAGhz8NmeH1TyaQP+zrCsc9p5Y/LbKd76fGnz/bLW5ISEmmPww9YvTcQq8/JV2OstnstT8Er5Y7M8G+P0c+r3jqkcU/5h99k6ZBzj88bCIzFzjVP4enV8oyxN0//yH99nXg5D8qOpLLf0jtP5kqGJXUifQ/c9cS8kHP/D+/DpwzojQEQIEmwoanVwxA4lgXt9HgE0BSSZ2AJuIbQAMJih9jjiNA5q4l5INuK0AwTKYKRj0zQNv5fmq8/DpAaCJseHrtQkB/+zpwzoxKQM3MzMzMeFJAZmZmZmZqWEAAAAAAAFxeQM3MzMzMJmJAmpmZmZkfZUBmZmZmZhhoQDMzMzMzEWtAAAAAAAAKbkBmZmZmZoFwQM3MzMzM/XFAMzMzMzN6c0CamZmZmfZ0QAAAAAAAc3ZAZmZmZmbvd0DNzMzMzGt5QDMzMzMz6HpAmpmZmZlkfEAAAAAAAOF9QGZmZmZmXX9AZmZmZuZsgECamZmZGSuBQM3MzMxM6YFAAAAAAICngkAzMzMzs2WDQGZmZmbmI4RAmpmZmRnihEDNzMzMTKCFQAAAAACAXoZAMzMzM7Mch0BmZmZm5tqHQJqZmZkZmYhAzczMzExXiUAAAAAAgBWKQDMzMzOz04pAZmZmZuaRi0CamZmZGVCMQM3MzMxMDo1AAAAAAIDMjUAzMzMzs4qOQGZmZmbmSI9A\",\"dtype\":\"float64\",\"shape\":[75]}},\"selected\":{\"id\":\"48834479-b779-4e47-bafc-9fc60e2efffb\",\"type\":\"Selection\"},\"selection_policy\":{\"id\":\"5258c11a-a08f-4eae-a221-083d238041b6\",\"type\":\"UnionRenderers\"}},\"id\":\"7bfe2fa5-b417-4ce5-a57f-9aac38041f5a\",\"type\":\"ColumnDataSource\"},{\"attributes\":{\"line_alpha\":0.3,\"line_color\":\"#984ea3\",\"line_width\":8,\"x\":{\"field\":\"x\"},\"y\":{\"field\":\"y\"}},\"id\":\"ae8c2fdf-3692-48ca-8ca8-90fe5e90b62b\",\"type\":\"Line\"},{\"attributes\":{\"callback\":null,\"data\":{\"x\":{\"__ndarray__\":\"MK5Qm2fUXEBe91+9fPJIQImZJ4ahykNA6TSaOqk6P0DdVTNo06c4QBtFF5ocoDNAEsdBn5eaL0BviJvZ1LkpQAEFSf0rFCVABibtWO07IUDduRd6Y8YbQNSnm5fUrRVAQGBgfaKbD0BrUVDX7psBQD+qrT2CW+w/AfLVs+kZ9j9wH9mT5pcFQOoXFXvYKQ1ARcnfc8lTEkAuUwtddKUWQDBOKds6AhxAUPtXnW8dIkDcvl0rJ8wmQBm8N5e+4CVADm1cFDjfIEBxVzT1pVQaQMoeMcNJKRVAhrA2V2g4EUAvS9S/ZmoMQLCIW5PFbQdA2QMVjnh4AkCyMUt1gdD6P8BooM7wJPM/bi5f5lkM7D9G3OVvftLhP6+vlqFtp9A/Eslr1/pLwD8oqQTne367P8RM0XwqaZA/p5xXB0x4v78y9lUSfvq8v423hBU+fpM/dUEFxO+1sT/bjko4SLS0P2sjbI9+WrU/5G/hCwQEtT/GYZRTijK0P+0BhMbfK7M/mngzj7wjsj/+peJVqC+xP4JEW3SlNLA/TB9IZDQNrj+sCG3L+yarP/5T3963C6g/bR41xicupT8MXnBLfsGiP7bmOi/LuKA/QFHyVncEnj8v42VsJB2bP5D7fO/IlJg/BlAd4Lhnlj/0UkJjOJ+UP8KrEEu/U5M/zFXsUWXEkj86nFkwR3STP/p0vvJ8TZY/yv3jEBVNmz9HnYf9q4SfP+JngVVpwJ4/KDE40nbGmD8X7/ABHOORP1Qr9rM3iYo/4AaMJQC1hj+pP9JC9cOJP1NTdpJxBLU/\",\"dtype\":\"float64\",\"shape\":[75]},\"y\":{\"__ndarray__\":\"GhExyth1ND/Sv8nbtpRIP2vylNV0PVE/aTum7souWD/At0SJ8fVgPw3Iuahxymc/MSNhhJWvcD/bTfBN02d3P2zb5nxnaoA/CD5h5MAGhz8NmeH1TyaQP+zrCsc9p5Y/LbKd76fGnz/bLW5ISEmmPww9YvTcQq8/JV2OstnstT8Er5Y7M8G+P0c+r3jqkcU/5h99k6ZBzj88bCIzFzjVP4enV8oyxN0//yH99nXg5D8qOpLLf0jtP5kqGJXUifQ/c9cS8kHP/D+/DpwzojQEQIEmwoanVwxA4lgXt9HgE0BSSZ2AJuIbQAMJih9jjiNA5q4l5INuK0AwTKYKRj0zQNv5fmq8/DpAaCJseHrtQkB/+zpwzoxKQM3MzMzMeFJAZmZmZmZqWEAAAAAAAFxeQM3MzMzMJmJAmpmZmZkfZUBmZmZmZhhoQDMzMzMzEWtAAAAAAAAKbkBmZmZmZoFwQM3MzMzM/XFAMzMzMzN6c0CamZmZmfZ0QAAAAAAAc3ZAZmZmZmbvd0DNzMzMzGt5QDMzMzMz6HpAmpmZmZlkfEAAAAAAAOF9QGZmZmZmXX9AZmZmZuZsgECamZmZGSuBQM3MzMxM6YFAAAAAAICngkAzMzMzs2WDQGZmZmbmI4RAmpmZmRnihEDNzMzMTKCFQAAAAACAXoZAMzMzM7Mch0BmZmZm5tqHQJqZmZkZmYhAzczMzExXiUAAAAAAgBWKQDMzMzOz04pAZmZmZuaRi0CamZmZGVCMQM3MzMxMDo1AAAAAAIDMjUAzMzMzs4qOQGZmZmbmSI9A\",\"dtype\":\"float64\",\"shape\":[75]}},\"selected\":{\"id\":\"219e45d0-e6a8-4035-9b3c-acec7b04e7bd\",\"type\":\"Selection\"},\"selection_policy\":{\"id\":\"370644bb-9b8c-4415-b8d3-da9994214b82\",\"type\":\"UnionRenderers\"}},\"id\":\"d45fbfa9-c9db-41dc-84fd-461907bf3e09\",\"type\":\"ColumnDataSource\"},{\"attributes\":{\"fill_alpha\":{\"value\":0.1},\"fill_color\":{\"value\":\"#1f77b4\"},\"line_alpha\":{\"value\":0.1},\"line_color\":{\"value\":\"#1f77b4\"},\"x\":{\"field\":\"x\"},\"y\":{\"field\":\"y\"}},\"id\":\"0726518f-1068-423e-9d6c-bde47b4974ac\",\"type\":\"Circle\"},{\"attributes\":{\"line_alpha\":0.1,\"line_color\":\"#1f77b4\",\"line_dash\":[6],\"line_width\":5,\"x\":{\"field\":\"x\"},\"y\":{\"field\":\"y\"}},\"id\":\"643dd496-6f05-4607-bfad-d8234ab43a21\",\"type\":\"Line\"},{\"attributes\":{},\"id\":\"6f9b51be-8f95-48d9-b1e6-92b14b7c47e4\",\"type\":\"PanTool\"},{\"attributes\":{\"axis_label\":\"pressure [mb]\",\"formatter\":{\"id\":\"ddb1e103-dfab-4232-95bd-c643d952ef01\",\"type\":\"LogTickFormatter\"},\"plot\":{\"id\":\"9008c9b9-6e10-4cb9-9a8c-e4edca6f3264\",\"subtype\":\"Figure\",\"type\":\"Plot\"},\"ticker\":{\"id\":\"5e4f472c-b20e-4f70-97c9-ebfb6497db80\",\"type\":\"LogTicker\"}},\"id\":\"3adb72a1-34b5-47e1-8e3e-b31b294e8515\",\"type\":\"LogAxis\"},{\"attributes\":{},\"id\":\"bc59f3a9-443c-40bd-8fcd-1c0d987deb07\",\"type\":\"UnionRenderers\"},{\"attributes\":{\"children\":[{\"id\":\"aaa1da0b-251b-494f-9180-9765fd10ae93\",\"type\":\"Row\"}]},\"id\":\"61cd50cb-df2a-4da0-9d61-11477df57363\",\"type\":\"Column\"},{\"attributes\":{},\"id\":\"83f52f7b-477f-4647-9f50-171ae8e41857\",\"type\":\"BasicTicker\"},{\"attributes\":{},\"id\":\"b8962dbe-8b9c-488a-a3ba-8101469c51fe\",\"type\":\"WheelZoomTool\"},{\"attributes\":{\"above\":[{\"id\":\"43637eee-bfe0-4174-9291-aaf7819a029c\",\"type\":\"Legend\"}],\"below\":[{\"id\":\"27cbc36c-860f-4849-b8e9-6777c22b6972\",\"type\":\"LinearAxis\"}],\"left\":[{\"id\":\"3adb72a1-34b5-47e1-8e3e-b31b294e8515\",\"type\":\"LogAxis\"}],\"plot_height\":500,\"plot_width\":300,\"renderers\":[{\"id\":\"27cbc36c-860f-4849-b8e9-6777c22b6972\",\"type\":\"LinearAxis\"},{\"id\":\"84e8047f-69e2-43da-9c2f-bfbe80b333e9\",\"type\":\"Grid\"},{\"id\":\"3adb72a1-34b5-47e1-8e3e-b31b294e8515\",\"type\":\"LogAxis\"},{\"id\":\"8f799845-7c62-42c5-a2d2-5e911f07fa4b\",\"type\":\"Grid\"},{\"id\":\"cc5e47c2-f8e8-401a-b57e-2ae4090663c6\",\"type\":\"BoxAnnotation\"},{\"id\":\"1f998398-838c-4122-b1e6-ff3f21a50cee\",\"type\":\"GlyphRenderer\"},{\"id\":\"d0f4f6b7-4b9a-4f38-8362-8e6537924a5b\",\"type\":\"GlyphRenderer\"},{\"id\":\"a34e4035-8ec4-44be-9aee-747032b2fb39\",\"type\":\"GlyphRenderer\"},{\"id\":\"54dea220-bcbc-4e79-b75e-eb59c01cb061\",\"type\":\"GlyphRenderer\"},{\"id\":\"43637eee-bfe0-4174-9291-aaf7819a029c\",\"type\":\"Legend\"}],\"title\":{\"id\":\"8d512b57-f04f-4bcd-b482-4ff4b4c2f364\",\"type\":\"Title\"},\"toolbar\":{\"id\":\"9708c53d-c742-4768-bce5-91c42ec6a5ad\",\"type\":\"Toolbar\"},\"toolbar_location\":null,\"x_range\":{\"id\":\"e757420d-c64f-4604-94be-f5d6453d0f07\",\"type\":\"Range1d\"},\"x_scale\":{\"id\":\"3e048fe1-7648-4883-ae39-0ff9fe936fb0\",\"type\":\"LinearScale\"},\"y_range\":{\"id\":\"f58ef83c-d381-4c6f-81d4-2945489d283c\",\"type\":\"Range1d\"},\"y_scale\":{\"id\":\"5e04beb5-90f2-455e-8eef-b2782060dcb1\",\"type\":\"LogScale\"}},\"id\":\"9008c9b9-6e10-4cb9-9a8c-e4edca6f3264\",\"subtype\":\"Figure\",\"type\":\"Plot\"},{\"attributes\":{\"label\":{\"value\":\"CLIRAD - CRD\"},\"renderers\":[{\"id\":\"e6d36fab-50a1-4fb5-acff-e925e1cd7ffd\",\"type\":\"GlyphRenderer\"}]},\"id\":\"71fa9507-3349-4fba-a09d-9fb9fec0e0ba\",\"type\":\"LegendItem\"},{\"attributes\":{\"overlay\":{\"id\":\"efdaf096-9c38-4adc-ba29-ae4f282e7507\",\"type\":\"BoxAnnotation\"}},\"id\":\"97443d63-7eac-47a9-b83a-80513adcfc15\",\"type\":\"BoxZoomTool\"},{\"attributes\":{\"data_source\":{\"id\":\"c9d30060-6298-44b5-a4ff-deef99641371\",\"type\":\"ColumnDataSource\"},\"glyph\":{\"id\":\"ae8c2fdf-3692-48ca-8ca8-90fe5e90b62b\",\"type\":\"Line\"},\"hover_glyph\":null,\"muted_glyph\":null,\"nonselection_glyph\":{\"id\":\"f85abdde-dfc1-4f1a-83f8-1aa28bc84d4e\",\"type\":\"Line\"},\"selection_glyph\":null,\"view\":{\"id\":\"838dff25-2fde-418b-b5d2-af25e4dc14b5\",\"type\":\"CDSView\"}},\"id\":\"7a8c8da1-0271-4b2b-95b8-4906a2e23844\",\"type\":\"GlyphRenderer\"},{\"attributes\":{},\"id\":\"e42d37fe-76ba-4872-abbe-f2b13d30ecdb\",\"type\":\"UnionRenderers\"},{\"attributes\":{\"bottom_units\":\"screen\",\"fill_alpha\":{\"value\":0.5},\"fill_color\":{\"value\":\"lightgrey\"},\"left_units\":\"screen\",\"level\":\"overlay\",\"line_alpha\":{\"value\":1.0},\"line_color\":{\"value\":\"black\"},\"line_dash\":[4,4],\"line_width\":{\"value\":2},\"plot\":null,\"render_mode\":\"css\",\"right_units\":\"screen\",\"top_units\":\"screen\"},\"id\":\"efdaf096-9c38-4adc-ba29-ae4f282e7507\",\"type\":\"BoxAnnotation\"},{\"attributes\":{\"plot\":null,\"text\":\"\"},\"id\":\"8224b5de-fc60-4997-b758-22d1f0cad77c\",\"type\":\"Title\"},{\"attributes\":{\"above\":[{\"id\":\"af9a73b1-d192-4ed1-8e93-6c01f7929137\",\"type\":\"Legend\"}],\"below\":[{\"id\":\"d68235a7-4a8d-488a-a7b1-179ca34cd3c7\",\"type\":\"LinearAxis\"}],\"left\":[{\"id\":\"fa2f62a0-eb60-45fd-a0d7-09aa16bea1b8\",\"type\":\"LinearAxis\"}],\"plot_height\":500,\"plot_width\":300,\"renderers\":[{\"id\":\"d68235a7-4a8d-488a-a7b1-179ca34cd3c7\",\"type\":\"LinearAxis\"},{\"id\":\"f3fa9842-aabd-4d9e-912d-dd0e4c271f05\",\"type\":\"Grid\"},{\"id\":\"fa2f62a0-eb60-45fd-a0d7-09aa16bea1b8\",\"type\":\"LinearAxis\"},{\"id\":\"65b3d65f-9e3a-4a93-a640-8d178973d073\",\"type\":\"Grid\"},{\"id\":\"efdaf096-9c38-4adc-ba29-ae4f282e7507\",\"type\":\"BoxAnnotation\"},{\"id\":\"ed6b76cc-1e33-4501-a2d4-e4890efdf364\",\"type\":\"GlyphRenderer\"},{\"id\":\"95c77e11-70a5-4fd2-b02d-0647d5c817fc\",\"type\":\"GlyphRenderer\"},{\"id\":\"f129a937-ac0e-42fa-b720-00ae6240e5ed\",\"type\":\"GlyphRenderer\"},{\"id\":\"7a8c8da1-0271-4b2b-95b8-4906a2e23844\",\"type\":\"GlyphRenderer\"},{\"id\":\"af9a73b1-d192-4ed1-8e93-6c01f7929137\",\"type\":\"Legend\"}],\"title\":{\"id\":\"8224b5de-fc60-4997-b758-22d1f0cad77c\",\"type\":\"Title\"},\"toolbar\":{\"id\":\"6a88a618-3950-4a90-88db-a7ac34311641\",\"type\":\"Toolbar\"},\"toolbar_location\":null,\"x_range\":{\"id\":\"f37d9768-ef53-48e6-a069-30df1da30ba3\",\"type\":\"Range1d\"},\"x_scale\":{\"id\":\"41bf8dea-9627-471f-8ffd-5c5d423fcf01\",\"type\":\"LinearScale\"},\"y_range\":{\"id\":\"06661eda-6caf-4175-8eaa-923d3df326ba\",\"type\":\"Range1d\"},\"y_scale\":{\"id\":\"ac63258a-82a8-44a7-b6a9-3154dfb0f3c7\",\"type\":\"LinearScale\"}},\"id\":\"dac2f6b2-8e45-48ea-bda9-0898487fbf8f\",\"subtype\":\"Figure\",\"type\":\"Plot\"},{\"attributes\":{\"line_alpha\":0.6,\"line_color\":\"#e41a1c\",\"line_dash\":[6],\"line_width\":5,\"x\":{\"field\":\"x\"},\"y\":{\"field\":\"y\"}},\"id\":\"410dccd5-8383-4b4b-8e14-2b31d5a29fad\",\"type\":\"Line\"},{\"attributes\":{\"label\":{\"value\":\"CRD\"},\"renderers\":[{\"id\":\"95c77e11-70a5-4fd2-b02d-0647d5c817fc\",\"type\":\"GlyphRenderer\"},{\"id\":\"f129a937-ac0e-42fa-b720-00ae6240e5ed\",\"type\":\"GlyphRenderer\"}]},\"id\":\"3c4aa206-5b3e-4522-b52c-b508801f5017\",\"type\":\"LegendItem\"},{\"attributes\":{\"label\":{\"value\":\"WGT igg=10 - CRD\"},\"renderers\":[{\"id\":\"c92deec6-c9cb-459a-9df6-ecda870fb3f1\",\"type\":\"GlyphRenderer\"}]},\"id\":\"89fa6f58-2c2d-4842-a350-9b0bdd46e059\",\"type\":\"LegendItem\"},{\"attributes\":{\"num_minor_ticks\":10},\"id\":\"5e4f472c-b20e-4f70-97c9-ebfb6497db80\",\"type\":\"LogTicker\"},{\"attributes\":{\"line_alpha\":0.1,\"line_color\":\"#1f77b4\",\"line_width\":8,\"x\":{\"field\":\"x\"},\"y\":{\"field\":\"y\"}},\"id\":\"c93985a4-1522-417e-a668-cdd785a7ea01\",\"type\":\"Line\"},{\"attributes\":{\"children\":[{\"id\":\"dac2f6b2-8e45-48ea-bda9-0898487fbf8f\",\"subtype\":\"Figure\",\"type\":\"Plot\"},{\"id\":\"9008c9b9-6e10-4cb9-9a8c-e4edca6f3264\",\"subtype\":\"Figure\",\"type\":\"Plot\"},{\"id\":\"7242b2ff-a02a-4dc1-b776-7477f22b8734\",\"subtype\":\"Figure\",\"type\":\"Plot\"}]},\"id\":\"aaa1da0b-251b-494f-9180-9765fd10ae93\",\"type\":\"Row\"},{\"attributes\":{},\"id\":\"fbb83dc9-33ce-4d1e-a2f3-f08949293b5c\",\"type\":\"SaveTool\"},{\"attributes\":{},\"id\":\"7551fc4e-cbd3-4d6b-9435-5a3f71183347\",\"type\":\"SaveTool\"},{\"attributes\":{},\"id\":\"3e048fe1-7648-4883-ae39-0ff9fe936fb0\",\"type\":\"LinearScale\"},{\"attributes\":{},\"id\":\"9ea4e240-d361-4914-a44b-9a14f1d99d8a\",\"type\":\"HelpTool\"},{\"attributes\":{},\"id\":\"3fed117d-d3fd-4ee0-abc6-777d4cfa5b66\",\"type\":\"BasicTickFormatter\"},{\"attributes\":{},\"id\":\"eda9dadb-335c-4d20-ad05-4194249ff9b4\",\"type\":\"BasicTickFormatter\"},{\"attributes\":{},\"id\":\"7201458c-fbb5-45d2-aaec-83afed4b1c4a\",\"type\":\"ResetTool\"},{\"attributes\":{\"axis_label\":\"cooling rate [K/day]\",\"formatter\":{\"id\":\"eda9dadb-335c-4d20-ad05-4194249ff9b4\",\"type\":\"BasicTickFormatter\"},\"plot\":{\"id\":\"9008c9b9-6e10-4cb9-9a8c-e4edca6f3264\",\"subtype\":\"Figure\",\"type\":\"Plot\"},\"ticker\":{\"id\":\"83f52f7b-477f-4647-9f50-171ae8e41857\",\"type\":\"BasicTicker\"}},\"id\":\"27cbc36c-860f-4849-b8e9-6777c22b6972\",\"type\":\"LinearAxis\"},{\"attributes\":{\"data_source\":{\"id\":\"7bfe2fa5-b417-4ce5-a57f-9aac38041f5a\",\"type\":\"ColumnDataSource\"},\"glyph\":{\"id\":\"446c9e0c-cca1-492a-9463-3e53699ad2dd\",\"type\":\"Line\"},\"hover_glyph\":null,\"muted_glyph\":null,\"nonselection_glyph\":{\"id\":\"c93985a4-1522-417e-a668-cdd785a7ea01\",\"type\":\"Line\"},\"selection_glyph\":null,\"view\":{\"id\":\"36fdba0e-4e96-4991-a8dc-e0f5e7374b7e\",\"type\":\"CDSView\"}},\"id\":\"c92deec6-c9cb-459a-9df6-ecda870fb3f1\",\"type\":\"GlyphRenderer\"},{\"attributes\":{},\"id\":\"5c847b1c-4014-40ba-8c2d-96a6fb6a67b5\",\"type\":\"Selection\"},{\"attributes\":{\"label\":{\"value\":\"CLIRAD\"},\"renderers\":[{\"id\":\"ed6b76cc-1e33-4501-a2d4-e4890efdf364\",\"type\":\"GlyphRenderer\"}]},\"id\":\"81230310-f49f-4419-8d4b-951830e66d93\",\"type\":\"LegendItem\"},{\"attributes\":{},\"id\":\"5a3746f2-751c-4baa-9833-8be7c0df27e0\",\"type\":\"UnionRenderers\"},{\"attributes\":{},\"id\":\"3040c546-c648-4a69-a7a8-7aa719d0695f\",\"type\":\"Selection\"},{\"attributes\":{},\"id\":\"30ac0342-032f-49f2-bf4a-68c5c1d6bfed\",\"type\":\"Selection\"},{\"attributes\":{\"source\":{\"id\":\"7bfe2fa5-b417-4ce5-a57f-9aac38041f5a\",\"type\":\"ColumnDataSource\"}},\"id\":\"36fdba0e-4e96-4991-a8dc-e0f5e7374b7e\",\"type\":\"CDSView\"},{\"attributes\":{},\"id\":\"8e823bb2-d735-4a57-91b8-a59682ede59d\",\"type\":\"BasicTickFormatter\"},{\"attributes\":{\"label\":{\"value\":\"WGT igg=10\"},\"renderers\":[{\"id\":\"7a8c8da1-0271-4b2b-95b8-4906a2e23844\",\"type\":\"GlyphRenderer\"}]},\"id\":\"c1635bc9-5bb5-4906-9563-7c0f343b7cff\",\"type\":\"LegendItem\"},{\"attributes\":{},\"id\":\"52fa62d4-a2d5-4af1-9644-c6df8dffa39d\",\"type\":\"Selection\"},{\"attributes\":{\"line_color\":\"#4daf4a\",\"line_width\":1.5,\"x\":{\"field\":\"x\"},\"y\":{\"field\":\"y\"}},\"id\":\"fc958530-c580-4bd7-aad6-f4e0970291fd\",\"type\":\"Line\"},{\"attributes\":{\"line_alpha\":0.1,\"line_color\":\"#1f77b4\",\"line_width\":8,\"x\":{\"field\":\"x\"},\"y\":{\"field\":\"y\"}},\"id\":\"f85abdde-dfc1-4f1a-83f8-1aa28bc84d4e\",\"type\":\"Line\"},{\"attributes\":{},\"id\":\"cd5a7967-ed5c-4d22-a220-08175d16f120\",\"type\":\"UnionRenderers\"},{\"attributes\":{\"plot\":null,\"text\":\"\"},\"id\":\"8d512b57-f04f-4bcd-b482-4ff4b4c2f364\",\"type\":\"Title\"},{\"attributes\":{\"callback\":null,\"end\":11.5342341351,\"start\":-0.25024764509999997},\"id\":\"e757420d-c64f-4604-94be-f5d6453d0f07\",\"type\":\"Range1d\"},{\"attributes\":{\"ticker\":null},\"id\":\"ddb1e103-dfab-4232-95bd-c643d952ef01\",\"type\":\"LogTickFormatter\"},{\"attributes\":{},\"id\":\"74f600d2-a0a8-4a94-b3e0-33c23da75b0d\",\"type\":\"UnionRenderers\"},{\"attributes\":{},\"id\":\"5e04beb5-90f2-455e-8eef-b2782060dcb1\",\"type\":\"LogScale\"},{\"attributes\":{},\"id\":\"05de4362-336e-4224-b09f-1331a20af8dd\",\"type\":\"BasicTickFormatter\"},{\"attributes\":{\"callback\":null,\"end\":0.01,\"start\":1020},\"id\":\"f58ef83c-d381-4c6f-81d4-2945489d283c\",\"type\":\"Range1d\"},{\"attributes\":{\"plot\":null,\"text\":\"\"},\"id\":\"3218f7b7-ec20-40c2-a234-05051be72248\",\"type\":\"Title\"},{\"attributes\":{\"callback\":null,\"data\":{\"x\":{\"__ndarray__\":\"MK5Qm2fUXEBe91+9fPJIQImZJ4ahykNA6TSaOqk6P0DdVTNo06c4QBtFF5ocoDNAEsdBn5eaL0BviJvZ1LkpQAEFSf0rFCVABibtWO07IUDduRd6Y8YbQNSnm5fUrRVAQGBgfaKbD0BrUVDX7psBQD+qrT2CW+w/AfLVs+kZ9j9wH9mT5pcFQOoXFXvYKQ1ARcnfc8lTEkAuUwtddKUWQDBOKds6AhxAUPtXnW8dIkDcvl0rJ8wmQBm8N5e+4CVADm1cFDjfIEBxVzT1pVQaQMoeMcNJKRVAhrA2V2g4EUAvS9S/ZmoMQLCIW5PFbQdA2QMVjnh4AkCyMUt1gdD6P8BooM7wJPM/bi5f5lkM7D9G3OVvftLhP6+vlqFtp9A/Eslr1/pLwD8oqQTne367P8RM0XwqaZA/p5xXB0x4v78y9lUSfvq8v423hBU+fpM/dUEFxO+1sT/bjko4SLS0P2sjbI9+WrU/5G/hCwQEtT/GYZRTijK0P+0BhMbfK7M/mngzj7wjsj/+peJVqC+xP4JEW3SlNLA/TB9IZDQNrj+sCG3L+yarP/5T3963C6g/bR41xicupT8MXnBLfsGiP7bmOi/LuKA/QFHyVncEnj8v42VsJB2bP5D7fO/IlJg/BlAd4Lhnlj/0UkJjOJ+UP8KrEEu/U5M/zFXsUWXEkj86nFkwR3STP/p0vvJ8TZY/yv3jEBVNmz9HnYf9q4SfP+JngVVpwJ4/KDE40nbGmD8X7/ABHOORP1Qr9rM3iYo/4AaMJQC1hj+pP9JC9cOJP1NTdpJxBLU/\",\"dtype\":\"float64\",\"shape\":[75]},\"y\":{\"__ndarray__\":\"GhExyth1ND/Sv8nbtpRIP2vylNV0PVE/aTum7souWD/At0SJ8fVgPw3Iuahxymc/MSNhhJWvcD/bTfBN02d3P2zb5nxnaoA/CD5h5MAGhz8NmeH1TyaQP+zrCsc9p5Y/LbKd76fGnz/bLW5ISEmmPww9YvTcQq8/JV2OstnstT8Er5Y7M8G+P0c+r3jqkcU/5h99k6ZBzj88bCIzFzjVP4enV8oyxN0//yH99nXg5D8qOpLLf0jtP5kqGJXUifQ/c9cS8kHP/D+/DpwzojQEQIEmwoanVwxA4lgXt9HgE0BSSZ2AJuIbQAMJih9jjiNA5q4l5INuK0AwTKYKRj0zQNv5fmq8/DpAaCJseHrtQkB/+zpwzoxKQM3MzMzMeFJAZmZmZmZqWEAAAAAAAFxeQM3MzMzMJmJAmpmZmZkfZUBmZmZmZhhoQDMzMzMzEWtAAAAAAAAKbkBmZmZmZoFwQM3MzMzM/XFAMzMzMzN6c0CamZmZmfZ0QAAAAAAAc3ZAZmZmZmbvd0DNzMzMzGt5QDMzMzMz6HpAmpmZmZlkfEAAAAAAAOF9QGZmZmZmXX9AZmZmZuZsgECamZmZGSuBQM3MzMxM6YFAAAAAAICngkAzMzMzs2WDQGZmZmbmI4RAmpmZmRnihEDNzMzMTKCFQAAAAACAXoZAMzMzM7Mch0BmZmZm5tqHQJqZmZkZmYhAzczMzExXiUAAAAAAgBWKQDMzMzOz04pAZmZmZuaRi0CamZmZGVCMQM3MzMxMDo1AAAAAAIDMjUAzMzMzs4qOQGZmZmbmSI9A\",\"dtype\":\"float64\",\"shape\":[75]}},\"selected\":{\"id\":\"3040c546-c648-4a69-a7a8-7aa719d0695f\",\"type\":\"Selection\"},\"selection_policy\":{\"id\":\"5a3746f2-751c-4baa-9833-8be7c0df27e0\",\"type\":\"UnionRenderers\"}},\"id\":\"77806185-4c0f-4fcd-b266-dde9d34a7d7d\",\"type\":\"ColumnDataSource\"},{\"attributes\":{},\"id\":\"1087b662-ae50-453b-a262-939043ed76b9\",\"type\":\"UnionRenderers\"},{\"attributes\":{\"line_alpha\":0.1,\"line_color\":\"#1f77b4\",\"line_dash\":[6],\"line_width\":5,\"x\":{\"field\":\"x\"},\"y\":{\"field\":\"y\"}},\"id\":\"a7eae49d-e41c-4d6d-8799-d788a2af6759\",\"type\":\"Line\"},{\"attributes\":{},\"id\":\"cf390e43-8ebc-4d22-bab8-825ba01f5d47\",\"type\":\"Selection\"},{\"attributes\":{\"ticker\":null},\"id\":\"cd4bdac3-0d12-4b61-ad37-6c161ce8e34a\",\"type\":\"LogTickFormatter\"},{\"attributes\":{\"items\":[{\"id\":\"70c9fda1-7a56-4e52-8731-b0fce2a17f18\",\"type\":\"LegendItem\"},{\"id\":\"6a01da2b-b314-4ab0-8af5-7a8087f10809\",\"type\":\"LegendItem\"},{\"id\":\"a06a5602-b3ba-425a-9cfa-756980f8f80a\",\"type\":\"LegendItem\"}],\"label_text_font_size\":{\"value\":\"8pt\"},\"location\":\"top_center\",\"orientation\":\"horizontal\",\"plot\":{\"id\":\"9008c9b9-6e10-4cb9-9a8c-e4edca6f3264\",\"subtype\":\"Figure\",\"type\":\"Plot\"}},\"id\":\"43637eee-bfe0-4174-9291-aaf7819a029c\",\"type\":\"Legend\"},{\"attributes\":{},\"id\":\"4e6f0a28-1213-4fad-bc46-f41548477ead\",\"type\":\"Selection\"},{\"attributes\":{\"plot\":{\"id\":\"9008c9b9-6e10-4cb9-9a8c-e4edca6f3264\",\"subtype\":\"Figure\",\"type\":\"Plot\"},\"ticker\":{\"id\":\"83f52f7b-477f-4647-9f50-171ae8e41857\",\"type\":\"BasicTicker\"}},\"id\":\"84e8047f-69e2-43da-9c2f-bfbe80b333e9\",\"type\":\"Grid\"},{\"attributes\":{\"callback\":null,\"data\":{\"x\":{\"__ndarray__\":\"MK5Qm2fUXEBe91+9fPJIQImZJ4ahykNA6TSaOqk6P0DdVTNo06c4QBtFF5ocoDNAEsdBn5eaL0BviJvZ1LkpQAEFSf0rFCVABibtWO07IUDduRd6Y8YbQNSnm5fUrRVAQGBgfaKbD0BrUVDX7psBQD+qrT2CW+w/AfLVs+kZ9j9wH9mT5pcFQOoXFXvYKQ1ARcnfc8lTEkAuUwtddKUWQDBOKds6AhxAUPtXnW8dIkDcvl0rJ8wmQBm8N5e+4CVADm1cFDjfIEBxVzT1pVQaQMoeMcNJKRVAhrA2V2g4EUAvS9S/ZmoMQLCIW5PFbQdA2QMVjnh4AkCyMUt1gdD6P8BooM7wJPM/bi5f5lkM7D9G3OVvftLhP6+vlqFtp9A/Eslr1/pLwD8oqQTne367P8RM0XwqaZA/p5xXB0x4v78y9lUSfvq8v423hBU+fpM/dUEFxO+1sT/bjko4SLS0P2sjbI9+WrU/5G/hCwQEtT/GYZRTijK0P+0BhMbfK7M/mngzj7wjsj/+peJVqC+xP4JEW3SlNLA/TB9IZDQNrj+sCG3L+yarP/5T3963C6g/bR41xicupT8MXnBLfsGiP7bmOi/LuKA/QFHyVncEnj8v42VsJB2bP5D7fO/IlJg/BlAd4Lhnlj/0UkJjOJ+UP8KrEEu/U5M/zFXsUWXEkj86nFkwR3STP/p0vvJ8TZY/yv3jEBVNmz9HnYf9q4SfP+JngVVpwJ4/KDE40nbGmD8X7/ABHOORP1Qr9rM3iYo/4AaMJQC1hj+pP9JC9cOJP1NTdpJxBLU/\",\"dtype\":\"float64\",\"shape\":[75]},\"y\":{\"__ndarray__\":\"GhExyth1ND/Sv8nbtpRIP2vylNV0PVE/aTum7souWD/At0SJ8fVgPw3Iuahxymc/MSNhhJWvcD/bTfBN02d3P2zb5nxnaoA/CD5h5MAGhz8NmeH1TyaQP+zrCsc9p5Y/LbKd76fGnz/bLW5ISEmmPww9YvTcQq8/JV2OstnstT8Er5Y7M8G+P0c+r3jqkcU/5h99k6ZBzj88bCIzFzjVP4enV8oyxN0//yH99nXg5D8qOpLLf0jtP5kqGJXUifQ/c9cS8kHP/D+/DpwzojQEQIEmwoanVwxA4lgXt9HgE0BSSZ2AJuIbQAMJih9jjiNA5q4l5INuK0AwTKYKRj0zQNv5fmq8/DpAaCJseHrtQkB/+zpwzoxKQM3MzMzMeFJAZmZmZmZqWEAAAAAAAFxeQM3MzMzMJmJAmpmZmZkfZUBmZmZmZhhoQDMzMzMzEWtAAAAAAAAKbkBmZmZmZoFwQM3MzMzM/XFAMzMzMzN6c0CamZmZmfZ0QAAAAAAAc3ZAZmZmZmbvd0DNzMzMzGt5QDMzMzMz6HpAmpmZmZlkfEAAAAAAAOF9QGZmZmZmXX9AZmZmZuZsgECamZmZGSuBQM3MzMxM6YFAAAAAAICngkAzMzMzs2WDQGZmZmbmI4RAmpmZmRnihEDNzMzMTKCFQAAAAACAXoZAMzMzM7Mch0BmZmZm5tqHQJqZmZkZmYhAzczMzExXiUAAAAAAgBWKQDMzMzOz04pAZmZmZuaRi0CamZmZGVCMQM3MzMxMDo1AAAAAAIDMjUAzMzMzs4qOQGZmZmbmSI9A\",\"dtype\":\"float64\",\"shape\":[75]}},\"selected\":{\"id\":\"52fa62d4-a2d5-4af1-9644-c6df8dffa39d\",\"type\":\"Selection\"},\"selection_policy\":{\"id\":\"cd5a7967-ed5c-4d22-a220-08175d16f120\",\"type\":\"UnionRenderers\"}},\"id\":\"d83f6d72-3234-4574-9762-f2dae9bd5574\",\"type\":\"ColumnDataSource\"},{\"attributes\":{},\"id\":\"8f5dae4d-6fab-4100-b6f0-652817e87eea\",\"type\":\"UnionRenderers\"},{\"attributes\":{\"toolbar\":{\"id\":\"3afc80de-cf6a-4845-8985-9037b6038d23\",\"type\":\"ProxyToolbar\"},\"toolbar_location\":\"above\"},\"id\":\"012fd78d-83f6-410f-a91c-92067b1715bb\",\"type\":\"ToolbarBox\"},{\"attributes\":{\"callback\":null,\"data\":{\"x\":{\"__ndarray__\":\"P21UpwO8V0B/TkF+NkxMQC0LJv4otkVAnPhqR3GqP0BP54pSQqg2QL41sFWCDTFAVvFG5pHnK0DCFyZTBfsnQGTPnsvUNCRArVkd70Q/IEBU1RV9T6YYQFFGAUenyxFAAfZ28LjtCEBfgehJmbT8P2yq9gIWDe4/gN8aM+Sz+j+EUzB0Nv4HQNRnYhXKzQ5ATG4UWWsYEkBMeimG9XgVQFNiMrDpJBtAUjsNYrE/IkCfq63YX9YmQJSgv9AjHiVAB0a5jzcIIEDcn4uGjDcaQNBuPr85BRZAUH0xpT91EUBw2wjVF6MMQJ/zCY/s4AdACaEodW4fAkDUCtP3GiL6P0EbypqizfQ/LsSP1r1a7j+V/39So6bgP0j6k3wVLs8/SfR0prfcxT8Ip4lnnpbDP94sap+qHKI/RVQ0GBuhwL9dwuPTSj7Bv/wv688L4XO/VL7FlUMjqj9zTSNbzSKxPzeGF3xOhbI/uY7jGq50sj8eN7pS6J+yP02bbGHoIbI/rydNks2msT9Gj39pyC2xP+yWvLiPh7A/qdPfHalWrj+4lMDUOYCrP6tMcGuE3qc/Djz0Zp+KpD89FWheq5ChP2kzokLiD54/kcPmN9remT8QrFSXJoGWP5vqm8S4zJM/aA2mrYbOkT9vJTZ9SIiOP8TQOywMRY0/NafucXbQjD+z/jaOz5mNPwVv7+q6j5I/RsfvHLO0lz/zkDsCPpObP85vnSFK65s/TaTCRd++lT9mV7q4FviNP7gg5IcNwIU/3ojLSsOLgD9aeQZj/cyEP69AZvo0jbQ/\",\"dtype\":\"float64\",\"shape\":[75]},\"y\":{\"__ndarray__\":\"GhExyth1ND/Sv8nbtpRIP2vylNV0PVE/aTum7souWD/At0SJ8fVgPw3Iuahxymc/MSNhhJWvcD/bTfBN02d3P2zb5nxnaoA/CD5h5MAGhz8NmeH1TyaQP+zrCsc9p5Y/LbKd76fGnz/bLW5ISEmmPww9YvTcQq8/JV2OstnstT8Er5Y7M8G+P0c+r3jqkcU/5h99k6ZBzj88bCIzFzjVP4enV8oyxN0//yH99nXg5D8qOpLLf0jtP5kqGJXUifQ/c9cS8kHP/D+/DpwzojQEQIEmwoanVwxA4lgXt9HgE0BSSZ2AJuIbQAMJih9jjiNA5q4l5INuK0AwTKYKRj0zQNv5fmq8/DpAaCJseHrtQkB/+zpwzoxKQM3MzMzMeFJAZmZmZmZqWEAAAAAAAFxeQM3MzMzMJmJAmpmZmZkfZUBmZmZmZhhoQDMzMzMzEWtAAAAAAAAKbkBmZmZmZoFwQM3MzMzM/XFAMzMzMzN6c0CamZmZmfZ0QAAAAAAAc3ZAZmZmZmbvd0DNzMzMzGt5QDMzMzMz6HpAmpmZmZlkfEAAAAAAAOF9QGZmZmZmXX9AZmZmZuZsgECamZmZGSuBQM3MzMxM6YFAAAAAAICngkAzMzMzs2WDQGZmZmbmI4RAmpmZmRnihEDNzMzMTKCFQAAAAACAXoZAMzMzM7Mch0BmZmZm5tqHQJqZmZkZmYhAzczMzExXiUAAAAAAgBWKQDMzMzOz04pAZmZmZuaRi0CamZmZGVCMQM3MzMxMDo1AAAAAAIDMjUAzMzMzs4qOQGZmZmbmSI9A\",\"dtype\":\"float64\",\"shape\":[75]}},\"selected\":{\"id\":\"30ac0342-032f-49f2-bf4a-68c5c1d6bfed\",\"type\":\"Selection\"},\"selection_policy\":{\"id\":\"e42d37fe-76ba-4872-abbe-f2b13d30ecdb\",\"type\":\"UnionRenderers\"}},\"id\":\"5aeeff0a-0ce6-4085-953b-f70589e4b810\",\"type\":\"ColumnDataSource\"},{\"attributes\":{},\"id\":\"5258c11a-a08f-4eae-a221-083d238041b6\",\"type\":\"UnionRenderers\"},{\"attributes\":{\"tools\":[{\"id\":\"6f9b51be-8f95-48d9-b1e6-92b14b7c47e4\",\"type\":\"PanTool\"},{\"id\":\"b8962dbe-8b9c-488a-a3ba-8101469c51fe\",\"type\":\"WheelZoomTool\"},{\"id\":\"97443d63-7eac-47a9-b83a-80513adcfc15\",\"type\":\"BoxZoomTool\"},{\"id\":\"fbb83dc9-33ce-4d1e-a2f3-f08949293b5c\",\"type\":\"SaveTool\"},{\"id\":\"7201458c-fbb5-45d2-aaec-83afed4b1c4a\",\"type\":\"ResetTool\"},{\"id\":\"9ea4e240-d361-4914-a44b-9a14f1d99d8a\",\"type\":\"HelpTool\"},{\"id\":\"c07705be-0215-45de-9a2c-47cd55520bad\",\"type\":\"PanTool\"},{\"id\":\"603776ed-e0dc-4db5-82a5-3f7ed308fe05\",\"type\":\"WheelZoomTool\"},{\"id\":\"cd22c9cc-9bec-43b7-94e5-b81cd5ed3ccc\",\"type\":\"BoxZoomTool\"},{\"id\":\"7551fc4e-cbd3-4d6b-9435-5a3f71183347\",\"type\":\"SaveTool\"},{\"id\":\"36282bb0-6d65-46e9-90f3-01b8d445d21c\",\"type\":\"ResetTool\"},{\"id\":\"19b438ff-26d6-4d7a-b351-cb0942bcdbd2\",\"type\":\"HelpTool\"},{\"id\":\"37d7e992-b751-41f9-b1f6-100a6fc820d6\",\"type\":\"PanTool\"},{\"id\":\"a16818d0-6658-41b1-848d-14277d98ff0a\",\"type\":\"WheelZoomTool\"},{\"id\":\"cbdc9588-3657-4372-af0e-0bb77dbcd438\",\"type\":\"BoxZoomTool\"},{\"id\":\"a1c2d137-4cec-4d6b-b237-cb78d3f9d276\",\"type\":\"SaveTool\"},{\"id\":\"402becfe-0e60-41c5-82df-9a9bd02fb2a8\",\"type\":\"ResetTool\"},{\"id\":\"5325b2e0-8b17-47b4-92a6-b1163500a46c\",\"type\":\"HelpTool\"}]},\"id\":\"3afc80de-cf6a-4845-8985-9037b6038d23\",\"type\":\"ProxyToolbar\"},{\"attributes\":{},\"id\":\"88aca758-f6be-4f07-90e9-a4fcac14d8b7\",\"type\":\"Selection\"},{\"attributes\":{},\"id\":\"48834479-b779-4e47-bafc-9fc60e2efffb\",\"type\":\"Selection\"},{\"attributes\":{\"children\":[{\"id\":\"012fd78d-83f6-410f-a91c-92067b1715bb\",\"type\":\"ToolbarBox\"},{\"id\":\"61cd50cb-df2a-4da0-9d61-11477df57363\",\"type\":\"Column\"}]},\"id\":\"46687a66-6f26-44ed-8e3e-9bbd3dc6a127\",\"type\":\"Column\"},{\"attributes\":{\"data_source\":{\"id\":\"77806185-4c0f-4fcd-b266-dde9d34a7d7d\",\"type\":\"ColumnDataSource\"},\"glyph\":{\"id\":\"3e392b9f-e541-4ef8-a9d6-db407e7a9761\",\"type\":\"Circle\"},\"hover_glyph\":null,\"muted_glyph\":null,\"nonselection_glyph\":{\"id\":\"93b4f936-3880-42b2-84ec-0a43bdc42381\",\"type\":\"Circle\"},\"selection_glyph\":null,\"view\":{\"id\":\"0ac1a0e3-2e83-4c4b-975a-00160991ae74\",\"type\":\"CDSView\"}},\"id\":\"95c77e11-70a5-4fd2-b02d-0647d5c817fc\",\"type\":\"GlyphRenderer\"},{\"attributes\":{\"data_source\":{\"id\":\"d83f6d72-3234-4574-9762-f2dae9bd5574\",\"type\":\"ColumnDataSource\"},\"glyph\":{\"id\":\"fc958530-c580-4bd7-aad6-f4e0970291fd\",\"type\":\"Line\"},\"hover_glyph\":null,\"muted_glyph\":null,\"nonselection_glyph\":{\"id\":\"b7302d70-49f6-4be3-ba77-9826089975b7\",\"type\":\"Line\"},\"selection_glyph\":null,\"view\":{\"id\":\"3c1f5aaa-efe7-452c-aba3-664a7d18617c\",\"type\":\"CDSView\"}},\"id\":\"f129a937-ac0e-42fa-b720-00ae6240e5ed\",\"type\":\"GlyphRenderer\"},{\"attributes\":{\"callback\":null,\"end\":0.01,\"start\":1020},\"id\":\"06661eda-6caf-4175-8eaa-923d3df326ba\",\"type\":\"Range1d\"},{\"attributes\":{},\"id\":\"603776ed-e0dc-4db5-82a5-3f7ed308fe05\",\"type\":\"WheelZoomTool\"},{\"attributes\":{\"line_alpha\":0.1,\"line_color\":\"#1f77b4\",\"line_width\":1.5,\"x\":{\"field\":\"x\"},\"y\":{\"field\":\"y\"}},\"id\":\"b7302d70-49f6-4be3-ba77-9826089975b7\",\"type\":\"Line\"},{\"attributes\":{\"fill_alpha\":{\"value\":0.7},\"fill_color\":{\"value\":\"#4daf4a\"},\"line_alpha\":{\"value\":0.7},\"line_color\":{\"value\":\"#4daf4a\"},\"x\":{\"field\":\"x\"},\"y\":{\"field\":\"y\"}},\"id\":\"3e392b9f-e541-4ef8-a9d6-db407e7a9761\",\"type\":\"Circle\"},{\"attributes\":{\"data_source\":{\"id\":\"5aeeff0a-0ce6-4085-953b-f70589e4b810\",\"type\":\"ColumnDataSource\"},\"glyph\":{\"id\":\"410dccd5-8383-4b4b-8e14-2b31d5a29fad\",\"type\":\"Line\"},\"hover_glyph\":null,\"muted_glyph\":null,\"nonselection_glyph\":{\"id\":\"a7eae49d-e41c-4d6d-8799-d788a2af6759\",\"type\":\"Line\"},\"selection_glyph\":null,\"view\":{\"id\":\"601c56b2-145d-4084-9e1b-91140ab236be\",\"type\":\"CDSView\"}},\"id\":\"ed6b76cc-1e33-4501-a2d4-e4890efdf364\",\"type\":\"GlyphRenderer\"},{\"attributes\":{\"axis_label\":\"pressure [mb]\",\"formatter\":{\"id\":\"3fed117d-d3fd-4ee0-abc6-777d4cfa5b66\",\"type\":\"BasicTickFormatter\"},\"plot\":{\"id\":\"dac2f6b2-8e45-48ea-bda9-0898487fbf8f\",\"subtype\":\"Figure\",\"type\":\"Plot\"},\"ticker\":{\"id\":\"9d78b250-c6a8-45ca-9751-7554d1e40e3a\",\"type\":\"BasicTicker\"}},\"id\":\"fa2f62a0-eb60-45fd-a0d7-09aa16bea1b8\",\"type\":\"LinearAxis\"},{\"attributes\":{\"source\":{\"id\":\"5aeeff0a-0ce6-4085-953b-f70589e4b810\",\"type\":\"ColumnDataSource\"}},\"id\":\"601c56b2-145d-4084-9e1b-91140ab236be\",\"type\":\"CDSView\"},{\"attributes\":{\"dimension\":1,\"plot\":{\"id\":\"dac2f6b2-8e45-48ea-bda9-0898487fbf8f\",\"subtype\":\"Figure\",\"type\":\"Plot\"},\"ticker\":{\"id\":\"9d78b250-c6a8-45ca-9751-7554d1e40e3a\",\"type\":\"BasicTicker\"}},\"id\":\"65b3d65f-9e3a-4a93-a640-8d178973d073\",\"type\":\"Grid\"},{\"attributes\":{\"fill_alpha\":{\"value\":0.1},\"fill_color\":{\"value\":\"#1f77b4\"},\"line_alpha\":{\"value\":0.1},\"line_color\":{\"value\":\"#1f77b4\"},\"x\":{\"field\":\"x\"},\"y\":{\"field\":\"y\"}},\"id\":\"93b4f936-3880-42b2-84ec-0a43bdc42381\",\"type\":\"Circle\"},{\"attributes\":{\"plot\":{\"id\":\"dac2f6b2-8e45-48ea-bda9-0898487fbf8f\",\"subtype\":\"Figure\",\"type\":\"Plot\"},\"ticker\":{\"id\":\"ded34bea-e7d9-4f2b-bb0f-28bca3efb3ef\",\"type\":\"BasicTicker\"}},\"id\":\"f3fa9842-aabd-4d9e-912d-dd0e4c271f05\",\"type\":\"Grid\"},{\"attributes\":{},\"id\":\"9d78b250-c6a8-45ca-9751-7554d1e40e3a\",\"type\":\"BasicTicker\"},{\"attributes\":{\"active_drag\":\"auto\",\"active_inspect\":\"auto\",\"active_scroll\":\"auto\",\"active_tap\":\"auto\",\"tools\":[{\"id\":\"c07705be-0215-45de-9a2c-47cd55520bad\",\"type\":\"PanTool\"},{\"id\":\"603776ed-e0dc-4db5-82a5-3f7ed308fe05\",\"type\":\"WheelZoomTool\"},{\"id\":\"cd22c9cc-9bec-43b7-94e5-b81cd5ed3ccc\",\"type\":\"BoxZoomTool\"},{\"id\":\"7551fc4e-cbd3-4d6b-9435-5a3f71183347\",\"type\":\"SaveTool\"},{\"id\":\"36282bb0-6d65-46e9-90f3-01b8d445d21c\",\"type\":\"ResetTool\"},{\"id\":\"19b438ff-26d6-4d7a-b351-cb0942bcdbd2\",\"type\":\"HelpTool\"}]},\"id\":\"9708c53d-c742-4768-bce5-91c42ec6a5ad\",\"type\":\"Toolbar\"}],\"root_ids\":[\"46687a66-6f26-44ed-8e3e-9bbd3dc6a127\"]},\"title\":\"Bokeh Application\",\"version\":\"0.12.16\"}};\n",
       "  var render_items = [{\"docid\":\"18d8b4c1-0e95-4dbc-b3af-7e5bac5d1b94\",\"elementid\":\"e40f37d5-8c7b-4ca9-89c4-ab09a1027425\",\"modelid\":\"46687a66-6f26-44ed-8e3e-9bbd3dc6a127\"}];\n",
       "  root.Bokeh.embed.embed_items_notebook(docs_json, render_items);\n",
       "\n",
       "  }\n",
       "  if (root.Bokeh !== undefined) {\n",
       "    embed_document(root);\n",
       "  } else {\n",
       "    var attempts = 0;\n",
       "    var timer = setInterval(function(root) {\n",
       "      if (root.Bokeh !== undefined) {\n",
       "        embed_document(root);\n",
       "        clearInterval(timer);\n",
       "      }\n",
       "      attempts++;\n",
       "      if (attempts > 100) {\n",
       "        console.log(\"Bokeh: ERROR: Unable to run BokehJS code because BokehJS library is missing\")\n",
       "        clearInterval(timer);\n",
       "      }\n",
       "    }, 10, root)\n",
       "  }\n",
       "})(window);"
      ],
      "application/vnd.bokehjs_exec.v0+json": ""
     },
     "metadata": {
      "application/vnd.bokehjs_exec.v0+json": {
       "id": "46687a66-6f26-44ed-8e3e-9bbd3dc6a127"
      }
     },
     "output_type": "display_data"
    },
    {
     "data": {
      "text/markdown": [
       "--------------------------"
      ],
      "text/plain": [
       "<IPython.core.display.Markdown object>"
      ]
     },
     "metadata": {},
     "output_type": "display_data"
    }
   ],
   "source": [
    "show_results(dlbl=data_lbl, dcli=data_cli, link=LINKS)"
   ]
  },
  {
   "cell_type": "code",
   "execution_count": 19,
   "metadata": {},
   "outputs": [
    {
     "data": {
      "text/markdown": [
       "-----------------------------"
      ],
      "text/plain": [
       "<IPython.core.display.Markdown object>"
      ]
     },
     "metadata": {},
     "output_type": "display_data"
    },
    {
     "name": "stdout",
     "output_type": "stream",
     "text": [
      "08138157864\n",
      "<a id=\"08138157864\"></a>\n",
      "<a href=\"#08138157864\">mls</a>\n"
     ]
    },
    {
     "data": {
      "text/markdown": [
       "<a id=\"08138157864\"></a>"
      ],
      "text/plain": [
       "<IPython.core.display.Markdown object>"
      ]
     },
     "metadata": {},
     "output_type": "display_data"
    },
    {
     "data": {
      "text/markdown": [
       "[3] {'co2': 0.0008} mls"
      ],
      "text/plain": [
       "<IPython.core.display.Markdown object>"
      ]
     },
     "metadata": {},
     "output_type": "display_data"
    },
    {
     "name": "stdout",
     "output_type": "stream",
     "text": [
      ":O\n",
      "{'co2': 0.0008} [3] <a href=\"#08138157864\">mls</a>\n"
     ]
    },
    {
     "data": {
      "text/html": [
       "<div>\n",
       "<style scoped>\n",
       "    .dataframe tbody tr th:only-of-type {\n",
       "        vertical-align: middle;\n",
       "    }\n",
       "\n",
       "    .dataframe tbody tr th {\n",
       "        vertical-align: top;\n",
       "    }\n",
       "\n",
       "    .dataframe thead tr th {\n",
       "        text-align: left;\n",
       "    }\n",
       "</style>\n",
       "<table border=\"1\" class=\"dataframe\">\n",
       "  <thead>\n",
       "    <tr>\n",
       "      <th></th>\n",
       "      <th colspan=\"2\" halign=\"left\">Run parameters</th>\n",
       "      <th>Fit parameters</th>\n",
       "    </tr>\n",
       "    <tr>\n",
       "      <th></th>\n",
       "      <th>CLIRAD</th>\n",
       "      <th>LBLNEW</th>\n",
       "      <th>(co2, 3a)</th>\n",
       "    </tr>\n",
       "  </thead>\n",
       "  <tbody>\n",
       "    <tr>\n",
       "      <th>atmpro</th>\n",
       "      <td>mls</td>\n",
       "      <td>mls</td>\n",
       "      <td>mls</td>\n",
       "    </tr>\n",
       "    <tr>\n",
       "      <th>band</th>\n",
       "      <td>[3]</td>\n",
       "      <td>3a</td>\n",
       "      <td>3a</td>\n",
       "    </tr>\n",
       "    <tr>\n",
       "      <th>commitnumber</th>\n",
       "      <td>1013f91</td>\n",
       "      <td>a22ab94</td>\n",
       "      <td>a06b618</td>\n",
       "    </tr>\n",
       "    <tr>\n",
       "      <th>conc</th>\n",
       "      <td>-</td>\n",
       "      <td>0.0008</td>\n",
       "      <td>0.0004</td>\n",
       "    </tr>\n",
       "    <tr>\n",
       "      <th>dv</th>\n",
       "      <td>-</td>\n",
       "      <td>0.001</td>\n",
       "      <td>0.001</td>\n",
       "    </tr>\n",
       "    <tr>\n",
       "      <th>klin</th>\n",
       "      <td>-</td>\n",
       "      <td>6.37556e-24</td>\n",
       "      <td>6.37556e-24</td>\n",
       "    </tr>\n",
       "    <tr>\n",
       "      <th>molecule</th>\n",
       "      <td>{'co2': 0.0008}</td>\n",
       "      <td>co2</td>\n",
       "      <td>co2</td>\n",
       "    </tr>\n",
       "    <tr>\n",
       "      <th>ng_adju</th>\n",
       "      <td>-</td>\n",
       "      <td>[0, 0, 0]</td>\n",
       "      <td>[0, 0, 0]</td>\n",
       "    </tr>\n",
       "    <tr>\n",
       "      <th>ng_refs</th>\n",
       "      <td>-</td>\n",
       "      <td>[3, 2, 4]</td>\n",
       "      <td>[3, 2, 4]</td>\n",
       "    </tr>\n",
       "    <tr>\n",
       "      <th>nv</th>\n",
       "      <td>-</td>\n",
       "      <td>1000</td>\n",
       "      <td>1000</td>\n",
       "    </tr>\n",
       "    <tr>\n",
       "      <th>option_compute_btable</th>\n",
       "      <td>-</td>\n",
       "      <td>0</td>\n",
       "      <td>0</td>\n",
       "    </tr>\n",
       "    <tr>\n",
       "      <th>option_compute_ktable</th>\n",
       "      <td>-</td>\n",
       "      <td>0</td>\n",
       "      <td>1</td>\n",
       "    </tr>\n",
       "    <tr>\n",
       "      <th>option_wgt_flux</th>\n",
       "      <td>-</td>\n",
       "      <td>1</td>\n",
       "      <td>1</td>\n",
       "    </tr>\n",
       "    <tr>\n",
       "      <th>option_wgt_k</th>\n",
       "      <td>-</td>\n",
       "      <td>1</td>\n",
       "      <td>1</td>\n",
       "    </tr>\n",
       "    <tr>\n",
       "      <th>ref_pts</th>\n",
       "      <td>-</td>\n",
       "      <td>[[1, 250], [10, 250], [500, 250]]</td>\n",
       "      <td>[(1, 250), (10, 250), (500, 250)]</td>\n",
       "    </tr>\n",
       "    <tr>\n",
       "      <th>tsfc</th>\n",
       "      <td>294</td>\n",
       "      <td>294</td>\n",
       "      <td>294</td>\n",
       "    </tr>\n",
       "    <tr>\n",
       "      <th>vmax</th>\n",
       "      <td>-</td>\n",
       "      <td>620</td>\n",
       "      <td>620</td>\n",
       "    </tr>\n",
       "    <tr>\n",
       "      <th>vmin</th>\n",
       "      <td>-</td>\n",
       "      <td>540</td>\n",
       "      <td>540</td>\n",
       "    </tr>\n",
       "    <tr>\n",
       "      <th>w_diffuse</th>\n",
       "      <td>-</td>\n",
       "      <td>[[1.6, 1.6, 1.7], [1.75, 1.75], [1.55, 1.55, 1.6, 1.85]]</td>\n",
       "      <td>[(1.6, 1.6, 1.7), (1.75, 1.75), (1.55, 1.55, 1.6, 1.85)]</td>\n",
       "    </tr>\n",
       "    <tr>\n",
       "      <th>wgt</th>\n",
       "      <td>-</td>\n",
       "      <td>[[0.7, 0.3, 0.7], [0.7, 0.6], [0.4, 0.5, 0.8, 0.95]]</td>\n",
       "      <td>[(0.7, 0.3, 0.7), (0.7, 0.6), (0.4, 0.5, 0.8, 0.95)]</td>\n",
       "    </tr>\n",
       "  </tbody>\n",
       "</table>\n",
       "</div>"
      ],
      "text/plain": [
       "                        Run parameters  \\\n",
       "                                CLIRAD   \n",
       "atmpro                 mls               \n",
       "band                   [3]               \n",
       "commitnumber           1013f91           \n",
       "conc                   -                 \n",
       "dv                     -                 \n",
       "klin                   -                 \n",
       "molecule               {'co2': 0.0008}   \n",
       "ng_adju                -                 \n",
       "ng_refs                -                 \n",
       "nv                     -                 \n",
       "option_compute_btable  -                 \n",
       "option_compute_ktable  -                 \n",
       "option_wgt_flux        -                 \n",
       "option_wgt_k           -                 \n",
       "ref_pts                -                 \n",
       "tsfc                   294               \n",
       "vmax                   -                 \n",
       "vmin                   -                 \n",
       "w_diffuse              -                 \n",
       "wgt                    -                 \n",
       "\n",
       "                                                                                 \\\n",
       "                                                                         LBLNEW   \n",
       "atmpro                 mls                                                        \n",
       "band                   3a                                                         \n",
       "commitnumber           a22ab94                                                    \n",
       "conc                   0.0008                                                     \n",
       "dv                     0.001                                                      \n",
       "klin                   6.37556e-24                                                \n",
       "molecule               co2                                                        \n",
       "ng_adju                [0, 0, 0]                                                  \n",
       "ng_refs                [3, 2, 4]                                                  \n",
       "nv                     1000                                                       \n",
       "option_compute_btable  0                                                          \n",
       "option_compute_ktable  0                                                          \n",
       "option_wgt_flux        1                                                          \n",
       "option_wgt_k           1                                                          \n",
       "ref_pts                [[1, 250], [10, 250], [500, 250]]                          \n",
       "tsfc                   294                                                        \n",
       "vmax                   620                                                        \n",
       "vmin                   540                                                        \n",
       "w_diffuse              [[1.6, 1.6, 1.7], [1.75, 1.75], [1.55, 1.55, 1.6, 1.85]]   \n",
       "wgt                    [[0.7, 0.3, 0.7], [0.7, 0.6], [0.4, 0.5, 0.8, 0.95]]       \n",
       "\n",
       "                                                                 Fit parameters  \n",
       "                                                                      (co2, 3a)  \n",
       "atmpro                 mls                                                       \n",
       "band                   3a                                                        \n",
       "commitnumber           a06b618                                                   \n",
       "conc                   0.0004                                                    \n",
       "dv                     0.001                                                     \n",
       "klin                   6.37556e-24                                               \n",
       "molecule               co2                                                       \n",
       "ng_adju                [0, 0, 0]                                                 \n",
       "ng_refs                [3, 2, 4]                                                 \n",
       "nv                     1000                                                      \n",
       "option_compute_btable  0                                                         \n",
       "option_compute_ktable  1                                                         \n",
       "option_wgt_flux        1                                                         \n",
       "option_wgt_k           1                                                         \n",
       "ref_pts                [(1, 250), (10, 250), (500, 250)]                         \n",
       "tsfc                   294                                                       \n",
       "vmax                   620                                                       \n",
       "vmin                   540                                                       \n",
       "w_diffuse              [(1.6, 1.6, 1.7), (1.75, 1.75), (1.55, 1.55, 1.6, 1.85)]  \n",
       "wgt                    [(0.7, 0.3, 0.7), (0.7, 0.6), (0.4, 0.5, 0.8, 0.95)]      "
      ]
     },
     "metadata": {},
     "output_type": "display_data"
    },
    {
     "data": {
      "text/html": [
       "\n",
       "<div class=\"bk-root\">\n",
       "    <div class=\"bk-plotdiv\" id=\"41b6489a-42de-493f-a73a-cafa026252f4\"></div>\n",
       "</div>"
      ]
     },
     "metadata": {},
     "output_type": "display_data"
    },
    {
     "data": {
      "application/javascript": [
       "(function(root) {\n",
       "  function embed_document(root) {\n",
       "    \n",
       "  var docs_json = {\"f3362c48-5cb7-4b43-8ba6-b9889e9c4a21\":{\"roots\":{\"references\":[{\"attributes\":{\"bottom_units\":\"screen\",\"fill_alpha\":{\"value\":0.5},\"fill_color\":{\"value\":\"lightgrey\"},\"left_units\":\"screen\",\"level\":\"overlay\",\"line_alpha\":{\"value\":1.0},\"line_color\":{\"value\":\"black\"},\"line_dash\":[4,4],\"line_width\":{\"value\":2},\"plot\":null,\"render_mode\":\"css\",\"right_units\":\"screen\",\"top_units\":\"screen\"},\"id\":\"55bf4b42-c08d-4c7b-9d15-1d7b9578d18d\",\"type\":\"BoxAnnotation\"},{\"attributes\":{},\"id\":\"69179cd1-0589-4bc4-9cfa-1da2b5124616\",\"type\":\"SaveTool\"},{\"attributes\":{\"active_drag\":\"auto\",\"active_inspect\":\"auto\",\"active_scroll\":\"auto\",\"active_tap\":\"auto\",\"tools\":[{\"id\":\"e928f640-2ba1-4e1b-9e5a-1745632a121a\",\"type\":\"PanTool\"},{\"id\":\"776ba945-195d-4af2-938a-daa86873938b\",\"type\":\"WheelZoomTool\"},{\"id\":\"07485b57-9bdf-414a-9c9c-f4eca51097d3\",\"type\":\"BoxZoomTool\"},{\"id\":\"1410a70b-8227-4a1f-b137-51ae2476d61d\",\"type\":\"SaveTool\"},{\"id\":\"a44ed814-4489-4c85-9777-d09ee23c2fbd\",\"type\":\"ResetTool\"},{\"id\":\"42fd9f2f-15e9-40de-9f2c-c297a24139c0\",\"type\":\"HelpTool\"}]},\"id\":\"1c241204-914d-4130-9c58-356c8f6e226d\",\"type\":\"Toolbar\"},{\"attributes\":{\"label\":{\"value\":\"WGT igg=10 - CRD\"},\"renderers\":[{\"id\":\"a1918450-7009-4311-b50c-2f383c76dec2\",\"type\":\"GlyphRenderer\"}]},\"id\":\"f5221a45-bcbd-4569-a9a4-fc0ea79d9bc9\",\"type\":\"LegendItem\"},{\"attributes\":{},\"id\":\"f8026336-2e84-4939-8830-c52983b62a2f\",\"type\":\"ResetTool\"},{\"attributes\":{},\"id\":\"4f481ce0-85d1-41ad-a463-87c42e9b7b53\",\"type\":\"LinearScale\"},{\"attributes\":{},\"id\":\"7034db2b-98bb-479f-be79-4a86dcba572c\",\"type\":\"HelpTool\"},{\"attributes\":{\"above\":[{\"id\":\"9b44cbdb-eb12-42c9-87ee-b2163ff3530b\",\"type\":\"Legend\"}],\"below\":[{\"id\":\"2fca7a48-e6a3-4d80-94b8-caef00bffb4b\",\"type\":\"LinearAxis\"}],\"left\":[{\"id\":\"edddf6e1-a374-4176-95f8-fe9bcb922926\",\"type\":\"LogAxis\"}],\"plot_height\":500,\"plot_width\":300,\"renderers\":[{\"id\":\"2fca7a48-e6a3-4d80-94b8-caef00bffb4b\",\"type\":\"LinearAxis\"},{\"id\":\"99a29834-7721-4fed-9533-545535ab1d14\",\"type\":\"Grid\"},{\"id\":\"edddf6e1-a374-4176-95f8-fe9bcb922926\",\"type\":\"LogAxis\"},{\"id\":\"7fd443ca-9d83-4787-8732-d0a32db2650d\",\"type\":\"Grid\"},{\"id\":\"5a083601-9050-4b09-9044-ab66a6c6323f\",\"type\":\"BoxAnnotation\"},{\"id\":\"230ab18b-db60-4e4d-92c6-326130eb7728\",\"type\":\"GlyphRenderer\"},{\"id\":\"a1918450-7009-4311-b50c-2f383c76dec2\",\"type\":\"GlyphRenderer\"},{\"id\":\"9b44cbdb-eb12-42c9-87ee-b2163ff3530b\",\"type\":\"Legend\"}],\"title\":{\"id\":\"ac5884fa-c157-4eb3-b452-7f66e690f04a\",\"type\":\"Title\"},\"toolbar\":{\"id\":\"1c241204-914d-4130-9c58-356c8f6e226d\",\"type\":\"Toolbar\"},\"toolbar_location\":null,\"x_range\":{\"id\":\"317b2ac5-ecb2-427a-ad2f-f627d48ff23e\",\"type\":\"Range1d\"},\"x_scale\":{\"id\":\"4f481ce0-85d1-41ad-a463-87c42e9b7b53\",\"type\":\"LinearScale\"},\"y_range\":{\"id\":\"86e89f09-e312-4bd9-9c96-8e3d99c01cf6\",\"type\":\"Range1d\"},\"y_scale\":{\"id\":\"5836f258-7355-44f2-8853-129ab36047c5\",\"type\":\"LogScale\"}},\"id\":\"1da2d90a-31b6-4ea8-8eb0-380cc4a44225\",\"subtype\":\"Figure\",\"type\":\"Plot\"},{\"attributes\":{\"label\":{\"value\":\"CRD\"},\"renderers\":[{\"id\":\"beb35b5b-83e4-41bc-a752-5cf294ff3149\",\"type\":\"GlyphRenderer\"},{\"id\":\"908e4038-6567-4638-8af2-7e5d14a01d89\",\"type\":\"GlyphRenderer\"}]},\"id\":\"00057b99-0984-4a69-bef1-213312180590\",\"type\":\"LegendItem\"},{\"attributes\":{\"label\":{\"value\":\"CLIRAD - CRD\"},\"renderers\":[{\"id\":\"230ab18b-db60-4e4d-92c6-326130eb7728\",\"type\":\"GlyphRenderer\"}]},\"id\":\"423bf1e2-1db5-4def-89c7-3a5d5ee60929\",\"type\":\"LegendItem\"},{\"attributes\":{\"data_source\":{\"id\":\"4c218da0-2676-4f44-8b06-35c0566504fc\",\"type\":\"ColumnDataSource\"},\"glyph\":{\"id\":\"450be24f-2a74-44e3-a7ae-48c2b4d316c5\",\"type\":\"Line\"},\"hover_glyph\":null,\"muted_glyph\":null,\"nonselection_glyph\":{\"id\":\"0f356804-b96d-4397-80b7-318eed936b49\",\"type\":\"Line\"},\"selection_glyph\":null,\"view\":{\"id\":\"401c574f-0237-4304-b5f1-54362d31f35c\",\"type\":\"CDSView\"}},\"id\":\"a1918450-7009-4311-b50c-2f383c76dec2\",\"type\":\"GlyphRenderer\"},{\"attributes\":{},\"id\":\"4b99b308-e573-471b-906b-6326599636c8\",\"type\":\"Selection\"},{\"attributes\":{\"label\":{\"value\":\"CLIRAD\"},\"renderers\":[{\"id\":\"75cf5f21-86b6-4cb3-81fc-f42c946358b7\",\"type\":\"GlyphRenderer\"}]},\"id\":\"da1fe3ad-5a71-4dd9-abb7-7486151fedf7\",\"type\":\"LegendItem\"},{\"attributes\":{},\"id\":\"642f8b0d-8354-42c2-8667-ea9edc0f2636\",\"type\":\"Selection\"},{\"attributes\":{\"items\":[{\"id\":\"423bf1e2-1db5-4def-89c7-3a5d5ee60929\",\"type\":\"LegendItem\"},{\"id\":\"f5221a45-bcbd-4569-a9a4-fc0ea79d9bc9\",\"type\":\"LegendItem\"}],\"label_text_font_size\":{\"value\":\"8pt\"},\"location\":\"top_center\",\"orientation\":\"horizontal\",\"plot\":{\"id\":\"1da2d90a-31b6-4ea8-8eb0-380cc4a44225\",\"subtype\":\"Figure\",\"type\":\"Plot\"}},\"id\":\"9b44cbdb-eb12-42c9-87ee-b2163ff3530b\",\"type\":\"Legend\"},{\"attributes\":{},\"id\":\"4f43d8c2-9484-43f1-a761-c8f18abc9646\",\"type\":\"BasicTickFormatter\"},{\"attributes\":{\"plot\":null,\"text\":\"\"},\"id\":\"e067e4f0-3aeb-42a0-96b3-ab680c5291d5\",\"type\":\"Title\"},{\"attributes\":{\"label\":{\"value\":\"WGT igg=10\"},\"renderers\":[{\"id\":\"909fd367-d39a-4530-ae41-46d97d2cedee\",\"type\":\"GlyphRenderer\"}]},\"id\":\"f8067eda-5b7d-431d-bb7c-34b0b80a8f3a\",\"type\":\"LegendItem\"},{\"attributes\":{\"plot\":{\"id\":\"1da2d90a-31b6-4ea8-8eb0-380cc4a44225\",\"subtype\":\"Figure\",\"type\":\"Plot\"},\"ticker\":{\"id\":\"240c3f46-0e1a-4060-a4e4-eceb22864299\",\"type\":\"BasicTicker\"}},\"id\":\"99a29834-7721-4fed-9533-545535ab1d14\",\"type\":\"Grid\"},{\"attributes\":{\"source\":{\"id\":\"184f3dfe-753a-454d-9fec-3d56a23960eb\",\"type\":\"ColumnDataSource\"}},\"id\":\"78ac41f1-c38d-4208-9028-b24dcf53f0c2\",\"type\":\"CDSView\"},{\"attributes\":{},\"id\":\"63f6e655-636e-444d-b851-0750a18c114d\",\"type\":\"UnionRenderers\"},{\"attributes\":{\"children\":[{\"id\":\"0e9c0f59-ecd2-4c73-949f-20bd915dbb74\",\"type\":\"Row\"}]},\"id\":\"838b08ed-6f3f-40cc-b79b-b264d98f44af\",\"type\":\"Column\"},{\"attributes\":{\"ticker\":null},\"id\":\"2c97aaf0-cb8a-4093-8160-f9b54e83221e\",\"type\":\"LogTickFormatter\"},{\"attributes\":{\"source\":{\"id\":\"023248fe-af4f-4bf9-8c50-a9d8302a599e\",\"type\":\"ColumnDataSource\"}},\"id\":\"28aa14b4-95d5-4b5f-8897-61b32129acc8\",\"type\":\"CDSView\"},{\"attributes\":{\"children\":[{\"id\":\"39424243-4f52-461d-bdb9-c2e077f58ac8\",\"subtype\":\"Figure\",\"type\":\"Plot\"},{\"id\":\"444fef2f-6d46-4ab4-b6ba-73920f4c5a35\",\"subtype\":\"Figure\",\"type\":\"Plot\"},{\"id\":\"1da2d90a-31b6-4ea8-8eb0-380cc4a44225\",\"subtype\":\"Figure\",\"type\":\"Plot\"}]},\"id\":\"0e9c0f59-ecd2-4c73-949f-20bd915dbb74\",\"type\":\"Row\"},{\"attributes\":{},\"id\":\"5836f258-7355-44f2-8853-129ab36047c5\",\"type\":\"LogScale\"},{\"attributes\":{\"callback\":null,\"data\":{\"x\":{\"__ndarray__\":\"wuong/ql4z8E1YogcNXjPw3hvmUmfuQ/GgiUHXAp5T/l23Cj/sXlP6V0KGJYS+Y/EnLpcOit5j8hpXnNst3mP1eIgPMQxeY/+T2MMTxH5j8xTPe5ZD/lP9ROXXu8gOM/Eiocxp3X4D+H0BQl/jHaP1OfWq/4ZdM/AzGvTxI/0j8QVOl12VvUP3aHiBJK1dQ/bXS/2yQc1j+gOmE1DzbbPwMoX3yMY+I/ty11SN166T9oWSumTzjwPzTo/ylZTe8/1XwH0tSR6D93Y3zvV4zjP9jAWaSf4t8/WJPAHS2U2T9BCfNuXRLUPwT83ZPXDs8/xyuCVgwHxz8XmAR3euW/Pyf1WnNimbg/B/n58+D2tj+wARTvvBG0P+oz8ymIoa0/FpHBYSN9pT9cUWAA4bKgP0bYEFYZMpI//vSK1SPCWj8fXLW7BYhrP3Jyy1Gh3pY/GVap/XNroz9velK2Az6pPx5RltcwHK4/tmtW14ZFsT+KARRgK1+zP0/R8RimYLU/7SJK+oZFtz+VQ2BMk/+4P93zgE0nfbo/jpIrM8Wruz8JwyLtiYO8P4hpDh1rDb0/sjwSn6JbvT9Z4x15Un+9P7Njwzxhhb0/9RceOT95vT9IMVSgZ2W9PzTj2dU2U70/8EHaVnhLvT9uwewZEli9PwfAkzOJgr0/gnizfFnTvT9fvOcMAVK+P/1id+FUAb8/1sgpySvNvz8UrhB/6DzAPxDrIwRZYsA/1dJ/wPlVwD+Ks2d+NTzAP+wphijGO8A/ahGasOlswD8ybq9AbOzAPxT4J1EcjcI/\",\"dtype\":\"float64\",\"shape\":[75]},\"y\":{\"__ndarray__\":\"GhExyth1ND/Sv8nbtpRIP2vylNV0PVE/aTum7souWD/At0SJ8fVgPw3Iuahxymc/MSNhhJWvcD/bTfBN02d3P2zb5nxnaoA/CD5h5MAGhz8NmeH1TyaQP+zrCsc9p5Y/LbKd76fGnz/bLW5ISEmmPww9YvTcQq8/JV2OstnstT8Er5Y7M8G+P0c+r3jqkcU/5h99k6ZBzj88bCIzFzjVP4enV8oyxN0//yH99nXg5D8qOpLLf0jtP5kqGJXUifQ/c9cS8kHP/D+/DpwzojQEQIEmwoanVwxA4lgXt9HgE0BSSZ2AJuIbQAMJih9jjiNA5q4l5INuK0AwTKYKRj0zQNv5fmq8/DpAaCJseHrtQkB/+zpwzoxKQM3MzMzMeFJAZmZmZmZqWEAAAAAAAFxeQM3MzMzMJmJAmpmZmZkfZUBmZmZmZhhoQDMzMzMzEWtAAAAAAAAKbkBmZmZmZoFwQM3MzMzM/XFAMzMzMzN6c0CamZmZmfZ0QAAAAAAAc3ZAZmZmZmbvd0DNzMzMzGt5QDMzMzMz6HpAmpmZmZlkfEAAAAAAAOF9QGZmZmZmXX9AZmZmZuZsgECamZmZGSuBQM3MzMxM6YFAAAAAAICngkAzMzMzs2WDQGZmZmbmI4RAmpmZmRnihEDNzMzMTKCFQAAAAACAXoZAMzMzM7Mch0BmZmZm5tqHQJqZmZkZmYhAzczMzExXiUAAAAAAgBWKQDMzMzOz04pAZmZmZuaRi0CamZmZGVCMQM3MzMxMDo1AAAAAAIDMjUAzMzMzs4qOQGZmZmbmSI9A\",\"dtype\":\"float64\",\"shape\":[75]}},\"selected\":{\"id\":\"6861d6b1-ad03-4311-b91b-cb3d91d25d7c\",\"type\":\"Selection\"},\"selection_policy\":{\"id\":\"a65c6cc7-bdf5-4eff-9659-dd5b71f69738\",\"type\":\"UnionRenderers\"}},\"id\":\"95535ee5-7e4e-40d3-9c9d-403aa1ee0cf4\",\"type\":\"ColumnDataSource\"},{\"attributes\":{},\"id\":\"e2013092-88a1-4ea8-baf4-88786494ac5f\",\"type\":\"UnionRenderers\"},{\"attributes\":{\"axis_label\":\"cooling rate [K/day]\",\"formatter\":{\"id\":\"aa71cd4f-61e5-4dc4-9677-3900fa29ea6c\",\"type\":\"BasicTickFormatter\"},\"plot\":{\"id\":\"1da2d90a-31b6-4ea8-8eb0-380cc4a44225\",\"subtype\":\"Figure\",\"type\":\"Plot\"},\"ticker\":{\"id\":\"240c3f46-0e1a-4060-a4e4-eceb22864299\",\"type\":\"BasicTicker\"}},\"id\":\"2fca7a48-e6a3-4d80-94b8-caef00bffb4b\",\"type\":\"LinearAxis\"},{\"attributes\":{},\"id\":\"274bebf2-9f1a-44d2-9bac-3ce7585fd836\",\"type\":\"BasicTickFormatter\"},{\"attributes\":{},\"id\":\"240c3f46-0e1a-4060-a4e4-eceb22864299\",\"type\":\"BasicTicker\"},{\"attributes\":{},\"id\":\"bdff4f14-b470-48c9-a543-bb25cddc1f20\",\"type\":\"UnionRenderers\"},{\"attributes\":{\"axis_label\":\"pressure [mb]\",\"formatter\":{\"id\":\"9d3ad44c-6003-499f-829c-59ad8de3a907\",\"type\":\"LogTickFormatter\"},\"plot\":{\"id\":\"1da2d90a-31b6-4ea8-8eb0-380cc4a44225\",\"subtype\":\"Figure\",\"type\":\"Plot\"},\"ticker\":{\"id\":\"0e956c3f-cc7f-46fd-adb1-41566b481647\",\"type\":\"LogTicker\"}},\"id\":\"edddf6e1-a374-4176-95f8-fe9bcb922926\",\"type\":\"LogAxis\"},{\"attributes\":{\"source\":{\"id\":\"1b3d5232-492c-4a48-8c75-a20f3b452730\",\"type\":\"ColumnDataSource\"}},\"id\":\"7d3af778-1956-488e-892e-23b2a7c4b4c3\",\"type\":\"CDSView\"},{\"attributes\":{},\"id\":\"aa71cd4f-61e5-4dc4-9677-3900fa29ea6c\",\"type\":\"BasicTickFormatter\"},{\"attributes\":{\"num_minor_ticks\":10},\"id\":\"0e956c3f-cc7f-46fd-adb1-41566b481647\",\"type\":\"LogTicker\"},{\"attributes\":{},\"id\":\"8550b6a5-27fa-4d04-9156-a314c0544579\",\"type\":\"Selection\"},{\"attributes\":{\"dimension\":1,\"plot\":{\"id\":\"1da2d90a-31b6-4ea8-8eb0-380cc4a44225\",\"subtype\":\"Figure\",\"type\":\"Plot\"},\"ticker\":{\"id\":\"0e956c3f-cc7f-46fd-adb1-41566b481647\",\"type\":\"LogTicker\"}},\"id\":\"7fd443ca-9d83-4787-8732-d0a32db2650d\",\"type\":\"Grid\"},{\"attributes\":{\"fill_alpha\":{\"value\":0.7},\"fill_color\":{\"value\":\"#4daf4a\"},\"line_alpha\":{\"value\":0.7},\"line_color\":{\"value\":\"#4daf4a\"},\"x\":{\"field\":\"x\"},\"y\":{\"field\":\"y\"}},\"id\":\"b86c6cb9-c617-4b42-b6d4-8b8b9ed649dc\",\"type\":\"Circle\"},{\"attributes\":{},\"id\":\"3a88c5e3-7df6-4214-a95f-5c7caa49525c\",\"type\":\"UnionRenderers\"},{\"attributes\":{\"plot\":null,\"text\":\"\"},\"id\":\"85ae6c0d-917c-4e83-a27e-17eb7cd2ce89\",\"type\":\"Title\"},{\"attributes\":{},\"id\":\"a8dede58-00bf-4ef4-aabd-e85b7d08604d\",\"type\":\"UnionRenderers\"},{\"attributes\":{},\"id\":\"5ebeaba8-e2ec-437a-8887-2ba1bab7a4bc\",\"type\":\"Selection\"},{\"attributes\":{\"above\":[{\"id\":\"8e2134fc-0c33-406a-b1a9-0e017e4ddcc1\",\"type\":\"Legend\"}],\"below\":[{\"id\":\"e116ebac-3573-4745-b30d-9c88ad87aab6\",\"type\":\"LinearAxis\"}],\"left\":[{\"id\":\"d1e338e6-b674-476d-b8c7-7e14aabcf0b5\",\"type\":\"LogAxis\"}],\"plot_height\":500,\"plot_width\":300,\"renderers\":[{\"id\":\"e116ebac-3573-4745-b30d-9c88ad87aab6\",\"type\":\"LinearAxis\"},{\"id\":\"cc3d6eea-3098-4567-96e7-c307d241dfa4\",\"type\":\"Grid\"},{\"id\":\"d1e338e6-b674-476d-b8c7-7e14aabcf0b5\",\"type\":\"LogAxis\"},{\"id\":\"6e9dafbb-b9f7-4133-9777-230c1a2c75e9\",\"type\":\"Grid\"},{\"id\":\"55bf4b42-c08d-4c7b-9d15-1d7b9578d18d\",\"type\":\"BoxAnnotation\"},{\"id\":\"75cf5f21-86b6-4cb3-81fc-f42c946358b7\",\"type\":\"GlyphRenderer\"},{\"id\":\"beb35b5b-83e4-41bc-a752-5cf294ff3149\",\"type\":\"GlyphRenderer\"},{\"id\":\"908e4038-6567-4638-8af2-7e5d14a01d89\",\"type\":\"GlyphRenderer\"},{\"id\":\"909fd367-d39a-4530-ae41-46d97d2cedee\",\"type\":\"GlyphRenderer\"},{\"id\":\"8e2134fc-0c33-406a-b1a9-0e017e4ddcc1\",\"type\":\"Legend\"}],\"title\":{\"id\":\"85ae6c0d-917c-4e83-a27e-17eb7cd2ce89\",\"type\":\"Title\"},\"toolbar\":{\"id\":\"3f4d45a9-f44e-4055-97d2-987acbc1a02e\",\"type\":\"Toolbar\"},\"toolbar_location\":null,\"x_range\":{\"id\":\"630835a7-1131-46f6-b2ce-a745845d2100\",\"type\":\"Range1d\"},\"x_scale\":{\"id\":\"5840a9f3-33f2-49ef-bcb6-51455a0e2912\",\"type\":\"LinearScale\"},\"y_range\":{\"id\":\"97d6853e-2cdb-405a-a785-7e7aed47e2a3\",\"type\":\"Range1d\"},\"y_scale\":{\"id\":\"f04a9c19-3f99-42b9-be96-3e075714c17a\",\"type\":\"LogScale\"}},\"id\":\"444fef2f-6d46-4ab4-b6ba-73920f4c5a35\",\"subtype\":\"Figure\",\"type\":\"Plot\"},{\"attributes\":{},\"id\":\"b44e0adc-7cc0-46ce-b613-88fe8ddfe936\",\"type\":\"BasicTickFormatter\"},{\"attributes\":{\"line_alpha\":0.3,\"line_color\":\"#984ea3\",\"line_width\":8,\"x\":{\"field\":\"x\"},\"y\":{\"field\":\"y\"}},\"id\":\"fe08fede-975d-4637-8be3-a9e8f6744ad8\",\"type\":\"Line\"},{\"attributes\":{},\"id\":\"19b7b447-a491-4476-b1dd-685c74712915\",\"type\":\"Selection\"},{\"attributes\":{\"bottom_units\":\"screen\",\"fill_alpha\":{\"value\":0.5},\"fill_color\":{\"value\":\"lightgrey\"},\"left_units\":\"screen\",\"level\":\"overlay\",\"line_alpha\":{\"value\":1.0},\"line_color\":{\"value\":\"black\"},\"line_dash\":[4,4],\"line_width\":{\"value\":2},\"plot\":null,\"render_mode\":\"css\",\"right_units\":\"screen\",\"top_units\":\"screen\"},\"id\":\"5a083601-9050-4b09-9044-ab66a6c6323f\",\"type\":\"BoxAnnotation\"},{\"attributes\":{},\"id\":\"2e67b595-a544-42e1-b4a0-e01795e13991\",\"type\":\"UnionRenderers\"},{\"attributes\":{},\"id\":\"e928f640-2ba1-4e1b-9e5a-1745632a121a\",\"type\":\"PanTool\"},{\"attributes\":{},\"id\":\"9c9b5f91-2a9b-4098-a370-3b8611c3d79b\",\"type\":\"Selection\"},{\"attributes\":{},\"id\":\"2857c045-3087-4209-bf67-6c7fff0eeb90\",\"type\":\"Selection\"},{\"attributes\":{},\"id\":\"776ba945-195d-4af2-938a-daa86873938b\",\"type\":\"WheelZoomTool\"},{\"attributes\":{},\"id\":\"2b7c4f33-fe05-4327-8cda-4c445144f82b\",\"type\":\"UnionRenderers\"},{\"attributes\":{\"overlay\":{\"id\":\"5a083601-9050-4b09-9044-ab66a6c6323f\",\"type\":\"BoxAnnotation\"}},\"id\":\"07485b57-9bdf-414a-9c9c-f4eca51097d3\",\"type\":\"BoxZoomTool\"},{\"attributes\":{\"plot\":null,\"text\":\"\"},\"id\":\"ac5884fa-c157-4eb3-b452-7f66e690f04a\",\"type\":\"Title\"},{\"attributes\":{\"line_alpha\":0.3,\"line_color\":\"#984ea3\",\"line_width\":8,\"x\":{\"field\":\"x\"},\"y\":{\"field\":\"y\"}},\"id\":\"b136b790-d0bb-4a7b-876a-30e72139f33a\",\"type\":\"Line\"},{\"attributes\":{},\"id\":\"1410a70b-8227-4a1f-b137-51ae2476d61d\",\"type\":\"SaveTool\"},{\"attributes\":{\"ticker\":null},\"id\":\"9d3ad44c-6003-499f-829c-59ad8de3a907\",\"type\":\"LogTickFormatter\"},{\"attributes\":{},\"id\":\"a44ed814-4489-4c85-9777-d09ee23c2fbd\",\"type\":\"ResetTool\"},{\"attributes\":{},\"id\":\"cb1c8cdb-5cf0-4195-9234-5750f613631b\",\"type\":\"UnionRenderers\"},{\"attributes\":{},\"id\":\"42fd9f2f-15e9-40de-9f2c-c297a24139c0\",\"type\":\"HelpTool\"},{\"attributes\":{},\"id\":\"9bbbc563-cb1e-482c-b358-f9d5f9ac681f\",\"type\":\"Selection\"},{\"attributes\":{\"source\":{\"id\":\"deeea6b7-8569-4ba7-bad8-2c4abee22691\",\"type\":\"ColumnDataSource\"}},\"id\":\"39e9015a-37ba-4416-9f64-d70fe0bd2ddf\",\"type\":\"CDSView\"},{\"attributes\":{\"children\":[{\"id\":\"a79752f5-dedc-4887-843f-e4d028482b90\",\"type\":\"ToolbarBox\"},{\"id\":\"838b08ed-6f3f-40cc-b79b-b264d98f44af\",\"type\":\"Column\"}]},\"id\":\"bda48131-985a-492d-a7e5-fc9f4bd51d1d\",\"type\":\"Column\"},{\"attributes\":{\"line_alpha\":0.1,\"line_color\":\"#1f77b4\",\"line_width\":8,\"x\":{\"field\":\"x\"},\"y\":{\"field\":\"y\"}},\"id\":\"fd8350cd-872c-4436-8262-4d610c2a7be0\",\"type\":\"Line\"},{\"attributes\":{\"toolbar\":{\"id\":\"9b8627ac-3778-4c03-a62f-ebfac25a4ea6\",\"type\":\"ProxyToolbar\"},\"toolbar_location\":\"above\"},\"id\":\"a79752f5-dedc-4887-843f-e4d028482b90\",\"type\":\"ToolbarBox\"},{\"attributes\":{\"data_source\":{\"id\":\"deeea6b7-8569-4ba7-bad8-2c4abee22691\",\"type\":\"ColumnDataSource\"},\"glyph\":{\"id\":\"cd7f623b-580e-4017-a701-f56449eb2986\",\"type\":\"Line\"},\"hover_glyph\":null,\"muted_glyph\":null,\"nonselection_glyph\":{\"id\":\"66a5dd33-9fa1-4a78-8e31-d67564e3476b\",\"type\":\"Line\"},\"selection_glyph\":null,\"view\":{\"id\":\"39e9015a-37ba-4416-9f64-d70fe0bd2ddf\",\"type\":\"CDSView\"}},\"id\":\"908e4038-6567-4638-8af2-7e5d14a01d89\",\"type\":\"GlyphRenderer\"},{\"attributes\":{\"tools\":[{\"id\":\"6a51d3c6-000e-48f3-97e9-d2dac53a6a5e\",\"type\":\"PanTool\"},{\"id\":\"001179e7-d16e-4a30-bf2e-37bb42a0ec6a\",\"type\":\"WheelZoomTool\"},{\"id\":\"f7ed3726-ddac-4994-b463-d2402c97231f\",\"type\":\"BoxZoomTool\"},{\"id\":\"b3024500-74b2-4193-b020-3e5ddb34aca2\",\"type\":\"SaveTool\"},{\"id\":\"5561adc8-7dee-421f-a327-9efc53f4883a\",\"type\":\"ResetTool\"},{\"id\":\"e04dd66a-572e-4556-9007-223933e53073\",\"type\":\"HelpTool\"},{\"id\":\"7e923d97-d4bf-4e89-bda1-d190be64285e\",\"type\":\"PanTool\"},{\"id\":\"04ffae44-945d-4bfc-bfc8-18904d5a7585\",\"type\":\"WheelZoomTool\"},{\"id\":\"ce3f8b77-1e1c-4e6c-b5d0-3d5dbf5c753a\",\"type\":\"BoxZoomTool\"},{\"id\":\"69179cd1-0589-4bc4-9cfa-1da2b5124616\",\"type\":\"SaveTool\"},{\"id\":\"f8026336-2e84-4939-8830-c52983b62a2f\",\"type\":\"ResetTool\"},{\"id\":\"7034db2b-98bb-479f-be79-4a86dcba572c\",\"type\":\"HelpTool\"},{\"id\":\"e928f640-2ba1-4e1b-9e5a-1745632a121a\",\"type\":\"PanTool\"},{\"id\":\"776ba945-195d-4af2-938a-daa86873938b\",\"type\":\"WheelZoomTool\"},{\"id\":\"07485b57-9bdf-414a-9c9c-f4eca51097d3\",\"type\":\"BoxZoomTool\"},{\"id\":\"1410a70b-8227-4a1f-b137-51ae2476d61d\",\"type\":\"SaveTool\"},{\"id\":\"a44ed814-4489-4c85-9777-d09ee23c2fbd\",\"type\":\"ResetTool\"},{\"id\":\"42fd9f2f-15e9-40de-9f2c-c297a24139c0\",\"type\":\"HelpTool\"}]},\"id\":\"9b8627ac-3778-4c03-a62f-ebfac25a4ea6\",\"type\":\"ProxyToolbar\"},{\"attributes\":{\"data_source\":{\"id\":\"184f3dfe-753a-454d-9fec-3d56a23960eb\",\"type\":\"ColumnDataSource\"},\"glyph\":{\"id\":\"f972c81f-699b-4d36-9ae1-8996653dc3a7\",\"type\":\"Line\"},\"hover_glyph\":null,\"muted_glyph\":null,\"nonselection_glyph\":{\"id\":\"e25ce6a7-267f-4dd2-aaec-e49eacbd6e8b\",\"type\":\"Line\"},\"selection_glyph\":null,\"view\":{\"id\":\"78ac41f1-c38d-4208-9028-b24dcf53f0c2\",\"type\":\"CDSView\"}},\"id\":\"e1d8b364-ce56-4fcb-86f2-8e180c4f0800\",\"type\":\"GlyphRenderer\"},{\"attributes\":{},\"id\":\"a65c6cc7-bdf5-4eff-9659-dd5b71f69738\",\"type\":\"UnionRenderers\"},{\"attributes\":{\"label\":{\"value\":\"CRD\"},\"renderers\":[{\"id\":\"29ac95f5-d144-479b-9578-89f9b393216f\",\"type\":\"GlyphRenderer\"},{\"id\":\"e1d8b364-ce56-4fcb-86f2-8e180c4f0800\",\"type\":\"GlyphRenderer\"}]},\"id\":\"be581fe6-56d5-41da-91c6-cc544396526f\",\"type\":\"LegendItem\"},{\"attributes\":{\"callback\":null,\"data\":{\"x\":{\"__ndarray__\":\"wuong/ql4z8E1YogcNXjPw3hvmUmfuQ/GgiUHXAp5T/l23Cj/sXlP6V0KGJYS+Y/EnLpcOit5j8hpXnNst3mP1eIgPMQxeY/+T2MMTxH5j8xTPe5ZD/lP9ROXXu8gOM/Eiocxp3X4D+H0BQl/jHaP1OfWq/4ZdM/AzGvTxI/0j8QVOl12VvUP3aHiBJK1dQ/bXS/2yQc1j+gOmE1DzbbPwMoX3yMY+I/ty11SN166T9oWSumTzjwPzTo/ylZTe8/1XwH0tSR6D93Y3zvV4zjP9jAWaSf4t8/WJPAHS2U2T9BCfNuXRLUPwT83ZPXDs8/xyuCVgwHxz8XmAR3euW/Pyf1WnNimbg/B/n58+D2tj+wARTvvBG0P+oz8ymIoa0/FpHBYSN9pT9cUWAA4bKgP0bYEFYZMpI//vSK1SPCWj8fXLW7BYhrP3Jyy1Gh3pY/GVap/XNroz9velK2Az6pPx5RltcwHK4/tmtW14ZFsT+KARRgK1+zP0/R8RimYLU/7SJK+oZFtz+VQ2BMk/+4P93zgE0nfbo/jpIrM8Wruz8JwyLtiYO8P4hpDh1rDb0/sjwSn6JbvT9Z4x15Un+9P7Njwzxhhb0/9RceOT95vT9IMVSgZ2W9PzTj2dU2U70/8EHaVnhLvT9uwewZEli9PwfAkzOJgr0/gnizfFnTvT9fvOcMAVK+P/1id+FUAb8/1sgpySvNvz8UrhB/6DzAPxDrIwRZYsA/1dJ/wPlVwD+Ks2d+NTzAP+wphijGO8A/ahGasOlswD8ybq9AbOzAPxT4J1EcjcI/\",\"dtype\":\"float64\",\"shape\":[75]},\"y\":{\"__ndarray__\":\"GhExyth1ND/Sv8nbtpRIP2vylNV0PVE/aTum7souWD/At0SJ8fVgPw3Iuahxymc/MSNhhJWvcD/bTfBN02d3P2zb5nxnaoA/CD5h5MAGhz8NmeH1TyaQP+zrCsc9p5Y/LbKd76fGnz/bLW5ISEmmPww9YvTcQq8/JV2OstnstT8Er5Y7M8G+P0c+r3jqkcU/5h99k6ZBzj88bCIzFzjVP4enV8oyxN0//yH99nXg5D8qOpLLf0jtP5kqGJXUifQ/c9cS8kHP/D+/DpwzojQEQIEmwoanVwxA4lgXt9HgE0BSSZ2AJuIbQAMJih9jjiNA5q4l5INuK0AwTKYKRj0zQNv5fmq8/DpAaCJseHrtQkB/+zpwzoxKQM3MzMzMeFJAZmZmZmZqWEAAAAAAAFxeQM3MzMzMJmJAmpmZmZkfZUBmZmZmZhhoQDMzMzMzEWtAAAAAAAAKbkBmZmZmZoFwQM3MzMzM/XFAMzMzMzN6c0CamZmZmfZ0QAAAAAAAc3ZAZmZmZmbvd0DNzMzMzGt5QDMzMzMz6HpAmpmZmZlkfEAAAAAAAOF9QGZmZmZmXX9AZmZmZuZsgECamZmZGSuBQM3MzMxM6YFAAAAAAICngkAzMzMzs2WDQGZmZmbmI4RAmpmZmRnihEDNzMzMTKCFQAAAAACAXoZAMzMzM7Mch0BmZmZm5tqHQJqZmZkZmYhAzczMzExXiUAAAAAAgBWKQDMzMzOz04pAZmZmZuaRi0CamZmZGVCMQM3MzMxMDo1AAAAAAIDMjUAzMzMzs4qOQGZmZmbmSI9A\",\"dtype\":\"float64\",\"shape\":[75]}},\"selected\":{\"id\":\"5ebeaba8-e2ec-437a-8887-2ba1bab7a4bc\",\"type\":\"Selection\"},\"selection_policy\":{\"id\":\"2e67b595-a544-42e1-b4a0-e01795e13991\",\"type\":\"UnionRenderers\"}},\"id\":\"023248fe-af4f-4bf9-8c50-a9d8302a599e\",\"type\":\"ColumnDataSource\"},{\"attributes\":{\"source\":{\"id\":\"4c218da0-2676-4f44-8b06-35c0566504fc\",\"type\":\"ColumnDataSource\"}},\"id\":\"401c574f-0237-4304-b5f1-54362d31f35c\",\"type\":\"CDSView\"},{\"attributes\":{\"callback\":null,\"end\":1.0791253441929998,\"start\":-0.009311810093},\"id\":\"630835a7-1131-46f6-b2ce-a745845d2100\",\"type\":\"Range1d\"},{\"attributes\":{\"line_alpha\":0.1,\"line_color\":\"#1f77b4\",\"line_width\":1.5,\"x\":{\"field\":\"x\"},\"y\":{\"field\":\"y\"}},\"id\":\"e25ce6a7-267f-4dd2-aaec-e49eacbd6e8b\",\"type\":\"Line\"},{\"attributes\":{\"label\":{\"value\":\"WGT igg=10\"},\"renderers\":[{\"id\":\"3717eb42-68e6-44f6-8e15-8c77d7644b60\",\"type\":\"GlyphRenderer\"}]},\"id\":\"e0188ec1-9093-4024-a65b-ad4a30e8f67f\",\"type\":\"LegendItem\"},{\"attributes\":{\"line_alpha\":0.1,\"line_color\":\"#1f77b4\",\"line_width\":8,\"x\":{\"field\":\"x\"},\"y\":{\"field\":\"y\"}},\"id\":\"bf5ead63-8101-41c3-b016-87d8626d3de7\",\"type\":\"Line\"},{\"attributes\":{},\"id\":\"f04a9c19-3f99-42b9-be96-3e075714c17a\",\"type\":\"LogScale\"},{\"attributes\":{\"source\":{\"id\":\"7b985bee-7079-4b2a-83fd-09d6b71e2dee\",\"type\":\"ColumnDataSource\"}},\"id\":\"2b4259ab-2f9e-4fb7-a3bc-c9954f2aec1d\",\"type\":\"CDSView\"},{\"attributes\":{\"callback\":null,\"data\":{\"x\":{\"__ndarray__\":\"78tX0Tj34z+CDdtYgSjkPzy5KnkK0+Q/RZFiPiiB5T+eoU1ISh7mP99EPvkFpeY/4IVrvfgF5z8OJYNxqjTnP5gKGsjtFuc/bjunOJKU5j9dyYYc+ITlP4ltnF5zuOM/UyQd7dH+4D8KRfy7JVbaPxmUxO0ratM/+UZbMho70j/kM7gxZmDUP3o+2mqc7tQ/CnRYp+tF1j98DLnGJVbbP8psbztda+I/BzwX40+26T/QWnYtxmXwP9XaCzemiO8/duaa2RnM6D//qsiNx7HjP6RzG2AoGOA/9tnYV+S42T9v1G39skPUP5OKxtrfWc8/mhE52PZRxz+Ck8iZgSXAP7v0NAIf87g/3KGRagA4tz9ecLzxpDu0PwZFhmTnvq0/DfqGTVp0pT8swlxxwpugP/Smivg66JE/xJ0mCqhEVj+WXH8y0R5qP6Ky5YUJ3ZY/WG5kfGqFoz/0WYSzcmepP+Lp67LFWa4/rTmb6blgsT/n+rjiVH6zP8xwSBKggLU/4e7hz0Zntz9tuTUUNyG5P9CXQSkYnbo/krG57tbHuz9+w6etz6S8Pwzcy8f/Lr0/NZB4w8dxvT9ZCQalopC9Py2h1MFulr0/yHW29CaOvT+fQFTxsYG9P976+mvDcr0/toZSexFtvT/bJ09y6ne9PxZ/wnaDqr0/0f6LkE8Cvj9NS+6oGIS+PyraZnRRPr8/mjgDbbwFwD8/os9oJ1rAP3aZ7UyZgsA/YDU798N0wD/DYKNRJlrAP2Yx0geiWcA/2WeEbXqGwD/iT57DxgbBP/dWZkJ6p8I/\",\"dtype\":\"float64\",\"shape\":[75]},\"y\":{\"__ndarray__\":\"GhExyth1ND/Sv8nbtpRIP2vylNV0PVE/aTum7souWD/At0SJ8fVgPw3Iuahxymc/MSNhhJWvcD/bTfBN02d3P2zb5nxnaoA/CD5h5MAGhz8NmeH1TyaQP+zrCsc9p5Y/LbKd76fGnz/bLW5ISEmmPww9YvTcQq8/JV2OstnstT8Er5Y7M8G+P0c+r3jqkcU/5h99k6ZBzj88bCIzFzjVP4enV8oyxN0//yH99nXg5D8qOpLLf0jtP5kqGJXUifQ/c9cS8kHP/D+/DpwzojQEQIEmwoanVwxA4lgXt9HgE0BSSZ2AJuIbQAMJih9jjiNA5q4l5INuK0AwTKYKRj0zQNv5fmq8/DpAaCJseHrtQkB/+zpwzoxKQM3MzMzMeFJAZmZmZmZqWEAAAAAAAFxeQM3MzMzMJmJAmpmZmZkfZUBmZmZmZhhoQDMzMzMzEWtAAAAAAAAKbkBmZmZmZoFwQM3MzMzM/XFAMzMzMzN6c0CamZmZmfZ0QAAAAAAAc3ZAZmZmZmbvd0DNzMzMzGt5QDMzMzMz6HpAmpmZmZlkfEAAAAAAAOF9QGZmZmZmXX9AZmZmZuZsgECamZmZGSuBQM3MzMxM6YFAAAAAAICngkAzMzMzs2WDQGZmZmbmI4RAmpmZmRnihEDNzMzMTKCFQAAAAACAXoZAMzMzM7Mch0BmZmZm5tqHQJqZmZkZmYhAzczMzExXiUAAAAAAgBWKQDMzMzOz04pAZmZmZuaRi0CamZmZGVCMQM3MzMxMDo1AAAAAAIDMjUAzMzMzs4qOQGZmZmbmSI9A\",\"dtype\":\"float64\",\"shape\":[75]}},\"selected\":{\"id\":\"19b7b447-a491-4476-b1dd-685c74712915\",\"type\":\"Selection\"},\"selection_policy\":{\"id\":\"e2013092-88a1-4ea8-baf4-88786494ac5f\",\"type\":\"UnionRenderers\"}},\"id\":\"1b3d5232-492c-4a48-8c75-a20f3b452730\",\"type\":\"ColumnDataSource\"},{\"attributes\":{\"source\":{\"id\":\"1362380d-3a1f-44af-929b-42fa05263ad8\",\"type\":\"ColumnDataSource\"}},\"id\":\"9466cfa2-a2c0-4ceb-90eb-daacd93346db\",\"type\":\"CDSView\"},{\"attributes\":{\"data_source\":{\"id\":\"7b985bee-7079-4b2a-83fd-09d6b71e2dee\",\"type\":\"ColumnDataSource\"},\"glyph\":{\"id\":\"bba1fa2b-802b-4b8c-a2fa-ec9fbfd98de8\",\"type\":\"Line\"},\"hover_glyph\":null,\"muted_glyph\":null,\"nonselection_glyph\":{\"id\":\"1b347081-05fa-4119-878a-4a23a65f7676\",\"type\":\"Line\"},\"selection_glyph\":null,\"view\":{\"id\":\"2b4259ab-2f9e-4fb7-a3bc-c9954f2aec1d\",\"type\":\"CDSView\"}},\"id\":\"230ab18b-db60-4e4d-92c6-326130eb7728\",\"type\":\"GlyphRenderer\"},{\"attributes\":{\"label\":{\"value\":\"CLIRAD\"},\"renderers\":[{\"id\":\"08eacb40-2ef8-4269-a097-0468e8f2c6ee\",\"type\":\"GlyphRenderer\"}]},\"id\":\"b36e4e91-da4c-494a-a35b-e09fdbea0203\",\"type\":\"LegendItem\"},{\"attributes\":{\"line_alpha\":0.1,\"line_color\":\"#1f77b4\",\"line_width\":1.5,\"x\":{\"field\":\"x\"},\"y\":{\"field\":\"y\"}},\"id\":\"66a5dd33-9fa1-4a78-8e31-d67564e3476b\",\"type\":\"Line\"},{\"attributes\":{\"active_drag\":\"auto\",\"active_inspect\":\"auto\",\"active_scroll\":\"auto\",\"active_tap\":\"auto\",\"tools\":[{\"id\":\"7e923d97-d4bf-4e89-bda1-d190be64285e\",\"type\":\"PanTool\"},{\"id\":\"04ffae44-945d-4bfc-bfc8-18904d5a7585\",\"type\":\"WheelZoomTool\"},{\"id\":\"ce3f8b77-1e1c-4e6c-b5d0-3d5dbf5c753a\",\"type\":\"BoxZoomTool\"},{\"id\":\"69179cd1-0589-4bc4-9cfa-1da2b5124616\",\"type\":\"SaveTool\"},{\"id\":\"f8026336-2e84-4939-8830-c52983b62a2f\",\"type\":\"ResetTool\"},{\"id\":\"7034db2b-98bb-479f-be79-4a86dcba572c\",\"type\":\"HelpTool\"}]},\"id\":\"3f4d45a9-f44e-4055-97d2-987acbc1a02e\",\"type\":\"Toolbar\"},{\"attributes\":{},\"id\":\"6861d6b1-ad03-4311-b91b-cb3d91d25d7c\",\"type\":\"Selection\"},{\"attributes\":{\"data_source\":{\"id\":\"95535ee5-7e4e-40d3-9c9d-403aa1ee0cf4\",\"type\":\"ColumnDataSource\"},\"glyph\":{\"id\":\"b136b790-d0bb-4a7b-876a-30e72139f33a\",\"type\":\"Line\"},\"hover_glyph\":null,\"muted_glyph\":null,\"nonselection_glyph\":{\"id\":\"fd8350cd-872c-4436-8262-4d610c2a7be0\",\"type\":\"Line\"},\"selection_glyph\":null,\"view\":{\"id\":\"dfbb687f-51a0-4dee-8f60-348704f42b15\",\"type\":\"CDSView\"}},\"id\":\"3717eb42-68e6-44f6-8e15-8c77d7644b60\",\"type\":\"GlyphRenderer\"},{\"attributes\":{\"line_alpha\":0.3,\"line_color\":\"#984ea3\",\"line_width\":8,\"x\":{\"field\":\"x\"},\"y\":{\"field\":\"y\"}},\"id\":\"450be24f-2a74-44e3-a7ae-48c2b4d316c5\",\"type\":\"Line\"},{\"attributes\":{\"items\":[{\"id\":\"da1fe3ad-5a71-4dd9-abb7-7486151fedf7\",\"type\":\"LegendItem\"},{\"id\":\"00057b99-0984-4a69-bef1-213312180590\",\"type\":\"LegendItem\"},{\"id\":\"f8067eda-5b7d-431d-bb7c-34b0b80a8f3a\",\"type\":\"LegendItem\"}],\"label_text_font_size\":{\"value\":\"8pt\"},\"location\":\"top_center\",\"orientation\":\"horizontal\",\"plot\":{\"id\":\"444fef2f-6d46-4ab4-b6ba-73920f4c5a35\",\"subtype\":\"Figure\",\"type\":\"Plot\"}},\"id\":\"8e2134fc-0c33-406a-b1a9-0e017e4ddcc1\",\"type\":\"Legend\"},{\"attributes\":{\"axis_label\":\"cooling rate [K/day]\",\"formatter\":{\"id\":\"b44e0adc-7cc0-46ce-b613-88fe8ddfe936\",\"type\":\"BasicTickFormatter\"},\"plot\":{\"id\":\"444fef2f-6d46-4ab4-b6ba-73920f4c5a35\",\"subtype\":\"Figure\",\"type\":\"Plot\"},\"ticker\":{\"id\":\"9c54d281-6e9f-49bd-a700-27c57e7c5d27\",\"type\":\"BasicTicker\"}},\"id\":\"e116ebac-3573-4745-b30d-9c88ad87aab6\",\"type\":\"LinearAxis\"},{\"attributes\":{},\"id\":\"9c54d281-6e9f-49bd-a700-27c57e7c5d27\",\"type\":\"BasicTicker\"},{\"attributes\":{\"line_alpha\":0.6,\"line_color\":\"#e41a1c\",\"line_dash\":[6],\"line_width\":5,\"x\":{\"field\":\"x\"},\"y\":{\"field\":\"y\"}},\"id\":\"bba1fa2b-802b-4b8c-a2fa-ec9fbfd98de8\",\"type\":\"Line\"},{\"attributes\":{\"plot\":{\"id\":\"444fef2f-6d46-4ab4-b6ba-73920f4c5a35\",\"subtype\":\"Figure\",\"type\":\"Plot\"},\"ticker\":{\"id\":\"9c54d281-6e9f-49bd-a700-27c57e7c5d27\",\"type\":\"BasicTicker\"}},\"id\":\"cc3d6eea-3098-4567-96e7-c307d241dfa4\",\"type\":\"Grid\"},{\"attributes\":{\"source\":{\"id\":\"95535ee5-7e4e-40d3-9c9d-403aa1ee0cf4\",\"type\":\"ColumnDataSource\"}},\"id\":\"dfbb687f-51a0-4dee-8f60-348704f42b15\",\"type\":\"CDSView\"},{\"attributes\":{\"line_alpha\":0.1,\"line_color\":\"#1f77b4\",\"line_dash\":[6],\"line_width\":5,\"x\":{\"field\":\"x\"},\"y\":{\"field\":\"y\"}},\"id\":\"ae167056-00bb-463d-b573-613460c77d23\",\"type\":\"Line\"},{\"attributes\":{},\"id\":\"5840a9f3-33f2-49ef-bcb6-51455a0e2912\",\"type\":\"LinearScale\"},{\"attributes\":{\"axis_label\":\"pressure [mb]\",\"formatter\":{\"id\":\"2c97aaf0-cb8a-4093-8160-f9b54e83221e\",\"type\":\"LogTickFormatter\"},\"plot\":{\"id\":\"444fef2f-6d46-4ab4-b6ba-73920f4c5a35\",\"subtype\":\"Figure\",\"type\":\"Plot\"},\"ticker\":{\"id\":\"07d29239-2f6c-436c-8406-a3469a2da5f9\",\"type\":\"LogTicker\"}},\"id\":\"d1e338e6-b674-476d-b8c7-7e14aabcf0b5\",\"type\":\"LogAxis\"},{\"attributes\":{\"data_source\":{\"id\":\"1b3d5232-492c-4a48-8c75-a20f3b452730\",\"type\":\"ColumnDataSource\"},\"glyph\":{\"id\":\"807b38db-5b28-4159-a8e3-d0935f2eed23\",\"type\":\"Line\"},\"hover_glyph\":null,\"muted_glyph\":null,\"nonselection_glyph\":{\"id\":\"ae167056-00bb-463d-b573-613460c77d23\",\"type\":\"Line\"},\"selection_glyph\":null,\"view\":{\"id\":\"7d3af778-1956-488e-892e-23b2a7c4b4c3\",\"type\":\"CDSView\"}},\"id\":\"75cf5f21-86b6-4cb3-81fc-f42c946358b7\",\"type\":\"GlyphRenderer\"},{\"attributes\":{\"data_source\":{\"id\":\"023248fe-af4f-4bf9-8c50-a9d8302a599e\",\"type\":\"ColumnDataSource\"},\"glyph\":{\"id\":\"fe08fede-975d-4637-8be3-a9e8f6744ad8\",\"type\":\"Line\"},\"hover_glyph\":null,\"muted_glyph\":null,\"nonselection_glyph\":{\"id\":\"bf5ead63-8101-41c3-b016-87d8626d3de7\",\"type\":\"Line\"},\"selection_glyph\":null,\"view\":{\"id\":\"28aa14b4-95d5-4b5f-8897-61b32129acc8\",\"type\":\"CDSView\"}},\"id\":\"909fd367-d39a-4530-ae41-46d97d2cedee\",\"type\":\"GlyphRenderer\"},{\"attributes\":{\"num_minor_ticks\":10},\"id\":\"07d29239-2f6c-436c-8406-a3469a2da5f9\",\"type\":\"LogTicker\"},{\"attributes\":{\"callback\":null,\"data\":{\"x\":{\"__ndarray__\":\"biMdqycF0r9ax5OGs57Qv6JQfV0OUNC/RI+Fd2hyz79MFwe3sKHNv7By5XEq/sq/3AaTzKJ2x79AtxanFvfCv2A1R/QDOru/QEpE7TQ4rr8ATLVlqaSEvwC8GlKo1KE/BOUsxrjRsT+giVJT4wq3Pw7MHQGr3bY/pN4YJ5c6rj+AxMETvYKDP/CqNNiRA6a/1PMW+LHQtL9wRBcLaaC1v8Ce3CKw+q6/8KM6TQGRor8gnXGMrlOmvzBrAQ8AZKi/4GPVFew1mr8AOCkh4vZIPwDYt+S54pk/MCnoYgpQnj/AOs212neXPxAnTB9FCIg/wOmQnx7DYT/gVkHop9N6v+CArM6h03C/kMukX3ZSez+4fO3LHZuKP3TRZwcH9Ic/aJ0O7nyBfj+wMMKxVDBxP7DL9swOAVk/kGL0FthTQ7+4kYjjIoVRvwDVpvvos0C/wOQ/ipd4Sb9ga1dCmgZgv4A/xc2o4Gi/wIiUE6xqbr9A4cU/5tBsvwBbWNH5G2a/gPtWHifaVr8AANbfugoeP4DzWymzSFo/4BuzHIymZz/Qz+CkcXRwP6BhnjLFUHM/EAo31jrjcz+QhCJgDmdzP8CfSCCY+XE/wP0Zxe3Vbz+gDRReBi1rP6ASmAwpy2U/QIf2lCm9YD8AH+Qou3JYP8D+AVYArFQ/wDWvelK3Uz9AtMLyruVUP0DSEkYY0Vo/wK9ec6iXYD8AvXy+2f1kP8DMxfgV+Ww/8JnRa0UAcz+wBth9OCN4P+AOUvDjVH0/6Mh3+pqogD/4twQomgOCPxBesJCHH4E/\",\"dtype\":\"float64\",\"shape\":[75]},\"y\":{\"__ndarray__\":\"GhExyth1ND/Sv8nbtpRIP2vylNV0PVE/aTum7souWD/At0SJ8fVgPw3Iuahxymc/MSNhhJWvcD/bTfBN02d3P2zb5nxnaoA/CD5h5MAGhz8NmeH1TyaQP+zrCsc9p5Y/LbKd76fGnz/bLW5ISEmmPww9YvTcQq8/JV2OstnstT8Er5Y7M8G+P0c+r3jqkcU/5h99k6ZBzj88bCIzFzjVP4enV8oyxN0//yH99nXg5D8qOpLLf0jtP5kqGJXUifQ/c9cS8kHP/D+/DpwzojQEQIEmwoanVwxA4lgXt9HgE0BSSZ2AJuIbQAMJih9jjiNA5q4l5INuK0AwTKYKRj0zQNv5fmq8/DpAaCJseHrtQkB/+zpwzoxKQM3MzMzMeFJAZmZmZmZqWEAAAAAAAFxeQM3MzMzMJmJAmpmZmZkfZUBmZmZmZhhoQDMzMzMzEWtAAAAAAAAKbkBmZmZmZoFwQM3MzMzM/XFAMzMzMzN6c0CamZmZmfZ0QAAAAAAAc3ZAZmZmZmbvd0DNzMzMzGt5QDMzMzMz6HpAmpmZmZlkfEAAAAAAAOF9QGZmZmZmXX9AZmZmZuZsgECamZmZGSuBQM3MzMxM6YFAAAAAAICngkAzMzMzs2WDQGZmZmbmI4RAmpmZmRnihEDNzMzMTKCFQAAAAACAXoZAMzMzM7Mch0BmZmZm5tqHQJqZmZkZmYhAzczMzExXiUAAAAAAgBWKQDMzMzOz04pAZmZmZuaRi0CamZmZGVCMQM3MzMxMDo1AAAAAAIDMjUAzMzMzs4qOQGZmZmbmSI9A\",\"dtype\":\"float64\",\"shape\":[75]}},\"selected\":{\"id\":\"9cf475df-ef2d-4c46-a39e-9d5e45296dc7\",\"type\":\"Selection\"},\"selection_policy\":{\"id\":\"582d71dd-c623-4f97-aedd-857f2aa237b2\",\"type\":\"UnionRenderers\"}},\"id\":\"7b985bee-7079-4b2a-83fd-09d6b71e2dee\",\"type\":\"ColumnDataSource\"},{\"attributes\":{\"dimension\":1,\"plot\":{\"id\":\"444fef2f-6d46-4ab4-b6ba-73920f4c5a35\",\"subtype\":\"Figure\",\"type\":\"Plot\"},\"ticker\":{\"id\":\"07d29239-2f6c-436c-8406-a3469a2da5f9\",\"type\":\"LogTicker\"}},\"id\":\"6e9dafbb-b9f7-4133-9777-230c1a2c75e9\",\"type\":\"Grid\"},{\"attributes\":{\"callback\":null,\"data\":{\"x\":{\"__ndarray__\":\"pl3mpsz57D8v8SQc23fsP41h6acR++w/FvVDXMJd7T9xZw92tobtP4uht5WQZO0/l0eQcKHj7D/e0kgbcPLrP0TxokYufuo/EoB7hxV46D+Nnh3CitflP8nBetkom+I/ZQ+vqDWJ3T+ioifnbJPUPytC+lqCZcs/SVbwmo7nzD/AJRpJUMTTP9jT4KUOr9c//zBeJRh62z/Mbr8EIF/gP7Y2nT0IW+Q/Rubq91/f6j+559mhYxjxP8T4/Rtzh/A/lZFJOsmd6T+xYEDViavjP8hp6yElkt4/Y1eqsePT1z/DABFSNczSPyLI0Yhb2c0/8826XeoKxz85ngrZHvzAP8m8Hx9ZALo/I1WXBNmCtT/HwD44QeiwP6lQrKLlwac/YCbFryqkoT8s+Ei2b+ucPzk6uwsqWJA/DM+gFZTuXz+50iFSsXBxP0rpws2oYpc/622N2kzroz+q0KlX3GeqP9o9yD/Q568/8903Sg9Usj/xKbcU3GS0P6Qz0+B/MbY/z0pbbK/Ctz/tw31ltBm5PwIonFz1M7o/sxjUjaIKuz+BtlmTiJ27P/L1oXTz+bs/lB8VFpQzvD8Q4QO/MVq8PzEX0D/Vdrw/2qWNhnePvD8yoGO+Sai8P0k6liNqxLw/fNKqLijnvD9fl6uFHxa9Pxt3anXTV70/+kGhRnKzvT98QCPtgTC+P+GOThMN074/tntrlruGvz9Lr9UBMAbAP0OCCvW0DsA/IVG5l4O5vz8bQWkbGTK/P95Bn9D13b4/lda5e+H3vj/FCDxCGs2/PxZRW8mBlcE/\",\"dtype\":\"float64\",\"shape\":[75]},\"y\":{\"__ndarray__\":\"GhExyth1ND/Sv8nbtpRIP2vylNV0PVE/aTum7souWD/At0SJ8fVgPw3Iuahxymc/MSNhhJWvcD/bTfBN02d3P2zb5nxnaoA/CD5h5MAGhz8NmeH1TyaQP+zrCsc9p5Y/LbKd76fGnz/bLW5ISEmmPww9YvTcQq8/JV2OstnstT8Er5Y7M8G+P0c+r3jqkcU/5h99k6ZBzj88bCIzFzjVP4enV8oyxN0//yH99nXg5D8qOpLLf0jtP5kqGJXUifQ/c9cS8kHP/D+/DpwzojQEQIEmwoanVwxA4lgXt9HgE0BSSZ2AJuIbQAMJih9jjiNA5q4l5INuK0AwTKYKRj0zQNv5fmq8/DpAaCJseHrtQkB/+zpwzoxKQM3MzMzMeFJAZmZmZmZqWEAAAAAAAFxeQM3MzMzMJmJAmpmZmZkfZUBmZmZmZhhoQDMzMzMzEWtAAAAAAAAKbkBmZmZmZoFwQM3MzMzM/XFAMzMzMzN6c0CamZmZmfZ0QAAAAAAAc3ZAZmZmZmbvd0DNzMzMzGt5QDMzMzMz6HpAmpmZmZlkfEAAAAAAAOF9QGZmZmZmXX9AZmZmZuZsgECamZmZGSuBQM3MzMxM6YFAAAAAAICngkAzMzMzs2WDQGZmZmbmI4RAmpmZmRnihEDNzMzMTKCFQAAAAACAXoZAMzMzM7Mch0BmZmZm5tqHQJqZmZkZmYhAzczMzExXiUAAAAAAgBWKQDMzMzOz04pAZmZmZuaRi0CamZmZGVCMQM3MzMxMDo1AAAAAAIDMjUAzMzMzs4qOQGZmZmbmSI9A\",\"dtype\":\"float64\",\"shape\":[75]}},\"selected\":{\"id\":\"9c9b5f91-2a9b-4098-a370-3b8611c3d79b\",\"type\":\"Selection\"},\"selection_policy\":{\"id\":\"a8dede58-00bf-4ef4-aabd-e85b7d08604d\",\"type\":\"UnionRenderers\"}},\"id\":\"1362380d-3a1f-44af-929b-42fa05263ad8\",\"type\":\"ColumnDataSource\"},{\"attributes\":{\"fill_alpha\":{\"value\":0.1},\"fill_color\":{\"value\":\"#1f77b4\"},\"line_alpha\":{\"value\":0.1},\"line_color\":{\"value\":\"#1f77b4\"},\"x\":{\"field\":\"x\"},\"y\":{\"field\":\"y\"}},\"id\":\"ff7eed4d-3266-4810-a587-088a5ab446be\",\"type\":\"Circle\"},{\"attributes\":{\"line_color\":\"#4daf4a\",\"line_width\":1.5,\"x\":{\"field\":\"x\"},\"y\":{\"field\":\"y\"}},\"id\":\"cd7f623b-580e-4017-a701-f56449eb2986\",\"type\":\"Line\"},{\"attributes\":{\"line_alpha\":0.1,\"line_color\":\"#1f77b4\",\"line_dash\":[6],\"line_width\":5,\"x\":{\"field\":\"x\"},\"y\":{\"field\":\"y\"}},\"id\":\"1b347081-05fa-4119-878a-4a23a65f7676\",\"type\":\"Line\"},{\"attributes\":{\"data_source\":{\"id\":\"1362380d-3a1f-44af-929b-42fa05263ad8\",\"type\":\"ColumnDataSource\"},\"glyph\":{\"id\":\"b86c6cb9-c617-4b42-b6d4-8b8b9ed649dc\",\"type\":\"Circle\"},\"hover_glyph\":null,\"muted_glyph\":null,\"nonselection_glyph\":{\"id\":\"ff7eed4d-3266-4810-a587-088a5ab446be\",\"type\":\"Circle\"},\"selection_glyph\":null,\"view\":{\"id\":\"9466cfa2-a2c0-4ceb-90eb-daacd93346db\",\"type\":\"CDSView\"}},\"id\":\"beb35b5b-83e4-41bc-a752-5cf294ff3149\",\"type\":\"GlyphRenderer\"},{\"attributes\":{\"callback\":null,\"end\":0.01,\"start\":1020},\"id\":\"97d6853e-2cdb-405a-a785-7e7aed47e2a3\",\"type\":\"Range1d\"},{\"attributes\":{\"callback\":null,\"end\":0.09177436064934995,\"start\":-0.08820189599435001},\"id\":\"317b2ac5-ecb2-427a-ad2f-f627d48ff23e\",\"type\":\"Range1d\"},{\"attributes\":{\"line_alpha\":0.6,\"line_color\":\"#e41a1c\",\"line_dash\":[6],\"line_width\":5,\"x\":{\"field\":\"x\"},\"y\":{\"field\":\"y\"}},\"id\":\"807b38db-5b28-4159-a8e3-d0935f2eed23\",\"type\":\"Line\"},{\"attributes\":{\"line_alpha\":0.1,\"line_color\":\"#1f77b4\",\"line_width\":8,\"x\":{\"field\":\"x\"},\"y\":{\"field\":\"y\"}},\"id\":\"0f356804-b96d-4397-80b7-318eed936b49\",\"type\":\"Line\"},{\"attributes\":{\"callback\":null,\"end\":0.01,\"start\":1020},\"id\":\"86e89f09-e312-4bd9-9c96-8e3d99c01cf6\",\"type\":\"Range1d\"},{\"attributes\":{},\"id\":\"7e923d97-d4bf-4e89-bda1-d190be64285e\",\"type\":\"PanTool\"},{\"attributes\":{\"callback\":null,\"data\":{\"x\":{\"__ndarray__\":\"yOV8R6Sn0r9WODT31UTRvwABVYTW+dC/+NlffaRo0L8wLnpK3wLPv5izPM7gZMy/FFab/uPWyL/0tjw39VLEv2hHE5nqyL2/yBB6r8qGsb+AS8oEwQSTv2ChUTx0spw//BIljheYsD+Ut7T3RHq2P/b4dQfezLY/9C64EVharj8AyuWZJfGCPxBjwpokzqa/SPJ6Js13tb/gi3ZQwyC2vzDr4BO8d6+/8Ihb9ypIpr8gytF1fwKsv0CVwN/QGKy/AEwhhEa/oL8AOv3D5TFvvwBx5SaoB5U/UL9jwZYEnD/ghyDOgWKUPyA+w7DAV4M/AGARxTnwHr/YIoXYGZaAvyB6TLxqb3a/QD4q9n5Adz9IB6q23UuJPwSNGx2Kfoc/sFXjj8XHfj8wqt4pSelxP9DgWaX0nl0/OGhXAMGxNL9MJTmic2VNvwDb7n7vgEC/gPQFOTf2T7+wY3UVip1iv8DLHoP2uWy/0CMXLofocL9whjJKC1twv6BKLPw4G2q/gPhJhBxKX78AWIAdGSE6v8D2Mjl8TFI/YDvvqlQkZD8AkSE5K8BsP2A5x4Z6N3E/4NHRj+iAcj+QJKChC1JyPyDINM+/6HA/YEMOUvY4bT/AIhI+vKNnP2AddUiW2WE/AN3bCwoUWT/Ag0oQpXxQPwB2pBTfWkU/AIg2EjbnPz+A8T3ij79APwAOahTnI0c/AEiTrwycUT+AZH+dPlxbP0AzWsYD6WQ/IJHKKP1Nbj+QX2IWHmV0P6Af0QZomXk/8MOkVx4ffj/4nBb58V2AP8DflPlQ834/\",\"dtype\":\"float64\",\"shape\":[75]},\"y\":{\"__ndarray__\":\"GhExyth1ND/Sv8nbtpRIP2vylNV0PVE/aTum7souWD/At0SJ8fVgPw3Iuahxymc/MSNhhJWvcD/bTfBN02d3P2zb5nxnaoA/CD5h5MAGhz8NmeH1TyaQP+zrCsc9p5Y/LbKd76fGnz/bLW5ISEmmPww9YvTcQq8/JV2OstnstT8Er5Y7M8G+P0c+r3jqkcU/5h99k6ZBzj88bCIzFzjVP4enV8oyxN0//yH99nXg5D8qOpLLf0jtP5kqGJXUifQ/c9cS8kHP/D+/DpwzojQEQIEmwoanVwxA4lgXt9HgE0BSSZ2AJuIbQAMJih9jjiNA5q4l5INuK0AwTKYKRj0zQNv5fmq8/DpAaCJseHrtQkB/+zpwzoxKQM3MzMzMeFJAZmZmZmZqWEAAAAAAAFxeQM3MzMzMJmJAmpmZmZkfZUBmZmZmZhhoQDMzMzMzEWtAAAAAAAAKbkBmZmZmZoFwQM3MzMzM/XFAMzMzMzN6c0CamZmZmfZ0QAAAAAAAc3ZAZmZmZmbvd0DNzMzMzGt5QDMzMzMz6HpAmpmZmZlkfEAAAAAAAOF9QGZmZmZmXX9AZmZmZuZsgECamZmZGSuBQM3MzMxM6YFAAAAAAICngkAzMzMzs2WDQGZmZmbmI4RAmpmZmRnihEDNzMzMTKCFQAAAAACAXoZAMzMzM7Mch0BmZmZm5tqHQJqZmZkZmYhAzczMzExXiUAAAAAAgBWKQDMzMzOz04pAZmZmZuaRi0CamZmZGVCMQM3MzMxMDo1AAAAAAIDMjUAzMzMzs4qOQGZmZmbmSI9A\",\"dtype\":\"float64\",\"shape\":[75]}},\"selected\":{\"id\":\"9bbbc563-cb1e-482c-b358-f9d5f9ac681f\",\"type\":\"Selection\"},\"selection_policy\":{\"id\":\"cb1c8cdb-5cf0-4195-9234-5750f613631b\",\"type\":\"UnionRenderers\"}},\"id\":\"4c218da0-2676-4f44-8b06-35c0566504fc\",\"type\":\"ColumnDataSource\"},{\"attributes\":{\"overlay\":{\"id\":\"55bf4b42-c08d-4c7b-9d15-1d7b9578d18d\",\"type\":\"BoxAnnotation\"}},\"id\":\"ce3f8b77-1e1c-4e6c-b5d0-3d5dbf5c753a\",\"type\":\"BoxZoomTool\"},{\"attributes\":{\"callback\":null,\"data\":{\"x\":{\"__ndarray__\":\"pl3mpsz57D8v8SQc23fsP41h6acR++w/FvVDXMJd7T9xZw92tobtP4uht5WQZO0/l0eQcKHj7D/e0kgbcPLrP0TxokYufuo/EoB7hxV46D+Nnh3CitflP8nBetkom+I/ZQ+vqDWJ3T+ioifnbJPUPytC+lqCZcs/SVbwmo7nzD/AJRpJUMTTP9jT4KUOr9c//zBeJRh62z/Mbr8EIF/gP7Y2nT0IW+Q/Rubq91/f6j+559mhYxjxP8T4/Rtzh/A/lZFJOsmd6T+xYEDViavjP8hp6yElkt4/Y1eqsePT1z/DABFSNczSPyLI0Yhb2c0/8826XeoKxz85ngrZHvzAP8m8Hx9ZALo/I1WXBNmCtT/HwD44QeiwP6lQrKLlwac/YCbFryqkoT8s+Ei2b+ucPzk6uwsqWJA/DM+gFZTuXz+50iFSsXBxP0rpws2oYpc/622N2kzroz+q0KlX3GeqP9o9yD/Q568/8903Sg9Usj/xKbcU3GS0P6Qz0+B/MbY/z0pbbK/Ctz/tw31ltBm5PwIonFz1M7o/sxjUjaIKuz+BtlmTiJ27P/L1oXTz+bs/lB8VFpQzvD8Q4QO/MVq8PzEX0D/Vdrw/2qWNhnePvD8yoGO+Sai8P0k6liNqxLw/fNKqLijnvD9fl6uFHxa9Pxt3anXTV70/+kGhRnKzvT98QCPtgTC+P+GOThMN074/tntrlruGvz9Lr9UBMAbAP0OCCvW0DsA/IVG5l4O5vz8bQWkbGTK/P95Bn9D13b4/lda5e+H3vj/FCDxCGs2/PxZRW8mBlcE/\",\"dtype\":\"float64\",\"shape\":[75]},\"y\":{\"__ndarray__\":\"GhExyth1ND/Sv8nbtpRIP2vylNV0PVE/aTum7souWD/At0SJ8fVgPw3Iuahxymc/MSNhhJWvcD/bTfBN02d3P2zb5nxnaoA/CD5h5MAGhz8NmeH1TyaQP+zrCsc9p5Y/LbKd76fGnz/bLW5ISEmmPww9YvTcQq8/JV2OstnstT8Er5Y7M8G+P0c+r3jqkcU/5h99k6ZBzj88bCIzFzjVP4enV8oyxN0//yH99nXg5D8qOpLLf0jtP5kqGJXUifQ/c9cS8kHP/D+/DpwzojQEQIEmwoanVwxA4lgXt9HgE0BSSZ2AJuIbQAMJih9jjiNA5q4l5INuK0AwTKYKRj0zQNv5fmq8/DpAaCJseHrtQkB/+zpwzoxKQM3MzMzMeFJAZmZmZmZqWEAAAAAAAFxeQM3MzMzMJmJAmpmZmZkfZUBmZmZmZhhoQDMzMzMzEWtAAAAAAAAKbkBmZmZmZoFwQM3MzMzM/XFAMzMzMzN6c0CamZmZmfZ0QAAAAAAAc3ZAZmZmZmbvd0DNzMzMzGt5QDMzMzMz6HpAmpmZmZlkfEAAAAAAAOF9QGZmZmZmXX9AZmZmZuZsgECamZmZGSuBQM3MzMxM6YFAAAAAAICngkAzMzMzs2WDQGZmZmbmI4RAmpmZmRnihEDNzMzMTKCFQAAAAACAXoZAMzMzM7Mch0BmZmZm5tqHQJqZmZkZmYhAzczMzExXiUAAAAAAgBWKQDMzMzOz04pAZmZmZuaRi0CamZmZGVCMQM3MzMxMDo1AAAAAAIDMjUAzMzMzs4qOQGZmZmbmSI9A\",\"dtype\":\"float64\",\"shape\":[75]}},\"selected\":{\"id\":\"2857c045-3087-4209-bf67-6c7fff0eeb90\",\"type\":\"Selection\"},\"selection_policy\":{\"id\":\"2b7c4f33-fe05-4327-8cda-4c445144f82b\",\"type\":\"UnionRenderers\"}},\"id\":\"deeea6b7-8569-4ba7-bad8-2c4abee22691\",\"type\":\"ColumnDataSource\"},{\"attributes\":{},\"id\":\"04ffae44-945d-4bfc-bfc8-18904d5a7585\",\"type\":\"WheelZoomTool\"},{\"attributes\":{\"axis_label\":\"cooling rate [K/day]\",\"formatter\":{\"id\":\"274bebf2-9f1a-44d2-9bac-3ce7585fd836\",\"type\":\"BasicTickFormatter\"},\"plot\":{\"id\":\"39424243-4f52-461d-bdb9-c2e077f58ac8\",\"subtype\":\"Figure\",\"type\":\"Plot\"},\"ticker\":{\"id\":\"8f64e090-66f3-4b82-a311-5424b51bd193\",\"type\":\"BasicTicker\"}},\"id\":\"599e0797-5cee-4a85-ae25-fc1b78e740c3\",\"type\":\"LinearAxis\"},{\"attributes\":{\"data_source\":{\"id\":\"7a0261f4-7c48-43d1-bae5-765977b14a43\",\"type\":\"ColumnDataSource\"},\"glyph\":{\"id\":\"a0fc9763-4851-46b5-8361-a2b4048693a7\",\"type\":\"Circle\"},\"hover_glyph\":null,\"muted_glyph\":null,\"nonselection_glyph\":{\"id\":\"e82f755b-c814-4769-9285-8b08420b660e\",\"type\":\"Circle\"},\"selection_glyph\":null,\"view\":{\"id\":\"ae9dce33-cd64-406c-95a5-52e09c5dc2ea\",\"type\":\"CDSView\"}},\"id\":\"29ac95f5-d144-479b-9578-89f9b393216f\",\"type\":\"GlyphRenderer\"},{\"attributes\":{},\"id\":\"582d71dd-c623-4f97-aedd-857f2aa237b2\",\"type\":\"UnionRenderers\"},{\"attributes\":{\"plot\":{\"id\":\"39424243-4f52-461d-bdb9-c2e077f58ac8\",\"subtype\":\"Figure\",\"type\":\"Plot\"},\"ticker\":{\"id\":\"8f64e090-66f3-4b82-a311-5424b51bd193\",\"type\":\"BasicTicker\"}},\"id\":\"6dcfc33b-5985-45ce-ac93-d07f0efb9cb5\",\"type\":\"Grid\"},{\"attributes\":{},\"id\":\"8f64e090-66f3-4b82-a311-5424b51bd193\",\"type\":\"BasicTicker\"},{\"attributes\":{\"fill_alpha\":{\"value\":0.1},\"fill_color\":{\"value\":\"#1f77b4\"},\"line_alpha\":{\"value\":0.1},\"line_color\":{\"value\":\"#1f77b4\"},\"x\":{\"field\":\"x\"},\"y\":{\"field\":\"y\"}},\"id\":\"e82f755b-c814-4769-9285-8b08420b660e\",\"type\":\"Circle\"},{\"attributes\":{},\"id\":\"554873ef-4439-4673-b4bc-603fbba2b6e6\",\"type\":\"LinearScale\"},{\"attributes\":{},\"id\":\"e72550f6-54bc-446b-ba71-10922752008f\",\"type\":\"LinearScale\"},{\"attributes\":{\"line_color\":\"#4daf4a\",\"line_width\":1.5,\"x\":{\"field\":\"x\"},\"y\":{\"field\":\"y\"}},\"id\":\"f972c81f-699b-4d36-9ae1-8996653dc3a7\",\"type\":\"Line\"},{\"attributes\":{\"items\":[{\"id\":\"b36e4e91-da4c-494a-a35b-e09fdbea0203\",\"type\":\"LegendItem\"},{\"id\":\"be581fe6-56d5-41da-91c6-cc544396526f\",\"type\":\"LegendItem\"},{\"id\":\"e0188ec1-9093-4024-a65b-ad4a30e8f67f\",\"type\":\"LegendItem\"}],\"label_text_font_size\":{\"value\":\"8pt\"},\"location\":\"top_center\",\"orientation\":\"horizontal\",\"plot\":{\"id\":\"39424243-4f52-461d-bdb9-c2e077f58ac8\",\"subtype\":\"Figure\",\"type\":\"Plot\"}},\"id\":\"48767cdb-8e07-47ff-a5ec-b7162ceaf86a\",\"type\":\"Legend\"},{\"attributes\":{},\"id\":\"9cf475df-ef2d-4c46-a39e-9d5e45296dc7\",\"type\":\"Selection\"},{\"attributes\":{\"bottom_units\":\"screen\",\"fill_alpha\":{\"value\":0.5},\"fill_color\":{\"value\":\"lightgrey\"},\"left_units\":\"screen\",\"level\":\"overlay\",\"line_alpha\":{\"value\":1.0},\"line_color\":{\"value\":\"black\"},\"line_dash\":[4,4],\"line_width\":{\"value\":2},\"plot\":null,\"render_mode\":\"css\",\"right_units\":\"screen\",\"top_units\":\"screen\"},\"id\":\"541d0a99-c3bc-4a47-bddb-f264c503a369\",\"type\":\"BoxAnnotation\"},{\"attributes\":{\"callback\":null,\"data\":{\"x\":{\"__ndarray__\":\"pl3mpsz57D8v8SQc23fsP41h6acR++w/FvVDXMJd7T9xZw92tobtP4uht5WQZO0/l0eQcKHj7D/e0kgbcPLrP0TxokYufuo/EoB7hxV46D+Nnh3CitflP8nBetkom+I/ZQ+vqDWJ3T+ioifnbJPUPytC+lqCZcs/SVbwmo7nzD/AJRpJUMTTP9jT4KUOr9c//zBeJRh62z/Mbr8EIF/gP7Y2nT0IW+Q/Rubq91/f6j+559mhYxjxP8T4/Rtzh/A/lZFJOsmd6T+xYEDViavjP8hp6yElkt4/Y1eqsePT1z/DABFSNczSPyLI0Yhb2c0/8826XeoKxz85ngrZHvzAP8m8Hx9ZALo/I1WXBNmCtT/HwD44QeiwP6lQrKLlwac/YCbFryqkoT8s+Ei2b+ucPzk6uwsqWJA/DM+gFZTuXz+50iFSsXBxP0rpws2oYpc/622N2kzroz+q0KlX3GeqP9o9yD/Q568/8903Sg9Usj/xKbcU3GS0P6Qz0+B/MbY/z0pbbK/Ctz/tw31ltBm5PwIonFz1M7o/sxjUjaIKuz+BtlmTiJ27P/L1oXTz+bs/lB8VFpQzvD8Q4QO/MVq8PzEX0D/Vdrw/2qWNhnePvD8yoGO+Sai8P0k6liNqxLw/fNKqLijnvD9fl6uFHxa9Pxt3anXTV70/+kGhRnKzvT98QCPtgTC+P+GOThMN074/tntrlruGvz9Lr9UBMAbAP0OCCvW0DsA/IVG5l4O5vz8bQWkbGTK/P95Bn9D13b4/lda5e+H3vj/FCDxCGs2/PxZRW8mBlcE/\",\"dtype\":\"float64\",\"shape\":[75]},\"y\":{\"__ndarray__\":\"GhExyth1ND/Sv8nbtpRIP2vylNV0PVE/aTum7souWD/At0SJ8fVgPw3Iuahxymc/MSNhhJWvcD/bTfBN02d3P2zb5nxnaoA/CD5h5MAGhz8NmeH1TyaQP+zrCsc9p5Y/LbKd76fGnz/bLW5ISEmmPww9YvTcQq8/JV2OstnstT8Er5Y7M8G+P0c+r3jqkcU/5h99k6ZBzj88bCIzFzjVP4enV8oyxN0//yH99nXg5D8qOpLLf0jtP5kqGJXUifQ/c9cS8kHP/D+/DpwzojQEQIEmwoanVwxA4lgXt9HgE0BSSZ2AJuIbQAMJih9jjiNA5q4l5INuK0AwTKYKRj0zQNv5fmq8/DpAaCJseHrtQkB/+zpwzoxKQM3MzMzMeFJAZmZmZmZqWEAAAAAAAFxeQM3MzMzMJmJAmpmZmZkfZUBmZmZmZhhoQDMzMzMzEWtAAAAAAAAKbkBmZmZmZoFwQM3MzMzM/XFAMzMzMzN6c0CamZmZmfZ0QAAAAAAAc3ZAZmZmZmbvd0DNzMzMzGt5QDMzMzMz6HpAmpmZmZlkfEAAAAAAAOF9QGZmZmZmXX9AZmZmZuZsgECamZmZGSuBQM3MzMxM6YFAAAAAAICngkAzMzMzs2WDQGZmZmbmI4RAmpmZmRnihEDNzMzMTKCFQAAAAACAXoZAMzMzM7Mch0BmZmZm5tqHQJqZmZkZmYhAzczMzExXiUAAAAAAgBWKQDMzMzOz04pAZmZmZuaRi0CamZmZGVCMQM3MzMxMDo1AAAAAAIDMjUAzMzMzs4qOQGZmZmbmSI9A\",\"dtype\":\"float64\",\"shape\":[75]}},\"selected\":{\"id\":\"642f8b0d-8354-42c2-8667-ea9edc0f2636\",\"type\":\"Selection\"},\"selection_policy\":{\"id\":\"63f6e655-636e-444d-b851-0750a18c114d\",\"type\":\"UnionRenderers\"}},\"id\":\"7a0261f4-7c48-43d1-bae5-765977b14a43\",\"type\":\"ColumnDataSource\"},{\"attributes\":{\"callback\":null,\"end\":0.147179778676,\"start\":-8.462627599999995e-05},\"id\":\"a6df0322-c1f8-457f-8514-f0dabb4f9c58\",\"type\":\"Range1d\"},{\"attributes\":{\"data_source\":{\"id\":\"4a44ebd3-f7b4-4f91-96e2-0b84bf546071\",\"type\":\"ColumnDataSource\"},\"glyph\":{\"id\":\"d64f229f-d3db-41f8-9cc3-8b0d8836a27f\",\"type\":\"Line\"},\"hover_glyph\":null,\"muted_glyph\":null,\"nonselection_glyph\":{\"id\":\"03b96a9c-d9c1-43d5-903e-e3b96d0e5a07\",\"type\":\"Line\"},\"selection_glyph\":null,\"view\":{\"id\":\"3743e2d1-a50c-40a9-bdb5-8a2a7e835edb\",\"type\":\"CDSView\"}},\"id\":\"08eacb40-2ef8-4269-a097-0468e8f2c6ee\",\"type\":\"GlyphRenderer\"},{\"attributes\":{},\"id\":\"6a51d3c6-000e-48f3-97e9-d2dac53a6a5e\",\"type\":\"PanTool\"},{\"attributes\":{\"line_alpha\":0.6,\"line_color\":\"#e41a1c\",\"line_dash\":[6],\"line_width\":5,\"x\":{\"field\":\"x\"},\"y\":{\"field\":\"y\"}},\"id\":\"d64f229f-d3db-41f8-9cc3-8b0d8836a27f\",\"type\":\"Line\"},{\"attributes\":{\"axis_label\":\"pressure [mb]\",\"formatter\":{\"id\":\"4f43d8c2-9484-43f1-a761-c8f18abc9646\",\"type\":\"BasicTickFormatter\"},\"plot\":{\"id\":\"39424243-4f52-461d-bdb9-c2e077f58ac8\",\"subtype\":\"Figure\",\"type\":\"Plot\"},\"ticker\":{\"id\":\"a77c3f1a-4232-4e76-b8f3-c6272ee081d3\",\"type\":\"BasicTicker\"}},\"id\":\"9e061df9-4f77-4426-a4b3-fc5ab1ea0378\",\"type\":\"LinearAxis\"},{\"attributes\":{},\"id\":\"001179e7-d16e-4a30-bf2e-37bb42a0ec6a\",\"type\":\"WheelZoomTool\"},{\"attributes\":{\"above\":[{\"id\":\"48767cdb-8e07-47ff-a5ec-b7162ceaf86a\",\"type\":\"Legend\"}],\"below\":[{\"id\":\"599e0797-5cee-4a85-ae25-fc1b78e740c3\",\"type\":\"LinearAxis\"}],\"left\":[{\"id\":\"9e061df9-4f77-4426-a4b3-fc5ab1ea0378\",\"type\":\"LinearAxis\"}],\"plot_height\":500,\"plot_width\":300,\"renderers\":[{\"id\":\"599e0797-5cee-4a85-ae25-fc1b78e740c3\",\"type\":\"LinearAxis\"},{\"id\":\"6dcfc33b-5985-45ce-ac93-d07f0efb9cb5\",\"type\":\"Grid\"},{\"id\":\"9e061df9-4f77-4426-a4b3-fc5ab1ea0378\",\"type\":\"LinearAxis\"},{\"id\":\"f31f6dca-064f-4889-a716-fe0591f0e002\",\"type\":\"Grid\"},{\"id\":\"541d0a99-c3bc-4a47-bddb-f264c503a369\",\"type\":\"BoxAnnotation\"},{\"id\":\"08eacb40-2ef8-4269-a097-0468e8f2c6ee\",\"type\":\"GlyphRenderer\"},{\"id\":\"29ac95f5-d144-479b-9578-89f9b393216f\",\"type\":\"GlyphRenderer\"},{\"id\":\"e1d8b364-ce56-4fcb-86f2-8e180c4f0800\",\"type\":\"GlyphRenderer\"},{\"id\":\"3717eb42-68e6-44f6-8e15-8c77d7644b60\",\"type\":\"GlyphRenderer\"},{\"id\":\"48767cdb-8e07-47ff-a5ec-b7162ceaf86a\",\"type\":\"Legend\"}],\"title\":{\"id\":\"e067e4f0-3aeb-42a0-96b3-ab680c5291d5\",\"type\":\"Title\"},\"toolbar\":{\"id\":\"5bb5b836-6228-4738-ba66-13011f23ad15\",\"type\":\"Toolbar\"},\"toolbar_location\":null,\"x_range\":{\"id\":\"a6df0322-c1f8-457f-8514-f0dabb4f9c58\",\"type\":\"Range1d\"},\"x_scale\":{\"id\":\"e72550f6-54bc-446b-ba71-10922752008f\",\"type\":\"LinearScale\"},\"y_range\":{\"id\":\"494ed0a4-03aa-4ba9-8d7e-ef099b97d45b\",\"type\":\"Range1d\"},\"y_scale\":{\"id\":\"554873ef-4439-4673-b4bc-603fbba2b6e6\",\"type\":\"LinearScale\"}},\"id\":\"39424243-4f52-461d-bdb9-c2e077f58ac8\",\"subtype\":\"Figure\",\"type\":\"Plot\"},{\"attributes\":{\"dimension\":1,\"plot\":{\"id\":\"39424243-4f52-461d-bdb9-c2e077f58ac8\",\"subtype\":\"Figure\",\"type\":\"Plot\"},\"ticker\":{\"id\":\"a77c3f1a-4232-4e76-b8f3-c6272ee081d3\",\"type\":\"BasicTicker\"}},\"id\":\"f31f6dca-064f-4889-a716-fe0591f0e002\",\"type\":\"Grid\"},{\"attributes\":{},\"id\":\"e04dd66a-572e-4556-9007-223933e53073\",\"type\":\"HelpTool\"},{\"attributes\":{},\"id\":\"a77c3f1a-4232-4e76-b8f3-c6272ee081d3\",\"type\":\"BasicTicker\"},{\"attributes\":{},\"id\":\"b3024500-74b2-4193-b020-3e5ddb34aca2\",\"type\":\"SaveTool\"},{\"attributes\":{},\"id\":\"5561adc8-7dee-421f-a327-9efc53f4883a\",\"type\":\"ResetTool\"},{\"attributes\":{\"overlay\":{\"id\":\"541d0a99-c3bc-4a47-bddb-f264c503a369\",\"type\":\"BoxAnnotation\"}},\"id\":\"f7ed3726-ddac-4994-b463-d2402c97231f\",\"type\":\"BoxZoomTool\"},{\"attributes\":{\"callback\":null,\"end\":0.01,\"start\":1020},\"id\":\"494ed0a4-03aa-4ba9-8d7e-ef099b97d45b\",\"type\":\"Range1d\"},{\"attributes\":{\"callback\":null,\"data\":{\"x\":{\"__ndarray__\":\"pl3mpsz57D8v8SQc23fsP41h6acR++w/FvVDXMJd7T9xZw92tobtP4uht5WQZO0/l0eQcKHj7D/e0kgbcPLrP0TxokYufuo/EoB7hxV46D+Nnh3CitflP8nBetkom+I/ZQ+vqDWJ3T+ioifnbJPUPytC+lqCZcs/SVbwmo7nzD/AJRpJUMTTP9jT4KUOr9c//zBeJRh62z/Mbr8EIF/gP7Y2nT0IW+Q/Rubq91/f6j+559mhYxjxP8T4/Rtzh/A/lZFJOsmd6T+xYEDViavjP8hp6yElkt4/Y1eqsePT1z/DABFSNczSPyLI0Yhb2c0/8826XeoKxz85ngrZHvzAP8m8Hx9ZALo/I1WXBNmCtT/HwD44QeiwP6lQrKLlwac/YCbFryqkoT8s+Ei2b+ucPzk6uwsqWJA/DM+gFZTuXz+50iFSsXBxP0rpws2oYpc/622N2kzroz+q0KlX3GeqP9o9yD/Q568/8903Sg9Usj/xKbcU3GS0P6Qz0+B/MbY/z0pbbK/Ctz/tw31ltBm5PwIonFz1M7o/sxjUjaIKuz+BtlmTiJ27P/L1oXTz+bs/lB8VFpQzvD8Q4QO/MVq8PzEX0D/Vdrw/2qWNhnePvD8yoGO+Sai8P0k6liNqxLw/fNKqLijnvD9fl6uFHxa9Pxt3anXTV70/+kGhRnKzvT98QCPtgTC+P+GOThMN074/tntrlruGvz9Lr9UBMAbAP0OCCvW0DsA/IVG5l4O5vz8bQWkbGTK/P95Bn9D13b4/lda5e+H3vj/FCDxCGs2/PxZRW8mBlcE/\",\"dtype\":\"float64\",\"shape\":[75]},\"y\":{\"__ndarray__\":\"GhExyth1ND/Sv8nbtpRIP2vylNV0PVE/aTum7souWD/At0SJ8fVgPw3Iuahxymc/MSNhhJWvcD/bTfBN02d3P2zb5nxnaoA/CD5h5MAGhz8NmeH1TyaQP+zrCsc9p5Y/LbKd76fGnz/bLW5ISEmmPww9YvTcQq8/JV2OstnstT8Er5Y7M8G+P0c+r3jqkcU/5h99k6ZBzj88bCIzFzjVP4enV8oyxN0//yH99nXg5D8qOpLLf0jtP5kqGJXUifQ/c9cS8kHP/D+/DpwzojQEQIEmwoanVwxA4lgXt9HgE0BSSZ2AJuIbQAMJih9jjiNA5q4l5INuK0AwTKYKRj0zQNv5fmq8/DpAaCJseHrtQkB/+zpwzoxKQM3MzMzMeFJAZmZmZmZqWEAAAAAAAFxeQM3MzMzMJmJAmpmZmZkfZUBmZmZmZhhoQDMzMzMzEWtAAAAAAAAKbkBmZmZmZoFwQM3MzMzM/XFAMzMzMzN6c0CamZmZmfZ0QAAAAAAAc3ZAZmZmZmbvd0DNzMzMzGt5QDMzMzMz6HpAmpmZmZlkfEAAAAAAAOF9QGZmZmZmXX9AZmZmZuZsgECamZmZGSuBQM3MzMxM6YFAAAAAAICngkAzMzMzs2WDQGZmZmbmI4RAmpmZmRnihEDNzMzMTKCFQAAAAACAXoZAMzMzM7Mch0BmZmZm5tqHQJqZmZkZmYhAzczMzExXiUAAAAAAgBWKQDMzMzOz04pAZmZmZuaRi0CamZmZGVCMQM3MzMxMDo1AAAAAAIDMjUAzMzMzs4qOQGZmZmbmSI9A\",\"dtype\":\"float64\",\"shape\":[75]}},\"selected\":{\"id\":\"8550b6a5-27fa-4d04-9156-a314c0544579\",\"type\":\"Selection\"},\"selection_policy\":{\"id\":\"3a88c5e3-7df6-4214-a95f-5c7caa49525c\",\"type\":\"UnionRenderers\"}},\"id\":\"184f3dfe-753a-454d-9fec-3d56a23960eb\",\"type\":\"ColumnDataSource\"},{\"attributes\":{\"active_drag\":\"auto\",\"active_inspect\":\"auto\",\"active_scroll\":\"auto\",\"active_tap\":\"auto\",\"tools\":[{\"id\":\"6a51d3c6-000e-48f3-97e9-d2dac53a6a5e\",\"type\":\"PanTool\"},{\"id\":\"001179e7-d16e-4a30-bf2e-37bb42a0ec6a\",\"type\":\"WheelZoomTool\"},{\"id\":\"f7ed3726-ddac-4994-b463-d2402c97231f\",\"type\":\"BoxZoomTool\"},{\"id\":\"b3024500-74b2-4193-b020-3e5ddb34aca2\",\"type\":\"SaveTool\"},{\"id\":\"5561adc8-7dee-421f-a327-9efc53f4883a\",\"type\":\"ResetTool\"},{\"id\":\"e04dd66a-572e-4556-9007-223933e53073\",\"type\":\"HelpTool\"}]},\"id\":\"5bb5b836-6228-4738-ba66-13011f23ad15\",\"type\":\"Toolbar\"},{\"attributes\":{\"fill_alpha\":{\"value\":0.7},\"fill_color\":{\"value\":\"#4daf4a\"},\"line_alpha\":{\"value\":0.7},\"line_color\":{\"value\":\"#4daf4a\"},\"x\":{\"field\":\"x\"},\"y\":{\"field\":\"y\"}},\"id\":\"a0fc9763-4851-46b5-8361-a2b4048693a7\",\"type\":\"Circle\"},{\"attributes\":{\"callback\":null,\"data\":{\"x\":{\"__ndarray__\":\"78tX0Tj34z+CDdtYgSjkPzy5KnkK0+Q/RZFiPiiB5T+eoU1ISh7mP99EPvkFpeY/4IVrvfgF5z8OJYNxqjTnP5gKGsjtFuc/bjunOJKU5j9dyYYc+ITlP4ltnF5zuOM/UyQd7dH+4D8KRfy7JVbaPxmUxO0ratM/+UZbMho70j/kM7gxZmDUP3o+2mqc7tQ/CnRYp+tF1j98DLnGJVbbP8psbztda+I/BzwX40+26T/QWnYtxmXwP9XaCzemiO8/duaa2RnM6D//qsiNx7HjP6RzG2AoGOA/9tnYV+S42T9v1G39skPUP5OKxtrfWc8/mhE52PZRxz+Ck8iZgSXAP7v0NAIf87g/3KGRagA4tz9ecLzxpDu0PwZFhmTnvq0/DfqGTVp0pT8swlxxwpugP/Smivg66JE/xJ0mCqhEVj+WXH8y0R5qP6Ky5YUJ3ZY/WG5kfGqFoz/0WYSzcmepP+Lp67LFWa4/rTmb6blgsT/n+rjiVH6zP8xwSBKggLU/4e7hz0Zntz9tuTUUNyG5P9CXQSkYnbo/krG57tbHuz9+w6etz6S8Pwzcy8f/Lr0/NZB4w8dxvT9ZCQalopC9Py2h1MFulr0/yHW29CaOvT+fQFTxsYG9P976+mvDcr0/toZSexFtvT/bJ09y6ne9PxZ/wnaDqr0/0f6LkE8Cvj9NS+6oGIS+PyraZnRRPr8/mjgDbbwFwD8/os9oJ1rAP3aZ7UyZgsA/YDU798N0wD/DYKNRJlrAP2Yx0geiWcA/2WeEbXqGwD/iT57DxgbBP/dWZkJ6p8I/\",\"dtype\":\"float64\",\"shape\":[75]},\"y\":{\"__ndarray__\":\"GhExyth1ND/Sv8nbtpRIP2vylNV0PVE/aTum7souWD/At0SJ8fVgPw3Iuahxymc/MSNhhJWvcD/bTfBN02d3P2zb5nxnaoA/CD5h5MAGhz8NmeH1TyaQP+zrCsc9p5Y/LbKd76fGnz/bLW5ISEmmPww9YvTcQq8/JV2OstnstT8Er5Y7M8G+P0c+r3jqkcU/5h99k6ZBzj88bCIzFzjVP4enV8oyxN0//yH99nXg5D8qOpLLf0jtP5kqGJXUifQ/c9cS8kHP/D+/DpwzojQEQIEmwoanVwxA4lgXt9HgE0BSSZ2AJuIbQAMJih9jjiNA5q4l5INuK0AwTKYKRj0zQNv5fmq8/DpAaCJseHrtQkB/+zpwzoxKQM3MzMzMeFJAZmZmZmZqWEAAAAAAAFxeQM3MzMzMJmJAmpmZmZkfZUBmZmZmZhhoQDMzMzMzEWtAAAAAAAAKbkBmZmZmZoFwQM3MzMzM/XFAMzMzMzN6c0CamZmZmfZ0QAAAAAAAc3ZAZmZmZmbvd0DNzMzMzGt5QDMzMzMz6HpAmpmZmZlkfEAAAAAAAOF9QGZmZmZmXX9AZmZmZuZsgECamZmZGSuBQM3MzMxM6YFAAAAAAICngkAzMzMzs2WDQGZmZmbmI4RAmpmZmRnihEDNzMzMTKCFQAAAAACAXoZAMzMzM7Mch0BmZmZm5tqHQJqZmZkZmYhAzczMzExXiUAAAAAAgBWKQDMzMzOz04pAZmZmZuaRi0CamZmZGVCMQM3MzMxMDo1AAAAAAIDMjUAzMzMzs4qOQGZmZmbmSI9A\",\"dtype\":\"float64\",\"shape\":[75]}},\"selected\":{\"id\":\"4b99b308-e573-471b-906b-6326599636c8\",\"type\":\"Selection\"},\"selection_policy\":{\"id\":\"bdff4f14-b470-48c9-a543-bb25cddc1f20\",\"type\":\"UnionRenderers\"}},\"id\":\"4a44ebd3-f7b4-4f91-96e2-0b84bf546071\",\"type\":\"ColumnDataSource\"},{\"attributes\":{\"line_alpha\":0.1,\"line_color\":\"#1f77b4\",\"line_dash\":[6],\"line_width\":5,\"x\":{\"field\":\"x\"},\"y\":{\"field\":\"y\"}},\"id\":\"03b96a9c-d9c1-43d5-903e-e3b96d0e5a07\",\"type\":\"Line\"},{\"attributes\":{\"source\":{\"id\":\"7a0261f4-7c48-43d1-bae5-765977b14a43\",\"type\":\"ColumnDataSource\"}},\"id\":\"ae9dce33-cd64-406c-95a5-52e09c5dc2ea\",\"type\":\"CDSView\"},{\"attributes\":{\"source\":{\"id\":\"4a44ebd3-f7b4-4f91-96e2-0b84bf546071\",\"type\":\"ColumnDataSource\"}},\"id\":\"3743e2d1-a50c-40a9-bdb5-8a2a7e835edb\",\"type\":\"CDSView\"}],\"root_ids\":[\"bda48131-985a-492d-a7e5-fc9f4bd51d1d\"]},\"title\":\"Bokeh Application\",\"version\":\"0.12.16\"}};\n",
       "  var render_items = [{\"docid\":\"f3362c48-5cb7-4b43-8ba6-b9889e9c4a21\",\"elementid\":\"41b6489a-42de-493f-a73a-cafa026252f4\",\"modelid\":\"bda48131-985a-492d-a7e5-fc9f4bd51d1d\"}];\n",
       "  root.Bokeh.embed.embed_items_notebook(docs_json, render_items);\n",
       "\n",
       "  }\n",
       "  if (root.Bokeh !== undefined) {\n",
       "    embed_document(root);\n",
       "  } else {\n",
       "    var attempts = 0;\n",
       "    var timer = setInterval(function(root) {\n",
       "      if (root.Bokeh !== undefined) {\n",
       "        embed_document(root);\n",
       "        clearInterval(timer);\n",
       "      }\n",
       "      attempts++;\n",
       "      if (attempts > 100) {\n",
       "        console.log(\"Bokeh: ERROR: Unable to run BokehJS code because BokehJS library is missing\")\n",
       "        clearInterval(timer);\n",
       "      }\n",
       "    }, 10, root)\n",
       "  }\n",
       "})(window);"
      ],
      "application/vnd.bokehjs_exec.v0+json": ""
     },
     "metadata": {
      "application/vnd.bokehjs_exec.v0+json": {
       "id": "bda48131-985a-492d-a7e5-fc9f4bd51d1d"
      }
     },
     "output_type": "display_data"
    },
    {
     "data": {
      "text/markdown": [
       "--------------------------"
      ],
      "text/plain": [
       "<IPython.core.display.Markdown object>"
      ]
     },
     "metadata": {},
     "output_type": "display_data"
    }
   ],
   "source": [
    "show_results(dlbl=data_lbl, dcli=data_cli, link=LINKS)"
   ]
  },
  {
   "cell_type": "code",
   "execution_count": 298,
   "metadata": {},
   "outputs": [
    {
     "data": {
      "text/markdown": [
       "-----------------------------"
      ],
      "text/plain": [
       "<IPython.core.display.Markdown object>"
      ]
     },
     "metadata": {},
     "output_type": "display_data"
    },
    {
     "name": "stdout",
     "output_type": "stream",
     "text": [
      "34160112838\n",
      "<a id=\"34160112838\"></a>\n",
      "<a href=\"#34160112838\">saw</a>\n"
     ]
    },
    {
     "data": {
      "text/markdown": [
       "<a id=\"34160112838\"></a>"
      ],
      "text/plain": [
       "<IPython.core.display.Markdown object>"
      ]
     },
     "metadata": {},
     "output_type": "display_data"
    },
    {
     "data": {
      "text/markdown": [
       "[3] {'co2': 0.0008} saw"
      ],
      "text/plain": [
       "<IPython.core.display.Markdown object>"
      ]
     },
     "metadata": {},
     "output_type": "display_data"
    },
    {
     "name": "stdout",
     "output_type": "stream",
     "text": [
      ":O\n",
      "{'co2': 0.0008} [3] <a href=\"#34160112838\">saw</a>\n"
     ]
    },
    {
     "data": {
      "text/html": [
       "<div>\n",
       "<style scoped>\n",
       "    .dataframe tbody tr th:only-of-type {\n",
       "        vertical-align: middle;\n",
       "    }\n",
       "\n",
       "    .dataframe tbody tr th {\n",
       "        vertical-align: top;\n",
       "    }\n",
       "\n",
       "    .dataframe thead tr th {\n",
       "        text-align: left;\n",
       "    }\n",
       "</style>\n",
       "<table border=\"1\" class=\"dataframe\">\n",
       "  <thead>\n",
       "    <tr>\n",
       "      <th></th>\n",
       "      <th colspan=\"2\" halign=\"left\">Run parameters</th>\n",
       "      <th>Fit parameters</th>\n",
       "    </tr>\n",
       "    <tr>\n",
       "      <th></th>\n",
       "      <th>CLIRAD</th>\n",
       "      <th>LBLNEW</th>\n",
       "      <th>(co2, 3a)</th>\n",
       "    </tr>\n",
       "  </thead>\n",
       "  <tbody>\n",
       "    <tr>\n",
       "      <th>atmpro</th>\n",
       "      <td>saw</td>\n",
       "      <td>saw</td>\n",
       "      <td>mls</td>\n",
       "    </tr>\n",
       "    <tr>\n",
       "      <th>band</th>\n",
       "      <td>[3]</td>\n",
       "      <td>3a</td>\n",
       "      <td>3a</td>\n",
       "    </tr>\n",
       "    <tr>\n",
       "      <th>commitnumber</th>\n",
       "      <td>1013f91</td>\n",
       "      <td>a22ab94</td>\n",
       "      <td>a06b618</td>\n",
       "    </tr>\n",
       "    <tr>\n",
       "      <th>conc</th>\n",
       "      <td>-</td>\n",
       "      <td>0.0008</td>\n",
       "      <td>0.0004</td>\n",
       "    </tr>\n",
       "    <tr>\n",
       "      <th>dv</th>\n",
       "      <td>-</td>\n",
       "      <td>0.001</td>\n",
       "      <td>0.001</td>\n",
       "    </tr>\n",
       "    <tr>\n",
       "      <th>klin</th>\n",
       "      <td>-</td>\n",
       "      <td>6.37556e-24</td>\n",
       "      <td>6.37556e-24</td>\n",
       "    </tr>\n",
       "    <tr>\n",
       "      <th>molecule</th>\n",
       "      <td>{'co2': 0.0008}</td>\n",
       "      <td>co2</td>\n",
       "      <td>co2</td>\n",
       "    </tr>\n",
       "    <tr>\n",
       "      <th>ng_adju</th>\n",
       "      <td>-</td>\n",
       "      <td>[0, 0, 0]</td>\n",
       "      <td>[0, 0, 0]</td>\n",
       "    </tr>\n",
       "    <tr>\n",
       "      <th>ng_refs</th>\n",
       "      <td>-</td>\n",
       "      <td>[3, 2, 4]</td>\n",
       "      <td>[3, 2, 4]</td>\n",
       "    </tr>\n",
       "    <tr>\n",
       "      <th>nv</th>\n",
       "      <td>-</td>\n",
       "      <td>1000</td>\n",
       "      <td>1000</td>\n",
       "    </tr>\n",
       "    <tr>\n",
       "      <th>option_compute_btable</th>\n",
       "      <td>-</td>\n",
       "      <td>0</td>\n",
       "      <td>0</td>\n",
       "    </tr>\n",
       "    <tr>\n",
       "      <th>option_compute_ktable</th>\n",
       "      <td>-</td>\n",
       "      <td>0</td>\n",
       "      <td>1</td>\n",
       "    </tr>\n",
       "    <tr>\n",
       "      <th>option_wgt_flux</th>\n",
       "      <td>-</td>\n",
       "      <td>1</td>\n",
       "      <td>1</td>\n",
       "    </tr>\n",
       "    <tr>\n",
       "      <th>option_wgt_k</th>\n",
       "      <td>-</td>\n",
       "      <td>1</td>\n",
       "      <td>1</td>\n",
       "    </tr>\n",
       "    <tr>\n",
       "      <th>ref_pts</th>\n",
       "      <td>-</td>\n",
       "      <td>[[1, 250], [10, 250], [500, 250]]</td>\n",
       "      <td>[(1, 250), (10, 250), (500, 250)]</td>\n",
       "    </tr>\n",
       "    <tr>\n",
       "      <th>tsfc</th>\n",
       "      <td>257</td>\n",
       "      <td>257</td>\n",
       "      <td>294</td>\n",
       "    </tr>\n",
       "    <tr>\n",
       "      <th>vmax</th>\n",
       "      <td>-</td>\n",
       "      <td>620</td>\n",
       "      <td>620</td>\n",
       "    </tr>\n",
       "    <tr>\n",
       "      <th>vmin</th>\n",
       "      <td>-</td>\n",
       "      <td>540</td>\n",
       "      <td>540</td>\n",
       "    </tr>\n",
       "    <tr>\n",
       "      <th>w_diffuse</th>\n",
       "      <td>-</td>\n",
       "      <td>[[1.6, 1.6, 1.7], [1.75, 1.75], [1.55, 1.55, 1...</td>\n",
       "      <td>[(1.6, 1.6, 1.7), (1.75, 1.75), (1.55, 1.55, 1...</td>\n",
       "    </tr>\n",
       "    <tr>\n",
       "      <th>wgt</th>\n",
       "      <td>-</td>\n",
       "      <td>[[0.7, 0.3, 0.7], [0.7, 0.6], [0.4, 0.5, 0.8, ...</td>\n",
       "      <td>[(0.7, 0.3, 0.7), (0.7, 0.6), (0.4, 0.5, 0.8, ...</td>\n",
       "    </tr>\n",
       "  </tbody>\n",
       "</table>\n",
       "</div>"
      ],
      "text/plain": [
       "                        Run parameters  \\\n",
       "                                CLIRAD   \n",
       "atmpro                             saw   \n",
       "band                               [3]   \n",
       "commitnumber                   1013f91   \n",
       "conc                                 -   \n",
       "dv                                   -   \n",
       "klin                                 -   \n",
       "molecule               {'co2': 0.0008}   \n",
       "ng_adju                              -   \n",
       "ng_refs                              -   \n",
       "nv                                   -   \n",
       "option_compute_btable                -   \n",
       "option_compute_ktable                -   \n",
       "option_wgt_flux                      -   \n",
       "option_wgt_k                         -   \n",
       "ref_pts                              -   \n",
       "tsfc                               257   \n",
       "vmax                                 -   \n",
       "vmin                                 -   \n",
       "w_diffuse                            -   \n",
       "wgt                                  -   \n",
       "\n",
       "                                                                          \\\n",
       "                                                                  LBLNEW   \n",
       "atmpro                                                               saw   \n",
       "band                                                                  3a   \n",
       "commitnumber                                                     a22ab94   \n",
       "conc                                                              0.0008   \n",
       "dv                                                                 0.001   \n",
       "klin                                                         6.37556e-24   \n",
       "molecule                                                             co2   \n",
       "ng_adju                                                        [0, 0, 0]   \n",
       "ng_refs                                                        [3, 2, 4]   \n",
       "nv                                                                  1000   \n",
       "option_compute_btable                                                  0   \n",
       "option_compute_ktable                                                  0   \n",
       "option_wgt_flux                                                        1   \n",
       "option_wgt_k                                                           1   \n",
       "ref_pts                                [[1, 250], [10, 250], [500, 250]]   \n",
       "tsfc                                                                 257   \n",
       "vmax                                                                 620   \n",
       "vmin                                                                 540   \n",
       "w_diffuse              [[1.6, 1.6, 1.7], [1.75, 1.75], [1.55, 1.55, 1...   \n",
       "wgt                    [[0.7, 0.3, 0.7], [0.7, 0.6], [0.4, 0.5, 0.8, ...   \n",
       "\n",
       "                                                          Fit parameters  \n",
       "                                                               (co2, 3a)  \n",
       "atmpro                                                               mls  \n",
       "band                                                                  3a  \n",
       "commitnumber                                                     a06b618  \n",
       "conc                                                              0.0004  \n",
       "dv                                                                 0.001  \n",
       "klin                                                         6.37556e-24  \n",
       "molecule                                                             co2  \n",
       "ng_adju                                                        [0, 0, 0]  \n",
       "ng_refs                                                        [3, 2, 4]  \n",
       "nv                                                                  1000  \n",
       "option_compute_btable                                                  0  \n",
       "option_compute_ktable                                                  1  \n",
       "option_wgt_flux                                                        1  \n",
       "option_wgt_k                                                           1  \n",
       "ref_pts                                [(1, 250), (10, 250), (500, 250)]  \n",
       "tsfc                                                                 294  \n",
       "vmax                                                                 620  \n",
       "vmin                                                                 540  \n",
       "w_diffuse              [(1.6, 1.6, 1.7), (1.75, 1.75), (1.55, 1.55, 1...  \n",
       "wgt                    [(0.7, 0.3, 0.7), (0.7, 0.6), (0.4, 0.5, 0.8, ...  "
      ]
     },
     "metadata": {},
     "output_type": "display_data"
    },
    {
     "data": {
      "text/html": [
       "\n",
       "<div class=\"bk-root\">\n",
       "    <div class=\"bk-plotdiv\" id=\"6699b51b-fc87-4725-a2b9-6a66a0104b4b\"></div>\n",
       "</div>"
      ]
     },
     "metadata": {},
     "output_type": "display_data"
    },
    {
     "data": {
      "application/javascript": [
       "(function(root) {\n",
       "  function embed_document(root) {\n",
       "    \n",
       "  var docs_json = {\"bdd6f8f0-54ff-411f-8fd7-c79a43f01f4c\":{\"roots\":{\"references\":[{\"attributes\":{\"overlay\":{\"id\":\"583a7190-d5ab-46f0-89bb-b3db50c2cd40\",\"type\":\"BoxAnnotation\"}},\"id\":\"06d23336-d8cf-46d4-95da-de5706f2e36d\",\"type\":\"BoxZoomTool\"},{\"attributes\":{},\"id\":\"9351769d-ddc5-4de7-8b9a-bd340ebdf1ae\",\"type\":\"UnionRenderers\"},{\"attributes\":{},\"id\":\"6ea08cbe-d7cf-41f0-8edd-344f425665db\",\"type\":\"SaveTool\"},{\"attributes\":{\"tools\":[{\"id\":\"d2528eae-0e81-46dd-be11-4eeb7c11644f\",\"type\":\"PanTool\"},{\"id\":\"01a9f717-5db7-457a-aa82-d3eff4bbdc0f\",\"type\":\"WheelZoomTool\"},{\"id\":\"6a8dbb7e-0029-45cf-b69d-a165732e794f\",\"type\":\"BoxZoomTool\"},{\"id\":\"d9edf8fb-5167-4cfa-b850-d321d518126b\",\"type\":\"SaveTool\"},{\"id\":\"e54113b4-f40d-4433-8e5d-9996cb7b8f45\",\"type\":\"ResetTool\"},{\"id\":\"4a831896-d436-4774-b33d-f54f9b05dacd\",\"type\":\"HelpTool\"},{\"id\":\"11d53f06-dd77-456d-81fe-488068228e74\",\"type\":\"PanTool\"},{\"id\":\"246aa17e-3dde-4f2f-bb72-d4721ab48aac\",\"type\":\"WheelZoomTool\"},{\"id\":\"ce2dc8b3-c02f-4882-bd0e-e9efd4c100e8\",\"type\":\"BoxZoomTool\"},{\"id\":\"53f86336-d24d-4bf2-bfaa-a4ebafa9e130\",\"type\":\"SaveTool\"},{\"id\":\"a1af6e66-249f-4bda-accd-caed6acd54c3\",\"type\":\"ResetTool\"},{\"id\":\"bb1ef0cd-0d14-4701-807a-4850da7e50a4\",\"type\":\"HelpTool\"},{\"id\":\"0263f693-13de-44aa-b68d-f8804d7335eb\",\"type\":\"PanTool\"},{\"id\":\"d3cfda49-0067-4202-83d4-831b65f81e3d\",\"type\":\"WheelZoomTool\"},{\"id\":\"06d23336-d8cf-46d4-95da-de5706f2e36d\",\"type\":\"BoxZoomTool\"},{\"id\":\"6ea08cbe-d7cf-41f0-8edd-344f425665db\",\"type\":\"SaveTool\"},{\"id\":\"221d1574-6a7b-4cb2-be63-8c10edd7d341\",\"type\":\"ResetTool\"},{\"id\":\"905f331a-2ad9-43c5-b3aa-1adcd4eef0cc\",\"type\":\"HelpTool\"}]},\"id\":\"cef57141-b0a2-413d-9226-d122da13ef49\",\"type\":\"ProxyToolbar\"},{\"attributes\":{\"toolbar\":{\"id\":\"cef57141-b0a2-413d-9226-d122da13ef49\",\"type\":\"ProxyToolbar\"},\"toolbar_location\":\"above\"},\"id\":\"79599360-9592-4f32-aeb3-dac59c7fc78a\",\"type\":\"ToolbarBox\"},{\"attributes\":{},\"id\":\"221d1574-6a7b-4cb2-be63-8c10edd7d341\",\"type\":\"ResetTool\"},{\"attributes\":{\"callback\":null,\"end\":0.09857905808973999,\"start\":0.0018049169362600002},\"id\":\"39e562c9-5f7a-4fdc-b78e-d966e171ac2e\",\"type\":\"Range1d\"},{\"attributes\":{\"children\":[{\"id\":\"79599360-9592-4f32-aeb3-dac59c7fc78a\",\"type\":\"ToolbarBox\"},{\"id\":\"765ce08b-579b-402a-9a5b-c34a4a04b919\",\"type\":\"Column\"}]},\"id\":\"f7c30114-23ac-4ee3-b2cb-dccea1e9d7fd\",\"type\":\"Column\"},{\"attributes\":{},\"id\":\"905f331a-2ad9-43c5-b3aa-1adcd4eef0cc\",\"type\":\"HelpTool\"},{\"attributes\":{\"dimension\":1,\"plot\":{\"id\":\"99cffe59-a232-4045-9c0c-bdbf8814c35d\",\"subtype\":\"Figure\",\"type\":\"Plot\"},\"ticker\":{\"id\":\"cad26c94-1fe6-4b28-8945-e7c2bdee8a1f\",\"type\":\"LogTicker\"}},\"id\":\"ccf1acf7-231a-480c-a63c-dec789aac6f3\",\"type\":\"Grid\"},{\"attributes\":{},\"id\":\"9a35eea5-3a67-4fae-b9d6-d5a8c1ffb241\",\"type\":\"Selection\"},{\"attributes\":{\"data_source\":{\"id\":\"2650a2f7-42e7-4e00-b66e-a0918202f922\",\"type\":\"ColumnDataSource\"},\"glyph\":{\"id\":\"9072b6f0-eac3-4222-a8dc-36aee7060119\",\"type\":\"Line\"},\"hover_glyph\":null,\"muted_glyph\":null,\"nonselection_glyph\":{\"id\":\"a95957c1-0c10-486f-a556-5c507eddb129\",\"type\":\"Line\"},\"selection_glyph\":null,\"view\":{\"id\":\"2fc0e44e-acc2-4bea-aeef-8d4cf025d73e\",\"type\":\"CDSView\"}},\"id\":\"64fe8faf-e9e0-4a3b-8da3-f9bfef3875fc\",\"type\":\"GlyphRenderer\"},{\"attributes\":{\"items\":[{\"id\":\"069dbc0c-8215-447e-bf02-07fcfd28a24b\",\"type\":\"LegendItem\"},{\"id\":\"c1be6bcd-a335-4355-a021-c4b76ec30b59\",\"type\":\"LegendItem\"},{\"id\":\"930efc75-ace2-4900-8be9-3fdc8396da74\",\"type\":\"LegendItem\"}],\"label_text_font_size\":{\"value\":\"8pt\"},\"location\":\"top_center\",\"orientation\":\"horizontal\",\"plot\":{\"id\":\"3dbbe0dd-5e45-41ae-8daf-0484d24db58b\",\"subtype\":\"Figure\",\"type\":\"Plot\"}},\"id\":\"5733e493-b386-44b8-bdc7-3524f15434be\",\"type\":\"Legend\"},{\"attributes\":{\"callback\":null,\"end\":0.01,\"start\":1020},\"id\":\"7d297c46-6bfc-4e65-b5b5-66f4380e46ee\",\"type\":\"Range1d\"},{\"attributes\":{\"children\":[{\"id\":\"9fb4d2da-1737-49c1-8b9e-3cc0aea7c6b1\",\"type\":\"Row\"}]},\"id\":\"765ce08b-579b-402a-9a5b-c34a4a04b919\",\"type\":\"Column\"},{\"attributes\":{\"source\":{\"id\":\"b890f1dd-cfa2-420c-877b-aa0e40f79668\",\"type\":\"ColumnDataSource\"}},\"id\":\"4619f253-66cb-47e9-b941-b0a6a78bc9db\",\"type\":\"CDSView\"},{\"attributes\":{\"overlay\":{\"id\":\"5b580404-2ba6-4e1b-afdf-046ce9a874df\",\"type\":\"BoxAnnotation\"}},\"id\":\"ce2dc8b3-c02f-4882-bd0e-e9efd4c100e8\",\"type\":\"BoxZoomTool\"},{\"attributes\":{\"line_alpha\":0.3,\"line_color\":\"#984ea3\",\"line_width\":8,\"x\":{\"field\":\"x\"},\"y\":{\"field\":\"y\"}},\"id\":\"270cf7bd-93b1-4b24-8cfa-d46b1f66ba7c\",\"type\":\"Line\"},{\"attributes\":{},\"id\":\"ea1271da-0f00-4d59-9bad-6852f2762a63\",\"type\":\"BasicTickFormatter\"},{\"attributes\":{\"line_alpha\":0.1,\"line_color\":\"#1f77b4\",\"line_width\":8,\"x\":{\"field\":\"x\"},\"y\":{\"field\":\"y\"}},\"id\":\"d1290a1a-fb2d-486c-9e19-86f1949a4cad\",\"type\":\"Line\"},{\"attributes\":{\"callback\":null,\"end\":0.01,\"start\":1020},\"id\":\"6692210f-2f7b-4416-97bb-9588fb3565f2\",\"type\":\"Range1d\"},{\"attributes\":{\"above\":[{\"id\":\"961f42e2-d3ee-454f-bbd7-065569664fbc\",\"type\":\"Legend\"}],\"below\":[{\"id\":\"318187b2-dcb9-4f0c-a418-887f010a096c\",\"type\":\"LinearAxis\"}],\"left\":[{\"id\":\"b410b9e5-6f46-458a-ba93-5f972198601b\",\"type\":\"LogAxis\"}],\"plot_height\":500,\"plot_width\":300,\"renderers\":[{\"id\":\"318187b2-dcb9-4f0c-a418-887f010a096c\",\"type\":\"LinearAxis\"},{\"id\":\"816f79d5-cdb1-45c7-a493-d4195aabcab4\",\"type\":\"Grid\"},{\"id\":\"b410b9e5-6f46-458a-ba93-5f972198601b\",\"type\":\"LogAxis\"},{\"id\":\"ccf1acf7-231a-480c-a63c-dec789aac6f3\",\"type\":\"Grid\"},{\"id\":\"5b580404-2ba6-4e1b-afdf-046ce9a874df\",\"type\":\"BoxAnnotation\"},{\"id\":\"4a60c096-7f2b-4d20-b2f7-9520d2d2a616\",\"type\":\"GlyphRenderer\"},{\"id\":\"f73a6d6a-0ae3-4a5b-b551-fc6b8a8409d4\",\"type\":\"GlyphRenderer\"},{\"id\":\"588f2777-7040-4597-a0de-097f8af614ed\",\"type\":\"GlyphRenderer\"},{\"id\":\"794f0d5e-141c-4e3d-ae74-580cbe912d23\",\"type\":\"GlyphRenderer\"},{\"id\":\"961f42e2-d3ee-454f-bbd7-065569664fbc\",\"type\":\"Legend\"}],\"title\":{\"id\":\"461da219-9d32-4b90-a017-9ebf39ae0c33\",\"type\":\"Title\"},\"toolbar\":{\"id\":\"adb09c7e-8ecc-48fd-a782-4bbc5d04b266\",\"type\":\"Toolbar\"},\"toolbar_location\":null,\"x_range\":{\"id\":\"61d719c2-cf09-4b4a-84c8-c5f84c761e35\",\"type\":\"Range1d\"},\"x_scale\":{\"id\":\"f78c77e3-ec42-4ff0-bc68-a22af9fd3260\",\"type\":\"LinearScale\"},\"y_range\":{\"id\":\"6692210f-2f7b-4416-97bb-9588fb3565f2\",\"type\":\"Range1d\"},\"y_scale\":{\"id\":\"bfc321ff-85c2-4648-8b7a-8e870b078ad7\",\"type\":\"LogScale\"}},\"id\":\"99cffe59-a232-4045-9c0c-bdbf8814c35d\",\"subtype\":\"Figure\",\"type\":\"Plot\"},{\"attributes\":{\"label\":{\"value\":\"CRD\"},\"renderers\":[{\"id\":\"948670c8-6557-441e-850f-1077435342e5\",\"type\":\"GlyphRenderer\"},{\"id\":\"f6926574-ca19-4f36-92b8-1ae7b3bdf307\",\"type\":\"GlyphRenderer\"}]},\"id\":\"c1be6bcd-a335-4355-a021-c4b76ec30b59\",\"type\":\"LegendItem\"},{\"attributes\":{},\"id\":\"53f86336-d24d-4bf2-bfaa-a4ebafa9e130\",\"type\":\"SaveTool\"},{\"attributes\":{\"line_alpha\":0.3,\"line_color\":\"#984ea3\",\"line_width\":8,\"x\":{\"field\":\"x\"},\"y\":{\"field\":\"y\"}},\"id\":\"c24bca1f-5d1f-4b93-9f9d-306d18a4b39c\",\"type\":\"Line\"},{\"attributes\":{\"line_alpha\":0.1,\"line_color\":\"#1f77b4\",\"line_width\":8,\"x\":{\"field\":\"x\"},\"y\":{\"field\":\"y\"}},\"id\":\"c7f50bde-8956-4151-a0d0-f883b199cf90\",\"type\":\"Line\"},{\"attributes\":{\"line_alpha\":0.1,\"line_color\":\"#1f77b4\",\"line_dash\":[6],\"line_width\":5,\"x\":{\"field\":\"x\"},\"y\":{\"field\":\"y\"}},\"id\":\"a95957c1-0c10-486f-a556-5c507eddb129\",\"type\":\"Line\"},{\"attributes\":{},\"id\":\"246aa17e-3dde-4f2f-bb72-d4721ab48aac\",\"type\":\"WheelZoomTool\"},{\"attributes\":{\"source\":{\"id\":\"2650a2f7-42e7-4e00-b66e-a0918202f922\",\"type\":\"ColumnDataSource\"}},\"id\":\"2fc0e44e-acc2-4bea-aeef-8d4cf025d73e\",\"type\":\"CDSView\"},{\"attributes\":{\"plot\":null,\"text\":\"\"},\"id\":\"461da219-9d32-4b90-a017-9ebf39ae0c33\",\"type\":\"Title\"},{\"attributes\":{\"callback\":null,\"data\":{\"x\":{\"__ndarray__\":\"HoGdLcwTyb8weTTfOb7HvzaQJpZ57cu/EPswr7+3z78of/6nq1HRv8S7/droGdK/9PBNFADo0b8ASv6TP3jQvxhe+0XnQsu/YAfl0/Drwr8Qxp00scOxvwBQLkPZ1Xk/YMhoxyHCqz/gVIEUu2OtPwBnlKxXEYk/YGABl4I4sb+4Lv9P7GLBv2hjlDqUh8O/GL0EuyK3vr8InZ0JH6Oyv7AHLiN1+qS/wBM9uz+Ijb+AR6l8/8pxPwBC8HaTG2E/AFAm6iU/S78gRjhd+gZ7Pzhdlw49lpM/IGvVevCNmz+YJSjyucOaP9jBQyzLv5M/oGbDSTqEhD8AeNiouqI5PwiwMu7ia3O/AFBwRNsZOr8wbSYdsgWAPyiHjiP5DIg/oOfVCLTsgz9AqlRqMMB4P8Acaxc45Gk/4PrbprZaVz+AFJABDWI7PwCr42gJTC6/IMM5E6ZkSL9QWScn+BVWv/TAkKJXq2C//gSEun5TX79gAP/N6elGvwAcMeAzoz8/gCqvEbpHUT/gNvyyjgBVP8C88ORpyVc/QGkzAguLWz+AV2qPN0dgP2AaMqpSLGM/wJQQ39oSZj8g3XpBoJhoP6By9gX4cGo/oPClxjxyaz8geAjWGpZrP+CLEzNx8Go/gA5lgfmjaT+gCQaO3dFnPyATe08GlmU/wA0rJKD2Yj9AK3PjccdfP4BoFX01Ylg/ABMU5FXMTj8A3ZP+GCE0PwDPzDbwQjS/ANoe0f5ZR7+AnKNF599Iv4A0Ii0dvUC/AIQjUGdXIb+A0xuRZ+cyPwAPFEEtLEk/\",\"dtype\":\"float64\",\"shape\":[75]},\"y\":{\"__ndarray__\":\"GhExyth1ND/Sv8nbtpRIP2vylNV0PVE/aTum7souWD/At0SJ8fVgPw3Iuahxymc/MSNhhJWvcD/bTfBN02d3P2zb5nxnaoA/CD5h5MAGhz8NmeH1TyaQP+zrCsc9p5Y/LbKd76fGnz/bLW5ISEmmPww9YvTcQq8/JV2OstnstT8Er5Y7M8G+P0c+r3jqkcU/5h99k6ZBzj88bCIzFzjVP4enV8oyxN0//yH99nXg5D8qOpLLf0jtP5kqGJXUifQ/c9cS8kHP/D+/DpwzojQEQIEmwoanVwxA4lgXt9HgE0BSSZ2AJuIbQAMJih9jjiNA5q4l5INuK0AwTKYKRj0zQNv5fmq8/DpAaCJseHrtQkB/+zpwzoxKQM3MzMzMeFJAZmZmZmZqWEAAAAAAAFxeQM3MzMzMJmJAmpmZmZkfZUBmZmZmZhhoQDMzMzMzEWtAAAAAAAAKbkBmZmZmZoFwQM3MzMzM/XFAMzMzMzN6c0CamZmZmfZ0QAAAAAAAc3ZAZmZmZmbvd0DNzMzMzGt5QDMzMzMz6HpAmpmZmZlkfEAAAAAAAOF9QGZmZmZmXX9AZmZmZuZsgECamZmZGSuBQM3MzMxM6YFAAAAAAICngkAzMzMzs2WDQGZmZmbmI4RAmpmZmRnihEDNzMzMTKCFQAAAAACAXoZAMzMzM7Mch0BmZmZm5tqHQJqZmZkZmYhAzczMzExXiUAAAAAAgBWKQDMzMzOz04pAZmZmZuaRi0CamZmZGVCMQM3MzMxMDo1AAAAAAIDMjUAzMzMzs4qOQGZmZmbmSI9A\",\"dtype\":\"float64\",\"shape\":[75]}},\"selected\":{\"id\":\"326c5834-2d4b-4c86-9248-65cba13523d6\",\"type\":\"Selection\"},\"selection_policy\":{\"id\":\"9351769d-ddc5-4de7-8b9a-bd340ebdf1ae\",\"type\":\"UnionRenderers\"}},\"id\":\"9f0b8e86-de57-4b3b-8c28-31b316f0ed28\",\"type\":\"ColumnDataSource\"},{\"attributes\":{},\"id\":\"a1af6e66-249f-4bda-accd-caed6acd54c3\",\"type\":\"ResetTool\"},{\"attributes\":{\"label\":{\"value\":\"CLIRAD - CRD\"},\"renderers\":[{\"id\":\"64fe8faf-e9e0-4a3b-8da3-f9bfef3875fc\",\"type\":\"GlyphRenderer\"}]},\"id\":\"a5dcc410-e3b0-4fce-8892-f3b992d70591\",\"type\":\"LegendItem\"},{\"attributes\":{},\"id\":\"11d53f06-dd77-456d-81fe-488068228e74\",\"type\":\"PanTool\"},{\"attributes\":{},\"id\":\"46cb905d-2b5a-43f0-9cb3-65699139f86f\",\"type\":\"UnionRenderers\"},{\"attributes\":{\"plot\":null,\"text\":\"\"},\"id\":\"852ba152-2def-4d41-9241-31b298c771c5\",\"type\":\"Title\"},{\"attributes\":{\"label\":{\"value\":\"WGT igg=10 - CRD\"},\"renderers\":[{\"id\":\"1d34aaa7-20d6-4717-88dc-dbfb80f0de7a\",\"type\":\"GlyphRenderer\"}]},\"id\":\"79c835f4-1617-4cc6-8b8d-bd5c2fdc8fdd\",\"type\":\"LegendItem\"},{\"attributes\":{\"line_alpha\":0.6,\"line_color\":\"#e41a1c\",\"line_dash\":[6],\"line_width\":5,\"x\":{\"field\":\"x\"},\"y\":{\"field\":\"y\"}},\"id\":\"9072b6f0-eac3-4222-a8dc-36aee7060119\",\"type\":\"Line\"},{\"attributes\":{\"children\":[{\"id\":\"3dbbe0dd-5e45-41ae-8daf-0484d24db58b\",\"subtype\":\"Figure\",\"type\":\"Plot\"},{\"id\":\"99cffe59-a232-4045-9c0c-bdbf8814c35d\",\"subtype\":\"Figure\",\"type\":\"Plot\"},{\"id\":\"5a75d939-1432-4924-98bb-3e859dae1132\",\"subtype\":\"Figure\",\"type\":\"Plot\"}]},\"id\":\"9fb4d2da-1737-49c1-8b9e-3cc0aea7c6b1\",\"type\":\"Row\"},{\"attributes\":{},\"id\":\"624f8ec4-27d8-4421-8d4a-0cc461570677\",\"type\":\"BasicTicker\"},{\"attributes\":{},\"id\":\"34c9c8ca-2e91-46a4-9827-e2ca8fbb3db0\",\"type\":\"BasicTickFormatter\"},{\"attributes\":{\"plot\":{\"id\":\"99cffe59-a232-4045-9c0c-bdbf8814c35d\",\"subtype\":\"Figure\",\"type\":\"Plot\"},\"ticker\":{\"id\":\"624f8ec4-27d8-4421-8d4a-0cc461570677\",\"type\":\"BasicTicker\"}},\"id\":\"816f79d5-cdb1-45c7-a493-d4195aabcab4\",\"type\":\"Grid\"},{\"attributes\":{},\"id\":\"ed865de2-caf6-4d2d-a1c4-b01eb6f7444e\",\"type\":\"BasicTickFormatter\"},{\"attributes\":{},\"id\":\"f78c77e3-ec42-4ff0-bc68-a22af9fd3260\",\"type\":\"LinearScale\"},{\"attributes\":{\"data_source\":{\"id\":\"9f0b8e86-de57-4b3b-8c28-31b316f0ed28\",\"type\":\"ColumnDataSource\"},\"glyph\":{\"id\":\"270cf7bd-93b1-4b24-8cfa-d46b1f66ba7c\",\"type\":\"Line\"},\"hover_glyph\":null,\"muted_glyph\":null,\"nonselection_glyph\":{\"id\":\"d1290a1a-fb2d-486c-9e19-86f1949a4cad\",\"type\":\"Line\"},\"selection_glyph\":null,\"view\":{\"id\":\"19ec1e58-f206-42e6-a445-5cddb0416701\",\"type\":\"CDSView\"}},\"id\":\"1d34aaa7-20d6-4717-88dc-dbfb80f0de7a\",\"type\":\"GlyphRenderer\"},{\"attributes\":{},\"id\":\"c005d1a8-1fad-4ead-b175-b104d9389efd\",\"type\":\"UnionRenderers\"},{\"attributes\":{\"num_minor_ticks\":10},\"id\":\"cad26c94-1fe6-4b28-8945-e7c2bdee8a1f\",\"type\":\"LogTicker\"},{\"attributes\":{},\"id\":\"609ac103-110e-4c82-b436-80fbbe79d363\",\"type\":\"Selection\"},{\"attributes\":{\"ticker\":null},\"id\":\"1303e52c-72b5-47d5-8097-8454113a420b\",\"type\":\"LogTickFormatter\"},{\"attributes\":{\"callback\":null,\"end\":1.6902881317015261,\"start\":0.02834241054590329},\"id\":\"61d719c2-cf09-4b4a-84c8-c5f84c761e35\",\"type\":\"Range1d\"},{\"attributes\":{},\"id\":\"55491ba8-cb3a-4f9a-97eb-8fed43de9fa6\",\"type\":\"Selection\"},{\"attributes\":{\"source\":{\"id\":\"9f0b8e86-de57-4b3b-8c28-31b316f0ed28\",\"type\":\"ColumnDataSource\"}},\"id\":\"19ec1e58-f206-42e6-a445-5cddb0416701\",\"type\":\"CDSView\"},{\"attributes\":{},\"id\":\"a95c66a9-8264-47ae-b732-b4b56b8e4d53\",\"type\":\"BasicTickFormatter\"},{\"attributes\":{},\"id\":\"4e693157-958a-4863-bf53-e0b2538b70a9\",\"type\":\"Selection\"},{\"attributes\":{},\"id\":\"1d339847-e390-4ad6-ab20-895aa4ade79e\",\"type\":\"UnionRenderers\"},{\"attributes\":{},\"id\":\"839c76bd-b791-4129-96fc-c2378c86200e\",\"type\":\"Selection\"},{\"attributes\":{},\"id\":\"3bbac80a-1aba-4ab6-85e8-ddc0c01d2d4e\",\"type\":\"Selection\"},{\"attributes\":{},\"id\":\"56d43a80-f0ef-4b19-8003-11a91d63e5a6\",\"type\":\"LinearScale\"},{\"attributes\":{},\"id\":\"21a28d56-7141-4600-b553-a81e7508f7f3\",\"type\":\"UnionRenderers\"},{\"attributes\":{\"plot\":null,\"text\":\"\"},\"id\":\"a3c6c23d-4bb4-4eec-838f-45e2b02122ff\",\"type\":\"Title\"},{\"attributes\":{\"items\":[{\"id\":\"37b076c4-3203-438c-9814-9664ed18be44\",\"type\":\"LegendItem\"},{\"id\":\"9d7e7ec1-5951-4087-b913-12c6f51708c7\",\"type\":\"LegendItem\"},{\"id\":\"0fe91ac9-f91f-437e-abfb-d4b77f90afd7\",\"type\":\"LegendItem\"}],\"label_text_font_size\":{\"value\":\"8pt\"},\"location\":\"top_center\",\"orientation\":\"horizontal\",\"plot\":{\"id\":\"99cffe59-a232-4045-9c0c-bdbf8814c35d\",\"subtype\":\"Figure\",\"type\":\"Plot\"}},\"id\":\"961f42e2-d3ee-454f-bbd7-065569664fbc\",\"type\":\"Legend\"},{\"attributes\":{\"ticker\":null},\"id\":\"a2e2b33a-f63c-43c7-a434-07e2affbb6ef\",\"type\":\"LogTickFormatter\"},{\"attributes\":{},\"id\":\"d9ce6ada-1c5c-4ff8-a317-e14ecbcc0b77\",\"type\":\"UnionRenderers\"},{\"attributes\":{\"axis_label\":\"pressure [mb]\",\"formatter\":{\"id\":\"1303e52c-72b5-47d5-8097-8454113a420b\",\"type\":\"LogTickFormatter\"},\"plot\":{\"id\":\"99cffe59-a232-4045-9c0c-bdbf8814c35d\",\"subtype\":\"Figure\",\"type\":\"Plot\"},\"ticker\":{\"id\":\"cad26c94-1fe6-4b28-8945-e7c2bdee8a1f\",\"type\":\"LogTicker\"}},\"id\":\"b410b9e5-6f46-458a-ba93-5f972198601b\",\"type\":\"LogAxis\"},{\"attributes\":{},\"id\":\"eac0fb00-acbb-4393-8f9f-c1ffb0a9afb9\",\"type\":\"Selection\"},{\"attributes\":{},\"id\":\"076a17f5-afcd-4e44-aa1e-c83838476425\",\"type\":\"Selection\"},{\"attributes\":{},\"id\":\"31ce2469-18e2-4d0f-8123-95d4af1e44ad\",\"type\":\"UnionRenderers\"},{\"attributes\":{\"data_source\":{\"id\":\"b890f1dd-cfa2-420c-877b-aa0e40f79668\",\"type\":\"ColumnDataSource\"},\"glyph\":{\"id\":\"c24bca1f-5d1f-4b93-9f9d-306d18a4b39c\",\"type\":\"Line\"},\"hover_glyph\":null,\"muted_glyph\":null,\"nonselection_glyph\":{\"id\":\"c7f50bde-8956-4151-a0d0-f883b199cf90\",\"type\":\"Line\"},\"selection_glyph\":null,\"view\":{\"id\":\"4619f253-66cb-47e9-b941-b0a6a78bc9db\",\"type\":\"CDSView\"}},\"id\":\"bd49573e-1349-464c-bdf3-f071e9becbda\",\"type\":\"GlyphRenderer\"},{\"attributes\":{},\"id\":\"1eaa46ec-5771-4497-a9c0-31a26ccee761\",\"type\":\"UnionRenderers\"},{\"attributes\":{\"above\":[{\"id\":\"5733e493-b386-44b8-bdc7-3524f15434be\",\"type\":\"Legend\"}],\"below\":[{\"id\":\"eb0b0249-2feb-4951-95be-c00641434d14\",\"type\":\"LinearAxis\"}],\"left\":[{\"id\":\"83e35860-31aa-49df-b848-1e3941d4ac6b\",\"type\":\"LinearAxis\"}],\"plot_height\":500,\"plot_width\":300,\"renderers\":[{\"id\":\"eb0b0249-2feb-4951-95be-c00641434d14\",\"type\":\"LinearAxis\"},{\"id\":\"cd72839c-ce5a-48cb-a370-2bd3a0a980cf\",\"type\":\"Grid\"},{\"id\":\"83e35860-31aa-49df-b848-1e3941d4ac6b\",\"type\":\"LinearAxis\"},{\"id\":\"14635c17-2b7e-4a2a-8d8d-0517c4360317\",\"type\":\"Grid\"},{\"id\":\"af021a74-bad5-41c8-8fc7-6f88ead0e5af\",\"type\":\"BoxAnnotation\"},{\"id\":\"985d4d84-6d5d-4268-9676-fcc032cc7441\",\"type\":\"GlyphRenderer\"},{\"id\":\"948670c8-6557-441e-850f-1077435342e5\",\"type\":\"GlyphRenderer\"},{\"id\":\"f6926574-ca19-4f36-92b8-1ae7b3bdf307\",\"type\":\"GlyphRenderer\"},{\"id\":\"bd49573e-1349-464c-bdf3-f071e9becbda\",\"type\":\"GlyphRenderer\"},{\"id\":\"5733e493-b386-44b8-bdc7-3524f15434be\",\"type\":\"Legend\"}],\"title\":{\"id\":\"852ba152-2def-4d41-9241-31b298c771c5\",\"type\":\"Title\"},\"toolbar\":{\"id\":\"9ff8bcfa-41f4-4f6a-9452-59d9f3da98cf\",\"type\":\"Toolbar\"},\"toolbar_location\":null,\"x_range\":{\"id\":\"39e562c9-5f7a-4fdc-b78e-d966e171ac2e\",\"type\":\"Range1d\"},\"x_scale\":{\"id\":\"56d43a80-f0ef-4b19-8003-11a91d63e5a6\",\"type\":\"LinearScale\"},\"y_range\":{\"id\":\"7d297c46-6bfc-4e65-b5b5-66f4380e46ee\",\"type\":\"Range1d\"},\"y_scale\":{\"id\":\"d800d89c-3da0-48c4-a248-d43ce85514e5\",\"type\":\"LinearScale\"}},\"id\":\"3dbbe0dd-5e45-41ae-8daf-0484d24db58b\",\"subtype\":\"Figure\",\"type\":\"Plot\"},{\"attributes\":{},\"id\":\"da8aaf7e-78ac-4a9e-8d1a-cf5df1a04c3a\",\"type\":\"Selection\"},{\"attributes\":{\"axis_label\":\"cooling rate [K/day]\",\"formatter\":{\"id\":\"34c9c8ca-2e91-46a4-9827-e2ca8fbb3db0\",\"type\":\"BasicTickFormatter\"},\"plot\":{\"id\":\"99cffe59-a232-4045-9c0c-bdbf8814c35d\",\"subtype\":\"Figure\",\"type\":\"Plot\"},\"ticker\":{\"id\":\"624f8ec4-27d8-4421-8d4a-0cc461570677\",\"type\":\"BasicTicker\"}},\"id\":\"318187b2-dcb9-4f0c-a418-887f010a096c\",\"type\":\"LinearAxis\"},{\"attributes\":{\"active_drag\":\"auto\",\"active_inspect\":\"auto\",\"active_scroll\":\"auto\",\"active_tap\":\"auto\",\"tools\":[{\"id\":\"d2528eae-0e81-46dd-be11-4eeb7c11644f\",\"type\":\"PanTool\"},{\"id\":\"01a9f717-5db7-457a-aa82-d3eff4bbdc0f\",\"type\":\"WheelZoomTool\"},{\"id\":\"6a8dbb7e-0029-45cf-b69d-a165732e794f\",\"type\":\"BoxZoomTool\"},{\"id\":\"d9edf8fb-5167-4cfa-b850-d321d518126b\",\"type\":\"SaveTool\"},{\"id\":\"e54113b4-f40d-4433-8e5d-9996cb7b8f45\",\"type\":\"ResetTool\"},{\"id\":\"4a831896-d436-4774-b33d-f54f9b05dacd\",\"type\":\"HelpTool\"}]},\"id\":\"9ff8bcfa-41f4-4f6a-9452-59d9f3da98cf\",\"type\":\"Toolbar\"},{\"attributes\":{},\"id\":\"326c5834-2d4b-4c86-9248-65cba13523d6\",\"type\":\"Selection\"},{\"attributes\":{},\"id\":\"bfc321ff-85c2-4648-8b7a-8e870b078ad7\",\"type\":\"LogScale\"},{\"attributes\":{},\"id\":\"32d1a5bf-156b-484a-b5c1-03eba19b154a\",\"type\":\"UnionRenderers\"},{\"attributes\":{\"callback\":null,\"data\":{\"x\":{\"__ndarray__\":\"LbyB7yB43z+gbWtOcuzgP9iXXTcjuOU/XGCz/KPb6j/MJQg7nxPwP1rdqW5Wt/I/6pcAYM849T8ruuLbXHH3P7p3ujX3Nvk/NHmjfvJe+j8kyFmBrsj6P6oLb8FMa/o/eaNiEtVk+T+hFJSBElP3P1ETwH/BHvQ/B59tQzrw8D8KQZYW0Q3tP1MsjjXpx+k/3xAEslnx5z98H7EO5YLnP12NMLHnBuk/Me4n30MM5z+V5Ru1MTPhPwq2IUeUn9k/gkf2TPr70z8tVQdELlPPP3D97i8Y4sc/EsLyoGWrwj9YktzM6hnAP4Q/HyVqSLw/WTegbJLHtz8c6WkPWAazPx9ys1n/BLE/XhzZQ2zEsT/8mFd1NymyPzXpJAOxPbI/t2vf0PsDsj/ZRJT08qewPz1oScEXfa0/nc3+PAInqj8GBn9+h9qmP0hBk76DaaM/cjU84vU6nz8DJze1Qt+VPxURGgnBpoI/T79F11Eccz9fInUJHA+OP/5u/iwIC5w/A8TWwsvnoj/4xwxDWf+mPyMpQnAsmqo/ENC3tq3YrT9aObPUsWawP/yTbykmwbE/NP9SJRL+sj+BWpwlxBu0P4QpkijGFrU/+qv9zHjptT/vL+z73422P9V8xDUbAbc/6iTOyIlEtz+xYqc8N2G3P8Mtl0/dY7c/Wc+zQTpetz/QAWLaY2S3P1vRUMjzi7c/sPqPhYHotz/fdSu493a4PxdLnO1F6Lg/BlJ8rHiLuD/vc70j8N62PwuVCy/QNbQ/yHoXogZFsT9whQOV7sasPzo5XS3rVaY/\",\"dtype\":\"float64\",\"shape\":[75]},\"y\":{\"__ndarray__\":\"GhExyth1ND/Sv8nbtpRIP2vylNV0PVE/aTum7souWD/At0SJ8fVgPw3Iuahxymc/MSNhhJWvcD/bTfBN02d3P2zb5nxnaoA/CD5h5MAGhz8NmeH1TyaQP+zrCsc9p5Y/LbKd76fGnz/bLW5ISEmmPww9YvTcQq8/JV2OstnstT8Er5Y7M8G+P0c+r3jqkcU/5h99k6ZBzj88bCIzFzjVP4enV8oyxN0//yH99nXg5D8qOpLLf0jtP5kqGJXUifQ/c9cS8kHP/D+/DpwzojQEQIEmwoanVwxA4lgXt9HgE0BSSZ2AJuIbQAMJih9jjiNA5q4l5INuK0AwTKYKRj0zQNv5fmq8/DpAaCJseHrtQkB/+zpwzoxKQM3MzMzMeFJAZmZmZmZqWEAAAAAAAFxeQM3MzMzMJmJAmpmZmZkfZUBmZmZmZhhoQDMzMzMzEWtAAAAAAAAKbkBmZmZmZoFwQM3MzMzM/XFAMzMzMzN6c0CamZmZmfZ0QAAAAAAAc3ZAZmZmZmbvd0DNzMzMzGt5QDMzMzMz6HpAmpmZmZlkfEAAAAAAAOF9QGZmZmZmXX9AZmZmZuZsgECamZmZGSuBQM3MzMxM6YFAAAAAAICngkAzMzMzs2WDQGZmZmbmI4RAmpmZmRnihEDNzMzMTKCFQAAAAACAXoZAMzMzM7Mch0BmZmZm5tqHQJqZmZkZmYhAzczMzExXiUAAAAAAgBWKQDMzMzOz04pAZmZmZuaRi0CamZmZGVCMQM3MzMxMDo1AAAAAAIDMjUAzMzMzs4qOQGZmZmbmSI9A\",\"dtype\":\"float64\",\"shape\":[75]}},\"selected\":{\"id\":\"4e693157-958a-4863-bf53-e0b2538b70a9\",\"type\":\"Selection\"},\"selection_policy\":{\"id\":\"1d339847-e390-4ad6-ab20-895aa4ade79e\",\"type\":\"UnionRenderers\"}},\"id\":\"8c9951a6-3112-47cc-8133-98d35174f128\",\"type\":\"ColumnDataSource\"},{\"attributes\":{\"fill_alpha\":{\"value\":0.7},\"fill_color\":{\"value\":\"#4daf4a\"},\"line_alpha\":{\"value\":0.7},\"line_color\":{\"value\":\"#4daf4a\"},\"x\":{\"field\":\"x\"},\"y\":{\"field\":\"y\"}},\"id\":\"b5afbc02-ce58-4fdd-a445-5bc0841aa840\",\"type\":\"Circle\"},{\"attributes\":{\"data_source\":{\"id\":\"ad7e405d-8a02-40d5-800a-22bb4eafaf71\",\"type\":\"ColumnDataSource\"},\"glyph\":{\"id\":\"3d27a98c-596b-4c6a-be31-9bdee049316f\",\"type\":\"Circle\"},\"hover_glyph\":null,\"muted_glyph\":null,\"nonselection_glyph\":{\"id\":\"3eaaa2cc-913d-4284-b04f-0eb8056b7898\",\"type\":\"Circle\"},\"selection_glyph\":null,\"view\":{\"id\":\"1887da78-2100-49af-a9f2-0a786d8263d9\",\"type\":\"CDSView\"}},\"id\":\"f73a6d6a-0ae3-4a5b-b551-fc6b8a8409d4\",\"type\":\"GlyphRenderer\"},{\"attributes\":{\"source\":{\"id\":\"8c9951a6-3112-47cc-8133-98d35174f128\",\"type\":\"ColumnDataSource\"}},\"id\":\"873885d4-3ab4-4618-a90e-1f90aee0d811\",\"type\":\"CDSView\"},{\"attributes\":{\"fill_alpha\":{\"value\":0.1},\"fill_color\":{\"value\":\"#1f77b4\"},\"line_alpha\":{\"value\":0.1},\"line_color\":{\"value\":\"#1f77b4\"},\"x\":{\"field\":\"x\"},\"y\":{\"field\":\"y\"}},\"id\":\"e01d9d05-ed01-4c8b-a89c-b9ba1851e37f\",\"type\":\"Circle\"},{\"attributes\":{\"fill_alpha\":{\"value\":0.1},\"fill_color\":{\"value\":\"#1f77b4\"},\"line_alpha\":{\"value\":0.1},\"line_color\":{\"value\":\"#1f77b4\"},\"x\":{\"field\":\"x\"},\"y\":{\"field\":\"y\"}},\"id\":\"3eaaa2cc-913d-4284-b04f-0eb8056b7898\",\"type\":\"Circle\"},{\"attributes\":{\"data_source\":{\"id\":\"50f6197e-5afe-4aed-8f73-9ee82f13e059\",\"type\":\"ColumnDataSource\"},\"glyph\":{\"id\":\"3391987e-adfd-464c-b7e3-08d76dc178b1\",\"type\":\"Line\"},\"hover_glyph\":null,\"muted_glyph\":null,\"nonselection_glyph\":{\"id\":\"968f5602-4c4b-44e6-883e-9157159727d2\",\"type\":\"Line\"},\"selection_glyph\":null,\"view\":{\"id\":\"97529902-88b9-46e8-b643-d4f2aa74f2a4\",\"type\":\"CDSView\"}},\"id\":\"985d4d84-6d5d-4268-9676-fcc032cc7441\",\"type\":\"GlyphRenderer\"},{\"attributes\":{\"callback\":null,\"data\":{\"x\":{\"__ndarray__\":\"KdFxuepP0z8Ar42AI2TWP4gTmE7r9t0/9Q8iGXIs4z93WxI1C7PnP2BiRXDQfOw//bc3ZKjP8D+IWA4+3nXzP3ReY5eo/vU/67ZVWpA3+D+P8XIiC+L5P9TKKaZ3tvo/nnqkwW1t+j9auKzCZmD4PzgwuVFkbfQ/flhOxiHw7z+yWokOu+7oP8uR3+wgIOU/CE/wZnBI5D8thO71YkblP3HiUGRSyOc/fxcyLofD5j+3inIn4JDhP/IkTMWEINo/d+BzknND1D+1EMsD5E3QP0buZbLquco/qh2T/6hRxj/VA0lMDqfDPyOr8KEjvcA/eU28wR+Xuj8rtDQ2wkKzPzai5nE52q8/wglhQsCysT/qDpwSlEu0P6iDUjqsfrU/r+VEpG6ztD+CLGxPjleyP89w7KHJOq8/T4ehF+brqj9hQlMWiBWnP6cK7Wwta6M/fOg5JODQnj9cRAKwe9eUP3YG05qpA34/GZ+z0EjnZz/X7KGt5faMPzV5YodFzZw/F53E0Wmeoz/KkeddadenP+RaT9WGiKs//yvhvy/krj/9bFYQEgixP0R5UYG0e7I/wXCuYYbGsz8pBWsJ6vW0PxAvX8kbAbY/k/LUzw3gtj+ho4Vm/4W3P6DgyiiC97c/O9fZi8YsuD9Fg0R1mzm4P8MB7UEaK7g/Y2dqDwQTuD8rM/Y8twS4P3Occ6EGFLg/ifpkkn9QuD8Sm3bOorm4P4sqPX9M/rg/Tk3iqdCLuD9rJnWI09e2P5dpA8meMbQ/wyFEx0hVsT+X5A4IZfusP/qSU1zRvaY/\",\"dtype\":\"float64\",\"shape\":[75]},\"y\":{\"__ndarray__\":\"GhExyth1ND/Sv8nbtpRIP2vylNV0PVE/aTum7souWD/At0SJ8fVgPw3Iuahxymc/MSNhhJWvcD/bTfBN02d3P2zb5nxnaoA/CD5h5MAGhz8NmeH1TyaQP+zrCsc9p5Y/LbKd76fGnz/bLW5ISEmmPww9YvTcQq8/JV2OstnstT8Er5Y7M8G+P0c+r3jqkcU/5h99k6ZBzj88bCIzFzjVP4enV8oyxN0//yH99nXg5D8qOpLLf0jtP5kqGJXUifQ/c9cS8kHP/D+/DpwzojQEQIEmwoanVwxA4lgXt9HgE0BSSZ2AJuIbQAMJih9jjiNA5q4l5INuK0AwTKYKRj0zQNv5fmq8/DpAaCJseHrtQkB/+zpwzoxKQM3MzMzMeFJAZmZmZmZqWEAAAAAAAFxeQM3MzMzMJmJAmpmZmZkfZUBmZmZmZhhoQDMzMzMzEWtAAAAAAAAKbkBmZmZmZoFwQM3MzMzM/XFAMzMzMzN6c0CamZmZmfZ0QAAAAAAAc3ZAZmZmZmbvd0DNzMzMzGt5QDMzMzMz6HpAmpmZmZlkfEAAAAAAAOF9QGZmZmZmXX9AZmZmZuZsgECamZmZGSuBQM3MzMxM6YFAAAAAAICngkAzMzMzs2WDQGZmZmbmI4RAmpmZmRnihEDNzMzMTKCFQAAAAACAXoZAMzMzM7Mch0BmZmZm5tqHQJqZmZkZmYhAzczMzExXiUAAAAAAgBWKQDMzMzOz04pAZmZmZuaRi0CamZmZGVCMQM3MzMxMDo1AAAAAAIDMjUAzMzMzs4qOQGZmZmbmSI9A\",\"dtype\":\"float64\",\"shape\":[75]}},\"selected\":{\"id\":\"55491ba8-cb3a-4f9a-97eb-8fed43de9fa6\",\"type\":\"Selection\"},\"selection_policy\":{\"id\":\"46cb905d-2b5a-43f0-9cb3-65699139f86f\",\"type\":\"UnionRenderers\"}},\"id\":\"50f6197e-5afe-4aed-8f73-9ee82f13e059\",\"type\":\"ColumnDataSource\"},{\"attributes\":{\"source\":{\"id\":\"50f6197e-5afe-4aed-8f73-9ee82f13e059\",\"type\":\"ColumnDataSource\"}},\"id\":\"97529902-88b9-46e8-b643-d4f2aa74f2a4\",\"type\":\"CDSView\"},{\"attributes\":{\"label\":{\"value\":\"CLIRAD\"},\"renderers\":[{\"id\":\"985d4d84-6d5d-4268-9676-fcc032cc7441\",\"type\":\"GlyphRenderer\"}]},\"id\":\"069dbc0c-8215-447e-bf02-07fcfd28a24b\",\"type\":\"LegendItem\"},{\"attributes\":{},\"id\":\"bb1ef0cd-0d14-4701-807a-4850da7e50a4\",\"type\":\"HelpTool\"},{\"attributes\":{\"callback\":null,\"data\":{\"x\":{\"__ndarray__\":\"LbyB7yB43z+gbWtOcuzgP9iXXTcjuOU/XGCz/KPb6j/MJQg7nxPwP1rdqW5Wt/I/6pcAYM849T8ruuLbXHH3P7p3ujX3Nvk/NHmjfvJe+j8kyFmBrsj6P6oLb8FMa/o/eaNiEtVk+T+hFJSBElP3P1ETwH/BHvQ/B59tQzrw8D8KQZYW0Q3tP1MsjjXpx+k/3xAEslnx5z98H7EO5YLnP12NMLHnBuk/Me4n30MM5z+V5Ru1MTPhPwq2IUeUn9k/gkf2TPr70z8tVQdELlPPP3D97i8Y4sc/EsLyoGWrwj9YktzM6hnAP4Q/HyVqSLw/WTegbJLHtz8c6WkPWAazPx9ys1n/BLE/XhzZQ2zEsT/8mFd1NymyPzXpJAOxPbI/t2vf0PsDsj/ZRJT08qewPz1oScEXfa0/nc3+PAInqj8GBn9+h9qmP0hBk76DaaM/cjU84vU6nz8DJze1Qt+VPxURGgnBpoI/T79F11Eccz9fInUJHA+OP/5u/iwIC5w/A8TWwsvnoj/4xwxDWf+mPyMpQnAsmqo/ENC3tq3YrT9aObPUsWawP/yTbykmwbE/NP9SJRL+sj+BWpwlxBu0P4QpkijGFrU/+qv9zHjptT/vL+z73422P9V8xDUbAbc/6iTOyIlEtz+xYqc8N2G3P8Mtl0/dY7c/Wc+zQTpetz/QAWLaY2S3P1vRUMjzi7c/sPqPhYHotz/fdSu493a4PxdLnO1F6Lg/BlJ8rHiLuD/vc70j8N62PwuVCy/QNbQ/yHoXogZFsT9whQOV7sasPzo5XS3rVaY/\",\"dtype\":\"float64\",\"shape\":[75]},\"y\":{\"__ndarray__\":\"GhExyth1ND/Sv8nbtpRIP2vylNV0PVE/aTum7souWD/At0SJ8fVgPw3Iuahxymc/MSNhhJWvcD/bTfBN02d3P2zb5nxnaoA/CD5h5MAGhz8NmeH1TyaQP+zrCsc9p5Y/LbKd76fGnz/bLW5ISEmmPww9YvTcQq8/JV2OstnstT8Er5Y7M8G+P0c+r3jqkcU/5h99k6ZBzj88bCIzFzjVP4enV8oyxN0//yH99nXg5D8qOpLLf0jtP5kqGJXUifQ/c9cS8kHP/D+/DpwzojQEQIEmwoanVwxA4lgXt9HgE0BSSZ2AJuIbQAMJih9jjiNA5q4l5INuK0AwTKYKRj0zQNv5fmq8/DpAaCJseHrtQkB/+zpwzoxKQM3MzMzMeFJAZmZmZmZqWEAAAAAAAFxeQM3MzMzMJmJAmpmZmZkfZUBmZmZmZhhoQDMzMzMzEWtAAAAAAAAKbkBmZmZmZoFwQM3MzMzM/XFAMzMzMzN6c0CamZmZmfZ0QAAAAAAAc3ZAZmZmZmbvd0DNzMzMzGt5QDMzMzMz6HpAmpmZmZlkfEAAAAAAAOF9QGZmZmZmXX9AZmZmZuZsgECamZmZGSuBQM3MzMxM6YFAAAAAAICngkAzMzMzs2WDQGZmZmbmI4RAmpmZmRnihEDNzMzMTKCFQAAAAACAXoZAMzMzM7Mch0BmZmZm5tqHQJqZmZkZmYhAzczMzExXiUAAAAAAgBWKQDMzMzOz04pAZmZmZuaRi0CamZmZGVCMQM3MzMxMDo1AAAAAAIDMjUAzMzMzs4qOQGZmZmbmSI9A\",\"dtype\":\"float64\",\"shape\":[75]}},\"selected\":{\"id\":\"9a35eea5-3a67-4fae-b9d6-d5a8c1ffb241\",\"type\":\"Selection\"},\"selection_policy\":{\"id\":\"d9ce6ada-1c5c-4ff8-a317-e14ecbcc0b77\",\"type\":\"UnionRenderers\"}},\"id\":\"ad7e405d-8a02-40d5-800a-22bb4eafaf71\",\"type\":\"ColumnDataSource\"},{\"attributes\":{},\"id\":\"d2528eae-0e81-46dd-be11-4eeb7c11644f\",\"type\":\"PanTool\"},{\"attributes\":{\"data_source\":{\"id\":\"8c9951a6-3112-47cc-8133-98d35174f128\",\"type\":\"ColumnDataSource\"},\"glyph\":{\"id\":\"ff3ec774-8f8f-4db3-bd25-581d7a2321b7\",\"type\":\"Line\"},\"hover_glyph\":null,\"muted_glyph\":null,\"nonselection_glyph\":{\"id\":\"d31dcb7c-31bc-4e78-9e9f-7c1c4fe0dd58\",\"type\":\"Line\"},\"selection_glyph\":null,\"view\":{\"id\":\"873885d4-3ab4-4618-a90e-1f90aee0d811\",\"type\":\"CDSView\"}},\"id\":\"f6926574-ca19-4f36-92b8-1ae7b3bdf307\",\"type\":\"GlyphRenderer\"},{\"attributes\":{\"source\":{\"id\":\"afb6e684-78d5-4d8d-840c-c0771fd2417a\",\"type\":\"ColumnDataSource\"}},\"id\":\"8ec38b7c-82a3-4306-a509-10dd4e5d4872\",\"type\":\"CDSView\"},{\"attributes\":{\"line_alpha\":0.6,\"line_color\":\"#e41a1c\",\"line_dash\":[6],\"line_width\":5,\"x\":{\"field\":\"x\"},\"y\":{\"field\":\"y\"}},\"id\":\"28f032df-cf44-42dd-85f9-72c89ecac42d\",\"type\":\"Line\"},{\"attributes\":{\"line_alpha\":0.1,\"line_color\":\"#1f77b4\",\"line_width\":1.5,\"x\":{\"field\":\"x\"},\"y\":{\"field\":\"y\"}},\"id\":\"80134896-0eb3-4690-80f4-f8198473083b\",\"type\":\"Line\"},{\"attributes\":{\"data_source\":{\"id\":\"eff8a072-9dde-4b6d-8fce-4912843e63fa\",\"type\":\"ColumnDataSource\"},\"glyph\":{\"id\":\"04f06691-8de2-4ec8-8e60-2f0e0c62ef3e\",\"type\":\"Line\"},\"hover_glyph\":null,\"muted_glyph\":null,\"nonselection_glyph\":{\"id\":\"80134896-0eb3-4690-80f4-f8198473083b\",\"type\":\"Line\"},\"selection_glyph\":null,\"view\":{\"id\":\"e0a4540a-b5ed-4740-9386-2211f533fb91\",\"type\":\"CDSView\"}},\"id\":\"588f2777-7040-4597-a0de-097f8af614ed\",\"type\":\"GlyphRenderer\"},{\"attributes\":{\"bottom_units\":\"screen\",\"fill_alpha\":{\"value\":0.5},\"fill_color\":{\"value\":\"lightgrey\"},\"left_units\":\"screen\",\"level\":\"overlay\",\"line_alpha\":{\"value\":1.0},\"line_color\":{\"value\":\"black\"},\"line_dash\":[4,4],\"line_width\":{\"value\":2},\"plot\":null,\"render_mode\":\"css\",\"right_units\":\"screen\",\"top_units\":\"screen\"},\"id\":\"af021a74-bad5-41c8-8fc7-6f88ead0e5af\",\"type\":\"BoxAnnotation\"},{\"attributes\":{\"line_color\":\"#4daf4a\",\"line_width\":1.5,\"x\":{\"field\":\"x\"},\"y\":{\"field\":\"y\"}},\"id\":\"04f06691-8de2-4ec8-8e60-2f0e0c62ef3e\",\"type\":\"Line\"},{\"attributes\":{\"fill_alpha\":{\"value\":0.7},\"fill_color\":{\"value\":\"#4daf4a\"},\"line_alpha\":{\"value\":0.7},\"line_color\":{\"value\":\"#4daf4a\"},\"x\":{\"field\":\"x\"},\"y\":{\"field\":\"y\"}},\"id\":\"3d27a98c-596b-4c6a-be31-9bdee049316f\",\"type\":\"Circle\"},{\"attributes\":{},\"id\":\"01a9f717-5db7-457a-aa82-d3eff4bbdc0f\",\"type\":\"WheelZoomTool\"},{\"attributes\":{\"overlay\":{\"id\":\"af021a74-bad5-41c8-8fc7-6f88ead0e5af\",\"type\":\"BoxAnnotation\"}},\"id\":\"6a8dbb7e-0029-45cf-b69d-a165732e794f\",\"type\":\"BoxZoomTool\"},{\"attributes\":{\"data_source\":{\"id\":\"ddb64111-6ab3-49fc-9046-a45b7da34aa1\",\"type\":\"ColumnDataSource\"},\"glyph\":{\"id\":\"1b4dfe0c-225d-4485-9100-5d9b943d06d1\",\"type\":\"Line\"},\"hover_glyph\":null,\"muted_glyph\":null,\"nonselection_glyph\":{\"id\":\"75f5e7ef-55b5-46ae-af1a-2cfbd34b6aaa\",\"type\":\"Line\"},\"selection_glyph\":null,\"view\":{\"id\":\"e2e47695-9226-4211-b380-b70481ac55cc\",\"type\":\"CDSView\"}},\"id\":\"794f0d5e-141c-4e3d-ae74-580cbe912d23\",\"type\":\"GlyphRenderer\"},{\"attributes\":{\"callback\":null,\"data\":{\"x\":{\"__ndarray__\":\"LbyB7yB43z+gbWtOcuzgP9iXXTcjuOU/XGCz/KPb6j/MJQg7nxPwP1rdqW5Wt/I/6pcAYM849T8ruuLbXHH3P7p3ujX3Nvk/NHmjfvJe+j8kyFmBrsj6P6oLb8FMa/o/eaNiEtVk+T+hFJSBElP3P1ETwH/BHvQ/B59tQzrw8D8KQZYW0Q3tP1MsjjXpx+k/3xAEslnx5z98H7EO5YLnP12NMLHnBuk/Me4n30MM5z+V5Ru1MTPhPwq2IUeUn9k/gkf2TPr70z8tVQdELlPPP3D97i8Y4sc/EsLyoGWrwj9YktzM6hnAP4Q/HyVqSLw/WTegbJLHtz8c6WkPWAazPx9ys1n/BLE/XhzZQ2zEsT/8mFd1NymyPzXpJAOxPbI/t2vf0PsDsj/ZRJT08qewPz1oScEXfa0/nc3+PAInqj8GBn9+h9qmP0hBk76DaaM/cjU84vU6nz8DJze1Qt+VPxURGgnBpoI/T79F11Eccz9fInUJHA+OP/5u/iwIC5w/A8TWwsvnoj/4xwxDWf+mPyMpQnAsmqo/ENC3tq3YrT9aObPUsWawP/yTbykmwbE/NP9SJRL+sj+BWpwlxBu0P4QpkijGFrU/+qv9zHjptT/vL+z73422P9V8xDUbAbc/6iTOyIlEtz+xYqc8N2G3P8Mtl0/dY7c/Wc+zQTpetz/QAWLaY2S3P1vRUMjzi7c/sPqPhYHotz/fdSu493a4PxdLnO1F6Lg/BlJ8rHiLuD/vc70j8N62PwuVCy/QNbQ/yHoXogZFsT9whQOV7sasPzo5XS3rVaY/\",\"dtype\":\"float64\",\"shape\":[75]},\"y\":{\"__ndarray__\":\"GhExyth1ND/Sv8nbtpRIP2vylNV0PVE/aTum7souWD/At0SJ8fVgPw3Iuahxymc/MSNhhJWvcD/bTfBN02d3P2zb5nxnaoA/CD5h5MAGhz8NmeH1TyaQP+zrCsc9p5Y/LbKd76fGnz/bLW5ISEmmPww9YvTcQq8/JV2OstnstT8Er5Y7M8G+P0c+r3jqkcU/5h99k6ZBzj88bCIzFzjVP4enV8oyxN0//yH99nXg5D8qOpLLf0jtP5kqGJXUifQ/c9cS8kHP/D+/DpwzojQEQIEmwoanVwxA4lgXt9HgE0BSSZ2AJuIbQAMJih9jjiNA5q4l5INuK0AwTKYKRj0zQNv5fmq8/DpAaCJseHrtQkB/+zpwzoxKQM3MzMzMeFJAZmZmZmZqWEAAAAAAAFxeQM3MzMzMJmJAmpmZmZkfZUBmZmZmZhhoQDMzMzMzEWtAAAAAAAAKbkBmZmZmZoFwQM3MzMzM/XFAMzMzMzN6c0CamZmZmfZ0QAAAAAAAc3ZAZmZmZmbvd0DNzMzMzGt5QDMzMzMz6HpAmpmZmZlkfEAAAAAAAOF9QGZmZmZmXX9AZmZmZuZsgECamZmZGSuBQM3MzMxM6YFAAAAAAICngkAzMzMzs2WDQGZmZmbmI4RAmpmZmRnihEDNzMzMTKCFQAAAAACAXoZAMzMzM7Mch0BmZmZm5tqHQJqZmZkZmYhAzczMzExXiUAAAAAAgBWKQDMzMzOz04pAZmZmZuaRi0CamZmZGVCMQM3MzMxMDo1AAAAAAIDMjUAzMzMzs4qOQGZmZmbmSI9A\",\"dtype\":\"float64\",\"shape\":[75]}},\"selected\":{\"id\":\"609ac103-110e-4c82-b436-80fbbe79d363\",\"type\":\"Selection\"},\"selection_policy\":{\"id\":\"c005d1a8-1fad-4ead-b175-b104d9389efd\",\"type\":\"UnionRenderers\"}},\"id\":\"803d6eb6-5069-4e3d-b78a-73880877c3cb\",\"type\":\"ColumnDataSource\"},{\"attributes\":{\"line_alpha\":0.1,\"line_color\":\"#1f77b4\",\"line_dash\":[6],\"line_width\":5,\"x\":{\"field\":\"x\"},\"y\":{\"field\":\"y\"}},\"id\":\"968f5602-4c4b-44e6-883e-9157159727d2\",\"type\":\"Line\"},{\"attributes\":{\"data_source\":{\"id\":\"803d6eb6-5069-4e3d-b78a-73880877c3cb\",\"type\":\"ColumnDataSource\"},\"glyph\":{\"id\":\"b5afbc02-ce58-4fdd-a445-5bc0841aa840\",\"type\":\"Circle\"},\"hover_glyph\":null,\"muted_glyph\":null,\"nonselection_glyph\":{\"id\":\"e01d9d05-ed01-4c8b-a89c-b9ba1851e37f\",\"type\":\"Circle\"},\"selection_glyph\":null,\"view\":{\"id\":\"924cfcef-c903-4205-9a85-a5889e31205e\",\"type\":\"CDSView\"}},\"id\":\"948670c8-6557-441e-850f-1077435342e5\",\"type\":\"GlyphRenderer\"},{\"attributes\":{\"callback\":null,\"data\":{\"x\":{\"__ndarray__\":\"LbyB7yB43z+gbWtOcuzgP9iXXTcjuOU/XGCz/KPb6j/MJQg7nxPwP1rdqW5Wt/I/6pcAYM849T8ruuLbXHH3P7p3ujX3Nvk/NHmjfvJe+j8kyFmBrsj6P6oLb8FMa/o/eaNiEtVk+T+hFJSBElP3P1ETwH/BHvQ/B59tQzrw8D8KQZYW0Q3tP1MsjjXpx+k/3xAEslnx5z98H7EO5YLnP12NMLHnBuk/Me4n30MM5z+V5Ru1MTPhPwq2IUeUn9k/gkf2TPr70z8tVQdELlPPP3D97i8Y4sc/EsLyoGWrwj9YktzM6hnAP4Q/HyVqSLw/WTegbJLHtz8c6WkPWAazPx9ys1n/BLE/XhzZQ2zEsT/8mFd1NymyPzXpJAOxPbI/t2vf0PsDsj/ZRJT08qewPz1oScEXfa0/nc3+PAInqj8GBn9+h9qmP0hBk76DaaM/cjU84vU6nz8DJze1Qt+VPxURGgnBpoI/T79F11Eccz9fInUJHA+OP/5u/iwIC5w/A8TWwsvnoj/4xwxDWf+mPyMpQnAsmqo/ENC3tq3YrT9aObPUsWawP/yTbykmwbE/NP9SJRL+sj+BWpwlxBu0P4QpkijGFrU/+qv9zHjptT/vL+z73422P9V8xDUbAbc/6iTOyIlEtz+xYqc8N2G3P8Mtl0/dY7c/Wc+zQTpetz/QAWLaY2S3P1vRUMjzi7c/sPqPhYHotz/fdSu493a4PxdLnO1F6Lg/BlJ8rHiLuD/vc70j8N62PwuVCy/QNbQ/yHoXogZFsT9whQOV7sasPzo5XS3rVaY/\",\"dtype\":\"float64\",\"shape\":[75]},\"y\":{\"__ndarray__\":\"GhExyth1ND/Sv8nbtpRIP2vylNV0PVE/aTum7souWD/At0SJ8fVgPw3Iuahxymc/MSNhhJWvcD/bTfBN02d3P2zb5nxnaoA/CD5h5MAGhz8NmeH1TyaQP+zrCsc9p5Y/LbKd76fGnz/bLW5ISEmmPww9YvTcQq8/JV2OstnstT8Er5Y7M8G+P0c+r3jqkcU/5h99k6ZBzj88bCIzFzjVP4enV8oyxN0//yH99nXg5D8qOpLLf0jtP5kqGJXUifQ/c9cS8kHP/D+/DpwzojQEQIEmwoanVwxA4lgXt9HgE0BSSZ2AJuIbQAMJih9jjiNA5q4l5INuK0AwTKYKRj0zQNv5fmq8/DpAaCJseHrtQkB/+zpwzoxKQM3MzMzMeFJAZmZmZmZqWEAAAAAAAFxeQM3MzMzMJmJAmpmZmZkfZUBmZmZmZhhoQDMzMzMzEWtAAAAAAAAKbkBmZmZmZoFwQM3MzMzM/XFAMzMzMzN6c0CamZmZmfZ0QAAAAAAAc3ZAZmZmZmbvd0DNzMzMzGt5QDMzMzMz6HpAmpmZmZlkfEAAAAAAAOF9QGZmZmZmXX9AZmZmZuZsgECamZmZGSuBQM3MzMxM6YFAAAAAAICngkAzMzMzs2WDQGZmZmbmI4RAmpmZmRnihEDNzMzMTKCFQAAAAACAXoZAMzMzM7Mch0BmZmZm5tqHQJqZmZkZmYhAzczMzExXiUAAAAAAgBWKQDMzMzOz04pAZmZmZuaRi0CamZmZGVCMQM3MzMxMDo1AAAAAAIDMjUAzMzMzs4qOQGZmZmbmSI9A\",\"dtype\":\"float64\",\"shape\":[75]}},\"selected\":{\"id\":\"076a17f5-afcd-4e44-aa1e-c83838476425\",\"type\":\"Selection\"},\"selection_policy\":{\"id\":\"31ce2469-18e2-4d0f-8123-95d4af1e44ad\",\"type\":\"UnionRenderers\"}},\"id\":\"eff8a072-9dde-4b6d-8fce-4912843e63fa\",\"type\":\"ColumnDataSource\"},{\"attributes\":{\"source\":{\"id\":\"eff8a072-9dde-4b6d-8fce-4912843e63fa\",\"type\":\"ColumnDataSource\"}},\"id\":\"e0a4540a-b5ed-4740-9386-2211f533fb91\",\"type\":\"CDSView\"},{\"attributes\":{},\"id\":\"d800d89c-3da0-48c4-a248-d43ce85514e5\",\"type\":\"LinearScale\"},{\"attributes\":{\"dimension\":1,\"plot\":{\"id\":\"3dbbe0dd-5e45-41ae-8daf-0484d24db58b\",\"subtype\":\"Figure\",\"type\":\"Plot\"},\"ticker\":{\"id\":\"71bd8045-8d68-4333-8cb0-856c90476adb\",\"type\":\"BasicTicker\"}},\"id\":\"14635c17-2b7e-4a2a-8d8d-0517c4360317\",\"type\":\"Grid\"},{\"attributes\":{\"source\":{\"id\":\"ad7e405d-8a02-40d5-800a-22bb4eafaf71\",\"type\":\"ColumnDataSource\"}},\"id\":\"1887da78-2100-49af-a9f2-0a786d8263d9\",\"type\":\"CDSView\"},{\"attributes\":{\"line_alpha\":0.3,\"line_color\":\"#984ea3\",\"line_width\":8,\"x\":{\"field\":\"x\"},\"y\":{\"field\":\"y\"}},\"id\":\"1b4dfe0c-225d-4485-9100-5d9b943d06d1\",\"type\":\"Line\"},{\"attributes\":{\"axis_label\":\"cooling rate [K/day]\",\"formatter\":{\"id\":\"ed865de2-caf6-4d2d-a1c4-b01eb6f7444e\",\"type\":\"BasicTickFormatter\"},\"plot\":{\"id\":\"3dbbe0dd-5e45-41ae-8daf-0484d24db58b\",\"subtype\":\"Figure\",\"type\":\"Plot\"},\"ticker\":{\"id\":\"aa79f997-4788-4f83-864a-5214d8c24c46\",\"type\":\"BasicTicker\"}},\"id\":\"eb0b0249-2feb-4951-95be-c00641434d14\",\"type\":\"LinearAxis\"},{\"attributes\":{\"line_alpha\":0.1,\"line_color\":\"#1f77b4\",\"line_width\":8,\"x\":{\"field\":\"x\"},\"y\":{\"field\":\"y\"}},\"id\":\"75f5e7ef-55b5-46ae-af1a-2cfbd34b6aaa\",\"type\":\"Line\"},{\"attributes\":{\"callback\":null,\"data\":{\"x\":{\"__ndarray__\":\"nvuy2Dru0j+onjytx/nVP5Xnp6OJed0/mCHnELTt4j8EDBGiaH7nP9Lc1G+4Yew/rRvtWs++8D+rJ+P2TFPzP/cL+0yazvU/SNgmZHQB+D/D6w9uc6z5P/o5spoihfo/vOmdIOZC+j9IHzhaMD74Px88GS/kUPQ/AhL7M2S57z9cdZYCFrXoP3kT6SYE5uQ/PHmjWnUa5D/ba30tgS7lP+Ks/V5At+c/4vk64CKW5j8kOBW0x1bhP46WD27Lwdk/WjQBulru0z+vi3gLsxXQPxfpwdHfVMo/dm9NsCMdxj8LlyELYnLDP/0XGHgunMA/LaTYtRlYuj+UwRLK+h+zPz2OoFWCnK8/DqyUaFKqsT+iZvy47Sm0Pxq6lidQP7U/qyj6UZKBtD99jzn79TOyPwkawEJbG68/dK018tfhqj8vJoKYSxGnP51dKrU3S6M/WWeisdB3nj9uscQy432UP7DB60DW93w/H3xJUeSOZj9ZMpVsfaCMP24zf/yUiZw/Vz1kkwlyoz+vqaS4XaenPwmvab93WKs/WmvJDga1rj8WjC6R6+iwP88kwb6IWrI/2oNL/Kiusz9qMagnieC0PxndwehN6rU/f9syswrFtj+wc5zSkGq3PzQZXb+e2Lc/Xk3ZlKkRuD/+khcpxh+4P1wGE4KNELg/xyfVQu/1tz99zu+hgeO3P/0mRZ587bc/1iJYMRomuD+8CSrRGIu4P0h+Zf0C1Lg/UhTarsRcuD+2LDJVMK22P6JQsfRVFLQ/Bmlv7lo8sT8XvSVkveysP3aJYeKbuqY/\",\"dtype\":\"float64\",\"shape\":[75]},\"y\":{\"__ndarray__\":\"GhExyth1ND/Sv8nbtpRIP2vylNV0PVE/aTum7souWD/At0SJ8fVgPw3Iuahxymc/MSNhhJWvcD/bTfBN02d3P2zb5nxnaoA/CD5h5MAGhz8NmeH1TyaQP+zrCsc9p5Y/LbKd76fGnz/bLW5ISEmmPww9YvTcQq8/JV2OstnstT8Er5Y7M8G+P0c+r3jqkcU/5h99k6ZBzj88bCIzFzjVP4enV8oyxN0//yH99nXg5D8qOpLLf0jtP5kqGJXUifQ/c9cS8kHP/D+/DpwzojQEQIEmwoanVwxA4lgXt9HgE0BSSZ2AJuIbQAMJih9jjiNA5q4l5INuK0AwTKYKRj0zQNv5fmq8/DpAaCJseHrtQkB/+zpwzoxKQM3MzMzMeFJAZmZmZmZqWEAAAAAAAFxeQM3MzMzMJmJAmpmZmZkfZUBmZmZmZhhoQDMzMzMzEWtAAAAAAAAKbkBmZmZmZoFwQM3MzMzM/XFAMzMzMzN6c0CamZmZmfZ0QAAAAAAAc3ZAZmZmZmbvd0DNzMzMzGt5QDMzMzMz6HpAmpmZmZlkfEAAAAAAAOF9QGZmZmZmXX9AZmZmZuZsgECamZmZGSuBQM3MzMxM6YFAAAAAAICngkAzMzMzs2WDQGZmZmbmI4RAmpmZmRnihEDNzMzMTKCFQAAAAACAXoZAMzMzM7Mch0BmZmZm5tqHQJqZmZkZmYhAzczMzExXiUAAAAAAgBWKQDMzMzOz04pAZmZmZuaRi0CamZmZGVCMQM3MzMxMDo1AAAAAAIDMjUAzMzMzs4qOQGZmZmbmSI9A\",\"dtype\":\"float64\",\"shape\":[75]}},\"selected\":{\"id\":\"eac0fb00-acbb-4393-8f9f-c1ffb0a9afb9\",\"type\":\"Selection\"},\"selection_policy\":{\"id\":\"1eaa46ec-5771-4497-a9c0-31a26ccee761\",\"type\":\"UnionRenderers\"}},\"id\":\"ddb64111-6ab3-49fc-9046-a45b7da34aa1\",\"type\":\"ColumnDataSource\"},{\"attributes\":{},\"id\":\"d9edf8fb-5167-4cfa-b850-d321d518126b\",\"type\":\"SaveTool\"},{\"attributes\":{\"above\":[{\"id\":\"83013153-fe96-44d6-acf9-07ddbf0189fc\",\"type\":\"Legend\"}],\"below\":[{\"id\":\"6fb98a4a-1555-4a86-9702-13b160cdc6ef\",\"type\":\"LinearAxis\"}],\"left\":[{\"id\":\"68a319bb-604f-4ea2-81ab-3d3ff8b70ecd\",\"type\":\"LogAxis\"}],\"plot_height\":500,\"plot_width\":300,\"renderers\":[{\"id\":\"6fb98a4a-1555-4a86-9702-13b160cdc6ef\",\"type\":\"LinearAxis\"},{\"id\":\"bf6a5986-4260-459c-b146-905f03f8d1a9\",\"type\":\"Grid\"},{\"id\":\"68a319bb-604f-4ea2-81ab-3d3ff8b70ecd\",\"type\":\"LogAxis\"},{\"id\":\"70759287-c10a-4771-b1a9-446fd9420679\",\"type\":\"Grid\"},{\"id\":\"583a7190-d5ab-46f0-89bb-b3db50c2cd40\",\"type\":\"BoxAnnotation\"},{\"id\":\"64fe8faf-e9e0-4a3b-8da3-f9bfef3875fc\",\"type\":\"GlyphRenderer\"},{\"id\":\"1d34aaa7-20d6-4717-88dc-dbfb80f0de7a\",\"type\":\"GlyphRenderer\"},{\"id\":\"83013153-fe96-44d6-acf9-07ddbf0189fc\",\"type\":\"Legend\"}],\"title\":{\"id\":\"a3c6c23d-4bb4-4eec-838f-45e2b02122ff\",\"type\":\"Title\"},\"toolbar\":{\"id\":\"1f9a2682-0245-4c6b-a7c5-0633fc525dab\",\"type\":\"Toolbar\"},\"toolbar_location\":null,\"x_range\":{\"id\":\"478c5654-af89-4a52-977c-cdefe94a9d2d\",\"type\":\"Range1d\"},\"x_scale\":{\"id\":\"4c1ce718-5670-4046-b90d-3c4160340e18\",\"type\":\"LinearScale\"},\"y_range\":{\"id\":\"d0910924-5b73-4694-973b-328d66f301a2\",\"type\":\"Range1d\"},\"y_scale\":{\"id\":\"380648e5-11d5-41b4-95e3-d43f4b4a25a3\",\"type\":\"LogScale\"}},\"id\":\"5a75d939-1432-4924-98bb-3e859dae1132\",\"subtype\":\"Figure\",\"type\":\"Plot\"},{\"attributes\":{},\"id\":\"4a831896-d436-4774-b33d-f54f9b05dacd\",\"type\":\"HelpTool\"},{\"attributes\":{\"source\":{\"id\":\"ddb64111-6ab3-49fc-9046-a45b7da34aa1\",\"type\":\"ColumnDataSource\"}},\"id\":\"e2e47695-9226-4211-b380-b70481ac55cc\",\"type\":\"CDSView\"},{\"attributes\":{},\"id\":\"e54113b4-f40d-4433-8e5d-9996cb7b8f45\",\"type\":\"ResetTool\"},{\"attributes\":{\"active_drag\":\"auto\",\"active_inspect\":\"auto\",\"active_scroll\":\"auto\",\"active_tap\":\"auto\",\"tools\":[{\"id\":\"0263f693-13de-44aa-b68d-f8804d7335eb\",\"type\":\"PanTool\"},{\"id\":\"d3cfda49-0067-4202-83d4-831b65f81e3d\",\"type\":\"WheelZoomTool\"},{\"id\":\"06d23336-d8cf-46d4-95da-de5706f2e36d\",\"type\":\"BoxZoomTool\"},{\"id\":\"6ea08cbe-d7cf-41f0-8edd-344f425665db\",\"type\":\"SaveTool\"},{\"id\":\"221d1574-6a7b-4cb2-be63-8c10edd7d341\",\"type\":\"ResetTool\"},{\"id\":\"905f331a-2ad9-43c5-b3aa-1adcd4eef0cc\",\"type\":\"HelpTool\"}]},\"id\":\"1f9a2682-0245-4c6b-a7c5-0633fc525dab\",\"type\":\"Toolbar\"},{\"attributes\":{\"callback\":null,\"data\":{\"x\":{\"__ndarray__\":\"CNYfbGxQyL+AWJI4gunGv1A4RkC28sq/nEFFjse8zr9C4PuBZujQv6iwHNq449G/tH8j75uk0b8YDaPu9NvPvzDKuPJ0wsm/SBJuIhE7wb+g0trca9Ssv4DKry65ypI/UHId9IqJsD+QO4oRRNWwP8A5R360qJM/AFnOCCwFr79gmTMgWHzAvyBquiIhn8K/uA6eWEpHvb942hTGEOSxv8Cu+s1U6aO/gKx1PSwvgr+ASKmVnGuHPwDdTcUPHoA/QD1mX1HecT/Qw+w4nImEP7CGtxOUvpY/wNwC9RoynT/oi2P7G2mcPwhbCHt0x5Q/ALHgqGp8hj+Ah2VlEzVOP0AQAgwqfnG/AJwSeAGsMb9wryPq5BKBP5jTbLnZB4o/wM8rm5Z7hT+Qen6ttfl6PyCJMAoe22s/QDZXVHucWD+ALR7qS4A9PwDwlZzlmuo+gD2TgG+FOr9wKk5TcHxQv9BuhN1hJ12/Cr+vu7WiXL+AWDO9ZYNBv+BGgUyrR0g/gCK73cHTVj9AOllbAwJbPyA4pqFMy10/8L6VkiC4YD9gdGZ0ByxkPwCpPPzKUWc/oDFui4cOaT8AVdV5vERrP4CxoBm0Sm0/INPoWqDSbj9Adi5T7QNvP2B5zGDezG4/IEp2YZgHbT+AEqQThwxrPwCAukqe52g/QAHTtjmZZj9gK4ZSbApkPwBjWSRbAmE/QPY/NYP/WT/ATMmSxapQPwB036CRBjY/AADSfln/1T4AEDYhbXIcvwDQrSCYxRC/APumLCVCMD+Ak6+FOTs6PwBwlr2L+Uk/\",\"dtype\":\"float64\",\"shape\":[75]},\"y\":{\"__ndarray__\":\"GhExyth1ND/Sv8nbtpRIP2vylNV0PVE/aTum7souWD/At0SJ8fVgPw3Iuahxymc/MSNhhJWvcD/bTfBN02d3P2zb5nxnaoA/CD5h5MAGhz8NmeH1TyaQP+zrCsc9p5Y/LbKd76fGnz/bLW5ISEmmPww9YvTcQq8/JV2OstnstT8Er5Y7M8G+P0c+r3jqkcU/5h99k6ZBzj88bCIzFzjVP4enV8oyxN0//yH99nXg5D8qOpLLf0jtP5kqGJXUifQ/c9cS8kHP/D+/DpwzojQEQIEmwoanVwxA4lgXt9HgE0BSSZ2AJuIbQAMJih9jjiNA5q4l5INuK0AwTKYKRj0zQNv5fmq8/DpAaCJseHrtQkB/+zpwzoxKQM3MzMzMeFJAZmZmZmZqWEAAAAAAAFxeQM3MzMzMJmJAmpmZmZkfZUBmZmZmZhhoQDMzMzMzEWtAAAAAAAAKbkBmZmZmZoFwQM3MzMzM/XFAMzMzMzN6c0CamZmZmfZ0QAAAAAAAc3ZAZmZmZmbvd0DNzMzMzGt5QDMzMzMz6HpAmpmZmZlkfEAAAAAAAOF9QGZmZmZmXX9AZmZmZuZsgECamZmZGSuBQM3MzMxM6YFAAAAAAICngkAzMzMzs2WDQGZmZmbmI4RAmpmZmRnihEDNzMzMTKCFQAAAAACAXoZAMzMzM7Mch0BmZmZm5tqHQJqZmZkZmYhAzczMzExXiUAAAAAAgBWKQDMzMzOz04pAZmZmZuaRi0CamZmZGVCMQM3MzMxMDo1AAAAAAIDMjUAzMzMzs4qOQGZmZmbmSI9A\",\"dtype\":\"float64\",\"shape\":[75]}},\"selected\":{\"id\":\"da8aaf7e-78ac-4a9e-8d1a-cf5df1a04c3a\",\"type\":\"Selection\"},\"selection_policy\":{\"id\":\"32d1a5bf-156b-484a-b5c1-03eba19b154a\",\"type\":\"UnionRenderers\"}},\"id\":\"2650a2f7-42e7-4e00-b66e-a0918202f922\",\"type\":\"ColumnDataSource\"},{\"attributes\":{\"bottom_units\":\"screen\",\"fill_alpha\":{\"value\":0.5},\"fill_color\":{\"value\":\"lightgrey\"},\"left_units\":\"screen\",\"level\":\"overlay\",\"line_alpha\":{\"value\":1.0},\"line_color\":{\"value\":\"black\"},\"line_dash\":[4,4],\"line_width\":{\"value\":2},\"plot\":null,\"render_mode\":\"css\",\"right_units\":\"screen\",\"top_units\":\"screen\"},\"id\":\"5b580404-2ba6-4e1b-afdf-046ce9a874df\",\"type\":\"BoxAnnotation\"},{\"attributes\":{\"label\":{\"value\":\"CLIRAD\"},\"renderers\":[{\"id\":\"4a60c096-7f2b-4d20-b2f7-9520d2d2a616\",\"type\":\"GlyphRenderer\"}]},\"id\":\"37b076c4-3203-438c-9814-9664ed18be44\",\"type\":\"LegendItem\"},{\"attributes\":{\"callback\":null,\"end\":0.06793747149570005,\"start\":-0.15475833552569992},\"id\":\"478c5654-af89-4a52-977c-cdefe94a9d2d\",\"type\":\"Range1d\"},{\"attributes\":{\"source\":{\"id\":\"803d6eb6-5069-4e3d-b78a-73880877c3cb\",\"type\":\"ColumnDataSource\"}},\"id\":\"924cfcef-c903-4205-9a85-a5889e31205e\",\"type\":\"CDSView\"},{\"attributes\":{\"label\":{\"value\":\"CRD\"},\"renderers\":[{\"id\":\"f73a6d6a-0ae3-4a5b-b551-fc6b8a8409d4\",\"type\":\"GlyphRenderer\"},{\"id\":\"588f2777-7040-4597-a0de-097f8af614ed\",\"type\":\"GlyphRenderer\"}]},\"id\":\"9d7e7ec1-5951-4087-b913-12c6f51708c7\",\"type\":\"LegendItem\"},{\"attributes\":{},\"id\":\"4c1ce718-5670-4046-b90d-3c4160340e18\",\"type\":\"LinearScale\"},{\"attributes\":{\"line_alpha\":0.1,\"line_color\":\"#1f77b4\",\"line_dash\":[6],\"line_width\":5,\"x\":{\"field\":\"x\"},\"y\":{\"field\":\"y\"}},\"id\":\"a32a43f7-3d52-4b7e-a840-d231a283fb81\",\"type\":\"Line\"},{\"attributes\":{\"label\":{\"value\":\"WGT igg=10\"},\"renderers\":[{\"id\":\"bd49573e-1349-464c-bdf3-f071e9becbda\",\"type\":\"GlyphRenderer\"}]},\"id\":\"930efc75-ace2-4900-8be9-3fdc8396da74\",\"type\":\"LegendItem\"},{\"attributes\":{\"label\":{\"value\":\"WGT igg=10\"},\"renderers\":[{\"id\":\"794f0d5e-141c-4e3d-ae74-580cbe912d23\",\"type\":\"GlyphRenderer\"}]},\"id\":\"0fe91ac9-f91f-437e-abfb-d4b77f90afd7\",\"type\":\"LegendItem\"},{\"attributes\":{\"plot\":{\"id\":\"5a75d939-1432-4924-98bb-3e859dae1132\",\"subtype\":\"Figure\",\"type\":\"Plot\"},\"ticker\":{\"id\":\"a98b0fad-3332-4f03-954f-ea29f9eccb82\",\"type\":\"BasicTicker\"}},\"id\":\"bf6a5986-4260-459c-b146-905f03f8d1a9\",\"type\":\"Grid\"},{\"attributes\":{\"items\":[{\"id\":\"a5dcc410-e3b0-4fce-8892-f3b992d70591\",\"type\":\"LegendItem\"},{\"id\":\"79c835f4-1617-4cc6-8b8d-bd5c2fdc8fdd\",\"type\":\"LegendItem\"}],\"label_text_font_size\":{\"value\":\"8pt\"},\"location\":\"top_center\",\"orientation\":\"horizontal\",\"plot\":{\"id\":\"5a75d939-1432-4924-98bb-3e859dae1132\",\"subtype\":\"Figure\",\"type\":\"Plot\"}},\"id\":\"83013153-fe96-44d6-acf9-07ddbf0189fc\",\"type\":\"Legend\"},{\"attributes\":{\"line_alpha\":0.1,\"line_color\":\"#1f77b4\",\"line_width\":1.5,\"x\":{\"field\":\"x\"},\"y\":{\"field\":\"y\"}},\"id\":\"d31dcb7c-31bc-4e78-9e9f-7c1c4fe0dd58\",\"type\":\"Line\"},{\"attributes\":{\"data_source\":{\"id\":\"afb6e684-78d5-4d8d-840c-c0771fd2417a\",\"type\":\"ColumnDataSource\"},\"glyph\":{\"id\":\"28f032df-cf44-42dd-85f9-72c89ecac42d\",\"type\":\"Line\"},\"hover_glyph\":null,\"muted_glyph\":null,\"nonselection_glyph\":{\"id\":\"a32a43f7-3d52-4b7e-a840-d231a283fb81\",\"type\":\"Line\"},\"selection_glyph\":null,\"view\":{\"id\":\"8ec38b7c-82a3-4306-a509-10dd4e5d4872\",\"type\":\"CDSView\"}},\"id\":\"4a60c096-7f2b-4d20-b2f7-9520d2d2a616\",\"type\":\"GlyphRenderer\"},{\"attributes\":{},\"id\":\"71bd8045-8d68-4333-8cb0-856c90476adb\",\"type\":\"BasicTicker\"},{\"attributes\":{},\"id\":\"380648e5-11d5-41b4-95e3-d43f4b4a25a3\",\"type\":\"LogScale\"},{\"attributes\":{\"axis_label\":\"cooling rate [K/day]\",\"formatter\":{\"id\":\"ea1271da-0f00-4d59-9bad-6852f2762a63\",\"type\":\"BasicTickFormatter\"},\"plot\":{\"id\":\"5a75d939-1432-4924-98bb-3e859dae1132\",\"subtype\":\"Figure\",\"type\":\"Plot\"},\"ticker\":{\"id\":\"a98b0fad-3332-4f03-954f-ea29f9eccb82\",\"type\":\"BasicTicker\"}},\"id\":\"6fb98a4a-1555-4a86-9702-13b160cdc6ef\",\"type\":\"LinearAxis\"},{\"attributes\":{\"axis_label\":\"pressure [mb]\",\"formatter\":{\"id\":\"a95c66a9-8264-47ae-b732-b4b56b8e4d53\",\"type\":\"BasicTickFormatter\"},\"plot\":{\"id\":\"3dbbe0dd-5e45-41ae-8daf-0484d24db58b\",\"subtype\":\"Figure\",\"type\":\"Plot\"},\"ticker\":{\"id\":\"71bd8045-8d68-4333-8cb0-856c90476adb\",\"type\":\"BasicTicker\"}},\"id\":\"83e35860-31aa-49df-b848-1e3941d4ac6b\",\"type\":\"LinearAxis\"},{\"attributes\":{},\"id\":\"a98b0fad-3332-4f03-954f-ea29f9eccb82\",\"type\":\"BasicTicker\"},{\"attributes\":{\"plot\":{\"id\":\"3dbbe0dd-5e45-41ae-8daf-0484d24db58b\",\"subtype\":\"Figure\",\"type\":\"Plot\"},\"ticker\":{\"id\":\"aa79f997-4788-4f83-864a-5214d8c24c46\",\"type\":\"BasicTicker\"}},\"id\":\"cd72839c-ce5a-48cb-a370-2bd3a0a980cf\",\"type\":\"Grid\"},{\"attributes\":{\"axis_label\":\"pressure [mb]\",\"formatter\":{\"id\":\"a2e2b33a-f63c-43c7-a434-07e2affbb6ef\",\"type\":\"LogTickFormatter\"},\"plot\":{\"id\":\"5a75d939-1432-4924-98bb-3e859dae1132\",\"subtype\":\"Figure\",\"type\":\"Plot\"},\"ticker\":{\"id\":\"b280a530-7fbd-4e83-b4e8-cd599c44a244\",\"type\":\"LogTicker\"}},\"id\":\"68a319bb-604f-4ea2-81ab-3d3ff8b70ecd\",\"type\":\"LogAxis\"},{\"attributes\":{\"line_alpha\":0.6,\"line_color\":\"#e41a1c\",\"line_dash\":[6],\"line_width\":5,\"x\":{\"field\":\"x\"},\"y\":{\"field\":\"y\"}},\"id\":\"3391987e-adfd-464c-b7e3-08d76dc178b1\",\"type\":\"Line\"},{\"attributes\":{\"num_minor_ticks\":10},\"id\":\"b280a530-7fbd-4e83-b4e8-cd599c44a244\",\"type\":\"LogTicker\"},{\"attributes\":{\"dimension\":1,\"plot\":{\"id\":\"5a75d939-1432-4924-98bb-3e859dae1132\",\"subtype\":\"Figure\",\"type\":\"Plot\"},\"ticker\":{\"id\":\"b280a530-7fbd-4e83-b4e8-cd599c44a244\",\"type\":\"LogTicker\"}},\"id\":\"70759287-c10a-4771-b1a9-446fd9420679\",\"type\":\"Grid\"},{\"attributes\":{\"line_color\":\"#4daf4a\",\"line_width\":1.5,\"x\":{\"field\":\"x\"},\"y\":{\"field\":\"y\"}},\"id\":\"ff3ec774-8f8f-4db3-bd25-581d7a2321b7\",\"type\":\"Line\"},{\"attributes\":{\"callback\":null,\"data\":{\"x\":{\"__ndarray__\":\"nvuy2Dru0j+onjytx/nVP5Xnp6OJed0/mCHnELTt4j8EDBGiaH7nP9Lc1G+4Yew/rRvtWs++8D+rJ+P2TFPzP/cL+0yazvU/SNgmZHQB+D/D6w9uc6z5P/o5spoihfo/vOmdIOZC+j9IHzhaMD74Px88GS/kUPQ/AhL7M2S57z9cdZYCFrXoP3kT6SYE5uQ/PHmjWnUa5D/ba30tgS7lP+Ks/V5At+c/4vk64CKW5j8kOBW0x1bhP46WD27Lwdk/WjQBulru0z+vi3gLsxXQPxfpwdHfVMo/dm9NsCMdxj8LlyELYnLDP/0XGHgunMA/LaTYtRlYuj+UwRLK+h+zPz2OoFWCnK8/DqyUaFKqsT+iZvy47Sm0Pxq6lidQP7U/qyj6UZKBtD99jzn79TOyPwkawEJbG68/dK018tfhqj8vJoKYSxGnP51dKrU3S6M/WWeisdB3nj9uscQy432UP7DB60DW93w/H3xJUeSOZj9ZMpVsfaCMP24zf/yUiZw/Vz1kkwlyoz+vqaS4XaenPwmvab93WKs/WmvJDga1rj8WjC6R6+iwP88kwb6IWrI/2oNL/Kiusz9qMagnieC0PxndwehN6rU/f9syswrFtj+wc5zSkGq3PzQZXb+e2Lc/Xk3ZlKkRuD/+khcpxh+4P1wGE4KNELg/xyfVQu/1tz99zu+hgeO3P/0mRZ587bc/1iJYMRomuD+8CSrRGIu4P0h+Zf0C1Lg/UhTarsRcuD+2LDJVMK22P6JQsfRVFLQ/Bmlv7lo8sT8XvSVkveysP3aJYeKbuqY/\",\"dtype\":\"float64\",\"shape\":[75]},\"y\":{\"__ndarray__\":\"GhExyth1ND/Sv8nbtpRIP2vylNV0PVE/aTum7souWD/At0SJ8fVgPw3Iuahxymc/MSNhhJWvcD/bTfBN02d3P2zb5nxnaoA/CD5h5MAGhz8NmeH1TyaQP+zrCsc9p5Y/LbKd76fGnz/bLW5ISEmmPww9YvTcQq8/JV2OstnstT8Er5Y7M8G+P0c+r3jqkcU/5h99k6ZBzj88bCIzFzjVP4enV8oyxN0//yH99nXg5D8qOpLLf0jtP5kqGJXUifQ/c9cS8kHP/D+/DpwzojQEQIEmwoanVwxA4lgXt9HgE0BSSZ2AJuIbQAMJih9jjiNA5q4l5INuK0AwTKYKRj0zQNv5fmq8/DpAaCJseHrtQkB/+zpwzoxKQM3MzMzMeFJAZmZmZmZqWEAAAAAAAFxeQM3MzMzMJmJAmpmZmZkfZUBmZmZmZhhoQDMzMzMzEWtAAAAAAAAKbkBmZmZmZoFwQM3MzMzM/XFAMzMzMzN6c0CamZmZmfZ0QAAAAAAAc3ZAZmZmZmbvd0DNzMzMzGt5QDMzMzMz6HpAmpmZmZlkfEAAAAAAAOF9QGZmZmZmXX9AZmZmZuZsgECamZmZGSuBQM3MzMxM6YFAAAAAAICngkAzMzMzs2WDQGZmZmbmI4RAmpmZmRnihEDNzMzMTKCFQAAAAACAXoZAMzMzM7Mch0BmZmZm5tqHQJqZmZkZmYhAzczMzExXiUAAAAAAgBWKQDMzMzOz04pAZmZmZuaRi0CamZmZGVCMQM3MzMxMDo1AAAAAAIDMjUAzMzMzs4qOQGZmZmbmSI9A\",\"dtype\":\"float64\",\"shape\":[75]}},\"selected\":{\"id\":\"3bbac80a-1aba-4ab6-85e8-ddc0c01d2d4e\",\"type\":\"Selection\"},\"selection_policy\":{\"id\":\"21a28d56-7141-4600-b553-a81e7508f7f3\",\"type\":\"UnionRenderers\"}},\"id\":\"b890f1dd-cfa2-420c-877b-aa0e40f79668\",\"type\":\"ColumnDataSource\"},{\"attributes\":{},\"id\":\"d4cbf98f-ab35-4f0d-80b4-1091f8bc54bc\",\"type\":\"UnionRenderers\"},{\"attributes\":{\"active_drag\":\"auto\",\"active_inspect\":\"auto\",\"active_scroll\":\"auto\",\"active_tap\":\"auto\",\"tools\":[{\"id\":\"11d53f06-dd77-456d-81fe-488068228e74\",\"type\":\"PanTool\"},{\"id\":\"246aa17e-3dde-4f2f-bb72-d4721ab48aac\",\"type\":\"WheelZoomTool\"},{\"id\":\"ce2dc8b3-c02f-4882-bd0e-e9efd4c100e8\",\"type\":\"BoxZoomTool\"},{\"id\":\"53f86336-d24d-4bf2-bfaa-a4ebafa9e130\",\"type\":\"SaveTool\"},{\"id\":\"a1af6e66-249f-4bda-accd-caed6acd54c3\",\"type\":\"ResetTool\"},{\"id\":\"bb1ef0cd-0d14-4701-807a-4850da7e50a4\",\"type\":\"HelpTool\"}]},\"id\":\"adb09c7e-8ecc-48fd-a782-4bbc5d04b266\",\"type\":\"Toolbar\"},{\"attributes\":{\"callback\":null,\"end\":0.01,\"start\":1020},\"id\":\"d0910924-5b73-4694-973b-328d66f301a2\",\"type\":\"Range1d\"},{\"attributes\":{},\"id\":\"aa79f997-4788-4f83-864a-5214d8c24c46\",\"type\":\"BasicTicker\"},{\"attributes\":{\"bottom_units\":\"screen\",\"fill_alpha\":{\"value\":0.5},\"fill_color\":{\"value\":\"lightgrey\"},\"left_units\":\"screen\",\"level\":\"overlay\",\"line_alpha\":{\"value\":1.0},\"line_color\":{\"value\":\"black\"},\"line_dash\":[4,4],\"line_width\":{\"value\":2},\"plot\":null,\"render_mode\":\"css\",\"right_units\":\"screen\",\"top_units\":\"screen\"},\"id\":\"583a7190-d5ab-46f0-89bb-b3db50c2cd40\",\"type\":\"BoxAnnotation\"},{\"attributes\":{\"callback\":null,\"data\":{\"x\":{\"__ndarray__\":\"KdFxuepP0z8Ar42AI2TWP4gTmE7r9t0/9Q8iGXIs4z93WxI1C7PnP2BiRXDQfOw//bc3ZKjP8D+IWA4+3nXzP3ReY5eo/vU/67ZVWpA3+D+P8XIiC+L5P9TKKaZ3tvo/nnqkwW1t+j9auKzCZmD4PzgwuVFkbfQ/flhOxiHw7z+yWokOu+7oP8uR3+wgIOU/CE/wZnBI5D8thO71YkblP3HiUGRSyOc/fxcyLofD5j+3inIn4JDhP/IkTMWEINo/d+BzknND1D+1EMsD5E3QP0buZbLquco/qh2T/6hRxj/VA0lMDqfDPyOr8KEjvcA/eU28wR+Xuj8rtDQ2wkKzPzai5nE52q8/wglhQsCysT/qDpwSlEu0P6iDUjqsfrU/r+VEpG6ztD+CLGxPjleyP89w7KHJOq8/T4ehF+brqj9hQlMWiBWnP6cK7Wwta6M/fOg5JODQnj9cRAKwe9eUP3YG05qpA34/GZ+z0EjnZz/X7KGt5faMPzV5YodFzZw/F53E0Wmeoz/KkeddadenP+RaT9WGiKs//yvhvy/krj/9bFYQEgixP0R5UYG0e7I/wXCuYYbGsz8pBWsJ6vW0PxAvX8kbAbY/k/LUzw3gtj+ho4Vm/4W3P6DgyiiC97c/O9fZi8YsuD9Fg0R1mzm4P8MB7UEaK7g/Y2dqDwQTuD8rM/Y8twS4P3Occ6EGFLg/ifpkkn9QuD8Sm3bOorm4P4sqPX9M/rg/Tk3iqdCLuD9rJnWI09e2P5dpA8meMbQ/wyFEx0hVsT+X5A4IZfusP/qSU1zRvaY/\",\"dtype\":\"float64\",\"shape\":[75]},\"y\":{\"__ndarray__\":\"GhExyth1ND/Sv8nbtpRIP2vylNV0PVE/aTum7souWD/At0SJ8fVgPw3Iuahxymc/MSNhhJWvcD/bTfBN02d3P2zb5nxnaoA/CD5h5MAGhz8NmeH1TyaQP+zrCsc9p5Y/LbKd76fGnz/bLW5ISEmmPww9YvTcQq8/JV2OstnstT8Er5Y7M8G+P0c+r3jqkcU/5h99k6ZBzj88bCIzFzjVP4enV8oyxN0//yH99nXg5D8qOpLLf0jtP5kqGJXUifQ/c9cS8kHP/D+/DpwzojQEQIEmwoanVwxA4lgXt9HgE0BSSZ2AJuIbQAMJih9jjiNA5q4l5INuK0AwTKYKRj0zQNv5fmq8/DpAaCJseHrtQkB/+zpwzoxKQM3MzMzMeFJAZmZmZmZqWEAAAAAAAFxeQM3MzMzMJmJAmpmZmZkfZUBmZmZmZhhoQDMzMzMzEWtAAAAAAAAKbkBmZmZmZoFwQM3MzMzM/XFAMzMzMzN6c0CamZmZmfZ0QAAAAAAAc3ZAZmZmZmbvd0DNzMzMzGt5QDMzMzMz6HpAmpmZmZlkfEAAAAAAAOF9QGZmZmZmXX9AZmZmZuZsgECamZmZGSuBQM3MzMxM6YFAAAAAAICngkAzMzMzs2WDQGZmZmbmI4RAmpmZmRnihEDNzMzMTKCFQAAAAACAXoZAMzMzM7Mch0BmZmZm5tqHQJqZmZkZmYhAzczMzExXiUAAAAAAgBWKQDMzMzOz04pAZmZmZuaRi0CamZmZGVCMQM3MzMxMDo1AAAAAAIDMjUAzMzMzs4qOQGZmZmbmSI9A\",\"dtype\":\"float64\",\"shape\":[75]}},\"selected\":{\"id\":\"839c76bd-b791-4129-96fc-c2378c86200e\",\"type\":\"Selection\"},\"selection_policy\":{\"id\":\"d4cbf98f-ab35-4f0d-80b4-1091f8bc54bc\",\"type\":\"UnionRenderers\"}},\"id\":\"afb6e684-78d5-4d8d-840c-c0771fd2417a\",\"type\":\"ColumnDataSource\"},{\"attributes\":{},\"id\":\"0263f693-13de-44aa-b68d-f8804d7335eb\",\"type\":\"PanTool\"},{\"attributes\":{},\"id\":\"d3cfda49-0067-4202-83d4-831b65f81e3d\",\"type\":\"WheelZoomTool\"}],\"root_ids\":[\"f7c30114-23ac-4ee3-b2cb-dccea1e9d7fd\"]},\"title\":\"Bokeh Application\",\"version\":\"0.12.16\"}};\n",
       "  var render_items = [{\"docid\":\"bdd6f8f0-54ff-411f-8fd7-c79a43f01f4c\",\"elementid\":\"6699b51b-fc87-4725-a2b9-6a66a0104b4b\",\"modelid\":\"f7c30114-23ac-4ee3-b2cb-dccea1e9d7fd\"}];\n",
       "  root.Bokeh.embed.embed_items_notebook(docs_json, render_items);\n",
       "\n",
       "  }\n",
       "  if (root.Bokeh !== undefined) {\n",
       "    embed_document(root);\n",
       "  } else {\n",
       "    var attempts = 0;\n",
       "    var timer = setInterval(function(root) {\n",
       "      if (root.Bokeh !== undefined) {\n",
       "        embed_document(root);\n",
       "        clearInterval(timer);\n",
       "      }\n",
       "      attempts++;\n",
       "      if (attempts > 100) {\n",
       "        console.log(\"Bokeh: ERROR: Unable to run BokehJS code because BokehJS library is missing\")\n",
       "        clearInterval(timer);\n",
       "      }\n",
       "    }, 10, root)\n",
       "  }\n",
       "})(window);"
      ],
      "application/vnd.bokehjs_exec.v0+json": ""
     },
     "metadata": {
      "application/vnd.bokehjs_exec.v0+json": {
       "id": "f7c30114-23ac-4ee3-b2cb-dccea1e9d7fd"
      }
     },
     "output_type": "display_data"
    },
    {
     "data": {
      "text/markdown": [
       "--------------------------"
      ],
      "text/plain": [
       "<IPython.core.display.Markdown object>"
      ]
     },
     "metadata": {},
     "output_type": "display_data"
    }
   ],
   "source": [
    "show_results(dlbl=data_lbl, dcli=data_cli, link=LINKS)"
   ]
  },
  {
   "cell_type": "code",
   "execution_count": null,
   "metadata": {
    "collapsed": true
   },
   "outputs": [],
   "source": []
  },
  {
   "cell_type": "code",
   "execution_count": 177,
   "metadata": {
    "collapsed": true
   },
   "outputs": [],
   "source": [
    "# CO2 overlapped with other gases"
   ]
  },
  {
   "cell_type": "code",
   "execution_count": 178,
   "metadata": {
    "collapsed": true
   },
   "outputs": [],
   "source": [
    "atmpro = 'mls'"
   ]
  },
  {
   "cell_type": "code",
   "execution_count": 179,
   "metadata": {
    "collapsed": true
   },
   "outputs": [],
   "source": [
    "atmolp = atmcomps_olp[0]"
   ]
  },
  {
   "cell_type": "code",
   "execution_count": 180,
   "metadata": {
    "collapsed": true
   },
   "outputs": [],
   "source": [
    "parm_cli = atmolp.to_cliradparam(commitnumber=COMMITNUMBER, atmpro=atmpro, tsfc=ATMPRO[atmpro])"
   ]
  },
  {
   "cell_type": "code",
   "execution_count": 181,
   "metadata": {
    "collapsed": true
   },
   "outputs": [],
   "source": [
    "data_cli = parm_cli.modeldata_pymongo(collection=CLIENT.cliradnew.lw)"
   ]
  },
  {
   "cell_type": "code",
   "execution_count": 182,
   "metadata": {
    "collapsed": true
   },
   "outputs": [],
   "source": [
    "parms_lbl = atmolp.to_lblnewparam(bestfit_values=True, atmpro=atmpro, tsfc=ATMPRO[atmpro], dv=DV, nv=NV)"
   ]
  },
  {
   "cell_type": "code",
   "execution_count": 183,
   "metadata": {},
   "outputs": [
    {
     "data": {
      "text/plain": [
       "[<class 'climatools.parameters.LBLnewOverlapParam'>\n",
       " atmpro: mls\n",
       " band: 3a\n",
       " commitnumber: None\n",
       " dv: 0.001\n",
       " molecule: {'h2o': 'atmpro', 'co2': 0.0008, 'n2o': 3.2e-07}\n",
       " nv: 1000\n",
       " tsfc: 294]"
      ]
     },
     "execution_count": 183,
     "metadata": {},
     "output_type": "execute_result"
    }
   ],
   "source": [
    "parms_lbl"
   ]
  },
  {
   "cell_type": "code",
   "execution_count": 184,
   "metadata": {},
   "outputs": [
    {
     "data": {
      "text/plain": [
       "['a22ab94']"
      ]
     },
     "execution_count": 184,
     "metadata": {},
     "output_type": "execute_result"
    }
   ],
   "source": [
    "parms_lbl[0].avail_commits(collection=CLIENT.lblnew.overlap_lw)"
   ]
  },
  {
   "cell_type": "code",
   "execution_count": 185,
   "metadata": {
    "collapsed": true
   },
   "outputs": [],
   "source": [
    "data_lbl = parms_lbl[0].modeldata_pymongo(collection=CLIENT.lblnew.overlap_lw)"
   ]
  },
  {
   "cell_type": "code",
   "execution_count": 186,
   "metadata": {},
   "outputs": [
    {
     "data": {
      "text/markdown": [
       "-----------------------------"
      ],
      "text/plain": [
       "<IPython.core.display.Markdown object>"
      ]
     },
     "metadata": {},
     "output_type": "display_data"
    },
    {
     "name": "stdout",
     "output_type": "stream",
     "text": [
      "50614075515\n",
      "<a id=\"50614075515\"></a>\n",
      "<a href=\"#50614075515\">mls</a>\n"
     ]
    },
    {
     "data": {
      "text/markdown": [
       "<a id=\"50614075515\"></a>"
      ],
      "text/plain": [
       "<IPython.core.display.Markdown object>"
      ]
     },
     "metadata": {},
     "output_type": "display_data"
    },
    {
     "data": {
      "text/markdown": [
       "[3] {'h2o': 'atmpro', 'co2': 0.0008, 'n2o': 3.2e-07} mls"
      ],
      "text/plain": [
       "<IPython.core.display.Markdown object>"
      ]
     },
     "metadata": {},
     "output_type": "display_data"
    },
    {
     "data": {
      "text/html": [
       "<div>\n",
       "<style scoped>\n",
       "    .dataframe tbody tr th:only-of-type {\n",
       "        vertical-align: middle;\n",
       "    }\n",
       "\n",
       "    .dataframe tbody tr th {\n",
       "        vertical-align: top;\n",
       "    }\n",
       "\n",
       "    .dataframe thead tr th {\n",
       "        text-align: left;\n",
       "    }\n",
       "</style>\n",
       "<table border=\"1\" class=\"dataframe\">\n",
       "  <thead>\n",
       "    <tr>\n",
       "      <th></th>\n",
       "      <th colspan=\"2\" halign=\"left\">Run parameters</th>\n",
       "      <th colspan=\"3\" halign=\"left\">Fit parameters</th>\n",
       "    </tr>\n",
       "    <tr>\n",
       "      <th></th>\n",
       "      <th>CLIRAD</th>\n",
       "      <th>LBLNEW</th>\n",
       "      <th>(co2, 3a)</th>\n",
       "      <th>(h2o, 3a)</th>\n",
       "      <th>(n2o, 3a)</th>\n",
       "    </tr>\n",
       "  </thead>\n",
       "  <tbody>\n",
       "    <tr>\n",
       "      <th>atmpro</th>\n",
       "      <td>mls</td>\n",
       "      <td>mls</td>\n",
       "      <td>mls</td>\n",
       "      <td>mls</td>\n",
       "      <td>mls</td>\n",
       "    </tr>\n",
       "    <tr>\n",
       "      <th>band</th>\n",
       "      <td>[3]</td>\n",
       "      <td>3a</td>\n",
       "      <td>3a</td>\n",
       "      <td>3a</td>\n",
       "      <td>3a</td>\n",
       "    </tr>\n",
       "    <tr>\n",
       "      <th>commitnumber</th>\n",
       "      <td>1013f91</td>\n",
       "      <td>a22ab94</td>\n",
       "      <td>a06b618</td>\n",
       "      <td>a06b618</td>\n",
       "      <td>a06b618</td>\n",
       "    </tr>\n",
       "    <tr>\n",
       "      <th>conc</th>\n",
       "      <td>-</td>\n",
       "      <td>-</td>\n",
       "      <td>0.0004</td>\n",
       "      <td>-</td>\n",
       "      <td>3.2e-07</td>\n",
       "    </tr>\n",
       "    <tr>\n",
       "      <th>dv</th>\n",
       "      <td>-</td>\n",
       "      <td>0.001</td>\n",
       "      <td>0.001</td>\n",
       "      <td>0.001</td>\n",
       "      <td>0.001</td>\n",
       "    </tr>\n",
       "    <tr>\n",
       "      <th>klin</th>\n",
       "      <td>-</td>\n",
       "      <td>-</td>\n",
       "      <td>6.37556e-24</td>\n",
       "      <td>0</td>\n",
       "      <td>2.22e-20</td>\n",
       "    </tr>\n",
       "    <tr>\n",
       "      <th>molecule</th>\n",
       "      <td>{'h2o': 'atmpro', 'co2': 0.0008, 'n2o': 3.2e-07}</td>\n",
       "      <td>{'co2': 0.0008, 'h2o': 'atmpro', 'n2o': 3.2e-07}</td>\n",
       "      <td>co2</td>\n",
       "      <td>h2o</td>\n",
       "      <td>n2o</td>\n",
       "    </tr>\n",
       "    <tr>\n",
       "      <th>ng_adju</th>\n",
       "      <td>-</td>\n",
       "      <td>-</td>\n",
       "      <td>[0, 0, 0]</td>\n",
       "      <td>[0, 0]</td>\n",
       "      <td>[0, 0]</td>\n",
       "    </tr>\n",
       "    <tr>\n",
       "      <th>ng_refs</th>\n",
       "      <td>-</td>\n",
       "      <td>-</td>\n",
       "      <td>[3, 2, 4]</td>\n",
       "      <td>[2, 6]</td>\n",
       "      <td>[1, 2]</td>\n",
       "    </tr>\n",
       "    <tr>\n",
       "      <th>nv</th>\n",
       "      <td>-</td>\n",
       "      <td>1000</td>\n",
       "      <td>1000</td>\n",
       "      <td>1000</td>\n",
       "      <td>1000</td>\n",
       "    </tr>\n",
       "    <tr>\n",
       "      <th>option_compute_btable</th>\n",
       "      <td>-</td>\n",
       "      <td>-</td>\n",
       "      <td>0</td>\n",
       "      <td>0</td>\n",
       "      <td>0</td>\n",
       "    </tr>\n",
       "    <tr>\n",
       "      <th>option_compute_ktable</th>\n",
       "      <td>-</td>\n",
       "      <td>-</td>\n",
       "      <td>1</td>\n",
       "      <td>1</td>\n",
       "      <td>1</td>\n",
       "    </tr>\n",
       "    <tr>\n",
       "      <th>option_wgt_flux</th>\n",
       "      <td>-</td>\n",
       "      <td>-</td>\n",
       "      <td>1</td>\n",
       "      <td>1</td>\n",
       "      <td>1</td>\n",
       "    </tr>\n",
       "    <tr>\n",
       "      <th>option_wgt_k</th>\n",
       "      <td>-</td>\n",
       "      <td>-</td>\n",
       "      <td>1</td>\n",
       "      <td>1</td>\n",
       "      <td>1</td>\n",
       "    </tr>\n",
       "    <tr>\n",
       "      <th>ref_pts</th>\n",
       "      <td>-</td>\n",
       "      <td>-</td>\n",
       "      <td>[(1, 250), (10, 250), (500, 250)]</td>\n",
       "      <td>[(10, 250), (600, 250)]</td>\n",
       "      <td>[(1, 250), (500, 250)]</td>\n",
       "    </tr>\n",
       "    <tr>\n",
       "      <th>tsfc</th>\n",
       "      <td>294</td>\n",
       "      <td>294</td>\n",
       "      <td>294</td>\n",
       "      <td>294</td>\n",
       "      <td>294</td>\n",
       "    </tr>\n",
       "    <tr>\n",
       "      <th>vmax</th>\n",
       "      <td>-</td>\n",
       "      <td>-</td>\n",
       "      <td>620</td>\n",
       "      <td>620</td>\n",
       "      <td>620</td>\n",
       "    </tr>\n",
       "    <tr>\n",
       "      <th>vmin</th>\n",
       "      <td>-</td>\n",
       "      <td>-</td>\n",
       "      <td>540</td>\n",
       "      <td>540</td>\n",
       "      <td>540</td>\n",
       "    </tr>\n",
       "    <tr>\n",
       "      <th>w_diffuse</th>\n",
       "      <td>-</td>\n",
       "      <td>-</td>\n",
       "      <td>[(1.6, 1.6, 1.7), (1.75, 1.75), (1.55, 1.55, 1...</td>\n",
       "      <td>[(1.9, 1.7), (1.4, 1.4, 1.4, 1.55, 1.6, 1.66)]</td>\n",
       "      <td>[(1.8,), (1.66, 1.8)]</td>\n",
       "    </tr>\n",
       "    <tr>\n",
       "      <th>wgt</th>\n",
       "      <td>-</td>\n",
       "      <td>-</td>\n",
       "      <td>[(0.7, 0.3, 0.7), (0.7, 0.6), (0.4, 0.5, 0.8, ...</td>\n",
       "      <td>[(0.7, 0.7), (0.7, 0.5, 0.5, 0.5, 0.5, 0.5)]</td>\n",
       "      <td>[(0.9,), (0.5, 0.95)]</td>\n",
       "    </tr>\n",
       "  </tbody>\n",
       "</table>\n",
       "</div>"
      ],
      "text/plain": [
       "                                                         Run parameters  \\\n",
       "                                                                 CLIRAD   \n",
       "atmpro                                                              mls   \n",
       "band                                                                [3]   \n",
       "commitnumber                                                    1013f91   \n",
       "conc                                                                  -   \n",
       "dv                                                                    -   \n",
       "klin                                                                  -   \n",
       "molecule               {'h2o': 'atmpro', 'co2': 0.0008, 'n2o': 3.2e-07}   \n",
       "ng_adju                                                               -   \n",
       "ng_refs                                                               -   \n",
       "nv                                                                    -   \n",
       "option_compute_btable                                                 -   \n",
       "option_compute_ktable                                                 -   \n",
       "option_wgt_flux                                                       -   \n",
       "option_wgt_k                                                          -   \n",
       "ref_pts                                                               -   \n",
       "tsfc                                                                294   \n",
       "vmax                                                                  -   \n",
       "vmin                                                                  -   \n",
       "w_diffuse                                                             -   \n",
       "wgt                                                                   -   \n",
       "\n",
       "                                                                         \\\n",
       "                                                                 LBLNEW   \n",
       "atmpro                                                              mls   \n",
       "band                                                                 3a   \n",
       "commitnumber                                                    a22ab94   \n",
       "conc                                                                  -   \n",
       "dv                                                                0.001   \n",
       "klin                                                                  -   \n",
       "molecule               {'co2': 0.0008, 'h2o': 'atmpro', 'n2o': 3.2e-07}   \n",
       "ng_adju                                                               -   \n",
       "ng_refs                                                               -   \n",
       "nv                                                                 1000   \n",
       "option_compute_btable                                                 -   \n",
       "option_compute_ktable                                                 -   \n",
       "option_wgt_flux                                                       -   \n",
       "option_wgt_k                                                          -   \n",
       "ref_pts                                                               -   \n",
       "tsfc                                                                294   \n",
       "vmax                                                                  -   \n",
       "vmin                                                                  -   \n",
       "w_diffuse                                                             -   \n",
       "wgt                                                                   -   \n",
       "\n",
       "                                                          Fit parameters  \\\n",
       "                                                               (co2, 3a)   \n",
       "atmpro                                                               mls   \n",
       "band                                                                  3a   \n",
       "commitnumber                                                     a06b618   \n",
       "conc                                                              0.0004   \n",
       "dv                                                                 0.001   \n",
       "klin                                                         6.37556e-24   \n",
       "molecule                                                             co2   \n",
       "ng_adju                                                        [0, 0, 0]   \n",
       "ng_refs                                                        [3, 2, 4]   \n",
       "nv                                                                  1000   \n",
       "option_compute_btable                                                  0   \n",
       "option_compute_ktable                                                  1   \n",
       "option_wgt_flux                                                        1   \n",
       "option_wgt_k                                                           1   \n",
       "ref_pts                                [(1, 250), (10, 250), (500, 250)]   \n",
       "tsfc                                                                 294   \n",
       "vmax                                                                 620   \n",
       "vmin                                                                 540   \n",
       "w_diffuse              [(1.6, 1.6, 1.7), (1.75, 1.75), (1.55, 1.55, 1...   \n",
       "wgt                    [(0.7, 0.3, 0.7), (0.7, 0.6), (0.4, 0.5, 0.8, ...   \n",
       "\n",
       "                                                                       \\\n",
       "                                                            (h2o, 3a)   \n",
       "atmpro                                                            mls   \n",
       "band                                                               3a   \n",
       "commitnumber                                                  a06b618   \n",
       "conc                                                                -   \n",
       "dv                                                              0.001   \n",
       "klin                                                                0   \n",
       "molecule                                                          h2o   \n",
       "ng_adju                                                        [0, 0]   \n",
       "ng_refs                                                        [2, 6]   \n",
       "nv                                                               1000   \n",
       "option_compute_btable                                               0   \n",
       "option_compute_ktable                                               1   \n",
       "option_wgt_flux                                                     1   \n",
       "option_wgt_k                                                        1   \n",
       "ref_pts                                       [(10, 250), (600, 250)]   \n",
       "tsfc                                                              294   \n",
       "vmax                                                              620   \n",
       "vmin                                                              540   \n",
       "w_diffuse              [(1.9, 1.7), (1.4, 1.4, 1.4, 1.55, 1.6, 1.66)]   \n",
       "wgt                      [(0.7, 0.7), (0.7, 0.5, 0.5, 0.5, 0.5, 0.5)]   \n",
       "\n",
       "                                               \n",
       "                                    (n2o, 3a)  \n",
       "atmpro                                    mls  \n",
       "band                                       3a  \n",
       "commitnumber                          a06b618  \n",
       "conc                                  3.2e-07  \n",
       "dv                                      0.001  \n",
       "klin                                 2.22e-20  \n",
       "molecule                                  n2o  \n",
       "ng_adju                                [0, 0]  \n",
       "ng_refs                                [1, 2]  \n",
       "nv                                       1000  \n",
       "option_compute_btable                       0  \n",
       "option_compute_ktable                       1  \n",
       "option_wgt_flux                             1  \n",
       "option_wgt_k                                1  \n",
       "ref_pts                [(1, 250), (500, 250)]  \n",
       "tsfc                                      294  \n",
       "vmax                                      620  \n",
       "vmin                                      540  \n",
       "w_diffuse               [(1.8,), (1.66, 1.8)]  \n",
       "wgt                     [(0.9,), (0.5, 0.95)]  "
      ]
     },
     "metadata": {},
     "output_type": "display_data"
    },
    {
     "data": {
      "text/html": [
       "\n",
       "<div class=\"bk-root\">\n",
       "    <div class=\"bk-plotdiv\" id=\"2d9ce3e9-cdfd-45b5-9082-c83dfb9e9fbd\"></div>\n",
       "</div>"
      ]
     },
     "metadata": {},
     "output_type": "display_data"
    },
    {
     "data": {
      "application/javascript": [
       "(function(root) {\n",
       "  function embed_document(root) {\n",
       "    \n",
       "  var docs_json = {\"e00145dd-d6d0-41de-8797-f2f66ce82e3c\":{\"roots\":{\"references\":[{\"attributes\":{\"plot\":null,\"text\":\"\"},\"id\":\"2c44468e-3430-4086-9c68-86fa9fb6ec66\",\"type\":\"Title\"},{\"attributes\":{},\"id\":\"04cd9957-2c67-4058-909c-8e0ac69f182e\",\"type\":\"BasicTicker\"},{\"attributes\":{\"label\":{\"value\":\"CLIRAD\"},\"renderers\":[{\"id\":\"8ef50850-6655-43be-aac8-0f7f3af9e20d\",\"type\":\"GlyphRenderer\"}]},\"id\":\"3978b189-120d-4ba9-97aa-457afdc18763\",\"type\":\"LegendItem\"},{\"attributes\":{\"data_source\":{\"id\":\"fcaccf46-7cc1-4e70-9b30-0b2d43ef0eea\",\"type\":\"ColumnDataSource\"},\"glyph\":{\"id\":\"664bca6c-101a-4085-8fd8-e8dded440df4\",\"type\":\"Circle\"},\"hover_glyph\":null,\"muted_glyph\":null,\"nonselection_glyph\":{\"id\":\"40168826-1301-4f34-bad1-c3283196d0dd\",\"type\":\"Circle\"},\"selection_glyph\":null,\"view\":{\"id\":\"f8a3c58e-144c-411d-8c6a-95f74246b542\",\"type\":\"CDSView\"}},\"id\":\"ed8bd647-804a-439f-8c80-11cd4af41cfb\",\"type\":\"GlyphRenderer\"},{\"attributes\":{\"plot\":{\"id\":\"6756afe8-8f95-495e-9c21-bf340c42b6be\",\"subtype\":\"Figure\",\"type\":\"Plot\"},\"ticker\":{\"id\":\"3b270292-f950-4bb4-8d89-1d78bb645318\",\"type\":\"BasicTicker\"}},\"id\":\"423c4ea1-9dc8-43db-892b-743a50f71a72\",\"type\":\"Grid\"},{\"attributes\":{\"plot\":null,\"text\":\"\"},\"id\":\"a182bd0c-6926-4e00-9a17-3ed3224e2cbf\",\"type\":\"Title\"},{\"attributes\":{\"line_alpha\":0.1,\"line_color\":\"#1f77b4\",\"line_dash\":[6],\"line_width\":5,\"x\":{\"field\":\"x\"},\"y\":{\"field\":\"y\"}},\"id\":\"f5ff95eb-f5ff-4f12-8aba-e0455f3e33bc\",\"type\":\"Line\"},{\"attributes\":{},\"id\":\"d3de856a-cc67-454c-962a-fe925e886712\",\"type\":\"SaveTool\"},{\"attributes\":{\"bottom_units\":\"screen\",\"fill_alpha\":{\"value\":0.5},\"fill_color\":{\"value\":\"lightgrey\"},\"left_units\":\"screen\",\"level\":\"overlay\",\"line_alpha\":{\"value\":1.0},\"line_color\":{\"value\":\"black\"},\"line_dash\":[4,4],\"line_width\":{\"value\":2},\"plot\":null,\"render_mode\":\"css\",\"right_units\":\"screen\",\"top_units\":\"screen\"},\"id\":\"ab668c93-7764-4bd9-adb1-26ea7637d359\",\"type\":\"BoxAnnotation\"},{\"attributes\":{\"callback\":null,\"end\":0.01,\"start\":1020},\"id\":\"cb0952c5-01d3-42b9-9a7f-dc5fe7ca5ae6\",\"type\":\"Range1d\"},{\"attributes\":{\"dimension\":1,\"plot\":{\"id\":\"80be40d7-e299-4928-b6db-4be9276dc8fe\",\"subtype\":\"Figure\",\"type\":\"Plot\"},\"ticker\":{\"id\":\"04cd9957-2c67-4058-909c-8e0ac69f182e\",\"type\":\"BasicTicker\"}},\"id\":\"39b7ba79-4447-4a12-a99b-f9c46a7b99c1\",\"type\":\"Grid\"},{\"attributes\":{\"overlay\":{\"id\":\"8fc5d92f-f5be-40fb-9ed9-1fac08019861\",\"type\":\"BoxAnnotation\"}},\"id\":\"a70e941a-003a-4fc9-b33f-de8dbb795a40\",\"type\":\"BoxZoomTool\"},{\"attributes\":{\"num_minor_ticks\":10},\"id\":\"48587044-f1ac-43af-b20a-f6bfb88daae5\",\"type\":\"LogTicker\"},{\"attributes\":{},\"id\":\"ad3e3aa7-f92f-4c6b-83b8-5c182cae221f\",\"type\":\"UnionRenderers\"},{\"attributes\":{},\"id\":\"95c033bb-1ede-4bf8-8303-6249c76464f8\",\"type\":\"LinearScale\"},{\"attributes\":{},\"id\":\"533c82eb-e036-409b-82b1-4d90b18d93d1\",\"type\":\"Selection\"},{\"attributes\":{\"line_alpha\":0.6,\"line_color\":\"#e41a1c\",\"line_dash\":[6],\"line_width\":5,\"x\":{\"field\":\"x\"},\"y\":{\"field\":\"y\"}},\"id\":\"62a23fdd-6636-4849-83b1-959f5678e53c\",\"type\":\"Line\"},{\"attributes\":{\"source\":{\"id\":\"925a97d3-386d-4b3a-8403-7f4f7e86bb80\",\"type\":\"ColumnDataSource\"}},\"id\":\"1972386b-601a-4095-9d8a-01b5835d0260\",\"type\":\"CDSView\"},{\"attributes\":{},\"id\":\"f67e07d5-c208-4772-b79e-1c78039905cb\",\"type\":\"BasicTickFormatter\"},{\"attributes\":{\"overlay\":{\"id\":\"ceace069-238f-43e4-b6e0-da8008c91319\",\"type\":\"BoxAnnotation\"}},\"id\":\"5aa54082-9ea7-4f04-8c14-81be3ce145b9\",\"type\":\"BoxZoomTool\"},{\"attributes\":{},\"id\":\"ac8f1170-a82a-4558-b89b-a5a73babbcbd\",\"type\":\"WheelZoomTool\"},{\"attributes\":{\"data_source\":{\"id\":\"62413386-961f-421f-bd07-3c23f95f7ca9\",\"type\":\"ColumnDataSource\"},\"glyph\":{\"id\":\"46f39105-fa61-45b3-80b3-265ac1b5a4b3\",\"type\":\"Line\"},\"hover_glyph\":null,\"muted_glyph\":null,\"nonselection_glyph\":{\"id\":\"cb6ceb61-06f6-4ef0-bb95-3440c5dadb36\",\"type\":\"Line\"},\"selection_glyph\":null,\"view\":{\"id\":\"8e364a57-050c-4dfb-9bdd-3d85e3d65b82\",\"type\":\"CDSView\"}},\"id\":\"7526922b-6f63-45cb-8ba3-c7f0fd189d22\",\"type\":\"GlyphRenderer\"},{\"attributes\":{},\"id\":\"76188cc7-edc9-4e1e-87ad-b7e9a4408794\",\"type\":\"PanTool\"},{\"attributes\":{\"data_source\":{\"id\":\"925a97d3-386d-4b3a-8403-7f4f7e86bb80\",\"type\":\"ColumnDataSource\"},\"glyph\":{\"id\":\"30f2bfe1-695d-495b-8344-0799a8b68d49\",\"type\":\"Line\"},\"hover_glyph\":null,\"muted_glyph\":null,\"nonselection_glyph\":{\"id\":\"798cd370-463a-4401-848f-1ed12ce9ebd4\",\"type\":\"Line\"},\"selection_glyph\":null,\"view\":{\"id\":\"1972386b-601a-4095-9d8a-01b5835d0260\",\"type\":\"CDSView\"}},\"id\":\"f9c3466f-a5ec-422d-bc4d-3cc4f3f52d9e\",\"type\":\"GlyphRenderer\"},{\"attributes\":{\"above\":[{\"id\":\"0a2994f2-b9ac-4702-9be8-4d16c27a7bb4\",\"type\":\"Legend\"}],\"below\":[{\"id\":\"82204581-11a0-4283-b8ca-5322625bf295\",\"type\":\"LinearAxis\"}],\"left\":[{\"id\":\"09dcade5-122a-491b-ac48-303fb8fbfb5d\",\"type\":\"LogAxis\"}],\"plot_height\":500,\"plot_width\":300,\"renderers\":[{\"id\":\"82204581-11a0-4283-b8ca-5322625bf295\",\"type\":\"LinearAxis\"},{\"id\":\"423c4ea1-9dc8-43db-892b-743a50f71a72\",\"type\":\"Grid\"},{\"id\":\"09dcade5-122a-491b-ac48-303fb8fbfb5d\",\"type\":\"LogAxis\"},{\"id\":\"d93ce7d0-073f-4dc6-a467-2c8f70e0932d\",\"type\":\"Grid\"},{\"id\":\"ab668c93-7764-4bd9-adb1-26ea7637d359\",\"type\":\"BoxAnnotation\"},{\"id\":\"8326c791-0d87-4f75-b571-3571abc0cb41\",\"type\":\"GlyphRenderer\"},{\"id\":\"e738d5fd-116d-4fa8-9c8a-e2ea0aeaff1b\",\"type\":\"GlyphRenderer\"},{\"id\":\"0a2994f2-b9ac-4702-9be8-4d16c27a7bb4\",\"type\":\"Legend\"}],\"title\":{\"id\":\"a182bd0c-6926-4e00-9a17-3ed3224e2cbf\",\"type\":\"Title\"},\"toolbar\":{\"id\":\"8ede2634-8935-4276-8330-d7b272f471c2\",\"type\":\"Toolbar\"},\"toolbar_location\":null,\"x_range\":{\"id\":\"08a380e0-874c-4819-91c5-8638e305719b\",\"type\":\"Range1d\"},\"x_scale\":{\"id\":\"95c033bb-1ede-4bf8-8303-6249c76464f8\",\"type\":\"LinearScale\"},\"y_range\":{\"id\":\"7c237fe3-8fe3-44cf-b7e3-c4c58b5959fa\",\"type\":\"Range1d\"},\"y_scale\":{\"id\":\"bd973942-cfd9-46fa-97dd-8d3a7e4b5e87\",\"type\":\"LogScale\"}},\"id\":\"6756afe8-8f95-495e-9c21-bf340c42b6be\",\"subtype\":\"Figure\",\"type\":\"Plot\"},{\"attributes\":{\"dimension\":1,\"plot\":{\"id\":\"6756afe8-8f95-495e-9c21-bf340c42b6be\",\"subtype\":\"Figure\",\"type\":\"Plot\"},\"ticker\":{\"id\":\"48587044-f1ac-43af-b20a-f6bfb88daae5\",\"type\":\"LogTicker\"}},\"id\":\"d93ce7d0-073f-4dc6-a467-2c8f70e0932d\",\"type\":\"Grid\"},{\"attributes\":{\"source\":{\"id\":\"ad5bc12e-aa70-4e3e-b034-159845d1994b\",\"type\":\"ColumnDataSource\"}},\"id\":\"aa44f1b4-5786-49cb-9ebd-5bdda7d72b84\",\"type\":\"CDSView\"},{\"attributes\":{\"toolbar\":{\"id\":\"83a4800f-332f-491f-b4be-66d24d2e7f99\",\"type\":\"ProxyToolbar\"},\"toolbar_location\":\"above\"},\"id\":\"9adcf88d-cfeb-4479-86cb-9e0c50723a58\",\"type\":\"ToolbarBox\"},{\"attributes\":{},\"id\":\"ad46548f-4021-4448-94b0-44011e19289b\",\"type\":\"WheelZoomTool\"},{\"attributes\":{},\"id\":\"17839b82-854c-4e35-a067-0cb27e23c265\",\"type\":\"UnionRenderers\"},{\"attributes\":{},\"id\":\"91aac8d0-785f-4d6c-8c51-39f83b0a0ecc\",\"type\":\"Selection\"},{\"attributes\":{},\"id\":\"0bc2c14f-f147-48b0-b1d1-5fa93340046a\",\"type\":\"HelpTool\"},{\"attributes\":{},\"id\":\"d5eb6fd8-0825-4012-b3ca-1bf52670572b\",\"type\":\"UnionRenderers\"},{\"attributes\":{},\"id\":\"026d2d0e-bc4d-47bc-aaa4-d9ab2eb149ca\",\"type\":\"SaveTool\"},{\"attributes\":{\"source\":{\"id\":\"62413386-961f-421f-bd07-3c23f95f7ca9\",\"type\":\"ColumnDataSource\"}},\"id\":\"8e364a57-050c-4dfb-9bdd-3d85e3d65b82\",\"type\":\"CDSView\"},{\"attributes\":{},\"id\":\"93b98b25-205e-4880-8cbf-0521be94d9b7\",\"type\":\"UnionRenderers\"},{\"attributes\":{\"tools\":[{\"id\":\"cb1f9822-e800-40e6-a0ab-87ea73c49b4a\",\"type\":\"PanTool\"},{\"id\":\"ad46548f-4021-4448-94b0-44011e19289b\",\"type\":\"WheelZoomTool\"},{\"id\":\"5aa54082-9ea7-4f04-8c14-81be3ce145b9\",\"type\":\"BoxZoomTool\"},{\"id\":\"f97851e5-182f-4ce9-96a1-c7c2c8b3cfae\",\"type\":\"SaveTool\"},{\"id\":\"3705d5b5-53dd-4a4c-b7cc-0c538867d8a6\",\"type\":\"ResetTool\"},{\"id\":\"f2900c15-78ca-45ab-8ce5-81a5ae65ef94\",\"type\":\"HelpTool\"},{\"id\":\"cf25a92f-f6c9-48e6-b91b-91d8ae2e2137\",\"type\":\"PanTool\"},{\"id\":\"5e11e0b2-f879-4c8d-a6f4-2ad1610d4bd2\",\"type\":\"WheelZoomTool\"},{\"id\":\"a70e941a-003a-4fc9-b33f-de8dbb795a40\",\"type\":\"BoxZoomTool\"},{\"id\":\"d3de856a-cc67-454c-962a-fe925e886712\",\"type\":\"SaveTool\"},{\"id\":\"0d6ddf0f-daaf-442b-a393-c30512bea049\",\"type\":\"ResetTool\"},{\"id\":\"bbca649f-c336-4e9f-80b2-9c40083e1c07\",\"type\":\"HelpTool\"},{\"id\":\"76188cc7-edc9-4e1e-87ad-b7e9a4408794\",\"type\":\"PanTool\"},{\"id\":\"ac8f1170-a82a-4558-b89b-a5a73babbcbd\",\"type\":\"WheelZoomTool\"},{\"id\":\"000db00b-439c-4495-9af4-96d45170bc5d\",\"type\":\"BoxZoomTool\"},{\"id\":\"026d2d0e-bc4d-47bc-aaa4-d9ab2eb149ca\",\"type\":\"SaveTool\"},{\"id\":\"3cd48df4-1bb1-4bdb-9ff5-872035345c45\",\"type\":\"ResetTool\"},{\"id\":\"0bc2c14f-f147-48b0-b1d1-5fa93340046a\",\"type\":\"HelpTool\"}]},\"id\":\"83a4800f-332f-491f-b4be-66d24d2e7f99\",\"type\":\"ProxyToolbar\"},{\"attributes\":{\"overlay\":{\"id\":\"ab668c93-7764-4bd9-adb1-26ea7637d359\",\"type\":\"BoxAnnotation\"}},\"id\":\"000db00b-439c-4495-9af4-96d45170bc5d\",\"type\":\"BoxZoomTool\"},{\"attributes\":{\"callback\":null,\"data\":{\"x\":{\"__ndarray__\":\"MYxH66AZ7T/RvBQFl5rsP7L/jX+XIO0/vAl8TSiH7T8wffE9CrTtP1rwBdrble0/sTpqM+sY7T+jJrhgwivsP0cC7CeMu+o/v40g13656D9I7hsl0BzmP0oLNCsd5OI/8cSkpvoh3j+SCTLhGzPVP433HaJV1sw/nAjyHi3vzj8QaxqpMUDVP840QO3gtdk/YvOziXoe3j9GpzomgwriP2y3+j3zauY/+6pDC1xg7T/bfBKOD4nyPxK1fkRd9fE/PGnApCEY7D8sxPpxwbrlP/mUjDHq+eA/ERFp4dOY2j+fs2A9SRXVP3DqhwHg0tA/WQi83dwpyj/HWioMHX3DP6RsFe2/CL4/5jHIMgTNuD+Zpto3j3SzP02DCl11XKs/ClxH6ndApD/NqsocnYOgP5FP5iQ2TZM/kk07+jQucT9c6QOy6DCBP6iX2K9NwKE/OsbR+UllsD+tKemRoQu4Px809Zk3d78/Oev41FYRwj9xZR4zLwvEP9aqXRPSGsY/LoGlBA4yyD8BQlZ9z0TKP0l3hJFmRcw/9upGzKrXzT8EHRCVBDDPP8oCPw2MOtA/T4WJULbS0D+v8j5t2F/RP7LeJN0B5NE/NG5BIcji0j/eh0nZnrDTP/bOibl7K9Q/Mo42M59Y1D9VI4mY8TrUPyK1Hvj33dM/+WAAfhlO0z8PEdR815jSP8p+BmkAztE/XoqCS43x0D+yp1epJNvPPzxZ3hPzRc0/lnUgZ3Exyj9xqITMOgjHP3N/9bhvNcQ/O1V8S1L8wT9E2oz0Hr7APyWPTCyV3MM/\",\"dtype\":\"float64\",\"shape\":[75]},\"y\":{\"__ndarray__\":\"GhExyth1ND/Sv8nbtpRIP2vylNV0PVE/aTum7souWD/At0SJ8fVgPw3Iuahxymc/MSNhhJWvcD/bTfBN02d3P2zb5nxnaoA/CD5h5MAGhz8NmeH1TyaQP+zrCsc9p5Y/LbKd76fGnz/bLW5ISEmmPww9YvTcQq8/JV2OstnstT8Er5Y7M8G+P0c+r3jqkcU/5h99k6ZBzj88bCIzFzjVP4enV8oyxN0//yH99nXg5D8qOpLLf0jtP5kqGJXUifQ/c9cS8kHP/D+/DpwzojQEQIEmwoanVwxA4lgXt9HgE0BSSZ2AJuIbQAMJih9jjiNA5q4l5INuK0AwTKYKRj0zQNv5fmq8/DpAaCJseHrtQkB/+zpwzoxKQM3MzMzMeFJAZmZmZmZqWEAAAAAAAFxeQM3MzMzMJmJAmpmZmZkfZUBmZmZmZhhoQDMzMzMzEWtAAAAAAAAKbkBmZmZmZoFwQM3MzMzM/XFAMzMzMzN6c0CamZmZmfZ0QAAAAAAAc3ZAZmZmZmbvd0DNzMzMzGt5QDMzMzMz6HpAmpmZmZlkfEAAAAAAAOF9QGZmZmZmXX9AZmZmZuZsgECamZmZGSuBQM3MzMxM6YFAAAAAAICngkAzMzMzs2WDQGZmZmbmI4RAmpmZmRnihEDNzMzMTKCFQAAAAACAXoZAMzMzM7Mch0BmZmZm5tqHQJqZmZkZmYhAzczMzExXiUAAAAAAgBWKQDMzMzOz04pAZmZmZuaRi0CamZmZGVCMQM3MzMxMDo1AAAAAAIDMjUAzMzMzs4qOQGZmZmbmSI9A\",\"dtype\":\"float64\",\"shape\":[75]}},\"selected\":{\"id\":\"1fb5bcd1-6e30-4068-a81e-abe1d55ade6d\",\"type\":\"Selection\"},\"selection_policy\":{\"id\":\"4eb1b64f-8545-4370-9468-3e2c38a7294b\",\"type\":\"UnionRenderers\"}},\"id\":\"979a452d-79c9-4fc8-8817-30129c7ce222\",\"type\":\"ColumnDataSource\"},{\"attributes\":{},\"id\":\"0d6ddf0f-daaf-442b-a393-c30512bea049\",\"type\":\"ResetTool\"},{\"attributes\":{\"callback\":null,\"end\":0.09508148580000003,\"start\":-0.09201464580000002},\"id\":\"08a380e0-874c-4819-91c5-8638e305719b\",\"type\":\"Range1d\"},{\"attributes\":{\"line_color\":\"#4daf4a\",\"line_width\":1.5,\"x\":{\"field\":\"x\"},\"y\":{\"field\":\"y\"}},\"id\":\"46f39105-fa61-45b3-80b3-265ac1b5a4b3\",\"type\":\"Line\"},{\"attributes\":{},\"id\":\"387fb923-143c-4f9d-aab1-b13a88154ad7\",\"type\":\"Selection\"},{\"attributes\":{\"children\":[{\"id\":\"9adcf88d-cfeb-4479-86cb-9e0c50723a58\",\"type\":\"ToolbarBox\"},{\"id\":\"79f17db8-b84a-4259-afc1-6fc4dea65d71\",\"type\":\"Column\"}]},\"id\":\"ab9db4b8-acce-474c-83ff-e835450806ef\",\"type\":\"Column\"},{\"attributes\":{},\"id\":\"3cd48df4-1bb1-4bdb-9ff5-872035345c45\",\"type\":\"ResetTool\"},{\"attributes\":{\"source\":{\"id\":\"fcaccf46-7cc1-4e70-9b30-0b2d43ef0eea\",\"type\":\"ColumnDataSource\"}},\"id\":\"f8a3c58e-144c-411d-8c6a-95f74246b542\",\"type\":\"CDSView\"},{\"attributes\":{\"axis_label\":\"cooling rate [K/day]\",\"formatter\":{\"id\":\"f67e07d5-c208-4772-b79e-1c78039905cb\",\"type\":\"BasicTickFormatter\"},\"plot\":{\"id\":\"6756afe8-8f95-495e-9c21-bf340c42b6be\",\"subtype\":\"Figure\",\"type\":\"Plot\"},\"ticker\":{\"id\":\"3b270292-f950-4bb4-8d89-1d78bb645318\",\"type\":\"BasicTicker\"}},\"id\":\"82204581-11a0-4283-b8ca-5322625bf295\",\"type\":\"LinearAxis\"},{\"attributes\":{\"line_alpha\":0.1,\"line_color\":\"#1f77b4\",\"line_width\":8,\"x\":{\"field\":\"x\"},\"y\":{\"field\":\"y\"}},\"id\":\"003e403d-c5d0-4a64-9ae4-c058edd68ac4\",\"type\":\"Line\"},{\"attributes\":{\"line_alpha\":0.1,\"line_color\":\"#1f77b4\",\"line_width\":1.5,\"x\":{\"field\":\"x\"},\"y\":{\"field\":\"y\"}},\"id\":\"cb6ceb61-06f6-4ef0-bb95-3440c5dadb36\",\"type\":\"Line\"},{\"attributes\":{},\"id\":\"cb1f9822-e800-40e6-a0ab-87ea73c49b4a\",\"type\":\"PanTool\"},{\"attributes\":{\"callback\":null,\"end\":0.321057051691,\"start\":-3.9120791e-05},\"id\":\"cc292e10-e9a5-4e56-bd7f-2cfc85c80f4b\",\"type\":\"Range1d\"},{\"attributes\":{\"label\":{\"value\":\"CLIRAD\"},\"renderers\":[{\"id\":\"c7dccda4-97fa-4c4b-82e5-3dec6ba905bd\",\"type\":\"GlyphRenderer\"}]},\"id\":\"4bffcc7a-7391-417f-8b79-92892cfdf229\",\"type\":\"LegendItem\"},{\"attributes\":{\"bottom_units\":\"screen\",\"fill_alpha\":{\"value\":0.5},\"fill_color\":{\"value\":\"lightgrey\"},\"left_units\":\"screen\",\"level\":\"overlay\",\"line_alpha\":{\"value\":1.0},\"line_color\":{\"value\":\"black\"},\"line_dash\":[4,4],\"line_width\":{\"value\":2},\"plot\":null,\"render_mode\":\"css\",\"right_units\":\"screen\",\"top_units\":\"screen\"},\"id\":\"ceace069-238f-43e4-b6e0-da8008c91319\",\"type\":\"BoxAnnotation\"},{\"attributes\":{\"bottom_units\":\"screen\",\"fill_alpha\":{\"value\":0.5},\"fill_color\":{\"value\":\"lightgrey\"},\"left_units\":\"screen\",\"level\":\"overlay\",\"line_alpha\":{\"value\":1.0},\"line_color\":{\"value\":\"black\"},\"line_dash\":[4,4],\"line_width\":{\"value\":2},\"plot\":null,\"render_mode\":\"css\",\"right_units\":\"screen\",\"top_units\":\"screen\"},\"id\":\"8fc5d92f-f5be-40fb-9ed9-1fac08019861\",\"type\":\"BoxAnnotation\"},{\"attributes\":{\"active_drag\":\"auto\",\"active_inspect\":\"auto\",\"active_scroll\":\"auto\",\"active_tap\":\"auto\",\"tools\":[{\"id\":\"cf25a92f-f6c9-48e6-b91b-91d8ae2e2137\",\"type\":\"PanTool\"},{\"id\":\"5e11e0b2-f879-4c8d-a6f4-2ad1610d4bd2\",\"type\":\"WheelZoomTool\"},{\"id\":\"a70e941a-003a-4fc9-b33f-de8dbb795a40\",\"type\":\"BoxZoomTool\"},{\"id\":\"d3de856a-cc67-454c-962a-fe925e886712\",\"type\":\"SaveTool\"},{\"id\":\"0d6ddf0f-daaf-442b-a393-c30512bea049\",\"type\":\"ResetTool\"},{\"id\":\"bbca649f-c336-4e9f-80b2-9c40083e1c07\",\"type\":\"HelpTool\"}]},\"id\":\"280fb73e-5bed-4088-9f2f-9acc538b0ef5\",\"type\":\"Toolbar\"},{\"attributes\":{\"line_alpha\":0.1,\"line_color\":\"#1f77b4\",\"line_width\":1.5,\"x\":{\"field\":\"x\"},\"y\":{\"field\":\"y\"}},\"id\":\"3e241886-1dab-4309-b0a1-92eaa4e8714b\",\"type\":\"Line\"},{\"attributes\":{\"fill_alpha\":{\"value\":0.1},\"fill_color\":{\"value\":\"#1f77b4\"},\"line_alpha\":{\"value\":0.1},\"line_color\":{\"value\":\"#1f77b4\"},\"x\":{\"field\":\"x\"},\"y\":{\"field\":\"y\"}},\"id\":\"40168826-1301-4f34-bad1-c3283196d0dd\",\"type\":\"Circle\"},{\"attributes\":{\"line_color\":\"#4daf4a\",\"line_width\":1.5,\"x\":{\"field\":\"x\"},\"y\":{\"field\":\"y\"}},\"id\":\"9af7beaf-6f8c-4dda-b0f4-03554b7e0325\",\"type\":\"Line\"},{\"attributes\":{\"axis_label\":\"pressure [mb]\",\"formatter\":{\"id\":\"d2fcf984-f3a5-4692-a299-29fbf9911838\",\"type\":\"LogTickFormatter\"},\"plot\":{\"id\":\"6756afe8-8f95-495e-9c21-bf340c42b6be\",\"subtype\":\"Figure\",\"type\":\"Plot\"},\"ticker\":{\"id\":\"48587044-f1ac-43af-b20a-f6bfb88daae5\",\"type\":\"LogTicker\"}},\"id\":\"09dcade5-122a-491b-ac48-303fb8fbfb5d\",\"type\":\"LogAxis\"},{\"attributes\":{},\"id\":\"4791459f-bb1d-4747-9da7-49fd94e3795c\",\"type\":\"BasicTicker\"},{\"attributes\":{\"line_alpha\":0.3,\"line_color\":\"#984ea3\",\"line_width\":8,\"x\":{\"field\":\"x\"},\"y\":{\"field\":\"y\"}},\"id\":\"da09e319-a3cf-47ca-ba63-76086c670abc\",\"type\":\"Line\"},{\"attributes\":{},\"id\":\"3705d5b5-53dd-4a4c-b7cc-0c538867d8a6\",\"type\":\"ResetTool\"},{\"attributes\":{\"callback\":null,\"data\":{\"x\":{\"__ndarray__\":\"rt7ZBSDB0b/mZD0QtF3Qv/gw96DSDtC/OMWI6efyzr9UNBCqWCXNv5jxfCfihMq/kJSh6IkAx7+wG76eEoTCv6Bm7VtSWrq/sJK4XDeErL8AiMmG++l7v1AUjBA/e6M/xKVcp7Kksj+oq2SVDN+3P7qAdgtNp7c/AKVXuQZsrz/g715i6raFP1hwo1QEMKa/HEnVuC9Otb9YSgmgnJG2v4DhfIcu6rC/MCKKyRtgpr+ARycBIN2qvyBUTiCRW6y/ALJutMrpnr8AhklEOjRTv2Ahe9aYhJk/0KYkymKLnj8gJp8mTHuXPwD53KbLpIY/AP/WqU33RT+gy+9Vp9qBvxD+6hYm+Hu/oD9ZAyQybT/YzoJGbFSEPxQdQPThr4I/KJuhdMZQdj+gwzrKy95lPyBXAGXpyUA/REkydjzJUb+oSF98IUFZv4B6Cn7w4V+/oLuhkx+dbL+wlluKRp94v8DmqOX/PIK/kN/JfkiFgr+gIQo9zY+Av7CVbn0exIK/UMc0qj4diL+Aarx0kxiMv5BxaHhQ3Iu/sDtgaL//iL9Q6yQy3hyHvxAHMxq3oIi/YOFHb5eBi79gsUW50VOOv+DPMTkYXo+/IKmeL2q1j78APCfF4MSMvyBeG+A434a/AGKQqtz6f7/A7yTYbnFzvwCgQZZHL1G/AEnDYx59bD9gkroy4uGBP4C7okqDkY0/YMyttZzwkz/gMkwS8BCXP3CsipGhOpg/yG3hN40Glz9IsA8dyJuUP5izqDbV5pE/8Da432d9jj/AIrhXB7yLP1D2rw9f5IU/\",\"dtype\":\"float64\",\"shape\":[75]},\"y\":{\"__ndarray__\":\"GhExyth1ND/Sv8nbtpRIP2vylNV0PVE/aTum7souWD/At0SJ8fVgPw3Iuahxymc/MSNhhJWvcD/bTfBN02d3P2zb5nxnaoA/CD5h5MAGhz8NmeH1TyaQP+zrCsc9p5Y/LbKd76fGnz/bLW5ISEmmPww9YvTcQq8/JV2OstnstT8Er5Y7M8G+P0c+r3jqkcU/5h99k6ZBzj88bCIzFzjVP4enV8oyxN0//yH99nXg5D8qOpLLf0jtP5kqGJXUifQ/c9cS8kHP/D+/DpwzojQEQIEmwoanVwxA4lgXt9HgE0BSSZ2AJuIbQAMJih9jjiNA5q4l5INuK0AwTKYKRj0zQNv5fmq8/DpAaCJseHrtQkB/+zpwzoxKQM3MzMzMeFJAZmZmZmZqWEAAAAAAAFxeQM3MzMzMJmJAmpmZmZkfZUBmZmZmZhhoQDMzMzMzEWtAAAAAAAAKbkBmZmZmZoFwQM3MzMzM/XFAMzMzMzN6c0CamZmZmfZ0QAAAAAAAc3ZAZmZmZmbvd0DNzMzMzGt5QDMzMzMz6HpAmpmZmZlkfEAAAAAAAOF9QGZmZmZmXX9AZmZmZuZsgECamZmZGSuBQM3MzMxM6YFAAAAAAICngkAzMzMzs2WDQGZmZmbmI4RAmpmZmRnihEDNzMzMTKCFQAAAAACAXoZAMzMzM7Mch0BmZmZm5tqHQJqZmZkZmYhAzczMzExXiUAAAAAAgBWKQDMzMzOz04pAZmZmZuaRi0CamZmZGVCMQM3MzMxMDo1AAAAAAIDMjUAzMzMzs4qOQGZmZmbmSI9A\",\"dtype\":\"float64\",\"shape\":[75]}},\"selected\":{\"id\":\"533c82eb-e036-409b-82b1-4d90b18d93d1\",\"type\":\"Selection\"},\"selection_policy\":{\"id\":\"ad3e3aa7-f92f-4c6b-83b8-5c182cae221f\",\"type\":\"UnionRenderers\"}},\"id\":\"7ca05360-5126-442a-8b36-34264434f515\",\"type\":\"ColumnDataSource\"},{\"attributes\":{\"label\":{\"value\":\"WGT igg=10\"},\"renderers\":[{\"id\":\"f9c3466f-a5ec-422d-bc4d-3cc4f3f52d9e\",\"type\":\"GlyphRenderer\"}]},\"id\":\"c652daa0-d98b-4aef-bfa3-f334cdfeb67f\",\"type\":\"LegendItem\"},{\"attributes\":{\"source\":{\"id\":\"808e9d0f-6b7f-41a4-b3af-d0a187b09c8d\",\"type\":\"ColumnDataSource\"}},\"id\":\"6e43fdc8-99a7-4e2e-8e92-cefd24a35592\",\"type\":\"CDSView\"},{\"attributes\":{},\"id\":\"f97851e5-182f-4ce9-96a1-c7c2c8b3cfae\",\"type\":\"SaveTool\"},{\"attributes\":{},\"id\":\"bbca649f-c336-4e9f-80b2-9c40083e1c07\",\"type\":\"HelpTool\"},{\"attributes\":{},\"id\":\"3b270292-f950-4bb4-8d89-1d78bb645318\",\"type\":\"BasicTicker\"},{\"attributes\":{},\"id\":\"5e11e0b2-f879-4c8d-a6f4-2ad1610d4bd2\",\"type\":\"WheelZoomTool\"},{\"attributes\":{\"line_alpha\":0.1,\"line_color\":\"#1f77b4\",\"line_width\":8,\"x\":{\"field\":\"x\"},\"y\":{\"field\":\"y\"}},\"id\":\"798cd370-463a-4401-848f-1ed12ce9ebd4\",\"type\":\"Line\"},{\"attributes\":{\"line_alpha\":0.6,\"line_color\":\"#e41a1c\",\"line_dash\":[6],\"line_width\":5,\"x\":{\"field\":\"x\"},\"y\":{\"field\":\"y\"}},\"id\":\"43a67a81-f90f-4ba7-a47d-153e0e667f6c\",\"type\":\"Line\"},{\"attributes\":{\"data_source\":{\"id\":\"979a452d-79c9-4fc8-8817-30129c7ce222\",\"type\":\"ColumnDataSource\"},\"glyph\":{\"id\":\"9af7beaf-6f8c-4dda-b0f4-03554b7e0325\",\"type\":\"Line\"},\"hover_glyph\":null,\"muted_glyph\":null,\"nonselection_glyph\":{\"id\":\"3e241886-1dab-4309-b0a1-92eaa4e8714b\",\"type\":\"Line\"},\"selection_glyph\":null,\"view\":{\"id\":\"ff776b85-6d0e-4503-818a-00cd921a5b78\",\"type\":\"CDSView\"}},\"id\":\"f59cbe41-7a72-4aa6-a670-a3a74e4dc5d8\",\"type\":\"GlyphRenderer\"},{\"attributes\":{\"data_source\":{\"id\":\"ad5bc12e-aa70-4e3e-b034-159845d1994b\",\"type\":\"ColumnDataSource\"},\"glyph\":{\"id\":\"c0739153-892f-49d9-808c-d25d5fbd40b0\",\"type\":\"Circle\"},\"hover_glyph\":null,\"muted_glyph\":null,\"nonselection_glyph\":{\"id\":\"274939a8-b13c-448a-b09d-ef358f51b4f0\",\"type\":\"Circle\"},\"selection_glyph\":null,\"view\":{\"id\":\"aa44f1b4-5786-49cb-9ebd-5bdda7d72b84\",\"type\":\"CDSView\"}},\"id\":\"5811c875-9ab6-40c2-a6b5-d57ba0cf20d0\",\"type\":\"GlyphRenderer\"},{\"attributes\":{\"line_alpha\":0.3,\"line_color\":\"#984ea3\",\"line_width\":8,\"x\":{\"field\":\"x\"},\"y\":{\"field\":\"y\"}},\"id\":\"30f2bfe1-695d-495b-8344-0799a8b68d49\",\"type\":\"Line\"},{\"attributes\":{\"axis_label\":\"cooling rate [K/day]\",\"formatter\":{\"id\":\"2455b05d-7e37-4139-9905-473024cbe0cd\",\"type\":\"BasicTickFormatter\"},\"plot\":{\"id\":\"80be40d7-e299-4928-b6db-4be9276dc8fe\",\"subtype\":\"Figure\",\"type\":\"Plot\"},\"ticker\":{\"id\":\"4791459f-bb1d-4747-9da7-49fd94e3795c\",\"type\":\"BasicTicker\"}},\"id\":\"f2f39577-64e4-4765-a73e-e72cb43e2935\",\"type\":\"LinearAxis\"},{\"attributes\":{\"source\":{\"id\":\"eaf922a7-caf2-447b-b096-91b8b22faf85\",\"type\":\"ColumnDataSource\"}},\"id\":\"0ae56175-2d49-4f98-8fb5-e3e3d5bb6066\",\"type\":\"CDSView\"},{\"attributes\":{\"callback\":null,\"data\":{\"x\":{\"__ndarray__\":\"FUVAbIbn4z9cSxKVVxjkP1IR4T72w+Q/m/acDVxy5T/aqiSyDxLmP5vXZM+WmuY/PEqIZlwA5z8+4RVWZDPnP52zLgMIHuc/KsTIN4Cj5j9V2G+a/J7lP9Ak88Cu4+M/QybPq/A94T8D+hJk4wXbP1M8suLpT9Q/qNkLHglo0z+a5RX89OfVP41j4l6y1NY/0YR50U+f2D92RXxpgk/eP/NULCOaReQ/slfMxlK96z8WhzO/moPxP+sgCsEF9PA/NCEYzevk6j/i7qRsLorlPyU1/o7yneE/fWlAc4xa3D8KbXNCbFnWPxalpW4+YNE/lg2l1RTxyT9vo56RSinCPzZBcVNF6bs/xwKRC+9uuT8nT8bpBc61P0w81V6a268/zWM3rcACpz+REe22TemhPxcAFVR1C5Q/y01BbwtFaz+cAnAeFLV8PzuQbOOMt6A/49BTy3PQrj9/NdQWQV22P48lpBxp/Lw/k5rqh+DRwD+t5hCjrevCPzZta7AV2cQ/qBsH4mWbxj80LEZda2/IP7sfv9CGcMo/HZ4UnLAzzD+F9VaPwavNPxfsK7QY4c4/joYAnrzhzz891Ndv/WbQP0a1BPCB49A/m4/ObYDh0T/i3C5NdMrSP5NxrXJ4c9M/yO/pwQ/U0z+a6aBDx+vTPzoabl29zNM/AYPFXZSL0z9LmlhDVjXTP3JbEetDzdI/+0207axE0j/wBxOxTnbRP5jI3Oe+PdA/Zizc6iBMzT+LKeSMWd3JP8ZDa4e3tcY/TM4/sJkyxD+bW1tXUMHCP+D84UJ5esU/\",\"dtype\":\"float64\",\"shape\":[75]},\"y\":{\"__ndarray__\":\"GhExyth1ND/Sv8nbtpRIP2vylNV0PVE/aTum7souWD/At0SJ8fVgPw3Iuahxymc/MSNhhJWvcD/bTfBN02d3P2zb5nxnaoA/CD5h5MAGhz8NmeH1TyaQP+zrCsc9p5Y/LbKd76fGnz/bLW5ISEmmPww9YvTcQq8/JV2OstnstT8Er5Y7M8G+P0c+r3jqkcU/5h99k6ZBzj88bCIzFzjVP4enV8oyxN0//yH99nXg5D8qOpLLf0jtP5kqGJXUifQ/c9cS8kHP/D+/DpwzojQEQIEmwoanVwxA4lgXt9HgE0BSSZ2AJuIbQAMJih9jjiNA5q4l5INuK0AwTKYKRj0zQNv5fmq8/DpAaCJseHrtQkB/+zpwzoxKQM3MzMzMeFJAZmZmZmZqWEAAAAAAAFxeQM3MzMzMJmJAmpmZmZkfZUBmZmZmZhhoQDMzMzMzEWtAAAAAAAAKbkBmZmZmZoFwQM3MzMzM/XFAMzMzMzN6c0CamZmZmfZ0QAAAAAAAc3ZAZmZmZmbvd0DNzMzMzGt5QDMzMzMz6HpAmpmZmZlkfEAAAAAAAOF9QGZmZmZmXX9AZmZmZuZsgECamZmZGSuBQM3MzMxM6YFAAAAAAICngkAzMzMzs2WDQGZmZmbmI4RAmpmZmRnihEDNzMzMTKCFQAAAAACAXoZAMzMzM7Mch0BmZmZm5tqHQJqZmZkZmYhAzczMzExXiUAAAAAAgBWKQDMzMzOz04pAZmZmZuaRi0CamZmZGVCMQM3MzMxMDo1AAAAAAIDMjUAzMzMzs4qOQGZmZmbmSI9A\",\"dtype\":\"float64\",\"shape\":[75]}},\"selected\":{\"id\":\"387fb923-143c-4f9d-aab1-b13a88154ad7\",\"type\":\"Selection\"},\"selection_policy\":{\"id\":\"e41ae592-ee1c-423b-9527-5a8563be3a27\",\"type\":\"UnionRenderers\"}},\"id\":\"925a97d3-386d-4b3a-8403-7f4f7e86bb80\",\"type\":\"ColumnDataSource\"},{\"attributes\":{\"fill_alpha\":{\"value\":0.7},\"fill_color\":{\"value\":\"#4daf4a\"},\"line_alpha\":{\"value\":0.7},\"line_color\":{\"value\":\"#4daf4a\"},\"x\":{\"field\":\"x\"},\"y\":{\"field\":\"y\"}},\"id\":\"c0739153-892f-49d9-808c-d25d5fbd40b0\",\"type\":\"Circle\"},{\"attributes\":{\"items\":[{\"id\":\"7e11d275-185a-4766-85bb-3804e918f179\",\"type\":\"LegendItem\"},{\"id\":\"fa9c8467-867f-4579-bdbc-fd3efd82abdb\",\"type\":\"LegendItem\"}],\"label_text_font_size\":{\"value\":\"8pt\"},\"location\":\"top_center\",\"orientation\":\"horizontal\",\"plot\":{\"id\":\"6756afe8-8f95-495e-9c21-bf340c42b6be\",\"subtype\":\"Figure\",\"type\":\"Plot\"}},\"id\":\"0a2994f2-b9ac-4702-9be8-4d16c27a7bb4\",\"type\":\"Legend\"},{\"attributes\":{\"callback\":null,\"data\":{\"x\":{\"__ndarray__\":\"FUVAbIbn4z9cSxKVVxjkP1IR4T72w+Q/m/acDVxy5T/aqiSyDxLmP5vXZM+WmuY/PEqIZlwA5z8+4RVWZDPnP52zLgMIHuc/KsTIN4Cj5j9V2G+a/J7lP9Ak88Cu4+M/QybPq/A94T8D+hJk4wXbP1M8suLpT9Q/qNkLHglo0z+a5RX89OfVP41j4l6y1NY/0YR50U+f2D92RXxpgk/eP/NULCOaReQ/slfMxlK96z8WhzO/moPxP+sgCsEF9PA/NCEYzevk6j/i7qRsLorlPyU1/o7yneE/fWlAc4xa3D8KbXNCbFnWPxalpW4+YNE/lg2l1RTxyT9vo56RSinCPzZBcVNF6bs/xwKRC+9uuT8nT8bpBc61P0w81V6a268/zWM3rcACpz+REe22TemhPxcAFVR1C5Q/y01BbwtFaz+cAnAeFLV8PzuQbOOMt6A/49BTy3PQrj9/NdQWQV22P48lpBxp/Lw/k5rqh+DRwD+t5hCjrevCPzZta7AV2cQ/qBsH4mWbxj80LEZda2/IP7sfv9CGcMo/HZ4UnLAzzD+F9VaPwavNPxfsK7QY4c4/joYAnrzhzz891Ndv/WbQP0a1BPCB49A/m4/ObYDh0T/i3C5NdMrSP5NxrXJ4c9M/yO/pwQ/U0z+a6aBDx+vTPzoabl29zNM/AYPFXZSL0z9LmlhDVjXTP3JbEetDzdI/+0207axE0j/wBxOxTnbRP5jI3Oe+PdA/Zizc6iBMzT+LKeSMWd3JP8ZDa4e3tcY/TM4/sJkyxD+bW1tXUMHCP+D84UJ5esU/\",\"dtype\":\"float64\",\"shape\":[75]},\"y\":{\"__ndarray__\":\"GhExyth1ND/Sv8nbtpRIP2vylNV0PVE/aTum7souWD/At0SJ8fVgPw3Iuahxymc/MSNhhJWvcD/bTfBN02d3P2zb5nxnaoA/CD5h5MAGhz8NmeH1TyaQP+zrCsc9p5Y/LbKd76fGnz/bLW5ISEmmPww9YvTcQq8/JV2OstnstT8Er5Y7M8G+P0c+r3jqkcU/5h99k6ZBzj88bCIzFzjVP4enV8oyxN0//yH99nXg5D8qOpLLf0jtP5kqGJXUifQ/c9cS8kHP/D+/DpwzojQEQIEmwoanVwxA4lgXt9HgE0BSSZ2AJuIbQAMJih9jjiNA5q4l5INuK0AwTKYKRj0zQNv5fmq8/DpAaCJseHrtQkB/+zpwzoxKQM3MzMzMeFJAZmZmZmZqWEAAAAAAAFxeQM3MzMzMJmJAmpmZmZkfZUBmZmZmZhhoQDMzMzMzEWtAAAAAAAAKbkBmZmZmZoFwQM3MzMzM/XFAMzMzMzN6c0CamZmZmfZ0QAAAAAAAc3ZAZmZmZmbvd0DNzMzMzGt5QDMzMzMz6HpAmpmZmZlkfEAAAAAAAOF9QGZmZmZmXX9AZmZmZuZsgECamZmZGSuBQM3MzMxM6YFAAAAAAICngkAzMzMzs2WDQGZmZmbmI4RAmpmZmRnihEDNzMzMTKCFQAAAAACAXoZAMzMzM7Mch0BmZmZm5tqHQJqZmZkZmYhAzczMzExXiUAAAAAAgBWKQDMzMzOz04pAZmZmZuaRi0CamZmZGVCMQM3MzMxMDo1AAAAAAIDMjUAzMzMzs4qOQGZmZmbmSI9A\",\"dtype\":\"float64\",\"shape\":[75]}},\"selected\":{\"id\":\"d292ec44-f583-4f6f-b768-2fae80adc551\",\"type\":\"Selection\"},\"selection_policy\":{\"id\":\"5c67bcba-4bad-49d2-a33a-e499d906a725\",\"type\":\"UnionRenderers\"}},\"id\":\"94d5aa47-fdb0-4d34-9719-a0def1d41421\",\"type\":\"ColumnDataSource\"},{\"attributes\":{\"axis_label\":\"pressure [mb]\",\"formatter\":{\"id\":\"0aea7ede-f8e5-404a-9c95-0c5616072dd9\",\"type\":\"BasicTickFormatter\"},\"plot\":{\"id\":\"80be40d7-e299-4928-b6db-4be9276dc8fe\",\"subtype\":\"Figure\",\"type\":\"Plot\"},\"ticker\":{\"id\":\"04cd9957-2c67-4058-909c-8e0ac69f182e\",\"type\":\"BasicTicker\"}},\"id\":\"21911991-944e-4cfa-a3a4-bc42d061a884\",\"type\":\"LinearAxis\"},{\"attributes\":{\"fill_alpha\":{\"value\":0.7},\"fill_color\":{\"value\":\"#4daf4a\"},\"line_alpha\":{\"value\":0.7},\"line_color\":{\"value\":\"#4daf4a\"},\"x\":{\"field\":\"x\"},\"y\":{\"field\":\"y\"}},\"id\":\"664bca6c-101a-4085-8fd8-e8dded440df4\",\"type\":\"Circle\"},{\"attributes\":{\"active_drag\":\"auto\",\"active_inspect\":\"auto\",\"active_scroll\":\"auto\",\"active_tap\":\"auto\",\"tools\":[{\"id\":\"76188cc7-edc9-4e1e-87ad-b7e9a4408794\",\"type\":\"PanTool\"},{\"id\":\"ac8f1170-a82a-4558-b89b-a5a73babbcbd\",\"type\":\"WheelZoomTool\"},{\"id\":\"000db00b-439c-4495-9af4-96d45170bc5d\",\"type\":\"BoxZoomTool\"},{\"id\":\"026d2d0e-bc4d-47bc-aaa4-d9ab2eb149ca\",\"type\":\"SaveTool\"},{\"id\":\"3cd48df4-1bb1-4bdb-9ff5-872035345c45\",\"type\":\"ResetTool\"},{\"id\":\"0bc2c14f-f147-48b0-b1d1-5fa93340046a\",\"type\":\"HelpTool\"}]},\"id\":\"8ede2634-8935-4276-8330-d7b272f471c2\",\"type\":\"Toolbar\"},{\"attributes\":{\"data_source\":{\"id\":\"808e9d0f-6b7f-41a4-b3af-d0a187b09c8d\",\"type\":\"ColumnDataSource\"},\"glyph\":{\"id\":\"a9adcb5d-37e6-43c8-9fee-1e4e7352eca0\",\"type\":\"Line\"},\"hover_glyph\":null,\"muted_glyph\":null,\"nonselection_glyph\":{\"id\":\"ac6f8db8-2e5a-4975-aa33-1b126083533f\",\"type\":\"Line\"},\"selection_glyph\":null,\"view\":{\"id\":\"6e43fdc8-99a7-4e2e-8e92-cefd24a35592\",\"type\":\"CDSView\"}},\"id\":\"8ef50850-6655-43be-aac8-0f7f3af9e20d\",\"type\":\"GlyphRenderer\"},{\"attributes\":{\"data_source\":{\"id\":\"94d5aa47-fdb0-4d34-9719-a0def1d41421\",\"type\":\"ColumnDataSource\"},\"glyph\":{\"id\":\"da09e319-a3cf-47ca-ba63-76086c670abc\",\"type\":\"Line\"},\"hover_glyph\":null,\"muted_glyph\":null,\"nonselection_glyph\":{\"id\":\"003e403d-c5d0-4a64-9ae4-c058edd68ac4\",\"type\":\"Line\"},\"selection_glyph\":null,\"view\":{\"id\":\"e2636450-821e-4b17-8050-0e82ce5b5ca9\",\"type\":\"CDSView\"}},\"id\":\"256af783-bd61-4437-a3c2-3eb97bd3c0fc\",\"type\":\"GlyphRenderer\"},{\"attributes\":{},\"id\":\"bd973942-cfd9-46fa-97dd-8d3a7e4b5e87\",\"type\":\"LogScale\"},{\"attributes\":{\"source\":{\"id\":\"94d5aa47-fdb0-4d34-9719-a0def1d41421\",\"type\":\"ColumnDataSource\"}},\"id\":\"e2636450-821e-4b17-8050-0e82ce5b5ca9\",\"type\":\"CDSView\"},{\"attributes\":{\"plot\":{\"id\":\"80be40d7-e299-4928-b6db-4be9276dc8fe\",\"subtype\":\"Figure\",\"type\":\"Plot\"},\"ticker\":{\"id\":\"4791459f-bb1d-4747-9da7-49fd94e3795c\",\"type\":\"BasicTicker\"}},\"id\":\"e3ee0f84-16c1-45c4-a9bd-c0e0ea3a9d5c\",\"type\":\"Grid\"},{\"attributes\":{\"ticker\":null},\"id\":\"346ee8f8-7e33-42fa-8577-b646e1257245\",\"type\":\"LogTickFormatter\"},{\"attributes\":{\"data_source\":{\"id\":\"eaf922a7-caf2-447b-b096-91b8b22faf85\",\"type\":\"ColumnDataSource\"},\"glyph\":{\"id\":\"43a67a81-f90f-4ba7-a47d-153e0e667f6c\",\"type\":\"Line\"},\"hover_glyph\":null,\"muted_glyph\":null,\"nonselection_glyph\":{\"id\":\"b9878b9b-c4d7-4566-9ca7-882369e02715\",\"type\":\"Line\"},\"selection_glyph\":null,\"view\":{\"id\":\"0ae56175-2d49-4f98-8fb5-e3e3d5bb6066\",\"type\":\"CDSView\"}},\"id\":\"c7dccda4-97fa-4c4b-82e5-3dec6ba905bd\",\"type\":\"GlyphRenderer\"},{\"attributes\":{\"label\":{\"value\":\"CRD\"},\"renderers\":[{\"id\":\"5811c875-9ab6-40c2-a6b5-d57ba0cf20d0\",\"type\":\"GlyphRenderer\"},{\"id\":\"7526922b-6f63-45cb-8ba3-c7f0fd189d22\",\"type\":\"GlyphRenderer\"}]},\"id\":\"214dd3f7-3456-44e8-8431-adc421ec146c\",\"type\":\"LegendItem\"},{\"attributes\":{\"line_alpha\":0.1,\"line_color\":\"#1f77b4\",\"line_dash\":[6],\"line_width\":5,\"x\":{\"field\":\"x\"},\"y\":{\"field\":\"y\"}},\"id\":\"b9878b9b-c4d7-4566-9ca7-882369e02715\",\"type\":\"Line\"},{\"attributes\":{},\"id\":\"9da16290-a001-462b-9052-ed38e157cec3\",\"type\":\"BasicTickFormatter\"},{\"attributes\":{},\"id\":\"92183097-cf14-4781-8ae8-d870fe0cb777\",\"type\":\"LinearScale\"},{\"attributes\":{\"line_alpha\":0.1,\"line_color\":\"#1f77b4\",\"line_dash\":[6],\"line_width\":5,\"x\":{\"field\":\"x\"},\"y\":{\"field\":\"y\"}},\"id\":\"ac6f8db8-2e5a-4975-aa33-1b126083533f\",\"type\":\"Line\"},{\"attributes\":{\"fill_alpha\":{\"value\":0.1},\"fill_color\":{\"value\":\"#1f77b4\"},\"line_alpha\":{\"value\":0.1},\"line_color\":{\"value\":\"#1f77b4\"},\"x\":{\"field\":\"x\"},\"y\":{\"field\":\"y\"}},\"id\":\"274939a8-b13c-448a-b09d-ef358f51b4f0\",\"type\":\"Circle\"},{\"attributes\":{\"callback\":null,\"data\":{\"x\":{\"__ndarray__\":\"MYxH66AZ7T/RvBQFl5rsP7L/jX+XIO0/vAl8TSiH7T8wffE9CrTtP1rwBdrble0/sTpqM+sY7T+jJrhgwivsP0cC7CeMu+o/v40g13656D9I7hsl0BzmP0oLNCsd5OI/8cSkpvoh3j+SCTLhGzPVP433HaJV1sw/nAjyHi3vzj8QaxqpMUDVP840QO3gtdk/YvOziXoe3j9GpzomgwriP2y3+j3zauY/+6pDC1xg7T/bfBKOD4nyPxK1fkRd9fE/PGnApCEY7D8sxPpxwbrlP/mUjDHq+eA/ERFp4dOY2j+fs2A9SRXVP3DqhwHg0tA/WQi83dwpyj/HWioMHX3DP6RsFe2/CL4/5jHIMgTNuD+Zpto3j3SzP02DCl11XKs/ClxH6ndApD/NqsocnYOgP5FP5iQ2TZM/kk07+jQucT9c6QOy6DCBP6iX2K9NwKE/OsbR+UllsD+tKemRoQu4Px809Zk3d78/Oev41FYRwj9xZR4zLwvEP9aqXRPSGsY/LoGlBA4yyD8BQlZ9z0TKP0l3hJFmRcw/9upGzKrXzT8EHRCVBDDPP8oCPw2MOtA/T4WJULbS0D+v8j5t2F/RP7LeJN0B5NE/NG5BIcji0j/eh0nZnrDTP/bOibl7K9Q/Mo42M59Y1D9VI4mY8TrUPyK1Hvj33dM/+WAAfhlO0z8PEdR815jSP8p+BmkAztE/XoqCS43x0D+yp1epJNvPPzxZ3hPzRc0/lnUgZ3Exyj9xqITMOgjHP3N/9bhvNcQ/O1V8S1L8wT9E2oz0Hr7APyWPTCyV3MM/\",\"dtype\":\"float64\",\"shape\":[75]},\"y\":{\"__ndarray__\":\"GhExyth1ND/Sv8nbtpRIP2vylNV0PVE/aTum7souWD/At0SJ8fVgPw3Iuahxymc/MSNhhJWvcD/bTfBN02d3P2zb5nxnaoA/CD5h5MAGhz8NmeH1TyaQP+zrCsc9p5Y/LbKd76fGnz/bLW5ISEmmPww9YvTcQq8/JV2OstnstT8Er5Y7M8G+P0c+r3jqkcU/5h99k6ZBzj88bCIzFzjVP4enV8oyxN0//yH99nXg5D8qOpLLf0jtP5kqGJXUifQ/c9cS8kHP/D+/DpwzojQEQIEmwoanVwxA4lgXt9HgE0BSSZ2AJuIbQAMJih9jjiNA5q4l5INuK0AwTKYKRj0zQNv5fmq8/DpAaCJseHrtQkB/+zpwzoxKQM3MzMzMeFJAZmZmZmZqWEAAAAAAAFxeQM3MzMzMJmJAmpmZmZkfZUBmZmZmZhhoQDMzMzMzEWtAAAAAAAAKbkBmZmZmZoFwQM3MzMzM/XFAMzMzMzN6c0CamZmZmfZ0QAAAAAAAc3ZAZmZmZmbvd0DNzMzMzGt5QDMzMzMz6HpAmpmZmZlkfEAAAAAAAOF9QGZmZmZmXX9AZmZmZuZsgECamZmZGSuBQM3MzMxM6YFAAAAAAICngkAzMzMzs2WDQGZmZmbmI4RAmpmZmRnihEDNzMzMTKCFQAAAAACAXoZAMzMzM7Mch0BmZmZm5tqHQJqZmZkZmYhAzczMzExXiUAAAAAAgBWKQDMzMzOz04pAZmZmZuaRi0CamZmZGVCMQM3MzMxMDo1AAAAAAIDMjUAzMzMzs4qOQGZmZmbmSI9A\",\"dtype\":\"float64\",\"shape\":[75]}},\"selected\":{\"id\":\"688e27a5-5858-4276-a4f5-096e25679cb7\",\"type\":\"Selection\"},\"selection_policy\":{\"id\":\"17839b82-854c-4e35-a067-0cb27e23c265\",\"type\":\"UnionRenderers\"}},\"id\":\"ad5bc12e-aa70-4e3e-b034-159845d1994b\",\"type\":\"ColumnDataSource\"},{\"attributes\":{},\"id\":\"f2900c15-78ca-45ab-8ce5-81a5ae65ef94\",\"type\":\"HelpTool\"},{\"attributes\":{},\"id\":\"3a5b3268-721e-4fb3-9a1d-6b580c7256ac\",\"type\":\"LinearScale\"},{\"attributes\":{\"source\":{\"id\":\"979a452d-79c9-4fc8-8817-30129c7ce222\",\"type\":\"ColumnDataSource\"}},\"id\":\"ff776b85-6d0e-4503-818a-00cd921a5b78\",\"type\":\"CDSView\"},{\"attributes\":{\"label\":{\"value\":\"CRD\"},\"renderers\":[{\"id\":\"ed8bd647-804a-439f-8c80-11cd4af41cfb\",\"type\":\"GlyphRenderer\"},{\"id\":\"f59cbe41-7a72-4aa6-a670-a3a74e4dc5d8\",\"type\":\"GlyphRenderer\"}]},\"id\":\"d8dce060-16eb-4a68-83fa-ee3b4f4adb5b\",\"type\":\"LegendItem\"},{\"attributes\":{\"callback\":null,\"data\":{\"x\":{\"__ndarray__\":\"MYxH66AZ7T/RvBQFl5rsP7L/jX+XIO0/vAl8TSiH7T8wffE9CrTtP1rwBdrble0/sTpqM+sY7T+jJrhgwivsP0cC7CeMu+o/v40g13656D9I7hsl0BzmP0oLNCsd5OI/8cSkpvoh3j+SCTLhGzPVP433HaJV1sw/nAjyHi3vzj8QaxqpMUDVP840QO3gtdk/YvOziXoe3j9GpzomgwriP2y3+j3zauY/+6pDC1xg7T/bfBKOD4nyPxK1fkRd9fE/PGnApCEY7D8sxPpxwbrlP/mUjDHq+eA/ERFp4dOY2j+fs2A9SRXVP3DqhwHg0tA/WQi83dwpyj/HWioMHX3DP6RsFe2/CL4/5jHIMgTNuD+Zpto3j3SzP02DCl11XKs/ClxH6ndApD/NqsocnYOgP5FP5iQ2TZM/kk07+jQucT9c6QOy6DCBP6iX2K9NwKE/OsbR+UllsD+tKemRoQu4Px809Zk3d78/Oev41FYRwj9xZR4zLwvEP9aqXRPSGsY/LoGlBA4yyD8BQlZ9z0TKP0l3hJFmRcw/9upGzKrXzT8EHRCVBDDPP8oCPw2MOtA/T4WJULbS0D+v8j5t2F/RP7LeJN0B5NE/NG5BIcji0j/eh0nZnrDTP/bOibl7K9Q/Mo42M59Y1D9VI4mY8TrUPyK1Hvj33dM/+WAAfhlO0z8PEdR815jSP8p+BmkAztE/XoqCS43x0D+yp1epJNvPPzxZ3hPzRc0/lnUgZ3Exyj9xqITMOgjHP3N/9bhvNcQ/O1V8S1L8wT9E2oz0Hr7APyWPTCyV3MM/\",\"dtype\":\"float64\",\"shape\":[75]},\"y\":{\"__ndarray__\":\"GhExyth1ND/Sv8nbtpRIP2vylNV0PVE/aTum7souWD/At0SJ8fVgPw3Iuahxymc/MSNhhJWvcD/bTfBN02d3P2zb5nxnaoA/CD5h5MAGhz8NmeH1TyaQP+zrCsc9p5Y/LbKd76fGnz/bLW5ISEmmPww9YvTcQq8/JV2OstnstT8Er5Y7M8G+P0c+r3jqkcU/5h99k6ZBzj88bCIzFzjVP4enV8oyxN0//yH99nXg5D8qOpLLf0jtP5kqGJXUifQ/c9cS8kHP/D+/DpwzojQEQIEmwoanVwxA4lgXt9HgE0BSSZ2AJuIbQAMJih9jjiNA5q4l5INuK0AwTKYKRj0zQNv5fmq8/DpAaCJseHrtQkB/+zpwzoxKQM3MzMzMeFJAZmZmZmZqWEAAAAAAAFxeQM3MzMzMJmJAmpmZmZkfZUBmZmZmZhhoQDMzMzMzEWtAAAAAAAAKbkBmZmZmZoFwQM3MzMzM/XFAMzMzMzN6c0CamZmZmfZ0QAAAAAAAc3ZAZmZmZmbvd0DNzMzMzGt5QDMzMzMz6HpAmpmZmZlkfEAAAAAAAOF9QGZmZmZmXX9AZmZmZuZsgECamZmZGSuBQM3MzMxM6YFAAAAAAICngkAzMzMzs2WDQGZmZmbmI4RAmpmZmRnihEDNzMzMTKCFQAAAAACAXoZAMzMzM7Mch0BmZmZm5tqHQJqZmZkZmYhAzczMzExXiUAAAAAAgBWKQDMzMzOz04pAZmZmZuaRi0CamZmZGVCMQM3MzMxMDo1AAAAAAIDMjUAzMzMzs4qOQGZmZmbmSI9A\",\"dtype\":\"float64\",\"shape\":[75]}},\"selected\":{\"id\":\"f5d6a9a4-518c-4e82-9b0d-715e975cf4b3\",\"type\":\"Selection\"},\"selection_policy\":{\"id\":\"d9cd4cc1-8373-47f5-a18d-fbf94c633115\",\"type\":\"UnionRenderers\"}},\"id\":\"fcaccf46-7cc1-4e70-9b30-0b2d43ef0eea\",\"type\":\"ColumnDataSource\"},{\"attributes\":{\"callback\":null,\"data\":{\"x\":{\"__ndarray__\":\"MYxH66AZ7T/RvBQFl5rsP7L/jX+XIO0/vAl8TSiH7T8wffE9CrTtP1rwBdrble0/sTpqM+sY7T+jJrhgwivsP0cC7CeMu+o/v40g13656D9I7hsl0BzmP0oLNCsd5OI/8cSkpvoh3j+SCTLhGzPVP433HaJV1sw/nAjyHi3vzj8QaxqpMUDVP840QO3gtdk/YvOziXoe3j9GpzomgwriP2y3+j3zauY/+6pDC1xg7T/bfBKOD4nyPxK1fkRd9fE/PGnApCEY7D8sxPpxwbrlP/mUjDHq+eA/ERFp4dOY2j+fs2A9SRXVP3DqhwHg0tA/WQi83dwpyj/HWioMHX3DP6RsFe2/CL4/5jHIMgTNuD+Zpto3j3SzP02DCl11XKs/ClxH6ndApD/NqsocnYOgP5FP5iQ2TZM/kk07+jQucT9c6QOy6DCBP6iX2K9NwKE/OsbR+UllsD+tKemRoQu4Px809Zk3d78/Oev41FYRwj9xZR4zLwvEP9aqXRPSGsY/LoGlBA4yyD8BQlZ9z0TKP0l3hJFmRcw/9upGzKrXzT8EHRCVBDDPP8oCPw2MOtA/T4WJULbS0D+v8j5t2F/RP7LeJN0B5NE/NG5BIcji0j/eh0nZnrDTP/bOibl7K9Q/Mo42M59Y1D9VI4mY8TrUPyK1Hvj33dM/+WAAfhlO0z8PEdR815jSP8p+BmkAztE/XoqCS43x0D+yp1epJNvPPzxZ3hPzRc0/lnUgZ3Exyj9xqITMOgjHP3N/9bhvNcQ/O1V8S1L8wT9E2oz0Hr7APyWPTCyV3MM/\",\"dtype\":\"float64\",\"shape\":[75]},\"y\":{\"__ndarray__\":\"GhExyth1ND/Sv8nbtpRIP2vylNV0PVE/aTum7souWD/At0SJ8fVgPw3Iuahxymc/MSNhhJWvcD/bTfBN02d3P2zb5nxnaoA/CD5h5MAGhz8NmeH1TyaQP+zrCsc9p5Y/LbKd76fGnz/bLW5ISEmmPww9YvTcQq8/JV2OstnstT8Er5Y7M8G+P0c+r3jqkcU/5h99k6ZBzj88bCIzFzjVP4enV8oyxN0//yH99nXg5D8qOpLLf0jtP5kqGJXUifQ/c9cS8kHP/D+/DpwzojQEQIEmwoanVwxA4lgXt9HgE0BSSZ2AJuIbQAMJih9jjiNA5q4l5INuK0AwTKYKRj0zQNv5fmq8/DpAaCJseHrtQkB/+zpwzoxKQM3MzMzMeFJAZmZmZmZqWEAAAAAAAFxeQM3MzMzMJmJAmpmZmZkfZUBmZmZmZhhoQDMzMzMzEWtAAAAAAAAKbkBmZmZmZoFwQM3MzMzM/XFAMzMzMzN6c0CamZmZmfZ0QAAAAAAAc3ZAZmZmZmbvd0DNzMzMzGt5QDMzMzMz6HpAmpmZmZlkfEAAAAAAAOF9QGZmZmZmXX9AZmZmZuZsgECamZmZGSuBQM3MzMxM6YFAAAAAAICngkAzMzMzs2WDQGZmZmbmI4RAmpmZmRnihEDNzMzMTKCFQAAAAACAXoZAMzMzM7Mch0BmZmZm5tqHQJqZmZkZmYhAzczMzExXiUAAAAAAgBWKQDMzMzOz04pAZmZmZuaRi0CamZmZGVCMQM3MzMxMDo1AAAAAAIDMjUAzMzMzs4qOQGZmZmbmSI9A\",\"dtype\":\"float64\",\"shape\":[75]}},\"selected\":{\"id\":\"69f5346e-38b7-4e69-973a-559a30104473\",\"type\":\"Selection\"},\"selection_policy\":{\"id\":\"6d443108-636c-4bca-aab7-eb49b8fa3526\",\"type\":\"UnionRenderers\"}},\"id\":\"62413386-961f-421f-bd07-3c23f95f7ca9\",\"type\":\"ColumnDataSource\"},{\"attributes\":{},\"id\":\"d292ec44-f583-4f6f-b768-2fae80adc551\",\"type\":\"Selection\"},{\"attributes\":{\"axis_label\":\"pressure [mb]\",\"formatter\":{\"id\":\"346ee8f8-7e33-42fa-8577-b646e1257245\",\"type\":\"LogTickFormatter\"},\"plot\":{\"id\":\"e5fa4d80-2dec-49ca-a0f5-bf4a9bcc4741\",\"subtype\":\"Figure\",\"type\":\"Plot\"},\"ticker\":{\"id\":\"5a54e1fc-3f44-442a-8d4f-9b2deb9aae14\",\"type\":\"LogTicker\"}},\"id\":\"a12ebe53-be12-46ca-80f9-de2947eba0d9\",\"type\":\"LogAxis\"},{\"attributes\":{\"label\":{\"value\":\"CLIRAD - CRD\"},\"renderers\":[{\"id\":\"8326c791-0d87-4f75-b571-3571abc0cb41\",\"type\":\"GlyphRenderer\"}]},\"id\":\"7e11d275-185a-4766-85bb-3804e918f179\",\"type\":\"LegendItem\"},{\"attributes\":{\"line_alpha\":0.6,\"line_color\":\"#e41a1c\",\"line_dash\":[6],\"line_width\":5,\"x\":{\"field\":\"x\"},\"y\":{\"field\":\"y\"}},\"id\":\"a9adcb5d-37e6-43c8-9fee-1e4e7352eca0\",\"type\":\"Line\"},{\"attributes\":{\"callback\":null,\"data\":{\"x\":{\"__ndarray__\":\"OI4O/jRk0r/q4gTgfgTRv8DcWYFCudC/Qia+f5gp0L9YSTMv6ofOv/xihCoU7cu/1MGHMztiyL+UFYkqeOHDv1B16iUh7Ly/qEy++vSvsL/AfAWr4nSPv8Aw47cy8p8/VB7mw5pnsT/EwYMLHku3PzICjUb8krc/0KqWdJSDrz9AUW9faviEPwiK7nJ0Cae/RLrp4Kr8tb9YJOSLDxa3v8gTc9bIKrG/kDR1R5Qwqr9QXO/tTFewv3BCSTd4FbC/gICEel0zo78Apeqqgkl4v4AFNK4LgZQ/wIZ1HYkbnD+wlitRMEKUP8BUt6PNq4E/gGF9CwRkXL+AdbuoJz2Fv3BbIc3U+4C/IBwaGVs9ZD9wRF2PtcuCP/zjKgeU/IE/GD6AF0YSdj9AbCaiCVtmP8AQ1uXlx0c/ZDXVFHpdTL9wQF8W9bJWv9B2wMYMjGC/ELn7hAKib7/gQk+xB+Z6v4B0iOpz1oO/YArl0GT3g79A7NcAGfiBvwDaIy/GG4S/YFjmKYJqib/QXAEBQlaNv+B4VQz8TY2/kM0kA6M/ir/wd5JbMESIv9CXIWX2P4m/AEEoMQA7jL9AzuOsXxuPv8CWAtL+B5C/kOktN3sUkL+AX1WDUcWMv2Csi9toAIe/QM2TKe6RgL/Abg46lcpzvwDomrCaOlG/AASR4m+9bj+AJ5HQ2I+DPwCVW0Fw6I8/0DkcI/oxlT9wQXPGxYuYP6C/2d5VrJk/gLbdHXzVmD/QCPwC9qiWP5girnM+ApQ/iMgbJjuykT+4CnQWixmQP7DbVmlB3ok/\",\"dtype\":\"float64\",\"shape\":[75]},\"y\":{\"__ndarray__\":\"GhExyth1ND/Sv8nbtpRIP2vylNV0PVE/aTum7souWD/At0SJ8fVgPw3Iuahxymc/MSNhhJWvcD/bTfBN02d3P2zb5nxnaoA/CD5h5MAGhz8NmeH1TyaQP+zrCsc9p5Y/LbKd76fGnz/bLW5ISEmmPww9YvTcQq8/JV2OstnstT8Er5Y7M8G+P0c+r3jqkcU/5h99k6ZBzj88bCIzFzjVP4enV8oyxN0//yH99nXg5D8qOpLLf0jtP5kqGJXUifQ/c9cS8kHP/D+/DpwzojQEQIEmwoanVwxA4lgXt9HgE0BSSZ2AJuIbQAMJih9jjiNA5q4l5INuK0AwTKYKRj0zQNv5fmq8/DpAaCJseHrtQkB/+zpwzoxKQM3MzMzMeFJAZmZmZmZqWEAAAAAAAFxeQM3MzMzMJmJAmpmZmZkfZUBmZmZmZhhoQDMzMzMzEWtAAAAAAAAKbkBmZmZmZoFwQM3MzMzM/XFAMzMzMzN6c0CamZmZmfZ0QAAAAAAAc3ZAZmZmZmbvd0DNzMzMzGt5QDMzMzMz6HpAmpmZmZlkfEAAAAAAAOF9QGZmZmZmXX9AZmZmZuZsgECamZmZGSuBQM3MzMxM6YFAAAAAAICngkAzMzMzs2WDQGZmZmbmI4RAmpmZmRnihEDNzMzMTKCFQAAAAACAXoZAMzMzM7Mch0BmZmZm5tqHQJqZmZkZmYhAzczMzExXiUAAAAAAgBWKQDMzMzOz04pAZmZmZuaRi0CamZmZGVCMQM3MzMxMDo1AAAAAAIDMjUAzMzMzs4qOQGZmZmbmSI9A\",\"dtype\":\"float64\",\"shape\":[75]}},\"selected\":{\"id\":\"91aac8d0-785f-4d6c-8c51-39f83b0a0ecc\",\"type\":\"Selection\"},\"selection_policy\":{\"id\":\"d5eb6fd8-0825-4012-b3ca-1bf52670572b\",\"type\":\"UnionRenderers\"}},\"id\":\"0e4ca10a-1faf-4b81-bff8-b8a45da52ac2\",\"type\":\"ColumnDataSource\"},{\"attributes\":{\"label\":{\"value\":\"WGT igg=10\"},\"renderers\":[{\"id\":\"256af783-bd61-4437-a3c2-3eb97bd3c0fc\",\"type\":\"GlyphRenderer\"}]},\"id\":\"20f13ca5-cb6a-48bd-ba5a-12ceca161398\",\"type\":\"LegendItem\"},{\"attributes\":{\"above\":[{\"id\":\"d30ad331-a6c6-4195-a989-39f99801a384\",\"type\":\"Legend\"}],\"below\":[{\"id\":\"f2f39577-64e4-4765-a73e-e72cb43e2935\",\"type\":\"LinearAxis\"}],\"left\":[{\"id\":\"21911991-944e-4cfa-a3a4-bc42d061a884\",\"type\":\"LinearAxis\"}],\"plot_height\":500,\"plot_width\":300,\"renderers\":[{\"id\":\"f2f39577-64e4-4765-a73e-e72cb43e2935\",\"type\":\"LinearAxis\"},{\"id\":\"e3ee0f84-16c1-45c4-a9bd-c0e0ea3a9d5c\",\"type\":\"Grid\"},{\"id\":\"21911991-944e-4cfa-a3a4-bc42d061a884\",\"type\":\"LinearAxis\"},{\"id\":\"39b7ba79-4447-4a12-a99b-f9c46a7b99c1\",\"type\":\"Grid\"},{\"id\":\"ceace069-238f-43e4-b6e0-da8008c91319\",\"type\":\"BoxAnnotation\"},{\"id\":\"c7dccda4-97fa-4c4b-82e5-3dec6ba905bd\",\"type\":\"GlyphRenderer\"},{\"id\":\"ed8bd647-804a-439f-8c80-11cd4af41cfb\",\"type\":\"GlyphRenderer\"},{\"id\":\"f59cbe41-7a72-4aa6-a670-a3a74e4dc5d8\",\"type\":\"GlyphRenderer\"},{\"id\":\"256af783-bd61-4437-a3c2-3eb97bd3c0fc\",\"type\":\"GlyphRenderer\"},{\"id\":\"d30ad331-a6c6-4195-a989-39f99801a384\",\"type\":\"Legend\"}],\"title\":{\"id\":\"959bd11d-cefb-444b-8fb3-7e4b9f3852d8\",\"type\":\"Title\"},\"toolbar\":{\"id\":\"90657dce-8712-4915-bd02-18adafae2ca6\",\"type\":\"Toolbar\"},\"toolbar_location\":null,\"x_range\":{\"id\":\"cc292e10-e9a5-4e56-bd7f-2cfc85c80f4b\",\"type\":\"Range1d\"},\"x_scale\":{\"id\":\"3a5b3268-721e-4fb3-9a1d-6b580c7256ac\",\"type\":\"LinearScale\"},\"y_range\":{\"id\":\"cb0952c5-01d3-42b9-9a7f-dc5fe7ca5ae6\",\"type\":\"Range1d\"},\"y_scale\":{\"id\":\"51c3e4c4-3820-4f2e-be31-e8dd7c829132\",\"type\":\"LinearScale\"}},\"id\":\"80be40d7-e299-4928-b6db-4be9276dc8fe\",\"subtype\":\"Figure\",\"type\":\"Plot\"},{\"attributes\":{\"label\":{\"value\":\"WGT igg=10 - CRD\"},\"renderers\":[{\"id\":\"e738d5fd-116d-4fa8-9c8a-e2ea0aeaff1b\",\"type\":\"GlyphRenderer\"}]},\"id\":\"fa9c8467-867f-4579-bdbc-fd3efd82abdb\",\"type\":\"LegendItem\"},{\"attributes\":{\"children\":[{\"id\":\"80be40d7-e299-4928-b6db-4be9276dc8fe\",\"subtype\":\"Figure\",\"type\":\"Plot\"},{\"id\":\"e5fa4d80-2dec-49ca-a0f5-bf4a9bcc4741\",\"subtype\":\"Figure\",\"type\":\"Plot\"},{\"id\":\"6756afe8-8f95-495e-9c21-bf340c42b6be\",\"subtype\":\"Figure\",\"type\":\"Plot\"}]},\"id\":\"eb2a1882-1bde-4471-b74f-f1f5ce955876\",\"type\":\"Row\"},{\"attributes\":{\"dimension\":1,\"plot\":{\"id\":\"e5fa4d80-2dec-49ca-a0f5-bf4a9bcc4741\",\"subtype\":\"Figure\",\"type\":\"Plot\"},\"ticker\":{\"id\":\"5a54e1fc-3f44-442a-8d4f-9b2deb9aae14\",\"type\":\"LogTicker\"}},\"id\":\"5f1630a0-f0a6-4402-b03f-cb0e0f521cea\",\"type\":\"Grid\"},{\"attributes\":{\"data_source\":{\"id\":\"7ca05360-5126-442a-8b36-34264434f515\",\"type\":\"ColumnDataSource\"},\"glyph\":{\"id\":\"62a23fdd-6636-4849-83b1-959f5678e53c\",\"type\":\"Line\"},\"hover_glyph\":null,\"muted_glyph\":null,\"nonselection_glyph\":{\"id\":\"f5ff95eb-f5ff-4f12-8aba-e0455f3e33bc\",\"type\":\"Line\"},\"selection_glyph\":null,\"view\":{\"id\":\"f87eeb9f-27be-4e09-b050-ea7c73a61a55\",\"type\":\"CDSView\"}},\"id\":\"8326c791-0d87-4f75-b571-3571abc0cb41\",\"type\":\"GlyphRenderer\"},{\"attributes\":{},\"id\":\"d9cd4cc1-8373-47f5-a18d-fbf94c633115\",\"type\":\"UnionRenderers\"},{\"attributes\":{},\"id\":\"0aea7ede-f8e5-404a-9c95-0c5616072dd9\",\"type\":\"BasicTickFormatter\"},{\"attributes\":{},\"id\":\"f5d6a9a4-518c-4e82-9b0d-715e975cf4b3\",\"type\":\"Selection\"},{\"attributes\":{\"source\":{\"id\":\"0e4ca10a-1faf-4b81-bff8-b8a45da52ac2\",\"type\":\"ColumnDataSource\"}},\"id\":\"db3533e7-0929-404d-a635-4b8282cbc530\",\"type\":\"CDSView\"},{\"attributes\":{\"active_drag\":\"auto\",\"active_inspect\":\"auto\",\"active_scroll\":\"auto\",\"active_tap\":\"auto\",\"tools\":[{\"id\":\"cb1f9822-e800-40e6-a0ab-87ea73c49b4a\",\"type\":\"PanTool\"},{\"id\":\"ad46548f-4021-4448-94b0-44011e19289b\",\"type\":\"WheelZoomTool\"},{\"id\":\"5aa54082-9ea7-4f04-8c14-81be3ce145b9\",\"type\":\"BoxZoomTool\"},{\"id\":\"f97851e5-182f-4ce9-96a1-c7c2c8b3cfae\",\"type\":\"SaveTool\"},{\"id\":\"3705d5b5-53dd-4a4c-b7cc-0c538867d8a6\",\"type\":\"ResetTool\"},{\"id\":\"f2900c15-78ca-45ab-8ce5-81a5ae65ef94\",\"type\":\"HelpTool\"}]},\"id\":\"90657dce-8712-4915-bd02-18adafae2ca6\",\"type\":\"Toolbar\"},{\"attributes\":{},\"id\":\"2455b05d-7e37-4139-9905-473024cbe0cd\",\"type\":\"BasicTickFormatter\"},{\"attributes\":{},\"id\":\"29ebdcdb-4380-42c4-aff0-e54871e5758b\",\"type\":\"BasicTicker\"},{\"attributes\":{\"items\":[{\"id\":\"3978b189-120d-4ba9-97aa-457afdc18763\",\"type\":\"LegendItem\"},{\"id\":\"214dd3f7-3456-44e8-8431-adc421ec146c\",\"type\":\"LegendItem\"},{\"id\":\"c652daa0-d98b-4aef-bfa3-f334cdfeb67f\",\"type\":\"LegendItem\"}],\"label_text_font_size\":{\"value\":\"8pt\"},\"location\":\"top_center\",\"orientation\":\"horizontal\",\"plot\":{\"id\":\"e5fa4d80-2dec-49ca-a0f5-bf4a9bcc4741\",\"subtype\":\"Figure\",\"type\":\"Plot\"}},\"id\":\"b8efd036-0598-42a8-8baf-ecbe6b665beb\",\"type\":\"Legend\"},{\"attributes\":{\"axis_label\":\"cooling rate [K/day]\",\"formatter\":{\"id\":\"9da16290-a001-462b-9052-ed38e157cec3\",\"type\":\"BasicTickFormatter\"},\"plot\":{\"id\":\"e5fa4d80-2dec-49ca-a0f5-bf4a9bcc4741\",\"subtype\":\"Figure\",\"type\":\"Plot\"},\"ticker\":{\"id\":\"29ebdcdb-4380-42c4-aff0-e54871e5758b\",\"type\":\"BasicTicker\"}},\"id\":\"4f8500c7-9a8b-461e-9f90-eeb98299093b\",\"type\":\"LinearAxis\"},{\"attributes\":{\"callback\":null,\"data\":{\"x\":{\"__ndarray__\":\"2pxa6BA55D9eCvb8vGvkPzZnEi8uGeU/btgZU27K5T8bcG0TtGrmP/SzJlCj9OY/jdVBuchY5z+3nwi5vYrnP3NVbtxBcOc/lARVYTvx5j84Ww4u/OTlP4/MPBzRG+Q/Mfc9qJNl4T98NIsG3yrbP/Wb7BP+VNQ/7vijZhdl0z+PYi386O3VP8PGq2Lg79Y/G6F+m+7K2D/2+3Ikn3DePzwbC22tTeQ/2AirTlr66z+fQgmOJrLxP3FCfLuAEvE/rPMcT9Mg6z9pn9hUJ7HlPwRuQPgOxuE/flsLDoqB3D8Bpsr//YzWPzjSvl4GiNE/WN9lK9Q/yj8NXsuWcl/CP8O8pos9Sbw/4/viUpW2uT90AKvAHP+1P0lFDe02BLA/b4/buJAKpz8HV27ZieGhP0pSDnCF05M/gnZduct3aT+OAPAEiRF8P9RD6Cs+waA/unBp+sEArz9CcEMprYG2P0cXQJ2XL70/QE0MTQLpwD9Xw01fMgLDP3vBhiuQ7sQ/uTQCGjqwxj9ZewpGRoPIPzDw/Ymhh8o/O+fA1a5HzD9Pzu2xNr7NPyPV2qgM684/iIweKlPtzz8kxXTfOW3QPzNQWxsR6dA/63jEzxzl0T/+TSDTd8rSPwX0iPKBdNM/qkyMwLPY0z+WjyjdK+3TP4JziLDIzNM/i+fHuhOH0z+i5WmO5ifTP6aUW4OMutI/JGfdFpcw0j8Hl9BVoV7RP2XXB6OjJtA/T6McDkMSzT96nibQs5vJP+aVyl9KcsY/qth3ySjkwz9wXAhq33nCP4qORx3bOsU/\",\"dtype\":\"float64\",\"shape\":[75]},\"y\":{\"__ndarray__\":\"GhExyth1ND/Sv8nbtpRIP2vylNV0PVE/aTum7souWD/At0SJ8fVgPw3Iuahxymc/MSNhhJWvcD/bTfBN02d3P2zb5nxnaoA/CD5h5MAGhz8NmeH1TyaQP+zrCsc9p5Y/LbKd76fGnz/bLW5ISEmmPww9YvTcQq8/JV2OstnstT8Er5Y7M8G+P0c+r3jqkcU/5h99k6ZBzj88bCIzFzjVP4enV8oyxN0//yH99nXg5D8qOpLLf0jtP5kqGJXUifQ/c9cS8kHP/D+/DpwzojQEQIEmwoanVwxA4lgXt9HgE0BSSZ2AJuIbQAMJih9jjiNA5q4l5INuK0AwTKYKRj0zQNv5fmq8/DpAaCJseHrtQkB/+zpwzoxKQM3MzMzMeFJAZmZmZmZqWEAAAAAAAFxeQM3MzMzMJmJAmpmZmZkfZUBmZmZmZhhoQDMzMzMzEWtAAAAAAAAKbkBmZmZmZoFwQM3MzMzM/XFAMzMzMzN6c0CamZmZmfZ0QAAAAAAAc3ZAZmZmZmbvd0DNzMzMzGt5QDMzMzMz6HpAmpmZmZlkfEAAAAAAAOF9QGZmZmZmXX9AZmZmZuZsgECamZmZGSuBQM3MzMxM6YFAAAAAAICngkAzMzMzs2WDQGZmZmbmI4RAmpmZmRnihEDNzMzMTKCFQAAAAACAXoZAMzMzM7Mch0BmZmZm5tqHQJqZmZkZmYhAzczMzExXiUAAAAAAgBWKQDMzMzOz04pAZmZmZuaRi0CamZmZGVCMQM3MzMxMDo1AAAAAAIDMjUAzMzMzs4qOQGZmZmbmSI9A\",\"dtype\":\"float64\",\"shape\":[75]}},\"selected\":{\"id\":\"b5a19914-40d7-4a9e-8f90-a462d6ef51d6\",\"type\":\"Selection\"},\"selection_policy\":{\"id\":\"93b98b25-205e-4880-8cbf-0521be94d9b7\",\"type\":\"UnionRenderers\"}},\"id\":\"808e9d0f-6b7f-41a4-b3af-d0a187b09c8d\",\"type\":\"ColumnDataSource\"},{\"attributes\":{},\"id\":\"688e27a5-5858-4276-a4f5-096e25679cb7\",\"type\":\"Selection\"},{\"attributes\":{},\"id\":\"5c67bcba-4bad-49d2-a33a-e499d906a725\",\"type\":\"UnionRenderers\"},{\"attributes\":{\"line_alpha\":0.1,\"line_color\":\"#1f77b4\",\"line_width\":8,\"x\":{\"field\":\"x\"},\"y\":{\"field\":\"y\"}},\"id\":\"c45ac878-9b9c-4da3-96a7-c5ca7f91be88\",\"type\":\"Line\"},{\"attributes\":{\"source\":{\"id\":\"7ca05360-5126-442a-8b36-34264434f515\",\"type\":\"ColumnDataSource\"}},\"id\":\"f87eeb9f-27be-4e09-b050-ea7c73a61a55\",\"type\":\"CDSView\"},{\"attributes\":{},\"id\":\"4eb1b64f-8545-4370-9468-3e2c38a7294b\",\"type\":\"UnionRenderers\"},{\"attributes\":{\"above\":[{\"id\":\"b8efd036-0598-42a8-8baf-ecbe6b665beb\",\"type\":\"Legend\"}],\"below\":[{\"id\":\"4f8500c7-9a8b-461e-9f90-eeb98299093b\",\"type\":\"LinearAxis\"}],\"left\":[{\"id\":\"a12ebe53-be12-46ca-80f9-de2947eba0d9\",\"type\":\"LogAxis\"}],\"plot_height\":500,\"plot_width\":300,\"renderers\":[{\"id\":\"4f8500c7-9a8b-461e-9f90-eeb98299093b\",\"type\":\"LinearAxis\"},{\"id\":\"39defe74-111f-4bef-921f-b9663f0601cb\",\"type\":\"Grid\"},{\"id\":\"a12ebe53-be12-46ca-80f9-de2947eba0d9\",\"type\":\"LogAxis\"},{\"id\":\"5f1630a0-f0a6-4402-b03f-cb0e0f521cea\",\"type\":\"Grid\"},{\"id\":\"8fc5d92f-f5be-40fb-9ed9-1fac08019861\",\"type\":\"BoxAnnotation\"},{\"id\":\"8ef50850-6655-43be-aac8-0f7f3af9e20d\",\"type\":\"GlyphRenderer\"},{\"id\":\"5811c875-9ab6-40c2-a6b5-d57ba0cf20d0\",\"type\":\"GlyphRenderer\"},{\"id\":\"7526922b-6f63-45cb-8ba3-c7f0fd189d22\",\"type\":\"GlyphRenderer\"},{\"id\":\"f9c3466f-a5ec-422d-bc4d-3cc4f3f52d9e\",\"type\":\"GlyphRenderer\"},{\"id\":\"b8efd036-0598-42a8-8baf-ecbe6b665beb\",\"type\":\"Legend\"}],\"title\":{\"id\":\"2c44468e-3430-4086-9c68-86fa9fb6ec66\",\"type\":\"Title\"},\"toolbar\":{\"id\":\"280fb73e-5bed-4088-9f2f-9acc538b0ef5\",\"type\":\"Toolbar\"},\"toolbar_location\":null,\"x_range\":{\"id\":\"2a021fe2-92eb-4c64-bfc1-d62d4147f001\",\"type\":\"Range1d\"},\"x_scale\":{\"id\":\"92183097-cf14-4781-8ae8-d870fe0cb777\",\"type\":\"LinearScale\"},\"y_range\":{\"id\":\"6a11a1c9-8eeb-4483-8ad5-50bedb786166\",\"type\":\"Range1d\"},\"y_scale\":{\"id\":\"93f5c056-1ce4-439a-b947-9617c281d458\",\"type\":\"LogScale\"}},\"id\":\"e5fa4d80-2dec-49ca-a0f5-bf4a9bcc4741\",\"subtype\":\"Figure\",\"type\":\"Plot\"},{\"attributes\":{\"line_alpha\":0.3,\"line_color\":\"#984ea3\",\"line_width\":8,\"x\":{\"field\":\"x\"},\"y\":{\"field\":\"y\"}},\"id\":\"201f7255-6d36-4525-b95f-79b792ab7820\",\"type\":\"Line\"},{\"attributes\":{},\"id\":\"51c3e4c4-3820-4f2e-be31-e8dd7c829132\",\"type\":\"LinearScale\"},{\"attributes\":{},\"id\":\"93f5c056-1ce4-439a-b947-9617c281d458\",\"type\":\"LogScale\"},{\"attributes\":{},\"id\":\"69f5346e-38b7-4e69-973a-559a30104473\",\"type\":\"Selection\"},{\"attributes\":{\"plot\":null,\"text\":\"\"},\"id\":\"959bd11d-cefb-444b-8fb3-7e4b9f3852d8\",\"type\":\"Title\"},{\"attributes\":{\"callback\":null,\"end\":1.1700156321910002,\"start\":-0.008444651291000003},\"id\":\"2a021fe2-92eb-4c64-bfc1-d62d4147f001\",\"type\":\"Range1d\"},{\"attributes\":{},\"id\":\"cf25a92f-f6c9-48e6-b91b-91d8ae2e2137\",\"type\":\"PanTool\"},{\"attributes\":{},\"id\":\"a901cf18-599d-4015-b2a5-c29797b5f675\",\"type\":\"Selection\"},{\"attributes\":{\"callback\":null,\"end\":0.01,\"start\":1020},\"id\":\"7c237fe3-8fe3-44cf-b7e3-c4c58b5959fa\",\"type\":\"Range1d\"},{\"attributes\":{\"data_source\":{\"id\":\"0e4ca10a-1faf-4b81-bff8-b8a45da52ac2\",\"type\":\"ColumnDataSource\"},\"glyph\":{\"id\":\"201f7255-6d36-4525-b95f-79b792ab7820\",\"type\":\"Line\"},\"hover_glyph\":null,\"muted_glyph\":null,\"nonselection_glyph\":{\"id\":\"c45ac878-9b9c-4da3-96a7-c5ca7f91be88\",\"type\":\"Line\"},\"selection_glyph\":null,\"view\":{\"id\":\"db3533e7-0929-404d-a635-4b8282cbc530\",\"type\":\"CDSView\"}},\"id\":\"e738d5fd-116d-4fa8-9c8a-e2ea0aeaff1b\",\"type\":\"GlyphRenderer\"},{\"attributes\":{},\"id\":\"e41ae592-ee1c-423b-9527-5a8563be3a27\",\"type\":\"UnionRenderers\"},{\"attributes\":{\"callback\":null,\"end\":0.01,\"start\":1020},\"id\":\"6a11a1c9-8eeb-4483-8ad5-50bedb786166\",\"type\":\"Range1d\"},{\"attributes\":{},\"id\":\"6d443108-636c-4bca-aab7-eb49b8fa3526\",\"type\":\"UnionRenderers\"},{\"attributes\":{\"children\":[{\"id\":\"eb2a1882-1bde-4471-b74f-f1f5ce955876\",\"type\":\"Row\"}]},\"id\":\"79f17db8-b84a-4259-afc1-6fc4dea65d71\",\"type\":\"Column\"},{\"attributes\":{\"items\":[{\"id\":\"4bffcc7a-7391-417f-8b79-92892cfdf229\",\"type\":\"LegendItem\"},{\"id\":\"d8dce060-16eb-4a68-83fa-ee3b4f4adb5b\",\"type\":\"LegendItem\"},{\"id\":\"20f13ca5-cb6a-48bd-ba5a-12ceca161398\",\"type\":\"LegendItem\"}],\"label_text_font_size\":{\"value\":\"8pt\"},\"location\":\"top_center\",\"orientation\":\"horizontal\",\"plot\":{\"id\":\"80be40d7-e299-4928-b6db-4be9276dc8fe\",\"subtype\":\"Figure\",\"type\":\"Plot\"}},\"id\":\"d30ad331-a6c6-4195-a989-39f99801a384\",\"type\":\"Legend\"},{\"attributes\":{\"plot\":{\"id\":\"e5fa4d80-2dec-49ca-a0f5-bf4a9bcc4741\",\"subtype\":\"Figure\",\"type\":\"Plot\"},\"ticker\":{\"id\":\"29ebdcdb-4380-42c4-aff0-e54871e5758b\",\"type\":\"BasicTicker\"}},\"id\":\"39defe74-111f-4bef-921f-b9663f0601cb\",\"type\":\"Grid\"},{\"attributes\":{\"callback\":null,\"data\":{\"x\":{\"__ndarray__\":\"2pxa6BA55D9eCvb8vGvkPzZnEi8uGeU/btgZU27K5T8bcG0TtGrmP/SzJlCj9OY/jdVBuchY5z+3nwi5vYrnP3NVbtxBcOc/lARVYTvx5j84Ww4u/OTlP4/MPBzRG+Q/Mfc9qJNl4T98NIsG3yrbP/Wb7BP+VNQ/7vijZhdl0z+PYi386O3VP8PGq2Lg79Y/G6F+m+7K2D/2+3Ikn3DePzwbC22tTeQ/2AirTlr66z+fQgmOJrLxP3FCfLuAEvE/rPMcT9Mg6z9pn9hUJ7HlPwRuQPgOxuE/flsLDoqB3D8Bpsr//YzWPzjSvl4GiNE/WN9lK9Q/yj8NXsuWcl/CP8O8pos9Sbw/4/viUpW2uT90AKvAHP+1P0lFDe02BLA/b4/buJAKpz8HV27ZieGhP0pSDnCF05M/gnZduct3aT+OAPAEiRF8P9RD6Cs+waA/unBp+sEArz9CcEMprYG2P0cXQJ2XL70/QE0MTQLpwD9Xw01fMgLDP3vBhiuQ7sQ/uTQCGjqwxj9ZewpGRoPIPzDw/Ymhh8o/O+fA1a5HzD9Pzu2xNr7NPyPV2qgM684/iIweKlPtzz8kxXTfOW3QPzNQWxsR6dA/63jEzxzl0T/+TSDTd8rSPwX0iPKBdNM/qkyMwLPY0z+WjyjdK+3TP4JziLDIzNM/i+fHuhOH0z+i5WmO5ifTP6aUW4OMutI/JGfdFpcw0j8Hl9BVoV7RP2XXB6OjJtA/T6McDkMSzT96nibQs5vJP+aVyl9KcsY/qth3ySjkwz9wXAhq33nCP4qORx3bOsU/\",\"dtype\":\"float64\",\"shape\":[75]},\"y\":{\"__ndarray__\":\"GhExyth1ND/Sv8nbtpRIP2vylNV0PVE/aTum7souWD/At0SJ8fVgPw3Iuahxymc/MSNhhJWvcD/bTfBN02d3P2zb5nxnaoA/CD5h5MAGhz8NmeH1TyaQP+zrCsc9p5Y/LbKd76fGnz/bLW5ISEmmPww9YvTcQq8/JV2OstnstT8Er5Y7M8G+P0c+r3jqkcU/5h99k6ZBzj88bCIzFzjVP4enV8oyxN0//yH99nXg5D8qOpLLf0jtP5kqGJXUifQ/c9cS8kHP/D+/DpwzojQEQIEmwoanVwxA4lgXt9HgE0BSSZ2AJuIbQAMJih9jjiNA5q4l5INuK0AwTKYKRj0zQNv5fmq8/DpAaCJseHrtQkB/+zpwzoxKQM3MzMzMeFJAZmZmZmZqWEAAAAAAAFxeQM3MzMzMJmJAmpmZmZkfZUBmZmZmZhhoQDMzMzMzEWtAAAAAAAAKbkBmZmZmZoFwQM3MzMzM/XFAMzMzMzN6c0CamZmZmfZ0QAAAAAAAc3ZAZmZmZmbvd0DNzMzMzGt5QDMzMzMz6HpAmpmZmZlkfEAAAAAAAOF9QGZmZmZmXX9AZmZmZuZsgECamZmZGSuBQM3MzMxM6YFAAAAAAICngkAzMzMzs2WDQGZmZmbmI4RAmpmZmRnihEDNzMzMTKCFQAAAAACAXoZAMzMzM7Mch0BmZmZm5tqHQJqZmZkZmYhAzczMzExXiUAAAAAAgBWKQDMzMzOz04pAZmZmZuaRi0CamZmZGVCMQM3MzMxMDo1AAAAAAIDMjUAzMzMzs4qOQGZmZmbmSI9A\",\"dtype\":\"float64\",\"shape\":[75]}},\"selected\":{\"id\":\"a901cf18-599d-4015-b2a5-c29797b5f675\",\"type\":\"Selection\"},\"selection_policy\":{\"id\":\"7e1ad493-c339-460c-9983-46da467b14fc\",\"type\":\"UnionRenderers\"}},\"id\":\"eaf922a7-caf2-447b-b096-91b8b22faf85\",\"type\":\"ColumnDataSource\"},{\"attributes\":{\"ticker\":null},\"id\":\"d2fcf984-f3a5-4692-a299-29fbf9911838\",\"type\":\"LogTickFormatter\"},{\"attributes\":{},\"id\":\"b5a19914-40d7-4a9e-8f90-a462d6ef51d6\",\"type\":\"Selection\"},{\"attributes\":{},\"id\":\"1fb5bcd1-6e30-4068-a81e-abe1d55ade6d\",\"type\":\"Selection\"},{\"attributes\":{\"num_minor_ticks\":10},\"id\":\"5a54e1fc-3f44-442a-8d4f-9b2deb9aae14\",\"type\":\"LogTicker\"},{\"attributes\":{},\"id\":\"7e1ad493-c339-460c-9983-46da467b14fc\",\"type\":\"UnionRenderers\"}],\"root_ids\":[\"ab9db4b8-acce-474c-83ff-e835450806ef\"]},\"title\":\"Bokeh Application\",\"version\":\"0.12.16\"}};\n",
       "  var render_items = [{\"docid\":\"e00145dd-d6d0-41de-8797-f2f66ce82e3c\",\"elementid\":\"2d9ce3e9-cdfd-45b5-9082-c83dfb9e9fbd\",\"modelid\":\"ab9db4b8-acce-474c-83ff-e835450806ef\"}];\n",
       "  root.Bokeh.embed.embed_items_notebook(docs_json, render_items);\n",
       "\n",
       "  }\n",
       "  if (root.Bokeh !== undefined) {\n",
       "    embed_document(root);\n",
       "  } else {\n",
       "    var attempts = 0;\n",
       "    var timer = setInterval(function(root) {\n",
       "      if (root.Bokeh !== undefined) {\n",
       "        embed_document(root);\n",
       "        clearInterval(timer);\n",
       "      }\n",
       "      attempts++;\n",
       "      if (attempts > 100) {\n",
       "        console.log(\"Bokeh: ERROR: Unable to run BokehJS code because BokehJS library is missing\")\n",
       "        clearInterval(timer);\n",
       "      }\n",
       "    }, 10, root)\n",
       "  }\n",
       "})(window);"
      ],
      "application/vnd.bokehjs_exec.v0+json": ""
     },
     "metadata": {
      "application/vnd.bokehjs_exec.v0+json": {
       "id": "ab9db4b8-acce-474c-83ff-e835450806ef"
      }
     },
     "output_type": "display_data"
    },
    {
     "data": {
      "text/markdown": [
       "--------------------------"
      ],
      "text/plain": [
       "<IPython.core.display.Markdown object>"
      ]
     },
     "metadata": {},
     "output_type": "display_data"
    }
   ],
   "source": [
    "show_results(dlbl=data_lbl, dcli=data_cli, link=LINKS)"
   ]
  },
  {
   "cell_type": "code",
   "execution_count": null,
   "metadata": {
    "collapsed": true
   },
   "outputs": [],
   "source": []
  },
  {
   "cell_type": "code",
   "execution_count": null,
   "metadata": {
    "collapsed": true
   },
   "outputs": [],
   "source": []
  },
  {
   "cell_type": "code",
   "execution_count": null,
   "metadata": {
    "collapsed": true
   },
   "outputs": [],
   "source": []
  },
  {
   "cell_type": "code",
   "execution_count": null,
   "metadata": {
    "collapsed": true
   },
   "outputs": [],
   "source": []
  },
  {
   "cell_type": "markdown",
   "metadata": {},
   "source": [
    "## Fin"
   ]
  },
  {
   "cell_type": "code",
   "execution_count": 187,
   "metadata": {},
   "outputs": [
    {
     "data": {
      "text/html": [
       "<script>\n",
       "code_show=true; \n",
       "function code_toggle() {\n",
       " if (code_show){\n",
       " $('div.input').hide();\n",
       " } else {\n",
       " $('div.input').show();\n",
       " }\n",
       " code_show = !code_show\n",
       "} \n",
       "$( document ).ready(code_toggle);\n",
       "</script>\n",
       "<form action=\"javascript:code_toggle()\"><input type=\"submit\" value=\"Click here to toggle on/off the raw code.\"></form>"
      ],
      "text/plain": [
       "<IPython.core.display.HTML object>"
      ]
     },
     "execution_count": 187,
     "metadata": {},
     "output_type": "execute_result"
    }
   ],
   "source": [
    "display.HTML('''<script>\n",
    "code_show=true; \n",
    "function code_toggle() {\n",
    " if (code_show){\n",
    " $('div.input').hide();\n",
    " } else {\n",
    " $('div.input').show();\n",
    " }\n",
    " code_show = !code_show\n",
    "} \n",
    "$( document ).ready(code_toggle);\n",
    "</script>\n",
    "<form action=\"javascript:code_toggle()\"><input type=\"submit\" value=\"Click here to toggle on/off the raw code.\"></form>''')\n"
   ]
  },
  {
   "cell_type": "code",
   "execution_count": null,
   "metadata": {
    "collapsed": true
   },
   "outputs": [],
   "source": []
  }
 ],
 "metadata": {
  "kernelspec": {
   "display_name": "Python 3",
   "language": "python",
   "name": "python3"
  },
  "language_info": {
   "codemirror_mode": {
    "name": "ipython",
    "version": 3
   },
   "file_extension": ".py",
   "mimetype": "text/x-python",
   "name": "python",
   "nbconvert_exporter": "python",
   "pygments_lexer": "ipython3",
   "version": "3.6.7"
  }
 },
 "nbformat": 4,
 "nbformat_minor": 2
}
