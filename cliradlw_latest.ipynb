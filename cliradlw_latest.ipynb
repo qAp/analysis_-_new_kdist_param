{
 "cells": [
  {
   "cell_type": "markdown",
   "metadata": {},
   "source": [
    "# 2 x $CO_2$"
   ]
  },
  {
   "cell_type": "code",
   "execution_count": 153,
   "metadata": {
    "collapsed": true
   },
   "outputs": [],
   "source": [
    "%reload_ext autoreload\n",
    "%autoreload 2\n",
    "%matplotlib inline\n",
    "from IPython import display\n",
    "import pymongo\n",
    "\n",
    "from bokeh.io import output_notebook, show\n",
    "from bokeh.palettes import all_palettes\n",
    "\n",
    "\n",
    "from climatools.atm import *\n",
    "from climatools.plot.plot import *"
   ]
  },
  {
   "cell_type": "code",
   "execution_count": 30,
   "metadata": {
    "collapsed": true
   },
   "outputs": [],
   "source": [
    "CLIENT = pymongo.MongoClient(host='localhost', port=27017)"
   ]
  },
  {
   "cell_type": "code",
   "execution_count": 108,
   "metadata": {
    "collapsed": true
   },
   "outputs": [],
   "source": [
    "MOL = 'co2'\n",
    "CONC = 2 * 400e-6\n",
    "COMMITNUMBER = '1013f91'\n",
    "NV, DV = 1000, .001\n",
    "ATMPRO = dict(mls=294, saw=257, trp=300)"
   ]
  },
  {
   "cell_type": "markdown",
   "metadata": {},
   "source": [
    "## Atmosphere compositions\n",
    "\n",
    "We first set the concentration of CO2 to that double of the usual 4e-6 ppmv.  Then we split the overall composition into those where CO2 overlaps with other gases and those where only CO2 is present."
   ]
  },
  {
   "cell_type": "code",
   "execution_count": 13,
   "metadata": {
    "collapsed": true
   },
   "outputs": [],
   "source": [
    "atmcomp = AtmComposition.cliradlw_nongreys()\n",
    "atmcomp.gasconcs['co2'] = CONC\n",
    "atmcomp.gasinbands = {b:gs for b, gs in atmcomp.gasinbands.items() if MOL in gs}"
   ]
  },
  {
   "cell_type": "code",
   "execution_count": 14,
   "metadata": {
    "collapsed": true
   },
   "outputs": [],
   "source": [
    "atmcomps_olp = [AtmComposition(gasconcs=atmcomp.gasconcs, gasinbands={b: gs}) \n",
    "                for b, gs in atmcomp.gasinbands.items() if len(gs) > 1]"
   ]
  },
  {
   "cell_type": "code",
   "execution_count": 15,
   "metadata": {
    "collapsed": true
   },
   "outputs": [],
   "source": [
    "atmcomps_bft = [AtmComposition(gasconcs=atmcomp.gasconcs, gasinbands={b:[MOL]}) for b, _ in atmcomp.gasinbands.items()]"
   ]
  },
  {
   "cell_type": "markdown",
   "metadata": {},
   "source": [
    "## CO2 only case"
   ]
  },
  {
   "cell_type": "code",
   "execution_count": 70,
   "metadata": {
    "collapsed": true
   },
   "outputs": [],
   "source": [
    "atmpro = 'mls'"
   ]
  },
  {
   "cell_type": "code",
   "execution_count": 71,
   "metadata": {
    "collapsed": true
   },
   "outputs": [],
   "source": [
    "atmbft = atmcomps_bft[0]"
   ]
  },
  {
   "cell_type": "code",
   "execution_count": 72,
   "metadata": {
    "collapsed": true
   },
   "outputs": [],
   "source": [
    "parm_cli = atmbft.to_cliradparam(commitnumber=COMMITNUMBER, atmpro=atmpro, tsfc=ATMPRO[atmpro])"
   ]
  },
  {
   "cell_type": "code",
   "execution_count": 73,
   "metadata": {
    "collapsed": true
   },
   "outputs": [],
   "source": [
    "data_cli = parm_cli.modeldata_pymongo(collection=CLIENT.cliradnew.lw)"
   ]
  },
  {
   "cell_type": "code",
   "execution_count": 74,
   "metadata": {
    "collapsed": true
   },
   "outputs": [],
   "source": [
    "parms_lbl = atmbft.to_lblnewparam(bestfit_values=True, atmpro=atmpro, tsfc=ATMPRO[atmpro], nv=NV, dv=DV)"
   ]
  },
  {
   "cell_type": "code",
   "execution_count": 75,
   "metadata": {},
   "outputs": [
    {
     "data": {
      "text/plain": [
       "['a22ab94']"
      ]
     },
     "execution_count": 75,
     "metadata": {},
     "output_type": "execute_result"
    }
   ],
   "source": [
    "parms_lbl[0].avail_commits(collection=CLIENT.lblnew.bestfit_lw)"
   ]
  },
  {
   "cell_type": "code",
   "execution_count": 76,
   "metadata": {
    "collapsed": true
   },
   "outputs": [],
   "source": [
    "data_lbl = parms_lbl[0].modeldata_pymongo(collection=CLIENT.lblnew.bestfit_lw)"
   ]
  },
  {
   "cell_type": "code",
   "execution_count": null,
   "metadata": {
    "collapsed": true
   },
   "outputs": [],
   "source": []
  },
  {
   "cell_type": "code",
   "execution_count": 115,
   "metadata": {},
   "outputs": [
    {
     "data": {
      "text/plain": [
       "(Frozen(SortedKeysDict({'i': 1, 'band': 11, 'pressure': 76})),\n",
       " Frozen(SortedKeysDict({'i': 1, 'band': 11, 'pressure': 75})))"
      ]
     },
     "execution_count": 115,
     "metadata": {},
     "output_type": "execute_result"
    }
   ],
   "source": [
    "data_cli.wgt_flux.dims, data_cli.wgt_cool.dims"
   ]
  },
  {
   "cell_type": "code",
   "execution_count": 116,
   "metadata": {},
   "outputs": [
    {
     "data": {
      "text/plain": [
       "(Frozen(SortedKeysDict({'pressure': 76})),\n",
       " Frozen(SortedKeysDict({'pressure': 75})))"
      ]
     },
     "execution_count": 116,
     "metadata": {},
     "output_type": "execute_result"
    }
   ],
   "source": [
    "data_lbl.crd_flux.dims, data_lbl.crd_cool.dims"
   ]
  },
  {
   "cell_type": "code",
   "execution_count": 117,
   "metadata": {},
   "outputs": [
    {
     "data": {
      "text/plain": [
       "(Frozen(SortedKeysDict({'pressure': 76, 'igg': 10})),\n",
       " Frozen(SortedKeysDict({'pressure': 75, 'igg': 10})))"
      ]
     },
     "execution_count": 117,
     "metadata": {},
     "output_type": "execute_result"
    }
   ],
   "source": [
    "data_lbl.wgt_flux.dims, data_lbl.wgt_cool.dims"
   ]
  },
  {
   "cell_type": "code",
   "execution_count": null,
   "metadata": {
    "collapsed": true
   },
   "outputs": [],
   "source": []
  },
  {
   "cell_type": "code",
   "execution_count": null,
   "metadata": {
    "collapsed": true
   },
   "outputs": [],
   "source": []
  },
  {
   "cell_type": "code",
   "execution_count": null,
   "metadata": {
    "collapsed": true
   },
   "outputs": [],
   "source": []
  },
  {
   "cell_type": "code",
   "execution_count": null,
   "metadata": {
    "collapsed": true
   },
   "outputs": [],
   "source": []
  },
  {
   "cell_type": "code",
   "execution_count": null,
   "metadata": {
    "collapsed": true
   },
   "outputs": [],
   "source": []
  },
  {
   "cell_type": "code",
   "execution_count": null,
   "metadata": {
    "collapsed": true
   },
   "outputs": [],
   "source": []
  },
  {
   "cell_type": "code",
   "execution_count": null,
   "metadata": {
    "collapsed": true
   },
   "outputs": [],
   "source": []
  },
  {
   "cell_type": "markdown",
   "metadata": {},
   "source": [
    "## CO2 overlapped with other gases"
   ]
  },
  {
   "cell_type": "code",
   "execution_count": 84,
   "metadata": {
    "collapsed": true
   },
   "outputs": [],
   "source": [
    "atmpro = 'mls'"
   ]
  },
  {
   "cell_type": "code",
   "execution_count": 85,
   "metadata": {
    "collapsed": true
   },
   "outputs": [],
   "source": [
    "atmolp = atmcomps_olp[0]"
   ]
  },
  {
   "cell_type": "code",
   "execution_count": 88,
   "metadata": {},
   "outputs": [],
   "source": [
    "parm_cli = atmolp.to_cliradparam(commitnumber=COMMITNUMBER, atmpro=atmpro, tsfc=ATMPRO[atmpro])"
   ]
  },
  {
   "cell_type": "code",
   "execution_count": 89,
   "metadata": {},
   "outputs": [],
   "source": [
    "data_cli = parm_cli.modeldata_pymongo(collection=CLIENT.cliradnew.lw)"
   ]
  },
  {
   "cell_type": "code",
   "execution_count": 109,
   "metadata": {},
   "outputs": [],
   "source": [
    "parms_lbl = atmolp.to_lblnewparam(bestfit_values=True, atmpro=atmpro, tsfc=ATMPRO[atmpro], dv=DV, nv=NV)"
   ]
  },
  {
   "cell_type": "code",
   "execution_count": 144,
   "metadata": {},
   "outputs": [
    {
     "data": {
      "text/plain": [
       "[<class 'climatools.parameters.LBLnewOverlapParam'>\n",
       " atmpro: mls\n",
       " band: 3a\n",
       " commitnumber: None\n",
       " dv: 0.001\n",
       " molecule: {'h2o': 'atmpro', 'co2': 0.0008, 'n2o': 3.2e-07}\n",
       " nv: 1000\n",
       " tsfc: 294]"
      ]
     },
     "execution_count": 144,
     "metadata": {},
     "output_type": "execute_result"
    }
   ],
   "source": [
    "parms_lbl"
   ]
  },
  {
   "cell_type": "code",
   "execution_count": 110,
   "metadata": {},
   "outputs": [
    {
     "data": {
      "text/plain": [
       "['a22ab94']"
      ]
     },
     "execution_count": 110,
     "metadata": {},
     "output_type": "execute_result"
    }
   ],
   "source": [
    "parms_lbl[0].avail_commits(collection=CLIENT.lblnew.overlap_lw)"
   ]
  },
  {
   "cell_type": "code",
   "execution_count": 113,
   "metadata": {},
   "outputs": [],
   "source": [
    "data_lbl = parms_lbl[0].modeldata_pymongo(collection=CLIENT.lblnew.overlap_lw)"
   ]
  },
  {
   "cell_type": "code",
   "execution_count": 147,
   "metadata": {},
   "outputs": [
    {
     "data": {
      "text/plain": [
       "(Frozen(SortedKeysDict({'i': 1, 'band': 11, 'pressure': 76})),\n",
       " Frozen(SortedKeysDict({'i': 1, 'band': 11, 'pressure': 75})))"
      ]
     },
     "execution_count": 147,
     "metadata": {},
     "output_type": "execute_result"
    }
   ],
   "source": [
    "data_cli.wgt_flux.dims, data_cli.wgt_cool.dims"
   ]
  },
  {
   "cell_type": "code",
   "execution_count": 148,
   "metadata": {},
   "outputs": [
    {
     "data": {
      "text/plain": [
       "(Frozen(SortedKeysDict({'pressure': 76})),\n",
       " Frozen(SortedKeysDict({'pressure': 75})))"
      ]
     },
     "execution_count": 148,
     "metadata": {},
     "output_type": "execute_result"
    }
   ],
   "source": [
    "data_lbl.crd_flux.dims, data_lbl.crd_cool.dims"
   ]
  },
  {
   "cell_type": "code",
   "execution_count": 120,
   "metadata": {},
   "outputs": [
    {
     "data": {
      "text/plain": [
       "(Frozen(SortedKeysDict({'pressure': 76, 'igg': 10})),\n",
       " Frozen(SortedKeysDict({'pressure': 75, 'igg': 10})))"
      ]
     },
     "execution_count": 120,
     "metadata": {},
     "output_type": "execute_result"
    }
   ],
   "source": [
    "data_lbl.wgt_flux.dims, data_lbl.wgt_cool.dims"
   ]
  },
  {
   "cell_type": "markdown",
   "metadata": {},
   "source": [
    "### Parameter Summary"
   ]
  },
  {
   "cell_type": "code",
   "execution_count": 143,
   "metadata": {
    "scrolled": false
   },
   "outputs": [
    {
     "data": {
      "text/html": [
       "<div>\n",
       "<style scoped>\n",
       "    .dataframe tbody tr th:only-of-type {\n",
       "        vertical-align: middle;\n",
       "    }\n",
       "\n",
       "    .dataframe tbody tr th {\n",
       "        vertical-align: top;\n",
       "    }\n",
       "\n",
       "    .dataframe thead tr th {\n",
       "        text-align: left;\n",
       "    }\n",
       "</style>\n",
       "<table border=\"1\" class=\"dataframe\">\n",
       "  <thead>\n",
       "    <tr>\n",
       "      <th></th>\n",
       "      <th colspan=\"2\" halign=\"left\">Run parameters</th>\n",
       "      <th colspan=\"3\" halign=\"left\">Fit parameters</th>\n",
       "    </tr>\n",
       "    <tr>\n",
       "      <th></th>\n",
       "      <th>CLIRAD</th>\n",
       "      <th>LBLNEW</th>\n",
       "      <th>(co2, 3a)</th>\n",
       "      <th>(h2o, 3a)</th>\n",
       "      <th>(n2o, 3a)</th>\n",
       "    </tr>\n",
       "  </thead>\n",
       "  <tbody>\n",
       "    <tr>\n",
       "      <th>atmpro</th>\n",
       "      <td>mls</td>\n",
       "      <td>mls</td>\n",
       "      <td>mls</td>\n",
       "      <td>mls</td>\n",
       "      <td>mls</td>\n",
       "    </tr>\n",
       "    <tr>\n",
       "      <th>band</th>\n",
       "      <td>[3]</td>\n",
       "      <td>3a</td>\n",
       "      <td>3a</td>\n",
       "      <td>3a</td>\n",
       "      <td>3a</td>\n",
       "    </tr>\n",
       "    <tr>\n",
       "      <th>commitnumber</th>\n",
       "      <td>1013f91</td>\n",
       "      <td>a22ab94</td>\n",
       "      <td>a06b618</td>\n",
       "      <td>a06b618</td>\n",
       "      <td>a06b618</td>\n",
       "    </tr>\n",
       "    <tr>\n",
       "      <th>conc</th>\n",
       "      <td>-</td>\n",
       "      <td>-</td>\n",
       "      <td>0.0004</td>\n",
       "      <td>-</td>\n",
       "      <td>3.2e-07</td>\n",
       "    </tr>\n",
       "    <tr>\n",
       "      <th>dv</th>\n",
       "      <td>-</td>\n",
       "      <td>0.001</td>\n",
       "      <td>0.001</td>\n",
       "      <td>0.001</td>\n",
       "      <td>0.001</td>\n",
       "    </tr>\n",
       "    <tr>\n",
       "      <th>klin</th>\n",
       "      <td>-</td>\n",
       "      <td>-</td>\n",
       "      <td>6.37556e-24</td>\n",
       "      <td>0</td>\n",
       "      <td>2.22e-20</td>\n",
       "    </tr>\n",
       "    <tr>\n",
       "      <th>molecule</th>\n",
       "      <td>{'h2o': 'atmpro', 'co2': 0.0008, 'n2o': 3.2e-07}</td>\n",
       "      <td>{'co2': 0.0008, 'h2o': 'atmpro', 'n2o': 3.2e-07}</td>\n",
       "      <td>co2</td>\n",
       "      <td>h2o</td>\n",
       "      <td>n2o</td>\n",
       "    </tr>\n",
       "    <tr>\n",
       "      <th>ng_adju</th>\n",
       "      <td>-</td>\n",
       "      <td>-</td>\n",
       "      <td>[0, 0, 0]</td>\n",
       "      <td>[0, 0]</td>\n",
       "      <td>[0, 0]</td>\n",
       "    </tr>\n",
       "    <tr>\n",
       "      <th>ng_refs</th>\n",
       "      <td>-</td>\n",
       "      <td>-</td>\n",
       "      <td>[3, 2, 4]</td>\n",
       "      <td>[2, 6]</td>\n",
       "      <td>[1, 2]</td>\n",
       "    </tr>\n",
       "    <tr>\n",
       "      <th>nv</th>\n",
       "      <td>-</td>\n",
       "      <td>1000</td>\n",
       "      <td>1000</td>\n",
       "      <td>1000</td>\n",
       "      <td>1000</td>\n",
       "    </tr>\n",
       "    <tr>\n",
       "      <th>option_compute_btable</th>\n",
       "      <td>-</td>\n",
       "      <td>-</td>\n",
       "      <td>0</td>\n",
       "      <td>0</td>\n",
       "      <td>0</td>\n",
       "    </tr>\n",
       "    <tr>\n",
       "      <th>option_compute_ktable</th>\n",
       "      <td>-</td>\n",
       "      <td>-</td>\n",
       "      <td>1</td>\n",
       "      <td>1</td>\n",
       "      <td>1</td>\n",
       "    </tr>\n",
       "    <tr>\n",
       "      <th>option_wgt_flux</th>\n",
       "      <td>-</td>\n",
       "      <td>-</td>\n",
       "      <td>1</td>\n",
       "      <td>1</td>\n",
       "      <td>1</td>\n",
       "    </tr>\n",
       "    <tr>\n",
       "      <th>option_wgt_k</th>\n",
       "      <td>-</td>\n",
       "      <td>-</td>\n",
       "      <td>1</td>\n",
       "      <td>1</td>\n",
       "      <td>1</td>\n",
       "    </tr>\n",
       "    <tr>\n",
       "      <th>ref_pts</th>\n",
       "      <td>-</td>\n",
       "      <td>-</td>\n",
       "      <td>[(1, 250), (10, 250), (500, 250)]</td>\n",
       "      <td>[(10, 250), (600, 250)]</td>\n",
       "      <td>[(1, 250), (500, 250)]</td>\n",
       "    </tr>\n",
       "    <tr>\n",
       "      <th>tsfc</th>\n",
       "      <td>294</td>\n",
       "      <td>294</td>\n",
       "      <td>294</td>\n",
       "      <td>294</td>\n",
       "      <td>294</td>\n",
       "    </tr>\n",
       "    <tr>\n",
       "      <th>vmax</th>\n",
       "      <td>-</td>\n",
       "      <td>-</td>\n",
       "      <td>620</td>\n",
       "      <td>620</td>\n",
       "      <td>620</td>\n",
       "    </tr>\n",
       "    <tr>\n",
       "      <th>vmin</th>\n",
       "      <td>-</td>\n",
       "      <td>-</td>\n",
       "      <td>540</td>\n",
       "      <td>540</td>\n",
       "      <td>540</td>\n",
       "    </tr>\n",
       "    <tr>\n",
       "      <th>w_diffuse</th>\n",
       "      <td>-</td>\n",
       "      <td>-</td>\n",
       "      <td>[(1.6, 1.6, 1.7), (1.75, 1.75), (1.55, 1.55, 1...</td>\n",
       "      <td>[(1.9, 1.7), (1.4, 1.4, 1.4, 1.55, 1.6, 1.66)]</td>\n",
       "      <td>[(1.8,), (1.66, 1.8)]</td>\n",
       "    </tr>\n",
       "    <tr>\n",
       "      <th>wgt</th>\n",
       "      <td>-</td>\n",
       "      <td>-</td>\n",
       "      <td>[(0.7, 0.3, 0.7), (0.7, 0.6), (0.4, 0.5, 0.8, ...</td>\n",
       "      <td>[(0.7, 0.7), (0.7, 0.5, 0.5, 0.5, 0.5, 0.5)]</td>\n",
       "      <td>[(0.9,), (0.5, 0.95)]</td>\n",
       "    </tr>\n",
       "  </tbody>\n",
       "</table>\n",
       "</div>"
      ],
      "text/plain": [
       "                                                         Run parameters  \\\n",
       "                                                                 CLIRAD   \n",
       "atmpro                                                              mls   \n",
       "band                                                                [3]   \n",
       "commitnumber                                                    1013f91   \n",
       "conc                                                                  -   \n",
       "dv                                                                    -   \n",
       "klin                                                                  -   \n",
       "molecule               {'h2o': 'atmpro', 'co2': 0.0008, 'n2o': 3.2e-07}   \n",
       "ng_adju                                                               -   \n",
       "ng_refs                                                               -   \n",
       "nv                                                                    -   \n",
       "option_compute_btable                                                 -   \n",
       "option_compute_ktable                                                 -   \n",
       "option_wgt_flux                                                       -   \n",
       "option_wgt_k                                                          -   \n",
       "ref_pts                                                               -   \n",
       "tsfc                                                                294   \n",
       "vmax                                                                  -   \n",
       "vmin                                                                  -   \n",
       "w_diffuse                                                             -   \n",
       "wgt                                                                   -   \n",
       "\n",
       "                                                                         \\\n",
       "                                                                 LBLNEW   \n",
       "atmpro                                                              mls   \n",
       "band                                                                 3a   \n",
       "commitnumber                                                    a22ab94   \n",
       "conc                                                                  -   \n",
       "dv                                                                0.001   \n",
       "klin                                                                  -   \n",
       "molecule               {'co2': 0.0008, 'h2o': 'atmpro', 'n2o': 3.2e-07}   \n",
       "ng_adju                                                               -   \n",
       "ng_refs                                                               -   \n",
       "nv                                                                 1000   \n",
       "option_compute_btable                                                 -   \n",
       "option_compute_ktable                                                 -   \n",
       "option_wgt_flux                                                       -   \n",
       "option_wgt_k                                                          -   \n",
       "ref_pts                                                               -   \n",
       "tsfc                                                                294   \n",
       "vmax                                                                  -   \n",
       "vmin                                                                  -   \n",
       "w_diffuse                                                             -   \n",
       "wgt                                                                   -   \n",
       "\n",
       "                                                          Fit parameters  \\\n",
       "                                                               (co2, 3a)   \n",
       "atmpro                                                               mls   \n",
       "band                                                                  3a   \n",
       "commitnumber                                                     a06b618   \n",
       "conc                                                              0.0004   \n",
       "dv                                                                 0.001   \n",
       "klin                                                         6.37556e-24   \n",
       "molecule                                                             co2   \n",
       "ng_adju                                                        [0, 0, 0]   \n",
       "ng_refs                                                        [3, 2, 4]   \n",
       "nv                                                                  1000   \n",
       "option_compute_btable                                                  0   \n",
       "option_compute_ktable                                                  1   \n",
       "option_wgt_flux                                                        1   \n",
       "option_wgt_k                                                           1   \n",
       "ref_pts                                [(1, 250), (10, 250), (500, 250)]   \n",
       "tsfc                                                                 294   \n",
       "vmax                                                                 620   \n",
       "vmin                                                                 540   \n",
       "w_diffuse              [(1.6, 1.6, 1.7), (1.75, 1.75), (1.55, 1.55, 1...   \n",
       "wgt                    [(0.7, 0.3, 0.7), (0.7, 0.6), (0.4, 0.5, 0.8, ...   \n",
       "\n",
       "                                                                       \\\n",
       "                                                            (h2o, 3a)   \n",
       "atmpro                                                            mls   \n",
       "band                                                               3a   \n",
       "commitnumber                                                  a06b618   \n",
       "conc                                                                -   \n",
       "dv                                                              0.001   \n",
       "klin                                                                0   \n",
       "molecule                                                          h2o   \n",
       "ng_adju                                                        [0, 0]   \n",
       "ng_refs                                                        [2, 6]   \n",
       "nv                                                               1000   \n",
       "option_compute_btable                                               0   \n",
       "option_compute_ktable                                               1   \n",
       "option_wgt_flux                                                     1   \n",
       "option_wgt_k                                                        1   \n",
       "ref_pts                                       [(10, 250), (600, 250)]   \n",
       "tsfc                                                              294   \n",
       "vmax                                                              620   \n",
       "vmin                                                              540   \n",
       "w_diffuse              [(1.9, 1.7), (1.4, 1.4, 1.4, 1.55, 1.6, 1.66)]   \n",
       "wgt                      [(0.7, 0.7), (0.7, 0.5, 0.5, 0.5, 0.5, 0.5)]   \n",
       "\n",
       "                                               \n",
       "                                    (n2o, 3a)  \n",
       "atmpro                                    mls  \n",
       "band                                       3a  \n",
       "commitnumber                          a06b618  \n",
       "conc                                  3.2e-07  \n",
       "dv                                      0.001  \n",
       "klin                                 2.22e-20  \n",
       "molecule                                  n2o  \n",
       "ng_adju                                [0, 0]  \n",
       "ng_refs                                [1, 2]  \n",
       "nv                                       1000  \n",
       "option_compute_btable                       0  \n",
       "option_compute_ktable                       1  \n",
       "option_wgt_flux                             1  \n",
       "option_wgt_k                                1  \n",
       "ref_pts                [(1, 250), (500, 250)]  \n",
       "tsfc                                      294  \n",
       "vmax                                      620  \n",
       "vmin                                      540  \n",
       "w_diffuse               [(1.8,), (1.66, 1.8)]  \n",
       "wgt                     [(0.9,), (0.5, 0.95)]  "
      ]
     },
     "execution_count": 143,
     "metadata": {},
     "output_type": "execute_result"
    }
   ],
   "source": [
    "gs = data_lbl.param['molecule'].keys() if isinstance(data_lbl.param['molecule'], dict) else [data_lbl.param['molecule']]\n",
    "ps_cliradfit = {f\"({g}, {data_lbl.param['band']})\": kdist_params(molecule=g, band=data_lbl.param['band']) for g in gs}\n",
    "fitparams = pd.DataFrame({molgas: pd.Series(p) for molgas, p in ps_cliradfit.items()})\n",
    "runparams = pd.concat([pd.Series(data_cli.param), pd.Series(data_lbl.param)], axis=1, sort=True, keys=['CLIRAD', 'LBLNEW'])\n",
    "pd.concat([runparams, fitparams], axis=1, sort=True, keys=['Run parameters', 'Fit parameters']).fillna('-')"
   ]
  },
  {
   "cell_type": "markdown",
   "metadata": {},
   "source": [
    "### Cooling Rate Profiles"
   ]
  },
  {
   "cell_type": "code",
   "execution_count": 164,
   "metadata": {},
   "outputs": [],
   "source": [
    "def pltdata_cool(dlbl=None, dcli=None):\n",
    "    colors = all_palettes['Set1'][4]\n",
    "    \n",
    "    igg = 10\n",
    "    cool_cli = dcli.wgt_cool['coolrg'].sel(i=1).sum('band')\n",
    "    cool_crd = dlbl.crd_cool['coolrg']\n",
    "    cool_wgt_igg = dlbl.wgt_cool['coolrg'].sel(igg=10)\n",
    "    \n",
    "    data = [{'label':'CLIRAD', 'srs':cool_cli,\n",
    "             'line_dash':'dashed', 'line_width':5,\n",
    "             'color':colors[0], 'alpha':.6},\n",
    "            {'label':'CRD', 'srs':cool_crd,\n",
    "             'line_dash':'solid', 'line_width':1.5,\n",
    "             'marker':'circle', 'marker_size':5,\n",
    "             'color':colors[2], 'alpha':1},\n",
    "            {'label':f'WGT igg={igg}', 'srs':cool_wgt_igg,\n",
    "             'line_dash':'solid', 'line_width':4,\n",
    "             'color':colors[3], 'alpha':.3}]\n",
    "    return data"
   ]
  },
  {
   "cell_type": "code",
   "execution_count": null,
   "metadata": {
    "collapsed": true
   },
   "outputs": [],
   "source": [
    "plt_vert_profile_bokehvert_profile_bokehvert_profile_bokehvert_profile_bokehvert_profile_bokeh"
   ]
  },
  {
   "cell_type": "code",
   "execution_count": 165,
   "metadata": {},
   "outputs": [
    {
     "data": {
      "text/plain": [
       "[{'alpha': 0.6,\n",
       "  'color': '#e41a1c',\n",
       "  'label': 'CLIRAD',\n",
       "  'line_dash': 'dashed',\n",
       "  'line_width': 5,\n",
       "  'srs': <xarray.DataArray 'coolrg' (pressure: 75)>\n",
       "  array([0.631966, 0.638152, 0.659324, 0.680961, 0.700525, 0.717363, 0.729588,\n",
       "         0.735686, 0.732453, 0.716947, 0.684202, 0.628396, 0.54365 , 0.424492,\n",
       "         0.317688, 0.303045, 0.342646, 0.358391, 0.387386, 0.475624, 0.634482,\n",
       "         0.874311, 1.105994, 1.067017, 0.847757, 0.677875, 0.555427, 0.445406,\n",
       "         0.352355, 0.273927, 0.205073, 0.143538, 0.110493, 0.100442, 0.085924,\n",
       "         0.062564, 0.045002, 0.034924, 0.019362, 0.003109, 0.006853, 0.032724,\n",
       "         0.060553, 0.087916, 0.114007, 0.132111, 0.148505, 0.16353 , 0.177253,\n",
       "         0.191506, 0.207264, 0.220938, 0.232367, 0.241548, 0.24943 , 0.256667,\n",
       "         0.264225, 0.279609, 0.293608, 0.303986, 0.310101, 0.311351, 0.309374,\n",
       "         0.305119, 0.29931 , 0.292636, 0.284216, 0.271401, 0.252358, 0.22712 ,\n",
       "         0.200064, 0.175363, 0.1554  , 0.144344, 0.165859])\n",
       "  Coordinates:\n",
       "      i         int64 1\n",
       "    * pressure  (pressure) float64 0.0003122 0.0007501 ... 977.3 1.001e+03\n",
       "      layer     (pressure) int64 1 2 3 4 5 6 7 8 9 ... 67 68 69 70 71 72 73 74 75},\n",
       " {'alpha': 1,\n",
       "  'color': '#4daf4a',\n",
       "  'label': 'CRD',\n",
       "  'line_dash': 'solid',\n",
       "  'line_width': 1.5,\n",
       "  'marker': 'circle',\n",
       "  'marker_size': 5,\n",
       "  'srs': <xarray.DataArray 'coolrg' (pressure: 75)>\n",
       "  array([0.909378, 0.893871, 0.910228, 0.922749, 0.928228, 0.924543, 0.909292,\n",
       "         0.880342, 0.835394, 0.772643, 0.691017, 0.590346, 0.470824, 0.331244,\n",
       "         0.225291, 0.241674, 0.332043, 0.401726, 0.47061 , 0.563783, 0.700555,\n",
       "         0.918013, 1.158462, 1.122403, 0.877946, 0.679047, 0.530507, 0.415578,\n",
       "         0.329424, 0.262871, 0.204403, 0.152256, 0.117321, 0.096878, 0.075997,\n",
       "         0.05344 , 0.039554, 0.032254, 0.018849, 0.004194, 0.008394, 0.03467 ,\n",
       "         0.064046, 0.093927, 0.122913, 0.141154, 0.156591, 0.172693, 0.189028,\n",
       "         0.205225, 0.220868, 0.233144, 0.243653, 0.253573, 0.262861, 0.271475,\n",
       "         0.279541, 0.295092, 0.307655, 0.315154, 0.317909, 0.316098, 0.310423,\n",
       "         0.301642, 0.290579, 0.278198, 0.264743, 0.248875, 0.228697, 0.204634,\n",
       "         0.179939, 0.157881, 0.140513, 0.130802, 0.155169])\n",
       "  Coordinates:\n",
       "    * pressure  (pressure) float64 0.0003122 0.0007501 ... 977.3 1.001e+03\n",
       "      layer     (pressure) int64 1 2 3 4 5 6 7 8 9 ... 67 68 69 70 71 72 73 74 75},\n",
       " {'alpha': 0.3,\n",
       "  'color': '#984ea3',\n",
       "  'label': 'WGT igg=10',\n",
       "  'line_dash': 'solid',\n",
       "  'line_width': 4,\n",
       "  'srs': <xarray.DataArray 'coolrg' (pressure: 75)>\n",
       "  array([0.622012, 0.627971, 0.648921, 0.67021 , 0.689705, 0.706371, 0.718794,\n",
       "         0.725023, 0.722416, 0.707459, 0.675658, 0.621543, 0.538811, 0.422234,\n",
       "         0.317378, 0.303225, 0.342283, 0.356732, 0.384724, 0.473603, 0.633496,\n",
       "         0.866861, 1.09463 , 1.059576, 0.840444, 0.673118, 0.550531, 0.443027,\n",
       "         0.349208, 0.271499, 0.20267 , 0.141885, 0.109028, 0.099349, 0.085175,\n",
       "         0.062222, 0.044943, 0.034983, 0.019575, 0.003329, 0.007009, 0.03265 ,\n",
       "         0.060184, 0.08736 , 0.113226, 0.131405, 0.147817, 0.162875, 0.176617,\n",
       "         0.1909  , 0.206559, 0.220327, 0.231804, 0.241244, 0.249076, 0.256286,\n",
       "         0.263886, 0.279389, 0.293607, 0.303923, 0.309818, 0.311266, 0.309371,\n",
       "         0.305394, 0.30013 , 0.293778, 0.285442, 0.272846, 0.253769, 0.228886,\n",
       "         0.202068, 0.177421, 0.157794, 0.146524, 0.1678  ])\n",
       "  Coordinates:\n",
       "    * pressure  (pressure) float64 0.0003122 0.0007501 ... 977.3 1.001e+03\n",
       "      igg       int64 10\n",
       "      layer     (pressure) int64 1 2 3 4 5 6 7 8 9 ... 67 68 69 70 71 72 73 74 75}]"
      ]
     },
     "execution_count": 165,
     "metadata": {},
     "output_type": "execute_result"
    }
   ],
   "source": [
    "pltdata_cool(dlbl=data_lbl, dcli=data_cli)"
   ]
  },
  {
   "cell_type": "code",
   "execution_count": 163,
   "metadata": {},
   "outputs": [
    {
     "data": {
      "text/plain": [
       "<xarray.DataArray 'coolrg' (pressure: 75)>\n",
       "array([0.631966, 0.638152, 0.659324, 0.680961, 0.700525, 0.717363, 0.729588,\n",
       "       0.735686, 0.732453, 0.716947, 0.684202, 0.628396, 0.54365 , 0.424492,\n",
       "       0.317688, 0.303045, 0.342646, 0.358391, 0.387386, 0.475624, 0.634482,\n",
       "       0.874311, 1.105994, 1.067017, 0.847757, 0.677875, 0.555427, 0.445406,\n",
       "       0.352355, 0.273927, 0.205073, 0.143538, 0.110493, 0.100442, 0.085924,\n",
       "       0.062564, 0.045002, 0.034924, 0.019362, 0.003109, 0.006853, 0.032724,\n",
       "       0.060553, 0.087916, 0.114007, 0.132111, 0.148505, 0.16353 , 0.177253,\n",
       "       0.191506, 0.207264, 0.220938, 0.232367, 0.241548, 0.24943 , 0.256667,\n",
       "       0.264225, 0.279609, 0.293608, 0.303986, 0.310101, 0.311351, 0.309374,\n",
       "       0.305119, 0.29931 , 0.292636, 0.284216, 0.271401, 0.252358, 0.22712 ,\n",
       "       0.200064, 0.175363, 0.1554  , 0.144344, 0.165859])\n",
       "Coordinates:\n",
       "    i         int64 1\n",
       "  * pressure  (pressure) float64 0.0003122 0.0007501 ... 977.3 1.001e+03\n",
       "    layer     (pressure) int64 1 2 3 4 5 6 7 8 9 ... 67 68 69 70 71 72 73 74 75"
      ]
     },
     "execution_count": 163,
     "metadata": {},
     "output_type": "execute_result"
    }
   ],
   "source": [
    "data_cli.wgt_cool['coolrg'].sel(i=1).sum('band')"
   ]
  },
  {
   "cell_type": "code",
   "execution_count": null,
   "metadata": {
    "collapsed": true
   },
   "outputs": [],
   "source": []
  },
  {
   "cell_type": "code",
   "execution_count": null,
   "metadata": {
    "collapsed": true
   },
   "outputs": [],
   "source": []
  },
  {
   "cell_type": "code",
   "execution_count": null,
   "metadata": {
    "collapsed": true
   },
   "outputs": [],
   "source": []
  },
  {
   "cell_type": "code",
   "execution_count": null,
   "metadata": {
    "collapsed": true
   },
   "outputs": [],
   "source": []
  },
  {
   "cell_type": "code",
   "execution_count": null,
   "metadata": {
    "collapsed": true
   },
   "outputs": [],
   "source": []
  },
  {
   "cell_type": "code",
   "execution_count": null,
   "metadata": {
    "collapsed": true
   },
   "outputs": [],
   "source": []
  },
  {
   "cell_type": "code",
   "execution_count": null,
   "metadata": {
    "collapsed": true
   },
   "outputs": [],
   "source": []
  },
  {
   "cell_type": "markdown",
   "metadata": {},
   "source": [
    "## Fin"
   ]
  },
  {
   "cell_type": "code",
   "execution_count": null,
   "metadata": {
    "collapsed": true
   },
   "outputs": [],
   "source": []
  }
 ],
 "metadata": {
  "kernelspec": {
   "display_name": "Python 3",
   "language": "python",
   "name": "python3"
  },
  "language_info": {
   "codemirror_mode": {
    "name": "ipython",
    "version": 3
   },
   "file_extension": ".py",
   "mimetype": "text/x-python",
   "name": "python",
   "nbconvert_exporter": "python",
   "pygments_lexer": "ipython3",
   "version": "3.6.7"
  }
 },
 "nbformat": 4,
 "nbformat_minor": 2
}
