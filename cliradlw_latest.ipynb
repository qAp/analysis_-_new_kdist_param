{
 "cells": [
  {
   "cell_type": "code",
   "execution_count": 1,
   "metadata": {},
   "outputs": [
    {
     "data": {
      "text/html": [
       "\n",
       "    <div class=\"bk-root\">\n",
       "        <a href=\"https://bokeh.pydata.org\" target=\"_blank\" class=\"bk-logo bk-logo-small bk-logo-notebook\"></a>\n",
       "        <span id=\"b5c2050d-5fb4-4567-ac00-4f9cd5b78344\">Loading BokehJS ...</span>\n",
       "    </div>"
      ]
     },
     "metadata": {},
     "output_type": "display_data"
    },
    {
     "data": {
      "application/javascript": [
       "\n",
       "(function(root) {\n",
       "  function now() {\n",
       "    return new Date();\n",
       "  }\n",
       "\n",
       "  var force = true;\n",
       "\n",
       "  if (typeof (root._bokeh_onload_callbacks) === \"undefined\" || force === true) {\n",
       "    root._bokeh_onload_callbacks = [];\n",
       "    root._bokeh_is_loading = undefined;\n",
       "  }\n",
       "\n",
       "  var JS_MIME_TYPE = 'application/javascript';\n",
       "  var HTML_MIME_TYPE = 'text/html';\n",
       "  var EXEC_MIME_TYPE = 'application/vnd.bokehjs_exec.v0+json';\n",
       "  var CLASS_NAME = 'output_bokeh rendered_html';\n",
       "\n",
       "  /**\n",
       "   * Render data to the DOM node\n",
       "   */\n",
       "  function render(props, node) {\n",
       "    var script = document.createElement(\"script\");\n",
       "    node.appendChild(script);\n",
       "  }\n",
       "\n",
       "  /**\n",
       "   * Handle when an output is cleared or removed\n",
       "   */\n",
       "  function handleClearOutput(event, handle) {\n",
       "    var cell = handle.cell;\n",
       "\n",
       "    var id = cell.output_area._bokeh_element_id;\n",
       "    var server_id = cell.output_area._bokeh_server_id;\n",
       "    // Clean up Bokeh references\n",
       "    if (id !== undefined) {\n",
       "      Bokeh.index[id].model.document.clear();\n",
       "      delete Bokeh.index[id];\n",
       "    }\n",
       "\n",
       "    if (server_id !== undefined) {\n",
       "      // Clean up Bokeh references\n",
       "      var cmd = \"from bokeh.io.state import curstate; print(curstate().uuid_to_server['\" + server_id + \"'].get_sessions()[0].document.roots[0]._id)\";\n",
       "      cell.notebook.kernel.execute(cmd, {\n",
       "        iopub: {\n",
       "          output: function(msg) {\n",
       "            var element_id = msg.content.text.trim();\n",
       "            Bokeh.index[element_id].model.document.clear();\n",
       "            delete Bokeh.index[element_id];\n",
       "          }\n",
       "        }\n",
       "      });\n",
       "      // Destroy server and session\n",
       "      var cmd = \"import bokeh.io.notebook as ion; ion.destroy_server('\" + server_id + \"')\";\n",
       "      cell.notebook.kernel.execute(cmd);\n",
       "    }\n",
       "  }\n",
       "\n",
       "  /**\n",
       "   * Handle when a new output is added\n",
       "   */\n",
       "  function handleAddOutput(event, handle) {\n",
       "    var output_area = handle.output_area;\n",
       "    var output = handle.output;\n",
       "\n",
       "    // limit handleAddOutput to display_data with EXEC_MIME_TYPE content only\n",
       "    if ((output.output_type != \"display_data\") || (!output.data.hasOwnProperty(EXEC_MIME_TYPE))) {\n",
       "      return\n",
       "    }\n",
       "\n",
       "    var toinsert = output_area.element.find(\".\" + CLASS_NAME.split(' ')[0]);\n",
       "\n",
       "    if (output.metadata[EXEC_MIME_TYPE][\"id\"] !== undefined) {\n",
       "      toinsert[toinsert.length - 1].firstChild.textContent = output.data[JS_MIME_TYPE];\n",
       "      // store reference to embed id on output_area\n",
       "      output_area._bokeh_element_id = output.metadata[EXEC_MIME_TYPE][\"id\"];\n",
       "    }\n",
       "    if (output.metadata[EXEC_MIME_TYPE][\"server_id\"] !== undefined) {\n",
       "      var bk_div = document.createElement(\"div\");\n",
       "      bk_div.innerHTML = output.data[HTML_MIME_TYPE];\n",
       "      var script_attrs = bk_div.children[0].attributes;\n",
       "      for (var i = 0; i < script_attrs.length; i++) {\n",
       "        toinsert[toinsert.length - 1].firstChild.setAttribute(script_attrs[i].name, script_attrs[i].value);\n",
       "      }\n",
       "      // store reference to server id on output_area\n",
       "      output_area._bokeh_server_id = output.metadata[EXEC_MIME_TYPE][\"server_id\"];\n",
       "    }\n",
       "  }\n",
       "\n",
       "  function register_renderer(events, OutputArea) {\n",
       "\n",
       "    function append_mime(data, metadata, element) {\n",
       "      // create a DOM node to render to\n",
       "      var toinsert = this.create_output_subarea(\n",
       "        metadata,\n",
       "        CLASS_NAME,\n",
       "        EXEC_MIME_TYPE\n",
       "      );\n",
       "      this.keyboard_manager.register_events(toinsert);\n",
       "      // Render to node\n",
       "      var props = {data: data, metadata: metadata[EXEC_MIME_TYPE]};\n",
       "      render(props, toinsert[toinsert.length - 1]);\n",
       "      element.append(toinsert);\n",
       "      return toinsert\n",
       "    }\n",
       "\n",
       "    /* Handle when an output is cleared or removed */\n",
       "    events.on('clear_output.CodeCell', handleClearOutput);\n",
       "    events.on('delete.Cell', handleClearOutput);\n",
       "\n",
       "    /* Handle when a new output is added */\n",
       "    events.on('output_added.OutputArea', handleAddOutput);\n",
       "\n",
       "    /**\n",
       "     * Register the mime type and append_mime function with output_area\n",
       "     */\n",
       "    OutputArea.prototype.register_mime_type(EXEC_MIME_TYPE, append_mime, {\n",
       "      /* Is output safe? */\n",
       "      safe: true,\n",
       "      /* Index of renderer in `output_area.display_order` */\n",
       "      index: 0\n",
       "    });\n",
       "  }\n",
       "\n",
       "  // register the mime type if in Jupyter Notebook environment and previously unregistered\n",
       "  if (root.Jupyter !== undefined) {\n",
       "    var events = require('base/js/events');\n",
       "    var OutputArea = require('notebook/js/outputarea').OutputArea;\n",
       "\n",
       "    if (OutputArea.prototype.mime_types().indexOf(EXEC_MIME_TYPE) == -1) {\n",
       "      register_renderer(events, OutputArea);\n",
       "    }\n",
       "  }\n",
       "\n",
       "  \n",
       "  if (typeof (root._bokeh_timeout) === \"undefined\" || force === true) {\n",
       "    root._bokeh_timeout = Date.now() + 5000;\n",
       "    root._bokeh_failed_load = false;\n",
       "  }\n",
       "\n",
       "  var NB_LOAD_WARNING = {'data': {'text/html':\n",
       "     \"<div style='background-color: #fdd'>\\n\"+\n",
       "     \"<p>\\n\"+\n",
       "     \"BokehJS does not appear to have successfully loaded. If loading BokehJS from CDN, this \\n\"+\n",
       "     \"may be due to a slow or bad network connection. Possible fixes:\\n\"+\n",
       "     \"</p>\\n\"+\n",
       "     \"<ul>\\n\"+\n",
       "     \"<li>re-rerun `output_notebook()` to attempt to load from CDN again, or</li>\\n\"+\n",
       "     \"<li>use INLINE resources instead, as so:</li>\\n\"+\n",
       "     \"</ul>\\n\"+\n",
       "     \"<code>\\n\"+\n",
       "     \"from bokeh.resources import INLINE\\n\"+\n",
       "     \"output_notebook(resources=INLINE)\\n\"+\n",
       "     \"</code>\\n\"+\n",
       "     \"</div>\"}};\n",
       "\n",
       "  function display_loaded() {\n",
       "    var el = document.getElementById(\"b5c2050d-5fb4-4567-ac00-4f9cd5b78344\");\n",
       "    if (el != null) {\n",
       "      el.textContent = \"BokehJS is loading...\";\n",
       "    }\n",
       "    if (root.Bokeh !== undefined) {\n",
       "      if (el != null) {\n",
       "        el.textContent = \"BokehJS \" + root.Bokeh.version + \" successfully loaded.\";\n",
       "      }\n",
       "    } else if (Date.now() < root._bokeh_timeout) {\n",
       "      setTimeout(display_loaded, 100)\n",
       "    }\n",
       "  }\n",
       "\n",
       "\n",
       "  function run_callbacks() {\n",
       "    try {\n",
       "      root._bokeh_onload_callbacks.forEach(function(callback) { callback() });\n",
       "    }\n",
       "    finally {\n",
       "      delete root._bokeh_onload_callbacks\n",
       "    }\n",
       "    console.info(\"Bokeh: all callbacks have finished\");\n",
       "  }\n",
       "\n",
       "  function load_libs(js_urls, callback) {\n",
       "    root._bokeh_onload_callbacks.push(callback);\n",
       "    if (root._bokeh_is_loading > 0) {\n",
       "      console.log(\"Bokeh: BokehJS is being loaded, scheduling callback at\", now());\n",
       "      return null;\n",
       "    }\n",
       "    if (js_urls == null || js_urls.length === 0) {\n",
       "      run_callbacks();\n",
       "      return null;\n",
       "    }\n",
       "    console.log(\"Bokeh: BokehJS not loaded, scheduling load and callback at\", now());\n",
       "    root._bokeh_is_loading = js_urls.length;\n",
       "    for (var i = 0; i < js_urls.length; i++) {\n",
       "      var url = js_urls[i];\n",
       "      var s = document.createElement('script');\n",
       "      s.src = url;\n",
       "      s.async = false;\n",
       "      s.onreadystatechange = s.onload = function() {\n",
       "        root._bokeh_is_loading--;\n",
       "        if (root._bokeh_is_loading === 0) {\n",
       "          console.log(\"Bokeh: all BokehJS libraries loaded\");\n",
       "          run_callbacks()\n",
       "        }\n",
       "      };\n",
       "      s.onerror = function() {\n",
       "        console.warn(\"failed to load library \" + url);\n",
       "      };\n",
       "      console.log(\"Bokeh: injecting script tag for BokehJS library: \", url);\n",
       "      document.getElementsByTagName(\"head\")[0].appendChild(s);\n",
       "    }\n",
       "  };var element = document.getElementById(\"b5c2050d-5fb4-4567-ac00-4f9cd5b78344\");\n",
       "  if (element == null) {\n",
       "    console.log(\"Bokeh: ERROR: autoload.js configured with elementid 'b5c2050d-5fb4-4567-ac00-4f9cd5b78344' but no matching script tag was found. \")\n",
       "    return false;\n",
       "  }\n",
       "\n",
       "  var js_urls = [\"https://cdn.pydata.org/bokeh/release/bokeh-0.12.16.min.js\", \"https://cdn.pydata.org/bokeh/release/bokeh-widgets-0.12.16.min.js\", \"https://cdn.pydata.org/bokeh/release/bokeh-tables-0.12.16.min.js\", \"https://cdn.pydata.org/bokeh/release/bokeh-gl-0.12.16.min.js\"];\n",
       "\n",
       "  var inline_js = [\n",
       "    function(Bokeh) {\n",
       "      Bokeh.set_log_level(\"info\");\n",
       "    },\n",
       "    \n",
       "    function(Bokeh) {\n",
       "      \n",
       "    },\n",
       "    function(Bokeh) {\n",
       "      console.log(\"Bokeh: injecting CSS: https://cdn.pydata.org/bokeh/release/bokeh-0.12.16.min.css\");\n",
       "      Bokeh.embed.inject_css(\"https://cdn.pydata.org/bokeh/release/bokeh-0.12.16.min.css\");\n",
       "      console.log(\"Bokeh: injecting CSS: https://cdn.pydata.org/bokeh/release/bokeh-widgets-0.12.16.min.css\");\n",
       "      Bokeh.embed.inject_css(\"https://cdn.pydata.org/bokeh/release/bokeh-widgets-0.12.16.min.css\");\n",
       "      console.log(\"Bokeh: injecting CSS: https://cdn.pydata.org/bokeh/release/bokeh-tables-0.12.16.min.css\");\n",
       "      Bokeh.embed.inject_css(\"https://cdn.pydata.org/bokeh/release/bokeh-tables-0.12.16.min.css\");\n",
       "    }\n",
       "  ];\n",
       "\n",
       "  function run_inline_js() {\n",
       "    \n",
       "    if ((root.Bokeh !== undefined) || (force === true)) {\n",
       "      for (var i = 0; i < inline_js.length; i++) {\n",
       "        inline_js[i].call(root, root.Bokeh);\n",
       "      }if (force === true) {\n",
       "        display_loaded();\n",
       "      }} else if (Date.now() < root._bokeh_timeout) {\n",
       "      setTimeout(run_inline_js, 100);\n",
       "    } else if (!root._bokeh_failed_load) {\n",
       "      console.log(\"Bokeh: BokehJS failed to load within specified timeout.\");\n",
       "      root._bokeh_failed_load = true;\n",
       "    } else if (force !== true) {\n",
       "      var cell = $(document.getElementById(\"b5c2050d-5fb4-4567-ac00-4f9cd5b78344\")).parents('.cell').data().cell;\n",
       "      cell.output_area.append_execute_result(NB_LOAD_WARNING)\n",
       "    }\n",
       "\n",
       "  }\n",
       "\n",
       "  if (root._bokeh_is_loading === 0) {\n",
       "    console.log(\"Bokeh: BokehJS loaded, going straight to plotting\");\n",
       "    run_inline_js();\n",
       "  } else {\n",
       "    load_libs(js_urls, function() {\n",
       "      console.log(\"Bokeh: BokehJS plotting callback run at\", now());\n",
       "      run_inline_js();\n",
       "    });\n",
       "  }\n",
       "}(window));"
      ],
      "application/vnd.bokehjs_load.v0+json": "\n(function(root) {\n  function now() {\n    return new Date();\n  }\n\n  var force = true;\n\n  if (typeof (root._bokeh_onload_callbacks) === \"undefined\" || force === true) {\n    root._bokeh_onload_callbacks = [];\n    root._bokeh_is_loading = undefined;\n  }\n\n  \n\n  \n  if (typeof (root._bokeh_timeout) === \"undefined\" || force === true) {\n    root._bokeh_timeout = Date.now() + 5000;\n    root._bokeh_failed_load = false;\n  }\n\n  var NB_LOAD_WARNING = {'data': {'text/html':\n     \"<div style='background-color: #fdd'>\\n\"+\n     \"<p>\\n\"+\n     \"BokehJS does not appear to have successfully loaded. If loading BokehJS from CDN, this \\n\"+\n     \"may be due to a slow or bad network connection. Possible fixes:\\n\"+\n     \"</p>\\n\"+\n     \"<ul>\\n\"+\n     \"<li>re-rerun `output_notebook()` to attempt to load from CDN again, or</li>\\n\"+\n     \"<li>use INLINE resources instead, as so:</li>\\n\"+\n     \"</ul>\\n\"+\n     \"<code>\\n\"+\n     \"from bokeh.resources import INLINE\\n\"+\n     \"output_notebook(resources=INLINE)\\n\"+\n     \"</code>\\n\"+\n     \"</div>\"}};\n\n  function display_loaded() {\n    var el = document.getElementById(\"b5c2050d-5fb4-4567-ac00-4f9cd5b78344\");\n    if (el != null) {\n      el.textContent = \"BokehJS is loading...\";\n    }\n    if (root.Bokeh !== undefined) {\n      if (el != null) {\n        el.textContent = \"BokehJS \" + root.Bokeh.version + \" successfully loaded.\";\n      }\n    } else if (Date.now() < root._bokeh_timeout) {\n      setTimeout(display_loaded, 100)\n    }\n  }\n\n\n  function run_callbacks() {\n    try {\n      root._bokeh_onload_callbacks.forEach(function(callback) { callback() });\n    }\n    finally {\n      delete root._bokeh_onload_callbacks\n    }\n    console.info(\"Bokeh: all callbacks have finished\");\n  }\n\n  function load_libs(js_urls, callback) {\n    root._bokeh_onload_callbacks.push(callback);\n    if (root._bokeh_is_loading > 0) {\n      console.log(\"Bokeh: BokehJS is being loaded, scheduling callback at\", now());\n      return null;\n    }\n    if (js_urls == null || js_urls.length === 0) {\n      run_callbacks();\n      return null;\n    }\n    console.log(\"Bokeh: BokehJS not loaded, scheduling load and callback at\", now());\n    root._bokeh_is_loading = js_urls.length;\n    for (var i = 0; i < js_urls.length; i++) {\n      var url = js_urls[i];\n      var s = document.createElement('script');\n      s.src = url;\n      s.async = false;\n      s.onreadystatechange = s.onload = function() {\n        root._bokeh_is_loading--;\n        if (root._bokeh_is_loading === 0) {\n          console.log(\"Bokeh: all BokehJS libraries loaded\");\n          run_callbacks()\n        }\n      };\n      s.onerror = function() {\n        console.warn(\"failed to load library \" + url);\n      };\n      console.log(\"Bokeh: injecting script tag for BokehJS library: \", url);\n      document.getElementsByTagName(\"head\")[0].appendChild(s);\n    }\n  };var element = document.getElementById(\"b5c2050d-5fb4-4567-ac00-4f9cd5b78344\");\n  if (element == null) {\n    console.log(\"Bokeh: ERROR: autoload.js configured with elementid 'b5c2050d-5fb4-4567-ac00-4f9cd5b78344' but no matching script tag was found. \")\n    return false;\n  }\n\n  var js_urls = [\"https://cdn.pydata.org/bokeh/release/bokeh-0.12.16.min.js\", \"https://cdn.pydata.org/bokeh/release/bokeh-widgets-0.12.16.min.js\", \"https://cdn.pydata.org/bokeh/release/bokeh-tables-0.12.16.min.js\", \"https://cdn.pydata.org/bokeh/release/bokeh-gl-0.12.16.min.js\"];\n\n  var inline_js = [\n    function(Bokeh) {\n      Bokeh.set_log_level(\"info\");\n    },\n    \n    function(Bokeh) {\n      \n    },\n    function(Bokeh) {\n      console.log(\"Bokeh: injecting CSS: https://cdn.pydata.org/bokeh/release/bokeh-0.12.16.min.css\");\n      Bokeh.embed.inject_css(\"https://cdn.pydata.org/bokeh/release/bokeh-0.12.16.min.css\");\n      console.log(\"Bokeh: injecting CSS: https://cdn.pydata.org/bokeh/release/bokeh-widgets-0.12.16.min.css\");\n      Bokeh.embed.inject_css(\"https://cdn.pydata.org/bokeh/release/bokeh-widgets-0.12.16.min.css\");\n      console.log(\"Bokeh: injecting CSS: https://cdn.pydata.org/bokeh/release/bokeh-tables-0.12.16.min.css\");\n      Bokeh.embed.inject_css(\"https://cdn.pydata.org/bokeh/release/bokeh-tables-0.12.16.min.css\");\n    }\n  ];\n\n  function run_inline_js() {\n    \n    if ((root.Bokeh !== undefined) || (force === true)) {\n      for (var i = 0; i < inline_js.length; i++) {\n        inline_js[i].call(root, root.Bokeh);\n      }if (force === true) {\n        display_loaded();\n      }} else if (Date.now() < root._bokeh_timeout) {\n      setTimeout(run_inline_js, 100);\n    } else if (!root._bokeh_failed_load) {\n      console.log(\"Bokeh: BokehJS failed to load within specified timeout.\");\n      root._bokeh_failed_load = true;\n    } else if (force !== true) {\n      var cell = $(document.getElementById(\"b5c2050d-5fb4-4567-ac00-4f9cd5b78344\")).parents('.cell').data().cell;\n      cell.output_area.append_execute_result(NB_LOAD_WARNING)\n    }\n\n  }\n\n  if (root._bokeh_is_loading === 0) {\n    console.log(\"Bokeh: BokehJS loaded, going straight to plotting\");\n    run_inline_js();\n  } else {\n    load_libs(js_urls, function() {\n      console.log(\"Bokeh: BokehJS plotting callback run at\", now());\n      run_inline_js();\n    });\n  }\n}(window));"
     },
     "metadata": {},
     "output_type": "display_data"
    }
   ],
   "source": [
    "%reload_ext autoreload\n",
    "%autoreload 2\n",
    "%matplotlib inline\n",
    "from IPython import display\n",
    "import pymongo\n",
    "import random\n",
    "import numpy as np\n",
    "from bokeh.io import output_notebook\n",
    "from climatools.cliradlw.cliradlw_latest import *\n",
    "from climatools.html.html import *\n",
    "from climatools.spectrum import *\n",
    "output_notebook()\n",
    "pd.set_option('max_colwidth', -1)"
   ]
  },
  {
   "cell_type": "code",
   "execution_count": 45,
   "metadata": {},
   "outputs": [
    {
     "data": {
      "text/html": [
       "<table border=\"1\" class=\"dataframe\">\n",
       "  <thead>\n",
       "    <tr>\n",
       "      <th>lblnew band(s)</th>\n",
       "      <th>[3b]</th>\n",
       "      <th>[5]</th>\n",
       "    </tr>\n",
       "    <tr>\n",
       "      <th>cliradlw band(s)</th>\n",
       "      <th>[4]</th>\n",
       "      <th>[7]</th>\n",
       "    </tr>\n",
       "    <tr>\n",
       "      <th>absorber(s)</th>\n",
       "      <th></th>\n",
       "      <th></th>\n",
       "    </tr>\n",
       "  </thead>\n",
       "  <tbody>\n",
       "    <tr>\n",
       "      <th>{'co2': 0.0008}</th>\n",
       "      <td></td>\n",
       "      <td><a href=\"#05225883484\">saw</a></td>\n",
       "    </tr>\n",
       "    <tr>\n",
       "      <th>{'h2o': 'atmpro', 'co2': 0.0008}</th>\n",
       "      <td><a href=\"#60132623135\">saw</a> <a href=\"#00270408353\">mls</a> <a href=\"#81860855655\">trp</a></td>\n",
       "      <td></td>\n",
       "    </tr>\n",
       "  </tbody>\n",
       "</table>"
      ],
      "text/plain": [
       "<IPython.core.display.HTML object>"
      ]
     },
     "metadata": {},
     "output_type": "display_data"
    }
   ],
   "source": [
    "LINKS.fillna('', inplace=True)\n",
    "LINKS.index.names = ['absorber(s)']\n",
    "LINKS.sort_index(axis=1, level=1, inplace=True)\n",
    "LINKS.sort_index(axis=0, inplace=True)\n",
    "display.display(display.HTML(LINKS.to_html(escape=False)))"
   ]
  },
  {
   "cell_type": "code",
   "execution_count": 3,
   "metadata": {
    "collapsed": true
   },
   "outputs": [],
   "source": [
    "CLIENT = pymongo.MongoClient(host='localhost', port=27017)"
   ]
  },
  {
   "cell_type": "code",
   "execution_count": 4,
   "metadata": {
    "collapsed": true
   },
   "outputs": [],
   "source": [
    "LINKS = pd.DataFrame(columns=pd.MultiIndex(levels=[[], []], labels=[[], []], names=['lblnew band(s)', 'cliradlw band(s)']))\n",
    "LINKS.index.name = ['absorber(s)']"
   ]
  },
  {
   "cell_type": "markdown",
   "metadata": {},
   "source": [
    "# 2 x $CO_2$"
   ]
  },
  {
   "cell_type": "code",
   "execution_count": 5,
   "metadata": {
    "collapsed": true
   },
   "outputs": [],
   "source": [
    "MOL = 'co2'\n",
    "CONC = 2 * 400e-6\n",
    "COMMITNUMBER = '1013f91'\n",
    "NV, DV = 1000, .001\n",
    "ATMPRO = dict(mls=294, saw=257, trp=300)"
   ]
  },
  {
   "cell_type": "markdown",
   "metadata": {},
   "source": [
    "## Atmosphere compositions\n",
    "\n",
    "We first set the concentration of CO2 to that double of the usual 4e-6 ppmv.  Then we split the overall composition into those where CO2 overlaps with other gases and those where only CO2 is present."
   ]
  },
  {
   "cell_type": "code",
   "execution_count": 6,
   "metadata": {
    "collapsed": true
   },
   "outputs": [],
   "source": [
    "atmcomp = AtmComposition.cliradlw_nongreys()\n",
    "atmcomp.gasconcs['co2'] = CONC\n",
    "atmcomp.gasinbands = {b:gs for b, gs in atmcomp.gasinbands.items() if MOL in gs}"
   ]
  },
  {
   "cell_type": "code",
   "execution_count": 7,
   "metadata": {
    "collapsed": true
   },
   "outputs": [],
   "source": [
    "atmcomps_olp = [AtmComposition(gasconcs=atmcomp.gasconcs, gasinbands={b: gs}) \n",
    "                for b, gs in atmcomp.gasinbands.items() if len(gs) > 1]"
   ]
  },
  {
   "cell_type": "code",
   "execution_count": 8,
   "metadata": {
    "collapsed": true
   },
   "outputs": [],
   "source": [
    "atmcomps_bft = [AtmComposition(gasconcs=atmcomp.gasconcs, gasinbands={b:[MOL]}) for b, _ in atmcomp.gasinbands.items()]"
   ]
  },
  {
   "cell_type": "code",
   "execution_count": 9,
   "metadata": {
    "collapsed": true
   },
   "outputs": [],
   "source": [
    "## CO2 only case"
   ]
  },
  {
   "cell_type": "code",
   "execution_count": 10,
   "metadata": {
    "collapsed": true
   },
   "outputs": [],
   "source": [
    "atmpro = 'saw'"
   ]
  },
  {
   "cell_type": "code",
   "execution_count": 11,
   "metadata": {
    "collapsed": true
   },
   "outputs": [],
   "source": [
    "atmbft = atmcomps_bft[4]"
   ]
  },
  {
   "cell_type": "code",
   "execution_count": 12,
   "metadata": {
    "collapsed": true
   },
   "outputs": [],
   "source": [
    "parm_cli = atmbft.to_cliradparam(commitnumber=COMMITNUMBER, atmpro=atmpro, tsfc=ATMPRO[atmpro])"
   ]
  },
  {
   "cell_type": "code",
   "execution_count": 13,
   "metadata": {
    "collapsed": true
   },
   "outputs": [],
   "source": [
    "data_cli = parm_cli.modeldata_pymongo(collection=CLIENT.cliradnew.lw)"
   ]
  },
  {
   "cell_type": "code",
   "execution_count": 14,
   "metadata": {
    "collapsed": true
   },
   "outputs": [],
   "source": [
    "parms_lbl = atmbft.to_lblnewparam(bestfit_values=True, atmpro=atmpro, tsfc=ATMPRO[atmpro], nv=NV, dv=DV)"
   ]
  },
  {
   "cell_type": "code",
   "execution_count": 15,
   "metadata": {},
   "outputs": [
    {
     "data": {
      "text/plain": [
       "['a22ab94']"
      ]
     },
     "execution_count": 15,
     "metadata": {},
     "output_type": "execute_result"
    }
   ],
   "source": [
    "parms_lbl[0].avail_commits(collection=CLIENT.lblnew.bestfit_lw)"
   ]
  },
  {
   "cell_type": "code",
   "execution_count": 16,
   "metadata": {
    "collapsed": true
   },
   "outputs": [],
   "source": [
    "data_lbl = parms_lbl[0].modeldata_pymongo(collection=CLIENT.lblnew.bestfit_lw)"
   ]
  },
  {
   "cell_type": "code",
   "execution_count": 17,
   "metadata": {},
   "outputs": [
    {
     "data": {
      "text/markdown": [
       "-----------------------------"
      ],
      "text/plain": [
       "<IPython.core.display.Markdown object>"
      ]
     },
     "metadata": {},
     "output_type": "display_data"
    },
    {
     "data": {
      "text/markdown": [
       "<a id=\"05225883484\"></a>"
      ],
      "text/plain": [
       "<IPython.core.display.Markdown object>"
      ]
     },
     "metadata": {},
     "output_type": "display_data"
    },
    {
     "data": {
      "text/markdown": [
       "[7] {'co2': 0.0008} saw"
      ],
      "text/plain": [
       "<IPython.core.display.Markdown object>"
      ]
     },
     "metadata": {},
     "output_type": "display_data"
    },
    {
     "data": {
      "text/html": [
       "<div>\n",
       "<style scoped>\n",
       "    .dataframe tbody tr th:only-of-type {\n",
       "        vertical-align: middle;\n",
       "    }\n",
       "\n",
       "    .dataframe tbody tr th {\n",
       "        vertical-align: top;\n",
       "    }\n",
       "\n",
       "    .dataframe thead tr th {\n",
       "        text-align: left;\n",
       "    }\n",
       "</style>\n",
       "<table border=\"1\" class=\"dataframe\">\n",
       "  <thead>\n",
       "    <tr>\n",
       "      <th></th>\n",
       "      <th colspan=\"2\" halign=\"left\">Run parameters</th>\n",
       "      <th>Fit parameters</th>\n",
       "    </tr>\n",
       "    <tr>\n",
       "      <th></th>\n",
       "      <th>CLIRAD</th>\n",
       "      <th>LBLNEW</th>\n",
       "      <th>(co2, 5)</th>\n",
       "    </tr>\n",
       "  </thead>\n",
       "  <tbody>\n",
       "    <tr>\n",
       "      <th>atmpro</th>\n",
       "      <td>saw</td>\n",
       "      <td>saw</td>\n",
       "      <td>mls</td>\n",
       "    </tr>\n",
       "    <tr>\n",
       "      <th>band</th>\n",
       "      <td>[7]</td>\n",
       "      <td>5</td>\n",
       "      <td>5</td>\n",
       "    </tr>\n",
       "    <tr>\n",
       "      <th>commitnumber</th>\n",
       "      <td>1013f91</td>\n",
       "      <td>a22ab94</td>\n",
       "      <td>a06b618</td>\n",
       "    </tr>\n",
       "    <tr>\n",
       "      <th>conc</th>\n",
       "      <td>-</td>\n",
       "      <td>0.0008</td>\n",
       "      <td>0.0004</td>\n",
       "    </tr>\n",
       "    <tr>\n",
       "      <th>dv</th>\n",
       "      <td>-</td>\n",
       "      <td>0.001</td>\n",
       "      <td>0.001</td>\n",
       "    </tr>\n",
       "    <tr>\n",
       "      <th>klin</th>\n",
       "      <td>-</td>\n",
       "      <td>6.5e-24</td>\n",
       "      <td>6.5e-24</td>\n",
       "    </tr>\n",
       "    <tr>\n",
       "      <th>molecule</th>\n",
       "      <td>{'co2': 0.0008}</td>\n",
       "      <td>co2</td>\n",
       "      <td>co2</td>\n",
       "    </tr>\n",
       "    <tr>\n",
       "      <th>ng_adju</th>\n",
       "      <td>-</td>\n",
       "      <td>[0, 0]</td>\n",
       "      <td>[0, 0]</td>\n",
       "    </tr>\n",
       "    <tr>\n",
       "      <th>ng_refs</th>\n",
       "      <td>-</td>\n",
       "      <td>[1, 2]</td>\n",
       "      <td>[1, 2]</td>\n",
       "    </tr>\n",
       "    <tr>\n",
       "      <th>nv</th>\n",
       "      <td>-</td>\n",
       "      <td>1000</td>\n",
       "      <td>1000</td>\n",
       "    </tr>\n",
       "    <tr>\n",
       "      <th>option_compute_btable</th>\n",
       "      <td>-</td>\n",
       "      <td>0</td>\n",
       "      <td>0</td>\n",
       "    </tr>\n",
       "    <tr>\n",
       "      <th>option_compute_ktable</th>\n",
       "      <td>-</td>\n",
       "      <td>0</td>\n",
       "      <td>1</td>\n",
       "    </tr>\n",
       "    <tr>\n",
       "      <th>option_wgt_flux</th>\n",
       "      <td>-</td>\n",
       "      <td>1</td>\n",
       "      <td>1</td>\n",
       "    </tr>\n",
       "    <tr>\n",
       "      <th>option_wgt_k</th>\n",
       "      <td>-</td>\n",
       "      <td>1</td>\n",
       "      <td>1</td>\n",
       "    </tr>\n",
       "    <tr>\n",
       "      <th>ref_pts</th>\n",
       "      <td>-</td>\n",
       "      <td>[[1, 250], [500, 250]]</td>\n",
       "      <td>[(1, 250), (500, 250)]</td>\n",
       "    </tr>\n",
       "    <tr>\n",
       "      <th>tsfc</th>\n",
       "      <td>257</td>\n",
       "      <td>257</td>\n",
       "      <td>294</td>\n",
       "    </tr>\n",
       "    <tr>\n",
       "      <th>vmax</th>\n",
       "      <td>-</td>\n",
       "      <td>1100</td>\n",
       "      <td>1100</td>\n",
       "    </tr>\n",
       "    <tr>\n",
       "      <th>vmin</th>\n",
       "      <td>-</td>\n",
       "      <td>980</td>\n",
       "      <td>980</td>\n",
       "    </tr>\n",
       "    <tr>\n",
       "      <th>w_diffuse</th>\n",
       "      <td>-</td>\n",
       "      <td>[[1.75], [1.66, 1.9]]</td>\n",
       "      <td>[(1.75,), (1.66, 1.9)]</td>\n",
       "    </tr>\n",
       "    <tr>\n",
       "      <th>wgt</th>\n",
       "      <td>-</td>\n",
       "      <td>[[0.75], [0.75, 0.95]]</td>\n",
       "      <td>[(0.75,), (0.75, 0.95)]</td>\n",
       "    </tr>\n",
       "  </tbody>\n",
       "</table>\n",
       "</div>"
      ],
      "text/plain": [
       "                        Run parameters                          \\\n",
       "                                CLIRAD                  LBLNEW   \n",
       "atmpro                 saw              saw                      \n",
       "band                   [7]              5                        \n",
       "commitnumber           1013f91          a22ab94                  \n",
       "conc                   -                0.0008                   \n",
       "dv                     -                0.001                    \n",
       "klin                   -                6.5e-24                  \n",
       "molecule               {'co2': 0.0008}  co2                      \n",
       "ng_adju                -                [0, 0]                   \n",
       "ng_refs                -                [1, 2]                   \n",
       "nv                     -                1000                     \n",
       "option_compute_btable  -                0                        \n",
       "option_compute_ktable  -                0                        \n",
       "option_wgt_flux        -                1                        \n",
       "option_wgt_k           -                1                        \n",
       "ref_pts                -                [[1, 250], [500, 250]]   \n",
       "tsfc                   257              257                      \n",
       "vmax                   -                1100                     \n",
       "vmin                   -                980                      \n",
       "w_diffuse              -                [[1.75], [1.66, 1.9]]    \n",
       "wgt                    -                [[0.75], [0.75, 0.95]]   \n",
       "\n",
       "                                Fit parameters  \n",
       "                                      (co2, 5)  \n",
       "atmpro                 mls                      \n",
       "band                   5                        \n",
       "commitnumber           a06b618                  \n",
       "conc                   0.0004                   \n",
       "dv                     0.001                    \n",
       "klin                   6.5e-24                  \n",
       "molecule               co2                      \n",
       "ng_adju                [0, 0]                   \n",
       "ng_refs                [1, 2]                   \n",
       "nv                     1000                     \n",
       "option_compute_btable  0                        \n",
       "option_compute_ktable  1                        \n",
       "option_wgt_flux        1                        \n",
       "option_wgt_k           1                        \n",
       "ref_pts                [(1, 250), (500, 250)]   \n",
       "tsfc                   294                      \n",
       "vmax                   1100                     \n",
       "vmin                   980                      \n",
       "w_diffuse              [(1.75,), (1.66, 1.9)]   \n",
       "wgt                    [(0.75,), (0.75, 0.95)]  "
      ]
     },
     "metadata": {},
     "output_type": "display_data"
    },
    {
     "data": {
      "text/html": [
       "\n",
       "<div class=\"bk-root\">\n",
       "    <div class=\"bk-plotdiv\" id=\"85027b8d-006d-4041-931b-3c9975094640\"></div>\n",
       "</div>"
      ]
     },
     "metadata": {},
     "output_type": "display_data"
    },
    {
     "data": {
      "application/javascript": [
       "(function(root) {\n",
       "  function embed_document(root) {\n",
       "    \n",
       "  var docs_json = {\"cbedacb4-6b97-4fcc-bd37-6ed0aed3b2d4\":{\"roots\":{\"references\":[{\"attributes\":{},\"id\":\"4c1f7ac6-32a1-4098-a319-3be055a73739\",\"type\":\"BasicTicker\"},{\"attributes\":{\"axis_label\":\"cooling rate [K/day]\",\"formatter\":{\"id\":\"266f8d38-5626-458e-818a-3501f5af3090\",\"type\":\"BasicTickFormatter\"},\"plot\":{\"id\":\"ca18f100-eb66-452c-b178-d822e750b3f8\",\"subtype\":\"Figure\",\"type\":\"Plot\"},\"ticker\":{\"id\":\"4c1f7ac6-32a1-4098-a319-3be055a73739\",\"type\":\"BasicTicker\"}},\"id\":\"3759d75c-2821-47ba-b410-ce1ef32ae2ab\",\"type\":\"LinearAxis\"},{\"attributes\":{\"axis_label\":\"pressure [mb]\",\"formatter\":{\"id\":\"665112d3-1b9d-4b27-8537-38c507d22e61\",\"type\":\"BasicTickFormatter\"},\"plot\":{\"id\":\"ca18f100-eb66-452c-b178-d822e750b3f8\",\"subtype\":\"Figure\",\"type\":\"Plot\"},\"ticker\":{\"id\":\"fdd01b85-7280-421f-9f97-9f11f1864e3c\",\"type\":\"BasicTicker\"}},\"id\":\"8c8b9982-af5b-4527-8171-ee710a56ba8b\",\"type\":\"LinearAxis\"},{\"attributes\":{},\"id\":\"fdd01b85-7280-421f-9f97-9f11f1864e3c\",\"type\":\"BasicTicker\"},{\"attributes\":{\"callback\":null,\"end\":0.0123469665706,\"start\":-0.0010730276306},\"id\":\"b38d8f9d-1b32-49e4-b099-182c08e522d3\",\"type\":\"Range1d\"},{\"attributes\":{\"callback\":null,\"data\":{\"x\":{\"__ndarray__\":\"1u8/es7LLb+pM/oV7XMgv+kLvRxCZBm/w7nsZlTNBz9IEIN1H9otP9HDlQSpuD0/xcxjR1y/SD/GiMojVPlSP+EWhB8JNVs/EMk/HOyZYj+1k2K7y6JoP8NCgJ837W8/eLMCWxdSdD8pY9vlxN54P4pu7AMY8Hw/GSqDSuNugD8wnfUx742CP9nFn27BzoQ/FGzQVcIshz/xgz84qayJP5AJmMNlSow/DEm0hH+Iij9Lw2v9hieDP3sshjXRg3g/HNFfHimYbT+BQ7sRdWJgP/JZQQS6hU4/xHtf6H/ZND/71v6jLtSavnuGaC9QVSq/rmcXfSAkN7/XC44bvn4+v0+HeZG/PkG/R3Y2lbjxQb8k9dwJiJ5Dv/hIOQWhj0W/Wx6cYprFRr8UziDKPMtHv8rHFOBUbki/rz6Y1qzuSL8w6FfE83lJv78VQtUxlkq/UYuFhcHaS7+tmwu8MetMv7gTOabLpU2/5Vzub+QATb/J4cpIl1VJv4+Y9OSpQ0O/TQyY9k93Nr/d2CZ/RTsAv76WkQENhjY/bQOS/HKmST+jDuFO2DRVPx+gNWcPwF4/pFdlUP1kZD8WA3IpseJpP0fnvEI/zG8/c0tEYyEGcz8yuYzrPEJ2PwJwOmnkank/cJN14nByfD8haEmjqW5/P153kiv3LYE/P6ajz8+cgj+JkRBqIASEP0XH2IA9Y4U/rxa+Dx6lhj/079e9RcKHP4FcWdelnIg/J0tX92IEiT+J5rWdrNSIP6RG6x95JIg/DMSr314vhz/XAnPbWx2GP/K+Q7TKCoU/\",\"dtype\":\"float64\",\"shape\":[75]},\"y\":{\"__ndarray__\":\"GhExyth1ND/Sv8nbtpRIP2vylNV0PVE/aTum7souWD/At0SJ8fVgPw3Iuahxymc/MSNhhJWvcD/bTfBN02d3P2zb5nxnaoA/CD5h5MAGhz8NmeH1TyaQP+zrCsc9p5Y/LbKd76fGnz/bLW5ISEmmPww9YvTcQq8/JV2OstnstT8Er5Y7M8G+P0c+r3jqkcU/5h99k6ZBzj88bCIzFzjVP4enV8oyxN0//yH99nXg5D8qOpLLf0jtP5kqGJXUifQ/c9cS8kHP/D+/DpwzojQEQIEmwoanVwxA4lgXt9HgE0BSSZ2AJuIbQAMJih9jjiNA5q4l5INuK0AwTKYKRj0zQNv5fmq8/DpAaCJseHrtQkB/+zpwzoxKQM3MzMzMeFJAZmZmZmZqWEAAAAAAAFxeQM3MzMzMJmJAmpmZmZkfZUBmZmZmZhhoQDMzMzMzEWtAAAAAAAAKbkBmZmZmZoFwQM3MzMzM/XFAMzMzMzN6c0CamZmZmfZ0QAAAAAAAc3ZAZmZmZmbvd0DNzMzMzGt5QDMzMzMz6HpAmpmZmZlkfEAAAAAAAOF9QGZmZmZmXX9AZmZmZuZsgECamZmZGSuBQM3MzMxM6YFAAAAAAICngkAzMzMzs2WDQGZmZmbmI4RAmpmZmRnihEDNzMzMTKCFQAAAAACAXoZAMzMzM7Mch0BmZmZm5tqHQJqZmZkZmYhAzczMzExXiUAAAAAAgBWKQDMzMzOz04pAZmZmZuaRi0CamZmZGVCMQM3MzMxMDo1AAAAAAIDMjUAzMzMzs4qOQGZmZmbmSI9A\",\"dtype\":\"float64\",\"shape\":[75]}},\"selected\":{\"id\":\"85f3541c-9182-4a71-bf7e-2c7bd7694f0a\",\"type\":\"Selection\"},\"selection_policy\":{\"id\":\"11dc57bc-f05e-42d9-806d-00c1ea230ecb\",\"type\":\"UnionRenderers\"}},\"id\":\"d1a0d2e0-7b3d-48bc-a268-6c39399334d9\",\"type\":\"ColumnDataSource\"},{\"attributes\":{\"plot\":{\"id\":\"ca18f100-eb66-452c-b178-d822e750b3f8\",\"subtype\":\"Figure\",\"type\":\"Plot\"},\"ticker\":{\"id\":\"4c1f7ac6-32a1-4098-a319-3be055a73739\",\"type\":\"BasicTicker\"}},\"id\":\"c873e23b-e570-4649-ac50-e02dd818846e\",\"type\":\"Grid\"},{\"attributes\":{\"items\":[{\"id\":\"8d333f12-4a71-41a9-860a-a62a2cfe4dd4\",\"type\":\"LegendItem\"},{\"id\":\"04daf12a-e639-42a5-b748-450087690af0\",\"type\":\"LegendItem\"},{\"id\":\"5ab34ecb-fe2e-47ff-869d-ab0fb3ca7330\",\"type\":\"LegendItem\"}],\"label_text_font_size\":{\"value\":\"8pt\"},\"location\":\"top_center\",\"orientation\":\"horizontal\",\"plot\":{\"id\":\"ca18f100-eb66-452c-b178-d822e750b3f8\",\"subtype\":\"Figure\",\"type\":\"Plot\"}},\"id\":\"f471b0a3-4d21-4a56-8c2b-9c77096cbed9\",\"type\":\"Legend\"},{\"attributes\":{\"above\":[{\"id\":\"f471b0a3-4d21-4a56-8c2b-9c77096cbed9\",\"type\":\"Legend\"}],\"below\":[{\"id\":\"3759d75c-2821-47ba-b410-ce1ef32ae2ab\",\"type\":\"LinearAxis\"}],\"left\":[{\"id\":\"8c8b9982-af5b-4527-8171-ee710a56ba8b\",\"type\":\"LinearAxis\"}],\"plot_height\":500,\"plot_width\":300,\"renderers\":[{\"id\":\"3759d75c-2821-47ba-b410-ce1ef32ae2ab\",\"type\":\"LinearAxis\"},{\"id\":\"c873e23b-e570-4649-ac50-e02dd818846e\",\"type\":\"Grid\"},{\"id\":\"8c8b9982-af5b-4527-8171-ee710a56ba8b\",\"type\":\"LinearAxis\"},{\"id\":\"713d2912-1638-4584-8ab1-d25703229120\",\"type\":\"Grid\"},{\"id\":\"94bb99cc-8043-4fd4-9100-ea6522daaa5d\",\"type\":\"BoxAnnotation\"},{\"id\":\"d4df86b7-c296-4a99-8017-81766e4b7f00\",\"type\":\"GlyphRenderer\"},{\"id\":\"e6f1f8b5-4342-4295-a7f2-19944653b7f2\",\"type\":\"GlyphRenderer\"},{\"id\":\"1242c596-421f-4a8b-9076-57966747c0c6\",\"type\":\"GlyphRenderer\"},{\"id\":\"947d45d5-3807-4c57-843e-d1d563aad311\",\"type\":\"GlyphRenderer\"},{\"id\":\"f471b0a3-4d21-4a56-8c2b-9c77096cbed9\",\"type\":\"Legend\"}],\"title\":{\"id\":\"f413b9d1-aabd-4ad3-92c5-22aa9e423fd9\",\"type\":\"Title\"},\"toolbar\":{\"id\":\"7b6659ad-1b5d-483d-824d-587f4faebc68\",\"type\":\"Toolbar\"},\"toolbar_location\":null,\"x_range\":{\"id\":\"b38d8f9d-1b32-49e4-b099-182c08e522d3\",\"type\":\"Range1d\"},\"x_scale\":{\"id\":\"30833a34-b958-4cb6-b405-09adea68d820\",\"type\":\"LinearScale\"},\"y_range\":{\"id\":\"9ff2eb6f-b142-490b-9756-b3ce3892c68c\",\"type\":\"Range1d\"},\"y_scale\":{\"id\":\"06ede546-6b97-454b-beaf-a51f09d205d7\",\"type\":\"LinearScale\"}},\"id\":\"ca18f100-eb66-452c-b178-d822e750b3f8\",\"subtype\":\"Figure\",\"type\":\"Plot\"},{\"attributes\":{\"line_alpha\":0.6,\"line_color\":\"#e41a1c\",\"line_dash\":[6],\"line_width\":5,\"x\":{\"field\":\"x\"},\"y\":{\"field\":\"y\"}},\"id\":\"90d1dcc0-da84-4636-968a-de7b0f18d00a\",\"type\":\"Line\"},{\"attributes\":{\"active_drag\":\"auto\",\"active_inspect\":\"auto\",\"active_scroll\":\"auto\",\"active_tap\":\"auto\",\"tools\":[{\"id\":\"6333d8f2-9e58-468d-b7ba-d67d26088d77\",\"type\":\"PanTool\"},{\"id\":\"a4a05a78-a94a-4761-b933-df32ab77f0da\",\"type\":\"WheelZoomTool\"},{\"id\":\"0b00d255-b328-4b25-bcdd-6ba551c302f9\",\"type\":\"BoxZoomTool\"},{\"id\":\"f4a24c67-e51b-4132-88f1-db4e7af58c26\",\"type\":\"SaveTool\"},{\"id\":\"b2b5f167-10a7-429c-8435-9ccb1e6f7d80\",\"type\":\"ResetTool\"},{\"id\":\"72b03c97-b36e-498f-9914-1b2a38e65a05\",\"type\":\"HelpTool\"}]},\"id\":\"7b6659ad-1b5d-483d-824d-587f4faebc68\",\"type\":\"Toolbar\"},{\"attributes\":{\"callback\":null,\"end\":0.01,\"start\":1020},\"id\":\"9ff2eb6f-b142-490b-9756-b3ce3892c68c\",\"type\":\"Range1d\"},{\"attributes\":{},\"id\":\"06ede546-6b97-454b-beaf-a51f09d205d7\",\"type\":\"LinearScale\"},{\"attributes\":{},\"id\":\"30833a34-b958-4cb6-b405-09adea68d820\",\"type\":\"LinearScale\"},{\"attributes\":{\"above\":[{\"id\":\"7e1f974f-11aa-4685-98f6-a10b905c0091\",\"type\":\"Legend\"}],\"below\":[{\"id\":\"d73a3692-93ff-4aa3-b7c1-e415fa14e29f\",\"type\":\"LinearAxis\"}],\"left\":[{\"id\":\"348da74c-0257-4cf2-8383-c6f380b802ec\",\"type\":\"LogAxis\"}],\"plot_height\":500,\"plot_width\":300,\"renderers\":[{\"id\":\"d73a3692-93ff-4aa3-b7c1-e415fa14e29f\",\"type\":\"LinearAxis\"},{\"id\":\"c44585f0-97c3-49fb-a125-787eedd1b7cf\",\"type\":\"Grid\"},{\"id\":\"348da74c-0257-4cf2-8383-c6f380b802ec\",\"type\":\"LogAxis\"},{\"id\":\"e1e2bc11-e290-4472-af59-8bcdf1267e55\",\"type\":\"Grid\"},{\"id\":\"954c884b-48f1-4d5a-93c0-264cdab0d43e\",\"type\":\"BoxAnnotation\"},{\"id\":\"45755cd6-739d-4b73-8d96-162d983eb258\",\"type\":\"GlyphRenderer\"},{\"id\":\"b8352c37-7b57-4fb5-af0d-6e8b7aceb3dc\",\"type\":\"GlyphRenderer\"},{\"id\":\"bbfcfd64-fb4f-4cf8-a924-94107c90780c\",\"type\":\"GlyphRenderer\"},{\"id\":\"3746491e-beca-4bbc-afd8-da45048db0a3\",\"type\":\"GlyphRenderer\"},{\"id\":\"7e1f974f-11aa-4685-98f6-a10b905c0091\",\"type\":\"Legend\"}],\"title\":{\"id\":\"6d9f2d3e-6954-4a33-8cd7-759f1c0ce5ab\",\"type\":\"Title\"},\"toolbar\":{\"id\":\"62e8c8a5-289d-4a48-9318-e0c5b62f7e2a\",\"type\":\"Toolbar\"},\"toolbar_location\":null,\"x_range\":{\"id\":\"6444d10e-5fca-46a1-9a84-4f768d620b45\",\"type\":\"Range1d\"},\"x_scale\":{\"id\":\"c6f2e8f8-fc95-4c97-abdc-f0a560fb12ae\",\"type\":\"LinearScale\"},\"y_range\":{\"id\":\"c2876fb8-0d86-4d65-b6d4-f30795c87332\",\"type\":\"Range1d\"},\"y_scale\":{\"id\":\"6d475711-39d8-406a-b9eb-906fc287dff5\",\"type\":\"LogScale\"}},\"id\":\"1a838855-1088-4598-8293-8dea964b9002\",\"subtype\":\"Figure\",\"type\":\"Plot\"},{\"attributes\":{\"dimension\":1,\"plot\":{\"id\":\"ca18f100-eb66-452c-b178-d822e750b3f8\",\"subtype\":\"Figure\",\"type\":\"Plot\"},\"ticker\":{\"id\":\"fdd01b85-7280-421f-9f97-9f11f1864e3c\",\"type\":\"BasicTicker\"}},\"id\":\"713d2912-1638-4584-8ab1-d25703229120\",\"type\":\"Grid\"},{\"attributes\":{},\"id\":\"6333d8f2-9e58-468d-b7ba-d67d26088d77\",\"type\":\"PanTool\"},{\"attributes\":{},\"id\":\"a4a05a78-a94a-4761-b933-df32ab77f0da\",\"type\":\"WheelZoomTool\"},{\"attributes\":{},\"id\":\"f4a24c67-e51b-4132-88f1-db4e7af58c26\",\"type\":\"SaveTool\"},{\"attributes\":{},\"id\":\"0a8421d8-0b63-49c2-a9d3-7e4b05f03f20\",\"type\":\"UnionRenderers\"},{\"attributes\":{\"line_alpha\":0.3,\"line_color\":\"#984ea3\",\"line_width\":8,\"x\":{\"field\":\"x\"},\"y\":{\"field\":\"y\"}},\"id\":\"5a8bb43b-127d-44d1-a1ca-81a7684fb4ee\",\"type\":\"Line\"},{\"attributes\":{\"label\":{\"value\":\"CLIRAD - CRD\"},\"renderers\":[{\"id\":\"a57c7377-9ac1-4d74-9c8b-142b14c44ffa\",\"type\":\"GlyphRenderer\"}]},\"id\":\"b1a8b736-5543-4edf-b044-189dc1213654\",\"type\":\"LegendItem\"},{\"attributes\":{\"overlay\":{\"id\":\"94bb99cc-8043-4fd4-9100-ea6522daaa5d\",\"type\":\"BoxAnnotation\"}},\"id\":\"0b00d255-b328-4b25-bcdd-6ba551c302f9\",\"type\":\"BoxZoomTool\"},{\"attributes\":{\"line_color\":\"#4daf4a\",\"line_width\":1.5,\"x\":{\"field\":\"x\"},\"y\":{\"field\":\"y\"}},\"id\":\"e0afea57-2099-46bf-9e8d-03ef90872511\",\"type\":\"Line\"},{\"attributes\":{\"data_source\":{\"id\":\"e1f7dc01-6f32-4d1d-82bb-193d039e16e1\",\"type\":\"ColumnDataSource\"},\"glyph\":{\"id\":\"3f4fec3e-59a2-4a63-8ee9-27e40b64e651\",\"type\":\"Line\"},\"hover_glyph\":null,\"muted_glyph\":null,\"nonselection_glyph\":{\"id\":\"0dd3f445-c93b-47e4-9f3d-bd3a650bc227\",\"type\":\"Line\"},\"selection_glyph\":null,\"view\":{\"id\":\"36c51428-7097-4716-a14e-bfc89b243fc6\",\"type\":\"CDSView\"}},\"id\":\"1242c596-421f-4a8b-9076-57966747c0c6\",\"type\":\"GlyphRenderer\"},{\"attributes\":{\"bottom_units\":\"screen\",\"fill_alpha\":{\"value\":0.5},\"fill_color\":{\"value\":\"lightgrey\"},\"left_units\":\"screen\",\"level\":\"overlay\",\"line_alpha\":{\"value\":1.0},\"line_color\":{\"value\":\"black\"},\"line_dash\":[4,4],\"line_width\":{\"value\":2},\"plot\":null,\"render_mode\":\"css\",\"right_units\":\"screen\",\"top_units\":\"screen\"},\"id\":\"94bb99cc-8043-4fd4-9100-ea6522daaa5d\",\"type\":\"BoxAnnotation\"},{\"attributes\":{\"line_alpha\":0.6,\"line_color\":\"#e41a1c\",\"line_dash\":[6],\"line_width\":5,\"x\":{\"field\":\"x\"},\"y\":{\"field\":\"y\"}},\"id\":\"306c65c9-3ef0-4213-9fdd-beb0ec28c955\",\"type\":\"Line\"},{\"attributes\":{\"line_alpha\":0.1,\"line_color\":\"#1f77b4\",\"line_width\":1.5,\"x\":{\"field\":\"x\"},\"y\":{\"field\":\"y\"}},\"id\":\"0dd3f445-c93b-47e4-9f3d-bd3a650bc227\",\"type\":\"Line\"},{\"attributes\":{\"line_alpha\":0.3,\"line_color\":\"#984ea3\",\"line_width\":8,\"x\":{\"field\":\"x\"},\"y\":{\"field\":\"y\"}},\"id\":\"71c0d9d8-cd23-408c-b3e3-70884ee2abc4\",\"type\":\"Line\"},{\"attributes\":{\"line_alpha\":0.1,\"line_color\":\"#1f77b4\",\"line_width\":8,\"x\":{\"field\":\"x\"},\"y\":{\"field\":\"y\"}},\"id\":\"bea4e12a-57d3-4edc-922d-d38367e00472\",\"type\":\"Line\"},{\"attributes\":{\"source\":{\"id\":\"21811de3-a598-45d4-a2c4-43f2248b9c39\",\"type\":\"ColumnDataSource\"}},\"id\":\"101bfe41-8e66-43ea-891b-e28cfc550db8\",\"type\":\"CDSView\"},{\"attributes\":{},\"id\":\"72b03c97-b36e-498f-9914-1b2a38e65a05\",\"type\":\"HelpTool\"},{\"attributes\":{\"active_drag\":\"auto\",\"active_inspect\":\"auto\",\"active_scroll\":\"auto\",\"active_tap\":\"auto\",\"tools\":[{\"id\":\"72cc6fc6-b4f7-4fe8-af6c-64ad7158c5a0\",\"type\":\"PanTool\"},{\"id\":\"68852b4c-6009-44de-ab6b-31764d9d96e0\",\"type\":\"WheelZoomTool\"},{\"id\":\"0fde7e90-6a9e-49cb-a718-ca0343868430\",\"type\":\"BoxZoomTool\"},{\"id\":\"5cb6fa4d-854e-4298-b7fd-8bce2d1c357b\",\"type\":\"SaveTool\"},{\"id\":\"9af7166e-a157-4260-8f70-ad7e4e06571c\",\"type\":\"ResetTool\"},{\"id\":\"edcb99ed-41e9-40e5-93da-57b7b47510d0\",\"type\":\"HelpTool\"}]},\"id\":\"62e8c8a5-289d-4a48-9318-e0c5b62f7e2a\",\"type\":\"Toolbar\"},{\"attributes\":{},\"id\":\"663a5ccd-98db-4149-befe-ef8b1b0265e2\",\"type\":\"Selection\"},{\"attributes\":{\"callback\":null,\"data\":{\"x\":{\"__ndarray__\":\"7sEfPka5ML+0i3BEiq8sv+J8/FKjRSC/4Bg3y87i2j6QCnS1DY0nP7h7lTzKiTo/hSP5LUu1Rj/BOrM5sk5RP/ie9R/5vFg/oaLRdP32YD+59pMeuZpmP2eU79QNem0/EBj5PDDhcj+mPcufwzx3PwdZK6CcG3s/NKGUfKjYfj+R1XE3V3uBPyBtCquzwYM/fQ/oy5VEhj/TJOXW1QiJP096c4HRwYs/4wfciZyYiT+kCUIIdCiCP3xQs+bN63Y/CEsmvitaaz8ENEyb+sxdPwnHwq/QFks/ovuP0/UtMT8eLbg2pZT8vro+rD0MXyu/1nkUyNq7Nr+QDlwkUpg9v3vx96Is6UC/9h+l1KMqQr8lnSr9IU1Dv2qy1o2BV0S/yC2saBczRb8XkiIBZDRGv3t/hYlUSke/vQKVP7I2SL+3fjNW/wVJv0OJrnJywUm/Cgu4kZpuSr++Sf3PhQ9Lv0r2rwfCgUu/lAxx5EvHSr/LVDotq6VHv7oFWX7aDUK/xslMhATvNL/YmkF+XRP8vrfAQUi1izU/DWnx7t2ESD/Kgb+nmi1UP4o6v5esHF0/wJxnI4V/Yz+JgAEXR9xoPzy5QbbTkG4/GKByj/hBcj9KduvieEx1P7nGI8GcWXg/MfJ96yZcez/3TXQinUx+P5zoiWYuk4A/jrDWjSz0gT8YSS3ekEmDPwRwnDvokoQ/J77VDRzMhT8K2nyCDueGP/NTWEVRwoc/mrFX21AsiD9aDDuVCweIP+AiphfpaYc/q84STceKhj+yVfcqjZSFPwIzr57GnIQ/\",\"dtype\":\"float64\",\"shape\":[75]},\"y\":{\"__ndarray__\":\"GhExyth1ND/Sv8nbtpRIP2vylNV0PVE/aTum7souWD/At0SJ8fVgPw3Iuahxymc/MSNhhJWvcD/bTfBN02d3P2zb5nxnaoA/CD5h5MAGhz8NmeH1TyaQP+zrCsc9p5Y/LbKd76fGnz/bLW5ISEmmPww9YvTcQq8/JV2OstnstT8Er5Y7M8G+P0c+r3jqkcU/5h99k6ZBzj88bCIzFzjVP4enV8oyxN0//yH99nXg5D8qOpLLf0jtP5kqGJXUifQ/c9cS8kHP/D+/DpwzojQEQIEmwoanVwxA4lgXt9HgE0BSSZ2AJuIbQAMJih9jjiNA5q4l5INuK0AwTKYKRj0zQNv5fmq8/DpAaCJseHrtQkB/+zpwzoxKQM3MzMzMeFJAZmZmZmZqWEAAAAAAAFxeQM3MzMzMJmJAmpmZmZkfZUBmZmZmZhhoQDMzMzMzEWtAAAAAAAAKbkBmZmZmZoFwQM3MzMzM/XFAMzMzMzN6c0CamZmZmfZ0QAAAAAAAc3ZAZmZmZmbvd0DNzMzMzGt5QDMzMzMz6HpAmpmZmZlkfEAAAAAAAOF9QGZmZmZmXX9AZmZmZuZsgECamZmZGSuBQM3MzMxM6YFAAAAAAICngkAzMzMzs2WDQGZmZmbmI4RAmpmZmRnihEDNzMzMTKCFQAAAAACAXoZAMzMzM7Mch0BmZmZm5tqHQJqZmZkZmYhAzczMzExXiUAAAAAAgBWKQDMzMzOz04pAZmZmZuaRi0CamZmZGVCMQM3MzMxMDo1AAAAAAIDMjUAzMzMzs4qOQGZmZmbmSI9A\",\"dtype\":\"float64\",\"shape\":[75]}},\"selected\":{\"id\":\"60896f2a-2cbe-419d-9103-9f095e43dc6c\",\"type\":\"Selection\"},\"selection_policy\":{\"id\":\"33cce4e1-30f8-44e7-acb9-3fd48f865b3c\",\"type\":\"UnionRenderers\"}},\"id\":\"21811de3-a598-45d4-a2c4-43f2248b9c39\",\"type\":\"ColumnDataSource\"},{\"attributes\":{\"source\":{\"id\":\"37686e06-d44f-4da7-9521-5d01056d0d90\",\"type\":\"ColumnDataSource\"}},\"id\":\"d9ddbf3f-7ecf-43b3-9be6-9ec0e25981c9\",\"type\":\"CDSView\"},{\"attributes\":{},\"id\":\"b2b5f167-10a7-429c-8435-9ccb1e6f7d80\",\"type\":\"ResetTool\"},{\"attributes\":{\"source\":{\"id\":\"e1f7dc01-6f32-4d1d-82bb-193d039e16e1\",\"type\":\"ColumnDataSource\"}},\"id\":\"36c51428-7097-4716-a14e-bfc89b243fc6\",\"type\":\"CDSView\"},{\"attributes\":{\"data_source\":{\"id\":\"21811de3-a598-45d4-a2c4-43f2248b9c39\",\"type\":\"ColumnDataSource\"},\"glyph\":{\"id\":\"5a8bb43b-127d-44d1-a1ca-81a7684fb4ee\",\"type\":\"Line\"},\"hover_glyph\":null,\"muted_glyph\":null,\"nonselection_glyph\":{\"id\":\"bea4e12a-57d3-4edc-922d-d38367e00472\",\"type\":\"Line\"},\"selection_glyph\":null,\"view\":{\"id\":\"101bfe41-8e66-43ea-891b-e28cfc550db8\",\"type\":\"CDSView\"}},\"id\":\"947d45d5-3807-4c57-843e-d1d563aad311\",\"type\":\"GlyphRenderer\"},{\"attributes\":{\"source\":{\"id\":\"f0c4981e-28d8-42dd-a13b-ac8a0768ef57\",\"type\":\"ColumnDataSource\"}},\"id\":\"affc0ca9-460a-4f59-8109-b33d9f7d0c57\",\"type\":\"CDSView\"},{\"attributes\":{\"label\":{\"value\":\"CLIRAD\"},\"renderers\":[{\"id\":\"d4df86b7-c296-4a99-8017-81766e4b7f00\",\"type\":\"GlyphRenderer\"}]},\"id\":\"8d333f12-4a71-41a9-860a-a62a2cfe4dd4\",\"type\":\"LegendItem\"},{\"attributes\":{},\"id\":\"96bc4bea-c3f0-495d-9550-318cf5ddeb78\",\"type\":\"BasicTickFormatter\"},{\"attributes\":{\"fill_alpha\":{\"value\":0.7},\"fill_color\":{\"value\":\"#4daf4a\"},\"line_alpha\":{\"value\":0.7},\"line_color\":{\"value\":\"#4daf4a\"},\"x\":{\"field\":\"x\"},\"y\":{\"field\":\"y\"}},\"id\":\"019d2d87-b4d8-43a5-9211-d15eebdc6c85\",\"type\":\"Circle\"},{\"attributes\":{\"children\":[{\"id\":\"a77380b6-024b-4154-b470-4f879a494dc6\",\"type\":\"Row\"}]},\"id\":\"70223f58-c550-4d31-b2e6-7d44b94e9d88\",\"type\":\"Column\"},{\"attributes\":{\"callback\":null,\"end\":0.020081827076,\"start\":-0.000984005056},\"id\":\"6444d10e-5fca-46a1-9a84-4f768d620b45\",\"type\":\"Range1d\"},{\"attributes\":{\"label\":{\"value\":\"CRD\"},\"renderers\":[{\"id\":\"e6f1f8b5-4342-4295-a7f2-19944653b7f2\",\"type\":\"GlyphRenderer\"},{\"id\":\"1242c596-421f-4a8b-9076-57966747c0c6\",\"type\":\"GlyphRenderer\"}]},\"id\":\"04daf12a-e639-42a5-b748-450087690af0\",\"type\":\"LegendItem\"},{\"attributes\":{\"callback\":null,\"data\":{\"x\":{\"__ndarray__\":\"w8N4ECLVML8eeHEjecwpvzgr+EvPYga/DnBI/rPQJT+19AOtguA8P1q/MENIA0o/N25qu3haVD9ncJCpfJFdP0lp3g5dgmQ/4PtRYhSPaz95TSEh9BZyPw//Sue9VHc/egDzLLyafT9oWuWOQBOCP+14jvrO74Q/awPLJ9Kphz/samEZ0Z6KP98ICGfO1Y0/EqcQ9KeokD/IIiyF0YqSP0V+I8IwWpQ/UWCBe++Rkj/Ncj2XKQSKP6GxQHoKNoA/IwVS+7Ypcz9QTTqCa+BkPwDR9ZWPkVM//6Nx+dfDPT9q+hwZrpsbPwrPZs78aBi/GJAo8gvwLr82eJf2SjM2v+JxOsrgCjm/uhf781QaOb/EOtqAf4U5v+EPCRRjJTu/6U/fN0r4Pb+HLeG7UjBBv+kM5jpttUO/BkKV8Cf8Rb/bPAtApA5Iv8jb4xyY+Em/JG+z07PCS78GOOZ46nFNv5/Exe+H2U6/hZDAy/OpTr+88SkOQXVLv6ZhbudOZ0W/uEsj7VRuOr9DazxXxVkXv7g/bA4lETM/TBsMgH4qSD8xQ6U6F3tUP+0nOOau610/gysrJNgpZD8Sv7WeYMlpPw5WTP8zvm8/XUSsfDD2cj8y14CJOhp2P8z7rE/jO3k/5kH3AWRNfD9ekM7rkUd/PyQ82EZME4E/LEvi4nN1gj/pVwRnVcuDP162zU4JFYU/V+tlxItOhj/X8GuiGmiHP8ThdMSPO4g/vsl/TTaQiD8mN/DQJkSIP1sTq2FNc4c/DXUHO+tbhj/Ma+sKtS6FP/6CJdc4A4Q/\",\"dtype\":\"float64\",\"shape\":[75]},\"y\":{\"__ndarray__\":\"GhExyth1ND/Sv8nbtpRIP2vylNV0PVE/aTum7souWD/At0SJ8fVgPw3Iuahxymc/MSNhhJWvcD/bTfBN02d3P2zb5nxnaoA/CD5h5MAGhz8NmeH1TyaQP+zrCsc9p5Y/LbKd76fGnz/bLW5ISEmmPww9YvTcQq8/JV2OstnstT8Er5Y7M8G+P0c+r3jqkcU/5h99k6ZBzj88bCIzFzjVP4enV8oyxN0//yH99nXg5D8qOpLLf0jtP5kqGJXUifQ/c9cS8kHP/D+/DpwzojQEQIEmwoanVwxA4lgXt9HgE0BSSZ2AJuIbQAMJih9jjiNA5q4l5INuK0AwTKYKRj0zQNv5fmq8/DpAaCJseHrtQkB/+zpwzoxKQM3MzMzMeFJAZmZmZmZqWEAAAAAAAFxeQM3MzMzMJmJAmpmZmZkfZUBmZmZmZhhoQDMzMzMzEWtAAAAAAAAKbkBmZmZmZoFwQM3MzMzM/XFAMzMzMzN6c0CamZmZmfZ0QAAAAAAAc3ZAZmZmZmbvd0DNzMzMzGt5QDMzMzMz6HpAmpmZmZlkfEAAAAAAAOF9QGZmZmZmXX9AZmZmZuZsgECamZmZGSuBQM3MzMxM6YFAAAAAAICngkAzMzMzs2WDQGZmZmbmI4RAmpmZmRnihEDNzMzMTKCFQAAAAACAXoZAMzMzM7Mch0BmZmZm5tqHQJqZmZkZmYhAzczMzExXiUAAAAAAgBWKQDMzMzOz04pAZmZmZuaRi0CamZmZGVCMQM3MzMxMDo1AAAAAAIDMjUAzMzMzs4qOQGZmZmbmSI9A\",\"dtype\":\"float64\",\"shape\":[75]}},\"selected\":{\"id\":\"490ff30c-94a8-4ce4-9bfc-eecf1b6d8b81\",\"type\":\"Selection\"},\"selection_policy\":{\"id\":\"9f551d82-4936-45a1-b758-9f69521785cd\",\"type\":\"UnionRenderers\"}},\"id\":\"4b2f9a6e-5c86-4f00-a553-909e8636fde3\",\"type\":\"ColumnDataSource\"},{\"attributes\":{},\"id\":\"c6f2e8f8-fc95-4c97-abdc-f0a560fb12ae\",\"type\":\"LinearScale\"},{\"attributes\":{\"line_alpha\":0.1,\"line_color\":\"#1f77b4\",\"line_width\":1.5,\"x\":{\"field\":\"x\"},\"y\":{\"field\":\"y\"}},\"id\":\"ddd8dcc3-e0e5-4d4e-8de2-8108fab00b19\",\"type\":\"Line\"},{\"attributes\":{\"label\":{\"value\":\"WGT igg=10\"},\"renderers\":[{\"id\":\"947d45d5-3807-4c57-843e-d1d563aad311\",\"type\":\"GlyphRenderer\"}]},\"id\":\"5ab34ecb-fe2e-47ff-869d-ab0fb3ca7330\",\"type\":\"LegendItem\"},{\"attributes\":{\"source\":{\"id\":\"4b2f9a6e-5c86-4f00-a553-909e8636fde3\",\"type\":\"ColumnDataSource\"}},\"id\":\"c65f410b-6ad5-4cdb-ae0d-b08dad0fa85c\",\"type\":\"CDSView\"},{\"attributes\":{\"plot\":{\"id\":\"1a838855-1088-4598-8293-8dea964b9002\",\"subtype\":\"Figure\",\"type\":\"Plot\"},\"ticker\":{\"id\":\"9a134c00-8c52-4b02-836b-a585b530f3d1\",\"type\":\"BasicTicker\"}},\"id\":\"c44585f0-97c3-49fb-a125-787eedd1b7cf\",\"type\":\"Grid\"},{\"attributes\":{\"callback\":null,\"data\":{\"x\":{\"__ndarray__\":\"7sEfPka5ML+0i3BEiq8sv+J8/FKjRSC/4Bg3y87i2j6QCnS1DY0nP7h7lTzKiTo/hSP5LUu1Rj/BOrM5sk5RP/ie9R/5vFg/oaLRdP32YD+59pMeuZpmP2eU79QNem0/EBj5PDDhcj+mPcufwzx3PwdZK6CcG3s/NKGUfKjYfj+R1XE3V3uBPyBtCquzwYM/fQ/oy5VEhj/TJOXW1QiJP096c4HRwYs/4wfciZyYiT+kCUIIdCiCP3xQs+bN63Y/CEsmvitaaz8ENEyb+sxdPwnHwq/QFks/ovuP0/UtMT8eLbg2pZT8vro+rD0MXyu/1nkUyNq7Nr+QDlwkUpg9v3vx96Is6UC/9h+l1KMqQr8lnSr9IU1Dv2qy1o2BV0S/yC2saBczRb8XkiIBZDRGv3t/hYlUSke/vQKVP7I2SL+3fjNW/wVJv0OJrnJywUm/Cgu4kZpuSr++Sf3PhQ9Lv0r2rwfCgUu/lAxx5EvHSr/LVDotq6VHv7oFWX7aDUK/xslMhATvNL/YmkF+XRP8vrfAQUi1izU/DWnx7t2ESD/Kgb+nmi1UP4o6v5esHF0/wJxnI4V/Yz+JgAEXR9xoPzy5QbbTkG4/GKByj/hBcj9KduvieEx1P7nGI8GcWXg/MfJ96yZcez/3TXQinUx+P5zoiWYuk4A/jrDWjSz0gT8YSS3ekEmDPwRwnDvokoQ/J77VDRzMhT8K2nyCDueGP/NTWEVRwoc/mrFX21AsiD9aDDuVCweIP+AiphfpaYc/q84STceKhj+yVfcqjZSFPwIzr57GnIQ/\",\"dtype\":\"float64\",\"shape\":[75]},\"y\":{\"__ndarray__\":\"GhExyth1ND/Sv8nbtpRIP2vylNV0PVE/aTum7souWD/At0SJ8fVgPw3Iuahxymc/MSNhhJWvcD/bTfBN02d3P2zb5nxnaoA/CD5h5MAGhz8NmeH1TyaQP+zrCsc9p5Y/LbKd76fGnz/bLW5ISEmmPww9YvTcQq8/JV2OstnstT8Er5Y7M8G+P0c+r3jqkcU/5h99k6ZBzj88bCIzFzjVP4enV8oyxN0//yH99nXg5D8qOpLLf0jtP5kqGJXUifQ/c9cS8kHP/D+/DpwzojQEQIEmwoanVwxA4lgXt9HgE0BSSZ2AJuIbQAMJih9jjiNA5q4l5INuK0AwTKYKRj0zQNv5fmq8/DpAaCJseHrtQkB/+zpwzoxKQM3MzMzMeFJAZmZmZmZqWEAAAAAAAFxeQM3MzMzMJmJAmpmZmZkfZUBmZmZmZhhoQDMzMzMzEWtAAAAAAAAKbkBmZmZmZoFwQM3MzMzM/XFAMzMzMzN6c0CamZmZmfZ0QAAAAAAAc3ZAZmZmZmbvd0DNzMzMzGt5QDMzMzMz6HpAmpmZmZlkfEAAAAAAAOF9QGZmZmZmXX9AZmZmZuZsgECamZmZGSuBQM3MzMxM6YFAAAAAAICngkAzMzMzs2WDQGZmZmbmI4RAmpmZmRnihEDNzMzMTKCFQAAAAACAXoZAMzMzM7Mch0BmZmZm5tqHQJqZmZkZmYhAzczMzExXiUAAAAAAgBWKQDMzMzOz04pAZmZmZuaRi0CamZmZGVCMQM3MzMxMDo1AAAAAAIDMjUAzMzMzs4qOQGZmZmbmSI9A\",\"dtype\":\"float64\",\"shape\":[75]}},\"selected\":{\"id\":\"67781990-bb48-42b1-9481-456c69cb7f0f\",\"type\":\"Selection\"},\"selection_policy\":{\"id\":\"ab995773-28eb-47e2-a9b6-feaf823e1654\",\"type\":\"UnionRenderers\"}},\"id\":\"5148fc69-e5a7-461c-8794-c2e64f5a0b67\",\"type\":\"ColumnDataSource\"},{\"attributes\":{\"items\":[{\"id\":\"3d82fb94-d44f-4839-99f0-c2616e7ed9c3\",\"type\":\"LegendItem\"},{\"id\":\"446bb9fe-8e54-454a-a30a-c00da21314fa\",\"type\":\"LegendItem\"},{\"id\":\"4c8e6812-5708-409f-bf34-87345179c4d3\",\"type\":\"LegendItem\"}],\"label_text_font_size\":{\"value\":\"8pt\"},\"location\":\"top_center\",\"orientation\":\"horizontal\",\"plot\":{\"id\":\"1a838855-1088-4598-8293-8dea964b9002\",\"subtype\":\"Figure\",\"type\":\"Plot\"}},\"id\":\"7e1f974f-11aa-4685-98f6-a10b905c0091\",\"type\":\"Legend\"},{\"attributes\":{\"line_alpha\":0.3,\"line_color\":\"#984ea3\",\"line_width\":8,\"x\":{\"field\":\"x\"},\"y\":{\"field\":\"y\"}},\"id\":\"1c0bd368-04fd-4a77-9600-7cb6620cb9df\",\"type\":\"Line\"},{\"attributes\":{\"line_alpha\":0.1,\"line_color\":\"#1f77b4\",\"line_dash\":[6],\"line_width\":5,\"x\":{\"field\":\"x\"},\"y\":{\"field\":\"y\"}},\"id\":\"9249fc4d-cd2c-473f-a53f-51217a1c6202\",\"type\":\"Line\"},{\"attributes\":{},\"id\":\"6d475711-39d8-406a-b9eb-906fc287dff5\",\"type\":\"LogScale\"},{\"attributes\":{\"axis_label\":\"cooling rate [K/day]\",\"formatter\":{\"id\":\"96bc4bea-c3f0-495d-9550-318cf5ddeb78\",\"type\":\"BasicTickFormatter\"},\"plot\":{\"id\":\"1a838855-1088-4598-8293-8dea964b9002\",\"subtype\":\"Figure\",\"type\":\"Plot\"},\"ticker\":{\"id\":\"9a134c00-8c52-4b02-836b-a585b530f3d1\",\"type\":\"BasicTicker\"}},\"id\":\"d73a3692-93ff-4aa3-b7c1-e415fa14e29f\",\"type\":\"LinearAxis\"},{\"attributes\":{},\"id\":\"665112d3-1b9d-4b27-8537-38c507d22e61\",\"type\":\"BasicTickFormatter\"},{\"attributes\":{\"callback\":null,\"end\":0.01,\"start\":1020},\"id\":\"c2876fb8-0d86-4d65-b6d4-f30795c87332\",\"type\":\"Range1d\"},{\"attributes\":{},\"id\":\"9a134c00-8c52-4b02-836b-a585b530f3d1\",\"type\":\"BasicTicker\"},{\"attributes\":{\"source\":{\"id\":\"5148fc69-e5a7-461c-8794-c2e64f5a0b67\",\"type\":\"ColumnDataSource\"}},\"id\":\"a0152d0e-de77-4ea8-acb6-898c82f96809\",\"type\":\"CDSView\"},{\"attributes\":{\"children\":[{\"id\":\"ca18f100-eb66-452c-b178-d822e750b3f8\",\"subtype\":\"Figure\",\"type\":\"Plot\"},{\"id\":\"1a838855-1088-4598-8293-8dea964b9002\",\"subtype\":\"Figure\",\"type\":\"Plot\"},{\"id\":\"1d5d67f1-ce8f-48fe-828d-e36c4e75504a\",\"subtype\":\"Figure\",\"type\":\"Plot\"}]},\"id\":\"a77380b6-024b-4154-b470-4f879a494dc6\",\"type\":\"Row\"},{\"attributes\":{\"axis_label\":\"pressure [mb]\",\"formatter\":{\"id\":\"56a9812a-5542-4c7f-9628-cb828cc0d22e\",\"type\":\"LogTickFormatter\"},\"plot\":{\"id\":\"1a838855-1088-4598-8293-8dea964b9002\",\"subtype\":\"Figure\",\"type\":\"Plot\"},\"ticker\":{\"id\":\"dd139674-9003-4891-94fa-c13590aa1b85\",\"type\":\"LogTicker\"}},\"id\":\"348da74c-0257-4cf2-8383-c6f380b802ec\",\"type\":\"LogAxis\"},{\"attributes\":{\"num_minor_ticks\":10},\"id\":\"dd139674-9003-4891-94fa-c13590aa1b85\",\"type\":\"LogTicker\"},{\"attributes\":{\"callback\":null,\"data\":{\"x\":{\"__ndarray__\":\"ANUBWdLbuz6wnPgHiRj3vijk/P/eWRW/R7fuh535JL9t70nS+xkxv/wCzEnGfDm/6bjbSKb/Qb9Ma7rflIVIv5ozx/3AR1C/frIA2y0wVb9ySF1HXiZbv7dppvltL2G/1NDz3xdzZb9U7v77etNpv6Yx46kCiG2/omUB0/t6cL+2Kt/D80Zyv343+3c1KHS/Tn1yOHQZdr96QeZmmhl4v3YEpwUg5Xm/fnFN2oQWd7+kpO071m5vv4wlnBuOAGO/fH77cITyVb84zVDSuOdHv+61UficGDi/ulDDS8QrKb/ZgmWza2Ahv2qu8awbVR6/KMcAPFMPHb9oWRK3HJQdvyjiavfwjiG/ZFCeauV1Jr8M//XyiCkqv+apSA9AEyu/ThfyMsnbKL9AkgUVRRAkv5CU+3Q6pxy/uAX+d1LUEb+AOwjFYuv+voBCqRrVkts+oEG2H5RBBT9AckdHJRMTP6hyrkAvvho/iB98Oj8VHz+I53wHr3weP2Dfqkijyxo/yAdao0H9FT+NBKz37VQQP/gHrM6B1AM/QHBTuduX5j7AWXC5JF/zvmCsHc9J4Am/YNhxGGBKFb8g0Yf2MKMdvyDNqZAE1iK/oIg0p/2GJr8AHazSNLgpv2CiJtHRSCy/oPYpz6InLr/gTEgrmV4vvwBxygm8AzC/wFNzoeooML8g2uEakTgwv0DLKGYiRDC/AKYF0vZNML+g2eL9gyEwv0B0I8efTy6/AAkGilz5KL8AZpXanY0evwD24AmUyPK+AM+sBQluFz+AefoCCHYpP4AANvG4MTM/\",\"dtype\":\"float64\",\"shape\":[75]},\"y\":{\"__ndarray__\":\"GhExyth1ND/Sv8nbtpRIP2vylNV0PVE/aTum7souWD/At0SJ8fVgPw3Iuahxymc/MSNhhJWvcD/bTfBN02d3P2zb5nxnaoA/CD5h5MAGhz8NmeH1TyaQP+zrCsc9p5Y/LbKd76fGnz/bLW5ISEmmPww9YvTcQq8/JV2OstnstT8Er5Y7M8G+P0c+r3jqkcU/5h99k6ZBzj88bCIzFzjVP4enV8oyxN0//yH99nXg5D8qOpLLf0jtP5kqGJXUifQ/c9cS8kHP/D+/DpwzojQEQIEmwoanVwxA4lgXt9HgE0BSSZ2AJuIbQAMJih9jjiNA5q4l5INuK0AwTKYKRj0zQNv5fmq8/DpAaCJseHrtQkB/+zpwzoxKQM3MzMzMeFJAZmZmZmZqWEAAAAAAAFxeQM3MzMzMJmJAmpmZmZkfZUBmZmZmZhhoQDMzMzMzEWtAAAAAAAAKbkBmZmZmZoFwQM3MzMzM/XFAMzMzMzN6c0CamZmZmfZ0QAAAAAAAc3ZAZmZmZmbvd0DNzMzMzGt5QDMzMzMz6HpAmpmZmZlkfEAAAAAAAOF9QGZmZmZmXX9AZmZmZuZsgECamZmZGSuBQM3MzMxM6YFAAAAAAICngkAzMzMzs2WDQGZmZmbmI4RAmpmZmRnihEDNzMzMTKCFQAAAAACAXoZAMzMzM7Mch0BmZmZm5tqHQJqZmZkZmYhAzczMzExXiUAAAAAAgBWKQDMzMzOz04pAZmZmZuaRi0CamZmZGVCMQM3MzMxMDo1AAAAAAIDMjUAzMzMzs4qOQGZmZmbmSI9A\",\"dtype\":\"float64\",\"shape\":[75]}},\"selected\":{\"id\":\"84f4ccb0-94a3-446c-a432-4cb49897cbcc\",\"type\":\"Selection\"},\"selection_policy\":{\"id\":\"88b9c938-81e2-420b-9fc0-ba69712de178\",\"type\":\"UnionRenderers\"}},\"id\":\"1977be11-0217-498d-baf6-cb5f9c384171\",\"type\":\"ColumnDataSource\"},{\"attributes\":{\"plot\":null,\"text\":\"\"},\"id\":\"f413b9d1-aabd-4ad3-92c5-22aa9e423fd9\",\"type\":\"Title\"},{\"attributes\":{\"dimension\":1,\"plot\":{\"id\":\"1a838855-1088-4598-8293-8dea964b9002\",\"subtype\":\"Figure\",\"type\":\"Plot\"},\"ticker\":{\"id\":\"dd139674-9003-4891-94fa-c13590aa1b85\",\"type\":\"LogTicker\"}},\"id\":\"e1e2bc11-e290-4472-af59-8bcdf1267e55\",\"type\":\"Grid\"},{\"attributes\":{\"fill_alpha\":{\"value\":0.1},\"fill_color\":{\"value\":\"#1f77b4\"},\"line_alpha\":{\"value\":0.1},\"line_color\":{\"value\":\"#1f77b4\"},\"x\":{\"field\":\"x\"},\"y\":{\"field\":\"y\"}},\"id\":\"6db3ea43-e0b8-40eb-901f-47097578dc56\",\"type\":\"Circle\"},{\"attributes\":{\"data_source\":{\"id\":\"5148fc69-e5a7-461c-8794-c2e64f5a0b67\",\"type\":\"ColumnDataSource\"},\"glyph\":{\"id\":\"1c0bd368-04fd-4a77-9600-7cb6620cb9df\",\"type\":\"Line\"},\"hover_glyph\":null,\"muted_glyph\":null,\"nonselection_glyph\":{\"id\":\"25df2802-47c8-4881-9a71-d0d012e3f2b7\",\"type\":\"Line\"},\"selection_glyph\":null,\"view\":{\"id\":\"a0152d0e-de77-4ea8-acb6-898c82f96809\",\"type\":\"CDSView\"}},\"id\":\"3746491e-beca-4bbc-afd8-da45048db0a3\",\"type\":\"GlyphRenderer\"},{\"attributes\":{},\"id\":\"6228fddc-65dd-4304-881e-61cd4757b873\",\"type\":\"UnionRenderers\"},{\"attributes\":{},\"id\":\"a6cf972f-1062-4836-b1ee-d18005b7e0f2\",\"type\":\"Selection\"},{\"attributes\":{\"data_source\":{\"id\":\"37686e06-d44f-4da7-9521-5d01056d0d90\",\"type\":\"ColumnDataSource\"},\"glyph\":{\"id\":\"019d2d87-b4d8-43a5-9211-d15eebdc6c85\",\"type\":\"Circle\"},\"hover_glyph\":null,\"muted_glyph\":null,\"nonselection_glyph\":{\"id\":\"6db3ea43-e0b8-40eb-901f-47097578dc56\",\"type\":\"Circle\"},\"selection_glyph\":null,\"view\":{\"id\":\"d9ddbf3f-7ecf-43b3-9be6-9ec0e25981c9\",\"type\":\"CDSView\"}},\"id\":\"b8352c37-7b57-4fb5-af0d-6e8b7aceb3dc\",\"type\":\"GlyphRenderer\"},{\"attributes\":{\"line_alpha\":0.1,\"line_color\":\"#1f77b4\",\"line_dash\":[6],\"line_width\":5,\"x\":{\"field\":\"x\"},\"y\":{\"field\":\"y\"}},\"id\":\"28dea4a9-e954-4658-bedc-d79377aa9549\",\"type\":\"Line\"},{\"attributes\":{\"above\":[{\"id\":\"b60e49fc-f5bc-4922-aa9b-daa7fcc53ccf\",\"type\":\"Legend\"}],\"below\":[{\"id\":\"747c27d9-e84f-4a59-92ed-6ca7ede0d6b0\",\"type\":\"LinearAxis\"}],\"left\":[{\"id\":\"a634ce44-d352-4fc6-bb42-eee2fe660ae6\",\"type\":\"LogAxis\"}],\"plot_height\":500,\"plot_width\":300,\"renderers\":[{\"id\":\"747c27d9-e84f-4a59-92ed-6ca7ede0d6b0\",\"type\":\"LinearAxis\"},{\"id\":\"7235ec19-5ae8-452e-a084-67763d6ae29b\",\"type\":\"Grid\"},{\"id\":\"a634ce44-d352-4fc6-bb42-eee2fe660ae6\",\"type\":\"LogAxis\"},{\"id\":\"87034b13-a0b5-481a-bfec-99fda19131fe\",\"type\":\"Grid\"},{\"id\":\"e3fc4741-3891-48bf-b7c1-e3769ee98f24\",\"type\":\"BoxAnnotation\"},{\"id\":\"a57c7377-9ac1-4d74-9c8b-142b14c44ffa\",\"type\":\"GlyphRenderer\"},{\"id\":\"d15d6e45-5310-4e1d-8114-2101d2a9ab60\",\"type\":\"GlyphRenderer\"},{\"id\":\"b60e49fc-f5bc-4922-aa9b-daa7fcc53ccf\",\"type\":\"Legend\"}],\"title\":{\"id\":\"9a64a33a-23a0-4d14-902e-65377aeffbc4\",\"type\":\"Title\"},\"toolbar\":{\"id\":\"3614cb2a-7308-4e2d-a3ab-2e6d7b81357b\",\"type\":\"Toolbar\"},\"toolbar_location\":null,\"x_range\":{\"id\":\"bb1de16e-ceaa-47a4-806b-b05fffaeeea7\",\"type\":\"Range1d\"},\"x_scale\":{\"id\":\"a85115b0-fa9b-48d2-ae24-a6f4988ac19e\",\"type\":\"LinearScale\"},\"y_range\":{\"id\":\"a0f6becd-53c6-4b0a-abba-1908aeb55027\",\"type\":\"Range1d\"},\"y_scale\":{\"id\":\"3f6691d2-23a7-48fa-bfac-f92ac8124ab4\",\"type\":\"LogScale\"}},\"id\":\"1d5d67f1-ce8f-48fe-828d-e36c4e75504a\",\"subtype\":\"Figure\",\"type\":\"Plot\"},{\"attributes\":{},\"id\":\"e748258f-6015-4968-afd1-000f9ceeec71\",\"type\":\"Selection\"},{\"attributes\":{\"bottom_units\":\"screen\",\"fill_alpha\":{\"value\":0.5},\"fill_color\":{\"value\":\"lightgrey\"},\"left_units\":\"screen\",\"level\":\"overlay\",\"line_alpha\":{\"value\":1.0},\"line_color\":{\"value\":\"black\"},\"line_dash\":[4,4],\"line_width\":{\"value\":2},\"plot\":null,\"render_mode\":\"css\",\"right_units\":\"screen\",\"top_units\":\"screen\"},\"id\":\"954c884b-48f1-4d5a-93c0-264cdab0d43e\",\"type\":\"BoxAnnotation\"},{\"attributes\":{\"data_source\":{\"id\":\"4b2f9a6e-5c86-4f00-a553-909e8636fde3\",\"type\":\"ColumnDataSource\"},\"glyph\":{\"id\":\"e0afea57-2099-46bf-9e8d-03ef90872511\",\"type\":\"Line\"},\"hover_glyph\":null,\"muted_glyph\":null,\"nonselection_glyph\":{\"id\":\"ddd8dcc3-e0e5-4d4e-8de2-8108fab00b19\",\"type\":\"Line\"},\"selection_glyph\":null,\"view\":{\"id\":\"c65f410b-6ad5-4cdb-ae0d-b08dad0fa85c\",\"type\":\"CDSView\"}},\"id\":\"bbfcfd64-fb4f-4cf8-a924-94107c90780c\",\"type\":\"GlyphRenderer\"},{\"attributes\":{\"source\":{\"id\":\"d1a0d2e0-7b3d-48bc-a268-6c39399334d9\",\"type\":\"ColumnDataSource\"}},\"id\":\"0d370686-e49a-4c73-a881-947f5e5e3ef8\",\"type\":\"CDSView\"},{\"attributes\":{},\"id\":\"72cc6fc6-b4f7-4fe8-af6c-64ad7158c5a0\",\"type\":\"PanTool\"},{\"attributes\":{\"callback\":null,\"data\":{\"x\":{\"__ndarray__\":\"w8N4ECLVML8eeHEjecwpvzgr+EvPYga/DnBI/rPQJT+19AOtguA8P1q/MENIA0o/N25qu3haVD9ncJCpfJFdP0lp3g5dgmQ/4PtRYhSPaz95TSEh9BZyPw//Sue9VHc/egDzLLyafT9oWuWOQBOCP+14jvrO74Q/awPLJ9Kphz/samEZ0Z6KP98ICGfO1Y0/EqcQ9KeokD/IIiyF0YqSP0V+I8IwWpQ/UWCBe++Rkj/Ncj2XKQSKP6GxQHoKNoA/IwVS+7Ypcz9QTTqCa+BkPwDR9ZWPkVM//6Nx+dfDPT9q+hwZrpsbPwrPZs78aBi/GJAo8gvwLr82eJf2SjM2v+JxOsrgCjm/uhf781QaOb/EOtqAf4U5v+EPCRRjJTu/6U/fN0r4Pb+HLeG7UjBBv+kM5jpttUO/BkKV8Cf8Rb/bPAtApA5Iv8jb4xyY+Em/JG+z07PCS78GOOZ46nFNv5/Exe+H2U6/hZDAy/OpTr+88SkOQXVLv6ZhbudOZ0W/uEsj7VRuOr9DazxXxVkXv7g/bA4lETM/TBsMgH4qSD8xQ6U6F3tUP+0nOOau610/gysrJNgpZD8Sv7WeYMlpPw5WTP8zvm8/XUSsfDD2cj8y14CJOhp2P8z7rE/jO3k/5kH3AWRNfD9ekM7rkUd/PyQ82EZME4E/LEvi4nN1gj/pVwRnVcuDP162zU4JFYU/V+tlxItOhj/X8GuiGmiHP8ThdMSPO4g/vsl/TTaQiD8mN/DQJkSIP1sTq2FNc4c/DXUHO+tbhj/Ma+sKtS6FP/6CJdc4A4Q/\",\"dtype\":\"float64\",\"shape\":[75]},\"y\":{\"__ndarray__\":\"GhExyth1ND/Sv8nbtpRIP2vylNV0PVE/aTum7souWD/At0SJ8fVgPw3Iuahxymc/MSNhhJWvcD/bTfBN02d3P2zb5nxnaoA/CD5h5MAGhz8NmeH1TyaQP+zrCsc9p5Y/LbKd76fGnz/bLW5ISEmmPww9YvTcQq8/JV2OstnstT8Er5Y7M8G+P0c+r3jqkcU/5h99k6ZBzj88bCIzFzjVP4enV8oyxN0//yH99nXg5D8qOpLLf0jtP5kqGJXUifQ/c9cS8kHP/D+/DpwzojQEQIEmwoanVwxA4lgXt9HgE0BSSZ2AJuIbQAMJih9jjiNA5q4l5INuK0AwTKYKRj0zQNv5fmq8/DpAaCJseHrtQkB/+zpwzoxKQM3MzMzMeFJAZmZmZmZqWEAAAAAAAFxeQM3MzMzMJmJAmpmZmZkfZUBmZmZmZhhoQDMzMzMzEWtAAAAAAAAKbkBmZmZmZoFwQM3MzMzM/XFAMzMzMzN6c0CamZmZmfZ0QAAAAAAAc3ZAZmZmZmbvd0DNzMzMzGt5QDMzMzMz6HpAmpmZmZlkfEAAAAAAAOF9QGZmZmZmXX9AZmZmZuZsgECamZmZGSuBQM3MzMxM6YFAAAAAAICngkAzMzMzs2WDQGZmZmbmI4RAmpmZmRnihEDNzMzMTKCFQAAAAACAXoZAMzMzM7Mch0BmZmZm5tqHQJqZmZkZmYhAzczMzExXiUAAAAAAgBWKQDMzMzOz04pAZmZmZuaRi0CamZmZGVCMQM3MzMxMDo1AAAAAAIDMjUAzMzMzs4qOQGZmZmbmSI9A\",\"dtype\":\"float64\",\"shape\":[75]}},\"selected\":{\"id\":\"d4b6ad06-0638-445b-952d-38e35cdcb829\",\"type\":\"Selection\"},\"selection_policy\":{\"id\":\"87028647-f06c-4774-b4a3-7096a554a61b\",\"type\":\"UnionRenderers\"}},\"id\":\"37686e06-d44f-4da7-9521-5d01056d0d90\",\"type\":\"ColumnDataSource\"},{\"attributes\":{},\"id\":\"266f8d38-5626-458e-818a-3501f5af3090\",\"type\":\"BasicTickFormatter\"},{\"attributes\":{\"fill_alpha\":{\"value\":0.7},\"fill_color\":{\"value\":\"#4daf4a\"},\"line_alpha\":{\"value\":0.7},\"line_color\":{\"value\":\"#4daf4a\"},\"x\":{\"field\":\"x\"},\"y\":{\"field\":\"y\"}},\"id\":\"e15b7a90-af03-4143-88ff-75de0d02ce71\",\"type\":\"Circle\"},{\"attributes\":{\"line_alpha\":0.1,\"line_color\":\"#1f77b4\",\"line_width\":8,\"x\":{\"field\":\"x\"},\"y\":{\"field\":\"y\"}},\"id\":\"25df2802-47c8-4881-9a71-d0d012e3f2b7\",\"type\":\"Line\"},{\"attributes\":{\"active_drag\":\"auto\",\"active_inspect\":\"auto\",\"active_scroll\":\"auto\",\"active_tap\":\"auto\",\"tools\":[{\"id\":\"0969927f-6a13-4120-8f33-a8e51a3b0095\",\"type\":\"PanTool\"},{\"id\":\"7c22c65f-dffd-4470-9ddf-456744fce922\",\"type\":\"WheelZoomTool\"},{\"id\":\"957339e2-a6a9-4379-992a-1adbef272d62\",\"type\":\"BoxZoomTool\"},{\"id\":\"7f0857ea-1e96-41b8-980e-f8099bf8f32a\",\"type\":\"SaveTool\"},{\"id\":\"66c8c0a7-d1b0-41f7-af1f-c4e70c000b25\",\"type\":\"ResetTool\"},{\"id\":\"08a4d8b2-5753-479c-b3a5-b4850e04107f\",\"type\":\"HelpTool\"}]},\"id\":\"3614cb2a-7308-4e2d-a3ab-2e6d7b81357b\",\"type\":\"Toolbar\"},{\"attributes\":{},\"id\":\"68852b4c-6009-44de-ab6b-31764d9d96e0\",\"type\":\"WheelZoomTool\"},{\"attributes\":{\"overlay\":{\"id\":\"954c884b-48f1-4d5a-93c0-264cdab0d43e\",\"type\":\"BoxAnnotation\"}},\"id\":\"0fde7e90-6a9e-49cb-a718-ca0343868430\",\"type\":\"BoxZoomTool\"},{\"attributes\":{\"callback\":null,\"data\":{\"x\":{\"__ndarray__\":\"gL2MNa3z/j7qiO4aGLESP5rsge20ZQy/OoMayb26H78i2YTk5eYrv+O6y4HnTTa/Uh/iXirrP79Cz4sLUTBFv2J3cfxhn0u/oGUkjFDqUb96DsANORZXv7Z2K16IeF2/BJrgo0mRYr9Oo95veI9mv6AGYeIL32m/SGUfdbvrbL94m9fOwyFwvwyG0PAZDnK/IMShJBtJdL8+gzGk89F2v/TlXYH303i/LO+c5L42db8IvkZninJrvxzb7PsOoV+/VHKIsIl2Ub88J/zB2fdBvxyQVE/KOjG/dlAkIrDUIb9B+cBHgrYbv+w9apCjQRy/iH4MEGqwHr9CJ+1J5pYgv3g5cbE85SK/qKnjbDiSJb8IX78lIW8rvx4E0+y98y+/mtmxGtUlL780gv44qGsqv4TrupSe4yK/SOUXMCeUF79QtcpE+LQGv+A+xws3s/O+AC0c0rENyL4gi1ObF9fwPnAOy5jEOwM/ADojvfWQCj+Yf/gqTv0QP7hIzhMoHRE/WPtZtCe4Dz+p/VEvRXgOPzC4Kpk/pws/EIJeyEe/Bz9AbnmHIjgHP0AGrx8QjAo/gBAWHZaS/T4ABES8ilDpPgByIuGGFtw+ACwOMM3h7z4AAPEFMQEEPwAbusaMgAc/AMUoP3CGAj+A4Wu924sDPwA6O7rkqgo/gImtYPatEz8A0ByGgWUcP8A5xIIMjSM/ANYK1pKkJT9Ax//axoomP0CvHrmERSg/QFrgdSoLLT9g7LWYuRAyPyBpBsh3JTY/4N+JlHRuOj9g4fIQ2tQ9P0C/49EdeUA/\",\"dtype\":\"float64\",\"shape\":[75]},\"y\":{\"__ndarray__\":\"GhExyth1ND/Sv8nbtpRIP2vylNV0PVE/aTum7souWD/At0SJ8fVgPw3Iuahxymc/MSNhhJWvcD/bTfBN02d3P2zb5nxnaoA/CD5h5MAGhz8NmeH1TyaQP+zrCsc9p5Y/LbKd76fGnz/bLW5ISEmmPww9YvTcQq8/JV2OstnstT8Er5Y7M8G+P0c+r3jqkcU/5h99k6ZBzj88bCIzFzjVP4enV8oyxN0//yH99nXg5D8qOpLLf0jtP5kqGJXUifQ/c9cS8kHP/D+/DpwzojQEQIEmwoanVwxA4lgXt9HgE0BSSZ2AJuIbQAMJih9jjiNA5q4l5INuK0AwTKYKRj0zQNv5fmq8/DpAaCJseHrtQkB/+zpwzoxKQM3MzMzMeFJAZmZmZmZqWEAAAAAAAFxeQM3MzMzMJmJAmpmZmZkfZUBmZmZmZhhoQDMzMzMzEWtAAAAAAAAKbkBmZmZmZoFwQM3MzMzM/XFAMzMzMzN6c0CamZmZmfZ0QAAAAAAAc3ZAZmZmZmbvd0DNzMzMzGt5QDMzMzMz6HpAmpmZmZlkfEAAAAAAAOF9QGZmZmZmXX9AZmZmZuZsgECamZmZGSuBQM3MzMxM6YFAAAAAAICngkAzMzMzs2WDQGZmZmbmI4RAmpmZmRnihEDNzMzMTKCFQAAAAACAXoZAMzMzM7Mch0BmZmZm5tqHQJqZmZkZmYhAzczMzExXiUAAAAAAgBWKQDMzMzOz04pAZmZmZuaRi0CamZmZGVCMQM3MzMxMDo1AAAAAAIDMjUAzMzMzs4qOQGZmZmbmSI9A\",\"dtype\":\"float64\",\"shape\":[75]}},\"selected\":{\"id\":\"4ce0214a-6280-4f4b-9a0b-3ac9f0e3b8f3\",\"type\":\"Selection\"},\"selection_policy\":{\"id\":\"c0f7da74-76f0-4206-98cb-03fb872201a3\",\"type\":\"UnionRenderers\"}},\"id\":\"f0c4981e-28d8-42dd-a13b-ac8a0768ef57\",\"type\":\"ColumnDataSource\"},{\"attributes\":{},\"id\":\"5cb6fa4d-854e-4298-b7fd-8bce2d1c357b\",\"type\":\"SaveTool\"},{\"attributes\":{\"label\":{\"value\":\"CLIRAD\"},\"renderers\":[{\"id\":\"45755cd6-739d-4b73-8d96-162d983eb258\",\"type\":\"GlyphRenderer\"}]},\"id\":\"3d82fb94-d44f-4839-99f0-c2616e7ed9c3\",\"type\":\"LegendItem\"},{\"attributes\":{\"line_alpha\":0.6,\"line_color\":\"#e41a1c\",\"line_dash\":[6],\"line_width\":5,\"x\":{\"field\":\"x\"},\"y\":{\"field\":\"y\"}},\"id\":\"e10521e4-5ac3-4496-b7e7-4b7f884f3bd2\",\"type\":\"Line\"},{\"attributes\":{},\"id\":\"9af7166e-a157-4260-8f70-ad7e4e06571c\",\"type\":\"ResetTool\"},{\"attributes\":{\"callback\":null,\"end\":3.343828225000008e-05,\"start\":-0.00638495172725},\"id\":\"bb1de16e-ceaa-47a4-806b-b05fffaeeea7\",\"type\":\"Range1d\"},{\"attributes\":{},\"id\":\"cbcf0982-d2f8-4d68-9ed4-1ae955b55b2a\",\"type\":\"BasicTickFormatter\"},{\"attributes\":{},\"id\":\"edcb99ed-41e9-40e5-93da-57b7b47510d0\",\"type\":\"HelpTool\"},{\"attributes\":{\"data_source\":{\"id\":\"f0c4981e-28d8-42dd-a13b-ac8a0768ef57\",\"type\":\"ColumnDataSource\"},\"glyph\":{\"id\":\"e10521e4-5ac3-4496-b7e7-4b7f884f3bd2\",\"type\":\"Line\"},\"hover_glyph\":null,\"muted_glyph\":null,\"nonselection_glyph\":{\"id\":\"28dea4a9-e954-4658-bedc-d79377aa9549\",\"type\":\"Line\"},\"selection_glyph\":null,\"view\":{\"id\":\"affc0ca9-460a-4f59-8109-b33d9f7d0c57\",\"type\":\"CDSView\"}},\"id\":\"a57c7377-9ac1-4d74-9c8b-142b14c44ffa\",\"type\":\"GlyphRenderer\"},{\"attributes\":{\"label\":{\"value\":\"CRD\"},\"renderers\":[{\"id\":\"b8352c37-7b57-4fb5-af0d-6e8b7aceb3dc\",\"type\":\"GlyphRenderer\"},{\"id\":\"bbfcfd64-fb4f-4cf8-a924-94107c90780c\",\"type\":\"GlyphRenderer\"}]},\"id\":\"446bb9fe-8e54-454a-a30a-c00da21314fa\",\"type\":\"LegendItem\"},{\"attributes\":{},\"id\":\"a85115b0-fa9b-48d2-ae24-a6f4988ac19e\",\"type\":\"LinearScale\"},{\"attributes\":{\"data_source\":{\"id\":\"1977be11-0217-498d-baf6-cb5f9c384171\",\"type\":\"ColumnDataSource\"},\"glyph\":{\"id\":\"71c0d9d8-cd23-408c-b3e3-70884ee2abc4\",\"type\":\"Line\"},\"hover_glyph\":null,\"muted_glyph\":null,\"nonselection_glyph\":{\"id\":\"8e74deef-8564-48d8-bf6e-06f36849aae8\",\"type\":\"Line\"},\"selection_glyph\":null,\"view\":{\"id\":\"9d47df44-5ef7-4102-84f8-6aa15ddcad2f\",\"type\":\"CDSView\"}},\"id\":\"d15d6e45-5310-4e1d-8114-2101d2a9ab60\",\"type\":\"GlyphRenderer\"},{\"attributes\":{\"label\":{\"value\":\"WGT igg=10\"},\"renderers\":[{\"id\":\"3746491e-beca-4bbc-afd8-da45048db0a3\",\"type\":\"GlyphRenderer\"}]},\"id\":\"4c8e6812-5708-409f-bf34-87345179c4d3\",\"type\":\"LegendItem\"},{\"attributes\":{\"label\":{\"value\":\"WGT igg=10 - CRD\"},\"renderers\":[{\"id\":\"d15d6e45-5310-4e1d-8114-2101d2a9ab60\",\"type\":\"GlyphRenderer\"}]},\"id\":\"cb775b84-b0a8-4f52-aed2-5a9f707903a3\",\"type\":\"LegendItem\"},{\"attributes\":{\"plot\":{\"id\":\"1d5d67f1-ce8f-48fe-828d-e36c4e75504a\",\"subtype\":\"Figure\",\"type\":\"Plot\"},\"ticker\":{\"id\":\"c0ba3388-d6e3-4634-98fc-aebf9ebd8edc\",\"type\":\"BasicTicker\"}},\"id\":\"7235ec19-5ae8-452e-a084-67763d6ae29b\",\"type\":\"Grid\"},{\"attributes\":{\"source\":{\"id\":\"1977be11-0217-498d-baf6-cb5f9c384171\",\"type\":\"ColumnDataSource\"}},\"id\":\"9d47df44-5ef7-4102-84f8-6aa15ddcad2f\",\"type\":\"CDSView\"},{\"attributes\":{\"items\":[{\"id\":\"b1a8b736-5543-4edf-b044-189dc1213654\",\"type\":\"LegendItem\"},{\"id\":\"cb775b84-b0a8-4f52-aed2-5a9f707903a3\",\"type\":\"LegendItem\"}],\"label_text_font_size\":{\"value\":\"8pt\"},\"location\":\"top_center\",\"orientation\":\"horizontal\",\"plot\":{\"id\":\"1d5d67f1-ce8f-48fe-828d-e36c4e75504a\",\"subtype\":\"Figure\",\"type\":\"Plot\"}},\"id\":\"b60e49fc-f5bc-4922-aa9b-daa7fcc53ccf\",\"type\":\"Legend\"},{\"attributes\":{},\"id\":\"60896f2a-2cbe-419d-9103-9f095e43dc6c\",\"type\":\"Selection\"},{\"attributes\":{},\"id\":\"536dad7f-cabf-4cac-93f1-e7827748043a\",\"type\":\"UnionRenderers\"},{\"attributes\":{},\"id\":\"3f6691d2-23a7-48fa-bfac-f92ac8124ab4\",\"type\":\"LogScale\"},{\"attributes\":{\"line_alpha\":0.1,\"line_color\":\"#1f77b4\",\"line_width\":8,\"x\":{\"field\":\"x\"},\"y\":{\"field\":\"y\"}},\"id\":\"8e74deef-8564-48d8-bf6e-06f36849aae8\",\"type\":\"Line\"},{\"attributes\":{\"plot\":null,\"text\":\"\"},\"id\":\"6d9f2d3e-6954-4a33-8cd7-759f1c0ce5ab\",\"type\":\"Title\"},{\"attributes\":{\"axis_label\":\"cooling rate [K/day]\",\"formatter\":{\"id\":\"cbcf0982-d2f8-4d68-9ed4-1ae955b55b2a\",\"type\":\"BasicTickFormatter\"},\"plot\":{\"id\":\"1d5d67f1-ce8f-48fe-828d-e36c4e75504a\",\"subtype\":\"Figure\",\"type\":\"Plot\"},\"ticker\":{\"id\":\"c0ba3388-d6e3-4634-98fc-aebf9ebd8edc\",\"type\":\"BasicTicker\"}},\"id\":\"747c27d9-e84f-4a59-92ed-6ca7ede0d6b0\",\"type\":\"LinearAxis\"},{\"attributes\":{\"source\":{\"id\":\"2d8b0208-2b4d-472e-98f6-9abd8d1ca401\",\"type\":\"ColumnDataSource\"}},\"id\":\"b068bfbd-3bfe-436f-ae41-8aaf522b94c1\",\"type\":\"CDSView\"},{\"attributes\":{},\"id\":\"c0ba3388-d6e3-4634-98fc-aebf9ebd8edc\",\"type\":\"BasicTicker\"},{\"attributes\":{},\"id\":\"33cce4e1-30f8-44e7-acb9-3fd48f865b3c\",\"type\":\"UnionRenderers\"},{\"attributes\":{\"axis_label\":\"pressure [mb]\",\"formatter\":{\"id\":\"59004b33-934d-4df1-bd4d-ad1fcbe052e0\",\"type\":\"LogTickFormatter\"},\"plot\":{\"id\":\"1d5d67f1-ce8f-48fe-828d-e36c4e75504a\",\"subtype\":\"Figure\",\"type\":\"Plot\"},\"ticker\":{\"id\":\"518c3b70-1439-447a-affc-55bb7f85c791\",\"type\":\"LogTicker\"}},\"id\":\"a634ce44-d352-4fc6-bb42-eee2fe660ae6\",\"type\":\"LogAxis\"},{\"attributes\":{\"ticker\":null},\"id\":\"56a9812a-5542-4c7f-9628-cb828cc0d22e\",\"type\":\"LogTickFormatter\"},{\"attributes\":{\"num_minor_ticks\":10},\"id\":\"518c3b70-1439-447a-affc-55bb7f85c791\",\"type\":\"LogTicker\"},{\"attributes\":{},\"id\":\"9f551d82-4936-45a1-b758-9f69521785cd\",\"type\":\"UnionRenderers\"},{\"attributes\":{\"dimension\":1,\"plot\":{\"id\":\"1d5d67f1-ce8f-48fe-828d-e36c4e75504a\",\"subtype\":\"Figure\",\"type\":\"Plot\"},\"ticker\":{\"id\":\"518c3b70-1439-447a-affc-55bb7f85c791\",\"type\":\"LogTicker\"}},\"id\":\"87034b13-a0b5-481a-bfec-99fda19131fe\",\"type\":\"Grid\"},{\"attributes\":{},\"id\":\"490ff30c-94a8-4ce4-9bfc-eecf1b6d8b81\",\"type\":\"Selection\"},{\"attributes\":{\"callback\":null,\"data\":{\"x\":{\"__ndarray__\":\"1u8/es7LLb+pM/oV7XMgv+kLvRxCZBm/w7nsZlTNBz9IEIN1H9otP9HDlQSpuD0/xcxjR1y/SD/GiMojVPlSP+EWhB8JNVs/EMk/HOyZYj+1k2K7y6JoP8NCgJ837W8/eLMCWxdSdD8pY9vlxN54P4pu7AMY8Hw/GSqDSuNugD8wnfUx742CP9nFn27BzoQ/FGzQVcIshz/xgz84qayJP5AJmMNlSow/DEm0hH+Iij9Lw2v9hieDP3sshjXRg3g/HNFfHimYbT+BQ7sRdWJgP/JZQQS6hU4/xHtf6H/ZND/71v6jLtSavnuGaC9QVSq/rmcXfSAkN7/XC44bvn4+v0+HeZG/PkG/R3Y2lbjxQb8k9dwJiJ5Dv/hIOQWhj0W/Wx6cYprFRr8UziDKPMtHv8rHFOBUbki/rz6Y1qzuSL8w6FfE83lJv78VQtUxlkq/UYuFhcHaS7+tmwu8MetMv7gTOabLpU2/5Vzub+QATb/J4cpIl1VJv4+Y9OSpQ0O/TQyY9k93Nr/d2CZ/RTsAv76WkQENhjY/bQOS/HKmST+jDuFO2DRVPx+gNWcPwF4/pFdlUP1kZD8WA3IpseJpP0fnvEI/zG8/c0tEYyEGcz8yuYzrPEJ2PwJwOmnkank/cJN14nByfD8haEmjqW5/P153kiv3LYE/P6ajz8+cgj+JkRBqIASEP0XH2IA9Y4U/rxa+Dx6lhj/079e9RcKHP4FcWdelnIg/J0tX92IEiT+J5rWdrNSIP6RG6x95JIg/DMSr314vhz/XAnPbWx2GP/K+Q7TKCoU/\",\"dtype\":\"float64\",\"shape\":[75]},\"y\":{\"__ndarray__\":\"GhExyth1ND/Sv8nbtpRIP2vylNV0PVE/aTum7souWD/At0SJ8fVgPw3Iuahxymc/MSNhhJWvcD/bTfBN02d3P2zb5nxnaoA/CD5h5MAGhz8NmeH1TyaQP+zrCsc9p5Y/LbKd76fGnz/bLW5ISEmmPww9YvTcQq8/JV2OstnstT8Er5Y7M8G+P0c+r3jqkcU/5h99k6ZBzj88bCIzFzjVP4enV8oyxN0//yH99nXg5D8qOpLLf0jtP5kqGJXUifQ/c9cS8kHP/D+/DpwzojQEQIEmwoanVwxA4lgXt9HgE0BSSZ2AJuIbQAMJih9jjiNA5q4l5INuK0AwTKYKRj0zQNv5fmq8/DpAaCJseHrtQkB/+zpwzoxKQM3MzMzMeFJAZmZmZmZqWEAAAAAAAFxeQM3MzMzMJmJAmpmZmZkfZUBmZmZmZhhoQDMzMzMzEWtAAAAAAAAKbkBmZmZmZoFwQM3MzMzM/XFAMzMzMzN6c0CamZmZmfZ0QAAAAAAAc3ZAZmZmZmbvd0DNzMzMzGt5QDMzMzMz6HpAmpmZmZlkfEAAAAAAAOF9QGZmZmZmXX9AZmZmZuZsgECamZmZGSuBQM3MzMxM6YFAAAAAAICngkAzMzMzs2WDQGZmZmbmI4RAmpmZmRnihEDNzMzMTKCFQAAAAACAXoZAMzMzM7Mch0BmZmZm5tqHQJqZmZkZmYhAzczMzExXiUAAAAAAgBWKQDMzMzOz04pAZmZmZuaRi0CamZmZGVCMQM3MzMxMDo1AAAAAAIDMjUAzMzMzs4qOQGZmZmbmSI9A\",\"dtype\":\"float64\",\"shape\":[75]}},\"selected\":{\"id\":\"a6cf972f-1062-4836-b1ee-d18005b7e0f2\",\"type\":\"Selection\"},\"selection_policy\":{\"id\":\"536dad7f-cabf-4cac-93f1-e7827748043a\",\"type\":\"UnionRenderers\"}},\"id\":\"2d8b0208-2b4d-472e-98f6-9abd8d1ca401\",\"type\":\"ColumnDataSource\"},{\"attributes\":{},\"id\":\"11dc57bc-f05e-42d9-806d-00c1ea230ecb\",\"type\":\"UnionRenderers\"},{\"attributes\":{},\"id\":\"d4b6ad06-0638-445b-952d-38e35cdcb829\",\"type\":\"Selection\"},{\"attributes\":{\"callback\":null,\"data\":{\"x\":{\"__ndarray__\":\"w8N4ECLVML8eeHEjecwpvzgr+EvPYga/DnBI/rPQJT+19AOtguA8P1q/MENIA0o/N25qu3haVD9ncJCpfJFdP0lp3g5dgmQ/4PtRYhSPaz95TSEh9BZyPw//Sue9VHc/egDzLLyafT9oWuWOQBOCP+14jvrO74Q/awPLJ9Kphz/samEZ0Z6KP98ICGfO1Y0/EqcQ9KeokD/IIiyF0YqSP0V+I8IwWpQ/UWCBe++Rkj/Ncj2XKQSKP6GxQHoKNoA/IwVS+7Ypcz9QTTqCa+BkPwDR9ZWPkVM//6Nx+dfDPT9q+hwZrpsbPwrPZs78aBi/GJAo8gvwLr82eJf2SjM2v+JxOsrgCjm/uhf781QaOb/EOtqAf4U5v+EPCRRjJTu/6U/fN0r4Pb+HLeG7UjBBv+kM5jpttUO/BkKV8Cf8Rb/bPAtApA5Iv8jb4xyY+Em/JG+z07PCS78GOOZ46nFNv5/Exe+H2U6/hZDAy/OpTr+88SkOQXVLv6ZhbudOZ0W/uEsj7VRuOr9DazxXxVkXv7g/bA4lETM/TBsMgH4qSD8xQ6U6F3tUP+0nOOau610/gysrJNgpZD8Sv7WeYMlpPw5WTP8zvm8/XUSsfDD2cj8y14CJOhp2P8z7rE/jO3k/5kH3AWRNfD9ekM7rkUd/PyQ82EZME4E/LEvi4nN1gj/pVwRnVcuDP162zU4JFYU/V+tlxItOhj/X8GuiGmiHP8ThdMSPO4g/vsl/TTaQiD8mN/DQJkSIP1sTq2FNc4c/DXUHO+tbhj/Ma+sKtS6FP/6CJdc4A4Q/\",\"dtype\":\"float64\",\"shape\":[75]},\"y\":{\"__ndarray__\":\"GhExyth1ND/Sv8nbtpRIP2vylNV0PVE/aTum7souWD/At0SJ8fVgPw3Iuahxymc/MSNhhJWvcD/bTfBN02d3P2zb5nxnaoA/CD5h5MAGhz8NmeH1TyaQP+zrCsc9p5Y/LbKd76fGnz/bLW5ISEmmPww9YvTcQq8/JV2OstnstT8Er5Y7M8G+P0c+r3jqkcU/5h99k6ZBzj88bCIzFzjVP4enV8oyxN0//yH99nXg5D8qOpLLf0jtP5kqGJXUifQ/c9cS8kHP/D+/DpwzojQEQIEmwoanVwxA4lgXt9HgE0BSSZ2AJuIbQAMJih9jjiNA5q4l5INuK0AwTKYKRj0zQNv5fmq8/DpAaCJseHrtQkB/+zpwzoxKQM3MzMzMeFJAZmZmZmZqWEAAAAAAAFxeQM3MzMzMJmJAmpmZmZkfZUBmZmZmZhhoQDMzMzMzEWtAAAAAAAAKbkBmZmZmZoFwQM3MzMzM/XFAMzMzMzN6c0CamZmZmfZ0QAAAAAAAc3ZAZmZmZmbvd0DNzMzMzGt5QDMzMzMz6HpAmpmZmZlkfEAAAAAAAOF9QGZmZmZmXX9AZmZmZuZsgECamZmZGSuBQM3MzMxM6YFAAAAAAICngkAzMzMzs2WDQGZmZmbmI4RAmpmZmRnihEDNzMzMTKCFQAAAAACAXoZAMzMzM7Mch0BmZmZm5tqHQJqZmZkZmYhAzczMzExXiUAAAAAAgBWKQDMzMzOz04pAZmZmZuaRi0CamZmZGVCMQM3MzMxMDo1AAAAAAIDMjUAzMzMzs4qOQGZmZmbmSI9A\",\"dtype\":\"float64\",\"shape\":[75]}},\"selected\":{\"id\":\"663a5ccd-98db-4149-befe-ef8b1b0265e2\",\"type\":\"Selection\"},\"selection_policy\":{\"id\":\"6228fddc-65dd-4304-881e-61cd4757b873\",\"type\":\"UnionRenderers\"}},\"id\":\"4588d455-ba5e-4801-ab2a-09bfc3cf7d33\",\"type\":\"ColumnDataSource\"},{\"attributes\":{},\"id\":\"87028647-f06c-4774-b4a3-7096a554a61b\",\"type\":\"UnionRenderers\"},{\"attributes\":{\"callback\":null,\"end\":0.01,\"start\":1020},\"id\":\"a0f6becd-53c6-4b0a-abba-1908aeb55027\",\"type\":\"Range1d\"},{\"attributes\":{\"plot\":null,\"text\":\"\"},\"id\":\"9a64a33a-23a0-4d14-902e-65377aeffbc4\",\"type\":\"Title\"},{\"attributes\":{\"line_alpha\":0.1,\"line_color\":\"#1f77b4\",\"line_dash\":[6],\"line_width\":5,\"x\":{\"field\":\"x\"},\"y\":{\"field\":\"y\"}},\"id\":\"adbe551c-57c8-483a-a9f2-aeb0cab5a412\",\"type\":\"Line\"},{\"attributes\":{\"toolbar\":{\"id\":\"390d2041-0e52-46a8-8a4f-67be166c00a6\",\"type\":\"ProxyToolbar\"},\"toolbar_location\":\"above\"},\"id\":\"4d5daaee-5c44-400a-9112-1f485e2db80f\",\"type\":\"ToolbarBox\"},{\"attributes\":{\"bottom_units\":\"screen\",\"fill_alpha\":{\"value\":0.5},\"fill_color\":{\"value\":\"lightgrey\"},\"left_units\":\"screen\",\"level\":\"overlay\",\"line_alpha\":{\"value\":1.0},\"line_color\":{\"value\":\"black\"},\"line_dash\":[4,4],\"line_width\":{\"value\":2},\"plot\":null,\"render_mode\":\"css\",\"right_units\":\"screen\",\"top_units\":\"screen\"},\"id\":\"e3fc4741-3891-48bf-b7c1-e3769ee98f24\",\"type\":\"BoxAnnotation\"},{\"attributes\":{\"data_source\":{\"id\":\"d1a0d2e0-7b3d-48bc-a268-6c39399334d9\",\"type\":\"ColumnDataSource\"},\"glyph\":{\"id\":\"90d1dcc0-da84-4636-968a-de7b0f18d00a\",\"type\":\"Line\"},\"hover_glyph\":null,\"muted_glyph\":null,\"nonselection_glyph\":{\"id\":\"9249fc4d-cd2c-473f-a53f-51217a1c6202\",\"type\":\"Line\"},\"selection_glyph\":null,\"view\":{\"id\":\"0d370686-e49a-4c73-a881-947f5e5e3ef8\",\"type\":\"CDSView\"}},\"id\":\"d4df86b7-c296-4a99-8017-81766e4b7f00\",\"type\":\"GlyphRenderer\"},{\"attributes\":{},\"id\":\"0969927f-6a13-4120-8f33-a8e51a3b0095\",\"type\":\"PanTool\"},{\"attributes\":{},\"id\":\"67781990-bb48-42b1-9481-456c69cb7f0f\",\"type\":\"Selection\"},{\"attributes\":{},\"id\":\"ab995773-28eb-47e2-a9b6-feaf823e1654\",\"type\":\"UnionRenderers\"},{\"attributes\":{},\"id\":\"7c22c65f-dffd-4470-9ddf-456744fce922\",\"type\":\"WheelZoomTool\"},{\"attributes\":{\"ticker\":null},\"id\":\"59004b33-934d-4df1-bd4d-ad1fcbe052e0\",\"type\":\"LogTickFormatter\"},{\"attributes\":{\"overlay\":{\"id\":\"e3fc4741-3891-48bf-b7c1-e3769ee98f24\",\"type\":\"BoxAnnotation\"}},\"id\":\"957339e2-a6a9-4379-992a-1adbef272d62\",\"type\":\"BoxZoomTool\"},{\"attributes\":{},\"id\":\"c0f7da74-76f0-4206-98cb-03fb872201a3\",\"type\":\"UnionRenderers\"},{\"attributes\":{},\"id\":\"7f0857ea-1e96-41b8-980e-f8099bf8f32a\",\"type\":\"SaveTool\"},{\"attributes\":{},\"id\":\"4ce0214a-6280-4f4b-9a0b-3ac9f0e3b8f3\",\"type\":\"Selection\"},{\"attributes\":{},\"id\":\"66c8c0a7-d1b0-41f7-af1f-c4e70c000b25\",\"type\":\"ResetTool\"},{\"attributes\":{\"tools\":[{\"id\":\"6333d8f2-9e58-468d-b7ba-d67d26088d77\",\"type\":\"PanTool\"},{\"id\":\"a4a05a78-a94a-4761-b933-df32ab77f0da\",\"type\":\"WheelZoomTool\"},{\"id\":\"0b00d255-b328-4b25-bcdd-6ba551c302f9\",\"type\":\"BoxZoomTool\"},{\"id\":\"f4a24c67-e51b-4132-88f1-db4e7af58c26\",\"type\":\"SaveTool\"},{\"id\":\"b2b5f167-10a7-429c-8435-9ccb1e6f7d80\",\"type\":\"ResetTool\"},{\"id\":\"72b03c97-b36e-498f-9914-1b2a38e65a05\",\"type\":\"HelpTool\"},{\"id\":\"72cc6fc6-b4f7-4fe8-af6c-64ad7158c5a0\",\"type\":\"PanTool\"},{\"id\":\"68852b4c-6009-44de-ab6b-31764d9d96e0\",\"type\":\"WheelZoomTool\"},{\"id\":\"0fde7e90-6a9e-49cb-a718-ca0343868430\",\"type\":\"BoxZoomTool\"},{\"id\":\"5cb6fa4d-854e-4298-b7fd-8bce2d1c357b\",\"type\":\"SaveTool\"},{\"id\":\"9af7166e-a157-4260-8f70-ad7e4e06571c\",\"type\":\"ResetTool\"},{\"id\":\"edcb99ed-41e9-40e5-93da-57b7b47510d0\",\"type\":\"HelpTool\"},{\"id\":\"0969927f-6a13-4120-8f33-a8e51a3b0095\",\"type\":\"PanTool\"},{\"id\":\"7c22c65f-dffd-4470-9ddf-456744fce922\",\"type\":\"WheelZoomTool\"},{\"id\":\"957339e2-a6a9-4379-992a-1adbef272d62\",\"type\":\"BoxZoomTool\"},{\"id\":\"7f0857ea-1e96-41b8-980e-f8099bf8f32a\",\"type\":\"SaveTool\"},{\"id\":\"66c8c0a7-d1b0-41f7-af1f-c4e70c000b25\",\"type\":\"ResetTool\"},{\"id\":\"08a4d8b2-5753-479c-b3a5-b4850e04107f\",\"type\":\"HelpTool\"}]},\"id\":\"390d2041-0e52-46a8-8a4f-67be166c00a6\",\"type\":\"ProxyToolbar\"},{\"attributes\":{},\"id\":\"08a4d8b2-5753-479c-b3a5-b4850e04107f\",\"type\":\"HelpTool\"},{\"attributes\":{},\"id\":\"84f4ccb0-94a3-446c-a432-4cb49897cbcc\",\"type\":\"Selection\"},{\"attributes\":{\"data_source\":{\"id\":\"2d8b0208-2b4d-472e-98f6-9abd8d1ca401\",\"type\":\"ColumnDataSource\"},\"glyph\":{\"id\":\"306c65c9-3ef0-4213-9fdd-beb0ec28c955\",\"type\":\"Line\"},\"hover_glyph\":null,\"muted_glyph\":null,\"nonselection_glyph\":{\"id\":\"adbe551c-57c8-483a-a9f2-aeb0cab5a412\",\"type\":\"Line\"},\"selection_glyph\":null,\"view\":{\"id\":\"b068bfbd-3bfe-436f-ae41-8aaf522b94c1\",\"type\":\"CDSView\"}},\"id\":\"45755cd6-739d-4b73-8d96-162d983eb258\",\"type\":\"GlyphRenderer\"},{\"attributes\":{},\"id\":\"88b9c938-81e2-420b-9fc0-ba69712de178\",\"type\":\"UnionRenderers\"},{\"attributes\":{\"children\":[{\"id\":\"4d5daaee-5c44-400a-9112-1f485e2db80f\",\"type\":\"ToolbarBox\"},{\"id\":\"70223f58-c550-4d31-b2e6-7d44b94e9d88\",\"type\":\"Column\"}]},\"id\":\"71d6f970-0c0d-4b6f-b25d-2f6ebecc43d7\",\"type\":\"Column\"},{\"attributes\":{\"source\":{\"id\":\"4588d455-ba5e-4801-ab2a-09bfc3cf7d33\",\"type\":\"ColumnDataSource\"}},\"id\":\"7d56c256-5c72-4dba-b8eb-7b69782b7650\",\"type\":\"CDSView\"},{\"attributes\":{\"callback\":null,\"data\":{\"x\":{\"__ndarray__\":\"w8N4ECLVML8eeHEjecwpvzgr+EvPYga/DnBI/rPQJT+19AOtguA8P1q/MENIA0o/N25qu3haVD9ncJCpfJFdP0lp3g5dgmQ/4PtRYhSPaz95TSEh9BZyPw//Sue9VHc/egDzLLyafT9oWuWOQBOCP+14jvrO74Q/awPLJ9Kphz/samEZ0Z6KP98ICGfO1Y0/EqcQ9KeokD/IIiyF0YqSP0V+I8IwWpQ/UWCBe++Rkj/Ncj2XKQSKP6GxQHoKNoA/IwVS+7Ypcz9QTTqCa+BkPwDR9ZWPkVM//6Nx+dfDPT9q+hwZrpsbPwrPZs78aBi/GJAo8gvwLr82eJf2SjM2v+JxOsrgCjm/uhf781QaOb/EOtqAf4U5v+EPCRRjJTu/6U/fN0r4Pb+HLeG7UjBBv+kM5jpttUO/BkKV8Cf8Rb/bPAtApA5Iv8jb4xyY+Em/JG+z07PCS78GOOZ46nFNv5/Exe+H2U6/hZDAy/OpTr+88SkOQXVLv6ZhbudOZ0W/uEsj7VRuOr9DazxXxVkXv7g/bA4lETM/TBsMgH4qSD8xQ6U6F3tUP+0nOOau610/gysrJNgpZD8Sv7WeYMlpPw5WTP8zvm8/XUSsfDD2cj8y14CJOhp2P8z7rE/jO3k/5kH3AWRNfD9ekM7rkUd/PyQ82EZME4E/LEvi4nN1gj/pVwRnVcuDP162zU4JFYU/V+tlxItOhj/X8GuiGmiHP8ThdMSPO4g/vsl/TTaQiD8mN/DQJkSIP1sTq2FNc4c/DXUHO+tbhj/Ma+sKtS6FP/6CJdc4A4Q/\",\"dtype\":\"float64\",\"shape\":[75]},\"y\":{\"__ndarray__\":\"GhExyth1ND/Sv8nbtpRIP2vylNV0PVE/aTum7souWD/At0SJ8fVgPw3Iuahxymc/MSNhhJWvcD/bTfBN02d3P2zb5nxnaoA/CD5h5MAGhz8NmeH1TyaQP+zrCsc9p5Y/LbKd76fGnz/bLW5ISEmmPww9YvTcQq8/JV2OstnstT8Er5Y7M8G+P0c+r3jqkcU/5h99k6ZBzj88bCIzFzjVP4enV8oyxN0//yH99nXg5D8qOpLLf0jtP5kqGJXUifQ/c9cS8kHP/D+/DpwzojQEQIEmwoanVwxA4lgXt9HgE0BSSZ2AJuIbQAMJih9jjiNA5q4l5INuK0AwTKYKRj0zQNv5fmq8/DpAaCJseHrtQkB/+zpwzoxKQM3MzMzMeFJAZmZmZmZqWEAAAAAAAFxeQM3MzMzMJmJAmpmZmZkfZUBmZmZmZhhoQDMzMzMzEWtAAAAAAAAKbkBmZmZmZoFwQM3MzMzM/XFAMzMzMzN6c0CamZmZmfZ0QAAAAAAAc3ZAZmZmZmbvd0DNzMzMzGt5QDMzMzMz6HpAmpmZmZlkfEAAAAAAAOF9QGZmZmZmXX9AZmZmZuZsgECamZmZGSuBQM3MzMxM6YFAAAAAAICngkAzMzMzs2WDQGZmZmbmI4RAmpmZmRnihEDNzMzMTKCFQAAAAACAXoZAMzMzM7Mch0BmZmZm5tqHQJqZmZkZmYhAzczMzExXiUAAAAAAgBWKQDMzMzOz04pAZmZmZuaRi0CamZmZGVCMQM3MzMxMDo1AAAAAAIDMjUAzMzMzs4qOQGZmZmbmSI9A\",\"dtype\":\"float64\",\"shape\":[75]}},\"selected\":{\"id\":\"e748258f-6015-4968-afd1-000f9ceeec71\",\"type\":\"Selection\"},\"selection_policy\":{\"id\":\"0a8421d8-0b63-49c2-a9d3-7e4b05f03f20\",\"type\":\"UnionRenderers\"}},\"id\":\"e1f7dc01-6f32-4d1d-82bb-193d039e16e1\",\"type\":\"ColumnDataSource\"},{\"attributes\":{\"data_source\":{\"id\":\"4588d455-ba5e-4801-ab2a-09bfc3cf7d33\",\"type\":\"ColumnDataSource\"},\"glyph\":{\"id\":\"e15b7a90-af03-4143-88ff-75de0d02ce71\",\"type\":\"Circle\"},\"hover_glyph\":null,\"muted_glyph\":null,\"nonselection_glyph\":{\"id\":\"96fff2d9-f9ed-464c-bcef-0b70f4805b4c\",\"type\":\"Circle\"},\"selection_glyph\":null,\"view\":{\"id\":\"7d56c256-5c72-4dba-b8eb-7b69782b7650\",\"type\":\"CDSView\"}},\"id\":\"e6f1f8b5-4342-4295-a7f2-19944653b7f2\",\"type\":\"GlyphRenderer\"},{\"attributes\":{\"line_color\":\"#4daf4a\",\"line_width\":1.5,\"x\":{\"field\":\"x\"},\"y\":{\"field\":\"y\"}},\"id\":\"3f4fec3e-59a2-4a63-8ee9-27e40b64e651\",\"type\":\"Line\"},{\"attributes\":{},\"id\":\"85f3541c-9182-4a71-bf7e-2c7bd7694f0a\",\"type\":\"Selection\"},{\"attributes\":{\"fill_alpha\":{\"value\":0.1},\"fill_color\":{\"value\":\"#1f77b4\"},\"line_alpha\":{\"value\":0.1},\"line_color\":{\"value\":\"#1f77b4\"},\"x\":{\"field\":\"x\"},\"y\":{\"field\":\"y\"}},\"id\":\"96fff2d9-f9ed-464c-bcef-0b70f4805b4c\",\"type\":\"Circle\"}],\"root_ids\":[\"71d6f970-0c0d-4b6f-b25d-2f6ebecc43d7\"]},\"title\":\"Bokeh Application\",\"version\":\"0.12.16\"}};\n",
       "  var render_items = [{\"docid\":\"cbedacb4-6b97-4fcc-bd37-6ed0aed3b2d4\",\"elementid\":\"85027b8d-006d-4041-931b-3c9975094640\",\"modelid\":\"71d6f970-0c0d-4b6f-b25d-2f6ebecc43d7\"}];\n",
       "  root.Bokeh.embed.embed_items_notebook(docs_json, render_items);\n",
       "\n",
       "  }\n",
       "  if (root.Bokeh !== undefined) {\n",
       "    embed_document(root);\n",
       "  } else {\n",
       "    var attempts = 0;\n",
       "    var timer = setInterval(function(root) {\n",
       "      if (root.Bokeh !== undefined) {\n",
       "        embed_document(root);\n",
       "        clearInterval(timer);\n",
       "      }\n",
       "      attempts++;\n",
       "      if (attempts > 100) {\n",
       "        console.log(\"Bokeh: ERROR: Unable to run BokehJS code because BokehJS library is missing\")\n",
       "        clearInterval(timer);\n",
       "      }\n",
       "    }, 10, root)\n",
       "  }\n",
       "})(window);"
      ],
      "application/vnd.bokehjs_exec.v0+json": ""
     },
     "metadata": {
      "application/vnd.bokehjs_exec.v0+json": {
       "id": "71d6f970-0c0d-4b6f-b25d-2f6ebecc43d7"
      }
     },
     "output_type": "display_data"
    },
    {
     "data": {
      "text/markdown": [
       "--------------------------"
      ],
      "text/plain": [
       "<IPython.core.display.Markdown object>"
      ]
     },
     "metadata": {},
     "output_type": "display_data"
    }
   ],
   "source": [
    "ida = show_results(dlbl=data_lbl, dcli=data_cli, add_idanchor=True)\n",
    "show_href(df=LINKS, idanchor=ida, dlbl=data_lbl, dcli=data_cli)"
   ]
  },
  {
   "cell_type": "code",
   "execution_count": null,
   "metadata": {
    "collapsed": true
   },
   "outputs": [],
   "source": []
  },
  {
   "cell_type": "code",
   "execution_count": 177,
   "metadata": {
    "collapsed": true
   },
   "outputs": [],
   "source": [
    "# CO2 overlapped with other gases"
   ]
  },
  {
   "cell_type": "code",
   "execution_count": 36,
   "metadata": {
    "collapsed": true
   },
   "outputs": [],
   "source": [
    "atmpro = 'trp'"
   ]
  },
  {
   "cell_type": "code",
   "execution_count": 37,
   "metadata": {
    "collapsed": true
   },
   "outputs": [],
   "source": [
    "atmolp = atmcomps_olp[1]"
   ]
  },
  {
   "cell_type": "code",
   "execution_count": 38,
   "metadata": {
    "collapsed": true
   },
   "outputs": [],
   "source": [
    "parm_cli = atmolp.to_cliradparam(commitnumber=COMMITNUMBER, atmpro=atmpro, tsfc=ATMPRO[atmpro])"
   ]
  },
  {
   "cell_type": "code",
   "execution_count": 39,
   "metadata": {
    "collapsed": true
   },
   "outputs": [],
   "source": [
    "data_cli = parm_cli.modeldata_pymongo(collection=CLIENT.cliradnew.lw)"
   ]
  },
  {
   "cell_type": "code",
   "execution_count": 40,
   "metadata": {
    "collapsed": true
   },
   "outputs": [],
   "source": [
    "parms_lbl = atmolp.to_lblnewparam(bestfit_values=True, atmpro=atmpro, tsfc=ATMPRO[atmpro], dv=DV, nv=NV)"
   ]
  },
  {
   "cell_type": "code",
   "execution_count": 41,
   "metadata": {},
   "outputs": [
    {
     "data": {
      "text/plain": [
       "[<class 'climatools.parameters.LBLnewOverlapParam'>\n",
       " atmpro: trp\n",
       " band: 3b\n",
       " commitnumber: None\n",
       " dv: 0.001\n",
       " molecule: {'h2o': 'atmpro', 'co2': 0.0008}\n",
       " nv: 1000\n",
       " tsfc: 300]"
      ]
     },
     "execution_count": 41,
     "metadata": {},
     "output_type": "execute_result"
    }
   ],
   "source": [
    "parms_lbl"
   ]
  },
  {
   "cell_type": "code",
   "execution_count": 42,
   "metadata": {},
   "outputs": [
    {
     "data": {
      "text/plain": [
       "['a22ab94']"
      ]
     },
     "execution_count": 42,
     "metadata": {},
     "output_type": "execute_result"
    }
   ],
   "source": [
    "parms_lbl[0].avail_commits(collection=CLIENT.lblnew.overlap_lw)"
   ]
  },
  {
   "cell_type": "code",
   "execution_count": 43,
   "metadata": {
    "collapsed": true
   },
   "outputs": [],
   "source": [
    "data_lbl = parms_lbl[0].modeldata_pymongo(collection=CLIENT.lblnew.overlap_lw)"
   ]
  },
  {
   "cell_type": "code",
   "execution_count": 44,
   "metadata": {},
   "outputs": [
    {
     "data": {
      "text/markdown": [
       "-----------------------------"
      ],
      "text/plain": [
       "<IPython.core.display.Markdown object>"
      ]
     },
     "metadata": {},
     "output_type": "display_data"
    },
    {
     "data": {
      "text/markdown": [
       "<a id=\"81860855655\"></a>"
      ],
      "text/plain": [
       "<IPython.core.display.Markdown object>"
      ]
     },
     "metadata": {},
     "output_type": "display_data"
    },
    {
     "data": {
      "text/markdown": [
       "[4] {'h2o': 'atmpro', 'co2': 0.0008} trp"
      ],
      "text/plain": [
       "<IPython.core.display.Markdown object>"
      ]
     },
     "metadata": {},
     "output_type": "display_data"
    },
    {
     "data": {
      "text/html": [
       "<div>\n",
       "<style scoped>\n",
       "    .dataframe tbody tr th:only-of-type {\n",
       "        vertical-align: middle;\n",
       "    }\n",
       "\n",
       "    .dataframe tbody tr th {\n",
       "        vertical-align: top;\n",
       "    }\n",
       "\n",
       "    .dataframe thead tr th {\n",
       "        text-align: left;\n",
       "    }\n",
       "</style>\n",
       "<table border=\"1\" class=\"dataframe\">\n",
       "  <thead>\n",
       "    <tr>\n",
       "      <th></th>\n",
       "      <th colspan=\"2\" halign=\"left\">Run parameters</th>\n",
       "      <th colspan=\"2\" halign=\"left\">Fit parameters</th>\n",
       "    </tr>\n",
       "    <tr>\n",
       "      <th></th>\n",
       "      <th>CLIRAD</th>\n",
       "      <th>LBLNEW</th>\n",
       "      <th>(co2, 3b)</th>\n",
       "      <th>(h2o, 3b)</th>\n",
       "    </tr>\n",
       "  </thead>\n",
       "  <tbody>\n",
       "    <tr>\n",
       "      <th>atmpro</th>\n",
       "      <td>trp</td>\n",
       "      <td>trp</td>\n",
       "      <td>mls</td>\n",
       "      <td>trp</td>\n",
       "    </tr>\n",
       "    <tr>\n",
       "      <th>band</th>\n",
       "      <td>[4]</td>\n",
       "      <td>3b</td>\n",
       "      <td>3b</td>\n",
       "      <td>3b</td>\n",
       "    </tr>\n",
       "    <tr>\n",
       "      <th>commitnumber</th>\n",
       "      <td>1013f91</td>\n",
       "      <td>a22ab94</td>\n",
       "      <td>a22ab94</td>\n",
       "      <td>a06b618</td>\n",
       "    </tr>\n",
       "    <tr>\n",
       "      <th>conc</th>\n",
       "      <td>-</td>\n",
       "      <td>-</td>\n",
       "      <td>0.0004</td>\n",
       "      <td>-</td>\n",
       "    </tr>\n",
       "    <tr>\n",
       "      <th>dv</th>\n",
       "      <td>-</td>\n",
       "      <td>0.001</td>\n",
       "      <td>0.001</td>\n",
       "      <td>0.001</td>\n",
       "    </tr>\n",
       "    <tr>\n",
       "      <th>klin</th>\n",
       "      <td>-</td>\n",
       "      <td>-</td>\n",
       "      <td>0</td>\n",
       "      <td>1e-24</td>\n",
       "    </tr>\n",
       "    <tr>\n",
       "      <th>molecule</th>\n",
       "      <td>{'h2o': 'atmpro', 'co2': 0.0008}</td>\n",
       "      <td>{'co2': 0.0008, 'h2o': 'atmpro'}</td>\n",
       "      <td>co2</td>\n",
       "      <td>h2o</td>\n",
       "    </tr>\n",
       "    <tr>\n",
       "      <th>ng_adju</th>\n",
       "      <td>-</td>\n",
       "      <td>-</td>\n",
       "      <td>[0, 0]</td>\n",
       "      <td>[0]</td>\n",
       "    </tr>\n",
       "    <tr>\n",
       "      <th>ng_refs</th>\n",
       "      <td>-</td>\n",
       "      <td>-</td>\n",
       "      <td>[5, 4]</td>\n",
       "      <td>[6]</td>\n",
       "    </tr>\n",
       "    <tr>\n",
       "      <th>nv</th>\n",
       "      <td>-</td>\n",
       "      <td>1000</td>\n",
       "      <td>1000</td>\n",
       "      <td>1000</td>\n",
       "    </tr>\n",
       "    <tr>\n",
       "      <th>option_compute_btable</th>\n",
       "      <td>-</td>\n",
       "      <td>-</td>\n",
       "      <td>1</td>\n",
       "      <td>0</td>\n",
       "    </tr>\n",
       "    <tr>\n",
       "      <th>option_compute_ktable</th>\n",
       "      <td>-</td>\n",
       "      <td>-</td>\n",
       "      <td>1</td>\n",
       "      <td>1</td>\n",
       "    </tr>\n",
       "    <tr>\n",
       "      <th>option_wgt_flux</th>\n",
       "      <td>-</td>\n",
       "      <td>-</td>\n",
       "      <td>1</td>\n",
       "      <td>1</td>\n",
       "    </tr>\n",
       "    <tr>\n",
       "      <th>option_wgt_k</th>\n",
       "      <td>-</td>\n",
       "      <td>-</td>\n",
       "      <td>1</td>\n",
       "      <td>1</td>\n",
       "    </tr>\n",
       "    <tr>\n",
       "      <th>ref_pts</th>\n",
       "      <td>-</td>\n",
       "      <td>-</td>\n",
       "      <td>[(1, 250), (10, 250)]</td>\n",
       "      <td>[(600, 250)]</td>\n",
       "    </tr>\n",
       "    <tr>\n",
       "      <th>tsfc</th>\n",
       "      <td>300</td>\n",
       "      <td>300</td>\n",
       "      <td>294</td>\n",
       "      <td>294</td>\n",
       "    </tr>\n",
       "    <tr>\n",
       "      <th>vmax</th>\n",
       "      <td>-</td>\n",
       "      <td>-</td>\n",
       "      <td>720</td>\n",
       "      <td>720</td>\n",
       "    </tr>\n",
       "    <tr>\n",
       "      <th>vmin</th>\n",
       "      <td>-</td>\n",
       "      <td>-</td>\n",
       "      <td>620</td>\n",
       "      <td>620</td>\n",
       "    </tr>\n",
       "    <tr>\n",
       "      <th>w_diffuse</th>\n",
       "      <td>-</td>\n",
       "      <td>-</td>\n",
       "      <td>[(1.66, 1.66, 1.66, 1.66, 1.66), (1.66, 1.66, 1.66, 1.66)]</td>\n",
       "      <td>[(1.66, 1.66, 1.66, 1.55, 1.5, 1.66)]</td>\n",
       "    </tr>\n",
       "    <tr>\n",
       "      <th>wgt</th>\n",
       "      <td>-</td>\n",
       "      <td>-</td>\n",
       "      <td>[(0, 0.5, 0.4, 0.6, 0.65), (0.7, 0.7, 0.55, 0.6)]</td>\n",
       "      <td>[(0.8, 0.8, 0.8, 0.6, 0.6, 0.9)]</td>\n",
       "    </tr>\n",
       "  </tbody>\n",
       "</table>\n",
       "</div>"
      ],
      "text/plain": [
       "                                         Run parameters  \\\n",
       "                                                 CLIRAD   \n",
       "atmpro                 trp                                \n",
       "band                   [4]                                \n",
       "commitnumber           1013f91                            \n",
       "conc                   -                                  \n",
       "dv                     -                                  \n",
       "klin                   -                                  \n",
       "molecule               {'h2o': 'atmpro', 'co2': 0.0008}   \n",
       "ng_adju                -                                  \n",
       "ng_refs                -                                  \n",
       "nv                     -                                  \n",
       "option_compute_btable  -                                  \n",
       "option_compute_ktable  -                                  \n",
       "option_wgt_flux        -                                  \n",
       "option_wgt_k           -                                  \n",
       "ref_pts                -                                  \n",
       "tsfc                   300                                \n",
       "vmax                   -                                  \n",
       "vmin                   -                                  \n",
       "w_diffuse              -                                  \n",
       "wgt                    -                                  \n",
       "\n",
       "                                                         \\\n",
       "                                                 LBLNEW   \n",
       "atmpro                 trp                                \n",
       "band                   3b                                 \n",
       "commitnumber           a22ab94                            \n",
       "conc                   -                                  \n",
       "dv                     0.001                              \n",
       "klin                   -                                  \n",
       "molecule               {'co2': 0.0008, 'h2o': 'atmpro'}   \n",
       "ng_adju                -                                  \n",
       "ng_refs                -                                  \n",
       "nv                     1000                               \n",
       "option_compute_btable  -                                  \n",
       "option_compute_ktable  -                                  \n",
       "option_wgt_flux        -                                  \n",
       "option_wgt_k           -                                  \n",
       "ref_pts                -                                  \n",
       "tsfc                   300                                \n",
       "vmax                   -                                  \n",
       "vmin                   -                                  \n",
       "w_diffuse              -                                  \n",
       "wgt                    -                                  \n",
       "\n",
       "                                                                   Fit parameters  \\\n",
       "                                                                        (co2, 3b)   \n",
       "atmpro                 mls                                                          \n",
       "band                   3b                                                           \n",
       "commitnumber           a22ab94                                                      \n",
       "conc                   0.0004                                                       \n",
       "dv                     0.001                                                        \n",
       "klin                   0                                                            \n",
       "molecule               co2                                                          \n",
       "ng_adju                [0, 0]                                                       \n",
       "ng_refs                [5, 4]                                                       \n",
       "nv                     1000                                                         \n",
       "option_compute_btable  1                                                            \n",
       "option_compute_ktable  1                                                            \n",
       "option_wgt_flux        1                                                            \n",
       "option_wgt_k           1                                                            \n",
       "ref_pts                [(1, 250), (10, 250)]                                        \n",
       "tsfc                   294                                                          \n",
       "vmax                   720                                                          \n",
       "vmin                   620                                                          \n",
       "w_diffuse              [(1.66, 1.66, 1.66, 1.66, 1.66), (1.66, 1.66, 1.66, 1.66)]   \n",
       "wgt                    [(0, 0.5, 0.4, 0.6, 0.65), (0.7, 0.7, 0.55, 0.6)]            \n",
       "\n",
       "                                                              \n",
       "                                                   (h2o, 3b)  \n",
       "atmpro                 trp                                    \n",
       "band                   3b                                     \n",
       "commitnumber           a06b618                                \n",
       "conc                   -                                      \n",
       "dv                     0.001                                  \n",
       "klin                   1e-24                                  \n",
       "molecule               h2o                                    \n",
       "ng_adju                [0]                                    \n",
       "ng_refs                [6]                                    \n",
       "nv                     1000                                   \n",
       "option_compute_btable  0                                      \n",
       "option_compute_ktable  1                                      \n",
       "option_wgt_flux        1                                      \n",
       "option_wgt_k           1                                      \n",
       "ref_pts                [(600, 250)]                           \n",
       "tsfc                   294                                    \n",
       "vmax                   720                                    \n",
       "vmin                   620                                    \n",
       "w_diffuse              [(1.66, 1.66, 1.66, 1.55, 1.5, 1.66)]  \n",
       "wgt                    [(0.8, 0.8, 0.8, 0.6, 0.6, 0.9)]       "
      ]
     },
     "metadata": {},
     "output_type": "display_data"
    },
    {
     "data": {
      "text/html": [
       "\n",
       "<div class=\"bk-root\">\n",
       "    <div class=\"bk-plotdiv\" id=\"14f90768-36fb-400e-bdec-37d4c77b41f0\"></div>\n",
       "</div>"
      ]
     },
     "metadata": {},
     "output_type": "display_data"
    },
    {
     "data": {
      "application/javascript": [
       "(function(root) {\n",
       "  function embed_document(root) {\n",
       "    \n",
       "  var docs_json = {\"004e935d-0c65-4dc8-8504-2096dea4f065\":{\"roots\":{\"references\":[{\"attributes\":{\"bottom_units\":\"screen\",\"fill_alpha\":{\"value\":0.5},\"fill_color\":{\"value\":\"lightgrey\"},\"left_units\":\"screen\",\"level\":\"overlay\",\"line_alpha\":{\"value\":1.0},\"line_color\":{\"value\":\"black\"},\"line_dash\":[4,4],\"line_width\":{\"value\":2},\"plot\":null,\"render_mode\":\"css\",\"right_units\":\"screen\",\"top_units\":\"screen\"},\"id\":\"0225a413-2a95-4638-943e-234d3607636a\",\"type\":\"BoxAnnotation\"},{\"attributes\":{\"line_alpha\":0.1,\"line_color\":\"#1f77b4\",\"line_width\":8,\"x\":{\"field\":\"x\"},\"y\":{\"field\":\"y\"}},\"id\":\"604235c3-e099-4e3b-9db7-0e7f2a67e8fd\",\"type\":\"Line\"},{\"attributes\":{},\"id\":\"174a7262-7791-4097-8587-7c3872b9c5c3\",\"type\":\"PanTool\"},{\"attributes\":{},\"id\":\"6b42b805-e7aa-4bce-95a6-60002f664b33\",\"type\":\"Selection\"},{\"attributes\":{\"items\":[{\"id\":\"a7c08888-8d5a-4f75-b741-ec7357fc3c96\",\"type\":\"LegendItem\"},{\"id\":\"71175ef9-0205-4715-921e-f5ea51fb13bc\",\"type\":\"LegendItem\"},{\"id\":\"51caf67b-59df-4883-9f72-27d55c5de003\",\"type\":\"LegendItem\"}],\"label_text_font_size\":{\"value\":\"8pt\"},\"location\":\"top_center\",\"orientation\":\"horizontal\",\"plot\":{\"id\":\"1c40a4f5-02c9-4eb2-95a5-e20bd826e212\",\"subtype\":\"Figure\",\"type\":\"Plot\"}},\"id\":\"de2d17af-2400-4aba-8709-725265f1f94d\",\"type\":\"Legend\"},{\"attributes\":{},\"id\":\"4d22add8-262e-44bb-b8f3-a2f49a9d1ffb\",\"type\":\"WheelZoomTool\"},{\"attributes\":{\"plot\":null,\"text\":\"\"},\"id\":\"60588436-c8d7-4bf5-ae94-b867fa32c08f\",\"type\":\"Title\"},{\"attributes\":{\"overlay\":{\"id\":\"0225a413-2a95-4638-943e-234d3607636a\",\"type\":\"BoxAnnotation\"}},\"id\":\"e5d020d3-0612-4f54-8cc5-dd64c3847b8d\",\"type\":\"BoxZoomTool\"},{\"attributes\":{},\"id\":\"a3ad15c0-7aa7-443b-a278-9bed8655591c\",\"type\":\"SaveTool\"},{\"attributes\":{\"label\":{\"value\":\"WGT igg=10 - CRD\"},\"renderers\":[{\"id\":\"4185e2fd-7d94-40ae-8efe-3b9f70321f25\",\"type\":\"GlyphRenderer\"}]},\"id\":\"90cd833e-1651-4d89-b20a-d4885644c89a\",\"type\":\"LegendItem\"},{\"attributes\":{\"children\":[{\"id\":\"6a880aaa-7510-4190-bc57-b3a635be9ada\",\"type\":\"Row\"}]},\"id\":\"f94799f8-a2ec-4d35-a243-957d9342af5b\",\"type\":\"Column\"},{\"attributes\":{},\"id\":\"8091df17-cae0-42dd-b139-59f7151f2371\",\"type\":\"ResetTool\"},{\"attributes\":{\"above\":[{\"id\":\"7e177808-8391-42b0-b28c-eaf43400c61f\",\"type\":\"Legend\"}],\"below\":[{\"id\":\"2772b71f-3fc7-432c-9d66-280a9b62f56f\",\"type\":\"LinearAxis\"}],\"left\":[{\"id\":\"50b9865f-d79c-4997-82f6-eabe05fbd30f\",\"type\":\"LogAxis\"}],\"plot_height\":500,\"plot_width\":300,\"renderers\":[{\"id\":\"2772b71f-3fc7-432c-9d66-280a9b62f56f\",\"type\":\"LinearAxis\"},{\"id\":\"87a31802-f224-4f53-bdf6-4915526904dd\",\"type\":\"Grid\"},{\"id\":\"50b9865f-d79c-4997-82f6-eabe05fbd30f\",\"type\":\"LogAxis\"},{\"id\":\"ff8c9fc9-dede-47e2-b61c-4ab55d7392c5\",\"type\":\"Grid\"},{\"id\":\"e24a4c52-36f4-4531-a02a-6689ab858d35\",\"type\":\"BoxAnnotation\"},{\"id\":\"b73af05d-5b66-45de-955a-d413a116a74a\",\"type\":\"GlyphRenderer\"},{\"id\":\"0fecd575-a47c-465c-bf14-15f1396f55fe\",\"type\":\"GlyphRenderer\"},{\"id\":\"54169912-08b7-40f2-9a4f-5c3636197d1d\",\"type\":\"GlyphRenderer\"},{\"id\":\"ef3cdcea-7918-49e0-b7cb-0fbcd082ee85\",\"type\":\"GlyphRenderer\"},{\"id\":\"7e177808-8391-42b0-b28c-eaf43400c61f\",\"type\":\"Legend\"}],\"title\":{\"id\":\"e644e36d-24d9-47cb-af8e-74e9f4d312d6\",\"type\":\"Title\"},\"toolbar\":{\"id\":\"c519f908-bb6f-4194-a2b9-cb724837e926\",\"type\":\"Toolbar\"},\"toolbar_location\":null,\"x_range\":{\"id\":\"9e8bb9c2-c751-4ec5-b646-01b43299aaf6\",\"type\":\"Range1d\"},\"x_scale\":{\"id\":\"45865d34-acdb-4920-b83a-472a1f5f27b0\",\"type\":\"LinearScale\"},\"y_range\":{\"id\":\"5be8533d-486e-4f55-baf7-9a5dd1ad5d11\",\"type\":\"Range1d\"},\"y_scale\":{\"id\":\"4bca96f6-fa3b-4663-9d83-d08f70e9fc01\",\"type\":\"LogScale\"}},\"id\":\"6869e85b-ee36-49ce-8aa4-ef8fd5f7a6d9\",\"subtype\":\"Figure\",\"type\":\"Plot\"},{\"attributes\":{},\"id\":\"d4e77ef1-f9b3-4d63-a2b5-e9b3d6affe2b\",\"type\":\"HelpTool\"},{\"attributes\":{\"data_source\":{\"id\":\"e68d77ab-a8ec-40d5-8437-4148a30cf4a5\",\"type\":\"ColumnDataSource\"},\"glyph\":{\"id\":\"a8a12398-d81f-48a6-a481-f37d6cb58cb7\",\"type\":\"Line\"},\"hover_glyph\":null,\"muted_glyph\":null,\"nonselection_glyph\":{\"id\":\"604235c3-e099-4e3b-9db7-0e7f2a67e8fd\",\"type\":\"Line\"},\"selection_glyph\":null,\"view\":{\"id\":\"e27d8cbc-0450-473e-877d-19849c7d96b7\",\"type\":\"CDSView\"}},\"id\":\"27dbfc23-d53d-4a2d-99db-070683cb8168\",\"type\":\"GlyphRenderer\"},{\"attributes\":{},\"id\":\"60e9c792-3184-4cd7-b28e-64a26367dfb0\",\"type\":\"UnionRenderers\"},{\"attributes\":{},\"id\":\"a1aea625-b532-4d16-8244-ecfa29d65eed\",\"type\":\"Selection\"},{\"attributes\":{},\"id\":\"d9543cc7-e51f-4aa1-a3f4-3c1d15bc8f49\",\"type\":\"Selection\"},{\"attributes\":{},\"id\":\"16d0e014-f590-495c-9b31-f83b164e5800\",\"type\":\"LinearScale\"},{\"attributes\":{},\"id\":\"160c1be9-323d-4de3-8474-caddb2aa6184\",\"type\":\"Selection\"},{\"attributes\":{\"callback\":null,\"end\":0.01,\"start\":1020},\"id\":\"e98dbb47-cdb1-464b-bd5a-f60f6762834d\",\"type\":\"Range1d\"},{\"attributes\":{},\"id\":\"cf88dbf2-d337-47aa-81cc-27bb5eecbd22\",\"type\":\"UnionRenderers\"},{\"attributes\":{},\"id\":\"6f2a7e5c-d223-457c-baf2-120f875c1d19\",\"type\":\"BasicTickFormatter\"},{\"attributes\":{\"bottom_units\":\"screen\",\"fill_alpha\":{\"value\":0.5},\"fill_color\":{\"value\":\"lightgrey\"},\"left_units\":\"screen\",\"level\":\"overlay\",\"line_alpha\":{\"value\":1.0},\"line_color\":{\"value\":\"black\"},\"line_dash\":[4,4],\"line_width\":{\"value\":2},\"plot\":null,\"render_mode\":\"css\",\"right_units\":\"screen\",\"top_units\":\"screen\"},\"id\":\"85123067-ebc6-4836-bdcb-13e1e10d5952\",\"type\":\"BoxAnnotation\"},{\"attributes\":{},\"id\":\"9fd0ad51-ab48-4350-951c-deda25c5abc5\",\"type\":\"BasicTickFormatter\"},{\"attributes\":{},\"id\":\"fd9f2338-65f3-4e8e-94ba-faaab20d5eae\",\"type\":\"PanTool\"},{\"attributes\":{\"label\":{\"value\":\"CLIRAD - CRD\"},\"renderers\":[{\"id\":\"222cd876-6171-458f-8a89-14ff33a91480\",\"type\":\"GlyphRenderer\"}]},\"id\":\"b5973ebb-43e8-42f2-8e28-e2527c22dfe2\",\"type\":\"LegendItem\"},{\"attributes\":{\"children\":[{\"id\":\"1c40a4f5-02c9-4eb2-95a5-e20bd826e212\",\"subtype\":\"Figure\",\"type\":\"Plot\"},{\"id\":\"6869e85b-ee36-49ce-8aa4-ef8fd5f7a6d9\",\"subtype\":\"Figure\",\"type\":\"Plot\"},{\"id\":\"7a1962c4-e5de-46a3-84b9-f5a4b422a364\",\"subtype\":\"Figure\",\"type\":\"Plot\"}]},\"id\":\"6a880aaa-7510-4190-bc57-b3a635be9ada\",\"type\":\"Row\"},{\"attributes\":{\"axis_label\":\"pressure [mb]\",\"formatter\":{\"id\":\"9fd0ad51-ab48-4350-951c-deda25c5abc5\",\"type\":\"BasicTickFormatter\"},\"plot\":{\"id\":\"1c40a4f5-02c9-4eb2-95a5-e20bd826e212\",\"subtype\":\"Figure\",\"type\":\"Plot\"},\"ticker\":{\"id\":\"7ca82890-9749-487b-94d5-94b3b3434acc\",\"type\":\"BasicTicker\"}},\"id\":\"ea214872-2bae-4e7b-beb2-38bfde1d4887\",\"type\":\"LinearAxis\"},{\"attributes\":{},\"id\":\"b0adc446-bfa7-47ae-8dd8-77bb1b73639f\",\"type\":\"WheelZoomTool\"},{\"attributes\":{\"items\":[{\"id\":\"b5973ebb-43e8-42f2-8e28-e2527c22dfe2\",\"type\":\"LegendItem\"},{\"id\":\"90cd833e-1651-4d89-b20a-d4885644c89a\",\"type\":\"LegendItem\"}],\"label_text_font_size\":{\"value\":\"8pt\"},\"location\":\"top_center\",\"orientation\":\"horizontal\",\"plot\":{\"id\":\"7a1962c4-e5de-46a3-84b9-f5a4b422a364\",\"subtype\":\"Figure\",\"type\":\"Plot\"}},\"id\":\"d58c05fc-f10c-4c5d-9a44-f340da38e554\",\"type\":\"Legend\"},{\"attributes\":{},\"id\":\"59084101-60b9-4208-a799-9fe1da3e2c12\",\"type\":\"Selection\"},{\"attributes\":{\"source\":{\"id\":\"e68d77ab-a8ec-40d5-8437-4148a30cf4a5\",\"type\":\"ColumnDataSource\"}},\"id\":\"e27d8cbc-0450-473e-877d-19849c7d96b7\",\"type\":\"CDSView\"},{\"attributes\":{},\"id\":\"bb047162-97b8-4b96-a59f-6078f86d262a\",\"type\":\"UnionRenderers\"},{\"attributes\":{\"axis_label\":\"cooling rate [K/day]\",\"formatter\":{\"id\":\"6f2a7e5c-d223-457c-baf2-120f875c1d19\",\"type\":\"BasicTickFormatter\"},\"plot\":{\"id\":\"1c40a4f5-02c9-4eb2-95a5-e20bd826e212\",\"subtype\":\"Figure\",\"type\":\"Plot\"},\"ticker\":{\"id\":\"9c9646a9-0bf4-4678-a2dc-5cb62621dfba\",\"type\":\"BasicTicker\"}},\"id\":\"eea01c4d-ca83-4ac3-b786-dd0779b455e8\",\"type\":\"LinearAxis\"},{\"attributes\":{},\"id\":\"9a4c0700-6bb1-4af7-9ebb-aac0bb050cf5\",\"type\":\"UnionRenderers\"},{\"attributes\":{},\"id\":\"852022f7-db28-47d4-8be6-2700ff4e15fd\",\"type\":\"Selection\"},{\"attributes\":{\"callback\":null,\"data\":{\"x\":{\"__ndarray__\":\"LZs5JLWdUkBN02cHXFlMQNelRuhniEhAzOuIQzYKREALBAEydJQ+QOljPiDQ3TVALGSuDKptLkCTcvc5PlomQBSmlHyRcSJAo+vCD853IEDLbVbYZ2EdQNVoKKTrwBhA3dPVHYttEkAgNqLFYxADQHIiVW9ohfQ/sQekDjyI/j+MsQIyKo8GQGMal7vg7Q1Afu4VJwggFEBP4IxQIqAaQJQMpZtpByFA0OtP4nP3JED5ghYSMNYjQNP44BAF5h9AHJyIfm2dHEDIMrOF1lEZQJxR81Xy4RRA3GW/7nQfEEAUPlsHB8sKQL5ZlCOuPQlAS2E5nb8EBkAx/QHFfoX/PyUwjKoVXPQ/GwsKgzLN8D+hrGv2OPrlPzqZHYH2JZQ/raj735WN3L9Zn9V20V/Uv/AHWobaZIw/5mO25dWZrT9LEiMCEKKxP3/ac1w37LM/C3tCxSQbtj9JhrR3Wr+3P61U0dEKibg/bUZr5HFTuD+q2/L0vi+3P2J88XW0UrU/g+m7KGj9sj/JYTKAsIawPzO6nSyeQqw/hTiu/Z/upz+EglK0ci+kP1i7g17TEaE/FnWNZsomnT+RQJUwWTCZPybTeFTCNJY/fn2OPs9nlD/tNhebMEOUP2uDv9Ehf5c/Y2NeRxyynz9DFBK3qu+kP0SW8Hc0faU/Xdx59BwXnT+F19SPy0yBP1oSY0N+0Hu/zqzuVmtoiL96jxNkFKSAv1RzVXJw1mC/4mKWC4YLYT+KJx+gkmpwP+w+4+XZw3M/sM1CEigodj+Ebif4Q7+AP5KsJvwQI78/\",\"dtype\":\"float64\",\"shape\":[75]},\"y\":{\"__ndarray__\":\"GhExyth1ND/Sv8nbtpRIP2vylNV0PVE/aTum7souWD/At0SJ8fVgPw3Iuahxymc/MSNhhJWvcD/bTfBN02d3P2zb5nxnaoA/CD5h5MAGhz8NmeH1TyaQP+zrCsc9p5Y/LbKd76fGnz/bLW5ISEmmPww9YvTcQq8/JV2OstnstT8Er5Y7M8G+P0c+r3jqkcU/5h99k6ZBzj88bCIzFzjVP4enV8oyxN0//yH99nXg5D8qOpLLf0jtP5kqGJXUifQ/c9cS8kHP/D+/DpwzojQEQIEmwoanVwxA4lgXt9HgE0BSSZ2AJuIbQAMJih9jjiNA5q4l5INuK0AwTKYKRj0zQNv5fmq8/DpAaCJseHrtQkB/+zpwzoxKQM3MzMzMeFJAZmZmZmZqWEAAAAAAAFxeQM3MzMzMJmJAmpmZmZkfZUBmZmZmZhhoQDMzMzMzEWtAAAAAAAAKbkBmZmZmZoFwQM3MzMzM/XFAMzMzMzN6c0CamZmZmfZ0QAAAAAAAc3ZAZmZmZmbvd0DNzMzMzGt5QDMzMzMz6HpAmpmZmZlkfEAAAAAAAOF9QGZmZmZmXX9AZmZmZuZsgECamZmZGSuBQM3MzMxM6YFAAAAAAICngkAzMzMzs2WDQGZmZmbmI4RAmpmZmRnihEDNzMzMTKCFQAAAAACAXoZAMzMzM7Mch0BmZmZm5tqHQJqZmZkZmYhAzczMzExXiUAAAAAAgBWKQDMzMzOz04pAZmZmZuaRi0CamZmZGVCMQM3MzMxMDo1AAAAAAIDMjUAzMzMzs4qOQGZmZmbmSI9A\",\"dtype\":\"float64\",\"shape\":[75]}},\"selected\":{\"id\":\"160c1be9-323d-4de3-8474-caddb2aa6184\",\"type\":\"Selection\"},\"selection_policy\":{\"id\":\"c8568c98-3e04-4da2-8674-450905060aaf\",\"type\":\"UnionRenderers\"}},\"id\":\"e68d77ab-a8ec-40d5-8437-4148a30cf4a5\",\"type\":\"ColumnDataSource\"},{\"attributes\":{},\"id\":\"9fc3e6b7-63cc-4b5d-97bf-56efe36cdab3\",\"type\":\"BasicTickFormatter\"},{\"attributes\":{\"items\":[{\"id\":\"7c9138c8-5187-4cc9-a260-cede2c0dd86d\",\"type\":\"LegendItem\"},{\"id\":\"298159fe-1af2-40e8-b6d2-d30d9ac21c31\",\"type\":\"LegendItem\"},{\"id\":\"d178e1a6-207b-4735-8d72-032cd835608a\",\"type\":\"LegendItem\"}],\"label_text_font_size\":{\"value\":\"8pt\"},\"location\":\"top_center\",\"orientation\":\"horizontal\",\"plot\":{\"id\":\"6869e85b-ee36-49ce-8aa4-ef8fd5f7a6d9\",\"subtype\":\"Figure\",\"type\":\"Plot\"}},\"id\":\"7e177808-8391-42b0-b28c-eaf43400c61f\",\"type\":\"Legend\"},{\"attributes\":{},\"id\":\"4b0d9533-72f5-4939-95ba-791a69c83a6e\",\"type\":\"UnionRenderers\"},{\"attributes\":{},\"id\":\"6a5642f1-3c21-44e4-9d04-becd57913a06\",\"type\":\"LinearScale\"},{\"attributes\":{},\"id\":\"c97fb7ad-f0f0-45fe-8530-98effef05652\",\"type\":\"UnionRenderers\"},{\"attributes\":{},\"id\":\"0f44818b-ae71-444f-b10a-a6de65c113ca\",\"type\":\"Selection\"},{\"attributes\":{\"line_alpha\":0.3,\"line_color\":\"#984ea3\",\"line_width\":8,\"x\":{\"field\":\"x\"},\"y\":{\"field\":\"y\"}},\"id\":\"a8a12398-d81f-48a6-a481-f37d6cb58cb7\",\"type\":\"Line\"},{\"attributes\":{},\"id\":\"cb9f91b3-a9c8-43f5-8265-325b9762d3c4\",\"type\":\"PanTool\"},{\"attributes\":{\"source\":{\"id\":\"2546df61-b759-4294-ab00-da50a356c92b\",\"type\":\"ColumnDataSource\"}},\"id\":\"31419a33-df3b-4d60-ae24-3088dc075963\",\"type\":\"CDSView\"},{\"attributes\":{},\"id\":\"3346db97-8e08-4923-ba49-b506cd39d475\",\"type\":\"Selection\"},{\"attributes\":{\"plot\":{\"id\":\"1c40a4f5-02c9-4eb2-95a5-e20bd826e212\",\"subtype\":\"Figure\",\"type\":\"Plot\"},\"ticker\":{\"id\":\"9c9646a9-0bf4-4678-a2dc-5cb62621dfba\",\"type\":\"BasicTicker\"}},\"id\":\"c7a7d4bf-2297-4b86-98b6-1655b26a85b2\",\"type\":\"Grid\"},{\"attributes\":{},\"id\":\"e216e274-9399-4299-9f9a-7cf280351507\",\"type\":\"UnionRenderers\"},{\"attributes\":{},\"id\":\"c7a7c4c1-3d85-47be-bfcc-631bd1d6111d\",\"type\":\"UnionRenderers\"},{\"attributes\":{\"toolbar\":{\"id\":\"64ab5e21-1fb5-4af4-bffc-bf500e354779\",\"type\":\"ProxyToolbar\"},\"toolbar_location\":\"above\"},\"id\":\"78a1fd4b-02c6-4180-8ee3-a724ed57f140\",\"type\":\"ToolbarBox\"},{\"attributes\":{\"callback\":null,\"end\":0.6981241042999999,\"start\":-0.45747105429999996},\"id\":\"32958f00-4f87-42a4-9dcb-bf52863d776e\",\"type\":\"Range1d\"},{\"attributes\":{},\"id\":\"c8568c98-3e04-4da2-8674-450905060aaf\",\"type\":\"UnionRenderers\"},{\"attributes\":{},\"id\":\"d745d04b-7338-474d-9dd2-2dfcd4994bf1\",\"type\":\"UnionRenderers\"},{\"attributes\":{\"label\":{\"value\":\"CLIRAD\"},\"renderers\":[{\"id\":\"2043f6f2-2a8f-477c-b906-7883b5b82990\",\"type\":\"GlyphRenderer\"}]},\"id\":\"a7c08888-8d5a-4f75-b741-ec7357fc3c96\",\"type\":\"LegendItem\"},{\"attributes\":{\"children\":[{\"id\":\"78a1fd4b-02c6-4180-8ee3-a724ed57f140\",\"type\":\"ToolbarBox\"},{\"id\":\"f94799f8-a2ec-4d35-a243-957d9342af5b\",\"type\":\"Column\"}]},\"id\":\"b3c41055-da7e-4ec1-bc98-1e5c76628e57\",\"type\":\"Column\"},{\"attributes\":{},\"id\":\"9c9646a9-0bf4-4678-a2dc-5cb62621dfba\",\"type\":\"BasicTicker\"},{\"attributes\":{\"plot\":null,\"text\":\"\"},\"id\":\"e2a30c8b-23b9-40e5-ae9a-2a6cb8778112\",\"type\":\"Title\"},{\"attributes\":{\"active_drag\":\"auto\",\"active_inspect\":\"auto\",\"active_scroll\":\"auto\",\"active_tap\":\"auto\",\"tools\":[{\"id\":\"cb9f91b3-a9c8-43f5-8265-325b9762d3c4\",\"type\":\"PanTool\"},{\"id\":\"382990d6-8928-4a58-81e9-a32e47b85be3\",\"type\":\"WheelZoomTool\"},{\"id\":\"a840814a-293a-4a01-9082-889a57dc5107\",\"type\":\"BoxZoomTool\"},{\"id\":\"fb8f995e-17dc-429a-9ac0-21a3dcca8ab9\",\"type\":\"SaveTool\"},{\"id\":\"d2390240-edc2-4b17-8d06-7531f08a79d6\",\"type\":\"ResetTool\"},{\"id\":\"33257ad9-1780-48c9-b77d-bab76eb45cb9\",\"type\":\"HelpTool\"}]},\"id\":\"c519f908-bb6f-4194-a2b9-cb724837e926\",\"type\":\"Toolbar\"},{\"attributes\":{\"tools\":[{\"id\":\"fd9f2338-65f3-4e8e-94ba-faaab20d5eae\",\"type\":\"PanTool\"},{\"id\":\"b0adc446-bfa7-47ae-8dd8-77bb1b73639f\",\"type\":\"WheelZoomTool\"},{\"id\":\"881ef86a-34d1-4fe3-a85d-c8ff647209b4\",\"type\":\"BoxZoomTool\"},{\"id\":\"ec01fd06-e419-43ef-9364-8955bc54e014\",\"type\":\"SaveTool\"},{\"id\":\"1c821a27-f19d-4066-a9f4-dc2768c88cdb\",\"type\":\"ResetTool\"},{\"id\":\"a8e37a15-a24e-4617-b929-914de2300d6d\",\"type\":\"HelpTool\"},{\"id\":\"cb9f91b3-a9c8-43f5-8265-325b9762d3c4\",\"type\":\"PanTool\"},{\"id\":\"382990d6-8928-4a58-81e9-a32e47b85be3\",\"type\":\"WheelZoomTool\"},{\"id\":\"a840814a-293a-4a01-9082-889a57dc5107\",\"type\":\"BoxZoomTool\"},{\"id\":\"fb8f995e-17dc-429a-9ac0-21a3dcca8ab9\",\"type\":\"SaveTool\"},{\"id\":\"d2390240-edc2-4b17-8d06-7531f08a79d6\",\"type\":\"ResetTool\"},{\"id\":\"33257ad9-1780-48c9-b77d-bab76eb45cb9\",\"type\":\"HelpTool\"},{\"id\":\"174a7262-7791-4097-8587-7c3872b9c5c3\",\"type\":\"PanTool\"},{\"id\":\"4d22add8-262e-44bb-b8f3-a2f49a9d1ffb\",\"type\":\"WheelZoomTool\"},{\"id\":\"e5d020d3-0612-4f54-8cc5-dd64c3847b8d\",\"type\":\"BoxZoomTool\"},{\"id\":\"a3ad15c0-7aa7-443b-a278-9bed8655591c\",\"type\":\"SaveTool\"},{\"id\":\"8091df17-cae0-42dd-b139-59f7151f2371\",\"type\":\"ResetTool\"},{\"id\":\"d4e77ef1-f9b3-4d63-a2b5-e9b3d6affe2b\",\"type\":\"HelpTool\"}]},\"id\":\"64ab5e21-1fb5-4af4-bffc-bf500e354779\",\"type\":\"ProxyToolbar\"},{\"attributes\":{\"active_drag\":\"auto\",\"active_inspect\":\"auto\",\"active_scroll\":\"auto\",\"active_tap\":\"auto\",\"tools\":[{\"id\":\"fd9f2338-65f3-4e8e-94ba-faaab20d5eae\",\"type\":\"PanTool\"},{\"id\":\"b0adc446-bfa7-47ae-8dd8-77bb1b73639f\",\"type\":\"WheelZoomTool\"},{\"id\":\"881ef86a-34d1-4fe3-a85d-c8ff647209b4\",\"type\":\"BoxZoomTool\"},{\"id\":\"ec01fd06-e419-43ef-9364-8955bc54e014\",\"type\":\"SaveTool\"},{\"id\":\"1c821a27-f19d-4066-a9f4-dc2768c88cdb\",\"type\":\"ResetTool\"},{\"id\":\"a8e37a15-a24e-4617-b929-914de2300d6d\",\"type\":\"HelpTool\"}]},\"id\":\"29543094-40e6-44bd-9f3f-0746593f166f\",\"type\":\"Toolbar\"},{\"attributes\":{},\"id\":\"1477fdfb-86bc-4fc2-b486-5fa92a848bbe\",\"type\":\"Selection\"},{\"attributes\":{\"ticker\":null},\"id\":\"54a1b29e-8fb6-4005-a893-b89bb892f22a\",\"type\":\"LogTickFormatter\"},{\"attributes\":{\"callback\":null,\"end\":0.01,\"start\":1020},\"id\":\"486daf87-414f-43eb-80ea-55e730d217f9\",\"type\":\"Range1d\"},{\"attributes\":{\"overlay\":{\"id\":\"85123067-ebc6-4836-bdcb-13e1e10d5952\",\"type\":\"BoxAnnotation\"}},\"id\":\"881ef86a-34d1-4fe3-a85d-c8ff647209b4\",\"type\":\"BoxZoomTool\"},{\"attributes\":{\"callback\":null,\"end\":0.01,\"start\":1020},\"id\":\"5be8533d-486e-4f55-baf7-9a5dd1ad5d11\",\"type\":\"Range1d\"},{\"attributes\":{},\"id\":\"1c821a27-f19d-4066-a9f4-dc2768c88cdb\",\"type\":\"ResetTool\"},{\"attributes\":{\"dimension\":1,\"plot\":{\"id\":\"1c40a4f5-02c9-4eb2-95a5-e20bd826e212\",\"subtype\":\"Figure\",\"type\":\"Plot\"},\"ticker\":{\"id\":\"7ca82890-9749-487b-94d5-94b3b3434acc\",\"type\":\"BasicTicker\"}},\"id\":\"6b86964a-3e94-49bc-8d18-0027da03f811\",\"type\":\"Grid\"},{\"attributes\":{},\"id\":\"a8e37a15-a24e-4617-b929-914de2300d6d\",\"type\":\"HelpTool\"},{\"attributes\":{},\"id\":\"7ca82890-9749-487b-94d5-94b3b3434acc\",\"type\":\"BasicTicker\"},{\"attributes\":{\"callback\":null,\"data\":{\"x\":{\"__ndarray__\":\"gEvHnGdsNMCQlV8GY+QaQNAk6gWf5g5AgI6Oq5Fd3D9QkdEBSVj/v2jFcHUApATAKInsgywL/b8QVP8gkiHrv0BmoDL+fdm/oK96G/ZW3b+wKaEFsijov2jyALs/g+2/AOFUte7w6L/AYO3eQDfUvyC+ySVEr8A/uEDdmzpq1j+QPJ6WH7jZP0AL0LaaddI/ACEWIMDYkb8wcsxomubQv2BlyAyvf8e/AJBpbRrboz8AgLnBUIdFP8ABHDFpQta/IJevJqoS2b8AwfejTXqcvyAgdksXB8s/AJYYFYJmsz8A+s7UkF2iP4BYLyu5L6w/gOFNbV/2ob8gdDeZAuOiv3Cx22eVmbo/aKQH02onsz9wDjvfkamdv1bL27PcCY6/UE+MsNEHmT+ornyW58GVP0B6g2I9S2Y/iDYTSJPPgr/A3X/vLP2Iv+CdR4icBZC/bKXTZA2xkr9YVWtriE2Tv1gIjVsqQZG/sJsoKJZyir+4BGTY9rCCv5CmtktQAHO/YHaCVpABYb8ASmCMqz4lvwDcK+6do04/ACdmQVFuNb8AwGZYQ+Qvv3D3Zr/hSmW/8IptBkMTZL9w7+UB1vFyv6hAATzrGHS/QFPpBo70d78EFQZ5/jN5v6idjaELBnm/eAijjMrjd7+4TySLQGR1v6DPv0sTMHa/HEcSqPEXcr8UTvEJ8BVxvxMQdxvy1G2/4Ny/+DnsbL/eJR+hAK9ivxDnNJbv42C/8qGfBJGgY7/s3X7Om0lWv8yJaaIwKFq/ontC9oLWYb9oOULidJRXv0CqCeQK1lW/\",\"dtype\":\"float64\",\"shape\":[75]},\"y\":{\"__ndarray__\":\"GhExyth1ND/Sv8nbtpRIP2vylNV0PVE/aTum7souWD/At0SJ8fVgPw3Iuahxymc/MSNhhJWvcD/bTfBN02d3P2zb5nxnaoA/CD5h5MAGhz8NmeH1TyaQP+zrCsc9p5Y/LbKd76fGnz/bLW5ISEmmPww9YvTcQq8/JV2OstnstT8Er5Y7M8G+P0c+r3jqkcU/5h99k6ZBzj88bCIzFzjVP4enV8oyxN0//yH99nXg5D8qOpLLf0jtP5kqGJXUifQ/c9cS8kHP/D+/DpwzojQEQIEmwoanVwxA4lgXt9HgE0BSSZ2AJuIbQAMJih9jjiNA5q4l5INuK0AwTKYKRj0zQNv5fmq8/DpAaCJseHrtQkB/+zpwzoxKQM3MzMzMeFJAZmZmZmZqWEAAAAAAAFxeQM3MzMzMJmJAmpmZmZkfZUBmZmZmZhhoQDMzMzMzEWtAAAAAAAAKbkBmZmZmZoFwQM3MzMzM/XFAMzMzMzN6c0CamZmZmfZ0QAAAAAAAc3ZAZmZmZmbvd0DNzMzMzGt5QDMzMzMz6HpAmpmZmZlkfEAAAAAAAOF9QGZmZmZmXX9AZmZmZuZsgECamZmZGSuBQM3MzMxM6YFAAAAAAICngkAzMzMzs2WDQGZmZmbmI4RAmpmZmRnihEDNzMzMTKCFQAAAAACAXoZAMzMzM7Mch0BmZmZm5tqHQJqZmZkZmYhAzczMzExXiUAAAAAAgBWKQDMzMzOz04pAZmZmZuaRi0CamZmZGVCMQM3MzMxMDo1AAAAAAIDMjUAzMzMzs4qOQGZmZmbmSI9A\",\"dtype\":\"float64\",\"shape\":[75]}},\"selected\":{\"id\":\"59084101-60b9-4208-a799-9fe1da3e2c12\",\"type\":\"Selection\"},\"selection_policy\":{\"id\":\"60e9c792-3184-4cd7-b28e-64a26367dfb0\",\"type\":\"UnionRenderers\"}},\"id\":\"f37348e1-0411-4664-8e31-c7c33fd391c3\",\"type\":\"ColumnDataSource\"},{\"attributes\":{},\"id\":\"ec01fd06-e419-43ef-9364-8955bc54e014\",\"type\":\"SaveTool\"},{\"attributes\":{\"line_alpha\":0.6,\"line_color\":\"#e41a1c\",\"line_dash\":[6],\"line_width\":5,\"x\":{\"field\":\"x\"},\"y\":{\"field\":\"y\"}},\"id\":\"ad500cdf-1253-466d-8544-2db921f18e65\",\"type\":\"Line\"},{\"attributes\":{\"line_alpha\":0.6,\"line_color\":\"#e41a1c\",\"line_dash\":[6],\"line_width\":5,\"x\":{\"field\":\"x\"},\"y\":{\"field\":\"y\"}},\"id\":\"51785282-7e62-435e-bc73-9761bc64a3d2\",\"type\":\"Line\"},{\"attributes\":{\"dimension\":1,\"plot\":{\"id\":\"6869e85b-ee36-49ce-8aa4-ef8fd5f7a6d9\",\"subtype\":\"Figure\",\"type\":\"Plot\"},\"ticker\":{\"id\":\"24f50d22-ae65-4e8c-9d08-ebcc5947807a\",\"type\":\"LogTicker\"}},\"id\":\"ff8c9fc9-dede-47e2-b61c-4ab55d7392c5\",\"type\":\"Grid\"},{\"attributes\":{\"data_source\":{\"id\":\"f37348e1-0411-4664-8e31-c7c33fd391c3\",\"type\":\"ColumnDataSource\"},\"glyph\":{\"id\":\"51785282-7e62-435e-bc73-9761bc64a3d2\",\"type\":\"Line\"},\"hover_glyph\":null,\"muted_glyph\":null,\"nonselection_glyph\":{\"id\":\"6e8db4aa-3edf-4b1d-ab0c-a98055f4c458\",\"type\":\"Line\"},\"selection_glyph\":null,\"view\":{\"id\":\"47c817ef-5530-4c41-8847-d0c805611037\",\"type\":\"CDSView\"}},\"id\":\"222cd876-6171-458f-8a89-14ff33a91480\",\"type\":\"GlyphRenderer\"},{\"attributes\":{\"callback\":null,\"data\":{\"x\":{\"__ndarray__\":\"JY3ROqrqXEDOwMjLmvxIQPs9sU6V70NANX7hlSR/P0CYTYBh+ec4QPn578Fr2zNABps6j4oDMEAOar+1Ex0qQDVDqihebSVAb/ya9t6JIUCK9JFKZ0YcQEvYyL/gBBZA8hXupqVzD0BWk/E5wej/P/IKRE/KhPU/cLlVa7zvAkDVOVDxyaQLQJdBEHv8ORFArHR3nQ3hFEDwf5HhwksZQM9TeCumjR9AX7adtkZcJEDaq4+HvpskQAN+6N2zWSFA6wK5H0taHUBMBXAOMrwXQAvl6QGYjxNABVg/kYJyEEA42zdSEZILQIkzdQ3ptgZAYbJMGv4uAkBSrGQR1Pr7P0zQcBRql/Q/xVA1Fwtl7j/WnmGD6P3fPxNBiKMs9Z6/7+XbDk8n178gItoz8AjQvx5qPlvF6pw/Tu9wqNDasz/n46oXG/G4PzgrJl+eCLs/G8yRW7R8uz86aStAJfi6PwoLk07J3rk/2C0HHDdsuD8/qjv4hMq2P6nTqivZELU/AydNFgZLsz+xRZMKsZqxP8ktWj6aA7A/AQowV/8arT+DsYMf3GqqP4VENYAS+qc/LEMXMinOpT97rTpheNujP9QRxYacLqI/BUllq0fxoD+YjLkkNG2gPyAPjKJYhaE/YKLuwXMIpT8Ma/0JO4CpP+TiA5a3fqk/+iJngl0koj8eVK9JIQqOPzK8VBNdw1e/oKgpF1zLfr+nSVVEWflyv/8SJoCqp0k/x7khE9apcj+YE3n5Mh16P3kgcVFm8X0/vp+b+BHYgD/L4BHd/zyHPy+7DnJqqb8/\",\"dtype\":\"float64\",\"shape\":[75]},\"y\":{\"__ndarray__\":\"GhExyth1ND/Sv8nbtpRIP2vylNV0PVE/aTum7souWD/At0SJ8fVgPw3Iuahxymc/MSNhhJWvcD/bTfBN02d3P2zb5nxnaoA/CD5h5MAGhz8NmeH1TyaQP+zrCsc9p5Y/LbKd76fGnz/bLW5ISEmmPww9YvTcQq8/JV2OstnstT8Er5Y7M8G+P0c+r3jqkcU/5h99k6ZBzj88bCIzFzjVP4enV8oyxN0//yH99nXg5D8qOpLLf0jtP5kqGJXUifQ/c9cS8kHP/D+/DpwzojQEQIEmwoanVwxA4lgXt9HgE0BSSZ2AJuIbQAMJih9jjiNA5q4l5INuK0AwTKYKRj0zQNv5fmq8/DpAaCJseHrtQkB/+zpwzoxKQM3MzMzMeFJAZmZmZmZqWEAAAAAAAFxeQM3MzMzMJmJAmpmZmZkfZUBmZmZmZhhoQDMzMzMzEWtAAAAAAAAKbkBmZmZmZoFwQM3MzMzM/XFAMzMzMzN6c0CamZmZmfZ0QAAAAAAAc3ZAZmZmZmbvd0DNzMzMzGt5QDMzMzMz6HpAmpmZmZlkfEAAAAAAAOF9QGZmZmZmXX9AZmZmZuZsgECamZmZGSuBQM3MzMxM6YFAAAAAAICngkAzMzMzs2WDQGZmZmbmI4RAmpmZmRnihEDNzMzMTKCFQAAAAACAXoZAMzMzM7Mch0BmZmZm5tqHQJqZmZkZmYhAzczMzExXiUAAAAAAgBWKQDMzMzOz04pAZmZmZuaRi0CamZmZGVCMQM3MzMxMDo1AAAAAAIDMjUAzMzMzs4qOQGZmZmbmSI9A\",\"dtype\":\"float64\",\"shape\":[75]}},\"selected\":{\"id\":\"852022f7-db28-47d4-8be6-2700ff4e15fd\",\"type\":\"Selection\"},\"selection_policy\":{\"id\":\"4b0d9533-72f5-4939-95ba-791a69c83a6e\",\"type\":\"UnionRenderers\"}},\"id\":\"c4ce9b2b-3720-4741-809a-d325ff9f50db\",\"type\":\"ColumnDataSource\"},{\"attributes\":{},\"id\":\"fb8f995e-17dc-429a-9ac0-21a3dcca8ab9\",\"type\":\"SaveTool\"},{\"attributes\":{\"line_alpha\":0.1,\"line_color\":\"#1f77b4\",\"line_width\":1.5,\"x\":{\"field\":\"x\"},\"y\":{\"field\":\"y\"}},\"id\":\"5febf8bf-863f-4986-8fc7-a11fe5d41d6f\",\"type\":\"Line\"},{\"attributes\":{\"fill_alpha\":{\"value\":0.7},\"fill_color\":{\"value\":\"#4daf4a\"},\"line_alpha\":{\"value\":0.7},\"line_color\":{\"value\":\"#4daf4a\"},\"x\":{\"field\":\"x\"},\"y\":{\"field\":\"y\"}},\"id\":\"081fc121-4343-46ed-8cbb-063e5d2c20d4\",\"type\":\"Circle\"},{\"attributes\":{\"fill_alpha\":{\"value\":0.1},\"fill_color\":{\"value\":\"#1f77b4\"},\"line_alpha\":{\"value\":0.1},\"line_color\":{\"value\":\"#1f77b4\"},\"x\":{\"field\":\"x\"},\"y\":{\"field\":\"y\"}},\"id\":\"6ea80887-1396-4da7-a683-d0c767d3af54\",\"type\":\"Circle\"},{\"attributes\":{\"line_alpha\":0.1,\"line_color\":\"#1f77b4\",\"line_width\":8,\"x\":{\"field\":\"x\"},\"y\":{\"field\":\"y\"}},\"id\":\"2ecdd228-30ec-410d-9350-2c4cff5bf393\",\"type\":\"Line\"},{\"attributes\":{\"ticker\":null},\"id\":\"ded53510-a397-4351-9acf-0c5d030fd45d\",\"type\":\"LogTickFormatter\"},{\"attributes\":{\"label\":{\"value\":\"WGT igg=10\"},\"renderers\":[{\"id\":\"27dbfc23-d53d-4a2d-99db-070683cb8168\",\"type\":\"GlyphRenderer\"}]},\"id\":\"51caf67b-59df-4883-9f72-27d55c5de003\",\"type\":\"LegendItem\"},{\"attributes\":{\"data_source\":{\"id\":\"c4ce9b2b-3720-4741-809a-d325ff9f50db\",\"type\":\"ColumnDataSource\"},\"glyph\":{\"id\":\"53aa35f4-9c7c-4281-a648-ed6deddcab6e\",\"type\":\"Line\"},\"hover_glyph\":null,\"muted_glyph\":null,\"nonselection_glyph\":{\"id\":\"52e561e4-978f-47fd-b02a-71fddf4a16ec\",\"type\":\"Line\"},\"selection_glyph\":null,\"view\":{\"id\":\"81f99c98-cd63-46ba-bce7-036dda9ce6d3\",\"type\":\"CDSView\"}},\"id\":\"54169912-08b7-40f2-9a4f-5c3636197d1d\",\"type\":\"GlyphRenderer\"},{\"attributes\":{\"overlay\":{\"id\":\"e24a4c52-36f4-4531-a02a-6689ab858d35\",\"type\":\"BoxAnnotation\"}},\"id\":\"a840814a-293a-4a01-9082-889a57dc5107\",\"type\":\"BoxZoomTool\"},{\"attributes\":{\"callback\":null,\"data\":{\"x\":{\"__ndarray__\":\"RbqfU5DPV0CAs5QsJ1lMQEjgDz//3UVAb7iP3JrwP0CDNGPRdPI2QEzhQbPrRjFA56T3ja9lLEDNdK+T+mooQANAFTduoSRA8ia/RSefIEBUz90JUUEZQP65aMh4VBJAst2Y+Wk3CUAmOzYC8dr6P7ZC/dOymvc/h2HRvgO9BUBnASTkzdsOQEtCfSZWYRJAi15X3TTPFEDNuAQ7WT0YQKQQErOo0R5A7x8L0SFwJEDAstKkFJwkQPWdX5SgpyBAeQlOfSDJG0CLDczAt58XQAyWRbzQZxRAXbqTmRzAEEAgF4uVh9sLQOvwIfKnJwdA23qXnCTnAUCx8Jr8u2P7P2OL7moDQfY/qSLLOPxk8D/v7W1lTyPeP18Tu34N/aa/+iDT89GW1b9rruR0o1nNv2bZjgcttJ8/fYhuP96AsT8v6Lp5ddG1P8BDFD03B7c/wOJcAnHQtj/kk1AlwyS2P/TIr7d+jrU/YhoCV+QdtT+oKS8dZnS0P0Bp7ybU4LM/UBOZk/nCsj+MFc20EZCxP4GFNnrhQLA/sz2ttCLwrD/DSivc90qqPw7VPmRkpaY/fWqwAfWMpD+N7/2gPX2hP37TiT7+Vp8/Oj0Q1Wvlmz/vkzGraI2aP9a2tFwuyZw/UUFacPoLoj8V4Zj4stOmP/Doiyy1uKY/LbTJmr7Cnz8UrbZEKX+FPxa3kFJQ23S/iMvEibyghr+W3OSU2VB8v6HEVuwJ9FS/nNGjIRuzYT8dXNkFzIp0Pwa+1ihaZ3c/qwEWduLEeD+emclAcUqEP4aUfkYSUr8/\",\"dtype\":\"float64\",\"shape\":[75]},\"y\":{\"__ndarray__\":\"GhExyth1ND/Sv8nbtpRIP2vylNV0PVE/aTum7souWD/At0SJ8fVgPw3Iuahxymc/MSNhhJWvcD/bTfBN02d3P2zb5nxnaoA/CD5h5MAGhz8NmeH1TyaQP+zrCsc9p5Y/LbKd76fGnz/bLW5ISEmmPww9YvTcQq8/JV2OstnstT8Er5Y7M8G+P0c+r3jqkcU/5h99k6ZBzj88bCIzFzjVP4enV8oyxN0//yH99nXg5D8qOpLLf0jtP5kqGJXUifQ/c9cS8kHP/D+/DpwzojQEQIEmwoanVwxA4lgXt9HgE0BSSZ2AJuIbQAMJih9jjiNA5q4l5INuK0AwTKYKRj0zQNv5fmq8/DpAaCJseHrtQkB/+zpwzoxKQM3MzMzMeFJAZmZmZmZqWEAAAAAAAFxeQM3MzMzMJmJAmpmZmZkfZUBmZmZmZhhoQDMzMzMzEWtAAAAAAAAKbkBmZmZmZoFwQM3MzMzM/XFAMzMzMzN6c0CamZmZmfZ0QAAAAAAAc3ZAZmZmZmbvd0DNzMzMzGt5QDMzMzMz6HpAmpmZmZlkfEAAAAAAAOF9QGZmZmZmXX9AZmZmZuZsgECamZmZGSuBQM3MzMxM6YFAAAAAAICngkAzMzMzs2WDQGZmZmbmI4RAmpmZmRnihEDNzMzMTKCFQAAAAACAXoZAMzMzM7Mch0BmZmZm5tqHQJqZmZkZmYhAzczMzExXiUAAAAAAgBWKQDMzMzOz04pAZmZmZuaRi0CamZmZGVCMQM3MzMxMDo1AAAAAAIDMjUAzMzMzs4qOQGZmZmbmSI9A\",\"dtype\":\"float64\",\"shape\":[75]}},\"selected\":{\"id\":\"4e7b55e4-03ec-4fc0-b3bc-5ddccbf66620\",\"type\":\"Selection\"},\"selection_policy\":{\"id\":\"bb047162-97b8-4b96-a59f-6078f86d262a\",\"type\":\"UnionRenderers\"}},\"id\":\"cc0f2d2b-1502-4c43-9d90-46f162cb5e77\",\"type\":\"ColumnDataSource\"},{\"attributes\":{\"line_alpha\":0.1,\"line_color\":\"#1f77b4\",\"line_width\":1.5,\"x\":{\"field\":\"x\"},\"y\":{\"field\":\"y\"}},\"id\":\"52e561e4-978f-47fd-b02a-71fddf4a16ec\",\"type\":\"Line\"},{\"attributes\":{\"axis_label\":\"cooling rate [K/day]\",\"formatter\":{\"id\":\"35b1b4c6-097a-454e-b146-fe7d80c84009\",\"type\":\"BasicTickFormatter\"},\"plot\":{\"id\":\"6869e85b-ee36-49ce-8aa4-ef8fd5f7a6d9\",\"subtype\":\"Figure\",\"type\":\"Plot\"},\"ticker\":{\"id\":\"bf8c6238-bbde-45fd-bef6-2f0b841cf21d\",\"type\":\"BasicTicker\"}},\"id\":\"2772b71f-3fc7-432c-9d66-280a9b62f56f\",\"type\":\"LinearAxis\"},{\"attributes\":{\"fill_alpha\":{\"value\":0.7},\"fill_color\":{\"value\":\"#4daf4a\"},\"line_alpha\":{\"value\":0.7},\"line_color\":{\"value\":\"#4daf4a\"},\"x\":{\"field\":\"x\"},\"y\":{\"field\":\"y\"}},\"id\":\"3c4f56ef-b7b1-4c74-abe1-97343887b61b\",\"type\":\"Circle\"},{\"attributes\":{},\"id\":\"382990d6-8928-4a58-81e9-a32e47b85be3\",\"type\":\"WheelZoomTool\"},{\"attributes\":{\"plot\":null,\"text\":\"\"},\"id\":\"e644e36d-24d9-47cb-af8e-74e9f4d312d6\",\"type\":\"Title\"},{\"attributes\":{\"axis_label\":\"pressure [mb]\",\"formatter\":{\"id\":\"ded53510-a397-4351-9acf-0c5d030fd45d\",\"type\":\"LogTickFormatter\"},\"plot\":{\"id\":\"6869e85b-ee36-49ce-8aa4-ef8fd5f7a6d9\",\"subtype\":\"Figure\",\"type\":\"Plot\"},\"ticker\":{\"id\":\"24f50d22-ae65-4e8c-9d08-ebcc5947807a\",\"type\":\"LogTicker\"}},\"id\":\"50b9865f-d79c-4997-82f6-eabe05fbd30f\",\"type\":\"LogAxis\"},{\"attributes\":{\"source\":{\"id\":\"a75a2e04-dc91-4827-bd59-fbe46e8dc11d\",\"type\":\"ColumnDataSource\"}},\"id\":\"820c3372-bdf6-4087-a649-5a1775096a18\",\"type\":\"CDSView\"},{\"attributes\":{\"callback\":null,\"end\":10.5926004769,\"start\":-0.5554361669},\"id\":\"9e8bb9c2-c751-4ec5-b646-01b43299aaf6\",\"type\":\"Range1d\"},{\"attributes\":{\"plot\":{\"id\":\"6869e85b-ee36-49ce-8aa4-ef8fd5f7a6d9\",\"subtype\":\"Figure\",\"type\":\"Plot\"},\"ticker\":{\"id\":\"bf8c6238-bbde-45fd-bef6-2f0b841cf21d\",\"type\":\"BasicTicker\"}},\"id\":\"87a31802-f224-4f53-bdf6-4915526904dd\",\"type\":\"Grid\"},{\"attributes\":{\"callback\":null,\"data\":{\"x\":{\"__ndarray__\":\"LZs5JLWdUkBN02cHXFlMQNelRuhniEhAzOuIQzYKREALBAEydJQ+QOljPiDQ3TVALGSuDKptLkCTcvc5PlomQBSmlHyRcSJAo+vCD853IEDLbVbYZ2EdQNVoKKTrwBhA3dPVHYttEkAgNqLFYxADQHIiVW9ohfQ/sQekDjyI/j+MsQIyKo8GQGMal7vg7Q1Afu4VJwggFEBP4IxQIqAaQJQMpZtpByFA0OtP4nP3JED5ghYSMNYjQNP44BAF5h9AHJyIfm2dHEDIMrOF1lEZQJxR81Xy4RRA3GW/7nQfEEAUPlsHB8sKQL5ZlCOuPQlAS2E5nb8EBkAx/QHFfoX/PyUwjKoVXPQ/GwsKgzLN8D+hrGv2OPrlPzqZHYH2JZQ/raj735WN3L9Zn9V20V/Uv/AHWobaZIw/5mO25dWZrT9LEiMCEKKxP3/ac1w37LM/C3tCxSQbtj9JhrR3Wr+3P61U0dEKibg/bUZr5HFTuD+q2/L0vi+3P2J88XW0UrU/g+m7KGj9sj/JYTKAsIawPzO6nSyeQqw/hTiu/Z/upz+EglK0ci+kP1i7g17TEaE/FnWNZsomnT+RQJUwWTCZPybTeFTCNJY/fn2OPs9nlD/tNhebMEOUP2uDv9Ehf5c/Y2NeRxyynz9DFBK3qu+kP0SW8Hc0faU/Xdx59BwXnT+F19SPy0yBP1oSY0N+0Hu/zqzuVmtoiL96jxNkFKSAv1RzVXJw1mC/4mKWC4YLYT+KJx+gkmpwP+w+4+XZw3M/sM1CEigodj+Ebif4Q7+AP5KsJvwQI78/\",\"dtype\":\"float64\",\"shape\":[75]},\"y\":{\"__ndarray__\":\"GhExyth1ND/Sv8nbtpRIP2vylNV0PVE/aTum7souWD/At0SJ8fVgPw3Iuahxymc/MSNhhJWvcD/bTfBN02d3P2zb5nxnaoA/CD5h5MAGhz8NmeH1TyaQP+zrCsc9p5Y/LbKd76fGnz/bLW5ISEmmPww9YvTcQq8/JV2OstnstT8Er5Y7M8G+P0c+r3jqkcU/5h99k6ZBzj88bCIzFzjVP4enV8oyxN0//yH99nXg5D8qOpLLf0jtP5kqGJXUifQ/c9cS8kHP/D+/DpwzojQEQIEmwoanVwxA4lgXt9HgE0BSSZ2AJuIbQAMJih9jjiNA5q4l5INuK0AwTKYKRj0zQNv5fmq8/DpAaCJseHrtQkB/+zpwzoxKQM3MzMzMeFJAZmZmZmZqWEAAAAAAAFxeQM3MzMzMJmJAmpmZmZkfZUBmZmZmZhhoQDMzMzMzEWtAAAAAAAAKbkBmZmZmZoFwQM3MzMzM/XFAMzMzMzN6c0CamZmZmfZ0QAAAAAAAc3ZAZmZmZmbvd0DNzMzMzGt5QDMzMzMz6HpAmpmZmZlkfEAAAAAAAOF9QGZmZmZmXX9AZmZmZuZsgECamZmZGSuBQM3MzMxM6YFAAAAAAICngkAzMzMzs2WDQGZmZmbmI4RAmpmZmRnihEDNzMzMTKCFQAAAAACAXoZAMzMzM7Mch0BmZmZm5tqHQJqZmZkZmYhAzczMzExXiUAAAAAAgBWKQDMzMzOz04pAZmZmZuaRi0CamZmZGVCMQM3MzMxMDo1AAAAAAIDMjUAzMzMzs4qOQGZmZmbmSI9A\",\"dtype\":\"float64\",\"shape\":[75]}},\"selected\":{\"id\":\"3346db97-8e08-4923-ba49-b506cd39d475\",\"type\":\"Selection\"},\"selection_policy\":{\"id\":\"c7a7c4c1-3d85-47be-bfcc-631bd1d6111d\",\"type\":\"UnionRenderers\"}},\"id\":\"ef6821c5-94c1-49f9-99d6-fec11fc8b70e\",\"type\":\"ColumnDataSource\"},{\"attributes\":{\"callback\":null,\"data\":{\"x\":{\"__ndarray__\":\"JY3ROqrqXEDOwMjLmvxIQPs9sU6V70NANX7hlSR/P0CYTYBh+ec4QPn578Fr2zNABps6j4oDMEAOar+1Ex0qQDVDqihebSVAb/ya9t6JIUCK9JFKZ0YcQEvYyL/gBBZA8hXupqVzD0BWk/E5wej/P/IKRE/KhPU/cLlVa7zvAkDVOVDxyaQLQJdBEHv8ORFArHR3nQ3hFEDwf5HhwksZQM9TeCumjR9AX7adtkZcJEDaq4+HvpskQAN+6N2zWSFA6wK5H0taHUBMBXAOMrwXQAvl6QGYjxNABVg/kYJyEEA42zdSEZILQIkzdQ3ptgZAYbJMGv4uAkBSrGQR1Pr7P0zQcBRql/Q/xVA1Fwtl7j/WnmGD6P3fPxNBiKMs9Z6/7+XbDk8n178gItoz8AjQvx5qPlvF6pw/Tu9wqNDasz/n46oXG/G4PzgrJl+eCLs/G8yRW7R8uz86aStAJfi6PwoLk07J3rk/2C0HHDdsuD8/qjv4hMq2P6nTqivZELU/AydNFgZLsz+xRZMKsZqxP8ktWj6aA7A/AQowV/8arT+DsYMf3GqqP4VENYAS+qc/LEMXMinOpT97rTpheNujP9QRxYacLqI/BUllq0fxoD+YjLkkNG2gPyAPjKJYhaE/YKLuwXMIpT8Ma/0JO4CpP+TiA5a3fqk/+iJngl0koj8eVK9JIQqOPzK8VBNdw1e/oKgpF1zLfr+nSVVEWflyv/8SJoCqp0k/x7khE9apcj+YE3n5Mh16P3kgcVFm8X0/vp+b+BHYgD/L4BHd/zyHPy+7DnJqqb8/\",\"dtype\":\"float64\",\"shape\":[75]},\"y\":{\"__ndarray__\":\"GhExyth1ND/Sv8nbtpRIP2vylNV0PVE/aTum7souWD/At0SJ8fVgPw3Iuahxymc/MSNhhJWvcD/bTfBN02d3P2zb5nxnaoA/CD5h5MAGhz8NmeH1TyaQP+zrCsc9p5Y/LbKd76fGnz/bLW5ISEmmPww9YvTcQq8/JV2OstnstT8Er5Y7M8G+P0c+r3jqkcU/5h99k6ZBzj88bCIzFzjVP4enV8oyxN0//yH99nXg5D8qOpLLf0jtP5kqGJXUifQ/c9cS8kHP/D+/DpwzojQEQIEmwoanVwxA4lgXt9HgE0BSSZ2AJuIbQAMJih9jjiNA5q4l5INuK0AwTKYKRj0zQNv5fmq8/DpAaCJseHrtQkB/+zpwzoxKQM3MzMzMeFJAZmZmZmZqWEAAAAAAAFxeQM3MzMzMJmJAmpmZmZkfZUBmZmZmZhhoQDMzMzMzEWtAAAAAAAAKbkBmZmZmZoFwQM3MzMzM/XFAMzMzMzN6c0CamZmZmfZ0QAAAAAAAc3ZAZmZmZmbvd0DNzMzMzGt5QDMzMzMz6HpAmpmZmZlkfEAAAAAAAOF9QGZmZmZmXX9AZmZmZuZsgECamZmZGSuBQM3MzMxM6YFAAAAAAICngkAzMzMzs2WDQGZmZmbmI4RAmpmZmRnihEDNzMzMTKCFQAAAAACAXoZAMzMzM7Mch0BmZmZm5tqHQJqZmZkZmYhAzczMzExXiUAAAAAAgBWKQDMzMzOz04pAZmZmZuaRi0CamZmZGVCMQM3MzMxMDo1AAAAAAIDMjUAzMzMzs4qOQGZmZmbmSI9A\",\"dtype\":\"float64\",\"shape\":[75]}},\"selected\":{\"id\":\"a1aea625-b532-4d16-8244-ecfa29d65eed\",\"type\":\"Selection\"},\"selection_policy\":{\"id\":\"cf88dbf2-d337-47aa-81cc-27bb5eecbd22\",\"type\":\"UnionRenderers\"}},\"id\":\"7c5b4edb-4467-47cb-9f62-c9c3223d4174\",\"type\":\"ColumnDataSource\"},{\"attributes\":{\"line_color\":\"#4daf4a\",\"line_width\":1.5,\"x\":{\"field\":\"x\"},\"y\":{\"field\":\"y\"}},\"id\":\"53aa35f4-9c7c-4281-a648-ed6deddcab6e\",\"type\":\"Line\"},{\"attributes\":{\"above\":[{\"id\":\"d58c05fc-f10c-4c5d-9a44-f340da38e554\",\"type\":\"Legend\"}],\"below\":[{\"id\":\"7589bbe0-0367-45f9-b336-cd1224a5de81\",\"type\":\"LinearAxis\"}],\"left\":[{\"id\":\"7fa83110-5a14-48a2-9bd2-45402b70da98\",\"type\":\"LogAxis\"}],\"plot_height\":500,\"plot_width\":300,\"renderers\":[{\"id\":\"7589bbe0-0367-45f9-b336-cd1224a5de81\",\"type\":\"LinearAxis\"},{\"id\":\"ee5f443d-9329-42f0-9d49-e473e42b7bde\",\"type\":\"Grid\"},{\"id\":\"7fa83110-5a14-48a2-9bd2-45402b70da98\",\"type\":\"LogAxis\"},{\"id\":\"d062bf0e-1f4c-4130-888a-4d6d6c1a314e\",\"type\":\"Grid\"},{\"id\":\"0225a413-2a95-4638-943e-234d3607636a\",\"type\":\"BoxAnnotation\"},{\"id\":\"222cd876-6171-458f-8a89-14ff33a91480\",\"type\":\"GlyphRenderer\"},{\"id\":\"4185e2fd-7d94-40ae-8efe-3b9f70321f25\",\"type\":\"GlyphRenderer\"},{\"id\":\"d58c05fc-f10c-4c5d-9a44-f340da38e554\",\"type\":\"Legend\"}],\"title\":{\"id\":\"e2a30c8b-23b9-40e5-ae9a-2a6cb8778112\",\"type\":\"Title\"},\"toolbar\":{\"id\":\"31e2f16c-8fc3-4533-adb8-a25986e43a66\",\"type\":\"Toolbar\"},\"toolbar_location\":null,\"x_range\":{\"id\":\"05a86918-c210-4284-931c-bfa31b47190a\",\"type\":\"Range1d\"},\"x_scale\":{\"id\":\"a78d7ed0-a872-4f05-9e49-f11d9ad7204f\",\"type\":\"LinearScale\"},\"y_range\":{\"id\":\"486daf87-414f-43eb-80ea-55e730d217f9\",\"type\":\"Range1d\"},\"y_scale\":{\"id\":\"82ec267b-46b7-487e-888f-40e43ea65f3c\",\"type\":\"LogScale\"}},\"id\":\"7a1962c4-e5de-46a3-84b9-f5a4b422a364\",\"subtype\":\"Figure\",\"type\":\"Plot\"},{\"attributes\":{\"source\":{\"id\":\"f37348e1-0411-4664-8e31-c7c33fd391c3\",\"type\":\"ColumnDataSource\"}},\"id\":\"47c817ef-5530-4c41-8847-d0c805611037\",\"type\":\"CDSView\"},{\"attributes\":{\"callback\":null,\"data\":{\"x\":{\"__ndarray__\":\"JY3ROqrqXEDOwMjLmvxIQPs9sU6V70NANX7hlSR/P0CYTYBh+ec4QPn578Fr2zNABps6j4oDMEAOar+1Ex0qQDVDqihebSVAb/ya9t6JIUCK9JFKZ0YcQEvYyL/gBBZA8hXupqVzD0BWk/E5wej/P/IKRE/KhPU/cLlVa7zvAkDVOVDxyaQLQJdBEHv8ORFArHR3nQ3hFEDwf5HhwksZQM9TeCumjR9AX7adtkZcJEDaq4+HvpskQAN+6N2zWSFA6wK5H0taHUBMBXAOMrwXQAvl6QGYjxNABVg/kYJyEEA42zdSEZILQIkzdQ3ptgZAYbJMGv4uAkBSrGQR1Pr7P0zQcBRql/Q/xVA1Fwtl7j/WnmGD6P3fPxNBiKMs9Z6/7+XbDk8n178gItoz8AjQvx5qPlvF6pw/Tu9wqNDasz/n46oXG/G4PzgrJl+eCLs/G8yRW7R8uz86aStAJfi6PwoLk07J3rk/2C0HHDdsuD8/qjv4hMq2P6nTqivZELU/AydNFgZLsz+xRZMKsZqxP8ktWj6aA7A/AQowV/8arT+DsYMf3GqqP4VENYAS+qc/LEMXMinOpT97rTpheNujP9QRxYacLqI/BUllq0fxoD+YjLkkNG2gPyAPjKJYhaE/YKLuwXMIpT8Ma/0JO4CpP+TiA5a3fqk/+iJngl0koj8eVK9JIQqOPzK8VBNdw1e/oKgpF1zLfr+nSVVEWflyv/8SJoCqp0k/x7khE9apcj+YE3n5Mh16P3kgcVFm8X0/vp+b+BHYgD/L4BHd/zyHPy+7DnJqqb8/\",\"dtype\":\"float64\",\"shape\":[75]},\"y\":{\"__ndarray__\":\"GhExyth1ND/Sv8nbtpRIP2vylNV0PVE/aTum7souWD/At0SJ8fVgPw3Iuahxymc/MSNhhJWvcD/bTfBN02d3P2zb5nxnaoA/CD5h5MAGhz8NmeH1TyaQP+zrCsc9p5Y/LbKd76fGnz/bLW5ISEmmPww9YvTcQq8/JV2OstnstT8Er5Y7M8G+P0c+r3jqkcU/5h99k6ZBzj88bCIzFzjVP4enV8oyxN0//yH99nXg5D8qOpLLf0jtP5kqGJXUifQ/c9cS8kHP/D+/DpwzojQEQIEmwoanVwxA4lgXt9HgE0BSSZ2AJuIbQAMJih9jjiNA5q4l5INuK0AwTKYKRj0zQNv5fmq8/DpAaCJseHrtQkB/+zpwzoxKQM3MzMzMeFJAZmZmZmZqWEAAAAAAAFxeQM3MzMzMJmJAmpmZmZkfZUBmZmZmZhhoQDMzMzMzEWtAAAAAAAAKbkBmZmZmZoFwQM3MzMzM/XFAMzMzMzN6c0CamZmZmfZ0QAAAAAAAc3ZAZmZmZmbvd0DNzMzMzGt5QDMzMzMz6HpAmpmZmZlkfEAAAAAAAOF9QGZmZmZmXX9AZmZmZuZsgECamZmZGSuBQM3MzMxM6YFAAAAAAICngkAzMzMzs2WDQGZmZmbmI4RAmpmZmRnihEDNzMzMTKCFQAAAAACAXoZAMzMzM7Mch0BmZmZm5tqHQJqZmZkZmYhAzczMzExXiUAAAAAAgBWKQDMzMzOz04pAZmZmZuaRi0CamZmZGVCMQM3MzMxMDo1AAAAAAIDMjUAzMzMzs4qOQGZmZmbmSI9A\",\"dtype\":\"float64\",\"shape\":[75]}},\"selected\":{\"id\":\"0f44818b-ae71-444f-b10a-a6de65c113ca\",\"type\":\"Selection\"},\"selection_policy\":{\"id\":\"d745d04b-7338-474d-9dd2-2dfcd4994bf1\",\"type\":\"UnionRenderers\"}},\"id\":\"58d756e5-c413-41a1-b7d7-f70e5b991e97\",\"type\":\"ColumnDataSource\"},{\"attributes\":{\"line_alpha\":0.1,\"line_color\":\"#1f77b4\",\"line_dash\":[6],\"line_width\":5,\"x\":{\"field\":\"x\"},\"y\":{\"field\":\"y\"}},\"id\":\"6e8db4aa-3edf-4b1d-ab0c-a98055f4c458\",\"type\":\"Line\"},{\"attributes\":{\"source\":{\"id\":\"c4ce9b2b-3720-4741-809a-d325ff9f50db\",\"type\":\"ColumnDataSource\"}},\"id\":\"81f99c98-cd63-46ba-bce7-036dda9ce6d3\",\"type\":\"CDSView\"},{\"attributes\":{\"data_source\":{\"id\":\"cc0f2d2b-1502-4c43-9d90-46f162cb5e77\",\"type\":\"ColumnDataSource\"},\"glyph\":{\"id\":\"ad500cdf-1253-466d-8544-2db921f18e65\",\"type\":\"Line\"},\"hover_glyph\":null,\"muted_glyph\":null,\"nonselection_glyph\":{\"id\":\"a1e65c2b-c11c-43d9-9b5a-3611f66df530\",\"type\":\"Line\"},\"selection_glyph\":null,\"view\":{\"id\":\"83aa2c8b-ee1a-471a-b9f5-eb341ee20af4\",\"type\":\"CDSView\"}},\"id\":\"b73af05d-5b66-45de-955a-d413a116a74a\",\"type\":\"GlyphRenderer\"},{\"attributes\":{\"callback\":null,\"end\":0.6996943690000006,\"start\":-0.9383306689999993},\"id\":\"05a86918-c210-4284-931c-bfa31b47190a\",\"type\":\"Range1d\"},{\"attributes\":{\"data_source\":{\"id\":\"7c5b4edb-4467-47cb-9f62-c9c3223d4174\",\"type\":\"ColumnDataSource\"},\"glyph\":{\"id\":\"f5a02344-0282-41f9-b5fa-40e9f48d8ac5\",\"type\":\"Line\"},\"hover_glyph\":null,\"muted_glyph\":null,\"nonselection_glyph\":{\"id\":\"5febf8bf-863f-4986-8fc7-a11fe5d41d6f\",\"type\":\"Line\"},\"selection_glyph\":null,\"view\":{\"id\":\"459a56f4-4f4b-48be-b822-e04aa039f226\",\"type\":\"CDSView\"}},\"id\":\"3a1b3ad0-37ed-402f-8366-8d94ce2bf336\",\"type\":\"GlyphRenderer\"},{\"attributes\":{},\"id\":\"35b1b4c6-097a-454e-b146-fe7d80c84009\",\"type\":\"BasicTickFormatter\"},{\"attributes\":{\"bottom_units\":\"screen\",\"fill_alpha\":{\"value\":0.5},\"fill_color\":{\"value\":\"lightgrey\"},\"left_units\":\"screen\",\"level\":\"overlay\",\"line_alpha\":{\"value\":1.0},\"line_color\":{\"value\":\"black\"},\"line_dash\":[4,4],\"line_width\":{\"value\":2},\"plot\":null,\"render_mode\":\"css\",\"right_units\":\"screen\",\"top_units\":\"screen\"},\"id\":\"e24a4c52-36f4-4531-a02a-6689ab858d35\",\"type\":\"BoxAnnotation\"},{\"attributes\":{\"num_minor_ticks\":10},\"id\":\"24f50d22-ae65-4e8c-9d08-ebcc5947807a\",\"type\":\"LogTicker\"},{\"attributes\":{\"data_source\":{\"id\":\"58d756e5-c413-41a1-b7d7-f70e5b991e97\",\"type\":\"ColumnDataSource\"},\"glyph\":{\"id\":\"081fc121-4343-46ed-8cbb-063e5d2c20d4\",\"type\":\"Circle\"},\"hover_glyph\":null,\"muted_glyph\":null,\"nonselection_glyph\":{\"id\":\"6ea80887-1396-4da7-a683-d0c767d3af54\",\"type\":\"Circle\"},\"selection_glyph\":null,\"view\":{\"id\":\"2053bf56-9963-426c-8efd-3a56e72f4efe\",\"type\":\"CDSView\"}},\"id\":\"0fecd575-a47c-465c-bf14-15f1396f55fe\",\"type\":\"GlyphRenderer\"},{\"attributes\":{\"above\":[{\"id\":\"de2d17af-2400-4aba-8709-725265f1f94d\",\"type\":\"Legend\"}],\"below\":[{\"id\":\"eea01c4d-ca83-4ac3-b786-dd0779b455e8\",\"type\":\"LinearAxis\"}],\"left\":[{\"id\":\"ea214872-2bae-4e7b-beb2-38bfde1d4887\",\"type\":\"LinearAxis\"}],\"plot_height\":500,\"plot_width\":300,\"renderers\":[{\"id\":\"eea01c4d-ca83-4ac3-b786-dd0779b455e8\",\"type\":\"LinearAxis\"},{\"id\":\"c7a7d4bf-2297-4b86-98b6-1655b26a85b2\",\"type\":\"Grid\"},{\"id\":\"ea214872-2bae-4e7b-beb2-38bfde1d4887\",\"type\":\"LinearAxis\"},{\"id\":\"6b86964a-3e94-49bc-8d18-0027da03f811\",\"type\":\"Grid\"},{\"id\":\"85123067-ebc6-4836-bdcb-13e1e10d5952\",\"type\":\"BoxAnnotation\"},{\"id\":\"2043f6f2-2a8f-477c-b906-7883b5b82990\",\"type\":\"GlyphRenderer\"},{\"id\":\"7cb3d7ee-8348-42e7-bdb8-e98e200035cb\",\"type\":\"GlyphRenderer\"},{\"id\":\"3a1b3ad0-37ed-402f-8366-8d94ce2bf336\",\"type\":\"GlyphRenderer\"},{\"id\":\"27dbfc23-d53d-4a2d-99db-070683cb8168\",\"type\":\"GlyphRenderer\"},{\"id\":\"de2d17af-2400-4aba-8709-725265f1f94d\",\"type\":\"Legend\"}],\"title\":{\"id\":\"60588436-c8d7-4bf5-ae94-b867fa32c08f\",\"type\":\"Title\"},\"toolbar\":{\"id\":\"29543094-40e6-44bd-9f3f-0746593f166f\",\"type\":\"Toolbar\"},\"toolbar_location\":null,\"x_range\":{\"id\":\"32958f00-4f87-42a4-9dcb-bf52863d776e\",\"type\":\"Range1d\"},\"x_scale\":{\"id\":\"16d0e014-f590-495c-9b31-f83b164e5800\",\"type\":\"LinearScale\"},\"y_range\":{\"id\":\"e98dbb47-cdb1-464b-bd5a-f60f6762834d\",\"type\":\"Range1d\"},\"y_scale\":{\"id\":\"6a5642f1-3c21-44e4-9d04-becd57913a06\",\"type\":\"LinearScale\"}},\"id\":\"1c40a4f5-02c9-4eb2-95a5-e20bd826e212\",\"subtype\":\"Figure\",\"type\":\"Plot\"},{\"attributes\":{\"line_alpha\":0.1,\"line_color\":\"#1f77b4\",\"line_dash\":[6],\"line_width\":5,\"x\":{\"field\":\"x\"},\"y\":{\"field\":\"y\"}},\"id\":\"a1e65c2b-c11c-43d9-9b5a-3611f66df530\",\"type\":\"Line\"},{\"attributes\":{\"line_alpha\":0.1,\"line_color\":\"#1f77b4\",\"line_width\":8,\"x\":{\"field\":\"x\"},\"y\":{\"field\":\"y\"}},\"id\":\"9ac813a4-7b36-49c9-a6c0-24680f2e61d0\",\"type\":\"Line\"},{\"attributes\":{\"source\":{\"id\":\"cc0f2d2b-1502-4c43-9d90-46f162cb5e77\",\"type\":\"ColumnDataSource\"}},\"id\":\"83aa2c8b-ee1a-471a-b9f5-eb341ee20af4\",\"type\":\"CDSView\"},{\"attributes\":{\"data_source\":{\"id\":\"ef6821c5-94c1-49f9-99d6-fec11fc8b70e\",\"type\":\"ColumnDataSource\"},\"glyph\":{\"id\":\"00cf3edd-c4ec-4369-a944-14c7986f43ff\",\"type\":\"Line\"},\"hover_glyph\":null,\"muted_glyph\":null,\"nonselection_glyph\":{\"id\":\"9ac813a4-7b36-49c9-a6c0-24680f2e61d0\",\"type\":\"Line\"},\"selection_glyph\":null,\"view\":{\"id\":\"c720918e-7414-45a8-9c20-61e7e69249fb\",\"type\":\"CDSView\"}},\"id\":\"ef3cdcea-7918-49e0-b7cb-0fbcd082ee85\",\"type\":\"GlyphRenderer\"},{\"attributes\":{\"active_drag\":\"auto\",\"active_inspect\":\"auto\",\"active_scroll\":\"auto\",\"active_tap\":\"auto\",\"tools\":[{\"id\":\"174a7262-7791-4097-8587-7c3872b9c5c3\",\"type\":\"PanTool\"},{\"id\":\"4d22add8-262e-44bb-b8f3-a2f49a9d1ffb\",\"type\":\"WheelZoomTool\"},{\"id\":\"e5d020d3-0612-4f54-8cc5-dd64c3847b8d\",\"type\":\"BoxZoomTool\"},{\"id\":\"a3ad15c0-7aa7-443b-a278-9bed8655591c\",\"type\":\"SaveTool\"},{\"id\":\"8091df17-cae0-42dd-b139-59f7151f2371\",\"type\":\"ResetTool\"},{\"id\":\"d4e77ef1-f9b3-4d63-a2b5-e9b3d6affe2b\",\"type\":\"HelpTool\"}]},\"id\":\"31e2f16c-8fc3-4533-adb8-a25986e43a66\",\"type\":\"Toolbar\"},{\"attributes\":{\"label\":{\"value\":\"CRD\"},\"renderers\":[{\"id\":\"7cb3d7ee-8348-42e7-bdb8-e98e200035cb\",\"type\":\"GlyphRenderer\"},{\"id\":\"3a1b3ad0-37ed-402f-8366-8d94ce2bf336\",\"type\":\"GlyphRenderer\"}]},\"id\":\"71175ef9-0205-4715-921e-f5ea51fb13bc\",\"type\":\"LegendItem\"},{\"attributes\":{\"callback\":null,\"data\":{\"x\":{\"__ndarray__\":\"RbqfU5DPV0CAs5QsJ1lMQEjgDz//3UVAb7iP3JrwP0CDNGPRdPI2QEzhQbPrRjFA56T3ja9lLEDNdK+T+mooQANAFTduoSRA8ia/RSefIEBUz90JUUEZQP65aMh4VBJAst2Y+Wk3CUAmOzYC8dr6P7ZC/dOymvc/h2HRvgO9BUBnASTkzdsOQEtCfSZWYRJAi15X3TTPFEDNuAQ7WT0YQKQQErOo0R5A7x8L0SFwJEDAstKkFJwkQPWdX5SgpyBAeQlOfSDJG0CLDczAt58XQAyWRbzQZxRAXbqTmRzAEEAgF4uVh9sLQOvwIfKnJwdA23qXnCTnAUCx8Jr8u2P7P2OL7moDQfY/qSLLOPxk8D/v7W1lTyPeP18Tu34N/aa/+iDT89GW1b9rruR0o1nNv2bZjgcttJ8/fYhuP96AsT8v6Lp5ddG1P8BDFD03B7c/wOJcAnHQtj/kk1AlwyS2P/TIr7d+jrU/YhoCV+QdtT+oKS8dZnS0P0Bp7ybU4LM/UBOZk/nCsj+MFc20EZCxP4GFNnrhQLA/sz2ttCLwrD/DSivc90qqPw7VPmRkpaY/fWqwAfWMpD+N7/2gPX2hP37TiT7+Vp8/Oj0Q1Wvlmz/vkzGraI2aP9a2tFwuyZw/UUFacPoLoj8V4Zj4stOmP/Doiyy1uKY/LbTJmr7Cnz8UrbZEKX+FPxa3kFJQ23S/iMvEibyghr+W3OSU2VB8v6HEVuwJ9FS/nNGjIRuzYT8dXNkFzIp0Pwa+1ihaZ3c/qwEWduLEeD+emclAcUqEP4aUfkYSUr8/\",\"dtype\":\"float64\",\"shape\":[75]},\"y\":{\"__ndarray__\":\"GhExyth1ND/Sv8nbtpRIP2vylNV0PVE/aTum7souWD/At0SJ8fVgPw3Iuahxymc/MSNhhJWvcD/bTfBN02d3P2zb5nxnaoA/CD5h5MAGhz8NmeH1TyaQP+zrCsc9p5Y/LbKd76fGnz/bLW5ISEmmPww9YvTcQq8/JV2OstnstT8Er5Y7M8G+P0c+r3jqkcU/5h99k6ZBzj88bCIzFzjVP4enV8oyxN0//yH99nXg5D8qOpLLf0jtP5kqGJXUifQ/c9cS8kHP/D+/DpwzojQEQIEmwoanVwxA4lgXt9HgE0BSSZ2AJuIbQAMJih9jjiNA5q4l5INuK0AwTKYKRj0zQNv5fmq8/DpAaCJseHrtQkB/+zpwzoxKQM3MzMzMeFJAZmZmZmZqWEAAAAAAAFxeQM3MzMzMJmJAmpmZmZkfZUBmZmZmZhhoQDMzMzMzEWtAAAAAAAAKbkBmZmZmZoFwQM3MzMzM/XFAMzMzMzN6c0CamZmZmfZ0QAAAAAAAc3ZAZmZmZmbvd0DNzMzMzGt5QDMzMzMz6HpAmpmZmZlkfEAAAAAAAOF9QGZmZmZmXX9AZmZmZuZsgECamZmZGSuBQM3MzMxM6YFAAAAAAICngkAzMzMzs2WDQGZmZmbmI4RAmpmZmRnihEDNzMzMTKCFQAAAAACAXoZAMzMzM7Mch0BmZmZm5tqHQJqZmZkZmYhAzczMzExXiUAAAAAAgBWKQDMzMzOz04pAZmZmZuaRi0CamZmZGVCMQM3MzMxMDo1AAAAAAIDMjUAzMzMzs4qOQGZmZmbmSI9A\",\"dtype\":\"float64\",\"shape\":[75]}},\"selected\":{\"id\":\"6b42b805-e7aa-4bce-95a6-60002f664b33\",\"type\":\"Selection\"},\"selection_policy\":{\"id\":\"9a4c0700-6bb1-4af7-9ebb-aac0bb050cf5\",\"type\":\"UnionRenderers\"}},\"id\":\"a75a2e04-dc91-4827-bd59-fbe46e8dc11d\",\"type\":\"ColumnDataSource\"},{\"attributes\":{\"line_color\":\"#4daf4a\",\"line_width\":1.5,\"x\":{\"field\":\"x\"},\"y\":{\"field\":\"y\"}},\"id\":\"f5a02344-0282-41f9-b5fa-40e9f48d8ac5\",\"type\":\"Line\"},{\"attributes\":{\"line_alpha\":0.3,\"line_color\":\"#984ea3\",\"line_width\":8,\"x\":{\"field\":\"x\"},\"y\":{\"field\":\"y\"}},\"id\":\"00cf3edd-c4ec-4369-a944-14c7986f43ff\",\"type\":\"Line\"},{\"attributes\":{\"source\":{\"id\":\"58d756e5-c413-41a1-b7d7-f70e5b991e97\",\"type\":\"ColumnDataSource\"}},\"id\":\"2053bf56-9963-426c-8efd-3a56e72f4efe\",\"type\":\"CDSView\"},{\"attributes\":{\"data_source\":{\"id\":\"561d5fc4-f4f1-4e3b-95e6-89a24799603e\",\"type\":\"ColumnDataSource\"},\"glyph\":{\"id\":\"3c4f56ef-b7b1-4c74-abe1-97343887b61b\",\"type\":\"Circle\"},\"hover_glyph\":null,\"muted_glyph\":null,\"nonselection_glyph\":{\"id\":\"5b625b1e-3b88-4be0-b2fc-1488d6a00dee\",\"type\":\"Circle\"},\"selection_glyph\":null,\"view\":{\"id\":\"156c24e7-51e0-4a18-8af8-0def52a58c96\",\"type\":\"CDSView\"}},\"id\":\"7cb3d7ee-8348-42e7-bdb8-e98e200035cb\",\"type\":\"GlyphRenderer\"},{\"attributes\":{\"source\":{\"id\":\"ef6821c5-94c1-49f9-99d6-fec11fc8b70e\",\"type\":\"ColumnDataSource\"}},\"id\":\"c720918e-7414-45a8-9c20-61e7e69249fb\",\"type\":\"CDSView\"},{\"attributes\":{\"label\":{\"value\":\"CLIRAD\"},\"renderers\":[{\"id\":\"b73af05d-5b66-45de-955a-d413a116a74a\",\"type\":\"GlyphRenderer\"}]},\"id\":\"7c9138c8-5187-4cc9-a260-cede2c0dd86d\",\"type\":\"LegendItem\"},{\"attributes\":{\"callback\":null,\"data\":{\"x\":{\"__ndarray__\":\"8OMvLeqZRMD4k/jcCeYaQHCfVWZKYyJAxrJg4o8qIUDM2QJC67EWQIBPc/IiEwBAAB5tHLGW6b/Yuz/eqxb+vwjprGBl3ve/wAyBbQ4h4b8QlEfcCLDRP1CE/CJX4OU/IEf2UsKd5T+oY0tFGeDYPwAQ3f077K+/vKwdIPNc3b8kITb9flbkvyyjJepgGOK/wMUwzK4gyL/wBbbv9kXVP8gqjl5oCeQ/IK5GdqVl0z8gHCWvzrHYv5gZgFcVa+a/4NkMJrSbx7/A1zJ0R1rZPxDJlkClJdU/QIr8n2jDtL+ApJNbSeG4v6gx+bAoNtQ/UHdlFwyu3j/4huqcVVXMP4ATUPI0qo2/iCv2ds+quT/YdOvSEu3HPybtUpKRjak/+Ap/RBuZtb/k9O0LhVuxv0zMIjCwcI2/bPVW1pY3lL9wRh9WLDydv+RCyQqccZy/QEQ9WT6Glb+IF7dDVsaJv9BlG8znW3W/AGvnmzfFOL/AWswtf05ZP0AuqpHSdlA/AGBPZHtnU7+APg6mCEBxv/gKtYCyJH6/8EUHZn2xhL/8u8Sspe2Iv7Qkxob8oIu/hCJC+w/rjL/KNMAjLw2NvwShInLtUIy/GCl4MID1ir+GxLdcby6Jv6o1seYeF4e/usL9eJa9hL8kW61LQUKCv4AyTXgMBoC/XKZRQXjGfL8y+bRzq3p5v07jjf6m33W//LCzlnoFcr+aqqMHn51svxT4XhJbQGe/rBCtGiZIZL8c2LOyQGVjvxrDG9cYW2S/mOPovfcPZ78cyamT7/Zpv6DTAb0uy2C/\",\"dtype\":\"float64\",\"shape\":[75]},\"y\":{\"__ndarray__\":\"GhExyth1ND/Sv8nbtpRIP2vylNV0PVE/aTum7souWD/At0SJ8fVgPw3Iuahxymc/MSNhhJWvcD/bTfBN02d3P2zb5nxnaoA/CD5h5MAGhz8NmeH1TyaQP+zrCsc9p5Y/LbKd76fGnz/bLW5ISEmmPww9YvTcQq8/JV2OstnstT8Er5Y7M8G+P0c+r3jqkcU/5h99k6ZBzj88bCIzFzjVP4enV8oyxN0//yH99nXg5D8qOpLLf0jtP5kqGJXUifQ/c9cS8kHP/D+/DpwzojQEQIEmwoanVwxA4lgXt9HgE0BSSZ2AJuIbQAMJih9jjiNA5q4l5INuK0AwTKYKRj0zQNv5fmq8/DpAaCJseHrtQkB/+zpwzoxKQM3MzMzMeFJAZmZmZmZqWEAAAAAAAFxeQM3MzMzMJmJAmpmZmZkfZUBmZmZmZhhoQDMzMzMzEWtAAAAAAAAKbkBmZmZmZoFwQM3MzMzM/XFAMzMzMzN6c0CamZmZmfZ0QAAAAAAAc3ZAZmZmZmbvd0DNzMzMzGt5QDMzMzMz6HpAmpmZmZlkfEAAAAAAAOF9QGZmZmZmXX9AZmZmZuZsgECamZmZGSuBQM3MzMxM6YFAAAAAAICngkAzMzMzs2WDQGZmZmbmI4RAmpmZmRnihEDNzMzMTKCFQAAAAACAXoZAMzMzM7Mch0BmZmZm5tqHQJqZmZkZmYhAzczMzExXiUAAAAAAgBWKQDMzMzOz04pAZmZmZuaRi0CamZmZGVCMQM3MzMxMDo1AAAAAAIDMjUAzMzMzs4qOQGZmZmbmSI9A\",\"dtype\":\"float64\",\"shape\":[75]}},\"selected\":{\"id\":\"1477fdfb-86bc-4fc2-b486-5fa92a848bbe\",\"type\":\"Selection\"},\"selection_policy\":{\"id\":\"e216e274-9399-4299-9f9a-7cf280351507\",\"type\":\"UnionRenderers\"}},\"id\":\"2546df61-b759-4294-ab00-da50a356c92b\",\"type\":\"ColumnDataSource\"},{\"attributes\":{},\"id\":\"4bca96f6-fa3b-4663-9d83-d08f70e9fc01\",\"type\":\"LogScale\"},{\"attributes\":{\"line_alpha\":0.3,\"line_color\":\"#984ea3\",\"line_width\":8,\"x\":{\"field\":\"x\"},\"y\":{\"field\":\"y\"}},\"id\":\"f9ed8d58-5b18-4cfd-b7c0-868b87e72775\",\"type\":\"Line\"},{\"attributes\":{\"source\":{\"id\":\"7c5b4edb-4467-47cb-9f62-c9c3223d4174\",\"type\":\"ColumnDataSource\"}},\"id\":\"459a56f4-4f4b-48be-b822-e04aa039f226\",\"type\":\"CDSView\"},{\"attributes\":{\"label\":{\"value\":\"CRD\"},\"renderers\":[{\"id\":\"0fecd575-a47c-465c-bf14-15f1396f55fe\",\"type\":\"GlyphRenderer\"},{\"id\":\"54169912-08b7-40f2-9a4f-5c3636197d1d\",\"type\":\"GlyphRenderer\"}]},\"id\":\"298159fe-1af2-40e8-b6d2-d30d9ac21c31\",\"type\":\"LegendItem\"},{\"attributes\":{},\"id\":\"a78d7ed0-a872-4f05-9e49-f11d9ad7204f\",\"type\":\"LinearScale\"},{\"attributes\":{\"line_alpha\":0.1,\"line_color\":\"#1f77b4\",\"line_dash\":[6],\"line_width\":5,\"x\":{\"field\":\"x\"},\"y\":{\"field\":\"y\"}},\"id\":\"552f8bab-c55b-46b1-886b-4ee7c623c6c7\",\"type\":\"Line\"},{\"attributes\":{\"label\":{\"value\":\"WGT igg=10\"},\"renderers\":[{\"id\":\"ef3cdcea-7918-49e0-b7cb-0fbcd082ee85\",\"type\":\"GlyphRenderer\"}]},\"id\":\"d178e1a6-207b-4735-8d72-032cd835608a\",\"type\":\"LegendItem\"},{\"attributes\":{},\"id\":\"4e7b55e4-03ec-4fc0-b3bc-5ddccbf66620\",\"type\":\"Selection\"},{\"attributes\":{\"plot\":{\"id\":\"7a1962c4-e5de-46a3-84b9-f5a4b422a364\",\"subtype\":\"Figure\",\"type\":\"Plot\"},\"ticker\":{\"id\":\"d76af263-ebd5-4344-8dc0-fe46a82a6438\",\"type\":\"BasicTicker\"}},\"id\":\"ee5f443d-9329-42f0-9d49-e473e42b7bde\",\"type\":\"Grid\"},{\"attributes\":{},\"id\":\"bf8c6238-bbde-45fd-bef6-2f0b841cf21d\",\"type\":\"BasicTicker\"},{\"attributes\":{},\"id\":\"45865d34-acdb-4920-b83a-472a1f5f27b0\",\"type\":\"LinearScale\"},{\"attributes\":{\"fill_alpha\":{\"value\":0.1},\"fill_color\":{\"value\":\"#1f77b4\"},\"line_alpha\":{\"value\":0.1},\"line_color\":{\"value\":\"#1f77b4\"},\"x\":{\"field\":\"x\"},\"y\":{\"field\":\"y\"}},\"id\":\"5b625b1e-3b88-4be0-b2fc-1488d6a00dee\",\"type\":\"Circle\"},{\"attributes\":{},\"id\":\"82ec267b-46b7-487e-888f-40e43ea65f3c\",\"type\":\"LogScale\"},{\"attributes\":{},\"id\":\"d2390240-edc2-4b17-8d06-7531f08a79d6\",\"type\":\"ResetTool\"},{\"attributes\":{\"axis_label\":\"cooling rate [K/day]\",\"formatter\":{\"id\":\"9fc3e6b7-63cc-4b5d-97bf-56efe36cdab3\",\"type\":\"BasicTickFormatter\"},\"plot\":{\"id\":\"7a1962c4-e5de-46a3-84b9-f5a4b422a364\",\"subtype\":\"Figure\",\"type\":\"Plot\"},\"ticker\":{\"id\":\"d76af263-ebd5-4344-8dc0-fe46a82a6438\",\"type\":\"BasicTicker\"}},\"id\":\"7589bbe0-0367-45f9-b336-cd1224a5de81\",\"type\":\"LinearAxis\"},{\"attributes\":{\"line_alpha\":0.6,\"line_color\":\"#e41a1c\",\"line_dash\":[6],\"line_width\":5,\"x\":{\"field\":\"x\"},\"y\":{\"field\":\"y\"}},\"id\":\"476331ab-7d7f-4ffb-a546-a3df4a6ba48c\",\"type\":\"Line\"},{\"attributes\":{},\"id\":\"d76af263-ebd5-4344-8dc0-fe46a82a6438\",\"type\":\"BasicTicker\"},{\"attributes\":{\"axis_label\":\"pressure [mb]\",\"formatter\":{\"id\":\"54a1b29e-8fb6-4005-a893-b89bb892f22a\",\"type\":\"LogTickFormatter\"},\"plot\":{\"id\":\"7a1962c4-e5de-46a3-84b9-f5a4b422a364\",\"subtype\":\"Figure\",\"type\":\"Plot\"},\"ticker\":{\"id\":\"808f9add-ed59-4414-9092-67b20ea0fbb4\",\"type\":\"LogTicker\"}},\"id\":\"7fa83110-5a14-48a2-9bd2-45402b70da98\",\"type\":\"LogAxis\"},{\"attributes\":{\"data_source\":{\"id\":\"2546df61-b759-4294-ab00-da50a356c92b\",\"type\":\"ColumnDataSource\"},\"glyph\":{\"id\":\"f9ed8d58-5b18-4cfd-b7c0-868b87e72775\",\"type\":\"Line\"},\"hover_glyph\":null,\"muted_glyph\":null,\"nonselection_glyph\":{\"id\":\"2ecdd228-30ec-410d-9350-2c4cff5bf393\",\"type\":\"Line\"},\"selection_glyph\":null,\"view\":{\"id\":\"31419a33-df3b-4d60-ae24-3088dc075963\",\"type\":\"CDSView\"}},\"id\":\"4185e2fd-7d94-40ae-8efe-3b9f70321f25\",\"type\":\"GlyphRenderer\"},{\"attributes\":{\"source\":{\"id\":\"561d5fc4-f4f1-4e3b-95e6-89a24799603e\",\"type\":\"ColumnDataSource\"}},\"id\":\"156c24e7-51e0-4a18-8af8-0def52a58c96\",\"type\":\"CDSView\"},{\"attributes\":{\"data_source\":{\"id\":\"a75a2e04-dc91-4827-bd59-fbe46e8dc11d\",\"type\":\"ColumnDataSource\"},\"glyph\":{\"id\":\"476331ab-7d7f-4ffb-a546-a3df4a6ba48c\",\"type\":\"Line\"},\"hover_glyph\":null,\"muted_glyph\":null,\"nonselection_glyph\":{\"id\":\"552f8bab-c55b-46b1-886b-4ee7c623c6c7\",\"type\":\"Line\"},\"selection_glyph\":null,\"view\":{\"id\":\"820c3372-bdf6-4087-a649-5a1775096a18\",\"type\":\"CDSView\"}},\"id\":\"2043f6f2-2a8f-477c-b906-7883b5b82990\",\"type\":\"GlyphRenderer\"},{\"attributes\":{\"num_minor_ticks\":10},\"id\":\"808f9add-ed59-4414-9092-67b20ea0fbb4\",\"type\":\"LogTicker\"},{\"attributes\":{\"dimension\":1,\"plot\":{\"id\":\"7a1962c4-e5de-46a3-84b9-f5a4b422a364\",\"subtype\":\"Figure\",\"type\":\"Plot\"},\"ticker\":{\"id\":\"808f9add-ed59-4414-9092-67b20ea0fbb4\",\"type\":\"LogTicker\"}},\"id\":\"d062bf0e-1f4c-4130-888a-4d6d6c1a314e\",\"type\":\"Grid\"},{\"attributes\":{\"callback\":null,\"data\":{\"x\":{\"__ndarray__\":\"JY3ROqrqXEDOwMjLmvxIQPs9sU6V70NANX7hlSR/P0CYTYBh+ec4QPn578Fr2zNABps6j4oDMEAOar+1Ex0qQDVDqihebSVAb/ya9t6JIUCK9JFKZ0YcQEvYyL/gBBZA8hXupqVzD0BWk/E5wej/P/IKRE/KhPU/cLlVa7zvAkDVOVDxyaQLQJdBEHv8ORFArHR3nQ3hFEDwf5HhwksZQM9TeCumjR9AX7adtkZcJEDaq4+HvpskQAN+6N2zWSFA6wK5H0taHUBMBXAOMrwXQAvl6QGYjxNABVg/kYJyEEA42zdSEZILQIkzdQ3ptgZAYbJMGv4uAkBSrGQR1Pr7P0zQcBRql/Q/xVA1Fwtl7j/WnmGD6P3fPxNBiKMs9Z6/7+XbDk8n178gItoz8AjQvx5qPlvF6pw/Tu9wqNDasz/n46oXG/G4PzgrJl+eCLs/G8yRW7R8uz86aStAJfi6PwoLk07J3rk/2C0HHDdsuD8/qjv4hMq2P6nTqivZELU/AydNFgZLsz+xRZMKsZqxP8ktWj6aA7A/AQowV/8arT+DsYMf3GqqP4VENYAS+qc/LEMXMinOpT97rTpheNujP9QRxYacLqI/BUllq0fxoD+YjLkkNG2gPyAPjKJYhaE/YKLuwXMIpT8Ma/0JO4CpP+TiA5a3fqk/+iJngl0koj8eVK9JIQqOPzK8VBNdw1e/oKgpF1zLfr+nSVVEWflyv/8SJoCqp0k/x7khE9apcj+YE3n5Mh16P3kgcVFm8X0/vp+b+BHYgD/L4BHd/zyHPy+7DnJqqb8/\",\"dtype\":\"float64\",\"shape\":[75]},\"y\":{\"__ndarray__\":\"GhExyth1ND/Sv8nbtpRIP2vylNV0PVE/aTum7souWD/At0SJ8fVgPw3Iuahxymc/MSNhhJWvcD/bTfBN02d3P2zb5nxnaoA/CD5h5MAGhz8NmeH1TyaQP+zrCsc9p5Y/LbKd76fGnz/bLW5ISEmmPww9YvTcQq8/JV2OstnstT8Er5Y7M8G+P0c+r3jqkcU/5h99k6ZBzj88bCIzFzjVP4enV8oyxN0//yH99nXg5D8qOpLLf0jtP5kqGJXUifQ/c9cS8kHP/D+/DpwzojQEQIEmwoanVwxA4lgXt9HgE0BSSZ2AJuIbQAMJih9jjiNA5q4l5INuK0AwTKYKRj0zQNv5fmq8/DpAaCJseHrtQkB/+zpwzoxKQM3MzMzMeFJAZmZmZmZqWEAAAAAAAFxeQM3MzMzMJmJAmpmZmZkfZUBmZmZmZhhoQDMzMzMzEWtAAAAAAAAKbkBmZmZmZoFwQM3MzMzM/XFAMzMzMzN6c0CamZmZmfZ0QAAAAAAAc3ZAZmZmZmbvd0DNzMzMzGt5QDMzMzMz6HpAmpmZmZlkfEAAAAAAAOF9QGZmZmZmXX9AZmZmZuZsgECamZmZGSuBQM3MzMxM6YFAAAAAAICngkAzMzMzs2WDQGZmZmbmI4RAmpmZmRnihEDNzMzMTKCFQAAAAACAXoZAMzMzM7Mch0BmZmZm5tqHQJqZmZkZmYhAzczMzExXiUAAAAAAgBWKQDMzMzOz04pAZmZmZuaRi0CamZmZGVCMQM3MzMxMDo1AAAAAAIDMjUAzMzMzs4qOQGZmZmbmSI9A\",\"dtype\":\"float64\",\"shape\":[75]}},\"selected\":{\"id\":\"d9543cc7-e51f-4aa1-a3f4-3c1d15bc8f49\",\"type\":\"Selection\"},\"selection_policy\":{\"id\":\"c97fb7ad-f0f0-45fe-8530-98effef05652\",\"type\":\"UnionRenderers\"}},\"id\":\"561d5fc4-f4f1-4e3b-95e6-89a24799603e\",\"type\":\"ColumnDataSource\"},{\"attributes\":{},\"id\":\"33257ad9-1780-48c9-b77d-bab76eb45cb9\",\"type\":\"HelpTool\"}],\"root_ids\":[\"b3c41055-da7e-4ec1-bc98-1e5c76628e57\"]},\"title\":\"Bokeh Application\",\"version\":\"0.12.16\"}};\n",
       "  var render_items = [{\"docid\":\"004e935d-0c65-4dc8-8504-2096dea4f065\",\"elementid\":\"14f90768-36fb-400e-bdec-37d4c77b41f0\",\"modelid\":\"b3c41055-da7e-4ec1-bc98-1e5c76628e57\"}];\n",
       "  root.Bokeh.embed.embed_items_notebook(docs_json, render_items);\n",
       "\n",
       "  }\n",
       "  if (root.Bokeh !== undefined) {\n",
       "    embed_document(root);\n",
       "  } else {\n",
       "    var attempts = 0;\n",
       "    var timer = setInterval(function(root) {\n",
       "      if (root.Bokeh !== undefined) {\n",
       "        embed_document(root);\n",
       "        clearInterval(timer);\n",
       "      }\n",
       "      attempts++;\n",
       "      if (attempts > 100) {\n",
       "        console.log(\"Bokeh: ERROR: Unable to run BokehJS code because BokehJS library is missing\")\n",
       "        clearInterval(timer);\n",
       "      }\n",
       "    }, 10, root)\n",
       "  }\n",
       "})(window);"
      ],
      "application/vnd.bokehjs_exec.v0+json": ""
     },
     "metadata": {
      "application/vnd.bokehjs_exec.v0+json": {
       "id": "b3c41055-da7e-4ec1-bc98-1e5c76628e57"
      }
     },
     "output_type": "display_data"
    },
    {
     "data": {
      "text/markdown": [
       "--------------------------"
      ],
      "text/plain": [
       "<IPython.core.display.Markdown object>"
      ]
     },
     "metadata": {},
     "output_type": "display_data"
    }
   ],
   "source": [
    "ida = show_results(dlbl=data_lbl, dcli=data_cli, add_idanchor=True)\n",
    "show_href(idanchor=ida, df=LINKS, dlbl=data_lbl, dcli=data_cli)"
   ]
  },
  {
   "cell_type": "code",
   "execution_count": 35,
   "metadata": {},
   "outputs": [
    {
     "data": {
      "text/markdown": [
       "-----------------------------"
      ],
      "text/plain": [
       "<IPython.core.display.Markdown object>"
      ]
     },
     "metadata": {},
     "output_type": "display_data"
    },
    {
     "data": {
      "text/markdown": [
       "<a id=\"00270408353\"></a>"
      ],
      "text/plain": [
       "<IPython.core.display.Markdown object>"
      ]
     },
     "metadata": {},
     "output_type": "display_data"
    },
    {
     "data": {
      "text/markdown": [
       "[4] {'h2o': 'atmpro', 'co2': 0.0008} mls"
      ],
      "text/plain": [
       "<IPython.core.display.Markdown object>"
      ]
     },
     "metadata": {},
     "output_type": "display_data"
    },
    {
     "data": {
      "text/html": [
       "<div>\n",
       "<style scoped>\n",
       "    .dataframe tbody tr th:only-of-type {\n",
       "        vertical-align: middle;\n",
       "    }\n",
       "\n",
       "    .dataframe tbody tr th {\n",
       "        vertical-align: top;\n",
       "    }\n",
       "\n",
       "    .dataframe thead tr th {\n",
       "        text-align: left;\n",
       "    }\n",
       "</style>\n",
       "<table border=\"1\" class=\"dataframe\">\n",
       "  <thead>\n",
       "    <tr>\n",
       "      <th></th>\n",
       "      <th colspan=\"2\" halign=\"left\">Run parameters</th>\n",
       "      <th colspan=\"2\" halign=\"left\">Fit parameters</th>\n",
       "    </tr>\n",
       "    <tr>\n",
       "      <th></th>\n",
       "      <th>CLIRAD</th>\n",
       "      <th>LBLNEW</th>\n",
       "      <th>(co2, 3b)</th>\n",
       "      <th>(h2o, 3b)</th>\n",
       "    </tr>\n",
       "  </thead>\n",
       "  <tbody>\n",
       "    <tr>\n",
       "      <th>atmpro</th>\n",
       "      <td>mls</td>\n",
       "      <td>mls</td>\n",
       "      <td>mls</td>\n",
       "      <td>trp</td>\n",
       "    </tr>\n",
       "    <tr>\n",
       "      <th>band</th>\n",
       "      <td>[4]</td>\n",
       "      <td>3b</td>\n",
       "      <td>3b</td>\n",
       "      <td>3b</td>\n",
       "    </tr>\n",
       "    <tr>\n",
       "      <th>commitnumber</th>\n",
       "      <td>1013f91</td>\n",
       "      <td>a22ab94</td>\n",
       "      <td>a22ab94</td>\n",
       "      <td>a06b618</td>\n",
       "    </tr>\n",
       "    <tr>\n",
       "      <th>conc</th>\n",
       "      <td>-</td>\n",
       "      <td>-</td>\n",
       "      <td>0.0004</td>\n",
       "      <td>-</td>\n",
       "    </tr>\n",
       "    <tr>\n",
       "      <th>dv</th>\n",
       "      <td>-</td>\n",
       "      <td>0.001</td>\n",
       "      <td>0.001</td>\n",
       "      <td>0.001</td>\n",
       "    </tr>\n",
       "    <tr>\n",
       "      <th>klin</th>\n",
       "      <td>-</td>\n",
       "      <td>-</td>\n",
       "      <td>0</td>\n",
       "      <td>1e-24</td>\n",
       "    </tr>\n",
       "    <tr>\n",
       "      <th>molecule</th>\n",
       "      <td>{'h2o': 'atmpro', 'co2': 0.0008}</td>\n",
       "      <td>{'co2': 0.0008, 'h2o': 'atmpro'}</td>\n",
       "      <td>co2</td>\n",
       "      <td>h2o</td>\n",
       "    </tr>\n",
       "    <tr>\n",
       "      <th>ng_adju</th>\n",
       "      <td>-</td>\n",
       "      <td>-</td>\n",
       "      <td>[0, 0]</td>\n",
       "      <td>[0]</td>\n",
       "    </tr>\n",
       "    <tr>\n",
       "      <th>ng_refs</th>\n",
       "      <td>-</td>\n",
       "      <td>-</td>\n",
       "      <td>[5, 4]</td>\n",
       "      <td>[6]</td>\n",
       "    </tr>\n",
       "    <tr>\n",
       "      <th>nv</th>\n",
       "      <td>-</td>\n",
       "      <td>1000</td>\n",
       "      <td>1000</td>\n",
       "      <td>1000</td>\n",
       "    </tr>\n",
       "    <tr>\n",
       "      <th>option_compute_btable</th>\n",
       "      <td>-</td>\n",
       "      <td>-</td>\n",
       "      <td>1</td>\n",
       "      <td>0</td>\n",
       "    </tr>\n",
       "    <tr>\n",
       "      <th>option_compute_ktable</th>\n",
       "      <td>-</td>\n",
       "      <td>-</td>\n",
       "      <td>1</td>\n",
       "      <td>1</td>\n",
       "    </tr>\n",
       "    <tr>\n",
       "      <th>option_wgt_flux</th>\n",
       "      <td>-</td>\n",
       "      <td>-</td>\n",
       "      <td>1</td>\n",
       "      <td>1</td>\n",
       "    </tr>\n",
       "    <tr>\n",
       "      <th>option_wgt_k</th>\n",
       "      <td>-</td>\n",
       "      <td>-</td>\n",
       "      <td>1</td>\n",
       "      <td>1</td>\n",
       "    </tr>\n",
       "    <tr>\n",
       "      <th>ref_pts</th>\n",
       "      <td>-</td>\n",
       "      <td>-</td>\n",
       "      <td>[(1, 250), (10, 250)]</td>\n",
       "      <td>[(600, 250)]</td>\n",
       "    </tr>\n",
       "    <tr>\n",
       "      <th>tsfc</th>\n",
       "      <td>294</td>\n",
       "      <td>294</td>\n",
       "      <td>294</td>\n",
       "      <td>294</td>\n",
       "    </tr>\n",
       "    <tr>\n",
       "      <th>vmax</th>\n",
       "      <td>-</td>\n",
       "      <td>-</td>\n",
       "      <td>720</td>\n",
       "      <td>720</td>\n",
       "    </tr>\n",
       "    <tr>\n",
       "      <th>vmin</th>\n",
       "      <td>-</td>\n",
       "      <td>-</td>\n",
       "      <td>620</td>\n",
       "      <td>620</td>\n",
       "    </tr>\n",
       "    <tr>\n",
       "      <th>w_diffuse</th>\n",
       "      <td>-</td>\n",
       "      <td>-</td>\n",
       "      <td>[(1.66, 1.66, 1.66, 1.66, 1.66), (1.66, 1.66, 1.66, 1.66)]</td>\n",
       "      <td>[(1.66, 1.66, 1.66, 1.55, 1.5, 1.66)]</td>\n",
       "    </tr>\n",
       "    <tr>\n",
       "      <th>wgt</th>\n",
       "      <td>-</td>\n",
       "      <td>-</td>\n",
       "      <td>[(0, 0.5, 0.4, 0.6, 0.65), (0.7, 0.7, 0.55, 0.6)]</td>\n",
       "      <td>[(0.8, 0.8, 0.8, 0.6, 0.6, 0.9)]</td>\n",
       "    </tr>\n",
       "  </tbody>\n",
       "</table>\n",
       "</div>"
      ],
      "text/plain": [
       "                                         Run parameters  \\\n",
       "                                                 CLIRAD   \n",
       "atmpro                 mls                                \n",
       "band                   [4]                                \n",
       "commitnumber           1013f91                            \n",
       "conc                   -                                  \n",
       "dv                     -                                  \n",
       "klin                   -                                  \n",
       "molecule               {'h2o': 'atmpro', 'co2': 0.0008}   \n",
       "ng_adju                -                                  \n",
       "ng_refs                -                                  \n",
       "nv                     -                                  \n",
       "option_compute_btable  -                                  \n",
       "option_compute_ktable  -                                  \n",
       "option_wgt_flux        -                                  \n",
       "option_wgt_k           -                                  \n",
       "ref_pts                -                                  \n",
       "tsfc                   294                                \n",
       "vmax                   -                                  \n",
       "vmin                   -                                  \n",
       "w_diffuse              -                                  \n",
       "wgt                    -                                  \n",
       "\n",
       "                                                         \\\n",
       "                                                 LBLNEW   \n",
       "atmpro                 mls                                \n",
       "band                   3b                                 \n",
       "commitnumber           a22ab94                            \n",
       "conc                   -                                  \n",
       "dv                     0.001                              \n",
       "klin                   -                                  \n",
       "molecule               {'co2': 0.0008, 'h2o': 'atmpro'}   \n",
       "ng_adju                -                                  \n",
       "ng_refs                -                                  \n",
       "nv                     1000                               \n",
       "option_compute_btable  -                                  \n",
       "option_compute_ktable  -                                  \n",
       "option_wgt_flux        -                                  \n",
       "option_wgt_k           -                                  \n",
       "ref_pts                -                                  \n",
       "tsfc                   294                                \n",
       "vmax                   -                                  \n",
       "vmin                   -                                  \n",
       "w_diffuse              -                                  \n",
       "wgt                    -                                  \n",
       "\n",
       "                                                                   Fit parameters  \\\n",
       "                                                                        (co2, 3b)   \n",
       "atmpro                 mls                                                          \n",
       "band                   3b                                                           \n",
       "commitnumber           a22ab94                                                      \n",
       "conc                   0.0004                                                       \n",
       "dv                     0.001                                                        \n",
       "klin                   0                                                            \n",
       "molecule               co2                                                          \n",
       "ng_adju                [0, 0]                                                       \n",
       "ng_refs                [5, 4]                                                       \n",
       "nv                     1000                                                         \n",
       "option_compute_btable  1                                                            \n",
       "option_compute_ktable  1                                                            \n",
       "option_wgt_flux        1                                                            \n",
       "option_wgt_k           1                                                            \n",
       "ref_pts                [(1, 250), (10, 250)]                                        \n",
       "tsfc                   294                                                          \n",
       "vmax                   720                                                          \n",
       "vmin                   620                                                          \n",
       "w_diffuse              [(1.66, 1.66, 1.66, 1.66, 1.66), (1.66, 1.66, 1.66, 1.66)]   \n",
       "wgt                    [(0, 0.5, 0.4, 0.6, 0.65), (0.7, 0.7, 0.55, 0.6)]            \n",
       "\n",
       "                                                              \n",
       "                                                   (h2o, 3b)  \n",
       "atmpro                 trp                                    \n",
       "band                   3b                                     \n",
       "commitnumber           a06b618                                \n",
       "conc                   -                                      \n",
       "dv                     0.001                                  \n",
       "klin                   1e-24                                  \n",
       "molecule               h2o                                    \n",
       "ng_adju                [0]                                    \n",
       "ng_refs                [6]                                    \n",
       "nv                     1000                                   \n",
       "option_compute_btable  0                                      \n",
       "option_compute_ktable  1                                      \n",
       "option_wgt_flux        1                                      \n",
       "option_wgt_k           1                                      \n",
       "ref_pts                [(600, 250)]                           \n",
       "tsfc                   294                                    \n",
       "vmax                   720                                    \n",
       "vmin                   620                                    \n",
       "w_diffuse              [(1.66, 1.66, 1.66, 1.55, 1.5, 1.66)]  \n",
       "wgt                    [(0.8, 0.8, 0.8, 0.6, 0.6, 0.9)]       "
      ]
     },
     "metadata": {},
     "output_type": "display_data"
    },
    {
     "data": {
      "text/html": [
       "\n",
       "<div class=\"bk-root\">\n",
       "    <div class=\"bk-plotdiv\" id=\"0f16bfb6-431e-4b67-a9ed-dc8c22ed361f\"></div>\n",
       "</div>"
      ]
     },
     "metadata": {},
     "output_type": "display_data"
    },
    {
     "data": {
      "application/javascript": [
       "(function(root) {\n",
       "  function embed_document(root) {\n",
       "    \n",
       "  var docs_json = {\"f4d17163-f8a9-4a4b-a98e-9a62a2b84fa1\":{\"roots\":{\"references\":[{\"attributes\":{\"callback\":null,\"data\":{\"x\":{\"__ndarray__\":\"PZtVn6vTXEAOhGQBE/ZIQGHcDaK1ykNA0ZZzKa46P0AgKo2Y2ac4QEcDeAskoDNA2SPUDKmaL0A2Bwjm6LkpQHO9baZCFCVAi4hi8gY8IUC8fbFSnMYbQPDG3XsTrhVARFspXyucD0C858ByhJwBQDFL8ad8Xuw/RoYLL3cc9j9S9vErMZoFQGMvb2mQLQ1Ah5gBHZxWEkCC+GXVjKkWQBzk5DT6BxxAHk/LD1whIkDyID1FDtEmQEbu6eqO5SVAOhc1TvniIEBCS7JpAFoaQLdPfdbrLBVAY1aUt8g6EUCYvWw7bW0MQPs9sU6VbwdAza0QVmN5AkCZx1AEJ9H6P9MEm4QcJfM/cQIVhq8M7D/Duq/S9tLhP21Wv8qIqNA/c2bcUAhPwD//EzMtd4e7P3s/CN0ym5A/mbnA5bFmv78E1XHCpd+8vyagh6+2L5Q/xEMLFYv7sT9h19NnNxW1PyxsMTh9z7U/Gs8PP9l2tT+UulXx9Z60P9fSoahzkrM/YZnka8KCsj8vmOjBF4WxP91xvX+JfrA/lfFSXumErj81SSS4LoirP+VMv7YRXqg/EueXd4t2pT8Uwn/HqwSjP9X6KhJ2/qA/6eUpC1ynnj/XvsJ6irmbP/PdhWQDFJk/Uy4Q4bi8lj8wUM4nXcCUP1FHSw5tOpM/wezdoG9rkj8WOQwyPtaSPw2rjAfaa5U/1NX8fIQvmj/NMBEW5TeeP0tDuMLuTZ0/kd60PLY1lz8QOpfLDj2QP3oM8XCECoc/Bkz3KTS4gj8IhwPOfleEP+t+7Rfuh7Q/\",\"dtype\":\"float64\",\"shape\":[75]},\"y\":{\"__ndarray__\":\"GhExyth1ND/Sv8nbtpRIP2vylNV0PVE/aTum7souWD/At0SJ8fVgPw3Iuahxymc/MSNhhJWvcD/bTfBN02d3P2zb5nxnaoA/CD5h5MAGhz8NmeH1TyaQP+zrCsc9p5Y/LbKd76fGnz/bLW5ISEmmPww9YvTcQq8/JV2OstnstT8Er5Y7M8G+P0c+r3jqkcU/5h99k6ZBzj88bCIzFzjVP4enV8oyxN0//yH99nXg5D8qOpLLf0jtP5kqGJXUifQ/c9cS8kHP/D+/DpwzojQEQIEmwoanVwxA4lgXt9HgE0BSSZ2AJuIbQAMJih9jjiNA5q4l5INuK0AwTKYKRj0zQNv5fmq8/DpAaCJseHrtQkB/+zpwzoxKQM3MzMzMeFJAZmZmZmZqWEAAAAAAAFxeQM3MzMzMJmJAmpmZmZkfZUBmZmZmZhhoQDMzMzMzEWtAAAAAAAAKbkBmZmZmZoFwQM3MzMzM/XFAMzMzMzN6c0CamZmZmfZ0QAAAAAAAc3ZAZmZmZmbvd0DNzMzMzGt5QDMzMzMz6HpAmpmZmZlkfEAAAAAAAOF9QGZmZmZmXX9AZmZmZuZsgECamZmZGSuBQM3MzMxM6YFAAAAAAICngkAzMzMzs2WDQGZmZmbmI4RAmpmZmRnihEDNzMzMTKCFQAAAAACAXoZAMzMzM7Mch0BmZmZm5tqHQJqZmZkZmYhAzczMzExXiUAAAAAAgBWKQDMzMzOz04pAZmZmZuaRi0CamZmZGVCMQM3MzMxMDo1AAAAAAIDMjUAzMzMzs4qOQGZmZmbmSI9A\",\"dtype\":\"float64\",\"shape\":[75]}},\"selected\":{\"id\":\"f20365aa-6bee-438a-946c-621d56b3669d\",\"type\":\"Selection\"},\"selection_policy\":{\"id\":\"87ee785a-6012-4661-bd81-1038f76f98d6\",\"type\":\"UnionRenderers\"}},\"id\":\"9884d42a-6519-41e9-b9ff-7187282a960e\",\"type\":\"ColumnDataSource\"},{\"attributes\":{\"data_source\":{\"id\":\"c4504018-cda8-42d6-b002-b8747747d330\",\"type\":\"ColumnDataSource\"},\"glyph\":{\"id\":\"3ccebfa5-fc03-43e3-afe6-5c70c03f04c7\",\"type\":\"Line\"},\"hover_glyph\":null,\"muted_glyph\":null,\"nonselection_glyph\":{\"id\":\"0950a415-d8d3-4243-bffb-8f24a32fc139\",\"type\":\"Line\"},\"selection_glyph\":null,\"view\":{\"id\":\"2f018d9e-bfa7-4300-a5d0-3fa454a69fe6\",\"type\":\"CDSView\"}},\"id\":\"4e1f6a78-4939-46c9-9eb3-04d7417615cd\",\"type\":\"GlyphRenderer\"},{\"attributes\":{\"overlay\":{\"id\":\"fa7a888b-c074-49b4-9149-4549773b0662\",\"type\":\"BoxAnnotation\"}},\"id\":\"493af12c-cd05-46d1-abfc-1a43fa91861d\",\"type\":\"BoxZoomTool\"},{\"attributes\":{\"fill_alpha\":{\"value\":0.1},\"fill_color\":{\"value\":\"#1f77b4\"},\"line_alpha\":{\"value\":0.1},\"line_color\":{\"value\":\"#1f77b4\"},\"x\":{\"field\":\"x\"},\"y\":{\"field\":\"y\"}},\"id\":\"41369e25-c9cb-4c7c-a4f3-ad060f7f79eb\",\"type\":\"Circle\"},{\"attributes\":{\"label\":{\"value\":\"WGT igg=10\"},\"renderers\":[{\"id\":\"8d1a0631-3e51-4da1-a9d7-cfd700707137\",\"type\":\"GlyphRenderer\"}]},\"id\":\"1c5481bf-1be9-4608-8e73-75e16c78076a\",\"type\":\"LegendItem\"},{\"attributes\":{},\"id\":\"62664708-f099-4b9d-bd7c-dc2290de4cf5\",\"type\":\"LinearScale\"},{\"attributes\":{},\"id\":\"f20365aa-6bee-438a-946c-621d56b3669d\",\"type\":\"Selection\"},{\"attributes\":{\"callback\":null,\"end\":0.01,\"start\":1020},\"id\":\"40602bb1-26a1-4d39-a076-6f1ce14bedb1\",\"type\":\"Range1d\"},{\"attributes\":{\"line_alpha\":0.1,\"line_color\":\"#1f77b4\",\"line_width\":1.5,\"x\":{\"field\":\"x\"},\"y\":{\"field\":\"y\"}},\"id\":\"0950a415-d8d3-4243-bffb-8f24a32fc139\",\"type\":\"Line\"},{\"attributes\":{\"callback\":null,\"data\":{\"x\":{\"__ndarray__\":\"6bKY2HySUkDhW1g33kdMQAZHyatzYkhApZ4FobzhQ0DDYP4KmUc+QDQw8rImmjVAct2U8lr5LUB3MGKfAPIlQHHGMCdoDyJA7i2b75YaIECs20U96bkcQKw1lNqLQBhAUZPP4RBYEkBtDsY+tzYEQAt8Rbdes+g/1SyGYXYF7D8/A0WHGzsAQCvEfqplRghA65EGt7U1EUCmpJjNLY4XQB2hVRy9QB5AAsZElEDUIkA2x7lNuB8mQNduu9BcfyRAhdm6inuGIEAhPH9/7xscQPK/phgxfRZAKO54k9+6EEDJAbuaPIULQKvN/6uOHApATSDb6FJiBkBLRFPRsxT+P+N9ZlqscvI/C6p46Uc/7j+VTTWKFxHnP+uBf9/55NM/p6TDTYoysT+sodzPjPKkPwkpQmGFmJu/ji/rD95ow79fXMvg//m/v9/cS1kHuZU/YGT6DEWNsT9Qa/jonSK0PzhRWp5YPrU/nhF8PpBdtT9S6ljGAra0P7q++GqTf7M/PIXJRZb7sT98WFF+sF6wP3rmkbFtYK0/k3rfkPe+qT98cNwBVd6lP/ei9IeRHqI/u8vbl4fanT/RT5Fz/eOYP3n8kBfPKZU/e9Rs2bJgkj/8LZzMwTGQPzNE1pnJ14w/AoOSbO//iT8/Wzz5StmHP9ecasqhh4Y/dILBKwWBhj9l9tf988yIPyYFwsAGU48/nBp8Is4RlT/UIkffSbCZP7cZpGkbQpk/zUGd4AWLkz8hMpNF7cCJP9mI7n1UwYA/lKfvnsNBeT++oubqkcZ8P6j5zz9mDLQ/\",\"dtype\":\"float64\",\"shape\":[75]},\"y\":{\"__ndarray__\":\"GhExyth1ND/Sv8nbtpRIP2vylNV0PVE/aTum7souWD/At0SJ8fVgPw3Iuahxymc/MSNhhJWvcD/bTfBN02d3P2zb5nxnaoA/CD5h5MAGhz8NmeH1TyaQP+zrCsc9p5Y/LbKd76fGnz/bLW5ISEmmPww9YvTcQq8/JV2OstnstT8Er5Y7M8G+P0c+r3jqkcU/5h99k6ZBzj88bCIzFzjVP4enV8oyxN0//yH99nXg5D8qOpLLf0jtP5kqGJXUifQ/c9cS8kHP/D+/DpwzojQEQIEmwoanVwxA4lgXt9HgE0BSSZ2AJuIbQAMJih9jjiNA5q4l5INuK0AwTKYKRj0zQNv5fmq8/DpAaCJseHrtQkB/+zpwzoxKQM3MzMzMeFJAZmZmZmZqWEAAAAAAAFxeQM3MzMzMJmJAmpmZmZkfZUBmZmZmZhhoQDMzMzMzEWtAAAAAAAAKbkBmZmZmZoFwQM3MzMzM/XFAMzMzMzN6c0CamZmZmfZ0QAAAAAAAc3ZAZmZmZmbvd0DNzMzMzGt5QDMzMzMz6HpAmpmZmZlkfEAAAAAAAOF9QGZmZmZmXX9AZmZmZuZsgECamZmZGSuBQM3MzMxM6YFAAAAAAICngkAzMzMzs2WDQGZmZmbmI4RAmpmZmRnihEDNzMzMTKCFQAAAAACAXoZAMzMzM7Mch0BmZmZm5tqHQJqZmZkZmYhAzczMzExXiUAAAAAAgBWKQDMzMzOz04pAZmZmZuaRi0CamZmZGVCMQM3MzMxMDo1AAAAAAIDMjUAzMzMzs4qOQGZmZmbmSI9A\",\"dtype\":\"float64\",\"shape\":[75]}},\"selected\":{\"id\":\"3d9a8205-2614-46a3-9d9e-2d53c8e173a3\",\"type\":\"Selection\"},\"selection_policy\":{\"id\":\"deaced24-ceca-4ed5-8925-904ac7850388\",\"type\":\"UnionRenderers\"}},\"id\":\"f39b3a29-5a5c-4e16-ba01-48bf02fb3353\",\"type\":\"ColumnDataSource\"},{\"attributes\":{\"line_color\":\"#4daf4a\",\"line_width\":1.5,\"x\":{\"field\":\"x\"},\"y\":{\"field\":\"y\"}},\"id\":\"3ccebfa5-fc03-43e3-afe6-5c70c03f04c7\",\"type\":\"Line\"},{\"attributes\":{\"source\":{\"id\":\"9884d42a-6519-41e9-b9ff-7187282a960e\",\"type\":\"ColumnDataSource\"}},\"id\":\"ceba5150-8071-4434-9504-fd1d30dada5c\",\"type\":\"CDSView\"},{\"attributes\":{\"source\":{\"id\":\"c4504018-cda8-42d6-b002-b8747747d330\",\"type\":\"ColumnDataSource\"}},\"id\":\"2f018d9e-bfa7-4300-a5d0-3fa454a69fe6\",\"type\":\"CDSView\"},{\"attributes\":{\"data_source\":{\"id\":\"9884d42a-6519-41e9-b9ff-7187282a960e\",\"type\":\"ColumnDataSource\"},\"glyph\":{\"id\":\"fb180169-0493-44b5-9280-d20b9e703282\",\"type\":\"Line\"},\"hover_glyph\":null,\"muted_glyph\":null,\"nonselection_glyph\":{\"id\":\"0174a8e9-2ae0-4ea1-9795-8e1a9c1fd655\",\"type\":\"Line\"},\"selection_glyph\":null,\"view\":{\"id\":\"ceba5150-8071-4434-9504-fd1d30dada5c\",\"type\":\"CDSView\"}},\"id\":\"c6cc60a5-7d59-4993-886f-03d4cbb7cf2d\",\"type\":\"GlyphRenderer\"},{\"attributes\":{\"source\":{\"id\":\"9566a366-deed-4c37-abc1-26706f84cc27\",\"type\":\"ColumnDataSource\"}},\"id\":\"b41a12ef-a69d-4bf7-aad0-37b944d7b37e\",\"type\":\"CDSView\"},{\"attributes\":{\"fill_alpha\":{\"value\":0.1},\"fill_color\":{\"value\":\"#1f77b4\"},\"line_alpha\":{\"value\":0.1},\"line_color\":{\"value\":\"#1f77b4\"},\"x\":{\"field\":\"x\"},\"y\":{\"field\":\"y\"}},\"id\":\"44013168-0bcc-49ae-876f-78e5203bfe81\",\"type\":\"Circle\"},{\"attributes\":{\"callback\":null,\"data\":{\"x\":{\"__ndarray__\":\"PZtVn6vTXEAOhGQBE/ZIQGHcDaK1ykNA0ZZzKa46P0AgKo2Y2ac4QEcDeAskoDNA2SPUDKmaL0A2Bwjm6LkpQHO9baZCFCVAi4hi8gY8IUC8fbFSnMYbQPDG3XsTrhVARFspXyucD0C858ByhJwBQDFL8ad8Xuw/RoYLL3cc9j9S9vErMZoFQGMvb2mQLQ1Ah5gBHZxWEkCC+GXVjKkWQBzk5DT6BxxAHk/LD1whIkDyID1FDtEmQEbu6eqO5SVAOhc1TvniIEBCS7JpAFoaQLdPfdbrLBVAY1aUt8g6EUCYvWw7bW0MQPs9sU6VbwdAza0QVmN5AkCZx1AEJ9H6P9MEm4QcJfM/cQIVhq8M7D/Duq/S9tLhP21Wv8qIqNA/c2bcUAhPwD//EzMtd4e7P3s/CN0ym5A/mbnA5bFmv78E1XHCpd+8vyagh6+2L5Q/xEMLFYv7sT9h19NnNxW1PyxsMTh9z7U/Gs8PP9l2tT+UulXx9Z60P9fSoahzkrM/YZnka8KCsj8vmOjBF4WxP91xvX+JfrA/lfFSXumErj81SSS4LoirP+VMv7YRXqg/EueXd4t2pT8Uwn/HqwSjP9X6KhJ2/qA/6eUpC1ynnj/XvsJ6irmbP/PdhWQDFJk/Uy4Q4bi8lj8wUM4nXcCUP1FHSw5tOpM/wezdoG9rkj8WOQwyPtaSPw2rjAfaa5U/1NX8fIQvmj/NMBEW5TeeP0tDuMLuTZ0/kd60PLY1lz8QOpfLDj2QP3oM8XCECoc/Bkz3KTS4gj8IhwPOfleEP+t+7Rfuh7Q/\",\"dtype\":\"float64\",\"shape\":[75]},\"y\":{\"__ndarray__\":\"GhExyth1ND/Sv8nbtpRIP2vylNV0PVE/aTum7souWD/At0SJ8fVgPw3Iuahxymc/MSNhhJWvcD/bTfBN02d3P2zb5nxnaoA/CD5h5MAGhz8NmeH1TyaQP+zrCsc9p5Y/LbKd76fGnz/bLW5ISEmmPww9YvTcQq8/JV2OstnstT8Er5Y7M8G+P0c+r3jqkcU/5h99k6ZBzj88bCIzFzjVP4enV8oyxN0//yH99nXg5D8qOpLLf0jtP5kqGJXUifQ/c9cS8kHP/D+/DpwzojQEQIEmwoanVwxA4lgXt9HgE0BSSZ2AJuIbQAMJih9jjiNA5q4l5INuK0AwTKYKRj0zQNv5fmq8/DpAaCJseHrtQkB/+zpwzoxKQM3MzMzMeFJAZmZmZmZqWEAAAAAAAFxeQM3MzMzMJmJAmpmZmZkfZUBmZmZmZhhoQDMzMzMzEWtAAAAAAAAKbkBmZmZmZoFwQM3MzMzM/XFAMzMzMzN6c0CamZmZmfZ0QAAAAAAAc3ZAZmZmZmbvd0DNzMzMzGt5QDMzMzMz6HpAmpmZmZlkfEAAAAAAAOF9QGZmZmZmXX9AZmZmZuZsgECamZmZGSuBQM3MzMxM6YFAAAAAAICngkAzMzMzs2WDQGZmZmbmI4RAmpmZmRnihEDNzMzMTKCFQAAAAACAXoZAMzMzM7Mch0BmZmZm5tqHQJqZmZkZmYhAzczMzExXiUAAAAAAgBWKQDMzMzOz04pAZmZmZuaRi0CamZmZGVCMQM3MzMxMDo1AAAAAAIDMjUAzMzMzs4qOQGZmZmbmSI9A\",\"dtype\":\"float64\",\"shape\":[75]}},\"selected\":{\"id\":\"aae6b337-29c2-463d-8cf9-d3a043ddecae\",\"type\":\"Selection\"},\"selection_policy\":{\"id\":\"ebd41fc9-c58c-4702-ac4d-006b0f2b7427\",\"type\":\"UnionRenderers\"}},\"id\":\"10d27107-1850-463e-a466-232dee2f4c59\",\"type\":\"ColumnDataSource\"},{\"attributes\":{\"line_alpha\":0.1,\"line_color\":\"#1f77b4\",\"line_width\":8,\"x\":{\"field\":\"x\"},\"y\":{\"field\":\"y\"}},\"id\":\"89ed81ca-4fc0-421a-9421-8b31dcbd26b4\",\"type\":\"Line\"},{\"attributes\":{\"label\":{\"value\":\"WGT igg=10 - CRD\"},\"renderers\":[{\"id\":\"fadcbba5-58a7-4be5-bdc7-7d5f0fa3ff21\",\"type\":\"GlyphRenderer\"}]},\"id\":\"26527e92-8d5a-47ad-81f4-8cd239616a01\",\"type\":\"LegendItem\"},{\"attributes\":{\"fill_alpha\":{\"value\":0.7},\"fill_color\":{\"value\":\"#4daf4a\"},\"line_alpha\":{\"value\":0.7},\"line_color\":{\"value\":\"#4daf4a\"},\"x\":{\"field\":\"x\"},\"y\":{\"field\":\"y\"}},\"id\":\"b76685f1-0d67-4d03-be1e-51e1f7bff6a8\",\"type\":\"Circle\"},{\"attributes\":{\"data_source\":{\"id\":\"10d27107-1850-463e-a466-232dee2f4c59\",\"type\":\"ColumnDataSource\"},\"glyph\":{\"id\":\"b76685f1-0d67-4d03-be1e-51e1f7bff6a8\",\"type\":\"Circle\"},\"hover_glyph\":null,\"muted_glyph\":null,\"nonselection_glyph\":{\"id\":\"41369e25-c9cb-4c7c-a4f3-ad060f7f79eb\",\"type\":\"Circle\"},\"selection_glyph\":null,\"view\":{\"id\":\"56c2cab2-227e-4a2f-8800-2aeb472063d9\",\"type\":\"CDSView\"}},\"id\":\"43b437cf-46fe-4cb3-9a2f-362986d94431\",\"type\":\"GlyphRenderer\"},{\"attributes\":{},\"id\":\"9b2f648c-5f2d-4135-958d-c26f1fc063f6\",\"type\":\"BasicTickFormatter\"},{\"attributes\":{\"bottom_units\":\"screen\",\"fill_alpha\":{\"value\":0.5},\"fill_color\":{\"value\":\"lightgrey\"},\"left_units\":\"screen\",\"level\":\"overlay\",\"line_alpha\":{\"value\":1.0},\"line_color\":{\"value\":\"black\"},\"line_dash\":[4,4],\"line_width\":{\"value\":2},\"plot\":null,\"render_mode\":\"css\",\"right_units\":\"screen\",\"top_units\":\"screen\"},\"id\":\"fa7a888b-c074-49b4-9149-4549773b0662\",\"type\":\"BoxAnnotation\"},{\"attributes\":{},\"id\":\"a357336b-b71b-4100-bb31-40f05761d41d\",\"type\":\"BasicTickFormatter\"},{\"attributes\":{\"callback\":null,\"data\":{\"x\":{\"__ndarray__\":\"qNB5jV2CRMCYvp6vWY4aQJSq7Sb4XiJA8kwvMZYRIUCM2sTJ/X4WQNDOoncqoP8/cGb0o+EU6r/4tS41Qj/+vxC45/nTJvi/0Kl1LAAX4r8AvotSnWnOP+B1s/XCk+Q/eC3XkdlP5D+INSlgltHUPzB5XoXvWL2/t9+Q/Hcz4L9MzLOSVnzlv+CswfuqnOO/wGmwX2YO0r+AhFUGH5TMPwjohTsXxuE/gNwuj5Bc1j+AN2vwvirWv/D256IhY+a/QG2P3nAfx7/wDc9c8R7cP7ADlyJUBNU/wA7aBkn6v7/geTcWFAa9v4B9dOrKZ9U/AJRTlnxH3z+Q5RNoZhzKPwDekEYFTqa/0DwdG8OUsT9ISxbegvjEP/BbAaaI46k/flDqpwzXrr8pw0TFMA6xv0I0JR/cGaa/DJZW6Cisnb/YOszy0NKIv5DLQ5wKlVg/ANk3BIKRW78ggm3bL1Nuv4Be4zqTJGK/AHy9kwBJOb8Avi8D1Qw3PwAdFKk94DK/oIRiw4TlYL8w+3M5dGZyvwDqR28q5Xy/CNzNNccXg7/kYh/ZZqeGv7inKrsA/oi/0gSorh4lir+uaNw2tEqKv2LyiRk6pom/3CJ6Y1KNiL+2IU1ckQ+Hv7N3NS89UIW/pNmNVYJ5g78hRWBWb6eBv5bjV6Rw2n+/HK70K7SrfL+O94DMEL95v+ihrpxaCXe/4OwCatl2dL/kNyjbbB5yv1CmUGRNL3C/IOa84IJVbb/8B21GweRqv4QOCsy/JGm/8OD9aUldaL+k1kBi19Bnv8BQYQf24V6/\",\"dtype\":\"float64\",\"shape\":[75]},\"y\":{\"__ndarray__\":\"GhExyth1ND/Sv8nbtpRIP2vylNV0PVE/aTum7souWD/At0SJ8fVgPw3Iuahxymc/MSNhhJWvcD/bTfBN02d3P2zb5nxnaoA/CD5h5MAGhz8NmeH1TyaQP+zrCsc9p5Y/LbKd76fGnz/bLW5ISEmmPww9YvTcQq8/JV2OstnstT8Er5Y7M8G+P0c+r3jqkcU/5h99k6ZBzj88bCIzFzjVP4enV8oyxN0//yH99nXg5D8qOpLLf0jtP5kqGJXUifQ/c9cS8kHP/D+/DpwzojQEQIEmwoanVwxA4lgXt9HgE0BSSZ2AJuIbQAMJih9jjiNA5q4l5INuK0AwTKYKRj0zQNv5fmq8/DpAaCJseHrtQkB/+zpwzoxKQM3MzMzMeFJAZmZmZmZqWEAAAAAAAFxeQM3MzMzMJmJAmpmZmZkfZUBmZmZmZhhoQDMzMzMzEWtAAAAAAAAKbkBmZmZmZoFwQM3MzMzM/XFAMzMzMzN6c0CamZmZmfZ0QAAAAAAAc3ZAZmZmZmbvd0DNzMzMzGt5QDMzMzMz6HpAmpmZmZlkfEAAAAAAAOF9QGZmZmZmXX9AZmZmZuZsgECamZmZGSuBQM3MzMxM6YFAAAAAAICngkAzMzMzs2WDQGZmZmbmI4RAmpmZmRnihEDNzMzMTKCFQAAAAACAXoZAMzMzM7Mch0BmZmZm5tqHQJqZmZkZmYhAzczMzExXiUAAAAAAgBWKQDMzMzOz04pAZmZmZuaRi0CamZmZGVCMQM3MzMxMDo1AAAAAAIDMjUAzMzMzs4qOQGZmZmbmSI9A\",\"dtype\":\"float64\",\"shape\":[75]}},\"selected\":{\"id\":\"0e64d91d-1375-4b66-b7a4-14d758088bad\",\"type\":\"Selection\"},\"selection_policy\":{\"id\":\"0444d93b-c4ab-4100-972c-04d417665c7c\",\"type\":\"UnionRenderers\"}},\"id\":\"6a8b6d3a-6cf5-46c4-bb7c-a40d1f5f154b\",\"type\":\"ColumnDataSource\"},{\"attributes\":{},\"id\":\"39330e19-a530-4a53-8a0a-f3458408ec76\",\"type\":\"Selection\"},{\"attributes\":{},\"id\":\"51ac64d3-c76e-4167-8daa-baad6e8c448e\",\"type\":\"LinearScale\"},{\"attributes\":{\"active_drag\":\"auto\",\"active_inspect\":\"auto\",\"active_scroll\":\"auto\",\"active_tap\":\"auto\",\"tools\":[{\"id\":\"3b96f17d-7099-4809-9a02-69dac3f036c0\",\"type\":\"PanTool\"},{\"id\":\"faa04f18-fc33-42ec-9ca0-361a8511b52f\",\"type\":\"WheelZoomTool\"},{\"id\":\"2961350a-772a-4fd3-b827-c3cf923fa7bc\",\"type\":\"BoxZoomTool\"},{\"id\":\"b3c55874-33b2-4295-b043-d3b26fb914c7\",\"type\":\"SaveTool\"},{\"id\":\"88ac15a3-60a5-4454-8536-23fda5ed248c\",\"type\":\"ResetTool\"},{\"id\":\"657a9a11-4f35-4ff0-8123-bbace6252b98\",\"type\":\"HelpTool\"}]},\"id\":\"07a58d2c-066b-48f8-9008-a0c273d89397\",\"type\":\"Toolbar\"},{\"attributes\":{\"callback\":null,\"data\":{\"x\":{\"__ndarray__\":\"PZtVn6vTXEAOhGQBE/ZIQGHcDaK1ykNA0ZZzKa46P0AgKo2Y2ac4QEcDeAskoDNA2SPUDKmaL0A2Bwjm6LkpQHO9baZCFCVAi4hi8gY8IUC8fbFSnMYbQPDG3XsTrhVARFspXyucD0C858ByhJwBQDFL8ad8Xuw/RoYLL3cc9j9S9vErMZoFQGMvb2mQLQ1Ah5gBHZxWEkCC+GXVjKkWQBzk5DT6BxxAHk/LD1whIkDyID1FDtEmQEbu6eqO5SVAOhc1TvniIEBCS7JpAFoaQLdPfdbrLBVAY1aUt8g6EUCYvWw7bW0MQPs9sU6VbwdAza0QVmN5AkCZx1AEJ9H6P9MEm4QcJfM/cQIVhq8M7D/Duq/S9tLhP21Wv8qIqNA/c2bcUAhPwD//EzMtd4e7P3s/CN0ym5A/mbnA5bFmv78E1XHCpd+8vyagh6+2L5Q/xEMLFYv7sT9h19NnNxW1PyxsMTh9z7U/Gs8PP9l2tT+UulXx9Z60P9fSoahzkrM/YZnka8KCsj8vmOjBF4WxP91xvX+JfrA/lfFSXumErj81SSS4LoirP+VMv7YRXqg/EueXd4t2pT8Uwn/HqwSjP9X6KhJ2/qA/6eUpC1ynnj/XvsJ6irmbP/PdhWQDFJk/Uy4Q4bi8lj8wUM4nXcCUP1FHSw5tOpM/wezdoG9rkj8WOQwyPtaSPw2rjAfaa5U/1NX8fIQvmj/NMBEW5TeeP0tDuMLuTZ0/kd60PLY1lz8QOpfLDj2QP3oM8XCECoc/Bkz3KTS4gj8IhwPOfleEP+t+7Rfuh7Q/\",\"dtype\":\"float64\",\"shape\":[75]},\"y\":{\"__ndarray__\":\"GhExyth1ND/Sv8nbtpRIP2vylNV0PVE/aTum7souWD/At0SJ8fVgPw3Iuahxymc/MSNhhJWvcD/bTfBN02d3P2zb5nxnaoA/CD5h5MAGhz8NmeH1TyaQP+zrCsc9p5Y/LbKd76fGnz/bLW5ISEmmPww9YvTcQq8/JV2OstnstT8Er5Y7M8G+P0c+r3jqkcU/5h99k6ZBzj88bCIzFzjVP4enV8oyxN0//yH99nXg5D8qOpLLf0jtP5kqGJXUifQ/c9cS8kHP/D+/DpwzojQEQIEmwoanVwxA4lgXt9HgE0BSSZ2AJuIbQAMJih9jjiNA5q4l5INuK0AwTKYKRj0zQNv5fmq8/DpAaCJseHrtQkB/+zpwzoxKQM3MzMzMeFJAZmZmZmZqWEAAAAAAAFxeQM3MzMzMJmJAmpmZmZkfZUBmZmZmZhhoQDMzMzMzEWtAAAAAAAAKbkBmZmZmZoFwQM3MzMzM/XFAMzMzMzN6c0CamZmZmfZ0QAAAAAAAc3ZAZmZmZmbvd0DNzMzMzGt5QDMzMzMz6HpAmpmZmZlkfEAAAAAAAOF9QGZmZmZmXX9AZmZmZuZsgECamZmZGSuBQM3MzMxM6YFAAAAAAICngkAzMzMzs2WDQGZmZmbmI4RAmpmZmRnihEDNzMzMTKCFQAAAAACAXoZAMzMzM7Mch0BmZmZm5tqHQJqZmZkZmYhAzczMzExXiUAAAAAAgBWKQDMzMzOz04pAZmZmZuaRi0CamZmZGVCMQM3MzMxMDo1AAAAAAIDMjUAzMzMzs4qOQGZmZmbmSI9A\",\"dtype\":\"float64\",\"shape\":[75]}},\"selected\":{\"id\":\"39330e19-a530-4a53-8a0a-f3458408ec76\",\"type\":\"Selection\"},\"selection_policy\":{\"id\":\"00a18181-425d-4289-895d-44b8aa12a90c\",\"type\":\"UnionRenderers\"}},\"id\":\"c4504018-cda8-42d6-b002-b8747747d330\",\"type\":\"ColumnDataSource\"},{\"attributes\":{\"line_alpha\":0.1,\"line_color\":\"#1f77b4\",\"line_width\":8,\"x\":{\"field\":\"x\"},\"y\":{\"field\":\"y\"}},\"id\":\"f657b96c-d26e-4e0f-bb31-97e2381d663c\",\"type\":\"Line\"},{\"attributes\":{},\"id\":\"1fec070a-1796-4b17-b70a-68c46cccad11\",\"type\":\"SaveTool\"},{\"attributes\":{\"children\":[{\"id\":\"6d1f137f-2ff4-449c-902b-7d3ae015b02f\",\"subtype\":\"Figure\",\"type\":\"Plot\"},{\"id\":\"f244816a-51e5-458e-bef1-3480a569916d\",\"subtype\":\"Figure\",\"type\":\"Plot\"},{\"id\":\"4c5d0687-504c-4b9c-878a-f7c1864c4cae\",\"subtype\":\"Figure\",\"type\":\"Plot\"}]},\"id\":\"b3d5f1ef-1b80-4d85-998e-fca15432d76a\",\"type\":\"Row\"},{\"attributes\":{\"data_source\":{\"id\":\"9566a366-deed-4c37-abc1-26706f84cc27\",\"type\":\"ColumnDataSource\"},\"glyph\":{\"id\":\"03100194-5a37-4dd3-97df-bc5874c65957\",\"type\":\"Circle\"},\"hover_glyph\":null,\"muted_glyph\":null,\"nonselection_glyph\":{\"id\":\"44013168-0bcc-49ae-876f-78e5203bfe81\",\"type\":\"Circle\"},\"selection_glyph\":null,\"view\":{\"id\":\"b41a12ef-a69d-4bf7-aad0-37b944d7b37e\",\"type\":\"CDSView\"}},\"id\":\"a2365d00-0928-4c73-baf7-41680bbf46fb\",\"type\":\"GlyphRenderer\"},{\"attributes\":{\"fill_alpha\":{\"value\":0.7},\"fill_color\":{\"value\":\"#4daf4a\"},\"line_alpha\":{\"value\":0.7},\"line_color\":{\"value\":\"#4daf4a\"},\"x\":{\"field\":\"x\"},\"y\":{\"field\":\"y\"}},\"id\":\"03100194-5a37-4dd3-97df-bc5874c65957\",\"type\":\"Circle\"},{\"attributes\":{\"callback\":null,\"data\":{\"x\":{\"__ndarray__\":\"6bKY2HySUkDhW1g33kdMQAZHyatzYkhApZ4FobzhQ0DDYP4KmUc+QDQw8rImmjVAct2U8lr5LUB3MGKfAPIlQHHGMCdoDyJA7i2b75YaIECs20U96bkcQKw1lNqLQBhAUZPP4RBYEkBtDsY+tzYEQAt8Rbdes+g/1SyGYXYF7D8/A0WHGzsAQCvEfqplRghA65EGt7U1EUCmpJjNLY4XQB2hVRy9QB5AAsZElEDUIkA2x7lNuB8mQNduu9BcfyRAhdm6inuGIEAhPH9/7xscQPK/phgxfRZAKO54k9+6EEDJAbuaPIULQKvN/6uOHApATSDb6FJiBkBLRFPRsxT+P+N9ZlqscvI/C6p46Uc/7j+VTTWKFxHnP+uBf9/55NM/p6TDTYoysT+sodzPjPKkPwkpQmGFmJu/ji/rD95ow79fXMvg//m/v9/cS1kHuZU/YGT6DEWNsT9Qa/jonSK0PzhRWp5YPrU/nhF8PpBdtT9S6ljGAra0P7q++GqTf7M/PIXJRZb7sT98WFF+sF6wP3rmkbFtYK0/k3rfkPe+qT98cNwBVd6lP/ei9IeRHqI/u8vbl4fanT/RT5Fz/eOYP3n8kBfPKZU/e9Rs2bJgkj/8LZzMwTGQPzNE1pnJ14w/AoOSbO//iT8/Wzz5StmHP9ecasqhh4Y/dILBKwWBhj9l9tf988yIPyYFwsAGU48/nBp8Is4RlT/UIkffSbCZP7cZpGkbQpk/zUGd4AWLkz8hMpNF7cCJP9mI7n1UwYA/lKfvnsNBeT++oubqkcZ8P6j5zz9mDLQ/\",\"dtype\":\"float64\",\"shape\":[75]},\"y\":{\"__ndarray__\":\"GhExyth1ND/Sv8nbtpRIP2vylNV0PVE/aTum7souWD/At0SJ8fVgPw3Iuahxymc/MSNhhJWvcD/bTfBN02d3P2zb5nxnaoA/CD5h5MAGhz8NmeH1TyaQP+zrCsc9p5Y/LbKd76fGnz/bLW5ISEmmPww9YvTcQq8/JV2OstnstT8Er5Y7M8G+P0c+r3jqkcU/5h99k6ZBzj88bCIzFzjVP4enV8oyxN0//yH99nXg5D8qOpLLf0jtP5kqGJXUifQ/c9cS8kHP/D+/DpwzojQEQIEmwoanVwxA4lgXt9HgE0BSSZ2AJuIbQAMJih9jjiNA5q4l5INuK0AwTKYKRj0zQNv5fmq8/DpAaCJseHrtQkB/+zpwzoxKQM3MzMzMeFJAZmZmZmZqWEAAAAAAAFxeQM3MzMzMJmJAmpmZmZkfZUBmZmZmZhhoQDMzMzMzEWtAAAAAAAAKbkBmZmZmZoFwQM3MzMzM/XFAMzMzMzN6c0CamZmZmfZ0QAAAAAAAc3ZAZmZmZmbvd0DNzMzMzGt5QDMzMzMz6HpAmpmZmZlkfEAAAAAAAOF9QGZmZmZmXX9AZmZmZuZsgECamZmZGSuBQM3MzMxM6YFAAAAAAICngkAzMzMzs2WDQGZmZmbmI4RAmpmZmRnihEDNzMzMTKCFQAAAAACAXoZAMzMzM7Mch0BmZmZm5tqHQJqZmZkZmYhAzczMzExXiUAAAAAAgBWKQDMzMzOz04pAZmZmZuaRi0CamZmZGVCMQM3MzMxMDo1AAAAAAIDMjUAzMzMzs4qOQGZmZmbmSI9A\",\"dtype\":\"float64\",\"shape\":[75]}},\"selected\":{\"id\":\"fdacc9f2-fa54-4679-8a6b-5a636e39adeb\",\"type\":\"Selection\"},\"selection_policy\":{\"id\":\"8b350209-25e4-4317-8ae2-70d812c0a7b3\",\"type\":\"UnionRenderers\"}},\"id\":\"655a1358-5358-4239-8d40-d84b84922560\",\"type\":\"ColumnDataSource\"},{\"attributes\":{},\"id\":\"c9b81d00-4c5d-4159-8884-7a463e89f0e3\",\"type\":\"HelpTool\"},{\"attributes\":{\"line_alpha\":0.1,\"line_color\":\"#1f77b4\",\"line_width\":1.5,\"x\":{\"field\":\"x\"},\"y\":{\"field\":\"y\"}},\"id\":\"0174a8e9-2ae0-4ea1-9795-8e1a9c1fd655\",\"type\":\"Line\"},{\"attributes\":{},\"id\":\"95e820d3-dd07-4039-a8bd-ba680b4e15f6\",\"type\":\"LogScale\"},{\"attributes\":{\"data_source\":{\"id\":\"6a8b6d3a-6cf5-46c4-bb7c-a40d1f5f154b\",\"type\":\"ColumnDataSource\"},\"glyph\":{\"id\":\"0326322d-8d39-4ebc-961c-51b281d9e250\",\"type\":\"Line\"},\"hover_glyph\":null,\"muted_glyph\":null,\"nonselection_glyph\":{\"id\":\"f657b96c-d26e-4e0f-bb31-97e2381d663c\",\"type\":\"Line\"},\"selection_glyph\":null,\"view\":{\"id\":\"a2f588b9-31e6-41a9-9075-38583e4e4b3d\",\"type\":\"CDSView\"}},\"id\":\"fadcbba5-58a7-4be5-bdc7-7d5f0fa3ff21\",\"type\":\"GlyphRenderer\"},{\"attributes\":{\"label\":{\"value\":\"CLIRAD\"},\"renderers\":[{\"id\":\"747e74d4-45d4-4218-b9eb-ad9c2966044c\",\"type\":\"GlyphRenderer\"}]},\"id\":\"cc9ac32a-c71d-4557-a63d-5db412191717\",\"type\":\"LegendItem\"},{\"attributes\":{},\"id\":\"aa5304ef-1158-44db-9c82-480c6f8b1914\",\"type\":\"ResetTool\"},{\"attributes\":{\"line_color\":\"#4daf4a\",\"line_width\":1.5,\"x\":{\"field\":\"x\"},\"y\":{\"field\":\"y\"}},\"id\":\"fb180169-0493-44b5-9280-d20b9e703282\",\"type\":\"Line\"},{\"attributes\":{},\"id\":\"820957f5-8bb4-4a40-92e6-502fef6c04f0\",\"type\":\"UnionRenderers\"},{\"attributes\":{\"children\":[{\"id\":\"b3d5f1ef-1b80-4d85-998e-fca15432d76a\",\"type\":\"Row\"}]},\"id\":\"02f80ab1-3162-4e26-bcf8-bdb486f2873b\",\"type\":\"Column\"},{\"attributes\":{\"source\":{\"id\":\"655a1358-5358-4239-8d40-d84b84922560\",\"type\":\"ColumnDataSource\"}},\"id\":\"f24a784d-8fab-4eb8-95fe-4703930e9a55\",\"type\":\"CDSView\"},{\"attributes\":{\"source\":{\"id\":\"10d27107-1850-463e-a466-232dee2f4c59\",\"type\":\"ColumnDataSource\"}},\"id\":\"56c2cab2-227e-4a2f-8800-2aeb472063d9\",\"type\":\"CDSView\"},{\"attributes\":{\"line_alpha\":0.3,\"line_color\":\"#984ea3\",\"line_width\":8,\"x\":{\"field\":\"x\"},\"y\":{\"field\":\"y\"}},\"id\":\"0326322d-8d39-4ebc-961c-51b281d9e250\",\"type\":\"Line\"},{\"attributes\":{\"line_alpha\":0.6,\"line_color\":\"#e41a1c\",\"line_dash\":[6],\"line_width\":5,\"x\":{\"field\":\"x\"},\"y\":{\"field\":\"y\"}},\"id\":\"e7c88f24-8242-4bd6-bfa0-c2ec02e0eeee\",\"type\":\"Line\"},{\"attributes\":{},\"id\":\"00a18181-425d-4289-895d-44b8aa12a90c\",\"type\":\"UnionRenderers\"},{\"attributes\":{\"line_alpha\":0.3,\"line_color\":\"#984ea3\",\"line_width\":8,\"x\":{\"field\":\"x\"},\"y\":{\"field\":\"y\"}},\"id\":\"85b983a1-a284-40d0-9b53-3cba999d16ba\",\"type\":\"Line\"},{\"attributes\":{},\"id\":\"1ab68216-e8ff-4ee0-a552-5792c280ed82\",\"type\":\"UnionRenderers\"},{\"attributes\":{\"above\":[{\"id\":\"625e2182-9c1a-4201-a124-8c5a6a7af67e\",\"type\":\"Legend\"}],\"below\":[{\"id\":\"fec2fdd7-8bd0-41d8-b85d-227e0e2baa58\",\"type\":\"LinearAxis\"}],\"left\":[{\"id\":\"b1a6edb0-aa3d-4295-8d62-ddce1a9a114c\",\"type\":\"LogAxis\"}],\"plot_height\":500,\"plot_width\":300,\"renderers\":[{\"id\":\"fec2fdd7-8bd0-41d8-b85d-227e0e2baa58\",\"type\":\"LinearAxis\"},{\"id\":\"b9a9e32e-6ffa-40ae-a3e0-6a4f5197948e\",\"type\":\"Grid\"},{\"id\":\"b1a6edb0-aa3d-4295-8d62-ddce1a9a114c\",\"type\":\"LogAxis\"},{\"id\":\"b47cd570-5ab5-4c30-93ca-550be858601e\",\"type\":\"Grid\"},{\"id\":\"9191b1c1-e76e-4c23-b3ef-50c86a30e02f\",\"type\":\"BoxAnnotation\"},{\"id\":\"31fa3d13-0545-4a2f-a73a-5ef5f328ae94\",\"type\":\"GlyphRenderer\"},{\"id\":\"fadcbba5-58a7-4be5-bdc7-7d5f0fa3ff21\",\"type\":\"GlyphRenderer\"},{\"id\":\"625e2182-9c1a-4201-a124-8c5a6a7af67e\",\"type\":\"Legend\"}],\"title\":{\"id\":\"cf7e1e16-7f45-4e53-b86b-03fbc34e1f44\",\"type\":\"Title\"},\"toolbar\":{\"id\":\"07a58d2c-066b-48f8-9008-a0c273d89397\",\"type\":\"Toolbar\"},\"toolbar_location\":null,\"x_range\":{\"id\":\"b04540a6-ae6a-4292-9bba-495a53643b39\",\"type\":\"Range1d\"},\"x_scale\":{\"id\":\"e4bcdcf3-3b4f-408c-a994-77eda577dbc9\",\"type\":\"LinearScale\"},\"y_range\":{\"id\":\"43acb259-737c-403d-83b9-622350dbb434\",\"type\":\"Range1d\"},\"y_scale\":{\"id\":\"3fe89d1c-5b3b-4225-8e51-643729907430\",\"type\":\"LogScale\"}},\"id\":\"4c5d0687-504c-4b9c-878a-f7c1864c4cae\",\"subtype\":\"Figure\",\"type\":\"Plot\"},{\"attributes\":{},\"id\":\"479b04c6-6978-4436-bbc7-af1cd462166a\",\"type\":\"Selection\"},{\"attributes\":{\"data_source\":{\"id\":\"655a1358-5358-4239-8d40-d84b84922560\",\"type\":\"ColumnDataSource\"},\"glyph\":{\"id\":\"85b983a1-a284-40d0-9b53-3cba999d16ba\",\"type\":\"Line\"},\"hover_glyph\":null,\"muted_glyph\":null,\"nonselection_glyph\":{\"id\":\"89ed81ca-4fc0-421a-9421-8b31dcbd26b4\",\"type\":\"Line\"},\"selection_glyph\":null,\"view\":{\"id\":\"f24a784d-8fab-4eb8-95fe-4703930e9a55\",\"type\":\"CDSView\"}},\"id\":\"b5205066-5b46-4aee-84ba-fb1b82183e00\",\"type\":\"GlyphRenderer\"},{\"attributes\":{\"label\":{\"value\":\"CLIRAD - CRD\"},\"renderers\":[{\"id\":\"31fa3d13-0545-4a2f-a73a-5ef5f328ae94\",\"type\":\"GlyphRenderer\"}]},\"id\":\"83efb06c-6086-4c1b-a0c8-87b99e3c19dd\",\"type\":\"LegendItem\"},{\"attributes\":{\"callback\":null,\"end\":0.6591748539999995,\"start\":-0.986855654},\"id\":\"b04540a6-ae6a-4292-9bba-495a53643b39\",\"type\":\"Range1d\"},{\"attributes\":{\"ticker\":null},\"id\":\"a16da512-3575-42cf-a834-70e7db82aef2\",\"type\":\"LogTickFormatter\"},{\"attributes\":{},\"id\":\"f1bddfe0-6642-4f75-9ba8-2d985be7bd19\",\"type\":\"LinearScale\"},{\"attributes\":{\"label\":{\"value\":\"CRD\"},\"renderers\":[{\"id\":\"43b437cf-46fe-4cb3-9a2f-362986d94431\",\"type\":\"GlyphRenderer\"},{\"id\":\"c6cc60a5-7d59-4993-886f-03d4cbb7cf2d\",\"type\":\"GlyphRenderer\"}]},\"id\":\"be57ed58-5154-4216-a8c7-e464c38b282b\",\"type\":\"LegendItem\"},{\"attributes\":{\"source\":{\"id\":\"6a8b6d3a-6cf5-46c4-bb7c-a40d1f5f154b\",\"type\":\"ColumnDataSource\"}},\"id\":\"a2f588b9-31e6-41a9-9075-38583e4e4b3d\",\"type\":\"CDSView\"},{\"attributes\":{},\"id\":\"e4bcdcf3-3b4f-408c-a994-77eda577dbc9\",\"type\":\"LinearScale\"},{\"attributes\":{},\"id\":\"3a8f40e3-c30b-46ec-a5ea-f590c61ac783\",\"type\":\"BasicTickFormatter\"},{\"attributes\":{\"plot\":null,\"text\":\"\"},\"id\":\"eee9dc74-e3de-4a33-8342-cc5cb216c9e8\",\"type\":\"Title\"},{\"attributes\":{\"label\":{\"value\":\"WGT igg=10\"},\"renderers\":[{\"id\":\"b5205066-5b46-4aee-84ba-fb1b82183e00\",\"type\":\"GlyphRenderer\"}]},\"id\":\"270e0c0d-367c-4529-92b9-74adf6088616\",\"type\":\"LegendItem\"},{\"attributes\":{\"callback\":null,\"end\":0.01,\"start\":1020},\"id\":\"43acb259-737c-403d-83b9-622350dbb434\",\"type\":\"Range1d\"},{\"attributes\":{\"plot\":{\"id\":\"4c5d0687-504c-4b9c-878a-f7c1864c4cae\",\"subtype\":\"Figure\",\"type\":\"Plot\"},\"ticker\":{\"id\":\"06a73d44-8db1-4118-b926-7ae66e34670d\",\"type\":\"BasicTicker\"}},\"id\":\"b9a9e32e-6ffa-40ae-a3e0-6a4f5197948e\",\"type\":\"Grid\"},{\"attributes\":{},\"id\":\"87ee785a-6012-4661-bd81-1038f76f98d6\",\"type\":\"UnionRenderers\"},{\"attributes\":{\"active_drag\":\"auto\",\"active_inspect\":\"auto\",\"active_scroll\":\"auto\",\"active_tap\":\"auto\",\"tools\":[{\"id\":\"7923cc8e-830a-4401-a9b9-6011231167de\",\"type\":\"PanTool\"},{\"id\":\"a4637fe5-2492-4fc4-86ba-3636ba18378a\",\"type\":\"WheelZoomTool\"},{\"id\":\"f7055700-3eca-44bb-b592-774c63ef301a\",\"type\":\"BoxZoomTool\"},{\"id\":\"4ca8abfb-dbd3-4824-aca6-003cdbc9574e\",\"type\":\"SaveTool\"},{\"id\":\"35d34bd9-b6b5-4f15-b8a0-196c6fe8fb1b\",\"type\":\"ResetTool\"},{\"id\":\"ae13cafb-0134-43a0-93aa-44cff479c9c2\",\"type\":\"HelpTool\"}]},\"id\":\"75260578-0d72-48d7-b98e-176365d764df\",\"type\":\"Toolbar\"},{\"attributes\":{\"items\":[{\"id\":\"83efb06c-6086-4c1b-a0c8-87b99e3c19dd\",\"type\":\"LegendItem\"},{\"id\":\"26527e92-8d5a-47ad-81f4-8cd239616a01\",\"type\":\"LegendItem\"}],\"label_text_font_size\":{\"value\":\"8pt\"},\"location\":\"top_center\",\"orientation\":\"horizontal\",\"plot\":{\"id\":\"4c5d0687-504c-4b9c-878a-f7c1864c4cae\",\"subtype\":\"Figure\",\"type\":\"Plot\"}},\"id\":\"625e2182-9c1a-4201-a124-8c5a6a7af67e\",\"type\":\"Legend\"},{\"attributes\":{},\"id\":\"0f9a8fc8-2757-4ea8-89ed-fea029661ca2\",\"type\":\"Selection\"},{\"attributes\":{\"plot\":null,\"text\":\"\"},\"id\":\"ea928499-6b67-4664-93a2-805ae4a80ef8\",\"type\":\"Title\"},{\"attributes\":{\"source\":{\"id\":\"2cc3549d-b9e9-489c-be43-d2f16135ede4\",\"type\":\"ColumnDataSource\"}},\"id\":\"12a93ef4-8e1d-4b0c-9637-52d8783663d8\",\"type\":\"CDSView\"},{\"attributes\":{},\"id\":\"3fe89d1c-5b3b-4225-8e51-643729907430\",\"type\":\"LogScale\"},{\"attributes\":{},\"id\":\"1f3137b9-3bad-4224-8b37-04e89c90dfdf\",\"type\":\"UnionRenderers\"},{\"attributes\":{\"axis_label\":\"cooling rate [K/day]\",\"formatter\":{\"id\":\"6027562d-a0eb-41de-b15c-43752c203d8b\",\"type\":\"BasicTickFormatter\"},\"plot\":{\"id\":\"4c5d0687-504c-4b9c-878a-f7c1864c4cae\",\"subtype\":\"Figure\",\"type\":\"Plot\"},\"ticker\":{\"id\":\"06a73d44-8db1-4118-b926-7ae66e34670d\",\"type\":\"BasicTicker\"}},\"id\":\"fec2fdd7-8bd0-41d8-b85d-227e0e2baa58\",\"type\":\"LinearAxis\"},{\"attributes\":{},\"id\":\"3d9a8205-2614-46a3-9d9e-2d53c8e173a3\",\"type\":\"Selection\"},{\"attributes\":{},\"id\":\"06a73d44-8db1-4118-b926-7ae66e34670d\",\"type\":\"BasicTicker\"},{\"attributes\":{},\"id\":\"deaced24-ceca-4ed5-8925-904ac7850388\",\"type\":\"UnionRenderers\"},{\"attributes\":{},\"id\":\"aae6b337-29c2-463d-8cf9-d3a043ddecae\",\"type\":\"Selection\"},{\"attributes\":{\"axis_label\":\"pressure [mb]\",\"formatter\":{\"id\":\"7c440d7b-89a1-4f32-97ff-d1cfa5674b62\",\"type\":\"LogTickFormatter\"},\"plot\":{\"id\":\"4c5d0687-504c-4b9c-878a-f7c1864c4cae\",\"subtype\":\"Figure\",\"type\":\"Plot\"},\"ticker\":{\"id\":\"019607b6-6c00-4b01-8997-23def73db982\",\"type\":\"LogTicker\"}},\"id\":\"b1a6edb0-aa3d-4295-8d62-ddce1a9a114c\",\"type\":\"LogAxis\"},{\"attributes\":{},\"id\":\"7189614f-e6b4-444a-a905-41a9d6ee3bea\",\"type\":\"Selection\"},{\"attributes\":{\"num_minor_ticks\":10},\"id\":\"019607b6-6c00-4b01-8997-23def73db982\",\"type\":\"LogTicker\"},{\"attributes\":{},\"id\":\"fdacc9f2-fa54-4679-8a6b-5a636e39adeb\",\"type\":\"Selection\"},{\"attributes\":{\"toolbar\":{\"id\":\"c78e34d4-e2b3-4804-b1fe-110b76d43ab8\",\"type\":\"ProxyToolbar\"},\"toolbar_location\":\"above\"},\"id\":\"8dc937b1-c61d-4e2d-b70b-be8e8dd13549\",\"type\":\"ToolbarBox\"},{\"attributes\":{\"dimension\":1,\"plot\":{\"id\":\"4c5d0687-504c-4b9c-878a-f7c1864c4cae\",\"subtype\":\"Figure\",\"type\":\"Plot\"},\"ticker\":{\"id\":\"019607b6-6c00-4b01-8997-23def73db982\",\"type\":\"LogTicker\"}},\"id\":\"b47cd570-5ab5-4c30-93ca-550be858601e\",\"type\":\"Grid\"},{\"attributes\":{\"above\":[{\"id\":\"6aeedbe4-93bd-4822-b8ca-3604e8ab96c3\",\"type\":\"Legend\"}],\"below\":[{\"id\":\"b3059f35-35fd-4446-8ae6-ea6805bb7f38\",\"type\":\"LinearAxis\"}],\"left\":[{\"id\":\"129e8f62-0415-49f3-bcc6-3072c2a955fc\",\"type\":\"LogAxis\"}],\"plot_height\":500,\"plot_width\":300,\"renderers\":[{\"id\":\"b3059f35-35fd-4446-8ae6-ea6805bb7f38\",\"type\":\"LinearAxis\"},{\"id\":\"ccda0cf8-0f97-40da-9665-923bd2a06411\",\"type\":\"Grid\"},{\"id\":\"129e8f62-0415-49f3-bcc6-3072c2a955fc\",\"type\":\"LogAxis\"},{\"id\":\"503959a9-fb8a-442a-b202-84fa27e409a2\",\"type\":\"Grid\"},{\"id\":\"fa7a888b-c074-49b4-9149-4549773b0662\",\"type\":\"BoxAnnotation\"},{\"id\":\"747e74d4-45d4-4218-b9eb-ad9c2966044c\",\"type\":\"GlyphRenderer\"},{\"id\":\"43b437cf-46fe-4cb3-9a2f-362986d94431\",\"type\":\"GlyphRenderer\"},{\"id\":\"c6cc60a5-7d59-4993-886f-03d4cbb7cf2d\",\"type\":\"GlyphRenderer\"},{\"id\":\"b5205066-5b46-4aee-84ba-fb1b82183e00\",\"type\":\"GlyphRenderer\"},{\"id\":\"6aeedbe4-93bd-4822-b8ca-3604e8ab96c3\",\"type\":\"Legend\"}],\"title\":{\"id\":\"ea928499-6b67-4664-93a2-805ae4a80ef8\",\"type\":\"Title\"},\"toolbar\":{\"id\":\"0fafa3fe-7486-4b16-a43a-f80c28126c85\",\"type\":\"Toolbar\"},\"toolbar_location\":null,\"x_range\":{\"id\":\"a20f8ad9-5813-47ea-88db-ff04f296e2b4\",\"type\":\"Range1d\"},\"x_scale\":{\"id\":\"62664708-f099-4b9d-bd7c-dc2290de4cf5\",\"type\":\"LinearScale\"},\"y_range\":{\"id\":\"10a62821-d012-4d54-aef7-907ab5afa312\",\"type\":\"Range1d\"},\"y_scale\":{\"id\":\"95e820d3-dd07-4039-a8bd-ba680b4e15f6\",\"type\":\"LogScale\"}},\"id\":\"f244816a-51e5-458e-bef1-3480a569916d\",\"subtype\":\"Figure\",\"type\":\"Plot\"},{\"attributes\":{},\"id\":\"6027562d-a0eb-41de-b15c-43752c203d8b\",\"type\":\"BasicTickFormatter\"},{\"attributes\":{\"line_alpha\":0.1,\"line_color\":\"#1f77b4\",\"line_dash\":[6],\"line_width\":5,\"x\":{\"field\":\"x\"},\"y\":{\"field\":\"y\"}},\"id\":\"ba0d0454-c021-48ad-bb88-c20091c6eec5\",\"type\":\"Line\"},{\"attributes\":{\"plot\":null,\"text\":\"\"},\"id\":\"cf7e1e16-7f45-4e53-b86b-03fbc34e1f44\",\"type\":\"Title\"},{\"attributes\":{\"source\":{\"id\":\"886e72a5-6e71-4946-bf28-2080bcd20479\",\"type\":\"ColumnDataSource\"}},\"id\":\"49c353c2-9fdc-41a9-a772-09f903c8a5bf\",\"type\":\"CDSView\"},{\"attributes\":{},\"id\":\"8b350209-25e4-4317-8ae2-70d812c0a7b3\",\"type\":\"UnionRenderers\"},{\"attributes\":{\"bottom_units\":\"screen\",\"fill_alpha\":{\"value\":0.5},\"fill_color\":{\"value\":\"lightgrey\"},\"left_units\":\"screen\",\"level\":\"overlay\",\"line_alpha\":{\"value\":1.0},\"line_color\":{\"value\":\"black\"},\"line_dash\":[4,4],\"line_width\":{\"value\":2},\"plot\":null,\"render_mode\":\"css\",\"right_units\":\"screen\",\"top_units\":\"screen\"},\"id\":\"9191b1c1-e76e-4c23-b3ef-50c86a30e02f\",\"type\":\"BoxAnnotation\"},{\"attributes\":{\"ticker\":null},\"id\":\"7c440d7b-89a1-4f32-97ff-d1cfa5674b62\",\"type\":\"LogTickFormatter\"},{\"attributes\":{},\"id\":\"3b96f17d-7099-4809-9a02-69dac3f036c0\",\"type\":\"PanTool\"},{\"attributes\":{},\"id\":\"a5e4881d-ff9b-481b-bcbd-e1a277dc0088\",\"type\":\"UnionRenderers\"},{\"attributes\":{},\"id\":\"faa04f18-fc33-42ec-9ca0-361a8511b52f\",\"type\":\"WheelZoomTool\"},{\"attributes\":{\"callback\":null,\"data\":{\"x\":{\"__ndarray__\":\"dCSX/5BeNMCY2EP7WLEaQDCQEru2tw5AQCl2NA712z/AHoXrUfj/v8gUcxB0lATAYETbMXWX/b9QIjSCjevrvwCta7Qc6Nu/QJ1Y8VeS378oG2pvS//ovwhUpGcfEO+/oKut2F+26r9IoXYJmArav7D76FBdK6s/gBdKgWBp0j/gFar2RDLTP/ApRHaUOco/ACegibDhrb8QC41xD9PSv4AseeFzzMu/AHJYdbHEsD8Avo+jObKSP8BRK0zfa9i/ALzBYbPt2r8A8EYwH1qdv+D+yBkvgss/gCSjuQSWrj8ApzSs87mcP0B1fdWA96w/AKBFAIEYpr+AK9Q/Laulv1C7LIHvkbo/+I8C+jNysj/gCNZhGsCiv9DdhM6tCJG/rPE2wuQ+pj9KTz9FYVmnP5Wcnm3xzZM/EOcyuUGCfL84ZCT3S/aVvx4boDz8UZi/Ooeh8R5Jkr8oZkYKKH6Lv8io8ZPpHoW/mD0xNJwHg79AIyBF7gB3v2A+gh0qhm6/QITXON+rXb8AYpayFuMvvwDEoPijO0c/gJYrTHeIM7+ASeF3XB85vwBCG0GpRFm/UA7uuvaGZL+QmumqtTptv7Sw7TsmVXK/NJiiNlMcdb+wiKhcvZd2v1DnrBePx3a/9BMCqplkdb+0UrhTd7t3v6wfVA+8TXS/tHEx96pEcr9wx4BeS9dyv6jehXMuQW2/MO/ms4Asa7/gb0T8ZSVtv2AjmQ3mOmO/EAb4fR70Y7/oxFAUCSJiv9Dp+m4MG1u/QrEBvgdiY7/Qmc/ZxLldv0CKqu2TlFW/\",\"dtype\":\"float64\",\"shape\":[75]},\"y\":{\"__ndarray__\":\"GhExyth1ND/Sv8nbtpRIP2vylNV0PVE/aTum7souWD/At0SJ8fVgPw3Iuahxymc/MSNhhJWvcD/bTfBN02d3P2zb5nxnaoA/CD5h5MAGhz8NmeH1TyaQP+zrCsc9p5Y/LbKd76fGnz/bLW5ISEmmPww9YvTcQq8/JV2OstnstT8Er5Y7M8G+P0c+r3jqkcU/5h99k6ZBzj88bCIzFzjVP4enV8oyxN0//yH99nXg5D8qOpLLf0jtP5kqGJXUifQ/c9cS8kHP/D+/DpwzojQEQIEmwoanVwxA4lgXt9HgE0BSSZ2AJuIbQAMJih9jjiNA5q4l5INuK0AwTKYKRj0zQNv5fmq8/DpAaCJseHrtQkB/+zpwzoxKQM3MzMzMeFJAZmZmZmZqWEAAAAAAAFxeQM3MzMzMJmJAmpmZmZkfZUBmZmZmZhhoQDMzMzMzEWtAAAAAAAAKbkBmZmZmZoFwQM3MzMzM/XFAMzMzMzN6c0CamZmZmfZ0QAAAAAAAc3ZAZmZmZmbvd0DNzMzMzGt5QDMzMzMz6HpAmpmZmZlkfEAAAAAAAOF9QGZmZmZmXX9AZmZmZuZsgECamZmZGSuBQM3MzMxM6YFAAAAAAICngkAzMzMzs2WDQGZmZmbmI4RAmpmZmRnihEDNzMzMTKCFQAAAAACAXoZAMzMzM7Mch0BmZmZm5tqHQJqZmZkZmYhAzczMzExXiUAAAAAAgBWKQDMzMzOz04pAZmZmZuaRi0CamZmZGVCMQM3MzMxMDo1AAAAAAIDMjUAzMzMzs4qOQGZmZmbmSI9A\",\"dtype\":\"float64\",\"shape\":[75]}},\"selected\":{\"id\":\"a47759cc-60c0-44cc-a6ae-30377a9c2e15\",\"type\":\"Selection\"},\"selection_policy\":{\"id\":\"a5e4881d-ff9b-481b-bcbd-e1a277dc0088\",\"type\":\"UnionRenderers\"}},\"id\":\"886e72a5-6e71-4946-bf28-2080bcd20479\",\"type\":\"ColumnDataSource\"},{\"attributes\":{\"overlay\":{\"id\":\"9191b1c1-e76e-4c23-b3ef-50c86a30e02f\",\"type\":\"BoxAnnotation\"}},\"id\":\"2961350a-772a-4fd3-b827-c3cf923fa7bc\",\"type\":\"BoxZoomTool\"},{\"attributes\":{},\"id\":\"a47759cc-60c0-44cc-a6ae-30377a9c2e15\",\"type\":\"Selection\"},{\"attributes\":{},\"id\":\"b3c55874-33b2-4295-b043-d3b26fb914c7\",\"type\":\"SaveTool\"},{\"attributes\":{},\"id\":\"0444d93b-c4ab-4100-972c-04d417665c7c\",\"type\":\"UnionRenderers\"},{\"attributes\":{},\"id\":\"88ac15a3-60a5-4454-8536-23fda5ed248c\",\"type\":\"ResetTool\"},{\"attributes\":{\"line_alpha\":0.1,\"line_color\":\"#1f77b4\",\"line_dash\":[6],\"line_width\":5,\"x\":{\"field\":\"x\"},\"y\":{\"field\":\"y\"}},\"id\":\"0629fc71-f13d-4c96-bad0-b638154cbf51\",\"type\":\"Line\"},{\"attributes\":{\"tools\":[{\"id\":\"7923cc8e-830a-4401-a9b9-6011231167de\",\"type\":\"PanTool\"},{\"id\":\"a4637fe5-2492-4fc4-86ba-3636ba18378a\",\"type\":\"WheelZoomTool\"},{\"id\":\"f7055700-3eca-44bb-b592-774c63ef301a\",\"type\":\"BoxZoomTool\"},{\"id\":\"4ca8abfb-dbd3-4824-aca6-003cdbc9574e\",\"type\":\"SaveTool\"},{\"id\":\"35d34bd9-b6b5-4f15-b8a0-196c6fe8fb1b\",\"type\":\"ResetTool\"},{\"id\":\"ae13cafb-0134-43a0-93aa-44cff479c9c2\",\"type\":\"HelpTool\"},{\"id\":\"995b50a4-7284-42a7-97ba-f125744a2b9a\",\"type\":\"PanTool\"},{\"id\":\"1aa03a2c-8ac2-4acc-a7b1-4c277aaed5e2\",\"type\":\"WheelZoomTool\"},{\"id\":\"493af12c-cd05-46d1-abfc-1a43fa91861d\",\"type\":\"BoxZoomTool\"},{\"id\":\"1fec070a-1796-4b17-b70a-68c46cccad11\",\"type\":\"SaveTool\"},{\"id\":\"aa5304ef-1158-44db-9c82-480c6f8b1914\",\"type\":\"ResetTool\"},{\"id\":\"c9b81d00-4c5d-4159-8884-7a463e89f0e3\",\"type\":\"HelpTool\"},{\"id\":\"3b96f17d-7099-4809-9a02-69dac3f036c0\",\"type\":\"PanTool\"},{\"id\":\"faa04f18-fc33-42ec-9ca0-361a8511b52f\",\"type\":\"WheelZoomTool\"},{\"id\":\"2961350a-772a-4fd3-b827-c3cf923fa7bc\",\"type\":\"BoxZoomTool\"},{\"id\":\"b3c55874-33b2-4295-b043-d3b26fb914c7\",\"type\":\"SaveTool\"},{\"id\":\"88ac15a3-60a5-4454-8536-23fda5ed248c\",\"type\":\"ResetTool\"},{\"id\":\"657a9a11-4f35-4ff0-8123-bbace6252b98\",\"type\":\"HelpTool\"}]},\"id\":\"c78e34d4-e2b3-4804-b1fe-110b76d43ab8\",\"type\":\"ProxyToolbar\"},{\"attributes\":{},\"id\":\"657a9a11-4f35-4ff0-8123-bbace6252b98\",\"type\":\"HelpTool\"},{\"attributes\":{\"label\":{\"value\":\"CRD\"},\"renderers\":[{\"id\":\"a2365d00-0928-4c73-baf7-41680bbf46fb\",\"type\":\"GlyphRenderer\"},{\"id\":\"4e1f6a78-4939-46c9-9eb3-04d7417615cd\",\"type\":\"GlyphRenderer\"}]},\"id\":\"ec107ab5-ce69-412e-84a3-c1852c61e53c\",\"type\":\"LegendItem\"},{\"attributes\":{},\"id\":\"0e64d91d-1375-4b66-b7a4-14d758088bad\",\"type\":\"Selection\"},{\"attributes\":{\"children\":[{\"id\":\"8dc937b1-c61d-4e2d-b70b-be8e8dd13549\",\"type\":\"ToolbarBox\"},{\"id\":\"02f80ab1-3162-4e26-bcf8-bdb486f2873b\",\"type\":\"Column\"}]},\"id\":\"3e0220f3-a30c-43d0-b39b-e650dd3ecd0d\",\"type\":\"Column\"},{\"attributes\":{\"line_alpha\":0.6,\"line_color\":\"#e41a1c\",\"line_dash\":[6],\"line_width\":5,\"x\":{\"field\":\"x\"},\"y\":{\"field\":\"y\"}},\"id\":\"d0fda722-9f71-45ab-a233-5e4efdcbb8e8\",\"type\":\"Line\"},{\"attributes\":{},\"id\":\"ebd41fc9-c58c-4702-ac4d-006b0f2b7427\",\"type\":\"UnionRenderers\"},{\"attributes\":{\"data_source\":{\"id\":\"2cc3549d-b9e9-489c-be43-d2f16135ede4\",\"type\":\"ColumnDataSource\"},\"glyph\":{\"id\":\"d0fda722-9f71-45ab-a233-5e4efdcbb8e8\",\"type\":\"Line\"},\"hover_glyph\":null,\"muted_glyph\":null,\"nonselection_glyph\":{\"id\":\"0629fc71-f13d-4c96-bad0-b638154cbf51\",\"type\":\"Line\"},\"selection_glyph\":null,\"view\":{\"id\":\"12a93ef4-8e1d-4b0c-9637-52d8783663d8\",\"type\":\"CDSView\"}},\"id\":\"747e74d4-45d4-4218-b9eb-ad9c2966044c\",\"type\":\"GlyphRenderer\"},{\"attributes\":{\"source\":{\"id\":\"f39b3a29-5a5c-4e16-ba01-48bf02fb3353\",\"type\":\"ColumnDataSource\"}},\"id\":\"5f530ea5-d431-4e65-9ec2-63bbd0100d78\",\"type\":\"CDSView\"},{\"attributes\":{},\"id\":\"cf45341e-80da-4809-8191-c4afdb3db58e\",\"type\":\"BasicTicker\"},{\"attributes\":{},\"id\":\"5bdec46e-541b-4b10-ab4f-f2e76091fc1e\",\"type\":\"BasicTicker\"},{\"attributes\":{\"bottom_units\":\"screen\",\"fill_alpha\":{\"value\":0.5},\"fill_color\":{\"value\":\"lightgrey\"},\"left_units\":\"screen\",\"level\":\"overlay\",\"line_alpha\":{\"value\":1.0},\"line_color\":{\"value\":\"black\"},\"line_dash\":[4,4],\"line_width\":{\"value\":2},\"plot\":null,\"render_mode\":\"css\",\"right_units\":\"screen\",\"top_units\":\"screen\"},\"id\":\"799b09da-b77c-4146-b1ce-0f2f5ef9176d\",\"type\":\"BoxAnnotation\"},{\"attributes\":{},\"id\":\"7923cc8e-830a-4401-a9b9-6011231167de\",\"type\":\"PanTool\"},{\"attributes\":{},\"id\":\"a4637fe5-2492-4fc4-86ba-3636ba18378a\",\"type\":\"WheelZoomTool\"},{\"attributes\":{\"axis_label\":\"cooling rate [K/day]\",\"formatter\":{\"id\":\"3a8f40e3-c30b-46ec-a5ea-f590c61ac783\",\"type\":\"BasicTickFormatter\"},\"plot\":{\"id\":\"6d1f137f-2ff4-449c-902b-7d3ae015b02f\",\"subtype\":\"Figure\",\"type\":\"Plot\"},\"ticker\":{\"id\":\"8e28552d-d3a9-41df-80bf-229488715d7f\",\"type\":\"BasicTicker\"}},\"id\":\"a79422d7-adcf-4224-9035-a9048de7f3d9\",\"type\":\"LinearAxis\"},{\"attributes\":{\"axis_label\":\"pressure [mb]\",\"formatter\":{\"id\":\"a16da512-3575-42cf-a834-70e7db82aef2\",\"type\":\"LogTickFormatter\"},\"plot\":{\"id\":\"f244816a-51e5-458e-bef1-3480a569916d\",\"subtype\":\"Figure\",\"type\":\"Plot\"},\"ticker\":{\"id\":\"714e65ba-c7ad-4cc1-9eff-8f6d0d5da37b\",\"type\":\"LogTicker\"}},\"id\":\"129e8f62-0415-49f3-bcc6-3072c2a955fc\",\"type\":\"LogAxis\"},{\"attributes\":{},\"id\":\"ae13cafb-0134-43a0-93aa-44cff479c9c2\",\"type\":\"HelpTool\"},{\"attributes\":{\"dimension\":1,\"plot\":{\"id\":\"6d1f137f-2ff4-449c-902b-7d3ae015b02f\",\"subtype\":\"Figure\",\"type\":\"Plot\"},\"ticker\":{\"id\":\"cf45341e-80da-4809-8191-c4afdb3db58e\",\"type\":\"BasicTicker\"}},\"id\":\"26c34c79-61a2-45fe-9dcb-3a12cfdd62ef\",\"type\":\"Grid\"},{\"attributes\":{\"above\":[{\"id\":\"d36feea4-23b4-4a4d-8e66-3517394d143b\",\"type\":\"Legend\"}],\"below\":[{\"id\":\"a79422d7-adcf-4224-9035-a9048de7f3d9\",\"type\":\"LinearAxis\"}],\"left\":[{\"id\":\"7471e602-c1a0-4a76-86df-212a7ebe956c\",\"type\":\"LinearAxis\"}],\"plot_height\":500,\"plot_width\":300,\"renderers\":[{\"id\":\"a79422d7-adcf-4224-9035-a9048de7f3d9\",\"type\":\"LinearAxis\"},{\"id\":\"6833b556-f8ff-4ccd-af74-6cec4b4d231d\",\"type\":\"Grid\"},{\"id\":\"7471e602-c1a0-4a76-86df-212a7ebe956c\",\"type\":\"LinearAxis\"},{\"id\":\"26c34c79-61a2-45fe-9dcb-3a12cfdd62ef\",\"type\":\"Grid\"},{\"id\":\"799b09da-b77c-4146-b1ce-0f2f5ef9176d\",\"type\":\"BoxAnnotation\"},{\"id\":\"e615976d-5feb-4020-9ca6-fd8eba2b05aa\",\"type\":\"GlyphRenderer\"},{\"id\":\"a2365d00-0928-4c73-baf7-41680bbf46fb\",\"type\":\"GlyphRenderer\"},{\"id\":\"4e1f6a78-4939-46c9-9eb3-04d7417615cd\",\"type\":\"GlyphRenderer\"},{\"id\":\"8d1a0631-3e51-4da1-a9d7-cfd700707137\",\"type\":\"GlyphRenderer\"},{\"id\":\"d36feea4-23b4-4a4d-8e66-3517394d143b\",\"type\":\"Legend\"}],\"title\":{\"id\":\"eee9dc74-e3de-4a33-8342-cc5cb216c9e8\",\"type\":\"Title\"},\"toolbar\":{\"id\":\"75260578-0d72-48d7-b98e-176365d764df\",\"type\":\"Toolbar\"},\"toolbar_location\":null,\"x_range\":{\"id\":\"fdcd9089-7d28-4544-b5d0-711b70e19904\",\"type\":\"Range1d\"},\"x_scale\":{\"id\":\"f1bddfe0-6642-4f75-9ba8-2d985be7bd19\",\"type\":\"LinearScale\"},\"y_range\":{\"id\":\"40602bb1-26a1-4d39-a076-6f1ce14bedb1\",\"type\":\"Range1d\"},\"y_scale\":{\"id\":\"51ac64d3-c76e-4167-8daa-baad6e8c448e\",\"type\":\"LinearScale\"}},\"id\":\"6d1f137f-2ff4-449c-902b-7d3ae015b02f\",\"subtype\":\"Figure\",\"type\":\"Plot\"},{\"attributes\":{\"active_drag\":\"auto\",\"active_inspect\":\"auto\",\"active_scroll\":\"auto\",\"active_tap\":\"auto\",\"tools\":[{\"id\":\"995b50a4-7284-42a7-97ba-f125744a2b9a\",\"type\":\"PanTool\"},{\"id\":\"1aa03a2c-8ac2-4acc-a7b1-4c277aaed5e2\",\"type\":\"WheelZoomTool\"},{\"id\":\"493af12c-cd05-46d1-abfc-1a43fa91861d\",\"type\":\"BoxZoomTool\"},{\"id\":\"1fec070a-1796-4b17-b70a-68c46cccad11\",\"type\":\"SaveTool\"},{\"id\":\"aa5304ef-1158-44db-9c82-480c6f8b1914\",\"type\":\"ResetTool\"},{\"id\":\"c9b81d00-4c5d-4159-8884-7a463e89f0e3\",\"type\":\"HelpTool\"}]},\"id\":\"0fafa3fe-7486-4b16-a43a-f80c28126c85\",\"type\":\"Toolbar\"},{\"attributes\":{\"overlay\":{\"id\":\"799b09da-b77c-4146-b1ce-0f2f5ef9176d\",\"type\":\"BoxAnnotation\"}},\"id\":\"f7055700-3eca-44bb-b592-774c63ef301a\",\"type\":\"BoxZoomTool\"},{\"attributes\":{},\"id\":\"35d34bd9-b6b5-4f15-b8a0-196c6fe8fb1b\",\"type\":\"ResetTool\"},{\"attributes\":{},\"id\":\"4ca8abfb-dbd3-4824-aca6-003cdbc9574e\",\"type\":\"SaveTool\"},{\"attributes\":{\"label\":{\"value\":\"CLIRAD\"},\"renderers\":[{\"id\":\"e615976d-5feb-4020-9ca6-fd8eba2b05aa\",\"type\":\"GlyphRenderer\"}]},\"id\":\"7208330c-55f5-48a6-ab09-e9377c622706\",\"type\":\"LegendItem\"},{\"attributes\":{\"items\":[{\"id\":\"7208330c-55f5-48a6-ab09-e9377c622706\",\"type\":\"LegendItem\"},{\"id\":\"ec107ab5-ce69-412e-84a3-c1852c61e53c\",\"type\":\"LegendItem\"},{\"id\":\"1c5481bf-1be9-4608-8e73-75e16c78076a\",\"type\":\"LegendItem\"}],\"label_text_font_size\":{\"value\":\"8pt\"},\"location\":\"top_center\",\"orientation\":\"horizontal\",\"plot\":{\"id\":\"6d1f137f-2ff4-449c-902b-7d3ae015b02f\",\"subtype\":\"Figure\",\"type\":\"Plot\"}},\"id\":\"d36feea4-23b4-4a4d-8e66-3517394d143b\",\"type\":\"Legend\"},{\"attributes\":{\"data_source\":{\"id\":\"f39b3a29-5a5c-4e16-ba01-48bf02fb3353\",\"type\":\"ColumnDataSource\"},\"glyph\":{\"id\":\"10129b66-5c58-49ef-885b-30bac556209a\",\"type\":\"Line\"},\"hover_glyph\":null,\"muted_glyph\":null,\"nonselection_glyph\":{\"id\":\"4a21a3bf-a6f7-469f-8bfb-ad3125634c0b\",\"type\":\"Line\"},\"selection_glyph\":null,\"view\":{\"id\":\"5f530ea5-d431-4e65-9ec2-63bbd0100d78\",\"type\":\"CDSView\"}},\"id\":\"8d1a0631-3e51-4da1-a9d7-cfd700707137\",\"type\":\"GlyphRenderer\"},{\"attributes\":{},\"id\":\"8e28552d-d3a9-41df-80bf-229488715d7f\",\"type\":\"BasicTicker\"},{\"attributes\":{\"callback\":null,\"data\":{\"x\":{\"__ndarray__\":\"PZtVn6vTXEAOhGQBE/ZIQGHcDaK1ykNA0ZZzKa46P0AgKo2Y2ac4QEcDeAskoDNA2SPUDKmaL0A2Bwjm6LkpQHO9baZCFCVAi4hi8gY8IUC8fbFSnMYbQPDG3XsTrhVARFspXyucD0C858ByhJwBQDFL8ad8Xuw/RoYLL3cc9j9S9vErMZoFQGMvb2mQLQ1Ah5gBHZxWEkCC+GXVjKkWQBzk5DT6BxxAHk/LD1whIkDyID1FDtEmQEbu6eqO5SVAOhc1TvniIEBCS7JpAFoaQLdPfdbrLBVAY1aUt8g6EUCYvWw7bW0MQPs9sU6VbwdAza0QVmN5AkCZx1AEJ9H6P9MEm4QcJfM/cQIVhq8M7D/Duq/S9tLhP21Wv8qIqNA/c2bcUAhPwD//EzMtd4e7P3s/CN0ym5A/mbnA5bFmv78E1XHCpd+8vyagh6+2L5Q/xEMLFYv7sT9h19NnNxW1PyxsMTh9z7U/Gs8PP9l2tT+UulXx9Z60P9fSoahzkrM/YZnka8KCsj8vmOjBF4WxP91xvX+JfrA/lfFSXumErj81SSS4LoirP+VMv7YRXqg/EueXd4t2pT8Uwn/HqwSjP9X6KhJ2/qA/6eUpC1ynnj/XvsJ6irmbP/PdhWQDFJk/Uy4Q4bi8lj8wUM4nXcCUP1FHSw5tOpM/wezdoG9rkj8WOQwyPtaSPw2rjAfaa5U/1NX8fIQvmj/NMBEW5TeeP0tDuMLuTZ0/kd60PLY1lz8QOpfLDj2QP3oM8XCECoc/Bkz3KTS4gj8IhwPOfleEP+t+7Rfuh7Q/\",\"dtype\":\"float64\",\"shape\":[75]},\"y\":{\"__ndarray__\":\"GhExyth1ND/Sv8nbtpRIP2vylNV0PVE/aTum7souWD/At0SJ8fVgPw3Iuahxymc/MSNhhJWvcD/bTfBN02d3P2zb5nxnaoA/CD5h5MAGhz8NmeH1TyaQP+zrCsc9p5Y/LbKd76fGnz/bLW5ISEmmPww9YvTcQq8/JV2OstnstT8Er5Y7M8G+P0c+r3jqkcU/5h99k6ZBzj88bCIzFzjVP4enV8oyxN0//yH99nXg5D8qOpLLf0jtP5kqGJXUifQ/c9cS8kHP/D+/DpwzojQEQIEmwoanVwxA4lgXt9HgE0BSSZ2AJuIbQAMJih9jjiNA5q4l5INuK0AwTKYKRj0zQNv5fmq8/DpAaCJseHrtQkB/+zpwzoxKQM3MzMzMeFJAZmZmZmZqWEAAAAAAAFxeQM3MzMzMJmJAmpmZmZkfZUBmZmZmZhhoQDMzMzMzEWtAAAAAAAAKbkBmZmZmZoFwQM3MzMzM/XFAMzMzMzN6c0CamZmZmfZ0QAAAAAAAc3ZAZmZmZmbvd0DNzMzMzGt5QDMzMzMz6HpAmpmZmZlkfEAAAAAAAOF9QGZmZmZmXX9AZmZmZuZsgECamZmZGSuBQM3MzMxM6YFAAAAAAICngkAzMzMzs2WDQGZmZmbmI4RAmpmZmRnihEDNzMzMTKCFQAAAAACAXoZAMzMzM7Mch0BmZmZm5tqHQJqZmZkZmYhAzczMzExXiUAAAAAAgBWKQDMzMzOz04pAZmZmZuaRi0CamZmZGVCMQM3MzMxMDo1AAAAAAIDMjUAzMzMzs4qOQGZmZmbmSI9A\",\"dtype\":\"float64\",\"shape\":[75]}},\"selected\":{\"id\":\"0f9a8fc8-2757-4ea8-89ed-fea029661ca2\",\"type\":\"Selection\"},\"selection_policy\":{\"id\":\"1ab68216-e8ff-4ee0-a552-5792c280ed82\",\"type\":\"UnionRenderers\"}},\"id\":\"9566a366-deed-4c37-abc1-26706f84cc27\",\"type\":\"ColumnDataSource\"},{\"attributes\":{\"callback\":null,\"end\":0.7295611622,\"start\":-0.16036254219999999},\"id\":\"fdcd9089-7d28-4544-b5d0-711b70e19904\",\"type\":\"Range1d\"},{\"attributes\":{\"data_source\":{\"id\":\"886e72a5-6e71-4946-bf28-2080bcd20479\",\"type\":\"ColumnDataSource\"},\"glyph\":{\"id\":\"e7c88f24-8242-4bd6-bfa0-c2ec02e0eeee\",\"type\":\"Line\"},\"hover_glyph\":null,\"muted_glyph\":null,\"nonselection_glyph\":{\"id\":\"ba0d0454-c021-48ad-bb88-c20091c6eec5\",\"type\":\"Line\"},\"selection_glyph\":null,\"view\":{\"id\":\"49c353c2-9fdc-41a9-a772-09f903c8a5bf\",\"type\":\"CDSView\"}},\"id\":\"31fa3d13-0545-4a2f-a73a-5ef5f328ae94\",\"type\":\"GlyphRenderer\"},{\"attributes\":{\"line_alpha\":0.1,\"line_color\":\"#1f77b4\",\"line_width\":8,\"x\":{\"field\":\"x\"},\"y\":{\"field\":\"y\"}},\"id\":\"4a21a3bf-a6f7-469f-8bfb-ad3125634c0b\",\"type\":\"Line\"},{\"attributes\":{\"source\":{\"id\":\"498f147f-c3c4-496a-9781-8027ae9f0394\",\"type\":\"ColumnDataSource\"}},\"id\":\"6d17622d-a3de-4516-a3fb-9e65ee9938ad\",\"type\":\"CDSView\"},{\"attributes\":{},\"id\":\"995b50a4-7284-42a7-97ba-f125744a2b9a\",\"type\":\"PanTool\"},{\"attributes\":{\"callback\":null,\"end\":11.542352078,\"start\":-0.267419878},\"id\":\"a20f8ad9-5813-47ea-88db-ff04f296e2b4\",\"type\":\"Range1d\"},{\"attributes\":{\"plot\":{\"id\":\"f244816a-51e5-458e-bef1-3480a569916d\",\"subtype\":\"Figure\",\"type\":\"Plot\"},\"ticker\":{\"id\":\"5bdec46e-541b-4b10-ab4f-f2e76091fc1e\",\"type\":\"BasicTicker\"}},\"id\":\"ccda0cf8-0f97-40da-9665-923bd2a06411\",\"type\":\"Grid\"},{\"attributes\":{\"items\":[{\"id\":\"cc9ac32a-c71d-4557-a63d-5db412191717\",\"type\":\"LegendItem\"},{\"id\":\"be57ed58-5154-4216-a8c7-e464c38b282b\",\"type\":\"LegendItem\"},{\"id\":\"270e0c0d-367c-4529-92b9-74adf6088616\",\"type\":\"LegendItem\"}],\"label_text_font_size\":{\"value\":\"8pt\"},\"location\":\"top_center\",\"orientation\":\"horizontal\",\"plot\":{\"id\":\"f244816a-51e5-458e-bef1-3480a569916d\",\"subtype\":\"Figure\",\"type\":\"Plot\"}},\"id\":\"6aeedbe4-93bd-4822-b8ca-3604e8ab96c3\",\"type\":\"Legend\"},{\"attributes\":{\"line_alpha\":0.6,\"line_color\":\"#e41a1c\",\"line_dash\":[6],\"line_width\":5,\"x\":{\"field\":\"x\"},\"y\":{\"field\":\"y\"}},\"id\":\"c34dc0dd-ac6d-4430-bb4b-73625e15b27c\",\"type\":\"Line\"},{\"attributes\":{\"dimension\":1,\"plot\":{\"id\":\"f244816a-51e5-458e-bef1-3480a569916d\",\"subtype\":\"Figure\",\"type\":\"Plot\"},\"ticker\":{\"id\":\"714e65ba-c7ad-4cc1-9eff-8f6d0d5da37b\",\"type\":\"LogTicker\"}},\"id\":\"503959a9-fb8a-442a-b202-84fa27e409a2\",\"type\":\"Grid\"},{\"attributes\":{\"plot\":{\"id\":\"6d1f137f-2ff4-449c-902b-7d3ae015b02f\",\"subtype\":\"Figure\",\"type\":\"Plot\"},\"ticker\":{\"id\":\"8e28552d-d3a9-41df-80bf-229488715d7f\",\"type\":\"BasicTicker\"}},\"id\":\"6833b556-f8ff-4ccd-af74-6cec4b4d231d\",\"type\":\"Grid\"},{\"attributes\":{\"callback\":null,\"end\":0.01,\"start\":1020},\"id\":\"10a62821-d012-4d54-aef7-907ab5afa312\",\"type\":\"Range1d\"},{\"attributes\":{\"axis_label\":\"pressure [mb]\",\"formatter\":{\"id\":\"9b2f648c-5f2d-4135-958d-c26f1fc063f6\",\"type\":\"BasicTickFormatter\"},\"plot\":{\"id\":\"6d1f137f-2ff4-449c-902b-7d3ae015b02f\",\"subtype\":\"Figure\",\"type\":\"Plot\"},\"ticker\":{\"id\":\"cf45341e-80da-4809-8191-c4afdb3db58e\",\"type\":\"BasicTicker\"}},\"id\":\"7471e602-c1a0-4a76-86df-212a7ebe956c\",\"type\":\"LinearAxis\"},{\"attributes\":{\"num_minor_ticks\":10},\"id\":\"714e65ba-c7ad-4cc1-9eff-8f6d0d5da37b\",\"type\":\"LogTicker\"},{\"attributes\":{\"callback\":null,\"data\":{\"x\":{\"__ndarray__\":\"INJvXwe8V0Ah/8wgPkxMQGQFvw0xtkVAdm9FYoKqP0A02NR5VKg2QK6gaYmVDTFATbuYZrrnK0ARxeQNMPsnQAtgysABNSRAocPXMnQ/IEBXOsTksqYYQG886Y4PzBFAXPD9aJPuCEAmJyTjYrb8P+za/3wyEe4/JgxeT8+2+j8OOcfKeQAIQAJy07Ap0Q5AOVjuu9gaEkDRJ03eW3wVQLga2ZWWKRtAAgC2cuVCIkDR6A5iZ9omQLiTiPAvIiVAWgkns4sLIEBSBIJKpjwaQK6XS0/9CBZArJwHwfR3EUDmJsUi4aYMQNAzB1Jz4wdATZcPUgEhAkA9JlKazSP6P4jQrXw7zvQ/cFRVBfZa7j81WpIs9abgPyARrtv7L88/3iJqgcHexT/SXennE5rDPwhuUyWSNKI/BfSpAGuXwL8Jdx1gnC7Bv9/rYTQWiXC/68NFsYbSqj+cCotmcqWxPxM3swWgK7M/Z6eJuOUVsz9guAMN5y6zP+TAtVdCnrI/UDsB7xIMsj/+TI82JnWxP2WzrscArbA/aJq6b9hdrj+ihjT/71WrP9Vytmzsk6c/LQbpCxwupD9rKNFsADGhP32JWpWiZ50/3D+BPUdgmT+rnJgjmxOWPx+kmp4fYpM/VqmPdpJjkT8Gd8Cl/qKNP8x+7BT8TYw/qCAjxom0iz90Dti01kCMPzjvGzm0w5E/7vd/ZvTJlj/RoohWOJOaP98eBQGS5po/z931bDK3lD/mQhpSm/GLP0CvEeMip4M/a7/tdGS/ez/Ok8kyRqCAP8LUNsibMbQ/\",\"dtype\":\"float64\",\"shape\":[75]},\"y\":{\"__ndarray__\":\"GhExyth1ND/Sv8nbtpRIP2vylNV0PVE/aTum7souWD/At0SJ8fVgPw3Iuahxymc/MSNhhJWvcD/bTfBN02d3P2zb5nxnaoA/CD5h5MAGhz8NmeH1TyaQP+zrCsc9p5Y/LbKd76fGnz/bLW5ISEmmPww9YvTcQq8/JV2OstnstT8Er5Y7M8G+P0c+r3jqkcU/5h99k6ZBzj88bCIzFzjVP4enV8oyxN0//yH99nXg5D8qOpLLf0jtP5kqGJXUifQ/c9cS8kHP/D+/DpwzojQEQIEmwoanVwxA4lgXt9HgE0BSSZ2AJuIbQAMJih9jjiNA5q4l5INuK0AwTKYKRj0zQNv5fmq8/DpAaCJseHrtQkB/+zpwzoxKQM3MzMzMeFJAZmZmZmZqWEAAAAAAAFxeQM3MzMzMJmJAmpmZmZkfZUBmZmZmZhhoQDMzMzMzEWtAAAAAAAAKbkBmZmZmZoFwQM3MzMzM/XFAMzMzMzN6c0CamZmZmfZ0QAAAAAAAc3ZAZmZmZmbvd0DNzMzMzGt5QDMzMzMz6HpAmpmZmZlkfEAAAAAAAOF9QGZmZmZmXX9AZmZmZuZsgECamZmZGSuBQM3MzMxM6YFAAAAAAICngkAzMzMzs2WDQGZmZmbmI4RAmpmZmRnihEDNzMzMTKCFQAAAAACAXoZAMzMzM7Mch0BmZmZm5tqHQJqZmZkZmYhAzczMzExXiUAAAAAAgBWKQDMzMzOz04pAZmZmZuaRi0CamZmZGVCMQM3MzMxMDo1AAAAAAIDMjUAzMzMzs4qOQGZmZmbmSI9A\",\"dtype\":\"float64\",\"shape\":[75]}},\"selected\":{\"id\":\"479b04c6-6978-4436-bbc7-af1cd462166a\",\"type\":\"Selection\"},\"selection_policy\":{\"id\":\"820957f5-8bb4-4a40-92e6-502fef6c04f0\",\"type\":\"UnionRenderers\"}},\"id\":\"498f147f-c3c4-496a-9781-8027ae9f0394\",\"type\":\"ColumnDataSource\"},{\"attributes\":{\"line_alpha\":0.1,\"line_color\":\"#1f77b4\",\"line_dash\":[6],\"line_width\":5,\"x\":{\"field\":\"x\"},\"y\":{\"field\":\"y\"}},\"id\":\"746ba06c-fca1-4e14-b91c-3b2a8431040f\",\"type\":\"Line\"},{\"attributes\":{\"axis_label\":\"cooling rate [K/day]\",\"formatter\":{\"id\":\"a357336b-b71b-4100-bb31-40f05761d41d\",\"type\":\"BasicTickFormatter\"},\"plot\":{\"id\":\"f244816a-51e5-458e-bef1-3480a569916d\",\"subtype\":\"Figure\",\"type\":\"Plot\"},\"ticker\":{\"id\":\"5bdec46e-541b-4b10-ab4f-f2e76091fc1e\",\"type\":\"BasicTicker\"}},\"id\":\"b3059f35-35fd-4446-8ae6-ea6805bb7f38\",\"type\":\"LinearAxis\"},{\"attributes\":{\"line_alpha\":0.3,\"line_color\":\"#984ea3\",\"line_width\":8,\"x\":{\"field\":\"x\"},\"y\":{\"field\":\"y\"}},\"id\":\"10129b66-5c58-49ef-885b-30bac556209a\",\"type\":\"Line\"},{\"attributes\":{},\"id\":\"1aa03a2c-8ac2-4acc-a7b1-4c277aaed5e2\",\"type\":\"WheelZoomTool\"},{\"attributes\":{\"data_source\":{\"id\":\"498f147f-c3c4-496a-9781-8027ae9f0394\",\"type\":\"ColumnDataSource\"},\"glyph\":{\"id\":\"c34dc0dd-ac6d-4430-bb4b-73625e15b27c\",\"type\":\"Line\"},\"hover_glyph\":null,\"muted_glyph\":null,\"nonselection_glyph\":{\"id\":\"746ba06c-fca1-4e14-b91c-3b2a8431040f\",\"type\":\"Line\"},\"selection_glyph\":null,\"view\":{\"id\":\"6d17622d-a3de-4516-a3fb-9e65ee9938ad\",\"type\":\"CDSView\"}},\"id\":\"e615976d-5feb-4020-9ca6-fd8eba2b05aa\",\"type\":\"GlyphRenderer\"},{\"attributes\":{\"callback\":null,\"data\":{\"x\":{\"__ndarray__\":\"INJvXwe8V0Ah/8wgPkxMQGQFvw0xtkVAdm9FYoKqP0A02NR5VKg2QK6gaYmVDTFATbuYZrrnK0ARxeQNMPsnQAtgysABNSRAocPXMnQ/IEBXOsTksqYYQG886Y4PzBFAXPD9aJPuCEAmJyTjYrb8P+za/3wyEe4/JgxeT8+2+j8OOcfKeQAIQAJy07Ap0Q5AOVjuu9gaEkDRJ03eW3wVQLga2ZWWKRtAAgC2cuVCIkDR6A5iZ9omQLiTiPAvIiVAWgkns4sLIEBSBIJKpjwaQK6XS0/9CBZArJwHwfR3EUDmJsUi4aYMQNAzB1Jz4wdATZcPUgEhAkA9JlKazSP6P4jQrXw7zvQ/cFRVBfZa7j81WpIs9abgPyARrtv7L88/3iJqgcHexT/SXennE5rDPwhuUyWSNKI/BfSpAGuXwL8Jdx1gnC7Bv9/rYTQWiXC/68NFsYbSqj+cCotmcqWxPxM3swWgK7M/Z6eJuOUVsz9guAMN5y6zP+TAtVdCnrI/UDsB7xIMsj/+TI82JnWxP2WzrscArbA/aJq6b9hdrj+ihjT/71WrP9Vytmzsk6c/LQbpCxwupD9rKNFsADGhP32JWpWiZ50/3D+BPUdgmT+rnJgjmxOWPx+kmp4fYpM/VqmPdpJjkT8Gd8Cl/qKNP8x+7BT8TYw/qCAjxom0iz90Dti01kCMPzjvGzm0w5E/7vd/ZvTJlj/RoohWOJOaP98eBQGS5po/z931bDK3lD/mQhpSm/GLP0CvEeMip4M/a7/tdGS/ez/Ok8kyRqCAP8LUNsibMbQ/\",\"dtype\":\"float64\",\"shape\":[75]},\"y\":{\"__ndarray__\":\"GhExyth1ND/Sv8nbtpRIP2vylNV0PVE/aTum7souWD/At0SJ8fVgPw3Iuahxymc/MSNhhJWvcD/bTfBN02d3P2zb5nxnaoA/CD5h5MAGhz8NmeH1TyaQP+zrCsc9p5Y/LbKd76fGnz/bLW5ISEmmPww9YvTcQq8/JV2OstnstT8Er5Y7M8G+P0c+r3jqkcU/5h99k6ZBzj88bCIzFzjVP4enV8oyxN0//yH99nXg5D8qOpLLf0jtP5kqGJXUifQ/c9cS8kHP/D+/DpwzojQEQIEmwoanVwxA4lgXt9HgE0BSSZ2AJuIbQAMJih9jjiNA5q4l5INuK0AwTKYKRj0zQNv5fmq8/DpAaCJseHrtQkB/+zpwzoxKQM3MzMzMeFJAZmZmZmZqWEAAAAAAAFxeQM3MzMzMJmJAmpmZmZkfZUBmZmZmZhhoQDMzMzMzEWtAAAAAAAAKbkBmZmZmZoFwQM3MzMzM/XFAMzMzMzN6c0CamZmZmfZ0QAAAAAAAc3ZAZmZmZmbvd0DNzMzMzGt5QDMzMzMz6HpAmpmZmZlkfEAAAAAAAOF9QGZmZmZmXX9AZmZmZuZsgECamZmZGSuBQM3MzMxM6YFAAAAAAICngkAzMzMzs2WDQGZmZmbmI4RAmpmZmRnihEDNzMzMTKCFQAAAAACAXoZAMzMzM7Mch0BmZmZm5tqHQJqZmZkZmYhAzczMzExXiUAAAAAAgBWKQDMzMzOz04pAZmZmZuaRi0CamZmZGVCMQM3MzMxMDo1AAAAAAIDMjUAzMzMzs4qOQGZmZmbmSI9A\",\"dtype\":\"float64\",\"shape\":[75]}},\"selected\":{\"id\":\"7189614f-e6b4-444a-a905-41a9d6ee3bea\",\"type\":\"Selection\"},\"selection_policy\":{\"id\":\"1f3137b9-3bad-4224-8b37-04e89c90dfdf\",\"type\":\"UnionRenderers\"}},\"id\":\"2cc3549d-b9e9-489c-be43-d2f16135ede4\",\"type\":\"ColumnDataSource\"}],\"root_ids\":[\"3e0220f3-a30c-43d0-b39b-e650dd3ecd0d\"]},\"title\":\"Bokeh Application\",\"version\":\"0.12.16\"}};\n",
       "  var render_items = [{\"docid\":\"f4d17163-f8a9-4a4b-a98e-9a62a2b84fa1\",\"elementid\":\"0f16bfb6-431e-4b67-a9ed-dc8c22ed361f\",\"modelid\":\"3e0220f3-a30c-43d0-b39b-e650dd3ecd0d\"}];\n",
       "  root.Bokeh.embed.embed_items_notebook(docs_json, render_items);\n",
       "\n",
       "  }\n",
       "  if (root.Bokeh !== undefined) {\n",
       "    embed_document(root);\n",
       "  } else {\n",
       "    var attempts = 0;\n",
       "    var timer = setInterval(function(root) {\n",
       "      if (root.Bokeh !== undefined) {\n",
       "        embed_document(root);\n",
       "        clearInterval(timer);\n",
       "      }\n",
       "      attempts++;\n",
       "      if (attempts > 100) {\n",
       "        console.log(\"Bokeh: ERROR: Unable to run BokehJS code because BokehJS library is missing\")\n",
       "        clearInterval(timer);\n",
       "      }\n",
       "    }, 10, root)\n",
       "  }\n",
       "})(window);"
      ],
      "application/vnd.bokehjs_exec.v0+json": ""
     },
     "metadata": {
      "application/vnd.bokehjs_exec.v0+json": {
       "id": "3e0220f3-a30c-43d0-b39b-e650dd3ecd0d"
      }
     },
     "output_type": "display_data"
    },
    {
     "data": {
      "text/markdown": [
       "--------------------------"
      ],
      "text/plain": [
       "<IPython.core.display.Markdown object>"
      ]
     },
     "metadata": {},
     "output_type": "display_data"
    }
   ],
   "source": [
    "ida = show_results(dlbl=data_lbl, dcli=data_cli, add_idanchor=True)\n",
    "show_href(idanchor=ida, df=LINKS, dlbl=data_lbl, dcli=data_cli)"
   ]
  },
  {
   "cell_type": "code",
   "execution_count": 387,
   "metadata": {},
   "outputs": [
    {
     "data": {
      "text/markdown": [
       "-----------------------------"
      ],
      "text/plain": [
       "<IPython.core.display.Markdown object>"
      ]
     },
     "metadata": {},
     "output_type": "display_data"
    },
    {
     "data": {
      "text/markdown": [
       "<a id=\"60122515550\"></a>"
      ],
      "text/plain": [
       "<IPython.core.display.Markdown object>"
      ]
     },
     "metadata": {},
     "output_type": "display_data"
    },
    {
     "data": {
      "text/markdown": [
       "[4] {'h2o': 'atmpro', 'co2': 0.0008} saw"
      ],
      "text/plain": [
       "<IPython.core.display.Markdown object>"
      ]
     },
     "metadata": {},
     "output_type": "display_data"
    },
    {
     "data": {
      "text/html": [
       "<div>\n",
       "<style scoped>\n",
       "    .dataframe tbody tr th:only-of-type {\n",
       "        vertical-align: middle;\n",
       "    }\n",
       "\n",
       "    .dataframe tbody tr th {\n",
       "        vertical-align: top;\n",
       "    }\n",
       "\n",
       "    .dataframe thead tr th {\n",
       "        text-align: left;\n",
       "    }\n",
       "</style>\n",
       "<table border=\"1\" class=\"dataframe\">\n",
       "  <thead>\n",
       "    <tr>\n",
       "      <th></th>\n",
       "      <th colspan=\"2\" halign=\"left\">Run parameters</th>\n",
       "      <th colspan=\"2\" halign=\"left\">Fit parameters</th>\n",
       "    </tr>\n",
       "    <tr>\n",
       "      <th></th>\n",
       "      <th>CLIRAD</th>\n",
       "      <th>LBLNEW</th>\n",
       "      <th>(co2, 3b)</th>\n",
       "      <th>(h2o, 3b)</th>\n",
       "    </tr>\n",
       "  </thead>\n",
       "  <tbody>\n",
       "    <tr>\n",
       "      <th>atmpro</th>\n",
       "      <td>saw</td>\n",
       "      <td>saw</td>\n",
       "      <td>mls</td>\n",
       "      <td>trp</td>\n",
       "    </tr>\n",
       "    <tr>\n",
       "      <th>band</th>\n",
       "      <td>[4]</td>\n",
       "      <td>3b</td>\n",
       "      <td>3b</td>\n",
       "      <td>3b</td>\n",
       "    </tr>\n",
       "    <tr>\n",
       "      <th>commitnumber</th>\n",
       "      <td>1013f91</td>\n",
       "      <td>a22ab94</td>\n",
       "      <td>a22ab94</td>\n",
       "      <td>a06b618</td>\n",
       "    </tr>\n",
       "    <tr>\n",
       "      <th>conc</th>\n",
       "      <td>-</td>\n",
       "      <td>-</td>\n",
       "      <td>0.0004</td>\n",
       "      <td>-</td>\n",
       "    </tr>\n",
       "    <tr>\n",
       "      <th>dv</th>\n",
       "      <td>-</td>\n",
       "      <td>0.001</td>\n",
       "      <td>0.001</td>\n",
       "      <td>0.001</td>\n",
       "    </tr>\n",
       "    <tr>\n",
       "      <th>klin</th>\n",
       "      <td>-</td>\n",
       "      <td>-</td>\n",
       "      <td>0</td>\n",
       "      <td>1e-24</td>\n",
       "    </tr>\n",
       "    <tr>\n",
       "      <th>molecule</th>\n",
       "      <td>{'h2o': 'atmpro', 'co2': 0.0008}</td>\n",
       "      <td>{'co2': 0.0008, 'h2o': 'atmpro'}</td>\n",
       "      <td>co2</td>\n",
       "      <td>h2o</td>\n",
       "    </tr>\n",
       "    <tr>\n",
       "      <th>ng_adju</th>\n",
       "      <td>-</td>\n",
       "      <td>-</td>\n",
       "      <td>[0, 0]</td>\n",
       "      <td>[0]</td>\n",
       "    </tr>\n",
       "    <tr>\n",
       "      <th>ng_refs</th>\n",
       "      <td>-</td>\n",
       "      <td>-</td>\n",
       "      <td>[5, 4]</td>\n",
       "      <td>[6]</td>\n",
       "    </tr>\n",
       "    <tr>\n",
       "      <th>nv</th>\n",
       "      <td>-</td>\n",
       "      <td>1000</td>\n",
       "      <td>1000</td>\n",
       "      <td>1000</td>\n",
       "    </tr>\n",
       "    <tr>\n",
       "      <th>option_compute_btable</th>\n",
       "      <td>-</td>\n",
       "      <td>-</td>\n",
       "      <td>1</td>\n",
       "      <td>0</td>\n",
       "    </tr>\n",
       "    <tr>\n",
       "      <th>option_compute_ktable</th>\n",
       "      <td>-</td>\n",
       "      <td>-</td>\n",
       "      <td>1</td>\n",
       "      <td>1</td>\n",
       "    </tr>\n",
       "    <tr>\n",
       "      <th>option_wgt_flux</th>\n",
       "      <td>-</td>\n",
       "      <td>-</td>\n",
       "      <td>1</td>\n",
       "      <td>1</td>\n",
       "    </tr>\n",
       "    <tr>\n",
       "      <th>option_wgt_k</th>\n",
       "      <td>-</td>\n",
       "      <td>-</td>\n",
       "      <td>1</td>\n",
       "      <td>1</td>\n",
       "    </tr>\n",
       "    <tr>\n",
       "      <th>ref_pts</th>\n",
       "      <td>-</td>\n",
       "      <td>-</td>\n",
       "      <td>[(1, 250), (10, 250)]</td>\n",
       "      <td>[(600, 250)]</td>\n",
       "    </tr>\n",
       "    <tr>\n",
       "      <th>tsfc</th>\n",
       "      <td>257</td>\n",
       "      <td>257</td>\n",
       "      <td>294</td>\n",
       "      <td>294</td>\n",
       "    </tr>\n",
       "    <tr>\n",
       "      <th>vmax</th>\n",
       "      <td>-</td>\n",
       "      <td>-</td>\n",
       "      <td>720</td>\n",
       "      <td>720</td>\n",
       "    </tr>\n",
       "    <tr>\n",
       "      <th>vmin</th>\n",
       "      <td>-</td>\n",
       "      <td>-</td>\n",
       "      <td>620</td>\n",
       "      <td>620</td>\n",
       "    </tr>\n",
       "    <tr>\n",
       "      <th>w_diffuse</th>\n",
       "      <td>-</td>\n",
       "      <td>-</td>\n",
       "      <td>[(1.66, 1.66, 1.66, 1.66, 1.66), (1.66, 1.66, 1.66, 1.66)]</td>\n",
       "      <td>[(1.66, 1.66, 1.66, 1.55, 1.5, 1.66)]</td>\n",
       "    </tr>\n",
       "    <tr>\n",
       "      <th>wgt</th>\n",
       "      <td>-</td>\n",
       "      <td>-</td>\n",
       "      <td>[(0, 0.5, 0.4, 0.6, 0.65), (0.7, 0.7, 0.55, 0.6)]</td>\n",
       "      <td>[(0.8, 0.8, 0.8, 0.6, 0.6, 0.9)]</td>\n",
       "    </tr>\n",
       "  </tbody>\n",
       "</table>\n",
       "</div>"
      ],
      "text/plain": [
       "                                         Run parameters  \\\n",
       "                                                 CLIRAD   \n",
       "atmpro                 saw                                \n",
       "band                   [4]                                \n",
       "commitnumber           1013f91                            \n",
       "conc                   -                                  \n",
       "dv                     -                                  \n",
       "klin                   -                                  \n",
       "molecule               {'h2o': 'atmpro', 'co2': 0.0008}   \n",
       "ng_adju                -                                  \n",
       "ng_refs                -                                  \n",
       "nv                     -                                  \n",
       "option_compute_btable  -                                  \n",
       "option_compute_ktable  -                                  \n",
       "option_wgt_flux        -                                  \n",
       "option_wgt_k           -                                  \n",
       "ref_pts                -                                  \n",
       "tsfc                   257                                \n",
       "vmax                   -                                  \n",
       "vmin                   -                                  \n",
       "w_diffuse              -                                  \n",
       "wgt                    -                                  \n",
       "\n",
       "                                                         \\\n",
       "                                                 LBLNEW   \n",
       "atmpro                 saw                                \n",
       "band                   3b                                 \n",
       "commitnumber           a22ab94                            \n",
       "conc                   -                                  \n",
       "dv                     0.001                              \n",
       "klin                   -                                  \n",
       "molecule               {'co2': 0.0008, 'h2o': 'atmpro'}   \n",
       "ng_adju                -                                  \n",
       "ng_refs                -                                  \n",
       "nv                     1000                               \n",
       "option_compute_btable  -                                  \n",
       "option_compute_ktable  -                                  \n",
       "option_wgt_flux        -                                  \n",
       "option_wgt_k           -                                  \n",
       "ref_pts                -                                  \n",
       "tsfc                   257                                \n",
       "vmax                   -                                  \n",
       "vmin                   -                                  \n",
       "w_diffuse              -                                  \n",
       "wgt                    -                                  \n",
       "\n",
       "                                                                   Fit parameters  \\\n",
       "                                                                        (co2, 3b)   \n",
       "atmpro                 mls                                                          \n",
       "band                   3b                                                           \n",
       "commitnumber           a22ab94                                                      \n",
       "conc                   0.0004                                                       \n",
       "dv                     0.001                                                        \n",
       "klin                   0                                                            \n",
       "molecule               co2                                                          \n",
       "ng_adju                [0, 0]                                                       \n",
       "ng_refs                [5, 4]                                                       \n",
       "nv                     1000                                                         \n",
       "option_compute_btable  1                                                            \n",
       "option_compute_ktable  1                                                            \n",
       "option_wgt_flux        1                                                            \n",
       "option_wgt_k           1                                                            \n",
       "ref_pts                [(1, 250), (10, 250)]                                        \n",
       "tsfc                   294                                                          \n",
       "vmax                   720                                                          \n",
       "vmin                   620                                                          \n",
       "w_diffuse              [(1.66, 1.66, 1.66, 1.66, 1.66), (1.66, 1.66, 1.66, 1.66)]   \n",
       "wgt                    [(0, 0.5, 0.4, 0.6, 0.65), (0.7, 0.7, 0.55, 0.6)]            \n",
       "\n",
       "                                                              \n",
       "                                                   (h2o, 3b)  \n",
       "atmpro                 trp                                    \n",
       "band                   3b                                     \n",
       "commitnumber           a06b618                                \n",
       "conc                   -                                      \n",
       "dv                     0.001                                  \n",
       "klin                   1e-24                                  \n",
       "molecule               h2o                                    \n",
       "ng_adju                [0]                                    \n",
       "ng_refs                [6]                                    \n",
       "nv                     1000                                   \n",
       "option_compute_btable  0                                      \n",
       "option_compute_ktable  1                                      \n",
       "option_wgt_flux        1                                      \n",
       "option_wgt_k           1                                      \n",
       "ref_pts                [(600, 250)]                           \n",
       "tsfc                   294                                    \n",
       "vmax                   720                                    \n",
       "vmin                   620                                    \n",
       "w_diffuse              [(1.66, 1.66, 1.66, 1.55, 1.5, 1.66)]  \n",
       "wgt                    [(0.8, 0.8, 0.8, 0.6, 0.6, 0.9)]       "
      ]
     },
     "metadata": {},
     "output_type": "display_data"
    },
    {
     "data": {
      "text/html": [
       "\n",
       "<div class=\"bk-root\">\n",
       "    <div class=\"bk-plotdiv\" id=\"f4bf9af8-62c0-443b-89c1-77532867f38a\"></div>\n",
       "</div>"
      ]
     },
     "metadata": {},
     "output_type": "display_data"
    },
    {
     "data": {
      "application/javascript": [
       "(function(root) {\n",
       "  function embed_document(root) {\n",
       "    \n",
       "  var docs_json = {\"b7716be5-740e-4fcf-b7d9-85a72ff36f14\":{\"roots\":{\"references\":[{\"attributes\":{},\"id\":\"3b5b9be2-7d06-4ff5-8342-a5d1e9aa030b\",\"type\":\"Selection\"},{\"attributes\":{\"overlay\":{\"id\":\"f15b37cd-f531-4a97-b91e-e87680086d98\",\"type\":\"BoxAnnotation\"}},\"id\":\"41792df4-9a46-48c8-951c-5d0c3d0aac93\",\"type\":\"BoxZoomTool\"},{\"attributes\":{\"fill_alpha\":{\"value\":0.7},\"fill_color\":{\"value\":\"#4daf4a\"},\"line_alpha\":{\"value\":0.7},\"line_color\":{\"value\":\"#4daf4a\"},\"x\":{\"field\":\"x\"},\"y\":{\"field\":\"y\"}},\"id\":\"d64444bb-945d-4440-8a11-89c45a96eee5\",\"type\":\"Circle\"},{\"attributes\":{\"source\":{\"id\":\"e2345f14-a62f-463f-9511-9fb50e980b47\",\"type\":\"ColumnDataSource\"}},\"id\":\"d3c1e9f2-85c9-48de-8fa1-f57e9639e255\",\"type\":\"CDSView\"},{\"attributes\":{\"line_alpha\":0.3,\"line_color\":\"#984ea3\",\"line_width\":8,\"x\":{\"field\":\"x\"},\"y\":{\"field\":\"y\"}},\"id\":\"ca834277-5ce7-4a1e-9f93-dbca8245d71d\",\"type\":\"Line\"},{\"attributes\":{\"callback\":null,\"data\":{\"x\":{\"__ndarray__\":\"E7h1N0/HWUAc0NIVbLlBQAwh5/1/7kBAvmw7bY1wPkDMzqJ3KuA6QHZTymslzDdABi0kYHRVNUBPHhZqTWszQEWeJF0z6TFAidS0i2mmMEA1lrA2xgYvQNQLPs3J6yxAV0PiHktPK0BvY7Mj1ScpQAMEc/T49SVAGZsMfWZDI0DbjNMQVaQhQK3szE5QyCBAmlKouLuIIEDLn28LluogQBj7gWGvmiJAOpShKqa+IUBNdVzopXUbQAQR8/YxCBVAj6JzI9HIEECrY/CLpv4KQB9T0h6KLQVAKOX/n9QIAUAb+5KNBxv+P87BM6FJovo/rCwb54AO9j++tzNdmYHwP2lGUEamzek/5XiJ2suQ5j8E8XDxprHhPwzO4O8Xs9k//tG7ob5f0z/mUZbG1ILLP/Fj7Ws0a8I/7JQeuJBouz9E5nahTLK0P+vJmXm0aa4/ms74BY7goz+sh9M0ra55P5xPc6tNB7S/zk1hxpBzvb+MQCwDHZmlv0mybLhY6Y8/EhzW1Zaanj9gbipkRCiiP9Pyh48djqM/o6wAWzU6pD+dEX/2HoykP7F1Ob08saQ/xIoTkt7NpD/grFZgp9ykP/eWRIbt2KQ/ZSwmeDuppD8RwropmSekP9fpfzqXQqM/oweF27b8oT9nWwXlQXCgP/WUG5Nli50/wXUvcZCCmj9yuKAI82iYPynEcjfHOpg/O5C4cdLOmz94brt/FaiiPzjaprW/bKk/RU8qF7PwrD+MZkTtp5SoPwbbFtLS9p4/4yrIL7najT9ZrySkLkxwP4InobJpvpe/\",\"dtype\":\"float64\",\"shape\":[75]},\"y\":{\"__ndarray__\":\"GhExyth1ND/Sv8nbtpRIP2vylNV0PVE/aTum7souWD/At0SJ8fVgPw3Iuahxymc/MSNhhJWvcD/bTfBN02d3P2zb5nxnaoA/CD5h5MAGhz8NmeH1TyaQP+zrCsc9p5Y/LbKd76fGnz/bLW5ISEmmPww9YvTcQq8/JV2OstnstT8Er5Y7M8G+P0c+r3jqkcU/5h99k6ZBzj88bCIzFzjVP4enV8oyxN0//yH99nXg5D8qOpLLf0jtP5kqGJXUifQ/c9cS8kHP/D+/DpwzojQEQIEmwoanVwxA4lgXt9HgE0BSSZ2AJuIbQAMJih9jjiNA5q4l5INuK0AwTKYKRj0zQNv5fmq8/DpAaCJseHrtQkB/+zpwzoxKQM3MzMzMeFJAZmZmZmZqWEAAAAAAAFxeQM3MzMzMJmJAmpmZmZkfZUBmZmZmZhhoQDMzMzMzEWtAAAAAAAAKbkBmZmZmZoFwQM3MzMzM/XFAMzMzMzN6c0CamZmZmfZ0QAAAAAAAc3ZAZmZmZmbvd0DNzMzMzGt5QDMzMzMz6HpAmpmZmZlkfEAAAAAAAOF9QGZmZmZmXX9AZmZmZuZsgECamZmZGSuBQM3MzMxM6YFAAAAAAICngkAzMzMzs2WDQGZmZmbmI4RAmpmZmRnihEDNzMzMTKCFQAAAAACAXoZAMzMzM7Mch0BmZmZm5tqHQJqZmZkZmYhAzczMzExXiUAAAAAAgBWKQDMzMzOz04pAZmZmZuaRi0CamZmZGVCMQM3MzMxMDo1AAAAAAIDMjUAzMzMzs4qOQGZmZmbmSI9A\",\"dtype\":\"float64\",\"shape\":[75]}},\"selected\":{\"id\":\"c54dc869-763a-4144-a3b9-d9af8dc1359f\",\"type\":\"Selection\"},\"selection_policy\":{\"id\":\"06277c64-f597-4ce8-b69a-b503a2056680\",\"type\":\"UnionRenderers\"}},\"id\":\"9138786a-433e-46ef-880b-51f5b2ec002b\",\"type\":\"ColumnDataSource\"},{\"attributes\":{},\"id\":\"d96cc696-a7ce-4cd5-b59d-ae0df06bf45a\",\"type\":\"LinearScale\"},{\"attributes\":{\"line_color\":\"#4daf4a\",\"line_width\":1.5,\"x\":{\"field\":\"x\"},\"y\":{\"field\":\"y\"}},\"id\":\"3dd0d93c-5c3f-4884-a868-876b8341458b\",\"type\":\"Line\"},{\"attributes\":{\"bottom_units\":\"screen\",\"fill_alpha\":{\"value\":0.5},\"fill_color\":{\"value\":\"lightgrey\"},\"left_units\":\"screen\",\"level\":\"overlay\",\"line_alpha\":{\"value\":1.0},\"line_color\":{\"value\":\"black\"},\"line_dash\":[4,4],\"line_width\":{\"value\":2},\"plot\":null,\"render_mode\":\"css\",\"right_units\":\"screen\",\"top_units\":\"screen\"},\"id\":\"9215cb42-f04b-4194-aafb-628d3fc2bf0e\",\"type\":\"BoxAnnotation\"},{\"attributes\":{\"data_source\":{\"id\":\"e2345f14-a62f-463f-9511-9fb50e980b47\",\"type\":\"ColumnDataSource\"},\"glyph\":{\"id\":\"7ff4713d-1753-40e7-b4c1-d42a8368996b\",\"type\":\"Line\"},\"hover_glyph\":null,\"muted_glyph\":null,\"nonselection_glyph\":{\"id\":\"87e04b88-b459-4a94-a597-f1c1533d715b\",\"type\":\"Line\"},\"selection_glyph\":null,\"view\":{\"id\":\"d3c1e9f2-85c9-48de-8fa1-f57e9639e255\",\"type\":\"CDSView\"}},\"id\":\"24bdf037-b224-4267-a958-88b6bafecca8\",\"type\":\"GlyphRenderer\"},{\"attributes\":{},\"id\":\"26512e6c-865f-442c-8b05-1757297d4db4\",\"type\":\"WheelZoomTool\"},{\"attributes\":{\"source\":{\"id\":\"2197601f-13ba-4931-8613-1502faaa0cb7\",\"type\":\"ColumnDataSource\"}},\"id\":\"61709977-2ad4-440a-a67f-cd8cdac92dfd\",\"type\":\"CDSView\"},{\"attributes\":{\"line_alpha\":0.1,\"line_color\":\"#1f77b4\",\"line_width\":8,\"x\":{\"field\":\"x\"},\"y\":{\"field\":\"y\"}},\"id\":\"9b19c89f-cd93-4140-b73f-78e060b5c88b\",\"type\":\"Line\"},{\"attributes\":{\"line_alpha\":0.1,\"line_color\":\"#1f77b4\",\"line_dash\":[6],\"line_width\":5,\"x\":{\"field\":\"x\"},\"y\":{\"field\":\"y\"}},\"id\":\"602da7fe-dc8d-4b88-995b-87a777eb0d55\",\"type\":\"Line\"},{\"attributes\":{},\"id\":\"d78be245-a480-4d6c-9043-a20536c373b9\",\"type\":\"UnionRenderers\"},{\"attributes\":{\"active_drag\":\"auto\",\"active_inspect\":\"auto\",\"active_scroll\":\"auto\",\"active_tap\":\"auto\",\"tools\":[{\"id\":\"a165b4af-3a22-4479-a43b-1eefc4c3605f\",\"type\":\"PanTool\"},{\"id\":\"26512e6c-865f-442c-8b05-1757297d4db4\",\"type\":\"WheelZoomTool\"},{\"id\":\"41792df4-9a46-48c8-951c-5d0c3d0aac93\",\"type\":\"BoxZoomTool\"},{\"id\":\"91bbe04f-4429-4c49-ae68-ecdd8ea2198b\",\"type\":\"SaveTool\"},{\"id\":\"eb318533-be84-4c52-8633-227c864f0713\",\"type\":\"ResetTool\"},{\"id\":\"6d512fc0-f0a3-4cf3-bcd6-e5ade6b7ae6d\",\"type\":\"HelpTool\"}]},\"id\":\"c8a28a5c-29bf-4481-8dbf-b38ca2e9266f\",\"type\":\"Toolbar\"},{\"attributes\":{},\"id\":\"5db9cae9-204b-4568-b292-041b354e4021\",\"type\":\"UnionRenderers\"},{\"attributes\":{\"items\":[{\"id\":\"2cc6c9ce-b4fe-49ca-960c-6e7cc50792a2\",\"type\":\"LegendItem\"},{\"id\":\"3cf9ae14-8669-4c59-ad5b-5e55de1b2729\",\"type\":\"LegendItem\"},{\"id\":\"47abf832-2a30-484e-8d7f-70d847cbba10\",\"type\":\"LegendItem\"}],\"label_text_font_size\":{\"value\":\"8pt\"},\"location\":\"top_center\",\"orientation\":\"horizontal\",\"plot\":{\"id\":\"7256baf1-178a-4ff9-b097-0b3258f133b8\",\"subtype\":\"Figure\",\"type\":\"Plot\"}},\"id\":\"aa3dfde3-51e5-4b2a-930c-9b2936d70e85\",\"type\":\"Legend\"},{\"attributes\":{\"callback\":null,\"end\":0.01,\"start\":1020},\"id\":\"f45e33d2-3804-4ce7-8b7d-c1c60f402c33\",\"type\":\"Range1d\"},{\"attributes\":{\"line_alpha\":0.1,\"line_color\":\"#1f77b4\",\"line_width\":1.5,\"x\":{\"field\":\"x\"},\"y\":{\"field\":\"y\"}},\"id\":\"87e04b88-b459-4a94-a597-f1c1533d715b\",\"type\":\"Line\"},{\"attributes\":{\"source\":{\"id\":\"85abdf05-c698-4949-a72e-fc71ea455c35\",\"type\":\"ColumnDataSource\"}},\"id\":\"f77ae53c-64b4-483b-a473-3d4844007d15\",\"type\":\"CDSView\"},{\"attributes\":{\"bottom_units\":\"screen\",\"fill_alpha\":{\"value\":0.5},\"fill_color\":{\"value\":\"lightgrey\"},\"left_units\":\"screen\",\"level\":\"overlay\",\"line_alpha\":{\"value\":1.0},\"line_color\":{\"value\":\"black\"},\"line_dash\":[4,4],\"line_width\":{\"value\":2},\"plot\":null,\"render_mode\":\"css\",\"right_units\":\"screen\",\"top_units\":\"screen\"},\"id\":\"f15b37cd-f531-4a97-b91e-e87680086d98\",\"type\":\"BoxAnnotation\"},{\"attributes\":{\"data_source\":{\"id\":\"42d0e18f-8e12-41a3-9fbd-39c4a080f454\",\"type\":\"ColumnDataSource\"},\"glyph\":{\"id\":\"dad06af1-77ad-4ab6-9a3f-36c17c7c431b\",\"type\":\"Line\"},\"hover_glyph\":null,\"muted_glyph\":null,\"nonselection_glyph\":{\"id\":\"f36333a6-552a-4e27-b6f6-81dd12cb3bce\",\"type\":\"Line\"},\"selection_glyph\":null,\"view\":{\"id\":\"9c00c7d8-68ec-4dbd-a6cc-995b99a5bcea\",\"type\":\"CDSView\"}},\"id\":\"ae0071db-3bf3-4246-a46b-4dd9b90777b4\",\"type\":\"GlyphRenderer\"},{\"attributes\":{\"fill_alpha\":{\"value\":0.7},\"fill_color\":{\"value\":\"#4daf4a\"},\"line_alpha\":{\"value\":0.7},\"line_color\":{\"value\":\"#4daf4a\"},\"x\":{\"field\":\"x\"},\"y\":{\"field\":\"y\"}},\"id\":\"0861cf28-7caf-4a58-9c65-910f9c2bf17c\",\"type\":\"Circle\"},{\"attributes\":{\"source\":{\"id\":\"42d0e18f-8e12-41a3-9fbd-39c4a080f454\",\"type\":\"ColumnDataSource\"}},\"id\":\"9c00c7d8-68ec-4dbd-a6cc-995b99a5bcea\",\"type\":\"CDSView\"},{\"attributes\":{\"label\":{\"value\":\"WGT igg=10 - CRD\"},\"renderers\":[{\"id\":\"76d59d08-3bfc-46fb-8903-c028fc2ee957\",\"type\":\"GlyphRenderer\"}]},\"id\":\"0dd46b10-5bce-4eae-a1f6-b796f24a8676\",\"type\":\"LegendItem\"},{\"attributes\":{\"fill_alpha\":{\"value\":0.1},\"fill_color\":{\"value\":\"#1f77b4\"},\"line_alpha\":{\"value\":0.1},\"line_color\":{\"value\":\"#1f77b4\"},\"x\":{\"field\":\"x\"},\"y\":{\"field\":\"y\"}},\"id\":\"6f332870-721f-452d-b31e-d76814b91aa3\",\"type\":\"Circle\"},{\"attributes\":{\"line_alpha\":0.1,\"line_color\":\"#1f77b4\",\"line_width\":1.5,\"x\":{\"field\":\"x\"},\"y\":{\"field\":\"y\"}},\"id\":\"846088a9-239c-485c-bbba-5e9826039212\",\"type\":\"Line\"},{\"attributes\":{\"callback\":null,\"data\":{\"x\":{\"__ndarray__\":\"2dDN/kCoVEAijQqcbLtFQJio3hrY6EJA3GPpQxc8P0Dr46HvblE5QPWidr8KWDVA7rJfd7pXM0D8pNqn410yQCtSYWwhWDFAbtxifm7oL0CfdY2WA+UsQJhMFYxKmipA8gTCTrH6KUDSqMDJNsApQLjn+dNGZShAzO1e7pNzJkA7Gof6XUAkQDhGV441ECJADnxW47aXIECHp1fKMoQgQI0AuKNJZyJAPeKhOfzDIUA+PVusTRgbQMro291epRNA/kHJiRscD0BwR5Pm6gILQMHwW74/vwZAcFAM2vXcAUCFS9jIv+D+P84E1OXejfs//palQuH49T+6OCLGCPTvP8bRh/T8xes/5hlFIKik6D9sHsndzhvhP8jvK97hGdg/Zj0IQxUl1T9nVfjxn4fQP+uj+J3L+cU/aTZutXfbvD+isQhbcjCyP/6RhKUDV6Y/TDFlskirlz8Acppz5JB+vx7ZeIr+S7e//O4tF7fyv79tNbaaH8anv7Jkxo+8aZA/vbL0aWGLnz+FU7lllCKiP2ekZI0IM6M/2kJnBOEroz+GStXWhaijP0AGN8FToqM/0oSfmPKqoz+qTasHHYujPxJ8SAJRU6M/y/Rs0kQKoz8s7C/cNfihP7h7FAkBVKE/+S2iPN+Onz+7Z1UynSmcP2yD+XyrrZg/vVQWzDKglT8k/EbM0J6TP3/DdLwqmZM/NMa0WlNllz+dL0xfNbqgPz+odzDjH6c/4LlfVD5Dqz8zH8GheBSnP4XFwr/xfZs/a/+q8w0kij+9/WNoD5BcP5BNSCQ3rpi/\",\"dtype\":\"float64\",\"shape\":[75]},\"y\":{\"__ndarray__\":\"GhExyth1ND/Sv8nbtpRIP2vylNV0PVE/aTum7souWD/At0SJ8fVgPw3Iuahxymc/MSNhhJWvcD/bTfBN02d3P2zb5nxnaoA/CD5h5MAGhz8NmeH1TyaQP+zrCsc9p5Y/LbKd76fGnz/bLW5ISEmmPww9YvTcQq8/JV2OstnstT8Er5Y7M8G+P0c+r3jqkcU/5h99k6ZBzj88bCIzFzjVP4enV8oyxN0//yH99nXg5D8qOpLLf0jtP5kqGJXUifQ/c9cS8kHP/D+/DpwzojQEQIEmwoanVwxA4lgXt9HgE0BSSZ2AJuIbQAMJih9jjiNA5q4l5INuK0AwTKYKRj0zQNv5fmq8/DpAaCJseHrtQkB/+zpwzoxKQM3MzMzMeFJAZmZmZmZqWEAAAAAAAFxeQM3MzMzMJmJAmpmZmZkfZUBmZmZmZhhoQDMzMzMzEWtAAAAAAAAKbkBmZmZmZoFwQM3MzMzM/XFAMzMzMzN6c0CamZmZmfZ0QAAAAAAAc3ZAZmZmZmbvd0DNzMzMzGt5QDMzMzMz6HpAmpmZmZlkfEAAAAAAAOF9QGZmZmZmXX9AZmZmZuZsgECamZmZGSuBQM3MzMxM6YFAAAAAAICngkAzMzMzs2WDQGZmZmbmI4RAmpmZmRnihEDNzMzMTKCFQAAAAACAXoZAMzMzM7Mch0BmZmZm5tqHQJqZmZkZmYhAzczMzExXiUAAAAAAgBWKQDMzMzOz04pAZmZmZuaRi0CamZmZGVCMQM3MzMxMDo1AAAAAAIDMjUAzMzMzs4qOQGZmZmbmSI9A\",\"dtype\":\"float64\",\"shape\":[75]}},\"selected\":{\"id\":\"630ad08b-d900-4c3b-87f9-6909310dfed5\",\"type\":\"Selection\"},\"selection_policy\":{\"id\":\"5db9cae9-204b-4568-b292-041b354e4021\",\"type\":\"UnionRenderers\"}},\"id\":\"15e27fa8-ca18-4f5f-9465-2f8063bd7768\",\"type\":\"ColumnDataSource\"},{\"attributes\":{\"children\":[{\"id\":\"7256baf1-178a-4ff9-b097-0b3258f133b8\",\"subtype\":\"Figure\",\"type\":\"Plot\"},{\"id\":\"5eff9961-9747-4ba6-9f36-ba831b0b63c2\",\"subtype\":\"Figure\",\"type\":\"Plot\"},{\"id\":\"0de495e6-2a25-4a60-91fe-7f5716cf2e41\",\"subtype\":\"Figure\",\"type\":\"Plot\"}]},\"id\":\"11bbca3f-0666-474d-b13e-8ec217e88e27\",\"type\":\"Row\"},{\"attributes\":{},\"id\":\"23593da6-cd76-4481-87d0-cfce657bcc86\",\"type\":\"ResetTool\"},{\"attributes\":{\"num_minor_ticks\":10},\"id\":\"14c1770d-9a8b-441a-a409-7c3bdd1433af\",\"type\":\"LogTicker\"},{\"attributes\":{\"source\":{\"id\":\"9138786a-433e-46ef-880b-51f5b2ec002b\",\"type\":\"ColumnDataSource\"}},\"id\":\"5e6a1ae0-3209-4b94-bab5-ed77969948ab\",\"type\":\"CDSView\"},{\"attributes\":{\"callback\":null,\"data\":{\"x\":{\"__ndarray__\":\"ECIZcmyBTkD8AQ8MIOBFQHe8yW/RMUVAm1d1VgtQQ0ACDTZ1HmtAQO47hsd+UjpANlg4SfPLNEDVWwNbJYAxQNqQf2YQZzBAZ+4h4XtzMEDVdaimJJMwQEkrvqHwNTBA1SR4QxqlLkCupBXfUBArQGZmZmZmDiZApSaw73k8IkCDlVS3xM8gQObo8XubBiFA1JOejmzXIUCjqxm+KrQiQKz7bIkB7yNA5WA2AYbdIUDTMlLvqUQZQLc3rjVKdRJA+8qD9BRBEEDE4RY9AY4NQB4zUBn/jgdALTe9MD4hAUAw5p35i2/9P476NaMw+f0/Y8J5gg6E+z+etdsuNHfzP0okdhK2ZOk/x75D1diT5z/bUTl506XlPxcSi3Mvi90/fav5GhdI0D/EsQ1gut7AP4TqGdQUB7M/15QakHNRsD/KQ7sXU0GuPy5116wP+Ko/ossaQ6D9pT8fjtHh8VKTP/KInznKxbC/o2oFl9jGur8FhVN8Anygv4wPN9ARM5Q/BnI/lvTmnD/JsH0NMA+gP4Gm0g0c6aA/HGbkA204oT8ZTgnwLC2hP8qX6t6X7qA/SlajKcuooD/gUNwX7mGgP4RzeM43HqA/djls9bGPnz+zv3LYC3KeP4jKesL2uZw/51Xz1btjmj9+BfS4K5iXP9RgZhTVn5Q/KDd1Eev8kT+QNjDniU+QPxIwhcpplpA/+oFNy3+wlD/b8JMhydeeP1FsW00ElaY/JXMGKAh8qj9swd4GrW6mP4MNFQQLN5s/j9UnZcSYhz93a+gJfONaP+WlK3Bjx5m/\",\"dtype\":\"float64\",\"shape\":[75]},\"y\":{\"__ndarray__\":\"GhExyth1ND/Sv8nbtpRIP2vylNV0PVE/aTum7souWD/At0SJ8fVgPw3Iuahxymc/MSNhhJWvcD/bTfBN02d3P2zb5nxnaoA/CD5h5MAGhz8NmeH1TyaQP+zrCsc9p5Y/LbKd76fGnz/bLW5ISEmmPww9YvTcQq8/JV2OstnstT8Er5Y7M8G+P0c+r3jqkcU/5h99k6ZBzj88bCIzFzjVP4enV8oyxN0//yH99nXg5D8qOpLLf0jtP5kqGJXUifQ/c9cS8kHP/D+/DpwzojQEQIEmwoanVwxA4lgXt9HgE0BSSZ2AJuIbQAMJih9jjiNA5q4l5INuK0AwTKYKRj0zQNv5fmq8/DpAaCJseHrtQkB/+zpwzoxKQM3MzMzMeFJAZmZmZmZqWEAAAAAAAFxeQM3MzMzMJmJAmpmZmZkfZUBmZmZmZhhoQDMzMzMzEWtAAAAAAAAKbkBmZmZmZoFwQM3MzMzM/XFAMzMzMzN6c0CamZmZmfZ0QAAAAAAAc3ZAZmZmZmbvd0DNzMzMzGt5QDMzMzMz6HpAmpmZmZlkfEAAAAAAAOF9QGZmZmZmXX9AZmZmZuZsgECamZmZGSuBQM3MzMxM6YFAAAAAAICngkAzMzMzs2WDQGZmZmbmI4RAmpmZmRnihEDNzMzMTKCFQAAAAACAXoZAMzMzM7Mch0BmZmZm5tqHQJqZmZkZmYhAzczMzExXiUAAAAAAgBWKQDMzMzOz04pAZmZmZuaRi0CamZmZGVCMQM3MzMxMDo1AAAAAAIDMjUAzMzMzs4qOQGZmZmbmSI9A\",\"dtype\":\"float64\",\"shape\":[75]}},\"selected\":{\"id\":\"3b5b9be2-7d06-4ff5-8342-a5d1e9aa030b\",\"type\":\"Selection\"},\"selection_policy\":{\"id\":\"659a2440-e57e-45d2-bc35-a0108f0ebebe\",\"type\":\"UnionRenderers\"}},\"id\":\"45a5db47-f1bb-4052-821d-e69ba2a0f310\",\"type\":\"ColumnDataSource\"},{\"attributes\":{},\"id\":\"c795ff0b-99c6-4794-8541-c32e8de7382c\",\"type\":\"UnionRenderers\"},{\"attributes\":{},\"id\":\"bc2e0a1b-3f59-4e24-b21d-8c5a387292ea\",\"type\":\"BasicTicker\"},{\"attributes\":{\"line_alpha\":0.3,\"line_color\":\"#984ea3\",\"line_width\":8,\"x\":{\"field\":\"x\"},\"y\":{\"field\":\"y\"}},\"id\":\"d9e05186-6aee-4858-82df-8a2dae1097fe\",\"type\":\"Line\"},{\"attributes\":{\"callback\":null,\"data\":{\"x\":{\"__ndarray__\":\"Fk7S/DENRcCAx/DYz5ogQKxtisdFDSFA8IRefxJfIEDgLCXLSdgXQMBD393KMgRAAJp63SIw4b+gJyzxgLL+v7DWUGovIvi/ABFzSdV2yb+oqwK1GPzwP/BV8rG7APw/8AuvJHmu+j/wEyS2u4fuPwBjYvNxbag/QEfH1chu4L8A694vC5Lav4AcfpKWJb8/oBNkXw3r5D+AvaAqS5nsP0AJsH4iReU/AKvMlNbfrj/QE1LI34fhv2jKJgo+l+S/gPL63YX3wL/I8DOJ1XrUP/j/7tOnC9M/AAVSvZBpiD9gnaJ+cm+lvwDGERA4t8o/3FZ6bTbW1T8A7z+N1qzHP8CHiPYMPIq/IF6kq88woD+4BkM+ZKG/P1ggUh28wK4/CDQRNjy9qL9EQBHNNEi1v17dwANUz7G/KgAIUDoupr98EWVWjEaWv+ilEmYmjXu/QOgP6ZHocD9oWDkpjc6JP1A1no4bDIo/WBnfesFlhT8c7mIbanSEP57ZAtCV+XA/wKBq+SM6W7+47GW1oshwv5Biqg0MKHW/ODTiuEIOeL8gHK4zkPd6vzjvdvImFX6/6NHAoU2UgL8AcOkh5eqBv8yNMN/W6oK/qD7A9YmFg7/eiAX2TLqDv0wSCmVvloO/vnItwmMrg7+gYi0isJCCv0Joav0g14G/Mn10v0oLgb/EA+FC0jKAv1xQtrN1kX6/BDmsmUp5fL9UsIt3h+F5vzhvW0LbvXa/AOEeeVelc78AKS0z1y9xvxhsDnA+/m2/UFWBKtMHab/2KFVDnyZjvxjzU+zNR2C/\",\"dtype\":\"float64\",\"shape\":[75]},\"y\":{\"__ndarray__\":\"GhExyth1ND/Sv8nbtpRIP2vylNV0PVE/aTum7souWD/At0SJ8fVgPw3Iuahxymc/MSNhhJWvcD/bTfBN02d3P2zb5nxnaoA/CD5h5MAGhz8NmeH1TyaQP+zrCsc9p5Y/LbKd76fGnz/bLW5ISEmmPww9YvTcQq8/JV2OstnstT8Er5Y7M8G+P0c+r3jqkcU/5h99k6ZBzj88bCIzFzjVP4enV8oyxN0//yH99nXg5D8qOpLLf0jtP5kqGJXUifQ/c9cS8kHP/D+/DpwzojQEQIEmwoanVwxA4lgXt9HgE0BSSZ2AJuIbQAMJih9jjiNA5q4l5INuK0AwTKYKRj0zQNv5fmq8/DpAaCJseHrtQkB/+zpwzoxKQM3MzMzMeFJAZmZmZmZqWEAAAAAAAFxeQM3MzMzMJmJAmpmZmZkfZUBmZmZmZhhoQDMzMzMzEWtAAAAAAAAKbkBmZmZmZoFwQM3MzMzM/XFAMzMzMzN6c0CamZmZmfZ0QAAAAAAAc3ZAZmZmZmbvd0DNzMzMzGt5QDMzMzMz6HpAmpmZmZlkfEAAAAAAAOF9QGZmZmZmXX9AZmZmZuZsgECamZmZGSuBQM3MzMxM6YFAAAAAAICngkAzMzMzs2WDQGZmZmbmI4RAmpmZmRnihEDNzMzMTKCFQAAAAACAXoZAMzMzM7Mch0BmZmZm5tqHQJqZmZkZmYhAzczMzExXiUAAAAAAgBWKQDMzMzOz04pAZmZmZuaRi0CamZmZGVCMQM3MzMxMDo1AAAAAAIDMjUAzMzMzs4qOQGZmZmbmSI9A\",\"dtype\":\"float64\",\"shape\":[75]}},\"selected\":{\"id\":\"ecdbd4dd-f11a-4263-a2bf-492c8dd8a43e\",\"type\":\"Selection\"},\"selection_policy\":{\"id\":\"10ff8d1c-4d6a-4da1-b3f6-6ca93d3f807e\",\"type\":\"UnionRenderers\"}},\"id\":\"04a5c6c2-782a-40ef-be08-5420d9508879\",\"type\":\"ColumnDataSource\"},{\"attributes\":{\"label\":{\"value\":\"CLIRAD - CRD\"},\"renderers\":[{\"id\":\"82f95b63-256f-49d0-a40b-09810c9ed32a\",\"type\":\"GlyphRenderer\"}]},\"id\":\"7e848e82-d8df-472e-a85d-42a335c62240\",\"type\":\"LegendItem\"},{\"attributes\":{\"children\":[{\"id\":\"11bbca3f-0666-474d-b13e-8ec217e88e27\",\"type\":\"Row\"}]},\"id\":\"d58e7283-729e-4144-a4b7-da797868387d\",\"type\":\"Column\"},{\"attributes\":{\"callback\":null,\"data\":{\"x\":{\"__ndarray__\":\"E7h1N0/HWUAc0NIVbLlBQAwh5/1/7kBAvmw7bY1wPkDMzqJ3KuA6QHZTymslzDdABi0kYHRVNUBPHhZqTWszQEWeJF0z6TFAidS0i2mmMEA1lrA2xgYvQNQLPs3J6yxAV0PiHktPK0BvY7Mj1ScpQAMEc/T49SVAGZsMfWZDI0DbjNMQVaQhQK3szE5QyCBAmlKouLuIIEDLn28LluogQBj7gWGvmiJAOpShKqa+IUBNdVzopXUbQAQR8/YxCBVAj6JzI9HIEECrY/CLpv4KQB9T0h6KLQVAKOX/n9QIAUAb+5KNBxv+P87BM6FJovo/rCwb54AO9j++tzNdmYHwP2lGUEamzek/5XiJ2suQ5j8E8XDxprHhPwzO4O8Xs9k//tG7ob5f0z/mUZbG1ILLP/Fj7Ws0a8I/7JQeuJBouz9E5nahTLK0P+vJmXm0aa4/ms74BY7goz+sh9M0ra55P5xPc6tNB7S/zk1hxpBzvb+MQCwDHZmlv0mybLhY6Y8/EhzW1Zaanj9gbipkRCiiP9Pyh48djqM/o6wAWzU6pD+dEX/2HoykP7F1Ob08saQ/xIoTkt7NpD/grFZgp9ykP/eWRIbt2KQ/ZSwmeDuppD8RwropmSekP9fpfzqXQqM/oweF27b8oT9nWwXlQXCgP/WUG5Nli50/wXUvcZCCmj9yuKAI82iYPynEcjfHOpg/O5C4cdLOmz94brt/FaiiPzjaprW/bKk/RU8qF7PwrD+MZkTtp5SoPwbbFtLS9p4/4yrIL7najT9ZrySkLkxwP4InobJpvpe/\",\"dtype\":\"float64\",\"shape\":[75]},\"y\":{\"__ndarray__\":\"GhExyth1ND/Sv8nbtpRIP2vylNV0PVE/aTum7souWD/At0SJ8fVgPw3Iuahxymc/MSNhhJWvcD/bTfBN02d3P2zb5nxnaoA/CD5h5MAGhz8NmeH1TyaQP+zrCsc9p5Y/LbKd76fGnz/bLW5ISEmmPww9YvTcQq8/JV2OstnstT8Er5Y7M8G+P0c+r3jqkcU/5h99k6ZBzj88bCIzFzjVP4enV8oyxN0//yH99nXg5D8qOpLLf0jtP5kqGJXUifQ/c9cS8kHP/D+/DpwzojQEQIEmwoanVwxA4lgXt9HgE0BSSZ2AJuIbQAMJih9jjiNA5q4l5INuK0AwTKYKRj0zQNv5fmq8/DpAaCJseHrtQkB/+zpwzoxKQM3MzMzMeFJAZmZmZmZqWEAAAAAAAFxeQM3MzMzMJmJAmpmZmZkfZUBmZmZmZhhoQDMzMzMzEWtAAAAAAAAKbkBmZmZmZoFwQM3MzMzM/XFAMzMzMzN6c0CamZmZmfZ0QAAAAAAAc3ZAZmZmZmbvd0DNzMzMzGt5QDMzMzMz6HpAmpmZmZlkfEAAAAAAAOF9QGZmZmZmXX9AZmZmZuZsgECamZmZGSuBQM3MzMxM6YFAAAAAAICngkAzMzMzs2WDQGZmZmbmI4RAmpmZmRnihEDNzMzMTKCFQAAAAACAXoZAMzMzM7Mch0BmZmZm5tqHQJqZmZkZmYhAzczMzExXiUAAAAAAgBWKQDMzMzOz04pAZmZmZuaRi0CamZmZGVCMQM3MzMxMDo1AAAAAAIDMjUAzMzMzs4qOQGZmZmbmSI9A\",\"dtype\":\"float64\",\"shape\":[75]}},\"selected\":{\"id\":\"82818ca8-7f36-4157-b19e-3da601b8be8a\",\"type\":\"Selection\"},\"selection_policy\":{\"id\":\"92b0da83-3d27-4e78-be5c-ad539a5b3279\",\"type\":\"UnionRenderers\"}},\"id\":\"e2345f14-a62f-463f-9511-9fb50e980b47\",\"type\":\"ColumnDataSource\"},{\"attributes\":{\"source\":{\"id\":\"45a5db47-f1bb-4052-821d-e69ba2a0f310\",\"type\":\"ColumnDataSource\"}},\"id\":\"5acbe266-9d23-4e84-9b73-93544995d58e\",\"type\":\"CDSView\"},{\"attributes\":{\"callback\":null,\"data\":{\"x\":{\"__ndarray__\":\"E7h1N0/HWUAc0NIVbLlBQAwh5/1/7kBAvmw7bY1wPkDMzqJ3KuA6QHZTymslzDdABi0kYHRVNUBPHhZqTWszQEWeJF0z6TFAidS0i2mmMEA1lrA2xgYvQNQLPs3J6yxAV0PiHktPK0BvY7Mj1ScpQAMEc/T49SVAGZsMfWZDI0DbjNMQVaQhQK3szE5QyCBAmlKouLuIIEDLn28LluogQBj7gWGvmiJAOpShKqa+IUBNdVzopXUbQAQR8/YxCBVAj6JzI9HIEECrY/CLpv4KQB9T0h6KLQVAKOX/n9QIAUAb+5KNBxv+P87BM6FJovo/rCwb54AO9j++tzNdmYHwP2lGUEamzek/5XiJ2suQ5j8E8XDxprHhPwzO4O8Xs9k//tG7ob5f0z/mUZbG1ILLP/Fj7Ws0a8I/7JQeuJBouz9E5nahTLK0P+vJmXm0aa4/ms74BY7goz+sh9M0ra55P5xPc6tNB7S/zk1hxpBzvb+MQCwDHZmlv0mybLhY6Y8/EhzW1Zaanj9gbipkRCiiP9Pyh48djqM/o6wAWzU6pD+dEX/2HoykP7F1Ob08saQ/xIoTkt7NpD/grFZgp9ykP/eWRIbt2KQ/ZSwmeDuppD8RwropmSekP9fpfzqXQqM/oweF27b8oT9nWwXlQXCgP/WUG5Nli50/wXUvcZCCmj9yuKAI82iYPynEcjfHOpg/O5C4cdLOmz94brt/FaiiPzjaprW/bKk/RU8qF7PwrD+MZkTtp5SoPwbbFtLS9p4/4yrIL7najT9ZrySkLkxwP4InobJpvpe/\",\"dtype\":\"float64\",\"shape\":[75]},\"y\":{\"__ndarray__\":\"GhExyth1ND/Sv8nbtpRIP2vylNV0PVE/aTum7souWD/At0SJ8fVgPw3Iuahxymc/MSNhhJWvcD/bTfBN02d3P2zb5nxnaoA/CD5h5MAGhz8NmeH1TyaQP+zrCsc9p5Y/LbKd76fGnz/bLW5ISEmmPww9YvTcQq8/JV2OstnstT8Er5Y7M8G+P0c+r3jqkcU/5h99k6ZBzj88bCIzFzjVP4enV8oyxN0//yH99nXg5D8qOpLLf0jtP5kqGJXUifQ/c9cS8kHP/D+/DpwzojQEQIEmwoanVwxA4lgXt9HgE0BSSZ2AJuIbQAMJih9jjiNA5q4l5INuK0AwTKYKRj0zQNv5fmq8/DpAaCJseHrtQkB/+zpwzoxKQM3MzMzMeFJAZmZmZmZqWEAAAAAAAFxeQM3MzMzMJmJAmpmZmZkfZUBmZmZmZhhoQDMzMzMzEWtAAAAAAAAKbkBmZmZmZoFwQM3MzMzM/XFAMzMzMzN6c0CamZmZmfZ0QAAAAAAAc3ZAZmZmZmbvd0DNzMzMzGt5QDMzMzMz6HpAmpmZmZlkfEAAAAAAAOF9QGZmZmZmXX9AZmZmZuZsgECamZmZGSuBQM3MzMxM6YFAAAAAAICngkAzMzMzs2WDQGZmZmbmI4RAmpmZmRnihEDNzMzMTKCFQAAAAACAXoZAMzMzM7Mch0BmZmZm5tqHQJqZmZkZmYhAzczMzExXiUAAAAAAgBWKQDMzMzOz04pAZmZmZuaRi0CamZmZGVCMQM3MzMxMDo1AAAAAAIDMjUAzMzMzs4qOQGZmZmbmSI9A\",\"dtype\":\"float64\",\"shape\":[75]}},\"selected\":{\"id\":\"90dc3518-b4c8-431f-8137-c9c1ae48ab35\",\"type\":\"Selection\"},\"selection_policy\":{\"id\":\"9cf6a7ff-f09e-4f92-8cf8-870f4930cb4e\",\"type\":\"UnionRenderers\"}},\"id\":\"85abdf05-c698-4949-a72e-fc71ea455c35\",\"type\":\"ColumnDataSource\"},{\"attributes\":{\"data_source\":{\"id\":\"85abdf05-c698-4949-a72e-fc71ea455c35\",\"type\":\"ColumnDataSource\"},\"glyph\":{\"id\":\"0861cf28-7caf-4a58-9c65-910f9c2bf17c\",\"type\":\"Circle\"},\"hover_glyph\":null,\"muted_glyph\":null,\"nonselection_glyph\":{\"id\":\"6f332870-721f-452d-b31e-d76814b91aa3\",\"type\":\"Circle\"},\"selection_glyph\":null,\"view\":{\"id\":\"f77ae53c-64b4-483b-a473-3d4844007d15\",\"type\":\"CDSView\"}},\"id\":\"02440ac9-c42a-48f7-915a-63926dc3df70\",\"type\":\"GlyphRenderer\"},{\"attributes\":{\"plot\":null,\"text\":\"\"},\"id\":\"e7fcde40-0400-4a33-b8ee-145a49221629\",\"type\":\"Title\"},{\"attributes\":{},\"id\":\"91bbe04f-4429-4c49-ae68-ecdd8ea2198b\",\"type\":\"SaveTool\"},{\"attributes\":{\"items\":[{\"id\":\"768abcb8-769a-4f25-b0c5-be1ee354a3dc\",\"type\":\"LegendItem\"},{\"id\":\"e5f63bc3-30c7-429d-979a-98316870c96b\",\"type\":\"LegendItem\"},{\"id\":\"e2d1be72-413d-4283-969f-2bd8d130717f\",\"type\":\"LegendItem\"}],\"label_text_font_size\":{\"value\":\"8pt\"},\"location\":\"top_center\",\"orientation\":\"horizontal\",\"plot\":{\"id\":\"5eff9961-9747-4ba6-9f36-ba831b0b63c2\",\"subtype\":\"Figure\",\"type\":\"Plot\"}},\"id\":\"b34b0b18-31f7-4241-a18a-b1fea758c7cc\",\"type\":\"Legend\"},{\"attributes\":{\"fill_alpha\":{\"value\":0.1},\"fill_color\":{\"value\":\"#1f77b4\"},\"line_alpha\":{\"value\":0.1},\"line_color\":{\"value\":\"#1f77b4\"},\"x\":{\"field\":\"x\"},\"y\":{\"field\":\"y\"}},\"id\":\"5eb25002-c45d-4aed-8838-d55c75976f9c\",\"type\":\"Circle\"},{\"attributes\":{\"data_source\":{\"id\":\"45a5db47-f1bb-4052-821d-e69ba2a0f310\",\"type\":\"ColumnDataSource\"},\"glyph\":{\"id\":\"d9e05186-6aee-4858-82df-8a2dae1097fe\",\"type\":\"Line\"},\"hover_glyph\":null,\"muted_glyph\":null,\"nonselection_glyph\":{\"id\":\"37313571-b8cb-4fcb-a461-73f1878dbfaa\",\"type\":\"Line\"},\"selection_glyph\":null,\"view\":{\"id\":\"5acbe266-9d23-4e84-9b73-93544995d58e\",\"type\":\"CDSView\"}},\"id\":\"62d97c7c-fbac-4029-aea7-ab70e33b0ace\",\"type\":\"GlyphRenderer\"},{\"attributes\":{\"callback\":null,\"data\":{\"x\":{\"__ndarray__\":\"ECIZcmyBTkD8AQ8MIOBFQHe8yW/RMUVAm1d1VgtQQ0ACDTZ1HmtAQO47hsd+UjpANlg4SfPLNEDVWwNbJYAxQNqQf2YQZzBAZ+4h4XtzMEDVdaimJJMwQEkrvqHwNTBA1SR4QxqlLkCupBXfUBArQGZmZmZmDiZApSaw73k8IkCDlVS3xM8gQObo8XubBiFA1JOejmzXIUCjqxm+KrQiQKz7bIkB7yNA5WA2AYbdIUDTMlLvqUQZQLc3rjVKdRJA+8qD9BRBEEDE4RY9AY4NQB4zUBn/jgdALTe9MD4hAUAw5p35i2/9P476NaMw+f0/Y8J5gg6E+z+etdsuNHfzP0okdhK2ZOk/x75D1diT5z/bUTl506XlPxcSi3Mvi90/fav5GhdI0D/EsQ1gut7AP4TqGdQUB7M/15QakHNRsD/KQ7sXU0GuPy5116wP+Ko/ossaQ6D9pT8fjtHh8VKTP/KInznKxbC/o2oFl9jGur8FhVN8Anygv4wPN9ARM5Q/BnI/lvTmnD/JsH0NMA+gP4Gm0g0c6aA/HGbkA204oT8ZTgnwLC2hP8qX6t6X7qA/SlajKcuooD/gUNwX7mGgP4RzeM43HqA/djls9bGPnz+zv3LYC3KeP4jKesL2uZw/51Xz1btjmj9+BfS4K5iXP9RgZhTVn5Q/KDd1Eev8kT+QNjDniU+QPxIwhcpplpA/+oFNy3+wlD/b8JMhydeeP1FsW00ElaY/JXMGKAh8qj9swd4GrW6mP4MNFQQLN5s/j9UnZcSYhz93a+gJfONaP+WlK3Bjx5m/\",\"dtype\":\"float64\",\"shape\":[75]},\"y\":{\"__ndarray__\":\"GhExyth1ND/Sv8nbtpRIP2vylNV0PVE/aTum7souWD/At0SJ8fVgPw3Iuahxymc/MSNhhJWvcD/bTfBN02d3P2zb5nxnaoA/CD5h5MAGhz8NmeH1TyaQP+zrCsc9p5Y/LbKd76fGnz/bLW5ISEmmPww9YvTcQq8/JV2OstnstT8Er5Y7M8G+P0c+r3jqkcU/5h99k6ZBzj88bCIzFzjVP4enV8oyxN0//yH99nXg5D8qOpLLf0jtP5kqGJXUifQ/c9cS8kHP/D+/DpwzojQEQIEmwoanVwxA4lgXt9HgE0BSSZ2AJuIbQAMJih9jjiNA5q4l5INuK0AwTKYKRj0zQNv5fmq8/DpAaCJseHrtQkB/+zpwzoxKQM3MzMzMeFJAZmZmZmZqWEAAAAAAAFxeQM3MzMzMJmJAmpmZmZkfZUBmZmZmZhhoQDMzMzMzEWtAAAAAAAAKbkBmZmZmZoFwQM3MzMzM/XFAMzMzMzN6c0CamZmZmfZ0QAAAAAAAc3ZAZmZmZmbvd0DNzMzMzGt5QDMzMzMz6HpAmpmZmZlkfEAAAAAAAOF9QGZmZmZmXX9AZmZmZuZsgECamZmZGSuBQM3MzMxM6YFAAAAAAICngkAzMzMzs2WDQGZmZmbmI4RAmpmZmRnihEDNzMzMTKCFQAAAAACAXoZAMzMzM7Mch0BmZmZm5tqHQJqZmZkZmYhAzczMzExXiUAAAAAAgBWKQDMzMzOz04pAZmZmZuaRi0CamZmZGVCMQM3MzMxMDo1AAAAAAIDMjUAzMzMzs4qOQGZmZmbmSI9A\",\"dtype\":\"float64\",\"shape\":[75]}},\"selected\":{\"id\":\"98d931b2-04c7-49f2-b033-41948e135e3a\",\"type\":\"Selection\"},\"selection_policy\":{\"id\":\"c795ff0b-99c6-4794-8541-c32e8de7382c\",\"type\":\"UnionRenderers\"}},\"id\":\"f8c53da0-d2e8-4b76-b1c7-9efce5d061c2\",\"type\":\"ColumnDataSource\"},{\"attributes\":{},\"id\":\"42e7df2e-7ffc-4db5-a51c-951e7346af04\",\"type\":\"HelpTool\"},{\"attributes\":{\"axis_label\":\"cooling rate [K/day]\",\"formatter\":{\"id\":\"71be12b1-df66-4936-aa06-d6a907a647b2\",\"type\":\"BasicTickFormatter\"},\"plot\":{\"id\":\"7256baf1-178a-4ff9-b097-0b3258f133b8\",\"subtype\":\"Figure\",\"type\":\"Plot\"},\"ticker\":{\"id\":\"adca986a-2802-418c-9ee6-78402375af1f\",\"type\":\"BasicTicker\"}},\"id\":\"291b4745-f717-422c-be45-8a5bc7ee5642\",\"type\":\"LinearAxis\"},{\"attributes\":{\"data_source\":{\"id\":\"2197601f-13ba-4931-8613-1502faaa0cb7\",\"type\":\"ColumnDataSource\"},\"glyph\":{\"id\":\"d64444bb-945d-4440-8a11-89c45a96eee5\",\"type\":\"Circle\"},\"hover_glyph\":null,\"muted_glyph\":null,\"nonselection_glyph\":{\"id\":\"5eb25002-c45d-4aed-8838-d55c75976f9c\",\"type\":\"Circle\"},\"selection_glyph\":null,\"view\":{\"id\":\"61709977-2ad4-440a-a67f-cd8cdac92dfd\",\"type\":\"CDSView\"}},\"id\":\"5cf306d8-febc-412d-9bd4-a58a8c8ea3d5\",\"type\":\"GlyphRenderer\"},{\"attributes\":{\"above\":[{\"id\":\"61b8c914-5168-41f7-87ff-3919291055d8\",\"type\":\"Legend\"}],\"below\":[{\"id\":\"e02f04cb-8efe-4243-9594-7696d85dc41a\",\"type\":\"LinearAxis\"}],\"left\":[{\"id\":\"896c82db-3dd5-471c-8498-a4b980449840\",\"type\":\"LogAxis\"}],\"plot_height\":500,\"plot_width\":300,\"renderers\":[{\"id\":\"e02f04cb-8efe-4243-9594-7696d85dc41a\",\"type\":\"LinearAxis\"},{\"id\":\"614fc9cc-35c5-418b-87f6-733709bd31ed\",\"type\":\"Grid\"},{\"id\":\"896c82db-3dd5-471c-8498-a4b980449840\",\"type\":\"LogAxis\"},{\"id\":\"4445c358-d498-4f28-b295-e7d029b5967a\",\"type\":\"Grid\"},{\"id\":\"6dbd8da1-4083-49d3-85bb-35f2af570c14\",\"type\":\"BoxAnnotation\"},{\"id\":\"82f95b63-256f-49d0-a40b-09810c9ed32a\",\"type\":\"GlyphRenderer\"},{\"id\":\"76d59d08-3bfc-46fb-8903-c028fc2ee957\",\"type\":\"GlyphRenderer\"},{\"id\":\"61b8c914-5168-41f7-87ff-3919291055d8\",\"type\":\"Legend\"}],\"title\":{\"id\":\"10d5102c-cf0a-429c-81ce-426fe58e3099\",\"type\":\"Title\"},\"toolbar\":{\"id\":\"914ce6dc-9bc7-43bb-8a75-2f8f8b677866\",\"type\":\"Toolbar\"},\"toolbar_location\":null,\"x_range\":{\"id\":\"9c4cc9ae-16de-45c0-a781-dffba60e37ad\",\"type\":\"Range1d\"},\"x_scale\":{\"id\":\"a59ee333-1d37-4429-8319-53cf934e2fdc\",\"type\":\"LinearScale\"},\"y_range\":{\"id\":\"250fa851-2609-4d67-9e8c-3d4d6449ccc5\",\"type\":\"Range1d\"},\"y_scale\":{\"id\":\"c922dc52-fd3d-41d5-a17b-2d6148d1ec01\",\"type\":\"LogScale\"}},\"id\":\"0de495e6-2a25-4a60-91fe-7f5716cf2e41\",\"subtype\":\"Figure\",\"type\":\"Plot\"},{\"attributes\":{},\"id\":\"6fc57dfe-f8c3-4c29-ade5-0421b0f1f1c2\",\"type\":\"LogScale\"},{\"attributes\":{\"source\":{\"id\":\"e080ef24-977a-4a74-a99c-cce6647341c0\",\"type\":\"ColumnDataSource\"}},\"id\":\"8d4990ca-5918-482e-ad5b-62889c22dca8\",\"type\":\"CDSView\"},{\"attributes\":{\"line_alpha\":0.3,\"line_color\":\"#984ea3\",\"line_width\":8,\"x\":{\"field\":\"x\"},\"y\":{\"field\":\"y\"}},\"id\":\"84275a45-b0c7-403e-9869-bc1e814a14a9\",\"type\":\"Line\"},{\"attributes\":{},\"id\":\"6d512fc0-f0a3-4cf3-bcd6-e5ade6b7ae6d\",\"type\":\"HelpTool\"},{\"attributes\":{\"data_source\":{\"id\":\"9138786a-433e-46ef-880b-51f5b2ec002b\",\"type\":\"ColumnDataSource\"},\"glyph\":{\"id\":\"3dd0d93c-5c3f-4884-a868-876b8341458b\",\"type\":\"Line\"},\"hover_glyph\":null,\"muted_glyph\":null,\"nonselection_glyph\":{\"id\":\"846088a9-239c-485c-bbba-5e9826039212\",\"type\":\"Line\"},\"selection_glyph\":null,\"view\":{\"id\":\"5e6a1ae0-3209-4b94-bab5-ed77969948ab\",\"type\":\"CDSView\"}},\"id\":\"8bbaa192-9b11-41f9-b1b0-de56076591c6\",\"type\":\"GlyphRenderer\"},{\"attributes\":{\"line_alpha\":0.1,\"line_color\":\"#1f77b4\",\"line_width\":8,\"x\":{\"field\":\"x\"},\"y\":{\"field\":\"y\"}},\"id\":\"8d144251-e2a8-4b89-9ed9-21e91e8845e2\",\"type\":\"Line\"},{\"attributes\":{\"line_color\":\"#4daf4a\",\"line_width\":1.5,\"x\":{\"field\":\"x\"},\"y\":{\"field\":\"y\"}},\"id\":\"7ff4713d-1753-40e7-b4c1-d42a8368996b\",\"type\":\"Line\"},{\"attributes\":{},\"id\":\"0bbcf9c8-1c16-433e-aa36-6e36e73baea7\",\"type\":\"BasicTickFormatter\"},{\"attributes\":{\"callback\":null,\"data\":{\"x\":{\"__ndarray__\":\"E7h1N0/HWUAc0NIVbLlBQAwh5/1/7kBAvmw7bY1wPkDMzqJ3KuA6QHZTymslzDdABi0kYHRVNUBPHhZqTWszQEWeJF0z6TFAidS0i2mmMEA1lrA2xgYvQNQLPs3J6yxAV0PiHktPK0BvY7Mj1ScpQAMEc/T49SVAGZsMfWZDI0DbjNMQVaQhQK3szE5QyCBAmlKouLuIIEDLn28LluogQBj7gWGvmiJAOpShKqa+IUBNdVzopXUbQAQR8/YxCBVAj6JzI9HIEECrY/CLpv4KQB9T0h6KLQVAKOX/n9QIAUAb+5KNBxv+P87BM6FJovo/rCwb54AO9j++tzNdmYHwP2lGUEamzek/5XiJ2suQ5j8E8XDxprHhPwzO4O8Xs9k//tG7ob5f0z/mUZbG1ILLP/Fj7Ws0a8I/7JQeuJBouz9E5nahTLK0P+vJmXm0aa4/ms74BY7goz+sh9M0ra55P5xPc6tNB7S/zk1hxpBzvb+MQCwDHZmlv0mybLhY6Y8/EhzW1Zaanj9gbipkRCiiP9Pyh48djqM/o6wAWzU6pD+dEX/2HoykP7F1Ob08saQ/xIoTkt7NpD/grFZgp9ykP/eWRIbt2KQ/ZSwmeDuppD8RwropmSekP9fpfzqXQqM/oweF27b8oT9nWwXlQXCgP/WUG5Nli50/wXUvcZCCmj9yuKAI82iYPynEcjfHOpg/O5C4cdLOmz94brt/FaiiPzjaprW/bKk/RU8qF7PwrD+MZkTtp5SoPwbbFtLS9p4/4yrIL7najT9ZrySkLkxwP4InobJpvpe/\",\"dtype\":\"float64\",\"shape\":[75]},\"y\":{\"__ndarray__\":\"GhExyth1ND/Sv8nbtpRIP2vylNV0PVE/aTum7souWD/At0SJ8fVgPw3Iuahxymc/MSNhhJWvcD/bTfBN02d3P2zb5nxnaoA/CD5h5MAGhz8NmeH1TyaQP+zrCsc9p5Y/LbKd76fGnz/bLW5ISEmmPww9YvTcQq8/JV2OstnstT8Er5Y7M8G+P0c+r3jqkcU/5h99k6ZBzj88bCIzFzjVP4enV8oyxN0//yH99nXg5D8qOpLLf0jtP5kqGJXUifQ/c9cS8kHP/D+/DpwzojQEQIEmwoanVwxA4lgXt9HgE0BSSZ2AJuIbQAMJih9jjiNA5q4l5INuK0AwTKYKRj0zQNv5fmq8/DpAaCJseHrtQkB/+zpwzoxKQM3MzMzMeFJAZmZmZmZqWEAAAAAAAFxeQM3MzMzMJmJAmpmZmZkfZUBmZmZmZhhoQDMzMzMzEWtAAAAAAAAKbkBmZmZmZoFwQM3MzMzM/XFAMzMzMzN6c0CamZmZmfZ0QAAAAAAAc3ZAZmZmZmbvd0DNzMzMzGt5QDMzMzMz6HpAmpmZmZlkfEAAAAAAAOF9QGZmZmZmXX9AZmZmZuZsgECamZmZGSuBQM3MzMxM6YFAAAAAAICngkAzMzMzs2WDQGZmZmbmI4RAmpmZmRnihEDNzMzMTKCFQAAAAACAXoZAMzMzM7Mch0BmZmZm5tqHQJqZmZkZmYhAzczMzExXiUAAAAAAgBWKQDMzMzOz04pAZmZmZuaRi0CamZmZGVCMQM3MzMxMDo1AAAAAAIDMjUAzMzMzs4qOQGZmZmbmSI9A\",\"dtype\":\"float64\",\"shape\":[75]}},\"selected\":{\"id\":\"6a086acc-4761-4844-8b27-2e6fbc81b5d3\",\"type\":\"Selection\"},\"selection_policy\":{\"id\":\"d78be245-a480-4d6c-9043-a20536c373b9\",\"type\":\"UnionRenderers\"}},\"id\":\"2197601f-13ba-4931-8613-1502faaa0cb7\",\"type\":\"ColumnDataSource\"},{\"attributes\":{},\"id\":\"eb318533-be84-4c52-8633-227c864f0713\",\"type\":\"ResetTool\"},{\"attributes\":{\"plot\":{\"id\":\"5eff9961-9747-4ba6-9f36-ba831b0b63c2\",\"subtype\":\"Figure\",\"type\":\"Plot\"},\"ticker\":{\"id\":\"bc2e0a1b-3f59-4e24-b21d-8c5a387292ea\",\"type\":\"BasicTicker\"}},\"id\":\"fa9b382d-9992-4bba-87e1-dbc2103b5aba\",\"type\":\"Grid\"},{\"attributes\":{},\"id\":\"ec12ca69-8021-4d4f-8444-fdb78636bac2\",\"type\":\"BasicTickFormatter\"},{\"attributes\":{\"data_source\":{\"id\":\"04a5c6c2-782a-40ef-be08-5420d9508879\",\"type\":\"ColumnDataSource\"},\"glyph\":{\"id\":\"84275a45-b0c7-403e-9869-bc1e814a14a9\",\"type\":\"Line\"},\"hover_glyph\":null,\"muted_glyph\":null,\"nonselection_glyph\":{\"id\":\"8d144251-e2a8-4b89-9ed9-21e91e8845e2\",\"type\":\"Line\"},\"selection_glyph\":null,\"view\":{\"id\":\"81c5480e-d7ea-480e-8767-56e0592ae5b0\",\"type\":\"CDSView\"}},\"id\":\"76d59d08-3bfc-46fb-8903-c028fc2ee957\",\"type\":\"GlyphRenderer\"},{\"attributes\":{\"active_drag\":\"auto\",\"active_inspect\":\"auto\",\"active_scroll\":\"auto\",\"active_tap\":\"auto\",\"tools\":[{\"id\":\"6399ab5a-6e1f-4dcf-9d95-c702325b6ac2\",\"type\":\"PanTool\"},{\"id\":\"fb4967e4-6066-4f85-b83e-832db7007cb1\",\"type\":\"WheelZoomTool\"},{\"id\":\"2eecd208-4547-476f-a219-f4c1a801130a\",\"type\":\"BoxZoomTool\"},{\"id\":\"ba8e4200-3055-4d11-8cd0-c9b06bdc4d28\",\"type\":\"SaveTool\"},{\"id\":\"43511027-db73-446a-ab60-28a7547a2982\",\"type\":\"ResetTool\"},{\"id\":\"ea6d2fb8-6ce9-4d71-800c-76834e06c482\",\"type\":\"HelpTool\"}]},\"id\":\"914ce6dc-9bc7-43bb-8a75-2f8f8b677866\",\"type\":\"Toolbar\"},{\"attributes\":{\"line_alpha\":0.1,\"line_color\":\"#1f77b4\",\"line_width\":8,\"x\":{\"field\":\"x\"},\"y\":{\"field\":\"y\"}},\"id\":\"37313571-b8cb-4fcb-a461-73f1878dbfaa\",\"type\":\"Line\"},{\"attributes\":{},\"id\":\"002c713f-0be1-401c-a639-dd6b9c41ca60\",\"type\":\"LinearScale\"},{\"attributes\":{\"line_alpha\":0.6,\"line_color\":\"#e41a1c\",\"line_dash\":[6],\"line_width\":5,\"x\":{\"field\":\"x\"},\"y\":{\"field\":\"y\"}},\"id\":\"18cae5dd-f96f-4729-92bf-04857a2a020a\",\"type\":\"Line\"},{\"attributes\":{},\"id\":\"98d931b2-04c7-49f2-b033-41948e135e3a\",\"type\":\"Selection\"},{\"attributes\":{\"label\":{\"value\":\"CLIRAD\"},\"renderers\":[{\"id\":\"ae0071db-3bf3-4246-a46b-4dd9b90777b4\",\"type\":\"GlyphRenderer\"}]},\"id\":\"768abcb8-769a-4f25-b0c5-be1ee354a3dc\",\"type\":\"LegendItem\"},{\"attributes\":{},\"id\":\"9cf6a7ff-f09e-4f92-8cf8-870f4930cb4e\",\"type\":\"UnionRenderers\"},{\"attributes\":{\"callback\":null,\"end\":1.7792725299999992,\"start\":-1.18826753},\"id\":\"9c4cc9ae-16de-45c0-a781-dffba60e37ad\",\"type\":\"Range1d\"},{\"attributes\":{\"line_alpha\":0.6,\"line_color\":\"#e41a1c\",\"line_dash\":[6],\"line_width\":5,\"x\":{\"field\":\"x\"},\"y\":{\"field\":\"y\"}},\"id\":\"cf7973b6-7444-4372-b3b6-98b688e202fa\",\"type\":\"Line\"},{\"attributes\":{},\"id\":\"90dc3518-b4c8-431f-8137-c9c1ae48ab35\",\"type\":\"Selection\"},{\"attributes\":{\"label\":{\"value\":\"CRD\"},\"renderers\":[{\"id\":\"5cf306d8-febc-412d-9bd4-a58a8c8ea3d5\",\"type\":\"GlyphRenderer\"},{\"id\":\"8bbaa192-9b11-41f9-b1b0-de56076591c6\",\"type\":\"GlyphRenderer\"}]},\"id\":\"e5f63bc3-30c7-429d-979a-98316870c96b\",\"type\":\"LegendItem\"},{\"attributes\":{},\"id\":\"630ad08b-d900-4c3b-87f9-6909310dfed5\",\"type\":\"Selection\"},{\"attributes\":{},\"id\":\"a59ee333-1d37-4429-8319-53cf934e2fdc\",\"type\":\"LinearScale\"},{\"attributes\":{\"source\":{\"id\":\"04a5c6c2-782a-40ef-be08-5420d9508879\",\"type\":\"ColumnDataSource\"}},\"id\":\"81c5480e-d7ea-480e-8767-56e0592ae5b0\",\"type\":\"CDSView\"},{\"attributes\":{\"active_drag\":\"auto\",\"active_inspect\":\"auto\",\"active_scroll\":\"auto\",\"active_tap\":\"auto\",\"tools\":[{\"id\":\"93325695-8d5b-4a51-b90c-c0bf71ba8457\",\"type\":\"PanTool\"},{\"id\":\"c85cbd04-48ea-4373-bb09-bfbb6ce485b5\",\"type\":\"WheelZoomTool\"},{\"id\":\"e527d399-09b7-423f-9ffd-2e8d6541aa21\",\"type\":\"BoxZoomTool\"},{\"id\":\"abd81ee5-0cd0-43a1-bcf8-191a0f8924d1\",\"type\":\"SaveTool\"},{\"id\":\"23593da6-cd76-4481-87d0-cfce657bcc86\",\"type\":\"ResetTool\"},{\"id\":\"42e7df2e-7ffc-4db5-a51c-951e7346af04\",\"type\":\"HelpTool\"}]},\"id\":\"19ec89d2-19ae-48ad-8020-3fbf3581d249\",\"type\":\"Toolbar\"},{\"attributes\":{},\"id\":\"71be12b1-df66-4936-aa06-d6a907a647b2\",\"type\":\"BasicTickFormatter\"},{\"attributes\":{\"label\":{\"value\":\"WGT igg=10\"},\"renderers\":[{\"id\":\"62d97c7c-fbac-4029-aea7-ab70e33b0ace\",\"type\":\"GlyphRenderer\"}]},\"id\":\"e2d1be72-413d-4283-969f-2bd8d130717f\",\"type\":\"LegendItem\"},{\"attributes\":{},\"id\":\"a165b4af-3a22-4479-a43b-1eefc4c3605f\",\"type\":\"PanTool\"},{\"attributes\":{\"above\":[{\"id\":\"aa3dfde3-51e5-4b2a-930c-9b2936d70e85\",\"type\":\"Legend\"}],\"below\":[{\"id\":\"291b4745-f717-422c-be45-8a5bc7ee5642\",\"type\":\"LinearAxis\"}],\"left\":[{\"id\":\"1f51cd43-f941-42cd-8546-9834330e7a51\",\"type\":\"LinearAxis\"}],\"plot_height\":500,\"plot_width\":300,\"renderers\":[{\"id\":\"291b4745-f717-422c-be45-8a5bc7ee5642\",\"type\":\"LinearAxis\"},{\"id\":\"0f20b865-6f10-4ce9-b1a6-62fd1c426369\",\"type\":\"Grid\"},{\"id\":\"1f51cd43-f941-42cd-8546-9834330e7a51\",\"type\":\"LinearAxis\"},{\"id\":\"2295fd07-3007-412f-98e2-8d684629a097\",\"type\":\"Grid\"},{\"id\":\"9215cb42-f04b-4194-aafb-628d3fc2bf0e\",\"type\":\"BoxAnnotation\"},{\"id\":\"e58ca917-e61f-46c3-ba9b-a4ea50ce6a3c\",\"type\":\"GlyphRenderer\"},{\"id\":\"02440ac9-c42a-48f7-915a-63926dc3df70\",\"type\":\"GlyphRenderer\"},{\"id\":\"24bdf037-b224-4267-a958-88b6bafecca8\",\"type\":\"GlyphRenderer\"},{\"id\":\"4c158adf-883c-4437-8d6d-6a4377b4b755\",\"type\":\"GlyphRenderer\"},{\"id\":\"aa3dfde3-51e5-4b2a-930c-9b2936d70e85\",\"type\":\"Legend\"}],\"title\":{\"id\":\"e7fcde40-0400-4a33-b8ee-145a49221629\",\"type\":\"Title\"},\"toolbar\":{\"id\":\"19ec89d2-19ae-48ad-8020-3fbf3581d249\",\"type\":\"Toolbar\"},\"toolbar_location\":null,\"x_range\":{\"id\":\"9572414d-62d1-4700-be0d-6a6fc4024fe2\",\"type\":\"Range1d\"},\"x_scale\":{\"id\":\"00bfcaf8-fe7c-40ff-858c-e3daa49563ea\",\"type\":\"LinearScale\"},\"y_range\":{\"id\":\"c121ee68-a964-4221-b185-8473efbbf34f\",\"type\":\"Range1d\"},\"y_scale\":{\"id\":\"002c713f-0be1-401c-a639-dd6b9c41ca60\",\"type\":\"LinearScale\"}},\"id\":\"7256baf1-178a-4ff9-b097-0b3258f133b8\",\"subtype\":\"Figure\",\"type\":\"Plot\"},{\"attributes\":{\"plot\":{\"id\":\"0de495e6-2a25-4a60-91fe-7f5716cf2e41\",\"subtype\":\"Figure\",\"type\":\"Plot\"},\"ticker\":{\"id\":\"1830a599-bbb4-4532-928f-81b23835cc60\",\"type\":\"BasicTicker\"}},\"id\":\"614fc9cc-35c5-418b-87f6-733709bd31ed\",\"type\":\"Grid\"},{\"attributes\":{\"items\":[{\"id\":\"7e848e82-d8df-472e-a85d-42a335c62240\",\"type\":\"LegendItem\"},{\"id\":\"0dd46b10-5bce-4eae-a1f6-b796f24a8676\",\"type\":\"LegendItem\"}],\"label_text_font_size\":{\"value\":\"8pt\"},\"location\":\"top_center\",\"orientation\":\"horizontal\",\"plot\":{\"id\":\"0de495e6-2a25-4a60-91fe-7f5716cf2e41\",\"subtype\":\"Figure\",\"type\":\"Plot\"}},\"id\":\"61b8c914-5168-41f7-87ff-3919291055d8\",\"type\":\"Legend\"},{\"attributes\":{},\"id\":\"82818ca8-7f36-4157-b19e-3da601b8be8a\",\"type\":\"Selection\"},{\"attributes\":{},\"id\":\"92b0da83-3d27-4e78-be5c-ad539a5b3279\",\"type\":\"UnionRenderers\"},{\"attributes\":{},\"id\":\"6a086acc-4761-4844-8b27-2e6fbc81b5d3\",\"type\":\"Selection\"},{\"attributes\":{\"above\":[{\"id\":\"b34b0b18-31f7-4241-a18a-b1fea758c7cc\",\"type\":\"Legend\"}],\"below\":[{\"id\":\"ab0f76ac-f981-4f68-8c4e-00299d9cb2e8\",\"type\":\"LinearAxis\"}],\"left\":[{\"id\":\"016504bf-25c8-412c-b577-80d6d49bdf0f\",\"type\":\"LogAxis\"}],\"plot_height\":500,\"plot_width\":300,\"renderers\":[{\"id\":\"ab0f76ac-f981-4f68-8c4e-00299d9cb2e8\",\"type\":\"LinearAxis\"},{\"id\":\"fa9b382d-9992-4bba-87e1-dbc2103b5aba\",\"type\":\"Grid\"},{\"id\":\"016504bf-25c8-412c-b577-80d6d49bdf0f\",\"type\":\"LogAxis\"},{\"id\":\"67aed6b1-e551-4701-845c-cde4ce82333e\",\"type\":\"Grid\"},{\"id\":\"f15b37cd-f531-4a97-b91e-e87680086d98\",\"type\":\"BoxAnnotation\"},{\"id\":\"ae0071db-3bf3-4246-a46b-4dd9b90777b4\",\"type\":\"GlyphRenderer\"},{\"id\":\"5cf306d8-febc-412d-9bd4-a58a8c8ea3d5\",\"type\":\"GlyphRenderer\"},{\"id\":\"8bbaa192-9b11-41f9-b1b0-de56076591c6\",\"type\":\"GlyphRenderer\"},{\"id\":\"62d97c7c-fbac-4029-aea7-ab70e33b0ace\",\"type\":\"GlyphRenderer\"},{\"id\":\"b34b0b18-31f7-4241-a18a-b1fea758c7cc\",\"type\":\"Legend\"}],\"title\":{\"id\":\"4a020456-a0e2-45a0-948a-6816e6620e0e\",\"type\":\"Title\"},\"toolbar\":{\"id\":\"c8a28a5c-29bf-4481-8dbf-b38ca2e9266f\",\"type\":\"Toolbar\"},\"toolbar_location\":null,\"x_range\":{\"id\":\"0681840e-af58-43e8-aa5b-4a19d860cc9e\",\"type\":\"Range1d\"},\"x_scale\":{\"id\":\"d96cc696-a7ce-4cd5-b59d-ae0df06bf45a\",\"type\":\"LinearScale\"},\"y_range\":{\"id\":\"f45e33d2-3804-4ce7-8b7d-c1c60f402c33\",\"type\":\"Range1d\"},\"y_scale\":{\"id\":\"6fc57dfe-f8c3-4c29-ade5-0421b0f1f1c2\",\"type\":\"LogScale\"}},\"id\":\"5eff9961-9747-4ba6-9f36-ba831b0b63c2\",\"subtype\":\"Figure\",\"type\":\"Plot\"},{\"attributes\":{\"plot\":null,\"text\":\"\"},\"id\":\"4a020456-a0e2-45a0-948a-6816e6620e0e\",\"type\":\"Title\"},{\"attributes\":{\"line_alpha\":0.1,\"line_color\":\"#1f77b4\",\"line_dash\":[6],\"line_width\":5,\"x\":{\"field\":\"x\"},\"y\":{\"field\":\"y\"}},\"id\":\"f36333a6-552a-4e27-b6f6-81dd12cb3bce\",\"type\":\"Line\"},{\"attributes\":{},\"id\":\"c922dc52-fd3d-41d5-a17b-2d6148d1ec01\",\"type\":\"LogScale\"},{\"attributes\":{\"ticker\":null},\"id\":\"ce29877f-a411-474f-98ad-b8345bc323b0\",\"type\":\"LogTickFormatter\"},{\"attributes\":{\"axis_label\":\"cooling rate [K/day]\",\"formatter\":{\"id\":\"4f006770-9f80-4d6a-bb1c-5d96c626dcf6\",\"type\":\"BasicTickFormatter\"},\"plot\":{\"id\":\"0de495e6-2a25-4a60-91fe-7f5716cf2e41\",\"subtype\":\"Figure\",\"type\":\"Plot\"},\"ticker\":{\"id\":\"1830a599-bbb4-4532-928f-81b23835cc60\",\"type\":\"BasicTicker\"}},\"id\":\"e02f04cb-8efe-4243-9594-7696d85dc41a\",\"type\":\"LinearAxis\"},{\"attributes\":{},\"id\":\"29fc975c-f05c-4330-845c-35a40857b0cc\",\"type\":\"UnionRenderers\"},{\"attributes\":{},\"id\":\"1830a599-bbb4-4532-928f-81b23835cc60\",\"type\":\"BasicTicker\"},{\"attributes\":{},\"id\":\"659a2440-e57e-45d2-bc35-a0108f0ebebe\",\"type\":\"UnionRenderers\"},{\"attributes\":{},\"id\":\"abd81ee5-0cd0-43a1-bcf8-191a0f8924d1\",\"type\":\"SaveTool\"},{\"attributes\":{\"axis_label\":\"pressure [mb]\",\"formatter\":{\"id\":\"4c0a41c1-e7e6-4f03-ba82-31d555a9a924\",\"type\":\"LogTickFormatter\"},\"plot\":{\"id\":\"0de495e6-2a25-4a60-91fe-7f5716cf2e41\",\"subtype\":\"Figure\",\"type\":\"Plot\"},\"ticker\":{\"id\":\"422390bb-b0c6-4673-8071-118390ab6605\",\"type\":\"LogTicker\"}},\"id\":\"896c82db-3dd5-471c-8498-a4b980449840\",\"type\":\"LogAxis\"},{\"attributes\":{},\"id\":\"c54dc869-763a-4144-a3b9-d9af8dc1359f\",\"type\":\"Selection\"},{\"attributes\":{},\"id\":\"adca986a-2802-418c-9ee6-78402375af1f\",\"type\":\"BasicTicker\"},{\"attributes\":{\"num_minor_ticks\":10},\"id\":\"422390bb-b0c6-4673-8071-118390ab6605\",\"type\":\"LogTicker\"},{\"attributes\":{},\"id\":\"06277c64-f597-4ce8-b69a-b503a2056680\",\"type\":\"UnionRenderers\"},{\"attributes\":{\"dimension\":1,\"plot\":{\"id\":\"0de495e6-2a25-4a60-91fe-7f5716cf2e41\",\"subtype\":\"Figure\",\"type\":\"Plot\"},\"ticker\":{\"id\":\"422390bb-b0c6-4673-8071-118390ab6605\",\"type\":\"LogTicker\"}},\"id\":\"4445c358-d498-4f28-b295-e7d029b5967a\",\"type\":\"Grid\"},{\"attributes\":{},\"id\":\"03b3ac1e-095d-45c3-919d-b2af00ce9415\",\"type\":\"Selection\"},{\"attributes\":{\"plot\":{\"id\":\"7256baf1-178a-4ff9-b097-0b3258f133b8\",\"subtype\":\"Figure\",\"type\":\"Plot\"},\"ticker\":{\"id\":\"adca986a-2802-418c-9ee6-78402375af1f\",\"type\":\"BasicTicker\"}},\"id\":\"0f20b865-6f10-4ce9-b1a6-62fd1c426369\",\"type\":\"Grid\"},{\"attributes\":{\"plot\":null,\"text\":\"\"},\"id\":\"10d5102c-cf0a-429c-81ce-426fe58e3099\",\"type\":\"Title\"},{\"attributes\":{\"callback\":null,\"data\":{\"x\":{\"__ndarray__\":\"6Jyf4jh8NMAY9N4YAgggQMB4eM+BpQ9AwOO+1Tpx6T8Qrg6AuOv4vwiEnWLVoAPAgKFHjJ7b/78wlbcjnNbwv0CDaRg+IuK/QMpskElG5r+wBBkBFQ7xv+D5RQn6i/K/UOYDAp1J5b9grKjBNAzTP6gdN/xuevM/mJWSimuB+T8Aa5xNR+D0P7CYpfhTfuQ/AOhSXFX2nT8AEf5F0JjJv4BF/eTesrm/AAw4ATxYhT/AA04AD1a3v6CDcpExLda/ABnw6DWs078AFI+LahFhPyDamfhZG8k/AGmNQSeEuj9ADapoB7eoPwBgCJSocq0/AK6VdaSfdb8gbFNEn/Kgv9C1eONqha8/CAjdLeKesD8AU/p0AruSv0DkTRthk5m/gLbGFGpVnD+gY2l1rDGmP9D/WZC5dJw/0Bf61G8udz8QpXEz0g6Ev9pvKqhhJZC/6GuMWdMVkL/W/DbUyB+MvxBMLPiGJYq/cAllhjL5g78Ip0+8FGhxv2DjAuQMRD0/YNXSg1IZTj8AbGvE+b8GvwCb04hAxUa/kJyWaUXlYL/g4jj1I3NcvxD3JsCP7mC/IF9Al78uYr9g87WKpRhlv1CuwT/IWWi/oHmTW2rvab8or1ZsGntxv/DhthZj6W6/NIWf6Tmqcb9MPNVemttyvyRGiFjodnO/EIRklHaJc7848WbxiChzv6gC+OtxhnK/HCgPXPylcb+w7fMGAt5uv8iPeSnkZnK/UFapLEzXar+QdTS49AJovwisoJIIx2u/wFvp4Fm1Xb/UXxeUVVBiv8DB5DSu+U2/\",\"dtype\":\"float64\",\"shape\":[75]},\"y\":{\"__ndarray__\":\"GhExyth1ND/Sv8nbtpRIP2vylNV0PVE/aTum7souWD/At0SJ8fVgPw3Iuahxymc/MSNhhJWvcD/bTfBN02d3P2zb5nxnaoA/CD5h5MAGhz8NmeH1TyaQP+zrCsc9p5Y/LbKd76fGnz/bLW5ISEmmPww9YvTcQq8/JV2OstnstT8Er5Y7M8G+P0c+r3jqkcU/5h99k6ZBzj88bCIzFzjVP4enV8oyxN0//yH99nXg5D8qOpLLf0jtP5kqGJXUifQ/c9cS8kHP/D+/DpwzojQEQIEmwoanVwxA4lgXt9HgE0BSSZ2AJuIbQAMJih9jjiNA5q4l5INuK0AwTKYKRj0zQNv5fmq8/DpAaCJseHrtQkB/+zpwzoxKQM3MzMzMeFJAZmZmZmZqWEAAAAAAAFxeQM3MzMzMJmJAmpmZmZkfZUBmZmZmZhhoQDMzMzMzEWtAAAAAAAAKbkBmZmZmZoFwQM3MzMzM/XFAMzMzMzN6c0CamZmZmfZ0QAAAAAAAc3ZAZmZmZmbvd0DNzMzMzGt5QDMzMzMz6HpAmpmZmZlkfEAAAAAAAOF9QGZmZmZmXX9AZmZmZuZsgECamZmZGSuBQM3MzMxM6YFAAAAAAICngkAzMzMzs2WDQGZmZmbmI4RAmpmZmRnihEDNzMzMTKCFQAAAAACAXoZAMzMzM7Mch0BmZmZm5tqHQJqZmZkZmYhAzczMzExXiUAAAAAAgBWKQDMzMzOz04pAZmZmZuaRi0CamZmZGVCMQM3MzMxMDo1AAAAAAIDMjUAzMzMzs4qOQGZmZmbmSI9A\",\"dtype\":\"float64\",\"shape\":[75]}},\"selected\":{\"id\":\"7e6f7d2a-6575-46e0-a6e9-e8bf448a9d2b\",\"type\":\"Selection\"},\"selection_policy\":{\"id\":\"b82a782f-5941-4d92-a89f-32fdf01a7bc1\",\"type\":\"UnionRenderers\"}},\"id\":\"e080ef24-977a-4a74-a99c-cce6647341c0\",\"type\":\"ColumnDataSource\"},{\"attributes\":{},\"id\":\"00bfcaf8-fe7c-40ff-858c-e3daa49563ea\",\"type\":\"LinearScale\"},{\"attributes\":{\"callback\":null,\"end\":0.01,\"start\":1020},\"id\":\"250fa851-2609-4d67-9e8c-3d4d6449ccc5\",\"type\":\"Range1d\"},{\"attributes\":{},\"id\":\"4f006770-9f80-4d6a-bb1c-5d96c626dcf6\",\"type\":\"BasicTickFormatter\"},{\"attributes\":{\"data_source\":{\"id\":\"e080ef24-977a-4a74-a99c-cce6647341c0\",\"type\":\"ColumnDataSource\"},\"glyph\":{\"id\":\"18cae5dd-f96f-4729-92bf-04857a2a020a\",\"type\":\"Line\"},\"hover_glyph\":null,\"muted_glyph\":null,\"nonselection_glyph\":{\"id\":\"602da7fe-dc8d-4b88-995b-87a777eb0d55\",\"type\":\"Line\"},\"selection_glyph\":null,\"view\":{\"id\":\"8d4990ca-5918-482e-ad5b-62889c22dca8\",\"type\":\"CDSView\"}},\"id\":\"82f95b63-256f-49d0-a40b-09810c9ed32a\",\"type\":\"GlyphRenderer\"},{\"attributes\":{\"ticker\":null},\"id\":\"4c0a41c1-e7e6-4f03-ba82-31d555a9a924\",\"type\":\"LogTickFormatter\"},{\"attributes\":{\"bottom_units\":\"screen\",\"fill_alpha\":{\"value\":0.5},\"fill_color\":{\"value\":\"lightgrey\"},\"left_units\":\"screen\",\"level\":\"overlay\",\"line_alpha\":{\"value\":1.0},\"line_color\":{\"value\":\"black\"},\"line_dash\":[4,4],\"line_width\":{\"value\":2},\"plot\":null,\"render_mode\":\"css\",\"right_units\":\"screen\",\"top_units\":\"screen\"},\"id\":\"6dbd8da1-4083-49d3-85bb-35f2af570c14\",\"type\":\"BoxAnnotation\"},{\"attributes\":{},\"id\":\"b82a782f-5941-4d92-a89f-32fdf01a7bc1\",\"type\":\"UnionRenderers\"},{\"attributes\":{\"toolbar\":{\"id\":\"77c94fd7-2e08-4d4b-af64-70e06fe96693\",\"type\":\"ProxyToolbar\"},\"toolbar_location\":\"above\"},\"id\":\"cefccb69-b45d-40af-9abc-a5b28967ea14\",\"type\":\"ToolbarBox\"},{\"attributes\":{},\"id\":\"6399ab5a-6e1f-4dcf-9d95-c702325b6ac2\",\"type\":\"PanTool\"},{\"attributes\":{\"axis_label\":\"pressure [mb]\",\"formatter\":{\"id\":\"ce29877f-a411-474f-98ad-b8345bc323b0\",\"type\":\"LogTickFormatter\"},\"plot\":{\"id\":\"5eff9961-9747-4ba6-9f36-ba831b0b63c2\",\"subtype\":\"Figure\",\"type\":\"Plot\"},\"ticker\":{\"id\":\"14c1770d-9a8b-441a-a409-7c3bdd1433af\",\"type\":\"LogTicker\"}},\"id\":\"016504bf-25c8-412c-b577-80d6d49bdf0f\",\"type\":\"LogAxis\"},{\"attributes\":{\"dimension\":1,\"plot\":{\"id\":\"5eff9961-9747-4ba6-9f36-ba831b0b63c2\",\"subtype\":\"Figure\",\"type\":\"Plot\"},\"ticker\":{\"id\":\"14c1770d-9a8b-441a-a409-7c3bdd1433af\",\"type\":\"LogTicker\"}},\"id\":\"67aed6b1-e551-4701-845c-cde4ce82333e\",\"type\":\"Grid\"},{\"attributes\":{},\"id\":\"10ff8d1c-4d6a-4da1-b3f6-6ca93d3f807e\",\"type\":\"UnionRenderers\"},{\"attributes\":{\"tools\":[{\"id\":\"93325695-8d5b-4a51-b90c-c0bf71ba8457\",\"type\":\"PanTool\"},{\"id\":\"c85cbd04-48ea-4373-bb09-bfbb6ce485b5\",\"type\":\"WheelZoomTool\"},{\"id\":\"e527d399-09b7-423f-9ffd-2e8d6541aa21\",\"type\":\"BoxZoomTool\"},{\"id\":\"abd81ee5-0cd0-43a1-bcf8-191a0f8924d1\",\"type\":\"SaveTool\"},{\"id\":\"23593da6-cd76-4481-87d0-cfce657bcc86\",\"type\":\"ResetTool\"},{\"id\":\"42e7df2e-7ffc-4db5-a51c-951e7346af04\",\"type\":\"HelpTool\"},{\"id\":\"a165b4af-3a22-4479-a43b-1eefc4c3605f\",\"type\":\"PanTool\"},{\"id\":\"26512e6c-865f-442c-8b05-1757297d4db4\",\"type\":\"WheelZoomTool\"},{\"id\":\"41792df4-9a46-48c8-951c-5d0c3d0aac93\",\"type\":\"BoxZoomTool\"},{\"id\":\"91bbe04f-4429-4c49-ae68-ecdd8ea2198b\",\"type\":\"SaveTool\"},{\"id\":\"eb318533-be84-4c52-8633-227c864f0713\",\"type\":\"ResetTool\"},{\"id\":\"6d512fc0-f0a3-4cf3-bcd6-e5ade6b7ae6d\",\"type\":\"HelpTool\"},{\"id\":\"6399ab5a-6e1f-4dcf-9d95-c702325b6ac2\",\"type\":\"PanTool\"},{\"id\":\"fb4967e4-6066-4f85-b83e-832db7007cb1\",\"type\":\"WheelZoomTool\"},{\"id\":\"2eecd208-4547-476f-a219-f4c1a801130a\",\"type\":\"BoxZoomTool\"},{\"id\":\"ba8e4200-3055-4d11-8cd0-c9b06bdc4d28\",\"type\":\"SaveTool\"},{\"id\":\"43511027-db73-446a-ab60-28a7547a2982\",\"type\":\"ResetTool\"},{\"id\":\"ea6d2fb8-6ce9-4d71-800c-76834e06c482\",\"type\":\"HelpTool\"}]},\"id\":\"77c94fd7-2e08-4d4b-af64-70e06fe96693\",\"type\":\"ProxyToolbar\"},{\"attributes\":{},\"id\":\"fb4967e4-6066-4f85-b83e-832db7007cb1\",\"type\":\"WheelZoomTool\"},{\"attributes\":{\"axis_label\":\"cooling rate [K/day]\",\"formatter\":{\"id\":\"0bbcf9c8-1c16-433e-aa36-6e36e73baea7\",\"type\":\"BasicTickFormatter\"},\"plot\":{\"id\":\"5eff9961-9747-4ba6-9f36-ba831b0b63c2\",\"subtype\":\"Figure\",\"type\":\"Plot\"},\"ticker\":{\"id\":\"bc2e0a1b-3f59-4e24-b21d-8c5a387292ea\",\"type\":\"BasicTicker\"}},\"id\":\"ab0f76ac-f981-4f68-8c4e-00299d9cb2e8\",\"type\":\"LinearAxis\"},{\"attributes\":{\"line_alpha\":0.1,\"line_color\":\"#1f77b4\",\"line_dash\":[6],\"line_width\":5,\"x\":{\"field\":\"x\"},\"y\":{\"field\":\"y\"}},\"id\":\"92d640b3-9452-48ef-aa8f-e80b0f0d348d\",\"type\":\"Line\"},{\"attributes\":{\"overlay\":{\"id\":\"6dbd8da1-4083-49d3-85bb-35f2af570c14\",\"type\":\"BoxAnnotation\"}},\"id\":\"2eecd208-4547-476f-a219-f4c1a801130a\",\"type\":\"BoxZoomTool\"},{\"attributes\":{\"callback\":null,\"end\":16.81595755863,\"start\":-0.10681742163},\"id\":\"0681840e-af58-43e8-aa5b-4a19d860cc9e\",\"type\":\"Range1d\"},{\"attributes\":{},\"id\":\"7e6f7d2a-6575-46e0-a6e9-e8bf448a9d2b\",\"type\":\"Selection\"},{\"attributes\":{},\"id\":\"ba8e4200-3055-4d11-8cd0-c9b06bdc4d28\",\"type\":\"SaveTool\"},{\"attributes\":{\"source\":{\"id\":\"f8c53da0-d2e8-4b76-b1c7-9efce5d061c2\",\"type\":\"ColumnDataSource\"}},\"id\":\"8e309378-eb7b-4ebf-8e5c-e4149c543c48\",\"type\":\"CDSView\"},{\"attributes\":{},\"id\":\"43511027-db73-446a-ab60-28a7547a2982\",\"type\":\"ResetTool\"},{\"attributes\":{\"callback\":null,\"data\":{\"x\":{\"__ndarray__\":\"2dDN/kCoVEAijQqcbLtFQJio3hrY6EJA3GPpQxc8P0Dr46HvblE5QPWidr8KWDVA7rJfd7pXM0D8pNqn410yQCtSYWwhWDFAbtxifm7oL0CfdY2WA+UsQJhMFYxKmipA8gTCTrH6KUDSqMDJNsApQLjn+dNGZShAzO1e7pNzJkA7Gof6XUAkQDhGV441ECJADnxW47aXIECHp1fKMoQgQI0AuKNJZyJAPeKhOfzDIUA+PVusTRgbQMro291epRNA/kHJiRscD0BwR5Pm6gILQMHwW74/vwZAcFAM2vXcAUCFS9jIv+D+P84E1OXejfs//palQuH49T+6OCLGCPTvP8bRh/T8xes/5hlFIKik6D9sHsndzhvhP8jvK97hGdg/Zj0IQxUl1T9nVfjxn4fQP+uj+J3L+cU/aTZutXfbvD+isQhbcjCyP/6RhKUDV6Y/TDFlskirlz8Acppz5JB+vx7ZeIr+S7e//O4tF7fyv79tNbaaH8anv7Jkxo+8aZA/vbL0aWGLnz+FU7lllCKiP2ekZI0IM6M/2kJnBOEroz+GStXWhaijP0AGN8FToqM/0oSfmPKqoz+qTasHHYujPxJ8SAJRU6M/y/Rs0kQKoz8s7C/cNfihP7h7FAkBVKE/+S2iPN+Onz+7Z1UynSmcP2yD+XyrrZg/vVQWzDKglT8k/EbM0J6TP3/DdLwqmZM/NMa0WlNllz+dL0xfNbqgPz+odzDjH6c/4LlfVD5Dqz8zH8GheBSnP4XFwr/xfZs/a/+q8w0kij+9/WNoD5BcP5BNSCQ3rpi/\",\"dtype\":\"float64\",\"shape\":[75]},\"y\":{\"__ndarray__\":\"GhExyth1ND/Sv8nbtpRIP2vylNV0PVE/aTum7souWD/At0SJ8fVgPw3Iuahxymc/MSNhhJWvcD/bTfBN02d3P2zb5nxnaoA/CD5h5MAGhz8NmeH1TyaQP+zrCsc9p5Y/LbKd76fGnz/bLW5ISEmmPww9YvTcQq8/JV2OstnstT8Er5Y7M8G+P0c+r3jqkcU/5h99k6ZBzj88bCIzFzjVP4enV8oyxN0//yH99nXg5D8qOpLLf0jtP5kqGJXUifQ/c9cS8kHP/D+/DpwzojQEQIEmwoanVwxA4lgXt9HgE0BSSZ2AJuIbQAMJih9jjiNA5q4l5INuK0AwTKYKRj0zQNv5fmq8/DpAaCJseHrtQkB/+zpwzoxKQM3MzMzMeFJAZmZmZmZqWEAAAAAAAFxeQM3MzMzMJmJAmpmZmZkfZUBmZmZmZhhoQDMzMzMzEWtAAAAAAAAKbkBmZmZmZoFwQM3MzMzM/XFAMzMzMzN6c0CamZmZmfZ0QAAAAAAAc3ZAZmZmZmbvd0DNzMzMzGt5QDMzMzMz6HpAmpmZmZlkfEAAAAAAAOF9QGZmZmZmXX9AZmZmZuZsgECamZmZGSuBQM3MzMxM6YFAAAAAAICngkAzMzMzs2WDQGZmZmbmI4RAmpmZmRnihEDNzMzMTKCFQAAAAACAXoZAMzMzM7Mch0BmZmZm5tqHQJqZmZkZmYhAzczMzExXiUAAAAAAgBWKQDMzMzOz04pAZmZmZuaRi0CamZmZGVCMQM3MzMxMDo1AAAAAAIDMjUAzMzMzs4qOQGZmZmbmSI9A\",\"dtype\":\"float64\",\"shape\":[75]}},\"selected\":{\"id\":\"03b3ac1e-095d-45c3-919d-b2af00ce9415\",\"type\":\"Selection\"},\"selection_policy\":{\"id\":\"29fc975c-f05c-4330-845c-35a40857b0cc\",\"type\":\"UnionRenderers\"}},\"id\":\"42d0e18f-8e12-41a3-9fbd-39c4a080f454\",\"type\":\"ColumnDataSource\"},{\"attributes\":{},\"id\":\"ecdbd4dd-f11a-4263-a2bf-492c8dd8a43e\",\"type\":\"Selection\"},{\"attributes\":{},\"id\":\"ea6d2fb8-6ce9-4d71-800c-76834e06c482\",\"type\":\"HelpTool\"},{\"attributes\":{\"children\":[{\"id\":\"cefccb69-b45d-40af-9abc-a5b28967ea14\",\"type\":\"ToolbarBox\"},{\"id\":\"d58e7283-729e-4144-a4b7-da797868387d\",\"type\":\"Column\"}]},\"id\":\"7459f67a-870a-4f69-b9ce-8498d72f5b91\",\"type\":\"Column\"},{\"attributes\":{\"dimension\":1,\"plot\":{\"id\":\"7256baf1-178a-4ff9-b097-0b3258f133b8\",\"subtype\":\"Figure\",\"type\":\"Plot\"},\"ticker\":{\"id\":\"00c1a5b5-b3bc-435f-abca-5f94f8c6d632\",\"type\":\"BasicTicker\"}},\"id\":\"2295fd07-3007-412f-98e2-8d684629a097\",\"type\":\"Grid\"},{\"attributes\":{\"data_source\":{\"id\":\"15e27fa8-ca18-4f5f-9465-2f8063bd7768\",\"type\":\"ColumnDataSource\"},\"glyph\":{\"id\":\"cf7973b6-7444-4372-b3b6-98b688e202fa\",\"type\":\"Line\"},\"hover_glyph\":null,\"muted_glyph\":null,\"nonselection_glyph\":{\"id\":\"92d640b3-9452-48ef-aa8f-e80b0f0d348d\",\"type\":\"Line\"},\"selection_glyph\":null,\"view\":{\"id\":\"f13e3761-cfe9-4fcf-bf54-6503536f2118\",\"type\":\"CDSView\"}},\"id\":\"e58ca917-e61f-46c3-ba9b-a4ea50ce6a3c\",\"type\":\"GlyphRenderer\"},{\"attributes\":{\"overlay\":{\"id\":\"9215cb42-f04b-4194-aafb-628d3fc2bf0e\",\"type\":\"BoxAnnotation\"}},\"id\":\"e527d399-09b7-423f-9ffd-2e8d6541aa21\",\"type\":\"BoxZoomTool\"},{\"attributes\":{\"callback\":null,\"end\":0.6845053373,\"start\":-0.1328101873},\"id\":\"9572414d-62d1-4700-be0d-6a6fc4024fe2\",\"type\":\"Range1d\"},{\"attributes\":{\"label\":{\"value\":\"CLIRAD\"},\"renderers\":[{\"id\":\"e58ca917-e61f-46c3-ba9b-a4ea50ce6a3c\",\"type\":\"GlyphRenderer\"}]},\"id\":\"2cc6c9ce-b4fe-49ca-960c-6e7cc50792a2\",\"type\":\"LegendItem\"},{\"attributes\":{\"axis_label\":\"pressure [mb]\",\"formatter\":{\"id\":\"ec12ca69-8021-4d4f-8444-fdb78636bac2\",\"type\":\"BasicTickFormatter\"},\"plot\":{\"id\":\"7256baf1-178a-4ff9-b097-0b3258f133b8\",\"subtype\":\"Figure\",\"type\":\"Plot\"},\"ticker\":{\"id\":\"00c1a5b5-b3bc-435f-abca-5f94f8c6d632\",\"type\":\"BasicTicker\"}},\"id\":\"1f51cd43-f941-42cd-8546-9834330e7a51\",\"type\":\"LinearAxis\"},{\"attributes\":{\"callback\":null,\"end\":0.01,\"start\":1020},\"id\":\"c121ee68-a964-4221-b185-8473efbbf34f\",\"type\":\"Range1d\"},{\"attributes\":{},\"id\":\"93325695-8d5b-4a51-b90c-c0bf71ba8457\",\"type\":\"PanTool\"},{\"attributes\":{},\"id\":\"00c1a5b5-b3bc-435f-abca-5f94f8c6d632\",\"type\":\"BasicTicker\"},{\"attributes\":{\"data_source\":{\"id\":\"f8c53da0-d2e8-4b76-b1c7-9efce5d061c2\",\"type\":\"ColumnDataSource\"},\"glyph\":{\"id\":\"ca834277-5ce7-4a1e-9f93-dbca8245d71d\",\"type\":\"Line\"},\"hover_glyph\":null,\"muted_glyph\":null,\"nonselection_glyph\":{\"id\":\"9b19c89f-cd93-4140-b73f-78e060b5c88b\",\"type\":\"Line\"},\"selection_glyph\":null,\"view\":{\"id\":\"8e309378-eb7b-4ebf-8e5c-e4149c543c48\",\"type\":\"CDSView\"}},\"id\":\"4c158adf-883c-4437-8d6d-6a4377b4b755\",\"type\":\"GlyphRenderer\"},{\"attributes\":{\"source\":{\"id\":\"15e27fa8-ca18-4f5f-9465-2f8063bd7768\",\"type\":\"ColumnDataSource\"}},\"id\":\"f13e3761-cfe9-4fcf-bf54-6503536f2118\",\"type\":\"CDSView\"},{\"attributes\":{\"line_alpha\":0.6,\"line_color\":\"#e41a1c\",\"line_dash\":[6],\"line_width\":5,\"x\":{\"field\":\"x\"},\"y\":{\"field\":\"y\"}},\"id\":\"dad06af1-77ad-4ab6-9a3f-36c17c7c431b\",\"type\":\"Line\"},{\"attributes\":{\"label\":{\"value\":\"CRD\"},\"renderers\":[{\"id\":\"02440ac9-c42a-48f7-915a-63926dc3df70\",\"type\":\"GlyphRenderer\"},{\"id\":\"24bdf037-b224-4267-a958-88b6bafecca8\",\"type\":\"GlyphRenderer\"}]},\"id\":\"3cf9ae14-8669-4c59-ad5b-5e55de1b2729\",\"type\":\"LegendItem\"},{\"attributes\":{\"label\":{\"value\":\"WGT igg=10\"},\"renderers\":[{\"id\":\"4c158adf-883c-4437-8d6d-6a4377b4b755\",\"type\":\"GlyphRenderer\"}]},\"id\":\"47abf832-2a30-484e-8d7f-70d847cbba10\",\"type\":\"LegendItem\"},{\"attributes\":{},\"id\":\"c85cbd04-48ea-4373-bb09-bfbb6ce485b5\",\"type\":\"WheelZoomTool\"}],\"root_ids\":[\"7459f67a-870a-4f69-b9ce-8498d72f5b91\"]},\"title\":\"Bokeh Application\",\"version\":\"0.12.16\"}};\n",
       "  var render_items = [{\"docid\":\"b7716be5-740e-4fcf-b7d9-85a72ff36f14\",\"elementid\":\"f4bf9af8-62c0-443b-89c1-77532867f38a\",\"modelid\":\"7459f67a-870a-4f69-b9ce-8498d72f5b91\"}];\n",
       "  root.Bokeh.embed.embed_items_notebook(docs_json, render_items);\n",
       "\n",
       "  }\n",
       "  if (root.Bokeh !== undefined) {\n",
       "    embed_document(root);\n",
       "  } else {\n",
       "    var attempts = 0;\n",
       "    var timer = setInterval(function(root) {\n",
       "      if (root.Bokeh !== undefined) {\n",
       "        embed_document(root);\n",
       "        clearInterval(timer);\n",
       "      }\n",
       "      attempts++;\n",
       "      if (attempts > 100) {\n",
       "        console.log(\"Bokeh: ERROR: Unable to run BokehJS code because BokehJS library is missing\")\n",
       "        clearInterval(timer);\n",
       "      }\n",
       "    }, 10, root)\n",
       "  }\n",
       "})(window);"
      ],
      "application/vnd.bokehjs_exec.v0+json": ""
     },
     "metadata": {
      "application/vnd.bokehjs_exec.v0+json": {
       "id": "7459f67a-870a-4f69-b9ce-8498d72f5b91"
      }
     },
     "output_type": "display_data"
    },
    {
     "data": {
      "text/markdown": [
       "--------------------------"
      ],
      "text/plain": [
       "<IPython.core.display.Markdown object>"
      ]
     },
     "metadata": {},
     "output_type": "display_data"
    }
   ],
   "source": [
    "ida = show_results(dlbl=data_lbl, dcli=data_cli, add_idanchor=True)\n",
    "show_href(idanchor=ida, df=LINKS, dlbl=data_lbl, dcli=data_cli)"
   ]
  },
  {
   "cell_type": "code",
   "execution_count": null,
   "metadata": {
    "collapsed": true
   },
   "outputs": [],
   "source": []
  },
  {
   "cell_type": "code",
   "execution_count": null,
   "metadata": {
    "collapsed": true
   },
   "outputs": [],
   "source": []
  },
  {
   "cell_type": "code",
   "execution_count": null,
   "metadata": {
    "collapsed": true
   },
   "outputs": [],
   "source": []
  },
  {
   "cell_type": "markdown",
   "metadata": {},
   "source": [
    "# Fin"
   ]
  },
  {
   "cell_type": "code",
   "execution_count": 187,
   "metadata": {},
   "outputs": [
    {
     "data": {
      "text/html": [
       "<script>\n",
       "code_show=true; \n",
       "function code_toggle() {\n",
       " if (code_show){\n",
       " $('div.input').hide();\n",
       " } else {\n",
       " $('div.input').show();\n",
       " }\n",
       " code_show = !code_show\n",
       "} \n",
       "$( document ).ready(code_toggle);\n",
       "</script>\n",
       "<form action=\"javascript:code_toggle()\"><input type=\"submit\" value=\"Click here to toggle on/off the raw code.\"></form>"
      ],
      "text/plain": [
       "<IPython.core.display.HTML object>"
      ]
     },
     "execution_count": 187,
     "metadata": {},
     "output_type": "execute_result"
    }
   ],
   "source": [
    "display.HTML('''<script>\n",
    "code_show=true; \n",
    "function code_toggle() {\n",
    " if (code_show){\n",
    " $('div.input').hide();\n",
    " } else {\n",
    " $('div.input').show();\n",
    " }\n",
    " code_show = !code_show\n",
    "} \n",
    "$( document ).ready(code_toggle);\n",
    "</script>\n",
    "<form action=\"javascript:code_toggle()\"><input type=\"submit\" value=\"Click here to toggle on/off the raw code.\"></form>''')\n"
   ]
  },
  {
   "cell_type": "code",
   "execution_count": null,
   "metadata": {
    "collapsed": true
   },
   "outputs": [],
   "source": []
  }
 ],
 "metadata": {
  "kernelspec": {
   "display_name": "Python 3",
   "language": "python",
   "name": "python3"
  },
  "language_info": {
   "codemirror_mode": {
    "name": "ipython",
    "version": 3
   },
   "file_extension": ".py",
   "mimetype": "text/x-python",
   "name": "python",
   "nbconvert_exporter": "python",
   "pygments_lexer": "ipython3",
   "version": "3.6.7"
  }
 },
 "nbformat": 4,
 "nbformat_minor": 2
}
