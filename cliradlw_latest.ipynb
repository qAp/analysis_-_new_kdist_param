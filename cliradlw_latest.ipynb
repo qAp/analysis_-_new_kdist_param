{
 "cells": [
  {
   "cell_type": "code",
   "execution_count": 614,
   "metadata": {},
   "outputs": [
    {
     "data": {
      "text/html": [
       "\n",
       "    <div class=\"bk-root\">\n",
       "        <a href=\"https://bokeh.pydata.org\" target=\"_blank\" class=\"bk-logo bk-logo-small bk-logo-notebook\"></a>\n",
       "        <span id=\"4e47218a-4f7c-440c-a5e0-e11c04de518d\">Loading BokehJS ...</span>\n",
       "    </div>"
      ]
     },
     "metadata": {},
     "output_type": "display_data"
    },
    {
     "data": {
      "application/javascript": [
       "\n",
       "(function(root) {\n",
       "  function now() {\n",
       "    return new Date();\n",
       "  }\n",
       "\n",
       "  var force = true;\n",
       "\n",
       "  if (typeof (root._bokeh_onload_callbacks) === \"undefined\" || force === true) {\n",
       "    root._bokeh_onload_callbacks = [];\n",
       "    root._bokeh_is_loading = undefined;\n",
       "  }\n",
       "\n",
       "  var JS_MIME_TYPE = 'application/javascript';\n",
       "  var HTML_MIME_TYPE = 'text/html';\n",
       "  var EXEC_MIME_TYPE = 'application/vnd.bokehjs_exec.v0+json';\n",
       "  var CLASS_NAME = 'output_bokeh rendered_html';\n",
       "\n",
       "  /**\n",
       "   * Render data to the DOM node\n",
       "   */\n",
       "  function render(props, node) {\n",
       "    var script = document.createElement(\"script\");\n",
       "    node.appendChild(script);\n",
       "  }\n",
       "\n",
       "  /**\n",
       "   * Handle when an output is cleared or removed\n",
       "   */\n",
       "  function handleClearOutput(event, handle) {\n",
       "    var cell = handle.cell;\n",
       "\n",
       "    var id = cell.output_area._bokeh_element_id;\n",
       "    var server_id = cell.output_area._bokeh_server_id;\n",
       "    // Clean up Bokeh references\n",
       "    if (id !== undefined) {\n",
       "      Bokeh.index[id].model.document.clear();\n",
       "      delete Bokeh.index[id];\n",
       "    }\n",
       "\n",
       "    if (server_id !== undefined) {\n",
       "      // Clean up Bokeh references\n",
       "      var cmd = \"from bokeh.io.state import curstate; print(curstate().uuid_to_server['\" + server_id + \"'].get_sessions()[0].document.roots[0]._id)\";\n",
       "      cell.notebook.kernel.execute(cmd, {\n",
       "        iopub: {\n",
       "          output: function(msg) {\n",
       "            var element_id = msg.content.text.trim();\n",
       "            Bokeh.index[element_id].model.document.clear();\n",
       "            delete Bokeh.index[element_id];\n",
       "          }\n",
       "        }\n",
       "      });\n",
       "      // Destroy server and session\n",
       "      var cmd = \"import bokeh.io.notebook as ion; ion.destroy_server('\" + server_id + \"')\";\n",
       "      cell.notebook.kernel.execute(cmd);\n",
       "    }\n",
       "  }\n",
       "\n",
       "  /**\n",
       "   * Handle when a new output is added\n",
       "   */\n",
       "  function handleAddOutput(event, handle) {\n",
       "    var output_area = handle.output_area;\n",
       "    var output = handle.output;\n",
       "\n",
       "    // limit handleAddOutput to display_data with EXEC_MIME_TYPE content only\n",
       "    if ((output.output_type != \"display_data\") || (!output.data.hasOwnProperty(EXEC_MIME_TYPE))) {\n",
       "      return\n",
       "    }\n",
       "\n",
       "    var toinsert = output_area.element.find(\".\" + CLASS_NAME.split(' ')[0]);\n",
       "\n",
       "    if (output.metadata[EXEC_MIME_TYPE][\"id\"] !== undefined) {\n",
       "      toinsert[toinsert.length - 1].firstChild.textContent = output.data[JS_MIME_TYPE];\n",
       "      // store reference to embed id on output_area\n",
       "      output_area._bokeh_element_id = output.metadata[EXEC_MIME_TYPE][\"id\"];\n",
       "    }\n",
       "    if (output.metadata[EXEC_MIME_TYPE][\"server_id\"] !== undefined) {\n",
       "      var bk_div = document.createElement(\"div\");\n",
       "      bk_div.innerHTML = output.data[HTML_MIME_TYPE];\n",
       "      var script_attrs = bk_div.children[0].attributes;\n",
       "      for (var i = 0; i < script_attrs.length; i++) {\n",
       "        toinsert[toinsert.length - 1].firstChild.setAttribute(script_attrs[i].name, script_attrs[i].value);\n",
       "      }\n",
       "      // store reference to server id on output_area\n",
       "      output_area._bokeh_server_id = output.metadata[EXEC_MIME_TYPE][\"server_id\"];\n",
       "    }\n",
       "  }\n",
       "\n",
       "  function register_renderer(events, OutputArea) {\n",
       "\n",
       "    function append_mime(data, metadata, element) {\n",
       "      // create a DOM node to render to\n",
       "      var toinsert = this.create_output_subarea(\n",
       "        metadata,\n",
       "        CLASS_NAME,\n",
       "        EXEC_MIME_TYPE\n",
       "      );\n",
       "      this.keyboard_manager.register_events(toinsert);\n",
       "      // Render to node\n",
       "      var props = {data: data, metadata: metadata[EXEC_MIME_TYPE]};\n",
       "      render(props, toinsert[toinsert.length - 1]);\n",
       "      element.append(toinsert);\n",
       "      return toinsert\n",
       "    }\n",
       "\n",
       "    /* Handle when an output is cleared or removed */\n",
       "    events.on('clear_output.CodeCell', handleClearOutput);\n",
       "    events.on('delete.Cell', handleClearOutput);\n",
       "\n",
       "    /* Handle when a new output is added */\n",
       "    events.on('output_added.OutputArea', handleAddOutput);\n",
       "\n",
       "    /**\n",
       "     * Register the mime type and append_mime function with output_area\n",
       "     */\n",
       "    OutputArea.prototype.register_mime_type(EXEC_MIME_TYPE, append_mime, {\n",
       "      /* Is output safe? */\n",
       "      safe: true,\n",
       "      /* Index of renderer in `output_area.display_order` */\n",
       "      index: 0\n",
       "    });\n",
       "  }\n",
       "\n",
       "  // register the mime type if in Jupyter Notebook environment and previously unregistered\n",
       "  if (root.Jupyter !== undefined) {\n",
       "    var events = require('base/js/events');\n",
       "    var OutputArea = require('notebook/js/outputarea').OutputArea;\n",
       "\n",
       "    if (OutputArea.prototype.mime_types().indexOf(EXEC_MIME_TYPE) == -1) {\n",
       "      register_renderer(events, OutputArea);\n",
       "    }\n",
       "  }\n",
       "\n",
       "  \n",
       "  if (typeof (root._bokeh_timeout) === \"undefined\" || force === true) {\n",
       "    root._bokeh_timeout = Date.now() + 5000;\n",
       "    root._bokeh_failed_load = false;\n",
       "  }\n",
       "\n",
       "  var NB_LOAD_WARNING = {'data': {'text/html':\n",
       "     \"<div style='background-color: #fdd'>\\n\"+\n",
       "     \"<p>\\n\"+\n",
       "     \"BokehJS does not appear to have successfully loaded. If loading BokehJS from CDN, this \\n\"+\n",
       "     \"may be due to a slow or bad network connection. Possible fixes:\\n\"+\n",
       "     \"</p>\\n\"+\n",
       "     \"<ul>\\n\"+\n",
       "     \"<li>re-rerun `output_notebook()` to attempt to load from CDN again, or</li>\\n\"+\n",
       "     \"<li>use INLINE resources instead, as so:</li>\\n\"+\n",
       "     \"</ul>\\n\"+\n",
       "     \"<code>\\n\"+\n",
       "     \"from bokeh.resources import INLINE\\n\"+\n",
       "     \"output_notebook(resources=INLINE)\\n\"+\n",
       "     \"</code>\\n\"+\n",
       "     \"</div>\"}};\n",
       "\n",
       "  function display_loaded() {\n",
       "    var el = document.getElementById(\"4e47218a-4f7c-440c-a5e0-e11c04de518d\");\n",
       "    if (el != null) {\n",
       "      el.textContent = \"BokehJS is loading...\";\n",
       "    }\n",
       "    if (root.Bokeh !== undefined) {\n",
       "      if (el != null) {\n",
       "        el.textContent = \"BokehJS \" + root.Bokeh.version + \" successfully loaded.\";\n",
       "      }\n",
       "    } else if (Date.now() < root._bokeh_timeout) {\n",
       "      setTimeout(display_loaded, 100)\n",
       "    }\n",
       "  }\n",
       "\n",
       "\n",
       "  function run_callbacks() {\n",
       "    try {\n",
       "      root._bokeh_onload_callbacks.forEach(function(callback) { callback() });\n",
       "    }\n",
       "    finally {\n",
       "      delete root._bokeh_onload_callbacks\n",
       "    }\n",
       "    console.info(\"Bokeh: all callbacks have finished\");\n",
       "  }\n",
       "\n",
       "  function load_libs(js_urls, callback) {\n",
       "    root._bokeh_onload_callbacks.push(callback);\n",
       "    if (root._bokeh_is_loading > 0) {\n",
       "      console.log(\"Bokeh: BokehJS is being loaded, scheduling callback at\", now());\n",
       "      return null;\n",
       "    }\n",
       "    if (js_urls == null || js_urls.length === 0) {\n",
       "      run_callbacks();\n",
       "      return null;\n",
       "    }\n",
       "    console.log(\"Bokeh: BokehJS not loaded, scheduling load and callback at\", now());\n",
       "    root._bokeh_is_loading = js_urls.length;\n",
       "    for (var i = 0; i < js_urls.length; i++) {\n",
       "      var url = js_urls[i];\n",
       "      var s = document.createElement('script');\n",
       "      s.src = url;\n",
       "      s.async = false;\n",
       "      s.onreadystatechange = s.onload = function() {\n",
       "        root._bokeh_is_loading--;\n",
       "        if (root._bokeh_is_loading === 0) {\n",
       "          console.log(\"Bokeh: all BokehJS libraries loaded\");\n",
       "          run_callbacks()\n",
       "        }\n",
       "      };\n",
       "      s.onerror = function() {\n",
       "        console.warn(\"failed to load library \" + url);\n",
       "      };\n",
       "      console.log(\"Bokeh: injecting script tag for BokehJS library: \", url);\n",
       "      document.getElementsByTagName(\"head\")[0].appendChild(s);\n",
       "    }\n",
       "  };var element = document.getElementById(\"4e47218a-4f7c-440c-a5e0-e11c04de518d\");\n",
       "  if (element == null) {\n",
       "    console.log(\"Bokeh: ERROR: autoload.js configured with elementid '4e47218a-4f7c-440c-a5e0-e11c04de518d' but no matching script tag was found. \")\n",
       "    return false;\n",
       "  }\n",
       "\n",
       "  var js_urls = [\"https://cdn.pydata.org/bokeh/release/bokeh-0.12.16.min.js\", \"https://cdn.pydata.org/bokeh/release/bokeh-widgets-0.12.16.min.js\", \"https://cdn.pydata.org/bokeh/release/bokeh-tables-0.12.16.min.js\", \"https://cdn.pydata.org/bokeh/release/bokeh-gl-0.12.16.min.js\"];\n",
       "\n",
       "  var inline_js = [\n",
       "    function(Bokeh) {\n",
       "      Bokeh.set_log_level(\"info\");\n",
       "    },\n",
       "    \n",
       "    function(Bokeh) {\n",
       "      \n",
       "    },\n",
       "    function(Bokeh) {\n",
       "      console.log(\"Bokeh: injecting CSS: https://cdn.pydata.org/bokeh/release/bokeh-0.12.16.min.css\");\n",
       "      Bokeh.embed.inject_css(\"https://cdn.pydata.org/bokeh/release/bokeh-0.12.16.min.css\");\n",
       "      console.log(\"Bokeh: injecting CSS: https://cdn.pydata.org/bokeh/release/bokeh-widgets-0.12.16.min.css\");\n",
       "      Bokeh.embed.inject_css(\"https://cdn.pydata.org/bokeh/release/bokeh-widgets-0.12.16.min.css\");\n",
       "      console.log(\"Bokeh: injecting CSS: https://cdn.pydata.org/bokeh/release/bokeh-tables-0.12.16.min.css\");\n",
       "      Bokeh.embed.inject_css(\"https://cdn.pydata.org/bokeh/release/bokeh-tables-0.12.16.min.css\");\n",
       "    }\n",
       "  ];\n",
       "\n",
       "  function run_inline_js() {\n",
       "    \n",
       "    if ((root.Bokeh !== undefined) || (force === true)) {\n",
       "      for (var i = 0; i < inline_js.length; i++) {\n",
       "        inline_js[i].call(root, root.Bokeh);\n",
       "      }if (force === true) {\n",
       "        display_loaded();\n",
       "      }} else if (Date.now() < root._bokeh_timeout) {\n",
       "      setTimeout(run_inline_js, 100);\n",
       "    } else if (!root._bokeh_failed_load) {\n",
       "      console.log(\"Bokeh: BokehJS failed to load within specified timeout.\");\n",
       "      root._bokeh_failed_load = true;\n",
       "    } else if (force !== true) {\n",
       "      var cell = $(document.getElementById(\"4e47218a-4f7c-440c-a5e0-e11c04de518d\")).parents('.cell').data().cell;\n",
       "      cell.output_area.append_execute_result(NB_LOAD_WARNING)\n",
       "    }\n",
       "\n",
       "  }\n",
       "\n",
       "  if (root._bokeh_is_loading === 0) {\n",
       "    console.log(\"Bokeh: BokehJS loaded, going straight to plotting\");\n",
       "    run_inline_js();\n",
       "  } else {\n",
       "    load_libs(js_urls, function() {\n",
       "      console.log(\"Bokeh: BokehJS plotting callback run at\", now());\n",
       "      run_inline_js();\n",
       "    });\n",
       "  }\n",
       "}(window));"
      ],
      "application/vnd.bokehjs_load.v0+json": "\n(function(root) {\n  function now() {\n    return new Date();\n  }\n\n  var force = true;\n\n  if (typeof (root._bokeh_onload_callbacks) === \"undefined\" || force === true) {\n    root._bokeh_onload_callbacks = [];\n    root._bokeh_is_loading = undefined;\n  }\n\n  \n\n  \n  if (typeof (root._bokeh_timeout) === \"undefined\" || force === true) {\n    root._bokeh_timeout = Date.now() + 5000;\n    root._bokeh_failed_load = false;\n  }\n\n  var NB_LOAD_WARNING = {'data': {'text/html':\n     \"<div style='background-color: #fdd'>\\n\"+\n     \"<p>\\n\"+\n     \"BokehJS does not appear to have successfully loaded. If loading BokehJS from CDN, this \\n\"+\n     \"may be due to a slow or bad network connection. Possible fixes:\\n\"+\n     \"</p>\\n\"+\n     \"<ul>\\n\"+\n     \"<li>re-rerun `output_notebook()` to attempt to load from CDN again, or</li>\\n\"+\n     \"<li>use INLINE resources instead, as so:</li>\\n\"+\n     \"</ul>\\n\"+\n     \"<code>\\n\"+\n     \"from bokeh.resources import INLINE\\n\"+\n     \"output_notebook(resources=INLINE)\\n\"+\n     \"</code>\\n\"+\n     \"</div>\"}};\n\n  function display_loaded() {\n    var el = document.getElementById(\"4e47218a-4f7c-440c-a5e0-e11c04de518d\");\n    if (el != null) {\n      el.textContent = \"BokehJS is loading...\";\n    }\n    if (root.Bokeh !== undefined) {\n      if (el != null) {\n        el.textContent = \"BokehJS \" + root.Bokeh.version + \" successfully loaded.\";\n      }\n    } else if (Date.now() < root._bokeh_timeout) {\n      setTimeout(display_loaded, 100)\n    }\n  }\n\n\n  function run_callbacks() {\n    try {\n      root._bokeh_onload_callbacks.forEach(function(callback) { callback() });\n    }\n    finally {\n      delete root._bokeh_onload_callbacks\n    }\n    console.info(\"Bokeh: all callbacks have finished\");\n  }\n\n  function load_libs(js_urls, callback) {\n    root._bokeh_onload_callbacks.push(callback);\n    if (root._bokeh_is_loading > 0) {\n      console.log(\"Bokeh: BokehJS is being loaded, scheduling callback at\", now());\n      return null;\n    }\n    if (js_urls == null || js_urls.length === 0) {\n      run_callbacks();\n      return null;\n    }\n    console.log(\"Bokeh: BokehJS not loaded, scheduling load and callback at\", now());\n    root._bokeh_is_loading = js_urls.length;\n    for (var i = 0; i < js_urls.length; i++) {\n      var url = js_urls[i];\n      var s = document.createElement('script');\n      s.src = url;\n      s.async = false;\n      s.onreadystatechange = s.onload = function() {\n        root._bokeh_is_loading--;\n        if (root._bokeh_is_loading === 0) {\n          console.log(\"Bokeh: all BokehJS libraries loaded\");\n          run_callbacks()\n        }\n      };\n      s.onerror = function() {\n        console.warn(\"failed to load library \" + url);\n      };\n      console.log(\"Bokeh: injecting script tag for BokehJS library: \", url);\n      document.getElementsByTagName(\"head\")[0].appendChild(s);\n    }\n  };var element = document.getElementById(\"4e47218a-4f7c-440c-a5e0-e11c04de518d\");\n  if (element == null) {\n    console.log(\"Bokeh: ERROR: autoload.js configured with elementid '4e47218a-4f7c-440c-a5e0-e11c04de518d' but no matching script tag was found. \")\n    return false;\n  }\n\n  var js_urls = [\"https://cdn.pydata.org/bokeh/release/bokeh-0.12.16.min.js\", \"https://cdn.pydata.org/bokeh/release/bokeh-widgets-0.12.16.min.js\", \"https://cdn.pydata.org/bokeh/release/bokeh-tables-0.12.16.min.js\", \"https://cdn.pydata.org/bokeh/release/bokeh-gl-0.12.16.min.js\"];\n\n  var inline_js = [\n    function(Bokeh) {\n      Bokeh.set_log_level(\"info\");\n    },\n    \n    function(Bokeh) {\n      \n    },\n    function(Bokeh) {\n      console.log(\"Bokeh: injecting CSS: https://cdn.pydata.org/bokeh/release/bokeh-0.12.16.min.css\");\n      Bokeh.embed.inject_css(\"https://cdn.pydata.org/bokeh/release/bokeh-0.12.16.min.css\");\n      console.log(\"Bokeh: injecting CSS: https://cdn.pydata.org/bokeh/release/bokeh-widgets-0.12.16.min.css\");\n      Bokeh.embed.inject_css(\"https://cdn.pydata.org/bokeh/release/bokeh-widgets-0.12.16.min.css\");\n      console.log(\"Bokeh: injecting CSS: https://cdn.pydata.org/bokeh/release/bokeh-tables-0.12.16.min.css\");\n      Bokeh.embed.inject_css(\"https://cdn.pydata.org/bokeh/release/bokeh-tables-0.12.16.min.css\");\n    }\n  ];\n\n  function run_inline_js() {\n    \n    if ((root.Bokeh !== undefined) || (force === true)) {\n      for (var i = 0; i < inline_js.length; i++) {\n        inline_js[i].call(root, root.Bokeh);\n      }if (force === true) {\n        display_loaded();\n      }} else if (Date.now() < root._bokeh_timeout) {\n      setTimeout(run_inline_js, 100);\n    } else if (!root._bokeh_failed_load) {\n      console.log(\"Bokeh: BokehJS failed to load within specified timeout.\");\n      root._bokeh_failed_load = true;\n    } else if (force !== true) {\n      var cell = $(document.getElementById(\"4e47218a-4f7c-440c-a5e0-e11c04de518d\")).parents('.cell').data().cell;\n      cell.output_area.append_execute_result(NB_LOAD_WARNING)\n    }\n\n  }\n\n  if (root._bokeh_is_loading === 0) {\n    console.log(\"Bokeh: BokehJS loaded, going straight to plotting\");\n    run_inline_js();\n  } else {\n    load_libs(js_urls, function() {\n      console.log(\"Bokeh: BokehJS plotting callback run at\", now());\n      run_inline_js();\n    });\n  }\n}(window));"
     },
     "metadata": {},
     "output_type": "display_data"
    }
   ],
   "source": [
    "%reload_ext autoreload\n",
    "%autoreload 2\n",
    "%matplotlib inline\n",
    "from IPython import display\n",
    "import pprint\n",
    "import pymongo\n",
    "import random\n",
    "from collections import defaultdict\n",
    "import numpy as np\n",
    "from bokeh.io import output_notebook\n",
    "from climatools.cliradlw.cliradlw_latest import *\n",
    "from climatools.html.html import *\n",
    "from climatools.spectrum import *\n",
    "from climatools.atm import *\n",
    "output_notebook()\n",
    "pd.set_option('max_colwidth', -1)"
   ]
  },
  {
   "cell_type": "markdown",
   "metadata": {},
   "source": [
    "# CLIRAD-LW latest  \n",
    "CLIRAD vs CRD (vs WGT igg=10)"
   ]
  },
  {
   "cell_type": "code",
   "execution_count": 299,
   "metadata": {
    "collapsed": true
   },
   "outputs": [],
   "source": [
    "CLIENT = pymongo.MongoClient(host='localhost', port=27017)"
   ]
  },
  {
   "cell_type": "code",
   "execution_count": 610,
   "metadata": {
    "collapsed": true,
    "scrolled": false
   },
   "outputs": [],
   "source": [
    "LINKS = pd.DataFrame()\n",
    "LINKS.columns.name = ['spectral band']\n",
    "LINKS.index.name = ['absorber(s)']"
   ]
  },
  {
   "cell_type": "code",
   "execution_count": 659,
   "metadata": {},
   "outputs": [
    {
     "data": {
      "text/html": [
       "<table border=\"1\" class=\"dataframe\">\n",
       "  <thead>\n",
       "    <tr style=\"text-align: right;\">\n",
       "      <th>[spectral band]</th>\n",
       "      <th>1</th>\n",
       "      <th>3</th>\n",
       "      <th>4</th>\n",
       "      <th>5</th>\n",
       "      <th>6</th>\n",
       "      <th>7</th>\n",
       "      <th>8</th>\n",
       "      <th>9</th>\n",
       "      <th>10</th>\n",
       "      <th>11</th>\n",
       "    </tr>\n",
       "    <tr>\n",
       "      <th>[absorber(s)]</th>\n",
       "      <th></th>\n",
       "      <th></th>\n",
       "      <th></th>\n",
       "      <th></th>\n",
       "      <th></th>\n",
       "      <th></th>\n",
       "      <th></th>\n",
       "      <th></th>\n",
       "      <th></th>\n",
       "      <th></th>\n",
       "    </tr>\n",
       "  </thead>\n",
       "  <tbody>\n",
       "    <tr>\n",
       "      <th>{'co2': 0.0004}</th>\n",
       "      <td></td>\n",
       "      <td><a href=\"https://nbviewer.jupyter.org/github/qap/analysis_-_new_kdist_param/blob/master/results_-_single_spectral_band/band03_-_h2o_0_co2_0.0004_o3_0_n2o_0_ch4_0.ipynb#mls\">mls</a> <a href=\"https://nbviewer.jupyter.org/github/qap/analysis_-_new_kdist_param/blob/master/results_-_single_spectral_band/band03_-_h2o_0_co2_0.0004_o3_0_n2o_0_ch4_0.ipynb#saw\">saw</a> <a href=\"https://nbviewer.jupyter.org/github/qap/analysis_-_new_kdist_param/blob/master/results_-_single_spectral_band/band03_-_h2o_0_co2_0.0004_o3_0_n2o_0_ch4_0.ipynb#trp\">trp</a></td>\n",
       "      <td><a href=\"https://nbviewer.jupyter.org/github/qap/analysis_-_new_kdist_param/blob/master/results_-_single_spectral_band/band04_-_h2o_0_co2_0.0004_o3_0_n2o_0_ch4_0.ipynb#mls\">mls</a> <a href=\"https://nbviewer.jupyter.org/github/qap/analysis_-_new_kdist_param/blob/master/results_-_single_spectral_band/band04_-_h2o_0_co2_0.0004_o3_0_n2o_0_ch4_0.ipynb#saw\">saw</a> <a href=\"https://nbviewer.jupyter.org/github/qap/analysis_-_new_kdist_param/blob/master/results_-_single_spectral_band/band04_-_h2o_0_co2_0.0004_o3_0_n2o_0_ch4_0.ipynb#trp\">trp</a></td>\n",
       "      <td></td>\n",
       "      <td></td>\n",
       "      <td></td>\n",
       "      <td></td>\n",
       "      <td></td>\n",
       "      <td></td>\n",
       "      <td></td>\n",
       "    </tr>\n",
       "    <tr>\n",
       "      <th>{'h2o': 'atmpro', 'co2': 0.0004, 'n2o': 3.2e-07}</th>\n",
       "      <td></td>\n",
       "      <td><a href=\"https://nbviewer.jupyter.org/github/qap/analysis_-_new_kdist_param/blob/master/results_-_single_spectral_band/band03_-_h2o_atmpro_co2_0.0004_o3_0_n2o_3.2e-07_ch4_0.ipynb#mls\">mls</a> <a href=\"https://nbviewer.jupyter.org/github/qap/analysis_-_new_kdist_param/blob/master/results_-_single_spectral_band/band03_-_h2o_atmpro_co2_0.0004_o3_0_n2o_3.2e-07_ch4_0.ipynb#saw\">saw</a> <a href=\"https://nbviewer.jupyter.org/github/qap/analysis_-_new_kdist_param/blob/master/results_-_single_spectral_band/band03_-_h2o_atmpro_co2_0.0004_o3_0_n2o_3.2e-07_ch4_0.ipynb#trp\">trp</a></td>\n",
       "      <td></td>\n",
       "      <td></td>\n",
       "      <td></td>\n",
       "      <td></td>\n",
       "      <td></td>\n",
       "      <td></td>\n",
       "      <td></td>\n",
       "      <td></td>\n",
       "    </tr>\n",
       "    <tr>\n",
       "      <th>{'h2o': 'atmpro', 'co2': 0.0004, 'o3': 'atmpro'}</th>\n",
       "      <td></td>\n",
       "      <td></td>\n",
       "      <td></td>\n",
       "      <td></td>\n",
       "      <td></td>\n",
       "      <td><a href=\"https://nbviewer.jupyter.org/github/qap/analysis_-_new_kdist_param/blob/master/results_-_single_spectral_band/band07_-_h2o_atmpro_co2_0.0004_o3_atmpro_n2o_0_ch4_0.ipynb#mls\">mls</a> <a href=\"https://nbviewer.jupyter.org/github/qap/analysis_-_new_kdist_param/blob/master/results_-_single_spectral_band/band07_-_h2o_atmpro_co2_0.0004_o3_atmpro_n2o_0_ch4_0.ipynb#saw\">saw</a> <a href=\"https://nbviewer.jupyter.org/github/qap/analysis_-_new_kdist_param/blob/master/results_-_single_spectral_band/band07_-_h2o_atmpro_co2_0.0004_o3_atmpro_n2o_0_ch4_0.ipynb#trp\">trp</a></td>\n",
       "      <td></td>\n",
       "      <td></td>\n",
       "      <td></td>\n",
       "      <td></td>\n",
       "    </tr>\n",
       "    <tr>\n",
       "      <th>{'h2o': 'atmpro', 'co2': 0.0004}</th>\n",
       "      <td></td>\n",
       "      <td></td>\n",
       "      <td><a href=\"https://nbviewer.jupyter.org/github/qap/analysis_-_new_kdist_param/blob/master/results_-_single_spectral_band/band04_-_h2o_atmpro_co2_0.0004_o3_0_n2o_0_ch4_0.ipynb#mls\">mls</a> <a href=\"https://nbviewer.jupyter.org/github/qap/analysis_-_new_kdist_param/blob/master/results_-_single_spectral_band/band04_-_h2o_atmpro_co2_0.0004_o3_0_n2o_0_ch4_0.ipynb#saw\">saw</a> <a href=\"https://nbviewer.jupyter.org/github/qap/analysis_-_new_kdist_param/blob/master/results_-_single_spectral_band/band04_-_h2o_atmpro_co2_0.0004_o3_0_n2o_0_ch4_0.ipynb#trp\">trp</a></td>\n",
       "      <td><a href=\"https://nbviewer.jupyter.org/github/qap/analysis_-_new_kdist_param/blob/master/results_-_single_spectral_band/band05_-_h2o_atmpro_co2_0.0004_o3_0_n2o_0_ch4_0.ipynb#mls\">mls</a> <a href=\"https://nbviewer.jupyter.org/github/qap/analysis_-_new_kdist_param/blob/master/results_-_single_spectral_band/band05_-_h2o_atmpro_co2_0.0004_o3_0_n2o_0_ch4_0.ipynb#saw\">saw</a> <a href=\"https://nbviewer.jupyter.org/github/qap/analysis_-_new_kdist_param/blob/master/results_-_single_spectral_band/band05_-_h2o_atmpro_co2_0.0004_o3_0_n2o_0_ch4_0.ipynb#trp\">trp</a></td>\n",
       "      <td><a href=\"https://nbviewer.jupyter.org/github/qap/analysis_-_new_kdist_param/blob/master/results_-_single_spectral_band/band06_-_h2o_atmpro_co2_0.0004_o3_0_n2o_0_ch4_0.ipynb#mls\">mls</a> <a href=\"https://nbviewer.jupyter.org/github/qap/analysis_-_new_kdist_param/blob/master/results_-_single_spectral_band/band06_-_h2o_atmpro_co2_0.0004_o3_0_n2o_0_ch4_0.ipynb#saw\">saw</a> <a href=\"https://nbviewer.jupyter.org/github/qap/analysis_-_new_kdist_param/blob/master/results_-_single_spectral_band/band06_-_h2o_atmpro_co2_0.0004_o3_0_n2o_0_ch4_0.ipynb#trp\">trp</a></td>\n",
       "      <td></td>\n",
       "      <td></td>\n",
       "      <td></td>\n",
       "      <td></td>\n",
       "      <td><a href=\"https://nbviewer.jupyter.org/github/qap/analysis_-_new_kdist_param/blob/master/results_-_single_spectral_band/band11_-_h2o_atmpro_co2_0.0004_o3_0_n2o_0_ch4_0.ipynb#mls\">mls</a> <a href=\"https://nbviewer.jupyter.org/github/qap/analysis_-_new_kdist_param/blob/master/results_-_single_spectral_band/band11_-_h2o_atmpro_co2_0.0004_o3_0_n2o_0_ch4_0.ipynb#saw\">saw</a> <a href=\"https://nbviewer.jupyter.org/github/qap/analysis_-_new_kdist_param/blob/master/results_-_single_spectral_band/band11_-_h2o_atmpro_co2_0.0004_o3_0_n2o_0_ch4_0.ipynb#trp\">trp</a></td>\n",
       "    </tr>\n",
       "    <tr>\n",
       "      <th>{'h2o': 'atmpro', 'n2o': 3.2e-07, 'ch4': 1.8e-06}</th>\n",
       "      <td></td>\n",
       "      <td></td>\n",
       "      <td></td>\n",
       "      <td></td>\n",
       "      <td></td>\n",
       "      <td></td>\n",
       "      <td></td>\n",
       "      <td><a href=\"https://nbviewer.jupyter.org/github/qap/analysis_-_new_kdist_param/blob/master/results_-_single_spectral_band/band09_-_h2o_atmpro_co2_0_o3_0_n2o_3.2e-07_ch4_1.8e-06.ipynb#mls\">mls</a> <a href=\"https://nbviewer.jupyter.org/github/qap/analysis_-_new_kdist_param/blob/master/results_-_single_spectral_band/band09_-_h2o_atmpro_co2_0_o3_0_n2o_3.2e-07_ch4_1.8e-06.ipynb#saw\">saw</a> <a href=\"https://nbviewer.jupyter.org/github/qap/analysis_-_new_kdist_param/blob/master/results_-_single_spectral_band/band09_-_h2o_atmpro_co2_0_o3_0_n2o_3.2e-07_ch4_1.8e-06.ipynb#trp\">trp</a></td>\n",
       "      <td></td>\n",
       "      <td></td>\n",
       "    </tr>\n",
       "    <tr>\n",
       "      <th>{'h2o': 'atmpro'}</th>\n",
       "      <td><a href=\"https://nbviewer.jupyter.org/github/qap/analysis_-_new_kdist_param/blob/master/results_-_single_spectral_band/band01_-_h2o_atmpro_co2_0_o3_0_n2o_0_ch4_0.ipynb#mls\">mls</a> <a href=\"https://nbviewer.jupyter.org/github/qap/analysis_-_new_kdist_param/blob/master/results_-_single_spectral_band/band01_-_h2o_atmpro_co2_0_o3_0_n2o_0_ch4_0.ipynb#saw\">saw</a> <a href=\"https://nbviewer.jupyter.org/github/qap/analysis_-_new_kdist_param/blob/master/results_-_single_spectral_band/band01_-_h2o_atmpro_co2_0_o3_0_n2o_0_ch4_0.ipynb#trp\">trp</a></td>\n",
       "      <td></td>\n",
       "      <td></td>\n",
       "      <td></td>\n",
       "      <td></td>\n",
       "      <td></td>\n",
       "      <td><a href=\"https://nbviewer.jupyter.org/github/qap/analysis_-_new_kdist_param/blob/master/results_-_single_spectral_band/band08_-_h2o_atmpro_co2_0_o3_0_n2o_0_ch4_0.ipynb#mls\">mls</a> <a href=\"https://nbviewer.jupyter.org/github/qap/analysis_-_new_kdist_param/blob/master/results_-_single_spectral_band/band08_-_h2o_atmpro_co2_0_o3_0_n2o_0_ch4_0.ipynb#saw\">saw</a> <a href=\"https://nbviewer.jupyter.org/github/qap/analysis_-_new_kdist_param/blob/master/results_-_single_spectral_band/band08_-_h2o_atmpro_co2_0_o3_0_n2o_0_ch4_0.ipynb#trp\">trp</a></td>\n",
       "      <td></td>\n",
       "      <td><a href=\"https://nbviewer.jupyter.org/github/qap/analysis_-_new_kdist_param/blob/master/results_-_single_spectral_band/band10_-_h2o_atmpro_co2_0_o3_0_n2o_0_ch4_0.ipynb#mls\">mls</a> <a href=\"https://nbviewer.jupyter.org/github/qap/analysis_-_new_kdist_param/blob/master/results_-_single_spectral_band/band10_-_h2o_atmpro_co2_0_o3_0_n2o_0_ch4_0.ipynb#saw\">saw</a> <a href=\"https://nbviewer.jupyter.org/github/qap/analysis_-_new_kdist_param/blob/master/results_-_single_spectral_band/band10_-_h2o_atmpro_co2_0_o3_0_n2o_0_ch4_0.ipynb#trp\">trp</a></td>\n",
       "      <td></td>\n",
       "    </tr>\n",
       "    <tr>\n",
       "      <th>{'o3': 'atmpro'}</th>\n",
       "      <td></td>\n",
       "      <td></td>\n",
       "      <td></td>\n",
       "      <td></td>\n",
       "      <td></td>\n",
       "      <td><a href=\"https://nbviewer.jupyter.org/github/qap/analysis_-_new_kdist_param/blob/master/results_-_single_spectral_band/band07_-_h2o_0_co2_0_o3_atmpro_n2o_0_ch4_0.ipynb#mls\">mls</a> <a href=\"https://nbviewer.jupyter.org/github/qap/analysis_-_new_kdist_param/blob/master/results_-_single_spectral_band/band07_-_h2o_0_co2_0_o3_atmpro_n2o_0_ch4_0.ipynb#saw\">saw</a> <a href=\"https://nbviewer.jupyter.org/github/qap/analysis_-_new_kdist_param/blob/master/results_-_single_spectral_band/band07_-_h2o_0_co2_0_o3_atmpro_n2o_0_ch4_0.ipynb#trp\">trp</a></td>\n",
       "      <td></td>\n",
       "      <td></td>\n",
       "      <td></td>\n",
       "      <td></td>\n",
       "    </tr>\n",
       "  </tbody>\n",
       "</table>"
      ],
      "text/plain": [
       "<IPython.core.display.HTML object>"
      ]
     },
     "metadata": {},
     "output_type": "display_data"
    }
   ],
   "source": [
    "LINKS.fillna('', inplace=True)\n",
    "LINKS.sort_index(axis=1, inplace=True)\n",
    "LINKS.sort_index(axis=0, inplace=True)\n",
    "display.display(display.HTML(LINKS.to_html(escape=False)))"
   ]
  },
  {
   "cell_type": "code",
   "execution_count": 636,
   "metadata": {
    "collapsed": true
   },
   "outputs": [],
   "source": [
    "def html_case(band=None, molecule=None):\n",
    "    allgs = {g: molecule[g] if g in molecule else 0 for g in ('h2o', 'co2', 'o3', 'n2o', 'ch4')}\n",
    "    allgs = '_'.join(f\"{g}_{conc}\" for g, conc in allgs.items())\n",
    "    fname = f'''band{band:02d}_-_{allgs}.ipynb'''\n",
    "    furl = (f'''https://nbviewer.jupyter.org/github/qap/analysis_-_new_kdist_param/'''\n",
    "            f'''blob/master/results_-_single_spectral_band/{fname}''')\n",
    "    urls = {atmpro:furl + f'#{atmpro}' for atmpro in ATMPRO.keys()}\n",
    "    htmls = [f'''<a href=\"{url}\">{atmpro}</a>''' for atmpro, url in urls.items()]\n",
    "    return ' '.join(htmls)\n",
    "\n",
    "def update_table(df, band=None, molecule=None):\n",
    "    if band == None or molecule == None: return df\n",
    "    html = html_case(band=band, molecule=molecule)\n",
    "    df.loc[str(molecule), band] = html"
   ]
  },
  {
   "cell_type": "markdown",
   "metadata": {
    "heading_collapsed": true
   },
   "source": [
    "### $H_2O$ "
   ]
  },
  {
   "cell_type": "code",
   "execution_count": 625,
   "metadata": {
    "collapsed": true,
    "hidden": true
   },
   "outputs": [],
   "source": [
    "band, molecule = 1, {'h2o':'atmpro'}\n",
    "html = html_case(band=band, molecule=molecule)\n",
    "LINKS.loc[str(molecule), band] = html"
   ]
  },
  {
   "cell_type": "code",
   "execution_count": 632,
   "metadata": {
    "collapsed": true,
    "hidden": true
   },
   "outputs": [],
   "source": [
    "band, molecule = 3, {'h2o':'atmpro', 'co2':400e-6, 'n2o':3.2e-7}\n",
    "html = html_case(band=band, molecule=molecule)\n",
    "LINKS.loc[str(molecule), band] = html"
   ]
  },
  {
   "cell_type": "code",
   "execution_count": 637,
   "metadata": {
    "collapsed": true,
    "hidden": true
   },
   "outputs": [],
   "source": [
    "band, molecule = 4, {'h2o':'atmpro', 'co2':400e-6}\n",
    "html = html_case(band=band, molecule=molecule)\n",
    "LINKS.loc[str(molecule), band] = html"
   ]
  },
  {
   "cell_type": "code",
   "execution_count": 639,
   "metadata": {
    "collapsed": true,
    "hidden": true
   },
   "outputs": [],
   "source": [
    "band, molecule = 5, {'h2o':'atmpro', 'co2':400e-6}\n",
    "update_table(LINKS, band=band, molecule=molecule)"
   ]
  },
  {
   "cell_type": "code",
   "execution_count": 641,
   "metadata": {
    "collapsed": true,
    "hidden": true
   },
   "outputs": [],
   "source": [
    "band, molecule = 6, {'h2o':'atmpro', 'co2':400e-6}\n",
    "update_table(LINKS, band=band, molecule=molecule)"
   ]
  },
  {
   "cell_type": "code",
   "execution_count": 645,
   "metadata": {
    "collapsed": true,
    "hidden": true
   },
   "outputs": [],
   "source": [
    "band, molecule = 7, {'h2o':'atmpro', 'co2':400e-6, 'o3':'atmpro'}\n",
    "update_table(LINKS, band=band, molecule=molecule)"
   ]
  },
  {
   "cell_type": "code",
   "execution_count": 644,
   "metadata": {
    "collapsed": true,
    "hidden": true
   },
   "outputs": [],
   "source": [
    "band, molecule = 8, {'h2o':'atmpro'}\n",
    "update_table(LINKS, band=band, molecule=molecule)"
   ]
  },
  {
   "cell_type": "code",
   "execution_count": 648,
   "metadata": {
    "collapsed": true,
    "hidden": true
   },
   "outputs": [],
   "source": [
    "band, molecule = 9, {'h2o':'atmpro', 'n2o':3.2e-7, 'ch4':1.8e-6}\n",
    "update_table(LINKS, band=band, molecule=molecule)"
   ]
  },
  {
   "cell_type": "code",
   "execution_count": 649,
   "metadata": {
    "collapsed": true,
    "hidden": true
   },
   "outputs": [],
   "source": [
    "band, molecule = 10, {'h2o':'atmpro'}\n",
    "update_table(LINKS, band=band, molecule=molecule)"
   ]
  },
  {
   "cell_type": "code",
   "execution_count": 652,
   "metadata": {
    "collapsed": true,
    "hidden": true
   },
   "outputs": [],
   "source": [
    "band, molecule = 11, {'h2o':'atmpro', 'co2':400e-6}\n",
    "update_table(LINKS, band=band, molecule=molecule)"
   ]
  },
  {
   "cell_type": "markdown",
   "metadata": {},
   "source": [
    "### $CO_2$"
   ]
  },
  {
   "cell_type": "code",
   "execution_count": 655,
   "metadata": {
    "collapsed": true
   },
   "outputs": [],
   "source": [
    "band, molecule = 3, {'co2':400e-6}\n",
    "update_table(LINKS, band=band, molecule=molecule)"
   ]
  },
  {
   "cell_type": "code",
   "execution_count": 656,
   "metadata": {
    "collapsed": true
   },
   "outputs": [],
   "source": [
    "band, molecule = 4, {'co2':400e-6}\n",
    "update_table(LINKS, band=band, molecule=molecule)"
   ]
  },
  {
   "cell_type": "markdown",
   "metadata": {},
   "source": [
    "### $O_3$"
   ]
  },
  {
   "cell_type": "code",
   "execution_count": 658,
   "metadata": {
    "collapsed": true
   },
   "outputs": [],
   "source": [
    "band, molecule = 7, {'o3':'atmpro'}\n",
    "update_table(LINKS, band=band, molecule=molecule)"
   ]
  },
  {
   "cell_type": "code",
   "execution_count": null,
   "metadata": {
    "collapsed": true
   },
   "outputs": [],
   "source": []
  },
  {
   "cell_type": "code",
   "execution_count": null,
   "metadata": {
    "collapsed": true
   },
   "outputs": [],
   "source": []
  },
  {
   "cell_type": "code",
   "execution_count": null,
   "metadata": {
    "collapsed": true
   },
   "outputs": [],
   "source": []
  },
  {
   "cell_type": "markdown",
   "metadata": {},
   "source": [
    "# Fin"
   ]
  },
  {
   "cell_type": "code",
   "execution_count": 650,
   "metadata": {},
   "outputs": [
    {
     "data": {
      "text/html": [
       "<script>\n",
       "code_show=true; \n",
       "function code_toggle() {\n",
       " if (code_show){\n",
       " $('div.input').hide();\n",
       " } else {\n",
       " $('div.input').show();\n",
       " }\n",
       " code_show = !code_show\n",
       "} \n",
       "$( document ).ready(code_toggle);\n",
       "</script>\n",
       "<form action=\"javascript:code_toggle()\"><input type=\"submit\" value=\"Click here to toggle on/off the raw code.\"></form>"
      ],
      "text/plain": [
       "<IPython.core.display.HTML object>"
      ]
     },
     "execution_count": 650,
     "metadata": {},
     "output_type": "execute_result"
    }
   ],
   "source": [
    "display.HTML('''<script>\n",
    "code_show=true; \n",
    "function code_toggle() {\n",
    " if (code_show){\n",
    " $('div.input').hide();\n",
    " } else {\n",
    " $('div.input').show();\n",
    " }\n",
    " code_show = !code_show\n",
    "} \n",
    "$( document ).ready(code_toggle);\n",
    "</script>\n",
    "<form action=\"javascript:code_toggle()\"><input type=\"submit\" value=\"Click here to toggle on/off the raw code.\"></form>''')\n"
   ]
  },
  {
   "cell_type": "code",
   "execution_count": null,
   "metadata": {
    "collapsed": true
   },
   "outputs": [],
   "source": []
  }
 ],
 "metadata": {
  "kernelspec": {
   "display_name": "Python 3",
   "language": "python",
   "name": "python3"
  },
  "language_info": {
   "codemirror_mode": {
    "name": "ipython",
    "version": 3
   },
   "file_extension": ".py",
   "mimetype": "text/x-python",
   "name": "python",
   "nbconvert_exporter": "python",
   "pygments_lexer": "ipython3",
   "version": "3.6.7"
  }
 },
 "nbformat": 4,
 "nbformat_minor": 2
}
