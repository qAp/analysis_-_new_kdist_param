{
 "cells": [
  {
   "cell_type": "code",
   "execution_count": 2,
   "metadata": {
    "collapsed": true
   },
   "outputs": [],
   "source": [
    "%reload_ext autoreload\n",
    "%autoreload 2\n",
    "\n",
    "import os\n",
    "import pprint\n",
    "\n",
    "import pymongo\n",
    "\n",
    "from bokeh.io import output_notebook, show\n",
    "from bokeh.layouts import gridplot\n",
    "from bokeh.plotting import figure\n",
    "from bokeh.models import ColumnDataSource\n",
    "from bokeh.palettes import all_palettes\n",
    "\n",
    "from climatools.atm import *\n",
    "from climatools.dataset import *\n",
    "from climatools.spectrum import *\n",
    "from climatools.html.html import *\n",
    "from climatools.plot.plot import *\n",
    "from climatools.lblnew.bestfit_params import *\n",
    "\n",
    "from IPython import display"
   ]
  },
  {
   "cell_type": "code",
   "execution_count": 3,
   "metadata": {
    "scrolled": true
   },
   "outputs": [
    {
     "data": {
      "text/html": [
       "\n",
       "    <div class=\"bk-root\">\n",
       "        <a href=\"https://bokeh.pydata.org\" target=\"_blank\" class=\"bk-logo bk-logo-small bk-logo-notebook\"></a>\n",
       "        <span id=\"82d143c6-0f5c-4531-a520-d900602bfc61\">Loading BokehJS ...</span>\n",
       "    </div>"
      ]
     },
     "metadata": {},
     "output_type": "display_data"
    },
    {
     "data": {
      "application/javascript": [
       "\n",
       "(function(root) {\n",
       "  function now() {\n",
       "    return new Date();\n",
       "  }\n",
       "\n",
       "  var force = true;\n",
       "\n",
       "  if (typeof (root._bokeh_onload_callbacks) === \"undefined\" || force === true) {\n",
       "    root._bokeh_onload_callbacks = [];\n",
       "    root._bokeh_is_loading = undefined;\n",
       "  }\n",
       "\n",
       "  var JS_MIME_TYPE = 'application/javascript';\n",
       "  var HTML_MIME_TYPE = 'text/html';\n",
       "  var EXEC_MIME_TYPE = 'application/vnd.bokehjs_exec.v0+json';\n",
       "  var CLASS_NAME = 'output_bokeh rendered_html';\n",
       "\n",
       "  /**\n",
       "   * Render data to the DOM node\n",
       "   */\n",
       "  function render(props, node) {\n",
       "    var script = document.createElement(\"script\");\n",
       "    node.appendChild(script);\n",
       "  }\n",
       "\n",
       "  /**\n",
       "   * Handle when an output is cleared or removed\n",
       "   */\n",
       "  function handleClearOutput(event, handle) {\n",
       "    var cell = handle.cell;\n",
       "\n",
       "    var id = cell.output_area._bokeh_element_id;\n",
       "    var server_id = cell.output_area._bokeh_server_id;\n",
       "    // Clean up Bokeh references\n",
       "    if (id !== undefined) {\n",
       "      Bokeh.index[id].model.document.clear();\n",
       "      delete Bokeh.index[id];\n",
       "    }\n",
       "\n",
       "    if (server_id !== undefined) {\n",
       "      // Clean up Bokeh references\n",
       "      var cmd = \"from bokeh.io.state import curstate; print(curstate().uuid_to_server['\" + server_id + \"'].get_sessions()[0].document.roots[0]._id)\";\n",
       "      cell.notebook.kernel.execute(cmd, {\n",
       "        iopub: {\n",
       "          output: function(msg) {\n",
       "            var element_id = msg.content.text.trim();\n",
       "            Bokeh.index[element_id].model.document.clear();\n",
       "            delete Bokeh.index[element_id];\n",
       "          }\n",
       "        }\n",
       "      });\n",
       "      // Destroy server and session\n",
       "      var cmd = \"import bokeh.io.notebook as ion; ion.destroy_server('\" + server_id + \"')\";\n",
       "      cell.notebook.kernel.execute(cmd);\n",
       "    }\n",
       "  }\n",
       "\n",
       "  /**\n",
       "   * Handle when a new output is added\n",
       "   */\n",
       "  function handleAddOutput(event, handle) {\n",
       "    var output_area = handle.output_area;\n",
       "    var output = handle.output;\n",
       "\n",
       "    // limit handleAddOutput to display_data with EXEC_MIME_TYPE content only\n",
       "    if ((output.output_type != \"display_data\") || (!output.data.hasOwnProperty(EXEC_MIME_TYPE))) {\n",
       "      return\n",
       "    }\n",
       "\n",
       "    var toinsert = output_area.element.find(\".\" + CLASS_NAME.split(' ')[0]);\n",
       "\n",
       "    if (output.metadata[EXEC_MIME_TYPE][\"id\"] !== undefined) {\n",
       "      toinsert[toinsert.length - 1].firstChild.textContent = output.data[JS_MIME_TYPE];\n",
       "      // store reference to embed id on output_area\n",
       "      output_area._bokeh_element_id = output.metadata[EXEC_MIME_TYPE][\"id\"];\n",
       "    }\n",
       "    if (output.metadata[EXEC_MIME_TYPE][\"server_id\"] !== undefined) {\n",
       "      var bk_div = document.createElement(\"div\");\n",
       "      bk_div.innerHTML = output.data[HTML_MIME_TYPE];\n",
       "      var script_attrs = bk_div.children[0].attributes;\n",
       "      for (var i = 0; i < script_attrs.length; i++) {\n",
       "        toinsert[toinsert.length - 1].firstChild.setAttribute(script_attrs[i].name, script_attrs[i].value);\n",
       "      }\n",
       "      // store reference to server id on output_area\n",
       "      output_area._bokeh_server_id = output.metadata[EXEC_MIME_TYPE][\"server_id\"];\n",
       "    }\n",
       "  }\n",
       "\n",
       "  function register_renderer(events, OutputArea) {\n",
       "\n",
       "    function append_mime(data, metadata, element) {\n",
       "      // create a DOM node to render to\n",
       "      var toinsert = this.create_output_subarea(\n",
       "        metadata,\n",
       "        CLASS_NAME,\n",
       "        EXEC_MIME_TYPE\n",
       "      );\n",
       "      this.keyboard_manager.register_events(toinsert);\n",
       "      // Render to node\n",
       "      var props = {data: data, metadata: metadata[EXEC_MIME_TYPE]};\n",
       "      render(props, toinsert[toinsert.length - 1]);\n",
       "      element.append(toinsert);\n",
       "      return toinsert\n",
       "    }\n",
       "\n",
       "    /* Handle when an output is cleared or removed */\n",
       "    events.on('clear_output.CodeCell', handleClearOutput);\n",
       "    events.on('delete.Cell', handleClearOutput);\n",
       "\n",
       "    /* Handle when a new output is added */\n",
       "    events.on('output_added.OutputArea', handleAddOutput);\n",
       "\n",
       "    /**\n",
       "     * Register the mime type and append_mime function with output_area\n",
       "     */\n",
       "    OutputArea.prototype.register_mime_type(EXEC_MIME_TYPE, append_mime, {\n",
       "      /* Is output safe? */\n",
       "      safe: true,\n",
       "      /* Index of renderer in `output_area.display_order` */\n",
       "      index: 0\n",
       "    });\n",
       "  }\n",
       "\n",
       "  // register the mime type if in Jupyter Notebook environment and previously unregistered\n",
       "  if (root.Jupyter !== undefined) {\n",
       "    var events = require('base/js/events');\n",
       "    var OutputArea = require('notebook/js/outputarea').OutputArea;\n",
       "\n",
       "    if (OutputArea.prototype.mime_types().indexOf(EXEC_MIME_TYPE) == -1) {\n",
       "      register_renderer(events, OutputArea);\n",
       "    }\n",
       "  }\n",
       "\n",
       "  \n",
       "  if (typeof (root._bokeh_timeout) === \"undefined\" || force === true) {\n",
       "    root._bokeh_timeout = Date.now() + 5000;\n",
       "    root._bokeh_failed_load = false;\n",
       "  }\n",
       "\n",
       "  var NB_LOAD_WARNING = {'data': {'text/html':\n",
       "     \"<div style='background-color: #fdd'>\\n\"+\n",
       "     \"<p>\\n\"+\n",
       "     \"BokehJS does not appear to have successfully loaded. If loading BokehJS from CDN, this \\n\"+\n",
       "     \"may be due to a slow or bad network connection. Possible fixes:\\n\"+\n",
       "     \"</p>\\n\"+\n",
       "     \"<ul>\\n\"+\n",
       "     \"<li>re-rerun `output_notebook()` to attempt to load from CDN again, or</li>\\n\"+\n",
       "     \"<li>use INLINE resources instead, as so:</li>\\n\"+\n",
       "     \"</ul>\\n\"+\n",
       "     \"<code>\\n\"+\n",
       "     \"from bokeh.resources import INLINE\\n\"+\n",
       "     \"output_notebook(resources=INLINE)\\n\"+\n",
       "     \"</code>\\n\"+\n",
       "     \"</div>\"}};\n",
       "\n",
       "  function display_loaded() {\n",
       "    var el = document.getElementById(\"82d143c6-0f5c-4531-a520-d900602bfc61\");\n",
       "    if (el != null) {\n",
       "      el.textContent = \"BokehJS is loading...\";\n",
       "    }\n",
       "    if (root.Bokeh !== undefined) {\n",
       "      if (el != null) {\n",
       "        el.textContent = \"BokehJS \" + root.Bokeh.version + \" successfully loaded.\";\n",
       "      }\n",
       "    } else if (Date.now() < root._bokeh_timeout) {\n",
       "      setTimeout(display_loaded, 100)\n",
       "    }\n",
       "  }\n",
       "\n",
       "\n",
       "  function run_callbacks() {\n",
       "    try {\n",
       "      root._bokeh_onload_callbacks.forEach(function(callback) { callback() });\n",
       "    }\n",
       "    finally {\n",
       "      delete root._bokeh_onload_callbacks\n",
       "    }\n",
       "    console.info(\"Bokeh: all callbacks have finished\");\n",
       "  }\n",
       "\n",
       "  function load_libs(js_urls, callback) {\n",
       "    root._bokeh_onload_callbacks.push(callback);\n",
       "    if (root._bokeh_is_loading > 0) {\n",
       "      console.log(\"Bokeh: BokehJS is being loaded, scheduling callback at\", now());\n",
       "      return null;\n",
       "    }\n",
       "    if (js_urls == null || js_urls.length === 0) {\n",
       "      run_callbacks();\n",
       "      return null;\n",
       "    }\n",
       "    console.log(\"Bokeh: BokehJS not loaded, scheduling load and callback at\", now());\n",
       "    root._bokeh_is_loading = js_urls.length;\n",
       "    for (var i = 0; i < js_urls.length; i++) {\n",
       "      var url = js_urls[i];\n",
       "      var s = document.createElement('script');\n",
       "      s.src = url;\n",
       "      s.async = false;\n",
       "      s.onreadystatechange = s.onload = function() {\n",
       "        root._bokeh_is_loading--;\n",
       "        if (root._bokeh_is_loading === 0) {\n",
       "          console.log(\"Bokeh: all BokehJS libraries loaded\");\n",
       "          run_callbacks()\n",
       "        }\n",
       "      };\n",
       "      s.onerror = function() {\n",
       "        console.warn(\"failed to load library \" + url);\n",
       "      };\n",
       "      console.log(\"Bokeh: injecting script tag for BokehJS library: \", url);\n",
       "      document.getElementsByTagName(\"head\")[0].appendChild(s);\n",
       "    }\n",
       "  };var element = document.getElementById(\"82d143c6-0f5c-4531-a520-d900602bfc61\");\n",
       "  if (element == null) {\n",
       "    console.log(\"Bokeh: ERROR: autoload.js configured with elementid '82d143c6-0f5c-4531-a520-d900602bfc61' but no matching script tag was found. \")\n",
       "    return false;\n",
       "  }\n",
       "\n",
       "  var js_urls = [\"https://cdn.pydata.org/bokeh/release/bokeh-0.12.16.min.js\", \"https://cdn.pydata.org/bokeh/release/bokeh-widgets-0.12.16.min.js\", \"https://cdn.pydata.org/bokeh/release/bokeh-tables-0.12.16.min.js\", \"https://cdn.pydata.org/bokeh/release/bokeh-gl-0.12.16.min.js\"];\n",
       "\n",
       "  var inline_js = [\n",
       "    function(Bokeh) {\n",
       "      Bokeh.set_log_level(\"info\");\n",
       "    },\n",
       "    \n",
       "    function(Bokeh) {\n",
       "      \n",
       "    },\n",
       "    function(Bokeh) {\n",
       "      console.log(\"Bokeh: injecting CSS: https://cdn.pydata.org/bokeh/release/bokeh-0.12.16.min.css\");\n",
       "      Bokeh.embed.inject_css(\"https://cdn.pydata.org/bokeh/release/bokeh-0.12.16.min.css\");\n",
       "      console.log(\"Bokeh: injecting CSS: https://cdn.pydata.org/bokeh/release/bokeh-widgets-0.12.16.min.css\");\n",
       "      Bokeh.embed.inject_css(\"https://cdn.pydata.org/bokeh/release/bokeh-widgets-0.12.16.min.css\");\n",
       "      console.log(\"Bokeh: injecting CSS: https://cdn.pydata.org/bokeh/release/bokeh-tables-0.12.16.min.css\");\n",
       "      Bokeh.embed.inject_css(\"https://cdn.pydata.org/bokeh/release/bokeh-tables-0.12.16.min.css\");\n",
       "    }\n",
       "  ];\n",
       "\n",
       "  function run_inline_js() {\n",
       "    \n",
       "    if ((root.Bokeh !== undefined) || (force === true)) {\n",
       "      for (var i = 0; i < inline_js.length; i++) {\n",
       "        inline_js[i].call(root, root.Bokeh);\n",
       "      }if (force === true) {\n",
       "        display_loaded();\n",
       "      }} else if (Date.now() < root._bokeh_timeout) {\n",
       "      setTimeout(run_inline_js, 100);\n",
       "    } else if (!root._bokeh_failed_load) {\n",
       "      console.log(\"Bokeh: BokehJS failed to load within specified timeout.\");\n",
       "      root._bokeh_failed_load = true;\n",
       "    } else if (force !== true) {\n",
       "      var cell = $(document.getElementById(\"82d143c6-0f5c-4531-a520-d900602bfc61\")).parents('.cell').data().cell;\n",
       "      cell.output_area.append_execute_result(NB_LOAD_WARNING)\n",
       "    }\n",
       "\n",
       "  }\n",
       "\n",
       "  if (root._bokeh_is_loading === 0) {\n",
       "    console.log(\"Bokeh: BokehJS loaded, going straight to plotting\");\n",
       "    run_inline_js();\n",
       "  } else {\n",
       "    load_libs(js_urls, function() {\n",
       "      console.log(\"Bokeh: BokehJS plotting callback run at\", now());\n",
       "      run_inline_js();\n",
       "    });\n",
       "  }\n",
       "}(window));"
      ],
      "application/vnd.bokehjs_load.v0+json": "\n(function(root) {\n  function now() {\n    return new Date();\n  }\n\n  var force = true;\n\n  if (typeof (root._bokeh_onload_callbacks) === \"undefined\" || force === true) {\n    root._bokeh_onload_callbacks = [];\n    root._bokeh_is_loading = undefined;\n  }\n\n  \n\n  \n  if (typeof (root._bokeh_timeout) === \"undefined\" || force === true) {\n    root._bokeh_timeout = Date.now() + 5000;\n    root._bokeh_failed_load = false;\n  }\n\n  var NB_LOAD_WARNING = {'data': {'text/html':\n     \"<div style='background-color: #fdd'>\\n\"+\n     \"<p>\\n\"+\n     \"BokehJS does not appear to have successfully loaded. If loading BokehJS from CDN, this \\n\"+\n     \"may be due to a slow or bad network connection. Possible fixes:\\n\"+\n     \"</p>\\n\"+\n     \"<ul>\\n\"+\n     \"<li>re-rerun `output_notebook()` to attempt to load from CDN again, or</li>\\n\"+\n     \"<li>use INLINE resources instead, as so:</li>\\n\"+\n     \"</ul>\\n\"+\n     \"<code>\\n\"+\n     \"from bokeh.resources import INLINE\\n\"+\n     \"output_notebook(resources=INLINE)\\n\"+\n     \"</code>\\n\"+\n     \"</div>\"}};\n\n  function display_loaded() {\n    var el = document.getElementById(\"82d143c6-0f5c-4531-a520-d900602bfc61\");\n    if (el != null) {\n      el.textContent = \"BokehJS is loading...\";\n    }\n    if (root.Bokeh !== undefined) {\n      if (el != null) {\n        el.textContent = \"BokehJS \" + root.Bokeh.version + \" successfully loaded.\";\n      }\n    } else if (Date.now() < root._bokeh_timeout) {\n      setTimeout(display_loaded, 100)\n    }\n  }\n\n\n  function run_callbacks() {\n    try {\n      root._bokeh_onload_callbacks.forEach(function(callback) { callback() });\n    }\n    finally {\n      delete root._bokeh_onload_callbacks\n    }\n    console.info(\"Bokeh: all callbacks have finished\");\n  }\n\n  function load_libs(js_urls, callback) {\n    root._bokeh_onload_callbacks.push(callback);\n    if (root._bokeh_is_loading > 0) {\n      console.log(\"Bokeh: BokehJS is being loaded, scheduling callback at\", now());\n      return null;\n    }\n    if (js_urls == null || js_urls.length === 0) {\n      run_callbacks();\n      return null;\n    }\n    console.log(\"Bokeh: BokehJS not loaded, scheduling load and callback at\", now());\n    root._bokeh_is_loading = js_urls.length;\n    for (var i = 0; i < js_urls.length; i++) {\n      var url = js_urls[i];\n      var s = document.createElement('script');\n      s.src = url;\n      s.async = false;\n      s.onreadystatechange = s.onload = function() {\n        root._bokeh_is_loading--;\n        if (root._bokeh_is_loading === 0) {\n          console.log(\"Bokeh: all BokehJS libraries loaded\");\n          run_callbacks()\n        }\n      };\n      s.onerror = function() {\n        console.warn(\"failed to load library \" + url);\n      };\n      console.log(\"Bokeh: injecting script tag for BokehJS library: \", url);\n      document.getElementsByTagName(\"head\")[0].appendChild(s);\n    }\n  };var element = document.getElementById(\"82d143c6-0f5c-4531-a520-d900602bfc61\");\n  if (element == null) {\n    console.log(\"Bokeh: ERROR: autoload.js configured with elementid '82d143c6-0f5c-4531-a520-d900602bfc61' but no matching script tag was found. \")\n    return false;\n  }\n\n  var js_urls = [\"https://cdn.pydata.org/bokeh/release/bokeh-0.12.16.min.js\", \"https://cdn.pydata.org/bokeh/release/bokeh-widgets-0.12.16.min.js\", \"https://cdn.pydata.org/bokeh/release/bokeh-tables-0.12.16.min.js\", \"https://cdn.pydata.org/bokeh/release/bokeh-gl-0.12.16.min.js\"];\n\n  var inline_js = [\n    function(Bokeh) {\n      Bokeh.set_log_level(\"info\");\n    },\n    \n    function(Bokeh) {\n      \n    },\n    function(Bokeh) {\n      console.log(\"Bokeh: injecting CSS: https://cdn.pydata.org/bokeh/release/bokeh-0.12.16.min.css\");\n      Bokeh.embed.inject_css(\"https://cdn.pydata.org/bokeh/release/bokeh-0.12.16.min.css\");\n      console.log(\"Bokeh: injecting CSS: https://cdn.pydata.org/bokeh/release/bokeh-widgets-0.12.16.min.css\");\n      Bokeh.embed.inject_css(\"https://cdn.pydata.org/bokeh/release/bokeh-widgets-0.12.16.min.css\");\n      console.log(\"Bokeh: injecting CSS: https://cdn.pydata.org/bokeh/release/bokeh-tables-0.12.16.min.css\");\n      Bokeh.embed.inject_css(\"https://cdn.pydata.org/bokeh/release/bokeh-tables-0.12.16.min.css\");\n    }\n  ];\n\n  function run_inline_js() {\n    \n    if ((root.Bokeh !== undefined) || (force === true)) {\n      for (var i = 0; i < inline_js.length; i++) {\n        inline_js[i].call(root, root.Bokeh);\n      }if (force === true) {\n        display_loaded();\n      }} else if (Date.now() < root._bokeh_timeout) {\n      setTimeout(run_inline_js, 100);\n    } else if (!root._bokeh_failed_load) {\n      console.log(\"Bokeh: BokehJS failed to load within specified timeout.\");\n      root._bokeh_failed_load = true;\n    } else if (force !== true) {\n      var cell = $(document.getElementById(\"82d143c6-0f5c-4531-a520-d900602bfc61\")).parents('.cell').data().cell;\n      cell.output_area.append_execute_result(NB_LOAD_WARNING)\n    }\n\n  }\n\n  if (root._bokeh_is_loading === 0) {\n    console.log(\"Bokeh: BokehJS loaded, going straight to plotting\");\n    run_inline_js();\n  } else {\n    load_libs(js_urls, function() {\n      console.log(\"Bokeh: BokehJS plotting callback run at\", now());\n      run_inline_js();\n    });\n  }\n}(window));"
     },
     "metadata": {},
     "output_type": "display_data"
    }
   ],
   "source": [
    "output_notebook()\n",
    "client = pymongo.MongoClient('localhost', 27017)"
   ]
  },
  {
   "cell_type": "markdown",
   "metadata": {
    "heading_collapsed": true
   },
   "source": [
    "## Data"
   ]
  },
  {
   "cell_type": "code",
   "execution_count": 4,
   "metadata": {
    "collapsed": true,
    "hidden": true
   },
   "outputs": [],
   "source": [
    "MOL = 'co2'\n",
    "COMMITNUMBER = '1013f91'\n",
    "ATMPRO = dict(mls=294, saw=257, trp=300)"
   ]
  },
  {
   "cell_type": "code",
   "execution_count": 5,
   "metadata": {
    "collapsed": true,
    "hidden": true
   },
   "outputs": [],
   "source": [
    "atmcomp = AtmComposition.cliradlw_nongreys(onlygas=MOL)"
   ]
  },
  {
   "cell_type": "code",
   "execution_count": 6,
   "metadata": {
    "collapsed": true,
    "hidden": true
   },
   "outputs": [],
   "source": [
    "DCLI = {}\n",
    "for atmpro, _ in ATMPRO.items():\n",
    "    pcli = atmcomp.to_cliradparam(commitnumber=COMMITNUMBER, atmpro=atmpro, tsfc=ATMPRO[atmpro])\n",
    "    dcli = pcli.modeldata_pymongo(collection=client.cliradnew.lw)\n",
    "    DCLI[atmpro] = dcli"
   ]
  },
  {
   "cell_type": "code",
   "execution_count": 7,
   "metadata": {
    "collapsed": true,
    "hidden": true
   },
   "outputs": [],
   "source": [
    "DCRD = {}"
   ]
  },
  {
   "cell_type": "code",
   "execution_count": 16,
   "metadata": {
    "hidden": true
   },
   "outputs": [],
   "source": [
    "atmpro = 'trp'\n",
    "pcrds = atmcomp.to_lblnewparam(bestfit_values=True, atmpro=atmpro, tsfc=ATMPRO[atmpro])"
   ]
  },
  {
   "cell_type": "code",
   "execution_count": 17,
   "metadata": {
    "hidden": true,
    "scrolled": false
   },
   "outputs": [
    {
     "data": {
      "text/plain": [
       "[['a22ab94'], ['a22ab94'], ['a22ab94'], ['a22ab94'], ['a22ab94'], ['a22ab94']]"
      ]
     },
     "execution_count": 17,
     "metadata": {},
     "output_type": "execute_result"
    }
   ],
   "source": [
    "cmts = [p.avail_commits(client.lblnew.bestfit_lw) for p in pcrds]\n",
    "cmts"
   ]
  },
  {
   "cell_type": "code",
   "execution_count": 18,
   "metadata": {
    "hidden": true,
    "scrolled": false
   },
   "outputs": [],
   "source": [
    "commits = ['a22ab94', 'a06b618']\n",
    "dcrds = [p.modeldata_pymongo(collection=client.lblnew.bestfit_lw, commits=commits) for p in pcrds]\n",
    "\n",
    "dcrd = concat(*dcrds)\n",
    "DCRD[atmpro] = dcrd"
   ]
  },
  {
   "cell_type": "code",
   "execution_count": 19,
   "metadata": {
    "hidden": true
   },
   "outputs": [
    {
     "data": {
      "text/plain": [
       "({'mls': <climatools.dataset.CliradnewLWModelData at 0x2ae8de39ba20>,\n",
       "  'saw': <climatools.dataset.CliradnewLWModelData at 0x2ae924585a20>,\n",
       "  'trp': <climatools.dataset.CliradnewLWModelData at 0x2ae92458ab38>},\n",
       " {'mls': <climatools.dataset.LBLnewModelData at 0x2ae924825630>,\n",
       "  'saw': <climatools.dataset.LBLnewModelData at 0x2ae91ac619e8>,\n",
       "  'trp': <climatools.dataset.LBLnewModelData at 0x2ae9248250b8>})"
      ]
     },
     "execution_count": 19,
     "metadata": {},
     "output_type": "execute_result"
    }
   ],
   "source": [
    "DCLI, DCRD"
   ]
  },
  {
   "cell_type": "markdown",
   "metadata": {
    "heading_collapsed": true
   },
   "source": [
    "## Analysis code"
   ]
  },
  {
   "cell_type": "code",
   "execution_count": 20,
   "metadata": {
    "collapsed": true,
    "hidden": true
   },
   "outputs": [],
   "source": [
    "def show_html(s):\n",
    "    display.display(display.HTML(s))\n",
    "\n",
    "def show_markdown(s):\n",
    "    display.display(display.Markdown(s))"
   ]
  },
  {
   "cell_type": "code",
   "execution_count": 21,
   "metadata": {
    "hidden": true
   },
   "outputs": [],
   "source": [
    "def show_parameters(dcrd, dcli):\n",
    "    srss = [pd.Series(dcli.param, name=':D')]\n",
    "    srss_crd = [pd.Series(p) for p in dcrd.param]\n",
    "    df = pd.concat(srss_crd, axis=1, sort=True, keys=[f\"band{s['band']} {s['molecule']}\" for s in srss_crd])\n",
    "    srss.append(df)\n",
    "    df = pd.concat(srss, axis=1, sort=True, keys=['clirad-lw', 'lblnew-bestfit lw'])\n",
    "    df.fillna('-', inplace=True)\n",
    "    with pd.option_context('display.max_colwidth', 100):\n",
    "        display.display(df)"
   ]
  },
  {
   "cell_type": "code",
   "execution_count": 22,
   "metadata": {
    "collapsed": true,
    "hidden": true
   },
   "outputs": [],
   "source": [
    "import rtmtools.clirad.sw.wrangle as cliradwrangle\n",
    "\n",
    "def oldclirad_data_atm():\n",
    "    '''\n",
    "    Load the OLD clirad's results. mls only.\n",
    "    '''\n",
    "    fpath = os.path.join('/chia_cluster/home/jackyu/radiation',\n",
    "                         'clirad-lw',\n",
    "                         'LW',\n",
    "                         'examples',\n",
    "                         'mls75_h2o_atmpro_co2_.0004_o3_atmpro_n2o_3.2e-7_ch4_1.8e-6_H2012',\n",
    "                         'OUTPUT_CLIRAD.dat')\n",
    "    \n",
    "    ds = cliradwrangle.load_OUTPUT_CLIRAD(readfrom=fpath)\n",
    "    \n",
    "    ds_cool = xr.Dataset()\n",
    "    ds_cool.coords['pressure'] = ('pressure', ds['layer_pressure'])\n",
    "    ds_cool.coords['band'] = ('band', ds['spectral_band'])\n",
    "    ds_cool['coolrg'] = (('band', 'pressure'), - ds['heating_rate'])\n",
    "    \n",
    "    ds_flux = xr.Dataset()\n",
    "    ds_flux.coords['pressure'] = ('pressure', ds['level_pressure'])\n",
    "    ds_flux.coords['band'] = ('band', ds['spectral_band'])\n",
    "    ds_flux['flug'] = (('band', 'pressure'), ds['flux_up'])\n",
    "    ds_flux['fldg'] = (('band', 'pressure'), ds['flux_down'])\n",
    "    ds_flux['fnetg'] = (('band', 'pressure'), ds['net_flux'])\n",
    "    \n",
    "    \n",
    "    d = {}\n",
    "    d['cool'] = ds_cool\n",
    "    d['flux'] = ds_flux\n",
    "    return d"
   ]
  },
  {
   "cell_type": "code",
   "execution_count": 23,
   "metadata": {
    "collapsed": true,
    "hidden": true
   },
   "outputs": [],
   "source": [
    "def show_makeup():\n",
    "    df = pd.DataFrame()\n",
    "    for band, gs in atmcomp.gasinbands.items():\n",
    "        for g in gs:\n",
    "            df.loc[g, band] = str(atmcomp.gasconcs[g])\n",
    "\n",
    "    df = df.fillna(0)\n",
    "    df.columns.name = 'clirad band'\n",
    "    df.index.name = 'molecule'\n",
    "    \n",
    "    display.display(df)\n",
    "    display.display(display.Markdown('*TABLE.* Non-grey absorbers in the atmosphere.'))"
   ]
  },
  {
   "cell_type": "code",
   "execution_count": 24,
   "metadata": {
    "collapsed": true,
    "hidden": true,
    "scrolled": false
   },
   "outputs": [],
   "source": [
    "def pltdata_cool(dcrd=None, dcli=None, atmpro='mls'):\n",
    "    colors = all_palettes['Set1'][4]\n",
    "    cool_cli = dcli.wgt_cool.sel(i=1).sum('band')['coolrg']\n",
    "    cool_crd = dcrd.crd_cool['coolrg'].sum('band').sum('g')\n",
    "    \n",
    "    data = [\n",
    "        {'label': 'CLIRAD',\n",
    "         'srs': cool_cli,\n",
    "         'line_dash': 'dashed', 'line_width': 5,\n",
    "         'color': colors[0], 'alpha': .6},\n",
    "        {'label': 'CRD',\n",
    "         'srs': cool_crd,\n",
    "         'line_dash': 'solid', 'line_width': 1.5,\n",
    "         'marker': 'circle', 'marker_size': 5,\n",
    "         'color': colors[2], 'alpha': 1}\n",
    "    ]\n",
    "    \n",
    "    # include old CLIRAD's results for mls profile\n",
    "#    if atmpro == 'mls':\n",
    "#        d_oldclirad = oldclirad_data_atm()\n",
    "#        ds_oldclirad = d_oldclirad['cool']        \n",
    "#        data.append(\n",
    "#            {'label': 'old CLIRAD (H2012)',\n",
    "#             'srs': fmt_cool(ds_oldclirad),\n",
    "#             'line_dash': 'solid', 'line_width': 1.5,\n",
    "#             'marker': 'square', 'marker_size': 3,\n",
    "#             'color': colors[3], 'alpha': .5})\n",
    "    return data\n",
    "\n",
    "\n",
    "def pltdata_cooldiff(dcrd=None, dcli=None, atmpro='mls'): \n",
    "    colors = all_palettes['Set1'][4]\n",
    "    cool_cli = dcli.wgt_cool.sel(i=1).sum('band')['coolrg']\n",
    "    cool_crd = dcrd.crd_cool['coolrg'].sum('band').sum('g')\n",
    "    cool_dif = cool_cli - cool_crd\n",
    "    \n",
    "    data = [\n",
    "        {'label': 'CLIRAD - CRD',\n",
    "         'srs': cool_dif,\n",
    "         'line_dash': 'solid', 'line_width': 1.5, \n",
    "         'marker': 'circle', 'marker_size': 7,\n",
    "         'color': colors[3], 'alpha': .8}\n",
    "    ]\n",
    "    \n",
    "    # include old CLIRAD's results for mls profile\n",
    "#    if atmpro == 'mls':\n",
    "#        d_oldclirad = oldclirad_data_atm()\n",
    "#        ds_oldclirad = d_oldclirad['cool']\n",
    "#        ds_oldclirad.coords['pressure'] = ds_crd.coords['pressure']\n",
    "#        ds_diff_old = ds_oldclirad.sum('band') - ds_crd.sum('band')\n",
    "#        data.append(\n",
    "#            {'label': 'old CLIRAD (H2012) - CRD',\n",
    "#             'srs': fmt_cool(ds_diff_old),\n",
    "#             'line_dash': 'dashed', 'line_width': 4,\n",
    "#             'color': colors[1], 'alpha': .5}\n",
    "#        )\n",
    "    return data\n",
    "\n",
    "\n",
    "def show_cool(dcrd=None, dcli=None, atmpro='mls'):\n",
    "    data_cool = pltdata_cool(dcrd, dcli, atmpro=atmpro)\n",
    "    p_cool_liny = plt_vert_profile_bokeh(pltdata=data_cool)\n",
    "    p_cool_logy = plt_vert_profile_bokeh(pltdata=data_cool, y_axis_type='log', prange=(.01, 200))\n",
    "    \n",
    "    data_cooldiff = pltdata_cooldiff(dcrd, dcli, atmpro=atmpro)\n",
    "    p_cooldiff_logy = plt_vert_profile_bokeh(pltdata=data_cooldiff, y_axis_type='log', prange=(.01, 200))\n",
    "    \n",
    "    everything = gridplot(p_cool_liny, p_cool_logy, p_cooldiff_logy, ncols=3)\n",
    "    show(everything)\n",
    "    display.display(display.Markdown('*FIGURE.* Cooling rates & difference.'))"
   ]
  },
  {
   "cell_type": "code",
   "execution_count": 25,
   "metadata": {
    "collapsed": true,
    "hidden": true,
    "scrolled": false
   },
   "outputs": [],
   "source": [
    "def hist_band_vs_flux(da, title='Title'):\n",
    "    bands = [str(b.values) for b in da['band']]\n",
    "    source = ColumnDataSource(data={'band': bands, 'flux': da.values})\n",
    "    p = figure(x_range=bands, title=title)\n",
    "    p.vbar(source=source, x='band', top='flux', width=.9)\n",
    "    p.yaxis.axis_label = 'flux (W m-2)'\n",
    "    p.xaxis.axis_label = 'spectral band'\n",
    "    return p\n",
    "\n",
    "def show_hist_flux(dcrd=None, dcli=None, atmpro='mls'):\n",
    "    ds_crd = dcrd.crd_flux.sum('g')\n",
    "    ds_clirad = dcli.wgt_flux.sel(i=1)\n",
    "    \n",
    "    ip, varname = 0, 'flug'\n",
    "    da = (ds_clirad - ds_crd).isel(pressure=ip)[varname]\n",
    "    p_toa = hist_band_vs_flux(da, title='TOA flux. CLIRAD - CRD.')\n",
    "\n",
    "    ip, varname = -1, 'fldg'\n",
    "    da = (ds_clirad - ds_crd).isel(pressure=ip)[varname]\n",
    "    p_sfc = hist_band_vs_flux(da, title='SFC flux. CLIRAD - CRD.')    \n",
    "    \n",
    "    atm_crd = (ds_crd.isel(pressure=0) - ds_crd.isel(pressure=-1))['fnetg']\n",
    "    atm_clirad = (ds_clirad.isel(pressure=0) - ds_clirad.isel(pressure=-1))['fnetg']\n",
    "    da = atm_clirad - atm_crd\n",
    "    p_atm = hist_band_vs_flux(da, title='Atmosphere heating. CLIRAD - CRD.')\n",
    "\n",
    "    everything = gridplot(p_toa, p_sfc, p_atm, ncols=3, plot_width=300, plot_height=300)\n",
    "    \n",
    "    show(everything)\n",
    "    display.display(\n",
    "        display.Markdown('*FIGURE.* Difference between CLIRAD and CRD'\n",
    "          ' in TOA, SFC and net atmosphere flux,'\n",
    "          ' in each spectral band.'))\n",
    "\n",
    "def show_tb_flux(dcrd=None, dcli=None, atmpro='mls'):\n",
    "    fluxcrd = dcrd.crd_flux.sum(['band', 'g'])\n",
    "    olr_crd = fluxcrd['flug'].isel(pressure=0)\n",
    "    sfc_crd = fluxcrd['fldg'].isel(pressure=-1)\n",
    "    atm_crd = (fluxcrd.isel(pressure=0) - fluxcrd.isel(pressure=-1))['fnetg']\n",
    "    \n",
    "    fluxcli = dcli.wgt_flux.sel(i=1).sum('band')\n",
    "    olr_cli = fluxcli['flug'].isel(pressure=0)\n",
    "    sfc_cli = fluxcli['fldg'].isel(pressure=-1)\n",
    "    atm_cli = (fluxcli.isel(pressure=0) - fluxcli.isel(pressure=-1))['fnetg']\n",
    "    \n",
    "#    if atmpro == 'mls':\n",
    "#        ds_oldclirad = oldclirad_data_atm()['flux']\n",
    "#        ds_oldclirad['pressure'] = ds_crd['pressure']\n",
    "#        olr_oldclirad = ds_oldclirad['flug'].isel(pressure=0)\n",
    "#        sfc_oldclirad = ds_oldclirad['fldg'].isel(pressure=-1)\n",
    "#        atm_oldclirad = (ds_oldclirad.isel(pressure=0)\n",
    "#                         - ds_oldclirad.isel(pressure=-1))['fnetg']\n",
    "        \n",
    "    df = pd.DataFrame()\n",
    "    df.index.name = 'Sum over bands'\n",
    "    \n",
    "#    if atmpro == 'mls':\n",
    "#        df.loc['old CLIRAD - CRD', 'OLR flux'] = (fmt(olr_oldclirad) - fmt(olr_crd)).values\n",
    "#        df.loc['old CLIRAD - CRD', 'SFC flux'] = (fmt(sfc_oldclirad) - fmt(sfc_crd)).values\n",
    "#        df.loc['old CLIRAD - CRD', 'ATM heating'] = (fmt(atm_oldclirad) - fmt(atm_crd)).values\n",
    "\n",
    "    df.loc['CLIRAD - CRD', 'OLR flux'] = (olr_cli - olr_crd).values\n",
    "    df.loc['CLIRAD - CRD', 'SFC flux'] = (sfc_cli - sfc_crd).values\n",
    "    df.loc['CLIRAD - CRD', 'ATM heating'] = (atm_cli - atm_crd).values\n",
    "\n",
    "    df.loc['CRD', 'OLR flux'] = olr_crd.values\n",
    "    df.loc['CRD', 'SFC flux'] = sfc_crd.values\n",
    "    df.loc['CRD', 'ATM heating'] = atm_crd.values\n",
    "        \n",
    "    df = df.astype('float').round(2)\n",
    "    \n",
    "    display.display(df)\n",
    "    display.display(\n",
    "        display.Markdown('*TABLE.* Difference between CLIRAD and CRD'\n",
    "          ' in TOA, SFC and net atmosphere flux,'\n",
    "          ' over all spectral bands. CRD\\'s'\n",
    "          ' TOA, SFC and net atmosphere flux,'\n",
    "          ' over all spectral bands.'))\n",
    "    \n",
    "\n",
    "#show_hist_flux(dcrd, dcli, atmpro='mls')\n",
    "#show_tb_flux(DCRD['mls'], DCLI['mls'], atmpro='mls')"
   ]
  },
  {
   "cell_type": "code",
   "execution_count": 26,
   "metadata": {
    "collapsed": true,
    "hidden": true,
    "scrolled": true
   },
   "outputs": [],
   "source": [
    "def cool_tofile(atmpro=None):\n",
    "    dcli = clirad_data_atm(params_atm=[subparam_atm_clirad(atmpro=atmpro)])\n",
    "    dcrd = crd_data_atm(params_atm=subparams_atm_lblnew(atmpro=atmpro))\n",
    "    \n",
    "    dcli = dcli['cool'].sel(i=1).drop('i').sum('band')\n",
    "    dcrd = dcrd['cool'].sum('band')\n",
    "    \n",
    "    dcli = dcli['coolrg'].to_dataframe()\n",
    "    dcrd = dcrd['coolrg'].to_dataframe()\n",
    "    \n",
    "    dcli = dcli.set_index('layer', append=True)\n",
    "    dcrd = dcrd.set_index('layer', append=True)\n",
    "    \n",
    "    ddif = dcli - dcrd\n",
    "    \n",
    "    df = pd.concat([dcrd, dcli, ddif], axis=1, keys=['CRD', 'CLIRAD', 'CLIRAD - CRD'])\n",
    "    return df\n",
    "\n",
    "\n",
    "def flux_tofile(atmpro=None):\n",
    "    tropopauses = {'mls': 40, 'saw': 45, 'trp': 37}\n",
    "    ilevels = [0, tropopauses[atmpro], -1]\n",
    "    \n",
    "    dcli = clirad_data_atm(params_atm=[subparam_atm_clirad(atmpro=atmpro)])\n",
    "    dcrd = crd_data_atm(params_atm=subparams_atm_lblnew(atmpro=atmpro))\n",
    "    \n",
    "    dcli = dcli['flux'].sel(i=1).drop('i').sum('band').isel(pressure=ilevels)\n",
    "    dcrd = dcrd['flux'].sum('band').isel(pressure=ilevels)\n",
    "    \n",
    "    dcli = dcli.to_dataframe()\n",
    "    dcrd = dcrd.to_dataframe()\n",
    "    \n",
    "    dcli = dcli.set_index('level', append=True)\n",
    "    dcrd = dcrd.set_index('level', append=True)\n",
    "    \n",
    "    ddif = dcli - dcrd\n",
    "    \n",
    "    df = pd.concat([dcrd, dcli, ddif], axis=1, keys=['CRD', 'CLIRAD', 'CLIRAD - CRD'])\n",
    "    return df\n",
    "\n",
    "\n",
    "def script_tofile():\n",
    "    fname = f'results_{MOL}atm_cliradsinglerun.xlsx'\n",
    "    writer = pd.ExcelWriter(fname)\n",
    "    for atmpro in ('mls', 'saw', 'trp'):\n",
    "        dflux = flux_tofile(atmpro=atmpro)\n",
    "        dflux.to_excel(writer, f'flux {atmpro}')\n",
    "        \n",
    "        dcool = cool_tofile(atmpro=atmpro)\n",
    "        dcool.to_excel(writer, f'cool {atmpro}')\n",
    "        \n",
    "    html = f'Download: <a href=\"./{fname}\">{fname}</a>'\n",
    "    show_html(html) "
   ]
  },
  {
   "cell_type": "code",
   "execution_count": 27,
   "metadata": {
    "collapsed": true,
    "hidden": true,
    "scrolled": false
   },
   "outputs": [],
   "source": [
    "def script():\n",
    "    \n",
    "    d_atm = {'mls': 'mid-latitude summer', 'saw': 'sub-arctic winter', 'trp': 'tropical'}\n",
    "    \n",
    "    s_makeup = 'Makeup of atmosphere.'\n",
    "    s_parameters = 'Parameters of runs.'\n",
    "    s_atmpro = '# {}'\n",
    "    s_cool = 'Cooling rates. {}.'\n",
    "    s_flux = 'Fluxes. {}.'\n",
    "    \n",
    "    atmpros = ['mls', 'saw', 'trp']\n",
    "    \n",
    "    # TOC\n",
    "    show_markdown('### Table of Contents')\n",
    "    show_html(getHTML_hrefanchor(s_makeup))\n",
    "    \n",
    "    for atmpro in atmpros:\n",
    "        show_markdown('**' + d_atm[atmpro] + '**')\n",
    "        show_html(getHTML_hrefanchor(s_parameters + f' {atmpro}'))\n",
    "        show_html(getHTML_hrefanchor(s_cool.format(atmpro)))\n",
    "        show_html(getHTML_hrefanchor(s_flux.format(atmpro)))\n",
    "\n",
    "    # Atmosphere makeup\n",
    "    show_html(getHTML_idanchor(s_makeup))\n",
    "    show_markdown(getMarkdown_sectitle(s_makeup))\n",
    "    show_makeup()\n",
    "        \n",
    "    for atmpro in atmpros:\n",
    "        dcrd, dcli = DCRD[atmpro], DCLI[atmpro]\n",
    "        \n",
    "        show_html(getHTML_idanchor(s_parameters + f' {atmpro}'))\n",
    "        show_markdown(getMarkdown_sectitle(s_parameters + f' {atmpro}'))\n",
    "        show_parameters(dcrd, dcli)\n",
    "        \n",
    "        show_html(getHTML_idanchor(s_cool.format(atmpro)))\n",
    "        show_markdown(getMarkdown_sectitle(s_cool.format(atmpro)))\n",
    "        show_cool(dcrd, dcli, atmpro=atmpro)\n",
    "        \n",
    "        show_html(getHTML_idanchor(s_flux.format(atmpro)))\n",
    "        show_markdown(getMarkdown_sectitle(s_flux.format(atmpro)))\n",
    "        show_hist_flux(dcrd, dcli, atmpro=atmpro)\n",
    "        show_tb_flux(dcrd, dcli, atmpro=atmpro)\n",
    "    \n",
    "    #script_tofile()"
   ]
  },
  {
   "cell_type": "markdown",
   "metadata": {},
   "source": [
    "## Analysis Result"
   ]
  },
  {
   "cell_type": "code",
   "execution_count": 28,
   "metadata": {
    "scrolled": false
   },
   "outputs": [
    {
     "data": {
      "text/markdown": [
       "### Table of Contents"
      ],
      "text/plain": [
       "<IPython.core.display.Markdown object>"
      ]
     },
     "metadata": {},
     "output_type": "display_data"
    },
    {
     "data": {
      "text/html": [
       "<a href=\"#Makeup_of_atmosphere.\">Makeup of atmosphere.</a>"
      ],
      "text/plain": [
       "<IPython.core.display.HTML object>"
      ]
     },
     "metadata": {},
     "output_type": "display_data"
    },
    {
     "data": {
      "text/markdown": [
       "**mid-latitude summer**"
      ],
      "text/plain": [
       "<IPython.core.display.Markdown object>"
      ]
     },
     "metadata": {},
     "output_type": "display_data"
    },
    {
     "data": {
      "text/html": [
       "<a href=\"#Parameters_of_runs._mls\">Parameters of runs. mls</a>"
      ],
      "text/plain": [
       "<IPython.core.display.HTML object>"
      ]
     },
     "metadata": {},
     "output_type": "display_data"
    },
    {
     "data": {
      "text/html": [
       "<a href=\"#Cooling_rates._mls.\">Cooling rates. mls.</a>"
      ],
      "text/plain": [
       "<IPython.core.display.HTML object>"
      ]
     },
     "metadata": {},
     "output_type": "display_data"
    },
    {
     "data": {
      "text/html": [
       "<a href=\"#Fluxes._mls.\">Fluxes. mls.</a>"
      ],
      "text/plain": [
       "<IPython.core.display.HTML object>"
      ]
     },
     "metadata": {},
     "output_type": "display_data"
    },
    {
     "data": {
      "text/markdown": [
       "**sub-arctic winter**"
      ],
      "text/plain": [
       "<IPython.core.display.Markdown object>"
      ]
     },
     "metadata": {},
     "output_type": "display_data"
    },
    {
     "data": {
      "text/html": [
       "<a href=\"#Parameters_of_runs._saw\">Parameters of runs. saw</a>"
      ],
      "text/plain": [
       "<IPython.core.display.HTML object>"
      ]
     },
     "metadata": {},
     "output_type": "display_data"
    },
    {
     "data": {
      "text/html": [
       "<a href=\"#Cooling_rates._saw.\">Cooling rates. saw.</a>"
      ],
      "text/plain": [
       "<IPython.core.display.HTML object>"
      ]
     },
     "metadata": {},
     "output_type": "display_data"
    },
    {
     "data": {
      "text/html": [
       "<a href=\"#Fluxes._saw.\">Fluxes. saw.</a>"
      ],
      "text/plain": [
       "<IPython.core.display.HTML object>"
      ]
     },
     "metadata": {},
     "output_type": "display_data"
    },
    {
     "data": {
      "text/markdown": [
       "**tropical**"
      ],
      "text/plain": [
       "<IPython.core.display.Markdown object>"
      ]
     },
     "metadata": {},
     "output_type": "display_data"
    },
    {
     "data": {
      "text/html": [
       "<a href=\"#Parameters_of_runs._trp\">Parameters of runs. trp</a>"
      ],
      "text/plain": [
       "<IPython.core.display.HTML object>"
      ]
     },
     "metadata": {},
     "output_type": "display_data"
    },
    {
     "data": {
      "text/html": [
       "<a href=\"#Cooling_rates._trp.\">Cooling rates. trp.</a>"
      ],
      "text/plain": [
       "<IPython.core.display.HTML object>"
      ]
     },
     "metadata": {},
     "output_type": "display_data"
    },
    {
     "data": {
      "text/html": [
       "<a href=\"#Fluxes._trp.\">Fluxes. trp.</a>"
      ],
      "text/plain": [
       "<IPython.core.display.HTML object>"
      ]
     },
     "metadata": {},
     "output_type": "display_data"
    },
    {
     "data": {
      "text/html": [
       "<a id=\"Makeup_of_atmosphere.\"></a>"
      ],
      "text/plain": [
       "<IPython.core.display.HTML object>"
      ]
     },
     "metadata": {},
     "output_type": "display_data"
    },
    {
     "data": {
      "text/markdown": [
       "# Makeup of atmosphere."
      ],
      "text/plain": [
       "<IPython.core.display.Markdown object>"
      ]
     },
     "metadata": {},
     "output_type": "display_data"
    },
    {
     "data": {
      "text/html": [
       "<div>\n",
       "<style scoped>\n",
       "    .dataframe tbody tr th:only-of-type {\n",
       "        vertical-align: middle;\n",
       "    }\n",
       "\n",
       "    .dataframe tbody tr th {\n",
       "        vertical-align: top;\n",
       "    }\n",
       "\n",
       "    .dataframe thead th {\n",
       "        text-align: right;\n",
       "    }\n",
       "</style>\n",
       "<table border=\"1\" class=\"dataframe\">\n",
       "  <thead>\n",
       "    <tr style=\"text-align: right;\">\n",
       "      <th>clirad band</th>\n",
       "      <th>3</th>\n",
       "      <th>4</th>\n",
       "      <th>5</th>\n",
       "      <th>6</th>\n",
       "      <th>7</th>\n",
       "      <th>11</th>\n",
       "    </tr>\n",
       "    <tr>\n",
       "      <th>molecule</th>\n",
       "      <th></th>\n",
       "      <th></th>\n",
       "      <th></th>\n",
       "      <th></th>\n",
       "      <th></th>\n",
       "      <th></th>\n",
       "    </tr>\n",
       "  </thead>\n",
       "  <tbody>\n",
       "    <tr>\n",
       "      <th>co2</th>\n",
       "      <td>0.0004</td>\n",
       "      <td>0.0004</td>\n",
       "      <td>0.0004</td>\n",
       "      <td>0.0004</td>\n",
       "      <td>0.0004</td>\n",
       "      <td>0.0004</td>\n",
       "    </tr>\n",
       "  </tbody>\n",
       "</table>\n",
       "</div>"
      ],
      "text/plain": [
       "clirad band      3       4       5       6       7       11\n",
       "molecule                                                   \n",
       "co2          0.0004  0.0004  0.0004  0.0004  0.0004  0.0004"
      ]
     },
     "metadata": {},
     "output_type": "display_data"
    },
    {
     "data": {
      "text/markdown": [
       "*TABLE.* Non-grey absorbers in the atmosphere."
      ],
      "text/plain": [
       "<IPython.core.display.Markdown object>"
      ]
     },
     "metadata": {},
     "output_type": "display_data"
    },
    {
     "data": {
      "text/html": [
       "<a id=\"Parameters_of_runs._mls\"></a>"
      ],
      "text/plain": [
       "<IPython.core.display.HTML object>"
      ]
     },
     "metadata": {},
     "output_type": "display_data"
    },
    {
     "data": {
      "text/markdown": [
       "# Parameters of runs. mls"
      ],
      "text/plain": [
       "<IPython.core.display.Markdown object>"
      ]
     },
     "metadata": {},
     "output_type": "display_data"
    },
    {
     "data": {
      "text/html": [
       "<div>\n",
       "<style scoped>\n",
       "    .dataframe tbody tr th:only-of-type {\n",
       "        vertical-align: middle;\n",
       "    }\n",
       "\n",
       "    .dataframe tbody tr th {\n",
       "        vertical-align: top;\n",
       "    }\n",
       "\n",
       "    .dataframe thead tr th {\n",
       "        text-align: left;\n",
       "    }\n",
       "</style>\n",
       "<table border=\"1\" class=\"dataframe\">\n",
       "  <thead>\n",
       "    <tr>\n",
       "      <th></th>\n",
       "      <th>clirad-lw</th>\n",
       "      <th colspan=\"6\" halign=\"left\">lblnew-bestfit lw</th>\n",
       "    </tr>\n",
       "    <tr>\n",
       "      <th></th>\n",
       "      <th>:D</th>\n",
       "      <th>band3a co2</th>\n",
       "      <th>band3b co2</th>\n",
       "      <th>band3c co2</th>\n",
       "      <th>band4 co2</th>\n",
       "      <th>band5 co2</th>\n",
       "      <th>band9 co2</th>\n",
       "    </tr>\n",
       "  </thead>\n",
       "  <tbody>\n",
       "    <tr>\n",
       "      <th>atmpro</th>\n",
       "      <td>mls</td>\n",
       "      <td>mls</td>\n",
       "      <td>mls</td>\n",
       "      <td>mls</td>\n",
       "      <td>mls</td>\n",
       "      <td>mls</td>\n",
       "      <td>mls</td>\n",
       "    </tr>\n",
       "    <tr>\n",
       "      <th>band</th>\n",
       "      <td>[3, 4, 5, 6, 7, 11]</td>\n",
       "      <td>3a</td>\n",
       "      <td>3b</td>\n",
       "      <td>3c</td>\n",
       "      <td>4</td>\n",
       "      <td>5</td>\n",
       "      <td>9</td>\n",
       "    </tr>\n",
       "    <tr>\n",
       "      <th>commitnumber</th>\n",
       "      <td>1013f91</td>\n",
       "      <td>a22ab94</td>\n",
       "      <td>a22ab94</td>\n",
       "      <td>a22ab94</td>\n",
       "      <td>a22ab94</td>\n",
       "      <td>a22ab94</td>\n",
       "      <td>a22ab94</td>\n",
       "    </tr>\n",
       "    <tr>\n",
       "      <th>conc</th>\n",
       "      <td>-</td>\n",
       "      <td>0.0004</td>\n",
       "      <td>0.0004</td>\n",
       "      <td>0.0004</td>\n",
       "      <td>0.0004</td>\n",
       "      <td>0.0004</td>\n",
       "      <td>0.0004</td>\n",
       "    </tr>\n",
       "    <tr>\n",
       "      <th>dv</th>\n",
       "      <td>-</td>\n",
       "      <td>0.001</td>\n",
       "      <td>0.001</td>\n",
       "      <td>0.001</td>\n",
       "      <td>0.001</td>\n",
       "      <td>0.001</td>\n",
       "      <td>0.001</td>\n",
       "    </tr>\n",
       "    <tr>\n",
       "      <th>klin</th>\n",
       "      <td>-</td>\n",
       "      <td>6.37556e-24</td>\n",
       "      <td>0</td>\n",
       "      <td>6.37556e-24</td>\n",
       "      <td>6.5e-24</td>\n",
       "      <td>6.5e-24</td>\n",
       "      <td>6.5e-24</td>\n",
       "    </tr>\n",
       "    <tr>\n",
       "      <th>molecule</th>\n",
       "      <td>{'co2': 0.0004}</td>\n",
       "      <td>co2</td>\n",
       "      <td>co2</td>\n",
       "      <td>co2</td>\n",
       "      <td>co2</td>\n",
       "      <td>co2</td>\n",
       "      <td>co2</td>\n",
       "    </tr>\n",
       "    <tr>\n",
       "      <th>ng_adju</th>\n",
       "      <td>-</td>\n",
       "      <td>[0, 0, 0]</td>\n",
       "      <td>[0, 0]</td>\n",
       "      <td>[0, 0, 0]</td>\n",
       "      <td>[0, 0]</td>\n",
       "      <td>[0, 0]</td>\n",
       "      <td>[0, 0]</td>\n",
       "    </tr>\n",
       "    <tr>\n",
       "      <th>ng_refs</th>\n",
       "      <td>-</td>\n",
       "      <td>[3, 2, 4]</td>\n",
       "      <td>[5, 4]</td>\n",
       "      <td>[3, 2, 4]</td>\n",
       "      <td>[1, 2]</td>\n",
       "      <td>[1, 2]</td>\n",
       "      <td>[3, 3]</td>\n",
       "    </tr>\n",
       "    <tr>\n",
       "      <th>nv</th>\n",
       "      <td>-</td>\n",
       "      <td>1000</td>\n",
       "      <td>1000</td>\n",
       "      <td>1000</td>\n",
       "      <td>1000</td>\n",
       "      <td>1000</td>\n",
       "      <td>1000</td>\n",
       "    </tr>\n",
       "    <tr>\n",
       "      <th>option_compute_btable</th>\n",
       "      <td>-</td>\n",
       "      <td>0</td>\n",
       "      <td>0</td>\n",
       "      <td>0</td>\n",
       "      <td>0</td>\n",
       "      <td>0</td>\n",
       "      <td>0</td>\n",
       "    </tr>\n",
       "    <tr>\n",
       "      <th>option_compute_ktable</th>\n",
       "      <td>-</td>\n",
       "      <td>0</td>\n",
       "      <td>0</td>\n",
       "      <td>0</td>\n",
       "      <td>0</td>\n",
       "      <td>0</td>\n",
       "      <td>0</td>\n",
       "    </tr>\n",
       "    <tr>\n",
       "      <th>option_wgt_flux</th>\n",
       "      <td>-</td>\n",
       "      <td>1</td>\n",
       "      <td>1</td>\n",
       "      <td>1</td>\n",
       "      <td>1</td>\n",
       "      <td>1</td>\n",
       "      <td>1</td>\n",
       "    </tr>\n",
       "    <tr>\n",
       "      <th>option_wgt_k</th>\n",
       "      <td>-</td>\n",
       "      <td>1</td>\n",
       "      <td>1</td>\n",
       "      <td>1</td>\n",
       "      <td>1</td>\n",
       "      <td>1</td>\n",
       "      <td>1</td>\n",
       "    </tr>\n",
       "    <tr>\n",
       "      <th>ref_pts</th>\n",
       "      <td>-</td>\n",
       "      <td>[[1, 250], [10, 250], [500, 250]]</td>\n",
       "      <td>[[1, 250], [10, 250]]</td>\n",
       "      <td>[[1, 250], [10, 250], [500, 250]]</td>\n",
       "      <td>[[1, 250], [500, 250]]</td>\n",
       "      <td>[[1, 250], [500, 250]]</td>\n",
       "      <td>[[1, 250], [50, 250]]</td>\n",
       "    </tr>\n",
       "    <tr>\n",
       "      <th>tsfc</th>\n",
       "      <td>294</td>\n",
       "      <td>294</td>\n",
       "      <td>294</td>\n",
       "      <td>294</td>\n",
       "      <td>294</td>\n",
       "      <td>294</td>\n",
       "      <td>294</td>\n",
       "    </tr>\n",
       "    <tr>\n",
       "      <th>vmax</th>\n",
       "      <td>-</td>\n",
       "      <td>620</td>\n",
       "      <td>720</td>\n",
       "      <td>800</td>\n",
       "      <td>980</td>\n",
       "      <td>1100</td>\n",
       "      <td>3000</td>\n",
       "    </tr>\n",
       "    <tr>\n",
       "      <th>vmin</th>\n",
       "      <td>-</td>\n",
       "      <td>540</td>\n",
       "      <td>620</td>\n",
       "      <td>720</td>\n",
       "      <td>800</td>\n",
       "      <td>980</td>\n",
       "      <td>1900</td>\n",
       "    </tr>\n",
       "    <tr>\n",
       "      <th>w_diffuse</th>\n",
       "      <td>-</td>\n",
       "      <td>[[1.6, 1.6, 1.7], [1.75, 1.75], [1.55, 1.55, 1.6, 1.85]]</td>\n",
       "      <td>[[1.66, 1.66, 1.66, 1.66, 1.66], [1.66, 1.66, 1.66, 1.66]]</td>\n",
       "      <td>[[1.7, 1.6, 1.8], [1.8, 1.7], [1.5, 1.6, 1.7, 1.8]]</td>\n",
       "      <td>[[1.75], [1.66, 1.9]]</td>\n",
       "      <td>[[1.75], [1.66, 1.9]]</td>\n",
       "      <td>[[1.66, 1.66, 1.75], [1.75, 1.6, 1.85]]</td>\n",
       "    </tr>\n",
       "    <tr>\n",
       "      <th>wgt</th>\n",
       "      <td>-</td>\n",
       "      <td>[[0.7, 0.3, 0.7], [0.7, 0.6], [0.4, 0.5, 0.8, 0.95]]</td>\n",
       "      <td>[[0, 0.5, 0.4, 0.6, 0.65], [0.7, 0.7, 0.55, 0.6]]</td>\n",
       "      <td>[[0.6, 0.4, 0.7], [0.7, 0.4], [0.3, 0.4, 0.85, 0.9]]</td>\n",
       "      <td>[[0.75], [0.75, 0.95]]</td>\n",
       "      <td>[[0.75], [0.75, 0.95]]</td>\n",
       "      <td>[[0.7, 0.8, 0.7], [0.8, 0.7, 0.8]]</td>\n",
       "    </tr>\n",
       "  </tbody>\n",
       "</table>\n",
       "</div>"
      ],
      "text/plain": [
       "                                 clirad-lw  \\\n",
       "                                        :D   \n",
       "atmpro                                 mls   \n",
       "band                   [3, 4, 5, 6, 7, 11]   \n",
       "commitnumber                       1013f91   \n",
       "conc                                     -   \n",
       "dv                                       -   \n",
       "klin                                     -   \n",
       "molecule                   {'co2': 0.0004}   \n",
       "ng_adju                                  -   \n",
       "ng_refs                                  -   \n",
       "nv                                       -   \n",
       "option_compute_btable                    -   \n",
       "option_compute_ktable                    -   \n",
       "option_wgt_flux                          -   \n",
       "option_wgt_k                             -   \n",
       "ref_pts                                  -   \n",
       "tsfc                                   294   \n",
       "vmax                                     -   \n",
       "vmin                                     -   \n",
       "w_diffuse                                -   \n",
       "wgt                                      -   \n",
       "\n",
       "                                                              lblnew-bestfit lw  \\\n",
       "                                                                     band3a co2   \n",
       "atmpro                                                                      mls   \n",
       "band                                                                         3a   \n",
       "commitnumber                                                            a22ab94   \n",
       "conc                                                                     0.0004   \n",
       "dv                                                                        0.001   \n",
       "klin                                                                6.37556e-24   \n",
       "molecule                                                                    co2   \n",
       "ng_adju                                                               [0, 0, 0]   \n",
       "ng_refs                                                               [3, 2, 4]   \n",
       "nv                                                                         1000   \n",
       "option_compute_btable                                                         0   \n",
       "option_compute_ktable                                                         0   \n",
       "option_wgt_flux                                                               1   \n",
       "option_wgt_k                                                                  1   \n",
       "ref_pts                                       [[1, 250], [10, 250], [500, 250]]   \n",
       "tsfc                                                                        294   \n",
       "vmax                                                                        620   \n",
       "vmin                                                                        540   \n",
       "w_diffuse              [[1.6, 1.6, 1.7], [1.75, 1.75], [1.55, 1.55, 1.6, 1.85]]   \n",
       "wgt                        [[0.7, 0.3, 0.7], [0.7, 0.6], [0.4, 0.5, 0.8, 0.95]]   \n",
       "\n",
       "                                                                                   \\\n",
       "                                                                       band3b co2   \n",
       "atmpro                                                                        mls   \n",
       "band                                                                           3b   \n",
       "commitnumber                                                              a22ab94   \n",
       "conc                                                                       0.0004   \n",
       "dv                                                                          0.001   \n",
       "klin                                                                            0   \n",
       "molecule                                                                      co2   \n",
       "ng_adju                                                                    [0, 0]   \n",
       "ng_refs                                                                    [5, 4]   \n",
       "nv                                                                           1000   \n",
       "option_compute_btable                                                           0   \n",
       "option_compute_ktable                                                           0   \n",
       "option_wgt_flux                                                                 1   \n",
       "option_wgt_k                                                                    1   \n",
       "ref_pts                                                     [[1, 250], [10, 250]]   \n",
       "tsfc                                                                          294   \n",
       "vmax                                                                          720   \n",
       "vmin                                                                          620   \n",
       "w_diffuse              [[1.66, 1.66, 1.66, 1.66, 1.66], [1.66, 1.66, 1.66, 1.66]]   \n",
       "wgt                             [[0, 0.5, 0.4, 0.6, 0.65], [0.7, 0.7, 0.55, 0.6]]   \n",
       "\n",
       "                                                                             \\\n",
       "                                                                 band3c co2   \n",
       "atmpro                                                                  mls   \n",
       "band                                                                     3c   \n",
       "commitnumber                                                        a22ab94   \n",
       "conc                                                                 0.0004   \n",
       "dv                                                                    0.001   \n",
       "klin                                                            6.37556e-24   \n",
       "molecule                                                                co2   \n",
       "ng_adju                                                           [0, 0, 0]   \n",
       "ng_refs                                                           [3, 2, 4]   \n",
       "nv                                                                     1000   \n",
       "option_compute_btable                                                     0   \n",
       "option_compute_ktable                                                     0   \n",
       "option_wgt_flux                                                           1   \n",
       "option_wgt_k                                                              1   \n",
       "ref_pts                                   [[1, 250], [10, 250], [500, 250]]   \n",
       "tsfc                                                                    294   \n",
       "vmax                                                                    800   \n",
       "vmin                                                                    720   \n",
       "w_diffuse               [[1.7, 1.6, 1.8], [1.8, 1.7], [1.5, 1.6, 1.7, 1.8]]   \n",
       "wgt                    [[0.6, 0.4, 0.7], [0.7, 0.4], [0.3, 0.4, 0.85, 0.9]]   \n",
       "\n",
       "                                                                       \\\n",
       "                                    band4 co2               band5 co2   \n",
       "atmpro                                    mls                     mls   \n",
       "band                                        4                       5   \n",
       "commitnumber                          a22ab94                 a22ab94   \n",
       "conc                                   0.0004                  0.0004   \n",
       "dv                                      0.001                   0.001   \n",
       "klin                                  6.5e-24                 6.5e-24   \n",
       "molecule                                  co2                     co2   \n",
       "ng_adju                                [0, 0]                  [0, 0]   \n",
       "ng_refs                                [1, 2]                  [1, 2]   \n",
       "nv                                       1000                    1000   \n",
       "option_compute_btable                       0                       0   \n",
       "option_compute_ktable                       0                       0   \n",
       "option_wgt_flux                             1                       1   \n",
       "option_wgt_k                                1                       1   \n",
       "ref_pts                [[1, 250], [500, 250]]  [[1, 250], [500, 250]]   \n",
       "tsfc                                      294                     294   \n",
       "vmax                                      980                    1100   \n",
       "vmin                                      800                     980   \n",
       "w_diffuse               [[1.75], [1.66, 1.9]]   [[1.75], [1.66, 1.9]]   \n",
       "wgt                    [[0.75], [0.75, 0.95]]  [[0.75], [0.75, 0.95]]   \n",
       "\n",
       "                                                                \n",
       "                                                     band9 co2  \n",
       "atmpro                                                     mls  \n",
       "band                                                         9  \n",
       "commitnumber                                           a22ab94  \n",
       "conc                                                    0.0004  \n",
       "dv                                                       0.001  \n",
       "klin                                                   6.5e-24  \n",
       "molecule                                                   co2  \n",
       "ng_adju                                                 [0, 0]  \n",
       "ng_refs                                                 [3, 3]  \n",
       "nv                                                        1000  \n",
       "option_compute_btable                                        0  \n",
       "option_compute_ktable                                        0  \n",
       "option_wgt_flux                                              1  \n",
       "option_wgt_k                                                 1  \n",
       "ref_pts                                  [[1, 250], [50, 250]]  \n",
       "tsfc                                                       294  \n",
       "vmax                                                      3000  \n",
       "vmin                                                      1900  \n",
       "w_diffuse              [[1.66, 1.66, 1.75], [1.75, 1.6, 1.85]]  \n",
       "wgt                         [[0.7, 0.8, 0.7], [0.8, 0.7, 0.8]]  "
      ]
     },
     "metadata": {},
     "output_type": "display_data"
    },
    {
     "data": {
      "text/html": [
       "<a id=\"Cooling_rates._mls.\"></a>"
      ],
      "text/plain": [
       "<IPython.core.display.HTML object>"
      ]
     },
     "metadata": {},
     "output_type": "display_data"
    },
    {
     "data": {
      "text/markdown": [
       "# Cooling rates. mls."
      ],
      "text/plain": [
       "<IPython.core.display.Markdown object>"
      ]
     },
     "metadata": {},
     "output_type": "display_data"
    },
    {
     "data": {
      "text/html": [
       "\n",
       "<div class=\"bk-root\">\n",
       "    <div class=\"bk-plotdiv\" id=\"ef819461-9931-42e5-a121-8df5e55e5a43\"></div>\n",
       "</div>"
      ]
     },
     "metadata": {},
     "output_type": "display_data"
    },
    {
     "data": {
      "application/javascript": [
       "(function(root) {\n",
       "  function embed_document(root) {\n",
       "    \n",
       "  var docs_json = {\"8dd31657-e8bd-4528-b222-f4543594fd8c\":{\"roots\":{\"references\":[{\"attributes\":{},\"id\":\"913d93c5-4cc3-4fbf-a6be-0ee92cb69355\",\"type\":\"LinearScale\"},{\"attributes\":{},\"id\":\"bd9d072a-6a6f-4c1d-a8f7-8602bfd8b194\",\"type\":\"UnionRenderers\"},{\"attributes\":{},\"id\":\"26b25ed5-7bf7-4787-927a-1e29d6d3f53f\",\"type\":\"WheelZoomTool\"},{\"attributes\":{},\"id\":\"d8477dcc-2b9b-4ab4-b996-7b6ebf9cd955\",\"type\":\"UnionRenderers\"},{\"attributes\":{\"items\":[{\"id\":\"88ddc429-caa1-4d5a-8df3-378fa2121672\",\"type\":\"LegendItem\"},{\"id\":\"ab00e7a9-0487-4968-989c-2da07b907d83\",\"type\":\"LegendItem\"}],\"label_text_font_size\":{\"value\":\"8pt\"},\"location\":\"top_center\",\"orientation\":\"horizontal\",\"plot\":{\"id\":\"bf6946af-7252-4482-a569-2cf88a24ccaa\",\"subtype\":\"Figure\",\"type\":\"Plot\"}},\"id\":\"1be6e825-98c3-40ee-9f79-3156aed71086\",\"type\":\"Legend\"},{\"attributes\":{\"axis_label\":\"pressure [mb]\",\"formatter\":{\"id\":\"4e28524b-b01b-4e9c-b7aa-9f601b899e8d\",\"type\":\"BasicTickFormatter\"},\"plot\":{\"id\":\"bf6946af-7252-4482-a569-2cf88a24ccaa\",\"subtype\":\"Figure\",\"type\":\"Plot\"},\"ticker\":{\"id\":\"8d45b3f6-de7e-48a0-a555-8965fdaa4fd3\",\"type\":\"BasicTicker\"}},\"id\":\"f5b6a9a9-194d-4e7c-95a9-4658976dd6cc\",\"type\":\"LinearAxis\"},{\"attributes\":{},\"id\":\"012ea0e3-13e6-453b-ba1f-813e668160d4\",\"type\":\"Selection\"},{\"attributes\":{\"source\":{\"id\":\"4cece4af-feb1-4040-bedd-0120f809e6a0\",\"type\":\"ColumnDataSource\"}},\"id\":\"de2d4920-20f5-4409-9b4f-9f9a16027c42\",\"type\":\"CDSView\"},{\"attributes\":{\"callback\":null,\"data\":{\"x\":{\"__ndarray__\":\"xA2DZIOPS0CQhgKJyvxEQJLNhwEEH0JANdHB8haxPUD21DW2n9A2QKLnIYTdkDBAWjC5KDl+J0BmTy8GLnchQNFYGcXHOhxAEFh9GuUEGEAcLYwZmQQUQBiuV4kBKQ9AaIQ6XUfCBUBqOu1sptT1P0L+A0Mhn94/3zWt0/Rq8T/Mj2f1a+QCQFoUWcEScApAQy3Xx09NEECi4mx09vcSQNVrNOkIcBZAMiVq13iTHUB6mgNsVm4jQF/4zWxz+SJAd0QrVpnxHEAwKrE7+ewVQPoSXyqMNhJAH0+iZBDfDkBaSOMqmWcJQInsFxSupQRAE2GYPUK0AEALibaOaiP4PybSFGyK3PE/fVDrV/iZ7j+2QU6Y50rmP1gom3hjZtY/a0IjJ7aTxz/8+K2QkIXEP+ezfpmB6K4/SnpvyJpjuL+nKVylZcC5v/zzy6AVsZw/Bys/QcpVtz/DvXEcOKO+P6HH7bXuz8E/BrjkZcJwwz+GQsMklRfFP6kCax1ga8Y/O4SScCTYxz84a5cpimTJP0Z54UKE8Mo/dAOrSXwezD8zFkNUYDXNP8ZXUwLv980/23sNCWyqzj8xKCFBAlnPP8pxrEP3BNA/rM7pWFxf0D9shnxoS7zQP6nE6SteGdE/oeiWKgx60T8GEazYhsvRP51ZaVfDQ9I/fMLqtBvJ0j9lke9YyGHTP1ewPVbYQ9Q/D2t/HTc51T+Hj3wktPzVP43lsfQOWNY/A2YWhYML1j/gUyEsj5/VP+LZw3EwcdU/L9LFF8aF1T8E6MB4YlvWP4Jt0b3fLNw/\",\"dtype\":\"float64\",\"shape\":[75]},\"y\":{\"__ndarray__\":\"GhExyth1ND/Sv8nbtpRIP2vylNV0PVE/aTum7souWD/At0SJ8fVgPw3Iuahxymc/MSNhhJWvcD/bTfBN02d3P2zb5nxnaoA/CD5h5MAGhz8NmeH1TyaQP+zrCsc9p5Y/LbKd76fGnz/bLW5ISEmmPww9YvTcQq8/JV2OstnstT8Er5Y7M8G+P0c+r3jqkcU/5h99k6ZBzj88bCIzFzjVP4enV8oyxN0//yH99nXg5D8qOpLLf0jtP5kqGJXUifQ/c9cS8kHP/D+/DpwzojQEQIEmwoanVwxA4lgXt9HgE0BSSZ2AJuIbQAMJih9jjiNA5q4l5INuK0AwTKYKRj0zQNv5fmq8/DpAaCJseHrtQkB/+zpwzoxKQM3MzMzMeFJAZmZmZmZqWEAAAAAAAFxeQM3MzMzMJmJAmpmZmZkfZUBmZmZmZhhoQDMzMzMzEWtAAAAAAAAKbkBmZmZmZoFwQM3MzMzM/XFAMzMzMzN6c0CamZmZmfZ0QAAAAAAAc3ZAZmZmZmbvd0DNzMzMzGt5QDMzMzMz6HpAmpmZmZlkfEAAAAAAAOF9QGZmZmZmXX9AZmZmZuZsgECamZmZGSuBQM3MzMxM6YFAAAAAAICngkAzMzMzs2WDQGZmZmbmI4RAmpmZmRnihEDNzMzMTKCFQAAAAACAXoZAMzMzM7Mch0BmZmZm5tqHQJqZmZkZmYhAzczMzExXiUAAAAAAgBWKQDMzMzOz04pAZmZmZuaRi0CamZmZGVCMQM3MzMxMDo1AAAAAAIDMjUAzMzMzs4qOQGZmZmbmSI9A\",\"dtype\":\"float64\",\"shape\":[75]}},\"selected\":{\"id\":\"a1de1a7c-804f-402a-a7c0-a2909cb8a6ab\",\"type\":\"Selection\"},\"selection_policy\":{\"id\":\"e309f309-b061-4fd0-87b9-87e826f75584\",\"type\":\"UnionRenderers\"}},\"id\":\"8a321828-fed7-4bc4-90d9-ed84aac14ce0\",\"type\":\"ColumnDataSource\"},{\"attributes\":{},\"id\":\"1ffdc52e-a97e-496c-ad66-cd007781d630\",\"type\":\"SaveTool\"},{\"attributes\":{\"above\":[{\"id\":\"f8912944-4f49-4c2b-afee-b90b98a77127\",\"type\":\"Legend\"}],\"below\":[{\"id\":\"4552ee3f-2727-4155-8c74-4fc51b136e8c\",\"type\":\"LinearAxis\"}],\"left\":[{\"id\":\"c91280d1-b61a-41e4-b7f2-77388c501371\",\"type\":\"LogAxis\"}],\"plot_width\":300,\"renderers\":[{\"id\":\"4552ee3f-2727-4155-8c74-4fc51b136e8c\",\"type\":\"LinearAxis\"},{\"id\":\"7c2a853b-1fb1-4ee7-9307-d637d37aa4e4\",\"type\":\"Grid\"},{\"id\":\"c91280d1-b61a-41e4-b7f2-77388c501371\",\"type\":\"LogAxis\"},{\"id\":\"735f1a50-d352-4953-ae0b-dcd66a59afe7\",\"type\":\"Grid\"},{\"id\":\"d13297f2-1f88-47d5-b091-65d26ae9cae2\",\"type\":\"BoxAnnotation\"},{\"id\":\"0dd57df1-73d8-400c-85fd-d9f2e15d71eb\",\"type\":\"GlyphRenderer\"},{\"id\":\"c17ebe4a-4957-4850-992a-f29fce3cc40c\",\"type\":\"GlyphRenderer\"},{\"id\":\"7be4663a-90c1-44d5-bc52-6735af3f571c\",\"type\":\"GlyphRenderer\"},{\"id\":\"f8912944-4f49-4c2b-afee-b90b98a77127\",\"type\":\"Legend\"}],\"title\":{\"id\":\"7d754ad9-ec3b-4b21-8e2a-275d74964dbc\",\"type\":\"Title\"},\"toolbar\":{\"id\":\"5fbf1a37-466f-4d83-93d3-0625730700e0\",\"type\":\"Toolbar\"},\"toolbar_location\":null,\"x_range\":{\"id\":\"6a9a611a-3965-47e9-b7e1-1158cde35f2d\",\"type\":\"Range1d\"},\"x_scale\":{\"id\":\"59d67a59-f72b-4a3f-a6e2-3237e4a44cb0\",\"type\":\"LinearScale\"},\"y_range\":{\"id\":\"8e6a59b8-8392-4e34-8172-addcd4948267\",\"type\":\"Range1d\"},\"y_scale\":{\"id\":\"a987f274-7f37-4347-b0b3-6e9a7e12625e\",\"type\":\"LogScale\"}},\"id\":\"dcc1991e-6eaa-420d-8311-7d1928220b56\",\"subtype\":\"Figure\",\"type\":\"Plot\"},{\"attributes\":{\"overlay\":{\"id\":\"871a16a2-942d-4280-be68-cd8916cdb965\",\"type\":\"BoxAnnotation\"}},\"id\":\"e56c08d4-a64b-48f3-8718-207ecb4cd34e\",\"type\":\"BoxZoomTool\"},{\"attributes\":{},\"id\":\"3a80461b-0362-49b8-aeb8-16be1b5cb085\",\"type\":\"BasicTicker\"},{\"attributes\":{},\"id\":\"9cffb640-7285-494f-8ad0-cd2278f4a0bf\",\"type\":\"LinearScale\"},{\"attributes\":{\"callback\":null,\"end\":0.01,\"start\":1020},\"id\":\"7b3dfc87-330c-4c59-8c85-b9971a18d9d2\",\"type\":\"Range1d\"},{\"attributes\":{},\"id\":\"052ff0fc-910b-4d98-9285-d306e6b8ae79\",\"type\":\"PanTool\"},{\"attributes\":{\"bottom_units\":\"screen\",\"fill_alpha\":{\"value\":0.5},\"fill_color\":{\"value\":\"lightgrey\"},\"left_units\":\"screen\",\"level\":\"overlay\",\"line_alpha\":{\"value\":1.0},\"line_color\":{\"value\":\"black\"},\"line_dash\":[4,4],\"line_width\":{\"value\":2},\"plot\":null,\"render_mode\":\"css\",\"right_units\":\"screen\",\"top_units\":\"screen\"},\"id\":\"d13297f2-1f88-47d5-b091-65d26ae9cae2\",\"type\":\"BoxAnnotation\"},{\"attributes\":{\"dimension\":1,\"plot\":{\"id\":\"bf6946af-7252-4482-a569-2cf88a24ccaa\",\"subtype\":\"Figure\",\"type\":\"Plot\"},\"ticker\":{\"id\":\"8d45b3f6-de7e-48a0-a555-8965fdaa4fd3\",\"type\":\"BasicTicker\"}},\"id\":\"bb5681fd-4b38-4984-9460-de16390ca7f8\",\"type\":\"Grid\"},{\"attributes\":{\"active_drag\":\"auto\",\"active_inspect\":\"auto\",\"active_scroll\":\"auto\",\"active_tap\":\"auto\",\"tools\":[{\"id\":\"052ff0fc-910b-4d98-9285-d306e6b8ae79\",\"type\":\"PanTool\"},{\"id\":\"26b25ed5-7bf7-4787-927a-1e29d6d3f53f\",\"type\":\"WheelZoomTool\"},{\"id\":\"e56c08d4-a64b-48f3-8718-207ecb4cd34e\",\"type\":\"BoxZoomTool\"},{\"id\":\"1ffdc52e-a97e-496c-ad66-cd007781d630\",\"type\":\"SaveTool\"},{\"id\":\"b2267829-091b-4665-9224-b44c5ed4c579\",\"type\":\"ResetTool\"},{\"id\":\"f02c2bbd-433f-4788-8606-6f377afd3851\",\"type\":\"HelpTool\"}]},\"id\":\"9a48a9f7-fefe-4d6d-8c93-a5d5973538e5\",\"type\":\"Toolbar\"},{\"attributes\":{},\"id\":\"f6e68dd1-2965-4e73-9a83-ae653b9b228a\",\"type\":\"Selection\"},{\"attributes\":{\"axis_label\":\"cooling rate [K/day]\",\"formatter\":{\"id\":\"8ee8b0c9-76b1-4ee2-a731-fa51e7f30753\",\"type\":\"BasicTickFormatter\"},\"plot\":{\"id\":\"bf6946af-7252-4482-a569-2cf88a24ccaa\",\"subtype\":\"Figure\",\"type\":\"Plot\"},\"ticker\":{\"id\":\"3a80461b-0362-49b8-aeb8-16be1b5cb085\",\"type\":\"BasicTicker\"}},\"id\":\"e464a7e6-a021-4f9d-9186-1cd7b2a2c3af\",\"type\":\"LinearAxis\"},{\"attributes\":{},\"id\":\"8d45b3f6-de7e-48a0-a555-8965fdaa4fd3\",\"type\":\"BasicTicker\"},{\"attributes\":{\"line_alpha\":0.6,\"line_color\":\"#e41a1c\",\"line_dash\":[6],\"line_width\":5,\"x\":{\"field\":\"x\"},\"y\":{\"field\":\"y\"}},\"id\":\"79a640cb-9455-4f2f-ae6f-9f89ac6a21dd\",\"type\":\"Line\"},{\"attributes\":{},\"id\":\"8b4b8b8c-832f-4c12-80cc-8885e257bc5e\",\"type\":\"ResetTool\"},{\"attributes\":{\"plot\":{\"id\":\"bf6946af-7252-4482-a569-2cf88a24ccaa\",\"subtype\":\"Figure\",\"type\":\"Plot\"},\"ticker\":{\"id\":\"3a80461b-0362-49b8-aeb8-16be1b5cb085\",\"type\":\"BasicTicker\"}},\"id\":\"ecd7e584-f4cd-464f-8992-3b8f58824ec8\",\"type\":\"Grid\"},{\"attributes\":{\"callback\":null,\"end\":0.01,\"start\":1020},\"id\":\"89c1c21d-501a-4f3c-ad66-136e5f66099f\",\"type\":\"Range1d\"},{\"attributes\":{},\"id\":\"d9c1f3bd-a1c6-413a-983e-318b35b2d230\",\"type\":\"HelpTool\"},{\"attributes\":{\"line_alpha\":0.1,\"line_color\":\"#1f77b4\",\"line_dash\":[6],\"line_width\":5,\"x\":{\"field\":\"x\"},\"y\":{\"field\":\"y\"}},\"id\":\"535cadbd-ee77-4c11-91f9-65e3f56d0c03\",\"type\":\"Line\"},{\"attributes\":{\"data_source\":{\"id\":\"76f718aa-9e69-4791-bf20-2dced6b08d1b\",\"type\":\"ColumnDataSource\"},\"glyph\":{\"id\":\"94502cc9-793b-41c3-a87b-71024c5ee29d\",\"type\":\"Circle\"},\"hover_glyph\":null,\"muted_glyph\":null,\"nonselection_glyph\":{\"id\":\"9f2f7957-3e3d-44ae-83d2-03125923e4c3\",\"type\":\"Circle\"},\"selection_glyph\":null,\"view\":{\"id\":\"3f379194-9d32-4a0f-b2c7-39ef479e8178\",\"type\":\"CDSView\"}},\"id\":\"2bb54e84-8aa4-493b-ae3d-b502fd88a92e\",\"type\":\"GlyphRenderer\"},{\"attributes\":{\"active_drag\":\"auto\",\"active_inspect\":\"auto\",\"active_scroll\":\"auto\",\"active_tap\":\"auto\",\"tools\":[{\"id\":\"39d0554f-b69c-49ee-837d-26e0b568b3f3\",\"type\":\"PanTool\"},{\"id\":\"f048cb80-08b1-4101-b392-63333b84015f\",\"type\":\"WheelZoomTool\"},{\"id\":\"2d4d66aa-1073-4ea1-9d1b-9f1763d11446\",\"type\":\"BoxZoomTool\"},{\"id\":\"4f409c23-35ce-4aac-94e7-a253fbc475a9\",\"type\":\"SaveTool\"},{\"id\":\"2e03491e-553c-4fed-8d48-74fa83764c6d\",\"type\":\"ResetTool\"},{\"id\":\"ead8621d-ca5a-4fb8-b6c2-7b3226a2cff6\",\"type\":\"HelpTool\"}]},\"id\":\"409a5d72-38e0-4454-a612-c8290b7afde9\",\"type\":\"Toolbar\"},{\"attributes\":{\"fill_alpha\":{\"value\":0.1},\"fill_color\":{\"value\":\"#1f77b4\"},\"line_alpha\":{\"value\":0.1},\"line_color\":{\"value\":\"#1f77b4\"},\"x\":{\"field\":\"x\"},\"y\":{\"field\":\"y\"}},\"id\":\"7d8a462b-64d3-441b-b1cb-7fb0095d88d2\",\"type\":\"Circle\"},{\"attributes\":{\"plot\":null,\"text\":\"\"},\"id\":\"2fcecbb0-cae7-47c1-8db1-bf4fd60110e6\",\"type\":\"Title\"},{\"attributes\":{\"source\":{\"id\":\"76f718aa-9e69-4791-bf20-2dced6b08d1b\",\"type\":\"ColumnDataSource\"}},\"id\":\"3f379194-9d32-4a0f-b2c7-39ef479e8178\",\"type\":\"CDSView\"},{\"attributes\":{\"children\":[{\"id\":\"6da6e6c4-01a0-4784-968d-006f082988c0\",\"type\":\"Row\"}]},\"id\":\"095546bc-70c5-415b-a2bd-94d1f03337ae\",\"type\":\"Column\"},{\"attributes\":{},\"id\":\"9fb38dbd-6e86-4cd7-87f7-c9caffcab033\",\"type\":\"PanTool\"},{\"attributes\":{},\"id\":\"15b9dda1-6d5b-424a-8bf7-faaddacdf5b6\",\"type\":\"UnionRenderers\"},{\"attributes\":{},\"id\":\"f02c2bbd-433f-4788-8606-6f377afd3851\",\"type\":\"HelpTool\"},{\"attributes\":{\"callback\":null,\"end\":0.01,\"start\":1020},\"id\":\"8e6a59b8-8392-4e34-8172-addcd4948267\",\"type\":\"Range1d\"},{\"attributes\":{},\"id\":\"520e8823-1fcb-464e-9122-8ef8678df385\",\"type\":\"LinearScale\"},{\"attributes\":{\"children\":[{\"id\":\"1d13485c-dab8-4bdd-ab79-129c9e2027ad\",\"type\":\"ToolbarBox\"},{\"id\":\"095546bc-70c5-415b-a2bd-94d1f03337ae\",\"type\":\"Column\"}]},\"id\":\"86a85d03-1bd2-45b8-bca6-024831fe3e17\",\"type\":\"Column\"},{\"attributes\":{\"line_alpha\":0.1,\"line_color\":\"#1f77b4\",\"line_width\":1.5,\"x\":{\"field\":\"x\"},\"y\":{\"field\":\"y\"}},\"id\":\"bc73ecac-2850-4f97-b9ee-858802387d1e\",\"type\":\"Line\"},{\"attributes\":{},\"id\":\"a1de1a7c-804f-402a-a7c0-a2909cb8a6ab\",\"type\":\"Selection\"},{\"attributes\":{},\"id\":\"45d6a361-56f5-41d6-be2f-09a52b109572\",\"type\":\"LogScale\"},{\"attributes\":{\"children\":[{\"id\":\"bf6946af-7252-4482-a569-2cf88a24ccaa\",\"subtype\":\"Figure\",\"type\":\"Plot\"},{\"id\":\"dcc1991e-6eaa-420d-8311-7d1928220b56\",\"subtype\":\"Figure\",\"type\":\"Plot\"},{\"id\":\"bb9f438c-1e44-42ef-89ca-61576bac0732\",\"subtype\":\"Figure\",\"type\":\"Plot\"}]},\"id\":\"6da6e6c4-01a0-4784-968d-006f082988c0\",\"type\":\"Row\"},{\"attributes\":{\"source\":{\"id\":\"8df2b8d0-4e92-4ad9-80c0-1808d9555426\",\"type\":\"ColumnDataSource\"}},\"id\":\"36d2b9ba-7d67-43be-a780-67c9a35fe7bc\",\"type\":\"CDSView\"},{\"attributes\":{\"line_alpha\":0.1,\"line_color\":\"#1f77b4\",\"line_width\":1.5,\"x\":{\"field\":\"x\"},\"y\":{\"field\":\"y\"}},\"id\":\"909f3a94-e5ce-4578-96cc-8fd4f0826514\",\"type\":\"Line\"},{\"attributes\":{\"dimension\":1,\"plot\":{\"id\":\"dcc1991e-6eaa-420d-8311-7d1928220b56\",\"subtype\":\"Figure\",\"type\":\"Plot\"},\"ticker\":{\"id\":\"b742e423-ca55-4ce3-9896-8f548e03a9bc\",\"type\":\"LogTicker\"}},\"id\":\"735f1a50-d352-4953-ae0b-dcd66a59afe7\",\"type\":\"Grid\"},{\"attributes\":{\"dimension\":1,\"plot\":{\"id\":\"bb9f438c-1e44-42ef-89ca-61576bac0732\",\"subtype\":\"Figure\",\"type\":\"Plot\"},\"ticker\":{\"id\":\"94d952ec-17e1-4dd1-b6d5-c98aa0cf69f9\",\"type\":\"LogTicker\"}},\"id\":\"f7310b92-2e8b-4fb3-aee4-45f30d1004a4\",\"type\":\"Grid\"},{\"attributes\":{\"axis_label\":\"cooling rate [K/day]\",\"formatter\":{\"id\":\"c7fef6ad-22f9-4120-b698-b10ac5099d4a\",\"type\":\"BasicTickFormatter\"},\"plot\":{\"id\":\"dcc1991e-6eaa-420d-8311-7d1928220b56\",\"subtype\":\"Figure\",\"type\":\"Plot\"},\"ticker\":{\"id\":\"e49c4fb2-4ef1-48c6-b33e-cd3776145ab0\",\"type\":\"BasicTicker\"}},\"id\":\"4552ee3f-2727-4155-8c74-4fc51b136e8c\",\"type\":\"LinearAxis\"},{\"attributes\":{\"data_source\":{\"id\":\"f73ec41e-970d-4965-83ea-eb4eb7cf11b6\",\"type\":\"ColumnDataSource\"},\"glyph\":{\"id\":\"8416d339-a391-44aa-8535-1b03123f6dcf\",\"type\":\"Line\"},\"hover_glyph\":null,\"muted_glyph\":null,\"nonselection_glyph\":{\"id\":\"c4bf9ee7-dc31-470a-811e-e62f4d9c3bcb\",\"type\":\"Line\"},\"selection_glyph\":null,\"view\":{\"id\":\"d783f21a-b3d8-433d-bffe-1f05fcd3228b\",\"type\":\"CDSView\"}},\"id\":\"0dd57df1-73d8-400c-85fd-d9f2e15d71eb\",\"type\":\"GlyphRenderer\"},{\"attributes\":{\"label\":{\"value\":\"CLIRAD - CRD\"},\"renderers\":[{\"id\":\"2bb54e84-8aa4-493b-ae3d-b502fd88a92e\",\"type\":\"GlyphRenderer\"},{\"id\":\"c4844834-b690-49cf-b6ee-139e7bf30c9f\",\"type\":\"GlyphRenderer\"}]},\"id\":\"b615a003-82dc-4ec4-a03e-073332716545\",\"type\":\"LegendItem\"},{\"attributes\":{\"data_source\":{\"id\":\"16eab5e1-d962-4ac8-a2ed-eef95471c5d4\",\"type\":\"ColumnDataSource\"},\"glyph\":{\"id\":\"250f202e-bd4b-4968-ad02-970005978b65\",\"type\":\"Line\"},\"hover_glyph\":null,\"muted_glyph\":null,\"nonselection_glyph\":{\"id\":\"bc73ecac-2850-4f97-b9ee-858802387d1e\",\"type\":\"Line\"},\"selection_glyph\":null,\"view\":{\"id\":\"27d17e13-ff2f-41cc-bb81-48cac57e15a7\",\"type\":\"CDSView\"}},\"id\":\"c4844834-b690-49cf-b6ee-139e7bf30c9f\",\"type\":\"GlyphRenderer\"},{\"attributes\":{\"callback\":null,\"end\":10.104113164444412,\"start\":-0.22028496673981396},\"id\":\"6a9a611a-3965-47e9-b7e1-1158cde35f2d\",\"type\":\"Range1d\"},{\"attributes\":{\"items\":[{\"id\":\"b615a003-82dc-4ec4-a03e-073332716545\",\"type\":\"LegendItem\"}],\"label_text_font_size\":{\"value\":\"8pt\"},\"location\":\"top_center\",\"orientation\":\"horizontal\",\"plot\":{\"id\":\"bb9f438c-1e44-42ef-89ca-61576bac0732\",\"subtype\":\"Figure\",\"type\":\"Plot\"}},\"id\":\"f0f10797-42c5-40cf-9ded-482b03931687\",\"type\":\"Legend\"},{\"attributes\":{\"line_alpha\":0.1,\"line_color\":\"#1f77b4\",\"line_dash\":[6],\"line_width\":5,\"x\":{\"field\":\"x\"},\"y\":{\"field\":\"y\"}},\"id\":\"c4bf9ee7-dc31-470a-811e-e62f4d9c3bcb\",\"type\":\"Line\"},{\"attributes\":{\"source\":{\"id\":\"16eab5e1-d962-4ac8-a2ed-eef95471c5d4\",\"type\":\"ColumnDataSource\"}},\"id\":\"27d17e13-ff2f-41cc-bb81-48cac57e15a7\",\"type\":\"CDSView\"},{\"attributes\":{\"num_minor_ticks\":10},\"id\":\"94d952ec-17e1-4dd1-b6d5-c98aa0cf69f9\",\"type\":\"LogTicker\"},{\"attributes\":{\"line_color\":\"#4daf4a\",\"line_width\":1.5,\"x\":{\"field\":\"x\"},\"y\":{\"field\":\"y\"}},\"id\":\"066d5452-424a-4a9f-8a92-1851a24b4f0d\",\"type\":\"Line\"},{\"attributes\":{},\"id\":\"f048cb80-08b1-4101-b392-63333b84015f\",\"type\":\"WheelZoomTool\"},{\"attributes\":{\"axis_label\":\"pressure [mb]\",\"formatter\":{\"id\":\"393a8a16-b3b2-448a-85ee-6c80441bfc5d\",\"type\":\"LogTickFormatter\"},\"plot\":{\"id\":\"bb9f438c-1e44-42ef-89ca-61576bac0732\",\"subtype\":\"Figure\",\"type\":\"Plot\"},\"ticker\":{\"id\":\"94d952ec-17e1-4dd1-b6d5-c98aa0cf69f9\",\"type\":\"LogTicker\"}},\"id\":\"e51b62ef-cbc6-4bf2-9092-7238119ad7d4\",\"type\":\"LogAxis\"},{\"attributes\":{\"source\":{\"id\":\"8a321828-fed7-4bc4-90d9-ed84aac14ce0\",\"type\":\"ColumnDataSource\"}},\"id\":\"e3ee5418-36f1-42dc-bbaa-fa76d8838cef\",\"type\":\"CDSView\"},{\"attributes\":{\"above\":[{\"id\":\"1be6e825-98c3-40ee-9f79-3156aed71086\",\"type\":\"Legend\"}],\"below\":[{\"id\":\"e464a7e6-a021-4f9d-9186-1cd7b2a2c3af\",\"type\":\"LinearAxis\"}],\"left\":[{\"id\":\"f5b6a9a9-194d-4e7c-95a9-4658976dd6cc\",\"type\":\"LinearAxis\"}],\"plot_width\":300,\"renderers\":[{\"id\":\"e464a7e6-a021-4f9d-9186-1cd7b2a2c3af\",\"type\":\"LinearAxis\"},{\"id\":\"ecd7e584-f4cd-464f-8992-3b8f58824ec8\",\"type\":\"Grid\"},{\"id\":\"f5b6a9a9-194d-4e7c-95a9-4658976dd6cc\",\"type\":\"LinearAxis\"},{\"id\":\"bb5681fd-4b38-4984-9460-de16390ca7f8\",\"type\":\"Grid\"},{\"id\":\"871a16a2-942d-4280-be68-cd8916cdb965\",\"type\":\"BoxAnnotation\"},{\"id\":\"2249272f-8bb4-47b3-8f8c-6bef9e5eec6d\",\"type\":\"GlyphRenderer\"},{\"id\":\"586aa605-24f2-4095-af8c-0dbeb65cbee3\",\"type\":\"GlyphRenderer\"},{\"id\":\"aed040c0-39d2-440e-bb29-88e3f782045e\",\"type\":\"GlyphRenderer\"},{\"id\":\"1be6e825-98c3-40ee-9f79-3156aed71086\",\"type\":\"Legend\"}],\"title\":{\"id\":\"2fcecbb0-cae7-47c1-8db1-bf4fd60110e6\",\"type\":\"Title\"},\"toolbar\":{\"id\":\"9a48a9f7-fefe-4d6d-8c93-a5d5973538e5\",\"type\":\"Toolbar\"},\"toolbar_location\":null,\"x_range\":{\"id\":\"7049e4f2-3033-4311-a95c-448b32fe599b\",\"type\":\"Range1d\"},\"x_scale\":{\"id\":\"913d93c5-4cc3-4fbf-a6be-0ee92cb69355\",\"type\":\"LinearScale\"},\"y_range\":{\"id\":\"89c1c21d-501a-4f3c-ad66-136e5f66099f\",\"type\":\"Range1d\"},\"y_scale\":{\"id\":\"9cffb640-7285-494f-8ad0-cd2278f4a0bf\",\"type\":\"LinearScale\"}},\"id\":\"bf6946af-7252-4482-a569-2cf88a24ccaa\",\"subtype\":\"Figure\",\"type\":\"Plot\"},{\"attributes\":{},\"id\":\"59d67a59-f72b-4a3f-a6e2-3237e4a44cb0\",\"type\":\"LinearScale\"},{\"attributes\":{\"plot\":{\"id\":\"bb9f438c-1e44-42ef-89ca-61576bac0732\",\"subtype\":\"Figure\",\"type\":\"Plot\"},\"ticker\":{\"id\":\"03ca1626-eed8-439d-b983-9cdf78db02c2\",\"type\":\"BasicTicker\"}},\"id\":\"f1904a8b-3fef-4f1c-a7e9-c57ae1e8c612\",\"type\":\"Grid\"},{\"attributes\":{},\"id\":\"03ca1626-eed8-439d-b983-9cdf78db02c2\",\"type\":\"BasicTicker\"},{\"attributes\":{\"axis_label\":\"cooling rate [K/day]\",\"formatter\":{\"id\":\"1b260c07-fb06-4d3f-8d59-93212d2dd16f\",\"type\":\"BasicTickFormatter\"},\"plot\":{\"id\":\"bb9f438c-1e44-42ef-89ca-61576bac0732\",\"subtype\":\"Figure\",\"type\":\"Plot\"},\"ticker\":{\"id\":\"03ca1626-eed8-439d-b983-9cdf78db02c2\",\"type\":\"BasicTicker\"}},\"id\":\"9c1a5ad9-4ab5-4573-9945-e26323e51c69\",\"type\":\"LinearAxis\"},{\"attributes\":{\"label\":{\"value\":\"CLIRAD\"},\"renderers\":[{\"id\":\"2249272f-8bb4-47b3-8f8c-6bef9e5eec6d\",\"type\":\"GlyphRenderer\"}]},\"id\":\"88ddc429-caa1-4d5a-8df3-378fa2121672\",\"type\":\"LegendItem\"},{\"attributes\":{\"source\":{\"id\":\"f73ec41e-970d-4965-83ea-eb4eb7cf11b6\",\"type\":\"ColumnDataSource\"}},\"id\":\"d783f21a-b3d8-433d-bffe-1f05fcd3228b\",\"type\":\"CDSView\"},{\"attributes\":{\"axis_label\":\"pressure [mb]\",\"formatter\":{\"id\":\"2b047a23-1777-42b7-92e3-555e526e9d7d\",\"type\":\"LogTickFormatter\"},\"plot\":{\"id\":\"dcc1991e-6eaa-420d-8311-7d1928220b56\",\"subtype\":\"Figure\",\"type\":\"Plot\"},\"ticker\":{\"id\":\"b742e423-ca55-4ce3-9896-8f548e03a9bc\",\"type\":\"LogTicker\"}},\"id\":\"c91280d1-b61a-41e4-b7f2-77388c501371\",\"type\":\"LogAxis\"},{\"attributes\":{\"label\":{\"value\":\"CLIRAD\"},\"renderers\":[{\"id\":\"0dd57df1-73d8-400c-85fd-d9f2e15d71eb\",\"type\":\"GlyphRenderer\"}]},\"id\":\"b37e6824-b3dc-4eed-a5d2-63b1ec121ca6\",\"type\":\"LegendItem\"},{\"attributes\":{\"overlay\":{\"id\":\"940ab3be-036f-4264-8132-56941d620c85\",\"type\":\"BoxAnnotation\"}},\"id\":\"2d4d66aa-1073-4ea1-9d1b-9f1763d11446\",\"type\":\"BoxZoomTool\"},{\"attributes\":{},\"id\":\"4f409c23-35ce-4aac-94e7-a253fbc475a9\",\"type\":\"SaveTool\"},{\"attributes\":{\"bottom_units\":\"screen\",\"fill_alpha\":{\"value\":0.5},\"fill_color\":{\"value\":\"lightgrey\"},\"left_units\":\"screen\",\"level\":\"overlay\",\"line_alpha\":{\"value\":1.0},\"line_color\":{\"value\":\"black\"},\"line_dash\":[4,4],\"line_width\":{\"value\":2},\"plot\":null,\"render_mode\":\"css\",\"right_units\":\"screen\",\"top_units\":\"screen\"},\"id\":\"940ab3be-036f-4264-8132-56941d620c85\",\"type\":\"BoxAnnotation\"},{\"attributes\":{\"fill_alpha\":{\"value\":0.1},\"fill_color\":{\"value\":\"#1f77b4\"},\"line_alpha\":{\"value\":0.1},\"line_color\":{\"value\":\"#1f77b4\"},\"x\":{\"field\":\"x\"},\"y\":{\"field\":\"y\"}},\"id\":\"9f2f7957-3e3d-44ae-83d2-03125923e4c3\",\"type\":\"Circle\"},{\"attributes\":{\"fill_alpha\":{\"value\":0.7},\"fill_color\":{\"value\":\"#4daf4a\"},\"line_alpha\":{\"value\":0.7},\"line_color\":{\"value\":\"#4daf4a\"},\"x\":{\"field\":\"x\"},\"y\":{\"field\":\"y\"}},\"id\":\"f66feeb4-5f1f-45a6-90a1-feb92686f946\",\"type\":\"Circle\"},{\"attributes\":{},\"id\":\"39d0554f-b69c-49ee-837d-26e0b568b3f3\",\"type\":\"PanTool\"},{\"attributes\":{\"active_drag\":\"auto\",\"active_inspect\":\"auto\",\"active_scroll\":\"auto\",\"active_tap\":\"auto\",\"tools\":[{\"id\":\"9fb38dbd-6e86-4cd7-87f7-c9caffcab033\",\"type\":\"PanTool\"},{\"id\":\"1fe95113-6b5e-4627-9f88-d1393279d034\",\"type\":\"WheelZoomTool\"},{\"id\":\"a32aa200-10d1-4a53-9438-abd12c85e3d2\",\"type\":\"BoxZoomTool\"},{\"id\":\"47697c62-b89c-4999-bc8f-3b363431d5de\",\"type\":\"SaveTool\"},{\"id\":\"8b4b8b8c-832f-4c12-80cc-8885e257bc5e\",\"type\":\"ResetTool\"},{\"id\":\"d9c1f3bd-a1c6-413a-983e-318b35b2d230\",\"type\":\"HelpTool\"}]},\"id\":\"5fbf1a37-466f-4d83-93d3-0625730700e0\",\"type\":\"Toolbar\"},{\"attributes\":{\"callback\":null,\"data\":{\"x\":{\"__ndarray__\":\"4plCjPhfU0ANjA1Bns5EQBrp6TP/2kBAQAwjoUbcOkCat2v1mSU1QFi1eXDclTBA+usLh9AaKkAuSOi1r7YkQMM0wBzOlyBAhVUPi9+/GkDDObL024AVQHrOqyeK8BBAJoQI3f4qCUCSnPBS9vz8P0pC768sd+k/I07Tn8xq8z+VhBPkanACQM1y6syryghAyrAk0uPuDkCaqjxDUAoTQDmjjKh/uRdANbGVYp4/H0BbU0NEewEkQF3V2AR8TyNAmyZFB6GzHUBOLSckw/cWQKxq7Y6ZORJA7+8gpb1lDUDzOrhIkkcIQMD/srOiPQRAcwOaSb5OAECN3w99mpz4P2Kj16uZm/I/WsQTc7s17T/ZPJjEOoXkPzR0+uo24NY/jQK1EoK4yT+da+XJsufCP3vZsnWTrKA/nCo9jRF7vr+izCCCu+28v7XUwrGuI54/h2rLKJgpuj9hsJBEImTBP9vHJpihQcQ/ypIrF0xxxj9ECwg6JTzIP4zw1UHDyMk/7RMvetYxyz+tUceQpn7MPx12w3J4nc0/lCVuOkRwzj8+vZqM6OvOP+uMOTLELM8/2+0rDkJdzz9ipeIRCJfPPzpj6aK5388/vm9MC1wc0D+hPKUmKFHQP5NAIH6kjdA/wfqJaBvT0D+RJ9D43yTRP6KNdDb9h9E/aKB9j84D0j848N+XtKPSP4oB755JdtM/z7b8JlVv1D/PUQoV/EHVPxYImbLjitU/RUlm3CNF1T8iV63+DtnUPy9uNomQpNQ/o6XXLA7R1D+XSd0g+5nVP/q39BZtgts/\",\"dtype\":\"float64\",\"shape\":[75]},\"y\":{\"__ndarray__\":\"GhExyth1ND/Sv8nbtpRIP2vylNV0PVE/aTum7souWD/At0SJ8fVgPw3Iuahxymc/MSNhhJWvcD/bTfBN02d3P2zb5nxnaoA/CD5h5MAGhz8NmeH1TyaQP+zrCsc9p5Y/LbKd76fGnz/bLW5ISEmmPww9YvTcQq8/JV2OstnstT8Er5Y7M8G+P0c+r3jqkcU/5h99k6ZBzj88bCIzFzjVP4enV8oyxN0//yH99nXg5D8qOpLLf0jtP5kqGJXUifQ/c9cS8kHP/D+/DpwzojQEQIEmwoanVwxA4lgXt9HgE0BSSZ2AJuIbQAMJih9jjiNA5q4l5INuK0AwTKYKRj0zQNv5fmq8/DpAaCJseHrtQkB/+zpwzoxKQM3MzMzMeFJAZmZmZmZqWEAAAAAAAFxeQM3MzMzMJmJAmpmZmZkfZUBmZmZmZhhoQDMzMzMzEWtAAAAAAAAKbkBmZmZmZoFwQM3MzMzM/XFAMzMzMzN6c0CamZmZmfZ0QAAAAAAAc3ZAZmZmZmbvd0DNzMzMzGt5QDMzMzMz6HpAmpmZmZlkfEAAAAAAAOF9QGZmZmZmXX9AZmZmZuZsgECamZmZGSuBQM3MzMxM6YFAAAAAAICngkAzMzMzs2WDQGZmZmbmI4RAmpmZmRnihEDNzMzMTKCFQAAAAACAXoZAMzMzM7Mch0BmZmZm5tqHQJqZmZkZmYhAzczMzExXiUAAAAAAgBWKQDMzMzOz04pAZmZmZuaRi0CamZmZGVCMQM3MzMxMDo1AAAAAAIDMjUAzMzMzs4qOQGZmZmbmSI9A\",\"dtype\":\"float64\",\"shape\":[75]}},\"selected\":{\"id\":\"1a90cd8c-ed08-4bba-87be-c712b326a9c1\",\"type\":\"Selection\"},\"selection_policy\":{\"id\":\"d8477dcc-2b9b-4ab4-b996-7b6ebf9cd955\",\"type\":\"UnionRenderers\"}},\"id\":\"c37e0859-ee0d-4a1d-b587-76ef856ec0cb\",\"type\":\"ColumnDataSource\"},{\"attributes\":{\"data_source\":{\"id\":\"3d35968f-c229-471a-9639-9e0b3b0c9cee\",\"type\":\"ColumnDataSource\"},\"glyph\":{\"id\":\"e5fea153-f517-4c51-b9c5-2d6014eeff2b\",\"type\":\"Line\"},\"hover_glyph\":null,\"muted_glyph\":null,\"nonselection_glyph\":{\"id\":\"909f3a94-e5ce-4578-96cc-8fd4f0826514\",\"type\":\"Line\"},\"selection_glyph\":null,\"view\":{\"id\":\"fc253fd0-c051-489e-8ff9-dbeaa80b0138\",\"type\":\"CDSView\"}},\"id\":\"7be4663a-90c1-44d5-bc52-6735af3f571c\",\"type\":\"GlyphRenderer\"},{\"attributes\":{},\"id\":\"2e03491e-553c-4fed-8d48-74fa83764c6d\",\"type\":\"ResetTool\"},{\"attributes\":{\"data_source\":{\"id\":\"c37e0859-ee0d-4a1d-b587-76ef856ec0cb\",\"type\":\"ColumnDataSource\"},\"glyph\":{\"id\":\"f66feeb4-5f1f-45a6-90a1-feb92686f946\",\"type\":\"Circle\"},\"hover_glyph\":null,\"muted_glyph\":null,\"nonselection_glyph\":{\"id\":\"7d8a462b-64d3-441b-b1cb-7fb0095d88d2\",\"type\":\"Circle\"},\"selection_glyph\":null,\"view\":{\"id\":\"d99b4bba-b207-4992-a7a3-b6ddd1faf221\",\"type\":\"CDSView\"}},\"id\":\"c17ebe4a-4957-4850-992a-f29fce3cc40c\",\"type\":\"GlyphRenderer\"},{\"attributes\":{\"toolbar\":{\"id\":\"fe20f6c4-ee9e-472d-9381-5e2548dadeda\",\"type\":\"ProxyToolbar\"},\"toolbar_location\":\"above\"},\"id\":\"1d13485c-dab8-4bdd-ab79-129c9e2027ad\",\"type\":\"ToolbarBox\"},{\"attributes\":{},\"id\":\"ead8621d-ca5a-4fb8-b6c2-7b3226a2cff6\",\"type\":\"HelpTool\"},{\"attributes\":{\"callback\":null,\"data\":{\"x\":{\"__ndarray__\":\"xA2DZIOPS0CQhgKJyvxEQJLNhwEEH0JANdHB8haxPUD21DW2n9A2QKLnIYTdkDBAWjC5KDl+J0BmTy8GLnchQNFYGcXHOhxAEFh9GuUEGEAcLYwZmQQUQBiuV4kBKQ9AaIQ6XUfCBUBqOu1sptT1P0L+A0Mhn94/3zWt0/Rq8T/Mj2f1a+QCQFoUWcEScApAQy3Xx09NEECi4mx09vcSQNVrNOkIcBZAMiVq13iTHUB6mgNsVm4jQF/4zWxz+SJAd0QrVpnxHEAwKrE7+ewVQPoSXyqMNhJAH0+iZBDfDkBaSOMqmWcJQInsFxSupQRAE2GYPUK0AEALibaOaiP4PybSFGyK3PE/fVDrV/iZ7j+2QU6Y50rmP1gom3hjZtY/a0IjJ7aTxz/8+K2QkIXEP+ezfpmB6K4/SnpvyJpjuL+nKVylZcC5v/zzy6AVsZw/Bys/QcpVtz/DvXEcOKO+P6HH7bXuz8E/BrjkZcJwwz+GQsMklRfFP6kCax1ga8Y/O4SScCTYxz84a5cpimTJP0Z54UKE8Mo/dAOrSXwezD8zFkNUYDXNP8ZXUwLv980/23sNCWyqzj8xKCFBAlnPP8pxrEP3BNA/rM7pWFxf0D9shnxoS7zQP6nE6SteGdE/oeiWKgx60T8GEazYhsvRP51ZaVfDQ9I/fMLqtBvJ0j9lke9YyGHTP1ewPVbYQ9Q/D2t/HTc51T+Hj3wktPzVP43lsfQOWNY/A2YWhYML1j/gUyEsj5/VP+LZw3EwcdU/L9LFF8aF1T8E6MB4YlvWP4Jt0b3fLNw/\",\"dtype\":\"float64\",\"shape\":[75]},\"y\":{\"__ndarray__\":\"GhExyth1ND/Sv8nbtpRIP2vylNV0PVE/aTum7souWD/At0SJ8fVgPw3Iuahxymc/MSNhhJWvcD/bTfBN02d3P2zb5nxnaoA/CD5h5MAGhz8NmeH1TyaQP+zrCsc9p5Y/LbKd76fGnz/bLW5ISEmmPww9YvTcQq8/JV2OstnstT8Er5Y7M8G+P0c+r3jqkcU/5h99k6ZBzj88bCIzFzjVP4enV8oyxN0//yH99nXg5D8qOpLLf0jtP5kqGJXUifQ/c9cS8kHP/D+/DpwzojQEQIEmwoanVwxA4lgXt9HgE0BSSZ2AJuIbQAMJih9jjiNA5q4l5INuK0AwTKYKRj0zQNv5fmq8/DpAaCJseHrtQkB/+zpwzoxKQM3MzMzMeFJAZmZmZmZqWEAAAAAAAFxeQM3MzMzMJmJAmpmZmZkfZUBmZmZmZhhoQDMzMzMzEWtAAAAAAAAKbkBmZmZmZoFwQM3MzMzM/XFAMzMzMzN6c0CamZmZmfZ0QAAAAAAAc3ZAZmZmZmbvd0DNzMzMzGt5QDMzMzMz6HpAmpmZmZlkfEAAAAAAAOF9QGZmZmZmXX9AZmZmZuZsgECamZmZGSuBQM3MzMxM6YFAAAAAAICngkAzMzMzs2WDQGZmZmbmI4RAmpmZmRnihEDNzMzMTKCFQAAAAACAXoZAMzMzM7Mch0BmZmZm5tqHQJqZmZkZmYhAzczMzExXiUAAAAAAgBWKQDMzMzOz04pAZmZmZuaRi0CamZmZGVCMQM3MzMxMDo1AAAAAAIDMjUAzMzMzs4qOQGZmZmbmSI9A\",\"dtype\":\"float64\",\"shape\":[75]}},\"selected\":{\"id\":\"012ea0e3-13e6-453b-ba1f-813e668160d4\",\"type\":\"Selection\"},\"selection_policy\":{\"id\":\"bd9d072a-6a6f-4c1d-a8f7-8602bfd8b194\",\"type\":\"UnionRenderers\"}},\"id\":\"f73ec41e-970d-4965-83ea-eb4eb7cf11b6\",\"type\":\"ColumnDataSource\"},{\"attributes\":{\"callback\":null,\"data\":{\"x\":{\"__ndarray__\":\"AEwEaNtgNsCAQX36IxbXP4BH3tlMQARAqCf2jIKmBkDA1aEMXLD6PwDYNl+x+5O/AN2V8rrk9L9Axsd9Dfz5v9RCnNFR0/O/qOuPhNPX5b9wymCyLcTXv+B2/y+WwNW/8P1v/rtF27+giA2YP6Hcv1KG2hw4T9S/QIRhwnz9v7/AzQJVRACtP9AY6kZvVso/wJua2Lu7yj8A+MfPzlmSv0B2g/Vrl9S/MMC4sljC2r8gHPcHm2TSv4A/twImgsW/gEQ8I/ZAyL/gMWCHnqzQvwCQvXIka2i/APMV+CuVxz9w1rAibgDCP0AyOxnYAqo/AGiX//xgqT+AoFWW+0uev4AnWvjn4ae/MMJ4Tc5Dpj/QTWA7zVqsPwD30pfcdH6/EAGOXF8mkb/w1Yhs3N2JP9i0l0fcd5w/SME2E9tdmD/YFyXmrmqJP5ALbg+RKVe/APxhPG+ehr/8i76yMZSQv9AByBGXjZO/INY2ik0EmL/wRSaqgCSZvxhvVyMZ65q/kH3kTJDNmr+oM38549CYv7jmD3+hZ5W/ABEZhj+Okr+wcHqFg2iLv1BSY/5STYO/AEDOo8Badr+AmL5g6AJfvwAtwDdyGlU/gLtXZxPAcD/ActJ10Mh6P8CCMLk1d4E/ALydQRjehD+gLn3729SEP2B/mR7EeIc/gEKkraSpiD+gJfQheMKHP6DZ1enWsYk/AIhW0D48iT8At0fuAVeHP+CuG0NopYk/wJcDFvXLiD/Al3+uBdCIP2B2rRH9k4k/gJHFXf2Whj+gzXP86iyIPwCxlttUToU/\",\"dtype\":\"float64\",\"shape\":[75]},\"y\":{\"__ndarray__\":\"GhExyth1ND/Sv8nbtpRIP2vylNV0PVE/aTum7souWD/At0SJ8fVgPw3Iuahxymc/MSNhhJWvcD/bTfBN02d3P2zb5nxnaoA/CD5h5MAGhz8NmeH1TyaQP+zrCsc9p5Y/LbKd76fGnz/bLW5ISEmmPww9YvTcQq8/JV2OstnstT8Er5Y7M8G+P0c+r3jqkcU/5h99k6ZBzj88bCIzFzjVP4enV8oyxN0//yH99nXg5D8qOpLLf0jtP5kqGJXUifQ/c9cS8kHP/D+/DpwzojQEQIEmwoanVwxA4lgXt9HgE0BSSZ2AJuIbQAMJih9jjiNA5q4l5INuK0AwTKYKRj0zQNv5fmq8/DpAaCJseHrtQkB/+zpwzoxKQM3MzMzMeFJAZmZmZmZqWEAAAAAAAFxeQM3MzMzMJmJAmpmZmZkfZUBmZmZmZhhoQDMzMzMzEWtAAAAAAAAKbkBmZmZmZoFwQM3MzMzM/XFAMzMzMzN6c0CamZmZmfZ0QAAAAAAAc3ZAZmZmZmbvd0DNzMzMzGt5QDMzMzMz6HpAmpmZmZlkfEAAAAAAAOF9QGZmZmZmXX9AZmZmZuZsgECamZmZGSuBQM3MzMxM6YFAAAAAAICngkAzMzMzs2WDQGZmZmbmI4RAmpmZmRnihEDNzMzMTKCFQAAAAACAXoZAMzMzM7Mch0BmZmZm5tqHQJqZmZkZmYhAzczMzExXiUAAAAAAgBWKQDMzMzOz04pAZmZmZuaRi0CamZmZGVCMQM3MzMxMDo1AAAAAAIDMjUAzMzMzs4qOQGZmZmbmSI9A\",\"dtype\":\"float64\",\"shape\":[75]}},\"selected\":{\"id\":\"a5053ee8-4a65-461e-a31b-90da11c3ad97\",\"type\":\"Selection\"},\"selection_policy\":{\"id\":\"60a21b9d-2369-49a4-a077-a1470ec62116\",\"type\":\"UnionRenderers\"}},\"id\":\"76f718aa-9e69-4791-bf20-2dced6b08d1b\",\"type\":\"ColumnDataSource\"},{\"attributes\":{\"bottom_units\":\"screen\",\"fill_alpha\":{\"value\":0.5},\"fill_color\":{\"value\":\"lightgrey\"},\"left_units\":\"screen\",\"level\":\"overlay\",\"line_alpha\":{\"value\":1.0},\"line_color\":{\"value\":\"black\"},\"line_dash\":[4,4],\"line_width\":{\"value\":2},\"plot\":null,\"render_mode\":\"css\",\"right_units\":\"screen\",\"top_units\":\"screen\"},\"id\":\"871a16a2-942d-4280-be68-cd8916cdb965\",\"type\":\"BoxAnnotation\"},{\"attributes\":{\"fill_alpha\":{\"value\":0.1},\"fill_color\":{\"value\":\"#1f77b4\"},\"line_alpha\":{\"value\":0.1},\"line_color\":{\"value\":\"#1f77b4\"},\"x\":{\"field\":\"x\"},\"y\":{\"field\":\"y\"}},\"id\":\"5696e2ce-0fe1-479c-a5fd-c6887d4fc415\",\"type\":\"Circle\"},{\"attributes\":{\"line_alpha\":0.8,\"line_color\":\"#984ea3\",\"line_width\":1.5,\"x\":{\"field\":\"x\"},\"y\":{\"field\":\"y\"}},\"id\":\"250f202e-bd4b-4968-ad02-970005978b65\",\"type\":\"Line\"},{\"attributes\":{},\"id\":\"1fe95113-6b5e-4627-9f88-d1393279d034\",\"type\":\"WheelZoomTool\"},{\"attributes\":{\"callback\":null,\"end\":0.217768681679138,\"start\":-0.6915104783127481},\"id\":\"88b60e9d-f004-4e00-aa91-7b4417cb41a1\",\"type\":\"Range1d\"},{\"attributes\":{\"line_alpha\":0.1,\"line_color\":\"#1f77b4\",\"line_width\":1.5,\"x\":{\"field\":\"x\"},\"y\":{\"field\":\"y\"}},\"id\":\"e4436864-b7fd-41ea-8378-62a0882dec68\",\"type\":\"Line\"},{\"attributes\":{\"line_alpha\":0.6,\"line_color\":\"#e41a1c\",\"line_dash\":[6],\"line_width\":5,\"x\":{\"field\":\"x\"},\"y\":{\"field\":\"y\"}},\"id\":\"8416d339-a391-44aa-8535-1b03123f6dcf\",\"type\":\"Line\"},{\"attributes\":{},\"id\":\"a5053ee8-4a65-461e-a31b-90da11c3ad97\",\"type\":\"Selection\"},{\"attributes\":{\"source\":{\"id\":\"c37e0859-ee0d-4a1d-b587-76ef856ec0cb\",\"type\":\"ColumnDataSource\"}},\"id\":\"d99b4bba-b207-4992-a7a3-b6ddd1faf221\",\"type\":\"CDSView\"},{\"attributes\":{},\"id\":\"a897c356-24ff-47c0-90e0-405c6c6a91b9\",\"type\":\"Selection\"},{\"attributes\":{\"num_minor_ticks\":10},\"id\":\"b742e423-ca55-4ce3-9896-8f548e03a9bc\",\"type\":\"LogTicker\"},{\"attributes\":{\"callback\":null,\"data\":{\"x\":{\"__ndarray__\":\"4plCjPhfU0ANjA1Bns5EQBrp6TP/2kBAQAwjoUbcOkCat2v1mSU1QFi1eXDclTBA+usLh9AaKkAuSOi1r7YkQMM0wBzOlyBAhVUPi9+/GkDDObL024AVQHrOqyeK8BBAJoQI3f4qCUCSnPBS9vz8P0pC768sd+k/I07Tn8xq8z+VhBPkanACQM1y6syryghAyrAk0uPuDkCaqjxDUAoTQDmjjKh/uRdANbGVYp4/H0BbU0NEewEkQF3V2AR8TyNAmyZFB6GzHUBOLSckw/cWQKxq7Y6ZORJA7+8gpb1lDUDzOrhIkkcIQMD/srOiPQRAcwOaSb5OAECN3w99mpz4P2Kj16uZm/I/WsQTc7s17T/ZPJjEOoXkPzR0+uo24NY/jQK1EoK4yT+da+XJsufCP3vZsnWTrKA/nCo9jRF7vr+izCCCu+28v7XUwrGuI54/h2rLKJgpuj9hsJBEImTBP9vHJpihQcQ/ypIrF0xxxj9ECwg6JTzIP4zw1UHDyMk/7RMvetYxyz+tUceQpn7MPx12w3J4nc0/lCVuOkRwzj8+vZqM6OvOP+uMOTLELM8/2+0rDkJdzz9ipeIRCJfPPzpj6aK5388/vm9MC1wc0D+hPKUmKFHQP5NAIH6kjdA/wfqJaBvT0D+RJ9D43yTRP6KNdDb9h9E/aKB9j84D0j848N+XtKPSP4oB755JdtM/z7b8JlVv1D/PUQoV/EHVPxYImbLjitU/RUlm3CNF1T8iV63+DtnUPy9uNomQpNQ/o6XXLA7R1D+XSd0g+5nVP/q39BZtgts/\",\"dtype\":\"float64\",\"shape\":[75]},\"y\":{\"__ndarray__\":\"GhExyth1ND/Sv8nbtpRIP2vylNV0PVE/aTum7souWD/At0SJ8fVgPw3Iuahxymc/MSNhhJWvcD/bTfBN02d3P2zb5nxnaoA/CD5h5MAGhz8NmeH1TyaQP+zrCsc9p5Y/LbKd76fGnz/bLW5ISEmmPww9YvTcQq8/JV2OstnstT8Er5Y7M8G+P0c+r3jqkcU/5h99k6ZBzj88bCIzFzjVP4enV8oyxN0//yH99nXg5D8qOpLLf0jtP5kqGJXUifQ/c9cS8kHP/D+/DpwzojQEQIEmwoanVwxA4lgXt9HgE0BSSZ2AJuIbQAMJih9jjiNA5q4l5INuK0AwTKYKRj0zQNv5fmq8/DpAaCJseHrtQkB/+zpwzoxKQM3MzMzMeFJAZmZmZmZqWEAAAAAAAFxeQM3MzMzMJmJAmpmZmZkfZUBmZmZmZhhoQDMzMzMzEWtAAAAAAAAKbkBmZmZmZoFwQM3MzMzM/XFAMzMzMzN6c0CamZmZmfZ0QAAAAAAAc3ZAZmZmZmbvd0DNzMzMzGt5QDMzMzMz6HpAmpmZmZlkfEAAAAAAAOF9QGZmZmZmXX9AZmZmZuZsgECamZmZGSuBQM3MzMxM6YFAAAAAAICngkAzMzMzs2WDQGZmZmbmI4RAmpmZmRnihEDNzMzMTKCFQAAAAACAXoZAMzMzM7Mch0BmZmZm5tqHQJqZmZkZmYhAzczMzExXiUAAAAAAgBWKQDMzMzOz04pAZmZmZuaRi0CamZmZGVCMQM3MzMxMDo1AAAAAAIDMjUAzMzMzs4qOQGZmZmbmSI9A\",\"dtype\":\"float64\",\"shape\":[75]}},\"selected\":{\"id\":\"6983050f-a8d2-4d28-9269-5e14bc750d87\",\"type\":\"Selection\"},\"selection_policy\":{\"id\":\"0a7bc2f6-c29a-4169-bf11-c7f6bca5aa6e\",\"type\":\"UnionRenderers\"}},\"id\":\"3d35968f-c229-471a-9639-9e0b3b0c9cee\",\"type\":\"ColumnDataSource\"},{\"attributes\":{},\"id\":\"a987f274-7f37-4347-b0b3-6e9a7e12625e\",\"type\":\"LogScale\"},{\"attributes\":{\"fill_alpha\":{\"value\":0.7},\"fill_color\":{\"value\":\"#984ea3\"},\"line_alpha\":{\"value\":0.7},\"line_color\":{\"value\":\"#984ea3\"},\"x\":{\"field\":\"x\"},\"y\":{\"field\":\"y\"}},\"id\":\"94502cc9-793b-41c3-a87b-71024c5ee29d\",\"type\":\"Circle\"},{\"attributes\":{},\"id\":\"1a90cd8c-ed08-4bba-87be-c712b326a9c1\",\"type\":\"Selection\"},{\"attributes\":{},\"id\":\"e49c4fb2-4ef1-48c6-b33e-cd3776145ab0\",\"type\":\"BasicTicker\"},{\"attributes\":{\"source\":{\"id\":\"3d35968f-c229-471a-9639-9e0b3b0c9cee\",\"type\":\"ColumnDataSource\"}},\"id\":\"fc253fd0-c051-489e-8ff9-dbeaa80b0138\",\"type\":\"CDSView\"},{\"attributes\":{},\"id\":\"6983050f-a8d2-4d28-9269-5e14bc750d87\",\"type\":\"Selection\"},{\"attributes\":{\"callback\":null,\"end\":0.7048007263341839,\"start\":-0.127222467352584},\"id\":\"7049e4f2-3033-4311-a95c-448b32fe599b\",\"type\":\"Range1d\"},{\"attributes\":{\"line_color\":\"#4daf4a\",\"line_width\":1.5,\"x\":{\"field\":\"x\"},\"y\":{\"field\":\"y\"}},\"id\":\"e5fea153-f517-4c51-b9c5-2d6014eeff2b\",\"type\":\"Line\"},{\"attributes\":{\"data_source\":{\"id\":\"4cece4af-feb1-4040-bedd-0120f809e6a0\",\"type\":\"ColumnDataSource\"},\"glyph\":{\"id\":\"066d5452-424a-4a9f-8a92-1851a24b4f0d\",\"type\":\"Line\"},\"hover_glyph\":null,\"muted_glyph\":null,\"nonselection_glyph\":{\"id\":\"e4436864-b7fd-41ea-8378-62a0882dec68\",\"type\":\"Line\"},\"selection_glyph\":null,\"view\":{\"id\":\"de2d4920-20f5-4409-9b4f-9f9a16027c42\",\"type\":\"CDSView\"}},\"id\":\"aed040c0-39d2-440e-bb29-88e3f782045e\",\"type\":\"GlyphRenderer\"},{\"attributes\":{\"callback\":null,\"data\":{\"x\":{\"__ndarray__\":\"AEwEaNtgNsCAQX36IxbXP4BH3tlMQARAqCf2jIKmBkDA1aEMXLD6PwDYNl+x+5O/AN2V8rrk9L9Axsd9Dfz5v9RCnNFR0/O/qOuPhNPX5b9wymCyLcTXv+B2/y+WwNW/8P1v/rtF27+giA2YP6Hcv1KG2hw4T9S/QIRhwnz9v7/AzQJVRACtP9AY6kZvVso/wJua2Lu7yj8A+MfPzlmSv0B2g/Vrl9S/MMC4sljC2r8gHPcHm2TSv4A/twImgsW/gEQ8I/ZAyL/gMWCHnqzQvwCQvXIka2i/APMV+CuVxz9w1rAibgDCP0AyOxnYAqo/AGiX//xgqT+AoFWW+0uev4AnWvjn4ae/MMJ4Tc5Dpj/QTWA7zVqsPwD30pfcdH6/EAGOXF8mkb/w1Yhs3N2JP9i0l0fcd5w/SME2E9tdmD/YFyXmrmqJP5ALbg+RKVe/APxhPG+ehr/8i76yMZSQv9AByBGXjZO/INY2ik0EmL/wRSaqgCSZvxhvVyMZ65q/kH3kTJDNmr+oM38549CYv7jmD3+hZ5W/ABEZhj+Okr+wcHqFg2iLv1BSY/5STYO/AEDOo8Badr+AmL5g6AJfvwAtwDdyGlU/gLtXZxPAcD/ActJ10Mh6P8CCMLk1d4E/ALydQRjehD+gLn3729SEP2B/mR7EeIc/gEKkraSpiD+gJfQheMKHP6DZ1enWsYk/AIhW0D48iT8At0fuAVeHP+CuG0NopYk/wJcDFvXLiD/Al3+uBdCIP2B2rRH9k4k/gJHFXf2Whj+gzXP86iyIPwCxlttUToU/\",\"dtype\":\"float64\",\"shape\":[75]},\"y\":{\"__ndarray__\":\"GhExyth1ND/Sv8nbtpRIP2vylNV0PVE/aTum7souWD/At0SJ8fVgPw3Iuahxymc/MSNhhJWvcD/bTfBN02d3P2zb5nxnaoA/CD5h5MAGhz8NmeH1TyaQP+zrCsc9p5Y/LbKd76fGnz/bLW5ISEmmPww9YvTcQq8/JV2OstnstT8Er5Y7M8G+P0c+r3jqkcU/5h99k6ZBzj88bCIzFzjVP4enV8oyxN0//yH99nXg5D8qOpLLf0jtP5kqGJXUifQ/c9cS8kHP/D+/DpwzojQEQIEmwoanVwxA4lgXt9HgE0BSSZ2AJuIbQAMJih9jjiNA5q4l5INuK0AwTKYKRj0zQNv5fmq8/DpAaCJseHrtQkB/+zpwzoxKQM3MzMzMeFJAZmZmZmZqWEAAAAAAAFxeQM3MzMzMJmJAmpmZmZkfZUBmZmZmZhhoQDMzMzMzEWtAAAAAAAAKbkBmZmZmZoFwQM3MzMzM/XFAMzMzMzN6c0CamZmZmfZ0QAAAAAAAc3ZAZmZmZmbvd0DNzMzMzGt5QDMzMzMz6HpAmpmZmZlkfEAAAAAAAOF9QGZmZmZmXX9AZmZmZuZsgECamZmZGSuBQM3MzMxM6YFAAAAAAICngkAzMzMzs2WDQGZmZmbmI4RAmpmZmRnihEDNzMzMTKCFQAAAAACAXoZAMzMzM7Mch0BmZmZm5tqHQJqZmZkZmYhAzczMzExXiUAAAAAAgBWKQDMzMzOz04pAZmZmZuaRi0CamZmZGVCMQM3MzMxMDo1AAAAAAIDMjUAzMzMzs4qOQGZmZmbmSI9A\",\"dtype\":\"float64\",\"shape\":[75]}},\"selected\":{\"id\":\"f6e68dd1-2965-4e73-9a83-ae653b9b228a\",\"type\":\"Selection\"},\"selection_policy\":{\"id\":\"1d30bb4d-5b41-4b92-9025-a39a2ac6efd2\",\"type\":\"UnionRenderers\"}},\"id\":\"16eab5e1-d962-4ac8-a2ed-eef95471c5d4\",\"type\":\"ColumnDataSource\"},{\"attributes\":{},\"id\":\"0a7bc2f6-c29a-4169-bf11-c7f6bca5aa6e\",\"type\":\"UnionRenderers\"},{\"attributes\":{\"above\":[{\"id\":\"f0f10797-42c5-40cf-9ded-482b03931687\",\"type\":\"Legend\"}],\"below\":[{\"id\":\"9c1a5ad9-4ab5-4573-9945-e26323e51c69\",\"type\":\"LinearAxis\"}],\"left\":[{\"id\":\"e51b62ef-cbc6-4bf2-9092-7238119ad7d4\",\"type\":\"LogAxis\"}],\"plot_width\":300,\"renderers\":[{\"id\":\"9c1a5ad9-4ab5-4573-9945-e26323e51c69\",\"type\":\"LinearAxis\"},{\"id\":\"f1904a8b-3fef-4f1c-a7e9-c57ae1e8c612\",\"type\":\"Grid\"},{\"id\":\"e51b62ef-cbc6-4bf2-9092-7238119ad7d4\",\"type\":\"LogAxis\"},{\"id\":\"f7310b92-2e8b-4fb3-aee4-45f30d1004a4\",\"type\":\"Grid\"},{\"id\":\"940ab3be-036f-4264-8132-56941d620c85\",\"type\":\"BoxAnnotation\"},{\"id\":\"2bb54e84-8aa4-493b-ae3d-b502fd88a92e\",\"type\":\"GlyphRenderer\"},{\"id\":\"c4844834-b690-49cf-b6ee-139e7bf30c9f\",\"type\":\"GlyphRenderer\"},{\"id\":\"f0f10797-42c5-40cf-9ded-482b03931687\",\"type\":\"Legend\"}],\"title\":{\"id\":\"012f4874-994d-4706-a44a-4fb58cfa5416\",\"type\":\"Title\"},\"toolbar\":{\"id\":\"409a5d72-38e0-4454-a612-c8290b7afde9\",\"type\":\"Toolbar\"},\"toolbar_location\":null,\"x_range\":{\"id\":\"88b60e9d-f004-4e00-aa91-7b4417cb41a1\",\"type\":\"Range1d\"},\"x_scale\":{\"id\":\"520e8823-1fcb-464e-9122-8ef8678df385\",\"type\":\"LinearScale\"},\"y_range\":{\"id\":\"7b3dfc87-330c-4c59-8c85-b9971a18d9d2\",\"type\":\"Range1d\"},\"y_scale\":{\"id\":\"45d6a361-56f5-41d6-be2f-09a52b109572\",\"type\":\"LogScale\"}},\"id\":\"bb9f438c-1e44-42ef-89ca-61576bac0732\",\"subtype\":\"Figure\",\"type\":\"Plot\"},{\"attributes\":{\"plot\":null,\"text\":\"\"},\"id\":\"012f4874-994d-4706-a44a-4fb58cfa5416\",\"type\":\"Title\"},{\"attributes\":{\"label\":{\"value\":\"CRD\"},\"renderers\":[{\"id\":\"586aa605-24f2-4095-af8c-0dbeb65cbee3\",\"type\":\"GlyphRenderer\"},{\"id\":\"aed040c0-39d2-440e-bb29-88e3f782045e\",\"type\":\"GlyphRenderer\"}]},\"id\":\"ab00e7a9-0487-4968-989c-2da07b907d83\",\"type\":\"LegendItem\"},{\"attributes\":{},\"id\":\"006f5f7d-5cf6-46da-a75e-5f1d2769221d\",\"type\":\"Selection\"},{\"attributes\":{\"items\":[{\"id\":\"b37e6824-b3dc-4eed-a5d2-63b1ec121ca6\",\"type\":\"LegendItem\"},{\"id\":\"66aed97a-2058-42d0-87a1-7f38ac9adba4\",\"type\":\"LegendItem\"}],\"label_text_font_size\":{\"value\":\"8pt\"},\"location\":\"top_center\",\"orientation\":\"horizontal\",\"plot\":{\"id\":\"dcc1991e-6eaa-420d-8311-7d1928220b56\",\"subtype\":\"Figure\",\"type\":\"Plot\"}},\"id\":\"f8912944-4f49-4c2b-afee-b90b98a77127\",\"type\":\"Legend\"},{\"attributes\":{\"tools\":[{\"id\":\"052ff0fc-910b-4d98-9285-d306e6b8ae79\",\"type\":\"PanTool\"},{\"id\":\"26b25ed5-7bf7-4787-927a-1e29d6d3f53f\",\"type\":\"WheelZoomTool\"},{\"id\":\"e56c08d4-a64b-48f3-8718-207ecb4cd34e\",\"type\":\"BoxZoomTool\"},{\"id\":\"1ffdc52e-a97e-496c-ad66-cd007781d630\",\"type\":\"SaveTool\"},{\"id\":\"b2267829-091b-4665-9224-b44c5ed4c579\",\"type\":\"ResetTool\"},{\"id\":\"f02c2bbd-433f-4788-8606-6f377afd3851\",\"type\":\"HelpTool\"},{\"id\":\"9fb38dbd-6e86-4cd7-87f7-c9caffcab033\",\"type\":\"PanTool\"},{\"id\":\"1fe95113-6b5e-4627-9f88-d1393279d034\",\"type\":\"WheelZoomTool\"},{\"id\":\"a32aa200-10d1-4a53-9438-abd12c85e3d2\",\"type\":\"BoxZoomTool\"},{\"id\":\"47697c62-b89c-4999-bc8f-3b363431d5de\",\"type\":\"SaveTool\"},{\"id\":\"8b4b8b8c-832f-4c12-80cc-8885e257bc5e\",\"type\":\"ResetTool\"},{\"id\":\"d9c1f3bd-a1c6-413a-983e-318b35b2d230\",\"type\":\"HelpTool\"},{\"id\":\"39d0554f-b69c-49ee-837d-26e0b568b3f3\",\"type\":\"PanTool\"},{\"id\":\"f048cb80-08b1-4101-b392-63333b84015f\",\"type\":\"WheelZoomTool\"},{\"id\":\"2d4d66aa-1073-4ea1-9d1b-9f1763d11446\",\"type\":\"BoxZoomTool\"},{\"id\":\"4f409c23-35ce-4aac-94e7-a253fbc475a9\",\"type\":\"SaveTool\"},{\"id\":\"2e03491e-553c-4fed-8d48-74fa83764c6d\",\"type\":\"ResetTool\"},{\"id\":\"ead8621d-ca5a-4fb8-b6c2-7b3226a2cff6\",\"type\":\"HelpTool\"}]},\"id\":\"fe20f6c4-ee9e-472d-9381-5e2548dadeda\",\"type\":\"ProxyToolbar\"},{\"attributes\":{\"data_source\":{\"id\":\"8df2b8d0-4e92-4ad9-80c0-1808d9555426\",\"type\":\"ColumnDataSource\"},\"glyph\":{\"id\":\"0bb9384d-2443-4088-a061-efcbb183f0c1\",\"type\":\"Circle\"},\"hover_glyph\":null,\"muted_glyph\":null,\"nonselection_glyph\":{\"id\":\"5696e2ce-0fe1-479c-a5fd-c6887d4fc415\",\"type\":\"Circle\"},\"selection_glyph\":null,\"view\":{\"id\":\"36d2b9ba-7d67-43be-a780-67c9a35fe7bc\",\"type\":\"CDSView\"}},\"id\":\"586aa605-24f2-4095-af8c-0dbeb65cbee3\",\"type\":\"GlyphRenderer\"},{\"attributes\":{\"overlay\":{\"id\":\"d13297f2-1f88-47d5-b091-65d26ae9cae2\",\"type\":\"BoxAnnotation\"}},\"id\":\"a32aa200-10d1-4a53-9438-abd12c85e3d2\",\"type\":\"BoxZoomTool\"},{\"attributes\":{},\"id\":\"8ee8b0c9-76b1-4ee2-a731-fa51e7f30753\",\"type\":\"BasicTickFormatter\"},{\"attributes\":{\"callback\":null,\"data\":{\"x\":{\"__ndarray__\":\"4plCjPhfU0ANjA1Bns5EQBrp6TP/2kBAQAwjoUbcOkCat2v1mSU1QFi1eXDclTBA+usLh9AaKkAuSOi1r7YkQMM0wBzOlyBAhVUPi9+/GkDDObL024AVQHrOqyeK8BBAJoQI3f4qCUCSnPBS9vz8P0pC768sd+k/I07Tn8xq8z+VhBPkanACQM1y6syryghAyrAk0uPuDkCaqjxDUAoTQDmjjKh/uRdANbGVYp4/H0BbU0NEewEkQF3V2AR8TyNAmyZFB6GzHUBOLSckw/cWQKxq7Y6ZORJA7+8gpb1lDUDzOrhIkkcIQMD/srOiPQRAcwOaSb5OAECN3w99mpz4P2Kj16uZm/I/WsQTc7s17T/ZPJjEOoXkPzR0+uo24NY/jQK1EoK4yT+da+XJsufCP3vZsnWTrKA/nCo9jRF7vr+izCCCu+28v7XUwrGuI54/h2rLKJgpuj9hsJBEImTBP9vHJpihQcQ/ypIrF0xxxj9ECwg6JTzIP4zw1UHDyMk/7RMvetYxyz+tUceQpn7MPx12w3J4nc0/lCVuOkRwzj8+vZqM6OvOP+uMOTLELM8/2+0rDkJdzz9ipeIRCJfPPzpj6aK5388/vm9MC1wc0D+hPKUmKFHQP5NAIH6kjdA/wfqJaBvT0D+RJ9D43yTRP6KNdDb9h9E/aKB9j84D0j848N+XtKPSP4oB755JdtM/z7b8JlVv1D/PUQoV/EHVPxYImbLjitU/RUlm3CNF1T8iV63+DtnUPy9uNomQpNQ/o6XXLA7R1D+XSd0g+5nVP/q39BZtgts/\",\"dtype\":\"float64\",\"shape\":[75]},\"y\":{\"__ndarray__\":\"GhExyth1ND/Sv8nbtpRIP2vylNV0PVE/aTum7souWD/At0SJ8fVgPw3Iuahxymc/MSNhhJWvcD/bTfBN02d3P2zb5nxnaoA/CD5h5MAGhz8NmeH1TyaQP+zrCsc9p5Y/LbKd76fGnz/bLW5ISEmmPww9YvTcQq8/JV2OstnstT8Er5Y7M8G+P0c+r3jqkcU/5h99k6ZBzj88bCIzFzjVP4enV8oyxN0//yH99nXg5D8qOpLLf0jtP5kqGJXUifQ/c9cS8kHP/D+/DpwzojQEQIEmwoanVwxA4lgXt9HgE0BSSZ2AJuIbQAMJih9jjiNA5q4l5INuK0AwTKYKRj0zQNv5fmq8/DpAaCJseHrtQkB/+zpwzoxKQM3MzMzMeFJAZmZmZmZqWEAAAAAAAFxeQM3MzMzMJmJAmpmZmZkfZUBmZmZmZhhoQDMzMzMzEWtAAAAAAAAKbkBmZmZmZoFwQM3MzMzM/XFAMzMzMzN6c0CamZmZmfZ0QAAAAAAAc3ZAZmZmZmbvd0DNzMzMzGt5QDMzMzMz6HpAmpmZmZlkfEAAAAAAAOF9QGZmZmZmXX9AZmZmZuZsgECamZmZGSuBQM3MzMxM6YFAAAAAAICngkAzMzMzs2WDQGZmZmbmI4RAmpmZmRnihEDNzMzMTKCFQAAAAACAXoZAMzMzM7Mch0BmZmZm5tqHQJqZmZkZmYhAzczMzExXiUAAAAAAgBWKQDMzMzOz04pAZmZmZuaRi0CamZmZGVCMQM3MzMxMDo1AAAAAAIDMjUAzMzMzs4qOQGZmZmbmSI9A\",\"dtype\":\"float64\",\"shape\":[75]}},\"selected\":{\"id\":\"006f5f7d-5cf6-46da-a75e-5f1d2769221d\",\"type\":\"Selection\"},\"selection_policy\":{\"id\":\"15b9dda1-6d5b-424a-8bf7-faaddacdf5b6\",\"type\":\"UnionRenderers\"}},\"id\":\"4cece4af-feb1-4040-bedd-0120f809e6a0\",\"type\":\"ColumnDataSource\"},{\"attributes\":{},\"id\":\"b2267829-091b-4665-9224-b44c5ed4c579\",\"type\":\"ResetTool\"},{\"attributes\":{\"fill_alpha\":{\"value\":0.7},\"fill_color\":{\"value\":\"#4daf4a\"},\"line_alpha\":{\"value\":0.7},\"line_color\":{\"value\":\"#4daf4a\"},\"x\":{\"field\":\"x\"},\"y\":{\"field\":\"y\"}},\"id\":\"0bb9384d-2443-4088-a061-efcbb183f0c1\",\"type\":\"Circle\"},{\"attributes\":{\"ticker\":null},\"id\":\"393a8a16-b3b2-448a-85ee-6c80441bfc5d\",\"type\":\"LogTickFormatter\"},{\"attributes\":{},\"id\":\"47697c62-b89c-4999-bc8f-3b363431d5de\",\"type\":\"SaveTool\"},{\"attributes\":{},\"id\":\"4e28524b-b01b-4e9c-b7aa-9f601b899e8d\",\"type\":\"BasicTickFormatter\"},{\"attributes\":{},\"id\":\"e309f309-b061-4fd0-87b9-87e826f75584\",\"type\":\"UnionRenderers\"},{\"attributes\":{\"data_source\":{\"id\":\"8a321828-fed7-4bc4-90d9-ed84aac14ce0\",\"type\":\"ColumnDataSource\"},\"glyph\":{\"id\":\"79a640cb-9455-4f2f-ae6f-9f89ac6a21dd\",\"type\":\"Line\"},\"hover_glyph\":null,\"muted_glyph\":null,\"nonselection_glyph\":{\"id\":\"535cadbd-ee77-4c11-91f9-65e3f56d0c03\",\"type\":\"Line\"},\"selection_glyph\":null,\"view\":{\"id\":\"e3ee5418-36f1-42dc-bbaa-fa76d8838cef\",\"type\":\"CDSView\"}},\"id\":\"2249272f-8bb4-47b3-8f8c-6bef9e5eec6d\",\"type\":\"GlyphRenderer\"},{\"attributes\":{\"label\":{\"value\":\"CRD\"},\"renderers\":[{\"id\":\"c17ebe4a-4957-4850-992a-f29fce3cc40c\",\"type\":\"GlyphRenderer\"},{\"id\":\"7be4663a-90c1-44d5-bc52-6735af3f571c\",\"type\":\"GlyphRenderer\"}]},\"id\":\"66aed97a-2058-42d0-87a1-7f38ac9adba4\",\"type\":\"LegendItem\"},{\"attributes\":{},\"id\":\"1b260c07-fb06-4d3f-8d59-93212d2dd16f\",\"type\":\"BasicTickFormatter\"},{\"attributes\":{\"plot\":null,\"text\":\"\"},\"id\":\"7d754ad9-ec3b-4b21-8e2a-275d74964dbc\",\"type\":\"Title\"},{\"attributes\":{},\"id\":\"2fb5f686-d3c3-40c9-a3f4-5f87132eecc2\",\"type\":\"UnionRenderers\"},{\"attributes\":{},\"id\":\"1d30bb4d-5b41-4b92-9025-a39a2ac6efd2\",\"type\":\"UnionRenderers\"},{\"attributes\":{\"plot\":{\"id\":\"dcc1991e-6eaa-420d-8311-7d1928220b56\",\"subtype\":\"Figure\",\"type\":\"Plot\"},\"ticker\":{\"id\":\"e49c4fb2-4ef1-48c6-b33e-cd3776145ab0\",\"type\":\"BasicTicker\"}},\"id\":\"7c2a853b-1fb1-4ee7-9307-d637d37aa4e4\",\"type\":\"Grid\"},{\"attributes\":{},\"id\":\"c7fef6ad-22f9-4120-b698-b10ac5099d4a\",\"type\":\"BasicTickFormatter\"},{\"attributes\":{},\"id\":\"60a21b9d-2369-49a4-a077-a1470ec62116\",\"type\":\"UnionRenderers\"},{\"attributes\":{\"ticker\":null},\"id\":\"2b047a23-1777-42b7-92e3-555e526e9d7d\",\"type\":\"LogTickFormatter\"},{\"attributes\":{\"callback\":null,\"data\":{\"x\":{\"__ndarray__\":\"4plCjPhfU0ANjA1Bns5EQBrp6TP/2kBAQAwjoUbcOkCat2v1mSU1QFi1eXDclTBA+usLh9AaKkAuSOi1r7YkQMM0wBzOlyBAhVUPi9+/GkDDObL024AVQHrOqyeK8BBAJoQI3f4qCUCSnPBS9vz8P0pC768sd+k/I07Tn8xq8z+VhBPkanACQM1y6syryghAyrAk0uPuDkCaqjxDUAoTQDmjjKh/uRdANbGVYp4/H0BbU0NEewEkQF3V2AR8TyNAmyZFB6GzHUBOLSckw/cWQKxq7Y6ZORJA7+8gpb1lDUDzOrhIkkcIQMD/srOiPQRAcwOaSb5OAECN3w99mpz4P2Kj16uZm/I/WsQTc7s17T/ZPJjEOoXkPzR0+uo24NY/jQK1EoK4yT+da+XJsufCP3vZsnWTrKA/nCo9jRF7vr+izCCCu+28v7XUwrGuI54/h2rLKJgpuj9hsJBEImTBP9vHJpihQcQ/ypIrF0xxxj9ECwg6JTzIP4zw1UHDyMk/7RMvetYxyz+tUceQpn7MPx12w3J4nc0/lCVuOkRwzj8+vZqM6OvOP+uMOTLELM8/2+0rDkJdzz9ipeIRCJfPPzpj6aK5388/vm9MC1wc0D+hPKUmKFHQP5NAIH6kjdA/wfqJaBvT0D+RJ9D43yTRP6KNdDb9h9E/aKB9j84D0j848N+XtKPSP4oB755JdtM/z7b8JlVv1D/PUQoV/EHVPxYImbLjitU/RUlm3CNF1T8iV63+DtnUPy9uNomQpNQ/o6XXLA7R1D+XSd0g+5nVP/q39BZtgts/\",\"dtype\":\"float64\",\"shape\":[75]},\"y\":{\"__ndarray__\":\"GhExyth1ND/Sv8nbtpRIP2vylNV0PVE/aTum7souWD/At0SJ8fVgPw3Iuahxymc/MSNhhJWvcD/bTfBN02d3P2zb5nxnaoA/CD5h5MAGhz8NmeH1TyaQP+zrCsc9p5Y/LbKd76fGnz/bLW5ISEmmPww9YvTcQq8/JV2OstnstT8Er5Y7M8G+P0c+r3jqkcU/5h99k6ZBzj88bCIzFzjVP4enV8oyxN0//yH99nXg5D8qOpLLf0jtP5kqGJXUifQ/c9cS8kHP/D+/DpwzojQEQIEmwoanVwxA4lgXt9HgE0BSSZ2AJuIbQAMJih9jjiNA5q4l5INuK0AwTKYKRj0zQNv5fmq8/DpAaCJseHrtQkB/+zpwzoxKQM3MzMzMeFJAZmZmZmZqWEAAAAAAAFxeQM3MzMzMJmJAmpmZmZkfZUBmZmZmZhhoQDMzMzMzEWtAAAAAAAAKbkBmZmZmZoFwQM3MzMzM/XFAMzMzMzN6c0CamZmZmfZ0QAAAAAAAc3ZAZmZmZmbvd0DNzMzMzGt5QDMzMzMz6HpAmpmZmZlkfEAAAAAAAOF9QGZmZmZmXX9AZmZmZuZsgECamZmZGSuBQM3MzMxM6YFAAAAAAICngkAzMzMzs2WDQGZmZmbmI4RAmpmZmRnihEDNzMzMTKCFQAAAAACAXoZAMzMzM7Mch0BmZmZm5tqHQJqZmZkZmYhAzczMzExXiUAAAAAAgBWKQDMzMzOz04pAZmZmZuaRi0CamZmZGVCMQM3MzMxMDo1AAAAAAIDMjUAzMzMzs4qOQGZmZmbmSI9A\",\"dtype\":\"float64\",\"shape\":[75]}},\"selected\":{\"id\":\"a897c356-24ff-47c0-90e0-405c6c6a91b9\",\"type\":\"Selection\"},\"selection_policy\":{\"id\":\"2fb5f686-d3c3-40c9-a3f4-5f87132eecc2\",\"type\":\"UnionRenderers\"}},\"id\":\"8df2b8d0-4e92-4ad9-80c0-1808d9555426\",\"type\":\"ColumnDataSource\"}],\"root_ids\":[\"86a85d03-1bd2-45b8-bca6-024831fe3e17\"]},\"title\":\"Bokeh Application\",\"version\":\"0.12.16\"}};\n",
       "  var render_items = [{\"docid\":\"8dd31657-e8bd-4528-b222-f4543594fd8c\",\"elementid\":\"ef819461-9931-42e5-a121-8df5e55e5a43\",\"modelid\":\"86a85d03-1bd2-45b8-bca6-024831fe3e17\"}];\n",
       "  root.Bokeh.embed.embed_items_notebook(docs_json, render_items);\n",
       "\n",
       "  }\n",
       "  if (root.Bokeh !== undefined) {\n",
       "    embed_document(root);\n",
       "  } else {\n",
       "    var attempts = 0;\n",
       "    var timer = setInterval(function(root) {\n",
       "      if (root.Bokeh !== undefined) {\n",
       "        embed_document(root);\n",
       "        clearInterval(timer);\n",
       "      }\n",
       "      attempts++;\n",
       "      if (attempts > 100) {\n",
       "        console.log(\"Bokeh: ERROR: Unable to run BokehJS code because BokehJS library is missing\")\n",
       "        clearInterval(timer);\n",
       "      }\n",
       "    }, 10, root)\n",
       "  }\n",
       "})(window);"
      ],
      "application/vnd.bokehjs_exec.v0+json": ""
     },
     "metadata": {
      "application/vnd.bokehjs_exec.v0+json": {
       "id": "86a85d03-1bd2-45b8-bca6-024831fe3e17"
      }
     },
     "output_type": "display_data"
    },
    {
     "data": {
      "text/markdown": [
       "*FIGURE.* Cooling rates & difference."
      ],
      "text/plain": [
       "<IPython.core.display.Markdown object>"
      ]
     },
     "metadata": {},
     "output_type": "display_data"
    },
    {
     "data": {
      "text/html": [
       "<a id=\"Fluxes._mls.\"></a>"
      ],
      "text/plain": [
       "<IPython.core.display.HTML object>"
      ]
     },
     "metadata": {},
     "output_type": "display_data"
    },
    {
     "data": {
      "text/markdown": [
       "# Fluxes. mls."
      ],
      "text/plain": [
       "<IPython.core.display.Markdown object>"
      ]
     },
     "metadata": {},
     "output_type": "display_data"
    },
    {
     "data": {
      "text/html": [
       "\n",
       "<div class=\"bk-root\">\n",
       "    <div class=\"bk-plotdiv\" id=\"52816d7b-42ba-491f-a8e0-a43b0416fd84\"></div>\n",
       "</div>"
      ]
     },
     "metadata": {},
     "output_type": "display_data"
    },
    {
     "data": {
      "application/javascript": [
       "(function(root) {\n",
       "  function embed_document(root) {\n",
       "    \n",
       "  var docs_json = {\"b7019eed-5dbb-46bc-aa0a-18c91b1908fd\":{\"roots\":{\"references\":[{\"attributes\":{\"overlay\":{\"id\":\"67b92b6f-d46b-4c2a-933c-84bc54ee5868\",\"type\":\"BoxAnnotation\"}},\"id\":\"1030366c-f85d-4210-9447-bb8303137b0e\",\"type\":\"BoxZoomTool\"},{\"attributes\":{\"bottom_units\":\"screen\",\"fill_alpha\":{\"value\":0.5},\"fill_color\":{\"value\":\"lightgrey\"},\"left_units\":\"screen\",\"level\":\"overlay\",\"line_alpha\":{\"value\":1.0},\"line_color\":{\"value\":\"black\"},\"line_dash\":[4,4],\"line_width\":{\"value\":2},\"plot\":null,\"render_mode\":\"css\",\"right_units\":\"screen\",\"top_units\":\"screen\"},\"id\":\"67b92b6f-d46b-4c2a-933c-84bc54ee5868\",\"type\":\"BoxAnnotation\"},{\"attributes\":{\"callback\":null},\"id\":\"f8852b26-f1ed-4519-bb42-8c2a8ce253ec\",\"type\":\"DataRange1d\"},{\"attributes\":{},\"id\":\"01fa9e1b-7783-4adb-abce-cd01d1e6e5ca\",\"type\":\"SaveTool\"},{\"attributes\":{\"axis_label\":\"spectral band\",\"formatter\":{\"id\":\"1a88a5a6-0151-407e-9c30-af1d4629f7bd\",\"type\":\"CategoricalTickFormatter\"},\"plot\":{\"id\":\"50c1fd18-2f40-493f-ac3e-9c1d8b74fdeb\",\"subtype\":\"Figure\",\"type\":\"Plot\"},\"ticker\":{\"id\":\"044be1f7-6540-49a6-a1c1-aa3cbaa541b7\",\"type\":\"CategoricalTicker\"}},\"id\":\"4c449785-cba8-4091-8c51-33ce5df021f4\",\"type\":\"CategoricalAxis\"},{\"attributes\":{},\"id\":\"159e6882-9861-4b4c-8a61-ff22bc55e38b\",\"type\":\"ResetTool\"},{\"attributes\":{},\"id\":\"70b73cf7-8dfd-4c0d-9a1e-00069f3ffec8\",\"type\":\"Selection\"},{\"attributes\":{},\"id\":\"a94cfc5a-be5e-4b6c-8df3-ced3754c5c23\",\"type\":\"HelpTool\"},{\"attributes\":{\"axis_label\":\"flux (W m-2)\",\"formatter\":{\"id\":\"c09704d6-71eb-4e80-b91f-ad0e9ce305c9\",\"type\":\"BasicTickFormatter\"},\"plot\":{\"id\":\"50c1fd18-2f40-493f-ac3e-9c1d8b74fdeb\",\"subtype\":\"Figure\",\"type\":\"Plot\"},\"ticker\":{\"id\":\"f98e3fe8-0595-4c22-bc31-dc5b7fdcb675\",\"type\":\"BasicTicker\"}},\"id\":\"0fa6daac-a704-45a5-b76f-28655cab9c98\",\"type\":\"LinearAxis\"},{\"attributes\":{},\"id\":\"d654c396-fd72-43d3-80a8-4a005db42b41\",\"type\":\"BasicTickFormatter\"},{\"attributes\":{\"plot\":null,\"text\":\"Atmosphere heating. CLIRAD - CRD.\"},\"id\":\"348eb9a8-05d3-46c2-aa62-661ff51f1952\",\"type\":\"Title\"},{\"attributes\":{},\"id\":\"c09704d6-71eb-4e80-b91f-ad0e9ce305c9\",\"type\":\"BasicTickFormatter\"},{\"attributes\":{\"plot\":{\"id\":\"50c1fd18-2f40-493f-ac3e-9c1d8b74fdeb\",\"subtype\":\"Figure\",\"type\":\"Plot\"},\"ticker\":{\"id\":\"044be1f7-6540-49a6-a1c1-aa3cbaa541b7\",\"type\":\"CategoricalTicker\"}},\"id\":\"a1e50e1c-6ac4-42fb-b181-bce101640f46\",\"type\":\"Grid\"},{\"attributes\":{},\"id\":\"1a88a5a6-0151-407e-9c30-af1d4629f7bd\",\"type\":\"CategoricalTickFormatter\"},{\"attributes\":{\"children\":[{\"id\":\"50c1fd18-2f40-493f-ac3e-9c1d8b74fdeb\",\"subtype\":\"Figure\",\"type\":\"Plot\"},{\"id\":\"6083cd1c-328e-4748-8ad0-ead57ed1057a\",\"subtype\":\"Figure\",\"type\":\"Plot\"},{\"id\":\"ef5e99cd-295e-4500-b1b9-1cc90415bb5c\",\"subtype\":\"Figure\",\"type\":\"Plot\"}]},\"id\":\"af021d49-7ab0-4fb9-a9e8-ed6d98d04b3c\",\"type\":\"Row\"},{\"attributes\":{},\"id\":\"260685c9-b849-405a-9962-855895a3d4eb\",\"type\":\"LinearScale\"},{\"attributes\":{\"plot\":null,\"text\":\"SFC flux. CLIRAD - CRD.\"},\"id\":\"f340841b-31d5-4c38-891e-164dff21ef02\",\"type\":\"Title\"},{\"attributes\":{\"callback\":null},\"id\":\"5163a04a-88ae-4ee8-bf71-5a942aaae5ad\",\"type\":\"DataRange1d\"},{\"attributes\":{},\"id\":\"1e5c1176-62e5-4e48-9bf4-3b1c3188bbdc\",\"type\":\"CategoricalTickFormatter\"},{\"attributes\":{},\"id\":\"b58fe623-e5ee-443c-b1e4-986a81ac2695\",\"type\":\"BasicTicker\"},{\"attributes\":{\"callback\":null,\"factors\":[\"3\",\"4\",\"5\",\"6\",\"7\",\"11\"]},\"id\":\"be40468a-b6f2-4429-8a1b-8710677f6cc1\",\"type\":\"FactorRange\"},{\"attributes\":{},\"id\":\"b1b1ec08-0994-4760-8f34-d2ce2322570f\",\"type\":\"UnionRenderers\"},{\"attributes\":{},\"id\":\"044be1f7-6540-49a6-a1c1-aa3cbaa541b7\",\"type\":\"CategoricalTicker\"},{\"attributes\":{},\"id\":\"43b63a47-9c8a-472f-a9fa-3c3b38f2df23\",\"type\":\"Selection\"},{\"attributes\":{},\"id\":\"0730854e-5b9e-46bc-8a01-0de91bfcee34\",\"type\":\"CategoricalScale\"},{\"attributes\":{\"axis_label\":\"flux (W m-2)\",\"formatter\":{\"id\":\"772e458c-7978-4c90-9446-fc2c3c39f54e\",\"type\":\"BasicTickFormatter\"},\"plot\":{\"id\":\"ef5e99cd-295e-4500-b1b9-1cc90415bb5c\",\"subtype\":\"Figure\",\"type\":\"Plot\"},\"ticker\":{\"id\":\"ebdac29f-5c36-4441-9eb9-e6335c67eb7e\",\"type\":\"BasicTicker\"}},\"id\":\"4b37249c-d450-43d6-a958-bb82ac3506da\",\"type\":\"LinearAxis\"},{\"attributes\":{},\"id\":\"f98e3fe8-0595-4c22-bc31-dc5b7fdcb675\",\"type\":\"BasicTicker\"},{\"attributes\":{\"tools\":[{\"id\":\"e7502a4c-4227-41dd-821d-5da7716a0678\",\"type\":\"PanTool\"},{\"id\":\"59bda9a8-8ebc-4f51-b6d1-1adce0573105\",\"type\":\"WheelZoomTool\"},{\"id\":\"97a3e135-f01d-49a0-84c0-68950b4f8570\",\"type\":\"BoxZoomTool\"},{\"id\":\"44d09e5b-0ac2-473b-a3d7-92ebcab7323a\",\"type\":\"SaveTool\"},{\"id\":\"a18a4889-5348-465e-854c-0fde599a061e\",\"type\":\"ResetTool\"},{\"id\":\"758f15a8-2eef-47ca-87e3-4d37f8dffb8a\",\"type\":\"HelpTool\"},{\"id\":\"48a3e261-8d20-416d-bf8e-6a207fb6ac5f\",\"type\":\"PanTool\"},{\"id\":\"0593c498-526c-460c-bff2-dc539efee554\",\"type\":\"WheelZoomTool\"},{\"id\":\"21d34452-c6d7-49e0-9097-74db284647a1\",\"type\":\"BoxZoomTool\"},{\"id\":\"4cbfa973-724a-4346-a5ef-026fb493df3e\",\"type\":\"SaveTool\"},{\"id\":\"59ca1f44-813c-478c-a665-ea6330f3b43b\",\"type\":\"ResetTool\"},{\"id\":\"def4e9ff-1d10-4faa-b4d1-a8a88e5d5bc3\",\"type\":\"HelpTool\"},{\"id\":\"87e2bd40-d33c-42c6-9e38-8ebffa4467f9\",\"type\":\"PanTool\"},{\"id\":\"e3a65c3a-a48c-4884-81a7-d7f5307d78e8\",\"type\":\"WheelZoomTool\"},{\"id\":\"1030366c-f85d-4210-9447-bb8303137b0e\",\"type\":\"BoxZoomTool\"},{\"id\":\"01fa9e1b-7783-4adb-abce-cd01d1e6e5ca\",\"type\":\"SaveTool\"},{\"id\":\"159e6882-9861-4b4c-8a61-ff22bc55e38b\",\"type\":\"ResetTool\"},{\"id\":\"a94cfc5a-be5e-4b6c-8df3-ced3754c5c23\",\"type\":\"HelpTool\"}]},\"id\":\"7bf57982-cc9c-4a10-a577-289569f73a2e\",\"type\":\"ProxyToolbar\"},{\"attributes\":{\"plot\":null,\"text\":\"TOA flux. CLIRAD - CRD.\"},\"id\":\"aa95f405-b98a-4434-a949-e9297c2f5166\",\"type\":\"Title\"},{\"attributes\":{},\"id\":\"50f9a871-b734-423e-81ab-e54ca7eb21f1\",\"type\":\"LinearScale\"},{\"attributes\":{\"active_drag\":\"auto\",\"active_inspect\":\"auto\",\"active_scroll\":\"auto\",\"active_tap\":\"auto\",\"tools\":[{\"id\":\"e7502a4c-4227-41dd-821d-5da7716a0678\",\"type\":\"PanTool\"},{\"id\":\"59bda9a8-8ebc-4f51-b6d1-1adce0573105\",\"type\":\"WheelZoomTool\"},{\"id\":\"97a3e135-f01d-49a0-84c0-68950b4f8570\",\"type\":\"BoxZoomTool\"},{\"id\":\"44d09e5b-0ac2-473b-a3d7-92ebcab7323a\",\"type\":\"SaveTool\"},{\"id\":\"a18a4889-5348-465e-854c-0fde599a061e\",\"type\":\"ResetTool\"},{\"id\":\"758f15a8-2eef-47ca-87e3-4d37f8dffb8a\",\"type\":\"HelpTool\"}]},\"id\":\"c8f36a1a-616b-4b37-a358-0c813e5e9dce\",\"type\":\"Toolbar\"},{\"attributes\":{\"callback\":null,\"data\":{\"band\":[\"3\",\"4\",\"5\",\"6\",\"7\",\"11\"],\"flux\":{\"__ndarray__\":\"AJ/EMdzKtD8AiJHuf7G4PyBjMVQ/W90/QM4KTHSErL8A5WqCrbSmv8h2eRTZMMM/\",\"dtype\":\"float64\",\"shape\":[6]}},\"selected\":{\"id\":\"70b73cf7-8dfd-4c0d-9a1e-00069f3ffec8\",\"type\":\"Selection\"},\"selection_policy\":{\"id\":\"cc806f92-467d-44f1-8b1b-542f4cb52651\",\"type\":\"UnionRenderers\"}},\"id\":\"dcf0b67a-d384-42bd-8b12-a93e8e01f60d\",\"type\":\"ColumnDataSource\"},{\"attributes\":{\"toolbar\":{\"id\":\"7bf57982-cc9c-4a10-a577-289569f73a2e\",\"type\":\"ProxyToolbar\"},\"toolbar_location\":\"above\"},\"id\":\"be32139b-72bf-428a-98f3-6b30ada5920a\",\"type\":\"ToolbarBox\"},{\"attributes\":{\"source\":{\"id\":\"dcf0b67a-d384-42bd-8b12-a93e8e01f60d\",\"type\":\"ColumnDataSource\"}},\"id\":\"beb31922-4eb5-4837-aa42-376cb4952f5e\",\"type\":\"CDSView\"},{\"attributes\":{\"plot\":{\"id\":\"6083cd1c-328e-4748-8ad0-ead57ed1057a\",\"subtype\":\"Figure\",\"type\":\"Plot\"},\"ticker\":{\"id\":\"fa3456e2-3acf-4aeb-bcbb-c32799e4b526\",\"type\":\"CategoricalTicker\"}},\"id\":\"09a3ea64-ff65-45bb-a70d-98e9dff29799\",\"type\":\"Grid\"},{\"attributes\":{\"children\":[{\"id\":\"be32139b-72bf-428a-98f3-6b30ada5920a\",\"type\":\"ToolbarBox\"},{\"id\":\"20e09c44-a5f6-4e69-b558-8649099d82fb\",\"type\":\"Column\"}]},\"id\":\"0f4d0d57-cd39-4ab9-84e4-6e51f57207c0\",\"type\":\"Column\"},{\"attributes\":{},\"id\":\"758f15a8-2eef-47ca-87e3-4d37f8dffb8a\",\"type\":\"HelpTool\"},{\"attributes\":{\"below\":[{\"id\":\"4c449785-cba8-4091-8c51-33ce5df021f4\",\"type\":\"CategoricalAxis\"}],\"left\":[{\"id\":\"0fa6daac-a704-45a5-b76f-28655cab9c98\",\"type\":\"LinearAxis\"}],\"plot_height\":300,\"plot_width\":300,\"renderers\":[{\"id\":\"4c449785-cba8-4091-8c51-33ce5df021f4\",\"type\":\"CategoricalAxis\"},{\"id\":\"a1e50e1c-6ac4-42fb-b181-bce101640f46\",\"type\":\"Grid\"},{\"id\":\"0fa6daac-a704-45a5-b76f-28655cab9c98\",\"type\":\"LinearAxis\"},{\"id\":\"ea600f08-1f5d-44d6-b564-4c50cd8ca1ea\",\"type\":\"Grid\"},{\"id\":\"1058140d-414d-4244-8b5b-0873e761325e\",\"type\":\"BoxAnnotation\"},{\"id\":\"eb5f845a-8bd7-4ac8-b80d-51dc1b2b9d03\",\"type\":\"GlyphRenderer\"}],\"title\":{\"id\":\"aa95f405-b98a-4434-a949-e9297c2f5166\",\"type\":\"Title\"},\"toolbar\":{\"id\":\"c8f36a1a-616b-4b37-a358-0c813e5e9dce\",\"type\":\"Toolbar\"},\"toolbar_location\":null,\"x_range\":{\"id\":\"be40468a-b6f2-4429-8a1b-8710677f6cc1\",\"type\":\"FactorRange\"},\"x_scale\":{\"id\":\"0730854e-5b9e-46bc-8a01-0de91bfcee34\",\"type\":\"CategoricalScale\"},\"y_range\":{\"id\":\"5163a04a-88ae-4ee8-bf71-5a942aaae5ad\",\"type\":\"DataRange1d\"},\"y_scale\":{\"id\":\"260685c9-b849-405a-9962-855895a3d4eb\",\"type\":\"LinearScale\"}},\"id\":\"50c1fd18-2f40-493f-ac3e-9c1d8b74fdeb\",\"subtype\":\"Figure\",\"type\":\"Plot\"},{\"attributes\":{},\"id\":\"45cc7a65-2d8d-4ce7-9035-c784e56c0ce3\",\"type\":\"CategoricalScale\"},{\"attributes\":{\"dimension\":1,\"plot\":{\"id\":\"50c1fd18-2f40-493f-ac3e-9c1d8b74fdeb\",\"subtype\":\"Figure\",\"type\":\"Plot\"},\"ticker\":{\"id\":\"f98e3fe8-0595-4c22-bc31-dc5b7fdcb675\",\"type\":\"BasicTicker\"}},\"id\":\"ea600f08-1f5d-44d6-b564-4c50cd8ca1ea\",\"type\":\"Grid\"},{\"attributes\":{\"callback\":null,\"factors\":[\"3\",\"4\",\"5\",\"6\",\"7\",\"11\"]},\"id\":\"b4f71701-6231-4239-a01b-03805d792ab5\",\"type\":\"FactorRange\"},{\"attributes\":{\"fill_alpha\":{\"value\":0.1},\"fill_color\":{\"value\":\"#1f77b4\"},\"line_alpha\":{\"value\":0.1},\"line_color\":{\"value\":\"#1f77b4\"},\"top\":{\"field\":\"flux\"},\"width\":{\"value\":0.9},\"x\":{\"field\":\"band\"}},\"id\":\"7fa0454c-753d-4e59-9cad-3fe4c5083ae3\",\"type\":\"VBar\"},{\"attributes\":{\"axis_label\":\"spectral band\",\"formatter\":{\"id\":\"1e5c1176-62e5-4e48-9bf4-3b1c3188bbdc\",\"type\":\"CategoricalTickFormatter\"},\"plot\":{\"id\":\"6083cd1c-328e-4748-8ad0-ead57ed1057a\",\"subtype\":\"Figure\",\"type\":\"Plot\"},\"ticker\":{\"id\":\"fa3456e2-3acf-4aeb-bcbb-c32799e4b526\",\"type\":\"CategoricalTicker\"}},\"id\":\"e54c760b-fdc6-4fc2-b53c-b436c66deb95\",\"type\":\"CategoricalAxis\"},{\"attributes\":{},\"id\":\"59bda9a8-8ebc-4f51-b6d1-1adce0573105\",\"type\":\"WheelZoomTool\"},{\"attributes\":{\"active_drag\":\"auto\",\"active_inspect\":\"auto\",\"active_scroll\":\"auto\",\"active_tap\":\"auto\",\"tools\":[{\"id\":\"48a3e261-8d20-416d-bf8e-6a207fb6ac5f\",\"type\":\"PanTool\"},{\"id\":\"0593c498-526c-460c-bff2-dc539efee554\",\"type\":\"WheelZoomTool\"},{\"id\":\"21d34452-c6d7-49e0-9097-74db284647a1\",\"type\":\"BoxZoomTool\"},{\"id\":\"4cbfa973-724a-4346-a5ef-026fb493df3e\",\"type\":\"SaveTool\"},{\"id\":\"59ca1f44-813c-478c-a665-ea6330f3b43b\",\"type\":\"ResetTool\"},{\"id\":\"def4e9ff-1d10-4faa-b4d1-a8a88e5d5bc3\",\"type\":\"HelpTool\"}]},\"id\":\"a3a5badd-e99e-40df-9c18-93db95b76e1e\",\"type\":\"Toolbar\"},{\"attributes\":{\"overlay\":{\"id\":\"1058140d-414d-4244-8b5b-0873e761325e\",\"type\":\"BoxAnnotation\"}},\"id\":\"97a3e135-f01d-49a0-84c0-68950b4f8570\",\"type\":\"BoxZoomTool\"},{\"attributes\":{\"below\":[{\"id\":\"e54c760b-fdc6-4fc2-b53c-b436c66deb95\",\"type\":\"CategoricalAxis\"}],\"left\":[{\"id\":\"6b5e0e8b-9ebd-4d49-906b-eac41593868a\",\"type\":\"LinearAxis\"}],\"plot_height\":300,\"plot_width\":300,\"renderers\":[{\"id\":\"e54c760b-fdc6-4fc2-b53c-b436c66deb95\",\"type\":\"CategoricalAxis\"},{\"id\":\"09a3ea64-ff65-45bb-a70d-98e9dff29799\",\"type\":\"Grid\"},{\"id\":\"6b5e0e8b-9ebd-4d49-906b-eac41593868a\",\"type\":\"LinearAxis\"},{\"id\":\"03304048-3db1-4c2c-a226-4eb27c3b057e\",\"type\":\"Grid\"},{\"id\":\"9a1ca569-99b2-4a86-b5e9-b95dd347ca25\",\"type\":\"BoxAnnotation\"},{\"id\":\"efa75430-b15c-4df5-95ee-8a4eb44e9024\",\"type\":\"GlyphRenderer\"}],\"title\":{\"id\":\"f340841b-31d5-4c38-891e-164dff21ef02\",\"type\":\"Title\"},\"toolbar\":{\"id\":\"a3a5badd-e99e-40df-9c18-93db95b76e1e\",\"type\":\"Toolbar\"},\"toolbar_location\":null,\"x_range\":{\"id\":\"b4f71701-6231-4239-a01b-03805d792ab5\",\"type\":\"FactorRange\"},\"x_scale\":{\"id\":\"45cc7a65-2d8d-4ce7-9035-c784e56c0ce3\",\"type\":\"CategoricalScale\"},\"y_range\":{\"id\":\"f8852b26-f1ed-4519-bb42-8c2a8ce253ec\",\"type\":\"DataRange1d\"},\"y_scale\":{\"id\":\"50f9a871-b734-423e-81ab-e54ca7eb21f1\",\"type\":\"LinearScale\"}},\"id\":\"6083cd1c-328e-4748-8ad0-ead57ed1057a\",\"subtype\":\"Figure\",\"type\":\"Plot\"},{\"attributes\":{},\"id\":\"44d09e5b-0ac2-473b-a3d7-92ebcab7323a\",\"type\":\"SaveTool\"},{\"attributes\":{},\"id\":\"a18a4889-5348-465e-854c-0fde599a061e\",\"type\":\"ResetTool\"},{\"attributes\":{\"data_source\":{\"id\":\"4a6a859c-b1fc-4f54-994d-57b84b3a2d8a\",\"type\":\"ColumnDataSource\"},\"glyph\":{\"id\":\"a3a92f81-eac7-4ada-8e4f-1b9674587dbd\",\"type\":\"VBar\"},\"hover_glyph\":null,\"muted_glyph\":null,\"nonselection_glyph\":{\"id\":\"7fa0454c-753d-4e59-9cad-3fe4c5083ae3\",\"type\":\"VBar\"},\"selection_glyph\":null,\"view\":{\"id\":\"64839b4f-d4c1-4aa4-abe8-90ea80e9d8e6\",\"type\":\"CDSView\"}},\"id\":\"eb5f845a-8bd7-4ac8-b80d-51dc1b2b9d03\",\"type\":\"GlyphRenderer\"},{\"attributes\":{\"axis_label\":\"flux (W m-2)\",\"formatter\":{\"id\":\"d654c396-fd72-43d3-80a8-4a005db42b41\",\"type\":\"BasicTickFormatter\"},\"plot\":{\"id\":\"6083cd1c-328e-4748-8ad0-ead57ed1057a\",\"subtype\":\"Figure\",\"type\":\"Plot\"},\"ticker\":{\"id\":\"b58fe623-e5ee-443c-b1e4-986a81ac2695\",\"type\":\"BasicTicker\"}},\"id\":\"6b5e0e8b-9ebd-4d49-906b-eac41593868a\",\"type\":\"LinearAxis\"},{\"attributes\":{},\"id\":\"e7502a4c-4227-41dd-821d-5da7716a0678\",\"type\":\"PanTool\"},{\"attributes\":{},\"id\":\"fa3456e2-3acf-4aeb-bcbb-c32799e4b526\",\"type\":\"CategoricalTicker\"},{\"attributes\":{\"fill_alpha\":{\"value\":0.1},\"fill_color\":{\"value\":\"#1f77b4\"},\"line_alpha\":{\"value\":0.1},\"line_color\":{\"value\":\"#1f77b4\"},\"top\":{\"field\":\"flux\"},\"width\":{\"value\":0.9},\"x\":{\"field\":\"band\"}},\"id\":\"672635ec-4940-4ee3-a82a-8aa69bbd38be\",\"type\":\"VBar\"},{\"attributes\":{\"dimension\":1,\"plot\":{\"id\":\"6083cd1c-328e-4748-8ad0-ead57ed1057a\",\"subtype\":\"Figure\",\"type\":\"Plot\"},\"ticker\":{\"id\":\"b58fe623-e5ee-443c-b1e4-986a81ac2695\",\"type\":\"BasicTicker\"}},\"id\":\"03304048-3db1-4c2c-a226-4eb27c3b057e\",\"type\":\"Grid\"},{\"attributes\":{\"bottom_units\":\"screen\",\"fill_alpha\":{\"value\":0.5},\"fill_color\":{\"value\":\"lightgrey\"},\"left_units\":\"screen\",\"level\":\"overlay\",\"line_alpha\":{\"value\":1.0},\"line_color\":{\"value\":\"black\"},\"line_dash\":[4,4],\"line_width\":{\"value\":2},\"plot\":null,\"render_mode\":\"css\",\"right_units\":\"screen\",\"top_units\":\"screen\"},\"id\":\"1058140d-414d-4244-8b5b-0873e761325e\",\"type\":\"BoxAnnotation\"},{\"attributes\":{},\"id\":\"7eebe941-dda1-4960-b980-0a37c99f6001\",\"type\":\"CategoricalScale\"},{\"attributes\":{\"callback\":null,\"data\":{\"band\":[\"3\",\"4\",\"5\",\"6\",\"7\",\"11\"],\"flux\":{\"__ndarray__\":\"gGRDh77hyb8AdlYfulvLP4CrkOrgusO/AGCWSAx8kz8AkEiKsRSNPwBoUhh+PrC/\",\"dtype\":\"float64\",\"shape\":[6]}},\"selected\":{\"id\":\"e15bb323-38d3-4b3e-95e8-7d1c1b17892b\",\"type\":\"Selection\"},\"selection_policy\":{\"id\":\"8ef5d4cb-8e3a-4b0a-a302-9e4d61706d2d\",\"type\":\"UnionRenderers\"}},\"id\":\"7404c3b5-5452-4970-b656-69a47fe5ff75\",\"type\":\"ColumnDataSource\"},{\"attributes\":{\"fill_color\":{\"value\":\"#1f77b4\"},\"line_color\":{\"value\":\"#1f77b4\"},\"top\":{\"field\":\"flux\"},\"width\":{\"value\":0.9},\"x\":{\"field\":\"band\"}},\"id\":\"a3a92f81-eac7-4ada-8e4f-1b9674587dbd\",\"type\":\"VBar\"},{\"attributes\":{\"source\":{\"id\":\"7404c3b5-5452-4970-b656-69a47fe5ff75\",\"type\":\"ColumnDataSource\"}},\"id\":\"e3f86a4a-abf6-47e8-8ab4-2a4e8db5f327\",\"type\":\"CDSView\"},{\"attributes\":{\"bottom_units\":\"screen\",\"fill_alpha\":{\"value\":0.5},\"fill_color\":{\"value\":\"lightgrey\"},\"left_units\":\"screen\",\"level\":\"overlay\",\"line_alpha\":{\"value\":1.0},\"line_color\":{\"value\":\"black\"},\"line_dash\":[4,4],\"line_width\":{\"value\":2},\"plot\":null,\"render_mode\":\"css\",\"right_units\":\"screen\",\"top_units\":\"screen\"},\"id\":\"9a1ca569-99b2-4a86-b5e9-b95dd347ca25\",\"type\":\"BoxAnnotation\"},{\"attributes\":{\"source\":{\"id\":\"4a6a859c-b1fc-4f54-994d-57b84b3a2d8a\",\"type\":\"ColumnDataSource\"}},\"id\":\"64839b4f-d4c1-4aa4-abe8-90ea80e9d8e6\",\"type\":\"CDSView\"},{\"attributes\":{},\"id\":\"48a3e261-8d20-416d-bf8e-6a207fb6ac5f\",\"type\":\"PanTool\"},{\"attributes\":{\"plot\":{\"id\":\"ef5e99cd-295e-4500-b1b9-1cc90415bb5c\",\"subtype\":\"Figure\",\"type\":\"Plot\"},\"ticker\":{\"id\":\"a6a378dd-af1b-4c85-a482-b887c9bbe8db\",\"type\":\"CategoricalTicker\"}},\"id\":\"85e3164a-55c2-442a-a289-76c2cb4059f5\",\"type\":\"Grid\"},{\"attributes\":{},\"id\":\"0593c498-526c-460c-bff2-dc539efee554\",\"type\":\"WheelZoomTool\"},{\"attributes\":{\"overlay\":{\"id\":\"9a1ca569-99b2-4a86-b5e9-b95dd347ca25\",\"type\":\"BoxAnnotation\"}},\"id\":\"21d34452-c6d7-49e0-9097-74db284647a1\",\"type\":\"BoxZoomTool\"},{\"attributes\":{},\"id\":\"4cbfa973-724a-4346-a5ef-026fb493df3e\",\"type\":\"SaveTool\"},{\"attributes\":{},\"id\":\"59ca1f44-813c-478c-a665-ea6330f3b43b\",\"type\":\"ResetTool\"},{\"attributes\":{},\"id\":\"def4e9ff-1d10-4faa-b4d1-a8a88e5d5bc3\",\"type\":\"HelpTool\"},{\"attributes\":{\"data_source\":{\"id\":\"dcf0b67a-d384-42bd-8b12-a93e8e01f60d\",\"type\":\"ColumnDataSource\"},\"glyph\":{\"id\":\"973e2b8e-6cad-4216-8274-66b6bb9a03e2\",\"type\":\"VBar\"},\"hover_glyph\":null,\"muted_glyph\":null,\"nonselection_glyph\":{\"id\":\"672635ec-4940-4ee3-a82a-8aa69bbd38be\",\"type\":\"VBar\"},\"selection_glyph\":null,\"view\":{\"id\":\"beb31922-4eb5-4837-aa42-376cb4952f5e\",\"type\":\"CDSView\"}},\"id\":\"efa75430-b15c-4df5-95ee-8a4eb44e9024\",\"type\":\"GlyphRenderer\"},{\"attributes\":{\"fill_color\":{\"value\":\"#1f77b4\"},\"line_color\":{\"value\":\"#1f77b4\"},\"top\":{\"field\":\"flux\"},\"width\":{\"value\":0.9},\"x\":{\"field\":\"band\"}},\"id\":\"973e2b8e-6cad-4216-8274-66b6bb9a03e2\",\"type\":\"VBar\"},{\"attributes\":{},\"id\":\"e15bb323-38d3-4b3e-95e8-7d1c1b17892b\",\"type\":\"Selection\"},{\"attributes\":{},\"id\":\"772e458c-7978-4c90-9446-fc2c3c39f54e\",\"type\":\"BasicTickFormatter\"},{\"attributes\":{\"active_drag\":\"auto\",\"active_inspect\":\"auto\",\"active_scroll\":\"auto\",\"active_tap\":\"auto\",\"tools\":[{\"id\":\"87e2bd40-d33c-42c6-9e38-8ebffa4467f9\",\"type\":\"PanTool\"},{\"id\":\"e3a65c3a-a48c-4884-81a7-d7f5307d78e8\",\"type\":\"WheelZoomTool\"},{\"id\":\"1030366c-f85d-4210-9447-bb8303137b0e\",\"type\":\"BoxZoomTool\"},{\"id\":\"01fa9e1b-7783-4adb-abce-cd01d1e6e5ca\",\"type\":\"SaveTool\"},{\"id\":\"159e6882-9861-4b4c-8a61-ff22bc55e38b\",\"type\":\"ResetTool\"},{\"id\":\"a94cfc5a-be5e-4b6c-8df3-ced3754c5c23\",\"type\":\"HelpTool\"}]},\"id\":\"e3f75626-1c87-43a5-81a9-26d2d74f7f96\",\"type\":\"Toolbar\"},{\"attributes\":{},\"id\":\"aec220f9-29eb-4e11-83b2-1dbcc1157742\",\"type\":\"CategoricalTickFormatter\"},{\"attributes\":{\"below\":[{\"id\":\"d5a8937b-7ee6-4aa9-9d30-7dd95d662cb0\",\"type\":\"CategoricalAxis\"}],\"left\":[{\"id\":\"4b37249c-d450-43d6-a958-bb82ac3506da\",\"type\":\"LinearAxis\"}],\"plot_height\":300,\"plot_width\":300,\"renderers\":[{\"id\":\"d5a8937b-7ee6-4aa9-9d30-7dd95d662cb0\",\"type\":\"CategoricalAxis\"},{\"id\":\"85e3164a-55c2-442a-a289-76c2cb4059f5\",\"type\":\"Grid\"},{\"id\":\"4b37249c-d450-43d6-a958-bb82ac3506da\",\"type\":\"LinearAxis\"},{\"id\":\"2ffbe182-5039-4b82-b54c-06a3fe339b82\",\"type\":\"Grid\"},{\"id\":\"67b92b6f-d46b-4c2a-933c-84bc54ee5868\",\"type\":\"BoxAnnotation\"},{\"id\":\"7776bffe-6c46-47ce-916b-c2aded0e21be\",\"type\":\"GlyphRenderer\"}],\"title\":{\"id\":\"348eb9a8-05d3-46c2-aa62-661ff51f1952\",\"type\":\"Title\"},\"toolbar\":{\"id\":\"e3f75626-1c87-43a5-81a9-26d2d74f7f96\",\"type\":\"Toolbar\"},\"toolbar_location\":null,\"x_range\":{\"id\":\"7bf0498c-2b7c-49a8-a273-8f8ca507202e\",\"type\":\"FactorRange\"},\"x_scale\":{\"id\":\"7eebe941-dda1-4960-b980-0a37c99f6001\",\"type\":\"CategoricalScale\"},\"y_range\":{\"id\":\"12b2f14b-1b71-482b-9169-737c0a68fae0\",\"type\":\"DataRange1d\"},\"y_scale\":{\"id\":\"acbe5468-9f0e-4c60-9905-76fe0dccda7f\",\"type\":\"LinearScale\"}},\"id\":\"ef5e99cd-295e-4500-b1b9-1cc90415bb5c\",\"subtype\":\"Figure\",\"type\":\"Plot\"},{\"attributes\":{},\"id\":\"acbe5468-9f0e-4c60-9905-76fe0dccda7f\",\"type\":\"LinearScale\"},{\"attributes\":{\"callback\":null,\"factors\":[\"3\",\"4\",\"5\",\"6\",\"7\",\"11\"]},\"id\":\"7bf0498c-2b7c-49a8-a273-8f8ca507202e\",\"type\":\"FactorRange\"},{\"attributes\":{\"callback\":null,\"data\":{\"band\":[\"3\",\"4\",\"5\",\"6\",\"7\",\"11\"],\"flux\":{\"__ndarray__\":\"AMgP9bj4vr9AdFLKMdrTP8Bh1evZfdM/AKw4QvfGor8AtOVB7N+evwCUgSY6I7Y/\",\"dtype\":\"float64\",\"shape\":[6]}},\"selected\":{\"id\":\"43b63a47-9c8a-472f-a9fa-3c3b38f2df23\",\"type\":\"Selection\"},\"selection_policy\":{\"id\":\"b1b1ec08-0994-4760-8f34-d2ce2322570f\",\"type\":\"UnionRenderers\"}},\"id\":\"4a6a859c-b1fc-4f54-994d-57b84b3a2d8a\",\"type\":\"ColumnDataSource\"},{\"attributes\":{\"callback\":null},\"id\":\"12b2f14b-1b71-482b-9169-737c0a68fae0\",\"type\":\"DataRange1d\"},{\"attributes\":{\"axis_label\":\"spectral band\",\"formatter\":{\"id\":\"aec220f9-29eb-4e11-83b2-1dbcc1157742\",\"type\":\"CategoricalTickFormatter\"},\"plot\":{\"id\":\"ef5e99cd-295e-4500-b1b9-1cc90415bb5c\",\"subtype\":\"Figure\",\"type\":\"Plot\"},\"ticker\":{\"id\":\"a6a378dd-af1b-4c85-a482-b887c9bbe8db\",\"type\":\"CategoricalTicker\"}},\"id\":\"d5a8937b-7ee6-4aa9-9d30-7dd95d662cb0\",\"type\":\"CategoricalAxis\"},{\"attributes\":{},\"id\":\"a6a378dd-af1b-4c85-a482-b887c9bbe8db\",\"type\":\"CategoricalTicker\"},{\"attributes\":{\"fill_color\":{\"value\":\"#1f77b4\"},\"line_color\":{\"value\":\"#1f77b4\"},\"top\":{\"field\":\"flux\"},\"width\":{\"value\":0.9},\"x\":{\"field\":\"band\"}},\"id\":\"717970cd-5b4b-45e8-bed9-372c4da1abb6\",\"type\":\"VBar\"},{\"attributes\":{},\"id\":\"ebdac29f-5c36-4441-9eb9-e6335c67eb7e\",\"type\":\"BasicTicker\"},{\"attributes\":{\"dimension\":1,\"plot\":{\"id\":\"ef5e99cd-295e-4500-b1b9-1cc90415bb5c\",\"subtype\":\"Figure\",\"type\":\"Plot\"},\"ticker\":{\"id\":\"ebdac29f-5c36-4441-9eb9-e6335c67eb7e\",\"type\":\"BasicTicker\"}},\"id\":\"2ffbe182-5039-4b82-b54c-06a3fe339b82\",\"type\":\"Grid\"},{\"attributes\":{\"fill_alpha\":{\"value\":0.1},\"fill_color\":{\"value\":\"#1f77b4\"},\"line_alpha\":{\"value\":0.1},\"line_color\":{\"value\":\"#1f77b4\"},\"top\":{\"field\":\"flux\"},\"width\":{\"value\":0.9},\"x\":{\"field\":\"band\"}},\"id\":\"eba7ad16-83e2-4c05-94a5-3b63dbd7d61c\",\"type\":\"VBar\"},{\"attributes\":{},\"id\":\"8ef5d4cb-8e3a-4b0a-a302-9e4d61706d2d\",\"type\":\"UnionRenderers\"},{\"attributes\":{\"children\":[{\"id\":\"af021d49-7ab0-4fb9-a9e8-ed6d98d04b3c\",\"type\":\"Row\"}]},\"id\":\"20e09c44-a5f6-4e69-b558-8649099d82fb\",\"type\":\"Column\"},{\"attributes\":{},\"id\":\"cc806f92-467d-44f1-8b1b-542f4cb52651\",\"type\":\"UnionRenderers\"},{\"attributes\":{\"data_source\":{\"id\":\"7404c3b5-5452-4970-b656-69a47fe5ff75\",\"type\":\"ColumnDataSource\"},\"glyph\":{\"id\":\"717970cd-5b4b-45e8-bed9-372c4da1abb6\",\"type\":\"VBar\"},\"hover_glyph\":null,\"muted_glyph\":null,\"nonselection_glyph\":{\"id\":\"eba7ad16-83e2-4c05-94a5-3b63dbd7d61c\",\"type\":\"VBar\"},\"selection_glyph\":null,\"view\":{\"id\":\"e3f86a4a-abf6-47e8-8ab4-2a4e8db5f327\",\"type\":\"CDSView\"}},\"id\":\"7776bffe-6c46-47ce-916b-c2aded0e21be\",\"type\":\"GlyphRenderer\"},{\"attributes\":{},\"id\":\"87e2bd40-d33c-42c6-9e38-8ebffa4467f9\",\"type\":\"PanTool\"},{\"attributes\":{},\"id\":\"e3a65c3a-a48c-4884-81a7-d7f5307d78e8\",\"type\":\"WheelZoomTool\"}],\"root_ids\":[\"0f4d0d57-cd39-4ab9-84e4-6e51f57207c0\"]},\"title\":\"Bokeh Application\",\"version\":\"0.12.16\"}};\n",
       "  var render_items = [{\"docid\":\"b7019eed-5dbb-46bc-aa0a-18c91b1908fd\",\"elementid\":\"52816d7b-42ba-491f-a8e0-a43b0416fd84\",\"modelid\":\"0f4d0d57-cd39-4ab9-84e4-6e51f57207c0\"}];\n",
       "  root.Bokeh.embed.embed_items_notebook(docs_json, render_items);\n",
       "\n",
       "  }\n",
       "  if (root.Bokeh !== undefined) {\n",
       "    embed_document(root);\n",
       "  } else {\n",
       "    var attempts = 0;\n",
       "    var timer = setInterval(function(root) {\n",
       "      if (root.Bokeh !== undefined) {\n",
       "        embed_document(root);\n",
       "        clearInterval(timer);\n",
       "      }\n",
       "      attempts++;\n",
       "      if (attempts > 100) {\n",
       "        console.log(\"Bokeh: ERROR: Unable to run BokehJS code because BokehJS library is missing\")\n",
       "        clearInterval(timer);\n",
       "      }\n",
       "    }, 10, root)\n",
       "  }\n",
       "})(window);"
      ],
      "application/vnd.bokehjs_exec.v0+json": ""
     },
     "metadata": {
      "application/vnd.bokehjs_exec.v0+json": {
       "id": "0f4d0d57-cd39-4ab9-84e4-6e51f57207c0"
      }
     },
     "output_type": "display_data"
    },
    {
     "data": {
      "text/markdown": [
       "*FIGURE.* Difference between CLIRAD and CRD in TOA, SFC and net atmosphere flux, in each spectral band."
      ],
      "text/plain": [
       "<IPython.core.display.Markdown object>"
      ]
     },
     "metadata": {},
     "output_type": "display_data"
    },
    {
     "data": {
      "text/html": [
       "<div>\n",
       "<style scoped>\n",
       "    .dataframe tbody tr th:only-of-type {\n",
       "        vertical-align: middle;\n",
       "    }\n",
       "\n",
       "    .dataframe tbody tr th {\n",
       "        vertical-align: top;\n",
       "    }\n",
       "\n",
       "    .dataframe thead th {\n",
       "        text-align: right;\n",
       "    }\n",
       "</style>\n",
       "<table border=\"1\" class=\"dataframe\">\n",
       "  <thead>\n",
       "    <tr style=\"text-align: right;\">\n",
       "      <th></th>\n",
       "      <th>OLR flux</th>\n",
       "      <th>SFC flux</th>\n",
       "      <th>ATM heating</th>\n",
       "    </tr>\n",
       "    <tr>\n",
       "      <th>Sum over bands</th>\n",
       "      <th></th>\n",
       "      <th></th>\n",
       "      <th></th>\n",
       "    </tr>\n",
       "  </thead>\n",
       "  <tbody>\n",
       "    <tr>\n",
       "      <th>CLIRAD - CRD</th>\n",
       "      <td>0.51</td>\n",
       "      <td>0.69</td>\n",
       "      <td>-0.17</td>\n",
       "    </tr>\n",
       "    <tr>\n",
       "      <th>CRD</th>\n",
       "      <td>-170.96</td>\n",
       "      <td>79.16</td>\n",
       "      <td>-37.63</td>\n",
       "    </tr>\n",
       "  </tbody>\n",
       "</table>\n",
       "</div>"
      ],
      "text/plain": [
       "                OLR flux  SFC flux  ATM heating\n",
       "Sum over bands                                 \n",
       "CLIRAD - CRD        0.51      0.69        -0.17\n",
       "CRD              -170.96     79.16       -37.63"
      ]
     },
     "metadata": {},
     "output_type": "display_data"
    },
    {
     "data": {
      "text/markdown": [
       "*TABLE.* Difference between CLIRAD and CRD in TOA, SFC and net atmosphere flux, over all spectral bands. CRD's TOA, SFC and net atmosphere flux, over all spectral bands."
      ],
      "text/plain": [
       "<IPython.core.display.Markdown object>"
      ]
     },
     "metadata": {},
     "output_type": "display_data"
    },
    {
     "data": {
      "text/html": [
       "<a id=\"Parameters_of_runs._saw\"></a>"
      ],
      "text/plain": [
       "<IPython.core.display.HTML object>"
      ]
     },
     "metadata": {},
     "output_type": "display_data"
    },
    {
     "data": {
      "text/markdown": [
       "# Parameters of runs. saw"
      ],
      "text/plain": [
       "<IPython.core.display.Markdown object>"
      ]
     },
     "metadata": {},
     "output_type": "display_data"
    },
    {
     "data": {
      "text/html": [
       "<div>\n",
       "<style scoped>\n",
       "    .dataframe tbody tr th:only-of-type {\n",
       "        vertical-align: middle;\n",
       "    }\n",
       "\n",
       "    .dataframe tbody tr th {\n",
       "        vertical-align: top;\n",
       "    }\n",
       "\n",
       "    .dataframe thead tr th {\n",
       "        text-align: left;\n",
       "    }\n",
       "</style>\n",
       "<table border=\"1\" class=\"dataframe\">\n",
       "  <thead>\n",
       "    <tr>\n",
       "      <th></th>\n",
       "      <th>clirad-lw</th>\n",
       "      <th colspan=\"6\" halign=\"left\">lblnew-bestfit lw</th>\n",
       "    </tr>\n",
       "    <tr>\n",
       "      <th></th>\n",
       "      <th>:D</th>\n",
       "      <th>band3a co2</th>\n",
       "      <th>band3b co2</th>\n",
       "      <th>band3c co2</th>\n",
       "      <th>band4 co2</th>\n",
       "      <th>band5 co2</th>\n",
       "      <th>band9 co2</th>\n",
       "    </tr>\n",
       "  </thead>\n",
       "  <tbody>\n",
       "    <tr>\n",
       "      <th>atmpro</th>\n",
       "      <td>saw</td>\n",
       "      <td>saw</td>\n",
       "      <td>saw</td>\n",
       "      <td>saw</td>\n",
       "      <td>saw</td>\n",
       "      <td>saw</td>\n",
       "      <td>saw</td>\n",
       "    </tr>\n",
       "    <tr>\n",
       "      <th>band</th>\n",
       "      <td>[3, 4, 5, 6, 7, 11]</td>\n",
       "      <td>3a</td>\n",
       "      <td>3b</td>\n",
       "      <td>3c</td>\n",
       "      <td>4</td>\n",
       "      <td>5</td>\n",
       "      <td>9</td>\n",
       "    </tr>\n",
       "    <tr>\n",
       "      <th>commitnumber</th>\n",
       "      <td>1013f91</td>\n",
       "      <td>a22ab94</td>\n",
       "      <td>a22ab94</td>\n",
       "      <td>a22ab94</td>\n",
       "      <td>a22ab94</td>\n",
       "      <td>a22ab94</td>\n",
       "      <td>a22ab94</td>\n",
       "    </tr>\n",
       "    <tr>\n",
       "      <th>conc</th>\n",
       "      <td>-</td>\n",
       "      <td>0.0004</td>\n",
       "      <td>0.0004</td>\n",
       "      <td>0.0004</td>\n",
       "      <td>0.0004</td>\n",
       "      <td>0.0004</td>\n",
       "      <td>0.0004</td>\n",
       "    </tr>\n",
       "    <tr>\n",
       "      <th>dv</th>\n",
       "      <td>-</td>\n",
       "      <td>0.001</td>\n",
       "      <td>0.001</td>\n",
       "      <td>0.001</td>\n",
       "      <td>0.001</td>\n",
       "      <td>0.001</td>\n",
       "      <td>0.001</td>\n",
       "    </tr>\n",
       "    <tr>\n",
       "      <th>klin</th>\n",
       "      <td>-</td>\n",
       "      <td>6.37556e-24</td>\n",
       "      <td>0</td>\n",
       "      <td>6.37556e-24</td>\n",
       "      <td>6.5e-24</td>\n",
       "      <td>6.5e-24</td>\n",
       "      <td>6.5e-24</td>\n",
       "    </tr>\n",
       "    <tr>\n",
       "      <th>molecule</th>\n",
       "      <td>{'co2': 0.0004}</td>\n",
       "      <td>co2</td>\n",
       "      <td>co2</td>\n",
       "      <td>co2</td>\n",
       "      <td>co2</td>\n",
       "      <td>co2</td>\n",
       "      <td>co2</td>\n",
       "    </tr>\n",
       "    <tr>\n",
       "      <th>ng_adju</th>\n",
       "      <td>-</td>\n",
       "      <td>[0, 0, 0]</td>\n",
       "      <td>[0, 0]</td>\n",
       "      <td>[0, 0, 0]</td>\n",
       "      <td>[0, 0]</td>\n",
       "      <td>[0, 0]</td>\n",
       "      <td>[0, 0]</td>\n",
       "    </tr>\n",
       "    <tr>\n",
       "      <th>ng_refs</th>\n",
       "      <td>-</td>\n",
       "      <td>[3, 2, 4]</td>\n",
       "      <td>[5, 4]</td>\n",
       "      <td>[3, 2, 4]</td>\n",
       "      <td>[1, 2]</td>\n",
       "      <td>[1, 2]</td>\n",
       "      <td>[3, 3]</td>\n",
       "    </tr>\n",
       "    <tr>\n",
       "      <th>nv</th>\n",
       "      <td>-</td>\n",
       "      <td>1000</td>\n",
       "      <td>1000</td>\n",
       "      <td>1000</td>\n",
       "      <td>1000</td>\n",
       "      <td>1000</td>\n",
       "      <td>1000</td>\n",
       "    </tr>\n",
       "    <tr>\n",
       "      <th>option_compute_btable</th>\n",
       "      <td>-</td>\n",
       "      <td>0</td>\n",
       "      <td>0</td>\n",
       "      <td>0</td>\n",
       "      <td>0</td>\n",
       "      <td>0</td>\n",
       "      <td>0</td>\n",
       "    </tr>\n",
       "    <tr>\n",
       "      <th>option_compute_ktable</th>\n",
       "      <td>-</td>\n",
       "      <td>0</td>\n",
       "      <td>0</td>\n",
       "      <td>0</td>\n",
       "      <td>0</td>\n",
       "      <td>0</td>\n",
       "      <td>0</td>\n",
       "    </tr>\n",
       "    <tr>\n",
       "      <th>option_wgt_flux</th>\n",
       "      <td>-</td>\n",
       "      <td>1</td>\n",
       "      <td>1</td>\n",
       "      <td>1</td>\n",
       "      <td>1</td>\n",
       "      <td>1</td>\n",
       "      <td>1</td>\n",
       "    </tr>\n",
       "    <tr>\n",
       "      <th>option_wgt_k</th>\n",
       "      <td>-</td>\n",
       "      <td>1</td>\n",
       "      <td>1</td>\n",
       "      <td>1</td>\n",
       "      <td>1</td>\n",
       "      <td>1</td>\n",
       "      <td>1</td>\n",
       "    </tr>\n",
       "    <tr>\n",
       "      <th>ref_pts</th>\n",
       "      <td>-</td>\n",
       "      <td>[[1, 250], [10, 250], [500, 250]]</td>\n",
       "      <td>[[1, 250], [10, 250]]</td>\n",
       "      <td>[[1, 250], [10, 250], [500, 250]]</td>\n",
       "      <td>[[1, 250], [500, 250]]</td>\n",
       "      <td>[[1, 250], [500, 250]]</td>\n",
       "      <td>[[1, 250], [50, 250]]</td>\n",
       "    </tr>\n",
       "    <tr>\n",
       "      <th>tsfc</th>\n",
       "      <td>257</td>\n",
       "      <td>257</td>\n",
       "      <td>257</td>\n",
       "      <td>257</td>\n",
       "      <td>257</td>\n",
       "      <td>257</td>\n",
       "      <td>257</td>\n",
       "    </tr>\n",
       "    <tr>\n",
       "      <th>vmax</th>\n",
       "      <td>-</td>\n",
       "      <td>620</td>\n",
       "      <td>720</td>\n",
       "      <td>800</td>\n",
       "      <td>980</td>\n",
       "      <td>1100</td>\n",
       "      <td>3000</td>\n",
       "    </tr>\n",
       "    <tr>\n",
       "      <th>vmin</th>\n",
       "      <td>-</td>\n",
       "      <td>540</td>\n",
       "      <td>620</td>\n",
       "      <td>720</td>\n",
       "      <td>800</td>\n",
       "      <td>980</td>\n",
       "      <td>1900</td>\n",
       "    </tr>\n",
       "    <tr>\n",
       "      <th>w_diffuse</th>\n",
       "      <td>-</td>\n",
       "      <td>[[1.6, 1.6, 1.7], [1.75, 1.75], [1.55, 1.55, 1.6, 1.85]]</td>\n",
       "      <td>[[1.66, 1.66, 1.66, 1.66, 1.66], [1.66, 1.66, 1.66, 1.66]]</td>\n",
       "      <td>[[1.7, 1.6, 1.8], [1.8, 1.7], [1.5, 1.6, 1.7, 1.8]]</td>\n",
       "      <td>[[1.75], [1.66, 1.9]]</td>\n",
       "      <td>[[1.75], [1.66, 1.9]]</td>\n",
       "      <td>[[1.66, 1.66, 1.75], [1.75, 1.6, 1.85]]</td>\n",
       "    </tr>\n",
       "    <tr>\n",
       "      <th>wgt</th>\n",
       "      <td>-</td>\n",
       "      <td>[[0.7, 0.3, 0.7], [0.7, 0.6], [0.4, 0.5, 0.8, 0.95]]</td>\n",
       "      <td>[[0, 0.5, 0.4, 0.6, 0.65], [0.7, 0.7, 0.55, 0.6]]</td>\n",
       "      <td>[[0.6, 0.4, 0.7], [0.7, 0.4], [0.3, 0.4, 0.85, 0.9]]</td>\n",
       "      <td>[[0.75], [0.75, 0.95]]</td>\n",
       "      <td>[[0.75], [0.75, 0.95]]</td>\n",
       "      <td>[[0.7, 0.8, 0.7], [0.8, 0.7, 0.8]]</td>\n",
       "    </tr>\n",
       "  </tbody>\n",
       "</table>\n",
       "</div>"
      ],
      "text/plain": [
       "                                 clirad-lw  \\\n",
       "                                        :D   \n",
       "atmpro                                 saw   \n",
       "band                   [3, 4, 5, 6, 7, 11]   \n",
       "commitnumber                       1013f91   \n",
       "conc                                     -   \n",
       "dv                                       -   \n",
       "klin                                     -   \n",
       "molecule                   {'co2': 0.0004}   \n",
       "ng_adju                                  -   \n",
       "ng_refs                                  -   \n",
       "nv                                       -   \n",
       "option_compute_btable                    -   \n",
       "option_compute_ktable                    -   \n",
       "option_wgt_flux                          -   \n",
       "option_wgt_k                             -   \n",
       "ref_pts                                  -   \n",
       "tsfc                                   257   \n",
       "vmax                                     -   \n",
       "vmin                                     -   \n",
       "w_diffuse                                -   \n",
       "wgt                                      -   \n",
       "\n",
       "                                                              lblnew-bestfit lw  \\\n",
       "                                                                     band3a co2   \n",
       "atmpro                                                                      saw   \n",
       "band                                                                         3a   \n",
       "commitnumber                                                            a22ab94   \n",
       "conc                                                                     0.0004   \n",
       "dv                                                                        0.001   \n",
       "klin                                                                6.37556e-24   \n",
       "molecule                                                                    co2   \n",
       "ng_adju                                                               [0, 0, 0]   \n",
       "ng_refs                                                               [3, 2, 4]   \n",
       "nv                                                                         1000   \n",
       "option_compute_btable                                                         0   \n",
       "option_compute_ktable                                                         0   \n",
       "option_wgt_flux                                                               1   \n",
       "option_wgt_k                                                                  1   \n",
       "ref_pts                                       [[1, 250], [10, 250], [500, 250]]   \n",
       "tsfc                                                                        257   \n",
       "vmax                                                                        620   \n",
       "vmin                                                                        540   \n",
       "w_diffuse              [[1.6, 1.6, 1.7], [1.75, 1.75], [1.55, 1.55, 1.6, 1.85]]   \n",
       "wgt                        [[0.7, 0.3, 0.7], [0.7, 0.6], [0.4, 0.5, 0.8, 0.95]]   \n",
       "\n",
       "                                                                                   \\\n",
       "                                                                       band3b co2   \n",
       "atmpro                                                                        saw   \n",
       "band                                                                           3b   \n",
       "commitnumber                                                              a22ab94   \n",
       "conc                                                                       0.0004   \n",
       "dv                                                                          0.001   \n",
       "klin                                                                            0   \n",
       "molecule                                                                      co2   \n",
       "ng_adju                                                                    [0, 0]   \n",
       "ng_refs                                                                    [5, 4]   \n",
       "nv                                                                           1000   \n",
       "option_compute_btable                                                           0   \n",
       "option_compute_ktable                                                           0   \n",
       "option_wgt_flux                                                                 1   \n",
       "option_wgt_k                                                                    1   \n",
       "ref_pts                                                     [[1, 250], [10, 250]]   \n",
       "tsfc                                                                          257   \n",
       "vmax                                                                          720   \n",
       "vmin                                                                          620   \n",
       "w_diffuse              [[1.66, 1.66, 1.66, 1.66, 1.66], [1.66, 1.66, 1.66, 1.66]]   \n",
       "wgt                             [[0, 0.5, 0.4, 0.6, 0.65], [0.7, 0.7, 0.55, 0.6]]   \n",
       "\n",
       "                                                                             \\\n",
       "                                                                 band3c co2   \n",
       "atmpro                                                                  saw   \n",
       "band                                                                     3c   \n",
       "commitnumber                                                        a22ab94   \n",
       "conc                                                                 0.0004   \n",
       "dv                                                                    0.001   \n",
       "klin                                                            6.37556e-24   \n",
       "molecule                                                                co2   \n",
       "ng_adju                                                           [0, 0, 0]   \n",
       "ng_refs                                                           [3, 2, 4]   \n",
       "nv                                                                     1000   \n",
       "option_compute_btable                                                     0   \n",
       "option_compute_ktable                                                     0   \n",
       "option_wgt_flux                                                           1   \n",
       "option_wgt_k                                                              1   \n",
       "ref_pts                                   [[1, 250], [10, 250], [500, 250]]   \n",
       "tsfc                                                                    257   \n",
       "vmax                                                                    800   \n",
       "vmin                                                                    720   \n",
       "w_diffuse               [[1.7, 1.6, 1.8], [1.8, 1.7], [1.5, 1.6, 1.7, 1.8]]   \n",
       "wgt                    [[0.6, 0.4, 0.7], [0.7, 0.4], [0.3, 0.4, 0.85, 0.9]]   \n",
       "\n",
       "                                                                       \\\n",
       "                                    band4 co2               band5 co2   \n",
       "atmpro                                    saw                     saw   \n",
       "band                                        4                       5   \n",
       "commitnumber                          a22ab94                 a22ab94   \n",
       "conc                                   0.0004                  0.0004   \n",
       "dv                                      0.001                   0.001   \n",
       "klin                                  6.5e-24                 6.5e-24   \n",
       "molecule                                  co2                     co2   \n",
       "ng_adju                                [0, 0]                  [0, 0]   \n",
       "ng_refs                                [1, 2]                  [1, 2]   \n",
       "nv                                       1000                    1000   \n",
       "option_compute_btable                       0                       0   \n",
       "option_compute_ktable                       0                       0   \n",
       "option_wgt_flux                             1                       1   \n",
       "option_wgt_k                                1                       1   \n",
       "ref_pts                [[1, 250], [500, 250]]  [[1, 250], [500, 250]]   \n",
       "tsfc                                      257                     257   \n",
       "vmax                                      980                    1100   \n",
       "vmin                                      800                     980   \n",
       "w_diffuse               [[1.75], [1.66, 1.9]]   [[1.75], [1.66, 1.9]]   \n",
       "wgt                    [[0.75], [0.75, 0.95]]  [[0.75], [0.75, 0.95]]   \n",
       "\n",
       "                                                                \n",
       "                                                     band9 co2  \n",
       "atmpro                                                     saw  \n",
       "band                                                         9  \n",
       "commitnumber                                           a22ab94  \n",
       "conc                                                    0.0004  \n",
       "dv                                                       0.001  \n",
       "klin                                                   6.5e-24  \n",
       "molecule                                                   co2  \n",
       "ng_adju                                                 [0, 0]  \n",
       "ng_refs                                                 [3, 3]  \n",
       "nv                                                        1000  \n",
       "option_compute_btable                                        0  \n",
       "option_compute_ktable                                        0  \n",
       "option_wgt_flux                                              1  \n",
       "option_wgt_k                                                 1  \n",
       "ref_pts                                  [[1, 250], [50, 250]]  \n",
       "tsfc                                                       257  \n",
       "vmax                                                      3000  \n",
       "vmin                                                      1900  \n",
       "w_diffuse              [[1.66, 1.66, 1.75], [1.75, 1.6, 1.85]]  \n",
       "wgt                         [[0.7, 0.8, 0.7], [0.8, 0.7, 0.8]]  "
      ]
     },
     "metadata": {},
     "output_type": "display_data"
    },
    {
     "data": {
      "text/html": [
       "<a id=\"Cooling_rates._saw.\"></a>"
      ],
      "text/plain": [
       "<IPython.core.display.HTML object>"
      ]
     },
     "metadata": {},
     "output_type": "display_data"
    },
    {
     "data": {
      "text/markdown": [
       "# Cooling rates. saw."
      ],
      "text/plain": [
       "<IPython.core.display.Markdown object>"
      ]
     },
     "metadata": {},
     "output_type": "display_data"
    },
    {
     "data": {
      "text/html": [
       "\n",
       "<div class=\"bk-root\">\n",
       "    <div class=\"bk-plotdiv\" id=\"fc2a5114-0d10-4538-abf5-149d9dd7fb23\"></div>\n",
       "</div>"
      ]
     },
     "metadata": {},
     "output_type": "display_data"
    },
    {
     "data": {
      "application/javascript": [
       "(function(root) {\n",
       "  function embed_document(root) {\n",
       "    \n",
       "  var docs_json = {\"e94bae8f-7483-400f-b544-1dcb8fdc3c20\":{\"roots\":{\"references\":[{\"attributes\":{\"data_source\":{\"id\":\"25fa2ea0-bda5-492d-a861-0d10bd65f3dd\",\"type\":\"ColumnDataSource\"},\"glyph\":{\"id\":\"dab5166e-c32e-474d-b8d7-88904c646767\",\"type\":\"Circle\"},\"hover_glyph\":null,\"muted_glyph\":null,\"nonselection_glyph\":{\"id\":\"c367ac31-0045-4fc0-b2aa-c96600ba82ab\",\"type\":\"Circle\"},\"selection_glyph\":null,\"view\":{\"id\":\"76c0be20-9b28-4fbc-b96b-910d050bf107\",\"type\":\"CDSView\"}},\"id\":\"4ec0068c-b568-4012-ade2-52a2b17c0d18\",\"type\":\"GlyphRenderer\"},{\"attributes\":{\"above\":[{\"id\":\"cf8d2ac1-a2ce-49ae-8ae8-39d4f650d4f6\",\"type\":\"Legend\"}],\"below\":[{\"id\":\"d408a6b0-7d1f-47e2-9672-3461e63aa45b\",\"type\":\"LinearAxis\"}],\"left\":[{\"id\":\"4d146238-3bb8-4fb6-a320-a0d9fbff3159\",\"type\":\"LogAxis\"}],\"plot_width\":300,\"renderers\":[{\"id\":\"d408a6b0-7d1f-47e2-9672-3461e63aa45b\",\"type\":\"LinearAxis\"},{\"id\":\"6ef95c16-21a3-4a28-b0d4-7c3bd43e3152\",\"type\":\"Grid\"},{\"id\":\"4d146238-3bb8-4fb6-a320-a0d9fbff3159\",\"type\":\"LogAxis\"},{\"id\":\"3fb4a15b-c19e-4f84-81a8-f500decae528\",\"type\":\"Grid\"},{\"id\":\"3ef5d490-7dad-4e15-bfb3-df734e1d851f\",\"type\":\"BoxAnnotation\"},{\"id\":\"f5701208-8b0c-46a9-bcec-192477f83da2\",\"type\":\"GlyphRenderer\"},{\"id\":\"4ec0068c-b568-4012-ade2-52a2b17c0d18\",\"type\":\"GlyphRenderer\"},{\"id\":\"13aeb8d8-a47e-4e5d-a4ea-705838b89896\",\"type\":\"GlyphRenderer\"},{\"id\":\"cf8d2ac1-a2ce-49ae-8ae8-39d4f650d4f6\",\"type\":\"Legend\"}],\"title\":{\"id\":\"17cb3c92-79a3-4b30-9c2b-ed8861238232\",\"type\":\"Title\"},\"toolbar\":{\"id\":\"d23e0358-372f-42b5-adf4-c1527adcd2ad\",\"type\":\"Toolbar\"},\"toolbar_location\":null,\"x_range\":{\"id\":\"0149e37f-80b8-4dcd-8ef0-6c44b9f1526f\",\"type\":\"Range1d\"},\"x_scale\":{\"id\":\"ea90490f-2bda-44a1-8e78-385e2b19a923\",\"type\":\"LinearScale\"},\"y_range\":{\"id\":\"61a92018-ce8e-4bfd-a7a8-2ac86880f70b\",\"type\":\"Range1d\"},\"y_scale\":{\"id\":\"d12a991e-354b-4539-8bdd-9807fe99501e\",\"type\":\"LogScale\"}},\"id\":\"bd7121bc-2c64-42a9-bfa1-d8101c0245fe\",\"subtype\":\"Figure\",\"type\":\"Plot\"},{\"attributes\":{\"line_alpha\":0.1,\"line_color\":\"#1f77b4\",\"line_width\":1.5,\"x\":{\"field\":\"x\"},\"y\":{\"field\":\"y\"}},\"id\":\"e64f7988-1408-4a58-96c4-5a17d66f19e7\",\"type\":\"Line\"},{\"attributes\":{\"data_source\":{\"id\":\"0dea0415-2e40-42a7-ab00-260f3db45676\",\"type\":\"ColumnDataSource\"},\"glyph\":{\"id\":\"c7f1679f-e1f9-4ebc-9916-2a32922676fb\",\"type\":\"Line\"},\"hover_glyph\":null,\"muted_glyph\":null,\"nonselection_glyph\":{\"id\":\"e64f7988-1408-4a58-96c4-5a17d66f19e7\",\"type\":\"Line\"},\"selection_glyph\":null,\"view\":{\"id\":\"215f0907-34ac-42e3-ad95-b0572659fe4f\",\"type\":\"CDSView\"}},\"id\":\"13aeb8d8-a47e-4e5d-a4ea-705838b89896\",\"type\":\"GlyphRenderer\"},{\"attributes\":{\"line_alpha\":0.1,\"line_color\":\"#1f77b4\",\"line_dash\":[6],\"line_width\":5,\"x\":{\"field\":\"x\"},\"y\":{\"field\":\"y\"}},\"id\":\"dbc74f52-2b25-4b17-ba1a-ac96443925e2\",\"type\":\"Line\"},{\"attributes\":{\"dimension\":1,\"plot\":{\"id\":\"95eaea3b-a56b-4a11-b436-2672eecf8af8\",\"subtype\":\"Figure\",\"type\":\"Plot\"},\"ticker\":{\"id\":\"1ccf22c1-87f6-4af7-b05f-c4b3f36aafea\",\"type\":\"BasicTicker\"}},\"id\":\"6caef2d9-7347-4568-95d0-6c4b7c05131e\",\"type\":\"Grid\"},{\"attributes\":{\"source\":{\"id\":\"0dea0415-2e40-42a7-ab00-260f3db45676\",\"type\":\"ColumnDataSource\"}},\"id\":\"215f0907-34ac-42e3-ad95-b0572659fe4f\",\"type\":\"CDSView\"},{\"attributes\":{\"line_alpha\":0.8,\"line_color\":\"#984ea3\",\"line_width\":1.5,\"x\":{\"field\":\"x\"},\"y\":{\"field\":\"y\"}},\"id\":\"43969fef-911e-4fb6-bdc2-4ea011af1f55\",\"type\":\"Line\"},{\"attributes\":{\"axis_label\":\"pressure [mb]\",\"formatter\":{\"id\":\"6f6b16fa-1445-4146-a067-890c7c7f088b\",\"type\":\"BasicTickFormatter\"},\"plot\":{\"id\":\"95eaea3b-a56b-4a11-b436-2672eecf8af8\",\"subtype\":\"Figure\",\"type\":\"Plot\"},\"ticker\":{\"id\":\"1ccf22c1-87f6-4af7-b05f-c4b3f36aafea\",\"type\":\"BasicTicker\"}},\"id\":\"d2a67342-05dc-42f1-af7d-e55814452ece\",\"type\":\"LinearAxis\"},{\"attributes\":{\"callback\":null,\"data\":{\"x\":{\"__ndarray__\":\"z9djQqHDUEAuzeoNblQ+QKFOCuOqkzxAkZjHZYXXOUBgz2ZBUNw2QAmY1QypGzRA/Y+V6NbNMUCgppSShwEwQHwgsBonVy1AOPlgXpxkK0AVKMmH//ApQLXuuP6LzShAt7/38hcSKECmTxPHkbcmQFvIOrYULyRAWf3p+O+8IUDUuSK45f0fQDyg0FgMth1AWbtsF0GhHEByfP1UKOscQJnk4CRdpx9A9wFZLooDHkAg2Q0l3gwXQFL59RaslhFAbp6+x9b4C0DIABAWbVUGQEQYCbKLXQFAdWgReFjW+z8m4PFFgcb4P5DAevI7RvY/YRqPzQTv8j8Y2yhUvK3tP517hocaw+g/lpNYyZ495z84ZqTOGCjkPwusaKtZYuA/KVy1yCCj2j98L/nnrljUPznI0mqgt80/dr/J6sYnxz+DtQRXTkTCP2D8bdYkLrw/QZO0SNXYsz+qft2XOgOgP2qUwjPzW7C/LxKHU02Rur/U759XZSyYv18M5w+Ztak/ob0/xq/itD+MkEsBdT66Pw/vDCMwmr4/yzXgp2Y1wT9TSLBtqvTCP62R8ColmMQ/Xlntd/0nxj+8wpBKgp/HP1M9zwL+98g/oCGPEdkjyj9j9NUhSxLLP10aeow2uss/hSVWlTsbzD8VwkIASELMP61GFNMIRMw/S/CYeVhAzD8HPuVwbF3MP8phy7DAzMw/53gpaO3TzT/kkRY3hqfPP5Lo4kf23dA/KvujtCUb0T8Ip/zoZpPPP7Em7FPx08o/8XrVba/yxT/6uG2pD6HBPzBLtbQdaLY/\",\"dtype\":\"float64\",\"shape\":[75]},\"y\":{\"__ndarray__\":\"GhExyth1ND/Sv8nbtpRIP2vylNV0PVE/aTum7souWD/At0SJ8fVgPw3Iuahxymc/MSNhhJWvcD/bTfBN02d3P2zb5nxnaoA/CD5h5MAGhz8NmeH1TyaQP+zrCsc9p5Y/LbKd76fGnz/bLW5ISEmmPww9YvTcQq8/JV2OstnstT8Er5Y7M8G+P0c+r3jqkcU/5h99k6ZBzj88bCIzFzjVP4enV8oyxN0//yH99nXg5D8qOpLLf0jtP5kqGJXUifQ/c9cS8kHP/D+/DpwzojQEQIEmwoanVwxA4lgXt9HgE0BSSZ2AJuIbQAMJih9jjiNA5q4l5INuK0AwTKYKRj0zQNv5fmq8/DpAaCJseHrtQkB/+zpwzoxKQM3MzMzMeFJAZmZmZmZqWEAAAAAAAFxeQM3MzMzMJmJAmpmZmZkfZUBmZmZmZhhoQDMzMzMzEWtAAAAAAAAKbkBmZmZmZoFwQM3MzMzM/XFAMzMzMzN6c0CamZmZmfZ0QAAAAAAAc3ZAZmZmZmbvd0DNzMzMzGt5QDMzMzMz6HpAmpmZmZlkfEAAAAAAAOF9QGZmZmZmXX9AZmZmZuZsgECamZmZGSuBQM3MzMxM6YFAAAAAAICngkAzMzMzs2WDQGZmZmbmI4RAmpmZmRnihEDNzMzMTKCFQAAAAACAXoZAMzMzM7Mch0BmZmZm5tqHQJqZmZkZmYhAzczMzExXiUAAAAAAgBWKQDMzMzOz04pAZmZmZuaRi0CamZmZGVCMQM3MzMxMDo1AAAAAAIDMjUAzMzMzs4qOQGZmZmbmSI9A\",\"dtype\":\"float64\",\"shape\":[75]}},\"selected\":{\"id\":\"25eed393-d7ff-4e0c-b7da-a7ac7f47febb\",\"type\":\"Selection\"},\"selection_policy\":{\"id\":\"9ff474dc-2a13-4cd0-bfdd-990feb1753a7\",\"type\":\"UnionRenderers\"}},\"id\":\"25fa2ea0-bda5-492d-a861-0d10bd65f3dd\",\"type\":\"ColumnDataSource\"},{\"attributes\":{\"line_color\":\"#4daf4a\",\"line_width\":1.5,\"x\":{\"field\":\"x\"},\"y\":{\"field\":\"y\"}},\"id\":\"c7f1679f-e1f9-4ebc-9916-2a32922676fb\",\"type\":\"Line\"},{\"attributes\":{\"label\":{\"value\":\"CRD\"},\"renderers\":[{\"id\":\"a888a3bd-d638-49ff-9137-b0e08d285d1a\",\"type\":\"GlyphRenderer\"},{\"id\":\"a811c545-fc33-4283-8d07-801cf5ace55f\",\"type\":\"GlyphRenderer\"}]},\"id\":\"41d9381d-178e-4f7b-b32a-c27665d3fd8d\",\"type\":\"LegendItem\"},{\"attributes\":{\"fill_alpha\":{\"value\":0.7},\"fill_color\":{\"value\":\"#4daf4a\"},\"line_alpha\":{\"value\":0.7},\"line_color\":{\"value\":\"#4daf4a\"},\"x\":{\"field\":\"x\"},\"y\":{\"field\":\"y\"}},\"id\":\"dab5166e-c32e-474d-b8d7-88904c646767\",\"type\":\"Circle\"},{\"attributes\":{\"source\":{\"id\":\"25fa2ea0-bda5-492d-a861-0d10bd65f3dd\",\"type\":\"ColumnDataSource\"}},\"id\":\"76c0be20-9b28-4fbc-b96b-910d050bf107\",\"type\":\"CDSView\"},{\"attributes\":{},\"id\":\"43f49271-5fe2-418d-8b38-b1d59ace75dd\",\"type\":\"WheelZoomTool\"},{\"attributes\":{\"fill_alpha\":{\"value\":0.1},\"fill_color\":{\"value\":\"#1f77b4\"},\"line_alpha\":{\"value\":0.1},\"line_color\":{\"value\":\"#1f77b4\"},\"x\":{\"field\":\"x\"},\"y\":{\"field\":\"y\"}},\"id\":\"c367ac31-0045-4fc0-b2aa-c96600ba82ab\",\"type\":\"Circle\"},{\"attributes\":{},\"id\":\"1ccf22c1-87f6-4af7-b05f-c4b3f36aafea\",\"type\":\"BasicTicker\"},{\"attributes\":{\"callback\":null,\"data\":{\"x\":{\"__ndarray__\":\"z9djQqHDUEAuzeoNblQ+QKFOCuOqkzxAkZjHZYXXOUBgz2ZBUNw2QAmY1QypGzRA/Y+V6NbNMUCgppSShwEwQHwgsBonVy1AOPlgXpxkK0AVKMmH//ApQLXuuP6LzShAt7/38hcSKECmTxPHkbcmQFvIOrYULyRAWf3p+O+8IUDUuSK45f0fQDyg0FgMth1AWbtsF0GhHEByfP1UKOscQJnk4CRdpx9A9wFZLooDHkAg2Q0l3gwXQFL59RaslhFAbp6+x9b4C0DIABAWbVUGQEQYCbKLXQFAdWgReFjW+z8m4PFFgcb4P5DAevI7RvY/YRqPzQTv8j8Y2yhUvK3tP517hocaw+g/lpNYyZ495z84ZqTOGCjkPwusaKtZYuA/KVy1yCCj2j98L/nnrljUPznI0mqgt80/dr/J6sYnxz+DtQRXTkTCP2D8bdYkLrw/QZO0SNXYsz+qft2XOgOgP2qUwjPzW7C/LxKHU02Rur/U759XZSyYv18M5w+Ztak/ob0/xq/itD+MkEsBdT66Pw/vDCMwmr4/yzXgp2Y1wT9TSLBtqvTCP62R8ColmMQ/Xlntd/0nxj+8wpBKgp/HP1M9zwL+98g/oCGPEdkjyj9j9NUhSxLLP10aeow2uss/hSVWlTsbzD8VwkIASELMP61GFNMIRMw/S/CYeVhAzD8HPuVwbF3MP8phy7DAzMw/53gpaO3TzT/kkRY3hqfPP5Lo4kf23dA/KvujtCUb0T8Ip/zoZpPPP7Em7FPx08o/8XrVba/yxT/6uG2pD6HBPzBLtbQdaLY/\",\"dtype\":\"float64\",\"shape\":[75]},\"y\":{\"__ndarray__\":\"GhExyth1ND/Sv8nbtpRIP2vylNV0PVE/aTum7souWD/At0SJ8fVgPw3Iuahxymc/MSNhhJWvcD/bTfBN02d3P2zb5nxnaoA/CD5h5MAGhz8NmeH1TyaQP+zrCsc9p5Y/LbKd76fGnz/bLW5ISEmmPww9YvTcQq8/JV2OstnstT8Er5Y7M8G+P0c+r3jqkcU/5h99k6ZBzj88bCIzFzjVP4enV8oyxN0//yH99nXg5D8qOpLLf0jtP5kqGJXUifQ/c9cS8kHP/D+/DpwzojQEQIEmwoanVwxA4lgXt9HgE0BSSZ2AJuIbQAMJih9jjiNA5q4l5INuK0AwTKYKRj0zQNv5fmq8/DpAaCJseHrtQkB/+zpwzoxKQM3MzMzMeFJAZmZmZmZqWEAAAAAAAFxeQM3MzMzMJmJAmpmZmZkfZUBmZmZmZhhoQDMzMzMzEWtAAAAAAAAKbkBmZmZmZoFwQM3MzMzM/XFAMzMzMzN6c0CamZmZmfZ0QAAAAAAAc3ZAZmZmZmbvd0DNzMzMzGt5QDMzMzMz6HpAmpmZmZlkfEAAAAAAAOF9QGZmZmZmXX9AZmZmZuZsgECamZmZGSuBQM3MzMxM6YFAAAAAAICngkAzMzMzs2WDQGZmZmbmI4RAmpmZmRnihEDNzMzMTKCFQAAAAACAXoZAMzMzM7Mch0BmZmZm5tqHQJqZmZkZmYhAzczMzExXiUAAAAAAgBWKQDMzMzOz04pAZmZmZuaRi0CamZmZGVCMQM3MzMxMDo1AAAAAAIDMjUAzMzMzs4qOQGZmZmbmSI9A\",\"dtype\":\"float64\",\"shape\":[75]}},\"selected\":{\"id\":\"b7c0e5ea-958e-46d2-a80a-c7a8ae65951e\",\"type\":\"Selection\"},\"selection_policy\":{\"id\":\"f76935b4-db2c-4d1f-a81b-3dd4319ed036\",\"type\":\"UnionRenderers\"}},\"id\":\"0dea0415-2e40-42a7-ab00-260f3db45676\",\"type\":\"ColumnDataSource\"},{\"attributes\":{},\"id\":\"d63a1b7c-9043-4700-818b-07508bd6b8de\",\"type\":\"HelpTool\"},{\"attributes\":{\"data_source\":{\"id\":\"0127a9bd-4762-4bfc-9b72-496afff76715\",\"type\":\"ColumnDataSource\"},\"glyph\":{\"id\":\"e335c5e3-e760-4b47-8313-668df99c8e5d\",\"type\":\"Circle\"},\"hover_glyph\":null,\"muted_glyph\":null,\"nonselection_glyph\":{\"id\":\"d17c806b-265e-44b6-ba70-e03d525e4d3e\",\"type\":\"Circle\"},\"selection_glyph\":null,\"view\":{\"id\":\"3c1530be-1b1f-4425-ae3e-66011a2f7499\",\"type\":\"CDSView\"}},\"id\":\"cc33491e-c074-42b8-968c-d81dcde36df3\",\"type\":\"GlyphRenderer\"},{\"attributes\":{\"fill_alpha\":{\"value\":0.7},\"fill_color\":{\"value\":\"#4daf4a\"},\"line_alpha\":{\"value\":0.7},\"line_color\":{\"value\":\"#4daf4a\"},\"x\":{\"field\":\"x\"},\"y\":{\"field\":\"y\"}},\"id\":\"c69a9904-56dc-441b-9755-53cc76a822b0\",\"type\":\"Circle\"},{\"attributes\":{\"label\":{\"value\":\"CLIRAD\"},\"renderers\":[{\"id\":\"f5701208-8b0c-46a9-bcec-192477f83da2\",\"type\":\"GlyphRenderer\"}]},\"id\":\"008eea0a-f481-4d1e-9704-a44634ea3688\",\"type\":\"LegendItem\"},{\"attributes\":{},\"id\":\"c42b22e6-608f-4c84-bb83-62923a5a54e4\",\"type\":\"LinearScale\"},{\"attributes\":{\"data_source\":{\"id\":\"5bbd517f-ca59-4da5-8032-1d1ae6f777a5\",\"type\":\"ColumnDataSource\"},\"glyph\":{\"id\":\"c69a9904-56dc-441b-9755-53cc76a822b0\",\"type\":\"Circle\"},\"hover_glyph\":null,\"muted_glyph\":null,\"nonselection_glyph\":{\"id\":\"5f16493d-a16d-43c7-9361-2530f6f31622\",\"type\":\"Circle\"},\"selection_glyph\":null,\"view\":{\"id\":\"3e92c1fa-f6d6-44cb-86aa-072ac2641def\",\"type\":\"CDSView\"}},\"id\":\"a888a3bd-d638-49ff-9137-b0e08d285d1a\",\"type\":\"GlyphRenderer\"},{\"attributes\":{\"label\":{\"value\":\"CRD\"},\"renderers\":[{\"id\":\"4ec0068c-b568-4012-ade2-52a2b17c0d18\",\"type\":\"GlyphRenderer\"},{\"id\":\"13aeb8d8-a47e-4e5d-a4ea-705838b89896\",\"type\":\"GlyphRenderer\"}]},\"id\":\"da5a35b5-d55e-43e0-a590-d620c8846d51\",\"type\":\"LegendItem\"},{\"attributes\":{\"overlay\":{\"id\":\"3ef5d490-7dad-4e15-bfb3-df734e1d851f\",\"type\":\"BoxAnnotation\"}},\"id\":\"b15da4f1-af64-4790-b608-5e0584e17e38\",\"type\":\"BoxZoomTool\"},{\"attributes\":{\"bottom_units\":\"screen\",\"fill_alpha\":{\"value\":0.5},\"fill_color\":{\"value\":\"lightgrey\"},\"left_units\":\"screen\",\"level\":\"overlay\",\"line_alpha\":{\"value\":1.0},\"line_color\":{\"value\":\"black\"},\"line_dash\":[4,4],\"line_width\":{\"value\":2},\"plot\":null,\"render_mode\":\"css\",\"right_units\":\"screen\",\"top_units\":\"screen\"},\"id\":\"26f6b362-0b03-461c-8036-78f08c7afe1e\",\"type\":\"BoxAnnotation\"},{\"attributes\":{},\"id\":\"230f10b6-87e1-4dbe-b6a3-e75dfbe2c488\",\"type\":\"SaveTool\"},{\"attributes\":{\"items\":[{\"id\":\"f819dc65-da00-41a4-8851-c4287ead70d6\",\"type\":\"LegendItem\"},{\"id\":\"41d9381d-178e-4f7b-b32a-c27665d3fd8d\",\"type\":\"LegendItem\"}],\"label_text_font_size\":{\"value\":\"8pt\"},\"location\":\"top_center\",\"orientation\":\"horizontal\",\"plot\":{\"id\":\"95eaea3b-a56b-4a11-b436-2672eecf8af8\",\"subtype\":\"Figure\",\"type\":\"Plot\"}},\"id\":\"94841db0-6ac3-4ae0-b78b-771aed6b3475\",\"type\":\"Legend\"},{\"attributes\":{\"bottom_units\":\"screen\",\"fill_alpha\":{\"value\":0.5},\"fill_color\":{\"value\":\"lightgrey\"},\"left_units\":\"screen\",\"level\":\"overlay\",\"line_alpha\":{\"value\":1.0},\"line_color\":{\"value\":\"black\"},\"line_dash\":[4,4],\"line_width\":{\"value\":2},\"plot\":null,\"render_mode\":\"css\",\"right_units\":\"screen\",\"top_units\":\"screen\"},\"id\":\"3ef5d490-7dad-4e15-bfb3-df734e1d851f\",\"type\":\"BoxAnnotation\"},{\"attributes\":{\"axis_label\":\"cooling rate [K/day]\",\"formatter\":{\"id\":\"23bbe8e5-2ab6-4cae-9261-6895c409cb26\",\"type\":\"BasicTickFormatter\"},\"plot\":{\"id\":\"95eaea3b-a56b-4a11-b436-2672eecf8af8\",\"subtype\":\"Figure\",\"type\":\"Plot\"},\"ticker\":{\"id\":\"d5ebff21-86b6-4f11-959b-f3e99e9b8c93\",\"type\":\"BasicTicker\"}},\"id\":\"89f04536-24d9-4239-9213-ff5ed47bbc30\",\"type\":\"LinearAxis\"},{\"attributes\":{\"fill_alpha\":{\"value\":0.1},\"fill_color\":{\"value\":\"#1f77b4\"},\"line_alpha\":{\"value\":0.1},\"line_color\":{\"value\":\"#1f77b4\"},\"x\":{\"field\":\"x\"},\"y\":{\"field\":\"y\"}},\"id\":\"d17c806b-265e-44b6-ba70-e03d525e4d3e\",\"type\":\"Circle\"},{\"attributes\":{\"callback\":null,\"end\":0.01,\"start\":1020},\"id\":\"ee7696bd-8ded-4d27-9155-1984061fab48\",\"type\":\"Range1d\"},{\"attributes\":{},\"id\":\"c5ddf858-9ed5-460b-88e8-1c7592b4a3b5\",\"type\":\"WheelZoomTool\"},{\"attributes\":{},\"id\":\"ee5dece0-458e-4873-a99b-c69d5f30ae39\",\"type\":\"LinearScale\"},{\"attributes\":{\"fill_alpha\":{\"value\":0.1},\"fill_color\":{\"value\":\"#1f77b4\"},\"line_alpha\":{\"value\":0.1},\"line_color\":{\"value\":\"#1f77b4\"},\"x\":{\"field\":\"x\"},\"y\":{\"field\":\"y\"}},\"id\":\"5f16493d-a16d-43c7-9361-2530f6f31622\",\"type\":\"Circle\"},{\"attributes\":{},\"id\":\"d7fef410-38a1-4bac-b341-f752e2906946\",\"type\":\"ResetTool\"},{\"attributes\":{},\"id\":\"a5925348-b273-429b-be3c-6c5c464f028c\",\"type\":\"PanTool\"},{\"attributes\":{\"callback\":null,\"data\":{\"x\":{\"__ndarray__\":\"z9djQqHDUEAuzeoNblQ+QKFOCuOqkzxAkZjHZYXXOUBgz2ZBUNw2QAmY1QypGzRA/Y+V6NbNMUCgppSShwEwQHwgsBonVy1AOPlgXpxkK0AVKMmH//ApQLXuuP6LzShAt7/38hcSKECmTxPHkbcmQFvIOrYULyRAWf3p+O+8IUDUuSK45f0fQDyg0FgMth1AWbtsF0GhHEByfP1UKOscQJnk4CRdpx9A9wFZLooDHkAg2Q0l3gwXQFL59RaslhFAbp6+x9b4C0DIABAWbVUGQEQYCbKLXQFAdWgReFjW+z8m4PFFgcb4P5DAevI7RvY/YRqPzQTv8j8Y2yhUvK3tP517hocaw+g/lpNYyZ495z84ZqTOGCjkPwusaKtZYuA/KVy1yCCj2j98L/nnrljUPznI0mqgt80/dr/J6sYnxz+DtQRXTkTCP2D8bdYkLrw/QZO0SNXYsz+qft2XOgOgP2qUwjPzW7C/LxKHU02Rur/U759XZSyYv18M5w+Ztak/ob0/xq/itD+MkEsBdT66Pw/vDCMwmr4/yzXgp2Y1wT9TSLBtqvTCP62R8ColmMQ/Xlntd/0nxj+8wpBKgp/HP1M9zwL+98g/oCGPEdkjyj9j9NUhSxLLP10aeow2uss/hSVWlTsbzD8VwkIASELMP61GFNMIRMw/S/CYeVhAzD8HPuVwbF3MP8phy7DAzMw/53gpaO3TzT/kkRY3hqfPP5Lo4kf23dA/KvujtCUb0T8Ip/zoZpPPP7Em7FPx08o/8XrVba/yxT/6uG2pD6HBPzBLtbQdaLY/\",\"dtype\":\"float64\",\"shape\":[75]},\"y\":{\"__ndarray__\":\"GhExyth1ND/Sv8nbtpRIP2vylNV0PVE/aTum7souWD/At0SJ8fVgPw3Iuahxymc/MSNhhJWvcD/bTfBN02d3P2zb5nxnaoA/CD5h5MAGhz8NmeH1TyaQP+zrCsc9p5Y/LbKd76fGnz/bLW5ISEmmPww9YvTcQq8/JV2OstnstT8Er5Y7M8G+P0c+r3jqkcU/5h99k6ZBzj88bCIzFzjVP4enV8oyxN0//yH99nXg5D8qOpLLf0jtP5kqGJXUifQ/c9cS8kHP/D+/DpwzojQEQIEmwoanVwxA4lgXt9HgE0BSSZ2AJuIbQAMJih9jjiNA5q4l5INuK0AwTKYKRj0zQNv5fmq8/DpAaCJseHrtQkB/+zpwzoxKQM3MzMzMeFJAZmZmZmZqWEAAAAAAAFxeQM3MzMzMJmJAmpmZmZkfZUBmZmZmZhhoQDMzMzMzEWtAAAAAAAAKbkBmZmZmZoFwQM3MzMzM/XFAMzMzMzN6c0CamZmZmfZ0QAAAAAAAc3ZAZmZmZmbvd0DNzMzMzGt5QDMzMzMz6HpAmpmZmZlkfEAAAAAAAOF9QGZmZmZmXX9AZmZmZuZsgECamZmZGSuBQM3MzMxM6YFAAAAAAICngkAzMzMzs2WDQGZmZmbmI4RAmpmZmRnihEDNzMzMTKCFQAAAAACAXoZAMzMzM7Mch0BmZmZm5tqHQJqZmZkZmYhAzczMzExXiUAAAAAAgBWKQDMzMzOz04pAZmZmZuaRi0CamZmZGVCMQM3MzMxMDo1AAAAAAIDMjUAzMzMzs4qOQGZmZmbmSI9A\",\"dtype\":\"float64\",\"shape\":[75]}},\"selected\":{\"id\":\"588b5ba5-a5b9-478d-ba49-efd51c81c79a\",\"type\":\"Selection\"},\"selection_policy\":{\"id\":\"2f7029fc-3942-45b0-a8c3-032b5443b53d\",\"type\":\"UnionRenderers\"}},\"id\":\"5bbd517f-ca59-4da5-8032-1d1ae6f777a5\",\"type\":\"ColumnDataSource\"},{\"attributes\":{\"callback\":null,\"end\":0.7574749288202549,\"start\":-1.0394767609434388},\"id\":\"ac027f80-813c-46cc-bf64-ffa4e763897c\",\"type\":\"Range1d\"},{\"attributes\":{\"source\":{\"id\":\"0a29140f-fd8d-40e3-836e-262ba027fcda\",\"type\":\"ColumnDataSource\"}},\"id\":\"c89bd336-8f5b-413f-aacc-86da4595c1bd\",\"type\":\"CDSView\"},{\"attributes\":{\"line_alpha\":0.1,\"line_color\":\"#1f77b4\",\"line_width\":1.5,\"x\":{\"field\":\"x\"},\"y\":{\"field\":\"y\"}},\"id\":\"09ed531f-2789-4762-8b9b-9e1b62b541a2\",\"type\":\"Line\"},{\"attributes\":{},\"id\":\"d4be65e1-5e9f-4e37-aed9-357f34517e47\",\"type\":\"HelpTool\"},{\"attributes\":{\"active_drag\":\"auto\",\"active_inspect\":\"auto\",\"active_scroll\":\"auto\",\"active_tap\":\"auto\",\"tools\":[{\"id\":\"d43d8f37-37a9-445a-b076-c368f0a48929\",\"type\":\"PanTool\"},{\"id\":\"43f49271-5fe2-418d-8b38-b1d59ace75dd\",\"type\":\"WheelZoomTool\"},{\"id\":\"a58dceee-d996-4579-b568-b890808cfc07\",\"type\":\"BoxZoomTool\"},{\"id\":\"3a77d8e3-e3d9-4a65-9d19-548edcb3e6ee\",\"type\":\"SaveTool\"},{\"id\":\"d7fef410-38a1-4bac-b341-f752e2906946\",\"type\":\"ResetTool\"},{\"id\":\"d63a1b7c-9043-4700-818b-07508bd6b8de\",\"type\":\"HelpTool\"}]},\"id\":\"d2bf846d-2222-46cb-909b-cfdfb3572c74\",\"type\":\"Toolbar\"},{\"attributes\":{},\"id\":\"ea90490f-2bda-44a1-8e78-385e2b19a923\",\"type\":\"LinearScale\"},{\"attributes\":{\"callback\":null,\"data\":{\"x\":{\"__ndarray__\":\"bBTXTiEsNsDASAVE0bP7PyBdbdhw4ARAwFHtP0RrBkDQDkYI3xX+PwCfqfYt0ss/8IucL+3E9L9QmGDLCwn+v1DzYxgIb/m/OKdXcIlZ8L/Q4L9/dnjlvyBR0MZEqeS/AKwL9g8i6L8w7qxXLw3lv4CrOppEksm/oEneIwim2D8AHOMr6qznPxBolabZQ+Y/wPS3oMYq1D+grZPj+gfEvyAMxe+Smt2/kN0dFMlO2b/AOFmEOs2+vwDAYsONiFu/4G1Y7JHstb/QgV8CK0jCvwAnghx7IZI/eEh35r+1wz+o4sbG35nBP5BhBi1CAbI/wOm+ZSAHrT8AUNCM7M42P8ApVzV1UZ+/wC04ICtAlT9whB3PloamPwB0+AlfOmY/IIzZ4Lw4hr/gPr/zAsuQP0zlBRkay6M/8Iqg1jYJpj88qopXX4ChP8iHcVjbv5Q/AMpOkz5EdD9M5WHDUwWBv6iXrVOxhJO//GWpbyUemb9GvzBP+nSZvy3P8Y4ZcpW/NJyOQwbmkL+ohR5XA1CLvxjrlhT1x4e/YKJmXfUOiL9gbIb8emeFv4Au2n50rIO/4LQDO+8ggb8gYlif0Nx7v4Dkc9NMK3S/AArBi/rYZb8AhLF6wwlWv4Dht83X1lc/AIXo/f9eZz9ggaONwRRxPwB9lKw3v3U/IN/BW16XeT9AOcQB53l8P6B/gNHYVn4/QC0ZaDtFfz8Awhe1P0qAP4BoQ99xMHs/QOEdcu4efj/A+3dhR4J8PwCefU6qHHc/AMB2Hna+ez8gSr0zUF92P8CyafKIiXg/\",\"dtype\":\"float64\",\"shape\":[75]},\"y\":{\"__ndarray__\":\"GhExyth1ND/Sv8nbtpRIP2vylNV0PVE/aTum7souWD/At0SJ8fVgPw3Iuahxymc/MSNhhJWvcD/bTfBN02d3P2zb5nxnaoA/CD5h5MAGhz8NmeH1TyaQP+zrCsc9p5Y/LbKd76fGnz/bLW5ISEmmPww9YvTcQq8/JV2OstnstT8Er5Y7M8G+P0c+r3jqkcU/5h99k6ZBzj88bCIzFzjVP4enV8oyxN0//yH99nXg5D8qOpLLf0jtP5kqGJXUifQ/c9cS8kHP/D+/DpwzojQEQIEmwoanVwxA4lgXt9HgE0BSSZ2AJuIbQAMJih9jjiNA5q4l5INuK0AwTKYKRj0zQNv5fmq8/DpAaCJseHrtQkB/+zpwzoxKQM3MzMzMeFJAZmZmZmZqWEAAAAAAAFxeQM3MzMzMJmJAmpmZmZkfZUBmZmZmZhhoQDMzMzMzEWtAAAAAAAAKbkBmZmZmZoFwQM3MzMzM/XFAMzMzMzN6c0CamZmZmfZ0QAAAAAAAc3ZAZmZmZmbvd0DNzMzMzGt5QDMzMzMz6HpAmpmZmZlkfEAAAAAAAOF9QGZmZmZmXX9AZmZmZuZsgECamZmZGSuBQM3MzMxM6YFAAAAAAICngkAzMzMzs2WDQGZmZmbmI4RAmpmZmRnihEDNzMzMTKCFQAAAAACAXoZAMzMzM7Mch0BmZmZm5tqHQJqZmZkZmYhAzczMzExXiUAAAAAAgBWKQDMzMzOz04pAZmZmZuaRi0CamZmZGVCMQM3MzMxMDo1AAAAAAIDMjUAzMzMzs4qOQGZmZmbmSI9A\",\"dtype\":\"float64\",\"shape\":[75]}},\"selected\":{\"id\":\"67a713af-cee4-4fc0-8387-88bca544e354\",\"type\":\"Selection\"},\"selection_policy\":{\"id\":\"b9abbb77-60b5-4234-af43-a9ee06a1b46b\",\"type\":\"UnionRenderers\"}},\"id\":\"0127a9bd-4762-4bfc-9b72-496afff76715\",\"type\":\"ColumnDataSource\"},{\"attributes\":{},\"id\":\"aed99e68-e108-41a3-bedb-3c4c325ad8f8\",\"type\":\"ResetTool\"},{\"attributes\":{\"active_drag\":\"auto\",\"active_inspect\":\"auto\",\"active_scroll\":\"auto\",\"active_tap\":\"auto\",\"tools\":[{\"id\":\"6684b59d-4db0-4b2b-8374-8c6a4800c233\",\"type\":\"PanTool\"},{\"id\":\"a3fe1b44-d9f7-4f00-88ba-5ca4a7f397f8\",\"type\":\"WheelZoomTool\"},{\"id\":\"8b4b3f67-9859-41d4-8b70-b8b344947f7a\",\"type\":\"BoxZoomTool\"},{\"id\":\"348c9821-f2c9-4343-ae93-4304bbda6194\",\"type\":\"SaveTool\"},{\"id\":\"a621e008-ec04-4224-a388-90d6f7530f30\",\"type\":\"ResetTool\"},{\"id\":\"3e9fdcfb-26b0-4863-81f6-695720b3e8f3\",\"type\":\"HelpTool\"}]},\"id\":\"e91485a5-ffd6-4848-9977-86c5e0c90b20\",\"type\":\"Toolbar\"},{\"attributes\":{\"items\":[{\"id\":\"008eea0a-f481-4d1e-9704-a44634ea3688\",\"type\":\"LegendItem\"},{\"id\":\"da5a35b5-d55e-43e0-a590-d620c8846d51\",\"type\":\"LegendItem\"}],\"label_text_font_size\":{\"value\":\"8pt\"},\"location\":\"top_center\",\"orientation\":\"horizontal\",\"plot\":{\"id\":\"bd7121bc-2c64-42a9-bfa1-d8101c0245fe\",\"subtype\":\"Figure\",\"type\":\"Plot\"}},\"id\":\"cf8d2ac1-a2ce-49ae-8ae8-39d4f650d4f6\",\"type\":\"Legend\"},{\"attributes\":{\"items\":[{\"id\":\"aeedeb32-dcb6-46fc-ba2b-4bdb5d2f2efc\",\"type\":\"LegendItem\"}],\"label_text_font_size\":{\"value\":\"8pt\"},\"location\":\"top_center\",\"orientation\":\"horizontal\",\"plot\":{\"id\":\"a1e7524f-c946-4729-ac80-1898e7fa27bc\",\"subtype\":\"Figure\",\"type\":\"Plot\"}},\"id\":\"17bd2fe8-b226-489f-95a4-6e251e6af8a1\",\"type\":\"Legend\"},{\"attributes\":{},\"id\":\"0a91bbbd-92b0-4066-99e0-6ccd94d37dc4\",\"type\":\"LogScale\"},{\"attributes\":{\"plot\":{\"id\":\"bd7121bc-2c64-42a9-bfa1-d8101c0245fe\",\"subtype\":\"Figure\",\"type\":\"Plot\"},\"ticker\":{\"id\":\"92a8c51e-4bb6-45ad-920b-94b1b2204aa4\",\"type\":\"BasicTicker\"}},\"id\":\"6ef95c16-21a3-4a28-b0d4-7c3bd43e3152\",\"type\":\"Grid\"},{\"attributes\":{\"plot\":{\"id\":\"95eaea3b-a56b-4a11-b436-2672eecf8af8\",\"subtype\":\"Figure\",\"type\":\"Plot\"},\"ticker\":{\"id\":\"d5ebff21-86b6-4f11-959b-f3e99e9b8c93\",\"type\":\"BasicTicker\"}},\"id\":\"7d722fa6-15ea-4a4d-b640-92a5f035da27\",\"type\":\"Grid\"},{\"attributes\":{\"data_source\":{\"id\":\"a617bcb3-8819-4228-b800-a49e683fca96\",\"type\":\"ColumnDataSource\"},\"glyph\":{\"id\":\"43969fef-911e-4fb6-bdc2-4ea011af1f55\",\"type\":\"Line\"},\"hover_glyph\":null,\"muted_glyph\":null,\"nonselection_glyph\":{\"id\":\"09ed531f-2789-4762-8b9b-9e1b62b541a2\",\"type\":\"Line\"},\"selection_glyph\":null,\"view\":{\"id\":\"3fbc7af5-ac84-45fe-b19c-756198da2fd3\",\"type\":\"CDSView\"}},\"id\":\"4429d805-9a7c-40ba-8ed4-8878e47e9e60\",\"type\":\"GlyphRenderer\"},{\"attributes\":{\"callback\":null,\"data\":{\"x\":{\"__ndarray__\":\"bBTXTiEsNsDASAVE0bP7PyBdbdhw4ARAwFHtP0RrBkDQDkYI3xX+PwCfqfYt0ss/8IucL+3E9L9QmGDLCwn+v1DzYxgIb/m/OKdXcIlZ8L/Q4L9/dnjlvyBR0MZEqeS/AKwL9g8i6L8w7qxXLw3lv4CrOppEksm/oEneIwim2D8AHOMr6qznPxBolabZQ+Y/wPS3oMYq1D+grZPj+gfEvyAMxe+Smt2/kN0dFMlO2b/AOFmEOs2+vwDAYsONiFu/4G1Y7JHstb/QgV8CK0jCvwAnghx7IZI/eEh35r+1wz+o4sbG35nBP5BhBi1CAbI/wOm+ZSAHrT8AUNCM7M42P8ApVzV1UZ+/wC04ICtAlT9whB3PloamPwB0+AlfOmY/IIzZ4Lw4hr/gPr/zAsuQP0zlBRkay6M/8Iqg1jYJpj88qopXX4ChP8iHcVjbv5Q/AMpOkz5EdD9M5WHDUwWBv6iXrVOxhJO//GWpbyUemb9GvzBP+nSZvy3P8Y4ZcpW/NJyOQwbmkL+ohR5XA1CLvxjrlhT1x4e/YKJmXfUOiL9gbIb8emeFv4Au2n50rIO/4LQDO+8ggb8gYlif0Nx7v4Dkc9NMK3S/AArBi/rYZb8AhLF6wwlWv4Dht83X1lc/AIXo/f9eZz9ggaONwRRxPwB9lKw3v3U/IN/BW16XeT9AOcQB53l8P6B/gNHYVn4/QC0ZaDtFfz8Awhe1P0qAP4BoQ99xMHs/QOEdcu4efj/A+3dhR4J8PwCefU6qHHc/AMB2Hna+ez8gSr0zUF92P8CyafKIiXg/\",\"dtype\":\"float64\",\"shape\":[75]},\"y\":{\"__ndarray__\":\"GhExyth1ND/Sv8nbtpRIP2vylNV0PVE/aTum7souWD/At0SJ8fVgPw3Iuahxymc/MSNhhJWvcD/bTfBN02d3P2zb5nxnaoA/CD5h5MAGhz8NmeH1TyaQP+zrCsc9p5Y/LbKd76fGnz/bLW5ISEmmPww9YvTcQq8/JV2OstnstT8Er5Y7M8G+P0c+r3jqkcU/5h99k6ZBzj88bCIzFzjVP4enV8oyxN0//yH99nXg5D8qOpLLf0jtP5kqGJXUifQ/c9cS8kHP/D+/DpwzojQEQIEmwoanVwxA4lgXt9HgE0BSSZ2AJuIbQAMJih9jjiNA5q4l5INuK0AwTKYKRj0zQNv5fmq8/DpAaCJseHrtQkB/+zpwzoxKQM3MzMzMeFJAZmZmZmZqWEAAAAAAAFxeQM3MzMzMJmJAmpmZmZkfZUBmZmZmZhhoQDMzMzMzEWtAAAAAAAAKbkBmZmZmZoFwQM3MzMzM/XFAMzMzMzN6c0CamZmZmfZ0QAAAAAAAc3ZAZmZmZmbvd0DNzMzMzGt5QDMzMzMz6HpAmpmZmZlkfEAAAAAAAOF9QGZmZmZmXX9AZmZmZuZsgECamZmZGSuBQM3MzMxM6YFAAAAAAICngkAzMzMzs2WDQGZmZmbmI4RAmpmZmRnihEDNzMzMTKCFQAAAAACAXoZAMzMzM7Mch0BmZmZm5tqHQJqZmZkZmYhAzczMzExXiUAAAAAAgBWKQDMzMzOz04pAZmZmZuaRi0CamZmZGVCMQM3MzMxMDo1AAAAAAIDMjUAzMzMzs4qOQGZmZmbmSI9A\",\"dtype\":\"float64\",\"shape\":[75]}},\"selected\":{\"id\":\"5bc9764a-a2e6-4129-8e01-97b192eac17d\",\"type\":\"Selection\"},\"selection_policy\":{\"id\":\"be27b4f4-8ce8-46f2-b636-771a5d88b16b\",\"type\":\"UnionRenderers\"}},\"id\":\"a617bcb3-8819-4228-b800-a49e683fca96\",\"type\":\"ColumnDataSource\"},{\"attributes\":{},\"id\":\"3a77d8e3-e3d9-4a65-9d19-548edcb3e6ee\",\"type\":\"SaveTool\"},{\"attributes\":{\"dimension\":1,\"plot\":{\"id\":\"a1e7524f-c946-4729-ac80-1898e7fa27bc\",\"subtype\":\"Figure\",\"type\":\"Plot\"},\"ticker\":{\"id\":\"ebdef59c-a9b7-444c-896e-edd8ee124d99\",\"type\":\"LogTicker\"}},\"id\":\"932abfaf-5996-442d-9309-d2ceab141186\",\"type\":\"Grid\"},{\"attributes\":{},\"id\":\"d43d8f37-37a9-445a-b076-c368f0a48929\",\"type\":\"PanTool\"},{\"attributes\":{\"num_minor_ticks\":10},\"id\":\"ebdef59c-a9b7-444c-896e-edd8ee124d99\",\"type\":\"LogTicker\"},{\"attributes\":{\"axis_label\":\"pressure [mb]\",\"formatter\":{\"id\":\"6202b22b-023a-4631-a480-3868a687b5ea\",\"type\":\"LogTickFormatter\"},\"plot\":{\"id\":\"a1e7524f-c946-4729-ac80-1898e7fa27bc\",\"subtype\":\"Figure\",\"type\":\"Plot\"},\"ticker\":{\"id\":\"ebdef59c-a9b7-444c-896e-edd8ee124d99\",\"type\":\"LogTicker\"}},\"id\":\"26ccb877-fcc0-4e8c-8fe7-d243b2a3e79e\",\"type\":\"LogAxis\"},{\"attributes\":{},\"id\":\"d5ebff21-86b6-4f11-959b-f3e99e9b8c93\",\"type\":\"BasicTicker\"},{\"attributes\":{\"callback\":null,\"end\":13.832043457895344,\"start\":0.007171574517220641},\"id\":\"0149e37f-80b8-4dcd-8ef0-6c44b9f1526f\",\"type\":\"Range1d\"},{\"attributes\":{},\"id\":\"b37a6622-bf5e-44ce-866e-018ff1a6b4db\",\"type\":\"BasicTicker\"},{\"attributes\":{\"axis_label\":\"cooling rate [K/day]\",\"formatter\":{\"id\":\"6cc698cb-a9dd-4815-b7c6-6c0dfa94b0af\",\"type\":\"BasicTickFormatter\"},\"plot\":{\"id\":\"a1e7524f-c946-4729-ac80-1898e7fa27bc\",\"subtype\":\"Figure\",\"type\":\"Plot\"},\"ticker\":{\"id\":\"b37a6622-bf5e-44ce-866e-018ff1a6b4db\",\"type\":\"BasicTicker\"}},\"id\":\"a3929ac6-3471-4a04-9beb-e5c0d7c1091a\",\"type\":\"LinearAxis\"},{\"attributes\":{},\"id\":\"92a8c51e-4bb6-45ad-920b-94b1b2204aa4\",\"type\":\"BasicTicker\"},{\"attributes\":{},\"id\":\"d12a991e-354b-4539-8bdd-9807fe99501e\",\"type\":\"LogScale\"},{\"attributes\":{\"plot\":{\"id\":\"a1e7524f-c946-4729-ac80-1898e7fa27bc\",\"subtype\":\"Figure\",\"type\":\"Plot\"},\"ticker\":{\"id\":\"b37a6622-bf5e-44ce-866e-018ff1a6b4db\",\"type\":\"BasicTicker\"}},\"id\":\"e2627204-c9a5-42c9-ac66-6410f4d911e3\",\"type\":\"Grid\"},{\"attributes\":{},\"id\":\"a3fe1b44-d9f7-4f00-88ba-5ca4a7f397f8\",\"type\":\"WheelZoomTool\"},{\"attributes\":{\"line_alpha\":0.1,\"line_color\":\"#1f77b4\",\"line_width\":1.5,\"x\":{\"field\":\"x\"},\"y\":{\"field\":\"y\"}},\"id\":\"ed1177eb-c738-424f-a7bf-2ae0d659b99d\",\"type\":\"Line\"},{\"attributes\":{\"label\":{\"value\":\"CLIRAD\"},\"renderers\":[{\"id\":\"d8762981-45d9-444b-b9dd-9c768c07004c\",\"type\":\"GlyphRenderer\"}]},\"id\":\"f819dc65-da00-41a4-8851-c4287ead70d6\",\"type\":\"LegendItem\"},{\"attributes\":{\"line_alpha\":0.1,\"line_color\":\"#1f77b4\",\"line_dash\":[6],\"line_width\":5,\"x\":{\"field\":\"x\"},\"y\":{\"field\":\"y\"}},\"id\":\"591f4bbb-5adf-44c5-9ec3-22414b5a4c00\",\"type\":\"Line\"},{\"attributes\":{\"source\":{\"id\":\"a617bcb3-8819-4228-b800-a49e683fca96\",\"type\":\"ColumnDataSource\"}},\"id\":\"3fbc7af5-ac84-45fe-b19c-756198da2fd3\",\"type\":\"CDSView\"},{\"attributes\":{\"axis_label\":\"cooling rate [K/day]\",\"formatter\":{\"id\":\"33dedfb7-7ab3-4a15-b75e-9dd1d8f3395c\",\"type\":\"BasicTickFormatter\"},\"plot\":{\"id\":\"bd7121bc-2c64-42a9-bfa1-d8101c0245fe\",\"subtype\":\"Figure\",\"type\":\"Plot\"},\"ticker\":{\"id\":\"92a8c51e-4bb6-45ad-920b-94b1b2204aa4\",\"type\":\"BasicTicker\"}},\"id\":\"d408a6b0-7d1f-47e2-9672-3461e63aa45b\",\"type\":\"LinearAxis\"},{\"attributes\":{\"overlay\":{\"id\":\"26f6b362-0b03-461c-8036-78f08c7afe1e\",\"type\":\"BoxAnnotation\"}},\"id\":\"a58dceee-d996-4579-b568-b890808cfc07\",\"type\":\"BoxZoomTool\"},{\"attributes\":{\"bottom_units\":\"screen\",\"fill_alpha\":{\"value\":0.5},\"fill_color\":{\"value\":\"lightgrey\"},\"left_units\":\"screen\",\"level\":\"overlay\",\"line_alpha\":{\"value\":1.0},\"line_color\":{\"value\":\"black\"},\"line_dash\":[4,4],\"line_width\":{\"value\":2},\"plot\":null,\"render_mode\":\"css\",\"right_units\":\"screen\",\"top_units\":\"screen\"},\"id\":\"f615f8cf-51f3-4d2a-a254-7e9710c5c5dd\",\"type\":\"BoxAnnotation\"},{\"attributes\":{},\"id\":\"6684b59d-4db0-4b2b-8374-8c6a4800c233\",\"type\":\"PanTool\"},{\"attributes\":{\"callback\":null,\"data\":{\"x\":{\"__ndarray__\":\"aCVc3TFxRkDdkBWR1QdAQEX6F/64Lz9AyULF7e2kPEBNMOsxrr04QEfrwmhNUzRAPsebFYiBMEA2Or2r7UEsQBKioxdGKSpAUQRWMGtZKUAIKs0feJkoQKPpS7L3gidA9wSX8/aPJkDDgJjRvmYlQK3d0aPLyCNApu8IOiCCIkCqjs9+wXkhQJ+m0cZDPyBApTp4ge3jHUAF3+B96EocQNeT5PWzzR1AHiQXnZ1uHEA9dPw6qZEWQCbDGY7zlBFA/9pbOHJJC0CrCOpl6jAFQJIcQqjOgQFAhFHgdBBN/j97vMo+vfn6P6kmSxVQZvc/rxG90D3X8z8idboxlrDtP0/C292OyOc/BFVaIqDn5z9/PpY7gpDlP3+kcgqUeOA/yI+u4Vrx2T9qIzUXX2XVP8YgingzVdE/MuJxoBSqzD8SYOcsZqTGPykvRdYNr8A/4X/pMRkdtT+uCgpOy4OXP1T6rYgfPbW/17W4V2tswL+NV2jTr9Cov5FJ3JAY+Z0/lBZcNS6psD/Xv2eWdNS2P6wReoAxobs/SpcTpO5ovz+N4ee9Mp7BP8XuAuNdXcM/EB49hO4VxT+r/5XFm8DGPy+eM5yjVsg/eB1gJ3XMyT9bkeCaN+bKPyCKFTzk6cs/mcdNlbd4zD8g3q8M7srMP5XqeJAC8sw/RP92bBMNzT/RX/OoO0HNP8dlV3d3v80/UUJqQxfOzj8CBzQZFVbQPzT2Xw+4StE/r3JsbqGT0T9zMwSSvDvQP6ETYKbWjMs/8TDJHqPQxj9LowsrClTCP1zm20O28Lc/\",\"dtype\":\"float64\",\"shape\":[75]},\"y\":{\"__ndarray__\":\"GhExyth1ND/Sv8nbtpRIP2vylNV0PVE/aTum7souWD/At0SJ8fVgPw3Iuahxymc/MSNhhJWvcD/bTfBN02d3P2zb5nxnaoA/CD5h5MAGhz8NmeH1TyaQP+zrCsc9p5Y/LbKd76fGnz/bLW5ISEmmPww9YvTcQq8/JV2OstnstT8Er5Y7M8G+P0c+r3jqkcU/5h99k6ZBzj88bCIzFzjVP4enV8oyxN0//yH99nXg5D8qOpLLf0jtP5kqGJXUifQ/c9cS8kHP/D+/DpwzojQEQIEmwoanVwxA4lgXt9HgE0BSSZ2AJuIbQAMJih9jjiNA5q4l5INuK0AwTKYKRj0zQNv5fmq8/DpAaCJseHrtQkB/+zpwzoxKQM3MzMzMeFJAZmZmZmZqWEAAAAAAAFxeQM3MzMzMJmJAmpmZmZkfZUBmZmZmZhhoQDMzMzMzEWtAAAAAAAAKbkBmZmZmZoFwQM3MzMzM/XFAMzMzMzN6c0CamZmZmfZ0QAAAAAAAc3ZAZmZmZmbvd0DNzMzMzGt5QDMzMzMz6HpAmpmZmZlkfEAAAAAAAOF9QGZmZmZmXX9AZmZmZuZsgECamZmZGSuBQM3MzMxM6YFAAAAAAICngkAzMzMzs2WDQGZmZmbmI4RAmpmZmRnihEDNzMzMTKCFQAAAAACAXoZAMzMzM7Mch0BmZmZm5tqHQJqZmZkZmYhAzczMzExXiUAAAAAAgBWKQDMzMzOz04pAZmZmZuaRi0CamZmZGVCMQM3MzMxMDo1AAAAAAIDMjUAzMzMzs4qOQGZmZmbmSI9A\",\"dtype\":\"float64\",\"shape\":[75]}},\"selected\":{\"id\":\"fa0f030c-a99b-469c-958d-9be23f83914a\",\"type\":\"Selection\"},\"selection_policy\":{\"id\":\"de71cc48-c55d-49be-9713-fb6b6dca9166\",\"type\":\"UnionRenderers\"}},\"id\":\"3d8dc7ee-1ab5-4693-b8a1-c0a13a5992e6\",\"type\":\"ColumnDataSource\"},{\"attributes\":{\"overlay\":{\"id\":\"f615f8cf-51f3-4d2a-a254-7e9710c5c5dd\",\"type\":\"BoxAnnotation\"}},\"id\":\"8b4b3f67-9859-41d4-8b70-b8b344947f7a\",\"type\":\"BoxZoomTool\"},{\"attributes\":{},\"id\":\"84cfa1d6-348e-44fb-ac6f-87ff9a70c666\",\"type\":\"LinearScale\"},{\"attributes\":{},\"id\":\"348c9821-f2c9-4343-ae93-4304bbda6194\",\"type\":\"SaveTool\"},{\"attributes\":{},\"id\":\"a621e008-ec04-4224-a388-90d6f7530f30\",\"type\":\"ResetTool\"},{\"attributes\":{\"source\":{\"id\":\"3d8dc7ee-1ab5-4693-b8a1-c0a13a5992e6\",\"type\":\"ColumnDataSource\"}},\"id\":\"2a4eb59e-0f0f-450d-a2ee-369ece15a346\",\"type\":\"CDSView\"},{\"attributes\":{},\"id\":\"3e9fdcfb-26b0-4863-81f6-695720b3e8f3\",\"type\":\"HelpTool\"},{\"attributes\":{\"line_alpha\":0.6,\"line_color\":\"#e41a1c\",\"line_dash\":[6],\"line_width\":5,\"x\":{\"field\":\"x\"},\"y\":{\"field\":\"y\"}},\"id\":\"ffdab44c-44b1-45ff-9ed6-8efcba3ddf72\",\"type\":\"Line\"},{\"attributes\":{\"fill_alpha\":{\"value\":0.7},\"fill_color\":{\"value\":\"#984ea3\"},\"line_alpha\":{\"value\":0.7},\"line_color\":{\"value\":\"#984ea3\"},\"x\":{\"field\":\"x\"},\"y\":{\"field\":\"y\"}},\"id\":\"e335c5e3-e760-4b47-8313-668df99c8e5d\",\"type\":\"Circle\"},{\"attributes\":{\"active_drag\":\"auto\",\"active_inspect\":\"auto\",\"active_scroll\":\"auto\",\"active_tap\":\"auto\",\"tools\":[{\"id\":\"a5925348-b273-429b-be3c-6c5c464f028c\",\"type\":\"PanTool\"},{\"id\":\"c5ddf858-9ed5-460b-88e8-1c7592b4a3b5\",\"type\":\"WheelZoomTool\"},{\"id\":\"b15da4f1-af64-4790-b608-5e0584e17e38\",\"type\":\"BoxZoomTool\"},{\"id\":\"230f10b6-87e1-4dbe-b6a3-e75dfbe2c488\",\"type\":\"SaveTool\"},{\"id\":\"aed99e68-e108-41a3-bedb-3c4c325ad8f8\",\"type\":\"ResetTool\"},{\"id\":\"d4be65e1-5e9f-4e37-aed9-357f34517e47\",\"type\":\"HelpTool\"}]},\"id\":\"d23e0358-372f-42b5-adf4-c1527adcd2ad\",\"type\":\"Toolbar\"},{\"attributes\":{\"callback\":null,\"data\":{\"x\":{\"__ndarray__\":\"z9djQqHDUEAuzeoNblQ+QKFOCuOqkzxAkZjHZYXXOUBgz2ZBUNw2QAmY1QypGzRA/Y+V6NbNMUCgppSShwEwQHwgsBonVy1AOPlgXpxkK0AVKMmH//ApQLXuuP6LzShAt7/38hcSKECmTxPHkbcmQFvIOrYULyRAWf3p+O+8IUDUuSK45f0fQDyg0FgMth1AWbtsF0GhHEByfP1UKOscQJnk4CRdpx9A9wFZLooDHkAg2Q0l3gwXQFL59RaslhFAbp6+x9b4C0DIABAWbVUGQEQYCbKLXQFAdWgReFjW+z8m4PFFgcb4P5DAevI7RvY/YRqPzQTv8j8Y2yhUvK3tP517hocaw+g/lpNYyZ495z84ZqTOGCjkPwusaKtZYuA/KVy1yCCj2j98L/nnrljUPznI0mqgt80/dr/J6sYnxz+DtQRXTkTCP2D8bdYkLrw/QZO0SNXYsz+qft2XOgOgP2qUwjPzW7C/LxKHU02Rur/U759XZSyYv18M5w+Ztak/ob0/xq/itD+MkEsBdT66Pw/vDCMwmr4/yzXgp2Y1wT9TSLBtqvTCP62R8ColmMQ/Xlntd/0nxj+8wpBKgp/HP1M9zwL+98g/oCGPEdkjyj9j9NUhSxLLP10aeow2uss/hSVWlTsbzD8VwkIASELMP61GFNMIRMw/S/CYeVhAzD8HPuVwbF3MP8phy7DAzMw/53gpaO3TzT/kkRY3hqfPP5Lo4kf23dA/KvujtCUb0T8Ip/zoZpPPP7Em7FPx08o/8XrVba/yxT/6uG2pD6HBPzBLtbQdaLY/\",\"dtype\":\"float64\",\"shape\":[75]},\"y\":{\"__ndarray__\":\"GhExyth1ND/Sv8nbtpRIP2vylNV0PVE/aTum7souWD/At0SJ8fVgPw3Iuahxymc/MSNhhJWvcD/bTfBN02d3P2zb5nxnaoA/CD5h5MAGhz8NmeH1TyaQP+zrCsc9p5Y/LbKd76fGnz/bLW5ISEmmPww9YvTcQq8/JV2OstnstT8Er5Y7M8G+P0c+r3jqkcU/5h99k6ZBzj88bCIzFzjVP4enV8oyxN0//yH99nXg5D8qOpLLf0jtP5kqGJXUifQ/c9cS8kHP/D+/DpwzojQEQIEmwoanVwxA4lgXt9HgE0BSSZ2AJuIbQAMJih9jjiNA5q4l5INuK0AwTKYKRj0zQNv5fmq8/DpAaCJseHrtQkB/+zpwzoxKQM3MzMzMeFJAZmZmZmZqWEAAAAAAAFxeQM3MzMzMJmJAmpmZmZkfZUBmZmZmZhhoQDMzMzMzEWtAAAAAAAAKbkBmZmZmZoFwQM3MzMzM/XFAMzMzMzN6c0CamZmZmfZ0QAAAAAAAc3ZAZmZmZmbvd0DNzMzMzGt5QDMzMzMz6HpAmpmZmZlkfEAAAAAAAOF9QGZmZmZmXX9AZmZmZuZsgECamZmZGSuBQM3MzMxM6YFAAAAAAICngkAzMzMzs2WDQGZmZmbmI4RAmpmZmRnihEDNzMzMTKCFQAAAAACAXoZAMzMzM7Mch0BmZmZm5tqHQJqZmZkZmYhAzczMzExXiUAAAAAAgBWKQDMzMzOz04pAZmZmZuaRi0CamZmZGVCMQM3MzMxMDo1AAAAAAIDMjUAzMzMzs4qOQGZmZmbmSI9A\",\"dtype\":\"float64\",\"shape\":[75]}},\"selected\":{\"id\":\"376e00a5-1ddd-405b-be91-3e51a66126f6\",\"type\":\"Selection\"},\"selection_policy\":{\"id\":\"0e30a9ee-d2eb-4fe9-985a-7f647b6fb31a\",\"type\":\"UnionRenderers\"}},\"id\":\"e5b18d42-3c6d-4309-aeaf-dd5aed59e228\",\"type\":\"ColumnDataSource\"},{\"attributes\":{\"line_alpha\":0.6,\"line_color\":\"#e41a1c\",\"line_dash\":[6],\"line_width\":5,\"x\":{\"field\":\"x\"},\"y\":{\"field\":\"y\"}},\"id\":\"dcc29159-98bb-4981-9f79-2c0fac9d0a88\",\"type\":\"Line\"},{\"attributes\":{\"callback\":null,\"data\":{\"x\":{\"__ndarray__\":\"aCVc3TFxRkDdkBWR1QdAQEX6F/64Lz9AyULF7e2kPEBNMOsxrr04QEfrwmhNUzRAPsebFYiBMEA2Or2r7UEsQBKioxdGKSpAUQRWMGtZKUAIKs0feJkoQKPpS7L3gidA9wSX8/aPJkDDgJjRvmYlQK3d0aPLyCNApu8IOiCCIkCqjs9+wXkhQJ+m0cZDPyBApTp4ge3jHUAF3+B96EocQNeT5PWzzR1AHiQXnZ1uHEA9dPw6qZEWQCbDGY7zlBFA/9pbOHJJC0CrCOpl6jAFQJIcQqjOgQFAhFHgdBBN/j97vMo+vfn6P6kmSxVQZvc/rxG90D3X8z8idboxlrDtP0/C292OyOc/BFVaIqDn5z9/PpY7gpDlP3+kcgqUeOA/yI+u4Vrx2T9qIzUXX2XVP8YgingzVdE/MuJxoBSqzD8SYOcsZqTGPykvRdYNr8A/4X/pMRkdtT+uCgpOy4OXP1T6rYgfPbW/17W4V2tswL+NV2jTr9Cov5FJ3JAY+Z0/lBZcNS6psD/Xv2eWdNS2P6wReoAxobs/SpcTpO5ovz+N4ee9Mp7BP8XuAuNdXcM/EB49hO4VxT+r/5XFm8DGPy+eM5yjVsg/eB1gJ3XMyT9bkeCaN+bKPyCKFTzk6cs/mcdNlbd4zD8g3q8M7srMP5XqeJAC8sw/RP92bBMNzT/RX/OoO0HNP8dlV3d3v80/UUJqQxfOzj8CBzQZFVbQPzT2Xw+4StE/r3JsbqGT0T9zMwSSvDvQP6ETYKbWjMs/8TDJHqPQxj9LowsrClTCP1zm20O28Lc/\",\"dtype\":\"float64\",\"shape\":[75]},\"y\":{\"__ndarray__\":\"GhExyth1ND/Sv8nbtpRIP2vylNV0PVE/aTum7souWD/At0SJ8fVgPw3Iuahxymc/MSNhhJWvcD/bTfBN02d3P2zb5nxnaoA/CD5h5MAGhz8NmeH1TyaQP+zrCsc9p5Y/LbKd76fGnz/bLW5ISEmmPww9YvTcQq8/JV2OstnstT8Er5Y7M8G+P0c+r3jqkcU/5h99k6ZBzj88bCIzFzjVP4enV8oyxN0//yH99nXg5D8qOpLLf0jtP5kqGJXUifQ/c9cS8kHP/D+/DpwzojQEQIEmwoanVwxA4lgXt9HgE0BSSZ2AJuIbQAMJih9jjiNA5q4l5INuK0AwTKYKRj0zQNv5fmq8/DpAaCJseHrtQkB/+zpwzoxKQM3MzMzMeFJAZmZmZmZqWEAAAAAAAFxeQM3MzMzMJmJAmpmZmZkfZUBmZmZmZhhoQDMzMzMzEWtAAAAAAAAKbkBmZmZmZoFwQM3MzMzM/XFAMzMzMzN6c0CamZmZmfZ0QAAAAAAAc3ZAZmZmZmbvd0DNzMzMzGt5QDMzMzMz6HpAmpmZmZlkfEAAAAAAAOF9QGZmZmZmXX9AZmZmZuZsgECamZmZGSuBQM3MzMxM6YFAAAAAAICngkAzMzMzs2WDQGZmZmbmI4RAmpmZmRnihEDNzMzMTKCFQAAAAACAXoZAMzMzM7Mch0BmZmZm5tqHQJqZmZkZmYhAzczMzExXiUAAAAAAgBWKQDMzMzOz04pAZmZmZuaRi0CamZmZGVCMQM3MzMxMDo1AAAAAAIDMjUAzMzMzs4qOQGZmZmbmSI9A\",\"dtype\":\"float64\",\"shape\":[75]}},\"selected\":{\"id\":\"a86ef0bf-f2e8-43d9-ab52-3b990ef0c9fa\",\"type\":\"Selection\"},\"selection_policy\":{\"id\":\"a9032c71-f7a1-4ee3-865e-361c798295a3\",\"type\":\"UnionRenderers\"}},\"id\":\"0a29140f-fd8d-40e3-836e-262ba027fcda\",\"type\":\"ColumnDataSource\"},{\"attributes\":{\"line_color\":\"#4daf4a\",\"line_width\":1.5,\"x\":{\"field\":\"x\"},\"y\":{\"field\":\"y\"}},\"id\":\"96669754-dd2a-4013-86ed-f295985538d5\",\"type\":\"Line\"},{\"attributes\":{\"source\":{\"id\":\"0127a9bd-4762-4bfc-9b72-496afff76715\",\"type\":\"ColumnDataSource\"}},\"id\":\"3c1530be-1b1f-4425-ae3e-66011a2f7499\",\"type\":\"CDSView\"},{\"attributes\":{\"data_source\":{\"id\":\"3d8dc7ee-1ab5-4693-b8a1-c0a13a5992e6\",\"type\":\"ColumnDataSource\"},\"glyph\":{\"id\":\"ffdab44c-44b1-45ff-9ed6-8efcba3ddf72\",\"type\":\"Line\"},\"hover_glyph\":null,\"muted_glyph\":null,\"nonselection_glyph\":{\"id\":\"591f4bbb-5adf-44c5-9ec3-22414b5a4c00\",\"type\":\"Line\"},\"selection_glyph\":null,\"view\":{\"id\":\"2a4eb59e-0f0f-450d-a2ee-369ece15a346\",\"type\":\"CDSView\"}},\"id\":\"f5701208-8b0c-46a9-bcec-192477f83da2\",\"type\":\"GlyphRenderer\"},{\"attributes\":{\"data_source\":{\"id\":\"0a29140f-fd8d-40e3-836e-262ba027fcda\",\"type\":\"ColumnDataSource\"},\"glyph\":{\"id\":\"dcc29159-98bb-4981-9f79-2c0fac9d0a88\",\"type\":\"Line\"},\"hover_glyph\":null,\"muted_glyph\":null,\"nonselection_glyph\":{\"id\":\"dbc74f52-2b25-4b17-ba1a-ac96443925e2\",\"type\":\"Line\"},\"selection_glyph\":null,\"view\":{\"id\":\"c89bd336-8f5b-413f-aacc-86da4595c1bd\",\"type\":\"CDSView\"}},\"id\":\"d8762981-45d9-444b-b9dd-9c768c07004c\",\"type\":\"GlyphRenderer\"},{\"attributes\":{\"children\":[{\"id\":\"95eaea3b-a56b-4a11-b436-2672eecf8af8\",\"subtype\":\"Figure\",\"type\":\"Plot\"},{\"id\":\"bd7121bc-2c64-42a9-bfa1-d8101c0245fe\",\"subtype\":\"Figure\",\"type\":\"Plot\"},{\"id\":\"a1e7524f-c946-4729-ac80-1898e7fa27bc\",\"subtype\":\"Figure\",\"type\":\"Plot\"}]},\"id\":\"527bb543-7930-43e5-a03e-e4462b1ac5f5\",\"type\":\"Row\"},{\"attributes\":{\"label\":{\"value\":\"CLIRAD - CRD\"},\"renderers\":[{\"id\":\"cc33491e-c074-42b8-968c-d81dcde36df3\",\"type\":\"GlyphRenderer\"},{\"id\":\"4429d805-9a7c-40ba-8ed4-8878e47e9e60\",\"type\":\"GlyphRenderer\"}]},\"id\":\"aeedeb32-dcb6-46fc-ba2b-4bdb5d2f2efc\",\"type\":\"LegendItem\"},{\"attributes\":{},\"id\":\"23bbe8e5-2ab6-4cae-9261-6895c409cb26\",\"type\":\"BasicTickFormatter\"},{\"attributes\":{},\"id\":\"6f6b16fa-1445-4146-a067-890c7c7f088b\",\"type\":\"BasicTickFormatter\"},{\"attributes\":{},\"id\":\"588b5ba5-a5b9-478d-ba49-efd51c81c79a\",\"type\":\"Selection\"},{\"attributes\":{\"above\":[{\"id\":\"17bd2fe8-b226-489f-95a4-6e251e6af8a1\",\"type\":\"Legend\"}],\"below\":[{\"id\":\"a3929ac6-3471-4a04-9beb-e5c0d7c1091a\",\"type\":\"LinearAxis\"}],\"left\":[{\"id\":\"26ccb877-fcc0-4e8c-8fe7-d243b2a3e79e\",\"type\":\"LogAxis\"}],\"plot_width\":300,\"renderers\":[{\"id\":\"a3929ac6-3471-4a04-9beb-e5c0d7c1091a\",\"type\":\"LinearAxis\"},{\"id\":\"e2627204-c9a5-42c9-ac66-6410f4d911e3\",\"type\":\"Grid\"},{\"id\":\"26ccb877-fcc0-4e8c-8fe7-d243b2a3e79e\",\"type\":\"LogAxis\"},{\"id\":\"932abfaf-5996-442d-9309-d2ceab141186\",\"type\":\"Grid\"},{\"id\":\"f615f8cf-51f3-4d2a-a254-7e9710c5c5dd\",\"type\":\"BoxAnnotation\"},{\"id\":\"cc33491e-c074-42b8-968c-d81dcde36df3\",\"type\":\"GlyphRenderer\"},{\"id\":\"4429d805-9a7c-40ba-8ed4-8878e47e9e60\",\"type\":\"GlyphRenderer\"},{\"id\":\"17bd2fe8-b226-489f-95a4-6e251e6af8a1\",\"type\":\"Legend\"}],\"title\":{\"id\":\"e5188712-34f4-4f7d-b324-1e39db7a7b6e\",\"type\":\"Title\"},\"toolbar\":{\"id\":\"e91485a5-ffd6-4848-9977-86c5e0c90b20\",\"type\":\"Toolbar\"},\"toolbar_location\":null,\"x_range\":{\"id\":\"ac027f80-813c-46cc-bf64-ffa4e763897c\",\"type\":\"Range1d\"},\"x_scale\":{\"id\":\"c42b22e6-608f-4c84-bb83-62923a5a54e4\",\"type\":\"LinearScale\"},\"y_range\":{\"id\":\"ee7696bd-8ded-4d27-9155-1984061fab48\",\"type\":\"Range1d\"},\"y_scale\":{\"id\":\"0a91bbbd-92b0-4066-99e0-6ccd94d37dc4\",\"type\":\"LogScale\"}},\"id\":\"a1e7524f-c946-4729-ac80-1898e7fa27bc\",\"subtype\":\"Figure\",\"type\":\"Plot\"},{\"attributes\":{\"data_source\":{\"id\":\"e5b18d42-3c6d-4309-aeaf-dd5aed59e228\",\"type\":\"ColumnDataSource\"},\"glyph\":{\"id\":\"96669754-dd2a-4013-86ed-f295985538d5\",\"type\":\"Line\"},\"hover_glyph\":null,\"muted_glyph\":null,\"nonselection_glyph\":{\"id\":\"ed1177eb-c738-424f-a7bf-2ae0d659b99d\",\"type\":\"Line\"},\"selection_glyph\":null,\"view\":{\"id\":\"f49d04da-e1ac-4bdc-a488-28bea035552f\",\"type\":\"CDSView\"}},\"id\":\"a811c545-fc33-4283-8d07-801cf5ace55f\",\"type\":\"GlyphRenderer\"},{\"attributes\":{\"callback\":null,\"end\":0.01,\"start\":1020},\"id\":\"00760762-0592-4f0a-a495-41f838af5182\",\"type\":\"Range1d\"},{\"attributes\":{},\"id\":\"a86ef0bf-f2e8-43d9-ab52-3b990ef0c9fa\",\"type\":\"Selection\"},{\"attributes\":{\"children\":[{\"id\":\"527bb543-7930-43e5-a03e-e4462b1ac5f5\",\"type\":\"Row\"}]},\"id\":\"651cc117-12f1-4409-849f-971bac9a7770\",\"type\":\"Column\"},{\"attributes\":{},\"id\":\"376e00a5-1ddd-405b-be91-3e51a66126f6\",\"type\":\"Selection\"},{\"attributes\":{\"plot\":null,\"text\":\"\"},\"id\":\"ada0f1b2-e570-413a-8140-142c3d384f61\",\"type\":\"Title\"},{\"attributes\":{},\"id\":\"a9032c71-f7a1-4ee3-865e-361c798295a3\",\"type\":\"UnionRenderers\"},{\"attributes\":{},\"id\":\"2f7029fc-3942-45b0-a8c3-032b5443b53d\",\"type\":\"UnionRenderers\"},{\"attributes\":{},\"id\":\"b7c0e5ea-958e-46d2-a80a-c7a8ae65951e\",\"type\":\"Selection\"},{\"attributes\":{},\"id\":\"33dedfb7-7ab3-4a15-b75e-9dd1d8f3395c\",\"type\":\"BasicTickFormatter\"},{\"attributes\":{\"ticker\":null},\"id\":\"65da546e-b54e-409c-bf70-76219f7b5acf\",\"type\":\"LogTickFormatter\"},{\"attributes\":{},\"id\":\"0e30a9ee-d2eb-4fe9-985a-7f647b6fb31a\",\"type\":\"UnionRenderers\"},{\"attributes\":{},\"id\":\"9ff474dc-2a13-4cd0-bfdd-990feb1753a7\",\"type\":\"UnionRenderers\"},{\"attributes\":{\"above\":[{\"id\":\"94841db0-6ac3-4ae0-b78b-771aed6b3475\",\"type\":\"Legend\"}],\"below\":[{\"id\":\"89f04536-24d9-4239-9213-ff5ed47bbc30\",\"type\":\"LinearAxis\"}],\"left\":[{\"id\":\"d2a67342-05dc-42f1-af7d-e55814452ece\",\"type\":\"LinearAxis\"}],\"plot_width\":300,\"renderers\":[{\"id\":\"89f04536-24d9-4239-9213-ff5ed47bbc30\",\"type\":\"LinearAxis\"},{\"id\":\"7d722fa6-15ea-4a4d-b640-92a5f035da27\",\"type\":\"Grid\"},{\"id\":\"d2a67342-05dc-42f1-af7d-e55814452ece\",\"type\":\"LinearAxis\"},{\"id\":\"6caef2d9-7347-4568-95d0-6c4b7c05131e\",\"type\":\"Grid\"},{\"id\":\"26f6b362-0b03-461c-8036-78f08c7afe1e\",\"type\":\"BoxAnnotation\"},{\"id\":\"d8762981-45d9-444b-b9dd-9c768c07004c\",\"type\":\"GlyphRenderer\"},{\"id\":\"a888a3bd-d638-49ff-9137-b0e08d285d1a\",\"type\":\"GlyphRenderer\"},{\"id\":\"a811c545-fc33-4283-8d07-801cf5ace55f\",\"type\":\"GlyphRenderer\"},{\"id\":\"94841db0-6ac3-4ae0-b78b-771aed6b3475\",\"type\":\"Legend\"}],\"title\":{\"id\":\"ada0f1b2-e570-413a-8140-142c3d384f61\",\"type\":\"Title\"},\"toolbar\":{\"id\":\"d2bf846d-2222-46cb-909b-cfdfb3572c74\",\"type\":\"Toolbar\"},\"toolbar_location\":null,\"x_range\":{\"id\":\"ab9913d3-8455-4e23-93e7-2d03a025a859\",\"type\":\"Range1d\"},\"x_scale\":{\"id\":\"84cfa1d6-348e-44fb-ac6f-87ff9a70c666\",\"type\":\"LinearScale\"},\"y_range\":{\"id\":\"00760762-0592-4f0a-a495-41f838af5182\",\"type\":\"Range1d\"},\"y_scale\":{\"id\":\"ee5dece0-458e-4873-a99b-c69d5f30ae39\",\"type\":\"LinearScale\"}},\"id\":\"95eaea3b-a56b-4a11-b436-2672eecf8af8\",\"subtype\":\"Figure\",\"type\":\"Plot\"},{\"attributes\":{\"plot\":null,\"text\":\"\"},\"id\":\"17cb3c92-79a3-4b30-9c2b-ed8861238232\",\"type\":\"Title\"},{\"attributes\":{},\"id\":\"de71cc48-c55d-49be-9713-fb6b6dca9166\",\"type\":\"UnionRenderers\"},{\"attributes\":{\"dimension\":1,\"plot\":{\"id\":\"bd7121bc-2c64-42a9-bfa1-d8101c0245fe\",\"subtype\":\"Figure\",\"type\":\"Plot\"},\"ticker\":{\"id\":\"be48ae76-e1b4-47d6-9855-e7350066c5f3\",\"type\":\"LogTicker\"}},\"id\":\"3fb4a15b-c19e-4f84-81a8-f500decae528\",\"type\":\"Grid\"},{\"attributes\":{},\"id\":\"6cc698cb-a9dd-4815-b7c6-6c0dfa94b0af\",\"type\":\"BasicTickFormatter\"},{\"attributes\":{},\"id\":\"fa0f030c-a99b-469c-958d-9be23f83914a\",\"type\":\"Selection\"},{\"attributes\":{},\"id\":\"25eed393-d7ff-4e0c-b7da-a7ac7f47febb\",\"type\":\"Selection\"},{\"attributes\":{\"ticker\":null},\"id\":\"6202b22b-023a-4631-a480-3868a687b5ea\",\"type\":\"LogTickFormatter\"},{\"attributes\":{},\"id\":\"f76935b4-db2c-4d1f-a81b-3dd4319ed036\",\"type\":\"UnionRenderers\"},{\"attributes\":{\"toolbar\":{\"id\":\"c32d8fc4-be42-45be-b08d-1697c2b7aee6\",\"type\":\"ProxyToolbar\"},\"toolbar_location\":\"above\"},\"id\":\"8f8d7d1a-3d99-4308-ad4a-2c552bc4a946\",\"type\":\"ToolbarBox\"},{\"attributes\":{\"plot\":null,\"text\":\"\"},\"id\":\"e5188712-34f4-4f7d-b324-1e39db7a7b6e\",\"type\":\"Title\"},{\"attributes\":{\"source\":{\"id\":\"e5b18d42-3c6d-4309-aeaf-dd5aed59e228\",\"type\":\"ColumnDataSource\"}},\"id\":\"f49d04da-e1ac-4bdc-a488-28bea035552f\",\"type\":\"CDSView\"},{\"attributes\":{},\"id\":\"b9abbb77-60b5-4234-af43-a9ee06a1b46b\",\"type\":\"UnionRenderers\"},{\"attributes\":{},\"id\":\"be27b4f4-8ce8-46f2-b636-771a5d88b16b\",\"type\":\"UnionRenderers\"},{\"attributes\":{},\"id\":\"5bc9764a-a2e6-4129-8e01-97b192eac17d\",\"type\":\"Selection\"},{\"attributes\":{},\"id\":\"67a713af-cee4-4fc0-8387-88bca544e354\",\"type\":\"Selection\"},{\"attributes\":{\"children\":[{\"id\":\"8f8d7d1a-3d99-4308-ad4a-2c552bc4a946\",\"type\":\"ToolbarBox\"},{\"id\":\"651cc117-12f1-4409-849f-971bac9a7770\",\"type\":\"Column\"}]},\"id\":\"c04a5072-be00-4884-b2a3-d0561f9c9c19\",\"type\":\"Column\"},{\"attributes\":{\"tools\":[{\"id\":\"d43d8f37-37a9-445a-b076-c368f0a48929\",\"type\":\"PanTool\"},{\"id\":\"43f49271-5fe2-418d-8b38-b1d59ace75dd\",\"type\":\"WheelZoomTool\"},{\"id\":\"a58dceee-d996-4579-b568-b890808cfc07\",\"type\":\"BoxZoomTool\"},{\"id\":\"3a77d8e3-e3d9-4a65-9d19-548edcb3e6ee\",\"type\":\"SaveTool\"},{\"id\":\"d7fef410-38a1-4bac-b341-f752e2906946\",\"type\":\"ResetTool\"},{\"id\":\"d63a1b7c-9043-4700-818b-07508bd6b8de\",\"type\":\"HelpTool\"},{\"id\":\"a5925348-b273-429b-be3c-6c5c464f028c\",\"type\":\"PanTool\"},{\"id\":\"c5ddf858-9ed5-460b-88e8-1c7592b4a3b5\",\"type\":\"WheelZoomTool\"},{\"id\":\"b15da4f1-af64-4790-b608-5e0584e17e38\",\"type\":\"BoxZoomTool\"},{\"id\":\"230f10b6-87e1-4dbe-b6a3-e75dfbe2c488\",\"type\":\"SaveTool\"},{\"id\":\"aed99e68-e108-41a3-bedb-3c4c325ad8f8\",\"type\":\"ResetTool\"},{\"id\":\"d4be65e1-5e9f-4e37-aed9-357f34517e47\",\"type\":\"HelpTool\"},{\"id\":\"6684b59d-4db0-4b2b-8374-8c6a4800c233\",\"type\":\"PanTool\"},{\"id\":\"a3fe1b44-d9f7-4f00-88ba-5ca4a7f397f8\",\"type\":\"WheelZoomTool\"},{\"id\":\"8b4b3f67-9859-41d4-8b70-b8b344947f7a\",\"type\":\"BoxZoomTool\"},{\"id\":\"348c9821-f2c9-4343-ae93-4304bbda6194\",\"type\":\"SaveTool\"},{\"id\":\"a621e008-ec04-4224-a388-90d6f7530f30\",\"type\":\"ResetTool\"},{\"id\":\"3e9fdcfb-26b0-4863-81f6-695720b3e8f3\",\"type\":\"HelpTool\"}]},\"id\":\"c32d8fc4-be42-45be-b08d-1697c2b7aee6\",\"type\":\"ProxyToolbar\"},{\"attributes\":{\"source\":{\"id\":\"5bbd517f-ca59-4da5-8032-1d1ae6f777a5\",\"type\":\"ColumnDataSource\"}},\"id\":\"3e92c1fa-f6d6-44cb-86aa-072ac2641def\",\"type\":\"CDSView\"},{\"attributes\":{\"callback\":null,\"end\":0.01,\"start\":1020},\"id\":\"61a92018-ce8e-4bfd-a7a8-2ac86880f70b\",\"type\":\"Range1d\"},{\"attributes\":{\"num_minor_ticks\":10},\"id\":\"be48ae76-e1b4-47d6-9855-e7350066c5f3\",\"type\":\"LogTicker\"},{\"attributes\":{\"axis_label\":\"pressure [mb]\",\"formatter\":{\"id\":\"65da546e-b54e-409c-bf70-76219f7b5acf\",\"type\":\"LogTickFormatter\"},\"plot\":{\"id\":\"bd7121bc-2c64-42a9-bfa1-d8101c0245fe\",\"subtype\":\"Figure\",\"type\":\"Plot\"},\"ticker\":{\"id\":\"be48ae76-e1b4-47d6-9855-e7350066c5f3\",\"type\":\"LogTicker\"}},\"id\":\"4d146238-3bb8-4fb6-a320-a0d9fbff3159\",\"type\":\"LogAxis\"},{\"attributes\":{\"callback\":null,\"end\":0.6819122140147981,\"start\":-0.13633068387499803},\"id\":\"ab9913d3-8455-4e23-93e7-2d03a025a859\",\"type\":\"Range1d\"}],\"root_ids\":[\"c04a5072-be00-4884-b2a3-d0561f9c9c19\"]},\"title\":\"Bokeh Application\",\"version\":\"0.12.16\"}};\n",
       "  var render_items = [{\"docid\":\"e94bae8f-7483-400f-b544-1dcb8fdc3c20\",\"elementid\":\"fc2a5114-0d10-4538-abf5-149d9dd7fb23\",\"modelid\":\"c04a5072-be00-4884-b2a3-d0561f9c9c19\"}];\n",
       "  root.Bokeh.embed.embed_items_notebook(docs_json, render_items);\n",
       "\n",
       "  }\n",
       "  if (root.Bokeh !== undefined) {\n",
       "    embed_document(root);\n",
       "  } else {\n",
       "    var attempts = 0;\n",
       "    var timer = setInterval(function(root) {\n",
       "      if (root.Bokeh !== undefined) {\n",
       "        embed_document(root);\n",
       "        clearInterval(timer);\n",
       "      }\n",
       "      attempts++;\n",
       "      if (attempts > 100) {\n",
       "        console.log(\"Bokeh: ERROR: Unable to run BokehJS code because BokehJS library is missing\")\n",
       "        clearInterval(timer);\n",
       "      }\n",
       "    }, 10, root)\n",
       "  }\n",
       "})(window);"
      ],
      "application/vnd.bokehjs_exec.v0+json": ""
     },
     "metadata": {
      "application/vnd.bokehjs_exec.v0+json": {
       "id": "c04a5072-be00-4884-b2a3-d0561f9c9c19"
      }
     },
     "output_type": "display_data"
    },
    {
     "data": {
      "text/markdown": [
       "*FIGURE.* Cooling rates & difference."
      ],
      "text/plain": [
       "<IPython.core.display.Markdown object>"
      ]
     },
     "metadata": {},
     "output_type": "display_data"
    },
    {
     "data": {
      "text/html": [
       "<a id=\"Fluxes._saw.\"></a>"
      ],
      "text/plain": [
       "<IPython.core.display.HTML object>"
      ]
     },
     "metadata": {},
     "output_type": "display_data"
    },
    {
     "data": {
      "text/markdown": [
       "# Fluxes. saw."
      ],
      "text/plain": [
       "<IPython.core.display.Markdown object>"
      ]
     },
     "metadata": {},
     "output_type": "display_data"
    },
    {
     "data": {
      "text/html": [
       "\n",
       "<div class=\"bk-root\">\n",
       "    <div class=\"bk-plotdiv\" id=\"cd5f879a-4a9c-441f-9607-ebdcf68399ce\"></div>\n",
       "</div>"
      ]
     },
     "metadata": {},
     "output_type": "display_data"
    },
    {
     "data": {
      "application/javascript": [
       "(function(root) {\n",
       "  function embed_document(root) {\n",
       "    \n",
       "  var docs_json = {\"b008746e-38c6-403c-b378-027bcc824398\":{\"roots\":{\"references\":[{\"attributes\":{\"axis_label\":\"spectral band\",\"formatter\":{\"id\":\"a1a5c526-3c11-4f16-ade0-d2323bab0383\",\"type\":\"CategoricalTickFormatter\"},\"plot\":{\"id\":\"ffc4efae-c205-4de4-8138-ba0f6ea0d78c\",\"subtype\":\"Figure\",\"type\":\"Plot\"},\"ticker\":{\"id\":\"29fc72db-96c1-42f2-9f6c-cac1227ee601\",\"type\":\"CategoricalTicker\"}},\"id\":\"770e2c87-211d-42a8-a443-4ce31784eb85\",\"type\":\"CategoricalAxis\"},{\"attributes\":{},\"id\":\"19bfb46f-6c0e-4ae3-a232-c867e5fbf5b9\",\"type\":\"BasicTicker\"},{\"attributes\":{\"plot\":{\"id\":\"ffc4efae-c205-4de4-8138-ba0f6ea0d78c\",\"subtype\":\"Figure\",\"type\":\"Plot\"},\"ticker\":{\"id\":\"29fc72db-96c1-42f2-9f6c-cac1227ee601\",\"type\":\"CategoricalTicker\"}},\"id\":\"f14732f8-3f39-4876-b5b8-3a37c61c8854\",\"type\":\"Grid\"},{\"attributes\":{\"axis_label\":\"flux (W m-2)\",\"formatter\":{\"id\":\"4c2a014f-e48a-42e6-acc8-149accfa39b5\",\"type\":\"BasicTickFormatter\"},\"plot\":{\"id\":\"ffc4efae-c205-4de4-8138-ba0f6ea0d78c\",\"subtype\":\"Figure\",\"type\":\"Plot\"},\"ticker\":{\"id\":\"1861fc4a-7e83-4801-9f62-d52fcd3fb2e5\",\"type\":\"BasicTicker\"}},\"id\":\"391c805a-622a-4aa7-a819-8aa83dfff5fe\",\"type\":\"LinearAxis\"},{\"attributes\":{},\"id\":\"29fc72db-96c1-42f2-9f6c-cac1227ee601\",\"type\":\"CategoricalTicker\"},{\"attributes\":{\"fill_alpha\":{\"value\":0.1},\"fill_color\":{\"value\":\"#1f77b4\"},\"line_alpha\":{\"value\":0.1},\"line_color\":{\"value\":\"#1f77b4\"},\"top\":{\"field\":\"flux\"},\"width\":{\"value\":0.9},\"x\":{\"field\":\"band\"}},\"id\":\"5f0edb7d-ec7d-44cb-a9ed-6e8ef7460b25\",\"type\":\"VBar\"},{\"attributes\":{\"plot\":null,\"text\":\"TOA flux. CLIRAD - CRD.\"},\"id\":\"8453cae1-a432-4209-9081-0dd19f6ee185\",\"type\":\"Title\"},{\"attributes\":{},\"id\":\"1861fc4a-7e83-4801-9f62-d52fcd3fb2e5\",\"type\":\"BasicTicker\"},{\"attributes\":{\"dimension\":1,\"plot\":{\"id\":\"ffc4efae-c205-4de4-8138-ba0f6ea0d78c\",\"subtype\":\"Figure\",\"type\":\"Plot\"},\"ticker\":{\"id\":\"1861fc4a-7e83-4801-9f62-d52fcd3fb2e5\",\"type\":\"BasicTicker\"}},\"id\":\"b189742a-2d07-4024-a9c1-d3d653ff931b\",\"type\":\"Grid\"},{\"attributes\":{\"callback\":null},\"id\":\"d4426a5e-3b6a-48e0-be6f-fb2229a32a96\",\"type\":\"DataRange1d\"},{\"attributes\":{},\"id\":\"02e656df-432d-49a3-a7f2-153c9935dbab\",\"type\":\"CategoricalTickFormatter\"},{\"attributes\":{\"fill_color\":{\"value\":\"#1f77b4\"},\"line_color\":{\"value\":\"#1f77b4\"},\"top\":{\"field\":\"flux\"},\"width\":{\"value\":0.9},\"x\":{\"field\":\"band\"}},\"id\":\"29ce55c8-5d0d-4714-9e2b-c8c364abdee2\",\"type\":\"VBar\"},{\"attributes\":{\"tools\":[{\"id\":\"7b1c1fcf-aa39-4f0d-a717-1088fc8cbb1b\",\"type\":\"PanTool\"},{\"id\":\"25d3e5eb-963b-469c-bb3a-26b355fa280c\",\"type\":\"WheelZoomTool\"},{\"id\":\"c42b5c9b-7a73-48fb-9e0b-c3f63f7fbe60\",\"type\":\"BoxZoomTool\"},{\"id\":\"a237016b-bfa5-423f-a6e5-483c5124a88c\",\"type\":\"SaveTool\"},{\"id\":\"ad4d0a25-33b6-4ff6-bbd0-23ff6b2c23df\",\"type\":\"ResetTool\"},{\"id\":\"3945a196-c347-4728-9d6f-ad511c45844d\",\"type\":\"HelpTool\"},{\"id\":\"bb54316d-726f-4500-8c97-cfaf46e4a3aa\",\"type\":\"PanTool\"},{\"id\":\"bca1f811-a0ed-4be5-bc4b-0851389dad1f\",\"type\":\"WheelZoomTool\"},{\"id\":\"e746f8d6-ede0-4097-81e9-653698df5049\",\"type\":\"BoxZoomTool\"},{\"id\":\"93209563-ddbe-4e4a-9e28-09f55c1243b6\",\"type\":\"SaveTool\"},{\"id\":\"65979d30-e692-430b-bcdd-f9f24266a147\",\"type\":\"ResetTool\"},{\"id\":\"ae57f933-02e2-4074-ae42-fde4907c0aee\",\"type\":\"HelpTool\"},{\"id\":\"f96ee130-82ef-4090-9f6e-fe9e1cf9d958\",\"type\":\"PanTool\"},{\"id\":\"7e223a37-505d-4f56-8825-361d077e1e1e\",\"type\":\"WheelZoomTool\"},{\"id\":\"1c9a7711-b588-4798-a358-91bb35a570d4\",\"type\":\"BoxZoomTool\"},{\"id\":\"406227ae-4df5-4efa-a0f2-15551c974707\",\"type\":\"SaveTool\"},{\"id\":\"b68a1695-cb5e-47d6-8e9e-ee59dadc9ecd\",\"type\":\"ResetTool\"},{\"id\":\"07ad7026-d9c9-4020-a74c-9891f7c0fab1\",\"type\":\"HelpTool\"}]},\"id\":\"b4b7a527-8630-400a-ae83-8a55289da19e\",\"type\":\"ProxyToolbar\"},{\"attributes\":{\"bottom_units\":\"screen\",\"fill_alpha\":{\"value\":0.5},\"fill_color\":{\"value\":\"lightgrey\"},\"left_units\":\"screen\",\"level\":\"overlay\",\"line_alpha\":{\"value\":1.0},\"line_color\":{\"value\":\"black\"},\"line_dash\":[4,4],\"line_width\":{\"value\":2},\"plot\":null,\"render_mode\":\"css\",\"right_units\":\"screen\",\"top_units\":\"screen\"},\"id\":\"41b0803c-9896-4cc7-8ef4-b159ba56316a\",\"type\":\"BoxAnnotation\"},{\"attributes\":{},\"id\":\"f96ee130-82ef-4090-9f6e-fe9e1cf9d958\",\"type\":\"PanTool\"},{\"attributes\":{},\"id\":\"62915f55-ca89-4bb9-8299-6bea13733668\",\"type\":\"UnionRenderers\"},{\"attributes\":{\"data_source\":{\"id\":\"ae44211b-fe6f-4c2f-b938-a18539f06c9f\",\"type\":\"ColumnDataSource\"},\"glyph\":{\"id\":\"29ce55c8-5d0d-4714-9e2b-c8c364abdee2\",\"type\":\"VBar\"},\"hover_glyph\":null,\"muted_glyph\":null,\"nonselection_glyph\":{\"id\":\"5f0edb7d-ec7d-44cb-a9ed-6e8ef7460b25\",\"type\":\"VBar\"},\"selection_glyph\":null,\"view\":{\"id\":\"0e593d54-90cf-4347-8233-a14e4826bee6\",\"type\":\"CDSView\"}},\"id\":\"a381d895-d92a-4bc6-bab9-5c12b59568d8\",\"type\":\"GlyphRenderer\"},{\"attributes\":{},\"id\":\"7e223a37-505d-4f56-8825-361d077e1e1e\",\"type\":\"WheelZoomTool\"},{\"attributes\":{\"callback\":null},\"id\":\"e32fe121-caaf-4704-a14c-7db4a1932294\",\"type\":\"DataRange1d\"},{\"attributes\":{\"overlay\":{\"id\":\"41b0803c-9896-4cc7-8ef4-b159ba56316a\",\"type\":\"BoxAnnotation\"}},\"id\":\"1c9a7711-b588-4798-a358-91bb35a570d4\",\"type\":\"BoxZoomTool\"},{\"attributes\":{},\"id\":\"406227ae-4df5-4efa-a0f2-15551c974707\",\"type\":\"SaveTool\"},{\"attributes\":{},\"id\":\"b68a1695-cb5e-47d6-8e9e-ee59dadc9ecd\",\"type\":\"ResetTool\"},{\"attributes\":{},\"id\":\"07ad7026-d9c9-4020-a74c-9891f7c0fab1\",\"type\":\"HelpTool\"},{\"attributes\":{},\"id\":\"b951d272-4732-4152-972f-dacd87822ad1\",\"type\":\"BasicTickFormatter\"},{\"attributes\":{\"plot\":null,\"text\":\"SFC flux. CLIRAD - CRD.\"},\"id\":\"1450709b-c7d1-4798-9b17-31d5fa27462a\",\"type\":\"Title\"},{\"attributes\":{},\"id\":\"bbbda8af-321f-4e8d-995c-f4e158a206c1\",\"type\":\"BasicTickFormatter\"},{\"attributes\":{\"source\":{\"id\":\"ae44211b-fe6f-4c2f-b938-a18539f06c9f\",\"type\":\"ColumnDataSource\"}},\"id\":\"0e593d54-90cf-4347-8233-a14e4826bee6\",\"type\":\"CDSView\"},{\"attributes\":{\"children\":[{\"id\":\"079c160b-994d-4554-b88d-effef8943b7e\",\"type\":\"Row\"}]},\"id\":\"415007b3-4655-4411-8749-7342b20ec108\",\"type\":\"Column\"},{\"attributes\":{\"plot\":null,\"text\":\"Atmosphere heating. CLIRAD - CRD.\"},\"id\":\"dda50b20-082c-4918-a284-fa827caedf42\",\"type\":\"Title\"},{\"attributes\":{},\"id\":\"e3f4a522-78a2-4098-8db7-e3aa3d69d680\",\"type\":\"CategoricalTickFormatter\"},{\"attributes\":{},\"id\":\"4c2a014f-e48a-42e6-acc8-149accfa39b5\",\"type\":\"BasicTickFormatter\"},{\"attributes\":{},\"id\":\"53e92ec8-b095-4934-8cbc-d38ca1eb1a6e\",\"type\":\"UnionRenderers\"},{\"attributes\":{},\"id\":\"d77e7d9c-f9d0-439e-898b-996a75aeae47\",\"type\":\"Selection\"},{\"attributes\":{\"active_drag\":\"auto\",\"active_inspect\":\"auto\",\"active_scroll\":\"auto\",\"active_tap\":\"auto\",\"tools\":[{\"id\":\"f96ee130-82ef-4090-9f6e-fe9e1cf9d958\",\"type\":\"PanTool\"},{\"id\":\"7e223a37-505d-4f56-8825-361d077e1e1e\",\"type\":\"WheelZoomTool\"},{\"id\":\"1c9a7711-b588-4798-a358-91bb35a570d4\",\"type\":\"BoxZoomTool\"},{\"id\":\"406227ae-4df5-4efa-a0f2-15551c974707\",\"type\":\"SaveTool\"},{\"id\":\"b68a1695-cb5e-47d6-8e9e-ee59dadc9ecd\",\"type\":\"ResetTool\"},{\"id\":\"07ad7026-d9c9-4020-a74c-9891f7c0fab1\",\"type\":\"HelpTool\"}]},\"id\":\"1842ba72-6af0-4c31-ad6b-8ab7ae6a9166\",\"type\":\"Toolbar\"},{\"attributes\":{},\"id\":\"34a021c6-7887-41f0-ba47-994618e21fd1\",\"type\":\"UnionRenderers\"},{\"attributes\":{},\"id\":\"1e248220-a6c7-45ad-8bd1-0d1507e636e7\",\"type\":\"LinearScale\"},{\"attributes\":{},\"id\":\"b30f6309-4c68-47b9-a062-e76b03f1014f\",\"type\":\"BasicTicker\"},{\"attributes\":{},\"id\":\"821809f5-34e0-4525-89d6-56a37bd1b3c0\",\"type\":\"LinearScale\"},{\"attributes\":{\"plot\":{\"id\":\"fea038ac-db54-4868-8f2d-c9969dd35c60\",\"subtype\":\"Figure\",\"type\":\"Plot\"},\"ticker\":{\"id\":\"35bfcfe4-dc88-4062-9789-9d0d5facae8f\",\"type\":\"CategoricalTicker\"}},\"id\":\"f8bcb3ae-cef2-426a-be0e-f67679fa67ec\",\"type\":\"Grid\"},{\"attributes\":{\"toolbar\":{\"id\":\"b4b7a527-8630-400a-ae83-8a55289da19e\",\"type\":\"ProxyToolbar\"},\"toolbar_location\":\"above\"},\"id\":\"d9972b20-7c8e-4c55-8030-1058e168bf0b\",\"type\":\"ToolbarBox\"},{\"attributes\":{},\"id\":\"c9a99649-572c-410b-a25a-9de565e7634f\",\"type\":\"CategoricalScale\"},{\"attributes\":{\"children\":[{\"id\":\"d9972b20-7c8e-4c55-8030-1058e168bf0b\",\"type\":\"ToolbarBox\"},{\"id\":\"415007b3-4655-4411-8749-7342b20ec108\",\"type\":\"Column\"}]},\"id\":\"fc118ea9-9232-417a-9298-e5f8663ad4f4\",\"type\":\"Column\"},{\"attributes\":{\"callback\":null,\"data\":{\"band\":[\"3\",\"4\",\"5\",\"6\",\"7\",\"11\"],\"flux\":{\"__ndarray__\":\"gFJJ+DlZzj8A1DXPG2u2P4A9qjn3Wcw/8DDL1q6Uk7+gVRVwiB6SvzjM+5nSiK4/\",\"dtype\":\"float64\",\"shape\":[6]}},\"selected\":{\"id\":\"98bb4f2d-9fc7-4676-a431-19114e92aafa\",\"type\":\"Selection\"},\"selection_policy\":{\"id\":\"34a021c6-7887-41f0-ba47-994618e21fd1\",\"type\":\"UnionRenderers\"}},\"id\":\"cee1d2b9-447c-415c-9e6f-695c4a6ba8e2\",\"type\":\"ColumnDataSource\"},{\"attributes\":{},\"id\":\"98bb4f2d-9fc7-4676-a431-19114e92aafa\",\"type\":\"Selection\"},{\"attributes\":{\"callback\":null,\"factors\":[\"3\",\"4\",\"5\",\"6\",\"7\",\"11\"]},\"id\":\"f6ed91d7-782c-4e3c-9d33-490041725fa2\",\"type\":\"FactorRange\"},{\"attributes\":{},\"id\":\"8fda8836-f647-4848-87fb-3434b4efd30b\",\"type\":\"CategoricalScale\"},{\"attributes\":{\"axis_label\":\"spectral band\",\"formatter\":{\"id\":\"02e656df-432d-49a3-a7f2-153c9935dbab\",\"type\":\"CategoricalTickFormatter\"},\"plot\":{\"id\":\"fea038ac-db54-4868-8f2d-c9969dd35c60\",\"subtype\":\"Figure\",\"type\":\"Plot\"},\"ticker\":{\"id\":\"35bfcfe4-dc88-4062-9789-9d0d5facae8f\",\"type\":\"CategoricalTicker\"}},\"id\":\"d441e2c1-2810-4915-a24e-4a116d9f06c1\",\"type\":\"CategoricalAxis\"},{\"attributes\":{\"plot\":{\"id\":\"f552bf71-abdd-42fc-b3e1-09ed256ba871\",\"subtype\":\"Figure\",\"type\":\"Plot\"},\"ticker\":{\"id\":\"64ecf320-907d-46cd-bef2-f293b7099d89\",\"type\":\"CategoricalTicker\"}},\"id\":\"743313f2-48ce-4302-bf78-c04277e9b5e7\",\"type\":\"Grid\"},{\"attributes\":{\"active_drag\":\"auto\",\"active_inspect\":\"auto\",\"active_scroll\":\"auto\",\"active_tap\":\"auto\",\"tools\":[{\"id\":\"7b1c1fcf-aa39-4f0d-a717-1088fc8cbb1b\",\"type\":\"PanTool\"},{\"id\":\"25d3e5eb-963b-469c-bb3a-26b355fa280c\",\"type\":\"WheelZoomTool\"},{\"id\":\"c42b5c9b-7a73-48fb-9e0b-c3f63f7fbe60\",\"type\":\"BoxZoomTool\"},{\"id\":\"a237016b-bfa5-423f-a6e5-483c5124a88c\",\"type\":\"SaveTool\"},{\"id\":\"ad4d0a25-33b6-4ff6-bbd0-23ff6b2c23df\",\"type\":\"ResetTool\"},{\"id\":\"3945a196-c347-4728-9d6f-ad511c45844d\",\"type\":\"HelpTool\"}]},\"id\":\"b5f6628c-a78c-49dc-baaa-6ecbb286fc5b\",\"type\":\"Toolbar\"},{\"attributes\":{\"below\":[{\"id\":\"d441e2c1-2810-4915-a24e-4a116d9f06c1\",\"type\":\"CategoricalAxis\"}],\"left\":[{\"id\":\"a552c772-2254-480c-b29e-8807b93a0b5b\",\"type\":\"LinearAxis\"}],\"plot_height\":300,\"plot_width\":300,\"renderers\":[{\"id\":\"d441e2c1-2810-4915-a24e-4a116d9f06c1\",\"type\":\"CategoricalAxis\"},{\"id\":\"f8bcb3ae-cef2-426a-be0e-f67679fa67ec\",\"type\":\"Grid\"},{\"id\":\"a552c772-2254-480c-b29e-8807b93a0b5b\",\"type\":\"LinearAxis\"},{\"id\":\"9c8b9a77-58ea-4725-8199-67147c0ed68d\",\"type\":\"Grid\"},{\"id\":\"945f5ddc-bd9c-4e29-806e-ca63e28f9f69\",\"type\":\"BoxAnnotation\"},{\"id\":\"458e356d-7b9a-460e-8223-4e643c3c9d5c\",\"type\":\"GlyphRenderer\"}],\"title\":{\"id\":\"8453cae1-a432-4209-9081-0dd19f6ee185\",\"type\":\"Title\"},\"toolbar\":{\"id\":\"b5f6628c-a78c-49dc-baaa-6ecbb286fc5b\",\"type\":\"Toolbar\"},\"toolbar_location\":null,\"x_range\":{\"id\":\"f6ed91d7-782c-4e3c-9d33-490041725fa2\",\"type\":\"FactorRange\"},\"x_scale\":{\"id\":\"c9a99649-572c-410b-a25a-9de565e7634f\",\"type\":\"CategoricalScale\"},\"y_range\":{\"id\":\"e32fe121-caaf-4704-a14c-7db4a1932294\",\"type\":\"DataRange1d\"},\"y_scale\":{\"id\":\"1e248220-a6c7-45ad-8bd1-0d1507e636e7\",\"type\":\"LinearScale\"}},\"id\":\"fea038ac-db54-4868-8f2d-c9969dd35c60\",\"subtype\":\"Figure\",\"type\":\"Plot\"},{\"attributes\":{\"callback\":null,\"factors\":[\"3\",\"4\",\"5\",\"6\",\"7\",\"11\"]},\"id\":\"204d14d4-30fe-4173-918a-ea1fa05794cf\",\"type\":\"FactorRange\"},{\"attributes\":{\"axis_label\":\"spectral band\",\"formatter\":{\"id\":\"e3f4a522-78a2-4098-8db7-e3aa3d69d680\",\"type\":\"CategoricalTickFormatter\"},\"plot\":{\"id\":\"f552bf71-abdd-42fc-b3e1-09ed256ba871\",\"subtype\":\"Figure\",\"type\":\"Plot\"},\"ticker\":{\"id\":\"64ecf320-907d-46cd-bef2-f293b7099d89\",\"type\":\"CategoricalTicker\"}},\"id\":\"5eda8e2f-e6d2-47e7-a37c-30b05e6d3592\",\"type\":\"CategoricalAxis\"},{\"attributes\":{\"fill_color\":{\"value\":\"#1f77b4\"},\"line_color\":{\"value\":\"#1f77b4\"},\"top\":{\"field\":\"flux\"},\"width\":{\"value\":0.9},\"x\":{\"field\":\"band\"}},\"id\":\"70050683-7858-463f-8076-e17b2b94418b\",\"type\":\"VBar\"},{\"attributes\":{\"fill_alpha\":{\"value\":0.1},\"fill_color\":{\"value\":\"#1f77b4\"},\"line_alpha\":{\"value\":0.1},\"line_color\":{\"value\":\"#1f77b4\"},\"top\":{\"field\":\"flux\"},\"width\":{\"value\":0.9},\"x\":{\"field\":\"band\"}},\"id\":\"35b2de4d-d068-4479-b749-8e065d9778aa\",\"type\":\"VBar\"},{\"attributes\":{\"axis_label\":\"flux (W m-2)\",\"formatter\":{\"id\":\"bbbda8af-321f-4e8d-995c-f4e158a206c1\",\"type\":\"BasicTickFormatter\"},\"plot\":{\"id\":\"fea038ac-db54-4868-8f2d-c9969dd35c60\",\"subtype\":\"Figure\",\"type\":\"Plot\"},\"ticker\":{\"id\":\"19bfb46f-6c0e-4ae3-a232-c867e5fbf5b9\",\"type\":\"BasicTicker\"}},\"id\":\"a552c772-2254-480c-b29e-8807b93a0b5b\",\"type\":\"LinearAxis\"},{\"attributes\":{\"dimension\":1,\"plot\":{\"id\":\"f552bf71-abdd-42fc-b3e1-09ed256ba871\",\"subtype\":\"Figure\",\"type\":\"Plot\"},\"ticker\":{\"id\":\"b30f6309-4c68-47b9-a062-e76b03f1014f\",\"type\":\"BasicTicker\"}},\"id\":\"fc7be480-bb12-4a6a-a5a8-34e7024bea7a\",\"type\":\"Grid\"},{\"attributes\":{},\"id\":\"35bfcfe4-dc88-4062-9789-9d0d5facae8f\",\"type\":\"CategoricalTicker\"},{\"attributes\":{},\"id\":\"64ecf320-907d-46cd-bef2-f293b7099d89\",\"type\":\"CategoricalTicker\"},{\"attributes\":{\"dimension\":1,\"plot\":{\"id\":\"fea038ac-db54-4868-8f2d-c9969dd35c60\",\"subtype\":\"Figure\",\"type\":\"Plot\"},\"ticker\":{\"id\":\"19bfb46f-6c0e-4ae3-a232-c867e5fbf5b9\",\"type\":\"BasicTicker\"}},\"id\":\"9c8b9a77-58ea-4725-8199-67147c0ed68d\",\"type\":\"Grid\"},{\"attributes\":{\"axis_label\":\"flux (W m-2)\",\"formatter\":{\"id\":\"b951d272-4732-4152-972f-dacd87822ad1\",\"type\":\"BasicTickFormatter\"},\"plot\":{\"id\":\"f552bf71-abdd-42fc-b3e1-09ed256ba871\",\"subtype\":\"Figure\",\"type\":\"Plot\"},\"ticker\":{\"id\":\"b30f6309-4c68-47b9-a062-e76b03f1014f\",\"type\":\"BasicTicker\"}},\"id\":\"eb57547d-d5a6-4e03-bc70-33ff05af6c12\",\"type\":\"LinearAxis\"},{\"attributes\":{\"fill_alpha\":{\"value\":0.1},\"fill_color\":{\"value\":\"#1f77b4\"},\"line_alpha\":{\"value\":0.1},\"line_color\":{\"value\":\"#1f77b4\"},\"top\":{\"field\":\"flux\"},\"width\":{\"value\":0.9},\"x\":{\"field\":\"band\"}},\"id\":\"06633bae-6eb1-4472-b4f7-970e89f973f5\",\"type\":\"VBar\"},{\"attributes\":{\"fill_color\":{\"value\":\"#1f77b4\"},\"line_color\":{\"value\":\"#1f77b4\"},\"top\":{\"field\":\"flux\"},\"width\":{\"value\":0.9},\"x\":{\"field\":\"band\"}},\"id\":\"71ed9791-9423-4616-8e57-7fe4f0156334\",\"type\":\"VBar\"},{\"attributes\":{},\"id\":\"c38689ec-07f8-47c4-9c6d-489f883042de\",\"type\":\"LinearScale\"},{\"attributes\":{\"below\":[{\"id\":\"5eda8e2f-e6d2-47e7-a37c-30b05e6d3592\",\"type\":\"CategoricalAxis\"}],\"left\":[{\"id\":\"eb57547d-d5a6-4e03-bc70-33ff05af6c12\",\"type\":\"LinearAxis\"}],\"plot_height\":300,\"plot_width\":300,\"renderers\":[{\"id\":\"5eda8e2f-e6d2-47e7-a37c-30b05e6d3592\",\"type\":\"CategoricalAxis\"},{\"id\":\"743313f2-48ce-4302-bf78-c04277e9b5e7\",\"type\":\"Grid\"},{\"id\":\"eb57547d-d5a6-4e03-bc70-33ff05af6c12\",\"type\":\"LinearAxis\"},{\"id\":\"fc7be480-bb12-4a6a-a5a8-34e7024bea7a\",\"type\":\"Grid\"},{\"id\":\"d171d377-885c-430d-8608-5945ed6f6b16\",\"type\":\"BoxAnnotation\"},{\"id\":\"d0e695c7-6b42-481b-b25e-6cab7cd016c2\",\"type\":\"GlyphRenderer\"}],\"title\":{\"id\":\"1450709b-c7d1-4798-9b17-31d5fa27462a\",\"type\":\"Title\"},\"toolbar\":{\"id\":\"c062535b-0eac-4d50-98cc-145ed9336c49\",\"type\":\"Toolbar\"},\"toolbar_location\":null,\"x_range\":{\"id\":\"204d14d4-30fe-4173-918a-ea1fa05794cf\",\"type\":\"FactorRange\"},\"x_scale\":{\"id\":\"8fda8836-f647-4848-87fb-3434b4efd30b\",\"type\":\"CategoricalScale\"},\"y_range\":{\"id\":\"d4426a5e-3b6a-48e0-be6f-fb2229a32a96\",\"type\":\"DataRange1d\"},\"y_scale\":{\"id\":\"821809f5-34e0-4525-89d6-56a37bd1b3c0\",\"type\":\"LinearScale\"}},\"id\":\"f552bf71-abdd-42fc-b3e1-09ed256ba871\",\"subtype\":\"Figure\",\"type\":\"Plot\"},{\"attributes\":{\"bottom_units\":\"screen\",\"fill_alpha\":{\"value\":0.5},\"fill_color\":{\"value\":\"lightgrey\"},\"left_units\":\"screen\",\"level\":\"overlay\",\"line_alpha\":{\"value\":1.0},\"line_color\":{\"value\":\"black\"},\"line_dash\":[4,4],\"line_width\":{\"value\":2},\"plot\":null,\"render_mode\":\"css\",\"right_units\":\"screen\",\"top_units\":\"screen\"},\"id\":\"945f5ddc-bd9c-4e29-806e-ca63e28f9f69\",\"type\":\"BoxAnnotation\"},{\"attributes\":{\"active_drag\":\"auto\",\"active_inspect\":\"auto\",\"active_scroll\":\"auto\",\"active_tap\":\"auto\",\"tools\":[{\"id\":\"bb54316d-726f-4500-8c97-cfaf46e4a3aa\",\"type\":\"PanTool\"},{\"id\":\"bca1f811-a0ed-4be5-bc4b-0851389dad1f\",\"type\":\"WheelZoomTool\"},{\"id\":\"e746f8d6-ede0-4097-81e9-653698df5049\",\"type\":\"BoxZoomTool\"},{\"id\":\"93209563-ddbe-4e4a-9e28-09f55c1243b6\",\"type\":\"SaveTool\"},{\"id\":\"65979d30-e692-430b-bcdd-f9f24266a147\",\"type\":\"ResetTool\"},{\"id\":\"ae57f933-02e2-4074-ae42-fde4907c0aee\",\"type\":\"HelpTool\"}]},\"id\":\"c062535b-0eac-4d50-98cc-145ed9336c49\",\"type\":\"Toolbar\"},{\"attributes\":{},\"id\":\"a1a5c526-3c11-4f16-ade0-d2323bab0383\",\"type\":\"CategoricalTickFormatter\"},{\"attributes\":{},\"id\":\"7b1c1fcf-aa39-4f0d-a717-1088fc8cbb1b\",\"type\":\"PanTool\"},{\"attributes\":{\"data_source\":{\"id\":\"cee1d2b9-447c-415c-9e6f-695c4a6ba8e2\",\"type\":\"ColumnDataSource\"},\"glyph\":{\"id\":\"71ed9791-9423-4616-8e57-7fe4f0156334\",\"type\":\"VBar\"},\"hover_glyph\":null,\"muted_glyph\":null,\"nonselection_glyph\":{\"id\":\"35b2de4d-d068-4479-b749-8e065d9778aa\",\"type\":\"VBar\"},\"selection_glyph\":null,\"view\":{\"id\":\"f9ca5986-82e2-48d7-affe-e329adb87bf6\",\"type\":\"CDSView\"}},\"id\":\"d0e695c7-6b42-481b-b25e-6cab7cd016c2\",\"type\":\"GlyphRenderer\"},{\"attributes\":{},\"id\":\"bb54316d-726f-4500-8c97-cfaf46e4a3aa\",\"type\":\"PanTool\"},{\"attributes\":{\"data_source\":{\"id\":\"f731a791-7432-4b70-8957-953dc8c07e57\",\"type\":\"ColumnDataSource\"},\"glyph\":{\"id\":\"70050683-7858-463f-8076-e17b2b94418b\",\"type\":\"VBar\"},\"hover_glyph\":null,\"muted_glyph\":null,\"nonselection_glyph\":{\"id\":\"06633bae-6eb1-4472-b4f7-970e89f973f5\",\"type\":\"VBar\"},\"selection_glyph\":null,\"view\":{\"id\":\"e12974fc-2cbb-4af4-aaee-01abaad6936d\",\"type\":\"CDSView\"}},\"id\":\"458e356d-7b9a-460e-8223-4e643c3c9d5c\",\"type\":\"GlyphRenderer\"},{\"attributes\":{},\"id\":\"25d3e5eb-963b-469c-bb3a-26b355fa280c\",\"type\":\"WheelZoomTool\"},{\"attributes\":{\"bottom_units\":\"screen\",\"fill_alpha\":{\"value\":0.5},\"fill_color\":{\"value\":\"lightgrey\"},\"left_units\":\"screen\",\"level\":\"overlay\",\"line_alpha\":{\"value\":1.0},\"line_color\":{\"value\":\"black\"},\"line_dash\":[4,4],\"line_width\":{\"value\":2},\"plot\":null,\"render_mode\":\"css\",\"right_units\":\"screen\",\"top_units\":\"screen\"},\"id\":\"d171d377-885c-430d-8608-5945ed6f6b16\",\"type\":\"BoxAnnotation\"},{\"attributes\":{\"callback\":null},\"id\":\"57f59029-9b41-4541-be91-2b94e10d49d4\",\"type\":\"DataRange1d\"},{\"attributes\":{\"overlay\":{\"id\":\"945f5ddc-bd9c-4e29-806e-ca63e28f9f69\",\"type\":\"BoxAnnotation\"}},\"id\":\"c42b5c9b-7a73-48fb-9e0b-c3f63f7fbe60\",\"type\":\"BoxZoomTool\"},{\"attributes\":{},\"id\":\"a237016b-bfa5-423f-a6e5-483c5124a88c\",\"type\":\"SaveTool\"},{\"attributes\":{},\"id\":\"ad4d0a25-33b6-4ff6-bbd0-23ff6b2c23df\",\"type\":\"ResetTool\"},{\"attributes\":{},\"id\":\"3945a196-c347-4728-9d6f-ad511c45844d\",\"type\":\"HelpTool\"},{\"attributes\":{},\"id\":\"ae57f933-02e2-4074-ae42-fde4907c0aee\",\"type\":\"HelpTool\"},{\"attributes\":{},\"id\":\"65979d30-e692-430b-bcdd-f9f24266a147\",\"type\":\"ResetTool\"},{\"attributes\":{},\"id\":\"93209563-ddbe-4e4a-9e28-09f55c1243b6\",\"type\":\"SaveTool\"},{\"attributes\":{\"source\":{\"id\":\"f731a791-7432-4b70-8957-953dc8c07e57\",\"type\":\"ColumnDataSource\"}},\"id\":\"e12974fc-2cbb-4af4-aaee-01abaad6936d\",\"type\":\"CDSView\"},{\"attributes\":{\"overlay\":{\"id\":\"d171d377-885c-430d-8608-5945ed6f6b16\",\"type\":\"BoxAnnotation\"}},\"id\":\"e746f8d6-ede0-4097-81e9-653698df5049\",\"type\":\"BoxZoomTool\"},{\"attributes\":{\"callback\":null,\"data\":{\"band\":[\"3\",\"4\",\"5\",\"6\",\"7\",\"11\"],\"flux\":{\"__ndarray__\":\"QDpSkO9Q0L8ASZj7DWqtPwDADbVQWb6/APCz7H5Shz8AKMXEb9WEP8BP3jWXWpy/\",\"dtype\":\"float64\",\"shape\":[6]}},\"selected\":{\"id\":\"24f4645f-f113-4696-a1a2-35fd3fb1e23c\",\"type\":\"Selection\"},\"selection_policy\":{\"id\":\"62915f55-ca89-4bb9-8299-6bea13733668\",\"type\":\"UnionRenderers\"}},\"id\":\"ae44211b-fe6f-4c2f-b938-a18539f06c9f\",\"type\":\"ColumnDataSource\"},{\"attributes\":{},\"id\":\"bca1f811-a0ed-4be5-bc4b-0851389dad1f\",\"type\":\"WheelZoomTool\"},{\"attributes\":{},\"id\":\"24f4645f-f113-4696-a1a2-35fd3fb1e23c\",\"type\":\"Selection\"},{\"attributes\":{\"source\":{\"id\":\"cee1d2b9-447c-415c-9e6f-695c4a6ba8e2\",\"type\":\"ColumnDataSource\"}},\"id\":\"f9ca5986-82e2-48d7-affe-e329adb87bf6\",\"type\":\"CDSView\"},{\"attributes\":{\"callback\":null,\"factors\":[\"3\",\"4\",\"5\",\"6\",\"7\",\"11\"]},\"id\":\"97b95516-5cc8-448c-9690-b04cfd84ed75\",\"type\":\"FactorRange\"},{\"attributes\":{\"children\":[{\"id\":\"fea038ac-db54-4868-8f2d-c9969dd35c60\",\"subtype\":\"Figure\",\"type\":\"Plot\"},{\"id\":\"f552bf71-abdd-42fc-b3e1-09ed256ba871\",\"subtype\":\"Figure\",\"type\":\"Plot\"},{\"id\":\"ffc4efae-c205-4de4-8138-ba0f6ea0d78c\",\"subtype\":\"Figure\",\"type\":\"Plot\"}]},\"id\":\"079c160b-994d-4554-b88d-effef8943b7e\",\"type\":\"Row\"},{\"attributes\":{\"below\":[{\"id\":\"770e2c87-211d-42a8-a443-4ce31784eb85\",\"type\":\"CategoricalAxis\"}],\"left\":[{\"id\":\"391c805a-622a-4aa7-a819-8aa83dfff5fe\",\"type\":\"LinearAxis\"}],\"plot_height\":300,\"plot_width\":300,\"renderers\":[{\"id\":\"770e2c87-211d-42a8-a443-4ce31784eb85\",\"type\":\"CategoricalAxis\"},{\"id\":\"f14732f8-3f39-4876-b5b8-3a37c61c8854\",\"type\":\"Grid\"},{\"id\":\"391c805a-622a-4aa7-a819-8aa83dfff5fe\",\"type\":\"LinearAxis\"},{\"id\":\"b189742a-2d07-4024-a9c1-d3d653ff931b\",\"type\":\"Grid\"},{\"id\":\"41b0803c-9896-4cc7-8ef4-b159ba56316a\",\"type\":\"BoxAnnotation\"},{\"id\":\"a381d895-d92a-4bc6-bab9-5c12b59568d8\",\"type\":\"GlyphRenderer\"}],\"title\":{\"id\":\"dda50b20-082c-4918-a284-fa827caedf42\",\"type\":\"Title\"},\"toolbar\":{\"id\":\"1842ba72-6af0-4c31-ad6b-8ab7ae6a9166\",\"type\":\"Toolbar\"},\"toolbar_location\":null,\"x_range\":{\"id\":\"97b95516-5cc8-448c-9690-b04cfd84ed75\",\"type\":\"FactorRange\"},\"x_scale\":{\"id\":\"2701caaa-13bb-44d5-9017-e2070bb2809a\",\"type\":\"CategoricalScale\"},\"y_range\":{\"id\":\"57f59029-9b41-4541-be91-2b94e10d49d4\",\"type\":\"DataRange1d\"},\"y_scale\":{\"id\":\"c38689ec-07f8-47c4-9c6d-489f883042de\",\"type\":\"LinearScale\"}},\"id\":\"ffc4efae-c205-4de4-8138-ba0f6ea0d78c\",\"subtype\":\"Figure\",\"type\":\"Plot\"},{\"attributes\":{\"callback\":null,\"data\":{\"band\":[\"3\",\"4\",\"5\",\"6\",\"7\",\"11\"],\"flux\":{\"__ndarray__\":\"AFAcRMFFkr9AyH+2EpDCPwAykJXPWro/AGCJBgOxf78A4Ky20tN+v0DCJ8OBW6A/\",\"dtype\":\"float64\",\"shape\":[6]}},\"selected\":{\"id\":\"d77e7d9c-f9d0-439e-898b-996a75aeae47\",\"type\":\"Selection\"},\"selection_policy\":{\"id\":\"53e92ec8-b095-4934-8cbc-d38ca1eb1a6e\",\"type\":\"UnionRenderers\"}},\"id\":\"f731a791-7432-4b70-8957-953dc8c07e57\",\"type\":\"ColumnDataSource\"},{\"attributes\":{},\"id\":\"2701caaa-13bb-44d5-9017-e2070bb2809a\",\"type\":\"CategoricalScale\"}],\"root_ids\":[\"fc118ea9-9232-417a-9298-e5f8663ad4f4\"]},\"title\":\"Bokeh Application\",\"version\":\"0.12.16\"}};\n",
       "  var render_items = [{\"docid\":\"b008746e-38c6-403c-b378-027bcc824398\",\"elementid\":\"cd5f879a-4a9c-441f-9607-ebdcf68399ce\",\"modelid\":\"fc118ea9-9232-417a-9298-e5f8663ad4f4\"}];\n",
       "  root.Bokeh.embed.embed_items_notebook(docs_json, render_items);\n",
       "\n",
       "  }\n",
       "  if (root.Bokeh !== undefined) {\n",
       "    embed_document(root);\n",
       "  } else {\n",
       "    var attempts = 0;\n",
       "    var timer = setInterval(function(root) {\n",
       "      if (root.Bokeh !== undefined) {\n",
       "        embed_document(root);\n",
       "        clearInterval(timer);\n",
       "      }\n",
       "      attempts++;\n",
       "      if (attempts > 100) {\n",
       "        console.log(\"Bokeh: ERROR: Unable to run BokehJS code because BokehJS library is missing\")\n",
       "        clearInterval(timer);\n",
       "      }\n",
       "    }, 10, root)\n",
       "  }\n",
       "})(window);"
      ],
      "application/vnd.bokehjs_exec.v0+json": ""
     },
     "metadata": {
      "application/vnd.bokehjs_exec.v0+json": {
       "id": "fc118ea9-9232-417a-9298-e5f8663ad4f4"
      }
     },
     "output_type": "display_data"
    },
    {
     "data": {
      "text/markdown": [
       "*FIGURE.* Difference between CLIRAD and CRD in TOA, SFC and net atmosphere flux, in each spectral band."
      ],
      "text/plain": [
       "<IPython.core.display.Markdown object>"
      ]
     },
     "metadata": {},
     "output_type": "display_data"
    },
    {
     "data": {
      "text/html": [
       "<div>\n",
       "<style scoped>\n",
       "    .dataframe tbody tr th:only-of-type {\n",
       "        vertical-align: middle;\n",
       "    }\n",
       "\n",
       "    .dataframe tbody tr th {\n",
       "        vertical-align: top;\n",
       "    }\n",
       "\n",
       "    .dataframe thead th {\n",
       "        text-align: right;\n",
       "    }\n",
       "</style>\n",
       "<table border=\"1\" class=\"dataframe\">\n",
       "  <thead>\n",
       "    <tr style=\"text-align: right;\">\n",
       "      <th></th>\n",
       "      <th>OLR flux</th>\n",
       "      <th>SFC flux</th>\n",
       "      <th>ATM heating</th>\n",
       "    </tr>\n",
       "    <tr>\n",
       "      <th>Sum over bands</th>\n",
       "      <th></th>\n",
       "      <th></th>\n",
       "      <th></th>\n",
       "    </tr>\n",
       "  </thead>\n",
       "  <tbody>\n",
       "    <tr>\n",
       "      <th>CLIRAD - CRD</th>\n",
       "      <td>0.25</td>\n",
       "      <td>0.57</td>\n",
       "      <td>-0.32</td>\n",
       "    </tr>\n",
       "    <tr>\n",
       "      <th>CRD</th>\n",
       "      <td>-100.58</td>\n",
       "      <td>46.00</td>\n",
       "      <td>-27.64</td>\n",
       "    </tr>\n",
       "  </tbody>\n",
       "</table>\n",
       "</div>"
      ],
      "text/plain": [
       "                OLR flux  SFC flux  ATM heating\n",
       "Sum over bands                                 \n",
       "CLIRAD - CRD        0.25      0.57        -0.32\n",
       "CRD              -100.58     46.00       -27.64"
      ]
     },
     "metadata": {},
     "output_type": "display_data"
    },
    {
     "data": {
      "text/markdown": [
       "*TABLE.* Difference between CLIRAD and CRD in TOA, SFC and net atmosphere flux, over all spectral bands. CRD's TOA, SFC and net atmosphere flux, over all spectral bands."
      ],
      "text/plain": [
       "<IPython.core.display.Markdown object>"
      ]
     },
     "metadata": {},
     "output_type": "display_data"
    },
    {
     "data": {
      "text/html": [
       "<a id=\"Parameters_of_runs._trp\"></a>"
      ],
      "text/plain": [
       "<IPython.core.display.HTML object>"
      ]
     },
     "metadata": {},
     "output_type": "display_data"
    },
    {
     "data": {
      "text/markdown": [
       "# Parameters of runs. trp"
      ],
      "text/plain": [
       "<IPython.core.display.Markdown object>"
      ]
     },
     "metadata": {},
     "output_type": "display_data"
    },
    {
     "data": {
      "text/html": [
       "<div>\n",
       "<style scoped>\n",
       "    .dataframe tbody tr th:only-of-type {\n",
       "        vertical-align: middle;\n",
       "    }\n",
       "\n",
       "    .dataframe tbody tr th {\n",
       "        vertical-align: top;\n",
       "    }\n",
       "\n",
       "    .dataframe thead tr th {\n",
       "        text-align: left;\n",
       "    }\n",
       "</style>\n",
       "<table border=\"1\" class=\"dataframe\">\n",
       "  <thead>\n",
       "    <tr>\n",
       "      <th></th>\n",
       "      <th>clirad-lw</th>\n",
       "      <th colspan=\"6\" halign=\"left\">lblnew-bestfit lw</th>\n",
       "    </tr>\n",
       "    <tr>\n",
       "      <th></th>\n",
       "      <th>:D</th>\n",
       "      <th>band3a co2</th>\n",
       "      <th>band3b co2</th>\n",
       "      <th>band3c co2</th>\n",
       "      <th>band4 co2</th>\n",
       "      <th>band5 co2</th>\n",
       "      <th>band9 co2</th>\n",
       "    </tr>\n",
       "  </thead>\n",
       "  <tbody>\n",
       "    <tr>\n",
       "      <th>atmpro</th>\n",
       "      <td>trp</td>\n",
       "      <td>trp</td>\n",
       "      <td>trp</td>\n",
       "      <td>trp</td>\n",
       "      <td>trp</td>\n",
       "      <td>trp</td>\n",
       "      <td>trp</td>\n",
       "    </tr>\n",
       "    <tr>\n",
       "      <th>band</th>\n",
       "      <td>[3, 4, 5, 6, 7, 11]</td>\n",
       "      <td>3a</td>\n",
       "      <td>3b</td>\n",
       "      <td>3c</td>\n",
       "      <td>4</td>\n",
       "      <td>5</td>\n",
       "      <td>9</td>\n",
       "    </tr>\n",
       "    <tr>\n",
       "      <th>commitnumber</th>\n",
       "      <td>1013f91</td>\n",
       "      <td>a22ab94</td>\n",
       "      <td>a22ab94</td>\n",
       "      <td>a22ab94</td>\n",
       "      <td>a22ab94</td>\n",
       "      <td>a22ab94</td>\n",
       "      <td>a22ab94</td>\n",
       "    </tr>\n",
       "    <tr>\n",
       "      <th>conc</th>\n",
       "      <td>-</td>\n",
       "      <td>0.0004</td>\n",
       "      <td>0.0004</td>\n",
       "      <td>0.0004</td>\n",
       "      <td>0.0004</td>\n",
       "      <td>0.0004</td>\n",
       "      <td>0.0004</td>\n",
       "    </tr>\n",
       "    <tr>\n",
       "      <th>dv</th>\n",
       "      <td>-</td>\n",
       "      <td>0.001</td>\n",
       "      <td>0.001</td>\n",
       "      <td>0.001</td>\n",
       "      <td>0.001</td>\n",
       "      <td>0.001</td>\n",
       "      <td>0.001</td>\n",
       "    </tr>\n",
       "    <tr>\n",
       "      <th>klin</th>\n",
       "      <td>-</td>\n",
       "      <td>6.37556e-24</td>\n",
       "      <td>0</td>\n",
       "      <td>6.37556e-24</td>\n",
       "      <td>6.5e-24</td>\n",
       "      <td>6.5e-24</td>\n",
       "      <td>6.5e-24</td>\n",
       "    </tr>\n",
       "    <tr>\n",
       "      <th>molecule</th>\n",
       "      <td>{'co2': 0.0004}</td>\n",
       "      <td>co2</td>\n",
       "      <td>co2</td>\n",
       "      <td>co2</td>\n",
       "      <td>co2</td>\n",
       "      <td>co2</td>\n",
       "      <td>co2</td>\n",
       "    </tr>\n",
       "    <tr>\n",
       "      <th>ng_adju</th>\n",
       "      <td>-</td>\n",
       "      <td>[0, 0, 0]</td>\n",
       "      <td>[0, 0]</td>\n",
       "      <td>[0, 0, 0]</td>\n",
       "      <td>[0, 0]</td>\n",
       "      <td>[0, 0]</td>\n",
       "      <td>[0, 0]</td>\n",
       "    </tr>\n",
       "    <tr>\n",
       "      <th>ng_refs</th>\n",
       "      <td>-</td>\n",
       "      <td>[3, 2, 4]</td>\n",
       "      <td>[5, 4]</td>\n",
       "      <td>[3, 2, 4]</td>\n",
       "      <td>[1, 2]</td>\n",
       "      <td>[1, 2]</td>\n",
       "      <td>[3, 3]</td>\n",
       "    </tr>\n",
       "    <tr>\n",
       "      <th>nv</th>\n",
       "      <td>-</td>\n",
       "      <td>1000</td>\n",
       "      <td>1000</td>\n",
       "      <td>1000</td>\n",
       "      <td>1000</td>\n",
       "      <td>1000</td>\n",
       "      <td>1000</td>\n",
       "    </tr>\n",
       "    <tr>\n",
       "      <th>option_compute_btable</th>\n",
       "      <td>-</td>\n",
       "      <td>0</td>\n",
       "      <td>0</td>\n",
       "      <td>0</td>\n",
       "      <td>0</td>\n",
       "      <td>0</td>\n",
       "      <td>0</td>\n",
       "    </tr>\n",
       "    <tr>\n",
       "      <th>option_compute_ktable</th>\n",
       "      <td>-</td>\n",
       "      <td>0</td>\n",
       "      <td>0</td>\n",
       "      <td>0</td>\n",
       "      <td>0</td>\n",
       "      <td>0</td>\n",
       "      <td>0</td>\n",
       "    </tr>\n",
       "    <tr>\n",
       "      <th>option_wgt_flux</th>\n",
       "      <td>-</td>\n",
       "      <td>1</td>\n",
       "      <td>1</td>\n",
       "      <td>1</td>\n",
       "      <td>1</td>\n",
       "      <td>1</td>\n",
       "      <td>1</td>\n",
       "    </tr>\n",
       "    <tr>\n",
       "      <th>option_wgt_k</th>\n",
       "      <td>-</td>\n",
       "      <td>1</td>\n",
       "      <td>1</td>\n",
       "      <td>1</td>\n",
       "      <td>1</td>\n",
       "      <td>1</td>\n",
       "      <td>1</td>\n",
       "    </tr>\n",
       "    <tr>\n",
       "      <th>ref_pts</th>\n",
       "      <td>-</td>\n",
       "      <td>[[1, 250], [10, 250], [500, 250]]</td>\n",
       "      <td>[[1, 250], [10, 250]]</td>\n",
       "      <td>[[1, 250], [10, 250], [500, 250]]</td>\n",
       "      <td>[[1, 250], [500, 250]]</td>\n",
       "      <td>[[1, 250], [500, 250]]</td>\n",
       "      <td>[[1, 250], [50, 250]]</td>\n",
       "    </tr>\n",
       "    <tr>\n",
       "      <th>tsfc</th>\n",
       "      <td>300</td>\n",
       "      <td>300</td>\n",
       "      <td>300</td>\n",
       "      <td>300</td>\n",
       "      <td>300</td>\n",
       "      <td>300</td>\n",
       "      <td>300</td>\n",
       "    </tr>\n",
       "    <tr>\n",
       "      <th>vmax</th>\n",
       "      <td>-</td>\n",
       "      <td>620</td>\n",
       "      <td>720</td>\n",
       "      <td>800</td>\n",
       "      <td>980</td>\n",
       "      <td>1100</td>\n",
       "      <td>3000</td>\n",
       "    </tr>\n",
       "    <tr>\n",
       "      <th>vmin</th>\n",
       "      <td>-</td>\n",
       "      <td>540</td>\n",
       "      <td>620</td>\n",
       "      <td>720</td>\n",
       "      <td>800</td>\n",
       "      <td>980</td>\n",
       "      <td>1900</td>\n",
       "    </tr>\n",
       "    <tr>\n",
       "      <th>w_diffuse</th>\n",
       "      <td>-</td>\n",
       "      <td>[[1.6, 1.6, 1.7], [1.75, 1.75], [1.55, 1.55, 1.6, 1.85]]</td>\n",
       "      <td>[[1.66, 1.66, 1.66, 1.66, 1.66], [1.66, 1.66, 1.66, 1.66]]</td>\n",
       "      <td>[[1.7, 1.6, 1.8], [1.8, 1.7], [1.5, 1.6, 1.7, 1.8]]</td>\n",
       "      <td>[[1.75], [1.66, 1.9]]</td>\n",
       "      <td>[[1.75], [1.66, 1.9]]</td>\n",
       "      <td>[[1.66, 1.66, 1.75], [1.75, 1.6, 1.85]]</td>\n",
       "    </tr>\n",
       "    <tr>\n",
       "      <th>wgt</th>\n",
       "      <td>-</td>\n",
       "      <td>[[0.7, 0.3, 0.7], [0.7, 0.6], [0.4, 0.5, 0.8, 0.95]]</td>\n",
       "      <td>[[0, 0.5, 0.4, 0.6, 0.65], [0.7, 0.7, 0.55, 0.6]]</td>\n",
       "      <td>[[0.6, 0.4, 0.7], [0.7, 0.4], [0.3, 0.4, 0.85, 0.9]]</td>\n",
       "      <td>[[0.75], [0.75, 0.95]]</td>\n",
       "      <td>[[0.75], [0.75, 0.95]]</td>\n",
       "      <td>[[0.7, 0.8, 0.7], [0.8, 0.7, 0.8]]</td>\n",
       "    </tr>\n",
       "  </tbody>\n",
       "</table>\n",
       "</div>"
      ],
      "text/plain": [
       "                                 clirad-lw  \\\n",
       "                                        :D   \n",
       "atmpro                                 trp   \n",
       "band                   [3, 4, 5, 6, 7, 11]   \n",
       "commitnumber                       1013f91   \n",
       "conc                                     -   \n",
       "dv                                       -   \n",
       "klin                                     -   \n",
       "molecule                   {'co2': 0.0004}   \n",
       "ng_adju                                  -   \n",
       "ng_refs                                  -   \n",
       "nv                                       -   \n",
       "option_compute_btable                    -   \n",
       "option_compute_ktable                    -   \n",
       "option_wgt_flux                          -   \n",
       "option_wgt_k                             -   \n",
       "ref_pts                                  -   \n",
       "tsfc                                   300   \n",
       "vmax                                     -   \n",
       "vmin                                     -   \n",
       "w_diffuse                                -   \n",
       "wgt                                      -   \n",
       "\n",
       "                                                              lblnew-bestfit lw  \\\n",
       "                                                                     band3a co2   \n",
       "atmpro                                                                      trp   \n",
       "band                                                                         3a   \n",
       "commitnumber                                                            a22ab94   \n",
       "conc                                                                     0.0004   \n",
       "dv                                                                        0.001   \n",
       "klin                                                                6.37556e-24   \n",
       "molecule                                                                    co2   \n",
       "ng_adju                                                               [0, 0, 0]   \n",
       "ng_refs                                                               [3, 2, 4]   \n",
       "nv                                                                         1000   \n",
       "option_compute_btable                                                         0   \n",
       "option_compute_ktable                                                         0   \n",
       "option_wgt_flux                                                               1   \n",
       "option_wgt_k                                                                  1   \n",
       "ref_pts                                       [[1, 250], [10, 250], [500, 250]]   \n",
       "tsfc                                                                        300   \n",
       "vmax                                                                        620   \n",
       "vmin                                                                        540   \n",
       "w_diffuse              [[1.6, 1.6, 1.7], [1.75, 1.75], [1.55, 1.55, 1.6, 1.85]]   \n",
       "wgt                        [[0.7, 0.3, 0.7], [0.7, 0.6], [0.4, 0.5, 0.8, 0.95]]   \n",
       "\n",
       "                                                                                   \\\n",
       "                                                                       band3b co2   \n",
       "atmpro                                                                        trp   \n",
       "band                                                                           3b   \n",
       "commitnumber                                                              a22ab94   \n",
       "conc                                                                       0.0004   \n",
       "dv                                                                          0.001   \n",
       "klin                                                                            0   \n",
       "molecule                                                                      co2   \n",
       "ng_adju                                                                    [0, 0]   \n",
       "ng_refs                                                                    [5, 4]   \n",
       "nv                                                                           1000   \n",
       "option_compute_btable                                                           0   \n",
       "option_compute_ktable                                                           0   \n",
       "option_wgt_flux                                                                 1   \n",
       "option_wgt_k                                                                    1   \n",
       "ref_pts                                                     [[1, 250], [10, 250]]   \n",
       "tsfc                                                                          300   \n",
       "vmax                                                                          720   \n",
       "vmin                                                                          620   \n",
       "w_diffuse              [[1.66, 1.66, 1.66, 1.66, 1.66], [1.66, 1.66, 1.66, 1.66]]   \n",
       "wgt                             [[0, 0.5, 0.4, 0.6, 0.65], [0.7, 0.7, 0.55, 0.6]]   \n",
       "\n",
       "                                                                             \\\n",
       "                                                                 band3c co2   \n",
       "atmpro                                                                  trp   \n",
       "band                                                                     3c   \n",
       "commitnumber                                                        a22ab94   \n",
       "conc                                                                 0.0004   \n",
       "dv                                                                    0.001   \n",
       "klin                                                            6.37556e-24   \n",
       "molecule                                                                co2   \n",
       "ng_adju                                                           [0, 0, 0]   \n",
       "ng_refs                                                           [3, 2, 4]   \n",
       "nv                                                                     1000   \n",
       "option_compute_btable                                                     0   \n",
       "option_compute_ktable                                                     0   \n",
       "option_wgt_flux                                                           1   \n",
       "option_wgt_k                                                              1   \n",
       "ref_pts                                   [[1, 250], [10, 250], [500, 250]]   \n",
       "tsfc                                                                    300   \n",
       "vmax                                                                    800   \n",
       "vmin                                                                    720   \n",
       "w_diffuse               [[1.7, 1.6, 1.8], [1.8, 1.7], [1.5, 1.6, 1.7, 1.8]]   \n",
       "wgt                    [[0.6, 0.4, 0.7], [0.7, 0.4], [0.3, 0.4, 0.85, 0.9]]   \n",
       "\n",
       "                                                                       \\\n",
       "                                    band4 co2               band5 co2   \n",
       "atmpro                                    trp                     trp   \n",
       "band                                        4                       5   \n",
       "commitnumber                          a22ab94                 a22ab94   \n",
       "conc                                   0.0004                  0.0004   \n",
       "dv                                      0.001                   0.001   \n",
       "klin                                  6.5e-24                 6.5e-24   \n",
       "molecule                                  co2                     co2   \n",
       "ng_adju                                [0, 0]                  [0, 0]   \n",
       "ng_refs                                [1, 2]                  [1, 2]   \n",
       "nv                                       1000                    1000   \n",
       "option_compute_btable                       0                       0   \n",
       "option_compute_ktable                       0                       0   \n",
       "option_wgt_flux                             1                       1   \n",
       "option_wgt_k                                1                       1   \n",
       "ref_pts                [[1, 250], [500, 250]]  [[1, 250], [500, 250]]   \n",
       "tsfc                                      300                     300   \n",
       "vmax                                      980                    1100   \n",
       "vmin                                      800                     980   \n",
       "w_diffuse               [[1.75], [1.66, 1.9]]   [[1.75], [1.66, 1.9]]   \n",
       "wgt                    [[0.75], [0.75, 0.95]]  [[0.75], [0.75, 0.95]]   \n",
       "\n",
       "                                                                \n",
       "                                                     band9 co2  \n",
       "atmpro                                                     trp  \n",
       "band                                                         9  \n",
       "commitnumber                                           a22ab94  \n",
       "conc                                                    0.0004  \n",
       "dv                                                       0.001  \n",
       "klin                                                   6.5e-24  \n",
       "molecule                                                   co2  \n",
       "ng_adju                                                 [0, 0]  \n",
       "ng_refs                                                 [3, 3]  \n",
       "nv                                                        1000  \n",
       "option_compute_btable                                        0  \n",
       "option_compute_ktable                                        0  \n",
       "option_wgt_flux                                              1  \n",
       "option_wgt_k                                                 1  \n",
       "ref_pts                                  [[1, 250], [50, 250]]  \n",
       "tsfc                                                       300  \n",
       "vmax                                                      3000  \n",
       "vmin                                                      1900  \n",
       "w_diffuse              [[1.66, 1.66, 1.75], [1.75, 1.6, 1.85]]  \n",
       "wgt                         [[0.7, 0.8, 0.7], [0.8, 0.7, 0.8]]  "
      ]
     },
     "metadata": {},
     "output_type": "display_data"
    },
    {
     "data": {
      "text/html": [
       "<a id=\"Cooling_rates._trp.\"></a>"
      ],
      "text/plain": [
       "<IPython.core.display.HTML object>"
      ]
     },
     "metadata": {},
     "output_type": "display_data"
    },
    {
     "data": {
      "text/markdown": [
       "# Cooling rates. trp."
      ],
      "text/plain": [
       "<IPython.core.display.Markdown object>"
      ]
     },
     "metadata": {},
     "output_type": "display_data"
    },
    {
     "data": {
      "text/html": [
       "\n",
       "<div class=\"bk-root\">\n",
       "    <div class=\"bk-plotdiv\" id=\"443ab9a8-022d-438d-b64f-bb9ba76e4761\"></div>\n",
       "</div>"
      ]
     },
     "metadata": {},
     "output_type": "display_data"
    },
    {
     "data": {
      "application/javascript": [
       "(function(root) {\n",
       "  function embed_document(root) {\n",
       "    \n",
       "  var docs_json = {\"77ad9116-aeaf-4b68-9c38-7b95803ac09b\":{\"roots\":{\"references\":[{\"attributes\":{\"overlay\":{\"id\":\"5184b39a-85e7-42ae-9af1-ac3c8c1a70db\",\"type\":\"BoxAnnotation\"}},\"id\":\"594b98e9-92cc-4635-bb06-26b3d6e5e2a0\",\"type\":\"BoxZoomTool\"},{\"attributes\":{},\"id\":\"f8510cf4-d892-485f-96e7-2b93fc7774af\",\"type\":\"WheelZoomTool\"},{\"attributes\":{\"source\":{\"id\":\"c6df4d9a-c76e-4b9e-b164-bf042b656ff8\",\"type\":\"ColumnDataSource\"}},\"id\":\"a47ec61b-2c19-4f10-981d-4e139e4e551b\",\"type\":\"CDSView\"},{\"attributes\":{\"line_alpha\":0.6,\"line_color\":\"#e41a1c\",\"line_dash\":[6],\"line_width\":5,\"x\":{\"field\":\"x\"},\"y\":{\"field\":\"y\"}},\"id\":\"b893a65d-86a0-43a4-98f8-1258853b1b9b\",\"type\":\"Line\"},{\"attributes\":{\"fill_alpha\":{\"value\":0.7},\"fill_color\":{\"value\":\"#4daf4a\"},\"line_alpha\":{\"value\":0.7},\"line_color\":{\"value\":\"#4daf4a\"},\"x\":{\"field\":\"x\"},\"y\":{\"field\":\"y\"}},\"id\":\"b5ba7b16-c4a0-4816-b5ea-6b14b146dc5c\",\"type\":\"Circle\"},{\"attributes\":{},\"id\":\"c1e59e68-4544-4b0c-91b0-2510dd6a8d98\",\"type\":\"LinearScale\"},{\"attributes\":{\"callback\":null,\"data\":{\"x\":{\"__ndarray__\":\"XtGHGe5rU0AhI5ak4dVEQCHwZtVX90BAVl0Z1iEWO0DM/F41sl01QO4nLsZ1yjBAtIOfiT17KkDpjFSAzw4lQDx7Lq2J5yBAiDG8pGROG0ALpCecqvsVQJQd2VDRThFAiMjyczRICUCJZCf18Pb6P129EJnnafM/PLAiSrmRAEDjTNdGTOgHQALkkDIGlQ1AKVCqLmO/EUAr/95Gg2QVQI2gO7nr1hpAlP7xhh6KIUBgzDNvU+IhQI0kwNIeLx5AB2XM1ht7GUCVwCP7L3oUQOjecKrKtRBALssD5QHpC0D8TeAbQHMHQMj2Gd/wjgNAicZikzQCAEAS9eGvNnv5P8RrCcnlqfM/smZzKWdt7j+AiDkz2kzhP84fkaABEZI/DVIC1Yar1b/6YKlvJPvQv/Rj+wbxs0g/u1u/sBdHsj9Jqf0NeFK8P5Q+pwYIkME/Iy/p8ZAXxD8CIwZoiRXGPwFmi0xpt8c/59seKbIVyT8gQ263A0LKP1Nv113QSMs/Jnbl18gxzD/0MWq3ggfNP0nMlb+r0M0/YoLsiYSTzj/h574lSlLPPwSpAkRGCdA/+CBztZNt0D9jRXWYqNfQP7jA8OzgTNE/6Zb9aE/X0T+Kv6TF3ITSP3gNCY25ddM/Gnz4vsq41D+nyXpLiPHVPwbIUE6/J9Y/BYUEMIzg1D9mTDQ/UeHSPzUEpGrgRNE/SqNK5G2y0D+km+/M4ynRP09n/aZ/HtI/bf/HkQEn0z8QdtpOFDDUP+p03H7rU9U/+CHJ0VO+1j+6yEiKJOfYP6LiH2LfleE/\",\"dtype\":\"float64\",\"shape\":[75]},\"y\":{\"__ndarray__\":\"GhExyth1ND/Sv8nbtpRIP2vylNV0PVE/aTum7souWD/At0SJ8fVgPw3Iuahxymc/MSNhhJWvcD/bTfBN02d3P2zb5nxnaoA/CD5h5MAGhz8NmeH1TyaQP+zrCsc9p5Y/LbKd76fGnz/bLW5ISEmmPww9YvTcQq8/JV2OstnstT8Er5Y7M8G+P0c+r3jqkcU/5h99k6ZBzj88bCIzFzjVP4enV8oyxN0//yH99nXg5D8qOpLLf0jtP5kqGJXUifQ/c9cS8kHP/D+/DpwzojQEQIEmwoanVwxA4lgXt9HgE0BSSZ2AJuIbQAMJih9jjiNA5q4l5INuK0AwTKYKRj0zQNv5fmq8/DpAaCJseHrtQkB/+zpwzoxKQM3MzMzMeFJAZmZmZmZqWEAAAAAAAFxeQM3MzMzMJmJAmpmZmZkfZUBmZmZmZhhoQDMzMzMzEWtAAAAAAAAKbkBmZmZmZoFwQM3MzMzM/XFAMzMzMzN6c0CamZmZmfZ0QAAAAAAAc3ZAZmZmZmbvd0DNzMzMzGt5QDMzMzMz6HpAmpmZmZlkfEAAAAAAAOF9QGZmZmZmXX9AZmZmZuZsgECamZmZGSuBQM3MzMxM6YFAAAAAAICngkAzMzMzs2WDQGZmZmbmI4RAmpmZmRnihEDNzMzMTKCFQAAAAACAXoZAMzMzM7Mch0BmZmZm5tqHQJqZmZkZmYhAzczMzExXiUAAAAAAgBWKQDMzMzOz04pAZmZmZuaRi0CamZmZGVCMQM3MzMxMDo1AAAAAAIDMjUAzMzMzs4qOQGZmZmbmSI9A\",\"dtype\":\"float64\",\"shape\":[75]}},\"selected\":{\"id\":\"f155acf9-896a-467a-807e-a77a065271e1\",\"type\":\"Selection\"},\"selection_policy\":{\"id\":\"49180bf0-9ec9-4aef-a0b2-423d108588f8\",\"type\":\"UnionRenderers\"}},\"id\":\"16c2a77a-60de-450c-b1a0-bd46eb4c7dd7\",\"type\":\"ColumnDataSource\"},{\"attributes\":{\"items\":[{\"id\":\"925a84d6-f34b-4e4f-81c3-ac6d50b740db\",\"type\":\"LegendItem\"},{\"id\":\"d5533666-0594-4adf-8e63-55b881cc58cc\",\"type\":\"LegendItem\"}],\"label_text_font_size\":{\"value\":\"8pt\"},\"location\":\"top_center\",\"orientation\":\"horizontal\",\"plot\":{\"id\":\"ec2ec19c-0ad2-4c5a-8b7f-67f616dd26f3\",\"subtype\":\"Figure\",\"type\":\"Plot\"}},\"id\":\"2f29ee24-64fc-4226-8583-f6e4ce1c89c2\",\"type\":\"Legend\"},{\"attributes\":{},\"id\":\"5f7b4fb7-3fdb-4133-9e4e-7d4edd4911d8\",\"type\":\"PanTool\"},{\"attributes\":{\"line_color\":\"#4daf4a\",\"line_width\":1.5,\"x\":{\"field\":\"x\"},\"y\":{\"field\":\"y\"}},\"id\":\"96f2bc4e-7ec4-4789-87ca-4472784203e5\",\"type\":\"Line\"},{\"attributes\":{\"axis_label\":\"pressure [mb]\",\"formatter\":{\"id\":\"9b0cae0f-832a-45d8-a4f3-c7c288ff8f81\",\"type\":\"BasicTickFormatter\"},\"plot\":{\"id\":\"72f6a39e-e3ed-4bd6-bfd5-81085505f140\",\"subtype\":\"Figure\",\"type\":\"Plot\"},\"ticker\":{\"id\":\"e793dd49-6d23-4034-b8b2-0d5b0b64c89b\",\"type\":\"BasicTicker\"}},\"id\":\"3d9dfe0a-9704-4228-a5d4-523405bba919\",\"type\":\"LinearAxis\"},{\"attributes\":{\"source\":{\"id\":\"5cedc7cb-b3b5-4d56-8eaf-fa8c79e4f5d6\",\"type\":\"ColumnDataSource\"}},\"id\":\"d96bb91a-088a-4d39-935d-49c9b7df97dd\",\"type\":\"CDSView\"},{\"attributes\":{\"line_alpha\":0.1,\"line_color\":\"#1f77b4\",\"line_width\":1.5,\"x\":{\"field\":\"x\"},\"y\":{\"field\":\"y\"}},\"id\":\"4eff2cef-499b-429d-af23-bca30d89d2b4\",\"type\":\"Line\"},{\"attributes\":{\"axis_label\":\"cooling rate [K/day]\",\"formatter\":{\"id\":\"6e22674c-e9cc-4308-b028-6c8a472f6a4b\",\"type\":\"BasicTickFormatter\"},\"plot\":{\"id\":\"72f6a39e-e3ed-4bd6-bfd5-81085505f140\",\"subtype\":\"Figure\",\"type\":\"Plot\"},\"ticker\":{\"id\":\"8aeadf65-ec01-439c-9e6f-e0d1da29a4d5\",\"type\":\"BasicTicker\"}},\"id\":\"26464ee6-f399-47d4-8476-70a5c62d5217\",\"type\":\"LinearAxis\"},{\"attributes\":{\"callback\":null,\"data\":{\"x\":{\"__ndarray__\":\"XtGHGe5rU0AhI5ak4dVEQCHwZtVX90BAVl0Z1iEWO0DM/F41sl01QO4nLsZ1yjBAtIOfiT17KkDpjFSAzw4lQDx7Lq2J5yBAiDG8pGROG0ALpCecqvsVQJQd2VDRThFAiMjyczRICUCJZCf18Pb6P129EJnnafM/PLAiSrmRAEDjTNdGTOgHQALkkDIGlQ1AKVCqLmO/EUAr/95Gg2QVQI2gO7nr1hpAlP7xhh6KIUBgzDNvU+IhQI0kwNIeLx5AB2XM1ht7GUCVwCP7L3oUQOjecKrKtRBALssD5QHpC0D8TeAbQHMHQMj2Gd/wjgNAicZikzQCAEAS9eGvNnv5P8RrCcnlqfM/smZzKWdt7j+AiDkz2kzhP84fkaABEZI/DVIC1Yar1b/6YKlvJPvQv/Rj+wbxs0g/u1u/sBdHsj9Jqf0NeFK8P5Q+pwYIkME/Iy/p8ZAXxD8CIwZoiRXGPwFmi0xpt8c/59seKbIVyT8gQ263A0LKP1Nv113QSMs/Jnbl18gxzD/0MWq3ggfNP0nMlb+r0M0/YoLsiYSTzj/h574lSlLPPwSpAkRGCdA/+CBztZNt0D9jRXWYqNfQP7jA8OzgTNE/6Zb9aE/X0T+Kv6TF3ITSP3gNCY25ddM/Gnz4vsq41D+nyXpLiPHVPwbIUE6/J9Y/BYUEMIzg1D9mTDQ/UeHSPzUEpGrgRNE/SqNK5G2y0D+km+/M4ynRP09n/aZ/HtI/bf/HkQEn0z8QdtpOFDDUP+p03H7rU9U/+CHJ0VO+1j+6yEiKJOfYP6LiH2LfleE/\",\"dtype\":\"float64\",\"shape\":[75]},\"y\":{\"__ndarray__\":\"GhExyth1ND/Sv8nbtpRIP2vylNV0PVE/aTum7souWD/At0SJ8fVgPw3Iuahxymc/MSNhhJWvcD/bTfBN02d3P2zb5nxnaoA/CD5h5MAGhz8NmeH1TyaQP+zrCsc9p5Y/LbKd76fGnz/bLW5ISEmmPww9YvTcQq8/JV2OstnstT8Er5Y7M8G+P0c+r3jqkcU/5h99k6ZBzj88bCIzFzjVP4enV8oyxN0//yH99nXg5D8qOpLLf0jtP5kqGJXUifQ/c9cS8kHP/D+/DpwzojQEQIEmwoanVwxA4lgXt9HgE0BSSZ2AJuIbQAMJih9jjiNA5q4l5INuK0AwTKYKRj0zQNv5fmq8/DpAaCJseHrtQkB/+zpwzoxKQM3MzMzMeFJAZmZmZmZqWEAAAAAAAFxeQM3MzMzMJmJAmpmZmZkfZUBmZmZmZhhoQDMzMzMzEWtAAAAAAAAKbkBmZmZmZoFwQM3MzMzM/XFAMzMzMzN6c0CamZmZmfZ0QAAAAAAAc3ZAZmZmZmbvd0DNzMzMzGt5QDMzMzMz6HpAmpmZmZlkfEAAAAAAAOF9QGZmZmZmXX9AZmZmZuZsgECamZmZGSuBQM3MzMxM6YFAAAAAAICngkAzMzMzs2WDQGZmZmbmI4RAmpmZmRnihEDNzMzMTKCFQAAAAACAXoZAMzMzM7Mch0BmZmZm5tqHQJqZmZkZmYhAzczMzExXiUAAAAAAgBWKQDMzMzOz04pAZmZmZuaRi0CamZmZGVCMQM3MzMxMDo1AAAAAAIDMjUAzMzMzs4qOQGZmZmbmSI9A\",\"dtype\":\"float64\",\"shape\":[75]}},\"selected\":{\"id\":\"562e7bfb-695b-42c2-a63f-640a02a44ad2\",\"type\":\"Selection\"},\"selection_policy\":{\"id\":\"b569fe63-9dd7-492c-b2da-bec140e85346\",\"type\":\"UnionRenderers\"}},\"id\":\"5cedc7cb-b3b5-4d56-8eaf-fa8c79e4f5d6\",\"type\":\"ColumnDataSource\"},{\"attributes\":{\"source\":{\"id\":\"f851047f-06d6-49e9-af1b-2775f6375cf3\",\"type\":\"ColumnDataSource\"}},\"id\":\"e2602af5-fa0a-440f-bdf0-52f11380630e\",\"type\":\"CDSView\"},{\"attributes\":{},\"id\":\"a397d59f-6d14-4336-9d76-87aa69bf6f41\",\"type\":\"LinearScale\"},{\"attributes\":{\"data_source\":{\"id\":\"94f1d4e9-9a89-4e8e-865a-0fa33c84fbdb\",\"type\":\"ColumnDataSource\"},\"glyph\":{\"id\":\"b893a65d-86a0-43a4-98f8-1258853b1b9b\",\"type\":\"Line\"},\"hover_glyph\":null,\"muted_glyph\":null,\"nonselection_glyph\":{\"id\":\"a9d40a9b-27b1-405c-b592-4725617f82cb\",\"type\":\"Line\"},\"selection_glyph\":null,\"view\":{\"id\":\"d03ba774-462b-49c6-9ff1-e195fc0cda45\",\"type\":\"CDSView\"}},\"id\":\"6966e085-34d1-40e0-af58-d30d412f2929\",\"type\":\"GlyphRenderer\"},{\"attributes\":{\"plot\":{\"id\":\"ec2ec19c-0ad2-4c5a-8b7f-67f616dd26f3\",\"subtype\":\"Figure\",\"type\":\"Plot\"},\"ticker\":{\"id\":\"4a71a76c-2b17-44e3-92f0-9fb350c29377\",\"type\":\"BasicTicker\"}},\"id\":\"4a80262f-b9be-4f07-b63e-f116c775c978\",\"type\":\"Grid\"},{\"attributes\":{\"fill_alpha\":{\"value\":0.7},\"fill_color\":{\"value\":\"#4daf4a\"},\"line_alpha\":{\"value\":0.7},\"line_color\":{\"value\":\"#4daf4a\"},\"x\":{\"field\":\"x\"},\"y\":{\"field\":\"y\"}},\"id\":\"2ebfec8d-5c19-4f88-960f-14ef23f3a6e4\",\"type\":\"Circle\"},{\"attributes\":{\"items\":[{\"id\":\"4e2157a6-612f-4adb-8ca7-2b8c13343810\",\"type\":\"LegendItem\"},{\"id\":\"de3cabcd-7e6a-4371-bf99-659dd81b5519\",\"type\":\"LegendItem\"}],\"label_text_font_size\":{\"value\":\"8pt\"},\"location\":\"top_center\",\"orientation\":\"horizontal\",\"plot\":{\"id\":\"72f6a39e-e3ed-4bd6-bfd5-81085505f140\",\"subtype\":\"Figure\",\"type\":\"Plot\"}},\"id\":\"92e3a579-dce3-4a9b-a1d8-2887909e978a\",\"type\":\"Legend\"},{\"attributes\":{\"callback\":null,\"end\":9.03519060042464,\"start\":-0.46588465182064},\"id\":\"7ac23dfc-1451-47f2-af41-d7d703fea5d1\",\"type\":\"Range1d\"},{\"attributes\":{\"callback\":null,\"data\":{\"x\":{\"__ndarray__\":\"XtGHGe5rU0AhI5ak4dVEQCHwZtVX90BAVl0Z1iEWO0DM/F41sl01QO4nLsZ1yjBAtIOfiT17KkDpjFSAzw4lQDx7Lq2J5yBAiDG8pGROG0ALpCecqvsVQJQd2VDRThFAiMjyczRICUCJZCf18Pb6P129EJnnafM/PLAiSrmRAEDjTNdGTOgHQALkkDIGlQ1AKVCqLmO/EUAr/95Gg2QVQI2gO7nr1hpAlP7xhh6KIUBgzDNvU+IhQI0kwNIeLx5AB2XM1ht7GUCVwCP7L3oUQOjecKrKtRBALssD5QHpC0D8TeAbQHMHQMj2Gd/wjgNAicZikzQCAEAS9eGvNnv5P8RrCcnlqfM/smZzKWdt7j+AiDkz2kzhP84fkaABEZI/DVIC1Yar1b/6YKlvJPvQv/Rj+wbxs0g/u1u/sBdHsj9Jqf0NeFK8P5Q+pwYIkME/Iy/p8ZAXxD8CIwZoiRXGPwFmi0xpt8c/59seKbIVyT8gQ263A0LKP1Nv113QSMs/Jnbl18gxzD/0MWq3ggfNP0nMlb+r0M0/YoLsiYSTzj/h574lSlLPPwSpAkRGCdA/+CBztZNt0D9jRXWYqNfQP7jA8OzgTNE/6Zb9aE/X0T+Kv6TF3ITSP3gNCY25ddM/Gnz4vsq41D+nyXpLiPHVPwbIUE6/J9Y/BYUEMIzg1D9mTDQ/UeHSPzUEpGrgRNE/SqNK5G2y0D+km+/M4ynRP09n/aZ/HtI/bf/HkQEn0z8QdtpOFDDUP+p03H7rU9U/+CHJ0VO+1j+6yEiKJOfYP6LiH2LfleE/\",\"dtype\":\"float64\",\"shape\":[75]},\"y\":{\"__ndarray__\":\"GhExyth1ND/Sv8nbtpRIP2vylNV0PVE/aTum7souWD/At0SJ8fVgPw3Iuahxymc/MSNhhJWvcD/bTfBN02d3P2zb5nxnaoA/CD5h5MAGhz8NmeH1TyaQP+zrCsc9p5Y/LbKd76fGnz/bLW5ISEmmPww9YvTcQq8/JV2OstnstT8Er5Y7M8G+P0c+r3jqkcU/5h99k6ZBzj88bCIzFzjVP4enV8oyxN0//yH99nXg5D8qOpLLf0jtP5kqGJXUifQ/c9cS8kHP/D+/DpwzojQEQIEmwoanVwxA4lgXt9HgE0BSSZ2AJuIbQAMJih9jjiNA5q4l5INuK0AwTKYKRj0zQNv5fmq8/DpAaCJseHrtQkB/+zpwzoxKQM3MzMzMeFJAZmZmZmZqWEAAAAAAAFxeQM3MzMzMJmJAmpmZmZkfZUBmZmZmZhhoQDMzMzMzEWtAAAAAAAAKbkBmZmZmZoFwQM3MzMzM/XFAMzMzMzN6c0CamZmZmfZ0QAAAAAAAc3ZAZmZmZmbvd0DNzMzMzGt5QDMzMzMz6HpAmpmZmZlkfEAAAAAAAOF9QGZmZmZmXX9AZmZmZuZsgECamZmZGSuBQM3MzMxM6YFAAAAAAICngkAzMzMzs2WDQGZmZmbmI4RAmpmZmRnihEDNzMzMTKCFQAAAAACAXoZAMzMzM7Mch0BmZmZm5tqHQJqZmZkZmYhAzczMzExXiUAAAAAAgBWKQDMzMzOz04pAZmZmZuaRi0CamZmZGVCMQM3MzMxMDo1AAAAAAIDMjUAzMzMzs4qOQGZmZmbmSI9A\",\"dtype\":\"float64\",\"shape\":[75]}},\"selected\":{\"id\":\"2cbfe5cd-9be4-4270-9f9c-ee04bce70736\",\"type\":\"Selection\"},\"selection_policy\":{\"id\":\"12feefe2-b83b-46ca-ad14-ec07ee992c49\",\"type\":\"UnionRenderers\"}},\"id\":\"f851047f-06d6-49e9-af1b-2775f6375cf3\",\"type\":\"ColumnDataSource\"},{\"attributes\":{\"data_source\":{\"id\":\"5cedc7cb-b3b5-4d56-8eaf-fa8c79e4f5d6\",\"type\":\"ColumnDataSource\"},\"glyph\":{\"id\":\"2ebfec8d-5c19-4f88-960f-14ef23f3a6e4\",\"type\":\"Circle\"},\"hover_glyph\":null,\"muted_glyph\":null,\"nonselection_glyph\":{\"id\":\"dd15a59c-88b5-4ecd-bd7a-284c1b9a5ecd\",\"type\":\"Circle\"},\"selection_glyph\":null,\"view\":{\"id\":\"d96bb91a-088a-4d39-935d-49c9b7df97dd\",\"type\":\"CDSView\"}},\"id\":\"6f9844e5-bbe3-4398-9283-53a956e9419e\",\"type\":\"GlyphRenderer\"},{\"attributes\":{\"fill_alpha\":{\"value\":0.1},\"fill_color\":{\"value\":\"#1f77b4\"},\"line_alpha\":{\"value\":0.1},\"line_color\":{\"value\":\"#1f77b4\"},\"x\":{\"field\":\"x\"},\"y\":{\"field\":\"y\"}},\"id\":\"dd15a59c-88b5-4ecd-bd7a-284c1b9a5ecd\",\"type\":\"Circle\"},{\"attributes\":{},\"id\":\"de5f6a2d-c518-40e5-8f97-c6ce6eddd8b9\",\"type\":\"PanTool\"},{\"attributes\":{\"callback\":null,\"end\":0.26245584028143576,\"start\":-0.6652815386304362},\"id\":\"0d71c71d-28ae-49bb-b0e0-17562af07156\",\"type\":\"Range1d\"},{\"attributes\":{\"line_alpha\":0.1,\"line_color\":\"#1f77b4\",\"line_dash\":[6],\"line_width\":5,\"x\":{\"field\":\"x\"},\"y\":{\"field\":\"y\"}},\"id\":\"a9d40a9b-27b1-405c-b592-4725617f82cb\",\"type\":\"Line\"},{\"attributes\":{\"label\":{\"value\":\"CLIRAD\"},\"renderers\":[{\"id\":\"03c34895-3d07-4b6b-9c33-df1b149cf20c\",\"type\":\"GlyphRenderer\"}]},\"id\":\"925a84d6-f34b-4e4f-81c3-ac6d50b740db\",\"type\":\"LegendItem\"},{\"attributes\":{\"callback\":null,\"data\":{\"x\":{\"__ndarray__\":\"52+IGjihS0DeLix8DglFQMqj/2qOPUJAa3wG/BbvPUD25gJElxM3QKjQxwYhyDBAYgfuWonsJ0B0ToQAcNYhQP7M7luj8hxAVkG6ZnWuGED0ZNDia5QUQLBXylDuEhBALQONpCQPBkDpZRFcvpT0P4NUYMJVd+0//rPqW/RK/z9Lj2OY56wIQLGWkQDomw9Ao5D80aapEkBgBO9Vu0EVQED2CxFPaRlA+WdwHkGbIECyHLLT4GUhQMxVSWZp7h1AKItguzLfGEC4EG+TDZITQJ0ngr2CuxBANHrVNdxnDUCbxIKfe7MIQPwa1gdjDgRANIim4152AEBqmikNMjb5P1VWrMBdG/M/SHgGGRgI8D8pd9xGvDLjP55yPkOBJnc/2oLOruva17+0UkQiBhzRv1ocQ44wEZA/Ma9V2lgEtD9NNvvKXhK9P9dfaJI1msE/jAf1m+uOwz+/QLxp1K7EP5TZZkPzYsU/U9oVDET1xT+jO+TE4IPGP0+evTFHYcc/QXtfNR1HyD/9IovMI2fJP3bmQayYs8o/MXdmZdzhyz/UsWvLaF7NP3URw2BEkM4/F3xCSRQQ0D9EplZBB6vQP70QzLtsZ9E//HIkQMQd0j+R1Nt/zvTSP3s4e8K2B9Q/DgeI0Khj1T8bVdRJx6/WP5sik9aX4dY/PBOf3U+t1T8Nm41Fdq3TP2UWRIwuEtI/YoTZoFN00T8NT0MdXPbRPzMiS0Fb4NI/owWM2CXW0z+UcoWbNvHUPzlp3IuPDtY/6jeeDi5t1z+YrtziTLnZPw1DiIQf5+E/\",\"dtype\":\"float64\",\"shape\":[75]},\"y\":{\"__ndarray__\":\"GhExyth1ND/Sv8nbtpRIP2vylNV0PVE/aTum7souWD/At0SJ8fVgPw3Iuahxymc/MSNhhJWvcD/bTfBN02d3P2zb5nxnaoA/CD5h5MAGhz8NmeH1TyaQP+zrCsc9p5Y/LbKd76fGnz/bLW5ISEmmPww9YvTcQq8/JV2OstnstT8Er5Y7M8G+P0c+r3jqkcU/5h99k6ZBzj88bCIzFzjVP4enV8oyxN0//yH99nXg5D8qOpLLf0jtP5kqGJXUifQ/c9cS8kHP/D+/DpwzojQEQIEmwoanVwxA4lgXt9HgE0BSSZ2AJuIbQAMJih9jjiNA5q4l5INuK0AwTKYKRj0zQNv5fmq8/DpAaCJseHrtQkB/+zpwzoxKQM3MzMzMeFJAZmZmZmZqWEAAAAAAAFxeQM3MzMzMJmJAmpmZmZkfZUBmZmZmZhhoQDMzMzMzEWtAAAAAAAAKbkBmZmZmZoFwQM3MzMzM/XFAMzMzMzN6c0CamZmZmfZ0QAAAAAAAc3ZAZmZmZmbvd0DNzMzMzGt5QDMzMzMz6HpAmpmZmZlkfEAAAAAAAOF9QGZmZmZmXX9AZmZmZuZsgECamZmZGSuBQM3MzMxM6YFAAAAAAICngkAzMzMzs2WDQGZmZmbmI4RAmpmZmRnihEDNzMzMTKCFQAAAAACAXoZAMzMzM7Mch0BmZmZm5tqHQJqZmZkZmYhAzczMzExXiUAAAAAAgBWKQDMzMzOz04pAZmZmZuaRi0CamZmZGVCMQM3MzMxMDo1AAAAAAIDMjUAzMzMzs4qOQGZmZmbmSI9A\",\"dtype\":\"float64\",\"shape\":[75]}},\"selected\":{\"id\":\"ba1d3a58-976e-448b-ab9f-88535a2cdac1\",\"type\":\"Selection\"},\"selection_policy\":{\"id\":\"a2304424-331d-415b-b97d-8f4e5992b900\",\"type\":\"UnionRenderers\"}},\"id\":\"94f1d4e9-9a89-4e8e-865a-0fa33c84fbdb\",\"type\":\"ColumnDataSource\"},{\"attributes\":{\"source\":{\"id\":\"94f1d4e9-9a89-4e8e-865a-0fa33c84fbdb\",\"type\":\"ColumnDataSource\"}},\"id\":\"d03ba774-462b-49c6-9ff1-e195fc0cda45\",\"type\":\"CDSView\"},{\"attributes\":{\"data_source\":{\"id\":\"f851047f-06d6-49e9-af1b-2775f6375cf3\",\"type\":\"ColumnDataSource\"},\"glyph\":{\"id\":\"96f2bc4e-7ec4-4789-87ca-4472784203e5\",\"type\":\"Line\"},\"hover_glyph\":null,\"muted_glyph\":null,\"nonselection_glyph\":{\"id\":\"4eff2cef-499b-429d-af23-bca30d89d2b4\",\"type\":\"Line\"},\"selection_glyph\":null,\"view\":{\"id\":\"e2602af5-fa0a-440f-bdf0-52f11380630e\",\"type\":\"CDSView\"}},\"id\":\"7a984ad4-e08e-49be-b43c-8ae400d3d8af\",\"type\":\"GlyphRenderer\"},{\"attributes\":{\"data_source\":{\"id\":\"2188e113-4faa-499d-bc60-c725338a8b48\",\"type\":\"ColumnDataSource\"},\"glyph\":{\"id\":\"b5ba7b16-c4a0-4816-b5ea-6b14b146dc5c\",\"type\":\"Circle\"},\"hover_glyph\":null,\"muted_glyph\":null,\"nonselection_glyph\":{\"id\":\"f58cd1ba-5b14-4d91-817b-ad9630a49c44\",\"type\":\"Circle\"},\"selection_glyph\":null,\"view\":{\"id\":\"df71e7b1-872f-4e90-8239-9e44b9c241ba\",\"type\":\"CDSView\"}},\"id\":\"7fd82ad0-a224-4892-89c7-c69bc2006d60\",\"type\":\"GlyphRenderer\"},{\"attributes\":{\"label\":{\"value\":\"CRD\"},\"renderers\":[{\"id\":\"6f9844e5-bbe3-4398-9283-53a956e9419e\",\"type\":\"GlyphRenderer\"},{\"id\":\"7a984ad4-e08e-49be-b43c-8ae400d3d8af\",\"type\":\"GlyphRenderer\"}]},\"id\":\"d5533666-0594-4adf-8e63-55b881cc58cc\",\"type\":\"LegendItem\"},{\"attributes\":{\"bottom_units\":\"screen\",\"fill_alpha\":{\"value\":0.5},\"fill_color\":{\"value\":\"lightgrey\"},\"left_units\":\"screen\",\"level\":\"overlay\",\"line_alpha\":{\"value\":1.0},\"line_color\":{\"value\":\"black\"},\"line_dash\":[4,4],\"line_width\":{\"value\":2},\"plot\":null,\"render_mode\":\"css\",\"right_units\":\"screen\",\"top_units\":\"screen\"},\"id\":\"4d488cf5-5a5d-4a85-8e26-10729426f8a4\",\"type\":\"BoxAnnotation\"},{\"attributes\":{\"label\":{\"value\":\"CLIRAD\"},\"renderers\":[{\"id\":\"6966e085-34d1-40e0-af58-d30d412f2929\",\"type\":\"GlyphRenderer\"}]},\"id\":\"4e2157a6-612f-4adb-8ca7-2b8c13343810\",\"type\":\"LegendItem\"},{\"attributes\":{},\"id\":\"c41ef416-869f-4a9e-a0b3-0159a71ce825\",\"type\":\"SaveTool\"},{\"attributes\":{\"active_drag\":\"auto\",\"active_inspect\":\"auto\",\"active_scroll\":\"auto\",\"active_tap\":\"auto\",\"tools\":[{\"id\":\"de5f6a2d-c518-40e5-8f97-c6ce6eddd8b9\",\"type\":\"PanTool\"},{\"id\":\"e76ec568-b8b2-4c9f-813b-7a6b982af7d8\",\"type\":\"WheelZoomTool\"},{\"id\":\"594b98e9-92cc-4635-bb06-26b3d6e5e2a0\",\"type\":\"BoxZoomTool\"},{\"id\":\"07f94c26-765c-42dc-bcf7-c5925f034647\",\"type\":\"SaveTool\"},{\"id\":\"1c8c2dce-df4e-4b2c-b97b-354de91003b3\",\"type\":\"ResetTool\"},{\"id\":\"9ab68646-9ad4-4ad6-a875-cbeb5e01ce1d\",\"type\":\"HelpTool\"}]},\"id\":\"803e12f8-9bab-4ad8-8ebf-bddeb76ee373\",\"type\":\"Toolbar\"},{\"attributes\":{\"line_color\":\"#4daf4a\",\"line_width\":1.5,\"x\":{\"field\":\"x\"},\"y\":{\"field\":\"y\"}},\"id\":\"17e44d75-a8aa-49c2-b1b2-294a41c13ee5\",\"type\":\"Line\"},{\"attributes\":{\"callback\":null,\"data\":{\"x\":{\"__ndarray__\":\"qmUOMUhtNsCA3gXLa5bZP5A6i1lpYwRAqPhoL6nHBkCgoj7qUF77PwAwujL7pYK/kOKLdaF19L+o84H++8L5v+iluPm/cfO/kIEP8Hn/5L9w8XOV63PWv0Be7AAwvtO/2Coue37I2b+A+ldkyojZv25Mgt/yuNK/oMeqheOHvb8ATYgxapO4P3iVBXAON9A/QA9IanRIzT+AZf13+GOhv9Ck+oLK2da/YNMyEK3b3b+A62vgphzPv0Cwsx1bLbC/4Dt7bSN9w7+g+5X2TATNvwDUIkVM4HY/YPAaDaXtxz/waSc6uAPEPwANCS+K3K8/wGrwEJQKrT8AqhauKEGRv+CtogsB0aG/4J2YiZAsqj+Q6i46IV6uP00Gg5/Cjoi/aIZhziZ7ob8A3XhN2XBgv3WCFgwil44/YDdlmRLUez+AoLGf1/xnPwCGQoIXWzQ/4PKEvqoUcb8wJJ7kT2uGv2hjJEmwo5K/oAxI6HADmb/oO1CUF/GdvyCIzmBJPJ+/KNcvFF1Vn7+4d/hW9wKdv5gun5qY6Ji/iFkwJEGNlb/QYDOlFT6PvzAJJHSCJIi/QDgpDNtfd7+Aj0+Pq1BmvwAFUNvOi1o/wAS3yTWdcT/AQcWNbvx7P2BgRa6mP4I/gF7xMcJbhT+AbjHL38eHP6BSSwgRO4c/4MZRs3WYiT/g1CnLoISJPwBGAjTEqYk/ACPckbc8iD8gbXYKCo+JP4Bct0lzO4g/wMaA2IjkhT+AkF+VSSSIP+CJ/p+BVIc/QL6imkfbhT/Au3wSC0WKP8AaGJoIUIQ/\",\"dtype\":\"float64\",\"shape\":[75]},\"y\":{\"__ndarray__\":\"GhExyth1ND/Sv8nbtpRIP2vylNV0PVE/aTum7souWD/At0SJ8fVgPw3Iuahxymc/MSNhhJWvcD/bTfBN02d3P2zb5nxnaoA/CD5h5MAGhz8NmeH1TyaQP+zrCsc9p5Y/LbKd76fGnz/bLW5ISEmmPww9YvTcQq8/JV2OstnstT8Er5Y7M8G+P0c+r3jqkcU/5h99k6ZBzj88bCIzFzjVP4enV8oyxN0//yH99nXg5D8qOpLLf0jtP5kqGJXUifQ/c9cS8kHP/D+/DpwzojQEQIEmwoanVwxA4lgXt9HgE0BSSZ2AJuIbQAMJih9jjiNA5q4l5INuK0AwTKYKRj0zQNv5fmq8/DpAaCJseHrtQkB/+zpwzoxKQM3MzMzMeFJAZmZmZmZqWEAAAAAAAFxeQM3MzMzMJmJAmpmZmZkfZUBmZmZmZhhoQDMzMzMzEWtAAAAAAAAKbkBmZmZmZoFwQM3MzMzM/XFAMzMzMzN6c0CamZmZmfZ0QAAAAAAAc3ZAZmZmZmbvd0DNzMzMzGt5QDMzMzMz6HpAmpmZmZlkfEAAAAAAAOF9QGZmZmZmXX9AZmZmZuZsgECamZmZGSuBQM3MzMxM6YFAAAAAAICngkAzMzMzs2WDQGZmZmbmI4RAmpmZmRnihEDNzMzMTKCFQAAAAACAXoZAMzMzM7Mch0BmZmZm5tqHQJqZmZkZmYhAzczMzExXiUAAAAAAgBWKQDMzMzOz04pAZmZmZuaRi0CamZmZGVCMQM3MzMxMDo1AAAAAAIDMjUAzMzMzs4qOQGZmZmbmSI9A\",\"dtype\":\"float64\",\"shape\":[75]}},\"selected\":{\"id\":\"e1c77f0a-936c-4a0c-952a-049f821af437\",\"type\":\"Selection\"},\"selection_policy\":{\"id\":\"86610d5f-68bc-4fec-807e-35e32a0afbf4\",\"type\":\"UnionRenderers\"}},\"id\":\"03ec0d3a-9bae-4820-9fb9-2327a4bae487\",\"type\":\"ColumnDataSource\"},{\"attributes\":{\"callback\":null,\"end\":0.01,\"start\":1020},\"id\":\"9d504534-21a7-401a-b499-02370858bc26\",\"type\":\"Range1d\"},{\"attributes\":{\"data_source\":{\"id\":\"16c2a77a-60de-450c-b1a0-bd46eb4c7dd7\",\"type\":\"ColumnDataSource\"},\"glyph\":{\"id\":\"17e44d75-a8aa-49c2-b1b2-294a41c13ee5\",\"type\":\"Line\"},\"hover_glyph\":null,\"muted_glyph\":null,\"nonselection_glyph\":{\"id\":\"7f46aae2-d12c-47b9-bd4c-af14cbb39f9e\",\"type\":\"Line\"},\"selection_glyph\":null,\"view\":{\"id\":\"b58b67b9-9f01-4e13-af5b-56538cd1160f\",\"type\":\"CDSView\"}},\"id\":\"8fd8ac6f-4c02-4585-a6a0-c6f3d7df36e2\",\"type\":\"GlyphRenderer\"},{\"attributes\":{},\"id\":\"8aeadf65-ec01-439c-9e6f-e0d1da29a4d5\",\"type\":\"BasicTicker\"},{\"attributes\":{\"line_alpha\":0.1,\"line_color\":\"#1f77b4\",\"line_width\":1.5,\"x\":{\"field\":\"x\"},\"y\":{\"field\":\"y\"}},\"id\":\"7f46aae2-d12c-47b9-bd4c-af14cbb39f9e\",\"type\":\"Line\"},{\"attributes\":{\"fill_alpha\":{\"value\":0.1},\"fill_color\":{\"value\":\"#1f77b4\"},\"line_alpha\":{\"value\":0.1},\"line_color\":{\"value\":\"#1f77b4\"},\"x\":{\"field\":\"x\"},\"y\":{\"field\":\"y\"}},\"id\":\"f58cd1ba-5b14-4d91-817b-ad9630a49c44\",\"type\":\"Circle\"},{\"attributes\":{\"overlay\":{\"id\":\"4d488cf5-5a5d-4a85-8e26-10729426f8a4\",\"type\":\"BoxAnnotation\"}},\"id\":\"f5ba0589-4800-447e-b6ab-2ff3cf70a945\",\"type\":\"BoxZoomTool\"},{\"attributes\":{},\"id\":\"e2a45bb8-5886-410a-9896-c8fbd983576e\",\"type\":\"LinearScale\"},{\"attributes\":{\"items\":[{\"id\":\"e50ae33f-65db-4c98-8780-4eff4176ea34\",\"type\":\"LegendItem\"}],\"label_text_font_size\":{\"value\":\"8pt\"},\"location\":\"top_center\",\"orientation\":\"horizontal\",\"plot\":{\"id\":\"7f2ed88c-42db-49af-b9b4-3036fb3f880e\",\"subtype\":\"Figure\",\"type\":\"Plot\"}},\"id\":\"5192f1b0-5a59-4107-8b29-7bcdc7e42c2b\",\"type\":\"Legend\"},{\"attributes\":{\"callback\":null,\"data\":{\"x\":{\"__ndarray__\":\"XtGHGe5rU0AhI5ak4dVEQCHwZtVX90BAVl0Z1iEWO0DM/F41sl01QO4nLsZ1yjBAtIOfiT17KkDpjFSAzw4lQDx7Lq2J5yBAiDG8pGROG0ALpCecqvsVQJQd2VDRThFAiMjyczRICUCJZCf18Pb6P129EJnnafM/PLAiSrmRAEDjTNdGTOgHQALkkDIGlQ1AKVCqLmO/EUAr/95Gg2QVQI2gO7nr1hpAlP7xhh6KIUBgzDNvU+IhQI0kwNIeLx5AB2XM1ht7GUCVwCP7L3oUQOjecKrKtRBALssD5QHpC0D8TeAbQHMHQMj2Gd/wjgNAicZikzQCAEAS9eGvNnv5P8RrCcnlqfM/smZzKWdt7j+AiDkz2kzhP84fkaABEZI/DVIC1Yar1b/6YKlvJPvQv/Rj+wbxs0g/u1u/sBdHsj9Jqf0NeFK8P5Q+pwYIkME/Iy/p8ZAXxD8CIwZoiRXGPwFmi0xpt8c/59seKbIVyT8gQ263A0LKP1Nv113QSMs/Jnbl18gxzD/0MWq3ggfNP0nMlb+r0M0/YoLsiYSTzj/h574lSlLPPwSpAkRGCdA/+CBztZNt0D9jRXWYqNfQP7jA8OzgTNE/6Zb9aE/X0T+Kv6TF3ITSP3gNCY25ddM/Gnz4vsq41D+nyXpLiPHVPwbIUE6/J9Y/BYUEMIzg1D9mTDQ/UeHSPzUEpGrgRNE/SqNK5G2y0D+km+/M4ynRP09n/aZ/HtI/bf/HkQEn0z8QdtpOFDDUP+p03H7rU9U/+CHJ0VO+1j+6yEiKJOfYP6LiH2LfleE/\",\"dtype\":\"float64\",\"shape\":[75]},\"y\":{\"__ndarray__\":\"GhExyth1ND/Sv8nbtpRIP2vylNV0PVE/aTum7souWD/At0SJ8fVgPw3Iuahxymc/MSNhhJWvcD/bTfBN02d3P2zb5nxnaoA/CD5h5MAGhz8NmeH1TyaQP+zrCsc9p5Y/LbKd76fGnz/bLW5ISEmmPww9YvTcQq8/JV2OstnstT8Er5Y7M8G+P0c+r3jqkcU/5h99k6ZBzj88bCIzFzjVP4enV8oyxN0//yH99nXg5D8qOpLLf0jtP5kqGJXUifQ/c9cS8kHP/D+/DpwzojQEQIEmwoanVwxA4lgXt9HgE0BSSZ2AJuIbQAMJih9jjiNA5q4l5INuK0AwTKYKRj0zQNv5fmq8/DpAaCJseHrtQkB/+zpwzoxKQM3MzMzMeFJAZmZmZmZqWEAAAAAAAFxeQM3MzMzMJmJAmpmZmZkfZUBmZmZmZhhoQDMzMzMzEWtAAAAAAAAKbkBmZmZmZoFwQM3MzMzM/XFAMzMzMzN6c0CamZmZmfZ0QAAAAAAAc3ZAZmZmZmbvd0DNzMzMzGt5QDMzMzMz6HpAmpmZmZlkfEAAAAAAAOF9QGZmZmZmXX9AZmZmZuZsgECamZmZGSuBQM3MzMxM6YFAAAAAAICngkAzMzMzs2WDQGZmZmbmI4RAmpmZmRnihEDNzMzMTKCFQAAAAACAXoZAMzMzM7Mch0BmZmZm5tqHQJqZmZkZmYhAzczMzExXiUAAAAAAgBWKQDMzMzOz04pAZmZmZuaRi0CamZmZGVCMQM3MzMxMDo1AAAAAAIDMjUAzMzMzs4qOQGZmZmbmSI9A\",\"dtype\":\"float64\",\"shape\":[75]}},\"selected\":{\"id\":\"4279ebc8-2fba-4336-9c55-d06532c92d7d\",\"type\":\"Selection\"},\"selection_policy\":{\"id\":\"572a1b93-d72b-4bb3-b24e-36bb3f85b42f\",\"type\":\"UnionRenderers\"}},\"id\":\"2188e113-4faa-499d-bc60-c725338a8b48\",\"type\":\"ColumnDataSource\"},{\"attributes\":{},\"id\":\"1c8c2dce-df4e-4b2c-b97b-354de91003b3\",\"type\":\"ResetTool\"},{\"attributes\":{\"source\":{\"id\":\"2188e113-4faa-499d-bc60-c725338a8b48\",\"type\":\"ColumnDataSource\"}},\"id\":\"df71e7b1-872f-4e90-8239-9e44b9c241ba\",\"type\":\"CDSView\"},{\"attributes\":{},\"id\":\"a66175f5-ca3c-4003-9cfd-dd22db103462\",\"type\":\"HelpTool\"},{\"attributes\":{\"dimension\":1,\"plot\":{\"id\":\"ec2ec19c-0ad2-4c5a-8b7f-67f616dd26f3\",\"subtype\":\"Figure\",\"type\":\"Plot\"},\"ticker\":{\"id\":\"c57cf26d-1d65-4be8-a989-9680f125aa47\",\"type\":\"LogTicker\"}},\"id\":\"c2d3bf06-543f-4bb4-ad20-6635d2c05256\",\"type\":\"Grid\"},{\"attributes\":{},\"id\":\"07f94c26-765c-42dc-bcf7-c5925f034647\",\"type\":\"SaveTool\"},{\"attributes\":{\"callback\":null,\"end\":0.01,\"start\":1020},\"id\":\"bf442809-1f9e-4437-8aa3-349d2e7bf5b9\",\"type\":\"Range1d\"},{\"attributes\":{\"fill_alpha\":{\"value\":0.7},\"fill_color\":{\"value\":\"#984ea3\"},\"line_alpha\":{\"value\":0.7},\"line_color\":{\"value\":\"#984ea3\"},\"x\":{\"field\":\"x\"},\"y\":{\"field\":\"y\"}},\"id\":\"e7c4d785-698c-43ff-8629-8d16302c6842\",\"type\":\"Circle\"},{\"attributes\":{},\"id\":\"13bb3b1a-732c-466c-ad3b-9bf8f61a645c\",\"type\":\"ResetTool\"},{\"attributes\":{\"active_drag\":\"auto\",\"active_inspect\":\"auto\",\"active_scroll\":\"auto\",\"active_tap\":\"auto\",\"tools\":[{\"id\":\"71cf40aa-09d1-4d40-989c-46bf62a83429\",\"type\":\"PanTool\"},{\"id\":\"ea3fd61f-4574-4bf1-a9f7-71614c74a837\",\"type\":\"WheelZoomTool\"},{\"id\":\"e0e5018e-2b93-467d-afc1-2ff23a4bf221\",\"type\":\"BoxZoomTool\"},{\"id\":\"f50144c3-4a3f-45fb-b5b1-1c6c70fd7c83\",\"type\":\"SaveTool\"},{\"id\":\"be7474ee-3d7d-4259-a5a2-1ee93112457a\",\"type\":\"ResetTool\"},{\"id\":\"59210164-d4d5-4cc1-94f3-46277387e335\",\"type\":\"HelpTool\"}]},\"id\":\"1077e92d-cc6c-4ec6-b387-375a41e64cb4\",\"type\":\"Toolbar\"},{\"attributes\":{\"children\":[{\"id\":\"5fa16c25-c545-4c22-a0cd-2c853f19b40f\",\"type\":\"Row\"}]},\"id\":\"23911c99-a9c5-4589-94ab-fea82d876312\",\"type\":\"Column\"},{\"attributes\":{\"label\":{\"value\":\"CRD\"},\"renderers\":[{\"id\":\"7fd82ad0-a224-4892-89c7-c69bc2006d60\",\"type\":\"GlyphRenderer\"},{\"id\":\"8fd8ac6f-4c02-4585-a6a0-c6f3d7df36e2\",\"type\":\"GlyphRenderer\"}]},\"id\":\"de3cabcd-7e6a-4371-bf99-659dd81b5519\",\"type\":\"LegendItem\"},{\"attributes\":{},\"id\":\"9ab68646-9ad4-4ad6-a875-cbeb5e01ce1d\",\"type\":\"HelpTool\"},{\"attributes\":{},\"id\":\"c603cda5-6217-46e4-9cc7-cf4e3b24a3d6\",\"type\":\"LogScale\"},{\"attributes\":{\"plot\":{\"id\":\"72f6a39e-e3ed-4bd6-bfd5-81085505f140\",\"subtype\":\"Figure\",\"type\":\"Plot\"},\"ticker\":{\"id\":\"8aeadf65-ec01-439c-9e6f-e0d1da29a4d5\",\"type\":\"BasicTicker\"}},\"id\":\"a23b4092-3e22-4a2a-8f3e-057989f0d58b\",\"type\":\"Grid\"},{\"attributes\":{\"children\":[{\"id\":\"72f6a39e-e3ed-4bd6-bfd5-81085505f140\",\"subtype\":\"Figure\",\"type\":\"Plot\"},{\"id\":\"ec2ec19c-0ad2-4c5a-8b7f-67f616dd26f3\",\"subtype\":\"Figure\",\"type\":\"Plot\"},{\"id\":\"7f2ed88c-42db-49af-b9b4-3036fb3f880e\",\"subtype\":\"Figure\",\"type\":\"Plot\"}]},\"id\":\"5fa16c25-c545-4c22-a0cd-2c853f19b40f\",\"type\":\"Row\"},{\"attributes\":{},\"id\":\"2cf0eadf-febe-4f6c-a21c-1307619e0c23\",\"type\":\"LogScale\"},{\"attributes\":{\"data_source\":{\"id\":\"c6df4d9a-c76e-4b9e-b164-bf042b656ff8\",\"type\":\"ColumnDataSource\"},\"glyph\":{\"id\":\"5faa8c9a-3d04-4222-8bce-b4979a585b83\",\"type\":\"Line\"},\"hover_glyph\":null,\"muted_glyph\":null,\"nonselection_glyph\":{\"id\":\"25d6ad37-b5f6-4fa8-aa8a-2d801f3420b5\",\"type\":\"Line\"},\"selection_glyph\":null,\"view\":{\"id\":\"a47ec61b-2c19-4f10-981d-4e139e4e551b\",\"type\":\"CDSView\"}},\"id\":\"9df71b6e-8484-4c73-8ada-65b5ecb7323b\",\"type\":\"GlyphRenderer\"},{\"attributes\":{\"dimension\":1,\"plot\":{\"id\":\"7f2ed88c-42db-49af-b9b4-3036fb3f880e\",\"subtype\":\"Figure\",\"type\":\"Plot\"},\"ticker\":{\"id\":\"316056ea-a652-4fc6-8509-5a5b5a93fb15\",\"type\":\"LogTicker\"}},\"id\":\"b5163e7d-74c2-40aa-bffe-078ec38cdad0\",\"type\":\"Grid\"},{\"attributes\":{\"callback\":null,\"end\":0.6096700944823,\"start\":-0.3824636567123},\"id\":\"2244cd96-8202-4408-8f9f-88284e847bab\",\"type\":\"Range1d\"},{\"attributes\":{},\"id\":\"4a71a76c-2b17-44e3-92f0-9fb350c29377\",\"type\":\"BasicTicker\"},{\"attributes\":{\"num_minor_ticks\":10},\"id\":\"316056ea-a652-4fc6-8509-5a5b5a93fb15\",\"type\":\"LogTicker\"},{\"attributes\":{\"axis_label\":\"cooling rate [K/day]\",\"formatter\":{\"id\":\"592f5474-ed06-4f81-b5d7-0e3be5710182\",\"type\":\"BasicTickFormatter\"},\"plot\":{\"id\":\"ec2ec19c-0ad2-4c5a-8b7f-67f616dd26f3\",\"subtype\":\"Figure\",\"type\":\"Plot\"},\"ticker\":{\"id\":\"4a71a76c-2b17-44e3-92f0-9fb350c29377\",\"type\":\"BasicTicker\"}},\"id\":\"836ddfe6-81f4-4aeb-8f59-02f47dbe4ea3\",\"type\":\"LinearAxis\"},{\"attributes\":{\"axis_label\":\"pressure [mb]\",\"formatter\":{\"id\":\"b4bef058-8ebb-4f2c-9506-98f4c8e19954\",\"type\":\"LogTickFormatter\"},\"plot\":{\"id\":\"7f2ed88c-42db-49af-b9b4-3036fb3f880e\",\"subtype\":\"Figure\",\"type\":\"Plot\"},\"ticker\":{\"id\":\"316056ea-a652-4fc6-8509-5a5b5a93fb15\",\"type\":\"LogTicker\"}},\"id\":\"a5e60937-8887-4d1c-a517-49f7aeab4a01\",\"type\":\"LogAxis\"},{\"attributes\":{\"above\":[{\"id\":\"92e3a579-dce3-4a9b-a1d8-2887909e978a\",\"type\":\"Legend\"}],\"below\":[{\"id\":\"26464ee6-f399-47d4-8476-70a5c62d5217\",\"type\":\"LinearAxis\"}],\"left\":[{\"id\":\"3d9dfe0a-9704-4228-a5d4-523405bba919\",\"type\":\"LinearAxis\"}],\"plot_width\":300,\"renderers\":[{\"id\":\"26464ee6-f399-47d4-8476-70a5c62d5217\",\"type\":\"LinearAxis\"},{\"id\":\"a23b4092-3e22-4a2a-8f3e-057989f0d58b\",\"type\":\"Grid\"},{\"id\":\"3d9dfe0a-9704-4228-a5d4-523405bba919\",\"type\":\"LinearAxis\"},{\"id\":\"e0d5ed66-72fd-4f86-925e-6044ea4260c2\",\"type\":\"Grid\"},{\"id\":\"5184b39a-85e7-42ae-9af1-ac3c8c1a70db\",\"type\":\"BoxAnnotation\"},{\"id\":\"6966e085-34d1-40e0-af58-d30d412f2929\",\"type\":\"GlyphRenderer\"},{\"id\":\"7fd82ad0-a224-4892-89c7-c69bc2006d60\",\"type\":\"GlyphRenderer\"},{\"id\":\"8fd8ac6f-4c02-4585-a6a0-c6f3d7df36e2\",\"type\":\"GlyphRenderer\"},{\"id\":\"92e3a579-dce3-4a9b-a1d8-2887909e978a\",\"type\":\"Legend\"}],\"title\":{\"id\":\"187941a2-abe5-4661-80c7-5cd9c822e9a5\",\"type\":\"Title\"},\"toolbar\":{\"id\":\"803e12f8-9bab-4ad8-8ebf-bddeb76ee373\",\"type\":\"Toolbar\"},\"toolbar_location\":null,\"x_range\":{\"id\":\"2244cd96-8202-4408-8f9f-88284e847bab\",\"type\":\"Range1d\"},\"x_scale\":{\"id\":\"0c3bf91e-3ee5-46df-b9fd-a3c3373d8765\",\"type\":\"LinearScale\"},\"y_range\":{\"id\":\"bf442809-1f9e-4437-8aa3-349d2e7bf5b9\",\"type\":\"Range1d\"},\"y_scale\":{\"id\":\"e2a45bb8-5886-410a-9896-c8fbd983576e\",\"type\":\"LinearScale\"}},\"id\":\"72f6a39e-e3ed-4bd6-bfd5-81085505f140\",\"subtype\":\"Figure\",\"type\":\"Plot\"},{\"attributes\":{},\"id\":\"15207448-f734-41b3-9fa3-6ad1f56ce82b\",\"type\":\"BasicTicker\"},{\"attributes\":{},\"id\":\"0c3bf91e-3ee5-46df-b9fd-a3c3373d8765\",\"type\":\"LinearScale\"},{\"attributes\":{\"axis_label\":\"cooling rate [K/day]\",\"formatter\":{\"id\":\"4b01e395-c93f-4ac0-8718-fd84d8c0d1bc\",\"type\":\"BasicTickFormatter\"},\"plot\":{\"id\":\"7f2ed88c-42db-49af-b9b4-3036fb3f880e\",\"subtype\":\"Figure\",\"type\":\"Plot\"},\"ticker\":{\"id\":\"15207448-f734-41b3-9fa3-6ad1f56ce82b\",\"type\":\"BasicTicker\"}},\"id\":\"12afe962-e032-484f-91fe-446afb53704d\",\"type\":\"LinearAxis\"},{\"attributes\":{\"callback\":null,\"data\":{\"x\":{\"__ndarray__\":\"52+IGjihS0DeLix8DglFQMqj/2qOPUJAa3wG/BbvPUD25gJElxM3QKjQxwYhyDBAYgfuWonsJ0B0ToQAcNYhQP7M7luj8hxAVkG6ZnWuGED0ZNDia5QUQLBXylDuEhBALQONpCQPBkDpZRFcvpT0P4NUYMJVd+0//rPqW/RK/z9Lj2OY56wIQLGWkQDomw9Ao5D80aapEkBgBO9Vu0EVQED2CxFPaRlA+WdwHkGbIECyHLLT4GUhQMxVSWZp7h1AKItguzLfGEC4EG+TDZITQJ0ngr2CuxBANHrVNdxnDUCbxIKfe7MIQPwa1gdjDgRANIim4152AEBqmikNMjb5P1VWrMBdG/M/SHgGGRgI8D8pd9xGvDLjP55yPkOBJnc/2oLOruva17+0UkQiBhzRv1ocQ44wEZA/Ma9V2lgEtD9NNvvKXhK9P9dfaJI1msE/jAf1m+uOwz+/QLxp1K7EP5TZZkPzYsU/U9oVDET1xT+jO+TE4IPGP0+evTFHYcc/QXtfNR1HyD/9IovMI2fJP3bmQayYs8o/MXdmZdzhyz/UsWvLaF7NP3URw2BEkM4/F3xCSRQQ0D9EplZBB6vQP70QzLtsZ9E//HIkQMQd0j+R1Nt/zvTSP3s4e8K2B9Q/DgeI0Khj1T8bVdRJx6/WP5sik9aX4dY/PBOf3U+t1T8Nm41Fdq3TP2UWRIwuEtI/YoTZoFN00T8NT0MdXPbRPzMiS0Fb4NI/owWM2CXW0z+UcoWbNvHUPzlp3IuPDtY/6jeeDi5t1z+YrtziTLnZPw1DiIQf5+E/\",\"dtype\":\"float64\",\"shape\":[75]},\"y\":{\"__ndarray__\":\"GhExyth1ND/Sv8nbtpRIP2vylNV0PVE/aTum7souWD/At0SJ8fVgPw3Iuahxymc/MSNhhJWvcD/bTfBN02d3P2zb5nxnaoA/CD5h5MAGhz8NmeH1TyaQP+zrCsc9p5Y/LbKd76fGnz/bLW5ISEmmPww9YvTcQq8/JV2OstnstT8Er5Y7M8G+P0c+r3jqkcU/5h99k6ZBzj88bCIzFzjVP4enV8oyxN0//yH99nXg5D8qOpLLf0jtP5kqGJXUifQ/c9cS8kHP/D+/DpwzojQEQIEmwoanVwxA4lgXt9HgE0BSSZ2AJuIbQAMJih9jjiNA5q4l5INuK0AwTKYKRj0zQNv5fmq8/DpAaCJseHrtQkB/+zpwzoxKQM3MzMzMeFJAZmZmZmZqWEAAAAAAAFxeQM3MzMzMJmJAmpmZmZkfZUBmZmZmZhhoQDMzMzMzEWtAAAAAAAAKbkBmZmZmZoFwQM3MzMzM/XFAMzMzMzN6c0CamZmZmfZ0QAAAAAAAc3ZAZmZmZmbvd0DNzMzMzGt5QDMzMzMz6HpAmpmZmZlkfEAAAAAAAOF9QGZmZmZmXX9AZmZmZuZsgECamZmZGSuBQM3MzMxM6YFAAAAAAICngkAzMzMzs2WDQGZmZmbmI4RAmpmZmRnihEDNzMzMTKCFQAAAAACAXoZAMzMzM7Mch0BmZmZm5tqHQJqZmZkZmYhAzczMzExXiUAAAAAAgBWKQDMzMzOz04pAZmZmZuaRi0CamZmZGVCMQM3MzMxMDo1AAAAAAIDMjUAzMzMzs4qOQGZmZmbmSI9A\",\"dtype\":\"float64\",\"shape\":[75]}},\"selected\":{\"id\":\"f31455dd-e01f-4adc-9819-990534de3ec8\",\"type\":\"Selection\"},\"selection_policy\":{\"id\":\"a0177c55-89dc-4d02-a8a3-b750f2e780b9\",\"type\":\"UnionRenderers\"}},\"id\":\"bf6c8dea-1b75-4bb6-9f20-1bd1a7369b11\",\"type\":\"ColumnDataSource\"},{\"attributes\":{},\"id\":\"e76ec568-b8b2-4c9f-813b-7a6b982af7d8\",\"type\":\"WheelZoomTool\"},{\"attributes\":{\"plot\":{\"id\":\"7f2ed88c-42db-49af-b9b4-3036fb3f880e\",\"subtype\":\"Figure\",\"type\":\"Plot\"},\"ticker\":{\"id\":\"15207448-f734-41b3-9fa3-6ad1f56ce82b\",\"type\":\"BasicTicker\"}},\"id\":\"82d59469-b650-4d4e-aee0-427ad9ffe6f5\",\"type\":\"Grid\"},{\"attributes\":{},\"id\":\"ea3fd61f-4574-4bf1-a9f7-71614c74a837\",\"type\":\"WheelZoomTool\"},{\"attributes\":{\"dimension\":1,\"plot\":{\"id\":\"72f6a39e-e3ed-4bd6-bfd5-81085505f140\",\"subtype\":\"Figure\",\"type\":\"Plot\"},\"ticker\":{\"id\":\"e793dd49-6d23-4034-b8b2-0d5b0b64c89b\",\"type\":\"BasicTicker\"}},\"id\":\"e0d5ed66-72fd-4f86-925e-6044ea4260c2\",\"type\":\"Grid\"},{\"attributes\":{\"line_alpha\":0.6,\"line_color\":\"#e41a1c\",\"line_dash\":[6],\"line_width\":5,\"x\":{\"field\":\"x\"},\"y\":{\"field\":\"y\"}},\"id\":\"da4319af-ceef-4d8c-9379-444c5484b1a1\",\"type\":\"Line\"},{\"attributes\":{\"bottom_units\":\"screen\",\"fill_alpha\":{\"value\":0.5},\"fill_color\":{\"value\":\"lightgrey\"},\"left_units\":\"screen\",\"level\":\"overlay\",\"line_alpha\":{\"value\":1.0},\"line_color\":{\"value\":\"black\"},\"line_dash\":[4,4],\"line_width\":{\"value\":2},\"plot\":null,\"render_mode\":\"css\",\"right_units\":\"screen\",\"top_units\":\"screen\"},\"id\":\"5184b39a-85e7-42ae-9af1-ac3c8c1a70db\",\"type\":\"BoxAnnotation\"},{\"attributes\":{\"plot\":null,\"text\":\"\"},\"id\":\"187941a2-abe5-4661-80c7-5cd9c822e9a5\",\"type\":\"Title\"},{\"attributes\":{\"num_minor_ticks\":10},\"id\":\"c57cf26d-1d65-4be8-a989-9680f125aa47\",\"type\":\"LogTicker\"},{\"attributes\":{\"axis_label\":\"pressure [mb]\",\"formatter\":{\"id\":\"3c9bf25c-e8a1-4f95-a1f5-075091cae999\",\"type\":\"LogTickFormatter\"},\"plot\":{\"id\":\"ec2ec19c-0ad2-4c5a-8b7f-67f616dd26f3\",\"subtype\":\"Figure\",\"type\":\"Plot\"},\"ticker\":{\"id\":\"c57cf26d-1d65-4be8-a989-9680f125aa47\",\"type\":\"LogTicker\"}},\"id\":\"ed37eb41-c1a1-42b3-b8d3-3dde5d6343dd\",\"type\":\"LogAxis\"},{\"attributes\":{\"line_alpha\":0.1,\"line_color\":\"#1f77b4\",\"line_dash\":[6],\"line_width\":5,\"x\":{\"field\":\"x\"},\"y\":{\"field\":\"y\"}},\"id\":\"d64a7add-e7cf-4bcb-9b79-6a8a3929358b\",\"type\":\"Line\"},{\"attributes\":{\"overlay\":{\"id\":\"950deb82-0e19-43ba-82e3-afc30bc315b4\",\"type\":\"BoxAnnotation\"}},\"id\":\"e0e5018e-2b93-467d-afc1-2ff23a4bf221\",\"type\":\"BoxZoomTool\"},{\"attributes\":{},\"id\":\"e793dd49-6d23-4034-b8b2-0d5b0b64c89b\",\"type\":\"BasicTicker\"},{\"attributes\":{},\"id\":\"71cf40aa-09d1-4d40-989c-46bf62a83429\",\"type\":\"PanTool\"},{\"attributes\":{\"bottom_units\":\"screen\",\"fill_alpha\":{\"value\":0.5},\"fill_color\":{\"value\":\"lightgrey\"},\"left_units\":\"screen\",\"level\":\"overlay\",\"line_alpha\":{\"value\":1.0},\"line_color\":{\"value\":\"black\"},\"line_dash\":[4,4],\"line_width\":{\"value\":2},\"plot\":null,\"render_mode\":\"css\",\"right_units\":\"screen\",\"top_units\":\"screen\"},\"id\":\"950deb82-0e19-43ba-82e3-afc30bc315b4\",\"type\":\"BoxAnnotation\"},{\"attributes\":{},\"id\":\"f50144c3-4a3f-45fb-b5b1-1c6c70fd7c83\",\"type\":\"SaveTool\"},{\"attributes\":{},\"id\":\"be7474ee-3d7d-4259-a5a2-1ee93112457a\",\"type\":\"ResetTool\"},{\"attributes\":{\"source\":{\"id\":\"16c2a77a-60de-450c-b1a0-bd46eb4c7dd7\",\"type\":\"ColumnDataSource\"}},\"id\":\"b58b67b9-9f01-4e13-af5b-56538cd1160f\",\"type\":\"CDSView\"},{\"attributes\":{},\"id\":\"49180bf0-9ec9-4aef-a0b2-423d108588f8\",\"type\":\"UnionRenderers\"},{\"attributes\":{},\"id\":\"59210164-d4d5-4cc1-94f3-46277387e335\",\"type\":\"HelpTool\"},{\"attributes\":{\"data_source\":{\"id\":\"03ec0d3a-9bae-4820-9fb9-2327a4bae487\",\"type\":\"ColumnDataSource\"},\"glyph\":{\"id\":\"e7c4d785-698c-43ff-8629-8d16302c6842\",\"type\":\"Circle\"},\"hover_glyph\":null,\"muted_glyph\":null,\"nonselection_glyph\":{\"id\":\"8b4045b0-84cc-4edb-ad79-5cb252f84dde\",\"type\":\"Circle\"},\"selection_glyph\":null,\"view\":{\"id\":\"9e6c1d31-5e24-4176-b548-47a715bd0bf8\",\"type\":\"CDSView\"}},\"id\":\"b9e044bc-0e7c-45be-95b5-189a78b06e95\",\"type\":\"GlyphRenderer\"},{\"attributes\":{},\"id\":\"6e22674c-e9cc-4308-b028-6c8a472f6a4b\",\"type\":\"BasicTickFormatter\"},{\"attributes\":{},\"id\":\"572a1b93-d72b-4bb3-b24e-36bb3f85b42f\",\"type\":\"UnionRenderers\"},{\"attributes\":{\"line_alpha\":0.8,\"line_color\":\"#984ea3\",\"line_width\":1.5,\"x\":{\"field\":\"x\"},\"y\":{\"field\":\"y\"}},\"id\":\"5faa8c9a-3d04-4222-8bce-b4979a585b83\",\"type\":\"Line\"},{\"attributes\":{},\"id\":\"9b0cae0f-832a-45d8-a4f3-c7c288ff8f81\",\"type\":\"BasicTickFormatter\"},{\"attributes\":{},\"id\":\"ba1d3a58-976e-448b-ab9f-88535a2cdac1\",\"type\":\"Selection\"},{\"attributes\":{},\"id\":\"a2304424-331d-415b-b97d-8f4e5992b900\",\"type\":\"UnionRenderers\"},{\"attributes\":{},\"id\":\"592f5474-ed06-4f81-b5d7-0e3be5710182\",\"type\":\"BasicTickFormatter\"},{\"attributes\":{},\"id\":\"4b01e395-c93f-4ac0-8718-fd84d8c0d1bc\",\"type\":\"BasicTickFormatter\"},{\"attributes\":{\"fill_alpha\":{\"value\":0.1},\"fill_color\":{\"value\":\"#1f77b4\"},\"line_alpha\":{\"value\":0.1},\"line_color\":{\"value\":\"#1f77b4\"},\"x\":{\"field\":\"x\"},\"y\":{\"field\":\"y\"}},\"id\":\"8b4045b0-84cc-4edb-ad79-5cb252f84dde\",\"type\":\"Circle\"},{\"attributes\":{\"line_alpha\":0.1,\"line_color\":\"#1f77b4\",\"line_width\":1.5,\"x\":{\"field\":\"x\"},\"y\":{\"field\":\"y\"}},\"id\":\"25d6ad37-b5f6-4fa8-aa8a-2d801f3420b5\",\"type\":\"Line\"},{\"attributes\":{\"source\":{\"id\":\"03ec0d3a-9bae-4820-9fb9-2327a4bae487\",\"type\":\"ColumnDataSource\"}},\"id\":\"9e6c1d31-5e24-4176-b548-47a715bd0bf8\",\"type\":\"CDSView\"},{\"attributes\":{},\"id\":\"a0177c55-89dc-4d02-a8a3-b750f2e780b9\",\"type\":\"UnionRenderers\"},{\"attributes\":{\"ticker\":null},\"id\":\"3c9bf25c-e8a1-4f95-a1f5-075091cae999\",\"type\":\"LogTickFormatter\"},{\"attributes\":{},\"id\":\"f155acf9-896a-467a-807e-a77a065271e1\",\"type\":\"Selection\"},{\"attributes\":{},\"id\":\"2cbfe5cd-9be4-4270-9f9c-ee04bce70736\",\"type\":\"Selection\"},{\"attributes\":{},\"id\":\"4279ebc8-2fba-4336-9c55-d06532c92d7d\",\"type\":\"Selection\"},{\"attributes\":{\"callback\":null,\"data\":{\"x\":{\"__ndarray__\":\"qmUOMUhtNsCA3gXLa5bZP5A6i1lpYwRAqPhoL6nHBkCgoj7qUF77PwAwujL7pYK/kOKLdaF19L+o84H++8L5v+iluPm/cfO/kIEP8Hn/5L9w8XOV63PWv0Be7AAwvtO/2Coue37I2b+A+ldkyojZv25Mgt/yuNK/oMeqheOHvb8ATYgxapO4P3iVBXAON9A/QA9IanRIzT+AZf13+GOhv9Ck+oLK2da/YNMyEK3b3b+A62vgphzPv0Cwsx1bLbC/4Dt7bSN9w7+g+5X2TATNvwDUIkVM4HY/YPAaDaXtxz/waSc6uAPEPwANCS+K3K8/wGrwEJQKrT8AqhauKEGRv+CtogsB0aG/4J2YiZAsqj+Q6i46IV6uP00Gg5/Cjoi/aIZhziZ7ob8A3XhN2XBgv3WCFgwil44/YDdlmRLUez+AoLGf1/xnPwCGQoIXWzQ/4PKEvqoUcb8wJJ7kT2uGv2hjJEmwo5K/oAxI6HADmb/oO1CUF/GdvyCIzmBJPJ+/KNcvFF1Vn7+4d/hW9wKdv5gun5qY6Ji/iFkwJEGNlb/QYDOlFT6PvzAJJHSCJIi/QDgpDNtfd7+Aj0+Pq1BmvwAFUNvOi1o/wAS3yTWdcT/AQcWNbvx7P2BgRa6mP4I/gF7xMcJbhT+AbjHL38eHP6BSSwgRO4c/4MZRs3WYiT/g1CnLoISJPwBGAjTEqYk/ACPckbc8iD8gbXYKCo+JP4Bct0lzO4g/wMaA2IjkhT+AkF+VSSSIP+CJ/p+BVIc/QL6imkfbhT/Au3wSC0WKP8AaGJoIUIQ/\",\"dtype\":\"float64\",\"shape\":[75]},\"y\":{\"__ndarray__\":\"GhExyth1ND/Sv8nbtpRIP2vylNV0PVE/aTum7souWD/At0SJ8fVgPw3Iuahxymc/MSNhhJWvcD/bTfBN02d3P2zb5nxnaoA/CD5h5MAGhz8NmeH1TyaQP+zrCsc9p5Y/LbKd76fGnz/bLW5ISEmmPww9YvTcQq8/JV2OstnstT8Er5Y7M8G+P0c+r3jqkcU/5h99k6ZBzj88bCIzFzjVP4enV8oyxN0//yH99nXg5D8qOpLLf0jtP5kqGJXUifQ/c9cS8kHP/D+/DpwzojQEQIEmwoanVwxA4lgXt9HgE0BSSZ2AJuIbQAMJih9jjiNA5q4l5INuK0AwTKYKRj0zQNv5fmq8/DpAaCJseHrtQkB/+zpwzoxKQM3MzMzMeFJAZmZmZmZqWEAAAAAAAFxeQM3MzMzMJmJAmpmZmZkfZUBmZmZmZhhoQDMzMzMzEWtAAAAAAAAKbkBmZmZmZoFwQM3MzMzM/XFAMzMzMzN6c0CamZmZmfZ0QAAAAAAAc3ZAZmZmZmbvd0DNzMzMzGt5QDMzMzMz6HpAmpmZmZlkfEAAAAAAAOF9QGZmZmZmXX9AZmZmZuZsgECamZmZGSuBQM3MzMxM6YFAAAAAAICngkAzMzMzs2WDQGZmZmbmI4RAmpmZmRnihEDNzMzMTKCFQAAAAACAXoZAMzMzM7Mch0BmZmZm5tqHQJqZmZkZmYhAzczMzExXiUAAAAAAgBWKQDMzMzOz04pAZmZmZuaRi0CamZmZGVCMQM3MzMxMDo1AAAAAAIDMjUAzMzMzs4qOQGZmZmbmSI9A\",\"dtype\":\"float64\",\"shape\":[75]}},\"selected\":{\"id\":\"48394cfe-11eb-409c-b190-3d99e846bb67\",\"type\":\"Selection\"},\"selection_policy\":{\"id\":\"a25fb413-bcc0-408a-b08b-2e5e9df35178\",\"type\":\"UnionRenderers\"}},\"id\":\"c6df4d9a-c76e-4b9e-b164-bf042b656ff8\",\"type\":\"ColumnDataSource\"},{\"attributes\":{},\"id\":\"b569fe63-9dd7-492c-b2da-bec140e85346\",\"type\":\"UnionRenderers\"},{\"attributes\":{\"plot\":null,\"text\":\"\"},\"id\":\"6a3ea665-9a84-4ab5-bd8c-d3c0a0df892b\",\"type\":\"Title\"},{\"attributes\":{},\"id\":\"f31455dd-e01f-4adc-9819-990534de3ec8\",\"type\":\"Selection\"},{\"attributes\":{},\"id\":\"562e7bfb-695b-42c2-a63f-640a02a44ad2\",\"type\":\"Selection\"},{\"attributes\":{\"ticker\":null},\"id\":\"b4bef058-8ebb-4f2c-9506-98f4c8e19954\",\"type\":\"LogTickFormatter\"},{\"attributes\":{\"callback\":null,\"end\":0.01,\"start\":1020},\"id\":\"33dc1279-cd02-46b5-91ec-878389b56ce6\",\"type\":\"Range1d\"},{\"attributes\":{},\"id\":\"12feefe2-b83b-46ca-ad14-ec07ee992c49\",\"type\":\"UnionRenderers\"},{\"attributes\":{\"toolbar\":{\"id\":\"181a9ad0-c4b2-48e8-b5bd-c7a49f47ea30\",\"type\":\"ProxyToolbar\"},\"toolbar_location\":\"above\"},\"id\":\"c8863177-b913-440a-9447-35869891efdb\",\"type\":\"ToolbarBox\"},{\"attributes\":{\"above\":[{\"id\":\"5192f1b0-5a59-4107-8b29-7bcdc7e42c2b\",\"type\":\"Legend\"}],\"below\":[{\"id\":\"12afe962-e032-484f-91fe-446afb53704d\",\"type\":\"LinearAxis\"}],\"left\":[{\"id\":\"a5e60937-8887-4d1c-a517-49f7aeab4a01\",\"type\":\"LogAxis\"}],\"plot_width\":300,\"renderers\":[{\"id\":\"12afe962-e032-484f-91fe-446afb53704d\",\"type\":\"LinearAxis\"},{\"id\":\"82d59469-b650-4d4e-aee0-427ad9ffe6f5\",\"type\":\"Grid\"},{\"id\":\"a5e60937-8887-4d1c-a517-49f7aeab4a01\",\"type\":\"LogAxis\"},{\"id\":\"b5163e7d-74c2-40aa-bffe-078ec38cdad0\",\"type\":\"Grid\"},{\"id\":\"950deb82-0e19-43ba-82e3-afc30bc315b4\",\"type\":\"BoxAnnotation\"},{\"id\":\"b9e044bc-0e7c-45be-95b5-189a78b06e95\",\"type\":\"GlyphRenderer\"},{\"id\":\"9df71b6e-8484-4c73-8ada-65b5ecb7323b\",\"type\":\"GlyphRenderer\"},{\"id\":\"5192f1b0-5a59-4107-8b29-7bcdc7e42c2b\",\"type\":\"Legend\"}],\"title\":{\"id\":\"3d2ddeab-381f-4aa9-adc8-3a356a8630ac\",\"type\":\"Title\"},\"toolbar\":{\"id\":\"1077e92d-cc6c-4ec6-b387-375a41e64cb4\",\"type\":\"Toolbar\"},\"toolbar_location\":null,\"x_range\":{\"id\":\"0d71c71d-28ae-49bb-b0e0-17562af07156\",\"type\":\"Range1d\"},\"x_scale\":{\"id\":\"a397d59f-6d14-4336-9d76-87aa69bf6f41\",\"type\":\"LinearScale\"},\"y_range\":{\"id\":\"9d504534-21a7-401a-b499-02370858bc26\",\"type\":\"Range1d\"},\"y_scale\":{\"id\":\"c603cda5-6217-46e4-9cc7-cf4e3b24a3d6\",\"type\":\"LogScale\"}},\"id\":\"7f2ed88c-42db-49af-b9b4-3036fb3f880e\",\"subtype\":\"Figure\",\"type\":\"Plot\"},{\"attributes\":{\"plot\":null,\"text\":\"\"},\"id\":\"3d2ddeab-381f-4aa9-adc8-3a356a8630ac\",\"type\":\"Title\"},{\"attributes\":{\"data_source\":{\"id\":\"bf6c8dea-1b75-4bb6-9f20-1bd1a7369b11\",\"type\":\"ColumnDataSource\"},\"glyph\":{\"id\":\"da4319af-ceef-4d8c-9379-444c5484b1a1\",\"type\":\"Line\"},\"hover_glyph\":null,\"muted_glyph\":null,\"nonselection_glyph\":{\"id\":\"d64a7add-e7cf-4bcb-9b79-6a8a3929358b\",\"type\":\"Line\"},\"selection_glyph\":null,\"view\":{\"id\":\"28c137dd-e30e-40f3-96e8-409789eb57f8\",\"type\":\"CDSView\"}},\"id\":\"03c34895-3d07-4b6b-9c33-df1b149cf20c\",\"type\":\"GlyphRenderer\"},{\"attributes\":{},\"id\":\"86610d5f-68bc-4fec-807e-35e32a0afbf4\",\"type\":\"UnionRenderers\"},{\"attributes\":{},\"id\":\"a25fb413-bcc0-408a-b08b-2e5e9df35178\",\"type\":\"UnionRenderers\"},{\"attributes\":{\"source\":{\"id\":\"bf6c8dea-1b75-4bb6-9f20-1bd1a7369b11\",\"type\":\"ColumnDataSource\"}},\"id\":\"28c137dd-e30e-40f3-96e8-409789eb57f8\",\"type\":\"CDSView\"},{\"attributes\":{},\"id\":\"48394cfe-11eb-409c-b190-3d99e846bb67\",\"type\":\"Selection\"},{\"attributes\":{\"tools\":[{\"id\":\"de5f6a2d-c518-40e5-8f97-c6ce6eddd8b9\",\"type\":\"PanTool\"},{\"id\":\"e76ec568-b8b2-4c9f-813b-7a6b982af7d8\",\"type\":\"WheelZoomTool\"},{\"id\":\"594b98e9-92cc-4635-bb06-26b3d6e5e2a0\",\"type\":\"BoxZoomTool\"},{\"id\":\"07f94c26-765c-42dc-bcf7-c5925f034647\",\"type\":\"SaveTool\"},{\"id\":\"1c8c2dce-df4e-4b2c-b97b-354de91003b3\",\"type\":\"ResetTool\"},{\"id\":\"9ab68646-9ad4-4ad6-a875-cbeb5e01ce1d\",\"type\":\"HelpTool\"},{\"id\":\"5f7b4fb7-3fdb-4133-9e4e-7d4edd4911d8\",\"type\":\"PanTool\"},{\"id\":\"f8510cf4-d892-485f-96e7-2b93fc7774af\",\"type\":\"WheelZoomTool\"},{\"id\":\"f5ba0589-4800-447e-b6ab-2ff3cf70a945\",\"type\":\"BoxZoomTool\"},{\"id\":\"c41ef416-869f-4a9e-a0b3-0159a71ce825\",\"type\":\"SaveTool\"},{\"id\":\"13bb3b1a-732c-466c-ad3b-9bf8f61a645c\",\"type\":\"ResetTool\"},{\"id\":\"a66175f5-ca3c-4003-9cfd-dd22db103462\",\"type\":\"HelpTool\"},{\"id\":\"71cf40aa-09d1-4d40-989c-46bf62a83429\",\"type\":\"PanTool\"},{\"id\":\"ea3fd61f-4574-4bf1-a9f7-71614c74a837\",\"type\":\"WheelZoomTool\"},{\"id\":\"e0e5018e-2b93-467d-afc1-2ff23a4bf221\",\"type\":\"BoxZoomTool\"},{\"id\":\"f50144c3-4a3f-45fb-b5b1-1c6c70fd7c83\",\"type\":\"SaveTool\"},{\"id\":\"be7474ee-3d7d-4259-a5a2-1ee93112457a\",\"type\":\"ResetTool\"},{\"id\":\"59210164-d4d5-4cc1-94f3-46277387e335\",\"type\":\"HelpTool\"}]},\"id\":\"181a9ad0-c4b2-48e8-b5bd-c7a49f47ea30\",\"type\":\"ProxyToolbar\"},{\"attributes\":{\"active_drag\":\"auto\",\"active_inspect\":\"auto\",\"active_scroll\":\"auto\",\"active_tap\":\"auto\",\"tools\":[{\"id\":\"5f7b4fb7-3fdb-4133-9e4e-7d4edd4911d8\",\"type\":\"PanTool\"},{\"id\":\"f8510cf4-d892-485f-96e7-2b93fc7774af\",\"type\":\"WheelZoomTool\"},{\"id\":\"f5ba0589-4800-447e-b6ab-2ff3cf70a945\",\"type\":\"BoxZoomTool\"},{\"id\":\"c41ef416-869f-4a9e-a0b3-0159a71ce825\",\"type\":\"SaveTool\"},{\"id\":\"13bb3b1a-732c-466c-ad3b-9bf8f61a645c\",\"type\":\"ResetTool\"},{\"id\":\"a66175f5-ca3c-4003-9cfd-dd22db103462\",\"type\":\"HelpTool\"}]},\"id\":\"622a684a-5f53-425a-a73c-fa3d65448ae3\",\"type\":\"Toolbar\"},{\"attributes\":{},\"id\":\"e1c77f0a-936c-4a0c-952a-049f821af437\",\"type\":\"Selection\"},{\"attributes\":{\"children\":[{\"id\":\"c8863177-b913-440a-9447-35869891efdb\",\"type\":\"ToolbarBox\"},{\"id\":\"23911c99-a9c5-4589-94ab-fea82d876312\",\"type\":\"Column\"}]},\"id\":\"af64fd34-735b-436e-9f74-1fcad17ff872\",\"type\":\"Column\"},{\"attributes\":{\"above\":[{\"id\":\"2f29ee24-64fc-4226-8583-f6e4ce1c89c2\",\"type\":\"Legend\"}],\"below\":[{\"id\":\"836ddfe6-81f4-4aeb-8f59-02f47dbe4ea3\",\"type\":\"LinearAxis\"}],\"left\":[{\"id\":\"ed37eb41-c1a1-42b3-b8d3-3dde5d6343dd\",\"type\":\"LogAxis\"}],\"plot_width\":300,\"renderers\":[{\"id\":\"836ddfe6-81f4-4aeb-8f59-02f47dbe4ea3\",\"type\":\"LinearAxis\"},{\"id\":\"4a80262f-b9be-4f07-b63e-f116c775c978\",\"type\":\"Grid\"},{\"id\":\"ed37eb41-c1a1-42b3-b8d3-3dde5d6343dd\",\"type\":\"LogAxis\"},{\"id\":\"c2d3bf06-543f-4bb4-ad20-6635d2c05256\",\"type\":\"Grid\"},{\"id\":\"4d488cf5-5a5d-4a85-8e26-10729426f8a4\",\"type\":\"BoxAnnotation\"},{\"id\":\"03c34895-3d07-4b6b-9c33-df1b149cf20c\",\"type\":\"GlyphRenderer\"},{\"id\":\"6f9844e5-bbe3-4398-9283-53a956e9419e\",\"type\":\"GlyphRenderer\"},{\"id\":\"7a984ad4-e08e-49be-b43c-8ae400d3d8af\",\"type\":\"GlyphRenderer\"},{\"id\":\"2f29ee24-64fc-4226-8583-f6e4ce1c89c2\",\"type\":\"Legend\"}],\"title\":{\"id\":\"6a3ea665-9a84-4ab5-bd8c-d3c0a0df892b\",\"type\":\"Title\"},\"toolbar\":{\"id\":\"622a684a-5f53-425a-a73c-fa3d65448ae3\",\"type\":\"Toolbar\"},\"toolbar_location\":null,\"x_range\":{\"id\":\"7ac23dfc-1451-47f2-af41-d7d703fea5d1\",\"type\":\"Range1d\"},\"x_scale\":{\"id\":\"c1e59e68-4544-4b0c-91b0-2510dd6a8d98\",\"type\":\"LinearScale\"},\"y_range\":{\"id\":\"33dc1279-cd02-46b5-91ec-878389b56ce6\",\"type\":\"Range1d\"},\"y_scale\":{\"id\":\"2cf0eadf-febe-4f6c-a21c-1307619e0c23\",\"type\":\"LogScale\"}},\"id\":\"ec2ec19c-0ad2-4c5a-8b7f-67f616dd26f3\",\"subtype\":\"Figure\",\"type\":\"Plot\"},{\"attributes\":{\"label\":{\"value\":\"CLIRAD - CRD\"},\"renderers\":[{\"id\":\"b9e044bc-0e7c-45be-95b5-189a78b06e95\",\"type\":\"GlyphRenderer\"},{\"id\":\"9df71b6e-8484-4c73-8ada-65b5ecb7323b\",\"type\":\"GlyphRenderer\"}]},\"id\":\"e50ae33f-65db-4c98-8780-4eff4176ea34\",\"type\":\"LegendItem\"}],\"root_ids\":[\"af64fd34-735b-436e-9f74-1fcad17ff872\"]},\"title\":\"Bokeh Application\",\"version\":\"0.12.16\"}};\n",
       "  var render_items = [{\"docid\":\"77ad9116-aeaf-4b68-9c38-7b95803ac09b\",\"elementid\":\"443ab9a8-022d-438d-b64f-bb9ba76e4761\",\"modelid\":\"af64fd34-735b-436e-9f74-1fcad17ff872\"}];\n",
       "  root.Bokeh.embed.embed_items_notebook(docs_json, render_items);\n",
       "\n",
       "  }\n",
       "  if (root.Bokeh !== undefined) {\n",
       "    embed_document(root);\n",
       "  } else {\n",
       "    var attempts = 0;\n",
       "    var timer = setInterval(function(root) {\n",
       "      if (root.Bokeh !== undefined) {\n",
       "        embed_document(root);\n",
       "        clearInterval(timer);\n",
       "      }\n",
       "      attempts++;\n",
       "      if (attempts > 100) {\n",
       "        console.log(\"Bokeh: ERROR: Unable to run BokehJS code because BokehJS library is missing\")\n",
       "        clearInterval(timer);\n",
       "      }\n",
       "    }, 10, root)\n",
       "  }\n",
       "})(window);"
      ],
      "application/vnd.bokehjs_exec.v0+json": ""
     },
     "metadata": {
      "application/vnd.bokehjs_exec.v0+json": {
       "id": "af64fd34-735b-436e-9f74-1fcad17ff872"
      }
     },
     "output_type": "display_data"
    },
    {
     "data": {
      "text/markdown": [
       "*FIGURE.* Cooling rates & difference."
      ],
      "text/plain": [
       "<IPython.core.display.Markdown object>"
      ]
     },
     "metadata": {},
     "output_type": "display_data"
    },
    {
     "data": {
      "text/html": [
       "<a id=\"Fluxes._trp.\"></a>"
      ],
      "text/plain": [
       "<IPython.core.display.HTML object>"
      ]
     },
     "metadata": {},
     "output_type": "display_data"
    },
    {
     "data": {
      "text/markdown": [
       "# Fluxes. trp."
      ],
      "text/plain": [
       "<IPython.core.display.Markdown object>"
      ]
     },
     "metadata": {},
     "output_type": "display_data"
    },
    {
     "data": {
      "text/html": [
       "\n",
       "<div class=\"bk-root\">\n",
       "    <div class=\"bk-plotdiv\" id=\"769434e5-b4fe-4591-a3c0-ffc0e53c13f1\"></div>\n",
       "</div>"
      ]
     },
     "metadata": {},
     "output_type": "display_data"
    },
    {
     "data": {
      "application/javascript": [
       "(function(root) {\n",
       "  function embed_document(root) {\n",
       "    \n",
       "  var docs_json = {\"dba91d1c-3030-4cb0-8bd2-e4184ee78888\":{\"roots\":{\"references\":[{\"attributes\":{\"fill_alpha\":{\"value\":0.1},\"fill_color\":{\"value\":\"#1f77b4\"},\"line_alpha\":{\"value\":0.1},\"line_color\":{\"value\":\"#1f77b4\"},\"top\":{\"field\":\"flux\"},\"width\":{\"value\":0.9},\"x\":{\"field\":\"band\"}},\"id\":\"8091c9d1-4828-4c43-91e4-39962c31d7dd\",\"type\":\"VBar\"},{\"attributes\":{\"bottom_units\":\"screen\",\"fill_alpha\":{\"value\":0.5},\"fill_color\":{\"value\":\"lightgrey\"},\"left_units\":\"screen\",\"level\":\"overlay\",\"line_alpha\":{\"value\":1.0},\"line_color\":{\"value\":\"black\"},\"line_dash\":[4,4],\"line_width\":{\"value\":2},\"plot\":null,\"render_mode\":\"css\",\"right_units\":\"screen\",\"top_units\":\"screen\"},\"id\":\"f0ef35f3-b704-40bf-8c6e-4a4e3a34a9f5\",\"type\":\"BoxAnnotation\"},{\"attributes\":{},\"id\":\"91f8c238-d964-46b9-ac86-f09b13e9515f\",\"type\":\"PanTool\"},{\"attributes\":{\"axis_label\":\"flux (W m-2)\",\"formatter\":{\"id\":\"cecf7a7c-8823-4e37-a084-d84fbf10bfd0\",\"type\":\"BasicTickFormatter\"},\"plot\":{\"id\":\"055d96f9-4bce-4815-a9c2-0335a8bed4fd\",\"subtype\":\"Figure\",\"type\":\"Plot\"},\"ticker\":{\"id\":\"25bbe329-6f8d-4891-8a7c-0e699804e1c9\",\"type\":\"BasicTicker\"}},\"id\":\"7ec01637-8c1f-4320-b7f9-46d373fd78b6\",\"type\":\"LinearAxis\"},{\"attributes\":{\"fill_color\":{\"value\":\"#1f77b4\"},\"line_color\":{\"value\":\"#1f77b4\"},\"top\":{\"field\":\"flux\"},\"width\":{\"value\":0.9},\"x\":{\"field\":\"band\"}},\"id\":\"49d84416-7da0-4acd-ab50-7a8ce0b89717\",\"type\":\"VBar\"},{\"attributes\":{},\"id\":\"0a61bc3c-ad62-4239-9cc4-a178283af563\",\"type\":\"WheelZoomTool\"},{\"attributes\":{\"bottom_units\":\"screen\",\"fill_alpha\":{\"value\":0.5},\"fill_color\":{\"value\":\"lightgrey\"},\"left_units\":\"screen\",\"level\":\"overlay\",\"line_alpha\":{\"value\":1.0},\"line_color\":{\"value\":\"black\"},\"line_dash\":[4,4],\"line_width\":{\"value\":2},\"plot\":null,\"render_mode\":\"css\",\"right_units\":\"screen\",\"top_units\":\"screen\"},\"id\":\"20fe3c1b-ceaf-49b5-b1ef-1628081112f2\",\"type\":\"BoxAnnotation\"},{\"attributes\":{},\"id\":\"d6bb564a-89c8-45b9-a459-beedd7550035\",\"type\":\"CategoricalTickFormatter\"},{\"attributes\":{\"overlay\":{\"id\":\"f0ef35f3-b704-40bf-8c6e-4a4e3a34a9f5\",\"type\":\"BoxAnnotation\"}},\"id\":\"f1a6c175-046e-441e-9a08-4a01e1516318\",\"type\":\"BoxZoomTool\"},{\"attributes\":{},\"id\":\"a1969e93-7ae9-4460-b471-e99f7dc29eeb\",\"type\":\"PanTool\"},{\"attributes\":{},\"id\":\"742b0fdf-d3f1-4d28-9b5b-6ac891e1cdf7\",\"type\":\"SaveTool\"},{\"attributes\":{\"data_source\":{\"id\":\"0b076b4f-899e-4df1-adef-93d1fc7a91af\",\"type\":\"ColumnDataSource\"},\"glyph\":{\"id\":\"49d84416-7da0-4acd-ab50-7a8ce0b89717\",\"type\":\"VBar\"},\"hover_glyph\":null,\"muted_glyph\":null,\"nonselection_glyph\":{\"id\":\"8091c9d1-4828-4c43-91e4-39962c31d7dd\",\"type\":\"VBar\"},\"selection_glyph\":null,\"view\":{\"id\":\"f594f775-44d2-4b0c-87c8-7de468a83f6f\",\"type\":\"CDSView\"}},\"id\":\"dcdd10aa-c07d-4691-aed5-8c1d211b3408\",\"type\":\"GlyphRenderer\"},{\"attributes\":{},\"id\":\"8473a19c-7146-49f0-aef6-2a330fb08b6c\",\"type\":\"WheelZoomTool\"},{\"attributes\":{},\"id\":\"892875c4-f211-4bd6-975b-1ddd0e1d2263\",\"type\":\"ResetTool\"},{\"attributes\":{\"plot\":{\"id\":\"055d96f9-4bce-4815-a9c2-0335a8bed4fd\",\"subtype\":\"Figure\",\"type\":\"Plot\"},\"ticker\":{\"id\":\"f8d3e573-b4b4-4d53-835a-265e609263a6\",\"type\":\"CategoricalTicker\"}},\"id\":\"4358bcb6-801f-4fcd-81a2-350cd9637c47\",\"type\":\"Grid\"},{\"attributes\":{},\"id\":\"fafa6fc5-ea1f-440c-931b-b10e7650cf5a\",\"type\":\"HelpTool\"},{\"attributes\":{\"overlay\":{\"id\":\"20fe3c1b-ceaf-49b5-b1ef-1628081112f2\",\"type\":\"BoxAnnotation\"}},\"id\":\"6c6a0344-6e82-477c-a454-0d61240154fd\",\"type\":\"BoxZoomTool\"},{\"attributes\":{\"fill_color\":{\"value\":\"#1f77b4\"},\"line_color\":{\"value\":\"#1f77b4\"},\"top\":{\"field\":\"flux\"},\"width\":{\"value\":0.9},\"x\":{\"field\":\"band\"}},\"id\":\"646566cb-be5b-48d3-bc60-5586cafa0d13\",\"type\":\"VBar\"},{\"attributes\":{},\"id\":\"f8dd0acf-1b92-4b22-b38d-5783027b5f7c\",\"type\":\"SaveTool\"},{\"attributes\":{\"plot\":null,\"text\":\"Atmosphere heating. CLIRAD - CRD.\"},\"id\":\"61588061-1270-438e-9a69-5541377b9e8a\",\"type\":\"Title\"},{\"attributes\":{},\"id\":\"22372f30-ea0c-4175-999b-698e64904cc8\",\"type\":\"ResetTool\"},{\"attributes\":{},\"id\":\"542ef130-0af3-42d5-a068-5ce2e13c6d86\",\"type\":\"HelpTool\"},{\"attributes\":{\"source\":{\"id\":\"bde6fe91-87d8-410c-b35b-12ac6862d687\",\"type\":\"ColumnDataSource\"}},\"id\":\"3c14b614-97ae-436a-a72b-be9f7e1f6ac6\",\"type\":\"CDSView\"},{\"attributes\":{\"plot\":null,\"text\":\"SFC flux. CLIRAD - CRD.\"},\"id\":\"df0553b8-3254-4c2e-98b6-b9715607c8d9\",\"type\":\"Title\"},{\"attributes\":{\"active_drag\":\"auto\",\"active_inspect\":\"auto\",\"active_scroll\":\"auto\",\"active_tap\":\"auto\",\"tools\":[{\"id\":\"cee084b7-aaec-46cf-a83e-2a4f8faf889b\",\"type\":\"PanTool\"},{\"id\":\"a436e6a3-7594-4514-ae82-ae6d66c38010\",\"type\":\"WheelZoomTool\"},{\"id\":\"67e9e28f-a0d3-4834-8d42-adfa1a219963\",\"type\":\"BoxZoomTool\"},{\"id\":\"a1bd7437-8d79-44e4-940d-5551a26f317e\",\"type\":\"SaveTool\"},{\"id\":\"6b2c5a8c-e9aa-4d92-aebe-6d2f76ab98e9\",\"type\":\"ResetTool\"},{\"id\":\"bd378d1e-c953-4b5e-a656-b6dff9d57282\",\"type\":\"HelpTool\"}]},\"id\":\"bea93e09-e39b-470d-bb47-73c662a898d7\",\"type\":\"Toolbar\"},{\"attributes\":{},\"id\":\"408d5f18-0bb4-4cd1-84de-912954829ee0\",\"type\":\"CategoricalScale\"},{\"attributes\":{\"callback\":null,\"data\":{\"band\":[\"3\",\"4\",\"5\",\"6\",\"7\",\"11\"],\"flux\":{\"__ndarray__\":\"AATcjNDYvr/A2Vkfz8HaP0DYkz9mh9c/ADAJedL8pr8ALAuYUxGjv0CXeWBekbk/\",\"dtype\":\"float64\",\"shape\":[6]}},\"selected\":{\"id\":\"25763817-9469-4856-8265-e151e1c3cc7d\",\"type\":\"Selection\"},\"selection_policy\":{\"id\":\"7c50155b-ebc4-42ac-b8f5-36624746b21f\",\"type\":\"UnionRenderers\"}},\"id\":\"bde6fe91-87d8-410c-b35b-12ac6862d687\",\"type\":\"ColumnDataSource\"},{\"attributes\":{},\"id\":\"4951a058-f033-4447-8e49-b2e0bea06feb\",\"type\":\"Selection\"},{\"attributes\":{\"below\":[{\"id\":\"a6495280-293a-4438-b980-8c64ca8661d0\",\"type\":\"CategoricalAxis\"}],\"left\":[{\"id\":\"7ec01637-8c1f-4320-b7f9-46d373fd78b6\",\"type\":\"LinearAxis\"}],\"plot_height\":300,\"plot_width\":300,\"renderers\":[{\"id\":\"a6495280-293a-4438-b980-8c64ca8661d0\",\"type\":\"CategoricalAxis\"},{\"id\":\"4358bcb6-801f-4fcd-81a2-350cd9637c47\",\"type\":\"Grid\"},{\"id\":\"7ec01637-8c1f-4320-b7f9-46d373fd78b6\",\"type\":\"LinearAxis\"},{\"id\":\"604b53de-25c5-46e0-bfef-95c21d23379d\",\"type\":\"Grid\"},{\"id\":\"19be1249-ffea-4bc5-819e-dd9c579d2fac\",\"type\":\"BoxAnnotation\"},{\"id\":\"82379067-f828-4e74-95e2-e3ebe5da7824\",\"type\":\"GlyphRenderer\"}],\"title\":{\"id\":\"61588061-1270-438e-9a69-5541377b9e8a\",\"type\":\"Title\"},\"toolbar\":{\"id\":\"bea93e09-e39b-470d-bb47-73c662a898d7\",\"type\":\"Toolbar\"},\"toolbar_location\":null,\"x_range\":{\"id\":\"89b4b261-0414-423d-adf2-f911d2dde98b\",\"type\":\"FactorRange\"},\"x_scale\":{\"id\":\"408d5f18-0bb4-4cd1-84de-912954829ee0\",\"type\":\"CategoricalScale\"},\"y_range\":{\"id\":\"e61bb53f-aeb9-4ee8-8c11-63c0b902e550\",\"type\":\"DataRange1d\"},\"y_scale\":{\"id\":\"388f5005-5720-4b73-8d05-3cc4e74a01ee\",\"type\":\"LinearScale\"}},\"id\":\"055d96f9-4bce-4815-a9c2-0335a8bed4fd\",\"subtype\":\"Figure\",\"type\":\"Plot\"},{\"attributes\":{},\"id\":\"388f5005-5720-4b73-8d05-3cc4e74a01ee\",\"type\":\"LinearScale\"},{\"attributes\":{},\"id\":\"cecf7a7c-8823-4e37-a084-d84fbf10bfd0\",\"type\":\"BasicTickFormatter\"},{\"attributes\":{\"callback\":null,\"factors\":[\"3\",\"4\",\"5\",\"6\",\"7\",\"11\"]},\"id\":\"89b4b261-0414-423d-adf2-f911d2dde98b\",\"type\":\"FactorRange\"},{\"attributes\":{\"callback\":null},\"id\":\"e61bb53f-aeb9-4ee8-8c11-63c0b902e550\",\"type\":\"DataRange1d\"},{\"attributes\":{\"axis_label\":\"spectral band\",\"formatter\":{\"id\":\"a6b9eb23-55d6-4de4-894f-c9ef92fb5dc7\",\"type\":\"CategoricalTickFormatter\"},\"plot\":{\"id\":\"055d96f9-4bce-4815-a9c2-0335a8bed4fd\",\"subtype\":\"Figure\",\"type\":\"Plot\"},\"ticker\":{\"id\":\"f8d3e573-b4b4-4d53-835a-265e609263a6\",\"type\":\"CategoricalTicker\"}},\"id\":\"a6495280-293a-4438-b980-8c64ca8661d0\",\"type\":\"CategoricalAxis\"},{\"attributes\":{},\"id\":\"f8d3e573-b4b4-4d53-835a-265e609263a6\",\"type\":\"CategoricalTicker\"},{\"attributes\":{\"fill_color\":{\"value\":\"#1f77b4\"},\"line_color\":{\"value\":\"#1f77b4\"},\"top\":{\"field\":\"flux\"},\"width\":{\"value\":0.9},\"x\":{\"field\":\"band\"}},\"id\":\"ac8cb79e-2e21-41ee-a504-d02df4594682\",\"type\":\"VBar\"},{\"attributes\":{},\"id\":\"25bbe329-6f8d-4891-8a7c-0e699804e1c9\",\"type\":\"BasicTicker\"},{\"attributes\":{},\"id\":\"857c0c0f-480f-4cf0-9231-9ce16fc313dc\",\"type\":\"BasicTicker\"},{\"attributes\":{\"dimension\":1,\"plot\":{\"id\":\"055d96f9-4bce-4815-a9c2-0335a8bed4fd\",\"subtype\":\"Figure\",\"type\":\"Plot\"},\"ticker\":{\"id\":\"25bbe329-6f8d-4891-8a7c-0e699804e1c9\",\"type\":\"BasicTicker\"}},\"id\":\"604b53de-25c5-46e0-bfef-95c21d23379d\",\"type\":\"Grid\"},{\"attributes\":{\"plot\":null,\"text\":\"TOA flux. CLIRAD - CRD.\"},\"id\":\"0b1632c8-f075-431b-84a5-10462ae8063e\",\"type\":\"Title\"},{\"attributes\":{\"fill_alpha\":{\"value\":0.1},\"fill_color\":{\"value\":\"#1f77b4\"},\"line_alpha\":{\"value\":0.1},\"line_color\":{\"value\":\"#1f77b4\"},\"top\":{\"field\":\"flux\"},\"width\":{\"value\":0.9},\"x\":{\"field\":\"band\"}},\"id\":\"25807d55-924c-4613-b9de-2a00d1c9b298\",\"type\":\"VBar\"},{\"attributes\":{\"children\":[{\"id\":\"55cb327d-0882-4a11-83c9-b96447461866\",\"subtype\":\"Figure\",\"type\":\"Plot\"},{\"id\":\"c9d19cfb-65d0-4417-8bb4-7aeb4fb196b2\",\"subtype\":\"Figure\",\"type\":\"Plot\"},{\"id\":\"055d96f9-4bce-4815-a9c2-0335a8bed4fd\",\"subtype\":\"Figure\",\"type\":\"Plot\"}]},\"id\":\"4e882b55-a444-4349-b5ae-d65d0ca34b24\",\"type\":\"Row\"},{\"attributes\":{\"toolbar\":{\"id\":\"ce711e9b-c674-4e3a-9071-71f77e92a482\",\"type\":\"ProxyToolbar\"},\"toolbar_location\":\"above\"},\"id\":\"20160913-950c-45f5-b3c2-9533bc146e55\",\"type\":\"ToolbarBox\"},{\"attributes\":{},\"id\":\"d6b086ea-1ecd-45ef-a656-0c9fefcfed83\",\"type\":\"UnionRenderers\"},{\"attributes\":{\"bottom_units\":\"screen\",\"fill_alpha\":{\"value\":0.5},\"fill_color\":{\"value\":\"lightgrey\"},\"left_units\":\"screen\",\"level\":\"overlay\",\"line_alpha\":{\"value\":1.0},\"line_color\":{\"value\":\"black\"},\"line_dash\":[4,4],\"line_width\":{\"value\":2},\"plot\":null,\"render_mode\":\"css\",\"right_units\":\"screen\",\"top_units\":\"screen\"},\"id\":\"19be1249-ffea-4bc5-819e-dd9c579d2fac\",\"type\":\"BoxAnnotation\"},{\"attributes\":{},\"id\":\"cee084b7-aaec-46cf-a83e-2a4f8faf889b\",\"type\":\"PanTool\"},{\"attributes\":{\"callback\":null,\"data\":{\"band\":[\"3\",\"4\",\"5\",\"6\",\"7\",\"11\"],\"flux\":{\"__ndarray__\":\"gFR8N83hxL8ACT//YX3UPwA5XkvRlL6/AACics+Xlz8AyGBBcTKRP0Br0G0xtbC/\",\"dtype\":\"float64\",\"shape\":[6]}},\"selected\":{\"id\":\"4951a058-f033-4447-8e49-b2e0bea06feb\",\"type\":\"Selection\"},\"selection_policy\":{\"id\":\"d6b086ea-1ecd-45ef-a656-0c9fefcfed83\",\"type\":\"UnionRenderers\"}},\"id\":\"0aa3f361-4672-4073-8e3a-b0e3ff1ed87b\",\"type\":\"ColumnDataSource\"},{\"attributes\":{\"data_source\":{\"id\":\"0aa3f361-4672-4073-8e3a-b0e3ff1ed87b\",\"type\":\"ColumnDataSource\"},\"glyph\":{\"id\":\"ac8cb79e-2e21-41ee-a504-d02df4594682\",\"type\":\"VBar\"},\"hover_glyph\":null,\"muted_glyph\":null,\"nonselection_glyph\":{\"id\":\"25807d55-924c-4613-b9de-2a00d1c9b298\",\"type\":\"VBar\"},\"selection_glyph\":null,\"view\":{\"id\":\"a4876ab8-c969-46d5-9ae5-4bb67aaa9b0c\",\"type\":\"CDSView\"}},\"id\":\"82379067-f828-4e74-95e2-e3ebe5da7824\",\"type\":\"GlyphRenderer\"},{\"attributes\":{},\"id\":\"a436e6a3-7594-4514-ae82-ae6d66c38010\",\"type\":\"WheelZoomTool\"},{\"attributes\":{\"overlay\":{\"id\":\"19be1249-ffea-4bc5-819e-dd9c579d2fac\",\"type\":\"BoxAnnotation\"}},\"id\":\"67e9e28f-a0d3-4834-8d42-adfa1a219963\",\"type\":\"BoxZoomTool\"},{\"attributes\":{\"callback\":null},\"id\":\"b82515df-3db4-4754-ae4c-8c954fc4e4f1\",\"type\":\"DataRange1d\"},{\"attributes\":{},\"id\":\"a1bd7437-8d79-44e4-940d-5551a26f317e\",\"type\":\"SaveTool\"},{\"attributes\":{},\"id\":\"6b2c5a8c-e9aa-4d92-aebe-6d2f76ab98e9\",\"type\":\"ResetTool\"},{\"attributes\":{},\"id\":\"bd378d1e-c953-4b5e-a656-b6dff9d57282\",\"type\":\"HelpTool\"},{\"attributes\":{\"callback\":null},\"id\":\"ded83e13-e51d-4178-b122-a7a854ee3153\",\"type\":\"DataRange1d\"},{\"attributes\":{},\"id\":\"a6b9eb23-55d6-4de4-894f-c9ef92fb5dc7\",\"type\":\"CategoricalTickFormatter\"},{\"attributes\":{},\"id\":\"a277f769-eec5-4235-a481-85a60be66e28\",\"type\":\"BasicTickFormatter\"},{\"attributes\":{},\"id\":\"191253a4-5576-4a52-ad6e-a5bd915209bd\",\"type\":\"BasicTickFormatter\"},{\"attributes\":{\"callback\":null,\"data\":{\"band\":[\"3\",\"4\",\"5\",\"6\",\"7\",\"11\"],\"flux\":{\"__ndarray__\":\"AODSlBHVpT8A/h1cyhG5PwBW762eLN8/oENLCmtksb/gluijwaqrv4AbUCJKI8U/\",\"dtype\":\"float64\",\"shape\":[6]}},\"selected\":{\"id\":\"84d11e29-6494-459e-a080-aa1e474e8ea2\",\"type\":\"Selection\"},\"selection_policy\":{\"id\":\"1758c1d3-ba6e-44a0-89e9-b9e4f058c0b2\",\"type\":\"UnionRenderers\"}},\"id\":\"0b076b4f-899e-4df1-adef-93d1fc7a91af\",\"type\":\"ColumnDataSource\"},{\"attributes\":{\"source\":{\"id\":\"0aa3f361-4672-4073-8e3a-b0e3ff1ed87b\",\"type\":\"ColumnDataSource\"}},\"id\":\"a4876ab8-c969-46d5-9ae5-4bb67aaa9b0c\",\"type\":\"CDSView\"},{\"attributes\":{\"children\":[{\"id\":\"4e882b55-a444-4349-b5ae-d65d0ca34b24\",\"type\":\"Row\"}]},\"id\":\"af871c18-dc8d-4b6d-a713-16cae184b073\",\"type\":\"Column\"},{\"attributes\":{},\"id\":\"6f9eb1cd-2b04-4fd3-88f1-5377cbbf2c53\",\"type\":\"CategoricalTickFormatter\"},{\"attributes\":{},\"id\":\"7c50155b-ebc4-42ac-b8f5-36624746b21f\",\"type\":\"UnionRenderers\"},{\"attributes\":{\"fill_alpha\":{\"value\":0.1},\"fill_color\":{\"value\":\"#1f77b4\"},\"line_alpha\":{\"value\":0.1},\"line_color\":{\"value\":\"#1f77b4\"},\"top\":{\"field\":\"flux\"},\"width\":{\"value\":0.9},\"x\":{\"field\":\"band\"}},\"id\":\"5eb05227-3879-431d-967a-a23fbd30b688\",\"type\":\"VBar\"},{\"attributes\":{},\"id\":\"f3201a1c-f6e0-4e11-ad17-776dea0ee172\",\"type\":\"BasicTicker\"},{\"attributes\":{},\"id\":\"25763817-9469-4856-8265-e151e1c3cc7d\",\"type\":\"Selection\"},{\"attributes\":{},\"id\":\"1758c1d3-ba6e-44a0-89e9-b9e4f058c0b2\",\"type\":\"UnionRenderers\"},{\"attributes\":{\"tools\":[{\"id\":\"91f8c238-d964-46b9-ac86-f09b13e9515f\",\"type\":\"PanTool\"},{\"id\":\"0a61bc3c-ad62-4239-9cc4-a178283af563\",\"type\":\"WheelZoomTool\"},{\"id\":\"f1a6c175-046e-441e-9a08-4a01e1516318\",\"type\":\"BoxZoomTool\"},{\"id\":\"742b0fdf-d3f1-4d28-9b5b-6ac891e1cdf7\",\"type\":\"SaveTool\"},{\"id\":\"892875c4-f211-4bd6-975b-1ddd0e1d2263\",\"type\":\"ResetTool\"},{\"id\":\"fafa6fc5-ea1f-440c-931b-b10e7650cf5a\",\"type\":\"HelpTool\"},{\"id\":\"a1969e93-7ae9-4460-b471-e99f7dc29eeb\",\"type\":\"PanTool\"},{\"id\":\"8473a19c-7146-49f0-aef6-2a330fb08b6c\",\"type\":\"WheelZoomTool\"},{\"id\":\"6c6a0344-6e82-477c-a454-0d61240154fd\",\"type\":\"BoxZoomTool\"},{\"id\":\"f8dd0acf-1b92-4b22-b38d-5783027b5f7c\",\"type\":\"SaveTool\"},{\"id\":\"22372f30-ea0c-4175-999b-698e64904cc8\",\"type\":\"ResetTool\"},{\"id\":\"542ef130-0af3-42d5-a068-5ce2e13c6d86\",\"type\":\"HelpTool\"},{\"id\":\"cee084b7-aaec-46cf-a83e-2a4f8faf889b\",\"type\":\"PanTool\"},{\"id\":\"a436e6a3-7594-4514-ae82-ae6d66c38010\",\"type\":\"WheelZoomTool\"},{\"id\":\"67e9e28f-a0d3-4834-8d42-adfa1a219963\",\"type\":\"BoxZoomTool\"},{\"id\":\"a1bd7437-8d79-44e4-940d-5551a26f317e\",\"type\":\"SaveTool\"},{\"id\":\"6b2c5a8c-e9aa-4d92-aebe-6d2f76ab98e9\",\"type\":\"ResetTool\"},{\"id\":\"bd378d1e-c953-4b5e-a656-b6dff9d57282\",\"type\":\"HelpTool\"}]},\"id\":\"ce711e9b-c674-4e3a-9071-71f77e92a482\",\"type\":\"ProxyToolbar\"},{\"attributes\":{},\"id\":\"4b44ce55-2668-4269-ae67-217b0964f279\",\"type\":\"LinearScale\"},{\"attributes\":{\"source\":{\"id\":\"0b076b4f-899e-4df1-adef-93d1fc7a91af\",\"type\":\"ColumnDataSource\"}},\"id\":\"f594f775-44d2-4b0c-87c8-7de468a83f6f\",\"type\":\"CDSView\"},{\"attributes\":{\"plot\":{\"id\":\"55cb327d-0882-4a11-83c9-b96447461866\",\"subtype\":\"Figure\",\"type\":\"Plot\"},\"ticker\":{\"id\":\"4700f78c-dfc6-4963-a017-d700d05f8359\",\"type\":\"CategoricalTicker\"}},\"id\":\"aaaf35d4-1083-46bb-9eca-e28873f779ac\",\"type\":\"Grid\"},{\"attributes\":{\"children\":[{\"id\":\"20160913-950c-45f5-b3c2-9533bc146e55\",\"type\":\"ToolbarBox\"},{\"id\":\"af871c18-dc8d-4b6d-a713-16cae184b073\",\"type\":\"Column\"}]},\"id\":\"58755949-6ff0-4268-9d11-357c81c0674d\",\"type\":\"Column\"},{\"attributes\":{},\"id\":\"59437c87-14c0-4ea5-9c8b-568f8c0208fa\",\"type\":\"CategoricalScale\"},{\"attributes\":{},\"id\":\"a8f9f9f4-075e-438e-be04-c972fdfc6f85\",\"type\":\"LinearScale\"},{\"attributes\":{},\"id\":\"84d11e29-6494-459e-a080-aa1e474e8ea2\",\"type\":\"Selection\"},{\"attributes\":{\"callback\":null,\"factors\":[\"3\",\"4\",\"5\",\"6\",\"7\",\"11\"]},\"id\":\"b5403c29-c719-42dc-8d4c-4ca936fc8fd8\",\"type\":\"FactorRange\"},{\"attributes\":{\"plot\":{\"id\":\"c9d19cfb-65d0-4417-8bb4-7aeb4fb196b2\",\"subtype\":\"Figure\",\"type\":\"Plot\"},\"ticker\":{\"id\":\"611d94dc-af6c-4195-aadb-1e53a0431fda\",\"type\":\"CategoricalTicker\"}},\"id\":\"7351f0c0-3c76-4f3e-bd89-7c589e6840f2\",\"type\":\"Grid\"},{\"attributes\":{\"axis_label\":\"spectral band\",\"formatter\":{\"id\":\"d6bb564a-89c8-45b9-a459-beedd7550035\",\"type\":\"CategoricalTickFormatter\"},\"plot\":{\"id\":\"55cb327d-0882-4a11-83c9-b96447461866\",\"subtype\":\"Figure\",\"type\":\"Plot\"},\"ticker\":{\"id\":\"4700f78c-dfc6-4963-a017-d700d05f8359\",\"type\":\"CategoricalTicker\"}},\"id\":\"cd0b6c09-583f-4031-b592-c6fdbcdad65f\",\"type\":\"CategoricalAxis\"},{\"attributes\":{},\"id\":\"587691c4-3bf4-48c3-abbf-6d2d915b19f4\",\"type\":\"CategoricalScale\"},{\"attributes\":{\"active_drag\":\"auto\",\"active_inspect\":\"auto\",\"active_scroll\":\"auto\",\"active_tap\":\"auto\",\"tools\":[{\"id\":\"91f8c238-d964-46b9-ac86-f09b13e9515f\",\"type\":\"PanTool\"},{\"id\":\"0a61bc3c-ad62-4239-9cc4-a178283af563\",\"type\":\"WheelZoomTool\"},{\"id\":\"f1a6c175-046e-441e-9a08-4a01e1516318\",\"type\":\"BoxZoomTool\"},{\"id\":\"742b0fdf-d3f1-4d28-9b5b-6ac891e1cdf7\",\"type\":\"SaveTool\"},{\"id\":\"892875c4-f211-4bd6-975b-1ddd0e1d2263\",\"type\":\"ResetTool\"},{\"id\":\"fafa6fc5-ea1f-440c-931b-b10e7650cf5a\",\"type\":\"HelpTool\"}]},\"id\":\"42f22d5f-3a0a-4858-9b64-d9d723ddfb59\",\"type\":\"Toolbar\"},{\"attributes\":{\"below\":[{\"id\":\"cd0b6c09-583f-4031-b592-c6fdbcdad65f\",\"type\":\"CategoricalAxis\"}],\"left\":[{\"id\":\"969be854-5d40-4e3d-822a-43c56f9d5133\",\"type\":\"LinearAxis\"}],\"plot_height\":300,\"plot_width\":300,\"renderers\":[{\"id\":\"cd0b6c09-583f-4031-b592-c6fdbcdad65f\",\"type\":\"CategoricalAxis\"},{\"id\":\"aaaf35d4-1083-46bb-9eca-e28873f779ac\",\"type\":\"Grid\"},{\"id\":\"969be854-5d40-4e3d-822a-43c56f9d5133\",\"type\":\"LinearAxis\"},{\"id\":\"04998253-970b-4853-a4cc-629750fbf7e5\",\"type\":\"Grid\"},{\"id\":\"f0ef35f3-b704-40bf-8c6e-4a4e3a34a9f5\",\"type\":\"BoxAnnotation\"},{\"id\":\"c2864c4f-00a4-45f1-abca-e4f88d045fe0\",\"type\":\"GlyphRenderer\"}],\"title\":{\"id\":\"0b1632c8-f075-431b-84a5-10462ae8063e\",\"type\":\"Title\"},\"toolbar\":{\"id\":\"42f22d5f-3a0a-4858-9b64-d9d723ddfb59\",\"type\":\"Toolbar\"},\"toolbar_location\":null,\"x_range\":{\"id\":\"b5403c29-c719-42dc-8d4c-4ca936fc8fd8\",\"type\":\"FactorRange\"},\"x_scale\":{\"id\":\"59437c87-14c0-4ea5-9c8b-568f8c0208fa\",\"type\":\"CategoricalScale\"},\"y_range\":{\"id\":\"b82515df-3db4-4754-ae4c-8c954fc4e4f1\",\"type\":\"DataRange1d\"},\"y_scale\":{\"id\":\"4b44ce55-2668-4269-ae67-217b0964f279\",\"type\":\"LinearScale\"}},\"id\":\"55cb327d-0882-4a11-83c9-b96447461866\",\"subtype\":\"Figure\",\"type\":\"Plot\"},{\"attributes\":{\"callback\":null,\"factors\":[\"3\",\"4\",\"5\",\"6\",\"7\",\"11\"]},\"id\":\"04073595-0ad9-4941-9625-dba4a07a53c4\",\"type\":\"FactorRange\"},{\"attributes\":{\"axis_label\":\"spectral band\",\"formatter\":{\"id\":\"6f9eb1cd-2b04-4fd3-88f1-5377cbbf2c53\",\"type\":\"CategoricalTickFormatter\"},\"plot\":{\"id\":\"c9d19cfb-65d0-4417-8bb4-7aeb4fb196b2\",\"subtype\":\"Figure\",\"type\":\"Plot\"},\"ticker\":{\"id\":\"611d94dc-af6c-4195-aadb-1e53a0431fda\",\"type\":\"CategoricalTicker\"}},\"id\":\"e53e3854-862d-4bbf-99ae-7dd37e17c695\",\"type\":\"CategoricalAxis\"},{\"attributes\":{\"data_source\":{\"id\":\"bde6fe91-87d8-410c-b35b-12ac6862d687\",\"type\":\"ColumnDataSource\"},\"glyph\":{\"id\":\"646566cb-be5b-48d3-bc60-5586cafa0d13\",\"type\":\"VBar\"},\"hover_glyph\":null,\"muted_glyph\":null,\"nonselection_glyph\":{\"id\":\"5eb05227-3879-431d-967a-a23fbd30b688\",\"type\":\"VBar\"},\"selection_glyph\":null,\"view\":{\"id\":\"3c14b614-97ae-436a-a72b-be9f7e1f6ac6\",\"type\":\"CDSView\"}},\"id\":\"c2864c4f-00a4-45f1-abca-e4f88d045fe0\",\"type\":\"GlyphRenderer\"},{\"attributes\":{\"active_drag\":\"auto\",\"active_inspect\":\"auto\",\"active_scroll\":\"auto\",\"active_tap\":\"auto\",\"tools\":[{\"id\":\"a1969e93-7ae9-4460-b471-e99f7dc29eeb\",\"type\":\"PanTool\"},{\"id\":\"8473a19c-7146-49f0-aef6-2a330fb08b6c\",\"type\":\"WheelZoomTool\"},{\"id\":\"6c6a0344-6e82-477c-a454-0d61240154fd\",\"type\":\"BoxZoomTool\"},{\"id\":\"f8dd0acf-1b92-4b22-b38d-5783027b5f7c\",\"type\":\"SaveTool\"},{\"id\":\"22372f30-ea0c-4175-999b-698e64904cc8\",\"type\":\"ResetTool\"},{\"id\":\"542ef130-0af3-42d5-a068-5ce2e13c6d86\",\"type\":\"HelpTool\"}]},\"id\":\"f63f9280-a33b-4298-a9ba-e628c8cbbfd7\",\"type\":\"Toolbar\"},{\"attributes\":{\"below\":[{\"id\":\"e53e3854-862d-4bbf-99ae-7dd37e17c695\",\"type\":\"CategoricalAxis\"}],\"left\":[{\"id\":\"80f13ce8-940f-468d-91ae-66ad982ea29a\",\"type\":\"LinearAxis\"}],\"plot_height\":300,\"plot_width\":300,\"renderers\":[{\"id\":\"e53e3854-862d-4bbf-99ae-7dd37e17c695\",\"type\":\"CategoricalAxis\"},{\"id\":\"7351f0c0-3c76-4f3e-bd89-7c589e6840f2\",\"type\":\"Grid\"},{\"id\":\"80f13ce8-940f-468d-91ae-66ad982ea29a\",\"type\":\"LinearAxis\"},{\"id\":\"ee9d4cf7-d1c0-42a1-be33-d03300a64d39\",\"type\":\"Grid\"},{\"id\":\"20fe3c1b-ceaf-49b5-b1ef-1628081112f2\",\"type\":\"BoxAnnotation\"},{\"id\":\"dcdd10aa-c07d-4691-aed5-8c1d211b3408\",\"type\":\"GlyphRenderer\"}],\"title\":{\"id\":\"df0553b8-3254-4c2e-98b6-b9715607c8d9\",\"type\":\"Title\"},\"toolbar\":{\"id\":\"f63f9280-a33b-4298-a9ba-e628c8cbbfd7\",\"type\":\"Toolbar\"},\"toolbar_location\":null,\"x_range\":{\"id\":\"04073595-0ad9-4941-9625-dba4a07a53c4\",\"type\":\"FactorRange\"},\"x_scale\":{\"id\":\"587691c4-3bf4-48c3-abbf-6d2d915b19f4\",\"type\":\"CategoricalScale\"},\"y_range\":{\"id\":\"ded83e13-e51d-4178-b122-a7a854ee3153\",\"type\":\"DataRange1d\"},\"y_scale\":{\"id\":\"a8f9f9f4-075e-438e-be04-c972fdfc6f85\",\"type\":\"LinearScale\"}},\"id\":\"c9d19cfb-65d0-4417-8bb4-7aeb4fb196b2\",\"subtype\":\"Figure\",\"type\":\"Plot\"},{\"attributes\":{\"axis_label\":\"flux (W m-2)\",\"formatter\":{\"id\":\"191253a4-5576-4a52-ad6e-a5bd915209bd\",\"type\":\"BasicTickFormatter\"},\"plot\":{\"id\":\"55cb327d-0882-4a11-83c9-b96447461866\",\"subtype\":\"Figure\",\"type\":\"Plot\"},\"ticker\":{\"id\":\"857c0c0f-480f-4cf0-9231-9ce16fc313dc\",\"type\":\"BasicTicker\"}},\"id\":\"969be854-5d40-4e3d-822a-43c56f9d5133\",\"type\":\"LinearAxis\"},{\"attributes\":{},\"id\":\"4700f78c-dfc6-4963-a017-d700d05f8359\",\"type\":\"CategoricalTicker\"},{\"attributes\":{\"dimension\":1,\"plot\":{\"id\":\"55cb327d-0882-4a11-83c9-b96447461866\",\"subtype\":\"Figure\",\"type\":\"Plot\"},\"ticker\":{\"id\":\"857c0c0f-480f-4cf0-9231-9ce16fc313dc\",\"type\":\"BasicTicker\"}},\"id\":\"04998253-970b-4853-a4cc-629750fbf7e5\",\"type\":\"Grid\"},{\"attributes\":{\"dimension\":1,\"plot\":{\"id\":\"c9d19cfb-65d0-4417-8bb4-7aeb4fb196b2\",\"subtype\":\"Figure\",\"type\":\"Plot\"},\"ticker\":{\"id\":\"f3201a1c-f6e0-4e11-ad17-776dea0ee172\",\"type\":\"BasicTicker\"}},\"id\":\"ee9d4cf7-d1c0-42a1-be33-d03300a64d39\",\"type\":\"Grid\"},{\"attributes\":{\"axis_label\":\"flux (W m-2)\",\"formatter\":{\"id\":\"a277f769-eec5-4235-a481-85a60be66e28\",\"type\":\"BasicTickFormatter\"},\"plot\":{\"id\":\"c9d19cfb-65d0-4417-8bb4-7aeb4fb196b2\",\"subtype\":\"Figure\",\"type\":\"Plot\"},\"ticker\":{\"id\":\"f3201a1c-f6e0-4e11-ad17-776dea0ee172\",\"type\":\"BasicTicker\"}},\"id\":\"80f13ce8-940f-468d-91ae-66ad982ea29a\",\"type\":\"LinearAxis\"},{\"attributes\":{},\"id\":\"611d94dc-af6c-4195-aadb-1e53a0431fda\",\"type\":\"CategoricalTicker\"}],\"root_ids\":[\"58755949-6ff0-4268-9d11-357c81c0674d\"]},\"title\":\"Bokeh Application\",\"version\":\"0.12.16\"}};\n",
       "  var render_items = [{\"docid\":\"dba91d1c-3030-4cb0-8bd2-e4184ee78888\",\"elementid\":\"769434e5-b4fe-4591-a3c0-ffc0e53c13f1\",\"modelid\":\"58755949-6ff0-4268-9d11-357c81c0674d\"}];\n",
       "  root.Bokeh.embed.embed_items_notebook(docs_json, render_items);\n",
       "\n",
       "  }\n",
       "  if (root.Bokeh !== undefined) {\n",
       "    embed_document(root);\n",
       "  } else {\n",
       "    var attempts = 0;\n",
       "    var timer = setInterval(function(root) {\n",
       "      if (root.Bokeh !== undefined) {\n",
       "        embed_document(root);\n",
       "        clearInterval(timer);\n",
       "      }\n",
       "      attempts++;\n",
       "      if (attempts > 100) {\n",
       "        console.log(\"Bokeh: ERROR: Unable to run BokehJS code because BokehJS library is missing\")\n",
       "        clearInterval(timer);\n",
       "      }\n",
       "    }, 10, root)\n",
       "  }\n",
       "})(window);"
      ],
      "application/vnd.bokehjs_exec.v0+json": ""
     },
     "metadata": {
      "application/vnd.bokehjs_exec.v0+json": {
       "id": "58755949-6ff0-4268-9d11-357c81c0674d"
      }
     },
     "output_type": "display_data"
    },
    {
     "data": {
      "text/markdown": [
       "*FIGURE.* Difference between CLIRAD and CRD in TOA, SFC and net atmosphere flux, in each spectral band."
      ],
      "text/plain": [
       "<IPython.core.display.Markdown object>"
      ]
     },
     "metadata": {},
     "output_type": "display_data"
    },
    {
     "data": {
      "text/html": [
       "<div>\n",
       "<style scoped>\n",
       "    .dataframe tbody tr th:only-of-type {\n",
       "        vertical-align: middle;\n",
       "    }\n",
       "\n",
       "    .dataframe tbody tr th {\n",
       "        vertical-align: top;\n",
       "    }\n",
       "\n",
       "    .dataframe thead th {\n",
       "        text-align: right;\n",
       "    }\n",
       "</style>\n",
       "<table border=\"1\" class=\"dataframe\">\n",
       "  <thead>\n",
       "    <tr style=\"text-align: right;\">\n",
       "      <th></th>\n",
       "      <th>OLR flux</th>\n",
       "      <th>SFC flux</th>\n",
       "      <th>ATM heating</th>\n",
       "    </tr>\n",
       "    <tr>\n",
       "      <th>Sum over bands</th>\n",
       "      <th></th>\n",
       "      <th></th>\n",
       "      <th></th>\n",
       "    </tr>\n",
       "  </thead>\n",
       "  <tbody>\n",
       "    <tr>\n",
       "      <th>CLIRAD - CRD</th>\n",
       "      <td>0.68</td>\n",
       "      <td>0.67</td>\n",
       "      <td>0.01</td>\n",
       "    </tr>\n",
       "    <tr>\n",
       "      <th>CRD</th>\n",
       "      <td>-182.34</td>\n",
       "      <td>85.22</td>\n",
       "      <td>-36.52</td>\n",
       "    </tr>\n",
       "  </tbody>\n",
       "</table>\n",
       "</div>"
      ],
      "text/plain": [
       "                OLR flux  SFC flux  ATM heating\n",
       "Sum over bands                                 \n",
       "CLIRAD - CRD        0.68      0.67         0.01\n",
       "CRD              -182.34     85.22       -36.52"
      ]
     },
     "metadata": {},
     "output_type": "display_data"
    },
    {
     "data": {
      "text/markdown": [
       "*TABLE.* Difference between CLIRAD and CRD in TOA, SFC and net atmosphere flux, over all spectral bands. CRD's TOA, SFC and net atmosphere flux, over all spectral bands."
      ],
      "text/plain": [
       "<IPython.core.display.Markdown object>"
      ]
     },
     "metadata": {},
     "output_type": "display_data"
    }
   ],
   "source": [
    "script()"
   ]
  },
  {
   "cell_type": "markdown",
   "metadata": {},
   "source": [
    "## --"
   ]
  },
  {
   "cell_type": "code",
   "execution_count": 29,
   "metadata": {},
   "outputs": [
    {
     "data": {
      "text/html": [
       "<script>\n",
       "code_show=true; \n",
       "function code_toggle() {\n",
       " if (code_show){\n",
       " $('div.input').hide();\n",
       " } else {\n",
       " $('div.input').show();\n",
       " }\n",
       " code_show = !code_show\n",
       "} \n",
       "$( document ).ready(code_toggle);\n",
       "</script>\n",
       "<form action=\"javascript:code_toggle()\"><input type=\"submit\" value=\"Click here to toggle on/off the raw code.\"></form>"
      ],
      "text/plain": [
       "<IPython.core.display.HTML object>"
      ]
     },
     "execution_count": 29,
     "metadata": {},
     "output_type": "execute_result"
    }
   ],
   "source": [
    "display.HTML('''<script>\n",
    "code_show=true; \n",
    "function code_toggle() {\n",
    " if (code_show){\n",
    " $('div.input').hide();\n",
    " } else {\n",
    " $('div.input').show();\n",
    " }\n",
    " code_show = !code_show\n",
    "} \n",
    "$( document ).ready(code_toggle);\n",
    "</script>\n",
    "<form action=\"javascript:code_toggle()\"><input type=\"submit\" value=\"Click here to toggle on/off the raw code.\"></form>''')"
   ]
  },
  {
   "cell_type": "code",
   "execution_count": null,
   "metadata": {
    "collapsed": true
   },
   "outputs": [],
   "source": []
  }
 ],
 "metadata": {
  "kernelspec": {
   "display_name": "Python 3",
   "language": "python",
   "name": "python3"
  }
 },
 "nbformat": 4,
 "nbformat_minor": 2
}
