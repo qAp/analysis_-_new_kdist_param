{
 "cells": [
  {
   "cell_type": "code",
   "execution_count": 42,
   "metadata": {
    "collapsed": true
   },
   "outputs": [],
   "source": [
    "%reload_ext autoreload\n",
    "%autoreload 2\n",
    "\n",
    "import os\n",
    "import io\n",
    "import ast\n",
    "import json\n",
    "import importlib \n",
    "import itertools\n",
    "import collections\n",
    "import pprint\n",
    "\n",
    "import pymongo\n",
    "\n",
    "from bokeh.io import output_notebook, show\n",
    "from bokeh.layouts import gridplot\n",
    "from bokeh.plotting import figure\n",
    "from bokeh.models import Range1d, Legend, ColumnDataSource, FactorRange\n",
    "from bokeh.palettes import all_palettes\n",
    "from bokeh.transform import factor_cmap\n",
    "\n",
    "import matplotlib\n",
    "import matplotlib.pyplot as plt\n",
    "import numpy as np\n",
    "import pandas as pd\n",
    "import xarray as xr\n",
    "\n",
    "from climatools.atm.absorbers import *\n",
    "\n",
    "import climatools.lblnew.bestfit_params as bestfits\n",
    "from climatools.lblnew import setup_bestfit, setup_overlap\n",
    "import climatools.lblnew.pipeline as pipe_lblnew\n",
    "\n",
    "from climatools.cliradlw.utils import *\n",
    "import climatools.cliradlw.setup as setup_cliradlw\n",
    "import climatools.cliradlw.pipeline as pipe_cliradlw\n",
    "from climatools.cliradlw.dataset import *\n",
    "\n",
    "import climatools.html.html as climahtml\n",
    "from climatools.lblnew.dataio import *\n",
    "from climatools.plot.plot import *\n",
    "\n",
    "from IPython import display"
   ]
  },
  {
   "cell_type": "code",
   "execution_count": 43,
   "metadata": {
    "scrolled": true
   },
   "outputs": [
    {
     "data": {
      "text/html": [
       "\n",
       "    <div class=\"bk-root\">\n",
       "        <a href=\"https://bokeh.pydata.org\" target=\"_blank\" class=\"bk-logo bk-logo-small bk-logo-notebook\"></a>\n",
       "        <span id=\"ad5021ac-3485-4120-ad99-60375f1c09ac\">Loading BokehJS ...</span>\n",
       "    </div>"
      ]
     },
     "metadata": {},
     "output_type": "display_data"
    },
    {
     "data": {
      "application/javascript": [
       "\n",
       "(function(root) {\n",
       "  function now() {\n",
       "    return new Date();\n",
       "  }\n",
       "\n",
       "  var force = true;\n",
       "\n",
       "  if (typeof (root._bokeh_onload_callbacks) === \"undefined\" || force === true) {\n",
       "    root._bokeh_onload_callbacks = [];\n",
       "    root._bokeh_is_loading = undefined;\n",
       "  }\n",
       "\n",
       "  var JS_MIME_TYPE = 'application/javascript';\n",
       "  var HTML_MIME_TYPE = 'text/html';\n",
       "  var EXEC_MIME_TYPE = 'application/vnd.bokehjs_exec.v0+json';\n",
       "  var CLASS_NAME = 'output_bokeh rendered_html';\n",
       "\n",
       "  /**\n",
       "   * Render data to the DOM node\n",
       "   */\n",
       "  function render(props, node) {\n",
       "    var script = document.createElement(\"script\");\n",
       "    node.appendChild(script);\n",
       "  }\n",
       "\n",
       "  /**\n",
       "   * Handle when an output is cleared or removed\n",
       "   */\n",
       "  function handleClearOutput(event, handle) {\n",
       "    var cell = handle.cell;\n",
       "\n",
       "    var id = cell.output_area._bokeh_element_id;\n",
       "    var server_id = cell.output_area._bokeh_server_id;\n",
       "    // Clean up Bokeh references\n",
       "    if (id !== undefined) {\n",
       "      Bokeh.index[id].model.document.clear();\n",
       "      delete Bokeh.index[id];\n",
       "    }\n",
       "\n",
       "    if (server_id !== undefined) {\n",
       "      // Clean up Bokeh references\n",
       "      var cmd = \"from bokeh.io.state import curstate; print(curstate().uuid_to_server['\" + server_id + \"'].get_sessions()[0].document.roots[0]._id)\";\n",
       "      cell.notebook.kernel.execute(cmd, {\n",
       "        iopub: {\n",
       "          output: function(msg) {\n",
       "            var element_id = msg.content.text.trim();\n",
       "            Bokeh.index[element_id].model.document.clear();\n",
       "            delete Bokeh.index[element_id];\n",
       "          }\n",
       "        }\n",
       "      });\n",
       "      // Destroy server and session\n",
       "      var cmd = \"import bokeh.io.notebook as ion; ion.destroy_server('\" + server_id + \"')\";\n",
       "      cell.notebook.kernel.execute(cmd);\n",
       "    }\n",
       "  }\n",
       "\n",
       "  /**\n",
       "   * Handle when a new output is added\n",
       "   */\n",
       "  function handleAddOutput(event, handle) {\n",
       "    var output_area = handle.output_area;\n",
       "    var output = handle.output;\n",
       "\n",
       "    // limit handleAddOutput to display_data with EXEC_MIME_TYPE content only\n",
       "    if ((output.output_type != \"display_data\") || (!output.data.hasOwnProperty(EXEC_MIME_TYPE))) {\n",
       "      return\n",
       "    }\n",
       "\n",
       "    var toinsert = output_area.element.find(\".\" + CLASS_NAME.split(' ')[0]);\n",
       "\n",
       "    if (output.metadata[EXEC_MIME_TYPE][\"id\"] !== undefined) {\n",
       "      toinsert[toinsert.length - 1].firstChild.textContent = output.data[JS_MIME_TYPE];\n",
       "      // store reference to embed id on output_area\n",
       "      output_area._bokeh_element_id = output.metadata[EXEC_MIME_TYPE][\"id\"];\n",
       "    }\n",
       "    if (output.metadata[EXEC_MIME_TYPE][\"server_id\"] !== undefined) {\n",
       "      var bk_div = document.createElement(\"div\");\n",
       "      bk_div.innerHTML = output.data[HTML_MIME_TYPE];\n",
       "      var script_attrs = bk_div.children[0].attributes;\n",
       "      for (var i = 0; i < script_attrs.length; i++) {\n",
       "        toinsert[toinsert.length - 1].firstChild.setAttribute(script_attrs[i].name, script_attrs[i].value);\n",
       "      }\n",
       "      // store reference to server id on output_area\n",
       "      output_area._bokeh_server_id = output.metadata[EXEC_MIME_TYPE][\"server_id\"];\n",
       "    }\n",
       "  }\n",
       "\n",
       "  function register_renderer(events, OutputArea) {\n",
       "\n",
       "    function append_mime(data, metadata, element) {\n",
       "      // create a DOM node to render to\n",
       "      var toinsert = this.create_output_subarea(\n",
       "        metadata,\n",
       "        CLASS_NAME,\n",
       "        EXEC_MIME_TYPE\n",
       "      );\n",
       "      this.keyboard_manager.register_events(toinsert);\n",
       "      // Render to node\n",
       "      var props = {data: data, metadata: metadata[EXEC_MIME_TYPE]};\n",
       "      render(props, toinsert[toinsert.length - 1]);\n",
       "      element.append(toinsert);\n",
       "      return toinsert\n",
       "    }\n",
       "\n",
       "    /* Handle when an output is cleared or removed */\n",
       "    events.on('clear_output.CodeCell', handleClearOutput);\n",
       "    events.on('delete.Cell', handleClearOutput);\n",
       "\n",
       "    /* Handle when a new output is added */\n",
       "    events.on('output_added.OutputArea', handleAddOutput);\n",
       "\n",
       "    /**\n",
       "     * Register the mime type and append_mime function with output_area\n",
       "     */\n",
       "    OutputArea.prototype.register_mime_type(EXEC_MIME_TYPE, append_mime, {\n",
       "      /* Is output safe? */\n",
       "      safe: true,\n",
       "      /* Index of renderer in `output_area.display_order` */\n",
       "      index: 0\n",
       "    });\n",
       "  }\n",
       "\n",
       "  // register the mime type if in Jupyter Notebook environment and previously unregistered\n",
       "  if (root.Jupyter !== undefined) {\n",
       "    var events = require('base/js/events');\n",
       "    var OutputArea = require('notebook/js/outputarea').OutputArea;\n",
       "\n",
       "    if (OutputArea.prototype.mime_types().indexOf(EXEC_MIME_TYPE) == -1) {\n",
       "      register_renderer(events, OutputArea);\n",
       "    }\n",
       "  }\n",
       "\n",
       "  \n",
       "  if (typeof (root._bokeh_timeout) === \"undefined\" || force === true) {\n",
       "    root._bokeh_timeout = Date.now() + 5000;\n",
       "    root._bokeh_failed_load = false;\n",
       "  }\n",
       "\n",
       "  var NB_LOAD_WARNING = {'data': {'text/html':\n",
       "     \"<div style='background-color: #fdd'>\\n\"+\n",
       "     \"<p>\\n\"+\n",
       "     \"BokehJS does not appear to have successfully loaded. If loading BokehJS from CDN, this \\n\"+\n",
       "     \"may be due to a slow or bad network connection. Possible fixes:\\n\"+\n",
       "     \"</p>\\n\"+\n",
       "     \"<ul>\\n\"+\n",
       "     \"<li>re-rerun `output_notebook()` to attempt to load from CDN again, or</li>\\n\"+\n",
       "     \"<li>use INLINE resources instead, as so:</li>\\n\"+\n",
       "     \"</ul>\\n\"+\n",
       "     \"<code>\\n\"+\n",
       "     \"from bokeh.resources import INLINE\\n\"+\n",
       "     \"output_notebook(resources=INLINE)\\n\"+\n",
       "     \"</code>\\n\"+\n",
       "     \"</div>\"}};\n",
       "\n",
       "  function display_loaded() {\n",
       "    var el = document.getElementById(\"ad5021ac-3485-4120-ad99-60375f1c09ac\");\n",
       "    if (el != null) {\n",
       "      el.textContent = \"BokehJS is loading...\";\n",
       "    }\n",
       "    if (root.Bokeh !== undefined) {\n",
       "      if (el != null) {\n",
       "        el.textContent = \"BokehJS \" + root.Bokeh.version + \" successfully loaded.\";\n",
       "      }\n",
       "    } else if (Date.now() < root._bokeh_timeout) {\n",
       "      setTimeout(display_loaded, 100)\n",
       "    }\n",
       "  }\n",
       "\n",
       "\n",
       "  function run_callbacks() {\n",
       "    try {\n",
       "      root._bokeh_onload_callbacks.forEach(function(callback) { callback() });\n",
       "    }\n",
       "    finally {\n",
       "      delete root._bokeh_onload_callbacks\n",
       "    }\n",
       "    console.info(\"Bokeh: all callbacks have finished\");\n",
       "  }\n",
       "\n",
       "  function load_libs(js_urls, callback) {\n",
       "    root._bokeh_onload_callbacks.push(callback);\n",
       "    if (root._bokeh_is_loading > 0) {\n",
       "      console.log(\"Bokeh: BokehJS is being loaded, scheduling callback at\", now());\n",
       "      return null;\n",
       "    }\n",
       "    if (js_urls == null || js_urls.length === 0) {\n",
       "      run_callbacks();\n",
       "      return null;\n",
       "    }\n",
       "    console.log(\"Bokeh: BokehJS not loaded, scheduling load and callback at\", now());\n",
       "    root._bokeh_is_loading = js_urls.length;\n",
       "    for (var i = 0; i < js_urls.length; i++) {\n",
       "      var url = js_urls[i];\n",
       "      var s = document.createElement('script');\n",
       "      s.src = url;\n",
       "      s.async = false;\n",
       "      s.onreadystatechange = s.onload = function() {\n",
       "        root._bokeh_is_loading--;\n",
       "        if (root._bokeh_is_loading === 0) {\n",
       "          console.log(\"Bokeh: all BokehJS libraries loaded\");\n",
       "          run_callbacks()\n",
       "        }\n",
       "      };\n",
       "      s.onerror = function() {\n",
       "        console.warn(\"failed to load library \" + url);\n",
       "      };\n",
       "      console.log(\"Bokeh: injecting script tag for BokehJS library: \", url);\n",
       "      document.getElementsByTagName(\"head\")[0].appendChild(s);\n",
       "    }\n",
       "  };var element = document.getElementById(\"ad5021ac-3485-4120-ad99-60375f1c09ac\");\n",
       "  if (element == null) {\n",
       "    console.log(\"Bokeh: ERROR: autoload.js configured with elementid 'ad5021ac-3485-4120-ad99-60375f1c09ac' but no matching script tag was found. \")\n",
       "    return false;\n",
       "  }\n",
       "\n",
       "  var js_urls = [\"https://cdn.pydata.org/bokeh/release/bokeh-0.12.16.min.js\", \"https://cdn.pydata.org/bokeh/release/bokeh-widgets-0.12.16.min.js\", \"https://cdn.pydata.org/bokeh/release/bokeh-tables-0.12.16.min.js\", \"https://cdn.pydata.org/bokeh/release/bokeh-gl-0.12.16.min.js\"];\n",
       "\n",
       "  var inline_js = [\n",
       "    function(Bokeh) {\n",
       "      Bokeh.set_log_level(\"info\");\n",
       "    },\n",
       "    \n",
       "    function(Bokeh) {\n",
       "      \n",
       "    },\n",
       "    function(Bokeh) {\n",
       "      console.log(\"Bokeh: injecting CSS: https://cdn.pydata.org/bokeh/release/bokeh-0.12.16.min.css\");\n",
       "      Bokeh.embed.inject_css(\"https://cdn.pydata.org/bokeh/release/bokeh-0.12.16.min.css\");\n",
       "      console.log(\"Bokeh: injecting CSS: https://cdn.pydata.org/bokeh/release/bokeh-widgets-0.12.16.min.css\");\n",
       "      Bokeh.embed.inject_css(\"https://cdn.pydata.org/bokeh/release/bokeh-widgets-0.12.16.min.css\");\n",
       "      console.log(\"Bokeh: injecting CSS: https://cdn.pydata.org/bokeh/release/bokeh-tables-0.12.16.min.css\");\n",
       "      Bokeh.embed.inject_css(\"https://cdn.pydata.org/bokeh/release/bokeh-tables-0.12.16.min.css\");\n",
       "    }\n",
       "  ];\n",
       "\n",
       "  function run_inline_js() {\n",
       "    \n",
       "    if ((root.Bokeh !== undefined) || (force === true)) {\n",
       "      for (var i = 0; i < inline_js.length; i++) {\n",
       "        inline_js[i].call(root, root.Bokeh);\n",
       "      }if (force === true) {\n",
       "        display_loaded();\n",
       "      }} else if (Date.now() < root._bokeh_timeout) {\n",
       "      setTimeout(run_inline_js, 100);\n",
       "    } else if (!root._bokeh_failed_load) {\n",
       "      console.log(\"Bokeh: BokehJS failed to load within specified timeout.\");\n",
       "      root._bokeh_failed_load = true;\n",
       "    } else if (force !== true) {\n",
       "      var cell = $(document.getElementById(\"ad5021ac-3485-4120-ad99-60375f1c09ac\")).parents('.cell').data().cell;\n",
       "      cell.output_area.append_execute_result(NB_LOAD_WARNING)\n",
       "    }\n",
       "\n",
       "  }\n",
       "\n",
       "  if (root._bokeh_is_loading === 0) {\n",
       "    console.log(\"Bokeh: BokehJS loaded, going straight to plotting\");\n",
       "    run_inline_js();\n",
       "  } else {\n",
       "    load_libs(js_urls, function() {\n",
       "      console.log(\"Bokeh: BokehJS plotting callback run at\", now());\n",
       "      run_inline_js();\n",
       "    });\n",
       "  }\n",
       "}(window));"
      ],
      "application/vnd.bokehjs_load.v0+json": "\n(function(root) {\n  function now() {\n    return new Date();\n  }\n\n  var force = true;\n\n  if (typeof (root._bokeh_onload_callbacks) === \"undefined\" || force === true) {\n    root._bokeh_onload_callbacks = [];\n    root._bokeh_is_loading = undefined;\n  }\n\n  \n\n  \n  if (typeof (root._bokeh_timeout) === \"undefined\" || force === true) {\n    root._bokeh_timeout = Date.now() + 5000;\n    root._bokeh_failed_load = false;\n  }\n\n  var NB_LOAD_WARNING = {'data': {'text/html':\n     \"<div style='background-color: #fdd'>\\n\"+\n     \"<p>\\n\"+\n     \"BokehJS does not appear to have successfully loaded. If loading BokehJS from CDN, this \\n\"+\n     \"may be due to a slow or bad network connection. Possible fixes:\\n\"+\n     \"</p>\\n\"+\n     \"<ul>\\n\"+\n     \"<li>re-rerun `output_notebook()` to attempt to load from CDN again, or</li>\\n\"+\n     \"<li>use INLINE resources instead, as so:</li>\\n\"+\n     \"</ul>\\n\"+\n     \"<code>\\n\"+\n     \"from bokeh.resources import INLINE\\n\"+\n     \"output_notebook(resources=INLINE)\\n\"+\n     \"</code>\\n\"+\n     \"</div>\"}};\n\n  function display_loaded() {\n    var el = document.getElementById(\"ad5021ac-3485-4120-ad99-60375f1c09ac\");\n    if (el != null) {\n      el.textContent = \"BokehJS is loading...\";\n    }\n    if (root.Bokeh !== undefined) {\n      if (el != null) {\n        el.textContent = \"BokehJS \" + root.Bokeh.version + \" successfully loaded.\";\n      }\n    } else if (Date.now() < root._bokeh_timeout) {\n      setTimeout(display_loaded, 100)\n    }\n  }\n\n\n  function run_callbacks() {\n    try {\n      root._bokeh_onload_callbacks.forEach(function(callback) { callback() });\n    }\n    finally {\n      delete root._bokeh_onload_callbacks\n    }\n    console.info(\"Bokeh: all callbacks have finished\");\n  }\n\n  function load_libs(js_urls, callback) {\n    root._bokeh_onload_callbacks.push(callback);\n    if (root._bokeh_is_loading > 0) {\n      console.log(\"Bokeh: BokehJS is being loaded, scheduling callback at\", now());\n      return null;\n    }\n    if (js_urls == null || js_urls.length === 0) {\n      run_callbacks();\n      return null;\n    }\n    console.log(\"Bokeh: BokehJS not loaded, scheduling load and callback at\", now());\n    root._bokeh_is_loading = js_urls.length;\n    for (var i = 0; i < js_urls.length; i++) {\n      var url = js_urls[i];\n      var s = document.createElement('script');\n      s.src = url;\n      s.async = false;\n      s.onreadystatechange = s.onload = function() {\n        root._bokeh_is_loading--;\n        if (root._bokeh_is_loading === 0) {\n          console.log(\"Bokeh: all BokehJS libraries loaded\");\n          run_callbacks()\n        }\n      };\n      s.onerror = function() {\n        console.warn(\"failed to load library \" + url);\n      };\n      console.log(\"Bokeh: injecting script tag for BokehJS library: \", url);\n      document.getElementsByTagName(\"head\")[0].appendChild(s);\n    }\n  };var element = document.getElementById(\"ad5021ac-3485-4120-ad99-60375f1c09ac\");\n  if (element == null) {\n    console.log(\"Bokeh: ERROR: autoload.js configured with elementid 'ad5021ac-3485-4120-ad99-60375f1c09ac' but no matching script tag was found. \")\n    return false;\n  }\n\n  var js_urls = [\"https://cdn.pydata.org/bokeh/release/bokeh-0.12.16.min.js\", \"https://cdn.pydata.org/bokeh/release/bokeh-widgets-0.12.16.min.js\", \"https://cdn.pydata.org/bokeh/release/bokeh-tables-0.12.16.min.js\", \"https://cdn.pydata.org/bokeh/release/bokeh-gl-0.12.16.min.js\"];\n\n  var inline_js = [\n    function(Bokeh) {\n      Bokeh.set_log_level(\"info\");\n    },\n    \n    function(Bokeh) {\n      \n    },\n    function(Bokeh) {\n      console.log(\"Bokeh: injecting CSS: https://cdn.pydata.org/bokeh/release/bokeh-0.12.16.min.css\");\n      Bokeh.embed.inject_css(\"https://cdn.pydata.org/bokeh/release/bokeh-0.12.16.min.css\");\n      console.log(\"Bokeh: injecting CSS: https://cdn.pydata.org/bokeh/release/bokeh-widgets-0.12.16.min.css\");\n      Bokeh.embed.inject_css(\"https://cdn.pydata.org/bokeh/release/bokeh-widgets-0.12.16.min.css\");\n      console.log(\"Bokeh: injecting CSS: https://cdn.pydata.org/bokeh/release/bokeh-tables-0.12.16.min.css\");\n      Bokeh.embed.inject_css(\"https://cdn.pydata.org/bokeh/release/bokeh-tables-0.12.16.min.css\");\n    }\n  ];\n\n  function run_inline_js() {\n    \n    if ((root.Bokeh !== undefined) || (force === true)) {\n      for (var i = 0; i < inline_js.length; i++) {\n        inline_js[i].call(root, root.Bokeh);\n      }if (force === true) {\n        display_loaded();\n      }} else if (Date.now() < root._bokeh_timeout) {\n      setTimeout(run_inline_js, 100);\n    } else if (!root._bokeh_failed_load) {\n      console.log(\"Bokeh: BokehJS failed to load within specified timeout.\");\n      root._bokeh_failed_load = true;\n    } else if (force !== true) {\n      var cell = $(document.getElementById(\"ad5021ac-3485-4120-ad99-60375f1c09ac\")).parents('.cell').data().cell;\n      cell.output_area.append_execute_result(NB_LOAD_WARNING)\n    }\n\n  }\n\n  if (root._bokeh_is_loading === 0) {\n    console.log(\"Bokeh: BokehJS loaded, going straight to plotting\");\n    run_inline_js();\n  } else {\n    load_libs(js_urls, function() {\n      console.log(\"Bokeh: BokehJS plotting callback run at\", now());\n      run_inline_js();\n    });\n  }\n}(window));"
     },
     "metadata": {},
     "output_type": "display_data"
    }
   ],
   "source": [
    "output_notebook()"
   ]
  },
  {
   "cell_type": "code",
   "execution_count": 44,
   "metadata": {
    "collapsed": true
   },
   "outputs": [],
   "source": [
    "MOL = 'co2'"
   ]
  },
  {
   "cell_type": "code",
   "execution_count": 45,
   "metadata": {
    "collapsed": true
   },
   "outputs": [],
   "source": [
    "ATMPRO = dict(mls=294, saw=257, trp=300)"
   ]
  },
  {
   "cell_type": "code",
   "execution_count": 46,
   "metadata": {
    "collapsed": true
   },
   "outputs": [],
   "source": [
    "COMMITNUMBER = '1013f91'"
   ]
  },
  {
   "cell_type": "code",
   "execution_count": 47,
   "metadata": {
    "collapsed": true
   },
   "outputs": [],
   "source": [
    "client = pymongo.MongoClient('localhost', 27017)"
   ]
  },
  {
   "cell_type": "code",
   "execution_count": 48,
   "metadata": {
    "collapsed": true
   },
   "outputs": [],
   "source": [
    "def show_html(s):\n",
    "    display.display(display.HTML(s))\n",
    "\n",
    "def show_markdown(s):\n",
    "    display.display(display.Markdown(s))"
   ]
  },
  {
   "cell_type": "code",
   "execution_count": 49,
   "metadata": {
    "collapsed": true
   },
   "outputs": [],
   "source": [
    "def to_lblnewparam(param=None):\n",
    "    '''\n",
    "    Convert clirad's input parameter dictionary \n",
    "    into something like lblnew's.\n",
    "    '''\n",
    "    band = param['band'][0]\n",
    "    band = mapband_new2old()[band]\n",
    "    atmpro = param['atmpro']\n",
    "    tsfc = param['tsfc']\n",
    "    \n",
    "    p = {'band': band, \n",
    "         'atmpro': atmpro, 'tsfc': tsfc,\n",
    "         'dv': .001, 'nv': 1000}\n",
    "    \n",
    "    if len(param['molecule']) > 1: p['molecule'] = param['molecule']\n",
    "    else: \n",
    "        molecule, conc = list(param['molecule'].items())[0]\n",
    "        p['molecule'] = molecule\n",
    "        if conc == 'atmpro': p['conc'] = None\n",
    "        else: p['conc'] = conc\n",
    "    return p\n",
    "\n",
    "def make_query(param=None):\n",
    "    molecules = {'h2o', 'co2', 'o3', 'n2o', 'ch4'}\n",
    "    q = {}\n",
    "    for n, v in param.items():\n",
    "        if n == 'molecule' and type(v) == dict:\n",
    "            for mol, conc in v.items():\n",
    "                q[f'param.molecule.{mol}'] = conc\n",
    "            for mol in molecules - set(v.keys()):\n",
    "                q[f'param.molecule.{mol}'] = {'$exists': 0}\n",
    "        else:\n",
    "            q[f'param.{n}'] = v\n",
    "    return q"
   ]
  },
  {
   "cell_type": "code",
   "execution_count": 50,
   "metadata": {
    "collapsed": true
   },
   "outputs": [],
   "source": [
    "def subparam_atm_clirad(atmpro='mls'):\n",
    "    commitnumber = COMMITNUMBER\n",
    "    atm = nongreys_byband()\n",
    "    band = list(atm.keys())\n",
    "    molecule = {mol: conc for _, molconcs in atm.items() \n",
    "                for mol, conc in molconcs.items() if mol == MOL}\n",
    "    return dict(commitnumber=commitnumber,\n",
    "                band=band, molecule=molecule, \n",
    "                atmpro=atmpro, tsfc=ATMPRO[atmpro])\n",
    "\n",
    "def clirad_data_atm(params_atm=None):\n",
    "    for p in params_atm:\n",
    "        q = make_query(p)\n",
    "        r = client.cliradnew.lw.find_one(q)\n",
    "        fluxs, cools = [], []\n",
    "        if not r: print('No data found for', p['molecule'], p['band'])\n",
    "        else: \n",
    "            fluxs.append(load_output_file(io.StringIO(r['output_flux'])))\n",
    "            cools.append(load_output_file(io.StringIO(r['output_coolr'])))\n",
    "    return dict(flux=sum(fluxs), cool=sum(cools))"
   ]
  },
  {
   "cell_type": "code",
   "execution_count": 51,
   "metadata": {
    "collapsed": true,
    "scrolled": false
   },
   "outputs": [],
   "source": [
    "def load_lblnew_data(r):\n",
    "    '''\n",
    "    Loads a lblnew-bestfit mongodb document's fluxes and cooling rates.\n",
    "    '''\n",
    "    if 'ng_refs' in r['param']:\n",
    "        ns = {'ds_flux_crd': 'output_flux',\n",
    "              'ds_cool_crd': 'output_coolr',\n",
    "              'ds_flux_wgt': 'output_wfluxg',\n",
    "              'ds_cool_wgt': 'output_wcoolrg'}\n",
    "    else:\n",
    "        ns = {'ds_flux_crd': 'output_flux',\n",
    "              'ds_cool_crd': 'output_coolr',\n",
    "              'ds_flux_wgt': 'output_wflux',\n",
    "              'ds_cool_wgt': 'output_wcoolr'}\n",
    "    return {n: load_output_file(io.StringIO(r[s])) for n, s in ns.items()}\n",
    "\n",
    "def subparams_atm_lblnew(atmpro='mls'):\n",
    "    '''\n",
    "    Returns the list of {band, conc, molecule} dictionaries that\n",
    "    represent the model atmosphere.\n",
    "    '''  \n",
    "    atm = nongreys_byband()\n",
    "    subparams_clirad = [dict(band=[band], \n",
    "                             molecule={mol: conc for mol, conc in molconc.items() if mol == MOL},\n",
    "                             atmpro=atmpro, tsfc=ATMPRO[atmpro]) \n",
    "                        for band, molconc in atm.items() if MOL in molconc]\n",
    "    return [to_lblnewparam(p) for p in subparams_clirad]\n",
    "\n",
    "def crd_data_atm(params_atm=None):\n",
    "    '''\n",
    "    Returns Dataset containing CRD fluxes and cooling rates at\n",
    "    different pressures and spectral bands.\n",
    "    '''\n",
    "    results_atm = {}\n",
    "    for p in params_atm:\n",
    "        if isinstance(p['molecule'], dict): \n",
    "            collection = client.lblnew.overlap_lw\n",
    "        else: \n",
    "            collection = client.lblnew.bestfit_lw\n",
    "        \n",
    "        q = make_query(p)\n",
    "        r = collection.find_one(q)\n",
    "        if not r: print('No data found for', p['molecule'], p['band'])\n",
    "        else: results_atm[r['param']['band']] = load_lblnew_data(r)\n",
    "\n",
    "    bands = [mapband_old2new()[b] for b, _ in results_atm.items()]\n",
    "    fluxs = [d['ds_flux_crd'] for _, d in results_atm.items()]\n",
    "    cools = [d['ds_cool_crd'] for _, d in results_atm.items()]\n",
    "    \n",
    "    d = {}\n",
    "    d['flux'] = xr.concat(fluxs, dim=bands).rename({'concat_dim': 'band'})\n",
    "    d['cool'] = xr.concat(cools, dim=bands).rename({'concat_dim': 'band'})\n",
    "    return d"
   ]
  },
  {
   "cell_type": "code",
   "execution_count": 52,
   "metadata": {
    "collapsed": true
   },
   "outputs": [],
   "source": [
    "import rtmtools.clirad.sw.wrangle as cliradwrangle\n",
    "\n",
    "def oldclirad_data_atm():\n",
    "    '''\n",
    "    Load the OLD clirad's results. mls only.\n",
    "    '''\n",
    "    fpath = os.path.join('/chia_cluster/home/jackyu/radiation',\n",
    "                         'clirad-lw',\n",
    "                         'LW',\n",
    "                         'examples',\n",
    "                         'mls75_h2o_atmpro_co2_.0004_o3_atmpro_n2o_3.2e-7_ch4_1.8e-6_H2012',\n",
    "                         'OUTPUT_CLIRAD.dat')\n",
    "    \n",
    "    ds = cliradwrangle.load_OUTPUT_CLIRAD(readfrom=fpath)\n",
    "    \n",
    "    ds_cool = xr.Dataset()\n",
    "    ds_cool.coords['pressure'] = ('pressure', ds['layer_pressure'])\n",
    "    ds_cool.coords['band'] = ('band', ds['spectral_band'])\n",
    "    ds_cool['coolrg'] = (('band', 'pressure'), - ds['heating_rate'])\n",
    "    \n",
    "    ds_flux = xr.Dataset()\n",
    "    ds_flux.coords['pressure'] = ('pressure', ds['level_pressure'])\n",
    "    ds_flux.coords['band'] = ('band', ds['spectral_band'])\n",
    "    ds_flux['flug'] = (('band', 'pressure'), ds['flux_up'])\n",
    "    ds_flux['fldg'] = (('band', 'pressure'), ds['flux_down'])\n",
    "    ds_flux['fnetg'] = (('band', 'pressure'), ds['net_flux'])\n",
    "    \n",
    "    \n",
    "    d = {}\n",
    "    d['cool'] = ds_cool\n",
    "    d['flux'] = ds_flux\n",
    "    return d"
   ]
  },
  {
   "cell_type": "code",
   "execution_count": 53,
   "metadata": {
    "collapsed": true
   },
   "outputs": [],
   "source": [
    "def show_makeup():\n",
    "    df = pd.DataFrame()\n",
    "\n",
    "    for band, molecule in nongreys_byband().items():\n",
    "        for name, conc in molecule.items():\n",
    "            if name == MOL:\n",
    "                df.loc[name, band] = str(conc)\n",
    "\n",
    "    df = df.fillna(0)\n",
    "    df.columns.name = 'clirad band'\n",
    "    df.index.name = 'molecule'\n",
    "    \n",
    "    display.display(df)\n",
    "    \n",
    "    display.display(\n",
    "        display.Markdown('*TABLE.* Non-grey absorbers in the atmosphere.'))\n",
    "\n",
    "\n",
    "def show_grey_makeup():\n",
    "    df = pd.DataFrame()\n",
    "    \n",
    "    for band, molecule in greyabsorbers_by_band_atm().items():\n",
    "        if molecule == None:\n",
    "            pass\n",
    "        else:\n",
    "            for name, conc in molecule.items():\n",
    "                df.loc[name, band] = str(conc)\n",
    "                \n",
    "    df = df.fillna(0)\n",
    "    df.columns.name = 'clirad band'\n",
    "    df.index.name = 'absorber'\n",
    "    \n",
    "    display.display(df)\n",
    "    display.display(\n",
    "        display.Markdown('*TABLE.* Grey absorbers in the atmosphere.')\n",
    "    )"
   ]
  },
  {
   "cell_type": "code",
   "execution_count": 54,
   "metadata": {
    "collapsed": true
   },
   "outputs": [],
   "source": [
    "def fmt_cool(ds_in):\n",
    "    ds = ds_in.copy(deep=True)\n",
    "    dims = ['igg', 'g', 'i']\n",
    "    for dim in dims:\n",
    "        if dim in ds:\n",
    "            if ds[dim].shape == (1,): ds = ds.squeeze(dim).drop(dim)\n",
    "            elif ds[dim].shape == (): ds = ds.drop(dim)\n",
    "    if 'band' in ds.dims:\n",
    "        try:\n",
    "            ds = ds.squeeze('band')\n",
    "        except ValueError:\n",
    "            ds = ds.sum('band')     \n",
    "    return ds['coolrg']\n",
    "\n",
    "def nice_xlims(pltdata=None, prange=None):\n",
    "    \n",
    "    def get_slice(srs):\n",
    "        return srs.sel(pressure=slice(*prange))\n",
    "    \n",
    "    srss = [d['srs'] for d in pltdata]\n",
    "    vmin = min([get_slice(srs).min() for srs in srss])\n",
    "    vmax = max([get_slice(srs).max() for srs in srss])\n",
    "    dv = (vmax - vmin) * .01\n",
    "    return float(vmin - dv), float(vmax + dv)\n",
    " \n",
    "def plt_cool_bokeh(pltdata=None, \n",
    "                   y_axis_type='linear', prange=(50, 1050)):\n",
    "    \n",
    "    ymin = 1e-2 \n",
    "    ymax = 1020\n",
    "    \n",
    "    p2 = figure(y_axis_type=y_axis_type, plot_width=300)\n",
    "    xmin, xmax = nice_xlims(pltdata, prange=prange)\n",
    "    \n",
    "    rs = []\n",
    "    for d in pltdata:\n",
    "        rd = []\n",
    "        if 'marker' in d:\n",
    "            r_mark = getattr(p2, d['marker'])(d['srs'].values, \n",
    "                        d['srs'].coords['pressure'].values,\n",
    "                        color=d['color'], alpha=.7)\n",
    "            rd.append(r_mark)\n",
    "        r_line = p2.line(d['srs'].values, \n",
    "                         d['srs'].coords['pressure'].values,\n",
    "                         color=d['color'], alpha=d['alpha'], \n",
    "                         line_width=d['line_width'], \n",
    "                         line_dash=d['line_dash'])\n",
    "        rd.append(r_line)\n",
    "      \n",
    "        rs.append(rd)\n",
    "        \n",
    "    p2.y_range = Range1d(ymax, ymin)  \n",
    "    p2.yaxis.axis_label = 'pressure [mb]'\n",
    "    \n",
    "    p2.x_range = Range1d(xmin, xmax)\n",
    "    p2.xaxis.axis_label = 'cooling rate [K/day]'\n",
    "    \n",
    "    items = [(d['label'], r) for r, d in zip(rs, pltdata)]\n",
    "    legend = Legend(items=items, location=(10, 0))\n",
    "    legend.label_text_font_size = '8pt'\n",
    "    p2.add_layout(legend, 'above')\n",
    "    p2.legend.orientation = 'horizontal'\n",
    "    p2.legend.location = 'top_center'\n",
    "    \n",
    "    return p2"
   ]
  },
  {
   "cell_type": "code",
   "execution_count": 55,
   "metadata": {
    "collapsed": true,
    "scrolled": false
   },
   "outputs": [],
   "source": [
    "def pltdata_cool(atmpro='mls'):\n",
    "    ds_clirad = clirad_data_atm(params_atm=[subparam_atm_clirad(atmpro=atmpro)])['cool']\n",
    "    ds_crd = crd_data_atm(params_atm=subparams_atm_lblnew(atmpro=atmpro))['cool']\n",
    "\n",
    "    colors = all_palettes['Set1'][4]\n",
    "    \n",
    "    data = [\n",
    "        {'label': 'CLIRAD',\n",
    "         'srs': fmt_cool(ds_clirad),\n",
    "         'line_dash': 'dashed', 'line_width': 5,\n",
    "         'color': colors[0], 'alpha': .6},\n",
    "        {'label': 'CRD',\n",
    "         'srs': fmt_cool(ds_crd),\n",
    "         'line_dash': 'solid', 'line_width': 1.5,\n",
    "         'marker': 'circle', 'marker_size': 5,\n",
    "         'color': colors[2], 'alpha': 1}\n",
    "    ]\n",
    "    \n",
    "    # include old CLIRAD's results for mls profile\n",
    "#    if atmpro == 'mls':\n",
    "#        d_oldclirad = oldclirad_data_atm()\n",
    "#        ds_oldclirad = d_oldclirad['cool']        \n",
    "#        data.append(\n",
    "#            {'label': 'old CLIRAD (H2012)',\n",
    "#             'srs': fmt_cool(ds_oldclirad),\n",
    "#             'line_dash': 'solid', 'line_width': 1.5,\n",
    "#             'marker': 'square', 'marker_size': 3,\n",
    "#             'color': colors[3], 'alpha': .5})\n",
    "    return data\n",
    "\n",
    "\n",
    "def pltdata_cooldiff(atmpro='mls'):\n",
    "    ds_clirad = clirad_data_atm(params_atm=[subparam_atm_clirad(atmpro=atmpro)])['cool']\n",
    "    ds_crd = crd_data_atm(params_atm=subparams_atm_lblnew(atmpro=atmpro))['cool']    \n",
    "    \n",
    "    ds_diff = ds_clirad - ds_crd\n",
    "    \n",
    "    colors = all_palettes['Set1'][4]\n",
    "    \n",
    "    data = [\n",
    "        {'label': 'CLIRAD - CRD',\n",
    "         'srs': fmt_cool(ds_diff),\n",
    "         'line_dash': 'solid', 'line_width': 1.5, \n",
    "         'marker': 'circle', 'marker_size': 7,\n",
    "         'color': colors[3], 'alpha': .8}\n",
    "    ]\n",
    "    \n",
    "    # include old CLIRAD's results for mls profile\n",
    "#    if atmpro == 'mls':\n",
    "#        d_oldclirad = oldclirad_data_atm()\n",
    "#        ds_oldclirad = d_oldclirad['cool']\n",
    "#        ds_oldclirad.coords['pressure'] = ds_crd.coords['pressure']\n",
    "#        ds_diff_old = ds_oldclirad.sum('band') - ds_crd.sum('band')\n",
    "#        data.append(\n",
    "#            {'label': 'old CLIRAD (H2012) - CRD',\n",
    "#             'srs': fmt_cool(ds_diff_old),\n",
    "#             'line_dash': 'dashed', 'line_width': 4,\n",
    "#             'color': colors[1], 'alpha': .5}\n",
    "#        )\n",
    "    return data\n",
    "\n",
    "\n",
    "def show_cool(atmpro='mls'):\n",
    "    data_cool = pltdata_cool(atmpro=atmpro)\n",
    "    p_cool_liny = plt_cool_bokeh(pltdata=data_cool)\n",
    "    p_cool_logy = plt_cool_bokeh(pltdata=data_cool, \n",
    "                                 y_axis_type='log',\n",
    "                                 prange=(.01, 200))\n",
    "    \n",
    "    data_cooldiff = pltdata_cooldiff(atmpro=atmpro)\n",
    "    p_cooldiff_logy = plt_cool_bokeh(pltdata=data_cooldiff,\n",
    "                                     y_axis_type='log',\n",
    "                                     prange=(.01, 200))\n",
    "    \n",
    "    everything = gridplot(p_cool_liny, p_cool_logy, \n",
    "                          p_cooldiff_logy,\n",
    "                          ncols=3)\n",
    "    show(everything)\n",
    "    display.display(\n",
    "        display.Markdown('*FIGURE.* Cooling rates & difference.'))\n",
    "    "
   ]
  },
  {
   "cell_type": "code",
   "execution_count": 56,
   "metadata": {
    "collapsed": true,
    "scrolled": false
   },
   "outputs": [],
   "source": [
    "def fmt_flux(ds_in):\n",
    "    ds = ds_in.copy(deep=True)\n",
    "    for dim in ['band', 'g']:\n",
    "        if dim in ds: ds = ds.sum(dim)\n",
    "        \n",
    "    for dim in ['i', 'igg', 'g']:\n",
    "        if dim in ds:\n",
    "            if ds[dim].shape == (1,): ds = ds.squeeze(dim).drop(dim)\n",
    "            elif ds[dim].shape == (): ds = ds.drop(dim)\n",
    "    return ds\n",
    "\n",
    "def hist_band_vs_flux(da, title='Title'):\n",
    "    da = da.sel(i=1)\n",
    "    bands = [str(b.values) for b in da['band']]\n",
    "    source = ColumnDataSource(data={'band': bands, 'flux': da.values})\n",
    "    p = figure(x_range=bands, title=title)\n",
    "    p.vbar(source=source, x='band', top='flux', width=.9)\n",
    "    p.yaxis.axis_label = 'flux (W m-2)'\n",
    "    p.xaxis.axis_label = 'spectral band'\n",
    "    return p\n",
    "\n",
    "def show_hist_flux(atmpro='mls'):\n",
    "    ds_crd = crd_data_atm(params_atm=subparams_atm_lblnew(atmpro=atmpro))['flux']\n",
    "    ds_clirad = clirad_data_atm(params_atm=[subparam_atm_clirad(atmpro=atmpro)])['flux']\n",
    "    \n",
    "    ip, varname = 0, 'flug'\n",
    "    da = (ds_clirad - ds_crd).isel(pressure=ip)[varname]\n",
    "    p_toa = hist_band_vs_flux(da, title='TOA flux. CLIRAD - CRD.')\n",
    "\n",
    "    ip, varname = -1, 'fldg'\n",
    "    da = (ds_clirad - ds_crd).isel(pressure=ip)[varname]\n",
    "    p_sfc = hist_band_vs_flux(da, title='SFC flux. CLIRAD - CRD.')    \n",
    "    \n",
    "    atm_crd = (ds_crd.isel(pressure=0) - ds_crd.isel(pressure=-1))['fnetg']\n",
    "    atm_clirad = (ds_clirad.isel(pressure=0) - ds_clirad.isel(pressure=-1))['fnetg']\n",
    "    da = atm_clirad - atm_crd\n",
    "    p_atm = hist_band_vs_flux(da, title='Atmosphere heating. CLIRAD - CRD.')\n",
    "\n",
    "    everything = gridplot(p_toa, p_sfc, p_atm, ncols=3, plot_width=300, plot_height=300)\n",
    "    \n",
    "    show(everything)\n",
    "    display.display(\n",
    "        display.Markdown('*FIGURE.* Difference between CLIRAD and CRD'\n",
    "          ' in TOA, SFC and net atmosphere flux,'\n",
    "          ' in each spectral band.'))\n",
    "\n",
    "def show_tb_flux(atmpro='mls'):\n",
    "    \n",
    "    def fmt(da_in):\n",
    "        da = da_in.copy(deep=True)\n",
    "        if 'igg' in da.dims:\n",
    "            da = da.sel(igg=1)\n",
    "            \n",
    "        if 'g' in da.dims:\n",
    "            da = da.sum('g')\n",
    "        \n",
    "        if 'band' in da.dims:\n",
    "            try:\n",
    "                da = da.squeeze('band')\n",
    "            except ValueError:\n",
    "                da = da.sum('band')\n",
    "                \n",
    "        return da\n",
    "    \n",
    "    ds_crd = crd_data_atm(params_atm=subparams_atm_lblnew(atmpro=atmpro))['flux']\n",
    "    olr_crd = ds_crd['flug'].isel(pressure=0)\n",
    "    sfc_crd = ds_crd['fldg'].isel(pressure=-1)\n",
    "    atm_crd = (ds_crd.isel(pressure=0) - ds_crd.isel(pressure=-1))['fnetg']\n",
    "    \n",
    "    ds_clirad = clirad_data_atm(params_atm=[subparam_atm_clirad(atmpro=atmpro)])['flux']\n",
    "    olr_clirad = ds_clirad['flug'].isel(pressure=0)\n",
    "    sfc_clirad = ds_clirad['fldg'].isel(pressure=-1)\n",
    "    atm_clirad = (ds_clirad.isel(pressure=0) - ds_clirad.isel(pressure=-1))['fnetg']\n",
    "    \n",
    "#    if atmpro == 'mls':\n",
    "#        ds_oldclirad = oldclirad_data_atm()['flux']\n",
    "#        ds_oldclirad['pressure'] = ds_crd['pressure']\n",
    "#        olr_oldclirad = ds_oldclirad['flug'].isel(pressure=0)\n",
    "#        sfc_oldclirad = ds_oldclirad['fldg'].isel(pressure=-1)\n",
    "#        atm_oldclirad = (ds_oldclirad.isel(pressure=0)\n",
    "#                         - ds_oldclirad.isel(pressure=-1))['fnetg']\n",
    "        \n",
    "    df = pd.DataFrame()\n",
    "    df.index.name = 'Sum over bands'\n",
    "    \n",
    "#    if atmpro == 'mls':\n",
    "#        df.loc['old CLIRAD - CRD', 'OLR flux'] = (fmt(olr_oldclirad) - fmt(olr_crd)).values\n",
    "#        df.loc['old CLIRAD - CRD', 'SFC flux'] = (fmt(sfc_oldclirad) - fmt(sfc_crd)).values\n",
    "#        df.loc['old CLIRAD - CRD', 'ATM heating'] = (fmt(atm_oldclirad) - fmt(atm_crd)).values\n",
    "    \n",
    "    df.loc['CLIRAD - CRD', 'OLR flux'] = (fmt(olr_clirad) - fmt(olr_crd)).values\n",
    "    df.loc['CLIRAD - CRD', 'SFC flux'] = (fmt(sfc_clirad) - fmt(sfc_crd)).values\n",
    "    df.loc['CLIRAD - CRD', 'ATM heating'] = (fmt(atm_clirad) - fmt(atm_crd)).values\n",
    "\n",
    "    df.loc['CRD', 'OLR flux'] = fmt(olr_crd).values\n",
    "    df.loc['CRD', 'SFC flux'] = fmt(sfc_crd).values\n",
    "    df.loc['CRD', 'ATM heating'] = fmt(atm_crd).values\n",
    "        \n",
    "    df = df.astype('float').round(2)\n",
    "    \n",
    "    display.display(df)\n",
    "    display.display(\n",
    "        display.Markdown('*TABLE.* Difference between CLIRAD and CRD'\n",
    "          ' in TOA, SFC and net atmosphere flux,'\n",
    "          ' over all spectral bands. CRD\\'s'\n",
    "          ' TOA, SFC and net atmosphere flux,'\n",
    "          ' over all spectral bands.'))"
   ]
  },
  {
   "cell_type": "code",
   "execution_count": 57,
   "metadata": {
    "collapsed": true,
    "scrolled": true
   },
   "outputs": [],
   "source": [
    "def cool_tofile(atmpro=None):\n",
    "    dcli = clirad_data_atm(params_atm=[subparam_atm_clirad(atmpro=atmpro)])\n",
    "    dcrd = crd_data_atm(params_atm=subparams_atm_lblnew(atmpro=atmpro))\n",
    "    \n",
    "    dcli = dcli['cool'].sel(i=1).drop('i').sum('band')\n",
    "    dcrd = dcrd['cool'].sum('band')\n",
    "    \n",
    "    dcli = dcli['coolrg'].to_dataframe()\n",
    "    dcrd = dcrd['coolrg'].to_dataframe()\n",
    "    \n",
    "    dcli = dcli.set_index('layer', append=True)\n",
    "    dcrd = dcrd.set_index('layer', append=True)\n",
    "    \n",
    "    ddif = dcli - dcrd\n",
    "    \n",
    "    df = pd.concat([dcrd, dcli, ddif], axis=1, keys=['CRD', 'CLIRAD', 'CLIRAD - CRD'])\n",
    "    return df\n",
    "\n",
    "\n",
    "def flux_tofile(atmpro=None):\n",
    "    tropopauses = {'mls': 40, 'saw': 45, 'trp': 37}\n",
    "    ilevels = [0, tropopauses[atmpro], -1]\n",
    "    \n",
    "    dcli = clirad_data_atm(params_atm=[subparam_atm_clirad(atmpro=atmpro)])\n",
    "    dcrd = crd_data_atm(params_atm=subparams_atm_lblnew(atmpro=atmpro))\n",
    "    \n",
    "    dcli = dcli['flux'].sel(i=1).drop('i').sum('band').isel(pressure=ilevels)\n",
    "    dcrd = dcrd['flux'].sum('band').isel(pressure=ilevels)\n",
    "    \n",
    "    dcli = dcli.to_dataframe()\n",
    "    dcrd = dcrd.to_dataframe()\n",
    "    \n",
    "    dcli = dcli.set_index('level', append=True)\n",
    "    dcrd = dcrd.set_index('level', append=True)\n",
    "    \n",
    "    ddif = dcli - dcrd\n",
    "    \n",
    "    df = pd.concat([dcrd, dcli, ddif], axis=1, keys=['CRD', 'CLIRAD', 'CLIRAD - CRD'])\n",
    "    return df\n",
    "\n",
    "\n",
    "def script_tofile():\n",
    "    fname = f'results_{MOL}atm_cliradsinglerun-Copy2.xlsx'\n",
    "    writer = pd.ExcelWriter(fname)\n",
    "    for atmpro in ('mls', 'saw', 'trp'):\n",
    "        dflux = flux_tofile(atmpro=atmpro)\n",
    "        dflux.to_excel(writer, f'flux {atmpro}')\n",
    "        \n",
    "        dcool = cool_tofile(atmpro=atmpro)\n",
    "        dcool.to_excel(writer, f'cool {atmpro}')\n",
    "        \n",
    "    html = f'Download: <a href=\"./{fname}\">{fname}</a>'\n",
    "    show_html(html)\n",
    "\n",
    "        "
   ]
  },
  {
   "cell_type": "code",
   "execution_count": 58,
   "metadata": {
    "scrolled": false
   },
   "outputs": [
    {
     "data": {
      "text/markdown": [
       "## Results over entire range of molecules and spectral bands"
      ],
      "text/plain": [
       "<IPython.core.display.Markdown object>"
      ]
     },
     "metadata": {},
     "output_type": "display_data"
    },
    {
     "data": {
      "text/markdown": [
       "### Table of Contents"
      ],
      "text/plain": [
       "<IPython.core.display.Markdown object>"
      ]
     },
     "metadata": {},
     "output_type": "display_data"
    },
    {
     "data": {
      "text/html": [
       "<a href=\"#Makeup_of_atmosphere.\">Makeup of atmosphere.</a>"
      ],
      "text/plain": [
       "<IPython.core.display.HTML object>"
      ]
     },
     "metadata": {},
     "output_type": "display_data"
    },
    {
     "data": {
      "text/markdown": [
       "**mid-latitude summer**"
      ],
      "text/plain": [
       "<IPython.core.display.Markdown object>"
      ]
     },
     "metadata": {},
     "output_type": "display_data"
    },
    {
     "data": {
      "text/html": [
       "<a href=\"#Cooling_rates._mls.\">Cooling rates. mls.</a>"
      ],
      "text/plain": [
       "<IPython.core.display.HTML object>"
      ]
     },
     "metadata": {},
     "output_type": "display_data"
    },
    {
     "data": {
      "text/html": [
       "<a href=\"#Fluxes._mls.\">Fluxes. mls.</a>"
      ],
      "text/plain": [
       "<IPython.core.display.HTML object>"
      ]
     },
     "metadata": {},
     "output_type": "display_data"
    },
    {
     "data": {
      "text/markdown": [
       "**sub-arctic winter**"
      ],
      "text/plain": [
       "<IPython.core.display.Markdown object>"
      ]
     },
     "metadata": {},
     "output_type": "display_data"
    },
    {
     "data": {
      "text/html": [
       "<a href=\"#Cooling_rates._saw.\">Cooling rates. saw.</a>"
      ],
      "text/plain": [
       "<IPython.core.display.HTML object>"
      ]
     },
     "metadata": {},
     "output_type": "display_data"
    },
    {
     "data": {
      "text/html": [
       "<a href=\"#Fluxes._saw.\">Fluxes. saw.</a>"
      ],
      "text/plain": [
       "<IPython.core.display.HTML object>"
      ]
     },
     "metadata": {},
     "output_type": "display_data"
    },
    {
     "data": {
      "text/markdown": [
       "**tropical**"
      ],
      "text/plain": [
       "<IPython.core.display.Markdown object>"
      ]
     },
     "metadata": {},
     "output_type": "display_data"
    },
    {
     "data": {
      "text/html": [
       "<a href=\"#Cooling_rates._trp.\">Cooling rates. trp.</a>"
      ],
      "text/plain": [
       "<IPython.core.display.HTML object>"
      ]
     },
     "metadata": {},
     "output_type": "display_data"
    },
    {
     "data": {
      "text/html": [
       "<a href=\"#Fluxes._trp.\">Fluxes. trp.</a>"
      ],
      "text/plain": [
       "<IPython.core.display.HTML object>"
      ]
     },
     "metadata": {},
     "output_type": "display_data"
    },
    {
     "data": {
      "text/html": [
       "<a id=\"Makeup_of_atmosphere.\"></a>"
      ],
      "text/plain": [
       "<IPython.core.display.HTML object>"
      ]
     },
     "metadata": {},
     "output_type": "display_data"
    },
    {
     "data": {
      "text/markdown": [
       "# Makeup of atmosphere."
      ],
      "text/plain": [
       "<IPython.core.display.Markdown object>"
      ]
     },
     "metadata": {},
     "output_type": "display_data"
    },
    {
     "data": {
      "text/html": [
       "<div>\n",
       "<style scoped>\n",
       "    .dataframe tbody tr th:only-of-type {\n",
       "        vertical-align: middle;\n",
       "    }\n",
       "\n",
       "    .dataframe tbody tr th {\n",
       "        vertical-align: top;\n",
       "    }\n",
       "\n",
       "    .dataframe thead th {\n",
       "        text-align: right;\n",
       "    }\n",
       "</style>\n",
       "<table border=\"1\" class=\"dataframe\">\n",
       "  <thead>\n",
       "    <tr style=\"text-align: right;\">\n",
       "      <th>clirad band</th>\n",
       "      <th>3</th>\n",
       "      <th>4</th>\n",
       "      <th>5</th>\n",
       "      <th>6</th>\n",
       "      <th>7</th>\n",
       "      <th>11</th>\n",
       "    </tr>\n",
       "    <tr>\n",
       "      <th>molecule</th>\n",
       "      <th></th>\n",
       "      <th></th>\n",
       "      <th></th>\n",
       "      <th></th>\n",
       "      <th></th>\n",
       "      <th></th>\n",
       "    </tr>\n",
       "  </thead>\n",
       "  <tbody>\n",
       "    <tr>\n",
       "      <th>co2</th>\n",
       "      <td>0.0004</td>\n",
       "      <td>0.0004</td>\n",
       "      <td>0.0004</td>\n",
       "      <td>0.0004</td>\n",
       "      <td>0.0004</td>\n",
       "      <td>0.0004</td>\n",
       "    </tr>\n",
       "  </tbody>\n",
       "</table>\n",
       "</div>"
      ],
      "text/plain": [
       "clirad band      3       4       5       6       7       11\n",
       "molecule                                                   \n",
       "co2          0.0004  0.0004  0.0004  0.0004  0.0004  0.0004"
      ]
     },
     "metadata": {},
     "output_type": "display_data"
    },
    {
     "data": {
      "text/markdown": [
       "*TABLE.* Non-grey absorbers in the atmosphere."
      ],
      "text/plain": [
       "<IPython.core.display.Markdown object>"
      ]
     },
     "metadata": {},
     "output_type": "display_data"
    },
    {
     "data": {
      "text/html": [
       "<a id=\"Cooling_rates._mls.\"></a>"
      ],
      "text/plain": [
       "<IPython.core.display.HTML object>"
      ]
     },
     "metadata": {},
     "output_type": "display_data"
    },
    {
     "data": {
      "text/markdown": [
       "# Cooling rates. mls."
      ],
      "text/plain": [
       "<IPython.core.display.Markdown object>"
      ]
     },
     "metadata": {},
     "output_type": "display_data"
    },
    {
     "data": {
      "text/html": [
       "\n",
       "<div class=\"bk-root\">\n",
       "    <div class=\"bk-plotdiv\" id=\"0046fe48-76a2-4b09-bc12-4e7bd3eb1065\"></div>\n",
       "</div>"
      ]
     },
     "metadata": {},
     "output_type": "display_data"
    },
    {
     "data": {
      "application/javascript": [
       "(function(root) {\n",
       "  function embed_document(root) {\n",
       "    \n",
       "  var docs_json = {\"aba7637a-3e68-4c9f-9087-7f5187f06add\":{\"roots\":{\"references\":[{\"attributes\":{\"data_source\":{\"id\":\"d8a1d629-09a1-46b1-a1cf-c42d4203407e\",\"type\":\"ColumnDataSource\"},\"glyph\":{\"id\":\"d09c6d05-1155-4249-86c1-1bee57ff4663\",\"type\":\"Line\"},\"hover_glyph\":null,\"muted_glyph\":null,\"nonselection_glyph\":{\"id\":\"26456bbf-483c-46a9-9abf-e504c129e72a\",\"type\":\"Line\"},\"selection_glyph\":null,\"view\":{\"id\":\"24894ab5-ce39-4ceb-9a84-0d55e1f62931\",\"type\":\"CDSView\"}},\"id\":\"a50970bb-76f7-4168-9c87-58cde12e369e\",\"type\":\"GlyphRenderer\"},{\"attributes\":{\"label\":{\"value\":\"CLIRAD\"},\"renderers\":[{\"id\":\"18766c95-2311-4fa3-b7cd-6fd7718728d3\",\"type\":\"GlyphRenderer\"}]},\"id\":\"f4238b9a-0c95-4461-ac1f-83c9c62dd8ea\",\"type\":\"LegendItem\"},{\"attributes\":{},\"id\":\"0668729c-c4fc-4c12-a780-d2469ab57e5f\",\"type\":\"Selection\"},{\"attributes\":{\"children\":[{\"id\":\"340bca34-bf8a-4d8a-85d7-b3ec32e2532f\",\"type\":\"Row\"}]},\"id\":\"ebb8a927-6eb6-41c2-854f-5832033317cc\",\"type\":\"Column\"},{\"attributes\":{\"above\":[{\"id\":\"b576decd-3722-44de-8102-03da700bbf36\",\"type\":\"Legend\"}],\"below\":[{\"id\":\"1ba516db-9fa1-4cbc-8d3c-a235ef62ce36\",\"type\":\"LinearAxis\"}],\"left\":[{\"id\":\"87e38180-995c-423f-9ce5-0d20be2487e3\",\"type\":\"LogAxis\"}],\"plot_width\":300,\"renderers\":[{\"id\":\"1ba516db-9fa1-4cbc-8d3c-a235ef62ce36\",\"type\":\"LinearAxis\"},{\"id\":\"36e33e69-b858-4473-beb3-56d671012883\",\"type\":\"Grid\"},{\"id\":\"87e38180-995c-423f-9ce5-0d20be2487e3\",\"type\":\"LogAxis\"},{\"id\":\"b755a074-ef5c-4731-b6e5-17aac3dc28f5\",\"type\":\"Grid\"},{\"id\":\"014744a6-8e6b-424b-b308-9566e3c83d67\",\"type\":\"BoxAnnotation\"},{\"id\":\"7a046df4-6b08-4967-a403-f11af9aea46a\",\"type\":\"GlyphRenderer\"},{\"id\":\"013ec737-db62-4c9d-8958-0eb9124207db\",\"type\":\"GlyphRenderer\"},{\"id\":\"b576decd-3722-44de-8102-03da700bbf36\",\"type\":\"Legend\"}],\"title\":{\"id\":\"b1bee6f4-773f-4ed6-983f-8e35104cc50f\",\"type\":\"Title\"},\"toolbar\":{\"id\":\"b3173c8a-d178-401c-bd7d-693cb570b9bf\",\"type\":\"Toolbar\"},\"toolbar_location\":null,\"x_range\":{\"id\":\"d10d294c-684a-41d2-99d0-544b19349c93\",\"type\":\"Range1d\"},\"x_scale\":{\"id\":\"6d8812c1-1c11-44c7-8ace-4f7841ba6fba\",\"type\":\"LinearScale\"},\"y_range\":{\"id\":\"45221cf7-bb4e-436e-ba12-e95863cb13ce\",\"type\":\"Range1d\"},\"y_scale\":{\"id\":\"a5d7970f-a5d5-46ae-bb0a-aa8a06293cdd\",\"type\":\"LogScale\"}},\"id\":\"bdb82f2b-afa7-4a4d-b385-d8a7bb3784d3\",\"subtype\":\"Figure\",\"type\":\"Plot\"},{\"attributes\":{},\"id\":\"cb35bc6e-38f7-47ad-8fb2-a5d66376ed1c\",\"type\":\"BasicTicker\"},{\"attributes\":{\"line_alpha\":0.1,\"line_color\":\"#1f77b4\",\"line_width\":1.5,\"x\":{\"field\":\"x\"},\"y\":{\"field\":\"y\"}},\"id\":\"8d302eeb-b17d-4025-8dc0-f821775f2c0f\",\"type\":\"Line\"},{\"attributes\":{\"fill_alpha\":{\"value\":0.1},\"fill_color\":{\"value\":\"#1f77b4\"},\"line_alpha\":{\"value\":0.1},\"line_color\":{\"value\":\"#1f77b4\"},\"x\":{\"field\":\"x\"},\"y\":{\"field\":\"y\"}},\"id\":\"839c9368-5f8b-44cd-b692-7ed6b4a6ea89\",\"type\":\"Circle\"},{\"attributes\":{\"line_alpha\":0.1,\"line_color\":\"#1f77b4\",\"line_width\":1.5,\"x\":{\"field\":\"x\"},\"y\":{\"field\":\"y\"}},\"id\":\"26456bbf-483c-46a9-9abf-e504c129e72a\",\"type\":\"Line\"},{\"attributes\":{\"source\":{\"id\":\"fccdf303-ae04-4370-a991-e401767c9f07\",\"type\":\"ColumnDataSource\"}},\"id\":\"a4b7157e-b667-4626-a55d-1f7394f9dd53\",\"type\":\"CDSView\"},{\"attributes\":{},\"id\":\"f5b077da-50d7-46c3-8c25-c11be19957b4\",\"type\":\"UnionRenderers\"},{\"attributes\":{\"line_alpha\":0.1,\"line_color\":\"#1f77b4\",\"line_dash\":[6],\"line_width\":5,\"x\":{\"field\":\"x\"},\"y\":{\"field\":\"y\"}},\"id\":\"33f40b5a-7789-4e51-9458-40c6199faa3d\",\"type\":\"Line\"},{\"attributes\":{\"source\":{\"id\":\"f7f0b950-2050-473d-94f4-a9e12c8633b8\",\"type\":\"ColumnDataSource\"}},\"id\":\"1a6f377f-1e23-43de-9053-37e85e1bffda\",\"type\":\"CDSView\"},{\"attributes\":{\"callback\":null,\"end\":0.01,\"start\":1020},\"id\":\"da46b6b8-3987-4c12-a1cc-07cce7bbac9d\",\"type\":\"Range1d\"},{\"attributes\":{\"fill_alpha\":{\"value\":0.1},\"fill_color\":{\"value\":\"#1f77b4\"},\"line_alpha\":{\"value\":0.1},\"line_color\":{\"value\":\"#1f77b4\"},\"x\":{\"field\":\"x\"},\"y\":{\"field\":\"y\"}},\"id\":\"a650decb-b7a9-43f3-95e7-755820c6531f\",\"type\":\"Circle\"},{\"attributes\":{},\"id\":\"5e50b5a7-1675-482a-9eb6-59763f8829b9\",\"type\":\"Selection\"},{\"attributes\":{\"tools\":[{\"id\":\"67666719-bbf5-471f-bb1b-280842811e6c\",\"type\":\"PanTool\"},{\"id\":\"1d901d70-7da1-40a6-ad91-b874846faf51\",\"type\":\"WheelZoomTool\"},{\"id\":\"aac71538-3deb-4f8a-8bcc-245586cacc39\",\"type\":\"BoxZoomTool\"},{\"id\":\"19bba390-3387-4a14-99f2-a5da8c0d769c\",\"type\":\"SaveTool\"},{\"id\":\"b8eb8c25-2ac0-4c84-a830-43593b73ab13\",\"type\":\"ResetTool\"},{\"id\":\"04157e66-70c5-4994-bcfc-cb62e4614955\",\"type\":\"HelpTool\"},{\"id\":\"1ed0c032-9478-4e9f-801b-29a5aee854a9\",\"type\":\"PanTool\"},{\"id\":\"85698e79-b9ad-4493-945c-71d9a338be6b\",\"type\":\"WheelZoomTool\"},{\"id\":\"f6f4155d-165d-43bc-860c-62b290dd0a5e\",\"type\":\"BoxZoomTool\"},{\"id\":\"081f73dd-494c-4122-ba88-8bb3fef601ad\",\"type\":\"SaveTool\"},{\"id\":\"5e3e4c02-2e1b-45e5-be56-14e12380fb66\",\"type\":\"ResetTool\"},{\"id\":\"00fd64aa-935e-4a85-b885-69803fea4f2a\",\"type\":\"HelpTool\"},{\"id\":\"a03749c9-1637-4e7a-bee5-6dd7f2755527\",\"type\":\"PanTool\"},{\"id\":\"f3ec1cc4-6c8f-4cfc-9c52-bc706afaf163\",\"type\":\"WheelZoomTool\"},{\"id\":\"7d023eae-8dc5-44c7-8cd1-717566a057c4\",\"type\":\"BoxZoomTool\"},{\"id\":\"d9969af1-f349-4b11-af62-8d82b91166b8\",\"type\":\"SaveTool\"},{\"id\":\"4fdcb880-a0b2-4cd3-8f25-f5cce1d9fb0a\",\"type\":\"ResetTool\"},{\"id\":\"9459f8b2-fe6b-4c71-94bf-724e580a983a\",\"type\":\"HelpTool\"}]},\"id\":\"324b2726-2b75-4ad1-9e16-3598b62e2ebf\",\"type\":\"ProxyToolbar\"},{\"attributes\":{\"callback\":null,\"data\":{\"x\":{\"__ndarray__\":\"9jm0jPhfU0BYWlpDns5EQGgeYzX/2kBAe3FtnkbcOkAZ4BP7mSU1QKejDHXclTBAVcQkgNAaKkDpR021r7YkQM/viBzOlyBADIhcjd+/GkCR1E7624AVQMIEHCiK8BBAV+ix3/4qCUBna79O9vz8P/UjlKosd+k/VAMMq8xq8z9wUOLdanACQKQ87s+ryghArjgixePuDkDsR1hFUAoTQIP/VKx/uRdAP8IuX54/H0Ama35DewEkQIsE2QZ8TyNAZtX+BqGzHUBOXeQjw/cWQHoM1omZORJAAtp4nb1lDUCSHq9KkkcIQADtl6yiPQRASzF8Tr5OAECEwbOImpz4Pzo0H66Zm/I/W6ttbrs17T8xiGfIOoXkP7qUBPI24NY/5K9bEIK4yT+FTpHFsufCPy6eqW+TrKA/5VJVmxF7vr9ryouFu+28v6B8I7WuI54/sm0jLpgpuj8630tCImTBP4qoZJyhQcQ/5L7UFUxxxj+NXtc4JTzIP4ayvj/DyMk/5YRIfNYxyz99/72Mpn7MP6We4HN4nc0/5R0oPURwzj/GiVmM6OvOP8GHwy/ELM8/aRoBDkJdzz/a1asRCJfPP6Fao6q5388/jZZDD1wc0D9U4dgnKFHQPwsteISkjdA/VP3aYxvT0D+0IDn13yTRPxeXQjD9h9E/QirTlM4D0j8RVraatKPSPzH17qRJdtM/Cse8JlVv1D9M6h8b/EHVP3eCtLjjitU/pYBd2iNF1T/lBLD8DtnUPz2hBY+QpNQ/HaVQJg7R1D/dpEUc+5nVP5nTdxRtgts/\",\"dtype\":\"float64\",\"shape\":[75]},\"y\":{\"__ndarray__\":\"GhExyth1ND/Sv8nbtpRIP2vylNV0PVE/aTum7souWD/At0SJ8fVgPw3Iuahxymc/MSNhhJWvcD/bTfBN02d3P2zb5nxnaoA/CD5h5MAGhz8NmeH1TyaQP+zrCsc9p5Y/LbKd76fGnz/bLW5ISEmmPww9YvTcQq8/JV2OstnstT8Er5Y7M8G+P0c+r3jqkcU/5h99k6ZBzj88bCIzFzjVP4enV8oyxN0//yH99nXg5D8qOpLLf0jtP5kqGJXUifQ/c9cS8kHP/D+/DpwzojQEQIEmwoanVwxA4lgXt9HgE0BSSZ2AJuIbQAMJih9jjiNA5q4l5INuK0AwTKYKRj0zQNv5fmq8/DpAaCJseHrtQkB/+zpwzoxKQM3MzMzMeFJAZmZmZmZqWEAAAAAAAFxeQM3MzMzMJmJAmpmZmZkfZUBmZmZmZhhoQDMzMzMzEWtAAAAAAAAKbkBmZmZmZoFwQM3MzMzM/XFAMzMzMzN6c0CamZmZmfZ0QAAAAAAAc3ZAZmZmZmbvd0DNzMzMzGt5QDMzMzMz6HpAmpmZmZlkfEAAAAAAAOF9QGZmZmZmXX9AZmZmZuZsgECamZmZGSuBQM3MzMxM6YFAAAAAAICngkAzMzMzs2WDQGZmZmbmI4RAmpmZmRnihEDNzMzMTKCFQAAAAACAXoZAMzMzM7Mch0BmZmZm5tqHQJqZmZkZmYhAzczMzExXiUAAAAAAgBWKQDMzMzOz04pAZmZmZuaRi0CamZmZGVCMQM3MzMxMDo1AAAAAAIDMjUAzMzMzs4qOQGZmZmbmSI9A\",\"dtype\":\"float64\",\"shape\":[75]}},\"selected\":{\"id\":\"0ed09392-5bde-40c8-b73f-315b75c4a723\",\"type\":\"Selection\"},\"selection_policy\":{\"id\":\"15789b42-376e-4e09-94d8-8d39b8b493f6\",\"type\":\"UnionRenderers\"}},\"id\":\"f7f0b950-2050-473d-94f4-a9e12c8633b8\",\"type\":\"ColumnDataSource\"},{\"attributes\":{\"num_minor_ticks\":10},\"id\":\"af048691-6c59-4e47-b262-1228cfa0e10d\",\"type\":\"LogTicker\"},{\"attributes\":{\"items\":[{\"id\":\"f4238b9a-0c95-4461-ac1f-83c9c62dd8ea\",\"type\":\"LegendItem\"},{\"id\":\"7b59e2f1-f346-49e0-a8e5-f8eac41ae393\",\"type\":\"LegendItem\"}],\"label_text_font_size\":{\"value\":\"8pt\"},\"location\":\"top_center\",\"orientation\":\"horizontal\",\"plot\":{\"id\":\"b6b30b43-f2be-4bb2-b485-527cfd9beca9\",\"subtype\":\"Figure\",\"type\":\"Plot\"}},\"id\":\"bd26e41e-0774-45bf-b2cc-32bf0c3268f5\",\"type\":\"Legend\"},{\"attributes\":{},\"id\":\"7c6bd188-f924-4493-ace1-f1c53f6799f3\",\"type\":\"LinearScale\"},{\"attributes\":{\"line_alpha\":0.8,\"line_color\":\"#984ea3\",\"line_width\":1.5,\"x\":{\"field\":\"x\"},\"y\":{\"field\":\"y\"}},\"id\":\"2cc5a9ec-1070-490a-ba96-f6dfe572e104\",\"type\":\"Line\"},{\"attributes\":{\"callback\":null,\"data\":{\"x\":{\"__ndarray__\":\"T8zKadtgNsByGxbUIhbXP6fySsJMQARA0v2iooKmBkDUTR+yW7D6PxgY8KrD+5O/459cu7rk9L8PxO94Dfz5vzQb4s9R0/O/2X/5ltPX5b9CdyoMLsTXv1XbAjeWwNW/gh+7E7xF27/yw0iHP6Hcv6hJJBI4T9S/OtfsdX39v79z10/hRQCtP2h7rRZvVso/hx3CqLy7yj/fSWXr0FmSv9w6CTJsl9S/xtBJfFjC2r9eFVrvmmTSv+MKw4ImgsW/6h1yGvZAyL/KMTODnqzQv7D9y7f7ami/yVGXciyVxz+BnEIDbgDCP0Pi/9/ZAqo/7fELx/tgqT8THk5//kuev21CTEHo4ae/JVLal85Dpj9qmGv+zFqsP60YW1redH6/xWvDSV8mkb+Ep8qx3N2JP3MrqlPcd5w/cGKXS9tdmD8hBn0Br2qJP0KKeEWRKVe/XBUiZ2+ehr/EApigMZSQv1IHtzOXjZO/8zaAf00EmL824KCggCSZv+d+nRIZ65q/VQWwXZDNmr8rojQZ49CYv/Yq+YehZ5W/itPomz+Okr9EOWeBg2iLv63/AtdSTYO/oNFznsBadr+m1FZF6AJfvwN5xFpuGlU/2geOaRLAcD8KRuko0Mh6P8zzMu40d4E/lWl91xjehD8zCl5u3NSEP6dQ2OTEeIc/TQfzAqSpiD98aifHd8KHP7pk1ynWsYk/tIBU2D48iT9up5QrAVeHP8FirH9npYk/2KscV/XLiD9a3ynuBdCIP7QUx1f8k4k/EqKlLv6Whj/cZGiP6yyIPxw9MytVToU/\",\"dtype\":\"float64\",\"shape\":[75]},\"y\":{\"__ndarray__\":\"GhExyth1ND/Sv8nbtpRIP2vylNV0PVE/aTum7souWD/At0SJ8fVgPw3Iuahxymc/MSNhhJWvcD/bTfBN02d3P2zb5nxnaoA/CD5h5MAGhz8NmeH1TyaQP+zrCsc9p5Y/LbKd76fGnz/bLW5ISEmmPww9YvTcQq8/JV2OstnstT8Er5Y7M8G+P0c+r3jqkcU/5h99k6ZBzj88bCIzFzjVP4enV8oyxN0//yH99nXg5D8qOpLLf0jtP5kqGJXUifQ/c9cS8kHP/D+/DpwzojQEQIEmwoanVwxA4lgXt9HgE0BSSZ2AJuIbQAMJih9jjiNA5q4l5INuK0AwTKYKRj0zQNv5fmq8/DpAaCJseHrtQkB/+zpwzoxKQM3MzMzMeFJAZmZmZmZqWEAAAAAAAFxeQM3MzMzMJmJAmpmZmZkfZUBmZmZmZhhoQDMzMzMzEWtAAAAAAAAKbkBmZmZmZoFwQM3MzMzM/XFAMzMzMzN6c0CamZmZmfZ0QAAAAAAAc3ZAZmZmZmbvd0DNzMzMzGt5QDMzMzMz6HpAmpmZmZlkfEAAAAAAAOF9QGZmZmZmXX9AZmZmZuZsgECamZmZGSuBQM3MzMxM6YFAAAAAAICngkAzMzMzs2WDQGZmZmbmI4RAmpmZmRnihEDNzMzMTKCFQAAAAACAXoZAMzMzM7Mch0BmZmZm5tqHQJqZmZkZmYhAzczMzExXiUAAAAAAgBWKQDMzMzOz04pAZmZmZuaRi0CamZmZGVCMQM3MzMxMDo1AAAAAAIDMjUAzMzMzs4qOQGZmZmbmSI9A\",\"dtype\":\"float64\",\"shape\":[75]}},\"selected\":{\"id\":\"9a4c5432-1398-470d-9420-2e1fb811b38f\",\"type\":\"Selection\"},\"selection_policy\":{\"id\":\"c89d1b37-e828-4471-8e71-536ae7dc5cc6\",\"type\":\"UnionRenderers\"}},\"id\":\"99cfe996-4ec2-4187-8b1c-11c4106f8e37\",\"type\":\"ColumnDataSource\"},{\"attributes\":{\"toolbar\":{\"id\":\"324b2726-2b75-4ad1-9e16-3598b62e2ebf\",\"type\":\"ProxyToolbar\"},\"toolbar_location\":\"above\"},\"id\":\"2de3abfc-9f78-4d36-bcc6-79fc3a57ad63\",\"type\":\"ToolbarBox\"},{\"attributes\":{\"data_source\":{\"id\":\"fccdf303-ae04-4370-a991-e401767c9f07\",\"type\":\"ColumnDataSource\"},\"glyph\":{\"id\":\"2cc5a9ec-1070-490a-ba96-f6dfe572e104\",\"type\":\"Line\"},\"hover_glyph\":null,\"muted_glyph\":null,\"nonselection_glyph\":{\"id\":\"8d302eeb-b17d-4025-8dc0-f821775f2c0f\",\"type\":\"Line\"},\"selection_glyph\":null,\"view\":{\"id\":\"a4b7157e-b667-4626-a55d-1f7394f9dd53\",\"type\":\"CDSView\"}},\"id\":\"013ec737-db62-4c9d-8958-0eb9124207db\",\"type\":\"GlyphRenderer\"},{\"attributes\":{\"source\":{\"id\":\"d8a1d629-09a1-46b1-a1cf-c42d4203407e\",\"type\":\"ColumnDataSource\"}},\"id\":\"24894ab5-ce39-4ceb-9a84-0d55e1f62931\",\"type\":\"CDSView\"},{\"attributes\":{\"source\":{\"id\":\"4bdc9688-9639-4bdb-9468-07092a0e92e8\",\"type\":\"ColumnDataSource\"}},\"id\":\"1ddf6a6a-7759-444c-a496-b8021a462065\",\"type\":\"CDSView\"},{\"attributes\":{\"label\":{\"value\":\"CLIRAD\"},\"renderers\":[{\"id\":\"dbdcc7a4-3717-4bae-a676-8622dcb8996b\",\"type\":\"GlyphRenderer\"}]},\"id\":\"da524fef-0766-44a9-8741-7260d2291396\",\"type\":\"LegendItem\"},{\"attributes\":{},\"id\":\"87a5672e-c853-4da8-a943-a043e47b1c3d\",\"type\":\"Selection\"},{\"attributes\":{\"plot\":{\"id\":\"b6b30b43-f2be-4bb2-b485-527cfd9beca9\",\"subtype\":\"Figure\",\"type\":\"Plot\"},\"ticker\":{\"id\":\"cf9cd309-26b3-4cc9-a408-b592e9bedfab\",\"type\":\"BasicTicker\"}},\"id\":\"746c7931-c479-4f8c-9abc-8d5c93eab333\",\"type\":\"Grid\"},{\"attributes\":{},\"id\":\"1fb65864-0255-42c9-9512-8e652e42b02e\",\"type\":\"BasicTickFormatter\"},{\"attributes\":{\"axis_label\":\"pressure [mb]\",\"formatter\":{\"id\":\"c9778929-800a-4195-979e-1a46c10010bb\",\"type\":\"LogTickFormatter\"},\"plot\":{\"id\":\"bdb82f2b-afa7-4a4d-b385-d8a7bb3784d3\",\"subtype\":\"Figure\",\"type\":\"Plot\"},\"ticker\":{\"id\":\"af048691-6c59-4e47-b262-1228cfa0e10d\",\"type\":\"LogTicker\"}},\"id\":\"87e38180-995c-423f-9ce5-0d20be2487e3\",\"type\":\"LogAxis\"},{\"attributes\":{\"label\":{\"value\":\"CLIRAD - CRD\"},\"renderers\":[{\"id\":\"7a046df4-6b08-4967-a403-f11af9aea46a\",\"type\":\"GlyphRenderer\"},{\"id\":\"013ec737-db62-4c9d-8958-0eb9124207db\",\"type\":\"GlyphRenderer\"}]},\"id\":\"08175f31-12ff-4d42-a7ff-d21f37d542d0\",\"type\":\"LegendItem\"},{\"attributes\":{\"axis_label\":\"cooling rate [K/day]\",\"formatter\":{\"id\":\"1ca12171-8de6-4e32-a1c1-f2f8babb6827\",\"type\":\"BasicTickFormatter\"},\"plot\":{\"id\":\"b6b30b43-f2be-4bb2-b485-527cfd9beca9\",\"subtype\":\"Figure\",\"type\":\"Plot\"},\"ticker\":{\"id\":\"cf9cd309-26b3-4cc9-a408-b592e9bedfab\",\"type\":\"BasicTicker\"}},\"id\":\"9de398d5-c854-4fc6-acdb-379435f5bce6\",\"type\":\"LinearAxis\"},{\"attributes\":{\"plot\":null,\"text\":\"\"},\"id\":\"97c47c4e-a49e-44f2-a350-142c3ce1ac7f\",\"type\":\"Title\"},{\"attributes\":{\"plot\":null,\"text\":\"\"},\"id\":\"23242215-1966-4822-bfad-ac65167ecbe6\",\"type\":\"Title\"},{\"attributes\":{},\"id\":\"1ed0c032-9478-4e9f-801b-29a5aee854a9\",\"type\":\"PanTool\"},{\"attributes\":{\"line_color\":\"#4daf4a\",\"line_width\":1.5,\"x\":{\"field\":\"x\"},\"y\":{\"field\":\"y\"}},\"id\":\"d09c6d05-1155-4249-86c1-1bee57ff4663\",\"type\":\"Line\"},{\"attributes\":{\"line_alpha\":0.1,\"line_color\":\"#1f77b4\",\"line_dash\":[6],\"line_width\":5,\"x\":{\"field\":\"x\"},\"y\":{\"field\":\"y\"}},\"id\":\"1cdc8eef-cf34-46ef-8235-5cdf4610aee3\",\"type\":\"Line\"},{\"attributes\":{},\"id\":\"15789b42-376e-4e09-94d8-8d39b8b493f6\",\"type\":\"UnionRenderers\"},{\"attributes\":{},\"id\":\"9a4c5432-1398-470d-9420-2e1fb811b38f\",\"type\":\"Selection\"},{\"attributes\":{},\"id\":\"8e4ae6ab-aab4-45ba-8157-a0c64917f475\",\"type\":\"LinearScale\"},{\"attributes\":{\"data_source\":{\"id\":\"99cfe996-4ec2-4187-8b1c-11c4106f8e37\",\"type\":\"ColumnDataSource\"},\"glyph\":{\"id\":\"8f9f9dc5-a205-4eb8-887f-e3b1676eea3b\",\"type\":\"Circle\"},\"hover_glyph\":null,\"muted_glyph\":null,\"nonselection_glyph\":{\"id\":\"a650decb-b7a9-43f3-95e7-755820c6531f\",\"type\":\"Circle\"},\"selection_glyph\":null,\"view\":{\"id\":\"71ab95e4-8c78-4650-a9f2-7f36137c14e5\",\"type\":\"CDSView\"}},\"id\":\"7a046df4-6b08-4967-a403-f11af9aea46a\",\"type\":\"GlyphRenderer\"},{\"attributes\":{\"ticker\":null},\"id\":\"0045f54c-a128-4220-9316-52c90f2fb418\",\"type\":\"LogTickFormatter\"},{\"attributes\":{},\"id\":\"d992a28b-4226-4a80-a5f2-f66f9d61b5df\",\"type\":\"Selection\"},{\"attributes\":{\"dimension\":1,\"plot\":{\"id\":\"b6b30b43-f2be-4bb2-b485-527cfd9beca9\",\"subtype\":\"Figure\",\"type\":\"Plot\"},\"ticker\":{\"id\":\"abc1c97c-af32-47a2-85b1-d06024d4bcfe\",\"type\":\"LogTicker\"}},\"id\":\"302fc89e-0934-4f7a-b221-e1c8b132d7fe\",\"type\":\"Grid\"},{\"attributes\":{\"source\":{\"id\":\"7876227c-1ea9-4b63-94c9-f7661182d4b2\",\"type\":\"ColumnDataSource\"}},\"id\":\"29735e37-06c1-482f-a67a-ed27a0540487\",\"type\":\"CDSView\"},{\"attributes\":{\"ticker\":null},\"id\":\"c9778929-800a-4195-979e-1a46c10010bb\",\"type\":\"LogTickFormatter\"},{\"attributes\":{},\"id\":\"f3ec1cc4-6c8f-4cfc-9c52-bc706afaf163\",\"type\":\"WheelZoomTool\"},{\"attributes\":{\"bottom_units\":\"screen\",\"fill_alpha\":{\"value\":0.5},\"fill_color\":{\"value\":\"lightgrey\"},\"left_units\":\"screen\",\"level\":\"overlay\",\"line_alpha\":{\"value\":1.0},\"line_color\":{\"value\":\"black\"},\"line_dash\":[4,4],\"line_width\":{\"value\":2},\"plot\":null,\"render_mode\":\"css\",\"right_units\":\"screen\",\"top_units\":\"screen\"},\"id\":\"549dfbb3-18cf-46a7-aec5-8b8f7605249f\",\"type\":\"BoxAnnotation\"},{\"attributes\":{\"callback\":null,\"data\":{\"x\":{\"__ndarray__\":\"9jm0jPhfU0BYWlpDns5EQGgeYzX/2kBAe3FtnkbcOkAZ4BP7mSU1QKejDHXclTBAVcQkgNAaKkDpR021r7YkQM/viBzOlyBADIhcjd+/GkCR1E7624AVQMIEHCiK8BBAV+ix3/4qCUBna79O9vz8P/UjlKosd+k/VAMMq8xq8z9wUOLdanACQKQ87s+ryghArjgixePuDkDsR1hFUAoTQIP/VKx/uRdAP8IuX54/H0Ama35DewEkQIsE2QZ8TyNAZtX+BqGzHUBOXeQjw/cWQHoM1omZORJAAtp4nb1lDUCSHq9KkkcIQADtl6yiPQRASzF8Tr5OAECEwbOImpz4Pzo0H66Zm/I/W6ttbrs17T8xiGfIOoXkP7qUBPI24NY/5K9bEIK4yT+FTpHFsufCPy6eqW+TrKA/5VJVmxF7vr9ryouFu+28v6B8I7WuI54/sm0jLpgpuj8630tCImTBP4qoZJyhQcQ/5L7UFUxxxj+NXtc4JTzIP4ayvj/DyMk/5YRIfNYxyz99/72Mpn7MP6We4HN4nc0/5R0oPURwzj/GiVmM6OvOP8GHwy/ELM8/aRoBDkJdzz/a1asRCJfPP6Fao6q5388/jZZDD1wc0D9U4dgnKFHQPwsteISkjdA/VP3aYxvT0D+0IDn13yTRPxeXQjD9h9E/QirTlM4D0j8RVraatKPSPzH17qRJdtM/Cse8JlVv1D9M6h8b/EHVP3eCtLjjitU/pYBd2iNF1T/lBLD8DtnUPz2hBY+QpNQ/HaVQJg7R1D/dpEUc+5nVP5nTdxRtgts/\",\"dtype\":\"float64\",\"shape\":[75]},\"y\":{\"__ndarray__\":\"GhExyth1ND/Sv8nbtpRIP2vylNV0PVE/aTum7souWD/At0SJ8fVgPw3Iuahxymc/MSNhhJWvcD/bTfBN02d3P2zb5nxnaoA/CD5h5MAGhz8NmeH1TyaQP+zrCsc9p5Y/LbKd76fGnz/bLW5ISEmmPww9YvTcQq8/JV2OstnstT8Er5Y7M8G+P0c+r3jqkcU/5h99k6ZBzj88bCIzFzjVP4enV8oyxN0//yH99nXg5D8qOpLLf0jtP5kqGJXUifQ/c9cS8kHP/D+/DpwzojQEQIEmwoanVwxA4lgXt9HgE0BSSZ2AJuIbQAMJih9jjiNA5q4l5INuK0AwTKYKRj0zQNv5fmq8/DpAaCJseHrtQkB/+zpwzoxKQM3MzMzMeFJAZmZmZmZqWEAAAAAAAFxeQM3MzMzMJmJAmpmZmZkfZUBmZmZmZhhoQDMzMzMzEWtAAAAAAAAKbkBmZmZmZoFwQM3MzMzM/XFAMzMzMzN6c0CamZmZmfZ0QAAAAAAAc3ZAZmZmZmbvd0DNzMzMzGt5QDMzMzMz6HpAmpmZmZlkfEAAAAAAAOF9QGZmZmZmXX9AZmZmZuZsgECamZmZGSuBQM3MzMxM6YFAAAAAAICngkAzMzMzs2WDQGZmZmbmI4RAmpmZmRnihEDNzMzMTKCFQAAAAACAXoZAMzMzM7Mch0BmZmZm5tqHQJqZmZkZmYhAzczMzExXiUAAAAAAgBWKQDMzMzOz04pAZmZmZuaRi0CamZmZGVCMQM3MzMxMDo1AAAAAAIDMjUAzMzMzs4qOQGZmZmbmSI9A\",\"dtype\":\"float64\",\"shape\":[75]}},\"selected\":{\"id\":\"87a5672e-c853-4da8-a943-a043e47b1c3d\",\"type\":\"Selection\"},\"selection_policy\":{\"id\":\"f5b077da-50d7-46c3-8c25-c11be19957b4\",\"type\":\"UnionRenderers\"}},\"id\":\"d8a1d629-09a1-46b1-a1cf-c42d4203407e\",\"type\":\"ColumnDataSource\"},{\"attributes\":{},\"id\":\"00fd64aa-935e-4a85-b885-69803fea4f2a\",\"type\":\"HelpTool\"},{\"attributes\":{},\"id\":\"b38ec38a-68f2-4212-9eb0-6d3d26bde699\",\"type\":\"BasicTickFormatter\"},{\"attributes\":{\"fill_alpha\":{\"value\":0.7},\"fill_color\":{\"value\":\"#4daf4a\"},\"line_alpha\":{\"value\":0.7},\"line_color\":{\"value\":\"#4daf4a\"},\"x\":{\"field\":\"x\"},\"y\":{\"field\":\"y\"}},\"id\":\"124a9fc7-7dc2-41aa-b3cd-aed29601f262\",\"type\":\"Circle\"},{\"attributes\":{},\"id\":\"b6185905-cf3f-4540-9612-04d123b63223\",\"type\":\"Selection\"},{\"attributes\":{\"label\":{\"value\":\"CRD\"},\"renderers\":[{\"id\":\"c557cce0-a1a6-4e50-8071-b2a2e16becef\",\"type\":\"GlyphRenderer\"},{\"id\":\"a50970bb-76f7-4168-9c87-58cde12e369e\",\"type\":\"GlyphRenderer\"}]},\"id\":\"a5177a48-01b1-4750-b654-a6eed652cace\",\"type\":\"LegendItem\"},{\"attributes\":{},\"id\":\"27c06e77-867d-44cc-b78f-94f0dd836614\",\"type\":\"Selection\"},{\"attributes\":{\"num_minor_ticks\":10},\"id\":\"abc1c97c-af32-47a2-85b1-d06024d4bcfe\",\"type\":\"LogTicker\"},{\"attributes\":{\"fill_alpha\":{\"value\":0.7},\"fill_color\":{\"value\":\"#984ea3\"},\"line_alpha\":{\"value\":0.7},\"line_color\":{\"value\":\"#984ea3\"},\"x\":{\"field\":\"x\"},\"y\":{\"field\":\"y\"}},\"id\":\"8f9f9dc5-a205-4eb8-887f-e3b1676eea3b\",\"type\":\"Circle\"},{\"attributes\":{},\"id\":\"3b3214ec-4ab8-4274-8c06-8adbcabb4fa0\",\"type\":\"UnionRenderers\"},{\"attributes\":{},\"id\":\"5e3e4c02-2e1b-45e5-be56-14e12380fb66\",\"type\":\"ResetTool\"},{\"attributes\":{\"source\":{\"id\":\"a2680559-c169-48ed-b429-53b322b09dbc\",\"type\":\"ColumnDataSource\"}},\"id\":\"b168d9c2-2a0c-4ebd-95b4-a1006734a3dc\",\"type\":\"CDSView\"},{\"attributes\":{\"dimension\":1,\"plot\":{\"id\":\"bdb82f2b-afa7-4a4d-b385-d8a7bb3784d3\",\"subtype\":\"Figure\",\"type\":\"Plot\"},\"ticker\":{\"id\":\"af048691-6c59-4e47-b262-1228cfa0e10d\",\"type\":\"LogTicker\"}},\"id\":\"b755a074-ef5c-4731-b6e5-17aac3dc28f5\",\"type\":\"Grid\"},{\"attributes\":{\"callback\":null,\"end\":0.01,\"start\":1020},\"id\":\"45221cf7-bb4e-436e-ba12-e95863cb13ce\",\"type\":\"Range1d\"},{\"attributes\":{},\"id\":\"efeee4ad-10f7-4c80-9d36-1201c412eb4f\",\"type\":\"UnionRenderers\"},{\"attributes\":{\"children\":[{\"id\":\"cf0015ec-400e-4a41-ad1f-cb5502b04541\",\"subtype\":\"Figure\",\"type\":\"Plot\"},{\"id\":\"b6b30b43-f2be-4bb2-b485-527cfd9beca9\",\"subtype\":\"Figure\",\"type\":\"Plot\"},{\"id\":\"bdb82f2b-afa7-4a4d-b385-d8a7bb3784d3\",\"subtype\":\"Figure\",\"type\":\"Plot\"}]},\"id\":\"340bca34-bf8a-4d8a-85d7-b3ec32e2532f\",\"type\":\"Row\"},{\"attributes\":{\"active_drag\":\"auto\",\"active_inspect\":\"auto\",\"active_scroll\":\"auto\",\"active_tap\":\"auto\",\"tools\":[{\"id\":\"1ed0c032-9478-4e9f-801b-29a5aee854a9\",\"type\":\"PanTool\"},{\"id\":\"85698e79-b9ad-4493-945c-71d9a338be6b\",\"type\":\"WheelZoomTool\"},{\"id\":\"f6f4155d-165d-43bc-860c-62b290dd0a5e\",\"type\":\"BoxZoomTool\"},{\"id\":\"081f73dd-494c-4122-ba88-8bb3fef601ad\",\"type\":\"SaveTool\"},{\"id\":\"5e3e4c02-2e1b-45e5-be56-14e12380fb66\",\"type\":\"ResetTool\"},{\"id\":\"00fd64aa-935e-4a85-b885-69803fea4f2a\",\"type\":\"HelpTool\"}]},\"id\":\"81189675-9dc6-48e4-87db-92a40a45f0ee\",\"type\":\"Toolbar\"},{\"attributes\":{},\"id\":\"a5d7970f-a5d5-46ae-bb0a-aa8a06293cdd\",\"type\":\"LogScale\"},{\"attributes\":{},\"id\":\"37eb76b9-d1bf-4e42-9c31-20bebb6e5853\",\"type\":\"BasicTickFormatter\"},{\"attributes\":{\"source\":{\"id\":\"99cfe996-4ec2-4187-8b1c-11c4106f8e37\",\"type\":\"ColumnDataSource\"}},\"id\":\"71ab95e4-8c78-4650-a9f2-7f36137c14e5\",\"type\":\"CDSView\"},{\"attributes\":{\"children\":[{\"id\":\"2de3abfc-9f78-4d36-bcc6-79fc3a57ad63\",\"type\":\"ToolbarBox\"},{\"id\":\"ebb8a927-6eb6-41c2-854f-5832033317cc\",\"type\":\"Column\"}]},\"id\":\"17bd8cdb-7ee1-47d1-bd7a-9a8c2ee36249\",\"type\":\"Column\"},{\"attributes\":{},\"id\":\"cf9cd309-26b3-4cc9-a408-b592e9bedfab\",\"type\":\"BasicTicker\"},{\"attributes\":{\"axis_label\":\"pressure [mb]\",\"formatter\":{\"id\":\"0045f54c-a128-4220-9316-52c90f2fb418\",\"type\":\"LogTickFormatter\"},\"plot\":{\"id\":\"b6b30b43-f2be-4bb2-b485-527cfd9beca9\",\"subtype\":\"Figure\",\"type\":\"Plot\"},\"ticker\":{\"id\":\"abc1c97c-af32-47a2-85b1-d06024d4bcfe\",\"type\":\"LogTicker\"}},\"id\":\"ed2f2a03-a412-43fe-a993-4bdec0c5f238\",\"type\":\"LogAxis\"},{\"attributes\":{},\"id\":\"1ca12171-8de6-4e32-a1c1-f2f8babb6827\",\"type\":\"BasicTickFormatter\"},{\"attributes\":{\"callback\":null,\"data\":{\"x\":{\"__ndarray__\":\"T8zKadtgNsByGxbUIhbXP6fySsJMQARA0v2iooKmBkDUTR+yW7D6PxgY8KrD+5O/459cu7rk9L8PxO94Dfz5vzQb4s9R0/O/2X/5ltPX5b9CdyoMLsTXv1XbAjeWwNW/gh+7E7xF27/yw0iHP6Hcv6hJJBI4T9S/OtfsdX39v79z10/hRQCtP2h7rRZvVso/hx3CqLy7yj/fSWXr0FmSv9w6CTJsl9S/xtBJfFjC2r9eFVrvmmTSv+MKw4ImgsW/6h1yGvZAyL/KMTODnqzQv7D9y7f7ami/yVGXciyVxz+BnEIDbgDCP0Pi/9/ZAqo/7fELx/tgqT8THk5//kuev21CTEHo4ae/JVLal85Dpj9qmGv+zFqsP60YW1redH6/xWvDSV8mkb+Ep8qx3N2JP3MrqlPcd5w/cGKXS9tdmD8hBn0Br2qJP0KKeEWRKVe/XBUiZ2+ehr/EApigMZSQv1IHtzOXjZO/8zaAf00EmL824KCggCSZv+d+nRIZ65q/VQWwXZDNmr8rojQZ49CYv/Yq+YehZ5W/itPomz+Okr9EOWeBg2iLv63/AtdSTYO/oNFznsBadr+m1FZF6AJfvwN5xFpuGlU/2geOaRLAcD8KRuko0Mh6P8zzMu40d4E/lWl91xjehD8zCl5u3NSEP6dQ2OTEeIc/TQfzAqSpiD98aifHd8KHP7pk1ynWsYk/tIBU2D48iT9up5QrAVeHP8FirH9npYk/2KscV/XLiD9a3ynuBdCIP7QUx1f8k4k/EqKlLv6Whj/cZGiP6yyIPxw9MytVToU/\",\"dtype\":\"float64\",\"shape\":[75]},\"y\":{\"__ndarray__\":\"GhExyth1ND/Sv8nbtpRIP2vylNV0PVE/aTum7souWD/At0SJ8fVgPw3Iuahxymc/MSNhhJWvcD/bTfBN02d3P2zb5nxnaoA/CD5h5MAGhz8NmeH1TyaQP+zrCsc9p5Y/LbKd76fGnz/bLW5ISEmmPww9YvTcQq8/JV2OstnstT8Er5Y7M8G+P0c+r3jqkcU/5h99k6ZBzj88bCIzFzjVP4enV8oyxN0//yH99nXg5D8qOpLLf0jtP5kqGJXUifQ/c9cS8kHP/D+/DpwzojQEQIEmwoanVwxA4lgXt9HgE0BSSZ2AJuIbQAMJih9jjiNA5q4l5INuK0AwTKYKRj0zQNv5fmq8/DpAaCJseHrtQkB/+zpwzoxKQM3MzMzMeFJAZmZmZmZqWEAAAAAAAFxeQM3MzMzMJmJAmpmZmZkfZUBmZmZmZhhoQDMzMzMzEWtAAAAAAAAKbkBmZmZmZoFwQM3MzMzM/XFAMzMzMzN6c0CamZmZmfZ0QAAAAAAAc3ZAZmZmZmbvd0DNzMzMzGt5QDMzMzMz6HpAmpmZmZlkfEAAAAAAAOF9QGZmZmZmXX9AZmZmZuZsgECamZmZGSuBQM3MzMxM6YFAAAAAAICngkAzMzMzs2WDQGZmZmbmI4RAmpmZmRnihEDNzMzMTKCFQAAAAACAXoZAMzMzM7Mch0BmZmZm5tqHQJqZmZkZmYhAzczMzExXiUAAAAAAgBWKQDMzMzOz04pAZmZmZuaRi0CamZmZGVCMQM3MzMxMDo1AAAAAAIDMjUAzMzMzs4qOQGZmZmbmSI9A\",\"dtype\":\"float64\",\"shape\":[75]}},\"selected\":{\"id\":\"b6185905-cf3f-4540-9612-04d123b63223\",\"type\":\"Selection\"},\"selection_policy\":{\"id\":\"efeee4ad-10f7-4c80-9d36-1201c412eb4f\",\"type\":\"UnionRenderers\"}},\"id\":\"fccdf303-ae04-4370-a991-e401767c9f07\",\"type\":\"ColumnDataSource\"},{\"attributes\":{},\"id\":\"5aa1655e-afd5-4f8c-aa63-fe63e5190da0\",\"type\":\"LogScale\"},{\"attributes\":{\"axis_label\":\"cooling rate [K/day]\",\"formatter\":{\"id\":\"37eb76b9-d1bf-4e42-9c31-20bebb6e5853\",\"type\":\"BasicTickFormatter\"},\"plot\":{\"id\":\"bdb82f2b-afa7-4a4d-b385-d8a7bb3784d3\",\"subtype\":\"Figure\",\"type\":\"Plot\"},\"ticker\":{\"id\":\"cb35bc6e-38f7-47ad-8fb2-a5d66376ed1c\",\"type\":\"BasicTicker\"}},\"id\":\"1ba516db-9fa1-4cbc-8d3c-a235ef62ce36\",\"type\":\"LinearAxis\"},{\"attributes\":{},\"id\":\"081f73dd-494c-4122-ba88-8bb3fef601ad\",\"type\":\"SaveTool\"},{\"attributes\":{\"plot\":null,\"text\":\"\"},\"id\":\"b1bee6f4-773f-4ed6-983f-8e35104cc50f\",\"type\":\"Title\"},{\"attributes\":{},\"id\":\"0ed09392-5bde-40c8-b73f-315b75c4a723\",\"type\":\"Selection\"},{\"attributes\":{\"callback\":null,\"end\":0.7048007209586494,\"start\":-0.12722247061345196},\"id\":\"62447969-6938-45a9-b3eb-5e37475bdb14\",\"type\":\"Range1d\"},{\"attributes\":{\"data_source\":{\"id\":\"4bdc9688-9639-4bdb-9468-07092a0e92e8\",\"type\":\"ColumnDataSource\"},\"glyph\":{\"id\":\"5316f822-a003-4ee9-bd70-2094eca501ec\",\"type\":\"Line\"},\"hover_glyph\":null,\"muted_glyph\":null,\"nonselection_glyph\":{\"id\":\"33f40b5a-7789-4e51-9458-40c6199faa3d\",\"type\":\"Line\"},\"selection_glyph\":null,\"view\":{\"id\":\"1ddf6a6a-7759-444c-a496-b8021a462065\",\"type\":\"CDSView\"}},\"id\":\"dbdcc7a4-3717-4bae-a676-8622dcb8996b\",\"type\":\"GlyphRenderer\"},{\"attributes\":{},\"id\":\"85698e79-b9ad-4493-945c-71d9a338be6b\",\"type\":\"WheelZoomTool\"},{\"attributes\":{\"data_source\":{\"id\":\"7876227c-1ea9-4b63-94c9-f7661182d4b2\",\"type\":\"ColumnDataSource\"},\"glyph\":{\"id\":\"baa7ca78-4fb6-4b3a-a95e-58a90f3c0cb4\",\"type\":\"Line\"},\"hover_glyph\":null,\"muted_glyph\":null,\"nonselection_glyph\":{\"id\":\"1cdc8eef-cf34-46ef-8235-5cdf4610aee3\",\"type\":\"Line\"},\"selection_glyph\":null,\"view\":{\"id\":\"29735e37-06c1-482f-a67a-ed27a0540487\",\"type\":\"CDSView\"}},\"id\":\"18766c95-2311-4fa3-b7cd-6fd7718728d3\",\"type\":\"GlyphRenderer\"},{\"attributes\":{\"overlay\":{\"id\":\"549dfbb3-18cf-46a7-aec5-8b8f7605249f\",\"type\":\"BoxAnnotation\"}},\"id\":\"f6f4155d-165d-43bc-860c-62b290dd0a5e\",\"type\":\"BoxZoomTool\"},{\"attributes\":{},\"id\":\"a03749c9-1637-4e7a-bee5-6dd7f2755527\",\"type\":\"PanTool\"},{\"attributes\":{\"data_source\":{\"id\":\"f7f0b950-2050-473d-94f4-a9e12c8633b8\",\"type\":\"ColumnDataSource\"},\"glyph\":{\"id\":\"124a9fc7-7dc2-41aa-b3cd-aed29601f262\",\"type\":\"Circle\"},\"hover_glyph\":null,\"muted_glyph\":null,\"nonselection_glyph\":{\"id\":\"839c9368-5f8b-44cd-b692-7ed6b4a6ea89\",\"type\":\"Circle\"},\"selection_glyph\":null,\"view\":{\"id\":\"1a6f377f-1e23-43de-9053-37e85e1bffda\",\"type\":\"CDSView\"}},\"id\":\"c557cce0-a1a6-4e50-8071-b2a2e16becef\",\"type\":\"GlyphRenderer\"},{\"attributes\":{\"line_alpha\":0.6,\"line_color\":\"#e41a1c\",\"line_dash\":[6],\"line_width\":5,\"x\":{\"field\":\"x\"},\"y\":{\"field\":\"y\"}},\"id\":\"5316f822-a003-4ee9-bd70-2094eca501ec\",\"type\":\"Line\"},{\"attributes\":{},\"id\":\"8cfa50ba-9ff3-4ff5-9e81-907d4172fbf7\",\"type\":\"LinearScale\"},{\"attributes\":{},\"id\":\"65a97403-9d47-4d77-b84e-29288ef1cc24\",\"type\":\"UnionRenderers\"},{\"attributes\":{},\"id\":\"c89d1b37-e828-4471-8e71-536ae7dc5cc6\",\"type\":\"UnionRenderers\"},{\"attributes\":{},\"id\":\"d9969af1-f349-4b11-af62-8d82b91166b8\",\"type\":\"SaveTool\"},{\"attributes\":{},\"id\":\"fdc07c05-3c91-4b28-b21b-3be007bd9943\",\"type\":\"BasicTicker\"},{\"attributes\":{},\"id\":\"01f3d299-9dc1-4efd-b47e-224f42d340c2\",\"type\":\"UnionRenderers\"},{\"attributes\":{\"bottom_units\":\"screen\",\"fill_alpha\":{\"value\":0.5},\"fill_color\":{\"value\":\"lightgrey\"},\"left_units\":\"screen\",\"level\":\"overlay\",\"line_alpha\":{\"value\":1.0},\"line_color\":{\"value\":\"black\"},\"line_dash\":[4,4],\"line_width\":{\"value\":2},\"plot\":null,\"render_mode\":\"css\",\"right_units\":\"screen\",\"top_units\":\"screen\"},\"id\":\"81ad8a36-10f9-45d3-badb-5ddfd265d59c\",\"type\":\"BoxAnnotation\"},{\"attributes\":{\"source\":{\"id\":\"b5c3e5b1-8fa2-450b-928c-fdb24ab49348\",\"type\":\"ColumnDataSource\"}},\"id\":\"2635d0bb-d8c3-4f13-8284-c823fc2f099e\",\"type\":\"CDSView\"},{\"attributes\":{\"bottom_units\":\"screen\",\"fill_alpha\":{\"value\":0.5},\"fill_color\":{\"value\":\"lightgrey\"},\"left_units\":\"screen\",\"level\":\"overlay\",\"line_alpha\":{\"value\":1.0},\"line_color\":{\"value\":\"black\"},\"line_dash\":[4,4],\"line_width\":{\"value\":2},\"plot\":null,\"render_mode\":\"css\",\"right_units\":\"screen\",\"top_units\":\"screen\"},\"id\":\"014744a6-8e6b-424b-b308-9566e3c83d67\",\"type\":\"BoxAnnotation\"},{\"attributes\":{\"overlay\":{\"id\":\"81ad8a36-10f9-45d3-badb-5ddfd265d59c\",\"type\":\"BoxAnnotation\"}},\"id\":\"aac71538-3deb-4f8a-8bcc-245586cacc39\",\"type\":\"BoxZoomTool\"},{\"attributes\":{\"above\":[{\"id\":\"bd26e41e-0774-45bf-b2cc-32bf0c3268f5\",\"type\":\"Legend\"}],\"below\":[{\"id\":\"9de398d5-c854-4fc6-acdb-379435f5bce6\",\"type\":\"LinearAxis\"}],\"left\":[{\"id\":\"ed2f2a03-a412-43fe-a993-4bdec0c5f238\",\"type\":\"LogAxis\"}],\"plot_width\":300,\"renderers\":[{\"id\":\"9de398d5-c854-4fc6-acdb-379435f5bce6\",\"type\":\"LinearAxis\"},{\"id\":\"746c7931-c479-4f8c-9abc-8d5c93eab333\",\"type\":\"Grid\"},{\"id\":\"ed2f2a03-a412-43fe-a993-4bdec0c5f238\",\"type\":\"LogAxis\"},{\"id\":\"302fc89e-0934-4f7a-b221-e1c8b132d7fe\",\"type\":\"Grid\"},{\"id\":\"549dfbb3-18cf-46a7-aec5-8b8f7605249f\",\"type\":\"BoxAnnotation\"},{\"id\":\"18766c95-2311-4fa3-b7cd-6fd7718728d3\",\"type\":\"GlyphRenderer\"},{\"id\":\"76502a7c-abdd-4302-9cca-22d927b91f6f\",\"type\":\"GlyphRenderer\"},{\"id\":\"34896dd5-a9c3-4286-9200-aac42eec341e\",\"type\":\"GlyphRenderer\"},{\"id\":\"bd26e41e-0774-45bf-b2cc-32bf0c3268f5\",\"type\":\"Legend\"}],\"title\":{\"id\":\"23242215-1966-4822-bfad-ac65167ecbe6\",\"type\":\"Title\"},\"toolbar\":{\"id\":\"81189675-9dc6-48e4-87db-92a40a45f0ee\",\"type\":\"Toolbar\"},\"toolbar_location\":null,\"x_range\":{\"id\":\"25ac0bc2-c3b6-4d49-8103-543d4e961dee\",\"type\":\"Range1d\"},\"x_scale\":{\"id\":\"8cfa50ba-9ff3-4ff5-9e81-907d4172fbf7\",\"type\":\"LinearScale\"},\"y_range\":{\"id\":\"da46b6b8-3987-4c12-a1cc-07cce7bbac9d\",\"type\":\"Range1d\"},\"y_scale\":{\"id\":\"5aa1655e-afd5-4f8c-aa63-fe63e5190da0\",\"type\":\"LogScale\"}},\"id\":\"b6b30b43-f2be-4bb2-b485-527cfd9beca9\",\"subtype\":\"Figure\",\"type\":\"Plot\"},{\"attributes\":{\"data_source\":{\"id\":\"a2680559-c169-48ed-b429-53b322b09dbc\",\"type\":\"ColumnDataSource\"},\"glyph\":{\"id\":\"4e565cfc-edc6-4982-a78e-c574230931f2\",\"type\":\"Line\"},\"hover_glyph\":null,\"muted_glyph\":null,\"nonselection_glyph\":{\"id\":\"4f71d59e-2112-4565-a6e8-feb6aed090e5\",\"type\":\"Line\"},\"selection_glyph\":null,\"view\":{\"id\":\"b168d9c2-2a0c-4ebd-95b4-a1006734a3dc\",\"type\":\"CDSView\"}},\"id\":\"34896dd5-a9c3-4286-9200-aac42eec341e\",\"type\":\"GlyphRenderer\"},{\"attributes\":{},\"id\":\"4fdcb880-a0b2-4cd3-8f25-f5cce1d9fb0a\",\"type\":\"ResetTool\"},{\"attributes\":{\"callback\":null,\"data\":{\"x\":{\"__ndarray__\":\"9jm0jPhfU0BYWlpDns5EQGgeYzX/2kBAe3FtnkbcOkAZ4BP7mSU1QKejDHXclTBAVcQkgNAaKkDpR021r7YkQM/viBzOlyBADIhcjd+/GkCR1E7624AVQMIEHCiK8BBAV+ix3/4qCUBna79O9vz8P/UjlKosd+k/VAMMq8xq8z9wUOLdanACQKQ87s+ryghArjgixePuDkDsR1hFUAoTQIP/VKx/uRdAP8IuX54/H0Ama35DewEkQIsE2QZ8TyNAZtX+BqGzHUBOXeQjw/cWQHoM1omZORJAAtp4nb1lDUCSHq9KkkcIQADtl6yiPQRASzF8Tr5OAECEwbOImpz4Pzo0H66Zm/I/W6ttbrs17T8xiGfIOoXkP7qUBPI24NY/5K9bEIK4yT+FTpHFsufCPy6eqW+TrKA/5VJVmxF7vr9ryouFu+28v6B8I7WuI54/sm0jLpgpuj8630tCImTBP4qoZJyhQcQ/5L7UFUxxxj+NXtc4JTzIP4ayvj/DyMk/5YRIfNYxyz99/72Mpn7MP6We4HN4nc0/5R0oPURwzj/GiVmM6OvOP8GHwy/ELM8/aRoBDkJdzz/a1asRCJfPP6Fao6q5388/jZZDD1wc0D9U4dgnKFHQPwsteISkjdA/VP3aYxvT0D+0IDn13yTRPxeXQjD9h9E/QirTlM4D0j8RVraatKPSPzH17qRJdtM/Cse8JlVv1D9M6h8b/EHVP3eCtLjjitU/pYBd2iNF1T/lBLD8DtnUPz2hBY+QpNQ/HaVQJg7R1D/dpEUc+5nVP5nTdxRtgts/\",\"dtype\":\"float64\",\"shape\":[75]},\"y\":{\"__ndarray__\":\"GhExyth1ND/Sv8nbtpRIP2vylNV0PVE/aTum7souWD/At0SJ8fVgPw3Iuahxymc/MSNhhJWvcD/bTfBN02d3P2zb5nxnaoA/CD5h5MAGhz8NmeH1TyaQP+zrCsc9p5Y/LbKd76fGnz/bLW5ISEmmPww9YvTcQq8/JV2OstnstT8Er5Y7M8G+P0c+r3jqkcU/5h99k6ZBzj88bCIzFzjVP4enV8oyxN0//yH99nXg5D8qOpLLf0jtP5kqGJXUifQ/c9cS8kHP/D+/DpwzojQEQIEmwoanVwxA4lgXt9HgE0BSSZ2AJuIbQAMJih9jjiNA5q4l5INuK0AwTKYKRj0zQNv5fmq8/DpAaCJseHrtQkB/+zpwzoxKQM3MzMzMeFJAZmZmZmZqWEAAAAAAAFxeQM3MzMzMJmJAmpmZmZkfZUBmZmZmZhhoQDMzMzMzEWtAAAAAAAAKbkBmZmZmZoFwQM3MzMzM/XFAMzMzMzN6c0CamZmZmfZ0QAAAAAAAc3ZAZmZmZmbvd0DNzMzMzGt5QDMzMzMz6HpAmpmZmZlkfEAAAAAAAOF9QGZmZmZmXX9AZmZmZuZsgECamZmZGSuBQM3MzMxM6YFAAAAAAICngkAzMzMzs2WDQGZmZmbmI4RAmpmZmRnihEDNzMzMTKCFQAAAAACAXoZAMzMzM7Mch0BmZmZm5tqHQJqZmZkZmYhAzczMzExXiUAAAAAAgBWKQDMzMzOz04pAZmZmZuaRi0CamZmZGVCMQM3MzMxMDo1AAAAAAIDMjUAzMzMzs4qOQGZmZmbmSI9A\",\"dtype\":\"float64\",\"shape\":[75]}},\"selected\":{\"id\":\"27c06e77-867d-44cc-b78f-94f0dd836614\",\"type\":\"Selection\"},\"selection_policy\":{\"id\":\"e012ae35-4c12-4e23-b4b6-cbe167cbcae6\",\"type\":\"UnionRenderers\"}},\"id\":\"b5c3e5b1-8fa2-450b-928c-fdb24ab49348\",\"type\":\"ColumnDataSource\"},{\"attributes\":{},\"id\":\"19bba390-3387-4a14-99f2-a5da8c0d769c\",\"type\":\"SaveTool\"},{\"attributes\":{\"line_color\":\"#4daf4a\",\"line_width\":1.5,\"x\":{\"field\":\"x\"},\"y\":{\"field\":\"y\"}},\"id\":\"4e565cfc-edc6-4982-a78e-c574230931f2\",\"type\":\"Line\"},{\"attributes\":{\"callback\":null,\"end\":10.104113141325,\"start\":-0.220284969825},\"id\":\"25ac0bc2-c3b6-4d49-8103-543d4e961dee\",\"type\":\"Range1d\"},{\"attributes\":{\"fill_alpha\":{\"value\":0.1},\"fill_color\":{\"value\":\"#1f77b4\"},\"line_alpha\":{\"value\":0.1},\"line_color\":{\"value\":\"#1f77b4\"},\"x\":{\"field\":\"x\"},\"y\":{\"field\":\"y\"}},\"id\":\"7f39ba1c-003f-4f2f-9d9e-c5fb8e41193b\",\"type\":\"Circle\"},{\"attributes\":{},\"id\":\"1d901d70-7da1-40a6-ad91-b874846faf51\",\"type\":\"WheelZoomTool\"},{\"attributes\":{\"plot\":{\"id\":\"bdb82f2b-afa7-4a4d-b385-d8a7bb3784d3\",\"subtype\":\"Figure\",\"type\":\"Plot\"},\"ticker\":{\"id\":\"cb35bc6e-38f7-47ad-8fb2-a5d66376ed1c\",\"type\":\"BasicTicker\"}},\"id\":\"36e33e69-b858-4473-beb3-56d671012883\",\"type\":\"Grid\"},{\"attributes\":{\"data_source\":{\"id\":\"b5c3e5b1-8fa2-450b-928c-fdb24ab49348\",\"type\":\"ColumnDataSource\"},\"glyph\":{\"id\":\"bb8d6817-3d58-4bce-8a7e-b2da9331834d\",\"type\":\"Circle\"},\"hover_glyph\":null,\"muted_glyph\":null,\"nonselection_glyph\":{\"id\":\"7f39ba1c-003f-4f2f-9d9e-c5fb8e41193b\",\"type\":\"Circle\"},\"selection_glyph\":null,\"view\":{\"id\":\"2635d0bb-d8c3-4f13-8284-c823fc2f099e\",\"type\":\"CDSView\"}},\"id\":\"76502a7c-abdd-4302-9cca-22d927b91f6f\",\"type\":\"GlyphRenderer\"},{\"attributes\":{\"label\":{\"value\":\"CRD\"},\"renderers\":[{\"id\":\"76502a7c-abdd-4302-9cca-22d927b91f6f\",\"type\":\"GlyphRenderer\"},{\"id\":\"34896dd5-a9c3-4286-9200-aac42eec341e\",\"type\":\"GlyphRenderer\"}]},\"id\":\"7b59e2f1-f346-49e0-a8e5-f8eac41ae393\",\"type\":\"LegendItem\"},{\"attributes\":{},\"id\":\"b8eb8c25-2ac0-4c84-a830-43593b73ab13\",\"type\":\"ResetTool\"},{\"attributes\":{},\"id\":\"67666719-bbf5-471f-bb1b-280842811e6c\",\"type\":\"PanTool\"},{\"attributes\":{},\"id\":\"04157e66-70c5-4994-bcfc-cb62e4614955\",\"type\":\"HelpTool\"},{\"attributes\":{},\"id\":\"8b7a7b5d-5a04-4b0b-83c1-e19aac9a3f6e\",\"type\":\"BasicTicker\"},{\"attributes\":{\"callback\":null,\"data\":{\"x\":{\"__ndarray__\":\"94fbNICPS0AUkgXgwfxEQBRWCSkDH0JAU9yy8xaxPUDvQs2Kn9A2QKHGOYndkDBAfbAD+Th+J0CvXHANLnchQAXGh5DHOhxAH09yE+UEGECfEF4WmQQUQGZBI20BKQ9Axnj+4kbCBUCFs06TkNT1PxjH32p8nt4/p+SXBN5q8T+cKOujaeQCQOZth2cRcApA7zztR09NEED4ZlsW9vcSQNgH+KsIcBZAOszzZHmTHUDv3GVJV24jQLpSIQB0+SJABpNshpnxHEBoVEo7+ewVQAkdqiOMNhJA8c4kVBDfDkC8gT8gmWcJQDtmRhCupQRAgSKUOkK0AEDcnjiCaiP4Pz4MeGKK3PE/OTORU/iZ7j9ZTG6V50rmP3zqKmljZtY/DYgaD7aTxz9w0CePkIXEP3MliluB6K4/LKF4LptjuL/oQnb6ZcC5v+6jZIYVsZw/EBRXTMpVtz/PfvsmOKO+P+WfsLruz8E/FpQAasJwwz9oDa0olRfFP6EWASFga8Y/81gOdCTYxz9y7yAtimTJP3UIgUaE8Mo/uYYRTXwezD9RH2dXYDXNP3xL9gTv980/JjJGC2yqzj8+4w5DAlnPP/veiET3BNA/GCezWVxf0D/CMDhpS7zQP7HTmSxeGdE/rSFBKwx60T+m2kPZhsvRP98/CFjDQ9I/H/2UtRvJ0j/oBbJZyGHTP7MLWFfYQ9Q/m/YXHzc51T+LkHwmtPzVP3Hvu/YOWNY/rOWfhoML1j+ZLRwtj5/VP2+IZXIwcdU/gbYpGMaF1T886RN5YlvWP67g3cTfLNw/\",\"dtype\":\"float64\",\"shape\":[75]},\"y\":{\"__ndarray__\":\"GhExyth1ND/Sv8nbtpRIP2vylNV0PVE/aTum7souWD/At0SJ8fVgPw3Iuahxymc/MSNhhJWvcD/bTfBN02d3P2zb5nxnaoA/CD5h5MAGhz8NmeH1TyaQP+zrCsc9p5Y/LbKd76fGnz/bLW5ISEmmPww9YvTcQq8/JV2OstnstT8Er5Y7M8G+P0c+r3jqkcU/5h99k6ZBzj88bCIzFzjVP4enV8oyxN0//yH99nXg5D8qOpLLf0jtP5kqGJXUifQ/c9cS8kHP/D+/DpwzojQEQIEmwoanVwxA4lgXt9HgE0BSSZ2AJuIbQAMJih9jjiNA5q4l5INuK0AwTKYKRj0zQNv5fmq8/DpAaCJseHrtQkB/+zpwzoxKQM3MzMzMeFJAZmZmZmZqWEAAAAAAAFxeQM3MzMzMJmJAmpmZmZkfZUBmZmZmZhhoQDMzMzMzEWtAAAAAAAAKbkBmZmZmZoFwQM3MzMzM/XFAMzMzMzN6c0CamZmZmfZ0QAAAAAAAc3ZAZmZmZmbvd0DNzMzMzGt5QDMzMzMz6HpAmpmZmZlkfEAAAAAAAOF9QGZmZmZmXX9AZmZmZuZsgECamZmZGSuBQM3MzMxM6YFAAAAAAICngkAzMzMzs2WDQGZmZmbmI4RAmpmZmRnihEDNzMzMTKCFQAAAAACAXoZAMzMzM7Mch0BmZmZm5tqHQJqZmZkZmYhAzczMzExXiUAAAAAAgBWKQDMzMzOz04pAZmZmZuaRi0CamZmZGVCMQM3MzMxMDo1AAAAAAIDMjUAzMzMzs4qOQGZmZmbmSI9A\",\"dtype\":\"float64\",\"shape\":[75]}},\"selected\":{\"id\":\"0668729c-c4fc-4c12-a780-d2469ab57e5f\",\"type\":\"Selection\"},\"selection_policy\":{\"id\":\"65a97403-9d47-4d77-b84e-29288ef1cc24\",\"type\":\"UnionRenderers\"}},\"id\":\"4bdc9688-9639-4bdb-9468-07092a0e92e8\",\"type\":\"ColumnDataSource\"},{\"attributes\":{\"line_alpha\":0.6,\"line_color\":\"#e41a1c\",\"line_dash\":[6],\"line_width\":5,\"x\":{\"field\":\"x\"},\"y\":{\"field\":\"y\"}},\"id\":\"baa7ca78-4fb6-4b3a-a95e-58a90f3c0cb4\",\"type\":\"Line\"},{\"attributes\":{},\"id\":\"9459f8b2-fe6b-4c71-94bf-724e580a983a\",\"type\":\"HelpTool\"},{\"attributes\":{\"dimension\":1,\"plot\":{\"id\":\"cf0015ec-400e-4a41-ad1f-cb5502b04541\",\"subtype\":\"Figure\",\"type\":\"Plot\"},\"ticker\":{\"id\":\"fdc07c05-3c91-4b28-b21b-3be007bd9943\",\"type\":\"BasicTicker\"}},\"id\":\"8b4be62f-a86b-45d6-ac58-4ecfcf22a7f9\",\"type\":\"Grid\"},{\"attributes\":{\"axis_label\":\"cooling rate [K/day]\",\"formatter\":{\"id\":\"b38ec38a-68f2-4212-9eb0-6d3d26bde699\",\"type\":\"BasicTickFormatter\"},\"plot\":{\"id\":\"cf0015ec-400e-4a41-ad1f-cb5502b04541\",\"subtype\":\"Figure\",\"type\":\"Plot\"},\"ticker\":{\"id\":\"8b7a7b5d-5a04-4b0b-83c1-e19aac9a3f6e\",\"type\":\"BasicTicker\"}},\"id\":\"6ecb9a50-f881-4ce7-94b6-fb1160a5d06f\",\"type\":\"LinearAxis\"},{\"attributes\":{\"overlay\":{\"id\":\"014744a6-8e6b-424b-b308-9566e3c83d67\",\"type\":\"BoxAnnotation\"}},\"id\":\"7d023eae-8dc5-44c7-8cd1-717566a057c4\",\"type\":\"BoxZoomTool\"},{\"attributes\":{\"callback\":null,\"data\":{\"x\":{\"__ndarray__\":\"94fbNICPS0AUkgXgwfxEQBRWCSkDH0JAU9yy8xaxPUDvQs2Kn9A2QKHGOYndkDBAfbAD+Th+J0CvXHANLnchQAXGh5DHOhxAH09yE+UEGECfEF4WmQQUQGZBI20BKQ9Axnj+4kbCBUCFs06TkNT1PxjH32p8nt4/p+SXBN5q8T+cKOujaeQCQOZth2cRcApA7zztR09NEED4ZlsW9vcSQNgH+KsIcBZAOszzZHmTHUDv3GVJV24jQLpSIQB0+SJABpNshpnxHEBoVEo7+ewVQAkdqiOMNhJA8c4kVBDfDkC8gT8gmWcJQDtmRhCupQRAgSKUOkK0AEDcnjiCaiP4Pz4MeGKK3PE/OTORU/iZ7j9ZTG6V50rmP3zqKmljZtY/DYgaD7aTxz9w0CePkIXEP3MliluB6K4/LKF4LptjuL/oQnb6ZcC5v+6jZIYVsZw/EBRXTMpVtz/PfvsmOKO+P+WfsLruz8E/FpQAasJwwz9oDa0olRfFP6EWASFga8Y/81gOdCTYxz9y7yAtimTJP3UIgUaE8Mo/uYYRTXwezD9RH2dXYDXNP3xL9gTv980/JjJGC2yqzj8+4w5DAlnPP/veiET3BNA/GCezWVxf0D/CMDhpS7zQP7HTmSxeGdE/rSFBKwx60T+m2kPZhsvRP98/CFjDQ9I/H/2UtRvJ0j/oBbJZyGHTP7MLWFfYQ9Q/m/YXHzc51T+LkHwmtPzVP3Hvu/YOWNY/rOWfhoML1j+ZLRwtj5/VP2+IZXIwcdU/gbYpGMaF1T886RN5YlvWP67g3cTfLNw/\",\"dtype\":\"float64\",\"shape\":[75]},\"y\":{\"__ndarray__\":\"GhExyth1ND/Sv8nbtpRIP2vylNV0PVE/aTum7souWD/At0SJ8fVgPw3Iuahxymc/MSNhhJWvcD/bTfBN02d3P2zb5nxnaoA/CD5h5MAGhz8NmeH1TyaQP+zrCsc9p5Y/LbKd76fGnz/bLW5ISEmmPww9YvTcQq8/JV2OstnstT8Er5Y7M8G+P0c+r3jqkcU/5h99k6ZBzj88bCIzFzjVP4enV8oyxN0//yH99nXg5D8qOpLLf0jtP5kqGJXUifQ/c9cS8kHP/D+/DpwzojQEQIEmwoanVwxA4lgXt9HgE0BSSZ2AJuIbQAMJih9jjiNA5q4l5INuK0AwTKYKRj0zQNv5fmq8/DpAaCJseHrtQkB/+zpwzoxKQM3MzMzMeFJAZmZmZmZqWEAAAAAAAFxeQM3MzMzMJmJAmpmZmZkfZUBmZmZmZhhoQDMzMzMzEWtAAAAAAAAKbkBmZmZmZoFwQM3MzMzM/XFAMzMzMzN6c0CamZmZmfZ0QAAAAAAAc3ZAZmZmZmbvd0DNzMzMzGt5QDMzMzMz6HpAmpmZmZlkfEAAAAAAAOF9QGZmZmZmXX9AZmZmZuZsgECamZmZGSuBQM3MzMxM6YFAAAAAAICngkAzMzMzs2WDQGZmZmbmI4RAmpmZmRnihEDNzMzMTKCFQAAAAACAXoZAMzMzM7Mch0BmZmZm5tqHQJqZmZkZmYhAzczMzExXiUAAAAAAgBWKQDMzMzOz04pAZmZmZuaRi0CamZmZGVCMQM3MzMxMDo1AAAAAAIDMjUAzMzMzs4qOQGZmZmbmSI9A\",\"dtype\":\"float64\",\"shape\":[75]}},\"selected\":{\"id\":\"5e50b5a7-1675-482a-9eb6-59763f8829b9\",\"type\":\"Selection\"},\"selection_policy\":{\"id\":\"01f3d299-9dc1-4efd-b47e-224f42d340c2\",\"type\":\"UnionRenderers\"}},\"id\":\"7876227c-1ea9-4b63-94c9-f7661182d4b2\",\"type\":\"ColumnDataSource\"},{\"attributes\":{\"above\":[{\"id\":\"035f3669-99df-4141-be13-91607679c145\",\"type\":\"Legend\"}],\"below\":[{\"id\":\"6ecb9a50-f881-4ce7-94b6-fb1160a5d06f\",\"type\":\"LinearAxis\"}],\"left\":[{\"id\":\"7dffc70c-e4d7-4bf1-925c-fe06a1476a06\",\"type\":\"LinearAxis\"}],\"plot_width\":300,\"renderers\":[{\"id\":\"6ecb9a50-f881-4ce7-94b6-fb1160a5d06f\",\"type\":\"LinearAxis\"},{\"id\":\"bd33455b-8a97-4bdc-97f9-2d908ec206b2\",\"type\":\"Grid\"},{\"id\":\"7dffc70c-e4d7-4bf1-925c-fe06a1476a06\",\"type\":\"LinearAxis\"},{\"id\":\"8b4be62f-a86b-45d6-ac58-4ecfcf22a7f9\",\"type\":\"Grid\"},{\"id\":\"81ad8a36-10f9-45d3-badb-5ddfd265d59c\",\"type\":\"BoxAnnotation\"},{\"id\":\"dbdcc7a4-3717-4bae-a676-8622dcb8996b\",\"type\":\"GlyphRenderer\"},{\"id\":\"c557cce0-a1a6-4e50-8071-b2a2e16becef\",\"type\":\"GlyphRenderer\"},{\"id\":\"a50970bb-76f7-4168-9c87-58cde12e369e\",\"type\":\"GlyphRenderer\"},{\"id\":\"035f3669-99df-4141-be13-91607679c145\",\"type\":\"Legend\"}],\"title\":{\"id\":\"97c47c4e-a49e-44f2-a350-142c3ce1ac7f\",\"type\":\"Title\"},\"toolbar\":{\"id\":\"a1743928-03b2-4278-9c72-fcad658206b9\",\"type\":\"Toolbar\"},\"toolbar_location\":null,\"x_range\":{\"id\":\"62447969-6938-45a9-b3eb-5e37475bdb14\",\"type\":\"Range1d\"},\"x_scale\":{\"id\":\"8e4ae6ab-aab4-45ba-8157-a0c64917f475\",\"type\":\"LinearScale\"},\"y_range\":{\"id\":\"2b74a223-61e3-4bd6-b5e4-e9569289d8f4\",\"type\":\"Range1d\"},\"y_scale\":{\"id\":\"7c6bd188-f924-4493-ace1-f1c53f6799f3\",\"type\":\"LinearScale\"}},\"id\":\"cf0015ec-400e-4a41-ad1f-cb5502b04541\",\"subtype\":\"Figure\",\"type\":\"Plot\"},{\"attributes\":{\"active_drag\":\"auto\",\"active_inspect\":\"auto\",\"active_scroll\":\"auto\",\"active_tap\":\"auto\",\"tools\":[{\"id\":\"a03749c9-1637-4e7a-bee5-6dd7f2755527\",\"type\":\"PanTool\"},{\"id\":\"f3ec1cc4-6c8f-4cfc-9c52-bc706afaf163\",\"type\":\"WheelZoomTool\"},{\"id\":\"7d023eae-8dc5-44c7-8cd1-717566a057c4\",\"type\":\"BoxZoomTool\"},{\"id\":\"d9969af1-f349-4b11-af62-8d82b91166b8\",\"type\":\"SaveTool\"},{\"id\":\"4fdcb880-a0b2-4cd3-8f25-f5cce1d9fb0a\",\"type\":\"ResetTool\"},{\"id\":\"9459f8b2-fe6b-4c71-94bf-724e580a983a\",\"type\":\"HelpTool\"}]},\"id\":\"b3173c8a-d178-401c-bd7d-693cb570b9bf\",\"type\":\"Toolbar\"},{\"attributes\":{\"items\":[{\"id\":\"da524fef-0766-44a9-8741-7260d2291396\",\"type\":\"LegendItem\"},{\"id\":\"a5177a48-01b1-4750-b654-a6eed652cace\",\"type\":\"LegendItem\"}],\"label_text_font_size\":{\"value\":\"8pt\"},\"location\":\"top_center\",\"orientation\":\"horizontal\",\"plot\":{\"id\":\"cf0015ec-400e-4a41-ad1f-cb5502b04541\",\"subtype\":\"Figure\",\"type\":\"Plot\"}},\"id\":\"035f3669-99df-4141-be13-91607679c145\",\"type\":\"Legend\"},{\"attributes\":{\"plot\":{\"id\":\"cf0015ec-400e-4a41-ad1f-cb5502b04541\",\"subtype\":\"Figure\",\"type\":\"Plot\"},\"ticker\":{\"id\":\"8b7a7b5d-5a04-4b0b-83c1-e19aac9a3f6e\",\"type\":\"BasicTicker\"}},\"id\":\"bd33455b-8a97-4bdc-97f9-2d908ec206b2\",\"type\":\"Grid\"},{\"attributes\":{\"callback\":null,\"end\":0.01,\"start\":1020},\"id\":\"2b74a223-61e3-4bd6-b5e4-e9569289d8f4\",\"type\":\"Range1d\"},{\"attributes\":{\"line_alpha\":0.1,\"line_color\":\"#1f77b4\",\"line_width\":1.5,\"x\":{\"field\":\"x\"},\"y\":{\"field\":\"y\"}},\"id\":\"4f71d59e-2112-4565-a6e8-feb6aed090e5\",\"type\":\"Line\"},{\"attributes\":{\"active_drag\":\"auto\",\"active_inspect\":\"auto\",\"active_scroll\":\"auto\",\"active_tap\":\"auto\",\"tools\":[{\"id\":\"67666719-bbf5-471f-bb1b-280842811e6c\",\"type\":\"PanTool\"},{\"id\":\"1d901d70-7da1-40a6-ad91-b874846faf51\",\"type\":\"WheelZoomTool\"},{\"id\":\"aac71538-3deb-4f8a-8bcc-245586cacc39\",\"type\":\"BoxZoomTool\"},{\"id\":\"19bba390-3387-4a14-99f2-a5da8c0d769c\",\"type\":\"SaveTool\"},{\"id\":\"b8eb8c25-2ac0-4c84-a830-43593b73ab13\",\"type\":\"ResetTool\"},{\"id\":\"04157e66-70c5-4994-bcfc-cb62e4614955\",\"type\":\"HelpTool\"}]},\"id\":\"a1743928-03b2-4278-9c72-fcad658206b9\",\"type\":\"Toolbar\"},{\"attributes\":{},\"id\":\"e012ae35-4c12-4e23-b4b6-cbe167cbcae6\",\"type\":\"UnionRenderers\"},{\"attributes\":{\"axis_label\":\"pressure [mb]\",\"formatter\":{\"id\":\"1fb65864-0255-42c9-9512-8e652e42b02e\",\"type\":\"BasicTickFormatter\"},\"plot\":{\"id\":\"cf0015ec-400e-4a41-ad1f-cb5502b04541\",\"subtype\":\"Figure\",\"type\":\"Plot\"},\"ticker\":{\"id\":\"fdc07c05-3c91-4b28-b21b-3be007bd9943\",\"type\":\"BasicTicker\"}},\"id\":\"7dffc70c-e4d7-4bf1-925c-fe06a1476a06\",\"type\":\"LinearAxis\"},{\"attributes\":{},\"id\":\"6d8812c1-1c11-44c7-8ace-4f7841ba6fba\",\"type\":\"LinearScale\"},{\"attributes\":{\"callback\":null,\"data\":{\"x\":{\"__ndarray__\":\"9jm0jPhfU0BYWlpDns5EQGgeYzX/2kBAe3FtnkbcOkAZ4BP7mSU1QKejDHXclTBAVcQkgNAaKkDpR021r7YkQM/viBzOlyBADIhcjd+/GkCR1E7624AVQMIEHCiK8BBAV+ix3/4qCUBna79O9vz8P/UjlKosd+k/VAMMq8xq8z9wUOLdanACQKQ87s+ryghArjgixePuDkDsR1hFUAoTQIP/VKx/uRdAP8IuX54/H0Ama35DewEkQIsE2QZ8TyNAZtX+BqGzHUBOXeQjw/cWQHoM1omZORJAAtp4nb1lDUCSHq9KkkcIQADtl6yiPQRASzF8Tr5OAECEwbOImpz4Pzo0H66Zm/I/W6ttbrs17T8xiGfIOoXkP7qUBPI24NY/5K9bEIK4yT+FTpHFsufCPy6eqW+TrKA/5VJVmxF7vr9ryouFu+28v6B8I7WuI54/sm0jLpgpuj8630tCImTBP4qoZJyhQcQ/5L7UFUxxxj+NXtc4JTzIP4ayvj/DyMk/5YRIfNYxyz99/72Mpn7MP6We4HN4nc0/5R0oPURwzj/GiVmM6OvOP8GHwy/ELM8/aRoBDkJdzz/a1asRCJfPP6Fao6q5388/jZZDD1wc0D9U4dgnKFHQPwsteISkjdA/VP3aYxvT0D+0IDn13yTRPxeXQjD9h9E/QirTlM4D0j8RVraatKPSPzH17qRJdtM/Cse8JlVv1D9M6h8b/EHVP3eCtLjjitU/pYBd2iNF1T/lBLD8DtnUPz2hBY+QpNQ/HaVQJg7R1D/dpEUc+5nVP5nTdxRtgts/\",\"dtype\":\"float64\",\"shape\":[75]},\"y\":{\"__ndarray__\":\"GhExyth1ND/Sv8nbtpRIP2vylNV0PVE/aTum7souWD/At0SJ8fVgPw3Iuahxymc/MSNhhJWvcD/bTfBN02d3P2zb5nxnaoA/CD5h5MAGhz8NmeH1TyaQP+zrCsc9p5Y/LbKd76fGnz/bLW5ISEmmPww9YvTcQq8/JV2OstnstT8Er5Y7M8G+P0c+r3jqkcU/5h99k6ZBzj88bCIzFzjVP4enV8oyxN0//yH99nXg5D8qOpLLf0jtP5kqGJXUifQ/c9cS8kHP/D+/DpwzojQEQIEmwoanVwxA4lgXt9HgE0BSSZ2AJuIbQAMJih9jjiNA5q4l5INuK0AwTKYKRj0zQNv5fmq8/DpAaCJseHrtQkB/+zpwzoxKQM3MzMzMeFJAZmZmZmZqWEAAAAAAAFxeQM3MzMzMJmJAmpmZmZkfZUBmZmZmZhhoQDMzMzMzEWtAAAAAAAAKbkBmZmZmZoFwQM3MzMzM/XFAMzMzMzN6c0CamZmZmfZ0QAAAAAAAc3ZAZmZmZmbvd0DNzMzMzGt5QDMzMzMz6HpAmpmZmZlkfEAAAAAAAOF9QGZmZmZmXX9AZmZmZuZsgECamZmZGSuBQM3MzMxM6YFAAAAAAICngkAzMzMzs2WDQGZmZmbmI4RAmpmZmRnihEDNzMzMTKCFQAAAAACAXoZAMzMzM7Mch0BmZmZm5tqHQJqZmZkZmYhAzczMzExXiUAAAAAAgBWKQDMzMzOz04pAZmZmZuaRi0CamZmZGVCMQM3MzMxMDo1AAAAAAIDMjUAzMzMzs4qOQGZmZmbmSI9A\",\"dtype\":\"float64\",\"shape\":[75]}},\"selected\":{\"id\":\"d992a28b-4226-4a80-a5f2-f66f9d61b5df\",\"type\":\"Selection\"},\"selection_policy\":{\"id\":\"3b3214ec-4ab8-4274-8c06-8adbcabb4fa0\",\"type\":\"UnionRenderers\"}},\"id\":\"a2680559-c169-48ed-b429-53b322b09dbc\",\"type\":\"ColumnDataSource\"},{\"attributes\":{\"fill_alpha\":{\"value\":0.7},\"fill_color\":{\"value\":\"#4daf4a\"},\"line_alpha\":{\"value\":0.7},\"line_color\":{\"value\":\"#4daf4a\"},\"x\":{\"field\":\"x\"},\"y\":{\"field\":\"y\"}},\"id\":\"bb8d6817-3d58-4bce-8a7e-b2da9331834d\",\"type\":\"Circle\"},{\"attributes\":{\"callback\":null,\"end\":0.21776877992080057,\"start\":-0.6915105139208003},\"id\":\"d10d294c-684a-41d2-99d0-544b19349c93\",\"type\":\"Range1d\"},{\"attributes\":{\"items\":[{\"id\":\"08175f31-12ff-4d42-a7ff-d21f37d542d0\",\"type\":\"LegendItem\"}],\"label_text_font_size\":{\"value\":\"8pt\"},\"location\":\"top_center\",\"orientation\":\"horizontal\",\"plot\":{\"id\":\"bdb82f2b-afa7-4a4d-b385-d8a7bb3784d3\",\"subtype\":\"Figure\",\"type\":\"Plot\"}},\"id\":\"b576decd-3722-44de-8102-03da700bbf36\",\"type\":\"Legend\"}],\"root_ids\":[\"17bd8cdb-7ee1-47d1-bd7a-9a8c2ee36249\"]},\"title\":\"Bokeh Application\",\"version\":\"0.12.16\"}};\n",
       "  var render_items = [{\"docid\":\"aba7637a-3e68-4c9f-9087-7f5187f06add\",\"elementid\":\"0046fe48-76a2-4b09-bc12-4e7bd3eb1065\",\"modelid\":\"17bd8cdb-7ee1-47d1-bd7a-9a8c2ee36249\"}];\n",
       "  root.Bokeh.embed.embed_items_notebook(docs_json, render_items);\n",
       "\n",
       "  }\n",
       "  if (root.Bokeh !== undefined) {\n",
       "    embed_document(root);\n",
       "  } else {\n",
       "    var attempts = 0;\n",
       "    var timer = setInterval(function(root) {\n",
       "      if (root.Bokeh !== undefined) {\n",
       "        embed_document(root);\n",
       "        clearInterval(timer);\n",
       "      }\n",
       "      attempts++;\n",
       "      if (attempts > 100) {\n",
       "        console.log(\"Bokeh: ERROR: Unable to run BokehJS code because BokehJS library is missing\")\n",
       "        clearInterval(timer);\n",
       "      }\n",
       "    }, 10, root)\n",
       "  }\n",
       "})(window);"
      ],
      "application/vnd.bokehjs_exec.v0+json": ""
     },
     "metadata": {
      "application/vnd.bokehjs_exec.v0+json": {
       "id": "17bd8cdb-7ee1-47d1-bd7a-9a8c2ee36249"
      }
     },
     "output_type": "display_data"
    },
    {
     "data": {
      "text/markdown": [
       "*FIGURE.* Cooling rates & difference."
      ],
      "text/plain": [
       "<IPython.core.display.Markdown object>"
      ]
     },
     "metadata": {},
     "output_type": "display_data"
    },
    {
     "data": {
      "text/html": [
       "<a id=\"Fluxes._mls.\"></a>"
      ],
      "text/plain": [
       "<IPython.core.display.HTML object>"
      ]
     },
     "metadata": {},
     "output_type": "display_data"
    },
    {
     "data": {
      "text/markdown": [
       "# Fluxes. mls."
      ],
      "text/plain": [
       "<IPython.core.display.Markdown object>"
      ]
     },
     "metadata": {},
     "output_type": "display_data"
    },
    {
     "data": {
      "text/html": [
       "\n",
       "<div class=\"bk-root\">\n",
       "    <div class=\"bk-plotdiv\" id=\"1bf92abc-128f-4ac1-a3ba-ec3b74fd8984\"></div>\n",
       "</div>"
      ]
     },
     "metadata": {},
     "output_type": "display_data"
    },
    {
     "data": {
      "application/javascript": [
       "(function(root) {\n",
       "  function embed_document(root) {\n",
       "    \n",
       "  var docs_json = {\"c77e5165-7eae-4448-a102-f770cfba9a68\":{\"roots\":{\"references\":[{\"attributes\":{},\"id\":\"276df64d-9b8d-4a6b-8dd6-e297027a2b6d\",\"type\":\"BasicTickFormatter\"},{\"attributes\":{},\"id\":\"c0509b7e-675a-47be-85c1-1c1a52f5788a\",\"type\":\"CategoricalScale\"},{\"attributes\":{\"dimension\":1,\"plot\":{\"id\":\"ed859b69-2e99-4cfa-924d-0d0ecd5be11e\",\"subtype\":\"Figure\",\"type\":\"Plot\"},\"ticker\":{\"id\":\"36f4605a-6d2f-4485-93ae-ba366b875279\",\"type\":\"BasicTicker\"}},\"id\":\"d212eef9-697e-4ae0-a553-4bd469e41212\",\"type\":\"Grid\"},{\"attributes\":{\"plot\":null,\"text\":\"Atmosphere heating. CLIRAD - CRD.\"},\"id\":\"7dfd3917-ae20-43b9-9d49-0025385dd6f1\",\"type\":\"Title\"},{\"attributes\":{},\"id\":\"a8dd2c34-3d2d-4166-b2a7-57c41966affd\",\"type\":\"BasicTickFormatter\"},{\"attributes\":{\"bottom_units\":\"screen\",\"fill_alpha\":{\"value\":0.5},\"fill_color\":{\"value\":\"lightgrey\"},\"left_units\":\"screen\",\"level\":\"overlay\",\"line_alpha\":{\"value\":1.0},\"line_color\":{\"value\":\"black\"},\"line_dash\":[4,4],\"line_width\":{\"value\":2},\"plot\":null,\"render_mode\":\"css\",\"right_units\":\"screen\",\"top_units\":\"screen\"},\"id\":\"e645cf7c-bdba-47b8-a03d-9a8c166c41fe\",\"type\":\"BoxAnnotation\"},{\"attributes\":{\"callback\":null},\"id\":\"ae325fea-f655-44b0-b619-40c90ae53164\",\"type\":\"DataRange1d\"},{\"attributes\":{\"children\":[{\"id\":\"aeb78fa4-8456-4aef-a0af-5a1316afd898\",\"type\":\"Row\"}]},\"id\":\"e768cb2e-2125-4075-bd71-9b8a3f590820\",\"type\":\"Column\"},{\"attributes\":{\"callback\":null},\"id\":\"6ca62b6d-b19e-4b5e-89d5-cf55ee11885b\",\"type\":\"DataRange1d\"},{\"attributes\":{\"callback\":null,\"data\":{\"band\":[\"3\",\"4\",\"5\",\"6\",\"7\",\"11\"],\"flux\":{\"__ndarray__\":\"APfHe9XKtD8ApGd6ibG4P2DFNxQ+W90/QLznwHKErL+AnVYbrbSmv0jD3+XYMMM/\",\"dtype\":\"float64\",\"shape\":[6]}},\"selected\":{\"id\":\"1e79ab6a-15f4-40b8-a6df-8d01366593e5\",\"type\":\"Selection\"},\"selection_policy\":{\"id\":\"fc9fc231-6968-4e37-af00-55bdb2209ddd\",\"type\":\"UnionRenderers\"}},\"id\":\"5420f364-b9e2-436f-bd62-84ab5e43eaca\",\"type\":\"ColumnDataSource\"},{\"attributes\":{\"fill_alpha\":{\"value\":0.1},\"fill_color\":{\"value\":\"#1f77b4\"},\"line_alpha\":{\"value\":0.1},\"line_color\":{\"value\":\"#1f77b4\"},\"top\":{\"field\":\"flux\"},\"width\":{\"value\":0.9},\"x\":{\"field\":\"band\"}},\"id\":\"a90ea14a-c199-4710-8bec-8f53f7da9b3d\",\"type\":\"VBar\"},{\"attributes\":{},\"id\":\"604fc8ab-4309-419c-bfe4-8de82c323838\",\"type\":\"HelpTool\"},{\"attributes\":{},\"id\":\"e751a900-4c76-4e55-bc4f-59a83d1d371e\",\"type\":\"UnionRenderers\"},{\"attributes\":{},\"id\":\"3c42ec6a-f3f2-492e-adb0-1ebbd72d4723\",\"type\":\"BasicTickFormatter\"},{\"attributes\":{},\"id\":\"ad953539-6804-4dcc-ab31-ed46dc89d7c1\",\"type\":\"LinearScale\"},{\"attributes\":{\"axis_label\":\"flux (W m-2)\",\"formatter\":{\"id\":\"276df64d-9b8d-4a6b-8dd6-e297027a2b6d\",\"type\":\"BasicTickFormatter\"},\"plot\":{\"id\":\"274a14bb-beb9-4d8e-be22-02351b1d03d5\",\"subtype\":\"Figure\",\"type\":\"Plot\"},\"ticker\":{\"id\":\"77741e12-a412-40d7-ac1e-356f89ca3f18\",\"type\":\"BasicTicker\"}},\"id\":\"e39258c9-f09e-4a44-9d49-8d42d5ef2a34\",\"type\":\"LinearAxis\"},{\"attributes\":{},\"id\":\"2279bef8-0203-4cdb-a2c4-5c9831b73c11\",\"type\":\"PanTool\"},{\"attributes\":{\"callback\":null},\"id\":\"1eedb236-d1b7-4931-9771-7266af64d15f\",\"type\":\"DataRange1d\"},{\"attributes\":{\"overlay\":{\"id\":\"e645cf7c-bdba-47b8-a03d-9a8c166c41fe\",\"type\":\"BoxAnnotation\"}},\"id\":\"55c6c864-14a6-49f2-a2d8-8d1101f3afca\",\"type\":\"BoxZoomTool\"},{\"attributes\":{},\"id\":\"77741e12-a412-40d7-ac1e-356f89ca3f18\",\"type\":\"BasicTicker\"},{\"attributes\":{},\"id\":\"9a9a13b0-78a2-4c06-bf7f-eff636efdbfd\",\"type\":\"ResetTool\"},{\"attributes\":{\"bottom_units\":\"screen\",\"fill_alpha\":{\"value\":0.5},\"fill_color\":{\"value\":\"lightgrey\"},\"left_units\":\"screen\",\"level\":\"overlay\",\"line_alpha\":{\"value\":1.0},\"line_color\":{\"value\":\"black\"},\"line_dash\":[4,4],\"line_width\":{\"value\":2},\"plot\":null,\"render_mode\":\"css\",\"right_units\":\"screen\",\"top_units\":\"screen\"},\"id\":\"66baa850-b614-424d-81f5-4c0909a06c8b\",\"type\":\"BoxAnnotation\"},{\"attributes\":{},\"id\":\"f136bee5-3b3e-4d0f-8d23-8aaf7f590d5e\",\"type\":\"WheelZoomTool\"},{\"attributes\":{\"tools\":[{\"id\":\"2279bef8-0203-4cdb-a2c4-5c9831b73c11\",\"type\":\"PanTool\"},{\"id\":\"41b7b61f-0eb1-4b2a-87cc-641df0d510c6\",\"type\":\"WheelZoomTool\"},{\"id\":\"55c6c864-14a6-49f2-a2d8-8d1101f3afca\",\"type\":\"BoxZoomTool\"},{\"id\":\"56e28a7c-a5b4-49a0-8e12-120ab287c75d\",\"type\":\"SaveTool\"},{\"id\":\"1282fbb0-6bad-4b52-91b3-dd1d80e450f5\",\"type\":\"ResetTool\"},{\"id\":\"604fc8ab-4309-419c-bfe4-8de82c323838\",\"type\":\"HelpTool\"},{\"id\":\"b12d2fda-bfda-4d47-be65-adfc64246afa\",\"type\":\"PanTool\"},{\"id\":\"f136bee5-3b3e-4d0f-8d23-8aaf7f590d5e\",\"type\":\"WheelZoomTool\"},{\"id\":\"06e2ac00-b6a0-4275-bf67-055887828db9\",\"type\":\"BoxZoomTool\"},{\"id\":\"009aec51-c5d0-4bcc-8059-3e8ebf5d4ab9\",\"type\":\"SaveTool\"},{\"id\":\"9a9a13b0-78a2-4c06-bf7f-eff636efdbfd\",\"type\":\"ResetTool\"},{\"id\":\"282e67f8-a19e-4ed3-bd57-3858db8e2a5e\",\"type\":\"HelpTool\"},{\"id\":\"867ecc00-c48b-480c-943b-df1e07ba5f8e\",\"type\":\"PanTool\"},{\"id\":\"662e4240-fe2a-422a-ad9a-6f3aaf407411\",\"type\":\"WheelZoomTool\"},{\"id\":\"a45872fe-4607-41a4-aff1-ec0a3f636f82\",\"type\":\"BoxZoomTool\"},{\"id\":\"92b35c2e-a49e-4666-8bea-1bddd90a7773\",\"type\":\"SaveTool\"},{\"id\":\"dc31b73a-d65e-4a39-a9dd-3b753a00f88c\",\"type\":\"ResetTool\"},{\"id\":\"6ca13395-2fc7-46fd-afbf-7d086022b706\",\"type\":\"HelpTool\"}]},\"id\":\"fa2dea68-9096-478a-a297-372501d9d81e\",\"type\":\"ProxyToolbar\"},{\"attributes\":{\"fill_color\":{\"value\":\"#1f77b4\"},\"line_color\":{\"value\":\"#1f77b4\"},\"top\":{\"field\":\"flux\"},\"width\":{\"value\":0.9},\"x\":{\"field\":\"band\"}},\"id\":\"cdbbb22d-aeb4-4d8d-8e77-b81aea69e841\",\"type\":\"VBar\"},{\"attributes\":{},\"id\":\"a1b26ad0-5009-49e1-b540-555803b79b4b\",\"type\":\"Selection\"},{\"attributes\":{\"callback\":null,\"factors\":[\"3\",\"4\",\"5\",\"6\",\"7\",\"11\"]},\"id\":\"3f71d767-4b3a-4c1e-939a-4a6d85e8286a\",\"type\":\"FactorRange\"},{\"attributes\":{},\"id\":\"612bd574-8e4d-40bb-9ff5-9bf9b6fb0653\",\"type\":\"CategoricalScale\"},{\"attributes\":{},\"id\":\"1e79ab6a-15f4-40b8-a6df-8d01366593e5\",\"type\":\"Selection\"},{\"attributes\":{\"plot\":{\"id\":\"be2fbb76-a12a-437b-ae54-c9c29f1946a5\",\"subtype\":\"Figure\",\"type\":\"Plot\"},\"ticker\":{\"id\":\"01b880af-50b2-41f1-835f-0dd3b3420479\",\"type\":\"CategoricalTicker\"}},\"id\":\"f7cda64a-4f22-4d35-90d6-54e9fa11be2f\",\"type\":\"Grid\"},{\"attributes\":{\"active_drag\":\"auto\",\"active_inspect\":\"auto\",\"active_scroll\":\"auto\",\"active_tap\":\"auto\",\"tools\":[{\"id\":\"867ecc00-c48b-480c-943b-df1e07ba5f8e\",\"type\":\"PanTool\"},{\"id\":\"662e4240-fe2a-422a-ad9a-6f3aaf407411\",\"type\":\"WheelZoomTool\"},{\"id\":\"a45872fe-4607-41a4-aff1-ec0a3f636f82\",\"type\":\"BoxZoomTool\"},{\"id\":\"92b35c2e-a49e-4666-8bea-1bddd90a7773\",\"type\":\"SaveTool\"},{\"id\":\"dc31b73a-d65e-4a39-a9dd-3b753a00f88c\",\"type\":\"ResetTool\"},{\"id\":\"6ca13395-2fc7-46fd-afbf-7d086022b706\",\"type\":\"HelpTool\"}]},\"id\":\"50ceec0a-6552-499b-8180-9a76ead61701\",\"type\":\"Toolbar\"},{\"attributes\":{},\"id\":\"8ba30a5f-7515-4c2c-9614-042ea31a3b41\",\"type\":\"CategoricalScale\"},{\"attributes\":{\"dimension\":1,\"plot\":{\"id\":\"be2fbb76-a12a-437b-ae54-c9c29f1946a5\",\"subtype\":\"Figure\",\"type\":\"Plot\"},\"ticker\":{\"id\":\"78e98957-baaa-4e07-9b28-859487053362\",\"type\":\"BasicTicker\"}},\"id\":\"a09e8753-6ad9-485f-b187-4bdb2a6cd89a\",\"type\":\"Grid\"},{\"attributes\":{\"source\":{\"id\":\"5420f364-b9e2-436f-bd62-84ab5e43eaca\",\"type\":\"ColumnDataSource\"}},\"id\":\"9b5a5461-8215-4e38-b0af-545cf37d354a\",\"type\":\"CDSView\"},{\"attributes\":{\"source\":{\"id\":\"e0ca712d-ee34-423b-bfc6-bbad77a493e0\",\"type\":\"ColumnDataSource\"}},\"id\":\"9560d48a-5e57-438d-a85d-8ab18f9d0893\",\"type\":\"CDSView\"},{\"attributes\":{},\"id\":\"fc9fc231-6968-4e37-af00-55bdb2209ddd\",\"type\":\"UnionRenderers\"},{\"attributes\":{},\"id\":\"20e9b1e0-6ccd-4664-826a-8c20561cf787\",\"type\":\"CategoricalTickFormatter\"},{\"attributes\":{},\"id\":\"78e98957-baaa-4e07-9b28-859487053362\",\"type\":\"BasicTicker\"},{\"attributes\":{},\"id\":\"36f4605a-6d2f-4485-93ae-ba366b875279\",\"type\":\"BasicTicker\"},{\"attributes\":{\"axis_label\":\"spectral band\",\"formatter\":{\"id\":\"20e9b1e0-6ccd-4664-826a-8c20561cf787\",\"type\":\"CategoricalTickFormatter\"},\"plot\":{\"id\":\"ed859b69-2e99-4cfa-924d-0d0ecd5be11e\",\"subtype\":\"Figure\",\"type\":\"Plot\"},\"ticker\":{\"id\":\"e0b3d7f8-3dc8-48f3-a157-01462b6c3a8d\",\"type\":\"CategoricalTicker\"}},\"id\":\"6a278136-592a-4c10-8ceb-a15814a8887c\",\"type\":\"CategoricalAxis\"},{\"attributes\":{\"axis_label\":\"spectral band\",\"formatter\":{\"id\":\"fc10507b-ea6c-484d-8f40-01bc9174cd41\",\"type\":\"CategoricalTickFormatter\"},\"plot\":{\"id\":\"274a14bb-beb9-4d8e-be22-02351b1d03d5\",\"subtype\":\"Figure\",\"type\":\"Plot\"},\"ticker\":{\"id\":\"ce83763a-e2f3-4447-bb7e-f66cf45d3144\",\"type\":\"CategoricalTicker\"}},\"id\":\"516e987a-484e-4c2b-b107-5311c428d48d\",\"type\":\"CategoricalAxis\"},{\"attributes\":{\"plot\":{\"id\":\"274a14bb-beb9-4d8e-be22-02351b1d03d5\",\"subtype\":\"Figure\",\"type\":\"Plot\"},\"ticker\":{\"id\":\"ce83763a-e2f3-4447-bb7e-f66cf45d3144\",\"type\":\"CategoricalTicker\"}},\"id\":\"79c930ce-f132-4a13-89a2-6b3fd5493b98\",\"type\":\"Grid\"},{\"attributes\":{},\"id\":\"b12d2fda-bfda-4d47-be65-adfc64246afa\",\"type\":\"PanTool\"},{\"attributes\":{\"data_source\":{\"id\":\"f9b6d006-2e1c-4f86-b2b8-68d4221fafe9\",\"type\":\"ColumnDataSource\"},\"glyph\":{\"id\":\"cdbbb22d-aeb4-4d8d-8e77-b81aea69e841\",\"type\":\"VBar\"},\"hover_glyph\":null,\"muted_glyph\":null,\"nonselection_glyph\":{\"id\":\"dbba1b27-7edb-4000-813d-a33a27b3ce3e\",\"type\":\"VBar\"},\"selection_glyph\":null,\"view\":{\"id\":\"a29c84c0-1be0-49d5-8e2d-69cd57bdcb9b\",\"type\":\"CDSView\"}},\"id\":\"9ab5ec87-c30e-4a6d-9f6b-0a81b3b07f72\",\"type\":\"GlyphRenderer\"},{\"attributes\":{},\"id\":\"5e2c66c4-eae7-46e6-9c0f-fe211a8d40fa\",\"type\":\"LinearScale\"},{\"attributes\":{},\"id\":\"6307c2cc-1a7d-4ea2-a470-f655084436b5\",\"type\":\"UnionRenderers\"},{\"attributes\":{},\"id\":\"56e28a7c-a5b4-49a0-8e12-120ab287c75d\",\"type\":\"SaveTool\"},{\"attributes\":{\"overlay\":{\"id\":\"0dd5d282-0232-420e-b105-678bc4bb9768\",\"type\":\"BoxAnnotation\"}},\"id\":\"06e2ac00-b6a0-4275-bf67-055887828db9\",\"type\":\"BoxZoomTool\"},{\"attributes\":{},\"id\":\"92b35c2e-a49e-4666-8bea-1bddd90a7773\",\"type\":\"SaveTool\"},{\"attributes\":{},\"id\":\"009aec51-c5d0-4bcc-8059-3e8ebf5d4ab9\",\"type\":\"SaveTool\"},{\"attributes\":{\"below\":[{\"id\":\"6a278136-592a-4c10-8ceb-a15814a8887c\",\"type\":\"CategoricalAxis\"}],\"left\":[{\"id\":\"43aec5e7-868e-48f1-9d9a-a402e52eea21\",\"type\":\"LinearAxis\"}],\"plot_height\":300,\"plot_width\":300,\"renderers\":[{\"id\":\"6a278136-592a-4c10-8ceb-a15814a8887c\",\"type\":\"CategoricalAxis\"},{\"id\":\"861664f4-1ef6-490c-a1cb-0d0d89deee57\",\"type\":\"Grid\"},{\"id\":\"43aec5e7-868e-48f1-9d9a-a402e52eea21\",\"type\":\"LinearAxis\"},{\"id\":\"d212eef9-697e-4ae0-a553-4bd469e41212\",\"type\":\"Grid\"},{\"id\":\"0dd5d282-0232-420e-b105-678bc4bb9768\",\"type\":\"BoxAnnotation\"},{\"id\":\"5a295577-99dd-4701-91af-cd81c7f3269f\",\"type\":\"GlyphRenderer\"}],\"title\":{\"id\":\"01836853-8bde-4c03-99d9-182af85b6f9f\",\"type\":\"Title\"},\"toolbar\":{\"id\":\"85f29b7d-117a-4629-9113-947f1004d188\",\"type\":\"Toolbar\"},\"toolbar_location\":null,\"x_range\":{\"id\":\"5ca87755-fa7f-4de8-b5cc-da5f405d7383\",\"type\":\"FactorRange\"},\"x_scale\":{\"id\":\"8ba30a5f-7515-4c2c-9614-042ea31a3b41\",\"type\":\"CategoricalScale\"},\"y_range\":{\"id\":\"ae325fea-f655-44b0-b619-40c90ae53164\",\"type\":\"DataRange1d\"},\"y_scale\":{\"id\":\"ad953539-6804-4dcc-ab31-ed46dc89d7c1\",\"type\":\"LinearScale\"}},\"id\":\"ed859b69-2e99-4cfa-924d-0d0ecd5be11e\",\"subtype\":\"Figure\",\"type\":\"Plot\"},{\"attributes\":{\"fill_alpha\":{\"value\":0.1},\"fill_color\":{\"value\":\"#1f77b4\"},\"line_alpha\":{\"value\":0.1},\"line_color\":{\"value\":\"#1f77b4\"},\"top\":{\"field\":\"flux\"},\"width\":{\"value\":0.9},\"x\":{\"field\":\"band\"}},\"id\":\"863fa26b-d2ae-43ce-883d-319ba45e8c3e\",\"type\":\"VBar\"},{\"attributes\":{\"plot\":null,\"text\":\"SFC flux. CLIRAD - CRD.\"},\"id\":\"01836853-8bde-4c03-99d9-182af85b6f9f\",\"type\":\"Title\"},{\"attributes\":{\"data_source\":{\"id\":\"5420f364-b9e2-436f-bd62-84ab5e43eaca\",\"type\":\"ColumnDataSource\"},\"glyph\":{\"id\":\"c573f92b-570d-48ec-99db-f588d334b941\",\"type\":\"VBar\"},\"hover_glyph\":null,\"muted_glyph\":null,\"nonselection_glyph\":{\"id\":\"a90ea14a-c199-4710-8bec-8f53f7da9b3d\",\"type\":\"VBar\"},\"selection_glyph\":null,\"view\":{\"id\":\"9b5a5461-8215-4e38-b0af-545cf37d354a\",\"type\":\"CDSView\"}},\"id\":\"5a295577-99dd-4701-91af-cd81c7f3269f\",\"type\":\"GlyphRenderer\"},{\"attributes\":{\"callback\":null,\"factors\":[\"3\",\"4\",\"5\",\"6\",\"7\",\"11\"]},\"id\":\"e9bef67a-5531-4c2b-bbda-981b8441b3ab\",\"type\":\"FactorRange\"},{\"attributes\":{\"plot\":null,\"text\":\"TOA flux. CLIRAD - CRD.\"},\"id\":\"110d83e3-28dc-4e21-bb20-c4775205bb40\",\"type\":\"Title\"},{\"attributes\":{\"plot\":{\"id\":\"ed859b69-2e99-4cfa-924d-0d0ecd5be11e\",\"subtype\":\"Figure\",\"type\":\"Plot\"},\"ticker\":{\"id\":\"e0b3d7f8-3dc8-48f3-a157-01462b6c3a8d\",\"type\":\"CategoricalTicker\"}},\"id\":\"861664f4-1ef6-490c-a1cb-0d0d89deee57\",\"type\":\"Grid\"},{\"attributes\":{\"data_source\":{\"id\":\"e0ca712d-ee34-423b-bfc6-bbad77a493e0\",\"type\":\"ColumnDataSource\"},\"glyph\":{\"id\":\"99ca691b-b5e6-49a8-aa01-7e2f34de891e\",\"type\":\"VBar\"},\"hover_glyph\":null,\"muted_glyph\":null,\"nonselection_glyph\":{\"id\":\"863fa26b-d2ae-43ce-883d-319ba45e8c3e\",\"type\":\"VBar\"},\"selection_glyph\":null,\"view\":{\"id\":\"9560d48a-5e57-438d-a85d-8ab18f9d0893\",\"type\":\"CDSView\"}},\"id\":\"ecf24a96-510f-4f9e-a23a-3d9a0ad6363f\",\"type\":\"GlyphRenderer\"},{\"attributes\":{},\"id\":\"292dcb97-18fa-44f6-afd7-af4d3cc9afbd\",\"type\":\"CategoricalTickFormatter\"},{\"attributes\":{\"below\":[{\"id\":\"f249ba0f-6380-4dc5-8074-f5b91827366d\",\"type\":\"CategoricalAxis\"}],\"left\":[{\"id\":\"eb1c8947-731b-43d2-9812-3c3626dc659a\",\"type\":\"LinearAxis\"}],\"plot_height\":300,\"plot_width\":300,\"renderers\":[{\"id\":\"f249ba0f-6380-4dc5-8074-f5b91827366d\",\"type\":\"CategoricalAxis\"},{\"id\":\"f7cda64a-4f22-4d35-90d6-54e9fa11be2f\",\"type\":\"Grid\"},{\"id\":\"eb1c8947-731b-43d2-9812-3c3626dc659a\",\"type\":\"LinearAxis\"},{\"id\":\"a09e8753-6ad9-485f-b187-4bdb2a6cd89a\",\"type\":\"Grid\"},{\"id\":\"e645cf7c-bdba-47b8-a03d-9a8c166c41fe\",\"type\":\"BoxAnnotation\"},{\"id\":\"9ab5ec87-c30e-4a6d-9f6b-0a81b3b07f72\",\"type\":\"GlyphRenderer\"}],\"title\":{\"id\":\"110d83e3-28dc-4e21-bb20-c4775205bb40\",\"type\":\"Title\"},\"toolbar\":{\"id\":\"89ea3b84-0ecc-4f63-b10a-957b1c090a19\",\"type\":\"Toolbar\"},\"toolbar_location\":null,\"x_range\":{\"id\":\"3f71d767-4b3a-4c1e-939a-4a6d85e8286a\",\"type\":\"FactorRange\"},\"x_scale\":{\"id\":\"c0509b7e-675a-47be-85c1-1c1a52f5788a\",\"type\":\"CategoricalScale\"},\"y_range\":{\"id\":\"6ca62b6d-b19e-4b5e-89d5-cf55ee11885b\",\"type\":\"DataRange1d\"},\"y_scale\":{\"id\":\"5e2c66c4-eae7-46e6-9c0f-fe211a8d40fa\",\"type\":\"LinearScale\"}},\"id\":\"be2fbb76-a12a-437b-ae54-c9c29f1946a5\",\"subtype\":\"Figure\",\"type\":\"Plot\"},{\"attributes\":{\"children\":[{\"id\":\"be2fbb76-a12a-437b-ae54-c9c29f1946a5\",\"subtype\":\"Figure\",\"type\":\"Plot\"},{\"id\":\"ed859b69-2e99-4cfa-924d-0d0ecd5be11e\",\"subtype\":\"Figure\",\"type\":\"Plot\"},{\"id\":\"274a14bb-beb9-4d8e-be22-02351b1d03d5\",\"subtype\":\"Figure\",\"type\":\"Plot\"}]},\"id\":\"aeb78fa4-8456-4aef-a0af-5a1316afd898\",\"type\":\"Row\"},{\"attributes\":{\"fill_color\":{\"value\":\"#1f77b4\"},\"line_color\":{\"value\":\"#1f77b4\"},\"top\":{\"field\":\"flux\"},\"width\":{\"value\":0.9},\"x\":{\"field\":\"band\"}},\"id\":\"c573f92b-570d-48ec-99db-f588d334b941\",\"type\":\"VBar\"},{\"attributes\":{\"source\":{\"id\":\"f9b6d006-2e1c-4f86-b2b8-68d4221fafe9\",\"type\":\"ColumnDataSource\"}},\"id\":\"a29c84c0-1be0-49d5-8e2d-69cd57bdcb9b\",\"type\":\"CDSView\"},{\"attributes\":{},\"id\":\"6ca13395-2fc7-46fd-afbf-7d086022b706\",\"type\":\"HelpTool\"},{\"attributes\":{},\"id\":\"fc10507b-ea6c-484d-8f40-01bc9174cd41\",\"type\":\"CategoricalTickFormatter\"},{\"attributes\":{\"bottom_units\":\"screen\",\"fill_alpha\":{\"value\":0.5},\"fill_color\":{\"value\":\"lightgrey\"},\"left_units\":\"screen\",\"level\":\"overlay\",\"line_alpha\":{\"value\":1.0},\"line_color\":{\"value\":\"black\"},\"line_dash\":[4,4],\"line_width\":{\"value\":2},\"plot\":null,\"render_mode\":\"css\",\"right_units\":\"screen\",\"top_units\":\"screen\"},\"id\":\"0dd5d282-0232-420e-b105-678bc4bb9768\",\"type\":\"BoxAnnotation\"},{\"attributes\":{},\"id\":\"867ecc00-c48b-480c-943b-df1e07ba5f8e\",\"type\":\"PanTool\"},{\"attributes\":{\"callback\":null,\"data\":{\"band\":[\"3\",\"4\",\"5\",\"6\",\"7\",\"11\"],\"flux\":{\"__ndarray__\":\"gPcb7bjhyb8ArlWztVvLPwCD/GzkusO/AFDVdhN8kz8AWBaFXRSNP0A/0MB+PrC/\",\"dtype\":\"float64\",\"shape\":[6]}},\"selected\":{\"id\":\"33572702-1bf4-47ac-8f0b-4dd2bf13cf8c\",\"type\":\"Selection\"},\"selection_policy\":{\"id\":\"e751a900-4c76-4e55-bc4f-59a83d1d371e\",\"type\":\"UnionRenderers\"}},\"id\":\"e0ca712d-ee34-423b-bfc6-bbad77a493e0\",\"type\":\"ColumnDataSource\"},{\"attributes\":{\"fill_color\":{\"value\":\"#1f77b4\"},\"line_color\":{\"value\":\"#1f77b4\"},\"top\":{\"field\":\"flux\"},\"width\":{\"value\":0.9},\"x\":{\"field\":\"band\"}},\"id\":\"99ca691b-b5e6-49a8-aa01-7e2f34de891e\",\"type\":\"VBar\"},{\"attributes\":{},\"id\":\"1282fbb0-6bad-4b52-91b3-dd1d80e450f5\",\"type\":\"ResetTool\"},{\"attributes\":{},\"id\":\"e0b3d7f8-3dc8-48f3-a157-01462b6c3a8d\",\"type\":\"CategoricalTicker\"},{\"attributes\":{\"overlay\":{\"id\":\"66baa850-b614-424d-81f5-4c0909a06c8b\",\"type\":\"BoxAnnotation\"}},\"id\":\"a45872fe-4607-41a4-aff1-ec0a3f636f82\",\"type\":\"BoxZoomTool\"},{\"attributes\":{},\"id\":\"7d5c924c-6c70-4bf8-8893-6dced8a8c06b\",\"type\":\"LinearScale\"},{\"attributes\":{\"fill_alpha\":{\"value\":0.1},\"fill_color\":{\"value\":\"#1f77b4\"},\"line_alpha\":{\"value\":0.1},\"line_color\":{\"value\":\"#1f77b4\"},\"top\":{\"field\":\"flux\"},\"width\":{\"value\":0.9},\"x\":{\"field\":\"band\"}},\"id\":\"dbba1b27-7edb-4000-813d-a33a27b3ce3e\",\"type\":\"VBar\"},{\"attributes\":{},\"id\":\"41b7b61f-0eb1-4b2a-87cc-641df0d510c6\",\"type\":\"WheelZoomTool\"},{\"attributes\":{},\"id\":\"282e67f8-a19e-4ed3-bd57-3858db8e2a5e\",\"type\":\"HelpTool\"},{\"attributes\":{\"callback\":null,\"data\":{\"band\":[\"3\",\"4\",\"5\",\"6\",\"7\",\"11\"],\"flux\":{\"__ndarray__\":\"ADhf7L34vr9Axt6LL9rTP4A883LYfdM/ABw6Pe/Gor8A0KJ3KuCevwDu68A5I7Y/\",\"dtype\":\"float64\",\"shape\":[6]}},\"selected\":{\"id\":\"a1b26ad0-5009-49e1-b540-555803b79b4b\",\"type\":\"Selection\"},\"selection_policy\":{\"id\":\"6307c2cc-1a7d-4ea2-a470-f655084436b5\",\"type\":\"UnionRenderers\"}},\"id\":\"f9b6d006-2e1c-4f86-b2b8-68d4221fafe9\",\"type\":\"ColumnDataSource\"},{\"attributes\":{},\"id\":\"ce83763a-e2f3-4447-bb7e-f66cf45d3144\",\"type\":\"CategoricalTicker\"},{\"attributes\":{\"active_drag\":\"auto\",\"active_inspect\":\"auto\",\"active_scroll\":\"auto\",\"active_tap\":\"auto\",\"tools\":[{\"id\":\"2279bef8-0203-4cdb-a2c4-5c9831b73c11\",\"type\":\"PanTool\"},{\"id\":\"41b7b61f-0eb1-4b2a-87cc-641df0d510c6\",\"type\":\"WheelZoomTool\"},{\"id\":\"55c6c864-14a6-49f2-a2d8-8d1101f3afca\",\"type\":\"BoxZoomTool\"},{\"id\":\"56e28a7c-a5b4-49a0-8e12-120ab287c75d\",\"type\":\"SaveTool\"},{\"id\":\"1282fbb0-6bad-4b52-91b3-dd1d80e450f5\",\"type\":\"ResetTool\"},{\"id\":\"604fc8ab-4309-419c-bfe4-8de82c323838\",\"type\":\"HelpTool\"}]},\"id\":\"89ea3b84-0ecc-4f63-b10a-957b1c090a19\",\"type\":\"Toolbar\"},{\"attributes\":{\"children\":[{\"id\":\"53b488d3-9cda-485e-8b17-1806bb7f6865\",\"type\":\"ToolbarBox\"},{\"id\":\"e768cb2e-2125-4075-bd71-9b8a3f590820\",\"type\":\"Column\"}]},\"id\":\"183f427c-42f2-4d75-9b03-8869a374c275\",\"type\":\"Column\"},{\"attributes\":{\"callback\":null,\"factors\":[\"3\",\"4\",\"5\",\"6\",\"7\",\"11\"]},\"id\":\"5ca87755-fa7f-4de8-b5cc-da5f405d7383\",\"type\":\"FactorRange\"},{\"attributes\":{\"dimension\":1,\"plot\":{\"id\":\"274a14bb-beb9-4d8e-be22-02351b1d03d5\",\"subtype\":\"Figure\",\"type\":\"Plot\"},\"ticker\":{\"id\":\"77741e12-a412-40d7-ac1e-356f89ca3f18\",\"type\":\"BasicTicker\"}},\"id\":\"5ee33480-c78b-461e-9ddb-bd8a6171ccd0\",\"type\":\"Grid\"},{\"attributes\":{},\"id\":\"01b880af-50b2-41f1-835f-0dd3b3420479\",\"type\":\"CategoricalTicker\"},{\"attributes\":{\"below\":[{\"id\":\"516e987a-484e-4c2b-b107-5311c428d48d\",\"type\":\"CategoricalAxis\"}],\"left\":[{\"id\":\"e39258c9-f09e-4a44-9d49-8d42d5ef2a34\",\"type\":\"LinearAxis\"}],\"plot_height\":300,\"plot_width\":300,\"renderers\":[{\"id\":\"516e987a-484e-4c2b-b107-5311c428d48d\",\"type\":\"CategoricalAxis\"},{\"id\":\"79c930ce-f132-4a13-89a2-6b3fd5493b98\",\"type\":\"Grid\"},{\"id\":\"e39258c9-f09e-4a44-9d49-8d42d5ef2a34\",\"type\":\"LinearAxis\"},{\"id\":\"5ee33480-c78b-461e-9ddb-bd8a6171ccd0\",\"type\":\"Grid\"},{\"id\":\"66baa850-b614-424d-81f5-4c0909a06c8b\",\"type\":\"BoxAnnotation\"},{\"id\":\"ecf24a96-510f-4f9e-a23a-3d9a0ad6363f\",\"type\":\"GlyphRenderer\"}],\"title\":{\"id\":\"7dfd3917-ae20-43b9-9d49-0025385dd6f1\",\"type\":\"Title\"},\"toolbar\":{\"id\":\"50ceec0a-6552-499b-8180-9a76ead61701\",\"type\":\"Toolbar\"},\"toolbar_location\":null,\"x_range\":{\"id\":\"e9bef67a-5531-4c2b-bbda-981b8441b3ab\",\"type\":\"FactorRange\"},\"x_scale\":{\"id\":\"612bd574-8e4d-40bb-9ff5-9bf9b6fb0653\",\"type\":\"CategoricalScale\"},\"y_range\":{\"id\":\"1eedb236-d1b7-4931-9771-7266af64d15f\",\"type\":\"DataRange1d\"},\"y_scale\":{\"id\":\"7d5c924c-6c70-4bf8-8893-6dced8a8c06b\",\"type\":\"LinearScale\"}},\"id\":\"274a14bb-beb9-4d8e-be22-02351b1d03d5\",\"subtype\":\"Figure\",\"type\":\"Plot\"},{\"attributes\":{\"axis_label\":\"spectral band\",\"formatter\":{\"id\":\"292dcb97-18fa-44f6-afd7-af4d3cc9afbd\",\"type\":\"CategoricalTickFormatter\"},\"plot\":{\"id\":\"be2fbb76-a12a-437b-ae54-c9c29f1946a5\",\"subtype\":\"Figure\",\"type\":\"Plot\"},\"ticker\":{\"id\":\"01b880af-50b2-41f1-835f-0dd3b3420479\",\"type\":\"CategoricalTicker\"}},\"id\":\"f249ba0f-6380-4dc5-8074-f5b91827366d\",\"type\":\"CategoricalAxis\"},{\"attributes\":{\"axis_label\":\"flux (W m-2)\",\"formatter\":{\"id\":\"a8dd2c34-3d2d-4166-b2a7-57c41966affd\",\"type\":\"BasicTickFormatter\"},\"plot\":{\"id\":\"ed859b69-2e99-4cfa-924d-0d0ecd5be11e\",\"subtype\":\"Figure\",\"type\":\"Plot\"},\"ticker\":{\"id\":\"36f4605a-6d2f-4485-93ae-ba366b875279\",\"type\":\"BasicTicker\"}},\"id\":\"43aec5e7-868e-48f1-9d9a-a402e52eea21\",\"type\":\"LinearAxis\"},{\"attributes\":{\"axis_label\":\"flux (W m-2)\",\"formatter\":{\"id\":\"3c42ec6a-f3f2-492e-adb0-1ebbd72d4723\",\"type\":\"BasicTickFormatter\"},\"plot\":{\"id\":\"be2fbb76-a12a-437b-ae54-c9c29f1946a5\",\"subtype\":\"Figure\",\"type\":\"Plot\"},\"ticker\":{\"id\":\"78e98957-baaa-4e07-9b28-859487053362\",\"type\":\"BasicTicker\"}},\"id\":\"eb1c8947-731b-43d2-9812-3c3626dc659a\",\"type\":\"LinearAxis\"},{\"attributes\":{},\"id\":\"33572702-1bf4-47ac-8f0b-4dd2bf13cf8c\",\"type\":\"Selection\"},{\"attributes\":{},\"id\":\"662e4240-fe2a-422a-ad9a-6f3aaf407411\",\"type\":\"WheelZoomTool\"},{\"attributes\":{\"active_drag\":\"auto\",\"active_inspect\":\"auto\",\"active_scroll\":\"auto\",\"active_tap\":\"auto\",\"tools\":[{\"id\":\"b12d2fda-bfda-4d47-be65-adfc64246afa\",\"type\":\"PanTool\"},{\"id\":\"f136bee5-3b3e-4d0f-8d23-8aaf7f590d5e\",\"type\":\"WheelZoomTool\"},{\"id\":\"06e2ac00-b6a0-4275-bf67-055887828db9\",\"type\":\"BoxZoomTool\"},{\"id\":\"009aec51-c5d0-4bcc-8059-3e8ebf5d4ab9\",\"type\":\"SaveTool\"},{\"id\":\"9a9a13b0-78a2-4c06-bf7f-eff636efdbfd\",\"type\":\"ResetTool\"},{\"id\":\"282e67f8-a19e-4ed3-bd57-3858db8e2a5e\",\"type\":\"HelpTool\"}]},\"id\":\"85f29b7d-117a-4629-9113-947f1004d188\",\"type\":\"Toolbar\"},{\"attributes\":{\"toolbar\":{\"id\":\"fa2dea68-9096-478a-a297-372501d9d81e\",\"type\":\"ProxyToolbar\"},\"toolbar_location\":\"above\"},\"id\":\"53b488d3-9cda-485e-8b17-1806bb7f6865\",\"type\":\"ToolbarBox\"},{\"attributes\":{},\"id\":\"dc31b73a-d65e-4a39-a9dd-3b753a00f88c\",\"type\":\"ResetTool\"}],\"root_ids\":[\"183f427c-42f2-4d75-9b03-8869a374c275\"]},\"title\":\"Bokeh Application\",\"version\":\"0.12.16\"}};\n",
       "  var render_items = [{\"docid\":\"c77e5165-7eae-4448-a102-f770cfba9a68\",\"elementid\":\"1bf92abc-128f-4ac1-a3ba-ec3b74fd8984\",\"modelid\":\"183f427c-42f2-4d75-9b03-8869a374c275\"}];\n",
       "  root.Bokeh.embed.embed_items_notebook(docs_json, render_items);\n",
       "\n",
       "  }\n",
       "  if (root.Bokeh !== undefined) {\n",
       "    embed_document(root);\n",
       "  } else {\n",
       "    var attempts = 0;\n",
       "    var timer = setInterval(function(root) {\n",
       "      if (root.Bokeh !== undefined) {\n",
       "        embed_document(root);\n",
       "        clearInterval(timer);\n",
       "      }\n",
       "      attempts++;\n",
       "      if (attempts > 100) {\n",
       "        console.log(\"Bokeh: ERROR: Unable to run BokehJS code because BokehJS library is missing\")\n",
       "        clearInterval(timer);\n",
       "      }\n",
       "    }, 10, root)\n",
       "  }\n",
       "})(window);"
      ],
      "application/vnd.bokehjs_exec.v0+json": ""
     },
     "metadata": {
      "application/vnd.bokehjs_exec.v0+json": {
       "id": "183f427c-42f2-4d75-9b03-8869a374c275"
      }
     },
     "output_type": "display_data"
    },
    {
     "data": {
      "text/markdown": [
       "*FIGURE.* Difference between CLIRAD and CRD in TOA, SFC and net atmosphere flux, in each spectral band."
      ],
      "text/plain": [
       "<IPython.core.display.Markdown object>"
      ]
     },
     "metadata": {},
     "output_type": "display_data"
    },
    {
     "data": {
      "text/html": [
       "<div>\n",
       "<style scoped>\n",
       "    .dataframe tbody tr th:only-of-type {\n",
       "        vertical-align: middle;\n",
       "    }\n",
       "\n",
       "    .dataframe tbody tr th {\n",
       "        vertical-align: top;\n",
       "    }\n",
       "\n",
       "    .dataframe thead th {\n",
       "        text-align: right;\n",
       "    }\n",
       "</style>\n",
       "<table border=\"1\" class=\"dataframe\">\n",
       "  <thead>\n",
       "    <tr style=\"text-align: right;\">\n",
       "      <th></th>\n",
       "      <th>OLR flux</th>\n",
       "      <th>SFC flux</th>\n",
       "      <th>ATM heating</th>\n",
       "    </tr>\n",
       "    <tr>\n",
       "      <th>Sum over bands</th>\n",
       "      <th></th>\n",
       "      <th></th>\n",
       "      <th></th>\n",
       "    </tr>\n",
       "  </thead>\n",
       "  <tbody>\n",
       "    <tr>\n",
       "      <th>CLIRAD - CRD</th>\n",
       "      <td>-210.63</td>\n",
       "      <td>0.69</td>\n",
       "      <td>-0.17</td>\n",
       "    </tr>\n",
       "    <tr>\n",
       "      <th>CRD</th>\n",
       "      <td>-170.96</td>\n",
       "      <td>79.16</td>\n",
       "      <td>-37.63</td>\n",
       "    </tr>\n",
       "  </tbody>\n",
       "</table>\n",
       "</div>"
      ],
      "text/plain": [
       "                OLR flux  SFC flux  ATM heating\n",
       "Sum over bands                                 \n",
       "CLIRAD - CRD     -210.63      0.69        -0.17\n",
       "CRD              -170.96     79.16       -37.63"
      ]
     },
     "metadata": {},
     "output_type": "display_data"
    },
    {
     "data": {
      "text/markdown": [
       "*TABLE.* Difference between CLIRAD and CRD in TOA, SFC and net atmosphere flux, over all spectral bands. CRD's TOA, SFC and net atmosphere flux, over all spectral bands."
      ],
      "text/plain": [
       "<IPython.core.display.Markdown object>"
      ]
     },
     "metadata": {},
     "output_type": "display_data"
    },
    {
     "data": {
      "text/html": [
       "<a id=\"Cooling_rates._saw.\"></a>"
      ],
      "text/plain": [
       "<IPython.core.display.HTML object>"
      ]
     },
     "metadata": {},
     "output_type": "display_data"
    },
    {
     "data": {
      "text/markdown": [
       "# Cooling rates. saw."
      ],
      "text/plain": [
       "<IPython.core.display.Markdown object>"
      ]
     },
     "metadata": {},
     "output_type": "display_data"
    },
    {
     "data": {
      "text/html": [
       "\n",
       "<div class=\"bk-root\">\n",
       "    <div class=\"bk-plotdiv\" id=\"1578801f-e33c-4f0b-8179-d5b0a18b05a6\"></div>\n",
       "</div>"
      ]
     },
     "metadata": {},
     "output_type": "display_data"
    },
    {
     "data": {
      "application/javascript": [
       "(function(root) {\n",
       "  function embed_document(root) {\n",
       "    \n",
       "  var docs_json = {\"5263c9c5-1ea3-4b2d-826e-ad6e4f0b6148\":{\"roots\":{\"references\":[{\"attributes\":{\"data_source\":{\"id\":\"3c8fecb0-55f5-4b41-84d2-d2aee1b3a4eb\",\"type\":\"ColumnDataSource\"},\"glyph\":{\"id\":\"873fc6a6-8c1d-4b53-87bd-69cb3a951d29\",\"type\":\"Circle\"},\"hover_glyph\":null,\"muted_glyph\":null,\"nonselection_glyph\":{\"id\":\"3f53ecde-7c1a-486a-88d4-51200d225d31\",\"type\":\"Circle\"},\"selection_glyph\":null,\"view\":{\"id\":\"44e26a11-f580-4484-91c3-6b16d6a0f2de\",\"type\":\"CDSView\"}},\"id\":\"623e828c-04ca-495d-8b46-8cf7451d62eb\",\"type\":\"GlyphRenderer\"},{\"attributes\":{},\"id\":\"46fea625-0960-436f-9b5c-4e280d63421f\",\"type\":\"Selection\"},{\"attributes\":{\"above\":[{\"id\":\"2ee9c803-50f2-422f-a2f2-02e9ae4bb278\",\"type\":\"Legend\"}],\"below\":[{\"id\":\"30a991c7-92ad-42e1-8c93-a907acc16838\",\"type\":\"LinearAxis\"}],\"left\":[{\"id\":\"f941c43e-430d-42b7-b653-c405d87d63ec\",\"type\":\"LinearAxis\"}],\"plot_width\":300,\"renderers\":[{\"id\":\"30a991c7-92ad-42e1-8c93-a907acc16838\",\"type\":\"LinearAxis\"},{\"id\":\"17725160-734c-4e93-945b-cac6ea320fb2\",\"type\":\"Grid\"},{\"id\":\"f941c43e-430d-42b7-b653-c405d87d63ec\",\"type\":\"LinearAxis\"},{\"id\":\"b29f4f9d-3538-4626-a571-ef354acd1ae4\",\"type\":\"Grid\"},{\"id\":\"8601365c-cf98-4009-8e84-881e3927b8f1\",\"type\":\"BoxAnnotation\"},{\"id\":\"030b2432-1f0f-4df3-992c-4404920a1674\",\"type\":\"GlyphRenderer\"},{\"id\":\"b7541b72-e006-4dc9-9404-e8c95fe1157e\",\"type\":\"GlyphRenderer\"},{\"id\":\"db6b4b78-203c-4ca6-be81-a544cdfe2fc8\",\"type\":\"GlyphRenderer\"},{\"id\":\"2ee9c803-50f2-422f-a2f2-02e9ae4bb278\",\"type\":\"Legend\"}],\"title\":{\"id\":\"66c2d895-397a-4694-ab1a-64c08eef4797\",\"type\":\"Title\"},\"toolbar\":{\"id\":\"eb65faba-c0c1-4923-8644-a5eea1718d64\",\"type\":\"Toolbar\"},\"toolbar_location\":null,\"x_range\":{\"id\":\"89f84ee3-d9b2-46a3-9afd-ca5fbb53a929\",\"type\":\"Range1d\"},\"x_scale\":{\"id\":\"604a36f3-2446-4be4-ba4e-266dea3dd639\",\"type\":\"LinearScale\"},\"y_range\":{\"id\":\"57fcfb72-95f9-4ba8-aaa4-36cc9dc34654\",\"type\":\"Range1d\"},\"y_scale\":{\"id\":\"4a73bbd9-5cdf-47d3-b2fc-b600e69a4d70\",\"type\":\"LinearScale\"}},\"id\":\"ada720cc-a68b-43b0-b8db-01dd57dcd1d9\",\"subtype\":\"Figure\",\"type\":\"Plot\"},{\"attributes\":{\"ticker\":null},\"id\":\"95f9db23-e723-4ebe-b4a3-1670ac1ae2cc\",\"type\":\"LogTickFormatter\"},{\"attributes\":{\"items\":[{\"id\":\"6f1513f3-60f3-4ed9-a62e-811de80ea97e\",\"type\":\"LegendItem\"}],\"label_text_font_size\":{\"value\":\"8pt\"},\"location\":\"top_center\",\"orientation\":\"horizontal\",\"plot\":{\"id\":\"3fd0fd56-8b24-4455-8d4d-9682c65c3a8b\",\"subtype\":\"Figure\",\"type\":\"Plot\"}},\"id\":\"c5c6847a-fe4f-4a59-bdcc-00a491e5a4e6\",\"type\":\"Legend\"},{\"attributes\":{\"toolbar\":{\"id\":\"ceeb46f6-1fc9-47f6-8e63-9228c322a6f8\",\"type\":\"ProxyToolbar\"},\"toolbar_location\":\"above\"},\"id\":\"d8072e54-aecc-4dc0-8fc0-b9e2602bd602\",\"type\":\"ToolbarBox\"},{\"attributes\":{\"callback\":null,\"data\":{\"x\":{\"__ndarray__\":\"+CYbSSEsNsBk3QHA0bP7P4yqpa9w4ARAL4Zg5ENrBkDtt4qh3hX+PyDm+pkx0ss/cNAvju3E9L+2SAGXCwn+vxMPmw4Ib/m/dROK74lZ8L/E47Jhd3jlv6dsvlpFqeS/ZijsVBAi6L/2FlhXLw3lv0awHyZFksm/OckICQim2D/zYrr46aznP1Ub8q3ZQ+Y/m8GaycYq1D+0uqSo+gfEv2LdSIiSmt2/x59buMhO2b+WW4z7O82+v1yC9byViFu/0gXjSZLstb8XVectK0jCv6qjrv18IZI/eAAIFMC1wz/nj/m235nBP9e+hdxCAbI/RElwQCEHrT/M/EPjD882P/oJEON0UZ+//3inTStAlT+jL7zwloamPzLwalliOmY/sBHksrw4hr9FSfBEAsuQP3htE+8Zy6M/vXnbtzYJpj8mjY5YX4ChP1jL62Lbv5Q/DYRxrj5EdD/oXv6+UwWBv0Mx+GWxhJO/0PAalSUemb8G6g5B+nSZv6bEMX8ZcpW/237PLwbmkL/hjv9JA1CLv+yjwOz0x4e/J6KncvUOiL9X1CgRe2eFvw2dfI10rIO/WIK4He8ggb/cLkLP0Nx7v1nwughNK3S/iHYKyvrYZb+A7aYixAlWv1fxQS3Y1lc/4N0NUABfZz/sEdaQwRRxP04ipSE3v3U/r3quV16XeT/Kd0ES53l8P0CNYOnYVn4/cBr+6TtFfz94Ot2oP0qAP3xGasBxMHs/8qPrdO4efj98D1UlR4J8Py8DSWOqHHc/CNM1oXW+ez+RjOtdUF92P8DAKdCIiXg/\",\"dtype\":\"float64\",\"shape\":[75]},\"y\":{\"__ndarray__\":\"GhExyth1ND/Sv8nbtpRIP2vylNV0PVE/aTum7souWD/At0SJ8fVgPw3Iuahxymc/MSNhhJWvcD/bTfBN02d3P2zb5nxnaoA/CD5h5MAGhz8NmeH1TyaQP+zrCsc9p5Y/LbKd76fGnz/bLW5ISEmmPww9YvTcQq8/JV2OstnstT8Er5Y7M8G+P0c+r3jqkcU/5h99k6ZBzj88bCIzFzjVP4enV8oyxN0//yH99nXg5D8qOpLLf0jtP5kqGJXUifQ/c9cS8kHP/D+/DpwzojQEQIEmwoanVwxA4lgXt9HgE0BSSZ2AJuIbQAMJih9jjiNA5q4l5INuK0AwTKYKRj0zQNv5fmq8/DpAaCJseHrtQkB/+zpwzoxKQM3MzMzMeFJAZmZmZmZqWEAAAAAAAFxeQM3MzMzMJmJAmpmZmZkfZUBmZmZmZhhoQDMzMzMzEWtAAAAAAAAKbkBmZmZmZoFwQM3MzMzM/XFAMzMzMzN6c0CamZmZmfZ0QAAAAAAAc3ZAZmZmZmbvd0DNzMzMzGt5QDMzMzMz6HpAmpmZmZlkfEAAAAAAAOF9QGZmZmZmXX9AZmZmZuZsgECamZmZGSuBQM3MzMxM6YFAAAAAAICngkAzMzMzs2WDQGZmZmbmI4RAmpmZmRnihEDNzMzMTKCFQAAAAACAXoZAMzMzM7Mch0BmZmZm5tqHQJqZmZkZmYhAzczMzExXiUAAAAAAgBWKQDMzMzOz04pAZmZmZuaRi0CamZmZGVCMQM3MzMxMDo1AAAAAAIDMjUAzMzMzs4qOQGZmZmbmSI9A\",\"dtype\":\"float64\",\"shape\":[75]}},\"selected\":{\"id\":\"76a69941-6c19-4049-aedb-07fdf2efe415\",\"type\":\"Selection\"},\"selection_policy\":{\"id\":\"8fa3a2eb-49b1-4fd3-b624-0bfe2f43af43\",\"type\":\"UnionRenderers\"}},\"id\":\"3c8fecb0-55f5-4b41-84d2-d2aee1b3a4eb\",\"type\":\"ColumnDataSource\"},{\"attributes\":{\"fill_alpha\":{\"value\":0.7},\"fill_color\":{\"value\":\"#4daf4a\"},\"line_alpha\":{\"value\":0.7},\"line_color\":{\"value\":\"#4daf4a\"},\"x\":{\"field\":\"x\"},\"y\":{\"field\":\"y\"}},\"id\":\"7156ccc8-627a-44d0-961f-e5bbcba46562\",\"type\":\"Circle\"},{\"attributes\":{\"source\":{\"id\":\"bded6edb-f8ae-4d76-b0a1-97196b4413b9\",\"type\":\"ColumnDataSource\"}},\"id\":\"1bf0f901-cd0b-4e0b-afba-e4df0f1287a6\",\"type\":\"CDSView\"},{\"attributes\":{},\"id\":\"a781cd78-c01e-4280-87c6-69e2aa240796\",\"type\":\"UnionRenderers\"},{\"attributes\":{\"data_source\":{\"id\":\"5467766a-7a89-4a79-ba38-f9c5456b8ea0\",\"type\":\"ColumnDataSource\"},\"glyph\":{\"id\":\"c549ea27-e337-4b3a-98ac-4a037fc86fad\",\"type\":\"Line\"},\"hover_glyph\":null,\"muted_glyph\":null,\"nonselection_glyph\":{\"id\":\"9b6b2463-5148-4ac5-ae71-e635fba4818d\",\"type\":\"Line\"},\"selection_glyph\":null,\"view\":{\"id\":\"c987f32e-856c-4fc1-a65a-53e16532e2f3\",\"type\":\"CDSView\"}},\"id\":\"030b2432-1f0f-4df3-992c-4404920a1674\",\"type\":\"GlyphRenderer\"},{\"attributes\":{},\"id\":\"9f553815-9b5a-4b4e-bb07-1599bc7ec1e8\",\"type\":\"ResetTool\"},{\"attributes\":{\"line_color\":\"#4daf4a\",\"line_width\":1.5,\"x\":{\"field\":\"x\"},\"y\":{\"field\":\"y\"}},\"id\":\"950b12c4-0272-4e5c-a83e-8d218aa887f2\",\"type\":\"Line\"},{\"attributes\":{\"callback\":null,\"data\":{\"x\":{\"__ndarray__\":\"ctz0QKHDUEDjAysGblQ+QPREI+iqkzxAAjI5cYXXOUDOhNJHUNw2QHz1jgWpGzRARMR+7tbNMUCmsU6PhwEwQPQDdxknVy1Av0ZHbpxkK0BEWOiV//ApQG/Q9weMzShAf8fl+BcSKEAzAg7HkbcmQG1cargULyRAXKnA+e+8IUD10Ie+5f0fQNMJ5VcMth1Ai47eFEGhHEDbBCZTKOscQK4haR5dpx9AG96cKIoDHkCspeoq3gwXQH6SdReslhFALvOqytb4C0D7fcgYbVUGQEm/Rq6LXQFAdVFfcljW+z9/iutHgcb4P7vKguc7RvY/ZI+5xgTv8j+iDL5PvK3tP55C9IQaw+g/PBntx5495z+Ee4rMGCjkP485GahZYuA/VbBFxyCj2j/WHubyrljUPzFmT3Wgt80/xAN78sYnxz/JvMNWTkTCP3xrz9MkLrw/oGcCR9XYsz8RncSWOgOgPwLuLy/zW7C/eK8qSk2Rur8VxcFlZSyYvxsHBwiZtak/SvZPwa/itD+ysaf/dD66PygmEh4wmr4/x0U0qWY1wT/RbvpuqvTCP5e42islmMQ/N6YYdv0nxj8iERBMgp/HP7J1eQT+98g/UkeIEtkjyj833yUjSxLLPzwGu4s2uss/IZANlDsbzD+RLSkASELMP4LBa9cIRMw/bou5eVhAzD8RVGFwbF3MP15hDLDAzMw/flEaZO3TzT9dOto3hqfPPxlNXkj23dA/IMSYtCUb0T9pvt3qZpPPP4fLRVPx08o/WYK/ca/yxT/nRhyoD6HBP1BK2bYdaLY/\",\"dtype\":\"float64\",\"shape\":[75]},\"y\":{\"__ndarray__\":\"GhExyth1ND/Sv8nbtpRIP2vylNV0PVE/aTum7souWD/At0SJ8fVgPw3Iuahxymc/MSNhhJWvcD/bTfBN02d3P2zb5nxnaoA/CD5h5MAGhz8NmeH1TyaQP+zrCsc9p5Y/LbKd76fGnz/bLW5ISEmmPww9YvTcQq8/JV2OstnstT8Er5Y7M8G+P0c+r3jqkcU/5h99k6ZBzj88bCIzFzjVP4enV8oyxN0//yH99nXg5D8qOpLLf0jtP5kqGJXUifQ/c9cS8kHP/D+/DpwzojQEQIEmwoanVwxA4lgXt9HgE0BSSZ2AJuIbQAMJih9jjiNA5q4l5INuK0AwTKYKRj0zQNv5fmq8/DpAaCJseHrtQkB/+zpwzoxKQM3MzMzMeFJAZmZmZmZqWEAAAAAAAFxeQM3MzMzMJmJAmpmZmZkfZUBmZmZmZhhoQDMzMzMzEWtAAAAAAAAKbkBmZmZmZoFwQM3MzMzM/XFAMzMzMzN6c0CamZmZmfZ0QAAAAAAAc3ZAZmZmZmbvd0DNzMzMzGt5QDMzMzMz6HpAmpmZmZlkfEAAAAAAAOF9QGZmZmZmXX9AZmZmZuZsgECamZmZGSuBQM3MzMxM6YFAAAAAAICngkAzMzMzs2WDQGZmZmbmI4RAmpmZmRnihEDNzMzMTKCFQAAAAACAXoZAMzMzM7Mch0BmZmZm5tqHQJqZmZkZmYhAzczMzExXiUAAAAAAgBWKQDMzMzOz04pAZmZmZuaRi0CamZmZGVCMQM3MzMxMDo1AAAAAAIDMjUAzMzMzs4qOQGZmZmbmSI9A\",\"dtype\":\"float64\",\"shape\":[75]}},\"selected\":{\"id\":\"1f82ace9-826e-4742-8b17-8eceb40d8f71\",\"type\":\"Selection\"},\"selection_policy\":{\"id\":\"aa5301db-61b7-42aa-bce7-bb03c7966f20\",\"type\":\"UnionRenderers\"}},\"id\":\"3c71a203-f18b-4f08-8326-85de63b33669\",\"type\":\"ColumnDataSource\"},{\"attributes\":{},\"id\":\"76a69941-6c19-4049-aedb-07fdf2efe415\",\"type\":\"Selection\"},{\"attributes\":{\"source\":{\"id\":\"cb7195ba-2335-4b90-aea4-d702f821ca0b\",\"type\":\"ColumnDataSource\"}},\"id\":\"e78d35a7-666f-4d54-947a-f44b16ebe3ad\",\"type\":\"CDSView\"},{\"attributes\":{},\"id\":\"f6c2655b-df04-4b69-ac05-4161d4a8121b\",\"type\":\"BasicTicker\"},{\"attributes\":{},\"id\":\"8fa3a2eb-49b1-4fd3-b624-0bfe2f43af43\",\"type\":\"UnionRenderers\"},{\"attributes\":{},\"id\":\"a1c0ec1f-2b06-45ac-84c3-2e186d95d5c5\",\"type\":\"BasicTickFormatter\"},{\"attributes\":{\"callback\":null,\"end\":0.01,\"start\":1020},\"id\":\"a11295ab-7c76-45f5-83e4-a5ef52d3e7db\",\"type\":\"Range1d\"},{\"attributes\":{\"source\":{\"id\":\"3c71a203-f18b-4f08-8326-85de63b33669\",\"type\":\"ColumnDataSource\"}},\"id\":\"1514b458-78ff-4eea-ba44-f99fb3de4027\",\"type\":\"CDSView\"},{\"attributes\":{},\"id\":\"e6c77110-c750-4a53-8cf4-341372d9b268\",\"type\":\"Selection\"},{\"attributes\":{\"plot\":null,\"text\":\"\"},\"id\":\"d1a5d837-0edb-4e21-aede-af6e61772697\",\"type\":\"Title\"},{\"attributes\":{\"bottom_units\":\"screen\",\"fill_alpha\":{\"value\":0.5},\"fill_color\":{\"value\":\"lightgrey\"},\"left_units\":\"screen\",\"level\":\"overlay\",\"line_alpha\":{\"value\":1.0},\"line_color\":{\"value\":\"black\"},\"line_dash\":[4,4],\"line_width\":{\"value\":2},\"plot\":null,\"render_mode\":\"css\",\"right_units\":\"screen\",\"top_units\":\"screen\"},\"id\":\"9d0fbcb4-5b88-4e5c-819f-6841a0574f75\",\"type\":\"BoxAnnotation\"},{\"attributes\":{\"data_source\":{\"id\":\"cb7195ba-2335-4b90-aea4-d702f821ca0b\",\"type\":\"ColumnDataSource\"},\"glyph\":{\"id\":\"7156ccc8-627a-44d0-961f-e5bbcba46562\",\"type\":\"Circle\"},\"hover_glyph\":null,\"muted_glyph\":null,\"nonselection_glyph\":{\"id\":\"049b5d16-2dba-489a-916a-4ac40514d9aa\",\"type\":\"Circle\"},\"selection_glyph\":null,\"view\":{\"id\":\"e78d35a7-666f-4d54-947a-f44b16ebe3ad\",\"type\":\"CDSView\"}},\"id\":\"b7541b72-e006-4dc9-9404-e8c95fe1157e\",\"type\":\"GlyphRenderer\"},{\"attributes\":{},\"id\":\"6adf3555-28c0-488a-bf2a-c5707d042901\",\"type\":\"LinearScale\"},{\"attributes\":{\"fill_alpha\":{\"value\":0.1},\"fill_color\":{\"value\":\"#1f77b4\"},\"line_alpha\":{\"value\":0.1},\"line_color\":{\"value\":\"#1f77b4\"},\"x\":{\"field\":\"x\"},\"y\":{\"field\":\"y\"}},\"id\":\"049b5d16-2dba-489a-916a-4ac40514d9aa\",\"type\":\"Circle\"},{\"attributes\":{},\"id\":\"1ba7aeee-33d5-45d6-a91c-0d756d549b73\",\"type\":\"SaveTool\"},{\"attributes\":{\"fill_alpha\":{\"value\":0.1},\"fill_color\":{\"value\":\"#1f77b4\"},\"line_alpha\":{\"value\":0.1},\"line_color\":{\"value\":\"#1f77b4\"},\"x\":{\"field\":\"x\"},\"y\":{\"field\":\"y\"}},\"id\":\"3f53ecde-7c1a-486a-88d4-51200d225d31\",\"type\":\"Circle\"},{\"attributes\":{},\"id\":\"9d993d8a-8b70-4b82-bbee-513f642484cb\",\"type\":\"HelpTool\"},{\"attributes\":{},\"id\":\"4b2c860a-f1be-40b9-83f0-bcf05f745fb4\",\"type\":\"BasicTickFormatter\"},{\"attributes\":{\"children\":[{\"id\":\"d8072e54-aecc-4dc0-8fc0-b9e2602bd602\",\"type\":\"ToolbarBox\"},{\"id\":\"7a867cc8-8538-4335-abbc-73b665bc6ebf\",\"type\":\"Column\"}]},\"id\":\"29653734-ca50-4d22-8b12-12da93ccb9b9\",\"type\":\"Column\"},{\"attributes\":{},\"id\":\"b177143e-4384-4f6d-a704-c64c8191ccde\",\"type\":\"UnionRenderers\"},{\"attributes\":{\"children\":[{\"id\":\"ada720cc-a68b-43b0-b8db-01dd57dcd1d9\",\"subtype\":\"Figure\",\"type\":\"Plot\"},{\"id\":\"784a75c0-515c-412f-b2d9-aea4d9ea41ac\",\"subtype\":\"Figure\",\"type\":\"Plot\"},{\"id\":\"3fd0fd56-8b24-4455-8d4d-9682c65c3a8b\",\"subtype\":\"Figure\",\"type\":\"Plot\"}]},\"id\":\"70cfb4e2-0cd9-4bb7-86fc-78e0dea8c699\",\"type\":\"Row\"},{\"attributes\":{\"data_source\":{\"id\":\"bded6edb-f8ae-4d76-b0a1-97196b4413b9\",\"type\":\"ColumnDataSource\"},\"glyph\":{\"id\":\"a8584bf0-12d4-43c7-8097-867d73b5f028\",\"type\":\"Line\"},\"hover_glyph\":null,\"muted_glyph\":null,\"nonselection_glyph\":{\"id\":\"28e866b0-216d-43ee-bbed-0b6db3affee7\",\"type\":\"Line\"},\"selection_glyph\":null,\"view\":{\"id\":\"1bf0f901-cd0b-4e0b-afba-e4df0f1287a6\",\"type\":\"CDSView\"}},\"id\":\"c04c229b-9628-42ea-91eb-977eb291e301\",\"type\":\"GlyphRenderer\"},{\"attributes\":{\"children\":[{\"id\":\"70cfb4e2-0cd9-4bb7-86fc-78e0dea8c699\",\"type\":\"Row\"}]},\"id\":\"7a867cc8-8538-4335-abbc-73b665bc6ebf\",\"type\":\"Column\"},{\"attributes\":{},\"id\":\"496b21a4-55ff-4ea9-b00e-6ce431aa6aff\",\"type\":\"UnionRenderers\"},{\"attributes\":{},\"id\":\"604a36f3-2446-4be4-ba4e-266dea3dd639\",\"type\":\"LinearScale\"},{\"attributes\":{\"callback\":null,\"end\":0.01,\"start\":1020},\"id\":\"2ff637c1-35ff-4613-aca1-7e05b8c0280f\",\"type\":\"Range1d\"},{\"attributes\":{},\"id\":\"525fe4c4-9d50-450c-a517-59fb67614cdb\",\"type\":\"Selection\"},{\"attributes\":{\"ticker\":null},\"id\":\"76faaa06-6eb1-44fd-950a-478e39facdbf\",\"type\":\"LogTickFormatter\"},{\"attributes\":{\"line_alpha\":0.6,\"line_color\":\"#e41a1c\",\"line_dash\":[6],\"line_width\":5,\"x\":{\"field\":\"x\"},\"y\":{\"field\":\"y\"}},\"id\":\"2b177182-6b92-4afe-8232-050a268856c4\",\"type\":\"Line\"},{\"attributes\":{\"data_source\":{\"id\":\"3c71a203-f18b-4f08-8326-85de63b33669\",\"type\":\"ColumnDataSource\"},\"glyph\":{\"id\":\"950b12c4-0272-4e5c-a83e-8d218aa887f2\",\"type\":\"Line\"},\"hover_glyph\":null,\"muted_glyph\":null,\"nonselection_glyph\":{\"id\":\"21b9359e-d2a7-4af7-8f7d-360a6d8f0570\",\"type\":\"Line\"},\"selection_glyph\":null,\"view\":{\"id\":\"1514b458-78ff-4eea-ba44-f99fb3de4027\",\"type\":\"CDSView\"}},\"id\":\"db6b4b78-203c-4ca6-be81-a544cdfe2fc8\",\"type\":\"GlyphRenderer\"},{\"attributes\":{},\"id\":\"f0b08d81-5926-4bd6-9d4b-37e748b84949\",\"type\":\"Selection\"},{\"attributes\":{\"items\":[{\"id\":\"d596822d-66f7-4ad3-b0f9-9a0e01ef0905\",\"type\":\"LegendItem\"},{\"id\":\"06f9804e-cb8d-4b91-97dd-a7a35a0fbfb7\",\"type\":\"LegendItem\"}],\"label_text_font_size\":{\"value\":\"8pt\"},\"location\":\"top_center\",\"orientation\":\"horizontal\",\"plot\":{\"id\":\"ada720cc-a68b-43b0-b8db-01dd57dcd1d9\",\"subtype\":\"Figure\",\"type\":\"Plot\"}},\"id\":\"2ee9c803-50f2-422f-a2f2-02e9ae4bb278\",\"type\":\"Legend\"},{\"attributes\":{\"label\":{\"value\":\"CLIRAD - CRD\"},\"renderers\":[{\"id\":\"623e828c-04ca-495d-8b46-8cf7451d62eb\",\"type\":\"GlyphRenderer\"},{\"id\":\"c04c229b-9628-42ea-91eb-977eb291e301\",\"type\":\"GlyphRenderer\"}]},\"id\":\"6f1513f3-60f3-4ed9-a62e-811de80ea97e\",\"type\":\"LegendItem\"},{\"attributes\":{\"line_alpha\":0.1,\"line_color\":\"#1f77b4\",\"line_width\":1.5,\"x\":{\"field\":\"x\"},\"y\":{\"field\":\"y\"}},\"id\":\"21b9359e-d2a7-4af7-8f7d-360a6d8f0570\",\"type\":\"Line\"},{\"attributes\":{\"plot\":{\"id\":\"3fd0fd56-8b24-4455-8d4d-9682c65c3a8b\",\"subtype\":\"Figure\",\"type\":\"Plot\"},\"ticker\":{\"id\":\"f6c2655b-df04-4b69-ac05-4161d4a8121b\",\"type\":\"BasicTicker\"}},\"id\":\"56574d32-975e-4436-b6af-9528bd55d176\",\"type\":\"Grid\"},{\"attributes\":{\"callback\":null,\"end\":0.7574748373145987,\"start\":-1.0394772385745992},\"id\":\"69389fef-68a9-4528-9413-411781d2d29f\",\"type\":\"Range1d\"},{\"attributes\":{},\"id\":\"77e8bd4f-8b00-445b-b697-20d2181419a0\",\"type\":\"Selection\"},{\"attributes\":{\"dimension\":1,\"plot\":{\"id\":\"3fd0fd56-8b24-4455-8d4d-9682c65c3a8b\",\"subtype\":\"Figure\",\"type\":\"Plot\"},\"ticker\":{\"id\":\"5d1c44ee-a2d2-47a3-8d3d-81d044799471\",\"type\":\"LogTicker\"}},\"id\":\"336ca655-d4e7-49de-b066-f6f7718a088d\",\"type\":\"Grid\"},{\"attributes\":{},\"id\":\"4a73bbd9-5cdf-47d3-b2fc-b600e69a4d70\",\"type\":\"LinearScale\"},{\"attributes\":{\"label\":{\"value\":\"CLIRAD\"},\"renderers\":[{\"id\":\"0c9023e5-a625-47f5-8e74-8ca0bae4d25d\",\"type\":\"GlyphRenderer\"}]},\"id\":\"1fa29b3b-3332-4dc8-8331-0cb0f5f754bc\",\"type\":\"LegendItem\"},{\"attributes\":{\"line_alpha\":0.8,\"line_color\":\"#984ea3\",\"line_width\":1.5,\"x\":{\"field\":\"x\"},\"y\":{\"field\":\"y\"}},\"id\":\"a8584bf0-12d4-43c7-8097-867d73b5f028\",\"type\":\"Line\"},{\"attributes\":{},\"id\":\"ad9dd20c-fc9b-4e9e-80d8-5ca7b1e59256\",\"type\":\"UnionRenderers\"},{\"attributes\":{\"callback\":null,\"data\":{\"x\":{\"__ndarray__\":\"+CYbSSEsNsBk3QHA0bP7P4yqpa9w4ARAL4Zg5ENrBkDtt4qh3hX+PyDm+pkx0ss/cNAvju3E9L+2SAGXCwn+vxMPmw4Ib/m/dROK74lZ8L/E47Jhd3jlv6dsvlpFqeS/ZijsVBAi6L/2FlhXLw3lv0awHyZFksm/OckICQim2D/zYrr46aznP1Ub8q3ZQ+Y/m8GaycYq1D+0uqSo+gfEv2LdSIiSmt2/x59buMhO2b+WW4z7O82+v1yC9byViFu/0gXjSZLstb8XVectK0jCv6qjrv18IZI/eAAIFMC1wz/nj/m235nBP9e+hdxCAbI/RElwQCEHrT/M/EPjD882P/oJEON0UZ+//3inTStAlT+jL7zwloamPzLwalliOmY/sBHksrw4hr9FSfBEAsuQP3htE+8Zy6M/vXnbtzYJpj8mjY5YX4ChP1jL62Lbv5Q/DYRxrj5EdD/oXv6+UwWBv0Mx+GWxhJO/0PAalSUemb8G6g5B+nSZv6bEMX8ZcpW/237PLwbmkL/hjv9JA1CLv+yjwOz0x4e/J6KncvUOiL9X1CgRe2eFvw2dfI10rIO/WIK4He8ggb/cLkLP0Nx7v1nwughNK3S/iHYKyvrYZb+A7aYixAlWv1fxQS3Y1lc/4N0NUABfZz/sEdaQwRRxP04ipSE3v3U/r3quV16XeT/Kd0ES53l8P0CNYOnYVn4/cBr+6TtFfz94Ot2oP0qAP3xGasBxMHs/8qPrdO4efj98D1UlR4J8Py8DSWOqHHc/CNM1oXW+ez+RjOtdUF92P8DAKdCIiXg/\",\"dtype\":\"float64\",\"shape\":[75]},\"y\":{\"__ndarray__\":\"GhExyth1ND/Sv8nbtpRIP2vylNV0PVE/aTum7souWD/At0SJ8fVgPw3Iuahxymc/MSNhhJWvcD/bTfBN02d3P2zb5nxnaoA/CD5h5MAGhz8NmeH1TyaQP+zrCsc9p5Y/LbKd76fGnz/bLW5ISEmmPww9YvTcQq8/JV2OstnstT8Er5Y7M8G+P0c+r3jqkcU/5h99k6ZBzj88bCIzFzjVP4enV8oyxN0//yH99nXg5D8qOpLLf0jtP5kqGJXUifQ/c9cS8kHP/D+/DpwzojQEQIEmwoanVwxA4lgXt9HgE0BSSZ2AJuIbQAMJih9jjiNA5q4l5INuK0AwTKYKRj0zQNv5fmq8/DpAaCJseHrtQkB/+zpwzoxKQM3MzMzMeFJAZmZmZmZqWEAAAAAAAFxeQM3MzMzMJmJAmpmZmZkfZUBmZmZmZhhoQDMzMzMzEWtAAAAAAAAKbkBmZmZmZoFwQM3MzMzM/XFAMzMzMzN6c0CamZmZmfZ0QAAAAAAAc3ZAZmZmZmbvd0DNzMzMzGt5QDMzMzMz6HpAmpmZmZlkfEAAAAAAAOF9QGZmZmZmXX9AZmZmZuZsgECamZmZGSuBQM3MzMxM6YFAAAAAAICngkAzMzMzs2WDQGZmZmbmI4RAmpmZmRnihEDNzMzMTKCFQAAAAACAXoZAMzMzM7Mch0BmZmZm5tqHQJqZmZkZmYhAzczMzExXiUAAAAAAgBWKQDMzMzOz04pAZmZmZuaRi0CamZmZGVCMQM3MzMxMDo1AAAAAAIDMjUAzMzMzs4qOQGZmZmbmSI9A\",\"dtype\":\"float64\",\"shape\":[75]}},\"selected\":{\"id\":\"525fe4c4-9d50-450c-a517-59fb67614cdb\",\"type\":\"Selection\"},\"selection_policy\":{\"id\":\"496b21a4-55ff-4ea9-b00e-6ce431aa6aff\",\"type\":\"UnionRenderers\"}},\"id\":\"bded6edb-f8ae-4d76-b0a1-97196b4413b9\",\"type\":\"ColumnDataSource\"},{\"attributes\":{},\"id\":\"aa5301db-61b7-42aa-bce7-bb03c7966f20\",\"type\":\"UnionRenderers\"},{\"attributes\":{\"active_drag\":\"auto\",\"active_inspect\":\"auto\",\"active_scroll\":\"auto\",\"active_tap\":\"auto\",\"tools\":[{\"id\":\"e130c59e-b444-4c05-b243-dd0b8c57abc7\",\"type\":\"PanTool\"},{\"id\":\"2e8b738f-f31a-4b18-acc4-f72c56eb6e51\",\"type\":\"WheelZoomTool\"},{\"id\":\"34aede0d-b11a-43b9-be00-2d2215c7d2d2\",\"type\":\"BoxZoomTool\"},{\"id\":\"d262323a-fee2-48ea-9f89-a093d9fffcaf\",\"type\":\"SaveTool\"},{\"id\":\"4fc1cbcc-fe1a-41cb-99d6-86006cae5232\",\"type\":\"ResetTool\"},{\"id\":\"c5140dba-b3e3-4133-ab38-d0c2ec3ba325\",\"type\":\"HelpTool\"}]},\"id\":\"eb65faba-c0c1-4923-8644-a5eea1718d64\",\"type\":\"Toolbar\"},{\"attributes\":{},\"id\":\"e7f0f868-fdd5-4439-84c2-27887422b7fc\",\"type\":\"BasicTickFormatter\"},{\"attributes\":{\"callback\":null,\"data\":{\"x\":{\"__ndarray__\":\"ctz0QKHDUEDjAysGblQ+QPREI+iqkzxAAjI5cYXXOUDOhNJHUNw2QHz1jgWpGzRARMR+7tbNMUCmsU6PhwEwQPQDdxknVy1Av0ZHbpxkK0BEWOiV//ApQG/Q9weMzShAf8fl+BcSKEAzAg7HkbcmQG1cargULyRAXKnA+e+8IUD10Ie+5f0fQNMJ5VcMth1Ai47eFEGhHEDbBCZTKOscQK4haR5dpx9AG96cKIoDHkCspeoq3gwXQH6SdReslhFALvOqytb4C0D7fcgYbVUGQEm/Rq6LXQFAdVFfcljW+z9/iutHgcb4P7vKguc7RvY/ZI+5xgTv8j+iDL5PvK3tP55C9IQaw+g/PBntx5495z+Ee4rMGCjkP485GahZYuA/VbBFxyCj2j/WHubyrljUPzFmT3Wgt80/xAN78sYnxz/JvMNWTkTCP3xrz9MkLrw/oGcCR9XYsz8RncSWOgOgPwLuLy/zW7C/eK8qSk2Rur8VxcFlZSyYvxsHBwiZtak/SvZPwa/itD+ysaf/dD66PygmEh4wmr4/x0U0qWY1wT/RbvpuqvTCP5e42islmMQ/N6YYdv0nxj8iERBMgp/HP7J1eQT+98g/UkeIEtkjyj833yUjSxLLPzwGu4s2uss/IZANlDsbzD+RLSkASELMP4LBa9cIRMw/bou5eVhAzD8RVGFwbF3MP15hDLDAzMw/flEaZO3TzT9dOto3hqfPPxlNXkj23dA/IMSYtCUb0T9pvt3qZpPPP4fLRVPx08o/WYK/ca/yxT/nRhyoD6HBP1BK2bYdaLY/\",\"dtype\":\"float64\",\"shape\":[75]},\"y\":{\"__ndarray__\":\"GhExyth1ND/Sv8nbtpRIP2vylNV0PVE/aTum7souWD/At0SJ8fVgPw3Iuahxymc/MSNhhJWvcD/bTfBN02d3P2zb5nxnaoA/CD5h5MAGhz8NmeH1TyaQP+zrCsc9p5Y/LbKd76fGnz/bLW5ISEmmPww9YvTcQq8/JV2OstnstT8Er5Y7M8G+P0c+r3jqkcU/5h99k6ZBzj88bCIzFzjVP4enV8oyxN0//yH99nXg5D8qOpLLf0jtP5kqGJXUifQ/c9cS8kHP/D+/DpwzojQEQIEmwoanVwxA4lgXt9HgE0BSSZ2AJuIbQAMJih9jjiNA5q4l5INuK0AwTKYKRj0zQNv5fmq8/DpAaCJseHrtQkB/+zpwzoxKQM3MzMzMeFJAZmZmZmZqWEAAAAAAAFxeQM3MzMzMJmJAmpmZmZkfZUBmZmZmZhhoQDMzMzMzEWtAAAAAAAAKbkBmZmZmZoFwQM3MzMzM/XFAMzMzMzN6c0CamZmZmfZ0QAAAAAAAc3ZAZmZmZmbvd0DNzMzMzGt5QDMzMzMz6HpAmpmZmZlkfEAAAAAAAOF9QGZmZmZmXX9AZmZmZuZsgECamZmZGSuBQM3MzMxM6YFAAAAAAICngkAzMzMzs2WDQGZmZmbmI4RAmpmZmRnihEDNzMzMTKCFQAAAAACAXoZAMzMzM7Mch0BmZmZm5tqHQJqZmZkZmYhAzczMzExXiUAAAAAAgBWKQDMzMzOz04pAZmZmZuaRi0CamZmZGVCMQM3MzMxMDo1AAAAAAIDMjUAzMzMzs4qOQGZmZmbmSI9A\",\"dtype\":\"float64\",\"shape\":[75]}},\"selected\":{\"id\":\"f0b08d81-5926-4bd6-9d4b-37e748b84949\",\"type\":\"Selection\"},\"selection_policy\":{\"id\":\"9199402e-2496-4919-9881-334503b77b37\",\"type\":\"UnionRenderers\"}},\"id\":\"cb7195ba-2335-4b90-aea4-d702f821ca0b\",\"type\":\"ColumnDataSource\"},{\"attributes\":{\"source\":{\"id\":\"5467766a-7a89-4a79-ba38-f9c5456b8ea0\",\"type\":\"ColumnDataSource\"}},\"id\":\"c987f32e-856c-4fc1-a65a-53e16532e2f3\",\"type\":\"CDSView\"},{\"attributes\":{\"fill_alpha\":{\"value\":0.7},\"fill_color\":{\"value\":\"#984ea3\"},\"line_alpha\":{\"value\":0.7},\"line_color\":{\"value\":\"#984ea3\"},\"x\":{\"field\":\"x\"},\"y\":{\"field\":\"y\"}},\"id\":\"873fc6a6-8c1d-4b53-87bd-69cb3a951d29\",\"type\":\"Circle\"},{\"attributes\":{\"tools\":[{\"id\":\"e130c59e-b444-4c05-b243-dd0b8c57abc7\",\"type\":\"PanTool\"},{\"id\":\"2e8b738f-f31a-4b18-acc4-f72c56eb6e51\",\"type\":\"WheelZoomTool\"},{\"id\":\"34aede0d-b11a-43b9-be00-2d2215c7d2d2\",\"type\":\"BoxZoomTool\"},{\"id\":\"d262323a-fee2-48ea-9f89-a093d9fffcaf\",\"type\":\"SaveTool\"},{\"id\":\"4fc1cbcc-fe1a-41cb-99d6-86006cae5232\",\"type\":\"ResetTool\"},{\"id\":\"c5140dba-b3e3-4133-ab38-d0c2ec3ba325\",\"type\":\"HelpTool\"},{\"id\":\"33111305-a800-413a-8178-4c2a28ec8eba\",\"type\":\"PanTool\"},{\"id\":\"2da90382-084b-4d81-bef4-2b9b536a70b3\",\"type\":\"WheelZoomTool\"},{\"id\":\"80c147e9-be63-46f7-96fe-5975626733fb\",\"type\":\"BoxZoomTool\"},{\"id\":\"1ba7aeee-33d5-45d6-a91c-0d756d549b73\",\"type\":\"SaveTool\"},{\"id\":\"9f553815-9b5a-4b4e-bb07-1599bc7ec1e8\",\"type\":\"ResetTool\"},{\"id\":\"9d993d8a-8b70-4b82-bbee-513f642484cb\",\"type\":\"HelpTool\"},{\"id\":\"e9aeae18-e6fb-4ebc-9194-edab6ba2a97d\",\"type\":\"PanTool\"},{\"id\":\"a5345c83-a646-4457-b004-d24978d6f058\",\"type\":\"WheelZoomTool\"},{\"id\":\"98d79e04-c583-45fa-828a-e8b3690f0185\",\"type\":\"BoxZoomTool\"},{\"id\":\"0bf08e4a-52ae-4c8c-bcfd-16a518a91691\",\"type\":\"SaveTool\"},{\"id\":\"a52dc7e4-358b-4247-8495-c2337139c9c2\",\"type\":\"ResetTool\"},{\"id\":\"d78f302a-21ee-4b09-8f4c-eab11704bac1\",\"type\":\"HelpTool\"}]},\"id\":\"ceeb46f6-1fc9-47f6-8e63-9228c322a6f8\",\"type\":\"ProxyToolbar\"},{\"attributes\":{\"plot\":null,\"text\":\"\"},\"id\":\"b59e7699-730a-4daa-9b21-e0f2adab6a18\",\"type\":\"Title\"},{\"attributes\":{\"plot\":null,\"text\":\"\"},\"id\":\"66c2d895-397a-4694-ab1a-64c08eef4797\",\"type\":\"Title\"},{\"attributes\":{},\"id\":\"442f08c3-861f-47c6-b539-6f51de832af3\",\"type\":\"LogScale\"},{\"attributes\":{},\"id\":\"1f82ace9-826e-4742-8b17-8eceb40d8f71\",\"type\":\"Selection\"},{\"attributes\":{\"above\":[{\"id\":\"c5c6847a-fe4f-4a59-bdcc-00a491e5a4e6\",\"type\":\"Legend\"}],\"below\":[{\"id\":\"d6c40871-0cc3-4ca7-a598-05cb3d3b74f5\",\"type\":\"LinearAxis\"}],\"left\":[{\"id\":\"d811585f-b6b9-49ee-9329-f3459cc351ed\",\"type\":\"LogAxis\"}],\"plot_width\":300,\"renderers\":[{\"id\":\"d6c40871-0cc3-4ca7-a598-05cb3d3b74f5\",\"type\":\"LinearAxis\"},{\"id\":\"56574d32-975e-4436-b6af-9528bd55d176\",\"type\":\"Grid\"},{\"id\":\"d811585f-b6b9-49ee-9329-f3459cc351ed\",\"type\":\"LogAxis\"},{\"id\":\"336ca655-d4e7-49de-b066-f6f7718a088d\",\"type\":\"Grid\"},{\"id\":\"ad285fbf-f1d5-4aea-a0ca-ae3679af3615\",\"type\":\"BoxAnnotation\"},{\"id\":\"623e828c-04ca-495d-8b46-8cf7451d62eb\",\"type\":\"GlyphRenderer\"},{\"id\":\"c04c229b-9628-42ea-91eb-977eb291e301\",\"type\":\"GlyphRenderer\"},{\"id\":\"c5c6847a-fe4f-4a59-bdcc-00a491e5a4e6\",\"type\":\"Legend\"}],\"title\":{\"id\":\"d1a5d837-0edb-4e21-aede-af6e61772697\",\"type\":\"Title\"},\"toolbar\":{\"id\":\"d64874c4-60f0-43be-80f7-bde6cb34bbab\",\"type\":\"Toolbar\"},\"toolbar_location\":null,\"x_range\":{\"id\":\"69389fef-68a9-4528-9413-411781d2d29f\",\"type\":\"Range1d\"},\"x_scale\":{\"id\":\"6adf3555-28c0-488a-bf2a-c5707d042901\",\"type\":\"LinearScale\"},\"y_range\":{\"id\":\"a11295ab-7c76-45f5-83e4-a5ef52d3e7db\",\"type\":\"Range1d\"},\"y_scale\":{\"id\":\"442f08c3-861f-47c6-b539-6f51de832af3\",\"type\":\"LogScale\"}},\"id\":\"3fd0fd56-8b24-4455-8d4d-9682c65c3a8b\",\"subtype\":\"Figure\",\"type\":\"Plot\"},{\"attributes\":{\"callback\":null,\"end\":0.6819122142065471,\"start\":-0.13633069955343516},\"id\":\"89f84ee3-d9b2-46a3-9afd-ca5fbb53a929\",\"type\":\"Range1d\"},{\"attributes\":{},\"id\":\"9199402e-2496-4919-9881-334503b77b37\",\"type\":\"UnionRenderers\"},{\"attributes\":{\"callback\":null,\"end\":0.01,\"start\":1020},\"id\":\"57fcfb72-95f9-4ba8-aaa4-36cc9dc34654\",\"type\":\"Range1d\"},{\"attributes\":{},\"id\":\"a8ab08fa-f667-4eaf-aa40-b2449b851642\",\"type\":\"BasicTickFormatter\"},{\"attributes\":{\"callback\":null,\"data\":{\"x\":{\"__ndarray__\":\"ctz0QKHDUEDjAysGblQ+QPREI+iqkzxAAjI5cYXXOUDOhNJHUNw2QHz1jgWpGzRARMR+7tbNMUCmsU6PhwEwQPQDdxknVy1Av0ZHbpxkK0BEWOiV//ApQG/Q9weMzShAf8fl+BcSKEAzAg7HkbcmQG1cargULyRAXKnA+e+8IUD10Ie+5f0fQNMJ5VcMth1Ai47eFEGhHEDbBCZTKOscQK4haR5dpx9AG96cKIoDHkCspeoq3gwXQH6SdReslhFALvOqytb4C0D7fcgYbVUGQEm/Rq6LXQFAdVFfcljW+z9/iutHgcb4P7vKguc7RvY/ZI+5xgTv8j+iDL5PvK3tP55C9IQaw+g/PBntx5495z+Ee4rMGCjkP485GahZYuA/VbBFxyCj2j/WHubyrljUPzFmT3Wgt80/xAN78sYnxz/JvMNWTkTCP3xrz9MkLrw/oGcCR9XYsz8RncSWOgOgPwLuLy/zW7C/eK8qSk2Rur8VxcFlZSyYvxsHBwiZtak/SvZPwa/itD+ysaf/dD66PygmEh4wmr4/x0U0qWY1wT/RbvpuqvTCP5e42islmMQ/N6YYdv0nxj8iERBMgp/HP7J1eQT+98g/UkeIEtkjyj833yUjSxLLPzwGu4s2uss/IZANlDsbzD+RLSkASELMP4LBa9cIRMw/bou5eVhAzD8RVGFwbF3MP15hDLDAzMw/flEaZO3TzT9dOto3hqfPPxlNXkj23dA/IMSYtCUb0T9pvt3qZpPPP4fLRVPx08o/WYK/ca/yxT/nRhyoD6HBP1BK2bYdaLY/\",\"dtype\":\"float64\",\"shape\":[75]},\"y\":{\"__ndarray__\":\"GhExyth1ND/Sv8nbtpRIP2vylNV0PVE/aTum7souWD/At0SJ8fVgPw3Iuahxymc/MSNhhJWvcD/bTfBN02d3P2zb5nxnaoA/CD5h5MAGhz8NmeH1TyaQP+zrCsc9p5Y/LbKd76fGnz/bLW5ISEmmPww9YvTcQq8/JV2OstnstT8Er5Y7M8G+P0c+r3jqkcU/5h99k6ZBzj88bCIzFzjVP4enV8oyxN0//yH99nXg5D8qOpLLf0jtP5kqGJXUifQ/c9cS8kHP/D+/DpwzojQEQIEmwoanVwxA4lgXt9HgE0BSSZ2AJuIbQAMJih9jjiNA5q4l5INuK0AwTKYKRj0zQNv5fmq8/DpAaCJseHrtQkB/+zpwzoxKQM3MzMzMeFJAZmZmZmZqWEAAAAAAAFxeQM3MzMzMJmJAmpmZmZkfZUBmZmZmZhhoQDMzMzMzEWtAAAAAAAAKbkBmZmZmZoFwQM3MzMzM/XFAMzMzMzN6c0CamZmZmfZ0QAAAAAAAc3ZAZmZmZmbvd0DNzMzMzGt5QDMzMzMz6HpAmpmZmZlkfEAAAAAAAOF9QGZmZmZmXX9AZmZmZuZsgECamZmZGSuBQM3MzMxM6YFAAAAAAICngkAzMzMzs2WDQGZmZmbmI4RAmpmZmRnihEDNzMzMTKCFQAAAAACAXoZAMzMzM7Mch0BmZmZm5tqHQJqZmZkZmYhAzczMzExXiUAAAAAAgBWKQDMzMzOz04pAZmZmZuaRi0CamZmZGVCMQM3MzMxMDo1AAAAAAIDMjUAzMzMzs4qOQGZmZmbmSI9A\",\"dtype\":\"float64\",\"shape\":[75]}},\"selected\":{\"id\":\"77e8bd4f-8b00-445b-b697-20d2181419a0\",\"type\":\"Selection\"},\"selection_policy\":{\"id\":\"b177143e-4384-4f6d-a704-c64c8191ccde\",\"type\":\"UnionRenderers\"}},\"id\":\"c9ba3232-e80b-4cb5-a374-25cda82517bc\",\"type\":\"ColumnDataSource\"},{\"attributes\":{},\"id\":\"bd4e35db-a981-4e13-bbe7-d6cad36ea168\",\"type\":\"Selection\"},{\"attributes\":{\"active_drag\":\"auto\",\"active_inspect\":\"auto\",\"active_scroll\":\"auto\",\"active_tap\":\"auto\",\"tools\":[{\"id\":\"33111305-a800-413a-8178-4c2a28ec8eba\",\"type\":\"PanTool\"},{\"id\":\"2da90382-084b-4d81-bef4-2b9b536a70b3\",\"type\":\"WheelZoomTool\"},{\"id\":\"80c147e9-be63-46f7-96fe-5975626733fb\",\"type\":\"BoxZoomTool\"},{\"id\":\"1ba7aeee-33d5-45d6-a91c-0d756d549b73\",\"type\":\"SaveTool\"},{\"id\":\"9f553815-9b5a-4b4e-bb07-1599bc7ec1e8\",\"type\":\"ResetTool\"},{\"id\":\"9d993d8a-8b70-4b82-bbee-513f642484cb\",\"type\":\"HelpTool\"}]},\"id\":\"ee0f7ee9-1b55-493f-a7c3-ef809e459429\",\"type\":\"Toolbar\"},{\"attributes\":{\"line_alpha\":0.6,\"line_color\":\"#e41a1c\",\"line_dash\":[6],\"line_width\":5,\"x\":{\"field\":\"x\"},\"y\":{\"field\":\"y\"}},\"id\":\"c549ea27-e337-4b3a-98ac-4a037fc86fad\",\"type\":\"Line\"},{\"attributes\":{},\"id\":\"4b656541-8f53-42ed-9e56-a5b0829372f5\",\"type\":\"UnionRenderers\"},{\"attributes\":{\"axis_label\":\"cooling rate [K/day]\",\"formatter\":{\"id\":\"4b2c860a-f1be-40b9-83f0-bcf05f745fb4\",\"type\":\"BasicTickFormatter\"},\"plot\":{\"id\":\"784a75c0-515c-412f-b2d9-aea4d9ea41ac\",\"subtype\":\"Figure\",\"type\":\"Plot\"},\"ticker\":{\"id\":\"357b7e95-8b70-4878-ae61-d5e4aa51ff81\",\"type\":\"BasicTicker\"}},\"id\":\"18bb12c7-12e6-4ac4-be6f-11571e9446df\",\"type\":\"LinearAxis\"},{\"attributes\":{\"fill_alpha\":{\"value\":0.1},\"fill_color\":{\"value\":\"#1f77b4\"},\"line_alpha\":{\"value\":0.1},\"line_color\":{\"value\":\"#1f77b4\"},\"x\":{\"field\":\"x\"},\"y\":{\"field\":\"y\"}},\"id\":\"8bd46521-87aa-4511-9172-ad536fcb958d\",\"type\":\"Circle\"},{\"attributes\":{\"line_alpha\":0.1,\"line_color\":\"#1f77b4\",\"line_dash\":[6],\"line_width\":5,\"x\":{\"field\":\"x\"},\"y\":{\"field\":\"y\"}},\"id\":\"ae6782b5-9f56-4a0b-90ac-ffd900acc049\",\"type\":\"Line\"},{\"attributes\":{\"source\":{\"id\":\"c9ba3232-e80b-4cb5-a374-25cda82517bc\",\"type\":\"ColumnDataSource\"}},\"id\":\"2c4ffcd1-d825-41b0-9043-d1ded44e628c\",\"type\":\"CDSView\"},{\"attributes\":{},\"id\":\"e9aeae18-e6fb-4ebc-9194-edab6ba2a97d\",\"type\":\"PanTool\"},{\"attributes\":{\"data_source\":{\"id\":\"43fd625f-5dbf-4cad-ac51-81088feb001c\",\"type\":\"ColumnDataSource\"},\"glyph\":{\"id\":\"2b177182-6b92-4afe-8232-050a268856c4\",\"type\":\"Line\"},\"hover_glyph\":null,\"muted_glyph\":null,\"nonselection_glyph\":{\"id\":\"ae6782b5-9f56-4a0b-90ac-ffd900acc049\",\"type\":\"Line\"},\"selection_glyph\":null,\"view\":{\"id\":\"c74a731c-a209-4f79-98b2-e7390bdc79c2\",\"type\":\"CDSView\"}},\"id\":\"0c9023e5-a625-47f5-8e74-8ca0bae4d25d\",\"type\":\"GlyphRenderer\"},{\"attributes\":{},\"id\":\"3a57f997-023f-49be-acff-2e94176bc166\",\"type\":\"LinearScale\"},{\"attributes\":{\"source\":{\"id\":\"b9fc1cfe-42fa-45ce-b1d3-6cbe1299a203\",\"type\":\"ColumnDataSource\"}},\"id\":\"17a56242-0d42-4996-a196-235352d06ee6\",\"type\":\"CDSView\"},{\"attributes\":{},\"id\":\"a52dc7e4-358b-4247-8495-c2337139c9c2\",\"type\":\"ResetTool\"},{\"attributes\":{\"line_alpha\":0.1,\"line_color\":\"#1f77b4\",\"line_width\":1.5,\"x\":{\"field\":\"x\"},\"y\":{\"field\":\"y\"}},\"id\":\"2a3ae8d0-44ae-44a5-bc95-b7211c820a3e\",\"type\":\"Line\"},{\"attributes\":{\"source\":{\"id\":\"43fd625f-5dbf-4cad-ac51-81088feb001c\",\"type\":\"ColumnDataSource\"}},\"id\":\"c74a731c-a209-4f79-98b2-e7390bdc79c2\",\"type\":\"CDSView\"},{\"attributes\":{},\"id\":\"4aded6d7-b835-4d35-8f62-1aedb7bcd905\",\"type\":\"BasicTicker\"},{\"attributes\":{\"overlay\":{\"id\":\"9d0fbcb4-5b88-4e5c-819f-6841a0574f75\",\"type\":\"BoxAnnotation\"}},\"id\":\"80c147e9-be63-46f7-96fe-5975626733fb\",\"type\":\"BoxZoomTool\"},{\"attributes\":{},\"id\":\"e130c59e-b444-4c05-b243-dd0b8c57abc7\",\"type\":\"PanTool\"},{\"attributes\":{\"callback\":null,\"end\":13.832043936480597,\"start\":0.007171569659400023},\"id\":\"f02b6b68-2daf-4ce0-b4c9-9921a93a1b52\",\"type\":\"Range1d\"},{\"attributes\":{\"bottom_units\":\"screen\",\"fill_alpha\":{\"value\":0.5},\"fill_color\":{\"value\":\"lightgrey\"},\"left_units\":\"screen\",\"level\":\"overlay\",\"line_alpha\":{\"value\":1.0},\"line_color\":{\"value\":\"black\"},\"line_dash\":[4,4],\"line_width\":{\"value\":2},\"plot\":null,\"render_mode\":\"css\",\"right_units\":\"screen\",\"top_units\":\"screen\"},\"id\":\"8601365c-cf98-4009-8e84-881e3927b8f1\",\"type\":\"BoxAnnotation\"},{\"attributes\":{\"num_minor_ticks\":10},\"id\":\"5d1c44ee-a2d2-47a3-8d3d-81d044799471\",\"type\":\"LogTicker\"},{\"attributes\":{},\"id\":\"75de19d7-2e0c-45e6-89ec-cb3d81cee4f0\",\"type\":\"BasicTicker\"},{\"attributes\":{\"callback\":null,\"data\":{\"x\":{\"__ndarray__\":\"ctz0QKHDUEDjAysGblQ+QPREI+iqkzxAAjI5cYXXOUDOhNJHUNw2QHz1jgWpGzRARMR+7tbNMUCmsU6PhwEwQPQDdxknVy1Av0ZHbpxkK0BEWOiV//ApQG/Q9weMzShAf8fl+BcSKEAzAg7HkbcmQG1cargULyRAXKnA+e+8IUD10Ie+5f0fQNMJ5VcMth1Ai47eFEGhHEDbBCZTKOscQK4haR5dpx9AG96cKIoDHkCspeoq3gwXQH6SdReslhFALvOqytb4C0D7fcgYbVUGQEm/Rq6LXQFAdVFfcljW+z9/iutHgcb4P7vKguc7RvY/ZI+5xgTv8j+iDL5PvK3tP55C9IQaw+g/PBntx5495z+Ee4rMGCjkP485GahZYuA/VbBFxyCj2j/WHubyrljUPzFmT3Wgt80/xAN78sYnxz/JvMNWTkTCP3xrz9MkLrw/oGcCR9XYsz8RncSWOgOgPwLuLy/zW7C/eK8qSk2Rur8VxcFlZSyYvxsHBwiZtak/SvZPwa/itD+ysaf/dD66PygmEh4wmr4/x0U0qWY1wT/RbvpuqvTCP5e42islmMQ/N6YYdv0nxj8iERBMgp/HP7J1eQT+98g/UkeIEtkjyj833yUjSxLLPzwGu4s2uss/IZANlDsbzD+RLSkASELMP4LBa9cIRMw/bou5eVhAzD8RVGFwbF3MP15hDLDAzMw/flEaZO3TzT9dOto3hqfPPxlNXkj23dA/IMSYtCUb0T9pvt3qZpPPP4fLRVPx08o/WYK/ca/yxT/nRhyoD6HBP1BK2bYdaLY/\",\"dtype\":\"float64\",\"shape\":[75]},\"y\":{\"__ndarray__\":\"GhExyth1ND/Sv8nbtpRIP2vylNV0PVE/aTum7souWD/At0SJ8fVgPw3Iuahxymc/MSNhhJWvcD/bTfBN02d3P2zb5nxnaoA/CD5h5MAGhz8NmeH1TyaQP+zrCsc9p5Y/LbKd76fGnz/bLW5ISEmmPww9YvTcQq8/JV2OstnstT8Er5Y7M8G+P0c+r3jqkcU/5h99k6ZBzj88bCIzFzjVP4enV8oyxN0//yH99nXg5D8qOpLLf0jtP5kqGJXUifQ/c9cS8kHP/D+/DpwzojQEQIEmwoanVwxA4lgXt9HgE0BSSZ2AJuIbQAMJih9jjiNA5q4l5INuK0AwTKYKRj0zQNv5fmq8/DpAaCJseHrtQkB/+zpwzoxKQM3MzMzMeFJAZmZmZmZqWEAAAAAAAFxeQM3MzMzMJmJAmpmZmZkfZUBmZmZmZhhoQDMzMzMzEWtAAAAAAAAKbkBmZmZmZoFwQM3MzMzM/XFAMzMzMzN6c0CamZmZmfZ0QAAAAAAAc3ZAZmZmZmbvd0DNzMzMzGt5QDMzMzMz6HpAmpmZmZlkfEAAAAAAAOF9QGZmZmZmXX9AZmZmZuZsgECamZmZGSuBQM3MzMxM6YFAAAAAAICngkAzMzMzs2WDQGZmZmbmI4RAmpmZmRnihEDNzMzMTKCFQAAAAACAXoZAMzMzM7Mch0BmZmZm5tqHQJqZmZkZmYhAzczMzExXiUAAAAAAgBWKQDMzMzOz04pAZmZmZuaRi0CamZmZGVCMQM3MzMxMDo1AAAAAAIDMjUAzMzMzs4qOQGZmZmbmSI9A\",\"dtype\":\"float64\",\"shape\":[75]}},\"selected\":{\"id\":\"e6c77110-c750-4a53-8cf4-341372d9b268\",\"type\":\"Selection\"},\"selection_policy\":{\"id\":\"a781cd78-c01e-4280-87c6-69e2aa240796\",\"type\":\"UnionRenderers\"}},\"id\":\"b9fc1cfe-42fa-45ce-b1d3-6cbe1299a203\",\"type\":\"ColumnDataSource\"},{\"attributes\":{\"dimension\":1,\"plot\":{\"id\":\"ada720cc-a68b-43b0-b8db-01dd57dcd1d9\",\"subtype\":\"Figure\",\"type\":\"Plot\"},\"ticker\":{\"id\":\"4aded6d7-b835-4d35-8f62-1aedb7bcd905\",\"type\":\"BasicTicker\"}},\"id\":\"b29f4f9d-3538-4626-a571-ef354acd1ae4\",\"type\":\"Grid\"},{\"attributes\":{},\"id\":\"d95c30a6-635b-4777-aca6-334fdba3fa34\",\"type\":\"LogScale\"},{\"attributes\":{},\"id\":\"2e8b738f-f31a-4b18-acc4-f72c56eb6e51\",\"type\":\"WheelZoomTool\"},{\"attributes\":{\"line_alpha\":0.1,\"line_color\":\"#1f77b4\",\"line_width\":1.5,\"x\":{\"field\":\"x\"},\"y\":{\"field\":\"y\"}},\"id\":\"28e866b0-216d-43ee-bbed-0b6db3affee7\",\"type\":\"Line\"},{\"attributes\":{},\"id\":\"c5140dba-b3e3-4133-ab38-d0c2ec3ba325\",\"type\":\"HelpTool\"},{\"attributes\":{\"plot\":{\"id\":\"784a75c0-515c-412f-b2d9-aea4d9ea41ac\",\"subtype\":\"Figure\",\"type\":\"Plot\"},\"ticker\":{\"id\":\"357b7e95-8b70-4878-ae61-d5e4aa51ff81\",\"type\":\"BasicTicker\"}},\"id\":\"3cb46ea1-8d62-4193-8849-ab3422f19a0f\",\"type\":\"Grid\"},{\"attributes\":{},\"id\":\"4fc1cbcc-fe1a-41cb-99d6-86006cae5232\",\"type\":\"ResetTool\"},{\"attributes\":{\"fill_alpha\":{\"value\":0.7},\"fill_color\":{\"value\":\"#4daf4a\"},\"line_alpha\":{\"value\":0.7},\"line_color\":{\"value\":\"#4daf4a\"},\"x\":{\"field\":\"x\"},\"y\":{\"field\":\"y\"}},\"id\":\"66e66a22-deac-4e9a-8fca-8c7baf491eb7\",\"type\":\"Circle\"},{\"attributes\":{\"axis_label\":\"pressure [mb]\",\"formatter\":{\"id\":\"e7f0f868-fdd5-4439-84c2-27887422b7fc\",\"type\":\"BasicTickFormatter\"},\"plot\":{\"id\":\"ada720cc-a68b-43b0-b8db-01dd57dcd1d9\",\"subtype\":\"Figure\",\"type\":\"Plot\"},\"ticker\":{\"id\":\"4aded6d7-b835-4d35-8f62-1aedb7bcd905\",\"type\":\"BasicTicker\"}},\"id\":\"f941c43e-430d-42b7-b653-c405d87d63ec\",\"type\":\"LinearAxis\"},{\"attributes\":{\"label\":{\"value\":\"CRD\"},\"renderers\":[{\"id\":\"b7541b72-e006-4dc9-9404-e8c95fe1157e\",\"type\":\"GlyphRenderer\"},{\"id\":\"db6b4b78-203c-4ca6-be81-a544cdfe2fc8\",\"type\":\"GlyphRenderer\"}]},\"id\":\"06f9804e-cb8d-4b91-97dd-a7a35a0fbfb7\",\"type\":\"LegendItem\"},{\"attributes\":{\"overlay\":{\"id\":\"ad285fbf-f1d5-4aea-a0ca-ae3679af3615\",\"type\":\"BoxAnnotation\"}},\"id\":\"98d79e04-c583-45fa-828a-e8b3690f0185\",\"type\":\"BoxZoomTool\"},{\"attributes\":{\"active_drag\":\"auto\",\"active_inspect\":\"auto\",\"active_scroll\":\"auto\",\"active_tap\":\"auto\",\"tools\":[{\"id\":\"e9aeae18-e6fb-4ebc-9194-edab6ba2a97d\",\"type\":\"PanTool\"},{\"id\":\"a5345c83-a646-4457-b004-d24978d6f058\",\"type\":\"WheelZoomTool\"},{\"id\":\"98d79e04-c583-45fa-828a-e8b3690f0185\",\"type\":\"BoxZoomTool\"},{\"id\":\"0bf08e4a-52ae-4c8c-bcfd-16a518a91691\",\"type\":\"SaveTool\"},{\"id\":\"a52dc7e4-358b-4247-8495-c2337139c9c2\",\"type\":\"ResetTool\"},{\"id\":\"d78f302a-21ee-4b09-8f4c-eab11704bac1\",\"type\":\"HelpTool\"}]},\"id\":\"d64874c4-60f0-43be-80f7-bde6cb34bbab\",\"type\":\"Toolbar\"},{\"attributes\":{},\"id\":\"33111305-a800-413a-8178-4c2a28ec8eba\",\"type\":\"PanTool\"},{\"attributes\":{\"bottom_units\":\"screen\",\"fill_alpha\":{\"value\":0.5},\"fill_color\":{\"value\":\"lightgrey\"},\"left_units\":\"screen\",\"level\":\"overlay\",\"line_alpha\":{\"value\":1.0},\"line_color\":{\"value\":\"black\"},\"line_dash\":[4,4],\"line_width\":{\"value\":2},\"plot\":null,\"render_mode\":\"css\",\"right_units\":\"screen\",\"top_units\":\"screen\"},\"id\":\"ad285fbf-f1d5-4aea-a0ca-ae3679af3615\",\"type\":\"BoxAnnotation\"},{\"attributes\":{\"dimension\":1,\"plot\":{\"id\":\"784a75c0-515c-412f-b2d9-aea4d9ea41ac\",\"subtype\":\"Figure\",\"type\":\"Plot\"},\"ticker\":{\"id\":\"0f0c90a7-b5fc-488c-8e76-8293bfd2edfd\",\"type\":\"LogTicker\"}},\"id\":\"30113514-94ad-484a-9b33-f7bd9654a3b0\",\"type\":\"Grid\"},{\"attributes\":{\"callback\":null,\"data\":{\"x\":{\"__ndarray__\":\"sh1Q8iBxRkBA5ae5qAdAQIU/Cb2zLz9ArRtaDeukPEA+fAs2rL04QCI8jwRMUzRArMEF/YaBMECr04sq7EEsQC0TEP9EKSpArptvZWpZKUBtcg2Nd5koQPiAfVr3gidAZavzAviPJkDFT1tcwGYlQIiMXyPMyCNANVdSMyCCIkBlwP93wXkhQAuvRcJDPyBAjmUaeu3jHUAOe3Wd6EocQOy+84+1zR1AWZaCHJ9uHEDBeyJ8qZEWQMbrKX7zlBFASopEIXJJC0C1JFBU6jAFQLfApoXOgQFAJJEMLxBN/j+9FQklvfn6P49E1Q5QZvc/yvA8yj3X8z+ykKMTlrDtPz8wp8eOyOc/4IK4HqDn5z+6Nps7gpDlP3+tNAyUeOA/nfLM6Frx2T8xyy8bX2XVP7qIsngzVdE/4X1yoBSqzD8SYOcsZqTGP9FlRtYNr8A/Vk+qMRkdtT+hrJMxy4OXP/bC8LkfPbW/WXwOeWtswL9HopUDsNCov/LhVpwY+Z0/Oi4pOi6psD+YLB2bdNS2P8l6KoUxobs/in6GqO5ovz/O5EvAMp7BP94PfuVdXcM/c/nphu4VxT9wMn/Im8DGP5cOXp+jVsg/41fKKnXMyT/BmkyeN+bKP6zqlD/k6cs/m3WVmLd4zD8ccqsP7srMPx7/F5MC8sw/Ppi/bhMNzT9boAOrO0HNP/fueHl3v80/uhdERhfOzj8JSpYbFVbQPw6LExO4StE/VZH7cqGT0T+qDdyVvDvQPyYVyarWjMs/XdDGIKPQxj8ARo0rClTCP7uHuzq28Lc/\",\"dtype\":\"float64\",\"shape\":[75]},\"y\":{\"__ndarray__\":\"GhExyth1ND/Sv8nbtpRIP2vylNV0PVE/aTum7souWD/At0SJ8fVgPw3Iuahxymc/MSNhhJWvcD/bTfBN02d3P2zb5nxnaoA/CD5h5MAGhz8NmeH1TyaQP+zrCsc9p5Y/LbKd76fGnz/bLW5ISEmmPww9YvTcQq8/JV2OstnstT8Er5Y7M8G+P0c+r3jqkcU/5h99k6ZBzj88bCIzFzjVP4enV8oyxN0//yH99nXg5D8qOpLLf0jtP5kqGJXUifQ/c9cS8kHP/D+/DpwzojQEQIEmwoanVwxA4lgXt9HgE0BSSZ2AJuIbQAMJih9jjiNA5q4l5INuK0AwTKYKRj0zQNv5fmq8/DpAaCJseHrtQkB/+zpwzoxKQM3MzMzMeFJAZmZmZmZqWEAAAAAAAFxeQM3MzMzMJmJAmpmZmZkfZUBmZmZmZhhoQDMzMzMzEWtAAAAAAAAKbkBmZmZmZoFwQM3MzMzM/XFAMzMzMzN6c0CamZmZmfZ0QAAAAAAAc3ZAZmZmZmbvd0DNzMzMzGt5QDMzMzMz6HpAmpmZmZlkfEAAAAAAAOF9QGZmZmZmXX9AZmZmZuZsgECamZmZGSuBQM3MzMxM6YFAAAAAAICngkAzMzMzs2WDQGZmZmbmI4RAmpmZmRnihEDNzMzMTKCFQAAAAACAXoZAMzMzM7Mch0BmZmZm5tqHQJqZmZkZmYhAzczMzExXiUAAAAAAgBWKQDMzMzOz04pAZmZmZuaRi0CamZmZGVCMQM3MzMxMDo1AAAAAAIDMjUAzMzMzs4qOQGZmZmbmSI9A\",\"dtype\":\"float64\",\"shape\":[75]}},\"selected\":{\"id\":\"bd4e35db-a981-4e13-bbe7-d6cad36ea168\",\"type\":\"Selection\"},\"selection_policy\":{\"id\":\"4b656541-8f53-42ed-9e56-a5b0829372f5\",\"type\":\"UnionRenderers\"}},\"id\":\"43fd625f-5dbf-4cad-ac51-81088feb001c\",\"type\":\"ColumnDataSource\"},{\"attributes\":{\"above\":[{\"id\":\"fcfa0137-7886-4d2b-bae5-c1b529d7d64e\",\"type\":\"Legend\"}],\"below\":[{\"id\":\"18bb12c7-12e6-4ac4-be6f-11571e9446df\",\"type\":\"LinearAxis\"}],\"left\":[{\"id\":\"670e9e38-818b-4d8b-8560-6f4f341bf05b\",\"type\":\"LogAxis\"}],\"plot_width\":300,\"renderers\":[{\"id\":\"18bb12c7-12e6-4ac4-be6f-11571e9446df\",\"type\":\"LinearAxis\"},{\"id\":\"3cb46ea1-8d62-4193-8849-ab3422f19a0f\",\"type\":\"Grid\"},{\"id\":\"670e9e38-818b-4d8b-8560-6f4f341bf05b\",\"type\":\"LogAxis\"},{\"id\":\"30113514-94ad-484a-9b33-f7bd9654a3b0\",\"type\":\"Grid\"},{\"id\":\"9d0fbcb4-5b88-4e5c-819f-6841a0574f75\",\"type\":\"BoxAnnotation\"},{\"id\":\"0c9023e5-a625-47f5-8e74-8ca0bae4d25d\",\"type\":\"GlyphRenderer\"},{\"id\":\"c2a0c9a2-bf5e-4799-831e-e78fc6c15fdc\",\"type\":\"GlyphRenderer\"},{\"id\":\"5f94158b-f37d-4385-a6c9-089bdba0cf6b\",\"type\":\"GlyphRenderer\"},{\"id\":\"fcfa0137-7886-4d2b-bae5-c1b529d7d64e\",\"type\":\"Legend\"}],\"title\":{\"id\":\"b59e7699-730a-4daa-9b21-e0f2adab6a18\",\"type\":\"Title\"},\"toolbar\":{\"id\":\"ee0f7ee9-1b55-493f-a7c3-ef809e459429\",\"type\":\"Toolbar\"},\"toolbar_location\":null,\"x_range\":{\"id\":\"f02b6b68-2daf-4ce0-b4c9-9921a93a1b52\",\"type\":\"Range1d\"},\"x_scale\":{\"id\":\"3a57f997-023f-49be-acff-2e94176bc166\",\"type\":\"LinearScale\"},\"y_range\":{\"id\":\"2ff637c1-35ff-4613-aca1-7e05b8c0280f\",\"type\":\"Range1d\"},\"y_scale\":{\"id\":\"d95c30a6-635b-4777-aca6-334fdba3fa34\",\"type\":\"LogScale\"}},\"id\":\"784a75c0-515c-412f-b2d9-aea4d9ea41ac\",\"subtype\":\"Figure\",\"type\":\"Plot\"},{\"attributes\":{\"label\":{\"value\":\"CLIRAD\"},\"renderers\":[{\"id\":\"030b2432-1f0f-4df3-992c-4404920a1674\",\"type\":\"GlyphRenderer\"}]},\"id\":\"d596822d-66f7-4ad3-b0f9-9a0e01ef0905\",\"type\":\"LegendItem\"},{\"attributes\":{\"line_color\":\"#4daf4a\",\"line_width\":1.5,\"x\":{\"field\":\"x\"},\"y\":{\"field\":\"y\"}},\"id\":\"2c8d6b9a-d2c8-4343-956d-34f6b598db5e\",\"type\":\"Line\"},{\"attributes\":{\"source\":{\"id\":\"3c8fecb0-55f5-4b41-84d2-d2aee1b3a4eb\",\"type\":\"ColumnDataSource\"}},\"id\":\"44e26a11-f580-4484-91c3-6b16d6a0f2de\",\"type\":\"CDSView\"},{\"attributes\":{\"plot\":{\"id\":\"ada720cc-a68b-43b0-b8db-01dd57dcd1d9\",\"subtype\":\"Figure\",\"type\":\"Plot\"},\"ticker\":{\"id\":\"75de19d7-2e0c-45e6-89ec-cb3d81cee4f0\",\"type\":\"BasicTicker\"}},\"id\":\"17725160-734c-4e93-945b-cac6ea320fb2\",\"type\":\"Grid\"},{\"attributes\":{\"num_minor_ticks\":10},\"id\":\"0f0c90a7-b5fc-488c-8e76-8293bfd2edfd\",\"type\":\"LogTicker\"},{\"attributes\":{},\"id\":\"a5345c83-a646-4457-b004-d24978d6f058\",\"type\":\"WheelZoomTool\"},{\"attributes\":{},\"id\":\"2da90382-084b-4d81-bef4-2b9b536a70b3\",\"type\":\"WheelZoomTool\"},{\"attributes\":{},\"id\":\"0bf08e4a-52ae-4c8c-bcfd-16a518a91691\",\"type\":\"SaveTool\"},{\"attributes\":{},\"id\":\"357b7e95-8b70-4878-ae61-d5e4aa51ff81\",\"type\":\"BasicTicker\"},{\"attributes\":{\"data_source\":{\"id\":\"c9ba3232-e80b-4cb5-a374-25cda82517bc\",\"type\":\"ColumnDataSource\"},\"glyph\":{\"id\":\"2c8d6b9a-d2c8-4343-956d-34f6b598db5e\",\"type\":\"Line\"},\"hover_glyph\":null,\"muted_glyph\":null,\"nonselection_glyph\":{\"id\":\"2a3ae8d0-44ae-44a5-bc95-b7211c820a3e\",\"type\":\"Line\"},\"selection_glyph\":null,\"view\":{\"id\":\"2c4ffcd1-d825-41b0-9043-d1ded44e628c\",\"type\":\"CDSView\"}},\"id\":\"5f94158b-f37d-4385-a6c9-089bdba0cf6b\",\"type\":\"GlyphRenderer\"},{\"attributes\":{\"axis_label\":\"pressure [mb]\",\"formatter\":{\"id\":\"76faaa06-6eb1-44fd-950a-478e39facdbf\",\"type\":\"LogTickFormatter\"},\"plot\":{\"id\":\"784a75c0-515c-412f-b2d9-aea4d9ea41ac\",\"subtype\":\"Figure\",\"type\":\"Plot\"},\"ticker\":{\"id\":\"0f0c90a7-b5fc-488c-8e76-8293bfd2edfd\",\"type\":\"LogTicker\"}},\"id\":\"670e9e38-818b-4d8b-8560-6f4f341bf05b\",\"type\":\"LogAxis\"},{\"attributes\":{\"data_source\":{\"id\":\"b9fc1cfe-42fa-45ce-b1d3-6cbe1299a203\",\"type\":\"ColumnDataSource\"},\"glyph\":{\"id\":\"66e66a22-deac-4e9a-8fca-8c7baf491eb7\",\"type\":\"Circle\"},\"hover_glyph\":null,\"muted_glyph\":null,\"nonselection_glyph\":{\"id\":\"8bd46521-87aa-4511-9172-ad536fcb958d\",\"type\":\"Circle\"},\"selection_glyph\":null,\"view\":{\"id\":\"17a56242-0d42-4996-a196-235352d06ee6\",\"type\":\"CDSView\"}},\"id\":\"c2a0c9a2-bf5e-4799-831e-e78fc6c15fdc\",\"type\":\"GlyphRenderer\"},{\"attributes\":{\"axis_label\":\"cooling rate [K/day]\",\"formatter\":{\"id\":\"a1c0ec1f-2b06-45ac-84c3-2e186d95d5c5\",\"type\":\"BasicTickFormatter\"},\"plot\":{\"id\":\"ada720cc-a68b-43b0-b8db-01dd57dcd1d9\",\"subtype\":\"Figure\",\"type\":\"Plot\"},\"ticker\":{\"id\":\"75de19d7-2e0c-45e6-89ec-cb3d81cee4f0\",\"type\":\"BasicTicker\"}},\"id\":\"30a991c7-92ad-42e1-8c93-a907acc16838\",\"type\":\"LinearAxis\"},{\"attributes\":{\"axis_label\":\"pressure [mb]\",\"formatter\":{\"id\":\"95f9db23-e723-4ebe-b4a3-1670ac1ae2cc\",\"type\":\"LogTickFormatter\"},\"plot\":{\"id\":\"3fd0fd56-8b24-4455-8d4d-9682c65c3a8b\",\"subtype\":\"Figure\",\"type\":\"Plot\"},\"ticker\":{\"id\":\"5d1c44ee-a2d2-47a3-8d3d-81d044799471\",\"type\":\"LogTicker\"}},\"id\":\"d811585f-b6b9-49ee-9329-f3459cc351ed\",\"type\":\"LogAxis\"},{\"attributes\":{},\"id\":\"d262323a-fee2-48ea-9f89-a093d9fffcaf\",\"type\":\"SaveTool\"},{\"attributes\":{\"items\":[{\"id\":\"1fa29b3b-3332-4dc8-8331-0cb0f5f754bc\",\"type\":\"LegendItem\"},{\"id\":\"c67cde17-11ed-41ba-b0ba-05aa15ee5303\",\"type\":\"LegendItem\"}],\"label_text_font_size\":{\"value\":\"8pt\"},\"location\":\"top_center\",\"orientation\":\"horizontal\",\"plot\":{\"id\":\"784a75c0-515c-412f-b2d9-aea4d9ea41ac\",\"subtype\":\"Figure\",\"type\":\"Plot\"}},\"id\":\"fcfa0137-7886-4d2b-bae5-c1b529d7d64e\",\"type\":\"Legend\"},{\"attributes\":{\"axis_label\":\"cooling rate [K/day]\",\"formatter\":{\"id\":\"a8ab08fa-f667-4eaf-aa40-b2449b851642\",\"type\":\"BasicTickFormatter\"},\"plot\":{\"id\":\"3fd0fd56-8b24-4455-8d4d-9682c65c3a8b\",\"subtype\":\"Figure\",\"type\":\"Plot\"},\"ticker\":{\"id\":\"f6c2655b-df04-4b69-ac05-4161d4a8121b\",\"type\":\"BasicTicker\"}},\"id\":\"d6c40871-0cc3-4ca7-a598-05cb3d3b74f5\",\"type\":\"LinearAxis\"},{\"attributes\":{},\"id\":\"d78f302a-21ee-4b09-8f4c-eab11704bac1\",\"type\":\"HelpTool\"},{\"attributes\":{\"overlay\":{\"id\":\"8601365c-cf98-4009-8e84-881e3927b8f1\",\"type\":\"BoxAnnotation\"}},\"id\":\"34aede0d-b11a-43b9-be00-2d2215c7d2d2\",\"type\":\"BoxZoomTool\"},{\"attributes\":{\"callback\":null,\"data\":{\"x\":{\"__ndarray__\":\"sh1Q8iBxRkBA5ae5qAdAQIU/Cb2zLz9ArRtaDeukPEA+fAs2rL04QCI8jwRMUzRArMEF/YaBMECr04sq7EEsQC0TEP9EKSpArptvZWpZKUBtcg2Nd5koQPiAfVr3gidAZavzAviPJkDFT1tcwGYlQIiMXyPMyCNANVdSMyCCIkBlwP93wXkhQAuvRcJDPyBAjmUaeu3jHUAOe3Wd6EocQOy+84+1zR1AWZaCHJ9uHEDBeyJ8qZEWQMbrKX7zlBFASopEIXJJC0C1JFBU6jAFQLfApoXOgQFAJJEMLxBN/j+9FQklvfn6P49E1Q5QZvc/yvA8yj3X8z+ykKMTlrDtPz8wp8eOyOc/4IK4HqDn5z+6Nps7gpDlP3+tNAyUeOA/nfLM6Frx2T8xyy8bX2XVP7qIsngzVdE/4X1yoBSqzD8SYOcsZqTGP9FlRtYNr8A/Vk+qMRkdtT+hrJMxy4OXP/bC8LkfPbW/WXwOeWtswL9HopUDsNCov/LhVpwY+Z0/Oi4pOi6psD+YLB2bdNS2P8l6KoUxobs/in6GqO5ovz/O5EvAMp7BP94PfuVdXcM/c/nphu4VxT9wMn/Im8DGP5cOXp+jVsg/41fKKnXMyT/BmkyeN+bKP6zqlD/k6cs/m3WVmLd4zD8ccqsP7srMPx7/F5MC8sw/Ppi/bhMNzT9boAOrO0HNP/fueHl3v80/uhdERhfOzj8JSpYbFVbQPw6LExO4StE/VZH7cqGT0T+qDdyVvDvQPyYVyarWjMs/XdDGIKPQxj8ARo0rClTCP7uHuzq28Lc/\",\"dtype\":\"float64\",\"shape\":[75]},\"y\":{\"__ndarray__\":\"GhExyth1ND/Sv8nbtpRIP2vylNV0PVE/aTum7souWD/At0SJ8fVgPw3Iuahxymc/MSNhhJWvcD/bTfBN02d3P2zb5nxnaoA/CD5h5MAGhz8NmeH1TyaQP+zrCsc9p5Y/LbKd76fGnz/bLW5ISEmmPww9YvTcQq8/JV2OstnstT8Er5Y7M8G+P0c+r3jqkcU/5h99k6ZBzj88bCIzFzjVP4enV8oyxN0//yH99nXg5D8qOpLLf0jtP5kqGJXUifQ/c9cS8kHP/D+/DpwzojQEQIEmwoanVwxA4lgXt9HgE0BSSZ2AJuIbQAMJih9jjiNA5q4l5INuK0AwTKYKRj0zQNv5fmq8/DpAaCJseHrtQkB/+zpwzoxKQM3MzMzMeFJAZmZmZmZqWEAAAAAAAFxeQM3MzMzMJmJAmpmZmZkfZUBmZmZmZhhoQDMzMzMzEWtAAAAAAAAKbkBmZmZmZoFwQM3MzMzM/XFAMzMzMzN6c0CamZmZmfZ0QAAAAAAAc3ZAZmZmZmbvd0DNzMzMzGt5QDMzMzMz6HpAmpmZmZlkfEAAAAAAAOF9QGZmZmZmXX9AZmZmZuZsgECamZmZGSuBQM3MzMxM6YFAAAAAAICngkAzMzMzs2WDQGZmZmbmI4RAmpmZmRnihEDNzMzMTKCFQAAAAACAXoZAMzMzM7Mch0BmZmZm5tqHQJqZmZkZmYhAzczMzExXiUAAAAAAgBWKQDMzMzOz04pAZmZmZuaRi0CamZmZGVCMQM3MzMxMDo1AAAAAAIDMjUAzMzMzs4qOQGZmZmbmSI9A\",\"dtype\":\"float64\",\"shape\":[75]}},\"selected\":{\"id\":\"46fea625-0960-436f-9b5c-4e280d63421f\",\"type\":\"Selection\"},\"selection_policy\":{\"id\":\"ad9dd20c-fc9b-4e9e-80d8-5ca7b1e59256\",\"type\":\"UnionRenderers\"}},\"id\":\"5467766a-7a89-4a79-ba38-f9c5456b8ea0\",\"type\":\"ColumnDataSource\"},{\"attributes\":{\"line_alpha\":0.1,\"line_color\":\"#1f77b4\",\"line_dash\":[6],\"line_width\":5,\"x\":{\"field\":\"x\"},\"y\":{\"field\":\"y\"}},\"id\":\"9b6b2463-5148-4ac5-ae71-e635fba4818d\",\"type\":\"Line\"},{\"attributes\":{\"label\":{\"value\":\"CRD\"},\"renderers\":[{\"id\":\"c2a0c9a2-bf5e-4799-831e-e78fc6c15fdc\",\"type\":\"GlyphRenderer\"},{\"id\":\"5f94158b-f37d-4385-a6c9-089bdba0cf6b\",\"type\":\"GlyphRenderer\"}]},\"id\":\"c67cde17-11ed-41ba-b0ba-05aa15ee5303\",\"type\":\"LegendItem\"}],\"root_ids\":[\"29653734-ca50-4d22-8b12-12da93ccb9b9\"]},\"title\":\"Bokeh Application\",\"version\":\"0.12.16\"}};\n",
       "  var render_items = [{\"docid\":\"5263c9c5-1ea3-4b2d-826e-ad6e4f0b6148\",\"elementid\":\"1578801f-e33c-4f0b-8179-d5b0a18b05a6\",\"modelid\":\"29653734-ca50-4d22-8b12-12da93ccb9b9\"}];\n",
       "  root.Bokeh.embed.embed_items_notebook(docs_json, render_items);\n",
       "\n",
       "  }\n",
       "  if (root.Bokeh !== undefined) {\n",
       "    embed_document(root);\n",
       "  } else {\n",
       "    var attempts = 0;\n",
       "    var timer = setInterval(function(root) {\n",
       "      if (root.Bokeh !== undefined) {\n",
       "        embed_document(root);\n",
       "        clearInterval(timer);\n",
       "      }\n",
       "      attempts++;\n",
       "      if (attempts > 100) {\n",
       "        console.log(\"Bokeh: ERROR: Unable to run BokehJS code because BokehJS library is missing\")\n",
       "        clearInterval(timer);\n",
       "      }\n",
       "    }, 10, root)\n",
       "  }\n",
       "})(window);"
      ],
      "application/vnd.bokehjs_exec.v0+json": ""
     },
     "metadata": {
      "application/vnd.bokehjs_exec.v0+json": {
       "id": "29653734-ca50-4d22-8b12-12da93ccb9b9"
      }
     },
     "output_type": "display_data"
    },
    {
     "data": {
      "text/markdown": [
       "*FIGURE.* Cooling rates & difference."
      ],
      "text/plain": [
       "<IPython.core.display.Markdown object>"
      ]
     },
     "metadata": {},
     "output_type": "display_data"
    },
    {
     "data": {
      "text/html": [
       "<a id=\"Fluxes._saw.\"></a>"
      ],
      "text/plain": [
       "<IPython.core.display.HTML object>"
      ]
     },
     "metadata": {},
     "output_type": "display_data"
    },
    {
     "data": {
      "text/markdown": [
       "# Fluxes. saw."
      ],
      "text/plain": [
       "<IPython.core.display.Markdown object>"
      ]
     },
     "metadata": {},
     "output_type": "display_data"
    },
    {
     "data": {
      "text/html": [
       "\n",
       "<div class=\"bk-root\">\n",
       "    <div class=\"bk-plotdiv\" id=\"33b924cf-87f3-45c4-bf06-5a83b210f4e5\"></div>\n",
       "</div>"
      ]
     },
     "metadata": {},
     "output_type": "display_data"
    },
    {
     "data": {
      "application/javascript": [
       "(function(root) {\n",
       "  function embed_document(root) {\n",
       "    \n",
       "  var docs_json = {\"175661e7-63b4-4ea7-97bc-f3d372edb938\":{\"roots\":{\"references\":[{\"attributes\":{},\"id\":\"703b1294-1e69-4680-9c9c-6e300f4d9989\",\"type\":\"PanTool\"},{\"attributes\":{},\"id\":\"aa2ffe22-15c5-419c-913c-3c1a46b4f610\",\"type\":\"UnionRenderers\"},{\"attributes\":{\"data_source\":{\"id\":\"50a34f05-d838-44ec-899e-ff41cb0779fb\",\"type\":\"ColumnDataSource\"},\"glyph\":{\"id\":\"9ec8e3f4-732d-4e14-9913-d6a1f3f87cac\",\"type\":\"VBar\"},\"hover_glyph\":null,\"muted_glyph\":null,\"nonselection_glyph\":{\"id\":\"6e402a39-a6d2-47f8-94de-186b909613ff\",\"type\":\"VBar\"},\"selection_glyph\":null,\"view\":{\"id\":\"07b01916-0aee-4e96-be8d-ff0c05cca79f\",\"type\":\"CDSView\"}},\"id\":\"0cce1ea1-1b24-4610-b81e-29f94a2a45c8\",\"type\":\"GlyphRenderer\"},{\"attributes\":{\"dimension\":1,\"plot\":{\"id\":\"5c93b10d-436b-48cc-8a06-d8f9365e79cb\",\"subtype\":\"Figure\",\"type\":\"Plot\"},\"ticker\":{\"id\":\"a880eaa3-ceb8-46ba-bd0e-5ce13f444980\",\"type\":\"BasicTicker\"}},\"id\":\"6ca7aac0-db07-4389-91d8-1e68bcdc1481\",\"type\":\"Grid\"},{\"attributes\":{},\"id\":\"d017eada-86c2-4885-b86a-e54704f39cac\",\"type\":\"BasicTicker\"},{\"attributes\":{\"axis_label\":\"spectral band\",\"formatter\":{\"id\":\"bf52057e-ee37-40d0-81c6-ac130e4986dc\",\"type\":\"CategoricalTickFormatter\"},\"plot\":{\"id\":\"1f55199e-9d1d-4e63-8be8-6d0737466c0e\",\"subtype\":\"Figure\",\"type\":\"Plot\"},\"ticker\":{\"id\":\"d580da72-04fa-4605-9eaa-3cd49ce29b27\",\"type\":\"CategoricalTicker\"}},\"id\":\"3e3b7c8f-1593-45af-83be-c4f39752ee8b\",\"type\":\"CategoricalAxis\"},{\"attributes\":{},\"id\":\"5405cab3-eb48-4be2-bd2e-5f49de459d08\",\"type\":\"CategoricalScale\"},{\"attributes\":{\"plot\":{\"id\":\"1f55199e-9d1d-4e63-8be8-6d0737466c0e\",\"subtype\":\"Figure\",\"type\":\"Plot\"},\"ticker\":{\"id\":\"d580da72-04fa-4605-9eaa-3cd49ce29b27\",\"type\":\"CategoricalTicker\"}},\"id\":\"2d19a03c-785d-4cdc-bf6b-9b5c4be8f6fa\",\"type\":\"Grid\"},{\"attributes\":{},\"id\":\"9073815a-549f-4184-8e97-8257bdfab664\",\"type\":\"UnionRenderers\"},{\"attributes\":{},\"id\":\"40c17251-17de-426e-b36a-2c271ff78e6d\",\"type\":\"CategoricalTicker\"},{\"attributes\":{\"plot\":null,\"text\":\"SFC flux. CLIRAD - CRD.\"},\"id\":\"ed1b0ae7-e666-45c9-8481-f0f82af366ec\",\"type\":\"Title\"},{\"attributes\":{\"bottom_units\":\"screen\",\"fill_alpha\":{\"value\":0.5},\"fill_color\":{\"value\":\"lightgrey\"},\"left_units\":\"screen\",\"level\":\"overlay\",\"line_alpha\":{\"value\":1.0},\"line_color\":{\"value\":\"black\"},\"line_dash\":[4,4],\"line_width\":{\"value\":2},\"plot\":null,\"render_mode\":\"css\",\"right_units\":\"screen\",\"top_units\":\"screen\"},\"id\":\"4e47f5c8-dcb6-49a0-8a21-3b61ea716c5d\",\"type\":\"BoxAnnotation\"},{\"attributes\":{},\"id\":\"6dc879d0-d276-45b6-b570-cafbc9bf719a\",\"type\":\"HelpTool\"},{\"attributes\":{},\"id\":\"d8c148ec-9c9b-472d-b60f-25edccfd7ee9\",\"type\":\"Selection\"},{\"attributes\":{\"active_drag\":\"auto\",\"active_inspect\":\"auto\",\"active_scroll\":\"auto\",\"active_tap\":\"auto\",\"tools\":[{\"id\":\"703b1294-1e69-4680-9c9c-6e300f4d9989\",\"type\":\"PanTool\"},{\"id\":\"6999be85-c7d1-46a3-b8c0-3adec205de5a\",\"type\":\"WheelZoomTool\"},{\"id\":\"34810dfd-8f30-4a85-a92a-4685ffc710e5\",\"type\":\"BoxZoomTool\"},{\"id\":\"9bd7f6e1-67c8-4183-817f-5d5d48415d8d\",\"type\":\"SaveTool\"},{\"id\":\"b8f2b85a-c969-48c7-b2c6-3ce879c132a0\",\"type\":\"ResetTool\"},{\"id\":\"6dc879d0-d276-45b6-b570-cafbc9bf719a\",\"type\":\"HelpTool\"}]},\"id\":\"a122662a-8d9a-47dd-8da6-194e6b0fe888\",\"type\":\"Toolbar\"},{\"attributes\":{\"active_drag\":\"auto\",\"active_inspect\":\"auto\",\"active_scroll\":\"auto\",\"active_tap\":\"auto\",\"tools\":[{\"id\":\"f9c1f641-277b-44ca-9762-15cf49526a40\",\"type\":\"PanTool\"},{\"id\":\"fcb640c9-be99-4019-8483-3f676cee4d7d\",\"type\":\"WheelZoomTool\"},{\"id\":\"5e055427-2b5c-41c7-929f-1f40935dbbf7\",\"type\":\"BoxZoomTool\"},{\"id\":\"51af1d48-652d-4868-9c65-0f431b06eee0\",\"type\":\"SaveTool\"},{\"id\":\"9dde8a57-ade5-41b5-bf3d-2a894f4fbeea\",\"type\":\"ResetTool\"},{\"id\":\"ce2a45be-cc9d-423a-be14-c6b7bef2d83c\",\"type\":\"HelpTool\"}]},\"id\":\"0ce1f6f9-1e38-4cf5-9023-06c5a4dfe027\",\"type\":\"Toolbar\"},{\"attributes\":{},\"id\":\"771f9f49-ce30-4049-b300-adf04e8eade6\",\"type\":\"UnionRenderers\"},{\"attributes\":{\"plot\":null,\"text\":\"TOA flux. CLIRAD - CRD.\"},\"id\":\"fd8c1e67-c2a0-4838-aec6-777adc79afe9\",\"type\":\"Title\"},{\"attributes\":{},\"id\":\"fecedcca-56a5-4ce0-bbe5-9aab76c54b89\",\"type\":\"WheelZoomTool\"},{\"attributes\":{\"below\":[{\"id\":\"3e3b7c8f-1593-45af-83be-c4f39752ee8b\",\"type\":\"CategoricalAxis\"}],\"left\":[{\"id\":\"26073531-35ec-491e-a70c-5fda2a9eb3a7\",\"type\":\"LinearAxis\"}],\"plot_height\":300,\"plot_width\":300,\"renderers\":[{\"id\":\"3e3b7c8f-1593-45af-83be-c4f39752ee8b\",\"type\":\"CategoricalAxis\"},{\"id\":\"2d19a03c-785d-4cdc-bf6b-9b5c4be8f6fa\",\"type\":\"Grid\"},{\"id\":\"26073531-35ec-491e-a70c-5fda2a9eb3a7\",\"type\":\"LinearAxis\"},{\"id\":\"5b341850-1646-426a-8248-d9f4823ecc6c\",\"type\":\"Grid\"},{\"id\":\"4cf3f131-816f-44dc-88e3-042ce8cfd13b\",\"type\":\"BoxAnnotation\"},{\"id\":\"0cce1ea1-1b24-4610-b81e-29f94a2a45c8\",\"type\":\"GlyphRenderer\"}],\"title\":{\"id\":\"ed1b0ae7-e666-45c9-8481-f0f82af366ec\",\"type\":\"Title\"},\"toolbar\":{\"id\":\"a122662a-8d9a-47dd-8da6-194e6b0fe888\",\"type\":\"Toolbar\"},\"toolbar_location\":null,\"x_range\":{\"id\":\"416d2369-831f-4b6f-8d05-0ff25cef6096\",\"type\":\"FactorRange\"},\"x_scale\":{\"id\":\"c1ecda62-79e7-4380-82af-1b210c275fc6\",\"type\":\"CategoricalScale\"},\"y_range\":{\"id\":\"1788fb0e-9409-45a8-9d90-cb69d2d527fa\",\"type\":\"DataRange1d\"},\"y_scale\":{\"id\":\"4489a355-0120-4268-b896-66771a54b50d\",\"type\":\"LinearScale\"}},\"id\":\"1f55199e-9d1d-4e63-8be8-6d0737466c0e\",\"subtype\":\"Figure\",\"type\":\"Plot\"},{\"attributes\":{\"axis_label\":\"flux (W m-2)\",\"formatter\":{\"id\":\"0501a8a2-1959-40d3-bbf0-f57e163d0cbd\",\"type\":\"BasicTickFormatter\"},\"plot\":{\"id\":\"1f55199e-9d1d-4e63-8be8-6d0737466c0e\",\"subtype\":\"Figure\",\"type\":\"Plot\"},\"ticker\":{\"id\":\"8d16b739-24aa-446d-8112-e0af393865af\",\"type\":\"BasicTicker\"}},\"id\":\"26073531-35ec-491e-a70c-5fda2a9eb3a7\",\"type\":\"LinearAxis\"},{\"attributes\":{},\"id\":\"b8f2b85a-c969-48c7-b2c6-3ce879c132a0\",\"type\":\"ResetTool\"},{\"attributes\":{\"below\":[{\"id\":\"94dd311f-7694-4604-823e-130d91f91987\",\"type\":\"CategoricalAxis\"}],\"left\":[{\"id\":\"346dd652-e71e-4916-9f54-a0eba761b3c4\",\"type\":\"LinearAxis\"}],\"plot_height\":300,\"plot_width\":300,\"renderers\":[{\"id\":\"94dd311f-7694-4604-823e-130d91f91987\",\"type\":\"CategoricalAxis\"},{\"id\":\"f9b10049-7bdc-4628-8e4d-d20d45921f88\",\"type\":\"Grid\"},{\"id\":\"346dd652-e71e-4916-9f54-a0eba761b3c4\",\"type\":\"LinearAxis\"},{\"id\":\"11f24bef-adba-4665-8954-19e0c0fe69b1\",\"type\":\"Grid\"},{\"id\":\"f34039ca-eb7c-4bb2-bb05-7134b9360c18\",\"type\":\"BoxAnnotation\"},{\"id\":\"88c82259-8d05-4c6c-9953-8f15b21e684e\",\"type\":\"GlyphRenderer\"}],\"title\":{\"id\":\"fd8c1e67-c2a0-4838-aec6-777adc79afe9\",\"type\":\"Title\"},\"toolbar\":{\"id\":\"627ef6b6-4cff-4f99-9895-927b5d130b98\",\"type\":\"Toolbar\"},\"toolbar_location\":null,\"x_range\":{\"id\":\"513692cd-d70e-4d27-b247-c3c4dd976393\",\"type\":\"FactorRange\"},\"x_scale\":{\"id\":\"eabeb7be-e672-4467-920f-76d01459c8f6\",\"type\":\"CategoricalScale\"},\"y_range\":{\"id\":\"46de8278-3826-4d07-b610-9da66f3a63ef\",\"type\":\"DataRange1d\"},\"y_scale\":{\"id\":\"7a489c86-5855-43bd-9951-6a8a65c8b663\",\"type\":\"LinearScale\"}},\"id\":\"6d2f57c3-129a-4a40-8f68-a1f20fa5d603\",\"subtype\":\"Figure\",\"type\":\"Plot\"},{\"attributes\":{\"dimension\":1,\"plot\":{\"id\":\"6d2f57c3-129a-4a40-8f68-a1f20fa5d603\",\"subtype\":\"Figure\",\"type\":\"Plot\"},\"ticker\":{\"id\":\"d017eada-86c2-4885-b86a-e54704f39cac\",\"type\":\"BasicTicker\"}},\"id\":\"11f24bef-adba-4665-8954-19e0c0fe69b1\",\"type\":\"Grid\"},{\"attributes\":{\"fill_color\":{\"value\":\"#1f77b4\"},\"line_color\":{\"value\":\"#1f77b4\"},\"top\":{\"field\":\"flux\"},\"width\":{\"value\":0.9},\"x\":{\"field\":\"band\"}},\"id\":\"34b616ca-e3c6-46fc-96cd-8fa26464a5a1\",\"type\":\"VBar\"},{\"attributes\":{},\"id\":\"d580da72-04fa-4605-9eaa-3cd49ce29b27\",\"type\":\"CategoricalTicker\"},{\"attributes\":{},\"id\":\"9dde8a57-ade5-41b5-bf3d-2a894f4fbeea\",\"type\":\"ResetTool\"},{\"attributes\":{\"data_source\":{\"id\":\"e2ff9b97-2da3-4c85-bff9-1036330dba39\",\"type\":\"ColumnDataSource\"},\"glyph\":{\"id\":\"34b616ca-e3c6-46fc-96cd-8fa26464a5a1\",\"type\":\"VBar\"},\"hover_glyph\":null,\"muted_glyph\":null,\"nonselection_glyph\":{\"id\":\"05278e7c-5646-4318-93ff-35f45a29e22e\",\"type\":\"VBar\"},\"selection_glyph\":null,\"view\":{\"id\":\"7d4311dd-cdbf-45e7-8ab2-dfdb8e4b7718\",\"type\":\"CDSView\"}},\"id\":\"88c82259-8d05-4c6c-9953-8f15b21e684e\",\"type\":\"GlyphRenderer\"},{\"attributes\":{},\"id\":\"a95a7981-1702-4c2a-a888-1b371a80749b\",\"type\":\"LinearScale\"},{\"attributes\":{\"fill_color\":{\"value\":\"#1f77b4\"},\"line_color\":{\"value\":\"#1f77b4\"},\"top\":{\"field\":\"flux\"},\"width\":{\"value\":0.9},\"x\":{\"field\":\"band\"}},\"id\":\"9ec8e3f4-732d-4e14-9913-d6a1f3f87cac\",\"type\":\"VBar\"},{\"attributes\":{},\"id\":\"2b5293d6-400e-4c3d-b900-5c157e82361d\",\"type\":\"CategoricalTicker\"},{\"attributes\":{\"callback\":null,\"factors\":[\"3\",\"4\",\"5\",\"6\",\"7\",\"11\"]},\"id\":\"513692cd-d70e-4d27-b247-c3c4dd976393\",\"type\":\"FactorRange\"},{\"attributes\":{\"plot\":{\"id\":\"6d2f57c3-129a-4a40-8f68-a1f20fa5d603\",\"subtype\":\"Figure\",\"type\":\"Plot\"},\"ticker\":{\"id\":\"2b5293d6-400e-4c3d-b900-5c157e82361d\",\"type\":\"CategoricalTicker\"}},\"id\":\"f9b10049-7bdc-4628-8e4d-d20d45921f88\",\"type\":\"Grid\"},{\"attributes\":{},\"id\":\"c1ecda62-79e7-4380-82af-1b210c275fc6\",\"type\":\"CategoricalScale\"},{\"attributes\":{\"callback\":null,\"factors\":[\"3\",\"4\",\"5\",\"6\",\"7\",\"11\"]},\"id\":\"c6c1140a-7243-45ea-bbbe-1ba88e0ac0fe\",\"type\":\"FactorRange\"},{\"attributes\":{\"plot\":null,\"text\":\"Atmosphere heating. CLIRAD - CRD.\"},\"id\":\"44f29a05-1df8-4f6d-ac20-2e2c337d3349\",\"type\":\"Title\"},{\"attributes\":{},\"id\":\"6999be85-c7d1-46a3-b8c0-3adec205de5a\",\"type\":\"WheelZoomTool\"},{\"attributes\":{\"axis_label\":\"flux (W m-2)\",\"formatter\":{\"id\":\"00178d3c-66e1-43c0-978a-54f6e07b7fbd\",\"type\":\"BasicTickFormatter\"},\"plot\":{\"id\":\"5c93b10d-436b-48cc-8a06-d8f9365e79cb\",\"subtype\":\"Figure\",\"type\":\"Plot\"},\"ticker\":{\"id\":\"a880eaa3-ceb8-46ba-bd0e-5ce13f444980\",\"type\":\"BasicTicker\"}},\"id\":\"97638e94-2a57-4ddf-a257-0e0dfc533679\",\"type\":\"LinearAxis\"},{\"attributes\":{},\"id\":\"e1d8017c-5dd7-4e19-8a71-db9948ac3102\",\"type\":\"Selection\"},{\"attributes\":{\"bottom_units\":\"screen\",\"fill_alpha\":{\"value\":0.5},\"fill_color\":{\"value\":\"lightgrey\"},\"left_units\":\"screen\",\"level\":\"overlay\",\"line_alpha\":{\"value\":1.0},\"line_color\":{\"value\":\"black\"},\"line_dash\":[4,4],\"line_width\":{\"value\":2},\"plot\":null,\"render_mode\":\"css\",\"right_units\":\"screen\",\"top_units\":\"screen\"},\"id\":\"f34039ca-eb7c-4bb2-bb05-7134b9360c18\",\"type\":\"BoxAnnotation\"},{\"attributes\":{},\"id\":\"66bab860-25cb-4e57-8257-cb018faf3100\",\"type\":\"HelpTool\"},{\"attributes\":{},\"id\":\"7a489c86-5855-43bd-9951-6a8a65c8b663\",\"type\":\"LinearScale\"},{\"attributes\":{\"fill_alpha\":{\"value\":0.1},\"fill_color\":{\"value\":\"#1f77b4\"},\"line_alpha\":{\"value\":0.1},\"line_color\":{\"value\":\"#1f77b4\"},\"top\":{\"field\":\"flux\"},\"width\":{\"value\":0.9},\"x\":{\"field\":\"band\"}},\"id\":\"6e402a39-a6d2-47f8-94de-186b909613ff\",\"type\":\"VBar\"},{\"attributes\":{\"plot\":{\"id\":\"5c93b10d-436b-48cc-8a06-d8f9365e79cb\",\"subtype\":\"Figure\",\"type\":\"Plot\"},\"ticker\":{\"id\":\"40c17251-17de-426e-b36a-2c271ff78e6d\",\"type\":\"CategoricalTicker\"}},\"id\":\"6b5b5929-5cd7-4336-9209-3571b7fc1d52\",\"type\":\"Grid\"},{\"attributes\":{\"source\":{\"id\":\"50a34f05-d838-44ec-899e-ff41cb0779fb\",\"type\":\"ColumnDataSource\"}},\"id\":\"07b01916-0aee-4e96-be8d-ff0c05cca79f\",\"type\":\"CDSView\"},{\"attributes\":{\"callback\":null,\"factors\":[\"3\",\"4\",\"5\",\"6\",\"7\",\"11\"]},\"id\":\"416d2369-831f-4b6f-8d05-0ff25cef6096\",\"type\":\"FactorRange\"},{\"attributes\":{\"callback\":null},\"id\":\"46de8278-3826-4d07-b610-9da66f3a63ef\",\"type\":\"DataRange1d\"},{\"attributes\":{\"source\":{\"id\":\"f0f37459-e0da-4919-97f9-8b6a8111fb80\",\"type\":\"ColumnDataSource\"}},\"id\":\"f39ff329-71e3-4b59-b174-12b2adccab6c\",\"type\":\"CDSView\"},{\"attributes\":{},\"id\":\"00178d3c-66e1-43c0-978a-54f6e07b7fbd\",\"type\":\"BasicTickFormatter\"},{\"attributes\":{\"callback\":null,\"data\":{\"band\":[\"3\",\"4\",\"5\",\"6\",\"7\",\"11\"],\"flux\":{\"__ndarray__\":\"ACS4kbJFkr+Aqpm1FJDCPwBJMNXMWro/AKCBH9Wwf78AQOo9ldN+v8AGVbSDW6A/\",\"dtype\":\"float64\",\"shape\":[6]}},\"selected\":{\"id\":\"e1d8017c-5dd7-4e19-8a71-db9948ac3102\",\"type\":\"Selection\"},\"selection_policy\":{\"id\":\"771f9f49-ce30-4049-b300-adf04e8eade6\",\"type\":\"UnionRenderers\"}},\"id\":\"e2ff9b97-2da3-4c85-bff9-1036330dba39\",\"type\":\"ColumnDataSource\"},{\"attributes\":{\"fill_alpha\":{\"value\":0.1},\"fill_color\":{\"value\":\"#1f77b4\"},\"line_alpha\":{\"value\":0.1},\"line_color\":{\"value\":\"#1f77b4\"},\"top\":{\"field\":\"flux\"},\"width\":{\"value\":0.9},\"x\":{\"field\":\"band\"}},\"id\":\"05278e7c-5646-4318-93ff-35f45a29e22e\",\"type\":\"VBar\"},{\"attributes\":{\"fill_color\":{\"value\":\"#1f77b4\"},\"line_color\":{\"value\":\"#1f77b4\"},\"top\":{\"field\":\"flux\"},\"width\":{\"value\":0.9},\"x\":{\"field\":\"band\"}},\"id\":\"a8d08a96-4d1c-40f3-8a6f-7968e018deb8\",\"type\":\"VBar\"},{\"attributes\":{\"overlay\":{\"id\":\"4e47f5c8-dcb6-49a0-8a21-3b61ea716c5d\",\"type\":\"BoxAnnotation\"}},\"id\":\"5e055427-2b5c-41c7-929f-1f40935dbbf7\",\"type\":\"BoxZoomTool\"},{\"attributes\":{\"active_drag\":\"auto\",\"active_inspect\":\"auto\",\"active_scroll\":\"auto\",\"active_tap\":\"auto\",\"tools\":[{\"id\":\"0c43343a-5a51-4861-8ae8-194867538104\",\"type\":\"PanTool\"},{\"id\":\"fecedcca-56a5-4ce0-bbe5-9aab76c54b89\",\"type\":\"WheelZoomTool\"},{\"id\":\"883c9316-94fc-45d4-a77d-cb192162c212\",\"type\":\"BoxZoomTool\"},{\"id\":\"1d25bd7a-47b4-43b1-856d-f6beb043ca97\",\"type\":\"SaveTool\"},{\"id\":\"d507df13-e0de-4653-b562-750c9906d336\",\"type\":\"ResetTool\"},{\"id\":\"66bab860-25cb-4e57-8257-cb018faf3100\",\"type\":\"HelpTool\"}]},\"id\":\"627ef6b6-4cff-4f99-9895-927b5d130b98\",\"type\":\"Toolbar\"},{\"attributes\":{},\"id\":\"bf52057e-ee37-40d0-81c6-ac130e4986dc\",\"type\":\"CategoricalTickFormatter\"},{\"attributes\":{},\"id\":\"eabeb7be-e672-4467-920f-76d01459c8f6\",\"type\":\"CategoricalScale\"},{\"attributes\":{},\"id\":\"0501a8a2-1959-40d3-bbf0-f57e163d0cbd\",\"type\":\"BasicTickFormatter\"},{\"attributes\":{},\"id\":\"fcb640c9-be99-4019-8483-3f676cee4d7d\",\"type\":\"WheelZoomTool\"},{\"attributes\":{\"children\":[{\"id\":\"6d2f57c3-129a-4a40-8f68-a1f20fa5d603\",\"subtype\":\"Figure\",\"type\":\"Plot\"},{\"id\":\"1f55199e-9d1d-4e63-8be8-6d0737466c0e\",\"subtype\":\"Figure\",\"type\":\"Plot\"},{\"id\":\"5c93b10d-436b-48cc-8a06-d8f9365e79cb\",\"subtype\":\"Figure\",\"type\":\"Plot\"}]},\"id\":\"81f18192-e4f3-4d11-abdb-4174d90198e7\",\"type\":\"Row\"},{\"attributes\":{},\"id\":\"8d16b739-24aa-446d-8112-e0af393865af\",\"type\":\"BasicTicker\"},{\"attributes\":{\"axis_label\":\"spectral band\",\"formatter\":{\"id\":\"632eee15-39f8-4007-aa76-a7185388c027\",\"type\":\"CategoricalTickFormatter\"},\"plot\":{\"id\":\"5c93b10d-436b-48cc-8a06-d8f9365e79cb\",\"subtype\":\"Figure\",\"type\":\"Plot\"},\"ticker\":{\"id\":\"40c17251-17de-426e-b36a-2c271ff78e6d\",\"type\":\"CategoricalTicker\"}},\"id\":\"1f9b32bb-97fd-4b6a-b1c9-f113c1ec7b46\",\"type\":\"CategoricalAxis\"},{\"attributes\":{},\"id\":\"dcaa7e6a-f8b6-4b9b-96a2-4c2c0307863c\",\"type\":\"BasicTickFormatter\"},{\"attributes\":{\"callback\":null,\"data\":{\"band\":[\"3\",\"4\",\"5\",\"6\",\"7\",\"11\"],\"flux\":{\"__ndarray__\":\"wKI5VzlZzj8AmAtcHmu2P8AHW+z2Wcw/wEgn+a6Uk7+AYUOBiB6Sv+jFBXfSiK4/\",\"dtype\":\"float64\",\"shape\":[6]}},\"selected\":{\"id\":\"b88d19ee-ff6b-4cdf-a64a-ab9b901e7097\",\"type\":\"Selection\"},\"selection_policy\":{\"id\":\"aa2ffe22-15c5-419c-913c-3c1a46b4f610\",\"type\":\"UnionRenderers\"}},\"id\":\"50a34f05-d838-44ec-899e-ff41cb0779fb\",\"type\":\"ColumnDataSource\"},{\"attributes\":{\"axis_label\":\"flux (W m-2)\",\"formatter\":{\"id\":\"dcaa7e6a-f8b6-4b9b-96a2-4c2c0307863c\",\"type\":\"BasicTickFormatter\"},\"plot\":{\"id\":\"6d2f57c3-129a-4a40-8f68-a1f20fa5d603\",\"subtype\":\"Figure\",\"type\":\"Plot\"},\"ticker\":{\"id\":\"d017eada-86c2-4885-b86a-e54704f39cac\",\"type\":\"BasicTicker\"}},\"id\":\"346dd652-e71e-4916-9f54-a0eba761b3c4\",\"type\":\"LinearAxis\"},{\"attributes\":{},\"id\":\"a880eaa3-ceb8-46ba-bd0e-5ce13f444980\",\"type\":\"BasicTicker\"},{\"attributes\":{},\"id\":\"632eee15-39f8-4007-aa76-a7185388c027\",\"type\":\"CategoricalTickFormatter\"},{\"attributes\":{\"toolbar\":{\"id\":\"895e3432-4349-4af5-a4b4-9b1521afeb02\",\"type\":\"ProxyToolbar\"},\"toolbar_location\":\"above\"},\"id\":\"360716a4-c8a8-4a47-8a88-a6de7cb7227d\",\"type\":\"ToolbarBox\"},{\"attributes\":{\"bottom_units\":\"screen\",\"fill_alpha\":{\"value\":0.5},\"fill_color\":{\"value\":\"lightgrey\"},\"left_units\":\"screen\",\"level\":\"overlay\",\"line_alpha\":{\"value\":1.0},\"line_color\":{\"value\":\"black\"},\"line_dash\":[4,4],\"line_width\":{\"value\":2},\"plot\":null,\"render_mode\":\"css\",\"right_units\":\"screen\",\"top_units\":\"screen\"},\"id\":\"4cf3f131-816f-44dc-88e3-042ce8cfd13b\",\"type\":\"BoxAnnotation\"},{\"attributes\":{\"children\":[{\"id\":\"81f18192-e4f3-4d11-abdb-4174d90198e7\",\"type\":\"Row\"}]},\"id\":\"092ea56e-59fb-4a5b-9b24-c6797fe29c4d\",\"type\":\"Column\"},{\"attributes\":{},\"id\":\"4489a355-0120-4268-b896-66771a54b50d\",\"type\":\"LinearScale\"},{\"attributes\":{},\"id\":\"d507df13-e0de-4653-b562-750c9906d336\",\"type\":\"ResetTool\"},{\"attributes\":{\"tools\":[{\"id\":\"0c43343a-5a51-4861-8ae8-194867538104\",\"type\":\"PanTool\"},{\"id\":\"fecedcca-56a5-4ce0-bbe5-9aab76c54b89\",\"type\":\"WheelZoomTool\"},{\"id\":\"883c9316-94fc-45d4-a77d-cb192162c212\",\"type\":\"BoxZoomTool\"},{\"id\":\"1d25bd7a-47b4-43b1-856d-f6beb043ca97\",\"type\":\"SaveTool\"},{\"id\":\"d507df13-e0de-4653-b562-750c9906d336\",\"type\":\"ResetTool\"},{\"id\":\"66bab860-25cb-4e57-8257-cb018faf3100\",\"type\":\"HelpTool\"},{\"id\":\"703b1294-1e69-4680-9c9c-6e300f4d9989\",\"type\":\"PanTool\"},{\"id\":\"6999be85-c7d1-46a3-b8c0-3adec205de5a\",\"type\":\"WheelZoomTool\"},{\"id\":\"34810dfd-8f30-4a85-a92a-4685ffc710e5\",\"type\":\"BoxZoomTool\"},{\"id\":\"9bd7f6e1-67c8-4183-817f-5d5d48415d8d\",\"type\":\"SaveTool\"},{\"id\":\"b8f2b85a-c969-48c7-b2c6-3ce879c132a0\",\"type\":\"ResetTool\"},{\"id\":\"6dc879d0-d276-45b6-b570-cafbc9bf719a\",\"type\":\"HelpTool\"},{\"id\":\"f9c1f641-277b-44ca-9762-15cf49526a40\",\"type\":\"PanTool\"},{\"id\":\"fcb640c9-be99-4019-8483-3f676cee4d7d\",\"type\":\"WheelZoomTool\"},{\"id\":\"5e055427-2b5c-41c7-929f-1f40935dbbf7\",\"type\":\"BoxZoomTool\"},{\"id\":\"51af1d48-652d-4868-9c65-0f431b06eee0\",\"type\":\"SaveTool\"},{\"id\":\"9dde8a57-ade5-41b5-bf3d-2a894f4fbeea\",\"type\":\"ResetTool\"},{\"id\":\"ce2a45be-cc9d-423a-be14-c6b7bef2d83c\",\"type\":\"HelpTool\"}]},\"id\":\"895e3432-4349-4af5-a4b4-9b1521afeb02\",\"type\":\"ProxyToolbar\"},{\"attributes\":{\"below\":[{\"id\":\"1f9b32bb-97fd-4b6a-b1c9-f113c1ec7b46\",\"type\":\"CategoricalAxis\"}],\"left\":[{\"id\":\"97638e94-2a57-4ddf-a257-0e0dfc533679\",\"type\":\"LinearAxis\"}],\"plot_height\":300,\"plot_width\":300,\"renderers\":[{\"id\":\"1f9b32bb-97fd-4b6a-b1c9-f113c1ec7b46\",\"type\":\"CategoricalAxis\"},{\"id\":\"6b5b5929-5cd7-4336-9209-3571b7fc1d52\",\"type\":\"Grid\"},{\"id\":\"97638e94-2a57-4ddf-a257-0e0dfc533679\",\"type\":\"LinearAxis\"},{\"id\":\"6ca7aac0-db07-4389-91d8-1e68bcdc1481\",\"type\":\"Grid\"},{\"id\":\"4e47f5c8-dcb6-49a0-8a21-3b61ea716c5d\",\"type\":\"BoxAnnotation\"},{\"id\":\"81806384-189a-4538-956e-7ce479e34bcf\",\"type\":\"GlyphRenderer\"}],\"title\":{\"id\":\"44f29a05-1df8-4f6d-ac20-2e2c337d3349\",\"type\":\"Title\"},\"toolbar\":{\"id\":\"0ce1f6f9-1e38-4cf5-9023-06c5a4dfe027\",\"type\":\"Toolbar\"},\"toolbar_location\":null,\"x_range\":{\"id\":\"c6c1140a-7243-45ea-bbbe-1ba88e0ac0fe\",\"type\":\"FactorRange\"},\"x_scale\":{\"id\":\"5405cab3-eb48-4be2-bd2e-5f49de459d08\",\"type\":\"CategoricalScale\"},\"y_range\":{\"id\":\"09de9b3a-7b9c-48b2-8445-d4b74074dbad\",\"type\":\"DataRange1d\"},\"y_scale\":{\"id\":\"a95a7981-1702-4c2a-a888-1b371a80749b\",\"type\":\"LinearScale\"}},\"id\":\"5c93b10d-436b-48cc-8a06-d8f9365e79cb\",\"subtype\":\"Figure\",\"type\":\"Plot\"},{\"attributes\":{\"dimension\":1,\"plot\":{\"id\":\"1f55199e-9d1d-4e63-8be8-6d0737466c0e\",\"subtype\":\"Figure\",\"type\":\"Plot\"},\"ticker\":{\"id\":\"8d16b739-24aa-446d-8112-e0af393865af\",\"type\":\"BasicTicker\"}},\"id\":\"5b341850-1646-426a-8248-d9f4823ecc6c\",\"type\":\"Grid\"},{\"attributes\":{},\"id\":\"f9c1f641-277b-44ca-9762-15cf49526a40\",\"type\":\"PanTool\"},{\"attributes\":{},\"id\":\"1d25bd7a-47b4-43b1-856d-f6beb043ca97\",\"type\":\"SaveTool\"},{\"attributes\":{},\"id\":\"b88d19ee-ff6b-4cdf-a64a-ab9b901e7097\",\"type\":\"Selection\"},{\"attributes\":{},\"id\":\"ce2a45be-cc9d-423a-be14-c6b7bef2d83c\",\"type\":\"HelpTool\"},{\"attributes\":{},\"id\":\"0c43343a-5a51-4861-8ae8-194867538104\",\"type\":\"PanTool\"},{\"attributes\":{\"data_source\":{\"id\":\"f0f37459-e0da-4919-97f9-8b6a8111fb80\",\"type\":\"ColumnDataSource\"},\"glyph\":{\"id\":\"a8d08a96-4d1c-40f3-8a6f-7968e018deb8\",\"type\":\"VBar\"},\"hover_glyph\":null,\"muted_glyph\":null,\"nonselection_glyph\":{\"id\":\"f92e49b6-1242-4db1-aaf4-c314890be70f\",\"type\":\"VBar\"},\"selection_glyph\":null,\"view\":{\"id\":\"f39ff329-71e3-4b59-b174-12b2adccab6c\",\"type\":\"CDSView\"}},\"id\":\"81806384-189a-4538-956e-7ce479e34bcf\",\"type\":\"GlyphRenderer\"},{\"attributes\":{},\"id\":\"f3bba063-d776-4eb9-88d1-9e47dfaad378\",\"type\":\"CategoricalTickFormatter\"},{\"attributes\":{\"overlay\":{\"id\":\"f34039ca-eb7c-4bb2-bb05-7134b9360c18\",\"type\":\"BoxAnnotation\"}},\"id\":\"883c9316-94fc-45d4-a77d-cb192162c212\",\"type\":\"BoxZoomTool\"},{\"attributes\":{},\"id\":\"9bd7f6e1-67c8-4183-817f-5d5d48415d8d\",\"type\":\"SaveTool\"},{\"attributes\":{\"overlay\":{\"id\":\"4cf3f131-816f-44dc-88e3-042ce8cfd13b\",\"type\":\"BoxAnnotation\"}},\"id\":\"34810dfd-8f30-4a85-a92a-4685ffc710e5\",\"type\":\"BoxZoomTool\"},{\"attributes\":{\"fill_alpha\":{\"value\":0.1},\"fill_color\":{\"value\":\"#1f77b4\"},\"line_alpha\":{\"value\":0.1},\"line_color\":{\"value\":\"#1f77b4\"},\"top\":{\"field\":\"flux\"},\"width\":{\"value\":0.9},\"x\":{\"field\":\"band\"}},\"id\":\"f92e49b6-1242-4db1-aaf4-c314890be70f\",\"type\":\"VBar\"},{\"attributes\":{\"callback\":null},\"id\":\"1788fb0e-9409-45a8-9d90-cb69d2d527fa\",\"type\":\"DataRange1d\"},{\"attributes\":{\"source\":{\"id\":\"e2ff9b97-2da3-4c85-bff9-1036330dba39\",\"type\":\"ColumnDataSource\"}},\"id\":\"7d4311dd-cdbf-45e7-8ab2-dfdb8e4b7718\",\"type\":\"CDSView\"},{\"attributes\":{\"axis_label\":\"spectral band\",\"formatter\":{\"id\":\"f3bba063-d776-4eb9-88d1-9e47dfaad378\",\"type\":\"CategoricalTickFormatter\"},\"plot\":{\"id\":\"6d2f57c3-129a-4a40-8f68-a1f20fa5d603\",\"subtype\":\"Figure\",\"type\":\"Plot\"},\"ticker\":{\"id\":\"2b5293d6-400e-4c3d-b900-5c157e82361d\",\"type\":\"CategoricalTicker\"}},\"id\":\"94dd311f-7694-4604-823e-130d91f91987\",\"type\":\"CategoricalAxis\"},{\"attributes\":{\"callback\":null},\"id\":\"09de9b3a-7b9c-48b2-8445-d4b74074dbad\",\"type\":\"DataRange1d\"},{\"attributes\":{},\"id\":\"51af1d48-652d-4868-9c65-0f431b06eee0\",\"type\":\"SaveTool\"},{\"attributes\":{\"callback\":null,\"data\":{\"band\":[\"3\",\"4\",\"5\",\"6\",\"7\",\"11\"],\"flux\":{\"__ndarray__\":\"oE2c3O9Q0L8AWVzzFWqtPwDY8PRKWb6/AOCIfJdShz8A7GrylNWEPwBDz8GOWpy/\",\"dtype\":\"float64\",\"shape\":[6]}},\"selected\":{\"id\":\"d8c148ec-9c9b-472d-b60f-25edccfd7ee9\",\"type\":\"Selection\"},\"selection_policy\":{\"id\":\"9073815a-549f-4184-8e97-8257bdfab664\",\"type\":\"UnionRenderers\"}},\"id\":\"f0f37459-e0da-4919-97f9-8b6a8111fb80\",\"type\":\"ColumnDataSource\"},{\"attributes\":{\"children\":[{\"id\":\"360716a4-c8a8-4a47-8a88-a6de7cb7227d\",\"type\":\"ToolbarBox\"},{\"id\":\"092ea56e-59fb-4a5b-9b24-c6797fe29c4d\",\"type\":\"Column\"}]},\"id\":\"ecd2b20c-0a8e-4aaa-8755-f1cdabf0994c\",\"type\":\"Column\"}],\"root_ids\":[\"ecd2b20c-0a8e-4aaa-8755-f1cdabf0994c\"]},\"title\":\"Bokeh Application\",\"version\":\"0.12.16\"}};\n",
       "  var render_items = [{\"docid\":\"175661e7-63b4-4ea7-97bc-f3d372edb938\",\"elementid\":\"33b924cf-87f3-45c4-bf06-5a83b210f4e5\",\"modelid\":\"ecd2b20c-0a8e-4aaa-8755-f1cdabf0994c\"}];\n",
       "  root.Bokeh.embed.embed_items_notebook(docs_json, render_items);\n",
       "\n",
       "  }\n",
       "  if (root.Bokeh !== undefined) {\n",
       "    embed_document(root);\n",
       "  } else {\n",
       "    var attempts = 0;\n",
       "    var timer = setInterval(function(root) {\n",
       "      if (root.Bokeh !== undefined) {\n",
       "        embed_document(root);\n",
       "        clearInterval(timer);\n",
       "      }\n",
       "      attempts++;\n",
       "      if (attempts > 100) {\n",
       "        console.log(\"Bokeh: ERROR: Unable to run BokehJS code because BokehJS library is missing\")\n",
       "        clearInterval(timer);\n",
       "      }\n",
       "    }, 10, root)\n",
       "  }\n",
       "})(window);"
      ],
      "application/vnd.bokehjs_exec.v0+json": ""
     },
     "metadata": {
      "application/vnd.bokehjs_exec.v0+json": {
       "id": "ecd2b20c-0a8e-4aaa-8755-f1cdabf0994c"
      }
     },
     "output_type": "display_data"
    },
    {
     "data": {
      "text/markdown": [
       "*FIGURE.* Difference between CLIRAD and CRD in TOA, SFC and net atmosphere flux, in each spectral band."
      ],
      "text/plain": [
       "<IPython.core.display.Markdown object>"
      ]
     },
     "metadata": {},
     "output_type": "display_data"
    },
    {
     "data": {
      "text/html": [
       "<div>\n",
       "<style scoped>\n",
       "    .dataframe tbody tr th:only-of-type {\n",
       "        vertical-align: middle;\n",
       "    }\n",
       "\n",
       "    .dataframe tbody tr th {\n",
       "        vertical-align: top;\n",
       "    }\n",
       "\n",
       "    .dataframe thead th {\n",
       "        text-align: right;\n",
       "    }\n",
       "</style>\n",
       "<table border=\"1\" class=\"dataframe\">\n",
       "  <thead>\n",
       "    <tr style=\"text-align: right;\">\n",
       "      <th></th>\n",
       "      <th>OLR flux</th>\n",
       "      <th>SFC flux</th>\n",
       "      <th>ATM heating</th>\n",
       "    </tr>\n",
       "    <tr>\n",
       "      <th>Sum over bands</th>\n",
       "      <th></th>\n",
       "      <th></th>\n",
       "      <th></th>\n",
       "    </tr>\n",
       "  </thead>\n",
       "  <tbody>\n",
       "    <tr>\n",
       "      <th>CLIRAD - CRD</th>\n",
       "      <td>-128.23</td>\n",
       "      <td>0.57</td>\n",
       "      <td>-0.32</td>\n",
       "    </tr>\n",
       "    <tr>\n",
       "      <th>CRD</th>\n",
       "      <td>-100.58</td>\n",
       "      <td>46.00</td>\n",
       "      <td>-27.64</td>\n",
       "    </tr>\n",
       "  </tbody>\n",
       "</table>\n",
       "</div>"
      ],
      "text/plain": [
       "                OLR flux  SFC flux  ATM heating\n",
       "Sum over bands                                 \n",
       "CLIRAD - CRD     -128.23      0.57        -0.32\n",
       "CRD              -100.58     46.00       -27.64"
      ]
     },
     "metadata": {},
     "output_type": "display_data"
    },
    {
     "data": {
      "text/markdown": [
       "*TABLE.* Difference between CLIRAD and CRD in TOA, SFC and net atmosphere flux, over all spectral bands. CRD's TOA, SFC and net atmosphere flux, over all spectral bands."
      ],
      "text/plain": [
       "<IPython.core.display.Markdown object>"
      ]
     },
     "metadata": {},
     "output_type": "display_data"
    },
    {
     "data": {
      "text/html": [
       "<a id=\"Cooling_rates._trp.\"></a>"
      ],
      "text/plain": [
       "<IPython.core.display.HTML object>"
      ]
     },
     "metadata": {},
     "output_type": "display_data"
    },
    {
     "data": {
      "text/markdown": [
       "# Cooling rates. trp."
      ],
      "text/plain": [
       "<IPython.core.display.Markdown object>"
      ]
     },
     "metadata": {},
     "output_type": "display_data"
    },
    {
     "data": {
      "text/html": [
       "\n",
       "<div class=\"bk-root\">\n",
       "    <div class=\"bk-plotdiv\" id=\"ca835d09-4423-4bdb-b293-4b9e40773193\"></div>\n",
       "</div>"
      ]
     },
     "metadata": {},
     "output_type": "display_data"
    },
    {
     "data": {
      "application/javascript": [
       "(function(root) {\n",
       "  function embed_document(root) {\n",
       "    \n",
       "  var docs_json = {\"82dafa48-ab8d-45ce-b1a6-a69524178fc1\":{\"roots\":{\"references\":[{\"attributes\":{\"data_source\":{\"id\":\"da961db2-b677-49aa-9b22-1f01478ac3be\",\"type\":\"ColumnDataSource\"},\"glyph\":{\"id\":\"646ef810-724a-4b0a-ae08-36ae5a2df196\",\"type\":\"Line\"},\"hover_glyph\":null,\"muted_glyph\":null,\"nonselection_glyph\":{\"id\":\"3b2fdc71-e108-44eb-8df8-a38ecb0547b6\",\"type\":\"Line\"},\"selection_glyph\":null,\"view\":{\"id\":\"db3b5f4a-5375-42b5-89ec-19f02478afc4\",\"type\":\"CDSView\"}},\"id\":\"bac70c12-1096-4af0-a248-96ab96d64361\",\"type\":\"GlyphRenderer\"},{\"attributes\":{},\"id\":\"342df119-7e2c-40c1-9db6-6d27c50ec9ff\",\"type\":\"UnionRenderers\"},{\"attributes\":{\"source\":{\"id\":\"f01f1f0d-a003-4041-9992-6662acdd87b1\",\"type\":\"ColumnDataSource\"}},\"id\":\"7545e118-b31b-4612-bae0-bc88d080aba6\",\"type\":\"CDSView\"},{\"attributes\":{\"line_color\":\"#4daf4a\",\"line_width\":1.5,\"x\":{\"field\":\"x\"},\"y\":{\"field\":\"y\"}},\"id\":\"646ef810-724a-4b0a-ae08-36ae5a2df196\",\"type\":\"Line\"},{\"attributes\":{\"callback\":null,\"data\":{\"x\":{\"__ndarray__\":\"Ak0UGO5rU0DkDr+k4dVEQDUDNddX90BA0cN95CEWO0ACw9Iqsl01QHVY9cN1yjBA2/MjiT17KkC/3kuBzw4lQHeJSKqJ5yBALPSJnmROG0AXyqWfqvsVQGTJnUvRThFAnFYWaTRICUCIPDvn8Pb6P1QziI3nafM/sj5JR7mRAEDyWsNCTOgHQOnquS8GlQ1AbZjfMGO/EUAQUldBg2QVQA9ajbnr1hpAVhVwiB6KIUD0yvpvU+IhQOdtOc4eLx5AQyKb0ht7GUC+zU/0L3oUQFdnNK7KtRBA20mC3wHpC0Ao9K4bQHMHQC/US+LwjgNAhA7pmDQCAEC0ly+qNnv5PyS+pMzlqfM/eZEfJmdt7j9fNps12kzhP4aJSZ0BEZI/Uf2N0Iar1b/nCNV3JPvQv4yn2m/ws0g/CXQcshdHsj/AJIILeFK8PwFEKwMIkME/Xb6V75AXxD9Sb/hiiRXGP2gPAEhpt8c/uZeZKLIVyT8ltSCwA0LKP1UpJVvQSMs/FJJu2MgxzD88MxC3ggfNP3hBoL2r0M0/y49JiYSTzj+Z9VYjSlLPP0qKx0JGCdA/GPq8rpNt0D8CzH6aqNfQP13meO3gTNE/tfVCZk/X0T8t1SHI3ITSP9BUHIe5ddM/S9wYwsq41D8sXm9NiPHVP/3h306/J9Y/8S+6J4zg1D9GjPE1UeHSP4KWGWrgRNE/sIck6m2y0D+/oPrI4ynRP1HHy6B/HtI/Wn6GlgEn0z+uQ5hPFDDUPyGzDX3rU9U/xt6pzlO+1j858uaGJOfYPy7FVWXfleE/\",\"dtype\":\"float64\",\"shape\":[75]},\"y\":{\"__ndarray__\":\"GhExyth1ND/Sv8nbtpRIP2vylNV0PVE/aTum7souWD/At0SJ8fVgPw3Iuahxymc/MSNhhJWvcD/bTfBN02d3P2zb5nxnaoA/CD5h5MAGhz8NmeH1TyaQP+zrCsc9p5Y/LbKd76fGnz/bLW5ISEmmPww9YvTcQq8/JV2OstnstT8Er5Y7M8G+P0c+r3jqkcU/5h99k6ZBzj88bCIzFzjVP4enV8oyxN0//yH99nXg5D8qOpLLf0jtP5kqGJXUifQ/c9cS8kHP/D+/DpwzojQEQIEmwoanVwxA4lgXt9HgE0BSSZ2AJuIbQAMJih9jjiNA5q4l5INuK0AwTKYKRj0zQNv5fmq8/DpAaCJseHrtQkB/+zpwzoxKQM3MzMzMeFJAZmZmZmZqWEAAAAAAAFxeQM3MzMzMJmJAmpmZmZkfZUBmZmZmZhhoQDMzMzMzEWtAAAAAAAAKbkBmZmZmZoFwQM3MzMzM/XFAMzMzMzN6c0CamZmZmfZ0QAAAAAAAc3ZAZmZmZmbvd0DNzMzMzGt5QDMzMzMz6HpAmpmZmZlkfEAAAAAAAOF9QGZmZmZmXX9AZmZmZuZsgECamZmZGSuBQM3MzMxM6YFAAAAAAICngkAzMzMzs2WDQGZmZmbmI4RAmpmZmRnihEDNzMzMTKCFQAAAAACAXoZAMzMzM7Mch0BmZmZm5tqHQJqZmZkZmYhAzczMzExXiUAAAAAAgBWKQDMzMzOz04pAZmZmZuaRi0CamZmZGVCMQM3MzMxMDo1AAAAAAIDMjUAzMzMzs4qOQGZmZmbmSI9A\",\"dtype\":\"float64\",\"shape\":[75]}},\"selected\":{\"id\":\"746027c9-b851-44ce-bb78-bf9ae2fee4c5\",\"type\":\"Selection\"},\"selection_policy\":{\"id\":\"81ab1908-4a84-4046-a11c-6d889087b73e\",\"type\":\"UnionRenderers\"}},\"id\":\"e41a2e79-2eee-441c-84ab-4977f15df647\",\"type\":\"ColumnDataSource\"},{\"attributes\":{\"callback\":null,\"data\":{\"x\":{\"__ndarray__\":\"Ak0UGO5rU0DkDr+k4dVEQDUDNddX90BA0cN95CEWO0ACw9Iqsl01QHVY9cN1yjBA2/MjiT17KkC/3kuBzw4lQHeJSKqJ5yBALPSJnmROG0AXyqWfqvsVQGTJnUvRThFAnFYWaTRICUCIPDvn8Pb6P1QziI3nafM/sj5JR7mRAEDyWsNCTOgHQOnquS8GlQ1AbZjfMGO/EUAQUldBg2QVQA9ajbnr1hpAVhVwiB6KIUD0yvpvU+IhQOdtOc4eLx5AQyKb0ht7GUC+zU/0L3oUQFdnNK7KtRBA20mC3wHpC0Ao9K4bQHMHQC/US+LwjgNAhA7pmDQCAEC0ly+qNnv5PyS+pMzlqfM/eZEfJmdt7j9fNps12kzhP4aJSZ0BEZI/Uf2N0Iar1b/nCNV3JPvQv4yn2m/ws0g/CXQcshdHsj/AJIILeFK8PwFEKwMIkME/Xb6V75AXxD9Sb/hiiRXGP2gPAEhpt8c/uZeZKLIVyT8ltSCwA0LKP1UpJVvQSMs/FJJu2MgxzD88MxC3ggfNP3hBoL2r0M0/y49JiYSTzj+Z9VYjSlLPP0qKx0JGCdA/GPq8rpNt0D8CzH6aqNfQP13meO3gTNE/tfVCZk/X0T8t1SHI3ITSP9BUHIe5ddM/S9wYwsq41D8sXm9NiPHVP/3h306/J9Y/8S+6J4zg1D9GjPE1UeHSP4KWGWrgRNE/sIck6m2y0D+/oPrI4ynRP1HHy6B/HtI/Wn6GlgEn0z+uQ5hPFDDUPyGzDX3rU9U/xt6pzlO+1j858uaGJOfYPy7FVWXfleE/\",\"dtype\":\"float64\",\"shape\":[75]},\"y\":{\"__ndarray__\":\"GhExyth1ND/Sv8nbtpRIP2vylNV0PVE/aTum7souWD/At0SJ8fVgPw3Iuahxymc/MSNhhJWvcD/bTfBN02d3P2zb5nxnaoA/CD5h5MAGhz8NmeH1TyaQP+zrCsc9p5Y/LbKd76fGnz/bLW5ISEmmPww9YvTcQq8/JV2OstnstT8Er5Y7M8G+P0c+r3jqkcU/5h99k6ZBzj88bCIzFzjVP4enV8oyxN0//yH99nXg5D8qOpLLf0jtP5kqGJXUifQ/c9cS8kHP/D+/DpwzojQEQIEmwoanVwxA4lgXt9HgE0BSSZ2AJuIbQAMJih9jjiNA5q4l5INuK0AwTKYKRj0zQNv5fmq8/DpAaCJseHrtQkB/+zpwzoxKQM3MzMzMeFJAZmZmZmZqWEAAAAAAAFxeQM3MzMzMJmJAmpmZmZkfZUBmZmZmZhhoQDMzMzMzEWtAAAAAAAAKbkBmZmZmZoFwQM3MzMzM/XFAMzMzMzN6c0CamZmZmfZ0QAAAAAAAc3ZAZmZmZmbvd0DNzMzMzGt5QDMzMzMz6HpAmpmZmZlkfEAAAAAAAOF9QGZmZmZmXX9AZmZmZuZsgECamZmZGSuBQM3MzMxM6YFAAAAAAICngkAzMzMzs2WDQGZmZmbmI4RAmpmZmRnihEDNzMzMTKCFQAAAAACAXoZAMzMzM7Mch0BmZmZm5tqHQJqZmZkZmYhAzczMzExXiUAAAAAAgBWKQDMzMzOz04pAZmZmZuaRi0CamZmZGVCMQM3MzMxMDo1AAAAAAIDMjUAzMzMzs4qOQGZmZmbmSI9A\",\"dtype\":\"float64\",\"shape\":[75]}},\"selected\":{\"id\":\"a94d06cb-05a5-4a4a-b846-064d3b4de898\",\"type\":\"Selection\"},\"selection_policy\":{\"id\":\"bb3f9cc4-33a2-4adf-9d04-479968d615e4\",\"type\":\"UnionRenderers\"}},\"id\":\"da961db2-b677-49aa-9b22-1f01478ac3be\",\"type\":\"ColumnDataSource\"},{\"attributes\":{\"data_source\":{\"id\":\"83fe4e26-d0cd-4b39-8dc8-ce9c485299f2\",\"type\":\"ColumnDataSource\"},\"glyph\":{\"id\":\"bf8d92d6-ca05-4ae4-ad2e-5a3c2288c383\",\"type\":\"Line\"},\"hover_glyph\":null,\"muted_glyph\":null,\"nonselection_glyph\":{\"id\":\"864a0657-cfbb-499b-85e3-6860e2b1e5a4\",\"type\":\"Line\"},\"selection_glyph\":null,\"view\":{\"id\":\"be807db5-2f77-4e21-8e3d-f5619836beb3\",\"type\":\"CDSView\"}},\"id\":\"f1d23dcc-0128-453d-9b9d-6a9d351b14ca\",\"type\":\"GlyphRenderer\"},{\"attributes\":{\"axis_label\":\"cooling rate [K/day]\",\"formatter\":{\"id\":\"227d6dfe-f8c6-4957-859d-2a9fc0a36f52\",\"type\":\"BasicTickFormatter\"},\"plot\":{\"id\":\"43ee469a-a421-454a-87fd-24ea40da94ec\",\"subtype\":\"Figure\",\"type\":\"Plot\"},\"ticker\":{\"id\":\"9a491eaa-a967-43bd-8c86-74d96e320e6c\",\"type\":\"BasicTicker\"}},\"id\":\"a0d59068-135b-49aa-b561-20ea02cdb154\",\"type\":\"LinearAxis\"},{\"attributes\":{\"source\":{\"id\":\"da961db2-b677-49aa-9b22-1f01478ac3be\",\"type\":\"ColumnDataSource\"}},\"id\":\"db3b5f4a-5375-42b5-89ec-19f02478afc4\",\"type\":\"CDSView\"},{\"attributes\":{\"ticker\":null},\"id\":\"266015f8-4a50-4740-8844-e23cc3b6e65e\",\"type\":\"LogTickFormatter\"},{\"attributes\":{},\"id\":\"2ec765f2-8f35-4f57-8c4f-843e0c5a9579\",\"type\":\"LinearScale\"},{\"attributes\":{\"source\":{\"id\":\"2598980c-6870-42b0-9acd-f97cc0b9e49a\",\"type\":\"ColumnDataSource\"}},\"id\":\"f43b07f0-fabc-4d6e-86db-1294cbfd3015\",\"type\":\"CDSView\"},{\"attributes\":{\"axis_label\":\"cooling rate [K/day]\",\"formatter\":{\"id\":\"b46110bc-bda5-406e-a8df-114fb8a0b550\",\"type\":\"BasicTickFormatter\"},\"plot\":{\"id\":\"4ddafd93-6b98-45f3-8f1b-cd995ecaea45\",\"subtype\":\"Figure\",\"type\":\"Plot\"},\"ticker\":{\"id\":\"ac353c3c-122d-44a6-af2f-57f48e75e7b7\",\"type\":\"BasicTicker\"}},\"id\":\"0ffee2e4-3381-4d19-bcc2-91099b08b44a\",\"type\":\"LinearAxis\"},{\"attributes\":{\"callback\":null,\"end\":0.6096701086624875,\"start\":-0.38246373171281084},\"id\":\"b34f2e4a-41c5-4841-b11d-e2e1d5353152\",\"type\":\"Range1d\"},{\"attributes\":{},\"id\":\"bb3f9cc4-33a2-4adf-9d04-479968d615e4\",\"type\":\"UnionRenderers\"},{\"attributes\":{\"above\":[{\"id\":\"f749851f-42d3-4301-81f8-e9c29497eae8\",\"type\":\"Legend\"}],\"below\":[{\"id\":\"db2f73a3-b9c5-4cd4-b0c4-d1b425822e00\",\"type\":\"LinearAxis\"}],\"left\":[{\"id\":\"920fc1ec-211e-4df6-8e6a-19e82b25dc77\",\"type\":\"LogAxis\"}],\"plot_width\":300,\"renderers\":[{\"id\":\"db2f73a3-b9c5-4cd4-b0c4-d1b425822e00\",\"type\":\"LinearAxis\"},{\"id\":\"a6ee336e-8139-452e-8c76-cf2c51eb080a\",\"type\":\"Grid\"},{\"id\":\"920fc1ec-211e-4df6-8e6a-19e82b25dc77\",\"type\":\"LogAxis\"},{\"id\":\"c1eef72a-8bd3-456f-9eb3-85f299ac9156\",\"type\":\"Grid\"},{\"id\":\"5b7de02c-3563-4e17-bce0-a32d2aca2f1f\",\"type\":\"BoxAnnotation\"},{\"id\":\"ac33097c-63d6-44b5-9be2-5149ac027650\",\"type\":\"GlyphRenderer\"},{\"id\":\"8a6df1cf-c25b-4e4d-b8f5-00f77d4dd3b6\",\"type\":\"GlyphRenderer\"},{\"id\":\"f749851f-42d3-4301-81f8-e9c29497eae8\",\"type\":\"Legend\"}],\"title\":{\"id\":\"35539dff-ad0b-45d3-9f99-d3df0eeef1dc\",\"type\":\"Title\"},\"toolbar\":{\"id\":\"36ee3464-e01b-4072-a621-e17cac5f76a7\",\"type\":\"Toolbar\"},\"toolbar_location\":null,\"x_range\":{\"id\":\"f2201743-5b7b-4d9a-b809-90a8d5997475\",\"type\":\"Range1d\"},\"x_scale\":{\"id\":\"64294c01-d750-49cb-8a17-cfc83b060272\",\"type\":\"LinearScale\"},\"y_range\":{\"id\":\"c1a73a40-8606-409b-98a5-7def74e9d834\",\"type\":\"Range1d\"},\"y_scale\":{\"id\":\"84968d90-68c0-425a-b04b-9cdf03cc60ec\",\"type\":\"LogScale\"}},\"id\":\"c6f46957-3080-4e3d-9400-1c47ee3afa43\",\"subtype\":\"Figure\",\"type\":\"Plot\"},{\"attributes\":{\"line_alpha\":0.6,\"line_color\":\"#e41a1c\",\"line_dash\":[6],\"line_width\":5,\"x\":{\"field\":\"x\"},\"y\":{\"field\":\"y\"}},\"id\":\"065ca1e1-855a-4753-b6b9-dd06db441820\",\"type\":\"Line\"},{\"attributes\":{\"callback\":null,\"end\":0.01,\"start\":1020},\"id\":\"ed9b5161-5343-4abe-ae51-aa1f4c5f2d75\",\"type\":\"Range1d\"},{\"attributes\":{\"data_source\":{\"id\":\"2598980c-6870-42b0-9acd-f97cc0b9e49a\",\"type\":\"ColumnDataSource\"},\"glyph\":{\"id\":\"7eff6a61-3194-47a0-9c79-2d31eadc95aa\",\"type\":\"Circle\"},\"hover_glyph\":null,\"muted_glyph\":null,\"nonselection_glyph\":{\"id\":\"03f8454d-6e6d-4078-9b72-f1714ca86240\",\"type\":\"Circle\"},\"selection_glyph\":null,\"view\":{\"id\":\"f43b07f0-fabc-4d6e-86db-1294cbfd3015\",\"type\":\"CDSView\"}},\"id\":\"0cf479e9-e975-4082-a95d-358f2ef5fb8c\",\"type\":\"GlyphRenderer\"},{\"attributes\":{\"line_alpha\":0.1,\"line_color\":\"#1f77b4\",\"line_dash\":[6],\"line_width\":5,\"x\":{\"field\":\"x\"},\"y\":{\"field\":\"y\"}},\"id\":\"864a0657-cfbb-499b-85e3-6860e2b1e5a4\",\"type\":\"Line\"},{\"attributes\":{},\"id\":\"84968d90-68c0-425a-b04b-9cdf03cc60ec\",\"type\":\"LogScale\"},{\"attributes\":{\"line_alpha\":0.1,\"line_color\":\"#1f77b4\",\"line_dash\":[6],\"line_width\":5,\"x\":{\"field\":\"x\"},\"y\":{\"field\":\"y\"}},\"id\":\"f6deebc4-d205-40b1-9f00-ac4708958cd2\",\"type\":\"Line\"},{\"attributes\":{\"axis_label\":\"cooling rate [K/day]\",\"formatter\":{\"id\":\"4f179b5b-ffed-4dde-ad51-e86c8ede7c41\",\"type\":\"BasicTickFormatter\"},\"plot\":{\"id\":\"c6f46957-3080-4e3d-9400-1c47ee3afa43\",\"subtype\":\"Figure\",\"type\":\"Plot\"},\"ticker\":{\"id\":\"d7af7bb3-88f6-4039-a556-da42d370153c\",\"type\":\"BasicTicker\"}},\"id\":\"db2f73a3-b9c5-4cd4-b0c4-d1b425822e00\",\"type\":\"LinearAxis\"},{\"attributes\":{},\"id\":\"c996c938-f42c-4833-a57e-047c99dbfbd0\",\"type\":\"LinearScale\"},{\"attributes\":{\"label\":{\"value\":\"CRD\"},\"renderers\":[{\"id\":\"0cf479e9-e975-4082-a95d-358f2ef5fb8c\",\"type\":\"GlyphRenderer\"},{\"id\":\"bac70c12-1096-4af0-a248-96ab96d64361\",\"type\":\"GlyphRenderer\"}]},\"id\":\"a930b437-e41f-4db3-a817-64be89852a91\",\"type\":\"LegendItem\"},{\"attributes\":{},\"id\":\"5003a3f4-e644-493a-ab8b-ae52ea175890\",\"type\":\"Selection\"},{\"attributes\":{\"fill_alpha\":{\"value\":0.7},\"fill_color\":{\"value\":\"#4daf4a\"},\"line_alpha\":{\"value\":0.7},\"line_color\":{\"value\":\"#4daf4a\"},\"x\":{\"field\":\"x\"},\"y\":{\"field\":\"y\"}},\"id\":\"7eff6a61-3194-47a0-9c79-2d31eadc95aa\",\"type\":\"Circle\"},{\"attributes\":{\"tools\":[{\"id\":\"fc5b89fb-d932-4fd0-be00-46936ab0c9e9\",\"type\":\"PanTool\"},{\"id\":\"8ff1b2ba-9408-43bd-9bd5-54f62e3b6794\",\"type\":\"WheelZoomTool\"},{\"id\":\"b9e28b27-a933-4e8e-9b64-81542da0e548\",\"type\":\"BoxZoomTool\"},{\"id\":\"e078307c-b442-43a0-bc69-8a3281c248e4\",\"type\":\"SaveTool\"},{\"id\":\"ddaf1935-35db-423b-b9f9-aef9096b03d6\",\"type\":\"ResetTool\"},{\"id\":\"7be905d2-b9fe-43c5-b8e8-1643d0365951\",\"type\":\"HelpTool\"},{\"id\":\"5470b937-af55-4b5b-9ec8-4cfc91f15d09\",\"type\":\"PanTool\"},{\"id\":\"48e016b8-096d-4611-b03e-49c86a3b39e6\",\"type\":\"WheelZoomTool\"},{\"id\":\"1a3227b5-fa6f-413c-866f-ee51ddfb7a00\",\"type\":\"BoxZoomTool\"},{\"id\":\"ee93329f-3723-4e9c-a5b9-56aef3006040\",\"type\":\"SaveTool\"},{\"id\":\"dc193326-6128-4203-95a3-a5707b57cc15\",\"type\":\"ResetTool\"},{\"id\":\"9bb012b3-1bd4-4095-8ac2-1f5264f05652\",\"type\":\"HelpTool\"},{\"id\":\"48ced36f-488c-41dd-b4b2-c1f13c370adb\",\"type\":\"PanTool\"},{\"id\":\"8f625b15-c151-4ce2-ba3f-e46461a4c0b6\",\"type\":\"WheelZoomTool\"},{\"id\":\"4e76f77d-9294-4e31-8ee9-df0718523626\",\"type\":\"BoxZoomTool\"},{\"id\":\"b7aece49-c802-4b78-9222-10f7d224357d\",\"type\":\"SaveTool\"},{\"id\":\"593ef6c0-eabb-44d7-aeec-ce9b44d66342\",\"type\":\"ResetTool\"},{\"id\":\"076c123d-24e2-446a-ade9-5fee89bf6729\",\"type\":\"HelpTool\"}]},\"id\":\"806588c2-4faf-4ccc-a5c6-36824bc6903d\",\"type\":\"ProxyToolbar\"},{\"attributes\":{},\"id\":\"62fd234b-43aa-4023-b780-1e61cce6a688\",\"type\":\"LinearScale\"},{\"attributes\":{\"toolbar\":{\"id\":\"806588c2-4faf-4ccc-a5c6-36824bc6903d\",\"type\":\"ProxyToolbar\"},\"toolbar_location\":\"above\"},\"id\":\"f33df47f-9699-44d2-bd5a-daccf3be0191\",\"type\":\"ToolbarBox\"},{\"attributes\":{\"callback\":null,\"end\":9.035190624563564,\"start\":-0.46588472691975225},\"id\":\"52813cb9-e26e-4a72-b2a5-4e78951698c2\",\"type\":\"Range1d\"},{\"attributes\":{},\"id\":\"dc193326-6128-4203-95a3-a5707b57cc15\",\"type\":\"ResetTool\"},{\"attributes\":{},\"id\":\"a94d06cb-05a5-4a4a-b846-064d3b4de898\",\"type\":\"Selection\"},{\"attributes\":{\"active_drag\":\"auto\",\"active_inspect\":\"auto\",\"active_scroll\":\"auto\",\"active_tap\":\"auto\",\"tools\":[{\"id\":\"5470b937-af55-4b5b-9ec8-4cfc91f15d09\",\"type\":\"PanTool\"},{\"id\":\"48e016b8-096d-4611-b03e-49c86a3b39e6\",\"type\":\"WheelZoomTool\"},{\"id\":\"1a3227b5-fa6f-413c-866f-ee51ddfb7a00\",\"type\":\"BoxZoomTool\"},{\"id\":\"ee93329f-3723-4e9c-a5b9-56aef3006040\",\"type\":\"SaveTool\"},{\"id\":\"dc193326-6128-4203-95a3-a5707b57cc15\",\"type\":\"ResetTool\"},{\"id\":\"9bb012b3-1bd4-4095-8ac2-1f5264f05652\",\"type\":\"HelpTool\"}]},\"id\":\"2eca9f8d-34a6-41fb-8222-47c0141a194d\",\"type\":\"Toolbar\"},{\"attributes\":{\"label\":{\"value\":\"CLIRAD\"},\"renderers\":[{\"id\":\"f1d23dcc-0128-453d-9b9d-6a9d351b14ca\",\"type\":\"GlyphRenderer\"}]},\"id\":\"6ef0e97a-311d-4e9f-9489-acf6cf7cb20e\",\"type\":\"LegendItem\"},{\"attributes\":{},\"id\":\"2c1721cb-457f-49a0-91db-3977c4cd9dd9\",\"type\":\"UnionRenderers\"},{\"attributes\":{\"callback\":null,\"data\":{\"x\":{\"__ndarray__\":\"o3DNYzShS0BFiCLXBAlFQFQMZTSOPUJA8UFDwBbvPUAO9cVElxM3QHlGbOQgyDBAMj03SonsJ0BnD7n5b9YhQOw1ETSj8hxANuAZZXWuGEAP0fvJa5QUQB7Hw03uEhBAoSmFWCIPBkAKKAtMmZT0Px/LL6UHd+0/InrlQedK/z9Nj9Dn5awIQDJ/JNHmmw9AIsfhYKapEkBVMVsDu0EVQCqGxz9PaRlA4KtlAUKbIEAFR1574WUhQK3XzcBp7h1A+P+07DLfGEBuy/CWDZITQHzcv7iCuxBAJ9sQL9xnDUBg7uiae7MIQE5wlwRjDgRAy2xw4V52AEBkLx0KMjb5P0Ixqb9dG/M/qn14IBgI8D+7NQFOvDLjP6QXgGl3Jnc/xilm/uva178zJoROBhzRv3gP0+cwEZA/CRtC7lgEtD9RHNHbXhK9P34qhpk1msE/DhkrouuOwz8exiFv1K7EPx7rLUjzYsU/ivloEET1xT9seKvI4IPGP0FRRTVHYcc/lw+LOB1HyD8E03PPI2fJP0EN+66Ys8o/TDrOZ9zhyz/YTcvNaF7NPw3gzGJEkM4/KvhLShQQ0D8sBkBCB6vQP8iutbxsZ9E/vG8JQcQd0j/cEdiAzvTSPzEz08O2B9Q/Ooat0qhj1T8P3P5Mx6/WP3kI49mX4dY/rBPN30+t1T/Nj/9Fdq3TPyytbYsuEtI/Br2bn1N00T+81nYcXPbRPw7HC0Fb4NI/xlSh2CXW0z/DK9GbNvHUP5SVNIyPDtY/CAnxDi5t1z9c4jvjTLnZP5qD+Ikf5+E/\",\"dtype\":\"float64\",\"shape\":[75]},\"y\":{\"__ndarray__\":\"GhExyth1ND/Sv8nbtpRIP2vylNV0PVE/aTum7souWD/At0SJ8fVgPw3Iuahxymc/MSNhhJWvcD/bTfBN02d3P2zb5nxnaoA/CD5h5MAGhz8NmeH1TyaQP+zrCsc9p5Y/LbKd76fGnz/bLW5ISEmmPww9YvTcQq8/JV2OstnstT8Er5Y7M8G+P0c+r3jqkcU/5h99k6ZBzj88bCIzFzjVP4enV8oyxN0//yH99nXg5D8qOpLLf0jtP5kqGJXUifQ/c9cS8kHP/D+/DpwzojQEQIEmwoanVwxA4lgXt9HgE0BSSZ2AJuIbQAMJih9jjiNA5q4l5INuK0AwTKYKRj0zQNv5fmq8/DpAaCJseHrtQkB/+zpwzoxKQM3MzMzMeFJAZmZmZmZqWEAAAAAAAFxeQM3MzMzMJmJAmpmZmZkfZUBmZmZmZhhoQDMzMzMzEWtAAAAAAAAKbkBmZmZmZoFwQM3MzMzM/XFAMzMzMzN6c0CamZmZmfZ0QAAAAAAAc3ZAZmZmZmbvd0DNzMzMzGt5QDMzMzMz6HpAmpmZmZlkfEAAAAAAAOF9QGZmZmZmXX9AZmZmZuZsgECamZmZGSuBQM3MzMxM6YFAAAAAAICngkAzMzMzs2WDQGZmZmbmI4RAmpmZmRnihEDNzMzMTKCFQAAAAACAXoZAMzMzM7Mch0BmZmZm5tqHQJqZmZkZmYhAzczMzExXiUAAAAAAgBWKQDMzMzOz04pAZmZmZuaRi0CamZmZGVCMQM3MzMxMDo1AAAAAAIDMjUAzMzMzs4qOQGZmZmbmSI9A\",\"dtype\":\"float64\",\"shape\":[75]}},\"selected\":{\"id\":\"d3371da1-55bf-4d6a-afe2-3ae2d4fc59c9\",\"type\":\"Selection\"},\"selection_policy\":{\"id\":\"30438144-f881-477d-9277-7b88cb85e68d\",\"type\":\"UnionRenderers\"}},\"id\":\"f01f1f0d-a003-4041-9992-6662acdd87b1\",\"type\":\"ColumnDataSource\"},{\"attributes\":{\"above\":[{\"id\":\"f2f14506-12f8-4f29-9f5d-b94b2c7dda4d\",\"type\":\"Legend\"}],\"below\":[{\"id\":\"0ffee2e4-3381-4d19-bcc2-91099b08b44a\",\"type\":\"LinearAxis\"}],\"left\":[{\"id\":\"f3d35df5-5352-4654-826d-53fa5c3fa039\",\"type\":\"LogAxis\"}],\"plot_width\":300,\"renderers\":[{\"id\":\"0ffee2e4-3381-4d19-bcc2-91099b08b44a\",\"type\":\"LinearAxis\"},{\"id\":\"10eff8af-3c30-4c5f-af11-4e5db8f1df12\",\"type\":\"Grid\"},{\"id\":\"f3d35df5-5352-4654-826d-53fa5c3fa039\",\"type\":\"LogAxis\"},{\"id\":\"9a78a788-e900-4cbe-92f7-9daec416f456\",\"type\":\"Grid\"},{\"id\":\"1519ea47-9dab-4e35-85b4-2e6d6790c2d8\",\"type\":\"BoxAnnotation\"},{\"id\":\"f1d23dcc-0128-453d-9b9d-6a9d351b14ca\",\"type\":\"GlyphRenderer\"},{\"id\":\"b091d43f-73f3-4407-a9fa-8052cc19430c\",\"type\":\"GlyphRenderer\"},{\"id\":\"e087f070-5e60-47f9-b814-5912eda4d522\",\"type\":\"GlyphRenderer\"},{\"id\":\"f2f14506-12f8-4f29-9f5d-b94b2c7dda4d\",\"type\":\"Legend\"}],\"title\":{\"id\":\"cd0e4259-adbf-494a-87fd-c4db827618b2\",\"type\":\"Title\"},\"toolbar\":{\"id\":\"2eca9f8d-34a6-41fb-8222-47c0141a194d\",\"type\":\"Toolbar\"},\"toolbar_location\":null,\"x_range\":{\"id\":\"52813cb9-e26e-4a72-b2a5-4e78951698c2\",\"type\":\"Range1d\"},\"x_scale\":{\"id\":\"c996c938-f42c-4833-a57e-047c99dbfbd0\",\"type\":\"LinearScale\"},\"y_range\":{\"id\":\"2aa46968-0dda-44a9-b36b-7597c4f2461a\",\"type\":\"Range1d\"},\"y_scale\":{\"id\":\"b8c57740-eb71-4782-917b-e412c054e740\",\"type\":\"LogScale\"}},\"id\":\"4ddafd93-6b98-45f3-8f1b-cd995ecaea45\",\"subtype\":\"Figure\",\"type\":\"Plot\"},{\"attributes\":{},\"id\":\"b46110bc-bda5-406e-a8df-114fb8a0b550\",\"type\":\"BasicTickFormatter\"},{\"attributes\":{\"items\":[{\"id\":\"6ef0e97a-311d-4e9f-9489-acf6cf7cb20e\",\"type\":\"LegendItem\"},{\"id\":\"1a36525b-d1b7-4ae8-b1ad-310b437e8f4a\",\"type\":\"LegendItem\"}],\"label_text_font_size\":{\"value\":\"8pt\"},\"location\":\"top_center\",\"orientation\":\"horizontal\",\"plot\":{\"id\":\"4ddafd93-6b98-45f3-8f1b-cd995ecaea45\",\"subtype\":\"Figure\",\"type\":\"Plot\"}},\"id\":\"f2f14506-12f8-4f29-9f5d-b94b2c7dda4d\",\"type\":\"Legend\"},{\"attributes\":{\"callback\":null,\"end\":0.01,\"start\":1020},\"id\":\"2aa46968-0dda-44a9-b36b-7597c4f2461a\",\"type\":\"Range1d\"},{\"attributes\":{},\"id\":\"b8c57740-eb71-4782-917b-e412c054e740\",\"type\":\"LogScale\"},{\"attributes\":{},\"id\":\"ac353c3c-122d-44a6-af2f-57f48e75e7b7\",\"type\":\"BasicTicker\"},{\"attributes\":{\"source\":{\"id\":\"83fe4e26-d0cd-4b39-8dc8-ce9c485299f2\",\"type\":\"ColumnDataSource\"}},\"id\":\"be807db5-2f77-4e21-8e3d-f5619836beb3\",\"type\":\"CDSView\"},{\"attributes\":{\"callback\":null,\"data\":{\"x\":{\"__ndarray__\":\"PFRAK0htNsBV/Y+2a5bZP2EJqjxpYwRAxcRFvKjHBkArPwKTUV77P/ZnPmzppYK/yWOvcaF19L9bgjwG/ML5v7gXieK/cfO/vpZ9vnn/5L8vUlbN63PWvzwbN60vvtO/fptKJH7I2b99WqcsyojZv0okYLHyuNK/ZpZ8KuOHvb/kiga0apO4PzhevYYON9A/vgafI3RIzT+61ya09WOhv+c8FojK2da/gKv1P63b3b9ZkCsSpxzPv8oGBvxZLbC/RuNS5yJ9w7/GoBccTATNvwYTATc94HY/rQUzZaXtxz8mBz09uAPEPy+zkWKJ3K8/wmter5IKrT/QUn9BJ0GRv735DH8B0aG/cvHVvpAsqj+XDBQUIV6uP7vZ85jCjoi/TSwE8iZ7ob/O5qQ31XBgvzuOiBUil44/cLKTgxLUez+8MSLv1/xnP2yrN3oeWzQ/BtoWdKoUcb8/6cKTT2uGv6CuySSwo5K/Musd5HADmb8WzONZF/GdvzNYPEtJPJ+/lbZ4GF1Vn7/zgShU9wKdvw3Y8oqY6Ji/08QYH0GNlb9dPLR+FT6Pv/ExwEyCJIi/XICfXtlfd78v3xKUrFBmv2RhKlPOi1o/x1FfeDadcT/Q2H/ubfx7P2513GunP4I/iFjlzcFbhT+n3Z6M38eHP8oTaPYQO4c/XGmcvHaYiT+y2IHzoYSJP3j8T0XEqYk/Kpaf1rY8iD/dyRWJCo+JPzVc6w90O4g/LemwQIjkhT+63KV9SSSIP+rC1tmBVIc/niSL/kfbhT+7i7d+C0WKP9J3n8wHUIQ/\",\"dtype\":\"float64\",\"shape\":[75]},\"y\":{\"__ndarray__\":\"GhExyth1ND/Sv8nbtpRIP2vylNV0PVE/aTum7souWD/At0SJ8fVgPw3Iuahxymc/MSNhhJWvcD/bTfBN02d3P2zb5nxnaoA/CD5h5MAGhz8NmeH1TyaQP+zrCsc9p5Y/LbKd76fGnz/bLW5ISEmmPww9YvTcQq8/JV2OstnstT8Er5Y7M8G+P0c+r3jqkcU/5h99k6ZBzj88bCIzFzjVP4enV8oyxN0//yH99nXg5D8qOpLLf0jtP5kqGJXUifQ/c9cS8kHP/D+/DpwzojQEQIEmwoanVwxA4lgXt9HgE0BSSZ2AJuIbQAMJih9jjiNA5q4l5INuK0AwTKYKRj0zQNv5fmq8/DpAaCJseHrtQkB/+zpwzoxKQM3MzMzMeFJAZmZmZmZqWEAAAAAAAFxeQM3MzMzMJmJAmpmZmZkfZUBmZmZmZhhoQDMzMzMzEWtAAAAAAAAKbkBmZmZmZoFwQM3MzMzM/XFAMzMzMzN6c0CamZmZmfZ0QAAAAAAAc3ZAZmZmZmbvd0DNzMzMzGt5QDMzMzMz6HpAmpmZmZlkfEAAAAAAAOF9QGZmZmZmXX9AZmZmZuZsgECamZmZGSuBQM3MzMxM6YFAAAAAAICngkAzMzMzs2WDQGZmZmbmI4RAmpmZmRnihEDNzMzMTKCFQAAAAACAXoZAMzMzM7Mch0BmZmZm5tqHQJqZmZkZmYhAzczMzExXiUAAAAAAgBWKQDMzMzOz04pAZmZmZuaRi0CamZmZGVCMQM3MzMxMDo1AAAAAAIDMjUAzMzMzs4qOQGZmZmbmSI9A\",\"dtype\":\"float64\",\"shape\":[75]}},\"selected\":{\"id\":\"c010c641-4c56-4f39-a992-b004e72ea1ac\",\"type\":\"Selection\"},\"selection_policy\":{\"id\":\"ac6a9ac1-3678-4c47-aedd-58f48bcaa4d1\",\"type\":\"UnionRenderers\"}},\"id\":\"5dcb2a24-668e-4577-853f-6265ac4f2422\",\"type\":\"ColumnDataSource\"},{\"attributes\":{\"label\":{\"value\":\"CLIRAD\"},\"renderers\":[{\"id\":\"1a9497f1-eca2-40df-8c18-8a0bebd14123\",\"type\":\"GlyphRenderer\"}]},\"id\":\"e3e16dce-65a1-4f05-a564-0a63b716cc2e\",\"type\":\"LegendItem\"},{\"attributes\":{\"children\":[{\"id\":\"f33df47f-9699-44d2-bd5a-daccf3be0191\",\"type\":\"ToolbarBox\"},{\"id\":\"3ccbac6a-69cb-48b2-98b7-b00fd27562e9\",\"type\":\"Column\"}]},\"id\":\"1fd71559-4ff2-4013-ad46-cc39629d7491\",\"type\":\"Column\"},{\"attributes\":{\"plot\":null,\"text\":\"\"},\"id\":\"cd0e4259-adbf-494a-87fd-c4db827618b2\",\"type\":\"Title\"},{\"attributes\":{\"active_drag\":\"auto\",\"active_inspect\":\"auto\",\"active_scroll\":\"auto\",\"active_tap\":\"auto\",\"tools\":[{\"id\":\"fc5b89fb-d932-4fd0-be00-46936ab0c9e9\",\"type\":\"PanTool\"},{\"id\":\"8ff1b2ba-9408-43bd-9bd5-54f62e3b6794\",\"type\":\"WheelZoomTool\"},{\"id\":\"b9e28b27-a933-4e8e-9b64-81542da0e548\",\"type\":\"BoxZoomTool\"},{\"id\":\"e078307c-b442-43a0-bc69-8a3281c248e4\",\"type\":\"SaveTool\"},{\"id\":\"ddaf1935-35db-423b-b9f9-aef9096b03d6\",\"type\":\"ResetTool\"},{\"id\":\"7be905d2-b9fe-43c5-b8e8-1643d0365951\",\"type\":\"HelpTool\"}]},\"id\":\"dfe8379d-eccb-4cec-bdb2-e644cd642516\",\"type\":\"Toolbar\"},{\"attributes\":{\"fill_alpha\":{\"value\":0.1},\"fill_color\":{\"value\":\"#1f77b4\"},\"line_alpha\":{\"value\":0.1},\"line_color\":{\"value\":\"#1f77b4\"},\"x\":{\"field\":\"x\"},\"y\":{\"field\":\"y\"}},\"id\":\"03f8454d-6e6d-4078-9b72-f1714ca86240\",\"type\":\"Circle\"},{\"attributes\":{},\"id\":\"d7af7bb3-88f6-4039-a556-da42d370153c\",\"type\":\"BasicTicker\"},{\"attributes\":{\"items\":[{\"id\":\"e3e16dce-65a1-4f05-a564-0a63b716cc2e\",\"type\":\"LegendItem\"},{\"id\":\"a930b437-e41f-4db3-a817-64be89852a91\",\"type\":\"LegendItem\"}],\"label_text_font_size\":{\"value\":\"8pt\"},\"location\":\"top_center\",\"orientation\":\"horizontal\",\"plot\":{\"id\":\"43ee469a-a421-454a-87fd-24ea40da94ec\",\"subtype\":\"Figure\",\"type\":\"Plot\"}},\"id\":\"67a717c6-ad02-442c-aabe-8428db1bf854\",\"type\":\"Legend\"},{\"attributes\":{\"line_alpha\":0.6,\"line_color\":\"#e41a1c\",\"line_dash\":[6],\"line_width\":5,\"x\":{\"field\":\"x\"},\"y\":{\"field\":\"y\"}},\"id\":\"bf8d92d6-ca05-4ae4-ad2e-5a3c2288c383\",\"type\":\"Line\"},{\"attributes\":{\"line_alpha\":0.1,\"line_color\":\"#1f77b4\",\"line_width\":1.5,\"x\":{\"field\":\"x\"},\"y\":{\"field\":\"y\"}},\"id\":\"3b2fdc71-e108-44eb-8df8-a38ecb0547b6\",\"type\":\"Line\"},{\"attributes\":{\"axis_label\":\"pressure [mb]\",\"formatter\":{\"id\":\"77c9e3c3-0010-4778-afd8-521e1dff4d56\",\"type\":\"BasicTickFormatter\"},\"plot\":{\"id\":\"43ee469a-a421-454a-87fd-24ea40da94ec\",\"subtype\":\"Figure\",\"type\":\"Plot\"},\"ticker\":{\"id\":\"baa84426-4148-4dae-afb3-4ad3c2a33b8f\",\"type\":\"BasicTicker\"}},\"id\":\"74045d9e-aacf-49a4-a068-7758ea2bdb2d\",\"type\":\"LinearAxis\"},{\"attributes\":{\"line_alpha\":0.1,\"line_color\":\"#1f77b4\",\"line_width\":1.5,\"x\":{\"field\":\"x\"},\"y\":{\"field\":\"y\"}},\"id\":\"8711f37e-454e-4b13-ab4e-0e46bd753a8a\",\"type\":\"Line\"},{\"attributes\":{\"num_minor_ticks\":10},\"id\":\"f555df5a-68ae-4184-8636-edc222f74a0c\",\"type\":\"LogTicker\"},{\"attributes\":{\"overlay\":{\"id\":\"5b7de02c-3563-4e17-bce0-a32d2aca2f1f\",\"type\":\"BoxAnnotation\"}},\"id\":\"4e76f77d-9294-4e31-8ee9-df0718523626\",\"type\":\"BoxZoomTool\"},{\"attributes\":{\"plot\":{\"id\":\"4ddafd93-6b98-45f3-8f1b-cd995ecaea45\",\"subtype\":\"Figure\",\"type\":\"Plot\"},\"ticker\":{\"id\":\"ac353c3c-122d-44a6-af2f-57f48e75e7b7\",\"type\":\"BasicTicker\"}},\"id\":\"10eff8af-3c30-4c5f-af11-4e5db8f1df12\",\"type\":\"Grid\"},{\"attributes\":{\"fill_alpha\":{\"value\":0.1},\"fill_color\":{\"value\":\"#1f77b4\"},\"line_alpha\":{\"value\":0.1},\"line_color\":{\"value\":\"#1f77b4\"},\"x\":{\"field\":\"x\"},\"y\":{\"field\":\"y\"}},\"id\":\"adc2353f-4931-4eff-925b-907c9af45cfb\",\"type\":\"Circle\"},{\"attributes\":{},\"id\":\"5724c9de-fef1-45a2-a703-669b6f4654a2\",\"type\":\"Selection\"},{\"attributes\":{\"source\":{\"id\":\"9d9497df-874f-4a7a-b50b-f086110030f6\",\"type\":\"ColumnDataSource\"}},\"id\":\"791f34fe-931b-408a-9677-3ffa2f82d343\",\"type\":\"CDSView\"},{\"attributes\":{\"children\":[{\"id\":\"43ee469a-a421-454a-87fd-24ea40da94ec\",\"subtype\":\"Figure\",\"type\":\"Plot\"},{\"id\":\"4ddafd93-6b98-45f3-8f1b-cd995ecaea45\",\"subtype\":\"Figure\",\"type\":\"Plot\"},{\"id\":\"c6f46957-3080-4e3d-9400-1c47ee3afa43\",\"subtype\":\"Figure\",\"type\":\"Plot\"}]},\"id\":\"deb13d28-0a87-4257-b088-200d582961f7\",\"type\":\"Row\"},{\"attributes\":{\"label\":{\"value\":\"CLIRAD - CRD\"},\"renderers\":[{\"id\":\"ac33097c-63d6-44b5-9be2-5149ac027650\",\"type\":\"GlyphRenderer\"},{\"id\":\"8a6df1cf-c25b-4e4d-b8f5-00f77d4dd3b6\",\"type\":\"GlyphRenderer\"}]},\"id\":\"93aad56b-7d8d-4754-9d49-24de27bb6371\",\"type\":\"LegendItem\"},{\"attributes\":{\"bottom_units\":\"screen\",\"fill_alpha\":{\"value\":0.5},\"fill_color\":{\"value\":\"lightgrey\"},\"left_units\":\"screen\",\"level\":\"overlay\",\"line_alpha\":{\"value\":1.0},\"line_color\":{\"value\":\"black\"},\"line_dash\":[4,4],\"line_width\":{\"value\":2},\"plot\":null,\"render_mode\":\"css\",\"right_units\":\"screen\",\"top_units\":\"screen\"},\"id\":\"1519ea47-9dab-4e35-85b4-2e6d6790c2d8\",\"type\":\"BoxAnnotation\"},{\"attributes\":{},\"id\":\"15e66eea-90dc-4cc4-81af-d1e4948047ef\",\"type\":\"UnionRenderers\"},{\"attributes\":{},\"id\":\"a88b67ae-4846-4d81-b2be-267ff1ab33e3\",\"type\":\"Selection\"},{\"attributes\":{\"axis_label\":\"pressure [mb]\",\"formatter\":{\"id\":\"266015f8-4a50-4740-8844-e23cc3b6e65e\",\"type\":\"LogTickFormatter\"},\"plot\":{\"id\":\"4ddafd93-6b98-45f3-8f1b-cd995ecaea45\",\"subtype\":\"Figure\",\"type\":\"Plot\"},\"ticker\":{\"id\":\"081b347d-1ad7-4a91-8684-3ea23fe61615\",\"type\":\"LogTicker\"}},\"id\":\"f3d35df5-5352-4654-826d-53fa5c3fa039\",\"type\":\"LogAxis\"},{\"attributes\":{\"overlay\":{\"id\":\"a73c9458-87ba-49d0-b384-07c4369d46bd\",\"type\":\"BoxAnnotation\"}},\"id\":\"b9e28b27-a933-4e8e-9b64-81542da0e548\",\"type\":\"BoxZoomTool\"},{\"attributes\":{},\"id\":\"5470b937-af55-4b5b-9ec8-4cfc91f15d09\",\"type\":\"PanTool\"},{\"attributes\":{\"line_alpha\":0.1,\"line_color\":\"#1f77b4\",\"line_width\":1.5,\"x\":{\"field\":\"x\"},\"y\":{\"field\":\"y\"}},\"id\":\"277e4c73-9c53-46be-ac2b-f20db1a0aac9\",\"type\":\"Line\"},{\"attributes\":{\"source\":{\"id\":\"9130dc8a-fbf3-42df-b15c-dec9f67b96c3\",\"type\":\"ColumnDataSource\"}},\"id\":\"c79a2f52-9abb-40d1-bf8d-673d4df1df42\",\"type\":\"CDSView\"},{\"attributes\":{\"dimension\":1,\"plot\":{\"id\":\"c6f46957-3080-4e3d-9400-1c47ee3afa43\",\"subtype\":\"Figure\",\"type\":\"Plot\"},\"ticker\":{\"id\":\"f555df5a-68ae-4184-8636-edc222f74a0c\",\"type\":\"LogTicker\"}},\"id\":\"c1eef72a-8bd3-456f-9eb3-85f299ac9156\",\"type\":\"Grid\"},{\"attributes\":{},\"id\":\"c010c641-4c56-4f39-a992-b004e72ea1ac\",\"type\":\"Selection\"},{\"attributes\":{\"children\":[{\"id\":\"deb13d28-0a87-4257-b088-200d582961f7\",\"type\":\"Row\"}]},\"id\":\"3ccbac6a-69cb-48b2-98b7-b00fd27562e9\",\"type\":\"Column\"},{\"attributes\":{},\"id\":\"48e016b8-096d-4611-b03e-49c86a3b39e6\",\"type\":\"WheelZoomTool\"},{\"attributes\":{\"bottom_units\":\"screen\",\"fill_alpha\":{\"value\":0.5},\"fill_color\":{\"value\":\"lightgrey\"},\"left_units\":\"screen\",\"level\":\"overlay\",\"line_alpha\":{\"value\":1.0},\"line_color\":{\"value\":\"black\"},\"line_dash\":[4,4],\"line_width\":{\"value\":2},\"plot\":null,\"render_mode\":\"css\",\"right_units\":\"screen\",\"top_units\":\"screen\"},\"id\":\"5b7de02c-3563-4e17-bce0-a32d2aca2f1f\",\"type\":\"BoxAnnotation\"},{\"attributes\":{\"plot\":null,\"text\":\"\"},\"id\":\"35539dff-ad0b-45d3-9f99-d3df0eeef1dc\",\"type\":\"Title\"},{\"attributes\":{},\"id\":\"ee93329f-3723-4e9c-a5b9-56aef3006040\",\"type\":\"SaveTool\"},{\"attributes\":{},\"id\":\"8ff1b2ba-9408-43bd-9bd5-54f62e3b6794\",\"type\":\"WheelZoomTool\"},{\"attributes\":{\"plot\":null,\"text\":\"\"},\"id\":\"9ff3ac2b-0515-4cfd-ba1e-0da23fae2944\",\"type\":\"Title\"},{\"attributes\":{\"source\":{\"id\":\"5dcb2a24-668e-4577-853f-6265ac4f2422\",\"type\":\"ColumnDataSource\"}},\"id\":\"62ab4576-ce36-4a36-bb7a-060636732610\",\"type\":\"CDSView\"},{\"attributes\":{\"active_drag\":\"auto\",\"active_inspect\":\"auto\",\"active_scroll\":\"auto\",\"active_tap\":\"auto\",\"tools\":[{\"id\":\"48ced36f-488c-41dd-b4b2-c1f13c370adb\",\"type\":\"PanTool\"},{\"id\":\"8f625b15-c151-4ce2-ba3f-e46461a4c0b6\",\"type\":\"WheelZoomTool\"},{\"id\":\"4e76f77d-9294-4e31-8ee9-df0718523626\",\"type\":\"BoxZoomTool\"},{\"id\":\"b7aece49-c802-4b78-9222-10f7d224357d\",\"type\":\"SaveTool\"},{\"id\":\"593ef6c0-eabb-44d7-aeec-ce9b44d66342\",\"type\":\"ResetTool\"},{\"id\":\"076c123d-24e2-446a-ade9-5fee89bf6729\",\"type\":\"HelpTool\"}]},\"id\":\"36ee3464-e01b-4072-a621-e17cac5f76a7\",\"type\":\"Toolbar\"},{\"attributes\":{},\"id\":\"baa84426-4148-4dae-afb3-4ad3c2a33b8f\",\"type\":\"BasicTicker\"},{\"attributes\":{},\"id\":\"30438144-f881-477d-9277-7b88cb85e68d\",\"type\":\"UnionRenderers\"},{\"attributes\":{\"callback\":null,\"end\":0.26245586072739935,\"start\":-0.6652814455874},\"id\":\"f2201743-5b7b-4d9a-b809-90a8d5997475\",\"type\":\"Range1d\"},{\"attributes\":{\"callback\":null,\"data\":{\"x\":{\"__ndarray__\":\"PFRAK0htNsBV/Y+2a5bZP2EJqjxpYwRAxcRFvKjHBkArPwKTUV77P/ZnPmzppYK/yWOvcaF19L9bgjwG/ML5v7gXieK/cfO/vpZ9vnn/5L8vUlbN63PWvzwbN60vvtO/fptKJH7I2b99WqcsyojZv0okYLHyuNK/ZpZ8KuOHvb/kiga0apO4PzhevYYON9A/vgafI3RIzT+61ya09WOhv+c8FojK2da/gKv1P63b3b9ZkCsSpxzPv8oGBvxZLbC/RuNS5yJ9w7/GoBccTATNvwYTATc94HY/rQUzZaXtxz8mBz09uAPEPy+zkWKJ3K8/wmter5IKrT/QUn9BJ0GRv735DH8B0aG/cvHVvpAsqj+XDBQUIV6uP7vZ85jCjoi/TSwE8iZ7ob/O5qQ31XBgvzuOiBUil44/cLKTgxLUez+8MSLv1/xnP2yrN3oeWzQ/BtoWdKoUcb8/6cKTT2uGv6CuySSwo5K/Musd5HADmb8WzONZF/GdvzNYPEtJPJ+/lbZ4GF1Vn7/zgShU9wKdvw3Y8oqY6Ji/08QYH0GNlb9dPLR+FT6Pv/ExwEyCJIi/XICfXtlfd78v3xKUrFBmv2RhKlPOi1o/x1FfeDadcT/Q2H/ubfx7P2513GunP4I/iFjlzcFbhT+n3Z6M38eHP8oTaPYQO4c/XGmcvHaYiT+y2IHzoYSJP3j8T0XEqYk/Kpaf1rY8iD/dyRWJCo+JPzVc6w90O4g/LemwQIjkhT+63KV9SSSIP+rC1tmBVIc/niSL/kfbhT+7i7d+C0WKP9J3n8wHUIQ/\",\"dtype\":\"float64\",\"shape\":[75]},\"y\":{\"__ndarray__\":\"GhExyth1ND/Sv8nbtpRIP2vylNV0PVE/aTum7souWD/At0SJ8fVgPw3Iuahxymc/MSNhhJWvcD/bTfBN02d3P2zb5nxnaoA/CD5h5MAGhz8NmeH1TyaQP+zrCsc9p5Y/LbKd76fGnz/bLW5ISEmmPww9YvTcQq8/JV2OstnstT8Er5Y7M8G+P0c+r3jqkcU/5h99k6ZBzj88bCIzFzjVP4enV8oyxN0//yH99nXg5D8qOpLLf0jtP5kqGJXUifQ/c9cS8kHP/D+/DpwzojQEQIEmwoanVwxA4lgXt9HgE0BSSZ2AJuIbQAMJih9jjiNA5q4l5INuK0AwTKYKRj0zQNv5fmq8/DpAaCJseHrtQkB/+zpwzoxKQM3MzMzMeFJAZmZmZmZqWEAAAAAAAFxeQM3MzMzMJmJAmpmZmZkfZUBmZmZmZhhoQDMzMzMzEWtAAAAAAAAKbkBmZmZmZoFwQM3MzMzM/XFAMzMzMzN6c0CamZmZmfZ0QAAAAAAAc3ZAZmZmZmbvd0DNzMzMzGt5QDMzMzMz6HpAmpmZmZlkfEAAAAAAAOF9QGZmZmZmXX9AZmZmZuZsgECamZmZGSuBQM3MzMxM6YFAAAAAAICngkAzMzMzs2WDQGZmZmbmI4RAmpmZmRnihEDNzMzMTKCFQAAAAACAXoZAMzMzM7Mch0BmZmZm5tqHQJqZmZkZmYhAzczMzExXiUAAAAAAgBWKQDMzMzOz04pAZmZmZuaRi0CamZmZGVCMQM3MzMxMDo1AAAAAAIDMjUAzMzMzs4qOQGZmZmbmSI9A\",\"dtype\":\"float64\",\"shape\":[75]}},\"selected\":{\"id\":\"5003a3f4-e644-493a-ab8b-ae52ea175890\",\"type\":\"Selection\"},\"selection_policy\":{\"id\":\"2c1721cb-457f-49a0-91db-3977c4cd9dd9\",\"type\":\"UnionRenderers\"}},\"id\":\"9130dc8a-fbf3-42df-b15c-dec9f67b96c3\",\"type\":\"ColumnDataSource\"},{\"attributes\":{},\"id\":\"6656ee71-33ec-496b-ae09-291fda67b77f\",\"type\":\"UnionRenderers\"},{\"attributes\":{},\"id\":\"d3371da1-55bf-4d6a-afe2-3ae2d4fc59c9\",\"type\":\"Selection\"},{\"attributes\":{\"axis_label\":\"pressure [mb]\",\"formatter\":{\"id\":\"fb38dda8-f7cc-4fe9-a6b4-0c588e229657\",\"type\":\"LogTickFormatter\"},\"plot\":{\"id\":\"c6f46957-3080-4e3d-9400-1c47ee3afa43\",\"subtype\":\"Figure\",\"type\":\"Plot\"},\"ticker\":{\"id\":\"f555df5a-68ae-4184-8636-edc222f74a0c\",\"type\":\"LogTicker\"}},\"id\":\"920fc1ec-211e-4df6-8e6a-19e82b25dc77\",\"type\":\"LogAxis\"},{\"attributes\":{},\"id\":\"8f625b15-c151-4ce2-ba3f-e46461a4c0b6\",\"type\":\"WheelZoomTool\"},{\"attributes\":{},\"id\":\"64294c01-d750-49cb-8a17-cfc83b060272\",\"type\":\"LinearScale\"},{\"attributes\":{\"line_alpha\":0.8,\"line_color\":\"#984ea3\",\"line_width\":1.5,\"x\":{\"field\":\"x\"},\"y\":{\"field\":\"y\"}},\"id\":\"2f5292d6-975c-4a55-9d1e-f97d8bcbb3a9\",\"type\":\"Line\"},{\"attributes\":{\"data_source\":{\"id\":\"e41a2e79-2eee-441c-84ab-4977f15df647\",\"type\":\"ColumnDataSource\"},\"glyph\":{\"id\":\"0f3df888-1007-4ddd-92c4-87b12f230fa9\",\"type\":\"Circle\"},\"hover_glyph\":null,\"muted_glyph\":null,\"nonselection_glyph\":{\"id\":\"c02c1882-a899-480f-a710-5aae3c42247e\",\"type\":\"Circle\"},\"selection_glyph\":null,\"view\":{\"id\":\"68860a9f-9353-47b7-89b3-9078f8499aa6\",\"type\":\"CDSView\"}},\"id\":\"b091d43f-73f3-4407-a9fa-8052cc19430c\",\"type\":\"GlyphRenderer\"},{\"attributes\":{\"data_source\":{\"id\":\"9130dc8a-fbf3-42df-b15c-dec9f67b96c3\",\"type\":\"ColumnDataSource\"},\"glyph\":{\"id\":\"2f5292d6-975c-4a55-9d1e-f97d8bcbb3a9\",\"type\":\"Line\"},\"hover_glyph\":null,\"muted_glyph\":null,\"nonselection_glyph\":{\"id\":\"8711f37e-454e-4b13-ab4e-0e46bd753a8a\",\"type\":\"Line\"},\"selection_glyph\":null,\"view\":{\"id\":\"c79a2f52-9abb-40d1-bf8d-673d4df1df42\",\"type\":\"CDSView\"}},\"id\":\"8a6df1cf-c25b-4e4d-b8f5-00f77d4dd3b6\",\"type\":\"GlyphRenderer\"},{\"attributes\":{},\"id\":\"81ab1908-4a84-4046-a11c-6d889087b73e\",\"type\":\"UnionRenderers\"},{\"attributes\":{},\"id\":\"4f179b5b-ffed-4dde-ad51-e86c8ede7c41\",\"type\":\"BasicTickFormatter\"},{\"attributes\":{\"above\":[{\"id\":\"67a717c6-ad02-442c-aabe-8428db1bf854\",\"type\":\"Legend\"}],\"below\":[{\"id\":\"a0d59068-135b-49aa-b561-20ea02cdb154\",\"type\":\"LinearAxis\"}],\"left\":[{\"id\":\"74045d9e-aacf-49a4-a068-7758ea2bdb2d\",\"type\":\"LinearAxis\"}],\"plot_width\":300,\"renderers\":[{\"id\":\"a0d59068-135b-49aa-b561-20ea02cdb154\",\"type\":\"LinearAxis\"},{\"id\":\"35060239-3f34-4b78-834c-8d74f6ffc89c\",\"type\":\"Grid\"},{\"id\":\"74045d9e-aacf-49a4-a068-7758ea2bdb2d\",\"type\":\"LinearAxis\"},{\"id\":\"066a4022-cc1e-4f45-804e-e43afd4a4a0e\",\"type\":\"Grid\"},{\"id\":\"a73c9458-87ba-49d0-b384-07c4369d46bd\",\"type\":\"BoxAnnotation\"},{\"id\":\"1a9497f1-eca2-40df-8c18-8a0bebd14123\",\"type\":\"GlyphRenderer\"},{\"id\":\"0cf479e9-e975-4082-a95d-358f2ef5fb8c\",\"type\":\"GlyphRenderer\"},{\"id\":\"bac70c12-1096-4af0-a248-96ab96d64361\",\"type\":\"GlyphRenderer\"},{\"id\":\"67a717c6-ad02-442c-aabe-8428db1bf854\",\"type\":\"Legend\"}],\"title\":{\"id\":\"9ff3ac2b-0515-4cfd-ba1e-0da23fae2944\",\"type\":\"Title\"},\"toolbar\":{\"id\":\"dfe8379d-eccb-4cec-bdb2-e644cd642516\",\"type\":\"Toolbar\"},\"toolbar_location\":null,\"x_range\":{\"id\":\"b34f2e4a-41c5-4841-b11d-e2e1d5353152\",\"type\":\"Range1d\"},\"x_scale\":{\"id\":\"62fd234b-43aa-4023-b780-1e61cce6a688\",\"type\":\"LinearScale\"},\"y_range\":{\"id\":\"ed9b5161-5343-4abe-ae51-aa1f4c5f2d75\",\"type\":\"Range1d\"},\"y_scale\":{\"id\":\"2ec765f2-8f35-4f57-8c4f-843e0c5a9579\",\"type\":\"LinearScale\"}},\"id\":\"43ee469a-a421-454a-87fd-24ea40da94ec\",\"subtype\":\"Figure\",\"type\":\"Plot\"},{\"attributes\":{},\"id\":\"e078307c-b442-43a0-bc69-8a3281c248e4\",\"type\":\"SaveTool\"},{\"attributes\":{\"callback\":null,\"data\":{\"x\":{\"__ndarray__\":\"o3DNYzShS0BFiCLXBAlFQFQMZTSOPUJA8UFDwBbvPUAO9cVElxM3QHlGbOQgyDBAMj03SonsJ0BnD7n5b9YhQOw1ETSj8hxANuAZZXWuGEAP0fvJa5QUQB7Hw03uEhBAoSmFWCIPBkAKKAtMmZT0Px/LL6UHd+0/InrlQedK/z9Nj9Dn5awIQDJ/JNHmmw9AIsfhYKapEkBVMVsDu0EVQCqGxz9PaRlA4KtlAUKbIEAFR1574WUhQK3XzcBp7h1A+P+07DLfGEBuy/CWDZITQHzcv7iCuxBAJ9sQL9xnDUBg7uiae7MIQE5wlwRjDgRAy2xw4V52AEBkLx0KMjb5P0Ixqb9dG/M/qn14IBgI8D+7NQFOvDLjP6QXgGl3Jnc/xilm/uva178zJoROBhzRv3gP0+cwEZA/CRtC7lgEtD9RHNHbXhK9P34qhpk1msE/DhkrouuOwz8exiFv1K7EPx7rLUjzYsU/ivloEET1xT9seKvI4IPGP0FRRTVHYcc/lw+LOB1HyD8E03PPI2fJP0EN+66Ys8o/TDrOZ9zhyz/YTcvNaF7NPw3gzGJEkM4/KvhLShQQ0D8sBkBCB6vQP8iutbxsZ9E/vG8JQcQd0j/cEdiAzvTSPzEz08O2B9Q/Ooat0qhj1T8P3P5Mx6/WP3kI49mX4dY/rBPN30+t1T/Nj/9Fdq3TPyytbYsuEtI/Br2bn1N00T+81nYcXPbRPw7HC0Fb4NI/xlSh2CXW0z/DK9GbNvHUP5SVNIyPDtY/CAnxDi5t1z9c4jvjTLnZP5qD+Ikf5+E/\",\"dtype\":\"float64\",\"shape\":[75]},\"y\":{\"__ndarray__\":\"GhExyth1ND/Sv8nbtpRIP2vylNV0PVE/aTum7souWD/At0SJ8fVgPw3Iuahxymc/MSNhhJWvcD/bTfBN02d3P2zb5nxnaoA/CD5h5MAGhz8NmeH1TyaQP+zrCsc9p5Y/LbKd76fGnz/bLW5ISEmmPww9YvTcQq8/JV2OstnstT8Er5Y7M8G+P0c+r3jqkcU/5h99k6ZBzj88bCIzFzjVP4enV8oyxN0//yH99nXg5D8qOpLLf0jtP5kqGJXUifQ/c9cS8kHP/D+/DpwzojQEQIEmwoanVwxA4lgXt9HgE0BSSZ2AJuIbQAMJih9jjiNA5q4l5INuK0AwTKYKRj0zQNv5fmq8/DpAaCJseHrtQkB/+zpwzoxKQM3MzMzMeFJAZmZmZmZqWEAAAAAAAFxeQM3MzMzMJmJAmpmZmZkfZUBmZmZmZhhoQDMzMzMzEWtAAAAAAAAKbkBmZmZmZoFwQM3MzMzM/XFAMzMzMzN6c0CamZmZmfZ0QAAAAAAAc3ZAZmZmZmbvd0DNzMzMzGt5QDMzMzMz6HpAmpmZmZlkfEAAAAAAAOF9QGZmZmZmXX9AZmZmZuZsgECamZmZGSuBQM3MzMxM6YFAAAAAAICngkAzMzMzs2WDQGZmZmbmI4RAmpmZmRnihEDNzMzMTKCFQAAAAACAXoZAMzMzM7Mch0BmZmZm5tqHQJqZmZkZmYhAzczMzExXiUAAAAAAgBWKQDMzMzOz04pAZmZmZuaRi0CamZmZGVCMQM3MzMxMDo1AAAAAAIDMjUAzMzMzs4qOQGZmZmbmSI9A\",\"dtype\":\"float64\",\"shape\":[75]}},\"selected\":{\"id\":\"a88b67ae-4846-4d81-b2be-267ff1ab33e3\",\"type\":\"Selection\"},\"selection_policy\":{\"id\":\"6656ee71-33ec-496b-ae09-291fda67b77f\",\"type\":\"UnionRenderers\"}},\"id\":\"83fe4e26-d0cd-4b39-8dc8-ce9c485299f2\",\"type\":\"ColumnDataSource\"},{\"attributes\":{},\"id\":\"746027c9-b851-44ce-bb78-bf9ae2fee4c5\",\"type\":\"Selection\"},{\"attributes\":{\"dimension\":1,\"plot\":{\"id\":\"43ee469a-a421-454a-87fd-24ea40da94ec\",\"subtype\":\"Figure\",\"type\":\"Plot\"},\"ticker\":{\"id\":\"baa84426-4148-4dae-afb3-4ad3c2a33b8f\",\"type\":\"BasicTicker\"}},\"id\":\"066a4022-cc1e-4f45-804e-e43afd4a4a0e\",\"type\":\"Grid\"},{\"attributes\":{\"line_color\":\"#4daf4a\",\"line_width\":1.5,\"x\":{\"field\":\"x\"},\"y\":{\"field\":\"y\"}},\"id\":\"3cf7071b-e7d9-4fa8-bab7-5590fa9f1663\",\"type\":\"Line\"},{\"attributes\":{},\"id\":\"b7aece49-c802-4b78-9222-10f7d224357d\",\"type\":\"SaveTool\"},{\"attributes\":{\"data_source\":{\"id\":\"5dcb2a24-668e-4577-853f-6265ac4f2422\",\"type\":\"ColumnDataSource\"},\"glyph\":{\"id\":\"65a2dafd-7646-4440-9f49-cfd9faf16c1b\",\"type\":\"Circle\"},\"hover_glyph\":null,\"muted_glyph\":null,\"nonselection_glyph\":{\"id\":\"adc2353f-4931-4eff-925b-907c9af45cfb\",\"type\":\"Circle\"},\"selection_glyph\":null,\"view\":{\"id\":\"62ab4576-ce36-4a36-bb7a-060636732610\",\"type\":\"CDSView\"}},\"id\":\"ac33097c-63d6-44b5-9be2-5149ac027650\",\"type\":\"GlyphRenderer\"},{\"attributes\":{\"fill_alpha\":{\"value\":0.1},\"fill_color\":{\"value\":\"#1f77b4\"},\"line_alpha\":{\"value\":0.1},\"line_color\":{\"value\":\"#1f77b4\"},\"x\":{\"field\":\"x\"},\"y\":{\"field\":\"y\"}},\"id\":\"c02c1882-a899-480f-a710-5aae3c42247e\",\"type\":\"Circle\"},{\"attributes\":{\"data_source\":{\"id\":\"9d9497df-874f-4a7a-b50b-f086110030f6\",\"type\":\"ColumnDataSource\"},\"glyph\":{\"id\":\"3cf7071b-e7d9-4fa8-bab7-5590fa9f1663\",\"type\":\"Line\"},\"hover_glyph\":null,\"muted_glyph\":null,\"nonselection_glyph\":{\"id\":\"277e4c73-9c53-46be-ac2b-f20db1a0aac9\",\"type\":\"Line\"},\"selection_glyph\":null,\"view\":{\"id\":\"791f34fe-931b-408a-9677-3ffa2f82d343\",\"type\":\"CDSView\"}},\"id\":\"e087f070-5e60-47f9-b814-5912eda4d522\",\"type\":\"GlyphRenderer\"},{\"attributes\":{\"data_source\":{\"id\":\"f01f1f0d-a003-4041-9992-6662acdd87b1\",\"type\":\"ColumnDataSource\"},\"glyph\":{\"id\":\"065ca1e1-855a-4753-b6b9-dd06db441820\",\"type\":\"Line\"},\"hover_glyph\":null,\"muted_glyph\":null,\"nonselection_glyph\":{\"id\":\"f6deebc4-d205-40b1-9f00-ac4708958cd2\",\"type\":\"Line\"},\"selection_glyph\":null,\"view\":{\"id\":\"7545e118-b31b-4612-bae0-bc88d080aba6\",\"type\":\"CDSView\"}},\"id\":\"1a9497f1-eca2-40df-8c18-8a0bebd14123\",\"type\":\"GlyphRenderer\"},{\"attributes\":{},\"id\":\"77c9e3c3-0010-4778-afd8-521e1dff4d56\",\"type\":\"BasicTickFormatter\"},{\"attributes\":{},\"id\":\"48ced36f-488c-41dd-b4b2-c1f13c370adb\",\"type\":\"PanTool\"},{\"attributes\":{},\"id\":\"9bb012b3-1bd4-4095-8ac2-1f5264f05652\",\"type\":\"HelpTool\"},{\"attributes\":{\"ticker\":null},\"id\":\"fb38dda8-f7cc-4fe9-a6b4-0c588e229657\",\"type\":\"LogTickFormatter\"},{\"attributes\":{},\"id\":\"fc5b89fb-d932-4fd0-be00-46936ab0c9e9\",\"type\":\"PanTool\"},{\"attributes\":{\"bottom_units\":\"screen\",\"fill_alpha\":{\"value\":0.5},\"fill_color\":{\"value\":\"lightgrey\"},\"left_units\":\"screen\",\"level\":\"overlay\",\"line_alpha\":{\"value\":1.0},\"line_color\":{\"value\":\"black\"},\"line_dash\":[4,4],\"line_width\":{\"value\":2},\"plot\":null,\"render_mode\":\"css\",\"right_units\":\"screen\",\"top_units\":\"screen\"},\"id\":\"a73c9458-87ba-49d0-b384-07c4369d46bd\",\"type\":\"BoxAnnotation\"},{\"attributes\":{},\"id\":\"873daf71-3345-44ad-a099-a67b8d2f6eb6\",\"type\":\"Selection\"},{\"attributes\":{},\"id\":\"ac6a9ac1-3678-4c47-aedd-58f48bcaa4d1\",\"type\":\"UnionRenderers\"},{\"attributes\":{\"callback\":null,\"end\":0.01,\"start\":1020},\"id\":\"c1a73a40-8606-409b-98a5-7def74e9d834\",\"type\":\"Range1d\"},{\"attributes\":{\"source\":{\"id\":\"e41a2e79-2eee-441c-84ab-4977f15df647\",\"type\":\"ColumnDataSource\"}},\"id\":\"68860a9f-9353-47b7-89b3-9078f8499aa6\",\"type\":\"CDSView\"},{\"attributes\":{},\"id\":\"593ef6c0-eabb-44d7-aeec-ce9b44d66342\",\"type\":\"ResetTool\"},{\"attributes\":{},\"id\":\"076c123d-24e2-446a-ade9-5fee89bf6729\",\"type\":\"HelpTool\"},{\"attributes\":{\"dimension\":1,\"plot\":{\"id\":\"4ddafd93-6b98-45f3-8f1b-cd995ecaea45\",\"subtype\":\"Figure\",\"type\":\"Plot\"},\"ticker\":{\"id\":\"081b347d-1ad7-4a91-8684-3ea23fe61615\",\"type\":\"LogTicker\"}},\"id\":\"9a78a788-e900-4cbe-92f7-9daec416f456\",\"type\":\"Grid\"},{\"attributes\":{},\"id\":\"9a491eaa-a967-43bd-8c86-74d96e320e6c\",\"type\":\"BasicTicker\"},{\"attributes\":{\"plot\":{\"id\":\"43ee469a-a421-454a-87fd-24ea40da94ec\",\"subtype\":\"Figure\",\"type\":\"Plot\"},\"ticker\":{\"id\":\"9a491eaa-a967-43bd-8c86-74d96e320e6c\",\"type\":\"BasicTicker\"}},\"id\":\"35060239-3f34-4b78-834c-8d74f6ffc89c\",\"type\":\"Grid\"},{\"attributes\":{\"overlay\":{\"id\":\"1519ea47-9dab-4e35-85b4-2e6d6790c2d8\",\"type\":\"BoxAnnotation\"}},\"id\":\"1a3227b5-fa6f-413c-866f-ee51ddfb7a00\",\"type\":\"BoxZoomTool\"},{\"attributes\":{},\"id\":\"ddaf1935-35db-423b-b9f9-aef9096b03d6\",\"type\":\"ResetTool\"},{\"attributes\":{},\"id\":\"7be905d2-b9fe-43c5-b8e8-1643d0365951\",\"type\":\"HelpTool\"},{\"attributes\":{\"num_minor_ticks\":10},\"id\":\"081b347d-1ad7-4a91-8684-3ea23fe61615\",\"type\":\"LogTicker\"},{\"attributes\":{\"callback\":null,\"data\":{\"x\":{\"__ndarray__\":\"Ak0UGO5rU0DkDr+k4dVEQDUDNddX90BA0cN95CEWO0ACw9Iqsl01QHVY9cN1yjBA2/MjiT17KkC/3kuBzw4lQHeJSKqJ5yBALPSJnmROG0AXyqWfqvsVQGTJnUvRThFAnFYWaTRICUCIPDvn8Pb6P1QziI3nafM/sj5JR7mRAEDyWsNCTOgHQOnquS8GlQ1AbZjfMGO/EUAQUldBg2QVQA9ajbnr1hpAVhVwiB6KIUD0yvpvU+IhQOdtOc4eLx5AQyKb0ht7GUC+zU/0L3oUQFdnNK7KtRBA20mC3wHpC0Ao9K4bQHMHQC/US+LwjgNAhA7pmDQCAEC0ly+qNnv5PyS+pMzlqfM/eZEfJmdt7j9fNps12kzhP4aJSZ0BEZI/Uf2N0Iar1b/nCNV3JPvQv4yn2m/ws0g/CXQcshdHsj/AJIILeFK8PwFEKwMIkME/Xb6V75AXxD9Sb/hiiRXGP2gPAEhpt8c/uZeZKLIVyT8ltSCwA0LKP1UpJVvQSMs/FJJu2MgxzD88MxC3ggfNP3hBoL2r0M0/y49JiYSTzj+Z9VYjSlLPP0qKx0JGCdA/GPq8rpNt0D8CzH6aqNfQP13meO3gTNE/tfVCZk/X0T8t1SHI3ITSP9BUHIe5ddM/S9wYwsq41D8sXm9NiPHVP/3h306/J9Y/8S+6J4zg1D9GjPE1UeHSP4KWGWrgRNE/sIck6m2y0D+/oPrI4ynRP1HHy6B/HtI/Wn6GlgEn0z+uQ5hPFDDUPyGzDX3rU9U/xt6pzlO+1j858uaGJOfYPy7FVWXfleE/\",\"dtype\":\"float64\",\"shape\":[75]},\"y\":{\"__ndarray__\":\"GhExyth1ND/Sv8nbtpRIP2vylNV0PVE/aTum7souWD/At0SJ8fVgPw3Iuahxymc/MSNhhJWvcD/bTfBN02d3P2zb5nxnaoA/CD5h5MAGhz8NmeH1TyaQP+zrCsc9p5Y/LbKd76fGnz/bLW5ISEmmPww9YvTcQq8/JV2OstnstT8Er5Y7M8G+P0c+r3jqkcU/5h99k6ZBzj88bCIzFzjVP4enV8oyxN0//yH99nXg5D8qOpLLf0jtP5kqGJXUifQ/c9cS8kHP/D+/DpwzojQEQIEmwoanVwxA4lgXt9HgE0BSSZ2AJuIbQAMJih9jjiNA5q4l5INuK0AwTKYKRj0zQNv5fmq8/DpAaCJseHrtQkB/+zpwzoxKQM3MzMzMeFJAZmZmZmZqWEAAAAAAAFxeQM3MzMzMJmJAmpmZmZkfZUBmZmZmZhhoQDMzMzMzEWtAAAAAAAAKbkBmZmZmZoFwQM3MzMzM/XFAMzMzMzN6c0CamZmZmfZ0QAAAAAAAc3ZAZmZmZmbvd0DNzMzMzGt5QDMzMzMz6HpAmpmZmZlkfEAAAAAAAOF9QGZmZmZmXX9AZmZmZuZsgECamZmZGSuBQM3MzMxM6YFAAAAAAICngkAzMzMzs2WDQGZmZmbmI4RAmpmZmRnihEDNzMzMTKCFQAAAAACAXoZAMzMzM7Mch0BmZmZm5tqHQJqZmZkZmYhAzczMzExXiUAAAAAAgBWKQDMzMzOz04pAZmZmZuaRi0CamZmZGVCMQM3MzMxMDo1AAAAAAIDMjUAzMzMzs4qOQGZmZmbmSI9A\",\"dtype\":\"float64\",\"shape\":[75]}},\"selected\":{\"id\":\"5724c9de-fef1-45a2-a703-669b6f4654a2\",\"type\":\"Selection\"},\"selection_policy\":{\"id\":\"342df119-7e2c-40c1-9db6-6d27c50ec9ff\",\"type\":\"UnionRenderers\"}},\"id\":\"9d9497df-874f-4a7a-b50b-f086110030f6\",\"type\":\"ColumnDataSource\"},{\"attributes\":{},\"id\":\"227d6dfe-f8c6-4957-859d-2a9fc0a36f52\",\"type\":\"BasicTickFormatter\"},{\"attributes\":{\"callback\":null,\"data\":{\"x\":{\"__ndarray__\":\"Ak0UGO5rU0DkDr+k4dVEQDUDNddX90BA0cN95CEWO0ACw9Iqsl01QHVY9cN1yjBA2/MjiT17KkC/3kuBzw4lQHeJSKqJ5yBALPSJnmROG0AXyqWfqvsVQGTJnUvRThFAnFYWaTRICUCIPDvn8Pb6P1QziI3nafM/sj5JR7mRAEDyWsNCTOgHQOnquS8GlQ1AbZjfMGO/EUAQUldBg2QVQA9ajbnr1hpAVhVwiB6KIUD0yvpvU+IhQOdtOc4eLx5AQyKb0ht7GUC+zU/0L3oUQFdnNK7KtRBA20mC3wHpC0Ao9K4bQHMHQC/US+LwjgNAhA7pmDQCAEC0ly+qNnv5PyS+pMzlqfM/eZEfJmdt7j9fNps12kzhP4aJSZ0BEZI/Uf2N0Iar1b/nCNV3JPvQv4yn2m/ws0g/CXQcshdHsj/AJIILeFK8PwFEKwMIkME/Xb6V75AXxD9Sb/hiiRXGP2gPAEhpt8c/uZeZKLIVyT8ltSCwA0LKP1UpJVvQSMs/FJJu2MgxzD88MxC3ggfNP3hBoL2r0M0/y49JiYSTzj+Z9VYjSlLPP0qKx0JGCdA/GPq8rpNt0D8CzH6aqNfQP13meO3gTNE/tfVCZk/X0T8t1SHI3ITSP9BUHIe5ddM/S9wYwsq41D8sXm9NiPHVP/3h306/J9Y/8S+6J4zg1D9GjPE1UeHSP4KWGWrgRNE/sIck6m2y0D+/oPrI4ynRP1HHy6B/HtI/Wn6GlgEn0z+uQ5hPFDDUPyGzDX3rU9U/xt6pzlO+1j858uaGJOfYPy7FVWXfleE/\",\"dtype\":\"float64\",\"shape\":[75]},\"y\":{\"__ndarray__\":\"GhExyth1ND/Sv8nbtpRIP2vylNV0PVE/aTum7souWD/At0SJ8fVgPw3Iuahxymc/MSNhhJWvcD/bTfBN02d3P2zb5nxnaoA/CD5h5MAGhz8NmeH1TyaQP+zrCsc9p5Y/LbKd76fGnz/bLW5ISEmmPww9YvTcQq8/JV2OstnstT8Er5Y7M8G+P0c+r3jqkcU/5h99k6ZBzj88bCIzFzjVP4enV8oyxN0//yH99nXg5D8qOpLLf0jtP5kqGJXUifQ/c9cS8kHP/D+/DpwzojQEQIEmwoanVwxA4lgXt9HgE0BSSZ2AJuIbQAMJih9jjiNA5q4l5INuK0AwTKYKRj0zQNv5fmq8/DpAaCJseHrtQkB/+zpwzoxKQM3MzMzMeFJAZmZmZmZqWEAAAAAAAFxeQM3MzMzMJmJAmpmZmZkfZUBmZmZmZhhoQDMzMzMzEWtAAAAAAAAKbkBmZmZmZoFwQM3MzMzM/XFAMzMzMzN6c0CamZmZmfZ0QAAAAAAAc3ZAZmZmZmbvd0DNzMzMzGt5QDMzMzMz6HpAmpmZmZlkfEAAAAAAAOF9QGZmZmZmXX9AZmZmZuZsgECamZmZGSuBQM3MzMxM6YFAAAAAAICngkAzMzMzs2WDQGZmZmbmI4RAmpmZmRnihEDNzMzMTKCFQAAAAACAXoZAMzMzM7Mch0BmZmZm5tqHQJqZmZkZmYhAzczMzExXiUAAAAAAgBWKQDMzMzOz04pAZmZmZuaRi0CamZmZGVCMQM3MzMxMDo1AAAAAAIDMjUAzMzMzs4qOQGZmZmbmSI9A\",\"dtype\":\"float64\",\"shape\":[75]}},\"selected\":{\"id\":\"873daf71-3345-44ad-a099-a67b8d2f6eb6\",\"type\":\"Selection\"},\"selection_policy\":{\"id\":\"15e66eea-90dc-4cc4-81af-d1e4948047ef\",\"type\":\"UnionRenderers\"}},\"id\":\"2598980c-6870-42b0-9acd-f97cc0b9e49a\",\"type\":\"ColumnDataSource\"},{\"attributes\":{\"plot\":{\"id\":\"c6f46957-3080-4e3d-9400-1c47ee3afa43\",\"subtype\":\"Figure\",\"type\":\"Plot\"},\"ticker\":{\"id\":\"d7af7bb3-88f6-4039-a556-da42d370153c\",\"type\":\"BasicTicker\"}},\"id\":\"a6ee336e-8139-452e-8c76-cf2c51eb080a\",\"type\":\"Grid\"},{\"attributes\":{\"fill_alpha\":{\"value\":0.7},\"fill_color\":{\"value\":\"#4daf4a\"},\"line_alpha\":{\"value\":0.7},\"line_color\":{\"value\":\"#4daf4a\"},\"x\":{\"field\":\"x\"},\"y\":{\"field\":\"y\"}},\"id\":\"0f3df888-1007-4ddd-92c4-87b12f230fa9\",\"type\":\"Circle\"},{\"attributes\":{\"fill_alpha\":{\"value\":0.7},\"fill_color\":{\"value\":\"#984ea3\"},\"line_alpha\":{\"value\":0.7},\"line_color\":{\"value\":\"#984ea3\"},\"x\":{\"field\":\"x\"},\"y\":{\"field\":\"y\"}},\"id\":\"65a2dafd-7646-4440-9f49-cfd9faf16c1b\",\"type\":\"Circle\"},{\"attributes\":{\"label\":{\"value\":\"CRD\"},\"renderers\":[{\"id\":\"b091d43f-73f3-4407-a9fa-8052cc19430c\",\"type\":\"GlyphRenderer\"},{\"id\":\"e087f070-5e60-47f9-b814-5912eda4d522\",\"type\":\"GlyphRenderer\"}]},\"id\":\"1a36525b-d1b7-4ae8-b1ad-310b437e8f4a\",\"type\":\"LegendItem\"},{\"attributes\":{\"items\":[{\"id\":\"93aad56b-7d8d-4754-9d49-24de27bb6371\",\"type\":\"LegendItem\"}],\"label_text_font_size\":{\"value\":\"8pt\"},\"location\":\"top_center\",\"orientation\":\"horizontal\",\"plot\":{\"id\":\"c6f46957-3080-4e3d-9400-1c47ee3afa43\",\"subtype\":\"Figure\",\"type\":\"Plot\"}},\"id\":\"f749851f-42d3-4301-81f8-e9c29497eae8\",\"type\":\"Legend\"}],\"root_ids\":[\"1fd71559-4ff2-4013-ad46-cc39629d7491\"]},\"title\":\"Bokeh Application\",\"version\":\"0.12.16\"}};\n",
       "  var render_items = [{\"docid\":\"82dafa48-ab8d-45ce-b1a6-a69524178fc1\",\"elementid\":\"ca835d09-4423-4bdb-b293-4b9e40773193\",\"modelid\":\"1fd71559-4ff2-4013-ad46-cc39629d7491\"}];\n",
       "  root.Bokeh.embed.embed_items_notebook(docs_json, render_items);\n",
       "\n",
       "  }\n",
       "  if (root.Bokeh !== undefined) {\n",
       "    embed_document(root);\n",
       "  } else {\n",
       "    var attempts = 0;\n",
       "    var timer = setInterval(function(root) {\n",
       "      if (root.Bokeh !== undefined) {\n",
       "        embed_document(root);\n",
       "        clearInterval(timer);\n",
       "      }\n",
       "      attempts++;\n",
       "      if (attempts > 100) {\n",
       "        console.log(\"Bokeh: ERROR: Unable to run BokehJS code because BokehJS library is missing\")\n",
       "        clearInterval(timer);\n",
       "      }\n",
       "    }, 10, root)\n",
       "  }\n",
       "})(window);"
      ],
      "application/vnd.bokehjs_exec.v0+json": ""
     },
     "metadata": {
      "application/vnd.bokehjs_exec.v0+json": {
       "id": "1fd71559-4ff2-4013-ad46-cc39629d7491"
      }
     },
     "output_type": "display_data"
    },
    {
     "data": {
      "text/markdown": [
       "*FIGURE.* Cooling rates & difference."
      ],
      "text/plain": [
       "<IPython.core.display.Markdown object>"
      ]
     },
     "metadata": {},
     "output_type": "display_data"
    },
    {
     "data": {
      "text/html": [
       "<a id=\"Fluxes._trp.\"></a>"
      ],
      "text/plain": [
       "<IPython.core.display.HTML object>"
      ]
     },
     "metadata": {},
     "output_type": "display_data"
    },
    {
     "data": {
      "text/markdown": [
       "# Fluxes. trp."
      ],
      "text/plain": [
       "<IPython.core.display.Markdown object>"
      ]
     },
     "metadata": {},
     "output_type": "display_data"
    },
    {
     "data": {
      "text/html": [
       "\n",
       "<div class=\"bk-root\">\n",
       "    <div class=\"bk-plotdiv\" id=\"102634a0-c812-4180-a6e3-e0692495cb3b\"></div>\n",
       "</div>"
      ]
     },
     "metadata": {},
     "output_type": "display_data"
    },
    {
     "data": {
      "application/javascript": [
       "(function(root) {\n",
       "  function embed_document(root) {\n",
       "    \n",
       "  var docs_json = {\"de6a4a55-6028-4e02-8838-6d598cfbcb38\":{\"roots\":{\"references\":[{\"attributes\":{\"source\":{\"id\":\"d5d7ee30-48b2-4338-8c0f-8f53fa5ce2ec\",\"type\":\"ColumnDataSource\"}},\"id\":\"b61868bd-2a22-469c-8cdc-9ed4ca30de61\",\"type\":\"CDSView\"},{\"attributes\":{},\"id\":\"ae032558-bf83-420b-bdf3-ebc91a212400\",\"type\":\"Selection\"},{\"attributes\":{\"axis_label\":\"flux (W m-2)\",\"formatter\":{\"id\":\"db124f2d-4459-4a7d-8edd-d7fd4647fd3a\",\"type\":\"BasicTickFormatter\"},\"plot\":{\"id\":\"b6abb8b2-6641-4704-bf9f-e120e6989683\",\"subtype\":\"Figure\",\"type\":\"Plot\"},\"ticker\":{\"id\":\"f2c46459-cb21-4ec7-85f2-563f3c31447a\",\"type\":\"BasicTicker\"}},\"id\":\"e2915dff-7715-4460-b011-0b68709c4fd1\",\"type\":\"LinearAxis\"},{\"attributes\":{\"children\":[{\"id\":\"e975bf00-5934-4cc5-8705-549e3335d0ad\",\"subtype\":\"Figure\",\"type\":\"Plot\"},{\"id\":\"64a3304d-c443-43b0-8f7c-d10b42be6f67\",\"subtype\":\"Figure\",\"type\":\"Plot\"},{\"id\":\"b6abb8b2-6641-4704-bf9f-e120e6989683\",\"subtype\":\"Figure\",\"type\":\"Plot\"}]},\"id\":\"7f9632da-d570-4796-bcc2-92d0702a9cf4\",\"type\":\"Row\"},{\"attributes\":{},\"id\":\"309ec8de-c3fe-4b33-8d70-5e103321ea6e\",\"type\":\"LinearScale\"},{\"attributes\":{\"axis_label\":\"spectral band\",\"formatter\":{\"id\":\"e93da2ca-7ae8-46a9-82b9-458e06145b4d\",\"type\":\"CategoricalTickFormatter\"},\"plot\":{\"id\":\"64a3304d-c443-43b0-8f7c-d10b42be6f67\",\"subtype\":\"Figure\",\"type\":\"Plot\"},\"ticker\":{\"id\":\"2fdc2594-df78-4632-baf0-644351112c0a\",\"type\":\"CategoricalTicker\"}},\"id\":\"1c733a42-895f-4144-9550-28788b701ddf\",\"type\":\"CategoricalAxis\"},{\"attributes\":{},\"id\":\"4c5890cf-f6e8-4824-b689-102a1377cdd1\",\"type\":\"ResetTool\"},{\"attributes\":{},\"id\":\"3689d7bb-2b96-4a3d-9c50-ccc9d6d1196f\",\"type\":\"WheelZoomTool\"},{\"attributes\":{},\"id\":\"e93da2ca-7ae8-46a9-82b9-458e06145b4d\",\"type\":\"CategoricalTickFormatter\"},{\"attributes\":{\"fill_alpha\":{\"value\":0.1},\"fill_color\":{\"value\":\"#1f77b4\"},\"line_alpha\":{\"value\":0.1},\"line_color\":{\"value\":\"#1f77b4\"},\"top\":{\"field\":\"flux\"},\"width\":{\"value\":0.9},\"x\":{\"field\":\"band\"}},\"id\":\"91a6f23e-e274-467c-b1c5-a1a93cd9583a\",\"type\":\"VBar\"},{\"attributes\":{\"callback\":null},\"id\":\"eaf187ce-95a6-455e-9e92-04cad98e1c62\",\"type\":\"DataRange1d\"},{\"attributes\":{\"dimension\":1,\"plot\":{\"id\":\"b6abb8b2-6641-4704-bf9f-e120e6989683\",\"subtype\":\"Figure\",\"type\":\"Plot\"},\"ticker\":{\"id\":\"f2c46459-cb21-4ec7-85f2-563f3c31447a\",\"type\":\"BasicTicker\"}},\"id\":\"ec9f5d77-7f21-4a6c-bcb3-9517c47bba0f\",\"type\":\"Grid\"},{\"attributes\":{\"bottom_units\":\"screen\",\"fill_alpha\":{\"value\":0.5},\"fill_color\":{\"value\":\"lightgrey\"},\"left_units\":\"screen\",\"level\":\"overlay\",\"line_alpha\":{\"value\":1.0},\"line_color\":{\"value\":\"black\"},\"line_dash\":[4,4],\"line_width\":{\"value\":2},\"plot\":null,\"render_mode\":\"css\",\"right_units\":\"screen\",\"top_units\":\"screen\"},\"id\":\"234e9dea-1667-4cea-a7a1-b22124f68bea\",\"type\":\"BoxAnnotation\"},{\"attributes\":{},\"id\":\"a544a3b1-2080-44d7-81f1-42f918592c6f\",\"type\":\"BasicTicker\"},{\"attributes\":{\"dimension\":1,\"plot\":{\"id\":\"e975bf00-5934-4cc5-8705-549e3335d0ad\",\"subtype\":\"Figure\",\"type\":\"Plot\"},\"ticker\":{\"id\":\"a544a3b1-2080-44d7-81f1-42f918592c6f\",\"type\":\"BasicTicker\"}},\"id\":\"d6cfcc2d-3941-4a73-b65f-af99b3f52f65\",\"type\":\"Grid\"},{\"attributes\":{\"children\":[{\"id\":\"7f9632da-d570-4796-bcc2-92d0702a9cf4\",\"type\":\"Row\"}]},\"id\":\"54209659-1da9-4143-95de-a0c1d6cc7f06\",\"type\":\"Column\"},{\"attributes\":{\"dimension\":1,\"plot\":{\"id\":\"64a3304d-c443-43b0-8f7c-d10b42be6f67\",\"subtype\":\"Figure\",\"type\":\"Plot\"},\"ticker\":{\"id\":\"15b61c49-a3f4-4ca4-99d1-f36137557786\",\"type\":\"BasicTicker\"}},\"id\":\"b863a2e8-6ab8-4dfb-ae4d-fd05a162bbaa\",\"type\":\"Grid\"},{\"attributes\":{\"fill_alpha\":{\"value\":0.1},\"fill_color\":{\"value\":\"#1f77b4\"},\"line_alpha\":{\"value\":0.1},\"line_color\":{\"value\":\"#1f77b4\"},\"top\":{\"field\":\"flux\"},\"width\":{\"value\":0.9},\"x\":{\"field\":\"band\"}},\"id\":\"bea34af0-b20a-45bd-8d7b-9f132de796ad\",\"type\":\"VBar\"},{\"attributes\":{\"active_drag\":\"auto\",\"active_inspect\":\"auto\",\"active_scroll\":\"auto\",\"active_tap\":\"auto\",\"tools\":[{\"id\":\"8bcb2622-d439-4c6f-a2ba-76512e6784e7\",\"type\":\"PanTool\"},{\"id\":\"3689d7bb-2b96-4a3d-9c50-ccc9d6d1196f\",\"type\":\"WheelZoomTool\"},{\"id\":\"77e7546c-a67c-483d-a79b-c4bcb59b6faa\",\"type\":\"BoxZoomTool\"},{\"id\":\"eff28d77-68a4-4c86-bfff-dc6d45aa0baf\",\"type\":\"SaveTool\"},{\"id\":\"52927279-4f9e-4b9e-b65c-6e3283d0423e\",\"type\":\"ResetTool\"},{\"id\":\"f5a1ebdb-bc7f-446c-ae25-424e7e5dd8c8\",\"type\":\"HelpTool\"}]},\"id\":\"6b51db74-746f-4cff-be40-57060ace7695\",\"type\":\"Toolbar\"},{\"attributes\":{\"data_source\":{\"id\":\"64313b41-13f4-432f-856a-962b48cb4385\",\"type\":\"ColumnDataSource\"},\"glyph\":{\"id\":\"265edbd5-332e-441e-b520-613f5c0b56fb\",\"type\":\"VBar\"},\"hover_glyph\":null,\"muted_glyph\":null,\"nonselection_glyph\":{\"id\":\"f4fc1860-e7a3-4334-8251-02571474571f\",\"type\":\"VBar\"},\"selection_glyph\":null,\"view\":{\"id\":\"383480c4-913c-47cb-aabc-08a65d065e17\",\"type\":\"CDSView\"}},\"id\":\"37dbb95a-f2b7-4bf3-b5a8-e79d6e2e7c61\",\"type\":\"GlyphRenderer\"},{\"attributes\":{},\"id\":\"35671f74-7e8d-45a0-ba0c-fbc069848317\",\"type\":\"SaveTool\"},{\"attributes\":{\"callback\":null},\"id\":\"53c5d962-64ed-4bc0-97cb-f5f7215078a7\",\"type\":\"DataRange1d\"},{\"attributes\":{},\"id\":\"9f13fe4c-21bb-420f-943a-9ee39732d157\",\"type\":\"UnionRenderers\"},{\"attributes\":{\"data_source\":{\"id\":\"d248cd69-74f0-478a-9fc2-938e15b71831\",\"type\":\"ColumnDataSource\"},\"glyph\":{\"id\":\"d13feaea-f84f-4546-b9cb-fb1f72281d4e\",\"type\":\"VBar\"},\"hover_glyph\":null,\"muted_glyph\":null,\"nonselection_glyph\":{\"id\":\"91a6f23e-e274-467c-b1c5-a1a93cd9583a\",\"type\":\"VBar\"},\"selection_glyph\":null,\"view\":{\"id\":\"14ff94dc-4ed6-4682-84c5-29208bfa04cd\",\"type\":\"CDSView\"}},\"id\":\"40926309-e973-4058-87d3-eb6bfe11c5cb\",\"type\":\"GlyphRenderer\"},{\"attributes\":{},\"id\":\"b741b99d-69c3-4531-8d7d-a95e89b19a68\",\"type\":\"HelpTool\"},{\"attributes\":{},\"id\":\"94ddceb4-e999-44bb-8d24-dac8eb08e96a\",\"type\":\"CategoricalScale\"},{\"attributes\":{},\"id\":\"eb3e572f-2b2b-428b-b2a9-e13f9deb85eb\",\"type\":\"UnionRenderers\"},{\"attributes\":{\"axis_label\":\"spectral band\",\"formatter\":{\"id\":\"f3f0488b-7540-4f99-aca2-7fdf195a93ad\",\"type\":\"CategoricalTickFormatter\"},\"plot\":{\"id\":\"b6abb8b2-6641-4704-bf9f-e120e6989683\",\"subtype\":\"Figure\",\"type\":\"Plot\"},\"ticker\":{\"id\":\"c27bbbbe-5859-453c-9a35-df31e2769f7c\",\"type\":\"CategoricalTicker\"}},\"id\":\"7076a47b-d141-4c4d-8bb8-99aa451a91e5\",\"type\":\"CategoricalAxis\"},{\"attributes\":{\"callback\":null,\"data\":{\"band\":[\"3\",\"4\",\"5\",\"6\",\"7\",\"11\"],\"flux\":{\"__ndarray__\":\"AIBMa9PYvr+APQlszsHaP0D8brplh9c/AIBgVb38pr8ARBMoYhGjv4AmtWFekbk/\",\"dtype\":\"float64\",\"shape\":[6]}},\"selected\":{\"id\":\"7c3e2ec1-dc9d-41ba-913d-5257eda7f4b0\",\"type\":\"Selection\"},\"selection_policy\":{\"id\":\"1af8e616-63b4-4508-948b-0347d48761b4\",\"type\":\"UnionRenderers\"}},\"id\":\"d248cd69-74f0-478a-9fc2-938e15b71831\",\"type\":\"ColumnDataSource\"},{\"attributes\":{\"below\":[{\"id\":\"7076a47b-d141-4c4d-8bb8-99aa451a91e5\",\"type\":\"CategoricalAxis\"}],\"left\":[{\"id\":\"e2915dff-7715-4460-b011-0b68709c4fd1\",\"type\":\"LinearAxis\"}],\"plot_height\":300,\"plot_width\":300,\"renderers\":[{\"id\":\"7076a47b-d141-4c4d-8bb8-99aa451a91e5\",\"type\":\"CategoricalAxis\"},{\"id\":\"80656ddf-1784-4c7c-88c3-cfaabd4888f4\",\"type\":\"Grid\"},{\"id\":\"e2915dff-7715-4460-b011-0b68709c4fd1\",\"type\":\"LinearAxis\"},{\"id\":\"ec9f5d77-7f21-4a6c-bcb3-9517c47bba0f\",\"type\":\"Grid\"},{\"id\":\"c16564d5-71a5-42fb-b7f9-01764887d476\",\"type\":\"BoxAnnotation\"},{\"id\":\"37dbb95a-f2b7-4bf3-b5a8-e79d6e2e7c61\",\"type\":\"GlyphRenderer\"}],\"title\":{\"id\":\"3de04970-2079-4528-8e4d-d41f2adb3a86\",\"type\":\"Title\"},\"toolbar\":{\"id\":\"4cf7c00a-1144-43bd-888e-bf230e617faa\",\"type\":\"Toolbar\"},\"toolbar_location\":null,\"x_range\":{\"id\":\"8376f813-3f32-40ec-8761-caf3f6cfe018\",\"type\":\"FactorRange\"},\"x_scale\":{\"id\":\"94ddceb4-e999-44bb-8d24-dac8eb08e96a\",\"type\":\"CategoricalScale\"},\"y_range\":{\"id\":\"eaf187ce-95a6-455e-9e92-04cad98e1c62\",\"type\":\"DataRange1d\"},\"y_scale\":{\"id\":\"309ec8de-c3fe-4b33-8d70-5e103321ea6e\",\"type\":\"LinearScale\"}},\"id\":\"b6abb8b2-6641-4704-bf9f-e120e6989683\",\"subtype\":\"Figure\",\"type\":\"Plot\"},{\"attributes\":{\"plot\":{\"id\":\"b6abb8b2-6641-4704-bf9f-e120e6989683\",\"subtype\":\"Figure\",\"type\":\"Plot\"},\"ticker\":{\"id\":\"c27bbbbe-5859-453c-9a35-df31e2769f7c\",\"type\":\"CategoricalTicker\"}},\"id\":\"80656ddf-1784-4c7c-88c3-cfaabd4888f4\",\"type\":\"Grid\"},{\"attributes\":{\"below\":[{\"id\":\"1c733a42-895f-4144-9550-28788b701ddf\",\"type\":\"CategoricalAxis\"}],\"left\":[{\"id\":\"65af5f4c-63ff-441f-abb9-b111338bddbb\",\"type\":\"LinearAxis\"}],\"plot_height\":300,\"plot_width\":300,\"renderers\":[{\"id\":\"1c733a42-895f-4144-9550-28788b701ddf\",\"type\":\"CategoricalAxis\"},{\"id\":\"b128b2ca-e1ed-4635-a189-0e917d5ba906\",\"type\":\"Grid\"},{\"id\":\"65af5f4c-63ff-441f-abb9-b111338bddbb\",\"type\":\"LinearAxis\"},{\"id\":\"b863a2e8-6ab8-4dfb-ae4d-fd05a162bbaa\",\"type\":\"Grid\"},{\"id\":\"234e9dea-1667-4cea-a7a1-b22124f68bea\",\"type\":\"BoxAnnotation\"},{\"id\":\"0de6e555-1a77-4101-bcad-ec7ece28c04b\",\"type\":\"GlyphRenderer\"}],\"title\":{\"id\":\"8fbe0f39-5c66-4d9e-a0df-effd965b283c\",\"type\":\"Title\"},\"toolbar\":{\"id\":\"933ee1ef-26a1-4be6-8f91-da4d41cc34c2\",\"type\":\"Toolbar\"},\"toolbar_location\":null,\"x_range\":{\"id\":\"60d77eef-b1d1-43b8-ad1b-ddf8e2318449\",\"type\":\"FactorRange\"},\"x_scale\":{\"id\":\"c150dcd5-ed9b-4f6e-a0f4-8dab872387bc\",\"type\":\"CategoricalScale\"},\"y_range\":{\"id\":\"e8acf84b-a61c-4738-9f7b-ab2ca62d2b23\",\"type\":\"DataRange1d\"},\"y_scale\":{\"id\":\"9cd2f759-0bdb-416f-8710-3f5b16f6067b\",\"type\":\"LinearScale\"}},\"id\":\"64a3304d-c443-43b0-8f7c-d10b42be6f67\",\"subtype\":\"Figure\",\"type\":\"Plot\"},{\"attributes\":{\"fill_color\":{\"value\":\"#1f77b4\"},\"line_color\":{\"value\":\"#1f77b4\"},\"top\":{\"field\":\"flux\"},\"width\":{\"value\":0.9},\"x\":{\"field\":\"band\"}},\"id\":\"59c708f1-9dbd-424c-81e4-507c84feeda6\",\"type\":\"VBar\"},{\"attributes\":{\"overlay\":{\"id\":\"c16564d5-71a5-42fb-b7f9-01764887d476\",\"type\":\"BoxAnnotation\"}},\"id\":\"96a66993-4d89-4ea3-8374-191eb137e3e9\",\"type\":\"BoxZoomTool\"},{\"attributes\":{\"plot\":{\"id\":\"64a3304d-c443-43b0-8f7c-d10b42be6f67\",\"subtype\":\"Figure\",\"type\":\"Plot\"},\"ticker\":{\"id\":\"2fdc2594-df78-4632-baf0-644351112c0a\",\"type\":\"CategoricalTicker\"}},\"id\":\"b128b2ca-e1ed-4635-a189-0e917d5ba906\",\"type\":\"Grid\"},{\"attributes\":{\"fill_alpha\":{\"value\":0.1},\"fill_color\":{\"value\":\"#1f77b4\"},\"line_alpha\":{\"value\":0.1},\"line_color\":{\"value\":\"#1f77b4\"},\"top\":{\"field\":\"flux\"},\"width\":{\"value\":0.9},\"x\":{\"field\":\"band\"}},\"id\":\"f4fc1860-e7a3-4334-8251-02571474571f\",\"type\":\"VBar\"},{\"attributes\":{},\"id\":\"12328dcb-d5e5-4f05-89d3-bfb664d1b7c3\",\"type\":\"LinearScale\"},{\"attributes\":{},\"id\":\"7c7aad0c-3dfd-4341-aab1-f5433083eea4\",\"type\":\"BasicTickFormatter\"},{\"attributes\":{\"fill_color\":{\"value\":\"#1f77b4\"},\"line_color\":{\"value\":\"#1f77b4\"},\"top\":{\"field\":\"flux\"},\"width\":{\"value\":0.9},\"x\":{\"field\":\"band\"}},\"id\":\"d13feaea-f84f-4546-b9cb-fb1f72281d4e\",\"type\":\"VBar\"},{\"attributes\":{},\"id\":\"8bcb2622-d439-4c6f-a2ba-76512e6784e7\",\"type\":\"PanTool\"},{\"attributes\":{\"bottom_units\":\"screen\",\"fill_alpha\":{\"value\":0.5},\"fill_color\":{\"value\":\"lightgrey\"},\"left_units\":\"screen\",\"level\":\"overlay\",\"line_alpha\":{\"value\":1.0},\"line_color\":{\"value\":\"black\"},\"line_dash\":[4,4],\"line_width\":{\"value\":2},\"plot\":null,\"render_mode\":\"css\",\"right_units\":\"screen\",\"top_units\":\"screen\"},\"id\":\"b814df15-4a11-4878-9983-7e05f6ec565f\",\"type\":\"BoxAnnotation\"},{\"attributes\":{},\"id\":\"f2c46459-cb21-4ec7-85f2-563f3c31447a\",\"type\":\"BasicTicker\"},{\"attributes\":{\"below\":[{\"id\":\"33cbf44f-00ed-4448-869c-4a518dbf2087\",\"type\":\"CategoricalAxis\"}],\"left\":[{\"id\":\"58ab06ed-4b47-42b9-aeab-f0b84b5a4b67\",\"type\":\"LinearAxis\"}],\"plot_height\":300,\"plot_width\":300,\"renderers\":[{\"id\":\"33cbf44f-00ed-4448-869c-4a518dbf2087\",\"type\":\"CategoricalAxis\"},{\"id\":\"fddf760c-86ad-45b4-8adc-f028761a7987\",\"type\":\"Grid\"},{\"id\":\"58ab06ed-4b47-42b9-aeab-f0b84b5a4b67\",\"type\":\"LinearAxis\"},{\"id\":\"d6cfcc2d-3941-4a73-b65f-af99b3f52f65\",\"type\":\"Grid\"},{\"id\":\"b814df15-4a11-4878-9983-7e05f6ec565f\",\"type\":\"BoxAnnotation\"},{\"id\":\"40926309-e973-4058-87d3-eb6bfe11c5cb\",\"type\":\"GlyphRenderer\"}],\"title\":{\"id\":\"e560206d-f58e-428d-9887-f90e673a84d7\",\"type\":\"Title\"},\"toolbar\":{\"id\":\"6b51db74-746f-4cff-be40-57060ace7695\",\"type\":\"Toolbar\"},\"toolbar_location\":null,\"x_range\":{\"id\":\"b170c358-1dd9-4ea6-9dce-aec7acf809e2\",\"type\":\"FactorRange\"},\"x_scale\":{\"id\":\"9e89b190-6163-4a6d-9945-65a9b2edc403\",\"type\":\"CategoricalScale\"},\"y_range\":{\"id\":\"53c5d962-64ed-4bc0-97cb-f5f7215078a7\",\"type\":\"DataRange1d\"},\"y_scale\":{\"id\":\"12328dcb-d5e5-4f05-89d3-bfb664d1b7c3\",\"type\":\"LinearScale\"}},\"id\":\"e975bf00-5934-4cc5-8705-549e3335d0ad\",\"subtype\":\"Figure\",\"type\":\"Plot\"},{\"attributes\":{},\"id\":\"c89ac0e9-df4d-420b-b8e1-5a636deedc55\",\"type\":\"BasicTickFormatter\"},{\"attributes\":{},\"id\":\"7c3e2ec1-dc9d-41ba-913d-5257eda7f4b0\",\"type\":\"Selection\"},{\"attributes\":{},\"id\":\"52927279-4f9e-4b9e-b65c-6e3283d0423e\",\"type\":\"ResetTool\"},{\"attributes\":{},\"id\":\"1f92d8dc-5f9c-458b-a6c7-8e69e82f0082\",\"type\":\"CategoricalTickFormatter\"},{\"attributes\":{},\"id\":\"fdadd1d6-0aa2-4301-b992-39805033866d\",\"type\":\"Selection\"},{\"attributes\":{},\"id\":\"f5a1ebdb-bc7f-446c-ae25-424e7e5dd8c8\",\"type\":\"HelpTool\"},{\"attributes\":{\"source\":{\"id\":\"64313b41-13f4-432f-856a-962b48cb4385\",\"type\":\"ColumnDataSource\"}},\"id\":\"383480c4-913c-47cb-aabc-08a65d065e17\",\"type\":\"CDSView\"},{\"attributes\":{\"active_drag\":\"auto\",\"active_inspect\":\"auto\",\"active_scroll\":\"auto\",\"active_tap\":\"auto\",\"tools\":[{\"id\":\"7b4013d2-6f2c-46b2-aef4-04284472bbd2\",\"type\":\"PanTool\"},{\"id\":\"5252cec1-e7cf-4b42-aa1a-177c45f76791\",\"type\":\"WheelZoomTool\"},{\"id\":\"79754966-2109-4e0c-b48c-1f0d588d2ce7\",\"type\":\"BoxZoomTool\"},{\"id\":\"3f09cc3a-c465-4af6-8bc4-c4dc3541e6ad\",\"type\":\"SaveTool\"},{\"id\":\"4968cc0c-8b41-41ae-8c9f-be0ce47012e4\",\"type\":\"ResetTool\"},{\"id\":\"b741b99d-69c3-4531-8d7d-a95e89b19a68\",\"type\":\"HelpTool\"}]},\"id\":\"933ee1ef-26a1-4be6-8f91-da4d41cc34c2\",\"type\":\"Toolbar\"},{\"attributes\":{},\"id\":\"9e89b190-6163-4a6d-9945-65a9b2edc403\",\"type\":\"CategoricalScale\"},{\"attributes\":{},\"id\":\"7b4013d2-6f2c-46b2-aef4-04284472bbd2\",\"type\":\"PanTool\"},{\"attributes\":{\"callback\":null,\"factors\":[\"3\",\"4\",\"5\",\"6\",\"7\",\"11\"]},\"id\":\"b170c358-1dd9-4ea6-9dce-aec7acf809e2\",\"type\":\"FactorRange\"},{\"attributes\":{\"plot\":null,\"text\":\"SFC flux. CLIRAD - CRD.\"},\"id\":\"8fbe0f39-5c66-4d9e-a0df-effd965b283c\",\"type\":\"Title\"},{\"attributes\":{\"callback\":null,\"data\":{\"band\":[\"3\",\"4\",\"5\",\"6\",\"7\",\"11\"],\"flux\":{\"__ndarray__\":\"AIHR5c3hxL8Arq5UYX3UPwB+NnLdlL6/AGDeVQ+Ylz8A+DQnLzKRP4BQFfgvtbC/\",\"dtype\":\"float64\",\"shape\":[6]}},\"selected\":{\"id\":\"fdadd1d6-0aa2-4301-b992-39805033866d\",\"type\":\"Selection\"},\"selection_policy\":{\"id\":\"eb3e572f-2b2b-428b-b2a9-e13f9deb85eb\",\"type\":\"UnionRenderers\"}},\"id\":\"64313b41-13f4-432f-856a-962b48cb4385\",\"type\":\"ColumnDataSource\"},{\"attributes\":{},\"id\":\"e26a367c-c94b-4c05-900d-4f649379febb\",\"type\":\"WheelZoomTool\"},{\"attributes\":{\"plot\":{\"id\":\"e975bf00-5934-4cc5-8705-549e3335d0ad\",\"subtype\":\"Figure\",\"type\":\"Plot\"},\"ticker\":{\"id\":\"d70154e3-4766-4804-9152-936b8b22604f\",\"type\":\"CategoricalTicker\"}},\"id\":\"fddf760c-86ad-45b4-8adc-f028761a7987\",\"type\":\"Grid\"},{\"attributes\":{},\"id\":\"15b61c49-a3f4-4ca4-99d1-f36137557786\",\"type\":\"BasicTicker\"},{\"attributes\":{},\"id\":\"f4f9ce0e-d741-478e-9bfc-ac1b3766179e\",\"type\":\"PanTool\"},{\"attributes\":{},\"id\":\"5252cec1-e7cf-4b42-aa1a-177c45f76791\",\"type\":\"WheelZoomTool\"},{\"attributes\":{},\"id\":\"db124f2d-4459-4a7d-8edd-d7fd4647fd3a\",\"type\":\"BasicTickFormatter\"},{\"attributes\":{\"callback\":null,\"factors\":[\"3\",\"4\",\"5\",\"6\",\"7\",\"11\"]},\"id\":\"8376f813-3f32-40ec-8761-caf3f6cfe018\",\"type\":\"FactorRange\"},{\"attributes\":{\"plot\":null,\"text\":\"Atmosphere heating. CLIRAD - CRD.\"},\"id\":\"3de04970-2079-4528-8e4d-d41f2adb3a86\",\"type\":\"Title\"},{\"attributes\":{},\"id\":\"d70154e3-4766-4804-9152-936b8b22604f\",\"type\":\"CategoricalTicker\"},{\"attributes\":{\"axis_label\":\"flux (W m-2)\",\"formatter\":{\"id\":\"7c7aad0c-3dfd-4341-aab1-f5433083eea4\",\"type\":\"BasicTickFormatter\"},\"plot\":{\"id\":\"64a3304d-c443-43b0-8f7c-d10b42be6f67\",\"subtype\":\"Figure\",\"type\":\"Plot\"},\"ticker\":{\"id\":\"15b61c49-a3f4-4ca4-99d1-f36137557786\",\"type\":\"BasicTicker\"}},\"id\":\"65af5f4c-63ff-441f-abb9-b111338bddbb\",\"type\":\"LinearAxis\"},{\"attributes\":{\"axis_label\":\"flux (W m-2)\",\"formatter\":{\"id\":\"c89ac0e9-df4d-420b-b8e1-5a636deedc55\",\"type\":\"BasicTickFormatter\"},\"plot\":{\"id\":\"e975bf00-5934-4cc5-8705-549e3335d0ad\",\"subtype\":\"Figure\",\"type\":\"Plot\"},\"ticker\":{\"id\":\"a544a3b1-2080-44d7-81f1-42f918592c6f\",\"type\":\"BasicTicker\"}},\"id\":\"58ab06ed-4b47-42b9-aeab-f0b84b5a4b67\",\"type\":\"LinearAxis\"},{\"attributes\":{\"tools\":[{\"id\":\"8bcb2622-d439-4c6f-a2ba-76512e6784e7\",\"type\":\"PanTool\"},{\"id\":\"3689d7bb-2b96-4a3d-9c50-ccc9d6d1196f\",\"type\":\"WheelZoomTool\"},{\"id\":\"77e7546c-a67c-483d-a79b-c4bcb59b6faa\",\"type\":\"BoxZoomTool\"},{\"id\":\"eff28d77-68a4-4c86-bfff-dc6d45aa0baf\",\"type\":\"SaveTool\"},{\"id\":\"52927279-4f9e-4b9e-b65c-6e3283d0423e\",\"type\":\"ResetTool\"},{\"id\":\"f5a1ebdb-bc7f-446c-ae25-424e7e5dd8c8\",\"type\":\"HelpTool\"},{\"id\":\"7b4013d2-6f2c-46b2-aef4-04284472bbd2\",\"type\":\"PanTool\"},{\"id\":\"5252cec1-e7cf-4b42-aa1a-177c45f76791\",\"type\":\"WheelZoomTool\"},{\"id\":\"79754966-2109-4e0c-b48c-1f0d588d2ce7\",\"type\":\"BoxZoomTool\"},{\"id\":\"3f09cc3a-c465-4af6-8bc4-c4dc3541e6ad\",\"type\":\"SaveTool\"},{\"id\":\"4968cc0c-8b41-41ae-8c9f-be0ce47012e4\",\"type\":\"ResetTool\"},{\"id\":\"b741b99d-69c3-4531-8d7d-a95e89b19a68\",\"type\":\"HelpTool\"},{\"id\":\"f4f9ce0e-d741-478e-9bfc-ac1b3766179e\",\"type\":\"PanTool\"},{\"id\":\"e26a367c-c94b-4c05-900d-4f649379febb\",\"type\":\"WheelZoomTool\"},{\"id\":\"96a66993-4d89-4ea3-8374-191eb137e3e9\",\"type\":\"BoxZoomTool\"},{\"id\":\"35671f74-7e8d-45a0-ba0c-fbc069848317\",\"type\":\"SaveTool\"},{\"id\":\"4c5890cf-f6e8-4824-b689-102a1377cdd1\",\"type\":\"ResetTool\"},{\"id\":\"918b974c-5dd2-4618-ab9b-68c9d2b88e29\",\"type\":\"HelpTool\"}]},\"id\":\"dc00ad54-8bdd-4ae3-aa93-5e94fdabac9b\",\"type\":\"ProxyToolbar\"},{\"attributes\":{\"callback\":null,\"factors\":[\"3\",\"4\",\"5\",\"6\",\"7\",\"11\"]},\"id\":\"60d77eef-b1d1-43b8-ad1b-ddf8e2318449\",\"type\":\"FactorRange\"},{\"attributes\":{},\"id\":\"eff28d77-68a4-4c86-bfff-dc6d45aa0baf\",\"type\":\"SaveTool\"},{\"attributes\":{\"active_drag\":\"auto\",\"active_inspect\":\"auto\",\"active_scroll\":\"auto\",\"active_tap\":\"auto\",\"tools\":[{\"id\":\"f4f9ce0e-d741-478e-9bfc-ac1b3766179e\",\"type\":\"PanTool\"},{\"id\":\"e26a367c-c94b-4c05-900d-4f649379febb\",\"type\":\"WheelZoomTool\"},{\"id\":\"96a66993-4d89-4ea3-8374-191eb137e3e9\",\"type\":\"BoxZoomTool\"},{\"id\":\"35671f74-7e8d-45a0-ba0c-fbc069848317\",\"type\":\"SaveTool\"},{\"id\":\"4c5890cf-f6e8-4824-b689-102a1377cdd1\",\"type\":\"ResetTool\"},{\"id\":\"918b974c-5dd2-4618-ab9b-68c9d2b88e29\",\"type\":\"HelpTool\"}]},\"id\":\"4cf7c00a-1144-43bd-888e-bf230e617faa\",\"type\":\"Toolbar\"},{\"attributes\":{},\"id\":\"4968cc0c-8b41-41ae-8c9f-be0ce47012e4\",\"type\":\"ResetTool\"},{\"attributes\":{\"source\":{\"id\":\"d248cd69-74f0-478a-9fc2-938e15b71831\",\"type\":\"ColumnDataSource\"}},\"id\":\"14ff94dc-4ed6-4682-84c5-29208bfa04cd\",\"type\":\"CDSView\"},{\"attributes\":{\"overlay\":{\"id\":\"234e9dea-1667-4cea-a7a1-b22124f68bea\",\"type\":\"BoxAnnotation\"}},\"id\":\"79754966-2109-4e0c-b48c-1f0d588d2ce7\",\"type\":\"BoxZoomTool\"},{\"attributes\":{\"plot\":null,\"text\":\"TOA flux. CLIRAD - CRD.\"},\"id\":\"e560206d-f58e-428d-9887-f90e673a84d7\",\"type\":\"Title\"},{\"attributes\":{},\"id\":\"3f09cc3a-c465-4af6-8bc4-c4dc3541e6ad\",\"type\":\"SaveTool\"},{\"attributes\":{\"data_source\":{\"id\":\"d5d7ee30-48b2-4338-8c0f-8f53fa5ce2ec\",\"type\":\"ColumnDataSource\"},\"glyph\":{\"id\":\"59c708f1-9dbd-424c-81e4-507c84feeda6\",\"type\":\"VBar\"},\"hover_glyph\":null,\"muted_glyph\":null,\"nonselection_glyph\":{\"id\":\"bea34af0-b20a-45bd-8d7b-9f132de796ad\",\"type\":\"VBar\"},\"selection_glyph\":null,\"view\":{\"id\":\"b61868bd-2a22-469c-8cdc-9ed4ca30de61\",\"type\":\"CDSView\"}},\"id\":\"0de6e555-1a77-4101-bcad-ec7ece28c04b\",\"type\":\"GlyphRenderer\"},{\"attributes\":{\"fill_color\":{\"value\":\"#1f77b4\"},\"line_color\":{\"value\":\"#1f77b4\"},\"top\":{\"field\":\"flux\"},\"width\":{\"value\":0.9},\"x\":{\"field\":\"band\"}},\"id\":\"265edbd5-332e-441e-b520-613f5c0b56fb\",\"type\":\"VBar\"},{\"attributes\":{},\"id\":\"918b974c-5dd2-4618-ab9b-68c9d2b88e29\",\"type\":\"HelpTool\"},{\"attributes\":{\"overlay\":{\"id\":\"b814df15-4a11-4878-9983-7e05f6ec565f\",\"type\":\"BoxAnnotation\"}},\"id\":\"77e7546c-a67c-483d-a79b-c4bcb59b6faa\",\"type\":\"BoxZoomTool\"},{\"attributes\":{},\"id\":\"1af8e616-63b4-4508-948b-0347d48761b4\",\"type\":\"UnionRenderers\"},{\"attributes\":{},\"id\":\"f3f0488b-7540-4f99-aca2-7fdf195a93ad\",\"type\":\"CategoricalTickFormatter\"},{\"attributes\":{\"bottom_units\":\"screen\",\"fill_alpha\":{\"value\":0.5},\"fill_color\":{\"value\":\"lightgrey\"},\"left_units\":\"screen\",\"level\":\"overlay\",\"line_alpha\":{\"value\":1.0},\"line_color\":{\"value\":\"black\"},\"line_dash\":[4,4],\"line_width\":{\"value\":2},\"plot\":null,\"render_mode\":\"css\",\"right_units\":\"screen\",\"top_units\":\"screen\"},\"id\":\"c16564d5-71a5-42fb-b7f9-01764887d476\",\"type\":\"BoxAnnotation\"},{\"attributes\":{},\"id\":\"9cd2f759-0bdb-416f-8710-3f5b16f6067b\",\"type\":\"LinearScale\"},{\"attributes\":{\"callback\":null,\"data\":{\"band\":[\"3\",\"4\",\"5\",\"6\",\"7\",\"11\"],\"flux\":{\"__ndarray__\":\"AP7viArVpT8AOmVuvhG5P8Cb/BadLN8/4Kij42pksb/glooywKqrv7CO44dKI8U/\",\"dtype\":\"float64\",\"shape\":[6]}},\"selected\":{\"id\":\"ae032558-bf83-420b-bdf3-ebc91a212400\",\"type\":\"Selection\"},\"selection_policy\":{\"id\":\"9f13fe4c-21bb-420f-943a-9ee39732d157\",\"type\":\"UnionRenderers\"}},\"id\":\"d5d7ee30-48b2-4338-8c0f-8f53fa5ce2ec\",\"type\":\"ColumnDataSource\"},{\"attributes\":{\"children\":[{\"id\":\"8d775592-e292-4c75-97c7-f23d38f0d305\",\"type\":\"ToolbarBox\"},{\"id\":\"54209659-1da9-4143-95de-a0c1d6cc7f06\",\"type\":\"Column\"}]},\"id\":\"da9fdff9-ae3b-45b0-8ce3-8d15d1315b13\",\"type\":\"Column\"},{\"attributes\":{\"axis_label\":\"spectral band\",\"formatter\":{\"id\":\"1f92d8dc-5f9c-458b-a6c7-8e69e82f0082\",\"type\":\"CategoricalTickFormatter\"},\"plot\":{\"id\":\"e975bf00-5934-4cc5-8705-549e3335d0ad\",\"subtype\":\"Figure\",\"type\":\"Plot\"},\"ticker\":{\"id\":\"d70154e3-4766-4804-9152-936b8b22604f\",\"type\":\"CategoricalTicker\"}},\"id\":\"33cbf44f-00ed-4448-869c-4a518dbf2087\",\"type\":\"CategoricalAxis\"},{\"attributes\":{},\"id\":\"2fdc2594-df78-4632-baf0-644351112c0a\",\"type\":\"CategoricalTicker\"},{\"attributes\":{},\"id\":\"c150dcd5-ed9b-4f6e-a0f4-8dab872387bc\",\"type\":\"CategoricalScale\"},{\"attributes\":{\"toolbar\":{\"id\":\"dc00ad54-8bdd-4ae3-aa93-5e94fdabac9b\",\"type\":\"ProxyToolbar\"},\"toolbar_location\":\"above\"},\"id\":\"8d775592-e292-4c75-97c7-f23d38f0d305\",\"type\":\"ToolbarBox\"},{\"attributes\":{\"callback\":null},\"id\":\"e8acf84b-a61c-4738-9f7b-ab2ca62d2b23\",\"type\":\"DataRange1d\"},{\"attributes\":{},\"id\":\"c27bbbbe-5859-453c-9a35-df31e2769f7c\",\"type\":\"CategoricalTicker\"}],\"root_ids\":[\"da9fdff9-ae3b-45b0-8ce3-8d15d1315b13\"]},\"title\":\"Bokeh Application\",\"version\":\"0.12.16\"}};\n",
       "  var render_items = [{\"docid\":\"de6a4a55-6028-4e02-8838-6d598cfbcb38\",\"elementid\":\"102634a0-c812-4180-a6e3-e0692495cb3b\",\"modelid\":\"da9fdff9-ae3b-45b0-8ce3-8d15d1315b13\"}];\n",
       "  root.Bokeh.embed.embed_items_notebook(docs_json, render_items);\n",
       "\n",
       "  }\n",
       "  if (root.Bokeh !== undefined) {\n",
       "    embed_document(root);\n",
       "  } else {\n",
       "    var attempts = 0;\n",
       "    var timer = setInterval(function(root) {\n",
       "      if (root.Bokeh !== undefined) {\n",
       "        embed_document(root);\n",
       "        clearInterval(timer);\n",
       "      }\n",
       "      attempts++;\n",
       "      if (attempts > 100) {\n",
       "        console.log(\"Bokeh: ERROR: Unable to run BokehJS code because BokehJS library is missing\")\n",
       "        clearInterval(timer);\n",
       "      }\n",
       "    }, 10, root)\n",
       "  }\n",
       "})(window);"
      ],
      "application/vnd.bokehjs_exec.v0+json": ""
     },
     "metadata": {
      "application/vnd.bokehjs_exec.v0+json": {
       "id": "da9fdff9-ae3b-45b0-8ce3-8d15d1315b13"
      }
     },
     "output_type": "display_data"
    },
    {
     "data": {
      "text/markdown": [
       "*FIGURE.* Difference between CLIRAD and CRD in TOA, SFC and net atmosphere flux, in each spectral band."
      ],
      "text/plain": [
       "<IPython.core.display.Markdown object>"
      ]
     },
     "metadata": {},
     "output_type": "display_data"
    },
    {
     "data": {
      "text/html": [
       "<div>\n",
       "<style scoped>\n",
       "    .dataframe tbody tr th:only-of-type {\n",
       "        vertical-align: middle;\n",
       "    }\n",
       "\n",
       "    .dataframe tbody tr th {\n",
       "        vertical-align: top;\n",
       "    }\n",
       "\n",
       "    .dataframe thead th {\n",
       "        text-align: right;\n",
       "    }\n",
       "</style>\n",
       "<table border=\"1\" class=\"dataframe\">\n",
       "  <thead>\n",
       "    <tr style=\"text-align: right;\">\n",
       "      <th></th>\n",
       "      <th>OLR flux</th>\n",
       "      <th>SFC flux</th>\n",
       "      <th>ATM heating</th>\n",
       "    </tr>\n",
       "    <tr>\n",
       "      <th>Sum over bands</th>\n",
       "      <th></th>\n",
       "      <th></th>\n",
       "      <th></th>\n",
       "    </tr>\n",
       "  </thead>\n",
       "  <tbody>\n",
       "    <tr>\n",
       "      <th>CLIRAD - CRD</th>\n",
       "      <td>-227.54</td>\n",
       "      <td>0.67</td>\n",
       "      <td>0.01</td>\n",
       "    </tr>\n",
       "    <tr>\n",
       "      <th>CRD</th>\n",
       "      <td>-182.34</td>\n",
       "      <td>85.22</td>\n",
       "      <td>-36.52</td>\n",
       "    </tr>\n",
       "  </tbody>\n",
       "</table>\n",
       "</div>"
      ],
      "text/plain": [
       "                OLR flux  SFC flux  ATM heating\n",
       "Sum over bands                                 \n",
       "CLIRAD - CRD     -227.54      0.67         0.01\n",
       "CRD              -182.34     85.22       -36.52"
      ]
     },
     "metadata": {},
     "output_type": "display_data"
    },
    {
     "data": {
      "text/markdown": [
       "*TABLE.* Difference between CLIRAD and CRD in TOA, SFC and net atmosphere flux, over all spectral bands. CRD's TOA, SFC and net atmosphere flux, over all spectral bands."
      ],
      "text/plain": [
       "<IPython.core.display.Markdown object>"
      ]
     },
     "metadata": {},
     "output_type": "display_data"
    },
    {
     "data": {
      "text/html": [
       "Download: <a href=\"./results_co2atm_cliradsinglerun-Copy2.xlsx\">results_co2atm_cliradsinglerun-Copy2.xlsx</a>"
      ],
      "text/plain": [
       "<IPython.core.display.HTML object>"
      ]
     },
     "metadata": {},
     "output_type": "display_data"
    }
   ],
   "source": [
    "def script():\n",
    "    \n",
    "    d_atm = {'mls': 'mid-latitude summer',\n",
    "             'saw': 'sub-arctic winter',\n",
    "             'trp': 'tropical'}\n",
    "    \n",
    "    title = ('## Results over entire range of molecules'\n",
    "             ' and spectral bands')\n",
    "    \n",
    "    s_makeup = 'Makeup of atmosphere.'\n",
    "    s_atmpro = '# {}'\n",
    "    s_cool = 'Cooling rates. {}.'\n",
    "    s_flux = 'Fluxes. {}.'\n",
    "    \n",
    "    atmpros = ['mls', 'saw', 'trp']\n",
    "    \n",
    "    # TOC\n",
    "    show_markdown(title)\n",
    "    show_markdown('### Table of Contents')\n",
    "    show_html(climahtml.getHTML_hrefanchor(s_makeup))\n",
    "    for atmpro in atmpros:\n",
    "        show_markdown('**' + d_atm[atmpro] + '**')\n",
    "        show_html(climahtml.getHTML_hrefanchor(s_cool.format(atmpro)))\n",
    "        show_html(climahtml.getHTML_hrefanchor(s_flux.format(atmpro)))\n",
    "\n",
    "        \n",
    "    # Atmosphere makeup\n",
    "    show_html(climahtml.getHTML_idanchor(s_makeup))\n",
    "    show_markdown(climahtml.getMarkdown_sectitle(s_makeup))\n",
    "    show_makeup()\n",
    "#    show_grey_makeup()\n",
    "        \n",
    "    for atmpro in atmpros:\n",
    "        show_html(climahtml.getHTML_idanchor(s_cool.format(atmpro)))\n",
    "        show_markdown(\n",
    "            climahtml.getMarkdown_sectitle(s_cool.format(atmpro)))\n",
    "        show_cool(atmpro=atmpro)\n",
    "        show_html(climahtml.getHTML_idanchor(s_flux.format(atmpro)))\n",
    "        show_markdown(\n",
    "            climahtml.getMarkdown_sectitle(s_flux.format(atmpro)))\n",
    "        show_hist_flux(atmpro=atmpro)\n",
    "        show_tb_flux(atmpro=atmpro)\n",
    "    \n",
    "    script_tofile()\n",
    "    \n",
    "script()  "
   ]
  },
  {
   "cell_type": "code",
   "execution_count": null,
   "metadata": {
    "collapsed": true
   },
   "outputs": [],
   "source": []
  },
  {
   "cell_type": "code",
   "execution_count": 59,
   "metadata": {},
   "outputs": [
    {
     "data": {
      "text/html": [
       "<script>\n",
       "code_show=true; \n",
       "function code_toggle() {\n",
       " if (code_show){\n",
       " $('div.input').hide();\n",
       " } else {\n",
       " $('div.input').show();\n",
       " }\n",
       " code_show = !code_show\n",
       "} \n",
       "$( document ).ready(code_toggle);\n",
       "</script>\n",
       "<form action=\"javascript:code_toggle()\"><input type=\"submit\" value=\"Click here to toggle on/off the raw code.\"></form>"
      ],
      "text/plain": [
       "<IPython.core.display.HTML object>"
      ]
     },
     "execution_count": 59,
     "metadata": {},
     "output_type": "execute_result"
    }
   ],
   "source": [
    "display.HTML('''<script>\n",
    "code_show=true; \n",
    "function code_toggle() {\n",
    " if (code_show){\n",
    " $('div.input').hide();\n",
    " } else {\n",
    " $('div.input').show();\n",
    " }\n",
    " code_show = !code_show\n",
    "} \n",
    "$( document ).ready(code_toggle);\n",
    "</script>\n",
    "<form action=\"javascript:code_toggle()\"><input type=\"submit\" value=\"Click here to toggle on/off the raw code.\"></form>''')"
   ]
  },
  {
   "cell_type": "code",
   "execution_count": null,
   "metadata": {
    "collapsed": true
   },
   "outputs": [],
   "source": []
  }
 ],
 "metadata": {
  "kernelspec": {
   "display_name": "Python 3",
   "language": "python",
   "name": "python3"
  },
  "language_info": {
   "codemirror_mode": {
    "name": "ipython",
    "version": 3
   },
   "file_extension": ".py",
   "mimetype": "text/x-python",
   "name": "python",
   "nbconvert_exporter": "python",
   "pygments_lexer": "ipython3",
   "version": "3.6.7"
  }
 },
 "nbformat": 4,
 "nbformat_minor": 2
}
