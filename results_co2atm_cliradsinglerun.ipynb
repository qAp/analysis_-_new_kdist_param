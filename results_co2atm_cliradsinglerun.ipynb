{
 "cells": [
  {
   "cell_type": "code",
   "execution_count": 109,
   "metadata": {
    "collapsed": true
   },
   "outputs": [],
   "source": [
    "%reload_ext autoreload\n",
    "%autoreload 2\n",
    "\n",
    "import os\n",
    "import io\n",
    "import ast\n",
    "import json\n",
    "import importlib \n",
    "import itertools\n",
    "import collections\n",
    "import pprint\n",
    "\n",
    "import pymongo\n",
    "\n",
    "from bokeh.io import output_notebook, show\n",
    "from bokeh.layouts import gridplot\n",
    "from bokeh.plotting import figure\n",
    "from bokeh.models import Range1d, Legend, ColumnDataSource, FactorRange\n",
    "from bokeh.palettes import all_palettes\n",
    "from bokeh.transform import factor_cmap\n",
    "\n",
    "import matplotlib\n",
    "import matplotlib.pyplot as plt\n",
    "import numpy as np\n",
    "import pandas as pd\n",
    "import xarray as xr\n",
    "\n",
    "from climatools.atm.absorbers import *\n",
    "\n",
    "import climatools.lblnew.bestfit_params as bestfits\n",
    "from climatools.lblnew import setup_bestfit, setup_overlap\n",
    "import climatools.lblnew.pipeline as pipe_lblnew\n",
    "\n",
    "from climatools.cliradlw.utils import *\n",
    "import climatools.cliradlw.setup as setup_cliradlw\n",
    "import climatools.cliradlw.pipeline as pipe_cliradlw\n",
    "from climatools.cliradlw.dataset import *\n",
    "\n",
    "import climatools.html.html as climahtml\n",
    "from climatools.lblnew.dataio import *\n",
    "from climatools.plot.plot import *\n",
    "\n",
    "from IPython import display"
   ]
  },
  {
   "cell_type": "code",
   "execution_count": 110,
   "metadata": {
    "scrolled": true
   },
   "outputs": [
    {
     "data": {
      "text/html": [
       "\n",
       "    <div class=\"bk-root\">\n",
       "        <a href=\"https://bokeh.pydata.org\" target=\"_blank\" class=\"bk-logo bk-logo-small bk-logo-notebook\"></a>\n",
       "        <span id=\"40c0b308-3033-4ea4-a6d5-0db811c61841\">Loading BokehJS ...</span>\n",
       "    </div>"
      ]
     },
     "metadata": {},
     "output_type": "display_data"
    },
    {
     "data": {
      "application/javascript": [
       "\n",
       "(function(root) {\n",
       "  function now() {\n",
       "    return new Date();\n",
       "  }\n",
       "\n",
       "  var force = true;\n",
       "\n",
       "  if (typeof (root._bokeh_onload_callbacks) === \"undefined\" || force === true) {\n",
       "    root._bokeh_onload_callbacks = [];\n",
       "    root._bokeh_is_loading = undefined;\n",
       "  }\n",
       "\n",
       "  var JS_MIME_TYPE = 'application/javascript';\n",
       "  var HTML_MIME_TYPE = 'text/html';\n",
       "  var EXEC_MIME_TYPE = 'application/vnd.bokehjs_exec.v0+json';\n",
       "  var CLASS_NAME = 'output_bokeh rendered_html';\n",
       "\n",
       "  /**\n",
       "   * Render data to the DOM node\n",
       "   */\n",
       "  function render(props, node) {\n",
       "    var script = document.createElement(\"script\");\n",
       "    node.appendChild(script);\n",
       "  }\n",
       "\n",
       "  /**\n",
       "   * Handle when an output is cleared or removed\n",
       "   */\n",
       "  function handleClearOutput(event, handle) {\n",
       "    var cell = handle.cell;\n",
       "\n",
       "    var id = cell.output_area._bokeh_element_id;\n",
       "    var server_id = cell.output_area._bokeh_server_id;\n",
       "    // Clean up Bokeh references\n",
       "    if (id !== undefined) {\n",
       "      Bokeh.index[id].model.document.clear();\n",
       "      delete Bokeh.index[id];\n",
       "    }\n",
       "\n",
       "    if (server_id !== undefined) {\n",
       "      // Clean up Bokeh references\n",
       "      var cmd = \"from bokeh.io.state import curstate; print(curstate().uuid_to_server['\" + server_id + \"'].get_sessions()[0].document.roots[0]._id)\";\n",
       "      cell.notebook.kernel.execute(cmd, {\n",
       "        iopub: {\n",
       "          output: function(msg) {\n",
       "            var element_id = msg.content.text.trim();\n",
       "            Bokeh.index[element_id].model.document.clear();\n",
       "            delete Bokeh.index[element_id];\n",
       "          }\n",
       "        }\n",
       "      });\n",
       "      // Destroy server and session\n",
       "      var cmd = \"import bokeh.io.notebook as ion; ion.destroy_server('\" + server_id + \"')\";\n",
       "      cell.notebook.kernel.execute(cmd);\n",
       "    }\n",
       "  }\n",
       "\n",
       "  /**\n",
       "   * Handle when a new output is added\n",
       "   */\n",
       "  function handleAddOutput(event, handle) {\n",
       "    var output_area = handle.output_area;\n",
       "    var output = handle.output;\n",
       "\n",
       "    // limit handleAddOutput to display_data with EXEC_MIME_TYPE content only\n",
       "    if ((output.output_type != \"display_data\") || (!output.data.hasOwnProperty(EXEC_MIME_TYPE))) {\n",
       "      return\n",
       "    }\n",
       "\n",
       "    var toinsert = output_area.element.find(\".\" + CLASS_NAME.split(' ')[0]);\n",
       "\n",
       "    if (output.metadata[EXEC_MIME_TYPE][\"id\"] !== undefined) {\n",
       "      toinsert[toinsert.length - 1].firstChild.textContent = output.data[JS_MIME_TYPE];\n",
       "      // store reference to embed id on output_area\n",
       "      output_area._bokeh_element_id = output.metadata[EXEC_MIME_TYPE][\"id\"];\n",
       "    }\n",
       "    if (output.metadata[EXEC_MIME_TYPE][\"server_id\"] !== undefined) {\n",
       "      var bk_div = document.createElement(\"div\");\n",
       "      bk_div.innerHTML = output.data[HTML_MIME_TYPE];\n",
       "      var script_attrs = bk_div.children[0].attributes;\n",
       "      for (var i = 0; i < script_attrs.length; i++) {\n",
       "        toinsert[toinsert.length - 1].firstChild.setAttribute(script_attrs[i].name, script_attrs[i].value);\n",
       "      }\n",
       "      // store reference to server id on output_area\n",
       "      output_area._bokeh_server_id = output.metadata[EXEC_MIME_TYPE][\"server_id\"];\n",
       "    }\n",
       "  }\n",
       "\n",
       "  function register_renderer(events, OutputArea) {\n",
       "\n",
       "    function append_mime(data, metadata, element) {\n",
       "      // create a DOM node to render to\n",
       "      var toinsert = this.create_output_subarea(\n",
       "        metadata,\n",
       "        CLASS_NAME,\n",
       "        EXEC_MIME_TYPE\n",
       "      );\n",
       "      this.keyboard_manager.register_events(toinsert);\n",
       "      // Render to node\n",
       "      var props = {data: data, metadata: metadata[EXEC_MIME_TYPE]};\n",
       "      render(props, toinsert[toinsert.length - 1]);\n",
       "      element.append(toinsert);\n",
       "      return toinsert\n",
       "    }\n",
       "\n",
       "    /* Handle when an output is cleared or removed */\n",
       "    events.on('clear_output.CodeCell', handleClearOutput);\n",
       "    events.on('delete.Cell', handleClearOutput);\n",
       "\n",
       "    /* Handle when a new output is added */\n",
       "    events.on('output_added.OutputArea', handleAddOutput);\n",
       "\n",
       "    /**\n",
       "     * Register the mime type and append_mime function with output_area\n",
       "     */\n",
       "    OutputArea.prototype.register_mime_type(EXEC_MIME_TYPE, append_mime, {\n",
       "      /* Is output safe? */\n",
       "      safe: true,\n",
       "      /* Index of renderer in `output_area.display_order` */\n",
       "      index: 0\n",
       "    });\n",
       "  }\n",
       "\n",
       "  // register the mime type if in Jupyter Notebook environment and previously unregistered\n",
       "  if (root.Jupyter !== undefined) {\n",
       "    var events = require('base/js/events');\n",
       "    var OutputArea = require('notebook/js/outputarea').OutputArea;\n",
       "\n",
       "    if (OutputArea.prototype.mime_types().indexOf(EXEC_MIME_TYPE) == -1) {\n",
       "      register_renderer(events, OutputArea);\n",
       "    }\n",
       "  }\n",
       "\n",
       "  \n",
       "  if (typeof (root._bokeh_timeout) === \"undefined\" || force === true) {\n",
       "    root._bokeh_timeout = Date.now() + 5000;\n",
       "    root._bokeh_failed_load = false;\n",
       "  }\n",
       "\n",
       "  var NB_LOAD_WARNING = {'data': {'text/html':\n",
       "     \"<div style='background-color: #fdd'>\\n\"+\n",
       "     \"<p>\\n\"+\n",
       "     \"BokehJS does not appear to have successfully loaded. If loading BokehJS from CDN, this \\n\"+\n",
       "     \"may be due to a slow or bad network connection. Possible fixes:\\n\"+\n",
       "     \"</p>\\n\"+\n",
       "     \"<ul>\\n\"+\n",
       "     \"<li>re-rerun `output_notebook()` to attempt to load from CDN again, or</li>\\n\"+\n",
       "     \"<li>use INLINE resources instead, as so:</li>\\n\"+\n",
       "     \"</ul>\\n\"+\n",
       "     \"<code>\\n\"+\n",
       "     \"from bokeh.resources import INLINE\\n\"+\n",
       "     \"output_notebook(resources=INLINE)\\n\"+\n",
       "     \"</code>\\n\"+\n",
       "     \"</div>\"}};\n",
       "\n",
       "  function display_loaded() {\n",
       "    var el = document.getElementById(\"40c0b308-3033-4ea4-a6d5-0db811c61841\");\n",
       "    if (el != null) {\n",
       "      el.textContent = \"BokehJS is loading...\";\n",
       "    }\n",
       "    if (root.Bokeh !== undefined) {\n",
       "      if (el != null) {\n",
       "        el.textContent = \"BokehJS \" + root.Bokeh.version + \" successfully loaded.\";\n",
       "      }\n",
       "    } else if (Date.now() < root._bokeh_timeout) {\n",
       "      setTimeout(display_loaded, 100)\n",
       "    }\n",
       "  }\n",
       "\n",
       "\n",
       "  function run_callbacks() {\n",
       "    try {\n",
       "      root._bokeh_onload_callbacks.forEach(function(callback) { callback() });\n",
       "    }\n",
       "    finally {\n",
       "      delete root._bokeh_onload_callbacks\n",
       "    }\n",
       "    console.info(\"Bokeh: all callbacks have finished\");\n",
       "  }\n",
       "\n",
       "  function load_libs(js_urls, callback) {\n",
       "    root._bokeh_onload_callbacks.push(callback);\n",
       "    if (root._bokeh_is_loading > 0) {\n",
       "      console.log(\"Bokeh: BokehJS is being loaded, scheduling callback at\", now());\n",
       "      return null;\n",
       "    }\n",
       "    if (js_urls == null || js_urls.length === 0) {\n",
       "      run_callbacks();\n",
       "      return null;\n",
       "    }\n",
       "    console.log(\"Bokeh: BokehJS not loaded, scheduling load and callback at\", now());\n",
       "    root._bokeh_is_loading = js_urls.length;\n",
       "    for (var i = 0; i < js_urls.length; i++) {\n",
       "      var url = js_urls[i];\n",
       "      var s = document.createElement('script');\n",
       "      s.src = url;\n",
       "      s.async = false;\n",
       "      s.onreadystatechange = s.onload = function() {\n",
       "        root._bokeh_is_loading--;\n",
       "        if (root._bokeh_is_loading === 0) {\n",
       "          console.log(\"Bokeh: all BokehJS libraries loaded\");\n",
       "          run_callbacks()\n",
       "        }\n",
       "      };\n",
       "      s.onerror = function() {\n",
       "        console.warn(\"failed to load library \" + url);\n",
       "      };\n",
       "      console.log(\"Bokeh: injecting script tag for BokehJS library: \", url);\n",
       "      document.getElementsByTagName(\"head\")[0].appendChild(s);\n",
       "    }\n",
       "  };var element = document.getElementById(\"40c0b308-3033-4ea4-a6d5-0db811c61841\");\n",
       "  if (element == null) {\n",
       "    console.log(\"Bokeh: ERROR: autoload.js configured with elementid '40c0b308-3033-4ea4-a6d5-0db811c61841' but no matching script tag was found. \")\n",
       "    return false;\n",
       "  }\n",
       "\n",
       "  var js_urls = [\"https://cdn.pydata.org/bokeh/release/bokeh-0.12.16.min.js\", \"https://cdn.pydata.org/bokeh/release/bokeh-widgets-0.12.16.min.js\", \"https://cdn.pydata.org/bokeh/release/bokeh-tables-0.12.16.min.js\", \"https://cdn.pydata.org/bokeh/release/bokeh-gl-0.12.16.min.js\"];\n",
       "\n",
       "  var inline_js = [\n",
       "    function(Bokeh) {\n",
       "      Bokeh.set_log_level(\"info\");\n",
       "    },\n",
       "    \n",
       "    function(Bokeh) {\n",
       "      \n",
       "    },\n",
       "    function(Bokeh) {\n",
       "      console.log(\"Bokeh: injecting CSS: https://cdn.pydata.org/bokeh/release/bokeh-0.12.16.min.css\");\n",
       "      Bokeh.embed.inject_css(\"https://cdn.pydata.org/bokeh/release/bokeh-0.12.16.min.css\");\n",
       "      console.log(\"Bokeh: injecting CSS: https://cdn.pydata.org/bokeh/release/bokeh-widgets-0.12.16.min.css\");\n",
       "      Bokeh.embed.inject_css(\"https://cdn.pydata.org/bokeh/release/bokeh-widgets-0.12.16.min.css\");\n",
       "      console.log(\"Bokeh: injecting CSS: https://cdn.pydata.org/bokeh/release/bokeh-tables-0.12.16.min.css\");\n",
       "      Bokeh.embed.inject_css(\"https://cdn.pydata.org/bokeh/release/bokeh-tables-0.12.16.min.css\");\n",
       "    }\n",
       "  ];\n",
       "\n",
       "  function run_inline_js() {\n",
       "    \n",
       "    if ((root.Bokeh !== undefined) || (force === true)) {\n",
       "      for (var i = 0; i < inline_js.length; i++) {\n",
       "        inline_js[i].call(root, root.Bokeh);\n",
       "      }if (force === true) {\n",
       "        display_loaded();\n",
       "      }} else if (Date.now() < root._bokeh_timeout) {\n",
       "      setTimeout(run_inline_js, 100);\n",
       "    } else if (!root._bokeh_failed_load) {\n",
       "      console.log(\"Bokeh: BokehJS failed to load within specified timeout.\");\n",
       "      root._bokeh_failed_load = true;\n",
       "    } else if (force !== true) {\n",
       "      var cell = $(document.getElementById(\"40c0b308-3033-4ea4-a6d5-0db811c61841\")).parents('.cell').data().cell;\n",
       "      cell.output_area.append_execute_result(NB_LOAD_WARNING)\n",
       "    }\n",
       "\n",
       "  }\n",
       "\n",
       "  if (root._bokeh_is_loading === 0) {\n",
       "    console.log(\"Bokeh: BokehJS loaded, going straight to plotting\");\n",
       "    run_inline_js();\n",
       "  } else {\n",
       "    load_libs(js_urls, function() {\n",
       "      console.log(\"Bokeh: BokehJS plotting callback run at\", now());\n",
       "      run_inline_js();\n",
       "    });\n",
       "  }\n",
       "}(window));"
      ],
      "application/vnd.bokehjs_load.v0+json": "\n(function(root) {\n  function now() {\n    return new Date();\n  }\n\n  var force = true;\n\n  if (typeof (root._bokeh_onload_callbacks) === \"undefined\" || force === true) {\n    root._bokeh_onload_callbacks = [];\n    root._bokeh_is_loading = undefined;\n  }\n\n  \n\n  \n  if (typeof (root._bokeh_timeout) === \"undefined\" || force === true) {\n    root._bokeh_timeout = Date.now() + 5000;\n    root._bokeh_failed_load = false;\n  }\n\n  var NB_LOAD_WARNING = {'data': {'text/html':\n     \"<div style='background-color: #fdd'>\\n\"+\n     \"<p>\\n\"+\n     \"BokehJS does not appear to have successfully loaded. If loading BokehJS from CDN, this \\n\"+\n     \"may be due to a slow or bad network connection. Possible fixes:\\n\"+\n     \"</p>\\n\"+\n     \"<ul>\\n\"+\n     \"<li>re-rerun `output_notebook()` to attempt to load from CDN again, or</li>\\n\"+\n     \"<li>use INLINE resources instead, as so:</li>\\n\"+\n     \"</ul>\\n\"+\n     \"<code>\\n\"+\n     \"from bokeh.resources import INLINE\\n\"+\n     \"output_notebook(resources=INLINE)\\n\"+\n     \"</code>\\n\"+\n     \"</div>\"}};\n\n  function display_loaded() {\n    var el = document.getElementById(\"40c0b308-3033-4ea4-a6d5-0db811c61841\");\n    if (el != null) {\n      el.textContent = \"BokehJS is loading...\";\n    }\n    if (root.Bokeh !== undefined) {\n      if (el != null) {\n        el.textContent = \"BokehJS \" + root.Bokeh.version + \" successfully loaded.\";\n      }\n    } else if (Date.now() < root._bokeh_timeout) {\n      setTimeout(display_loaded, 100)\n    }\n  }\n\n\n  function run_callbacks() {\n    try {\n      root._bokeh_onload_callbacks.forEach(function(callback) { callback() });\n    }\n    finally {\n      delete root._bokeh_onload_callbacks\n    }\n    console.info(\"Bokeh: all callbacks have finished\");\n  }\n\n  function load_libs(js_urls, callback) {\n    root._bokeh_onload_callbacks.push(callback);\n    if (root._bokeh_is_loading > 0) {\n      console.log(\"Bokeh: BokehJS is being loaded, scheduling callback at\", now());\n      return null;\n    }\n    if (js_urls == null || js_urls.length === 0) {\n      run_callbacks();\n      return null;\n    }\n    console.log(\"Bokeh: BokehJS not loaded, scheduling load and callback at\", now());\n    root._bokeh_is_loading = js_urls.length;\n    for (var i = 0; i < js_urls.length; i++) {\n      var url = js_urls[i];\n      var s = document.createElement('script');\n      s.src = url;\n      s.async = false;\n      s.onreadystatechange = s.onload = function() {\n        root._bokeh_is_loading--;\n        if (root._bokeh_is_loading === 0) {\n          console.log(\"Bokeh: all BokehJS libraries loaded\");\n          run_callbacks()\n        }\n      };\n      s.onerror = function() {\n        console.warn(\"failed to load library \" + url);\n      };\n      console.log(\"Bokeh: injecting script tag for BokehJS library: \", url);\n      document.getElementsByTagName(\"head\")[0].appendChild(s);\n    }\n  };var element = document.getElementById(\"40c0b308-3033-4ea4-a6d5-0db811c61841\");\n  if (element == null) {\n    console.log(\"Bokeh: ERROR: autoload.js configured with elementid '40c0b308-3033-4ea4-a6d5-0db811c61841' but no matching script tag was found. \")\n    return false;\n  }\n\n  var js_urls = [\"https://cdn.pydata.org/bokeh/release/bokeh-0.12.16.min.js\", \"https://cdn.pydata.org/bokeh/release/bokeh-widgets-0.12.16.min.js\", \"https://cdn.pydata.org/bokeh/release/bokeh-tables-0.12.16.min.js\", \"https://cdn.pydata.org/bokeh/release/bokeh-gl-0.12.16.min.js\"];\n\n  var inline_js = [\n    function(Bokeh) {\n      Bokeh.set_log_level(\"info\");\n    },\n    \n    function(Bokeh) {\n      \n    },\n    function(Bokeh) {\n      console.log(\"Bokeh: injecting CSS: https://cdn.pydata.org/bokeh/release/bokeh-0.12.16.min.css\");\n      Bokeh.embed.inject_css(\"https://cdn.pydata.org/bokeh/release/bokeh-0.12.16.min.css\");\n      console.log(\"Bokeh: injecting CSS: https://cdn.pydata.org/bokeh/release/bokeh-widgets-0.12.16.min.css\");\n      Bokeh.embed.inject_css(\"https://cdn.pydata.org/bokeh/release/bokeh-widgets-0.12.16.min.css\");\n      console.log(\"Bokeh: injecting CSS: https://cdn.pydata.org/bokeh/release/bokeh-tables-0.12.16.min.css\");\n      Bokeh.embed.inject_css(\"https://cdn.pydata.org/bokeh/release/bokeh-tables-0.12.16.min.css\");\n    }\n  ];\n\n  function run_inline_js() {\n    \n    if ((root.Bokeh !== undefined) || (force === true)) {\n      for (var i = 0; i < inline_js.length; i++) {\n        inline_js[i].call(root, root.Bokeh);\n      }if (force === true) {\n        display_loaded();\n      }} else if (Date.now() < root._bokeh_timeout) {\n      setTimeout(run_inline_js, 100);\n    } else if (!root._bokeh_failed_load) {\n      console.log(\"Bokeh: BokehJS failed to load within specified timeout.\");\n      root._bokeh_failed_load = true;\n    } else if (force !== true) {\n      var cell = $(document.getElementById(\"40c0b308-3033-4ea4-a6d5-0db811c61841\")).parents('.cell').data().cell;\n      cell.output_area.append_execute_result(NB_LOAD_WARNING)\n    }\n\n  }\n\n  if (root._bokeh_is_loading === 0) {\n    console.log(\"Bokeh: BokehJS loaded, going straight to plotting\");\n    run_inline_js();\n  } else {\n    load_libs(js_urls, function() {\n      console.log(\"Bokeh: BokehJS plotting callback run at\", now());\n      run_inline_js();\n    });\n  }\n}(window));"
     },
     "metadata": {},
     "output_type": "display_data"
    }
   ],
   "source": [
    "output_notebook()"
   ]
  },
  {
   "cell_type": "code",
   "execution_count": 111,
   "metadata": {
    "collapsed": true
   },
   "outputs": [],
   "source": [
    "MOL = 'co2'"
   ]
  },
  {
   "cell_type": "code",
   "execution_count": 112,
   "metadata": {
    "collapsed": true
   },
   "outputs": [],
   "source": [
    "ATMPRO = dict(mls=294, saw=257, trp=300)"
   ]
  },
  {
   "cell_type": "code",
   "execution_count": 113,
   "metadata": {
    "collapsed": true
   },
   "outputs": [],
   "source": [
    "COMMITNUMBER = '1013f91'"
   ]
  },
  {
   "cell_type": "code",
   "execution_count": 114,
   "metadata": {
    "collapsed": true
   },
   "outputs": [],
   "source": [
    "client = pymongo.MongoClient('localhost', 27017)"
   ]
  },
  {
   "cell_type": "code",
   "execution_count": 115,
   "metadata": {
    "collapsed": true
   },
   "outputs": [],
   "source": [
    "def show_html(s):\n",
    "    display.display(display.HTML(s))\n",
    "\n",
    "def show_markdown(s):\n",
    "    display.display(display.Markdown(s))"
   ]
  },
  {
   "cell_type": "code",
   "execution_count": 116,
   "metadata": {
    "collapsed": true
   },
   "outputs": [],
   "source": [
    "def to_lblnewparam(param=None):\n",
    "    '''\n",
    "    Convert clirad's input parameter dictionary \n",
    "    into something like lblnew's.\n",
    "    '''\n",
    "    band = param['band'][0]\n",
    "    band = mapband_new2old()[band]\n",
    "    atmpro = param['atmpro']\n",
    "    tsfc = param['tsfc']\n",
    "    \n",
    "    p = {'band': band, \n",
    "         'atmpro': atmpro, 'tsfc': tsfc,\n",
    "         'dv': .001, 'nv': 1000}\n",
    "    \n",
    "    if len(param['molecule']) > 1: p['molecule'] = param['molecule']\n",
    "    else: \n",
    "        molecule, conc = list(param['molecule'].items())[0]\n",
    "        p['molecule'] = molecule\n",
    "        if conc == 'atmpro': p['conc'] = None\n",
    "        else: p['conc'] = conc\n",
    "    return p\n",
    "\n",
    "def make_query(param=None):\n",
    "    molecules = {'h2o', 'co2', 'o3', 'n2o', 'ch4'}\n",
    "    q = {}\n",
    "    for n, v in param.items():\n",
    "        if n == 'molecule' and type(v) == dict:\n",
    "            for mol, conc in v.items():\n",
    "                q[f'param.molecule.{mol}'] = conc\n",
    "            for mol in molecules - set(v.keys()):\n",
    "                q[f'param.molecule.{mol}'] = {'$exists': 0}\n",
    "        else:\n",
    "            q[f'param.{n}'] = v\n",
    "    return q"
   ]
  },
  {
   "cell_type": "code",
   "execution_count": 117,
   "metadata": {
    "collapsed": true
   },
   "outputs": [],
   "source": [
    "def subparam_atm_clirad(atmpro='mls'):\n",
    "    commitnumber = COMMITNUMBER\n",
    "    atm = nongreys_byband()\n",
    "    band = [band for band, molconcs in atm.items() if MOL in molconcs]\n",
    "    molecule = {mol: conc for _, molconcs in atm.items() \n",
    "                for mol, conc in molconcs.items() if mol == MOL}\n",
    "    return dict(commitnumber=commitnumber,\n",
    "                band=band, molecule=molecule, \n",
    "                atmpro=atmpro, tsfc=ATMPRO[atmpro])\n",
    "\n",
    "def clirad_data_atm(params_atm=None):\n",
    "    for p in params_atm:\n",
    "        q = make_query(p)\n",
    "        r = client.cliradnew.lw.find_one(q)\n",
    "        fluxs, cools = [], []\n",
    "        if not r: print('No data found for', p['molecule'], p['band'])\n",
    "        else: \n",
    "            fluxs.append(load_output_file(io.StringIO(r['output_flux'])))\n",
    "            cools.append(load_output_file(io.StringIO(r['output_coolr'])))\n",
    "    return dict(flux=sum(fluxs), cool=sum(cools))"
   ]
  },
  {
   "cell_type": "code",
   "execution_count": 118,
   "metadata": {
    "collapsed": true,
    "scrolled": false
   },
   "outputs": [],
   "source": [
    "def load_lblnew_data(r):\n",
    "    '''\n",
    "    Loads a lblnew-bestfit mongodb document's fluxes and cooling rates.\n",
    "    '''\n",
    "    if 'ng_refs' in r['param']:\n",
    "        ns = {'ds_flux_crd': 'output_flux',\n",
    "              'ds_cool_crd': 'output_coolr',\n",
    "              'ds_flux_wgt': 'output_wfluxg',\n",
    "              'ds_cool_wgt': 'output_wcoolrg'}\n",
    "    else:\n",
    "        ns = {'ds_flux_crd': 'output_flux',\n",
    "              'ds_cool_crd': 'output_coolr',\n",
    "              'ds_flux_wgt': 'output_wflux',\n",
    "              'ds_cool_wgt': 'output_wcoolr'}\n",
    "    return {n: load_output_file(io.StringIO(r[s])) for n, s in ns.items()}\n",
    "\n",
    "def subparams_atm_lblnew(atmpro='mls'):\n",
    "    '''\n",
    "    Returns the list of {band, conc, molecule} dictionaries that\n",
    "    represent the model atmosphere.\n",
    "    '''  \n",
    "    atm = nongreys_byband()\n",
    "    subparams_clirad = [dict(band=[band], \n",
    "                             molecule={mol: conc for mol, conc in molconc.items() if mol == MOL},\n",
    "                             atmpro=atmpro, tsfc=ATMPRO[atmpro]) \n",
    "                        for band, molconc in atm.items() if MOL in molconc]\n",
    "    return [to_lblnewparam(p) for p in subparams_clirad]\n",
    "\n",
    "def crd_data_atm(params_atm=None):\n",
    "    '''\n",
    "    Returns Dataset containing CRD fluxes and cooling rates at\n",
    "    different pressures and spectral bands.\n",
    "    '''\n",
    "    results_atm = {}\n",
    "    for p in params_atm:\n",
    "        if isinstance(p['molecule'], dict): \n",
    "            collection = client.lblnew.overlap_lw\n",
    "        else: \n",
    "            collection = client.lblnew.bestfit_lw\n",
    "        \n",
    "        q = make_query(p)\n",
    "        r = collection.find_one(q)\n",
    "        if not r: print('No data found for', p['molecule'], p['band'])\n",
    "        else: results_atm[r['param']['band']] = load_lblnew_data(r)\n",
    "\n",
    "    bands = [mapband_old2new()[b] for b, _ in results_atm.items()]\n",
    "    fluxs = [d['ds_flux_crd'] for _, d in results_atm.items()]\n",
    "    cools = [d['ds_cool_crd'] for _, d in results_atm.items()]\n",
    "    \n",
    "    d = {}\n",
    "    d['flux'] = xr.concat(fluxs, dim=bands).rename({'concat_dim': 'band'})\n",
    "    d['cool'] = xr.concat(cools, dim=bands).rename({'concat_dim': 'band'})\n",
    "    return d"
   ]
  },
  {
   "cell_type": "code",
   "execution_count": 119,
   "metadata": {
    "collapsed": true
   },
   "outputs": [],
   "source": [
    "import rtmtools.clirad.sw.wrangle as cliradwrangle\n",
    "\n",
    "def oldclirad_data_atm():\n",
    "    '''\n",
    "    Load the OLD clirad's results. mls only.\n",
    "    '''\n",
    "    fpath = os.path.join('/chia_cluster/home/jackyu/radiation',\n",
    "                         'clirad-lw',\n",
    "                         'LW',\n",
    "                         'examples',\n",
    "                         'mls75_h2o_atmpro_co2_.0004_o3_atmpro_n2o_3.2e-7_ch4_1.8e-6_H2012',\n",
    "                         'OUTPUT_CLIRAD.dat')\n",
    "    \n",
    "    ds = cliradwrangle.load_OUTPUT_CLIRAD(readfrom=fpath)\n",
    "    \n",
    "    ds_cool = xr.Dataset()\n",
    "    ds_cool.coords['pressure'] = ('pressure', ds['layer_pressure'])\n",
    "    ds_cool.coords['band'] = ('band', ds['spectral_band'])\n",
    "    ds_cool['coolrg'] = (('band', 'pressure'), - ds['heating_rate'])\n",
    "    \n",
    "    ds_flux = xr.Dataset()\n",
    "    ds_flux.coords['pressure'] = ('pressure', ds['level_pressure'])\n",
    "    ds_flux.coords['band'] = ('band', ds['spectral_band'])\n",
    "    ds_flux['flug'] = (('band', 'pressure'), ds['flux_up'])\n",
    "    ds_flux['fldg'] = (('band', 'pressure'), ds['flux_down'])\n",
    "    ds_flux['fnetg'] = (('band', 'pressure'), ds['net_flux'])\n",
    "    \n",
    "    \n",
    "    d = {}\n",
    "    d['cool'] = ds_cool\n",
    "    d['flux'] = ds_flux\n",
    "    return d"
   ]
  },
  {
   "cell_type": "code",
   "execution_count": 120,
   "metadata": {
    "collapsed": true
   },
   "outputs": [],
   "source": [
    "def show_makeup():\n",
    "    df = pd.DataFrame()\n",
    "\n",
    "    for band, molecule in nongreys_byband().items():\n",
    "        for name, conc in molecule.items():\n",
    "            if name == MOL:\n",
    "                df.loc[name, band] = str(conc)\n",
    "\n",
    "    df = df.fillna(0)\n",
    "    df.columns.name = 'clirad band'\n",
    "    df.index.name = 'molecule'\n",
    "    \n",
    "    display.display(df)\n",
    "    \n",
    "    display.display(\n",
    "        display.Markdown('*TABLE.* Non-grey absorbers in the atmosphere.'))\n",
    "\n",
    "\n",
    "def show_grey_makeup():\n",
    "    df = pd.DataFrame()\n",
    "    \n",
    "    for band, molecule in greyabsorbers_by_band_atm().items():\n",
    "        if molecule == None:\n",
    "            pass\n",
    "        else:\n",
    "            for name, conc in molecule.items():\n",
    "                df.loc[name, band] = str(conc)\n",
    "                \n",
    "    df = df.fillna(0)\n",
    "    df.columns.name = 'clirad band'\n",
    "    df.index.name = 'absorber'\n",
    "    \n",
    "    display.display(df)\n",
    "    display.display(\n",
    "        display.Markdown('*TABLE.* Grey absorbers in the atmosphere.')\n",
    "    )"
   ]
  },
  {
   "cell_type": "code",
   "execution_count": 121,
   "metadata": {
    "collapsed": true
   },
   "outputs": [],
   "source": [
    "def fmt_cool(ds_in):\n",
    "    ds = ds_in.copy(deep=True)\n",
    "    dims = ['igg', 'g', 'i']\n",
    "    for dim in dims:\n",
    "        if dim in ds:\n",
    "            if ds[dim].shape == (1,): ds = ds.squeeze(dim).drop(dim)\n",
    "            elif ds[dim].shape == (): ds = ds.drop(dim)\n",
    "    if 'band' in ds.dims:\n",
    "        try:\n",
    "            ds = ds.squeeze('band')\n",
    "        except ValueError:\n",
    "            ds = ds.sum('band')     \n",
    "    return ds['coolrg']\n",
    "\n",
    "def nice_xlims(pltdata=None, prange=None):\n",
    "    \n",
    "    def get_slice(srs):\n",
    "        return srs.sel(pressure=slice(*prange))\n",
    "    \n",
    "    srss = [d['srs'] for d in pltdata]\n",
    "    vmin = min([get_slice(srs).min() for srs in srss])\n",
    "    vmax = max([get_slice(srs).max() for srs in srss])\n",
    "    dv = (vmax - vmin) * .01\n",
    "    return float(vmin - dv), float(vmax + dv)\n",
    " \n",
    "def plt_cool_bokeh(pltdata=None, \n",
    "                   y_axis_type='linear', prange=(50, 1050)):\n",
    "    \n",
    "    ymin = 1e-2 \n",
    "    ymax = 1020\n",
    "    \n",
    "    p2 = figure(y_axis_type=y_axis_type, plot_width=300)\n",
    "    xmin, xmax = nice_xlims(pltdata, prange=prange)\n",
    "    \n",
    "    rs = []\n",
    "    for d in pltdata:\n",
    "        rd = []\n",
    "        if 'marker' in d:\n",
    "            r_mark = getattr(p2, d['marker'])(d['srs'].values, \n",
    "                        d['srs'].coords['pressure'].values,\n",
    "                        color=d['color'], alpha=.7)\n",
    "            rd.append(r_mark)\n",
    "        r_line = p2.line(d['srs'].values, \n",
    "                         d['srs'].coords['pressure'].values,\n",
    "                         color=d['color'], alpha=d['alpha'], \n",
    "                         line_width=d['line_width'], \n",
    "                         line_dash=d['line_dash'])\n",
    "        rd.append(r_line)\n",
    "      \n",
    "        rs.append(rd)\n",
    "        \n",
    "    p2.y_range = Range1d(ymax, ymin)  \n",
    "    p2.yaxis.axis_label = 'pressure [mb]'\n",
    "    \n",
    "    p2.x_range = Range1d(xmin, xmax)\n",
    "    p2.xaxis.axis_label = 'cooling rate [K/day]'\n",
    "    \n",
    "    items = [(d['label'], r) for r, d in zip(rs, pltdata)]\n",
    "    legend = Legend(items=items, location=(10, 0))\n",
    "    legend.label_text_font_size = '8pt'\n",
    "    p2.add_layout(legend, 'above')\n",
    "    p2.legend.orientation = 'horizontal'\n",
    "    p2.legend.location = 'top_center'\n",
    "    \n",
    "    return p2"
   ]
  },
  {
   "cell_type": "code",
   "execution_count": 122,
   "metadata": {
    "collapsed": true,
    "scrolled": false
   },
   "outputs": [],
   "source": [
    "def pltdata_cool(atmpro='mls'):\n",
    "    ds_clirad = clirad_data_atm(params_atm=[subparam_atm_clirad(atmpro=atmpro)])['cool']\n",
    "    ds_crd = crd_data_atm(params_atm=subparams_atm_lblnew(atmpro=atmpro))['cool']\n",
    "\n",
    "    colors = all_palettes['Set1'][4]\n",
    "    \n",
    "    data = [\n",
    "        {'label': 'CLIRAD',\n",
    "         'srs': fmt_cool(ds_clirad),\n",
    "         'line_dash': 'dashed', 'line_width': 5,\n",
    "         'color': colors[0], 'alpha': .6},\n",
    "        {'label': 'CRD',\n",
    "         'srs': fmt_cool(ds_crd),\n",
    "         'line_dash': 'solid', 'line_width': 1.5,\n",
    "         'marker': 'circle', 'marker_size': 5,\n",
    "         'color': colors[2], 'alpha': 1}\n",
    "    ]\n",
    "    \n",
    "    # include old CLIRAD's results for mls profile\n",
    "#    if atmpro == 'mls':\n",
    "#        d_oldclirad = oldclirad_data_atm()\n",
    "#        ds_oldclirad = d_oldclirad['cool']        \n",
    "#        data.append(\n",
    "#            {'label': 'old CLIRAD (H2012)',\n",
    "#             'srs': fmt_cool(ds_oldclirad),\n",
    "#             'line_dash': 'solid', 'line_width': 1.5,\n",
    "#             'marker': 'square', 'marker_size': 3,\n",
    "#             'color': colors[3], 'alpha': .5})\n",
    "    return data\n",
    "\n",
    "\n",
    "def pltdata_cooldiff(atmpro='mls'):\n",
    "    ds_clirad = clirad_data_atm(params_atm=[subparam_atm_clirad(atmpro=atmpro)])['cool']\n",
    "    ds_crd = crd_data_atm(params_atm=subparams_atm_lblnew(atmpro=atmpro))['cool']    \n",
    "    \n",
    "    ds_diff = ds_clirad - ds_crd\n",
    "    \n",
    "    colors = all_palettes['Set1'][4]\n",
    "    \n",
    "    data = [\n",
    "        {'label': 'CLIRAD - CRD',\n",
    "         'srs': fmt_cool(ds_diff),\n",
    "         'line_dash': 'solid', 'line_width': 1.5, \n",
    "         'marker': 'circle', 'marker_size': 7,\n",
    "         'color': colors[3], 'alpha': .8}\n",
    "    ]\n",
    "    \n",
    "    # include old CLIRAD's results for mls profile\n",
    "#    if atmpro == 'mls':\n",
    "#        d_oldclirad = oldclirad_data_atm()\n",
    "#        ds_oldclirad = d_oldclirad['cool']\n",
    "#        ds_oldclirad.coords['pressure'] = ds_crd.coords['pressure']\n",
    "#        ds_diff_old = ds_oldclirad.sum('band') - ds_crd.sum('band')\n",
    "#        data.append(\n",
    "#            {'label': 'old CLIRAD (H2012) - CRD',\n",
    "#             'srs': fmt_cool(ds_diff_old),\n",
    "#             'line_dash': 'dashed', 'line_width': 4,\n",
    "#             'color': colors[1], 'alpha': .5}\n",
    "#        )\n",
    "    return data\n",
    "\n",
    "\n",
    "def show_cool(atmpro='mls'):\n",
    "    data_cool = pltdata_cool(atmpro=atmpro)\n",
    "    p_cool_liny = plt_cool_bokeh(pltdata=data_cool)\n",
    "    p_cool_logy = plt_cool_bokeh(pltdata=data_cool, \n",
    "                                 y_axis_type='log',\n",
    "                                 prange=(.01, 200))\n",
    "    \n",
    "    data_cooldiff = pltdata_cooldiff(atmpro=atmpro)\n",
    "    p_cooldiff_logy = plt_cool_bokeh(pltdata=data_cooldiff,\n",
    "                                     y_axis_type='log',\n",
    "                                     prange=(.01, 200))\n",
    "    \n",
    "    everything = gridplot(p_cool_liny, p_cool_logy, \n",
    "                          p_cooldiff_logy,\n",
    "                          ncols=3)\n",
    "    show(everything)\n",
    "    display.display(\n",
    "        display.Markdown('*FIGURE.* Cooling rates & difference.'))\n",
    "    "
   ]
  },
  {
   "cell_type": "code",
   "execution_count": 123,
   "metadata": {
    "collapsed": true,
    "scrolled": false
   },
   "outputs": [],
   "source": [
    "def fmt_flux(ds_in):\n",
    "    ds = ds_in.copy(deep=True)\n",
    "    for dim in ['band', 'g']:\n",
    "        if dim in ds: ds = ds.sum(dim)\n",
    "        \n",
    "    for dim in ['i', 'igg', 'g']:\n",
    "        if dim in ds:\n",
    "            if ds[dim].shape == (1,): ds = ds.squeeze(dim).drop(dim)\n",
    "            elif ds[dim].shape == (): ds = ds.drop(dim)\n",
    "    return ds\n",
    "\n",
    "def hist_band_vs_flux(da, title='Title'):\n",
    "    da = da.sel(i=1)\n",
    "    bands = [str(b.values) for b in da['band']]\n",
    "    source = ColumnDataSource(data={'band': bands, 'flux': da.values})\n",
    "    p = figure(x_range=bands, title=title)\n",
    "    p.vbar(source=source, x='band', top='flux', width=.9)\n",
    "    p.yaxis.axis_label = 'flux (W m-2)'\n",
    "    p.xaxis.axis_label = 'spectral band'\n",
    "    return p\n",
    "\n",
    "def show_hist_flux(atmpro='mls'):\n",
    "    ds_crd = crd_data_atm(params_atm=subparams_atm_lblnew(atmpro=atmpro))['flux']\n",
    "    ds_clirad = clirad_data_atm(params_atm=[subparam_atm_clirad(atmpro=atmpro)])['flux']\n",
    "    \n",
    "    ip, varname = 0, 'flug'\n",
    "    da = (ds_clirad - ds_crd).isel(pressure=ip)[varname]\n",
    "    p_toa = hist_band_vs_flux(da, title='TOA flux. CLIRAD - CRD.')\n",
    "\n",
    "    ip, varname = -1, 'fldg'\n",
    "    da = (ds_clirad - ds_crd).isel(pressure=ip)[varname]\n",
    "    p_sfc = hist_band_vs_flux(da, title='SFC flux. CLIRAD - CRD.')    \n",
    "    \n",
    "    atm_crd = (ds_crd.isel(pressure=0) - ds_crd.isel(pressure=-1))['fnetg']\n",
    "    atm_clirad = (ds_clirad.isel(pressure=0) - ds_clirad.isel(pressure=-1))['fnetg']\n",
    "    da = atm_clirad - atm_crd\n",
    "    p_atm = hist_band_vs_flux(da, title='Atmosphere heating. CLIRAD - CRD.')\n",
    "\n",
    "    everything = gridplot(p_toa, p_sfc, p_atm, ncols=3, plot_width=300, plot_height=300)\n",
    "    \n",
    "    show(everything)\n",
    "    display.display(\n",
    "        display.Markdown('*FIGURE.* Difference between CLIRAD and CRD'\n",
    "          ' in TOA, SFC and net atmosphere flux,'\n",
    "          ' in each spectral band.'))\n",
    "\n",
    "def show_tb_flux(atmpro='mls'):\n",
    "    \n",
    "    def fmt(da_in):\n",
    "        da = da_in.copy(deep=True)\n",
    "        if 'igg' in da.dims:\n",
    "            da = da.sel(igg=1)\n",
    "            \n",
    "        if 'g' in da.dims:\n",
    "            da = da.sum('g')\n",
    "        \n",
    "        if 'band' in da.dims:\n",
    "            try:\n",
    "                da = da.squeeze('band')\n",
    "            except ValueError:\n",
    "                da = da.sum('band')\n",
    "                \n",
    "        return da\n",
    "    \n",
    "    ds_crd = crd_data_atm(params_atm=subparams_atm_lblnew(atmpro=atmpro))['flux']\n",
    "    olr_crd = ds_crd['flug'].isel(pressure=0)\n",
    "    sfc_crd = ds_crd['fldg'].isel(pressure=-1)\n",
    "    atm_crd = (ds_crd.isel(pressure=0) - ds_crd.isel(pressure=-1))['fnetg']\n",
    "    \n",
    "    ds_clirad = clirad_data_atm(params_atm=[subparam_atm_clirad(atmpro=atmpro)])['flux']\n",
    "    olr_clirad = ds_clirad['flug'].isel(pressure=0)\n",
    "    sfc_clirad = ds_clirad['fldg'].isel(pressure=-1)\n",
    "    atm_clirad = (ds_clirad.isel(pressure=0) - ds_clirad.isel(pressure=-1))['fnetg']\n",
    "    \n",
    "#    if atmpro == 'mls':\n",
    "#        ds_oldclirad = oldclirad_data_atm()['flux']\n",
    "#        ds_oldclirad['pressure'] = ds_crd['pressure']\n",
    "#        olr_oldclirad = ds_oldclirad['flug'].isel(pressure=0)\n",
    "#        sfc_oldclirad = ds_oldclirad['fldg'].isel(pressure=-1)\n",
    "#        atm_oldclirad = (ds_oldclirad.isel(pressure=0)\n",
    "#                         - ds_oldclirad.isel(pressure=-1))['fnetg']\n",
    "        \n",
    "    df = pd.DataFrame()\n",
    "    df.index.name = 'Sum over bands'\n",
    "    \n",
    "#    if atmpro == 'mls':\n",
    "#        df.loc['old CLIRAD - CRD', 'OLR flux'] = (fmt(olr_oldclirad) - fmt(olr_crd)).values\n",
    "#        df.loc['old CLIRAD - CRD', 'SFC flux'] = (fmt(sfc_oldclirad) - fmt(sfc_crd)).values\n",
    "#        df.loc['old CLIRAD - CRD', 'ATM heating'] = (fmt(atm_oldclirad) - fmt(atm_crd)).values\n",
    "    \n",
    "    df.loc['CLIRAD - CRD', 'OLR flux'] = (fmt(olr_clirad) - fmt(olr_crd)).values\n",
    "    df.loc['CLIRAD - CRD', 'SFC flux'] = (fmt(sfc_clirad) - fmt(sfc_crd)).values\n",
    "    df.loc['CLIRAD - CRD', 'ATM heating'] = (fmt(atm_clirad) - fmt(atm_crd)).values\n",
    "\n",
    "    df.loc['CRD', 'OLR flux'] = fmt(olr_crd).values\n",
    "    df.loc['CRD', 'SFC flux'] = fmt(sfc_crd).values\n",
    "    df.loc['CRD', 'ATM heating'] = fmt(atm_crd).values\n",
    "        \n",
    "    df = df.astype('float').round(2)\n",
    "    \n",
    "    display.display(df)\n",
    "    display.display(\n",
    "        display.Markdown('*TABLE.* Difference between CLIRAD and CRD'\n",
    "          ' in TOA, SFC and net atmosphere flux,'\n",
    "          ' over all spectral bands. CRD\\'s'\n",
    "          ' TOA, SFC and net atmosphere flux,'\n",
    "          ' over all spectral bands.'))"
   ]
  },
  {
   "cell_type": "code",
   "execution_count": 124,
   "metadata": {
    "collapsed": true,
    "scrolled": true
   },
   "outputs": [],
   "source": [
    "def cool_tofile(atmpro=None):\n",
    "    dcli = clirad_data_atm(params_atm=[subparam_atm_clirad(atmpro=atmpro)])\n",
    "    dcrd = crd_data_atm(params_atm=subparams_atm_lblnew(atmpro=atmpro))\n",
    "    \n",
    "    dcli = dcli['cool'].sel(i=1).drop('i').sum('band')\n",
    "    dcrd = dcrd['cool'].sum('band')\n",
    "    \n",
    "    dcli = dcli['coolrg'].to_dataframe()\n",
    "    dcrd = dcrd['coolrg'].to_dataframe()\n",
    "    \n",
    "    dcli = dcli.set_index('layer', append=True)\n",
    "    dcrd = dcrd.set_index('layer', append=True)\n",
    "    \n",
    "    ddif = dcli - dcrd\n",
    "    \n",
    "    df = pd.concat([dcrd, dcli, ddif], axis=1, keys=['CRD', 'CLIRAD', 'CLIRAD - CRD'])\n",
    "    return df\n",
    "\n",
    "\n",
    "def flux_tofile(atmpro=None):\n",
    "    tropopauses = {'mls': 40, 'saw': 45, 'trp': 37}\n",
    "    ilevels = [0, tropopauses[atmpro], -1]\n",
    "    \n",
    "    dcli = clirad_data_atm(params_atm=[subparam_atm_clirad(atmpro=atmpro)])\n",
    "    dcrd = crd_data_atm(params_atm=subparams_atm_lblnew(atmpro=atmpro))\n",
    "    \n",
    "    dcli = dcli['flux'].sel(i=1).drop('i').sum('band').isel(pressure=ilevels)\n",
    "    dcrd = dcrd['flux'].sum('band').isel(pressure=ilevels)\n",
    "    \n",
    "    dcli = dcli.to_dataframe()\n",
    "    dcrd = dcrd.to_dataframe()\n",
    "    \n",
    "    dcli = dcli.set_index('level', append=True)\n",
    "    dcrd = dcrd.set_index('level', append=True)\n",
    "    \n",
    "    ddif = dcli - dcrd\n",
    "    \n",
    "    df = pd.concat([dcrd, dcli, ddif], axis=1, keys=['CRD', 'CLIRAD', 'CLIRAD - CRD'])\n",
    "    return df\n",
    "\n",
    "\n",
    "def script_tofile():\n",
    "    fname = f'results_{MOL}atm_cliradsinglerun.xlsx'\n",
    "    writer = pd.ExcelWriter(fname)\n",
    "    for atmpro in ('mls', 'saw', 'trp'):\n",
    "        dflux = flux_tofile(atmpro=atmpro)\n",
    "        dflux.to_excel(writer, f'flux {atmpro}')\n",
    "        \n",
    "        dcool = cool_tofile(atmpro=atmpro)\n",
    "        dcool.to_excel(writer, f'cool {atmpro}')\n",
    "        \n",
    "    html = f'Download: <a href=\"./{fname}\">{fname}</a>'\n",
    "    show_html(html)\n",
    "\n",
    "        "
   ]
  },
  {
   "cell_type": "code",
   "execution_count": 125,
   "metadata": {
    "scrolled": false
   },
   "outputs": [
    {
     "data": {
      "text/markdown": [
       "## Results over entire range of molecules and spectral bands"
      ],
      "text/plain": [
       "<IPython.core.display.Markdown object>"
      ]
     },
     "metadata": {},
     "output_type": "display_data"
    },
    {
     "data": {
      "text/markdown": [
       "### Table of Contents"
      ],
      "text/plain": [
       "<IPython.core.display.Markdown object>"
      ]
     },
     "metadata": {},
     "output_type": "display_data"
    },
    {
     "data": {
      "text/html": [
       "<a href=\"#Makeup_of_atmosphere.\">Makeup of atmosphere.</a>"
      ],
      "text/plain": [
       "<IPython.core.display.HTML object>"
      ]
     },
     "metadata": {},
     "output_type": "display_data"
    },
    {
     "data": {
      "text/markdown": [
       "**mid-latitude summer**"
      ],
      "text/plain": [
       "<IPython.core.display.Markdown object>"
      ]
     },
     "metadata": {},
     "output_type": "display_data"
    },
    {
     "data": {
      "text/html": [
       "<a href=\"#Cooling_rates._mls.\">Cooling rates. mls.</a>"
      ],
      "text/plain": [
       "<IPython.core.display.HTML object>"
      ]
     },
     "metadata": {},
     "output_type": "display_data"
    },
    {
     "data": {
      "text/html": [
       "<a href=\"#Fluxes._mls.\">Fluxes. mls.</a>"
      ],
      "text/plain": [
       "<IPython.core.display.HTML object>"
      ]
     },
     "metadata": {},
     "output_type": "display_data"
    },
    {
     "data": {
      "text/markdown": [
       "**sub-arctic winter**"
      ],
      "text/plain": [
       "<IPython.core.display.Markdown object>"
      ]
     },
     "metadata": {},
     "output_type": "display_data"
    },
    {
     "data": {
      "text/html": [
       "<a href=\"#Cooling_rates._saw.\">Cooling rates. saw.</a>"
      ],
      "text/plain": [
       "<IPython.core.display.HTML object>"
      ]
     },
     "metadata": {},
     "output_type": "display_data"
    },
    {
     "data": {
      "text/html": [
       "<a href=\"#Fluxes._saw.\">Fluxes. saw.</a>"
      ],
      "text/plain": [
       "<IPython.core.display.HTML object>"
      ]
     },
     "metadata": {},
     "output_type": "display_data"
    },
    {
     "data": {
      "text/markdown": [
       "**tropical**"
      ],
      "text/plain": [
       "<IPython.core.display.Markdown object>"
      ]
     },
     "metadata": {},
     "output_type": "display_data"
    },
    {
     "data": {
      "text/html": [
       "<a href=\"#Cooling_rates._trp.\">Cooling rates. trp.</a>"
      ],
      "text/plain": [
       "<IPython.core.display.HTML object>"
      ]
     },
     "metadata": {},
     "output_type": "display_data"
    },
    {
     "data": {
      "text/html": [
       "<a href=\"#Fluxes._trp.\">Fluxes. trp.</a>"
      ],
      "text/plain": [
       "<IPython.core.display.HTML object>"
      ]
     },
     "metadata": {},
     "output_type": "display_data"
    },
    {
     "data": {
      "text/html": [
       "<a id=\"Makeup_of_atmosphere.\"></a>"
      ],
      "text/plain": [
       "<IPython.core.display.HTML object>"
      ]
     },
     "metadata": {},
     "output_type": "display_data"
    },
    {
     "data": {
      "text/markdown": [
       "# Makeup of atmosphere."
      ],
      "text/plain": [
       "<IPython.core.display.Markdown object>"
      ]
     },
     "metadata": {},
     "output_type": "display_data"
    },
    {
     "data": {
      "text/html": [
       "<div>\n",
       "<style scoped>\n",
       "    .dataframe tbody tr th:only-of-type {\n",
       "        vertical-align: middle;\n",
       "    }\n",
       "\n",
       "    .dataframe tbody tr th {\n",
       "        vertical-align: top;\n",
       "    }\n",
       "\n",
       "    .dataframe thead th {\n",
       "        text-align: right;\n",
       "    }\n",
       "</style>\n",
       "<table border=\"1\" class=\"dataframe\">\n",
       "  <thead>\n",
       "    <tr style=\"text-align: right;\">\n",
       "      <th>clirad band</th>\n",
       "      <th>3</th>\n",
       "      <th>4</th>\n",
       "      <th>5</th>\n",
       "      <th>6</th>\n",
       "      <th>7</th>\n",
       "      <th>11</th>\n",
       "    </tr>\n",
       "    <tr>\n",
       "      <th>molecule</th>\n",
       "      <th></th>\n",
       "      <th></th>\n",
       "      <th></th>\n",
       "      <th></th>\n",
       "      <th></th>\n",
       "      <th></th>\n",
       "    </tr>\n",
       "  </thead>\n",
       "  <tbody>\n",
       "    <tr>\n",
       "      <th>co2</th>\n",
       "      <td>0.0004</td>\n",
       "      <td>0.0004</td>\n",
       "      <td>0.0004</td>\n",
       "      <td>0.0004</td>\n",
       "      <td>0.0004</td>\n",
       "      <td>0.0004</td>\n",
       "    </tr>\n",
       "  </tbody>\n",
       "</table>\n",
       "</div>"
      ],
      "text/plain": [
       "clirad band      3       4       5       6       7       11\n",
       "molecule                                                   \n",
       "co2          0.0004  0.0004  0.0004  0.0004  0.0004  0.0004"
      ]
     },
     "metadata": {},
     "output_type": "display_data"
    },
    {
     "data": {
      "text/markdown": [
       "*TABLE.* Non-grey absorbers in the atmosphere."
      ],
      "text/plain": [
       "<IPython.core.display.Markdown object>"
      ]
     },
     "metadata": {},
     "output_type": "display_data"
    },
    {
     "data": {
      "text/html": [
       "<a id=\"Cooling_rates._mls.\"></a>"
      ],
      "text/plain": [
       "<IPython.core.display.HTML object>"
      ]
     },
     "metadata": {},
     "output_type": "display_data"
    },
    {
     "data": {
      "text/markdown": [
       "# Cooling rates. mls."
      ],
      "text/plain": [
       "<IPython.core.display.Markdown object>"
      ]
     },
     "metadata": {},
     "output_type": "display_data"
    },
    {
     "data": {
      "text/html": [
       "\n",
       "<div class=\"bk-root\">\n",
       "    <div class=\"bk-plotdiv\" id=\"253d4bdd-7a16-44f9-8dcd-0673ac5ae964\"></div>\n",
       "</div>"
      ]
     },
     "metadata": {},
     "output_type": "display_data"
    },
    {
     "data": {
      "application/javascript": [
       "(function(root) {\n",
       "  function embed_document(root) {\n",
       "    \n",
       "  var docs_json = {\"756afee7-4edf-4e7e-bc22-f1968e253113\":{\"roots\":{\"references\":[{\"attributes\":{\"callback\":null,\"end\":0.7048007263669999,\"start\":-0.127222470667},\"id\":\"801f9e46-a3d4-45c8-a672-37af113db5a6\",\"type\":\"Range1d\"},{\"attributes\":{},\"id\":\"ef9d0f43-a7b1-41c2-9f3e-7488d4cf7a15\",\"type\":\"PanTool\"},{\"attributes\":{\"line_alpha\":0.6,\"line_color\":\"#e41a1c\",\"line_dash\":[6],\"line_width\":5,\"x\":{\"field\":\"x\"},\"y\":{\"field\":\"y\"}},\"id\":\"35b18f86-b472-43d5-a0ee-d003ed9357f5\",\"type\":\"Line\"},{\"attributes\":{\"plot\":{\"id\":\"f8600478-2c8a-4c87-8682-c84492c1a0de\",\"subtype\":\"Figure\",\"type\":\"Plot\"},\"ticker\":{\"id\":\"67046ca9-a5ae-4e72-8848-07091651204c\",\"type\":\"BasicTicker\"}},\"id\":\"e5807f3c-b00b-47a5-ac60-d09404a30bb2\",\"type\":\"Grid\"},{\"attributes\":{\"callback\":null,\"data\":{\"x\":{\"__ndarray__\":\"T8zKadtgNsByGxbUIhbXP6fySsJMQARA0v2iooKmBkDUTR+yW7D6PxgY8KrD+5O/459cu7rk9L8PxO94Dfz5vzQb4s9R0/O/2X/5ltPX5b9CdyoMLsTXv1XbAjeWwNW/gh+7E7xF27/yw0iHP6Hcv6hJJBI4T9S/OtfsdX39v79z10/hRQCtP2h7rRZvVso/hx3CqLy7yj/fSWXr0FmSv9w6CTJsl9S/xtBJfFjC2r9eFVrvmmTSv+MKw4ImgsW/6h1yGvZAyL/KMTODnqzQv7D9y7f7ami/yVGXciyVxz+BnEIDbgDCP0Pi/9/ZAqo/7fELx/tgqT8THk5//kuev21CTEHo4ae/JVLal85Dpj9qmGv+zFqsP60YW1redH6/xWvDSV8mkb+Ep8qx3N2JP3MrqlPcd5w/cGKXS9tdmD8hBn0Br2qJP0KKeEWRKVe/XBUiZ2+ehr/EApigMZSQv1IHtzOXjZO/8zaAf00EmL824KCggCSZv+d+nRIZ65q/VQWwXZDNmr8rojQZ49CYv/Yq+YehZ5W/itPomz+Okr9EOWeBg2iLv63/AtdSTYO/oNFznsBadr+m1FZF6AJfvwN5xFpuGlU/2geOaRLAcD8KRuko0Mh6P8zzMu40d4E/lWl91xjehD8zCl5u3NSEP6dQ2OTEeIc/TQfzAqSpiD98aifHd8KHP7pk1ynWsYk/tIBU2D48iT9up5QrAVeHP8FirH9npYk/2KscV/XLiD9a3ynuBdCIP7QUx1f8k4k/EqKlLv6Whj/cZGiP6yyIPxw9MytVToU/\",\"dtype\":\"float64\",\"shape\":[75]},\"y\":{\"__ndarray__\":\"GhExyth1ND/Sv8nbtpRIP2vylNV0PVE/aTum7souWD/At0SJ8fVgPw3Iuahxymc/MSNhhJWvcD/bTfBN02d3P2zb5nxnaoA/CD5h5MAGhz8NmeH1TyaQP+zrCsc9p5Y/LbKd76fGnz/bLW5ISEmmPww9YvTcQq8/JV2OstnstT8Er5Y7M8G+P0c+r3jqkcU/5h99k6ZBzj88bCIzFzjVP4enV8oyxN0//yH99nXg5D8qOpLLf0jtP5kqGJXUifQ/c9cS8kHP/D+/DpwzojQEQIEmwoanVwxA4lgXt9HgE0BSSZ2AJuIbQAMJih9jjiNA5q4l5INuK0AwTKYKRj0zQNv5fmq8/DpAaCJseHrtQkB/+zpwzoxKQM3MzMzMeFJAZmZmZmZqWEAAAAAAAFxeQM3MzMzMJmJAmpmZmZkfZUBmZmZmZhhoQDMzMzMzEWtAAAAAAAAKbkBmZmZmZoFwQM3MzMzM/XFAMzMzMzN6c0CamZmZmfZ0QAAAAAAAc3ZAZmZmZmbvd0DNzMzMzGt5QDMzMzMz6HpAmpmZmZlkfEAAAAAAAOF9QGZmZmZmXX9AZmZmZuZsgECamZmZGSuBQM3MzMxM6YFAAAAAAICngkAzMzMzs2WDQGZmZmbmI4RAmpmZmRnihEDNzMzMTKCFQAAAAACAXoZAMzMzM7Mch0BmZmZm5tqHQJqZmZkZmYhAzczMzExXiUAAAAAAgBWKQDMzMzOz04pAZmZmZuaRi0CamZmZGVCMQM3MzMxMDo1AAAAAAIDMjUAzMzMzs4qOQGZmZmbmSI9A\",\"dtype\":\"float64\",\"shape\":[75]}},\"selected\":{\"id\":\"cf58d9e0-0bef-478a-895a-58ce08072e83\",\"type\":\"Selection\"},\"selection_policy\":{\"id\":\"7d62b2f0-f33a-4ee0-870b-cd1fef545bda\",\"type\":\"UnionRenderers\"}},\"id\":\"2fd9b52f-507b-4d8b-9912-6f16bd354c5b\",\"type\":\"ColumnDataSource\"},{\"attributes\":{\"axis_label\":\"pressure [mb]\",\"formatter\":{\"id\":\"8e3cc623-f24c-432b-bf2c-5851b7cd998b\",\"type\":\"LogTickFormatter\"},\"plot\":{\"id\":\"f8600478-2c8a-4c87-8682-c84492c1a0de\",\"subtype\":\"Figure\",\"type\":\"Plot\"},\"ticker\":{\"id\":\"93af2f9f-e293-458e-8f74-554984ffecac\",\"type\":\"LogTicker\"}},\"id\":\"7a58cedf-49da-4542-8398-daa012d847e7\",\"type\":\"LogAxis\"},{\"attributes\":{\"callback\":null,\"end\":0.21776877992080057,\"start\":-0.6915105139208003},\"id\":\"482db1cb-e162-4b15-b64c-f54a3f6610b9\",\"type\":\"Range1d\"},{\"attributes\":{},\"id\":\"ce3ae0ab-ff51-4166-88f9-a1e237f607da\",\"type\":\"SaveTool\"},{\"attributes\":{},\"id\":\"042eb96c-461e-4260-86b7-4849c208193c\",\"type\":\"SaveTool\"},{\"attributes\":{},\"id\":\"67a36cb1-9a66-4d19-af5e-103f50b3ee8a\",\"type\":\"ResetTool\"},{\"attributes\":{},\"id\":\"15211084-325f-4dbf-ad4b-d9df308c583e\",\"type\":\"WheelZoomTool\"},{\"attributes\":{\"label\":{\"value\":\"CLIRAD\"},\"renderers\":[{\"id\":\"9aa1b4bd-6df9-4868-9c89-0d0dd2bbe707\",\"type\":\"GlyphRenderer\"}]},\"id\":\"56a30820-f1a2-4046-a52b-090d5d2b7ab4\",\"type\":\"LegendItem\"},{\"attributes\":{},\"id\":\"247f4a62-2253-4736-ba94-f79a0a0c1888\",\"type\":\"BasicTicker\"},{\"attributes\":{},\"id\":\"cf58d9e0-0bef-478a-895a-58ce08072e83\",\"type\":\"Selection\"},{\"attributes\":{\"dimension\":1,\"plot\":{\"id\":\"f8600478-2c8a-4c87-8682-c84492c1a0de\",\"subtype\":\"Figure\",\"type\":\"Plot\"},\"ticker\":{\"id\":\"93af2f9f-e293-458e-8f74-554984ffecac\",\"type\":\"LogTicker\"}},\"id\":\"033c1676-7add-41e3-8774-f4105459a274\",\"type\":\"Grid\"},{\"attributes\":{\"bottom_units\":\"screen\",\"fill_alpha\":{\"value\":0.5},\"fill_color\":{\"value\":\"lightgrey\"},\"left_units\":\"screen\",\"level\":\"overlay\",\"line_alpha\":{\"value\":1.0},\"line_color\":{\"value\":\"black\"},\"line_dash\":[4,4],\"line_width\":{\"value\":2},\"plot\":null,\"render_mode\":\"css\",\"right_units\":\"screen\",\"top_units\":\"screen\"},\"id\":\"5f80ca29-b5af-409b-a91a-c220edb48d67\",\"type\":\"BoxAnnotation\"},{\"attributes\":{\"axis_label\":\"cooling rate [K/day]\",\"formatter\":{\"id\":\"347246d1-c24d-452c-9189-ee501004349e\",\"type\":\"BasicTickFormatter\"},\"plot\":{\"id\":\"bcd1e54e-48a4-4eae-a752-3c0ba2fad6be\",\"subtype\":\"Figure\",\"type\":\"Plot\"},\"ticker\":{\"id\":\"247f4a62-2253-4736-ba94-f79a0a0c1888\",\"type\":\"BasicTicker\"}},\"id\":\"5b646d61-23ab-4b2e-ab09-89ce973ee27a\",\"type\":\"LinearAxis\"},{\"attributes\":{\"callback\":null,\"data\":{\"x\":{\"__ndarray__\":\"xA2DZIOPS0CQhgKJyvxEQJLNhwEEH0JANdHB8haxPUD21DW2n9A2QKLnIYTdkDBAWjC5KDl+J0BmTy8GLnchQNFYGcXHOhxAEFh9GuUEGEAcLYwZmQQUQBiuV4kBKQ9AaIQ6XUfCBUBqOu1sptT1P0L+A0Mhn94/3zWt0/Rq8T/Mj2f1a+QCQFoUWcEScApAQy3Xx09NEECi4mx09vcSQNVrNOkIcBZAMiVq13iTHUB6mgNsVm4jQF/4zWxz+SJAd0QrVpnxHEAwKrE7+ewVQPoSXyqMNhJAH0+iZBDfDkBaSOMqmWcJQInsFxSupQRAE2GYPUK0AEALibaOaiP4PybSFGyK3PE/fVDrV/iZ7j+2QU6Y50rmP1gom3hjZtY/a0IjJ7aTxz/8+K2QkIXEP+ezfpmB6K4/SnpvyJpjuL+nKVylZcC5v/zzy6AVsZw/Bys/QcpVtz/DvXEcOKO+P6HH7bXuz8E/BrjkZcJwwz+GQsMklRfFP6kCax1ga8Y/O4SScCTYxz84a5cpimTJP0Z54UKE8Mo/dAOrSXwezD8zFkNUYDXNP8ZXUwLv980/23sNCWyqzj8xKCFBAlnPP8pxrEP3BNA/rM7pWFxf0D9shnxoS7zQP6nE6SteGdE/oeiWKgx60T8GEazYhsvRP51ZaVfDQ9I/fMLqtBvJ0j9lke9YyGHTP1ewPVbYQ9Q/D2t/HTc51T+Hj3wktPzVP43lsfQOWNY/A2YWhYML1j/gUyEsj5/VP+LZw3EwcdU/L9LFF8aF1T8E6MB4YlvWP4Jt0b3fLNw/\",\"dtype\":\"float64\",\"shape\":[75]},\"y\":{\"__ndarray__\":\"GhExyth1ND/Sv8nbtpRIP2vylNV0PVE/aTum7souWD/At0SJ8fVgPw3Iuahxymc/MSNhhJWvcD/bTfBN02d3P2zb5nxnaoA/CD5h5MAGhz8NmeH1TyaQP+zrCsc9p5Y/LbKd76fGnz/bLW5ISEmmPww9YvTcQq8/JV2OstnstT8Er5Y7M8G+P0c+r3jqkcU/5h99k6ZBzj88bCIzFzjVP4enV8oyxN0//yH99nXg5D8qOpLLf0jtP5kqGJXUifQ/c9cS8kHP/D+/DpwzojQEQIEmwoanVwxA4lgXt9HgE0BSSZ2AJuIbQAMJih9jjiNA5q4l5INuK0AwTKYKRj0zQNv5fmq8/DpAaCJseHrtQkB/+zpwzoxKQM3MzMzMeFJAZmZmZmZqWEAAAAAAAFxeQM3MzMzMJmJAmpmZmZkfZUBmZmZmZhhoQDMzMzMzEWtAAAAAAAAKbkBmZmZmZoFwQM3MzMzM/XFAMzMzMzN6c0CamZmZmfZ0QAAAAAAAc3ZAZmZmZmbvd0DNzMzMzGt5QDMzMzMz6HpAmpmZmZlkfEAAAAAAAOF9QGZmZmZmXX9AZmZmZuZsgECamZmZGSuBQM3MzMxM6YFAAAAAAICngkAzMzMzs2WDQGZmZmbmI4RAmpmZmRnihEDNzMzMTKCFQAAAAACAXoZAMzMzM7Mch0BmZmZm5tqHQJqZmZkZmYhAzczMzExXiUAAAAAAgBWKQDMzMzOz04pAZmZmZuaRi0CamZmZGVCMQM3MzMxMDo1AAAAAAIDMjUAzMzMzs4qOQGZmZmbmSI9A\",\"dtype\":\"float64\",\"shape\":[75]}},\"selected\":{\"id\":\"4fdf4a50-b3a7-4612-a904-89d3ee5e314d\",\"type\":\"Selection\"},\"selection_policy\":{\"id\":\"8f07252e-1bf3-429f-9f0e-abd283d99a34\",\"type\":\"UnionRenderers\"}},\"id\":\"b5f008ea-78e6-4ba6-8cf4-4ab7c92309a2\",\"type\":\"ColumnDataSource\"},{\"attributes\":{\"label\":{\"value\":\"CRD\"},\"renderers\":[{\"id\":\"e3e36e2e-55ff-43f4-a2c2-46c917d054ee\",\"type\":\"GlyphRenderer\"},{\"id\":\"4799bce7-a53b-400b-a9ad-4bae3c423702\",\"type\":\"GlyphRenderer\"}]},\"id\":\"11c96dcf-f863-4558-b675-0e9eb06e3e1a\",\"type\":\"LegendItem\"},{\"attributes\":{},\"id\":\"b5b1ee81-a049-4936-900f-d50fb0b99535\",\"type\":\"HelpTool\"},{\"attributes\":{},\"id\":\"b262df20-cbdf-4123-9a24-30837a30df61\",\"type\":\"Selection\"},{\"attributes\":{\"bottom_units\":\"screen\",\"fill_alpha\":{\"value\":0.5},\"fill_color\":{\"value\":\"lightgrey\"},\"left_units\":\"screen\",\"level\":\"overlay\",\"line_alpha\":{\"value\":1.0},\"line_color\":{\"value\":\"black\"},\"line_dash\":[4,4],\"line_width\":{\"value\":2},\"plot\":null,\"render_mode\":\"css\",\"right_units\":\"screen\",\"top_units\":\"screen\"},\"id\":\"4b22bace-8676-4b0e-81f4-ac0257c54a9b\",\"type\":\"BoxAnnotation\"},{\"attributes\":{},\"id\":\"6790421d-00b6-47df-8ef5-ff9e02ff135a\",\"type\":\"Selection\"},{\"attributes\":{},\"id\":\"7d62b2f0-f33a-4ee0-870b-cd1fef545bda\",\"type\":\"UnionRenderers\"},{\"attributes\":{\"fill_alpha\":{\"value\":0.7},\"fill_color\":{\"value\":\"#984ea3\"},\"line_alpha\":{\"value\":0.7},\"line_color\":{\"value\":\"#984ea3\"},\"x\":{\"field\":\"x\"},\"y\":{\"field\":\"y\"}},\"id\":\"8914e322-8455-4afc-ad07-355b250630a2\",\"type\":\"Circle\"},{\"attributes\":{\"children\":[{\"id\":\"f5a21caa-465b-467c-89c7-983660d6dbf6\",\"type\":\"ToolbarBox\"},{\"id\":\"36137bb6-f9a3-43a0-8c1f-6695c4261c29\",\"type\":\"Column\"}]},\"id\":\"54073064-0333-485d-8477-4aa12b945e2d\",\"type\":\"Column\"},{\"attributes\":{\"callback\":null,\"data\":{\"x\":{\"__ndarray__\":\"T8zKadtgNsByGxbUIhbXP6fySsJMQARA0v2iooKmBkDUTR+yW7D6PxgY8KrD+5O/459cu7rk9L8PxO94Dfz5vzQb4s9R0/O/2X/5ltPX5b9CdyoMLsTXv1XbAjeWwNW/gh+7E7xF27/yw0iHP6Hcv6hJJBI4T9S/OtfsdX39v79z10/hRQCtP2h7rRZvVso/hx3CqLy7yj/fSWXr0FmSv9w6CTJsl9S/xtBJfFjC2r9eFVrvmmTSv+MKw4ImgsW/6h1yGvZAyL/KMTODnqzQv7D9y7f7ami/yVGXciyVxz+BnEIDbgDCP0Pi/9/ZAqo/7fELx/tgqT8THk5//kuev21CTEHo4ae/JVLal85Dpj9qmGv+zFqsP60YW1redH6/xWvDSV8mkb+Ep8qx3N2JP3MrqlPcd5w/cGKXS9tdmD8hBn0Br2qJP0KKeEWRKVe/XBUiZ2+ehr/EApigMZSQv1IHtzOXjZO/8zaAf00EmL824KCggCSZv+d+nRIZ65q/VQWwXZDNmr8rojQZ49CYv/Yq+YehZ5W/itPomz+Okr9EOWeBg2iLv63/AtdSTYO/oNFznsBadr+m1FZF6AJfvwN5xFpuGlU/2geOaRLAcD8KRuko0Mh6P8zzMu40d4E/lWl91xjehD8zCl5u3NSEP6dQ2OTEeIc/TQfzAqSpiD98aifHd8KHP7pk1ynWsYk/tIBU2D48iT9up5QrAVeHP8FirH9npYk/2KscV/XLiD9a3ynuBdCIP7QUx1f8k4k/EqKlLv6Whj/cZGiP6yyIPxw9MytVToU/\",\"dtype\":\"float64\",\"shape\":[75]},\"y\":{\"__ndarray__\":\"GhExyth1ND/Sv8nbtpRIP2vylNV0PVE/aTum7souWD/At0SJ8fVgPw3Iuahxymc/MSNhhJWvcD/bTfBN02d3P2zb5nxnaoA/CD5h5MAGhz8NmeH1TyaQP+zrCsc9p5Y/LbKd76fGnz/bLW5ISEmmPww9YvTcQq8/JV2OstnstT8Er5Y7M8G+P0c+r3jqkcU/5h99k6ZBzj88bCIzFzjVP4enV8oyxN0//yH99nXg5D8qOpLLf0jtP5kqGJXUifQ/c9cS8kHP/D+/DpwzojQEQIEmwoanVwxA4lgXt9HgE0BSSZ2AJuIbQAMJih9jjiNA5q4l5INuK0AwTKYKRj0zQNv5fmq8/DpAaCJseHrtQkB/+zpwzoxKQM3MzMzMeFJAZmZmZmZqWEAAAAAAAFxeQM3MzMzMJmJAmpmZmZkfZUBmZmZmZhhoQDMzMzMzEWtAAAAAAAAKbkBmZmZmZoFwQM3MzMzM/XFAMzMzMzN6c0CamZmZmfZ0QAAAAAAAc3ZAZmZmZmbvd0DNzMzMzGt5QDMzMzMz6HpAmpmZmZlkfEAAAAAAAOF9QGZmZmZmXX9AZmZmZuZsgECamZmZGSuBQM3MzMxM6YFAAAAAAICngkAzMzMzs2WDQGZmZmbmI4RAmpmZmRnihEDNzMzMTKCFQAAAAACAXoZAMzMzM7Mch0BmZmZm5tqHQJqZmZkZmYhAzczMzExXiUAAAAAAgBWKQDMzMzOz04pAZmZmZuaRi0CamZmZGVCMQM3MzMxMDo1AAAAAAIDMjUAzMzMzs4qOQGZmZmbmSI9A\",\"dtype\":\"float64\",\"shape\":[75]}},\"selected\":{\"id\":\"b262df20-cbdf-4123-9a24-30837a30df61\",\"type\":\"Selection\"},\"selection_policy\":{\"id\":\"a9bcd54d-5e2b-418f-8f28-122ca23aace4\",\"type\":\"UnionRenderers\"}},\"id\":\"4832a9a0-6a44-442c-81fe-7d4c802e60c7\",\"type\":\"ColumnDataSource\"},{\"attributes\":{},\"id\":\"a9bcd54d-5e2b-418f-8f28-122ca23aace4\",\"type\":\"UnionRenderers\"},{\"attributes\":{\"above\":[{\"id\":\"abd96978-57d3-4e61-a61d-043c0ff3e883\",\"type\":\"Legend\"}],\"below\":[{\"id\":\"5b646d61-23ab-4b2e-ab09-89ce973ee27a\",\"type\":\"LinearAxis\"}],\"left\":[{\"id\":\"0e855702-02e3-4afd-99f3-04a2923a8953\",\"type\":\"LogAxis\"}],\"plot_width\":300,\"renderers\":[{\"id\":\"5b646d61-23ab-4b2e-ab09-89ce973ee27a\",\"type\":\"LinearAxis\"},{\"id\":\"dd0ec362-5643-41bf-a65b-fdb1b8c507c8\",\"type\":\"Grid\"},{\"id\":\"0e855702-02e3-4afd-99f3-04a2923a8953\",\"type\":\"LogAxis\"},{\"id\":\"1abeeedd-b25a-4e9f-ad00-74a8acc64633\",\"type\":\"Grid\"},{\"id\":\"d871e4a2-77e2-49ff-b37a-fd3cb9c33fb7\",\"type\":\"BoxAnnotation\"},{\"id\":\"b3254b1f-954d-4a90-8bdd-0ebf044f5b4e\",\"type\":\"GlyphRenderer\"},{\"id\":\"aa01588e-ac35-4e28-8f2e-dcc98a78a524\",\"type\":\"GlyphRenderer\"},{\"id\":\"abd96978-57d3-4e61-a61d-043c0ff3e883\",\"type\":\"Legend\"}],\"title\":{\"id\":\"c1e51a02-22ec-4c94-a47b-01e92981d0f2\",\"type\":\"Title\"},\"toolbar\":{\"id\":\"c745f9f9-c851-4db6-9dbd-3567fbe09c1e\",\"type\":\"Toolbar\"},\"toolbar_location\":null,\"x_range\":{\"id\":\"482db1cb-e162-4b15-b64c-f54a3f6610b9\",\"type\":\"Range1d\"},\"x_scale\":{\"id\":\"24ddad15-66e5-4100-a695-d084a2ccaa78\",\"type\":\"LinearScale\"},\"y_range\":{\"id\":\"cbb39868-8bf4-4be9-ad07-a8c081593a37\",\"type\":\"Range1d\"},\"y_scale\":{\"id\":\"c2da3baa-c1ed-4ae3-9347-3c98b4646ec5\",\"type\":\"LogScale\"}},\"id\":\"bcd1e54e-48a4-4eae-a752-3c0ba2fad6be\",\"subtype\":\"Figure\",\"type\":\"Plot\"},{\"attributes\":{},\"id\":\"5ac53746-96e3-481f-a183-d6cc133feac3\",\"type\":\"BasicTickFormatter\"},{\"attributes\":{\"tools\":[{\"id\":\"ef9d0f43-a7b1-41c2-9f3e-7488d4cf7a15\",\"type\":\"PanTool\"},{\"id\":\"15211084-325f-4dbf-ad4b-d9df308c583e\",\"type\":\"WheelZoomTool\"},{\"id\":\"57c58bab-3bc8-4213-9dc0-80cacfcfd39b\",\"type\":\"BoxZoomTool\"},{\"id\":\"ce3ae0ab-ff51-4166-88f9-a1e237f607da\",\"type\":\"SaveTool\"},{\"id\":\"5209b2ac-000a-449e-819d-84e0c3e4de80\",\"type\":\"ResetTool\"},{\"id\":\"b5b1ee81-a049-4936-900f-d50fb0b99535\",\"type\":\"HelpTool\"},{\"id\":\"b9f5a3ba-9909-4f26-a41f-255c2f4176e9\",\"type\":\"PanTool\"},{\"id\":\"6093034b-8743-4c3d-bafb-04272df68267\",\"type\":\"WheelZoomTool\"},{\"id\":\"6a3bf925-06fe-4717-b256-a9f9d9aab792\",\"type\":\"BoxZoomTool\"},{\"id\":\"042eb96c-461e-4260-86b7-4849c208193c\",\"type\":\"SaveTool\"},{\"id\":\"67a36cb1-9a66-4d19-af5e-103f50b3ee8a\",\"type\":\"ResetTool\"},{\"id\":\"d1620f00-99d5-46d6-8de7-24cdf46528e5\",\"type\":\"HelpTool\"},{\"id\":\"d02115ab-4d7d-463d-881b-0cb1a8762a42\",\"type\":\"PanTool\"},{\"id\":\"fca104c4-b465-4053-8ce2-5b5fa2230e3a\",\"type\":\"WheelZoomTool\"},{\"id\":\"160bb43c-1fdc-49b6-adf0-4edaf70e1fbf\",\"type\":\"BoxZoomTool\"},{\"id\":\"0ed55b2c-1fee-480e-9597-6e0c9aa3901d\",\"type\":\"SaveTool\"},{\"id\":\"5be92384-2ee8-4c93-94c0-a320014c47a1\",\"type\":\"ResetTool\"},{\"id\":\"c40ea226-92e0-414b-add0-1b064dba4fa4\",\"type\":\"HelpTool\"}]},\"id\":\"fae63a85-690b-418c-929b-9cced5e6019b\",\"type\":\"ProxyToolbar\"},{\"attributes\":{\"line_alpha\":0.8,\"line_color\":\"#984ea3\",\"line_width\":1.5,\"x\":{\"field\":\"x\"},\"y\":{\"field\":\"y\"}},\"id\":\"4f8af06b-715d-4f5a-acad-7e7cb6011807\",\"type\":\"Line\"},{\"attributes\":{\"toolbar\":{\"id\":\"fae63a85-690b-418c-929b-9cced5e6019b\",\"type\":\"ProxyToolbar\"},\"toolbar_location\":\"above\"},\"id\":\"f5a21caa-465b-467c-89c7-983660d6dbf6\",\"type\":\"ToolbarBox\"},{\"attributes\":{},\"id\":\"9f15e2c9-29f9-4e16-bae4-409fc97d038a\",\"type\":\"UnionRenderers\"},{\"attributes\":{\"source\":{\"id\":\"4832a9a0-6a44-442c-81fe-7d4c802e60c7\",\"type\":\"ColumnDataSource\"}},\"id\":\"9562bbe5-6fb1-4dd2-91db-e3757acfe128\",\"type\":\"CDSView\"},{\"attributes\":{\"plot\":{\"id\":\"bcd1e54e-48a4-4eae-a752-3c0ba2fad6be\",\"subtype\":\"Figure\",\"type\":\"Plot\"},\"ticker\":{\"id\":\"247f4a62-2253-4736-ba94-f79a0a0c1888\",\"type\":\"BasicTicker\"}},\"id\":\"dd0ec362-5643-41bf-a65b-fdb1b8c507c8\",\"type\":\"Grid\"},{\"attributes\":{},\"id\":\"c2da3baa-c1ed-4ae3-9347-3c98b4646ec5\",\"type\":\"LogScale\"},{\"attributes\":{},\"id\":\"347246d1-c24d-452c-9189-ee501004349e\",\"type\":\"BasicTickFormatter\"},{\"attributes\":{\"above\":[{\"id\":\"c3b4f91e-3252-4e32-aff1-430983bf14ab\",\"type\":\"Legend\"}],\"below\":[{\"id\":\"659de410-789c-4ef5-a23a-de841c8d4e89\",\"type\":\"LinearAxis\"}],\"left\":[{\"id\":\"da6bb16f-ea8a-4171-809c-cae1931d3a0c\",\"type\":\"LinearAxis\"}],\"plot_width\":300,\"renderers\":[{\"id\":\"659de410-789c-4ef5-a23a-de841c8d4e89\",\"type\":\"LinearAxis\"},{\"id\":\"be95bce8-2eaf-44ed-a18b-3d2586e86afe\",\"type\":\"Grid\"},{\"id\":\"da6bb16f-ea8a-4171-809c-cae1931d3a0c\",\"type\":\"LinearAxis\"},{\"id\":\"57bf79f5-56de-4a57-bf2f-f350ed7e2428\",\"type\":\"Grid\"},{\"id\":\"4b22bace-8676-4b0e-81f4-ac0257c54a9b\",\"type\":\"BoxAnnotation\"},{\"id\":\"543510e0-7cf9-43e5-b66e-a10edd77a9d2\",\"type\":\"GlyphRenderer\"},{\"id\":\"6533b0bf-9785-46ce-ac91-b36c47c8f4d4\",\"type\":\"GlyphRenderer\"},{\"id\":\"d2aa0cc0-4a60-4be4-b3c0-9abf15b0fdbe\",\"type\":\"GlyphRenderer\"},{\"id\":\"c3b4f91e-3252-4e32-aff1-430983bf14ab\",\"type\":\"Legend\"}],\"title\":{\"id\":\"d8300274-df71-4f58-bafb-7ebe4f39a02d\",\"type\":\"Title\"},\"toolbar\":{\"id\":\"b2fc01ee-874c-400c-a4d5-56ee82610a2b\",\"type\":\"Toolbar\"},\"toolbar_location\":null,\"x_range\":{\"id\":\"801f9e46-a3d4-45c8-a672-37af113db5a6\",\"type\":\"Range1d\"},\"x_scale\":{\"id\":\"25b3403d-ee05-43ce-8051-7bda17d2774a\",\"type\":\"LinearScale\"},\"y_range\":{\"id\":\"e928dd2e-270b-4874-9c29-b06256196ca4\",\"type\":\"Range1d\"},\"y_scale\":{\"id\":\"7d0a6b42-da12-481e-aa15-af290e38ddb0\",\"type\":\"LinearScale\"}},\"id\":\"d8b450b3-efdc-42d3-b649-db38b3295fae\",\"subtype\":\"Figure\",\"type\":\"Plot\"},{\"attributes\":{\"ticker\":null},\"id\":\"8e3cc623-f24c-432b-bf2c-5851b7cd998b\",\"type\":\"LogTickFormatter\"},{\"attributes\":{\"ticker\":null},\"id\":\"d2ad6985-f66d-4a2c-a7d8-260e18b53904\",\"type\":\"LogTickFormatter\"},{\"attributes\":{\"plot\":null,\"text\":\"\"},\"id\":\"b0973048-1d96-4b54-b98b-b1e777c665be\",\"type\":\"Title\"},{\"attributes\":{\"callback\":null,\"data\":{\"x\":{\"__ndarray__\":\"xA2DZIOPS0CQhgKJyvxEQJLNhwEEH0JANdHB8haxPUD21DW2n9A2QKLnIYTdkDBAWjC5KDl+J0BmTy8GLnchQNFYGcXHOhxAEFh9GuUEGEAcLYwZmQQUQBiuV4kBKQ9AaIQ6XUfCBUBqOu1sptT1P0L+A0Mhn94/3zWt0/Rq8T/Mj2f1a+QCQFoUWcEScApAQy3Xx09NEECi4mx09vcSQNVrNOkIcBZAMiVq13iTHUB6mgNsVm4jQF/4zWxz+SJAd0QrVpnxHEAwKrE7+ewVQPoSXyqMNhJAH0+iZBDfDkBaSOMqmWcJQInsFxSupQRAE2GYPUK0AEALibaOaiP4PybSFGyK3PE/fVDrV/iZ7j+2QU6Y50rmP1gom3hjZtY/a0IjJ7aTxz/8+K2QkIXEP+ezfpmB6K4/SnpvyJpjuL+nKVylZcC5v/zzy6AVsZw/Bys/QcpVtz/DvXEcOKO+P6HH7bXuz8E/BrjkZcJwwz+GQsMklRfFP6kCax1ga8Y/O4SScCTYxz84a5cpimTJP0Z54UKE8Mo/dAOrSXwezD8zFkNUYDXNP8ZXUwLv980/23sNCWyqzj8xKCFBAlnPP8pxrEP3BNA/rM7pWFxf0D9shnxoS7zQP6nE6SteGdE/oeiWKgx60T8GEazYhsvRP51ZaVfDQ9I/fMLqtBvJ0j9lke9YyGHTP1ewPVbYQ9Q/D2t/HTc51T+Hj3wktPzVP43lsfQOWNY/A2YWhYML1j/gUyEsj5/VP+LZw3EwcdU/L9LFF8aF1T8E6MB4YlvWP4Jt0b3fLNw/\",\"dtype\":\"float64\",\"shape\":[75]},\"y\":{\"__ndarray__\":\"GhExyth1ND/Sv8nbtpRIP2vylNV0PVE/aTum7souWD/At0SJ8fVgPw3Iuahxymc/MSNhhJWvcD/bTfBN02d3P2zb5nxnaoA/CD5h5MAGhz8NmeH1TyaQP+zrCsc9p5Y/LbKd76fGnz/bLW5ISEmmPww9YvTcQq8/JV2OstnstT8Er5Y7M8G+P0c+r3jqkcU/5h99k6ZBzj88bCIzFzjVP4enV8oyxN0//yH99nXg5D8qOpLLf0jtP5kqGJXUifQ/c9cS8kHP/D+/DpwzojQEQIEmwoanVwxA4lgXt9HgE0BSSZ2AJuIbQAMJih9jjiNA5q4l5INuK0AwTKYKRj0zQNv5fmq8/DpAaCJseHrtQkB/+zpwzoxKQM3MzMzMeFJAZmZmZmZqWEAAAAAAAFxeQM3MzMzMJmJAmpmZmZkfZUBmZmZmZhhoQDMzMzMzEWtAAAAAAAAKbkBmZmZmZoFwQM3MzMzM/XFAMzMzMzN6c0CamZmZmfZ0QAAAAAAAc3ZAZmZmZmbvd0DNzMzMzGt5QDMzMzMz6HpAmpmZmZlkfEAAAAAAAOF9QGZmZmZmXX9AZmZmZuZsgECamZmZGSuBQM3MzMxM6YFAAAAAAICngkAzMzMzs2WDQGZmZmbmI4RAmpmZmRnihEDNzMzMTKCFQAAAAACAXoZAMzMzM7Mch0BmZmZm5tqHQJqZmZkZmYhAzczMzExXiUAAAAAAgBWKQDMzMzOz04pAZmZmZuaRi0CamZmZGVCMQM3MzMxMDo1AAAAAAIDMjUAzMzMzs4qOQGZmZmbmSI9A\",\"dtype\":\"float64\",\"shape\":[75]}},\"selected\":{\"id\":\"b0c829cf-64d9-46a9-9284-30c8e9913472\",\"type\":\"Selection\"},\"selection_policy\":{\"id\":\"9f15e2c9-29f9-4e16-bae4-409fc97d038a\",\"type\":\"UnionRenderers\"}},\"id\":\"2f99f19c-6f44-432e-afcd-4e942b905aa5\",\"type\":\"ColumnDataSource\"},{\"attributes\":{\"num_minor_ticks\":10},\"id\":\"93af2f9f-e293-458e-8f74-554984ffecac\",\"type\":\"LogTicker\"},{\"attributes\":{},\"id\":\"d1620f00-99d5-46d6-8de7-24cdf46528e5\",\"type\":\"HelpTool\"},{\"attributes\":{},\"id\":\"5209b2ac-000a-449e-819d-84e0c3e4de80\",\"type\":\"ResetTool\"},{\"attributes\":{\"fill_alpha\":{\"value\":0.7},\"fill_color\":{\"value\":\"#4daf4a\"},\"line_alpha\":{\"value\":0.7},\"line_color\":{\"value\":\"#4daf4a\"},\"x\":{\"field\":\"x\"},\"y\":{\"field\":\"y\"}},\"id\":\"eeb7026a-d67d-44ec-9632-1f35bb011005\",\"type\":\"Circle\"},{\"attributes\":{\"overlay\":{\"id\":\"4b22bace-8676-4b0e-81f4-ac0257c54a9b\",\"type\":\"BoxAnnotation\"}},\"id\":\"57c58bab-3bc8-4213-9dc0-80cacfcfd39b\",\"type\":\"BoxZoomTool\"},{\"attributes\":{},\"id\":\"dd3bd8e6-5ef3-408b-8f76-a93834da26a6\",\"type\":\"BasicTickFormatter\"},{\"attributes\":{},\"id\":\"fca104c4-b465-4053-8ce2-5b5fa2230e3a\",\"type\":\"WheelZoomTool\"},{\"attributes\":{},\"id\":\"24ddad15-66e5-4100-a695-d084a2ccaa78\",\"type\":\"LinearScale\"},{\"attributes\":{\"plot\":null,\"text\":\"\"},\"id\":\"c1e51a02-22ec-4c94-a47b-01e92981d0f2\",\"type\":\"Title\"},{\"attributes\":{},\"id\":\"6093034b-8743-4c3d-bafb-04272df68267\",\"type\":\"WheelZoomTool\"},{\"attributes\":{\"overlay\":{\"id\":\"5f80ca29-b5af-409b-a91a-c220edb48d67\",\"type\":\"BoxAnnotation\"}},\"id\":\"6a3bf925-06fe-4717-b256-a9f9d9aab792\",\"type\":\"BoxZoomTool\"},{\"attributes\":{},\"id\":\"b9f5a3ba-9909-4f26-a41f-255c2f4176e9\",\"type\":\"PanTool\"},{\"attributes\":{\"line_alpha\":0.1,\"line_color\":\"#1f77b4\",\"line_dash\":[6],\"line_width\":5,\"x\":{\"field\":\"x\"},\"y\":{\"field\":\"y\"}},\"id\":\"c1dbd016-38a9-40bd-91d4-cae941f679f0\",\"type\":\"Line\"},{\"attributes\":{\"source\":{\"id\":\"a3c51943-76ca-4b4e-93b0-37c050c0b901\",\"type\":\"ColumnDataSource\"}},\"id\":\"72007436-bbca-4932-9a91-e71404770ed0\",\"type\":\"CDSView\"},{\"attributes\":{},\"id\":\"dc5df8a0-75d1-4dc9-89e1-4e47416da737\",\"type\":\"UnionRenderers\"},{\"attributes\":{},\"id\":\"36fd00a5-73fe-47d9-917d-746988a5544e\",\"type\":\"BasicTicker\"},{\"attributes\":{\"fill_alpha\":{\"value\":0.1},\"fill_color\":{\"value\":\"#1f77b4\"},\"line_alpha\":{\"value\":0.1},\"line_color\":{\"value\":\"#1f77b4\"},\"x\":{\"field\":\"x\"},\"y\":{\"field\":\"y\"}},\"id\":\"cf48c821-3b87-4f4d-8813-f9d3a640972c\",\"type\":\"Circle\"},{\"attributes\":{},\"id\":\"ebfd600f-e2cc-4829-92df-2ce3d6e4d99d\",\"type\":\"LogScale\"},{\"attributes\":{\"items\":[{\"id\":\"56a30820-f1a2-4046-a52b-090d5d2b7ab4\",\"type\":\"LegendItem\"},{\"id\":\"11c96dcf-f863-4558-b675-0e9eb06e3e1a\",\"type\":\"LegendItem\"}],\"label_text_font_size\":{\"value\":\"8pt\"},\"location\":\"top_center\",\"orientation\":\"horizontal\",\"plot\":{\"id\":\"f8600478-2c8a-4c87-8682-c84492c1a0de\",\"subtype\":\"Figure\",\"type\":\"Plot\"}},\"id\":\"6b58920a-3dbc-481b-95bb-a9644514dcd2\",\"type\":\"Legend\"},{\"attributes\":{\"data_source\":{\"id\":\"2fd9b52f-507b-4d8b-9912-6f16bd354c5b\",\"type\":\"ColumnDataSource\"},\"glyph\":{\"id\":\"4f8af06b-715d-4f5a-acad-7e7cb6011807\",\"type\":\"Line\"},\"hover_glyph\":null,\"muted_glyph\":null,\"nonselection_glyph\":{\"id\":\"d21840ca-5462-41af-bbe4-a24806af3355\",\"type\":\"Line\"},\"selection_glyph\":null,\"view\":{\"id\":\"d38c417e-7dff-469f-b202-ee4a9361f362\",\"type\":\"CDSView\"}},\"id\":\"aa01588e-ac35-4e28-8f2e-dcc98a78a524\",\"type\":\"GlyphRenderer\"},{\"attributes\":{\"fill_alpha\":{\"value\":0.1},\"fill_color\":{\"value\":\"#1f77b4\"},\"line_alpha\":{\"value\":0.1},\"line_color\":{\"value\":\"#1f77b4\"},\"x\":{\"field\":\"x\"},\"y\":{\"field\":\"y\"}},\"id\":\"c2aa832c-c000-40b6-b8ee-006b98224c5c\",\"type\":\"Circle\"},{\"attributes\":{\"data_source\":{\"id\":\"2f99f19c-6f44-432e-afcd-4e942b905aa5\",\"type\":\"ColumnDataSource\"},\"glyph\":{\"id\":\"35b18f86-b472-43d5-a0ee-d003ed9357f5\",\"type\":\"Line\"},\"hover_glyph\":null,\"muted_glyph\":null,\"nonselection_glyph\":{\"id\":\"c1dbd016-38a9-40bd-91d4-cae941f679f0\",\"type\":\"Line\"},\"selection_glyph\":null,\"view\":{\"id\":\"6e927045-488b-4c9d-9530-914c090ee522\",\"type\":\"CDSView\"}},\"id\":\"543510e0-7cf9-43e5-b66e-a10edd77a9d2\",\"type\":\"GlyphRenderer\"},{\"attributes\":{\"data_source\":{\"id\":\"b08e38e1-d76d-4e4b-a705-cec64482debc\",\"type\":\"ColumnDataSource\"},\"glyph\":{\"id\":\"98742d37-f6e8-42d0-855d-f1f45b915f95\",\"type\":\"Line\"},\"hover_glyph\":null,\"muted_glyph\":null,\"nonselection_glyph\":{\"id\":\"31641131-c48a-4eb3-bca6-79d4e4d9457d\",\"type\":\"Line\"},\"selection_glyph\":null,\"view\":{\"id\":\"902d85dc-7b63-4f0a-91fa-67fd3f8443bc\",\"type\":\"CDSView\"}},\"id\":\"4799bce7-a53b-400b-a9ad-4bae3c423702\",\"type\":\"GlyphRenderer\"},{\"attributes\":{\"active_drag\":\"auto\",\"active_inspect\":\"auto\",\"active_scroll\":\"auto\",\"active_tap\":\"auto\",\"tools\":[{\"id\":\"ef9d0f43-a7b1-41c2-9f3e-7488d4cf7a15\",\"type\":\"PanTool\"},{\"id\":\"15211084-325f-4dbf-ad4b-d9df308c583e\",\"type\":\"WheelZoomTool\"},{\"id\":\"57c58bab-3bc8-4213-9dc0-80cacfcfd39b\",\"type\":\"BoxZoomTool\"},{\"id\":\"ce3ae0ab-ff51-4166-88f9-a1e237f607da\",\"type\":\"SaveTool\"},{\"id\":\"5209b2ac-000a-449e-819d-84e0c3e4de80\",\"type\":\"ResetTool\"},{\"id\":\"b5b1ee81-a049-4936-900f-d50fb0b99535\",\"type\":\"HelpTool\"}]},\"id\":\"b2fc01ee-874c-400c-a4d5-56ee82610a2b\",\"type\":\"Toolbar\"},{\"attributes\":{\"axis_label\":\"cooling rate [K/day]\",\"formatter\":{\"id\":\"ecaa48cb-5432-4c5f-af58-1a9aacae103e\",\"type\":\"BasicTickFormatter\"},\"plot\":{\"id\":\"d8b450b3-efdc-42d3-b649-db38b3295fae\",\"subtype\":\"Figure\",\"type\":\"Plot\"},\"ticker\":{\"id\":\"36fd00a5-73fe-47d9-917d-746988a5544e\",\"type\":\"BasicTicker\"}},\"id\":\"659de410-789c-4ef5-a23a-de841c8d4e89\",\"type\":\"LinearAxis\"},{\"attributes\":{\"line_alpha\":0.1,\"line_color\":\"#1f77b4\",\"line_width\":1.5,\"x\":{\"field\":\"x\"},\"y\":{\"field\":\"y\"}},\"id\":\"d21840ca-5462-41af-bbe4-a24806af3355\",\"type\":\"Line\"},{\"attributes\":{\"plot\":null,\"text\":\"\"},\"id\":\"d8300274-df71-4f58-bafb-7ebe4f39a02d\",\"type\":\"Title\"},{\"attributes\":{\"source\":{\"id\":\"2f99f19c-6f44-432e-afcd-4e942b905aa5\",\"type\":\"ColumnDataSource\"}},\"id\":\"6e927045-488b-4c9d-9530-914c090ee522\",\"type\":\"CDSView\"},{\"attributes\":{},\"id\":\"9ac19941-7c9e-4c6f-85a7-edd5b0c0716b\",\"type\":\"UnionRenderers\"},{\"attributes\":{},\"id\":\"2b559533-623a-444f-9c84-0fe0ee9809d6\",\"type\":\"Selection\"},{\"attributes\":{\"data_source\":{\"id\":\"4832a9a0-6a44-442c-81fe-7d4c802e60c7\",\"type\":\"ColumnDataSource\"},\"glyph\":{\"id\":\"8914e322-8455-4afc-ad07-355b250630a2\",\"type\":\"Circle\"},\"hover_glyph\":null,\"muted_glyph\":null,\"nonselection_glyph\":{\"id\":\"c2aa832c-c000-40b6-b8ee-006b98224c5c\",\"type\":\"Circle\"},\"selection_glyph\":null,\"view\":{\"id\":\"9562bbe5-6fb1-4dd2-91db-e3757acfe128\",\"type\":\"CDSView\"}},\"id\":\"b3254b1f-954d-4a90-8bdd-0ebf044f5b4e\",\"type\":\"GlyphRenderer\"},{\"attributes\":{\"line_alpha\":0.1,\"line_color\":\"#1f77b4\",\"line_width\":1.5,\"x\":{\"field\":\"x\"},\"y\":{\"field\":\"y\"}},\"id\":\"3f81c7a1-27ff-4fea-a14a-ba90c6ba9afe\",\"type\":\"Line\"},{\"attributes\":{\"num_minor_ticks\":10},\"id\":\"716b0701-f34f-45d2-bb67-98c6925b49a2\",\"type\":\"LogTicker\"},{\"attributes\":{\"dimension\":1,\"plot\":{\"id\":\"bcd1e54e-48a4-4eae-a752-3c0ba2fad6be\",\"subtype\":\"Figure\",\"type\":\"Plot\"},\"ticker\":{\"id\":\"716b0701-f34f-45d2-bb67-98c6925b49a2\",\"type\":\"LogTicker\"}},\"id\":\"1abeeedd-b25a-4e9f-ad00-74a8acc64633\",\"type\":\"Grid\"},{\"attributes\":{\"callback\":null,\"data\":{\"x\":{\"__ndarray__\":\"9jm0jPhfU0BYWlpDns5EQGgeYzX/2kBAe3FtnkbcOkAZ4BP7mSU1QKejDHXclTBAVcQkgNAaKkDpR021r7YkQM/viBzOlyBADIhcjd+/GkCR1E7624AVQMIEHCiK8BBAV+ix3/4qCUBna79O9vz8P/UjlKosd+k/VAMMq8xq8z9wUOLdanACQKQ87s+ryghArjgixePuDkDsR1hFUAoTQIP/VKx/uRdAP8IuX54/H0Ama35DewEkQIsE2QZ8TyNAZtX+BqGzHUBOXeQjw/cWQHoM1omZORJAAtp4nb1lDUCSHq9KkkcIQADtl6yiPQRASzF8Tr5OAECEwbOImpz4Pzo0H66Zm/I/W6ttbrs17T8xiGfIOoXkP7qUBPI24NY/5K9bEIK4yT+FTpHFsufCPy6eqW+TrKA/5VJVmxF7vr9ryouFu+28v6B8I7WuI54/sm0jLpgpuj8630tCImTBP4qoZJyhQcQ/5L7UFUxxxj+NXtc4JTzIP4ayvj/DyMk/5YRIfNYxyz99/72Mpn7MP6We4HN4nc0/5R0oPURwzj/GiVmM6OvOP8GHwy/ELM8/aRoBDkJdzz/a1asRCJfPP6Fao6q5388/jZZDD1wc0D9U4dgnKFHQPwsteISkjdA/VP3aYxvT0D+0IDn13yTRPxeXQjD9h9E/QirTlM4D0j8RVraatKPSPzH17qRJdtM/Cse8JlVv1D9M6h8b/EHVP3eCtLjjitU/pYBd2iNF1T/lBLD8DtnUPz2hBY+QpNQ/HaVQJg7R1D/dpEUc+5nVP5nTdxRtgts/\",\"dtype\":\"float64\",\"shape\":[75]},\"y\":{\"__ndarray__\":\"GhExyth1ND/Sv8nbtpRIP2vylNV0PVE/aTum7souWD/At0SJ8fVgPw3Iuahxymc/MSNhhJWvcD/bTfBN02d3P2zb5nxnaoA/CD5h5MAGhz8NmeH1TyaQP+zrCsc9p5Y/LbKd76fGnz/bLW5ISEmmPww9YvTcQq8/JV2OstnstT8Er5Y7M8G+P0c+r3jqkcU/5h99k6ZBzj88bCIzFzjVP4enV8oyxN0//yH99nXg5D8qOpLLf0jtP5kqGJXUifQ/c9cS8kHP/D+/DpwzojQEQIEmwoanVwxA4lgXt9HgE0BSSZ2AJuIbQAMJih9jjiNA5q4l5INuK0AwTKYKRj0zQNv5fmq8/DpAaCJseHrtQkB/+zpwzoxKQM3MzMzMeFJAZmZmZmZqWEAAAAAAAFxeQM3MzMzMJmJAmpmZmZkfZUBmZmZmZhhoQDMzMzMzEWtAAAAAAAAKbkBmZmZmZoFwQM3MzMzM/XFAMzMzMzN6c0CamZmZmfZ0QAAAAAAAc3ZAZmZmZmbvd0DNzMzMzGt5QDMzMzMz6HpAmpmZmZlkfEAAAAAAAOF9QGZmZmZmXX9AZmZmZuZsgECamZmZGSuBQM3MzMxM6YFAAAAAAICngkAzMzMzs2WDQGZmZmbmI4RAmpmZmRnihEDNzMzMTKCFQAAAAACAXoZAMzMzM7Mch0BmZmZm5tqHQJqZmZkZmYhAzczMzExXiUAAAAAAgBWKQDMzMzOz04pAZmZmZuaRi0CamZmZGVCMQM3MzMxMDo1AAAAAAIDMjUAzMzMzs4qOQGZmZmbmSI9A\",\"dtype\":\"float64\",\"shape\":[75]}},\"selected\":{\"id\":\"f1b2a42a-5411-4106-b460-428586ff5bda\",\"type\":\"Selection\"},\"selection_policy\":{\"id\":\"dc5df8a0-75d1-4dc9-89e1-4e47416da737\",\"type\":\"UnionRenderers\"}},\"id\":\"a1a30eee-37c7-4b6d-bb2f-3f48df5f7dbe\",\"type\":\"ColumnDataSource\"},{\"attributes\":{},\"id\":\"7d0a6b42-da12-481e-aa15-af290e38ddb0\",\"type\":\"LinearScale\"},{\"attributes\":{\"callback\":null,\"end\":0.01,\"start\":1020},\"id\":\"e928dd2e-270b-4874-9c29-b06256196ca4\",\"type\":\"Range1d\"},{\"attributes\":{\"axis_label\":\"cooling rate [K/day]\",\"formatter\":{\"id\":\"5ac53746-96e3-481f-a183-d6cc133feac3\",\"type\":\"BasicTickFormatter\"},\"plot\":{\"id\":\"f8600478-2c8a-4c87-8682-c84492c1a0de\",\"subtype\":\"Figure\",\"type\":\"Plot\"},\"ticker\":{\"id\":\"67046ca9-a5ae-4e72-8848-07091651204c\",\"type\":\"BasicTicker\"}},\"id\":\"c02ad92c-f32f-4546-aea3-85ec80b916b1\",\"type\":\"LinearAxis\"},{\"attributes\":{\"callback\":null,\"data\":{\"x\":{\"__ndarray__\":\"9jm0jPhfU0BYWlpDns5EQGgeYzX/2kBAe3FtnkbcOkAZ4BP7mSU1QKejDHXclTBAVcQkgNAaKkDpR021r7YkQM/viBzOlyBADIhcjd+/GkCR1E7624AVQMIEHCiK8BBAV+ix3/4qCUBna79O9vz8P/UjlKosd+k/VAMMq8xq8z9wUOLdanACQKQ87s+ryghArjgixePuDkDsR1hFUAoTQIP/VKx/uRdAP8IuX54/H0Ama35DewEkQIsE2QZ8TyNAZtX+BqGzHUBOXeQjw/cWQHoM1omZORJAAtp4nb1lDUCSHq9KkkcIQADtl6yiPQRASzF8Tr5OAECEwbOImpz4Pzo0H66Zm/I/W6ttbrs17T8xiGfIOoXkP7qUBPI24NY/5K9bEIK4yT+FTpHFsufCPy6eqW+TrKA/5VJVmxF7vr9ryouFu+28v6B8I7WuI54/sm0jLpgpuj8630tCImTBP4qoZJyhQcQ/5L7UFUxxxj+NXtc4JTzIP4ayvj/DyMk/5YRIfNYxyz99/72Mpn7MP6We4HN4nc0/5R0oPURwzj/GiVmM6OvOP8GHwy/ELM8/aRoBDkJdzz/a1asRCJfPP6Fao6q5388/jZZDD1wc0D9U4dgnKFHQPwsteISkjdA/VP3aYxvT0D+0IDn13yTRPxeXQjD9h9E/QirTlM4D0j8RVraatKPSPzH17qRJdtM/Cse8JlVv1D9M6h8b/EHVP3eCtLjjitU/pYBd2iNF1T/lBLD8DtnUPz2hBY+QpNQ/HaVQJg7R1D/dpEUc+5nVP5nTdxRtgts/\",\"dtype\":\"float64\",\"shape\":[75]},\"y\":{\"__ndarray__\":\"GhExyth1ND/Sv8nbtpRIP2vylNV0PVE/aTum7souWD/At0SJ8fVgPw3Iuahxymc/MSNhhJWvcD/bTfBN02d3P2zb5nxnaoA/CD5h5MAGhz8NmeH1TyaQP+zrCsc9p5Y/LbKd76fGnz/bLW5ISEmmPww9YvTcQq8/JV2OstnstT8Er5Y7M8G+P0c+r3jqkcU/5h99k6ZBzj88bCIzFzjVP4enV8oyxN0//yH99nXg5D8qOpLLf0jtP5kqGJXUifQ/c9cS8kHP/D+/DpwzojQEQIEmwoanVwxA4lgXt9HgE0BSSZ2AJuIbQAMJih9jjiNA5q4l5INuK0AwTKYKRj0zQNv5fmq8/DpAaCJseHrtQkB/+zpwzoxKQM3MzMzMeFJAZmZmZmZqWEAAAAAAAFxeQM3MzMzMJmJAmpmZmZkfZUBmZmZmZhhoQDMzMzMzEWtAAAAAAAAKbkBmZmZmZoFwQM3MzMzM/XFAMzMzMzN6c0CamZmZmfZ0QAAAAAAAc3ZAZmZmZmbvd0DNzMzMzGt5QDMzMzMz6HpAmpmZmZlkfEAAAAAAAOF9QGZmZmZmXX9AZmZmZuZsgECamZmZGSuBQM3MzMxM6YFAAAAAAICngkAzMzMzs2WDQGZmZmbmI4RAmpmZmRnihEDNzMzMTKCFQAAAAACAXoZAMzMzM7Mch0BmZmZm5tqHQJqZmZkZmYhAzczMzExXiUAAAAAAgBWKQDMzMzOz04pAZmZmZuaRi0CamZmZGVCMQM3MzMxMDo1AAAAAAIDMjUAzMzMzs4qOQGZmZmbmSI9A\",\"dtype\":\"float64\",\"shape\":[75]}},\"selected\":{\"id\":\"54112a11-047b-491f-9054-c80d82e31f57\",\"type\":\"Selection\"},\"selection_policy\":{\"id\":\"19a828bb-3d35-47e6-ad18-6f77c23a32b5\",\"type\":\"UnionRenderers\"}},\"id\":\"b08e38e1-d76d-4e4b-a705-cec64482debc\",\"type\":\"ColumnDataSource\"},{\"attributes\":{},\"id\":\"8f07252e-1bf3-429f-9f0e-abd283d99a34\",\"type\":\"UnionRenderers\"},{\"attributes\":{\"axis_label\":\"pressure [mb]\",\"formatter\":{\"id\":\"d2ad6985-f66d-4a2c-a7d8-260e18b53904\",\"type\":\"LogTickFormatter\"},\"plot\":{\"id\":\"bcd1e54e-48a4-4eae-a752-3c0ba2fad6be\",\"subtype\":\"Figure\",\"type\":\"Plot\"},\"ticker\":{\"id\":\"716b0701-f34f-45d2-bb67-98c6925b49a2\",\"type\":\"LogTicker\"}},\"id\":\"0e855702-02e3-4afd-99f3-04a2923a8953\",\"type\":\"LogAxis\"},{\"attributes\":{\"source\":{\"id\":\"2fd9b52f-507b-4d8b-9912-6f16bd354c5b\",\"type\":\"ColumnDataSource\"}},\"id\":\"d38c417e-7dff-469f-b202-ee4a9361f362\",\"type\":\"CDSView\"},{\"attributes\":{\"source\":{\"id\":\"a1a30eee-37c7-4b6d-bb2f-3f48df5f7dbe\",\"type\":\"ColumnDataSource\"}},\"id\":\"bc23c6cf-2831-423a-8cb5-6d4ad53c2fc6\",\"type\":\"CDSView\"},{\"attributes\":{\"callback\":null,\"data\":{\"x\":{\"__ndarray__\":\"9jm0jPhfU0BYWlpDns5EQGgeYzX/2kBAe3FtnkbcOkAZ4BP7mSU1QKejDHXclTBAVcQkgNAaKkDpR021r7YkQM/viBzOlyBADIhcjd+/GkCR1E7624AVQMIEHCiK8BBAV+ix3/4qCUBna79O9vz8P/UjlKosd+k/VAMMq8xq8z9wUOLdanACQKQ87s+ryghArjgixePuDkDsR1hFUAoTQIP/VKx/uRdAP8IuX54/H0Ama35DewEkQIsE2QZ8TyNAZtX+BqGzHUBOXeQjw/cWQHoM1omZORJAAtp4nb1lDUCSHq9KkkcIQADtl6yiPQRASzF8Tr5OAECEwbOImpz4Pzo0H66Zm/I/W6ttbrs17T8xiGfIOoXkP7qUBPI24NY/5K9bEIK4yT+FTpHFsufCPy6eqW+TrKA/5VJVmxF7vr9ryouFu+28v6B8I7WuI54/sm0jLpgpuj8630tCImTBP4qoZJyhQcQ/5L7UFUxxxj+NXtc4JTzIP4ayvj/DyMk/5YRIfNYxyz99/72Mpn7MP6We4HN4nc0/5R0oPURwzj/GiVmM6OvOP8GHwy/ELM8/aRoBDkJdzz/a1asRCJfPP6Fao6q5388/jZZDD1wc0D9U4dgnKFHQPwsteISkjdA/VP3aYxvT0D+0IDn13yTRPxeXQjD9h9E/QirTlM4D0j8RVraatKPSPzH17qRJdtM/Cse8JlVv1D9M6h8b/EHVP3eCtLjjitU/pYBd2iNF1T/lBLD8DtnUPz2hBY+QpNQ/HaVQJg7R1D/dpEUc+5nVP5nTdxRtgts/\",\"dtype\":\"float64\",\"shape\":[75]},\"y\":{\"__ndarray__\":\"GhExyth1ND/Sv8nbtpRIP2vylNV0PVE/aTum7souWD/At0SJ8fVgPw3Iuahxymc/MSNhhJWvcD/bTfBN02d3P2zb5nxnaoA/CD5h5MAGhz8NmeH1TyaQP+zrCsc9p5Y/LbKd76fGnz/bLW5ISEmmPww9YvTcQq8/JV2OstnstT8Er5Y7M8G+P0c+r3jqkcU/5h99k6ZBzj88bCIzFzjVP4enV8oyxN0//yH99nXg5D8qOpLLf0jtP5kqGJXUifQ/c9cS8kHP/D+/DpwzojQEQIEmwoanVwxA4lgXt9HgE0BSSZ2AJuIbQAMJih9jjiNA5q4l5INuK0AwTKYKRj0zQNv5fmq8/DpAaCJseHrtQkB/+zpwzoxKQM3MzMzMeFJAZmZmZmZqWEAAAAAAAFxeQM3MzMzMJmJAmpmZmZkfZUBmZmZmZhhoQDMzMzMzEWtAAAAAAAAKbkBmZmZmZoFwQM3MzMzM/XFAMzMzMzN6c0CamZmZmfZ0QAAAAAAAc3ZAZmZmZmbvd0DNzMzMzGt5QDMzMzMz6HpAmpmZmZlkfEAAAAAAAOF9QGZmZmZmXX9AZmZmZuZsgECamZmZGSuBQM3MzMxM6YFAAAAAAICngkAzMzMzs2WDQGZmZmbmI4RAmpmZmRnihEDNzMzMTKCFQAAAAACAXoZAMzMzM7Mch0BmZmZm5tqHQJqZmZkZmYhAzczMzExXiUAAAAAAgBWKQDMzMzOz04pAZmZmZuaRi0CamZmZGVCMQM3MzMxMDo1AAAAAAIDMjUAzMzMzs4qOQGZmZmbmSI9A\",\"dtype\":\"float64\",\"shape\":[75]}},\"selected\":{\"id\":\"2b559533-623a-444f-9c84-0fe0ee9809d6\",\"type\":\"Selection\"},\"selection_policy\":{\"id\":\"3893c648-9875-465f-be32-cd66c25b9c37\",\"type\":\"UnionRenderers\"}},\"id\":\"daaf52d6-0025-41a1-8859-28494fd317b7\",\"type\":\"ColumnDataSource\"},{\"attributes\":{},\"id\":\"19a828bb-3d35-47e6-ad18-6f77c23a32b5\",\"type\":\"UnionRenderers\"},{\"attributes\":{\"axis_label\":\"pressure [mb]\",\"formatter\":{\"id\":\"dd3bd8e6-5ef3-408b-8f76-a93834da26a6\",\"type\":\"BasicTickFormatter\"},\"plot\":{\"id\":\"d8b450b3-efdc-42d3-b649-db38b3295fae\",\"subtype\":\"Figure\",\"type\":\"Plot\"},\"ticker\":{\"id\":\"052855b4-0398-4057-bfb5-1830b574f737\",\"type\":\"BasicTicker\"}},\"id\":\"da6bb16f-ea8a-4171-809c-cae1931d3a0c\",\"type\":\"LinearAxis\"},{\"attributes\":{},\"id\":\"67046ca9-a5ae-4e72-8848-07091651204c\",\"type\":\"BasicTicker\"},{\"attributes\":{},\"id\":\"4fdf4a50-b3a7-4612-a904-89d3ee5e314d\",\"type\":\"Selection\"},{\"attributes\":{\"overlay\":{\"id\":\"d871e4a2-77e2-49ff-b37a-fd3cb9c33fb7\",\"type\":\"BoxAnnotation\"}},\"id\":\"160bb43c-1fdc-49b6-adf0-4edaf70e1fbf\",\"type\":\"BoxZoomTool\"},{\"attributes\":{},\"id\":\"25b3403d-ee05-43ce-8051-7bda17d2774a\",\"type\":\"LinearScale\"},{\"attributes\":{},\"id\":\"f94cdfab-b53f-49da-9f00-94e69c29c9f9\",\"type\":\"LinearScale\"},{\"attributes\":{\"fill_alpha\":{\"value\":0.1},\"fill_color\":{\"value\":\"#1f77b4\"},\"line_alpha\":{\"value\":0.1},\"line_color\":{\"value\":\"#1f77b4\"},\"x\":{\"field\":\"x\"},\"y\":{\"field\":\"y\"}},\"id\":\"0a10b70a-c5a3-40e9-9cfd-9f690109af62\",\"type\":\"Circle\"},{\"attributes\":{\"source\":{\"id\":\"b08e38e1-d76d-4e4b-a705-cec64482debc\",\"type\":\"ColumnDataSource\"}},\"id\":\"902d85dc-7b63-4f0a-91fa-67fd3f8443bc\",\"type\":\"CDSView\"},{\"attributes\":{\"items\":[{\"id\":\"045778ce-b282-42c8-94f4-d0d6fe38fd99\",\"type\":\"LegendItem\"},{\"id\":\"f6f4ed7d-481a-46cd-a167-b0b5248ef608\",\"type\":\"LegendItem\"}],\"label_text_font_size\":{\"value\":\"8pt\"},\"location\":\"top_center\",\"orientation\":\"horizontal\",\"plot\":{\"id\":\"d8b450b3-efdc-42d3-b649-db38b3295fae\",\"subtype\":\"Figure\",\"type\":\"Plot\"}},\"id\":\"c3b4f91e-3252-4e32-aff1-430983bf14ab\",\"type\":\"Legend\"},{\"attributes\":{\"callback\":null,\"data\":{\"x\":{\"__ndarray__\":\"9jm0jPhfU0BYWlpDns5EQGgeYzX/2kBAe3FtnkbcOkAZ4BP7mSU1QKejDHXclTBAVcQkgNAaKkDpR021r7YkQM/viBzOlyBADIhcjd+/GkCR1E7624AVQMIEHCiK8BBAV+ix3/4qCUBna79O9vz8P/UjlKosd+k/VAMMq8xq8z9wUOLdanACQKQ87s+ryghArjgixePuDkDsR1hFUAoTQIP/VKx/uRdAP8IuX54/H0Ama35DewEkQIsE2QZ8TyNAZtX+BqGzHUBOXeQjw/cWQHoM1omZORJAAtp4nb1lDUCSHq9KkkcIQADtl6yiPQRASzF8Tr5OAECEwbOImpz4Pzo0H66Zm/I/W6ttbrs17T8xiGfIOoXkP7qUBPI24NY/5K9bEIK4yT+FTpHFsufCPy6eqW+TrKA/5VJVmxF7vr9ryouFu+28v6B8I7WuI54/sm0jLpgpuj8630tCImTBP4qoZJyhQcQ/5L7UFUxxxj+NXtc4JTzIP4ayvj/DyMk/5YRIfNYxyz99/72Mpn7MP6We4HN4nc0/5R0oPURwzj/GiVmM6OvOP8GHwy/ELM8/aRoBDkJdzz/a1asRCJfPP6Fao6q5388/jZZDD1wc0D9U4dgnKFHQPwsteISkjdA/VP3aYxvT0D+0IDn13yTRPxeXQjD9h9E/QirTlM4D0j8RVraatKPSPzH17qRJdtM/Cse8JlVv1D9M6h8b/EHVP3eCtLjjitU/pYBd2iNF1T/lBLD8DtnUPz2hBY+QpNQ/HaVQJg7R1D/dpEUc+5nVP5nTdxRtgts/\",\"dtype\":\"float64\",\"shape\":[75]},\"y\":{\"__ndarray__\":\"GhExyth1ND/Sv8nbtpRIP2vylNV0PVE/aTum7souWD/At0SJ8fVgPw3Iuahxymc/MSNhhJWvcD/bTfBN02d3P2zb5nxnaoA/CD5h5MAGhz8NmeH1TyaQP+zrCsc9p5Y/LbKd76fGnz/bLW5ISEmmPww9YvTcQq8/JV2OstnstT8Er5Y7M8G+P0c+r3jqkcU/5h99k6ZBzj88bCIzFzjVP4enV8oyxN0//yH99nXg5D8qOpLLf0jtP5kqGJXUifQ/c9cS8kHP/D+/DpwzojQEQIEmwoanVwxA4lgXt9HgE0BSSZ2AJuIbQAMJih9jjiNA5q4l5INuK0AwTKYKRj0zQNv5fmq8/DpAaCJseHrtQkB/+zpwzoxKQM3MzMzMeFJAZmZmZmZqWEAAAAAAAFxeQM3MzMzMJmJAmpmZmZkfZUBmZmZmZhhoQDMzMzMzEWtAAAAAAAAKbkBmZmZmZoFwQM3MzMzM/XFAMzMzMzN6c0CamZmZmfZ0QAAAAAAAc3ZAZmZmZmbvd0DNzMzMzGt5QDMzMzMz6HpAmpmZmZlkfEAAAAAAAOF9QGZmZmZmXX9AZmZmZuZsgECamZmZGSuBQM3MzMxM6YFAAAAAAICngkAzMzMzs2WDQGZmZmbmI4RAmpmZmRnihEDNzMzMTKCFQAAAAACAXoZAMzMzM7Mch0BmZmZm5tqHQJqZmZkZmYhAzczMzExXiUAAAAAAgBWKQDMzMzOz04pAZmZmZuaRi0CamZmZGVCMQM3MzMxMDo1AAAAAAIDMjUAzMzMzs4qOQGZmZmbmSI9A\",\"dtype\":\"float64\",\"shape\":[75]}},\"selected\":{\"id\":\"6790421d-00b6-47df-8ef5-ff9e02ff135a\",\"type\":\"Selection\"},\"selection_policy\":{\"id\":\"9ac19941-7c9e-4c6f-85a7-edd5b0c0716b\",\"type\":\"UnionRenderers\"}},\"id\":\"a3c51943-76ca-4b4e-93b0-37c050c0b901\",\"type\":\"ColumnDataSource\"},{\"attributes\":{},\"id\":\"5be92384-2ee8-4c93-94c0-a320014c47a1\",\"type\":\"ResetTool\"},{\"attributes\":{\"line_alpha\":0.6,\"line_color\":\"#e41a1c\",\"line_dash\":[6],\"line_width\":5,\"x\":{\"field\":\"x\"},\"y\":{\"field\":\"y\"}},\"id\":\"2dfbe8b4-df58-4ef3-b46e-6734390b2b96\",\"type\":\"Line\"},{\"attributes\":{\"children\":[{\"id\":\"d8b450b3-efdc-42d3-b649-db38b3295fae\",\"subtype\":\"Figure\",\"type\":\"Plot\"},{\"id\":\"f8600478-2c8a-4c87-8682-c84492c1a0de\",\"subtype\":\"Figure\",\"type\":\"Plot\"},{\"id\":\"bcd1e54e-48a4-4eae-a752-3c0ba2fad6be\",\"subtype\":\"Figure\",\"type\":\"Plot\"}]},\"id\":\"f2b643d1-53cc-4954-866a-cf4638d5f80e\",\"type\":\"Row\"},{\"attributes\":{\"active_drag\":\"auto\",\"active_inspect\":\"auto\",\"active_scroll\":\"auto\",\"active_tap\":\"auto\",\"tools\":[{\"id\":\"b9f5a3ba-9909-4f26-a41f-255c2f4176e9\",\"type\":\"PanTool\"},{\"id\":\"6093034b-8743-4c3d-bafb-04272df68267\",\"type\":\"WheelZoomTool\"},{\"id\":\"6a3bf925-06fe-4717-b256-a9f9d9aab792\",\"type\":\"BoxZoomTool\"},{\"id\":\"042eb96c-461e-4260-86b7-4849c208193c\",\"type\":\"SaveTool\"},{\"id\":\"67a36cb1-9a66-4d19-af5e-103f50b3ee8a\",\"type\":\"ResetTool\"},{\"id\":\"d1620f00-99d5-46d6-8de7-24cdf46528e5\",\"type\":\"HelpTool\"}]},\"id\":\"4b6c5a5c-8b98-4c60-9016-e00cc8834eb6\",\"type\":\"Toolbar\"},{\"attributes\":{\"line_alpha\":0.1,\"line_color\":\"#1f77b4\",\"line_dash\":[6],\"line_width\":5,\"x\":{\"field\":\"x\"},\"y\":{\"field\":\"y\"}},\"id\":\"b9346e03-ef5d-47d1-83b7-6b0acebc3046\",\"type\":\"Line\"},{\"attributes\":{\"above\":[{\"id\":\"6b58920a-3dbc-481b-95bb-a9644514dcd2\",\"type\":\"Legend\"}],\"below\":[{\"id\":\"c02ad92c-f32f-4546-aea3-85ec80b916b1\",\"type\":\"LinearAxis\"}],\"left\":[{\"id\":\"7a58cedf-49da-4542-8398-daa012d847e7\",\"type\":\"LogAxis\"}],\"plot_width\":300,\"renderers\":[{\"id\":\"c02ad92c-f32f-4546-aea3-85ec80b916b1\",\"type\":\"LinearAxis\"},{\"id\":\"e5807f3c-b00b-47a5-ac60-d09404a30bb2\",\"type\":\"Grid\"},{\"id\":\"7a58cedf-49da-4542-8398-daa012d847e7\",\"type\":\"LogAxis\"},{\"id\":\"033c1676-7add-41e3-8774-f4105459a274\",\"type\":\"Grid\"},{\"id\":\"5f80ca29-b5af-409b-a91a-c220edb48d67\",\"type\":\"BoxAnnotation\"},{\"id\":\"9aa1b4bd-6df9-4868-9c89-0d0dd2bbe707\",\"type\":\"GlyphRenderer\"},{\"id\":\"e3e36e2e-55ff-43f4-a2c2-46c917d054ee\",\"type\":\"GlyphRenderer\"},{\"id\":\"4799bce7-a53b-400b-a9ad-4bae3c423702\",\"type\":\"GlyphRenderer\"},{\"id\":\"6b58920a-3dbc-481b-95bb-a9644514dcd2\",\"type\":\"Legend\"}],\"title\":{\"id\":\"b0973048-1d96-4b54-b98b-b1e777c665be\",\"type\":\"Title\"},\"toolbar\":{\"id\":\"4b6c5a5c-8b98-4c60-9016-e00cc8834eb6\",\"type\":\"Toolbar\"},\"toolbar_location\":null,\"x_range\":{\"id\":\"48b956b5-7529-4884-b1b5-c8258af927f4\",\"type\":\"Range1d\"},\"x_scale\":{\"id\":\"f94cdfab-b53f-49da-9f00-94e69c29c9f9\",\"type\":\"LinearScale\"},\"y_range\":{\"id\":\"7e0bb148-9029-4171-a893-c7e97cae9f77\",\"type\":\"Range1d\"},\"y_scale\":{\"id\":\"ebfd600f-e2cc-4829-92df-2ce3d6e4d99d\",\"type\":\"LogScale\"}},\"id\":\"f8600478-2c8a-4c87-8682-c84492c1a0de\",\"subtype\":\"Figure\",\"type\":\"Plot\"},{\"attributes\":{\"dimension\":1,\"plot\":{\"id\":\"d8b450b3-efdc-42d3-b649-db38b3295fae\",\"subtype\":\"Figure\",\"type\":\"Plot\"},\"ticker\":{\"id\":\"052855b4-0398-4057-bfb5-1830b574f737\",\"type\":\"BasicTicker\"}},\"id\":\"57bf79f5-56de-4a57-bf2f-f350ed7e2428\",\"type\":\"Grid\"},{\"attributes\":{\"line_alpha\":0.1,\"line_color\":\"#1f77b4\",\"line_width\":1.5,\"x\":{\"field\":\"x\"},\"y\":{\"field\":\"y\"}},\"id\":\"31641131-c48a-4eb3-bca6-79d4e4d9457d\",\"type\":\"Line\"},{\"attributes\":{},\"id\":\"0ed55b2c-1fee-480e-9597-6e0c9aa3901d\",\"type\":\"SaveTool\"},{\"attributes\":{\"active_drag\":\"auto\",\"active_inspect\":\"auto\",\"active_scroll\":\"auto\",\"active_tap\":\"auto\",\"tools\":[{\"id\":\"d02115ab-4d7d-463d-881b-0cb1a8762a42\",\"type\":\"PanTool\"},{\"id\":\"fca104c4-b465-4053-8ce2-5b5fa2230e3a\",\"type\":\"WheelZoomTool\"},{\"id\":\"160bb43c-1fdc-49b6-adf0-4edaf70e1fbf\",\"type\":\"BoxZoomTool\"},{\"id\":\"0ed55b2c-1fee-480e-9597-6e0c9aa3901d\",\"type\":\"SaveTool\"},{\"id\":\"5be92384-2ee8-4c93-94c0-a320014c47a1\",\"type\":\"ResetTool\"},{\"id\":\"c40ea226-92e0-414b-add0-1b064dba4fa4\",\"type\":\"HelpTool\"}]},\"id\":\"c745f9f9-c851-4db6-9dbd-3567fbe09c1e\",\"type\":\"Toolbar\"},{\"attributes\":{\"bottom_units\":\"screen\",\"fill_alpha\":{\"value\":0.5},\"fill_color\":{\"value\":\"lightgrey\"},\"left_units\":\"screen\",\"level\":\"overlay\",\"line_alpha\":{\"value\":1.0},\"line_color\":{\"value\":\"black\"},\"line_dash\":[4,4],\"line_width\":{\"value\":2},\"plot\":null,\"render_mode\":\"css\",\"right_units\":\"screen\",\"top_units\":\"screen\"},\"id\":\"d871e4a2-77e2-49ff-b37a-fd3cb9c33fb7\",\"type\":\"BoxAnnotation\"},{\"attributes\":{\"data_source\":{\"id\":\"b5f008ea-78e6-4ba6-8cf4-4ab7c92309a2\",\"type\":\"ColumnDataSource\"},\"glyph\":{\"id\":\"2dfbe8b4-df58-4ef3-b46e-6734390b2b96\",\"type\":\"Line\"},\"hover_glyph\":null,\"muted_glyph\":null,\"nonselection_glyph\":{\"id\":\"b9346e03-ef5d-47d1-83b7-6b0acebc3046\",\"type\":\"Line\"},\"selection_glyph\":null,\"view\":{\"id\":\"f5501cb0-a0f2-42ff-9748-d1935dca609f\",\"type\":\"CDSView\"}},\"id\":\"9aa1b4bd-6df9-4868-9c89-0d0dd2bbe707\",\"type\":\"GlyphRenderer\"},{\"attributes\":{\"line_color\":\"#4daf4a\",\"line_width\":1.5,\"x\":{\"field\":\"x\"},\"y\":{\"field\":\"y\"}},\"id\":\"98742d37-f6e8-42d0-855d-f1f45b915f95\",\"type\":\"Line\"},{\"attributes\":{},\"id\":\"54112a11-047b-491f-9054-c80d82e31f57\",\"type\":\"Selection\"},{\"attributes\":{\"data_source\":{\"id\":\"a1a30eee-37c7-4b6d-bb2f-3f48df5f7dbe\",\"type\":\"ColumnDataSource\"},\"glyph\":{\"id\":\"24dd30c7-49b9-4adc-a5f9-09117802141d\",\"type\":\"Circle\"},\"hover_glyph\":null,\"muted_glyph\":null,\"nonselection_glyph\":{\"id\":\"cf48c821-3b87-4f4d-8813-f9d3a640972c\",\"type\":\"Circle\"},\"selection_glyph\":null,\"view\":{\"id\":\"bc23c6cf-2831-423a-8cb5-6d4ad53c2fc6\",\"type\":\"CDSView\"}},\"id\":\"6533b0bf-9785-46ce-ac91-b36c47c8f4d4\",\"type\":\"GlyphRenderer\"},{\"attributes\":{\"label\":{\"value\":\"CLIRAD - CRD\"},\"renderers\":[{\"id\":\"b3254b1f-954d-4a90-8bdd-0ebf044f5b4e\",\"type\":\"GlyphRenderer\"},{\"id\":\"aa01588e-ac35-4e28-8f2e-dcc98a78a524\",\"type\":\"GlyphRenderer\"}]},\"id\":\"bc8af679-013e-4684-ab37-758b37e3da2a\",\"type\":\"LegendItem\"},{\"attributes\":{\"callback\":null,\"end\":0.01,\"start\":1020},\"id\":\"cbb39868-8bf4-4be9-ad07-a8c081593a37\",\"type\":\"Range1d\"},{\"attributes\":{\"fill_alpha\":{\"value\":0.7},\"fill_color\":{\"value\":\"#4daf4a\"},\"line_alpha\":{\"value\":0.7},\"line_color\":{\"value\":\"#4daf4a\"},\"x\":{\"field\":\"x\"},\"y\":{\"field\":\"y\"}},\"id\":\"24dd30c7-49b9-4adc-a5f9-09117802141d\",\"type\":\"Circle\"},{\"attributes\":{},\"id\":\"3893c648-9875-465f-be32-cd66c25b9c37\",\"type\":\"UnionRenderers\"},{\"attributes\":{},\"id\":\"052855b4-0398-4057-bfb5-1830b574f737\",\"type\":\"BasicTicker\"},{\"attributes\":{\"label\":{\"value\":\"CRD\"},\"renderers\":[{\"id\":\"6533b0bf-9785-46ce-ac91-b36c47c8f4d4\",\"type\":\"GlyphRenderer\"},{\"id\":\"d2aa0cc0-4a60-4be4-b3c0-9abf15b0fdbe\",\"type\":\"GlyphRenderer\"}]},\"id\":\"f6f4ed7d-481a-46cd-a167-b0b5248ef608\",\"type\":\"LegendItem\"},{\"attributes\":{\"data_source\":{\"id\":\"a3c51943-76ca-4b4e-93b0-37c050c0b901\",\"type\":\"ColumnDataSource\"},\"glyph\":{\"id\":\"166a7f07-fa62-4d6d-a579-a1de3392f420\",\"type\":\"Line\"},\"hover_glyph\":null,\"muted_glyph\":null,\"nonselection_glyph\":{\"id\":\"3f81c7a1-27ff-4fea-a14a-ba90c6ba9afe\",\"type\":\"Line\"},\"selection_glyph\":null,\"view\":{\"id\":\"72007436-bbca-4932-9a91-e71404770ed0\",\"type\":\"CDSView\"}},\"id\":\"d2aa0cc0-4a60-4be4-b3c0-9abf15b0fdbe\",\"type\":\"GlyphRenderer\"},{\"attributes\":{},\"id\":\"f1b2a42a-5411-4106-b460-428586ff5bda\",\"type\":\"Selection\"},{\"attributes\":{\"data_source\":{\"id\":\"daaf52d6-0025-41a1-8859-28494fd317b7\",\"type\":\"ColumnDataSource\"},\"glyph\":{\"id\":\"eeb7026a-d67d-44ec-9632-1f35bb011005\",\"type\":\"Circle\"},\"hover_glyph\":null,\"muted_glyph\":null,\"nonselection_glyph\":{\"id\":\"0a10b70a-c5a3-40e9-9cfd-9f690109af62\",\"type\":\"Circle\"},\"selection_glyph\":null,\"view\":{\"id\":\"95f7faf1-e81c-407f-83fb-09cf1cbfed09\",\"type\":\"CDSView\"}},\"id\":\"e3e36e2e-55ff-43f4-a2c2-46c917d054ee\",\"type\":\"GlyphRenderer\"},{\"attributes\":{\"label\":{\"value\":\"CLIRAD\"},\"renderers\":[{\"id\":\"543510e0-7cf9-43e5-b66e-a10edd77a9d2\",\"type\":\"GlyphRenderer\"}]},\"id\":\"045778ce-b282-42c8-94f4-d0d6fe38fd99\",\"type\":\"LegendItem\"},{\"attributes\":{\"callback\":null,\"end\":10.104113141325,\"start\":-0.220284969825},\"id\":\"48b956b5-7529-4884-b1b5-c8258af927f4\",\"type\":\"Range1d\"},{\"attributes\":{},\"id\":\"b0c829cf-64d9-46a9-9284-30c8e9913472\",\"type\":\"Selection\"},{\"attributes\":{\"children\":[{\"id\":\"f2b643d1-53cc-4954-866a-cf4638d5f80e\",\"type\":\"Row\"}]},\"id\":\"36137bb6-f9a3-43a0-8c1f-6695c4261c29\",\"type\":\"Column\"},{\"attributes\":{},\"id\":\"ecaa48cb-5432-4c5f-af58-1a9aacae103e\",\"type\":\"BasicTickFormatter\"},{\"attributes\":{\"items\":[{\"id\":\"bc8af679-013e-4684-ab37-758b37e3da2a\",\"type\":\"LegendItem\"}],\"label_text_font_size\":{\"value\":\"8pt\"},\"location\":\"top_center\",\"orientation\":\"horizontal\",\"plot\":{\"id\":\"bcd1e54e-48a4-4eae-a752-3c0ba2fad6be\",\"subtype\":\"Figure\",\"type\":\"Plot\"}},\"id\":\"abd96978-57d3-4e61-a61d-043c0ff3e883\",\"type\":\"Legend\"},{\"attributes\":{\"source\":{\"id\":\"b5f008ea-78e6-4ba6-8cf4-4ab7c92309a2\",\"type\":\"ColumnDataSource\"}},\"id\":\"f5501cb0-a0f2-42ff-9748-d1935dca609f\",\"type\":\"CDSView\"},{\"attributes\":{},\"id\":\"c40ea226-92e0-414b-add0-1b064dba4fa4\",\"type\":\"HelpTool\"},{\"attributes\":{\"source\":{\"id\":\"daaf52d6-0025-41a1-8859-28494fd317b7\",\"type\":\"ColumnDataSource\"}},\"id\":\"95f7faf1-e81c-407f-83fb-09cf1cbfed09\",\"type\":\"CDSView\"},{\"attributes\":{\"plot\":{\"id\":\"d8b450b3-efdc-42d3-b649-db38b3295fae\",\"subtype\":\"Figure\",\"type\":\"Plot\"},\"ticker\":{\"id\":\"36fd00a5-73fe-47d9-917d-746988a5544e\",\"type\":\"BasicTicker\"}},\"id\":\"be95bce8-2eaf-44ed-a18b-3d2586e86afe\",\"type\":\"Grid\"},{\"attributes\":{\"line_color\":\"#4daf4a\",\"line_width\":1.5,\"x\":{\"field\":\"x\"},\"y\":{\"field\":\"y\"}},\"id\":\"166a7f07-fa62-4d6d-a579-a1de3392f420\",\"type\":\"Line\"},{\"attributes\":{},\"id\":\"d02115ab-4d7d-463d-881b-0cb1a8762a42\",\"type\":\"PanTool\"},{\"attributes\":{\"callback\":null,\"end\":0.01,\"start\":1020},\"id\":\"7e0bb148-9029-4171-a893-c7e97cae9f77\",\"type\":\"Range1d\"}],\"root_ids\":[\"54073064-0333-485d-8477-4aa12b945e2d\"]},\"title\":\"Bokeh Application\",\"version\":\"0.12.16\"}};\n",
       "  var render_items = [{\"docid\":\"756afee7-4edf-4e7e-bc22-f1968e253113\",\"elementid\":\"253d4bdd-7a16-44f9-8dcd-0673ac5ae964\",\"modelid\":\"54073064-0333-485d-8477-4aa12b945e2d\"}];\n",
       "  root.Bokeh.embed.embed_items_notebook(docs_json, render_items);\n",
       "\n",
       "  }\n",
       "  if (root.Bokeh !== undefined) {\n",
       "    embed_document(root);\n",
       "  } else {\n",
       "    var attempts = 0;\n",
       "    var timer = setInterval(function(root) {\n",
       "      if (root.Bokeh !== undefined) {\n",
       "        embed_document(root);\n",
       "        clearInterval(timer);\n",
       "      }\n",
       "      attempts++;\n",
       "      if (attempts > 100) {\n",
       "        console.log(\"Bokeh: ERROR: Unable to run BokehJS code because BokehJS library is missing\")\n",
       "        clearInterval(timer);\n",
       "      }\n",
       "    }, 10, root)\n",
       "  }\n",
       "})(window);"
      ],
      "application/vnd.bokehjs_exec.v0+json": ""
     },
     "metadata": {
      "application/vnd.bokehjs_exec.v0+json": {
       "id": "54073064-0333-485d-8477-4aa12b945e2d"
      }
     },
     "output_type": "display_data"
    },
    {
     "data": {
      "text/markdown": [
       "*FIGURE.* Cooling rates & difference."
      ],
      "text/plain": [
       "<IPython.core.display.Markdown object>"
      ]
     },
     "metadata": {},
     "output_type": "display_data"
    },
    {
     "data": {
      "text/html": [
       "<a id=\"Fluxes._mls.\"></a>"
      ],
      "text/plain": [
       "<IPython.core.display.HTML object>"
      ]
     },
     "metadata": {},
     "output_type": "display_data"
    },
    {
     "data": {
      "text/markdown": [
       "# Fluxes. mls."
      ],
      "text/plain": [
       "<IPython.core.display.Markdown object>"
      ]
     },
     "metadata": {},
     "output_type": "display_data"
    },
    {
     "data": {
      "text/html": [
       "\n",
       "<div class=\"bk-root\">\n",
       "    <div class=\"bk-plotdiv\" id=\"e926ee3d-2c3b-4cf4-a052-fbe0c2589b70\"></div>\n",
       "</div>"
      ]
     },
     "metadata": {},
     "output_type": "display_data"
    },
    {
     "data": {
      "application/javascript": [
       "(function(root) {\n",
       "  function embed_document(root) {\n",
       "    \n",
       "  var docs_json = {\"dc49aaf6-1fa1-40f4-b4e6-430ec8a17bc3\":{\"roots\":{\"references\":[{\"attributes\":{},\"id\":\"7f6a6f1e-0063-4f13-ac06-3711f03bbd55\",\"type\":\"Selection\"},{\"attributes\":{},\"id\":\"def9a34a-7555-4031-b557-96af43ac6a77\",\"type\":\"PanTool\"},{\"attributes\":{},\"id\":\"0eccea34-fbea-41a5-92f2-ed5bbde25a36\",\"type\":\"SaveTool\"},{\"attributes\":{\"fill_color\":{\"value\":\"#1f77b4\"},\"line_color\":{\"value\":\"#1f77b4\"},\"top\":{\"field\":\"flux\"},\"width\":{\"value\":0.9},\"x\":{\"field\":\"band\"}},\"id\":\"fc0084ad-b901-43d0-ade9-41f8d4e2dd68\",\"type\":\"VBar\"},{\"attributes\":{},\"id\":\"911f9d3f-89e7-47f8-ac6a-a4e876666d03\",\"type\":\"CategoricalTickFormatter\"},{\"attributes\":{\"plot\":null,\"text\":\"SFC flux. CLIRAD - CRD.\"},\"id\":\"89e6ec80-cf2a-4890-821b-5dcbfc94372f\",\"type\":\"Title\"},{\"attributes\":{},\"id\":\"1e746e7e-3563-40e8-be62-1362ba6aaa71\",\"type\":\"ResetTool\"},{\"attributes\":{\"axis_label\":\"flux (W m-2)\",\"formatter\":{\"id\":\"f3688e4f-5d97-43a0-ac47-985c1cdd7a59\",\"type\":\"BasicTickFormatter\"},\"plot\":{\"id\":\"7ad8b8c4-8f5f-4d83-a1e7-9d7ac75c7313\",\"subtype\":\"Figure\",\"type\":\"Plot\"},\"ticker\":{\"id\":\"2d5e4980-a0c9-42fa-809a-9a90709679de\",\"type\":\"BasicTicker\"}},\"id\":\"a0268895-26b1-46f9-b6a8-b168ee4e427a\",\"type\":\"LinearAxis\"},{\"attributes\":{\"axis_label\":\"spectral band\",\"formatter\":{\"id\":\"8cc2aab2-cdf7-46d9-9c3e-a422b4f171af\",\"type\":\"CategoricalTickFormatter\"},\"plot\":{\"id\":\"7ad8b8c4-8f5f-4d83-a1e7-9d7ac75c7313\",\"subtype\":\"Figure\",\"type\":\"Plot\"},\"ticker\":{\"id\":\"8efed668-479f-477e-9697-9a57bc07a6cd\",\"type\":\"CategoricalTicker\"}},\"id\":\"be9481b3-31d0-4118-a57f-ed343dfb2a0d\",\"type\":\"CategoricalAxis\"},{\"attributes\":{\"axis_label\":\"spectral band\",\"formatter\":{\"id\":\"70303e9c-c1a3-4976-83cc-6b7183a96efe\",\"type\":\"CategoricalTickFormatter\"},\"plot\":{\"id\":\"d2162d05-dcdb-485d-b888-a9e2208fcf20\",\"subtype\":\"Figure\",\"type\":\"Plot\"},\"ticker\":{\"id\":\"45d050aa-4c09-42f2-94dd-d2282d824174\",\"type\":\"CategoricalTicker\"}},\"id\":\"ca176743-1dee-4ae6-bf3f-fc680e1aeb2a\",\"type\":\"CategoricalAxis\"},{\"attributes\":{},\"id\":\"8efed668-479f-477e-9697-9a57bc07a6cd\",\"type\":\"CategoricalTicker\"},{\"attributes\":{},\"id\":\"07badaf2-6273-4aaf-a6c9-3b5c46f594f4\",\"type\":\"Selection\"},{\"attributes\":{\"plot\":null,\"text\":\"TOA flux. CLIRAD - CRD.\"},\"id\":\"40f07e5c-64db-45d9-b301-e9f259e2e098\",\"type\":\"Title\"},{\"attributes\":{},\"id\":\"91638689-e4c4-463b-bcc2-d6f41e6d033e\",\"type\":\"WheelZoomTool\"},{\"attributes\":{\"children\":[{\"id\":\"7ad8b8c4-8f5f-4d83-a1e7-9d7ac75c7313\",\"subtype\":\"Figure\",\"type\":\"Plot\"},{\"id\":\"d2162d05-dcdb-485d-b888-a9e2208fcf20\",\"subtype\":\"Figure\",\"type\":\"Plot\"},{\"id\":\"08e3d1a9-26a3-43cd-ae78-19b907e25a21\",\"subtype\":\"Figure\",\"type\":\"Plot\"}]},\"id\":\"ba7d2373-719b-4861-a02c-0bdf991fad50\",\"type\":\"Row\"},{\"attributes\":{\"axis_label\":\"spectral band\",\"formatter\":{\"id\":\"911f9d3f-89e7-47f8-ac6a-a4e876666d03\",\"type\":\"CategoricalTickFormatter\"},\"plot\":{\"id\":\"08e3d1a9-26a3-43cd-ae78-19b907e25a21\",\"subtype\":\"Figure\",\"type\":\"Plot\"},\"ticker\":{\"id\":\"1f27e979-4eb8-4f52-864c-7e6d5afdf5c5\",\"type\":\"CategoricalTicker\"}},\"id\":\"41425b09-0511-4c3b-94cc-3aa6992bcc81\",\"type\":\"CategoricalAxis\"},{\"attributes\":{},\"id\":\"d5ad5aea-498a-469a-89a6-41a1b3d0240e\",\"type\":\"WheelZoomTool\"},{\"attributes\":{\"data_source\":{\"id\":\"57b9f726-5747-4cde-9d71-1a58b9a6442b\",\"type\":\"ColumnDataSource\"},\"glyph\":{\"id\":\"5d22d21f-9998-4474-b72a-db569cadaaa4\",\"type\":\"VBar\"},\"hover_glyph\":null,\"muted_glyph\":null,\"nonselection_glyph\":{\"id\":\"d510ad8d-2424-477b-9152-cdd85682fd10\",\"type\":\"VBar\"},\"selection_glyph\":null,\"view\":{\"id\":\"ae08ea11-775d-40f2-9385-6789c4b97902\",\"type\":\"CDSView\"}},\"id\":\"b934ff89-b60f-4d34-bf9f-671935c92490\",\"type\":\"GlyphRenderer\"},{\"attributes\":{},\"id\":\"2d5e4980-a0c9-42fa-809a-9a90709679de\",\"type\":\"BasicTicker\"},{\"attributes\":{\"callback\":null,\"factors\":[\"3\",\"4\",\"5\",\"6\",\"7\",\"11\"]},\"id\":\"1f4ee3fa-a775-457c-beba-ec73ab946c79\",\"type\":\"FactorRange\"},{\"attributes\":{},\"id\":\"d33298fe-77d9-4393-854e-2a3f7bab68e7\",\"type\":\"HelpTool\"},{\"attributes\":{},\"id\":\"7b5e4877-9ee2-4d99-a881-6ab3e63d3506\",\"type\":\"HelpTool\"},{\"attributes\":{},\"id\":\"b1f66276-375b-4a0a-9bc8-6a659f4916f9\",\"type\":\"ResetTool\"},{\"attributes\":{},\"id\":\"ab82fa14-4ca2-40ab-9c7b-4d3367a6332b\",\"type\":\"UnionRenderers\"},{\"attributes\":{\"axis_label\":\"flux (W m-2)\",\"formatter\":{\"id\":\"aaf9656f-9837-43d2-b514-4b7605589fd0\",\"type\":\"BasicTickFormatter\"},\"plot\":{\"id\":\"d2162d05-dcdb-485d-b888-a9e2208fcf20\",\"subtype\":\"Figure\",\"type\":\"Plot\"},\"ticker\":{\"id\":\"a3b406f1-2437-4cd5-a1e3-0e2b8854b2f4\",\"type\":\"BasicTicker\"}},\"id\":\"4481d6bf-ab98-485e-90c5-7cddd8917220\",\"type\":\"LinearAxis\"},{\"attributes\":{\"data_source\":{\"id\":\"eccf64df-5e73-4a4f-a476-f187c8ea48ed\",\"type\":\"ColumnDataSource\"},\"glyph\":{\"id\":\"a3d8c5eb-6b2f-4d21-a9a6-dde86f418edf\",\"type\":\"VBar\"},\"hover_glyph\":null,\"muted_glyph\":null,\"nonselection_glyph\":{\"id\":\"9f798211-0f0b-411b-8145-bba6bfdb566c\",\"type\":\"VBar\"},\"selection_glyph\":null,\"view\":{\"id\":\"3d4277dd-bbff-41af-864b-01504fd46e2e\",\"type\":\"CDSView\"}},\"id\":\"0747ef2c-5860-4076-828a-a42ecfb5f86f\",\"type\":\"GlyphRenderer\"},{\"attributes\":{},\"id\":\"758f216a-81b7-430a-9c84-2afcd9eeda10\",\"type\":\"PanTool\"},{\"attributes\":{\"below\":[{\"id\":\"ca176743-1dee-4ae6-bf3f-fc680e1aeb2a\",\"type\":\"CategoricalAxis\"}],\"left\":[{\"id\":\"4481d6bf-ab98-485e-90c5-7cddd8917220\",\"type\":\"LinearAxis\"}],\"plot_height\":300,\"plot_width\":300,\"renderers\":[{\"id\":\"ca176743-1dee-4ae6-bf3f-fc680e1aeb2a\",\"type\":\"CategoricalAxis\"},{\"id\":\"cf1c784d-c002-479e-b72c-88eb44d52bb1\",\"type\":\"Grid\"},{\"id\":\"4481d6bf-ab98-485e-90c5-7cddd8917220\",\"type\":\"LinearAxis\"},{\"id\":\"ed7edd73-733d-4ba5-a815-be50ab6b1526\",\"type\":\"Grid\"},{\"id\":\"aba73223-69d8-43f9-b4bc-1a2f1bb05715\",\"type\":\"BoxAnnotation\"},{\"id\":\"0747ef2c-5860-4076-828a-a42ecfb5f86f\",\"type\":\"GlyphRenderer\"}],\"title\":{\"id\":\"89e6ec80-cf2a-4890-821b-5dcbfc94372f\",\"type\":\"Title\"},\"toolbar\":{\"id\":\"f225e268-f180-48f5-bd81-29c45e868d18\",\"type\":\"Toolbar\"},\"toolbar_location\":null,\"x_range\":{\"id\":\"1f4ee3fa-a775-457c-beba-ec73ab946c79\",\"type\":\"FactorRange\"},\"x_scale\":{\"id\":\"0bbe0b76-0153-4ccb-8059-0b52e12917bf\",\"type\":\"CategoricalScale\"},\"y_range\":{\"id\":\"06663109-24f2-4cc9-be04-edc3e4e8d058\",\"type\":\"DataRange1d\"},\"y_scale\":{\"id\":\"6b1a4300-c3a4-4776-8cdd-b789b9bc6459\",\"type\":\"LinearScale\"}},\"id\":\"d2162d05-dcdb-485d-b888-a9e2208fcf20\",\"subtype\":\"Figure\",\"type\":\"Plot\"},{\"attributes\":{\"dimension\":1,\"plot\":{\"id\":\"08e3d1a9-26a3-43cd-ae78-19b907e25a21\",\"subtype\":\"Figure\",\"type\":\"Plot\"},\"ticker\":{\"id\":\"1f2b1be0-90fb-4f18-b602-c2effa32a8ca\",\"type\":\"BasicTicker\"}},\"id\":\"d763bd4c-8a83-4320-88e9-67507681e2fd\",\"type\":\"Grid\"},{\"attributes\":{\"overlay\":{\"id\":\"b011cff7-458c-46d4-99a4-ffa5e5144303\",\"type\":\"BoxAnnotation\"}},\"id\":\"08e0836a-900e-41fe-871e-6e5d080dd4ee\",\"type\":\"BoxZoomTool\"},{\"attributes\":{},\"id\":\"14030673-e683-4734-a25b-771e33ffd7d2\",\"type\":\"Selection\"},{\"attributes\":{},\"id\":\"78d7d42f-b7b4-46c9-b0b9-4eb7a73a7d1f\",\"type\":\"SaveTool\"},{\"attributes\":{\"children\":[{\"id\":\"a6d86ad6-0980-4264-9db1-bfb512ae8ce1\",\"type\":\"ToolbarBox\"},{\"id\":\"c5b425f0-e027-410a-82f3-b22abd83bea1\",\"type\":\"Column\"}]},\"id\":\"fd433afc-92af-47d6-9a53-05bfaca242bb\",\"type\":\"Column\"},{\"attributes\":{\"overlay\":{\"id\":\"aba73223-69d8-43f9-b4bc-1a2f1bb05715\",\"type\":\"BoxAnnotation\"}},\"id\":\"91cf0db5-104b-4bc1-becc-ff164d5eb676\",\"type\":\"BoxZoomTool\"},{\"attributes\":{\"fill_alpha\":{\"value\":0.1},\"fill_color\":{\"value\":\"#1f77b4\"},\"line_alpha\":{\"value\":0.1},\"line_color\":{\"value\":\"#1f77b4\"},\"top\":{\"field\":\"flux\"},\"width\":{\"value\":0.9},\"x\":{\"field\":\"band\"}},\"id\":\"d6101c7d-8248-4340-bb21-31cda0077025\",\"type\":\"VBar\"},{\"attributes\":{},\"id\":\"20e63654-cab5-4f83-bf24-4bdfab23acb7\",\"type\":\"LinearScale\"},{\"attributes\":{\"active_drag\":\"auto\",\"active_inspect\":\"auto\",\"active_scroll\":\"auto\",\"active_tap\":\"auto\",\"tools\":[{\"id\":\"ac59ae16-b35a-42cf-a074-7b445baf7dbe\",\"type\":\"PanTool\"},{\"id\":\"d5ad5aea-498a-469a-89a6-41a1b3d0240e\",\"type\":\"WheelZoomTool\"},{\"id\":\"91cf0db5-104b-4bc1-becc-ff164d5eb676\",\"type\":\"BoxZoomTool\"},{\"id\":\"0eccea34-fbea-41a5-92f2-ed5bbde25a36\",\"type\":\"SaveTool\"},{\"id\":\"6c6970d8-2463-4dd9-a61f-733c353e4816\",\"type\":\"ResetTool\"},{\"id\":\"7b5e4877-9ee2-4d99-a881-6ab3e63d3506\",\"type\":\"HelpTool\"}]},\"id\":\"f225e268-f180-48f5-bd81-29c45e868d18\",\"type\":\"Toolbar\"},{\"attributes\":{\"fill_alpha\":{\"value\":0.1},\"fill_color\":{\"value\":\"#1f77b4\"},\"line_alpha\":{\"value\":0.1},\"line_color\":{\"value\":\"#1f77b4\"},\"top\":{\"field\":\"flux\"},\"width\":{\"value\":0.9},\"x\":{\"field\":\"band\"}},\"id\":\"d510ad8d-2424-477b-9152-cdd85682fd10\",\"type\":\"VBar\"},{\"attributes\":{},\"id\":\"6c6970d8-2463-4dd9-a61f-733c353e4816\",\"type\":\"ResetTool\"},{\"attributes\":{},\"id\":\"f3688e4f-5d97-43a0-ac47-985c1cdd7a59\",\"type\":\"BasicTickFormatter\"},{\"attributes\":{},\"id\":\"6b1a4300-c3a4-4776-8cdd-b789b9bc6459\",\"type\":\"LinearScale\"},{\"attributes\":{\"callback\":null},\"id\":\"aa70e4bd-e825-43b8-b92c-0c025167a92a\",\"type\":\"DataRange1d\"},{\"attributes\":{},\"id\":\"a80e8c6c-c593-47eb-9c8c-373ea79bb18f\",\"type\":\"HelpTool\"},{\"attributes\":{\"data_source\":{\"id\":\"316fa050-c8d8-4981-8462-fe6f35ba6dba\",\"type\":\"ColumnDataSource\"},\"glyph\":{\"id\":\"fc0084ad-b901-43d0-ade9-41f8d4e2dd68\",\"type\":\"VBar\"},\"hover_glyph\":null,\"muted_glyph\":null,\"nonselection_glyph\":{\"id\":\"d6101c7d-8248-4340-bb21-31cda0077025\",\"type\":\"VBar\"},\"selection_glyph\":null,\"view\":{\"id\":\"f5a6c8a4-b913-46a5-b852-4b6b4b7a13d6\",\"type\":\"CDSView\"}},\"id\":\"39651ec4-c381-42dd-b4eb-77bf9bbca603\",\"type\":\"GlyphRenderer\"},{\"attributes\":{},\"id\":\"7f3df8a4-8d7d-4bfb-b098-5bb8035326a9\",\"type\":\"SaveTool\"},{\"attributes\":{\"bottom_units\":\"screen\",\"fill_alpha\":{\"value\":0.5},\"fill_color\":{\"value\":\"lightgrey\"},\"left_units\":\"screen\",\"level\":\"overlay\",\"line_alpha\":{\"value\":1.0},\"line_color\":{\"value\":\"black\"},\"line_dash\":[4,4],\"line_width\":{\"value\":2},\"plot\":null,\"render_mode\":\"css\",\"right_units\":\"screen\",\"top_units\":\"screen\"},\"id\":\"ce381ba6-a9a2-4f8a-91b6-0e8b73ff2775\",\"type\":\"BoxAnnotation\"},{\"attributes\":{},\"id\":\"45d050aa-4c09-42f2-94dd-d2282d824174\",\"type\":\"CategoricalTicker\"},{\"attributes\":{\"tools\":[{\"id\":\"758f216a-81b7-430a-9c84-2afcd9eeda10\",\"type\":\"PanTool\"},{\"id\":\"91638689-e4c4-463b-bcc2-d6f41e6d033e\",\"type\":\"WheelZoomTool\"},{\"id\":\"2ad0bf84-9232-40e4-b191-55c2bd25ad28\",\"type\":\"BoxZoomTool\"},{\"id\":\"78d7d42f-b7b4-46c9-b0b9-4eb7a73a7d1f\",\"type\":\"SaveTool\"},{\"id\":\"1e746e7e-3563-40e8-be62-1362ba6aaa71\",\"type\":\"ResetTool\"},{\"id\":\"a80e8c6c-c593-47eb-9c8c-373ea79bb18f\",\"type\":\"HelpTool\"},{\"id\":\"ac59ae16-b35a-42cf-a074-7b445baf7dbe\",\"type\":\"PanTool\"},{\"id\":\"d5ad5aea-498a-469a-89a6-41a1b3d0240e\",\"type\":\"WheelZoomTool\"},{\"id\":\"91cf0db5-104b-4bc1-becc-ff164d5eb676\",\"type\":\"BoxZoomTool\"},{\"id\":\"0eccea34-fbea-41a5-92f2-ed5bbde25a36\",\"type\":\"SaveTool\"},{\"id\":\"6c6970d8-2463-4dd9-a61f-733c353e4816\",\"type\":\"ResetTool\"},{\"id\":\"7b5e4877-9ee2-4d99-a881-6ab3e63d3506\",\"type\":\"HelpTool\"},{\"id\":\"def9a34a-7555-4031-b557-96af43ac6a77\",\"type\":\"PanTool\"},{\"id\":\"d2b56342-145c-435c-99a1-2a411fd38bc3\",\"type\":\"WheelZoomTool\"},{\"id\":\"08e0836a-900e-41fe-871e-6e5d080dd4ee\",\"type\":\"BoxZoomTool\"},{\"id\":\"7f3df8a4-8d7d-4bfb-b098-5bb8035326a9\",\"type\":\"SaveTool\"},{\"id\":\"b1f66276-375b-4a0a-9bc8-6a659f4916f9\",\"type\":\"ResetTool\"},{\"id\":\"d33298fe-77d9-4393-854e-2a3f7bab68e7\",\"type\":\"HelpTool\"}]},\"id\":\"adf6f4d0-79a3-42a0-9123-4bef8c13a8e5\",\"type\":\"ProxyToolbar\"},{\"attributes\":{\"source\":{\"id\":\"316fa050-c8d8-4981-8462-fe6f35ba6dba\",\"type\":\"ColumnDataSource\"}},\"id\":\"f5a6c8a4-b913-46a5-b852-4b6b4b7a13d6\",\"type\":\"CDSView\"},{\"attributes\":{},\"id\":\"1f27e979-4eb8-4f52-864c-7e6d5afdf5c5\",\"type\":\"CategoricalTicker\"},{\"attributes\":{\"children\":[{\"id\":\"ba7d2373-719b-4861-a02c-0bdf991fad50\",\"type\":\"Row\"}]},\"id\":\"c5b425f0-e027-410a-82f3-b22abd83bea1\",\"type\":\"Column\"},{\"attributes\":{\"overlay\":{\"id\":\"ce381ba6-a9a2-4f8a-91b6-0e8b73ff2775\",\"type\":\"BoxAnnotation\"}},\"id\":\"2ad0bf84-9232-40e4-b191-55c2bd25ad28\",\"type\":\"BoxZoomTool\"},{\"attributes\":{\"axis_label\":\"flux (W m-2)\",\"formatter\":{\"id\":\"14476397-1865-4ade-96ec-a3eb5fc67ee4\",\"type\":\"BasicTickFormatter\"},\"plot\":{\"id\":\"08e3d1a9-26a3-43cd-ae78-19b907e25a21\",\"subtype\":\"Figure\",\"type\":\"Plot\"},\"ticker\":{\"id\":\"1f2b1be0-90fb-4f18-b602-c2effa32a8ca\",\"type\":\"BasicTicker\"}},\"id\":\"6f403d47-7c47-438b-bb5c-396037bf1819\",\"type\":\"LinearAxis\"},{\"attributes\":{\"below\":[{\"id\":\"41425b09-0511-4c3b-94cc-3aa6992bcc81\",\"type\":\"CategoricalAxis\"}],\"left\":[{\"id\":\"6f403d47-7c47-438b-bb5c-396037bf1819\",\"type\":\"LinearAxis\"}],\"plot_height\":300,\"plot_width\":300,\"renderers\":[{\"id\":\"41425b09-0511-4c3b-94cc-3aa6992bcc81\",\"type\":\"CategoricalAxis\"},{\"id\":\"8da08f95-b216-475c-82f6-f12b672daf6a\",\"type\":\"Grid\"},{\"id\":\"6f403d47-7c47-438b-bb5c-396037bf1819\",\"type\":\"LinearAxis\"},{\"id\":\"d763bd4c-8a83-4320-88e9-67507681e2fd\",\"type\":\"Grid\"},{\"id\":\"b011cff7-458c-46d4-99a4-ffa5e5144303\",\"type\":\"BoxAnnotation\"},{\"id\":\"b934ff89-b60f-4d34-bf9f-671935c92490\",\"type\":\"GlyphRenderer\"}],\"title\":{\"id\":\"eb508265-3fea-4628-8a21-319510f2ba17\",\"type\":\"Title\"},\"toolbar\":{\"id\":\"0d9b8ad9-3808-42fe-b674-357d74cfe641\",\"type\":\"Toolbar\"},\"toolbar_location\":null,\"x_range\":{\"id\":\"de02acd2-c95f-4eff-ac06-710a6afb1bee\",\"type\":\"FactorRange\"},\"x_scale\":{\"id\":\"1ea40945-50aa-46e4-bd38-1d7a54dc155c\",\"type\":\"CategoricalScale\"},\"y_range\":{\"id\":\"814aa6dc-89aa-4a6b-81ee-fbe638e93a5a\",\"type\":\"DataRange1d\"},\"y_scale\":{\"id\":\"20e63654-cab5-4f83-bf24-4bdfab23acb7\",\"type\":\"LinearScale\"}},\"id\":\"08e3d1a9-26a3-43cd-ae78-19b907e25a21\",\"subtype\":\"Figure\",\"type\":\"Plot\"},{\"attributes\":{\"below\":[{\"id\":\"be9481b3-31d0-4118-a57f-ed343dfb2a0d\",\"type\":\"CategoricalAxis\"}],\"left\":[{\"id\":\"a0268895-26b1-46f9-b6a8-b168ee4e427a\",\"type\":\"LinearAxis\"}],\"plot_height\":300,\"plot_width\":300,\"renderers\":[{\"id\":\"be9481b3-31d0-4118-a57f-ed343dfb2a0d\",\"type\":\"CategoricalAxis\"},{\"id\":\"8e737e76-dba2-4fe5-a2d0-fa74131f4ff6\",\"type\":\"Grid\"},{\"id\":\"a0268895-26b1-46f9-b6a8-b168ee4e427a\",\"type\":\"LinearAxis\"},{\"id\":\"dfd354a5-08b4-4004-8a52-dff1542d4801\",\"type\":\"Grid\"},{\"id\":\"ce381ba6-a9a2-4f8a-91b6-0e8b73ff2775\",\"type\":\"BoxAnnotation\"},{\"id\":\"39651ec4-c381-42dd-b4eb-77bf9bbca603\",\"type\":\"GlyphRenderer\"}],\"title\":{\"id\":\"40f07e5c-64db-45d9-b301-e9f259e2e098\",\"type\":\"Title\"},\"toolbar\":{\"id\":\"912a2253-80bf-40c9-a788-8999a364d264\",\"type\":\"Toolbar\"},\"toolbar_location\":null,\"x_range\":{\"id\":\"c3bf069e-08ca-409e-83af-34319091792b\",\"type\":\"FactorRange\"},\"x_scale\":{\"id\":\"087dfc4a-8564-48ac-986d-59d3d6c747c6\",\"type\":\"CategoricalScale\"},\"y_range\":{\"id\":\"aa70e4bd-e825-43b8-b92c-0c025167a92a\",\"type\":\"DataRange1d\"},\"y_scale\":{\"id\":\"538df54f-ae5d-477e-916b-5ae7c8e15d5c\",\"type\":\"LinearScale\"}},\"id\":\"7ad8b8c4-8f5f-4d83-a1e7-9d7ac75c7313\",\"subtype\":\"Figure\",\"type\":\"Plot\"},{\"attributes\":{\"plot\":{\"id\":\"7ad8b8c4-8f5f-4d83-a1e7-9d7ac75c7313\",\"subtype\":\"Figure\",\"type\":\"Plot\"},\"ticker\":{\"id\":\"8efed668-479f-477e-9697-9a57bc07a6cd\",\"type\":\"CategoricalTicker\"}},\"id\":\"8e737e76-dba2-4fe5-a2d0-fa74131f4ff6\",\"type\":\"Grid\"},{\"attributes\":{\"callback\":null,\"data\":{\"band\":[\"3\",\"4\",\"5\",\"6\",\"7\",\"11\"],\"flux\":{\"__ndarray__\":\"ADhf7L34vr9Axt6LL9rTP4A883LYfdM/ABw6Pe/Gor8A0KJ3KuCevwDu68A5I7Y/\",\"dtype\":\"float64\",\"shape\":[6]}},\"selected\":{\"id\":\"7f6a6f1e-0063-4f13-ac06-3711f03bbd55\",\"type\":\"Selection\"},\"selection_policy\":{\"id\":\"9bf9bc13-de50-4cce-83cd-828c0e9a8a36\",\"type\":\"UnionRenderers\"}},\"id\":\"316fa050-c8d8-4981-8462-fe6f35ba6dba\",\"type\":\"ColumnDataSource\"},{\"attributes\":{\"callback\":null,\"data\":{\"band\":[\"3\",\"4\",\"5\",\"6\",\"7\",\"11\"],\"flux\":{\"__ndarray__\":\"gPcb7bjhyb8ArlWztVvLPwCD/GzkusO/AFDVdhN8kz8AWBaFXRSNP0A/0MB+PrC/\",\"dtype\":\"float64\",\"shape\":[6]}},\"selected\":{\"id\":\"14030673-e683-4734-a25b-771e33ffd7d2\",\"type\":\"Selection\"},\"selection_policy\":{\"id\":\"ab82fa14-4ca2-40ab-9c7b-4d3367a6332b\",\"type\":\"UnionRenderers\"}},\"id\":\"57b9f726-5747-4cde-9d71-1a58b9a6442b\",\"type\":\"ColumnDataSource\"},{\"attributes\":{\"plot\":{\"id\":\"d2162d05-dcdb-485d-b888-a9e2208fcf20\",\"subtype\":\"Figure\",\"type\":\"Plot\"},\"ticker\":{\"id\":\"45d050aa-4c09-42f2-94dd-d2282d824174\",\"type\":\"CategoricalTicker\"}},\"id\":\"cf1c784d-c002-479e-b72c-88eb44d52bb1\",\"type\":\"Grid\"},{\"attributes\":{\"callback\":null,\"data\":{\"band\":[\"3\",\"4\",\"5\",\"6\",\"7\",\"11\"],\"flux\":{\"__ndarray__\":\"APfHe9XKtD8ApGd6ibG4P2DFNxQ+W90/QLznwHKErL+AnVYbrbSmv0jD3+XYMMM/\",\"dtype\":\"float64\",\"shape\":[6]}},\"selected\":{\"id\":\"07badaf2-6273-4aaf-a6c9-3b5c46f594f4\",\"type\":\"Selection\"},\"selection_policy\":{\"id\":\"d3830699-6681-4a29-8626-7de6610920c8\",\"type\":\"UnionRenderers\"}},\"id\":\"eccf64df-5e73-4a4f-a476-f187c8ea48ed\",\"type\":\"ColumnDataSource\"},{\"attributes\":{},\"id\":\"1f2b1be0-90fb-4f18-b602-c2effa32a8ca\",\"type\":\"BasicTicker\"},{\"attributes\":{\"plot\":{\"id\":\"08e3d1a9-26a3-43cd-ae78-19b907e25a21\",\"subtype\":\"Figure\",\"type\":\"Plot\"},\"ticker\":{\"id\":\"1f27e979-4eb8-4f52-864c-7e6d5afdf5c5\",\"type\":\"CategoricalTicker\"}},\"id\":\"8da08f95-b216-475c-82f6-f12b672daf6a\",\"type\":\"Grid\"},{\"attributes\":{},\"id\":\"aaf9656f-9837-43d2-b514-4b7605589fd0\",\"type\":\"BasicTickFormatter\"},{\"attributes\":{\"dimension\":1,\"plot\":{\"id\":\"7ad8b8c4-8f5f-4d83-a1e7-9d7ac75c7313\",\"subtype\":\"Figure\",\"type\":\"Plot\"},\"ticker\":{\"id\":\"2d5e4980-a0c9-42fa-809a-9a90709679de\",\"type\":\"BasicTicker\"}},\"id\":\"dfd354a5-08b4-4004-8a52-dff1542d4801\",\"type\":\"Grid\"},{\"attributes\":{\"callback\":null},\"id\":\"06663109-24f2-4cc9-be04-edc3e4e8d058\",\"type\":\"DataRange1d\"},{\"attributes\":{\"active_drag\":\"auto\",\"active_inspect\":\"auto\",\"active_scroll\":\"auto\",\"active_tap\":\"auto\",\"tools\":[{\"id\":\"758f216a-81b7-430a-9c84-2afcd9eeda10\",\"type\":\"PanTool\"},{\"id\":\"91638689-e4c4-463b-bcc2-d6f41e6d033e\",\"type\":\"WheelZoomTool\"},{\"id\":\"2ad0bf84-9232-40e4-b191-55c2bd25ad28\",\"type\":\"BoxZoomTool\"},{\"id\":\"78d7d42f-b7b4-46c9-b0b9-4eb7a73a7d1f\",\"type\":\"SaveTool\"},{\"id\":\"1e746e7e-3563-40e8-be62-1362ba6aaa71\",\"type\":\"ResetTool\"},{\"id\":\"a80e8c6c-c593-47eb-9c8c-373ea79bb18f\",\"type\":\"HelpTool\"}]},\"id\":\"912a2253-80bf-40c9-a788-8999a364d264\",\"type\":\"Toolbar\"},{\"attributes\":{},\"id\":\"d2b56342-145c-435c-99a1-2a411fd38bc3\",\"type\":\"WheelZoomTool\"},{\"attributes\":{\"callback\":null,\"factors\":[\"3\",\"4\",\"5\",\"6\",\"7\",\"11\"]},\"id\":\"c3bf069e-08ca-409e-83af-34319091792b\",\"type\":\"FactorRange\"},{\"attributes\":{\"callback\":null,\"factors\":[\"3\",\"4\",\"5\",\"6\",\"7\",\"11\"]},\"id\":\"de02acd2-c95f-4eff-ac06-710a6afb1bee\",\"type\":\"FactorRange\"},{\"attributes\":{\"callback\":null},\"id\":\"814aa6dc-89aa-4a6b-81ee-fbe638e93a5a\",\"type\":\"DataRange1d\"},{\"attributes\":{},\"id\":\"d3830699-6681-4a29-8626-7de6610920c8\",\"type\":\"UnionRenderers\"},{\"attributes\":{\"fill_color\":{\"value\":\"#1f77b4\"},\"line_color\":{\"value\":\"#1f77b4\"},\"top\":{\"field\":\"flux\"},\"width\":{\"value\":0.9},\"x\":{\"field\":\"band\"}},\"id\":\"a3d8c5eb-6b2f-4d21-a9a6-dde86f418edf\",\"type\":\"VBar\"},{\"attributes\":{},\"id\":\"14476397-1865-4ade-96ec-a3eb5fc67ee4\",\"type\":\"BasicTickFormatter\"},{\"attributes\":{},\"id\":\"ac59ae16-b35a-42cf-a074-7b445baf7dbe\",\"type\":\"PanTool\"},{\"attributes\":{},\"id\":\"1ea40945-50aa-46e4-bd38-1d7a54dc155c\",\"type\":\"CategoricalScale\"},{\"attributes\":{\"bottom_units\":\"screen\",\"fill_alpha\":{\"value\":0.5},\"fill_color\":{\"value\":\"lightgrey\"},\"left_units\":\"screen\",\"level\":\"overlay\",\"line_alpha\":{\"value\":1.0},\"line_color\":{\"value\":\"black\"},\"line_dash\":[4,4],\"line_width\":{\"value\":2},\"plot\":null,\"render_mode\":\"css\",\"right_units\":\"screen\",\"top_units\":\"screen\"},\"id\":\"aba73223-69d8-43f9-b4bc-1a2f1bb05715\",\"type\":\"BoxAnnotation\"},{\"attributes\":{\"plot\":null,\"text\":\"Atmosphere heating. CLIRAD - CRD.\"},\"id\":\"eb508265-3fea-4628-8a21-319510f2ba17\",\"type\":\"Title\"},{\"attributes\":{\"source\":{\"id\":\"57b9f726-5747-4cde-9d71-1a58b9a6442b\",\"type\":\"ColumnDataSource\"}},\"id\":\"ae08ea11-775d-40f2-9385-6789c4b97902\",\"type\":\"CDSView\"},{\"attributes\":{\"active_drag\":\"auto\",\"active_inspect\":\"auto\",\"active_scroll\":\"auto\",\"active_tap\":\"auto\",\"tools\":[{\"id\":\"def9a34a-7555-4031-b557-96af43ac6a77\",\"type\":\"PanTool\"},{\"id\":\"d2b56342-145c-435c-99a1-2a411fd38bc3\",\"type\":\"WheelZoomTool\"},{\"id\":\"08e0836a-900e-41fe-871e-6e5d080dd4ee\",\"type\":\"BoxZoomTool\"},{\"id\":\"7f3df8a4-8d7d-4bfb-b098-5bb8035326a9\",\"type\":\"SaveTool\"},{\"id\":\"b1f66276-375b-4a0a-9bc8-6a659f4916f9\",\"type\":\"ResetTool\"},{\"id\":\"d33298fe-77d9-4393-854e-2a3f7bab68e7\",\"type\":\"HelpTool\"}]},\"id\":\"0d9b8ad9-3808-42fe-b674-357d74cfe641\",\"type\":\"Toolbar\"},{\"attributes\":{\"toolbar\":{\"id\":\"adf6f4d0-79a3-42a0-9123-4bef8c13a8e5\",\"type\":\"ProxyToolbar\"},\"toolbar_location\":\"above\"},\"id\":\"a6d86ad6-0980-4264-9db1-bfb512ae8ce1\",\"type\":\"ToolbarBox\"},{\"attributes\":{},\"id\":\"9bf9bc13-de50-4cce-83cd-828c0e9a8a36\",\"type\":\"UnionRenderers\"},{\"attributes\":{\"fill_color\":{\"value\":\"#1f77b4\"},\"line_color\":{\"value\":\"#1f77b4\"},\"top\":{\"field\":\"flux\"},\"width\":{\"value\":0.9},\"x\":{\"field\":\"band\"}},\"id\":\"5d22d21f-9998-4474-b72a-db569cadaaa4\",\"type\":\"VBar\"},{\"attributes\":{},\"id\":\"538df54f-ae5d-477e-916b-5ae7c8e15d5c\",\"type\":\"LinearScale\"},{\"attributes\":{},\"id\":\"70303e9c-c1a3-4976-83cc-6b7183a96efe\",\"type\":\"CategoricalTickFormatter\"},{\"attributes\":{},\"id\":\"0bbe0b76-0153-4ccb-8059-0b52e12917bf\",\"type\":\"CategoricalScale\"},{\"attributes\":{\"dimension\":1,\"plot\":{\"id\":\"d2162d05-dcdb-485d-b888-a9e2208fcf20\",\"subtype\":\"Figure\",\"type\":\"Plot\"},\"ticker\":{\"id\":\"a3b406f1-2437-4cd5-a1e3-0e2b8854b2f4\",\"type\":\"BasicTicker\"}},\"id\":\"ed7edd73-733d-4ba5-a815-be50ab6b1526\",\"type\":\"Grid\"},{\"attributes\":{\"fill_alpha\":{\"value\":0.1},\"fill_color\":{\"value\":\"#1f77b4\"},\"line_alpha\":{\"value\":0.1},\"line_color\":{\"value\":\"#1f77b4\"},\"top\":{\"field\":\"flux\"},\"width\":{\"value\":0.9},\"x\":{\"field\":\"band\"}},\"id\":\"9f798211-0f0b-411b-8145-bba6bfdb566c\",\"type\":\"VBar\"},{\"attributes\":{},\"id\":\"8cc2aab2-cdf7-46d9-9c3e-a422b4f171af\",\"type\":\"CategoricalTickFormatter\"},{\"attributes\":{\"source\":{\"id\":\"eccf64df-5e73-4a4f-a476-f187c8ea48ed\",\"type\":\"ColumnDataSource\"}},\"id\":\"3d4277dd-bbff-41af-864b-01504fd46e2e\",\"type\":\"CDSView\"},{\"attributes\":{\"bottom_units\":\"screen\",\"fill_alpha\":{\"value\":0.5},\"fill_color\":{\"value\":\"lightgrey\"},\"left_units\":\"screen\",\"level\":\"overlay\",\"line_alpha\":{\"value\":1.0},\"line_color\":{\"value\":\"black\"},\"line_dash\":[4,4],\"line_width\":{\"value\":2},\"plot\":null,\"render_mode\":\"css\",\"right_units\":\"screen\",\"top_units\":\"screen\"},\"id\":\"b011cff7-458c-46d4-99a4-ffa5e5144303\",\"type\":\"BoxAnnotation\"},{\"attributes\":{},\"id\":\"a3b406f1-2437-4cd5-a1e3-0e2b8854b2f4\",\"type\":\"BasicTicker\"},{\"attributes\":{},\"id\":\"087dfc4a-8564-48ac-986d-59d3d6c747c6\",\"type\":\"CategoricalScale\"}],\"root_ids\":[\"fd433afc-92af-47d6-9a53-05bfaca242bb\"]},\"title\":\"Bokeh Application\",\"version\":\"0.12.16\"}};\n",
       "  var render_items = [{\"docid\":\"dc49aaf6-1fa1-40f4-b4e6-430ec8a17bc3\",\"elementid\":\"e926ee3d-2c3b-4cf4-a052-fbe0c2589b70\",\"modelid\":\"fd433afc-92af-47d6-9a53-05bfaca242bb\"}];\n",
       "  root.Bokeh.embed.embed_items_notebook(docs_json, render_items);\n",
       "\n",
       "  }\n",
       "  if (root.Bokeh !== undefined) {\n",
       "    embed_document(root);\n",
       "  } else {\n",
       "    var attempts = 0;\n",
       "    var timer = setInterval(function(root) {\n",
       "      if (root.Bokeh !== undefined) {\n",
       "        embed_document(root);\n",
       "        clearInterval(timer);\n",
       "      }\n",
       "      attempts++;\n",
       "      if (attempts > 100) {\n",
       "        console.log(\"Bokeh: ERROR: Unable to run BokehJS code because BokehJS library is missing\")\n",
       "        clearInterval(timer);\n",
       "      }\n",
       "    }, 10, root)\n",
       "  }\n",
       "})(window);"
      ],
      "application/vnd.bokehjs_exec.v0+json": ""
     },
     "metadata": {
      "application/vnd.bokehjs_exec.v0+json": {
       "id": "fd433afc-92af-47d6-9a53-05bfaca242bb"
      }
     },
     "output_type": "display_data"
    },
    {
     "data": {
      "text/markdown": [
       "*FIGURE.* Difference between CLIRAD and CRD in TOA, SFC and net atmosphere flux, in each spectral band."
      ],
      "text/plain": [
       "<IPython.core.display.Markdown object>"
      ]
     },
     "metadata": {},
     "output_type": "display_data"
    },
    {
     "data": {
      "text/html": [
       "<div>\n",
       "<style scoped>\n",
       "    .dataframe tbody tr th:only-of-type {\n",
       "        vertical-align: middle;\n",
       "    }\n",
       "\n",
       "    .dataframe tbody tr th {\n",
       "        vertical-align: top;\n",
       "    }\n",
       "\n",
       "    .dataframe thead th {\n",
       "        text-align: right;\n",
       "    }\n",
       "</style>\n",
       "<table border=\"1\" class=\"dataframe\">\n",
       "  <thead>\n",
       "    <tr style=\"text-align: right;\">\n",
       "      <th></th>\n",
       "      <th>OLR flux</th>\n",
       "      <th>SFC flux</th>\n",
       "      <th>ATM heating</th>\n",
       "    </tr>\n",
       "    <tr>\n",
       "      <th>Sum over bands</th>\n",
       "      <th></th>\n",
       "      <th></th>\n",
       "      <th></th>\n",
       "    </tr>\n",
       "  </thead>\n",
       "  <tbody>\n",
       "    <tr>\n",
       "      <th>CLIRAD - CRD</th>\n",
       "      <td>0.51</td>\n",
       "      <td>0.69</td>\n",
       "      <td>-0.17</td>\n",
       "    </tr>\n",
       "    <tr>\n",
       "      <th>CRD</th>\n",
       "      <td>-170.96</td>\n",
       "      <td>79.16</td>\n",
       "      <td>-37.63</td>\n",
       "    </tr>\n",
       "  </tbody>\n",
       "</table>\n",
       "</div>"
      ],
      "text/plain": [
       "                OLR flux  SFC flux  ATM heating\n",
       "Sum over bands                                 \n",
       "CLIRAD - CRD        0.51      0.69        -0.17\n",
       "CRD              -170.96     79.16       -37.63"
      ]
     },
     "metadata": {},
     "output_type": "display_data"
    },
    {
     "data": {
      "text/markdown": [
       "*TABLE.* Difference between CLIRAD and CRD in TOA, SFC and net atmosphere flux, over all spectral bands. CRD's TOA, SFC and net atmosphere flux, over all spectral bands."
      ],
      "text/plain": [
       "<IPython.core.display.Markdown object>"
      ]
     },
     "metadata": {},
     "output_type": "display_data"
    },
    {
     "data": {
      "text/html": [
       "<a id=\"Cooling_rates._saw.\"></a>"
      ],
      "text/plain": [
       "<IPython.core.display.HTML object>"
      ]
     },
     "metadata": {},
     "output_type": "display_data"
    },
    {
     "data": {
      "text/markdown": [
       "# Cooling rates. saw."
      ],
      "text/plain": [
       "<IPython.core.display.Markdown object>"
      ]
     },
     "metadata": {},
     "output_type": "display_data"
    },
    {
     "data": {
      "text/html": [
       "\n",
       "<div class=\"bk-root\">\n",
       "    <div class=\"bk-plotdiv\" id=\"c638e351-7472-422d-91a8-f8f44db1272e\"></div>\n",
       "</div>"
      ]
     },
     "metadata": {},
     "output_type": "display_data"
    },
    {
     "data": {
      "application/javascript": [
       "(function(root) {\n",
       "  function embed_document(root) {\n",
       "    \n",
       "  var docs_json = {\"0d82825e-4ce7-4729-ad35-48378e6af9f2\":{\"roots\":{\"references\":[{\"attributes\":{\"overlay\":{\"id\":\"70b23d07-2fea-43f4-82d0-752d495307bf\",\"type\":\"BoxAnnotation\"}},\"id\":\"f39b32ac-de3e-45d0-84d5-d4ac3223eb2e\",\"type\":\"BoxZoomTool\"},{\"attributes\":{\"fill_alpha\":{\"value\":0.7},\"fill_color\":{\"value\":\"#984ea3\"},\"line_alpha\":{\"value\":0.7},\"line_color\":{\"value\":\"#984ea3\"},\"x\":{\"field\":\"x\"},\"y\":{\"field\":\"y\"}},\"id\":\"13a9c775-b4cf-4c3c-bb52-70289f32c8a6\",\"type\":\"Circle\"},{\"attributes\":{},\"id\":\"c2d92254-fdd2-4923-b105-066143c3936f\",\"type\":\"LogScale\"},{\"attributes\":{\"line_color\":\"#4daf4a\",\"line_width\":1.5,\"x\":{\"field\":\"x\"},\"y\":{\"field\":\"y\"}},\"id\":\"37ead066-b853-41d2-abf7-6d5475172c40\",\"type\":\"Line\"},{\"attributes\":{\"active_drag\":\"auto\",\"active_inspect\":\"auto\",\"active_scroll\":\"auto\",\"active_tap\":\"auto\",\"tools\":[{\"id\":\"ea698010-8b64-4f03-8fa7-00c5e7d559ef\",\"type\":\"PanTool\"},{\"id\":\"3f700e9d-aa7c-4d43-a477-83fa00d30182\",\"type\":\"WheelZoomTool\"},{\"id\":\"42cdf076-306f-427a-8367-331a32c29d6a\",\"type\":\"BoxZoomTool\"},{\"id\":\"2b286675-3148-4d72-9e8a-b135feeb8ae9\",\"type\":\"SaveTool\"},{\"id\":\"0e762c9a-828a-4249-8cec-7b1862c1ac2d\",\"type\":\"ResetTool\"},{\"id\":\"9e1a558f-e361-44a7-b460-104ec035bd63\",\"type\":\"HelpTool\"}]},\"id\":\"a4257d2c-632c-4252-a099-6178d8065c9a\",\"type\":\"Toolbar\"},{\"attributes\":{\"data_source\":{\"id\":\"4bd96662-373f-4ff6-bf18-ec1020fdb2d6\",\"type\":\"ColumnDataSource\"},\"glyph\":{\"id\":\"70848a62-317d-412c-a842-ffe0976d9538\",\"type\":\"Circle\"},\"hover_glyph\":null,\"muted_glyph\":null,\"nonselection_glyph\":{\"id\":\"af717da2-8c4e-46ae-abb3-d9cfb828bc03\",\"type\":\"Circle\"},\"selection_glyph\":null,\"view\":{\"id\":\"b40cf7a4-c8e1-4116-b596-2d7abe5f4349\",\"type\":\"CDSView\"}},\"id\":\"eaddccc1-f0fa-4317-8ad4-436498f5d027\",\"type\":\"GlyphRenderer\"},{\"attributes\":{\"label\":{\"value\":\"CLIRAD\"},\"renderers\":[{\"id\":\"1aa36aa2-d3ad-4f42-b398-b841e40973a6\",\"type\":\"GlyphRenderer\"}]},\"id\":\"6e30b08c-b3c3-4c21-addf-2641a5dbe32e\",\"type\":\"LegendItem\"},{\"attributes\":{\"items\":[{\"id\":\"ed568c09-216e-4ae8-95be-afbea2b1a975\",\"type\":\"LegendItem\"}],\"label_text_font_size\":{\"value\":\"8pt\"},\"location\":\"top_center\",\"orientation\":\"horizontal\",\"plot\":{\"id\":\"075e5109-daf7-4c3f-819d-6df0a48447fe\",\"subtype\":\"Figure\",\"type\":\"Plot\"}},\"id\":\"977b1103-a2e2-41b8-a461-98d0157b1884\",\"type\":\"Legend\"},{\"attributes\":{\"callback\":null,\"data\":{\"x\":{\"__ndarray__\":\"ctz0QKHDUEDjAysGblQ+QPREI+iqkzxAAjI5cYXXOUDOhNJHUNw2QHz1jgWpGzRARMR+7tbNMUCmsU6PhwEwQPQDdxknVy1Av0ZHbpxkK0BEWOiV//ApQG/Q9weMzShAf8fl+BcSKEAzAg7HkbcmQG1cargULyRAXKnA+e+8IUD10Ie+5f0fQNMJ5VcMth1Ai47eFEGhHEDbBCZTKOscQK4haR5dpx9AG96cKIoDHkCspeoq3gwXQH6SdReslhFALvOqytb4C0D7fcgYbVUGQEm/Rq6LXQFAdVFfcljW+z9/iutHgcb4P7vKguc7RvY/ZI+5xgTv8j+iDL5PvK3tP55C9IQaw+g/PBntx5495z+Ee4rMGCjkP485GahZYuA/VbBFxyCj2j/WHubyrljUPzFmT3Wgt80/xAN78sYnxz/JvMNWTkTCP3xrz9MkLrw/oGcCR9XYsz8RncSWOgOgPwLuLy/zW7C/eK8qSk2Rur8VxcFlZSyYvxsHBwiZtak/SvZPwa/itD+ysaf/dD66PygmEh4wmr4/x0U0qWY1wT/RbvpuqvTCP5e42islmMQ/N6YYdv0nxj8iERBMgp/HP7J1eQT+98g/UkeIEtkjyj833yUjSxLLPzwGu4s2uss/IZANlDsbzD+RLSkASELMP4LBa9cIRMw/bou5eVhAzD8RVGFwbF3MP15hDLDAzMw/flEaZO3TzT9dOto3hqfPPxlNXkj23dA/IMSYtCUb0T9pvt3qZpPPP4fLRVPx08o/WYK/ca/yxT/nRhyoD6HBP1BK2bYdaLY/\",\"dtype\":\"float64\",\"shape\":[75]},\"y\":{\"__ndarray__\":\"GhExyth1ND/Sv8nbtpRIP2vylNV0PVE/aTum7souWD/At0SJ8fVgPw3Iuahxymc/MSNhhJWvcD/bTfBN02d3P2zb5nxnaoA/CD5h5MAGhz8NmeH1TyaQP+zrCsc9p5Y/LbKd76fGnz/bLW5ISEmmPww9YvTcQq8/JV2OstnstT8Er5Y7M8G+P0c+r3jqkcU/5h99k6ZBzj88bCIzFzjVP4enV8oyxN0//yH99nXg5D8qOpLLf0jtP5kqGJXUifQ/c9cS8kHP/D+/DpwzojQEQIEmwoanVwxA4lgXt9HgE0BSSZ2AJuIbQAMJih9jjiNA5q4l5INuK0AwTKYKRj0zQNv5fmq8/DpAaCJseHrtQkB/+zpwzoxKQM3MzMzMeFJAZmZmZmZqWEAAAAAAAFxeQM3MzMzMJmJAmpmZmZkfZUBmZmZmZhhoQDMzMzMzEWtAAAAAAAAKbkBmZmZmZoFwQM3MzMzM/XFAMzMzMzN6c0CamZmZmfZ0QAAAAAAAc3ZAZmZmZmbvd0DNzMzMzGt5QDMzMzMz6HpAmpmZmZlkfEAAAAAAAOF9QGZmZmZmXX9AZmZmZuZsgECamZmZGSuBQM3MzMxM6YFAAAAAAICngkAzMzMzs2WDQGZmZmbmI4RAmpmZmRnihEDNzMzMTKCFQAAAAACAXoZAMzMzM7Mch0BmZmZm5tqHQJqZmZkZmYhAzczMzExXiUAAAAAAgBWKQDMzMzOz04pAZmZmZuaRi0CamZmZGVCMQM3MzMxMDo1AAAAAAIDMjUAzMzMzs4qOQGZmZmbmSI9A\",\"dtype\":\"float64\",\"shape\":[75]}},\"selected\":{\"id\":\"94baa5e4-7884-455d-bab3-e3ad5a5078e9\",\"type\":\"Selection\"},\"selection_policy\":{\"id\":\"cb87cd73-054b-4710-b72e-efd7d697548c\",\"type\":\"UnionRenderers\"}},\"id\":\"dc13b3ef-a102-4362-ac39-ddd4ffae5fb5\",\"type\":\"ColumnDataSource\"},{\"attributes\":{\"line_alpha\":0.1,\"line_color\":\"#1f77b4\",\"line_width\":1.5,\"x\":{\"field\":\"x\"},\"y\":{\"field\":\"y\"}},\"id\":\"fc267a08-849a-4df4-92c9-c83b5a3d647d\",\"type\":\"Line\"},{\"attributes\":{\"callback\":null,\"end\":0.01,\"start\":1020},\"id\":\"0060f788-e68e-4c63-bcdb-f04dabb4a915\",\"type\":\"Range1d\"},{\"attributes\":{},\"id\":\"4a8225fa-cc7c-49ca-931a-930b837981f9\",\"type\":\"UnionRenderers\"},{\"attributes\":{\"ticker\":null},\"id\":\"07fd16a9-c95b-4f2e-a253-40e2cc32a088\",\"type\":\"LogTickFormatter\"},{\"attributes\":{\"toolbar\":{\"id\":\"94734042-a05f-4075-96d4-3e57282bf128\",\"type\":\"ProxyToolbar\"},\"toolbar_location\":\"above\"},\"id\":\"ff22ed0b-2997-4683-be9e-bde6971f2f3a\",\"type\":\"ToolbarBox\"},{\"attributes\":{\"callback\":null,\"data\":{\"x\":{\"__ndarray__\":\"ctz0QKHDUEDjAysGblQ+QPREI+iqkzxAAjI5cYXXOUDOhNJHUNw2QHz1jgWpGzRARMR+7tbNMUCmsU6PhwEwQPQDdxknVy1Av0ZHbpxkK0BEWOiV//ApQG/Q9weMzShAf8fl+BcSKEAzAg7HkbcmQG1cargULyRAXKnA+e+8IUD10Ie+5f0fQNMJ5VcMth1Ai47eFEGhHEDbBCZTKOscQK4haR5dpx9AG96cKIoDHkCspeoq3gwXQH6SdReslhFALvOqytb4C0D7fcgYbVUGQEm/Rq6LXQFAdVFfcljW+z9/iutHgcb4P7vKguc7RvY/ZI+5xgTv8j+iDL5PvK3tP55C9IQaw+g/PBntx5495z+Ee4rMGCjkP485GahZYuA/VbBFxyCj2j/WHubyrljUPzFmT3Wgt80/xAN78sYnxz/JvMNWTkTCP3xrz9MkLrw/oGcCR9XYsz8RncSWOgOgPwLuLy/zW7C/eK8qSk2Rur8VxcFlZSyYvxsHBwiZtak/SvZPwa/itD+ysaf/dD66PygmEh4wmr4/x0U0qWY1wT/RbvpuqvTCP5e42islmMQ/N6YYdv0nxj8iERBMgp/HP7J1eQT+98g/UkeIEtkjyj833yUjSxLLPzwGu4s2uss/IZANlDsbzD+RLSkASELMP4LBa9cIRMw/bou5eVhAzD8RVGFwbF3MP15hDLDAzMw/flEaZO3TzT9dOto3hqfPPxlNXkj23dA/IMSYtCUb0T9pvt3qZpPPP4fLRVPx08o/WYK/ca/yxT/nRhyoD6HBP1BK2bYdaLY/\",\"dtype\":\"float64\",\"shape\":[75]},\"y\":{\"__ndarray__\":\"GhExyth1ND/Sv8nbtpRIP2vylNV0PVE/aTum7souWD/At0SJ8fVgPw3Iuahxymc/MSNhhJWvcD/bTfBN02d3P2zb5nxnaoA/CD5h5MAGhz8NmeH1TyaQP+zrCsc9p5Y/LbKd76fGnz/bLW5ISEmmPww9YvTcQq8/JV2OstnstT8Er5Y7M8G+P0c+r3jqkcU/5h99k6ZBzj88bCIzFzjVP4enV8oyxN0//yH99nXg5D8qOpLLf0jtP5kqGJXUifQ/c9cS8kHP/D+/DpwzojQEQIEmwoanVwxA4lgXt9HgE0BSSZ2AJuIbQAMJih9jjiNA5q4l5INuK0AwTKYKRj0zQNv5fmq8/DpAaCJseHrtQkB/+zpwzoxKQM3MzMzMeFJAZmZmZmZqWEAAAAAAAFxeQM3MzMzMJmJAmpmZmZkfZUBmZmZmZhhoQDMzMzMzEWtAAAAAAAAKbkBmZmZmZoFwQM3MzMzM/XFAMzMzMzN6c0CamZmZmfZ0QAAAAAAAc3ZAZmZmZmbvd0DNzMzMzGt5QDMzMzMz6HpAmpmZmZlkfEAAAAAAAOF9QGZmZmZmXX9AZmZmZuZsgECamZmZGSuBQM3MzMxM6YFAAAAAAICngkAzMzMzs2WDQGZmZmbmI4RAmpmZmRnihEDNzMzMTKCFQAAAAACAXoZAMzMzM7Mch0BmZmZm5tqHQJqZmZkZmYhAzczMzExXiUAAAAAAgBWKQDMzMzOz04pAZmZmZuaRi0CamZmZGVCMQM3MzMxMDo1AAAAAAIDMjUAzMzMzs4qOQGZmZmbmSI9A\",\"dtype\":\"float64\",\"shape\":[75]}},\"selected\":{\"id\":\"653f2fe8-6ac7-4767-a6ce-a5eec971e323\",\"type\":\"Selection\"},\"selection_policy\":{\"id\":\"b5f42a8d-e990-4490-b44b-cd43213c0a85\",\"type\":\"UnionRenderers\"}},\"id\":\"4bd96662-373f-4ff6-bf18-ec1020fdb2d6\",\"type\":\"ColumnDataSource\"},{\"attributes\":{\"fill_alpha\":{\"value\":0.1},\"fill_color\":{\"value\":\"#1f77b4\"},\"line_alpha\":{\"value\":0.1},\"line_color\":{\"value\":\"#1f77b4\"},\"x\":{\"field\":\"x\"},\"y\":{\"field\":\"y\"}},\"id\":\"af717da2-8c4e-46ae-abb3-d9cfb828bc03\",\"type\":\"Circle\"},{\"attributes\":{\"ticker\":null},\"id\":\"6169e3e0-d385-4557-827d-c207d4e1a59c\",\"type\":\"LogTickFormatter\"},{\"attributes\":{\"source\":{\"id\":\"d2eff6be-cdbb-4ee1-8545-f94c52e66b32\",\"type\":\"ColumnDataSource\"}},\"id\":\"aca95a7a-dda9-4ef3-8c45-4332dec19bc6\",\"type\":\"CDSView\"},{\"attributes\":{\"children\":[{\"id\":\"ff22ed0b-2997-4683-be9e-bde6971f2f3a\",\"type\":\"ToolbarBox\"},{\"id\":\"0505853b-d823-401f-9bad-6032711e6148\",\"type\":\"Column\"}]},\"id\":\"be634615-c6d8-4b0f-86cb-06051230590e\",\"type\":\"Column\"},{\"attributes\":{\"active_drag\":\"auto\",\"active_inspect\":\"auto\",\"active_scroll\":\"auto\",\"active_tap\":\"auto\",\"tools\":[{\"id\":\"c9e559f8-cf4b-4d1d-a431-ddb186e426c7\",\"type\":\"PanTool\"},{\"id\":\"92508d55-19a3-4284-a344-bdae1f5cc4b2\",\"type\":\"WheelZoomTool\"},{\"id\":\"f39b32ac-de3e-45d0-84d5-d4ac3223eb2e\",\"type\":\"BoxZoomTool\"},{\"id\":\"9e80c956-82a8-4e89-a8b8-b13529756ba6\",\"type\":\"SaveTool\"},{\"id\":\"cd753ed1-2f11-4cb7-927d-1ce5ae887c77\",\"type\":\"ResetTool\"},{\"id\":\"eeeacd98-a155-4ae3-8f4e-44b077e4ae2c\",\"type\":\"HelpTool\"}]},\"id\":\"9411e3a3-35dd-43fd-85f7-cb64eb031f5f\",\"type\":\"Toolbar\"},{\"attributes\":{\"axis_label\":\"cooling rate [K/day]\",\"formatter\":{\"id\":\"976702d4-74f7-4bdf-90fe-5f4536af404b\",\"type\":\"BasicTickFormatter\"},\"plot\":{\"id\":\"075e5109-daf7-4c3f-819d-6df0a48447fe\",\"subtype\":\"Figure\",\"type\":\"Plot\"},\"ticker\":{\"id\":\"00352abe-7eab-4e97-8ce2-733408e1d5ac\",\"type\":\"BasicTicker\"}},\"id\":\"aba5cb3b-06a6-4fe3-8688-3d81116222e8\",\"type\":\"LinearAxis\"},{\"attributes\":{\"fill_alpha\":{\"value\":0.7},\"fill_color\":{\"value\":\"#4daf4a\"},\"line_alpha\":{\"value\":0.7},\"line_color\":{\"value\":\"#4daf4a\"},\"x\":{\"field\":\"x\"},\"y\":{\"field\":\"y\"}},\"id\":\"70848a62-317d-412c-a842-ffe0976d9538\",\"type\":\"Circle\"},{\"attributes\":{\"callback\":null,\"end\":0.7574748373145987,\"start\":-1.0394772385745992},\"id\":\"5208e743-700b-49cb-a601-7e10c17f9a37\",\"type\":\"Range1d\"},{\"attributes\":{},\"id\":\"e4639cb9-0031-46b4-93eb-b2e2de18400f\",\"type\":\"Selection\"},{\"attributes\":{\"data_source\":{\"id\":\"9064851a-3494-4330-a19d-6752f65c4ae7\",\"type\":\"ColumnDataSource\"},\"glyph\":{\"id\":\"f84c6a04-ae85-4e28-b0be-3bfa0c4d0e64\",\"type\":\"Line\"},\"hover_glyph\":null,\"muted_glyph\":null,\"nonselection_glyph\":{\"id\":\"a3fd7ccc-b734-47a0-9a92-e3386b78328b\",\"type\":\"Line\"},\"selection_glyph\":null,\"view\":{\"id\":\"1b7851c6-fbdf-4af0-a2f2-5a526a550284\",\"type\":\"CDSView\"}},\"id\":\"901c19c5-d58d-4f06-bc93-add5ecf79470\",\"type\":\"GlyphRenderer\"},{\"attributes\":{\"source\":{\"id\":\"4bd96662-373f-4ff6-bf18-ec1020fdb2d6\",\"type\":\"ColumnDataSource\"}},\"id\":\"b40cf7a4-c8e1-4116-b596-2d7abe5f4349\",\"type\":\"CDSView\"},{\"attributes\":{},\"id\":\"2a9e01ae-fd9b-4ced-b5fa-e460626a27eb\",\"type\":\"LinearScale\"},{\"attributes\":{\"line_alpha\":0.8,\"line_color\":\"#984ea3\",\"line_width\":1.5,\"x\":{\"field\":\"x\"},\"y\":{\"field\":\"y\"}},\"id\":\"ca114d8e-04e7-4075-9ce4-3e34a22aef79\",\"type\":\"Line\"},{\"attributes\":{\"line_alpha\":0.1,\"line_color\":\"#1f77b4\",\"line_dash\":[6],\"line_width\":5,\"x\":{\"field\":\"x\"},\"y\":{\"field\":\"y\"}},\"id\":\"a3fd7ccc-b734-47a0-9a92-e3386b78328b\",\"type\":\"Line\"},{\"attributes\":{\"callback\":null,\"data\":{\"x\":{\"__ndarray__\":\"+CYbSSEsNsBk3QHA0bP7P4yqpa9w4ARAL4Zg5ENrBkDtt4qh3hX+PyDm+pkx0ss/cNAvju3E9L+2SAGXCwn+vxMPmw4Ib/m/dROK74lZ8L/E47Jhd3jlv6dsvlpFqeS/ZijsVBAi6L/2FlhXLw3lv0awHyZFksm/OckICQim2D/zYrr46aznP1Ub8q3ZQ+Y/m8GaycYq1D+0uqSo+gfEv2LdSIiSmt2/x59buMhO2b+WW4z7O82+v1yC9byViFu/0gXjSZLstb8XVectK0jCv6qjrv18IZI/eAAIFMC1wz/nj/m235nBP9e+hdxCAbI/RElwQCEHrT/M/EPjD882P/oJEON0UZ+//3inTStAlT+jL7zwloamPzLwalliOmY/sBHksrw4hr9FSfBEAsuQP3htE+8Zy6M/vXnbtzYJpj8mjY5YX4ChP1jL62Lbv5Q/DYRxrj5EdD/oXv6+UwWBv0Mx+GWxhJO/0PAalSUemb8G6g5B+nSZv6bEMX8ZcpW/237PLwbmkL/hjv9JA1CLv+yjwOz0x4e/J6KncvUOiL9X1CgRe2eFvw2dfI10rIO/WIK4He8ggb/cLkLP0Nx7v1nwughNK3S/iHYKyvrYZb+A7aYixAlWv1fxQS3Y1lc/4N0NUABfZz/sEdaQwRRxP04ipSE3v3U/r3quV16XeT/Kd0ES53l8P0CNYOnYVn4/cBr+6TtFfz94Ot2oP0qAP3xGasBxMHs/8qPrdO4efj98D1UlR4J8Py8DSWOqHHc/CNM1oXW+ez+RjOtdUF92P8DAKdCIiXg/\",\"dtype\":\"float64\",\"shape\":[75]},\"y\":{\"__ndarray__\":\"GhExyth1ND/Sv8nbtpRIP2vylNV0PVE/aTum7souWD/At0SJ8fVgPw3Iuahxymc/MSNhhJWvcD/bTfBN02d3P2zb5nxnaoA/CD5h5MAGhz8NmeH1TyaQP+zrCsc9p5Y/LbKd76fGnz/bLW5ISEmmPww9YvTcQq8/JV2OstnstT8Er5Y7M8G+P0c+r3jqkcU/5h99k6ZBzj88bCIzFzjVP4enV8oyxN0//yH99nXg5D8qOpLLf0jtP5kqGJXUifQ/c9cS8kHP/D+/DpwzojQEQIEmwoanVwxA4lgXt9HgE0BSSZ2AJuIbQAMJih9jjiNA5q4l5INuK0AwTKYKRj0zQNv5fmq8/DpAaCJseHrtQkB/+zpwzoxKQM3MzMzMeFJAZmZmZmZqWEAAAAAAAFxeQM3MzMzMJmJAmpmZmZkfZUBmZmZmZhhoQDMzMzMzEWtAAAAAAAAKbkBmZmZmZoFwQM3MzMzM/XFAMzMzMzN6c0CamZmZmfZ0QAAAAAAAc3ZAZmZmZmbvd0DNzMzMzGt5QDMzMzMz6HpAmpmZmZlkfEAAAAAAAOF9QGZmZmZmXX9AZmZmZuZsgECamZmZGSuBQM3MzMxM6YFAAAAAAICngkAzMzMzs2WDQGZmZmbmI4RAmpmZmRnihEDNzMzMTKCFQAAAAACAXoZAMzMzM7Mch0BmZmZm5tqHQJqZmZkZmYhAzczMzExXiUAAAAAAgBWKQDMzMzOz04pAZmZmZuaRi0CamZmZGVCMQM3MzMxMDo1AAAAAAIDMjUAzMzMzs4qOQGZmZmbmSI9A\",\"dtype\":\"float64\",\"shape\":[75]}},\"selected\":{\"id\":\"58d53117-36cc-4ea4-a22e-502231bf2618\",\"type\":\"Selection\"},\"selection_policy\":{\"id\":\"8fd4854d-2c06-4010-a6b7-8cfd1bada04c\",\"type\":\"UnionRenderers\"}},\"id\":\"eb912983-063f-4ef5-81fc-80dc6d18f5da\",\"type\":\"ColumnDataSource\"},{\"attributes\":{\"above\":[{\"id\":\"977b1103-a2e2-41b8-a461-98d0157b1884\",\"type\":\"Legend\"}],\"below\":[{\"id\":\"aba5cb3b-06a6-4fe3-8688-3d81116222e8\",\"type\":\"LinearAxis\"}],\"left\":[{\"id\":\"aa191716-8de4-488f-b378-8bc35a260586\",\"type\":\"LogAxis\"}],\"plot_width\":300,\"renderers\":[{\"id\":\"aba5cb3b-06a6-4fe3-8688-3d81116222e8\",\"type\":\"LinearAxis\"},{\"id\":\"8f1ce0dc-2cce-4b6e-af9c-788f85cb216b\",\"type\":\"Grid\"},{\"id\":\"aa191716-8de4-488f-b378-8bc35a260586\",\"type\":\"LogAxis\"},{\"id\":\"51272e2e-d2ef-44c7-83f7-58e1a2143fc1\",\"type\":\"Grid\"},{\"id\":\"70b23d07-2fea-43f4-82d0-752d495307bf\",\"type\":\"BoxAnnotation\"},{\"id\":\"e3824e5c-3c6c-41c7-845a-7348836d3483\",\"type\":\"GlyphRenderer\"},{\"id\":\"0ab31d78-ca81-4fb7-970e-57e39190acb6\",\"type\":\"GlyphRenderer\"},{\"id\":\"977b1103-a2e2-41b8-a461-98d0157b1884\",\"type\":\"Legend\"}],\"title\":{\"id\":\"530d1acb-5ce2-4e49-9926-4eeed451d4a8\",\"type\":\"Title\"},\"toolbar\":{\"id\":\"9411e3a3-35dd-43fd-85f7-cb64eb031f5f\",\"type\":\"Toolbar\"},\"toolbar_location\":null,\"x_range\":{\"id\":\"5208e743-700b-49cb-a601-7e10c17f9a37\",\"type\":\"Range1d\"},\"x_scale\":{\"id\":\"2a9e01ae-fd9b-4ced-b5fa-e460626a27eb\",\"type\":\"LinearScale\"},\"y_range\":{\"id\":\"0060f788-e68e-4c63-bcdb-f04dabb4a915\",\"type\":\"Range1d\"},\"y_scale\":{\"id\":\"c2d92254-fdd2-4923-b105-066143c3936f\",\"type\":\"LogScale\"}},\"id\":\"075e5109-daf7-4c3f-819d-6df0a48447fe\",\"subtype\":\"Figure\",\"type\":\"Plot\"},{\"attributes\":{\"above\":[{\"id\":\"05ba233b-cbe4-4196-915a-c0a3c362a771\",\"type\":\"Legend\"}],\"below\":[{\"id\":\"48cca740-e649-4bdc-b094-9a3ac7185ef3\",\"type\":\"LinearAxis\"}],\"left\":[{\"id\":\"3ba96646-db5b-4f4c-837d-8476df55ffd0\",\"type\":\"LinearAxis\"}],\"plot_width\":300,\"renderers\":[{\"id\":\"48cca740-e649-4bdc-b094-9a3ac7185ef3\",\"type\":\"LinearAxis\"},{\"id\":\"de7b11ee-429b-4d19-905c-070b5e8262fa\",\"type\":\"Grid\"},{\"id\":\"3ba96646-db5b-4f4c-837d-8476df55ffd0\",\"type\":\"LinearAxis\"},{\"id\":\"00940a09-2cc0-40d3-b08c-063c80d13d27\",\"type\":\"Grid\"},{\"id\":\"50e362cc-48e2-46e4-8ba3-ff3b3d18acc6\",\"type\":\"BoxAnnotation\"},{\"id\":\"901c19c5-d58d-4f06-bc93-add5ecf79470\",\"type\":\"GlyphRenderer\"},{\"id\":\"eaddccc1-f0fa-4317-8ad4-436498f5d027\",\"type\":\"GlyphRenderer\"},{\"id\":\"4f476f27-9b2c-40c7-8027-21c4a05262f2\",\"type\":\"GlyphRenderer\"},{\"id\":\"05ba233b-cbe4-4196-915a-c0a3c362a771\",\"type\":\"Legend\"}],\"title\":{\"id\":\"7cd166ee-bad9-491b-be55-ae7c74d67438\",\"type\":\"Title\"},\"toolbar\":{\"id\":\"a4257d2c-632c-4252-a099-6178d8065c9a\",\"type\":\"Toolbar\"},\"toolbar_location\":null,\"x_range\":{\"id\":\"040595de-dbb3-4e5e-9ef8-d444c75b9c05\",\"type\":\"Range1d\"},\"x_scale\":{\"id\":\"dde00a46-4215-47e8-8479-aab416eb3eba\",\"type\":\"LinearScale\"},\"y_range\":{\"id\":\"9c392d18-46f0-49e8-a6c7-7bd203dc7cc6\",\"type\":\"Range1d\"},\"y_scale\":{\"id\":\"d9254f6a-4ede-4598-9810-e2d1c09ddee7\",\"type\":\"LinearScale\"}},\"id\":\"f0bd9885-e627-4770-8f30-640d2d0ee051\",\"subtype\":\"Figure\",\"type\":\"Plot\"},{\"attributes\":{\"fill_alpha\":{\"value\":0.1},\"fill_color\":{\"value\":\"#1f77b4\"},\"line_alpha\":{\"value\":0.1},\"line_color\":{\"value\":\"#1f77b4\"},\"x\":{\"field\":\"x\"},\"y\":{\"field\":\"y\"}},\"id\":\"61dd11ec-603b-46e1-ab79-d2c8a4ebf974\",\"type\":\"Circle\"},{\"attributes\":{\"source\":{\"id\":\"b8312873-1a60-4fbc-942b-6af7023fa93f\",\"type\":\"ColumnDataSource\"}},\"id\":\"76ab55d3-64a4-4730-957c-497af9ca454b\",\"type\":\"CDSView\"},{\"attributes\":{\"bottom_units\":\"screen\",\"fill_alpha\":{\"value\":0.5},\"fill_color\":{\"value\":\"lightgrey\"},\"left_units\":\"screen\",\"level\":\"overlay\",\"line_alpha\":{\"value\":1.0},\"line_color\":{\"value\":\"black\"},\"line_dash\":[4,4],\"line_width\":{\"value\":2},\"plot\":null,\"render_mode\":\"css\",\"right_units\":\"screen\",\"top_units\":\"screen\"},\"id\":\"50e362cc-48e2-46e4-8ba3-ff3b3d18acc6\",\"type\":\"BoxAnnotation\"},{\"attributes\":{},\"id\":\"9e0d0e77-4ee6-46f4-bf08-751dba87057c\",\"type\":\"BasicTicker\"},{\"attributes\":{},\"id\":\"2f67dc6a-f485-4a7c-9f5f-5dd4a39c9324\",\"type\":\"UnionRenderers\"},{\"attributes\":{\"tools\":[{\"id\":\"ea698010-8b64-4f03-8fa7-00c5e7d559ef\",\"type\":\"PanTool\"},{\"id\":\"3f700e9d-aa7c-4d43-a477-83fa00d30182\",\"type\":\"WheelZoomTool\"},{\"id\":\"42cdf076-306f-427a-8367-331a32c29d6a\",\"type\":\"BoxZoomTool\"},{\"id\":\"2b286675-3148-4d72-9e8a-b135feeb8ae9\",\"type\":\"SaveTool\"},{\"id\":\"0e762c9a-828a-4249-8cec-7b1862c1ac2d\",\"type\":\"ResetTool\"},{\"id\":\"9e1a558f-e361-44a7-b460-104ec035bd63\",\"type\":\"HelpTool\"},{\"id\":\"646b71fa-79d0-46d5-a0d2-e0b8dec93753\",\"type\":\"PanTool\"},{\"id\":\"39584b12-27a6-4b5a-9cb9-28098fe3677e\",\"type\":\"WheelZoomTool\"},{\"id\":\"c7028c01-cce1-4b34-9cff-37bd6ca09cf2\",\"type\":\"BoxZoomTool\"},{\"id\":\"af4e5cb8-7723-4b10-8ad4-d35cb7f2bc6e\",\"type\":\"SaveTool\"},{\"id\":\"1a6fbe7a-de35-42b9-8e22-d1720a5ea038\",\"type\":\"ResetTool\"},{\"id\":\"26a4ca2f-bc97-4bb8-80ad-92b63050bb4c\",\"type\":\"HelpTool\"},{\"id\":\"c9e559f8-cf4b-4d1d-a431-ddb186e426c7\",\"type\":\"PanTool\"},{\"id\":\"92508d55-19a3-4284-a344-bdae1f5cc4b2\",\"type\":\"WheelZoomTool\"},{\"id\":\"f39b32ac-de3e-45d0-84d5-d4ac3223eb2e\",\"type\":\"BoxZoomTool\"},{\"id\":\"9e80c956-82a8-4e89-a8b8-b13529756ba6\",\"type\":\"SaveTool\"},{\"id\":\"cd753ed1-2f11-4cb7-927d-1ce5ae887c77\",\"type\":\"ResetTool\"},{\"id\":\"eeeacd98-a155-4ae3-8f4e-44b077e4ae2c\",\"type\":\"HelpTool\"}]},\"id\":\"94734042-a05f-4075-96d4-3e57282bf128\",\"type\":\"ProxyToolbar\"},{\"attributes\":{\"source\":{\"id\":\"9064851a-3494-4330-a19d-6752f65c4ae7\",\"type\":\"ColumnDataSource\"}},\"id\":\"1b7851c6-fbdf-4af0-a2f2-5a526a550284\",\"type\":\"CDSView\"},{\"attributes\":{},\"id\":\"874e16d9-f043-483a-9985-e204b80bb560\",\"type\":\"BasicTickFormatter\"},{\"attributes\":{\"line_color\":\"#4daf4a\",\"line_width\":1.5,\"x\":{\"field\":\"x\"},\"y\":{\"field\":\"y\"}},\"id\":\"98839a4f-ba6e-4643-96e6-02917403710c\",\"type\":\"Line\"},{\"attributes\":{\"num_minor_ticks\":10},\"id\":\"b8526382-cec7-4b05-b73e-e95fa130a397\",\"type\":\"LogTicker\"},{\"attributes\":{},\"id\":\"5221e637-dbbd-4eca-b6ba-b7c3ff224f5a\",\"type\":\"UnionRenderers\"},{\"attributes\":{\"callback\":null,\"end\":13.832043936480597,\"start\":0.007171569659400023},\"id\":\"2ddad4ab-5dd5-4588-a5b7-874d5c388cfa\",\"type\":\"Range1d\"},{\"attributes\":{\"data_source\":{\"id\":\"d2eff6be-cdbb-4ee1-8545-f94c52e66b32\",\"type\":\"ColumnDataSource\"},\"glyph\":{\"id\":\"13a9c775-b4cf-4c3c-bb52-70289f32c8a6\",\"type\":\"Circle\"},\"hover_glyph\":null,\"muted_glyph\":null,\"nonselection_glyph\":{\"id\":\"61dd11ec-603b-46e1-ab79-d2c8a4ebf974\",\"type\":\"Circle\"},\"selection_glyph\":null,\"view\":{\"id\":\"aca95a7a-dda9-4ef3-8c45-4332dec19bc6\",\"type\":\"CDSView\"}},\"id\":\"e3824e5c-3c6c-41c7-845a-7348836d3483\",\"type\":\"GlyphRenderer\"},{\"attributes\":{\"label\":{\"value\":\"CRD\"},\"renderers\":[{\"id\":\"eaddccc1-f0fa-4317-8ad4-436498f5d027\",\"type\":\"GlyphRenderer\"},{\"id\":\"4f476f27-9b2c-40c7-8027-21c4a05262f2\",\"type\":\"GlyphRenderer\"}]},\"id\":\"c5847eee-eb14-4aa5-a282-851574aecfff\",\"type\":\"LegendItem\"},{\"attributes\":{\"label\":{\"value\":\"CLIRAD\"},\"renderers\":[{\"id\":\"901c19c5-d58d-4f06-bc93-add5ecf79470\",\"type\":\"GlyphRenderer\"}]},\"id\":\"b1194c8e-de59-452c-bbcb-06cfeb16189b\",\"type\":\"LegendItem\"},{\"attributes\":{\"callback\":null,\"end\":0.01,\"start\":1020},\"id\":\"9c392d18-46f0-49e8-a6c7-7bd203dc7cc6\",\"type\":\"Range1d\"},{\"attributes\":{\"plot\":{\"id\":\"075e5109-daf7-4c3f-819d-6df0a48447fe\",\"subtype\":\"Figure\",\"type\":\"Plot\"},\"ticker\":{\"id\":\"00352abe-7eab-4e97-8ce2-733408e1d5ac\",\"type\":\"BasicTicker\"}},\"id\":\"8f1ce0dc-2cce-4b6e-af9c-788f85cb216b\",\"type\":\"Grid\"},{\"attributes\":{},\"id\":\"2b286675-3148-4d72-9e8a-b135feeb8ae9\",\"type\":\"SaveTool\"},{\"attributes\":{},\"id\":\"bff16cb0-d5bc-41fb-bb64-7a575e43130f\",\"type\":\"UnionRenderers\"},{\"attributes\":{},\"id\":\"eeeacd98-a155-4ae3-8f4e-44b077e4ae2c\",\"type\":\"HelpTool\"},{\"attributes\":{\"bottom_units\":\"screen\",\"fill_alpha\":{\"value\":0.5},\"fill_color\":{\"value\":\"lightgrey\"},\"left_units\":\"screen\",\"level\":\"overlay\",\"line_alpha\":{\"value\":1.0},\"line_color\":{\"value\":\"black\"},\"line_dash\":[4,4],\"line_width\":{\"value\":2},\"plot\":null,\"render_mode\":\"css\",\"right_units\":\"screen\",\"top_units\":\"screen\"},\"id\":\"70b23d07-2fea-43f4-82d0-752d495307bf\",\"type\":\"BoxAnnotation\"},{\"attributes\":{},\"id\":\"ed77f607-39cd-403a-82c0-24c05f2cc66e\",\"type\":\"BasicTicker\"},{\"attributes\":{},\"id\":\"8910d247-2e09-495b-b74a-94adefe65022\",\"type\":\"LogScale\"},{\"attributes\":{},\"id\":\"b5f42a8d-e990-4490-b44b-cd43213c0a85\",\"type\":\"UnionRenderers\"},{\"attributes\":{},\"id\":\"6b01b8f3-1517-49c0-9f47-191e9e909e64\",\"type\":\"LinearScale\"},{\"attributes\":{\"items\":[{\"id\":\"6e30b08c-b3c3-4c21-addf-2641a5dbe32e\",\"type\":\"LegendItem\"},{\"id\":\"886dc30c-4459-4801-8bb7-4056997c03ea\",\"type\":\"LegendItem\"}],\"label_text_font_size\":{\"value\":\"8pt\"},\"location\":\"top_center\",\"orientation\":\"horizontal\",\"plot\":{\"id\":\"2cc9ebe7-7eb0-438e-8bb0-20d0e167a5fd\",\"subtype\":\"Figure\",\"type\":\"Plot\"}},\"id\":\"bb40bdd9-a011-4880-84bf-30c060a5ea68\",\"type\":\"Legend\"},{\"attributes\":{\"label\":{\"value\":\"CRD\"},\"renderers\":[{\"id\":\"3c5e4539-0494-41ce-811e-e8d5b1c461fe\",\"type\":\"GlyphRenderer\"},{\"id\":\"d57095fe-7b42-4279-890a-5d4f6b9feb0a\",\"type\":\"GlyphRenderer\"}]},\"id\":\"886dc30c-4459-4801-8bb7-4056997c03ea\",\"type\":\"LegendItem\"},{\"attributes\":{\"children\":[{\"id\":\"f0bd9885-e627-4770-8f30-640d2d0ee051\",\"subtype\":\"Figure\",\"type\":\"Plot\"},{\"id\":\"2cc9ebe7-7eb0-438e-8bb0-20d0e167a5fd\",\"subtype\":\"Figure\",\"type\":\"Plot\"},{\"id\":\"075e5109-daf7-4c3f-819d-6df0a48447fe\",\"subtype\":\"Figure\",\"type\":\"Plot\"}]},\"id\":\"0832cbbe-c277-4736-9b7b-e5e34f4aa911\",\"type\":\"Row\"},{\"attributes\":{\"bottom_units\":\"screen\",\"fill_alpha\":{\"value\":0.5},\"fill_color\":{\"value\":\"lightgrey\"},\"left_units\":\"screen\",\"level\":\"overlay\",\"line_alpha\":{\"value\":1.0},\"line_color\":{\"value\":\"black\"},\"line_dash\":[4,4],\"line_width\":{\"value\":2},\"plot\":null,\"render_mode\":\"css\",\"right_units\":\"screen\",\"top_units\":\"screen\"},\"id\":\"9769fa87-4093-4a14-ab4f-9969899978bd\",\"type\":\"BoxAnnotation\"},{\"attributes\":{\"plot\":{\"id\":\"2cc9ebe7-7eb0-438e-8bb0-20d0e167a5fd\",\"subtype\":\"Figure\",\"type\":\"Plot\"},\"ticker\":{\"id\":\"036c6b18-551c-4150-9516-f24bc67e6efd\",\"type\":\"BasicTicker\"}},\"id\":\"671c9469-0839-4003-873a-514a6f67497a\",\"type\":\"Grid\"},{\"attributes\":{\"label\":{\"value\":\"CLIRAD - CRD\"},\"renderers\":[{\"id\":\"e3824e5c-3c6c-41c7-845a-7348836d3483\",\"type\":\"GlyphRenderer\"},{\"id\":\"0ab31d78-ca81-4fb7-970e-57e39190acb6\",\"type\":\"GlyphRenderer\"}]},\"id\":\"ed568c09-216e-4ae8-95be-afbea2b1a975\",\"type\":\"LegendItem\"},{\"attributes\":{\"data_source\":{\"id\":\"b8312873-1a60-4fbc-942b-6af7023fa93f\",\"type\":\"ColumnDataSource\"},\"glyph\":{\"id\":\"c0e1c58f-088c-4dca-ae54-8443fe288349\",\"type\":\"Line\"},\"hover_glyph\":null,\"muted_glyph\":null,\"nonselection_glyph\":{\"id\":\"a34bddd4-0a7f-4d81-876e-77404e1e4780\",\"type\":\"Line\"},\"selection_glyph\":null,\"view\":{\"id\":\"76ab55d3-64a4-4730-957c-497af9ca454b\",\"type\":\"CDSView\"}},\"id\":\"1aa36aa2-d3ad-4f42-b398-b841e40973a6\",\"type\":\"GlyphRenderer\"},{\"attributes\":{\"source\":{\"id\":\"eb912983-063f-4ef5-81fc-80dc6d18f5da\",\"type\":\"ColumnDataSource\"}},\"id\":\"c0b61091-3137-48f9-815c-cb238d00cf6b\",\"type\":\"CDSView\"},{\"attributes\":{},\"id\":\"00352abe-7eab-4e97-8ce2-733408e1d5ac\",\"type\":\"BasicTicker\"},{\"attributes\":{},\"id\":\"cb87cd73-054b-4710-b72e-efd7d697548c\",\"type\":\"UnionRenderers\"},{\"attributes\":{\"callback\":null,\"end\":0.6819122140147981,\"start\":-0.13633068387499803},\"id\":\"040595de-dbb3-4e5e-9ef8-d444c75b9c05\",\"type\":\"Range1d\"},{\"attributes\":{},\"id\":\"b81fd6b0-b83c-4edb-aeba-b20dcd1e7425\",\"type\":\"UnionRenderers\"},{\"attributes\":{},\"id\":\"8fd4854d-2c06-4010-a6b7-8cfd1bada04c\",\"type\":\"UnionRenderers\"},{\"attributes\":{\"dimension\":1,\"plot\":{\"id\":\"f0bd9885-e627-4770-8f30-640d2d0ee051\",\"subtype\":\"Figure\",\"type\":\"Plot\"},\"ticker\":{\"id\":\"9e0d0e77-4ee6-46f4-bf08-751dba87057c\",\"type\":\"BasicTicker\"}},\"id\":\"00940a09-2cc0-40d3-b08c-063c80d13d27\",\"type\":\"Grid\"},{\"attributes\":{},\"id\":\"646b71fa-79d0-46d5-a0d2-e0b8dec93753\",\"type\":\"PanTool\"},{\"attributes\":{},\"id\":\"d9254f6a-4ede-4598-9810-e2d1c09ddee7\",\"type\":\"LinearScale\"},{\"attributes\":{\"fill_alpha\":{\"value\":0.1},\"fill_color\":{\"value\":\"#1f77b4\"},\"line_alpha\":{\"value\":0.1},\"line_color\":{\"value\":\"#1f77b4\"},\"x\":{\"field\":\"x\"},\"y\":{\"field\":\"y\"}},\"id\":\"369fd13b-2e7f-4fe0-bdc8-3b8ce540e6de\",\"type\":\"Circle\"},{\"attributes\":{},\"id\":\"58d53117-36cc-4ea4-a22e-502231bf2618\",\"type\":\"Selection\"},{\"attributes\":{\"plot\":null,\"text\":\"\"},\"id\":\"7cd166ee-bad9-491b-be55-ae7c74d67438\",\"type\":\"Title\"},{\"attributes\":{\"items\":[{\"id\":\"b1194c8e-de59-452c-bbcb-06cfeb16189b\",\"type\":\"LegendItem\"},{\"id\":\"c5847eee-eb14-4aa5-a282-851574aecfff\",\"type\":\"LegendItem\"}],\"label_text_font_size\":{\"value\":\"8pt\"},\"location\":\"top_center\",\"orientation\":\"horizontal\",\"plot\":{\"id\":\"f0bd9885-e627-4770-8f30-640d2d0ee051\",\"subtype\":\"Figure\",\"type\":\"Plot\"}},\"id\":\"05ba233b-cbe4-4196-915a-c0a3c362a771\",\"type\":\"Legend\"},{\"attributes\":{},\"id\":\"c7f2e515-aa59-40cd-a5ab-eb894f00cc7e\",\"type\":\"Selection\"},{\"attributes\":{},\"id\":\"036c6b18-551c-4150-9516-f24bc67e6efd\",\"type\":\"BasicTicker\"},{\"attributes\":{\"plot\":{\"id\":\"f0bd9885-e627-4770-8f30-640d2d0ee051\",\"subtype\":\"Figure\",\"type\":\"Plot\"},\"ticker\":{\"id\":\"ed77f607-39cd-403a-82c0-24c05f2cc66e\",\"type\":\"BasicTicker\"}},\"id\":\"de7b11ee-429b-4d19-905c-070b5e8262fa\",\"type\":\"Grid\"},{\"attributes\":{\"callback\":null,\"data\":{\"x\":{\"__ndarray__\":\"aCVc3TFxRkDdkBWR1QdAQEX6F/64Lz9AyULF7e2kPEBNMOsxrr04QEfrwmhNUzRAPsebFYiBMEA2Or2r7UEsQBKioxdGKSpAUQRWMGtZKUAIKs0feJkoQKPpS7L3gidA9wSX8/aPJkDDgJjRvmYlQK3d0aPLyCNApu8IOiCCIkCqjs9+wXkhQJ+m0cZDPyBApTp4ge3jHUAF3+B96EocQNeT5PWzzR1AHiQXnZ1uHEA9dPw6qZEWQCbDGY7zlBFA/9pbOHJJC0CrCOpl6jAFQJIcQqjOgQFAhFHgdBBN/j97vMo+vfn6P6kmSxVQZvc/rxG90D3X8z8idboxlrDtP0/C292OyOc/BFVaIqDn5z9/PpY7gpDlP3+kcgqUeOA/yI+u4Vrx2T9qIzUXX2XVP8YgingzVdE/MuJxoBSqzD8SYOcsZqTGPykvRdYNr8A/4X/pMRkdtT+uCgpOy4OXP1T6rYgfPbW/17W4V2tswL+NV2jTr9Cov5FJ3JAY+Z0/lBZcNS6psD/Xv2eWdNS2P6wReoAxobs/SpcTpO5ovz+N4ee9Mp7BP8XuAuNdXcM/EB49hO4VxT+r/5XFm8DGPy+eM5yjVsg/eB1gJ3XMyT9bkeCaN+bKPyCKFTzk6cs/mcdNlbd4zD8g3q8M7srMP5XqeJAC8sw/RP92bBMNzT/RX/OoO0HNP8dlV3d3v80/UUJqQxfOzj8CBzQZFVbQPzT2Xw+4StE/r3JsbqGT0T9zMwSSvDvQP6ETYKbWjMs/8TDJHqPQxj9LowsrClTCP1zm20O28Lc/\",\"dtype\":\"float64\",\"shape\":[75]},\"y\":{\"__ndarray__\":\"GhExyth1ND/Sv8nbtpRIP2vylNV0PVE/aTum7souWD/At0SJ8fVgPw3Iuahxymc/MSNhhJWvcD/bTfBN02d3P2zb5nxnaoA/CD5h5MAGhz8NmeH1TyaQP+zrCsc9p5Y/LbKd76fGnz/bLW5ISEmmPww9YvTcQq8/JV2OstnstT8Er5Y7M8G+P0c+r3jqkcU/5h99k6ZBzj88bCIzFzjVP4enV8oyxN0//yH99nXg5D8qOpLLf0jtP5kqGJXUifQ/c9cS8kHP/D+/DpwzojQEQIEmwoanVwxA4lgXt9HgE0BSSZ2AJuIbQAMJih9jjiNA5q4l5INuK0AwTKYKRj0zQNv5fmq8/DpAaCJseHrtQkB/+zpwzoxKQM3MzMzMeFJAZmZmZmZqWEAAAAAAAFxeQM3MzMzMJmJAmpmZmZkfZUBmZmZmZhhoQDMzMzMzEWtAAAAAAAAKbkBmZmZmZoFwQM3MzMzM/XFAMzMzMzN6c0CamZmZmfZ0QAAAAAAAc3ZAZmZmZmbvd0DNzMzMzGt5QDMzMzMz6HpAmpmZmZlkfEAAAAAAAOF9QGZmZmZmXX9AZmZmZuZsgECamZmZGSuBQM3MzMxM6YFAAAAAAICngkAzMzMzs2WDQGZmZmbmI4RAmpmZmRnihEDNzMzMTKCFQAAAAACAXoZAMzMzM7Mch0BmZmZm5tqHQJqZmZkZmYhAzczMzExXiUAAAAAAgBWKQDMzMzOz04pAZmZmZuaRi0CamZmZGVCMQM3MzMxMDo1AAAAAAIDMjUAzMzMzs4qOQGZmZmbmSI9A\",\"dtype\":\"float64\",\"shape\":[75]}},\"selected\":{\"id\":\"be000f52-483a-4376-a0bd-00e90b972f11\",\"type\":\"Selection\"},\"selection_policy\":{\"id\":\"5221e637-dbbd-4eca-b6ba-b7c3ff224f5a\",\"type\":\"UnionRenderers\"}},\"id\":\"9064851a-3494-4330-a19d-6752f65c4ae7\",\"type\":\"ColumnDataSource\"},{\"attributes\":{\"data_source\":{\"id\":\"fe34d13b-fb55-4872-aecb-477903ab34b0\",\"type\":\"ColumnDataSource\"},\"glyph\":{\"id\":\"f8c1b56d-7594-43ac-8978-771e4435938a\",\"type\":\"Circle\"},\"hover_glyph\":null,\"muted_glyph\":null,\"nonselection_glyph\":{\"id\":\"369fd13b-2e7f-4fe0-bdc8-3b8ce540e6de\",\"type\":\"Circle\"},\"selection_glyph\":null,\"view\":{\"id\":\"d3a56ac7-5678-4caa-9333-43f6248b8023\",\"type\":\"CDSView\"}},\"id\":\"3c5e4539-0494-41ce-811e-e8d5b1c461fe\",\"type\":\"GlyphRenderer\"},{\"attributes\":{\"callback\":null,\"data\":{\"x\":{\"__ndarray__\":\"+CYbSSEsNsBk3QHA0bP7P4yqpa9w4ARAL4Zg5ENrBkDtt4qh3hX+PyDm+pkx0ss/cNAvju3E9L+2SAGXCwn+vxMPmw4Ib/m/dROK74lZ8L/E47Jhd3jlv6dsvlpFqeS/ZijsVBAi6L/2FlhXLw3lv0awHyZFksm/OckICQim2D/zYrr46aznP1Ub8q3ZQ+Y/m8GaycYq1D+0uqSo+gfEv2LdSIiSmt2/x59buMhO2b+WW4z7O82+v1yC9byViFu/0gXjSZLstb8XVectK0jCv6qjrv18IZI/eAAIFMC1wz/nj/m235nBP9e+hdxCAbI/RElwQCEHrT/M/EPjD882P/oJEON0UZ+//3inTStAlT+jL7zwloamPzLwalliOmY/sBHksrw4hr9FSfBEAsuQP3htE+8Zy6M/vXnbtzYJpj8mjY5YX4ChP1jL62Lbv5Q/DYRxrj5EdD/oXv6+UwWBv0Mx+GWxhJO/0PAalSUemb8G6g5B+nSZv6bEMX8ZcpW/237PLwbmkL/hjv9JA1CLv+yjwOz0x4e/J6KncvUOiL9X1CgRe2eFvw2dfI10rIO/WIK4He8ggb/cLkLP0Nx7v1nwughNK3S/iHYKyvrYZb+A7aYixAlWv1fxQS3Y1lc/4N0NUABfZz/sEdaQwRRxP04ipSE3v3U/r3quV16XeT/Kd0ES53l8P0CNYOnYVn4/cBr+6TtFfz94Ot2oP0qAP3xGasBxMHs/8qPrdO4efj98D1UlR4J8Py8DSWOqHHc/CNM1oXW+ez+RjOtdUF92P8DAKdCIiXg/\",\"dtype\":\"float64\",\"shape\":[75]},\"y\":{\"__ndarray__\":\"GhExyth1ND/Sv8nbtpRIP2vylNV0PVE/aTum7souWD/At0SJ8fVgPw3Iuahxymc/MSNhhJWvcD/bTfBN02d3P2zb5nxnaoA/CD5h5MAGhz8NmeH1TyaQP+zrCsc9p5Y/LbKd76fGnz/bLW5ISEmmPww9YvTcQq8/JV2OstnstT8Er5Y7M8G+P0c+r3jqkcU/5h99k6ZBzj88bCIzFzjVP4enV8oyxN0//yH99nXg5D8qOpLLf0jtP5kqGJXUifQ/c9cS8kHP/D+/DpwzojQEQIEmwoanVwxA4lgXt9HgE0BSSZ2AJuIbQAMJih9jjiNA5q4l5INuK0AwTKYKRj0zQNv5fmq8/DpAaCJseHrtQkB/+zpwzoxKQM3MzMzMeFJAZmZmZmZqWEAAAAAAAFxeQM3MzMzMJmJAmpmZmZkfZUBmZmZmZhhoQDMzMzMzEWtAAAAAAAAKbkBmZmZmZoFwQM3MzMzM/XFAMzMzMzN6c0CamZmZmfZ0QAAAAAAAc3ZAZmZmZmbvd0DNzMzMzGt5QDMzMzMz6HpAmpmZmZlkfEAAAAAAAOF9QGZmZmZmXX9AZmZmZuZsgECamZmZGSuBQM3MzMxM6YFAAAAAAICngkAzMzMzs2WDQGZmZmbmI4RAmpmZmRnihEDNzMzMTKCFQAAAAACAXoZAMzMzM7Mch0BmZmZm5tqHQJqZmZkZmYhAzczMzExXiUAAAAAAgBWKQDMzMzOz04pAZmZmZuaRi0CamZmZGVCMQM3MzMxMDo1AAAAAAIDMjUAzMzMzs4qOQGZmZmbmSI9A\",\"dtype\":\"float64\",\"shape\":[75]}},\"selected\":{\"id\":\"c8a4d629-8ad5-42d6-af86-4b7b56b37c00\",\"type\":\"Selection\"},\"selection_policy\":{\"id\":\"2f67dc6a-f485-4a7c-9f5f-5dd4a39c9324\",\"type\":\"UnionRenderers\"}},\"id\":\"d2eff6be-cdbb-4ee1-8545-f94c52e66b32\",\"type\":\"ColumnDataSource\"},{\"attributes\":{},\"id\":\"3f700e9d-aa7c-4d43-a477-83fa00d30182\",\"type\":\"WheelZoomTool\"},{\"attributes\":{\"axis_label\":\"cooling rate [K/day]\",\"formatter\":{\"id\":\"874e16d9-f043-483a-9985-e204b80bb560\",\"type\":\"BasicTickFormatter\"},\"plot\":{\"id\":\"2cc9ebe7-7eb0-438e-8bb0-20d0e167a5fd\",\"subtype\":\"Figure\",\"type\":\"Plot\"},\"ticker\":{\"id\":\"036c6b18-551c-4150-9516-f24bc67e6efd\",\"type\":\"BasicTicker\"}},\"id\":\"cdd048b0-011e-4bc7-a8ab-b231768a6f7b\",\"type\":\"LinearAxis\"},{\"attributes\":{\"line_alpha\":0.1,\"line_color\":\"#1f77b4\",\"line_dash\":[6],\"line_width\":5,\"x\":{\"field\":\"x\"},\"y\":{\"field\":\"y\"}},\"id\":\"a34bddd4-0a7f-4d81-876e-77404e1e4780\",\"type\":\"Line\"},{\"attributes\":{},\"id\":\"cd753ed1-2f11-4cb7-927d-1ce5ae887c77\",\"type\":\"ResetTool\"},{\"attributes\":{},\"id\":\"be000f52-483a-4376-a0bd-00e90b972f11\",\"type\":\"Selection\"},{\"attributes\":{\"overlay\":{\"id\":\"50e362cc-48e2-46e4-8ba3-ff3b3d18acc6\",\"type\":\"BoxAnnotation\"}},\"id\":\"42cdf076-306f-427a-8367-331a32c29d6a\",\"type\":\"BoxZoomTool\"},{\"attributes\":{\"plot\":null,\"text\":\"\"},\"id\":\"530d1acb-5ce2-4e49-9926-4eeed451d4a8\",\"type\":\"Title\"},{\"attributes\":{\"line_alpha\":0.6,\"line_color\":\"#e41a1c\",\"line_dash\":[6],\"line_width\":5,\"x\":{\"field\":\"x\"},\"y\":{\"field\":\"y\"}},\"id\":\"f84c6a04-ae85-4e28-b0be-3bfa0c4d0e64\",\"type\":\"Line\"},{\"attributes\":{\"line_alpha\":0.6,\"line_color\":\"#e41a1c\",\"line_dash\":[6],\"line_width\":5,\"x\":{\"field\":\"x\"},\"y\":{\"field\":\"y\"}},\"id\":\"c0e1c58f-088c-4dca-ae54-8443fe288349\",\"type\":\"Line\"},{\"attributes\":{},\"id\":\"94baa5e4-7884-455d-bab3-e3ad5a5078e9\",\"type\":\"Selection\"},{\"attributes\":{},\"id\":\"ea698010-8b64-4f03-8fa7-00c5e7d559ef\",\"type\":\"PanTool\"},{\"attributes\":{\"data_source\":{\"id\":\"30fb6d57-fdfc-481d-98bb-7607a4248c09\",\"type\":\"ColumnDataSource\"},\"glyph\":{\"id\":\"98839a4f-ba6e-4643-96e6-02917403710c\",\"type\":\"Line\"},\"hover_glyph\":null,\"muted_glyph\":null,\"nonselection_glyph\":{\"id\":\"23f963e6-44bf-4b82-b739-dd68c18be973\",\"type\":\"Line\"},\"selection_glyph\":null,\"view\":{\"id\":\"453a62eb-857e-47d1-9584-ad5a59204811\",\"type\":\"CDSView\"}},\"id\":\"d57095fe-7b42-4279-890a-5d4f6b9feb0a\",\"type\":\"GlyphRenderer\"},{\"attributes\":{\"axis_label\":\"pressure [mb]\",\"formatter\":{\"id\":\"07fd16a9-c95b-4f2e-a253-40e2cc32a088\",\"type\":\"LogTickFormatter\"},\"plot\":{\"id\":\"2cc9ebe7-7eb0-438e-8bb0-20d0e167a5fd\",\"subtype\":\"Figure\",\"type\":\"Plot\"},\"ticker\":{\"id\":\"0da4c786-4c5f-4fc5-afc0-25aed6899cfb\",\"type\":\"LogTicker\"}},\"id\":\"5f11088c-c207-464e-b9c9-25f4390419b2\",\"type\":\"LogAxis\"},{\"attributes\":{\"plot\":null,\"text\":\"\"},\"id\":\"19953dc3-3936-4210-b006-c608262ca009\",\"type\":\"Title\"},{\"attributes\":{\"dimension\":1,\"plot\":{\"id\":\"2cc9ebe7-7eb0-438e-8bb0-20d0e167a5fd\",\"subtype\":\"Figure\",\"type\":\"Plot\"},\"ticker\":{\"id\":\"0da4c786-4c5f-4fc5-afc0-25aed6899cfb\",\"type\":\"LogTicker\"}},\"id\":\"34de7966-8456-4265-94d8-561105e963bc\",\"type\":\"Grid\"},{\"attributes\":{},\"id\":\"dde00a46-4215-47e8-8479-aab416eb3eba\",\"type\":\"LinearScale\"},{\"attributes\":{},\"id\":\"653f2fe8-6ac7-4767-a6ce-a5eec971e323\",\"type\":\"Selection\"},{\"attributes\":{},\"id\":\"1a6fbe7a-de35-42b9-8e22-d1720a5ea038\",\"type\":\"ResetTool\"},{\"attributes\":{\"above\":[{\"id\":\"bb40bdd9-a011-4880-84bf-30c060a5ea68\",\"type\":\"Legend\"}],\"below\":[{\"id\":\"cdd048b0-011e-4bc7-a8ab-b231768a6f7b\",\"type\":\"LinearAxis\"}],\"left\":[{\"id\":\"5f11088c-c207-464e-b9c9-25f4390419b2\",\"type\":\"LogAxis\"}],\"plot_width\":300,\"renderers\":[{\"id\":\"cdd048b0-011e-4bc7-a8ab-b231768a6f7b\",\"type\":\"LinearAxis\"},{\"id\":\"671c9469-0839-4003-873a-514a6f67497a\",\"type\":\"Grid\"},{\"id\":\"5f11088c-c207-464e-b9c9-25f4390419b2\",\"type\":\"LogAxis\"},{\"id\":\"34de7966-8456-4265-94d8-561105e963bc\",\"type\":\"Grid\"},{\"id\":\"9769fa87-4093-4a14-ab4f-9969899978bd\",\"type\":\"BoxAnnotation\"},{\"id\":\"1aa36aa2-d3ad-4f42-b398-b841e40973a6\",\"type\":\"GlyphRenderer\"},{\"id\":\"3c5e4539-0494-41ce-811e-e8d5b1c461fe\",\"type\":\"GlyphRenderer\"},{\"id\":\"d57095fe-7b42-4279-890a-5d4f6b9feb0a\",\"type\":\"GlyphRenderer\"},{\"id\":\"bb40bdd9-a011-4880-84bf-30c060a5ea68\",\"type\":\"Legend\"}],\"title\":{\"id\":\"19953dc3-3936-4210-b006-c608262ca009\",\"type\":\"Title\"},\"toolbar\":{\"id\":\"8f97d66c-2ee3-4eb8-b621-05d25945113f\",\"type\":\"Toolbar\"},\"toolbar_location\":null,\"x_range\":{\"id\":\"2ddad4ab-5dd5-4588-a5b7-874d5c388cfa\",\"type\":\"Range1d\"},\"x_scale\":{\"id\":\"6b01b8f3-1517-49c0-9f47-191e9e909e64\",\"type\":\"LinearScale\"},\"y_range\":{\"id\":\"4a137fba-be62-4796-80b2-866c3f462330\",\"type\":\"Range1d\"},\"y_scale\":{\"id\":\"8910d247-2e09-495b-b74a-94adefe65022\",\"type\":\"LogScale\"}},\"id\":\"2cc9ebe7-7eb0-438e-8bb0-20d0e167a5fd\",\"subtype\":\"Figure\",\"type\":\"Plot\"},{\"attributes\":{},\"id\":\"976702d4-74f7-4bdf-90fe-5f4536af404b\",\"type\":\"BasicTickFormatter\"},{\"attributes\":{},\"id\":\"39584b12-27a6-4b5a-9cb9-28098fe3677e\",\"type\":\"WheelZoomTool\"},{\"attributes\":{\"axis_label\":\"cooling rate [K/day]\",\"formatter\":{\"id\":\"c40cd0fc-fcb7-4f78-aade-5fd56c9db5f5\",\"type\":\"BasicTickFormatter\"},\"plot\":{\"id\":\"f0bd9885-e627-4770-8f30-640d2d0ee051\",\"subtype\":\"Figure\",\"type\":\"Plot\"},\"ticker\":{\"id\":\"ed77f607-39cd-403a-82c0-24c05f2cc66e\",\"type\":\"BasicTicker\"}},\"id\":\"48cca740-e649-4bdc-b094-9a3ac7185ef3\",\"type\":\"LinearAxis\"},{\"attributes\":{\"fill_alpha\":{\"value\":0.7},\"fill_color\":{\"value\":\"#4daf4a\"},\"line_alpha\":{\"value\":0.7},\"line_color\":{\"value\":\"#4daf4a\"},\"x\":{\"field\":\"x\"},\"y\":{\"field\":\"y\"}},\"id\":\"f8c1b56d-7594-43ac-8978-771e4435938a\",\"type\":\"Circle\"},{\"attributes\":{\"callback\":null,\"data\":{\"x\":{\"__ndarray__\":\"aCVc3TFxRkDdkBWR1QdAQEX6F/64Lz9AyULF7e2kPEBNMOsxrr04QEfrwmhNUzRAPsebFYiBMEA2Or2r7UEsQBKioxdGKSpAUQRWMGtZKUAIKs0feJkoQKPpS7L3gidA9wSX8/aPJkDDgJjRvmYlQK3d0aPLyCNApu8IOiCCIkCqjs9+wXkhQJ+m0cZDPyBApTp4ge3jHUAF3+B96EocQNeT5PWzzR1AHiQXnZ1uHEA9dPw6qZEWQCbDGY7zlBFA/9pbOHJJC0CrCOpl6jAFQJIcQqjOgQFAhFHgdBBN/j97vMo+vfn6P6kmSxVQZvc/rxG90D3X8z8idboxlrDtP0/C292OyOc/BFVaIqDn5z9/PpY7gpDlP3+kcgqUeOA/yI+u4Vrx2T9qIzUXX2XVP8YgingzVdE/MuJxoBSqzD8SYOcsZqTGPykvRdYNr8A/4X/pMRkdtT+uCgpOy4OXP1T6rYgfPbW/17W4V2tswL+NV2jTr9Cov5FJ3JAY+Z0/lBZcNS6psD/Xv2eWdNS2P6wReoAxobs/SpcTpO5ovz+N4ee9Mp7BP8XuAuNdXcM/EB49hO4VxT+r/5XFm8DGPy+eM5yjVsg/eB1gJ3XMyT9bkeCaN+bKPyCKFTzk6cs/mcdNlbd4zD8g3q8M7srMP5XqeJAC8sw/RP92bBMNzT/RX/OoO0HNP8dlV3d3v80/UUJqQxfOzj8CBzQZFVbQPzT2Xw+4StE/r3JsbqGT0T9zMwSSvDvQP6ETYKbWjMs/8TDJHqPQxj9LowsrClTCP1zm20O28Lc/\",\"dtype\":\"float64\",\"shape\":[75]},\"y\":{\"__ndarray__\":\"GhExyth1ND/Sv8nbtpRIP2vylNV0PVE/aTum7souWD/At0SJ8fVgPw3Iuahxymc/MSNhhJWvcD/bTfBN02d3P2zb5nxnaoA/CD5h5MAGhz8NmeH1TyaQP+zrCsc9p5Y/LbKd76fGnz/bLW5ISEmmPww9YvTcQq8/JV2OstnstT8Er5Y7M8G+P0c+r3jqkcU/5h99k6ZBzj88bCIzFzjVP4enV8oyxN0//yH99nXg5D8qOpLLf0jtP5kqGJXUifQ/c9cS8kHP/D+/DpwzojQEQIEmwoanVwxA4lgXt9HgE0BSSZ2AJuIbQAMJih9jjiNA5q4l5INuK0AwTKYKRj0zQNv5fmq8/DpAaCJseHrtQkB/+zpwzoxKQM3MzMzMeFJAZmZmZmZqWEAAAAAAAFxeQM3MzMzMJmJAmpmZmZkfZUBmZmZmZhhoQDMzMzMzEWtAAAAAAAAKbkBmZmZmZoFwQM3MzMzM/XFAMzMzMzN6c0CamZmZmfZ0QAAAAAAAc3ZAZmZmZmbvd0DNzMzMzGt5QDMzMzMz6HpAmpmZmZlkfEAAAAAAAOF9QGZmZmZmXX9AZmZmZuZsgECamZmZGSuBQM3MzMxM6YFAAAAAAICngkAzMzMzs2WDQGZmZmbmI4RAmpmZmRnihEDNzMzMTKCFQAAAAACAXoZAMzMzM7Mch0BmZmZm5tqHQJqZmZkZmYhAzczMzExXiUAAAAAAgBWKQDMzMzOz04pAZmZmZuaRi0CamZmZGVCMQM3MzMxMDo1AAAAAAIDMjUAzMzMzs4qOQGZmZmbmSI9A\",\"dtype\":\"float64\",\"shape\":[75]}},\"selected\":{\"id\":\"c7f2e515-aa59-40cd-a5ab-eb894f00cc7e\",\"type\":\"Selection\"},\"selection_policy\":{\"id\":\"bff16cb0-d5bc-41fb-bb64-7a575e43130f\",\"type\":\"UnionRenderers\"}},\"id\":\"b8312873-1a60-4fbc-942b-6af7023fa93f\",\"type\":\"ColumnDataSource\"},{\"attributes\":{\"callback\":null,\"data\":{\"x\":{\"__ndarray__\":\"ctz0QKHDUEDjAysGblQ+QPREI+iqkzxAAjI5cYXXOUDOhNJHUNw2QHz1jgWpGzRARMR+7tbNMUCmsU6PhwEwQPQDdxknVy1Av0ZHbpxkK0BEWOiV//ApQG/Q9weMzShAf8fl+BcSKEAzAg7HkbcmQG1cargULyRAXKnA+e+8IUD10Ie+5f0fQNMJ5VcMth1Ai47eFEGhHEDbBCZTKOscQK4haR5dpx9AG96cKIoDHkCspeoq3gwXQH6SdReslhFALvOqytb4C0D7fcgYbVUGQEm/Rq6LXQFAdVFfcljW+z9/iutHgcb4P7vKguc7RvY/ZI+5xgTv8j+iDL5PvK3tP55C9IQaw+g/PBntx5495z+Ee4rMGCjkP485GahZYuA/VbBFxyCj2j/WHubyrljUPzFmT3Wgt80/xAN78sYnxz/JvMNWTkTCP3xrz9MkLrw/oGcCR9XYsz8RncSWOgOgPwLuLy/zW7C/eK8qSk2Rur8VxcFlZSyYvxsHBwiZtak/SvZPwa/itD+ysaf/dD66PygmEh4wmr4/x0U0qWY1wT/RbvpuqvTCP5e42islmMQ/N6YYdv0nxj8iERBMgp/HP7J1eQT+98g/UkeIEtkjyj833yUjSxLLPzwGu4s2uss/IZANlDsbzD+RLSkASELMP4LBa9cIRMw/bou5eVhAzD8RVGFwbF3MP15hDLDAzMw/flEaZO3TzT9dOto3hqfPPxlNXkj23dA/IMSYtCUb0T9pvt3qZpPPP4fLRVPx08o/WYK/ca/yxT/nRhyoD6HBP1BK2bYdaLY/\",\"dtype\":\"float64\",\"shape\":[75]},\"y\":{\"__ndarray__\":\"GhExyth1ND/Sv8nbtpRIP2vylNV0PVE/aTum7souWD/At0SJ8fVgPw3Iuahxymc/MSNhhJWvcD/bTfBN02d3P2zb5nxnaoA/CD5h5MAGhz8NmeH1TyaQP+zrCsc9p5Y/LbKd76fGnz/bLW5ISEmmPww9YvTcQq8/JV2OstnstT8Er5Y7M8G+P0c+r3jqkcU/5h99k6ZBzj88bCIzFzjVP4enV8oyxN0//yH99nXg5D8qOpLLf0jtP5kqGJXUifQ/c9cS8kHP/D+/DpwzojQEQIEmwoanVwxA4lgXt9HgE0BSSZ2AJuIbQAMJih9jjiNA5q4l5INuK0AwTKYKRj0zQNv5fmq8/DpAaCJseHrtQkB/+zpwzoxKQM3MzMzMeFJAZmZmZmZqWEAAAAAAAFxeQM3MzMzMJmJAmpmZmZkfZUBmZmZmZhhoQDMzMzMzEWtAAAAAAAAKbkBmZmZmZoFwQM3MzMzM/XFAMzMzMzN6c0CamZmZmfZ0QAAAAAAAc3ZAZmZmZmbvd0DNzMzMzGt5QDMzMzMz6HpAmpmZmZlkfEAAAAAAAOF9QGZmZmZmXX9AZmZmZuZsgECamZmZGSuBQM3MzMxM6YFAAAAAAICngkAzMzMzs2WDQGZmZmbmI4RAmpmZmRnihEDNzMzMTKCFQAAAAACAXoZAMzMzM7Mch0BmZmZm5tqHQJqZmZkZmYhAzczMzExXiUAAAAAAgBWKQDMzMzOz04pAZmZmZuaRi0CamZmZGVCMQM3MzMxMDo1AAAAAAIDMjUAzMzMzs4qOQGZmZmbmSI9A\",\"dtype\":\"float64\",\"shape\":[75]}},\"selected\":{\"id\":\"e4639cb9-0031-46b4-93eb-b2e2de18400f\",\"type\":\"Selection\"},\"selection_policy\":{\"id\":\"4a8225fa-cc7c-49ca-931a-930b837981f9\",\"type\":\"UnionRenderers\"}},\"id\":\"fe34d13b-fb55-4872-aecb-477903ab34b0\",\"type\":\"ColumnDataSource\"},{\"attributes\":{\"axis_label\":\"pressure [mb]\",\"formatter\":{\"id\":\"b850a82d-b84f-4dec-a48f-616a689502a0\",\"type\":\"BasicTickFormatter\"},\"plot\":{\"id\":\"f0bd9885-e627-4770-8f30-640d2d0ee051\",\"subtype\":\"Figure\",\"type\":\"Plot\"},\"ticker\":{\"id\":\"9e0d0e77-4ee6-46f4-bf08-751dba87057c\",\"type\":\"BasicTicker\"}},\"id\":\"3ba96646-db5b-4f4c-837d-8476df55ffd0\",\"type\":\"LinearAxis\"},{\"attributes\":{\"data_source\":{\"id\":\"dc13b3ef-a102-4362-ac39-ddd4ffae5fb5\",\"type\":\"ColumnDataSource\"},\"glyph\":{\"id\":\"37ead066-b853-41d2-abf7-6d5475172c40\",\"type\":\"Line\"},\"hover_glyph\":null,\"muted_glyph\":null,\"nonselection_glyph\":{\"id\":\"fc267a08-849a-4df4-92c9-c83b5a3d647d\",\"type\":\"Line\"},\"selection_glyph\":null,\"view\":{\"id\":\"0b0e7dc0-d940-46e4-893a-d04af9570f44\",\"type\":\"CDSView\"}},\"id\":\"4f476f27-9b2c-40c7-8027-21c4a05262f2\",\"type\":\"GlyphRenderer\"},{\"attributes\":{\"source\":{\"id\":\"fe34d13b-fb55-4872-aecb-477903ab34b0\",\"type\":\"ColumnDataSource\"}},\"id\":\"d3a56ac7-5678-4caa-9333-43f6248b8023\",\"type\":\"CDSView\"},{\"attributes\":{},\"id\":\"c40cd0fc-fcb7-4f78-aade-5fd56c9db5f5\",\"type\":\"BasicTickFormatter\"},{\"attributes\":{\"children\":[{\"id\":\"0832cbbe-c277-4736-9b7b-e5e34f4aa911\",\"type\":\"Row\"}]},\"id\":\"0505853b-d823-401f-9bad-6032711e6148\",\"type\":\"Column\"},{\"attributes\":{},\"id\":\"0e762c9a-828a-4249-8cec-7b1862c1ac2d\",\"type\":\"ResetTool\"},{\"attributes\":{\"axis_label\":\"pressure [mb]\",\"formatter\":{\"id\":\"6169e3e0-d385-4557-827d-c207d4e1a59c\",\"type\":\"LogTickFormatter\"},\"plot\":{\"id\":\"075e5109-daf7-4c3f-819d-6df0a48447fe\",\"subtype\":\"Figure\",\"type\":\"Plot\"},\"ticker\":{\"id\":\"b8526382-cec7-4b05-b73e-e95fa130a397\",\"type\":\"LogTicker\"}},\"id\":\"aa191716-8de4-488f-b378-8bc35a260586\",\"type\":\"LogAxis\"},{\"attributes\":{\"active_drag\":\"auto\",\"active_inspect\":\"auto\",\"active_scroll\":\"auto\",\"active_tap\":\"auto\",\"tools\":[{\"id\":\"646b71fa-79d0-46d5-a0d2-e0b8dec93753\",\"type\":\"PanTool\"},{\"id\":\"39584b12-27a6-4b5a-9cb9-28098fe3677e\",\"type\":\"WheelZoomTool\"},{\"id\":\"c7028c01-cce1-4b34-9cff-37bd6ca09cf2\",\"type\":\"BoxZoomTool\"},{\"id\":\"af4e5cb8-7723-4b10-8ad4-d35cb7f2bc6e\",\"type\":\"SaveTool\"},{\"id\":\"1a6fbe7a-de35-42b9-8e22-d1720a5ea038\",\"type\":\"ResetTool\"},{\"id\":\"26a4ca2f-bc97-4bb8-80ad-92b63050bb4c\",\"type\":\"HelpTool\"}]},\"id\":\"8f97d66c-2ee3-4eb8-b621-05d25945113f\",\"type\":\"Toolbar\"},{\"attributes\":{},\"id\":\"c8a4d629-8ad5-42d6-af86-4b7b56b37c00\",\"type\":\"Selection\"},{\"attributes\":{\"num_minor_ticks\":10},\"id\":\"0da4c786-4c5f-4fc5-afc0-25aed6899cfb\",\"type\":\"LogTicker\"},{\"attributes\":{},\"id\":\"1c427a08-43e3-4120-83dd-d85bcb7b5e29\",\"type\":\"Selection\"},{\"attributes\":{},\"id\":\"9e80c956-82a8-4e89-a8b8-b13529756ba6\",\"type\":\"SaveTool\"},{\"attributes\":{\"callback\":null,\"end\":0.01,\"start\":1020},\"id\":\"4a137fba-be62-4796-80b2-866c3f462330\",\"type\":\"Range1d\"},{\"attributes\":{},\"id\":\"af4e5cb8-7723-4b10-8ad4-d35cb7f2bc6e\",\"type\":\"SaveTool\"},{\"attributes\":{},\"id\":\"26a4ca2f-bc97-4bb8-80ad-92b63050bb4c\",\"type\":\"HelpTool\"},{\"attributes\":{},\"id\":\"9e1a558f-e361-44a7-b460-104ec035bd63\",\"type\":\"HelpTool\"},{\"attributes\":{},\"id\":\"92508d55-19a3-4284-a344-bdae1f5cc4b2\",\"type\":\"WheelZoomTool\"},{\"attributes\":{\"callback\":null,\"data\":{\"x\":{\"__ndarray__\":\"ctz0QKHDUEDjAysGblQ+QPREI+iqkzxAAjI5cYXXOUDOhNJHUNw2QHz1jgWpGzRARMR+7tbNMUCmsU6PhwEwQPQDdxknVy1Av0ZHbpxkK0BEWOiV//ApQG/Q9weMzShAf8fl+BcSKEAzAg7HkbcmQG1cargULyRAXKnA+e+8IUD10Ie+5f0fQNMJ5VcMth1Ai47eFEGhHEDbBCZTKOscQK4haR5dpx9AG96cKIoDHkCspeoq3gwXQH6SdReslhFALvOqytb4C0D7fcgYbVUGQEm/Rq6LXQFAdVFfcljW+z9/iutHgcb4P7vKguc7RvY/ZI+5xgTv8j+iDL5PvK3tP55C9IQaw+g/PBntx5495z+Ee4rMGCjkP485GahZYuA/VbBFxyCj2j/WHubyrljUPzFmT3Wgt80/xAN78sYnxz/JvMNWTkTCP3xrz9MkLrw/oGcCR9XYsz8RncSWOgOgPwLuLy/zW7C/eK8qSk2Rur8VxcFlZSyYvxsHBwiZtak/SvZPwa/itD+ysaf/dD66PygmEh4wmr4/x0U0qWY1wT/RbvpuqvTCP5e42islmMQ/N6YYdv0nxj8iERBMgp/HP7J1eQT+98g/UkeIEtkjyj833yUjSxLLPzwGu4s2uss/IZANlDsbzD+RLSkASELMP4LBa9cIRMw/bou5eVhAzD8RVGFwbF3MP15hDLDAzMw/flEaZO3TzT9dOto3hqfPPxlNXkj23dA/IMSYtCUb0T9pvt3qZpPPP4fLRVPx08o/WYK/ca/yxT/nRhyoD6HBP1BK2bYdaLY/\",\"dtype\":\"float64\",\"shape\":[75]},\"y\":{\"__ndarray__\":\"GhExyth1ND/Sv8nbtpRIP2vylNV0PVE/aTum7souWD/At0SJ8fVgPw3Iuahxymc/MSNhhJWvcD/bTfBN02d3P2zb5nxnaoA/CD5h5MAGhz8NmeH1TyaQP+zrCsc9p5Y/LbKd76fGnz/bLW5ISEmmPww9YvTcQq8/JV2OstnstT8Er5Y7M8G+P0c+r3jqkcU/5h99k6ZBzj88bCIzFzjVP4enV8oyxN0//yH99nXg5D8qOpLLf0jtP5kqGJXUifQ/c9cS8kHP/D+/DpwzojQEQIEmwoanVwxA4lgXt9HgE0BSSZ2AJuIbQAMJih9jjiNA5q4l5INuK0AwTKYKRj0zQNv5fmq8/DpAaCJseHrtQkB/+zpwzoxKQM3MzMzMeFJAZmZmZmZqWEAAAAAAAFxeQM3MzMzMJmJAmpmZmZkfZUBmZmZmZhhoQDMzMzMzEWtAAAAAAAAKbkBmZmZmZoFwQM3MzMzM/XFAMzMzMzN6c0CamZmZmfZ0QAAAAAAAc3ZAZmZmZmbvd0DNzMzMzGt5QDMzMzMz6HpAmpmZmZlkfEAAAAAAAOF9QGZmZmZmXX9AZmZmZuZsgECamZmZGSuBQM3MzMxM6YFAAAAAAICngkAzMzMzs2WDQGZmZmbmI4RAmpmZmRnihEDNzMzMTKCFQAAAAACAXoZAMzMzM7Mch0BmZmZm5tqHQJqZmZkZmYhAzczMzExXiUAAAAAAgBWKQDMzMzOz04pAZmZmZuaRi0CamZmZGVCMQM3MzMxMDo1AAAAAAIDMjUAzMzMzs4qOQGZmZmbmSI9A\",\"dtype\":\"float64\",\"shape\":[75]}},\"selected\":{\"id\":\"1c427a08-43e3-4120-83dd-d85bcb7b5e29\",\"type\":\"Selection\"},\"selection_policy\":{\"id\":\"b81fd6b0-b83c-4edb-aeba-b20dcd1e7425\",\"type\":\"UnionRenderers\"}},\"id\":\"30fb6d57-fdfc-481d-98bb-7607a4248c09\",\"type\":\"ColumnDataSource\"},{\"attributes\":{\"source\":{\"id\":\"30fb6d57-fdfc-481d-98bb-7607a4248c09\",\"type\":\"ColumnDataSource\"}},\"id\":\"453a62eb-857e-47d1-9584-ad5a59204811\",\"type\":\"CDSView\"},{\"attributes\":{},\"id\":\"c9e559f8-cf4b-4d1d-a431-ddb186e426c7\",\"type\":\"PanTool\"},{\"attributes\":{\"line_alpha\":0.1,\"line_color\":\"#1f77b4\",\"line_width\":1.5,\"x\":{\"field\":\"x\"},\"y\":{\"field\":\"y\"}},\"id\":\"23f963e6-44bf-4b82-b739-dd68c18be973\",\"type\":\"Line\"},{\"attributes\":{\"source\":{\"id\":\"dc13b3ef-a102-4362-ac39-ddd4ffae5fb5\",\"type\":\"ColumnDataSource\"}},\"id\":\"0b0e7dc0-d940-46e4-893a-d04af9570f44\",\"type\":\"CDSView\"},{\"attributes\":{\"line_alpha\":0.1,\"line_color\":\"#1f77b4\",\"line_width\":1.5,\"x\":{\"field\":\"x\"},\"y\":{\"field\":\"y\"}},\"id\":\"2bb355f3-7555-4deb-942e-0d820b8c418b\",\"type\":\"Line\"},{\"attributes\":{},\"id\":\"b850a82d-b84f-4dec-a48f-616a689502a0\",\"type\":\"BasicTickFormatter\"},{\"attributes\":{\"overlay\":{\"id\":\"9769fa87-4093-4a14-ab4f-9969899978bd\",\"type\":\"BoxAnnotation\"}},\"id\":\"c7028c01-cce1-4b34-9cff-37bd6ca09cf2\",\"type\":\"BoxZoomTool\"},{\"attributes\":{\"dimension\":1,\"plot\":{\"id\":\"075e5109-daf7-4c3f-819d-6df0a48447fe\",\"subtype\":\"Figure\",\"type\":\"Plot\"},\"ticker\":{\"id\":\"b8526382-cec7-4b05-b73e-e95fa130a397\",\"type\":\"LogTicker\"}},\"id\":\"51272e2e-d2ef-44c7-83f7-58e1a2143fc1\",\"type\":\"Grid\"},{\"attributes\":{\"data_source\":{\"id\":\"eb912983-063f-4ef5-81fc-80dc6d18f5da\",\"type\":\"ColumnDataSource\"},\"glyph\":{\"id\":\"ca114d8e-04e7-4075-9ce4-3e34a22aef79\",\"type\":\"Line\"},\"hover_glyph\":null,\"muted_glyph\":null,\"nonselection_glyph\":{\"id\":\"2bb355f3-7555-4deb-942e-0d820b8c418b\",\"type\":\"Line\"},\"selection_glyph\":null,\"view\":{\"id\":\"c0b61091-3137-48f9-815c-cb238d00cf6b\",\"type\":\"CDSView\"}},\"id\":\"0ab31d78-ca81-4fb7-970e-57e39190acb6\",\"type\":\"GlyphRenderer\"}],\"root_ids\":[\"be634615-c6d8-4b0f-86cb-06051230590e\"]},\"title\":\"Bokeh Application\",\"version\":\"0.12.16\"}};\n",
       "  var render_items = [{\"docid\":\"0d82825e-4ce7-4729-ad35-48378e6af9f2\",\"elementid\":\"c638e351-7472-422d-91a8-f8f44db1272e\",\"modelid\":\"be634615-c6d8-4b0f-86cb-06051230590e\"}];\n",
       "  root.Bokeh.embed.embed_items_notebook(docs_json, render_items);\n",
       "\n",
       "  }\n",
       "  if (root.Bokeh !== undefined) {\n",
       "    embed_document(root);\n",
       "  } else {\n",
       "    var attempts = 0;\n",
       "    var timer = setInterval(function(root) {\n",
       "      if (root.Bokeh !== undefined) {\n",
       "        embed_document(root);\n",
       "        clearInterval(timer);\n",
       "      }\n",
       "      attempts++;\n",
       "      if (attempts > 100) {\n",
       "        console.log(\"Bokeh: ERROR: Unable to run BokehJS code because BokehJS library is missing\")\n",
       "        clearInterval(timer);\n",
       "      }\n",
       "    }, 10, root)\n",
       "  }\n",
       "})(window);"
      ],
      "application/vnd.bokehjs_exec.v0+json": ""
     },
     "metadata": {
      "application/vnd.bokehjs_exec.v0+json": {
       "id": "be634615-c6d8-4b0f-86cb-06051230590e"
      }
     },
     "output_type": "display_data"
    },
    {
     "data": {
      "text/markdown": [
       "*FIGURE.* Cooling rates & difference."
      ],
      "text/plain": [
       "<IPython.core.display.Markdown object>"
      ]
     },
     "metadata": {},
     "output_type": "display_data"
    },
    {
     "data": {
      "text/html": [
       "<a id=\"Fluxes._saw.\"></a>"
      ],
      "text/plain": [
       "<IPython.core.display.HTML object>"
      ]
     },
     "metadata": {},
     "output_type": "display_data"
    },
    {
     "data": {
      "text/markdown": [
       "# Fluxes. saw."
      ],
      "text/plain": [
       "<IPython.core.display.Markdown object>"
      ]
     },
     "metadata": {},
     "output_type": "display_data"
    },
    {
     "data": {
      "text/html": [
       "\n",
       "<div class=\"bk-root\">\n",
       "    <div class=\"bk-plotdiv\" id=\"30c8f230-8afc-4888-b3bb-4a94e291b2e1\"></div>\n",
       "</div>"
      ]
     },
     "metadata": {},
     "output_type": "display_data"
    },
    {
     "data": {
      "application/javascript": [
       "(function(root) {\n",
       "  function embed_document(root) {\n",
       "    \n",
       "  var docs_json = {\"511a629a-0c69-453f-9bee-64c36169e309\":{\"roots\":{\"references\":[{\"attributes\":{\"plot\":{\"id\":\"e1968e71-0fe6-4e40-b9a1-5e2ae86a52c9\",\"subtype\":\"Figure\",\"type\":\"Plot\"},\"ticker\":{\"id\":\"48fa119b-83ca-4b90-a89e-60845a2c8e25\",\"type\":\"CategoricalTicker\"}},\"id\":\"6664e06a-2296-43a3-b95e-ed96769770b0\",\"type\":\"Grid\"},{\"attributes\":{\"overlay\":{\"id\":\"3e2412f4-b18e-4be8-be92-9213b7a141a2\",\"type\":\"BoxAnnotation\"}},\"id\":\"fd18bdf9-90ee-46db-b34d-36296a316b3e\",\"type\":\"BoxZoomTool\"},{\"attributes\":{},\"id\":\"289fbe89-e6b1-4166-b1c1-59c2220c9ffd\",\"type\":\"SaveTool\"},{\"attributes\":{\"fill_alpha\":{\"value\":0.1},\"fill_color\":{\"value\":\"#1f77b4\"},\"line_alpha\":{\"value\":0.1},\"line_color\":{\"value\":\"#1f77b4\"},\"top\":{\"field\":\"flux\"},\"width\":{\"value\":0.9},\"x\":{\"field\":\"band\"}},\"id\":\"14fb35c2-8d11-466b-a385-e395013bf3a4\",\"type\":\"VBar\"},{\"attributes\":{\"axis_label\":\"spectral band\",\"formatter\":{\"id\":\"2660d443-0e6b-4941-b934-fcee5f93a83a\",\"type\":\"CategoricalTickFormatter\"},\"plot\":{\"id\":\"e1968e71-0fe6-4e40-b9a1-5e2ae86a52c9\",\"subtype\":\"Figure\",\"type\":\"Plot\"},\"ticker\":{\"id\":\"48fa119b-83ca-4b90-a89e-60845a2c8e25\",\"type\":\"CategoricalTicker\"}},\"id\":\"d1a62264-5be3-4e45-b201-896cf9a2306a\",\"type\":\"CategoricalAxis\"},{\"attributes\":{},\"id\":\"b6aabcb0-a673-47ae-9373-bd4f0d90ea48\",\"type\":\"HelpTool\"},{\"attributes\":{\"bottom_units\":\"screen\",\"fill_alpha\":{\"value\":0.5},\"fill_color\":{\"value\":\"lightgrey\"},\"left_units\":\"screen\",\"level\":\"overlay\",\"line_alpha\":{\"value\":1.0},\"line_color\":{\"value\":\"black\"},\"line_dash\":[4,4],\"line_width\":{\"value\":2},\"plot\":null,\"render_mode\":\"css\",\"right_units\":\"screen\",\"top_units\":\"screen\"},\"id\":\"9a555cf9-78f0-41c9-8569-29b06d6592c2\",\"type\":\"BoxAnnotation\"},{\"attributes\":{\"data_source\":{\"id\":\"a38bdbbb-8f96-48a9-83d4-66ede28e0035\",\"type\":\"ColumnDataSource\"},\"glyph\":{\"id\":\"bf19633b-031d-4de2-af07-5909d5574424\",\"type\":\"VBar\"},\"hover_glyph\":null,\"muted_glyph\":null,\"nonselection_glyph\":{\"id\":\"55d181d9-6ae5-453e-bd03-f6db073a6f64\",\"type\":\"VBar\"},\"selection_glyph\":null,\"view\":{\"id\":\"b433a301-2b72-4178-8c41-3c5433561619\",\"type\":\"CDSView\"}},\"id\":\"9608cbc6-2d91-434e-9b08-6b093be670df\",\"type\":\"GlyphRenderer\"},{\"attributes\":{\"tools\":[{\"id\":\"f1520366-2978-4964-9526-617466d2a057\",\"type\":\"PanTool\"},{\"id\":\"e6ab6ec4-bf49-447e-b70a-98494f10b6b8\",\"type\":\"WheelZoomTool\"},{\"id\":\"fd18bdf9-90ee-46db-b34d-36296a316b3e\",\"type\":\"BoxZoomTool\"},{\"id\":\"0a702386-98a2-4eb9-8ff6-acc5d95001e6\",\"type\":\"SaveTool\"},{\"id\":\"39b6a5de-aa3b-49c5-b078-4fc49e7ba308\",\"type\":\"ResetTool\"},{\"id\":\"521c8a47-86f1-4824-a0c8-2392ab025d12\",\"type\":\"HelpTool\"},{\"id\":\"e40048d7-3a43-45c6-b6a6-076ab00d5f58\",\"type\":\"PanTool\"},{\"id\":\"eb9cd8a9-59d7-4c2f-bcbc-d014a775c180\",\"type\":\"WheelZoomTool\"},{\"id\":\"970709bc-a169-4b92-b925-0eb87b27f321\",\"type\":\"BoxZoomTool\"},{\"id\":\"289fbe89-e6b1-4166-b1c1-59c2220c9ffd\",\"type\":\"SaveTool\"},{\"id\":\"f2eab9e8-630e-4cc4-8663-eb474bcba7a0\",\"type\":\"ResetTool\"},{\"id\":\"b6aabcb0-a673-47ae-9373-bd4f0d90ea48\",\"type\":\"HelpTool\"},{\"id\":\"1b64331e-08c3-40e6-8cd7-d7b975bc0284\",\"type\":\"PanTool\"},{\"id\":\"37791f77-5037-45ba-98f3-18bd32fc843a\",\"type\":\"WheelZoomTool\"},{\"id\":\"23d8707c-1acd-4053-88a0-2d09cff9bce3\",\"type\":\"BoxZoomTool\"},{\"id\":\"e4c25b54-f0d1-43bd-b1dc-791bab9eb47d\",\"type\":\"SaveTool\"},{\"id\":\"521af827-80de-4edb-b1a3-68ce64ada326\",\"type\":\"ResetTool\"},{\"id\":\"b46560bf-81a3-4680-b4f2-02e4edc8acbb\",\"type\":\"HelpTool\"}]},\"id\":\"f4cb91b5-fe1e-443c-99dc-25461e239569\",\"type\":\"ProxyToolbar\"},{\"attributes\":{\"plot\":null,\"text\":\"SFC flux. CLIRAD - CRD.\"},\"id\":\"395e7e65-bba3-44c5-b4dd-21e69cd0a3bc\",\"type\":\"Title\"},{\"attributes\":{},\"id\":\"a17ba676-dd6a-4991-a5b1-6ab5ba677c77\",\"type\":\"LinearScale\"},{\"attributes\":{\"active_drag\":\"auto\",\"active_inspect\":\"auto\",\"active_scroll\":\"auto\",\"active_tap\":\"auto\",\"tools\":[{\"id\":\"f1520366-2978-4964-9526-617466d2a057\",\"type\":\"PanTool\"},{\"id\":\"e6ab6ec4-bf49-447e-b70a-98494f10b6b8\",\"type\":\"WheelZoomTool\"},{\"id\":\"fd18bdf9-90ee-46db-b34d-36296a316b3e\",\"type\":\"BoxZoomTool\"},{\"id\":\"0a702386-98a2-4eb9-8ff6-acc5d95001e6\",\"type\":\"SaveTool\"},{\"id\":\"39b6a5de-aa3b-49c5-b078-4fc49e7ba308\",\"type\":\"ResetTool\"},{\"id\":\"521c8a47-86f1-4824-a0c8-2392ab025d12\",\"type\":\"HelpTool\"}]},\"id\":\"e0a12476-2054-43e1-920b-b7f9f61ed995\",\"type\":\"Toolbar\"},{\"attributes\":{\"axis_label\":\"spectral band\",\"formatter\":{\"id\":\"5e2fa035-4570-4d56-a86c-075b58bdf021\",\"type\":\"CategoricalTickFormatter\"},\"plot\":{\"id\":\"da877e32-d701-48b9-8345-3cd4dc3ce170\",\"subtype\":\"Figure\",\"type\":\"Plot\"},\"ticker\":{\"id\":\"9d766621-9a43-4c23-b311-52c8f1e997cd\",\"type\":\"CategoricalTicker\"}},\"id\":\"80837f8b-9b31-47f1-8eb5-368158602304\",\"type\":\"CategoricalAxis\"},{\"attributes\":{},\"id\":\"2660d443-0e6b-4941-b934-fcee5f93a83a\",\"type\":\"CategoricalTickFormatter\"},{\"attributes\":{\"callback\":null,\"data\":{\"band\":[\"3\",\"4\",\"5\",\"6\",\"7\",\"11\"],\"flux\":{\"__ndarray__\":\"wKI5VzlZzj8AmAtcHmu2P8AHW+z2Wcw/wEgn+a6Uk7+AYUOBiB6Sv+jFBXfSiK4/\",\"dtype\":\"float64\",\"shape\":[6]}},\"selected\":{\"id\":\"a441c210-4909-486c-8ed6-c270d792ba61\",\"type\":\"Selection\"},\"selection_policy\":{\"id\":\"625e7c5f-f06f-4aae-98cf-f4f28dc89a8c\",\"type\":\"UnionRenderers\"}},\"id\":\"8edc3a1c-8987-41f5-acba-3f0779a214f8\",\"type\":\"ColumnDataSource\"},{\"attributes\":{},\"id\":\"08261292-d1b8-474d-a35a-8dde189d57e7\",\"type\":\"BasicTicker\"},{\"attributes\":{\"callback\":null,\"factors\":[\"3\",\"4\",\"5\",\"6\",\"7\",\"11\"]},\"id\":\"8d4aae64-11b2-41de-b7fd-95c82739aa69\",\"type\":\"FactorRange\"},{\"attributes\":{\"active_drag\":\"auto\",\"active_inspect\":\"auto\",\"active_scroll\":\"auto\",\"active_tap\":\"auto\",\"tools\":[{\"id\":\"1b64331e-08c3-40e6-8cd7-d7b975bc0284\",\"type\":\"PanTool\"},{\"id\":\"37791f77-5037-45ba-98f3-18bd32fc843a\",\"type\":\"WheelZoomTool\"},{\"id\":\"23d8707c-1acd-4053-88a0-2d09cff9bce3\",\"type\":\"BoxZoomTool\"},{\"id\":\"e4c25b54-f0d1-43bd-b1dc-791bab9eb47d\",\"type\":\"SaveTool\"},{\"id\":\"521af827-80de-4edb-b1a3-68ce64ada326\",\"type\":\"ResetTool\"},{\"id\":\"b46560bf-81a3-4680-b4f2-02e4edc8acbb\",\"type\":\"HelpTool\"}]},\"id\":\"e017ff3a-41e2-4025-9868-d03ba1525aa7\",\"type\":\"Toolbar\"},{\"attributes\":{},\"id\":\"eb9cd8a9-59d7-4c2f-bcbc-d014a775c180\",\"type\":\"WheelZoomTool\"},{\"attributes\":{},\"id\":\"1b64331e-08c3-40e6-8cd7-d7b975bc0284\",\"type\":\"PanTool\"},{\"attributes\":{},\"id\":\"437a45aa-e4ad-4b9c-aa22-66fa9995a804\",\"type\":\"CategoricalScale\"},{\"attributes\":{\"children\":[{\"id\":\"cb9d0862-1209-460a-a4bc-5e02398c9597\",\"type\":\"ToolbarBox\"},{\"id\":\"b3932a07-5f24-42d6-baf2-08c8ca36b3d7\",\"type\":\"Column\"}]},\"id\":\"ab6013ef-2d9b-4177-9e2a-f92e94970d76\",\"type\":\"Column\"},{\"attributes\":{\"bottom_units\":\"screen\",\"fill_alpha\":{\"value\":0.5},\"fill_color\":{\"value\":\"lightgrey\"},\"left_units\":\"screen\",\"level\":\"overlay\",\"line_alpha\":{\"value\":1.0},\"line_color\":{\"value\":\"black\"},\"line_dash\":[4,4],\"line_width\":{\"value\":2},\"plot\":null,\"render_mode\":\"css\",\"right_units\":\"screen\",\"top_units\":\"screen\"},\"id\":\"6a224b94-ce8a-4d49-8884-1b58f7e6b151\",\"type\":\"BoxAnnotation\"},{\"attributes\":{\"bottom_units\":\"screen\",\"fill_alpha\":{\"value\":0.5},\"fill_color\":{\"value\":\"lightgrey\"},\"left_units\":\"screen\",\"level\":\"overlay\",\"line_alpha\":{\"value\":1.0},\"line_color\":{\"value\":\"black\"},\"line_dash\":[4,4],\"line_width\":{\"value\":2},\"plot\":null,\"render_mode\":\"css\",\"right_units\":\"screen\",\"top_units\":\"screen\"},\"id\":\"3e2412f4-b18e-4be8-be92-9213b7a141a2\",\"type\":\"BoxAnnotation\"},{\"attributes\":{},\"id\":\"df6b53d3-4540-45dd-88bc-0e0218cdfed3\",\"type\":\"CategoricalScale\"},{\"attributes\":{},\"id\":\"b46560bf-81a3-4680-b4f2-02e4edc8acbb\",\"type\":\"HelpTool\"},{\"attributes\":{},\"id\":\"1f29021e-4c1c-4530-85be-7e8e78b20347\",\"type\":\"Selection\"},{\"attributes\":{},\"id\":\"37791f77-5037-45ba-98f3-18bd32fc843a\",\"type\":\"WheelZoomTool\"},{\"attributes\":{},\"id\":\"856b534a-5ed4-4820-b1bd-714c0a7874eb\",\"type\":\"LinearScale\"},{\"attributes\":{\"callback\":null,\"data\":{\"band\":[\"3\",\"4\",\"5\",\"6\",\"7\",\"11\"],\"flux\":{\"__ndarray__\":\"ACS4kbJFkr+Aqpm1FJDCPwBJMNXMWro/AKCBH9Wwf78AQOo9ldN+v8AGVbSDW6A/\",\"dtype\":\"float64\",\"shape\":[6]}},\"selected\":{\"id\":\"1f29021e-4c1c-4530-85be-7e8e78b20347\",\"type\":\"Selection\"},\"selection_policy\":{\"id\":\"d36df280-641c-48a5-9c3a-2960bbe63914\",\"type\":\"UnionRenderers\"}},\"id\":\"a38bdbbb-8f96-48a9-83d4-66ede28e0035\",\"type\":\"ColumnDataSource\"},{\"attributes\":{\"overlay\":{\"id\":\"9a555cf9-78f0-41c9-8569-29b06d6592c2\",\"type\":\"BoxAnnotation\"}},\"id\":\"23d8707c-1acd-4053-88a0-2d09cff9bce3\",\"type\":\"BoxZoomTool\"},{\"attributes\":{},\"id\":\"f1520366-2978-4964-9526-617466d2a057\",\"type\":\"PanTool\"},{\"attributes\":{\"dimension\":1,\"plot\":{\"id\":\"e1968e71-0fe6-4e40-b9a1-5e2ae86a52c9\",\"subtype\":\"Figure\",\"type\":\"Plot\"},\"ticker\":{\"id\":\"08261292-d1b8-474d-a35a-8dde189d57e7\",\"type\":\"BasicTicker\"}},\"id\":\"a8f34c2e-5c6e-4470-8425-88db21bbdf9d\",\"type\":\"Grid\"},{\"attributes\":{},\"id\":\"b81b16ea-6216-4b85-ad7e-6f67d556389c\",\"type\":\"LinearScale\"},{\"attributes\":{\"callback\":null,\"factors\":[\"3\",\"4\",\"5\",\"6\",\"7\",\"11\"]},\"id\":\"dfe10ed0-384b-4c6a-ae19-d7361fe5e589\",\"type\":\"FactorRange\"},{\"attributes\":{\"plot\":{\"id\":\"da877e32-d701-48b9-8345-3cd4dc3ce170\",\"subtype\":\"Figure\",\"type\":\"Plot\"},\"ticker\":{\"id\":\"9d766621-9a43-4c23-b311-52c8f1e997cd\",\"type\":\"CategoricalTicker\"}},\"id\":\"b2334aec-800d-4ac9-8ab7-192d185688be\",\"type\":\"Grid\"},{\"attributes\":{\"overlay\":{\"id\":\"6a224b94-ce8a-4d49-8884-1b58f7e6b151\",\"type\":\"BoxAnnotation\"}},\"id\":\"970709bc-a169-4b92-b925-0eb87b27f321\",\"type\":\"BoxZoomTool\"},{\"attributes\":{\"data_source\":{\"id\":\"9a7a8128-345e-431e-965b-a7d9a7aed83e\",\"type\":\"ColumnDataSource\"},\"glyph\":{\"id\":\"3330eb49-a710-4798-9c0d-2cdfb65debd5\",\"type\":\"VBar\"},\"hover_glyph\":null,\"muted_glyph\":null,\"nonselection_glyph\":{\"id\":\"14fb35c2-8d11-466b-a385-e395013bf3a4\",\"type\":\"VBar\"},\"selection_glyph\":null,\"view\":{\"id\":\"18402147-4acd-4099-b235-786f6d876b62\",\"type\":\"CDSView\"}},\"id\":\"aaad1ad7-7d89-4b19-8248-cfe74e02244c\",\"type\":\"GlyphRenderer\"},{\"attributes\":{\"axis_label\":\"flux (W m-2)\",\"formatter\":{\"id\":\"8f392b57-53f0-463b-9669-3a1ec535ac4c\",\"type\":\"BasicTickFormatter\"},\"plot\":{\"id\":\"0ba32bdc-3add-4f3c-a242-e98231a18f8f\",\"subtype\":\"Figure\",\"type\":\"Plot\"},\"ticker\":{\"id\":\"4f799da2-5c53-4726-a41b-8ce06945d079\",\"type\":\"BasicTicker\"}},\"id\":\"ba6e6f9b-d434-46e7-8f1d-b983cc8a8950\",\"type\":\"LinearAxis\"},{\"attributes\":{},\"id\":\"521c8a47-86f1-4824-a0c8-2392ab025d12\",\"type\":\"HelpTool\"},{\"attributes\":{\"fill_color\":{\"value\":\"#1f77b4\"},\"line_color\":{\"value\":\"#1f77b4\"},\"top\":{\"field\":\"flux\"},\"width\":{\"value\":0.9},\"x\":{\"field\":\"band\"}},\"id\":\"3330eb49-a710-4798-9c0d-2cdfb65debd5\",\"type\":\"VBar\"},{\"attributes\":{\"children\":[{\"id\":\"39650ea9-dd9a-4383-b64a-c6c9aa164721\",\"type\":\"Row\"}]},\"id\":\"b3932a07-5f24-42d6-baf2-08c8ca36b3d7\",\"type\":\"Column\"},{\"attributes\":{},\"id\":\"8f392b57-53f0-463b-9669-3a1ec535ac4c\",\"type\":\"BasicTickFormatter\"},{\"attributes\":{\"fill_alpha\":{\"value\":0.1},\"fill_color\":{\"value\":\"#1f77b4\"},\"line_alpha\":{\"value\":0.1},\"line_color\":{\"value\":\"#1f77b4\"},\"top\":{\"field\":\"flux\"},\"width\":{\"value\":0.9},\"x\":{\"field\":\"band\"}},\"id\":\"1880511b-b35e-4244-8468-b99933b30642\",\"type\":\"VBar\"},{\"attributes\":{\"plot\":null,\"text\":\"TOA flux. CLIRAD - CRD.\"},\"id\":\"601ec53b-258b-485a-a183-149ba08f38ed\",\"type\":\"Title\"},{\"attributes\":{\"plot\":null,\"text\":\"Atmosphere heating. CLIRAD - CRD.\"},\"id\":\"9b39e077-7900-4944-b239-a35b3990d24c\",\"type\":\"Title\"},{\"attributes\":{},\"id\":\"f2eab9e8-630e-4cc4-8663-eb474bcba7a0\",\"type\":\"ResetTool\"},{\"attributes\":{},\"id\":\"e4c25b54-f0d1-43bd-b1dc-791bab9eb47d\",\"type\":\"SaveTool\"},{\"attributes\":{\"axis_label\":\"flux (W m-2)\",\"formatter\":{\"id\":\"d475ee24-29ec-4b9b-8ff6-e58d0db18136\",\"type\":\"BasicTickFormatter\"},\"plot\":{\"id\":\"da877e32-d701-48b9-8345-3cd4dc3ce170\",\"subtype\":\"Figure\",\"type\":\"Plot\"},\"ticker\":{\"id\":\"6ba722ec-7844-4a40-8f3a-1863d073b1f1\",\"type\":\"BasicTicker\"}},\"id\":\"2860cef4-33ba-4aa0-9cde-f08d804ecfaf\",\"type\":\"LinearAxis\"},{\"attributes\":{\"below\":[{\"id\":\"a1935f82-36b6-4851-8abf-29f3d4bdda67\",\"type\":\"CategoricalAxis\"}],\"left\":[{\"id\":\"ba6e6f9b-d434-46e7-8f1d-b983cc8a8950\",\"type\":\"LinearAxis\"}],\"plot_height\":300,\"plot_width\":300,\"renderers\":[{\"id\":\"a1935f82-36b6-4851-8abf-29f3d4bdda67\",\"type\":\"CategoricalAxis\"},{\"id\":\"d9c6f274-7b01-4ad8-95f4-03987a41f547\",\"type\":\"Grid\"},{\"id\":\"ba6e6f9b-d434-46e7-8f1d-b983cc8a8950\",\"type\":\"LinearAxis\"},{\"id\":\"7afaa516-71f9-45ed-b040-2226cae7a4d1\",\"type\":\"Grid\"},{\"id\":\"3e2412f4-b18e-4be8-be92-9213b7a141a2\",\"type\":\"BoxAnnotation\"},{\"id\":\"9608cbc6-2d91-434e-9b08-6b093be670df\",\"type\":\"GlyphRenderer\"}],\"title\":{\"id\":\"601ec53b-258b-485a-a183-149ba08f38ed\",\"type\":\"Title\"},\"toolbar\":{\"id\":\"e0a12476-2054-43e1-920b-b7f9f61ed995\",\"type\":\"Toolbar\"},\"toolbar_location\":null,\"x_range\":{\"id\":\"dfe10ed0-384b-4c6a-ae19-d7361fe5e589\",\"type\":\"FactorRange\"},\"x_scale\":{\"id\":\"df6b53d3-4540-45dd-88bc-0e0218cdfed3\",\"type\":\"CategoricalScale\"},\"y_range\":{\"id\":\"ed6abe66-c847-43b9-9fa9-5497a9929dfc\",\"type\":\"DataRange1d\"},\"y_scale\":{\"id\":\"856b534a-5ed4-4820-b1bd-714c0a7874eb\",\"type\":\"LinearScale\"}},\"id\":\"0ba32bdc-3add-4f3c-a242-e98231a18f8f\",\"subtype\":\"Figure\",\"type\":\"Plot\"},{\"attributes\":{\"source\":{\"id\":\"a38bdbbb-8f96-48a9-83d4-66ede28e0035\",\"type\":\"ColumnDataSource\"}},\"id\":\"b433a301-2b72-4178-8c41-3c5433561619\",\"type\":\"CDSView\"},{\"attributes\":{},\"id\":\"521af827-80de-4edb-b1a3-68ce64ada326\",\"type\":\"ResetTool\"},{\"attributes\":{\"source\":{\"id\":\"9a7a8128-345e-431e-965b-a7d9a7aed83e\",\"type\":\"ColumnDataSource\"}},\"id\":\"18402147-4acd-4099-b235-786f6d876b62\",\"type\":\"CDSView\"},{\"attributes\":{},\"id\":\"63930c30-92aa-46a8-9a8a-ee0b8d671d1c\",\"type\":\"Selection\"},{\"attributes\":{},\"id\":\"39b6a5de-aa3b-49c5-b078-4fc49e7ba308\",\"type\":\"ResetTool\"},{\"attributes\":{},\"id\":\"5c80bd26-59e9-4797-989d-82b149a2d7ab\",\"type\":\"CategoricalScale\"},{\"attributes\":{\"active_drag\":\"auto\",\"active_inspect\":\"auto\",\"active_scroll\":\"auto\",\"active_tap\":\"auto\",\"tools\":[{\"id\":\"e40048d7-3a43-45c6-b6a6-076ab00d5f58\",\"type\":\"PanTool\"},{\"id\":\"eb9cd8a9-59d7-4c2f-bcbc-d014a775c180\",\"type\":\"WheelZoomTool\"},{\"id\":\"970709bc-a169-4b92-b925-0eb87b27f321\",\"type\":\"BoxZoomTool\"},{\"id\":\"289fbe89-e6b1-4166-b1c1-59c2220c9ffd\",\"type\":\"SaveTool\"},{\"id\":\"f2eab9e8-630e-4cc4-8663-eb474bcba7a0\",\"type\":\"ResetTool\"},{\"id\":\"b6aabcb0-a673-47ae-9373-bd4f0d90ea48\",\"type\":\"HelpTool\"}]},\"id\":\"d0aa54cf-53f8-4c58-977a-f300bb44c8c2\",\"type\":\"Toolbar\"},{\"attributes\":{},\"id\":\"d36df280-641c-48a5-9c3a-2960bbe63914\",\"type\":\"UnionRenderers\"},{\"attributes\":{},\"id\":\"e40048d7-3a43-45c6-b6a6-076ab00d5f58\",\"type\":\"PanTool\"},{\"attributes\":{\"callback\":null},\"id\":\"793bf928-77ae-4f3a-b86f-618269bb614a\",\"type\":\"DataRange1d\"},{\"attributes\":{},\"id\":\"a441c210-4909-486c-8ed6-c270d792ba61\",\"type\":\"Selection\"},{\"attributes\":{\"toolbar\":{\"id\":\"f4cb91b5-fe1e-443c-99dc-25461e239569\",\"type\":\"ProxyToolbar\"},\"toolbar_location\":\"above\"},\"id\":\"cb9d0862-1209-460a-a4bc-5e02398c9597\",\"type\":\"ToolbarBox\"},{\"attributes\":{},\"id\":\"625e7c5f-f06f-4aae-98cf-f4f28dc89a8c\",\"type\":\"UnionRenderers\"},{\"attributes\":{\"dimension\":1,\"plot\":{\"id\":\"da877e32-d701-48b9-8345-3cd4dc3ce170\",\"subtype\":\"Figure\",\"type\":\"Plot\"},\"ticker\":{\"id\":\"6ba722ec-7844-4a40-8f3a-1863d073b1f1\",\"type\":\"BasicTicker\"}},\"id\":\"879f2b8c-9ac2-4d69-be13-3b3225d74330\",\"type\":\"Grid\"},{\"attributes\":{\"axis_label\":\"spectral band\",\"formatter\":{\"id\":\"dac94a90-f08a-466e-a393-05592cf3c7a4\",\"type\":\"CategoricalTickFormatter\"},\"plot\":{\"id\":\"0ba32bdc-3add-4f3c-a242-e98231a18f8f\",\"subtype\":\"Figure\",\"type\":\"Plot\"},\"ticker\":{\"id\":\"822c35b4-6c08-4a9c-bb47-74a81fe613fa\",\"type\":\"CategoricalTicker\"}},\"id\":\"a1935f82-36b6-4851-8abf-29f3d4bdda67\",\"type\":\"CategoricalAxis\"},{\"attributes\":{},\"id\":\"822c35b4-6c08-4a9c-bb47-74a81fe613fa\",\"type\":\"CategoricalTicker\"},{\"attributes\":{},\"id\":\"0a702386-98a2-4eb9-8ff6-acc5d95001e6\",\"type\":\"SaveTool\"},{\"attributes\":{\"source\":{\"id\":\"8edc3a1c-8987-41f5-acba-3f0779a214f8\",\"type\":\"ColumnDataSource\"}},\"id\":\"2914491e-f219-41c3-8e53-e860323e8a4d\",\"type\":\"CDSView\"},{\"attributes\":{\"children\":[{\"id\":\"0ba32bdc-3add-4f3c-a242-e98231a18f8f\",\"subtype\":\"Figure\",\"type\":\"Plot\"},{\"id\":\"da877e32-d701-48b9-8345-3cd4dc3ce170\",\"subtype\":\"Figure\",\"type\":\"Plot\"},{\"id\":\"e1968e71-0fe6-4e40-b9a1-5e2ae86a52c9\",\"subtype\":\"Figure\",\"type\":\"Plot\"}]},\"id\":\"39650ea9-dd9a-4383-b64a-c6c9aa164721\",\"type\":\"Row\"},{\"attributes\":{},\"id\":\"6ba722ec-7844-4a40-8f3a-1863d073b1f1\",\"type\":\"BasicTicker\"},{\"attributes\":{\"callback\":null},\"id\":\"9d53e65b-b10d-49de-8f52-29aa003669ba\",\"type\":\"DataRange1d\"},{\"attributes\":{\"data_source\":{\"id\":\"8edc3a1c-8987-41f5-acba-3f0779a214f8\",\"type\":\"ColumnDataSource\"},\"glyph\":{\"id\":\"5fbeabb7-2c72-4658-af2f-7bd170f57564\",\"type\":\"VBar\"},\"hover_glyph\":null,\"muted_glyph\":null,\"nonselection_glyph\":{\"id\":\"1880511b-b35e-4244-8468-b99933b30642\",\"type\":\"VBar\"},\"selection_glyph\":null,\"view\":{\"id\":\"2914491e-f219-41c3-8e53-e860323e8a4d\",\"type\":\"CDSView\"}},\"id\":\"718993e6-7387-4a69-8d30-aa931da00cae\",\"type\":\"GlyphRenderer\"},{\"attributes\":{\"callback\":null},\"id\":\"ed6abe66-c847-43b9-9fa9-5497a9929dfc\",\"type\":\"DataRange1d\"},{\"attributes\":{},\"id\":\"e6ab6ec4-bf49-447e-b70a-98494f10b6b8\",\"type\":\"WheelZoomTool\"},{\"attributes\":{},\"id\":\"d475ee24-29ec-4b9b-8ff6-e58d0db18136\",\"type\":\"BasicTickFormatter\"},{\"attributes\":{},\"id\":\"9d766621-9a43-4c23-b311-52c8f1e997cd\",\"type\":\"CategoricalTicker\"},{\"attributes\":{\"below\":[{\"id\":\"80837f8b-9b31-47f1-8eb5-368158602304\",\"type\":\"CategoricalAxis\"}],\"left\":[{\"id\":\"2860cef4-33ba-4aa0-9cde-f08d804ecfaf\",\"type\":\"LinearAxis\"}],\"plot_height\":300,\"plot_width\":300,\"renderers\":[{\"id\":\"80837f8b-9b31-47f1-8eb5-368158602304\",\"type\":\"CategoricalAxis\"},{\"id\":\"b2334aec-800d-4ac9-8ab7-192d185688be\",\"type\":\"Grid\"},{\"id\":\"2860cef4-33ba-4aa0-9cde-f08d804ecfaf\",\"type\":\"LinearAxis\"},{\"id\":\"879f2b8c-9ac2-4d69-be13-3b3225d74330\",\"type\":\"Grid\"},{\"id\":\"6a224b94-ce8a-4d49-8884-1b58f7e6b151\",\"type\":\"BoxAnnotation\"},{\"id\":\"718993e6-7387-4a69-8d30-aa931da00cae\",\"type\":\"GlyphRenderer\"}],\"title\":{\"id\":\"395e7e65-bba3-44c5-b4dd-21e69cd0a3bc\",\"type\":\"Title\"},\"toolbar\":{\"id\":\"d0aa54cf-53f8-4c58-977a-f300bb44c8c2\",\"type\":\"Toolbar\"},\"toolbar_location\":null,\"x_range\":{\"id\":\"8d4aae64-11b2-41de-b7fd-95c82739aa69\",\"type\":\"FactorRange\"},\"x_scale\":{\"id\":\"5c80bd26-59e9-4797-989d-82b149a2d7ab\",\"type\":\"CategoricalScale\"},\"y_range\":{\"id\":\"793bf928-77ae-4f3a-b86f-618269bb614a\",\"type\":\"DataRange1d\"},\"y_scale\":{\"id\":\"b81b16ea-6216-4b85-ad7e-6f67d556389c\",\"type\":\"LinearScale\"}},\"id\":\"da877e32-d701-48b9-8345-3cd4dc3ce170\",\"subtype\":\"Figure\",\"type\":\"Plot\"},{\"attributes\":{},\"id\":\"48fa119b-83ca-4b90-a89e-60845a2c8e25\",\"type\":\"CategoricalTicker\"},{\"attributes\":{},\"id\":\"5e2fa035-4570-4d56-a86c-075b58bdf021\",\"type\":\"CategoricalTickFormatter\"},{\"attributes\":{\"callback\":null,\"data\":{\"band\":[\"3\",\"4\",\"5\",\"6\",\"7\",\"11\"],\"flux\":{\"__ndarray__\":\"oE2c3O9Q0L8AWVzzFWqtPwDY8PRKWb6/AOCIfJdShz8A7GrylNWEPwBDz8GOWpy/\",\"dtype\":\"float64\",\"shape\":[6]}},\"selected\":{\"id\":\"63930c30-92aa-46a8-9a8a-ee0b8d671d1c\",\"type\":\"Selection\"},\"selection_policy\":{\"id\":\"b8b4c885-bdfe-4ab1-80a8-a0d4558dcee6\",\"type\":\"UnionRenderers\"}},\"id\":\"9a7a8128-345e-431e-965b-a7d9a7aed83e\",\"type\":\"ColumnDataSource\"},{\"attributes\":{\"fill_color\":{\"value\":\"#1f77b4\"},\"line_color\":{\"value\":\"#1f77b4\"},\"top\":{\"field\":\"flux\"},\"width\":{\"value\":0.9},\"x\":{\"field\":\"band\"}},\"id\":\"bf19633b-031d-4de2-af07-5909d5574424\",\"type\":\"VBar\"},{\"attributes\":{},\"id\":\"dac94a90-f08a-466e-a393-05592cf3c7a4\",\"type\":\"CategoricalTickFormatter\"},{\"attributes\":{\"fill_color\":{\"value\":\"#1f77b4\"},\"line_color\":{\"value\":\"#1f77b4\"},\"top\":{\"field\":\"flux\"},\"width\":{\"value\":0.9},\"x\":{\"field\":\"band\"}},\"id\":\"5fbeabb7-2c72-4658-af2f-7bd170f57564\",\"type\":\"VBar\"},{\"attributes\":{},\"id\":\"b8b4c885-bdfe-4ab1-80a8-a0d4558dcee6\",\"type\":\"UnionRenderers\"},{\"attributes\":{},\"id\":\"e1437fb0-2ac3-4a06-adbf-26877d7d1684\",\"type\":\"BasicTickFormatter\"},{\"attributes\":{\"dimension\":1,\"plot\":{\"id\":\"0ba32bdc-3add-4f3c-a242-e98231a18f8f\",\"subtype\":\"Figure\",\"type\":\"Plot\"},\"ticker\":{\"id\":\"4f799da2-5c53-4726-a41b-8ce06945d079\",\"type\":\"BasicTicker\"}},\"id\":\"7afaa516-71f9-45ed-b040-2226cae7a4d1\",\"type\":\"Grid\"},{\"attributes\":{\"axis_label\":\"flux (W m-2)\",\"formatter\":{\"id\":\"e1437fb0-2ac3-4a06-adbf-26877d7d1684\",\"type\":\"BasicTickFormatter\"},\"plot\":{\"id\":\"e1968e71-0fe6-4e40-b9a1-5e2ae86a52c9\",\"subtype\":\"Figure\",\"type\":\"Plot\"},\"ticker\":{\"id\":\"08261292-d1b8-474d-a35a-8dde189d57e7\",\"type\":\"BasicTicker\"}},\"id\":\"77465bc0-e2fe-479a-964d-acc39ed9414f\",\"type\":\"LinearAxis\"},{\"attributes\":{\"callback\":null,\"factors\":[\"3\",\"4\",\"5\",\"6\",\"7\",\"11\"]},\"id\":\"b63bbe38-0669-45cc-b29b-e6bbe4a64757\",\"type\":\"FactorRange\"},{\"attributes\":{\"below\":[{\"id\":\"d1a62264-5be3-4e45-b201-896cf9a2306a\",\"type\":\"CategoricalAxis\"}],\"left\":[{\"id\":\"77465bc0-e2fe-479a-964d-acc39ed9414f\",\"type\":\"LinearAxis\"}],\"plot_height\":300,\"plot_width\":300,\"renderers\":[{\"id\":\"d1a62264-5be3-4e45-b201-896cf9a2306a\",\"type\":\"CategoricalAxis\"},{\"id\":\"6664e06a-2296-43a3-b95e-ed96769770b0\",\"type\":\"Grid\"},{\"id\":\"77465bc0-e2fe-479a-964d-acc39ed9414f\",\"type\":\"LinearAxis\"},{\"id\":\"a8f34c2e-5c6e-4470-8425-88db21bbdf9d\",\"type\":\"Grid\"},{\"id\":\"9a555cf9-78f0-41c9-8569-29b06d6592c2\",\"type\":\"BoxAnnotation\"},{\"id\":\"aaad1ad7-7d89-4b19-8248-cfe74e02244c\",\"type\":\"GlyphRenderer\"}],\"title\":{\"id\":\"9b39e077-7900-4944-b239-a35b3990d24c\",\"type\":\"Title\"},\"toolbar\":{\"id\":\"e017ff3a-41e2-4025-9868-d03ba1525aa7\",\"type\":\"Toolbar\"},\"toolbar_location\":null,\"x_range\":{\"id\":\"b63bbe38-0669-45cc-b29b-e6bbe4a64757\",\"type\":\"FactorRange\"},\"x_scale\":{\"id\":\"437a45aa-e4ad-4b9c-aa22-66fa9995a804\",\"type\":\"CategoricalScale\"},\"y_range\":{\"id\":\"9d53e65b-b10d-49de-8f52-29aa003669ba\",\"type\":\"DataRange1d\"},\"y_scale\":{\"id\":\"a17ba676-dd6a-4991-a5b1-6ab5ba677c77\",\"type\":\"LinearScale\"}},\"id\":\"e1968e71-0fe6-4e40-b9a1-5e2ae86a52c9\",\"subtype\":\"Figure\",\"type\":\"Plot\"},{\"attributes\":{\"fill_alpha\":{\"value\":0.1},\"fill_color\":{\"value\":\"#1f77b4\"},\"line_alpha\":{\"value\":0.1},\"line_color\":{\"value\":\"#1f77b4\"},\"top\":{\"field\":\"flux\"},\"width\":{\"value\":0.9},\"x\":{\"field\":\"band\"}},\"id\":\"55d181d9-6ae5-453e-bd03-f6db073a6f64\",\"type\":\"VBar\"},{\"attributes\":{},\"id\":\"4f799da2-5c53-4726-a41b-8ce06945d079\",\"type\":\"BasicTicker\"},{\"attributes\":{\"plot\":{\"id\":\"0ba32bdc-3add-4f3c-a242-e98231a18f8f\",\"subtype\":\"Figure\",\"type\":\"Plot\"},\"ticker\":{\"id\":\"822c35b4-6c08-4a9c-bb47-74a81fe613fa\",\"type\":\"CategoricalTicker\"}},\"id\":\"d9c6f274-7b01-4ad8-95f4-03987a41f547\",\"type\":\"Grid\"}],\"root_ids\":[\"ab6013ef-2d9b-4177-9e2a-f92e94970d76\"]},\"title\":\"Bokeh Application\",\"version\":\"0.12.16\"}};\n",
       "  var render_items = [{\"docid\":\"511a629a-0c69-453f-9bee-64c36169e309\",\"elementid\":\"30c8f230-8afc-4888-b3bb-4a94e291b2e1\",\"modelid\":\"ab6013ef-2d9b-4177-9e2a-f92e94970d76\"}];\n",
       "  root.Bokeh.embed.embed_items_notebook(docs_json, render_items);\n",
       "\n",
       "  }\n",
       "  if (root.Bokeh !== undefined) {\n",
       "    embed_document(root);\n",
       "  } else {\n",
       "    var attempts = 0;\n",
       "    var timer = setInterval(function(root) {\n",
       "      if (root.Bokeh !== undefined) {\n",
       "        embed_document(root);\n",
       "        clearInterval(timer);\n",
       "      }\n",
       "      attempts++;\n",
       "      if (attempts > 100) {\n",
       "        console.log(\"Bokeh: ERROR: Unable to run BokehJS code because BokehJS library is missing\")\n",
       "        clearInterval(timer);\n",
       "      }\n",
       "    }, 10, root)\n",
       "  }\n",
       "})(window);"
      ],
      "application/vnd.bokehjs_exec.v0+json": ""
     },
     "metadata": {
      "application/vnd.bokehjs_exec.v0+json": {
       "id": "ab6013ef-2d9b-4177-9e2a-f92e94970d76"
      }
     },
     "output_type": "display_data"
    },
    {
     "data": {
      "text/markdown": [
       "*FIGURE.* Difference between CLIRAD and CRD in TOA, SFC and net atmosphere flux, in each spectral band."
      ],
      "text/plain": [
       "<IPython.core.display.Markdown object>"
      ]
     },
     "metadata": {},
     "output_type": "display_data"
    },
    {
     "data": {
      "text/html": [
       "<div>\n",
       "<style scoped>\n",
       "    .dataframe tbody tr th:only-of-type {\n",
       "        vertical-align: middle;\n",
       "    }\n",
       "\n",
       "    .dataframe tbody tr th {\n",
       "        vertical-align: top;\n",
       "    }\n",
       "\n",
       "    .dataframe thead th {\n",
       "        text-align: right;\n",
       "    }\n",
       "</style>\n",
       "<table border=\"1\" class=\"dataframe\">\n",
       "  <thead>\n",
       "    <tr style=\"text-align: right;\">\n",
       "      <th></th>\n",
       "      <th>OLR flux</th>\n",
       "      <th>SFC flux</th>\n",
       "      <th>ATM heating</th>\n",
       "    </tr>\n",
       "    <tr>\n",
       "      <th>Sum over bands</th>\n",
       "      <th></th>\n",
       "      <th></th>\n",
       "      <th></th>\n",
       "    </tr>\n",
       "  </thead>\n",
       "  <tbody>\n",
       "    <tr>\n",
       "      <th>CLIRAD - CRD</th>\n",
       "      <td>0.25</td>\n",
       "      <td>0.57</td>\n",
       "      <td>-0.32</td>\n",
       "    </tr>\n",
       "    <tr>\n",
       "      <th>CRD</th>\n",
       "      <td>-100.58</td>\n",
       "      <td>46.00</td>\n",
       "      <td>-27.64</td>\n",
       "    </tr>\n",
       "  </tbody>\n",
       "</table>\n",
       "</div>"
      ],
      "text/plain": [
       "                OLR flux  SFC flux  ATM heating\n",
       "Sum over bands                                 \n",
       "CLIRAD - CRD        0.25      0.57        -0.32\n",
       "CRD              -100.58     46.00       -27.64"
      ]
     },
     "metadata": {},
     "output_type": "display_data"
    },
    {
     "data": {
      "text/markdown": [
       "*TABLE.* Difference between CLIRAD and CRD in TOA, SFC and net atmosphere flux, over all spectral bands. CRD's TOA, SFC and net atmosphere flux, over all spectral bands."
      ],
      "text/plain": [
       "<IPython.core.display.Markdown object>"
      ]
     },
     "metadata": {},
     "output_type": "display_data"
    },
    {
     "data": {
      "text/html": [
       "<a id=\"Cooling_rates._trp.\"></a>"
      ],
      "text/plain": [
       "<IPython.core.display.HTML object>"
      ]
     },
     "metadata": {},
     "output_type": "display_data"
    },
    {
     "data": {
      "text/markdown": [
       "# Cooling rates. trp."
      ],
      "text/plain": [
       "<IPython.core.display.Markdown object>"
      ]
     },
     "metadata": {},
     "output_type": "display_data"
    },
    {
     "data": {
      "text/html": [
       "\n",
       "<div class=\"bk-root\">\n",
       "    <div class=\"bk-plotdiv\" id=\"1baeede3-e474-460b-96d6-e2891fe1794e\"></div>\n",
       "</div>"
      ]
     },
     "metadata": {},
     "output_type": "display_data"
    },
    {
     "data": {
      "application/javascript": [
       "(function(root) {\n",
       "  function embed_document(root) {\n",
       "    \n",
       "  var docs_json = {\"45dea581-27db-409e-af9b-d0abbb6b380d\":{\"roots\":{\"references\":[{\"attributes\":{\"above\":[{\"id\":\"33d6a415-934b-44b4-a8d9-c1ac5e5474e4\",\"type\":\"Legend\"}],\"below\":[{\"id\":\"e3d0344a-3c18-45e0-a338-8c99d51220f0\",\"type\":\"LinearAxis\"}],\"left\":[{\"id\":\"1f024462-9a80-4735-bb3b-b58f9084f791\",\"type\":\"LinearAxis\"}],\"plot_width\":300,\"renderers\":[{\"id\":\"e3d0344a-3c18-45e0-a338-8c99d51220f0\",\"type\":\"LinearAxis\"},{\"id\":\"d6ac72db-9306-421d-a328-00943fbb4c6e\",\"type\":\"Grid\"},{\"id\":\"1f024462-9a80-4735-bb3b-b58f9084f791\",\"type\":\"LinearAxis\"},{\"id\":\"c1c6097c-63ad-4a02-8d8d-add666b1ed11\",\"type\":\"Grid\"},{\"id\":\"d2ffac6f-be73-483a-bf9d-60210fe7454b\",\"type\":\"BoxAnnotation\"},{\"id\":\"8bfdaceb-4218-454c-95f7-0d37d481cef7\",\"type\":\"GlyphRenderer\"},{\"id\":\"ff3dbecf-c7e8-4709-aee1-33bd96c0cb34\",\"type\":\"GlyphRenderer\"},{\"id\":\"7e21e964-85bc-4be5-85b1-276e0682f6ba\",\"type\":\"GlyphRenderer\"},{\"id\":\"33d6a415-934b-44b4-a8d9-c1ac5e5474e4\",\"type\":\"Legend\"}],\"title\":{\"id\":\"16218407-c509-4297-b305-dd5aa491e80d\",\"type\":\"Title\"},\"toolbar\":{\"id\":\"31d0996d-fabd-4f4a-a469-a2e6ba892c6c\",\"type\":\"Toolbar\"},\"toolbar_location\":null,\"x_range\":{\"id\":\"0d8d53d0-b050-4b86-b7e4-505e5493f47e\",\"type\":\"Range1d\"},\"x_scale\":{\"id\":\"bc801860-abca-4c7d-82a5-4053448cfd30\",\"type\":\"LinearScale\"},\"y_range\":{\"id\":\"c3a01427-e88b-40ac-b7c8-3de4ee99bf7c\",\"type\":\"Range1d\"},\"y_scale\":{\"id\":\"82f77da4-9b2c-41c0-b798-38540e8e5943\",\"type\":\"LinearScale\"}},\"id\":\"256cdb3a-1990-4591-808a-12ccdbaf898e\",\"subtype\":\"Figure\",\"type\":\"Plot\"},{\"attributes\":{\"axis_label\":\"cooling rate [K/day]\",\"formatter\":{\"id\":\"4a15216a-e4c2-4f10-ac55-de50de3c87f6\",\"type\":\"BasicTickFormatter\"},\"plot\":{\"id\":\"256cdb3a-1990-4591-808a-12ccdbaf898e\",\"subtype\":\"Figure\",\"type\":\"Plot\"},\"ticker\":{\"id\":\"ae23b34c-82d1-441d-82d7-7b016e6f87b4\",\"type\":\"BasicTicker\"}},\"id\":\"e3d0344a-3c18-45e0-a338-8c99d51220f0\",\"type\":\"LinearAxis\"},{\"attributes\":{\"dimension\":1,\"plot\":{\"id\":\"4ce9d8ca-25c0-4a2f-9ab2-bd022c88795a\",\"subtype\":\"Figure\",\"type\":\"Plot\"},\"ticker\":{\"id\":\"2503f15c-ae72-405a-834c-3f9a61180b0f\",\"type\":\"LogTicker\"}},\"id\":\"1b1a7063-6c93-40f8-9ac7-c4362313be5b\",\"type\":\"Grid\"},{\"attributes\":{\"items\":[{\"id\":\"6247c930-c54c-44f4-be84-f35db3f84d5b\",\"type\":\"LegendItem\"},{\"id\":\"7c1fd7a6-2bc9-4b18-b43a-251e1f1babab\",\"type\":\"LegendItem\"}],\"label_text_font_size\":{\"value\":\"8pt\"},\"location\":\"top_center\",\"orientation\":\"horizontal\",\"plot\":{\"id\":\"256cdb3a-1990-4591-808a-12ccdbaf898e\",\"subtype\":\"Figure\",\"type\":\"Plot\"}},\"id\":\"33d6a415-934b-44b4-a8d9-c1ac5e5474e4\",\"type\":\"Legend\"},{\"attributes\":{},\"id\":\"6ac3f6e7-80c9-45b5-b8df-471b6e8d0577\",\"type\":\"WheelZoomTool\"},{\"attributes\":{\"fill_alpha\":{\"value\":0.7},\"fill_color\":{\"value\":\"#4daf4a\"},\"line_alpha\":{\"value\":0.7},\"line_color\":{\"value\":\"#4daf4a\"},\"x\":{\"field\":\"x\"},\"y\":{\"field\":\"y\"}},\"id\":\"6c6875eb-c949-4581-8ce9-15d57f579cbd\",\"type\":\"Circle\"},{\"attributes\":{\"source\":{\"id\":\"5aad59a4-235a-4285-bd9f-ead6eeacf913\",\"type\":\"ColumnDataSource\"}},\"id\":\"9c191eef-dda8-4963-aedf-b1bd51a8cb30\",\"type\":\"CDSView\"},{\"attributes\":{\"above\":[{\"id\":\"85ab3985-85c0-4dea-850b-0ce2fe0ac436\",\"type\":\"Legend\"}],\"below\":[{\"id\":\"a8c337ed-9882-4e56-93e4-12039ea0a282\",\"type\":\"LinearAxis\"}],\"left\":[{\"id\":\"e5599c7f-9ee9-404b-be62-0ad079244dfe\",\"type\":\"LogAxis\"}],\"plot_width\":300,\"renderers\":[{\"id\":\"a8c337ed-9882-4e56-93e4-12039ea0a282\",\"type\":\"LinearAxis\"},{\"id\":\"f66e1abc-4b5d-4a44-aa9e-60826e65fb5f\",\"type\":\"Grid\"},{\"id\":\"e5599c7f-9ee9-404b-be62-0ad079244dfe\",\"type\":\"LogAxis\"},{\"id\":\"1b1a7063-6c93-40f8-9ac7-c4362313be5b\",\"type\":\"Grid\"},{\"id\":\"64956dc2-d24c-42eb-805c-a89adfe4dcbd\",\"type\":\"BoxAnnotation\"},{\"id\":\"85b1c5c8-a827-49c5-8a75-e908ad17d84f\",\"type\":\"GlyphRenderer\"},{\"id\":\"bf8afb4e-76ea-4088-9407-1bb45a150883\",\"type\":\"GlyphRenderer\"},{\"id\":\"85ab3985-85c0-4dea-850b-0ce2fe0ac436\",\"type\":\"Legend\"}],\"title\":{\"id\":\"98615031-a33d-4ea1-b1bb-d40c60fd7e08\",\"type\":\"Title\"},\"toolbar\":{\"id\":\"562a0598-5a1f-40b7-b99a-febc0c7df280\",\"type\":\"Toolbar\"},\"toolbar_location\":null,\"x_range\":{\"id\":\"abce1d7d-e30a-4057-9f84-1ac1fb45c95a\",\"type\":\"Range1d\"},\"x_scale\":{\"id\":\"2a04aef4-618e-4b5b-8774-7e5466a933cc\",\"type\":\"LinearScale\"},\"y_range\":{\"id\":\"eb8a6204-1206-40d9-9354-9db9723c328e\",\"type\":\"Range1d\"},\"y_scale\":{\"id\":\"6d9f48a8-e1b5-4051-ba24-0c6619df89d5\",\"type\":\"LogScale\"}},\"id\":\"4ce9d8ca-25c0-4a2f-9ab2-bd022c88795a\",\"subtype\":\"Figure\",\"type\":\"Plot\"},{\"attributes\":{},\"id\":\"f0a23d85-8cdc-490c-ae94-4ee69bef7395\",\"type\":\"Selection\"},{\"attributes\":{\"plot\":{\"id\":\"256cdb3a-1990-4591-808a-12ccdbaf898e\",\"subtype\":\"Figure\",\"type\":\"Plot\"},\"ticker\":{\"id\":\"ae23b34c-82d1-441d-82d7-7b016e6f87b4\",\"type\":\"BasicTicker\"}},\"id\":\"d6ac72db-9306-421d-a328-00943fbb4c6e\",\"type\":\"Grid\"},{\"attributes\":{\"callback\":null,\"data\":{\"x\":{\"__ndarray__\":\"Ak0UGO5rU0DkDr+k4dVEQDUDNddX90BA0cN95CEWO0ACw9Iqsl01QHVY9cN1yjBA2/MjiT17KkC/3kuBzw4lQHeJSKqJ5yBALPSJnmROG0AXyqWfqvsVQGTJnUvRThFAnFYWaTRICUCIPDvn8Pb6P1QziI3nafM/sj5JR7mRAEDyWsNCTOgHQOnquS8GlQ1AbZjfMGO/EUAQUldBg2QVQA9ajbnr1hpAVhVwiB6KIUD0yvpvU+IhQOdtOc4eLx5AQyKb0ht7GUC+zU/0L3oUQFdnNK7KtRBA20mC3wHpC0Ao9K4bQHMHQC/US+LwjgNAhA7pmDQCAEC0ly+qNnv5PyS+pMzlqfM/eZEfJmdt7j9fNps12kzhP4aJSZ0BEZI/Uf2N0Iar1b/nCNV3JPvQv4yn2m/ws0g/CXQcshdHsj/AJIILeFK8PwFEKwMIkME/Xb6V75AXxD9Sb/hiiRXGP2gPAEhpt8c/uZeZKLIVyT8ltSCwA0LKP1UpJVvQSMs/FJJu2MgxzD88MxC3ggfNP3hBoL2r0M0/y49JiYSTzj+Z9VYjSlLPP0qKx0JGCdA/GPq8rpNt0D8CzH6aqNfQP13meO3gTNE/tfVCZk/X0T8t1SHI3ITSP9BUHIe5ddM/S9wYwsq41D8sXm9NiPHVP/3h306/J9Y/8S+6J4zg1D9GjPE1UeHSP4KWGWrgRNE/sIck6m2y0D+/oPrI4ynRP1HHy6B/HtI/Wn6GlgEn0z+uQ5hPFDDUPyGzDX3rU9U/xt6pzlO+1j858uaGJOfYPy7FVWXfleE/\",\"dtype\":\"float64\",\"shape\":[75]},\"y\":{\"__ndarray__\":\"GhExyth1ND/Sv8nbtpRIP2vylNV0PVE/aTum7souWD/At0SJ8fVgPw3Iuahxymc/MSNhhJWvcD/bTfBN02d3P2zb5nxnaoA/CD5h5MAGhz8NmeH1TyaQP+zrCsc9p5Y/LbKd76fGnz/bLW5ISEmmPww9YvTcQq8/JV2OstnstT8Er5Y7M8G+P0c+r3jqkcU/5h99k6ZBzj88bCIzFzjVP4enV8oyxN0//yH99nXg5D8qOpLLf0jtP5kqGJXUifQ/c9cS8kHP/D+/DpwzojQEQIEmwoanVwxA4lgXt9HgE0BSSZ2AJuIbQAMJih9jjiNA5q4l5INuK0AwTKYKRj0zQNv5fmq8/DpAaCJseHrtQkB/+zpwzoxKQM3MzMzMeFJAZmZmZmZqWEAAAAAAAFxeQM3MzMzMJmJAmpmZmZkfZUBmZmZmZhhoQDMzMzMzEWtAAAAAAAAKbkBmZmZmZoFwQM3MzMzM/XFAMzMzMzN6c0CamZmZmfZ0QAAAAAAAc3ZAZmZmZmbvd0DNzMzMzGt5QDMzMzMz6HpAmpmZmZlkfEAAAAAAAOF9QGZmZmZmXX9AZmZmZuZsgECamZmZGSuBQM3MzMxM6YFAAAAAAICngkAzMzMzs2WDQGZmZmbmI4RAmpmZmRnihEDNzMzMTKCFQAAAAACAXoZAMzMzM7Mch0BmZmZm5tqHQJqZmZkZmYhAzczMzExXiUAAAAAAgBWKQDMzMzOz04pAZmZmZuaRi0CamZmZGVCMQM3MzMxMDo1AAAAAAIDMjUAzMzMzs4qOQGZmZmbmSI9A\",\"dtype\":\"float64\",\"shape\":[75]}},\"selected\":{\"id\":\"72e1cb11-2088-4f54-829a-ad7ee107aa82\",\"type\":\"Selection\"},\"selection_policy\":{\"id\":\"eb79579c-75a5-4a35-b961-35c266e38c98\",\"type\":\"UnionRenderers\"}},\"id\":\"173621ae-8b5c-44e5-9bf5-0574b0f02271\",\"type\":\"ColumnDataSource\"},{\"attributes\":{\"active_drag\":\"auto\",\"active_inspect\":\"auto\",\"active_scroll\":\"auto\",\"active_tap\":\"auto\",\"tools\":[{\"id\":\"9df11e91-f1a7-408f-bbc0-330063251850\",\"type\":\"PanTool\"},{\"id\":\"de9b0a45-3cd4-4f81-afd5-b7e2a48f39ba\",\"type\":\"WheelZoomTool\"},{\"id\":\"bb52df52-068c-457c-aea7-18f1ed13401b\",\"type\":\"BoxZoomTool\"},{\"id\":\"797405dd-bb02-4a2f-bd62-a1ae168627f0\",\"type\":\"SaveTool\"},{\"id\":\"0e5d9452-c0aa-4a84-b400-3d96ba7da267\",\"type\":\"ResetTool\"},{\"id\":\"9fca3ee2-696d-45d5-bb85-2329542921fe\",\"type\":\"HelpTool\"}]},\"id\":\"31d0996d-fabd-4f4a-a469-a2e6ba892c6c\",\"type\":\"Toolbar\"},{\"attributes\":{},\"id\":\"44b7f0c8-9cbe-42f6-932b-577d8dbfbad9\",\"type\":\"UnionRenderers\"},{\"attributes\":{\"fill_alpha\":{\"value\":0.7},\"fill_color\":{\"value\":\"#984ea3\"},\"line_alpha\":{\"value\":0.7},\"line_color\":{\"value\":\"#984ea3\"},\"x\":{\"field\":\"x\"},\"y\":{\"field\":\"y\"}},\"id\":\"9931e597-6f9d-40db-bd6b-4adf067def46\",\"type\":\"Circle\"},{\"attributes\":{\"children\":[{\"id\":\"256cdb3a-1990-4591-808a-12ccdbaf898e\",\"subtype\":\"Figure\",\"type\":\"Plot\"},{\"id\":\"8ed9023a-135f-431d-96c1-f53e6116dc99\",\"subtype\":\"Figure\",\"type\":\"Plot\"},{\"id\":\"4ce9d8ca-25c0-4a2f-9ab2-bd022c88795a\",\"subtype\":\"Figure\",\"type\":\"Plot\"}]},\"id\":\"5db69312-c34c-42ac-89d3-9d0453390b50\",\"type\":\"Row\"},{\"attributes\":{},\"id\":\"9ebe4c41-da8d-454a-8749-d569d48536d2\",\"type\":\"Selection\"},{\"attributes\":{},\"id\":\"06596ad0-211d-471f-bff3-d464247974be\",\"type\":\"PanTool\"},{\"attributes\":{},\"id\":\"4a15216a-e4c2-4f10-ac55-de50de3c87f6\",\"type\":\"BasicTickFormatter\"},{\"attributes\":{},\"id\":\"2a04aef4-618e-4b5b-8774-7e5466a933cc\",\"type\":\"LinearScale\"},{\"attributes\":{},\"id\":\"797405dd-bb02-4a2f-bd62-a1ae168627f0\",\"type\":\"SaveTool\"},{\"attributes\":{\"line_alpha\":0.1,\"line_color\":\"#1f77b4\",\"line_width\":1.5,\"x\":{\"field\":\"x\"},\"y\":{\"field\":\"y\"}},\"id\":\"8ee0a0a7-f175-42d5-ab76-0b5e97beaa68\",\"type\":\"Line\"},{\"attributes\":{},\"id\":\"9df11e91-f1a7-408f-bbc0-330063251850\",\"type\":\"PanTool\"},{\"attributes\":{},\"id\":\"be29800c-71ed-4ecb-883e-8d8615f9f24e\",\"type\":\"UnionRenderers\"},{\"attributes\":{\"plot\":null,\"text\":\"\"},\"id\":\"16218407-c509-4297-b305-dd5aa491e80d\",\"type\":\"Title\"},{\"attributes\":{},\"id\":\"9fca3ee2-696d-45d5-bb85-2329542921fe\",\"type\":\"HelpTool\"},{\"attributes\":{\"overlay\":{\"id\":\"64956dc2-d24c-42eb-805c-a89adfe4dcbd\",\"type\":\"BoxAnnotation\"}},\"id\":\"47786a09-d314-4e3f-88da-4890891f0b17\",\"type\":\"BoxZoomTool\"},{\"attributes\":{\"children\":[{\"id\":\"5db69312-c34c-42ac-89d3-9d0453390b50\",\"type\":\"Row\"}]},\"id\":\"3d20e8f2-a2b6-4f08-9f67-42871d280bb7\",\"type\":\"Column\"},{\"attributes\":{},\"id\":\"f06fedcb-81e8-482e-b190-9f00d9b93a0f\",\"type\":\"HelpTool\"},{\"attributes\":{},\"id\":\"16d5a320-9cdb-4909-be43-86ed1ab72f7a\",\"type\":\"SaveTool\"},{\"attributes\":{},\"id\":\"ae23b34c-82d1-441d-82d7-7b016e6f87b4\",\"type\":\"BasicTicker\"},{\"attributes\":{},\"id\":\"01fb4257-b05a-4ef2-8c39-57a416b99c0f\",\"type\":\"BasicTickFormatter\"},{\"attributes\":{},\"id\":\"0e5d9452-c0aa-4a84-b400-3d96ba7da267\",\"type\":\"ResetTool\"},{\"attributes\":{},\"id\":\"a05de0c8-065f-474f-b761-15e4a777d4d5\",\"type\":\"UnionRenderers\"},{\"attributes\":{},\"id\":\"eb79579c-75a5-4a35-b961-35c266e38c98\",\"type\":\"UnionRenderers\"},{\"attributes\":{\"axis_label\":\"pressure [mb]\",\"formatter\":{\"id\":\"7d28f609-1701-4e26-9ab7-09cd248bffa8\",\"type\":\"LogTickFormatter\"},\"plot\":{\"id\":\"4ce9d8ca-25c0-4a2f-9ab2-bd022c88795a\",\"subtype\":\"Figure\",\"type\":\"Plot\"},\"ticker\":{\"id\":\"2503f15c-ae72-405a-834c-3f9a61180b0f\",\"type\":\"LogTicker\"}},\"id\":\"e5599c7f-9ee9-404b-be62-0ad079244dfe\",\"type\":\"LogAxis\"},{\"attributes\":{\"data_source\":{\"id\":\"d3bcfd3a-f45e-4836-9750-f8f3280527db\",\"type\":\"ColumnDataSource\"},\"glyph\":{\"id\":\"5aa89437-39f8-4ce4-8607-ea599f760c11\",\"type\":\"Line\"},\"hover_glyph\":null,\"muted_glyph\":null,\"nonselection_glyph\":{\"id\":\"209fff52-ebce-4199-a4cd-333adc1ba969\",\"type\":\"Line\"},\"selection_glyph\":null,\"view\":{\"id\":\"33782c6d-57b3-4849-9dd4-f4279d230141\",\"type\":\"CDSView\"}},\"id\":\"5ec1d951-8b0f-4f54-bfaf-a5ae09c56b5a\",\"type\":\"GlyphRenderer\"},{\"attributes\":{\"overlay\":{\"id\":\"d2ffac6f-be73-483a-bf9d-60210fe7454b\",\"type\":\"BoxAnnotation\"}},\"id\":\"bb52df52-068c-457c-aea7-18f1ed13401b\",\"type\":\"BoxZoomTool\"},{\"attributes\":{\"callback\":null,\"end\":0.6096700944823,\"start\":-0.3824636567123},\"id\":\"0d8d53d0-b050-4b86-b7e4-505e5493f47e\",\"type\":\"Range1d\"},{\"attributes\":{},\"id\":\"0841a9d0-c7cc-49b1-810b-21343eac140e\",\"type\":\"BasicTicker\"},{\"attributes\":{},\"id\":\"67f7867d-de99-42b7-9838-2d4d39b9c2b4\",\"type\":\"Selection\"},{\"attributes\":{},\"id\":\"72e1cb11-2088-4f54-829a-ad7ee107aa82\",\"type\":\"Selection\"},{\"attributes\":{\"axis_label\":\"pressure [mb]\",\"formatter\":{\"id\":\"01fb4257-b05a-4ef2-8c39-57a416b99c0f\",\"type\":\"BasicTickFormatter\"},\"plot\":{\"id\":\"256cdb3a-1990-4591-808a-12ccdbaf898e\",\"subtype\":\"Figure\",\"type\":\"Plot\"},\"ticker\":{\"id\":\"0841a9d0-c7cc-49b1-810b-21343eac140e\",\"type\":\"BasicTicker\"}},\"id\":\"1f024462-9a80-4735-bb3b-b58f9084f791\",\"type\":\"LinearAxis\"},{\"attributes\":{\"dimension\":1,\"plot\":{\"id\":\"256cdb3a-1990-4591-808a-12ccdbaf898e\",\"subtype\":\"Figure\",\"type\":\"Plot\"},\"ticker\":{\"id\":\"0841a9d0-c7cc-49b1-810b-21343eac140e\",\"type\":\"BasicTicker\"}},\"id\":\"c1c6097c-63ad-4a02-8d8d-add666b1ed11\",\"type\":\"Grid\"},{\"attributes\":{},\"id\":\"2627ce4f-f7b7-424e-9bd6-41a6bca8b611\",\"type\":\"BasicTicker\"},{\"attributes\":{\"data_source\":{\"id\":\"173621ae-8b5c-44e5-9bf5-0574b0f02271\",\"type\":\"ColumnDataSource\"},\"glyph\":{\"id\":\"6c6875eb-c949-4581-8ce9-15d57f579cbd\",\"type\":\"Circle\"},\"hover_glyph\":null,\"muted_glyph\":null,\"nonselection_glyph\":{\"id\":\"71629131-abce-4972-9386-d14b981985c2\",\"type\":\"Circle\"},\"selection_glyph\":null,\"view\":{\"id\":\"9edf6210-37cc-449c-851f-f7244db7a0e2\",\"type\":\"CDSView\"}},\"id\":\"34971f6a-234f-4980-ad38-39a800d74024\",\"type\":\"GlyphRenderer\"},{\"attributes\":{},\"id\":\"82f77da4-9b2c-41c0-b798-38540e8e5943\",\"type\":\"LinearScale\"},{\"attributes\":{\"line_alpha\":0.6,\"line_color\":\"#e41a1c\",\"line_dash\":[6],\"line_width\":5,\"x\":{\"field\":\"x\"},\"y\":{\"field\":\"y\"}},\"id\":\"c6747b8a-7f0f-4325-844a-e63f9c5e9e0e\",\"type\":\"Line\"},{\"attributes\":{\"num_minor_ticks\":10},\"id\":\"2503f15c-ae72-405a-834c-3f9a61180b0f\",\"type\":\"LogTicker\"},{\"attributes\":{\"label\":{\"value\":\"CLIRAD - CRD\"},\"renderers\":[{\"id\":\"85b1c5c8-a827-49c5-8a75-e908ad17d84f\",\"type\":\"GlyphRenderer\"},{\"id\":\"bf8afb4e-76ea-4088-9407-1bb45a150883\",\"type\":\"GlyphRenderer\"}]},\"id\":\"29626608-d7b9-4aed-b96a-696d646dda1d\",\"type\":\"LegendItem\"},{\"attributes\":{\"plot\":{\"id\":\"4ce9d8ca-25c0-4a2f-9ab2-bd022c88795a\",\"subtype\":\"Figure\",\"type\":\"Plot\"},\"ticker\":{\"id\":\"2627ce4f-f7b7-424e-9bd6-41a6bca8b611\",\"type\":\"BasicTicker\"}},\"id\":\"f66e1abc-4b5d-4a44-aa9e-60826e65fb5f\",\"type\":\"Grid\"},{\"attributes\":{\"data_source\":{\"id\":\"5aad59a4-235a-4285-bd9f-ead6eeacf913\",\"type\":\"ColumnDataSource\"},\"glyph\":{\"id\":\"19b32fdb-bd61-418c-90d6-90bf71f2d29b\",\"type\":\"Line\"},\"hover_glyph\":null,\"muted_glyph\":null,\"nonselection_glyph\":{\"id\":\"8ee0a0a7-f175-42d5-ab76-0b5e97beaa68\",\"type\":\"Line\"},\"selection_glyph\":null,\"view\":{\"id\":\"9c191eef-dda8-4963-aedf-b1bd51a8cb30\",\"type\":\"CDSView\"}},\"id\":\"bf8afb4e-76ea-4088-9407-1bb45a150883\",\"type\":\"GlyphRenderer\"},{\"attributes\":{\"fill_alpha\":{\"value\":0.1},\"fill_color\":{\"value\":\"#1f77b4\"},\"line_alpha\":{\"value\":0.1},\"line_color\":{\"value\":\"#1f77b4\"},\"x\":{\"field\":\"x\"},\"y\":{\"field\":\"y\"}},\"id\":\"71629131-abce-4972-9386-d14b981985c2\",\"type\":\"Circle\"},{\"attributes\":{\"callback\":null,\"end\":0.01,\"start\":1020},\"id\":\"c3a01427-e88b-40ac-b7c8-3de4ee99bf7c\",\"type\":\"Range1d\"},{\"attributes\":{\"items\":[{\"id\":\"29626608-d7b9-4aed-b96a-696d646dda1d\",\"type\":\"LegendItem\"}],\"label_text_font_size\":{\"value\":\"8pt\"},\"location\":\"top_center\",\"orientation\":\"horizontal\",\"plot\":{\"id\":\"4ce9d8ca-25c0-4a2f-9ab2-bd022c88795a\",\"subtype\":\"Figure\",\"type\":\"Plot\"}},\"id\":\"85ab3985-85c0-4dea-850b-0ce2fe0ac436\",\"type\":\"Legend\"},{\"attributes\":{},\"id\":\"0b6f8111-db58-4ea3-8161-fb3daf4163a6\",\"type\":\"ResetTool\"},{\"attributes\":{},\"id\":\"bc801860-abca-4c7d-82a5-4053448cfd30\",\"type\":\"LinearScale\"},{\"attributes\":{},\"id\":\"bc2b8f11-b177-47cf-bf8b-4dd1df9ccdd4\",\"type\":\"Selection\"},{\"attributes\":{\"active_drag\":\"auto\",\"active_inspect\":\"auto\",\"active_scroll\":\"auto\",\"active_tap\":\"auto\",\"tools\":[{\"id\":\"06596ad0-211d-471f-bff3-d464247974be\",\"type\":\"PanTool\"},{\"id\":\"6ac3f6e7-80c9-45b5-b8df-471b6e8d0577\",\"type\":\"WheelZoomTool\"},{\"id\":\"47786a09-d314-4e3f-88da-4890891f0b17\",\"type\":\"BoxZoomTool\"},{\"id\":\"16d5a320-9cdb-4909-be43-86ed1ab72f7a\",\"type\":\"SaveTool\"},{\"id\":\"0b6f8111-db58-4ea3-8161-fb3daf4163a6\",\"type\":\"ResetTool\"},{\"id\":\"f06fedcb-81e8-482e-b190-9f00d9b93a0f\",\"type\":\"HelpTool\"}]},\"id\":\"562a0598-5a1f-40b7-b99a-febc0c7df280\",\"type\":\"Toolbar\"},{\"attributes\":{\"bottom_units\":\"screen\",\"fill_alpha\":{\"value\":0.5},\"fill_color\":{\"value\":\"lightgrey\"},\"left_units\":\"screen\",\"level\":\"overlay\",\"line_alpha\":{\"value\":1.0},\"line_color\":{\"value\":\"black\"},\"line_dash\":[4,4],\"line_width\":{\"value\":2},\"plot\":null,\"render_mode\":\"css\",\"right_units\":\"screen\",\"top_units\":\"screen\"},\"id\":\"d2ffac6f-be73-483a-bf9d-60210fe7454b\",\"type\":\"BoxAnnotation\"},{\"attributes\":{\"callback\":null,\"data\":{\"x\":{\"__ndarray__\":\"52+IGjihS0DeLix8DglFQMqj/2qOPUJAa3wG/BbvPUD25gJElxM3QKjQxwYhyDBAYgfuWonsJ0B0ToQAcNYhQP7M7luj8hxAVkG6ZnWuGED0ZNDia5QUQLBXylDuEhBALQONpCQPBkDpZRFcvpT0P4NUYMJVd+0//rPqW/RK/z9Lj2OY56wIQLGWkQDomw9Ao5D80aapEkBgBO9Vu0EVQED2CxFPaRlA+WdwHkGbIECyHLLT4GUhQMxVSWZp7h1AKItguzLfGEC4EG+TDZITQJ0ngr2CuxBANHrVNdxnDUCbxIKfe7MIQPwa1gdjDgRANIim4152AEBqmikNMjb5P1VWrMBdG/M/SHgGGRgI8D8pd9xGvDLjP55yPkOBJnc/2oLOruva17+0UkQiBhzRv1ocQ44wEZA/Ma9V2lgEtD9NNvvKXhK9P9dfaJI1msE/jAf1m+uOwz+/QLxp1K7EP5TZZkPzYsU/U9oVDET1xT+jO+TE4IPGP0+evTFHYcc/QXtfNR1HyD/9IovMI2fJP3bmQayYs8o/MXdmZdzhyz/UsWvLaF7NP3URw2BEkM4/F3xCSRQQ0D9EplZBB6vQP70QzLtsZ9E//HIkQMQd0j+R1Nt/zvTSP3s4e8K2B9Q/DgeI0Khj1T8bVdRJx6/WP5sik9aX4dY/PBOf3U+t1T8Nm41Fdq3TP2UWRIwuEtI/YoTZoFN00T8NT0MdXPbRPzMiS0Fb4NI/owWM2CXW0z+UcoWbNvHUPzlp3IuPDtY/6jeeDi5t1z+YrtziTLnZPw1DiIQf5+E/\",\"dtype\":\"float64\",\"shape\":[75]},\"y\":{\"__ndarray__\":\"GhExyth1ND/Sv8nbtpRIP2vylNV0PVE/aTum7souWD/At0SJ8fVgPw3Iuahxymc/MSNhhJWvcD/bTfBN02d3P2zb5nxnaoA/CD5h5MAGhz8NmeH1TyaQP+zrCsc9p5Y/LbKd76fGnz/bLW5ISEmmPww9YvTcQq8/JV2OstnstT8Er5Y7M8G+P0c+r3jqkcU/5h99k6ZBzj88bCIzFzjVP4enV8oyxN0//yH99nXg5D8qOpLLf0jtP5kqGJXUifQ/c9cS8kHP/D+/DpwzojQEQIEmwoanVwxA4lgXt9HgE0BSSZ2AJuIbQAMJih9jjiNA5q4l5INuK0AwTKYKRj0zQNv5fmq8/DpAaCJseHrtQkB/+zpwzoxKQM3MzMzMeFJAZmZmZmZqWEAAAAAAAFxeQM3MzMzMJmJAmpmZmZkfZUBmZmZmZhhoQDMzMzMzEWtAAAAAAAAKbkBmZmZmZoFwQM3MzMzM/XFAMzMzMzN6c0CamZmZmfZ0QAAAAAAAc3ZAZmZmZmbvd0DNzMzMzGt5QDMzMzMz6HpAmpmZmZlkfEAAAAAAAOF9QGZmZmZmXX9AZmZmZuZsgECamZmZGSuBQM3MzMxM6YFAAAAAAICngkAzMzMzs2WDQGZmZmbmI4RAmpmZmRnihEDNzMzMTKCFQAAAAACAXoZAMzMzM7Mch0BmZmZm5tqHQJqZmZkZmYhAzczMzExXiUAAAAAAgBWKQDMzMzOz04pAZmZmZuaRi0CamZmZGVCMQM3MzMxMDo1AAAAAAIDMjUAzMzMzs4qOQGZmZmbmSI9A\",\"dtype\":\"float64\",\"shape\":[75]}},\"selected\":{\"id\":\"bc2b8f11-b177-47cf-bf8b-4dd1df9ccdd4\",\"type\":\"Selection\"},\"selection_policy\":{\"id\":\"44b7f0c8-9cbe-42f6-932b-577d8dbfbad9\",\"type\":\"UnionRenderers\"}},\"id\":\"2d07ae12-4992-4f7f-a025-35b40ebe80cb\",\"type\":\"ColumnDataSource\"},{\"attributes\":{\"bottom_units\":\"screen\",\"fill_alpha\":{\"value\":0.5},\"fill_color\":{\"value\":\"lightgrey\"},\"left_units\":\"screen\",\"level\":\"overlay\",\"line_alpha\":{\"value\":1.0},\"line_color\":{\"value\":\"black\"},\"line_dash\":[4,4],\"line_width\":{\"value\":2},\"plot\":null,\"render_mode\":\"css\",\"right_units\":\"screen\",\"top_units\":\"screen\"},\"id\":\"64956dc2-d24c-42eb-805c-a89adfe4dcbd\",\"type\":\"BoxAnnotation\"},{\"attributes\":{\"callback\":null,\"end\":0.26245586072739935,\"start\":-0.6652814455874},\"id\":\"abce1d7d-e30a-4057-9f84-1ac1fb45c95a\",\"type\":\"Range1d\"},{\"attributes\":{\"source\":{\"id\":\"d3bcfd3a-f45e-4836-9750-f8f3280527db\",\"type\":\"ColumnDataSource\"}},\"id\":\"33782c6d-57b3-4849-9dd4-f4279d230141\",\"type\":\"CDSView\"},{\"attributes\":{\"callback\":null,\"data\":{\"x\":{\"__ndarray__\":\"PFRAK0htNsBV/Y+2a5bZP2EJqjxpYwRAxcRFvKjHBkArPwKTUV77P/ZnPmzppYK/yWOvcaF19L9bgjwG/ML5v7gXieK/cfO/vpZ9vnn/5L8vUlbN63PWvzwbN60vvtO/fptKJH7I2b99WqcsyojZv0okYLHyuNK/ZpZ8KuOHvb/kiga0apO4PzhevYYON9A/vgafI3RIzT+61ya09WOhv+c8FojK2da/gKv1P63b3b9ZkCsSpxzPv8oGBvxZLbC/RuNS5yJ9w7/GoBccTATNvwYTATc94HY/rQUzZaXtxz8mBz09uAPEPy+zkWKJ3K8/wmter5IKrT/QUn9BJ0GRv735DH8B0aG/cvHVvpAsqj+XDBQUIV6uP7vZ85jCjoi/TSwE8iZ7ob/O5qQ31XBgvzuOiBUil44/cLKTgxLUez+8MSLv1/xnP2yrN3oeWzQ/BtoWdKoUcb8/6cKTT2uGv6CuySSwo5K/Musd5HADmb8WzONZF/GdvzNYPEtJPJ+/lbZ4GF1Vn7/zgShU9wKdvw3Y8oqY6Ji/08QYH0GNlb9dPLR+FT6Pv/ExwEyCJIi/XICfXtlfd78v3xKUrFBmv2RhKlPOi1o/x1FfeDadcT/Q2H/ubfx7P2513GunP4I/iFjlzcFbhT+n3Z6M38eHP8oTaPYQO4c/XGmcvHaYiT+y2IHzoYSJP3j8T0XEqYk/Kpaf1rY8iD/dyRWJCo+JPzVc6w90O4g/LemwQIjkhT+63KV9SSSIP+rC1tmBVIc/niSL/kfbhT+7i7d+C0WKP9J3n8wHUIQ/\",\"dtype\":\"float64\",\"shape\":[75]},\"y\":{\"__ndarray__\":\"GhExyth1ND/Sv8nbtpRIP2vylNV0PVE/aTum7souWD/At0SJ8fVgPw3Iuahxymc/MSNhhJWvcD/bTfBN02d3P2zb5nxnaoA/CD5h5MAGhz8NmeH1TyaQP+zrCsc9p5Y/LbKd76fGnz/bLW5ISEmmPww9YvTcQq8/JV2OstnstT8Er5Y7M8G+P0c+r3jqkcU/5h99k6ZBzj88bCIzFzjVP4enV8oyxN0//yH99nXg5D8qOpLLf0jtP5kqGJXUifQ/c9cS8kHP/D+/DpwzojQEQIEmwoanVwxA4lgXt9HgE0BSSZ2AJuIbQAMJih9jjiNA5q4l5INuK0AwTKYKRj0zQNv5fmq8/DpAaCJseHrtQkB/+zpwzoxKQM3MzMzMeFJAZmZmZmZqWEAAAAAAAFxeQM3MzMzMJmJAmpmZmZkfZUBmZmZmZhhoQDMzMzMzEWtAAAAAAAAKbkBmZmZmZoFwQM3MzMzM/XFAMzMzMzN6c0CamZmZmfZ0QAAAAAAAc3ZAZmZmZmbvd0DNzMzMzGt5QDMzMzMz6HpAmpmZmZlkfEAAAAAAAOF9QGZmZmZmXX9AZmZmZuZsgECamZmZGSuBQM3MzMxM6YFAAAAAAICngkAzMzMzs2WDQGZmZmbmI4RAmpmZmRnihEDNzMzMTKCFQAAAAACAXoZAMzMzM7Mch0BmZmZm5tqHQJqZmZkZmYhAzczMzExXiUAAAAAAgBWKQDMzMzOz04pAZmZmZuaRi0CamZmZGVCMQM3MzMxMDo1AAAAAAIDMjUAzMzMzs4qOQGZmZmbmSI9A\",\"dtype\":\"float64\",\"shape\":[75]}},\"selected\":{\"id\":\"ffd5e575-e4a9-406d-b835-c279a31c0431\",\"type\":\"Selection\"},\"selection_policy\":{\"id\":\"d0a544c6-4a66-432e-ac88-3b84137fea97\",\"type\":\"UnionRenderers\"}},\"id\":\"a428d849-d362-4113-b5bb-a23bb63b494e\",\"type\":\"ColumnDataSource\"},{\"attributes\":{\"axis_label\":\"cooling rate [K/day]\",\"formatter\":{\"id\":\"0a52e60f-51ff-4d6e-8b56-1662568d33a7\",\"type\":\"BasicTickFormatter\"},\"plot\":{\"id\":\"4ce9d8ca-25c0-4a2f-9ab2-bd022c88795a\",\"subtype\":\"Figure\",\"type\":\"Plot\"},\"ticker\":{\"id\":\"2627ce4f-f7b7-424e-9bd6-41a6bca8b611\",\"type\":\"BasicTicker\"}},\"id\":\"a8c337ed-9882-4e56-93e4-12039ea0a282\",\"type\":\"LinearAxis\"},{\"attributes\":{},\"id\":\"de9b0a45-3cd4-4f81-afd5-b7e2a48f39ba\",\"type\":\"WheelZoomTool\"},{\"attributes\":{\"label\":{\"value\":\"CLIRAD\"},\"renderers\":[{\"id\":\"8bfdaceb-4218-454c-95f7-0d37d481cef7\",\"type\":\"GlyphRenderer\"}]},\"id\":\"6247c930-c54c-44f4-be84-f35db3f84d5b\",\"type\":\"LegendItem\"},{\"attributes\":{\"source\":{\"id\":\"173621ae-8b5c-44e5-9bf5-0574b0f02271\",\"type\":\"ColumnDataSource\"}},\"id\":\"9edf6210-37cc-449c-851f-f7244db7a0e2\",\"type\":\"CDSView\"},{\"attributes\":{\"data_source\":{\"id\":\"13c52ebf-f36b-4c8e-8721-60dcd553b231\",\"type\":\"ColumnDataSource\"},\"glyph\":{\"id\":\"e14e78cf-5b0e-48d3-ab91-a638e526493a\",\"type\":\"Line\"},\"hover_glyph\":null,\"muted_glyph\":null,\"nonselection_glyph\":{\"id\":\"43657c33-632e-4165-96fc-02f791f1bd95\",\"type\":\"Line\"},\"selection_glyph\":null,\"view\":{\"id\":\"cb2c05d3-fa49-447b-a0c4-9407c4067a1d\",\"type\":\"CDSView\"}},\"id\":\"2a303650-3fca-4fb7-b86f-7b0f854ef776\",\"type\":\"GlyphRenderer\"},{\"attributes\":{\"line_alpha\":0.8,\"line_color\":\"#984ea3\",\"line_width\":1.5,\"x\":{\"field\":\"x\"},\"y\":{\"field\":\"y\"}},\"id\":\"19b32fdb-bd61-418c-90d6-90bf71f2d29b\",\"type\":\"Line\"},{\"attributes\":{\"above\":[{\"id\":\"0f6e9fbb-7817-4f48-9ed0-d1a95d6f452e\",\"type\":\"Legend\"}],\"below\":[{\"id\":\"751556ee-fb48-4d4c-9260-dc8ed63c97fe\",\"type\":\"LinearAxis\"}],\"left\":[{\"id\":\"ade8b3bd-d07c-49e4-9a71-351b1283ed83\",\"type\":\"LogAxis\"}],\"plot_width\":300,\"renderers\":[{\"id\":\"751556ee-fb48-4d4c-9260-dc8ed63c97fe\",\"type\":\"LinearAxis\"},{\"id\":\"bd2008ab-2edc-45bd-a697-2afd1614d3fd\",\"type\":\"Grid\"},{\"id\":\"ade8b3bd-d07c-49e4-9a71-351b1283ed83\",\"type\":\"LogAxis\"},{\"id\":\"a33f4f15-cea7-40c6-b7e7-9d6663c66119\",\"type\":\"Grid\"},{\"id\":\"508aa67d-8818-445c-9b15-66edc530a1ab\",\"type\":\"BoxAnnotation\"},{\"id\":\"5ec1d951-8b0f-4f54-bfaf-a5ae09c56b5a\",\"type\":\"GlyphRenderer\"},{\"id\":\"34971f6a-234f-4980-ad38-39a800d74024\",\"type\":\"GlyphRenderer\"},{\"id\":\"2a303650-3fca-4fb7-b86f-7b0f854ef776\",\"type\":\"GlyphRenderer\"},{\"id\":\"0f6e9fbb-7817-4f48-9ed0-d1a95d6f452e\",\"type\":\"Legend\"}],\"title\":{\"id\":\"fac34bba-94f8-4b4c-9dea-8932f9720a2b\",\"type\":\"Title\"},\"toolbar\":{\"id\":\"e9960780-fdb7-43f2-a2d3-0fe23a3a54d0\",\"type\":\"Toolbar\"},\"toolbar_location\":null,\"x_range\":{\"id\":\"73087c98-d5bf-42f9-8341-0ef4fc0abb1b\",\"type\":\"Range1d\"},\"x_scale\":{\"id\":\"e910b0ac-54e9-4fd1-8647-4afcf154550d\",\"type\":\"LinearScale\"},\"y_range\":{\"id\":\"eddb5107-389c-4a99-8082-6a38b6f0c0ff\",\"type\":\"Range1d\"},\"y_scale\":{\"id\":\"c43fe4bf-0c64-4052-9ab9-4f07ba2000ff\",\"type\":\"LogScale\"}},\"id\":\"8ed9023a-135f-431d-96c1-f53e6116dc99\",\"subtype\":\"Figure\",\"type\":\"Plot\"},{\"attributes\":{\"bottom_units\":\"screen\",\"fill_alpha\":{\"value\":0.5},\"fill_color\":{\"value\":\"lightgrey\"},\"left_units\":\"screen\",\"level\":\"overlay\",\"line_alpha\":{\"value\":1.0},\"line_color\":{\"value\":\"black\"},\"line_dash\":[4,4],\"line_width\":{\"value\":2},\"plot\":null,\"render_mode\":\"css\",\"right_units\":\"screen\",\"top_units\":\"screen\"},\"id\":\"508aa67d-8818-445c-9b15-66edc530a1ab\",\"type\":\"BoxAnnotation\"},{\"attributes\":{\"callback\":null,\"data\":{\"x\":{\"__ndarray__\":\"Ak0UGO5rU0DkDr+k4dVEQDUDNddX90BA0cN95CEWO0ACw9Iqsl01QHVY9cN1yjBA2/MjiT17KkC/3kuBzw4lQHeJSKqJ5yBALPSJnmROG0AXyqWfqvsVQGTJnUvRThFAnFYWaTRICUCIPDvn8Pb6P1QziI3nafM/sj5JR7mRAEDyWsNCTOgHQOnquS8GlQ1AbZjfMGO/EUAQUldBg2QVQA9ajbnr1hpAVhVwiB6KIUD0yvpvU+IhQOdtOc4eLx5AQyKb0ht7GUC+zU/0L3oUQFdnNK7KtRBA20mC3wHpC0Ao9K4bQHMHQC/US+LwjgNAhA7pmDQCAEC0ly+qNnv5PyS+pMzlqfM/eZEfJmdt7j9fNps12kzhP4aJSZ0BEZI/Uf2N0Iar1b/nCNV3JPvQv4yn2m/ws0g/CXQcshdHsj/AJIILeFK8PwFEKwMIkME/Xb6V75AXxD9Sb/hiiRXGP2gPAEhpt8c/uZeZKLIVyT8ltSCwA0LKP1UpJVvQSMs/FJJu2MgxzD88MxC3ggfNP3hBoL2r0M0/y49JiYSTzj+Z9VYjSlLPP0qKx0JGCdA/GPq8rpNt0D8CzH6aqNfQP13meO3gTNE/tfVCZk/X0T8t1SHI3ITSP9BUHIe5ddM/S9wYwsq41D8sXm9NiPHVP/3h306/J9Y/8S+6J4zg1D9GjPE1UeHSP4KWGWrgRNE/sIck6m2y0D+/oPrI4ynRP1HHy6B/HtI/Wn6GlgEn0z+uQ5hPFDDUPyGzDX3rU9U/xt6pzlO+1j858uaGJOfYPy7FVWXfleE/\",\"dtype\":\"float64\",\"shape\":[75]},\"y\":{\"__ndarray__\":\"GhExyth1ND/Sv8nbtpRIP2vylNV0PVE/aTum7souWD/At0SJ8fVgPw3Iuahxymc/MSNhhJWvcD/bTfBN02d3P2zb5nxnaoA/CD5h5MAGhz8NmeH1TyaQP+zrCsc9p5Y/LbKd76fGnz/bLW5ISEmmPww9YvTcQq8/JV2OstnstT8Er5Y7M8G+P0c+r3jqkcU/5h99k6ZBzj88bCIzFzjVP4enV8oyxN0//yH99nXg5D8qOpLLf0jtP5kqGJXUifQ/c9cS8kHP/D+/DpwzojQEQIEmwoanVwxA4lgXt9HgE0BSSZ2AJuIbQAMJih9jjiNA5q4l5INuK0AwTKYKRj0zQNv5fmq8/DpAaCJseHrtQkB/+zpwzoxKQM3MzMzMeFJAZmZmZmZqWEAAAAAAAFxeQM3MzMzMJmJAmpmZmZkfZUBmZmZmZhhoQDMzMzMzEWtAAAAAAAAKbkBmZmZmZoFwQM3MzMzM/XFAMzMzMzN6c0CamZmZmfZ0QAAAAAAAc3ZAZmZmZmbvd0DNzMzMzGt5QDMzMzMz6HpAmpmZmZlkfEAAAAAAAOF9QGZmZmZmXX9AZmZmZuZsgECamZmZGSuBQM3MzMxM6YFAAAAAAICngkAzMzMzs2WDQGZmZmbmI4RAmpmZmRnihEDNzMzMTKCFQAAAAACAXoZAMzMzM7Mch0BmZmZm5tqHQJqZmZkZmYhAzczMzExXiUAAAAAAgBWKQDMzMzOz04pAZmZmZuaRi0CamZmZGVCMQM3MzMxMDo1AAAAAAIDMjUAzMzMzs4qOQGZmZmbmSI9A\",\"dtype\":\"float64\",\"shape\":[75]}},\"selected\":{\"id\":\"67f7867d-de99-42b7-9838-2d4d39b9c2b4\",\"type\":\"Selection\"},\"selection_policy\":{\"id\":\"a05de0c8-065f-474f-b761-15e4a777d4d5\",\"type\":\"UnionRenderers\"}},\"id\":\"54d49318-546b-4d58-9629-ac10faccdb6f\",\"type\":\"ColumnDataSource\"},{\"attributes\":{\"source\":{\"id\":\"54d49318-546b-4d58-9629-ac10faccdb6f\",\"type\":\"ColumnDataSource\"}},\"id\":\"f3e08dad-1b94-4816-8442-5dc34faa5b60\",\"type\":\"CDSView\"},{\"attributes\":{\"line_alpha\":0.1,\"line_color\":\"#1f77b4\",\"line_dash\":[6],\"line_width\":5,\"x\":{\"field\":\"x\"},\"y\":{\"field\":\"y\"}},\"id\":\"209fff52-ebce-4199-a4cd-333adc1ba969\",\"type\":\"Line\"},{\"attributes\":{},\"id\":\"52e9d661-2edc-4593-bf63-fc57e0ec8716\",\"type\":\"WheelZoomTool\"},{\"attributes\":{},\"id\":\"95462a6d-318c-4871-afde-1c0bda98f0f4\",\"type\":\"Selection\"},{\"attributes\":{\"overlay\":{\"id\":\"508aa67d-8818-445c-9b15-66edc530a1ab\",\"type\":\"BoxAnnotation\"}},\"id\":\"d587839f-de22-4387-aa1c-1579bc0ed3d8\",\"type\":\"BoxZoomTool\"},{\"attributes\":{\"label\":{\"value\":\"CRD\"},\"renderers\":[{\"id\":\"34971f6a-234f-4980-ad38-39a800d74024\",\"type\":\"GlyphRenderer\"},{\"id\":\"2a303650-3fca-4fb7-b86f-7b0f854ef776\",\"type\":\"GlyphRenderer\"}]},\"id\":\"abe1db27-6c7d-4c12-bd65-2b42b78b8832\",\"type\":\"LegendItem\"},{\"attributes\":{\"callback\":null,\"end\":9.035190623822302,\"start\":-0.4658846520523},\"id\":\"73087c98-d5bf-42f9-8341-0ef4fc0abb1b\",\"type\":\"Range1d\"},{\"attributes\":{},\"id\":\"e910b0ac-54e9-4fd1-8647-4afcf154550d\",\"type\":\"LinearScale\"},{\"attributes\":{},\"id\":\"53b69395-76eb-49e1-9cd9-ca22c9374ad4\",\"type\":\"UnionRenderers\"},{\"attributes\":{\"callback\":null,\"end\":0.01,\"start\":1020},\"id\":\"eddb5107-389c-4a99-8082-6a38b6f0c0ff\",\"type\":\"Range1d\"},{\"attributes\":{\"children\":[{\"id\":\"779548a2-41d2-41bd-9fdb-768fa56d96ea\",\"type\":\"ToolbarBox\"},{\"id\":\"3d20e8f2-a2b6-4f08-9f67-42871d280bb7\",\"type\":\"Column\"}]},\"id\":\"0fa6a483-6de6-409a-8ec9-69f8fd2ad149\",\"type\":\"Column\"},{\"attributes\":{\"fill_alpha\":{\"value\":0.1},\"fill_color\":{\"value\":\"#1f77b4\"},\"line_alpha\":{\"value\":0.1},\"line_color\":{\"value\":\"#1f77b4\"},\"x\":{\"field\":\"x\"},\"y\":{\"field\":\"y\"}},\"id\":\"73bf73a8-38f7-46c1-919d-fd80fdb04ab8\",\"type\":\"Circle\"},{\"attributes\":{},\"id\":\"ffd5e575-e4a9-406d-b835-c279a31c0431\",\"type\":\"Selection\"},{\"attributes\":{\"tools\":[{\"id\":\"9df11e91-f1a7-408f-bbc0-330063251850\",\"type\":\"PanTool\"},{\"id\":\"de9b0a45-3cd4-4f81-afd5-b7e2a48f39ba\",\"type\":\"WheelZoomTool\"},{\"id\":\"bb52df52-068c-457c-aea7-18f1ed13401b\",\"type\":\"BoxZoomTool\"},{\"id\":\"797405dd-bb02-4a2f-bd62-a1ae168627f0\",\"type\":\"SaveTool\"},{\"id\":\"0e5d9452-c0aa-4a84-b400-3d96ba7da267\",\"type\":\"ResetTool\"},{\"id\":\"9fca3ee2-696d-45d5-bb85-2329542921fe\",\"type\":\"HelpTool\"},{\"id\":\"77516bd4-7440-4023-812b-3d4dda81618f\",\"type\":\"PanTool\"},{\"id\":\"52e9d661-2edc-4593-bf63-fc57e0ec8716\",\"type\":\"WheelZoomTool\"},{\"id\":\"d587839f-de22-4387-aa1c-1579bc0ed3d8\",\"type\":\"BoxZoomTool\"},{\"id\":\"632d9aee-9166-4d6f-8d0e-d12256754e48\",\"type\":\"SaveTool\"},{\"id\":\"e9ecebd1-62bc-4bbd-a91c-d5af547ce3cd\",\"type\":\"ResetTool\"},{\"id\":\"f0e325db-df9f-407b-813b-e52f7a62dee5\",\"type\":\"HelpTool\"},{\"id\":\"06596ad0-211d-471f-bff3-d464247974be\",\"type\":\"PanTool\"},{\"id\":\"6ac3f6e7-80c9-45b5-b8df-471b6e8d0577\",\"type\":\"WheelZoomTool\"},{\"id\":\"47786a09-d314-4e3f-88da-4890891f0b17\",\"type\":\"BoxZoomTool\"},{\"id\":\"16d5a320-9cdb-4909-be43-86ed1ab72f7a\",\"type\":\"SaveTool\"},{\"id\":\"0b6f8111-db58-4ea3-8161-fb3daf4163a6\",\"type\":\"ResetTool\"},{\"id\":\"f06fedcb-81e8-482e-b190-9f00d9b93a0f\",\"type\":\"HelpTool\"}]},\"id\":\"60f779fa-8e72-4465-87e7-9adfe5f5b0cb\",\"type\":\"ProxyToolbar\"},{\"attributes\":{\"data_source\":{\"id\":\"201f7c7d-7f31-4f94-b67b-5acfb954644f\",\"type\":\"ColumnDataSource\"},\"glyph\":{\"id\":\"4c4eb66b-f43a-4a8c-9e17-1e45dc0722d1\",\"type\":\"Line\"},\"hover_glyph\":null,\"muted_glyph\":null,\"nonselection_glyph\":{\"id\":\"69e2ff67-5116-4649-b156-83098faf4926\",\"type\":\"Line\"},\"selection_glyph\":null,\"view\":{\"id\":\"463688c7-c7f3-4104-80ef-5d1b0ebcbddc\",\"type\":\"CDSView\"}},\"id\":\"7e21e964-85bc-4be5-85b1-276e0682f6ba\",\"type\":\"GlyphRenderer\"},{\"attributes\":{\"ticker\":null},\"id\":\"ab38a019-10a4-4ad1-a88f-a3a768aab471\",\"type\":\"LogTickFormatter\"},{\"attributes\":{\"callback\":null,\"data\":{\"x\":{\"__ndarray__\":\"52+IGjihS0DeLix8DglFQMqj/2qOPUJAa3wG/BbvPUD25gJElxM3QKjQxwYhyDBAYgfuWonsJ0B0ToQAcNYhQP7M7luj8hxAVkG6ZnWuGED0ZNDia5QUQLBXylDuEhBALQONpCQPBkDpZRFcvpT0P4NUYMJVd+0//rPqW/RK/z9Lj2OY56wIQLGWkQDomw9Ao5D80aapEkBgBO9Vu0EVQED2CxFPaRlA+WdwHkGbIECyHLLT4GUhQMxVSWZp7h1AKItguzLfGEC4EG+TDZITQJ0ngr2CuxBANHrVNdxnDUCbxIKfe7MIQPwa1gdjDgRANIim4152AEBqmikNMjb5P1VWrMBdG/M/SHgGGRgI8D8pd9xGvDLjP55yPkOBJnc/2oLOruva17+0UkQiBhzRv1ocQ44wEZA/Ma9V2lgEtD9NNvvKXhK9P9dfaJI1msE/jAf1m+uOwz+/QLxp1K7EP5TZZkPzYsU/U9oVDET1xT+jO+TE4IPGP0+evTFHYcc/QXtfNR1HyD/9IovMI2fJP3bmQayYs8o/MXdmZdzhyz/UsWvLaF7NP3URw2BEkM4/F3xCSRQQ0D9EplZBB6vQP70QzLtsZ9E//HIkQMQd0j+R1Nt/zvTSP3s4e8K2B9Q/DgeI0Khj1T8bVdRJx6/WP5sik9aX4dY/PBOf3U+t1T8Nm41Fdq3TP2UWRIwuEtI/YoTZoFN00T8NT0MdXPbRPzMiS0Fb4NI/owWM2CXW0z+UcoWbNvHUPzlp3IuPDtY/6jeeDi5t1z+YrtziTLnZPw1DiIQf5+E/\",\"dtype\":\"float64\",\"shape\":[75]},\"y\":{\"__ndarray__\":\"GhExyth1ND/Sv8nbtpRIP2vylNV0PVE/aTum7souWD/At0SJ8fVgPw3Iuahxymc/MSNhhJWvcD/bTfBN02d3P2zb5nxnaoA/CD5h5MAGhz8NmeH1TyaQP+zrCsc9p5Y/LbKd76fGnz/bLW5ISEmmPww9YvTcQq8/JV2OstnstT8Er5Y7M8G+P0c+r3jqkcU/5h99k6ZBzj88bCIzFzjVP4enV8oyxN0//yH99nXg5D8qOpLLf0jtP5kqGJXUifQ/c9cS8kHP/D+/DpwzojQEQIEmwoanVwxA4lgXt9HgE0BSSZ2AJuIbQAMJih9jjiNA5q4l5INuK0AwTKYKRj0zQNv5fmq8/DpAaCJseHrtQkB/+zpwzoxKQM3MzMzMeFJAZmZmZmZqWEAAAAAAAFxeQM3MzMzMJmJAmpmZmZkfZUBmZmZmZhhoQDMzMzMzEWtAAAAAAAAKbkBmZmZmZoFwQM3MzMzM/XFAMzMzMzN6c0CamZmZmfZ0QAAAAAAAc3ZAZmZmZmbvd0DNzMzMzGt5QDMzMzMz6HpAmpmZmZlkfEAAAAAAAOF9QGZmZmZmXX9AZmZmZuZsgECamZmZGSuBQM3MzMxM6YFAAAAAAICngkAzMzMzs2WDQGZmZmbmI4RAmpmZmRnihEDNzMzMTKCFQAAAAACAXoZAMzMzM7Mch0BmZmZm5tqHQJqZmZkZmYhAzczMzExXiUAAAAAAgBWKQDMzMzOz04pAZmZmZuaRi0CamZmZGVCMQM3MzMxMDo1AAAAAAIDMjUAzMzMzs4qOQGZmZmbmSI9A\",\"dtype\":\"float64\",\"shape\":[75]}},\"selected\":{\"id\":\"2a51a829-3c42-4f1f-be37-803745d19110\",\"type\":\"Selection\"},\"selection_policy\":{\"id\":\"53b69395-76eb-49e1-9cd9-ca22c9374ad4\",\"type\":\"UnionRenderers\"}},\"id\":\"d3bcfd3a-f45e-4836-9750-f8f3280527db\",\"type\":\"ColumnDataSource\"},{\"attributes\":{},\"id\":\"cbb3c88c-d185-4271-861a-337d9a5a6a00\",\"type\":\"UnionRenderers\"},{\"attributes\":{\"data_source\":{\"id\":\"2d07ae12-4992-4f7f-a025-35b40ebe80cb\",\"type\":\"ColumnDataSource\"},\"glyph\":{\"id\":\"c6747b8a-7f0f-4325-844a-e63f9c5e9e0e\",\"type\":\"Line\"},\"hover_glyph\":null,\"muted_glyph\":null,\"nonselection_glyph\":{\"id\":\"2d141f48-f901-4c6f-ac99-3f13640cb89c\",\"type\":\"Line\"},\"selection_glyph\":null,\"view\":{\"id\":\"b2af7bee-b91a-4f95-9d14-6d5f9386d08f\",\"type\":\"CDSView\"}},\"id\":\"8bfdaceb-4218-454c-95f7-0d37d481cef7\",\"type\":\"GlyphRenderer\"},{\"attributes\":{},\"id\":\"d0a544c6-4a66-432e-ac88-3b84137fea97\",\"type\":\"UnionRenderers\"},{\"attributes\":{\"line_color\":\"#4daf4a\",\"line_width\":1.5,\"x\":{\"field\":\"x\"},\"y\":{\"field\":\"y\"}},\"id\":\"e14e78cf-5b0e-48d3-ab91-a638e526493a\",\"type\":\"Line\"},{\"attributes\":{\"num_minor_ticks\":10},\"id\":\"013b2542-0c1a-4be6-ad84-6c329869af2e\",\"type\":\"LogTicker\"},{\"attributes\":{\"data_source\":{\"id\":\"54d49318-546b-4d58-9629-ac10faccdb6f\",\"type\":\"ColumnDataSource\"},\"glyph\":{\"id\":\"a28e6409-3ee5-4c8a-942e-cbc4878ce93d\",\"type\":\"Circle\"},\"hover_glyph\":null,\"muted_glyph\":null,\"nonselection_glyph\":{\"id\":\"73bf73a8-38f7-46c1-919d-fd80fdb04ab8\",\"type\":\"Circle\"},\"selection_glyph\":null,\"view\":{\"id\":\"f3e08dad-1b94-4816-8442-5dc34faa5b60\",\"type\":\"CDSView\"}},\"id\":\"ff3dbecf-c7e8-4709-aee1-33bd96c0cb34\",\"type\":\"GlyphRenderer\"},{\"attributes\":{},\"id\":\"0a52e60f-51ff-4d6e-8b56-1662568d33a7\",\"type\":\"BasicTickFormatter\"},{\"attributes\":{},\"id\":\"b80b7691-9f1a-46c2-b70c-acaed6ba8ac4\",\"type\":\"BasicTickFormatter\"},{\"attributes\":{\"fill_alpha\":{\"value\":0.1},\"fill_color\":{\"value\":\"#1f77b4\"},\"line_alpha\":{\"value\":0.1},\"line_color\":{\"value\":\"#1f77b4\"},\"x\":{\"field\":\"x\"},\"y\":{\"field\":\"y\"}},\"id\":\"5ae94d99-19f2-4dbb-b873-6c7ec25a7308\",\"type\":\"Circle\"},{\"attributes\":{\"data_source\":{\"id\":\"a428d849-d362-4113-b5bb-a23bb63b494e\",\"type\":\"ColumnDataSource\"},\"glyph\":{\"id\":\"9931e597-6f9d-40db-bd6b-4adf067def46\",\"type\":\"Circle\"},\"hover_glyph\":null,\"muted_glyph\":null,\"nonselection_glyph\":{\"id\":\"5ae94d99-19f2-4dbb-b873-6c7ec25a7308\",\"type\":\"Circle\"},\"selection_glyph\":null,\"view\":{\"id\":\"29992d8d-5589-4aa7-992d-c66286714cdc\",\"type\":\"CDSView\"}},\"id\":\"85b1c5c8-a827-49c5-8a75-e908ad17d84f\",\"type\":\"GlyphRenderer\"},{\"attributes\":{\"fill_alpha\":{\"value\":0.7},\"fill_color\":{\"value\":\"#4daf4a\"},\"line_alpha\":{\"value\":0.7},\"line_color\":{\"value\":\"#4daf4a\"},\"x\":{\"field\":\"x\"},\"y\":{\"field\":\"y\"}},\"id\":\"a28e6409-3ee5-4c8a-942e-cbc4878ce93d\",\"type\":\"Circle\"},{\"attributes\":{},\"id\":\"ab1dbe37-c315-41d1-be2d-e4d6ef2010e9\",\"type\":\"BasicTicker\"},{\"attributes\":{\"source\":{\"id\":\"201f7c7d-7f31-4f94-b67b-5acfb954644f\",\"type\":\"ColumnDataSource\"}},\"id\":\"463688c7-c7f3-4104-80ef-5d1b0ebcbddc\",\"type\":\"CDSView\"},{\"attributes\":{\"axis_label\":\"pressure [mb]\",\"formatter\":{\"id\":\"ab38a019-10a4-4ad1-a88f-a3a768aab471\",\"type\":\"LogTickFormatter\"},\"plot\":{\"id\":\"8ed9023a-135f-431d-96c1-f53e6116dc99\",\"subtype\":\"Figure\",\"type\":\"Plot\"},\"ticker\":{\"id\":\"013b2542-0c1a-4be6-ad84-6c329869af2e\",\"type\":\"LogTicker\"}},\"id\":\"ade8b3bd-d07c-49e4-9a71-351b1283ed83\",\"type\":\"LogAxis\"},{\"attributes\":{\"callback\":null,\"data\":{\"x\":{\"__ndarray__\":\"Ak0UGO5rU0DkDr+k4dVEQDUDNddX90BA0cN95CEWO0ACw9Iqsl01QHVY9cN1yjBA2/MjiT17KkC/3kuBzw4lQHeJSKqJ5yBALPSJnmROG0AXyqWfqvsVQGTJnUvRThFAnFYWaTRICUCIPDvn8Pb6P1QziI3nafM/sj5JR7mRAEDyWsNCTOgHQOnquS8GlQ1AbZjfMGO/EUAQUldBg2QVQA9ajbnr1hpAVhVwiB6KIUD0yvpvU+IhQOdtOc4eLx5AQyKb0ht7GUC+zU/0L3oUQFdnNK7KtRBA20mC3wHpC0Ao9K4bQHMHQC/US+LwjgNAhA7pmDQCAEC0ly+qNnv5PyS+pMzlqfM/eZEfJmdt7j9fNps12kzhP4aJSZ0BEZI/Uf2N0Iar1b/nCNV3JPvQv4yn2m/ws0g/CXQcshdHsj/AJIILeFK8PwFEKwMIkME/Xb6V75AXxD9Sb/hiiRXGP2gPAEhpt8c/uZeZKLIVyT8ltSCwA0LKP1UpJVvQSMs/FJJu2MgxzD88MxC3ggfNP3hBoL2r0M0/y49JiYSTzj+Z9VYjSlLPP0qKx0JGCdA/GPq8rpNt0D8CzH6aqNfQP13meO3gTNE/tfVCZk/X0T8t1SHI3ITSP9BUHIe5ddM/S9wYwsq41D8sXm9NiPHVP/3h306/J9Y/8S+6J4zg1D9GjPE1UeHSP4KWGWrgRNE/sIck6m2y0D+/oPrI4ynRP1HHy6B/HtI/Wn6GlgEn0z+uQ5hPFDDUPyGzDX3rU9U/xt6pzlO+1j858uaGJOfYPy7FVWXfleE/\",\"dtype\":\"float64\",\"shape\":[75]},\"y\":{\"__ndarray__\":\"GhExyth1ND/Sv8nbtpRIP2vylNV0PVE/aTum7souWD/At0SJ8fVgPw3Iuahxymc/MSNhhJWvcD/bTfBN02d3P2zb5nxnaoA/CD5h5MAGhz8NmeH1TyaQP+zrCsc9p5Y/LbKd76fGnz/bLW5ISEmmPww9YvTcQq8/JV2OstnstT8Er5Y7M8G+P0c+r3jqkcU/5h99k6ZBzj88bCIzFzjVP4enV8oyxN0//yH99nXg5D8qOpLLf0jtP5kqGJXUifQ/c9cS8kHP/D+/DpwzojQEQIEmwoanVwxA4lgXt9HgE0BSSZ2AJuIbQAMJih9jjiNA5q4l5INuK0AwTKYKRj0zQNv5fmq8/DpAaCJseHrtQkB/+zpwzoxKQM3MzMzMeFJAZmZmZmZqWEAAAAAAAFxeQM3MzMzMJmJAmpmZmZkfZUBmZmZmZhhoQDMzMzMzEWtAAAAAAAAKbkBmZmZmZoFwQM3MzMzM/XFAMzMzMzN6c0CamZmZmfZ0QAAAAAAAc3ZAZmZmZmbvd0DNzMzMzGt5QDMzMzMz6HpAmpmZmZlkfEAAAAAAAOF9QGZmZmZmXX9AZmZmZuZsgECamZmZGSuBQM3MzMxM6YFAAAAAAICngkAzMzMzs2WDQGZmZmbmI4RAmpmZmRnihEDNzMzMTKCFQAAAAACAXoZAMzMzM7Mch0BmZmZm5tqHQJqZmZkZmYhAzczMzExXiUAAAAAAgBWKQDMzMzOz04pAZmZmZuaRi0CamZmZGVCMQM3MzMxMDo1AAAAAAIDMjUAzMzMzs4qOQGZmZmbmSI9A\",\"dtype\":\"float64\",\"shape\":[75]}},\"selected\":{\"id\":\"9ebe4c41-da8d-454a-8749-d569d48536d2\",\"type\":\"Selection\"},\"selection_policy\":{\"id\":\"be29800c-71ed-4ecb-883e-8d8615f9f24e\",\"type\":\"UnionRenderers\"}},\"id\":\"201f7c7d-7f31-4f94-b67b-5acfb954644f\",\"type\":\"ColumnDataSource\"},{\"attributes\":{\"ticker\":null},\"id\":\"7d28f609-1701-4e26-9ab7-09cd248bffa8\",\"type\":\"LogTickFormatter\"},{\"attributes\":{\"line_alpha\":0.1,\"line_color\":\"#1f77b4\",\"line_width\":1.5,\"x\":{\"field\":\"x\"},\"y\":{\"field\":\"y\"}},\"id\":\"43657c33-632e-4165-96fc-02f791f1bd95\",\"type\":\"Line\"},{\"attributes\":{},\"id\":\"632d9aee-9166-4d6f-8d0e-d12256754e48\",\"type\":\"SaveTool\"},{\"attributes\":{\"callback\":null,\"data\":{\"x\":{\"__ndarray__\":\"PFRAK0htNsBV/Y+2a5bZP2EJqjxpYwRAxcRFvKjHBkArPwKTUV77P/ZnPmzppYK/yWOvcaF19L9bgjwG/ML5v7gXieK/cfO/vpZ9vnn/5L8vUlbN63PWvzwbN60vvtO/fptKJH7I2b99WqcsyojZv0okYLHyuNK/ZpZ8KuOHvb/kiga0apO4PzhevYYON9A/vgafI3RIzT+61ya09WOhv+c8FojK2da/gKv1P63b3b9ZkCsSpxzPv8oGBvxZLbC/RuNS5yJ9w7/GoBccTATNvwYTATc94HY/rQUzZaXtxz8mBz09uAPEPy+zkWKJ3K8/wmter5IKrT/QUn9BJ0GRv735DH8B0aG/cvHVvpAsqj+XDBQUIV6uP7vZ85jCjoi/TSwE8iZ7ob/O5qQ31XBgvzuOiBUil44/cLKTgxLUez+8MSLv1/xnP2yrN3oeWzQ/BtoWdKoUcb8/6cKTT2uGv6CuySSwo5K/Musd5HADmb8WzONZF/GdvzNYPEtJPJ+/lbZ4GF1Vn7/zgShU9wKdvw3Y8oqY6Ji/08QYH0GNlb9dPLR+FT6Pv/ExwEyCJIi/XICfXtlfd78v3xKUrFBmv2RhKlPOi1o/x1FfeDadcT/Q2H/ubfx7P2513GunP4I/iFjlzcFbhT+n3Z6M38eHP8oTaPYQO4c/XGmcvHaYiT+y2IHzoYSJP3j8T0XEqYk/Kpaf1rY8iD/dyRWJCo+JPzVc6w90O4g/LemwQIjkhT+63KV9SSSIP+rC1tmBVIc/niSL/kfbhT+7i7d+C0WKP9J3n8wHUIQ/\",\"dtype\":\"float64\",\"shape\":[75]},\"y\":{\"__ndarray__\":\"GhExyth1ND/Sv8nbtpRIP2vylNV0PVE/aTum7souWD/At0SJ8fVgPw3Iuahxymc/MSNhhJWvcD/bTfBN02d3P2zb5nxnaoA/CD5h5MAGhz8NmeH1TyaQP+zrCsc9p5Y/LbKd76fGnz/bLW5ISEmmPww9YvTcQq8/JV2OstnstT8Er5Y7M8G+P0c+r3jqkcU/5h99k6ZBzj88bCIzFzjVP4enV8oyxN0//yH99nXg5D8qOpLLf0jtP5kqGJXUifQ/c9cS8kHP/D+/DpwzojQEQIEmwoanVwxA4lgXt9HgE0BSSZ2AJuIbQAMJih9jjiNA5q4l5INuK0AwTKYKRj0zQNv5fmq8/DpAaCJseHrtQkB/+zpwzoxKQM3MzMzMeFJAZmZmZmZqWEAAAAAAAFxeQM3MzMzMJmJAmpmZmZkfZUBmZmZmZhhoQDMzMzMzEWtAAAAAAAAKbkBmZmZmZoFwQM3MzMzM/XFAMzMzMzN6c0CamZmZmfZ0QAAAAAAAc3ZAZmZmZmbvd0DNzMzMzGt5QDMzMzMz6HpAmpmZmZlkfEAAAAAAAOF9QGZmZmZmXX9AZmZmZuZsgECamZmZGSuBQM3MzMxM6YFAAAAAAICngkAzMzMzs2WDQGZmZmbmI4RAmpmZmRnihEDNzMzMTKCFQAAAAACAXoZAMzMzM7Mch0BmZmZm5tqHQJqZmZkZmYhAzczMzExXiUAAAAAAgBWKQDMzMzOz04pAZmZmZuaRi0CamZmZGVCMQM3MzMxMDo1AAAAAAIDMjUAzMzMzs4qOQGZmZmbmSI9A\",\"dtype\":\"float64\",\"shape\":[75]}},\"selected\":{\"id\":\"95462a6d-318c-4871-afde-1c0bda98f0f4\",\"type\":\"Selection\"},\"selection_policy\":{\"id\":\"11195da2-f494-424a-a1f1-b7c22b85d0a4\",\"type\":\"UnionRenderers\"}},\"id\":\"5aad59a4-235a-4285-bd9f-ead6eeacf913\",\"type\":\"ColumnDataSource\"},{\"attributes\":{},\"id\":\"2a51a829-3c42-4f1f-be37-803745d19110\",\"type\":\"Selection\"},{\"attributes\":{\"active_drag\":\"auto\",\"active_inspect\":\"auto\",\"active_scroll\":\"auto\",\"active_tap\":\"auto\",\"tools\":[{\"id\":\"77516bd4-7440-4023-812b-3d4dda81618f\",\"type\":\"PanTool\"},{\"id\":\"52e9d661-2edc-4593-bf63-fc57e0ec8716\",\"type\":\"WheelZoomTool\"},{\"id\":\"d587839f-de22-4387-aa1c-1579bc0ed3d8\",\"type\":\"BoxZoomTool\"},{\"id\":\"632d9aee-9166-4d6f-8d0e-d12256754e48\",\"type\":\"SaveTool\"},{\"id\":\"e9ecebd1-62bc-4bbd-a91c-d5af547ce3cd\",\"type\":\"ResetTool\"},{\"id\":\"f0e325db-df9f-407b-813b-e52f7a62dee5\",\"type\":\"HelpTool\"}]},\"id\":\"e9960780-fdb7-43f2-a2d3-0fe23a3a54d0\",\"type\":\"Toolbar\"},{\"attributes\":{\"plot\":{\"id\":\"8ed9023a-135f-431d-96c1-f53e6116dc99\",\"subtype\":\"Figure\",\"type\":\"Plot\"},\"ticker\":{\"id\":\"ab1dbe37-c315-41d1-be2d-e4d6ef2010e9\",\"type\":\"BasicTicker\"}},\"id\":\"bd2008ab-2edc-45bd-a697-2afd1614d3fd\",\"type\":\"Grid\"},{\"attributes\":{\"line_color\":\"#4daf4a\",\"line_width\":1.5,\"x\":{\"field\":\"x\"},\"y\":{\"field\":\"y\"}},\"id\":\"4c4eb66b-f43a-4a8c-9e17-1e45dc0722d1\",\"type\":\"Line\"},{\"attributes\":{},\"id\":\"77516bd4-7440-4023-812b-3d4dda81618f\",\"type\":\"PanTool\"},{\"attributes\":{},\"id\":\"c43fe4bf-0c64-4052-9ab9-4f07ba2000ff\",\"type\":\"LogScale\"},{\"attributes\":{\"plot\":null,\"text\":\"\"},\"id\":\"98615031-a33d-4ea1-b1bb-d40c60fd7e08\",\"type\":\"Title\"},{\"attributes\":{},\"id\":\"6d9f48a8-e1b5-4051-ba24-0c6619df89d5\",\"type\":\"LogScale\"},{\"attributes\":{},\"id\":\"f0e325db-df9f-407b-813b-e52f7a62dee5\",\"type\":\"HelpTool\"},{\"attributes\":{\"toolbar\":{\"id\":\"60f779fa-8e72-4465-87e7-9adfe5f5b0cb\",\"type\":\"ProxyToolbar\"},\"toolbar_location\":\"above\"},\"id\":\"779548a2-41d2-41bd-9fdb-768fa56d96ea\",\"type\":\"ToolbarBox\"},{\"attributes\":{\"source\":{\"id\":\"13c52ebf-f36b-4c8e-8721-60dcd553b231\",\"type\":\"ColumnDataSource\"}},\"id\":\"cb2c05d3-fa49-447b-a0c4-9407c4067a1d\",\"type\":\"CDSView\"},{\"attributes\":{\"label\":{\"value\":\"CLIRAD\"},\"renderers\":[{\"id\":\"5ec1d951-8b0f-4f54-bfaf-a5ae09c56b5a\",\"type\":\"GlyphRenderer\"}]},\"id\":\"9c3fde60-2ddc-45e6-afea-4f28769c1883\",\"type\":\"LegendItem\"},{\"attributes\":{\"line_alpha\":0.1,\"line_color\":\"#1f77b4\",\"line_dash\":[6],\"line_width\":5,\"x\":{\"field\":\"x\"},\"y\":{\"field\":\"y\"}},\"id\":\"2d141f48-f901-4c6f-ac99-3f13640cb89c\",\"type\":\"Line\"},{\"attributes\":{\"source\":{\"id\":\"2d07ae12-4992-4f7f-a025-35b40ebe80cb\",\"type\":\"ColumnDataSource\"}},\"id\":\"b2af7bee-b91a-4f95-9d14-6d5f9386d08f\",\"type\":\"CDSView\"},{\"attributes\":{\"plot\":null,\"text\":\"\"},\"id\":\"fac34bba-94f8-4b4c-9dea-8932f9720a2b\",\"type\":\"Title\"},{\"attributes\":{\"line_alpha\":0.1,\"line_color\":\"#1f77b4\",\"line_width\":1.5,\"x\":{\"field\":\"x\"},\"y\":{\"field\":\"y\"}},\"id\":\"69e2ff67-5116-4649-b156-83098faf4926\",\"type\":\"Line\"},{\"attributes\":{\"source\":{\"id\":\"a428d849-d362-4113-b5bb-a23bb63b494e\",\"type\":\"ColumnDataSource\"}},\"id\":\"29992d8d-5589-4aa7-992d-c66286714cdc\",\"type\":\"CDSView\"},{\"attributes\":{\"label\":{\"value\":\"CRD\"},\"renderers\":[{\"id\":\"ff3dbecf-c7e8-4709-aee1-33bd96c0cb34\",\"type\":\"GlyphRenderer\"},{\"id\":\"7e21e964-85bc-4be5-85b1-276e0682f6ba\",\"type\":\"GlyphRenderer\"}]},\"id\":\"7c1fd7a6-2bc9-4b18-b43a-251e1f1babab\",\"type\":\"LegendItem\"},{\"attributes\":{\"dimension\":1,\"plot\":{\"id\":\"8ed9023a-135f-431d-96c1-f53e6116dc99\",\"subtype\":\"Figure\",\"type\":\"Plot\"},\"ticker\":{\"id\":\"013b2542-0c1a-4be6-ad84-6c329869af2e\",\"type\":\"LogTicker\"}},\"id\":\"a33f4f15-cea7-40c6-b7e7-9d6663c66119\",\"type\":\"Grid\"},{\"attributes\":{\"line_alpha\":0.6,\"line_color\":\"#e41a1c\",\"line_dash\":[6],\"line_width\":5,\"x\":{\"field\":\"x\"},\"y\":{\"field\":\"y\"}},\"id\":\"5aa89437-39f8-4ce4-8607-ea599f760c11\",\"type\":\"Line\"},{\"attributes\":{\"callback\":null,\"end\":0.01,\"start\":1020},\"id\":\"eb8a6204-1206-40d9-9354-9db9723c328e\",\"type\":\"Range1d\"},{\"attributes\":{},\"id\":\"e9ecebd1-62bc-4bbd-a91c-d5af547ce3cd\",\"type\":\"ResetTool\"},{\"attributes\":{\"axis_label\":\"cooling rate [K/day]\",\"formatter\":{\"id\":\"b80b7691-9f1a-46c2-b70c-acaed6ba8ac4\",\"type\":\"BasicTickFormatter\"},\"plot\":{\"id\":\"8ed9023a-135f-431d-96c1-f53e6116dc99\",\"subtype\":\"Figure\",\"type\":\"Plot\"},\"ticker\":{\"id\":\"ab1dbe37-c315-41d1-be2d-e4d6ef2010e9\",\"type\":\"BasicTicker\"}},\"id\":\"751556ee-fb48-4d4c-9260-dc8ed63c97fe\",\"type\":\"LinearAxis\"},{\"attributes\":{\"callback\":null,\"data\":{\"x\":{\"__ndarray__\":\"Ak0UGO5rU0DkDr+k4dVEQDUDNddX90BA0cN95CEWO0ACw9Iqsl01QHVY9cN1yjBA2/MjiT17KkC/3kuBzw4lQHeJSKqJ5yBALPSJnmROG0AXyqWfqvsVQGTJnUvRThFAnFYWaTRICUCIPDvn8Pb6P1QziI3nafM/sj5JR7mRAEDyWsNCTOgHQOnquS8GlQ1AbZjfMGO/EUAQUldBg2QVQA9ajbnr1hpAVhVwiB6KIUD0yvpvU+IhQOdtOc4eLx5AQyKb0ht7GUC+zU/0L3oUQFdnNK7KtRBA20mC3wHpC0Ao9K4bQHMHQC/US+LwjgNAhA7pmDQCAEC0ly+qNnv5PyS+pMzlqfM/eZEfJmdt7j9fNps12kzhP4aJSZ0BEZI/Uf2N0Iar1b/nCNV3JPvQv4yn2m/ws0g/CXQcshdHsj/AJIILeFK8PwFEKwMIkME/Xb6V75AXxD9Sb/hiiRXGP2gPAEhpt8c/uZeZKLIVyT8ltSCwA0LKP1UpJVvQSMs/FJJu2MgxzD88MxC3ggfNP3hBoL2r0M0/y49JiYSTzj+Z9VYjSlLPP0qKx0JGCdA/GPq8rpNt0D8CzH6aqNfQP13meO3gTNE/tfVCZk/X0T8t1SHI3ITSP9BUHIe5ddM/S9wYwsq41D8sXm9NiPHVP/3h306/J9Y/8S+6J4zg1D9GjPE1UeHSP4KWGWrgRNE/sIck6m2y0D+/oPrI4ynRP1HHy6B/HtI/Wn6GlgEn0z+uQ5hPFDDUPyGzDX3rU9U/xt6pzlO+1j858uaGJOfYPy7FVWXfleE/\",\"dtype\":\"float64\",\"shape\":[75]},\"y\":{\"__ndarray__\":\"GhExyth1ND/Sv8nbtpRIP2vylNV0PVE/aTum7souWD/At0SJ8fVgPw3Iuahxymc/MSNhhJWvcD/bTfBN02d3P2zb5nxnaoA/CD5h5MAGhz8NmeH1TyaQP+zrCsc9p5Y/LbKd76fGnz/bLW5ISEmmPww9YvTcQq8/JV2OstnstT8Er5Y7M8G+P0c+r3jqkcU/5h99k6ZBzj88bCIzFzjVP4enV8oyxN0//yH99nXg5D8qOpLLf0jtP5kqGJXUifQ/c9cS8kHP/D+/DpwzojQEQIEmwoanVwxA4lgXt9HgE0BSSZ2AJuIbQAMJih9jjiNA5q4l5INuK0AwTKYKRj0zQNv5fmq8/DpAaCJseHrtQkB/+zpwzoxKQM3MzMzMeFJAZmZmZmZqWEAAAAAAAFxeQM3MzMzMJmJAmpmZmZkfZUBmZmZmZhhoQDMzMzMzEWtAAAAAAAAKbkBmZmZmZoFwQM3MzMzM/XFAMzMzMzN6c0CamZmZmfZ0QAAAAAAAc3ZAZmZmZmbvd0DNzMzMzGt5QDMzMzMz6HpAmpmZmZlkfEAAAAAAAOF9QGZmZmZmXX9AZmZmZuZsgECamZmZGSuBQM3MzMxM6YFAAAAAAICngkAzMzMzs2WDQGZmZmbmI4RAmpmZmRnihEDNzMzMTKCFQAAAAACAXoZAMzMzM7Mch0BmZmZm5tqHQJqZmZkZmYhAzczMzExXiUAAAAAAgBWKQDMzMzOz04pAZmZmZuaRi0CamZmZGVCMQM3MzMxMDo1AAAAAAIDMjUAzMzMzs4qOQGZmZmbmSI9A\",\"dtype\":\"float64\",\"shape\":[75]}},\"selected\":{\"id\":\"f0a23d85-8cdc-490c-ae94-4ee69bef7395\",\"type\":\"Selection\"},\"selection_policy\":{\"id\":\"cbb3c88c-d185-4271-861a-337d9a5a6a00\",\"type\":\"UnionRenderers\"}},\"id\":\"13c52ebf-f36b-4c8e-8721-60dcd553b231\",\"type\":\"ColumnDataSource\"},{\"attributes\":{},\"id\":\"11195da2-f494-424a-a1f1-b7c22b85d0a4\",\"type\":\"UnionRenderers\"},{\"attributes\":{\"items\":[{\"id\":\"9c3fde60-2ddc-45e6-afea-4f28769c1883\",\"type\":\"LegendItem\"},{\"id\":\"abe1db27-6c7d-4c12-bd65-2b42b78b8832\",\"type\":\"LegendItem\"}],\"label_text_font_size\":{\"value\":\"8pt\"},\"location\":\"top_center\",\"orientation\":\"horizontal\",\"plot\":{\"id\":\"8ed9023a-135f-431d-96c1-f53e6116dc99\",\"subtype\":\"Figure\",\"type\":\"Plot\"}},\"id\":\"0f6e9fbb-7817-4f48-9ed0-d1a95d6f452e\",\"type\":\"Legend\"}],\"root_ids\":[\"0fa6a483-6de6-409a-8ec9-69f8fd2ad149\"]},\"title\":\"Bokeh Application\",\"version\":\"0.12.16\"}};\n",
       "  var render_items = [{\"docid\":\"45dea581-27db-409e-af9b-d0abbb6b380d\",\"elementid\":\"1baeede3-e474-460b-96d6-e2891fe1794e\",\"modelid\":\"0fa6a483-6de6-409a-8ec9-69f8fd2ad149\"}];\n",
       "  root.Bokeh.embed.embed_items_notebook(docs_json, render_items);\n",
       "\n",
       "  }\n",
       "  if (root.Bokeh !== undefined) {\n",
       "    embed_document(root);\n",
       "  } else {\n",
       "    var attempts = 0;\n",
       "    var timer = setInterval(function(root) {\n",
       "      if (root.Bokeh !== undefined) {\n",
       "        embed_document(root);\n",
       "        clearInterval(timer);\n",
       "      }\n",
       "      attempts++;\n",
       "      if (attempts > 100) {\n",
       "        console.log(\"Bokeh: ERROR: Unable to run BokehJS code because BokehJS library is missing\")\n",
       "        clearInterval(timer);\n",
       "      }\n",
       "    }, 10, root)\n",
       "  }\n",
       "})(window);"
      ],
      "application/vnd.bokehjs_exec.v0+json": ""
     },
     "metadata": {
      "application/vnd.bokehjs_exec.v0+json": {
       "id": "0fa6a483-6de6-409a-8ec9-69f8fd2ad149"
      }
     },
     "output_type": "display_data"
    },
    {
     "data": {
      "text/markdown": [
       "*FIGURE.* Cooling rates & difference."
      ],
      "text/plain": [
       "<IPython.core.display.Markdown object>"
      ]
     },
     "metadata": {},
     "output_type": "display_data"
    },
    {
     "data": {
      "text/html": [
       "<a id=\"Fluxes._trp.\"></a>"
      ],
      "text/plain": [
       "<IPython.core.display.HTML object>"
      ]
     },
     "metadata": {},
     "output_type": "display_data"
    },
    {
     "data": {
      "text/markdown": [
       "# Fluxes. trp."
      ],
      "text/plain": [
       "<IPython.core.display.Markdown object>"
      ]
     },
     "metadata": {},
     "output_type": "display_data"
    },
    {
     "data": {
      "text/html": [
       "\n",
       "<div class=\"bk-root\">\n",
       "    <div class=\"bk-plotdiv\" id=\"67c12dd7-4fb7-4bd7-b800-b3789074b020\"></div>\n",
       "</div>"
      ]
     },
     "metadata": {},
     "output_type": "display_data"
    },
    {
     "data": {
      "application/javascript": [
       "(function(root) {\n",
       "  function embed_document(root) {\n",
       "    \n",
       "  var docs_json = {\"39f2a562-2e76-45d5-8111-5d574be70be5\":{\"roots\":{\"references\":[{\"attributes\":{\"tools\":[{\"id\":\"81f412bd-d17e-41b9-98a3-2b740ad677da\",\"type\":\"PanTool\"},{\"id\":\"f5314833-bfb7-4cff-9dec-532de727044e\",\"type\":\"WheelZoomTool\"},{\"id\":\"483e48ba-53be-4666-91a9-0c9fd2112a66\",\"type\":\"BoxZoomTool\"},{\"id\":\"9f1e387d-a58f-474d-9d78-0d476d1ac2cf\",\"type\":\"SaveTool\"},{\"id\":\"7c517572-ba7e-4923-b413-dc64cbd29442\",\"type\":\"ResetTool\"},{\"id\":\"9be011cd-206f-471e-9989-3ae3941b7280\",\"type\":\"HelpTool\"},{\"id\":\"5c7c378c-a711-4c90-9476-e78e791afb54\",\"type\":\"PanTool\"},{\"id\":\"be94cb0d-482a-4ea3-8c60-3ee9157d8091\",\"type\":\"WheelZoomTool\"},{\"id\":\"8e6d976a-dd6e-4530-983d-4ce08fe80623\",\"type\":\"BoxZoomTool\"},{\"id\":\"87458bfa-7e25-4248-96f6-0000281c958c\",\"type\":\"SaveTool\"},{\"id\":\"55b90e48-31c3-494b-9314-98d141914708\",\"type\":\"ResetTool\"},{\"id\":\"36194a39-387e-4e6a-8749-fa167bbd5906\",\"type\":\"HelpTool\"},{\"id\":\"4021fb71-2224-479e-9fcb-cf51596638c6\",\"type\":\"PanTool\"},{\"id\":\"46869137-d782-4f1b-af34-cc29b2aa007b\",\"type\":\"WheelZoomTool\"},{\"id\":\"be134150-ed54-4525-a13a-90552e521797\",\"type\":\"BoxZoomTool\"},{\"id\":\"58fd80a1-19f7-4a81-bf75-96222ba504ff\",\"type\":\"SaveTool\"},{\"id\":\"2d68d050-69af-40e6-9514-345de29635be\",\"type\":\"ResetTool\"},{\"id\":\"fa29374b-dd3f-461e-9bb8-480d4085843e\",\"type\":\"HelpTool\"}]},\"id\":\"0ab59a56-c6db-4dac-8895-f1db1f3e0b91\",\"type\":\"ProxyToolbar\"},{\"attributes\":{\"plot\":{\"id\":\"ed31d692-e33a-44a6-a04c-5c64b53733e7\",\"subtype\":\"Figure\",\"type\":\"Plot\"},\"ticker\":{\"id\":\"01038c21-7d2b-4a4f-819d-007c96cbb307\",\"type\":\"CategoricalTicker\"}},\"id\":\"47709815-8244-426e-b606-40b304d043b3\",\"type\":\"Grid\"},{\"attributes\":{\"data_source\":{\"id\":\"1dae869b-abe1-4cb7-a106-a6886d86301f\",\"type\":\"ColumnDataSource\"},\"glyph\":{\"id\":\"5f1f76a5-b6e4-4ad2-ae97-b1b3a9688c4b\",\"type\":\"VBar\"},\"hover_glyph\":null,\"muted_glyph\":null,\"nonselection_glyph\":{\"id\":\"e475256c-9f25-4ff7-8fc6-e86b22b411dc\",\"type\":\"VBar\"},\"selection_glyph\":null,\"view\":{\"id\":\"d958a433-58d0-4cd4-8ba7-d5494e6f2336\",\"type\":\"CDSView\"}},\"id\":\"c3739640-4499-4234-a7df-fe90d565d1ac\",\"type\":\"GlyphRenderer\"},{\"attributes\":{\"callback\":null},\"id\":\"eb94da12-2460-4bed-a526-7904044c61b5\",\"type\":\"DataRange1d\"},{\"attributes\":{},\"id\":\"ba962843-8469-49ca-97f3-98b52181d85c\",\"type\":\"LinearScale\"},{\"attributes\":{},\"id\":\"46869137-d782-4f1b-af34-cc29b2aa007b\",\"type\":\"WheelZoomTool\"},{\"attributes\":{},\"id\":\"fa29374b-dd3f-461e-9bb8-480d4085843e\",\"type\":\"HelpTool\"},{\"attributes\":{},\"id\":\"4021fb71-2224-479e-9fcb-cf51596638c6\",\"type\":\"PanTool\"},{\"attributes\":{\"callback\":null,\"factors\":[\"3\",\"4\",\"5\",\"6\",\"7\",\"11\"]},\"id\":\"9ca9f66f-049f-4d5c-a80e-855144b9546b\",\"type\":\"FactorRange\"},{\"attributes\":{},\"id\":\"e9fcd82b-81f9-47f7-843d-cf13ba555e78\",\"type\":\"BasicTicker\"},{\"attributes\":{},\"id\":\"cc75ae6a-dd80-4ff6-8c74-65e601b74fb9\",\"type\":\"BasicTicker\"},{\"attributes\":{},\"id\":\"23d29d05-cb4f-4a06-9ef9-fc2a8974cbce\",\"type\":\"BasicTicker\"},{\"attributes\":{\"children\":[{\"id\":\"ed31d692-e33a-44a6-a04c-5c64b53733e7\",\"subtype\":\"Figure\",\"type\":\"Plot\"},{\"id\":\"6189205e-6d55-4ca0-bdfe-0a868a95f11d\",\"subtype\":\"Figure\",\"type\":\"Plot\"},{\"id\":\"da0cb71b-926d-4cd7-9788-aec515215433\",\"subtype\":\"Figure\",\"type\":\"Plot\"}]},\"id\":\"68ef7bf3-4bae-4e95-aaed-aefba1c8ab95\",\"type\":\"Row\"},{\"attributes\":{},\"id\":\"1da4fd82-724f-4b85-a2ca-d1373a871483\",\"type\":\"UnionRenderers\"},{\"attributes\":{},\"id\":\"7c517572-ba7e-4923-b413-dc64cbd29442\",\"type\":\"ResetTool\"},{\"attributes\":{\"axis_label\":\"spectral band\",\"formatter\":{\"id\":\"a29c7af6-974c-4db5-9d35-5468c05f2b57\",\"type\":\"CategoricalTickFormatter\"},\"plot\":{\"id\":\"ed31d692-e33a-44a6-a04c-5c64b53733e7\",\"subtype\":\"Figure\",\"type\":\"Plot\"},\"ticker\":{\"id\":\"01038c21-7d2b-4a4f-819d-007c96cbb307\",\"type\":\"CategoricalTicker\"}},\"id\":\"6ab36e7b-858b-40c3-914a-1c0c43c2eccf\",\"type\":\"CategoricalAxis\"},{\"attributes\":{\"source\":{\"id\":\"1dae869b-abe1-4cb7-a106-a6886d86301f\",\"type\":\"ColumnDataSource\"}},\"id\":\"d958a433-58d0-4cd4-8ba7-d5494e6f2336\",\"type\":\"CDSView\"},{\"attributes\":{\"plot\":null,\"text\":\"TOA flux. CLIRAD - CRD.\"},\"id\":\"49b642d2-ca95-4d8f-b845-808cc2e38d9f\",\"type\":\"Title\"},{\"attributes\":{},\"id\":\"93217f34-b005-48b1-9b93-f3ff5fb5c29c\",\"type\":\"BasicTickFormatter\"},{\"attributes\":{},\"id\":\"f190f809-e5d9-4930-9be7-56070154474b\",\"type\":\"BasicTickFormatter\"},{\"attributes\":{\"children\":[{\"id\":\"68ef7bf3-4bae-4e95-aaed-aefba1c8ab95\",\"type\":\"Row\"}]},\"id\":\"56e022e9-c135-4f1a-8462-4bc64df2a996\",\"type\":\"Column\"},{\"attributes\":{\"callback\":null,\"data\":{\"band\":[\"3\",\"4\",\"5\",\"6\",\"7\",\"11\"],\"flux\":{\"__ndarray__\":\"AIHR5c3hxL8Arq5UYX3UPwB+NnLdlL6/AGDeVQ+Ylz8A+DQnLzKRP4BQFfgvtbC/\",\"dtype\":\"float64\",\"shape\":[6]}},\"selected\":{\"id\":\"b91278c8-b183-42f0-87fc-215d5253931e\",\"type\":\"Selection\"},\"selection_policy\":{\"id\":\"fcfde9ff-b68b-4bc8-a5bc-71731a111c36\",\"type\":\"UnionRenderers\"}},\"id\":\"1dae869b-abe1-4cb7-a106-a6886d86301f\",\"type\":\"ColumnDataSource\"},{\"attributes\":{},\"id\":\"a29c7af6-974c-4db5-9d35-5468c05f2b57\",\"type\":\"CategoricalTickFormatter\"},{\"attributes\":{\"axis_label\":\"flux (W m-2)\",\"formatter\":{\"id\":\"f190f809-e5d9-4930-9be7-56070154474b\",\"type\":\"BasicTickFormatter\"},\"plot\":{\"id\":\"6189205e-6d55-4ca0-bdfe-0a868a95f11d\",\"subtype\":\"Figure\",\"type\":\"Plot\"},\"ticker\":{\"id\":\"23d29d05-cb4f-4a06-9ef9-fc2a8974cbce\",\"type\":\"BasicTicker\"}},\"id\":\"e93c0ba2-60fc-4090-a5a0-7d9f56d13ab4\",\"type\":\"LinearAxis\"},{\"attributes\":{},\"id\":\"00d64a8b-162b-4633-8387-18423136b260\",\"type\":\"Selection\"},{\"attributes\":{},\"id\":\"9be011cd-206f-471e-9989-3ae3941b7280\",\"type\":\"HelpTool\"},{\"attributes\":{\"overlay\":{\"id\":\"85a49299-0fed-41e1-ae90-3ace975c5aef\",\"type\":\"BoxAnnotation\"}},\"id\":\"be134150-ed54-4525-a13a-90552e521797\",\"type\":\"BoxZoomTool\"},{\"attributes\":{},\"id\":\"2cd5ac95-73e9-4cce-8f52-43933209a73a\",\"type\":\"LinearScale\"},{\"attributes\":{\"active_drag\":\"auto\",\"active_inspect\":\"auto\",\"active_scroll\":\"auto\",\"active_tap\":\"auto\",\"tools\":[{\"id\":\"5c7c378c-a711-4c90-9476-e78e791afb54\",\"type\":\"PanTool\"},{\"id\":\"be94cb0d-482a-4ea3-8c60-3ee9157d8091\",\"type\":\"WheelZoomTool\"},{\"id\":\"8e6d976a-dd6e-4530-983d-4ce08fe80623\",\"type\":\"BoxZoomTool\"},{\"id\":\"87458bfa-7e25-4248-96f6-0000281c958c\",\"type\":\"SaveTool\"},{\"id\":\"55b90e48-31c3-494b-9314-98d141914708\",\"type\":\"ResetTool\"},{\"id\":\"36194a39-387e-4e6a-8749-fa167bbd5906\",\"type\":\"HelpTool\"}]},\"id\":\"f9608b55-e110-4e4e-96a4-d08fe2c3b63a\",\"type\":\"Toolbar\"},{\"attributes\":{\"data_source\":{\"id\":\"b82f3c5b-f07a-43f8-a47a-221b23b499cb\",\"type\":\"ColumnDataSource\"},\"glyph\":{\"id\":\"b0ae0cd7-7f6f-4836-90bf-4b2e2224cd6f\",\"type\":\"VBar\"},\"hover_glyph\":null,\"muted_glyph\":null,\"nonselection_glyph\":{\"id\":\"34617fcd-6ef2-4740-94e7-88fd9c846880\",\"type\":\"VBar\"},\"selection_glyph\":null,\"view\":{\"id\":\"258132d4-8ec3-43cd-944a-8321f9a5a0ac\",\"type\":\"CDSView\"}},\"id\":\"1fbbf0bf-9183-41de-a1fd-c4a6c77f80ac\",\"type\":\"GlyphRenderer\"},{\"attributes\":{\"toolbar\":{\"id\":\"0ab59a56-c6db-4dac-8895-f1db1f3e0b91\",\"type\":\"ProxyToolbar\"},\"toolbar_location\":\"above\"},\"id\":\"f0d8db84-4908-4076-aa08-84daec5316df\",\"type\":\"ToolbarBox\"},{\"attributes\":{\"callback\":null},\"id\":\"cbe660f5-9d3d-409c-bb8d-ae6d704a09d1\",\"type\":\"DataRange1d\"},{\"attributes\":{\"axis_label\":\"spectral band\",\"formatter\":{\"id\":\"dc0fd3f6-fc69-4302-a6e6-78c3e9f1bb51\",\"type\":\"CategoricalTickFormatter\"},\"plot\":{\"id\":\"da0cb71b-926d-4cd7-9788-aec515215433\",\"subtype\":\"Figure\",\"type\":\"Plot\"},\"ticker\":{\"id\":\"18c4e0e4-2eb6-4e74-805b-0c1cc20448a0\",\"type\":\"CategoricalTicker\"}},\"id\":\"4cea77ff-0994-49ca-a6f1-18d5082ed398\",\"type\":\"CategoricalAxis\"},{\"attributes\":{\"active_drag\":\"auto\",\"active_inspect\":\"auto\",\"active_scroll\":\"auto\",\"active_tap\":\"auto\",\"tools\":[{\"id\":\"81f412bd-d17e-41b9-98a3-2b740ad677da\",\"type\":\"PanTool\"},{\"id\":\"f5314833-bfb7-4cff-9dec-532de727044e\",\"type\":\"WheelZoomTool\"},{\"id\":\"483e48ba-53be-4666-91a9-0c9fd2112a66\",\"type\":\"BoxZoomTool\"},{\"id\":\"9f1e387d-a58f-474d-9d78-0d476d1ac2cf\",\"type\":\"SaveTool\"},{\"id\":\"7c517572-ba7e-4923-b413-dc64cbd29442\",\"type\":\"ResetTool\"},{\"id\":\"9be011cd-206f-471e-9989-3ae3941b7280\",\"type\":\"HelpTool\"}]},\"id\":\"98280d61-828a-45f3-8f15-464015fc1702\",\"type\":\"Toolbar\"},{\"attributes\":{},\"id\":\"18c4e0e4-2eb6-4e74-805b-0c1cc20448a0\",\"type\":\"CategoricalTicker\"},{\"attributes\":{},\"id\":\"dc0fd3f6-fc69-4302-a6e6-78c3e9f1bb51\",\"type\":\"CategoricalTickFormatter\"},{\"attributes\":{\"fill_alpha\":{\"value\":0.1},\"fill_color\":{\"value\":\"#1f77b4\"},\"line_alpha\":{\"value\":0.1},\"line_color\":{\"value\":\"#1f77b4\"},\"top\":{\"field\":\"flux\"},\"width\":{\"value\":0.9},\"x\":{\"field\":\"band\"}},\"id\":\"34617fcd-6ef2-4740-94e7-88fd9c846880\",\"type\":\"VBar\"},{\"attributes\":{\"data_source\":{\"id\":\"3e876901-0b69-45e0-8977-b8746002f7ff\",\"type\":\"ColumnDataSource\"},\"glyph\":{\"id\":\"092eaaeb-c939-46a6-9efb-e1588b322c49\",\"type\":\"VBar\"},\"hover_glyph\":null,\"muted_glyph\":null,\"nonselection_glyph\":{\"id\":\"00410b0a-ab6b-47a8-b7e7-e4c0671ed876\",\"type\":\"VBar\"},\"selection_glyph\":null,\"view\":{\"id\":\"e68ac0e4-108f-4c8c-a603-6d02e6372185\",\"type\":\"CDSView\"}},\"id\":\"aa358972-8d6d-4f1b-b2ba-ec128f16039a\",\"type\":\"GlyphRenderer\"},{\"attributes\":{},\"id\":\"81f412bd-d17e-41b9-98a3-2b740ad677da\",\"type\":\"PanTool\"},{\"attributes\":{},\"id\":\"51894888-df19-4ef7-baaf-e7a6b1a3b390\",\"type\":\"LinearScale\"},{\"attributes\":{\"axis_label\":\"flux (W m-2)\",\"formatter\":{\"id\":\"746adfef-371e-4c62-9077-a26ef7ffd493\",\"type\":\"BasicTickFormatter\"},\"plot\":{\"id\":\"da0cb71b-926d-4cd7-9788-aec515215433\",\"subtype\":\"Figure\",\"type\":\"Plot\"},\"ticker\":{\"id\":\"e9fcd82b-81f9-47f7-843d-cf13ba555e78\",\"type\":\"BasicTicker\"}},\"id\":\"5051e3d6-de18-420b-8515-53048b478c16\",\"type\":\"LinearAxis\"},{\"attributes\":{\"fill_alpha\":{\"value\":0.1},\"fill_color\":{\"value\":\"#1f77b4\"},\"line_alpha\":{\"value\":0.1},\"line_color\":{\"value\":\"#1f77b4\"},\"top\":{\"field\":\"flux\"},\"width\":{\"value\":0.9},\"x\":{\"field\":\"band\"}},\"id\":\"e475256c-9f25-4ff7-8fc6-e86b22b411dc\",\"type\":\"VBar\"},{\"attributes\":{},\"id\":\"dc4a8c1f-d767-4ce2-9b21-02444dfe3533\",\"type\":\"CategoricalTickFormatter\"},{\"attributes\":{\"plot\":{\"id\":\"6189205e-6d55-4ca0-bdfe-0a868a95f11d\",\"subtype\":\"Figure\",\"type\":\"Plot\"},\"ticker\":{\"id\":\"f2e3e41b-1771-4da1-8ab9-372f3f9f46cd\",\"type\":\"CategoricalTicker\"}},\"id\":\"391587ec-cabb-430d-89d8-3097f75649e0\",\"type\":\"Grid\"},{\"attributes\":{},\"id\":\"be94cb0d-482a-4ea3-8c60-3ee9157d8091\",\"type\":\"WheelZoomTool\"},{\"attributes\":{},\"id\":\"465000b3-1dec-4a10-96d2-c13184806810\",\"type\":\"CategoricalScale\"},{\"attributes\":{},\"id\":\"9f1e387d-a58f-474d-9d78-0d476d1ac2cf\",\"type\":\"SaveTool\"},{\"attributes\":{\"dimension\":1,\"plot\":{\"id\":\"da0cb71b-926d-4cd7-9788-aec515215433\",\"subtype\":\"Figure\",\"type\":\"Plot\"},\"ticker\":{\"id\":\"e9fcd82b-81f9-47f7-843d-cf13ba555e78\",\"type\":\"BasicTicker\"}},\"id\":\"a57ef90c-c278-4fcf-9aac-bb3c2b07827b\",\"type\":\"Grid\"},{\"attributes\":{},\"id\":\"d50f572a-e6da-428b-9548-519e549845d6\",\"type\":\"Selection\"},{\"attributes\":{\"source\":{\"id\":\"b82f3c5b-f07a-43f8-a47a-221b23b499cb\",\"type\":\"ColumnDataSource\"}},\"id\":\"258132d4-8ec3-43cd-944a-8321f9a5a0ac\",\"type\":\"CDSView\"},{\"attributes\":{},\"id\":\"746adfef-371e-4c62-9077-a26ef7ffd493\",\"type\":\"BasicTickFormatter\"},{\"attributes\":{\"fill_color\":{\"value\":\"#1f77b4\"},\"line_color\":{\"value\":\"#1f77b4\"},\"top\":{\"field\":\"flux\"},\"width\":{\"value\":0.9},\"x\":{\"field\":\"band\"}},\"id\":\"5f1f76a5-b6e4-4ad2-ae97-b1b3a9688c4b\",\"type\":\"VBar\"},{\"attributes\":{},\"id\":\"f2e3e41b-1771-4da1-8ab9-372f3f9f46cd\",\"type\":\"CategoricalTicker\"},{\"attributes\":{},\"id\":\"2d68d050-69af-40e6-9514-345de29635be\",\"type\":\"ResetTool\"},{\"attributes\":{\"children\":[{\"id\":\"f0d8db84-4908-4076-aa08-84daec5316df\",\"type\":\"ToolbarBox\"},{\"id\":\"56e022e9-c135-4f1a-8462-4bc64df2a996\",\"type\":\"Column\"}]},\"id\":\"8c247249-6e21-4587-9cd8-b8c93fe04a98\",\"type\":\"Column\"},{\"attributes\":{\"callback\":null,\"factors\":[\"3\",\"4\",\"5\",\"6\",\"7\",\"11\"]},\"id\":\"b22c22a6-9c6a-433b-85a5-c18a0b68a463\",\"type\":\"FactorRange\"},{\"attributes\":{\"axis_label\":\"spectral band\",\"formatter\":{\"id\":\"dc4a8c1f-d767-4ce2-9b21-02444dfe3533\",\"type\":\"CategoricalTickFormatter\"},\"plot\":{\"id\":\"6189205e-6d55-4ca0-bdfe-0a868a95f11d\",\"subtype\":\"Figure\",\"type\":\"Plot\"},\"ticker\":{\"id\":\"f2e3e41b-1771-4da1-8ab9-372f3f9f46cd\",\"type\":\"CategoricalTicker\"}},\"id\":\"4eddc76a-0cbc-48a4-8aa6-fb3c9a7b9f26\",\"type\":\"CategoricalAxis\"},{\"attributes\":{\"below\":[{\"id\":\"4cea77ff-0994-49ca-a6f1-18d5082ed398\",\"type\":\"CategoricalAxis\"}],\"left\":[{\"id\":\"5051e3d6-de18-420b-8515-53048b478c16\",\"type\":\"LinearAxis\"}],\"plot_height\":300,\"plot_width\":300,\"renderers\":[{\"id\":\"4cea77ff-0994-49ca-a6f1-18d5082ed398\",\"type\":\"CategoricalAxis\"},{\"id\":\"09104476-1210-4fa4-bb1e-51399c760d8f\",\"type\":\"Grid\"},{\"id\":\"5051e3d6-de18-420b-8515-53048b478c16\",\"type\":\"LinearAxis\"},{\"id\":\"a57ef90c-c278-4fcf-9aac-bb3c2b07827b\",\"type\":\"Grid\"},{\"id\":\"85a49299-0fed-41e1-ae90-3ace975c5aef\",\"type\":\"BoxAnnotation\"},{\"id\":\"c3739640-4499-4234-a7df-fe90d565d1ac\",\"type\":\"GlyphRenderer\"}],\"title\":{\"id\":\"901ed3a5-57db-443d-9b6b-857c9039ae77\",\"type\":\"Title\"},\"toolbar\":{\"id\":\"27b23126-9506-4cf2-a953-66599556e94e\",\"type\":\"Toolbar\"},\"toolbar_location\":null,\"x_range\":{\"id\":\"3034bf66-5029-4f50-b9d5-679e773dd360\",\"type\":\"FactorRange\"},\"x_scale\":{\"id\":\"465000b3-1dec-4a10-96d2-c13184806810\",\"type\":\"CategoricalScale\"},\"y_range\":{\"id\":\"cf3c036c-d7bb-4ff6-93b3-0d8691671266\",\"type\":\"DataRange1d\"},\"y_scale\":{\"id\":\"ba962843-8469-49ca-97f3-98b52181d85c\",\"type\":\"LinearScale\"}},\"id\":\"da0cb71b-926d-4cd7-9788-aec515215433\",\"subtype\":\"Figure\",\"type\":\"Plot\"},{\"attributes\":{\"dimension\":1,\"plot\":{\"id\":\"ed31d692-e33a-44a6-a04c-5c64b53733e7\",\"subtype\":\"Figure\",\"type\":\"Plot\"},\"ticker\":{\"id\":\"cc75ae6a-dd80-4ff6-8c74-65e601b74fb9\",\"type\":\"BasicTicker\"}},\"id\":\"6c69f87d-3df2-434d-8e94-39983d5df521\",\"type\":\"Grid\"},{\"attributes\":{\"active_drag\":\"auto\",\"active_inspect\":\"auto\",\"active_scroll\":\"auto\",\"active_tap\":\"auto\",\"tools\":[{\"id\":\"4021fb71-2224-479e-9fcb-cf51596638c6\",\"type\":\"PanTool\"},{\"id\":\"46869137-d782-4f1b-af34-cc29b2aa007b\",\"type\":\"WheelZoomTool\"},{\"id\":\"be134150-ed54-4525-a13a-90552e521797\",\"type\":\"BoxZoomTool\"},{\"id\":\"58fd80a1-19f7-4a81-bf75-96222ba504ff\",\"type\":\"SaveTool\"},{\"id\":\"2d68d050-69af-40e6-9514-345de29635be\",\"type\":\"ResetTool\"},{\"id\":\"fa29374b-dd3f-461e-9bb8-480d4085843e\",\"type\":\"HelpTool\"}]},\"id\":\"27b23126-9506-4cf2-a953-66599556e94e\",\"type\":\"Toolbar\"},{\"attributes\":{\"plot\":null,\"text\":\"SFC flux. CLIRAD - CRD.\"},\"id\":\"b7c1ae1a-0632-493d-b2cc-ddcab5c292a4\",\"type\":\"Title\"},{\"attributes\":{},\"id\":\"5f7ced49-d648-48d1-913e-296246782ede\",\"type\":\"UnionRenderers\"},{\"attributes\":{\"plot\":{\"id\":\"da0cb71b-926d-4cd7-9788-aec515215433\",\"subtype\":\"Figure\",\"type\":\"Plot\"},\"ticker\":{\"id\":\"18c4e0e4-2eb6-4e74-805b-0c1cc20448a0\",\"type\":\"CategoricalTicker\"}},\"id\":\"09104476-1210-4fa4-bb1e-51399c760d8f\",\"type\":\"Grid\"},{\"attributes\":{\"overlay\":{\"id\":\"e1bae9c7-00db-4292-9e1e-78513b7b8a81\",\"type\":\"BoxAnnotation\"}},\"id\":\"483e48ba-53be-4666-91a9-0c9fd2112a66\",\"type\":\"BoxZoomTool\"},{\"attributes\":{},\"id\":\"5c7c378c-a711-4c90-9476-e78e791afb54\",\"type\":\"PanTool\"},{\"attributes\":{\"bottom_units\":\"screen\",\"fill_alpha\":{\"value\":0.5},\"fill_color\":{\"value\":\"lightgrey\"},\"left_units\":\"screen\",\"level\":\"overlay\",\"line_alpha\":{\"value\":1.0},\"line_color\":{\"value\":\"black\"},\"line_dash\":[4,4],\"line_width\":{\"value\":2},\"plot\":null,\"render_mode\":\"css\",\"right_units\":\"screen\",\"top_units\":\"screen\"},\"id\":\"ae821d5f-3555-4f36-9572-6639218b6832\",\"type\":\"BoxAnnotation\"},{\"attributes\":{\"fill_color\":{\"value\":\"#1f77b4\"},\"line_color\":{\"value\":\"#1f77b4\"},\"top\":{\"field\":\"flux\"},\"width\":{\"value\":0.9},\"x\":{\"field\":\"band\"}},\"id\":\"092eaaeb-c939-46a6-9efb-e1588b322c49\",\"type\":\"VBar\"},{\"attributes\":{\"below\":[{\"id\":\"6ab36e7b-858b-40c3-914a-1c0c43c2eccf\",\"type\":\"CategoricalAxis\"}],\"left\":[{\"id\":\"09239aba-5dc6-4b03-bdf0-86613f5aef54\",\"type\":\"LinearAxis\"}],\"plot_height\":300,\"plot_width\":300,\"renderers\":[{\"id\":\"6ab36e7b-858b-40c3-914a-1c0c43c2eccf\",\"type\":\"CategoricalAxis\"},{\"id\":\"47709815-8244-426e-b606-40b304d043b3\",\"type\":\"Grid\"},{\"id\":\"09239aba-5dc6-4b03-bdf0-86613f5aef54\",\"type\":\"LinearAxis\"},{\"id\":\"6c69f87d-3df2-434d-8e94-39983d5df521\",\"type\":\"Grid\"},{\"id\":\"e1bae9c7-00db-4292-9e1e-78513b7b8a81\",\"type\":\"BoxAnnotation\"},{\"id\":\"1fbbf0bf-9183-41de-a1fd-c4a6c77f80ac\",\"type\":\"GlyphRenderer\"}],\"title\":{\"id\":\"49b642d2-ca95-4d8f-b845-808cc2e38d9f\",\"type\":\"Title\"},\"toolbar\":{\"id\":\"98280d61-828a-45f3-8f15-464015fc1702\",\"type\":\"Toolbar\"},\"toolbar_location\":null,\"x_range\":{\"id\":\"b22c22a6-9c6a-433b-85a5-c18a0b68a463\",\"type\":\"FactorRange\"},\"x_scale\":{\"id\":\"8fa625fb-3276-42b3-9403-53e3184544cc\",\"type\":\"CategoricalScale\"},\"y_range\":{\"id\":\"cbe660f5-9d3d-409c-bb8d-ae6d704a09d1\",\"type\":\"DataRange1d\"},\"y_scale\":{\"id\":\"2cd5ac95-73e9-4cce-8f52-43933209a73a\",\"type\":\"LinearScale\"}},\"id\":\"ed31d692-e33a-44a6-a04c-5c64b53733e7\",\"subtype\":\"Figure\",\"type\":\"Plot\"},{\"attributes\":{\"fill_alpha\":{\"value\":0.1},\"fill_color\":{\"value\":\"#1f77b4\"},\"line_alpha\":{\"value\":0.1},\"line_color\":{\"value\":\"#1f77b4\"},\"top\":{\"field\":\"flux\"},\"width\":{\"value\":0.9},\"x\":{\"field\":\"band\"}},\"id\":\"00410b0a-ab6b-47a8-b7e7-e4c0671ed876\",\"type\":\"VBar\"},{\"attributes\":{},\"id\":\"58fd80a1-19f7-4a81-bf75-96222ba504ff\",\"type\":\"SaveTool\"},{\"attributes\":{\"plot\":null,\"text\":\"Atmosphere heating. CLIRAD - CRD.\"},\"id\":\"901ed3a5-57db-443d-9b6b-857c9039ae77\",\"type\":\"Title\"},{\"attributes\":{\"callback\":null,\"factors\":[\"3\",\"4\",\"5\",\"6\",\"7\",\"11\"]},\"id\":\"3034bf66-5029-4f50-b9d5-679e773dd360\",\"type\":\"FactorRange\"},{\"attributes\":{},\"id\":\"87458bfa-7e25-4248-96f6-0000281c958c\",\"type\":\"SaveTool\"},{\"attributes\":{\"callback\":null,\"data\":{\"band\":[\"3\",\"4\",\"5\",\"6\",\"7\",\"11\"],\"flux\":{\"__ndarray__\":\"AP7viArVpT8AOmVuvhG5P8Cb/BadLN8/4Kij42pksb/glooywKqrv7CO44dKI8U/\",\"dtype\":\"float64\",\"shape\":[6]}},\"selected\":{\"id\":\"00d64a8b-162b-4633-8387-18423136b260\",\"type\":\"Selection\"},\"selection_policy\":{\"id\":\"1da4fd82-724f-4b85-a2ca-d1373a871483\",\"type\":\"UnionRenderers\"}},\"id\":\"3e876901-0b69-45e0-8977-b8746002f7ff\",\"type\":\"ColumnDataSource\"},{\"attributes\":{},\"id\":\"fcfde9ff-b68b-4bc8-a5bc-71731a111c36\",\"type\":\"UnionRenderers\"},{\"attributes\":{\"fill_color\":{\"value\":\"#1f77b4\"},\"line_color\":{\"value\":\"#1f77b4\"},\"top\":{\"field\":\"flux\"},\"width\":{\"value\":0.9},\"x\":{\"field\":\"band\"}},\"id\":\"b0ae0cd7-7f6f-4836-90bf-4b2e2224cd6f\",\"type\":\"VBar\"},{\"attributes\":{\"callback\":null,\"data\":{\"band\":[\"3\",\"4\",\"5\",\"6\",\"7\",\"11\"],\"flux\":{\"__ndarray__\":\"AIBMa9PYvr+APQlszsHaP0D8brplh9c/AIBgVb38pr8ARBMoYhGjv4AmtWFekbk/\",\"dtype\":\"float64\",\"shape\":[6]}},\"selected\":{\"id\":\"d50f572a-e6da-428b-9548-519e549845d6\",\"type\":\"Selection\"},\"selection_policy\":{\"id\":\"5f7ced49-d648-48d1-913e-296246782ede\",\"type\":\"UnionRenderers\"}},\"id\":\"b82f3c5b-f07a-43f8-a47a-221b23b499cb\",\"type\":\"ColumnDataSource\"},{\"attributes\":{\"below\":[{\"id\":\"4eddc76a-0cbc-48a4-8aa6-fb3c9a7b9f26\",\"type\":\"CategoricalAxis\"}],\"left\":[{\"id\":\"e93c0ba2-60fc-4090-a5a0-7d9f56d13ab4\",\"type\":\"LinearAxis\"}],\"plot_height\":300,\"plot_width\":300,\"renderers\":[{\"id\":\"4eddc76a-0cbc-48a4-8aa6-fb3c9a7b9f26\",\"type\":\"CategoricalAxis\"},{\"id\":\"391587ec-cabb-430d-89d8-3097f75649e0\",\"type\":\"Grid\"},{\"id\":\"e93c0ba2-60fc-4090-a5a0-7d9f56d13ab4\",\"type\":\"LinearAxis\"},{\"id\":\"0fa6f18b-fa25-4bfe-962f-b524c52d34c4\",\"type\":\"Grid\"},{\"id\":\"ae821d5f-3555-4f36-9572-6639218b6832\",\"type\":\"BoxAnnotation\"},{\"id\":\"aa358972-8d6d-4f1b-b2ba-ec128f16039a\",\"type\":\"GlyphRenderer\"}],\"title\":{\"id\":\"b7c1ae1a-0632-493d-b2cc-ddcab5c292a4\",\"type\":\"Title\"},\"toolbar\":{\"id\":\"f9608b55-e110-4e4e-96a4-d08fe2c3b63a\",\"type\":\"Toolbar\"},\"toolbar_location\":null,\"x_range\":{\"id\":\"9ca9f66f-049f-4d5c-a80e-855144b9546b\",\"type\":\"FactorRange\"},\"x_scale\":{\"id\":\"d93793b0-2d46-4f23-bcf6-e6af5857c3eb\",\"type\":\"CategoricalScale\"},\"y_range\":{\"id\":\"eb94da12-2460-4bed-a526-7904044c61b5\",\"type\":\"DataRange1d\"},\"y_scale\":{\"id\":\"51894888-df19-4ef7-baaf-e7a6b1a3b390\",\"type\":\"LinearScale\"}},\"id\":\"6189205e-6d55-4ca0-bdfe-0a868a95f11d\",\"subtype\":\"Figure\",\"type\":\"Plot\"},{\"attributes\":{\"overlay\":{\"id\":\"ae821d5f-3555-4f36-9572-6639218b6832\",\"type\":\"BoxAnnotation\"}},\"id\":\"8e6d976a-dd6e-4530-983d-4ce08fe80623\",\"type\":\"BoxZoomTool\"},{\"attributes\":{\"axis_label\":\"flux (W m-2)\",\"formatter\":{\"id\":\"93217f34-b005-48b1-9b93-f3ff5fb5c29c\",\"type\":\"BasicTickFormatter\"},\"plot\":{\"id\":\"ed31d692-e33a-44a6-a04c-5c64b53733e7\",\"subtype\":\"Figure\",\"type\":\"Plot\"},\"ticker\":{\"id\":\"cc75ae6a-dd80-4ff6-8c74-65e601b74fb9\",\"type\":\"BasicTicker\"}},\"id\":\"09239aba-5dc6-4b03-bdf0-86613f5aef54\",\"type\":\"LinearAxis\"},{\"attributes\":{},\"id\":\"d93793b0-2d46-4f23-bcf6-e6af5857c3eb\",\"type\":\"CategoricalScale\"},{\"attributes\":{},\"id\":\"01038c21-7d2b-4a4f-819d-007c96cbb307\",\"type\":\"CategoricalTicker\"},{\"attributes\":{},\"id\":\"b91278c8-b183-42f0-87fc-215d5253931e\",\"type\":\"Selection\"},{\"attributes\":{\"bottom_units\":\"screen\",\"fill_alpha\":{\"value\":0.5},\"fill_color\":{\"value\":\"lightgrey\"},\"left_units\":\"screen\",\"level\":\"overlay\",\"line_alpha\":{\"value\":1.0},\"line_color\":{\"value\":\"black\"},\"line_dash\":[4,4],\"line_width\":{\"value\":2},\"plot\":null,\"render_mode\":\"css\",\"right_units\":\"screen\",\"top_units\":\"screen\"},\"id\":\"85a49299-0fed-41e1-ae90-3ace975c5aef\",\"type\":\"BoxAnnotation\"},{\"attributes\":{\"source\":{\"id\":\"3e876901-0b69-45e0-8977-b8746002f7ff\",\"type\":\"ColumnDataSource\"}},\"id\":\"e68ac0e4-108f-4c8c-a603-6d02e6372185\",\"type\":\"CDSView\"},{\"attributes\":{\"dimension\":1,\"plot\":{\"id\":\"6189205e-6d55-4ca0-bdfe-0a868a95f11d\",\"subtype\":\"Figure\",\"type\":\"Plot\"},\"ticker\":{\"id\":\"23d29d05-cb4f-4a06-9ef9-fc2a8974cbce\",\"type\":\"BasicTicker\"}},\"id\":\"0fa6f18b-fa25-4bfe-962f-b524c52d34c4\",\"type\":\"Grid\"},{\"attributes\":{},\"id\":\"f5314833-bfb7-4cff-9dec-532de727044e\",\"type\":\"WheelZoomTool\"},{\"attributes\":{},\"id\":\"36194a39-387e-4e6a-8749-fa167bbd5906\",\"type\":\"HelpTool\"},{\"attributes\":{\"bottom_units\":\"screen\",\"fill_alpha\":{\"value\":0.5},\"fill_color\":{\"value\":\"lightgrey\"},\"left_units\":\"screen\",\"level\":\"overlay\",\"line_alpha\":{\"value\":1.0},\"line_color\":{\"value\":\"black\"},\"line_dash\":[4,4],\"line_width\":{\"value\":2},\"plot\":null,\"render_mode\":\"css\",\"right_units\":\"screen\",\"top_units\":\"screen\"},\"id\":\"e1bae9c7-00db-4292-9e1e-78513b7b8a81\",\"type\":\"BoxAnnotation\"},{\"attributes\":{\"callback\":null},\"id\":\"cf3c036c-d7bb-4ff6-93b3-0d8691671266\",\"type\":\"DataRange1d\"},{\"attributes\":{},\"id\":\"8fa625fb-3276-42b3-9403-53e3184544cc\",\"type\":\"CategoricalScale\"},{\"attributes\":{},\"id\":\"55b90e48-31c3-494b-9314-98d141914708\",\"type\":\"ResetTool\"}],\"root_ids\":[\"8c247249-6e21-4587-9cd8-b8c93fe04a98\"]},\"title\":\"Bokeh Application\",\"version\":\"0.12.16\"}};\n",
       "  var render_items = [{\"docid\":\"39f2a562-2e76-45d5-8111-5d574be70be5\",\"elementid\":\"67c12dd7-4fb7-4bd7-b800-b3789074b020\",\"modelid\":\"8c247249-6e21-4587-9cd8-b8c93fe04a98\"}];\n",
       "  root.Bokeh.embed.embed_items_notebook(docs_json, render_items);\n",
       "\n",
       "  }\n",
       "  if (root.Bokeh !== undefined) {\n",
       "    embed_document(root);\n",
       "  } else {\n",
       "    var attempts = 0;\n",
       "    var timer = setInterval(function(root) {\n",
       "      if (root.Bokeh !== undefined) {\n",
       "        embed_document(root);\n",
       "        clearInterval(timer);\n",
       "      }\n",
       "      attempts++;\n",
       "      if (attempts > 100) {\n",
       "        console.log(\"Bokeh: ERROR: Unable to run BokehJS code because BokehJS library is missing\")\n",
       "        clearInterval(timer);\n",
       "      }\n",
       "    }, 10, root)\n",
       "  }\n",
       "})(window);"
      ],
      "application/vnd.bokehjs_exec.v0+json": ""
     },
     "metadata": {
      "application/vnd.bokehjs_exec.v0+json": {
       "id": "8c247249-6e21-4587-9cd8-b8c93fe04a98"
      }
     },
     "output_type": "display_data"
    },
    {
     "data": {
      "text/markdown": [
       "*FIGURE.* Difference between CLIRAD and CRD in TOA, SFC and net atmosphere flux, in each spectral band."
      ],
      "text/plain": [
       "<IPython.core.display.Markdown object>"
      ]
     },
     "metadata": {},
     "output_type": "display_data"
    },
    {
     "data": {
      "text/html": [
       "<div>\n",
       "<style scoped>\n",
       "    .dataframe tbody tr th:only-of-type {\n",
       "        vertical-align: middle;\n",
       "    }\n",
       "\n",
       "    .dataframe tbody tr th {\n",
       "        vertical-align: top;\n",
       "    }\n",
       "\n",
       "    .dataframe thead th {\n",
       "        text-align: right;\n",
       "    }\n",
       "</style>\n",
       "<table border=\"1\" class=\"dataframe\">\n",
       "  <thead>\n",
       "    <tr style=\"text-align: right;\">\n",
       "      <th></th>\n",
       "      <th>OLR flux</th>\n",
       "      <th>SFC flux</th>\n",
       "      <th>ATM heating</th>\n",
       "    </tr>\n",
       "    <tr>\n",
       "      <th>Sum over bands</th>\n",
       "      <th></th>\n",
       "      <th></th>\n",
       "      <th></th>\n",
       "    </tr>\n",
       "  </thead>\n",
       "  <tbody>\n",
       "    <tr>\n",
       "      <th>CLIRAD - CRD</th>\n",
       "      <td>0.68</td>\n",
       "      <td>0.67</td>\n",
       "      <td>0.01</td>\n",
       "    </tr>\n",
       "    <tr>\n",
       "      <th>CRD</th>\n",
       "      <td>-182.34</td>\n",
       "      <td>85.22</td>\n",
       "      <td>-36.52</td>\n",
       "    </tr>\n",
       "  </tbody>\n",
       "</table>\n",
       "</div>"
      ],
      "text/plain": [
       "                OLR flux  SFC flux  ATM heating\n",
       "Sum over bands                                 \n",
       "CLIRAD - CRD        0.68      0.67         0.01\n",
       "CRD              -182.34     85.22       -36.52"
      ]
     },
     "metadata": {},
     "output_type": "display_data"
    },
    {
     "data": {
      "text/markdown": [
       "*TABLE.* Difference between CLIRAD and CRD in TOA, SFC and net atmosphere flux, over all spectral bands. CRD's TOA, SFC and net atmosphere flux, over all spectral bands."
      ],
      "text/plain": [
       "<IPython.core.display.Markdown object>"
      ]
     },
     "metadata": {},
     "output_type": "display_data"
    },
    {
     "data": {
      "text/html": [
       "Download: <a href=\"./results_co2atm_cliradsinglerun.xlsx\">results_co2atm_cliradsinglerun.xlsx</a>"
      ],
      "text/plain": [
       "<IPython.core.display.HTML object>"
      ]
     },
     "metadata": {},
     "output_type": "display_data"
    }
   ],
   "source": [
    "def script():\n",
    "    \n",
    "    d_atm = {'mls': 'mid-latitude summer',\n",
    "             'saw': 'sub-arctic winter',\n",
    "             'trp': 'tropical'}\n",
    "    \n",
    "    title = ('## Results over entire range of molecules'\n",
    "             ' and spectral bands')\n",
    "    \n",
    "    s_makeup = 'Makeup of atmosphere.'\n",
    "    s_atmpro = '# {}'\n",
    "    s_cool = 'Cooling rates. {}.'\n",
    "    s_flux = 'Fluxes. {}.'\n",
    "    \n",
    "    atmpros = ['mls', 'saw', 'trp']\n",
    "    \n",
    "    # TOC\n",
    "    show_markdown(title)\n",
    "    show_markdown('### Table of Contents')\n",
    "    show_html(climahtml.getHTML_hrefanchor(s_makeup))\n",
    "    for atmpro in atmpros:\n",
    "        show_markdown('**' + d_atm[atmpro] + '**')\n",
    "        show_html(climahtml.getHTML_hrefanchor(s_cool.format(atmpro)))\n",
    "        show_html(climahtml.getHTML_hrefanchor(s_flux.format(atmpro)))\n",
    "\n",
    "        \n",
    "    # Atmosphere makeup\n",
    "    show_html(climahtml.getHTML_idanchor(s_makeup))\n",
    "    show_markdown(climahtml.getMarkdown_sectitle(s_makeup))\n",
    "    show_makeup()\n",
    "#    show_grey_makeup()\n",
    "        \n",
    "    for atmpro in atmpros:\n",
    "        show_html(climahtml.getHTML_idanchor(s_cool.format(atmpro)))\n",
    "        show_markdown(\n",
    "            climahtml.getMarkdown_sectitle(s_cool.format(atmpro)))\n",
    "        show_cool(atmpro=atmpro)\n",
    "        show_html(climahtml.getHTML_idanchor(s_flux.format(atmpro)))\n",
    "        show_markdown(\n",
    "            climahtml.getMarkdown_sectitle(s_flux.format(atmpro)))\n",
    "        show_hist_flux(atmpro=atmpro)\n",
    "        show_tb_flux(atmpro=atmpro)\n",
    "    \n",
    "    script_tofile()\n",
    "    \n",
    "script()  "
   ]
  },
  {
   "cell_type": "code",
   "execution_count": null,
   "metadata": {
    "collapsed": true
   },
   "outputs": [],
   "source": []
  },
  {
   "cell_type": "code",
   "execution_count": 126,
   "metadata": {},
   "outputs": [
    {
     "data": {
      "text/html": [
       "<script>\n",
       "code_show=true; \n",
       "function code_toggle() {\n",
       " if (code_show){\n",
       " $('div.input').hide();\n",
       " } else {\n",
       " $('div.input').show();\n",
       " }\n",
       " code_show = !code_show\n",
       "} \n",
       "$( document ).ready(code_toggle);\n",
       "</script>\n",
       "<form action=\"javascript:code_toggle()\"><input type=\"submit\" value=\"Click here to toggle on/off the raw code.\"></form>"
      ],
      "text/plain": [
       "<IPython.core.display.HTML object>"
      ]
     },
     "execution_count": 126,
     "metadata": {},
     "output_type": "execute_result"
    }
   ],
   "source": [
    "display.HTML('''<script>\n",
    "code_show=true; \n",
    "function code_toggle() {\n",
    " if (code_show){\n",
    " $('div.input').hide();\n",
    " } else {\n",
    " $('div.input').show();\n",
    " }\n",
    " code_show = !code_show\n",
    "} \n",
    "$( document ).ready(code_toggle);\n",
    "</script>\n",
    "<form action=\"javascript:code_toggle()\"><input type=\"submit\" value=\"Click here to toggle on/off the raw code.\"></form>''')"
   ]
  },
  {
   "cell_type": "code",
   "execution_count": null,
   "metadata": {
    "collapsed": true
   },
   "outputs": [],
   "source": []
  }
 ],
 "metadata": {
  "kernelspec": {
   "display_name": "Python 3",
   "language": "python",
   "name": "python3"
  },
  "language_info": {
   "codemirror_mode": {
    "name": "ipython",
    "version": 3
   },
   "file_extension": ".py",
   "mimetype": "text/x-python",
   "name": "python",
   "nbconvert_exporter": "python",
   "pygments_lexer": "ipython3",
   "version": "3.6.7"
  }
 },
 "nbformat": 4,
 "nbformat_minor": 2
}
