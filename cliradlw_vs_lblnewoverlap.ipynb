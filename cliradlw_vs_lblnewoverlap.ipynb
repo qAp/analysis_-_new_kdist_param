{
 "cells": [
  {
   "cell_type": "code",
   "execution_count": 1,
   "metadata": {},
   "outputs": [
    {
     "data": {
      "text/plain": [
       "<module 'climatools.lblnew.runrecord_overlap' from '/chia_cluster/home/jackyu/climatools/climatools/lblnew/runrecord_overlap.py'>"
      ]
     },
     "execution_count": 1,
     "metadata": {},
     "output_type": "execute_result"
    }
   ],
   "source": [
    "import os\n",
    "import pprint\n",
    "import shutil\n",
    "import importlib \n",
    "\n",
    "from climatools.cliradlw import (setup, pipeline)\n",
    "import climatools.cliradlw.runrecord as runrecord_clirad\n",
    "import climatools.cliradlw.utils as utils_clirad\n",
    "\n",
    "\n",
    "from climatools.lblnew import setup_overlap\n",
    "from climatools.lblnew import setup_bestfit\n",
    "import climatools.lblnew.pipeline as pipeline_lblnew\n",
    "import climatools.lblnew.bestfit_params as bestfit\n",
    "import climatools.lblnew.runrecord_bestfit as runrecord_bestfit\n",
    "import climatools.lblnew.runrecord_overlap as runrecord_overlap\n",
    "\n",
    "\n",
    "\n",
    "importlib.reload(setup)\n",
    "importlib.reload(pipeline)\n",
    "importlib.reload(runrecord_clirad)\n",
    "importlib.reload(utils_clirad)\n",
    "importlib.reload(setup_overlap)\n",
    "importlib.reload(setup_bestfit)\n",
    "importlib.reload(pipeline_lblnew)\n",
    "importlib.reload(bestfit)\n",
    "importlib.reload(runrecord_bestfit)\n",
    "importlib.reload(runrecord_overlap)"
   ]
  },
  {
   "cell_type": "code",
   "execution_count": 2,
   "metadata": {
    "collapsed": true,
    "scrolled": false
   },
   "outputs": [],
   "source": [
    "def params_clirad_overlap():\n",
    "    '''\n",
    "    Define clirad-lw input parameter dictionaries\n",
    "    for 2xco2, co2 overlapping with others.\n",
    "    '''\n",
    "    commitnumber = '523cbb7'\n",
    "    \n",
    "    atmpros = [('mls', 294), ('saw', 257), ('trp', 300)]\n",
    "    \n",
    "    molecule_bands = [\n",
    "        ({'h2o': 'atmpro', 'co2': 800e-6}, [11])\n",
    "    ]\n",
    "    \n",
    "    params = []\n",
    "    for molecule, bands in molecule_bands:\n",
    "        for band in bands:\n",
    "            for atmpro, tsfc in atmpros:\n",
    "                param = {'commitnumber': commitnumber,\n",
    "                         'molecule': molecule,\n",
    "                         'band': [band],\n",
    "                         'atmpro': atmpro,\n",
    "                         'tsfc': tsfc}\n",
    "                params.append(param)\n",
    "    return params\n",
    "\n",
    "\n",
    "\n",
    "def param_lblnewoverlap():\n",
    "    '''    \n",
    "    lblnew-overlap input parameter dictionaries\n",
    "    matching those from clirad-lw's 2xco2, \n",
    "    co2 overlapping with others.\n",
    "    '''\n",
    "    commitnumber = 'a22ab94'\n",
    "    \n",
    "    params_clirad = params_clirad_overlap()\n",
    "    record_overlap = runrecord_overlap.params()\n",
    "    \n",
    "    params = []\n",
    "    for param_clirad in params_clirad:\n",
    "        \n",
    "        molecule = param_clirad['molecule']\n",
    "        band = [utils_clirad.mapband_new2old()[b] \n",
    "                for b in param_clirad['band']]\n",
    "        band = band[0]\n",
    "        atmpro = param_clirad['atmpro']\n",
    "        tsfc = param_clirad['tsfc']\n",
    "        \n",
    "        param_overlap = [r for r in record_overlap\n",
    "                         if r['commitnumber'] == commitnumber\n",
    "                         if r['molecule'] == molecule\n",
    "                         if r['band'] == band\n",
    "                         if r['atmpro'] == atmpro\n",
    "                         if r['tsfc'] == tsfc]\n",
    "        \n",
    "        assert len(param_overlap) == 1\n",
    "        param_overlap = param_overlap[0]\n",
    "        params.append(param_overlap)\n",
    "        \n",
    "    return params\n",
    "\n",
    "\n",
    "\n",
    "def parampairs_overlap():\n",
    "    params_clirad = params_clirad_overlap()\n",
    "    params_lblnew = param_lblnewoverlap()\n",
    "    \n",
    "    assert len(params_clirad) == len(params_lblnew)\n",
    "    \n",
    "    return list(zip(params_clirad, params_lblnew))\n"
   ]
  },
  {
   "cell_type": "code",
   "execution_count": 3,
   "metadata": {
    "collapsed": true
   },
   "outputs": [],
   "source": [
    "def script_clirad_lblnew():\n",
    "    '''\n",
    "    Script to run clirad and then plot results against the \n",
    "    corresponding lblnew case.  This needs both input parameter\n",
    "    dictionaries from clirad and lblnew.\n",
    "    '''\n",
    "    ps = parampairs_overlap()\n",
    "    \n",
    "    gprocs = pipeline.pipeline_fortran2ipynb2git(parampairs=ps, \n",
    "                                                 setup=setup)\n",
    "    \n",
    "    for param, _ in ps:\n",
    "        print(pipeline.nbviewer_url(param=param, setup=setup))\n",
    "        print()"
   ]
  },
  {
   "cell_type": "code",
   "execution_count": 6,
   "metadata": {
    "scrolled": false
   },
   "outputs": [
    {
     "name": "stdout",
     "output_type": "stream",
     "text": [
      "Submitting radiation calculation for cases\n",
      "{'atmpro': 'mls',\n",
      " 'band': [11],\n",
      " 'commitnumber': '523cbb7',\n",
      " 'molecule': {'co2': 0.0008, 'h2o': 'atmpro'},\n",
      " 'tsfc': 294}\n",
      "{'atmpro': 'saw',\n",
      " 'band': [11],\n",
      " 'commitnumber': '523cbb7',\n",
      " 'molecule': {'co2': 0.0008, 'h2o': 'atmpro'},\n",
      " 'tsfc': 257}\n",
      "{'atmpro': 'trp',\n",
      " 'band': [11],\n",
      " 'commitnumber': '523cbb7',\n",
      " 'molecule': {'co2': 0.0008, 'h2o': 'atmpro'},\n",
      " 'tsfc': 300}\n",
      "\n",
      "Submitting analysis for cases\n",
      "{'atmpro': 'mls',\n",
      " 'band': [11],\n",
      " 'commitnumber': '523cbb7',\n",
      " 'molecule': {'co2': 0.0008, 'h2o': 'atmpro'},\n",
      " 'tsfc': 294}\n",
      "{'atmpro': 'saw',\n",
      " 'band': [11],\n",
      " 'commitnumber': '523cbb7',\n",
      " 'molecule': {'co2': 0.0008, 'h2o': 'atmpro'},\n",
      " 'tsfc': 257}\n",
      "{'atmpro': 'trp',\n",
      " 'band': [11],\n",
      " 'commitnumber': '523cbb7',\n",
      " 'molecule': {'co2': 0.0008, 'h2o': 'atmpro'},\n",
      " 'tsfc': 300}\n",
      "\n",
      "Committing analysis to Git repository for cases\n",
      "{'atmpro': 'mls',\n",
      " 'band': [11],\n",
      " 'commitnumber': '523cbb7',\n",
      " 'molecule': {'co2': 0.0008, 'h2o': 'atmpro'},\n",
      " 'tsfc': 294}\n",
      "{'atmpro': 'saw',\n",
      " 'band': [11],\n",
      " 'commitnumber': '523cbb7',\n",
      " 'molecule': {'co2': 0.0008, 'h2o': 'atmpro'},\n",
      " 'tsfc': 257}\n",
      "{'atmpro': 'trp',\n",
      " 'band': [11],\n",
      " 'commitnumber': '523cbb7',\n",
      " 'molecule': {'co2': 0.0008, 'h2o': 'atmpro'},\n",
      " 'tsfc': 300}\n",
      "\n",
      "http://nbviewer.jupyter.org/github/qap/analysis_-_new_kdist_param/blob/master/clirad/h2o_mls_co2_0.0008/band_11/atmpro_mls/cliradlw_523cbb7/results_cliradlw.ipynb\n",
      "\n",
      "http://nbviewer.jupyter.org/github/qap/analysis_-_new_kdist_param/blob/master/clirad/h2o_saw_co2_0.0008/band_11/atmpro_saw/cliradlw_523cbb7/results_cliradlw.ipynb\n",
      "\n",
      "http://nbviewer.jupyter.org/github/qap/analysis_-_new_kdist_param/blob/master/clirad/h2o_trp_co2_0.0008/band_11/atmpro_trp/cliradlw_523cbb7/results_cliradlw.ipynb\n",
      "\n"
     ]
    }
   ],
   "source": [
    "script_clirad_lblnew()"
   ]
  },
  {
   "cell_type": "code",
   "execution_count": null,
   "metadata": {
    "collapsed": true
   },
   "outputs": [],
   "source": []
  }
 ],
 "metadata": {
  "kernelspec": {
   "display_name": "Python 3",
   "language": "python",
   "name": "python3"
  },
  "language_info": {
   "codemirror_mode": {
    "name": "ipython",
    "version": 3
   },
   "file_extension": ".py",
   "mimetype": "text/x-python",
   "name": "python",
   "nbconvert_exporter": "python",
   "pygments_lexer": "ipython3",
   "version": "3.6.1"
  }
 },
 "nbformat": 4,
 "nbformat_minor": 2
}
