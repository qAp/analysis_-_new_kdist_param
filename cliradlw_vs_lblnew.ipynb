{
 "cells": [
  {
   "cell_type": "code",
   "execution_count": 2,
   "metadata": {},
   "outputs": [],
   "source": [
    "%reload_ext autoreload\n",
    "%autoreload 2\n",
    "\n",
    "import os\n",
    "import pprint\n",
    "import shutil\n",
    "import pymongo\n",
    "\n",
    "from climatools.cliradlw import (setup, pipeline)\n",
    "import climatools.cliradlw.runrecord as runrecord_clirad\n",
    "import climatools.cliradlw.utils as utils_clirad\n",
    "\n",
    "from climatools.lblnew import setup_overlap\n",
    "from climatools.lblnew import setup_bestfit\n",
    "import climatools.lblnew.pipeline as pipeline_lblnew\n",
    "import climatools.lblnew.bestfit_params as bestfit\n",
    "import climatools.lblnew.runrecord_bestfit as runrecord_bestfit\n",
    "import climatools.lblnew.runrecord_overlap as runrecord_overlap"
   ]
  },
  {
   "cell_type": "code",
   "execution_count": 93,
   "metadata": {
    "collapsed": true
   },
   "outputs": [],
   "source": [
    "client = pymongo.MongoClient('localhost', 27017)"
   ]
  },
  {
   "cell_type": "code",
   "execution_count": 94,
   "metadata": {},
   "outputs": [
    {
     "data": {
      "text/plain": [
       "234"
      ]
     },
     "execution_count": 94,
     "metadata": {},
     "output_type": "execute_result"
    }
   ],
   "source": [
    "client.cliradnew.lw.count()"
   ]
  },
  {
   "cell_type": "code",
   "execution_count": 75,
   "metadata": {
    "collapsed": true
   },
   "outputs": [],
   "source": [
    "ATMPROS = [('mls', 294), ('saw', 257), ('trp', 300)]"
   ]
  },
  {
   "cell_type": "code",
   "execution_count": 428,
   "metadata": {
    "scrolled": false
   },
   "outputs": [
    {
     "data": {
      "text/plain": [
       "[{'atmpro': 'mls',\n",
       "  'band': [11],\n",
       "  'commitnumber': '1013f91',\n",
       "  'molecule': {'co2': 0.0004, 'h2o': 'atmpro'},\n",
       "  'tsfc': 294},\n",
       " {'atmpro': 'saw',\n",
       "  'band': [11],\n",
       "  'commitnumber': '1013f91',\n",
       "  'molecule': {'co2': 0.0004, 'h2o': 'atmpro'},\n",
       "  'tsfc': 257},\n",
       " {'atmpro': 'trp',\n",
       "  'band': [11],\n",
       "  'commitnumber': '1013f91',\n",
       "  'molecule': {'co2': 0.0004, 'h2o': 'atmpro'},\n",
       "  'tsfc': 300}]"
      ]
     },
     "execution_count": 428,
     "metadata": {},
     "output_type": "execute_result"
    }
   ],
   "source": [
    "# EDIT HERE TO START\n",
    "\n",
    "def params_clirad():\n",
    "    band = 11\n",
    "    \n",
    "    from climatools.atm.absorbers import nongreys_byband\n",
    "    atmpros = [('mls', 294), ('saw', 257), ('trp', 300)]\n",
    "    commitnumber = '1013f91'\n",
    "    molconc = nongreys_byband()[band]\n",
    "    \n",
    "    params = []\n",
    "\n",
    "    # Individual (molecule, conc)\n",
    "#    params.extend([{\n",
    "#        'commitnumber': commitnumber,\n",
    "#        'band': [band],\n",
    "#        'molecule': {mol: conc},\n",
    "#        'atmpro': atmpro,\n",
    "#        'tsfc': tsfc} \n",
    "#        for mol, conc in molconc.items() \n",
    "#        for atmpro, tsfc in atmpros])\n",
    "    \n",
    "    # Overlap cases {(molecule, conc)}\n",
    "    if len(molconc) > 1:\n",
    "        params.extend([\n",
    "            {'commitnumber': commitnumber, \n",
    "             'band': [band], \n",
    "             'molecule': molconc, \n",
    "             'atmpro': atmpro, \n",
    "             'tsfc': tsfc} for atmpro, tsfc in atmpros])\n",
    "    return params\n",
    "\n",
    "params_clirad()"
   ]
  },
  {
   "cell_type": "code",
   "execution_count": 429,
   "metadata": {},
   "outputs": [],
   "source": [
    "def to_lblnewparam(param=None):\n",
    "    '''\n",
    "    Convert clirad's input parameter dictionary \n",
    "    into something like lblnew's.\n",
    "    '''\n",
    "    band = param['band'][0]\n",
    "    band = utils_clirad.mapband_new2old()[band]\n",
    "    atmpro = param['atmpro']\n",
    "    tsfc = param['tsfc']\n",
    "    \n",
    "    p = {'band': band, \n",
    "         'atmpro': atmpro, 'tsfc': tsfc,\n",
    "         'dv': .001, 'nv': 1000}\n",
    "    \n",
    "    if len(param['molecule']) > 1: p['molecule'] = param['molecule']\n",
    "    else: \n",
    "        molecule, conc = list(param['molecule'].items())[0]\n",
    "        p['molecule'] = molecule\n",
    "        if conc == 'atmpro': p['conc'] = None\n",
    "        else: p['conc'] = conc\n",
    "    return p\n",
    "\n",
    "def make_query(param=None):\n",
    "    q = {}\n",
    "    for n, v in param.items():\n",
    "        if n == 'molecule' and type(v) == dict:\n",
    "            for mol, conc in v.items():\n",
    "                q[f'param.molecule.{mol}'] = conc\n",
    "        else:\n",
    "            q[f'param.{n}'] = v\n",
    "    return q\n",
    "\n",
    "def get_parampairs():\n",
    "    pairs = []\n",
    "    for p in params_clirad():\n",
    "        q_clirad = make_query(param=p)\n",
    "        r_clirad = client.cliradnew.lw.count(q_clirad)\n",
    "        if not r_clirad: \n",
    "            print('Following clirad case not available:')\n",
    "            pprint.pprint(p)\n",
    "            print('Skipping it.\\n')\n",
    "            continue\n",
    "            \n",
    "        if len(p['molecule']) > 1: collection = client.lblnew.overlap_lw\n",
    "        else: collection = client.lblnew.bestfit_lw\n",
    "        \n",
    "        p_lblnew = to_lblnewparam(param=p)\n",
    "        q_lblnew = make_query(param=p_lblnew)\n",
    "        r_lblnew = collection.find_one(q_lblnew, projection=['param'])\n",
    "        if not r_lblnew:\n",
    "            print('Following lblnew case not available:')\n",
    "            pprint.pprint(p_lblnew)\n",
    "            print('Skipping it.\\n')\n",
    "            continue\n",
    "            \n",
    "        pairs.append((p, r_lblnew.get('param')))\n",
    "    return pairs"
   ]
  },
  {
   "cell_type": "code",
   "execution_count": 430,
   "metadata": {
    "collapsed": true
   },
   "outputs": [],
   "source": [
    "def script_clirad_lblnew():\n",
    "    '''\n",
    "    Script to run clirad and then plot results against the \n",
    "    corresponding lblnew case.  This needs both input parameter\n",
    "    dictionaries from clirad and lblnew.\n",
    "    '''\n",
    "    ps = get_parampairs()\n",
    "    gprocs = pipeline.pipeline_ipynb2git(parampairs=ps, setup=setup)"
   ]
  },
  {
   "cell_type": "code",
   "execution_count": 431,
   "metadata": {},
   "outputs": [
    {
     "name": "stdout",
     "output_type": "stream",
     "text": [
      "{'atmpro': 'mls',\n",
      " 'band': [11],\n",
      " 'commitnumber': '1013f91',\n",
      " 'molecule': {'co2': 0.0004, 'h2o': 'atmpro'},\n",
      " 'tsfc': 294}\n",
      "{'atmpro': 'saw',\n",
      " 'band': [11],\n",
      " 'commitnumber': '1013f91',\n",
      " 'molecule': {'co2': 0.0004, 'h2o': 'atmpro'},\n",
      " 'tsfc': 257}\n",
      "{'atmpro': 'trp',\n",
      " 'band': [11],\n",
      " 'commitnumber': '1013f91',\n",
      " 'molecule': {'co2': 0.0004, 'h2o': 'atmpro'},\n",
      " 'tsfc': 300}\n",
      "{'atmpro': 'mls',\n",
      " 'band': [11],\n",
      " 'commitnumber': '1013f91',\n",
      " 'molecule': {'co2': 0.0004, 'h2o': 'atmpro'},\n",
      " 'tsfc': 294}\n",
      "{'atmpro': 'saw',\n",
      " 'band': [11],\n",
      " 'commitnumber': '1013f91',\n",
      " 'molecule': {'co2': 0.0004, 'h2o': 'atmpro'},\n",
      " 'tsfc': 257}\n",
      "{'atmpro': 'trp',\n",
      " 'band': [11],\n",
      " 'commitnumber': '1013f91',\n",
      " 'molecule': {'co2': 0.0004, 'h2o': 'atmpro'},\n",
      " 'tsfc': 300}\n",
      "\n"
     ]
    }
   ],
   "source": [
    "script_clirad_lblnew()"
   ]
  },
  {
   "cell_type": "code",
   "execution_count": 432,
   "metadata": {
    "scrolled": true
   },
   "outputs": [
    {
     "name": "stdout",
     "output_type": "stream",
     "text": [
      "http://nbviewer.jupyter.org/github/qap/analysis_-_new_kdist_param/blob/master/clirad/h2o_mls_co2_0.0004/band_11/atmpro_mls/cliradlw_1013f91/results_cliradlw.ipynb\n",
      "\n",
      "http://nbviewer.jupyter.org/github/qap/analysis_-_new_kdist_param/blob/master/clirad/h2o_saw_co2_0.0004/band_11/atmpro_saw/cliradlw_1013f91/results_cliradlw.ipynb\n",
      "\n",
      "http://nbviewer.jupyter.org/github/qap/analysis_-_new_kdist_param/blob/master/clirad/h2o_trp_co2_0.0004/band_11/atmpro_trp/cliradlw_1013f91/results_cliradlw.ipynb\n",
      "\n"
     ]
    }
   ],
   "source": [
    "for param, _ in get_parampairs():\n",
    "    print(pipeline.nbviewer_url(param=param, setup=setup))\n",
    "    print()"
   ]
  },
  {
   "cell_type": "code",
   "execution_count": null,
   "metadata": {
    "collapsed": true
   },
   "outputs": [],
   "source": []
  }
 ],
 "metadata": {
  "kernelspec": {
   "display_name": "Python 3",
   "language": "python",
   "name": "python3"
  },
  "language_info": {
   "codemirror_mode": {
    "name": "ipython",
    "version": 3
   },
   "file_extension": ".py",
   "mimetype": "text/x-python",
   "name": "python",
   "nbconvert_exporter": "python",
   "pygments_lexer": "ipython3",
   "version": "3.6.1"
  }
 },
 "nbformat": 4,
 "nbformat_minor": 2
}
