{
 "cells": [
  {
   "cell_type": "code",
   "execution_count": 148,
   "metadata": {
    "collapsed": true
   },
   "outputs": [],
   "source": [
    "%reload_ext autoreload\n",
    "%autoreload 2\n",
    "\n",
    "import os\n",
    "import pprint\n",
    "\n",
    "import pymongo\n",
    "\n",
    "from bokeh.io import output_notebook, show\n",
    "from bokeh.layouts import gridplot\n",
    "from bokeh.plotting import figure\n",
    "from bokeh.models import ColumnDataSource\n",
    "from bokeh.palettes import all_palettes\n",
    "\n",
    "from climatools.atm import *\n",
    "from climatools.dataset import *\n",
    "from climatools.spectrum import *\n",
    "from climatools.html.html import *\n",
    "from climatools.plot.plot import *\n",
    "from climatools.lblnew.bestfit_params import *\n",
    "\n",
    "from IPython import display"
   ]
  },
  {
   "cell_type": "code",
   "execution_count": 3,
   "metadata": {
    "scrolled": true
   },
   "outputs": [
    {
     "data": {
      "text/html": [
       "\n",
       "    <div class=\"bk-root\">\n",
       "        <a href=\"https://bokeh.pydata.org\" target=\"_blank\" class=\"bk-logo bk-logo-small bk-logo-notebook\"></a>\n",
       "        <span id=\"0da1bfa7-b5f1-46a5-80ff-615ae6b9db3e\">Loading BokehJS ...</span>\n",
       "    </div>"
      ]
     },
     "metadata": {},
     "output_type": "display_data"
    },
    {
     "data": {
      "application/javascript": [
       "\n",
       "(function(root) {\n",
       "  function now() {\n",
       "    return new Date();\n",
       "  }\n",
       "\n",
       "  var force = true;\n",
       "\n",
       "  if (typeof (root._bokeh_onload_callbacks) === \"undefined\" || force === true) {\n",
       "    root._bokeh_onload_callbacks = [];\n",
       "    root._bokeh_is_loading = undefined;\n",
       "  }\n",
       "\n",
       "  var JS_MIME_TYPE = 'application/javascript';\n",
       "  var HTML_MIME_TYPE = 'text/html';\n",
       "  var EXEC_MIME_TYPE = 'application/vnd.bokehjs_exec.v0+json';\n",
       "  var CLASS_NAME = 'output_bokeh rendered_html';\n",
       "\n",
       "  /**\n",
       "   * Render data to the DOM node\n",
       "   */\n",
       "  function render(props, node) {\n",
       "    var script = document.createElement(\"script\");\n",
       "    node.appendChild(script);\n",
       "  }\n",
       "\n",
       "  /**\n",
       "   * Handle when an output is cleared or removed\n",
       "   */\n",
       "  function handleClearOutput(event, handle) {\n",
       "    var cell = handle.cell;\n",
       "\n",
       "    var id = cell.output_area._bokeh_element_id;\n",
       "    var server_id = cell.output_area._bokeh_server_id;\n",
       "    // Clean up Bokeh references\n",
       "    if (id !== undefined) {\n",
       "      Bokeh.index[id].model.document.clear();\n",
       "      delete Bokeh.index[id];\n",
       "    }\n",
       "\n",
       "    if (server_id !== undefined) {\n",
       "      // Clean up Bokeh references\n",
       "      var cmd = \"from bokeh.io.state import curstate; print(curstate().uuid_to_server['\" + server_id + \"'].get_sessions()[0].document.roots[0]._id)\";\n",
       "      cell.notebook.kernel.execute(cmd, {\n",
       "        iopub: {\n",
       "          output: function(msg) {\n",
       "            var element_id = msg.content.text.trim();\n",
       "            Bokeh.index[element_id].model.document.clear();\n",
       "            delete Bokeh.index[element_id];\n",
       "          }\n",
       "        }\n",
       "      });\n",
       "      // Destroy server and session\n",
       "      var cmd = \"import bokeh.io.notebook as ion; ion.destroy_server('\" + server_id + \"')\";\n",
       "      cell.notebook.kernel.execute(cmd);\n",
       "    }\n",
       "  }\n",
       "\n",
       "  /**\n",
       "   * Handle when a new output is added\n",
       "   */\n",
       "  function handleAddOutput(event, handle) {\n",
       "    var output_area = handle.output_area;\n",
       "    var output = handle.output;\n",
       "\n",
       "    // limit handleAddOutput to display_data with EXEC_MIME_TYPE content only\n",
       "    if ((output.output_type != \"display_data\") || (!output.data.hasOwnProperty(EXEC_MIME_TYPE))) {\n",
       "      return\n",
       "    }\n",
       "\n",
       "    var toinsert = output_area.element.find(\".\" + CLASS_NAME.split(' ')[0]);\n",
       "\n",
       "    if (output.metadata[EXEC_MIME_TYPE][\"id\"] !== undefined) {\n",
       "      toinsert[toinsert.length - 1].firstChild.textContent = output.data[JS_MIME_TYPE];\n",
       "      // store reference to embed id on output_area\n",
       "      output_area._bokeh_element_id = output.metadata[EXEC_MIME_TYPE][\"id\"];\n",
       "    }\n",
       "    if (output.metadata[EXEC_MIME_TYPE][\"server_id\"] !== undefined) {\n",
       "      var bk_div = document.createElement(\"div\");\n",
       "      bk_div.innerHTML = output.data[HTML_MIME_TYPE];\n",
       "      var script_attrs = bk_div.children[0].attributes;\n",
       "      for (var i = 0; i < script_attrs.length; i++) {\n",
       "        toinsert[toinsert.length - 1].firstChild.setAttribute(script_attrs[i].name, script_attrs[i].value);\n",
       "      }\n",
       "      // store reference to server id on output_area\n",
       "      output_area._bokeh_server_id = output.metadata[EXEC_MIME_TYPE][\"server_id\"];\n",
       "    }\n",
       "  }\n",
       "\n",
       "  function register_renderer(events, OutputArea) {\n",
       "\n",
       "    function append_mime(data, metadata, element) {\n",
       "      // create a DOM node to render to\n",
       "      var toinsert = this.create_output_subarea(\n",
       "        metadata,\n",
       "        CLASS_NAME,\n",
       "        EXEC_MIME_TYPE\n",
       "      );\n",
       "      this.keyboard_manager.register_events(toinsert);\n",
       "      // Render to node\n",
       "      var props = {data: data, metadata: metadata[EXEC_MIME_TYPE]};\n",
       "      render(props, toinsert[toinsert.length - 1]);\n",
       "      element.append(toinsert);\n",
       "      return toinsert\n",
       "    }\n",
       "\n",
       "    /* Handle when an output is cleared or removed */\n",
       "    events.on('clear_output.CodeCell', handleClearOutput);\n",
       "    events.on('delete.Cell', handleClearOutput);\n",
       "\n",
       "    /* Handle when a new output is added */\n",
       "    events.on('output_added.OutputArea', handleAddOutput);\n",
       "\n",
       "    /**\n",
       "     * Register the mime type and append_mime function with output_area\n",
       "     */\n",
       "    OutputArea.prototype.register_mime_type(EXEC_MIME_TYPE, append_mime, {\n",
       "      /* Is output safe? */\n",
       "      safe: true,\n",
       "      /* Index of renderer in `output_area.display_order` */\n",
       "      index: 0\n",
       "    });\n",
       "  }\n",
       "\n",
       "  // register the mime type if in Jupyter Notebook environment and previously unregistered\n",
       "  if (root.Jupyter !== undefined) {\n",
       "    var events = require('base/js/events');\n",
       "    var OutputArea = require('notebook/js/outputarea').OutputArea;\n",
       "\n",
       "    if (OutputArea.prototype.mime_types().indexOf(EXEC_MIME_TYPE) == -1) {\n",
       "      register_renderer(events, OutputArea);\n",
       "    }\n",
       "  }\n",
       "\n",
       "  \n",
       "  if (typeof (root._bokeh_timeout) === \"undefined\" || force === true) {\n",
       "    root._bokeh_timeout = Date.now() + 5000;\n",
       "    root._bokeh_failed_load = false;\n",
       "  }\n",
       "\n",
       "  var NB_LOAD_WARNING = {'data': {'text/html':\n",
       "     \"<div style='background-color: #fdd'>\\n\"+\n",
       "     \"<p>\\n\"+\n",
       "     \"BokehJS does not appear to have successfully loaded. If loading BokehJS from CDN, this \\n\"+\n",
       "     \"may be due to a slow or bad network connection. Possible fixes:\\n\"+\n",
       "     \"</p>\\n\"+\n",
       "     \"<ul>\\n\"+\n",
       "     \"<li>re-rerun `output_notebook()` to attempt to load from CDN again, or</li>\\n\"+\n",
       "     \"<li>use INLINE resources instead, as so:</li>\\n\"+\n",
       "     \"</ul>\\n\"+\n",
       "     \"<code>\\n\"+\n",
       "     \"from bokeh.resources import INLINE\\n\"+\n",
       "     \"output_notebook(resources=INLINE)\\n\"+\n",
       "     \"</code>\\n\"+\n",
       "     \"</div>\"}};\n",
       "\n",
       "  function display_loaded() {\n",
       "    var el = document.getElementById(\"0da1bfa7-b5f1-46a5-80ff-615ae6b9db3e\");\n",
       "    if (el != null) {\n",
       "      el.textContent = \"BokehJS is loading...\";\n",
       "    }\n",
       "    if (root.Bokeh !== undefined) {\n",
       "      if (el != null) {\n",
       "        el.textContent = \"BokehJS \" + root.Bokeh.version + \" successfully loaded.\";\n",
       "      }\n",
       "    } else if (Date.now() < root._bokeh_timeout) {\n",
       "      setTimeout(display_loaded, 100)\n",
       "    }\n",
       "  }\n",
       "\n",
       "\n",
       "  function run_callbacks() {\n",
       "    try {\n",
       "      root._bokeh_onload_callbacks.forEach(function(callback) { callback() });\n",
       "    }\n",
       "    finally {\n",
       "      delete root._bokeh_onload_callbacks\n",
       "    }\n",
       "    console.info(\"Bokeh: all callbacks have finished\");\n",
       "  }\n",
       "\n",
       "  function load_libs(js_urls, callback) {\n",
       "    root._bokeh_onload_callbacks.push(callback);\n",
       "    if (root._bokeh_is_loading > 0) {\n",
       "      console.log(\"Bokeh: BokehJS is being loaded, scheduling callback at\", now());\n",
       "      return null;\n",
       "    }\n",
       "    if (js_urls == null || js_urls.length === 0) {\n",
       "      run_callbacks();\n",
       "      return null;\n",
       "    }\n",
       "    console.log(\"Bokeh: BokehJS not loaded, scheduling load and callback at\", now());\n",
       "    root._bokeh_is_loading = js_urls.length;\n",
       "    for (var i = 0; i < js_urls.length; i++) {\n",
       "      var url = js_urls[i];\n",
       "      var s = document.createElement('script');\n",
       "      s.src = url;\n",
       "      s.async = false;\n",
       "      s.onreadystatechange = s.onload = function() {\n",
       "        root._bokeh_is_loading--;\n",
       "        if (root._bokeh_is_loading === 0) {\n",
       "          console.log(\"Bokeh: all BokehJS libraries loaded\");\n",
       "          run_callbacks()\n",
       "        }\n",
       "      };\n",
       "      s.onerror = function() {\n",
       "        console.warn(\"failed to load library \" + url);\n",
       "      };\n",
       "      console.log(\"Bokeh: injecting script tag for BokehJS library: \", url);\n",
       "      document.getElementsByTagName(\"head\")[0].appendChild(s);\n",
       "    }\n",
       "  };var element = document.getElementById(\"0da1bfa7-b5f1-46a5-80ff-615ae6b9db3e\");\n",
       "  if (element == null) {\n",
       "    console.log(\"Bokeh: ERROR: autoload.js configured with elementid '0da1bfa7-b5f1-46a5-80ff-615ae6b9db3e' but no matching script tag was found. \")\n",
       "    return false;\n",
       "  }\n",
       "\n",
       "  var js_urls = [\"https://cdn.pydata.org/bokeh/release/bokeh-0.12.16.min.js\", \"https://cdn.pydata.org/bokeh/release/bokeh-widgets-0.12.16.min.js\", \"https://cdn.pydata.org/bokeh/release/bokeh-tables-0.12.16.min.js\", \"https://cdn.pydata.org/bokeh/release/bokeh-gl-0.12.16.min.js\"];\n",
       "\n",
       "  var inline_js = [\n",
       "    function(Bokeh) {\n",
       "      Bokeh.set_log_level(\"info\");\n",
       "    },\n",
       "    \n",
       "    function(Bokeh) {\n",
       "      \n",
       "    },\n",
       "    function(Bokeh) {\n",
       "      console.log(\"Bokeh: injecting CSS: https://cdn.pydata.org/bokeh/release/bokeh-0.12.16.min.css\");\n",
       "      Bokeh.embed.inject_css(\"https://cdn.pydata.org/bokeh/release/bokeh-0.12.16.min.css\");\n",
       "      console.log(\"Bokeh: injecting CSS: https://cdn.pydata.org/bokeh/release/bokeh-widgets-0.12.16.min.css\");\n",
       "      Bokeh.embed.inject_css(\"https://cdn.pydata.org/bokeh/release/bokeh-widgets-0.12.16.min.css\");\n",
       "      console.log(\"Bokeh: injecting CSS: https://cdn.pydata.org/bokeh/release/bokeh-tables-0.12.16.min.css\");\n",
       "      Bokeh.embed.inject_css(\"https://cdn.pydata.org/bokeh/release/bokeh-tables-0.12.16.min.css\");\n",
       "    }\n",
       "  ];\n",
       "\n",
       "  function run_inline_js() {\n",
       "    \n",
       "    if ((root.Bokeh !== undefined) || (force === true)) {\n",
       "      for (var i = 0; i < inline_js.length; i++) {\n",
       "        inline_js[i].call(root, root.Bokeh);\n",
       "      }if (force === true) {\n",
       "        display_loaded();\n",
       "      }} else if (Date.now() < root._bokeh_timeout) {\n",
       "      setTimeout(run_inline_js, 100);\n",
       "    } else if (!root._bokeh_failed_load) {\n",
       "      console.log(\"Bokeh: BokehJS failed to load within specified timeout.\");\n",
       "      root._bokeh_failed_load = true;\n",
       "    } else if (force !== true) {\n",
       "      var cell = $(document.getElementById(\"0da1bfa7-b5f1-46a5-80ff-615ae6b9db3e\")).parents('.cell').data().cell;\n",
       "      cell.output_area.append_execute_result(NB_LOAD_WARNING)\n",
       "    }\n",
       "\n",
       "  }\n",
       "\n",
       "  if (root._bokeh_is_loading === 0) {\n",
       "    console.log(\"Bokeh: BokehJS loaded, going straight to plotting\");\n",
       "    run_inline_js();\n",
       "  } else {\n",
       "    load_libs(js_urls, function() {\n",
       "      console.log(\"Bokeh: BokehJS plotting callback run at\", now());\n",
       "      run_inline_js();\n",
       "    });\n",
       "  }\n",
       "}(window));"
      ],
      "application/vnd.bokehjs_load.v0+json": "\n(function(root) {\n  function now() {\n    return new Date();\n  }\n\n  var force = true;\n\n  if (typeof (root._bokeh_onload_callbacks) === \"undefined\" || force === true) {\n    root._bokeh_onload_callbacks = [];\n    root._bokeh_is_loading = undefined;\n  }\n\n  \n\n  \n  if (typeof (root._bokeh_timeout) === \"undefined\" || force === true) {\n    root._bokeh_timeout = Date.now() + 5000;\n    root._bokeh_failed_load = false;\n  }\n\n  var NB_LOAD_WARNING = {'data': {'text/html':\n     \"<div style='background-color: #fdd'>\\n\"+\n     \"<p>\\n\"+\n     \"BokehJS does not appear to have successfully loaded. If loading BokehJS from CDN, this \\n\"+\n     \"may be due to a slow or bad network connection. Possible fixes:\\n\"+\n     \"</p>\\n\"+\n     \"<ul>\\n\"+\n     \"<li>re-rerun `output_notebook()` to attempt to load from CDN again, or</li>\\n\"+\n     \"<li>use INLINE resources instead, as so:</li>\\n\"+\n     \"</ul>\\n\"+\n     \"<code>\\n\"+\n     \"from bokeh.resources import INLINE\\n\"+\n     \"output_notebook(resources=INLINE)\\n\"+\n     \"</code>\\n\"+\n     \"</div>\"}};\n\n  function display_loaded() {\n    var el = document.getElementById(\"0da1bfa7-b5f1-46a5-80ff-615ae6b9db3e\");\n    if (el != null) {\n      el.textContent = \"BokehJS is loading...\";\n    }\n    if (root.Bokeh !== undefined) {\n      if (el != null) {\n        el.textContent = \"BokehJS \" + root.Bokeh.version + \" successfully loaded.\";\n      }\n    } else if (Date.now() < root._bokeh_timeout) {\n      setTimeout(display_loaded, 100)\n    }\n  }\n\n\n  function run_callbacks() {\n    try {\n      root._bokeh_onload_callbacks.forEach(function(callback) { callback() });\n    }\n    finally {\n      delete root._bokeh_onload_callbacks\n    }\n    console.info(\"Bokeh: all callbacks have finished\");\n  }\n\n  function load_libs(js_urls, callback) {\n    root._bokeh_onload_callbacks.push(callback);\n    if (root._bokeh_is_loading > 0) {\n      console.log(\"Bokeh: BokehJS is being loaded, scheduling callback at\", now());\n      return null;\n    }\n    if (js_urls == null || js_urls.length === 0) {\n      run_callbacks();\n      return null;\n    }\n    console.log(\"Bokeh: BokehJS not loaded, scheduling load and callback at\", now());\n    root._bokeh_is_loading = js_urls.length;\n    for (var i = 0; i < js_urls.length; i++) {\n      var url = js_urls[i];\n      var s = document.createElement('script');\n      s.src = url;\n      s.async = false;\n      s.onreadystatechange = s.onload = function() {\n        root._bokeh_is_loading--;\n        if (root._bokeh_is_loading === 0) {\n          console.log(\"Bokeh: all BokehJS libraries loaded\");\n          run_callbacks()\n        }\n      };\n      s.onerror = function() {\n        console.warn(\"failed to load library \" + url);\n      };\n      console.log(\"Bokeh: injecting script tag for BokehJS library: \", url);\n      document.getElementsByTagName(\"head\")[0].appendChild(s);\n    }\n  };var element = document.getElementById(\"0da1bfa7-b5f1-46a5-80ff-615ae6b9db3e\");\n  if (element == null) {\n    console.log(\"Bokeh: ERROR: autoload.js configured with elementid '0da1bfa7-b5f1-46a5-80ff-615ae6b9db3e' but no matching script tag was found. \")\n    return false;\n  }\n\n  var js_urls = [\"https://cdn.pydata.org/bokeh/release/bokeh-0.12.16.min.js\", \"https://cdn.pydata.org/bokeh/release/bokeh-widgets-0.12.16.min.js\", \"https://cdn.pydata.org/bokeh/release/bokeh-tables-0.12.16.min.js\", \"https://cdn.pydata.org/bokeh/release/bokeh-gl-0.12.16.min.js\"];\n\n  var inline_js = [\n    function(Bokeh) {\n      Bokeh.set_log_level(\"info\");\n    },\n    \n    function(Bokeh) {\n      \n    },\n    function(Bokeh) {\n      console.log(\"Bokeh: injecting CSS: https://cdn.pydata.org/bokeh/release/bokeh-0.12.16.min.css\");\n      Bokeh.embed.inject_css(\"https://cdn.pydata.org/bokeh/release/bokeh-0.12.16.min.css\");\n      console.log(\"Bokeh: injecting CSS: https://cdn.pydata.org/bokeh/release/bokeh-widgets-0.12.16.min.css\");\n      Bokeh.embed.inject_css(\"https://cdn.pydata.org/bokeh/release/bokeh-widgets-0.12.16.min.css\");\n      console.log(\"Bokeh: injecting CSS: https://cdn.pydata.org/bokeh/release/bokeh-tables-0.12.16.min.css\");\n      Bokeh.embed.inject_css(\"https://cdn.pydata.org/bokeh/release/bokeh-tables-0.12.16.min.css\");\n    }\n  ];\n\n  function run_inline_js() {\n    \n    if ((root.Bokeh !== undefined) || (force === true)) {\n      for (var i = 0; i < inline_js.length; i++) {\n        inline_js[i].call(root, root.Bokeh);\n      }if (force === true) {\n        display_loaded();\n      }} else if (Date.now() < root._bokeh_timeout) {\n      setTimeout(run_inline_js, 100);\n    } else if (!root._bokeh_failed_load) {\n      console.log(\"Bokeh: BokehJS failed to load within specified timeout.\");\n      root._bokeh_failed_load = true;\n    } else if (force !== true) {\n      var cell = $(document.getElementById(\"0da1bfa7-b5f1-46a5-80ff-615ae6b9db3e\")).parents('.cell').data().cell;\n      cell.output_area.append_execute_result(NB_LOAD_WARNING)\n    }\n\n  }\n\n  if (root._bokeh_is_loading === 0) {\n    console.log(\"Bokeh: BokehJS loaded, going straight to plotting\");\n    run_inline_js();\n  } else {\n    load_libs(js_urls, function() {\n      console.log(\"Bokeh: BokehJS plotting callback run at\", now());\n      run_inline_js();\n    });\n  }\n}(window));"
     },
     "metadata": {},
     "output_type": "display_data"
    }
   ],
   "source": [
    "output_notebook()\n",
    "client = pymongo.MongoClient('localhost', 27017)"
   ]
  },
  {
   "cell_type": "markdown",
   "metadata": {
    "heading_collapsed": true
   },
   "source": [
    "## Data"
   ]
  },
  {
   "cell_type": "code",
   "execution_count": 61,
   "metadata": {
    "collapsed": true,
    "hidden": true
   },
   "outputs": [],
   "source": [
    "MOL = 'co2'\n",
    "COMMITNUMBER = '1013f91'\n",
    "ATMPRO = dict(mls=294, saw=257, trp=300)"
   ]
  },
  {
   "cell_type": "code",
   "execution_count": 5,
   "metadata": {
    "collapsed": true,
    "hidden": true
   },
   "outputs": [],
   "source": [
    "atmcomp = AtmComposition.cliradlw_nongreys(onlygas=MOL)"
   ]
  },
  {
   "cell_type": "code",
   "execution_count": 6,
   "metadata": {
    "collapsed": true,
    "hidden": true
   },
   "outputs": [],
   "source": [
    "DCLI = {}\n",
    "for atmpro, _ in ATMPRO.items():\n",
    "    pcli = atmcomp.to_cliradparam(commitnumber=COMMITNUMBER, atmpro=atmpro, tsfc=ATMPRO[atmpro])\n",
    "    dcli = pcli.modeldata_pymongo(collection=client.cliradnew.lw)\n",
    "    DCLI[atmpro] = dcli"
   ]
  },
  {
   "cell_type": "code",
   "execution_count": 7,
   "metadata": {
    "collapsed": true,
    "hidden": true
   },
   "outputs": [],
   "source": [
    "DCRD = {}"
   ]
  },
  {
   "cell_type": "code",
   "execution_count": 72,
   "metadata": {
    "hidden": true
   },
   "outputs": [],
   "source": [
    "atmpro = 'trp'\n",
    "pcrds = atmcomp.to_lblnewparam(bestfit_values=True, atmpro=atmpro, tsfc=ATMPRO[atmpro])"
   ]
  },
  {
   "cell_type": "code",
   "execution_count": 102,
   "metadata": {
    "hidden": true,
    "scrolled": false
   },
   "outputs": [
    {
     "data": {
      "text/plain": [
       "[['a22ab94'], ['a22ab94'], ['a22ab94'], ['a22ab94'], ['a22ab94'], ['a22ab94']]"
      ]
     },
     "execution_count": 102,
     "metadata": {},
     "output_type": "execute_result"
    }
   ],
   "source": [
    "cmts = [p.avail_commits(client.lblnew.bestfit_lw) for p in pcrds]\n",
    "cmts"
   ]
  },
  {
   "cell_type": "code",
   "execution_count": 100,
   "metadata": {
    "hidden": true,
    "scrolled": false
   },
   "outputs": [],
   "source": [
    "commits = ['a22ab94',]\n",
    "dcrds = [p.modeldata_pymongo(collection=client.lblnew.bestfit_lw, commits=commits) for p in pcrds]\n",
    "\n",
    "dcrd = concat(*dcrds)\n",
    "DCRD[atmpro] = dcrd"
   ]
  },
  {
   "cell_type": "code",
   "execution_count": 101,
   "metadata": {
    "hidden": true
   },
   "outputs": [
    {
     "data": {
      "text/plain": [
       "({'mls': <climatools.dataset.CliradnewLWModelData at 0x2aef60227c50>,\n",
       "  'saw': <climatools.dataset.CliradnewLWModelData at 0x2aef1e929a58>,\n",
       "  'trp': <climatools.dataset.CliradnewLWModelData at 0x2aef60571d68>},\n",
       " {'mls': <climatools.dataset.LBLnewModelData at 0x2aef61cb8550>,\n",
       "  'saw': <climatools.dataset.LBLnewModelData at 0x2aef61d02898>,\n",
       "  'trp': <climatools.dataset.LBLnewModelData at 0x2aef61cc13c8>})"
      ]
     },
     "execution_count": 101,
     "metadata": {},
     "output_type": "execute_result"
    }
   ],
   "source": [
    "DCLI, DCRD"
   ]
  },
  {
   "cell_type": "markdown",
   "metadata": {
    "heading_collapsed": true
   },
   "source": [
    "## Analysis code"
   ]
  },
  {
   "cell_type": "code",
   "execution_count": 78,
   "metadata": {
    "collapsed": true,
    "hidden": true
   },
   "outputs": [],
   "source": [
    "def show_html(s):\n",
    "    display.display(display.HTML(s))\n",
    "\n",
    "def show_markdown(s):\n",
    "    display.display(display.Markdown(s))"
   ]
  },
  {
   "cell_type": "code",
   "execution_count": 137,
   "metadata": {
    "hidden": true
   },
   "outputs": [],
   "source": [
    "def show_parameters(dcrd, dcli):\n",
    "    srss = [pd.Series(dcli.param, name=':D')]\n",
    "    srss_crd = [pd.Series(p) for p in dcrd.param]\n",
    "    df = pd.concat(srss_crd, axis=1, sort=True, keys=[f\"band{s['band']} {s['molecule']}\" for s in srss_crd])\n",
    "    srss.append(df)\n",
    "    df = pd.concat(srss, axis=1, sort=True, keys=['clirad-lw', 'lblnew-bestfit lw'])\n",
    "    df.fillna('-', inplace=True)\n",
    "    with pd.option_context('display.max_colwidth', 100):\n",
    "        display.display(df)"
   ]
  },
  {
   "cell_type": "code",
   "execution_count": 79,
   "metadata": {
    "collapsed": true,
    "hidden": true
   },
   "outputs": [],
   "source": [
    "import rtmtools.clirad.sw.wrangle as cliradwrangle\n",
    "\n",
    "def oldclirad_data_atm():\n",
    "    '''\n",
    "    Load the OLD clirad's results. mls only.\n",
    "    '''\n",
    "    fpath = os.path.join('/chia_cluster/home/jackyu/radiation',\n",
    "                         'clirad-lw',\n",
    "                         'LW',\n",
    "                         'examples',\n",
    "                         'mls75_h2o_atmpro_co2_.0004_o3_atmpro_n2o_3.2e-7_ch4_1.8e-6_H2012',\n",
    "                         'OUTPUT_CLIRAD.dat')\n",
    "    \n",
    "    ds = cliradwrangle.load_OUTPUT_CLIRAD(readfrom=fpath)\n",
    "    \n",
    "    ds_cool = xr.Dataset()\n",
    "    ds_cool.coords['pressure'] = ('pressure', ds['layer_pressure'])\n",
    "    ds_cool.coords['band'] = ('band', ds['spectral_band'])\n",
    "    ds_cool['coolrg'] = (('band', 'pressure'), - ds['heating_rate'])\n",
    "    \n",
    "    ds_flux = xr.Dataset()\n",
    "    ds_flux.coords['pressure'] = ('pressure', ds['level_pressure'])\n",
    "    ds_flux.coords['band'] = ('band', ds['spectral_band'])\n",
    "    ds_flux['flug'] = (('band', 'pressure'), ds['flux_up'])\n",
    "    ds_flux['fldg'] = (('band', 'pressure'), ds['flux_down'])\n",
    "    ds_flux['fnetg'] = (('band', 'pressure'), ds['net_flux'])\n",
    "    \n",
    "    \n",
    "    d = {}\n",
    "    d['cool'] = ds_cool\n",
    "    d['flux'] = ds_flux\n",
    "    return d"
   ]
  },
  {
   "cell_type": "code",
   "execution_count": 80,
   "metadata": {
    "collapsed": true,
    "hidden": true
   },
   "outputs": [],
   "source": [
    "def show_makeup():\n",
    "    df = pd.DataFrame()\n",
    "    for band, gs in atmcomp.gasinbands.items():\n",
    "        for g in gs:\n",
    "            df.loc[g, band] = str(atmcomp.gasconcs[g])\n",
    "\n",
    "    df = df.fillna(0)\n",
    "    df.columns.name = 'clirad band'\n",
    "    df.index.name = 'molecule'\n",
    "    \n",
    "    display.display(df)\n",
    "    display.display(display.Markdown('*TABLE.* Non-grey absorbers in the atmosphere.'))"
   ]
  },
  {
   "cell_type": "code",
   "execution_count": 81,
   "metadata": {
    "collapsed": true,
    "hidden": true,
    "scrolled": false
   },
   "outputs": [],
   "source": [
    "def pltdata_cool(dcrd=None, dcli=None, atmpro='mls'):\n",
    "    colors = all_palettes['Set1'][4]\n",
    "    cool_cli = dcli.wgt_cool.sel(i=1).sum('band')['coolrg']\n",
    "    cool_crd = dcrd.crd_cool['coolrg'].sum('band').sum('g')\n",
    "    \n",
    "    data = [\n",
    "        {'label': 'CLIRAD',\n",
    "         'srs': cool_cli,\n",
    "         'line_dash': 'dashed', 'line_width': 5,\n",
    "         'color': colors[0], 'alpha': .6},\n",
    "        {'label': 'CRD',\n",
    "         'srs': cool_crd,\n",
    "         'line_dash': 'solid', 'line_width': 1.5,\n",
    "         'marker': 'circle', 'marker_size': 5,\n",
    "         'color': colors[2], 'alpha': 1}\n",
    "    ]\n",
    "    \n",
    "    # include old CLIRAD's results for mls profile\n",
    "#    if atmpro == 'mls':\n",
    "#        d_oldclirad = oldclirad_data_atm()\n",
    "#        ds_oldclirad = d_oldclirad['cool']        \n",
    "#        data.append(\n",
    "#            {'label': 'old CLIRAD (H2012)',\n",
    "#             'srs': fmt_cool(ds_oldclirad),\n",
    "#             'line_dash': 'solid', 'line_width': 1.5,\n",
    "#             'marker': 'square', 'marker_size': 3,\n",
    "#             'color': colors[3], 'alpha': .5})\n",
    "    return data\n",
    "\n",
    "\n",
    "def pltdata_cooldiff(dcrd=None, dcli=None, atmpro='mls'): \n",
    "    colors = all_palettes['Set1'][4]\n",
    "    cool_cli = dcli.wgt_cool.sel(i=1).sum('band')['coolrg']\n",
    "    cool_crd = dcrd.crd_cool['coolrg'].sum('band').sum('g')\n",
    "    cool_dif = cool_cli - cool_crd\n",
    "    \n",
    "    data = [\n",
    "        {'label': 'CLIRAD - CRD',\n",
    "         'srs': cool_dif,\n",
    "         'line_dash': 'solid', 'line_width': 1.5, \n",
    "         'marker': 'circle', 'marker_size': 7,\n",
    "         'color': colors[3], 'alpha': .8}\n",
    "    ]\n",
    "    \n",
    "    # include old CLIRAD's results for mls profile\n",
    "#    if atmpro == 'mls':\n",
    "#        d_oldclirad = oldclirad_data_atm()\n",
    "#        ds_oldclirad = d_oldclirad['cool']\n",
    "#        ds_oldclirad.coords['pressure'] = ds_crd.coords['pressure']\n",
    "#        ds_diff_old = ds_oldclirad.sum('band') - ds_crd.sum('band')\n",
    "#        data.append(\n",
    "#            {'label': 'old CLIRAD (H2012) - CRD',\n",
    "#             'srs': fmt_cool(ds_diff_old),\n",
    "#             'line_dash': 'dashed', 'line_width': 4,\n",
    "#             'color': colors[1], 'alpha': .5}\n",
    "#        )\n",
    "    return data\n",
    "\n",
    "\n",
    "def show_cool(dcrd=None, dcli=None, atmpro='mls'):\n",
    "    data_cool = pltdata_cool(dcrd, dcli, atmpro=atmpro)\n",
    "    p_cool_liny = plt_vert_profile_bokeh(pltdata=data_cool)\n",
    "    p_cool_logy = plt_vert_profile_bokeh(pltdata=data_cool, y_axis_type='log', prange=(.01, 200))\n",
    "    \n",
    "    data_cooldiff = pltdata_cooldiff(dcrd, dcli, atmpro=atmpro)\n",
    "    p_cooldiff_logy = plt_vert_profile_bokeh(pltdata=data_cooldiff, y_axis_type='log', prange=(.01, 200))\n",
    "    \n",
    "    everything = gridplot(p_cool_liny, p_cool_logy, p_cooldiff_logy, ncols=3)\n",
    "    show(everything)\n",
    "    display.display(display.Markdown('*FIGURE.* Cooling rates & difference.'))"
   ]
  },
  {
   "cell_type": "code",
   "execution_count": 82,
   "metadata": {
    "collapsed": true,
    "hidden": true,
    "scrolled": false
   },
   "outputs": [],
   "source": [
    "def hist_band_vs_flux(da, title='Title'):\n",
    "    bands = [str(b.values) for b in da['band']]\n",
    "    source = ColumnDataSource(data={'band': bands, 'flux': da.values})\n",
    "    p = figure(x_range=bands, title=title)\n",
    "    p.vbar(source=source, x='band', top='flux', width=.9)\n",
    "    p.yaxis.axis_label = 'flux (W m-2)'\n",
    "    p.xaxis.axis_label = 'spectral band'\n",
    "    return p\n",
    "\n",
    "def show_hist_flux(dcrd=None, dcli=None, atmpro='mls'):\n",
    "    ds_crd = dcrd.crd_flux.sum('g')\n",
    "    ds_clirad = dcli.wgt_flux.sel(i=1)\n",
    "    \n",
    "    ip, varname = 0, 'flug'\n",
    "    da = (ds_clirad - ds_crd).isel(pressure=ip)[varname]\n",
    "    p_toa = hist_band_vs_flux(da, title='TOA flux. CLIRAD - CRD.')\n",
    "\n",
    "    ip, varname = -1, 'fldg'\n",
    "    da = (ds_clirad - ds_crd).isel(pressure=ip)[varname]\n",
    "    p_sfc = hist_band_vs_flux(da, title='SFC flux. CLIRAD - CRD.')    \n",
    "    \n",
    "    atm_crd = (ds_crd.isel(pressure=0) - ds_crd.isel(pressure=-1))['fnetg']\n",
    "    atm_clirad = (ds_clirad.isel(pressure=0) - ds_clirad.isel(pressure=-1))['fnetg']\n",
    "    da = atm_clirad - atm_crd\n",
    "    p_atm = hist_band_vs_flux(da, title='Atmosphere heating. CLIRAD - CRD.')\n",
    "\n",
    "    everything = gridplot(p_toa, p_sfc, p_atm, ncols=3, plot_width=300, plot_height=300)\n",
    "    \n",
    "    show(everything)\n",
    "    display.display(\n",
    "        display.Markdown('*FIGURE.* Difference between CLIRAD and CRD'\n",
    "          ' in TOA, SFC and net atmosphere flux,'\n",
    "          ' in each spectral band.'))\n",
    "\n",
    "def show_tb_flux(dcrd=None, dcli=None, atmpro='mls'):\n",
    "    fluxcrd = dcrd.crd_flux.sum(['band', 'g'])\n",
    "    olr_crd = fluxcrd['flug'].isel(pressure=0)\n",
    "    sfc_crd = fluxcrd['fldg'].isel(pressure=-1)\n",
    "    atm_crd = (fluxcrd.isel(pressure=0) - fluxcrd.isel(pressure=-1))['fnetg']\n",
    "    \n",
    "    fluxcli = dcli.wgt_flux.sel(i=1).sum('band')\n",
    "    olr_cli = fluxcli['flug'].isel(pressure=0)\n",
    "    sfc_cli = fluxcli['fldg'].isel(pressure=-1)\n",
    "    atm_cli = (fluxcli.isel(pressure=0) - fluxcli.isel(pressure=-1))['fnetg']\n",
    "    \n",
    "#    if atmpro == 'mls':\n",
    "#        ds_oldclirad = oldclirad_data_atm()['flux']\n",
    "#        ds_oldclirad['pressure'] = ds_crd['pressure']\n",
    "#        olr_oldclirad = ds_oldclirad['flug'].isel(pressure=0)\n",
    "#        sfc_oldclirad = ds_oldclirad['fldg'].isel(pressure=-1)\n",
    "#        atm_oldclirad = (ds_oldclirad.isel(pressure=0)\n",
    "#                         - ds_oldclirad.isel(pressure=-1))['fnetg']\n",
    "        \n",
    "    df = pd.DataFrame()\n",
    "    df.index.name = 'Sum over bands'\n",
    "    \n",
    "#    if atmpro == 'mls':\n",
    "#        df.loc['old CLIRAD - CRD', 'OLR flux'] = (fmt(olr_oldclirad) - fmt(olr_crd)).values\n",
    "#        df.loc['old CLIRAD - CRD', 'SFC flux'] = (fmt(sfc_oldclirad) - fmt(sfc_crd)).values\n",
    "#        df.loc['old CLIRAD - CRD', 'ATM heating'] = (fmt(atm_oldclirad) - fmt(atm_crd)).values\n",
    "\n",
    "    df.loc['CLIRAD - CRD', 'OLR flux'] = (olr_cli - olr_crd).values\n",
    "    df.loc['CLIRAD - CRD', 'SFC flux'] = (sfc_cli - sfc_crd).values\n",
    "    df.loc['CLIRAD - CRD', 'ATM heating'] = (atm_cli - atm_crd).values\n",
    "\n",
    "    df.loc['CRD', 'OLR flux'] = olr_crd.values\n",
    "    df.loc['CRD', 'SFC flux'] = sfc_crd.values\n",
    "    df.loc['CRD', 'ATM heating'] = atm_crd.values\n",
    "        \n",
    "    df = df.astype('float').round(2)\n",
    "    \n",
    "    display.display(df)\n",
    "    display.display(\n",
    "        display.Markdown('*TABLE.* Difference between CLIRAD and CRD'\n",
    "          ' in TOA, SFC and net atmosphere flux,'\n",
    "          ' over all spectral bands. CRD\\'s'\n",
    "          ' TOA, SFC and net atmosphere flux,'\n",
    "          ' over all spectral bands.'))\n",
    "    \n",
    "\n",
    "#show_hist_flux(dcrd, dcli, atmpro='mls')\n",
    "#show_tb_flux(DCRD['mls'], DCLI['mls'], atmpro='mls')"
   ]
  },
  {
   "cell_type": "code",
   "execution_count": 83,
   "metadata": {
    "collapsed": true,
    "hidden": true,
    "scrolled": true
   },
   "outputs": [],
   "source": [
    "def cool_tofile(atmpro=None):\n",
    "    dcli = clirad_data_atm(params_atm=[subparam_atm_clirad(atmpro=atmpro)])\n",
    "    dcrd = crd_data_atm(params_atm=subparams_atm_lblnew(atmpro=atmpro))\n",
    "    \n",
    "    dcli = dcli['cool'].sel(i=1).drop('i').sum('band')\n",
    "    dcrd = dcrd['cool'].sum('band')\n",
    "    \n",
    "    dcli = dcli['coolrg'].to_dataframe()\n",
    "    dcrd = dcrd['coolrg'].to_dataframe()\n",
    "    \n",
    "    dcli = dcli.set_index('layer', append=True)\n",
    "    dcrd = dcrd.set_index('layer', append=True)\n",
    "    \n",
    "    ddif = dcli - dcrd\n",
    "    \n",
    "    df = pd.concat([dcrd, dcli, ddif], axis=1, keys=['CRD', 'CLIRAD', 'CLIRAD - CRD'])\n",
    "    return df\n",
    "\n",
    "\n",
    "def flux_tofile(atmpro=None):\n",
    "    tropopauses = {'mls': 40, 'saw': 45, 'trp': 37}\n",
    "    ilevels = [0, tropopauses[atmpro], -1]\n",
    "    \n",
    "    dcli = clirad_data_atm(params_atm=[subparam_atm_clirad(atmpro=atmpro)])\n",
    "    dcrd = crd_data_atm(params_atm=subparams_atm_lblnew(atmpro=atmpro))\n",
    "    \n",
    "    dcli = dcli['flux'].sel(i=1).drop('i').sum('band').isel(pressure=ilevels)\n",
    "    dcrd = dcrd['flux'].sum('band').isel(pressure=ilevels)\n",
    "    \n",
    "    dcli = dcli.to_dataframe()\n",
    "    dcrd = dcrd.to_dataframe()\n",
    "    \n",
    "    dcli = dcli.set_index('level', append=True)\n",
    "    dcrd = dcrd.set_index('level', append=True)\n",
    "    \n",
    "    ddif = dcli - dcrd\n",
    "    \n",
    "    df = pd.concat([dcrd, dcli, ddif], axis=1, keys=['CRD', 'CLIRAD', 'CLIRAD - CRD'])\n",
    "    return df\n",
    "\n",
    "\n",
    "def script_tofile():\n",
    "    fname = f'results_{MOL}atm_cliradsinglerun.xlsx'\n",
    "    writer = pd.ExcelWriter(fname)\n",
    "    for atmpro in ('mls', 'saw', 'trp'):\n",
    "        dflux = flux_tofile(atmpro=atmpro)\n",
    "        dflux.to_excel(writer, f'flux {atmpro}')\n",
    "        \n",
    "        dcool = cool_tofile(atmpro=atmpro)\n",
    "        dcool.to_excel(writer, f'cool {atmpro}')\n",
    "        \n",
    "    html = f'Download: <a href=\"./{fname}\">{fname}</a>'\n",
    "    show_html(html) "
   ]
  },
  {
   "cell_type": "code",
   "execution_count": 147,
   "metadata": {
    "collapsed": true,
    "hidden": true,
    "scrolled": false
   },
   "outputs": [],
   "source": [
    "def script():\n",
    "    \n",
    "    d_atm = {'mls': 'mid-latitude summer', 'saw': 'sub-arctic winter', 'trp': 'tropical'}\n",
    "    \n",
    "    s_makeup = 'Makeup of atmosphere.'\n",
    "    s_parameters = 'Parameters of runs.'\n",
    "    s_atmpro = '# {}'\n",
    "    s_cool = 'Cooling rates. {}.'\n",
    "    s_flux = 'Fluxes. {}.'\n",
    "    \n",
    "    atmpros = ['mls', 'saw', 'trp']\n",
    "    \n",
    "    # TOC\n",
    "    show_markdown('### Table of Contents')\n",
    "    show_html(getHTML_hrefanchor(s_makeup))\n",
    "    \n",
    "    for atmpro in atmpros:\n",
    "        show_markdown('**' + d_atm[atmpro] + '**')\n",
    "        show_html(getHTML_hrefanchor(s_parameters + f' {atmpro}'))\n",
    "        show_html(getHTML_hrefanchor(s_cool.format(atmpro)))\n",
    "        show_html(getHTML_hrefanchor(s_flux.format(atmpro)))\n",
    "\n",
    "    # Atmosphere makeup\n",
    "    show_html(getHTML_idanchor(s_makeup))\n",
    "    show_markdown(getMarkdown_sectitle(s_makeup))\n",
    "    show_makeup()\n",
    "        \n",
    "    for atmpro in atmpros:\n",
    "        dcrd, dcli = DCRD[atmpro], DCLI[atmpro]\n",
    "        \n",
    "        show_html(getHTML_idanchor(s_parameters + f' {atmpro}'))\n",
    "        show_markdown(getMarkdown_sectitle(s_parameters + f' {atmpro}'))\n",
    "        show_parameters(dcrd, dcli)\n",
    "        \n",
    "        show_html(getHTML_idanchor(s_cool.format(atmpro)))\n",
    "        show_markdown(getMarkdown_sectitle(s_cool.format(atmpro)))\n",
    "        show_cool(dcrd, dcli, atmpro=atmpro)\n",
    "        \n",
    "        show_html(getHTML_idanchor(s_flux.format(atmpro)))\n",
    "        show_markdown(getMarkdown_sectitle(s_flux.format(atmpro)))\n",
    "        show_hist_flux(dcrd, dcli, atmpro=atmpro)\n",
    "        show_tb_flux(dcrd, dcli, atmpro=atmpro)\n",
    "    \n",
    "    #script_tofile()"
   ]
  },
  {
   "cell_type": "markdown",
   "metadata": {},
   "source": [
    "## Analysis Result"
   ]
  },
  {
   "cell_type": "code",
   "execution_count": 149,
   "metadata": {
    "scrolled": false
   },
   "outputs": [
    {
     "data": {
      "text/markdown": [
       "### Table of Contents"
      ],
      "text/plain": [
       "<IPython.core.display.Markdown object>"
      ]
     },
     "metadata": {},
     "output_type": "display_data"
    },
    {
     "data": {
      "text/html": [
       "<a href=\"#Makeup_of_atmosphere.\">Makeup of atmosphere.</a>"
      ],
      "text/plain": [
       "<IPython.core.display.HTML object>"
      ]
     },
     "metadata": {},
     "output_type": "display_data"
    },
    {
     "data": {
      "text/markdown": [
       "**mid-latitude summer**"
      ],
      "text/plain": [
       "<IPython.core.display.Markdown object>"
      ]
     },
     "metadata": {},
     "output_type": "display_data"
    },
    {
     "data": {
      "text/html": [
       "<a href=\"#Parameters_of_runs._mls\">Parameters of runs. mls</a>"
      ],
      "text/plain": [
       "<IPython.core.display.HTML object>"
      ]
     },
     "metadata": {},
     "output_type": "display_data"
    },
    {
     "data": {
      "text/html": [
       "<a href=\"#Cooling_rates._mls.\">Cooling rates. mls.</a>"
      ],
      "text/plain": [
       "<IPython.core.display.HTML object>"
      ]
     },
     "metadata": {},
     "output_type": "display_data"
    },
    {
     "data": {
      "text/html": [
       "<a href=\"#Fluxes._mls.\">Fluxes. mls.</a>"
      ],
      "text/plain": [
       "<IPython.core.display.HTML object>"
      ]
     },
     "metadata": {},
     "output_type": "display_data"
    },
    {
     "data": {
      "text/markdown": [
       "**sub-arctic winter**"
      ],
      "text/plain": [
       "<IPython.core.display.Markdown object>"
      ]
     },
     "metadata": {},
     "output_type": "display_data"
    },
    {
     "data": {
      "text/html": [
       "<a href=\"#Parameters_of_runs._saw\">Parameters of runs. saw</a>"
      ],
      "text/plain": [
       "<IPython.core.display.HTML object>"
      ]
     },
     "metadata": {},
     "output_type": "display_data"
    },
    {
     "data": {
      "text/html": [
       "<a href=\"#Cooling_rates._saw.\">Cooling rates. saw.</a>"
      ],
      "text/plain": [
       "<IPython.core.display.HTML object>"
      ]
     },
     "metadata": {},
     "output_type": "display_data"
    },
    {
     "data": {
      "text/html": [
       "<a href=\"#Fluxes._saw.\">Fluxes. saw.</a>"
      ],
      "text/plain": [
       "<IPython.core.display.HTML object>"
      ]
     },
     "metadata": {},
     "output_type": "display_data"
    },
    {
     "data": {
      "text/markdown": [
       "**tropical**"
      ],
      "text/plain": [
       "<IPython.core.display.Markdown object>"
      ]
     },
     "metadata": {},
     "output_type": "display_data"
    },
    {
     "data": {
      "text/html": [
       "<a href=\"#Parameters_of_runs._trp\">Parameters of runs. trp</a>"
      ],
      "text/plain": [
       "<IPython.core.display.HTML object>"
      ]
     },
     "metadata": {},
     "output_type": "display_data"
    },
    {
     "data": {
      "text/html": [
       "<a href=\"#Cooling_rates._trp.\">Cooling rates. trp.</a>"
      ],
      "text/plain": [
       "<IPython.core.display.HTML object>"
      ]
     },
     "metadata": {},
     "output_type": "display_data"
    },
    {
     "data": {
      "text/html": [
       "<a href=\"#Fluxes._trp.\">Fluxes. trp.</a>"
      ],
      "text/plain": [
       "<IPython.core.display.HTML object>"
      ]
     },
     "metadata": {},
     "output_type": "display_data"
    },
    {
     "data": {
      "text/html": [
       "<a id=\"Makeup_of_atmosphere.\"></a>"
      ],
      "text/plain": [
       "<IPython.core.display.HTML object>"
      ]
     },
     "metadata": {},
     "output_type": "display_data"
    },
    {
     "data": {
      "text/markdown": [
       "# Makeup of atmosphere."
      ],
      "text/plain": [
       "<IPython.core.display.Markdown object>"
      ]
     },
     "metadata": {},
     "output_type": "display_data"
    },
    {
     "data": {
      "text/html": [
       "<div>\n",
       "<style scoped>\n",
       "    .dataframe tbody tr th:only-of-type {\n",
       "        vertical-align: middle;\n",
       "    }\n",
       "\n",
       "    .dataframe tbody tr th {\n",
       "        vertical-align: top;\n",
       "    }\n",
       "\n",
       "    .dataframe thead th {\n",
       "        text-align: right;\n",
       "    }\n",
       "</style>\n",
       "<table border=\"1\" class=\"dataframe\">\n",
       "  <thead>\n",
       "    <tr style=\"text-align: right;\">\n",
       "      <th>clirad band</th>\n",
       "      <th>3</th>\n",
       "      <th>4</th>\n",
       "      <th>5</th>\n",
       "      <th>6</th>\n",
       "      <th>7</th>\n",
       "      <th>11</th>\n",
       "    </tr>\n",
       "    <tr>\n",
       "      <th>molecule</th>\n",
       "      <th></th>\n",
       "      <th></th>\n",
       "      <th></th>\n",
       "      <th></th>\n",
       "      <th></th>\n",
       "      <th></th>\n",
       "    </tr>\n",
       "  </thead>\n",
       "  <tbody>\n",
       "    <tr>\n",
       "      <th>co2</th>\n",
       "      <td>0.0004</td>\n",
       "      <td>0.0004</td>\n",
       "      <td>0.0004</td>\n",
       "      <td>0.0004</td>\n",
       "      <td>0.0004</td>\n",
       "      <td>0.0004</td>\n",
       "    </tr>\n",
       "  </tbody>\n",
       "</table>\n",
       "</div>"
      ],
      "text/plain": [
       "clirad band      3       4       5       6       7       11\n",
       "molecule                                                   \n",
       "co2          0.0004  0.0004  0.0004  0.0004  0.0004  0.0004"
      ]
     },
     "metadata": {},
     "output_type": "display_data"
    },
    {
     "data": {
      "text/markdown": [
       "*TABLE.* Non-grey absorbers in the atmosphere."
      ],
      "text/plain": [
       "<IPython.core.display.Markdown object>"
      ]
     },
     "metadata": {},
     "output_type": "display_data"
    },
    {
     "data": {
      "text/html": [
       "<a id=\"Parameters_of_runs._mls\"></a>"
      ],
      "text/plain": [
       "<IPython.core.display.HTML object>"
      ]
     },
     "metadata": {},
     "output_type": "display_data"
    },
    {
     "data": {
      "text/markdown": [
       "# Parameters of runs. mls"
      ],
      "text/plain": [
       "<IPython.core.display.Markdown object>"
      ]
     },
     "metadata": {},
     "output_type": "display_data"
    },
    {
     "data": {
      "text/html": [
       "<div>\n",
       "<style scoped>\n",
       "    .dataframe tbody tr th:only-of-type {\n",
       "        vertical-align: middle;\n",
       "    }\n",
       "\n",
       "    .dataframe tbody tr th {\n",
       "        vertical-align: top;\n",
       "    }\n",
       "\n",
       "    .dataframe thead tr th {\n",
       "        text-align: left;\n",
       "    }\n",
       "</style>\n",
       "<table border=\"1\" class=\"dataframe\">\n",
       "  <thead>\n",
       "    <tr>\n",
       "      <th></th>\n",
       "      <th>clirad-lw</th>\n",
       "      <th colspan=\"6\" halign=\"left\">lblnew-bestfit lw</th>\n",
       "    </tr>\n",
       "    <tr>\n",
       "      <th></th>\n",
       "      <th>:D</th>\n",
       "      <th>band3a co2</th>\n",
       "      <th>band3b co2</th>\n",
       "      <th>band3c co2</th>\n",
       "      <th>band4 co2</th>\n",
       "      <th>band5 co2</th>\n",
       "      <th>band9 co2</th>\n",
       "    </tr>\n",
       "  </thead>\n",
       "  <tbody>\n",
       "    <tr>\n",
       "      <th>atmpro</th>\n",
       "      <td>mls</td>\n",
       "      <td>mls</td>\n",
       "      <td>mls</td>\n",
       "      <td>mls</td>\n",
       "      <td>mls</td>\n",
       "      <td>mls</td>\n",
       "      <td>mls</td>\n",
       "    </tr>\n",
       "    <tr>\n",
       "      <th>band</th>\n",
       "      <td>[3, 4, 5, 6, 7, 11]</td>\n",
       "      <td>3a</td>\n",
       "      <td>3b</td>\n",
       "      <td>3c</td>\n",
       "      <td>4</td>\n",
       "      <td>5</td>\n",
       "      <td>9</td>\n",
       "    </tr>\n",
       "    <tr>\n",
       "      <th>commitnumber</th>\n",
       "      <td>1013f91</td>\n",
       "      <td>a22ab94</td>\n",
       "      <td>a22ab94</td>\n",
       "      <td>a22ab94</td>\n",
       "      <td>a22ab94</td>\n",
       "      <td>a22ab94</td>\n",
       "      <td>a22ab94</td>\n",
       "    </tr>\n",
       "    <tr>\n",
       "      <th>conc</th>\n",
       "      <td>-</td>\n",
       "      <td>0.0004</td>\n",
       "      <td>0.0004</td>\n",
       "      <td>0.0004</td>\n",
       "      <td>0.0004</td>\n",
       "      <td>0.0004</td>\n",
       "      <td>0.0004</td>\n",
       "    </tr>\n",
       "    <tr>\n",
       "      <th>dv</th>\n",
       "      <td>-</td>\n",
       "      <td>0.001</td>\n",
       "      <td>0.001</td>\n",
       "      <td>0.001</td>\n",
       "      <td>0.001</td>\n",
       "      <td>0.001</td>\n",
       "      <td>0.001</td>\n",
       "    </tr>\n",
       "    <tr>\n",
       "      <th>klin</th>\n",
       "      <td>-</td>\n",
       "      <td>6.37556e-24</td>\n",
       "      <td>0</td>\n",
       "      <td>6.37556e-24</td>\n",
       "      <td>6.5e-24</td>\n",
       "      <td>6.5e-24</td>\n",
       "      <td>6.5e-24</td>\n",
       "    </tr>\n",
       "    <tr>\n",
       "      <th>molecule</th>\n",
       "      <td>{'co2': 0.0004}</td>\n",
       "      <td>co2</td>\n",
       "      <td>co2</td>\n",
       "      <td>co2</td>\n",
       "      <td>co2</td>\n",
       "      <td>co2</td>\n",
       "      <td>co2</td>\n",
       "    </tr>\n",
       "    <tr>\n",
       "      <th>ng_adju</th>\n",
       "      <td>-</td>\n",
       "      <td>[0, 0, 0]</td>\n",
       "      <td>[0, 0]</td>\n",
       "      <td>[0, 0, 0]</td>\n",
       "      <td>[0, 0]</td>\n",
       "      <td>[0, 0]</td>\n",
       "      <td>[0, 0]</td>\n",
       "    </tr>\n",
       "    <tr>\n",
       "      <th>ng_refs</th>\n",
       "      <td>-</td>\n",
       "      <td>[3, 2, 4]</td>\n",
       "      <td>[5, 2]</td>\n",
       "      <td>[3, 2, 4]</td>\n",
       "      <td>[1, 2]</td>\n",
       "      <td>[1, 2]</td>\n",
       "      <td>[3, 3]</td>\n",
       "    </tr>\n",
       "    <tr>\n",
       "      <th>nv</th>\n",
       "      <td>-</td>\n",
       "      <td>1000</td>\n",
       "      <td>1000</td>\n",
       "      <td>1000</td>\n",
       "      <td>1000</td>\n",
       "      <td>1000</td>\n",
       "      <td>1000</td>\n",
       "    </tr>\n",
       "    <tr>\n",
       "      <th>option_compute_btable</th>\n",
       "      <td>-</td>\n",
       "      <td>0</td>\n",
       "      <td>0</td>\n",
       "      <td>0</td>\n",
       "      <td>0</td>\n",
       "      <td>0</td>\n",
       "      <td>0</td>\n",
       "    </tr>\n",
       "    <tr>\n",
       "      <th>option_compute_ktable</th>\n",
       "      <td>-</td>\n",
       "      <td>0</td>\n",
       "      <td>0</td>\n",
       "      <td>0</td>\n",
       "      <td>0</td>\n",
       "      <td>0</td>\n",
       "      <td>0</td>\n",
       "    </tr>\n",
       "    <tr>\n",
       "      <th>option_wgt_flux</th>\n",
       "      <td>-</td>\n",
       "      <td>1</td>\n",
       "      <td>1</td>\n",
       "      <td>1</td>\n",
       "      <td>1</td>\n",
       "      <td>1</td>\n",
       "      <td>1</td>\n",
       "    </tr>\n",
       "    <tr>\n",
       "      <th>option_wgt_k</th>\n",
       "      <td>-</td>\n",
       "      <td>1</td>\n",
       "      <td>1</td>\n",
       "      <td>1</td>\n",
       "      <td>1</td>\n",
       "      <td>1</td>\n",
       "      <td>1</td>\n",
       "    </tr>\n",
       "    <tr>\n",
       "      <th>ref_pts</th>\n",
       "      <td>-</td>\n",
       "      <td>[[1, 250], [10, 250], [500, 250]]</td>\n",
       "      <td>[[1, 250], [10, 250]]</td>\n",
       "      <td>[[1, 250], [10, 250], [500, 250]]</td>\n",
       "      <td>[[1, 250], [500, 250]]</td>\n",
       "      <td>[[1, 250], [500, 250]]</td>\n",
       "      <td>[[1, 250], [50, 250]]</td>\n",
       "    </tr>\n",
       "    <tr>\n",
       "      <th>tsfc</th>\n",
       "      <td>294</td>\n",
       "      <td>294</td>\n",
       "      <td>294</td>\n",
       "      <td>294</td>\n",
       "      <td>294</td>\n",
       "      <td>294</td>\n",
       "      <td>294</td>\n",
       "    </tr>\n",
       "    <tr>\n",
       "      <th>vmax</th>\n",
       "      <td>-</td>\n",
       "      <td>620</td>\n",
       "      <td>720</td>\n",
       "      <td>800</td>\n",
       "      <td>980</td>\n",
       "      <td>1100</td>\n",
       "      <td>3000</td>\n",
       "    </tr>\n",
       "    <tr>\n",
       "      <th>vmin</th>\n",
       "      <td>-</td>\n",
       "      <td>540</td>\n",
       "      <td>620</td>\n",
       "      <td>720</td>\n",
       "      <td>800</td>\n",
       "      <td>980</td>\n",
       "      <td>1900</td>\n",
       "    </tr>\n",
       "    <tr>\n",
       "      <th>w_diffuse</th>\n",
       "      <td>-</td>\n",
       "      <td>[[1.6, 1.6, 1.7], [1.75, 1.75], [1.55, 1.55, 1.6, 1.85]]</td>\n",
       "      <td>[[1.66, 1.66, 1.66, 1.66, 1.66], [1.66, 1.66]]</td>\n",
       "      <td>[[1.7, 1.6, 1.8], [1.8, 1.7], [1.5, 1.6, 1.7, 1.8]]</td>\n",
       "      <td>[[1.75], [1.66, 1.9]]</td>\n",
       "      <td>[[1.75], [1.66, 1.9]]</td>\n",
       "      <td>[[1.66, 1.66, 1.75], [1.75, 1.6, 1.85]]</td>\n",
       "    </tr>\n",
       "    <tr>\n",
       "      <th>wgt</th>\n",
       "      <td>-</td>\n",
       "      <td>[[0.7, 0.3, 0.7], [0.7, 0.6], [0.4, 0.5, 0.8, 0.95]]</td>\n",
       "      <td>[[0, 0.6, 0.5, 0.7, 0.8], [0.8, 0.7]]</td>\n",
       "      <td>[[0.6, 0.4, 0.7], [0.7, 0.4], [0.3, 0.4, 0.85, 0.9]]</td>\n",
       "      <td>[[0.75], [0.75, 0.95]]</td>\n",
       "      <td>[[0.75], [0.75, 0.95]]</td>\n",
       "      <td>[[0.7, 0.8, 0.7], [0.8, 0.7, 0.8]]</td>\n",
       "    </tr>\n",
       "  </tbody>\n",
       "</table>\n",
       "</div>"
      ],
      "text/plain": [
       "                                 clirad-lw  \\\n",
       "                                        :D   \n",
       "atmpro                                 mls   \n",
       "band                   [3, 4, 5, 6, 7, 11]   \n",
       "commitnumber                       1013f91   \n",
       "conc                                     -   \n",
       "dv                                       -   \n",
       "klin                                     -   \n",
       "molecule                   {'co2': 0.0004}   \n",
       "ng_adju                                  -   \n",
       "ng_refs                                  -   \n",
       "nv                                       -   \n",
       "option_compute_btable                    -   \n",
       "option_compute_ktable                    -   \n",
       "option_wgt_flux                          -   \n",
       "option_wgt_k                             -   \n",
       "ref_pts                                  -   \n",
       "tsfc                                   294   \n",
       "vmax                                     -   \n",
       "vmin                                     -   \n",
       "w_diffuse                                -   \n",
       "wgt                                      -   \n",
       "\n",
       "                                                              lblnew-bestfit lw  \\\n",
       "                                                                     band3a co2   \n",
       "atmpro                                                                      mls   \n",
       "band                                                                         3a   \n",
       "commitnumber                                                            a22ab94   \n",
       "conc                                                                     0.0004   \n",
       "dv                                                                        0.001   \n",
       "klin                                                                6.37556e-24   \n",
       "molecule                                                                    co2   \n",
       "ng_adju                                                               [0, 0, 0]   \n",
       "ng_refs                                                               [3, 2, 4]   \n",
       "nv                                                                         1000   \n",
       "option_compute_btable                                                         0   \n",
       "option_compute_ktable                                                         0   \n",
       "option_wgt_flux                                                               1   \n",
       "option_wgt_k                                                                  1   \n",
       "ref_pts                                       [[1, 250], [10, 250], [500, 250]]   \n",
       "tsfc                                                                        294   \n",
       "vmax                                                                        620   \n",
       "vmin                                                                        540   \n",
       "w_diffuse              [[1.6, 1.6, 1.7], [1.75, 1.75], [1.55, 1.55, 1.6, 1.85]]   \n",
       "wgt                        [[0.7, 0.3, 0.7], [0.7, 0.6], [0.4, 0.5, 0.8, 0.95]]   \n",
       "\n",
       "                                                                       \\\n",
       "                                                           band3b co2   \n",
       "atmpro                                                            mls   \n",
       "band                                                               3b   \n",
       "commitnumber                                                  a22ab94   \n",
       "conc                                                           0.0004   \n",
       "dv                                                              0.001   \n",
       "klin                                                                0   \n",
       "molecule                                                          co2   \n",
       "ng_adju                                                        [0, 0]   \n",
       "ng_refs                                                        [5, 2]   \n",
       "nv                                                               1000   \n",
       "option_compute_btable                                               0   \n",
       "option_compute_ktable                                               0   \n",
       "option_wgt_flux                                                     1   \n",
       "option_wgt_k                                                        1   \n",
       "ref_pts                                         [[1, 250], [10, 250]]   \n",
       "tsfc                                                              294   \n",
       "vmax                                                              720   \n",
       "vmin                                                              620   \n",
       "w_diffuse              [[1.66, 1.66, 1.66, 1.66, 1.66], [1.66, 1.66]]   \n",
       "wgt                             [[0, 0.6, 0.5, 0.7, 0.8], [0.8, 0.7]]   \n",
       "\n",
       "                                                                             \\\n",
       "                                                                 band3c co2   \n",
       "atmpro                                                                  mls   \n",
       "band                                                                     3c   \n",
       "commitnumber                                                        a22ab94   \n",
       "conc                                                                 0.0004   \n",
       "dv                                                                    0.001   \n",
       "klin                                                            6.37556e-24   \n",
       "molecule                                                                co2   \n",
       "ng_adju                                                           [0, 0, 0]   \n",
       "ng_refs                                                           [3, 2, 4]   \n",
       "nv                                                                     1000   \n",
       "option_compute_btable                                                     0   \n",
       "option_compute_ktable                                                     0   \n",
       "option_wgt_flux                                                           1   \n",
       "option_wgt_k                                                              1   \n",
       "ref_pts                                   [[1, 250], [10, 250], [500, 250]]   \n",
       "tsfc                                                                    294   \n",
       "vmax                                                                    800   \n",
       "vmin                                                                    720   \n",
       "w_diffuse               [[1.7, 1.6, 1.8], [1.8, 1.7], [1.5, 1.6, 1.7, 1.8]]   \n",
       "wgt                    [[0.6, 0.4, 0.7], [0.7, 0.4], [0.3, 0.4, 0.85, 0.9]]   \n",
       "\n",
       "                                                                       \\\n",
       "                                    band4 co2               band5 co2   \n",
       "atmpro                                    mls                     mls   \n",
       "band                                        4                       5   \n",
       "commitnumber                          a22ab94                 a22ab94   \n",
       "conc                                   0.0004                  0.0004   \n",
       "dv                                      0.001                   0.001   \n",
       "klin                                  6.5e-24                 6.5e-24   \n",
       "molecule                                  co2                     co2   \n",
       "ng_adju                                [0, 0]                  [0, 0]   \n",
       "ng_refs                                [1, 2]                  [1, 2]   \n",
       "nv                                       1000                    1000   \n",
       "option_compute_btable                       0                       0   \n",
       "option_compute_ktable                       0                       0   \n",
       "option_wgt_flux                             1                       1   \n",
       "option_wgt_k                                1                       1   \n",
       "ref_pts                [[1, 250], [500, 250]]  [[1, 250], [500, 250]]   \n",
       "tsfc                                      294                     294   \n",
       "vmax                                      980                    1100   \n",
       "vmin                                      800                     980   \n",
       "w_diffuse               [[1.75], [1.66, 1.9]]   [[1.75], [1.66, 1.9]]   \n",
       "wgt                    [[0.75], [0.75, 0.95]]  [[0.75], [0.75, 0.95]]   \n",
       "\n",
       "                                                                \n",
       "                                                     band9 co2  \n",
       "atmpro                                                     mls  \n",
       "band                                                         9  \n",
       "commitnumber                                           a22ab94  \n",
       "conc                                                    0.0004  \n",
       "dv                                                       0.001  \n",
       "klin                                                   6.5e-24  \n",
       "molecule                                                   co2  \n",
       "ng_adju                                                 [0, 0]  \n",
       "ng_refs                                                 [3, 3]  \n",
       "nv                                                        1000  \n",
       "option_compute_btable                                        0  \n",
       "option_compute_ktable                                        0  \n",
       "option_wgt_flux                                              1  \n",
       "option_wgt_k                                                 1  \n",
       "ref_pts                                  [[1, 250], [50, 250]]  \n",
       "tsfc                                                       294  \n",
       "vmax                                                      3000  \n",
       "vmin                                                      1900  \n",
       "w_diffuse              [[1.66, 1.66, 1.75], [1.75, 1.6, 1.85]]  \n",
       "wgt                         [[0.7, 0.8, 0.7], [0.8, 0.7, 0.8]]  "
      ]
     },
     "metadata": {},
     "output_type": "display_data"
    },
    {
     "data": {
      "text/html": [
       "<a id=\"Cooling_rates._mls.\"></a>"
      ],
      "text/plain": [
       "<IPython.core.display.HTML object>"
      ]
     },
     "metadata": {},
     "output_type": "display_data"
    },
    {
     "data": {
      "text/markdown": [
       "# Cooling rates. mls."
      ],
      "text/plain": [
       "<IPython.core.display.Markdown object>"
      ]
     },
     "metadata": {},
     "output_type": "display_data"
    },
    {
     "data": {
      "text/html": [
       "\n",
       "<div class=\"bk-root\">\n",
       "    <div class=\"bk-plotdiv\" id=\"2bc12f68-36f7-47e6-93d1-de44fa69759e\"></div>\n",
       "</div>"
      ]
     },
     "metadata": {},
     "output_type": "display_data"
    },
    {
     "data": {
      "application/javascript": [
       "(function(root) {\n",
       "  function embed_document(root) {\n",
       "    \n",
       "  var docs_json = {\"8df6c712-a568-4258-9950-54379efd26a2\":{\"roots\":{\"references\":[{\"attributes\":{\"label\":{\"value\":\"CLIRAD\"},\"renderers\":[{\"id\":\"72386a43-7591-48d5-aa9d-99321398fb9b\",\"type\":\"GlyphRenderer\"}]},\"id\":\"6421f8d4-6dcf-495b-a739-357fc20f383a\",\"type\":\"LegendItem\"},{\"attributes\":{\"line_color\":\"#4daf4a\",\"line_width\":1.5,\"x\":{\"field\":\"x\"},\"y\":{\"field\":\"y\"}},\"id\":\"b60d1b27-c7ec-4dff-bdf5-e589148b9703\",\"type\":\"Line\"},{\"attributes\":{\"axis_label\":\"cooling rate [K/day]\",\"formatter\":{\"id\":\"3249aa4c-4b2b-4ce0-87a5-d15140955425\",\"type\":\"BasicTickFormatter\"},\"plot\":{\"id\":\"baa85b53-929d-4f46-8177-ec8a9a78af82\",\"subtype\":\"Figure\",\"type\":\"Plot\"},\"ticker\":{\"id\":\"5f8c0114-3aa3-433e-9f66-accf4dbd0aa0\",\"type\":\"BasicTicker\"}},\"id\":\"d9cbfa39-25f9-414c-97c5-c4bf5d3b285f\",\"type\":\"LinearAxis\"},{\"attributes\":{\"callback\":null,\"data\":{\"x\":{\"__ndarray__\":\"xA2DZIOPS0CQhgKJyvxEQJLNhwEEH0JANdHB8haxPUD21DW2n9A2QKLnIYTdkDBAWjC5KDl+J0BmTy8GLnchQNFYGcXHOhxAEFh9GuUEGEAcLYwZmQQUQBiuV4kBKQ9AaIQ6XUfCBUBqOu1sptT1P0L+A0Mhn94/3zWt0/Rq8T/Mj2f1a+QCQFoUWcEScApAQy3Xx09NEECi4mx09vcSQNVrNOkIcBZAMiVq13iTHUB6mgNsVm4jQF/4zWxz+SJAd0QrVpnxHEAwKrE7+ewVQPoSXyqMNhJAH0+iZBDfDkBaSOMqmWcJQInsFxSupQRAE2GYPUK0AEALibaOaiP4PybSFGyK3PE/fVDrV/iZ7j+2QU6Y50rmP1gom3hjZtY/a0IjJ7aTxz/8+K2QkIXEP+ezfpmB6K4/SnpvyJpjuL+nKVylZcC5v/zzy6AVsZw/Bys/QcpVtz/DvXEcOKO+P6HH7bXuz8E/BrjkZcJwwz+GQsMklRfFP6kCax1ga8Y/O4SScCTYxz84a5cpimTJP0Z54UKE8Mo/dAOrSXwezD8zFkNUYDXNP8ZXUwLv980/23sNCWyqzj8xKCFBAlnPP8pxrEP3BNA/rM7pWFxf0D9shnxoS7zQP6nE6SteGdE/oeiWKgx60T8GEazYhsvRP51ZaVfDQ9I/fMLqtBvJ0j9lke9YyGHTP1ewPVbYQ9Q/D2t/HTc51T+Hj3wktPzVP43lsfQOWNY/A2YWhYML1j/gUyEsj5/VP+LZw3EwcdU/L9LFF8aF1T8E6MB4YlvWP4Jt0b3fLNw/\",\"dtype\":\"float64\",\"shape\":[75]},\"y\":{\"__ndarray__\":\"GhExyth1ND/Sv8nbtpRIP2vylNV0PVE/aTum7souWD/At0SJ8fVgPw3Iuahxymc/MSNhhJWvcD/bTfBN02d3P2zb5nxnaoA/CD5h5MAGhz8NmeH1TyaQP+zrCsc9p5Y/LbKd76fGnz/bLW5ISEmmPww9YvTcQq8/JV2OstnstT8Er5Y7M8G+P0c+r3jqkcU/5h99k6ZBzj88bCIzFzjVP4enV8oyxN0//yH99nXg5D8qOpLLf0jtP5kqGJXUifQ/c9cS8kHP/D+/DpwzojQEQIEmwoanVwxA4lgXt9HgE0BSSZ2AJuIbQAMJih9jjiNA5q4l5INuK0AwTKYKRj0zQNv5fmq8/DpAaCJseHrtQkB/+zpwzoxKQM3MzMzMeFJAZmZmZmZqWEAAAAAAAFxeQM3MzMzMJmJAmpmZmZkfZUBmZmZmZhhoQDMzMzMzEWtAAAAAAAAKbkBmZmZmZoFwQM3MzMzM/XFAMzMzMzN6c0CamZmZmfZ0QAAAAAAAc3ZAZmZmZmbvd0DNzMzMzGt5QDMzMzMz6HpAmpmZmZlkfEAAAAAAAOF9QGZmZmZmXX9AZmZmZuZsgECamZmZGSuBQM3MzMxM6YFAAAAAAICngkAzMzMzs2WDQGZmZmbmI4RAmpmZmRnihEDNzMzMTKCFQAAAAACAXoZAMzMzM7Mch0BmZmZm5tqHQJqZmZkZmYhAzczMzExXiUAAAAAAgBWKQDMzMzOz04pAZmZmZuaRi0CamZmZGVCMQM3MzMxMDo1AAAAAAIDMjUAzMzMzs4qOQGZmZmbmSI9A\",\"dtype\":\"float64\",\"shape\":[75]}},\"selected\":{\"id\":\"760c3f22-0e20-491e-95c7-00f42101b3c2\",\"type\":\"Selection\"},\"selection_policy\":{\"id\":\"f1ac86b0-b0be-4013-89d2-4d23f5dea081\",\"type\":\"UnionRenderers\"}},\"id\":\"377320d8-d410-4b0b-8be6-68091b74c420\",\"type\":\"ColumnDataSource\"},{\"attributes\":{\"callback\":null,\"data\":{\"x\":{\"__ndarray__\":\"xA2DZIOPS0CQhgKJyvxEQJLNhwEEH0JANdHB8haxPUD21DW2n9A2QKLnIYTdkDBAWjC5KDl+J0BmTy8GLnchQNFYGcXHOhxAEFh9GuUEGEAcLYwZmQQUQBiuV4kBKQ9AaIQ6XUfCBUBqOu1sptT1P0L+A0Mhn94/3zWt0/Rq8T/Mj2f1a+QCQFoUWcEScApAQy3Xx09NEECi4mx09vcSQNVrNOkIcBZAMiVq13iTHUB6mgNsVm4jQF/4zWxz+SJAd0QrVpnxHEAwKrE7+ewVQPoSXyqMNhJAH0+iZBDfDkBaSOMqmWcJQInsFxSupQRAE2GYPUK0AEALibaOaiP4PybSFGyK3PE/fVDrV/iZ7j+2QU6Y50rmP1gom3hjZtY/a0IjJ7aTxz/8+K2QkIXEP+ezfpmB6K4/SnpvyJpjuL+nKVylZcC5v/zzy6AVsZw/Bys/QcpVtz/DvXEcOKO+P6HH7bXuz8E/BrjkZcJwwz+GQsMklRfFP6kCax1ga8Y/O4SScCTYxz84a5cpimTJP0Z54UKE8Mo/dAOrSXwezD8zFkNUYDXNP8ZXUwLv980/23sNCWyqzj8xKCFBAlnPP8pxrEP3BNA/rM7pWFxf0D9shnxoS7zQP6nE6SteGdE/oeiWKgx60T8GEazYhsvRP51ZaVfDQ9I/fMLqtBvJ0j9lke9YyGHTP1ewPVbYQ9Q/D2t/HTc51T+Hj3wktPzVP43lsfQOWNY/A2YWhYML1j/gUyEsj5/VP+LZw3EwcdU/L9LFF8aF1T8E6MB4YlvWP4Jt0b3fLNw/\",\"dtype\":\"float64\",\"shape\":[75]},\"y\":{\"__ndarray__\":\"GhExyth1ND/Sv8nbtpRIP2vylNV0PVE/aTum7souWD/At0SJ8fVgPw3Iuahxymc/MSNhhJWvcD/bTfBN02d3P2zb5nxnaoA/CD5h5MAGhz8NmeH1TyaQP+zrCsc9p5Y/LbKd76fGnz/bLW5ISEmmPww9YvTcQq8/JV2OstnstT8Er5Y7M8G+P0c+r3jqkcU/5h99k6ZBzj88bCIzFzjVP4enV8oyxN0//yH99nXg5D8qOpLLf0jtP5kqGJXUifQ/c9cS8kHP/D+/DpwzojQEQIEmwoanVwxA4lgXt9HgE0BSSZ2AJuIbQAMJih9jjiNA5q4l5INuK0AwTKYKRj0zQNv5fmq8/DpAaCJseHrtQkB/+zpwzoxKQM3MzMzMeFJAZmZmZmZqWEAAAAAAAFxeQM3MzMzMJmJAmpmZmZkfZUBmZmZmZhhoQDMzMzMzEWtAAAAAAAAKbkBmZmZmZoFwQM3MzMzM/XFAMzMzMzN6c0CamZmZmfZ0QAAAAAAAc3ZAZmZmZmbvd0DNzMzMzGt5QDMzMzMz6HpAmpmZmZlkfEAAAAAAAOF9QGZmZmZmXX9AZmZmZuZsgECamZmZGSuBQM3MzMxM6YFAAAAAAICngkAzMzMzs2WDQGZmZmbmI4RAmpmZmRnihEDNzMzMTKCFQAAAAACAXoZAMzMzM7Mch0BmZmZm5tqHQJqZmZkZmYhAzczMzExXiUAAAAAAgBWKQDMzMzOz04pAZmZmZuaRi0CamZmZGVCMQM3MzMxMDo1AAAAAAIDMjUAzMzMzs4qOQGZmZmbmSI9A\",\"dtype\":\"float64\",\"shape\":[75]}},\"selected\":{\"id\":\"ff7723d3-3a10-4132-8854-4ca251d63c72\",\"type\":\"Selection\"},\"selection_policy\":{\"id\":\"98fe5838-9b69-4f9b-ab85-9ee5988dba58\",\"type\":\"UnionRenderers\"}},\"id\":\"646a1eb1-9b36-4185-99c9-6972f5a6b428\",\"type\":\"ColumnDataSource\"},{\"attributes\":{},\"id\":\"62059d88-99a6-41a8-b616-42c0cfc5e491\",\"type\":\"LinearScale\"},{\"attributes\":{\"axis_label\":\"pressure [mb]\",\"formatter\":{\"id\":\"b25616f0-0715-41c9-bb6c-4e77e9a9d9cd\",\"type\":\"BasicTickFormatter\"},\"plot\":{\"id\":\"baa85b53-929d-4f46-8177-ec8a9a78af82\",\"subtype\":\"Figure\",\"type\":\"Plot\"},\"ticker\":{\"id\":\"3a542780-934c-463e-8542-512c08dca643\",\"type\":\"BasicTicker\"}},\"id\":\"70548d85-34fd-493e-b2b7-2d006d53a03b\",\"type\":\"LinearAxis\"},{\"attributes\":{\"label\":{\"value\":\"CRD\"},\"renderers\":[{\"id\":\"a48dae4e-b5dd-45d0-95e3-9e60fa27d4b1\",\"type\":\"GlyphRenderer\"},{\"id\":\"77287693-c96d-46b5-a800-17b58f8e8f09\",\"type\":\"GlyphRenderer\"}]},\"id\":\"b43f226d-148a-4f96-8ed5-0fb0ace9236f\",\"type\":\"LegendItem\"},{\"attributes\":{\"callback\":null,\"end\":0.01,\"start\":1020},\"id\":\"1f86a123-9a52-4b1f-a4d1-fd0697fb8295\",\"type\":\"Range1d\"},{\"attributes\":{\"label\":{\"value\":\"CLIRAD\"},\"renderers\":[{\"id\":\"68be5611-c4a0-41c2-9af0-2780dfbf4ffc\",\"type\":\"GlyphRenderer\"}]},\"id\":\"256b34fd-8d56-494a-88e8-dd26cd99aeff\",\"type\":\"LegendItem\"},{\"attributes\":{\"plot\":{\"id\":\"baa85b53-929d-4f46-8177-ec8a9a78af82\",\"subtype\":\"Figure\",\"type\":\"Plot\"},\"ticker\":{\"id\":\"5f8c0114-3aa3-433e-9f66-accf4dbd0aa0\",\"type\":\"BasicTicker\"}},\"id\":\"5c497b85-d4e2-4c4e-b6a6-5a1def41051b\",\"type\":\"Grid\"},{\"attributes\":{},\"id\":\"f42b062e-29e4-4295-8fb1-fc9e2fe300a1\",\"type\":\"PanTool\"},{\"attributes\":{\"callback\":null,\"data\":{\"x\":{\"__ndarray__\":\"AKm0ivhfU0CDrcFBns5EQLQXDDn/2kBAg3TGpUbcOkCh8xvymSU1QF7R+XLclTBAuDkFhdAaKkC4Hmeyr7YkQNJeaB3OlyBAqWadiN+/GkASNQn124AVQJaibCiK8BBAnyA55v4qCUA5grRb9vz8P//Glawsd+k/9jw6ncxq8z8wn9TdanACQEA+S9KryghAR0JGxuPuDkBylfo/UAoTQFi6s6x/uRdA6mOXY54/H0B/xFJFewEkQLhLPQd8TyNADXUMB6GzHUBNtpEjw/cWQF2mWY+ZORJAsOlXpb1lDUDLMXBCkkcIQNFohKyiPQRARrI+Rb5OAEB0eUV9mpz4P2SgfqyZm/I/xam2brs17T+wGLrFOoXkP68SVO424NY/iIElDIK4yT8G5RW/sufCP/Fe33KTrKA/YZKsiRF7vr9aMH+Hu+28v+57xq2uI54/fcCZJ5gpuj/8W/JDImTBP4pz2ZihQcQ/Qn+4GExxxj+IjYM5JTzIPy2PyEDDyMk/MHiyetYxyz8kDQ6Qpn7MP0r8v3R4nc0/uBpdOkRwzj/43GSM6OvOP9doADHELM8/9QnKDkJdzz8jayYUCJfPP/BWzqK5388/xgXwClwc0D8+rVYmKFHQPzzIGn6kjdA/dtbZZxvT0D8NR3L53yTRP/tXozX9h9E/m1Ekj84D0j8aMkuYtKPSP4nNvZ5JdtM/1TxXJlVv1D8Xde0U/EHVPzjpN7PjitU//ADO2yNF1T9gLzX/DtnUPy64gYmQpNQ/WAIcLQ7R1D8Rrtcg+5nVP96cchdtgts/\",\"dtype\":\"float64\",\"shape\":[75]},\"y\":{\"__ndarray__\":\"GhExyth1ND/Sv8nbtpRIP2vylNV0PVE/aTum7souWD/At0SJ8fVgPw3Iuahxymc/MSNhhJWvcD/bTfBN02d3P2zb5nxnaoA/CD5h5MAGhz8NmeH1TyaQP+zrCsc9p5Y/LbKd76fGnz/bLW5ISEmmPww9YvTcQq8/JV2OstnstT8Er5Y7M8G+P0c+r3jqkcU/5h99k6ZBzj88bCIzFzjVP4enV8oyxN0//yH99nXg5D8qOpLLf0jtP5kqGJXUifQ/c9cS8kHP/D+/DpwzojQEQIEmwoanVwxA4lgXt9HgE0BSSZ2AJuIbQAMJih9jjiNA5q4l5INuK0AwTKYKRj0zQNv5fmq8/DpAaCJseHrtQkB/+zpwzoxKQM3MzMzMeFJAZmZmZmZqWEAAAAAAAFxeQM3MzMzMJmJAmpmZmZkfZUBmZmZmZhhoQDMzMzMzEWtAAAAAAAAKbkBmZmZmZoFwQM3MzMzM/XFAMzMzMzN6c0CamZmZmfZ0QAAAAAAAc3ZAZmZmZmbvd0DNzMzMzGt5QDMzMzMz6HpAmpmZmZlkfEAAAAAAAOF9QGZmZmZmXX9AZmZmZuZsgECamZmZGSuBQM3MzMxM6YFAAAAAAICngkAzMzMzs2WDQGZmZmbmI4RAmpmZmRnihEDNzMzMTKCFQAAAAACAXoZAMzMzM7Mch0BmZmZm5tqHQJqZmZkZmYhAzczMzExXiUAAAAAAgBWKQDMzMzOz04pAZmZmZuaRi0CamZmZGVCMQM3MzMxMDo1AAAAAAIDMjUAzMzMzs4qOQGZmZmbmSI9A\",\"dtype\":\"float64\",\"shape\":[75]}},\"selected\":{\"id\":\"37e71adf-7efa-49ff-891c-34ef32363d0d\",\"type\":\"Selection\"},\"selection_policy\":{\"id\":\"176f1531-b59b-49d8-b979-973eb7d16e49\",\"type\":\"UnionRenderers\"}},\"id\":\"d93965fa-a879-49a7-838e-4417879c2b3b\",\"type\":\"ColumnDataSource\"},{\"attributes\":{},\"id\":\"3a542780-934c-463e-8542-512c08dca643\",\"type\":\"BasicTicker\"},{\"attributes\":{\"fill_alpha\":{\"value\":0.7},\"fill_color\":{\"value\":\"#4daf4a\"},\"line_alpha\":{\"value\":0.7},\"line_color\":{\"value\":\"#4daf4a\"},\"x\":{\"field\":\"x\"},\"y\":{\"field\":\"y\"}},\"id\":\"a1e8aaa9-c196-4396-8291-aae9e3bc4efb\",\"type\":\"Circle\"},{\"attributes\":{\"data_source\":{\"id\":\"377320d8-d410-4b0b-8be6-68091b74c420\",\"type\":\"ColumnDataSource\"},\"glyph\":{\"id\":\"bdb97f98-5fca-4285-945b-1a780cf8e4de\",\"type\":\"Line\"},\"hover_glyph\":null,\"muted_glyph\":null,\"nonselection_glyph\":{\"id\":\"0ebaf337-17b9-4394-a0ce-6e732f848f88\",\"type\":\"Line\"},\"selection_glyph\":null,\"view\":{\"id\":\"0449b6be-1b03-47dd-8843-77d9c9df646b\",\"type\":\"CDSView\"}},\"id\":\"68be5611-c4a0-41c2-9af0-2780dfbf4ffc\",\"type\":\"GlyphRenderer\"},{\"attributes\":{\"data_source\":{\"id\":\"0ca7f1a7-0908-4451-8600-5800f86817f5\",\"type\":\"ColumnDataSource\"},\"glyph\":{\"id\":\"a1e8aaa9-c196-4396-8291-aae9e3bc4efb\",\"type\":\"Circle\"},\"hover_glyph\":null,\"muted_glyph\":null,\"nonselection_glyph\":{\"id\":\"10779cc2-711f-4289-bc67-be5803fdf590\",\"type\":\"Circle\"},\"selection_glyph\":null,\"view\":{\"id\":\"725e76d3-2dfa-4a3a-81be-992081a89bcb\",\"type\":\"CDSView\"}},\"id\":\"a48dae4e-b5dd-45d0-95e3-9e60fa27d4b1\",\"type\":\"GlyphRenderer\"},{\"attributes\":{\"line_alpha\":0.1,\"line_color\":\"#1f77b4\",\"line_width\":1.5,\"x\":{\"field\":\"x\"},\"y\":{\"field\":\"y\"}},\"id\":\"67059c14-c711-47bb-b514-36e095079815\",\"type\":\"Line\"},{\"attributes\":{\"callback\":null,\"data\":{\"x\":{\"__ndarray__\":\"AKm0ivhfU0CDrcFBns5EQLQXDDn/2kBAg3TGpUbcOkCh8xvymSU1QF7R+XLclTBAuDkFhdAaKkC4Hmeyr7YkQNJeaB3OlyBAqWadiN+/GkASNQn124AVQJaibCiK8BBAnyA55v4qCUA5grRb9vz8P//Glawsd+k/9jw6ncxq8z8wn9TdanACQEA+S9KryghAR0JGxuPuDkBylfo/UAoTQFi6s6x/uRdA6mOXY54/H0B/xFJFewEkQLhLPQd8TyNADXUMB6GzHUBNtpEjw/cWQF2mWY+ZORJAsOlXpb1lDUDLMXBCkkcIQNFohKyiPQRARrI+Rb5OAEB0eUV9mpz4P2SgfqyZm/I/xam2brs17T+wGLrFOoXkP68SVO424NY/iIElDIK4yT8G5RW/sufCP/Fe33KTrKA/YZKsiRF7vr9aMH+Hu+28v+57xq2uI54/fcCZJ5gpuj/8W/JDImTBP4pz2ZihQcQ/Qn+4GExxxj+IjYM5JTzIPy2PyEDDyMk/MHiyetYxyz8kDQ6Qpn7MP0r8v3R4nc0/uBpdOkRwzj/43GSM6OvOP9doADHELM8/9QnKDkJdzz8jayYUCJfPP/BWzqK5388/xgXwClwc0D8+rVYmKFHQPzzIGn6kjdA/dtbZZxvT0D8NR3L53yTRP/tXozX9h9E/m1Ekj84D0j8aMkuYtKPSP4nNvZ5JdtM/1TxXJlVv1D8Xde0U/EHVPzjpN7PjitU//ADO2yNF1T9gLzX/DtnUPy64gYmQpNQ/WAIcLQ7R1D8Rrtcg+5nVP96cchdtgts/\",\"dtype\":\"float64\",\"shape\":[75]},\"y\":{\"__ndarray__\":\"GhExyth1ND/Sv8nbtpRIP2vylNV0PVE/aTum7souWD/At0SJ8fVgPw3Iuahxymc/MSNhhJWvcD/bTfBN02d3P2zb5nxnaoA/CD5h5MAGhz8NmeH1TyaQP+zrCsc9p5Y/LbKd76fGnz/bLW5ISEmmPww9YvTcQq8/JV2OstnstT8Er5Y7M8G+P0c+r3jqkcU/5h99k6ZBzj88bCIzFzjVP4enV8oyxN0//yH99nXg5D8qOpLLf0jtP5kqGJXUifQ/c9cS8kHP/D+/DpwzojQEQIEmwoanVwxA4lgXt9HgE0BSSZ2AJuIbQAMJih9jjiNA5q4l5INuK0AwTKYKRj0zQNv5fmq8/DpAaCJseHrtQkB/+zpwzoxKQM3MzMzMeFJAZmZmZmZqWEAAAAAAAFxeQM3MzMzMJmJAmpmZmZkfZUBmZmZmZhhoQDMzMzMzEWtAAAAAAAAKbkBmZmZmZoFwQM3MzMzM/XFAMzMzMzN6c0CamZmZmfZ0QAAAAAAAc3ZAZmZmZmbvd0DNzMzMzGt5QDMzMzMz6HpAmpmZmZlkfEAAAAAAAOF9QGZmZmZmXX9AZmZmZuZsgECamZmZGSuBQM3MzMxM6YFAAAAAAICngkAzMzMzs2WDQGZmZmbmI4RAmpmZmRnihEDNzMzMTKCFQAAAAACAXoZAMzMzM7Mch0BmZmZm5tqHQJqZmZkZmYhAzczMzExXiUAAAAAAgBWKQDMzMzOz04pAZmZmZuaRi0CamZmZGVCMQM3MzMxMDo1AAAAAAIDMjUAzMzMzs4qOQGZmZmbmSI9A\",\"dtype\":\"float64\",\"shape\":[75]}},\"selected\":{\"id\":\"05395d1b-611b-47d8-8cb7-007715877d4d\",\"type\":\"Selection\"},\"selection_policy\":{\"id\":\"4add5137-1586-4271-83b8-57c936e3b3f7\",\"type\":\"UnionRenderers\"}},\"id\":\"0ca7f1a7-0908-4451-8600-5800f86817f5\",\"type\":\"ColumnDataSource\"},{\"attributes\":{\"callback\":null,\"end\":0.01,\"start\":1020},\"id\":\"232b4d8c-0d30-4e5a-a047-9bc40c432227\",\"type\":\"Range1d\"},{\"attributes\":{\"items\":[{\"id\":\"6421f8d4-6dcf-495b-a739-357fc20f383a\",\"type\":\"LegendItem\"},{\"id\":\"9f49fb30-7e94-452c-bace-7fb45aa3b662\",\"type\":\"LegendItem\"}],\"label_text_font_size\":{\"value\":\"8pt\"},\"location\":\"top_center\",\"orientation\":\"horizontal\",\"plot\":{\"id\":\"e0ad3dc0-2144-4b6f-acbe-d96ac40e8679\",\"subtype\":\"Figure\",\"type\":\"Plot\"}},\"id\":\"4412753d-03d7-4bec-8232-58ff87a5d864\",\"type\":\"Legend\"},{\"attributes\":{},\"id\":\"8b5ae381-da31-4609-be24-cfc56a66fb0a\",\"type\":\"LinearScale\"},{\"attributes\":{},\"id\":\"fb937e5a-f520-491b-a53b-37a47635a379\",\"type\":\"HelpTool\"},{\"attributes\":{\"source\":{\"id\":\"0ca7f1a7-0908-4451-8600-5800f86817f5\",\"type\":\"ColumnDataSource\"}},\"id\":\"725e76d3-2dfa-4a3a-81be-992081a89bcb\",\"type\":\"CDSView\"},{\"attributes\":{},\"id\":\"ff7723d3-3a10-4132-8854-4ca251d63c72\",\"type\":\"Selection\"},{\"attributes\":{\"source\":{\"id\":\"377320d8-d410-4b0b-8be6-68091b74c420\",\"type\":\"ColumnDataSource\"}},\"id\":\"0449b6be-1b03-47dd-8843-77d9c9df646b\",\"type\":\"CDSView\"},{\"attributes\":{\"data_source\":{\"id\":\"4863a683-2763-43b7-97f2-5fc3232cdb85\",\"type\":\"ColumnDataSource\"},\"glyph\":{\"id\":\"b60d1b27-c7ec-4dff-bdf5-e589148b9703\",\"type\":\"Line\"},\"hover_glyph\":null,\"muted_glyph\":null,\"nonselection_glyph\":{\"id\":\"f739d0b7-ab9a-4c06-b418-4570e6544f0f\",\"type\":\"Line\"},\"selection_glyph\":null,\"view\":{\"id\":\"f718df45-fe24-438d-9d9a-4d60b55749bd\",\"type\":\"CDSView\"}},\"id\":\"c909237f-e0de-4a10-a410-71c0006cc216\",\"type\":\"GlyphRenderer\"},{\"attributes\":{\"fill_alpha\":{\"value\":0.1},\"fill_color\":{\"value\":\"#1f77b4\"},\"line_alpha\":{\"value\":0.1},\"line_color\":{\"value\":\"#1f77b4\"},\"x\":{\"field\":\"x\"},\"y\":{\"field\":\"y\"}},\"id\":\"10779cc2-711f-4289-bc67-be5803fdf590\",\"type\":\"Circle\"},{\"attributes\":{\"callback\":null,\"end\":10.104113196352115,\"start\":-0.220284966217514},\"id\":\"57ed269a-64fc-4176-b856-94d75e89f837\",\"type\":\"Range1d\"},{\"attributes\":{\"overlay\":{\"id\":\"1df64b93-a583-4a40-a0bc-d7739f0663c9\",\"type\":\"BoxAnnotation\"}},\"id\":\"b8971737-6230-4afe-a7d8-4afe634cd824\",\"type\":\"BoxZoomTool\"},{\"attributes\":{\"callback\":null,\"data\":{\"x\":{\"__ndarray__\":\"AKm0ivhfU0CDrcFBns5EQLQXDDn/2kBAg3TGpUbcOkCh8xvymSU1QF7R+XLclTBAuDkFhdAaKkC4Hmeyr7YkQNJeaB3OlyBAqWadiN+/GkASNQn124AVQJaibCiK8BBAnyA55v4qCUA5grRb9vz8P//Glawsd+k/9jw6ncxq8z8wn9TdanACQEA+S9KryghAR0JGxuPuDkBylfo/UAoTQFi6s6x/uRdA6mOXY54/H0B/xFJFewEkQLhLPQd8TyNADXUMB6GzHUBNtpEjw/cWQF2mWY+ZORJAsOlXpb1lDUDLMXBCkkcIQNFohKyiPQRARrI+Rb5OAEB0eUV9mpz4P2SgfqyZm/I/xam2brs17T+wGLrFOoXkP68SVO424NY/iIElDIK4yT8G5RW/sufCP/Fe33KTrKA/YZKsiRF7vr9aMH+Hu+28v+57xq2uI54/fcCZJ5gpuj/8W/JDImTBP4pz2ZihQcQ/Qn+4GExxxj+IjYM5JTzIPy2PyEDDyMk/MHiyetYxyz8kDQ6Qpn7MP0r8v3R4nc0/uBpdOkRwzj/43GSM6OvOP9doADHELM8/9QnKDkJdzz8jayYUCJfPP/BWzqK5388/xgXwClwc0D8+rVYmKFHQPzzIGn6kjdA/dtbZZxvT0D8NR3L53yTRP/tXozX9h9E/m1Ekj84D0j8aMkuYtKPSP4nNvZ5JdtM/1TxXJlVv1D8Xde0U/EHVPzjpN7PjitU//ADO2yNF1T9gLzX/DtnUPy64gYmQpNQ/WAIcLQ7R1D8Rrtcg+5nVP96cchdtgts/\",\"dtype\":\"float64\",\"shape\":[75]},\"y\":{\"__ndarray__\":\"GhExyth1ND/Sv8nbtpRIP2vylNV0PVE/aTum7souWD/At0SJ8fVgPw3Iuahxymc/MSNhhJWvcD/bTfBN02d3P2zb5nxnaoA/CD5h5MAGhz8NmeH1TyaQP+zrCsc9p5Y/LbKd76fGnz/bLW5ISEmmPww9YvTcQq8/JV2OstnstT8Er5Y7M8G+P0c+r3jqkcU/5h99k6ZBzj88bCIzFzjVP4enV8oyxN0//yH99nXg5D8qOpLLf0jtP5kqGJXUifQ/c9cS8kHP/D+/DpwzojQEQIEmwoanVwxA4lgXt9HgE0BSSZ2AJuIbQAMJih9jjiNA5q4l5INuK0AwTKYKRj0zQNv5fmq8/DpAaCJseHrtQkB/+zpwzoxKQM3MzMzMeFJAZmZmZmZqWEAAAAAAAFxeQM3MzMzMJmJAmpmZmZkfZUBmZmZmZhhoQDMzMzMzEWtAAAAAAAAKbkBmZmZmZoFwQM3MzMzM/XFAMzMzMzN6c0CamZmZmfZ0QAAAAAAAc3ZAZmZmZmbvd0DNzMzMzGt5QDMzMzMz6HpAmpmZmZlkfEAAAAAAAOF9QGZmZmZmXX9AZmZmZuZsgECamZmZGSuBQM3MzMxM6YFAAAAAAICngkAzMzMzs2WDQGZmZmbmI4RAmpmZmRnihEDNzMzMTKCFQAAAAACAXoZAMzMzM7Mch0BmZmZm5tqHQJqZmZkZmYhAzczMzExXiUAAAAAAgBWKQDMzMzOz04pAZmZmZuaRi0CamZmZGVCMQM3MzMxMDo1AAAAAAIDMjUAzMzMzs4qOQGZmZmbmSI9A\",\"dtype\":\"float64\",\"shape\":[75]}},\"selected\":{\"id\":\"2e362503-1515-4e20-bf30-60944ef4eda3\",\"type\":\"Selection\"},\"selection_policy\":{\"id\":\"90c853a6-2cd2-432c-b996-1f13258e4e24\",\"type\":\"UnionRenderers\"}},\"id\":\"4863a683-2763-43b7-97f2-5fc3232cdb85\",\"type\":\"ColumnDataSource\"},{\"attributes\":{\"data_source\":{\"id\":\"d93965fa-a879-49a7-838e-4417879c2b3b\",\"type\":\"ColumnDataSource\"},\"glyph\":{\"id\":\"d09ea04b-302a-44a6-aff9-451897396698\",\"type\":\"Line\"},\"hover_glyph\":null,\"muted_glyph\":null,\"nonselection_glyph\":{\"id\":\"67059c14-c711-47bb-b514-36e095079815\",\"type\":\"Line\"},\"selection_glyph\":null,\"view\":{\"id\":\"950ed073-2c16-4f00-8919-d7d43cb72fd5\",\"type\":\"CDSView\"}},\"id\":\"77287693-c96d-46b5-a800-17b58f8e8f09\",\"type\":\"GlyphRenderer\"},{\"attributes\":{\"line_alpha\":0.1,\"line_color\":\"#1f77b4\",\"line_width\":1.5,\"x\":{\"field\":\"x\"},\"y\":{\"field\":\"y\"}},\"id\":\"f739d0b7-ab9a-4c06-b418-4570e6544f0f\",\"type\":\"Line\"},{\"attributes\":{},\"id\":\"5f8c0114-3aa3-433e-9f66-accf4dbd0aa0\",\"type\":\"BasicTicker\"},{\"attributes\":{\"line_alpha\":0.6,\"line_color\":\"#e41a1c\",\"line_dash\":[6],\"line_width\":5,\"x\":{\"field\":\"x\"},\"y\":{\"field\":\"y\"}},\"id\":\"bdb97f98-5fca-4285-945b-1a780cf8e4de\",\"type\":\"Line\"},{\"attributes\":{\"source\":{\"id\":\"d93965fa-a879-49a7-838e-4417879c2b3b\",\"type\":\"ColumnDataSource\"}},\"id\":\"950ed073-2c16-4f00-8919-d7d43cb72fd5\",\"type\":\"CDSView\"},{\"attributes\":{\"line_alpha\":0.1,\"line_color\":\"#1f77b4\",\"line_dash\":[6],\"line_width\":5,\"x\":{\"field\":\"x\"},\"y\":{\"field\":\"y\"}},\"id\":\"0ebaf337-17b9-4394-a0ce-6e732f848f88\",\"type\":\"Line\"},{\"attributes\":{\"source\":{\"id\":\"4863a683-2763-43b7-97f2-5fc3232cdb85\",\"type\":\"ColumnDataSource\"}},\"id\":\"f718df45-fe24-438d-9d9a-4d60b55749bd\",\"type\":\"CDSView\"},{\"attributes\":{},\"id\":\"0dd50657-e1ba-4ea4-b064-a3034b707c2c\",\"type\":\"WheelZoomTool\"},{\"attributes\":{\"dimension\":1,\"plot\":{\"id\":\"baa85b53-929d-4f46-8177-ec8a9a78af82\",\"subtype\":\"Figure\",\"type\":\"Plot\"},\"ticker\":{\"id\":\"3a542780-934c-463e-8542-512c08dca643\",\"type\":\"BasicTicker\"}},\"id\":\"80ffb5c0-07d8-469c-bffe-dadcf56731cd\",\"type\":\"Grid\"},{\"attributes\":{\"line_color\":\"#4daf4a\",\"line_width\":1.5,\"x\":{\"field\":\"x\"},\"y\":{\"field\":\"y\"}},\"id\":\"d09ea04b-302a-44a6-aff9-451897396698\",\"type\":\"Line\"},{\"attributes\":{},\"id\":\"f951bff1-a39e-49f7-8aa7-360e28562fcc\",\"type\":\"ResetTool\"},{\"attributes\":{\"above\":[{\"id\":\"37674f5f-6563-49c6-88f9-f9a411045dcc\",\"type\":\"Legend\"}],\"below\":[{\"id\":\"d9cbfa39-25f9-414c-97c5-c4bf5d3b285f\",\"type\":\"LinearAxis\"}],\"left\":[{\"id\":\"70548d85-34fd-493e-b2b7-2d006d53a03b\",\"type\":\"LinearAxis\"}],\"plot_width\":300,\"renderers\":[{\"id\":\"d9cbfa39-25f9-414c-97c5-c4bf5d3b285f\",\"type\":\"LinearAxis\"},{\"id\":\"5c497b85-d4e2-4c4e-b6a6-5a1def41051b\",\"type\":\"Grid\"},{\"id\":\"70548d85-34fd-493e-b2b7-2d006d53a03b\",\"type\":\"LinearAxis\"},{\"id\":\"80ffb5c0-07d8-469c-bffe-dadcf56731cd\",\"type\":\"Grid\"},{\"id\":\"1df64b93-a583-4a40-a0bc-d7739f0663c9\",\"type\":\"BoxAnnotation\"},{\"id\":\"68be5611-c4a0-41c2-9af0-2780dfbf4ffc\",\"type\":\"GlyphRenderer\"},{\"id\":\"a48dae4e-b5dd-45d0-95e3-9e60fa27d4b1\",\"type\":\"GlyphRenderer\"},{\"id\":\"77287693-c96d-46b5-a800-17b58f8e8f09\",\"type\":\"GlyphRenderer\"},{\"id\":\"37674f5f-6563-49c6-88f9-f9a411045dcc\",\"type\":\"Legend\"}],\"title\":{\"id\":\"60f17282-f7a9-4845-a3e3-db9d3bbd050c\",\"type\":\"Title\"},\"toolbar\":{\"id\":\"27411304-a19d-4a13-9730-1be889fd52a3\",\"type\":\"Toolbar\"},\"toolbar_location\":null,\"x_range\":{\"id\":\"34ba0256-0442-47c6-88e7-551603536fe7\",\"type\":\"Range1d\"},\"x_scale\":{\"id\":\"62059d88-99a6-41a8-b616-42c0cfc5e491\",\"type\":\"LinearScale\"},\"y_range\":{\"id\":\"232b4d8c-0d30-4e5a-a047-9bc40c432227\",\"type\":\"Range1d\"},\"y_scale\":{\"id\":\"6cef3c31-80fa-4673-9d3f-d7f01a8c7f92\",\"type\":\"LinearScale\"}},\"id\":\"baa85b53-929d-4f46-8177-ec8a9a78af82\",\"subtype\":\"Figure\",\"type\":\"Plot\"},{\"attributes\":{\"callback\":null,\"end\":0.21776877062909766,\"start\":-0.6915104423986088},\"id\":\"83e7d464-b458-435d-a374-6bfa7a7bd413\",\"type\":\"Range1d\"},{\"attributes\":{\"active_drag\":\"auto\",\"active_inspect\":\"auto\",\"active_scroll\":\"auto\",\"active_tap\":\"auto\",\"tools\":[{\"id\":\"f258b202-428b-4f89-8051-a2d246c77d06\",\"type\":\"PanTool\"},{\"id\":\"aad14f51-da6b-4516-b411-e74ee3ba0e11\",\"type\":\"WheelZoomTool\"},{\"id\":\"8c9d18b8-ba42-490a-9a4c-5572aef524a3\",\"type\":\"BoxZoomTool\"},{\"id\":\"b71e615e-6d64-4029-845c-cd0925e8feca\",\"type\":\"SaveTool\"},{\"id\":\"97e002a2-960e-4334-b655-32c07ae19e49\",\"type\":\"ResetTool\"},{\"id\":\"cb442aef-d3e0-4b3a-a53f-ed7bc6934147\",\"type\":\"HelpTool\"}]},\"id\":\"330cb97e-c8aa-47df-818f-c21f3a60bc59\",\"type\":\"Toolbar\"},{\"attributes\":{\"line_alpha\":0.6,\"line_color\":\"#e41a1c\",\"line_dash\":[6],\"line_width\":5,\"x\":{\"field\":\"x\"},\"y\":{\"field\":\"y\"}},\"id\":\"c77c957b-55d2-4c7a-a336-d6ce0ba72efd\",\"type\":\"Line\"},{\"attributes\":{},\"id\":\"30cfb70f-ea7f-41c8-aa29-e1b9dab60553\",\"type\":\"SaveTool\"},{\"attributes\":{\"above\":[{\"id\":\"4412753d-03d7-4bec-8232-58ff87a5d864\",\"type\":\"Legend\"}],\"below\":[{\"id\":\"1d59cbc3-7430-4b70-95cf-1260e3d137f0\",\"type\":\"LinearAxis\"}],\"left\":[{\"id\":\"98dce97f-f7c8-4e11-aa66-e5090f3206f6\",\"type\":\"LogAxis\"}],\"plot_width\":300,\"renderers\":[{\"id\":\"1d59cbc3-7430-4b70-95cf-1260e3d137f0\",\"type\":\"LinearAxis\"},{\"id\":\"773ed634-ac34-4997-b6fc-5444eef6f326\",\"type\":\"Grid\"},{\"id\":\"98dce97f-f7c8-4e11-aa66-e5090f3206f6\",\"type\":\"LogAxis\"},{\"id\":\"544e6cb0-1ccf-467e-add3-bc6dfd75af8f\",\"type\":\"Grid\"},{\"id\":\"79357acd-04c2-45f8-8ed1-e3c554b60407\",\"type\":\"BoxAnnotation\"},{\"id\":\"72386a43-7591-48d5-aa9d-99321398fb9b\",\"type\":\"GlyphRenderer\"},{\"id\":\"56015d3b-db3a-495d-b976-5720c4b7309a\",\"type\":\"GlyphRenderer\"},{\"id\":\"c909237f-e0de-4a10-a410-71c0006cc216\",\"type\":\"GlyphRenderer\"},{\"id\":\"4412753d-03d7-4bec-8232-58ff87a5d864\",\"type\":\"Legend\"}],\"title\":{\"id\":\"c4770d91-1a48-4ae4-a261-a03ed14fc0af\",\"type\":\"Title\"},\"toolbar\":{\"id\":\"330cb97e-c8aa-47df-818f-c21f3a60bc59\",\"type\":\"Toolbar\"},\"toolbar_location\":null,\"x_range\":{\"id\":\"57ed269a-64fc-4176-b856-94d75e89f837\",\"type\":\"Range1d\"},\"x_scale\":{\"id\":\"409cce2e-aca6-4714-b36c-6ef634f8279e\",\"type\":\"LinearScale\"},\"y_range\":{\"id\":\"1f86a123-9a52-4b1f-a4d1-fd0697fb8295\",\"type\":\"Range1d\"},\"y_scale\":{\"id\":\"5e353aef-dd00-422e-a30f-62eb54e14f28\",\"type\":\"LogScale\"}},\"id\":\"e0ad3dc0-2144-4b6f-acbe-d96ac40e8679\",\"subtype\":\"Figure\",\"type\":\"Plot\"},{\"attributes\":{\"bottom_units\":\"screen\",\"fill_alpha\":{\"value\":0.5},\"fill_color\":{\"value\":\"lightgrey\"},\"left_units\":\"screen\",\"level\":\"overlay\",\"line_alpha\":{\"value\":1.0},\"line_color\":{\"value\":\"black\"},\"line_dash\":[4,4],\"line_width\":{\"value\":2},\"plot\":null,\"render_mode\":\"css\",\"right_units\":\"screen\",\"top_units\":\"screen\"},\"id\":\"1df64b93-a583-4a40-a0bc-d7739f0663c9\",\"type\":\"BoxAnnotation\"},{\"attributes\":{},\"id\":\"6cef3c31-80fa-4673-9d3f-d7f01a8c7f92\",\"type\":\"LinearScale\"},{\"attributes\":{},\"id\":\"37e71adf-7efa-49ff-891c-34ef32363d0d\",\"type\":\"Selection\"},{\"attributes\":{\"axis_label\":\"pressure [mb]\",\"formatter\":{\"id\":\"5f71d100-e9ba-419f-9b0e-5b47085f4e76\",\"type\":\"LogTickFormatter\"},\"plot\":{\"id\":\"e0ad3dc0-2144-4b6f-acbe-d96ac40e8679\",\"subtype\":\"Figure\",\"type\":\"Plot\"},\"ticker\":{\"id\":\"1c07a9b5-f375-41d8-a6bf-0d186696d41d\",\"type\":\"LogTicker\"}},\"id\":\"98dce97f-f7c8-4e11-aa66-e5090f3206f6\",\"type\":\"LogAxis\"},{\"attributes\":{\"ticker\":null},\"id\":\"3f2e95b4-11ed-46bb-b339-d868e19ba7ce\",\"type\":\"LogTickFormatter\"},{\"attributes\":{\"num_minor_ticks\":10},\"id\":\"1c07a9b5-f375-41d8-a6bf-0d186696d41d\",\"type\":\"LogTicker\"},{\"attributes\":{},\"id\":\"176f1531-b59b-49d8-b979-973eb7d16e49\",\"type\":\"UnionRenderers\"},{\"attributes\":{\"plot\":{\"id\":\"e0ad3dc0-2144-4b6f-acbe-d96ac40e8679\",\"subtype\":\"Figure\",\"type\":\"Plot\"},\"ticker\":{\"id\":\"5f7716b5-46db-4fd5-8492-efafab8a7d63\",\"type\":\"BasicTicker\"}},\"id\":\"773ed634-ac34-4997-b6fc-5444eef6f326\",\"type\":\"Grid\"},{\"attributes\":{\"plot\":null,\"text\":\"\"},\"id\":\"c4770d91-1a48-4ae4-a261-a03ed14fc0af\",\"type\":\"Title\"},{\"attributes\":{},\"id\":\"9f8e10b6-9077-431c-8718-7512200cb58c\",\"type\":\"BasicTickFormatter\"},{\"attributes\":{\"source\":{\"id\":\"d5fe3e19-eb34-403f-9b90-3066b6d044cf\",\"type\":\"ColumnDataSource\"}},\"id\":\"4cdda202-d125-4c8b-934f-d7aad13ed6c4\",\"type\":\"CDSView\"},{\"attributes\":{\"children\":[{\"id\":\"68405387-4d77-450f-9118-b7c817283106\",\"type\":\"Row\"}]},\"id\":\"833ffb79-4061-4982-a055-bd55ccf9f65e\",\"type\":\"Column\"},{\"attributes\":{},\"id\":\"2fb0a963-2b1d-4520-908b-507eac33ba43\",\"type\":\"LogScale\"},{\"attributes\":{},\"id\":\"90c853a6-2cd2-432c-b996-1f13258e4e24\",\"type\":\"UnionRenderers\"},{\"attributes\":{\"callback\":null,\"end\":0.7048007263258839,\"start\":-0.12722246651428398},\"id\":\"34ba0256-0442-47c6-88e7-551603536fe7\",\"type\":\"Range1d\"},{\"attributes\":{},\"id\":\"5f7716b5-46db-4fd5-8492-efafab8a7d63\",\"type\":\"BasicTicker\"},{\"attributes\":{},\"id\":\"a421b74e-51cb-4dc7-80eb-5a44b76cb518\",\"type\":\"UnionRenderers\"},{\"attributes\":{\"axis_label\":\"cooling rate [K/day]\",\"formatter\":{\"id\":\"9f8e10b6-9077-431c-8718-7512200cb58c\",\"type\":\"BasicTickFormatter\"},\"plot\":{\"id\":\"e0ad3dc0-2144-4b6f-acbe-d96ac40e8679\",\"subtype\":\"Figure\",\"type\":\"Plot\"},\"ticker\":{\"id\":\"5f7716b5-46db-4fd5-8492-efafab8a7d63\",\"type\":\"BasicTicker\"}},\"id\":\"1d59cbc3-7430-4b70-95cf-1260e3d137f0\",\"type\":\"LinearAxis\"},{\"attributes\":{},\"id\":\"409cce2e-aca6-4714-b36c-6ef634f8279e\",\"type\":\"LinearScale\"},{\"attributes\":{},\"id\":\"630fd5b9-e549-418e-bc07-243f13d9306c\",\"type\":\"UnionRenderers\"},{\"attributes\":{},\"id\":\"05395d1b-611b-47d8-8cb7-007715877d4d\",\"type\":\"Selection\"},{\"attributes\":{},\"id\":\"c0f72012-6091-42c1-830a-6b167cb5df98\",\"type\":\"Selection\"},{\"attributes\":{\"bottom_units\":\"screen\",\"fill_alpha\":{\"value\":0.5},\"fill_color\":{\"value\":\"lightgrey\"},\"left_units\":\"screen\",\"level\":\"overlay\",\"line_alpha\":{\"value\":1.0},\"line_color\":{\"value\":\"black\"},\"line_dash\":[4,4],\"line_width\":{\"value\":2},\"plot\":null,\"render_mode\":\"css\",\"right_units\":\"screen\",\"top_units\":\"screen\"},\"id\":\"79357acd-04c2-45f8-8ed1-e3c554b60407\",\"type\":\"BoxAnnotation\"},{\"attributes\":{\"active_drag\":\"auto\",\"active_inspect\":\"auto\",\"active_scroll\":\"auto\",\"active_tap\":\"auto\",\"tools\":[{\"id\":\"6bdd9ed8-0f97-44a2-b738-9c9bd4db5ec9\",\"type\":\"PanTool\"},{\"id\":\"2fa749c4-1236-42bd-8521-965380826d74\",\"type\":\"WheelZoomTool\"},{\"id\":\"7eb58cb2-b7fd-4f27-8b86-5ec0fbe448c7\",\"type\":\"BoxZoomTool\"},{\"id\":\"bf3f3704-cba4-48e7-85ab-da02ff6df7b9\",\"type\":\"SaveTool\"},{\"id\":\"de1cfae3-a82c-4983-8fe1-52bc4f6dfba4\",\"type\":\"ResetTool\"},{\"id\":\"3c089e42-d104-49bb-bbfc-ce061d93facf\",\"type\":\"HelpTool\"}]},\"id\":\"4b1c2b46-f13d-491d-9565-75d3110d8a05\",\"type\":\"Toolbar\"},{\"attributes\":{},\"id\":\"2e362503-1515-4e20-bf30-60944ef4eda3\",\"type\":\"Selection\"},{\"attributes\":{\"toolbar\":{\"id\":\"b1aef1d1-2100-4012-9ef4-77fb235c9338\",\"type\":\"ProxyToolbar\"},\"toolbar_location\":\"above\"},\"id\":\"a779158a-a655-4f31-a174-6eea4871ee80\",\"type\":\"ToolbarBox\"},{\"attributes\":{\"plot\":{\"id\":\"22f2157e-cb61-4cc2-81b7-3e82aaf5f43c\",\"subtype\":\"Figure\",\"type\":\"Plot\"},\"ticker\":{\"id\":\"b8972cd2-0650-4130-b4a0-333a16c36da6\",\"type\":\"BasicTicker\"}},\"id\":\"c3eadfd0-8100-47d3-911b-c9e78494b53d\",\"type\":\"Grid\"},{\"attributes\":{\"children\":[{\"id\":\"a779158a-a655-4f31-a174-6eea4871ee80\",\"type\":\"ToolbarBox\"},{\"id\":\"833ffb79-4061-4982-a055-bd55ccf9f65e\",\"type\":\"Column\"}]},\"id\":\"c4274312-edf1-41d4-9f10-b52660acb11f\",\"type\":\"Column\"},{\"attributes\":{\"line_alpha\":0.1,\"line_color\":\"#1f77b4\",\"line_dash\":[6],\"line_width\":5,\"x\":{\"field\":\"x\"},\"y\":{\"field\":\"y\"}},\"id\":\"419f60d7-96b5-484a-b877-d39ec7eb31ce\",\"type\":\"Line\"},{\"attributes\":{\"tools\":[{\"id\":\"f42b062e-29e4-4295-8fb1-fc9e2fe300a1\",\"type\":\"PanTool\"},{\"id\":\"0dd50657-e1ba-4ea4-b064-a3034b707c2c\",\"type\":\"WheelZoomTool\"},{\"id\":\"b8971737-6230-4afe-a7d8-4afe634cd824\",\"type\":\"BoxZoomTool\"},{\"id\":\"30cfb70f-ea7f-41c8-aa29-e1b9dab60553\",\"type\":\"SaveTool\"},{\"id\":\"f951bff1-a39e-49f7-8aa7-360e28562fcc\",\"type\":\"ResetTool\"},{\"id\":\"fb937e5a-f520-491b-a53b-37a47635a379\",\"type\":\"HelpTool\"},{\"id\":\"f258b202-428b-4f89-8051-a2d246c77d06\",\"type\":\"PanTool\"},{\"id\":\"aad14f51-da6b-4516-b411-e74ee3ba0e11\",\"type\":\"WheelZoomTool\"},{\"id\":\"8c9d18b8-ba42-490a-9a4c-5572aef524a3\",\"type\":\"BoxZoomTool\"},{\"id\":\"b71e615e-6d64-4029-845c-cd0925e8feca\",\"type\":\"SaveTool\"},{\"id\":\"97e002a2-960e-4334-b655-32c07ae19e49\",\"type\":\"ResetTool\"},{\"id\":\"cb442aef-d3e0-4b3a-a53f-ed7bc6934147\",\"type\":\"HelpTool\"},{\"id\":\"6bdd9ed8-0f97-44a2-b738-9c9bd4db5ec9\",\"type\":\"PanTool\"},{\"id\":\"2fa749c4-1236-42bd-8521-965380826d74\",\"type\":\"WheelZoomTool\"},{\"id\":\"7eb58cb2-b7fd-4f27-8b86-5ec0fbe448c7\",\"type\":\"BoxZoomTool\"},{\"id\":\"bf3f3704-cba4-48e7-85ab-da02ff6df7b9\",\"type\":\"SaveTool\"},{\"id\":\"de1cfae3-a82c-4983-8fe1-52bc4f6dfba4\",\"type\":\"ResetTool\"},{\"id\":\"3c089e42-d104-49bb-bbfc-ce061d93facf\",\"type\":\"HelpTool\"}]},\"id\":\"b1aef1d1-2100-4012-9ef4-77fb235c9338\",\"type\":\"ProxyToolbar\"},{\"attributes\":{\"data_source\":{\"id\":\"646a1eb1-9b36-4185-99c9-6972f5a6b428\",\"type\":\"ColumnDataSource\"},\"glyph\":{\"id\":\"c77c957b-55d2-4c7a-a336-d6ce0ba72efd\",\"type\":\"Line\"},\"hover_glyph\":null,\"muted_glyph\":null,\"nonselection_glyph\":{\"id\":\"419f60d7-96b5-484a-b877-d39ec7eb31ce\",\"type\":\"Line\"},\"selection_glyph\":null,\"view\":{\"id\":\"f2db67d8-3c48-4033-89c1-1ca28ae72823\",\"type\":\"CDSView\"}},\"id\":\"72386a43-7591-48d5-aa9d-99321398fb9b\",\"type\":\"GlyphRenderer\"},{\"attributes\":{\"fill_alpha\":{\"value\":0.1},\"fill_color\":{\"value\":\"#1f77b4\"},\"line_alpha\":{\"value\":0.1},\"line_color\":{\"value\":\"#1f77b4\"},\"x\":{\"field\":\"x\"},\"y\":{\"field\":\"y\"}},\"id\":\"885f05d5-9bc6-4bbc-89cc-eb60eff9e635\",\"type\":\"Circle\"},{\"attributes\":{},\"id\":\"e6469129-676a-4204-b907-131855c12630\",\"type\":\"Selection\"},{\"attributes\":{},\"id\":\"b71e615e-6d64-4029-845c-cd0925e8feca\",\"type\":\"SaveTool\"},{\"attributes\":{\"items\":[{\"id\":\"256b34fd-8d56-494a-88e8-dd26cd99aeff\",\"type\":\"LegendItem\"},{\"id\":\"b43f226d-148a-4f96-8ed5-0fb0ace9236f\",\"type\":\"LegendItem\"}],\"label_text_font_size\":{\"value\":\"8pt\"},\"location\":\"top_center\",\"orientation\":\"horizontal\",\"plot\":{\"id\":\"baa85b53-929d-4f46-8177-ec8a9a78af82\",\"subtype\":\"Figure\",\"type\":\"Plot\"}},\"id\":\"37674f5f-6563-49c6-88f9-f9a411045dcc\",\"type\":\"Legend\"},{\"attributes\":{},\"id\":\"d82cf24f-a9c9-4502-b7ce-3caef9ffcd93\",\"type\":\"UnionRenderers\"},{\"attributes\":{\"line_alpha\":0.8,\"line_color\":\"#984ea3\",\"line_width\":1.5,\"x\":{\"field\":\"x\"},\"y\":{\"field\":\"y\"}},\"id\":\"579b679a-ecb0-4e34-bfcc-1543364397d6\",\"type\":\"Line\"},{\"attributes\":{\"callback\":null,\"end\":0.01,\"start\":1020},\"id\":\"00c4c6e2-34f1-4c2a-8d68-365ca380bdc2\",\"type\":\"Range1d\"},{\"attributes\":{\"source\":{\"id\":\"646a1eb1-9b36-4185-99c9-6972f5a6b428\",\"type\":\"ColumnDataSource\"}},\"id\":\"f2db67d8-3c48-4033-89c1-1ca28ae72823\",\"type\":\"CDSView\"},{\"attributes\":{},\"id\":\"cb442aef-d3e0-4b3a-a53f-ed7bc6934147\",\"type\":\"HelpTool\"},{\"attributes\":{\"bottom_units\":\"screen\",\"fill_alpha\":{\"value\":0.5},\"fill_color\":{\"value\":\"lightgrey\"},\"left_units\":\"screen\",\"level\":\"overlay\",\"line_alpha\":{\"value\":1.0},\"line_color\":{\"value\":\"black\"},\"line_dash\":[4,4],\"line_width\":{\"value\":2},\"plot\":null,\"render_mode\":\"css\",\"right_units\":\"screen\",\"top_units\":\"screen\"},\"id\":\"86d674f9-9b60-4608-b51d-b818ded7d071\",\"type\":\"BoxAnnotation\"},{\"attributes\":{},\"id\":\"5e353aef-dd00-422e-a30f-62eb54e14f28\",\"type\":\"LogScale\"},{\"attributes\":{\"callback\":null,\"data\":{\"x\":{\"__ndarray__\":\"eIjMYdtgNsCAhmygIxbXP+Bdu4dMQARAkOXaZ4KmBkBQFZ5BXLD6PwDwpl+7+5O/8Epg4rrk9L+Qer5hDfz5v0yT3dZR0/O/yHQAcdPX5b9gf9C3LcTXv6C4DDyWwNW/uOH0R7xF2788Hx27P6Hcv7yPJxY4T9S/cHHQmHz9v78AJ7zkRQCtP6Bh3fBuVso/8IOBlry7yj8A0LKNy1mSvzDo9Ddsl9S/gOvTwljC2r+gQOUpm2TSv0DW1JsmgsW/wBImHPZAyL/QwQh+nqzQvwAYm9Qna2i/8Fam9CuVxz/waDGHbgDCPwDu4OTZAqo/QLNrFv5gqT9AGryj+0uev8DHOQ3o4ae/gGtKk85Dpj9gkEIpzVqsP8CVOm7ddH6/6PgRKF8mkb9gP4EZ3d2JP+ypPk3cd5w/XGD0BNtdmD+YNRgRr2qJPyB/qM+QKVe/sKvUMm+ehr/U6MutMZSQv0hfXReXjZO/4Dmelk0EmL8QWAKmgCSZvyBk7BoZ65q/qJ//UJDNmr9gD7Uz49CYvyAY9I6hZ5W/ILqQhT+Okr9QbByCg2iLvxAR0epSTYO/QMORt8Badr8AeaGC6QJfvwBSRkVyGlU/gDlyfhPAcD+AS3aJ0Mh6P6CN37k1d4E/YEWiVxjehD8gPznn29SEP0A0wDjEeIc/IBzOuKSpiD9g6YsUeMKHP8BZ/O/WsYk/QMcF5T48iT8ATuPxAVeHP6CKPy9opYk/4KAMKfXLiD8AkISdBdCIP4A2RAj9k4k/4Po5Vf2Whj9gPif96iyIP4AU2stUToU/\",\"dtype\":\"float64\",\"shape\":[75]},\"y\":{\"__ndarray__\":\"GhExyth1ND/Sv8nbtpRIP2vylNV0PVE/aTum7souWD/At0SJ8fVgPw3Iuahxymc/MSNhhJWvcD/bTfBN02d3P2zb5nxnaoA/CD5h5MAGhz8NmeH1TyaQP+zrCsc9p5Y/LbKd76fGnz/bLW5ISEmmPww9YvTcQq8/JV2OstnstT8Er5Y7M8G+P0c+r3jqkcU/5h99k6ZBzj88bCIzFzjVP4enV8oyxN0//yH99nXg5D8qOpLLf0jtP5kqGJXUifQ/c9cS8kHP/D+/DpwzojQEQIEmwoanVwxA4lgXt9HgE0BSSZ2AJuIbQAMJih9jjiNA5q4l5INuK0AwTKYKRj0zQNv5fmq8/DpAaCJseHrtQkB/+zpwzoxKQM3MzMzMeFJAZmZmZmZqWEAAAAAAAFxeQM3MzMzMJmJAmpmZmZkfZUBmZmZmZhhoQDMzMzMzEWtAAAAAAAAKbkBmZmZmZoFwQM3MzMzM/XFAMzMzMzN6c0CamZmZmfZ0QAAAAAAAc3ZAZmZmZmbvd0DNzMzMzGt5QDMzMzMz6HpAmpmZmZlkfEAAAAAAAOF9QGZmZmZmXX9AZmZmZuZsgECamZmZGSuBQM3MzMxM6YFAAAAAAICngkAzMzMzs2WDQGZmZmbmI4RAmpmZmRnihEDNzMzMTKCFQAAAAACAXoZAMzMzM7Mch0BmZmZm5tqHQJqZmZkZmYhAzczMzExXiUAAAAAAgBWKQDMzMzOz04pAZmZmZuaRi0CamZmZGVCMQM3MzMxMDo1AAAAAAIDMjUAzMzMzs4qOQGZmZmbmSI9A\",\"dtype\":\"float64\",\"shape\":[75]}},\"selected\":{\"id\":\"e6469129-676a-4204-b907-131855c12630\",\"type\":\"Selection\"},\"selection_policy\":{\"id\":\"630fd5b9-e549-418e-bc07-243f13d9306c\",\"type\":\"UnionRenderers\"}},\"id\":\"4b92aa23-b196-4b67-a4cd-f0d0409aef86\",\"type\":\"ColumnDataSource\"},{\"attributes\":{},\"id\":\"97e002a2-960e-4334-b655-32c07ae19e49\",\"type\":\"ResetTool\"},{\"attributes\":{\"fill_alpha\":{\"value\":0.1},\"fill_color\":{\"value\":\"#1f77b4\"},\"line_alpha\":{\"value\":0.1},\"line_color\":{\"value\":\"#1f77b4\"},\"x\":{\"field\":\"x\"},\"y\":{\"field\":\"y\"}},\"id\":\"41999e26-e47f-4369-9521-5ad008844026\",\"type\":\"Circle\"},{\"attributes\":{},\"id\":\"98fe5838-9b69-4f9b-ab85-9ee5988dba58\",\"type\":\"UnionRenderers\"},{\"attributes\":{\"overlay\":{\"id\":\"79357acd-04c2-45f8-8ed1-e3c554b60407\",\"type\":\"BoxAnnotation\"}},\"id\":\"8c9d18b8-ba42-490a-9a4c-5572aef524a3\",\"type\":\"BoxZoomTool\"},{\"attributes\":{},\"id\":\"aad14f51-da6b-4516-b411-e74ee3ba0e11\",\"type\":\"WheelZoomTool\"},{\"attributes\":{\"callback\":null,\"data\":{\"x\":{\"__ndarray__\":\"AKm0ivhfU0CDrcFBns5EQLQXDDn/2kBAg3TGpUbcOkCh8xvymSU1QF7R+XLclTBAuDkFhdAaKkC4Hmeyr7YkQNJeaB3OlyBAqWadiN+/GkASNQn124AVQJaibCiK8BBAnyA55v4qCUA5grRb9vz8P//Glawsd+k/9jw6ncxq8z8wn9TdanACQEA+S9KryghAR0JGxuPuDkBylfo/UAoTQFi6s6x/uRdA6mOXY54/H0B/xFJFewEkQLhLPQd8TyNADXUMB6GzHUBNtpEjw/cWQF2mWY+ZORJAsOlXpb1lDUDLMXBCkkcIQNFohKyiPQRARrI+Rb5OAEB0eUV9mpz4P2SgfqyZm/I/xam2brs17T+wGLrFOoXkP68SVO424NY/iIElDIK4yT8G5RW/sufCP/Fe33KTrKA/YZKsiRF7vr9aMH+Hu+28v+57xq2uI54/fcCZJ5gpuj/8W/JDImTBP4pz2ZihQcQ/Qn+4GExxxj+IjYM5JTzIPy2PyEDDyMk/MHiyetYxyz8kDQ6Qpn7MP0r8v3R4nc0/uBpdOkRwzj/43GSM6OvOP9doADHELM8/9QnKDkJdzz8jayYUCJfPP/BWzqK5388/xgXwClwc0D8+rVYmKFHQPzzIGn6kjdA/dtbZZxvT0D8NR3L53yTRP/tXozX9h9E/m1Ekj84D0j8aMkuYtKPSP4nNvZ5JdtM/1TxXJlVv1D8Xde0U/EHVPzjpN7PjitU//ADO2yNF1T9gLzX/DtnUPy64gYmQpNQ/WAIcLQ7R1D8Rrtcg+5nVP96cchdtgts/\",\"dtype\":\"float64\",\"shape\":[75]},\"y\":{\"__ndarray__\":\"GhExyth1ND/Sv8nbtpRIP2vylNV0PVE/aTum7souWD/At0SJ8fVgPw3Iuahxymc/MSNhhJWvcD/bTfBN02d3P2zb5nxnaoA/CD5h5MAGhz8NmeH1TyaQP+zrCsc9p5Y/LbKd76fGnz/bLW5ISEmmPww9YvTcQq8/JV2OstnstT8Er5Y7M8G+P0c+r3jqkcU/5h99k6ZBzj88bCIzFzjVP4enV8oyxN0//yH99nXg5D8qOpLLf0jtP5kqGJXUifQ/c9cS8kHP/D+/DpwzojQEQIEmwoanVwxA4lgXt9HgE0BSSZ2AJuIbQAMJih9jjiNA5q4l5INuK0AwTKYKRj0zQNv5fmq8/DpAaCJseHrtQkB/+zpwzoxKQM3MzMzMeFJAZmZmZmZqWEAAAAAAAFxeQM3MzMzMJmJAmpmZmZkfZUBmZmZmZhhoQDMzMzMzEWtAAAAAAAAKbkBmZmZmZoFwQM3MzMzM/XFAMzMzMzN6c0CamZmZmfZ0QAAAAAAAc3ZAZmZmZmbvd0DNzMzMzGt5QDMzMzMz6HpAmpmZmZlkfEAAAAAAAOF9QGZmZmZmXX9AZmZmZuZsgECamZmZGSuBQM3MzMxM6YFAAAAAAICngkAzMzMzs2WDQGZmZmbmI4RAmpmZmRnihEDNzMzMTKCFQAAAAACAXoZAMzMzM7Mch0BmZmZm5tqHQJqZmZkZmYhAzczMzExXiUAAAAAAgBWKQDMzMzOz04pAZmZmZuaRi0CamZmZGVCMQM3MzMxMDo1AAAAAAIDMjUAzMzMzs4qOQGZmZmbmSI9A\",\"dtype\":\"float64\",\"shape\":[75]}},\"selected\":{\"id\":\"44e5cf9d-c458-4560-b1ff-ee67e2336561\",\"type\":\"Selection\"},\"selection_policy\":{\"id\":\"a421b74e-51cb-4dc7-80eb-5a44b76cb518\",\"type\":\"UnionRenderers\"}},\"id\":\"d5fe3e19-eb34-403f-9b90-3066b6d044cf\",\"type\":\"ColumnDataSource\"},{\"attributes\":{\"label\":{\"value\":\"CRD\"},\"renderers\":[{\"id\":\"56015d3b-db3a-495d-b976-5720c4b7309a\",\"type\":\"GlyphRenderer\"},{\"id\":\"c909237f-e0de-4a10-a410-71c0006cc216\",\"type\":\"GlyphRenderer\"}]},\"id\":\"9f49fb30-7e94-452c-bace-7fb45aa3b662\",\"type\":\"LegendItem\"},{\"attributes\":{\"active_drag\":\"auto\",\"active_inspect\":\"auto\",\"active_scroll\":\"auto\",\"active_tap\":\"auto\",\"tools\":[{\"id\":\"f42b062e-29e4-4295-8fb1-fc9e2fe300a1\",\"type\":\"PanTool\"},{\"id\":\"0dd50657-e1ba-4ea4-b064-a3034b707c2c\",\"type\":\"WheelZoomTool\"},{\"id\":\"b8971737-6230-4afe-a7d8-4afe634cd824\",\"type\":\"BoxZoomTool\"},{\"id\":\"30cfb70f-ea7f-41c8-aa29-e1b9dab60553\",\"type\":\"SaveTool\"},{\"id\":\"f951bff1-a39e-49f7-8aa7-360e28562fcc\",\"type\":\"ResetTool\"},{\"id\":\"fb937e5a-f520-491b-a53b-37a47635a379\",\"type\":\"HelpTool\"}]},\"id\":\"27411304-a19d-4a13-9730-1be889fd52a3\",\"type\":\"Toolbar\"},{\"attributes\":{},\"id\":\"db4ba8df-c618-4d86-94d5-1a4e7688d6fd\",\"type\":\"BasicTickFormatter\"},{\"attributes\":{},\"id\":\"f258b202-428b-4f89-8051-a2d246c77d06\",\"type\":\"PanTool\"},{\"attributes\":{\"fill_alpha\":{\"value\":0.7},\"fill_color\":{\"value\":\"#4daf4a\"},\"line_alpha\":{\"value\":0.7},\"line_color\":{\"value\":\"#4daf4a\"},\"x\":{\"field\":\"x\"},\"y\":{\"field\":\"y\"}},\"id\":\"483e19ae-8405-49bd-959c-125d1f7ef419\",\"type\":\"Circle\"},{\"attributes\":{\"items\":[{\"id\":\"5fe48400-4fa6-4c77-891a-c88e1b8cb46d\",\"type\":\"LegendItem\"}],\"label_text_font_size\":{\"value\":\"8pt\"},\"location\":\"top_center\",\"orientation\":\"horizontal\",\"plot\":{\"id\":\"22f2157e-cb61-4cc2-81b7-3e82aaf5f43c\",\"subtype\":\"Figure\",\"type\":\"Plot\"}},\"id\":\"5880e882-c2ad-4dcc-9860-b0a97c8add2a\",\"type\":\"Legend\"},{\"attributes\":{\"num_minor_ticks\":10},\"id\":\"b7c8bc3c-4c76-4840-8df3-30d720c3cbda\",\"type\":\"LogTicker\"},{\"attributes\":{\"dimension\":1,\"plot\":{\"id\":\"22f2157e-cb61-4cc2-81b7-3e82aaf5f43c\",\"subtype\":\"Figure\",\"type\":\"Plot\"},\"ticker\":{\"id\":\"b7c8bc3c-4c76-4840-8df3-30d720c3cbda\",\"type\":\"LogTicker\"}},\"id\":\"d886caf1-3e3d-4c23-921d-c8ae9a0bec13\",\"type\":\"Grid\"},{\"attributes\":{},\"id\":\"b8972cd2-0650-4130-b4a0-333a16c36da6\",\"type\":\"BasicTicker\"},{\"attributes\":{\"data_source\":{\"id\":\"d5fe3e19-eb34-403f-9b90-3066b6d044cf\",\"type\":\"ColumnDataSource\"},\"glyph\":{\"id\":\"483e19ae-8405-49bd-959c-125d1f7ef419\",\"type\":\"Circle\"},\"hover_glyph\":null,\"muted_glyph\":null,\"nonselection_glyph\":{\"id\":\"41999e26-e47f-4369-9521-5ad008844026\",\"type\":\"Circle\"},\"selection_glyph\":null,\"view\":{\"id\":\"4cdda202-d125-4c8b-934f-d7aad13ed6c4\",\"type\":\"CDSView\"}},\"id\":\"56015d3b-db3a-495d-b976-5720c4b7309a\",\"type\":\"GlyphRenderer\"},{\"attributes\":{\"axis_label\":\"pressure [mb]\",\"formatter\":{\"id\":\"3f2e95b4-11ed-46bb-b339-d868e19ba7ce\",\"type\":\"LogTickFormatter\"},\"plot\":{\"id\":\"22f2157e-cb61-4cc2-81b7-3e82aaf5f43c\",\"subtype\":\"Figure\",\"type\":\"Plot\"},\"ticker\":{\"id\":\"b7c8bc3c-4c76-4840-8df3-30d720c3cbda\",\"type\":\"LogTicker\"}},\"id\":\"921d3284-1029-45d9-961f-927d7bb3b34f\",\"type\":\"LogAxis\"},{\"attributes\":{\"axis_label\":\"cooling rate [K/day]\",\"formatter\":{\"id\":\"db4ba8df-c618-4d86-94d5-1a4e7688d6fd\",\"type\":\"BasicTickFormatter\"},\"plot\":{\"id\":\"22f2157e-cb61-4cc2-81b7-3e82aaf5f43c\",\"subtype\":\"Figure\",\"type\":\"Plot\"},\"ticker\":{\"id\":\"b8972cd2-0650-4130-b4a0-333a16c36da6\",\"type\":\"BasicTicker\"}},\"id\":\"b03899a1-ed21-4e78-b6f5-2276a9e5850d\",\"type\":\"LinearAxis\"},{\"attributes\":{\"overlay\":{\"id\":\"86d674f9-9b60-4608-b51d-b818ded7d071\",\"type\":\"BoxAnnotation\"}},\"id\":\"7eb58cb2-b7fd-4f27-8b86-5ec0fbe448c7\",\"type\":\"BoxZoomTool\"},{\"attributes\":{\"dimension\":1,\"plot\":{\"id\":\"e0ad3dc0-2144-4b6f-acbe-d96ac40e8679\",\"subtype\":\"Figure\",\"type\":\"Plot\"},\"ticker\":{\"id\":\"1c07a9b5-f375-41d8-a6bf-0d186696d41d\",\"type\":\"LogTicker\"}},\"id\":\"544e6cb0-1ccf-467e-add3-bc6dfd75af8f\",\"type\":\"Grid\"},{\"attributes\":{},\"id\":\"6bdd9ed8-0f97-44a2-b738-9c9bd4db5ec9\",\"type\":\"PanTool\"},{\"attributes\":{},\"id\":\"2fa749c4-1236-42bd-8521-965380826d74\",\"type\":\"WheelZoomTool\"},{\"attributes\":{},\"id\":\"bf3f3704-cba4-48e7-85ab-da02ff6df7b9\",\"type\":\"SaveTool\"},{\"attributes\":{},\"id\":\"de1cfae3-a82c-4983-8fe1-52bc4f6dfba4\",\"type\":\"ResetTool\"},{\"attributes\":{},\"id\":\"3c089e42-d104-49bb-bbfc-ce061d93facf\",\"type\":\"HelpTool\"},{\"attributes\":{\"plot\":null,\"text\":\"\"},\"id\":\"273033d9-88d1-4abb-87c8-724394e75d09\",\"type\":\"Title\"},{\"attributes\":{\"callback\":null,\"data\":{\"x\":{\"__ndarray__\":\"eIjMYdtgNsCAhmygIxbXP+Bdu4dMQARAkOXaZ4KmBkBQFZ5BXLD6PwDwpl+7+5O/8Epg4rrk9L+Qer5hDfz5v0yT3dZR0/O/yHQAcdPX5b9gf9C3LcTXv6C4DDyWwNW/uOH0R7xF2788Hx27P6Hcv7yPJxY4T9S/cHHQmHz9v78AJ7zkRQCtP6Bh3fBuVso/8IOBlry7yj8A0LKNy1mSvzDo9Ddsl9S/gOvTwljC2r+gQOUpm2TSv0DW1JsmgsW/wBImHPZAyL/QwQh+nqzQvwAYm9Qna2i/8Fam9CuVxz/waDGHbgDCPwDu4OTZAqo/QLNrFv5gqT9AGryj+0uev8DHOQ3o4ae/gGtKk85Dpj9gkEIpzVqsP8CVOm7ddH6/6PgRKF8mkb9gP4EZ3d2JP+ypPk3cd5w/XGD0BNtdmD+YNRgRr2qJPyB/qM+QKVe/sKvUMm+ehr/U6MutMZSQv0hfXReXjZO/4Dmelk0EmL8QWAKmgCSZvyBk7BoZ65q/qJ//UJDNmr9gD7Uz49CYvyAY9I6hZ5W/ILqQhT+Okr9QbByCg2iLvxAR0epSTYO/QMORt8Badr8AeaGC6QJfvwBSRkVyGlU/gDlyfhPAcD+AS3aJ0Mh6P6CN37k1d4E/YEWiVxjehD8gPznn29SEP0A0wDjEeIc/IBzOuKSpiD9g6YsUeMKHP8BZ/O/WsYk/QMcF5T48iT8ATuPxAVeHP6CKPy9opYk/4KAMKfXLiD8AkISdBdCIP4A2RAj9k4k/4Po5Vf2Whj9gPif96iyIP4AU2stUToU/\",\"dtype\":\"float64\",\"shape\":[75]},\"y\":{\"__ndarray__\":\"GhExyth1ND/Sv8nbtpRIP2vylNV0PVE/aTum7souWD/At0SJ8fVgPw3Iuahxymc/MSNhhJWvcD/bTfBN02d3P2zb5nxnaoA/CD5h5MAGhz8NmeH1TyaQP+zrCsc9p5Y/LbKd76fGnz/bLW5ISEmmPww9YvTcQq8/JV2OstnstT8Er5Y7M8G+P0c+r3jqkcU/5h99k6ZBzj88bCIzFzjVP4enV8oyxN0//yH99nXg5D8qOpLLf0jtP5kqGJXUifQ/c9cS8kHP/D+/DpwzojQEQIEmwoanVwxA4lgXt9HgE0BSSZ2AJuIbQAMJih9jjiNA5q4l5INuK0AwTKYKRj0zQNv5fmq8/DpAaCJseHrtQkB/+zpwzoxKQM3MzMzMeFJAZmZmZmZqWEAAAAAAAFxeQM3MzMzMJmJAmpmZmZkfZUBmZmZmZhhoQDMzMzMzEWtAAAAAAAAKbkBmZmZmZoFwQM3MzMzM/XFAMzMzMzN6c0CamZmZmfZ0QAAAAAAAc3ZAZmZmZmbvd0DNzMzMzGt5QDMzMzMz6HpAmpmZmZlkfEAAAAAAAOF9QGZmZmZmXX9AZmZmZuZsgECamZmZGSuBQM3MzMxM6YFAAAAAAICngkAzMzMzs2WDQGZmZmbmI4RAmpmZmRnihEDNzMzMTKCFQAAAAACAXoZAMzMzM7Mch0BmZmZm5tqHQJqZmZkZmYhAzczMzExXiUAAAAAAgBWKQDMzMzOz04pAZmZmZuaRi0CamZmZGVCMQM3MzMxMDo1AAAAAAIDMjUAzMzMzs4qOQGZmZmbmSI9A\",\"dtype\":\"float64\",\"shape\":[75]}},\"selected\":{\"id\":\"c0f72012-6091-42c1-830a-6b167cb5df98\",\"type\":\"Selection\"},\"selection_policy\":{\"id\":\"d82cf24f-a9c9-4502-b7ce-3caef9ffcd93\",\"type\":\"UnionRenderers\"}},\"id\":\"aabb0e6d-96c7-4c7c-a5c5-9526cd6098f1\",\"type\":\"ColumnDataSource\"},{\"attributes\":{},\"id\":\"44e5cf9d-c458-4560-b1ff-ee67e2336561\",\"type\":\"Selection\"},{\"attributes\":{\"data_source\":{\"id\":\"aabb0e6d-96c7-4c7c-a5c5-9526cd6098f1\",\"type\":\"ColumnDataSource\"},\"glyph\":{\"id\":\"579b679a-ecb0-4e34-bfcc-1543364397d6\",\"type\":\"Line\"},\"hover_glyph\":null,\"muted_glyph\":null,\"nonselection_glyph\":{\"id\":\"86126a49-deb4-434f-b4c1-93a3e0959edc\",\"type\":\"Line\"},\"selection_glyph\":null,\"view\":{\"id\":\"e28a889d-1801-4169-842c-67191ad0d5d0\",\"type\":\"CDSView\"}},\"id\":\"d975a76e-e2d3-47a2-99d1-a2b9d8d1e2cc\",\"type\":\"GlyphRenderer\"},{\"attributes\":{\"ticker\":null},\"id\":\"5f71d100-e9ba-419f-9b0e-5b47085f4e76\",\"type\":\"LogTickFormatter\"},{\"attributes\":{\"line_alpha\":0.1,\"line_color\":\"#1f77b4\",\"line_width\":1.5,\"x\":{\"field\":\"x\"},\"y\":{\"field\":\"y\"}},\"id\":\"86126a49-deb4-434f-b4c1-93a3e0959edc\",\"type\":\"Line\"},{\"attributes\":{},\"id\":\"3249aa4c-4b2b-4ce0-87a5-d15140955425\",\"type\":\"BasicTickFormatter\"},{\"attributes\":{\"data_source\":{\"id\":\"4b92aa23-b196-4b67-a4cd-f0d0409aef86\",\"type\":\"ColumnDataSource\"},\"glyph\":{\"id\":\"aeb0bbd3-8732-4f67-989b-14ef8e0adc71\",\"type\":\"Circle\"},\"hover_glyph\":null,\"muted_glyph\":null,\"nonselection_glyph\":{\"id\":\"885f05d5-9bc6-4bbc-89cc-eb60eff9e635\",\"type\":\"Circle\"},\"selection_glyph\":null,\"view\":{\"id\":\"ca343fd2-f36b-42f0-894b-d8afd1480125\",\"type\":\"CDSView\"}},\"id\":\"f722c389-07ae-4ff7-9ffb-cc9e2d5948d1\",\"type\":\"GlyphRenderer\"},{\"attributes\":{\"source\":{\"id\":\"aabb0e6d-96c7-4c7c-a5c5-9526cd6098f1\",\"type\":\"ColumnDataSource\"}},\"id\":\"e28a889d-1801-4169-842c-67191ad0d5d0\",\"type\":\"CDSView\"},{\"attributes\":{\"source\":{\"id\":\"4b92aa23-b196-4b67-a4cd-f0d0409aef86\",\"type\":\"ColumnDataSource\"}},\"id\":\"ca343fd2-f36b-42f0-894b-d8afd1480125\",\"type\":\"CDSView\"},{\"attributes\":{},\"id\":\"b25616f0-0715-41c9-bb6c-4e77e9a9d9cd\",\"type\":\"BasicTickFormatter\"},{\"attributes\":{\"children\":[{\"id\":\"baa85b53-929d-4f46-8177-ec8a9a78af82\",\"subtype\":\"Figure\",\"type\":\"Plot\"},{\"id\":\"e0ad3dc0-2144-4b6f-acbe-d96ac40e8679\",\"subtype\":\"Figure\",\"type\":\"Plot\"},{\"id\":\"22f2157e-cb61-4cc2-81b7-3e82aaf5f43c\",\"subtype\":\"Figure\",\"type\":\"Plot\"}]},\"id\":\"68405387-4d77-450f-9118-b7c817283106\",\"type\":\"Row\"},{\"attributes\":{\"above\":[{\"id\":\"5880e882-c2ad-4dcc-9860-b0a97c8add2a\",\"type\":\"Legend\"}],\"below\":[{\"id\":\"b03899a1-ed21-4e78-b6f5-2276a9e5850d\",\"type\":\"LinearAxis\"}],\"left\":[{\"id\":\"921d3284-1029-45d9-961f-927d7bb3b34f\",\"type\":\"LogAxis\"}],\"plot_width\":300,\"renderers\":[{\"id\":\"b03899a1-ed21-4e78-b6f5-2276a9e5850d\",\"type\":\"LinearAxis\"},{\"id\":\"c3eadfd0-8100-47d3-911b-c9e78494b53d\",\"type\":\"Grid\"},{\"id\":\"921d3284-1029-45d9-961f-927d7bb3b34f\",\"type\":\"LogAxis\"},{\"id\":\"d886caf1-3e3d-4c23-921d-c8ae9a0bec13\",\"type\":\"Grid\"},{\"id\":\"86d674f9-9b60-4608-b51d-b818ded7d071\",\"type\":\"BoxAnnotation\"},{\"id\":\"f722c389-07ae-4ff7-9ffb-cc9e2d5948d1\",\"type\":\"GlyphRenderer\"},{\"id\":\"d975a76e-e2d3-47a2-99d1-a2b9d8d1e2cc\",\"type\":\"GlyphRenderer\"},{\"id\":\"5880e882-c2ad-4dcc-9860-b0a97c8add2a\",\"type\":\"Legend\"}],\"title\":{\"id\":\"273033d9-88d1-4abb-87c8-724394e75d09\",\"type\":\"Title\"},\"toolbar\":{\"id\":\"4b1c2b46-f13d-491d-9565-75d3110d8a05\",\"type\":\"Toolbar\"},\"toolbar_location\":null,\"x_range\":{\"id\":\"83e7d464-b458-435d-a374-6bfa7a7bd413\",\"type\":\"Range1d\"},\"x_scale\":{\"id\":\"8b5ae381-da31-4609-be24-cfc56a66fb0a\",\"type\":\"LinearScale\"},\"y_range\":{\"id\":\"00c4c6e2-34f1-4c2a-8d68-365ca380bdc2\",\"type\":\"Range1d\"},\"y_scale\":{\"id\":\"2fb0a963-2b1d-4520-908b-507eac33ba43\",\"type\":\"LogScale\"}},\"id\":\"22f2157e-cb61-4cc2-81b7-3e82aaf5f43c\",\"subtype\":\"Figure\",\"type\":\"Plot\"},{\"attributes\":{},\"id\":\"f1ac86b0-b0be-4013-89d2-4d23f5dea081\",\"type\":\"UnionRenderers\"},{\"attributes\":{\"label\":{\"value\":\"CLIRAD - CRD\"},\"renderers\":[{\"id\":\"f722c389-07ae-4ff7-9ffb-cc9e2d5948d1\",\"type\":\"GlyphRenderer\"},{\"id\":\"d975a76e-e2d3-47a2-99d1-a2b9d8d1e2cc\",\"type\":\"GlyphRenderer\"}]},\"id\":\"5fe48400-4fa6-4c77-891a-c88e1b8cb46d\",\"type\":\"LegendItem\"},{\"attributes\":{\"plot\":null,\"text\":\"\"},\"id\":\"60f17282-f7a9-4845-a3e3-db9d3bbd050c\",\"type\":\"Title\"},{\"attributes\":{},\"id\":\"4add5137-1586-4271-83b8-57c936e3b3f7\",\"type\":\"UnionRenderers\"},{\"attributes\":{\"fill_alpha\":{\"value\":0.7},\"fill_color\":{\"value\":\"#984ea3\"},\"line_alpha\":{\"value\":0.7},\"line_color\":{\"value\":\"#984ea3\"},\"x\":{\"field\":\"x\"},\"y\":{\"field\":\"y\"}},\"id\":\"aeb0bbd3-8732-4f67-989b-14ef8e0adc71\",\"type\":\"Circle\"},{\"attributes\":{},\"id\":\"760c3f22-0e20-491e-95c7-00f42101b3c2\",\"type\":\"Selection\"}],\"root_ids\":[\"c4274312-edf1-41d4-9f10-b52660acb11f\"]},\"title\":\"Bokeh Application\",\"version\":\"0.12.16\"}};\n",
       "  var render_items = [{\"docid\":\"8df6c712-a568-4258-9950-54379efd26a2\",\"elementid\":\"2bc12f68-36f7-47e6-93d1-de44fa69759e\",\"modelid\":\"c4274312-edf1-41d4-9f10-b52660acb11f\"}];\n",
       "  root.Bokeh.embed.embed_items_notebook(docs_json, render_items);\n",
       "\n",
       "  }\n",
       "  if (root.Bokeh !== undefined) {\n",
       "    embed_document(root);\n",
       "  } else {\n",
       "    var attempts = 0;\n",
       "    var timer = setInterval(function(root) {\n",
       "      if (root.Bokeh !== undefined) {\n",
       "        embed_document(root);\n",
       "        clearInterval(timer);\n",
       "      }\n",
       "      attempts++;\n",
       "      if (attempts > 100) {\n",
       "        console.log(\"Bokeh: ERROR: Unable to run BokehJS code because BokehJS library is missing\")\n",
       "        clearInterval(timer);\n",
       "      }\n",
       "    }, 10, root)\n",
       "  }\n",
       "})(window);"
      ],
      "application/vnd.bokehjs_exec.v0+json": ""
     },
     "metadata": {
      "application/vnd.bokehjs_exec.v0+json": {
       "id": "c4274312-edf1-41d4-9f10-b52660acb11f"
      }
     },
     "output_type": "display_data"
    },
    {
     "data": {
      "text/markdown": [
       "*FIGURE.* Cooling rates & difference."
      ],
      "text/plain": [
       "<IPython.core.display.Markdown object>"
      ]
     },
     "metadata": {},
     "output_type": "display_data"
    },
    {
     "data": {
      "text/html": [
       "<a id=\"Fluxes._mls.\"></a>"
      ],
      "text/plain": [
       "<IPython.core.display.HTML object>"
      ]
     },
     "metadata": {},
     "output_type": "display_data"
    },
    {
     "data": {
      "text/markdown": [
       "# Fluxes. mls."
      ],
      "text/plain": [
       "<IPython.core.display.Markdown object>"
      ]
     },
     "metadata": {},
     "output_type": "display_data"
    },
    {
     "data": {
      "text/html": [
       "\n",
       "<div class=\"bk-root\">\n",
       "    <div class=\"bk-plotdiv\" id=\"cf521bc8-256f-4ab8-a286-eab1b2b88570\"></div>\n",
       "</div>"
      ]
     },
     "metadata": {},
     "output_type": "display_data"
    },
    {
     "data": {
      "application/javascript": [
       "(function(root) {\n",
       "  function embed_document(root) {\n",
       "    \n",
       "  var docs_json = {\"35e53cc8-1446-474a-96fb-2e0a7dc13216\":{\"roots\":{\"references\":[{\"attributes\":{\"plot\":{\"id\":\"a2e208ef-7163-4843-9400-553d87f49542\",\"subtype\":\"Figure\",\"type\":\"Plot\"},\"ticker\":{\"id\":\"796f0546-6bc7-4436-b0f5-ebe224fb5629\",\"type\":\"CategoricalTicker\"}},\"id\":\"7c66de2a-baca-4a93-92db-56e46ada5c8a\",\"type\":\"Grid\"},{\"attributes\":{},\"id\":\"430ff5ea-0722-4c17-87cd-a48c13106d34\",\"type\":\"CategoricalTickFormatter\"},{\"attributes\":{},\"id\":\"4747d205-b783-4824-8c7f-9c1ed77c7dc1\",\"type\":\"WheelZoomTool\"},{\"attributes\":{},\"id\":\"444f6cf5-c3cf-47b3-9cee-ad44fb2d8285\",\"type\":\"PanTool\"},{\"attributes\":{},\"id\":\"7fdfdca6-3c5e-4002-9138-2b155124df18\",\"type\":\"LinearScale\"},{\"attributes\":{},\"id\":\"70c9246b-29b2-4d55-a4e1-280085df395a\",\"type\":\"CategoricalScale\"},{\"attributes\":{\"dimension\":1,\"plot\":{\"id\":\"50c6e0f6-22a9-4329-ba56-6ab993c35be5\",\"subtype\":\"Figure\",\"type\":\"Plot\"},\"ticker\":{\"id\":\"77c0ca7b-285b-456c-84e5-dc6e6b4a7373\",\"type\":\"BasicTicker\"}},\"id\":\"cd65f088-9ff2-43ca-b71e-4387d258cc56\",\"type\":\"Grid\"},{\"attributes\":{},\"id\":\"60aba730-c8bb-4eed-9eda-66bffaa9f61c\",\"type\":\"BasicTickFormatter\"},{\"attributes\":{},\"id\":\"77c0ca7b-285b-456c-84e5-dc6e6b4a7373\",\"type\":\"BasicTicker\"},{\"attributes\":{\"callback\":null,\"data\":{\"band\":[\"3\",\"4\",\"5\",\"6\",\"7\",\"11\"],\"flux\":{\"__ndarray__\":\"gGRDh77hyb8Abh3LulvLP4CrkOrgusO/AGCWSAx8kz8AkEiKsRSNPwBoUhh+PrC/\",\"dtype\":\"float64\",\"shape\":[6]}},\"selected\":{\"id\":\"a80d5850-e6c2-42fc-b7c7-e904cf0dec2c\",\"type\":\"Selection\"},\"selection_policy\":{\"id\":\"08d99b4d-d7d0-4f3d-bddd-e3931257c716\",\"type\":\"UnionRenderers\"}},\"id\":\"6683ddf3-0955-4840-9958-f33d74954f7f\",\"type\":\"ColumnDataSource\"},{\"attributes\":{\"data_source\":{\"id\":\"fba92e43-4b85-4609-88bf-a982da81e754\",\"type\":\"ColumnDataSource\"},\"glyph\":{\"id\":\"3f57d7a8-42f0-46cb-acb5-1cab0a35fdbf\",\"type\":\"VBar\"},\"hover_glyph\":null,\"muted_glyph\":null,\"nonselection_glyph\":{\"id\":\"9fa1f574-a510-4187-9f83-2386ffb6a34d\",\"type\":\"VBar\"},\"selection_glyph\":null,\"view\":{\"id\":\"a7929c91-6ddd-4619-921e-8ba94ae5e2ee\",\"type\":\"CDSView\"}},\"id\":\"2735a335-36bf-4fcf-87e7-49a8514696e0\",\"type\":\"GlyphRenderer\"},{\"attributes\":{\"callback\":null},\"id\":\"2c693103-82fe-426a-ae6c-564b034bd92b\",\"type\":\"DataRange1d\"},{\"attributes\":{\"tools\":[{\"id\":\"4f7b0b3c-eaf3-4eaa-926b-7d36314858d5\",\"type\":\"PanTool\"},{\"id\":\"2df05c04-4939-42f2-9959-17ef372ca15d\",\"type\":\"WheelZoomTool\"},{\"id\":\"d3d7c31b-82af-410b-9860-dbf95b7fd366\",\"type\":\"BoxZoomTool\"},{\"id\":\"9c09e25e-2438-4929-8aae-517aa59a00c5\",\"type\":\"SaveTool\"},{\"id\":\"d11e1782-bd67-4f7c-ab24-72931524c2b9\",\"type\":\"ResetTool\"},{\"id\":\"34fe4ed7-a51d-4257-9b23-c2a8a5cf48d9\",\"type\":\"HelpTool\"},{\"id\":\"444f6cf5-c3cf-47b3-9cee-ad44fb2d8285\",\"type\":\"PanTool\"},{\"id\":\"4747d205-b783-4824-8c7f-9c1ed77c7dc1\",\"type\":\"WheelZoomTool\"},{\"id\":\"446d3ef6-fe37-4624-9c4d-cdb8d78dc1e6\",\"type\":\"BoxZoomTool\"},{\"id\":\"cc81f682-4232-401e-aacf-b1e138bd85dd\",\"type\":\"SaveTool\"},{\"id\":\"a92084b8-ba22-45a1-81ab-1973ca244a5f\",\"type\":\"ResetTool\"},{\"id\":\"c1446739-d1b4-4ebd-81f4-cabdc796fa36\",\"type\":\"HelpTool\"},{\"id\":\"74cc6ccb-63db-4e8c-98dc-952e048eb14f\",\"type\":\"PanTool\"},{\"id\":\"acdc452b-026e-4afb-81c2-7c394ae740e0\",\"type\":\"WheelZoomTool\"},{\"id\":\"5bc5d184-8dbc-42ce-be02-25fafa49d975\",\"type\":\"BoxZoomTool\"},{\"id\":\"0c5753a1-998b-4651-bac6-a3795f287e10\",\"type\":\"SaveTool\"},{\"id\":\"aefb314c-bd6a-4f4d-a474-814fd6008ac2\",\"type\":\"ResetTool\"},{\"id\":\"d1b4e345-6a49-47d4-98b5-ad1166ff6984\",\"type\":\"HelpTool\"}]},\"id\":\"561966c9-6336-4286-a8f5-464f20156621\",\"type\":\"ProxyToolbar\"},{\"attributes\":{\"axis_label\":\"spectral band\",\"formatter\":{\"id\":\"430ff5ea-0722-4c17-87cd-a48c13106d34\",\"type\":\"CategoricalTickFormatter\"},\"plot\":{\"id\":\"a2e208ef-7163-4843-9400-553d87f49542\",\"subtype\":\"Figure\",\"type\":\"Plot\"},\"ticker\":{\"id\":\"796f0546-6bc7-4436-b0f5-ebe224fb5629\",\"type\":\"CategoricalTicker\"}},\"id\":\"8d8acbd5-625c-47b1-bbed-8d01043f09d0\",\"type\":\"CategoricalAxis\"},{\"attributes\":{},\"id\":\"f6e3f1ac-82b7-4f4b-b895-51dd9ba60b4d\",\"type\":\"CategoricalTicker\"},{\"attributes\":{},\"id\":\"f67f6b7d-66f0-40ea-ab72-b42a6e3c9c2c\",\"type\":\"CategoricalScale\"},{\"attributes\":{},\"id\":\"9c09e25e-2438-4929-8aae-517aa59a00c5\",\"type\":\"SaveTool\"},{\"attributes\":{\"plot\":{\"id\":\"50c6e0f6-22a9-4329-ba56-6ab993c35be5\",\"subtype\":\"Figure\",\"type\":\"Plot\"},\"ticker\":{\"id\":\"f6e3f1ac-82b7-4f4b-b895-51dd9ba60b4d\",\"type\":\"CategoricalTicker\"}},\"id\":\"efb5fb7c-a1e9-4756-ae4f-f86a1bf99e2d\",\"type\":\"Grid\"},{\"attributes\":{},\"id\":\"9522e4d7-7074-4541-83b4-f0dd22aac67e\",\"type\":\"LinearScale\"},{\"attributes\":{\"callback\":null,\"factors\":[\"3\",\"4\",\"5\",\"6\",\"7\",\"11\"]},\"id\":\"3e20f4b0-0044-4b35-a914-24f0ee65e6ee\",\"type\":\"FactorRange\"},{\"attributes\":{},\"id\":\"4f7b0b3c-eaf3-4eaa-926b-7d36314858d5\",\"type\":\"PanTool\"},{\"attributes\":{},\"id\":\"a80d5850-e6c2-42fc-b7c7-e904cf0dec2c\",\"type\":\"Selection\"},{\"attributes\":{\"toolbar\":{\"id\":\"561966c9-6336-4286-a8f5-464f20156621\",\"type\":\"ProxyToolbar\"},\"toolbar_location\":\"above\"},\"id\":\"4ca91998-c150-413c-9f66-c9f8e57016a8\",\"type\":\"ToolbarBox\"},{\"attributes\":{\"bottom_units\":\"screen\",\"fill_alpha\":{\"value\":0.5},\"fill_color\":{\"value\":\"lightgrey\"},\"left_units\":\"screen\",\"level\":\"overlay\",\"line_alpha\":{\"value\":1.0},\"line_color\":{\"value\":\"black\"},\"line_dash\":[4,4],\"line_width\":{\"value\":2},\"plot\":null,\"render_mode\":\"css\",\"right_units\":\"screen\",\"top_units\":\"screen\"},\"id\":\"f03827b2-a242-4283-b3c3-99be804cb9a3\",\"type\":\"BoxAnnotation\"},{\"attributes\":{\"bottom_units\":\"screen\",\"fill_alpha\":{\"value\":0.5},\"fill_color\":{\"value\":\"lightgrey\"},\"left_units\":\"screen\",\"level\":\"overlay\",\"line_alpha\":{\"value\":1.0},\"line_color\":{\"value\":\"black\"},\"line_dash\":[4,4],\"line_width\":{\"value\":2},\"plot\":null,\"render_mode\":\"css\",\"right_units\":\"screen\",\"top_units\":\"screen\"},\"id\":\"62060f19-9247-4ac3-91be-cb8c8109f8ab\",\"type\":\"BoxAnnotation\"},{\"attributes\":{\"below\":[{\"id\":\"8d8acbd5-625c-47b1-bbed-8d01043f09d0\",\"type\":\"CategoricalAxis\"}],\"left\":[{\"id\":\"f26cd82f-fdca-4f6f-9529-1b51567130e4\",\"type\":\"LinearAxis\"}],\"plot_height\":300,\"plot_width\":300,\"renderers\":[{\"id\":\"8d8acbd5-625c-47b1-bbed-8d01043f09d0\",\"type\":\"CategoricalAxis\"},{\"id\":\"7c66de2a-baca-4a93-92db-56e46ada5c8a\",\"type\":\"Grid\"},{\"id\":\"f26cd82f-fdca-4f6f-9529-1b51567130e4\",\"type\":\"LinearAxis\"},{\"id\":\"072d3f4f-8135-45ce-95d2-9d79a64b3a22\",\"type\":\"Grid\"},{\"id\":\"ea9760ed-eaa8-4372-9f2e-4fbd41f688a4\",\"type\":\"BoxAnnotation\"},{\"id\":\"7cf4ee36-3661-4be7-9b91-983f01984790\",\"type\":\"GlyphRenderer\"}],\"title\":{\"id\":\"49326ed7-1cb1-41fb-a01c-bd76328c36b9\",\"type\":\"Title\"},\"toolbar\":{\"id\":\"924a7b52-6b51-4306-908b-13a6f472dbdd\",\"type\":\"Toolbar\"},\"toolbar_location\":null,\"x_range\":{\"id\":\"3e20f4b0-0044-4b35-a914-24f0ee65e6ee\",\"type\":\"FactorRange\"},\"x_scale\":{\"id\":\"f67f6b7d-66f0-40ea-ab72-b42a6e3c9c2c\",\"type\":\"CategoricalScale\"},\"y_range\":{\"id\":\"2c693103-82fe-426a-ae6c-564b034bd92b\",\"type\":\"DataRange1d\"},\"y_scale\":{\"id\":\"9522e4d7-7074-4541-83b4-f0dd22aac67e\",\"type\":\"LinearScale\"}},\"id\":\"a2e208ef-7163-4843-9400-553d87f49542\",\"subtype\":\"Figure\",\"type\":\"Plot\"},{\"attributes\":{\"bottom_units\":\"screen\",\"fill_alpha\":{\"value\":0.5},\"fill_color\":{\"value\":\"lightgrey\"},\"left_units\":\"screen\",\"level\":\"overlay\",\"line_alpha\":{\"value\":1.0},\"line_color\":{\"value\":\"black\"},\"line_dash\":[4,4],\"line_width\":{\"value\":2},\"plot\":null,\"render_mode\":\"css\",\"right_units\":\"screen\",\"top_units\":\"screen\"},\"id\":\"ea9760ed-eaa8-4372-9f2e-4fbd41f688a4\",\"type\":\"BoxAnnotation\"},{\"attributes\":{\"fill_color\":{\"value\":\"#1f77b4\"},\"line_color\":{\"value\":\"#1f77b4\"},\"top\":{\"field\":\"flux\"},\"width\":{\"value\":0.9},\"x\":{\"field\":\"band\"}},\"id\":\"3f57d7a8-42f0-46cb-acb5-1cab0a35fdbf\",\"type\":\"VBar\"},{\"attributes\":{\"overlay\":{\"id\":\"62060f19-9247-4ac3-91be-cb8c8109f8ab\",\"type\":\"BoxAnnotation\"}},\"id\":\"446d3ef6-fe37-4624-9c4d-cdb8d78dc1e6\",\"type\":\"BoxZoomTool\"},{\"attributes\":{\"axis_label\":\"spectral band\",\"formatter\":{\"id\":\"c451e86f-c30f-44cb-85bd-8bf09a6c55ed\",\"type\":\"CategoricalTickFormatter\"},\"plot\":{\"id\":\"50c6e0f6-22a9-4329-ba56-6ab993c35be5\",\"subtype\":\"Figure\",\"type\":\"Plot\"},\"ticker\":{\"id\":\"f6e3f1ac-82b7-4f4b-b895-51dd9ba60b4d\",\"type\":\"CategoricalTicker\"}},\"id\":\"8727c02e-0551-41e1-84ab-cb80f9192136\",\"type\":\"CategoricalAxis\"},{\"attributes\":{\"axis_label\":\"flux (W m-2)\",\"formatter\":{\"id\":\"f4d9dba5-974d-4eba-9d3f-c900a59f9b2b\",\"type\":\"BasicTickFormatter\"},\"plot\":{\"id\":\"50c6e0f6-22a9-4329-ba56-6ab993c35be5\",\"subtype\":\"Figure\",\"type\":\"Plot\"},\"ticker\":{\"id\":\"77c0ca7b-285b-456c-84e5-dc6e6b4a7373\",\"type\":\"BasicTicker\"}},\"id\":\"e24f691c-bd4f-4b2f-afd6-9df8d66b28d7\",\"type\":\"LinearAxis\"},{\"attributes\":{\"callback\":null},\"id\":\"23fb1b79-9062-4a01-8a5e-e98d1c88a76f\",\"type\":\"DataRange1d\"},{\"attributes\":{\"fill_alpha\":{\"value\":0.1},\"fill_color\":{\"value\":\"#1f77b4\"},\"line_alpha\":{\"value\":0.1},\"line_color\":{\"value\":\"#1f77b4\"},\"top\":{\"field\":\"flux\"},\"width\":{\"value\":0.9},\"x\":{\"field\":\"band\"}},\"id\":\"9fa1f574-a510-4187-9f83-2386ffb6a34d\",\"type\":\"VBar\"},{\"attributes\":{},\"id\":\"cc81f682-4232-401e-aacf-b1e138bd85dd\",\"type\":\"SaveTool\"},{\"attributes\":{},\"id\":\"a92084b8-ba22-45a1-81ab-1973ca244a5f\",\"type\":\"ResetTool\"},{\"attributes\":{\"source\":{\"id\":\"6510cbbc-e9ec-465a-b9ca-4910b1df5d9f\",\"type\":\"ColumnDataSource\"}},\"id\":\"9762f431-c44d-4432-a604-85a5043d4c3a\",\"type\":\"CDSView\"},{\"attributes\":{},\"id\":\"c1446739-d1b4-4ebd-81f4-cabdc796fa36\",\"type\":\"HelpTool\"},{\"attributes\":{},\"id\":\"7d9587df-cd43-4944-9bf6-5d798a8cefba\",\"type\":\"CategoricalScale\"},{\"attributes\":{\"callback\":null,\"data\":{\"band\":[\"3\",\"4\",\"5\",\"6\",\"7\",\"11\"],\"flux\":{\"__ndarray__\":\"AMgP9bj4vr8AJ1YTMtrTP8Bh1evZfdM/AKw4QvfGor8AtOVB7N+evwCUgSY6I7Y/\",\"dtype\":\"float64\",\"shape\":[6]}},\"selected\":{\"id\":\"5c035b80-5061-443a-bf1a-b3ca484a01db\",\"type\":\"Selection\"},\"selection_policy\":{\"id\":\"7af0d62b-c94f-47b2-a22b-67634ae94707\",\"type\":\"UnionRenderers\"}},\"id\":\"6510cbbc-e9ec-465a-b9ca-4910b1df5d9f\",\"type\":\"ColumnDataSource\"},{\"attributes\":{\"children\":[{\"id\":\"175b6c50-6864-41f4-b223-d89b98a3d036\",\"type\":\"Row\"}]},\"id\":\"d235f257-d9a8-4e09-b65c-b1cb34b31feb\",\"type\":\"Column\"},{\"attributes\":{},\"id\":\"34fe4ed7-a51d-4257-9b23-c2a8a5cf48d9\",\"type\":\"HelpTool\"},{\"attributes\":{},\"id\":\"56c68226-dd04-469d-a155-ae2e11635764\",\"type\":\"BasicTickFormatter\"},{\"attributes\":{\"source\":{\"id\":\"fba92e43-4b85-4609-88bf-a982da81e754\",\"type\":\"ColumnDataSource\"}},\"id\":\"a7929c91-6ddd-4619-921e-8ba94ae5e2ee\",\"type\":\"CDSView\"},{\"attributes\":{\"below\":[{\"id\":\"ba13264d-f3c8-478e-ba8e-3f0c97fe5aea\",\"type\":\"CategoricalAxis\"}],\"left\":[{\"id\":\"022b9fa7-f740-4f0b-abf8-a476d185546e\",\"type\":\"LinearAxis\"}],\"plot_height\":300,\"plot_width\":300,\"renderers\":[{\"id\":\"ba13264d-f3c8-478e-ba8e-3f0c97fe5aea\",\"type\":\"CategoricalAxis\"},{\"id\":\"a06d1fb2-0788-4dde-8af6-e593850cdaf5\",\"type\":\"Grid\"},{\"id\":\"022b9fa7-f740-4f0b-abf8-a476d185546e\",\"type\":\"LinearAxis\"},{\"id\":\"f8852734-7a08-4b1b-afb4-464689341a7b\",\"type\":\"Grid\"},{\"id\":\"f03827b2-a242-4283-b3c3-99be804cb9a3\",\"type\":\"BoxAnnotation\"},{\"id\":\"f4b5644e-bc16-45a8-af07-96febe961f8b\",\"type\":\"GlyphRenderer\"}],\"title\":{\"id\":\"63dbcd63-90b5-4c58-bf9b-12b2aa2f2a65\",\"type\":\"Title\"},\"toolbar\":{\"id\":\"45ca3ace-60e3-4fef-82f0-fd947c6bb257\",\"type\":\"Toolbar\"},\"toolbar_location\":null,\"x_range\":{\"id\":\"404207a2-5bee-44d8-8173-5d11758a6e93\",\"type\":\"FactorRange\"},\"x_scale\":{\"id\":\"7d9587df-cd43-4944-9bf6-5d798a8cefba\",\"type\":\"CategoricalScale\"},\"y_range\":{\"id\":\"a565ad32-2ea9-4f5e-999b-74b2cdefb06a\",\"type\":\"DataRange1d\"},\"y_scale\":{\"id\":\"ac148d71-e41f-4790-a1ca-15483f5f5b80\",\"type\":\"LinearScale\"}},\"id\":\"2d643301-6fa2-401f-a518-7df791e4333e\",\"subtype\":\"Figure\",\"type\":\"Plot\"},{\"attributes\":{\"plot\":null,\"text\":\"Atmosphere heating. CLIRAD - CRD.\"},\"id\":\"49326ed7-1cb1-41fb-a01c-bd76328c36b9\",\"type\":\"Title\"},{\"attributes\":{\"callback\":null,\"data\":{\"band\":[\"3\",\"4\",\"5\",\"6\",\"7\",\"11\"],\"flux\":{\"__ndarray__\":\"AJ/EMdzKtD8AdIi3grG4PyBjMVQ/W90/QM4KTHSErL8A5WqCrbSmv8h2eRTZMMM/\",\"dtype\":\"float64\",\"shape\":[6]}},\"selected\":{\"id\":\"1d9cfba9-2bb0-40c4-804a-39a5bc8a1ef7\",\"type\":\"Selection\"},\"selection_policy\":{\"id\":\"c7651427-4b4c-4731-abf6-83693856d54d\",\"type\":\"UnionRenderers\"}},\"id\":\"fba92e43-4b85-4609-88bf-a982da81e754\",\"type\":\"ColumnDataSource\"},{\"attributes\":{},\"id\":\"7af0d62b-c94f-47b2-a22b-67634ae94707\",\"type\":\"UnionRenderers\"},{\"attributes\":{},\"id\":\"74cc6ccb-63db-4e8c-98dc-952e048eb14f\",\"type\":\"PanTool\"},{\"attributes\":{\"axis_label\":\"flux (W m-2)\",\"formatter\":{\"id\":\"56c68226-dd04-469d-a155-ae2e11635764\",\"type\":\"BasicTickFormatter\"},\"plot\":{\"id\":\"2d643301-6fa2-401f-a518-7df791e4333e\",\"subtype\":\"Figure\",\"type\":\"Plot\"},\"ticker\":{\"id\":\"1fea4b04-cd2b-42b4-8e69-235e1ed529b9\",\"type\":\"BasicTicker\"}},\"id\":\"022b9fa7-f740-4f0b-abf8-a476d185546e\",\"type\":\"LinearAxis\"},{\"attributes\":{\"fill_alpha\":{\"value\":0.1},\"fill_color\":{\"value\":\"#1f77b4\"},\"line_alpha\":{\"value\":0.1},\"line_color\":{\"value\":\"#1f77b4\"},\"top\":{\"field\":\"flux\"},\"width\":{\"value\":0.9},\"x\":{\"field\":\"band\"}},\"id\":\"a57c79ab-42cc-4171-b4d8-ccbef03c5073\",\"type\":\"VBar\"},{\"attributes\":{},\"id\":\"796f0546-6bc7-4436-b0f5-ebe224fb5629\",\"type\":\"CategoricalTicker\"},{\"attributes\":{},\"id\":\"1fea4b04-cd2b-42b4-8e69-235e1ed529b9\",\"type\":\"BasicTicker\"},{\"attributes\":{},\"id\":\"0c5753a1-998b-4651-bac6-a3795f287e10\",\"type\":\"SaveTool\"},{\"attributes\":{\"plot\":{\"id\":\"2d643301-6fa2-401f-a518-7df791e4333e\",\"subtype\":\"Figure\",\"type\":\"Plot\"},\"ticker\":{\"id\":\"d3edb0ff-7239-4e98-95df-bed2dcc8ffdb\",\"type\":\"CategoricalTicker\"}},\"id\":\"a06d1fb2-0788-4dde-8af6-e593850cdaf5\",\"type\":\"Grid\"},{\"attributes\":{\"plot\":null,\"text\":\"TOA flux. CLIRAD - CRD.\"},\"id\":\"63dbcd63-90b5-4c58-bf9b-12b2aa2f2a65\",\"type\":\"Title\"},{\"attributes\":{\"plot\":null,\"text\":\"SFC flux. CLIRAD - CRD.\"},\"id\":\"ef94be63-0565-4288-9297-08708c46db51\",\"type\":\"Title\"},{\"attributes\":{\"source\":{\"id\":\"6683ddf3-0955-4840-9958-f33d74954f7f\",\"type\":\"ColumnDataSource\"}},\"id\":\"15129a55-e220-4222-b6ce-65ef67bd4b90\",\"type\":\"CDSView\"},{\"attributes\":{\"overlay\":{\"id\":\"ea9760ed-eaa8-4372-9f2e-4fbd41f688a4\",\"type\":\"BoxAnnotation\"}},\"id\":\"5bc5d184-8dbc-42ce-be02-25fafa49d975\",\"type\":\"BoxZoomTool\"},{\"attributes\":{},\"id\":\"c451e86f-c30f-44cb-85bd-8bf09a6c55ed\",\"type\":\"CategoricalTickFormatter\"},{\"attributes\":{\"data_source\":{\"id\":\"6683ddf3-0955-4840-9958-f33d74954f7f\",\"type\":\"ColumnDataSource\"},\"glyph\":{\"id\":\"10985138-c95c-4277-94f2-058113a34bae\",\"type\":\"VBar\"},\"hover_glyph\":null,\"muted_glyph\":null,\"nonselection_glyph\":{\"id\":\"ac8c1b05-5e9c-449d-adae-1f5e1610261c\",\"type\":\"VBar\"},\"selection_glyph\":null,\"view\":{\"id\":\"15129a55-e220-4222-b6ce-65ef67bd4b90\",\"type\":\"CDSView\"}},\"id\":\"7cf4ee36-3661-4be7-9b91-983f01984790\",\"type\":\"GlyphRenderer\"},{\"attributes\":{},\"id\":\"acdc452b-026e-4afb-81c2-7c394ae740e0\",\"type\":\"WheelZoomTool\"},{\"attributes\":{\"dimension\":1,\"plot\":{\"id\":\"2d643301-6fa2-401f-a518-7df791e4333e\",\"subtype\":\"Figure\",\"type\":\"Plot\"},\"ticker\":{\"id\":\"1fea4b04-cd2b-42b4-8e69-235e1ed529b9\",\"type\":\"BasicTicker\"}},\"id\":\"f8852734-7a08-4b1b-afb4-464689341a7b\",\"type\":\"Grid\"},{\"attributes\":{},\"id\":\"d1b4e345-6a49-47d4-98b5-ad1166ff6984\",\"type\":\"HelpTool\"},{\"attributes\":{},\"id\":\"aefb314c-bd6a-4f4d-a474-814fd6008ac2\",\"type\":\"ResetTool\"},{\"attributes\":{\"overlay\":{\"id\":\"f03827b2-a242-4283-b3c3-99be804cb9a3\",\"type\":\"BoxAnnotation\"}},\"id\":\"d3d7c31b-82af-410b-9860-dbf95b7fd366\",\"type\":\"BoxZoomTool\"},{\"attributes\":{\"children\":[{\"id\":\"4ca91998-c150-413c-9f66-c9f8e57016a8\",\"type\":\"ToolbarBox\"},{\"id\":\"d235f257-d9a8-4e09-b65c-b1cb34b31feb\",\"type\":\"Column\"}]},\"id\":\"17dc7e7b-5165-46a0-b00a-807ee8172d56\",\"type\":\"Column\"},{\"attributes\":{},\"id\":\"5c035b80-5061-443a-bf1a-b3ca484a01db\",\"type\":\"Selection\"},{\"attributes\":{\"callback\":null},\"id\":\"a565ad32-2ea9-4f5e-999b-74b2cdefb06a\",\"type\":\"DataRange1d\"},{\"attributes\":{\"axis_label\":\"flux (W m-2)\",\"formatter\":{\"id\":\"60aba730-c8bb-4eed-9eda-66bffaa9f61c\",\"type\":\"BasicTickFormatter\"},\"plot\":{\"id\":\"a2e208ef-7163-4843-9400-553d87f49542\",\"subtype\":\"Figure\",\"type\":\"Plot\"},\"ticker\":{\"id\":\"9c145b89-ead3-415e-a6be-212d64fd46c9\",\"type\":\"BasicTicker\"}},\"id\":\"f26cd82f-fdca-4f6f-9529-1b51567130e4\",\"type\":\"LinearAxis\"},{\"attributes\":{\"fill_color\":{\"value\":\"#1f77b4\"},\"line_color\":{\"value\":\"#1f77b4\"},\"top\":{\"field\":\"flux\"},\"width\":{\"value\":0.9},\"x\":{\"field\":\"band\"}},\"id\":\"10985138-c95c-4277-94f2-058113a34bae\",\"type\":\"VBar\"},{\"attributes\":{\"children\":[{\"id\":\"2d643301-6fa2-401f-a518-7df791e4333e\",\"subtype\":\"Figure\",\"type\":\"Plot\"},{\"id\":\"50c6e0f6-22a9-4329-ba56-6ab993c35be5\",\"subtype\":\"Figure\",\"type\":\"Plot\"},{\"id\":\"a2e208ef-7163-4843-9400-553d87f49542\",\"subtype\":\"Figure\",\"type\":\"Plot\"}]},\"id\":\"175b6c50-6864-41f4-b223-d89b98a3d036\",\"type\":\"Row\"},{\"attributes\":{\"active_drag\":\"auto\",\"active_inspect\":\"auto\",\"active_scroll\":\"auto\",\"active_tap\":\"auto\",\"tools\":[{\"id\":\"444f6cf5-c3cf-47b3-9cee-ad44fb2d8285\",\"type\":\"PanTool\"},{\"id\":\"4747d205-b783-4824-8c7f-9c1ed77c7dc1\",\"type\":\"WheelZoomTool\"},{\"id\":\"446d3ef6-fe37-4624-9c4d-cdb8d78dc1e6\",\"type\":\"BoxZoomTool\"},{\"id\":\"cc81f682-4232-401e-aacf-b1e138bd85dd\",\"type\":\"SaveTool\"},{\"id\":\"a92084b8-ba22-45a1-81ab-1973ca244a5f\",\"type\":\"ResetTool\"},{\"id\":\"c1446739-d1b4-4ebd-81f4-cabdc796fa36\",\"type\":\"HelpTool\"}]},\"id\":\"38020136-33e0-4f72-8936-08a70509922b\",\"type\":\"Toolbar\"},{\"attributes\":{},\"id\":\"d11e1782-bd67-4f7c-ab24-72931524c2b9\",\"type\":\"ResetTool\"},{\"attributes\":{},\"id\":\"8c7ee6bb-cfe2-4189-a56c-1c05f0073f08\",\"type\":\"CategoricalTickFormatter\"},{\"attributes\":{\"below\":[{\"id\":\"8727c02e-0551-41e1-84ab-cb80f9192136\",\"type\":\"CategoricalAxis\"}],\"left\":[{\"id\":\"e24f691c-bd4f-4b2f-afd6-9df8d66b28d7\",\"type\":\"LinearAxis\"}],\"plot_height\":300,\"plot_width\":300,\"renderers\":[{\"id\":\"8727c02e-0551-41e1-84ab-cb80f9192136\",\"type\":\"CategoricalAxis\"},{\"id\":\"efb5fb7c-a1e9-4756-ae4f-f86a1bf99e2d\",\"type\":\"Grid\"},{\"id\":\"e24f691c-bd4f-4b2f-afd6-9df8d66b28d7\",\"type\":\"LinearAxis\"},{\"id\":\"cd65f088-9ff2-43ca-b71e-4387d258cc56\",\"type\":\"Grid\"},{\"id\":\"62060f19-9247-4ac3-91be-cb8c8109f8ab\",\"type\":\"BoxAnnotation\"},{\"id\":\"2735a335-36bf-4fcf-87e7-49a8514696e0\",\"type\":\"GlyphRenderer\"}],\"title\":{\"id\":\"ef94be63-0565-4288-9297-08708c46db51\",\"type\":\"Title\"},\"toolbar\":{\"id\":\"38020136-33e0-4f72-8936-08a70509922b\",\"type\":\"Toolbar\"},\"toolbar_location\":null,\"x_range\":{\"id\":\"159484a4-3450-43ab-9b0a-ac435fa8d35b\",\"type\":\"FactorRange\"},\"x_scale\":{\"id\":\"70c9246b-29b2-4d55-a4e1-280085df395a\",\"type\":\"CategoricalScale\"},\"y_range\":{\"id\":\"23fb1b79-9062-4a01-8a5e-e98d1c88a76f\",\"type\":\"DataRange1d\"},\"y_scale\":{\"id\":\"7fdfdca6-3c5e-4002-9138-2b155124df18\",\"type\":\"LinearScale\"}},\"id\":\"50c6e0f6-22a9-4329-ba56-6ab993c35be5\",\"subtype\":\"Figure\",\"type\":\"Plot\"},{\"attributes\":{\"fill_color\":{\"value\":\"#1f77b4\"},\"line_color\":{\"value\":\"#1f77b4\"},\"top\":{\"field\":\"flux\"},\"width\":{\"value\":0.9},\"x\":{\"field\":\"band\"}},\"id\":\"369764b5-bf3d-47db-8831-4b908c137632\",\"type\":\"VBar\"},{\"attributes\":{},\"id\":\"d3edb0ff-7239-4e98-95df-bed2dcc8ffdb\",\"type\":\"CategoricalTicker\"},{\"attributes\":{\"active_drag\":\"auto\",\"active_inspect\":\"auto\",\"active_scroll\":\"auto\",\"active_tap\":\"auto\",\"tools\":[{\"id\":\"74cc6ccb-63db-4e8c-98dc-952e048eb14f\",\"type\":\"PanTool\"},{\"id\":\"acdc452b-026e-4afb-81c2-7c394ae740e0\",\"type\":\"WheelZoomTool\"},{\"id\":\"5bc5d184-8dbc-42ce-be02-25fafa49d975\",\"type\":\"BoxZoomTool\"},{\"id\":\"0c5753a1-998b-4651-bac6-a3795f287e10\",\"type\":\"SaveTool\"},{\"id\":\"aefb314c-bd6a-4f4d-a474-814fd6008ac2\",\"type\":\"ResetTool\"},{\"id\":\"d1b4e345-6a49-47d4-98b5-ad1166ff6984\",\"type\":\"HelpTool\"}]},\"id\":\"924a7b52-6b51-4306-908b-13a6f472dbdd\",\"type\":\"Toolbar\"},{\"attributes\":{},\"id\":\"08d99b4d-d7d0-4f3d-bddd-e3931257c716\",\"type\":\"UnionRenderers\"},{\"attributes\":{\"callback\":null,\"factors\":[\"3\",\"4\",\"5\",\"6\",\"7\",\"11\"]},\"id\":\"159484a4-3450-43ab-9b0a-ac435fa8d35b\",\"type\":\"FactorRange\"},{\"attributes\":{\"fill_alpha\":{\"value\":0.1},\"fill_color\":{\"value\":\"#1f77b4\"},\"line_alpha\":{\"value\":0.1},\"line_color\":{\"value\":\"#1f77b4\"},\"top\":{\"field\":\"flux\"},\"width\":{\"value\":0.9},\"x\":{\"field\":\"band\"}},\"id\":\"ac8c1b05-5e9c-449d-adae-1f5e1610261c\",\"type\":\"VBar\"},{\"attributes\":{\"axis_label\":\"spectral band\",\"formatter\":{\"id\":\"8c7ee6bb-cfe2-4189-a56c-1c05f0073f08\",\"type\":\"CategoricalTickFormatter\"},\"plot\":{\"id\":\"2d643301-6fa2-401f-a518-7df791e4333e\",\"subtype\":\"Figure\",\"type\":\"Plot\"},\"ticker\":{\"id\":\"d3edb0ff-7239-4e98-95df-bed2dcc8ffdb\",\"type\":\"CategoricalTicker\"}},\"id\":\"ba13264d-f3c8-478e-ba8e-3f0c97fe5aea\",\"type\":\"CategoricalAxis\"},{\"attributes\":{},\"id\":\"9c145b89-ead3-415e-a6be-212d64fd46c9\",\"type\":\"BasicTicker\"},{\"attributes\":{\"active_drag\":\"auto\",\"active_inspect\":\"auto\",\"active_scroll\":\"auto\",\"active_tap\":\"auto\",\"tools\":[{\"id\":\"4f7b0b3c-eaf3-4eaa-926b-7d36314858d5\",\"type\":\"PanTool\"},{\"id\":\"2df05c04-4939-42f2-9959-17ef372ca15d\",\"type\":\"WheelZoomTool\"},{\"id\":\"d3d7c31b-82af-410b-9860-dbf95b7fd366\",\"type\":\"BoxZoomTool\"},{\"id\":\"9c09e25e-2438-4929-8aae-517aa59a00c5\",\"type\":\"SaveTool\"},{\"id\":\"d11e1782-bd67-4f7c-ab24-72931524c2b9\",\"type\":\"ResetTool\"},{\"id\":\"34fe4ed7-a51d-4257-9b23-c2a8a5cf48d9\",\"type\":\"HelpTool\"}]},\"id\":\"45ca3ace-60e3-4fef-82f0-fd947c6bb257\",\"type\":\"Toolbar\"},{\"attributes\":{\"dimension\":1,\"plot\":{\"id\":\"a2e208ef-7163-4843-9400-553d87f49542\",\"subtype\":\"Figure\",\"type\":\"Plot\"},\"ticker\":{\"id\":\"9c145b89-ead3-415e-a6be-212d64fd46c9\",\"type\":\"BasicTicker\"}},\"id\":\"072d3f4f-8135-45ce-95d2-9d79a64b3a22\",\"type\":\"Grid\"},{\"attributes\":{\"data_source\":{\"id\":\"6510cbbc-e9ec-465a-b9ca-4910b1df5d9f\",\"type\":\"ColumnDataSource\"},\"glyph\":{\"id\":\"369764b5-bf3d-47db-8831-4b908c137632\",\"type\":\"VBar\"},\"hover_glyph\":null,\"muted_glyph\":null,\"nonselection_glyph\":{\"id\":\"a57c79ab-42cc-4171-b4d8-ccbef03c5073\",\"type\":\"VBar\"},\"selection_glyph\":null,\"view\":{\"id\":\"9762f431-c44d-4432-a604-85a5043d4c3a\",\"type\":\"CDSView\"}},\"id\":\"f4b5644e-bc16-45a8-af07-96febe961f8b\",\"type\":\"GlyphRenderer\"},{\"attributes\":{},\"id\":\"1d9cfba9-2bb0-40c4-804a-39a5bc8a1ef7\",\"type\":\"Selection\"},{\"attributes\":{\"callback\":null,\"factors\":[\"3\",\"4\",\"5\",\"6\",\"7\",\"11\"]},\"id\":\"404207a2-5bee-44d8-8173-5d11758a6e93\",\"type\":\"FactorRange\"},{\"attributes\":{},\"id\":\"f4d9dba5-974d-4eba-9d3f-c900a59f9b2b\",\"type\":\"BasicTickFormatter\"},{\"attributes\":{},\"id\":\"c7651427-4b4c-4731-abf6-83693856d54d\",\"type\":\"UnionRenderers\"},{\"attributes\":{},\"id\":\"ac148d71-e41f-4790-a1ca-15483f5f5b80\",\"type\":\"LinearScale\"},{\"attributes\":{},\"id\":\"2df05c04-4939-42f2-9959-17ef372ca15d\",\"type\":\"WheelZoomTool\"}],\"root_ids\":[\"17dc7e7b-5165-46a0-b00a-807ee8172d56\"]},\"title\":\"Bokeh Application\",\"version\":\"0.12.16\"}};\n",
       "  var render_items = [{\"docid\":\"35e53cc8-1446-474a-96fb-2e0a7dc13216\",\"elementid\":\"cf521bc8-256f-4ab8-a286-eab1b2b88570\",\"modelid\":\"17dc7e7b-5165-46a0-b00a-807ee8172d56\"}];\n",
       "  root.Bokeh.embed.embed_items_notebook(docs_json, render_items);\n",
       "\n",
       "  }\n",
       "  if (root.Bokeh !== undefined) {\n",
       "    embed_document(root);\n",
       "  } else {\n",
       "    var attempts = 0;\n",
       "    var timer = setInterval(function(root) {\n",
       "      if (root.Bokeh !== undefined) {\n",
       "        embed_document(root);\n",
       "        clearInterval(timer);\n",
       "      }\n",
       "      attempts++;\n",
       "      if (attempts > 100) {\n",
       "        console.log(\"Bokeh: ERROR: Unable to run BokehJS code because BokehJS library is missing\")\n",
       "        clearInterval(timer);\n",
       "      }\n",
       "    }, 10, root)\n",
       "  }\n",
       "})(window);"
      ],
      "application/vnd.bokehjs_exec.v0+json": ""
     },
     "metadata": {
      "application/vnd.bokehjs_exec.v0+json": {
       "id": "17dc7e7b-5165-46a0-b00a-807ee8172d56"
      }
     },
     "output_type": "display_data"
    },
    {
     "data": {
      "text/markdown": [
       "*FIGURE.* Difference between CLIRAD and CRD in TOA, SFC and net atmosphere flux, in each spectral band."
      ],
      "text/plain": [
       "<IPython.core.display.Markdown object>"
      ]
     },
     "metadata": {},
     "output_type": "display_data"
    },
    {
     "data": {
      "text/html": [
       "<div>\n",
       "<style scoped>\n",
       "    .dataframe tbody tr th:only-of-type {\n",
       "        vertical-align: middle;\n",
       "    }\n",
       "\n",
       "    .dataframe tbody tr th {\n",
       "        vertical-align: top;\n",
       "    }\n",
       "\n",
       "    .dataframe thead th {\n",
       "        text-align: right;\n",
       "    }\n",
       "</style>\n",
       "<table border=\"1\" class=\"dataframe\">\n",
       "  <thead>\n",
       "    <tr style=\"text-align: right;\">\n",
       "      <th></th>\n",
       "      <th>OLR flux</th>\n",
       "      <th>SFC flux</th>\n",
       "      <th>ATM heating</th>\n",
       "    </tr>\n",
       "    <tr>\n",
       "      <th>Sum over bands</th>\n",
       "      <th></th>\n",
       "      <th></th>\n",
       "      <th></th>\n",
       "    </tr>\n",
       "  </thead>\n",
       "  <tbody>\n",
       "    <tr>\n",
       "      <th>CLIRAD - CRD</th>\n",
       "      <td>0.51</td>\n",
       "      <td>0.69</td>\n",
       "      <td>-0.17</td>\n",
       "    </tr>\n",
       "    <tr>\n",
       "      <th>CRD</th>\n",
       "      <td>-170.96</td>\n",
       "      <td>79.16</td>\n",
       "      <td>-37.63</td>\n",
       "    </tr>\n",
       "  </tbody>\n",
       "</table>\n",
       "</div>"
      ],
      "text/plain": [
       "                OLR flux  SFC flux  ATM heating\n",
       "Sum over bands                                 \n",
       "CLIRAD - CRD        0.51      0.69        -0.17\n",
       "CRD              -170.96     79.16       -37.63"
      ]
     },
     "metadata": {},
     "output_type": "display_data"
    },
    {
     "data": {
      "text/markdown": [
       "*TABLE.* Difference between CLIRAD and CRD in TOA, SFC and net atmosphere flux, over all spectral bands. CRD's TOA, SFC and net atmosphere flux, over all spectral bands."
      ],
      "text/plain": [
       "<IPython.core.display.Markdown object>"
      ]
     },
     "metadata": {},
     "output_type": "display_data"
    },
    {
     "data": {
      "text/html": [
       "<a id=\"Parameters_of_runs._saw\"></a>"
      ],
      "text/plain": [
       "<IPython.core.display.HTML object>"
      ]
     },
     "metadata": {},
     "output_type": "display_data"
    },
    {
     "data": {
      "text/markdown": [
       "# Parameters of runs. saw"
      ],
      "text/plain": [
       "<IPython.core.display.Markdown object>"
      ]
     },
     "metadata": {},
     "output_type": "display_data"
    },
    {
     "data": {
      "text/html": [
       "<div>\n",
       "<style scoped>\n",
       "    .dataframe tbody tr th:only-of-type {\n",
       "        vertical-align: middle;\n",
       "    }\n",
       "\n",
       "    .dataframe tbody tr th {\n",
       "        vertical-align: top;\n",
       "    }\n",
       "\n",
       "    .dataframe thead tr th {\n",
       "        text-align: left;\n",
       "    }\n",
       "</style>\n",
       "<table border=\"1\" class=\"dataframe\">\n",
       "  <thead>\n",
       "    <tr>\n",
       "      <th></th>\n",
       "      <th>clirad-lw</th>\n",
       "      <th colspan=\"6\" halign=\"left\">lblnew-bestfit lw</th>\n",
       "    </tr>\n",
       "    <tr>\n",
       "      <th></th>\n",
       "      <th>:D</th>\n",
       "      <th>band3a co2</th>\n",
       "      <th>band3b co2</th>\n",
       "      <th>band3c co2</th>\n",
       "      <th>band4 co2</th>\n",
       "      <th>band5 co2</th>\n",
       "      <th>band9 co2</th>\n",
       "    </tr>\n",
       "  </thead>\n",
       "  <tbody>\n",
       "    <tr>\n",
       "      <th>atmpro</th>\n",
       "      <td>saw</td>\n",
       "      <td>saw</td>\n",
       "      <td>saw</td>\n",
       "      <td>saw</td>\n",
       "      <td>saw</td>\n",
       "      <td>saw</td>\n",
       "      <td>saw</td>\n",
       "    </tr>\n",
       "    <tr>\n",
       "      <th>band</th>\n",
       "      <td>[3, 4, 5, 6, 7, 11]</td>\n",
       "      <td>3a</td>\n",
       "      <td>3b</td>\n",
       "      <td>3c</td>\n",
       "      <td>4</td>\n",
       "      <td>5</td>\n",
       "      <td>9</td>\n",
       "    </tr>\n",
       "    <tr>\n",
       "      <th>commitnumber</th>\n",
       "      <td>1013f91</td>\n",
       "      <td>a22ab94</td>\n",
       "      <td>a22ab94</td>\n",
       "      <td>a22ab94</td>\n",
       "      <td>a22ab94</td>\n",
       "      <td>a22ab94</td>\n",
       "      <td>a22ab94</td>\n",
       "    </tr>\n",
       "    <tr>\n",
       "      <th>conc</th>\n",
       "      <td>-</td>\n",
       "      <td>0.0004</td>\n",
       "      <td>0.0004</td>\n",
       "      <td>0.0004</td>\n",
       "      <td>0.0004</td>\n",
       "      <td>0.0004</td>\n",
       "      <td>0.0004</td>\n",
       "    </tr>\n",
       "    <tr>\n",
       "      <th>dv</th>\n",
       "      <td>-</td>\n",
       "      <td>0.001</td>\n",
       "      <td>0.001</td>\n",
       "      <td>0.001</td>\n",
       "      <td>0.001</td>\n",
       "      <td>0.001</td>\n",
       "      <td>0.001</td>\n",
       "    </tr>\n",
       "    <tr>\n",
       "      <th>klin</th>\n",
       "      <td>-</td>\n",
       "      <td>6.37556e-24</td>\n",
       "      <td>0</td>\n",
       "      <td>6.37556e-24</td>\n",
       "      <td>6.5e-24</td>\n",
       "      <td>6.5e-24</td>\n",
       "      <td>6.5e-24</td>\n",
       "    </tr>\n",
       "    <tr>\n",
       "      <th>molecule</th>\n",
       "      <td>{'co2': 0.0004}</td>\n",
       "      <td>co2</td>\n",
       "      <td>co2</td>\n",
       "      <td>co2</td>\n",
       "      <td>co2</td>\n",
       "      <td>co2</td>\n",
       "      <td>co2</td>\n",
       "    </tr>\n",
       "    <tr>\n",
       "      <th>ng_adju</th>\n",
       "      <td>-</td>\n",
       "      <td>[0, 0, 0]</td>\n",
       "      <td>[0, 0]</td>\n",
       "      <td>[0, 0, 0]</td>\n",
       "      <td>[0, 0]</td>\n",
       "      <td>[0, 0]</td>\n",
       "      <td>[0, 0]</td>\n",
       "    </tr>\n",
       "    <tr>\n",
       "      <th>ng_refs</th>\n",
       "      <td>-</td>\n",
       "      <td>[3, 2, 4]</td>\n",
       "      <td>[5, 4]</td>\n",
       "      <td>[3, 2, 4]</td>\n",
       "      <td>[1, 2]</td>\n",
       "      <td>[1, 2]</td>\n",
       "      <td>[3, 3]</td>\n",
       "    </tr>\n",
       "    <tr>\n",
       "      <th>nv</th>\n",
       "      <td>-</td>\n",
       "      <td>1000</td>\n",
       "      <td>1000</td>\n",
       "      <td>1000</td>\n",
       "      <td>1000</td>\n",
       "      <td>1000</td>\n",
       "      <td>1000</td>\n",
       "    </tr>\n",
       "    <tr>\n",
       "      <th>option_compute_btable</th>\n",
       "      <td>-</td>\n",
       "      <td>0</td>\n",
       "      <td>0</td>\n",
       "      <td>0</td>\n",
       "      <td>0</td>\n",
       "      <td>0</td>\n",
       "      <td>0</td>\n",
       "    </tr>\n",
       "    <tr>\n",
       "      <th>option_compute_ktable</th>\n",
       "      <td>-</td>\n",
       "      <td>0</td>\n",
       "      <td>0</td>\n",
       "      <td>0</td>\n",
       "      <td>0</td>\n",
       "      <td>0</td>\n",
       "      <td>0</td>\n",
       "    </tr>\n",
       "    <tr>\n",
       "      <th>option_wgt_flux</th>\n",
       "      <td>-</td>\n",
       "      <td>1</td>\n",
       "      <td>1</td>\n",
       "      <td>1</td>\n",
       "      <td>1</td>\n",
       "      <td>1</td>\n",
       "      <td>1</td>\n",
       "    </tr>\n",
       "    <tr>\n",
       "      <th>option_wgt_k</th>\n",
       "      <td>-</td>\n",
       "      <td>1</td>\n",
       "      <td>1</td>\n",
       "      <td>1</td>\n",
       "      <td>1</td>\n",
       "      <td>1</td>\n",
       "      <td>1</td>\n",
       "    </tr>\n",
       "    <tr>\n",
       "      <th>ref_pts</th>\n",
       "      <td>-</td>\n",
       "      <td>[[1, 250], [10, 250], [500, 250]]</td>\n",
       "      <td>[[1, 250], [10, 250]]</td>\n",
       "      <td>[[1, 250], [10, 250], [500, 250]]</td>\n",
       "      <td>[[1, 250], [500, 250]]</td>\n",
       "      <td>[[1, 250], [500, 250]]</td>\n",
       "      <td>[[1, 250], [50, 250]]</td>\n",
       "    </tr>\n",
       "    <tr>\n",
       "      <th>tsfc</th>\n",
       "      <td>257</td>\n",
       "      <td>257</td>\n",
       "      <td>257</td>\n",
       "      <td>257</td>\n",
       "      <td>257</td>\n",
       "      <td>257</td>\n",
       "      <td>257</td>\n",
       "    </tr>\n",
       "    <tr>\n",
       "      <th>vmax</th>\n",
       "      <td>-</td>\n",
       "      <td>620</td>\n",
       "      <td>720</td>\n",
       "      <td>800</td>\n",
       "      <td>980</td>\n",
       "      <td>1100</td>\n",
       "      <td>3000</td>\n",
       "    </tr>\n",
       "    <tr>\n",
       "      <th>vmin</th>\n",
       "      <td>-</td>\n",
       "      <td>540</td>\n",
       "      <td>620</td>\n",
       "      <td>720</td>\n",
       "      <td>800</td>\n",
       "      <td>980</td>\n",
       "      <td>1900</td>\n",
       "    </tr>\n",
       "    <tr>\n",
       "      <th>w_diffuse</th>\n",
       "      <td>-</td>\n",
       "      <td>[[1.6, 1.6, 1.7], [1.75, 1.75], [1.55, 1.55, 1.6, 1.85]]</td>\n",
       "      <td>[[1.66, 1.66, 1.66, 1.66, 1.66], [1.66, 1.66, 1.66, 1.66]]</td>\n",
       "      <td>[[1.7, 1.6, 1.8], [1.8, 1.7], [1.5, 1.6, 1.7, 1.8]]</td>\n",
       "      <td>[[1.75], [1.66, 1.9]]</td>\n",
       "      <td>[[1.75], [1.66, 1.9]]</td>\n",
       "      <td>[[1.66, 1.66, 1.75], [1.75, 1.6, 1.85]]</td>\n",
       "    </tr>\n",
       "    <tr>\n",
       "      <th>wgt</th>\n",
       "      <td>-</td>\n",
       "      <td>[[0.7, 0.3, 0.7], [0.7, 0.6], [0.4, 0.5, 0.8, 0.95]]</td>\n",
       "      <td>[[0, 0.5, 0.4, 0.6, 0.65], [0.7, 0.7, 0.55, 0.6]]</td>\n",
       "      <td>[[0.6, 0.4, 0.7], [0.7, 0.4], [0.3, 0.4, 0.85, 0.9]]</td>\n",
       "      <td>[[0.75], [0.75, 0.95]]</td>\n",
       "      <td>[[0.75], [0.75, 0.95]]</td>\n",
       "      <td>[[0.7, 0.8, 0.7], [0.8, 0.7, 0.8]]</td>\n",
       "    </tr>\n",
       "  </tbody>\n",
       "</table>\n",
       "</div>"
      ],
      "text/plain": [
       "                                 clirad-lw  \\\n",
       "                                        :D   \n",
       "atmpro                                 saw   \n",
       "band                   [3, 4, 5, 6, 7, 11]   \n",
       "commitnumber                       1013f91   \n",
       "conc                                     -   \n",
       "dv                                       -   \n",
       "klin                                     -   \n",
       "molecule                   {'co2': 0.0004}   \n",
       "ng_adju                                  -   \n",
       "ng_refs                                  -   \n",
       "nv                                       -   \n",
       "option_compute_btable                    -   \n",
       "option_compute_ktable                    -   \n",
       "option_wgt_flux                          -   \n",
       "option_wgt_k                             -   \n",
       "ref_pts                                  -   \n",
       "tsfc                                   257   \n",
       "vmax                                     -   \n",
       "vmin                                     -   \n",
       "w_diffuse                                -   \n",
       "wgt                                      -   \n",
       "\n",
       "                                                              lblnew-bestfit lw  \\\n",
       "                                                                     band3a co2   \n",
       "atmpro                                                                      saw   \n",
       "band                                                                         3a   \n",
       "commitnumber                                                            a22ab94   \n",
       "conc                                                                     0.0004   \n",
       "dv                                                                        0.001   \n",
       "klin                                                                6.37556e-24   \n",
       "molecule                                                                    co2   \n",
       "ng_adju                                                               [0, 0, 0]   \n",
       "ng_refs                                                               [3, 2, 4]   \n",
       "nv                                                                         1000   \n",
       "option_compute_btable                                                         0   \n",
       "option_compute_ktable                                                         0   \n",
       "option_wgt_flux                                                               1   \n",
       "option_wgt_k                                                                  1   \n",
       "ref_pts                                       [[1, 250], [10, 250], [500, 250]]   \n",
       "tsfc                                                                        257   \n",
       "vmax                                                                        620   \n",
       "vmin                                                                        540   \n",
       "w_diffuse              [[1.6, 1.6, 1.7], [1.75, 1.75], [1.55, 1.55, 1.6, 1.85]]   \n",
       "wgt                        [[0.7, 0.3, 0.7], [0.7, 0.6], [0.4, 0.5, 0.8, 0.95]]   \n",
       "\n",
       "                                                                                   \\\n",
       "                                                                       band3b co2   \n",
       "atmpro                                                                        saw   \n",
       "band                                                                           3b   \n",
       "commitnumber                                                              a22ab94   \n",
       "conc                                                                       0.0004   \n",
       "dv                                                                          0.001   \n",
       "klin                                                                            0   \n",
       "molecule                                                                      co2   \n",
       "ng_adju                                                                    [0, 0]   \n",
       "ng_refs                                                                    [5, 4]   \n",
       "nv                                                                           1000   \n",
       "option_compute_btable                                                           0   \n",
       "option_compute_ktable                                                           0   \n",
       "option_wgt_flux                                                                 1   \n",
       "option_wgt_k                                                                    1   \n",
       "ref_pts                                                     [[1, 250], [10, 250]]   \n",
       "tsfc                                                                          257   \n",
       "vmax                                                                          720   \n",
       "vmin                                                                          620   \n",
       "w_diffuse              [[1.66, 1.66, 1.66, 1.66, 1.66], [1.66, 1.66, 1.66, 1.66]]   \n",
       "wgt                             [[0, 0.5, 0.4, 0.6, 0.65], [0.7, 0.7, 0.55, 0.6]]   \n",
       "\n",
       "                                                                             \\\n",
       "                                                                 band3c co2   \n",
       "atmpro                                                                  saw   \n",
       "band                                                                     3c   \n",
       "commitnumber                                                        a22ab94   \n",
       "conc                                                                 0.0004   \n",
       "dv                                                                    0.001   \n",
       "klin                                                            6.37556e-24   \n",
       "molecule                                                                co2   \n",
       "ng_adju                                                           [0, 0, 0]   \n",
       "ng_refs                                                           [3, 2, 4]   \n",
       "nv                                                                     1000   \n",
       "option_compute_btable                                                     0   \n",
       "option_compute_ktable                                                     0   \n",
       "option_wgt_flux                                                           1   \n",
       "option_wgt_k                                                              1   \n",
       "ref_pts                                   [[1, 250], [10, 250], [500, 250]]   \n",
       "tsfc                                                                    257   \n",
       "vmax                                                                    800   \n",
       "vmin                                                                    720   \n",
       "w_diffuse               [[1.7, 1.6, 1.8], [1.8, 1.7], [1.5, 1.6, 1.7, 1.8]]   \n",
       "wgt                    [[0.6, 0.4, 0.7], [0.7, 0.4], [0.3, 0.4, 0.85, 0.9]]   \n",
       "\n",
       "                                                                       \\\n",
       "                                    band4 co2               band5 co2   \n",
       "atmpro                                    saw                     saw   \n",
       "band                                        4                       5   \n",
       "commitnumber                          a22ab94                 a22ab94   \n",
       "conc                                   0.0004                  0.0004   \n",
       "dv                                      0.001                   0.001   \n",
       "klin                                  6.5e-24                 6.5e-24   \n",
       "molecule                                  co2                     co2   \n",
       "ng_adju                                [0, 0]                  [0, 0]   \n",
       "ng_refs                                [1, 2]                  [1, 2]   \n",
       "nv                                       1000                    1000   \n",
       "option_compute_btable                       0                       0   \n",
       "option_compute_ktable                       0                       0   \n",
       "option_wgt_flux                             1                       1   \n",
       "option_wgt_k                                1                       1   \n",
       "ref_pts                [[1, 250], [500, 250]]  [[1, 250], [500, 250]]   \n",
       "tsfc                                      257                     257   \n",
       "vmax                                      980                    1100   \n",
       "vmin                                      800                     980   \n",
       "w_diffuse               [[1.75], [1.66, 1.9]]   [[1.75], [1.66, 1.9]]   \n",
       "wgt                    [[0.75], [0.75, 0.95]]  [[0.75], [0.75, 0.95]]   \n",
       "\n",
       "                                                                \n",
       "                                                     band9 co2  \n",
       "atmpro                                                     saw  \n",
       "band                                                         9  \n",
       "commitnumber                                           a22ab94  \n",
       "conc                                                    0.0004  \n",
       "dv                                                       0.001  \n",
       "klin                                                   6.5e-24  \n",
       "molecule                                                   co2  \n",
       "ng_adju                                                 [0, 0]  \n",
       "ng_refs                                                 [3, 3]  \n",
       "nv                                                        1000  \n",
       "option_compute_btable                                        0  \n",
       "option_compute_ktable                                        0  \n",
       "option_wgt_flux                                              1  \n",
       "option_wgt_k                                                 1  \n",
       "ref_pts                                  [[1, 250], [50, 250]]  \n",
       "tsfc                                                       257  \n",
       "vmax                                                      3000  \n",
       "vmin                                                      1900  \n",
       "w_diffuse              [[1.66, 1.66, 1.75], [1.75, 1.6, 1.85]]  \n",
       "wgt                         [[0.7, 0.8, 0.7], [0.8, 0.7, 0.8]]  "
      ]
     },
     "metadata": {},
     "output_type": "display_data"
    },
    {
     "data": {
      "text/html": [
       "<a id=\"Cooling_rates._saw.\"></a>"
      ],
      "text/plain": [
       "<IPython.core.display.HTML object>"
      ]
     },
     "metadata": {},
     "output_type": "display_data"
    },
    {
     "data": {
      "text/markdown": [
       "# Cooling rates. saw."
      ],
      "text/plain": [
       "<IPython.core.display.Markdown object>"
      ]
     },
     "metadata": {},
     "output_type": "display_data"
    },
    {
     "data": {
      "text/html": [
       "\n",
       "<div class=\"bk-root\">\n",
       "    <div class=\"bk-plotdiv\" id=\"25a143f9-4bdf-4b02-b551-a9bb4f85add8\"></div>\n",
       "</div>"
      ]
     },
     "metadata": {},
     "output_type": "display_data"
    },
    {
     "data": {
      "application/javascript": [
       "(function(root) {\n",
       "  function embed_document(root) {\n",
       "    \n",
       "  var docs_json = {\"59cc4ba8-8a96-4bf9-9284-aacc233a4099\":{\"roots\":{\"references\":[{\"attributes\":{\"active_drag\":\"auto\",\"active_inspect\":\"auto\",\"active_scroll\":\"auto\",\"active_tap\":\"auto\",\"tools\":[{\"id\":\"214e2439-6f00-4954-a967-8166f3257a56\",\"type\":\"PanTool\"},{\"id\":\"4d5abce7-13a0-4548-904b-fdd54a938dc0\",\"type\":\"WheelZoomTool\"},{\"id\":\"245536bb-4699-44c9-b519-6649ad1e4e15\",\"type\":\"BoxZoomTool\"},{\"id\":\"efcf9f1c-72a9-4ecb-9234-ae70213011e9\",\"type\":\"SaveTool\"},{\"id\":\"65e9d27d-f8e0-4d7c-bc9c-c656bb89d6d5\",\"type\":\"ResetTool\"},{\"id\":\"189b3ef1-8101-4f35-a9c5-46b1cdd1e6b4\",\"type\":\"HelpTool\"}]},\"id\":\"61a1adf8-8850-41d4-a081-2abaf918a0a2\",\"type\":\"Toolbar\"},{\"attributes\":{\"callback\":null,\"data\":{\"x\":{\"__ndarray__\":\"z9djQqHDUEAuzeoNblQ+QKFOCuOqkzxAkZjHZYXXOUBgz2ZBUNw2QAmY1QypGzRA/Y+V6NbNMUCgppSShwEwQHwgsBonVy1AOPlgXpxkK0AVKMmH//ApQLXuuP6LzShAt7/38hcSKECmTxPHkbcmQFvIOrYULyRAWf3p+O+8IUDUuSK45f0fQDyg0FgMth1AWbtsF0GhHEByfP1UKOscQJnk4CRdpx9A9wFZLooDHkAg2Q0l3gwXQFL59RaslhFAbp6+x9b4C0DIABAWbVUGQEQYCbKLXQFAdWgReFjW+z8m4PFFgcb4P5DAevI7RvY/YRqPzQTv8j8Y2yhUvK3tP517hocaw+g/lpNYyZ495z84ZqTOGCjkPwusaKtZYuA/KVy1yCCj2j98L/nnrljUPznI0mqgt80/dr/J6sYnxz+DtQRXTkTCP2D8bdYkLrw/QZO0SNXYsz+qft2XOgOgP2qUwjPzW7C/LxKHU02Rur/U759XZSyYv18M5w+Ztak/ob0/xq/itD+MkEsBdT66Pw/vDCMwmr4/yzXgp2Y1wT9TSLBtqvTCP62R8ColmMQ/Xlntd/0nxj+8wpBKgp/HP1M9zwL+98g/oCGPEdkjyj9j9NUhSxLLP10aeow2uss/hSVWlTsbzD8VwkIASELMP61GFNMIRMw/S/CYeVhAzD8HPuVwbF3MP8phy7DAzMw/53gpaO3TzT/kkRY3hqfPP5Lo4kf23dA/KvujtCUb0T8Ip/zoZpPPP7Em7FPx08o/8XrVba/yxT/6uG2pD6HBPzBLtbQdaLY/\",\"dtype\":\"float64\",\"shape\":[75]},\"y\":{\"__ndarray__\":\"GhExyth1ND/Sv8nbtpRIP2vylNV0PVE/aTum7souWD/At0SJ8fVgPw3Iuahxymc/MSNhhJWvcD/bTfBN02d3P2zb5nxnaoA/CD5h5MAGhz8NmeH1TyaQP+zrCsc9p5Y/LbKd76fGnz/bLW5ISEmmPww9YvTcQq8/JV2OstnstT8Er5Y7M8G+P0c+r3jqkcU/5h99k6ZBzj88bCIzFzjVP4enV8oyxN0//yH99nXg5D8qOpLLf0jtP5kqGJXUifQ/c9cS8kHP/D+/DpwzojQEQIEmwoanVwxA4lgXt9HgE0BSSZ2AJuIbQAMJih9jjiNA5q4l5INuK0AwTKYKRj0zQNv5fmq8/DpAaCJseHrtQkB/+zpwzoxKQM3MzMzMeFJAZmZmZmZqWEAAAAAAAFxeQM3MzMzMJmJAmpmZmZkfZUBmZmZmZhhoQDMzMzMzEWtAAAAAAAAKbkBmZmZmZoFwQM3MzMzM/XFAMzMzMzN6c0CamZmZmfZ0QAAAAAAAc3ZAZmZmZmbvd0DNzMzMzGt5QDMzMzMz6HpAmpmZmZlkfEAAAAAAAOF9QGZmZmZmXX9AZmZmZuZsgECamZmZGSuBQM3MzMxM6YFAAAAAAICngkAzMzMzs2WDQGZmZmbmI4RAmpmZmRnihEDNzMzMTKCFQAAAAACAXoZAMzMzM7Mch0BmZmZm5tqHQJqZmZkZmYhAzczMzExXiUAAAAAAgBWKQDMzMzOz04pAZmZmZuaRi0CamZmZGVCMQM3MzMxMDo1AAAAAAIDMjUAzMzMzs4qOQGZmZmbmSI9A\",\"dtype\":\"float64\",\"shape\":[75]}},\"selected\":{\"id\":\"3ad3b9e1-fa47-4cbe-ba8b-204c8cd6ec0c\",\"type\":\"Selection\"},\"selection_policy\":{\"id\":\"aad575f7-f337-47e3-8a0a-ce6f92278601\",\"type\":\"UnionRenderers\"}},\"id\":\"2605dee2-192b-41bc-a9fd-697a17481bdf\",\"type\":\"ColumnDataSource\"},{\"attributes\":{},\"id\":\"e570e021-c388-4605-b309-3946a70a4fec\",\"type\":\"SaveTool\"},{\"attributes\":{},\"id\":\"6d5ecad0-38bc-492e-b892-7409c6106b57\",\"type\":\"BasicTicker\"},{\"attributes\":{},\"id\":\"59e29d3c-a3e7-40eb-a9a5-8e25333da5b7\",\"type\":\"WheelZoomTool\"},{\"attributes\":{\"axis_label\":\"pressure [mb]\",\"formatter\":{\"id\":\"94ccd63f-81d5-42b7-9ee2-e89796b43b25\",\"type\":\"LogTickFormatter\"},\"plot\":{\"id\":\"7ede7893-f0b0-45dc-b742-738ab2793661\",\"subtype\":\"Figure\",\"type\":\"Plot\"},\"ticker\":{\"id\":\"69829b4b-562b-46bf-92ed-cd88529e9dd2\",\"type\":\"LogTicker\"}},\"id\":\"91a64ae7-054d-419b-8f0c-b3d150e09f8e\",\"type\":\"LogAxis\"},{\"attributes\":{},\"id\":\"f3280db0-1762-43fd-9d80-04194c2f8eed\",\"type\":\"WheelZoomTool\"},{\"attributes\":{},\"id\":\"1be42f31-97e8-42ef-9c16-4be485f3fecb\",\"type\":\"ResetTool\"},{\"attributes\":{\"data_source\":{\"id\":\"9b003932-e44a-42cd-a009-86d75a3e5373\",\"type\":\"ColumnDataSource\"},\"glyph\":{\"id\":\"35b254bb-62c1-43ff-ba87-a3200c2fb378\",\"type\":\"Line\"},\"hover_glyph\":null,\"muted_glyph\":null,\"nonselection_glyph\":{\"id\":\"788690d7-cfc0-44a5-bd36-4ab1b0e6afa0\",\"type\":\"Line\"},\"selection_glyph\":null,\"view\":{\"id\":\"629b1af1-9012-4602-8697-34cde55685e1\",\"type\":\"CDSView\"}},\"id\":\"8f6c2ecf-9076-4058-b5d9-e8ba389da4d5\",\"type\":\"GlyphRenderer\"},{\"attributes\":{\"fill_alpha\":{\"value\":0.7},\"fill_color\":{\"value\":\"#4daf4a\"},\"line_alpha\":{\"value\":0.7},\"line_color\":{\"value\":\"#4daf4a\"},\"x\":{\"field\":\"x\"},\"y\":{\"field\":\"y\"}},\"id\":\"8af165e7-acda-4cab-aff3-4cd4a8334a73\",\"type\":\"Circle\"},{\"attributes\":{},\"id\":\"6cb59a65-88a0-48a9-84d0-b15ff40745c7\",\"type\":\"LinearScale\"},{\"attributes\":{\"bottom_units\":\"screen\",\"fill_alpha\":{\"value\":0.5},\"fill_color\":{\"value\":\"lightgrey\"},\"left_units\":\"screen\",\"level\":\"overlay\",\"line_alpha\":{\"value\":1.0},\"line_color\":{\"value\":\"black\"},\"line_dash\":[4,4],\"line_width\":{\"value\":2},\"plot\":null,\"render_mode\":\"css\",\"right_units\":\"screen\",\"top_units\":\"screen\"},\"id\":\"8cc399b8-ee43-4cf7-b14f-79a6b99a845d\",\"type\":\"BoxAnnotation\"},{\"attributes\":{\"plot\":{\"id\":\"531af0c4-5456-4262-b659-ef421f6c43bc\",\"subtype\":\"Figure\",\"type\":\"Plot\"},\"ticker\":{\"id\":\"6d5ecad0-38bc-492e-b892-7409c6106b57\",\"type\":\"BasicTicker\"}},\"id\":\"4fec29cf-cdb5-4c0e-828c-305d5206ed2d\",\"type\":\"Grid\"},{\"attributes\":{\"source\":{\"id\":\"e1296448-dd35-4808-a27c-0ce9c98a731f\",\"type\":\"ColumnDataSource\"}},\"id\":\"0db40f43-3d54-43e1-95a8-0703a5020c98\",\"type\":\"CDSView\"},{\"attributes\":{\"label\":{\"value\":\"CLIRAD\"},\"renderers\":[{\"id\":\"0171d0e0-5dad-47e4-a11a-2d69becebf7f\",\"type\":\"GlyphRenderer\"}]},\"id\":\"45e13dce-35a8-4a85-9387-356f8a4ade9d\",\"type\":\"LegendItem\"},{\"attributes\":{},\"id\":\"37d34abb-37d6-4d5b-8e9d-64e7f21475ea\",\"type\":\"BasicTicker\"},{\"attributes\":{},\"id\":\"86704bbb-f241-49cc-871d-eb48762e9e41\",\"type\":\"LinearScale\"},{\"attributes\":{\"overlay\":{\"id\":\"8cc399b8-ee43-4cf7-b14f-79a6b99a845d\",\"type\":\"BoxAnnotation\"}},\"id\":\"a64d268c-3a3d-4809-aa4e-13a3ae9e7948\",\"type\":\"BoxZoomTool\"},{\"attributes\":{},\"id\":\"b9f54d67-292e-499f-b742-a441c74b0596\",\"type\":\"UnionRenderers\"},{\"attributes\":{\"callback\":null,\"end\":0.6819122140147981,\"start\":-0.13633068387499803},\"id\":\"3c66cbda-0a76-4e55-9250-50127b5c9067\",\"type\":\"Range1d\"},{\"attributes\":{\"fill_alpha\":{\"value\":0.7},\"fill_color\":{\"value\":\"#4daf4a\"},\"line_alpha\":{\"value\":0.7},\"line_color\":{\"value\":\"#4daf4a\"},\"x\":{\"field\":\"x\"},\"y\":{\"field\":\"y\"}},\"id\":\"f6749c41-73df-4dcc-b4cc-7bd386b6c7c2\",\"type\":\"Circle\"},{\"attributes\":{\"callback\":null,\"end\":0.01,\"start\":1020},\"id\":\"e38c8f3c-7d34-49d5-9681-364b20ba5bfd\",\"type\":\"Range1d\"},{\"attributes\":{},\"id\":\"3e40026b-2988-4b6f-b3c9-afa097048ce6\",\"type\":\"SaveTool\"},{\"attributes\":{},\"id\":\"0e064a0e-0919-4442-a12f-c8e1b1996a7e\",\"type\":\"ResetTool\"},{\"attributes\":{\"items\":[{\"id\":\"e8a800bf-bf89-49f1-b378-b37c7b9b43b7\",\"type\":\"LegendItem\"},{\"id\":\"7d16faa6-b964-47ff-b22b-2d67ad796500\",\"type\":\"LegendItem\"}],\"label_text_font_size\":{\"value\":\"8pt\"},\"location\":\"top_center\",\"orientation\":\"horizontal\",\"plot\":{\"id\":\"531af0c4-5456-4262-b659-ef421f6c43bc\",\"subtype\":\"Figure\",\"type\":\"Plot\"}},\"id\":\"08e0b7d6-8055-4151-ad70-a7d9b1657b25\",\"type\":\"Legend\"},{\"attributes\":{},\"id\":\"6da25c38-23f6-4dc8-9b7e-a53fd031d652\",\"type\":\"HelpTool\"},{\"attributes\":{\"items\":[{\"id\":\"07cfaeec-f177-40e1-8511-55f020e37a36\",\"type\":\"LegendItem\"}],\"label_text_font_size\":{\"value\":\"8pt\"},\"location\":\"top_center\",\"orientation\":\"horizontal\",\"plot\":{\"id\":\"bb26f895-b885-4ec9-a855-443c663c97fc\",\"subtype\":\"Figure\",\"type\":\"Plot\"}},\"id\":\"c36dcc1a-c5b0-47ab-8261-605b9d5cce3a\",\"type\":\"Legend\"},{\"attributes\":{},\"id\":\"9902dc69-89c8-4742-93b5-5f1d668b43a5\",\"type\":\"PanTool\"},{\"attributes\":{\"fill_alpha\":{\"value\":0.1},\"fill_color\":{\"value\":\"#1f77b4\"},\"line_alpha\":{\"value\":0.1},\"line_color\":{\"value\":\"#1f77b4\"},\"x\":{\"field\":\"x\"},\"y\":{\"field\":\"y\"}},\"id\":\"f969cd6e-303f-4d92-b9c0-3e57e29d899a\",\"type\":\"Circle\"},{\"attributes\":{\"axis_label\":\"cooling rate [K/day]\",\"formatter\":{\"id\":\"31f6f8e5-c5d6-4afe-b415-fd5dc35320b0\",\"type\":\"BasicTickFormatter\"},\"plot\":{\"id\":\"531af0c4-5456-4262-b659-ef421f6c43bc\",\"subtype\":\"Figure\",\"type\":\"Plot\"},\"ticker\":{\"id\":\"6d5ecad0-38bc-492e-b892-7409c6106b57\",\"type\":\"BasicTicker\"}},\"id\":\"0252a355-e2f2-4530-ba66-e23aa22dc43f\",\"type\":\"LinearAxis\"},{\"attributes\":{},\"id\":\"f0881457-e065-4f2c-95af-64df4046b751\",\"type\":\"Selection\"},{\"attributes\":{\"axis_label\":\"pressure [mb]\",\"formatter\":{\"id\":\"7e118206-f8b0-414e-9cbd-044cf03b8264\",\"type\":\"BasicTickFormatter\"},\"plot\":{\"id\":\"531af0c4-5456-4262-b659-ef421f6c43bc\",\"subtype\":\"Figure\",\"type\":\"Plot\"},\"ticker\":{\"id\":\"37d34abb-37d6-4d5b-8e9d-64e7f21475ea\",\"type\":\"BasicTicker\"}},\"id\":\"0cc725ef-c32a-400f-a81f-bad0c1507fef\",\"type\":\"LinearAxis\"},{\"attributes\":{\"above\":[{\"id\":\"c36dcc1a-c5b0-47ab-8261-605b9d5cce3a\",\"type\":\"Legend\"}],\"below\":[{\"id\":\"7d480add-0157-4ced-90ab-0dd64e8eb2e5\",\"type\":\"LinearAxis\"}],\"left\":[{\"id\":\"0d331192-cc4a-4a7b-b9c5-4c5900109d49\",\"type\":\"LogAxis\"}],\"plot_width\":300,\"renderers\":[{\"id\":\"7d480add-0157-4ced-90ab-0dd64e8eb2e5\",\"type\":\"LinearAxis\"},{\"id\":\"e851d6fb-952e-440f-a69f-042df90c295f\",\"type\":\"Grid\"},{\"id\":\"0d331192-cc4a-4a7b-b9c5-4c5900109d49\",\"type\":\"LogAxis\"},{\"id\":\"735a5507-fae5-4949-b3ac-64364c6725c1\",\"type\":\"Grid\"},{\"id\":\"5e67ddab-cb51-4a85-a090-2e5d9ac829d2\",\"type\":\"BoxAnnotation\"},{\"id\":\"26c46a7f-02fe-451f-8e79-63de57368082\",\"type\":\"GlyphRenderer\"},{\"id\":\"db69afc1-cbc0-42a3-acff-f244f98b499d\",\"type\":\"GlyphRenderer\"},{\"id\":\"c36dcc1a-c5b0-47ab-8261-605b9d5cce3a\",\"type\":\"Legend\"}],\"title\":{\"id\":\"072cd363-0f05-410c-91fb-ae86156365d4\",\"type\":\"Title\"},\"toolbar\":{\"id\":\"61a1adf8-8850-41d4-a081-2abaf918a0a2\",\"type\":\"Toolbar\"},\"toolbar_location\":null,\"x_range\":{\"id\":\"b01cdd70-d2c3-4f42-9628-a24d2c85e6bf\",\"type\":\"Range1d\"},\"x_scale\":{\"id\":\"4e947573-69c5-4394-8ceb-6ffed08e1afc\",\"type\":\"LinearScale\"},\"y_range\":{\"id\":\"e38c8f3c-7d34-49d5-9681-364b20ba5bfd\",\"type\":\"Range1d\"},\"y_scale\":{\"id\":\"5410328c-181c-459f-a7e1-7d9b56ddc40d\",\"type\":\"LogScale\"}},\"id\":\"bb26f895-b885-4ec9-a855-443c663c97fc\",\"subtype\":\"Figure\",\"type\":\"Plot\"},{\"attributes\":{\"data_source\":{\"id\":\"aa54cb73-f884-4935-9c38-6512f7a35dba\",\"type\":\"ColumnDataSource\"},\"glyph\":{\"id\":\"f6749c41-73df-4dcc-b4cc-7bd386b6c7c2\",\"type\":\"Circle\"},\"hover_glyph\":null,\"muted_glyph\":null,\"nonselection_glyph\":{\"id\":\"e083c31a-9e42-4693-9c4e-bda286bb996e\",\"type\":\"Circle\"},\"selection_glyph\":null,\"view\":{\"id\":\"cca47d7a-5ffd-4953-9910-7ebf6f778261\",\"type\":\"CDSView\"}},\"id\":\"fa2d98d4-2c7b-4166-9740-d373fcd7a63c\",\"type\":\"GlyphRenderer\"},{\"attributes\":{},\"id\":\"3e57d2f7-fe60-4fbd-b45f-18a2996e8d57\",\"type\":\"UnionRenderers\"},{\"attributes\":{\"callback\":null,\"data\":{\"x\":{\"__ndarray__\":\"aCVc3TFxRkDdkBWR1QdAQEX6F/64Lz9AyULF7e2kPEBNMOsxrr04QEfrwmhNUzRAPsebFYiBMEA2Or2r7UEsQBKioxdGKSpAUQRWMGtZKUAIKs0feJkoQKPpS7L3gidA9wSX8/aPJkDDgJjRvmYlQK3d0aPLyCNApu8IOiCCIkCqjs9+wXkhQJ+m0cZDPyBApTp4ge3jHUAF3+B96EocQNeT5PWzzR1AHiQXnZ1uHEA9dPw6qZEWQCbDGY7zlBFA/9pbOHJJC0CrCOpl6jAFQJIcQqjOgQFAhFHgdBBN/j97vMo+vfn6P6kmSxVQZvc/rxG90D3X8z8idboxlrDtP0/C292OyOc/BFVaIqDn5z9/PpY7gpDlP3+kcgqUeOA/yI+u4Vrx2T9qIzUXX2XVP8YgingzVdE/MuJxoBSqzD8SYOcsZqTGPykvRdYNr8A/4X/pMRkdtT+uCgpOy4OXP1T6rYgfPbW/17W4V2tswL+NV2jTr9Cov5FJ3JAY+Z0/lBZcNS6psD/Xv2eWdNS2P6wReoAxobs/SpcTpO5ovz+N4ee9Mp7BP8XuAuNdXcM/EB49hO4VxT+r/5XFm8DGPy+eM5yjVsg/eB1gJ3XMyT9bkeCaN+bKPyCKFTzk6cs/mcdNlbd4zD8g3q8M7srMP5XqeJAC8sw/RP92bBMNzT/RX/OoO0HNP8dlV3d3v80/UUJqQxfOzj8CBzQZFVbQPzT2Xw+4StE/r3JsbqGT0T9zMwSSvDvQP6ETYKbWjMs/8TDJHqPQxj9LowsrClTCP1zm20O28Lc/\",\"dtype\":\"float64\",\"shape\":[75]},\"y\":{\"__ndarray__\":\"GhExyth1ND/Sv8nbtpRIP2vylNV0PVE/aTum7souWD/At0SJ8fVgPw3Iuahxymc/MSNhhJWvcD/bTfBN02d3P2zb5nxnaoA/CD5h5MAGhz8NmeH1TyaQP+zrCsc9p5Y/LbKd76fGnz/bLW5ISEmmPww9YvTcQq8/JV2OstnstT8Er5Y7M8G+P0c+r3jqkcU/5h99k6ZBzj88bCIzFzjVP4enV8oyxN0//yH99nXg5D8qOpLLf0jtP5kqGJXUifQ/c9cS8kHP/D+/DpwzojQEQIEmwoanVwxA4lgXt9HgE0BSSZ2AJuIbQAMJih9jjiNA5q4l5INuK0AwTKYKRj0zQNv5fmq8/DpAaCJseHrtQkB/+zpwzoxKQM3MzMzMeFJAZmZmZmZqWEAAAAAAAFxeQM3MzMzMJmJAmpmZmZkfZUBmZmZmZhhoQDMzMzMzEWtAAAAAAAAKbkBmZmZmZoFwQM3MzMzM/XFAMzMzMzN6c0CamZmZmfZ0QAAAAAAAc3ZAZmZmZmbvd0DNzMzMzGt5QDMzMzMz6HpAmpmZmZlkfEAAAAAAAOF9QGZmZmZmXX9AZmZmZuZsgECamZmZGSuBQM3MzMxM6YFAAAAAAICngkAzMzMzs2WDQGZmZmbmI4RAmpmZmRnihEDNzMzMTKCFQAAAAACAXoZAMzMzM7Mch0BmZmZm5tqHQJqZmZkZmYhAzczMzExXiUAAAAAAgBWKQDMzMzOz04pAZmZmZuaRi0CamZmZGVCMQM3MzMxMDo1AAAAAAIDMjUAzMzMzs4qOQGZmZmbmSI9A\",\"dtype\":\"float64\",\"shape\":[75]}},\"selected\":{\"id\":\"862f7646-ffc8-4ced-8180-741150dacd7b\",\"type\":\"Selection\"},\"selection_policy\":{\"id\":\"b9f54d67-292e-499f-b742-a441c74b0596\",\"type\":\"UnionRenderers\"}},\"id\":\"9b003932-e44a-42cd-a009-86d75a3e5373\",\"type\":\"ColumnDataSource\"},{\"attributes\":{\"active_drag\":\"auto\",\"active_inspect\":\"auto\",\"active_scroll\":\"auto\",\"active_tap\":\"auto\",\"tools\":[{\"id\":\"9902dc69-89c8-4742-93b5-5f1d668b43a5\",\"type\":\"PanTool\"},{\"id\":\"59e29d3c-a3e7-40eb-a9a5-8e25333da5b7\",\"type\":\"WheelZoomTool\"},{\"id\":\"a64d268c-3a3d-4809-aa4e-13a3ae9e7948\",\"type\":\"BoxZoomTool\"},{\"id\":\"e570e021-c388-4605-b309-3946a70a4fec\",\"type\":\"SaveTool\"},{\"id\":\"0e064a0e-0919-4442-a12f-c8e1b1996a7e\",\"type\":\"ResetTool\"},{\"id\":\"6da25c38-23f6-4dc8-9b7e-a53fd031d652\",\"type\":\"HelpTool\"}]},\"id\":\"380b0fc0-9aa8-49e8-8320-b3004a49216a\",\"type\":\"Toolbar\"},{\"attributes\":{\"callback\":null,\"data\":{\"x\":{\"__ndarray__\":\"bBTXTiEsNsDASAVE0bP7PyBdbdhw4ARAwFHtP0RrBkDQDkYI3xX+PwCfqfYt0ss/8IucL+3E9L9QmGDLCwn+v1DzYxgIb/m/OKdXcIlZ8L/Q4L9/dnjlvyBR0MZEqeS/AKwL9g8i6L8w7qxXLw3lv4CrOppEksm/oEneIwim2D8AHOMr6qznPxBolabZQ+Y/wPS3oMYq1D+grZPj+gfEvyAMxe+Smt2/kN0dFMlO2b/AOFmEOs2+vwDAYsONiFu/4G1Y7JHstb/QgV8CK0jCvwAnghx7IZI/eEh35r+1wz+o4sbG35nBP5BhBi1CAbI/wOm+ZSAHrT8AUNCM7M42P8ApVzV1UZ+/wC04ICtAlT9whB3PloamPwB0+AlfOmY/IIzZ4Lw4hr/gPr/zAsuQP0zlBRkay6M/8Iqg1jYJpj88qopXX4ChP8iHcVjbv5Q/AMpOkz5EdD9M5WHDUwWBv6iXrVOxhJO//GWpbyUemb9GvzBP+nSZvy3P8Y4ZcpW/NJyOQwbmkL+ohR5XA1CLvxjrlhT1x4e/YKJmXfUOiL9gbIb8emeFv4Au2n50rIO/4LQDO+8ggb8gYlif0Nx7v4Dkc9NMK3S/AArBi/rYZb8AhLF6wwlWv4Dht83X1lc/AIXo/f9eZz9ggaONwRRxPwB9lKw3v3U/IN/BW16XeT9AOcQB53l8P6B/gNHYVn4/QC0ZaDtFfz8Awhe1P0qAP4BoQ99xMHs/QOEdcu4efj/A+3dhR4J8PwCefU6qHHc/AMB2Hna+ez8gSr0zUF92P8CyafKIiXg/\",\"dtype\":\"float64\",\"shape\":[75]},\"y\":{\"__ndarray__\":\"GhExyth1ND/Sv8nbtpRIP2vylNV0PVE/aTum7souWD/At0SJ8fVgPw3Iuahxymc/MSNhhJWvcD/bTfBN02d3P2zb5nxnaoA/CD5h5MAGhz8NmeH1TyaQP+zrCsc9p5Y/LbKd76fGnz/bLW5ISEmmPww9YvTcQq8/JV2OstnstT8Er5Y7M8G+P0c+r3jqkcU/5h99k6ZBzj88bCIzFzjVP4enV8oyxN0//yH99nXg5D8qOpLLf0jtP5kqGJXUifQ/c9cS8kHP/D+/DpwzojQEQIEmwoanVwxA4lgXt9HgE0BSSZ2AJuIbQAMJih9jjiNA5q4l5INuK0AwTKYKRj0zQNv5fmq8/DpAaCJseHrtQkB/+zpwzoxKQM3MzMzMeFJAZmZmZmZqWEAAAAAAAFxeQM3MzMzMJmJAmpmZmZkfZUBmZmZmZhhoQDMzMzMzEWtAAAAAAAAKbkBmZmZmZoFwQM3MzMzM/XFAMzMzMzN6c0CamZmZmfZ0QAAAAAAAc3ZAZmZmZmbvd0DNzMzMzGt5QDMzMzMz6HpAmpmZmZlkfEAAAAAAAOF9QGZmZmZmXX9AZmZmZuZsgECamZmZGSuBQM3MzMxM6YFAAAAAAICngkAzMzMzs2WDQGZmZmbmI4RAmpmZmRnihEDNzMzMTKCFQAAAAACAXoZAMzMzM7Mch0BmZmZm5tqHQJqZmZkZmYhAzczMzExXiUAAAAAAgBWKQDMzMzOz04pAZmZmZuaRi0CamZmZGVCMQM3MzMxMDo1AAAAAAIDMjUAzMzMzs4qOQGZmZmbmSI9A\",\"dtype\":\"float64\",\"shape\":[75]}},\"selected\":{\"id\":\"2352c314-f7d7-4b8d-b224-407d208e6aab\",\"type\":\"Selection\"},\"selection_policy\":{\"id\":\"92775b70-cce8-42ef-9b29-da0c0d288a33\",\"type\":\"UnionRenderers\"}},\"id\":\"5f11c125-9155-4fe2-8733-562814a35e13\",\"type\":\"ColumnDataSource\"},{\"attributes\":{\"overlay\":{\"id\":\"5070c4ba-f739-4dad-8288-88df9c2d0708\",\"type\":\"BoxAnnotation\"}},\"id\":\"9f6a6026-1659-40ce-8361-cd4a84ecc998\",\"type\":\"BoxZoomTool\"},{\"attributes\":{\"line_alpha\":0.1,\"line_color\":\"#1f77b4\",\"line_dash\":[6],\"line_width\":5,\"x\":{\"field\":\"x\"},\"y\":{\"field\":\"y\"}},\"id\":\"74782115-10ac-4afd-b8fc-1d301157b933\",\"type\":\"Line\"},{\"attributes\":{\"fill_alpha\":{\"value\":0.1},\"fill_color\":{\"value\":\"#1f77b4\"},\"line_alpha\":{\"value\":0.1},\"line_color\":{\"value\":\"#1f77b4\"},\"x\":{\"field\":\"x\"},\"y\":{\"field\":\"y\"}},\"id\":\"ddff265e-4d34-4d19-aaf0-25c908bcd948\",\"type\":\"Circle\"},{\"attributes\":{\"line_alpha\":0.6,\"line_color\":\"#e41a1c\",\"line_dash\":[6],\"line_width\":5,\"x\":{\"field\":\"x\"},\"y\":{\"field\":\"y\"}},\"id\":\"35b254bb-62c1-43ff-ba87-a3200c2fb378\",\"type\":\"Line\"},{\"attributes\":{\"num_minor_ticks\":10},\"id\":\"69829b4b-562b-46bf-92ed-cd88529e9dd2\",\"type\":\"LogTicker\"},{\"attributes\":{\"line_alpha\":0.6,\"line_color\":\"#e41a1c\",\"line_dash\":[6],\"line_width\":5,\"x\":{\"field\":\"x\"},\"y\":{\"field\":\"y\"}},\"id\":\"6a719ebe-b8ed-4023-8cab-7413ef306479\",\"type\":\"Line\"},{\"attributes\":{},\"id\":\"7678c27d-6a43-4806-bea2-528bda2e083d\",\"type\":\"HelpTool\"},{\"attributes\":{\"bottom_units\":\"screen\",\"fill_alpha\":{\"value\":0.5},\"fill_color\":{\"value\":\"lightgrey\"},\"left_units\":\"screen\",\"level\":\"overlay\",\"line_alpha\":{\"value\":1.0},\"line_color\":{\"value\":\"black\"},\"line_dash\":[4,4],\"line_width\":{\"value\":2},\"plot\":null,\"render_mode\":\"css\",\"right_units\":\"screen\",\"top_units\":\"screen\"},\"id\":\"5070c4ba-f739-4dad-8288-88df9c2d0708\",\"type\":\"BoxAnnotation\"},{\"attributes\":{\"fill_alpha\":{\"value\":0.1},\"fill_color\":{\"value\":\"#1f77b4\"},\"line_alpha\":{\"value\":0.1},\"line_color\":{\"value\":\"#1f77b4\"},\"x\":{\"field\":\"x\"},\"y\":{\"field\":\"y\"}},\"id\":\"e083c31a-9e42-4693-9c4e-bda286bb996e\",\"type\":\"Circle\"},{\"attributes\":{\"callback\":null,\"end\":0.01,\"start\":1020},\"id\":\"8bc4ad25-ec46-43f7-90eb-27dbeebbb74f\",\"type\":\"Range1d\"},{\"attributes\":{\"line_alpha\":0.1,\"line_color\":\"#1f77b4\",\"line_dash\":[6],\"line_width\":5,\"x\":{\"field\":\"x\"},\"y\":{\"field\":\"y\"}},\"id\":\"788690d7-cfc0-44a5-bd36-4ab1b0e6afa0\",\"type\":\"Line\"},{\"attributes\":{\"source\":{\"id\":\"9b003932-e44a-42cd-a009-86d75a3e5373\",\"type\":\"ColumnDataSource\"}},\"id\":\"629b1af1-9012-4602-8697-34cde55685e1\",\"type\":\"CDSView\"},{\"attributes\":{},\"id\":\"3ad3b9e1-fa47-4cbe-ba8b-204c8cd6ec0c\",\"type\":\"Selection\"},{\"attributes\":{\"callback\":null,\"data\":{\"x\":{\"__ndarray__\":\"z9djQqHDUEAuzeoNblQ+QKFOCuOqkzxAkZjHZYXXOUBgz2ZBUNw2QAmY1QypGzRA/Y+V6NbNMUCgppSShwEwQHwgsBonVy1AOPlgXpxkK0AVKMmH//ApQLXuuP6LzShAt7/38hcSKECmTxPHkbcmQFvIOrYULyRAWf3p+O+8IUDUuSK45f0fQDyg0FgMth1AWbtsF0GhHEByfP1UKOscQJnk4CRdpx9A9wFZLooDHkAg2Q0l3gwXQFL59RaslhFAbp6+x9b4C0DIABAWbVUGQEQYCbKLXQFAdWgReFjW+z8m4PFFgcb4P5DAevI7RvY/YRqPzQTv8j8Y2yhUvK3tP517hocaw+g/lpNYyZ495z84ZqTOGCjkPwusaKtZYuA/KVy1yCCj2j98L/nnrljUPznI0mqgt80/dr/J6sYnxz+DtQRXTkTCP2D8bdYkLrw/QZO0SNXYsz+qft2XOgOgP2qUwjPzW7C/LxKHU02Rur/U759XZSyYv18M5w+Ztak/ob0/xq/itD+MkEsBdT66Pw/vDCMwmr4/yzXgp2Y1wT9TSLBtqvTCP62R8ColmMQ/Xlntd/0nxj+8wpBKgp/HP1M9zwL+98g/oCGPEdkjyj9j9NUhSxLLP10aeow2uss/hSVWlTsbzD8VwkIASELMP61GFNMIRMw/S/CYeVhAzD8HPuVwbF3MP8phy7DAzMw/53gpaO3TzT/kkRY3hqfPP5Lo4kf23dA/KvujtCUb0T8Ip/zoZpPPP7Em7FPx08o/8XrVba/yxT/6uG2pD6HBPzBLtbQdaLY/\",\"dtype\":\"float64\",\"shape\":[75]},\"y\":{\"__ndarray__\":\"GhExyth1ND/Sv8nbtpRIP2vylNV0PVE/aTum7souWD/At0SJ8fVgPw3Iuahxymc/MSNhhJWvcD/bTfBN02d3P2zb5nxnaoA/CD5h5MAGhz8NmeH1TyaQP+zrCsc9p5Y/LbKd76fGnz/bLW5ISEmmPww9YvTcQq8/JV2OstnstT8Er5Y7M8G+P0c+r3jqkcU/5h99k6ZBzj88bCIzFzjVP4enV8oyxN0//yH99nXg5D8qOpLLf0jtP5kqGJXUifQ/c9cS8kHP/D+/DpwzojQEQIEmwoanVwxA4lgXt9HgE0BSSZ2AJuIbQAMJih9jjiNA5q4l5INuK0AwTKYKRj0zQNv5fmq8/DpAaCJseHrtQkB/+zpwzoxKQM3MzMzMeFJAZmZmZmZqWEAAAAAAAFxeQM3MzMzMJmJAmpmZmZkfZUBmZmZmZhhoQDMzMzMzEWtAAAAAAAAKbkBmZmZmZoFwQM3MzMzM/XFAMzMzMzN6c0CamZmZmfZ0QAAAAAAAc3ZAZmZmZmbvd0DNzMzMzGt5QDMzMzMz6HpAmpmZmZlkfEAAAAAAAOF9QGZmZmZmXX9AZmZmZuZsgECamZmZGSuBQM3MzMxM6YFAAAAAAICngkAzMzMzs2WDQGZmZmbmI4RAmpmZmRnihEDNzMzMTKCFQAAAAACAXoZAMzMzM7Mch0BmZmZm5tqHQJqZmZkZmYhAzczMzExXiUAAAAAAgBWKQDMzMzOz04pAZmZmZuaRi0CamZmZGVCMQM3MzMxMDo1AAAAAAIDMjUAzMzMzs4qOQGZmZmbmSI9A\",\"dtype\":\"float64\",\"shape\":[75]}},\"selected\":{\"id\":\"a5f1f066-1417-42c6-969b-8d0e57461464\",\"type\":\"Selection\"},\"selection_policy\":{\"id\":\"11cb4712-2a82-4f2e-b497-4e2bf52948a5\",\"type\":\"UnionRenderers\"}},\"id\":\"aa54cb73-f884-4935-9c38-6512f7a35dba\",\"type\":\"ColumnDataSource\"},{\"attributes\":{\"dimension\":1,\"plot\":{\"id\":\"531af0c4-5456-4262-b659-ef421f6c43bc\",\"subtype\":\"Figure\",\"type\":\"Plot\"},\"ticker\":{\"id\":\"37d34abb-37d6-4d5b-8e9d-64e7f21475ea\",\"type\":\"BasicTicker\"}},\"id\":\"72887ac5-f71d-4d86-81a0-eb24521e915d\",\"type\":\"Grid\"},{\"attributes\":{\"source\":{\"id\":\"2605dee2-192b-41bc-a9fd-697a17481bdf\",\"type\":\"ColumnDataSource\"}},\"id\":\"dec59636-bde0-4ce0-8b96-2020031a692a\",\"type\":\"CDSView\"},{\"attributes\":{\"data_source\":{\"id\":\"e1296448-dd35-4808-a27c-0ce9c98a731f\",\"type\":\"ColumnDataSource\"},\"glyph\":{\"id\":\"6a719ebe-b8ed-4023-8cab-7413ef306479\",\"type\":\"Line\"},\"hover_glyph\":null,\"muted_glyph\":null,\"nonselection_glyph\":{\"id\":\"74782115-10ac-4afd-b8fc-1d301157b933\",\"type\":\"Line\"},\"selection_glyph\":null,\"view\":{\"id\":\"0db40f43-3d54-43e1-95a8-0703a5020c98\",\"type\":\"CDSView\"}},\"id\":\"0171d0e0-5dad-47e4-a11a-2d69becebf7f\",\"type\":\"GlyphRenderer\"},{\"attributes\":{\"data_source\":{\"id\":\"2605dee2-192b-41bc-a9fd-697a17481bdf\",\"type\":\"ColumnDataSource\"},\"glyph\":{\"id\":\"8af165e7-acda-4cab-aff3-4cd4a8334a73\",\"type\":\"Circle\"},\"hover_glyph\":null,\"muted_glyph\":null,\"nonselection_glyph\":{\"id\":\"f969cd6e-303f-4d92-b9c0-3e57e29d899a\",\"type\":\"Circle\"},\"selection_glyph\":null,\"view\":{\"id\":\"dec59636-bde0-4ce0-8b96-2020031a692a\",\"type\":\"CDSView\"}},\"id\":\"941ac116-79ae-4f2a-acae-d85bae7605f5\",\"type\":\"GlyphRenderer\"},{\"attributes\":{\"label\":{\"value\":\"CRD\"},\"renderers\":[{\"id\":\"fa2d98d4-2c7b-4166-9740-d373fcd7a63c\",\"type\":\"GlyphRenderer\"},{\"id\":\"70176e0e-dd99-451f-ad93-74b9618024e7\",\"type\":\"GlyphRenderer\"}]},\"id\":\"264093d2-db82-49cb-8f82-7ec62670d938\",\"type\":\"LegendItem\"},{\"attributes\":{},\"id\":\"aad575f7-f337-47e3-8a0a-ce6f92278601\",\"type\":\"UnionRenderers\"},{\"attributes\":{},\"id\":\"8a6fd35f-d9ee-4d7f-b4ff-69aef01a3536\",\"type\":\"BasicTickFormatter\"},{\"attributes\":{\"bottom_units\":\"screen\",\"fill_alpha\":{\"value\":0.5},\"fill_color\":{\"value\":\"lightgrey\"},\"left_units\":\"screen\",\"level\":\"overlay\",\"line_alpha\":{\"value\":1.0},\"line_color\":{\"value\":\"black\"},\"line_dash\":[4,4],\"line_width\":{\"value\":2},\"plot\":null,\"render_mode\":\"css\",\"right_units\":\"screen\",\"top_units\":\"screen\"},\"id\":\"5e67ddab-cb51-4a85-a090-2e5d9ac829d2\",\"type\":\"BoxAnnotation\"},{\"attributes\":{\"line_alpha\":0.8,\"line_color\":\"#984ea3\",\"line_width\":1.5,\"x\":{\"field\":\"x\"},\"y\":{\"field\":\"y\"}},\"id\":\"54f9c875-a179-4700-96ad-4de092bfed78\",\"type\":\"Line\"},{\"attributes\":{},\"id\":\"75ab8f85-eefb-4e04-a4b4-ffc352c75cd9\",\"type\":\"UnionRenderers\"},{\"attributes\":{\"children\":[{\"id\":\"b660f234-0856-4b22-851c-b55675ef17bf\",\"type\":\"Row\"}]},\"id\":\"3af3e1ab-caef-41e2-b94c-5fc4ef308f26\",\"type\":\"Column\"},{\"attributes\":{\"plot\":{\"id\":\"bb26f895-b885-4ec9-a855-443c663c97fc\",\"subtype\":\"Figure\",\"type\":\"Plot\"},\"ticker\":{\"id\":\"e0c2339b-ea52-40ee-9684-10ba29c93401\",\"type\":\"BasicTicker\"}},\"id\":\"e851d6fb-952e-440f-a69f-042df90c295f\",\"type\":\"Grid\"},{\"attributes\":{\"dimension\":1,\"plot\":{\"id\":\"bb26f895-b885-4ec9-a855-443c663c97fc\",\"subtype\":\"Figure\",\"type\":\"Plot\"},\"ticker\":{\"id\":\"309b489e-aebb-4e29-99a5-a849abd8a04b\",\"type\":\"LogTicker\"}},\"id\":\"735a5507-fae5-4949-b3ac-64364c6725c1\",\"type\":\"Grid\"},{\"attributes\":{\"num_minor_ticks\":10},\"id\":\"309b489e-aebb-4e29-99a5-a849abd8a04b\",\"type\":\"LogTicker\"},{\"attributes\":{},\"id\":\"ae82847e-e2f5-4595-baa2-6dea7e4d9e9d\",\"type\":\"Selection\"},{\"attributes\":{\"overlay\":{\"id\":\"5e67ddab-cb51-4a85-a090-2e5d9ac829d2\",\"type\":\"BoxAnnotation\"}},\"id\":\"245536bb-4699-44c9-b519-6649ad1e4e15\",\"type\":\"BoxZoomTool\"},{\"attributes\":{\"data_source\":{\"id\":\"1fdd6754-9cfc-43a0-ae3f-646e798672aa\",\"type\":\"ColumnDataSource\"},\"glyph\":{\"id\":\"d6f89efa-cf9b-4c96-80d2-befa38b02c85\",\"type\":\"Line\"},\"hover_glyph\":null,\"muted_glyph\":null,\"nonselection_glyph\":{\"id\":\"fc26538f-ccbc-43c2-bf76-51df62ca9d66\",\"type\":\"Line\"},\"selection_glyph\":null,\"view\":{\"id\":\"a0319369-b0f4-4d6e-b3f2-d07e20abab8b\",\"type\":\"CDSView\"}},\"id\":\"70176e0e-dd99-451f-ad93-74b9618024e7\",\"type\":\"GlyphRenderer\"},{\"attributes\":{},\"id\":\"214e2439-6f00-4954-a967-8166f3257a56\",\"type\":\"PanTool\"},{\"attributes\":{},\"id\":\"4d5abce7-13a0-4548-904b-fdd54a938dc0\",\"type\":\"WheelZoomTool\"},{\"attributes\":{\"line_color\":\"#4daf4a\",\"line_width\":1.5,\"x\":{\"field\":\"x\"},\"y\":{\"field\":\"y\"}},\"id\":\"12bfd2c0-f06e-4e31-98ef-5554d819b042\",\"type\":\"Line\"},{\"attributes\":{},\"id\":\"a5f1f066-1417-42c6-969b-8d0e57461464\",\"type\":\"Selection\"},{\"attributes\":{},\"id\":\"efcf9f1c-72a9-4ecb-9234-ae70213011e9\",\"type\":\"SaveTool\"},{\"attributes\":{},\"id\":\"65e9d27d-f8e0-4d7c-bc9c-c656bb89d6d5\",\"type\":\"ResetTool\"},{\"attributes\":{\"fill_alpha\":{\"value\":0.7},\"fill_color\":{\"value\":\"#984ea3\"},\"line_alpha\":{\"value\":0.7},\"line_color\":{\"value\":\"#984ea3\"},\"x\":{\"field\":\"x\"},\"y\":{\"field\":\"y\"}},\"id\":\"9807d9d6-485e-499d-9bcd-b98a8feade96\",\"type\":\"Circle\"},{\"attributes\":{},\"id\":\"189b3ef1-8101-4f35-a9c5-46b1cdd1e6b4\",\"type\":\"HelpTool\"},{\"attributes\":{},\"id\":\"f6d7fbf5-9f8e-435c-9d05-6bf832f34578\",\"type\":\"BasicTicker\"},{\"attributes\":{},\"id\":\"92775b70-cce8-42ef-9b29-da0c0d288a33\",\"type\":\"UnionRenderers\"},{\"attributes\":{},\"id\":\"08e9e515-1df1-4c7e-a3a4-fb204c8e71e3\",\"type\":\"LinearScale\"},{\"attributes\":{\"data_source\":{\"id\":\"b95eb3eb-5190-4e48-83b6-b64397ad543d\",\"type\":\"ColumnDataSource\"},\"glyph\":{\"id\":\"54f9c875-a179-4700-96ad-4de092bfed78\",\"type\":\"Line\"},\"hover_glyph\":null,\"muted_glyph\":null,\"nonselection_glyph\":{\"id\":\"e4c2a44c-0d58-4451-aac9-d36b44624325\",\"type\":\"Line\"},\"selection_glyph\":null,\"view\":{\"id\":\"22f0ff7a-c780-4838-992d-a3fcb1f64ef7\",\"type\":\"CDSView\"}},\"id\":\"db69afc1-cbc0-42a3-acff-f244f98b499d\",\"type\":\"GlyphRenderer\"},{\"attributes\":{\"toolbar\":{\"id\":\"89fbbfbd-eade-417b-8fbd-69ebfe5b7c8f\",\"type\":\"ProxyToolbar\"},\"toolbar_location\":\"above\"},\"id\":\"780d084e-9882-4397-8ddd-8aafa7155a66\",\"type\":\"ToolbarBox\"},{\"attributes\":{\"label\":{\"value\":\"CRD\"},\"renderers\":[{\"id\":\"941ac116-79ae-4f2a-acae-d85bae7605f5\",\"type\":\"GlyphRenderer\"},{\"id\":\"ff5c40b6-725f-45c6-8d70-f5287d3d8837\",\"type\":\"GlyphRenderer\"}]},\"id\":\"7d16faa6-b964-47ff-b22b-2d67ad796500\",\"type\":\"LegendItem\"},{\"attributes\":{\"plot\":null,\"text\":\"\"},\"id\":\"072cd363-0f05-410c-91fb-ae86156365d4\",\"type\":\"Title\"},{\"attributes\":{},\"id\":\"8a0b1667-198c-42a4-925c-7d3457ca5854\",\"type\":\"Selection\"},{\"attributes\":{},\"id\":\"88670839-5dc7-4630-a170-c387680b7651\",\"type\":\"LogScale\"},{\"attributes\":{\"ticker\":null},\"id\":\"94ccd63f-81d5-42b7-9ee2-e89796b43b25\",\"type\":\"LogTickFormatter\"},{\"attributes\":{\"line_alpha\":0.1,\"line_color\":\"#1f77b4\",\"line_width\":1.5,\"x\":{\"field\":\"x\"},\"y\":{\"field\":\"y\"}},\"id\":\"e4c2a44c-0d58-4451-aac9-d36b44624325\",\"type\":\"Line\"},{\"attributes\":{\"axis_label\":\"cooling rate [K/day]\",\"formatter\":{\"id\":\"8a6fd35f-d9ee-4d7f-b4ff-69aef01a3536\",\"type\":\"BasicTickFormatter\"},\"plot\":{\"id\":\"7ede7893-f0b0-45dc-b742-738ab2793661\",\"subtype\":\"Figure\",\"type\":\"Plot\"},\"ticker\":{\"id\":\"f6d7fbf5-9f8e-435c-9d05-6bf832f34578\",\"type\":\"BasicTicker\"}},\"id\":\"116632c7-b24c-4517-9107-37980caf5110\",\"type\":\"LinearAxis\"},{\"attributes\":{},\"id\":\"31f6f8e5-c5d6-4afe-b415-fd5dc35320b0\",\"type\":\"BasicTickFormatter\"},{\"attributes\":{\"plot\":{\"id\":\"7ede7893-f0b0-45dc-b742-738ab2793661\",\"subtype\":\"Figure\",\"type\":\"Plot\"},\"ticker\":{\"id\":\"f6d7fbf5-9f8e-435c-9d05-6bf832f34578\",\"type\":\"BasicTicker\"}},\"id\":\"d7dbd2d0-0a64-45d4-b672-260ee99c15b7\",\"type\":\"Grid\"},{\"attributes\":{\"callback\":null,\"end\":0.7574749288202549,\"start\":-1.0394767609434388},\"id\":\"b01cdd70-d2c3-4f42-9628-a24d2c85e6bf\",\"type\":\"Range1d\"},{\"attributes\":{\"source\":{\"id\":\"5f11c125-9155-4fe2-8733-562814a35e13\",\"type\":\"ColumnDataSource\"}},\"id\":\"ce18bdca-f5e0-4af9-82e2-6ab1b37cc85a\",\"type\":\"CDSView\"},{\"attributes\":{\"plot\":null,\"text\":\"\"},\"id\":\"bc4ed472-fcd5-452e-8e4d-00fb615e42ae\",\"type\":\"Title\"},{\"attributes\":{},\"id\":\"5410328c-181c-459f-a7e1-7d9b56ddc40d\",\"type\":\"LogScale\"},{\"attributes\":{\"data_source\":{\"id\":\"5f11c125-9155-4fe2-8733-562814a35e13\",\"type\":\"ColumnDataSource\"},\"glyph\":{\"id\":\"9807d9d6-485e-499d-9bcd-b98a8feade96\",\"type\":\"Circle\"},\"hover_glyph\":null,\"muted_glyph\":null,\"nonselection_glyph\":{\"id\":\"ddff265e-4d34-4d19-aaf0-25c908bcd948\",\"type\":\"Circle\"},\"selection_glyph\":null,\"view\":{\"id\":\"ce18bdca-f5e0-4af9-82e2-6ab1b37cc85a\",\"type\":\"CDSView\"}},\"id\":\"26c46a7f-02fe-451f-8e79-63de57368082\",\"type\":\"GlyphRenderer\"},{\"attributes\":{\"axis_label\":\"pressure [mb]\",\"formatter\":{\"id\":\"c2ed130f-ed3f-4297-8913-d985ed9b91b0\",\"type\":\"LogTickFormatter\"},\"plot\":{\"id\":\"bb26f895-b885-4ec9-a855-443c663c97fc\",\"subtype\":\"Figure\",\"type\":\"Plot\"},\"ticker\":{\"id\":\"309b489e-aebb-4e29-99a5-a849abd8a04b\",\"type\":\"LogTicker\"}},\"id\":\"0d331192-cc4a-4a7b-b9c5-4c5900109d49\",\"type\":\"LogAxis\"},{\"attributes\":{},\"id\":\"7e118206-f8b0-414e-9cbd-044cf03b8264\",\"type\":\"BasicTickFormatter\"},{\"attributes\":{\"label\":{\"value\":\"CLIRAD - CRD\"},\"renderers\":[{\"id\":\"26c46a7f-02fe-451f-8e79-63de57368082\",\"type\":\"GlyphRenderer\"},{\"id\":\"db69afc1-cbc0-42a3-acff-f244f98b499d\",\"type\":\"GlyphRenderer\"}]},\"id\":\"07cfaeec-f177-40e1-8511-55f020e37a36\",\"type\":\"LegendItem\"},{\"attributes\":{},\"id\":\"11cb4712-2a82-4f2e-b497-4e2bf52948a5\",\"type\":\"UnionRenderers\"},{\"attributes\":{},\"id\":\"392e1d12-c735-4453-806a-a5b5e968500d\",\"type\":\"UnionRenderers\"},{\"attributes\":{\"children\":[{\"id\":\"531af0c4-5456-4262-b659-ef421f6c43bc\",\"subtype\":\"Figure\",\"type\":\"Plot\"},{\"id\":\"7ede7893-f0b0-45dc-b742-738ab2793661\",\"subtype\":\"Figure\",\"type\":\"Plot\"},{\"id\":\"bb26f895-b885-4ec9-a855-443c663c97fc\",\"subtype\":\"Figure\",\"type\":\"Plot\"}]},\"id\":\"b660f234-0856-4b22-851c-b55675ef17bf\",\"type\":\"Row\"},{\"attributes\":{\"callback\":null,\"data\":{\"x\":{\"__ndarray__\":\"aCVc3TFxRkDdkBWR1QdAQEX6F/64Lz9AyULF7e2kPEBNMOsxrr04QEfrwmhNUzRAPsebFYiBMEA2Or2r7UEsQBKioxdGKSpAUQRWMGtZKUAIKs0feJkoQKPpS7L3gidA9wSX8/aPJkDDgJjRvmYlQK3d0aPLyCNApu8IOiCCIkCqjs9+wXkhQJ+m0cZDPyBApTp4ge3jHUAF3+B96EocQNeT5PWzzR1AHiQXnZ1uHEA9dPw6qZEWQCbDGY7zlBFA/9pbOHJJC0CrCOpl6jAFQJIcQqjOgQFAhFHgdBBN/j97vMo+vfn6P6kmSxVQZvc/rxG90D3X8z8idboxlrDtP0/C292OyOc/BFVaIqDn5z9/PpY7gpDlP3+kcgqUeOA/yI+u4Vrx2T9qIzUXX2XVP8YgingzVdE/MuJxoBSqzD8SYOcsZqTGPykvRdYNr8A/4X/pMRkdtT+uCgpOy4OXP1T6rYgfPbW/17W4V2tswL+NV2jTr9Cov5FJ3JAY+Z0/lBZcNS6psD/Xv2eWdNS2P6wReoAxobs/SpcTpO5ovz+N4ee9Mp7BP8XuAuNdXcM/EB49hO4VxT+r/5XFm8DGPy+eM5yjVsg/eB1gJ3XMyT9bkeCaN+bKPyCKFTzk6cs/mcdNlbd4zD8g3q8M7srMP5XqeJAC8sw/RP92bBMNzT/RX/OoO0HNP8dlV3d3v80/UUJqQxfOzj8CBzQZFVbQPzT2Xw+4StE/r3JsbqGT0T9zMwSSvDvQP6ETYKbWjMs/8TDJHqPQxj9LowsrClTCP1zm20O28Lc/\",\"dtype\":\"float64\",\"shape\":[75]},\"y\":{\"__ndarray__\":\"GhExyth1ND/Sv8nbtpRIP2vylNV0PVE/aTum7souWD/At0SJ8fVgPw3Iuahxymc/MSNhhJWvcD/bTfBN02d3P2zb5nxnaoA/CD5h5MAGhz8NmeH1TyaQP+zrCsc9p5Y/LbKd76fGnz/bLW5ISEmmPww9YvTcQq8/JV2OstnstT8Er5Y7M8G+P0c+r3jqkcU/5h99k6ZBzj88bCIzFzjVP4enV8oyxN0//yH99nXg5D8qOpLLf0jtP5kqGJXUifQ/c9cS8kHP/D+/DpwzojQEQIEmwoanVwxA4lgXt9HgE0BSSZ2AJuIbQAMJih9jjiNA5q4l5INuK0AwTKYKRj0zQNv5fmq8/DpAaCJseHrtQkB/+zpwzoxKQM3MzMzMeFJAZmZmZmZqWEAAAAAAAFxeQM3MzMzMJmJAmpmZmZkfZUBmZmZmZhhoQDMzMzMzEWtAAAAAAAAKbkBmZmZmZoFwQM3MzMzM/XFAMzMzMzN6c0CamZmZmfZ0QAAAAAAAc3ZAZmZmZmbvd0DNzMzMzGt5QDMzMzMz6HpAmpmZmZlkfEAAAAAAAOF9QGZmZmZmXX9AZmZmZuZsgECamZmZGSuBQM3MzMxM6YFAAAAAAICngkAzMzMzs2WDQGZmZmbmI4RAmpmZmRnihEDNzMzMTKCFQAAAAACAXoZAMzMzM7Mch0BmZmZm5tqHQJqZmZkZmYhAzczMzExXiUAAAAAAgBWKQDMzMzOz04pAZmZmZuaRi0CamZmZGVCMQM3MzMxMDo1AAAAAAIDMjUAzMzMzs4qOQGZmZmbmSI9A\",\"dtype\":\"float64\",\"shape\":[75]}},\"selected\":{\"id\":\"ae82847e-e2f5-4595-baa2-6dea7e4d9e9d\",\"type\":\"Selection\"},\"selection_policy\":{\"id\":\"75ab8f85-eefb-4e04-a4b4-ffc352c75cd9\",\"type\":\"UnionRenderers\"}},\"id\":\"e1296448-dd35-4808-a27c-0ce9c98a731f\",\"type\":\"ColumnDataSource\"},{\"attributes\":{},\"id\":\"e0c2339b-ea52-40ee-9684-10ba29c93401\",\"type\":\"BasicTicker\"},{\"attributes\":{\"source\":{\"id\":\"b95eb3eb-5190-4e48-83b6-b64397ad543d\",\"type\":\"ColumnDataSource\"}},\"id\":\"22f0ff7a-c780-4838-992d-a3fcb1f64ef7\",\"type\":\"CDSView\"},{\"attributes\":{\"callback\":null,\"data\":{\"x\":{\"__ndarray__\":\"bBTXTiEsNsDASAVE0bP7PyBdbdhw4ARAwFHtP0RrBkDQDkYI3xX+PwCfqfYt0ss/8IucL+3E9L9QmGDLCwn+v1DzYxgIb/m/OKdXcIlZ8L/Q4L9/dnjlvyBR0MZEqeS/AKwL9g8i6L8w7qxXLw3lv4CrOppEksm/oEneIwim2D8AHOMr6qznPxBolabZQ+Y/wPS3oMYq1D+grZPj+gfEvyAMxe+Smt2/kN0dFMlO2b/AOFmEOs2+vwDAYsONiFu/4G1Y7JHstb/QgV8CK0jCvwAnghx7IZI/eEh35r+1wz+o4sbG35nBP5BhBi1CAbI/wOm+ZSAHrT8AUNCM7M42P8ApVzV1UZ+/wC04ICtAlT9whB3PloamPwB0+AlfOmY/IIzZ4Lw4hr/gPr/zAsuQP0zlBRkay6M/8Iqg1jYJpj88qopXX4ChP8iHcVjbv5Q/AMpOkz5EdD9M5WHDUwWBv6iXrVOxhJO//GWpbyUemb9GvzBP+nSZvy3P8Y4ZcpW/NJyOQwbmkL+ohR5XA1CLvxjrlhT1x4e/YKJmXfUOiL9gbIb8emeFv4Au2n50rIO/4LQDO+8ggb8gYlif0Nx7v4Dkc9NMK3S/AArBi/rYZb8AhLF6wwlWv4Dht83X1lc/AIXo/f9eZz9ggaONwRRxPwB9lKw3v3U/IN/BW16XeT9AOcQB53l8P6B/gNHYVn4/QC0ZaDtFfz8Awhe1P0qAP4BoQ99xMHs/QOEdcu4efj/A+3dhR4J8PwCefU6qHHc/AMB2Hna+ez8gSr0zUF92P8CyafKIiXg/\",\"dtype\":\"float64\",\"shape\":[75]},\"y\":{\"__ndarray__\":\"GhExyth1ND/Sv8nbtpRIP2vylNV0PVE/aTum7souWD/At0SJ8fVgPw3Iuahxymc/MSNhhJWvcD/bTfBN02d3P2zb5nxnaoA/CD5h5MAGhz8NmeH1TyaQP+zrCsc9p5Y/LbKd76fGnz/bLW5ISEmmPww9YvTcQq8/JV2OstnstT8Er5Y7M8G+P0c+r3jqkcU/5h99k6ZBzj88bCIzFzjVP4enV8oyxN0//yH99nXg5D8qOpLLf0jtP5kqGJXUifQ/c9cS8kHP/D+/DpwzojQEQIEmwoanVwxA4lgXt9HgE0BSSZ2AJuIbQAMJih9jjiNA5q4l5INuK0AwTKYKRj0zQNv5fmq8/DpAaCJseHrtQkB/+zpwzoxKQM3MzMzMeFJAZmZmZmZqWEAAAAAAAFxeQM3MzMzMJmJAmpmZmZkfZUBmZmZmZhhoQDMzMzMzEWtAAAAAAAAKbkBmZmZmZoFwQM3MzMzM/XFAMzMzMzN6c0CamZmZmfZ0QAAAAAAAc3ZAZmZmZmbvd0DNzMzMzGt5QDMzMzMz6HpAmpmZmZlkfEAAAAAAAOF9QGZmZmZmXX9AZmZmZuZsgECamZmZGSuBQM3MzMxM6YFAAAAAAICngkAzMzMzs2WDQGZmZmbmI4RAmpmZmRnihEDNzMzMTKCFQAAAAACAXoZAMzMzM7Mch0BmZmZm5tqHQJqZmZkZmYhAzczMzExXiUAAAAAAgBWKQDMzMzOz04pAZmZmZuaRi0CamZmZGVCMQM3MzMxMDo1AAAAAAIDMjUAzMzMzs4qOQGZmZmbmSI9A\",\"dtype\":\"float64\",\"shape\":[75]}},\"selected\":{\"id\":\"a432ba64-6806-42fb-aee2-229b25da6aad\",\"type\":\"Selection\"},\"selection_policy\":{\"id\":\"392439e4-97a5-447c-8d21-5df94ef71502\",\"type\":\"UnionRenderers\"}},\"id\":\"b95eb3eb-5190-4e48-83b6-b64397ad543d\",\"type\":\"ColumnDataSource\"},{\"attributes\":{\"callback\":null,\"end\":13.832043457895344,\"start\":0.007171574517220641},\"id\":\"04b5fefe-c6ed-4bd7-b834-715fcf1e263f\",\"type\":\"Range1d\"},{\"attributes\":{\"plot\":null,\"text\":\"\"},\"id\":\"6203b45c-95d7-41e0-8c35-1122f910d6aa\",\"type\":\"Title\"},{\"attributes\":{\"label\":{\"value\":\"CLIRAD\"},\"renderers\":[{\"id\":\"8f6c2ecf-9076-4058-b5d9-e8ba389da4d5\",\"type\":\"GlyphRenderer\"}]},\"id\":\"e8a800bf-bf89-49f1-b378-b37c7b9b43b7\",\"type\":\"LegendItem\"},{\"attributes\":{\"ticker\":null},\"id\":\"c2ed130f-ed3f-4297-8913-d985ed9b91b0\",\"type\":\"LogTickFormatter\"},{\"attributes\":{},\"id\":\"862f7646-ffc8-4ced-8180-741150dacd7b\",\"type\":\"Selection\"},{\"attributes\":{\"data_source\":{\"id\":\"545e7234-ec4f-4bf7-88d0-a62b1e23430e\",\"type\":\"ColumnDataSource\"},\"glyph\":{\"id\":\"12bfd2c0-f06e-4e31-98ef-5554d819b042\",\"type\":\"Line\"},\"hover_glyph\":null,\"muted_glyph\":null,\"nonselection_glyph\":{\"id\":\"ecb4d226-658a-4b73-805f-2cd45bee2c18\",\"type\":\"Line\"},\"selection_glyph\":null,\"view\":{\"id\":\"80c4aed2-395f-41c9-b504-697beeacc30b\",\"type\":\"CDSView\"}},\"id\":\"ff5c40b6-725f-45c6-8d70-f5287d3d8837\",\"type\":\"GlyphRenderer\"},{\"attributes\":{},\"id\":\"2352c314-f7d7-4b8d-b224-407d208e6aab\",\"type\":\"Selection\"},{\"attributes\":{},\"id\":\"49e6ea6e-c65f-49f8-8a79-548fd88d1c8e\",\"type\":\"BasicTickFormatter\"},{\"attributes\":{},\"id\":\"392439e4-97a5-447c-8d21-5df94ef71502\",\"type\":\"UnionRenderers\"},{\"attributes\":{\"source\":{\"id\":\"aa54cb73-f884-4935-9c38-6512f7a35dba\",\"type\":\"ColumnDataSource\"}},\"id\":\"cca47d7a-5ffd-4953-9910-7ebf6f778261\",\"type\":\"CDSView\"},{\"attributes\":{},\"id\":\"a432ba64-6806-42fb-aee2-229b25da6aad\",\"type\":\"Selection\"},{\"attributes\":{},\"id\":\"a48e89ad-4c2c-435a-a355-5a86d9d764a4\",\"type\":\"PanTool\"},{\"attributes\":{\"children\":[{\"id\":\"780d084e-9882-4397-8ddd-8aafa7155a66\",\"type\":\"ToolbarBox\"},{\"id\":\"3af3e1ab-caef-41e2-b94c-5fc4ef308f26\",\"type\":\"Column\"}]},\"id\":\"7cce81ed-d985-4623-8602-2cb1aa5cdfb1\",\"type\":\"Column\"},{\"attributes\":{\"tools\":[{\"id\":\"9902dc69-89c8-4742-93b5-5f1d668b43a5\",\"type\":\"PanTool\"},{\"id\":\"59e29d3c-a3e7-40eb-a9a5-8e25333da5b7\",\"type\":\"WheelZoomTool\"},{\"id\":\"a64d268c-3a3d-4809-aa4e-13a3ae9e7948\",\"type\":\"BoxZoomTool\"},{\"id\":\"e570e021-c388-4605-b309-3946a70a4fec\",\"type\":\"SaveTool\"},{\"id\":\"0e064a0e-0919-4442-a12f-c8e1b1996a7e\",\"type\":\"ResetTool\"},{\"id\":\"6da25c38-23f6-4dc8-9b7e-a53fd031d652\",\"type\":\"HelpTool\"},{\"id\":\"a48e89ad-4c2c-435a-a355-5a86d9d764a4\",\"type\":\"PanTool\"},{\"id\":\"f3280db0-1762-43fd-9d80-04194c2f8eed\",\"type\":\"WheelZoomTool\"},{\"id\":\"9f6a6026-1659-40ce-8361-cd4a84ecc998\",\"type\":\"BoxZoomTool\"},{\"id\":\"3e40026b-2988-4b6f-b3c9-afa097048ce6\",\"type\":\"SaveTool\"},{\"id\":\"1be42f31-97e8-42ef-9c16-4be485f3fecb\",\"type\":\"ResetTool\"},{\"id\":\"7678c27d-6a43-4806-bea2-528bda2e083d\",\"type\":\"HelpTool\"},{\"id\":\"214e2439-6f00-4954-a967-8166f3257a56\",\"type\":\"PanTool\"},{\"id\":\"4d5abce7-13a0-4548-904b-fdd54a938dc0\",\"type\":\"WheelZoomTool\"},{\"id\":\"245536bb-4699-44c9-b519-6649ad1e4e15\",\"type\":\"BoxZoomTool\"},{\"id\":\"efcf9f1c-72a9-4ecb-9234-ae70213011e9\",\"type\":\"SaveTool\"},{\"id\":\"65e9d27d-f8e0-4d7c-bc9c-c656bb89d6d5\",\"type\":\"ResetTool\"},{\"id\":\"189b3ef1-8101-4f35-a9c5-46b1cdd1e6b4\",\"type\":\"HelpTool\"}]},\"id\":\"89fbbfbd-eade-417b-8fbd-69ebfe5b7c8f\",\"type\":\"ProxyToolbar\"},{\"attributes\":{\"source\":{\"id\":\"1fdd6754-9cfc-43a0-ae3f-646e798672aa\",\"type\":\"ColumnDataSource\"}},\"id\":\"a0319369-b0f4-4d6e-b3f2-d07e20abab8b\",\"type\":\"CDSView\"},{\"attributes\":{\"above\":[{\"id\":\"08e0b7d6-8055-4151-ad70-a7d9b1657b25\",\"type\":\"Legend\"}],\"below\":[{\"id\":\"0252a355-e2f2-4530-ba66-e23aa22dc43f\",\"type\":\"LinearAxis\"}],\"left\":[{\"id\":\"0cc725ef-c32a-400f-a81f-bad0c1507fef\",\"type\":\"LinearAxis\"}],\"plot_width\":300,\"renderers\":[{\"id\":\"0252a355-e2f2-4530-ba66-e23aa22dc43f\",\"type\":\"LinearAxis\"},{\"id\":\"4fec29cf-cdb5-4c0e-828c-305d5206ed2d\",\"type\":\"Grid\"},{\"id\":\"0cc725ef-c32a-400f-a81f-bad0c1507fef\",\"type\":\"LinearAxis\"},{\"id\":\"72887ac5-f71d-4d86-81a0-eb24521e915d\",\"type\":\"Grid\"},{\"id\":\"8cc399b8-ee43-4cf7-b14f-79a6b99a845d\",\"type\":\"BoxAnnotation\"},{\"id\":\"8f6c2ecf-9076-4058-b5d9-e8ba389da4d5\",\"type\":\"GlyphRenderer\"},{\"id\":\"941ac116-79ae-4f2a-acae-d85bae7605f5\",\"type\":\"GlyphRenderer\"},{\"id\":\"ff5c40b6-725f-45c6-8d70-f5287d3d8837\",\"type\":\"GlyphRenderer\"},{\"id\":\"08e0b7d6-8055-4151-ad70-a7d9b1657b25\",\"type\":\"Legend\"}],\"title\":{\"id\":\"bc4ed472-fcd5-452e-8e4d-00fb615e42ae\",\"type\":\"Title\"},\"toolbar\":{\"id\":\"380b0fc0-9aa8-49e8-8320-b3004a49216a\",\"type\":\"Toolbar\"},\"toolbar_location\":null,\"x_range\":{\"id\":\"3c66cbda-0a76-4e55-9250-50127b5c9067\",\"type\":\"Range1d\"},\"x_scale\":{\"id\":\"6cb59a65-88a0-48a9-84d0-b15ff40745c7\",\"type\":\"LinearScale\"},\"y_range\":{\"id\":\"8bc4ad25-ec46-43f7-90eb-27dbeebbb74f\",\"type\":\"Range1d\"},\"y_scale\":{\"id\":\"86704bbb-f241-49cc-871d-eb48762e9e41\",\"type\":\"LinearScale\"}},\"id\":\"531af0c4-5456-4262-b659-ef421f6c43bc\",\"subtype\":\"Figure\",\"type\":\"Plot\"},{\"attributes\":{\"dimension\":1,\"plot\":{\"id\":\"7ede7893-f0b0-45dc-b742-738ab2793661\",\"subtype\":\"Figure\",\"type\":\"Plot\"},\"ticker\":{\"id\":\"69829b4b-562b-46bf-92ed-cd88529e9dd2\",\"type\":\"LogTicker\"}},\"id\":\"f1110540-b2c1-4937-8d36-50f7fe79bdb3\",\"type\":\"Grid\"},{\"attributes\":{\"callback\":null,\"end\":0.01,\"start\":1020},\"id\":\"7655f559-ef9b-44d7-a587-12141bbe87e9\",\"type\":\"Range1d\"},{\"attributes\":{},\"id\":\"4e947573-69c5-4394-8ceb-6ffed08e1afc\",\"type\":\"LinearScale\"},{\"attributes\":{\"active_drag\":\"auto\",\"active_inspect\":\"auto\",\"active_scroll\":\"auto\",\"active_tap\":\"auto\",\"tools\":[{\"id\":\"a48e89ad-4c2c-435a-a355-5a86d9d764a4\",\"type\":\"PanTool\"},{\"id\":\"f3280db0-1762-43fd-9d80-04194c2f8eed\",\"type\":\"WheelZoomTool\"},{\"id\":\"9f6a6026-1659-40ce-8361-cd4a84ecc998\",\"type\":\"BoxZoomTool\"},{\"id\":\"3e40026b-2988-4b6f-b3c9-afa097048ce6\",\"type\":\"SaveTool\"},{\"id\":\"1be42f31-97e8-42ef-9c16-4be485f3fecb\",\"type\":\"ResetTool\"},{\"id\":\"7678c27d-6a43-4806-bea2-528bda2e083d\",\"type\":\"HelpTool\"}]},\"id\":\"7c575655-94e6-4991-ad56-ccbe970885f0\",\"type\":\"Toolbar\"},{\"attributes\":{\"items\":[{\"id\":\"45e13dce-35a8-4a85-9387-356f8a4ade9d\",\"type\":\"LegendItem\"},{\"id\":\"264093d2-db82-49cb-8f82-7ec62670d938\",\"type\":\"LegendItem\"}],\"label_text_font_size\":{\"value\":\"8pt\"},\"location\":\"top_center\",\"orientation\":\"horizontal\",\"plot\":{\"id\":\"7ede7893-f0b0-45dc-b742-738ab2793661\",\"subtype\":\"Figure\",\"type\":\"Plot\"}},\"id\":\"f1a1e9ac-32dd-467b-a96c-0e920bb96577\",\"type\":\"Legend\"},{\"attributes\":{\"axis_label\":\"cooling rate [K/day]\",\"formatter\":{\"id\":\"49e6ea6e-c65f-49f8-8a79-548fd88d1c8e\",\"type\":\"BasicTickFormatter\"},\"plot\":{\"id\":\"bb26f895-b885-4ec9-a855-443c663c97fc\",\"subtype\":\"Figure\",\"type\":\"Plot\"},\"ticker\":{\"id\":\"e0c2339b-ea52-40ee-9684-10ba29c93401\",\"type\":\"BasicTicker\"}},\"id\":\"7d480add-0157-4ced-90ab-0dd64e8eb2e5\",\"type\":\"LinearAxis\"},{\"attributes\":{\"source\":{\"id\":\"545e7234-ec4f-4bf7-88d0-a62b1e23430e\",\"type\":\"ColumnDataSource\"}},\"id\":\"80c4aed2-395f-41c9-b504-697beeacc30b\",\"type\":\"CDSView\"},{\"attributes\":{\"line_color\":\"#4daf4a\",\"line_width\":1.5,\"x\":{\"field\":\"x\"},\"y\":{\"field\":\"y\"}},\"id\":\"d6f89efa-cf9b-4c96-80d2-befa38b02c85\",\"type\":\"Line\"},{\"attributes\":{\"callback\":null,\"data\":{\"x\":{\"__ndarray__\":\"z9djQqHDUEAuzeoNblQ+QKFOCuOqkzxAkZjHZYXXOUBgz2ZBUNw2QAmY1QypGzRA/Y+V6NbNMUCgppSShwEwQHwgsBonVy1AOPlgXpxkK0AVKMmH//ApQLXuuP6LzShAt7/38hcSKECmTxPHkbcmQFvIOrYULyRAWf3p+O+8IUDUuSK45f0fQDyg0FgMth1AWbtsF0GhHEByfP1UKOscQJnk4CRdpx9A9wFZLooDHkAg2Q0l3gwXQFL59RaslhFAbp6+x9b4C0DIABAWbVUGQEQYCbKLXQFAdWgReFjW+z8m4PFFgcb4P5DAevI7RvY/YRqPzQTv8j8Y2yhUvK3tP517hocaw+g/lpNYyZ495z84ZqTOGCjkPwusaKtZYuA/KVy1yCCj2j98L/nnrljUPznI0mqgt80/dr/J6sYnxz+DtQRXTkTCP2D8bdYkLrw/QZO0SNXYsz+qft2XOgOgP2qUwjPzW7C/LxKHU02Rur/U759XZSyYv18M5w+Ztak/ob0/xq/itD+MkEsBdT66Pw/vDCMwmr4/yzXgp2Y1wT9TSLBtqvTCP62R8ColmMQ/Xlntd/0nxj+8wpBKgp/HP1M9zwL+98g/oCGPEdkjyj9j9NUhSxLLP10aeow2uss/hSVWlTsbzD8VwkIASELMP61GFNMIRMw/S/CYeVhAzD8HPuVwbF3MP8phy7DAzMw/53gpaO3TzT/kkRY3hqfPP5Lo4kf23dA/KvujtCUb0T8Ip/zoZpPPP7Em7FPx08o/8XrVba/yxT/6uG2pD6HBPzBLtbQdaLY/\",\"dtype\":\"float64\",\"shape\":[75]},\"y\":{\"__ndarray__\":\"GhExyth1ND/Sv8nbtpRIP2vylNV0PVE/aTum7souWD/At0SJ8fVgPw3Iuahxymc/MSNhhJWvcD/bTfBN02d3P2zb5nxnaoA/CD5h5MAGhz8NmeH1TyaQP+zrCsc9p5Y/LbKd76fGnz/bLW5ISEmmPww9YvTcQq8/JV2OstnstT8Er5Y7M8G+P0c+r3jqkcU/5h99k6ZBzj88bCIzFzjVP4enV8oyxN0//yH99nXg5D8qOpLLf0jtP5kqGJXUifQ/c9cS8kHP/D+/DpwzojQEQIEmwoanVwxA4lgXt9HgE0BSSZ2AJuIbQAMJih9jjiNA5q4l5INuK0AwTKYKRj0zQNv5fmq8/DpAaCJseHrtQkB/+zpwzoxKQM3MzMzMeFJAZmZmZmZqWEAAAAAAAFxeQM3MzMzMJmJAmpmZmZkfZUBmZmZmZhhoQDMzMzMzEWtAAAAAAAAKbkBmZmZmZoFwQM3MzMzM/XFAMzMzMzN6c0CamZmZmfZ0QAAAAAAAc3ZAZmZmZmbvd0DNzMzMzGt5QDMzMzMz6HpAmpmZmZlkfEAAAAAAAOF9QGZmZmZmXX9AZmZmZuZsgECamZmZGSuBQM3MzMxM6YFAAAAAAICngkAzMzMzs2WDQGZmZmbmI4RAmpmZmRnihEDNzMzMTKCFQAAAAACAXoZAMzMzM7Mch0BmZmZm5tqHQJqZmZkZmYhAzczMzExXiUAAAAAAgBWKQDMzMzOz04pAZmZmZuaRi0CamZmZGVCMQM3MzMxMDo1AAAAAAIDMjUAzMzMzs4qOQGZmZmbmSI9A\",\"dtype\":\"float64\",\"shape\":[75]}},\"selected\":{\"id\":\"8a0b1667-198c-42a4-925c-7d3457ca5854\",\"type\":\"Selection\"},\"selection_policy\":{\"id\":\"392e1d12-c735-4453-806a-a5b5e968500d\",\"type\":\"UnionRenderers\"}},\"id\":\"1fdd6754-9cfc-43a0-ae3f-646e798672aa\",\"type\":\"ColumnDataSource\"},{\"attributes\":{\"line_alpha\":0.1,\"line_color\":\"#1f77b4\",\"line_width\":1.5,\"x\":{\"field\":\"x\"},\"y\":{\"field\":\"y\"}},\"id\":\"fc26538f-ccbc-43c2-bf76-51df62ca9d66\",\"type\":\"Line\"},{\"attributes\":{\"line_alpha\":0.1,\"line_color\":\"#1f77b4\",\"line_width\":1.5,\"x\":{\"field\":\"x\"},\"y\":{\"field\":\"y\"}},\"id\":\"ecb4d226-658a-4b73-805f-2cd45bee2c18\",\"type\":\"Line\"},{\"attributes\":{\"above\":[{\"id\":\"f1a1e9ac-32dd-467b-a96c-0e920bb96577\",\"type\":\"Legend\"}],\"below\":[{\"id\":\"116632c7-b24c-4517-9107-37980caf5110\",\"type\":\"LinearAxis\"}],\"left\":[{\"id\":\"91a64ae7-054d-419b-8f0c-b3d150e09f8e\",\"type\":\"LogAxis\"}],\"plot_width\":300,\"renderers\":[{\"id\":\"116632c7-b24c-4517-9107-37980caf5110\",\"type\":\"LinearAxis\"},{\"id\":\"d7dbd2d0-0a64-45d4-b672-260ee99c15b7\",\"type\":\"Grid\"},{\"id\":\"91a64ae7-054d-419b-8f0c-b3d150e09f8e\",\"type\":\"LogAxis\"},{\"id\":\"f1110540-b2c1-4937-8d36-50f7fe79bdb3\",\"type\":\"Grid\"},{\"id\":\"5070c4ba-f739-4dad-8288-88df9c2d0708\",\"type\":\"BoxAnnotation\"},{\"id\":\"0171d0e0-5dad-47e4-a11a-2d69becebf7f\",\"type\":\"GlyphRenderer\"},{\"id\":\"fa2d98d4-2c7b-4166-9740-d373fcd7a63c\",\"type\":\"GlyphRenderer\"},{\"id\":\"70176e0e-dd99-451f-ad93-74b9618024e7\",\"type\":\"GlyphRenderer\"},{\"id\":\"f1a1e9ac-32dd-467b-a96c-0e920bb96577\",\"type\":\"Legend\"}],\"title\":{\"id\":\"6203b45c-95d7-41e0-8c35-1122f910d6aa\",\"type\":\"Title\"},\"toolbar\":{\"id\":\"7c575655-94e6-4991-ad56-ccbe970885f0\",\"type\":\"Toolbar\"},\"toolbar_location\":null,\"x_range\":{\"id\":\"04b5fefe-c6ed-4bd7-b834-715fcf1e263f\",\"type\":\"Range1d\"},\"x_scale\":{\"id\":\"08e9e515-1df1-4c7e-a3a4-fb204c8e71e3\",\"type\":\"LinearScale\"},\"y_range\":{\"id\":\"7655f559-ef9b-44d7-a587-12141bbe87e9\",\"type\":\"Range1d\"},\"y_scale\":{\"id\":\"88670839-5dc7-4630-a170-c387680b7651\",\"type\":\"LogScale\"}},\"id\":\"7ede7893-f0b0-45dc-b742-738ab2793661\",\"subtype\":\"Figure\",\"type\":\"Plot\"},{\"attributes\":{\"callback\":null,\"data\":{\"x\":{\"__ndarray__\":\"z9djQqHDUEAuzeoNblQ+QKFOCuOqkzxAkZjHZYXXOUBgz2ZBUNw2QAmY1QypGzRA/Y+V6NbNMUCgppSShwEwQHwgsBonVy1AOPlgXpxkK0AVKMmH//ApQLXuuP6LzShAt7/38hcSKECmTxPHkbcmQFvIOrYULyRAWf3p+O+8IUDUuSK45f0fQDyg0FgMth1AWbtsF0GhHEByfP1UKOscQJnk4CRdpx9A9wFZLooDHkAg2Q0l3gwXQFL59RaslhFAbp6+x9b4C0DIABAWbVUGQEQYCbKLXQFAdWgReFjW+z8m4PFFgcb4P5DAevI7RvY/YRqPzQTv8j8Y2yhUvK3tP517hocaw+g/lpNYyZ495z84ZqTOGCjkPwusaKtZYuA/KVy1yCCj2j98L/nnrljUPznI0mqgt80/dr/J6sYnxz+DtQRXTkTCP2D8bdYkLrw/QZO0SNXYsz+qft2XOgOgP2qUwjPzW7C/LxKHU02Rur/U759XZSyYv18M5w+Ztak/ob0/xq/itD+MkEsBdT66Pw/vDCMwmr4/yzXgp2Y1wT9TSLBtqvTCP62R8ColmMQ/Xlntd/0nxj+8wpBKgp/HP1M9zwL+98g/oCGPEdkjyj9j9NUhSxLLP10aeow2uss/hSVWlTsbzD8VwkIASELMP61GFNMIRMw/S/CYeVhAzD8HPuVwbF3MP8phy7DAzMw/53gpaO3TzT/kkRY3hqfPP5Lo4kf23dA/KvujtCUb0T8Ip/zoZpPPP7Em7FPx08o/8XrVba/yxT/6uG2pD6HBPzBLtbQdaLY/\",\"dtype\":\"float64\",\"shape\":[75]},\"y\":{\"__ndarray__\":\"GhExyth1ND/Sv8nbtpRIP2vylNV0PVE/aTum7souWD/At0SJ8fVgPw3Iuahxymc/MSNhhJWvcD/bTfBN02d3P2zb5nxnaoA/CD5h5MAGhz8NmeH1TyaQP+zrCsc9p5Y/LbKd76fGnz/bLW5ISEmmPww9YvTcQq8/JV2OstnstT8Er5Y7M8G+P0c+r3jqkcU/5h99k6ZBzj88bCIzFzjVP4enV8oyxN0//yH99nXg5D8qOpLLf0jtP5kqGJXUifQ/c9cS8kHP/D+/DpwzojQEQIEmwoanVwxA4lgXt9HgE0BSSZ2AJuIbQAMJih9jjiNA5q4l5INuK0AwTKYKRj0zQNv5fmq8/DpAaCJseHrtQkB/+zpwzoxKQM3MzMzMeFJAZmZmZmZqWEAAAAAAAFxeQM3MzMzMJmJAmpmZmZkfZUBmZmZmZhhoQDMzMzMzEWtAAAAAAAAKbkBmZmZmZoFwQM3MzMzM/XFAMzMzMzN6c0CamZmZmfZ0QAAAAAAAc3ZAZmZmZmbvd0DNzMzMzGt5QDMzMzMz6HpAmpmZmZlkfEAAAAAAAOF9QGZmZmZmXX9AZmZmZuZsgECamZmZGSuBQM3MzMxM6YFAAAAAAICngkAzMzMzs2WDQGZmZmbmI4RAmpmZmRnihEDNzMzMTKCFQAAAAACAXoZAMzMzM7Mch0BmZmZm5tqHQJqZmZkZmYhAzczMzExXiUAAAAAAgBWKQDMzMzOz04pAZmZmZuaRi0CamZmZGVCMQM3MzMxMDo1AAAAAAIDMjUAzMzMzs4qOQGZmZmbmSI9A\",\"dtype\":\"float64\",\"shape\":[75]}},\"selected\":{\"id\":\"f0881457-e065-4f2c-95af-64df4046b751\",\"type\":\"Selection\"},\"selection_policy\":{\"id\":\"3e57d2f7-fe60-4fbd-b45f-18a2996e8d57\",\"type\":\"UnionRenderers\"}},\"id\":\"545e7234-ec4f-4bf7-88d0-a62b1e23430e\",\"type\":\"ColumnDataSource\"}],\"root_ids\":[\"7cce81ed-d985-4623-8602-2cb1aa5cdfb1\"]},\"title\":\"Bokeh Application\",\"version\":\"0.12.16\"}};\n",
       "  var render_items = [{\"docid\":\"59cc4ba8-8a96-4bf9-9284-aacc233a4099\",\"elementid\":\"25a143f9-4bdf-4b02-b551-a9bb4f85add8\",\"modelid\":\"7cce81ed-d985-4623-8602-2cb1aa5cdfb1\"}];\n",
       "  root.Bokeh.embed.embed_items_notebook(docs_json, render_items);\n",
       "\n",
       "  }\n",
       "  if (root.Bokeh !== undefined) {\n",
       "    embed_document(root);\n",
       "  } else {\n",
       "    var attempts = 0;\n",
       "    var timer = setInterval(function(root) {\n",
       "      if (root.Bokeh !== undefined) {\n",
       "        embed_document(root);\n",
       "        clearInterval(timer);\n",
       "      }\n",
       "      attempts++;\n",
       "      if (attempts > 100) {\n",
       "        console.log(\"Bokeh: ERROR: Unable to run BokehJS code because BokehJS library is missing\")\n",
       "        clearInterval(timer);\n",
       "      }\n",
       "    }, 10, root)\n",
       "  }\n",
       "})(window);"
      ],
      "application/vnd.bokehjs_exec.v0+json": ""
     },
     "metadata": {
      "application/vnd.bokehjs_exec.v0+json": {
       "id": "7cce81ed-d985-4623-8602-2cb1aa5cdfb1"
      }
     },
     "output_type": "display_data"
    },
    {
     "data": {
      "text/markdown": [
       "*FIGURE.* Cooling rates & difference."
      ],
      "text/plain": [
       "<IPython.core.display.Markdown object>"
      ]
     },
     "metadata": {},
     "output_type": "display_data"
    },
    {
     "data": {
      "text/html": [
       "<a id=\"Fluxes._saw.\"></a>"
      ],
      "text/plain": [
       "<IPython.core.display.HTML object>"
      ]
     },
     "metadata": {},
     "output_type": "display_data"
    },
    {
     "data": {
      "text/markdown": [
       "# Fluxes. saw."
      ],
      "text/plain": [
       "<IPython.core.display.Markdown object>"
      ]
     },
     "metadata": {},
     "output_type": "display_data"
    },
    {
     "data": {
      "text/html": [
       "\n",
       "<div class=\"bk-root\">\n",
       "    <div class=\"bk-plotdiv\" id=\"eaf08a3a-ab66-4d15-9bec-705430119c38\"></div>\n",
       "</div>"
      ]
     },
     "metadata": {},
     "output_type": "display_data"
    },
    {
     "data": {
      "application/javascript": [
       "(function(root) {\n",
       "  function embed_document(root) {\n",
       "    \n",
       "  var docs_json = {\"6c8d1427-783b-47c8-b50e-e751bfe43831\":{\"roots\":{\"references\":[{\"attributes\":{\"fill_alpha\":{\"value\":0.1},\"fill_color\":{\"value\":\"#1f77b4\"},\"line_alpha\":{\"value\":0.1},\"line_color\":{\"value\":\"#1f77b4\"},\"top\":{\"field\":\"flux\"},\"width\":{\"value\":0.9},\"x\":{\"field\":\"band\"}},\"id\":\"55de6647-c09e-4461-b328-d0c865f4ce92\",\"type\":\"VBar\"},{\"attributes\":{\"plot\":{\"id\":\"daad1c39-cc47-4ba6-8ba1-c784a95740b7\",\"subtype\":\"Figure\",\"type\":\"Plot\"},\"ticker\":{\"id\":\"37f9c82b-bbab-44fd-938e-4c2b930a01f3\",\"type\":\"CategoricalTicker\"}},\"id\":\"d042203f-ed8d-4bee-b46c-38071ccd6c96\",\"type\":\"Grid\"},{\"attributes\":{\"callback\":null,\"factors\":[\"3\",\"4\",\"5\",\"6\",\"7\",\"11\"]},\"id\":\"7fab6c54-b233-4cad-821e-297c3687fe60\",\"type\":\"FactorRange\"},{\"attributes\":{\"plot\":{\"id\":\"4e8ead73-3ff2-4533-907c-e622aa79a9b0\",\"subtype\":\"Figure\",\"type\":\"Plot\"},\"ticker\":{\"id\":\"25d2eb76-6b58-442a-83be-031222f61d27\",\"type\":\"CategoricalTicker\"}},\"id\":\"56204d81-99d8-4c06-89f3-404f933e9c56\",\"type\":\"Grid\"},{\"attributes\":{\"dimension\":1,\"plot\":{\"id\":\"daad1c39-cc47-4ba6-8ba1-c784a95740b7\",\"subtype\":\"Figure\",\"type\":\"Plot\"},\"ticker\":{\"id\":\"1212d3d6-a8bb-411d-8cd7-687b95c26544\",\"type\":\"BasicTicker\"}},\"id\":\"f51b9f88-1669-4b31-8b5c-1445332687d8\",\"type\":\"Grid\"},{\"attributes\":{\"axis_label\":\"spectral band\",\"formatter\":{\"id\":\"6f91971e-a3bc-4d47-ab93-37dce35de017\",\"type\":\"CategoricalTickFormatter\"},\"plot\":{\"id\":\"daad1c39-cc47-4ba6-8ba1-c784a95740b7\",\"subtype\":\"Figure\",\"type\":\"Plot\"},\"ticker\":{\"id\":\"37f9c82b-bbab-44fd-938e-4c2b930a01f3\",\"type\":\"CategoricalTicker\"}},\"id\":\"a0f9f137-26cd-4cf1-bc9b-625f2a366552\",\"type\":\"CategoricalAxis\"},{\"attributes\":{},\"id\":\"37f9c82b-bbab-44fd-938e-4c2b930a01f3\",\"type\":\"CategoricalTicker\"},{\"attributes\":{\"axis_label\":\"flux (W m-2)\",\"formatter\":{\"id\":\"157a9b3a-eaa3-494d-b0da-d952926ba016\",\"type\":\"BasicTickFormatter\"},\"plot\":{\"id\":\"daad1c39-cc47-4ba6-8ba1-c784a95740b7\",\"subtype\":\"Figure\",\"type\":\"Plot\"},\"ticker\":{\"id\":\"1212d3d6-a8bb-411d-8cd7-687b95c26544\",\"type\":\"BasicTicker\"}},\"id\":\"eb4b7f25-bbb1-4942-9d30-f9bfdfb6fe21\",\"type\":\"LinearAxis\"},{\"attributes\":{},\"id\":\"8dbc07ed-a088-465c-97fe-38ca3a57658b\",\"type\":\"CategoricalScale\"},{\"attributes\":{},\"id\":\"157a9b3a-eaa3-494d-b0da-d952926ba016\",\"type\":\"BasicTickFormatter\"},{\"attributes\":{},\"id\":\"ffb5ff95-9997-493f-83b6-74be200018f3\",\"type\":\"UnionRenderers\"},{\"attributes\":{},\"id\":\"1212d3d6-a8bb-411d-8cd7-687b95c26544\",\"type\":\"BasicTicker\"},{\"attributes\":{\"callback\":null},\"id\":\"bcd1b7f0-1230-4a19-8b77-ddc4c6efe19e\",\"type\":\"DataRange1d\"},{\"attributes\":{},\"id\":\"0dfb6c2e-94d8-4c40-a6cf-09110f107c55\",\"type\":\"BasicTickFormatter\"},{\"attributes\":{\"callback\":null,\"data\":{\"band\":[\"3\",\"4\",\"5\",\"6\",\"7\",\"11\"],\"flux\":{\"__ndarray__\":\"QDpSkO9Q0L8ASZj7DWqtPwDADbVQWb6/APCz7H5Shz8AKMXEb9WEP8BP3jWXWpy/\",\"dtype\":\"float64\",\"shape\":[6]}},\"selected\":{\"id\":\"1f28e58e-ea7a-4464-aca1-136ecbe9c5db\",\"type\":\"Selection\"},\"selection_policy\":{\"id\":\"ffb5ff95-9997-493f-83b6-74be200018f3\",\"type\":\"UnionRenderers\"}},\"id\":\"ad7ce632-a8b6-497d-a34d-39b59987d100\",\"type\":\"ColumnDataSource\"},{\"attributes\":{\"callback\":null,\"factors\":[\"3\",\"4\",\"5\",\"6\",\"7\",\"11\"]},\"id\":\"029c2d35-e08d-4ef0-afc6-27c228c8bf74\",\"type\":\"FactorRange\"},{\"attributes\":{\"fill_alpha\":{\"value\":0.1},\"fill_color\":{\"value\":\"#1f77b4\"},\"line_alpha\":{\"value\":0.1},\"line_color\":{\"value\":\"#1f77b4\"},\"top\":{\"field\":\"flux\"},\"width\":{\"value\":0.9},\"x\":{\"field\":\"band\"}},\"id\":\"4a5b52dc-b87d-468d-9cfa-af82b6792803\",\"type\":\"VBar\"},{\"attributes\":{},\"id\":\"79abf293-ba72-4189-9e6f-250fb66c3681\",\"type\":\"LinearScale\"},{\"attributes\":{},\"id\":\"618a972d-5df8-4a16-b30a-9b55d47e4cdf\",\"type\":\"UnionRenderers\"},{\"attributes\":{\"fill_color\":{\"value\":\"#1f77b4\"},\"line_color\":{\"value\":\"#1f77b4\"},\"top\":{\"field\":\"flux\"},\"width\":{\"value\":0.9},\"x\":{\"field\":\"band\"}},\"id\":\"efd655bf-2dc8-42a3-b38b-fe3547ca117b\",\"type\":\"VBar\"},{\"attributes\":{},\"id\":\"f3a4a620-9773-4fef-b5c2-922b7f1388ab\",\"type\":\"Selection\"},{\"attributes\":{\"bottom_units\":\"screen\",\"fill_alpha\":{\"value\":0.5},\"fill_color\":{\"value\":\"lightgrey\"},\"left_units\":\"screen\",\"level\":\"overlay\",\"line_alpha\":{\"value\":1.0},\"line_color\":{\"value\":\"black\"},\"line_dash\":[4,4],\"line_width\":{\"value\":2},\"plot\":null,\"render_mode\":\"css\",\"right_units\":\"screen\",\"top_units\":\"screen\"},\"id\":\"2299563f-fc37-4a5f-98ea-4d67f8b6aac8\",\"type\":\"BoxAnnotation\"},{\"attributes\":{},\"id\":\"9423bbeb-7c5f-4b60-ba6d-12f341d510e2\",\"type\":\"CategoricalTickFormatter\"},{\"attributes\":{\"bottom_units\":\"screen\",\"fill_alpha\":{\"value\":0.5},\"fill_color\":{\"value\":\"lightgrey\"},\"left_units\":\"screen\",\"level\":\"overlay\",\"line_alpha\":{\"value\":1.0},\"line_color\":{\"value\":\"black\"},\"line_dash\":[4,4],\"line_width\":{\"value\":2},\"plot\":null,\"render_mode\":\"css\",\"right_units\":\"screen\",\"top_units\":\"screen\"},\"id\":\"d2e14fa9-4d8a-459c-8510-cc9a7513b0a6\",\"type\":\"BoxAnnotation\"},{\"attributes\":{\"tools\":[{\"id\":\"943517e3-2001-459d-913d-41079c63de9a\",\"type\":\"PanTool\"},{\"id\":\"4f758e36-e3a5-4dcf-b9ae-1ec6d0f73c34\",\"type\":\"WheelZoomTool\"},{\"id\":\"5c54ac8d-7b08-49ec-8416-4dbce3d64f53\",\"type\":\"BoxZoomTool\"},{\"id\":\"344c30fb-20b2-4f64-9266-9fcf6cceaa64\",\"type\":\"SaveTool\"},{\"id\":\"ac507b40-54cb-4948-90a3-e9e9b1ba7e7b\",\"type\":\"ResetTool\"},{\"id\":\"2d9d6979-4337-4876-9eb5-fef297ac7da9\",\"type\":\"HelpTool\"},{\"id\":\"5af7e5bd-a5c3-4001-ba98-d003ca80fea7\",\"type\":\"PanTool\"},{\"id\":\"85c2d8ca-3074-460a-be48-70f14e83297c\",\"type\":\"WheelZoomTool\"},{\"id\":\"10a9aa7d-3095-4033-8a3d-96a66db2ea06\",\"type\":\"BoxZoomTool\"},{\"id\":\"464d963a-dca9-4591-8dca-e55cc42ec534\",\"type\":\"SaveTool\"},{\"id\":\"9d03ff9b-ab4c-444f-859c-569966e521b7\",\"type\":\"ResetTool\"},{\"id\":\"31dde5b7-77c7-4f5c-9916-37ed065b4852\",\"type\":\"HelpTool\"},{\"id\":\"f2b3db8f-ea4b-436a-bdcd-83ecbb1f440c\",\"type\":\"PanTool\"},{\"id\":\"d5fd2c65-c138-46f7-8d21-0d5144173180\",\"type\":\"WheelZoomTool\"},{\"id\":\"a4fd49ef-af76-49be-9852-9ffb0e840a6b\",\"type\":\"BoxZoomTool\"},{\"id\":\"97aa9863-7fba-4cda-a438-a01174f0e0a3\",\"type\":\"SaveTool\"},{\"id\":\"65bf3a4c-e80c-4b85-9c23-ed34ea0885a8\",\"type\":\"ResetTool\"},{\"id\":\"6e4f81ea-60d8-415a-b112-a4daf73e76dc\",\"type\":\"HelpTool\"}]},\"id\":\"09d52c0e-6cd0-4468-bbb7-1a734bedc84c\",\"type\":\"ProxyToolbar\"},{\"attributes\":{\"plot\":{\"id\":\"3ba04e42-36bf-4353-86fd-bebc9064d413\",\"subtype\":\"Figure\",\"type\":\"Plot\"},\"ticker\":{\"id\":\"ef47fae3-5add-4173-9823-87e9dfad7912\",\"type\":\"CategoricalTicker\"}},\"id\":\"90102a10-fbe3-4cc8-ab4e-f66086fd4037\",\"type\":\"Grid\"},{\"attributes\":{},\"id\":\"943517e3-2001-459d-913d-41079c63de9a\",\"type\":\"PanTool\"},{\"attributes\":{},\"id\":\"7dc5367c-de20-4c7a-97ab-fa32067fb18a\",\"type\":\"Selection\"},{\"attributes\":{},\"id\":\"5d243dde-fb48-41f2-bf98-f82f8792c8f4\",\"type\":\"CategoricalScale\"},{\"attributes\":{\"data_source\":{\"id\":\"14d611ab-8dc2-472c-a535-e007ee87d91f\",\"type\":\"ColumnDataSource\"},\"glyph\":{\"id\":\"efd655bf-2dc8-42a3-b38b-fe3547ca117b\",\"type\":\"VBar\"},\"hover_glyph\":null,\"muted_glyph\":null,\"nonselection_glyph\":{\"id\":\"4a5b52dc-b87d-468d-9cfa-af82b6792803\",\"type\":\"VBar\"},\"selection_glyph\":null,\"view\":{\"id\":\"32bb1294-f30d-4c62-87b2-2171880ede22\",\"type\":\"CDSView\"}},\"id\":\"8b5039c7-8e49-48e0-b57b-1f31792a92f8\",\"type\":\"GlyphRenderer\"},{\"attributes\":{},\"id\":\"12c4aff5-fed2-4026-861e-1dabb5001dbe\",\"type\":\"CategoricalTickFormatter\"},{\"attributes\":{},\"id\":\"4f758e36-e3a5-4dcf-b9ae-1ec6d0f73c34\",\"type\":\"WheelZoomTool\"},{\"attributes\":{},\"id\":\"d95d5544-16aa-4f70-bdc9-f441dcc2591f\",\"type\":\"BasicTickFormatter\"},{\"attributes\":{\"axis_label\":\"spectral band\",\"formatter\":{\"id\":\"9423bbeb-7c5f-4b60-ba6d-12f341d510e2\",\"type\":\"CategoricalTickFormatter\"},\"plot\":{\"id\":\"3ba04e42-36bf-4353-86fd-bebc9064d413\",\"subtype\":\"Figure\",\"type\":\"Plot\"},\"ticker\":{\"id\":\"ef47fae3-5add-4173-9823-87e9dfad7912\",\"type\":\"CategoricalTicker\"}},\"id\":\"1af7a79c-e81d-47f0-a776-5d8b64e51e3d\",\"type\":\"CategoricalAxis\"},{\"attributes\":{\"overlay\":{\"id\":\"d2e14fa9-4d8a-459c-8510-cc9a7513b0a6\",\"type\":\"BoxAnnotation\"}},\"id\":\"5c54ac8d-7b08-49ec-8416-4dbce3d64f53\",\"type\":\"BoxZoomTool\"},{\"attributes\":{},\"id\":\"ef47fae3-5add-4173-9823-87e9dfad7912\",\"type\":\"CategoricalTicker\"},{\"attributes\":{},\"id\":\"344c30fb-20b2-4f64-9266-9fcf6cceaa64\",\"type\":\"SaveTool\"},{\"attributes\":{},\"id\":\"ac507b40-54cb-4948-90a3-e9e9b1ba7e7b\",\"type\":\"ResetTool\"},{\"attributes\":{},\"id\":\"2d9d6979-4337-4876-9eb5-fef297ac7da9\",\"type\":\"HelpTool\"},{\"attributes\":{\"axis_label\":\"flux (W m-2)\",\"formatter\":{\"id\":\"0dfb6c2e-94d8-4c40-a6cf-09110f107c55\",\"type\":\"BasicTickFormatter\"},\"plot\":{\"id\":\"3ba04e42-36bf-4353-86fd-bebc9064d413\",\"subtype\":\"Figure\",\"type\":\"Plot\"},\"ticker\":{\"id\":\"77b2c41b-d65f-4a1e-bb49-4525adcd22a8\",\"type\":\"BasicTicker\"}},\"id\":\"eaee553b-19a1-4360-a8fa-d95debd805be\",\"type\":\"LinearAxis\"},{\"attributes\":{\"callback\":null},\"id\":\"7fd1d3d3-5de4-4772-a102-05a6ee99610e\",\"type\":\"DataRange1d\"},{\"attributes\":{\"source\":{\"id\":\"14d611ab-8dc2-472c-a535-e007ee87d91f\",\"type\":\"ColumnDataSource\"}},\"id\":\"32bb1294-f30d-4c62-87b2-2171880ede22\",\"type\":\"CDSView\"},{\"attributes\":{\"fill_alpha\":{\"value\":0.1},\"fill_color\":{\"value\":\"#1f77b4\"},\"line_alpha\":{\"value\":0.1},\"line_color\":{\"value\":\"#1f77b4\"},\"top\":{\"field\":\"flux\"},\"width\":{\"value\":0.9},\"x\":{\"field\":\"band\"}},\"id\":\"6f466bcf-c659-4e08-944c-7992689488e7\",\"type\":\"VBar\"},{\"attributes\":{},\"id\":\"85c2d8ca-3074-460a-be48-70f14e83297c\",\"type\":\"WheelZoomTool\"},{\"attributes\":{},\"id\":\"68469af7-6bbb-41bd-867f-5561c17a0d5f\",\"type\":\"UnionRenderers\"},{\"attributes\":{\"dimension\":1,\"plot\":{\"id\":\"3ba04e42-36bf-4353-86fd-bebc9064d413\",\"subtype\":\"Figure\",\"type\":\"Plot\"},\"ticker\":{\"id\":\"77b2c41b-d65f-4a1e-bb49-4525adcd22a8\",\"type\":\"BasicTicker\"}},\"id\":\"bde22d3a-c3ac-40fe-9775-a29907c0febf\",\"type\":\"Grid\"},{\"attributes\":{\"callback\":null},\"id\":\"f581cdb6-3536-453a-b016-cb9a732672fa\",\"type\":\"DataRange1d\"},{\"attributes\":{},\"id\":\"19549b3c-93e1-450c-93d6-539baf6aef96\",\"type\":\"LinearScale\"},{\"attributes\":{\"data_source\":{\"id\":\"b104308e-70dc-4187-9ae3-aec3aa014abc\",\"type\":\"ColumnDataSource\"},\"glyph\":{\"id\":\"05f9c44d-5429-4b3a-8e99-319df8bb37fd\",\"type\":\"VBar\"},\"hover_glyph\":null,\"muted_glyph\":null,\"nonselection_glyph\":{\"id\":\"55de6647-c09e-4461-b328-d0c865f4ce92\",\"type\":\"VBar\"},\"selection_glyph\":null,\"view\":{\"id\":\"cfd8ea59-087a-429a-8218-7311b0ee9495\",\"type\":\"CDSView\"}},\"id\":\"efd82634-a37e-4000-bd99-165d8fac8831\",\"type\":\"GlyphRenderer\"},{\"attributes\":{},\"id\":\"6f91971e-a3bc-4d47-ab93-37dce35de017\",\"type\":\"CategoricalTickFormatter\"},{\"attributes\":{\"callback\":null,\"data\":{\"band\":[\"3\",\"4\",\"5\",\"6\",\"7\",\"11\"],\"flux\":{\"__ndarray__\":\"AFAcRMFFkr9AyH+2EpDCPwAykJXPWro/AGCJBgOxf78A4Ky20tN+v0DCJ8OBW6A/\",\"dtype\":\"float64\",\"shape\":[6]}},\"selected\":{\"id\":\"f3a4a620-9773-4fef-b5c2-922b7f1388ab\",\"type\":\"Selection\"},\"selection_policy\":{\"id\":\"618a972d-5df8-4a16-b30a-9b55d47e4cdf\",\"type\":\"UnionRenderers\"}},\"id\":\"14d611ab-8dc2-472c-a535-e007ee87d91f\",\"type\":\"ColumnDataSource\"},{\"attributes\":{},\"id\":\"5af7e5bd-a5c3-4001-ba98-d003ca80fea7\",\"type\":\"PanTool\"},{\"attributes\":{\"dimension\":1,\"plot\":{\"id\":\"4e8ead73-3ff2-4533-907c-e622aa79a9b0\",\"subtype\":\"Figure\",\"type\":\"Plot\"},\"ticker\":{\"id\":\"f21ef42d-6f7f-4ff0-9161-fd67367d4a2d\",\"type\":\"BasicTicker\"}},\"id\":\"b5b7918a-0ebd-453c-833f-3a159b2679cb\",\"type\":\"Grid\"},{\"attributes\":{\"active_drag\":\"auto\",\"active_inspect\":\"auto\",\"active_scroll\":\"auto\",\"active_tap\":\"auto\",\"tools\":[{\"id\":\"5af7e5bd-a5c3-4001-ba98-d003ca80fea7\",\"type\":\"PanTool\"},{\"id\":\"85c2d8ca-3074-460a-be48-70f14e83297c\",\"type\":\"WheelZoomTool\"},{\"id\":\"10a9aa7d-3095-4033-8a3d-96a66db2ea06\",\"type\":\"BoxZoomTool\"},{\"id\":\"464d963a-dca9-4591-8dca-e55cc42ec534\",\"type\":\"SaveTool\"},{\"id\":\"9d03ff9b-ab4c-444f-859c-569966e521b7\",\"type\":\"ResetTool\"},{\"id\":\"31dde5b7-77c7-4f5c-9916-37ed065b4852\",\"type\":\"HelpTool\"}]},\"id\":\"8fbb716f-ba42-44c4-bcd7-e98b7d7ff0e7\",\"type\":\"Toolbar\"},{\"attributes\":{\"active_drag\":\"auto\",\"active_inspect\":\"auto\",\"active_scroll\":\"auto\",\"active_tap\":\"auto\",\"tools\":[{\"id\":\"f2b3db8f-ea4b-436a-bdcd-83ecbb1f440c\",\"type\":\"PanTool\"},{\"id\":\"d5fd2c65-c138-46f7-8d21-0d5144173180\",\"type\":\"WheelZoomTool\"},{\"id\":\"a4fd49ef-af76-49be-9852-9ffb0e840a6b\",\"type\":\"BoxZoomTool\"},{\"id\":\"97aa9863-7fba-4cda-a438-a01174f0e0a3\",\"type\":\"SaveTool\"},{\"id\":\"65bf3a4c-e80c-4b85-9c23-ed34ea0885a8\",\"type\":\"ResetTool\"},{\"id\":\"6e4f81ea-60d8-415a-b112-a4daf73e76dc\",\"type\":\"HelpTool\"}]},\"id\":\"ec996bad-5fb8-4dfa-a73a-b7b9cea8aab5\",\"type\":\"Toolbar\"},{\"attributes\":{\"plot\":null,\"text\":\"Atmosphere heating. CLIRAD - CRD.\"},\"id\":\"94105367-eab9-47ca-8056-135bacba88eb\",\"type\":\"Title\"},{\"attributes\":{\"toolbar\":{\"id\":\"09d52c0e-6cd0-4468-bbb7-1a734bedc84c\",\"type\":\"ProxyToolbar\"},\"toolbar_location\":\"above\"},\"id\":\"ef6351fd-2594-41df-a776-c392ade6f723\",\"type\":\"ToolbarBox\"},{\"attributes\":{},\"id\":\"1f28e58e-ea7a-4464-aca1-136ecbe9c5db\",\"type\":\"Selection\"},{\"attributes\":{\"axis_label\":\"flux (W m-2)\",\"formatter\":{\"id\":\"d95d5544-16aa-4f70-bdc9-f441dcc2591f\",\"type\":\"BasicTickFormatter\"},\"plot\":{\"id\":\"4e8ead73-3ff2-4533-907c-e622aa79a9b0\",\"subtype\":\"Figure\",\"type\":\"Plot\"},\"ticker\":{\"id\":\"f21ef42d-6f7f-4ff0-9161-fd67367d4a2d\",\"type\":\"BasicTicker\"}},\"id\":\"c2b5fbd7-8cbd-4dfe-b97e-8b0de12efefd\",\"type\":\"LinearAxis\"},{\"attributes\":{\"below\":[{\"id\":\"1af7a79c-e81d-47f0-a776-5d8b64e51e3d\",\"type\":\"CategoricalAxis\"}],\"left\":[{\"id\":\"eaee553b-19a1-4360-a8fa-d95debd805be\",\"type\":\"LinearAxis\"}],\"plot_height\":300,\"plot_width\":300,\"renderers\":[{\"id\":\"1af7a79c-e81d-47f0-a776-5d8b64e51e3d\",\"type\":\"CategoricalAxis\"},{\"id\":\"90102a10-fbe3-4cc8-ab4e-f66086fd4037\",\"type\":\"Grid\"},{\"id\":\"eaee553b-19a1-4360-a8fa-d95debd805be\",\"type\":\"LinearAxis\"},{\"id\":\"bde22d3a-c3ac-40fe-9775-a29907c0febf\",\"type\":\"Grid\"},{\"id\":\"5a79e8a6-22fc-4326-ab83-35c6e0655067\",\"type\":\"BoxAnnotation\"},{\"id\":\"bb5e1eff-7b3c-4131-806f-bc7e95c20dce\",\"type\":\"GlyphRenderer\"}],\"title\":{\"id\":\"94105367-eab9-47ca-8056-135bacba88eb\",\"type\":\"Title\"},\"toolbar\":{\"id\":\"ec996bad-5fb8-4dfa-a73a-b7b9cea8aab5\",\"type\":\"Toolbar\"},\"toolbar_location\":null,\"x_range\":{\"id\":\"7fab6c54-b233-4cad-821e-297c3687fe60\",\"type\":\"FactorRange\"},\"x_scale\":{\"id\":\"5d243dde-fb48-41f2-bf98-f82f8792c8f4\",\"type\":\"CategoricalScale\"},\"y_range\":{\"id\":\"7fd1d3d3-5de4-4772-a102-05a6ee99610e\",\"type\":\"DataRange1d\"},\"y_scale\":{\"id\":\"19549b3c-93e1-450c-93d6-539baf6aef96\",\"type\":\"LinearScale\"}},\"id\":\"3ba04e42-36bf-4353-86fd-bebc9064d413\",\"subtype\":\"Figure\",\"type\":\"Plot\"},{\"attributes\":{\"children\":[{\"id\":\"daad1c39-cc47-4ba6-8ba1-c784a95740b7\",\"subtype\":\"Figure\",\"type\":\"Plot\"},{\"id\":\"4e8ead73-3ff2-4533-907c-e622aa79a9b0\",\"subtype\":\"Figure\",\"type\":\"Plot\"},{\"id\":\"3ba04e42-36bf-4353-86fd-bebc9064d413\",\"subtype\":\"Figure\",\"type\":\"Plot\"}]},\"id\":\"c1d12f8e-9823-4830-900c-c7d555bcf7df\",\"type\":\"Row\"},{\"attributes\":{\"callback\":null,\"factors\":[\"3\",\"4\",\"5\",\"6\",\"7\",\"11\"]},\"id\":\"4e98c87e-f491-49b1-a92f-a1cf7dcac19f\",\"type\":\"FactorRange\"},{\"attributes\":{\"callback\":null,\"data\":{\"band\":[\"3\",\"4\",\"5\",\"6\",\"7\",\"11\"],\"flux\":{\"__ndarray__\":\"gFJJ+DlZzj8A1DXPG2u2P4A9qjn3Wcw/8DDL1q6Uk7+gVRVwiB6SvzjM+5nSiK4/\",\"dtype\":\"float64\",\"shape\":[6]}},\"selected\":{\"id\":\"7dc5367c-de20-4c7a-97ab-fa32067fb18a\",\"type\":\"Selection\"},\"selection_policy\":{\"id\":\"68469af7-6bbb-41bd-867f-5561c17a0d5f\",\"type\":\"UnionRenderers\"}},\"id\":\"b104308e-70dc-4187-9ae3-aec3aa014abc\",\"type\":\"ColumnDataSource\"},{\"attributes\":{\"overlay\":{\"id\":\"5a79e8a6-22fc-4326-ab83-35c6e0655067\",\"type\":\"BoxAnnotation\"}},\"id\":\"a4fd49ef-af76-49be-9852-9ffb0e840a6b\",\"type\":\"BoxZoomTool\"},{\"attributes\":{},\"id\":\"f2b3db8f-ea4b-436a-bdcd-83ecbb1f440c\",\"type\":\"PanTool\"},{\"attributes\":{\"fill_color\":{\"value\":\"#1f77b4\"},\"line_color\":{\"value\":\"#1f77b4\"},\"top\":{\"field\":\"flux\"},\"width\":{\"value\":0.9},\"x\":{\"field\":\"band\"}},\"id\":\"c67053f6-15b5-4123-b910-49c5cf88f753\",\"type\":\"VBar\"},{\"attributes\":{},\"id\":\"f21ef42d-6f7f-4ff0-9161-fd67367d4a2d\",\"type\":\"BasicTicker\"},{\"attributes\":{\"source\":{\"id\":\"ad7ce632-a8b6-497d-a34d-39b59987d100\",\"type\":\"ColumnDataSource\"}},\"id\":\"80e57c7f-e87e-4904-8cbe-7fc7108eadca\",\"type\":\"CDSView\"},{\"attributes\":{\"plot\":null,\"text\":\"SFC flux. CLIRAD - CRD.\"},\"id\":\"166db2c0-e905-44ab-82d8-e3360dcccb56\",\"type\":\"Title\"},{\"attributes\":{\"fill_color\":{\"value\":\"#1f77b4\"},\"line_color\":{\"value\":\"#1f77b4\"},\"top\":{\"field\":\"flux\"},\"width\":{\"value\":0.9},\"x\":{\"field\":\"band\"}},\"id\":\"05f9c44d-5429-4b3a-8e99-319df8bb37fd\",\"type\":\"VBar\"},{\"attributes\":{},\"id\":\"77b2c41b-d65f-4a1e-bb49-4525adcd22a8\",\"type\":\"BasicTicker\"},{\"attributes\":{},\"id\":\"cd30fd1c-6232-4617-9537-e0797cc3a8dd\",\"type\":\"CategoricalScale\"},{\"attributes\":{},\"id\":\"6e4f81ea-60d8-415a-b112-a4daf73e76dc\",\"type\":\"HelpTool\"},{\"attributes\":{},\"id\":\"25d2eb76-6b58-442a-83be-031222f61d27\",\"type\":\"CategoricalTicker\"},{\"attributes\":{\"children\":[{\"id\":\"ef6351fd-2594-41df-a776-c392ade6f723\",\"type\":\"ToolbarBox\"},{\"id\":\"82436cf7-6a15-4701-ab94-e95eb110a37b\",\"type\":\"Column\"}]},\"id\":\"db14db2f-beb0-45ac-b3cb-16a3068e9fd7\",\"type\":\"Column\"},{\"attributes\":{\"active_drag\":\"auto\",\"active_inspect\":\"auto\",\"active_scroll\":\"auto\",\"active_tap\":\"auto\",\"tools\":[{\"id\":\"943517e3-2001-459d-913d-41079c63de9a\",\"type\":\"PanTool\"},{\"id\":\"4f758e36-e3a5-4dcf-b9ae-1ec6d0f73c34\",\"type\":\"WheelZoomTool\"},{\"id\":\"5c54ac8d-7b08-49ec-8416-4dbce3d64f53\",\"type\":\"BoxZoomTool\"},{\"id\":\"344c30fb-20b2-4f64-9266-9fcf6cceaa64\",\"type\":\"SaveTool\"},{\"id\":\"ac507b40-54cb-4948-90a3-e9e9b1ba7e7b\",\"type\":\"ResetTool\"},{\"id\":\"2d9d6979-4337-4876-9eb5-fef297ac7da9\",\"type\":\"HelpTool\"}]},\"id\":\"9b219f63-3294-45b5-96a6-fc967afbe069\",\"type\":\"Toolbar\"},{\"attributes\":{},\"id\":\"97aa9863-7fba-4cda-a438-a01174f0e0a3\",\"type\":\"SaveTool\"},{\"attributes\":{\"children\":[{\"id\":\"c1d12f8e-9823-4830-900c-c7d555bcf7df\",\"type\":\"Row\"}]},\"id\":\"82436cf7-6a15-4701-ab94-e95eb110a37b\",\"type\":\"Column\"},{\"attributes\":{\"overlay\":{\"id\":\"2299563f-fc37-4a5f-98ea-4d67f8b6aac8\",\"type\":\"BoxAnnotation\"}},\"id\":\"10a9aa7d-3095-4033-8a3d-96a66db2ea06\",\"type\":\"BoxZoomTool\"},{\"attributes\":{},\"id\":\"a4a548d8-4a90-40db-9da6-b1ba802419b2\",\"type\":\"LinearScale\"},{\"attributes\":{\"below\":[{\"id\":\"0e62983e-1f39-4fdd-b59f-f68a0450a964\",\"type\":\"CategoricalAxis\"}],\"left\":[{\"id\":\"c2b5fbd7-8cbd-4dfe-b97e-8b0de12efefd\",\"type\":\"LinearAxis\"}],\"plot_height\":300,\"plot_width\":300,\"renderers\":[{\"id\":\"0e62983e-1f39-4fdd-b59f-f68a0450a964\",\"type\":\"CategoricalAxis\"},{\"id\":\"56204d81-99d8-4c06-89f3-404f933e9c56\",\"type\":\"Grid\"},{\"id\":\"c2b5fbd7-8cbd-4dfe-b97e-8b0de12efefd\",\"type\":\"LinearAxis\"},{\"id\":\"b5b7918a-0ebd-453c-833f-3a159b2679cb\",\"type\":\"Grid\"},{\"id\":\"2299563f-fc37-4a5f-98ea-4d67f8b6aac8\",\"type\":\"BoxAnnotation\"},{\"id\":\"efd82634-a37e-4000-bd99-165d8fac8831\",\"type\":\"GlyphRenderer\"}],\"title\":{\"id\":\"166db2c0-e905-44ab-82d8-e3360dcccb56\",\"type\":\"Title\"},\"toolbar\":{\"id\":\"8fbb716f-ba42-44c4-bcd7-e98b7d7ff0e7\",\"type\":\"Toolbar\"},\"toolbar_location\":null,\"x_range\":{\"id\":\"4e98c87e-f491-49b1-a92f-a1cf7dcac19f\",\"type\":\"FactorRange\"},\"x_scale\":{\"id\":\"cd30fd1c-6232-4617-9537-e0797cc3a8dd\",\"type\":\"CategoricalScale\"},\"y_range\":{\"id\":\"f581cdb6-3536-453a-b016-cb9a732672fa\",\"type\":\"DataRange1d\"},\"y_scale\":{\"id\":\"a4a548d8-4a90-40db-9da6-b1ba802419b2\",\"type\":\"LinearScale\"}},\"id\":\"4e8ead73-3ff2-4533-907c-e622aa79a9b0\",\"subtype\":\"Figure\",\"type\":\"Plot\"},{\"attributes\":{\"axis_label\":\"spectral band\",\"formatter\":{\"id\":\"12c4aff5-fed2-4026-861e-1dabb5001dbe\",\"type\":\"CategoricalTickFormatter\"},\"plot\":{\"id\":\"4e8ead73-3ff2-4533-907c-e622aa79a9b0\",\"subtype\":\"Figure\",\"type\":\"Plot\"},\"ticker\":{\"id\":\"25d2eb76-6b58-442a-83be-031222f61d27\",\"type\":\"CategoricalTicker\"}},\"id\":\"0e62983e-1f39-4fdd-b59f-f68a0450a964\",\"type\":\"CategoricalAxis\"},{\"attributes\":{\"bottom_units\":\"screen\",\"fill_alpha\":{\"value\":0.5},\"fill_color\":{\"value\":\"lightgrey\"},\"left_units\":\"screen\",\"level\":\"overlay\",\"line_alpha\":{\"value\":1.0},\"line_color\":{\"value\":\"black\"},\"line_dash\":[4,4],\"line_width\":{\"value\":2},\"plot\":null,\"render_mode\":\"css\",\"right_units\":\"screen\",\"top_units\":\"screen\"},\"id\":\"5a79e8a6-22fc-4326-ab83-35c6e0655067\",\"type\":\"BoxAnnotation\"},{\"attributes\":{},\"id\":\"464d963a-dca9-4591-8dca-e55cc42ec534\",\"type\":\"SaveTool\"},{\"attributes\":{},\"id\":\"9d03ff9b-ab4c-444f-859c-569966e521b7\",\"type\":\"ResetTool\"},{\"attributes\":{},\"id\":\"31dde5b7-77c7-4f5c-9916-37ed065b4852\",\"type\":\"HelpTool\"},{\"attributes\":{\"plot\":null,\"text\":\"TOA flux. CLIRAD - CRD.\"},\"id\":\"2831c929-e7ce-48b9-9189-bc0daa6b849f\",\"type\":\"Title\"},{\"attributes\":{\"data_source\":{\"id\":\"ad7ce632-a8b6-497d-a34d-39b59987d100\",\"type\":\"ColumnDataSource\"},\"glyph\":{\"id\":\"c67053f6-15b5-4123-b910-49c5cf88f753\",\"type\":\"VBar\"},\"hover_glyph\":null,\"muted_glyph\":null,\"nonselection_glyph\":{\"id\":\"6f466bcf-c659-4e08-944c-7992689488e7\",\"type\":\"VBar\"},\"selection_glyph\":null,\"view\":{\"id\":\"80e57c7f-e87e-4904-8cbe-7fc7108eadca\",\"type\":\"CDSView\"}},\"id\":\"bb5e1eff-7b3c-4131-806f-bc7e95c20dce\",\"type\":\"GlyphRenderer\"},{\"attributes\":{\"source\":{\"id\":\"b104308e-70dc-4187-9ae3-aec3aa014abc\",\"type\":\"ColumnDataSource\"}},\"id\":\"cfd8ea59-087a-429a-8218-7311b0ee9495\",\"type\":\"CDSView\"},{\"attributes\":{\"below\":[{\"id\":\"a0f9f137-26cd-4cf1-bc9b-625f2a366552\",\"type\":\"CategoricalAxis\"}],\"left\":[{\"id\":\"eb4b7f25-bbb1-4942-9d30-f9bfdfb6fe21\",\"type\":\"LinearAxis\"}],\"plot_height\":300,\"plot_width\":300,\"renderers\":[{\"id\":\"a0f9f137-26cd-4cf1-bc9b-625f2a366552\",\"type\":\"CategoricalAxis\"},{\"id\":\"d042203f-ed8d-4bee-b46c-38071ccd6c96\",\"type\":\"Grid\"},{\"id\":\"eb4b7f25-bbb1-4942-9d30-f9bfdfb6fe21\",\"type\":\"LinearAxis\"},{\"id\":\"f51b9f88-1669-4b31-8b5c-1445332687d8\",\"type\":\"Grid\"},{\"id\":\"d2e14fa9-4d8a-459c-8510-cc9a7513b0a6\",\"type\":\"BoxAnnotation\"},{\"id\":\"8b5039c7-8e49-48e0-b57b-1f31792a92f8\",\"type\":\"GlyphRenderer\"}],\"title\":{\"id\":\"2831c929-e7ce-48b9-9189-bc0daa6b849f\",\"type\":\"Title\"},\"toolbar\":{\"id\":\"9b219f63-3294-45b5-96a6-fc967afbe069\",\"type\":\"Toolbar\"},\"toolbar_location\":null,\"x_range\":{\"id\":\"029c2d35-e08d-4ef0-afc6-27c228c8bf74\",\"type\":\"FactorRange\"},\"x_scale\":{\"id\":\"8dbc07ed-a088-465c-97fe-38ca3a57658b\",\"type\":\"CategoricalScale\"},\"y_range\":{\"id\":\"bcd1b7f0-1230-4a19-8b77-ddc4c6efe19e\",\"type\":\"DataRange1d\"},\"y_scale\":{\"id\":\"79abf293-ba72-4189-9e6f-250fb66c3681\",\"type\":\"LinearScale\"}},\"id\":\"daad1c39-cc47-4ba6-8ba1-c784a95740b7\",\"subtype\":\"Figure\",\"type\":\"Plot\"},{\"attributes\":{},\"id\":\"65bf3a4c-e80c-4b85-9c23-ed34ea0885a8\",\"type\":\"ResetTool\"},{\"attributes\":{},\"id\":\"d5fd2c65-c138-46f7-8d21-0d5144173180\",\"type\":\"WheelZoomTool\"}],\"root_ids\":[\"db14db2f-beb0-45ac-b3cb-16a3068e9fd7\"]},\"title\":\"Bokeh Application\",\"version\":\"0.12.16\"}};\n",
       "  var render_items = [{\"docid\":\"6c8d1427-783b-47c8-b50e-e751bfe43831\",\"elementid\":\"eaf08a3a-ab66-4d15-9bec-705430119c38\",\"modelid\":\"db14db2f-beb0-45ac-b3cb-16a3068e9fd7\"}];\n",
       "  root.Bokeh.embed.embed_items_notebook(docs_json, render_items);\n",
       "\n",
       "  }\n",
       "  if (root.Bokeh !== undefined) {\n",
       "    embed_document(root);\n",
       "  } else {\n",
       "    var attempts = 0;\n",
       "    var timer = setInterval(function(root) {\n",
       "      if (root.Bokeh !== undefined) {\n",
       "        embed_document(root);\n",
       "        clearInterval(timer);\n",
       "      }\n",
       "      attempts++;\n",
       "      if (attempts > 100) {\n",
       "        console.log(\"Bokeh: ERROR: Unable to run BokehJS code because BokehJS library is missing\")\n",
       "        clearInterval(timer);\n",
       "      }\n",
       "    }, 10, root)\n",
       "  }\n",
       "})(window);"
      ],
      "application/vnd.bokehjs_exec.v0+json": ""
     },
     "metadata": {
      "application/vnd.bokehjs_exec.v0+json": {
       "id": "db14db2f-beb0-45ac-b3cb-16a3068e9fd7"
      }
     },
     "output_type": "display_data"
    },
    {
     "data": {
      "text/markdown": [
       "*FIGURE.* Difference between CLIRAD and CRD in TOA, SFC and net atmosphere flux, in each spectral band."
      ],
      "text/plain": [
       "<IPython.core.display.Markdown object>"
      ]
     },
     "metadata": {},
     "output_type": "display_data"
    },
    {
     "data": {
      "text/html": [
       "<div>\n",
       "<style scoped>\n",
       "    .dataframe tbody tr th:only-of-type {\n",
       "        vertical-align: middle;\n",
       "    }\n",
       "\n",
       "    .dataframe tbody tr th {\n",
       "        vertical-align: top;\n",
       "    }\n",
       "\n",
       "    .dataframe thead th {\n",
       "        text-align: right;\n",
       "    }\n",
       "</style>\n",
       "<table border=\"1\" class=\"dataframe\">\n",
       "  <thead>\n",
       "    <tr style=\"text-align: right;\">\n",
       "      <th></th>\n",
       "      <th>OLR flux</th>\n",
       "      <th>SFC flux</th>\n",
       "      <th>ATM heating</th>\n",
       "    </tr>\n",
       "    <tr>\n",
       "      <th>Sum over bands</th>\n",
       "      <th></th>\n",
       "      <th></th>\n",
       "      <th></th>\n",
       "    </tr>\n",
       "  </thead>\n",
       "  <tbody>\n",
       "    <tr>\n",
       "      <th>CLIRAD - CRD</th>\n",
       "      <td>0.25</td>\n",
       "      <td>0.57</td>\n",
       "      <td>-0.32</td>\n",
       "    </tr>\n",
       "    <tr>\n",
       "      <th>CRD</th>\n",
       "      <td>-100.58</td>\n",
       "      <td>46.00</td>\n",
       "      <td>-27.64</td>\n",
       "    </tr>\n",
       "  </tbody>\n",
       "</table>\n",
       "</div>"
      ],
      "text/plain": [
       "                OLR flux  SFC flux  ATM heating\n",
       "Sum over bands                                 \n",
       "CLIRAD - CRD        0.25      0.57        -0.32\n",
       "CRD              -100.58     46.00       -27.64"
      ]
     },
     "metadata": {},
     "output_type": "display_data"
    },
    {
     "data": {
      "text/markdown": [
       "*TABLE.* Difference between CLIRAD and CRD in TOA, SFC and net atmosphere flux, over all spectral bands. CRD's TOA, SFC and net atmosphere flux, over all spectral bands."
      ],
      "text/plain": [
       "<IPython.core.display.Markdown object>"
      ]
     },
     "metadata": {},
     "output_type": "display_data"
    },
    {
     "data": {
      "text/html": [
       "<a id=\"Parameters_of_runs._trp\"></a>"
      ],
      "text/plain": [
       "<IPython.core.display.HTML object>"
      ]
     },
     "metadata": {},
     "output_type": "display_data"
    },
    {
     "data": {
      "text/markdown": [
       "# Parameters of runs. trp"
      ],
      "text/plain": [
       "<IPython.core.display.Markdown object>"
      ]
     },
     "metadata": {},
     "output_type": "display_data"
    },
    {
     "data": {
      "text/html": [
       "<div>\n",
       "<style scoped>\n",
       "    .dataframe tbody tr th:only-of-type {\n",
       "        vertical-align: middle;\n",
       "    }\n",
       "\n",
       "    .dataframe tbody tr th {\n",
       "        vertical-align: top;\n",
       "    }\n",
       "\n",
       "    .dataframe thead tr th {\n",
       "        text-align: left;\n",
       "    }\n",
       "</style>\n",
       "<table border=\"1\" class=\"dataframe\">\n",
       "  <thead>\n",
       "    <tr>\n",
       "      <th></th>\n",
       "      <th>clirad-lw</th>\n",
       "      <th colspan=\"6\" halign=\"left\">lblnew-bestfit lw</th>\n",
       "    </tr>\n",
       "    <tr>\n",
       "      <th></th>\n",
       "      <th>:D</th>\n",
       "      <th>band3a co2</th>\n",
       "      <th>band3b co2</th>\n",
       "      <th>band3c co2</th>\n",
       "      <th>band4 co2</th>\n",
       "      <th>band5 co2</th>\n",
       "      <th>band9 co2</th>\n",
       "    </tr>\n",
       "  </thead>\n",
       "  <tbody>\n",
       "    <tr>\n",
       "      <th>atmpro</th>\n",
       "      <td>trp</td>\n",
       "      <td>trp</td>\n",
       "      <td>trp</td>\n",
       "      <td>trp</td>\n",
       "      <td>trp</td>\n",
       "      <td>trp</td>\n",
       "      <td>trp</td>\n",
       "    </tr>\n",
       "    <tr>\n",
       "      <th>band</th>\n",
       "      <td>[3, 4, 5, 6, 7, 11]</td>\n",
       "      <td>3a</td>\n",
       "      <td>3b</td>\n",
       "      <td>3c</td>\n",
       "      <td>4</td>\n",
       "      <td>5</td>\n",
       "      <td>9</td>\n",
       "    </tr>\n",
       "    <tr>\n",
       "      <th>commitnumber</th>\n",
       "      <td>1013f91</td>\n",
       "      <td>a22ab94</td>\n",
       "      <td>a22ab94</td>\n",
       "      <td>a22ab94</td>\n",
       "      <td>a22ab94</td>\n",
       "      <td>a22ab94</td>\n",
       "      <td>a22ab94</td>\n",
       "    </tr>\n",
       "    <tr>\n",
       "      <th>conc</th>\n",
       "      <td>-</td>\n",
       "      <td>0.0004</td>\n",
       "      <td>0.0004</td>\n",
       "      <td>0.0004</td>\n",
       "      <td>0.0004</td>\n",
       "      <td>0.0004</td>\n",
       "      <td>0.0004</td>\n",
       "    </tr>\n",
       "    <tr>\n",
       "      <th>dv</th>\n",
       "      <td>-</td>\n",
       "      <td>0.001</td>\n",
       "      <td>0.001</td>\n",
       "      <td>0.001</td>\n",
       "      <td>0.001</td>\n",
       "      <td>0.001</td>\n",
       "      <td>0.001</td>\n",
       "    </tr>\n",
       "    <tr>\n",
       "      <th>klin</th>\n",
       "      <td>-</td>\n",
       "      <td>6.37556e-24</td>\n",
       "      <td>0</td>\n",
       "      <td>6.37556e-24</td>\n",
       "      <td>6.5e-24</td>\n",
       "      <td>6.5e-24</td>\n",
       "      <td>6.5e-24</td>\n",
       "    </tr>\n",
       "    <tr>\n",
       "      <th>molecule</th>\n",
       "      <td>{'co2': 0.0004}</td>\n",
       "      <td>co2</td>\n",
       "      <td>co2</td>\n",
       "      <td>co2</td>\n",
       "      <td>co2</td>\n",
       "      <td>co2</td>\n",
       "      <td>co2</td>\n",
       "    </tr>\n",
       "    <tr>\n",
       "      <th>ng_adju</th>\n",
       "      <td>-</td>\n",
       "      <td>[0, 0, 0]</td>\n",
       "      <td>[0, 0]</td>\n",
       "      <td>[0, 0, 0]</td>\n",
       "      <td>[0, 0]</td>\n",
       "      <td>[0, 0]</td>\n",
       "      <td>[0, 0]</td>\n",
       "    </tr>\n",
       "    <tr>\n",
       "      <th>ng_refs</th>\n",
       "      <td>-</td>\n",
       "      <td>[3, 2, 4]</td>\n",
       "      <td>[5, 4]</td>\n",
       "      <td>[3, 2, 4]</td>\n",
       "      <td>[1, 2]</td>\n",
       "      <td>[1, 2]</td>\n",
       "      <td>[3, 3]</td>\n",
       "    </tr>\n",
       "    <tr>\n",
       "      <th>nv</th>\n",
       "      <td>-</td>\n",
       "      <td>1000</td>\n",
       "      <td>1000</td>\n",
       "      <td>1000</td>\n",
       "      <td>1000</td>\n",
       "      <td>1000</td>\n",
       "      <td>1000</td>\n",
       "    </tr>\n",
       "    <tr>\n",
       "      <th>option_compute_btable</th>\n",
       "      <td>-</td>\n",
       "      <td>0</td>\n",
       "      <td>0</td>\n",
       "      <td>0</td>\n",
       "      <td>0</td>\n",
       "      <td>0</td>\n",
       "      <td>0</td>\n",
       "    </tr>\n",
       "    <tr>\n",
       "      <th>option_compute_ktable</th>\n",
       "      <td>-</td>\n",
       "      <td>0</td>\n",
       "      <td>0</td>\n",
       "      <td>0</td>\n",
       "      <td>0</td>\n",
       "      <td>0</td>\n",
       "      <td>0</td>\n",
       "    </tr>\n",
       "    <tr>\n",
       "      <th>option_wgt_flux</th>\n",
       "      <td>-</td>\n",
       "      <td>1</td>\n",
       "      <td>1</td>\n",
       "      <td>1</td>\n",
       "      <td>1</td>\n",
       "      <td>1</td>\n",
       "      <td>1</td>\n",
       "    </tr>\n",
       "    <tr>\n",
       "      <th>option_wgt_k</th>\n",
       "      <td>-</td>\n",
       "      <td>1</td>\n",
       "      <td>1</td>\n",
       "      <td>1</td>\n",
       "      <td>1</td>\n",
       "      <td>1</td>\n",
       "      <td>1</td>\n",
       "    </tr>\n",
       "    <tr>\n",
       "      <th>ref_pts</th>\n",
       "      <td>-</td>\n",
       "      <td>[[1, 250], [10, 250], [500, 250]]</td>\n",
       "      <td>[[1, 250], [10, 250]]</td>\n",
       "      <td>[[1, 250], [10, 250], [500, 250]]</td>\n",
       "      <td>[[1, 250], [500, 250]]</td>\n",
       "      <td>[[1, 250], [500, 250]]</td>\n",
       "      <td>[[1, 250], [50, 250]]</td>\n",
       "    </tr>\n",
       "    <tr>\n",
       "      <th>tsfc</th>\n",
       "      <td>300</td>\n",
       "      <td>300</td>\n",
       "      <td>300</td>\n",
       "      <td>300</td>\n",
       "      <td>300</td>\n",
       "      <td>300</td>\n",
       "      <td>300</td>\n",
       "    </tr>\n",
       "    <tr>\n",
       "      <th>vmax</th>\n",
       "      <td>-</td>\n",
       "      <td>620</td>\n",
       "      <td>720</td>\n",
       "      <td>800</td>\n",
       "      <td>980</td>\n",
       "      <td>1100</td>\n",
       "      <td>3000</td>\n",
       "    </tr>\n",
       "    <tr>\n",
       "      <th>vmin</th>\n",
       "      <td>-</td>\n",
       "      <td>540</td>\n",
       "      <td>620</td>\n",
       "      <td>720</td>\n",
       "      <td>800</td>\n",
       "      <td>980</td>\n",
       "      <td>1900</td>\n",
       "    </tr>\n",
       "    <tr>\n",
       "      <th>w_diffuse</th>\n",
       "      <td>-</td>\n",
       "      <td>[[1.6, 1.6, 1.7], [1.75, 1.75], [1.55, 1.55, 1.6, 1.85]]</td>\n",
       "      <td>[[1.66, 1.66, 1.66, 1.66, 1.66], [1.66, 1.66, 1.66, 1.66]]</td>\n",
       "      <td>[[1.7, 1.6, 1.8], [1.8, 1.7], [1.5, 1.6, 1.7, 1.8]]</td>\n",
       "      <td>[[1.75], [1.66, 1.9]]</td>\n",
       "      <td>[[1.75], [1.66, 1.9]]</td>\n",
       "      <td>[[1.66, 1.66, 1.75], [1.75, 1.6, 1.85]]</td>\n",
       "    </tr>\n",
       "    <tr>\n",
       "      <th>wgt</th>\n",
       "      <td>-</td>\n",
       "      <td>[[0.7, 0.3, 0.7], [0.7, 0.6], [0.4, 0.5, 0.8, 0.95]]</td>\n",
       "      <td>[[0, 0.5, 0.4, 0.6, 0.65], [0.7, 0.7, 0.55, 0.6]]</td>\n",
       "      <td>[[0.6, 0.4, 0.7], [0.7, 0.4], [0.3, 0.4, 0.85, 0.9]]</td>\n",
       "      <td>[[0.75], [0.75, 0.95]]</td>\n",
       "      <td>[[0.75], [0.75, 0.95]]</td>\n",
       "      <td>[[0.7, 0.8, 0.7], [0.8, 0.7, 0.8]]</td>\n",
       "    </tr>\n",
       "  </tbody>\n",
       "</table>\n",
       "</div>"
      ],
      "text/plain": [
       "                                 clirad-lw  \\\n",
       "                                        :D   \n",
       "atmpro                                 trp   \n",
       "band                   [3, 4, 5, 6, 7, 11]   \n",
       "commitnumber                       1013f91   \n",
       "conc                                     -   \n",
       "dv                                       -   \n",
       "klin                                     -   \n",
       "molecule                   {'co2': 0.0004}   \n",
       "ng_adju                                  -   \n",
       "ng_refs                                  -   \n",
       "nv                                       -   \n",
       "option_compute_btable                    -   \n",
       "option_compute_ktable                    -   \n",
       "option_wgt_flux                          -   \n",
       "option_wgt_k                             -   \n",
       "ref_pts                                  -   \n",
       "tsfc                                   300   \n",
       "vmax                                     -   \n",
       "vmin                                     -   \n",
       "w_diffuse                                -   \n",
       "wgt                                      -   \n",
       "\n",
       "                                                              lblnew-bestfit lw  \\\n",
       "                                                                     band3a co2   \n",
       "atmpro                                                                      trp   \n",
       "band                                                                         3a   \n",
       "commitnumber                                                            a22ab94   \n",
       "conc                                                                     0.0004   \n",
       "dv                                                                        0.001   \n",
       "klin                                                                6.37556e-24   \n",
       "molecule                                                                    co2   \n",
       "ng_adju                                                               [0, 0, 0]   \n",
       "ng_refs                                                               [3, 2, 4]   \n",
       "nv                                                                         1000   \n",
       "option_compute_btable                                                         0   \n",
       "option_compute_ktable                                                         0   \n",
       "option_wgt_flux                                                               1   \n",
       "option_wgt_k                                                                  1   \n",
       "ref_pts                                       [[1, 250], [10, 250], [500, 250]]   \n",
       "tsfc                                                                        300   \n",
       "vmax                                                                        620   \n",
       "vmin                                                                        540   \n",
       "w_diffuse              [[1.6, 1.6, 1.7], [1.75, 1.75], [1.55, 1.55, 1.6, 1.85]]   \n",
       "wgt                        [[0.7, 0.3, 0.7], [0.7, 0.6], [0.4, 0.5, 0.8, 0.95]]   \n",
       "\n",
       "                                                                                   \\\n",
       "                                                                       band3b co2   \n",
       "atmpro                                                                        trp   \n",
       "band                                                                           3b   \n",
       "commitnumber                                                              a22ab94   \n",
       "conc                                                                       0.0004   \n",
       "dv                                                                          0.001   \n",
       "klin                                                                            0   \n",
       "molecule                                                                      co2   \n",
       "ng_adju                                                                    [0, 0]   \n",
       "ng_refs                                                                    [5, 4]   \n",
       "nv                                                                           1000   \n",
       "option_compute_btable                                                           0   \n",
       "option_compute_ktable                                                           0   \n",
       "option_wgt_flux                                                                 1   \n",
       "option_wgt_k                                                                    1   \n",
       "ref_pts                                                     [[1, 250], [10, 250]]   \n",
       "tsfc                                                                          300   \n",
       "vmax                                                                          720   \n",
       "vmin                                                                          620   \n",
       "w_diffuse              [[1.66, 1.66, 1.66, 1.66, 1.66], [1.66, 1.66, 1.66, 1.66]]   \n",
       "wgt                             [[0, 0.5, 0.4, 0.6, 0.65], [0.7, 0.7, 0.55, 0.6]]   \n",
       "\n",
       "                                                                             \\\n",
       "                                                                 band3c co2   \n",
       "atmpro                                                                  trp   \n",
       "band                                                                     3c   \n",
       "commitnumber                                                        a22ab94   \n",
       "conc                                                                 0.0004   \n",
       "dv                                                                    0.001   \n",
       "klin                                                            6.37556e-24   \n",
       "molecule                                                                co2   \n",
       "ng_adju                                                           [0, 0, 0]   \n",
       "ng_refs                                                           [3, 2, 4]   \n",
       "nv                                                                     1000   \n",
       "option_compute_btable                                                     0   \n",
       "option_compute_ktable                                                     0   \n",
       "option_wgt_flux                                                           1   \n",
       "option_wgt_k                                                              1   \n",
       "ref_pts                                   [[1, 250], [10, 250], [500, 250]]   \n",
       "tsfc                                                                    300   \n",
       "vmax                                                                    800   \n",
       "vmin                                                                    720   \n",
       "w_diffuse               [[1.7, 1.6, 1.8], [1.8, 1.7], [1.5, 1.6, 1.7, 1.8]]   \n",
       "wgt                    [[0.6, 0.4, 0.7], [0.7, 0.4], [0.3, 0.4, 0.85, 0.9]]   \n",
       "\n",
       "                                                                       \\\n",
       "                                    band4 co2               band5 co2   \n",
       "atmpro                                    trp                     trp   \n",
       "band                                        4                       5   \n",
       "commitnumber                          a22ab94                 a22ab94   \n",
       "conc                                   0.0004                  0.0004   \n",
       "dv                                      0.001                   0.001   \n",
       "klin                                  6.5e-24                 6.5e-24   \n",
       "molecule                                  co2                     co2   \n",
       "ng_adju                                [0, 0]                  [0, 0]   \n",
       "ng_refs                                [1, 2]                  [1, 2]   \n",
       "nv                                       1000                    1000   \n",
       "option_compute_btable                       0                       0   \n",
       "option_compute_ktable                       0                       0   \n",
       "option_wgt_flux                             1                       1   \n",
       "option_wgt_k                                1                       1   \n",
       "ref_pts                [[1, 250], [500, 250]]  [[1, 250], [500, 250]]   \n",
       "tsfc                                      300                     300   \n",
       "vmax                                      980                    1100   \n",
       "vmin                                      800                     980   \n",
       "w_diffuse               [[1.75], [1.66, 1.9]]   [[1.75], [1.66, 1.9]]   \n",
       "wgt                    [[0.75], [0.75, 0.95]]  [[0.75], [0.75, 0.95]]   \n",
       "\n",
       "                                                                \n",
       "                                                     band9 co2  \n",
       "atmpro                                                     trp  \n",
       "band                                                         9  \n",
       "commitnumber                                           a22ab94  \n",
       "conc                                                    0.0004  \n",
       "dv                                                       0.001  \n",
       "klin                                                   6.5e-24  \n",
       "molecule                                                   co2  \n",
       "ng_adju                                                 [0, 0]  \n",
       "ng_refs                                                 [3, 3]  \n",
       "nv                                                        1000  \n",
       "option_compute_btable                                        0  \n",
       "option_compute_ktable                                        0  \n",
       "option_wgt_flux                                              1  \n",
       "option_wgt_k                                                 1  \n",
       "ref_pts                                  [[1, 250], [50, 250]]  \n",
       "tsfc                                                       300  \n",
       "vmax                                                      3000  \n",
       "vmin                                                      1900  \n",
       "w_diffuse              [[1.66, 1.66, 1.75], [1.75, 1.6, 1.85]]  \n",
       "wgt                         [[0.7, 0.8, 0.7], [0.8, 0.7, 0.8]]  "
      ]
     },
     "metadata": {},
     "output_type": "display_data"
    },
    {
     "data": {
      "text/html": [
       "<a id=\"Cooling_rates._trp.\"></a>"
      ],
      "text/plain": [
       "<IPython.core.display.HTML object>"
      ]
     },
     "metadata": {},
     "output_type": "display_data"
    },
    {
     "data": {
      "text/markdown": [
       "# Cooling rates. trp."
      ],
      "text/plain": [
       "<IPython.core.display.Markdown object>"
      ]
     },
     "metadata": {},
     "output_type": "display_data"
    },
    {
     "data": {
      "text/html": [
       "\n",
       "<div class=\"bk-root\">\n",
       "    <div class=\"bk-plotdiv\" id=\"ff129b87-fda6-41ad-9e95-8961e8295206\"></div>\n",
       "</div>"
      ]
     },
     "metadata": {},
     "output_type": "display_data"
    },
    {
     "data": {
      "application/javascript": [
       "(function(root) {\n",
       "  function embed_document(root) {\n",
       "    \n",
       "  var docs_json = {\"443d4420-1b6e-4fe9-9be5-cf4f0c925cf5\":{\"roots\":{\"references\":[{\"attributes\":{\"line_alpha\":0.8,\"line_color\":\"#984ea3\",\"line_width\":1.5,\"x\":{\"field\":\"x\"},\"y\":{\"field\":\"y\"}},\"id\":\"590f9ff8-a6e7-4793-b75d-1e2a7efa5572\",\"type\":\"Line\"},{\"attributes\":{\"active_drag\":\"auto\",\"active_inspect\":\"auto\",\"active_scroll\":\"auto\",\"active_tap\":\"auto\",\"tools\":[{\"id\":\"34829eb0-4234-423d-8e7b-b1ec0716fcda\",\"type\":\"PanTool\"},{\"id\":\"1323d6c1-9370-41bb-87ab-273b2036b80c\",\"type\":\"WheelZoomTool\"},{\"id\":\"3cfd9f07-132b-4f12-bb7f-546500b3f5af\",\"type\":\"BoxZoomTool\"},{\"id\":\"38980599-0d6f-48e3-bf4c-a0cdbb868550\",\"type\":\"SaveTool\"},{\"id\":\"962c42ba-249d-4026-9f4a-14e7ccc20fac\",\"type\":\"ResetTool\"},{\"id\":\"1d2d1c36-d113-43d9-aeee-fb4279206b13\",\"type\":\"HelpTool\"}]},\"id\":\"dd4d318b-62b3-47b7-b468-fe827475d488\",\"type\":\"Toolbar\"},{\"attributes\":{\"callback\":null,\"end\":0.26245584028143576,\"start\":-0.6652815386304362},\"id\":\"e5263cd4-6a00-4376-964c-6a25e4d20a1d\",\"type\":\"Range1d\"},{\"attributes\":{},\"id\":\"6132ab0d-35c4-4a63-88f7-8fe61b1ed2bb\",\"type\":\"Selection\"},{\"attributes\":{},\"id\":\"24faa539-03fb-4e81-970b-c9a8baadd32d\",\"type\":\"LinearScale\"},{\"attributes\":{\"fill_alpha\":{\"value\":0.7},\"fill_color\":{\"value\":\"#4daf4a\"},\"line_alpha\":{\"value\":0.7},\"line_color\":{\"value\":\"#4daf4a\"},\"x\":{\"field\":\"x\"},\"y\":{\"field\":\"y\"}},\"id\":\"12993186-212f-47f6-977d-3f9d23d7f890\",\"type\":\"Circle\"},{\"attributes\":{},\"id\":\"7655cdba-7948-4fde-96d3-afaa420c57d1\",\"type\":\"LogScale\"},{\"attributes\":{\"fill_alpha\":{\"value\":0.1},\"fill_color\":{\"value\":\"#1f77b4\"},\"line_alpha\":{\"value\":0.1},\"line_color\":{\"value\":\"#1f77b4\"},\"x\":{\"field\":\"x\"},\"y\":{\"field\":\"y\"}},\"id\":\"a5a7a0fa-32c8-4d63-b8aa-6f4e5a5f638d\",\"type\":\"Circle\"},{\"attributes\":{\"axis_label\":\"cooling rate [K/day]\",\"formatter\":{\"id\":\"51b41233-a776-4ec4-a7b0-5bd31b456abd\",\"type\":\"BasicTickFormatter\"},\"plot\":{\"id\":\"39b6f18f-4802-4090-9fde-7371b16a6f6c\",\"subtype\":\"Figure\",\"type\":\"Plot\"},\"ticker\":{\"id\":\"cff82be3-14ee-42e8-bec1-5c1f345af9af\",\"type\":\"BasicTicker\"}},\"id\":\"52a238c0-7739-4b1b-ae59-4300a3b52d39\",\"type\":\"LinearAxis\"},{\"attributes\":{},\"id\":\"cff82be3-14ee-42e8-bec1-5c1f345af9af\",\"type\":\"BasicTicker\"},{\"attributes\":{},\"id\":\"4140b10d-23e5-4643-b5f2-eca23a0c6092\",\"type\":\"HelpTool\"},{\"attributes\":{\"plot\":{\"id\":\"ecb492b3-5996-4045-a390-d49c342f6cf2\",\"subtype\":\"Figure\",\"type\":\"Plot\"},\"ticker\":{\"id\":\"9da553e8-7915-4c3c-a51c-cd26cdb81fc4\",\"type\":\"BasicTicker\"}},\"id\":\"952d8751-c131-4e8a-97da-483d72560fb9\",\"type\":\"Grid\"},{\"attributes\":{\"active_drag\":\"auto\",\"active_inspect\":\"auto\",\"active_scroll\":\"auto\",\"active_tap\":\"auto\",\"tools\":[{\"id\":\"41c1e115-1f6f-4c91-8b27-32af68d3302d\",\"type\":\"PanTool\"},{\"id\":\"e4c53177-d2e2-4c03-aa5f-9caa20ce286a\",\"type\":\"WheelZoomTool\"},{\"id\":\"67a6dbaa-786f-4545-b121-b7536132e52c\",\"type\":\"BoxZoomTool\"},{\"id\":\"0b541959-d221-4581-bb47-070144828fc4\",\"type\":\"SaveTool\"},{\"id\":\"bab296fc-9ffd-40f9-a3a2-1b70a41ddffa\",\"type\":\"ResetTool\"},{\"id\":\"a1a27faa-0823-46e5-b17d-fdfdd8bcaef0\",\"type\":\"HelpTool\"}]},\"id\":\"b088ca4a-64cf-4cd7-8c2e-931372145b77\",\"type\":\"Toolbar\"},{\"attributes\":{\"bottom_units\":\"screen\",\"fill_alpha\":{\"value\":0.5},\"fill_color\":{\"value\":\"lightgrey\"},\"left_units\":\"screen\",\"level\":\"overlay\",\"line_alpha\":{\"value\":1.0},\"line_color\":{\"value\":\"black\"},\"line_dash\":[4,4],\"line_width\":{\"value\":2},\"plot\":null,\"render_mode\":\"css\",\"right_units\":\"screen\",\"top_units\":\"screen\"},\"id\":\"3de1cc7f-de5c-47e0-ae35-0f06cd484065\",\"type\":\"BoxAnnotation\"},{\"attributes\":{\"callback\":null,\"data\":{\"x\":{\"__ndarray__\":\"XtGHGe5rU0AhI5ak4dVEQCHwZtVX90BAVl0Z1iEWO0DM/F41sl01QO4nLsZ1yjBAtIOfiT17KkDpjFSAzw4lQDx7Lq2J5yBAiDG8pGROG0ALpCecqvsVQJQd2VDRThFAiMjyczRICUCJZCf18Pb6P129EJnnafM/PLAiSrmRAEDjTNdGTOgHQALkkDIGlQ1AKVCqLmO/EUAr/95Gg2QVQI2gO7nr1hpAlP7xhh6KIUBgzDNvU+IhQI0kwNIeLx5AB2XM1ht7GUCVwCP7L3oUQOjecKrKtRBALssD5QHpC0D8TeAbQHMHQMj2Gd/wjgNAicZikzQCAEAS9eGvNnv5P8RrCcnlqfM/smZzKWdt7j+AiDkz2kzhP84fkaABEZI/DVIC1Yar1b/6YKlvJPvQv/Rj+wbxs0g/u1u/sBdHsj9Jqf0NeFK8P5Q+pwYIkME/Iy/p8ZAXxD8CIwZoiRXGPwFmi0xpt8c/59seKbIVyT8gQ263A0LKP1Nv113QSMs/Jnbl18gxzD/0MWq3ggfNP0nMlb+r0M0/YoLsiYSTzj/h574lSlLPPwSpAkRGCdA/+CBztZNt0D9jRXWYqNfQP7jA8OzgTNE/6Zb9aE/X0T+Kv6TF3ITSP3gNCY25ddM/Gnz4vsq41D+nyXpLiPHVPwbIUE6/J9Y/BYUEMIzg1D9mTDQ/UeHSPzUEpGrgRNE/SqNK5G2y0D+km+/M4ynRP09n/aZ/HtI/bf/HkQEn0z8QdtpOFDDUP+p03H7rU9U/+CHJ0VO+1j+6yEiKJOfYP6LiH2LfleE/\",\"dtype\":\"float64\",\"shape\":[75]},\"y\":{\"__ndarray__\":\"GhExyth1ND/Sv8nbtpRIP2vylNV0PVE/aTum7souWD/At0SJ8fVgPw3Iuahxymc/MSNhhJWvcD/bTfBN02d3P2zb5nxnaoA/CD5h5MAGhz8NmeH1TyaQP+zrCsc9p5Y/LbKd76fGnz/bLW5ISEmmPww9YvTcQq8/JV2OstnstT8Er5Y7M8G+P0c+r3jqkcU/5h99k6ZBzj88bCIzFzjVP4enV8oyxN0//yH99nXg5D8qOpLLf0jtP5kqGJXUifQ/c9cS8kHP/D+/DpwzojQEQIEmwoanVwxA4lgXt9HgE0BSSZ2AJuIbQAMJih9jjiNA5q4l5INuK0AwTKYKRj0zQNv5fmq8/DpAaCJseHrtQkB/+zpwzoxKQM3MzMzMeFJAZmZmZmZqWEAAAAAAAFxeQM3MzMzMJmJAmpmZmZkfZUBmZmZmZhhoQDMzMzMzEWtAAAAAAAAKbkBmZmZmZoFwQM3MzMzM/XFAMzMzMzN6c0CamZmZmfZ0QAAAAAAAc3ZAZmZmZmbvd0DNzMzMzGt5QDMzMzMz6HpAmpmZmZlkfEAAAAAAAOF9QGZmZmZmXX9AZmZmZuZsgECamZmZGSuBQM3MzMxM6YFAAAAAAICngkAzMzMzs2WDQGZmZmbmI4RAmpmZmRnihEDNzMzMTKCFQAAAAACAXoZAMzMzM7Mch0BmZmZm5tqHQJqZmZkZmYhAzczMzExXiUAAAAAAgBWKQDMzMzOz04pAZmZmZuaRi0CamZmZGVCMQM3MzMxMDo1AAAAAAIDMjUAzMzMzs4qOQGZmZmbmSI9A\",\"dtype\":\"float64\",\"shape\":[75]}},\"selected\":{\"id\":\"58b04967-aabc-4963-af63-3e09e7ed9f32\",\"type\":\"Selection\"},\"selection_policy\":{\"id\":\"67c2c847-fe77-429e-a87f-271d8643a0ab\",\"type\":\"UnionRenderers\"}},\"id\":\"5a97d1ee-eec5-4ead-a1a7-f4933fa51723\",\"type\":\"ColumnDataSource\"},{\"attributes\":{},\"id\":\"728a9d60-4b74-43d7-9145-aeaa120c640e\",\"type\":\"LogScale\"},{\"attributes\":{},\"id\":\"f43124af-b8a1-4fb5-9df7-385a54045f5a\",\"type\":\"Selection\"},{\"attributes\":{\"items\":[{\"id\":\"4fa5dd5b-5753-4c29-80b9-abe12b49b33c\",\"type\":\"LegendItem\"}],\"label_text_font_size\":{\"value\":\"8pt\"},\"location\":\"top_center\",\"orientation\":\"horizontal\",\"plot\":{\"id\":\"ecb492b3-5996-4045-a390-d49c342f6cf2\",\"subtype\":\"Figure\",\"type\":\"Plot\"}},\"id\":\"92ec30bf-e59a-4d06-ae86-48445e6c4ae3\",\"type\":\"Legend\"},{\"attributes\":{\"callback\":null,\"data\":{\"x\":{\"__ndarray__\":\"XtGHGe5rU0AhI5ak4dVEQCHwZtVX90BAVl0Z1iEWO0DM/F41sl01QO4nLsZ1yjBAtIOfiT17KkDpjFSAzw4lQDx7Lq2J5yBAiDG8pGROG0ALpCecqvsVQJQd2VDRThFAiMjyczRICUCJZCf18Pb6P129EJnnafM/PLAiSrmRAEDjTNdGTOgHQALkkDIGlQ1AKVCqLmO/EUAr/95Gg2QVQI2gO7nr1hpAlP7xhh6KIUBgzDNvU+IhQI0kwNIeLx5AB2XM1ht7GUCVwCP7L3oUQOjecKrKtRBALssD5QHpC0D8TeAbQHMHQMj2Gd/wjgNAicZikzQCAEAS9eGvNnv5P8RrCcnlqfM/smZzKWdt7j+AiDkz2kzhP84fkaABEZI/DVIC1Yar1b/6YKlvJPvQv/Rj+wbxs0g/u1u/sBdHsj9Jqf0NeFK8P5Q+pwYIkME/Iy/p8ZAXxD8CIwZoiRXGPwFmi0xpt8c/59seKbIVyT8gQ263A0LKP1Nv113QSMs/Jnbl18gxzD/0MWq3ggfNP0nMlb+r0M0/YoLsiYSTzj/h574lSlLPPwSpAkRGCdA/+CBztZNt0D9jRXWYqNfQP7jA8OzgTNE/6Zb9aE/X0T+Kv6TF3ITSP3gNCY25ddM/Gnz4vsq41D+nyXpLiPHVPwbIUE6/J9Y/BYUEMIzg1D9mTDQ/UeHSPzUEpGrgRNE/SqNK5G2y0D+km+/M4ynRP09n/aZ/HtI/bf/HkQEn0z8QdtpOFDDUP+p03H7rU9U/+CHJ0VO+1j+6yEiKJOfYP6LiH2LfleE/\",\"dtype\":\"float64\",\"shape\":[75]},\"y\":{\"__ndarray__\":\"GhExyth1ND/Sv8nbtpRIP2vylNV0PVE/aTum7souWD/At0SJ8fVgPw3Iuahxymc/MSNhhJWvcD/bTfBN02d3P2zb5nxnaoA/CD5h5MAGhz8NmeH1TyaQP+zrCsc9p5Y/LbKd76fGnz/bLW5ISEmmPww9YvTcQq8/JV2OstnstT8Er5Y7M8G+P0c+r3jqkcU/5h99k6ZBzj88bCIzFzjVP4enV8oyxN0//yH99nXg5D8qOpLLf0jtP5kqGJXUifQ/c9cS8kHP/D+/DpwzojQEQIEmwoanVwxA4lgXt9HgE0BSSZ2AJuIbQAMJih9jjiNA5q4l5INuK0AwTKYKRj0zQNv5fmq8/DpAaCJseHrtQkB/+zpwzoxKQM3MzMzMeFJAZmZmZmZqWEAAAAAAAFxeQM3MzMzMJmJAmpmZmZkfZUBmZmZmZhhoQDMzMzMzEWtAAAAAAAAKbkBmZmZmZoFwQM3MzMzM/XFAMzMzMzN6c0CamZmZmfZ0QAAAAAAAc3ZAZmZmZmbvd0DNzMzMzGt5QDMzMzMz6HpAmpmZmZlkfEAAAAAAAOF9QGZmZmZmXX9AZmZmZuZsgECamZmZGSuBQM3MzMxM6YFAAAAAAICngkAzMzMzs2WDQGZmZmbmI4RAmpmZmRnihEDNzMzMTKCFQAAAAACAXoZAMzMzM7Mch0BmZmZm5tqHQJqZmZkZmYhAzczMzExXiUAAAAAAgBWKQDMzMzOz04pAZmZmZuaRi0CamZmZGVCMQM3MzMxMDo1AAAAAAIDMjUAzMzMzs4qOQGZmZmbmSI9A\",\"dtype\":\"float64\",\"shape\":[75]}},\"selected\":{\"id\":\"d5e5f307-80b6-4ff0-9db1-017d46bdef2b\",\"type\":\"Selection\"},\"selection_policy\":{\"id\":\"d685b330-61f0-45e3-837e-62f5e47dda70\",\"type\":\"UnionRenderers\"}},\"id\":\"994b59ef-53b5-4313-9475-9f78715b74bf\",\"type\":\"ColumnDataSource\"},{\"attributes\":{\"items\":[{\"id\":\"85619ac4-c388-49ad-8d99-8180a2d4160d\",\"type\":\"LegendItem\"},{\"id\":\"54438c79-481b-4de8-9c3e-de332a84e5fe\",\"type\":\"LegendItem\"}],\"label_text_font_size\":{\"value\":\"8pt\"},\"location\":\"top_center\",\"orientation\":\"horizontal\",\"plot\":{\"id\":\"39b6f18f-4802-4090-9fde-7371b16a6f6c\",\"subtype\":\"Figure\",\"type\":\"Plot\"}},\"id\":\"e6dcdd40-52bb-4c51-86aa-d07907e23135\",\"type\":\"Legend\"},{\"attributes\":{},\"id\":\"f0eeb768-9fbf-4243-a3b7-aed5112c7aa0\",\"type\":\"UnionRenderers\"},{\"attributes\":{\"children\":[{\"id\":\"2b1bdd77-cedd-4823-b7a5-0b276fdb3b3d\",\"type\":\"Row\"}]},\"id\":\"1e6de32c-387a-49eb-b52f-404f48d32521\",\"type\":\"Column\"},{\"attributes\":{\"dimension\":1,\"plot\":{\"id\":\"626752e4-ffe8-4d0b-a1f0-e8f8956838fc\",\"subtype\":\"Figure\",\"type\":\"Plot\"},\"ticker\":{\"id\":\"2abd9dd1-8ca8-4d9b-883f-bb0b7adebf9e\",\"type\":\"BasicTicker\"}},\"id\":\"8450fb0c-c0ed-4ae1-a2c6-60341eaea098\",\"type\":\"Grid\"},{\"attributes\":{\"dimension\":1,\"plot\":{\"id\":\"ecb492b3-5996-4045-a390-d49c342f6cf2\",\"subtype\":\"Figure\",\"type\":\"Plot\"},\"ticker\":{\"id\":\"bbc53313-fa96-4290-a4f5-75354843c865\",\"type\":\"LogTicker\"}},\"id\":\"407fcaa2-4197-4b14-9bca-542ea634cf2f\",\"type\":\"Grid\"},{\"attributes\":{\"label\":{\"value\":\"CLIRAD\"},\"renderers\":[{\"id\":\"c82365fb-5453-4252-a01d-89d4a09f957d\",\"type\":\"GlyphRenderer\"}]},\"id\":\"85619ac4-c388-49ad-8d99-8180a2d4160d\",\"type\":\"LegendItem\"},{\"attributes\":{\"num_minor_ticks\":10},\"id\":\"bbc53313-fa96-4290-a4f5-75354843c865\",\"type\":\"LogTicker\"},{\"attributes\":{\"axis_label\":\"pressure [mb]\",\"formatter\":{\"id\":\"2bbba703-7c89-4ce7-bd39-ab9dc40bb103\",\"type\":\"LogTickFormatter\"},\"plot\":{\"id\":\"ecb492b3-5996-4045-a390-d49c342f6cf2\",\"subtype\":\"Figure\",\"type\":\"Plot\"},\"ticker\":{\"id\":\"bbc53313-fa96-4290-a4f5-75354843c865\",\"type\":\"LogTicker\"}},\"id\":\"a3f05699-62fd-45e3-b00c-d2f4f8882709\",\"type\":\"LogAxis\"},{\"attributes\":{},\"id\":\"9da553e8-7915-4c3c-a51c-cd26cdb81fc4\",\"type\":\"BasicTicker\"},{\"attributes\":{\"axis_label\":\"cooling rate [K/day]\",\"formatter\":{\"id\":\"bedff028-2274-4bb2-83f9-f1d7f649bde6\",\"type\":\"BasicTickFormatter\"},\"plot\":{\"id\":\"ecb492b3-5996-4045-a390-d49c342f6cf2\",\"subtype\":\"Figure\",\"type\":\"Plot\"},\"ticker\":{\"id\":\"9da553e8-7915-4c3c-a51c-cd26cdb81fc4\",\"type\":\"BasicTicker\"}},\"id\":\"97c389b6-63d2-4c91-92b1-80ace18d29d1\",\"type\":\"LinearAxis\"},{\"attributes\":{\"overlay\":{\"id\":\"3de1cc7f-de5c-47e0-ae35-0f06cd484065\",\"type\":\"BoxAnnotation\"}},\"id\":\"67a6dbaa-786f-4545-b121-b7536132e52c\",\"type\":\"BoxZoomTool\"},{\"attributes\":{\"bottom_units\":\"screen\",\"fill_alpha\":{\"value\":0.5},\"fill_color\":{\"value\":\"lightgrey\"},\"left_units\":\"screen\",\"level\":\"overlay\",\"line_alpha\":{\"value\":1.0},\"line_color\":{\"value\":\"black\"},\"line_dash\":[4,4],\"line_width\":{\"value\":2},\"plot\":null,\"render_mode\":\"css\",\"right_units\":\"screen\",\"top_units\":\"screen\"},\"id\":\"a0a552b3-891d-43cf-94a7-0c785a0ffcf9\",\"type\":\"BoxAnnotation\"},{\"attributes\":{},\"id\":\"e8bb9971-c253-4535-aec8-ce94d9559747\",\"type\":\"WheelZoomTool\"},{\"attributes\":{},\"id\":\"ff0e15cd-d67b-4686-bbd7-0ddc49bf0356\",\"type\":\"ResetTool\"},{\"attributes\":{\"callback\":null,\"data\":{\"x\":{\"__ndarray__\":\"qmUOMUhtNsCA3gXLa5bZP5A6i1lpYwRAqPhoL6nHBkCgoj7qUF77PwAwujL7pYK/kOKLdaF19L+o84H++8L5v+iluPm/cfO/kIEP8Hn/5L9w8XOV63PWv0Be7AAwvtO/2Coue37I2b+A+ldkyojZv25Mgt/yuNK/oMeqheOHvb8ATYgxapO4P3iVBXAON9A/QA9IanRIzT+AZf13+GOhv9Ck+oLK2da/YNMyEK3b3b+A62vgphzPv0Cwsx1bLbC/4Dt7bSN9w7+g+5X2TATNvwDUIkVM4HY/YPAaDaXtxz/waSc6uAPEPwANCS+K3K8/wGrwEJQKrT8AqhauKEGRv+CtogsB0aG/4J2YiZAsqj+Q6i46IV6uP00Gg5/Cjoi/aIZhziZ7ob8A3XhN2XBgv3WCFgwil44/YDdlmRLUez+AoLGf1/xnPwCGQoIXWzQ/4PKEvqoUcb8wJJ7kT2uGv2hjJEmwo5K/oAxI6HADmb/oO1CUF/GdvyCIzmBJPJ+/KNcvFF1Vn7+4d/hW9wKdv5gun5qY6Ji/iFkwJEGNlb/QYDOlFT6PvzAJJHSCJIi/QDgpDNtfd7+Aj0+Pq1BmvwAFUNvOi1o/wAS3yTWdcT/AQcWNbvx7P2BgRa6mP4I/gF7xMcJbhT+AbjHL38eHP6BSSwgRO4c/4MZRs3WYiT/g1CnLoISJPwBGAjTEqYk/ACPckbc8iD8gbXYKCo+JP4Bct0lzO4g/wMaA2IjkhT+AkF+VSSSIP+CJ/p+BVIc/QL6imkfbhT/Au3wSC0WKP8AaGJoIUIQ/\",\"dtype\":\"float64\",\"shape\":[75]},\"y\":{\"__ndarray__\":\"GhExyth1ND/Sv8nbtpRIP2vylNV0PVE/aTum7souWD/At0SJ8fVgPw3Iuahxymc/MSNhhJWvcD/bTfBN02d3P2zb5nxnaoA/CD5h5MAGhz8NmeH1TyaQP+zrCsc9p5Y/LbKd76fGnz/bLW5ISEmmPww9YvTcQq8/JV2OstnstT8Er5Y7M8G+P0c+r3jqkcU/5h99k6ZBzj88bCIzFzjVP4enV8oyxN0//yH99nXg5D8qOpLLf0jtP5kqGJXUifQ/c9cS8kHP/D+/DpwzojQEQIEmwoanVwxA4lgXt9HgE0BSSZ2AJuIbQAMJih9jjiNA5q4l5INuK0AwTKYKRj0zQNv5fmq8/DpAaCJseHrtQkB/+zpwzoxKQM3MzMzMeFJAZmZmZmZqWEAAAAAAAFxeQM3MzMzMJmJAmpmZmZkfZUBmZmZmZhhoQDMzMzMzEWtAAAAAAAAKbkBmZmZmZoFwQM3MzMzM/XFAMzMzMzN6c0CamZmZmfZ0QAAAAAAAc3ZAZmZmZmbvd0DNzMzMzGt5QDMzMzMz6HpAmpmZmZlkfEAAAAAAAOF9QGZmZmZmXX9AZmZmZuZsgECamZmZGSuBQM3MzMxM6YFAAAAAAICngkAzMzMzs2WDQGZmZmbmI4RAmpmZmRnihEDNzMzMTKCFQAAAAACAXoZAMzMzM7Mch0BmZmZm5tqHQJqZmZkZmYhAzczMzExXiUAAAAAAgBWKQDMzMzOz04pAZmZmZuaRi0CamZmZGVCMQM3MzMxMDo1AAAAAAIDMjUAzMzMzs4qOQGZmZmbmSI9A\",\"dtype\":\"float64\",\"shape\":[75]}},\"selected\":{\"id\":\"9d406ea4-035e-44dc-8f2a-48ebb57f7819\",\"type\":\"Selection\"},\"selection_policy\":{\"id\":\"f0eeb768-9fbf-4243-a3b7-aed5112c7aa0\",\"type\":\"UnionRenderers\"}},\"id\":\"3f43403c-c8eb-4f63-8be7-df5aa8ec1116\",\"type\":\"ColumnDataSource\"},{\"attributes\":{},\"id\":\"41c1e115-1f6f-4c91-8b27-32af68d3302d\",\"type\":\"PanTool\"},{\"attributes\":{},\"id\":\"4659d0b8-31de-45e8-9ae8-14f355ba5d01\",\"type\":\"UnionRenderers\"},{\"attributes\":{},\"id\":\"38980599-0d6f-48e3-bf4c-a0cdbb868550\",\"type\":\"SaveTool\"},{\"attributes\":{},\"id\":\"e4c53177-d2e2-4c03-aa5f-9caa20ce286a\",\"type\":\"WheelZoomTool\"},{\"attributes\":{\"plot\":null,\"text\":\"\"},\"id\":\"4707814a-6231-471d-8de6-03f2f7ab03cf\",\"type\":\"Title\"},{\"attributes\":{\"callback\":null,\"data\":{\"x\":{\"__ndarray__\":\"XtGHGe5rU0AhI5ak4dVEQCHwZtVX90BAVl0Z1iEWO0DM/F41sl01QO4nLsZ1yjBAtIOfiT17KkDpjFSAzw4lQDx7Lq2J5yBAiDG8pGROG0ALpCecqvsVQJQd2VDRThFAiMjyczRICUCJZCf18Pb6P129EJnnafM/PLAiSrmRAEDjTNdGTOgHQALkkDIGlQ1AKVCqLmO/EUAr/95Gg2QVQI2gO7nr1hpAlP7xhh6KIUBgzDNvU+IhQI0kwNIeLx5AB2XM1ht7GUCVwCP7L3oUQOjecKrKtRBALssD5QHpC0D8TeAbQHMHQMj2Gd/wjgNAicZikzQCAEAS9eGvNnv5P8RrCcnlqfM/smZzKWdt7j+AiDkz2kzhP84fkaABEZI/DVIC1Yar1b/6YKlvJPvQv/Rj+wbxs0g/u1u/sBdHsj9Jqf0NeFK8P5Q+pwYIkME/Iy/p8ZAXxD8CIwZoiRXGPwFmi0xpt8c/59seKbIVyT8gQ263A0LKP1Nv113QSMs/Jnbl18gxzD/0MWq3ggfNP0nMlb+r0M0/YoLsiYSTzj/h574lSlLPPwSpAkRGCdA/+CBztZNt0D9jRXWYqNfQP7jA8OzgTNE/6Zb9aE/X0T+Kv6TF3ITSP3gNCY25ddM/Gnz4vsq41D+nyXpLiPHVPwbIUE6/J9Y/BYUEMIzg1D9mTDQ/UeHSPzUEpGrgRNE/SqNK5G2y0D+km+/M4ynRP09n/aZ/HtI/bf/HkQEn0z8QdtpOFDDUP+p03H7rU9U/+CHJ0VO+1j+6yEiKJOfYP6LiH2LfleE/\",\"dtype\":\"float64\",\"shape\":[75]},\"y\":{\"__ndarray__\":\"GhExyth1ND/Sv8nbtpRIP2vylNV0PVE/aTum7souWD/At0SJ8fVgPw3Iuahxymc/MSNhhJWvcD/bTfBN02d3P2zb5nxnaoA/CD5h5MAGhz8NmeH1TyaQP+zrCsc9p5Y/LbKd76fGnz/bLW5ISEmmPww9YvTcQq8/JV2OstnstT8Er5Y7M8G+P0c+r3jqkcU/5h99k6ZBzj88bCIzFzjVP4enV8oyxN0//yH99nXg5D8qOpLLf0jtP5kqGJXUifQ/c9cS8kHP/D+/DpwzojQEQIEmwoanVwxA4lgXt9HgE0BSSZ2AJuIbQAMJih9jjiNA5q4l5INuK0AwTKYKRj0zQNv5fmq8/DpAaCJseHrtQkB/+zpwzoxKQM3MzMzMeFJAZmZmZmZqWEAAAAAAAFxeQM3MzMzMJmJAmpmZmZkfZUBmZmZmZhhoQDMzMzMzEWtAAAAAAAAKbkBmZmZmZoFwQM3MzMzM/XFAMzMzMzN6c0CamZmZmfZ0QAAAAAAAc3ZAZmZmZmbvd0DNzMzMzGt5QDMzMzMz6HpAmpmZmZlkfEAAAAAAAOF9QGZmZmZmXX9AZmZmZuZsgECamZmZGSuBQM3MzMxM6YFAAAAAAICngkAzMzMzs2WDQGZmZmbmI4RAmpmZmRnihEDNzMzMTKCFQAAAAACAXoZAMzMzM7Mch0BmZmZm5tqHQJqZmZkZmYhAzczMzExXiUAAAAAAgBWKQDMzMzOz04pAZmZmZuaRi0CamZmZGVCMQM3MzMxMDo1AAAAAAIDMjUAzMzMzs4qOQGZmZmbmSI9A\",\"dtype\":\"float64\",\"shape\":[75]}},\"selected\":{\"id\":\"f43124af-b8a1-4fb5-9df7-385a54045f5a\",\"type\":\"Selection\"},\"selection_policy\":{\"id\":\"54b67551-3652-41c5-b695-95cc7a30ad74\",\"type\":\"UnionRenderers\"}},\"id\":\"0ceb2cce-93b2-4c11-a040-86dcbb236768\",\"type\":\"ColumnDataSource\"},{\"attributes\":{\"label\":{\"value\":\"CRD\"},\"renderers\":[{\"id\":\"3d993078-8b3b-4188-a605-7ed4b8614dc5\",\"type\":\"GlyphRenderer\"},{\"id\":\"5c6dc020-04d2-456f-ae5d-9a733f579384\",\"type\":\"GlyphRenderer\"}]},\"id\":\"54438c79-481b-4de8-9c3e-de332a84e5fe\",\"type\":\"LegendItem\"},{\"attributes\":{},\"id\":\"d685b330-61f0-45e3-837e-62f5e47dda70\",\"type\":\"UnionRenderers\"},{\"attributes\":{\"above\":[{\"id\":\"caf493db-147e-4fde-97bc-b8a4a77bd2bf\",\"type\":\"Legend\"}],\"below\":[{\"id\":\"35ffe26f-10b4-4c6f-a705-0504de460ef4\",\"type\":\"LinearAxis\"}],\"left\":[{\"id\":\"9d6dc36c-a5a6-4d77-8474-0fc019160d71\",\"type\":\"LinearAxis\"}],\"plot_width\":300,\"renderers\":[{\"id\":\"35ffe26f-10b4-4c6f-a705-0504de460ef4\",\"type\":\"LinearAxis\"},{\"id\":\"03e8384b-25e4-4130-982d-6e9a75a5205f\",\"type\":\"Grid\"},{\"id\":\"9d6dc36c-a5a6-4d77-8474-0fc019160d71\",\"type\":\"LinearAxis\"},{\"id\":\"8450fb0c-c0ed-4ae1-a2c6-60341eaea098\",\"type\":\"Grid\"},{\"id\":\"a0a552b3-891d-43cf-94a7-0c785a0ffcf9\",\"type\":\"BoxAnnotation\"},{\"id\":\"2fdc9574-a2bc-447b-b6c7-5509dda81d99\",\"type\":\"GlyphRenderer\"},{\"id\":\"e6fe01d3-dde3-4357-aecb-88d76dc01e9e\",\"type\":\"GlyphRenderer\"},{\"id\":\"9672543d-2d14-4d27-9db8-a37fc5d74685\",\"type\":\"GlyphRenderer\"},{\"id\":\"caf493db-147e-4fde-97bc-b8a4a77bd2bf\",\"type\":\"Legend\"}],\"title\":{\"id\":\"fa317a74-5a31-44a9-9fb4-de2f5c384043\",\"type\":\"Title\"},\"toolbar\":{\"id\":\"dd4d318b-62b3-47b7-b468-fe827475d488\",\"type\":\"Toolbar\"},\"toolbar_location\":null,\"x_range\":{\"id\":\"c1d149ad-56ab-4cdb-950e-ca14b99e261a\",\"type\":\"Range1d\"},\"x_scale\":{\"id\":\"b236f761-6f0b-4b86-b03c-7fa1f970bef0\",\"type\":\"LinearScale\"},\"y_range\":{\"id\":\"25683cc7-6724-4127-aa41-c753590aa5d9\",\"type\":\"Range1d\"},\"y_scale\":{\"id\":\"5ec5aabb-9c86-455b-9d12-0704c0526467\",\"type\":\"LinearScale\"}},\"id\":\"626752e4-ffe8-4d0b-a1f0-e8f8956838fc\",\"subtype\":\"Figure\",\"type\":\"Plot\"},{\"attributes\":{},\"id\":\"2abd9dd1-8ca8-4d9b-883f-bb0b7adebf9e\",\"type\":\"BasicTicker\"},{\"attributes\":{\"callback\":null,\"data\":{\"x\":{\"__ndarray__\":\"52+IGjihS0DeLix8DglFQMqj/2qOPUJAa3wG/BbvPUD25gJElxM3QKjQxwYhyDBAYgfuWonsJ0B0ToQAcNYhQP7M7luj8hxAVkG6ZnWuGED0ZNDia5QUQLBXylDuEhBALQONpCQPBkDpZRFcvpT0P4NUYMJVd+0//rPqW/RK/z9Lj2OY56wIQLGWkQDomw9Ao5D80aapEkBgBO9Vu0EVQED2CxFPaRlA+WdwHkGbIECyHLLT4GUhQMxVSWZp7h1AKItguzLfGEC4EG+TDZITQJ0ngr2CuxBANHrVNdxnDUCbxIKfe7MIQPwa1gdjDgRANIim4152AEBqmikNMjb5P1VWrMBdG/M/SHgGGRgI8D8pd9xGvDLjP55yPkOBJnc/2oLOruva17+0UkQiBhzRv1ocQ44wEZA/Ma9V2lgEtD9NNvvKXhK9P9dfaJI1msE/jAf1m+uOwz+/QLxp1K7EP5TZZkPzYsU/U9oVDET1xT+jO+TE4IPGP0+evTFHYcc/QXtfNR1HyD/9IovMI2fJP3bmQayYs8o/MXdmZdzhyz/UsWvLaF7NP3URw2BEkM4/F3xCSRQQ0D9EplZBB6vQP70QzLtsZ9E//HIkQMQd0j+R1Nt/zvTSP3s4e8K2B9Q/DgeI0Khj1T8bVdRJx6/WP5sik9aX4dY/PBOf3U+t1T8Nm41Fdq3TP2UWRIwuEtI/YoTZoFN00T8NT0MdXPbRPzMiS0Fb4NI/owWM2CXW0z+UcoWbNvHUPzlp3IuPDtY/6jeeDi5t1z+YrtziTLnZPw1DiIQf5+E/\",\"dtype\":\"float64\",\"shape\":[75]},\"y\":{\"__ndarray__\":\"GhExyth1ND/Sv8nbtpRIP2vylNV0PVE/aTum7souWD/At0SJ8fVgPw3Iuahxymc/MSNhhJWvcD/bTfBN02d3P2zb5nxnaoA/CD5h5MAGhz8NmeH1TyaQP+zrCsc9p5Y/LbKd76fGnz/bLW5ISEmmPww9YvTcQq8/JV2OstnstT8Er5Y7M8G+P0c+r3jqkcU/5h99k6ZBzj88bCIzFzjVP4enV8oyxN0//yH99nXg5D8qOpLLf0jtP5kqGJXUifQ/c9cS8kHP/D+/DpwzojQEQIEmwoanVwxA4lgXt9HgE0BSSZ2AJuIbQAMJih9jjiNA5q4l5INuK0AwTKYKRj0zQNv5fmq8/DpAaCJseHrtQkB/+zpwzoxKQM3MzMzMeFJAZmZmZmZqWEAAAAAAAFxeQM3MzMzMJmJAmpmZmZkfZUBmZmZmZhhoQDMzMzMzEWtAAAAAAAAKbkBmZmZmZoFwQM3MzMzM/XFAMzMzMzN6c0CamZmZmfZ0QAAAAAAAc3ZAZmZmZmbvd0DNzMzMzGt5QDMzMzMz6HpAmpmZmZlkfEAAAAAAAOF9QGZmZmZmXX9AZmZmZuZsgECamZmZGSuBQM3MzMxM6YFAAAAAAICngkAzMzMzs2WDQGZmZmbmI4RAmpmZmRnihEDNzMzMTKCFQAAAAACAXoZAMzMzM7Mch0BmZmZm5tqHQJqZmZkZmYhAzczMzExXiUAAAAAAgBWKQDMzMzOz04pAZmZmZuaRi0CamZmZGVCMQM3MzMxMDo1AAAAAAIDMjUAzMzMzs4qOQGZmZmbmSI9A\",\"dtype\":\"float64\",\"shape\":[75]}},\"selected\":{\"id\":\"98ddbe82-8123-4df3-be7b-28e4e92761c1\",\"type\":\"Selection\"},\"selection_policy\":{\"id\":\"4659d0b8-31de-45e8-9ae8-14f355ba5d01\",\"type\":\"UnionRenderers\"}},\"id\":\"aea3f045-3261-4fb9-8525-17f96682a24d\",\"type\":\"ColumnDataSource\"},{\"attributes\":{\"line_alpha\":0.6,\"line_color\":\"#e41a1c\",\"line_dash\":[6],\"line_width\":5,\"x\":{\"field\":\"x\"},\"y\":{\"field\":\"y\"}},\"id\":\"87298930-1a24-4dc1-879e-55e403df8514\",\"type\":\"Line\"},{\"attributes\":{},\"id\":\"0b541959-d221-4581-bb47-070144828fc4\",\"type\":\"SaveTool\"},{\"attributes\":{},\"id\":\"bab296fc-9ffd-40f9-a3a2-1b70a41ddffa\",\"type\":\"ResetTool\"},{\"attributes\":{\"line_color\":\"#4daf4a\",\"line_width\":1.5,\"x\":{\"field\":\"x\"},\"y\":{\"field\":\"y\"}},\"id\":\"a2f96dda-101c-427a-993e-07cb416a146c\",\"type\":\"Line\"},{\"attributes\":{},\"id\":\"a1a27faa-0823-46e5-b17d-fdfdd8bcaef0\",\"type\":\"HelpTool\"},{\"attributes\":{\"source\":{\"id\":\"aea3f045-3261-4fb9-8525-17f96682a24d\",\"type\":\"ColumnDataSource\"}},\"id\":\"4a17e449-5e79-4162-8fbe-1522eb5f9e7f\",\"type\":\"CDSView\"},{\"attributes\":{\"source\":{\"id\":\"0ceb2cce-93b2-4c11-a040-86dcbb236768\",\"type\":\"ColumnDataSource\"}},\"id\":\"861ac1a1-e9ca-4b2a-b705-2449367d049e\",\"type\":\"CDSView\"},{\"attributes\":{},\"id\":\"0a5158ae-e07b-409a-9587-6f685bea008f\",\"type\":\"UnionRenderers\"},{\"attributes\":{\"line_alpha\":0.1,\"line_color\":\"#1f77b4\",\"line_dash\":[6],\"line_width\":5,\"x\":{\"field\":\"x\"},\"y\":{\"field\":\"y\"}},\"id\":\"e3a8dcd9-3cc0-42fc-9fb2-d14529085ffd\",\"type\":\"Line\"},{\"attributes\":{\"data_source\":{\"id\":\"464c4e2e-4cb1-4c8f-8d49-43329a8623e5\",\"type\":\"ColumnDataSource\"},\"glyph\":{\"id\":\"590f9ff8-a6e7-4793-b75d-1e2a7efa5572\",\"type\":\"Line\"},\"hover_glyph\":null,\"muted_glyph\":null,\"nonselection_glyph\":{\"id\":\"3462e4e3-6f44-4705-a178-2088df54196f\",\"type\":\"Line\"},\"selection_glyph\":null,\"view\":{\"id\":\"d01939c9-f078-471e-bc1c-ebd8a59b5ec2\",\"type\":\"CDSView\"}},\"id\":\"e61bc93a-b5a8-4c85-a743-760c27aa23a0\",\"type\":\"GlyphRenderer\"},{\"attributes\":{\"items\":[{\"id\":\"14e25e47-edec-4201-a65e-89097691c0cb\",\"type\":\"LegendItem\"},{\"id\":\"7c4df231-1702-40ea-89a8-17fb5b70e5a2\",\"type\":\"LegendItem\"}],\"label_text_font_size\":{\"value\":\"8pt\"},\"location\":\"top_center\",\"orientation\":\"horizontal\",\"plot\":{\"id\":\"626752e4-ffe8-4d0b-a1f0-e8f8956838fc\",\"subtype\":\"Figure\",\"type\":\"Plot\"}},\"id\":\"caf493db-147e-4fde-97bc-b8a4a77bd2bf\",\"type\":\"Legend\"},{\"attributes\":{\"plot\":{\"id\":\"626752e4-ffe8-4d0b-a1f0-e8f8956838fc\",\"subtype\":\"Figure\",\"type\":\"Plot\"},\"ticker\":{\"id\":\"2999d5d4-ad79-4551-a16b-d25694c0b420\",\"type\":\"BasicTicker\"}},\"id\":\"03e8384b-25e4-4130-982d-6e9a75a5205f\",\"type\":\"Grid\"},{\"attributes\":{\"toolbar\":{\"id\":\"2053b583-2b01-4a5c-b4f8-5a645b46bdde\",\"type\":\"ProxyToolbar\"},\"toolbar_location\":\"above\"},\"id\":\"9e105832-8a09-4d0f-8fed-cf10bed75d6c\",\"type\":\"ToolbarBox\"},{\"attributes\":{\"num_minor_ticks\":10},\"id\":\"b0415a45-c0ad-457f-990c-d4b68968fb90\",\"type\":\"LogTicker\"},{\"attributes\":{\"plot\":null,\"text\":\"\"},\"id\":\"1c75e8df-e0e0-4955-9edf-ea67802ae891\",\"type\":\"Title\"},{\"attributes\":{\"axis_label\":\"pressure [mb]\",\"formatter\":{\"id\":\"c70e0a16-5a06-435d-84c1-350b7d9cf59a\",\"type\":\"BasicTickFormatter\"},\"plot\":{\"id\":\"626752e4-ffe8-4d0b-a1f0-e8f8956838fc\",\"subtype\":\"Figure\",\"type\":\"Plot\"},\"ticker\":{\"id\":\"2abd9dd1-8ca8-4d9b-883f-bb0b7adebf9e\",\"type\":\"BasicTicker\"}},\"id\":\"9d6dc36c-a5a6-4d77-8474-0fc019160d71\",\"type\":\"LinearAxis\"},{\"attributes\":{},\"id\":\"d5e5f307-80b6-4ff0-9db1-017d46bdef2b\",\"type\":\"Selection\"},{\"attributes\":{\"dimension\":1,\"plot\":{\"id\":\"39b6f18f-4802-4090-9fde-7371b16a6f6c\",\"subtype\":\"Figure\",\"type\":\"Plot\"},\"ticker\":{\"id\":\"b0415a45-c0ad-457f-990c-d4b68968fb90\",\"type\":\"LogTicker\"}},\"id\":\"a0176ba4-60d6-4571-8fea-34e87628cf5f\",\"type\":\"Grid\"},{\"attributes\":{\"data_source\":{\"id\":\"0baaff30-6ed4-41d2-bfc0-0a53283a9ee8\",\"type\":\"ColumnDataSource\"},\"glyph\":{\"id\":\"87298930-1a24-4dc1-879e-55e403df8514\",\"type\":\"Line\"},\"hover_glyph\":null,\"muted_glyph\":null,\"nonselection_glyph\":{\"id\":\"8dd2fd7b-d11f-4a3d-a3c8-66d40e8023d7\",\"type\":\"Line\"},\"selection_glyph\":null,\"view\":{\"id\":\"5af5d286-76d4-4f08-a110-af57f9c28269\",\"type\":\"CDSView\"}},\"id\":\"c82365fb-5453-4252-a01d-89d4a09f957d\",\"type\":\"GlyphRenderer\"},{\"attributes\":{\"line_alpha\":0.1,\"line_color\":\"#1f77b4\",\"line_width\":1.5,\"x\":{\"field\":\"x\"},\"y\":{\"field\":\"y\"}},\"id\":\"3462e4e3-6f44-4705-a178-2088df54196f\",\"type\":\"Line\"},{\"attributes\":{},\"id\":\"2999d5d4-ad79-4551-a16b-d25694c0b420\",\"type\":\"BasicTicker\"},{\"attributes\":{\"fill_alpha\":{\"value\":0.7},\"fill_color\":{\"value\":\"#984ea3\"},\"line_alpha\":{\"value\":0.7},\"line_color\":{\"value\":\"#984ea3\"},\"x\":{\"field\":\"x\"},\"y\":{\"field\":\"y\"}},\"id\":\"3c49375f-dfa5-4101-83f8-b0f102897b2b\",\"type\":\"Circle\"},{\"attributes\":{},\"id\":\"bd2069e2-c81d-4ae5-a3bf-fda7251d1a88\",\"type\":\"Selection\"},{\"attributes\":{},\"id\":\"215316f6-afaa-407f-bdaf-4fff05302952\",\"type\":\"BasicTickFormatter\"},{\"attributes\":{\"data_source\":{\"id\":\"3f43403c-c8eb-4f63-8be7-df5aa8ec1116\",\"type\":\"ColumnDataSource\"},\"glyph\":{\"id\":\"3c49375f-dfa5-4101-83f8-b0f102897b2b\",\"type\":\"Circle\"},\"hover_glyph\":null,\"muted_glyph\":null,\"nonselection_glyph\":{\"id\":\"a5a7a0fa-32c8-4d63-b8aa-6f4e5a5f638d\",\"type\":\"Circle\"},\"selection_glyph\":null,\"view\":{\"id\":\"ab56ae74-8f3a-4c54-9075-12a7d9263568\",\"type\":\"CDSView\"}},\"id\":\"da385377-3c7b-4e3b-a191-3ce437f57018\",\"type\":\"GlyphRenderer\"},{\"attributes\":{},\"id\":\"54b67551-3652-41c5-b695-95cc7a30ad74\",\"type\":\"UnionRenderers\"},{\"attributes\":{\"plot\":null,\"text\":\"\"},\"id\":\"fa317a74-5a31-44a9-9fb4-de2f5c384043\",\"type\":\"Title\"},{\"attributes\":{\"source\":{\"id\":\"3f43403c-c8eb-4f63-8be7-df5aa8ec1116\",\"type\":\"ColumnDataSource\"}},\"id\":\"ab56ae74-8f3a-4c54-9075-12a7d9263568\",\"type\":\"CDSView\"},{\"attributes\":{},\"id\":\"b236f761-6f0b-4b86-b03c-7fa1f970bef0\",\"type\":\"LinearScale\"},{\"attributes\":{},\"id\":\"c70e0a16-5a06-435d-84c1-350b7d9cf59a\",\"type\":\"BasicTickFormatter\"},{\"attributes\":{\"callback\":null,\"data\":{\"x\":{\"__ndarray__\":\"52+IGjihS0DeLix8DglFQMqj/2qOPUJAa3wG/BbvPUD25gJElxM3QKjQxwYhyDBAYgfuWonsJ0B0ToQAcNYhQP7M7luj8hxAVkG6ZnWuGED0ZNDia5QUQLBXylDuEhBALQONpCQPBkDpZRFcvpT0P4NUYMJVd+0//rPqW/RK/z9Lj2OY56wIQLGWkQDomw9Ao5D80aapEkBgBO9Vu0EVQED2CxFPaRlA+WdwHkGbIECyHLLT4GUhQMxVSWZp7h1AKItguzLfGEC4EG+TDZITQJ0ngr2CuxBANHrVNdxnDUCbxIKfe7MIQPwa1gdjDgRANIim4152AEBqmikNMjb5P1VWrMBdG/M/SHgGGRgI8D8pd9xGvDLjP55yPkOBJnc/2oLOruva17+0UkQiBhzRv1ocQ44wEZA/Ma9V2lgEtD9NNvvKXhK9P9dfaJI1msE/jAf1m+uOwz+/QLxp1K7EP5TZZkPzYsU/U9oVDET1xT+jO+TE4IPGP0+evTFHYcc/QXtfNR1HyD/9IovMI2fJP3bmQayYs8o/MXdmZdzhyz/UsWvLaF7NP3URw2BEkM4/F3xCSRQQ0D9EplZBB6vQP70QzLtsZ9E//HIkQMQd0j+R1Nt/zvTSP3s4e8K2B9Q/DgeI0Khj1T8bVdRJx6/WP5sik9aX4dY/PBOf3U+t1T8Nm41Fdq3TP2UWRIwuEtI/YoTZoFN00T8NT0MdXPbRPzMiS0Fb4NI/owWM2CXW0z+UcoWbNvHUPzlp3IuPDtY/6jeeDi5t1z+YrtziTLnZPw1DiIQf5+E/\",\"dtype\":\"float64\",\"shape\":[75]},\"y\":{\"__ndarray__\":\"GhExyth1ND/Sv8nbtpRIP2vylNV0PVE/aTum7souWD/At0SJ8fVgPw3Iuahxymc/MSNhhJWvcD/bTfBN02d3P2zb5nxnaoA/CD5h5MAGhz8NmeH1TyaQP+zrCsc9p5Y/LbKd76fGnz/bLW5ISEmmPww9YvTcQq8/JV2OstnstT8Er5Y7M8G+P0c+r3jqkcU/5h99k6ZBzj88bCIzFzjVP4enV8oyxN0//yH99nXg5D8qOpLLf0jtP5kqGJXUifQ/c9cS8kHP/D+/DpwzojQEQIEmwoanVwxA4lgXt9HgE0BSSZ2AJuIbQAMJih9jjiNA5q4l5INuK0AwTKYKRj0zQNv5fmq8/DpAaCJseHrtQkB/+zpwzoxKQM3MzMzMeFJAZmZmZmZqWEAAAAAAAFxeQM3MzMzMJmJAmpmZmZkfZUBmZmZmZhhoQDMzMzMzEWtAAAAAAAAKbkBmZmZmZoFwQM3MzMzM/XFAMzMzMzN6c0CamZmZmfZ0QAAAAAAAc3ZAZmZmZmbvd0DNzMzMzGt5QDMzMzMz6HpAmpmZmZlkfEAAAAAAAOF9QGZmZmZmXX9AZmZmZuZsgECamZmZGSuBQM3MzMxM6YFAAAAAAICngkAzMzMzs2WDQGZmZmbmI4RAmpmZmRnihEDNzMzMTKCFQAAAAACAXoZAMzMzM7Mch0BmZmZm5tqHQJqZmZkZmYhAzczMzExXiUAAAAAAgBWKQDMzMzOz04pAZmZmZuaRi0CamZmZGVCMQM3MzMxMDo1AAAAAAIDMjUAzMzMzs4qOQGZmZmbmSI9A\",\"dtype\":\"float64\",\"shape\":[75]}},\"selected\":{\"id\":\"6132ab0d-35c4-4a63-88f7-8fe61b1ed2bb\",\"type\":\"Selection\"},\"selection_policy\":{\"id\":\"0a5158ae-e07b-409a-9587-6f685bea008f\",\"type\":\"UnionRenderers\"}},\"id\":\"0baaff30-6ed4-41d2-bfc0-0a53283a9ee8\",\"type\":\"ColumnDataSource\"},{\"attributes\":{\"label\":{\"value\":\"CLIRAD - CRD\"},\"renderers\":[{\"id\":\"da385377-3c7b-4e3b-a191-3ce437f57018\",\"type\":\"GlyphRenderer\"},{\"id\":\"e61bc93a-b5a8-4c85-a743-760c27aa23a0\",\"type\":\"GlyphRenderer\"}]},\"id\":\"4fa5dd5b-5753-4c29-80b9-abe12b49b33c\",\"type\":\"LegendItem\"},{\"attributes\":{\"axis_label\":\"cooling rate [K/day]\",\"formatter\":{\"id\":\"215316f6-afaa-407f-bdaf-4fff05302952\",\"type\":\"BasicTickFormatter\"},\"plot\":{\"id\":\"626752e4-ffe8-4d0b-a1f0-e8f8956838fc\",\"subtype\":\"Figure\",\"type\":\"Plot\"},\"ticker\":{\"id\":\"2999d5d4-ad79-4551-a16b-d25694c0b420\",\"type\":\"BasicTicker\"}},\"id\":\"35ffe26f-10b4-4c6f-a705-0504de460ef4\",\"type\":\"LinearAxis\"},{\"attributes\":{\"line_alpha\":0.1,\"line_color\":\"#1f77b4\",\"line_dash\":[6],\"line_width\":5,\"x\":{\"field\":\"x\"},\"y\":{\"field\":\"y\"}},\"id\":\"8dd2fd7b-d11f-4a3d-a3c8-66d40e8023d7\",\"type\":\"Line\"},{\"attributes\":{},\"id\":\"fa49bb44-fec6-4f00-b1d8-e751cdb1b9fe\",\"type\":\"UnionRenderers\"},{\"attributes\":{},\"id\":\"34829eb0-4234-423d-8e7b-b1ec0716fcda\",\"type\":\"PanTool\"},{\"attributes\":{\"ticker\":null},\"id\":\"fe1be83f-4db2-442e-88f6-e846ab706035\",\"type\":\"LogTickFormatter\"},{\"attributes\":{\"children\":[{\"id\":\"626752e4-ffe8-4d0b-a1f0-e8f8956838fc\",\"subtype\":\"Figure\",\"type\":\"Plot\"},{\"id\":\"39b6f18f-4802-4090-9fde-7371b16a6f6c\",\"subtype\":\"Figure\",\"type\":\"Plot\"},{\"id\":\"ecb492b3-5996-4045-a390-d49c342f6cf2\",\"subtype\":\"Figure\",\"type\":\"Plot\"}]},\"id\":\"2b1bdd77-cedd-4823-b7a5-0b276fdb3b3d\",\"type\":\"Row\"},{\"attributes\":{},\"id\":\"1323d6c1-9370-41bb-87ab-273b2036b80c\",\"type\":\"WheelZoomTool\"},{\"attributes\":{\"callback\":null,\"end\":0.01,\"start\":1020},\"id\":\"45985b83-0acc-45aa-a5fd-6a06d0999110\",\"type\":\"Range1d\"},{\"attributes\":{\"callback\":null,\"data\":{\"x\":{\"__ndarray__\":\"XtGHGe5rU0AhI5ak4dVEQCHwZtVX90BAVl0Z1iEWO0DM/F41sl01QO4nLsZ1yjBAtIOfiT17KkDpjFSAzw4lQDx7Lq2J5yBAiDG8pGROG0ALpCecqvsVQJQd2VDRThFAiMjyczRICUCJZCf18Pb6P129EJnnafM/PLAiSrmRAEDjTNdGTOgHQALkkDIGlQ1AKVCqLmO/EUAr/95Gg2QVQI2gO7nr1hpAlP7xhh6KIUBgzDNvU+IhQI0kwNIeLx5AB2XM1ht7GUCVwCP7L3oUQOjecKrKtRBALssD5QHpC0D8TeAbQHMHQMj2Gd/wjgNAicZikzQCAEAS9eGvNnv5P8RrCcnlqfM/smZzKWdt7j+AiDkz2kzhP84fkaABEZI/DVIC1Yar1b/6YKlvJPvQv/Rj+wbxs0g/u1u/sBdHsj9Jqf0NeFK8P5Q+pwYIkME/Iy/p8ZAXxD8CIwZoiRXGPwFmi0xpt8c/59seKbIVyT8gQ263A0LKP1Nv113QSMs/Jnbl18gxzD/0MWq3ggfNP0nMlb+r0M0/YoLsiYSTzj/h574lSlLPPwSpAkRGCdA/+CBztZNt0D9jRXWYqNfQP7jA8OzgTNE/6Zb9aE/X0T+Kv6TF3ITSP3gNCY25ddM/Gnz4vsq41D+nyXpLiPHVPwbIUE6/J9Y/BYUEMIzg1D9mTDQ/UeHSPzUEpGrgRNE/SqNK5G2y0D+km+/M4ynRP09n/aZ/HtI/bf/HkQEn0z8QdtpOFDDUP+p03H7rU9U/+CHJ0VO+1j+6yEiKJOfYP6LiH2LfleE/\",\"dtype\":\"float64\",\"shape\":[75]},\"y\":{\"__ndarray__\":\"GhExyth1ND/Sv8nbtpRIP2vylNV0PVE/aTum7souWD/At0SJ8fVgPw3Iuahxymc/MSNhhJWvcD/bTfBN02d3P2zb5nxnaoA/CD5h5MAGhz8NmeH1TyaQP+zrCsc9p5Y/LbKd76fGnz/bLW5ISEmmPww9YvTcQq8/JV2OstnstT8Er5Y7M8G+P0c+r3jqkcU/5h99k6ZBzj88bCIzFzjVP4enV8oyxN0//yH99nXg5D8qOpLLf0jtP5kqGJXUifQ/c9cS8kHP/D+/DpwzojQEQIEmwoanVwxA4lgXt9HgE0BSSZ2AJuIbQAMJih9jjiNA5q4l5INuK0AwTKYKRj0zQNv5fmq8/DpAaCJseHrtQkB/+zpwzoxKQM3MzMzMeFJAZmZmZmZqWEAAAAAAAFxeQM3MzMzMJmJAmpmZmZkfZUBmZmZmZhhoQDMzMzMzEWtAAAAAAAAKbkBmZmZmZoFwQM3MzMzM/XFAMzMzMzN6c0CamZmZmfZ0QAAAAAAAc3ZAZmZmZmbvd0DNzMzMzGt5QDMzMzMz6HpAmpmZmZlkfEAAAAAAAOF9QGZmZmZmXX9AZmZmZuZsgECamZmZGSuBQM3MzMxM6YFAAAAAAICngkAzMzMzs2WDQGZmZmbmI4RAmpmZmRnihEDNzMzMTKCFQAAAAACAXoZAMzMzM7Mch0BmZmZm5tqHQJqZmZkZmYhAzczMzExXiUAAAAAAgBWKQDMzMzOz04pAZmZmZuaRi0CamZmZGVCMQM3MzMxMDo1AAAAAAIDMjUAzMzMzs4qOQGZmZmbmSI9A\",\"dtype\":\"float64\",\"shape\":[75]}},\"selected\":{\"id\":\"bd2069e2-c81d-4ae5-a3bf-fda7251d1a88\",\"type\":\"Selection\"},\"selection_policy\":{\"id\":\"fa49bb44-fec6-4f00-b1d8-e751cdb1b9fe\",\"type\":\"UnionRenderers\"}},\"id\":\"b094fccd-cc0f-4897-9840-a77ce8967fdf\",\"type\":\"ColumnDataSource\"},{\"attributes\":{\"source\":{\"id\":\"464c4e2e-4cb1-4c8f-8d49-43329a8623e5\",\"type\":\"ColumnDataSource\"}},\"id\":\"d01939c9-f078-471e-bc1c-ebd8a59b5ec2\",\"type\":\"CDSView\"},{\"attributes\":{\"data_source\":{\"id\":\"b094fccd-cc0f-4897-9840-a77ce8967fdf\",\"type\":\"ColumnDataSource\"},\"glyph\":{\"id\":\"a1bd9d49-afbc-4254-a032-fb55df3c2e8a\",\"type\":\"Circle\"},\"hover_glyph\":null,\"muted_glyph\":null,\"nonselection_glyph\":{\"id\":\"68e29e86-7142-435d-ba22-f4c28d10cf00\",\"type\":\"Circle\"},\"selection_glyph\":null,\"view\":{\"id\":\"e8b3ba44-d7d5-46ed-8d2f-30842331ba13\",\"type\":\"CDSView\"}},\"id\":\"3d993078-8b3b-4188-a605-7ed4b8614dc5\",\"type\":\"GlyphRenderer\"},{\"attributes\":{\"callback\":null,\"data\":{\"x\":{\"__ndarray__\":\"qmUOMUhtNsCA3gXLa5bZP5A6i1lpYwRAqPhoL6nHBkCgoj7qUF77PwAwujL7pYK/kOKLdaF19L+o84H++8L5v+iluPm/cfO/kIEP8Hn/5L9w8XOV63PWv0Be7AAwvtO/2Coue37I2b+A+ldkyojZv25Mgt/yuNK/oMeqheOHvb8ATYgxapO4P3iVBXAON9A/QA9IanRIzT+AZf13+GOhv9Ck+oLK2da/YNMyEK3b3b+A62vgphzPv0Cwsx1bLbC/4Dt7bSN9w7+g+5X2TATNvwDUIkVM4HY/YPAaDaXtxz/waSc6uAPEPwANCS+K3K8/wGrwEJQKrT8AqhauKEGRv+CtogsB0aG/4J2YiZAsqj+Q6i46IV6uP00Gg5/Cjoi/aIZhziZ7ob8A3XhN2XBgv3WCFgwil44/YDdlmRLUez+AoLGf1/xnPwCGQoIXWzQ/4PKEvqoUcb8wJJ7kT2uGv2hjJEmwo5K/oAxI6HADmb/oO1CUF/GdvyCIzmBJPJ+/KNcvFF1Vn7+4d/hW9wKdv5gun5qY6Ji/iFkwJEGNlb/QYDOlFT6PvzAJJHSCJIi/QDgpDNtfd7+Aj0+Pq1BmvwAFUNvOi1o/wAS3yTWdcT/AQcWNbvx7P2BgRa6mP4I/gF7xMcJbhT+AbjHL38eHP6BSSwgRO4c/4MZRs3WYiT/g1CnLoISJPwBGAjTEqYk/ACPckbc8iD8gbXYKCo+JP4Bct0lzO4g/wMaA2IjkhT+AkF+VSSSIP+CJ/p+BVIc/QL6imkfbhT/Au3wSC0WKP8AaGJoIUIQ/\",\"dtype\":\"float64\",\"shape\":[75]},\"y\":{\"__ndarray__\":\"GhExyth1ND/Sv8nbtpRIP2vylNV0PVE/aTum7souWD/At0SJ8fVgPw3Iuahxymc/MSNhhJWvcD/bTfBN02d3P2zb5nxnaoA/CD5h5MAGhz8NmeH1TyaQP+zrCsc9p5Y/LbKd76fGnz/bLW5ISEmmPww9YvTcQq8/JV2OstnstT8Er5Y7M8G+P0c+r3jqkcU/5h99k6ZBzj88bCIzFzjVP4enV8oyxN0//yH99nXg5D8qOpLLf0jtP5kqGJXUifQ/c9cS8kHP/D+/DpwzojQEQIEmwoanVwxA4lgXt9HgE0BSSZ2AJuIbQAMJih9jjiNA5q4l5INuK0AwTKYKRj0zQNv5fmq8/DpAaCJseHrtQkB/+zpwzoxKQM3MzMzMeFJAZmZmZmZqWEAAAAAAAFxeQM3MzMzMJmJAmpmZmZkfZUBmZmZmZhhoQDMzMzMzEWtAAAAAAAAKbkBmZmZmZoFwQM3MzMzM/XFAMzMzMzN6c0CamZmZmfZ0QAAAAAAAc3ZAZmZmZmbvd0DNzMzMzGt5QDMzMzMz6HpAmpmZmZlkfEAAAAAAAOF9QGZmZmZmXX9AZmZmZuZsgECamZmZGSuBQM3MzMxM6YFAAAAAAICngkAzMzMzs2WDQGZmZmbmI4RAmpmZmRnihEDNzMzMTKCFQAAAAACAXoZAMzMzM7Mch0BmZmZm5tqHQJqZmZkZmYhAzczMzExXiUAAAAAAgBWKQDMzMzOz04pAZmZmZuaRi0CamZmZGVCMQM3MzMxMDo1AAAAAAIDMjUAzMzMzs4qOQGZmZmbmSI9A\",\"dtype\":\"float64\",\"shape\":[75]}},\"selected\":{\"id\":\"239aa650-f831-4d11-a217-43b7c0ebcb1f\",\"type\":\"Selection\"},\"selection_policy\":{\"id\":\"e272f179-1faa-4840-86ab-77d4c7b10d88\",\"type\":\"UnionRenderers\"}},\"id\":\"464c4e2e-4cb1-4c8f-8d49-43329a8623e5\",\"type\":\"ColumnDataSource\"},{\"attributes\":{\"callback\":null,\"end\":0.6096700944823,\"start\":-0.3824636567123},\"id\":\"c1d149ad-56ab-4cdb-950e-ca14b99e261a\",\"type\":\"Range1d\"},{\"attributes\":{\"ticker\":null},\"id\":\"2bbba703-7c89-4ce7-bd39-ab9dc40bb103\",\"type\":\"LogTickFormatter\"},{\"attributes\":{\"overlay\":{\"id\":\"a0a552b3-891d-43cf-94a7-0c785a0ffcf9\",\"type\":\"BoxAnnotation\"}},\"id\":\"3cfd9f07-132b-4f12-bb7f-546500b3f5af\",\"type\":\"BoxZoomTool\"},{\"attributes\":{},\"id\":\"98ddbe82-8123-4df3-be7b-28e4e92761c1\",\"type\":\"Selection\"},{\"attributes\":{\"line_alpha\":0.1,\"line_color\":\"#1f77b4\",\"line_width\":1.5,\"x\":{\"field\":\"x\"},\"y\":{\"field\":\"y\"}},\"id\":\"a90154a8-a539-416e-9ebd-2d4d3cf64525\",\"type\":\"Line\"},{\"attributes\":{},\"id\":\"9d406ea4-035e-44dc-8f2a-48ebb57f7819\",\"type\":\"Selection\"},{\"attributes\":{},\"id\":\"5ec5aabb-9c86-455b-9d12-0704c0526467\",\"type\":\"LinearScale\"},{\"attributes\":{},\"id\":\"bedff028-2274-4bb2-83f9-f1d7f649bde6\",\"type\":\"BasicTickFormatter\"},{\"attributes\":{},\"id\":\"1d2d1c36-d113-43d9-aeee-fb4279206b13\",\"type\":\"HelpTool\"},{\"attributes\":{},\"id\":\"e272f179-1faa-4840-86ab-77d4c7b10d88\",\"type\":\"UnionRenderers\"},{\"attributes\":{\"source\":{\"id\":\"b094fccd-cc0f-4897-9840-a77ce8967fdf\",\"type\":\"ColumnDataSource\"}},\"id\":\"e8b3ba44-d7d5-46ed-8d2f-30842331ba13\",\"type\":\"CDSView\"},{\"attributes\":{},\"id\":\"239aa650-f831-4d11-a217-43b7c0ebcb1f\",\"type\":\"Selection\"},{\"attributes\":{\"source\":{\"id\":\"0baaff30-6ed4-41d2-bfc0-0a53283a9ee8\",\"type\":\"ColumnDataSource\"}},\"id\":\"5af5d286-76d4-4f08-a110-af57f9c28269\",\"type\":\"CDSView\"},{\"attributes\":{\"children\":[{\"id\":\"9e105832-8a09-4d0f-8fed-cf10bed75d6c\",\"type\":\"ToolbarBox\"},{\"id\":\"1e6de32c-387a-49eb-b52f-404f48d32521\",\"type\":\"Column\"}]},\"id\":\"fca2dc79-3830-408d-82d1-48c7e49affc6\",\"type\":\"Column\"},{\"attributes\":{\"tools\":[{\"id\":\"34829eb0-4234-423d-8e7b-b1ec0716fcda\",\"type\":\"PanTool\"},{\"id\":\"1323d6c1-9370-41bb-87ab-273b2036b80c\",\"type\":\"WheelZoomTool\"},{\"id\":\"3cfd9f07-132b-4f12-bb7f-546500b3f5af\",\"type\":\"BoxZoomTool\"},{\"id\":\"38980599-0d6f-48e3-bf4c-a0cdbb868550\",\"type\":\"SaveTool\"},{\"id\":\"962c42ba-249d-4026-9f4a-14e7ccc20fac\",\"type\":\"ResetTool\"},{\"id\":\"1d2d1c36-d113-43d9-aeee-fb4279206b13\",\"type\":\"HelpTool\"},{\"id\":\"71b7f7db-278b-44cf-bb03-888596d26173\",\"type\":\"PanTool\"},{\"id\":\"e8bb9971-c253-4535-aec8-ce94d9559747\",\"type\":\"WheelZoomTool\"},{\"id\":\"0986da39-2f0f-4ebf-bf2b-361a0f210ce1\",\"type\":\"BoxZoomTool\"},{\"id\":\"bf9fe013-509d-470e-8e40-3a9cd1d1ad7a\",\"type\":\"SaveTool\"},{\"id\":\"ff0e15cd-d67b-4686-bbd7-0ddc49bf0356\",\"type\":\"ResetTool\"},{\"id\":\"4140b10d-23e5-4643-b5f2-eca23a0c6092\",\"type\":\"HelpTool\"},{\"id\":\"41c1e115-1f6f-4c91-8b27-32af68d3302d\",\"type\":\"PanTool\"},{\"id\":\"e4c53177-d2e2-4c03-aa5f-9caa20ce286a\",\"type\":\"WheelZoomTool\"},{\"id\":\"67a6dbaa-786f-4545-b121-b7536132e52c\",\"type\":\"BoxZoomTool\"},{\"id\":\"0b541959-d221-4581-bb47-070144828fc4\",\"type\":\"SaveTool\"},{\"id\":\"bab296fc-9ffd-40f9-a3a2-1b70a41ddffa\",\"type\":\"ResetTool\"},{\"id\":\"a1a27faa-0823-46e5-b17d-fdfdd8bcaef0\",\"type\":\"HelpTool\"}]},\"id\":\"2053b583-2b01-4a5c-b4f8-5a645b46bdde\",\"type\":\"ProxyToolbar\"},{\"attributes\":{},\"id\":\"67c2c847-fe77-429e-a87f-271d8643a0ab\",\"type\":\"UnionRenderers\"},{\"attributes\":{\"fill_alpha\":{\"value\":0.1},\"fill_color\":{\"value\":\"#1f77b4\"},\"line_alpha\":{\"value\":0.1},\"line_color\":{\"value\":\"#1f77b4\"},\"x\":{\"field\":\"x\"},\"y\":{\"field\":\"y\"}},\"id\":\"1e725da5-c061-430b-bb4b-90fd1f6ce1a4\",\"type\":\"Circle\"},{\"attributes\":{},\"id\":\"962c42ba-249d-4026-9f4a-14e7ccc20fac\",\"type\":\"ResetTool\"},{\"attributes\":{\"data_source\":{\"id\":\"0ceb2cce-93b2-4c11-a040-86dcbb236768\",\"type\":\"ColumnDataSource\"},\"glyph\":{\"id\":\"12993186-212f-47f6-977d-3f9d23d7f890\",\"type\":\"Circle\"},\"hover_glyph\":null,\"muted_glyph\":null,\"nonselection_glyph\":{\"id\":\"1e725da5-c061-430b-bb4b-90fd1f6ce1a4\",\"type\":\"Circle\"},\"selection_glyph\":null,\"view\":{\"id\":\"861ac1a1-e9ca-4b2a-b705-2449367d049e\",\"type\":\"CDSView\"}},\"id\":\"e6fe01d3-dde3-4357-aecb-88d76dc01e9e\",\"type\":\"GlyphRenderer\"},{\"attributes\":{\"data_source\":{\"id\":\"aea3f045-3261-4fb9-8525-17f96682a24d\",\"type\":\"ColumnDataSource\"},\"glyph\":{\"id\":\"f8fdfd45-fedf-4754-87bb-86edadbb225d\",\"type\":\"Line\"},\"hover_glyph\":null,\"muted_glyph\":null,\"nonselection_glyph\":{\"id\":\"e3a8dcd9-3cc0-42fc-9fb2-d14529085ffd\",\"type\":\"Line\"},\"selection_glyph\":null,\"view\":{\"id\":\"4a17e449-5e79-4162-8fbe-1522eb5f9e7f\",\"type\":\"CDSView\"}},\"id\":\"2fdc9574-a2bc-447b-b6c7-5509dda81d99\",\"type\":\"GlyphRenderer\"},{\"attributes\":{},\"id\":\"58b04967-aabc-4963-af63-3e09e7ed9f32\",\"type\":\"Selection\"},{\"attributes\":{},\"id\":\"51b41233-a776-4ec4-a7b0-5bd31b456abd\",\"type\":\"BasicTickFormatter\"},{\"attributes\":{},\"id\":\"71b7f7db-278b-44cf-bb03-888596d26173\",\"type\":\"PanTool\"},{\"attributes\":{\"fill_alpha\":{\"value\":0.7},\"fill_color\":{\"value\":\"#4daf4a\"},\"line_alpha\":{\"value\":0.7},\"line_color\":{\"value\":\"#4daf4a\"},\"x\":{\"field\":\"x\"},\"y\":{\"field\":\"y\"}},\"id\":\"a1bd9d49-afbc-4254-a032-fb55df3c2e8a\",\"type\":\"Circle\"},{\"attributes\":{},\"id\":\"bf9fe013-509d-470e-8e40-3a9cd1d1ad7a\",\"type\":\"SaveTool\"},{\"attributes\":{\"above\":[{\"id\":\"92ec30bf-e59a-4d06-ae86-48445e6c4ae3\",\"type\":\"Legend\"}],\"below\":[{\"id\":\"97c389b6-63d2-4c91-92b1-80ace18d29d1\",\"type\":\"LinearAxis\"}],\"left\":[{\"id\":\"a3f05699-62fd-45e3-b00c-d2f4f8882709\",\"type\":\"LogAxis\"}],\"plot_width\":300,\"renderers\":[{\"id\":\"97c389b6-63d2-4c91-92b1-80ace18d29d1\",\"type\":\"LinearAxis\"},{\"id\":\"952d8751-c131-4e8a-97da-483d72560fb9\",\"type\":\"Grid\"},{\"id\":\"a3f05699-62fd-45e3-b00c-d2f4f8882709\",\"type\":\"LogAxis\"},{\"id\":\"407fcaa2-4197-4b14-9bca-542ea634cf2f\",\"type\":\"Grid\"},{\"id\":\"3de1cc7f-de5c-47e0-ae35-0f06cd484065\",\"type\":\"BoxAnnotation\"},{\"id\":\"da385377-3c7b-4e3b-a191-3ce437f57018\",\"type\":\"GlyphRenderer\"},{\"id\":\"e61bc93a-b5a8-4c85-a743-760c27aa23a0\",\"type\":\"GlyphRenderer\"},{\"id\":\"92ec30bf-e59a-4d06-ae86-48445e6c4ae3\",\"type\":\"Legend\"}],\"title\":{\"id\":\"1c75e8df-e0e0-4955-9edf-ea67802ae891\",\"type\":\"Title\"},\"toolbar\":{\"id\":\"b088ca4a-64cf-4cd7-8c2e-931372145b77\",\"type\":\"Toolbar\"},\"toolbar_location\":null,\"x_range\":{\"id\":\"e5263cd4-6a00-4376-964c-6a25e4d20a1d\",\"type\":\"Range1d\"},\"x_scale\":{\"id\":\"7bcefea5-02ab-495d-aa40-bfeb55473a94\",\"type\":\"LinearScale\"},\"y_range\":{\"id\":\"45985b83-0acc-45aa-a5fd-6a06d0999110\",\"type\":\"Range1d\"},\"y_scale\":{\"id\":\"728a9d60-4b74-43d7-9145-aeaa120c640e\",\"type\":\"LogScale\"}},\"id\":\"ecb492b3-5996-4045-a390-d49c342f6cf2\",\"subtype\":\"Figure\",\"type\":\"Plot\"},{\"attributes\":{\"overlay\":{\"id\":\"743e17c2-3cb9-4027-b1cd-18fd8cd9c1ba\",\"type\":\"BoxAnnotation\"}},\"id\":\"0986da39-2f0f-4ebf-bf2b-361a0f210ce1\",\"type\":\"BoxZoomTool\"},{\"attributes\":{\"fill_alpha\":{\"value\":0.1},\"fill_color\":{\"value\":\"#1f77b4\"},\"line_alpha\":{\"value\":0.1},\"line_color\":{\"value\":\"#1f77b4\"},\"x\":{\"field\":\"x\"},\"y\":{\"field\":\"y\"}},\"id\":\"68e29e86-7142-435d-ba22-f4c28d10cf00\",\"type\":\"Circle\"},{\"attributes\":{\"line_alpha\":0.6,\"line_color\":\"#e41a1c\",\"line_dash\":[6],\"line_width\":5,\"x\":{\"field\":\"x\"},\"y\":{\"field\":\"y\"}},\"id\":\"f8fdfd45-fedf-4754-87bb-86edadbb225d\",\"type\":\"Line\"},{\"attributes\":{\"bottom_units\":\"screen\",\"fill_alpha\":{\"value\":0.5},\"fill_color\":{\"value\":\"lightgrey\"},\"left_units\":\"screen\",\"level\":\"overlay\",\"line_alpha\":{\"value\":1.0},\"line_color\":{\"value\":\"black\"},\"line_dash\":[4,4],\"line_width\":{\"value\":2},\"plot\":null,\"render_mode\":\"css\",\"right_units\":\"screen\",\"top_units\":\"screen\"},\"id\":\"743e17c2-3cb9-4027-b1cd-18fd8cd9c1ba\",\"type\":\"BoxAnnotation\"},{\"attributes\":{\"callback\":null,\"end\":0.01,\"start\":1020},\"id\":\"c53b3ae4-157a-43e5-9c27-bf9c9ce8b954\",\"type\":\"Range1d\"},{\"attributes\":{\"above\":[{\"id\":\"e6dcdd40-52bb-4c51-86aa-d07907e23135\",\"type\":\"Legend\"}],\"below\":[{\"id\":\"52a238c0-7739-4b1b-ae59-4300a3b52d39\",\"type\":\"LinearAxis\"}],\"left\":[{\"id\":\"00ed2a52-9a2f-49f0-ba19-5efc52f1b3ce\",\"type\":\"LogAxis\"}],\"plot_width\":300,\"renderers\":[{\"id\":\"52a238c0-7739-4b1b-ae59-4300a3b52d39\",\"type\":\"LinearAxis\"},{\"id\":\"9d8e6d4e-5fa4-4454-a8ee-cab78e29bae8\",\"type\":\"Grid\"},{\"id\":\"00ed2a52-9a2f-49f0-ba19-5efc52f1b3ce\",\"type\":\"LogAxis\"},{\"id\":\"a0176ba4-60d6-4571-8fea-34e87628cf5f\",\"type\":\"Grid\"},{\"id\":\"743e17c2-3cb9-4027-b1cd-18fd8cd9c1ba\",\"type\":\"BoxAnnotation\"},{\"id\":\"c82365fb-5453-4252-a01d-89d4a09f957d\",\"type\":\"GlyphRenderer\"},{\"id\":\"3d993078-8b3b-4188-a605-7ed4b8614dc5\",\"type\":\"GlyphRenderer\"},{\"id\":\"5c6dc020-04d2-456f-ae5d-9a733f579384\",\"type\":\"GlyphRenderer\"},{\"id\":\"e6dcdd40-52bb-4c51-86aa-d07907e23135\",\"type\":\"Legend\"}],\"title\":{\"id\":\"4707814a-6231-471d-8de6-03f2f7ab03cf\",\"type\":\"Title\"},\"toolbar\":{\"id\":\"11a30a51-4e15-4d1d-802c-a938a5c31924\",\"type\":\"Toolbar\"},\"toolbar_location\":null,\"x_range\":{\"id\":\"4b1554bd-dfba-4a51-8393-50b8ac972042\",\"type\":\"Range1d\"},\"x_scale\":{\"id\":\"24faa539-03fb-4e81-970b-c9a8baadd32d\",\"type\":\"LinearScale\"},\"y_range\":{\"id\":\"c53b3ae4-157a-43e5-9c27-bf9c9ce8b954\",\"type\":\"Range1d\"},\"y_scale\":{\"id\":\"7655cdba-7948-4fde-96d3-afaa420c57d1\",\"type\":\"LogScale\"}},\"id\":\"39b6f18f-4802-4090-9fde-7371b16a6f6c\",\"subtype\":\"Figure\",\"type\":\"Plot\"},{\"attributes\":{},\"id\":\"7bcefea5-02ab-495d-aa40-bfeb55473a94\",\"type\":\"LinearScale\"},{\"attributes\":{\"data_source\":{\"id\":\"5a97d1ee-eec5-4ead-a1a7-f4933fa51723\",\"type\":\"ColumnDataSource\"},\"glyph\":{\"id\":\"bb484dab-d6cc-4dca-beae-6f966cc6fdf1\",\"type\":\"Line\"},\"hover_glyph\":null,\"muted_glyph\":null,\"nonselection_glyph\":{\"id\":\"496d980c-d28d-483b-8c54-d18314632320\",\"type\":\"Line\"},\"selection_glyph\":null,\"view\":{\"id\":\"e898a644-2e88-488b-9613-5568224fdec5\",\"type\":\"CDSView\"}},\"id\":\"9672543d-2d14-4d27-9db8-a37fc5d74685\",\"type\":\"GlyphRenderer\"},{\"attributes\":{\"callback\":null,\"end\":0.01,\"start\":1020},\"id\":\"25683cc7-6724-4127-aa41-c753590aa5d9\",\"type\":\"Range1d\"},{\"attributes\":{\"plot\":{\"id\":\"39b6f18f-4802-4090-9fde-7371b16a6f6c\",\"subtype\":\"Figure\",\"type\":\"Plot\"},\"ticker\":{\"id\":\"cff82be3-14ee-42e8-bec1-5c1f345af9af\",\"type\":\"BasicTicker\"}},\"id\":\"9d8e6d4e-5fa4-4454-a8ee-cab78e29bae8\",\"type\":\"Grid\"},{\"attributes\":{\"active_drag\":\"auto\",\"active_inspect\":\"auto\",\"active_scroll\":\"auto\",\"active_tap\":\"auto\",\"tools\":[{\"id\":\"71b7f7db-278b-44cf-bb03-888596d26173\",\"type\":\"PanTool\"},{\"id\":\"e8bb9971-c253-4535-aec8-ce94d9559747\",\"type\":\"WheelZoomTool\"},{\"id\":\"0986da39-2f0f-4ebf-bf2b-361a0f210ce1\",\"type\":\"BoxZoomTool\"},{\"id\":\"bf9fe013-509d-470e-8e40-3a9cd1d1ad7a\",\"type\":\"SaveTool\"},{\"id\":\"ff0e15cd-d67b-4686-bbd7-0ddc49bf0356\",\"type\":\"ResetTool\"},{\"id\":\"4140b10d-23e5-4643-b5f2-eca23a0c6092\",\"type\":\"HelpTool\"}]},\"id\":\"11a30a51-4e15-4d1d-802c-a938a5c31924\",\"type\":\"Toolbar\"},{\"attributes\":{\"source\":{\"id\":\"5a97d1ee-eec5-4ead-a1a7-f4933fa51723\",\"type\":\"ColumnDataSource\"}},\"id\":\"e898a644-2e88-488b-9613-5568224fdec5\",\"type\":\"CDSView\"},{\"attributes\":{\"line_alpha\":0.1,\"line_color\":\"#1f77b4\",\"line_width\":1.5,\"x\":{\"field\":\"x\"},\"y\":{\"field\":\"y\"}},\"id\":\"496d980c-d28d-483b-8c54-d18314632320\",\"type\":\"Line\"},{\"attributes\":{\"data_source\":{\"id\":\"994b59ef-53b5-4313-9475-9f78715b74bf\",\"type\":\"ColumnDataSource\"},\"glyph\":{\"id\":\"a2f96dda-101c-427a-993e-07cb416a146c\",\"type\":\"Line\"},\"hover_glyph\":null,\"muted_glyph\":null,\"nonselection_glyph\":{\"id\":\"a90154a8-a539-416e-9ebd-2d4d3cf64525\",\"type\":\"Line\"},\"selection_glyph\":null,\"view\":{\"id\":\"53cc1b54-0898-461f-9c23-fd05dbd0d4cd\",\"type\":\"CDSView\"}},\"id\":\"5c6dc020-04d2-456f-ae5d-9a733f579384\",\"type\":\"GlyphRenderer\"},{\"attributes\":{\"axis_label\":\"pressure [mb]\",\"formatter\":{\"id\":\"fe1be83f-4db2-442e-88f6-e846ab706035\",\"type\":\"LogTickFormatter\"},\"plot\":{\"id\":\"39b6f18f-4802-4090-9fde-7371b16a6f6c\",\"subtype\":\"Figure\",\"type\":\"Plot\"},\"ticker\":{\"id\":\"b0415a45-c0ad-457f-990c-d4b68968fb90\",\"type\":\"LogTicker\"}},\"id\":\"00ed2a52-9a2f-49f0-ba19-5efc52f1b3ce\",\"type\":\"LogAxis\"},{\"attributes\":{\"callback\":null,\"end\":9.03519060042464,\"start\":-0.46588465182064},\"id\":\"4b1554bd-dfba-4a51-8393-50b8ac972042\",\"type\":\"Range1d\"},{\"attributes\":{\"line_color\":\"#4daf4a\",\"line_width\":1.5,\"x\":{\"field\":\"x\"},\"y\":{\"field\":\"y\"}},\"id\":\"bb484dab-d6cc-4dca-beae-6f966cc6fdf1\",\"type\":\"Line\"},{\"attributes\":{\"source\":{\"id\":\"994b59ef-53b5-4313-9475-9f78715b74bf\",\"type\":\"ColumnDataSource\"}},\"id\":\"53cc1b54-0898-461f-9c23-fd05dbd0d4cd\",\"type\":\"CDSView\"},{\"attributes\":{\"label\":{\"value\":\"CRD\"},\"renderers\":[{\"id\":\"e6fe01d3-dde3-4357-aecb-88d76dc01e9e\",\"type\":\"GlyphRenderer\"},{\"id\":\"9672543d-2d14-4d27-9db8-a37fc5d74685\",\"type\":\"GlyphRenderer\"}]},\"id\":\"7c4df231-1702-40ea-89a8-17fb5b70e5a2\",\"type\":\"LegendItem\"},{\"attributes\":{\"label\":{\"value\":\"CLIRAD\"},\"renderers\":[{\"id\":\"2fdc9574-a2bc-447b-b6c7-5509dda81d99\",\"type\":\"GlyphRenderer\"}]},\"id\":\"14e25e47-edec-4201-a65e-89097691c0cb\",\"type\":\"LegendItem\"}],\"root_ids\":[\"fca2dc79-3830-408d-82d1-48c7e49affc6\"]},\"title\":\"Bokeh Application\",\"version\":\"0.12.16\"}};\n",
       "  var render_items = [{\"docid\":\"443d4420-1b6e-4fe9-9be5-cf4f0c925cf5\",\"elementid\":\"ff129b87-fda6-41ad-9e95-8961e8295206\",\"modelid\":\"fca2dc79-3830-408d-82d1-48c7e49affc6\"}];\n",
       "  root.Bokeh.embed.embed_items_notebook(docs_json, render_items);\n",
       "\n",
       "  }\n",
       "  if (root.Bokeh !== undefined) {\n",
       "    embed_document(root);\n",
       "  } else {\n",
       "    var attempts = 0;\n",
       "    var timer = setInterval(function(root) {\n",
       "      if (root.Bokeh !== undefined) {\n",
       "        embed_document(root);\n",
       "        clearInterval(timer);\n",
       "      }\n",
       "      attempts++;\n",
       "      if (attempts > 100) {\n",
       "        console.log(\"Bokeh: ERROR: Unable to run BokehJS code because BokehJS library is missing\")\n",
       "        clearInterval(timer);\n",
       "      }\n",
       "    }, 10, root)\n",
       "  }\n",
       "})(window);"
      ],
      "application/vnd.bokehjs_exec.v0+json": ""
     },
     "metadata": {
      "application/vnd.bokehjs_exec.v0+json": {
       "id": "fca2dc79-3830-408d-82d1-48c7e49affc6"
      }
     },
     "output_type": "display_data"
    },
    {
     "data": {
      "text/markdown": [
       "*FIGURE.* Cooling rates & difference."
      ],
      "text/plain": [
       "<IPython.core.display.Markdown object>"
      ]
     },
     "metadata": {},
     "output_type": "display_data"
    },
    {
     "data": {
      "text/html": [
       "<a id=\"Fluxes._trp.\"></a>"
      ],
      "text/plain": [
       "<IPython.core.display.HTML object>"
      ]
     },
     "metadata": {},
     "output_type": "display_data"
    },
    {
     "data": {
      "text/markdown": [
       "# Fluxes. trp."
      ],
      "text/plain": [
       "<IPython.core.display.Markdown object>"
      ]
     },
     "metadata": {},
     "output_type": "display_data"
    },
    {
     "data": {
      "text/html": [
       "\n",
       "<div class=\"bk-root\">\n",
       "    <div class=\"bk-plotdiv\" id=\"3f46092e-b830-4300-91fd-eb1499b98c26\"></div>\n",
       "</div>"
      ]
     },
     "metadata": {},
     "output_type": "display_data"
    },
    {
     "data": {
      "application/javascript": [
       "(function(root) {\n",
       "  function embed_document(root) {\n",
       "    \n",
       "  var docs_json = {\"b920094b-2d87-4c1d-b8fb-d0bd24751c4e\":{\"roots\":{\"references\":[{\"attributes\":{\"overlay\":{\"id\":\"fa68f66c-cccf-4fd7-8254-428ccfe85ebd\",\"type\":\"BoxAnnotation\"}},\"id\":\"a7288263-db85-486b-a46d-cdd2e8a7c057\",\"type\":\"BoxZoomTool\"},{\"attributes\":{\"active_drag\":\"auto\",\"active_inspect\":\"auto\",\"active_scroll\":\"auto\",\"active_tap\":\"auto\",\"tools\":[{\"id\":\"b27760e2-c45c-4b5d-9a34-f66865f93979\",\"type\":\"PanTool\"},{\"id\":\"f77387ee-a79e-469d-aba9-5484a181580d\",\"type\":\"WheelZoomTool\"},{\"id\":\"4dd74113-e05c-4a8b-beab-517d73b542bb\",\"type\":\"BoxZoomTool\"},{\"id\":\"fdd800b6-a0e2-4bbd-acd6-3e264f8fbdbf\",\"type\":\"SaveTool\"},{\"id\":\"d22a728b-a0d3-438e-839c-5d5f40ea79a7\",\"type\":\"ResetTool\"},{\"id\":\"6c2a035d-99ff-494a-88cb-ddbc2dc3ca2e\",\"type\":\"HelpTool\"}]},\"id\":\"eaa4eee7-b1cd-4ab1-9f45-d4ae8444051d\",\"type\":\"Toolbar\"},{\"attributes\":{\"bottom_units\":\"screen\",\"fill_alpha\":{\"value\":0.5},\"fill_color\":{\"value\":\"lightgrey\"},\"left_units\":\"screen\",\"level\":\"overlay\",\"line_alpha\":{\"value\":1.0},\"line_color\":{\"value\":\"black\"},\"line_dash\":[4,4],\"line_width\":{\"value\":2},\"plot\":null,\"render_mode\":\"css\",\"right_units\":\"screen\",\"top_units\":\"screen\"},\"id\":\"fa68f66c-cccf-4fd7-8254-428ccfe85ebd\",\"type\":\"BoxAnnotation\"},{\"attributes\":{\"dimension\":1,\"plot\":{\"id\":\"d57eaa2c-6591-4551-8142-2636c5f7af5e\",\"subtype\":\"Figure\",\"type\":\"Plot\"},\"ticker\":{\"id\":\"3a0d3b16-4c2f-463c-8881-e9628fe5bdba\",\"type\":\"BasicTicker\"}},\"id\":\"7623f1f8-bc7b-421c-a940-dadf2721c49f\",\"type\":\"Grid\"},{\"attributes\":{},\"id\":\"87f3e190-1517-4291-91b6-fc3ab3e479b7\",\"type\":\"SaveTool\"},{\"attributes\":{},\"id\":\"59de4693-5669-433b-820e-3dcf30248c7f\",\"type\":\"BasicTickFormatter\"},{\"attributes\":{},\"id\":\"d2cb04d1-7261-435a-b74d-51c520b9e9c6\",\"type\":\"ResetTool\"},{\"attributes\":{\"plot\":null,\"text\":\"TOA flux. CLIRAD - CRD.\"},\"id\":\"9288cde8-9663-4417-8268-215cd6054131\",\"type\":\"Title\"},{\"attributes\":{},\"id\":\"8e345287-2658-4dd0-9ff9-b27f981d48fe\",\"type\":\"HelpTool\"},{\"attributes\":{\"plot\":{\"id\":\"a2df8f14-28e7-4bc0-93c9-ddabfe573448\",\"subtype\":\"Figure\",\"type\":\"Plot\"},\"ticker\":{\"id\":\"f25968d8-51f9-41d1-93ed-78455af61aa3\",\"type\":\"CategoricalTicker\"}},\"id\":\"2f99ab87-ef14-401c-b4b6-23355f873b68\",\"type\":\"Grid\"},{\"attributes\":{},\"id\":\"7b0cb257-7bdc-45cb-a57c-49efa55f4185\",\"type\":\"CategoricalScale\"},{\"attributes\":{},\"id\":\"29816f76-d3c2-4673-b913-25657bcb4404\",\"type\":\"BasicTicker\"},{\"attributes\":{},\"id\":\"43880bb1-1c46-4c3f-b138-f1a6ebe2d7c0\",\"type\":\"BasicTickFormatter\"},{\"attributes\":{},\"id\":\"b7a14c0f-0360-43ff-b319-b89257e1a5ea\",\"type\":\"CategoricalScale\"},{\"attributes\":{\"fill_color\":{\"value\":\"#1f77b4\"},\"line_color\":{\"value\":\"#1f77b4\"},\"top\":{\"field\":\"flux\"},\"width\":{\"value\":0.9},\"x\":{\"field\":\"band\"}},\"id\":\"ced94fc1-db52-4835-9d18-4852a2bf4cf5\",\"type\":\"VBar\"},{\"attributes\":{},\"id\":\"9033396b-4b6f-462c-973d-0a4a5088b23b\",\"type\":\"CategoricalScale\"},{\"attributes\":{},\"id\":\"0b0361be-5d74-4d0f-8c89-5ff74b2f8e7e\",\"type\":\"CategoricalTicker\"},{\"attributes\":{\"overlay\":{\"id\":\"db6fe197-dad1-4aca-98c3-033e76fe8456\",\"type\":\"BoxAnnotation\"}},\"id\":\"eb8faf61-1b7f-4e7e-99a1-8d2b42218585\",\"type\":\"BoxZoomTool\"},{\"attributes\":{\"axis_label\":\"flux (W m-2)\",\"formatter\":{\"id\":\"d3fb9ae7-d461-4f0b-be1b-5b64a88f983c\",\"type\":\"BasicTickFormatter\"},\"plot\":{\"id\":\"d57eaa2c-6591-4551-8142-2636c5f7af5e\",\"subtype\":\"Figure\",\"type\":\"Plot\"},\"ticker\":{\"id\":\"3a0d3b16-4c2f-463c-8881-e9628fe5bdba\",\"type\":\"BasicTicker\"}},\"id\":\"053f803c-2913-47ce-b474-036e80c4ad39\",\"type\":\"LinearAxis\"},{\"attributes\":{\"plot\":{\"id\":\"d57eaa2c-6591-4551-8142-2636c5f7af5e\",\"subtype\":\"Figure\",\"type\":\"Plot\"},\"ticker\":{\"id\":\"0b0361be-5d74-4d0f-8c89-5ff74b2f8e7e\",\"type\":\"CategoricalTicker\"}},\"id\":\"baad2aef-5ae2-4254-ad5a-88134d4e23ae\",\"type\":\"Grid\"},{\"attributes\":{\"active_drag\":\"auto\",\"active_inspect\":\"auto\",\"active_scroll\":\"auto\",\"active_tap\":\"auto\",\"tools\":[{\"id\":\"c0e960b3-8abf-4cfb-b25e-8e361971a3c0\",\"type\":\"PanTool\"},{\"id\":\"ca3ff3d4-ec2f-463e-bdb3-ea97827e0a70\",\"type\":\"WheelZoomTool\"},{\"id\":\"a7288263-db85-486b-a46d-cdd2e8a7c057\",\"type\":\"BoxZoomTool\"},{\"id\":\"87f3e190-1517-4291-91b6-fc3ab3e479b7\",\"type\":\"SaveTool\"},{\"id\":\"d2cb04d1-7261-435a-b74d-51c520b9e9c6\",\"type\":\"ResetTool\"},{\"id\":\"8e345287-2658-4dd0-9ff9-b27f981d48fe\",\"type\":\"HelpTool\"}]},\"id\":\"5942fda1-a761-4a65-92fb-8f9d1896c7a7\",\"type\":\"Toolbar\"},{\"attributes\":{},\"id\":\"3a0d3b16-4c2f-463c-8881-e9628fe5bdba\",\"type\":\"BasicTicker\"},{\"attributes\":{},\"id\":\"20ba0312-0b2e-4b27-9931-413c84b2879c\",\"type\":\"LinearScale\"},{\"attributes\":{},\"id\":\"efcc238c-c074-4aa6-a6c1-c19648e722d0\",\"type\":\"Selection\"},{\"attributes\":{\"callback\":null},\"id\":\"7c8e4523-675a-4f4f-a0be-fe658da49501\",\"type\":\"DataRange1d\"},{\"attributes\":{\"axis_label\":\"spectral band\",\"formatter\":{\"id\":\"731918f5-054d-4f79-954c-279b7a6741a4\",\"type\":\"CategoricalTickFormatter\"},\"plot\":{\"id\":\"d57eaa2c-6591-4551-8142-2636c5f7af5e\",\"subtype\":\"Figure\",\"type\":\"Plot\"},\"ticker\":{\"id\":\"0b0361be-5d74-4d0f-8c89-5ff74b2f8e7e\",\"type\":\"CategoricalTicker\"}},\"id\":\"44236991-64b5-4d56-9130-8d7c57d8007d\",\"type\":\"CategoricalAxis\"},{\"attributes\":{\"dimension\":1,\"plot\":{\"id\":\"a2df8f14-28e7-4bc0-93c9-ddabfe573448\",\"subtype\":\"Figure\",\"type\":\"Plot\"},\"ticker\":{\"id\":\"29816f76-d3c2-4673-b913-25657bcb4404\",\"type\":\"BasicTicker\"}},\"id\":\"a569e44c-0a4f-4b69-bd8e-f0f312862930\",\"type\":\"Grid\"},{\"attributes\":{},\"id\":\"e4d8a71f-d695-4af5-8df1-5e960631c325\",\"type\":\"HelpTool\"},{\"attributes\":{},\"id\":\"46b9a73d-3d3d-48b3-ae0a-4b6fd2d25334\",\"type\":\"SaveTool\"},{\"attributes\":{\"fill_alpha\":{\"value\":0.1},\"fill_color\":{\"value\":\"#1f77b4\"},\"line_alpha\":{\"value\":0.1},\"line_color\":{\"value\":\"#1f77b4\"},\"top\":{\"field\":\"flux\"},\"width\":{\"value\":0.9},\"x\":{\"field\":\"band\"}},\"id\":\"d3d86284-33e5-41f3-9c28-9bfd62d1f120\",\"type\":\"VBar\"},{\"attributes\":{\"children\":[{\"id\":\"bb9eef12-1273-4e9d-9e60-e458b09bc896\",\"type\":\"Row\"}]},\"id\":\"773a2b01-2453-4b34-adce-b4655652e932\",\"type\":\"Column\"},{\"attributes\":{},\"id\":\"0296b9f3-001e-495e-9caa-1e26713cffcb\",\"type\":\"ResetTool\"},{\"attributes\":{\"source\":{\"id\":\"5e4e052a-fb89-4aba-8dc6-70dcb203bb51\",\"type\":\"ColumnDataSource\"}},\"id\":\"c84a4962-765b-44c7-addb-5477e98b0339\",\"type\":\"CDSView\"},{\"attributes\":{\"source\":{\"id\":\"e84903a9-89c6-4c23-9ef0-c89bc3fec838\",\"type\":\"ColumnDataSource\"}},\"id\":\"c09f2767-dd65-4568-8053-779cb6c3fa82\",\"type\":\"CDSView\"},{\"attributes\":{\"callback\":null,\"factors\":[\"3\",\"4\",\"5\",\"6\",\"7\",\"11\"]},\"id\":\"449d965d-2399-4e14-94c9-187a61f828d5\",\"type\":\"FactorRange\"},{\"attributes\":{},\"id\":\"d3fb9ae7-d461-4f0b-be1b-5b64a88f983c\",\"type\":\"BasicTickFormatter\"},{\"attributes\":{\"fill_alpha\":{\"value\":0.1},\"fill_color\":{\"value\":\"#1f77b4\"},\"line_alpha\":{\"value\":0.1},\"line_color\":{\"value\":\"#1f77b4\"},\"top\":{\"field\":\"flux\"},\"width\":{\"value\":0.9},\"x\":{\"field\":\"band\"}},\"id\":\"eefc9091-d038-4e64-8878-702f21bf7cd3\",\"type\":\"VBar\"},{\"attributes\":{\"plot\":null,\"text\":\"SFC flux. CLIRAD - CRD.\"},\"id\":\"cbe1eb64-d2a8-4a7e-9853-faed7b0292fd\",\"type\":\"Title\"},{\"attributes\":{\"tools\":[{\"id\":\"b27760e2-c45c-4b5d-9a34-f66865f93979\",\"type\":\"PanTool\"},{\"id\":\"f77387ee-a79e-469d-aba9-5484a181580d\",\"type\":\"WheelZoomTool\"},{\"id\":\"4dd74113-e05c-4a8b-beab-517d73b542bb\",\"type\":\"BoxZoomTool\"},{\"id\":\"fdd800b6-a0e2-4bbd-acd6-3e264f8fbdbf\",\"type\":\"SaveTool\"},{\"id\":\"d22a728b-a0d3-438e-839c-5d5f40ea79a7\",\"type\":\"ResetTool\"},{\"id\":\"6c2a035d-99ff-494a-88cb-ddbc2dc3ca2e\",\"type\":\"HelpTool\"},{\"id\":\"c0e960b3-8abf-4cfb-b25e-8e361971a3c0\",\"type\":\"PanTool\"},{\"id\":\"ca3ff3d4-ec2f-463e-bdb3-ea97827e0a70\",\"type\":\"WheelZoomTool\"},{\"id\":\"a7288263-db85-486b-a46d-cdd2e8a7c057\",\"type\":\"BoxZoomTool\"},{\"id\":\"87f3e190-1517-4291-91b6-fc3ab3e479b7\",\"type\":\"SaveTool\"},{\"id\":\"d2cb04d1-7261-435a-b74d-51c520b9e9c6\",\"type\":\"ResetTool\"},{\"id\":\"8e345287-2658-4dd0-9ff9-b27f981d48fe\",\"type\":\"HelpTool\"},{\"id\":\"aa5e874a-95c1-4437-b2b4-a3e6e5a09a7b\",\"type\":\"PanTool\"},{\"id\":\"ec25c0c8-077a-48e5-8da3-39ea78d0eeba\",\"type\":\"WheelZoomTool\"},{\"id\":\"eb8faf61-1b7f-4e7e-99a1-8d2b42218585\",\"type\":\"BoxZoomTool\"},{\"id\":\"46b9a73d-3d3d-48b3-ae0a-4b6fd2d25334\",\"type\":\"SaveTool\"},{\"id\":\"0296b9f3-001e-495e-9caa-1e26713cffcb\",\"type\":\"ResetTool\"},{\"id\":\"e4d8a71f-d695-4af5-8df1-5e960631c325\",\"type\":\"HelpTool\"}]},\"id\":\"51aa8588-0a83-436e-a6e3-d651f091f930\",\"type\":\"ProxyToolbar\"},{\"attributes\":{\"bottom_units\":\"screen\",\"fill_alpha\":{\"value\":0.5},\"fill_color\":{\"value\":\"lightgrey\"},\"left_units\":\"screen\",\"level\":\"overlay\",\"line_alpha\":{\"value\":1.0},\"line_color\":{\"value\":\"black\"},\"line_dash\":[4,4],\"line_width\":{\"value\":2},\"plot\":null,\"render_mode\":\"css\",\"right_units\":\"screen\",\"top_units\":\"screen\"},\"id\":\"94340cfc-62c8-4813-8658-80f082802c36\",\"type\":\"BoxAnnotation\"},{\"attributes\":{\"axis_label\":\"flux (W m-2)\",\"formatter\":{\"id\":\"59de4693-5669-433b-820e-3dcf30248c7f\",\"type\":\"BasicTickFormatter\"},\"plot\":{\"id\":\"a2df8f14-28e7-4bc0-93c9-ddabfe573448\",\"subtype\":\"Figure\",\"type\":\"Plot\"},\"ticker\":{\"id\":\"29816f76-d3c2-4673-b913-25657bcb4404\",\"type\":\"BasicTicker\"}},\"id\":\"78859801-ec60-4624-bc8f-aca7d0405fe6\",\"type\":\"LinearAxis\"},{\"attributes\":{\"below\":[{\"id\":\"b10ac39d-6917-44e0-a895-14eef1429b79\",\"type\":\"CategoricalAxis\"}],\"left\":[{\"id\":\"78859801-ec60-4624-bc8f-aca7d0405fe6\",\"type\":\"LinearAxis\"}],\"plot_height\":300,\"plot_width\":300,\"renderers\":[{\"id\":\"b10ac39d-6917-44e0-a895-14eef1429b79\",\"type\":\"CategoricalAxis\"},{\"id\":\"2f99ab87-ef14-401c-b4b6-23355f873b68\",\"type\":\"Grid\"},{\"id\":\"78859801-ec60-4624-bc8f-aca7d0405fe6\",\"type\":\"LinearAxis\"},{\"id\":\"a569e44c-0a4f-4b69-bd8e-f0f312862930\",\"type\":\"Grid\"},{\"id\":\"db6fe197-dad1-4aca-98c3-033e76fe8456\",\"type\":\"BoxAnnotation\"},{\"id\":\"83a796fb-51d5-499a-8ca4-a893a4e6cd7b\",\"type\":\"GlyphRenderer\"}],\"title\":{\"id\":\"35920506-0ec7-4da2-a011-eac2bdc98a90\",\"type\":\"Title\"},\"toolbar\":{\"id\":\"8bb71c10-a5bb-4116-a3ff-8500b42ecc49\",\"type\":\"Toolbar\"},\"toolbar_location\":null,\"x_range\":{\"id\":\"4618d444-c7ae-47b6-8ff8-340ac29f30be\",\"type\":\"FactorRange\"},\"x_scale\":{\"id\":\"b7a14c0f-0360-43ff-b319-b89257e1a5ea\",\"type\":\"CategoricalScale\"},\"y_range\":{\"id\":\"39793c5f-9565-482b-a483-022955e37501\",\"type\":\"DataRange1d\"},\"y_scale\":{\"id\":\"58e07722-bb76-4561-9aa2-f792c3c42762\",\"type\":\"LinearScale\"}},\"id\":\"a2df8f14-28e7-4bc0-93c9-ddabfe573448\",\"subtype\":\"Figure\",\"type\":\"Plot\"},{\"attributes\":{},\"id\":\"d8931352-6ad4-4da1-a9b8-9ba9c5f06f5a\",\"type\":\"CategoricalTickFormatter\"},{\"attributes\":{\"data_source\":{\"id\":\"dc623f41-3666-4d82-8f75-7de50de52d60\",\"type\":\"ColumnDataSource\"},\"glyph\":{\"id\":\"ced94fc1-db52-4835-9d18-4852a2bf4cf5\",\"type\":\"VBar\"},\"hover_glyph\":null,\"muted_glyph\":null,\"nonselection_glyph\":{\"id\":\"d3d86284-33e5-41f3-9c28-9bfd62d1f120\",\"type\":\"VBar\"},\"selection_glyph\":null,\"view\":{\"id\":\"7f90ed3d-bd5e-4c79-b186-ef99dd5ee3e2\",\"type\":\"CDSView\"}},\"id\":\"105acb5b-3290-42f3-a35f-977f80ffb55b\",\"type\":\"GlyphRenderer\"},{\"attributes\":{},\"id\":\"b27760e2-c45c-4b5d-9a34-f66865f93979\",\"type\":\"PanTool\"},{\"attributes\":{},\"id\":\"28ca6ec7-02e2-45e1-a58b-6e7a016ae76b\",\"type\":\"CategoricalTickFormatter\"},{\"attributes\":{\"callback\":null,\"data\":{\"band\":[\"3\",\"4\",\"5\",\"6\",\"7\",\"11\"],\"flux\":{\"__ndarray__\":\"gFR8N83hxL8ACT//YX3UPwA5XkvRlL6/AACics+Xlz8AyGBBcTKRP0Br0G0xtbC/\",\"dtype\":\"float64\",\"shape\":[6]}},\"selected\":{\"id\":\"05cd8adf-2d0b-4492-8cd1-b7d0a6e1a822\",\"type\":\"Selection\"},\"selection_policy\":{\"id\":\"ae03fbc0-e47e-420a-b53b-513adf379e2d\",\"type\":\"UnionRenderers\"}},\"id\":\"e84903a9-89c6-4c23-9ef0-c89bc3fec838\",\"type\":\"ColumnDataSource\"},{\"attributes\":{\"overlay\":{\"id\":\"94340cfc-62c8-4813-8658-80f082802c36\",\"type\":\"BoxAnnotation\"}},\"id\":\"4dd74113-e05c-4a8b-beab-517d73b542bb\",\"type\":\"BoxZoomTool\"},{\"attributes\":{\"callback\":null},\"id\":\"39793c5f-9565-482b-a483-022955e37501\",\"type\":\"DataRange1d\"},{\"attributes\":{},\"id\":\"f77387ee-a79e-469d-aba9-5484a181580d\",\"type\":\"WheelZoomTool\"},{\"attributes\":{},\"id\":\"5d51ed46-d572-4f6e-9988-98eaf183bd48\",\"type\":\"UnionRenderers\"},{\"attributes\":{},\"id\":\"d22a728b-a0d3-438e-839c-5d5f40ea79a7\",\"type\":\"ResetTool\"},{\"attributes\":{\"toolbar\":{\"id\":\"51aa8588-0a83-436e-a6e3-d651f091f930\",\"type\":\"ProxyToolbar\"},\"toolbar_location\":\"above\"},\"id\":\"b07db229-e7a8-4f9a-b8f4-d6aa8786f8f2\",\"type\":\"ToolbarBox\"},{\"attributes\":{},\"id\":\"fdd800b6-a0e2-4bbd-acd6-3e264f8fbdbf\",\"type\":\"SaveTool\"},{\"attributes\":{},\"id\":\"6c2a035d-99ff-494a-88cb-ddbc2dc3ca2e\",\"type\":\"HelpTool\"},{\"attributes\":{},\"id\":\"58e07722-bb76-4561-9aa2-f792c3c42762\",\"type\":\"LinearScale\"},{\"attributes\":{},\"id\":\"ae03fbc0-e47e-420a-b53b-513adf379e2d\",\"type\":\"UnionRenderers\"},{\"attributes\":{},\"id\":\"731918f5-054d-4f79-954c-279b7a6741a4\",\"type\":\"CategoricalTickFormatter\"},{\"attributes\":{\"callback\":null},\"id\":\"94c55c12-7967-4f31-85ef-1cad89b2a9b5\",\"type\":\"DataRange1d\"},{\"attributes\":{\"fill_color\":{\"value\":\"#1f77b4\"},\"line_color\":{\"value\":\"#1f77b4\"},\"top\":{\"field\":\"flux\"},\"width\":{\"value\":0.9},\"x\":{\"field\":\"band\"}},\"id\":\"62ec3aca-de23-4026-ac9c-2dc328dd7e1a\",\"type\":\"VBar\"},{\"attributes\":{\"children\":[{\"id\":\"b07db229-e7a8-4f9a-b8f4-d6aa8786f8f2\",\"type\":\"ToolbarBox\"},{\"id\":\"773a2b01-2453-4b34-adce-b4655652e932\",\"type\":\"Column\"}]},\"id\":\"3737a978-7233-4e8b-828f-7bbf33f5306a\",\"type\":\"Column\"},{\"attributes\":{\"below\":[{\"id\":\"44236991-64b5-4d56-9130-8d7c57d8007d\",\"type\":\"CategoricalAxis\"}],\"left\":[{\"id\":\"053f803c-2913-47ce-b474-036e80c4ad39\",\"type\":\"LinearAxis\"}],\"plot_height\":300,\"plot_width\":300,\"renderers\":[{\"id\":\"44236991-64b5-4d56-9130-8d7c57d8007d\",\"type\":\"CategoricalAxis\"},{\"id\":\"baad2aef-5ae2-4254-ad5a-88134d4e23ae\",\"type\":\"Grid\"},{\"id\":\"053f803c-2913-47ce-b474-036e80c4ad39\",\"type\":\"LinearAxis\"},{\"id\":\"7623f1f8-bc7b-421c-a940-dadf2721c49f\",\"type\":\"Grid\"},{\"id\":\"94340cfc-62c8-4813-8658-80f082802c36\",\"type\":\"BoxAnnotation\"},{\"id\":\"105acb5b-3290-42f3-a35f-977f80ffb55b\",\"type\":\"GlyphRenderer\"}],\"title\":{\"id\":\"9288cde8-9663-4417-8268-215cd6054131\",\"type\":\"Title\"},\"toolbar\":{\"id\":\"eaa4eee7-b1cd-4ab1-9f45-d4ae8444051d\",\"type\":\"Toolbar\"},\"toolbar_location\":null,\"x_range\":{\"id\":\"449d965d-2399-4e14-94c9-187a61f828d5\",\"type\":\"FactorRange\"},\"x_scale\":{\"id\":\"9033396b-4b6f-462c-973d-0a4a5088b23b\",\"type\":\"CategoricalScale\"},\"y_range\":{\"id\":\"7c8e4523-675a-4f4f-a0be-fe658da49501\",\"type\":\"DataRange1d\"},\"y_scale\":{\"id\":\"20ba0312-0b2e-4b27-9931-413c84b2879c\",\"type\":\"LinearScale\"}},\"id\":\"d57eaa2c-6591-4551-8142-2636c5f7af5e\",\"subtype\":\"Figure\",\"type\":\"Plot\"},{\"attributes\":{\"data_source\":{\"id\":\"5e4e052a-fb89-4aba-8dc6-70dcb203bb51\",\"type\":\"ColumnDataSource\"},\"glyph\":{\"id\":\"da2d2b8a-3535-43e5-b324-d3378c7b41e6\",\"type\":\"VBar\"},\"hover_glyph\":null,\"muted_glyph\":null,\"nonselection_glyph\":{\"id\":\"bd496669-4edd-46a2-8a9f-ba9b37bc3dc5\",\"type\":\"VBar\"},\"selection_glyph\":null,\"view\":{\"id\":\"c84a4962-765b-44c7-addb-5477e98b0339\",\"type\":\"CDSView\"}},\"id\":\"e145f6cf-0384-465c-b389-7a43799871b4\",\"type\":\"GlyphRenderer\"},{\"attributes\":{\"bottom_units\":\"screen\",\"fill_alpha\":{\"value\":0.5},\"fill_color\":{\"value\":\"lightgrey\"},\"left_units\":\"screen\",\"level\":\"overlay\",\"line_alpha\":{\"value\":1.0},\"line_color\":{\"value\":\"black\"},\"line_dash\":[4,4],\"line_width\":{\"value\":2},\"plot\":null,\"render_mode\":\"css\",\"right_units\":\"screen\",\"top_units\":\"screen\"},\"id\":\"db6fe197-dad1-4aca-98c3-033e76fe8456\",\"type\":\"BoxAnnotation\"},{\"attributes\":{\"callback\":null,\"factors\":[\"3\",\"4\",\"5\",\"6\",\"7\",\"11\"]},\"id\":\"4618d444-c7ae-47b6-8ff8-340ac29f30be\",\"type\":\"FactorRange\"},{\"attributes\":{},\"id\":\"aa5e874a-95c1-4437-b2b4-a3e6e5a09a7b\",\"type\":\"PanTool\"},{\"attributes\":{\"source\":{\"id\":\"dc623f41-3666-4d82-8f75-7de50de52d60\",\"type\":\"ColumnDataSource\"}},\"id\":\"7f90ed3d-bd5e-4c79-b186-ef99dd5ee3e2\",\"type\":\"CDSView\"},{\"attributes\":{\"children\":[{\"id\":\"d57eaa2c-6591-4551-8142-2636c5f7af5e\",\"subtype\":\"Figure\",\"type\":\"Plot\"},{\"id\":\"34e188dd-d075-4ab1-87f2-4cf6aa1e59aa\",\"subtype\":\"Figure\",\"type\":\"Plot\"},{\"id\":\"a2df8f14-28e7-4bc0-93c9-ddabfe573448\",\"subtype\":\"Figure\",\"type\":\"Plot\"}]},\"id\":\"bb9eef12-1273-4e9d-9e60-e458b09bc896\",\"type\":\"Row\"},{\"attributes\":{\"data_source\":{\"id\":\"e84903a9-89c6-4c23-9ef0-c89bc3fec838\",\"type\":\"ColumnDataSource\"},\"glyph\":{\"id\":\"62ec3aca-de23-4026-ac9c-2dc328dd7e1a\",\"type\":\"VBar\"},\"hover_glyph\":null,\"muted_glyph\":null,\"nonselection_glyph\":{\"id\":\"eefc9091-d038-4e64-8878-702f21bf7cd3\",\"type\":\"VBar\"},\"selection_glyph\":null,\"view\":{\"id\":\"c09f2767-dd65-4568-8053-779cb6c3fa82\",\"type\":\"CDSView\"}},\"id\":\"83a796fb-51d5-499a-8ca4-a893a4e6cd7b\",\"type\":\"GlyphRenderer\"},{\"attributes\":{},\"id\":\"ec25c0c8-077a-48e5-8da3-39ea78d0eeba\",\"type\":\"WheelZoomTool\"},{\"attributes\":{},\"id\":\"c0e960b3-8abf-4cfb-b25e-8e361971a3c0\",\"type\":\"PanTool\"},{\"attributes\":{},\"id\":\"a8b2aeb9-2a94-4aaf-a86e-5bddbca804da\",\"type\":\"Selection\"},{\"attributes\":{\"below\":[{\"id\":\"ca3635b8-65cf-4ef7-bf40-d7ce5fdf4c22\",\"type\":\"CategoricalAxis\"}],\"left\":[{\"id\":\"ba991a05-6cf7-4f96-bc10-cb2e91231073\",\"type\":\"LinearAxis\"}],\"plot_height\":300,\"plot_width\":300,\"renderers\":[{\"id\":\"ca3635b8-65cf-4ef7-bf40-d7ce5fdf4c22\",\"type\":\"CategoricalAxis\"},{\"id\":\"456ba743-17d4-464b-b846-6740332b17d5\",\"type\":\"Grid\"},{\"id\":\"ba991a05-6cf7-4f96-bc10-cb2e91231073\",\"type\":\"LinearAxis\"},{\"id\":\"78f1d958-1c5f-4568-949b-175f9ba736c4\",\"type\":\"Grid\"},{\"id\":\"fa68f66c-cccf-4fd7-8254-428ccfe85ebd\",\"type\":\"BoxAnnotation\"},{\"id\":\"e145f6cf-0384-465c-b389-7a43799871b4\",\"type\":\"GlyphRenderer\"}],\"title\":{\"id\":\"cbe1eb64-d2a8-4a7e-9853-faed7b0292fd\",\"type\":\"Title\"},\"toolbar\":{\"id\":\"5942fda1-a761-4a65-92fb-8f9d1896c7a7\",\"type\":\"Toolbar\"},\"toolbar_location\":null,\"x_range\":{\"id\":\"5dddf915-fc2b-4934-8cb6-45fe39422cd1\",\"type\":\"FactorRange\"},\"x_scale\":{\"id\":\"7b0cb257-7bdc-45cb-a57c-49efa55f4185\",\"type\":\"CategoricalScale\"},\"y_range\":{\"id\":\"94c55c12-7967-4f31-85ef-1cad89b2a9b5\",\"type\":\"DataRange1d\"},\"y_scale\":{\"id\":\"a14912f8-6c83-4d36-b1ec-66ba4262ca6d\",\"type\":\"LinearScale\"}},\"id\":\"34e188dd-d075-4ab1-87f2-4cf6aa1e59aa\",\"subtype\":\"Figure\",\"type\":\"Plot\"},{\"attributes\":{},\"id\":\"05cd8adf-2d0b-4492-8cd1-b7d0a6e1a822\",\"type\":\"Selection\"},{\"attributes\":{\"axis_label\":\"spectral band\",\"formatter\":{\"id\":\"28ca6ec7-02e2-45e1-a58b-6e7a016ae76b\",\"type\":\"CategoricalTickFormatter\"},\"plot\":{\"id\":\"a2df8f14-28e7-4bc0-93c9-ddabfe573448\",\"subtype\":\"Figure\",\"type\":\"Plot\"},\"ticker\":{\"id\":\"f25968d8-51f9-41d1-93ed-78455af61aa3\",\"type\":\"CategoricalTicker\"}},\"id\":\"b10ac39d-6917-44e0-a895-14eef1429b79\",\"type\":\"CategoricalAxis\"},{\"attributes\":{},\"id\":\"2cd9899c-713d-456b-8044-8eb8f22e2e1e\",\"type\":\"BasicTicker\"},{\"attributes\":{},\"id\":\"f25968d8-51f9-41d1-93ed-78455af61aa3\",\"type\":\"CategoricalTicker\"},{\"attributes\":{\"fill_color\":{\"value\":\"#1f77b4\"},\"line_color\":{\"value\":\"#1f77b4\"},\"top\":{\"field\":\"flux\"},\"width\":{\"value\":0.9},\"x\":{\"field\":\"band\"}},\"id\":\"da2d2b8a-3535-43e5-b324-d3378c7b41e6\",\"type\":\"VBar\"},{\"attributes\":{\"plot\":null,\"text\":\"Atmosphere heating. CLIRAD - CRD.\"},\"id\":\"35920506-0ec7-4da2-a011-eac2bdc98a90\",\"type\":\"Title\"},{\"attributes\":{},\"id\":\"da29d5c9-69f9-4f14-9d64-f67c8f82ea31\",\"type\":\"UnionRenderers\"},{\"attributes\":{\"active_drag\":\"auto\",\"active_inspect\":\"auto\",\"active_scroll\":\"auto\",\"active_tap\":\"auto\",\"tools\":[{\"id\":\"aa5e874a-95c1-4437-b2b4-a3e6e5a09a7b\",\"type\":\"PanTool\"},{\"id\":\"ec25c0c8-077a-48e5-8da3-39ea78d0eeba\",\"type\":\"WheelZoomTool\"},{\"id\":\"eb8faf61-1b7f-4e7e-99a1-8d2b42218585\",\"type\":\"BoxZoomTool\"},{\"id\":\"46b9a73d-3d3d-48b3-ae0a-4b6fd2d25334\",\"type\":\"SaveTool\"},{\"id\":\"0296b9f3-001e-495e-9caa-1e26713cffcb\",\"type\":\"ResetTool\"},{\"id\":\"e4d8a71f-d695-4af5-8df1-5e960631c325\",\"type\":\"HelpTool\"}]},\"id\":\"8bb71c10-a5bb-4116-a3ff-8500b42ecc49\",\"type\":\"Toolbar\"},{\"attributes\":{},\"id\":\"a14912f8-6c83-4d36-b1ec-66ba4262ca6d\",\"type\":\"LinearScale\"},{\"attributes\":{\"plot\":{\"id\":\"34e188dd-d075-4ab1-87f2-4cf6aa1e59aa\",\"subtype\":\"Figure\",\"type\":\"Plot\"},\"ticker\":{\"id\":\"39ba938c-4288-4ecf-8132-ff778158528b\",\"type\":\"CategoricalTicker\"}},\"id\":\"456ba743-17d4-464b-b846-6740332b17d5\",\"type\":\"Grid\"},{\"attributes\":{\"callback\":null,\"data\":{\"band\":[\"3\",\"4\",\"5\",\"6\",\"7\",\"11\"],\"flux\":{\"__ndarray__\":\"AODSlBHVpT8A/h1cyhG5PwBW762eLN8/oENLCmtksb/gluijwaqrv4AbUCJKI8U/\",\"dtype\":\"float64\",\"shape\":[6]}},\"selected\":{\"id\":\"a8b2aeb9-2a94-4aaf-a86e-5bddbca804da\",\"type\":\"Selection\"},\"selection_policy\":{\"id\":\"da29d5c9-69f9-4f14-9d64-f67c8f82ea31\",\"type\":\"UnionRenderers\"}},\"id\":\"5e4e052a-fb89-4aba-8dc6-70dcb203bb51\",\"type\":\"ColumnDataSource\"},{\"attributes\":{\"axis_label\":\"flux (W m-2)\",\"formatter\":{\"id\":\"43880bb1-1c46-4c3f-b138-f1a6ebe2d7c0\",\"type\":\"BasicTickFormatter\"},\"plot\":{\"id\":\"34e188dd-d075-4ab1-87f2-4cf6aa1e59aa\",\"subtype\":\"Figure\",\"type\":\"Plot\"},\"ticker\":{\"id\":\"2cd9899c-713d-456b-8044-8eb8f22e2e1e\",\"type\":\"BasicTicker\"}},\"id\":\"ba991a05-6cf7-4f96-bc10-cb2e91231073\",\"type\":\"LinearAxis\"},{\"attributes\":{\"dimension\":1,\"plot\":{\"id\":\"34e188dd-d075-4ab1-87f2-4cf6aa1e59aa\",\"subtype\":\"Figure\",\"type\":\"Plot\"},\"ticker\":{\"id\":\"2cd9899c-713d-456b-8044-8eb8f22e2e1e\",\"type\":\"BasicTicker\"}},\"id\":\"78f1d958-1c5f-4568-949b-175f9ba736c4\",\"type\":\"Grid\"},{\"attributes\":{},\"id\":\"39ba938c-4288-4ecf-8132-ff778158528b\",\"type\":\"CategoricalTicker\"},{\"attributes\":{\"callback\":null,\"factors\":[\"3\",\"4\",\"5\",\"6\",\"7\",\"11\"]},\"id\":\"5dddf915-fc2b-4934-8cb6-45fe39422cd1\",\"type\":\"FactorRange\"},{\"attributes\":{\"callback\":null,\"data\":{\"band\":[\"3\",\"4\",\"5\",\"6\",\"7\",\"11\"],\"flux\":{\"__ndarray__\":\"AATcjNDYvr/A2Vkfz8HaP0DYkz9mh9c/ADAJedL8pr8ALAuYUxGjv0CXeWBekbk/\",\"dtype\":\"float64\",\"shape\":[6]}},\"selected\":{\"id\":\"efcc238c-c074-4aa6-a6c1-c19648e722d0\",\"type\":\"Selection\"},\"selection_policy\":{\"id\":\"5d51ed46-d572-4f6e-9988-98eaf183bd48\",\"type\":\"UnionRenderers\"}},\"id\":\"dc623f41-3666-4d82-8f75-7de50de52d60\",\"type\":\"ColumnDataSource\"},{\"attributes\":{\"axis_label\":\"spectral band\",\"formatter\":{\"id\":\"d8931352-6ad4-4da1-a9b8-9ba9c5f06f5a\",\"type\":\"CategoricalTickFormatter\"},\"plot\":{\"id\":\"34e188dd-d075-4ab1-87f2-4cf6aa1e59aa\",\"subtype\":\"Figure\",\"type\":\"Plot\"},\"ticker\":{\"id\":\"39ba938c-4288-4ecf-8132-ff778158528b\",\"type\":\"CategoricalTicker\"}},\"id\":\"ca3635b8-65cf-4ef7-bf40-d7ce5fdf4c22\",\"type\":\"CategoricalAxis\"},{\"attributes\":{\"fill_alpha\":{\"value\":0.1},\"fill_color\":{\"value\":\"#1f77b4\"},\"line_alpha\":{\"value\":0.1},\"line_color\":{\"value\":\"#1f77b4\"},\"top\":{\"field\":\"flux\"},\"width\":{\"value\":0.9},\"x\":{\"field\":\"band\"}},\"id\":\"bd496669-4edd-46a2-8a9f-ba9b37bc3dc5\",\"type\":\"VBar\"},{\"attributes\":{},\"id\":\"ca3ff3d4-ec2f-463e-bdb3-ea97827e0a70\",\"type\":\"WheelZoomTool\"}],\"root_ids\":[\"3737a978-7233-4e8b-828f-7bbf33f5306a\"]},\"title\":\"Bokeh Application\",\"version\":\"0.12.16\"}};\n",
       "  var render_items = [{\"docid\":\"b920094b-2d87-4c1d-b8fb-d0bd24751c4e\",\"elementid\":\"3f46092e-b830-4300-91fd-eb1499b98c26\",\"modelid\":\"3737a978-7233-4e8b-828f-7bbf33f5306a\"}];\n",
       "  root.Bokeh.embed.embed_items_notebook(docs_json, render_items);\n",
       "\n",
       "  }\n",
       "  if (root.Bokeh !== undefined) {\n",
       "    embed_document(root);\n",
       "  } else {\n",
       "    var attempts = 0;\n",
       "    var timer = setInterval(function(root) {\n",
       "      if (root.Bokeh !== undefined) {\n",
       "        embed_document(root);\n",
       "        clearInterval(timer);\n",
       "      }\n",
       "      attempts++;\n",
       "      if (attempts > 100) {\n",
       "        console.log(\"Bokeh: ERROR: Unable to run BokehJS code because BokehJS library is missing\")\n",
       "        clearInterval(timer);\n",
       "      }\n",
       "    }, 10, root)\n",
       "  }\n",
       "})(window);"
      ],
      "application/vnd.bokehjs_exec.v0+json": ""
     },
     "metadata": {
      "application/vnd.bokehjs_exec.v0+json": {
       "id": "3737a978-7233-4e8b-828f-7bbf33f5306a"
      }
     },
     "output_type": "display_data"
    },
    {
     "data": {
      "text/markdown": [
       "*FIGURE.* Difference between CLIRAD and CRD in TOA, SFC and net atmosphere flux, in each spectral band."
      ],
      "text/plain": [
       "<IPython.core.display.Markdown object>"
      ]
     },
     "metadata": {},
     "output_type": "display_data"
    },
    {
     "data": {
      "text/html": [
       "<div>\n",
       "<style scoped>\n",
       "    .dataframe tbody tr th:only-of-type {\n",
       "        vertical-align: middle;\n",
       "    }\n",
       "\n",
       "    .dataframe tbody tr th {\n",
       "        vertical-align: top;\n",
       "    }\n",
       "\n",
       "    .dataframe thead th {\n",
       "        text-align: right;\n",
       "    }\n",
       "</style>\n",
       "<table border=\"1\" class=\"dataframe\">\n",
       "  <thead>\n",
       "    <tr style=\"text-align: right;\">\n",
       "      <th></th>\n",
       "      <th>OLR flux</th>\n",
       "      <th>SFC flux</th>\n",
       "      <th>ATM heating</th>\n",
       "    </tr>\n",
       "    <tr>\n",
       "      <th>Sum over bands</th>\n",
       "      <th></th>\n",
       "      <th></th>\n",
       "      <th></th>\n",
       "    </tr>\n",
       "  </thead>\n",
       "  <tbody>\n",
       "    <tr>\n",
       "      <th>CLIRAD - CRD</th>\n",
       "      <td>0.68</td>\n",
       "      <td>0.67</td>\n",
       "      <td>0.01</td>\n",
       "    </tr>\n",
       "    <tr>\n",
       "      <th>CRD</th>\n",
       "      <td>-182.34</td>\n",
       "      <td>85.22</td>\n",
       "      <td>-36.52</td>\n",
       "    </tr>\n",
       "  </tbody>\n",
       "</table>\n",
       "</div>"
      ],
      "text/plain": [
       "                OLR flux  SFC flux  ATM heating\n",
       "Sum over bands                                 \n",
       "CLIRAD - CRD        0.68      0.67         0.01\n",
       "CRD              -182.34     85.22       -36.52"
      ]
     },
     "metadata": {},
     "output_type": "display_data"
    },
    {
     "data": {
      "text/markdown": [
       "*TABLE.* Difference between CLIRAD and CRD in TOA, SFC and net atmosphere flux, over all spectral bands. CRD's TOA, SFC and net atmosphere flux, over all spectral bands."
      ],
      "text/plain": [
       "<IPython.core.display.Markdown object>"
      ]
     },
     "metadata": {},
     "output_type": "display_data"
    }
   ],
   "source": [
    "script()"
   ]
  },
  {
   "cell_type": "markdown",
   "metadata": {},
   "source": [
    "## --"
   ]
  },
  {
   "cell_type": "code",
   "execution_count": 146,
   "metadata": {},
   "outputs": [
    {
     "data": {
      "text/html": [
       "<script>\n",
       "code_show=true; \n",
       "function code_toggle() {\n",
       " if (code_show){\n",
       " $('div.input').hide();\n",
       " } else {\n",
       " $('div.input').show();\n",
       " }\n",
       " code_show = !code_show\n",
       "} \n",
       "$( document ).ready(code_toggle);\n",
       "</script>\n",
       "<form action=\"javascript:code_toggle()\"><input type=\"submit\" value=\"Click here to toggle on/off the raw code.\"></form>"
      ],
      "text/plain": [
       "<IPython.core.display.HTML object>"
      ]
     },
     "execution_count": 146,
     "metadata": {},
     "output_type": "execute_result"
    }
   ],
   "source": [
    "display.HTML('''<script>\n",
    "code_show=true; \n",
    "function code_toggle() {\n",
    " if (code_show){\n",
    " $('div.input').hide();\n",
    " } else {\n",
    " $('div.input').show();\n",
    " }\n",
    " code_show = !code_show\n",
    "} \n",
    "$( document ).ready(code_toggle);\n",
    "</script>\n",
    "<form action=\"javascript:code_toggle()\"><input type=\"submit\" value=\"Click here to toggle on/off the raw code.\"></form>''')"
   ]
  },
  {
   "cell_type": "code",
   "execution_count": null,
   "metadata": {
    "collapsed": true
   },
   "outputs": [],
   "source": []
  }
 ],
 "metadata": {
  "kernelspec": {
   "display_name": "Python 3",
   "language": "python",
   "name": "python3"
  },
  "language_info": {
   "codemirror_mode": {
    "name": "ipython",
    "version": 3
   },
   "file_extension": ".py",
   "mimetype": "text/x-python",
   "name": "python",
   "nbconvert_exporter": "python",
   "pygments_lexer": "ipython3",
   "version": "3.6.7"
  }
 },
 "nbformat": 4,
 "nbformat_minor": 2
}
