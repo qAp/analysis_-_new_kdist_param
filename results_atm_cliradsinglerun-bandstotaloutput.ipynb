{
 "cells": [
  {
   "cell_type": "code",
   "execution_count": 1,
   "metadata": {
    "collapsed": true
   },
   "outputs": [],
   "source": [
    "import os\n",
    "import ast\n",
    "import json\n",
    "import importlib \n",
    "import itertools\n",
    "import collections\n",
    "import pprint\n",
    "\n",
    "from bokeh.io import output_notebook, show\n",
    "from bokeh.layouts import gridplot\n",
    "from bokeh.plotting import figure\n",
    "from bokeh.models import Range1d, Legend, ColumnDataSource, FactorRange\n",
    "from bokeh.palettes import all_palettes\n",
    "from bokeh.transform import factor_cmap\n",
    "\n",
    "import matplotlib\n",
    "import matplotlib.pyplot as plt\n",
    "import numpy as np\n",
    "import pandas as pd\n",
    "import xarray as xr\n",
    "\n",
    "\n",
    "import climatools.lblnew.bestfit_params as bestfits\n",
    "from climatools.lblnew import setup_bestfit, setup_overlap\n",
    "import climatools.lblnew.pipeline as pipe_lblnew\n",
    "import climatools.cliradlw.setup as setup_cliradlw\n",
    "import climatools.cliradlw.pipeline as pipe_cliradlw\n",
    "\n",
    "import climatools.html.html as climahtml\n",
    "from climatools.lblnew.dataio import *\n",
    "from climatools.plot.plot import *\n",
    "\n",
    "\n",
    "from IPython import display\n",
    "\n",
    "#importlib.reload(bestfits)\n",
    "#importlib.reload(setup_bestfit)\n",
    "#importlib.reload(setup_overlap)\n",
    "#importlib.reload(pipe_lblnew)\n",
    "#importlib.reload(setup_cliradlw)\n",
    "#importlib.reload(pipe_cliradlw)"
   ]
  },
  {
   "cell_type": "code",
   "execution_count": 2,
   "metadata": {
    "scrolled": true
   },
   "outputs": [
    {
     "data": {
      "text/html": [
       "\n",
       "    <div class=\"bk-root\">\n",
       "        <a href=\"https://bokeh.pydata.org\" target=\"_blank\" class=\"bk-logo bk-logo-small bk-logo-notebook\"></a>\n",
       "        <span id=\"a71ad5b7-b807-47e2-932f-6a522745d0bb\">Loading BokehJS ...</span>\n",
       "    </div>"
      ]
     },
     "metadata": {},
     "output_type": "display_data"
    },
    {
     "data": {
      "application/javascript": [
       "\n",
       "(function(root) {\n",
       "  function now() {\n",
       "    return new Date();\n",
       "  }\n",
       "\n",
       "  var force = true;\n",
       "\n",
       "  if (typeof (root._bokeh_onload_callbacks) === \"undefined\" || force === true) {\n",
       "    root._bokeh_onload_callbacks = [];\n",
       "    root._bokeh_is_loading = undefined;\n",
       "  }\n",
       "\n",
       "  var JS_MIME_TYPE = 'application/javascript';\n",
       "  var HTML_MIME_TYPE = 'text/html';\n",
       "  var EXEC_MIME_TYPE = 'application/vnd.bokehjs_exec.v0+json';\n",
       "  var CLASS_NAME = 'output_bokeh rendered_html';\n",
       "\n",
       "  /**\n",
       "   * Render data to the DOM node\n",
       "   */\n",
       "  function render(props, node) {\n",
       "    var script = document.createElement(\"script\");\n",
       "    node.appendChild(script);\n",
       "  }\n",
       "\n",
       "  /**\n",
       "   * Handle when an output is cleared or removed\n",
       "   */\n",
       "  function handleClearOutput(event, handle) {\n",
       "    var cell = handle.cell;\n",
       "\n",
       "    var id = cell.output_area._bokeh_element_id;\n",
       "    var server_id = cell.output_area._bokeh_server_id;\n",
       "    // Clean up Bokeh references\n",
       "    if (id !== undefined) {\n",
       "      Bokeh.index[id].model.document.clear();\n",
       "      delete Bokeh.index[id];\n",
       "    }\n",
       "\n",
       "    if (server_id !== undefined) {\n",
       "      // Clean up Bokeh references\n",
       "      var cmd = \"from bokeh.io.state import curstate; print(curstate().uuid_to_server['\" + server_id + \"'].get_sessions()[0].document.roots[0]._id)\";\n",
       "      cell.notebook.kernel.execute(cmd, {\n",
       "        iopub: {\n",
       "          output: function(msg) {\n",
       "            var element_id = msg.content.text.trim();\n",
       "            Bokeh.index[element_id].model.document.clear();\n",
       "            delete Bokeh.index[element_id];\n",
       "          }\n",
       "        }\n",
       "      });\n",
       "      // Destroy server and session\n",
       "      var cmd = \"import bokeh.io.notebook as ion; ion.destroy_server('\" + server_id + \"')\";\n",
       "      cell.notebook.kernel.execute(cmd);\n",
       "    }\n",
       "  }\n",
       "\n",
       "  /**\n",
       "   * Handle when a new output is added\n",
       "   */\n",
       "  function handleAddOutput(event, handle) {\n",
       "    var output_area = handle.output_area;\n",
       "    var output = handle.output;\n",
       "\n",
       "    // limit handleAddOutput to display_data with EXEC_MIME_TYPE content only\n",
       "    if ((output.output_type != \"display_data\") || (!output.data.hasOwnProperty(EXEC_MIME_TYPE))) {\n",
       "      return\n",
       "    }\n",
       "\n",
       "    var toinsert = output_area.element.find(\".\" + CLASS_NAME.split(' ')[0]);\n",
       "\n",
       "    if (output.metadata[EXEC_MIME_TYPE][\"id\"] !== undefined) {\n",
       "      toinsert[toinsert.length - 1].firstChild.textContent = output.data[JS_MIME_TYPE];\n",
       "      // store reference to embed id on output_area\n",
       "      output_area._bokeh_element_id = output.metadata[EXEC_MIME_TYPE][\"id\"];\n",
       "    }\n",
       "    if (output.metadata[EXEC_MIME_TYPE][\"server_id\"] !== undefined) {\n",
       "      var bk_div = document.createElement(\"div\");\n",
       "      bk_div.innerHTML = output.data[HTML_MIME_TYPE];\n",
       "      var script_attrs = bk_div.children[0].attributes;\n",
       "      for (var i = 0; i < script_attrs.length; i++) {\n",
       "        toinsert[toinsert.length - 1].firstChild.setAttribute(script_attrs[i].name, script_attrs[i].value);\n",
       "      }\n",
       "      // store reference to server id on output_area\n",
       "      output_area._bokeh_server_id = output.metadata[EXEC_MIME_TYPE][\"server_id\"];\n",
       "    }\n",
       "  }\n",
       "\n",
       "  function register_renderer(events, OutputArea) {\n",
       "\n",
       "    function append_mime(data, metadata, element) {\n",
       "      // create a DOM node to render to\n",
       "      var toinsert = this.create_output_subarea(\n",
       "        metadata,\n",
       "        CLASS_NAME,\n",
       "        EXEC_MIME_TYPE\n",
       "      );\n",
       "      this.keyboard_manager.register_events(toinsert);\n",
       "      // Render to node\n",
       "      var props = {data: data, metadata: metadata[EXEC_MIME_TYPE]};\n",
       "      render(props, toinsert[toinsert.length - 1]);\n",
       "      element.append(toinsert);\n",
       "      return toinsert\n",
       "    }\n",
       "\n",
       "    /* Handle when an output is cleared or removed */\n",
       "    events.on('clear_output.CodeCell', handleClearOutput);\n",
       "    events.on('delete.Cell', handleClearOutput);\n",
       "\n",
       "    /* Handle when a new output is added */\n",
       "    events.on('output_added.OutputArea', handleAddOutput);\n",
       "\n",
       "    /**\n",
       "     * Register the mime type and append_mime function with output_area\n",
       "     */\n",
       "    OutputArea.prototype.register_mime_type(EXEC_MIME_TYPE, append_mime, {\n",
       "      /* Is output safe? */\n",
       "      safe: true,\n",
       "      /* Index of renderer in `output_area.display_order` */\n",
       "      index: 0\n",
       "    });\n",
       "  }\n",
       "\n",
       "  // register the mime type if in Jupyter Notebook environment and previously unregistered\n",
       "  if (root.Jupyter !== undefined) {\n",
       "    var events = require('base/js/events');\n",
       "    var OutputArea = require('notebook/js/outputarea').OutputArea;\n",
       "\n",
       "    if (OutputArea.prototype.mime_types().indexOf(EXEC_MIME_TYPE) == -1) {\n",
       "      register_renderer(events, OutputArea);\n",
       "    }\n",
       "  }\n",
       "\n",
       "  \n",
       "  if (typeof (root._bokeh_timeout) === \"undefined\" || force === true) {\n",
       "    root._bokeh_timeout = Date.now() + 5000;\n",
       "    root._bokeh_failed_load = false;\n",
       "  }\n",
       "\n",
       "  var NB_LOAD_WARNING = {'data': {'text/html':\n",
       "     \"<div style='background-color: #fdd'>\\n\"+\n",
       "     \"<p>\\n\"+\n",
       "     \"BokehJS does not appear to have successfully loaded. If loading BokehJS from CDN, this \\n\"+\n",
       "     \"may be due to a slow or bad network connection. Possible fixes:\\n\"+\n",
       "     \"</p>\\n\"+\n",
       "     \"<ul>\\n\"+\n",
       "     \"<li>re-rerun `output_notebook()` to attempt to load from CDN again, or</li>\\n\"+\n",
       "     \"<li>use INLINE resources instead, as so:</li>\\n\"+\n",
       "     \"</ul>\\n\"+\n",
       "     \"<code>\\n\"+\n",
       "     \"from bokeh.resources import INLINE\\n\"+\n",
       "     \"output_notebook(resources=INLINE)\\n\"+\n",
       "     \"</code>\\n\"+\n",
       "     \"</div>\"}};\n",
       "\n",
       "  function display_loaded() {\n",
       "    var el = document.getElementById(\"a71ad5b7-b807-47e2-932f-6a522745d0bb\");\n",
       "    if (el != null) {\n",
       "      el.textContent = \"BokehJS is loading...\";\n",
       "    }\n",
       "    if (root.Bokeh !== undefined) {\n",
       "      if (el != null) {\n",
       "        el.textContent = \"BokehJS \" + root.Bokeh.version + \" successfully loaded.\";\n",
       "      }\n",
       "    } else if (Date.now() < root._bokeh_timeout) {\n",
       "      setTimeout(display_loaded, 100)\n",
       "    }\n",
       "  }\n",
       "\n",
       "\n",
       "  function run_callbacks() {\n",
       "    try {\n",
       "      root._bokeh_onload_callbacks.forEach(function(callback) { callback() });\n",
       "    }\n",
       "    finally {\n",
       "      delete root._bokeh_onload_callbacks\n",
       "    }\n",
       "    console.info(\"Bokeh: all callbacks have finished\");\n",
       "  }\n",
       "\n",
       "  function load_libs(js_urls, callback) {\n",
       "    root._bokeh_onload_callbacks.push(callback);\n",
       "    if (root._bokeh_is_loading > 0) {\n",
       "      console.log(\"Bokeh: BokehJS is being loaded, scheduling callback at\", now());\n",
       "      return null;\n",
       "    }\n",
       "    if (js_urls == null || js_urls.length === 0) {\n",
       "      run_callbacks();\n",
       "      return null;\n",
       "    }\n",
       "    console.log(\"Bokeh: BokehJS not loaded, scheduling load and callback at\", now());\n",
       "    root._bokeh_is_loading = js_urls.length;\n",
       "    for (var i = 0; i < js_urls.length; i++) {\n",
       "      var url = js_urls[i];\n",
       "      var s = document.createElement('script');\n",
       "      s.src = url;\n",
       "      s.async = false;\n",
       "      s.onreadystatechange = s.onload = function() {\n",
       "        root._bokeh_is_loading--;\n",
       "        if (root._bokeh_is_loading === 0) {\n",
       "          console.log(\"Bokeh: all BokehJS libraries loaded\");\n",
       "          run_callbacks()\n",
       "        }\n",
       "      };\n",
       "      s.onerror = function() {\n",
       "        console.warn(\"failed to load library \" + url);\n",
       "      };\n",
       "      console.log(\"Bokeh: injecting script tag for BokehJS library: \", url);\n",
       "      document.getElementsByTagName(\"head\")[0].appendChild(s);\n",
       "    }\n",
       "  };var element = document.getElementById(\"a71ad5b7-b807-47e2-932f-6a522745d0bb\");\n",
       "  if (element == null) {\n",
       "    console.log(\"Bokeh: ERROR: autoload.js configured with elementid 'a71ad5b7-b807-47e2-932f-6a522745d0bb' but no matching script tag was found. \")\n",
       "    return false;\n",
       "  }\n",
       "\n",
       "  var js_urls = [\"https://cdn.pydata.org/bokeh/release/bokeh-0.12.16.min.js\", \"https://cdn.pydata.org/bokeh/release/bokeh-widgets-0.12.16.min.js\", \"https://cdn.pydata.org/bokeh/release/bokeh-tables-0.12.16.min.js\", \"https://cdn.pydata.org/bokeh/release/bokeh-gl-0.12.16.min.js\"];\n",
       "\n",
       "  var inline_js = [\n",
       "    function(Bokeh) {\n",
       "      Bokeh.set_log_level(\"info\");\n",
       "    },\n",
       "    \n",
       "    function(Bokeh) {\n",
       "      \n",
       "    },\n",
       "    function(Bokeh) {\n",
       "      console.log(\"Bokeh: injecting CSS: https://cdn.pydata.org/bokeh/release/bokeh-0.12.16.min.css\");\n",
       "      Bokeh.embed.inject_css(\"https://cdn.pydata.org/bokeh/release/bokeh-0.12.16.min.css\");\n",
       "      console.log(\"Bokeh: injecting CSS: https://cdn.pydata.org/bokeh/release/bokeh-widgets-0.12.16.min.css\");\n",
       "      Bokeh.embed.inject_css(\"https://cdn.pydata.org/bokeh/release/bokeh-widgets-0.12.16.min.css\");\n",
       "      console.log(\"Bokeh: injecting CSS: https://cdn.pydata.org/bokeh/release/bokeh-tables-0.12.16.min.css\");\n",
       "      Bokeh.embed.inject_css(\"https://cdn.pydata.org/bokeh/release/bokeh-tables-0.12.16.min.css\");\n",
       "    }\n",
       "  ];\n",
       "\n",
       "  function run_inline_js() {\n",
       "    \n",
       "    if ((root.Bokeh !== undefined) || (force === true)) {\n",
       "      for (var i = 0; i < inline_js.length; i++) {\n",
       "        inline_js[i].call(root, root.Bokeh);\n",
       "      }if (force === true) {\n",
       "        display_loaded();\n",
       "      }} else if (Date.now() < root._bokeh_timeout) {\n",
       "      setTimeout(run_inline_js, 100);\n",
       "    } else if (!root._bokeh_failed_load) {\n",
       "      console.log(\"Bokeh: BokehJS failed to load within specified timeout.\");\n",
       "      root._bokeh_failed_load = true;\n",
       "    } else if (force !== true) {\n",
       "      var cell = $(document.getElementById(\"a71ad5b7-b807-47e2-932f-6a522745d0bb\")).parents('.cell').data().cell;\n",
       "      cell.output_area.append_execute_result(NB_LOAD_WARNING)\n",
       "    }\n",
       "\n",
       "  }\n",
       "\n",
       "  if (root._bokeh_is_loading === 0) {\n",
       "    console.log(\"Bokeh: BokehJS loaded, going straight to plotting\");\n",
       "    run_inline_js();\n",
       "  } else {\n",
       "    load_libs(js_urls, function() {\n",
       "      console.log(\"Bokeh: BokehJS plotting callback run at\", now());\n",
       "      run_inline_js();\n",
       "    });\n",
       "  }\n",
       "}(window));"
      ],
      "application/vnd.bokehjs_load.v0+json": "\n(function(root) {\n  function now() {\n    return new Date();\n  }\n\n  var force = true;\n\n  if (typeof (root._bokeh_onload_callbacks) === \"undefined\" || force === true) {\n    root._bokeh_onload_callbacks = [];\n    root._bokeh_is_loading = undefined;\n  }\n\n  \n\n  \n  if (typeof (root._bokeh_timeout) === \"undefined\" || force === true) {\n    root._bokeh_timeout = Date.now() + 5000;\n    root._bokeh_failed_load = false;\n  }\n\n  var NB_LOAD_WARNING = {'data': {'text/html':\n     \"<div style='background-color: #fdd'>\\n\"+\n     \"<p>\\n\"+\n     \"BokehJS does not appear to have successfully loaded. If loading BokehJS from CDN, this \\n\"+\n     \"may be due to a slow or bad network connection. Possible fixes:\\n\"+\n     \"</p>\\n\"+\n     \"<ul>\\n\"+\n     \"<li>re-rerun `output_notebook()` to attempt to load from CDN again, or</li>\\n\"+\n     \"<li>use INLINE resources instead, as so:</li>\\n\"+\n     \"</ul>\\n\"+\n     \"<code>\\n\"+\n     \"from bokeh.resources import INLINE\\n\"+\n     \"output_notebook(resources=INLINE)\\n\"+\n     \"</code>\\n\"+\n     \"</div>\"}};\n\n  function display_loaded() {\n    var el = document.getElementById(\"a71ad5b7-b807-47e2-932f-6a522745d0bb\");\n    if (el != null) {\n      el.textContent = \"BokehJS is loading...\";\n    }\n    if (root.Bokeh !== undefined) {\n      if (el != null) {\n        el.textContent = \"BokehJS \" + root.Bokeh.version + \" successfully loaded.\";\n      }\n    } else if (Date.now() < root._bokeh_timeout) {\n      setTimeout(display_loaded, 100)\n    }\n  }\n\n\n  function run_callbacks() {\n    try {\n      root._bokeh_onload_callbacks.forEach(function(callback) { callback() });\n    }\n    finally {\n      delete root._bokeh_onload_callbacks\n    }\n    console.info(\"Bokeh: all callbacks have finished\");\n  }\n\n  function load_libs(js_urls, callback) {\n    root._bokeh_onload_callbacks.push(callback);\n    if (root._bokeh_is_loading > 0) {\n      console.log(\"Bokeh: BokehJS is being loaded, scheduling callback at\", now());\n      return null;\n    }\n    if (js_urls == null || js_urls.length === 0) {\n      run_callbacks();\n      return null;\n    }\n    console.log(\"Bokeh: BokehJS not loaded, scheduling load and callback at\", now());\n    root._bokeh_is_loading = js_urls.length;\n    for (var i = 0; i < js_urls.length; i++) {\n      var url = js_urls[i];\n      var s = document.createElement('script');\n      s.src = url;\n      s.async = false;\n      s.onreadystatechange = s.onload = function() {\n        root._bokeh_is_loading--;\n        if (root._bokeh_is_loading === 0) {\n          console.log(\"Bokeh: all BokehJS libraries loaded\");\n          run_callbacks()\n        }\n      };\n      s.onerror = function() {\n        console.warn(\"failed to load library \" + url);\n      };\n      console.log(\"Bokeh: injecting script tag for BokehJS library: \", url);\n      document.getElementsByTagName(\"head\")[0].appendChild(s);\n    }\n  };var element = document.getElementById(\"a71ad5b7-b807-47e2-932f-6a522745d0bb\");\n  if (element == null) {\n    console.log(\"Bokeh: ERROR: autoload.js configured with elementid 'a71ad5b7-b807-47e2-932f-6a522745d0bb' but no matching script tag was found. \")\n    return false;\n  }\n\n  var js_urls = [\"https://cdn.pydata.org/bokeh/release/bokeh-0.12.16.min.js\", \"https://cdn.pydata.org/bokeh/release/bokeh-widgets-0.12.16.min.js\", \"https://cdn.pydata.org/bokeh/release/bokeh-tables-0.12.16.min.js\", \"https://cdn.pydata.org/bokeh/release/bokeh-gl-0.12.16.min.js\"];\n\n  var inline_js = [\n    function(Bokeh) {\n      Bokeh.set_log_level(\"info\");\n    },\n    \n    function(Bokeh) {\n      \n    },\n    function(Bokeh) {\n      console.log(\"Bokeh: injecting CSS: https://cdn.pydata.org/bokeh/release/bokeh-0.12.16.min.css\");\n      Bokeh.embed.inject_css(\"https://cdn.pydata.org/bokeh/release/bokeh-0.12.16.min.css\");\n      console.log(\"Bokeh: injecting CSS: https://cdn.pydata.org/bokeh/release/bokeh-widgets-0.12.16.min.css\");\n      Bokeh.embed.inject_css(\"https://cdn.pydata.org/bokeh/release/bokeh-widgets-0.12.16.min.css\");\n      console.log(\"Bokeh: injecting CSS: https://cdn.pydata.org/bokeh/release/bokeh-tables-0.12.16.min.css\");\n      Bokeh.embed.inject_css(\"https://cdn.pydata.org/bokeh/release/bokeh-tables-0.12.16.min.css\");\n    }\n  ];\n\n  function run_inline_js() {\n    \n    if ((root.Bokeh !== undefined) || (force === true)) {\n      for (var i = 0; i < inline_js.length; i++) {\n        inline_js[i].call(root, root.Bokeh);\n      }if (force === true) {\n        display_loaded();\n      }} else if (Date.now() < root._bokeh_timeout) {\n      setTimeout(run_inline_js, 100);\n    } else if (!root._bokeh_failed_load) {\n      console.log(\"Bokeh: BokehJS failed to load within specified timeout.\");\n      root._bokeh_failed_load = true;\n    } else if (force !== true) {\n      var cell = $(document.getElementById(\"a71ad5b7-b807-47e2-932f-6a522745d0bb\")).parents('.cell').data().cell;\n      cell.output_area.append_execute_result(NB_LOAD_WARNING)\n    }\n\n  }\n\n  if (root._bokeh_is_loading === 0) {\n    console.log(\"Bokeh: BokehJS loaded, going straight to plotting\");\n    run_inline_js();\n  } else {\n    load_libs(js_urls, function() {\n      console.log(\"Bokeh: BokehJS plotting callback run at\", now());\n      run_inline_js();\n    });\n  }\n}(window));"
     },
     "metadata": {},
     "output_type": "display_data"
    }
   ],
   "source": [
    "output_notebook()"
   ]
  },
  {
   "cell_type": "code",
   "execution_count": 3,
   "metadata": {
    "collapsed": true
   },
   "outputs": [],
   "source": [
    "'''\n",
    "Get the clirad-lw and lblnew `param`s for all spectral bands.  \n",
    "These are returned by functions `clirad_params_atm` and\n",
    "`lblnew_params_atm`, respectively.\n",
    "'''\n",
    "\n",
    "def molecules_byband_atm():\n",
    "    return {1: {'h2o': 'atmpro'},\n",
    "            2: {'h2o': 'atmpro'}, \n",
    "            3: {'co2': 0.0004, 'h2o': 'atmpro', 'n2o': 3.2e-07},\n",
    "            4: {'co2': 0.0004, 'h2o': 'atmpro'},\n",
    "            5: {'co2': 0.0004, 'h2o': 'atmpro'},\n",
    "            6: {'co2': 0.0004, 'h2o': 'atmpro'},\n",
    "            7: {'co2': 0.0004, 'h2o': 'atmpro', 'o3': 'atmpro'},\n",
    "            8: {'h2o': 'atmpro'},\n",
    "            9: {'ch4': 1.8e-06, 'h2o': 'atmpro', 'n2o': 3.2e-07},\n",
    "            10: {'h2o': 'atmpro'},\n",
    "            11: {'co2': 0.0004, 'h2o': 'atmpro'}}\n",
    "\n",
    "\n",
    "def greyabsorbers_by_band_atm():\n",
    "    return {1: {'con': 'atmpro'},\n",
    "            2: {'con': 'atmpro'},\n",
    "            3: {'con': 'atmpro'},\n",
    "            4: {'con': 'atmpro'},\n",
    "            5: {'con': 'atmpro'},\n",
    "            6: {'con': 'atmpro'}, \n",
    "            7: {'con': 'atmpro'},\n",
    "            8: {'con': 'atmpro', 'n2o': 3.2e-7}, \n",
    "            9: {'con': 'atmpro'}, \n",
    "            10: None,\n",
    "            11: None}\n",
    "\n",
    "\n",
    "def clirad_params_atm(atmpro='mls'):\n",
    "    d = {}\n",
    "    for band, molecule in molecules_byband_atm().items():\n",
    "        for param in setup_cliradlw.test_cases():\n",
    "            if [band] == param['band'] and molecule == param['molecule']:\n",
    "                param['atmpro'] = atmpro\n",
    "                d[band] = param\n",
    "                break                \n",
    "    return d\n",
    "\n",
    "\n",
    "def clirad_params_atm_singlerun(atmpro='mls'):\n",
    "    '''\n",
    "    Returns param of clirad-lw run that is equivalent to the total\n",
    "    of all the runs listed in molecules_byband_atm().  In order\n",
    "    for the output to be compatible with clirad_data_atm(), it will\n",
    "    be a list.\n",
    "    '''\n",
    "    param0 = {'band': [1, 2, 3, 4, 5, 6, 7, 8, 9, 10, 11],\n",
    "              'commitnumber': '1afa1c3',\n",
    "              'molecule': {'ch4': 1.8e-06,\n",
    "                           'co2': 0.0004,\n",
    "                           'h2o': 'atmpro',\n",
    "                           'n2o': 3.2e-07,\n",
    "                           'o3': 'atmpro'}}\n",
    "    \n",
    "    d_atmpros = {'mls': 294, 'saw': 257, 'trp': 300}\n",
    "    \n",
    "    param = param0.copy()\n",
    "    param['atmpro'] = atmpro\n",
    "    param['tsfc'] = d_atmpros[atmpro]\n",
    "    \n",
    "    d = {}\n",
    "    d['all'] = param\n",
    "    return d\n",
    "\n",
    "\n",
    "def analysis_dirs_atm(atmpro='mls'):\n",
    "    params = clirad_params_atm(atmpro=atmpro)\n",
    "    return {band: pipe_cliradlw.get_analysis_dir(param=param,\n",
    "                                                 setup=setup_cliradlw) \n",
    "            for band, param in params.items()}\n",
    "\n",
    "\n",
    "def lblnew_params_atm(atmpro='mls'):\n",
    "    dirs = analysis_dirs_atm(atmpro=atmpro)\n",
    "    \n",
    "    d = {}\n",
    "    for band, dirname in dirs.items():\n",
    "        with open(os.path.join(dirname, 'param.py'), \n",
    "                  mode='r', encoding='utf-8') as f:\n",
    "            _, l = f.readlines()\n",
    "        \n",
    "        s = l.split('=')[1].strip()\n",
    "        d[band] = ast.literal_eval(s)\n",
    "        \n",
    "    return d\n"
   ]
  },
  {
   "cell_type": "code",
   "execution_count": 4,
   "metadata": {
    "collapsed": true
   },
   "outputs": [],
   "source": [
    "def db_getdir():\n",
    "    atmpro = 'mls'\n",
    "    params = clirad_params_atm_singlerun(atmpro=atmpro)\n",
    "    param = params['all']\n",
    "    \n",
    "    fdir = pipe_cliradlw.get_fortran_dir(param=param, \n",
    "                                         setup=setup_cliradlw)\n",
    "    return fdir\n",
    "\n",
    "\n",
    "def db_ktable():\n",
    "    fdir = db_getdir()    \n",
    "    fpath = os.path.join(fdir, 'ktable.dat')\n",
    "    \n",
    "    df = pd.read_csv(fpath, sep=r'\\s+')\n",
    "    df = df.set_index(['band', 'mid', 'il', 'it', 'g'])\n",
    "    ds = xr.Dataset.from_dataframe(df)\n",
    "    return ds\n",
    "\n",
    "\n",
    "def db_ng_dgs():\n",
    "    fdir = db_getdir()\n",
    "    fpath = os.path.join(fdir, 'ng_dgs.dat')\n",
    "    \n",
    "    df = pd.read_csv(fpath, sep=r'\\s+')\n",
    "    df = df.set_index(['band', 'mid', 'g'])\n",
    "    ds = xr.Dataset.from_dataframe(df)\n",
    "    return ds\n"
   ]
  },
  {
   "cell_type": "code",
   "execution_count": 5,
   "metadata": {
    "collapsed": true
   },
   "outputs": [],
   "source": [
    "def show_makeup():\n",
    "    df = pd.DataFrame()\n",
    "\n",
    "    for band, molecule in molecules_byband_atm().items():\n",
    "        for name, conc in molecule.items():\n",
    "            df.loc[name, band] = str(conc)\n",
    "\n",
    "    df = df.fillna(0)\n",
    "    df.columns.name = 'clirad band'\n",
    "    df.index.name = 'molecule'\n",
    "    \n",
    "    display.display(df)\n",
    "    \n",
    "    display.display(\n",
    "        display.Markdown('*TABLE.* Non-grey absorbers in the atmosphere.'))\n",
    "\n",
    "\n",
    "def show_grey_makeup():\n",
    "    df = pd.DataFrame()\n",
    "    \n",
    "    for band, molecule in greyabsorbers_by_band_atm().items():\n",
    "        if molecule == None:\n",
    "            pass\n",
    "        else:\n",
    "            for name, conc in molecule.items():\n",
    "                df.loc[name, band] = str(conc)\n",
    "                \n",
    "    df = df.fillna(0)\n",
    "    df.columns.name = 'clirad band'\n",
    "    df.index.name = 'absorber'\n",
    "    \n",
    "    display.display(df)\n",
    "    display.display(\n",
    "        display.Markdown('*TABLE.* Grey absorbers in the atmosphere.')\n",
    "    )"
   ]
  },
  {
   "cell_type": "code",
   "execution_count": 6,
   "metadata": {
    "collapsed": true
   },
   "outputs": [],
   "source": [
    "def load_output_file(path_csv):\n",
    "    '''\n",
    "    Load lblnew output .csv file to xarray.Dataset\n",
    "    \n",
    "    Parameters\n",
    "    ----------\n",
    "    path_csv: str\n",
    "              Path to the .csv file to be loaded.\n",
    "    ds: xarray.Dataset\n",
    "        Data in the input file in the form of an xarray.Dataset.\n",
    "    '''\n",
    "    toindex = ['band', 'pressure', 'igg', 'g']    \n",
    "    df = pd.read_csv(path_csv, sep=r'\\s+')\n",
    "    df = df.set_index([i for i in toindex if i in df.columns])\n",
    "    df = df.rename(columns={'sfu': 'flug',\n",
    "                            'sfd': 'fldg',\n",
    "                            'fnet': 'fnetg',\n",
    "                            'coolr': 'coolrg'})\n",
    "    ds = xr.Dataset.from_dataframe(df)\n",
    "\n",
    "    for l in ('level', 'layer'):\n",
    "        if l in ds.data_vars:\n",
    "            if len(ds[l].dims) > 1:\n",
    "                surface = {d: 0 for d in ds.dims if d != 'pressure'}\n",
    "                coord_level = ds[l][surface]\n",
    "                ds.coords[l] = ('pressure', coord_level)\n",
    "            else:\n",
    "                ds.coords[l] = ('pressure', ds[l])\n",
    "    \n",
    "    return ds"
   ]
  },
  {
   "cell_type": "code",
   "execution_count": 7,
   "metadata": {
    "collapsed": true
   },
   "outputs": [],
   "source": [
    "def lblnew_setup(param=None):\n",
    "    if 'ng_refs' in param:\n",
    "        return {'setup': setup_bestfit,\n",
    "                'fname_flux_crd': 'output_flux.dat',\n",
    "                'fname_cool_crd': 'output_coolr.dat',\n",
    "                'fname_flux_wgt': 'output_wfluxg.dat',\n",
    "                'fname_cool_wgt': 'output_wcoolrg.dat'}\n",
    "    else:\n",
    "        return {'setup': setup_overlap,\n",
    "                'fname_flux_crd': 'output_flux.dat',\n",
    "                'fname_cool_crd': 'output_coolr.dat',\n",
    "                'fname_flux_wgt': 'output_wflux.dat',\n",
    "                'fname_cool_wgt': 'output_wcoolr.dat'}\n",
    "\n",
    "    \n",
    "def load_lblnew_data(param):\n",
    "    \n",
    "    fname_dsname = [('fname_flux_crd', 'ds_flux_crd'),\n",
    "                    ('fname_cool_crd', 'ds_cool_crd'),\n",
    "                    ('fname_flux_wgt', 'ds_flux_wgt'),\n",
    "                    ('fname_cool_wgt', 'ds_cool_wgt')]\n",
    "    \n",
    "    d = lblnew_setup(param)\n",
    "    dir_fortran = pipe_lblnew.get_dir_case(param, setup=d['setup'])\n",
    "    \n",
    "    data_dict = {}\n",
    "    for fname, dsname in fname_dsname:\n",
    "        fpath = os.path.join(dir_fortran, d[fname])\n",
    "        data_dict[dsname] = load_output_file(fpath)\n",
    "    return data_dict"
   ]
  },
  {
   "cell_type": "code",
   "execution_count": 8,
   "metadata": {
    "collapsed": true
   },
   "outputs": [],
   "source": [
    "def crd_data_atm(params_atm):\n",
    "    '''\n",
    "    Parameters\n",
    "    ----------\n",
    "    \n",
    "    params_atm: dict\n",
    "                Parameter dictionary for each band.\n",
    "                \n",
    "    d: dict\n",
    "       'flux': xr.Dataset. [pressure, band]\n",
    "               Fluxes.\n",
    "       'cool': xr.Dataset. [pressure, band]\n",
    "               Cooling rate.\n",
    "    \n",
    "    '''\n",
    "    \n",
    "    results_atm = {band: load_lblnew_data(param) \n",
    "                   for band, param in params_atm.items()}\n",
    "    \n",
    "    bands = [band for band, _ in params_atm.items()]\n",
    "    fluxs = [d['ds_flux_crd'] for _, d in results_atm.items()]\n",
    "    cools = [d['ds_cool_crd'] for _, d in results_atm.items()]\n",
    "    \n",
    "    d = {}\n",
    "    d['flux'] = xr.concat(fluxs, dim=bands).rename({'concat_dim': 'band'})\n",
    "    d['cool'] = xr.concat(cools, dim=bands).rename({'concat_dim': 'band'})\n",
    "    return d        \n",
    "        \n",
    "        \n",
    "\n",
    "def clirad_data_atm(params_atm):\n",
    "    \n",
    "    dirnames = [pipe_cliradlw.get_fortran_dir(param,\n",
    "                                              setup=setup_cliradlw)\n",
    "                for _, param in params_atm.items()]\n",
    "    \n",
    "    fpaths_flux = [os.path.join(n, 'output_flux.dat') for n in dirnames]\n",
    "    fpaths_cool = [os.path.join(n, 'output_coolr.dat') for n in dirnames]\n",
    "    \n",
    "    fluxs = [load_output_file(p) for p in fpaths_flux]    \n",
    "    cools = [load_output_file(p) for p in fpaths_cool]\n",
    "    \n",
    "    d = {}\n",
    "    d['flux'] = sum(fluxs)\n",
    "    d['cool'] = sum(cools)\n",
    "    return d\n",
    "\n"
   ]
  },
  {
   "cell_type": "code",
   "execution_count": 9,
   "metadata": {
    "collapsed": true
   },
   "outputs": [],
   "source": [
    "\n",
    "\n",
    "import rtmtools.clirad.sw.wrangle as cliradwrangle\n",
    "\n",
    "import importlib\n",
    "importlib.reload(cliradwrangle)\n",
    "\n",
    "def oldclirad_data_atm():\n",
    "    '''\n",
    "    Load the OLD clirad's results. mls only.\n",
    "    '''\n",
    "    fpath = os.path.join('/chia_cluster/home/jackyu/radiation',\n",
    "                         'clirad-lw',\n",
    "                         'LW',\n",
    "                         'examples',\n",
    "                         'mls75_h2o_atmpro_co2_.0004_o3_atmpro_n2o_3.2e-7_ch4_1.8e-6_H2012',\n",
    "                         'OUTPUT_CLIRAD.dat')\n",
    "    \n",
    "    ds = cliradwrangle.load_OUTPUT_CLIRAD(readfrom=fpath)\n",
    "    \n",
    "    ds_cool = xr.Dataset()\n",
    "    ds_cool.coords['pressure'] = ('pressure', ds['layer_pressure'])\n",
    "    ds_cool.coords['band'] = ('band', ds['spectral_band'])\n",
    "    ds_cool['coolrg'] = (('band', 'pressure'), - ds['heating_rate'])\n",
    "    \n",
    "    ds_flux = xr.Dataset()\n",
    "    ds_flux.coords['pressure'] = ('pressure', ds['level_pressure'])\n",
    "    ds_flux.coords['band'] = ('band', ds['spectral_band'])\n",
    "    ds_flux['flug'] = (('band', 'pressure'), ds['flux_up'])\n",
    "    ds_flux['fldg'] = (('band', 'pressure'), ds['flux_down'])\n",
    "    ds_flux['fnetg'] = (('band', 'pressure'), ds['net_flux'])\n",
    "    \n",
    "    \n",
    "    d = {}\n",
    "    d['cool'] = ds_cool\n",
    "    d['flux'] = ds_flux\n",
    "    return d\n"
   ]
  },
  {
   "cell_type": "code",
   "execution_count": 10,
   "metadata": {
    "collapsed": true
   },
   "outputs": [],
   "source": [
    "def fmt_cool(ds_in):\n",
    "    ds = ds_in.copy(deep=True)\n",
    "    if 'igg' in ds.dims:\n",
    "        ds = ds.sel(igg=1)\n",
    "\n",
    "    if 'g' in ds.dims:\n",
    "        ds = ds.sum('g')\n",
    "            \n",
    "    if 'band' in ds.dims:\n",
    "        try:\n",
    "            ds = ds.squeeze('band')\n",
    "        except ValueError:\n",
    "            ds = ds.sum('band')\n",
    "                \n",
    "    return ds['coolrg']\n",
    "\n",
    "\n",
    "\n",
    "def nice_xlims(pltdata=None, prange=None):\n",
    "    \n",
    "    def get_slice(srs):\n",
    "        return srs.sel(pressure=slice(*prange))\n",
    "    \n",
    "    srss = [d['srs'] for d in pltdata]\n",
    "    vmin = min([get_slice(srs).min() for srs in srss])\n",
    "    vmax = max([get_slice(srs).max() for srs in srss])\n",
    "    dv = (vmax - vmin) * .01\n",
    "    return float(vmin - dv), float(vmax + dv)\n",
    "\n",
    "\n",
    "    \n",
    "def plt_cool_bokeh(pltdata=None, \n",
    "                   y_axis_type='linear', prange=(50, 1050)):\n",
    "    \n",
    "    ymin = 1e-2 \n",
    "    ymax = 1020\n",
    "    \n",
    "    p2 = figure(y_axis_type=y_axis_type, plot_width=300)\n",
    "    xmin, xmax = nice_xlims(pltdata, prange=prange)\n",
    "    \n",
    "    rs = []\n",
    "    for d in pltdata:\n",
    "        rd = []\n",
    "        if 'marker' in d:\n",
    "            r_mark = getattr(p2, d['marker'])(d['srs'].values, \n",
    "                        d['srs'].coords['pressure'].values,\n",
    "                        color=d['color'], alpha=.7)\n",
    "            rd.append(r_mark)\n",
    "        r_line = p2.line(d['srs'].values, \n",
    "                         d['srs'].coords['pressure'].values,\n",
    "                         color=d['color'], alpha=d['alpha'], \n",
    "                         line_width=d['line_width'], \n",
    "                         line_dash=d['line_dash'])\n",
    "        rd.append(r_line)\n",
    "      \n",
    "        rs.append(rd)\n",
    "        \n",
    "    p2.y_range = Range1d(ymax, ymin)  \n",
    "    p2.yaxis.axis_label = 'pressure [mb]'\n",
    "    \n",
    "    p2.x_range = Range1d(xmin, xmax)\n",
    "    p2.xaxis.axis_label = 'cooling rate [K/day]'\n",
    "    \n",
    "    items = [(d['label'], r) for r, d in zip(rs, pltdata)]\n",
    "    legend = Legend(items=items, location=(10, 0))\n",
    "    legend.label_text_font_size = '8pt'\n",
    "    p2.add_layout(legend, 'above')\n",
    "    p2.legend.orientation = 'horizontal'\n",
    "    p2.legend.location = 'top_center'\n",
    "    \n",
    "    return p2"
   ]
  },
  {
   "cell_type": "code",
   "execution_count": 11,
   "metadata": {
    "collapsed": true
   },
   "outputs": [],
   "source": [
    "def pltdata_cool(atmpro='mls'):\n",
    "    \n",
    "    d_clirad_singlerun = clirad_data_atm(\n",
    "        clirad_params_atm_singlerun(atmpro=atmpro))\n",
    "    d_clirad = clirad_data_atm(clirad_params_atm(atmpro=atmpro))\n",
    "    d_crd = crd_data_atm(lblnew_params_atm(atmpro=atmpro))\n",
    "\n",
    "    ds_clirad_singlerun = d_clirad_singlerun['cool']\n",
    "    ds_clirad = d_clirad['cool']\n",
    "    ds_crd = d_crd['cool']\n",
    "\n",
    "    colors = all_palettes['Set1'][4]\n",
    "    \n",
    "    data = [\n",
    "        {'label': 'CLIRAD (single-run)',\n",
    "        'srs': fmt_cool(ds_clirad_singlerun),\n",
    "        'line_dash': 'dashed', 'line_width': 5,\n",
    "        'color': colors[1], 'alpha': .6},\n",
    "        {'label': 'CRD',\n",
    "         'srs': fmt_cool(ds_crd),\n",
    "         'line_dash': 'solid', 'line_width': 1.5,\n",
    "         'marker': 'circle', 'marker_size': 5,\n",
    "         'color': colors[2], 'alpha': 1}\n",
    "    ]\n",
    "#        {'label': 'CLIRAD',\n",
    "#         'srs': fmt_cool(ds_clirad),\n",
    "#         'line_dash': 'dashed', 'line_width': 5,\n",
    "#         'color': colors[0], 'alpha': .6}\n",
    "        \n",
    "\n",
    "    \n",
    "    # include old CLIRAD's results for mls profile\n",
    "    if atmpro == 'mls':\n",
    "        d_oldclirad = oldclirad_data_atm()\n",
    "        ds_oldclirad = d_oldclirad['cool']        \n",
    "        data.append(\n",
    "            {'label': 'old CLIRAD (H2012)',\n",
    "             'srs': fmt_cool(ds_oldclirad),\n",
    "             'line_dash': 'solid', 'line_width': 1.5,\n",
    "             'marker': 'square', 'marker_size': 3,\n",
    "             'color': colors[3], 'alpha': .5})\n",
    "    return data\n",
    "\n",
    "\n",
    "def pltdata_cooldiff(atmpro='mls'):\n",
    "    \n",
    "    d_clirad_singlerun = clirad_data_atm(\n",
    "        clirad_params_atm_singlerun(atmpro=atmpro))\n",
    "    d_clirad = clirad_data_atm(clirad_params_atm(atmpro=atmpro))\n",
    "    d_crd = crd_data_atm(lblnew_params_atm(atmpro=atmpro))\n",
    "    \n",
    "    ds_clirad_singlerun = d_clirad_singlerun['cool']\n",
    "    ds_clirad = d_clirad['cool']\n",
    "    ds_crd = d_crd['cool']\n",
    "    \n",
    "    ds_diff = ds_clirad_singlerun - ds_crd\n",
    "    \n",
    "    colors = all_palettes['Set1'][4]\n",
    "    \n",
    "    data = [\n",
    "        {'label': 'CLIRAD (single-run) - CRD',\n",
    "         'srs': fmt_cool(ds_diff),\n",
    "         'line_dash': 'solid', 'line_width': 1.5, \n",
    "         'marker': 'circle', 'marker_size': 7,\n",
    "         'color': colors[3], 'alpha': .8}\n",
    "    ]\n",
    "    \n",
    "    # include old CLIRAD's results for mls profile\n",
    "    if atmpro == 'mls':\n",
    "        d_oldclirad = oldclirad_data_atm()\n",
    "        ds_oldclirad = d_oldclirad['cool']\n",
    "        ds_oldclirad.coords['pressure'] = ds_crd.coords['pressure']\n",
    "        ds_diff_old = ds_oldclirad.sum('band') - ds_crd.sum('band')\n",
    "        data.append(\n",
    "            {'label': 'old CLIRAD (H2012) - CRD',\n",
    "             'srs': fmt_cool(ds_diff_old),\n",
    "             'line_dash': 'dashed', 'line_width': 4,\n",
    "             'color': colors[1], 'alpha': .5}\n",
    "        )\n",
    "    return data\n",
    "\n",
    "\n",
    "def show_cool(atmpro='mls'):\n",
    "    \n",
    "    data_cool = pltdata_cool(atmpro=atmpro)\n",
    "    p_cool_liny = plt_cool_bokeh(pltdata=data_cool)\n",
    "    p_cool_logy = plt_cool_bokeh(pltdata=data_cool, \n",
    "                                 y_axis_type='log',\n",
    "                                 prange=(.01, 200))\n",
    "    \n",
    "    data_cooldiff = pltdata_cooldiff(atmpro=atmpro)\n",
    "    p_cooldiff_logy = plt_cool_bokeh(pltdata=data_cooldiff,\n",
    "                                     y_axis_type='log',\n",
    "                                     prange=(.01, 200))\n",
    "    \n",
    "    everything = gridplot(p_cool_liny, p_cool_logy, \n",
    "                          p_cooldiff_logy,\n",
    "                          ncols=3)\n",
    "    show(everything)\n",
    "    display.display(\n",
    "        display.Markdown('*FIGURE.* Cooling rates & difference.'))\n",
    "\n",
    "\n",
    "    "
   ]
  },
  {
   "cell_type": "code",
   "execution_count": null,
   "metadata": {
    "collapsed": true
   },
   "outputs": [],
   "source": []
  },
  {
   "cell_type": "code",
   "execution_count": 12,
   "metadata": {
    "collapsed": true,
    "scrolled": false
   },
   "outputs": [],
   "source": [
    "\n",
    "\n",
    "def hist_band_vs_flux(da, title='Title'):\n",
    "       \n",
    "    bands = [str(b.values) for b in da['band']]\n",
    "\n",
    "    source = ColumnDataSource(\n",
    "        data={'band': bands, 'flux': da.values})\n",
    "\n",
    "    p = figure(x_range=bands, title=title)\n",
    "    p.vbar(source=source, x='band', top='flux', width=.9)\n",
    "\n",
    "    p.yaxis.axis_label = 'flux (W m-2)'\n",
    "    p.xaxis.axis_label = 'spectral band'\n",
    "    \n",
    "    return p\n",
    "\n",
    "\n",
    "def show_hist_flux(atmpro='mls'):\n",
    "    ds_crd = crd_data_atm(lblnew_params_atm(atmpro=atmpro))['flux']\n",
    "    ds_clirad = clirad_data_atm(\n",
    "        clirad_params_atm(atmpro=atmpro))['flux']\n",
    "    ds_clirad_singlerun = clirad_data_atm(\n",
    "        clirad_params_atm_singlerun(atmpro=atmpro))['flux']\n",
    "    \n",
    "    ip, varname = 0, 'flug'\n",
    "    da = (ds_clirad_singlerun - ds_crd).isel(pressure=ip)[varname]\n",
    "    p_toa = hist_band_vs_flux(da, \n",
    "        title='TOA flux. CLIRAD (single-run) - CRD.')\n",
    "\n",
    "    ip, varname = -1, 'fldg'\n",
    "    da = (ds_clirad_singlerun - ds_crd).isel(pressure=ip)[varname]\n",
    "    p_sfc = hist_band_vs_flux(da, \n",
    "        title='SFC flux. CLIRAD (single-run) - CRD.')    \n",
    "    \n",
    "    atm_crd = (ds_crd.isel(pressure=0) \n",
    "               - ds_crd.isel(pressure=-1))['fnetg']\n",
    "    atm_clirad_singlerun = (ds_clirad_singlerun.isel(pressure=0) \n",
    "                  - ds_clirad_singlerun.isel(pressure=-1))['fnetg']\n",
    "    da = atm_clirad_singlerun - atm_crd\n",
    "    p_atm = hist_band_vs_flux(da, \n",
    "        title='Atmosphere heating. CLIRAD (single-run) - CRD.')\n",
    "\n",
    "    everything = gridplot(p_toa, p_sfc, p_atm, ncols=3, \n",
    "                          plot_width=300, plot_height=300)\n",
    "    \n",
    "    show(everything)\n",
    "    display.display(\n",
    "        display.Markdown('*FIGURE.* Difference between CLIRAD and CRD'\n",
    "          ' in TOA, SFC and net atmosphere flux,'\n",
    "          ' in each spectral band.'))\n",
    "\n",
    "\n",
    "    \n",
    "def show_tb_flux(atmpro='mls'):\n",
    "    \n",
    "    def fmt(da_in):\n",
    "        da = da_in.copy(deep=True)\n",
    "        if 'igg' in da.dims:\n",
    "            da = da.sel(igg=1)\n",
    "            \n",
    "        if 'g' in da.dims:\n",
    "            da = da.sum('g')\n",
    "        \n",
    "        if 'band' in da.dims:\n",
    "            try:\n",
    "                da = da.squeeze('band')\n",
    "            except ValueError:\n",
    "                da = da.sum('band')\n",
    "                \n",
    "        return da\n",
    "    \n",
    "    ds_crd = crd_data_atm(lblnew_params_atm(atmpro=atmpro))['flux']\n",
    "    olr_crd = ds_crd['flug'].isel(pressure=0)\n",
    "    sfc_crd = ds_crd['fldg'].isel(pressure=-1)\n",
    "    atm_crd = (ds_crd.isel(pressure=0)\n",
    "               - ds_crd.isel(pressure=-1))['fnetg']\n",
    "    \n",
    "    ds_clirad = clirad_data_atm(\n",
    "        clirad_params_atm(atmpro=atmpro))['flux']\n",
    "    olr_clirad = ds_clirad['flug'].isel(pressure=0)\n",
    "    sfc_clirad = ds_clirad['fldg'].isel(pressure=-1)\n",
    "    atm_clirad = (ds_clirad.isel(pressure=0)\n",
    "                  - ds_clirad.isel(pressure=-1))['fnetg']\n",
    "\n",
    "    ds_clirad_singlerun = clirad_data_atm(\n",
    "        clirad_params_atm_singlerun(atmpro=atmpro))['flux']\n",
    "    olr_clirad_singlerun = ds_clirad_singlerun['flug'].isel(pressure=0)\n",
    "    sfc_clirad_singlerun = ds_clirad_singlerun['fldg'].isel(pressure=-1)\n",
    "    atm_clirad_singlerun = (ds_clirad_singlerun.isel(pressure=0)\n",
    "                  - ds_clirad_singlerun.isel(pressure=-1))['fnetg']\n",
    "    \n",
    "    if atmpro == 'mls':\n",
    "        ds_oldclirad = oldclirad_data_atm()['flux']\n",
    "        ds_oldclirad['pressure'] = ds_crd['pressure']\n",
    "        olr_oldclirad = ds_oldclirad['flug'].isel(pressure=0)\n",
    "        sfc_oldclirad = ds_oldclirad['fldg'].isel(pressure=-1)\n",
    "        atm_oldclirad = (ds_oldclirad.isel(pressure=0)\n",
    "                         - ds_oldclirad.isel(pressure=-1))['fnetg']\n",
    "        \n",
    "    \n",
    "    \n",
    "    df = pd.DataFrame()\n",
    "    df.index.name = 'Sum over bands'\n",
    "    \n",
    "    if atmpro == 'mls':\n",
    "        df.loc['old CLIRAD - CRD', \n",
    "               'OLR flux'] = (fmt(olr_oldclirad)\n",
    "                              - fmt(olr_crd)).values\n",
    "        df.loc['old CLIRAD - CRD', \n",
    "               'SFC flux'] = (fmt(sfc_oldclirad)\n",
    "                              - fmt(sfc_crd)).values\n",
    "        df.loc['old CLIRAD - CRD', \n",
    "               'ATM heating'] = (fmt(atm_oldclirad)\n",
    "                                 - fmt(atm_crd)).values\n",
    "    \n",
    "    df.loc['CLIRAD (single-run) - CRD', \n",
    "           'OLR flux'] = (fmt(olr_clirad_singlerun) \n",
    "                          - fmt(olr_crd)).values\n",
    "    df.loc['CLIRAD (single-run) - CRD', \n",
    "           'SFC flux'] = (fmt(sfc_clirad_singlerun) \n",
    "                          - fmt(sfc_crd)).values\n",
    "    df.loc['CLIRAD (single-run) - CRD', \n",
    "           'ATM heating'] = (fmt(atm_clirad_singlerun) \n",
    "                             - fmt(atm_crd)).values\n",
    "\n",
    "    df.loc['CRD', 'OLR flux'] = fmt(olr_crd).values\n",
    "    df.loc['CRD', 'SFC flux'] = fmt(sfc_crd).values\n",
    "    df.loc['CRD', 'ATM heating'] = fmt(atm_crd).values\n",
    "        \n",
    "    df = df.astype('float').round(2)\n",
    "    \n",
    "    display.display(df)\n",
    "    display.display(\n",
    "        display.Markdown('*TABLE.* Difference between CLIRAD and CRD'\n",
    "          ' in TOA, SFC and net atmosphere flux,'\n",
    "          ' over all spectral bands. CRD\\'s'\n",
    "          ' TOA, SFC and net atmosphere flux,'\n",
    "          ' over all spectral bands.'))\n"
   ]
  },
  {
   "cell_type": "code",
   "execution_count": 13,
   "metadata": {
    "scrolled": false
   },
   "outputs": [
    {
     "data": {
      "text/markdown": [
       "## Results over entire range of molecules and spectral bands"
      ],
      "text/plain": [
       "<IPython.core.display.Markdown object>"
      ]
     },
     "metadata": {},
     "output_type": "display_data"
    },
    {
     "data": {
      "text/markdown": [
       "### Table of Contents"
      ],
      "text/plain": [
       "<IPython.core.display.Markdown object>"
      ]
     },
     "metadata": {},
     "output_type": "display_data"
    },
    {
     "data": {
      "text/html": [
       "<a href=\"#Makeup_of_atmosphere.\">Makeup of atmosphere.</a>"
      ],
      "text/plain": [
       "<IPython.core.display.HTML object>"
      ]
     },
     "metadata": {},
     "output_type": "display_data"
    },
    {
     "data": {
      "text/markdown": [
       "**mid-latitude summer**"
      ],
      "text/plain": [
       "<IPython.core.display.Markdown object>"
      ]
     },
     "metadata": {},
     "output_type": "display_data"
    },
    {
     "data": {
      "text/html": [
       "<a href=\"#Cooling_rates._mls.\">Cooling rates. mls.</a>"
      ],
      "text/plain": [
       "<IPython.core.display.HTML object>"
      ]
     },
     "metadata": {},
     "output_type": "display_data"
    },
    {
     "data": {
      "text/html": [
       "<a href=\"#Fluxes._mls.\">Fluxes. mls.</a>"
      ],
      "text/plain": [
       "<IPython.core.display.HTML object>"
      ]
     },
     "metadata": {},
     "output_type": "display_data"
    },
    {
     "data": {
      "text/markdown": [
       "**sub-arctic winter**"
      ],
      "text/plain": [
       "<IPython.core.display.Markdown object>"
      ]
     },
     "metadata": {},
     "output_type": "display_data"
    },
    {
     "data": {
      "text/html": [
       "<a href=\"#Cooling_rates._saw.\">Cooling rates. saw.</a>"
      ],
      "text/plain": [
       "<IPython.core.display.HTML object>"
      ]
     },
     "metadata": {},
     "output_type": "display_data"
    },
    {
     "data": {
      "text/html": [
       "<a href=\"#Fluxes._saw.\">Fluxes. saw.</a>"
      ],
      "text/plain": [
       "<IPython.core.display.HTML object>"
      ]
     },
     "metadata": {},
     "output_type": "display_data"
    },
    {
     "data": {
      "text/markdown": [
       "**tropical**"
      ],
      "text/plain": [
       "<IPython.core.display.Markdown object>"
      ]
     },
     "metadata": {},
     "output_type": "display_data"
    },
    {
     "data": {
      "text/html": [
       "<a href=\"#Cooling_rates._trp.\">Cooling rates. trp.</a>"
      ],
      "text/plain": [
       "<IPython.core.display.HTML object>"
      ]
     },
     "metadata": {},
     "output_type": "display_data"
    },
    {
     "data": {
      "text/html": [
       "<a href=\"#Fluxes._trp.\">Fluxes. trp.</a>"
      ],
      "text/plain": [
       "<IPython.core.display.HTML object>"
      ]
     },
     "metadata": {},
     "output_type": "display_data"
    },
    {
     "data": {
      "text/html": [
       "<a id=\"Makeup_of_atmosphere.\"></a>"
      ],
      "text/plain": [
       "<IPython.core.display.HTML object>"
      ]
     },
     "metadata": {},
     "output_type": "display_data"
    },
    {
     "data": {
      "text/markdown": [
       "# Makeup of atmosphere."
      ],
      "text/plain": [
       "<IPython.core.display.Markdown object>"
      ]
     },
     "metadata": {},
     "output_type": "display_data"
    },
    {
     "data": {
      "text/html": [
       "<div>\n",
       "<style scoped>\n",
       "    .dataframe tbody tr th:only-of-type {\n",
       "        vertical-align: middle;\n",
       "    }\n",
       "\n",
       "    .dataframe tbody tr th {\n",
       "        vertical-align: top;\n",
       "    }\n",
       "\n",
       "    .dataframe thead th {\n",
       "        text-align: right;\n",
       "    }\n",
       "</style>\n",
       "<table border=\"1\" class=\"dataframe\">\n",
       "  <thead>\n",
       "    <tr style=\"text-align: right;\">\n",
       "      <th>clirad band</th>\n",
       "      <th>1</th>\n",
       "      <th>2</th>\n",
       "      <th>3</th>\n",
       "      <th>4</th>\n",
       "      <th>5</th>\n",
       "      <th>6</th>\n",
       "      <th>7</th>\n",
       "      <th>8</th>\n",
       "      <th>9</th>\n",
       "      <th>10</th>\n",
       "      <th>11</th>\n",
       "    </tr>\n",
       "    <tr>\n",
       "      <th>molecule</th>\n",
       "      <th></th>\n",
       "      <th></th>\n",
       "      <th></th>\n",
       "      <th></th>\n",
       "      <th></th>\n",
       "      <th></th>\n",
       "      <th></th>\n",
       "      <th></th>\n",
       "      <th></th>\n",
       "      <th></th>\n",
       "      <th></th>\n",
       "    </tr>\n",
       "  </thead>\n",
       "  <tbody>\n",
       "    <tr>\n",
       "      <th>h2o</th>\n",
       "      <td>atmpro</td>\n",
       "      <td>atmpro</td>\n",
       "      <td>atmpro</td>\n",
       "      <td>atmpro</td>\n",
       "      <td>atmpro</td>\n",
       "      <td>atmpro</td>\n",
       "      <td>atmpro</td>\n",
       "      <td>atmpro</td>\n",
       "      <td>atmpro</td>\n",
       "      <td>atmpro</td>\n",
       "      <td>atmpro</td>\n",
       "    </tr>\n",
       "    <tr>\n",
       "      <th>co2</th>\n",
       "      <td>0</td>\n",
       "      <td>0</td>\n",
       "      <td>0.0004</td>\n",
       "      <td>0.0004</td>\n",
       "      <td>0.0004</td>\n",
       "      <td>0.0004</td>\n",
       "      <td>0.0004</td>\n",
       "      <td>0</td>\n",
       "      <td>0</td>\n",
       "      <td>0</td>\n",
       "      <td>0.0004</td>\n",
       "    </tr>\n",
       "    <tr>\n",
       "      <th>n2o</th>\n",
       "      <td>0</td>\n",
       "      <td>0</td>\n",
       "      <td>3.2e-07</td>\n",
       "      <td>0</td>\n",
       "      <td>0</td>\n",
       "      <td>0</td>\n",
       "      <td>0</td>\n",
       "      <td>0</td>\n",
       "      <td>3.2e-07</td>\n",
       "      <td>0</td>\n",
       "      <td>0</td>\n",
       "    </tr>\n",
       "    <tr>\n",
       "      <th>o3</th>\n",
       "      <td>0</td>\n",
       "      <td>0</td>\n",
       "      <td>0</td>\n",
       "      <td>0</td>\n",
       "      <td>0</td>\n",
       "      <td>0</td>\n",
       "      <td>atmpro</td>\n",
       "      <td>0</td>\n",
       "      <td>0</td>\n",
       "      <td>0</td>\n",
       "      <td>0</td>\n",
       "    </tr>\n",
       "    <tr>\n",
       "      <th>ch4</th>\n",
       "      <td>0</td>\n",
       "      <td>0</td>\n",
       "      <td>0</td>\n",
       "      <td>0</td>\n",
       "      <td>0</td>\n",
       "      <td>0</td>\n",
       "      <td>0</td>\n",
       "      <td>0</td>\n",
       "      <td>1.8e-06</td>\n",
       "      <td>0</td>\n",
       "      <td>0</td>\n",
       "    </tr>\n",
       "  </tbody>\n",
       "</table>\n",
       "</div>"
      ],
      "text/plain": [
       "clirad band      1       2        3       4       5       6       7       8   \\\n",
       "molecule                                                                       \n",
       "h2o          atmpro  atmpro   atmpro  atmpro  atmpro  atmpro  atmpro  atmpro   \n",
       "co2               0       0   0.0004  0.0004  0.0004  0.0004  0.0004       0   \n",
       "n2o               0       0  3.2e-07       0       0       0       0       0   \n",
       "o3                0       0        0       0       0       0  atmpro       0   \n",
       "ch4               0       0        0       0       0       0       0       0   \n",
       "\n",
       "clirad band       9       10      11  \n",
       "molecule                              \n",
       "h2o           atmpro  atmpro  atmpro  \n",
       "co2                0       0  0.0004  \n",
       "n2o          3.2e-07       0       0  \n",
       "o3                 0       0       0  \n",
       "ch4          1.8e-06       0       0  "
      ]
     },
     "metadata": {},
     "output_type": "display_data"
    },
    {
     "data": {
      "text/markdown": [
       "*TABLE.* Non-grey absorbers in the atmosphere."
      ],
      "text/plain": [
       "<IPython.core.display.Markdown object>"
      ]
     },
     "metadata": {},
     "output_type": "display_data"
    },
    {
     "data": {
      "text/html": [
       "<div>\n",
       "<style scoped>\n",
       "    .dataframe tbody tr th:only-of-type {\n",
       "        vertical-align: middle;\n",
       "    }\n",
       "\n",
       "    .dataframe tbody tr th {\n",
       "        vertical-align: top;\n",
       "    }\n",
       "\n",
       "    .dataframe thead th {\n",
       "        text-align: right;\n",
       "    }\n",
       "</style>\n",
       "<table border=\"1\" class=\"dataframe\">\n",
       "  <thead>\n",
       "    <tr style=\"text-align: right;\">\n",
       "      <th>clirad band</th>\n",
       "      <th>1</th>\n",
       "      <th>2</th>\n",
       "      <th>3</th>\n",
       "      <th>4</th>\n",
       "      <th>5</th>\n",
       "      <th>6</th>\n",
       "      <th>7</th>\n",
       "      <th>8</th>\n",
       "      <th>9</th>\n",
       "    </tr>\n",
       "    <tr>\n",
       "      <th>absorber</th>\n",
       "      <th></th>\n",
       "      <th></th>\n",
       "      <th></th>\n",
       "      <th></th>\n",
       "      <th></th>\n",
       "      <th></th>\n",
       "      <th></th>\n",
       "      <th></th>\n",
       "      <th></th>\n",
       "    </tr>\n",
       "  </thead>\n",
       "  <tbody>\n",
       "    <tr>\n",
       "      <th>con</th>\n",
       "      <td>atmpro</td>\n",
       "      <td>atmpro</td>\n",
       "      <td>atmpro</td>\n",
       "      <td>atmpro</td>\n",
       "      <td>atmpro</td>\n",
       "      <td>atmpro</td>\n",
       "      <td>atmpro</td>\n",
       "      <td>atmpro</td>\n",
       "      <td>atmpro</td>\n",
       "    </tr>\n",
       "    <tr>\n",
       "      <th>n2o</th>\n",
       "      <td>0</td>\n",
       "      <td>0</td>\n",
       "      <td>0</td>\n",
       "      <td>0</td>\n",
       "      <td>0</td>\n",
       "      <td>0</td>\n",
       "      <td>0</td>\n",
       "      <td>3.2e-07</td>\n",
       "      <td>0</td>\n",
       "    </tr>\n",
       "  </tbody>\n",
       "</table>\n",
       "</div>"
      ],
      "text/plain": [
       "clirad band       1       2       3       4       5       6       7        8  \\\n",
       "absorber                                                                       \n",
       "con          atmpro  atmpro  atmpro  atmpro  atmpro  atmpro  atmpro   atmpro   \n",
       "n2o               0       0       0       0       0       0       0  3.2e-07   \n",
       "\n",
       "clirad band       9  \n",
       "absorber             \n",
       "con          atmpro  \n",
       "n2o               0  "
      ]
     },
     "metadata": {},
     "output_type": "display_data"
    },
    {
     "data": {
      "text/markdown": [
       "*TABLE.* Grey absorbers in the atmosphere."
      ],
      "text/plain": [
       "<IPython.core.display.Markdown object>"
      ]
     },
     "metadata": {},
     "output_type": "display_data"
    },
    {
     "data": {
      "text/html": [
       "<a id=\"Cooling_rates._mls.\"></a>"
      ],
      "text/plain": [
       "<IPython.core.display.HTML object>"
      ]
     },
     "metadata": {},
     "output_type": "display_data"
    },
    {
     "data": {
      "text/markdown": [
       "# Cooling rates. mls."
      ],
      "text/plain": [
       "<IPython.core.display.Markdown object>"
      ]
     },
     "metadata": {},
     "output_type": "display_data"
    },
    {
     "data": {
      "text/html": [
       "\n",
       "<div class=\"bk-root\">\n",
       "    <div class=\"bk-plotdiv\" id=\"63d14554-da89-4f31-9952-579c2cd04ac5\"></div>\n",
       "</div>"
      ]
     },
     "metadata": {},
     "output_type": "display_data"
    },
    {
     "data": {
      "application/javascript": [
       "(function(root) {\n",
       "  function embed_document(root) {\n",
       "    \n",
       "  var docs_json = {\"0b12fd54-c8de-4d7e-a6d3-0b92a14203b0\":{\"roots\":{\"references\":[{\"attributes\":{\"label\":{\"value\":\"old CLIRAD (H2012) - CRD\"},\"renderers\":[{\"id\":\"a2388cb8-151f-4c9d-9121-3e9a9d9ea61c\",\"type\":\"GlyphRenderer\"}]},\"id\":\"83e6a8ec-785c-4990-812a-a3f6902d433b\",\"type\":\"LegendItem\"},{\"attributes\":{\"line_alpha\":0.1,\"line_color\":\"#1f77b4\",\"line_width\":1.5,\"x\":{\"field\":\"x\"},\"y\":{\"field\":\"y\"}},\"id\":\"d61e60a7-ccf7-4263-91e3-5be49a0ffe5c\",\"type\":\"Line\"},{\"attributes\":{\"data_source\":{\"id\":\"ae4f09ef-3d5b-4160-a3c0-28c8e890e5ac\",\"type\":\"ColumnDataSource\"},\"glyph\":{\"id\":\"41f210a0-f2b4-4042-a08a-34d304fb60f0\",\"type\":\"Line\"},\"hover_glyph\":null,\"muted_glyph\":null,\"nonselection_glyph\":{\"id\":\"a9804765-baba-44c9-b7b9-cb18a4f4823d\",\"type\":\"Line\"},\"selection_glyph\":null,\"view\":{\"id\":\"546cd516-e314-4a0f-82c4-58b8fe3a4d1c\",\"type\":\"CDSView\"}},\"id\":\"9399b2a5-5cb9-497c-a896-32850498f996\",\"type\":\"GlyphRenderer\"},{\"attributes\":{\"bottom_units\":\"screen\",\"fill_alpha\":{\"value\":0.5},\"fill_color\":{\"value\":\"lightgrey\"},\"left_units\":\"screen\",\"level\":\"overlay\",\"line_alpha\":{\"value\":1.0},\"line_color\":{\"value\":\"black\"},\"line_dash\":[4,4],\"line_width\":{\"value\":2},\"plot\":null,\"render_mode\":\"css\",\"right_units\":\"screen\",\"top_units\":\"screen\"},\"id\":\"33296628-daf4-49a6-bf61-970b5dc8b3c5\",\"type\":\"BoxAnnotation\"},{\"attributes\":{\"source\":{\"id\":\"e8c8ec2f-954f-4680-b018-6569e6e7eb3c\",\"type\":\"ColumnDataSource\"}},\"id\":\"f09cab20-f9d4-4805-a816-6ed63f252fa8\",\"type\":\"CDSView\"},{\"attributes\":{},\"id\":\"2a9119e7-049d-4c77-950b-aa1a3041b68d\",\"type\":\"SaveTool\"},{\"attributes\":{\"callback\":null,\"data\":{\"x\":{\"__ndarray__\":\"MXhf+wfXU0AZbvNjswdFQLQWsEQVdUFA5TlpnhT9QUB/x1dOYK05QImjxHmcEjZA9jYDSBB3L0AISPl4H6wqQBPuuwfAzyJAOcHprUZAIUB7WWpkesAXQJoT1Uq+ChVArO/8u0EXCkBgVNlshzgCQMeNQ+Nzu/I/POwv1Qzh+D9QxMRmcj8DQOrE7tC4mAxAQsLBRIlHEkAi4cPYoDEXQEeDpjRjzB1ASZ0GEfCuI0DVFj11sssnQOMiVKSMHyhAWRHvUxNoJEDo8cjD4g8gQLGGvR2NDRpAdpI3nV5oFECtyWH9Lp4QQIZQd9bvmwtAkshlnu1BBkBMysnQf1UAQHZJU/DYZ/c/HoEhV+G48T/rSm4vc/TmP3EgV4cD49g/xmy6+4w7zz+bEsjh3uDDPw5SRMRogKs/4GPKdPc1a78lazVXN1vCP/B84ODeUug/LOyxgXDV9z+/DBHyZAwAQAOIY+fy/QFAahF3XKCUAECV0GHvGsz+P+X4k4Nhvf0/RO/IqI98/T8rkW+v/zT9P59vGMDsAv0/zEX7plCY/D/E3siS8kj7P2yUMv+hDvs/RmrXDaYs+z+c9f5GCO36P58nVCbr7vo/Qus8hbcy/D+rD5hFMCf9P4t6dxofnPw/bRp4QYZ2/D/q8NNiN2b8P5YTVw9ESPw/l1Dy0X/K+j+WKih3ZdD5P2k8OYxHjvk/hceGh5N4+T8lpPahWSn5P6vJnePt4vY/UuhmxnXI9T8miFqdE+D0Pz7qfx5CR/Q/0khvq2US9D9LfVdHQGv0P9syeEmwYfg/\",\"dtype\":\"float64\",\"shape\":[75]},\"y\":{\"__ndarray__\":\"hLndy31yND/6fmq8dJNIP8n9DkWBPlE/aDum7souWD/b4a/JGvVgP9f34SAhymc/ZvM4DOavcD+z0M5pFmh3PxuC4zJuaoA/xjcUPlsHhz8uHAjJAiaQP9ieWRKgppY/oI7HDFTGnz+a5h2n6EimPzS6g9iZQq8/IuAQqtTstT9SSZ2AJsK+P4nS3uALk8U/ih9j7lpCzj+ASL99HTjVP4enV8oyxN0/ACL99nXg5D9fmEwVjErtPyUGgZVDi/Q/AiuHFtnO/D9OYhBYOTQEQPHSTWIQWAxA4XoUrkfhE0D8qfHSTeIbQMh2vp8ajyNArkfhehRuK0Bcj8L1KDwzQFyPwvUo/DpAPgrXo3DtQkDNzMzMzIxKQClcj8L1eFJAKVyPwvVoWECamZmZmVleQGZmZmZmJmJAAAAAAAAgZUCamZmZmRloQJqZmZmZEWtAmpmZmZkJbkCamZmZmYFwQGZmZmZm/nFAZmZmZmZ6c0BmZmZmZvZ0QDQzMzMzc3ZAAAAAAADwd0AAAAAAAGx5QAAAAAAA6HpAzMzMzMxkfEDMzMzMzOB9QM3MzMzMXH9AzczMzMxsgEAzMzMzMyuBQDMzMzMz6YFAMzMzMzOngkCamZmZmWWDQAAAAAAAJIRAAAAAAADihEAAAAAAAKCFQGZmZmZmXoZAzczMzMwch0DNzMzMzNqHQM3MzMzMmIhAMzMzMzNXiUCamZmZmRWKQAAAAAAA1IpAAAAAAACSi0AAAAAAAFCMQGZmZmZmDo1AzczMzMzMjUDNzMzMzIqOQM3MzMzMSI9A\",\"dtype\":\"float64\",\"shape\":[75]}},\"selected\":{\"id\":\"c84e318a-a5d6-4ff6-a07b-721cd85c64b6\",\"type\":\"Selection\"},\"selection_policy\":{\"id\":\"6252228a-29b1-4e88-8f60-8c2fdbec7e96\",\"type\":\"UnionRenderers\"}},\"id\":\"ae4f09ef-3d5b-4160-a3c0-28c8e890e5ac\",\"type\":\"ColumnDataSource\"},{\"attributes\":{\"callback\":null,\"end\":13.587992476684697,\"start\":-0.3348764752147},\"id\":\"a1a05e50-52c0-4b6b-8b97-c27c36fe438a\",\"type\":\"Range1d\"},{\"attributes\":{\"axis_label\":\"cooling rate [K/day]\",\"formatter\":{\"id\":\"596875af-9c95-4a22-a0d9-b74de98239e5\",\"type\":\"BasicTickFormatter\"},\"plot\":{\"id\":\"6fd5b356-e49f-46bd-a7bf-262c01806ec1\",\"subtype\":\"Figure\",\"type\":\"Plot\"},\"ticker\":{\"id\":\"07ccf9fd-c3ab-42e4-b55e-f24fc483271d\",\"type\":\"BasicTicker\"}},\"id\":\"c9ab02f9-860d-43f5-afc2-6e7abcd778e3\",\"type\":\"LinearAxis\"},{\"attributes\":{\"data_source\":{\"id\":\"99bd86ae-82fd-4a48-85a3-d05d65b147c3\",\"type\":\"ColumnDataSource\"},\"glyph\":{\"id\":\"cdd04610-8d15-4955-87cc-7ad02d1fd4e4\",\"type\":\"Circle\"},\"hover_glyph\":null,\"muted_glyph\":null,\"nonselection_glyph\":{\"id\":\"b55d3a5a-84b6-42a3-adb3-820f52ce75bf\",\"type\":\"Circle\"},\"selection_glyph\":null,\"view\":{\"id\":\"ad92bf8a-155b-4a33-b31b-03c57cba9680\",\"type\":\"CDSView\"}},\"id\":\"a9c9542d-f540-49db-8c9b-157201fa2dfa\",\"type\":\"GlyphRenderer\"},{\"attributes\":{\"items\":[{\"id\":\"7e33a28b-b25f-49ff-ae51-e1ffadad9d56\",\"type\":\"LegendItem\"},{\"id\":\"3a938714-43eb-4b69-8455-51a47f7c6d11\",\"type\":\"LegendItem\"},{\"id\":\"52d93b76-ae4b-4772-8027-7f5fbb4d7b84\",\"type\":\"LegendItem\"}],\"label_text_font_size\":{\"value\":\"8pt\"},\"location\":\"top_center\",\"orientation\":\"horizontal\",\"plot\":{\"id\":\"6fd5b356-e49f-46bd-a7bf-262c01806ec1\",\"subtype\":\"Figure\",\"type\":\"Plot\"}},\"id\":\"a18bdf38-b50e-497e-b0fd-b0f64f5f67b2\",\"type\":\"Legend\"},{\"attributes\":{\"data_source\":{\"id\":\"0b1da7f8-4ce5-4e4d-ba86-ea03fd27806a\",\"type\":\"ColumnDataSource\"},\"glyph\":{\"id\":\"6f0fd9a1-8112-4e0b-ba17-1d9551d4182c\",\"type\":\"Line\"},\"hover_glyph\":null,\"muted_glyph\":null,\"nonselection_glyph\":{\"id\":\"9b4d9e4d-d736-4315-b92a-4ca3d81b731c\",\"type\":\"Line\"},\"selection_glyph\":null,\"view\":{\"id\":\"1ae00ad8-9a52-4346-8b97-59ecc8b27673\",\"type\":\"CDSView\"}},\"id\":\"f4ef3c92-fabb-4a15-a41c-a3a30637febf\",\"type\":\"GlyphRenderer\"},{\"attributes\":{\"label\":{\"value\":\"old CLIRAD (H2012)\"},\"renderers\":[{\"id\":\"b230ba78-8a06-408c-8b37-74dae78f60a0\",\"type\":\"GlyphRenderer\"},{\"id\":\"9399b2a5-5cb9-497c-a896-32850498f996\",\"type\":\"GlyphRenderer\"}]},\"id\":\"8071cb81-305e-4f77-bd83-89a38ae44f75\",\"type\":\"LegendItem\"},{\"attributes\":{\"label\":{\"value\":\"CLIRAD (single-run) - CRD\"},\"renderers\":[{\"id\":\"e44dc7c6-2a4a-455a-8252-3440f77411c6\",\"type\":\"GlyphRenderer\"},{\"id\":\"f4ef3c92-fabb-4a15-a41c-a3a30637febf\",\"type\":\"GlyphRenderer\"}]},\"id\":\"21f047cd-4785-424b-9e8d-6f4c18948b7a\",\"type\":\"LegendItem\"},{\"attributes\":{\"line_alpha\":0.5,\"line_color\":\"#984ea3\",\"line_width\":1.5,\"x\":{\"field\":\"x\"},\"y\":{\"field\":\"y\"}},\"id\":\"41f210a0-f2b4-4042-a08a-34d304fb60f0\",\"type\":\"Line\"},{\"attributes\":{\"callback\":null,\"data\":{\"x\":{\"__ndarray__\":\"EFTPEMULEsBY5Soo7NcRwOAih0PfTQnAcLzxlkslFUAgkIluU6TzP+gpDdzLdwVAICHKUKVt1T+Ik7s3hMbwP6AHr9TDy9y/ECnbDOK15j+w2qv7vfbXvzCQ/22EH9Y/ABwN6PuE1b8w8RgTZ5TNP8ZxqdeCOdI/WPaTJPMAyz/gCWaNx9zKv4Bz2SfMkLG/QNDU2Dvrw7/gjDvG8ELPv3BfAcZ9A9W/QPE2M06U4r+4EtXbvdv4v8CHA9UM1vO/wNkC+csj1L9A31CHx4DGv4BAVcDWEKk/AJyjBEwOpL8A2K0iJHelvwAHMEdHKYW/QAFQrblkpT+AYHxUdJWePwCcnL/AFYO/AIDdMF2+IL9AoMQ3Xs6Hv8CEJWa/IIk/SHjx3bH7mD9glt/hXwibv4AXhtbv81c/0ZPByHVmuD+ZIBKsyEuxPwB7VdwaDKi/AMK2wPlcpL+A1M+Jt0OhvwBblecIUqS/AOzlE2F5m79AcNDuEvKUv8BO6MRU/Ja/ALSuiFPKhL8ASGwETKOKvwCIZggV2Yi/AB5fgpVndD+A7LY9mXWhv8C4xgD0L5O/ALuUgd63fD8AAPReZ8gCPwB4gQY0fE+/gN8kEc8Okj9ggdWOaw6mPwButB7pzIA/QJoEKHMXlz9A3ZOmSfmuP0CC+mOR17o/8L5CjVu4sD8gd3D5DeiqP4BAGGl6MbI/oBQpEQTvtT+AoHD36662PwCQysucWWu/gOgg5EKCgD+gmD6me76hPwAZquxAgK4/MDP40Wo1tD/gyKr9n0C3P9Ci4ei4h7S/\",\"dtype\":\"float64\",\"shape\":[75]},\"y\":{\"__ndarray__\":\"GhExyth1ND/Sv8nbtpRIP2vylNV0PVE/aTum7souWD/At0SJ8fVgPw3Iuahxymc/MSNhhJWvcD/bTfBN02d3P2zb5nxnaoA/CD5h5MAGhz8NmeH1TyaQP+zrCsc9p5Y/LbKd76fGnz/bLW5ISEmmPww9YvTcQq8/JV2OstnstT8Er5Y7M8G+P0c+r3jqkcU/5h99k6ZBzj88bCIzFzjVP4enV8oyxN0//yH99nXg5D8qOpLLf0jtP5kqGJXUifQ/c9cS8kHP/D+/DpwzojQEQIEmwoanVwxA4lgXt9HgE0BSSZ2AJuIbQAMJih9jjiNA5q4l5INuK0AwTKYKRj0zQNv5fmq8/DpAaCJseHrtQkB/+zpwzoxKQM3MzMzMeFJAZmZmZmZqWEAAAAAAAFxeQM3MzMzMJmJAmpmZmZkfZUBmZmZmZhhoQDMzMzMzEWtAAAAAAAAKbkBmZmZmZoFwQM3MzMzM/XFAMzMzMzN6c0CamZmZmfZ0QAAAAAAAc3ZAZmZmZmbvd0DNzMzMzGt5QDMzMzMz6HpAmpmZmZlkfEAAAAAAAOF9QGZmZmZmXX9AZmZmZuZsgECamZmZGSuBQM3MzMxM6YFAAAAAAICngkAzMzMzs2WDQGZmZmbmI4RAmpmZmRnihEDNzMzMTKCFQAAAAACAXoZAMzMzM7Mch0BmZmZm5tqHQJqZmZkZmYhAzczMzExXiUAAAAAAgBWKQDMzMzOz04pAZmZmZuaRi0CamZmZGVCMQM3MzMxMDo1AAAAAAIDMjUAzMzMzs4qOQGZmZmbmSI9A\",\"dtype\":\"float64\",\"shape\":[75]}},\"selected\":{\"id\":\"0e4f9be5-a92e-4437-96c8-f0f06bdb237d\",\"type\":\"Selection\"},\"selection_policy\":{\"id\":\"29e72962-7535-45be-be65-6aa32d817fb6\",\"type\":\"UnionRenderers\"}},\"id\":\"e8c8ec2f-954f-4680-b018-6569e6e7eb3c\",\"type\":\"ColumnDataSource\"},{\"attributes\":{\"callback\":null,\"data\":{\"x\":{\"__ndarray__\":\"cm1sTMT3VEDEyvjosEJHQOKI6DjzCUNArgQWV9awPkB9Lm8XG3M4QEz+Qv6iYzNA7eV8HaPLLkCX1QHyTpMoQFBmYSYetiNAUB04GtGpH0AmFyVE5j8ZQJca9QPGqBNALJP+OOHHDEBNxaf7QF8AQKtislomWuw/cW2dcO6A9T/uJJvfPu0EQIaQLTI/JQ1AxGiII+PmEkCJvfVeuCsYQD6ZBhGbHB9AXQw69DTYJEAsubcwKucqQNuT9D5OmipAJyi3szEJJUBlNebh5WkgQDDcPHBr2xlArtlANXuQFEBdJadFHckQQI2Avh0ZsQtAjYiwt1rsBUCL0SDoVBgAQK6C0nEEjvc/CggLSme58T9sXU2orFPnP0v0JYz9Gdg/vT38vxYczD9nBQTe6kHHP1IhkEXJwKo/8OZnhCVAub+xtVgCpmqzP6DUpY6g0+k/PKK3T1h4+D8RTDjQc1EAQG/dAQs7TwJAQt2eHpPLAEBWEh074x//PyCap9ZSGf4/rEzaTySm/T+7aXhHRmr9P688KeqeNP0/ruZ4EemD/D8olrZcn9T7P0+vNc9hW/s/i9VVL+4P+z+0NzC24uz6P8731Kza8vo/xFf4SHzq+z+gYyHpvHb8P68ROkiFevw/BAjYdCga/D8AUp8VbW77P3JrF/nKmvo/qCQeGfq++T/dplwHJfn4P2G4p+Uva/g/OzZ0RqMZ+D8dmn/iar73P/OuA7Ka8PY/gaaeQHGn9T9hkyjAH1L0P3aZGhdAU/M/n8VP/g7P8j+90HxHNvfyPwhNBtgrqvk/\",\"dtype\":\"float64\",\"shape\":[75]},\"y\":{\"__ndarray__\":\"GhExyth1ND/Sv8nbtpRIP2vylNV0PVE/aTum7souWD/At0SJ8fVgPw3Iuahxymc/MSNhhJWvcD/bTfBN02d3P2zb5nxnaoA/CD5h5MAGhz8NmeH1TyaQP+zrCsc9p5Y/LbKd76fGnz/bLW5ISEmmPww9YvTcQq8/JV2OstnstT8Er5Y7M8G+P0c+r3jqkcU/5h99k6ZBzj88bCIzFzjVP4enV8oyxN0//yH99nXg5D8qOpLLf0jtP5kqGJXUifQ/c9cS8kHP/D+/DpwzojQEQIEmwoanVwxA4lgXt9HgE0BSSZ2AJuIbQAMJih9jjiNA5q4l5INuK0AwTKYKRj0zQNv5fmq8/DpAaCJseHrtQkB/+zpwzoxKQM3MzMzMeFJAZmZmZmZqWEAAAAAAAFxeQM3MzMzMJmJAmpmZmZkfZUBmZmZmZhhoQDMzMzMzEWtAAAAAAAAKbkBmZmZmZoFwQM3MzMzM/XFAMzMzMzN6c0CamZmZmfZ0QAAAAAAAc3ZAZmZmZmbvd0DNzMzMzGt5QDMzMzMz6HpAmpmZmZlkfEAAAAAAAOF9QGZmZmZmXX9AZmZmZuZsgECamZmZGSuBQM3MzMxM6YFAAAAAAICngkAzMzMzs2WDQGZmZmbmI4RAmpmZmRnihEDNzMzMTKCFQAAAAACAXoZAMzMzM7Mch0BmZmZm5tqHQJqZmZkZmYhAzczMzExXiUAAAAAAgBWKQDMzMzOz04pAZmZmZuaRi0CamZmZGVCMQM3MzMxMDo1AAAAAAIDMjUAzMzMzs4qOQGZmZmbmSI9A\",\"dtype\":\"float64\",\"shape\":[75]}},\"selected\":{\"id\":\"1fa65d13-8ce3-434c-99f9-fc9fccd59021\",\"type\":\"Selection\"},\"selection_policy\":{\"id\":\"ac5477ff-6625-4f2b-b381-6aa7e6d36045\",\"type\":\"UnionRenderers\"}},\"id\":\"699d1ac0-f489-4f06-9e14-d5d4cf294cc6\",\"type\":\"ColumnDataSource\"},{\"attributes\":{\"overlay\":{\"id\":\"33296628-daf4-49a6-bf61-970b5dc8b3c5\",\"type\":\"BoxAnnotation\"}},\"id\":\"22c4ac9f-6c35-4072-bd2c-1f5982499329\",\"type\":\"BoxZoomTool\"},{\"attributes\":{\"line_alpha\":0.1,\"line_color\":\"#1f77b4\",\"line_width\":1.5,\"x\":{\"field\":\"x\"},\"y\":{\"field\":\"y\"}},\"id\":\"a9804765-baba-44c9-b7b9-cb18a4f4823d\",\"type\":\"Line\"},{\"attributes\":{},\"id\":\"20830978-abe3-42d7-a1e4-37565f3ced20\",\"type\":\"HelpTool\"},{\"attributes\":{\"source\":{\"id\":\"0b1da7f8-4ce5-4e4d-ba86-ea03fd27806a\",\"type\":\"ColumnDataSource\"}},\"id\":\"1ae00ad8-9a52-4346-8b97-59ecc8b27673\",\"type\":\"CDSView\"},{\"attributes\":{\"callback\":null,\"data\":{\"x\":{\"__ndarray__\":\"MXhf+wfXU0AZbvNjswdFQLQWsEQVdUFA5TlpnhT9QUB/x1dOYK05QImjxHmcEjZA9jYDSBB3L0AISPl4H6wqQBPuuwfAzyJAOcHprUZAIUB7WWpkesAXQJoT1Uq+ChVArO/8u0EXCkBgVNlshzgCQMeNQ+Nzu/I/POwv1Qzh+D9QxMRmcj8DQOrE7tC4mAxAQsLBRIlHEkAi4cPYoDEXQEeDpjRjzB1ASZ0GEfCuI0DVFj11sssnQOMiVKSMHyhAWRHvUxNoJEDo8cjD4g8gQLGGvR2NDRpAdpI3nV5oFECtyWH9Lp4QQIZQd9bvmwtAkshlnu1BBkBMysnQf1UAQHZJU/DYZ/c/HoEhV+G48T/rSm4vc/TmP3EgV4cD49g/xmy6+4w7zz+bEsjh3uDDPw5SRMRogKs/4GPKdPc1a78lazVXN1vCP/B84ODeUug/LOyxgXDV9z+/DBHyZAwAQAOIY+fy/QFAahF3XKCUAECV0GHvGsz+P+X4k4Nhvf0/RO/IqI98/T8rkW+v/zT9P59vGMDsAv0/zEX7plCY/D/E3siS8kj7P2yUMv+hDvs/RmrXDaYs+z+c9f5GCO36P58nVCbr7vo/Qus8hbcy/D+rD5hFMCf9P4t6dxofnPw/bRp4QYZ2/D/q8NNiN2b8P5YTVw9ESPw/l1Dy0X/K+j+WKih3ZdD5P2k8OYxHjvk/hceGh5N4+T8lpPahWSn5P6vJnePt4vY/UuhmxnXI9T8miFqdE+D0Pz7qfx5CR/Q/0khvq2US9D9LfVdHQGv0P9syeEmwYfg/\",\"dtype\":\"float64\",\"shape\":[75]},\"y\":{\"__ndarray__\":\"hLndy31yND/6fmq8dJNIP8n9DkWBPlE/aDum7souWD/b4a/JGvVgP9f34SAhymc/ZvM4DOavcD+z0M5pFmh3PxuC4zJuaoA/xjcUPlsHhz8uHAjJAiaQP9ieWRKgppY/oI7HDFTGnz+a5h2n6EimPzS6g9iZQq8/IuAQqtTstT9SSZ2AJsK+P4nS3uALk8U/ih9j7lpCzj+ASL99HTjVP4enV8oyxN0/ACL99nXg5D9fmEwVjErtPyUGgZVDi/Q/AiuHFtnO/D9OYhBYOTQEQPHSTWIQWAxA4XoUrkfhE0D8qfHSTeIbQMh2vp8ajyNArkfhehRuK0Bcj8L1KDwzQFyPwvUo/DpAPgrXo3DtQkDNzMzMzIxKQClcj8L1eFJAKVyPwvVoWECamZmZmVleQGZmZmZmJmJAAAAAAAAgZUCamZmZmRloQJqZmZmZEWtAmpmZmZkJbkCamZmZmYFwQGZmZmZm/nFAZmZmZmZ6c0BmZmZmZvZ0QDQzMzMzc3ZAAAAAAADwd0AAAAAAAGx5QAAAAAAA6HpAzMzMzMxkfEDMzMzMzOB9QM3MzMzMXH9AzczMzMxsgEAzMzMzMyuBQDMzMzMz6YFAMzMzMzOngkCamZmZmWWDQAAAAAAAJIRAAAAAAADihEAAAAAAAKCFQGZmZmZmXoZAzczMzMwch0DNzMzMzNqHQM3MzMzMmIhAMzMzMzNXiUCamZmZmRWKQAAAAAAA1IpAAAAAAACSi0AAAAAAAFCMQGZmZmZmDo1AzczMzMzMjUDNzMzMzIqOQM3MzMzMSI9A\",\"dtype\":\"float64\",\"shape\":[75]}},\"selected\":{\"id\":\"d3b7d863-bb0e-4368-b9a6-228326f9bf88\",\"type\":\"Selection\"},\"selection_policy\":{\"id\":\"f75321c6-7da1-4f2f-b62c-165b205bc5b4\",\"type\":\"UnionRenderers\"}},\"id\":\"174288a9-c2ab-44f3-9adb-887edfb9bc07\",\"type\":\"ColumnDataSource\"},{\"attributes\":{\"source\":{\"id\":\"174288a9-c2ab-44f3-9adb-887edfb9bc07\",\"type\":\"ColumnDataSource\"}},\"id\":\"e50678a9-0fc3-4c36-b42f-3f479805f90d\",\"type\":\"CDSView\"},{\"attributes\":{\"plot\":{\"id\":\"6fd5b356-e49f-46bd-a7bf-262c01806ec1\",\"subtype\":\"Figure\",\"type\":\"Plot\"},\"ticker\":{\"id\":\"07ccf9fd-c3ab-42e4-b55e-f24fc483271d\",\"type\":\"BasicTicker\"}},\"id\":\"f5527596-f8f8-4d60-8540-ad2cfbe2ec39\",\"type\":\"Grid\"},{\"attributes\":{\"line_alpha\":0.5,\"line_color\":\"#377eb8\",\"line_dash\":[6],\"line_width\":4,\"x\":{\"field\":\"x\"},\"y\":{\"field\":\"y\"}},\"id\":\"faa74223-c34c-4fae-8462-1fb80f5dd94a\",\"type\":\"Line\"},{\"attributes\":{\"num_minor_ticks\":10},\"id\":\"2ea0284c-61a5-44f4-bded-9c8c0b62c654\",\"type\":\"LogTicker\"},{\"attributes\":{},\"id\":\"ab786bed-c5ee-4b0a-b423-7c61e2ba5e09\",\"type\":\"ResetTool\"},{\"attributes\":{},\"id\":\"0c8e1bd7-5fe6-4b91-b52b-6ae3e2b518e6\",\"type\":\"WheelZoomTool\"},{\"attributes\":{\"data_source\":{\"id\":\"699d1ac0-f489-4f06-9e14-d5d4cf294cc6\",\"type\":\"ColumnDataSource\"},\"glyph\":{\"id\":\"113d35ec-f9ab-4dc5-91a4-b98fbea4f885\",\"type\":\"Line\"},\"hover_glyph\":null,\"muted_glyph\":null,\"nonselection_glyph\":{\"id\":\"d61e60a7-ccf7-4263-91e3-5be49a0ffe5c\",\"type\":\"Line\"},\"selection_glyph\":null,\"view\":{\"id\":\"4bd9ab81-1806-4ced-a6ea-6ae6e4f89133\",\"type\":\"CDSView\"}},\"id\":\"91b177d2-5086-44b9-a3ad-85572f591c7a\",\"type\":\"GlyphRenderer\"},{\"attributes\":{\"source\":{\"id\":\"99bd86ae-82fd-4a48-85a3-d05d65b147c3\",\"type\":\"ColumnDataSource\"}},\"id\":\"ad92bf8a-155b-4a33-b31b-03c57cba9680\",\"type\":\"CDSView\"},{\"attributes\":{},\"id\":\"07ccf9fd-c3ab-42e4-b55e-f24fc483271d\",\"type\":\"BasicTicker\"},{\"attributes\":{\"data_source\":{\"id\":\"174288a9-c2ab-44f3-9adb-887edfb9bc07\",\"type\":\"ColumnDataSource\"},\"glyph\":{\"id\":\"6949bd93-b4d5-40d4-b41d-b93c90b7781b\",\"type\":\"Square\"},\"hover_glyph\":null,\"muted_glyph\":null,\"nonselection_glyph\":{\"id\":\"597044a8-6948-4808-ae8d-2633da055051\",\"type\":\"Square\"},\"selection_glyph\":null,\"view\":{\"id\":\"e50678a9-0fc3-4c36-b42f-3f479805f90d\",\"type\":\"CDSView\"}},\"id\":\"b230ba78-8a06-408c-8b37-74dae78f60a0\",\"type\":\"GlyphRenderer\"},{\"attributes\":{\"fill_alpha\":{\"value\":0.7},\"fill_color\":{\"value\":\"#984ea3\"},\"line_alpha\":{\"value\":0.7},\"line_color\":{\"value\":\"#984ea3\"},\"x\":{\"field\":\"x\"},\"y\":{\"field\":\"y\"}},\"id\":\"6949bd93-b4d5-40d4-b41d-b93c90b7781b\",\"type\":\"Square\"},{\"attributes\":{\"active_drag\":\"auto\",\"active_inspect\":\"auto\",\"active_scroll\":\"auto\",\"active_tap\":\"auto\",\"tools\":[{\"id\":\"942fd9ad-7ad0-4c0b-88f3-619d932a2ad9\",\"type\":\"PanTool\"},{\"id\":\"8047c4aa-1ed9-4e26-b7a6-f7b914808c0a\",\"type\":\"WheelZoomTool\"},{\"id\":\"22f57e81-3ba8-4813-8882-23de4b619625\",\"type\":\"BoxZoomTool\"},{\"id\":\"682f2b23-1522-47ea-9be6-43eb90432f5d\",\"type\":\"SaveTool\"},{\"id\":\"f9ac5978-c009-4955-833c-6790a0dd9c45\",\"type\":\"ResetTool\"},{\"id\":\"0c89d9f4-2ed5-4140-8aed-8fab21e50232\",\"type\":\"HelpTool\"}]},\"id\":\"5c35d367-0e7d-4d39-a76b-066298005d9d\",\"type\":\"Toolbar\"},{\"attributes\":{},\"id\":\"eb64efcb-77a6-466c-8490-3aa46fd9ca42\",\"type\":\"LinearScale\"},{\"attributes\":{\"plot\":null,\"text\":\"\"},\"id\":\"4d93d2de-bd99-4488-82e7-908e85bfbfbd\",\"type\":\"Title\"},{\"attributes\":{\"callback\":null,\"end\":0.01,\"start\":1020},\"id\":\"a92e05b2-a7a4-4935-ba52-1237e2334bef\",\"type\":\"Range1d\"},{\"attributes\":{\"line_color\":\"#4daf4a\",\"line_width\":1.5,\"x\":{\"field\":\"x\"},\"y\":{\"field\":\"y\"}},\"id\":\"113d35ec-f9ab-4dc5-91a4-b98fbea4f885\",\"type\":\"Line\"},{\"attributes\":{\"source\":{\"id\":\"699d1ac0-f489-4f06-9e14-d5d4cf294cc6\",\"type\":\"ColumnDataSource\"}},\"id\":\"4bd9ab81-1806-4ced-a6ea-6ae6e4f89133\",\"type\":\"CDSView\"},{\"attributes\":{},\"id\":\"bce2cf99-4e96-4c15-8a9a-2ada3f4903d4\",\"type\":\"LogScale\"},{\"attributes\":{},\"id\":\"cf0b75a9-4ef2-4eaf-b36e-4516b65feea4\",\"type\":\"PanTool\"},{\"attributes\":{\"line_alpha\":0.6,\"line_color\":\"#377eb8\",\"line_dash\":[6],\"line_width\":5,\"x\":{\"field\":\"x\"},\"y\":{\"field\":\"y\"}},\"id\":\"5206d4a0-2a9e-4008-a609-48feebc20e0a\",\"type\":\"Line\"},{\"attributes\":{\"fill_alpha\":{\"value\":0.1},\"fill_color\":{\"value\":\"#1f77b4\"},\"line_alpha\":{\"value\":0.1},\"line_color\":{\"value\":\"#1f77b4\"},\"x\":{\"field\":\"x\"},\"y\":{\"field\":\"y\"}},\"id\":\"597044a8-6948-4808-ae8d-2633da055051\",\"type\":\"Square\"},{\"attributes\":{\"label\":{\"value\":\"CRD\"},\"renderers\":[{\"id\":\"a9c9542d-f540-49db-8c9b-157201fa2dfa\",\"type\":\"GlyphRenderer\"},{\"id\":\"91b177d2-5086-44b9-a3ad-85572f591c7a\",\"type\":\"GlyphRenderer\"}]},\"id\":\"49921854-dc61-4c08-81b1-ba8ed0f41ea1\",\"type\":\"LegendItem\"},{\"attributes\":{\"axis_label\":\"pressure [mb]\",\"formatter\":{\"id\":\"0be2e9f1-5890-4d94-8942-6e692fd5a281\",\"type\":\"BasicTickFormatter\"},\"plot\":{\"id\":\"0ac597da-fec6-4eeb-8404-1dcdbee5c4b8\",\"subtype\":\"Figure\",\"type\":\"Plot\"},\"ticker\":{\"id\":\"05da9f3e-d03a-4979-b1a1-256c9f7b8d0e\",\"type\":\"BasicTicker\"}},\"id\":\"e2dbe4fe-2e39-4f00-be88-cb5b990f4c28\",\"type\":\"LinearAxis\"},{\"attributes\":{\"label\":{\"value\":\"CLIRAD (single-run)\"},\"renderers\":[{\"id\":\"3a7a472b-8955-42ea-9387-12cd461eb952\",\"type\":\"GlyphRenderer\"}]},\"id\":\"093f7d84-c268-44c5-beba-2ae2ca811139\",\"type\":\"LegendItem\"},{\"attributes\":{\"axis_label\":\"pressure [mb]\",\"formatter\":{\"id\":\"4bd92540-9159-4304-81ff-4bea1137ccc2\",\"type\":\"LogTickFormatter\"},\"plot\":{\"id\":\"6fd5b356-e49f-46bd-a7bf-262c01806ec1\",\"subtype\":\"Figure\",\"type\":\"Plot\"},\"ticker\":{\"id\":\"2ea0284c-61a5-44f4-bded-9c8c0b62c654\",\"type\":\"LogTicker\"}},\"id\":\"a93986c2-14f4-4015-be57-555e97106a2b\",\"type\":\"LogAxis\"},{\"attributes\":{\"source\":{\"id\":\"ae4f09ef-3d5b-4160-a3c0-28c8e890e5ac\",\"type\":\"ColumnDataSource\"}},\"id\":\"546cd516-e314-4a0f-82c4-58b8fe3a4d1c\",\"type\":\"CDSView\"},{\"attributes\":{\"dimension\":1,\"plot\":{\"id\":\"6fd5b356-e49f-46bd-a7bf-262c01806ec1\",\"subtype\":\"Figure\",\"type\":\"Plot\"},\"ticker\":{\"id\":\"2ea0284c-61a5-44f4-bded-9c8c0b62c654\",\"type\":\"LogTicker\"}},\"id\":\"6d85d927-1a38-430f-b84f-40f644610469\",\"type\":\"Grid\"},{\"attributes\":{\"line_alpha\":0.1,\"line_color\":\"#1f77b4\",\"line_dash\":[6],\"line_width\":4,\"x\":{\"field\":\"x\"},\"y\":{\"field\":\"y\"}},\"id\":\"a943cab7-bf6b-43b7-90f8-29b1e4c86a2f\",\"type\":\"Line\"},{\"attributes\":{\"data_source\":{\"id\":\"e8c8ec2f-954f-4680-b018-6569e6e7eb3c\",\"type\":\"ColumnDataSource\"},\"glyph\":{\"id\":\"faa74223-c34c-4fae-8462-1fb80f5dd94a\",\"type\":\"Line\"},\"hover_glyph\":null,\"muted_glyph\":null,\"nonselection_glyph\":{\"id\":\"a943cab7-bf6b-43b7-90f8-29b1e4c86a2f\",\"type\":\"Line\"},\"selection_glyph\":null,\"view\":{\"id\":\"f09cab20-f9d4-4805-a816-6ed63f252fa8\",\"type\":\"CDSView\"}},\"id\":\"a2388cb8-151f-4c9d-9121-3e9a9d9ea61c\",\"type\":\"GlyphRenderer\"},{\"attributes\":{\"fill_alpha\":{\"value\":0.1},\"fill_color\":{\"value\":\"#1f77b4\"},\"line_alpha\":{\"value\":0.1},\"line_color\":{\"value\":\"#1f77b4\"},\"x\":{\"field\":\"x\"},\"y\":{\"field\":\"y\"}},\"id\":\"b55d3a5a-84b6-42a3-adb3-820f52ce75bf\",\"type\":\"Circle\"},{\"attributes\":{\"callback\":null,\"end\":0.01,\"start\":1020},\"id\":\"2747a798-0c41-4127-b586-8819a4af21c3\",\"type\":\"Range1d\"},{\"attributes\":{\"plot\":null,\"text\":\"\"},\"id\":\"f805eab1-afa0-4b17-a2d1-3cba12bef193\",\"type\":\"Title\"},{\"attributes\":{},\"id\":\"c54fa789-b290-4281-8d1a-2a655ac6b8a0\",\"type\":\"Selection\"},{\"attributes\":{\"source\":{\"id\":\"5e0dee11-0fae-4c49-a4b7-bc081eccd528\",\"type\":\"ColumnDataSource\"}},\"id\":\"dea4fb92-ba3e-4fbe-bf0a-7dc06a9280e4\",\"type\":\"CDSView\"},{\"attributes\":{\"overlay\":{\"id\":\"54976ff3-327b-47bb-b621-7fa878242d11\",\"type\":\"BoxAnnotation\"}},\"id\":\"5b6561ef-49fb-4040-89e3-c2f374066d50\",\"type\":\"BoxZoomTool\"},{\"attributes\":{\"callback\":null,\"end\":0.01,\"start\":1020},\"id\":\"f1dc73fa-df96-4a87-b7bc-c7337344aad6\",\"type\":\"Range1d\"},{\"attributes\":{\"data_source\":{\"id\":\"5e0dee11-0fae-4c49-a4b7-bc081eccd528\",\"type\":\"ColumnDataSource\"},\"glyph\":{\"id\":\"ec5f7911-3885-47af-9337-4ca277689498\",\"type\":\"Circle\"},\"hover_glyph\":null,\"muted_glyph\":null,\"nonselection_glyph\":{\"id\":\"092f573b-dc82-4a24-9c91-01821a2fd3a8\",\"type\":\"Circle\"},\"selection_glyph\":null,\"view\":{\"id\":\"dea4fb92-ba3e-4fbe-bf0a-7dc06a9280e4\",\"type\":\"CDSView\"}},\"id\":\"e44dc7c6-2a4a-455a-8252-3440f77411c6\",\"type\":\"GlyphRenderer\"},{\"attributes\":{\"data_source\":{\"id\":\"c9324f9e-e282-41ef-a65f-6b4894f00145\",\"type\":\"ColumnDataSource\"},\"glyph\":{\"id\":\"db434b21-485b-46eb-8dca-3c81298bb201\",\"type\":\"Line\"},\"hover_glyph\":null,\"muted_glyph\":null,\"nonselection_glyph\":{\"id\":\"1f2ceab1-46eb-44f5-8da1-2a42664c0d40\",\"type\":\"Line\"},\"selection_glyph\":null,\"view\":{\"id\":\"962b7892-4ec8-4f18-ab5c-df78d31a4c14\",\"type\":\"CDSView\"}},\"id\":\"8543d9c4-6be3-4987-8561-ac9cab34058e\",\"type\":\"GlyphRenderer\"},{\"attributes\":{\"axis_label\":\"cooling rate [K/day]\",\"formatter\":{\"id\":\"0154fbcb-7ba4-4360-8523-5980b96f6e13\",\"type\":\"BasicTickFormatter\"},\"plot\":{\"id\":\"3e1a51c5-760c-49b2-91b1-d36173a49f63\",\"subtype\":\"Figure\",\"type\":\"Plot\"},\"ticker\":{\"id\":\"b8790e21-3002-44c1-a466-abcc9f7cbc59\",\"type\":\"BasicTicker\"}},\"id\":\"94fa04d3-0b67-4374-9bb9-29f77a8add9c\",\"type\":\"LinearAxis\"},{\"attributes\":{},\"id\":\"1fa65d13-8ce3-434c-99f9-fc9fccd59021\",\"type\":\"Selection\"},{\"attributes\":{},\"id\":\"99f8472a-1969-4ecf-8ddc-786dffa6d6be\",\"type\":\"LinearScale\"},{\"attributes\":{\"callback\":null,\"data\":{\"x\":{\"__ndarray__\":\"r+yCwTXZRUC63ct9chhDQBKI1/UL5EFA/p/DfHk/QEDrk9xhE0E8QPcEie3uPTdAnrKarifqMUCL3qmAe+YpQHxLlBhfGyJA28TJ/Q41GkDXXY94aN4UQIMnmUEhtxFAAE0pVNxNDUDyuAPQg5YDQE8DBkmf9vU/59sn7EeP+j92eGOcGjMFQJ+c/HFWDwtAvgS4aujgEEBOTw5V5xcWQEwP+R15/h1AEJaxoZvVJED1TgXc88wqQPj8MEJ4/ClAf1GC/kJPJECYh0z5EEggQC/NCMrIZBtAiM22iUkGFkBElyZbEykRQAO0rWad4QtA0WdR6XEJCEAwlSMJZ8wCQGrj425rBvo/f+mjQitG8T/g1ZN1D3vnPyzHlqtA6ds/ypGlQZcRzT8+xFCYQUbAP6zbkcsuAaO/DRS6Q3Fkyb9Rqiyq/9yDv6pgdWAQw+c/9rUuNUJ/9z8totxsYhcAQFmxrsBGmAFAnZX+bzYHAEDRevgyUUT+P8hgxanWIv0/JrfcT3xr/D/QuMvZljz8P0ug0tImWPw/psus7w3v+z87A37o3XP7P3BW6ZOBCPs/MewwJv29+j/zL+6rF4j6P3VyKykchvo/NqH/1C6c+z89IqZEEn38PzTVk/lH//w/LR0Y5T7+/D8/BRsyeV78PwnX7f1XR/s/vb577NMW+j8LKNTTRwD5P5pZ8Ef2bfg/2cXZGUs9+D/tAD4uYDj4P2j1aXC2tPc/uD6sN2ql9j91O/vKg3T1P5oIG55eifQ/4Ln3cMkR9D8zVYvjG0X0P+T1YFJ81CTA\",\"dtype\":\"float64\",\"shape\":[75]},\"y\":{\"__ndarray__\":\"GhExyth1ND/Sv8nbtpRIP2vylNV0PVE/aTum7souWD/At0SJ8fVgPw3Iuahxymc/MSNhhJWvcD/bTfBN02d3P2zb5nxnaoA/CD5h5MAGhz8NmeH1TyaQP+zrCsc9p5Y/LbKd76fGnz/bLW5ISEmmPww9YvTcQq8/JV2OstnstT8Er5Y7M8G+P0c+r3jqkcU/5h99k6ZBzj88bCIzFzjVP4enV8oyxN0//yH99nXg5D8qOpLLf0jtP5kqGJXUifQ/c9cS8kHP/D+/DpwzojQEQIEmwoanVwxA4lgXt9HgE0BSSZ2AJuIbQAMJih9jjiNA5q4l5INuK0AwTKYKRj0zQNv5fmq8/DpAaCJseHrtQkB/+zpwzoxKQM3MzMzMeFJAZmZmZmZqWEAAAAAAAFxeQM3MzMzMJmJAmpmZmZkfZUBmZmZmZhhoQDMzMzMzEWtAAAAAAAAKbkBmZmZmZoFwQM3MzMzM/XFAMzMzMzN6c0CamZmZmfZ0QAAAAAAAc3ZAZmZmZmbvd0DNzMzMzGt5QDMzMzMz6HpAmpmZmZlkfEAAAAAAAOF9QGZmZmZmXX9AZmZmZuZsgECamZmZGSuBQM3MzMxM6YFAAAAAAICngkAzMzMzs2WDQGZmZmbmI4RAmpmZmRnihEDNzMzMTKCFQAAAAACAXoZAMzMzM7Mch0BmZmZm5tqHQJqZmZkZmYhAzczMzExXiUAAAAAAgBWKQDMzMzOz04pAZmZmZuaRi0CamZmZGVCMQM3MzMxMDo1AAAAAAIDMjUAzMzMzs4qOQGZmZmbmSI9A\",\"dtype\":\"float64\",\"shape\":[75]}},\"selected\":{\"id\":\"48a8bbeb-9f47-4829-8fee-d289c66cf712\",\"type\":\"Selection\"},\"selection_policy\":{\"id\":\"0155231b-dbaa-4b10-9b20-fb168a982fdc\",\"type\":\"UnionRenderers\"}},\"id\":\"e676d48f-5ac2-4698-94b8-9434ff4b64cf\",\"type\":\"ColumnDataSource\"},{\"attributes\":{},\"id\":\"bf2bd8e3-545e-4632-90d6-3fc95913b7da\",\"type\":\"Selection\"},{\"attributes\":{\"above\":[{\"id\":\"9b376d74-5998-499d-be17-f34ca24bf1bf\",\"type\":\"Legend\"}],\"below\":[{\"id\":\"94fa04d3-0b67-4374-9bb9-29f77a8add9c\",\"type\":\"LinearAxis\"}],\"left\":[{\"id\":\"ece1f557-55b4-439f-80fa-f690928eee78\",\"type\":\"LogAxis\"}],\"plot_width\":300,\"renderers\":[{\"id\":\"94fa04d3-0b67-4374-9bb9-29f77a8add9c\",\"type\":\"LinearAxis\"},{\"id\":\"6ff8a633-12b0-4270-9ffa-f81437573b1f\",\"type\":\"Grid\"},{\"id\":\"ece1f557-55b4-439f-80fa-f690928eee78\",\"type\":\"LogAxis\"},{\"id\":\"1e546d1c-3898-4aad-94e0-1f5529d77687\",\"type\":\"Grid\"},{\"id\":\"54976ff3-327b-47bb-b621-7fa878242d11\",\"type\":\"BoxAnnotation\"},{\"id\":\"e44dc7c6-2a4a-455a-8252-3440f77411c6\",\"type\":\"GlyphRenderer\"},{\"id\":\"f4ef3c92-fabb-4a15-a41c-a3a30637febf\",\"type\":\"GlyphRenderer\"},{\"id\":\"a2388cb8-151f-4c9d-9121-3e9a9d9ea61c\",\"type\":\"GlyphRenderer\"},{\"id\":\"9b376d74-5998-499d-be17-f34ca24bf1bf\",\"type\":\"Legend\"}],\"title\":{\"id\":\"43fac23b-7f97-4dd0-aa86-855c43bb6538\",\"type\":\"Title\"},\"toolbar\":{\"id\":\"49635713-bb7d-40ee-8ec1-c5d4f9f4d0ab\",\"type\":\"Toolbar\"},\"toolbar_location\":null,\"x_range\":{\"id\":\"0d65a3af-db70-4203-a980-86a5265a5ade\",\"type\":\"Range1d\"},\"x_scale\":{\"id\":\"99f8472a-1969-4ecf-8ddc-786dffa6d6be\",\"type\":\"LinearScale\"},\"y_range\":{\"id\":\"a92e05b2-a7a4-4935-ba52-1237e2334bef\",\"type\":\"Range1d\"},\"y_scale\":{\"id\":\"dc0fea81-a5ff-419a-99e6-2b4c90b8db7d\",\"type\":\"LogScale\"}},\"id\":\"3e1a51c5-760c-49b2-91b1-d36173a49f63\",\"subtype\":\"Figure\",\"type\":\"Plot\"},{\"attributes\":{\"items\":[{\"id\":\"093f7d84-c268-44c5-beba-2ae2ca811139\",\"type\":\"LegendItem\"},{\"id\":\"49921854-dc61-4c08-81b1-ba8ed0f41ea1\",\"type\":\"LegendItem\"},{\"id\":\"8071cb81-305e-4f77-bd83-89a38ae44f75\",\"type\":\"LegendItem\"}],\"label_text_font_size\":{\"value\":\"8pt\"},\"location\":\"top_center\",\"orientation\":\"horizontal\",\"plot\":{\"id\":\"0ac597da-fec6-4eeb-8404-1dcdbee5c4b8\",\"subtype\":\"Figure\",\"type\":\"Plot\"}},\"id\":\"c5229084-2a3a-4196-a5b3-137679b1eea7\",\"type\":\"Legend\"},{\"attributes\":{},\"id\":\"c84e318a-a5d6-4ff6-a07b-721cd85c64b6\",\"type\":\"Selection\"},{\"attributes\":{},\"id\":\"d3b7d863-bb0e-4368-b9a6-228326f9bf88\",\"type\":\"Selection\"},{\"attributes\":{\"line_alpha\":0.8,\"line_color\":\"#984ea3\",\"line_width\":1.5,\"x\":{\"field\":\"x\"},\"y\":{\"field\":\"y\"}},\"id\":\"6f0fd9a1-8112-4e0b-ba17-1d9551d4182c\",\"type\":\"Line\"},{\"attributes\":{},\"id\":\"75e9d1ce-2e04-4464-b01e-920a28f08dec\",\"type\":\"UnionRenderers\"},{\"attributes\":{\"axis_label\":\"pressure [mb]\",\"formatter\":{\"id\":\"0df6db17-9089-4ed6-8313-5db19b28be20\",\"type\":\"LogTickFormatter\"},\"plot\":{\"id\":\"3e1a51c5-760c-49b2-91b1-d36173a49f63\",\"subtype\":\"Figure\",\"type\":\"Plot\"},\"ticker\":{\"id\":\"126e79c2-2265-4068-b3eb-a844e708eccc\",\"type\":\"LogTicker\"}},\"id\":\"ece1f557-55b4-439f-80fa-f690928eee78\",\"type\":\"LogAxis\"},{\"attributes\":{\"callback\":null,\"data\":{\"x\":{\"__ndarray__\":\"FOr41rjMeECIN9lPR1l3QP1J6wpSOHZAs5sbpjlsdEDJstChi+VxQAoH1Ca0iG1AO+c8Xjy1ZkClq1T5P0VgQAC7//zeblZAgTXXPN0JUEAkfkDd0olJQAHzs/m05kVAvntMZglZQkCjJZAeDeM4QGMevZ54bSxAV5BRi3LqMEAEYRW7nIg6QKXSOns3yEBAbflLLmPYREBa9RQJZ1tLQPDQipMprVJAy+zMX68KWkC1KjgEdb5gQK1kksntM2BACkt859VLWUDEc4ya2lVUQE0/4lOTN1FAZT+ztpW2S0BTK6D0Vn9FQLqDu6QKcEFArd3ZSXFPPkDx0owPA9Y3QC6EH5WJazBADQBgkk6JJUBmmqGsv14dQKpJNZ28rhFAXxAikVY6AkApja7VXHjzPziSmoC5ed2/ka5ssgyrAMDwDyvGQl3Hv1aqzHLCcR1A60Up/+8/LUB8Vajb+BU0QC34j+d55zVAEDIqdnjwM0BKA1mf+dwyQOg4TWdeJjJAHxnqMYOvMUBziERRA5MxQGk6TsJQqTFAlz2vAxtsMUDWOAuaXiIxQHgQvfgi4DBACUVMJ5+xMEB8vdAawo4wQDSPgLEFjTBAWTngbbg8MUBQIaDAkM4xQHgBEifZJzJAjxMztigtMkB7nhiBDMoxQB8NAs9fFzFA2DADEcJTMEAzIlgiPkEvQCiENabMiS5AROm82hJRLkACTkXjtlUuQI87UYRnui1AbgF55INuLEBVXxQ/8fUqQKXYgRZ60ilA36aKG5M+KUAO+++PH4ApQE5rpaDTCl3A\",\"dtype\":\"float64\",\"shape\":[75]},\"y\":{\"__ndarray__\":\"GhExyth1ND/Sv8nbtpRIP2vylNV0PVE/aTum7souWD/At0SJ8fVgPw3Iuahxymc/MSNhhJWvcD/bTfBN02d3P2zb5nxnaoA/CD5h5MAGhz8NmeH1TyaQP+zrCsc9p5Y/LbKd76fGnz/bLW5ISEmmPww9YvTcQq8/JV2OstnstT8Er5Y7M8G+P0c+r3jqkcU/5h99k6ZBzj88bCIzFzjVP4enV8oyxN0//yH99nXg5D8qOpLLf0jtP5kqGJXUifQ/c9cS8kHP/D+/DpwzojQEQIEmwoanVwxA4lgXt9HgE0BSSZ2AJuIbQAMJih9jjiNA5q4l5INuK0AwTKYKRj0zQNv5fmq8/DpAaCJseHrtQkB/+zpwzoxKQM3MzMzMeFJAZmZmZmZqWEAAAAAAAFxeQM3MzMzMJmJAmpmZmZkfZUBmZmZmZhhoQDMzMzMzEWtAAAAAAAAKbkBmZmZmZoFwQM3MzMzM/XFAMzMzMzN6c0CamZmZmfZ0QAAAAAAAc3ZAZmZmZmbvd0DNzMzMzGt5QDMzMzMz6HpAmpmZmZlkfEAAAAAAAOF9QGZmZmZmXX9AZmZmZuZsgECamZmZGSuBQM3MzMxM6YFAAAAAAICngkAzMzMzs2WDQGZmZmbmI4RAmpmZmRnihEDNzMzMTKCFQAAAAACAXoZAMzMzM7Mch0BmZmZm5tqHQJqZmZkZmYhAzczMzExXiUAAAAAAgBWKQDMzMzOz04pAZmZmZuaRi0CamZmZGVCMQM3MzMxMDo1AAAAAAIDMjUAzMzMzs4qOQGZmZmbmSI9A\",\"dtype\":\"float64\",\"shape\":[75]}},\"selected\":{\"id\":\"408660de-979f-421e-9902-a85b539e9f35\",\"type\":\"Selection\"},\"selection_policy\":{\"id\":\"9749c980-5a3c-4c5f-8713-f11840c9e206\",\"type\":\"UnionRenderers\"}},\"id\":\"0b1da7f8-4ce5-4e4d-ba86-ea03fd27806a\",\"type\":\"ColumnDataSource\"},{\"attributes\":{},\"id\":\"7fa9ca27-b4ab-4abc-ab29-488340af462e\",\"type\":\"UnionRenderers\"},{\"attributes\":{},\"id\":\"f75321c6-7da1-4f2f-b62c-165b205bc5b4\",\"type\":\"UnionRenderers\"},{\"attributes\":{\"items\":[{\"id\":\"21f047cd-4785-424b-9e8d-6f4c18948b7a\",\"type\":\"LegendItem\"},{\"id\":\"83e6a8ec-785c-4990-812a-a3f6902d433b\",\"type\":\"LegendItem\"}],\"label_text_font_size\":{\"value\":\"8pt\"},\"location\":\"top_center\",\"orientation\":\"horizontal\",\"plot\":{\"id\":\"3e1a51c5-760c-49b2-91b1-d36173a49f63\",\"subtype\":\"Figure\",\"type\":\"Plot\"}},\"id\":\"9b376d74-5998-499d-be17-f34ca24bf1bf\",\"type\":\"Legend\"},{\"attributes\":{\"dimension\":1,\"plot\":{\"id\":\"3e1a51c5-760c-49b2-91b1-d36173a49f63\",\"subtype\":\"Figure\",\"type\":\"Plot\"},\"ticker\":{\"id\":\"126e79c2-2265-4068-b3eb-a844e708eccc\",\"type\":\"LogTicker\"}},\"id\":\"1e546d1c-3898-4aad-94e0-1f5529d77687\",\"type\":\"Grid\"},{\"attributes\":{},\"id\":\"131375af-a26f-465b-aa89-75bd6c7623d3\",\"type\":\"HelpTool\"},{\"attributes\":{\"ticker\":null},\"id\":\"4bd92540-9159-4304-81ff-4bea1137ccc2\",\"type\":\"LogTickFormatter\"},{\"attributes\":{\"line_alpha\":0.1,\"line_color\":\"#1f77b4\",\"line_dash\":[6],\"line_width\":5,\"x\":{\"field\":\"x\"},\"y\":{\"field\":\"y\"}},\"id\":\"97f0f1d0-cb19-4d55-a49f-29399a71e55a\",\"type\":\"Line\"},{\"attributes\":{},\"id\":\"dc0fea81-a5ff-419a-99e6-2b4c90b8db7d\",\"type\":\"LogScale\"},{\"attributes\":{},\"id\":\"9a1f4eaa-888f-4cd8-969d-b2b9176b0b64\",\"type\":\"ResetTool\"},{\"attributes\":{\"line_alpha\":0.1,\"line_color\":\"#1f77b4\",\"line_width\":1.5,\"x\":{\"field\":\"x\"},\"y\":{\"field\":\"y\"}},\"id\":\"9b4d9e4d-d736-4315-b92a-4ca3d81b731c\",\"type\":\"Line\"},{\"attributes\":{},\"id\":\"ac5477ff-6625-4f2b-b381-6aa7e6d36045\",\"type\":\"UnionRenderers\"},{\"attributes\":{},\"id\":\"f81ca6c6-b518-46ed-ac26-0e2d8e56e583\",\"type\":\"BasicTickFormatter\"},{\"attributes\":{\"active_drag\":\"auto\",\"active_inspect\":\"auto\",\"active_scroll\":\"auto\",\"active_tap\":\"auto\",\"tools\":[{\"id\":\"cf0b75a9-4ef2-4eaf-b36e-4516b65feea4\",\"type\":\"PanTool\"},{\"id\":\"0c8e1bd7-5fe6-4b91-b52b-6ae3e2b518e6\",\"type\":\"WheelZoomTool\"},{\"id\":\"22c4ac9f-6c35-4072-bd2c-1f5982499329\",\"type\":\"BoxZoomTool\"},{\"id\":\"2a9119e7-049d-4c77-950b-aa1a3041b68d\",\"type\":\"SaveTool\"},{\"id\":\"ab786bed-c5ee-4b0a-b423-7c61e2ba5e09\",\"type\":\"ResetTool\"},{\"id\":\"20830978-abe3-42d7-a1e4-37565f3ced20\",\"type\":\"HelpTool\"}]},\"id\":\"95bb7a31-e7e9-4585-b760-fbad03a001ae\",\"type\":\"Toolbar\"},{\"attributes\":{},\"id\":\"0be2e9f1-5890-4d94-8942-6e692fd5a281\",\"type\":\"BasicTickFormatter\"},{\"attributes\":{},\"id\":\"400cbbdb-69df-46aa-a422-a6e14e8e1fd2\",\"type\":\"Selection\"},{\"attributes\":{},\"id\":\"3a62ca6b-d301-402c-986a-be0a76823b78\",\"type\":\"PanTool\"},{\"attributes\":{},\"id\":\"743c0b03-e8e7-4f8c-8d2b-f8eb8cd75bb6\",\"type\":\"SaveTool\"},{\"attributes\":{},\"id\":\"50eb45fb-51e3-443e-b505-cbbefd372911\",\"type\":\"Selection\"},{\"attributes\":{},\"id\":\"4c09f1d8-3b01-40a0-9cf0-7b6df16896b7\",\"type\":\"WheelZoomTool\"},{\"attributes\":{\"bottom_units\":\"screen\",\"fill_alpha\":{\"value\":0.5},\"fill_color\":{\"value\":\"lightgrey\"},\"left_units\":\"screen\",\"level\":\"overlay\",\"line_alpha\":{\"value\":1.0},\"line_color\":{\"value\":\"black\"},\"line_dash\":[4,4],\"line_width\":{\"value\":2},\"plot\":null,\"render_mode\":\"css\",\"right_units\":\"screen\",\"top_units\":\"screen\"},\"id\":\"54976ff3-327b-47bb-b621-7fa878242d11\",\"type\":\"BoxAnnotation\"},{\"attributes\":{\"above\":[{\"id\":\"c5229084-2a3a-4196-a5b3-137679b1eea7\",\"type\":\"Legend\"}],\"below\":[{\"id\":\"26853a49-3c98-4e6f-b501-06bb7cc34010\",\"type\":\"LinearAxis\"}],\"left\":[{\"id\":\"e2dbe4fe-2e39-4f00-be88-cb5b990f4c28\",\"type\":\"LinearAxis\"}],\"plot_width\":300,\"renderers\":[{\"id\":\"26853a49-3c98-4e6f-b501-06bb7cc34010\",\"type\":\"LinearAxis\"},{\"id\":\"d1c3dee5-af56-422e-bc78-47ba0c495792\",\"type\":\"Grid\"},{\"id\":\"e2dbe4fe-2e39-4f00-be88-cb5b990f4c28\",\"type\":\"LinearAxis\"},{\"id\":\"8529943d-8d5d-4aea-aec0-bbf44b09a4a2\",\"type\":\"Grid\"},{\"id\":\"33296628-daf4-49a6-bf61-970b5dc8b3c5\",\"type\":\"BoxAnnotation\"},{\"id\":\"3a7a472b-8955-42ea-9387-12cd461eb952\",\"type\":\"GlyphRenderer\"},{\"id\":\"a9c9542d-f540-49db-8c9b-157201fa2dfa\",\"type\":\"GlyphRenderer\"},{\"id\":\"91b177d2-5086-44b9-a3ad-85572f591c7a\",\"type\":\"GlyphRenderer\"},{\"id\":\"b230ba78-8a06-408c-8b37-74dae78f60a0\",\"type\":\"GlyphRenderer\"},{\"id\":\"9399b2a5-5cb9-497c-a896-32850498f996\",\"type\":\"GlyphRenderer\"},{\"id\":\"c5229084-2a3a-4196-a5b3-137679b1eea7\",\"type\":\"Legend\"}],\"title\":{\"id\":\"4d93d2de-bd99-4488-82e7-908e85bfbfbd\",\"type\":\"Title\"},\"toolbar\":{\"id\":\"95bb7a31-e7e9-4585-b760-fbad03a001ae\",\"type\":\"Toolbar\"},\"toolbar_location\":null,\"x_range\":{\"id\":\"f6f02266-5172-44b1-82d4-cc7d46315119\",\"type\":\"Range1d\"},\"x_scale\":{\"id\":\"d9a3deee-07bd-4cad-bec3-863337bed50a\",\"type\":\"LinearScale\"},\"y_range\":{\"id\":\"f1dc73fa-df96-4a87-b7bc-c7337344aad6\",\"type\":\"Range1d\"},\"y_scale\":{\"id\":\"9b512ee5-fd01-4e74-b9c1-8a0bae6973ea\",\"type\":\"LinearScale\"}},\"id\":\"0ac597da-fec6-4eeb-8404-1dcdbee5c4b8\",\"subtype\":\"Figure\",\"type\":\"Plot\"},{\"attributes\":{},\"id\":\"596875af-9c95-4a22-a0d9-b74de98239e5\",\"type\":\"BasicTickFormatter\"},{\"attributes\":{},\"id\":\"d7073edc-f9bb-49d7-be0a-17c37972c05a\",\"type\":\"UnionRenderers\"},{\"attributes\":{\"num_minor_ticks\":10},\"id\":\"126e79c2-2265-4068-b3eb-a844e708eccc\",\"type\":\"LogTicker\"},{\"attributes\":{\"fill_alpha\":{\"value\":0.7},\"fill_color\":{\"value\":\"#984ea3\"},\"line_alpha\":{\"value\":0.7},\"line_color\":{\"value\":\"#984ea3\"},\"x\":{\"field\":\"x\"},\"y\":{\"field\":\"y\"}},\"id\":\"ec5f7911-3885-47af-9337-4ca277689498\",\"type\":\"Circle\"},{\"attributes\":{},\"id\":\"b8790e21-3002-44c1-a466-abcc9f7cbc59\",\"type\":\"BasicTicker\"},{\"attributes\":{},\"id\":\"3c85a30e-afa4-4eaf-b477-2372cb0f9484\",\"type\":\"UnionRenderers\"},{\"attributes\":{},\"id\":\"f25bd9ec-899c-4c44-995a-6b043b1744e9\",\"type\":\"UnionRenderers\"},{\"attributes\":{\"plot\":{\"id\":\"3e1a51c5-760c-49b2-91b1-d36173a49f63\",\"subtype\":\"Figure\",\"type\":\"Plot\"},\"ticker\":{\"id\":\"b8790e21-3002-44c1-a466-abcc9f7cbc59\",\"type\":\"BasicTicker\"}},\"id\":\"6ff8a633-12b0-4270-9ffa-f81437573b1f\",\"type\":\"Grid\"},{\"attributes\":{},\"id\":\"c9ec4ea2-98fb-4ef1-87a8-e15d92550635\",\"type\":\"UnionRenderers\"},{\"attributes\":{},\"id\":\"48a8bbeb-9f47-4829-8fee-d289c66cf712\",\"type\":\"Selection\"},{\"attributes\":{},\"id\":\"e64839b9-3ee8-47c6-93a8-5023128f8992\",\"type\":\"Selection\"},{\"attributes\":{},\"id\":\"6252228a-29b1-4e88-8f60-8c2fdbec7e96\",\"type\":\"UnionRenderers\"},{\"attributes\":{\"callback\":null,\"end\":135.3121372840283,\"start\":-3.4438733567982993},\"id\":\"0d65a3af-db70-4203-a980-86a5265a5ade\",\"type\":\"Range1d\"},{\"attributes\":{},\"id\":\"fd30c59d-34a5-46f7-b161-ba66a3cfe686\",\"type\":\"Selection\"},{\"attributes\":{\"line_alpha\":0.1,\"line_color\":\"#1f77b4\",\"line_dash\":[6],\"line_width\":5,\"x\":{\"field\":\"x\"},\"y\":{\"field\":\"y\"}},\"id\":\"1f2ceab1-46eb-44f5-8da1-2a42664c0d40\",\"type\":\"Line\"},{\"attributes\":{},\"id\":\"a27ccee2-1db3-44bc-afaf-3cb92c53c21f\",\"type\":\"Selection\"},{\"attributes\":{\"children\":[{\"id\":\"947b4a69-1a70-47ff-8263-a75a934ea38c\",\"type\":\"Row\"}]},\"id\":\"d979a3c5-7b6c-4ea2-8f2b-63f9e5f69138\",\"type\":\"Column\"},{\"attributes\":{\"plot\":null,\"text\":\"\"},\"id\":\"43fac23b-7f97-4dd0-aa86-855c43bb6538\",\"type\":\"Title\"},{\"attributes\":{\"toolbar\":{\"id\":\"7a8b225b-6803-4b58-985f-d0ccc6497b24\",\"type\":\"ProxyToolbar\"},\"toolbar_location\":\"above\"},\"id\":\"8d9939f3-c203-47ec-ad09-2dc5830aa2ba\",\"type\":\"ToolbarBox\"},{\"attributes\":{\"ticker\":null},\"id\":\"0df6db17-9089-4ed6-8313-5db19b28be20\",\"type\":\"LogTickFormatter\"},{\"attributes\":{\"children\":[{\"id\":\"8d9939f3-c203-47ec-ad09-2dc5830aa2ba\",\"type\":\"ToolbarBox\"},{\"id\":\"d979a3c5-7b6c-4ea2-8f2b-63f9e5f69138\",\"type\":\"Column\"}]},\"id\":\"62c5fdfa-00ca-4bf0-9610-a18c523c1daf\",\"type\":\"Column\"},{\"attributes\":{\"line_alpha\":0.6,\"line_color\":\"#377eb8\",\"line_dash\":[6],\"line_width\":5,\"x\":{\"field\":\"x\"},\"y\":{\"field\":\"y\"}},\"id\":\"db434b21-485b-46eb-8dca-3c81298bb201\",\"type\":\"Line\"},{\"attributes\":{},\"id\":\"0e4f9be5-a92e-4437-96c8-f0f06bdb237d\",\"type\":\"Selection\"},{\"attributes\":{\"callback\":null,\"data\":{\"x\":{\"__ndarray__\":\"FOr41rjMeECIN9lPR1l3QP1J6wpSOHZAs5sbpjlsdEDJstChi+VxQAoH1Ca0iG1AO+c8Xjy1ZkClq1T5P0VgQAC7//zeblZAgTXXPN0JUEAkfkDd0olJQAHzs/m05kVAvntMZglZQkCjJZAeDeM4QGMevZ54bSxAV5BRi3LqMEAEYRW7nIg6QKXSOns3yEBAbflLLmPYREBa9RQJZ1tLQPDQipMprVJAy+zMX68KWkC1KjgEdb5gQK1kksntM2BACkt859VLWUDEc4ya2lVUQE0/4lOTN1FAZT+ztpW2S0BTK6D0Vn9FQLqDu6QKcEFArd3ZSXFPPkDx0owPA9Y3QC6EH5WJazBADQBgkk6JJUBmmqGsv14dQKpJNZ28rhFAXxAikVY6AkApja7VXHjzPziSmoC5ed2/ka5ssgyrAMDwDyvGQl3Hv1aqzHLCcR1A60Up/+8/LUB8Vajb+BU0QC34j+d55zVAEDIqdnjwM0BKA1mf+dwyQOg4TWdeJjJAHxnqMYOvMUBziERRA5MxQGk6TsJQqTFAlz2vAxtsMUDWOAuaXiIxQHgQvfgi4DBACUVMJ5+xMEB8vdAawo4wQDSPgLEFjTBAWTngbbg8MUBQIaDAkM4xQHgBEifZJzJAjxMztigtMkB7nhiBDMoxQB8NAs9fFzFA2DADEcJTMEAzIlgiPkEvQCiENabMiS5AROm82hJRLkACTkXjtlUuQI87UYRnui1AbgF55INuLEBVXxQ/8fUqQKXYgRZ60ilA36aKG5M+KUAO+++PH4ApQE5rpaDTCl3A\",\"dtype\":\"float64\",\"shape\":[75]},\"y\":{\"__ndarray__\":\"GhExyth1ND/Sv8nbtpRIP2vylNV0PVE/aTum7souWD/At0SJ8fVgPw3Iuahxymc/MSNhhJWvcD/bTfBN02d3P2zb5nxnaoA/CD5h5MAGhz8NmeH1TyaQP+zrCsc9p5Y/LbKd76fGnz/bLW5ISEmmPww9YvTcQq8/JV2OstnstT8Er5Y7M8G+P0c+r3jqkcU/5h99k6ZBzj88bCIzFzjVP4enV8oyxN0//yH99nXg5D8qOpLLf0jtP5kqGJXUifQ/c9cS8kHP/D+/DpwzojQEQIEmwoanVwxA4lgXt9HgE0BSSZ2AJuIbQAMJih9jjiNA5q4l5INuK0AwTKYKRj0zQNv5fmq8/DpAaCJseHrtQkB/+zpwzoxKQM3MzMzMeFJAZmZmZmZqWEAAAAAAAFxeQM3MzMzMJmJAmpmZmZkfZUBmZmZmZhhoQDMzMzMzEWtAAAAAAAAKbkBmZmZmZoFwQM3MzMzM/XFAMzMzMzN6c0CamZmZmfZ0QAAAAAAAc3ZAZmZmZmbvd0DNzMzMzGt5QDMzMzMz6HpAmpmZmZlkfEAAAAAAAOF9QGZmZmZmXX9AZmZmZuZsgECamZmZGSuBQM3MzMxM6YFAAAAAAICngkAzMzMzs2WDQGZmZmbmI4RAmpmZmRnihEDNzMzMTKCFQAAAAACAXoZAMzMzM7Mch0BmZmZm5tqHQJqZmZkZmYhAzczMzExXiUAAAAAAgBWKQDMzMzOz04pAZmZmZuaRi0CamZmZGVCMQM3MzMxMDo1AAAAAAIDMjUAzMzMzs4qOQGZmZmbmSI9A\",\"dtype\":\"float64\",\"shape\":[75]}},\"selected\":{\"id\":\"a27ccee2-1db3-44bc-afaf-3cb92c53c21f\",\"type\":\"Selection\"},\"selection_policy\":{\"id\":\"000c935c-b86f-43c5-8155-f1314ddb8653\",\"type\":\"UnionRenderers\"}},\"id\":\"5e0dee11-0fae-4c49-a4b7-bc081eccd528\",\"type\":\"ColumnDataSource\"},{\"attributes\":{},\"id\":\"682f2b23-1522-47ea-9be6-43eb90432f5d\",\"type\":\"SaveTool\"},{\"attributes\":{},\"id\":\"0154fbcb-7ba4-4360-8523-5980b96f6e13\",\"type\":\"BasicTickFormatter\"},{\"attributes\":{\"children\":[{\"id\":\"0ac597da-fec6-4eeb-8404-1dcdbee5c4b8\",\"subtype\":\"Figure\",\"type\":\"Plot\"},{\"id\":\"6fd5b356-e49f-46bd-a7bf-262c01806ec1\",\"subtype\":\"Figure\",\"type\":\"Plot\"},{\"id\":\"3e1a51c5-760c-49b2-91b1-d36173a49f63\",\"subtype\":\"Figure\",\"type\":\"Plot\"}]},\"id\":\"947b4a69-1a70-47ff-8263-a75a934ea38c\",\"type\":\"Row\"},{\"attributes\":{},\"id\":\"942fd9ad-7ad0-4c0b-88f3-619d932a2ad9\",\"type\":\"PanTool\"},{\"attributes\":{},\"id\":\"f9ac5978-c009-4955-833c-6790a0dd9c45\",\"type\":\"ResetTool\"},{\"attributes\":{\"tools\":[{\"id\":\"cf0b75a9-4ef2-4eaf-b36e-4516b65feea4\",\"type\":\"PanTool\"},{\"id\":\"0c8e1bd7-5fe6-4b91-b52b-6ae3e2b518e6\",\"type\":\"WheelZoomTool\"},{\"id\":\"22c4ac9f-6c35-4072-bd2c-1f5982499329\",\"type\":\"BoxZoomTool\"},{\"id\":\"2a9119e7-049d-4c77-950b-aa1a3041b68d\",\"type\":\"SaveTool\"},{\"id\":\"ab786bed-c5ee-4b0a-b423-7c61e2ba5e09\",\"type\":\"ResetTool\"},{\"id\":\"20830978-abe3-42d7-a1e4-37565f3ced20\",\"type\":\"HelpTool\"},{\"id\":\"942fd9ad-7ad0-4c0b-88f3-619d932a2ad9\",\"type\":\"PanTool\"},{\"id\":\"8047c4aa-1ed9-4e26-b7a6-f7b914808c0a\",\"type\":\"WheelZoomTool\"},{\"id\":\"22f57e81-3ba8-4813-8882-23de4b619625\",\"type\":\"BoxZoomTool\"},{\"id\":\"682f2b23-1522-47ea-9be6-43eb90432f5d\",\"type\":\"SaveTool\"},{\"id\":\"f9ac5978-c009-4955-833c-6790a0dd9c45\",\"type\":\"ResetTool\"},{\"id\":\"0c89d9f4-2ed5-4140-8aed-8fab21e50232\",\"type\":\"HelpTool\"},{\"id\":\"3a62ca6b-d301-402c-986a-be0a76823b78\",\"type\":\"PanTool\"},{\"id\":\"4c09f1d8-3b01-40a0-9cf0-7b6df16896b7\",\"type\":\"WheelZoomTool\"},{\"id\":\"5b6561ef-49fb-4040-89e3-c2f374066d50\",\"type\":\"BoxZoomTool\"},{\"id\":\"743c0b03-e8e7-4f8c-8d2b-f8eb8cd75bb6\",\"type\":\"SaveTool\"},{\"id\":\"9a1f4eaa-888f-4cd8-969d-b2b9176b0b64\",\"type\":\"ResetTool\"},{\"id\":\"131375af-a26f-465b-aa89-75bd6c7623d3\",\"type\":\"HelpTool\"}]},\"id\":\"7a8b225b-6803-4b58-985f-d0ccc6497b24\",\"type\":\"ProxyToolbar\"},{\"attributes\":{},\"id\":\"000c935c-b86f-43c5-8155-f1314ddb8653\",\"type\":\"UnionRenderers\"},{\"attributes\":{},\"id\":\"29e72962-7535-45be-be65-6aa32d817fb6\",\"type\":\"UnionRenderers\"},{\"attributes\":{\"overlay\":{\"id\":\"3624a5ca-97ad-4177-a42e-0bee77c49863\",\"type\":\"BoxAnnotation\"}},\"id\":\"22f57e81-3ba8-4813-8882-23de4b619625\",\"type\":\"BoxZoomTool\"},{\"attributes\":{},\"id\":\"408660de-979f-421e-9902-a85b539e9f35\",\"type\":\"Selection\"},{\"attributes\":{},\"id\":\"0c89d9f4-2ed5-4140-8aed-8fab21e50232\",\"type\":\"HelpTool\"},{\"attributes\":{},\"id\":\"8047c4aa-1ed9-4e26-b7a6-f7b914808c0a\",\"type\":\"WheelZoomTool\"},{\"attributes\":{\"fill_alpha\":{\"value\":0.1},\"fill_color\":{\"value\":\"#1f77b4\"},\"line_alpha\":{\"value\":0.1},\"line_color\":{\"value\":\"#1f77b4\"},\"x\":{\"field\":\"x\"},\"y\":{\"field\":\"y\"}},\"id\":\"092f573b-dc82-4a24-9c91-01821a2fd3a8\",\"type\":\"Circle\"},{\"attributes\":{\"bottom_units\":\"screen\",\"fill_alpha\":{\"value\":0.5},\"fill_color\":{\"value\":\"lightgrey\"},\"left_units\":\"screen\",\"level\":\"overlay\",\"line_alpha\":{\"value\":1.0},\"line_color\":{\"value\":\"black\"},\"line_dash\":[4,4],\"line_width\":{\"value\":2},\"plot\":null,\"render_mode\":\"css\",\"right_units\":\"screen\",\"top_units\":\"screen\"},\"id\":\"3624a5ca-97ad-4177-a42e-0bee77c49863\",\"type\":\"BoxAnnotation\"},{\"attributes\":{},\"id\":\"0155231b-dbaa-4b10-9b20-fb168a982fdc\",\"type\":\"UnionRenderers\"},{\"attributes\":{},\"id\":\"9749c980-5a3c-4c5f-8713-f11840c9e206\",\"type\":\"UnionRenderers\"},{\"attributes\":{\"callback\":null,\"data\":{\"x\":{\"__ndarray__\":\"r+yCwTXZRUC63ct9chhDQBKI1/UL5EFA/p/DfHk/QEDrk9xhE0E8QPcEie3uPTdAnrKarifqMUCL3qmAe+YpQHxLlBhfGyJA28TJ/Q41GkDXXY94aN4UQIMnmUEhtxFAAE0pVNxNDUDyuAPQg5YDQE8DBkmf9vU/59sn7EeP+j92eGOcGjMFQJ+c/HFWDwtAvgS4aujgEEBOTw5V5xcWQEwP+R15/h1AEJaxoZvVJED1TgXc88wqQPj8MEJ4/ClAf1GC/kJPJECYh0z5EEggQC/NCMrIZBtAiM22iUkGFkBElyZbEykRQAO0rWad4QtA0WdR6XEJCEAwlSMJZ8wCQGrj425rBvo/f+mjQitG8T/g1ZN1D3vnPyzHlqtA6ds/ypGlQZcRzT8+xFCYQUbAP6zbkcsuAaO/DRS6Q3Fkyb9Rqiyq/9yDv6pgdWAQw+c/9rUuNUJ/9z8totxsYhcAQFmxrsBGmAFAnZX+bzYHAEDRevgyUUT+P8hgxanWIv0/JrfcT3xr/D/QuMvZljz8P0ug0tImWPw/psus7w3v+z87A37o3XP7P3BW6ZOBCPs/MewwJv29+j/zL+6rF4j6P3VyKykchvo/NqH/1C6c+z89IqZEEn38PzTVk/lH//w/LR0Y5T7+/D8/BRsyeV78PwnX7f1XR/s/vb577NMW+j8LKNTTRwD5P5pZ8Ef2bfg/2cXZGUs9+D/tAD4uYDj4P2j1aXC2tPc/uD6sN2ql9j91O/vKg3T1P5oIG55eifQ/4Ln3cMkR9D8zVYvjG0X0P+T1YFJ81CTA\",\"dtype\":\"float64\",\"shape\":[75]},\"y\":{\"__ndarray__\":\"GhExyth1ND/Sv8nbtpRIP2vylNV0PVE/aTum7souWD/At0SJ8fVgPw3Iuahxymc/MSNhhJWvcD/bTfBN02d3P2zb5nxnaoA/CD5h5MAGhz8NmeH1TyaQP+zrCsc9p5Y/LbKd76fGnz/bLW5ISEmmPww9YvTcQq8/JV2OstnstT8Er5Y7M8G+P0c+r3jqkcU/5h99k6ZBzj88bCIzFzjVP4enV8oyxN0//yH99nXg5D8qOpLLf0jtP5kqGJXUifQ/c9cS8kHP/D+/DpwzojQEQIEmwoanVwxA4lgXt9HgE0BSSZ2AJuIbQAMJih9jjiNA5q4l5INuK0AwTKYKRj0zQNv5fmq8/DpAaCJseHrtQkB/+zpwzoxKQM3MzMzMeFJAZmZmZmZqWEAAAAAAAFxeQM3MzMzMJmJAmpmZmZkfZUBmZmZmZhhoQDMzMzMzEWtAAAAAAAAKbkBmZmZmZoFwQM3MzMzM/XFAMzMzMzN6c0CamZmZmfZ0QAAAAAAAc3ZAZmZmZmbvd0DNzMzMzGt5QDMzMzMz6HpAmpmZmZlkfEAAAAAAAOF9QGZmZmZmXX9AZmZmZuZsgECamZmZGSuBQM3MzMxM6YFAAAAAAICngkAzMzMzs2WDQGZmZmbmI4RAmpmZmRnihEDNzMzMTKCFQAAAAACAXoZAMzMzM7Mch0BmZmZm5tqHQJqZmZkZmYhAzczMzExXiUAAAAAAgBWKQDMzMzOz04pAZmZmZuaRi0CamZmZGVCMQM3MzMxMDo1AAAAAAIDMjUAzMzMzs4qOQGZmZmbmSI9A\",\"dtype\":\"float64\",\"shape\":[75]}},\"selected\":{\"id\":\"400cbbdb-69df-46aa-a422-a6e14e8e1fd2\",\"type\":\"Selection\"},\"selection_policy\":{\"id\":\"f25bd9ec-899c-4c44-995a-6b043b1744e9\",\"type\":\"UnionRenderers\"}},\"id\":\"c9324f9e-e282-41ef-a65f-6b4894f00145\",\"type\":\"ColumnDataSource\"},{\"attributes\":{\"callback\":null,\"data\":{\"x\":{\"__ndarray__\":\"cm1sTMT3VEDEyvjosEJHQOKI6DjzCUNArgQWV9awPkB9Lm8XG3M4QEz+Qv6iYzNA7eV8HaPLLkCX1QHyTpMoQFBmYSYetiNAUB04GtGpH0AmFyVE5j8ZQJca9QPGqBNALJP+OOHHDEBNxaf7QF8AQKtislomWuw/cW2dcO6A9T/uJJvfPu0EQIaQLTI/JQ1AxGiII+PmEkCJvfVeuCsYQD6ZBhGbHB9AXQw69DTYJEAsubcwKucqQNuT9D5OmipAJyi3szEJJUBlNebh5WkgQDDcPHBr2xlArtlANXuQFEBdJadFHckQQI2Avh0ZsQtAjYiwt1rsBUCL0SDoVBgAQK6C0nEEjvc/CggLSme58T9sXU2orFPnP0v0JYz9Gdg/vT38vxYczD9nBQTe6kHHP1IhkEXJwKo/8OZnhCVAub+xtVgCpmqzP6DUpY6g0+k/PKK3T1h4+D8RTDjQc1EAQG/dAQs7TwJAQt2eHpPLAEBWEh074x//PyCap9ZSGf4/rEzaTySm/T+7aXhHRmr9P688KeqeNP0/ruZ4EemD/D8olrZcn9T7P0+vNc9hW/s/i9VVL+4P+z+0NzC24uz6P8731Kza8vo/xFf4SHzq+z+gYyHpvHb8P68ROkiFevw/BAjYdCga/D8AUp8VbW77P3JrF/nKmvo/qCQeGfq++T/dplwHJfn4P2G4p+Uva/g/OzZ0RqMZ+D8dmn/iar73P/OuA7Ka8PY/gaaeQHGn9T9hkyjAH1L0P3aZGhdAU/M/n8VP/g7P8j+90HxHNvfyPwhNBtgrqvk/\",\"dtype\":\"float64\",\"shape\":[75]},\"y\":{\"__ndarray__\":\"GhExyth1ND/Sv8nbtpRIP2vylNV0PVE/aTum7souWD/At0SJ8fVgPw3Iuahxymc/MSNhhJWvcD/bTfBN02d3P2zb5nxnaoA/CD5h5MAGhz8NmeH1TyaQP+zrCsc9p5Y/LbKd76fGnz/bLW5ISEmmPww9YvTcQq8/JV2OstnstT8Er5Y7M8G+P0c+r3jqkcU/5h99k6ZBzj88bCIzFzjVP4enV8oyxN0//yH99nXg5D8qOpLLf0jtP5kqGJXUifQ/c9cS8kHP/D+/DpwzojQEQIEmwoanVwxA4lgXt9HgE0BSSZ2AJuIbQAMJih9jjiNA5q4l5INuK0AwTKYKRj0zQNv5fmq8/DpAaCJseHrtQkB/+zpwzoxKQM3MzMzMeFJAZmZmZmZqWEAAAAAAAFxeQM3MzMzMJmJAmpmZmZkfZUBmZmZmZhhoQDMzMzMzEWtAAAAAAAAKbkBmZmZmZoFwQM3MzMzM/XFAMzMzMzN6c0CamZmZmfZ0QAAAAAAAc3ZAZmZmZmbvd0DNzMzMzGt5QDMzMzMz6HpAmpmZmZlkfEAAAAAAAOF9QGZmZmZmXX9AZmZmZuZsgECamZmZGSuBQM3MzMxM6YFAAAAAAICngkAzMzMzs2WDQGZmZmbmI4RAmpmZmRnihEDNzMzMTKCFQAAAAACAXoZAMzMzM7Mch0BmZmZm5tqHQJqZmZkZmYhAzczMzExXiUAAAAAAgBWKQDMzMzOz04pAZmZmZuaRi0CamZmZGVCMQM3MzMxMDo1AAAAAAIDMjUAzMzMzs4qOQGZmZmbmSI9A\",\"dtype\":\"float64\",\"shape\":[75]}},\"selected\":{\"id\":\"e64839b9-3ee8-47c6-93a8-5023128f8992\",\"type\":\"Selection\"},\"selection_policy\":{\"id\":\"c9ec4ea2-98fb-4ef1-87a8-e15d92550635\",\"type\":\"UnionRenderers\"}},\"id\":\"1f663002-6c6d-4946-8391-a8a6b2985c08\",\"type\":\"ColumnDataSource\"},{\"attributes\":{\"fill_alpha\":{\"value\":0.7},\"fill_color\":{\"value\":\"#984ea3\"},\"line_alpha\":{\"value\":0.7},\"line_color\":{\"value\":\"#984ea3\"},\"x\":{\"field\":\"x\"},\"y\":{\"field\":\"y\"}},\"id\":\"8bc6fa8e-3bc1-41a4-b03a-9ce369ca41fa\",\"type\":\"Square\"},{\"attributes\":{\"line_alpha\":0.1,\"line_color\":\"#1f77b4\",\"line_width\":1.5,\"x\":{\"field\":\"x\"},\"y\":{\"field\":\"y\"}},\"id\":\"68bc86f1-7f01-4f27-b65b-b528c6f69f94\",\"type\":\"Line\"},{\"attributes\":{\"line_alpha\":0.1,\"line_color\":\"#1f77b4\",\"line_width\":1.5,\"x\":{\"field\":\"x\"},\"y\":{\"field\":\"y\"}},\"id\":\"0a067683-f590-4059-85ba-e106779faf7a\",\"type\":\"Line\"},{\"attributes\":{\"callback\":null,\"data\":{\"x\":{\"__ndarray__\":\"cm1sTMT3VEDEyvjosEJHQOKI6DjzCUNArgQWV9awPkB9Lm8XG3M4QEz+Qv6iYzNA7eV8HaPLLkCX1QHyTpMoQFBmYSYetiNAUB04GtGpH0AmFyVE5j8ZQJca9QPGqBNALJP+OOHHDEBNxaf7QF8AQKtislomWuw/cW2dcO6A9T/uJJvfPu0EQIaQLTI/JQ1AxGiII+PmEkCJvfVeuCsYQD6ZBhGbHB9AXQw69DTYJEAsubcwKucqQNuT9D5OmipAJyi3szEJJUBlNebh5WkgQDDcPHBr2xlArtlANXuQFEBdJadFHckQQI2Avh0ZsQtAjYiwt1rsBUCL0SDoVBgAQK6C0nEEjvc/CggLSme58T9sXU2orFPnP0v0JYz9Gdg/vT38vxYczD9nBQTe6kHHP1IhkEXJwKo/8OZnhCVAub+xtVgCpmqzP6DUpY6g0+k/PKK3T1h4+D8RTDjQc1EAQG/dAQs7TwJAQt2eHpPLAEBWEh074x//PyCap9ZSGf4/rEzaTySm/T+7aXhHRmr9P688KeqeNP0/ruZ4EemD/D8olrZcn9T7P0+vNc9hW/s/i9VVL+4P+z+0NzC24uz6P8731Kza8vo/xFf4SHzq+z+gYyHpvHb8P68ROkiFevw/BAjYdCga/D8AUp8VbW77P3JrF/nKmvo/qCQeGfq++T/dplwHJfn4P2G4p+Uva/g/OzZ0RqMZ+D8dmn/iar73P/OuA7Ka8PY/gaaeQHGn9T9hkyjAH1L0P3aZGhdAU/M/n8VP/g7P8j+90HxHNvfyPwhNBtgrqvk/\",\"dtype\":\"float64\",\"shape\":[75]},\"y\":{\"__ndarray__\":\"GhExyth1ND/Sv8nbtpRIP2vylNV0PVE/aTum7souWD/At0SJ8fVgPw3Iuahxymc/MSNhhJWvcD/bTfBN02d3P2zb5nxnaoA/CD5h5MAGhz8NmeH1TyaQP+zrCsc9p5Y/LbKd76fGnz/bLW5ISEmmPww9YvTcQq8/JV2OstnstT8Er5Y7M8G+P0c+r3jqkcU/5h99k6ZBzj88bCIzFzjVP4enV8oyxN0//yH99nXg5D8qOpLLf0jtP5kqGJXUifQ/c9cS8kHP/D+/DpwzojQEQIEmwoanVwxA4lgXt9HgE0BSSZ2AJuIbQAMJih9jjiNA5q4l5INuK0AwTKYKRj0zQNv5fmq8/DpAaCJseHrtQkB/+zpwzoxKQM3MzMzMeFJAZmZmZmZqWEAAAAAAAFxeQM3MzMzMJmJAmpmZmZkfZUBmZmZmZhhoQDMzMzMzEWtAAAAAAAAKbkBmZmZmZoFwQM3MzMzM/XFAMzMzMzN6c0CamZmZmfZ0QAAAAAAAc3ZAZmZmZmbvd0DNzMzMzGt5QDMzMzMz6HpAmpmZmZlkfEAAAAAAAOF9QGZmZmZmXX9AZmZmZuZsgECamZmZGSuBQM3MzMxM6YFAAAAAAICngkAzMzMzs2WDQGZmZmbmI4RAmpmZmRnihEDNzMzMTKCFQAAAAACAXoZAMzMzM7Mch0BmZmZm5tqHQJqZmZkZmYhAzczMzExXiUAAAAAAgBWKQDMzMzOz04pAZmZmZuaRi0CamZmZGVCMQM3MzMxMDo1AAAAAAIDMjUAzMzMzs4qOQGZmZmbmSI9A\",\"dtype\":\"float64\",\"shape\":[75]}},\"selected\":{\"id\":\"bf2bd8e3-545e-4632-90d6-3fc95913b7da\",\"type\":\"Selection\"},\"selection_policy\":{\"id\":\"d7073edc-f9bb-49d7-be0a-17c37972c05a\",\"type\":\"UnionRenderers\"}},\"id\":\"97c2b42e-f602-4d94-a958-81b28301a05a\",\"type\":\"ColumnDataSource\"},{\"attributes\":{\"source\":{\"id\":\"c9324f9e-e282-41ef-a65f-6b4894f00145\",\"type\":\"ColumnDataSource\"}},\"id\":\"962b7892-4ec8-4f18-ab5c-df78d31a4c14\",\"type\":\"CDSView\"},{\"attributes\":{\"fill_alpha\":{\"value\":0.7},\"fill_color\":{\"value\":\"#4daf4a\"},\"line_alpha\":{\"value\":0.7},\"line_color\":{\"value\":\"#4daf4a\"},\"x\":{\"field\":\"x\"},\"y\":{\"field\":\"y\"}},\"id\":\"cdd04610-8d15-4955-87cc-7ad02d1fd4e4\",\"type\":\"Circle\"},{\"attributes\":{\"source\":{\"id\":\"1f663002-6c6d-4946-8391-a8a6b2985c08\",\"type\":\"ColumnDataSource\"}},\"id\":\"d641edf5-e161-4803-8961-1c0c1c0449db\",\"type\":\"CDSView\"},{\"attributes\":{\"label\":{\"value\":\"CLIRAD (single-run)\"},\"renderers\":[{\"id\":\"8543d9c4-6be3-4987-8561-ac9cab34058e\",\"type\":\"GlyphRenderer\"}]},\"id\":\"7e33a28b-b25f-49ff-ae51-e1ffadad9d56\",\"type\":\"LegendItem\"},{\"attributes\":{\"source\":{\"id\":\"e676d48f-5ac2-4698-94b8-9434ff4b64cf\",\"type\":\"ColumnDataSource\"}},\"id\":\"3ad7bebd-4af2-4fba-86f4-2959cef5bed5\",\"type\":\"CDSView\"},{\"attributes\":{\"callback\":null,\"data\":{\"x\":{\"__ndarray__\":\"MXhf+wfXU0AZbvNjswdFQLQWsEQVdUFA5TlpnhT9QUB/x1dOYK05QImjxHmcEjZA9jYDSBB3L0AISPl4H6wqQBPuuwfAzyJAOcHprUZAIUB7WWpkesAXQJoT1Uq+ChVArO/8u0EXCkBgVNlshzgCQMeNQ+Nzu/I/POwv1Qzh+D9QxMRmcj8DQOrE7tC4mAxAQsLBRIlHEkAi4cPYoDEXQEeDpjRjzB1ASZ0GEfCuI0DVFj11sssnQOMiVKSMHyhAWRHvUxNoJEDo8cjD4g8gQLGGvR2NDRpAdpI3nV5oFECtyWH9Lp4QQIZQd9bvmwtAkshlnu1BBkBMysnQf1UAQHZJU/DYZ/c/HoEhV+G48T/rSm4vc/TmP3EgV4cD49g/xmy6+4w7zz+bEsjh3uDDPw5SRMRogKs/4GPKdPc1a78lazVXN1vCP/B84ODeUug/LOyxgXDV9z+/DBHyZAwAQAOIY+fy/QFAahF3XKCUAECV0GHvGsz+P+X4k4Nhvf0/RO/IqI98/T8rkW+v/zT9P59vGMDsAv0/zEX7plCY/D/E3siS8kj7P2yUMv+hDvs/RmrXDaYs+z+c9f5GCO36P58nVCbr7vo/Qus8hbcy/D+rD5hFMCf9P4t6dxofnPw/bRp4QYZ2/D/q8NNiN2b8P5YTVw9ESPw/l1Dy0X/K+j+WKih3ZdD5P2k8OYxHjvk/hceGh5N4+T8lpPahWSn5P6vJnePt4vY/UuhmxnXI9T8miFqdE+D0Pz7qfx5CR/Q/0khvq2US9D9LfVdHQGv0P9syeEmwYfg/\",\"dtype\":\"float64\",\"shape\":[75]},\"y\":{\"__ndarray__\":\"hLndy31yND/6fmq8dJNIP8n9DkWBPlE/aDum7souWD/b4a/JGvVgP9f34SAhymc/ZvM4DOavcD+z0M5pFmh3PxuC4zJuaoA/xjcUPlsHhz8uHAjJAiaQP9ieWRKgppY/oI7HDFTGnz+a5h2n6EimPzS6g9iZQq8/IuAQqtTstT9SSZ2AJsK+P4nS3uALk8U/ih9j7lpCzj+ASL99HTjVP4enV8oyxN0/ACL99nXg5D9fmEwVjErtPyUGgZVDi/Q/AiuHFtnO/D9OYhBYOTQEQPHSTWIQWAxA4XoUrkfhE0D8qfHSTeIbQMh2vp8ajyNArkfhehRuK0Bcj8L1KDwzQFyPwvUo/DpAPgrXo3DtQkDNzMzMzIxKQClcj8L1eFJAKVyPwvVoWECamZmZmVleQGZmZmZmJmJAAAAAAAAgZUCamZmZmRloQJqZmZmZEWtAmpmZmZkJbkCamZmZmYFwQGZmZmZm/nFAZmZmZmZ6c0BmZmZmZvZ0QDQzMzMzc3ZAAAAAAADwd0AAAAAAAGx5QAAAAAAA6HpAzMzMzMxkfEDMzMzMzOB9QM3MzMzMXH9AzczMzMxsgEAzMzMzMyuBQDMzMzMz6YFAMzMzMzOngkCamZmZmWWDQAAAAAAAJIRAAAAAAADihEAAAAAAAKCFQGZmZmZmXoZAzczMzMwch0DNzMzMzNqHQM3MzMzMmIhAMzMzMzNXiUCamZmZmRWKQAAAAAAA1IpAAAAAAACSi0AAAAAAAFCMQGZmZmZmDo1AzczMzMzMjUDNzMzMzIqOQM3MzMzMSI9A\",\"dtype\":\"float64\",\"shape\":[75]}},\"selected\":{\"id\":\"c54fa789-b290-4281-8d1a-2a655ac6b8a0\",\"type\":\"Selection\"},\"selection_policy\":{\"id\":\"75e9d1ce-2e04-4464-b01e-920a28f08dec\",\"type\":\"UnionRenderers\"}},\"id\":\"b1bb12c9-0ee8-46f6-9429-918d697696fd\",\"type\":\"ColumnDataSource\"},{\"attributes\":{\"label\":{\"value\":\"old CLIRAD (H2012)\"},\"renderers\":[{\"id\":\"88767aa8-2c0a-4a17-bced-51fe9ec582bc\",\"type\":\"GlyphRenderer\"},{\"id\":\"480ef315-469e-45e8-b4b2-2406eabdd0b3\",\"type\":\"GlyphRenderer\"}]},\"id\":\"52d93b76-ae4b-4772-8027-7f5fbb4d7b84\",\"type\":\"LegendItem\"},{\"attributes\":{\"data_source\":{\"id\":\"874dddd0-a840-4c31-ae04-aad9d8533f56\",\"type\":\"ColumnDataSource\"},\"glyph\":{\"id\":\"b1b56bf9-f063-4638-94c9-c0b9af39ece7\",\"type\":\"Line\"},\"hover_glyph\":null,\"muted_glyph\":null,\"nonselection_glyph\":{\"id\":\"68bc86f1-7f01-4f27-b65b-b528c6f69f94\",\"type\":\"Line\"},\"selection_glyph\":null,\"view\":{\"id\":\"e3a97bbe-6a1d-4d06-a0ca-b5827d240690\",\"type\":\"CDSView\"}},\"id\":\"480ef315-469e-45e8-b4b2-2406eabdd0b3\",\"type\":\"GlyphRenderer\"},{\"attributes\":{\"callback\":null,\"data\":{\"x\":{\"__ndarray__\":\"MXhf+wfXU0AZbvNjswdFQLQWsEQVdUFA5TlpnhT9QUB/x1dOYK05QImjxHmcEjZA9jYDSBB3L0AISPl4H6wqQBPuuwfAzyJAOcHprUZAIUB7WWpkesAXQJoT1Uq+ChVArO/8u0EXCkBgVNlshzgCQMeNQ+Nzu/I/POwv1Qzh+D9QxMRmcj8DQOrE7tC4mAxAQsLBRIlHEkAi4cPYoDEXQEeDpjRjzB1ASZ0GEfCuI0DVFj11sssnQOMiVKSMHyhAWRHvUxNoJEDo8cjD4g8gQLGGvR2NDRpAdpI3nV5oFECtyWH9Lp4QQIZQd9bvmwtAkshlnu1BBkBMysnQf1UAQHZJU/DYZ/c/HoEhV+G48T/rSm4vc/TmP3EgV4cD49g/xmy6+4w7zz+bEsjh3uDDPw5SRMRogKs/4GPKdPc1a78lazVXN1vCP/B84ODeUug/LOyxgXDV9z+/DBHyZAwAQAOIY+fy/QFAahF3XKCUAECV0GHvGsz+P+X4k4Nhvf0/RO/IqI98/T8rkW+v/zT9P59vGMDsAv0/zEX7plCY/D/E3siS8kj7P2yUMv+hDvs/RmrXDaYs+z+c9f5GCO36P58nVCbr7vo/Qus8hbcy/D+rD5hFMCf9P4t6dxofnPw/bRp4QYZ2/D/q8NNiN2b8P5YTVw9ESPw/l1Dy0X/K+j+WKih3ZdD5P2k8OYxHjvk/hceGh5N4+T8lpPahWSn5P6vJnePt4vY/UuhmxnXI9T8miFqdE+D0Pz7qfx5CR/Q/0khvq2US9D9LfVdHQGv0P9syeEmwYfg/\",\"dtype\":\"float64\",\"shape\":[75]},\"y\":{\"__ndarray__\":\"hLndy31yND/6fmq8dJNIP8n9DkWBPlE/aDum7souWD/b4a/JGvVgP9f34SAhymc/ZvM4DOavcD+z0M5pFmh3PxuC4zJuaoA/xjcUPlsHhz8uHAjJAiaQP9ieWRKgppY/oI7HDFTGnz+a5h2n6EimPzS6g9iZQq8/IuAQqtTstT9SSZ2AJsK+P4nS3uALk8U/ih9j7lpCzj+ASL99HTjVP4enV8oyxN0/ACL99nXg5D9fmEwVjErtPyUGgZVDi/Q/AiuHFtnO/D9OYhBYOTQEQPHSTWIQWAxA4XoUrkfhE0D8qfHSTeIbQMh2vp8ajyNArkfhehRuK0Bcj8L1KDwzQFyPwvUo/DpAPgrXo3DtQkDNzMzMzIxKQClcj8L1eFJAKVyPwvVoWECamZmZmVleQGZmZmZmJmJAAAAAAAAgZUCamZmZmRloQJqZmZmZEWtAmpmZmZkJbkCamZmZmYFwQGZmZmZm/nFAZmZmZmZ6c0BmZmZmZvZ0QDQzMzMzc3ZAAAAAAADwd0AAAAAAAGx5QAAAAAAA6HpAzMzMzMxkfEDMzMzMzOB9QM3MzMzMXH9AzczMzMxsgEAzMzMzMyuBQDMzMzMz6YFAMzMzMzOngkCamZmZmWWDQAAAAAAAJIRAAAAAAADihEAAAAAAAKCFQGZmZmZmXoZAzczMzMwch0DNzMzMzNqHQM3MzMzMmIhAMzMzMzNXiUCamZmZmRWKQAAAAAAA1IpAAAAAAACSi0AAAAAAAFCMQGZmZmZmDo1AzczMzMzMjUDNzMzMzIqOQM3MzMzMSI9A\",\"dtype\":\"float64\",\"shape\":[75]}},\"selected\":{\"id\":\"fd30c59d-34a5-46f7-b161-ba66a3cfe686\",\"type\":\"Selection\"},\"selection_policy\":{\"id\":\"3c85a30e-afa4-4eaf-b477-2372cb0f9484\",\"type\":\"UnionRenderers\"}},\"id\":\"874dddd0-a840-4c31-ae04-aad9d8533f56\",\"type\":\"ColumnDataSource\"},{\"attributes\":{},\"id\":\"d9a3deee-07bd-4cad-bec3-863337bed50a\",\"type\":\"LinearScale\"},{\"attributes\":{},\"id\":\"05da9f3e-d03a-4979-b1a1-256c9f7b8d0e\",\"type\":\"BasicTicker\"},{\"attributes\":{\"data_source\":{\"id\":\"97c2b42e-f602-4d94-a958-81b28301a05a\",\"type\":\"ColumnDataSource\"},\"glyph\":{\"id\":\"eb162596-1158-42c1-809e-59fe29972878\",\"type\":\"Circle\"},\"hover_glyph\":null,\"muted_glyph\":null,\"nonselection_glyph\":{\"id\":\"8c9c2789-3c61-4121-9451-ab3d31b7fb98\",\"type\":\"Circle\"},\"selection_glyph\":null,\"view\":{\"id\":\"9a1a3183-ca65-4524-8d77-d8d66e04e4c9\",\"type\":\"CDSView\"}},\"id\":\"093e77ab-7de5-4e7c-ada6-0bcb72c12b67\",\"type\":\"GlyphRenderer\"},{\"attributes\":{\"source\":{\"id\":\"874dddd0-a840-4c31-ae04-aad9d8533f56\",\"type\":\"ColumnDataSource\"}},\"id\":\"e3a97bbe-6a1d-4d06-a0ca-b5827d240690\",\"type\":\"CDSView\"},{\"attributes\":{\"fill_alpha\":{\"value\":0.7},\"fill_color\":{\"value\":\"#4daf4a\"},\"line_alpha\":{\"value\":0.7},\"line_color\":{\"value\":\"#4daf4a\"},\"x\":{\"field\":\"x\"},\"y\":{\"field\":\"y\"}},\"id\":\"eb162596-1158-42c1-809e-59fe29972878\",\"type\":\"Circle\"},{\"attributes\":{\"callback\":null,\"data\":{\"x\":{\"__ndarray__\":\"cm1sTMT3VEDEyvjosEJHQOKI6DjzCUNArgQWV9awPkB9Lm8XG3M4QEz+Qv6iYzNA7eV8HaPLLkCX1QHyTpMoQFBmYSYetiNAUB04GtGpH0AmFyVE5j8ZQJca9QPGqBNALJP+OOHHDEBNxaf7QF8AQKtislomWuw/cW2dcO6A9T/uJJvfPu0EQIaQLTI/JQ1AxGiII+PmEkCJvfVeuCsYQD6ZBhGbHB9AXQw69DTYJEAsubcwKucqQNuT9D5OmipAJyi3szEJJUBlNebh5WkgQDDcPHBr2xlArtlANXuQFEBdJadFHckQQI2Avh0ZsQtAjYiwt1rsBUCL0SDoVBgAQK6C0nEEjvc/CggLSme58T9sXU2orFPnP0v0JYz9Gdg/vT38vxYczD9nBQTe6kHHP1IhkEXJwKo/8OZnhCVAub+xtVgCpmqzP6DUpY6g0+k/PKK3T1h4+D8RTDjQc1EAQG/dAQs7TwJAQt2eHpPLAEBWEh074x//PyCap9ZSGf4/rEzaTySm/T+7aXhHRmr9P688KeqeNP0/ruZ4EemD/D8olrZcn9T7P0+vNc9hW/s/i9VVL+4P+z+0NzC24uz6P8731Kza8vo/xFf4SHzq+z+gYyHpvHb8P68ROkiFevw/BAjYdCga/D8AUp8VbW77P3JrF/nKmvo/qCQeGfq++T/dplwHJfn4P2G4p+Uva/g/OzZ0RqMZ+D8dmn/iar73P/OuA7Ka8PY/gaaeQHGn9T9hkyjAH1L0P3aZGhdAU/M/n8VP/g7P8j+90HxHNvfyPwhNBtgrqvk/\",\"dtype\":\"float64\",\"shape\":[75]},\"y\":{\"__ndarray__\":\"GhExyth1ND/Sv8nbtpRIP2vylNV0PVE/aTum7souWD/At0SJ8fVgPw3Iuahxymc/MSNhhJWvcD/bTfBN02d3P2zb5nxnaoA/CD5h5MAGhz8NmeH1TyaQP+zrCsc9p5Y/LbKd76fGnz/bLW5ISEmmPww9YvTcQq8/JV2OstnstT8Er5Y7M8G+P0c+r3jqkcU/5h99k6ZBzj88bCIzFzjVP4enV8oyxN0//yH99nXg5D8qOpLLf0jtP5kqGJXUifQ/c9cS8kHP/D+/DpwzojQEQIEmwoanVwxA4lgXt9HgE0BSSZ2AJuIbQAMJih9jjiNA5q4l5INuK0AwTKYKRj0zQNv5fmq8/DpAaCJseHrtQkB/+zpwzoxKQM3MzMzMeFJAZmZmZmZqWEAAAAAAAFxeQM3MzMzMJmJAmpmZmZkfZUBmZmZmZhhoQDMzMzMzEWtAAAAAAAAKbkBmZmZmZoFwQM3MzMzM/XFAMzMzMzN6c0CamZmZmfZ0QAAAAAAAc3ZAZmZmZmbvd0DNzMzMzGt5QDMzMzMz6HpAmpmZmZlkfEAAAAAAAOF9QGZmZmZmXX9AZmZmZuZsgECamZmZGSuBQM3MzMxM6YFAAAAAAICngkAzMzMzs2WDQGZmZmbmI4RAmpmZmRnihEDNzMzMTKCFQAAAAACAXoZAMzMzM7Mch0BmZmZm5tqHQJqZmZkZmYhAzczMzExXiUAAAAAAgBWKQDMzMzOz04pAZmZmZuaRi0CamZmZGVCMQM3MzMxMDo1AAAAAAIDMjUAzMzMzs4qOQGZmZmbmSI9A\",\"dtype\":\"float64\",\"shape\":[75]}},\"selected\":{\"id\":\"50eb45fb-51e3-443e-b505-cbbefd372911\",\"type\":\"Selection\"},\"selection_policy\":{\"id\":\"7fa9ca27-b4ab-4abc-ab29-488340af462e\",\"type\":\"UnionRenderers\"}},\"id\":\"99bd86ae-82fd-4a48-85a3-d05d65b147c3\",\"type\":\"ColumnDataSource\"},{\"attributes\":{\"plot\":{\"id\":\"0ac597da-fec6-4eeb-8404-1dcdbee5c4b8\",\"subtype\":\"Figure\",\"type\":\"Plot\"},\"ticker\":{\"id\":\"242ec5f9-c57c-452e-9538-d9f5f40a6745\",\"type\":\"BasicTicker\"}},\"id\":\"d1c3dee5-af56-422e-bc78-47ba0c495792\",\"type\":\"Grid\"},{\"attributes\":{\"label\":{\"value\":\"CRD\"},\"renderers\":[{\"id\":\"093e77ab-7de5-4e7c-ada6-0bcb72c12b67\",\"type\":\"GlyphRenderer\"},{\"id\":\"5c20d56b-0e6a-44ce-9df7-9944588cb191\",\"type\":\"GlyphRenderer\"}]},\"id\":\"3a938714-43eb-4b69-8455-51a47f7c6d11\",\"type\":\"LegendItem\"},{\"attributes\":{\"source\":{\"id\":\"b1bb12c9-0ee8-46f6-9429-918d697696fd\",\"type\":\"ColumnDataSource\"}},\"id\":\"80eaa7db-90e4-4efd-b488-77cba238f506\",\"type\":\"CDSView\"},{\"attributes\":{\"callback\":null,\"end\":2.4157238126733005,\"start\":-10.5420479783433},\"id\":\"f6f02266-5172-44b1-82d4-cc7d46315119\",\"type\":\"Range1d\"},{\"attributes\":{\"active_drag\":\"auto\",\"active_inspect\":\"auto\",\"active_scroll\":\"auto\",\"active_tap\":\"auto\",\"tools\":[{\"id\":\"3a62ca6b-d301-402c-986a-be0a76823b78\",\"type\":\"PanTool\"},{\"id\":\"4c09f1d8-3b01-40a0-9cf0-7b6df16896b7\",\"type\":\"WheelZoomTool\"},{\"id\":\"5b6561ef-49fb-4040-89e3-c2f374066d50\",\"type\":\"BoxZoomTool\"},{\"id\":\"743c0b03-e8e7-4f8c-8d2b-f8eb8cd75bb6\",\"type\":\"SaveTool\"},{\"id\":\"9a1f4eaa-888f-4cd8-969d-b2b9176b0b64\",\"type\":\"ResetTool\"},{\"id\":\"131375af-a26f-465b-aa89-75bd6c7623d3\",\"type\":\"HelpTool\"}]},\"id\":\"49635713-bb7d-40ee-8ec1-c5d4f9f4d0ab\",\"type\":\"Toolbar\"},{\"attributes\":{\"dimension\":1,\"plot\":{\"id\":\"0ac597da-fec6-4eeb-8404-1dcdbee5c4b8\",\"subtype\":\"Figure\",\"type\":\"Plot\"},\"ticker\":{\"id\":\"05da9f3e-d03a-4979-b1a1-256c9f7b8d0e\",\"type\":\"BasicTicker\"}},\"id\":\"8529943d-8d5d-4aea-aec0-bbf44b09a4a2\",\"type\":\"Grid\"},{\"attributes\":{},\"id\":\"9b512ee5-fd01-4e74-b9c1-8a0bae6973ea\",\"type\":\"LinearScale\"},{\"attributes\":{\"line_color\":\"#4daf4a\",\"line_width\":1.5,\"x\":{\"field\":\"x\"},\"y\":{\"field\":\"y\"}},\"id\":\"55cf16e6-89f6-4858-9e84-f48a08f709ba\",\"type\":\"Line\"},{\"attributes\":{\"above\":[{\"id\":\"a18bdf38-b50e-497e-b0fd-b0f64f5f67b2\",\"type\":\"Legend\"}],\"below\":[{\"id\":\"c9ab02f9-860d-43f5-afc2-6e7abcd778e3\",\"type\":\"LinearAxis\"}],\"left\":[{\"id\":\"a93986c2-14f4-4015-be57-555e97106a2b\",\"type\":\"LogAxis\"}],\"plot_width\":300,\"renderers\":[{\"id\":\"c9ab02f9-860d-43f5-afc2-6e7abcd778e3\",\"type\":\"LinearAxis\"},{\"id\":\"f5527596-f8f8-4d60-8540-ad2cfbe2ec39\",\"type\":\"Grid\"},{\"id\":\"a93986c2-14f4-4015-be57-555e97106a2b\",\"type\":\"LogAxis\"},{\"id\":\"6d85d927-1a38-430f-b84f-40f644610469\",\"type\":\"Grid\"},{\"id\":\"3624a5ca-97ad-4177-a42e-0bee77c49863\",\"type\":\"BoxAnnotation\"},{\"id\":\"8543d9c4-6be3-4987-8561-ac9cab34058e\",\"type\":\"GlyphRenderer\"},{\"id\":\"093e77ab-7de5-4e7c-ada6-0bcb72c12b67\",\"type\":\"GlyphRenderer\"},{\"id\":\"5c20d56b-0e6a-44ce-9df7-9944588cb191\",\"type\":\"GlyphRenderer\"},{\"id\":\"88767aa8-2c0a-4a17-bced-51fe9ec582bc\",\"type\":\"GlyphRenderer\"},{\"id\":\"480ef315-469e-45e8-b4b2-2406eabdd0b3\",\"type\":\"GlyphRenderer\"},{\"id\":\"a18bdf38-b50e-497e-b0fd-b0f64f5f67b2\",\"type\":\"Legend\"}],\"title\":{\"id\":\"f805eab1-afa0-4b17-a2d1-3cba12bef193\",\"type\":\"Title\"},\"toolbar\":{\"id\":\"5c35d367-0e7d-4d39-a76b-066298005d9d\",\"type\":\"Toolbar\"},\"toolbar_location\":null,\"x_range\":{\"id\":\"a1a05e50-52c0-4b6b-8b97-c27c36fe438a\",\"type\":\"Range1d\"},\"x_scale\":{\"id\":\"eb64efcb-77a6-466c-8490-3aa46fd9ca42\",\"type\":\"LinearScale\"},\"y_range\":{\"id\":\"2747a798-0c41-4127-b586-8819a4af21c3\",\"type\":\"Range1d\"},\"y_scale\":{\"id\":\"bce2cf99-4e96-4c15-8a9a-2ada3f4903d4\",\"type\":\"LogScale\"}},\"id\":\"6fd5b356-e49f-46bd-a7bf-262c01806ec1\",\"subtype\":\"Figure\",\"type\":\"Plot\"},{\"attributes\":{\"source\":{\"id\":\"97c2b42e-f602-4d94-a958-81b28301a05a\",\"type\":\"ColumnDataSource\"}},\"id\":\"9a1a3183-ca65-4524-8d77-d8d66e04e4c9\",\"type\":\"CDSView\"},{\"attributes\":{\"data_source\":{\"id\":\"e676d48f-5ac2-4698-94b8-9434ff4b64cf\",\"type\":\"ColumnDataSource\"},\"glyph\":{\"id\":\"5206d4a0-2a9e-4008-a609-48feebc20e0a\",\"type\":\"Line\"},\"hover_glyph\":null,\"muted_glyph\":null,\"nonselection_glyph\":{\"id\":\"97f0f1d0-cb19-4d55-a49f-29399a71e55a\",\"type\":\"Line\"},\"selection_glyph\":null,\"view\":{\"id\":\"3ad7bebd-4af2-4fba-86f4-2959cef5bed5\",\"type\":\"CDSView\"}},\"id\":\"3a7a472b-8955-42ea-9387-12cd461eb952\",\"type\":\"GlyphRenderer\"},{\"attributes\":{\"axis_label\":\"cooling rate [K/day]\",\"formatter\":{\"id\":\"f81ca6c6-b518-46ed-ac26-0e2d8e56e583\",\"type\":\"BasicTickFormatter\"},\"plot\":{\"id\":\"0ac597da-fec6-4eeb-8404-1dcdbee5c4b8\",\"subtype\":\"Figure\",\"type\":\"Plot\"},\"ticker\":{\"id\":\"242ec5f9-c57c-452e-9538-d9f5f40a6745\",\"type\":\"BasicTicker\"}},\"id\":\"26853a49-3c98-4e6f-b501-06bb7cc34010\",\"type\":\"LinearAxis\"},{\"attributes\":{\"line_alpha\":0.5,\"line_color\":\"#984ea3\",\"line_width\":1.5,\"x\":{\"field\":\"x\"},\"y\":{\"field\":\"y\"}},\"id\":\"b1b56bf9-f063-4638-94c9-c0b9af39ece7\",\"type\":\"Line\"},{\"attributes\":{\"data_source\":{\"id\":\"b1bb12c9-0ee8-46f6-9429-918d697696fd\",\"type\":\"ColumnDataSource\"},\"glyph\":{\"id\":\"8bc6fa8e-3bc1-41a4-b03a-9ce369ca41fa\",\"type\":\"Square\"},\"hover_glyph\":null,\"muted_glyph\":null,\"nonselection_glyph\":{\"id\":\"f1a3bc57-8886-491c-a7e2-2ceaaa3c5829\",\"type\":\"Square\"},\"selection_glyph\":null,\"view\":{\"id\":\"80eaa7db-90e4-4efd-b488-77cba238f506\",\"type\":\"CDSView\"}},\"id\":\"88767aa8-2c0a-4a17-bced-51fe9ec582bc\",\"type\":\"GlyphRenderer\"},{\"attributes\":{\"data_source\":{\"id\":\"1f663002-6c6d-4946-8391-a8a6b2985c08\",\"type\":\"ColumnDataSource\"},\"glyph\":{\"id\":\"55cf16e6-89f6-4858-9e84-f48a08f709ba\",\"type\":\"Line\"},\"hover_glyph\":null,\"muted_glyph\":null,\"nonselection_glyph\":{\"id\":\"0a067683-f590-4059-85ba-e106779faf7a\",\"type\":\"Line\"},\"selection_glyph\":null,\"view\":{\"id\":\"d641edf5-e161-4803-8961-1c0c1c0449db\",\"type\":\"CDSView\"}},\"id\":\"5c20d56b-0e6a-44ce-9df7-9944588cb191\",\"type\":\"GlyphRenderer\"},{\"attributes\":{\"fill_alpha\":{\"value\":0.1},\"fill_color\":{\"value\":\"#1f77b4\"},\"line_alpha\":{\"value\":0.1},\"line_color\":{\"value\":\"#1f77b4\"},\"x\":{\"field\":\"x\"},\"y\":{\"field\":\"y\"}},\"id\":\"f1a3bc57-8886-491c-a7e2-2ceaaa3c5829\",\"type\":\"Square\"},{\"attributes\":{\"fill_alpha\":{\"value\":0.1},\"fill_color\":{\"value\":\"#1f77b4\"},\"line_alpha\":{\"value\":0.1},\"line_color\":{\"value\":\"#1f77b4\"},\"x\":{\"field\":\"x\"},\"y\":{\"field\":\"y\"}},\"id\":\"8c9c2789-3c61-4121-9451-ab3d31b7fb98\",\"type\":\"Circle\"},{\"attributes\":{},\"id\":\"242ec5f9-c57c-452e-9538-d9f5f40a6745\",\"type\":\"BasicTicker\"}],\"root_ids\":[\"62c5fdfa-00ca-4bf0-9610-a18c523c1daf\"]},\"title\":\"Bokeh Application\",\"version\":\"0.12.16\"}};\n",
       "  var render_items = [{\"docid\":\"0b12fd54-c8de-4d7e-a6d3-0b92a14203b0\",\"elementid\":\"63d14554-da89-4f31-9952-579c2cd04ac5\",\"modelid\":\"62c5fdfa-00ca-4bf0-9610-a18c523c1daf\"}];\n",
       "  root.Bokeh.embed.embed_items_notebook(docs_json, render_items);\n",
       "\n",
       "  }\n",
       "  if (root.Bokeh !== undefined) {\n",
       "    embed_document(root);\n",
       "  } else {\n",
       "    var attempts = 0;\n",
       "    var timer = setInterval(function(root) {\n",
       "      if (root.Bokeh !== undefined) {\n",
       "        embed_document(root);\n",
       "        clearInterval(timer);\n",
       "      }\n",
       "      attempts++;\n",
       "      if (attempts > 100) {\n",
       "        console.log(\"Bokeh: ERROR: Unable to run BokehJS code because BokehJS library is missing\")\n",
       "        clearInterval(timer);\n",
       "      }\n",
       "    }, 10, root)\n",
       "  }\n",
       "})(window);"
      ],
      "application/vnd.bokehjs_exec.v0+json": ""
     },
     "metadata": {
      "application/vnd.bokehjs_exec.v0+json": {
       "id": "62c5fdfa-00ca-4bf0-9610-a18c523c1daf"
      }
     },
     "output_type": "display_data"
    },
    {
     "data": {
      "text/markdown": [
       "*FIGURE.* Cooling rates & difference."
      ],
      "text/plain": [
       "<IPython.core.display.Markdown object>"
      ]
     },
     "metadata": {},
     "output_type": "display_data"
    },
    {
     "data": {
      "text/html": [
       "<a id=\"Fluxes._mls.\"></a>"
      ],
      "text/plain": [
       "<IPython.core.display.HTML object>"
      ]
     },
     "metadata": {},
     "output_type": "display_data"
    },
    {
     "data": {
      "text/markdown": [
       "# Fluxes. mls."
      ],
      "text/plain": [
       "<IPython.core.display.Markdown object>"
      ]
     },
     "metadata": {},
     "output_type": "display_data"
    },
    {
     "data": {
      "text/html": [
       "\n",
       "<div class=\"bk-root\">\n",
       "    <div class=\"bk-plotdiv\" id=\"45765cf8-b83c-4489-b8e3-3114c3dc72ef\"></div>\n",
       "</div>"
      ]
     },
     "metadata": {},
     "output_type": "display_data"
    },
    {
     "data": {
      "application/javascript": [
       "(function(root) {\n",
       "  function embed_document(root) {\n",
       "    \n",
       "  var docs_json = {\"d981aa6d-05cf-425e-8bd4-1139cf99888f\":{\"roots\":{\"references\":[{\"attributes\":{\"data_source\":{\"id\":\"7cc15bee-24b8-4480-973b-144d50cfac41\",\"type\":\"ColumnDataSource\"},\"glyph\":{\"id\":\"5951b785-465c-4b48-a20f-be15a3eafe5d\",\"type\":\"VBar\"},\"hover_glyph\":null,\"muted_glyph\":null,\"nonselection_glyph\":{\"id\":\"233da213-80af-4263-910f-74b7355bb11c\",\"type\":\"VBar\"},\"selection_glyph\":null,\"view\":{\"id\":\"a4b1a11a-d0ba-4f30-8b19-6af3aa737333\",\"type\":\"CDSView\"}},\"id\":\"980a7a69-ce35-4d43-9492-6d0bae732214\",\"type\":\"GlyphRenderer\"},{\"attributes\":{\"axis_label\":\"flux (W m-2)\",\"formatter\":{\"id\":\"1c0124a9-b2e0-4631-9f2f-c3d68cb08001\",\"type\":\"BasicTickFormatter\"},\"plot\":{\"id\":\"63ff0d5d-dd57-4a19-9f6b-99f943aae3ea\",\"subtype\":\"Figure\",\"type\":\"Plot\"},\"ticker\":{\"id\":\"c7a73463-2c0c-45f3-8bbb-be5818114604\",\"type\":\"BasicTicker\"}},\"id\":\"6b25b513-9d26-46ea-a845-e5089309bba3\",\"type\":\"LinearAxis\"},{\"attributes\":{\"callback\":null,\"factors\":[\"1\",\"2\",\"3\",\"4\",\"5\",\"6\",\"7\",\"8\",\"9\",\"10\",\"11\"]},\"id\":\"1111fcf6-3265-416d-8e12-0142e63514a3\",\"type\":\"FactorRange\"},{\"attributes\":{},\"id\":\"d22b1ab4-d1ca-47d7-ab42-cd01184840dd\",\"type\":\"Selection\"},{\"attributes\":{},\"id\":\"34e4c09a-845c-401b-8335-3e1c7aabc379\",\"type\":\"UnionRenderers\"},{\"attributes\":{},\"id\":\"856d0dde-e34b-4ce8-8d53-5ca285db402b\",\"type\":\"SaveTool\"},{\"attributes\":{\"callback\":null,\"data\":{\"band\":[\"1\",\"2\",\"3\",\"4\",\"5\",\"6\",\"7\",\"8\",\"9\",\"10\",\"11\"],\"flux\":{\"__ndarray__\":\"9EBMPg2WWsChCW9q+05UwOAyuPe6Sl3AG0m0qobEXsD96Js0DdhfwIPwaOOIqmDAlIJuL2m+YcANL4hIzfVgwDiCr0NQeWDAWLlAF6exYMDcLupJz15hwA==\",\"dtype\":\"float64\",\"shape\":[11]}},\"selected\":{\"id\":\"d22b1ab4-d1ca-47d7-ab42-cd01184840dd\",\"type\":\"Selection\"},\"selection_policy\":{\"id\":\"b82c0066-f711-43d2-9798-4d5fb6a6bac4\",\"type\":\"UnionRenderers\"}},\"id\":\"5369a71e-6b91-4fbc-8216-165324c8de86\",\"type\":\"ColumnDataSource\"},{\"attributes\":{\"source\":{\"id\":\"7cc15bee-24b8-4480-973b-144d50cfac41\",\"type\":\"ColumnDataSource\"}},\"id\":\"a4b1a11a-d0ba-4f30-8b19-6af3aa737333\",\"type\":\"CDSView\"},{\"attributes\":{\"bottom_units\":\"screen\",\"fill_alpha\":{\"value\":0.5},\"fill_color\":{\"value\":\"lightgrey\"},\"left_units\":\"screen\",\"level\":\"overlay\",\"line_alpha\":{\"value\":1.0},\"line_color\":{\"value\":\"black\"},\"line_dash\":[4,4],\"line_width\":{\"value\":2},\"plot\":null,\"render_mode\":\"css\",\"right_units\":\"screen\",\"top_units\":\"screen\"},\"id\":\"39e8eb7f-53bb-4e5d-8a6a-2e5410623cc5\",\"type\":\"BoxAnnotation\"},{\"attributes\":{},\"id\":\"d1bc39ee-28fd-4c47-9358-bd96d40c4291\",\"type\":\"HelpTool\"},{\"attributes\":{\"overlay\":{\"id\":\"39e8eb7f-53bb-4e5d-8a6a-2e5410623cc5\",\"type\":\"BoxAnnotation\"}},\"id\":\"c15f1254-3bfc-42c4-a25d-723a51a87354\",\"type\":\"BoxZoomTool\"},{\"attributes\":{\"below\":[{\"id\":\"daf91abd-693e-4de6-9e7f-6ee1b2913310\",\"type\":\"CategoricalAxis\"}],\"left\":[{\"id\":\"6b25b513-9d26-46ea-a845-e5089309bba3\",\"type\":\"LinearAxis\"}],\"plot_height\":300,\"plot_width\":300,\"renderers\":[{\"id\":\"daf91abd-693e-4de6-9e7f-6ee1b2913310\",\"type\":\"CategoricalAxis\"},{\"id\":\"e8ca453a-8263-41a9-8d32-51f72eb3a2f2\",\"type\":\"Grid\"},{\"id\":\"6b25b513-9d26-46ea-a845-e5089309bba3\",\"type\":\"LinearAxis\"},{\"id\":\"66f78ec3-a5c0-41bf-8822-0154734212e7\",\"type\":\"Grid\"},{\"id\":\"39e8eb7f-53bb-4e5d-8a6a-2e5410623cc5\",\"type\":\"BoxAnnotation\"},{\"id\":\"980a7a69-ce35-4d43-9492-6d0bae732214\",\"type\":\"GlyphRenderer\"}],\"title\":{\"id\":\"024697a4-5b05-468a-957a-6ee21dc26142\",\"type\":\"Title\"},\"toolbar\":{\"id\":\"06d9ba84-ec2c-4eff-8900-06f5886e2171\",\"type\":\"Toolbar\"},\"toolbar_location\":null,\"x_range\":{\"id\":\"71a9c828-d1e8-485b-9896-c5f1e49d45ff\",\"type\":\"FactorRange\"},\"x_scale\":{\"id\":\"efef6bef-2c4a-4bb0-b151-da55f7a19f01\",\"type\":\"CategoricalScale\"},\"y_range\":{\"id\":\"06a95a7c-d67a-4da5-9bef-7dfbba228753\",\"type\":\"DataRange1d\"},\"y_scale\":{\"id\":\"aa8168f4-073e-4b2d-bbd9-0a1125ff77a2\",\"type\":\"LinearScale\"}},\"id\":\"63ff0d5d-dd57-4a19-9f6b-99f943aae3ea\",\"subtype\":\"Figure\",\"type\":\"Plot\"},{\"attributes\":{\"plot\":{\"id\":\"63ff0d5d-dd57-4a19-9f6b-99f943aae3ea\",\"subtype\":\"Figure\",\"type\":\"Plot\"},\"ticker\":{\"id\":\"4dde38f1-58ca-4a38-b11a-83c927928258\",\"type\":\"CategoricalTicker\"}},\"id\":\"e8ca453a-8263-41a9-8d32-51f72eb3a2f2\",\"type\":\"Grid\"},{\"attributes\":{\"dimension\":1,\"plot\":{\"id\":\"63ff0d5d-dd57-4a19-9f6b-99f943aae3ea\",\"subtype\":\"Figure\",\"type\":\"Plot\"},\"ticker\":{\"id\":\"c7a73463-2c0c-45f3-8bbb-be5818114604\",\"type\":\"BasicTicker\"}},\"id\":\"66f78ec3-a5c0-41bf-8822-0154734212e7\",\"type\":\"Grid\"},{\"attributes\":{\"below\":[{\"id\":\"9d33cee9-7903-4de6-abb6-fd31172375ab\",\"type\":\"CategoricalAxis\"}],\"left\":[{\"id\":\"c1656cf8-aeb1-420d-9165-e194db7a0360\",\"type\":\"LinearAxis\"}],\"plot_height\":300,\"plot_width\":300,\"renderers\":[{\"id\":\"9d33cee9-7903-4de6-abb6-fd31172375ab\",\"type\":\"CategoricalAxis\"},{\"id\":\"ef856f46-119e-4e5d-9b7e-afbcd17456bf\",\"type\":\"Grid\"},{\"id\":\"c1656cf8-aeb1-420d-9165-e194db7a0360\",\"type\":\"LinearAxis\"},{\"id\":\"03066ae5-7863-4e7e-b33d-0dc64c29e9dc\",\"type\":\"Grid\"},{\"id\":\"5138a94c-1086-469f-9518-eb01c7231609\",\"type\":\"BoxAnnotation\"},{\"id\":\"bb1e2a0a-9bbc-4251-a1e0-34aead305f6e\",\"type\":\"GlyphRenderer\"}],\"title\":{\"id\":\"a45aee4b-4cb5-46a1-8a43-2f029c58a8f8\",\"type\":\"Title\"},\"toolbar\":{\"id\":\"edf78ac6-da52-41db-8f18-d0a864abda59\",\"type\":\"Toolbar\"},\"toolbar_location\":null,\"x_range\":{\"id\":\"1111fcf6-3265-416d-8e12-0142e63514a3\",\"type\":\"FactorRange\"},\"x_scale\":{\"id\":\"3b689112-2857-4c88-884a-416807b97271\",\"type\":\"CategoricalScale\"},\"y_range\":{\"id\":\"59ad341c-5444-4ac3-9b68-0f129cb4d9b2\",\"type\":\"DataRange1d\"},\"y_scale\":{\"id\":\"08b8bdc8-89fe-44a5-a191-3e7a757f89af\",\"type\":\"LinearScale\"}},\"id\":\"8238ac3d-742c-4423-b3ff-992dcc8d25d5\",\"subtype\":\"Figure\",\"type\":\"Plot\"},{\"attributes\":{},\"id\":\"4bc10e00-09db-4a47-ad7c-4527dd07940e\",\"type\":\"CategoricalTickFormatter\"},{\"attributes\":{\"tools\":[{\"id\":\"28ddaf3a-cc76-4d21-8f0b-25af54df247d\",\"type\":\"PanTool\"},{\"id\":\"c01c43e0-6e79-4745-bf9f-7fe4e3125cc2\",\"type\":\"WheelZoomTool\"},{\"id\":\"c15f1254-3bfc-42c4-a25d-723a51a87354\",\"type\":\"BoxZoomTool\"},{\"id\":\"856d0dde-e34b-4ce8-8d53-5ca285db402b\",\"type\":\"SaveTool\"},{\"id\":\"0dfed913-a526-497f-acae-50e0264d270b\",\"type\":\"ResetTool\"},{\"id\":\"d1bc39ee-28fd-4c47-9358-bd96d40c4291\",\"type\":\"HelpTool\"},{\"id\":\"61947e41-c9b5-43fc-88bc-5dbf91b94594\",\"type\":\"PanTool\"},{\"id\":\"a2e61a02-39a9-46ce-b00f-74dfc4efc1e2\",\"type\":\"WheelZoomTool\"},{\"id\":\"6a4e3080-5a69-460e-872c-25e2dbad24da\",\"type\":\"BoxZoomTool\"},{\"id\":\"55bcd62a-91ac-483a-884f-344fc6e69cfc\",\"type\":\"SaveTool\"},{\"id\":\"0279ec9f-fac8-4fd7-b53c-722459154a51\",\"type\":\"ResetTool\"},{\"id\":\"d45973c5-6138-42eb-ad5a-ea2dc68bee5a\",\"type\":\"HelpTool\"},{\"id\":\"d0338007-6060-49ff-86c5-7c1e567240cc\",\"type\":\"PanTool\"},{\"id\":\"307648b3-582e-4dc5-a34a-cef1b1736fb4\",\"type\":\"WheelZoomTool\"},{\"id\":\"20120432-8985-47d1-a870-84ab499640f7\",\"type\":\"BoxZoomTool\"},{\"id\":\"b0a7350e-caa8-4ef2-95bf-45a3971b579c\",\"type\":\"SaveTool\"},{\"id\":\"d4839e45-598f-4cd6-b778-9118de050705\",\"type\":\"ResetTool\"},{\"id\":\"1da8032e-1e28-401f-a3e8-927a2a79f95f\",\"type\":\"HelpTool\"}]},\"id\":\"fd1a0d85-7330-444d-803c-33a4eadb6054\",\"type\":\"ProxyToolbar\"},{\"attributes\":{},\"id\":\"c7a73463-2c0c-45f3-8bbb-be5818114604\",\"type\":\"BasicTicker\"},{\"attributes\":{},\"id\":\"28ddaf3a-cc76-4d21-8f0b-25af54df247d\",\"type\":\"PanTool\"},{\"attributes\":{\"plot\":null,\"text\":\"SFC flux. CLIRAD (single-run) - CRD.\"},\"id\":\"a45aee4b-4cb5-46a1-8a43-2f029c58a8f8\",\"type\":\"Title\"},{\"attributes\":{\"fill_color\":{\"value\":\"#1f77b4\"},\"line_color\":{\"value\":\"#1f77b4\"},\"top\":{\"field\":\"flux\"},\"width\":{\"value\":0.9},\"x\":{\"field\":\"band\"}},\"id\":\"5951b785-465c-4b48-a20f-be15a3eafe5d\",\"type\":\"VBar\"},{\"attributes\":{},\"id\":\"c01c43e0-6e79-4745-bf9f-7fe4e3125cc2\",\"type\":\"WheelZoomTool\"},{\"attributes\":{\"active_drag\":\"auto\",\"active_inspect\":\"auto\",\"active_scroll\":\"auto\",\"active_tap\":\"auto\",\"tools\":[{\"id\":\"28ddaf3a-cc76-4d21-8f0b-25af54df247d\",\"type\":\"PanTool\"},{\"id\":\"c01c43e0-6e79-4745-bf9f-7fe4e3125cc2\",\"type\":\"WheelZoomTool\"},{\"id\":\"c15f1254-3bfc-42c4-a25d-723a51a87354\",\"type\":\"BoxZoomTool\"},{\"id\":\"856d0dde-e34b-4ce8-8d53-5ca285db402b\",\"type\":\"SaveTool\"},{\"id\":\"0dfed913-a526-497f-acae-50e0264d270b\",\"type\":\"ResetTool\"},{\"id\":\"d1bc39ee-28fd-4c47-9358-bd96d40c4291\",\"type\":\"HelpTool\"}]},\"id\":\"06d9ba84-ec2c-4eff-8900-06f5886e2171\",\"type\":\"Toolbar\"},{\"attributes\":{},\"id\":\"aa8168f4-073e-4b2d-bbd9-0a1125ff77a2\",\"type\":\"LinearScale\"},{\"attributes\":{\"below\":[{\"id\":\"728cbf68-eff6-4a49-be88-359a5ec18e7e\",\"type\":\"CategoricalAxis\"}],\"left\":[{\"id\":\"b215dd37-f3ad-4d66-a114-ab13ac4199b3\",\"type\":\"LinearAxis\"}],\"plot_height\":300,\"plot_width\":300,\"renderers\":[{\"id\":\"728cbf68-eff6-4a49-be88-359a5ec18e7e\",\"type\":\"CategoricalAxis\"},{\"id\":\"7ea5fa20-79f3-4044-a0f2-bd78ad198f6c\",\"type\":\"Grid\"},{\"id\":\"b215dd37-f3ad-4d66-a114-ab13ac4199b3\",\"type\":\"LinearAxis\"},{\"id\":\"9207e4e4-a822-4d75-88a8-d997b9d10093\",\"type\":\"Grid\"},{\"id\":\"a026680f-791d-43c7-aed2-7a3262408eda\",\"type\":\"BoxAnnotation\"},{\"id\":\"0629422a-31d3-40f3-af39-fb17039d0ece\",\"type\":\"GlyphRenderer\"}],\"title\":{\"id\":\"66d37ec3-351e-4945-9531-ce48fd1bf82c\",\"type\":\"Title\"},\"toolbar\":{\"id\":\"ea6f6b47-e069-48e5-a3f0-b99d662d3e35\",\"type\":\"Toolbar\"},\"toolbar_location\":null,\"x_range\":{\"id\":\"b597d290-89f4-4b17-9ded-7b6ba6378437\",\"type\":\"FactorRange\"},\"x_scale\":{\"id\":\"c75df954-c08b-4ee1-888a-0ee7ccce8840\",\"type\":\"CategoricalScale\"},\"y_range\":{\"id\":\"1b501ee7-bee1-48bd-87a6-14f494be054f\",\"type\":\"DataRange1d\"},\"y_scale\":{\"id\":\"1ed4c013-af6c-4370-a422-9a7de81657e4\",\"type\":\"LinearScale\"}},\"id\":\"390532af-6a51-417e-b689-c27ef445b116\",\"subtype\":\"Figure\",\"type\":\"Plot\"},{\"attributes\":{\"callback\":null,\"factors\":[\"1\",\"2\",\"3\",\"4\",\"5\",\"6\",\"7\",\"8\",\"9\",\"10\",\"11\"]},\"id\":\"71a9c828-d1e8-485b-9896-c5f1e49d45ff\",\"type\":\"FactorRange\"},{\"attributes\":{\"active_drag\":\"auto\",\"active_inspect\":\"auto\",\"active_scroll\":\"auto\",\"active_tap\":\"auto\",\"tools\":[{\"id\":\"61947e41-c9b5-43fc-88bc-5dbf91b94594\",\"type\":\"PanTool\"},{\"id\":\"a2e61a02-39a9-46ce-b00f-74dfc4efc1e2\",\"type\":\"WheelZoomTool\"},{\"id\":\"6a4e3080-5a69-460e-872c-25e2dbad24da\",\"type\":\"BoxZoomTool\"},{\"id\":\"55bcd62a-91ac-483a-884f-344fc6e69cfc\",\"type\":\"SaveTool\"},{\"id\":\"0279ec9f-fac8-4fd7-b53c-722459154a51\",\"type\":\"ResetTool\"},{\"id\":\"d45973c5-6138-42eb-ad5a-ea2dc68bee5a\",\"type\":\"HelpTool\"}]},\"id\":\"edf78ac6-da52-41db-8f18-d0a864abda59\",\"type\":\"Toolbar\"},{\"attributes\":{},\"id\":\"69714ab8-bc46-4bf8-b41f-fad1e8559ff4\",\"type\":\"BasicTickFormatter\"},{\"attributes\":{},\"id\":\"4dde38f1-58ca-4a38-b11a-83c927928258\",\"type\":\"CategoricalTicker\"},{\"attributes\":{\"children\":[{\"id\":\"0e7a6d43-b4de-42d8-872a-685a73516271\",\"type\":\"ToolbarBox\"},{\"id\":\"97921920-c0ff-46e7-95b3-5a2d5f6f980d\",\"type\":\"Column\"}]},\"id\":\"d8e477a1-58c3-48b3-8a71-ebeaa3fcd303\",\"type\":\"Column\"},{\"attributes\":{\"callback\":null},\"id\":\"06a95a7c-d67a-4da5-9bef-7dfbba228753\",\"type\":\"DataRange1d\"},{\"attributes\":{},\"id\":\"0dfed913-a526-497f-acae-50e0264d270b\",\"type\":\"ResetTool\"},{\"attributes\":{\"source\":{\"id\":\"0e767d62-e48f-419d-879a-ad0115b4e4e6\",\"type\":\"ColumnDataSource\"}},\"id\":\"5b7412ab-9f1a-4b7f-8bc0-acc65d85e6f0\",\"type\":\"CDSView\"},{\"attributes\":{},\"id\":\"b82c0066-f711-43d2-9798-4d5fb6a6bac4\",\"type\":\"UnionRenderers\"},{\"attributes\":{},\"id\":\"efef6bef-2c4a-4bb0-b151-da55f7a19f01\",\"type\":\"CategoricalScale\"},{\"attributes\":{\"fill_alpha\":{\"value\":0.1},\"fill_color\":{\"value\":\"#1f77b4\"},\"line_alpha\":{\"value\":0.1},\"line_color\":{\"value\":\"#1f77b4\"},\"top\":{\"field\":\"flux\"},\"width\":{\"value\":0.9},\"x\":{\"field\":\"band\"}},\"id\":\"233da213-80af-4263-910f-74b7355bb11c\",\"type\":\"VBar\"},{\"attributes\":{\"plot\":null,\"text\":\"TOA flux. CLIRAD (single-run) - CRD.\"},\"id\":\"024697a4-5b05-468a-957a-6ee21dc26142\",\"type\":\"Title\"},{\"attributes\":{\"toolbar\":{\"id\":\"fd1a0d85-7330-444d-803c-33a4eadb6054\",\"type\":\"ProxyToolbar\"},\"toolbar_location\":\"above\"},\"id\":\"0e7a6d43-b4de-42d8-872a-685a73516271\",\"type\":\"ToolbarBox\"},{\"attributes\":{\"axis_label\":\"spectral band\",\"formatter\":{\"id\":\"0066391d-6cf5-4455-ae8d-3c3e9353b38d\",\"type\":\"CategoricalTickFormatter\"},\"plot\":{\"id\":\"63ff0d5d-dd57-4a19-9f6b-99f943aae3ea\",\"subtype\":\"Figure\",\"type\":\"Plot\"},\"ticker\":{\"id\":\"4dde38f1-58ca-4a38-b11a-83c927928258\",\"type\":\"CategoricalTicker\"}},\"id\":\"daf91abd-693e-4de6-9e7f-6ee1b2913310\",\"type\":\"CategoricalAxis\"},{\"attributes\":{\"fill_alpha\":{\"value\":0.1},\"fill_color\":{\"value\":\"#1f77b4\"},\"line_alpha\":{\"value\":0.1},\"line_color\":{\"value\":\"#1f77b4\"},\"top\":{\"field\":\"flux\"},\"width\":{\"value\":0.9},\"x\":{\"field\":\"band\"}},\"id\":\"258b0a3a-e6b9-4702-a0cc-ab044a899732\",\"type\":\"VBar\"},{\"attributes\":{\"children\":[{\"id\":\"63ff0d5d-dd57-4a19-9f6b-99f943aae3ea\",\"subtype\":\"Figure\",\"type\":\"Plot\"},{\"id\":\"8238ac3d-742c-4423-b3ff-992dcc8d25d5\",\"subtype\":\"Figure\",\"type\":\"Plot\"},{\"id\":\"390532af-6a51-417e-b689-c27ef445b116\",\"subtype\":\"Figure\",\"type\":\"Plot\"}]},\"id\":\"5869770b-dbe4-410c-bf96-6f2334859803\",\"type\":\"Row\"},{\"attributes\":{},\"id\":\"08b8bdc8-89fe-44a5-a191-3e7a757f89af\",\"type\":\"LinearScale\"},{\"attributes\":{},\"id\":\"d0338007-6060-49ff-86c5-7c1e567240cc\",\"type\":\"PanTool\"},{\"attributes\":{},\"id\":\"36f389da-3635-4045-ba03-53f5d0eff003\",\"type\":\"BasicTicker\"},{\"attributes\":{\"plot\":null,\"text\":\"Atmosphere heating. CLIRAD (single-run) - CRD.\"},\"id\":\"66d37ec3-351e-4945-9531-ce48fd1bf82c\",\"type\":\"Title\"},{\"attributes\":{},\"id\":\"da1d0e74-0213-418b-8f2b-11ae4c61727a\",\"type\":\"CategoricalTicker\"},{\"attributes\":{},\"id\":\"d45973c5-6138-42eb-ad5a-ea2dc68bee5a\",\"type\":\"HelpTool\"},{\"attributes\":{},\"id\":\"3b689112-2857-4c88-884a-416807b97271\",\"type\":\"CategoricalScale\"},{\"attributes\":{},\"id\":\"32b3c891-7303-4277-bc34-70edbc529a82\",\"type\":\"CategoricalTicker\"},{\"attributes\":{\"dimension\":1,\"plot\":{\"id\":\"8238ac3d-742c-4423-b3ff-992dcc8d25d5\",\"subtype\":\"Figure\",\"type\":\"Plot\"},\"ticker\":{\"id\":\"36f389da-3635-4045-ba03-53f5d0eff003\",\"type\":\"BasicTicker\"}},\"id\":\"03066ae5-7863-4e7e-b33d-0dc64c29e9dc\",\"type\":\"Grid\"},{\"attributes\":{\"dimension\":1,\"plot\":{\"id\":\"390532af-6a51-417e-b689-c27ef445b116\",\"subtype\":\"Figure\",\"type\":\"Plot\"},\"ticker\":{\"id\":\"483fea65-3cb3-426b-bf7d-95c6f2afc68e\",\"type\":\"BasicTicker\"}},\"id\":\"9207e4e4-a822-4d75-88a8-d997b9d10093\",\"type\":\"Grid\"},{\"attributes\":{\"axis_label\":\"spectral band\",\"formatter\":{\"id\":\"6228b9fa-6c94-4941-96c9-6ffbd7802708\",\"type\":\"CategoricalTickFormatter\"},\"plot\":{\"id\":\"8238ac3d-742c-4423-b3ff-992dcc8d25d5\",\"subtype\":\"Figure\",\"type\":\"Plot\"},\"ticker\":{\"id\":\"da1d0e74-0213-418b-8f2b-11ae4c61727a\",\"type\":\"CategoricalTicker\"}},\"id\":\"9d33cee9-7903-4de6-abb6-fd31172375ab\",\"type\":\"CategoricalAxis\"},{\"attributes\":{},\"id\":\"c75df954-c08b-4ee1-888a-0ee7ccce8840\",\"type\":\"CategoricalScale\"},{\"attributes\":{},\"id\":\"55bcd62a-91ac-483a-884f-344fc6e69cfc\",\"type\":\"SaveTool\"},{\"attributes\":{\"callback\":null,\"factors\":[\"1\",\"2\",\"3\",\"4\",\"5\",\"6\",\"7\",\"8\",\"9\",\"10\",\"11\"]},\"id\":\"b597d290-89f4-4b17-9ded-7b6ba6378437\",\"type\":\"FactorRange\"},{\"attributes\":{},\"id\":\"1c0124a9-b2e0-4631-9f2f-c3d68cb08001\",\"type\":\"BasicTickFormatter\"},{\"attributes\":{},\"id\":\"4a0c24d9-720a-40bc-893c-daeea1d9cd39\",\"type\":\"BasicTickFormatter\"},{\"attributes\":{},\"id\":\"b0a7350e-caa8-4ef2-95bf-45a3971b579c\",\"type\":\"SaveTool\"},{\"attributes\":{\"callback\":null},\"id\":\"1b501ee7-bee1-48bd-87a6-14f494be054f\",\"type\":\"DataRange1d\"},{\"attributes\":{\"plot\":{\"id\":\"390532af-6a51-417e-b689-c27ef445b116\",\"subtype\":\"Figure\",\"type\":\"Plot\"},\"ticker\":{\"id\":\"32b3c891-7303-4277-bc34-70edbc529a82\",\"type\":\"CategoricalTicker\"}},\"id\":\"7ea5fa20-79f3-4044-a0f2-bd78ad198f6c\",\"type\":\"Grid\"},{\"attributes\":{\"bottom_units\":\"screen\",\"fill_alpha\":{\"value\":0.5},\"fill_color\":{\"value\":\"lightgrey\"},\"left_units\":\"screen\",\"level\":\"overlay\",\"line_alpha\":{\"value\":1.0},\"line_color\":{\"value\":\"black\"},\"line_dash\":[4,4],\"line_width\":{\"value\":2},\"plot\":null,\"render_mode\":\"css\",\"right_units\":\"screen\",\"top_units\":\"screen\"},\"id\":\"a026680f-791d-43c7-aed2-7a3262408eda\",\"type\":\"BoxAnnotation\"},{\"attributes\":{\"data_source\":{\"id\":\"0e767d62-e48f-419d-879a-ad0115b4e4e6\",\"type\":\"ColumnDataSource\"},\"glyph\":{\"id\":\"2c306862-a8ec-4fe4-b814-afd86dbeec12\",\"type\":\"VBar\"},\"hover_glyph\":null,\"muted_glyph\":null,\"nonselection_glyph\":{\"id\":\"015632d9-fca1-48da-b8ef-da0d91eba1ed\",\"type\":\"VBar\"},\"selection_glyph\":null,\"view\":{\"id\":\"5b7412ab-9f1a-4b7f-8bc0-acc65d85e6f0\",\"type\":\"CDSView\"}},\"id\":\"bb1e2a0a-9bbc-4251-a1e0-34aead305f6e\",\"type\":\"GlyphRenderer\"},{\"attributes\":{\"fill_alpha\":{\"value\":0.1},\"fill_color\":{\"value\":\"#1f77b4\"},\"line_alpha\":{\"value\":0.1},\"line_color\":{\"value\":\"#1f77b4\"},\"top\":{\"field\":\"flux\"},\"width\":{\"value\":0.9},\"x\":{\"field\":\"band\"}},\"id\":\"015632d9-fca1-48da-b8ef-da0d91eba1ed\",\"type\":\"VBar\"},{\"attributes\":{},\"id\":\"483fea65-3cb3-426b-bf7d-95c6f2afc68e\",\"type\":\"BasicTicker\"},{\"attributes\":{},\"id\":\"1da8032e-1e28-401f-a3e8-927a2a79f95f\",\"type\":\"HelpTool\"},{\"attributes\":{\"fill_color\":{\"value\":\"#1f77b4\"},\"line_color\":{\"value\":\"#1f77b4\"},\"top\":{\"field\":\"flux\"},\"width\":{\"value\":0.9},\"x\":{\"field\":\"band\"}},\"id\":\"2c306862-a8ec-4fe4-b814-afd86dbeec12\",\"type\":\"VBar\"},{\"attributes\":{},\"id\":\"61947e41-c9b5-43fc-88bc-5dbf91b94594\",\"type\":\"PanTool\"},{\"attributes\":{\"data_source\":{\"id\":\"5369a71e-6b91-4fbc-8216-165324c8de86\",\"type\":\"ColumnDataSource\"},\"glyph\":{\"id\":\"55c3d984-4736-4cb6-bf61-a560d464744c\",\"type\":\"VBar\"},\"hover_glyph\":null,\"muted_glyph\":null,\"nonselection_glyph\":{\"id\":\"258b0a3a-e6b9-4702-a0cc-ab044a899732\",\"type\":\"VBar\"},\"selection_glyph\":null,\"view\":{\"id\":\"27dd1eb9-f587-4772-8c95-9f4cb25f6c36\",\"type\":\"CDSView\"}},\"id\":\"0629422a-31d3-40f3-af39-fb17039d0ece\",\"type\":\"GlyphRenderer\"},{\"attributes\":{\"children\":[{\"id\":\"5869770b-dbe4-410c-bf96-6f2334859803\",\"type\":\"Row\"}]},\"id\":\"97921920-c0ff-46e7-95b3-5a2d5f6f980d\",\"type\":\"Column\"},{\"attributes\":{},\"id\":\"0066391d-6cf5-4455-ae8d-3c3e9353b38d\",\"type\":\"CategoricalTickFormatter\"},{\"attributes\":{\"bottom_units\":\"screen\",\"fill_alpha\":{\"value\":0.5},\"fill_color\":{\"value\":\"lightgrey\"},\"left_units\":\"screen\",\"level\":\"overlay\",\"line_alpha\":{\"value\":1.0},\"line_color\":{\"value\":\"black\"},\"line_dash\":[4,4],\"line_width\":{\"value\":2},\"plot\":null,\"render_mode\":\"css\",\"right_units\":\"screen\",\"top_units\":\"screen\"},\"id\":\"5138a94c-1086-469f-9518-eb01c7231609\",\"type\":\"BoxAnnotation\"},{\"attributes\":{},\"id\":\"6228b9fa-6c94-4941-96c9-6ffbd7802708\",\"type\":\"CategoricalTickFormatter\"},{\"attributes\":{\"active_drag\":\"auto\",\"active_inspect\":\"auto\",\"active_scroll\":\"auto\",\"active_tap\":\"auto\",\"tools\":[{\"id\":\"d0338007-6060-49ff-86c5-7c1e567240cc\",\"type\":\"PanTool\"},{\"id\":\"307648b3-582e-4dc5-a34a-cef1b1736fb4\",\"type\":\"WheelZoomTool\"},{\"id\":\"20120432-8985-47d1-a870-84ab499640f7\",\"type\":\"BoxZoomTool\"},{\"id\":\"b0a7350e-caa8-4ef2-95bf-45a3971b579c\",\"type\":\"SaveTool\"},{\"id\":\"d4839e45-598f-4cd6-b778-9118de050705\",\"type\":\"ResetTool\"},{\"id\":\"1da8032e-1e28-401f-a3e8-927a2a79f95f\",\"type\":\"HelpTool\"}]},\"id\":\"ea6f6b47-e069-48e5-a3f0-b99d662d3e35\",\"type\":\"Toolbar\"},{\"attributes\":{},\"id\":\"307648b3-582e-4dc5-a34a-cef1b1736fb4\",\"type\":\"WheelZoomTool\"},{\"attributes\":{\"callback\":null,\"data\":{\"band\":[\"1\",\"2\",\"3\",\"4\",\"5\",\"6\",\"7\",\"8\",\"9\",\"10\",\"11\"],\"flux\":{\"__ndarray__\":\"Cydp/hj9a0AjEK/rFzVoQOxRuB6FBW5AxmmIKvzmbECL/PohNsBvQOKkenzsoXBAUJQ6t5+3cECEQNO3EclwQC9OfLUj3W9ASZ9W0Z+PbkBQVDasyexwQA==\",\"dtype\":\"float64\",\"shape\":[11]}},\"selected\":{\"id\":\"30db1d8b-aed4-4a16-be03-7e915641eca0\",\"type\":\"Selection\"},\"selection_policy\":{\"id\":\"34e4c09a-845c-401b-8335-3e1c7aabc379\",\"type\":\"UnionRenderers\"}},\"id\":\"0e767d62-e48f-419d-879a-ad0115b4e4e6\",\"type\":\"ColumnDataSource\"},{\"attributes\":{\"axis_label\":\"flux (W m-2)\",\"formatter\":{\"id\":\"4a0c24d9-720a-40bc-893c-daeea1d9cd39\",\"type\":\"BasicTickFormatter\"},\"plot\":{\"id\":\"8238ac3d-742c-4423-b3ff-992dcc8d25d5\",\"subtype\":\"Figure\",\"type\":\"Plot\"},\"ticker\":{\"id\":\"36f389da-3635-4045-ba03-53f5d0eff003\",\"type\":\"BasicTicker\"}},\"id\":\"c1656cf8-aeb1-420d-9165-e194db7a0360\",\"type\":\"LinearAxis\"},{\"attributes\":{\"axis_label\":\"spectral band\",\"formatter\":{\"id\":\"4bc10e00-09db-4a47-ad7c-4527dd07940e\",\"type\":\"CategoricalTickFormatter\"},\"plot\":{\"id\":\"390532af-6a51-417e-b689-c27ef445b116\",\"subtype\":\"Figure\",\"type\":\"Plot\"},\"ticker\":{\"id\":\"32b3c891-7303-4277-bc34-70edbc529a82\",\"type\":\"CategoricalTicker\"}},\"id\":\"728cbf68-eff6-4a49-be88-359a5ec18e7e\",\"type\":\"CategoricalAxis\"},{\"attributes\":{},\"id\":\"30db1d8b-aed4-4a16-be03-7e915641eca0\",\"type\":\"Selection\"},{\"attributes\":{},\"id\":\"a2e61a02-39a9-46ce-b00f-74dfc4efc1e2\",\"type\":\"WheelZoomTool\"},{\"attributes\":{},\"id\":\"1ed4c013-af6c-4370-a422-9a7de81657e4\",\"type\":\"LinearScale\"},{\"attributes\":{},\"id\":\"d4839e45-598f-4cd6-b778-9118de050705\",\"type\":\"ResetTool\"},{\"attributes\":{\"callback\":null},\"id\":\"59ad341c-5444-4ac3-9b68-0f129cb4d9b2\",\"type\":\"DataRange1d\"},{\"attributes\":{\"overlay\":{\"id\":\"a026680f-791d-43c7-aed2-7a3262408eda\",\"type\":\"BoxAnnotation\"}},\"id\":\"20120432-8985-47d1-a870-84ab499640f7\",\"type\":\"BoxZoomTool\"},{\"attributes\":{},\"id\":\"95bfd58f-8430-46dc-82b8-67dd776f2abc\",\"type\":\"UnionRenderers\"},{\"attributes\":{\"source\":{\"id\":\"5369a71e-6b91-4fbc-8216-165324c8de86\",\"type\":\"ColumnDataSource\"}},\"id\":\"27dd1eb9-f587-4772-8c95-9f4cb25f6c36\",\"type\":\"CDSView\"},{\"attributes\":{},\"id\":\"0279ec9f-fac8-4fd7-b53c-722459154a51\",\"type\":\"ResetTool\"},{\"attributes\":{\"plot\":{\"id\":\"8238ac3d-742c-4423-b3ff-992dcc8d25d5\",\"subtype\":\"Figure\",\"type\":\"Plot\"},\"ticker\":{\"id\":\"da1d0e74-0213-418b-8f2b-11ae4c61727a\",\"type\":\"CategoricalTicker\"}},\"id\":\"ef856f46-119e-4e5d-9b7e-afbcd17456bf\",\"type\":\"Grid\"},{\"attributes\":{\"axis_label\":\"flux (W m-2)\",\"formatter\":{\"id\":\"69714ab8-bc46-4bf8-b41f-fad1e8559ff4\",\"type\":\"BasicTickFormatter\"},\"plot\":{\"id\":\"390532af-6a51-417e-b689-c27ef445b116\",\"subtype\":\"Figure\",\"type\":\"Plot\"},\"ticker\":{\"id\":\"483fea65-3cb3-426b-bf7d-95c6f2afc68e\",\"type\":\"BasicTicker\"}},\"id\":\"b215dd37-f3ad-4d66-a114-ab13ac4199b3\",\"type\":\"LinearAxis\"},{\"attributes\":{\"overlay\":{\"id\":\"5138a94c-1086-469f-9518-eb01c7231609\",\"type\":\"BoxAnnotation\"}},\"id\":\"6a4e3080-5a69-460e-872c-25e2dbad24da\",\"type\":\"BoxZoomTool\"},{\"attributes\":{},\"id\":\"3e119535-7f5b-4e71-990f-6ab200b7dea4\",\"type\":\"Selection\"},{\"attributes\":{\"callback\":null,\"data\":{\"band\":[\"1\",\"2\",\"3\",\"4\",\"5\",\"6\",\"7\",\"8\",\"9\",\"10\",\"11\"],\"flux\":{\"__ndarray__\":\"z+y6tyLgb8AY4IJs2ZxswA66hENvhnDA2AjE63r4cMBA2ZQr/IVwwNA5P8VxpWzAXS7iOzGscMD89+C1y7dwwFrQe2NITHHAd2dIcJ6fccDDsS5u49JxwA==\",\"dtype\":\"float64\",\"shape\":[11]}},\"selected\":{\"id\":\"3e119535-7f5b-4e71-990f-6ab200b7dea4\",\"type\":\"Selection\"},\"selection_policy\":{\"id\":\"95bfd58f-8430-46dc-82b8-67dd776f2abc\",\"type\":\"UnionRenderers\"}},\"id\":\"7cc15bee-24b8-4480-973b-144d50cfac41\",\"type\":\"ColumnDataSource\"},{\"attributes\":{\"fill_color\":{\"value\":\"#1f77b4\"},\"line_color\":{\"value\":\"#1f77b4\"},\"top\":{\"field\":\"flux\"},\"width\":{\"value\":0.9},\"x\":{\"field\":\"band\"}},\"id\":\"55c3d984-4736-4cb6-bf61-a560d464744c\",\"type\":\"VBar\"}],\"root_ids\":[\"d8e477a1-58c3-48b3-8a71-ebeaa3fcd303\"]},\"title\":\"Bokeh Application\",\"version\":\"0.12.16\"}};\n",
       "  var render_items = [{\"docid\":\"d981aa6d-05cf-425e-8bd4-1139cf99888f\",\"elementid\":\"45765cf8-b83c-4489-b8e3-3114c3dc72ef\",\"modelid\":\"d8e477a1-58c3-48b3-8a71-ebeaa3fcd303\"}];\n",
       "  root.Bokeh.embed.embed_items_notebook(docs_json, render_items);\n",
       "\n",
       "  }\n",
       "  if (root.Bokeh !== undefined) {\n",
       "    embed_document(root);\n",
       "  } else {\n",
       "    var attempts = 0;\n",
       "    var timer = setInterval(function(root) {\n",
       "      if (root.Bokeh !== undefined) {\n",
       "        embed_document(root);\n",
       "        clearInterval(timer);\n",
       "      }\n",
       "      attempts++;\n",
       "      if (attempts > 100) {\n",
       "        console.log(\"Bokeh: ERROR: Unable to run BokehJS code because BokehJS library is missing\")\n",
       "        clearInterval(timer);\n",
       "      }\n",
       "    }, 10, root)\n",
       "  }\n",
       "})(window);"
      ],
      "application/vnd.bokehjs_exec.v0+json": ""
     },
     "metadata": {
      "application/vnd.bokehjs_exec.v0+json": {
       "id": "d8e477a1-58c3-48b3-8a71-ebeaa3fcd303"
      }
     },
     "output_type": "display_data"
    },
    {
     "data": {
      "text/markdown": [
       "*FIGURE.* Difference between CLIRAD and CRD in TOA, SFC and net atmosphere flux, in each spectral band."
      ],
      "text/plain": [
       "<IPython.core.display.Markdown object>"
      ]
     },
     "metadata": {},
     "output_type": "display_data"
    },
    {
     "data": {
      "text/html": [
       "<div>\n",
       "<style scoped>\n",
       "    .dataframe tbody tr th:only-of-type {\n",
       "        vertical-align: middle;\n",
       "    }\n",
       "\n",
       "    .dataframe tbody tr th {\n",
       "        vertical-align: top;\n",
       "    }\n",
       "\n",
       "    .dataframe thead th {\n",
       "        text-align: right;\n",
       "    }\n",
       "</style>\n",
       "<table border=\"1\" class=\"dataframe\">\n",
       "  <thead>\n",
       "    <tr style=\"text-align: right;\">\n",
       "      <th></th>\n",
       "      <th>OLR flux</th>\n",
       "      <th>SFC flux</th>\n",
       "      <th>ATM heating</th>\n",
       "    </tr>\n",
       "    <tr>\n",
       "      <th>Sum over bands</th>\n",
       "      <th></th>\n",
       "      <th></th>\n",
       "      <th></th>\n",
       "    </tr>\n",
       "  </thead>\n",
       "  <tbody>\n",
       "    <tr>\n",
       "      <th>old CLIRAD - CRD</th>\n",
       "      <td>0.14</td>\n",
       "      <td>2.01</td>\n",
       "      <td>-1.73</td>\n",
       "    </tr>\n",
       "    <tr>\n",
       "      <th>CLIRAD (single-run) - CRD</th>\n",
       "      <td>1.13</td>\n",
       "      <td>-33.28</td>\n",
       "      <td>34.41</td>\n",
       "    </tr>\n",
       "    <tr>\n",
       "      <th>CRD</th>\n",
       "      <td>-290.39</td>\n",
       "      <td>308.14</td>\n",
       "      <td>-174.89</td>\n",
       "    </tr>\n",
       "  </tbody>\n",
       "</table>\n",
       "</div>"
      ],
      "text/plain": [
       "                           OLR flux  SFC flux  ATM heating\n",
       "Sum over bands                                            \n",
       "old CLIRAD - CRD               0.14      2.01        -1.73\n",
       "CLIRAD (single-run) - CRD      1.13    -33.28        34.41\n",
       "CRD                         -290.39    308.14      -174.89"
      ]
     },
     "metadata": {},
     "output_type": "display_data"
    },
    {
     "data": {
      "text/markdown": [
       "*TABLE.* Difference between CLIRAD and CRD in TOA, SFC and net atmosphere flux, over all spectral bands. CRD's TOA, SFC and net atmosphere flux, over all spectral bands."
      ],
      "text/plain": [
       "<IPython.core.display.Markdown object>"
      ]
     },
     "metadata": {},
     "output_type": "display_data"
    },
    {
     "data": {
      "text/html": [
       "<a id=\"Cooling_rates._saw.\"></a>"
      ],
      "text/plain": [
       "<IPython.core.display.HTML object>"
      ]
     },
     "metadata": {},
     "output_type": "display_data"
    },
    {
     "data": {
      "text/markdown": [
       "# Cooling rates. saw."
      ],
      "text/plain": [
       "<IPython.core.display.Markdown object>"
      ]
     },
     "metadata": {},
     "output_type": "display_data"
    },
    {
     "data": {
      "text/html": [
       "\n",
       "<div class=\"bk-root\">\n",
       "    <div class=\"bk-plotdiv\" id=\"2bc0b65f-9326-46b1-aedb-f6950a9bf1d1\"></div>\n",
       "</div>"
      ]
     },
     "metadata": {},
     "output_type": "display_data"
    },
    {
     "data": {
      "application/javascript": [
       "(function(root) {\n",
       "  function embed_document(root) {\n",
       "    \n",
       "  var docs_json = {\"601999b1-b791-4bac-af07-fbcac5251a99\":{\"roots\":{\"references\":[{\"attributes\":{\"line_alpha\":0.1,\"line_color\":\"#1f77b4\",\"line_width\":1.5,\"x\":{\"field\":\"x\"},\"y\":{\"field\":\"y\"}},\"id\":\"f2a4737a-e449-4bfb-8d44-4ff4586c74a2\",\"type\":\"Line\"},{\"attributes\":{},\"id\":\"bbe21863-ae65-4ae5-94e5-010b75ca2f85\",\"type\":\"SaveTool\"},{\"attributes\":{\"source\":{\"id\":\"19f57a8c-c936-4287-847b-8a892a53706b\",\"type\":\"ColumnDataSource\"}},\"id\":\"e1712b60-db27-4d3b-a970-ba54f0e4d640\",\"type\":\"CDSView\"},{\"attributes\":{\"label\":{\"value\":\"CRD\"},\"renderers\":[{\"id\":\"49c3bfae-1882-49fb-ba06-098faf2c2c37\",\"type\":\"GlyphRenderer\"},{\"id\":\"a2382edf-6e7a-4faf-acce-83b61722068e\",\"type\":\"GlyphRenderer\"}]},\"id\":\"d4dd6afd-01f1-4893-9c6e-82102905ca74\",\"type\":\"LegendItem\"},{\"attributes\":{},\"id\":\"78b45271-b9c8-42c0-8bb3-dd2437d2a57c\",\"type\":\"ResetTool\"},{\"attributes\":{},\"id\":\"c0d74944-3855-4171-b873-e943fff950a6\",\"type\":\"WheelZoomTool\"},{\"attributes\":{\"above\":[{\"id\":\"ba01b06f-a047-44ce-817f-2e4dcea30621\",\"type\":\"Legend\"}],\"below\":[{\"id\":\"171c558b-5ec2-486a-a4ae-7ae073c22cf0\",\"type\":\"LinearAxis\"}],\"left\":[{\"id\":\"2604a1cb-9540-47e7-acde-659dc629794b\",\"type\":\"LogAxis\"}],\"plot_width\":300,\"renderers\":[{\"id\":\"171c558b-5ec2-486a-a4ae-7ae073c22cf0\",\"type\":\"LinearAxis\"},{\"id\":\"4fbd284e-da08-4f40-bfd1-0e0ba184226b\",\"type\":\"Grid\"},{\"id\":\"2604a1cb-9540-47e7-acde-659dc629794b\",\"type\":\"LogAxis\"},{\"id\":\"80455feb-d23a-4c77-8abc-c6a5c4081775\",\"type\":\"Grid\"},{\"id\":\"56c5d39c-92bf-4403-a1ed-ace0eeba158c\",\"type\":\"BoxAnnotation\"},{\"id\":\"c6b34046-0494-416e-b2cf-5c30566bccb4\",\"type\":\"GlyphRenderer\"},{\"id\":\"2199626d-9aed-42a3-9f99-c05a0293ea8c\",\"type\":\"GlyphRenderer\"},{\"id\":\"ba01b06f-a047-44ce-817f-2e4dcea30621\",\"type\":\"Legend\"}],\"title\":{\"id\":\"4dcd4f62-1e44-4895-a7ff-cb53ed6af568\",\"type\":\"Title\"},\"toolbar\":{\"id\":\"c72a3f99-9a47-4d69-930b-e551ef204a8b\",\"type\":\"Toolbar\"},\"toolbar_location\":null,\"x_range\":{\"id\":\"2af9df97-b14c-4ea1-befb-5834d4fb98d5\",\"type\":\"Range1d\"},\"x_scale\":{\"id\":\"3dc64fc5-aebd-493d-9803-15c8aba6f388\",\"type\":\"LinearScale\"},\"y_range\":{\"id\":\"d836d2cd-ff4a-48b0-a0d8-25e35eca26c2\",\"type\":\"Range1d\"},\"y_scale\":{\"id\":\"dc5e9ebc-6913-4f16-a478-03cb49daba3d\",\"type\":\"LogScale\"}},\"id\":\"c28cbcfb-c41e-45f1-ad3c-d163216df869\",\"subtype\":\"Figure\",\"type\":\"Plot\"},{\"attributes\":{\"data_source\":{\"id\":\"523d7507-ef43-4bda-ac8b-4e8d0037cbc5\",\"type\":\"ColumnDataSource\"},\"glyph\":{\"id\":\"8e2d4809-c479-4fee-b1a8-f7e93a60e7b5\",\"type\":\"Circle\"},\"hover_glyph\":null,\"muted_glyph\":null,\"nonselection_glyph\":{\"id\":\"8672c33e-2e9b-4d14-a940-3a30a1c0002e\",\"type\":\"Circle\"},\"selection_glyph\":null,\"view\":{\"id\":\"384b9143-e8a9-410e-bc00-c95df50b9cf4\",\"type\":\"CDSView\"}},\"id\":\"49c3bfae-1882-49fb-ba06-098faf2c2c37\",\"type\":\"GlyphRenderer\"},{\"attributes\":{\"label\":{\"value\":\"CRD\"},\"renderers\":[{\"id\":\"71175b4a-355c-4952-8f48-b34b29a4ef2c\",\"type\":\"GlyphRenderer\"},{\"id\":\"a074a557-7bee-4065-9aa6-16986a548c3a\",\"type\":\"GlyphRenderer\"}]},\"id\":\"6f406aec-8aee-4f42-b383-07d98c4c7ff7\",\"type\":\"LegendItem\"},{\"attributes\":{\"line_alpha\":0.1,\"line_color\":\"#1f77b4\",\"line_dash\":[6],\"line_width\":5,\"x\":{\"field\":\"x\"},\"y\":{\"field\":\"y\"}},\"id\":\"511dc304-821e-41aa-9124-63e9d61f4d83\",\"type\":\"Line\"},{\"attributes\":{\"dimension\":1,\"plot\":{\"id\":\"5004d2cb-2ad8-46ff-a576-d3b896c6d573\",\"subtype\":\"Figure\",\"type\":\"Plot\"},\"ticker\":{\"id\":\"cd1c87f1-de83-4bc4-8dde-37d0d0a87917\",\"type\":\"LogTicker\"}},\"id\":\"70f2b100-390c-4888-88d0-40734380dfe7\",\"type\":\"Grid\"},{\"attributes\":{\"line_alpha\":0.6,\"line_color\":\"#377eb8\",\"line_dash\":[6],\"line_width\":5,\"x\":{\"field\":\"x\"},\"y\":{\"field\":\"y\"}},\"id\":\"1b669e3d-7ec4-45a6-98a6-f92e9cbcff5f\",\"type\":\"Line\"},{\"attributes\":{\"active_drag\":\"auto\",\"active_inspect\":\"auto\",\"active_scroll\":\"auto\",\"active_tap\":\"auto\",\"tools\":[{\"id\":\"72194fc3-2477-4b75-a85e-4da8d97c8228\",\"type\":\"PanTool\"},{\"id\":\"c0d74944-3855-4171-b873-e943fff950a6\",\"type\":\"WheelZoomTool\"},{\"id\":\"161a155f-4354-4159-83cf-a42069e042e0\",\"type\":\"BoxZoomTool\"},{\"id\":\"e5e8ec15-2fe5-4c45-bc76-820a40b9a798\",\"type\":\"SaveTool\"},{\"id\":\"72df2b9d-d2c7-4e7a-832e-dfd3fb9aee70\",\"type\":\"ResetTool\"},{\"id\":\"505ce3b4-83d8-4153-9280-c8468f3879c4\",\"type\":\"HelpTool\"}]},\"id\":\"3bb415b0-7a4b-481e-bfe8-fac2bc7404d2\",\"type\":\"Toolbar\"},{\"attributes\":{\"axis_label\":\"pressure [mb]\",\"formatter\":{\"id\":\"45664d82-02fa-43b8-b024-8822a3ac7360\",\"type\":\"BasicTickFormatter\"},\"plot\":{\"id\":\"902c429e-29ee-4219-8f48-e7f6c480799f\",\"subtype\":\"Figure\",\"type\":\"Plot\"},\"ticker\":{\"id\":\"3fd2a84f-d1d9-48af-9faf-5c58232f16d3\",\"type\":\"BasicTicker\"}},\"id\":\"4325f9ba-3b9e-4ffb-8640-624cf41316e7\",\"type\":\"LinearAxis\"},{\"attributes\":{\"callback\":null,\"end\":16.436989472609937,\"start\":0.29787106898406},\"id\":\"63e310c5-9032-40e8-8f0c-3a8cbaa4fad1\",\"type\":\"Range1d\"},{\"attributes\":{},\"id\":\"72df2b9d-d2c7-4e7a-832e-dfd3fb9aee70\",\"type\":\"ResetTool\"},{\"attributes\":{\"bottom_units\":\"screen\",\"fill_alpha\":{\"value\":0.5},\"fill_color\":{\"value\":\"lightgrey\"},\"left_units\":\"screen\",\"level\":\"overlay\",\"line_alpha\":{\"value\":1.0},\"line_color\":{\"value\":\"black\"},\"line_dash\":[4,4],\"line_width\":{\"value\":2},\"plot\":null,\"render_mode\":\"css\",\"right_units\":\"screen\",\"top_units\":\"screen\"},\"id\":\"f5582cd4-114a-411c-a7fb-48a7e0b86b4d\",\"type\":\"BoxAnnotation\"},{\"attributes\":{\"fill_alpha\":{\"value\":0.1},\"fill_color\":{\"value\":\"#1f77b4\"},\"line_alpha\":{\"value\":0.1},\"line_color\":{\"value\":\"#1f77b4\"},\"x\":{\"field\":\"x\"},\"y\":{\"field\":\"y\"}},\"id\":\"8672c33e-2e9b-4d14-a940-3a30a1c0002e\",\"type\":\"Circle\"},{\"attributes\":{\"callback\":null,\"data\":{\"x\":{\"__ndarray__\":\"0CYBcvU5UkCik9zf2GVBQF1VoNfLZ0BAVLxhiVXTPUDD1Wu1wJM6QFJyB025jjdAU6Aw5+b/NECYe1uuDfgyQB6bYtVTbTFAPxYSAF1HMEA00pYVm9QuQLolHbMzgC1AntlwirGsLECv+G9SjE4rQJH6ZLBp0ShAsLZQyPd/JkDyjgyf2PwkQLgyNGsrJyRAA13QbJD6I0C8hy0ilI4kQOVTXCEgcSZAovOGvZSGJUBVc/ZmUOIgQOf/6GHAyRlAcE8fAOBSFEDRur1U//gPQGFD9ZbokghAQsqHuSqSA0C91ci3W0UBQCtRQfvz7/4/kh8pntyB+j9t1/n+4TX1P773MAUjFfI/RgzR+CI28T8hBW8WHK7uPzVKjJfU8uk/0FPt4/z65T/wVYqzMPDhPz7K9C5CXuE/8+hSn9hY4T/9PPCkR6rhP1XsIC599OA/66X1nBCX3z/YbRM56QjcPz4dkSQc/dM/S7Wb8Fq00T+/yQdmX0vcP7TrGf476eM/WqNPJoWO7D9qOH1bcwDzP2bw+R5DQ/Y/RLSuQOQp+D8+aif8yAz5P0Wv6eBKRfk/0i2+IN4R+T/ik8QNFZr4PyS5UD5j/Pc/yJ68zXRG9z/2CHPL54H2P59SOhwKtPU/npkP8dfg9D8NlmVcdQz0P80ugRvuOvM/byxiAHN18j9USVZie8nxP5l9lNXYSPE/OB+F0UYP8T8Y7dsUCTHxP3EBgTHPcPE/bfx15p8S8T8FT+xkGtTuP6mdG7rkxuk/pboqTkHX5D/CrN8qGYngP7R4ZaL+htU/\",\"dtype\":\"float64\",\"shape\":[75]},\"y\":{\"__ndarray__\":\"GhExyth1ND/Sv8nbtpRIP2vylNV0PVE/aTum7souWD/At0SJ8fVgPw3Iuahxymc/MSNhhJWvcD/bTfBN02d3P2zb5nxnaoA/CD5h5MAGhz8NmeH1TyaQP+zrCsc9p5Y/LbKd76fGnz/bLW5ISEmmPww9YvTcQq8/JV2OstnstT8Er5Y7M8G+P0c+r3jqkcU/5h99k6ZBzj88bCIzFzjVP4enV8oyxN0//yH99nXg5D8qOpLLf0jtP5kqGJXUifQ/c9cS8kHP/D+/DpwzojQEQIEmwoanVwxA4lgXt9HgE0BSSZ2AJuIbQAMJih9jjiNA5q4l5INuK0AwTKYKRj0zQNv5fmq8/DpAaCJseHrtQkB/+zpwzoxKQM3MzMzMeFJAZmZmZmZqWEAAAAAAAFxeQM3MzMzMJmJAmpmZmZkfZUBmZmZmZhhoQDMzMzMzEWtAAAAAAAAKbkBmZmZmZoFwQM3MzMzM/XFAMzMzMzN6c0CamZmZmfZ0QAAAAAAAc3ZAZmZmZmbvd0DNzMzMzGt5QDMzMzMz6HpAmpmZmZlkfEAAAAAAAOF9QGZmZmZmXX9AZmZmZuZsgECamZmZGSuBQM3MzMxM6YFAAAAAAICngkAzMzMzs2WDQGZmZmbmI4RAmpmZmRnihEDNzMzMTKCFQAAAAACAXoZAMzMzM7Mch0BmZmZm5tqHQJqZmZkZmYhAzczMzExXiUAAAAAAgBWKQDMzMzOz04pAZmZmZuaRi0CamZmZGVCMQM3MzMxMDo1AAAAAAIDMjUAzMzMzs4qOQGZmZmbmSI9A\",\"dtype\":\"float64\",\"shape\":[75]}},\"selected\":{\"id\":\"10babc61-faab-4964-a624-0e83401e16e0\",\"type\":\"Selection\"},\"selection_policy\":{\"id\":\"5a68df10-f7e0-4534-ac62-88b5734e80b7\",\"type\":\"UnionRenderers\"}},\"id\":\"523d7507-ef43-4bda-ac8b-4e8d0037cbc5\",\"type\":\"ColumnDataSource\"},{\"attributes\":{},\"id\":\"e5e8ec15-2fe5-4c45-bc76-820a40b9a798\",\"type\":\"SaveTool\"},{\"attributes\":{\"dimension\":1,\"plot\":{\"id\":\"902c429e-29ee-4219-8f48-e7f6c480799f\",\"subtype\":\"Figure\",\"type\":\"Plot\"},\"ticker\":{\"id\":\"3fd2a84f-d1d9-48af-9faf-5c58232f16d3\",\"type\":\"BasicTicker\"}},\"id\":\"98604a14-7db3-4c1b-a238-ff3c486727ed\",\"type\":\"Grid\"},{\"attributes\":{},\"id\":\"2f0f8967-4392-4eda-a766-36d4c5494746\",\"type\":\"LinearScale\"},{\"attributes\":{\"plot\":{\"id\":\"902c429e-29ee-4219-8f48-e7f6c480799f\",\"subtype\":\"Figure\",\"type\":\"Plot\"},\"ticker\":{\"id\":\"caf8babf-0c7f-4f87-b3f9-5033d7aa1999\",\"type\":\"BasicTicker\"}},\"id\":\"040a10f8-bff7-4ac5-ad70-7fa283739b13\",\"type\":\"Grid\"},{\"attributes\":{\"data_source\":{\"id\":\"a7e70846-8e4a-4e26-97de-170fbfe28995\",\"type\":\"ColumnDataSource\"},\"glyph\":{\"id\":\"1b669e3d-7ec4-45a6-98a6-f92e9cbcff5f\",\"type\":\"Line\"},\"hover_glyph\":null,\"muted_glyph\":null,\"nonselection_glyph\":{\"id\":\"38c79dd6-ba0a-422b-8dfc-91dd3e01a027\",\"type\":\"Line\"},\"selection_glyph\":null,\"view\":{\"id\":\"6e6138d5-8f22-447c-a9bf-6aba2385211f\",\"type\":\"CDSView\"}},\"id\":\"4343a884-b19e-42d5-adab-ce2df0c9d392\",\"type\":\"GlyphRenderer\"},{\"attributes\":{\"line_alpha\":0.6,\"line_color\":\"#377eb8\",\"line_dash\":[6],\"line_width\":5,\"x\":{\"field\":\"x\"},\"y\":{\"field\":\"y\"}},\"id\":\"184bbbba-67a4-41b9-a79a-2b99ac104d02\",\"type\":\"Line\"},{\"attributes\":{\"label\":{\"value\":\"CLIRAD (single-run)\"},\"renderers\":[{\"id\":\"c6415b7c-bdfe-47a7-b2af-21c2b68daf8c\",\"type\":\"GlyphRenderer\"}]},\"id\":\"972620f6-0e39-49bb-831c-7a817f4ff26c\",\"type\":\"LegendItem\"},{\"attributes\":{},\"id\":\"5d628580-036f-43f9-b5c0-19ff51327f01\",\"type\":\"LogScale\"},{\"attributes\":{},\"id\":\"a07e44ac-e880-4ad9-adf7-1badca584686\",\"type\":\"LinearScale\"},{\"attributes\":{\"data_source\":{\"id\":\"ce861046-cb59-4b2d-88bb-2fd8db3b3f3b\",\"type\":\"ColumnDataSource\"},\"glyph\":{\"id\":\"8815bf43-3fe0-40ac-9767-d329c9465938\",\"type\":\"Line\"},\"hover_glyph\":null,\"muted_glyph\":null,\"nonselection_glyph\":{\"id\":\"f2a4737a-e449-4bfb-8d44-4ff4586c74a2\",\"type\":\"Line\"},\"selection_glyph\":null,\"view\":{\"id\":\"8ae1716d-85a5-4c49-9261-5d259c64bcc8\",\"type\":\"CDSView\"}},\"id\":\"a2382edf-6e7a-4faf-acce-83b61722068e\",\"type\":\"GlyphRenderer\"},{\"attributes\":{},\"id\":\"505ce3b4-83d8-4153-9280-c8468f3879c4\",\"type\":\"HelpTool\"},{\"attributes\":{},\"id\":\"d8ffa1c6-1990-4bde-90aa-f9e5c24cc25f\",\"type\":\"HelpTool\"},{\"attributes\":{\"above\":[{\"id\":\"50c8a6ce-b34a-47b6-86c0-0183e2289fa5\",\"type\":\"Legend\"}],\"below\":[{\"id\":\"03f117c2-6722-4143-aabc-6a95c6d7209e\",\"type\":\"LinearAxis\"}],\"left\":[{\"id\":\"2e8965cb-8f89-4fe5-912f-ad036079d480\",\"type\":\"LogAxis\"}],\"plot_width\":300,\"renderers\":[{\"id\":\"03f117c2-6722-4143-aabc-6a95c6d7209e\",\"type\":\"LinearAxis\"},{\"id\":\"8cf6f721-7427-4c39-9cd4-56d38bfc8575\",\"type\":\"Grid\"},{\"id\":\"2e8965cb-8f89-4fe5-912f-ad036079d480\",\"type\":\"LogAxis\"},{\"id\":\"70f2b100-390c-4888-88d0-40734380dfe7\",\"type\":\"Grid\"},{\"id\":\"19a17bdd-06da-497c-a618-621ee2c13acb\",\"type\":\"BoxAnnotation\"},{\"id\":\"4343a884-b19e-42d5-adab-ce2df0c9d392\",\"type\":\"GlyphRenderer\"},{\"id\":\"71175b4a-355c-4952-8f48-b34b29a4ef2c\",\"type\":\"GlyphRenderer\"},{\"id\":\"a074a557-7bee-4065-9aa6-16986a548c3a\",\"type\":\"GlyphRenderer\"},{\"id\":\"50c8a6ce-b34a-47b6-86c0-0183e2289fa5\",\"type\":\"Legend\"}],\"title\":{\"id\":\"344e6640-6f4f-4121-aa8c-8629ecf707ca\",\"type\":\"Title\"},\"toolbar\":{\"id\":\"3bb415b0-7a4b-481e-bfe8-fac2bc7404d2\",\"type\":\"Toolbar\"},\"toolbar_location\":null,\"x_range\":{\"id\":\"63e310c5-9032-40e8-8f0c-3a8cbaa4fad1\",\"type\":\"Range1d\"},\"x_scale\":{\"id\":\"2f0f8967-4392-4eda-a766-36d4c5494746\",\"type\":\"LinearScale\"},\"y_range\":{\"id\":\"c431f725-052b-40d4-a783-b467c1517821\",\"type\":\"Range1d\"},\"y_scale\":{\"id\":\"5d628580-036f-43f9-b5c0-19ff51327f01\",\"type\":\"LogScale\"}},\"id\":\"5004d2cb-2ad8-46ff-a576-d3b896c6d573\",\"subtype\":\"Figure\",\"type\":\"Plot\"},{\"attributes\":{},\"id\":\"72194fc3-2477-4b75-a85e-4da8d97c8228\",\"type\":\"PanTool\"},{\"attributes\":{\"callback\":null,\"end\":0.01,\"start\":1020},\"id\":\"dfa6f461-d352-4052-b6f5-61774c3dafcd\",\"type\":\"Range1d\"},{\"attributes\":{\"axis_label\":\"cooling rate [K/day]\",\"formatter\":{\"id\":\"eb5d695e-4c19-4ae2-8df4-4d0ba9c4512c\",\"type\":\"BasicTickFormatter\"},\"plot\":{\"id\":\"902c429e-29ee-4219-8f48-e7f6c480799f\",\"subtype\":\"Figure\",\"type\":\"Plot\"},\"ticker\":{\"id\":\"caf8babf-0c7f-4f87-b3f9-5033d7aa1999\",\"type\":\"BasicTicker\"}},\"id\":\"1af76ecb-9d9a-4b54-8bc9-d9e6d2503a29\",\"type\":\"LinearAxis\"},{\"attributes\":{\"items\":[{\"id\":\"6ad139b0-5198-428b-9250-51c2786b766b\",\"type\":\"LegendItem\"},{\"id\":\"6f406aec-8aee-4f42-b383-07d98c4c7ff7\",\"type\":\"LegendItem\"}],\"label_text_font_size\":{\"value\":\"8pt\"},\"location\":\"top_center\",\"orientation\":\"horizontal\",\"plot\":{\"id\":\"5004d2cb-2ad8-46ff-a576-d3b896c6d573\",\"subtype\":\"Figure\",\"type\":\"Plot\"}},\"id\":\"50c8a6ce-b34a-47b6-86c0-0183e2289fa5\",\"type\":\"Legend\"},{\"attributes\":{\"axis_label\":\"cooling rate [K/day]\",\"formatter\":{\"id\":\"a14cee52-2eda-48a5-ae93-07298aaf1acb\",\"type\":\"BasicTickFormatter\"},\"plot\":{\"id\":\"5004d2cb-2ad8-46ff-a576-d3b896c6d573\",\"subtype\":\"Figure\",\"type\":\"Plot\"},\"ticker\":{\"id\":\"72b79dd3-08dc-40c2-9815-d083692ac449\",\"type\":\"BasicTicker\"}},\"id\":\"03f117c2-6722-4143-aabc-6a95c6d7209e\",\"type\":\"LinearAxis\"},{\"attributes\":{},\"id\":\"caf8babf-0c7f-4f87-b3f9-5033d7aa1999\",\"type\":\"BasicTicker\"},{\"attributes\":{},\"id\":\"3fd2a84f-d1d9-48af-9faf-5c58232f16d3\",\"type\":\"BasicTicker\"},{\"attributes\":{\"line_color\":\"#4daf4a\",\"line_width\":1.5,\"x\":{\"field\":\"x\"},\"y\":{\"field\":\"y\"}},\"id\":\"8815bf43-3fe0-40ac-9767-d329c9465938\",\"type\":\"Line\"},{\"attributes\":{\"plot\":{\"id\":\"5004d2cb-2ad8-46ff-a576-d3b896c6d573\",\"subtype\":\"Figure\",\"type\":\"Plot\"},\"ticker\":{\"id\":\"72b79dd3-08dc-40c2-9815-d083692ac449\",\"type\":\"BasicTicker\"}},\"id\":\"8cf6f721-7427-4c39-9cd4-56d38bfc8575\",\"type\":\"Grid\"},{\"attributes\":{\"source\":{\"id\":\"ce861046-cb59-4b2d-88bb-2fd8db3b3f3b\",\"type\":\"ColumnDataSource\"}},\"id\":\"8ae1716d-85a5-4c49-9261-5d259c64bcc8\",\"type\":\"CDSView\"},{\"attributes\":{},\"id\":\"3bcf5466-7e0e-4b05-b5ac-c1730b008083\",\"type\":\"PanTool\"},{\"attributes\":{\"bottom_units\":\"screen\",\"fill_alpha\":{\"value\":0.5},\"fill_color\":{\"value\":\"lightgrey\"},\"left_units\":\"screen\",\"level\":\"overlay\",\"line_alpha\":{\"value\":1.0},\"line_color\":{\"value\":\"black\"},\"line_dash\":[4,4],\"line_width\":{\"value\":2},\"plot\":null,\"render_mode\":\"css\",\"right_units\":\"screen\",\"top_units\":\"screen\"},\"id\":\"19a17bdd-06da-497c-a618-621ee2c13acb\",\"type\":\"BoxAnnotation\"},{\"attributes\":{\"data_source\":{\"id\":\"19f57a8c-c936-4287-847b-8a892a53706b\",\"type\":\"ColumnDataSource\"},\"glyph\":{\"id\":\"184bbbba-67a4-41b9-a79a-2b99ac104d02\",\"type\":\"Line\"},\"hover_glyph\":null,\"muted_glyph\":null,\"nonselection_glyph\":{\"id\":\"511dc304-821e-41aa-9124-63e9d61f4d83\",\"type\":\"Line\"},\"selection_glyph\":null,\"view\":{\"id\":\"e1712b60-db27-4d3b-a970-ba54f0e4d640\",\"type\":\"CDSView\"}},\"id\":\"c6415b7c-bdfe-47a7-b2af-21c2b68daf8c\",\"type\":\"GlyphRenderer\"},{\"attributes\":{},\"id\":\"b62881fd-f4e8-422e-b0cf-be79caeb90f6\",\"type\":\"WheelZoomTool\"},{\"attributes\":{\"overlay\":{\"id\":\"f5582cd4-114a-411c-a7fb-48a7e0b86b4d\",\"type\":\"BoxAnnotation\"}},\"id\":\"189d723e-4383-4f4d-a729-3786dc2da98c\",\"type\":\"BoxZoomTool\"},{\"attributes\":{\"overlay\":{\"id\":\"19a17bdd-06da-497c-a618-621ee2c13acb\",\"type\":\"BoxAnnotation\"}},\"id\":\"161a155f-4354-4159-83cf-a42069e042e0\",\"type\":\"BoxZoomTool\"},{\"attributes\":{\"callback\":null,\"data\":{\"x\":{\"__ndarray__\":\"0CYBcvU5UkCik9zf2GVBQF1VoNfLZ0BAVLxhiVXTPUDD1Wu1wJM6QFJyB025jjdAU6Aw5+b/NECYe1uuDfgyQB6bYtVTbTFAPxYSAF1HMEA00pYVm9QuQLolHbMzgC1AntlwirGsLECv+G9SjE4rQJH6ZLBp0ShAsLZQyPd/JkDyjgyf2PwkQLgyNGsrJyRAA13QbJD6I0C8hy0ilI4kQOVTXCEgcSZAovOGvZSGJUBVc/ZmUOIgQOf/6GHAyRlAcE8fAOBSFEDRur1U//gPQGFD9ZbokghAQsqHuSqSA0C91ci3W0UBQCtRQfvz7/4/kh8pntyB+j9t1/n+4TX1P773MAUjFfI/RgzR+CI28T8hBW8WHK7uPzVKjJfU8uk/0FPt4/z65T/wVYqzMPDhPz7K9C5CXuE/8+hSn9hY4T/9PPCkR6rhP1XsIC599OA/66X1nBCX3z/YbRM56QjcPz4dkSQc/dM/S7Wb8Fq00T+/yQdmX0vcP7TrGf476eM/WqNPJoWO7D9qOH1bcwDzP2bw+R5DQ/Y/RLSuQOQp+D8+aif8yAz5P0Wv6eBKRfk/0i2+IN4R+T/ik8QNFZr4PyS5UD5j/Pc/yJ68zXRG9z/2CHPL54H2P59SOhwKtPU/npkP8dfg9D8NlmVcdQz0P80ugRvuOvM/byxiAHN18j9USVZie8nxP5l9lNXYSPE/OB+F0UYP8T8Y7dsUCTHxP3EBgTHPcPE/bfx15p8S8T8FT+xkGtTuP6mdG7rkxuk/pboqTkHX5D/CrN8qGYngP7R4ZaL+htU/\",\"dtype\":\"float64\",\"shape\":[75]},\"y\":{\"__ndarray__\":\"GhExyth1ND/Sv8nbtpRIP2vylNV0PVE/aTum7souWD/At0SJ8fVgPw3Iuahxymc/MSNhhJWvcD/bTfBN02d3P2zb5nxnaoA/CD5h5MAGhz8NmeH1TyaQP+zrCsc9p5Y/LbKd76fGnz/bLW5ISEmmPww9YvTcQq8/JV2OstnstT8Er5Y7M8G+P0c+r3jqkcU/5h99k6ZBzj88bCIzFzjVP4enV8oyxN0//yH99nXg5D8qOpLLf0jtP5kqGJXUifQ/c9cS8kHP/D+/DpwzojQEQIEmwoanVwxA4lgXt9HgE0BSSZ2AJuIbQAMJih9jjiNA5q4l5INuK0AwTKYKRj0zQNv5fmq8/DpAaCJseHrtQkB/+zpwzoxKQM3MzMzMeFJAZmZmZmZqWEAAAAAAAFxeQM3MzMzMJmJAmpmZmZkfZUBmZmZmZhhoQDMzMzMzEWtAAAAAAAAKbkBmZmZmZoFwQM3MzMzM/XFAMzMzMzN6c0CamZmZmfZ0QAAAAAAAc3ZAZmZmZmbvd0DNzMzMzGt5QDMzMzMz6HpAmpmZmZlkfEAAAAAAAOF9QGZmZmZmXX9AZmZmZuZsgECamZmZGSuBQM3MzMxM6YFAAAAAAICngkAzMzMzs2WDQGZmZmbmI4RAmpmZmRnihEDNzMzMTKCFQAAAAACAXoZAMzMzM7Mch0BmZmZm5tqHQJqZmZkZmYhAzczMzExXiUAAAAAAgBWKQDMzMzOz04pAZmZmZuaRi0CamZmZGVCMQM3MzMxMDo1AAAAAAIDMjUAzMzMzs4qOQGZmZmbmSI9A\",\"dtype\":\"float64\",\"shape\":[75]}},\"selected\":{\"id\":\"0f0f4681-095d-42b5-9d5c-a2d0fedc1b96\",\"type\":\"Selection\"},\"selection_policy\":{\"id\":\"a223a286-a50e-4510-9a6e-fd7761f0e421\",\"type\":\"UnionRenderers\"}},\"id\":\"ce861046-cb59-4b2d-88bb-2fd8db3b3f3b\",\"type\":\"ColumnDataSource\"},{\"attributes\":{\"source\":{\"id\":\"523d7507-ef43-4bda-ac8b-4e8d0037cbc5\",\"type\":\"ColumnDataSource\"}},\"id\":\"384b9143-e8a9-410e-bc00-c95df50b9cf4\",\"type\":\"CDSView\"},{\"attributes\":{},\"id\":\"72b79dd3-08dc-40c2-9815-d083692ac449\",\"type\":\"BasicTicker\"},{\"attributes\":{\"axis_label\":\"pressure [mb]\",\"formatter\":{\"id\":\"1a86c1f3-6254-4ae9-95d4-27e2a515d48b\",\"type\":\"LogTickFormatter\"},\"plot\":{\"id\":\"5004d2cb-2ad8-46ff-a576-d3b896c6d573\",\"subtype\":\"Figure\",\"type\":\"Plot\"},\"ticker\":{\"id\":\"cd1c87f1-de83-4bc4-8dde-37d0d0a87917\",\"type\":\"LogTicker\"}},\"id\":\"2e8965cb-8f89-4fe5-912f-ad036079d480\",\"type\":\"LogAxis\"},{\"attributes\":{\"label\":{\"value\":\"CLIRAD (single-run)\"},\"renderers\":[{\"id\":\"4343a884-b19e-42d5-adab-ce2df0c9d392\",\"type\":\"GlyphRenderer\"}]},\"id\":\"6ad139b0-5198-428b-9250-51c2786b766b\",\"type\":\"LegendItem\"},{\"attributes\":{\"num_minor_ticks\":10},\"id\":\"cd1c87f1-de83-4bc4-8dde-37d0d0a87917\",\"type\":\"LogTicker\"},{\"attributes\":{\"fill_alpha\":{\"value\":0.7},\"fill_color\":{\"value\":\"#4daf4a\"},\"line_alpha\":{\"value\":0.7},\"line_color\":{\"value\":\"#4daf4a\"},\"x\":{\"field\":\"x\"},\"y\":{\"field\":\"y\"}},\"id\":\"8e2d4809-c479-4fee-b1a8-f7e93a60e7b5\",\"type\":\"Circle\"},{\"attributes\":{\"line_alpha\":0.1,\"line_color\":\"#1f77b4\",\"line_dash\":[6],\"line_width\":5,\"x\":{\"field\":\"x\"},\"y\":{\"field\":\"y\"}},\"id\":\"38c79dd6-ba0a-422b-8dfc-91dd3e01a027\",\"type\":\"Line\"},{\"attributes\":{},\"id\":\"85142c0b-16ac-47e8-a268-0af538c6c3e6\",\"type\":\"UnionRenderers\"},{\"attributes\":{\"callback\":null,\"data\":{\"x\":{\"__ndarray__\":\"e1uuvAlAckCUwm7ahXVxQBJliHIg0nJAofg01fdrc0BnMeV6S/xyQPCNKbBydnFA1ABwTasrbkDGbHy4S+JoQAU26Vaeg2RA3elAfP8UYkB3ftsgCYthQOMUPZxI/mFAi1D3tcqjYkCR9enHhWViQCmMmfBvwmBAPq6hs240XUCqmBoGQ4NZQB4t2eKIW1dA8MJwSBQiV0AmnirSlo9YQE43Qf7nq1tA/zHDHNgaW0DqtidVD3pVQHGldxkprk9AUpnu43gkSEAHyxymQc1DQHobXc4/2kBAAZt7Iv+MO0AdFjlAhs02QGjxDjD6sTNAl52+uKVPMkDkeYrROYQvQChvGZ6RfylAJuleSrlkJUBRoSZO6j0jQCxIq9bf4CFAJkXYK4mPHUCDXIap41wVQB0cNNetVRJAQ5CRAmHmEUAltinfiOASQJDjaYUxuhJAT/37chrmEUAe/2xWHWQQQPjaY372jQdA3ddgpLMwBUARHWZKMqoRQBcli4qqqxhASYuIUUJDIUCPhUVzYZwmQJ3xEB5asSpAeA0UyPNmLUBy+oXgBXwuQBo9xnC8cC5AzHfmWPQyLkDa5pNMf9YtQG4OXzdITi1AbioA9UeTLECBikPqOLcrQEDOfBKN2ipAUDtkGc7iKUDz1fYzU+AoQNJQOD6A0idASPc6hA3WJkAtIKTO6wQmQAENiCridyVAJgrkgolRJUBdS34MYaklQOhWQlY7GiZA/Xdjkqi/JUBMjaoIMsAjQCy3rjwzoSBA9oTQ+ZwPG0CYhHWmw6wVQPZ+LhAQIF7A\",\"dtype\":\"float64\",\"shape\":[75]},\"y\":{\"__ndarray__\":\"GhExyth1ND/Sv8nbtpRIP2vylNV0PVE/aTum7souWD/At0SJ8fVgPw3Iuahxymc/MSNhhJWvcD/bTfBN02d3P2zb5nxnaoA/CD5h5MAGhz8NmeH1TyaQP+zrCsc9p5Y/LbKd76fGnz/bLW5ISEmmPww9YvTcQq8/JV2OstnstT8Er5Y7M8G+P0c+r3jqkcU/5h99k6ZBzj88bCIzFzjVP4enV8oyxN0//yH99nXg5D8qOpLLf0jtP5kqGJXUifQ/c9cS8kHP/D+/DpwzojQEQIEmwoanVwxA4lgXt9HgE0BSSZ2AJuIbQAMJih9jjiNA5q4l5INuK0AwTKYKRj0zQNv5fmq8/DpAaCJseHrtQkB/+zpwzoxKQM3MzMzMeFJAZmZmZmZqWEAAAAAAAFxeQM3MzMzMJmJAmpmZmZkfZUBmZmZmZhhoQDMzMzMzEWtAAAAAAAAKbkBmZmZmZoFwQM3MzMzM/XFAMzMzMzN6c0CamZmZmfZ0QAAAAAAAc3ZAZmZmZmbvd0DNzMzMzGt5QDMzMzMz6HpAmpmZmZlkfEAAAAAAAOF9QGZmZmZmXX9AZmZmZuZsgECamZmZGSuBQM3MzMxM6YFAAAAAAICngkAzMzMzs2WDQGZmZmbmI4RAmpmZmRnihEDNzMzMTKCFQAAAAACAXoZAMzMzM7Mch0BmZmZm5tqHQJqZmZkZmYhAzczMzExXiUAAAAAAgBWKQDMzMzOz04pAZmZmZuaRi0CamZmZGVCMQM3MzMxMDo1AAAAAAIDMjUAzMzMzs4qOQGZmZmbmSI9A\",\"dtype\":\"float64\",\"shape\":[75]}},\"selected\":{\"id\":\"1cdcda17-2d7f-4cc8-8730-69942f241829\",\"type\":\"Selection\"},\"selection_policy\":{\"id\":\"f8e44aff-2b34-44d2-8175-843fd55876ae\",\"type\":\"UnionRenderers\"}},\"id\":\"1de2b7dd-3362-4479-ac2c-831c6586ee21\",\"type\":\"ColumnDataSource\"},{\"attributes\":{\"items\":[{\"id\":\"f325dbbf-e50c-4c10-a8a2-3f59198e05ac\",\"type\":\"LegendItem\"}],\"label_text_font_size\":{\"value\":\"8pt\"},\"location\":\"top_center\",\"orientation\":\"horizontal\",\"plot\":{\"id\":\"c28cbcfb-c41e-45f1-ad3c-d163216df869\",\"subtype\":\"Figure\",\"type\":\"Plot\"}},\"id\":\"ba01b06f-a047-44ce-817f-2e4dcea30621\",\"type\":\"Legend\"},{\"attributes\":{},\"id\":\"12970e66-4bba-4bfa-9fd7-e626e2af3fef\",\"type\":\"Selection\"},{\"attributes\":{},\"id\":\"c683816b-56ac-4f76-88e7-59249fc264e2\",\"type\":\"BasicTicker\"},{\"attributes\":{\"axis_label\":\"cooling rate [K/day]\",\"formatter\":{\"id\":\"5292ab8d-f738-4c7e-a668-7c605edd8575\",\"type\":\"BasicTickFormatter\"},\"plot\":{\"id\":\"c28cbcfb-c41e-45f1-ad3c-d163216df869\",\"subtype\":\"Figure\",\"type\":\"Plot\"},\"ticker\":{\"id\":\"c683816b-56ac-4f76-88e7-59249fc264e2\",\"type\":\"BasicTicker\"}},\"id\":\"171c558b-5ec2-486a-a4ae-7ae073c22cf0\",\"type\":\"LinearAxis\"},{\"attributes\":{\"callback\":null,\"end\":150.564930126634,\"start\":3.028544283586},\"id\":\"2af9df97-b14c-4ea1-befb-5834d4fb98d5\",\"type\":\"Range1d\"},{\"attributes\":{\"active_drag\":\"auto\",\"active_inspect\":\"auto\",\"active_scroll\":\"auto\",\"active_tap\":\"auto\",\"tools\":[{\"id\":\"3bcf5466-7e0e-4b05-b5ac-c1730b008083\",\"type\":\"PanTool\"},{\"id\":\"b62881fd-f4e8-422e-b0cf-be79caeb90f6\",\"type\":\"WheelZoomTool\"},{\"id\":\"189d723e-4383-4f4d-a729-3786dc2da98c\",\"type\":\"BoxZoomTool\"},{\"id\":\"bbe21863-ae65-4ae5-94e5-010b75ca2f85\",\"type\":\"SaveTool\"},{\"id\":\"78b45271-b9c8-42c0-8bb3-dd2437d2a57c\",\"type\":\"ResetTool\"},{\"id\":\"d8ffa1c6-1990-4bde-90aa-f9e5c24cc25f\",\"type\":\"HelpTool\"}]},\"id\":\"9b1adf03-dfc4-4a16-abac-a0f5af452338\",\"type\":\"Toolbar\"},{\"attributes\":{\"axis_label\":\"pressure [mb]\",\"formatter\":{\"id\":\"d6dbdca1-7c38-49f0-a1bb-a9c094009d6b\",\"type\":\"LogTickFormatter\"},\"plot\":{\"id\":\"c28cbcfb-c41e-45f1-ad3c-d163216df869\",\"subtype\":\"Figure\",\"type\":\"Plot\"},\"ticker\":{\"id\":\"bdaab436-fd78-4d57-a9c6-e31397153ff4\",\"type\":\"LogTicker\"}},\"id\":\"2604a1cb-9540-47e7-acde-659dc629794b\",\"type\":\"LogAxis\"},{\"attributes\":{\"callback\":null,\"end\":1.7044518440189,\"start\":-11.049090731128901},\"id\":\"c914bcdf-714c-45cd-b020-c3626f967e3c\",\"type\":\"Range1d\"},{\"attributes\":{},\"id\":\"a3508499-1fbc-4484-9925-e9e6f88d3cb1\",\"type\":\"ResetTool\"},{\"attributes\":{\"callback\":null,\"data\":{\"x\":{\"__ndarray__\":\"UTI5tTOWQEA6qpog6o48QIeiQJ/IWz5AIO9VKxP2PkDWicvxCgg+QNjYJaq3ijtAdCZtqu7ZN0DMK9fbZtIzQMGpDyTvgDBAwoanV8pCLUDgEKrU7FEsQBU5RNyc2ixA2SssuB+4LUCFZAETuD0tQJCF6BA4oipAg0nx8QlJJ0DvHqD7cnYkQGwldJfE0SJAaVDZVe2jIkBEIiNWNbsjQAfqlEc3KiZADmlU4GSrJUA+eO3ShichQPQDsjJ1YhlARqXHpeBnE0DWZlL5jbUPQLq5nSIsvwpATD1m++vQBUCy3Zj5aScCQMl9YejHdf8/dFyN7EoL/T9Sye8jbdn4P11n6EQnMPQ/lk1vNaEf8T9iAitF+sbuP4u1S10qXew/oyLK7jR/5z+71pyL2CrhP9gHYYeU090/04fLfbQw3T9MK66/X6veP7JeFFaNUt4/ntyEtRDo3D9WlLfI4mPaP4styo2e8tI/v8QOGUUF0T9ByMOMOkTcP/NercGYwOM/FmX8HJu06z+h2uBE9CvyPzVROkfTb/U/6QJNOoCU9z9CkZMuonL4P43209qPb/g/BkQtcvQ9+D/Khtrb0u/3P7GPqRZsfvc/Y4oo3OHl9j9dq5il+DP2P1TjpZvEgPU/634EtGO59D/hNI6iGOrzP2WzNAHQEvM/beaQ1EJJ8j+cTNwqiKHxP1TmQdVDL/E/wzjJoCQO8T8A2G/cGFHxPxAo9iv4qPE/HxFTIole8T9uvccV7ofvP9t1RsYwiOo/q3E+jkmT5T+A5MbCSkThP1xYN94d2SXA\",\"dtype\":\"float64\",\"shape\":[75]},\"y\":{\"__ndarray__\":\"GhExyth1ND/Sv8nbtpRIP2vylNV0PVE/aTum7souWD/At0SJ8fVgPw3Iuahxymc/MSNhhJWvcD/bTfBN02d3P2zb5nxnaoA/CD5h5MAGhz8NmeH1TyaQP+zrCsc9p5Y/LbKd76fGnz/bLW5ISEmmPww9YvTcQq8/JV2OstnstT8Er5Y7M8G+P0c+r3jqkcU/5h99k6ZBzj88bCIzFzjVP4enV8oyxN0//yH99nXg5D8qOpLLf0jtP5kqGJXUifQ/c9cS8kHP/D+/DpwzojQEQIEmwoanVwxA4lgXt9HgE0BSSZ2AJuIbQAMJih9jjiNA5q4l5INuK0AwTKYKRj0zQNv5fmq8/DpAaCJseHrtQkB/+zpwzoxKQM3MzMzMeFJAZmZmZmZqWEAAAAAAAFxeQM3MzMzMJmJAmpmZmZkfZUBmZmZmZhhoQDMzMzMzEWtAAAAAAAAKbkBmZmZmZoFwQM3MzMzM/XFAMzMzMzN6c0CamZmZmfZ0QAAAAAAAc3ZAZmZmZmbvd0DNzMzMzGt5QDMzMzMz6HpAmpmZmZlkfEAAAAAAAOF9QGZmZmZmXX9AZmZmZuZsgECamZmZGSuBQM3MzMxM6YFAAAAAAICngkAzMzMzs2WDQGZmZmbmI4RAmpmZmRnihEDNzMzMTKCFQAAAAACAXoZAMzMzM7Mch0BmZmZm5tqHQJqZmZkZmYhAzczMzExXiUAAAAAAgBWKQDMzMzOz04pAZmZmZuaRi0CamZmZGVCMQM3MzMxMDo1AAAAAAIDMjUAzMzMzs4qOQGZmZmbmSI9A\",\"dtype\":\"float64\",\"shape\":[75]}},\"selected\":{\"id\":\"12970e66-4bba-4bfa-9fd7-e626e2af3fef\",\"type\":\"Selection\"},\"selection_policy\":{\"id\":\"85142c0b-16ac-47e8-a268-0af538c6c3e6\",\"type\":\"UnionRenderers\"}},\"id\":\"a7e70846-8e4a-4e26-97de-170fbfe28995\",\"type\":\"ColumnDataSource\"},{\"attributes\":{\"source\":{\"id\":\"8787f252-b1e6-451d-bdef-004de5654fe0\",\"type\":\"ColumnDataSource\"}},\"id\":\"623d9649-86fc-41bb-84f9-82f861a61103\",\"type\":\"CDSView\"},{\"attributes\":{\"bottom_units\":\"screen\",\"fill_alpha\":{\"value\":0.5},\"fill_color\":{\"value\":\"lightgrey\"},\"left_units\":\"screen\",\"level\":\"overlay\",\"line_alpha\":{\"value\":1.0},\"line_color\":{\"value\":\"black\"},\"line_dash\":[4,4],\"line_width\":{\"value\":2},\"plot\":null,\"render_mode\":\"css\",\"right_units\":\"screen\",\"top_units\":\"screen\"},\"id\":\"56c5d39c-92bf-4403-a1ed-ace0eeba158c\",\"type\":\"BoxAnnotation\"},{\"attributes\":{\"fill_alpha\":{\"value\":0.7},\"fill_color\":{\"value\":\"#984ea3\"},\"line_alpha\":{\"value\":0.7},\"line_color\":{\"value\":\"#984ea3\"},\"x\":{\"field\":\"x\"},\"y\":{\"field\":\"y\"}},\"id\":\"b8488b8c-b138-4337-9c43-3cfbd849192e\",\"type\":\"Circle\"},{\"attributes\":{},\"id\":\"37ea25cc-a82a-47b3-b793-f942339af3c8\",\"type\":\"SaveTool\"},{\"attributes\":{\"above\":[{\"id\":\"8c64e954-4970-4390-b526-3437fcdf4ec7\",\"type\":\"Legend\"}],\"below\":[{\"id\":\"1af76ecb-9d9a-4b54-8bc9-d9e6d2503a29\",\"type\":\"LinearAxis\"}],\"left\":[{\"id\":\"4325f9ba-3b9e-4ffb-8640-624cf41316e7\",\"type\":\"LinearAxis\"}],\"plot_width\":300,\"renderers\":[{\"id\":\"1af76ecb-9d9a-4b54-8bc9-d9e6d2503a29\",\"type\":\"LinearAxis\"},{\"id\":\"040a10f8-bff7-4ac5-ad70-7fa283739b13\",\"type\":\"Grid\"},{\"id\":\"4325f9ba-3b9e-4ffb-8640-624cf41316e7\",\"type\":\"LinearAxis\"},{\"id\":\"98604a14-7db3-4c1b-a238-ff3c486727ed\",\"type\":\"Grid\"},{\"id\":\"f5582cd4-114a-411c-a7fb-48a7e0b86b4d\",\"type\":\"BoxAnnotation\"},{\"id\":\"c6415b7c-bdfe-47a7-b2af-21c2b68daf8c\",\"type\":\"GlyphRenderer\"},{\"id\":\"49c3bfae-1882-49fb-ba06-098faf2c2c37\",\"type\":\"GlyphRenderer\"},{\"id\":\"a2382edf-6e7a-4faf-acce-83b61722068e\",\"type\":\"GlyphRenderer\"},{\"id\":\"8c64e954-4970-4390-b526-3437fcdf4ec7\",\"type\":\"Legend\"}],\"title\":{\"id\":\"a4187b7e-8f69-45a0-8261-a0d648b897a5\",\"type\":\"Title\"},\"toolbar\":{\"id\":\"9b1adf03-dfc4-4a16-abac-a0f5af452338\",\"type\":\"Toolbar\"},\"toolbar_location\":null,\"x_range\":{\"id\":\"c914bcdf-714c-45cd-b020-c3626f967e3c\",\"type\":\"Range1d\"},\"x_scale\":{\"id\":\"2175e0ba-6592-4027-977d-da4834301ff6\",\"type\":\"LinearScale\"},\"y_range\":{\"id\":\"dfa6f461-d352-4052-b6f5-61774c3dafcd\",\"type\":\"Range1d\"},\"y_scale\":{\"id\":\"a07e44ac-e880-4ad9-adf7-1badca584686\",\"type\":\"LinearScale\"}},\"id\":\"902c429e-29ee-4219-8f48-e7f6c480799f\",\"subtype\":\"Figure\",\"type\":\"Plot\"},{\"attributes\":{\"line_alpha\":0.8,\"line_color\":\"#984ea3\",\"line_width\":1.5,\"x\":{\"field\":\"x\"},\"y\":{\"field\":\"y\"}},\"id\":\"8c3bbd83-f4bd-44c0-a84e-4a1047a0595d\",\"type\":\"Line\"},{\"attributes\":{},\"id\":\"b800261c-af63-46f4-a70b-a2f66d1bf282\",\"type\":\"WheelZoomTool\"},{\"attributes\":{},\"id\":\"2175e0ba-6592-4027-977d-da4834301ff6\",\"type\":\"LinearScale\"},{\"attributes\":{},\"id\":\"dc5e9ebc-6913-4f16-a478-03cb49daba3d\",\"type\":\"LogScale\"},{\"attributes\":{\"plot\":{\"id\":\"c28cbcfb-c41e-45f1-ad3c-d163216df869\",\"subtype\":\"Figure\",\"type\":\"Plot\"},\"ticker\":{\"id\":\"c683816b-56ac-4f76-88e7-59249fc264e2\",\"type\":\"BasicTicker\"}},\"id\":\"4fbd284e-da08-4f40-bfd1-0e0ba184226b\",\"type\":\"Grid\"},{\"attributes\":{},\"id\":\"3dc64fc5-aebd-493d-9803-15c8aba6f388\",\"type\":\"LinearScale\"},{\"attributes\":{},\"id\":\"f159326c-521e-42ed-92ad-9585990899a6\",\"type\":\"HelpTool\"},{\"attributes\":{\"callback\":null,\"data\":{\"x\":{\"__ndarray__\":\"UTI5tTOWQEA6qpog6o48QIeiQJ/IWz5AIO9VKxP2PkDWicvxCgg+QNjYJaq3ijtAdCZtqu7ZN0DMK9fbZtIzQMGpDyTvgDBAwoanV8pCLUDgEKrU7FEsQBU5RNyc2ixA2SssuB+4LUCFZAETuD0tQJCF6BA4oipAg0nx8QlJJ0DvHqD7cnYkQGwldJfE0SJAaVDZVe2jIkBEIiNWNbsjQAfqlEc3KiZADmlU4GSrJUA+eO3ShichQPQDsjJ1YhlARqXHpeBnE0DWZlL5jbUPQLq5nSIsvwpATD1m++vQBUCy3Zj5aScCQMl9YejHdf8/dFyN7EoL/T9Sye8jbdn4P11n6EQnMPQ/lk1vNaEf8T9iAitF+sbuP4u1S10qXew/oyLK7jR/5z+71pyL2CrhP9gHYYeU090/04fLfbQw3T9MK66/X6veP7JeFFaNUt4/ntyEtRDo3D9WlLfI4mPaP4styo2e8tI/v8QOGUUF0T9ByMOMOkTcP/NercGYwOM/FmX8HJu06z+h2uBE9CvyPzVROkfTb/U/6QJNOoCU9z9CkZMuonL4P43209qPb/g/BkQtcvQ9+D/Khtrb0u/3P7GPqRZsfvc/Y4oo3OHl9j9dq5il+DP2P1TjpZvEgPU/634EtGO59D/hNI6iGOrzP2WzNAHQEvM/beaQ1EJJ8j+cTNwqiKHxP1TmQdVDL/E/wzjJoCQO8T8A2G/cGFHxPxAo9iv4qPE/HxFTIole8T9uvccV7ofvP9t1RsYwiOo/q3E+jkmT5T+A5MbCSkThP1xYN94d2SXA\",\"dtype\":\"float64\",\"shape\":[75]},\"y\":{\"__ndarray__\":\"GhExyth1ND/Sv8nbtpRIP2vylNV0PVE/aTum7souWD/At0SJ8fVgPw3Iuahxymc/MSNhhJWvcD/bTfBN02d3P2zb5nxnaoA/CD5h5MAGhz8NmeH1TyaQP+zrCsc9p5Y/LbKd76fGnz/bLW5ISEmmPww9YvTcQq8/JV2OstnstT8Er5Y7M8G+P0c+r3jqkcU/5h99k6ZBzj88bCIzFzjVP4enV8oyxN0//yH99nXg5D8qOpLLf0jtP5kqGJXUifQ/c9cS8kHP/D+/DpwzojQEQIEmwoanVwxA4lgXt9HgE0BSSZ2AJuIbQAMJih9jjiNA5q4l5INuK0AwTKYKRj0zQNv5fmq8/DpAaCJseHrtQkB/+zpwzoxKQM3MzMzMeFJAZmZmZmZqWEAAAAAAAFxeQM3MzMzMJmJAmpmZmZkfZUBmZmZmZhhoQDMzMzMzEWtAAAAAAAAKbkBmZmZmZoFwQM3MzMzM/XFAMzMzMzN6c0CamZmZmfZ0QAAAAAAAc3ZAZmZmZmbvd0DNzMzMzGt5QDMzMzMz6HpAmpmZmZlkfEAAAAAAAOF9QGZmZmZmXX9AZmZmZuZsgECamZmZGSuBQM3MzMxM6YFAAAAAAICngkAzMzMzs2WDQGZmZmbmI4RAmpmZmRnihEDNzMzMTKCFQAAAAACAXoZAMzMzM7Mch0BmZmZm5tqHQJqZmZkZmYhAzczMzExXiUAAAAAAgBWKQDMzMzOz04pAZmZmZuaRi0CamZmZGVCMQM3MzMxMDo1AAAAAAIDMjUAzMzMzs4qOQGZmZmbmSI9A\",\"dtype\":\"float64\",\"shape\":[75]}},\"selected\":{\"id\":\"1cb25c89-f80b-4841-bd44-74f25a19120b\",\"type\":\"Selection\"},\"selection_policy\":{\"id\":\"3de516e2-1c24-45b9-97d8-d1159febf309\",\"type\":\"UnionRenderers\"}},\"id\":\"19f57a8c-c936-4287-847b-8a892a53706b\",\"type\":\"ColumnDataSource\"},{\"attributes\":{},\"id\":\"c492465a-8c79-418d-96d8-fce3ee45c63b\",\"type\":\"PanTool\"},{\"attributes\":{\"items\":[{\"id\":\"972620f6-0e39-49bb-831c-7a817f4ff26c\",\"type\":\"LegendItem\"},{\"id\":\"d4dd6afd-01f1-4893-9c6e-82102905ca74\",\"type\":\"LegendItem\"}],\"label_text_font_size\":{\"value\":\"8pt\"},\"location\":\"top_center\",\"orientation\":\"horizontal\",\"plot\":{\"id\":\"902c429e-29ee-4219-8f48-e7f6c480799f\",\"subtype\":\"Figure\",\"type\":\"Plot\"}},\"id\":\"8c64e954-4970-4390-b526-3437fcdf4ec7\",\"type\":\"Legend\"},{\"attributes\":{\"callback\":null,\"end\":0.01,\"start\":1020},\"id\":\"c431f725-052b-40d4-a783-b467c1517821\",\"type\":\"Range1d\"},{\"attributes\":{\"source\":{\"id\":\"5bc75bf5-83c0-4527-8d28-c9a1c5793838\",\"type\":\"ColumnDataSource\"}},\"id\":\"18ec3fb3-c063-4248-ac8c-a43cc8921cfa\",\"type\":\"CDSView\"},{\"attributes\":{\"active_drag\":\"auto\",\"active_inspect\":\"auto\",\"active_scroll\":\"auto\",\"active_tap\":\"auto\",\"tools\":[{\"id\":\"c492465a-8c79-418d-96d8-fce3ee45c63b\",\"type\":\"PanTool\"},{\"id\":\"b800261c-af63-46f4-a70b-a2f66d1bf282\",\"type\":\"WheelZoomTool\"},{\"id\":\"4a01ccb4-6628-4768-a3d4-3cacd00da023\",\"type\":\"BoxZoomTool\"},{\"id\":\"37ea25cc-a82a-47b3-b793-f942339af3c8\",\"type\":\"SaveTool\"},{\"id\":\"a3508499-1fbc-4484-9925-e9e6f88d3cb1\",\"type\":\"ResetTool\"},{\"id\":\"f159326c-521e-42ed-92ad-9585990899a6\",\"type\":\"HelpTool\"}]},\"id\":\"c72a3f99-9a47-4d69-930b-e551ef204a8b\",\"type\":\"Toolbar\"},{\"attributes\":{\"overlay\":{\"id\":\"56c5d39c-92bf-4403-a1ed-ace0eeba158c\",\"type\":\"BoxAnnotation\"}},\"id\":\"4a01ccb4-6628-4768-a3d4-3cacd00da023\",\"type\":\"BoxZoomTool\"},{\"attributes\":{},\"id\":\"1cb25c89-f80b-4841-bd44-74f25a19120b\",\"type\":\"Selection\"},{\"attributes\":{\"line_alpha\":0.1,\"line_color\":\"#1f77b4\",\"line_width\":1.5,\"x\":{\"field\":\"x\"},\"y\":{\"field\":\"y\"}},\"id\":\"d2cc8b88-7ed0-42e8-8d92-d07ab4c1e1dc\",\"type\":\"Line\"},{\"attributes\":{\"fill_alpha\":{\"value\":0.1},\"fill_color\":{\"value\":\"#1f77b4\"},\"line_alpha\":{\"value\":0.1},\"line_color\":{\"value\":\"#1f77b4\"},\"x\":{\"field\":\"x\"},\"y\":{\"field\":\"y\"}},\"id\":\"fe107add-f68a-4ea1-8758-48ae0649c583\",\"type\":\"Circle\"},{\"attributes\":{\"num_minor_ticks\":10},\"id\":\"bdaab436-fd78-4d57-a9c6-e31397153ff4\",\"type\":\"LogTicker\"},{\"attributes\":{\"data_source\":{\"id\":\"8787f252-b1e6-451d-bdef-004de5654fe0\",\"type\":\"ColumnDataSource\"},\"glyph\":{\"id\":\"b8488b8c-b138-4337-9c43-3cfbd849192e\",\"type\":\"Circle\"},\"hover_glyph\":null,\"muted_glyph\":null,\"nonselection_glyph\":{\"id\":\"fe107add-f68a-4ea1-8758-48ae0649c583\",\"type\":\"Circle\"},\"selection_glyph\":null,\"view\":{\"id\":\"623d9649-86fc-41bb-84f9-82f861a61103\",\"type\":\"CDSView\"}},\"id\":\"c6b34046-0494-416e-b2cf-5c30566bccb4\",\"type\":\"GlyphRenderer\"},{\"attributes\":{\"dimension\":1,\"plot\":{\"id\":\"c28cbcfb-c41e-45f1-ad3c-d163216df869\",\"subtype\":\"Figure\",\"type\":\"Plot\"},\"ticker\":{\"id\":\"bdaab436-fd78-4d57-a9c6-e31397153ff4\",\"type\":\"LogTicker\"}},\"id\":\"80455feb-d23a-4c77-8abc-c6a5c4081775\",\"type\":\"Grid\"},{\"attributes\":{\"callback\":null,\"end\":0.01,\"start\":1020},\"id\":\"d836d2cd-ff4a-48b0-a0d8-25e35eca26c2\",\"type\":\"Range1d\"},{\"attributes\":{\"callback\":null,\"data\":{\"x\":{\"__ndarray__\":\"e1uuvAlAckCUwm7ahXVxQBJliHIg0nJAofg01fdrc0BnMeV6S/xyQPCNKbBydnFA1ABwTasrbkDGbHy4S+JoQAU26Vaeg2RA3elAfP8UYkB3ftsgCYthQOMUPZxI/mFAi1D3tcqjYkCR9enHhWViQCmMmfBvwmBAPq6hs240XUCqmBoGQ4NZQB4t2eKIW1dA8MJwSBQiV0AmnirSlo9YQE43Qf7nq1tA/zHDHNgaW0DqtidVD3pVQHGldxkprk9AUpnu43gkSEAHyxymQc1DQHobXc4/2kBAAZt7Iv+MO0AdFjlAhs02QGjxDjD6sTNAl52+uKVPMkDkeYrROYQvQChvGZ6RfylAJuleSrlkJUBRoSZO6j0jQCxIq9bf4CFAJkXYK4mPHUCDXIap41wVQB0cNNetVRJAQ5CRAmHmEUAltinfiOASQJDjaYUxuhJAT/37chrmEUAe/2xWHWQQQPjaY372jQdA3ddgpLMwBUARHWZKMqoRQBcli4qqqxhASYuIUUJDIUCPhUVzYZwmQJ3xEB5asSpAeA0UyPNmLUBy+oXgBXwuQBo9xnC8cC5AzHfmWPQyLkDa5pNMf9YtQG4OXzdITi1AbioA9UeTLECBikPqOLcrQEDOfBKN2ipAUDtkGc7iKUDz1fYzU+AoQNJQOD6A0idASPc6hA3WJkAtIKTO6wQmQAENiCridyVAJgrkgolRJUBdS34MYaklQOhWQlY7GiZA/Xdjkqi/JUBMjaoIMsAjQCy3rjwzoSBA9oTQ+ZwPG0CYhHWmw6wVQPZ+LhAQIF7A\",\"dtype\":\"float64\",\"shape\":[75]},\"y\":{\"__ndarray__\":\"GhExyth1ND/Sv8nbtpRIP2vylNV0PVE/aTum7souWD/At0SJ8fVgPw3Iuahxymc/MSNhhJWvcD/bTfBN02d3P2zb5nxnaoA/CD5h5MAGhz8NmeH1TyaQP+zrCsc9p5Y/LbKd76fGnz/bLW5ISEmmPww9YvTcQq8/JV2OstnstT8Er5Y7M8G+P0c+r3jqkcU/5h99k6ZBzj88bCIzFzjVP4enV8oyxN0//yH99nXg5D8qOpLLf0jtP5kqGJXUifQ/c9cS8kHP/D+/DpwzojQEQIEmwoanVwxA4lgXt9HgE0BSSZ2AJuIbQAMJih9jjiNA5q4l5INuK0AwTKYKRj0zQNv5fmq8/DpAaCJseHrtQkB/+zpwzoxKQM3MzMzMeFJAZmZmZmZqWEAAAAAAAFxeQM3MzMzMJmJAmpmZmZkfZUBmZmZmZhhoQDMzMzMzEWtAAAAAAAAKbkBmZmZmZoFwQM3MzMzM/XFAMzMzMzN6c0CamZmZmfZ0QAAAAAAAc3ZAZmZmZmbvd0DNzMzMzGt5QDMzMzMz6HpAmpmZmZlkfEAAAAAAAOF9QGZmZmZmXX9AZmZmZuZsgECamZmZGSuBQM3MzMxM6YFAAAAAAICngkAzMzMzs2WDQGZmZmbmI4RAmpmZmRnihEDNzMzMTKCFQAAAAACAXoZAMzMzM7Mch0BmZmZm5tqHQJqZmZkZmYhAzczMzExXiUAAAAAAgBWKQDMzMzOz04pAZmZmZuaRi0CamZmZGVCMQM3MzMxMDo1AAAAAAIDMjUAzMzMzs4qOQGZmZmbmSI9A\",\"dtype\":\"float64\",\"shape\":[75]}},\"selected\":{\"id\":\"f56c76a1-1bab-48b3-a10f-17e295aaebc5\",\"type\":\"Selection\"},\"selection_policy\":{\"id\":\"e3395b74-c4e3-421e-a737-f01363850f78\",\"type\":\"UnionRenderers\"}},\"id\":\"8787f252-b1e6-451d-bdef-004de5654fe0\",\"type\":\"ColumnDataSource\"},{\"attributes\":{},\"id\":\"a223a286-a50e-4510-9a6e-fd7761f0e421\",\"type\":\"UnionRenderers\"},{\"attributes\":{\"ticker\":null},\"id\":\"d6dbdca1-7c38-49f0-a1bb-a9c094009d6b\",\"type\":\"LogTickFormatter\"},{\"attributes\":{\"tools\":[{\"id\":\"3bcf5466-7e0e-4b05-b5ac-c1730b008083\",\"type\":\"PanTool\"},{\"id\":\"b62881fd-f4e8-422e-b0cf-be79caeb90f6\",\"type\":\"WheelZoomTool\"},{\"id\":\"189d723e-4383-4f4d-a729-3786dc2da98c\",\"type\":\"BoxZoomTool\"},{\"id\":\"bbe21863-ae65-4ae5-94e5-010b75ca2f85\",\"type\":\"SaveTool\"},{\"id\":\"78b45271-b9c8-42c0-8bb3-dd2437d2a57c\",\"type\":\"ResetTool\"},{\"id\":\"d8ffa1c6-1990-4bde-90aa-f9e5c24cc25f\",\"type\":\"HelpTool\"},{\"id\":\"72194fc3-2477-4b75-a85e-4da8d97c8228\",\"type\":\"PanTool\"},{\"id\":\"c0d74944-3855-4171-b873-e943fff950a6\",\"type\":\"WheelZoomTool\"},{\"id\":\"161a155f-4354-4159-83cf-a42069e042e0\",\"type\":\"BoxZoomTool\"},{\"id\":\"e5e8ec15-2fe5-4c45-bc76-820a40b9a798\",\"type\":\"SaveTool\"},{\"id\":\"72df2b9d-d2c7-4e7a-832e-dfd3fb9aee70\",\"type\":\"ResetTool\"},{\"id\":\"505ce3b4-83d8-4153-9280-c8468f3879c4\",\"type\":\"HelpTool\"},{\"id\":\"c492465a-8c79-418d-96d8-fce3ee45c63b\",\"type\":\"PanTool\"},{\"id\":\"b800261c-af63-46f4-a70b-a2f66d1bf282\",\"type\":\"WheelZoomTool\"},{\"id\":\"4a01ccb4-6628-4768-a3d4-3cacd00da023\",\"type\":\"BoxZoomTool\"},{\"id\":\"37ea25cc-a82a-47b3-b793-f942339af3c8\",\"type\":\"SaveTool\"},{\"id\":\"a3508499-1fbc-4484-9925-e9e6f88d3cb1\",\"type\":\"ResetTool\"},{\"id\":\"f159326c-521e-42ed-92ad-9585990899a6\",\"type\":\"HelpTool\"}]},\"id\":\"1109c4cb-07b1-4eb9-a414-a5b1222eed72\",\"type\":\"ProxyToolbar\"},{\"attributes\":{\"children\":[{\"id\":\"28142f69-5398-4a11-bdc4-7232f3e8979c\",\"type\":\"Row\"}]},\"id\":\"029df44b-0412-4092-8f21-4e51c806fc8a\",\"type\":\"Column\"},{\"attributes\":{\"data_source\":{\"id\":\"f396c228-f2c2-4b10-ba2e-fa76ea64faeb\",\"type\":\"ColumnDataSource\"},\"glyph\":{\"id\":\"5abb2c4e-d898-4a00-b5e5-658f1f191d75\",\"type\":\"Circle\"},\"hover_glyph\":null,\"muted_glyph\":null,\"nonselection_glyph\":{\"id\":\"1641d8fb-9656-49dd-8e69-7a63f444875f\",\"type\":\"Circle\"},\"selection_glyph\":null,\"view\":{\"id\":\"5dae7fc5-a5c9-4a11-9613-f1f10442f3e8\",\"type\":\"CDSView\"}},\"id\":\"71175b4a-355c-4952-8f48-b34b29a4ef2c\",\"type\":\"GlyphRenderer\"},{\"attributes\":{\"toolbar\":{\"id\":\"1109c4cb-07b1-4eb9-a414-a5b1222eed72\",\"type\":\"ProxyToolbar\"},\"toolbar_location\":\"above\"},\"id\":\"ca89dc62-abfb-4515-8c49-2f6809dc7254\",\"type\":\"ToolbarBox\"},{\"attributes\":{},\"id\":\"a14cee52-2eda-48a5-ae93-07298aaf1acb\",\"type\":\"BasicTickFormatter\"},{\"attributes\":{},\"id\":\"45664d82-02fa-43b8-b024-8822a3ac7360\",\"type\":\"BasicTickFormatter\"},{\"attributes\":{},\"id\":\"10babc61-faab-4964-a624-0e83401e16e0\",\"type\":\"Selection\"},{\"attributes\":{},\"id\":\"3de516e2-1c24-45b9-97d8-d1159febf309\",\"type\":\"UnionRenderers\"},{\"attributes\":{\"data_source\":{\"id\":\"5bc75bf5-83c0-4527-8d28-c9a1c5793838\",\"type\":\"ColumnDataSource\"},\"glyph\":{\"id\":\"fb068322-9e03-47be-9484-e7af5ef47c20\",\"type\":\"Line\"},\"hover_glyph\":null,\"muted_glyph\":null,\"nonselection_glyph\":{\"id\":\"d28991e6-af7f-4b21-be11-1cadda009643\",\"type\":\"Line\"},\"selection_glyph\":null,\"view\":{\"id\":\"18ec3fb3-c063-4248-ac8c-a43cc8921cfa\",\"type\":\"CDSView\"}},\"id\":\"a074a557-7bee-4065-9aa6-16986a548c3a\",\"type\":\"GlyphRenderer\"},{\"attributes\":{},\"id\":\"f8e44aff-2b34-44d2-8175-843fd55876ae\",\"type\":\"UnionRenderers\"},{\"attributes\":{},\"id\":\"eb5d695e-4c19-4ae2-8df4-4d0ba9c4512c\",\"type\":\"BasicTickFormatter\"},{\"attributes\":{\"callback\":null,\"data\":{\"x\":{\"__ndarray__\":\"0CYBcvU5UkCik9zf2GVBQF1VoNfLZ0BAVLxhiVXTPUDD1Wu1wJM6QFJyB025jjdAU6Aw5+b/NECYe1uuDfgyQB6bYtVTbTFAPxYSAF1HMEA00pYVm9QuQLolHbMzgC1AntlwirGsLECv+G9SjE4rQJH6ZLBp0ShAsLZQyPd/JkDyjgyf2PwkQLgyNGsrJyRAA13QbJD6I0C8hy0ilI4kQOVTXCEgcSZAovOGvZSGJUBVc/ZmUOIgQOf/6GHAyRlAcE8fAOBSFEDRur1U//gPQGFD9ZbokghAQsqHuSqSA0C91ci3W0UBQCtRQfvz7/4/kh8pntyB+j9t1/n+4TX1P773MAUjFfI/RgzR+CI28T8hBW8WHK7uPzVKjJfU8uk/0FPt4/z65T/wVYqzMPDhPz7K9C5CXuE/8+hSn9hY4T/9PPCkR6rhP1XsIC599OA/66X1nBCX3z/YbRM56QjcPz4dkSQc/dM/S7Wb8Fq00T+/yQdmX0vcP7TrGf476eM/WqNPJoWO7D9qOH1bcwDzP2bw+R5DQ/Y/RLSuQOQp+D8+aif8yAz5P0Wv6eBKRfk/0i2+IN4R+T/ik8QNFZr4PyS5UD5j/Pc/yJ68zXRG9z/2CHPL54H2P59SOhwKtPU/npkP8dfg9D8NlmVcdQz0P80ugRvuOvM/byxiAHN18j9USVZie8nxP5l9lNXYSPE/OB+F0UYP8T8Y7dsUCTHxP3EBgTHPcPE/bfx15p8S8T8FT+xkGtTuP6mdG7rkxuk/pboqTkHX5D/CrN8qGYngP7R4ZaL+htU/\",\"dtype\":\"float64\",\"shape\":[75]},\"y\":{\"__ndarray__\":\"GhExyth1ND/Sv8nbtpRIP2vylNV0PVE/aTum7souWD/At0SJ8fVgPw3Iuahxymc/MSNhhJWvcD/bTfBN02d3P2zb5nxnaoA/CD5h5MAGhz8NmeH1TyaQP+zrCsc9p5Y/LbKd76fGnz/bLW5ISEmmPww9YvTcQq8/JV2OstnstT8Er5Y7M8G+P0c+r3jqkcU/5h99k6ZBzj88bCIzFzjVP4enV8oyxN0//yH99nXg5D8qOpLLf0jtP5kqGJXUifQ/c9cS8kHP/D+/DpwzojQEQIEmwoanVwxA4lgXt9HgE0BSSZ2AJuIbQAMJih9jjiNA5q4l5INuK0AwTKYKRj0zQNv5fmq8/DpAaCJseHrtQkB/+zpwzoxKQM3MzMzMeFJAZmZmZmZqWEAAAAAAAFxeQM3MzMzMJmJAmpmZmZkfZUBmZmZmZhhoQDMzMzMzEWtAAAAAAAAKbkBmZmZmZoFwQM3MzMzM/XFAMzMzMzN6c0CamZmZmfZ0QAAAAAAAc3ZAZmZmZmbvd0DNzMzMzGt5QDMzMzMz6HpAmpmZmZlkfEAAAAAAAOF9QGZmZmZmXX9AZmZmZuZsgECamZmZGSuBQM3MzMxM6YFAAAAAAICngkAzMzMzs2WDQGZmZmbmI4RAmpmZmRnihEDNzMzMTKCFQAAAAACAXoZAMzMzM7Mch0BmZmZm5tqHQJqZmZkZmYhAzczMzExXiUAAAAAAgBWKQDMzMzOz04pAZmZmZuaRi0CamZmZGVCMQM3MzMxMDo1AAAAAAIDMjUAzMzMzs4qOQGZmZmbmSI9A\",\"dtype\":\"float64\",\"shape\":[75]}},\"selected\":{\"id\":\"237c5986-ae7d-4a36-a9c9-1e7ac462af7a\",\"type\":\"Selection\"},\"selection_policy\":{\"id\":\"0c818371-775f-4930-8fa6-917c4cbdfef0\",\"type\":\"UnionRenderers\"}},\"id\":\"f396c228-f2c2-4b10-ba2e-fa76ea64faeb\",\"type\":\"ColumnDataSource\"},{\"attributes\":{\"source\":{\"id\":\"f396c228-f2c2-4b10-ba2e-fa76ea64faeb\",\"type\":\"ColumnDataSource\"}},\"id\":\"5dae7fc5-a5c9-4a11-9613-f1f10442f3e8\",\"type\":\"CDSView\"},{\"attributes\":{\"children\":[{\"id\":\"902c429e-29ee-4219-8f48-e7f6c480799f\",\"subtype\":\"Figure\",\"type\":\"Plot\"},{\"id\":\"5004d2cb-2ad8-46ff-a576-d3b896c6d573\",\"subtype\":\"Figure\",\"type\":\"Plot\"},{\"id\":\"c28cbcfb-c41e-45f1-ad3c-d163216df869\",\"subtype\":\"Figure\",\"type\":\"Plot\"}]},\"id\":\"28142f69-5398-4a11-bdc4-7232f3e8979c\",\"type\":\"Row\"},{\"attributes\":{},\"id\":\"0c818371-775f-4930-8fa6-917c4cbdfef0\",\"type\":\"UnionRenderers\"},{\"attributes\":{},\"id\":\"0f93fadd-77d7-4705-8fe6-5dc1d1a9435c\",\"type\":\"Selection\"},{\"attributes\":{\"plot\":null,\"text\":\"\"},\"id\":\"a4187b7e-8f69-45a0-8261-a0d648b897a5\",\"type\":\"Title\"},{\"attributes\":{\"line_color\":\"#4daf4a\",\"line_width\":1.5,\"x\":{\"field\":\"x\"},\"y\":{\"field\":\"y\"}},\"id\":\"fb068322-9e03-47be-9484-e7af5ef47c20\",\"type\":\"Line\"},{\"attributes\":{\"source\":{\"id\":\"1de2b7dd-3362-4479-ac2c-831c6586ee21\",\"type\":\"ColumnDataSource\"}},\"id\":\"589a75e2-02a9-4df8-95de-3dbec543bdea\",\"type\":\"CDSView\"},{\"attributes\":{\"line_alpha\":0.1,\"line_color\":\"#1f77b4\",\"line_width\":1.5,\"x\":{\"field\":\"x\"},\"y\":{\"field\":\"y\"}},\"id\":\"d28991e6-af7f-4b21-be11-1cadda009643\",\"type\":\"Line\"},{\"attributes\":{},\"id\":\"f56c76a1-1bab-48b3-a10f-17e295aaebc5\",\"type\":\"Selection\"},{\"attributes\":{\"label\":{\"value\":\"CLIRAD (single-run) - CRD\"},\"renderers\":[{\"id\":\"c6b34046-0494-416e-b2cf-5c30566bccb4\",\"type\":\"GlyphRenderer\"},{\"id\":\"2199626d-9aed-42a3-9f99-c05a0293ea8c\",\"type\":\"GlyphRenderer\"}]},\"id\":\"f325dbbf-e50c-4c10-a8a2-3f59198e05ac\",\"type\":\"LegendItem\"},{\"attributes\":{\"source\":{\"id\":\"a7e70846-8e4a-4e26-97de-170fbfe28995\",\"type\":\"ColumnDataSource\"}},\"id\":\"6e6138d5-8f22-447c-a9bf-6aba2385211f\",\"type\":\"CDSView\"},{\"attributes\":{\"fill_alpha\":{\"value\":0.7},\"fill_color\":{\"value\":\"#4daf4a\"},\"line_alpha\":{\"value\":0.7},\"line_color\":{\"value\":\"#4daf4a\"},\"x\":{\"field\":\"x\"},\"y\":{\"field\":\"y\"}},\"id\":\"5abb2c4e-d898-4a00-b5e5-658f1f191d75\",\"type\":\"Circle\"},{\"attributes\":{\"plot\":null,\"text\":\"\"},\"id\":\"344e6640-6f4f-4121-aa8c-8629ecf707ca\",\"type\":\"Title\"},{\"attributes\":{},\"id\":\"7ace4d11-408c-4ce8-b9af-8ef975747e99\",\"type\":\"UnionRenderers\"},{\"attributes\":{},\"id\":\"0f0f4681-095d-42b5-9d5c-a2d0fedc1b96\",\"type\":\"Selection\"},{\"attributes\":{},\"id\":\"237c5986-ae7d-4a36-a9c9-1e7ac462af7a\",\"type\":\"Selection\"},{\"attributes\":{},\"id\":\"e3395b74-c4e3-421e-a737-f01363850f78\",\"type\":\"UnionRenderers\"},{\"attributes\":{\"ticker\":null},\"id\":\"1a86c1f3-6254-4ae9-95d4-27e2a515d48b\",\"type\":\"LogTickFormatter\"},{\"attributes\":{\"callback\":null,\"data\":{\"x\":{\"__ndarray__\":\"0CYBcvU5UkCik9zf2GVBQF1VoNfLZ0BAVLxhiVXTPUDD1Wu1wJM6QFJyB025jjdAU6Aw5+b/NECYe1uuDfgyQB6bYtVTbTFAPxYSAF1HMEA00pYVm9QuQLolHbMzgC1AntlwirGsLECv+G9SjE4rQJH6ZLBp0ShAsLZQyPd/JkDyjgyf2PwkQLgyNGsrJyRAA13QbJD6I0C8hy0ilI4kQOVTXCEgcSZAovOGvZSGJUBVc/ZmUOIgQOf/6GHAyRlAcE8fAOBSFEDRur1U//gPQGFD9ZbokghAQsqHuSqSA0C91ci3W0UBQCtRQfvz7/4/kh8pntyB+j9t1/n+4TX1P773MAUjFfI/RgzR+CI28T8hBW8WHK7uPzVKjJfU8uk/0FPt4/z65T/wVYqzMPDhPz7K9C5CXuE/8+hSn9hY4T/9PPCkR6rhP1XsIC599OA/66X1nBCX3z/YbRM56QjcPz4dkSQc/dM/S7Wb8Fq00T+/yQdmX0vcP7TrGf476eM/WqNPJoWO7D9qOH1bcwDzP2bw+R5DQ/Y/RLSuQOQp+D8+aif8yAz5P0Wv6eBKRfk/0i2+IN4R+T/ik8QNFZr4PyS5UD5j/Pc/yJ68zXRG9z/2CHPL54H2P59SOhwKtPU/npkP8dfg9D8NlmVcdQz0P80ugRvuOvM/byxiAHN18j9USVZie8nxP5l9lNXYSPE/OB+F0UYP8T8Y7dsUCTHxP3EBgTHPcPE/bfx15p8S8T8FT+xkGtTuP6mdG7rkxuk/pboqTkHX5D/CrN8qGYngP7R4ZaL+htU/\",\"dtype\":\"float64\",\"shape\":[75]},\"y\":{\"__ndarray__\":\"GhExyth1ND/Sv8nbtpRIP2vylNV0PVE/aTum7souWD/At0SJ8fVgPw3Iuahxymc/MSNhhJWvcD/bTfBN02d3P2zb5nxnaoA/CD5h5MAGhz8NmeH1TyaQP+zrCsc9p5Y/LbKd76fGnz/bLW5ISEmmPww9YvTcQq8/JV2OstnstT8Er5Y7M8G+P0c+r3jqkcU/5h99k6ZBzj88bCIzFzjVP4enV8oyxN0//yH99nXg5D8qOpLLf0jtP5kqGJXUifQ/c9cS8kHP/D+/DpwzojQEQIEmwoanVwxA4lgXt9HgE0BSSZ2AJuIbQAMJih9jjiNA5q4l5INuK0AwTKYKRj0zQNv5fmq8/DpAaCJseHrtQkB/+zpwzoxKQM3MzMzMeFJAZmZmZmZqWEAAAAAAAFxeQM3MzMzMJmJAmpmZmZkfZUBmZmZmZhhoQDMzMzMzEWtAAAAAAAAKbkBmZmZmZoFwQM3MzMzM/XFAMzMzMzN6c0CamZmZmfZ0QAAAAAAAc3ZAZmZmZmbvd0DNzMzMzGt5QDMzMzMz6HpAmpmZmZlkfEAAAAAAAOF9QGZmZmZmXX9AZmZmZuZsgECamZmZGSuBQM3MzMxM6YFAAAAAAICngkAzMzMzs2WDQGZmZmbmI4RAmpmZmRnihEDNzMzMTKCFQAAAAACAXoZAMzMzM7Mch0BmZmZm5tqHQJqZmZkZmYhAzczMzExXiUAAAAAAgBWKQDMzMzOz04pAZmZmZuaRi0CamZmZGVCMQM3MzMxMDo1AAAAAAIDMjUAzMzMzs4qOQGZmZmbmSI9A\",\"dtype\":\"float64\",\"shape\":[75]}},\"selected\":{\"id\":\"0f93fadd-77d7-4705-8fe6-5dc1d1a9435c\",\"type\":\"Selection\"},\"selection_policy\":{\"id\":\"7ace4d11-408c-4ce8-b9af-8ef975747e99\",\"type\":\"UnionRenderers\"}},\"id\":\"5bc75bf5-83c0-4527-8d28-c9a1c5793838\",\"type\":\"ColumnDataSource\"},{\"attributes\":{},\"id\":\"1cdcda17-2d7f-4cc8-8730-69942f241829\",\"type\":\"Selection\"},{\"attributes\":{},\"id\":\"5292ab8d-f738-4c7e-a668-7c605edd8575\",\"type\":\"BasicTickFormatter\"},{\"attributes\":{\"plot\":null,\"text\":\"\"},\"id\":\"4dcd4f62-1e44-4895-a7ff-cb53ed6af568\",\"type\":\"Title\"},{\"attributes\":{\"children\":[{\"id\":\"ca89dc62-abfb-4515-8c49-2f6809dc7254\",\"type\":\"ToolbarBox\"},{\"id\":\"029df44b-0412-4092-8f21-4e51c806fc8a\",\"type\":\"Column\"}]},\"id\":\"b4967c29-ddd9-4629-9627-9c6ecc555fb1\",\"type\":\"Column\"},{\"attributes\":{\"fill_alpha\":{\"value\":0.1},\"fill_color\":{\"value\":\"#1f77b4\"},\"line_alpha\":{\"value\":0.1},\"line_color\":{\"value\":\"#1f77b4\"},\"x\":{\"field\":\"x\"},\"y\":{\"field\":\"y\"}},\"id\":\"1641d8fb-9656-49dd-8e69-7a63f444875f\",\"type\":\"Circle\"},{\"attributes\":{},\"id\":\"5a68df10-f7e0-4534-ac62-88b5734e80b7\",\"type\":\"UnionRenderers\"},{\"attributes\":{\"data_source\":{\"id\":\"1de2b7dd-3362-4479-ac2c-831c6586ee21\",\"type\":\"ColumnDataSource\"},\"glyph\":{\"id\":\"8c3bbd83-f4bd-44c0-a84e-4a1047a0595d\",\"type\":\"Line\"},\"hover_glyph\":null,\"muted_glyph\":null,\"nonselection_glyph\":{\"id\":\"d2cc8b88-7ed0-42e8-8d92-d07ab4c1e1dc\",\"type\":\"Line\"},\"selection_glyph\":null,\"view\":{\"id\":\"589a75e2-02a9-4df8-95de-3dbec543bdea\",\"type\":\"CDSView\"}},\"id\":\"2199626d-9aed-42a3-9f99-c05a0293ea8c\",\"type\":\"GlyphRenderer\"}],\"root_ids\":[\"b4967c29-ddd9-4629-9627-9c6ecc555fb1\"]},\"title\":\"Bokeh Application\",\"version\":\"0.12.16\"}};\n",
       "  var render_items = [{\"docid\":\"601999b1-b791-4bac-af07-fbcac5251a99\",\"elementid\":\"2bc0b65f-9326-46b1-aedb-f6950a9bf1d1\",\"modelid\":\"b4967c29-ddd9-4629-9627-9c6ecc555fb1\"}];\n",
       "  root.Bokeh.embed.embed_items_notebook(docs_json, render_items);\n",
       "\n",
       "  }\n",
       "  if (root.Bokeh !== undefined) {\n",
       "    embed_document(root);\n",
       "  } else {\n",
       "    var attempts = 0;\n",
       "    var timer = setInterval(function(root) {\n",
       "      if (root.Bokeh !== undefined) {\n",
       "        embed_document(root);\n",
       "        clearInterval(timer);\n",
       "      }\n",
       "      attempts++;\n",
       "      if (attempts > 100) {\n",
       "        console.log(\"Bokeh: ERROR: Unable to run BokehJS code because BokehJS library is missing\")\n",
       "        clearInterval(timer);\n",
       "      }\n",
       "    }, 10, root)\n",
       "  }\n",
       "})(window);"
      ],
      "application/vnd.bokehjs_exec.v0+json": ""
     },
     "metadata": {
      "application/vnd.bokehjs_exec.v0+json": {
       "id": "b4967c29-ddd9-4629-9627-9c6ecc555fb1"
      }
     },
     "output_type": "display_data"
    },
    {
     "data": {
      "text/markdown": [
       "*FIGURE.* Cooling rates & difference."
      ],
      "text/plain": [
       "<IPython.core.display.Markdown object>"
      ]
     },
     "metadata": {},
     "output_type": "display_data"
    },
    {
     "data": {
      "text/html": [
       "<a id=\"Fluxes._saw.\"></a>"
      ],
      "text/plain": [
       "<IPython.core.display.HTML object>"
      ]
     },
     "metadata": {},
     "output_type": "display_data"
    },
    {
     "data": {
      "text/markdown": [
       "# Fluxes. saw."
      ],
      "text/plain": [
       "<IPython.core.display.Markdown object>"
      ]
     },
     "metadata": {},
     "output_type": "display_data"
    },
    {
     "data": {
      "text/html": [
       "\n",
       "<div class=\"bk-root\">\n",
       "    <div class=\"bk-plotdiv\" id=\"ca1ca712-9f82-41f9-aac5-25bf0477bddc\"></div>\n",
       "</div>"
      ]
     },
     "metadata": {},
     "output_type": "display_data"
    },
    {
     "data": {
      "application/javascript": [
       "(function(root) {\n",
       "  function embed_document(root) {\n",
       "    \n",
       "  var docs_json = {\"dc792bc3-d15a-4de6-b67d-cf7f0a8125cd\":{\"roots\":{\"references\":[{\"attributes\":{\"overlay\":{\"id\":\"166e67c4-586b-4cb6-88be-efcb2f592141\",\"type\":\"BoxAnnotation\"}},\"id\":\"36eb6731-44e6-4863-ba22-377cfcfdcaab\",\"type\":\"BoxZoomTool\"},{\"attributes\":{\"children\":[{\"id\":\"b7ffa085-a3d7-406f-9660-992ed9f9ecfd\",\"type\":\"Row\"}]},\"id\":\"96b7be5d-abd3-4abc-b21c-7f7ee58830c8\",\"type\":\"Column\"},{\"attributes\":{\"fill_color\":{\"value\":\"#1f77b4\"},\"line_color\":{\"value\":\"#1f77b4\"},\"top\":{\"field\":\"flux\"},\"width\":{\"value\":0.9},\"x\":{\"field\":\"band\"}},\"id\":\"33d44383-448f-40ea-9b6b-95f4784f504a\",\"type\":\"VBar\"},{\"attributes\":{\"dimension\":1,\"plot\":{\"id\":\"454da3de-d9db-47cd-bcb0-a35e090465bc\",\"subtype\":\"Figure\",\"type\":\"Plot\"},\"ticker\":{\"id\":\"542d0ea3-78c1-4de3-8d03-f0eae8137b35\",\"type\":\"BasicTicker\"}},\"id\":\"7b1131b4-6619-4c77-aa53-eb20d2872588\",\"type\":\"Grid\"},{\"attributes\":{\"overlay\":{\"id\":\"68f78d9d-70fb-4929-95a1-a89cb598c124\",\"type\":\"BoxAnnotation\"}},\"id\":\"378c4de3-58dc-46ff-ad38-31dc8c1bda22\",\"type\":\"BoxZoomTool\"},{\"attributes\":{\"active_drag\":\"auto\",\"active_inspect\":\"auto\",\"active_scroll\":\"auto\",\"active_tap\":\"auto\",\"tools\":[{\"id\":\"a257b0e1-49e7-44d3-aa9d-3c5f3236f237\",\"type\":\"PanTool\"},{\"id\":\"65100afa-c977-4672-8fd3-f1138be25327\",\"type\":\"WheelZoomTool\"},{\"id\":\"b2ecd9fb-a16c-45aa-8513-e8af0636be24\",\"type\":\"BoxZoomTool\"},{\"id\":\"ea62c50d-b97e-4dd0-94bd-b9341d5bb9f0\",\"type\":\"SaveTool\"},{\"id\":\"c866a0d1-b4f7-490e-a87a-eb4789d94177\",\"type\":\"ResetTool\"},{\"id\":\"8a704823-3157-4494-b8d6-27ffbb8290ba\",\"type\":\"HelpTool\"}]},\"id\":\"80b9a4e5-98c0-483f-b220-fe46128d3ca1\",\"type\":\"Toolbar\"},{\"attributes\":{},\"id\":\"c6ca2829-9fde-458d-8087-f8000eae2c30\",\"type\":\"Selection\"},{\"attributes\":{\"dimension\":1,\"plot\":{\"id\":\"ab03b8b5-0d89-45fc-bd72-fe4a66d92fab\",\"subtype\":\"Figure\",\"type\":\"Plot\"},\"ticker\":{\"id\":\"48789720-9cca-46cd-b835-d7c586a1c76c\",\"type\":\"BasicTicker\"}},\"id\":\"867c4734-b57f-431a-9d94-b8605cb1f9f2\",\"type\":\"Grid\"},{\"attributes\":{},\"id\":\"79aabb08-49ad-4baa-9f13-3614795a085b\",\"type\":\"CategoricalTicker\"},{\"attributes\":{\"data_source\":{\"id\":\"c9758df1-eafc-45ca-b28e-0e7ced6cc363\",\"type\":\"ColumnDataSource\"},\"glyph\":{\"id\":\"33d44383-448f-40ea-9b6b-95f4784f504a\",\"type\":\"VBar\"},\"hover_glyph\":null,\"muted_glyph\":null,\"nonselection_glyph\":{\"id\":\"646c47ca-189e-4764-b205-da3052bea00e\",\"type\":\"VBar\"},\"selection_glyph\":null,\"view\":{\"id\":\"381f08e7-d4a4-4469-a346-3acaa086453f\",\"type\":\"CDSView\"}},\"id\":\"1a17c6b6-23b4-4cbb-92a5-ff3501276c79\",\"type\":\"GlyphRenderer\"},{\"attributes\":{},\"id\":\"7330305c-739d-4999-8bd5-20442c40976a\",\"type\":\"BasicTickFormatter\"},{\"attributes\":{},\"id\":\"24fe7f29-527a-4a03-bd57-4cfe99636d81\",\"type\":\"HelpTool\"},{\"attributes\":{\"below\":[{\"id\":\"318ae6c3-6b66-42d4-9e5e-bb5193337e1b\",\"type\":\"CategoricalAxis\"}],\"left\":[{\"id\":\"25a86883-23d2-4784-8fd4-31d8158dcfa3\",\"type\":\"LinearAxis\"}],\"plot_height\":300,\"plot_width\":300,\"renderers\":[{\"id\":\"318ae6c3-6b66-42d4-9e5e-bb5193337e1b\",\"type\":\"CategoricalAxis\"},{\"id\":\"775942b3-28c1-4e06-9a7a-914daf996876\",\"type\":\"Grid\"},{\"id\":\"25a86883-23d2-4784-8fd4-31d8158dcfa3\",\"type\":\"LinearAxis\"},{\"id\":\"7b1131b4-6619-4c77-aa53-eb20d2872588\",\"type\":\"Grid\"},{\"id\":\"431782cc-4592-4625-b990-bbda6e8cbd7a\",\"type\":\"BoxAnnotation\"},{\"id\":\"1a17c6b6-23b4-4cbb-92a5-ff3501276c79\",\"type\":\"GlyphRenderer\"}],\"title\":{\"id\":\"d1854214-ff38-4384-bb7c-fca4cdf52983\",\"type\":\"Title\"},\"toolbar\":{\"id\":\"80b9a4e5-98c0-483f-b220-fe46128d3ca1\",\"type\":\"Toolbar\"},\"toolbar_location\":null,\"x_range\":{\"id\":\"3ee618c1-c0d6-48fa-9911-3c955319cfcf\",\"type\":\"FactorRange\"},\"x_scale\":{\"id\":\"cdaaead7-50d7-424b-b813-8c7fb90d8c6f\",\"type\":\"CategoricalScale\"},\"y_range\":{\"id\":\"28f5f6ef-30db-484f-98d6-001b77191ac9\",\"type\":\"DataRange1d\"},\"y_scale\":{\"id\":\"97eed7d4-7655-444b-9aad-39868743c880\",\"type\":\"LinearScale\"}},\"id\":\"454da3de-d9db-47cd-bcb0-a35e090465bc\",\"subtype\":\"Figure\",\"type\":\"Plot\"},{\"attributes\":{\"callback\":null},\"id\":\"28f5f6ef-30db-484f-98d6-001b77191ac9\",\"type\":\"DataRange1d\"},{\"attributes\":{},\"id\":\"97eed7d4-7655-444b-9aad-39868743c880\",\"type\":\"LinearScale\"},{\"attributes\":{},\"id\":\"4e7d7f1e-408f-4571-8ecf-16c62d82dd7e\",\"type\":\"CategoricalTickFormatter\"},{\"attributes\":{},\"id\":\"01f74637-b786-4ec3-befd-50c8bf375214\",\"type\":\"SaveTool\"},{\"attributes\":{},\"id\":\"542d0ea3-78c1-4de3-8d03-f0eae8137b35\",\"type\":\"BasicTicker\"},{\"attributes\":{},\"id\":\"c866a0d1-b4f7-490e-a87a-eb4789d94177\",\"type\":\"ResetTool\"},{\"attributes\":{},\"id\":\"167b7fe0-7993-4ef4-a374-b345592183ab\",\"type\":\"LinearScale\"},{\"attributes\":{},\"id\":\"3d36d3ea-8403-43f9-b04c-6f3686bc5374\",\"type\":\"BasicTickFormatter\"},{\"attributes\":{},\"id\":\"48789720-9cca-46cd-b835-d7c586a1c76c\",\"type\":\"BasicTicker\"},{\"attributes\":{\"tools\":[{\"id\":\"71eaad8a-ddad-4a8d-95ad-d410b099acd5\",\"type\":\"PanTool\"},{\"id\":\"604cefdf-a621-4889-a743-a036a83c5df0\",\"type\":\"WheelZoomTool\"},{\"id\":\"378c4de3-58dc-46ff-ad38-31dc8c1bda22\",\"type\":\"BoxZoomTool\"},{\"id\":\"01f74637-b786-4ec3-befd-50c8bf375214\",\"type\":\"SaveTool\"},{\"id\":\"2bfed48a-4dc4-45db-a616-72d0ac2cd4e8\",\"type\":\"ResetTool\"},{\"id\":\"b40e9eb5-df10-489a-8171-1ee70f3468e3\",\"type\":\"HelpTool\"},{\"id\":\"a257b0e1-49e7-44d3-aa9d-3c5f3236f237\",\"type\":\"PanTool\"},{\"id\":\"65100afa-c977-4672-8fd3-f1138be25327\",\"type\":\"WheelZoomTool\"},{\"id\":\"b2ecd9fb-a16c-45aa-8513-e8af0636be24\",\"type\":\"BoxZoomTool\"},{\"id\":\"ea62c50d-b97e-4dd0-94bd-b9341d5bb9f0\",\"type\":\"SaveTool\"},{\"id\":\"c866a0d1-b4f7-490e-a87a-eb4789d94177\",\"type\":\"ResetTool\"},{\"id\":\"8a704823-3157-4494-b8d6-27ffbb8290ba\",\"type\":\"HelpTool\"},{\"id\":\"0fff869d-3396-45b9-9452-6d4890113766\",\"type\":\"PanTool\"},{\"id\":\"acc5f2ad-9e4b-4679-b2ae-f3e05dfc98f4\",\"type\":\"WheelZoomTool\"},{\"id\":\"36eb6731-44e6-4863-ba22-377cfcfdcaab\",\"type\":\"BoxZoomTool\"},{\"id\":\"2bb4831b-f35d-463a-8922-3cee38337119\",\"type\":\"SaveTool\"},{\"id\":\"df9dd35f-b22a-4df3-9fd3-b770ba417dec\",\"type\":\"ResetTool\"},{\"id\":\"24fe7f29-527a-4a03-bd57-4cfe99636d81\",\"type\":\"HelpTool\"}]},\"id\":\"247c913f-7963-4f35-a97e-88558b201fbc\",\"type\":\"ProxyToolbar\"},{\"attributes\":{\"plot\":{\"id\":\"454da3de-d9db-47cd-bcb0-a35e090465bc\",\"subtype\":\"Figure\",\"type\":\"Plot\"},\"ticker\":{\"id\":\"2ed5d921-a302-4d52-a2be-1c54a9296319\",\"type\":\"CategoricalTicker\"}},\"id\":\"775942b3-28c1-4e06-9a7a-914daf996876\",\"type\":\"Grid\"},{\"attributes\":{\"source\":{\"id\":\"91fcefdd-1d1f-46fd-b3d7-c81928a59e16\",\"type\":\"ColumnDataSource\"}},\"id\":\"3b1e8e8f-7767-4a74-b1eb-86d2e0721541\",\"type\":\"CDSView\"},{\"attributes\":{},\"id\":\"ea62c50d-b97e-4dd0-94bd-b9341d5bb9f0\",\"type\":\"SaveTool\"},{\"attributes\":{},\"id\":\"2bb4831b-f35d-463a-8922-3cee38337119\",\"type\":\"SaveTool\"},{\"attributes\":{},\"id\":\"8a593410-6226-46d9-8a1e-c4cf4b91df21\",\"type\":\"BasicTicker\"},{\"attributes\":{},\"id\":\"a774873e-30c4-42cb-962f-eac3f6638acd\",\"type\":\"CategoricalTickFormatter\"},{\"attributes\":{},\"id\":\"f2f43428-8c13-444d-bcb5-bc8fbee5fd3d\",\"type\":\"UnionRenderers\"},{\"attributes\":{\"plot\":{\"id\":\"8282842e-0c47-4f4d-b100-2ecc1a7a9532\",\"subtype\":\"Figure\",\"type\":\"Plot\"},\"ticker\":{\"id\":\"a0df56b3-eda7-4207-89e7-664e10957bce\",\"type\":\"CategoricalTicker\"}},\"id\":\"b46b8c27-d069-450b-927d-0bbc58068923\",\"type\":\"Grid\"},{\"attributes\":{},\"id\":\"df9dd35f-b22a-4df3-9fd3-b770ba417dec\",\"type\":\"ResetTool\"},{\"attributes\":{\"axis_label\":\"flux (W m-2)\",\"formatter\":{\"id\":\"157c18c2-12c0-4b16-9df4-4b76f63f5490\",\"type\":\"BasicTickFormatter\"},\"plot\":{\"id\":\"8282842e-0c47-4f4d-b100-2ecc1a7a9532\",\"subtype\":\"Figure\",\"type\":\"Plot\"},\"ticker\":{\"id\":\"8a593410-6226-46d9-8a1e-c4cf4b91df21\",\"type\":\"BasicTicker\"}},\"id\":\"9c88e0c7-93af-4d24-9a34-b2f914c96dce\",\"type\":\"LinearAxis\"},{\"attributes\":{\"fill_color\":{\"value\":\"#1f77b4\"},\"line_color\":{\"value\":\"#1f77b4\"},\"top\":{\"field\":\"flux\"},\"width\":{\"value\":0.9},\"x\":{\"field\":\"band\"}},\"id\":\"6438a0d5-293b-47fb-a547-0b44d75d0bdd\",\"type\":\"VBar\"},{\"attributes\":{},\"id\":\"a4f1594b-c507-442d-848e-f5a5d6fe487d\",\"type\":\"UnionRenderers\"},{\"attributes\":{\"data_source\":{\"id\":\"91fcefdd-1d1f-46fd-b3d7-c81928a59e16\",\"type\":\"ColumnDataSource\"},\"glyph\":{\"id\":\"79c461c3-8b3e-4f95-b097-5f6f34b127db\",\"type\":\"VBar\"},\"hover_glyph\":null,\"muted_glyph\":null,\"nonselection_glyph\":{\"id\":\"b5ce08f1-5818-458b-ab87-2ed013b178e1\",\"type\":\"VBar\"},\"selection_glyph\":null,\"view\":{\"id\":\"3b1e8e8f-7767-4a74-b1eb-86d2e0721541\",\"type\":\"CDSView\"}},\"id\":\"25b4bcc4-f630-497a-b37f-39d3d1d3f338\",\"type\":\"GlyphRenderer\"},{\"attributes\":{},\"id\":\"157c18c2-12c0-4b16-9df4-4b76f63f5490\",\"type\":\"BasicTickFormatter\"},{\"attributes\":{\"axis_label\":\"flux (W m-2)\",\"formatter\":{\"id\":\"3d36d3ea-8403-43f9-b04c-6f3686bc5374\",\"type\":\"BasicTickFormatter\"},\"plot\":{\"id\":\"ab03b8b5-0d89-45fc-bd72-fe4a66d92fab\",\"subtype\":\"Figure\",\"type\":\"Plot\"},\"ticker\":{\"id\":\"48789720-9cca-46cd-b835-d7c586a1c76c\",\"type\":\"BasicTicker\"}},\"id\":\"2691d7e8-c9d4-4adb-81fb-ae770019a35f\",\"type\":\"LinearAxis\"},{\"attributes\":{\"callback\":null,\"data\":{\"band\":[\"1\",\"2\",\"3\",\"4\",\"5\",\"6\",\"7\",\"8\",\"9\",\"10\",\"11\"],\"flux\":{\"__ndarray__\":\"1j7bcsdGS8BgAyLElfxFwD8tUJxtMlLAlbt2OaoPUsCx9+KL9gBUwFCNl24SZVXAjQxyF2HgVcBlthrIaXdVwG9NFecDrFTAs/e+xX5tVMDZ08xie5BVwA==\",\"dtype\":\"float64\",\"shape\":[11]}},\"selected\":{\"id\":\"c20e03b4-f4e3-4bc9-864d-3bd7130a3ecc\",\"type\":\"Selection\"},\"selection_policy\":{\"id\":\"f2f43428-8c13-444d-bcb5-bc8fbee5fd3d\",\"type\":\"UnionRenderers\"}},\"id\":\"91fcefdd-1d1f-46fd-b3d7-c81928a59e16\",\"type\":\"ColumnDataSource\"},{\"attributes\":{\"children\":[{\"id\":\"114cfdd5-cdaa-4a26-a56c-33e8e525b04d\",\"type\":\"ToolbarBox\"},{\"id\":\"96b7be5d-abd3-4abc-b21c-7f7ee58830c8\",\"type\":\"Column\"}]},\"id\":\"de0a963b-9ba1-43c6-896e-f0d3714fdcfe\",\"type\":\"Column\"},{\"attributes\":{\"callback\":null,\"factors\":[\"1\",\"2\",\"3\",\"4\",\"5\",\"6\",\"7\",\"8\",\"9\",\"10\",\"11\"]},\"id\":\"3ee618c1-c0d6-48fa-9911-3c955319cfcf\",\"type\":\"FactorRange\"},{\"attributes\":{\"fill_alpha\":{\"value\":0.1},\"fill_color\":{\"value\":\"#1f77b4\"},\"line_alpha\":{\"value\":0.1},\"line_color\":{\"value\":\"#1f77b4\"},\"top\":{\"field\":\"flux\"},\"width\":{\"value\":0.9},\"x\":{\"field\":\"band\"}},\"id\":\"b5ce08f1-5818-458b-ab87-2ed013b178e1\",\"type\":\"VBar\"},{\"attributes\":{\"bottom_units\":\"screen\",\"fill_alpha\":{\"value\":0.5},\"fill_color\":{\"value\":\"lightgrey\"},\"left_units\":\"screen\",\"level\":\"overlay\",\"line_alpha\":{\"value\":1.0},\"line_color\":{\"value\":\"black\"},\"line_dash\":[4,4],\"line_width\":{\"value\":2},\"plot\":null,\"render_mode\":\"css\",\"right_units\":\"screen\",\"top_units\":\"screen\"},\"id\":\"431782cc-4592-4625-b990-bbda6e8cbd7a\",\"type\":\"BoxAnnotation\"},{\"attributes\":{\"fill_alpha\":{\"value\":0.1},\"fill_color\":{\"value\":\"#1f77b4\"},\"line_alpha\":{\"value\":0.1},\"line_color\":{\"value\":\"#1f77b4\"},\"top\":{\"field\":\"flux\"},\"width\":{\"value\":0.9},\"x\":{\"field\":\"band\"}},\"id\":\"646c47ca-189e-4764-b205-da3052bea00e\",\"type\":\"VBar\"},{\"attributes\":{\"toolbar\":{\"id\":\"247c913f-7963-4f35-a97e-88558b201fbc\",\"type\":\"ProxyToolbar\"},\"toolbar_location\":\"above\"},\"id\":\"114cfdd5-cdaa-4a26-a56c-33e8e525b04d\",\"type\":\"ToolbarBox\"},{\"attributes\":{},\"id\":\"71eaad8a-ddad-4a8d-95ad-d410b099acd5\",\"type\":\"PanTool\"},{\"attributes\":{\"axis_label\":\"flux (W m-2)\",\"formatter\":{\"id\":\"7330305c-739d-4999-8bd5-20442c40976a\",\"type\":\"BasicTickFormatter\"},\"plot\":{\"id\":\"454da3de-d9db-47cd-bcb0-a35e090465bc\",\"subtype\":\"Figure\",\"type\":\"Plot\"},\"ticker\":{\"id\":\"542d0ea3-78c1-4de3-8d03-f0eae8137b35\",\"type\":\"BasicTicker\"}},\"id\":\"25a86883-23d2-4784-8fd4-31d8158dcfa3\",\"type\":\"LinearAxis\"},{\"attributes\":{},\"id\":\"604cefdf-a621-4889-a743-a036a83c5df0\",\"type\":\"WheelZoomTool\"},{\"attributes\":{\"fill_color\":{\"value\":\"#1f77b4\"},\"line_color\":{\"value\":\"#1f77b4\"},\"top\":{\"field\":\"flux\"},\"width\":{\"value\":0.9},\"x\":{\"field\":\"band\"}},\"id\":\"79c461c3-8b3e-4f95-b097-5f6f34b127db\",\"type\":\"VBar\"},{\"attributes\":{},\"id\":\"a6ec9bbf-8855-4343-ad3b-477fc38a1afa\",\"type\":\"CategoricalTickFormatter\"},{\"attributes\":{},\"id\":\"a0df56b3-eda7-4207-89e7-664e10957bce\",\"type\":\"CategoricalTicker\"},{\"attributes\":{},\"id\":\"bb102fcc-c18a-40d8-9e06-d6cd21ea9ab7\",\"type\":\"Selection\"},{\"attributes\":{\"axis_label\":\"spectral band\",\"formatter\":{\"id\":\"4e7d7f1e-408f-4571-8ecf-16c62d82dd7e\",\"type\":\"CategoricalTickFormatter\"},\"plot\":{\"id\":\"8282842e-0c47-4f4d-b100-2ecc1a7a9532\",\"subtype\":\"Figure\",\"type\":\"Plot\"},\"ticker\":{\"id\":\"a0df56b3-eda7-4207-89e7-664e10957bce\",\"type\":\"CategoricalTicker\"}},\"id\":\"1008a682-a76a-4a9e-9838-f5e9882572e7\",\"type\":\"CategoricalAxis\"},{\"attributes\":{\"plot\":{\"id\":\"ab03b8b5-0d89-45fc-bd72-fe4a66d92fab\",\"subtype\":\"Figure\",\"type\":\"Plot\"},\"ticker\":{\"id\":\"79aabb08-49ad-4baa-9f13-3614795a085b\",\"type\":\"CategoricalTicker\"}},\"id\":\"701c2a4c-3e8f-425d-b5e5-94f12196d0c9\",\"type\":\"Grid\"},{\"attributes\":{},\"id\":\"2bfed48a-4dc4-45db-a616-72d0ac2cd4e8\",\"type\":\"ResetTool\"},{\"attributes\":{},\"id\":\"771ec67b-596c-4105-aa7b-a69fa7d06b60\",\"type\":\"CategoricalScale\"},{\"attributes\":{\"bottom_units\":\"screen\",\"fill_alpha\":{\"value\":0.5},\"fill_color\":{\"value\":\"lightgrey\"},\"left_units\":\"screen\",\"level\":\"overlay\",\"line_alpha\":{\"value\":1.0},\"line_color\":{\"value\":\"black\"},\"line_dash\":[4,4],\"line_width\":{\"value\":2},\"plot\":null,\"render_mode\":\"css\",\"right_units\":\"screen\",\"top_units\":\"screen\"},\"id\":\"166e67c4-586b-4cb6-88be-efcb2f592141\",\"type\":\"BoxAnnotation\"},{\"attributes\":{\"children\":[{\"id\":\"8282842e-0c47-4f4d-b100-2ecc1a7a9532\",\"subtype\":\"Figure\",\"type\":\"Plot\"},{\"id\":\"454da3de-d9db-47cd-bcb0-a35e090465bc\",\"subtype\":\"Figure\",\"type\":\"Plot\"},{\"id\":\"ab03b8b5-0d89-45fc-bd72-fe4a66d92fab\",\"subtype\":\"Figure\",\"type\":\"Plot\"}]},\"id\":\"b7ffa085-a3d7-406f-9660-992ed9f9ecfd\",\"type\":\"Row\"},{\"attributes\":{\"dimension\":1,\"plot\":{\"id\":\"8282842e-0c47-4f4d-b100-2ecc1a7a9532\",\"subtype\":\"Figure\",\"type\":\"Plot\"},\"ticker\":{\"id\":\"8a593410-6226-46d9-8a1e-c4cf4b91df21\",\"type\":\"BasicTicker\"}},\"id\":\"40d1f054-851a-49e0-be8b-4238e36ed7c9\",\"type\":\"Grid\"},{\"attributes\":{},\"id\":\"e122992a-4d06-4c03-92e1-4b68725754ec\",\"type\":\"UnionRenderers\"},{\"attributes\":{},\"id\":\"65100afa-c977-4672-8fd3-f1138be25327\",\"type\":\"WheelZoomTool\"},{\"attributes\":{},\"id\":\"cdaaead7-50d7-424b-b813-8c7fb90d8c6f\",\"type\":\"CategoricalScale\"},{\"attributes\":{},\"id\":\"8a704823-3157-4494-b8d6-27ffbb8290ba\",\"type\":\"HelpTool\"},{\"attributes\":{\"overlay\":{\"id\":\"431782cc-4592-4625-b990-bbda6e8cbd7a\",\"type\":\"BoxAnnotation\"}},\"id\":\"b2ecd9fb-a16c-45aa-8513-e8af0636be24\",\"type\":\"BoxZoomTool\"},{\"attributes\":{},\"id\":\"0fff869d-3396-45b9-9452-6d4890113766\",\"type\":\"PanTool\"},{\"attributes\":{\"bottom_units\":\"screen\",\"fill_alpha\":{\"value\":0.5},\"fill_color\":{\"value\":\"lightgrey\"},\"left_units\":\"screen\",\"level\":\"overlay\",\"line_alpha\":{\"value\":1.0},\"line_color\":{\"value\":\"black\"},\"line_dash\":[4,4],\"line_width\":{\"value\":2},\"plot\":null,\"render_mode\":\"css\",\"right_units\":\"screen\",\"top_units\":\"screen\"},\"id\":\"68f78d9d-70fb-4929-95a1-a89cb598c124\",\"type\":\"BoxAnnotation\"},{\"attributes\":{},\"id\":\"2ed5d921-a302-4d52-a2be-1c54a9296319\",\"type\":\"CategoricalTicker\"},{\"attributes\":{\"axis_label\":\"spectral band\",\"formatter\":{\"id\":\"a6ec9bbf-8855-4343-ad3b-477fc38a1afa\",\"type\":\"CategoricalTickFormatter\"},\"plot\":{\"id\":\"454da3de-d9db-47cd-bcb0-a35e090465bc\",\"subtype\":\"Figure\",\"type\":\"Plot\"},\"ticker\":{\"id\":\"2ed5d921-a302-4d52-a2be-1c54a9296319\",\"type\":\"CategoricalTicker\"}},\"id\":\"318ae6c3-6b66-42d4-9e5e-bb5193337e1b\",\"type\":\"CategoricalAxis\"},{\"attributes\":{\"source\":{\"id\":\"0961920a-0563-46cd-b292-d4bf537b9e9c\",\"type\":\"ColumnDataSource\"}},\"id\":\"36a3539f-460e-4fe9-b323-78340b5a2ccf\",\"type\":\"CDSView\"},{\"attributes\":{\"below\":[{\"id\":\"1008a682-a76a-4a9e-9838-f5e9882572e7\",\"type\":\"CategoricalAxis\"}],\"left\":[{\"id\":\"9c88e0c7-93af-4d24-9a34-b2f914c96dce\",\"type\":\"LinearAxis\"}],\"plot_height\":300,\"plot_width\":300,\"renderers\":[{\"id\":\"1008a682-a76a-4a9e-9838-f5e9882572e7\",\"type\":\"CategoricalAxis\"},{\"id\":\"b46b8c27-d069-450b-927d-0bbc58068923\",\"type\":\"Grid\"},{\"id\":\"9c88e0c7-93af-4d24-9a34-b2f914c96dce\",\"type\":\"LinearAxis\"},{\"id\":\"40d1f054-851a-49e0-be8b-4238e36ed7c9\",\"type\":\"Grid\"},{\"id\":\"68f78d9d-70fb-4929-95a1-a89cb598c124\",\"type\":\"BoxAnnotation\"},{\"id\":\"eb69b47e-e646-4ba5-8083-bfa5c0016e13\",\"type\":\"GlyphRenderer\"}],\"title\":{\"id\":\"70f8dc16-501f-40e2-bf02-2a9266516cb0\",\"type\":\"Title\"},\"toolbar\":{\"id\":\"71ee795c-732d-440a-8397-a47ff524b071\",\"type\":\"Toolbar\"},\"toolbar_location\":null,\"x_range\":{\"id\":\"39fe9237-8cc7-484e-86a5-ee43d77759f4\",\"type\":\"FactorRange\"},\"x_scale\":{\"id\":\"771ec67b-596c-4105-aa7b-a69fa7d06b60\",\"type\":\"CategoricalScale\"},\"y_range\":{\"id\":\"413e3e0d-c337-4f9b-b1e6-3f6cdc21531e\",\"type\":\"DataRange1d\"},\"y_scale\":{\"id\":\"167b7fe0-7993-4ef4-a374-b345592183ab\",\"type\":\"LinearScale\"}},\"id\":\"8282842e-0c47-4f4d-b100-2ecc1a7a9532\",\"subtype\":\"Figure\",\"type\":\"Plot\"},{\"attributes\":{\"fill_alpha\":{\"value\":0.1},\"fill_color\":{\"value\":\"#1f77b4\"},\"line_alpha\":{\"value\":0.1},\"line_color\":{\"value\":\"#1f77b4\"},\"top\":{\"field\":\"flux\"},\"width\":{\"value\":0.9},\"x\":{\"field\":\"band\"}},\"id\":\"972fbafb-f223-44f5-8477-2899104c6d9d\",\"type\":\"VBar\"},{\"attributes\":{\"plot\":null,\"text\":\"SFC flux. CLIRAD (single-run) - CRD.\"},\"id\":\"d1854214-ff38-4384-bb7c-fca4cdf52983\",\"type\":\"Title\"},{\"attributes\":{},\"id\":\"b40e9eb5-df10-489a-8171-1ee70f3468e3\",\"type\":\"HelpTool\"},{\"attributes\":{\"source\":{\"id\":\"c9758df1-eafc-45ca-b28e-0e7ced6cc363\",\"type\":\"ColumnDataSource\"}},\"id\":\"381f08e7-d4a4-4469-a346-3acaa086453f\",\"type\":\"CDSView\"},{\"attributes\":{},\"id\":\"acc5f2ad-9e4b-4679-b2ae-f3e05dfc98f4\",\"type\":\"WheelZoomTool\"},{\"attributes\":{},\"id\":\"a257b0e1-49e7-44d3-aa9d-3c5f3236f237\",\"type\":\"PanTool\"},{\"attributes\":{\"callback\":null,\"factors\":[\"1\",\"2\",\"3\",\"4\",\"5\",\"6\",\"7\",\"8\",\"9\",\"10\",\"11\"]},\"id\":\"bbc6a125-41c0-4d30-a5a0-17a5bc18fc2d\",\"type\":\"FactorRange\"},{\"attributes\":{},\"id\":\"0a4ccbe6-94da-4cde-9e41-ee6c8e52f8eb\",\"type\":\"LinearScale\"},{\"attributes\":{\"active_drag\":\"auto\",\"active_inspect\":\"auto\",\"active_scroll\":\"auto\",\"active_tap\":\"auto\",\"tools\":[{\"id\":\"0fff869d-3396-45b9-9452-6d4890113766\",\"type\":\"PanTool\"},{\"id\":\"acc5f2ad-9e4b-4679-b2ae-f3e05dfc98f4\",\"type\":\"WheelZoomTool\"},{\"id\":\"36eb6731-44e6-4863-ba22-377cfcfdcaab\",\"type\":\"BoxZoomTool\"},{\"id\":\"2bb4831b-f35d-463a-8922-3cee38337119\",\"type\":\"SaveTool\"},{\"id\":\"df9dd35f-b22a-4df3-9fd3-b770ba417dec\",\"type\":\"ResetTool\"},{\"id\":\"24fe7f29-527a-4a03-bd57-4cfe99636d81\",\"type\":\"HelpTool\"}]},\"id\":\"b1ec3bc9-2025-4533-b242-70ca620f116b\",\"type\":\"Toolbar\"},{\"attributes\":{\"below\":[{\"id\":\"56a4b004-b5a7-4cde-963a-5bca1c5ebea4\",\"type\":\"CategoricalAxis\"}],\"left\":[{\"id\":\"2691d7e8-c9d4-4adb-81fb-ae770019a35f\",\"type\":\"LinearAxis\"}],\"plot_height\":300,\"plot_width\":300,\"renderers\":[{\"id\":\"56a4b004-b5a7-4cde-963a-5bca1c5ebea4\",\"type\":\"CategoricalAxis\"},{\"id\":\"701c2a4c-3e8f-425d-b5e5-94f12196d0c9\",\"type\":\"Grid\"},{\"id\":\"2691d7e8-c9d4-4adb-81fb-ae770019a35f\",\"type\":\"LinearAxis\"},{\"id\":\"867c4734-b57f-431a-9d94-b8605cb1f9f2\",\"type\":\"Grid\"},{\"id\":\"166e67c4-586b-4cb6-88be-efcb2f592141\",\"type\":\"BoxAnnotation\"},{\"id\":\"25b4bcc4-f630-497a-b37f-39d3d1d3f338\",\"type\":\"GlyphRenderer\"}],\"title\":{\"id\":\"921bb9ea-30e0-4c67-b609-b568259876b7\",\"type\":\"Title\"},\"toolbar\":{\"id\":\"b1ec3bc9-2025-4533-b242-70ca620f116b\",\"type\":\"Toolbar\"},\"toolbar_location\":null,\"x_range\":{\"id\":\"bbc6a125-41c0-4d30-a5a0-17a5bc18fc2d\",\"type\":\"FactorRange\"},\"x_scale\":{\"id\":\"21a76ccb-7920-402c-b7a3-4d57895a1016\",\"type\":\"CategoricalScale\"},\"y_range\":{\"id\":\"e1a33c96-e5d4-4524-bf5b-88d7eb6cd32f\",\"type\":\"DataRange1d\"},\"y_scale\":{\"id\":\"0a4ccbe6-94da-4cde-9e41-ee6c8e52f8eb\",\"type\":\"LinearScale\"}},\"id\":\"ab03b8b5-0d89-45fc-bd72-fe4a66d92fab\",\"subtype\":\"Figure\",\"type\":\"Plot\"},{\"attributes\":{\"plot\":null,\"text\":\"Atmosphere heating. CLIRAD (single-run) - CRD.\"},\"id\":\"921bb9ea-30e0-4c67-b609-b568259876b7\",\"type\":\"Title\"},{\"attributes\":{\"axis_label\":\"spectral band\",\"formatter\":{\"id\":\"a774873e-30c4-42cb-962f-eac3f6638acd\",\"type\":\"CategoricalTickFormatter\"},\"plot\":{\"id\":\"ab03b8b5-0d89-45fc-bd72-fe4a66d92fab\",\"subtype\":\"Figure\",\"type\":\"Plot\"},\"ticker\":{\"id\":\"79aabb08-49ad-4baa-9f13-3614795a085b\",\"type\":\"CategoricalTicker\"}},\"id\":\"56a4b004-b5a7-4cde-963a-5bca1c5ebea4\",\"type\":\"CategoricalAxis\"},{\"attributes\":{\"callback\":null},\"id\":\"e1a33c96-e5d4-4524-bf5b-88d7eb6cd32f\",\"type\":\"DataRange1d\"},{\"attributes\":{\"active_drag\":\"auto\",\"active_inspect\":\"auto\",\"active_scroll\":\"auto\",\"active_tap\":\"auto\",\"tools\":[{\"id\":\"71eaad8a-ddad-4a8d-95ad-d410b099acd5\",\"type\":\"PanTool\"},{\"id\":\"604cefdf-a621-4889-a743-a036a83c5df0\",\"type\":\"WheelZoomTool\"},{\"id\":\"378c4de3-58dc-46ff-ad38-31dc8c1bda22\",\"type\":\"BoxZoomTool\"},{\"id\":\"01f74637-b786-4ec3-befd-50c8bf375214\",\"type\":\"SaveTool\"},{\"id\":\"2bfed48a-4dc4-45db-a616-72d0ac2cd4e8\",\"type\":\"ResetTool\"},{\"id\":\"b40e9eb5-df10-489a-8171-1ee70f3468e3\",\"type\":\"HelpTool\"}]},\"id\":\"71ee795c-732d-440a-8397-a47ff524b071\",\"type\":\"Toolbar\"},{\"attributes\":{},\"id\":\"21a76ccb-7920-402c-b7a3-4d57895a1016\",\"type\":\"CategoricalScale\"},{\"attributes\":{\"callback\":null},\"id\":\"413e3e0d-c337-4f9b-b1e6-3f6cdc21531e\",\"type\":\"DataRange1d\"},{\"attributes\":{},\"id\":\"c20e03b4-f4e3-4bc9-864d-3bd7130a3ecc\",\"type\":\"Selection\"},{\"attributes\":{\"plot\":null,\"text\":\"TOA flux. CLIRAD (single-run) - CRD.\"},\"id\":\"70f8dc16-501f-40e2-bf02-2a9266516cb0\",\"type\":\"Title\"},{\"attributes\":{\"callback\":null,\"data\":{\"band\":[\"1\",\"2\",\"3\",\"4\",\"5\",\"6\",\"7\",\"8\",\"9\",\"10\",\"11\"],\"flux\":{\"__ndarray__\":\"0sYRa3EIZcCzJhb4ColiwIP4wI5/kGbALbRzmgU+Z8AFGmzqPPxmwGggls0c72TAX3r7c9GoZ8BMw/ARMcBnwHlkYqmkKmjAL35khMFqaMA0xdJ2wuFowA==\",\"dtype\":\"float64\",\"shape\":[11]}},\"selected\":{\"id\":\"c6ca2829-9fde-458d-8087-f8000eae2c30\",\"type\":\"Selection\"},\"selection_policy\":{\"id\":\"a4f1594b-c507-442d-848e-f5a5d6fe487d\",\"type\":\"UnionRenderers\"}},\"id\":\"0961920a-0563-46cd-b292-d4bf537b9e9c\",\"type\":\"ColumnDataSource\"},{\"attributes\":{\"callback\":null,\"data\":{\"band\":[\"1\",\"2\",\"3\",\"4\",\"5\",\"6\",\"7\",\"8\",\"9\",\"10\",\"11\"],\"flux\":{\"__ndarray__\":\"yAG7mjxcV0CA7suZ7TpVQA/SU+QQBl1ACMVW0LSrWkD3Uh0X+idfQLyipTwElWBAfFrqxfVSYEDZo+STPZ9gQNipA2p7zV9ADycwndbmXkBdISAdxqRgQA==\",\"dtype\":\"float64\",\"shape\":[11]}},\"selected\":{\"id\":\"bb102fcc-c18a-40d8-9e06-d6cd21ea9ab7\",\"type\":\"Selection\"},\"selection_policy\":{\"id\":\"e122992a-4d06-4c03-92e1-4b68725754ec\",\"type\":\"UnionRenderers\"}},\"id\":\"c9758df1-eafc-45ca-b28e-0e7ced6cc363\",\"type\":\"ColumnDataSource\"},{\"attributes\":{\"data_source\":{\"id\":\"0961920a-0563-46cd-b292-d4bf537b9e9c\",\"type\":\"ColumnDataSource\"},\"glyph\":{\"id\":\"6438a0d5-293b-47fb-a547-0b44d75d0bdd\",\"type\":\"VBar\"},\"hover_glyph\":null,\"muted_glyph\":null,\"nonselection_glyph\":{\"id\":\"972fbafb-f223-44f5-8477-2899104c6d9d\",\"type\":\"VBar\"},\"selection_glyph\":null,\"view\":{\"id\":\"36a3539f-460e-4fe9-b323-78340b5a2ccf\",\"type\":\"CDSView\"}},\"id\":\"eb69b47e-e646-4ba5-8083-bfa5c0016e13\",\"type\":\"GlyphRenderer\"},{\"attributes\":{\"callback\":null,\"factors\":[\"1\",\"2\",\"3\",\"4\",\"5\",\"6\",\"7\",\"8\",\"9\",\"10\",\"11\"]},\"id\":\"39fe9237-8cc7-484e-86a5-ee43d77759f4\",\"type\":\"FactorRange\"}],\"root_ids\":[\"de0a963b-9ba1-43c6-896e-f0d3714fdcfe\"]},\"title\":\"Bokeh Application\",\"version\":\"0.12.16\"}};\n",
       "  var render_items = [{\"docid\":\"dc792bc3-d15a-4de6-b67d-cf7f0a8125cd\",\"elementid\":\"ca1ca712-9f82-41f9-aac5-25bf0477bddc\",\"modelid\":\"de0a963b-9ba1-43c6-896e-f0d3714fdcfe\"}];\n",
       "  root.Bokeh.embed.embed_items_notebook(docs_json, render_items);\n",
       "\n",
       "  }\n",
       "  if (root.Bokeh !== undefined) {\n",
       "    embed_document(root);\n",
       "  } else {\n",
       "    var attempts = 0;\n",
       "    var timer = setInterval(function(root) {\n",
       "      if (root.Bokeh !== undefined) {\n",
       "        embed_document(root);\n",
       "        clearInterval(timer);\n",
       "      }\n",
       "      attempts++;\n",
       "      if (attempts > 100) {\n",
       "        console.log(\"Bokeh: ERROR: Unable to run BokehJS code because BokehJS library is missing\")\n",
       "        clearInterval(timer);\n",
       "      }\n",
       "    }, 10, root)\n",
       "  }\n",
       "})(window);"
      ],
      "application/vnd.bokehjs_exec.v0+json": ""
     },
     "metadata": {
      "application/vnd.bokehjs_exec.v0+json": {
       "id": "de0a963b-9ba1-43c6-896e-f0d3714fdcfe"
      }
     },
     "output_type": "display_data"
    },
    {
     "data": {
      "text/markdown": [
       "*FIGURE.* Difference between CLIRAD and CRD in TOA, SFC and net atmosphere flux, in each spectral band."
      ],
      "text/plain": [
       "<IPython.core.display.Markdown object>"
      ]
     },
     "metadata": {},
     "output_type": "display_data"
    },
    {
     "data": {
      "text/html": [
       "<div>\n",
       "<style scoped>\n",
       "    .dataframe tbody tr th:only-of-type {\n",
       "        vertical-align: middle;\n",
       "    }\n",
       "\n",
       "    .dataframe tbody tr th {\n",
       "        vertical-align: top;\n",
       "    }\n",
       "\n",
       "    .dataframe thead th {\n",
       "        text-align: right;\n",
       "    }\n",
       "</style>\n",
       "<table border=\"1\" class=\"dataframe\">\n",
       "  <thead>\n",
       "    <tr style=\"text-align: right;\">\n",
       "      <th></th>\n",
       "      <th>OLR flux</th>\n",
       "      <th>SFC flux</th>\n",
       "      <th>ATM heating</th>\n",
       "    </tr>\n",
       "    <tr>\n",
       "      <th>Sum over bands</th>\n",
       "      <th></th>\n",
       "      <th></th>\n",
       "      <th></th>\n",
       "    </tr>\n",
       "  </thead>\n",
       "  <tbody>\n",
       "    <tr>\n",
       "      <th>CLIRAD (single-run) - CRD</th>\n",
       "      <td>0.84</td>\n",
       "      <td>-32.21</td>\n",
       "      <td>33.05</td>\n",
       "    </tr>\n",
       "    <tr>\n",
       "      <th>CRD</th>\n",
       "      <td>-201.06</td>\n",
       "      <td>166.03</td>\n",
       "      <td>-119.67</td>\n",
       "    </tr>\n",
       "  </tbody>\n",
       "</table>\n",
       "</div>"
      ],
      "text/plain": [
       "                           OLR flux  SFC flux  ATM heating\n",
       "Sum over bands                                            \n",
       "CLIRAD (single-run) - CRD      0.84    -32.21        33.05\n",
       "CRD                         -201.06    166.03      -119.67"
      ]
     },
     "metadata": {},
     "output_type": "display_data"
    },
    {
     "data": {
      "text/markdown": [
       "*TABLE.* Difference between CLIRAD and CRD in TOA, SFC and net atmosphere flux, over all spectral bands. CRD's TOA, SFC and net atmosphere flux, over all spectral bands."
      ],
      "text/plain": [
       "<IPython.core.display.Markdown object>"
      ]
     },
     "metadata": {},
     "output_type": "display_data"
    },
    {
     "data": {
      "text/html": [
       "<a id=\"Cooling_rates._trp.\"></a>"
      ],
      "text/plain": [
       "<IPython.core.display.HTML object>"
      ]
     },
     "metadata": {},
     "output_type": "display_data"
    },
    {
     "data": {
      "text/markdown": [
       "# Cooling rates. trp."
      ],
      "text/plain": [
       "<IPython.core.display.Markdown object>"
      ]
     },
     "metadata": {},
     "output_type": "display_data"
    },
    {
     "data": {
      "text/html": [
       "\n",
       "<div class=\"bk-root\">\n",
       "    <div class=\"bk-plotdiv\" id=\"37d5dec1-5f91-4979-972e-784bbb2a889a\"></div>\n",
       "</div>"
      ]
     },
     "metadata": {},
     "output_type": "display_data"
    },
    {
     "data": {
      "application/javascript": [
       "(function(root) {\n",
       "  function embed_document(root) {\n",
       "    \n",
       "  var docs_json = {\"5a7eeee0-889a-48c0-861e-13ab7aa83877\":{\"roots\":{\"references\":[{\"attributes\":{\"fill_alpha\":{\"value\":0.1},\"fill_color\":{\"value\":\"#1f77b4\"},\"line_alpha\":{\"value\":0.1},\"line_color\":{\"value\":\"#1f77b4\"},\"x\":{\"field\":\"x\"},\"y\":{\"field\":\"y\"}},\"id\":\"62d43c5d-ac1a-464d-be74-ce0812f73244\",\"type\":\"Circle\"},{\"attributes\":{},\"id\":\"f61a5ba9-2151-4c57-87c0-37eb0e202f9f\",\"type\":\"WheelZoomTool\"},{\"attributes\":{},\"id\":\"2a832456-5e5d-483a-b885-a9adef4a42d8\",\"type\":\"SaveTool\"},{\"attributes\":{\"dimension\":1,\"plot\":{\"id\":\"84a7f419-b386-445a-ad4d-0562ae5bd2b3\",\"subtype\":\"Figure\",\"type\":\"Plot\"},\"ticker\":{\"id\":\"65562b9f-483a-4927-90c8-3455849981da\",\"type\":\"LogTicker\"}},\"id\":\"844a6264-0691-4b1e-a694-0cdf3815c61c\",\"type\":\"Grid\"},{\"attributes\":{\"label\":{\"value\":\"CRD\"},\"renderers\":[{\"id\":\"9266f694-22ed-4b2e-882a-0d721a84a126\",\"type\":\"GlyphRenderer\"},{\"id\":\"409dd24e-f69c-4544-813f-82f579e14c75\",\"type\":\"GlyphRenderer\"}]},\"id\":\"4916d45e-27e4-4242-b574-17723a46fea1\",\"type\":\"LegendItem\"},{\"attributes\":{\"bottom_units\":\"screen\",\"fill_alpha\":{\"value\":0.5},\"fill_color\":{\"value\":\"lightgrey\"},\"left_units\":\"screen\",\"level\":\"overlay\",\"line_alpha\":{\"value\":1.0},\"line_color\":{\"value\":\"black\"},\"line_dash\":[4,4],\"line_width\":{\"value\":2},\"plot\":null,\"render_mode\":\"css\",\"right_units\":\"screen\",\"top_units\":\"screen\"},\"id\":\"e33550f2-f3e9-4097-92af-de6db5524f98\",\"type\":\"BoxAnnotation\"},{\"attributes\":{\"items\":[{\"id\":\"dd825976-7221-41d5-aa19-0471306a6e85\",\"type\":\"LegendItem\"}],\"label_text_font_size\":{\"value\":\"8pt\"},\"location\":\"top_center\",\"orientation\":\"horizontal\",\"plot\":{\"id\":\"84a7f419-b386-445a-ad4d-0562ae5bd2b3\",\"subtype\":\"Figure\",\"type\":\"Plot\"}},\"id\":\"d0b86d58-027a-4984-8b15-c942d5502d6e\",\"type\":\"Legend\"},{\"attributes\":{},\"id\":\"820b7588-980a-4e87-acd4-105d3e13655d\",\"type\":\"WheelZoomTool\"},{\"attributes\":{\"bottom_units\":\"screen\",\"fill_alpha\":{\"value\":0.5},\"fill_color\":{\"value\":\"lightgrey\"},\"left_units\":\"screen\",\"level\":\"overlay\",\"line_alpha\":{\"value\":1.0},\"line_color\":{\"value\":\"black\"},\"line_dash\":[4,4],\"line_width\":{\"value\":2},\"plot\":null,\"render_mode\":\"css\",\"right_units\":\"screen\",\"top_units\":\"screen\"},\"id\":\"cc20cbeb-d8ee-4578-b9be-3a631d73aee6\",\"type\":\"BoxAnnotation\"},{\"attributes\":{\"overlay\":{\"id\":\"e33550f2-f3e9-4097-92af-de6db5524f98\",\"type\":\"BoxAnnotation\"}},\"id\":\"1df4f5ef-dc50-4a13-946e-45b7dce3efee\",\"type\":\"BoxZoomTool\"},{\"attributes\":{},\"id\":\"f406065d-1660-4662-84cc-ca69591a20c7\",\"type\":\"ResetTool\"},{\"attributes\":{},\"id\":\"5ef4adf0-12bb-4e6e-bf06-52f7c121a409\",\"type\":\"LogScale\"},{\"attributes\":{},\"id\":\"d631dbb0-51ce-4bc8-aa92-8bec95521b7c\",\"type\":\"HelpTool\"},{\"attributes\":{},\"id\":\"fb1786b9-9038-4b30-be2f-fe8e907ac804\",\"type\":\"ResetTool\"},{\"attributes\":{\"callback\":null,\"end\":121.7320058544242,\"start\":-6.058633578406219},\"id\":\"bc1540fe-af21-4a98-ad74-c3b1d4bd8398\",\"type\":\"Range1d\"},{\"attributes\":{\"bottom_units\":\"screen\",\"fill_alpha\":{\"value\":0.5},\"fill_color\":{\"value\":\"lightgrey\"},\"left_units\":\"screen\",\"level\":\"overlay\",\"line_alpha\":{\"value\":1.0},\"line_color\":{\"value\":\"black\"},\"line_dash\":[4,4],\"line_width\":{\"value\":2},\"plot\":null,\"render_mode\":\"css\",\"right_units\":\"screen\",\"top_units\":\"screen\"},\"id\":\"bc570ead-011a-4e7c-a692-c9d3e62a74d8\",\"type\":\"BoxAnnotation\"},{\"attributes\":{\"num_minor_ticks\":10},\"id\":\"65562b9f-483a-4927-90c8-3455849981da\",\"type\":\"LogTicker\"},{\"attributes\":{},\"id\":\"734a4dd0-4d5b-488b-bc0d-582900e5115f\",\"type\":\"BasicTicker\"},{\"attributes\":{},\"id\":\"e25de86f-a03a-442d-bd68-e1ad9c58ea73\",\"type\":\"SaveTool\"},{\"attributes\":{\"plot\":{\"id\":\"84a7f419-b386-445a-ad4d-0562ae5bd2b3\",\"subtype\":\"Figure\",\"type\":\"Plot\"},\"ticker\":{\"id\":\"734a4dd0-4d5b-488b-bc0d-582900e5115f\",\"type\":\"BasicTicker\"}},\"id\":\"f6b145a2-8162-4a0a-9ffd-5cfd3474579a\",\"type\":\"Grid\"},{\"attributes\":{\"callback\":null,\"end\":0.01,\"start\":1020},\"id\":\"a518e37e-8f0b-4227-be34-b5f0cf431400\",\"type\":\"Range1d\"},{\"attributes\":{},\"id\":\"eb9f082d-9505-4edc-9ef7-51c276455f30\",\"type\":\"PanTool\"},{\"attributes\":{},\"id\":\"e2105c3a-1a39-4a2d-a1d7-a91b462d7042\",\"type\":\"PanTool\"},{\"attributes\":{\"axis_label\":\"pressure [mb]\",\"formatter\":{\"id\":\"e42aedd1-6bb5-4b70-b743-1ab7869d3143\",\"type\":\"LogTickFormatter\"},\"plot\":{\"id\":\"84a7f419-b386-445a-ad4d-0562ae5bd2b3\",\"subtype\":\"Figure\",\"type\":\"Plot\"},\"ticker\":{\"id\":\"65562b9f-483a-4927-90c8-3455849981da\",\"type\":\"LogTicker\"}},\"id\":\"cb732990-75c0-4a3c-b23d-febf2bbb0aac\",\"type\":\"LogAxis\"},{\"attributes\":{},\"id\":\"19566699-dc54-4953-bd0c-3d26c88728cf\",\"type\":\"HelpTool\"},{\"attributes\":{\"data_source\":{\"id\":\"59b28d99-8880-4aa7-9abf-ec56caf2b506\",\"type\":\"ColumnDataSource\"},\"glyph\":{\"id\":\"e412e090-5ca3-4604-9a5f-5aa4f5a45d60\",\"type\":\"Circle\"},\"hover_glyph\":null,\"muted_glyph\":null,\"nonselection_glyph\":{\"id\":\"62d43c5d-ac1a-464d-be74-ce0812f73244\",\"type\":\"Circle\"},\"selection_glyph\":null,\"view\":{\"id\":\"860da0c9-e5fc-426a-a57b-50d4791bfb80\",\"type\":\"CDSView\"}},\"id\":\"6ae567b1-e87f-4a3b-ad94-3e85b8e25f1d\",\"type\":\"GlyphRenderer\"},{\"attributes\":{\"axis_label\":\"cooling rate [K/day]\",\"formatter\":{\"id\":\"04b6ce8b-56f6-4ba7-98e2-213b59ed927d\",\"type\":\"BasicTickFormatter\"},\"plot\":{\"id\":\"84a7f419-b386-445a-ad4d-0562ae5bd2b3\",\"subtype\":\"Figure\",\"type\":\"Plot\"},\"ticker\":{\"id\":\"734a4dd0-4d5b-488b-bc0d-582900e5115f\",\"type\":\"BasicTicker\"}},\"id\":\"b9eca8e4-d880-48ea-b572-0782a1023432\",\"type\":\"LinearAxis\"},{\"attributes\":{\"overlay\":{\"id\":\"cc20cbeb-d8ee-4578-b9be-3a631d73aee6\",\"type\":\"BoxAnnotation\"}},\"id\":\"d1ab955d-6b36-4aeb-a04a-092b531975e0\",\"type\":\"BoxZoomTool\"},{\"attributes\":{},\"id\":\"31eed07c-36b1-49ed-8eee-b98e821556c4\",\"type\":\"LinearScale\"},{\"attributes\":{\"label\":{\"value\":\"CLIRAD (single-run)\"},\"renderers\":[{\"id\":\"da335a13-4750-4dba-acaf-e557619762b2\",\"type\":\"GlyphRenderer\"}]},\"id\":\"d47f2639-ea01-49b3-91d3-8a00c7465f15\",\"type\":\"LegendItem\"},{\"attributes\":{\"line_alpha\":0.6,\"line_color\":\"#377eb8\",\"line_dash\":[6],\"line_width\":5,\"x\":{\"field\":\"x\"},\"y\":{\"field\":\"y\"}},\"id\":\"dc52d1b6-b453-44ac-bc7b-b1f102ff3f42\",\"type\":\"Line\"},{\"attributes\":{\"source\":{\"id\":\"82914881-0e76-4ff6-97c8-e0830f0fcda8\",\"type\":\"ColumnDataSource\"}},\"id\":\"37f93e4f-814a-4c2a-9058-43fcae45b413\",\"type\":\"CDSView\"},{\"attributes\":{\"line_color\":\"#4daf4a\",\"line_width\":1.5,\"x\":{\"field\":\"x\"},\"y\":{\"field\":\"y\"}},\"id\":\"33a5c591-990d-4ee2-992c-a107883fa2bd\",\"type\":\"Line\"},{\"attributes\":{\"callback\":null,\"data\":{\"x\":{\"__ndarray__\":\"zApFup+FRUDUKY9uhNNCQLyVJTrLtEFAHhSUopUdQEDVJeMYyRY8QP4lqUwxKzdABoTWw5fpMUD+QSRDjgUqQJpLu+LzSCJAQw3w7hKeGkAE9/LxvzsVQN3LIrmhBhJAC6arhaOVDUAyvEhXnzEDQI8PaQpT6v4/Dg8GQ8KsBUABjpg0oUQMQNNCbitinRBAg5MjU/TeE0D3F+aps08ZQPzFbMmqDCFAAHFXryIDJ0B5dCMsKhooQJ4GDJI+hSRAiJtTyQAoIUDOVOMAVVccQAMSXszgWRhAb2b0o+EsFEBc13llKMgPQDZPZJx1PAlAsYUgByU8BUAe91IdF3oAQIypqoazsfQ/F0Oc+2kL5j/o1hDB3f7QP4u/klCficG/2xOo7l+T3r9bcdzvcSLYv0Ot+K2uL1+/D9+6SalXxT/w8OiQ5a7YP8arKDXmu+w//zebM0e79j+avBKSFtj9PxYh0PRt7ABAxYFGn0WFAUDbh7zl6kcCQOulzkgpTQJAlSR0PAsXAUDn5bD7joEAQOtDzUadTwBAmVZUDncvAEDbv7LSpAQAQDTQIRVrnf8/t926URpA/z/ucrYlFwj/P1QT6SOVDv8/GqjnOBJD/z/MH3ghwmT/Py0u6YPAZf8/57S4EPVM/z/ljHJ6KPv+P72WRoJf2f0/MnbCS3DK/D8SeYFIdTD6P0xDQ7V3nPc/FkYfmEju9T+Qvd798X70P8xuHGeJxPM/hCo1e6CV8z+uefqtQq/zP1JEhlW8EfQ/UPl8OVgE9T+DlVS3xLv2PxqOQu0S2CPA\",\"dtype\":\"float64\",\"shape\":[75]},\"y\":{\"__ndarray__\":\"GhExyth1ND/Sv8nbtpRIP2vylNV0PVE/aTum7souWD/At0SJ8fVgPw3Iuahxymc/MSNhhJWvcD/bTfBN02d3P2zb5nxnaoA/CD5h5MAGhz8NmeH1TyaQP+zrCsc9p5Y/LbKd76fGnz/bLW5ISEmmPww9YvTcQq8/JV2OstnstT8Er5Y7M8G+P0c+r3jqkcU/5h99k6ZBzj88bCIzFzjVP4enV8oyxN0//yH99nXg5D8qOpLLf0jtP5kqGJXUifQ/c9cS8kHP/D+/DpwzojQEQIEmwoanVwxA4lgXt9HgE0BSSZ2AJuIbQAMJih9jjiNA5q4l5INuK0AwTKYKRj0zQNv5fmq8/DpAaCJseHrtQkB/+zpwzoxKQM3MzMzMeFJAZmZmZmZqWEAAAAAAAFxeQM3MzMzMJmJAmpmZmZkfZUBmZmZmZhhoQDMzMzMzEWtAAAAAAAAKbkBmZmZmZoFwQM3MzMzM/XFAMzMzMzN6c0CamZmZmfZ0QAAAAAAAc3ZAZmZmZmbvd0DNzMzMzGt5QDMzMzMz6HpAmpmZmZlkfEAAAAAAAOF9QGZmZmZmXX9AZmZmZuZsgECamZmZGSuBQM3MzMxM6YFAAAAAAICngkAzMzMzs2WDQGZmZmbmI4RAmpmZmRnihEDNzMzMTKCFQAAAAACAXoZAMzMzM7Mch0BmZmZm5tqHQJqZmZkZmYhAzczMzExXiUAAAAAAgBWKQDMzMzOz04pAZmZmZuaRi0CamZmZGVCMQM3MzMxMDo1AAAAAAIDMjUAzMzMzs4qOQGZmZmbmSI9A\",\"dtype\":\"float64\",\"shape\":[75]}},\"selected\":{\"id\":\"873f2251-4192-45dc-b43f-7c8e36aed013\",\"type\":\"Selection\"},\"selection_policy\":{\"id\":\"e3041c09-3923-48b6-8ee8-1bb7eb4b78aa\",\"type\":\"UnionRenderers\"}},\"id\":\"ec629173-af18-4ce3-b441-88c5a14ab9dd\",\"type\":\"ColumnDataSource\"},{\"attributes\":{\"data_source\":{\"id\":\"587a33c9-5943-40b8-a675-574e9c6aa230\",\"type\":\"ColumnDataSource\"},\"glyph\":{\"id\":\"33a5c591-990d-4ee2-992c-a107883fa2bd\",\"type\":\"Line\"},\"hover_glyph\":null,\"muted_glyph\":null,\"nonselection_glyph\":{\"id\":\"90d29073-6019-452c-a02a-effc1b97dbbb\",\"type\":\"Line\"},\"selection_glyph\":null,\"view\":{\"id\":\"c672f8ec-ab85-4b48-af47-fa3c556beb89\",\"type\":\"CDSView\"}},\"id\":\"409dd24e-f69c-4544-813f-82f579e14c75\",\"type\":\"GlyphRenderer\"},{\"attributes\":{},\"id\":\"e060a8b0-a042-4da6-816e-999e1242867f\",\"type\":\"ResetTool\"},{\"attributes\":{\"fill_alpha\":{\"value\":0.1},\"fill_color\":{\"value\":\"#1f77b4\"},\"line_alpha\":{\"value\":0.1},\"line_color\":{\"value\":\"#1f77b4\"},\"x\":{\"field\":\"x\"},\"y\":{\"field\":\"y\"}},\"id\":\"f2fd999e-496c-4241-b748-845e1e3dcc1b\",\"type\":\"Circle\"},{\"attributes\":{\"callback\":null,\"data\":{\"x\":{\"__ndarray__\":\"R/KIaN7AVEClCeJMyPNGQOvRhpxr30JAptxzhxx4PkA7SssMElA4QK6Bp3CyUDNAsVXpjES9LkBFhUV0+5coQMHYwqbbySNA6f09nM3nH0CaSd/3eYoZQDmgiAOW8BNAPYqARh3eDEBkm4vCgvr+P9D+5tWhQfY/P8DwKRnSAkBq38kb17ILQDT7IWuSsxFAUr2Rjm0FFkAinq3s9XgbQGCHwtYcqSFAG64kT303J0C7dRDneyooQD9JYrbK8yRA9S3bneHhIUAIymSuUMMcQIkHLe6VEBdAAau3cITREkA6CiNvkQIPQJU39ki7IQlAaAvwok1UA0BXLQiS4+L7P0xzDpJ2hPI/NNuPGMbJ5z91mUVYxqfSPxqwUPSxZca/G11peifD3L8QzNj5t2jTvwzOozTL360/SPJ4VI1VzD9KJ0nXEIncP8yDdlvHt+4/Et49nYLW9z++2teD4Jn+P+568eH/bwFALf5D9lmAAkCiZAicVOkCQPPT4jNKxwJAOjp3wTzBAUBSQsKNGisBQG4OmjqJwQBAJ3sZoHFuAEA5Ar0Sdi0AQGy4rw5+9f8/7W4nSrC3/z8mPr8zj4T/P4UYRHCQS/8/embVKYcF/z+5YXG+LLP+P/qb8BVUgf4/KvafTtyO/j/avAK1Ppv+PwJV9VVm2P0/JFtYlU/n/D9sN+q2fiX6Pw44e41PNPc/Opt+Z/wN9T+x3vcSW1vzP9ofvWQJlvI/8sciQQBW8j80sfkQa17yPzg5qng2r/I/Oh14WJBh8z+VZjnpctj0P6CcrSuCqQBA\",\"dtype\":\"float64\",\"shape\":[75]},\"y\":{\"__ndarray__\":\"GhExyth1ND/Sv8nbtpRIP2vylNV0PVE/aTum7souWD/At0SJ8fVgPw3Iuahxymc/MSNhhJWvcD/bTfBN02d3P2zb5nxnaoA/CD5h5MAGhz8NmeH1TyaQP+zrCsc9p5Y/LbKd76fGnz/bLW5ISEmmPww9YvTcQq8/JV2OstnstT8Er5Y7M8G+P0c+r3jqkcU/5h99k6ZBzj88bCIzFzjVP4enV8oyxN0//yH99nXg5D8qOpLLf0jtP5kqGJXUifQ/c9cS8kHP/D+/DpwzojQEQIEmwoanVwxA4lgXt9HgE0BSSZ2AJuIbQAMJih9jjiNA5q4l5INuK0AwTKYKRj0zQNv5fmq8/DpAaCJseHrtQkB/+zpwzoxKQM3MzMzMeFJAZmZmZmZqWEAAAAAAAFxeQM3MzMzMJmJAmpmZmZkfZUBmZmZmZhhoQDMzMzMzEWtAAAAAAAAKbkBmZmZmZoFwQM3MzMzM/XFAMzMzMzN6c0CamZmZmfZ0QAAAAAAAc3ZAZmZmZmbvd0DNzMzMzGt5QDMzMzMz6HpAmpmZmZlkfEAAAAAAAOF9QGZmZmZmXX9AZmZmZuZsgECamZmZGSuBQM3MzMxM6YFAAAAAAICngkAzMzMzs2WDQGZmZmbmI4RAmpmZmRnihEDNzMzMTKCFQAAAAACAXoZAMzMzM7Mch0BmZmZm5tqHQJqZmZkZmYhAzczMzExXiUAAAAAAgBWKQDMzMzOz04pAZmZmZuaRi0CamZmZGVCMQM3MzMxMDo1AAAAAAIDMjUAzMzMzs4qOQGZmZmbmSI9A\",\"dtype\":\"float64\",\"shape\":[75]}},\"selected\":{\"id\":\"f7b39b27-2a91-401a-9a55-f023cdbf8059\",\"type\":\"Selection\"},\"selection_policy\":{\"id\":\"2aac2aaf-aaca-488c-a3e3-286537509a1f\",\"type\":\"UnionRenderers\"}},\"id\":\"fa3a7c3e-511a-4c69-bd71-da70022704a5\",\"type\":\"ColumnDataSource\"},{\"attributes\":{\"callback\":null,\"data\":{\"x\":{\"__ndarray__\":\"R/KIaN7AVEClCeJMyPNGQOvRhpxr30JAptxzhxx4PkA7SssMElA4QK6Bp3CyUDNAsVXpjES9LkBFhUV0+5coQMHYwqbbySNA6f09nM3nH0CaSd/3eYoZQDmgiAOW8BNAPYqARh3eDEBkm4vCgvr+P9D+5tWhQfY/P8DwKRnSAkBq38kb17ILQDT7IWuSsxFAUr2Rjm0FFkAinq3s9XgbQGCHwtYcqSFAG64kT303J0C7dRDneyooQD9JYrbK8yRA9S3bneHhIUAIymSuUMMcQIkHLe6VEBdAAau3cITREkA6CiNvkQIPQJU39ki7IQlAaAvwok1UA0BXLQiS4+L7P0xzDpJ2hPI/NNuPGMbJ5z91mUVYxqfSPxqwUPSxZca/G11peifD3L8QzNj5t2jTvwzOozTL360/SPJ4VI1VzD9KJ0nXEIncP8yDdlvHt+4/Et49nYLW9z++2teD4Jn+P+568eH/bwFALf5D9lmAAkCiZAicVOkCQPPT4jNKxwJAOjp3wTzBAUBSQsKNGisBQG4OmjqJwQBAJ3sZoHFuAEA5Ar0Sdi0AQGy4rw5+9f8/7W4nSrC3/z8mPr8zj4T/P4UYRHCQS/8/embVKYcF/z+5YXG+LLP+P/qb8BVUgf4/KvafTtyO/j/avAK1Ppv+PwJV9VVm2P0/JFtYlU/n/D9sN+q2fiX6Pw44e41PNPc/Opt+Z/wN9T+x3vcSW1vzP9ofvWQJlvI/8sciQQBW8j80sfkQa17yPzg5qng2r/I/Oh14WJBh8z+VZjnpctj0P6CcrSuCqQBA\",\"dtype\":\"float64\",\"shape\":[75]},\"y\":{\"__ndarray__\":\"GhExyth1ND/Sv8nbtpRIP2vylNV0PVE/aTum7souWD/At0SJ8fVgPw3Iuahxymc/MSNhhJWvcD/bTfBN02d3P2zb5nxnaoA/CD5h5MAGhz8NmeH1TyaQP+zrCsc9p5Y/LbKd76fGnz/bLW5ISEmmPww9YvTcQq8/JV2OstnstT8Er5Y7M8G+P0c+r3jqkcU/5h99k6ZBzj88bCIzFzjVP4enV8oyxN0//yH99nXg5D8qOpLLf0jtP5kqGJXUifQ/c9cS8kHP/D+/DpwzojQEQIEmwoanVwxA4lgXt9HgE0BSSZ2AJuIbQAMJih9jjiNA5q4l5INuK0AwTKYKRj0zQNv5fmq8/DpAaCJseHrtQkB/+zpwzoxKQM3MzMzMeFJAZmZmZmZqWEAAAAAAAFxeQM3MzMzMJmJAmpmZmZkfZUBmZmZmZhhoQDMzMzMzEWtAAAAAAAAKbkBmZmZmZoFwQM3MzMzM/XFAMzMzMzN6c0CamZmZmfZ0QAAAAAAAc3ZAZmZmZmbvd0DNzMzMzGt5QDMzMzMz6HpAmpmZmZlkfEAAAAAAAOF9QGZmZmZmXX9AZmZmZuZsgECamZmZGSuBQM3MzMxM6YFAAAAAAICngkAzMzMzs2WDQGZmZmbmI4RAmpmZmRnihEDNzMzMTKCFQAAAAACAXoZAMzMzM7Mch0BmZmZm5tqHQJqZmZkZmYhAzczMzExXiUAAAAAAgBWKQDMzMzOz04pAZmZmZuaRi0CamZmZGVCMQM3MzMxMDo1AAAAAAIDMjUAzMzMzs4qOQGZmZmbmSI9A\",\"dtype\":\"float64\",\"shape\":[75]}},\"selected\":{\"id\":\"3630c9ac-9803-4d43-8dc8-8d8c0572d61d\",\"type\":\"Selection\"},\"selection_policy\":{\"id\":\"fb00ba65-502e-4b57-b1f7-c7fa700ab6e5\",\"type\":\"UnionRenderers\"}},\"id\":\"587a33c9-5943-40b8-a675-574e9c6aa230\",\"type\":\"ColumnDataSource\"},{\"attributes\":{\"data_source\":{\"id\":\"82914881-0e76-4ff6-97c8-e0830f0fcda8\",\"type\":\"ColumnDataSource\"},\"glyph\":{\"id\":\"28691435-4908-453e-b5ac-df34b3f1f5d4\",\"type\":\"Circle\"},\"hover_glyph\":null,\"muted_glyph\":null,\"nonselection_glyph\":{\"id\":\"f2fd999e-496c-4241-b748-845e1e3dcc1b\",\"type\":\"Circle\"},\"selection_glyph\":null,\"view\":{\"id\":\"37f93e4f-814a-4c2a-9058-43fcae45b413\",\"type\":\"CDSView\"}},\"id\":\"9266f694-22ed-4b2e-882a-0d721a84a126\",\"type\":\"GlyphRenderer\"},{\"attributes\":{\"source\":{\"id\":\"ec629173-af18-4ce3-b441-88c5a14ab9dd\",\"type\":\"ColumnDataSource\"}},\"id\":\"ab3937c7-26bb-40bd-8c05-6a3da635b1f7\",\"type\":\"CDSView\"},{\"attributes\":{\"fill_alpha\":{\"value\":0.7},\"fill_color\":{\"value\":\"#4daf4a\"},\"line_alpha\":{\"value\":0.7},\"line_color\":{\"value\":\"#4daf4a\"},\"x\":{\"field\":\"x\"},\"y\":{\"field\":\"y\"}},\"id\":\"bbdda8f0-b461-4779-b653-7526ca87852c\",\"type\":\"Circle\"},{\"attributes\":{\"data_source\":{\"id\":\"3d6f98c3-d51d-4fd7-9aa3-b619aa6ebadc\",\"type\":\"ColumnDataSource\"},\"glyph\":{\"id\":\"dc52d1b6-b453-44ac-bc7b-b1f102ff3f42\",\"type\":\"Line\"},\"hover_glyph\":null,\"muted_glyph\":null,\"nonselection_glyph\":{\"id\":\"e6ee1e04-701f-4c94-8697-8fb10fe3ff05\",\"type\":\"Line\"},\"selection_glyph\":null,\"view\":{\"id\":\"c6656cd1-d71a-4f03-bedf-100004136601\",\"type\":\"CDSView\"}},\"id\":\"c76d0daf-d569-4fcf-80d1-e5dca7c35fd5\",\"type\":\"GlyphRenderer\"},{\"attributes\":{\"line_alpha\":0.1,\"line_color\":\"#1f77b4\",\"line_width\":1.5,\"x\":{\"field\":\"x\"},\"y\":{\"field\":\"y\"}},\"id\":\"90d29073-6019-452c-a02a-effc1b97dbbb\",\"type\":\"Line\"},{\"attributes\":{\"line_alpha\":0.1,\"line_color\":\"#1f77b4\",\"line_dash\":[6],\"line_width\":5,\"x\":{\"field\":\"x\"},\"y\":{\"field\":\"y\"}},\"id\":\"e6ee1e04-701f-4c94-8697-8fb10fe3ff05\",\"type\":\"Line\"},{\"attributes\":{\"source\":{\"id\":\"3d6f98c3-d51d-4fd7-9aa3-b619aa6ebadc\",\"type\":\"ColumnDataSource\"}},\"id\":\"c6656cd1-d71a-4f03-bedf-100004136601\",\"type\":\"CDSView\"},{\"attributes\":{\"fill_alpha\":{\"value\":0.7},\"fill_color\":{\"value\":\"#4daf4a\"},\"line_alpha\":{\"value\":0.7},\"line_color\":{\"value\":\"#4daf4a\"},\"x\":{\"field\":\"x\"},\"y\":{\"field\":\"y\"}},\"id\":\"28691435-4908-453e-b5ac-df34b3f1f5d4\",\"type\":\"Circle\"},{\"attributes\":{\"callback\":null,\"data\":{\"x\":{\"__ndarray__\":\"R/KIaN7AVEClCeJMyPNGQOvRhpxr30JAptxzhxx4PkA7SssMElA4QK6Bp3CyUDNAsVXpjES9LkBFhUV0+5coQMHYwqbbySNA6f09nM3nH0CaSd/3eYoZQDmgiAOW8BNAPYqARh3eDEBkm4vCgvr+P9D+5tWhQfY/P8DwKRnSAkBq38kb17ILQDT7IWuSsxFAUr2Rjm0FFkAinq3s9XgbQGCHwtYcqSFAG64kT303J0C7dRDneyooQD9JYrbK8yRA9S3bneHhIUAIymSuUMMcQIkHLe6VEBdAAau3cITREkA6CiNvkQIPQJU39ki7IQlAaAvwok1UA0BXLQiS4+L7P0xzDpJ2hPI/NNuPGMbJ5z91mUVYxqfSPxqwUPSxZca/G11peifD3L8QzNj5t2jTvwzOozTL360/SPJ4VI1VzD9KJ0nXEIncP8yDdlvHt+4/Et49nYLW9z++2teD4Jn+P+568eH/bwFALf5D9lmAAkCiZAicVOkCQPPT4jNKxwJAOjp3wTzBAUBSQsKNGisBQG4OmjqJwQBAJ3sZoHFuAEA5Ar0Sdi0AQGy4rw5+9f8/7W4nSrC3/z8mPr8zj4T/P4UYRHCQS/8/embVKYcF/z+5YXG+LLP+P/qb8BVUgf4/KvafTtyO/j/avAK1Ppv+PwJV9VVm2P0/JFtYlU/n/D9sN+q2fiX6Pw44e41PNPc/Opt+Z/wN9T+x3vcSW1vzP9ofvWQJlvI/8sciQQBW8j80sfkQa17yPzg5qng2r/I/Oh14WJBh8z+VZjnpctj0P6CcrSuCqQBA\",\"dtype\":\"float64\",\"shape\":[75]},\"y\":{\"__ndarray__\":\"GhExyth1ND/Sv8nbtpRIP2vylNV0PVE/aTum7souWD/At0SJ8fVgPw3Iuahxymc/MSNhhJWvcD/bTfBN02d3P2zb5nxnaoA/CD5h5MAGhz8NmeH1TyaQP+zrCsc9p5Y/LbKd76fGnz/bLW5ISEmmPww9YvTcQq8/JV2OstnstT8Er5Y7M8G+P0c+r3jqkcU/5h99k6ZBzj88bCIzFzjVP4enV8oyxN0//yH99nXg5D8qOpLLf0jtP5kqGJXUifQ/c9cS8kHP/D+/DpwzojQEQIEmwoanVwxA4lgXt9HgE0BSSZ2AJuIbQAMJih9jjiNA5q4l5INuK0AwTKYKRj0zQNv5fmq8/DpAaCJseHrtQkB/+zpwzoxKQM3MzMzMeFJAZmZmZmZqWEAAAAAAAFxeQM3MzMzMJmJAmpmZmZkfZUBmZmZmZhhoQDMzMzMzEWtAAAAAAAAKbkBmZmZmZoFwQM3MzMzM/XFAMzMzMzN6c0CamZmZmfZ0QAAAAAAAc3ZAZmZmZmbvd0DNzMzMzGt5QDMzMzMz6HpAmpmZmZlkfEAAAAAAAOF9QGZmZmZmXX9AZmZmZuZsgECamZmZGSuBQM3MzMxM6YFAAAAAAICngkAzMzMzs2WDQGZmZmbmI4RAmpmZmRnihEDNzMzMTKCFQAAAAACAXoZAMzMzM7Mch0BmZmZm5tqHQJqZmZkZmYhAzczMzExXiUAAAAAAgBWKQDMzMzOz04pAZmZmZuaRi0CamZmZGVCMQM3MzMxMDo1AAAAAAIDMjUAzMzMzs4qOQGZmZmbmSI9A\",\"dtype\":\"float64\",\"shape\":[75]}},\"selected\":{\"id\":\"8e88ec94-70a8-471a-82a0-5e8aee108469\",\"type\":\"Selection\"},\"selection_policy\":{\"id\":\"590a3287-c26a-4c59-b337-7ac584bf7fc7\",\"type\":\"UnionRenderers\"}},\"id\":\"82914881-0e76-4ff6-97c8-e0830f0fcda8\",\"type\":\"ColumnDataSource\"},{\"attributes\":{\"plot\":{\"id\":\"3c1dd7d7-ac12-4f7d-a537-36582dafb6e7\",\"subtype\":\"Figure\",\"type\":\"Plot\"},\"ticker\":{\"id\":\"ab6bdc00-7b71-45fb-831a-a97c40692a93\",\"type\":\"BasicTicker\"}},\"id\":\"42347d71-7611-41fa-8228-dbea9208703b\",\"type\":\"Grid\"},{\"attributes\":{\"source\":{\"id\":\"7eb57ca5-5bf1-4734-8d73-f1213f749a5b\",\"type\":\"ColumnDataSource\"}},\"id\":\"fb5fa471-b27d-4781-8a81-0eca12d8b2e9\",\"type\":\"CDSView\"},{\"attributes\":{},\"id\":\"9326bda7-d8e7-4474-a62c-ca00d4c1f349\",\"type\":\"BasicTickFormatter\"},{\"attributes\":{},\"id\":\"590a3287-c26a-4c59-b337-7ac584bf7fc7\",\"type\":\"UnionRenderers\"},{\"attributes\":{\"axis_label\":\"cooling rate [K/day]\",\"formatter\":{\"id\":\"9326bda7-d8e7-4474-a62c-ca00d4c1f349\",\"type\":\"BasicTickFormatter\"},\"plot\":{\"id\":\"3c1dd7d7-ac12-4f7d-a537-36582dafb6e7\",\"subtype\":\"Figure\",\"type\":\"Plot\"},\"ticker\":{\"id\":\"ab6bdc00-7b71-45fb-831a-a97c40692a93\",\"type\":\"BasicTicker\"}},\"id\":\"13f65fbc-2aa9-4cc5-a996-9eda4878084b\",\"type\":\"LinearAxis\"},{\"attributes\":{},\"id\":\"04b6ce8b-56f6-4ba7-98e2-213b59ed927d\",\"type\":\"BasicTickFormatter\"},{\"attributes\":{},\"id\":\"e3041c09-3923-48b6-8ee8-1bb7eb4b78aa\",\"type\":\"UnionRenderers\"},{\"attributes\":{},\"id\":\"35f1bad3-8613-4fe3-a595-1564d15a5693\",\"type\":\"UnionRenderers\"},{\"attributes\":{},\"id\":\"8e88ec94-70a8-471a-82a0-5e8aee108469\",\"type\":\"Selection\"},{\"attributes\":{\"callback\":null,\"end\":2.4867904141807005,\"start\":-10.0448789031107},\"id\":\"34859d37-7c07-4009-8ca2-b99b722fe628\",\"type\":\"Range1d\"},{\"attributes\":{},\"id\":\"5791e63f-13eb-44f4-8595-a8b7d3385b9a\",\"type\":\"Selection\"},{\"attributes\":{},\"id\":\"9d618194-12c9-4da2-b628-8e458796602a\",\"type\":\"BasicTickFormatter\"},{\"attributes\":{\"callback\":null,\"data\":{\"x\":{\"__ndarray__\":\"RbL8BYRneEBOmGgOXQR3QKXTYvyp/HVA310U9ytBdEBfdU8gqcpxQAikU3tNcW1ALWB4ZFy1ZkAKleQWUlpgQNss6eITq1ZAQCmBKjBOUEBzKrKt2ABKQErEHp4LS0ZAhPl9l/6IQkAOSdvrknQ4QMXKyfn+3DNAqzzq9kdzO0CqQ2xiAbRBQHxcU670oURAK7N+QOKRSEAwrQZMeF5PQE8/HTpHPFVAnKUzB2C9XEBusc5/qh5eQPA/BLK8mFlAHJAX4cRaVUCu/bVl1a9RQNK3O1uCmU5AehdZs4VjSUBsk9GuculDQPgl603qjj9AZ7ZuNSnIOkD0kDGPsek0QLba6AbIIypA2ODk9nhWG0BQdG4eeAkFQF2xP9CEUPW/1PdsfB85E8BcApSqRcIOwMqkOKAXTLS/bNTRGtfN+T9gJleMWV8OQNuN1M6x1SFAPbFNk7FGLED+Yy988ZoyQCH+XzQXFzVAqXI4fDTHNUA5LmJouMU2QKbJn30v0TZABsvw2odHNUDT81pIwYw0QJT7BhpHVTRArcewf3UzNECGJ17fswA0QJxDnL3hvDNAfwGOE5eAM0Aie7H2Rl0zQMH7q4FNZTNAK+2BFMSNM0DBfxurEqozQABGURnfrTNA/PyUtvqbM0AQld7o92IzQFIyMUTrpzJAkCvAOrj8MUDFX2q2+F4wQIcVjaeakC1A9yw7ROSFK0DQSLNaIcMpQF10L8F72yhAdsFEofyiKEAoMRlNLsUoQMpWgyZ8QilAJ9P8Q8d5KkDBIO0eIKcsQErwmBdmzlvA\",\"dtype\":\"float64\",\"shape\":[75]},\"y\":{\"__ndarray__\":\"GhExyth1ND/Sv8nbtpRIP2vylNV0PVE/aTum7souWD/At0SJ8fVgPw3Iuahxymc/MSNhhJWvcD/bTfBN02d3P2zb5nxnaoA/CD5h5MAGhz8NmeH1TyaQP+zrCsc9p5Y/LbKd76fGnz/bLW5ISEmmPww9YvTcQq8/JV2OstnstT8Er5Y7M8G+P0c+r3jqkcU/5h99k6ZBzj88bCIzFzjVP4enV8oyxN0//yH99nXg5D8qOpLLf0jtP5kqGJXUifQ/c9cS8kHP/D+/DpwzojQEQIEmwoanVwxA4lgXt9HgE0BSSZ2AJuIbQAMJih9jjiNA5q4l5INuK0AwTKYKRj0zQNv5fmq8/DpAaCJseHrtQkB/+zpwzoxKQM3MzMzMeFJAZmZmZmZqWEAAAAAAAFxeQM3MzMzMJmJAmpmZmZkfZUBmZmZmZhhoQDMzMzMzEWtAAAAAAAAKbkBmZmZmZoFwQM3MzMzM/XFAMzMzMzN6c0CamZmZmfZ0QAAAAAAAc3ZAZmZmZmbvd0DNzMzMzGt5QDMzMzMz6HpAmpmZmZlkfEAAAAAAAOF9QGZmZmZmXX9AZmZmZuZsgECamZmZGSuBQM3MzMxM6YFAAAAAAICngkAzMzMzs2WDQGZmZmbmI4RAmpmZmRnihEDNzMzMTKCFQAAAAACAXoZAMzMzM7Mch0BmZmZm5tqHQJqZmZkZmYhAzczMzExXiUAAAAAAgBWKQDMzMzOz04pAZmZmZuaRi0CamZmZGVCMQM3MzMxMDo1AAAAAAIDMjUAzMzMzs4qOQGZmZmbmSI9A\",\"dtype\":\"float64\",\"shape\":[75]}},\"selected\":{\"id\":\"c864b9dc-8951-4cce-a5b6-9eb3eae1cc9b\",\"type\":\"Selection\"},\"selection_policy\":{\"id\":\"61193314-8ee6-491b-a93a-e357cfbfbf59\",\"type\":\"UnionRenderers\"}},\"id\":\"7eb57ca5-5bf1-4734-8d73-f1213f749a5b\",\"type\":\"ColumnDataSource\"},{\"attributes\":{\"data_source\":{\"id\":\"7eb57ca5-5bf1-4734-8d73-f1213f749a5b\",\"type\":\"ColumnDataSource\"},\"glyph\":{\"id\":\"873b1950-1dbb-4d91-8c40-3f34f7559770\",\"type\":\"Line\"},\"hover_glyph\":null,\"muted_glyph\":null,\"nonselection_glyph\":{\"id\":\"d6bf42c7-4131-4ea8-8e98-d4afab4a50aa\",\"type\":\"Line\"},\"selection_glyph\":null,\"view\":{\"id\":\"fb5fa471-b27d-4781-8a81-0eca12d8b2e9\",\"type\":\"CDSView\"}},\"id\":\"c7338c62-480d-49f1-86ad-78f69b4f3e44\",\"type\":\"GlyphRenderer\"},{\"attributes\":{},\"id\":\"df8bb68a-690c-4c40-bbee-e1dd3f361a4d\",\"type\":\"Selection\"},{\"attributes\":{},\"id\":\"54698d58-b7c1-468d-bdb9-ced643b38f60\",\"type\":\"HelpTool\"},{\"attributes\":{\"overlay\":{\"id\":\"bc570ead-011a-4e7c-a692-c9d3e62a74d8\",\"type\":\"BoxAnnotation\"}},\"id\":\"c0e3f6a8-d034-49a4-bbe9-8c03d92b3411\",\"type\":\"BoxZoomTool\"},{\"attributes\":{\"callback\":null,\"end\":0.01,\"start\":1020},\"id\":\"92aa0f9b-ce4b-4b3b-a530-8305d4bc01c3\",\"type\":\"Range1d\"},{\"attributes\":{\"plot\":null,\"text\":\"\"},\"id\":\"5aa483a7-f666-4534-875d-31184d6cc0d7\",\"type\":\"Title\"},{\"attributes\":{},\"id\":\"6e8d9836-2cc3-4d5a-b236-cb0f37aef265\",\"type\":\"UnionRenderers\"},{\"attributes\":{},\"id\":\"9f15d206-9795-48d6-b33a-ca0066f5f215\",\"type\":\"LinearScale\"},{\"attributes\":{},\"id\":\"5b59dc17-489c-4952-8d2f-837ed1015605\",\"type\":\"BasicTickFormatter\"},{\"attributes\":{\"toolbar\":{\"id\":\"55557378-5204-4bb1-9f3b-d2d6fa3322cc\",\"type\":\"ProxyToolbar\"},\"toolbar_location\":\"above\"},\"id\":\"2c041cba-4c21-4360-afce-797ad8731a66\",\"type\":\"ToolbarBox\"},{\"attributes\":{\"line_alpha\":0.8,\"line_color\":\"#984ea3\",\"line_width\":1.5,\"x\":{\"field\":\"x\"},\"y\":{\"field\":\"y\"}},\"id\":\"873b1950-1dbb-4d91-8c40-3f34f7559770\",\"type\":\"Line\"},{\"attributes\":{\"above\":[{\"id\":\"ffde5b38-03f5-4f33-877a-368a6780ce31\",\"type\":\"Legend\"}],\"below\":[{\"id\":\"13f65fbc-2aa9-4cc5-a996-9eda4878084b\",\"type\":\"LinearAxis\"}],\"left\":[{\"id\":\"8a4387f6-ae5e-4b6e-8fed-6522be154c03\",\"type\":\"LinearAxis\"}],\"plot_width\":300,\"renderers\":[{\"id\":\"13f65fbc-2aa9-4cc5-a996-9eda4878084b\",\"type\":\"LinearAxis\"},{\"id\":\"42347d71-7611-41fa-8228-dbea9208703b\",\"type\":\"Grid\"},{\"id\":\"8a4387f6-ae5e-4b6e-8fed-6522be154c03\",\"type\":\"LinearAxis\"},{\"id\":\"032c12fe-4ae7-4697-a210-e3a709e687c5\",\"type\":\"Grid\"},{\"id\":\"bc570ead-011a-4e7c-a692-c9d3e62a74d8\",\"type\":\"BoxAnnotation\"},{\"id\":\"c76d0daf-d569-4fcf-80d1-e5dca7c35fd5\",\"type\":\"GlyphRenderer\"},{\"id\":\"e8469236-7ccf-491e-8a73-c3ac100466bc\",\"type\":\"GlyphRenderer\"},{\"id\":\"e998eb69-b9bd-44d3-be4b-76dc04d8d487\",\"type\":\"GlyphRenderer\"},{\"id\":\"ffde5b38-03f5-4f33-877a-368a6780ce31\",\"type\":\"Legend\"}],\"title\":{\"id\":\"35ef8945-d25a-4f64-8165-4d8083128330\",\"type\":\"Title\"},\"toolbar\":{\"id\":\"37d0e635-a23f-4a12-b531-54c8e7422e37\",\"type\":\"Toolbar\"},\"toolbar_location\":null,\"x_range\":{\"id\":\"34859d37-7c07-4009-8ca2-b99b722fe628\",\"type\":\"Range1d\"},\"x_scale\":{\"id\":\"9f15d206-9795-48d6-b33a-ca0066f5f215\",\"type\":\"LinearScale\"},\"y_range\":{\"id\":\"34dd4c39-910b-4c40-9048-182fe3835f2e\",\"type\":\"Range1d\"},\"y_scale\":{\"id\":\"743b56a9-e6cf-4e0c-9452-c123d4931d9f\",\"type\":\"LinearScale\"}},\"id\":\"3c1dd7d7-ac12-4f7d-a537-36582dafb6e7\",\"subtype\":\"Figure\",\"type\":\"Plot\"},{\"attributes\":{\"items\":[{\"id\":\"767bc951-8886-4059-904d-7747a4f19fcd\",\"type\":\"LegendItem\"},{\"id\":\"fc4c4c38-0c5f-44ac-bcb8-4e26317ca87f\",\"type\":\"LegendItem\"}],\"label_text_font_size\":{\"value\":\"8pt\"},\"location\":\"top_center\",\"orientation\":\"horizontal\",\"plot\":{\"id\":\"3c1dd7d7-ac12-4f7d-a537-36582dafb6e7\",\"subtype\":\"Figure\",\"type\":\"Plot\"}},\"id\":\"ffde5b38-03f5-4f33-877a-368a6780ce31\",\"type\":\"Legend\"},{\"attributes\":{\"children\":[{\"id\":\"2c041cba-4c21-4360-afce-797ad8731a66\",\"type\":\"ToolbarBox\"},{\"id\":\"fbbff52a-54bc-45ef-8ded-098b0466f36c\",\"type\":\"Column\"}]},\"id\":\"2c2f9c6b-def8-4f51-bec8-f27305358ca0\",\"type\":\"Column\"},{\"attributes\":{},\"id\":\"a6874740-9f06-4c64-941b-b8c0cea26199\",\"type\":\"WheelZoomTool\"},{\"attributes\":{},\"id\":\"c38845ce-8e57-4a53-bdaf-4cbc6ed98fc4\",\"type\":\"UnionRenderers\"},{\"attributes\":{\"children\":[{\"id\":\"3c1dd7d7-ac12-4f7d-a537-36582dafb6e7\",\"subtype\":\"Figure\",\"type\":\"Plot\"},{\"id\":\"a8d1f6a4-b100-4db4-bb86-c20b49e77aed\",\"subtype\":\"Figure\",\"type\":\"Plot\"},{\"id\":\"84a7f419-b386-445a-ad4d-0562ae5bd2b3\",\"subtype\":\"Figure\",\"type\":\"Plot\"}]},\"id\":\"e4e79108-ec09-4848-a5ff-552361f49b1e\",\"type\":\"Row\"},{\"attributes\":{},\"id\":\"ab6bdc00-7b71-45fb-831a-a97c40692a93\",\"type\":\"BasicTicker\"},{\"attributes\":{},\"id\":\"c864b9dc-8951-4cce-a5b6-9eb3eae1cc9b\",\"type\":\"Selection\"},{\"attributes\":{},\"id\":\"f7b39b27-2a91-401a-9a55-f023cdbf8059\",\"type\":\"Selection\"},{\"attributes\":{\"active_drag\":\"auto\",\"active_inspect\":\"auto\",\"active_scroll\":\"auto\",\"active_tap\":\"auto\",\"tools\":[{\"id\":\"eb9f082d-9505-4edc-9ef7-51c276455f30\",\"type\":\"PanTool\"},{\"id\":\"f61a5ba9-2151-4c57-87c0-37eb0e202f9f\",\"type\":\"WheelZoomTool\"},{\"id\":\"1df4f5ef-dc50-4a13-946e-45b7dce3efee\",\"type\":\"BoxZoomTool\"},{\"id\":\"2a832456-5e5d-483a-b885-a9adef4a42d8\",\"type\":\"SaveTool\"},{\"id\":\"fb1786b9-9038-4b30-be2f-fe8e907ac804\",\"type\":\"ResetTool\"},{\"id\":\"d631dbb0-51ce-4bc8-aa92-8bec95521b7c\",\"type\":\"HelpTool\"}]},\"id\":\"ece46efa-9f60-4598-aee4-494ef39d6aa9\",\"type\":\"Toolbar\"},{\"attributes\":{\"line_alpha\":0.1,\"line_color\":\"#1f77b4\",\"line_width\":1.5,\"x\":{\"field\":\"x\"},\"y\":{\"field\":\"y\"}},\"id\":\"d6bf42c7-4131-4ea8-8e98-d4afab4a50aa\",\"type\":\"Line\"},{\"attributes\":{\"plot\":null,\"text\":\"\"},\"id\":\"35ef8945-d25a-4f64-8165-4d8083128330\",\"type\":\"Title\"},{\"attributes\":{},\"id\":\"fb00ba65-502e-4b57-b1f7-c7fa700ab6e5\",\"type\":\"UnionRenderers\"},{\"attributes\":{\"data_source\":{\"id\":\"fa3a7c3e-511a-4c69-bd71-da70022704a5\",\"type\":\"ColumnDataSource\"},\"glyph\":{\"id\":\"bbdda8f0-b461-4779-b653-7526ca87852c\",\"type\":\"Circle\"},\"hover_glyph\":null,\"muted_glyph\":null,\"nonselection_glyph\":{\"id\":\"d7fb6805-fd67-4f49-b22d-5662f0756f44\",\"type\":\"Circle\"},\"selection_glyph\":null,\"view\":{\"id\":\"95582f2d-c636-4a53-9394-d82f31f51b78\",\"type\":\"CDSView\"}},\"id\":\"e8469236-7ccf-491e-8a73-c3ac100466bc\",\"type\":\"GlyphRenderer\"},{\"attributes\":{},\"id\":\"d8c1cade-141a-4ba1-b7b4-2f0ee0937e86\",\"type\":\"PanTool\"},{\"attributes\":{},\"id\":\"3630c9ac-9803-4d43-8dc8-8d8c0572d61d\",\"type\":\"Selection\"},{\"attributes\":{\"fill_alpha\":{\"value\":0.1},\"fill_color\":{\"value\":\"#1f77b4\"},\"line_alpha\":{\"value\":0.1},\"line_color\":{\"value\":\"#1f77b4\"},\"x\":{\"field\":\"x\"},\"y\":{\"field\":\"y\"}},\"id\":\"d7fb6805-fd67-4f49-b22d-5662f0756f44\",\"type\":\"Circle\"},{\"attributes\":{\"tools\":[{\"id\":\"d8c1cade-141a-4ba1-b7b4-2f0ee0937e86\",\"type\":\"PanTool\"},{\"id\":\"a6874740-9f06-4c64-941b-b8c0cea26199\",\"type\":\"WheelZoomTool\"},{\"id\":\"c0e3f6a8-d034-49a4-bbe9-8c03d92b3411\",\"type\":\"BoxZoomTool\"},{\"id\":\"be315b9f-f43c-4899-bb63-90fe147b2202\",\"type\":\"SaveTool\"},{\"id\":\"e060a8b0-a042-4da6-816e-999e1242867f\",\"type\":\"ResetTool\"},{\"id\":\"54698d58-b7c1-468d-bdb9-ced643b38f60\",\"type\":\"HelpTool\"},{\"id\":\"e2105c3a-1a39-4a2d-a1d7-a91b462d7042\",\"type\":\"PanTool\"},{\"id\":\"820b7588-980a-4e87-acd4-105d3e13655d\",\"type\":\"WheelZoomTool\"},{\"id\":\"d1ab955d-6b36-4aeb-a04a-092b531975e0\",\"type\":\"BoxZoomTool\"},{\"id\":\"e25de86f-a03a-442d-bd68-e1ad9c58ea73\",\"type\":\"SaveTool\"},{\"id\":\"f406065d-1660-4662-84cc-ca69591a20c7\",\"type\":\"ResetTool\"},{\"id\":\"19566699-dc54-4953-bd0c-3d26c88728cf\",\"type\":\"HelpTool\"},{\"id\":\"eb9f082d-9505-4edc-9ef7-51c276455f30\",\"type\":\"PanTool\"},{\"id\":\"f61a5ba9-2151-4c57-87c0-37eb0e202f9f\",\"type\":\"WheelZoomTool\"},{\"id\":\"1df4f5ef-dc50-4a13-946e-45b7dce3efee\",\"type\":\"BoxZoomTool\"},{\"id\":\"2a832456-5e5d-483a-b885-a9adef4a42d8\",\"type\":\"SaveTool\"},{\"id\":\"fb1786b9-9038-4b30-be2f-fe8e907ac804\",\"type\":\"ResetTool\"},{\"id\":\"d631dbb0-51ce-4bc8-aa92-8bec95521b7c\",\"type\":\"HelpTool\"}]},\"id\":\"55557378-5204-4bb1-9f3b-d2d6fa3322cc\",\"type\":\"ProxyToolbar\"},{\"attributes\":{\"label\":{\"value\":\"CLIRAD (single-run) - CRD\"},\"renderers\":[{\"id\":\"6ae567b1-e87f-4a3b-ad94-3e85b8e25f1d\",\"type\":\"GlyphRenderer\"},{\"id\":\"c7338c62-480d-49f1-86ad-78f69b4f3e44\",\"type\":\"GlyphRenderer\"}]},\"id\":\"dd825976-7221-41d5-aa19-0471306a6e85\",\"type\":\"LegendItem\"},{\"attributes\":{},\"id\":\"61193314-8ee6-491b-a93a-e357cfbfbf59\",\"type\":\"UnionRenderers\"},{\"attributes\":{},\"id\":\"04b4bbc6-cb82-443c-9697-8873cb12e7e4\",\"type\":\"BasicTicker\"},{\"attributes\":{\"above\":[{\"id\":\"d0b86d58-027a-4984-8b15-c942d5502d6e\",\"type\":\"Legend\"}],\"below\":[{\"id\":\"b9eca8e4-d880-48ea-b572-0782a1023432\",\"type\":\"LinearAxis\"}],\"left\":[{\"id\":\"cb732990-75c0-4a3c-b23d-febf2bbb0aac\",\"type\":\"LogAxis\"}],\"plot_width\":300,\"renderers\":[{\"id\":\"b9eca8e4-d880-48ea-b572-0782a1023432\",\"type\":\"LinearAxis\"},{\"id\":\"f6b145a2-8162-4a0a-9ffd-5cfd3474579a\",\"type\":\"Grid\"},{\"id\":\"cb732990-75c0-4a3c-b23d-febf2bbb0aac\",\"type\":\"LogAxis\"},{\"id\":\"844a6264-0691-4b1e-a694-0cdf3815c61c\",\"type\":\"Grid\"},{\"id\":\"e33550f2-f3e9-4097-92af-de6db5524f98\",\"type\":\"BoxAnnotation\"},{\"id\":\"6ae567b1-e87f-4a3b-ad94-3e85b8e25f1d\",\"type\":\"GlyphRenderer\"},{\"id\":\"c7338c62-480d-49f1-86ad-78f69b4f3e44\",\"type\":\"GlyphRenderer\"},{\"id\":\"d0b86d58-027a-4984-8b15-c942d5502d6e\",\"type\":\"Legend\"}],\"title\":{\"id\":\"08e3ef45-6d2b-450d-975b-7bc78fb577ba\",\"type\":\"Title\"},\"toolbar\":{\"id\":\"ece46efa-9f60-4598-aee4-494ef39d6aa9\",\"type\":\"Toolbar\"},\"toolbar_location\":null,\"x_range\":{\"id\":\"bc1540fe-af21-4a98-ad74-c3b1d4bd8398\",\"type\":\"Range1d\"},\"x_scale\":{\"id\":\"31eed07c-36b1-49ed-8eee-b98e821556c4\",\"type\":\"LinearScale\"},\"y_range\":{\"id\":\"92aa0f9b-ce4b-4b3b-a530-8305d4bc01c3\",\"type\":\"Range1d\"},\"y_scale\":{\"id\":\"5ef4adf0-12bb-4e6e-bf06-52f7c121a409\",\"type\":\"LogScale\"}},\"id\":\"84a7f419-b386-445a-ad4d-0562ae5bd2b3\",\"subtype\":\"Figure\",\"type\":\"Plot\"},{\"attributes\":{\"plot\":null,\"text\":\"\"},\"id\":\"08e3ef45-6d2b-450d-975b-7bc78fb577ba\",\"type\":\"Title\"},{\"attributes\":{\"ticker\":null},\"id\":\"8049cf67-b010-48bc-82ad-d6fb67a518cb\",\"type\":\"LogTickFormatter\"},{\"attributes\":{},\"id\":\"2aac2aaf-aaca-488c-a3e3-286537509a1f\",\"type\":\"UnionRenderers\"},{\"attributes\":{\"dimension\":1,\"plot\":{\"id\":\"3c1dd7d7-ac12-4f7d-a537-36582dafb6e7\",\"subtype\":\"Figure\",\"type\":\"Plot\"},\"ticker\":{\"id\":\"04b4bbc6-cb82-443c-9697-8873cb12e7e4\",\"type\":\"BasicTicker\"}},\"id\":\"032c12fe-4ae7-4697-a210-e3a709e687c5\",\"type\":\"Grid\"},{\"attributes\":{\"source\":{\"id\":\"59b28d99-8880-4aa7-9abf-ec56caf2b506\",\"type\":\"ColumnDataSource\"}},\"id\":\"860da0c9-e5fc-426a-a57b-50d4791bfb80\",\"type\":\"CDSView\"},{\"attributes\":{},\"id\":\"743b56a9-e6cf-4e0c-9452-c123d4931d9f\",\"type\":\"LinearScale\"},{\"attributes\":{\"ticker\":null},\"id\":\"e42aedd1-6bb5-4b70-b743-1ab7869d3143\",\"type\":\"LogTickFormatter\"},{\"attributes\":{\"active_drag\":\"auto\",\"active_inspect\":\"auto\",\"active_scroll\":\"auto\",\"active_tap\":\"auto\",\"tools\":[{\"id\":\"d8c1cade-141a-4ba1-b7b4-2f0ee0937e86\",\"type\":\"PanTool\"},{\"id\":\"a6874740-9f06-4c64-941b-b8c0cea26199\",\"type\":\"WheelZoomTool\"},{\"id\":\"c0e3f6a8-d034-49a4-bbe9-8c03d92b3411\",\"type\":\"BoxZoomTool\"},{\"id\":\"be315b9f-f43c-4899-bb63-90fe147b2202\",\"type\":\"SaveTool\"},{\"id\":\"e060a8b0-a042-4da6-816e-999e1242867f\",\"type\":\"ResetTool\"},{\"id\":\"54698d58-b7c1-468d-bdb9-ced643b38f60\",\"type\":\"HelpTool\"}]},\"id\":\"37d0e635-a23f-4a12-b531-54c8e7422e37\",\"type\":\"Toolbar\"},{\"attributes\":{\"children\":[{\"id\":\"e4e79108-ec09-4848-a5ff-552361f49b1e\",\"type\":\"Row\"}]},\"id\":\"fbbff52a-54bc-45ef-8ded-098b0466f36c\",\"type\":\"Column\"},{\"attributes\":{\"axis_label\":\"pressure [mb]\",\"formatter\":{\"id\":\"9d618194-12c9-4da2-b628-8e458796602a\",\"type\":\"BasicTickFormatter\"},\"plot\":{\"id\":\"3c1dd7d7-ac12-4f7d-a537-36582dafb6e7\",\"subtype\":\"Figure\",\"type\":\"Plot\"},\"ticker\":{\"id\":\"04b4bbc6-cb82-443c-9697-8873cb12e7e4\",\"type\":\"BasicTicker\"}},\"id\":\"8a4387f6-ae5e-4b6e-8fed-6522be154c03\",\"type\":\"LinearAxis\"},{\"attributes\":{\"plot\":{\"id\":\"a8d1f6a4-b100-4db4-bb86-c20b49e77aed\",\"subtype\":\"Figure\",\"type\":\"Plot\"},\"ticker\":{\"id\":\"3ca6cf8c-f97b-443e-b50b-c8b3237a1dd3\",\"type\":\"BasicTicker\"}},\"id\":\"8def2ef0-0342-4c40-939e-b61e879ba49c\",\"type\":\"Grid\"},{\"attributes\":{\"callback\":null,\"end\":12.208583767697798,\"start\":-0.6033522559178},\"id\":\"3247fcb4-a687-4fbb-bce6-e3589bee40e9\",\"type\":\"Range1d\"},{\"attributes\":{\"data_source\":{\"id\":\"02c1ddc8-b640-4460-b4ae-44fa40df57e2\",\"type\":\"ColumnDataSource\"},\"glyph\":{\"id\":\"a243e8f7-8b1d-4e2a-8965-b38054727aa5\",\"type\":\"Line\"},\"hover_glyph\":null,\"muted_glyph\":null,\"nonselection_glyph\":{\"id\":\"e7ae2eab-757e-4037-9db8-7fea6e8afc86\",\"type\":\"Line\"},\"selection_glyph\":null,\"view\":{\"id\":\"817244f1-7012-4ced-ac15-ad399d03af5a\",\"type\":\"CDSView\"}},\"id\":\"e998eb69-b9bd-44d3-be4b-76dc04d8d487\",\"type\":\"GlyphRenderer\"},{\"attributes\":{\"num_minor_ticks\":10},\"id\":\"0f2c70d3-5acd-49bf-9824-d2cced0af238\",\"type\":\"LogTicker\"},{\"attributes\":{},\"id\":\"3ca6cf8c-f97b-443e-b50b-c8b3237a1dd3\",\"type\":\"BasicTicker\"},{\"attributes\":{\"items\":[{\"id\":\"d47f2639-ea01-49b3-91d3-8a00c7465f15\",\"type\":\"LegendItem\"},{\"id\":\"4916d45e-27e4-4242-b574-17723a46fea1\",\"type\":\"LegendItem\"}],\"label_text_font_size\":{\"value\":\"8pt\"},\"location\":\"top_center\",\"orientation\":\"horizontal\",\"plot\":{\"id\":\"a8d1f6a4-b100-4db4-bb86-c20b49e77aed\",\"subtype\":\"Figure\",\"type\":\"Plot\"}},\"id\":\"0fe289d8-9633-4437-af8d-73bd28dae9f4\",\"type\":\"Legend\"},{\"attributes\":{},\"id\":\"be315b9f-f43c-4899-bb63-90fe147b2202\",\"type\":\"SaveTool\"},{\"attributes\":{\"active_drag\":\"auto\",\"active_inspect\":\"auto\",\"active_scroll\":\"auto\",\"active_tap\":\"auto\",\"tools\":[{\"id\":\"e2105c3a-1a39-4a2d-a1d7-a91b462d7042\",\"type\":\"PanTool\"},{\"id\":\"820b7588-980a-4e87-acd4-105d3e13655d\",\"type\":\"WheelZoomTool\"},{\"id\":\"d1ab955d-6b36-4aeb-a04a-092b531975e0\",\"type\":\"BoxZoomTool\"},{\"id\":\"e25de86f-a03a-442d-bd68-e1ad9c58ea73\",\"type\":\"SaveTool\"},{\"id\":\"f406065d-1660-4662-84cc-ca69591a20c7\",\"type\":\"ResetTool\"},{\"id\":\"19566699-dc54-4953-bd0c-3d26c88728cf\",\"type\":\"HelpTool\"}]},\"id\":\"13a9efbf-c618-4d45-92d1-e456f5e3aab2\",\"type\":\"Toolbar\"},{\"attributes\":{\"source\":{\"id\":\"587a33c9-5943-40b8-a675-574e9c6aa230\",\"type\":\"ColumnDataSource\"}},\"id\":\"c672f8ec-ab85-4b48-af47-fa3c556beb89\",\"type\":\"CDSView\"},{\"attributes\":{\"line_alpha\":0.1,\"line_color\":\"#1f77b4\",\"line_width\":1.5,\"x\":{\"field\":\"x\"},\"y\":{\"field\":\"y\"}},\"id\":\"e7ae2eab-757e-4037-9db8-7fea6e8afc86\",\"type\":\"Line\"},{\"attributes\":{\"dimension\":1,\"plot\":{\"id\":\"a8d1f6a4-b100-4db4-bb86-c20b49e77aed\",\"subtype\":\"Figure\",\"type\":\"Plot\"},\"ticker\":{\"id\":\"0f2c70d3-5acd-49bf-9824-d2cced0af238\",\"type\":\"LogTicker\"}},\"id\":\"b2ae74f5-65e8-42da-9ff1-114871f523d8\",\"type\":\"Grid\"},{\"attributes\":{\"source\":{\"id\":\"02c1ddc8-b640-4460-b4ae-44fa40df57e2\",\"type\":\"ColumnDataSource\"}},\"id\":\"817244f1-7012-4ced-ac15-ad399d03af5a\",\"type\":\"CDSView\"},{\"attributes\":{\"source\":{\"id\":\"fa3a7c3e-511a-4c69-bd71-da70022704a5\",\"type\":\"ColumnDataSource\"}},\"id\":\"95582f2d-c636-4a53-9394-d82f31f51b78\",\"type\":\"CDSView\"},{\"attributes\":{\"callback\":null,\"data\":{\"x\":{\"__ndarray__\":\"RbL8BYRneEBOmGgOXQR3QKXTYvyp/HVA310U9ytBdEBfdU8gqcpxQAikU3tNcW1ALWB4ZFy1ZkAKleQWUlpgQNss6eITq1ZAQCmBKjBOUEBzKrKt2ABKQErEHp4LS0ZAhPl9l/6IQkAOSdvrknQ4QMXKyfn+3DNAqzzq9kdzO0CqQ2xiAbRBQHxcU670oURAK7N+QOKRSEAwrQZMeF5PQE8/HTpHPFVAnKUzB2C9XEBusc5/qh5eQPA/BLK8mFlAHJAX4cRaVUCu/bVl1a9RQNK3O1uCmU5AehdZs4VjSUBsk9GuculDQPgl603qjj9AZ7ZuNSnIOkD0kDGPsek0QLba6AbIIypA2ODk9nhWG0BQdG4eeAkFQF2xP9CEUPW/1PdsfB85E8BcApSqRcIOwMqkOKAXTLS/bNTRGtfN+T9gJleMWV8OQNuN1M6x1SFAPbFNk7FGLED+Yy988ZoyQCH+XzQXFzVAqXI4fDTHNUA5LmJouMU2QKbJn30v0TZABsvw2odHNUDT81pIwYw0QJT7BhpHVTRArcewf3UzNECGJ17fswA0QJxDnL3hvDNAfwGOE5eAM0Aie7H2Rl0zQMH7q4FNZTNAK+2BFMSNM0DBfxurEqozQABGURnfrTNA/PyUtvqbM0AQld7o92IzQFIyMUTrpzJAkCvAOrj8MUDFX2q2+F4wQIcVjaeakC1A9yw7ROSFK0DQSLNaIcMpQF10L8F72yhAdsFEofyiKEAoMRlNLsUoQMpWgyZ8QilAJ9P8Q8d5KkDBIO0eIKcsQErwmBdmzlvA\",\"dtype\":\"float64\",\"shape\":[75]},\"y\":{\"__ndarray__\":\"GhExyth1ND/Sv8nbtpRIP2vylNV0PVE/aTum7souWD/At0SJ8fVgPw3Iuahxymc/MSNhhJWvcD/bTfBN02d3P2zb5nxnaoA/CD5h5MAGhz8NmeH1TyaQP+zrCsc9p5Y/LbKd76fGnz/bLW5ISEmmPww9YvTcQq8/JV2OstnstT8Er5Y7M8G+P0c+r3jqkcU/5h99k6ZBzj88bCIzFzjVP4enV8oyxN0//yH99nXg5D8qOpLLf0jtP5kqGJXUifQ/c9cS8kHP/D+/DpwzojQEQIEmwoanVwxA4lgXt9HgE0BSSZ2AJuIbQAMJih9jjiNA5q4l5INuK0AwTKYKRj0zQNv5fmq8/DpAaCJseHrtQkB/+zpwzoxKQM3MzMzMeFJAZmZmZmZqWEAAAAAAAFxeQM3MzMzMJmJAmpmZmZkfZUBmZmZmZhhoQDMzMzMzEWtAAAAAAAAKbkBmZmZmZoFwQM3MzMzM/XFAMzMzMzN6c0CamZmZmfZ0QAAAAAAAc3ZAZmZmZmbvd0DNzMzMzGt5QDMzMzMz6HpAmpmZmZlkfEAAAAAAAOF9QGZmZmZmXX9AZmZmZuZsgECamZmZGSuBQM3MzMxM6YFAAAAAAICngkAzMzMzs2WDQGZmZmbmI4RAmpmZmRnihEDNzMzMTKCFQAAAAACAXoZAMzMzM7Mch0BmZmZm5tqHQJqZmZkZmYhAzczMzExXiUAAAAAAgBWKQDMzMzOz04pAZmZmZuaRi0CamZmZGVCMQM3MzMxMDo1AAAAAAIDMjUAzMzMzs4qOQGZmZmbmSI9A\",\"dtype\":\"float64\",\"shape\":[75]}},\"selected\":{\"id\":\"df8bb68a-690c-4c40-bbee-e1dd3f361a4d\",\"type\":\"Selection\"},\"selection_policy\":{\"id\":\"6e8d9836-2cc3-4d5a-b236-cb0f37aef265\",\"type\":\"UnionRenderers\"}},\"id\":\"59b28d99-8880-4aa7-9abf-ec56caf2b506\",\"type\":\"ColumnDataSource\"},{\"attributes\":{\"axis_label\":\"pressure [mb]\",\"formatter\":{\"id\":\"8049cf67-b010-48bc-82ad-d6fb67a518cb\",\"type\":\"LogTickFormatter\"},\"plot\":{\"id\":\"a8d1f6a4-b100-4db4-bb86-c20b49e77aed\",\"subtype\":\"Figure\",\"type\":\"Plot\"},\"ticker\":{\"id\":\"0f2c70d3-5acd-49bf-9824-d2cced0af238\",\"type\":\"LogTicker\"}},\"id\":\"83b3746f-f487-4342-a03d-96eb85d0fbed\",\"type\":\"LogAxis\"},{\"attributes\":{\"callback\":null,\"data\":{\"x\":{\"__ndarray__\":\"R/KIaN7AVEClCeJMyPNGQOvRhpxr30JAptxzhxx4PkA7SssMElA4QK6Bp3CyUDNAsVXpjES9LkBFhUV0+5coQMHYwqbbySNA6f09nM3nH0CaSd/3eYoZQDmgiAOW8BNAPYqARh3eDEBkm4vCgvr+P9D+5tWhQfY/P8DwKRnSAkBq38kb17ILQDT7IWuSsxFAUr2Rjm0FFkAinq3s9XgbQGCHwtYcqSFAG64kT303J0C7dRDneyooQD9JYrbK8yRA9S3bneHhIUAIymSuUMMcQIkHLe6VEBdAAau3cITREkA6CiNvkQIPQJU39ki7IQlAaAvwok1UA0BXLQiS4+L7P0xzDpJ2hPI/NNuPGMbJ5z91mUVYxqfSPxqwUPSxZca/G11peifD3L8QzNj5t2jTvwzOozTL360/SPJ4VI1VzD9KJ0nXEIncP8yDdlvHt+4/Et49nYLW9z++2teD4Jn+P+568eH/bwFALf5D9lmAAkCiZAicVOkCQPPT4jNKxwJAOjp3wTzBAUBSQsKNGisBQG4OmjqJwQBAJ3sZoHFuAEA5Ar0Sdi0AQGy4rw5+9f8/7W4nSrC3/z8mPr8zj4T/P4UYRHCQS/8/embVKYcF/z+5YXG+LLP+P/qb8BVUgf4/KvafTtyO/j/avAK1Ppv+PwJV9VVm2P0/JFtYlU/n/D9sN+q2fiX6Pw44e41PNPc/Opt+Z/wN9T+x3vcSW1vzP9ofvWQJlvI/8sciQQBW8j80sfkQa17yPzg5qng2r/I/Oh14WJBh8z+VZjnpctj0P6CcrSuCqQBA\",\"dtype\":\"float64\",\"shape\":[75]},\"y\":{\"__ndarray__\":\"GhExyth1ND/Sv8nbtpRIP2vylNV0PVE/aTum7souWD/At0SJ8fVgPw3Iuahxymc/MSNhhJWvcD/bTfBN02d3P2zb5nxnaoA/CD5h5MAGhz8NmeH1TyaQP+zrCsc9p5Y/LbKd76fGnz/bLW5ISEmmPww9YvTcQq8/JV2OstnstT8Er5Y7M8G+P0c+r3jqkcU/5h99k6ZBzj88bCIzFzjVP4enV8oyxN0//yH99nXg5D8qOpLLf0jtP5kqGJXUifQ/c9cS8kHP/D+/DpwzojQEQIEmwoanVwxA4lgXt9HgE0BSSZ2AJuIbQAMJih9jjiNA5q4l5INuK0AwTKYKRj0zQNv5fmq8/DpAaCJseHrtQkB/+zpwzoxKQM3MzMzMeFJAZmZmZmZqWEAAAAAAAFxeQM3MzMzMJmJAmpmZmZkfZUBmZmZmZhhoQDMzMzMzEWtAAAAAAAAKbkBmZmZmZoFwQM3MzMzM/XFAMzMzMzN6c0CamZmZmfZ0QAAAAAAAc3ZAZmZmZmbvd0DNzMzMzGt5QDMzMzMz6HpAmpmZmZlkfEAAAAAAAOF9QGZmZmZmXX9AZmZmZuZsgECamZmZGSuBQM3MzMxM6YFAAAAAAICngkAzMzMzs2WDQGZmZmbmI4RAmpmZmRnihEDNzMzMTKCFQAAAAACAXoZAMzMzM7Mch0BmZmZm5tqHQJqZmZkZmYhAzczMzExXiUAAAAAAgBWKQDMzMzOz04pAZmZmZuaRi0CamZmZGVCMQM3MzMxMDo1AAAAAAIDMjUAzMzMzs4qOQGZmZmbmSI9A\",\"dtype\":\"float64\",\"shape\":[75]}},\"selected\":{\"id\":\"5791e63f-13eb-44f4-8595-a8b7d3385b9a\",\"type\":\"Selection\"},\"selection_policy\":{\"id\":\"c38845ce-8e57-4a53-bdaf-4cbc6ed98fc4\",\"type\":\"UnionRenderers\"}},\"id\":\"02c1ddc8-b640-4460-b4ae-44fa40df57e2\",\"type\":\"ColumnDataSource\"},{\"attributes\":{\"callback\":null,\"end\":0.01,\"start\":1020},\"id\":\"34dd4c39-910b-4c40-9048-182fe3835f2e\",\"type\":\"Range1d\"},{\"attributes\":{},\"id\":\"7e8e2635-4ad0-45c7-9fe7-b9231ae3b7e9\",\"type\":\"LinearScale\"},{\"attributes\":{\"label\":{\"value\":\"CRD\"},\"renderers\":[{\"id\":\"e8469236-7ccf-491e-8a73-c3ac100466bc\",\"type\":\"GlyphRenderer\"},{\"id\":\"e998eb69-b9bd-44d3-be4b-76dc04d8d487\",\"type\":\"GlyphRenderer\"}]},\"id\":\"fc4c4c38-0c5f-44ac-bcb8-4e26317ca87f\",\"type\":\"LegendItem\"},{\"attributes\":{},\"id\":\"fc3a54f3-46de-4baa-adc8-38175f505d7b\",\"type\":\"Selection\"},{\"attributes\":{\"callback\":null,\"data\":{\"x\":{\"__ndarray__\":\"zApFup+FRUDUKY9uhNNCQLyVJTrLtEFAHhSUopUdQEDVJeMYyRY8QP4lqUwxKzdABoTWw5fpMUD+QSRDjgUqQJpLu+LzSCJAQw3w7hKeGkAE9/LxvzsVQN3LIrmhBhJAC6arhaOVDUAyvEhXnzEDQI8PaQpT6v4/Dg8GQ8KsBUABjpg0oUQMQNNCbitinRBAg5MjU/TeE0D3F+aps08ZQPzFbMmqDCFAAHFXryIDJ0B5dCMsKhooQJ4GDJI+hSRAiJtTyQAoIUDOVOMAVVccQAMSXszgWRhAb2b0o+EsFEBc13llKMgPQDZPZJx1PAlAsYUgByU8BUAe91IdF3oAQIypqoazsfQ/F0Oc+2kL5j/o1hDB3f7QP4u/klCficG/2xOo7l+T3r9bcdzvcSLYv0Ot+K2uL1+/D9+6SalXxT/w8OiQ5a7YP8arKDXmu+w//zebM0e79j+avBKSFtj9PxYh0PRt7ABAxYFGn0WFAUDbh7zl6kcCQOulzkgpTQJAlSR0PAsXAUDn5bD7joEAQOtDzUadTwBAmVZUDncvAEDbv7LSpAQAQDTQIRVrnf8/t926URpA/z/ucrYlFwj/P1QT6SOVDv8/GqjnOBJD/z/MH3ghwmT/Py0u6YPAZf8/57S4EPVM/z/ljHJ6KPv+P72WRoJf2f0/MnbCS3DK/D8SeYFIdTD6P0xDQ7V3nPc/FkYfmEju9T+Qvd798X70P8xuHGeJxPM/hCo1e6CV8z+uefqtQq/zP1JEhlW8EfQ/UPl8OVgE9T+DlVS3xLv2PxqOQu0S2CPA\",\"dtype\":\"float64\",\"shape\":[75]},\"y\":{\"__ndarray__\":\"GhExyth1ND/Sv8nbtpRIP2vylNV0PVE/aTum7souWD/At0SJ8fVgPw3Iuahxymc/MSNhhJWvcD/bTfBN02d3P2zb5nxnaoA/CD5h5MAGhz8NmeH1TyaQP+zrCsc9p5Y/LbKd76fGnz/bLW5ISEmmPww9YvTcQq8/JV2OstnstT8Er5Y7M8G+P0c+r3jqkcU/5h99k6ZBzj88bCIzFzjVP4enV8oyxN0//yH99nXg5D8qOpLLf0jtP5kqGJXUifQ/c9cS8kHP/D+/DpwzojQEQIEmwoanVwxA4lgXt9HgE0BSSZ2AJuIbQAMJih9jjiNA5q4l5INuK0AwTKYKRj0zQNv5fmq8/DpAaCJseHrtQkB/+zpwzoxKQM3MzMzMeFJAZmZmZmZqWEAAAAAAAFxeQM3MzMzMJmJAmpmZmZkfZUBmZmZmZhhoQDMzMzMzEWtAAAAAAAAKbkBmZmZmZoFwQM3MzMzM/XFAMzMzMzN6c0CamZmZmfZ0QAAAAAAAc3ZAZmZmZmbvd0DNzMzMzGt5QDMzMzMz6HpAmpmZmZlkfEAAAAAAAOF9QGZmZmZmXX9AZmZmZuZsgECamZmZGSuBQM3MzMxM6YFAAAAAAICngkAzMzMzs2WDQGZmZmbmI4RAmpmZmRnihEDNzMzMTKCFQAAAAACAXoZAMzMzM7Mch0BmZmZm5tqHQJqZmZkZmYhAzczMzExXiUAAAAAAgBWKQDMzMzOz04pAZmZmZuaRi0CamZmZGVCMQM3MzMxMDo1AAAAAAIDMjUAzMzMzs4qOQGZmZmbmSI9A\",\"dtype\":\"float64\",\"shape\":[75]}},\"selected\":{\"id\":\"fc3a54f3-46de-4baa-adc8-38175f505d7b\",\"type\":\"Selection\"},\"selection_policy\":{\"id\":\"35f1bad3-8613-4fe3-a595-1564d15a5693\",\"type\":\"UnionRenderers\"}},\"id\":\"3d6f98c3-d51d-4fd7-9aa3-b619aa6ebadc\",\"type\":\"ColumnDataSource\"},{\"attributes\":{\"line_alpha\":0.1,\"line_color\":\"#1f77b4\",\"line_dash\":[6],\"line_width\":5,\"x\":{\"field\":\"x\"},\"y\":{\"field\":\"y\"}},\"id\":\"0e9dd537-9a3c-4009-92ae-8997696ed05b\",\"type\":\"Line\"},{\"attributes\":{\"data_source\":{\"id\":\"ec629173-af18-4ce3-b441-88c5a14ab9dd\",\"type\":\"ColumnDataSource\"},\"glyph\":{\"id\":\"9adbbded-7f1c-48a2-a8bb-1b2787279144\",\"type\":\"Line\"},\"hover_glyph\":null,\"muted_glyph\":null,\"nonselection_glyph\":{\"id\":\"0e9dd537-9a3c-4009-92ae-8997696ed05b\",\"type\":\"Line\"},\"selection_glyph\":null,\"view\":{\"id\":\"ab3937c7-26bb-40bd-8c05-6a3da635b1f7\",\"type\":\"CDSView\"}},\"id\":\"da335a13-4750-4dba-acaf-e557619762b2\",\"type\":\"GlyphRenderer\"},{\"attributes\":{\"axis_label\":\"cooling rate [K/day]\",\"formatter\":{\"id\":\"5b59dc17-489c-4952-8d2f-837ed1015605\",\"type\":\"BasicTickFormatter\"},\"plot\":{\"id\":\"a8d1f6a4-b100-4db4-bb86-c20b49e77aed\",\"subtype\":\"Figure\",\"type\":\"Plot\"},\"ticker\":{\"id\":\"3ca6cf8c-f97b-443e-b50b-c8b3237a1dd3\",\"type\":\"BasicTicker\"}},\"id\":\"4b782129-c197-45cf-9e37-8e5ff3294fa3\",\"type\":\"LinearAxis\"},{\"attributes\":{},\"id\":\"873f2251-4192-45dc-b43f-7c8e36aed013\",\"type\":\"Selection\"},{\"attributes\":{},\"id\":\"67235efb-9bfe-4d4c-963e-ad9b3ef84cfe\",\"type\":\"LogScale\"},{\"attributes\":{\"fill_alpha\":{\"value\":0.7},\"fill_color\":{\"value\":\"#984ea3\"},\"line_alpha\":{\"value\":0.7},\"line_color\":{\"value\":\"#984ea3\"},\"x\":{\"field\":\"x\"},\"y\":{\"field\":\"y\"}},\"id\":\"e412e090-5ca3-4604-9a5f-5aa4f5a45d60\",\"type\":\"Circle\"},{\"attributes\":{\"line_alpha\":0.6,\"line_color\":\"#377eb8\",\"line_dash\":[6],\"line_width\":5,\"x\":{\"field\":\"x\"},\"y\":{\"field\":\"y\"}},\"id\":\"9adbbded-7f1c-48a2-a8bb-1b2787279144\",\"type\":\"Line\"},{\"attributes\":{\"line_color\":\"#4daf4a\",\"line_width\":1.5,\"x\":{\"field\":\"x\"},\"y\":{\"field\":\"y\"}},\"id\":\"a243e8f7-8b1d-4e2a-8965-b38054727aa5\",\"type\":\"Line\"},{\"attributes\":{\"above\":[{\"id\":\"0fe289d8-9633-4437-af8d-73bd28dae9f4\",\"type\":\"Legend\"}],\"below\":[{\"id\":\"4b782129-c197-45cf-9e37-8e5ff3294fa3\",\"type\":\"LinearAxis\"}],\"left\":[{\"id\":\"83b3746f-f487-4342-a03d-96eb85d0fbed\",\"type\":\"LogAxis\"}],\"plot_width\":300,\"renderers\":[{\"id\":\"4b782129-c197-45cf-9e37-8e5ff3294fa3\",\"type\":\"LinearAxis\"},{\"id\":\"8def2ef0-0342-4c40-939e-b61e879ba49c\",\"type\":\"Grid\"},{\"id\":\"83b3746f-f487-4342-a03d-96eb85d0fbed\",\"type\":\"LogAxis\"},{\"id\":\"b2ae74f5-65e8-42da-9ff1-114871f523d8\",\"type\":\"Grid\"},{\"id\":\"cc20cbeb-d8ee-4578-b9be-3a631d73aee6\",\"type\":\"BoxAnnotation\"},{\"id\":\"da335a13-4750-4dba-acaf-e557619762b2\",\"type\":\"GlyphRenderer\"},{\"id\":\"9266f694-22ed-4b2e-882a-0d721a84a126\",\"type\":\"GlyphRenderer\"},{\"id\":\"409dd24e-f69c-4544-813f-82f579e14c75\",\"type\":\"GlyphRenderer\"},{\"id\":\"0fe289d8-9633-4437-af8d-73bd28dae9f4\",\"type\":\"Legend\"}],\"title\":{\"id\":\"5aa483a7-f666-4534-875d-31184d6cc0d7\",\"type\":\"Title\"},\"toolbar\":{\"id\":\"13a9efbf-c618-4d45-92d1-e456f5e3aab2\",\"type\":\"Toolbar\"},\"toolbar_location\":null,\"x_range\":{\"id\":\"3247fcb4-a687-4fbb-bce6-e3589bee40e9\",\"type\":\"Range1d\"},\"x_scale\":{\"id\":\"7e8e2635-4ad0-45c7-9fe7-b9231ae3b7e9\",\"type\":\"LinearScale\"},\"y_range\":{\"id\":\"a518e37e-8f0b-4227-be34-b5f0cf431400\",\"type\":\"Range1d\"},\"y_scale\":{\"id\":\"67235efb-9bfe-4d4c-963e-ad9b3ef84cfe\",\"type\":\"LogScale\"}},\"id\":\"a8d1f6a4-b100-4db4-bb86-c20b49e77aed\",\"subtype\":\"Figure\",\"type\":\"Plot\"},{\"attributes\":{\"label\":{\"value\":\"CLIRAD (single-run)\"},\"renderers\":[{\"id\":\"c76d0daf-d569-4fcf-80d1-e5dca7c35fd5\",\"type\":\"GlyphRenderer\"}]},\"id\":\"767bc951-8886-4059-904d-7747a4f19fcd\",\"type\":\"LegendItem\"}],\"root_ids\":[\"2c2f9c6b-def8-4f51-bec8-f27305358ca0\"]},\"title\":\"Bokeh Application\",\"version\":\"0.12.16\"}};\n",
       "  var render_items = [{\"docid\":\"5a7eeee0-889a-48c0-861e-13ab7aa83877\",\"elementid\":\"37d5dec1-5f91-4979-972e-784bbb2a889a\",\"modelid\":\"2c2f9c6b-def8-4f51-bec8-f27305358ca0\"}];\n",
       "  root.Bokeh.embed.embed_items_notebook(docs_json, render_items);\n",
       "\n",
       "  }\n",
       "  if (root.Bokeh !== undefined) {\n",
       "    embed_document(root);\n",
       "  } else {\n",
       "    var attempts = 0;\n",
       "    var timer = setInterval(function(root) {\n",
       "      if (root.Bokeh !== undefined) {\n",
       "        embed_document(root);\n",
       "        clearInterval(timer);\n",
       "      }\n",
       "      attempts++;\n",
       "      if (attempts > 100) {\n",
       "        console.log(\"Bokeh: ERROR: Unable to run BokehJS code because BokehJS library is missing\")\n",
       "        clearInterval(timer);\n",
       "      }\n",
       "    }, 10, root)\n",
       "  }\n",
       "})(window);"
      ],
      "application/vnd.bokehjs_exec.v0+json": ""
     },
     "metadata": {
      "application/vnd.bokehjs_exec.v0+json": {
       "id": "2c2f9c6b-def8-4f51-bec8-f27305358ca0"
      }
     },
     "output_type": "display_data"
    },
    {
     "data": {
      "text/markdown": [
       "*FIGURE.* Cooling rates & difference."
      ],
      "text/plain": [
       "<IPython.core.display.Markdown object>"
      ]
     },
     "metadata": {},
     "output_type": "display_data"
    },
    {
     "data": {
      "text/html": [
       "<a id=\"Fluxes._trp.\"></a>"
      ],
      "text/plain": [
       "<IPython.core.display.HTML object>"
      ]
     },
     "metadata": {},
     "output_type": "display_data"
    },
    {
     "data": {
      "text/markdown": [
       "# Fluxes. trp."
      ],
      "text/plain": [
       "<IPython.core.display.Markdown object>"
      ]
     },
     "metadata": {},
     "output_type": "display_data"
    },
    {
     "data": {
      "text/html": [
       "\n",
       "<div class=\"bk-root\">\n",
       "    <div class=\"bk-plotdiv\" id=\"f344d142-9a1e-4bb4-82d4-d3000c2edc16\"></div>\n",
       "</div>"
      ]
     },
     "metadata": {},
     "output_type": "display_data"
    },
    {
     "data": {
      "application/javascript": [
       "(function(root) {\n",
       "  function embed_document(root) {\n",
       "    \n",
       "  var docs_json = {\"b9a629ea-5fbe-4730-bdd8-f24e3c01af03\":{\"roots\":{\"references\":[{\"attributes\":{\"axis_label\":\"spectral band\",\"formatter\":{\"id\":\"35cd4d13-8bca-4585-b342-8c3983bcd065\",\"type\":\"CategoricalTickFormatter\"},\"plot\":{\"id\":\"c30d7c66-f174-475f-ad1b-9bd12f918342\",\"subtype\":\"Figure\",\"type\":\"Plot\"},\"ticker\":{\"id\":\"88432bb6-1d66-48f2-997a-7346cc1a64b0\",\"type\":\"CategoricalTicker\"}},\"id\":\"7d6a30bd-799d-461d-887b-fd2451221cae\",\"type\":\"CategoricalAxis\"},{\"attributes\":{\"plot\":null,\"text\":\"SFC flux. CLIRAD (single-run) - CRD.\"},\"id\":\"b01833af-d7c1-450d-b68e-71eb5ce6e89b\",\"type\":\"Title\"},{\"attributes\":{\"plot\":{\"id\":\"c30d7c66-f174-475f-ad1b-9bd12f918342\",\"subtype\":\"Figure\",\"type\":\"Plot\"},\"ticker\":{\"id\":\"88432bb6-1d66-48f2-997a-7346cc1a64b0\",\"type\":\"CategoricalTicker\"}},\"id\":\"e56c8473-a97d-420b-b006-7f73162d93a9\",\"type\":\"Grid\"},{\"attributes\":{},\"id\":\"88432bb6-1d66-48f2-997a-7346cc1a64b0\",\"type\":\"CategoricalTicker\"},{\"attributes\":{\"fill_alpha\":{\"value\":0.1},\"fill_color\":{\"value\":\"#1f77b4\"},\"line_alpha\":{\"value\":0.1},\"line_color\":{\"value\":\"#1f77b4\"},\"top\":{\"field\":\"flux\"},\"width\":{\"value\":0.9},\"x\":{\"field\":\"band\"}},\"id\":\"37519298-a1f3-4985-862a-5223e5211416\",\"type\":\"VBar\"},{\"attributes\":{\"callback\":null},\"id\":\"54cd2fa8-9d24-42e4-ab5d-d861f6efcd9f\",\"type\":\"DataRange1d\"},{\"attributes\":{},\"id\":\"cc3b948b-5141-4232-8874-8f5b0dcee7c0\",\"type\":\"CategoricalScale\"},{\"attributes\":{},\"id\":\"a112d54e-1f89-4dd7-acd0-9c01e7e7c217\",\"type\":\"LinearScale\"},{\"attributes\":{},\"id\":\"199f1b7a-b88d-4a41-8324-a2d8bfe8a53f\",\"type\":\"BasicTicker\"},{\"attributes\":{\"axis_label\":\"flux (W m-2)\",\"formatter\":{\"id\":\"12cd8f5a-5449-4a35-bede-fabe18816671\",\"type\":\"BasicTickFormatter\"},\"plot\":{\"id\":\"c30d7c66-f174-475f-ad1b-9bd12f918342\",\"subtype\":\"Figure\",\"type\":\"Plot\"},\"ticker\":{\"id\":\"199f1b7a-b88d-4a41-8324-a2d8bfe8a53f\",\"type\":\"BasicTicker\"}},\"id\":\"36942c14-376a-4b2c-937c-8df8e5c18d02\",\"type\":\"LinearAxis\"},{\"attributes\":{\"callback\":null,\"factors\":[\"1\",\"2\",\"3\",\"4\",\"5\",\"6\",\"7\",\"8\",\"9\",\"10\",\"11\"]},\"id\":\"6eaafbca-7304-4fcd-94a7-17d7cfaa5784\",\"type\":\"FactorRange\"},{\"attributes\":{\"data_source\":{\"id\":\"f01d31bb-a3c7-476b-b3d4-8f93c2fecdfa\",\"type\":\"ColumnDataSource\"},\"glyph\":{\"id\":\"b5240f8b-645b-4203-9e01-658ee72cfb24\",\"type\":\"VBar\"},\"hover_glyph\":null,\"muted_glyph\":null,\"nonselection_glyph\":{\"id\":\"37519298-a1f3-4985-862a-5223e5211416\",\"type\":\"VBar\"},\"selection_glyph\":null,\"view\":{\"id\":\"f1ad4946-501c-4185-adc9-ca6b096ce992\",\"type\":\"CDSView\"}},\"id\":\"f9c96dea-1b6c-443d-ac98-b89810f3741c\",\"type\":\"GlyphRenderer\"},{\"attributes\":{\"callback\":null,\"data\":{\"band\":[\"1\",\"2\",\"3\",\"4\",\"5\",\"6\",\"7\",\"8\",\"9\",\"10\",\"11\"],\"flux\":{\"__ndarray__\":\"gCVXsXiAb0Do1JXPcmNrQHS0qiXdtXBAJvvnaUAhcEBkBb8NMZJxQO86G/IPUXJAqVA4Fq+NckCc3VomI4VyQA2mYfgImHFAwRvSqMDWcEDWqyOi87dyQA==\",\"dtype\":\"float64\",\"shape\":[11]}},\"selected\":{\"id\":\"a23454d9-8dfe-493c-8654-80e17a6142a7\",\"type\":\"Selection\"},\"selection_policy\":{\"id\":\"367ee380-0ee8-4cbd-b34c-6da48044c856\",\"type\":\"UnionRenderers\"}},\"id\":\"f01d31bb-a3c7-476b-b3d4-8f93c2fecdfa\",\"type\":\"ColumnDataSource\"},{\"attributes\":{\"fill_color\":{\"value\":\"#1f77b4\"},\"line_color\":{\"value\":\"#1f77b4\"},\"top\":{\"field\":\"flux\"},\"width\":{\"value\":0.9},\"x\":{\"field\":\"band\"}},\"id\":\"b5240f8b-645b-4203-9e01-658ee72cfb24\",\"type\":\"VBar\"},{\"attributes\":{\"active_drag\":\"auto\",\"active_inspect\":\"auto\",\"active_scroll\":\"auto\",\"active_tap\":\"auto\",\"tools\":[{\"id\":\"da402794-a62f-4cd7-b65b-19ae437ef1f7\",\"type\":\"PanTool\"},{\"id\":\"e4f11124-d54c-434f-abac-880ec893ec7c\",\"type\":\"WheelZoomTool\"},{\"id\":\"c6ba4418-ffd1-4128-a69e-cf227c90238c\",\"type\":\"BoxZoomTool\"},{\"id\":\"9c328558-8273-4865-9c21-81eb07434091\",\"type\":\"SaveTool\"},{\"id\":\"ff45c2b5-4800-409b-b53b-82338a24251d\",\"type\":\"ResetTool\"},{\"id\":\"50fde782-3fe4-4875-9b10-d215762cfdea\",\"type\":\"HelpTool\"}]},\"id\":\"27cb8453-16d8-4662-92b0-e76982941e6a\",\"type\":\"Toolbar\"},{\"attributes\":{\"below\":[{\"id\":\"7d6a30bd-799d-461d-887b-fd2451221cae\",\"type\":\"CategoricalAxis\"}],\"left\":[{\"id\":\"36942c14-376a-4b2c-937c-8df8e5c18d02\",\"type\":\"LinearAxis\"}],\"plot_height\":300,\"plot_width\":300,\"renderers\":[{\"id\":\"7d6a30bd-799d-461d-887b-fd2451221cae\",\"type\":\"CategoricalAxis\"},{\"id\":\"e56c8473-a97d-420b-b006-7f73162d93a9\",\"type\":\"Grid\"},{\"id\":\"36942c14-376a-4b2c-937c-8df8e5c18d02\",\"type\":\"LinearAxis\"},{\"id\":\"87ce0313-ad32-43fc-8f6d-4e95d96f0e4f\",\"type\":\"Grid\"},{\"id\":\"d9c0de1a-1914-4b5c-94ce-a512d49ad875\",\"type\":\"BoxAnnotation\"},{\"id\":\"f9c96dea-1b6c-443d-ac98-b89810f3741c\",\"type\":\"GlyphRenderer\"}],\"title\":{\"id\":\"b01833af-d7c1-450d-b68e-71eb5ce6e89b\",\"type\":\"Title\"},\"toolbar\":{\"id\":\"27cb8453-16d8-4662-92b0-e76982941e6a\",\"type\":\"Toolbar\"},\"toolbar_location\":null,\"x_range\":{\"id\":\"6eaafbca-7304-4fcd-94a7-17d7cfaa5784\",\"type\":\"FactorRange\"},\"x_scale\":{\"id\":\"cc3b948b-5141-4232-8874-8f5b0dcee7c0\",\"type\":\"CategoricalScale\"},\"y_range\":{\"id\":\"54cd2fa8-9d24-42e4-ab5d-d861f6efcd9f\",\"type\":\"DataRange1d\"},\"y_scale\":{\"id\":\"a112d54e-1f89-4dd7-acd0-9c01e7e7c217\",\"type\":\"LinearScale\"}},\"id\":\"c30d7c66-f174-475f-ad1b-9bd12f918342\",\"subtype\":\"Figure\",\"type\":\"Plot\"},{\"attributes\":{},\"id\":\"da402794-a62f-4cd7-b65b-19ae437ef1f7\",\"type\":\"PanTool\"},{\"attributes\":{\"source\":{\"id\":\"f01d31bb-a3c7-476b-b3d4-8f93c2fecdfa\",\"type\":\"ColumnDataSource\"}},\"id\":\"f1ad4946-501c-4185-adc9-ca6b096ce992\",\"type\":\"CDSView\"},{\"attributes\":{\"dimension\":1,\"plot\":{\"id\":\"c30d7c66-f174-475f-ad1b-9bd12f918342\",\"subtype\":\"Figure\",\"type\":\"Plot\"},\"ticker\":{\"id\":\"199f1b7a-b88d-4a41-8324-a2d8bfe8a53f\",\"type\":\"BasicTicker\"}},\"id\":\"87ce0313-ad32-43fc-8f6d-4e95d96f0e4f\",\"type\":\"Grid\"},{\"attributes\":{},\"id\":\"d203a688-b5c4-4dc7-b512-bdd16d49cdc9\",\"type\":\"CategoricalTickFormatter\"},{\"attributes\":{\"plot\":{\"id\":\"f45e573f-8230-4027-8019-81b067ec1377\",\"subtype\":\"Figure\",\"type\":\"Plot\"},\"ticker\":{\"id\":\"9998f459-a801-47b7-9783-27454f87c7b2\",\"type\":\"CategoricalTicker\"}},\"id\":\"fb76f2c0-0e5f-4432-8b97-87ac61c741cc\",\"type\":\"Grid\"},{\"attributes\":{\"callback\":null,\"factors\":[\"1\",\"2\",\"3\",\"4\",\"5\",\"6\",\"7\",\"8\",\"9\",\"10\",\"11\"]},\"id\":\"0f61876c-6a39-4d04-8b35-f1e532022eb6\",\"type\":\"FactorRange\"},{\"attributes\":{},\"id\":\"a23454d9-8dfe-493c-8654-80e17a6142a7\",\"type\":\"Selection\"},{\"attributes\":{},\"id\":\"35cd4d13-8bca-4585-b342-8c3983bcd065\",\"type\":\"CategoricalTickFormatter\"},{\"attributes\":{\"bottom_units\":\"screen\",\"fill_alpha\":{\"value\":0.5},\"fill_color\":{\"value\":\"lightgrey\"},\"left_units\":\"screen\",\"level\":\"overlay\",\"line_alpha\":{\"value\":1.0},\"line_color\":{\"value\":\"black\"},\"line_dash\":[4,4],\"line_width\":{\"value\":2},\"plot\":null,\"render_mode\":\"css\",\"right_units\":\"screen\",\"top_units\":\"screen\"},\"id\":\"8453e878-36ab-4dcb-9f83-7bd490705b69\",\"type\":\"BoxAnnotation\"},{\"attributes\":{\"axis_label\":\"spectral band\",\"formatter\":{\"id\":\"d203a688-b5c4-4dc7-b512-bdd16d49cdc9\",\"type\":\"CategoricalTickFormatter\"},\"plot\":{\"id\":\"f45e573f-8230-4027-8019-81b067ec1377\",\"subtype\":\"Figure\",\"type\":\"Plot\"},\"ticker\":{\"id\":\"9998f459-a801-47b7-9783-27454f87c7b2\",\"type\":\"CategoricalTicker\"}},\"id\":\"7f5ae9fd-50d4-4797-a79c-dc2ab7c4adf2\",\"type\":\"CategoricalAxis\"},{\"attributes\":{},\"id\":\"1ce17df3-b0b2-4b91-bd10-0b4f429ef675\",\"type\":\"LinearScale\"},{\"attributes\":{\"overlay\":{\"id\":\"d9c0de1a-1914-4b5c-94ce-a512d49ad875\",\"type\":\"BoxAnnotation\"}},\"id\":\"c6ba4418-ffd1-4128-a69e-cf227c90238c\",\"type\":\"BoxZoomTool\"},{\"attributes\":{},\"id\":\"bc3aeadf-0f2c-400f-aa98-5c35b30f2f50\",\"type\":\"BasicTicker\"},{\"attributes\":{},\"id\":\"3ff896c8-b062-4ad9-a315-e174773f09b4\",\"type\":\"BasicTicker\"},{\"attributes\":{\"callback\":null,\"data\":{\"band\":[\"1\",\"2\",\"3\",\"4\",\"5\",\"6\",\"7\",\"8\",\"9\",\"10\",\"11\"],\"flux\":{\"__ndarray__\":\"KspbZHFKXMB8eeDnqMJVwFF2RM/31l7AGZn0tRZzYMAcQpWaPaBgwOS9amXCQmHAoNrgRPSCYsCsqSwKO6dhwKYes/11QGHAL72B8uyGYcAnj11YLTRiwA==\",\"dtype\":\"float64\",\"shape\":[11]}},\"selected\":{\"id\":\"a92f4080-3aad-4d70-bb93-0386b703272c\",\"type\":\"Selection\"},\"selection_policy\":{\"id\":\"8458cbd1-4a42-48f7-93f8-6fb1d39b2814\",\"type\":\"UnionRenderers\"}},\"id\":\"99217af4-ff0d-4e5e-84bb-5a548f4c1169\",\"type\":\"ColumnDataSource\"},{\"attributes\":{\"toolbar\":{\"id\":\"24247978-6d78-48b9-9cd2-0170681b642a\",\"type\":\"ProxyToolbar\"},\"toolbar_location\":\"above\"},\"id\":\"afd8c76c-7076-48e9-a91e-b1842f9fd6ac\",\"type\":\"ToolbarBox\"},{\"attributes\":{},\"id\":\"6d67d599-2733-4932-990d-b0a32fe12552\",\"type\":\"SaveTool\"},{\"attributes\":{},\"id\":\"70c7d173-cab9-45f6-b361-404272ee03de\",\"type\":\"ResetTool\"},{\"attributes\":{},\"id\":\"a92f4080-3aad-4d70-bb93-0386b703272c\",\"type\":\"Selection\"},{\"attributes\":{},\"id\":\"ea819c3c-970d-4614-8436-59bab7e74e37\",\"type\":\"WheelZoomTool\"},{\"attributes\":{\"bottom_units\":\"screen\",\"fill_alpha\":{\"value\":0.5},\"fill_color\":{\"value\":\"lightgrey\"},\"left_units\":\"screen\",\"level\":\"overlay\",\"line_alpha\":{\"value\":1.0},\"line_color\":{\"value\":\"black\"},\"line_dash\":[4,4],\"line_width\":{\"value\":2},\"plot\":null,\"render_mode\":\"css\",\"right_units\":\"screen\",\"top_units\":\"screen\"},\"id\":\"6b761968-1079-4b6c-8d5f-41d2f736d03b\",\"type\":\"BoxAnnotation\"},{\"attributes\":{\"axis_label\":\"flux (W m-2)\",\"formatter\":{\"id\":\"d321ed52-abc5-437f-bcbf-5d839de7e885\",\"type\":\"BasicTickFormatter\"},\"plot\":{\"id\":\"3aba44bd-9c65-4ade-9198-f3c3b48ccae1\",\"subtype\":\"Figure\",\"type\":\"Plot\"},\"ticker\":{\"id\":\"3ff896c8-b062-4ad9-a315-e174773f09b4\",\"type\":\"BasicTicker\"}},\"id\":\"6cc61e08-c13a-456a-914d-c7e843c663f4\",\"type\":\"LinearAxis\"},{\"attributes\":{\"tools\":[{\"id\":\"7f16d9f6-8a6e-4a84-a7b7-d176d9269d04\",\"type\":\"PanTool\"},{\"id\":\"ea819c3c-970d-4614-8436-59bab7e74e37\",\"type\":\"WheelZoomTool\"},{\"id\":\"6eabb370-56f5-460e-8a3d-8f9ecf1bd5b1\",\"type\":\"BoxZoomTool\"},{\"id\":\"6d67d599-2733-4932-990d-b0a32fe12552\",\"type\":\"SaveTool\"},{\"id\":\"70c7d173-cab9-45f6-b361-404272ee03de\",\"type\":\"ResetTool\"},{\"id\":\"5935b1bd-5a07-4ad0-85eb-0aeec13987b5\",\"type\":\"HelpTool\"},{\"id\":\"da402794-a62f-4cd7-b65b-19ae437ef1f7\",\"type\":\"PanTool\"},{\"id\":\"e4f11124-d54c-434f-abac-880ec893ec7c\",\"type\":\"WheelZoomTool\"},{\"id\":\"c6ba4418-ffd1-4128-a69e-cf227c90238c\",\"type\":\"BoxZoomTool\"},{\"id\":\"9c328558-8273-4865-9c21-81eb07434091\",\"type\":\"SaveTool\"},{\"id\":\"ff45c2b5-4800-409b-b53b-82338a24251d\",\"type\":\"ResetTool\"},{\"id\":\"50fde782-3fe4-4875-9b10-d215762cfdea\",\"type\":\"HelpTool\"},{\"id\":\"b02353d3-6d45-42b7-8d44-baa2c19de2e9\",\"type\":\"PanTool\"},{\"id\":\"6fb008da-5d42-4846-a33f-776b633b6e01\",\"type\":\"WheelZoomTool\"},{\"id\":\"5f7cf3d9-4545-45cb-ad55-0a85ac979532\",\"type\":\"BoxZoomTool\"},{\"id\":\"b5a88bb0-e0ff-4e0a-8c6e-5bb78125e594\",\"type\":\"SaveTool\"},{\"id\":\"ce010684-423d-4eab-bc01-cc46f784fa7a\",\"type\":\"ResetTool\"},{\"id\":\"7f95b528-8d05-4271-9440-410798e2ecba\",\"type\":\"HelpTool\"}]},\"id\":\"24247978-6d78-48b9-9cd2-0170681b642a\",\"type\":\"ProxyToolbar\"},{\"attributes\":{\"active_drag\":\"auto\",\"active_inspect\":\"auto\",\"active_scroll\":\"auto\",\"active_tap\":\"auto\",\"tools\":[{\"id\":\"7f16d9f6-8a6e-4a84-a7b7-d176d9269d04\",\"type\":\"PanTool\"},{\"id\":\"ea819c3c-970d-4614-8436-59bab7e74e37\",\"type\":\"WheelZoomTool\"},{\"id\":\"6eabb370-56f5-460e-8a3d-8f9ecf1bd5b1\",\"type\":\"BoxZoomTool\"},{\"id\":\"6d67d599-2733-4932-990d-b0a32fe12552\",\"type\":\"SaveTool\"},{\"id\":\"70c7d173-cab9-45f6-b361-404272ee03de\",\"type\":\"ResetTool\"},{\"id\":\"5935b1bd-5a07-4ad0-85eb-0aeec13987b5\",\"type\":\"HelpTool\"}]},\"id\":\"734c170f-0db7-47d2-8cec-d071a9671ee1\",\"type\":\"Toolbar\"},{\"attributes\":{},\"id\":\"e2139aaf-368f-403a-b2e2-3ff4076a62f0\",\"type\":\"LinearScale\"},{\"attributes\":{\"data_source\":{\"id\":\"99217af4-ff0d-4e5e-84bb-5a548f4c1169\",\"type\":\"ColumnDataSource\"},\"glyph\":{\"id\":\"79394873-3536-4888-a09e-e9d337ac5abf\",\"type\":\"VBar\"},\"hover_glyph\":null,\"muted_glyph\":null,\"nonselection_glyph\":{\"id\":\"e62f75a6-b217-4a35-9a42-d18fecc03a6c\",\"type\":\"VBar\"},\"selection_glyph\":null,\"view\":{\"id\":\"ee1b9589-5b5c-4c13-a521-773ab61e9e0a\",\"type\":\"CDSView\"}},\"id\":\"40333f92-1a54-4e28-b0e6-d338be8d8c37\",\"type\":\"GlyphRenderer\"},{\"attributes\":{\"source\":{\"id\":\"5e1839b7-ff36-4f08-aa69-8f851fe4aa41\",\"type\":\"ColumnDataSource\"}},\"id\":\"394a175c-4506-4a9f-b829-294baaa15295\",\"type\":\"CDSView\"},{\"attributes\":{},\"id\":\"12cd8f5a-5449-4a35-bede-fabe18816671\",\"type\":\"BasicTickFormatter\"},{\"attributes\":{\"callback\":null,\"factors\":[\"1\",\"2\",\"3\",\"4\",\"5\",\"6\",\"7\",\"8\",\"9\",\"10\",\"11\"]},\"id\":\"60c55a7a-d0c6-4177-b66a-b0ee40ff653e\",\"type\":\"FactorRange\"},{\"attributes\":{\"fill_alpha\":{\"value\":0.1},\"fill_color\":{\"value\":\"#1f77b4\"},\"line_alpha\":{\"value\":0.1},\"line_color\":{\"value\":\"#1f77b4\"},\"top\":{\"field\":\"flux\"},\"width\":{\"value\":0.9},\"x\":{\"field\":\"band\"}},\"id\":\"e62f75a6-b217-4a35-9a42-d18fecc03a6c\",\"type\":\"VBar\"},{\"attributes\":{},\"id\":\"7f95b528-8d05-4271-9440-410798e2ecba\",\"type\":\"HelpTool\"},{\"attributes\":{},\"id\":\"22253f0b-1a49-4e97-9a72-1bc4cf743b98\",\"type\":\"Selection\"},{\"attributes\":{\"overlay\":{\"id\":\"6b761968-1079-4b6c-8d5f-41d2f736d03b\",\"type\":\"BoxAnnotation\"}},\"id\":\"5f7cf3d9-4545-45cb-ad55-0a85ac979532\",\"type\":\"BoxZoomTool\"},{\"attributes\":{},\"id\":\"4ebfe994-6d46-4a51-b6dc-8c2ec5d02a55\",\"type\":\"CategoricalTicker\"},{\"attributes\":{\"children\":[{\"id\":\"5206c3f7-72ca-4c57-8b30-d7d81b6d6374\",\"type\":\"Row\"}]},\"id\":\"aee34d95-3ddd-4964-ba30-31c094c06b31\",\"type\":\"Column\"},{\"attributes\":{},\"id\":\"ff45c2b5-4800-409b-b53b-82338a24251d\",\"type\":\"ResetTool\"},{\"attributes\":{\"data_source\":{\"id\":\"5e1839b7-ff36-4f08-aa69-8f851fe4aa41\",\"type\":\"ColumnDataSource\"},\"glyph\":{\"id\":\"6d604f8f-f3e5-4dbd-b5c7-762dcea8a8d1\",\"type\":\"VBar\"},\"hover_glyph\":null,\"muted_glyph\":null,\"nonselection_glyph\":{\"id\":\"9530fc6c-3d52-489e-9259-113db32dc2eb\",\"type\":\"VBar\"},\"selection_glyph\":null,\"view\":{\"id\":\"394a175c-4506-4a9f-b829-294baaa15295\",\"type\":\"CDSView\"}},\"id\":\"257b8f5b-cb0e-4f8e-bdd7-49ce8bb77537\",\"type\":\"GlyphRenderer\"},{\"attributes\":{},\"id\":\"c75cdd16-4a87-4f86-8675-791f53992559\",\"type\":\"CategoricalScale\"},{\"attributes\":{},\"id\":\"348a4b58-ef4a-4510-84b6-e0c49c6c5029\",\"type\":\"UnionRenderers\"},{\"attributes\":{},\"id\":\"41e87328-07a2-473d-8cba-db22c66af8b4\",\"type\":\"BasicTickFormatter\"},{\"attributes\":{\"fill_alpha\":{\"value\":0.1},\"fill_color\":{\"value\":\"#1f77b4\"},\"line_alpha\":{\"value\":0.1},\"line_color\":{\"value\":\"#1f77b4\"},\"top\":{\"field\":\"flux\"},\"width\":{\"value\":0.9},\"x\":{\"field\":\"band\"}},\"id\":\"9530fc6c-3d52-489e-9259-113db32dc2eb\",\"type\":\"VBar\"},{\"attributes\":{},\"id\":\"367ee380-0ee8-4cbd-b34c-6da48044c856\",\"type\":\"UnionRenderers\"},{\"attributes\":{},\"id\":\"d321ed52-abc5-437f-bcbf-5d839de7e885\",\"type\":\"BasicTickFormatter\"},{\"attributes\":{\"callback\":null},\"id\":\"9e57b063-6e6a-424b-930b-fabd6e010dd4\",\"type\":\"DataRange1d\"},{\"attributes\":{\"children\":[{\"id\":\"3aba44bd-9c65-4ade-9198-f3c3b48ccae1\",\"subtype\":\"Figure\",\"type\":\"Plot\"},{\"id\":\"c30d7c66-f174-475f-ad1b-9bd12f918342\",\"subtype\":\"Figure\",\"type\":\"Plot\"},{\"id\":\"f45e573f-8230-4027-8019-81b067ec1377\",\"subtype\":\"Figure\",\"type\":\"Plot\"}]},\"id\":\"5206c3f7-72ca-4c57-8b30-d7d81b6d6374\",\"type\":\"Row\"},{\"attributes\":{\"axis_label\":\"flux (W m-2)\",\"formatter\":{\"id\":\"41e87328-07a2-473d-8cba-db22c66af8b4\",\"type\":\"BasicTickFormatter\"},\"plot\":{\"id\":\"f45e573f-8230-4027-8019-81b067ec1377\",\"subtype\":\"Figure\",\"type\":\"Plot\"},\"ticker\":{\"id\":\"bc3aeadf-0f2c-400f-aa98-5c35b30f2f50\",\"type\":\"BasicTicker\"}},\"id\":\"d35a6656-b232-406b-bd9c-9121eb9e9c75\",\"type\":\"LinearAxis\"},{\"attributes\":{},\"id\":\"9998f459-a801-47b7-9783-27454f87c7b2\",\"type\":\"CategoricalTicker\"},{\"attributes\":{},\"id\":\"5935b1bd-5a07-4ad0-85eb-0aeec13987b5\",\"type\":\"HelpTool\"},{\"attributes\":{\"fill_color\":{\"value\":\"#1f77b4\"},\"line_color\":{\"value\":\"#1f77b4\"},\"top\":{\"field\":\"flux\"},\"width\":{\"value\":0.9},\"x\":{\"field\":\"band\"}},\"id\":\"6d604f8f-f3e5-4dbd-b5c7-762dcea8a8d1\",\"type\":\"VBar\"},{\"attributes\":{},\"id\":\"50fde782-3fe4-4875-9b10-d215762cfdea\",\"type\":\"HelpTool\"},{\"attributes\":{},\"id\":\"b02353d3-6d45-42b7-8d44-baa2c19de2e9\",\"type\":\"PanTool\"},{\"attributes\":{},\"id\":\"eaf9173f-9bc7-48ab-8da0-643dc4f8792e\",\"type\":\"CategoricalTickFormatter\"},{\"attributes\":{\"callback\":null,\"data\":{\"band\":[\"1\",\"2\",\"3\",\"4\",\"5\",\"6\",\"7\",\"8\",\"9\",\"10\",\"11\"],\"flux\":{\"__ndarray__\":\"mDWxwNe4cMCWRWEXRRduwLQ8D+5OTHHAJq34hoLbccC0dtuFpj5xwON2aFgMnm3AthX7y248ccC+h0uOu2FxwIfkZOIWDXLAEabN3VNjcsCBgXv5eJNywA==\",\"dtype\":\"float64\",\"shape\":[11]}},\"selected\":{\"id\":\"22253f0b-1a49-4e97-9a72-1bc4cf743b98\",\"type\":\"Selection\"},\"selection_policy\":{\"id\":\"348a4b58-ef4a-4510-84b6-e0c49c6c5029\",\"type\":\"UnionRenderers\"}},\"id\":\"5e1839b7-ff36-4f08-aa69-8f851fe4aa41\",\"type\":\"ColumnDataSource\"},{\"attributes\":{},\"id\":\"6fb008da-5d42-4846-a33f-776b633b6e01\",\"type\":\"WheelZoomTool\"},{\"attributes\":{\"plot\":null,\"text\":\"Atmosphere heating. CLIRAD (single-run) - CRD.\"},\"id\":\"bda00629-e11e-4c95-a4fc-e6964710656b\",\"type\":\"Title\"},{\"attributes\":{\"source\":{\"id\":\"99217af4-ff0d-4e5e-84bb-5a548f4c1169\",\"type\":\"ColumnDataSource\"}},\"id\":\"ee1b9589-5b5c-4c13-a521-773ab61e9e0a\",\"type\":\"CDSView\"},{\"attributes\":{\"active_drag\":\"auto\",\"active_inspect\":\"auto\",\"active_scroll\":\"auto\",\"active_tap\":\"auto\",\"tools\":[{\"id\":\"b02353d3-6d45-42b7-8d44-baa2c19de2e9\",\"type\":\"PanTool\"},{\"id\":\"6fb008da-5d42-4846-a33f-776b633b6e01\",\"type\":\"WheelZoomTool\"},{\"id\":\"5f7cf3d9-4545-45cb-ad55-0a85ac979532\",\"type\":\"BoxZoomTool\"},{\"id\":\"b5a88bb0-e0ff-4e0a-8c6e-5bb78125e594\",\"type\":\"SaveTool\"},{\"id\":\"ce010684-423d-4eab-bc01-cc46f784fa7a\",\"type\":\"ResetTool\"},{\"id\":\"7f95b528-8d05-4271-9440-410798e2ecba\",\"type\":\"HelpTool\"}]},\"id\":\"3055a745-a6dd-44ad-b8e7-324ebb678f0c\",\"type\":\"Toolbar\"},{\"attributes\":{\"axis_label\":\"spectral band\",\"formatter\":{\"id\":\"eaf9173f-9bc7-48ab-8da0-643dc4f8792e\",\"type\":\"CategoricalTickFormatter\"},\"plot\":{\"id\":\"3aba44bd-9c65-4ade-9198-f3c3b48ccae1\",\"subtype\":\"Figure\",\"type\":\"Plot\"},\"ticker\":{\"id\":\"4ebfe994-6d46-4a51-b6dc-8c2ec5d02a55\",\"type\":\"CategoricalTicker\"}},\"id\":\"1c20ce62-f90b-4884-835c-bffb2e1ef1a1\",\"type\":\"CategoricalAxis\"},{\"attributes\":{\"below\":[{\"id\":\"7f5ae9fd-50d4-4797-a79c-dc2ab7c4adf2\",\"type\":\"CategoricalAxis\"}],\"left\":[{\"id\":\"d35a6656-b232-406b-bd9c-9121eb9e9c75\",\"type\":\"LinearAxis\"}],\"plot_height\":300,\"plot_width\":300,\"renderers\":[{\"id\":\"7f5ae9fd-50d4-4797-a79c-dc2ab7c4adf2\",\"type\":\"CategoricalAxis\"},{\"id\":\"fb76f2c0-0e5f-4432-8b97-87ac61c741cc\",\"type\":\"Grid\"},{\"id\":\"d35a6656-b232-406b-bd9c-9121eb9e9c75\",\"type\":\"LinearAxis\"},{\"id\":\"fe20ddd7-fdf5-45a2-b3f1-b174e7ddc0f6\",\"type\":\"Grid\"},{\"id\":\"6b761968-1079-4b6c-8d5f-41d2f736d03b\",\"type\":\"BoxAnnotation\"},{\"id\":\"40333f92-1a54-4e28-b0e6-d338be8d8c37\",\"type\":\"GlyphRenderer\"}],\"title\":{\"id\":\"bda00629-e11e-4c95-a4fc-e6964710656b\",\"type\":\"Title\"},\"toolbar\":{\"id\":\"3055a745-a6dd-44ad-b8e7-324ebb678f0c\",\"type\":\"Toolbar\"},\"toolbar_location\":null,\"x_range\":{\"id\":\"0f61876c-6a39-4d04-8b35-f1e532022eb6\",\"type\":\"FactorRange\"},\"x_scale\":{\"id\":\"c75cdd16-4a87-4f86-8675-791f53992559\",\"type\":\"CategoricalScale\"},\"y_range\":{\"id\":\"10346949-3a4e-4156-bd13-da5a397d9a49\",\"type\":\"DataRange1d\"},\"y_scale\":{\"id\":\"1ce17df3-b0b2-4b91-bd10-0b4f429ef675\",\"type\":\"LinearScale\"}},\"id\":\"f45e573f-8230-4027-8019-81b067ec1377\",\"subtype\":\"Figure\",\"type\":\"Plot\"},{\"attributes\":{\"fill_color\":{\"value\":\"#1f77b4\"},\"line_color\":{\"value\":\"#1f77b4\"},\"top\":{\"field\":\"flux\"},\"width\":{\"value\":0.9},\"x\":{\"field\":\"band\"}},\"id\":\"79394873-3536-4888-a09e-e9d337ac5abf\",\"type\":\"VBar\"},{\"attributes\":{\"dimension\":1,\"plot\":{\"id\":\"3aba44bd-9c65-4ade-9198-f3c3b48ccae1\",\"subtype\":\"Figure\",\"type\":\"Plot\"},\"ticker\":{\"id\":\"3ff896c8-b062-4ad9-a315-e174773f09b4\",\"type\":\"BasicTicker\"}},\"id\":\"89d5e406-46b8-40ca-b037-b0e0af0f192c\",\"type\":\"Grid\"},{\"attributes\":{\"below\":[{\"id\":\"1c20ce62-f90b-4884-835c-bffb2e1ef1a1\",\"type\":\"CategoricalAxis\"}],\"left\":[{\"id\":\"6cc61e08-c13a-456a-914d-c7e843c663f4\",\"type\":\"LinearAxis\"}],\"plot_height\":300,\"plot_width\":300,\"renderers\":[{\"id\":\"1c20ce62-f90b-4884-835c-bffb2e1ef1a1\",\"type\":\"CategoricalAxis\"},{\"id\":\"edc3e649-14b3-4dbc-9611-e7a4de694d4b\",\"type\":\"Grid\"},{\"id\":\"6cc61e08-c13a-456a-914d-c7e843c663f4\",\"type\":\"LinearAxis\"},{\"id\":\"89d5e406-46b8-40ca-b037-b0e0af0f192c\",\"type\":\"Grid\"},{\"id\":\"8453e878-36ab-4dcb-9f83-7bd490705b69\",\"type\":\"BoxAnnotation\"},{\"id\":\"257b8f5b-cb0e-4f8e-bdd7-49ce8bb77537\",\"type\":\"GlyphRenderer\"}],\"title\":{\"id\":\"582b2be3-fdc6-4ae1-a1ef-ff2debc2c772\",\"type\":\"Title\"},\"toolbar\":{\"id\":\"734c170f-0db7-47d2-8cec-d071a9671ee1\",\"type\":\"Toolbar\"},\"toolbar_location\":null,\"x_range\":{\"id\":\"60c55a7a-d0c6-4177-b66a-b0ee40ff653e\",\"type\":\"FactorRange\"},\"x_scale\":{\"id\":\"c0e458c3-3551-4fa4-9130-67aadbf9bcf2\",\"type\":\"CategoricalScale\"},\"y_range\":{\"id\":\"9e57b063-6e6a-424b-930b-fabd6e010dd4\",\"type\":\"DataRange1d\"},\"y_scale\":{\"id\":\"e2139aaf-368f-403a-b2e2-3ff4076a62f0\",\"type\":\"LinearScale\"}},\"id\":\"3aba44bd-9c65-4ade-9198-f3c3b48ccae1\",\"subtype\":\"Figure\",\"type\":\"Plot\"},{\"attributes\":{\"callback\":null},\"id\":\"10346949-3a4e-4156-bd13-da5a397d9a49\",\"type\":\"DataRange1d\"},{\"attributes\":{\"dimension\":1,\"plot\":{\"id\":\"f45e573f-8230-4027-8019-81b067ec1377\",\"subtype\":\"Figure\",\"type\":\"Plot\"},\"ticker\":{\"id\":\"bc3aeadf-0f2c-400f-aa98-5c35b30f2f50\",\"type\":\"BasicTicker\"}},\"id\":\"fe20ddd7-fdf5-45a2-b3f1-b174e7ddc0f6\",\"type\":\"Grid\"},{\"attributes\":{\"plot\":null,\"text\":\"TOA flux. CLIRAD (single-run) - CRD.\"},\"id\":\"582b2be3-fdc6-4ae1-a1ef-ff2debc2c772\",\"type\":\"Title\"},{\"attributes\":{},\"id\":\"7f16d9f6-8a6e-4a84-a7b7-d176d9269d04\",\"type\":\"PanTool\"},{\"attributes\":{\"overlay\":{\"id\":\"8453e878-36ab-4dcb-9f83-7bd490705b69\",\"type\":\"BoxAnnotation\"}},\"id\":\"6eabb370-56f5-460e-8a3d-8f9ecf1bd5b1\",\"type\":\"BoxZoomTool\"},{\"attributes\":{\"plot\":{\"id\":\"3aba44bd-9c65-4ade-9198-f3c3b48ccae1\",\"subtype\":\"Figure\",\"type\":\"Plot\"},\"ticker\":{\"id\":\"4ebfe994-6d46-4a51-b6dc-8c2ec5d02a55\",\"type\":\"CategoricalTicker\"}},\"id\":\"edc3e649-14b3-4dbc-9611-e7a4de694d4b\",\"type\":\"Grid\"},{\"attributes\":{},\"id\":\"c0e458c3-3551-4fa4-9130-67aadbf9bcf2\",\"type\":\"CategoricalScale\"},{\"attributes\":{\"children\":[{\"id\":\"afd8c76c-7076-48e9-a91e-b1842f9fd6ac\",\"type\":\"ToolbarBox\"},{\"id\":\"aee34d95-3ddd-4964-ba30-31c094c06b31\",\"type\":\"Column\"}]},\"id\":\"6814faf0-d6d6-46c1-8a92-6fa2f589f94d\",\"type\":\"Column\"},{\"attributes\":{},\"id\":\"e4f11124-d54c-434f-abac-880ec893ec7c\",\"type\":\"WheelZoomTool\"},{\"attributes\":{},\"id\":\"8458cbd1-4a42-48f7-93f8-6fb1d39b2814\",\"type\":\"UnionRenderers\"},{\"attributes\":{},\"id\":\"9c328558-8273-4865-9c21-81eb07434091\",\"type\":\"SaveTool\"},{\"attributes\":{},\"id\":\"b5a88bb0-e0ff-4e0a-8c6e-5bb78125e594\",\"type\":\"SaveTool\"},{\"attributes\":{},\"id\":\"ce010684-423d-4eab-bc01-cc46f784fa7a\",\"type\":\"ResetTool\"},{\"attributes\":{\"bottom_units\":\"screen\",\"fill_alpha\":{\"value\":0.5},\"fill_color\":{\"value\":\"lightgrey\"},\"left_units\":\"screen\",\"level\":\"overlay\",\"line_alpha\":{\"value\":1.0},\"line_color\":{\"value\":\"black\"},\"line_dash\":[4,4],\"line_width\":{\"value\":2},\"plot\":null,\"render_mode\":\"css\",\"right_units\":\"screen\",\"top_units\":\"screen\"},\"id\":\"d9c0de1a-1914-4b5c-94ce-a512d49ad875\",\"type\":\"BoxAnnotation\"}],\"root_ids\":[\"6814faf0-d6d6-46c1-8a92-6fa2f589f94d\"]},\"title\":\"Bokeh Application\",\"version\":\"0.12.16\"}};\n",
       "  var render_items = [{\"docid\":\"b9a629ea-5fbe-4730-bdd8-f24e3c01af03\",\"elementid\":\"f344d142-9a1e-4bb4-82d4-d3000c2edc16\",\"modelid\":\"6814faf0-d6d6-46c1-8a92-6fa2f589f94d\"}];\n",
       "  root.Bokeh.embed.embed_items_notebook(docs_json, render_items);\n",
       "\n",
       "  }\n",
       "  if (root.Bokeh !== undefined) {\n",
       "    embed_document(root);\n",
       "  } else {\n",
       "    var attempts = 0;\n",
       "    var timer = setInterval(function(root) {\n",
       "      if (root.Bokeh !== undefined) {\n",
       "        embed_document(root);\n",
       "        clearInterval(timer);\n",
       "      }\n",
       "      attempts++;\n",
       "      if (attempts > 100) {\n",
       "        console.log(\"Bokeh: ERROR: Unable to run BokehJS code because BokehJS library is missing\")\n",
       "        clearInterval(timer);\n",
       "      }\n",
       "    }, 10, root)\n",
       "  }\n",
       "})(window);"
      ],
      "application/vnd.bokehjs_exec.v0+json": ""
     },
     "metadata": {
      "application/vnd.bokehjs_exec.v0+json": {
       "id": "6814faf0-d6d6-46c1-8a92-6fa2f589f94d"
      }
     },
     "output_type": "display_data"
    },
    {
     "data": {
      "text/markdown": [
       "*FIGURE.* Difference between CLIRAD and CRD in TOA, SFC and net atmosphere flux, in each spectral band."
      ],
      "text/plain": [
       "<IPython.core.display.Markdown object>"
      ]
     },
     "metadata": {},
     "output_type": "display_data"
    },
    {
     "data": {
      "text/html": [
       "<div>\n",
       "<style scoped>\n",
       "    .dataframe tbody tr th:only-of-type {\n",
       "        vertical-align: middle;\n",
       "    }\n",
       "\n",
       "    .dataframe tbody tr th {\n",
       "        vertical-align: top;\n",
       "    }\n",
       "\n",
       "    .dataframe thead th {\n",
       "        text-align: right;\n",
       "    }\n",
       "</style>\n",
       "<table border=\"1\" class=\"dataframe\">\n",
       "  <thead>\n",
       "    <tr style=\"text-align: right;\">\n",
       "      <th></th>\n",
       "      <th>OLR flux</th>\n",
       "      <th>SFC flux</th>\n",
       "      <th>ATM heating</th>\n",
       "    </tr>\n",
       "    <tr>\n",
       "      <th>Sum over bands</th>\n",
       "      <th></th>\n",
       "      <th></th>\n",
       "      <th></th>\n",
       "    </tr>\n",
       "  </thead>\n",
       "  <tbody>\n",
       "    <tr>\n",
       "      <th>CLIRAD (single-run) - CRD</th>\n",
       "      <td>1.48</td>\n",
       "      <td>-32.55</td>\n",
       "      <td>34.03</td>\n",
       "    </tr>\n",
       "    <tr>\n",
       "      <th>CRD</th>\n",
       "      <td>-303.40</td>\n",
       "      <td>337.24</td>\n",
       "      <td>-181.37</td>\n",
       "    </tr>\n",
       "  </tbody>\n",
       "</table>\n",
       "</div>"
      ],
      "text/plain": [
       "                           OLR flux  SFC flux  ATM heating\n",
       "Sum over bands                                            \n",
       "CLIRAD (single-run) - CRD      1.48    -32.55        34.03\n",
       "CRD                         -303.40    337.24      -181.37"
      ]
     },
     "metadata": {},
     "output_type": "display_data"
    },
    {
     "data": {
      "text/markdown": [
       "*TABLE.* Difference between CLIRAD and CRD in TOA, SFC and net atmosphere flux, over all spectral bands. CRD's TOA, SFC and net atmosphere flux, over all spectral bands."
      ],
      "text/plain": [
       "<IPython.core.display.Markdown object>"
      ]
     },
     "metadata": {},
     "output_type": "display_data"
    }
   ],
   "source": [
    "def show_html(s):\n",
    "    display.display(display.HTML(s))\n",
    "\n",
    "    \n",
    "def show_markdown(s):\n",
    "    display.display(display.Markdown(s))\n",
    "\n",
    "\n",
    "def script():\n",
    "    \n",
    "    d_atm = {'mls': 'mid-latitude summer',\n",
    "             'saw': 'sub-arctic winter',\n",
    "             'trp': 'tropical'}\n",
    "    \n",
    "    title = ('## Results over entire range of molecules'\n",
    "             ' and spectral bands')\n",
    "    \n",
    "    s_makeup = 'Makeup of atmosphere.'\n",
    "    s_atmpro = '# {}'\n",
    "    s_cool = 'Cooling rates. {}.'\n",
    "    s_flux = 'Fluxes. {}.'\n",
    "    \n",
    "    atmpros = ['mls', 'saw', 'trp']\n",
    "    \n",
    "    # TOC\n",
    "    show_markdown(title)\n",
    "    show_markdown('### Table of Contents')\n",
    "    show_html(climahtml.getHTML_hrefanchor(s_makeup))\n",
    "    for atmpro in atmpros:\n",
    "        show_markdown('**' + d_atm[atmpro] + '**')\n",
    "        show_html(climahtml.getHTML_hrefanchor(s_cool.format(atmpro)))\n",
    "        show_html(climahtml.getHTML_hrefanchor(s_flux.format(atmpro)))\n",
    "\n",
    "        \n",
    "    # Atmosphere makeup\n",
    "    show_html(climahtml.getHTML_idanchor(s_makeup))\n",
    "    show_markdown(climahtml.getMarkdown_sectitle(s_makeup))\n",
    "    show_makeup()\n",
    "    show_grey_makeup()\n",
    "        \n",
    "    for atmpro in atmpros:\n",
    "        show_html(climahtml.getHTML_idanchor(s_cool.format(atmpro)))\n",
    "        show_markdown(\n",
    "            climahtml.getMarkdown_sectitle(s_cool.format(atmpro)))\n",
    "        show_cool(atmpro=atmpro)\n",
    "        show_html(climahtml.getHTML_idanchor(s_flux.format(atmpro)))\n",
    "        show_markdown(\n",
    "            climahtml.getMarkdown_sectitle(s_flux.format(atmpro)))\n",
    "        show_hist_flux(atmpro=atmpro)\n",
    "        show_tb_flux(atmpro=atmpro)\n",
    "    \n",
    "    \n",
    "script()  "
   ]
  },
  {
   "cell_type": "code",
   "execution_count": null,
   "metadata": {
    "collapsed": true
   },
   "outputs": [],
   "source": []
  },
  {
   "cell_type": "code",
   "execution_count": 14,
   "metadata": {},
   "outputs": [
    {
     "data": {
      "text/html": [
       "<script>\n",
       "code_show=true; \n",
       "function code_toggle() {\n",
       " if (code_show){\n",
       " $('div.input').hide();\n",
       " } else {\n",
       " $('div.input').show();\n",
       " }\n",
       " code_show = !code_show\n",
       "} \n",
       "$( document ).ready(code_toggle);\n",
       "</script>\n",
       "<form action=\"javascript:code_toggle()\"><input type=\"submit\" value=\"Click here to toggle on/off the raw code.\"></form>"
      ],
      "text/plain": [
       "<IPython.core.display.HTML object>"
      ]
     },
     "execution_count": 14,
     "metadata": {},
     "output_type": "execute_result"
    }
   ],
   "source": [
    "display.HTML('''<script>\n",
    "code_show=true; \n",
    "function code_toggle() {\n",
    " if (code_show){\n",
    " $('div.input').hide();\n",
    " } else {\n",
    " $('div.input').show();\n",
    " }\n",
    " code_show = !code_show\n",
    "} \n",
    "$( document ).ready(code_toggle);\n",
    "</script>\n",
    "<form action=\"javascript:code_toggle()\"><input type=\"submit\" value=\"Click here to toggle on/off the raw code.\"></form>''')"
   ]
  },
  {
   "cell_type": "code",
   "execution_count": null,
   "metadata": {
    "collapsed": true
   },
   "outputs": [],
   "source": []
  }
 ],
 "metadata": {
  "kernelspec": {
   "display_name": "Python 3",
   "language": "python",
   "name": "python3"
  },
  "language_info": {
   "codemirror_mode": {
    "name": "ipython",
    "version": 3
   },
   "file_extension": ".py",
   "mimetype": "text/x-python",
   "name": "python",
   "nbconvert_exporter": "python",
   "pygments_lexer": "ipython3",
   "version": "3.6.1"
  }
 },
 "nbformat": 4,
 "nbformat_minor": 2
}
