{
 "cells": [
  {
   "cell_type": "markdown",
   "metadata": {
    "collapsed": true
   },
   "source": [
    "# 2 x $CO_2$"
   ]
  },
  {
   "cell_type": "code",
   "execution_count": 2,
   "metadata": {
    "collapsed": true
   },
   "outputs": [],
   "source": [
    "%reload_ext autoreload\n",
    "%autoreload 2\n",
    "%matplotlib inline\n",
    "\n",
    "import os\n",
    "import importlib \n",
    "import pprint\n",
    "import pymongo\n",
    "\n",
    "from climatools.cliradlw import (setup, pipeline)\n",
    "import climatools.cliradlw.runrecord as runrecord_clirad\n",
    "import climatools.cliradlw.utils as utils_clirad\n",
    "\n",
    "from climatools.atm import *\n",
    "\n",
    "from IPython import display"
   ]
  },
  {
   "cell_type": "code",
   "execution_count": 3,
   "metadata": {
    "collapsed": true
   },
   "outputs": [],
   "source": [
    "client = pymongo.MongoClient(host='localhost', port=27017)\n",
    "pd.set_option('max_colwidth', -1)"
   ]
  },
  {
   "cell_type": "code",
   "execution_count": 4,
   "metadata": {
    "collapsed": true
   },
   "outputs": [],
   "source": [
    "ATMPRO = {'mls': 294, 'saw': 257, 'trp': 300}\n",
    "COMMITNUMBER = '1013f91'\n",
    "MOL = 'co2'"
   ]
  },
  {
   "cell_type": "code",
   "execution_count": 14,
   "metadata": {},
   "outputs": [],
   "source": [
    "atmcomp_olp = AtmComposition.cliradlw_nongreys()\n",
    "atmcomp_olp.gasinbands = {band: gs for band, gs in atmcomp_olp.gasinbands.items() if MOL in gs}\n",
    "atmcomp_olp.gasconcs[MOL] *= 2\n",
    "atmcomps_olp = [AtmComposition(gasinbands={b:gs}, gasconcs=atmcomp_olp.gasconcs) \n",
    "                for b, gs in atmcomp_olp.gasinbands.items()]\n",
    "parms_olp = [vars(p.to_cliradparam(commitnumber=COMMITNUMBER, atmpro=atmpro, tsfc=tsfc))\n",
    "             for p in atmcomps_olp for atmpro, tsfc in ATMPRO.items()]"
   ]
  },
  {
   "cell_type": "code",
   "execution_count": 18,
   "metadata": {},
   "outputs": [],
   "source": [
    "atmcomp_bft = AtmComposition.cliradlw_nongreys()\n",
    "atmcomp_bft.gasinbands = {band: [MOL] for band, gs in atmcomp_bft.gasinbands.items() if MOL in gs}\n",
    "atmcomp_bft.gasconcs[MOL] *= 2\n",
    "atmcomps_bft = [AtmComposition(gasinbands={b:gs}, gasconcs=atmcomp_olp.gasconcs)\n",
    "                for b, gs in atmcomp_bft.gasinbands.items()]\n",
    "parms_bft = [vars(p.to_cliradparam(commitnumber=COMMITNUMBER, atmpro=atmpro, tsfc=tsfc))\n",
    "             for p in atmcomps_bft for atmpro, tsfc in ATMPRO.items()]"
   ]
  },
  {
   "cell_type": "code",
   "execution_count": 25,
   "metadata": {
    "collapsed": true
   },
   "outputs": [],
   "source": [
    "def get_hrefs_clirad(param=None):\n",
    "    atmpros = ('mls', 'saw', 'trp')\n",
    "    hrefs = []\n",
    "    for atmpro in atmpros:\n",
    "        p = param.copy()\n",
    "        p['atmpro'] = atmpro\n",
    "        url = pipeline.nbviewer_url(param=p, setup=setup)\n",
    "        s = '''<a href=\"{}\">{}</a>'''\n",
    "        s = s.format(url, atmpro)\n",
    "        hrefs.append(s)\n",
    "    s_hrefs = ' '.join(hrefs)\n",
    "    return s_hrefs\n",
    "\n",
    "def tb_hrefs_clirad():\n",
    "    df = pd.DataFrame()\n",
    "    for param in (parms_bft + parms_olp):\n",
    "        hrefs = get_hrefs_clirad(param=param)\n",
    "        bands = [str(b) for b in param['band']]\n",
    "        df.loc['+'.join(param['molecule']), '+'.join(bands)] = hrefs\n",
    "    df = df.fillna('')\n",
    "    bmap = utils_clirad.mapband_new2old()\n",
    "    lblnew_bands = [bmap[int(b)] for b in df.columns]\n",
    "    columns = pd.MultiIndex.from_arrays([lblnew_bands, df.columns],\n",
    "                                        names=['lblnew', 'clirad'])\n",
    "    df.columns = columns\n",
    "    return df"
   ]
  },
  {
   "cell_type": "code",
   "execution_count": 29,
   "metadata": {
    "collapsed": true
   },
   "outputs": [],
   "source": [
    "def script():\n",
    "    df = tb_hrefs_clirad()\n",
    "    s_html = df.to_html(escape=False)\n",
    "    display.display(display.HTML(s_html))"
   ]
  },
  {
   "cell_type": "code",
   "execution_count": 27,
   "metadata": {
    "scrolled": true
   },
   "outputs": [
    {
     "data": {
      "text/html": [
       "<table border=\"1\" class=\"dataframe\">\n",
       "  <thead>\n",
       "    <tr>\n",
       "      <th>lblnew</th>\n",
       "      <th>3a</th>\n",
       "      <th>3b</th>\n",
       "      <th>3c</th>\n",
       "      <th>4</th>\n",
       "      <th>5</th>\n",
       "      <th>9</th>\n",
       "    </tr>\n",
       "    <tr>\n",
       "      <th>clirad</th>\n",
       "      <th>3</th>\n",
       "      <th>4</th>\n",
       "      <th>5</th>\n",
       "      <th>6</th>\n",
       "      <th>7</th>\n",
       "      <th>11</th>\n",
       "    </tr>\n",
       "  </thead>\n",
       "  <tbody>\n",
       "    <tr>\n",
       "      <th>co2</th>\n",
       "      <td><a href=\"http://nbviewer.jupyter.org/github/qap/analysis_-_new_kdist_param/blob/master/clirad/co2_0.0008/band_3/atmpro_mls/cliradlw_1013f91/results_cliradlw.ipynb\">mls</a> <a href=\"http://nbviewer.jupyter.org/github/qap/analysis_-_new_kdist_param/blob/master/clirad/co2_0.0008/band_3/atmpro_saw/cliradlw_1013f91/results_cliradlw.ipynb\">saw</a> <a href=\"http://nbviewer.jupyter.org/github/qap/analysis_-_new_kdist_param/blob/master/clirad/co2_0.0008/band_3/atmpro_trp/cliradlw_1013f91/results_cliradlw.ipynb\">trp</a></td>\n",
       "      <td><a href=\"http://nbviewer.jupyter.org/github/qap/analysis_-_new_kdist_param/blob/master/clirad/co2_0.0008/band_4/atmpro_mls/cliradlw_1013f91/results_cliradlw.ipynb\">mls</a> <a href=\"http://nbviewer.jupyter.org/github/qap/analysis_-_new_kdist_param/blob/master/clirad/co2_0.0008/band_4/atmpro_saw/cliradlw_1013f91/results_cliradlw.ipynb\">saw</a> <a href=\"http://nbviewer.jupyter.org/github/qap/analysis_-_new_kdist_param/blob/master/clirad/co2_0.0008/band_4/atmpro_trp/cliradlw_1013f91/results_cliradlw.ipynb\">trp</a></td>\n",
       "      <td><a href=\"http://nbviewer.jupyter.org/github/qap/analysis_-_new_kdist_param/blob/master/clirad/co2_0.0008/band_5/atmpro_mls/cliradlw_1013f91/results_cliradlw.ipynb\">mls</a> <a href=\"http://nbviewer.jupyter.org/github/qap/analysis_-_new_kdist_param/blob/master/clirad/co2_0.0008/band_5/atmpro_saw/cliradlw_1013f91/results_cliradlw.ipynb\">saw</a> <a href=\"http://nbviewer.jupyter.org/github/qap/analysis_-_new_kdist_param/blob/master/clirad/co2_0.0008/band_5/atmpro_trp/cliradlw_1013f91/results_cliradlw.ipynb\">trp</a></td>\n",
       "      <td><a href=\"http://nbviewer.jupyter.org/github/qap/analysis_-_new_kdist_param/blob/master/clirad/co2_0.0008/band_6/atmpro_mls/cliradlw_1013f91/results_cliradlw.ipynb\">mls</a> <a href=\"http://nbviewer.jupyter.org/github/qap/analysis_-_new_kdist_param/blob/master/clirad/co2_0.0008/band_6/atmpro_saw/cliradlw_1013f91/results_cliradlw.ipynb\">saw</a> <a href=\"http://nbviewer.jupyter.org/github/qap/analysis_-_new_kdist_param/blob/master/clirad/co2_0.0008/band_6/atmpro_trp/cliradlw_1013f91/results_cliradlw.ipynb\">trp</a></td>\n",
       "      <td><a href=\"http://nbviewer.jupyter.org/github/qap/analysis_-_new_kdist_param/blob/master/clirad/co2_0.0008/band_7/atmpro_mls/cliradlw_1013f91/results_cliradlw.ipynb\">mls</a> <a href=\"http://nbviewer.jupyter.org/github/qap/analysis_-_new_kdist_param/blob/master/clirad/co2_0.0008/band_7/atmpro_saw/cliradlw_1013f91/results_cliradlw.ipynb\">saw</a> <a href=\"http://nbviewer.jupyter.org/github/qap/analysis_-_new_kdist_param/blob/master/clirad/co2_0.0008/band_7/atmpro_trp/cliradlw_1013f91/results_cliradlw.ipynb\">trp</a></td>\n",
       "      <td><a href=\"http://nbviewer.jupyter.org/github/qap/analysis_-_new_kdist_param/blob/master/clirad/co2_0.0008/band_11/atmpro_mls/cliradlw_1013f91/results_cliradlw.ipynb\">mls</a> <a href=\"http://nbviewer.jupyter.org/github/qap/analysis_-_new_kdist_param/blob/master/clirad/co2_0.0008/band_11/atmpro_saw/cliradlw_1013f91/results_cliradlw.ipynb\">saw</a> <a href=\"http://nbviewer.jupyter.org/github/qap/analysis_-_new_kdist_param/blob/master/clirad/co2_0.0008/band_11/atmpro_trp/cliradlw_1013f91/results_cliradlw.ipynb\">trp</a></td>\n",
       "    </tr>\n",
       "    <tr>\n",
       "      <th>h2o+co2+n2o</th>\n",
       "      <td><a href=\"http://nbviewer.jupyter.org/github/qap/analysis_-_new_kdist_param/blob/master/clirad/h2o_mls_co2_0.0008_n2o_3.2e-07/band_3/atmpro_mls/cliradlw_1013f91/results_cliradlw.ipynb\">mls</a> <a href=\"http://nbviewer.jupyter.org/github/qap/analysis_-_new_kdist_param/blob/master/clirad/h2o_saw_co2_0.0008_n2o_3.2e-07/band_3/atmpro_saw/cliradlw_1013f91/results_cliradlw.ipynb\">saw</a> <a href=\"http://nbviewer.jupyter.org/github/qap/analysis_-_new_kdist_param/blob/master/clirad/h2o_trp_co2_0.0008_n2o_3.2e-07/band_3/atmpro_trp/cliradlw_1013f91/results_cliradlw.ipynb\">trp</a></td>\n",
       "      <td></td>\n",
       "      <td></td>\n",
       "      <td></td>\n",
       "      <td></td>\n",
       "      <td></td>\n",
       "    </tr>\n",
       "    <tr>\n",
       "      <th>h2o+co2</th>\n",
       "      <td></td>\n",
       "      <td><a href=\"http://nbviewer.jupyter.org/github/qap/analysis_-_new_kdist_param/blob/master/clirad/h2o_mls_co2_0.0008/band_4/atmpro_mls/cliradlw_1013f91/results_cliradlw.ipynb\">mls</a> <a href=\"http://nbviewer.jupyter.org/github/qap/analysis_-_new_kdist_param/blob/master/clirad/h2o_saw_co2_0.0008/band_4/atmpro_saw/cliradlw_1013f91/results_cliradlw.ipynb\">saw</a> <a href=\"http://nbviewer.jupyter.org/github/qap/analysis_-_new_kdist_param/blob/master/clirad/h2o_trp_co2_0.0008/band_4/atmpro_trp/cliradlw_1013f91/results_cliradlw.ipynb\">trp</a></td>\n",
       "      <td><a href=\"http://nbviewer.jupyter.org/github/qap/analysis_-_new_kdist_param/blob/master/clirad/h2o_mls_co2_0.0008/band_5/atmpro_mls/cliradlw_1013f91/results_cliradlw.ipynb\">mls</a> <a href=\"http://nbviewer.jupyter.org/github/qap/analysis_-_new_kdist_param/blob/master/clirad/h2o_saw_co2_0.0008/band_5/atmpro_saw/cliradlw_1013f91/results_cliradlw.ipynb\">saw</a> <a href=\"http://nbviewer.jupyter.org/github/qap/analysis_-_new_kdist_param/blob/master/clirad/h2o_trp_co2_0.0008/band_5/atmpro_trp/cliradlw_1013f91/results_cliradlw.ipynb\">trp</a></td>\n",
       "      <td><a href=\"http://nbviewer.jupyter.org/github/qap/analysis_-_new_kdist_param/blob/master/clirad/h2o_mls_co2_0.0008/band_6/atmpro_mls/cliradlw_1013f91/results_cliradlw.ipynb\">mls</a> <a href=\"http://nbviewer.jupyter.org/github/qap/analysis_-_new_kdist_param/blob/master/clirad/h2o_saw_co2_0.0008/band_6/atmpro_saw/cliradlw_1013f91/results_cliradlw.ipynb\">saw</a> <a href=\"http://nbviewer.jupyter.org/github/qap/analysis_-_new_kdist_param/blob/master/clirad/h2o_trp_co2_0.0008/band_6/atmpro_trp/cliradlw_1013f91/results_cliradlw.ipynb\">trp</a></td>\n",
       "      <td></td>\n",
       "      <td><a href=\"http://nbviewer.jupyter.org/github/qap/analysis_-_new_kdist_param/blob/master/clirad/h2o_mls_co2_0.0008/band_11/atmpro_mls/cliradlw_1013f91/results_cliradlw.ipynb\">mls</a> <a href=\"http://nbviewer.jupyter.org/github/qap/analysis_-_new_kdist_param/blob/master/clirad/h2o_saw_co2_0.0008/band_11/atmpro_saw/cliradlw_1013f91/results_cliradlw.ipynb\">saw</a> <a href=\"http://nbviewer.jupyter.org/github/qap/analysis_-_new_kdist_param/blob/master/clirad/h2o_trp_co2_0.0008/band_11/atmpro_trp/cliradlw_1013f91/results_cliradlw.ipynb\">trp</a></td>\n",
       "    </tr>\n",
       "    <tr>\n",
       "      <th>h2o+co2+o3</th>\n",
       "      <td></td>\n",
       "      <td></td>\n",
       "      <td></td>\n",
       "      <td></td>\n",
       "      <td><a href=\"http://nbviewer.jupyter.org/github/qap/analysis_-_new_kdist_param/blob/master/clirad/h2o_mls_co2_0.0008_o3_mls/band_7/atmpro_mls/cliradlw_1013f91/results_cliradlw.ipynb\">mls</a> <a href=\"http://nbviewer.jupyter.org/github/qap/analysis_-_new_kdist_param/blob/master/clirad/h2o_saw_co2_0.0008_o3_saw/band_7/atmpro_saw/cliradlw_1013f91/results_cliradlw.ipynb\">saw</a> <a href=\"http://nbviewer.jupyter.org/github/qap/analysis_-_new_kdist_param/blob/master/clirad/h2o_trp_co2_0.0008_o3_trp/band_7/atmpro_trp/cliradlw_1013f91/results_cliradlw.ipynb\">trp</a></td>\n",
       "      <td></td>\n",
       "    </tr>\n",
       "  </tbody>\n",
       "</table>"
      ],
      "text/plain": [
       "<IPython.core.display.HTML object>"
      ]
     },
     "metadata": {},
     "output_type": "display_data"
    }
   ],
   "source": [
    "script()"
   ]
  },
  {
   "cell_type": "code",
   "execution_count": 28,
   "metadata": {},
   "outputs": [
    {
     "data": {
      "text/html": [
       "<script>\n",
       "code_show=true; \n",
       "function code_toggle() {\n",
       " if (code_show){\n",
       " $('div.input').hide();\n",
       " } else {\n",
       " $('div.input').show();\n",
       " }\n",
       " code_show = !code_show\n",
       "} \n",
       "$( document ).ready(code_toggle);\n",
       "</script>\n",
       "<form action=\"javascript:code_toggle()\"><input type=\"submit\" value=\"Click here to toggle on/off the raw code.\"></form>"
      ],
      "text/plain": [
       "<IPython.core.display.HTML object>"
      ]
     },
     "execution_count": 28,
     "metadata": {},
     "output_type": "execute_result"
    }
   ],
   "source": [
    "display.HTML('''<script>\n",
    "code_show=true; \n",
    "function code_toggle() {\n",
    " if (code_show){\n",
    " $('div.input').hide();\n",
    " } else {\n",
    " $('div.input').show();\n",
    " }\n",
    " code_show = !code_show\n",
    "} \n",
    "$( document ).ready(code_toggle);\n",
    "</script>\n",
    "<form action=\"javascript:code_toggle()\"><input type=\"submit\" value=\"Click here to toggle on/off the raw code.\"></form>''')"
   ]
  },
  {
   "cell_type": "code",
   "execution_count": null,
   "metadata": {
    "collapsed": true
   },
   "outputs": [],
   "source": []
  }
 ],
 "metadata": {
  "kernelspec": {
   "display_name": "Python 3",
   "language": "python",
   "name": "python3"
  },
  "language_info": {
   "codemirror_mode": {
    "name": "ipython",
    "version": 3
   },
   "file_extension": ".py",
   "mimetype": "text/x-python",
   "name": "python",
   "nbconvert_exporter": "python",
   "pygments_lexer": "ipython3",
   "version": "3.6.7"
  }
 },
 "nbformat": 4,
 "nbformat_minor": 2
}
