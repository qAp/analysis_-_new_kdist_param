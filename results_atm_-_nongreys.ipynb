{
 "cells": [
  {
   "cell_type": "code",
   "execution_count": 50,
   "metadata": {},
   "outputs": [
    {
     "name": "stderr",
     "output_type": "stream",
     "text": [
      "/chia_cluster/home/jackyu/climatools/climatools/plot/plot.py:21: AccessorRegistrationWarning: registration of accessor <class 'climatools.plot.plot.ClimavizArrayAccessor'> under name 'climaviz' for type <class 'xarray.core.dataarray.DataArray'> is overriding a preexisting attribute with the same name.\n",
      "  class ClimavizArrayAccessor(object):\n"
     ]
    },
    {
     "data": {
      "text/plain": [
       "<module 'climatools.plot.plot' from '/chia_cluster/home/jackyu/climatools/climatools/plot/plot.py'>"
      ]
     },
     "execution_count": 50,
     "metadata": {},
     "output_type": "execute_result"
    }
   ],
   "source": [
    "import os                                                                                                            \n",
    "import importlib                                                                                                     \n",
    "import pprint                                                                                                        \n",
    "                                                                                                                     \n",
    "import numpy as np                                                                                                   \n",
    "import pandas as pd                                                                                                  \n",
    "import xarray as xr                                                                                                  \n",
    "                                                                                                                     \n",
    "from bokeh.io import output_notebook, show                                                                           \n",
    "from bokeh.palettes import all_palettes                                                                              \n",
    "from bokeh.layouts import gridplot                                                                                   \n",
    "from bokeh.plotting import figure                                                                                    \n",
    "                                                                                                                     \n",
    "import climatools.lblnew.dataset as lbldata                                                                          \n",
    "import climatools.cliradlw.dataset as cliraddata                                                                     \n",
    "from climatools.atm.absorbers import nongreys_byband                                                                 \n",
    "from climatools.atm.absorbers import greys_byband                                                                    \n",
    "                                                                                                                     \n",
    "import climatools.html.html as climahtml                                                                             \n",
    "from climatools.lblnew.dataio import *                                                                               \n",
    "import climatools.plot.plot as plot                                                                                  \n",
    "                                                                                                                     \n",
    "                                                                                                                     \n",
    "from IPython import display                                                                                          \n",
    "                                                                                                                     \n",
    "importlib.reload(lbldata)                                                                                            \n",
    "importlib.reload(cliraddata)                                                                                         \n",
    "importlib.reload(plot)"
   ]
  },
  {
   "cell_type": "code",
   "execution_count": 51,
   "metadata": {},
   "outputs": [
    {
     "data": {
      "text/html": [
       "\n",
       "    <div class=\"bk-root\">\n",
       "        <a href=\"https://bokeh.pydata.org\" target=\"_blank\" class=\"bk-logo bk-logo-small bk-logo-notebook\"></a>\n",
       "        <span id=\"0b605004-4c4d-4d14-99ab-77b94e19834e\">Loading BokehJS ...</span>\n",
       "    </div>"
      ]
     },
     "metadata": {},
     "output_type": "display_data"
    },
    {
     "data": {
      "application/javascript": [
       "\n",
       "(function(root) {\n",
       "  function now() {\n",
       "    return new Date();\n",
       "  }\n",
       "\n",
       "  var force = true;\n",
       "\n",
       "  if (typeof (root._bokeh_onload_callbacks) === \"undefined\" || force === true) {\n",
       "    root._bokeh_onload_callbacks = [];\n",
       "    root._bokeh_is_loading = undefined;\n",
       "  }\n",
       "\n",
       "  var JS_MIME_TYPE = 'application/javascript';\n",
       "  var HTML_MIME_TYPE = 'text/html';\n",
       "  var EXEC_MIME_TYPE = 'application/vnd.bokehjs_exec.v0+json';\n",
       "  var CLASS_NAME = 'output_bokeh rendered_html';\n",
       "\n",
       "  /**\n",
       "   * Render data to the DOM node\n",
       "   */\n",
       "  function render(props, node) {\n",
       "    var script = document.createElement(\"script\");\n",
       "    node.appendChild(script);\n",
       "  }\n",
       "\n",
       "  /**\n",
       "   * Handle when an output is cleared or removed\n",
       "   */\n",
       "  function handleClearOutput(event, handle) {\n",
       "    var cell = handle.cell;\n",
       "\n",
       "    var id = cell.output_area._bokeh_element_id;\n",
       "    var server_id = cell.output_area._bokeh_server_id;\n",
       "    // Clean up Bokeh references\n",
       "    if (id !== undefined) {\n",
       "      Bokeh.index[id].model.document.clear();\n",
       "      delete Bokeh.index[id];\n",
       "    }\n",
       "\n",
       "    if (server_id !== undefined) {\n",
       "      // Clean up Bokeh references\n",
       "      var cmd = \"from bokeh.io.state import curstate; print(curstate().uuid_to_server['\" + server_id + \"'].get_sessions()[0].document.roots[0]._id)\";\n",
       "      cell.notebook.kernel.execute(cmd, {\n",
       "        iopub: {\n",
       "          output: function(msg) {\n",
       "            var element_id = msg.content.text.trim();\n",
       "            Bokeh.index[element_id].model.document.clear();\n",
       "            delete Bokeh.index[element_id];\n",
       "          }\n",
       "        }\n",
       "      });\n",
       "      // Destroy server and session\n",
       "      var cmd = \"import bokeh.io.notebook as ion; ion.destroy_server('\" + server_id + \"')\";\n",
       "      cell.notebook.kernel.execute(cmd);\n",
       "    }\n",
       "  }\n",
       "\n",
       "  /**\n",
       "   * Handle when a new output is added\n",
       "   */\n",
       "  function handleAddOutput(event, handle) {\n",
       "    var output_area = handle.output_area;\n",
       "    var output = handle.output;\n",
       "\n",
       "    // limit handleAddOutput to display_data with EXEC_MIME_TYPE content only\n",
       "    if ((output.output_type != \"display_data\") || (!output.data.hasOwnProperty(EXEC_MIME_TYPE))) {\n",
       "      return\n",
       "    }\n",
       "\n",
       "    var toinsert = output_area.element.find(\".\" + CLASS_NAME.split(' ')[0]);\n",
       "\n",
       "    if (output.metadata[EXEC_MIME_TYPE][\"id\"] !== undefined) {\n",
       "      toinsert[toinsert.length - 1].firstChild.textContent = output.data[JS_MIME_TYPE];\n",
       "      // store reference to embed id on output_area\n",
       "      output_area._bokeh_element_id = output.metadata[EXEC_MIME_TYPE][\"id\"];\n",
       "    }\n",
       "    if (output.metadata[EXEC_MIME_TYPE][\"server_id\"] !== undefined) {\n",
       "      var bk_div = document.createElement(\"div\");\n",
       "      bk_div.innerHTML = output.data[HTML_MIME_TYPE];\n",
       "      var script_attrs = bk_div.children[0].attributes;\n",
       "      for (var i = 0; i < script_attrs.length; i++) {\n",
       "        toinsert[toinsert.length - 1].firstChild.setAttribute(script_attrs[i].name, script_attrs[i].value);\n",
       "      }\n",
       "      // store reference to server id on output_area\n",
       "      output_area._bokeh_server_id = output.metadata[EXEC_MIME_TYPE][\"server_id\"];\n",
       "    }\n",
       "  }\n",
       "\n",
       "  function register_renderer(events, OutputArea) {\n",
       "\n",
       "    function append_mime(data, metadata, element) {\n",
       "      // create a DOM node to render to\n",
       "      var toinsert = this.create_output_subarea(\n",
       "        metadata,\n",
       "        CLASS_NAME,\n",
       "        EXEC_MIME_TYPE\n",
       "      );\n",
       "      this.keyboard_manager.register_events(toinsert);\n",
       "      // Render to node\n",
       "      var props = {data: data, metadata: metadata[EXEC_MIME_TYPE]};\n",
       "      render(props, toinsert[toinsert.length - 1]);\n",
       "      element.append(toinsert);\n",
       "      return toinsert\n",
       "    }\n",
       "\n",
       "    /* Handle when an output is cleared or removed */\n",
       "    events.on('clear_output.CodeCell', handleClearOutput);\n",
       "    events.on('delete.Cell', handleClearOutput);\n",
       "\n",
       "    /* Handle when a new output is added */\n",
       "    events.on('output_added.OutputArea', handleAddOutput);\n",
       "\n",
       "    /**\n",
       "     * Register the mime type and append_mime function with output_area\n",
       "     */\n",
       "    OutputArea.prototype.register_mime_type(EXEC_MIME_TYPE, append_mime, {\n",
       "      /* Is output safe? */\n",
       "      safe: true,\n",
       "      /* Index of renderer in `output_area.display_order` */\n",
       "      index: 0\n",
       "    });\n",
       "  }\n",
       "\n",
       "  // register the mime type if in Jupyter Notebook environment and previously unregistered\n",
       "  if (root.Jupyter !== undefined) {\n",
       "    var events = require('base/js/events');\n",
       "    var OutputArea = require('notebook/js/outputarea').OutputArea;\n",
       "\n",
       "    if (OutputArea.prototype.mime_types().indexOf(EXEC_MIME_TYPE) == -1) {\n",
       "      register_renderer(events, OutputArea);\n",
       "    }\n",
       "  }\n",
       "\n",
       "  \n",
       "  if (typeof (root._bokeh_timeout) === \"undefined\" || force === true) {\n",
       "    root._bokeh_timeout = Date.now() + 5000;\n",
       "    root._bokeh_failed_load = false;\n",
       "  }\n",
       "\n",
       "  var NB_LOAD_WARNING = {'data': {'text/html':\n",
       "     \"<div style='background-color: #fdd'>\\n\"+\n",
       "     \"<p>\\n\"+\n",
       "     \"BokehJS does not appear to have successfully loaded. If loading BokehJS from CDN, this \\n\"+\n",
       "     \"may be due to a slow or bad network connection. Possible fixes:\\n\"+\n",
       "     \"</p>\\n\"+\n",
       "     \"<ul>\\n\"+\n",
       "     \"<li>re-rerun `output_notebook()` to attempt to load from CDN again, or</li>\\n\"+\n",
       "     \"<li>use INLINE resources instead, as so:</li>\\n\"+\n",
       "     \"</ul>\\n\"+\n",
       "     \"<code>\\n\"+\n",
       "     \"from bokeh.resources import INLINE\\n\"+\n",
       "     \"output_notebook(resources=INLINE)\\n\"+\n",
       "     \"</code>\\n\"+\n",
       "     \"</div>\"}};\n",
       "\n",
       "  function display_loaded() {\n",
       "    var el = document.getElementById(\"0b605004-4c4d-4d14-99ab-77b94e19834e\");\n",
       "    if (el != null) {\n",
       "      el.textContent = \"BokehJS is loading...\";\n",
       "    }\n",
       "    if (root.Bokeh !== undefined) {\n",
       "      if (el != null) {\n",
       "        el.textContent = \"BokehJS \" + root.Bokeh.version + \" successfully loaded.\";\n",
       "      }\n",
       "    } else if (Date.now() < root._bokeh_timeout) {\n",
       "      setTimeout(display_loaded, 100)\n",
       "    }\n",
       "  }\n",
       "\n",
       "\n",
       "  function run_callbacks() {\n",
       "    try {\n",
       "      root._bokeh_onload_callbacks.forEach(function(callback) { callback() });\n",
       "    }\n",
       "    finally {\n",
       "      delete root._bokeh_onload_callbacks\n",
       "    }\n",
       "    console.info(\"Bokeh: all callbacks have finished\");\n",
       "  }\n",
       "\n",
       "  function load_libs(js_urls, callback) {\n",
       "    root._bokeh_onload_callbacks.push(callback);\n",
       "    if (root._bokeh_is_loading > 0) {\n",
       "      console.log(\"Bokeh: BokehJS is being loaded, scheduling callback at\", now());\n",
       "      return null;\n",
       "    }\n",
       "    if (js_urls == null || js_urls.length === 0) {\n",
       "      run_callbacks();\n",
       "      return null;\n",
       "    }\n",
       "    console.log(\"Bokeh: BokehJS not loaded, scheduling load and callback at\", now());\n",
       "    root._bokeh_is_loading = js_urls.length;\n",
       "    for (var i = 0; i < js_urls.length; i++) {\n",
       "      var url = js_urls[i];\n",
       "      var s = document.createElement('script');\n",
       "      s.src = url;\n",
       "      s.async = false;\n",
       "      s.onreadystatechange = s.onload = function() {\n",
       "        root._bokeh_is_loading--;\n",
       "        if (root._bokeh_is_loading === 0) {\n",
       "          console.log(\"Bokeh: all BokehJS libraries loaded\");\n",
       "          run_callbacks()\n",
       "        }\n",
       "      };\n",
       "      s.onerror = function() {\n",
       "        console.warn(\"failed to load library \" + url);\n",
       "      };\n",
       "      console.log(\"Bokeh: injecting script tag for BokehJS library: \", url);\n",
       "      document.getElementsByTagName(\"head\")[0].appendChild(s);\n",
       "    }\n",
       "  };var element = document.getElementById(\"0b605004-4c4d-4d14-99ab-77b94e19834e\");\n",
       "  if (element == null) {\n",
       "    console.log(\"Bokeh: ERROR: autoload.js configured with elementid '0b605004-4c4d-4d14-99ab-77b94e19834e' but no matching script tag was found. \")\n",
       "    return false;\n",
       "  }\n",
       "\n",
       "  var js_urls = [\"https://cdn.pydata.org/bokeh/release/bokeh-0.12.16.min.js\", \"https://cdn.pydata.org/bokeh/release/bokeh-widgets-0.12.16.min.js\", \"https://cdn.pydata.org/bokeh/release/bokeh-tables-0.12.16.min.js\", \"https://cdn.pydata.org/bokeh/release/bokeh-gl-0.12.16.min.js\"];\n",
       "\n",
       "  var inline_js = [\n",
       "    function(Bokeh) {\n",
       "      Bokeh.set_log_level(\"info\");\n",
       "    },\n",
       "    \n",
       "    function(Bokeh) {\n",
       "      \n",
       "    },\n",
       "    function(Bokeh) {\n",
       "      console.log(\"Bokeh: injecting CSS: https://cdn.pydata.org/bokeh/release/bokeh-0.12.16.min.css\");\n",
       "      Bokeh.embed.inject_css(\"https://cdn.pydata.org/bokeh/release/bokeh-0.12.16.min.css\");\n",
       "      console.log(\"Bokeh: injecting CSS: https://cdn.pydata.org/bokeh/release/bokeh-widgets-0.12.16.min.css\");\n",
       "      Bokeh.embed.inject_css(\"https://cdn.pydata.org/bokeh/release/bokeh-widgets-0.12.16.min.css\");\n",
       "      console.log(\"Bokeh: injecting CSS: https://cdn.pydata.org/bokeh/release/bokeh-tables-0.12.16.min.css\");\n",
       "      Bokeh.embed.inject_css(\"https://cdn.pydata.org/bokeh/release/bokeh-tables-0.12.16.min.css\");\n",
       "    }\n",
       "  ];\n",
       "\n",
       "  function run_inline_js() {\n",
       "    \n",
       "    if ((root.Bokeh !== undefined) || (force === true)) {\n",
       "      for (var i = 0; i < inline_js.length; i++) {\n",
       "        inline_js[i].call(root, root.Bokeh);\n",
       "      }if (force === true) {\n",
       "        display_loaded();\n",
       "      }} else if (Date.now() < root._bokeh_timeout) {\n",
       "      setTimeout(run_inline_js, 100);\n",
       "    } else if (!root._bokeh_failed_load) {\n",
       "      console.log(\"Bokeh: BokehJS failed to load within specified timeout.\");\n",
       "      root._bokeh_failed_load = true;\n",
       "    } else if (force !== true) {\n",
       "      var cell = $(document.getElementById(\"0b605004-4c4d-4d14-99ab-77b94e19834e\")).parents('.cell').data().cell;\n",
       "      cell.output_area.append_execute_result(NB_LOAD_WARNING)\n",
       "    }\n",
       "\n",
       "  }\n",
       "\n",
       "  if (root._bokeh_is_loading === 0) {\n",
       "    console.log(\"Bokeh: BokehJS loaded, going straight to plotting\");\n",
       "    run_inline_js();\n",
       "  } else {\n",
       "    load_libs(js_urls, function() {\n",
       "      console.log(\"Bokeh: BokehJS plotting callback run at\", now());\n",
       "      run_inline_js();\n",
       "    });\n",
       "  }\n",
       "}(window));"
      ],
      "application/vnd.bokehjs_load.v0+json": "\n(function(root) {\n  function now() {\n    return new Date();\n  }\n\n  var force = true;\n\n  if (typeof (root._bokeh_onload_callbacks) === \"undefined\" || force === true) {\n    root._bokeh_onload_callbacks = [];\n    root._bokeh_is_loading = undefined;\n  }\n\n  \n\n  \n  if (typeof (root._bokeh_timeout) === \"undefined\" || force === true) {\n    root._bokeh_timeout = Date.now() + 5000;\n    root._bokeh_failed_load = false;\n  }\n\n  var NB_LOAD_WARNING = {'data': {'text/html':\n     \"<div style='background-color: #fdd'>\\n\"+\n     \"<p>\\n\"+\n     \"BokehJS does not appear to have successfully loaded. If loading BokehJS from CDN, this \\n\"+\n     \"may be due to a slow or bad network connection. Possible fixes:\\n\"+\n     \"</p>\\n\"+\n     \"<ul>\\n\"+\n     \"<li>re-rerun `output_notebook()` to attempt to load from CDN again, or</li>\\n\"+\n     \"<li>use INLINE resources instead, as so:</li>\\n\"+\n     \"</ul>\\n\"+\n     \"<code>\\n\"+\n     \"from bokeh.resources import INLINE\\n\"+\n     \"output_notebook(resources=INLINE)\\n\"+\n     \"</code>\\n\"+\n     \"</div>\"}};\n\n  function display_loaded() {\n    var el = document.getElementById(\"0b605004-4c4d-4d14-99ab-77b94e19834e\");\n    if (el != null) {\n      el.textContent = \"BokehJS is loading...\";\n    }\n    if (root.Bokeh !== undefined) {\n      if (el != null) {\n        el.textContent = \"BokehJS \" + root.Bokeh.version + \" successfully loaded.\";\n      }\n    } else if (Date.now() < root._bokeh_timeout) {\n      setTimeout(display_loaded, 100)\n    }\n  }\n\n\n  function run_callbacks() {\n    try {\n      root._bokeh_onload_callbacks.forEach(function(callback) { callback() });\n    }\n    finally {\n      delete root._bokeh_onload_callbacks\n    }\n    console.info(\"Bokeh: all callbacks have finished\");\n  }\n\n  function load_libs(js_urls, callback) {\n    root._bokeh_onload_callbacks.push(callback);\n    if (root._bokeh_is_loading > 0) {\n      console.log(\"Bokeh: BokehJS is being loaded, scheduling callback at\", now());\n      return null;\n    }\n    if (js_urls == null || js_urls.length === 0) {\n      run_callbacks();\n      return null;\n    }\n    console.log(\"Bokeh: BokehJS not loaded, scheduling load and callback at\", now());\n    root._bokeh_is_loading = js_urls.length;\n    for (var i = 0; i < js_urls.length; i++) {\n      var url = js_urls[i];\n      var s = document.createElement('script');\n      s.src = url;\n      s.async = false;\n      s.onreadystatechange = s.onload = function() {\n        root._bokeh_is_loading--;\n        if (root._bokeh_is_loading === 0) {\n          console.log(\"Bokeh: all BokehJS libraries loaded\");\n          run_callbacks()\n        }\n      };\n      s.onerror = function() {\n        console.warn(\"failed to load library \" + url);\n      };\n      console.log(\"Bokeh: injecting script tag for BokehJS library: \", url);\n      document.getElementsByTagName(\"head\")[0].appendChild(s);\n    }\n  };var element = document.getElementById(\"0b605004-4c4d-4d14-99ab-77b94e19834e\");\n  if (element == null) {\n    console.log(\"Bokeh: ERROR: autoload.js configured with elementid '0b605004-4c4d-4d14-99ab-77b94e19834e' but no matching script tag was found. \")\n    return false;\n  }\n\n  var js_urls = [\"https://cdn.pydata.org/bokeh/release/bokeh-0.12.16.min.js\", \"https://cdn.pydata.org/bokeh/release/bokeh-widgets-0.12.16.min.js\", \"https://cdn.pydata.org/bokeh/release/bokeh-tables-0.12.16.min.js\", \"https://cdn.pydata.org/bokeh/release/bokeh-gl-0.12.16.min.js\"];\n\n  var inline_js = [\n    function(Bokeh) {\n      Bokeh.set_log_level(\"info\");\n    },\n    \n    function(Bokeh) {\n      \n    },\n    function(Bokeh) {\n      console.log(\"Bokeh: injecting CSS: https://cdn.pydata.org/bokeh/release/bokeh-0.12.16.min.css\");\n      Bokeh.embed.inject_css(\"https://cdn.pydata.org/bokeh/release/bokeh-0.12.16.min.css\");\n      console.log(\"Bokeh: injecting CSS: https://cdn.pydata.org/bokeh/release/bokeh-widgets-0.12.16.min.css\");\n      Bokeh.embed.inject_css(\"https://cdn.pydata.org/bokeh/release/bokeh-widgets-0.12.16.min.css\");\n      console.log(\"Bokeh: injecting CSS: https://cdn.pydata.org/bokeh/release/bokeh-tables-0.12.16.min.css\");\n      Bokeh.embed.inject_css(\"https://cdn.pydata.org/bokeh/release/bokeh-tables-0.12.16.min.css\");\n    }\n  ];\n\n  function run_inline_js() {\n    \n    if ((root.Bokeh !== undefined) || (force === true)) {\n      for (var i = 0; i < inline_js.length; i++) {\n        inline_js[i].call(root, root.Bokeh);\n      }if (force === true) {\n        display_loaded();\n      }} else if (Date.now() < root._bokeh_timeout) {\n      setTimeout(run_inline_js, 100);\n    } else if (!root._bokeh_failed_load) {\n      console.log(\"Bokeh: BokehJS failed to load within specified timeout.\");\n      root._bokeh_failed_load = true;\n    } else if (force !== true) {\n      var cell = $(document.getElementById(\"0b605004-4c4d-4d14-99ab-77b94e19834e\")).parents('.cell').data().cell;\n      cell.output_area.append_execute_result(NB_LOAD_WARNING)\n    }\n\n  }\n\n  if (root._bokeh_is_loading === 0) {\n    console.log(\"Bokeh: BokehJS loaded, going straight to plotting\");\n    run_inline_js();\n  } else {\n    load_libs(js_urls, function() {\n      console.log(\"Bokeh: BokehJS plotting callback run at\", now());\n      run_inline_js();\n    });\n  }\n}(window));"
     },
     "metadata": {},
     "output_type": "display_data"
    }
   ],
   "source": [
    "output_notebook()"
   ]
  },
  {
   "cell_type": "code",
   "execution_count": 52,
   "metadata": {
    "collapsed": true
   },
   "outputs": [],
   "source": [
    "def clirad_params_atm_singlerun(atmpro='mls'):                                                                       \n",
    "    '''                                                                                                              \n",
    "    Define the input parameter dictionary (or `param`) of                                                            \n",
    "    a clirad-lw run and return it.                                                                                   \n",
    "                                                                                                                     \n",
    "    Parameters                                                                                                       \n",
    "    ----------                                                                                                       \n",
    "    atmpro: string                                                                                                   \n",
    "        Atmosphere profile.                                                                                          \n",
    "    '''                                                                                                              \n",
    "    param0 = {'band': [1, 2, 3, 4, 5, 6, 7, 8, 9, 10, 11],                                                           \n",
    "              'commitnumber': '8f82f9b',                                                                             \n",
    "              'molecule': {'ch4': 1.8e-06,                                                                           \n",
    "                           'co2': 0.0004,                                                                            \n",
    "                           'h2o': 'atmpro',                                                                          \n",
    "                           'n2o': 3.2e-07,                                                                           \n",
    "                           'o3': 'atmpro'}}                                                                          \n",
    "                                                                                                                     \n",
    "    d_atmpros = {'mls': 294, 'saw': 257, 'trp': 300}                                                                 \n",
    "                                                                                                                     \n",
    "    param = param0.copy()                                                                                            \n",
    "    param['atmpro'] = atmpro                                                                                         \n",
    "    param['tsfc'] = d_atmpros[atmpro]                                                                                \n",
    "                                                                                                                     \n",
    "    d = {}                                                                                                           \n",
    "    d['all'] = param                                                                                                 \n",
    "    return d"
   ]
  },
  {
   "cell_type": "code",
   "execution_count": 53,
   "metadata": {
    "collapsed": true
   },
   "outputs": [],
   "source": [
    "def fmt_cool(ds_in):                                                                                                 \n",
    "    '''                                                                                                              \n",
    "    Deal with dimensions that are not the 'pressure/layer'                                                           \n",
    "    dimension, to prepare the dataset for                                                                            \n",
    "    pressure vs cooling rate plots.                                                                                  \n",
    "                                                                                                                     \n",
    "    Parameters                                                                                                       \n",
    "    ----------                                                                                                       \n",
    "    ds_in: xarray.Dataset                                                                                            \n",
    "        Cooling rate.                                                                                                \n",
    "    '''                                                                                                              \n",
    "    ds = ds_in.copy(deep=True)                                                                                       \n",
    "    if 'igg' in ds.dims:                                                                                             \n",
    "        ds = ds.sel(igg=1)                                                                                           \n",
    "                                                                                                                     \n",
    "    if 'g' in ds.dims:                                                                                               \n",
    "        ds = ds.sum('g')                                                                                             \n",
    "                                                                                                                     \n",
    "    if 'i' in ds.dims:                                                                                               \n",
    "        ds = ds.sel(i=ds.dims['i'])                                                                                  \n",
    "                                                                                                                     \n",
    "    if 'band' in ds.dims:                                                                                            \n",
    "        try:                                                                                                         \n",
    "            ds = ds.squeeze('band')                                                                                  \n",
    "        except ValueError:                                                                                           \n",
    "            ds = ds.sum('band')                                                                                      \n",
    "    return ds['coolrg']"
   ]
  },
  {
   "cell_type": "code",
   "execution_count": 54,
   "metadata": {
    "collapsed": true
   },
   "outputs": [],
   "source": [
    "def pltdata_cool(atmpro='mls'):                                                                                      \n",
    "    '''                                                                                                              \n",
    "    Prepare the plotting data for plotting cooling                                                                   \n",
    "    rate profiles that is compatible with                                                                            \n",
    "    plot_cool_bokeh(), and set the plot attibutes                                                                    \n",
    "    for each curve.                                                                                                  \n",
    "                                                                                                                     \n",
    "    Parameters                                                                                                       \n",
    "    ----------                                                                                                       \n",
    "    atmpro: string                                                                                                   \n",
    "        Atmosphere profile.                                                                                          \n",
    "    data: dict                                                                                                       \n",
    "        Plotting data. A list of dictionaries,                                                                       \n",
    "        each one containing the data and plot                                                                        \n",
    "        attributes for a curve.                                                                                      \n",
    "    '''                                                                                                              \n",
    "    params_atm = clirad_params_atm_singlerun(atmpro=atmpro)                                                          \n",
    "    d_clirad_singlerun = cliraddata.clirad_data_atm(params_atm)                                                      \n",
    "                                                                                                                     \n",
    "    params_atm = cliraddata.clirad_params_atm(atmpro=atmpro)                                                         \n",
    "    d_clirad = cliraddata.clirad_data_atm(params_atm)                                                                \n",
    "                                                                                                                     \n",
    "    params_atm = lbldata.lblnew_params_atm(atmpro=atmpro)                                                            \n",
    "    d_crd = lbldata.crd_data_atm(params_atm)                                                                         \n",
    "                                                                                                                     \n",
    "    ds_clirad_singlerun = d_clirad_singlerun['cool']                                                                 \n",
    "    ds_clirad = d_clirad['cool']                                                                                     \n",
    "    ds_crd = d_crd['cool']                                                                                           \n",
    "                                                                                                                     \n",
    "    colors = all_palettes['Set1'][4]\n",
    "    \n",
    "    data = [                                                                                                         \n",
    "        {'label': 'CLIRAD (single-run)',                                                                             \n",
    "        'srs': fmt_cool(ds_clirad_singlerun),                                                                        \n",
    "        'line_dash': 'dashed', 'line_width': 5,                                                                      \n",
    "        'color': colors[1], 'alpha': .6},                                                                            \n",
    "        {'label': 'CRD',                                                                                             \n",
    "         'srs': fmt_cool(ds_crd),                                                                                    \n",
    "         'line_dash': 'solid', 'line_width': 1.5,                                                                    \n",
    "         'marker': 'circle', 'marker_size': 5,                                                                       \n",
    "         'color': colors[2], 'alpha': 1}                                                                             \n",
    "    ]                                                                                                                \n",
    "#        {'label': 'CLIRAD',                                                                                         \n",
    "#         'srs': fmt_cool(ds_clirad),                                                                                \n",
    "#         'line_dash': 'dashed', 'line_width': 5,                                                                    \n",
    "#         'color': colors[0], 'alpha': .6}                                                                           \n",
    "                                                                                                                     \n",
    "    return data    "
   ]
  },
  {
   "cell_type": "code",
   "execution_count": 55,
   "metadata": {
    "collapsed": true
   },
   "outputs": [],
   "source": [
    "def pltdata_cooldiff(atmpro='mls'):                                                                                  \n",
    "    '''                                                                                                              \n",
    "    Prepare the plotting data for plotting cooling                                                                   \n",
    "    rate difference profiles that is compatible with                                                                 \n",
    "    plot_cool_bokeh(), and set the plot attibutes                                                                    \n",
    "    for each curve.                                                                                                  \n",
    "                                                                                                                     \n",
    "    Parameters                                                                                                       \n",
    "    ----------                                                                                                       \n",
    "    atmpro: string                                                                                                   \n",
    "        Atmosphere profile.                                                                                          \n",
    "    data: dict                                                                                                       \n",
    "        Plotting data. A list of dictionaries,                                                                       \n",
    "        each one containing the data and plot                                                                        \n",
    "        attributes for a curve.                                                                                      \n",
    "    '''                                                                                                              \n",
    "    d_clirad_singlerun = cliraddata.clirad_data_atm(                                                                 \n",
    "        clirad_params_atm_singlerun(atmpro=atmpro))                                                                  \n",
    "    d_clirad = cliraddata.clirad_data_atm(cliraddata.clirad_params_atm(atmpro=atmpro))                               \n",
    "    d_crd = lbldata.crd_data_atm(lbldata.lblnew_params_atm(atmpro=atmpro))                                           \n",
    "                                                                                                                     \n",
    "    ds_clirad_singlerun = d_clirad_singlerun['cool']                                                                 \n",
    "    ds_clirad = d_clirad['cool']                                                                                     \n",
    "    ds_crd = d_crd['cool']                                                                                           \n",
    "                                                                                                                     \n",
    "    ds_diff = ds_clirad_singlerun - ds_crd                                                                           \n",
    "                                                                                                                     \n",
    "    colors = all_palettes['Set1'][4]                                                                                 \n",
    "                                                                                                                     \n",
    "    data = [                                                                                                         \n",
    "        {'label': 'CLIRAD (single-run) - CRD',                                                                       \n",
    "         'srs': fmt_cool(ds_diff),                                                                                   \n",
    "         'line_dash': 'solid', 'line_width': 1.5,                                                                    \n",
    "         'marker': 'circle', 'marker_size': 7,                                                                       \n",
    "         'color': colors[3], 'alpha': .8}                                                                            \n",
    "    ]                                                                                                                \n",
    "    return data"
   ]
  },
  {
   "cell_type": "code",
   "execution_count": 56,
   "metadata": {
    "collapsed": true
   },
   "outputs": [],
   "source": [
    "def show_cool(atmpro='mls'):                                                                                         \n",
    "    '''                                                                                                              \n",
    "    Produce figure with the following panes:                                                                         \n",
    "      1. Cooling rate profiles with linear pressure-axis.                                                            \n",
    "      2. Cooling rate profile with log pressure-axis.                                                                \n",
    "      3. Coolling rate profile difference with log                                                                   \n",
    "         pressure-axis.                                                                                              \n",
    "    and display the figure.                                                                                          \n",
    "                                                                                                                     \n",
    "    Parameters                                                                                                       \n",
    "    ----------                                                                                                       \n",
    "    atmpro: string                                                                                                   \n",
    "        Atmosphere profile.                                                                                          \n",
    "    '''                                                                                                              \n",
    "    data_cool = pltdata_cool(atmpro=atmpro)                                                                          \n",
    "    p_cool_liny = plot.plt_vert_profile_bokeh(pltdata=data_cool)                                                     \n",
    "    p_cool_logy = plot.plt_vert_profile_bokeh(pltdata=data_cool,                                                     \n",
    "                                 y_axis_type='log',                                                                  \n",
    "                                 prange=(.01, 200))                                                                  \n",
    "                                                                                                                     \n",
    "    data_cooldiff = pltdata_cooldiff(atmpro=atmpro)                                                                  \n",
    "    p_cooldiff_logy = plot.plt_vert_profile_bokeh(pltdata=data_cooldiff,                                             \n",
    "                                     y_axis_type='log',                                                              \n",
    "                                     prange=(.01, 200))                                                              \n",
    "                                                                                                                     \n",
    "    everything = gridplot(p_cool_liny, p_cool_logy,                                                                  \n",
    "                          p_cooldiff_logy,                                                                           \n",
    "                          ncols=3)                                                                                   \n",
    "    show(everything)                                                                                                 \n",
    "    display.display(                                                                                                 \n",
    "        display.Markdown('*FIGURE.* Cooling rates & difference.'))"
   ]
  },
  {
   "cell_type": "code",
   "execution_count": 57,
   "metadata": {
    "collapsed": true
   },
   "outputs": [],
   "source": [
    "def show_hist_flux(atmpro='mls'):                                                                                    \n",
    "    '''                                                                                                              \n",
    "    Display figure with the following band-vs-flux                                                                   \n",
    "    histograms:                                                                                                      \n",
    "        1. Upward flux at TOA. CLIRAD - CRD.                                                                         \n",
    "        2. Downward flux at surface. CLIRAD- CRD.                                                                    \n",
    "        3. Atmosphere heating.  CLIRAD - CRD.                                                                        \n",
    "                                                                                                                     \n",
    "    Parameters                                                                                                       \n",
    "    ----------                                                                                                       \n",
    "    atmpro: string                                                                                                   \n",
    "        Atmosphere profile.                                                                                          \n",
    "    '''                                                                                                              \n",
    "    def fmt(da_in):                                                                                                  \n",
    "        da = da_in.copy(deep=True)                                                                                   \n",
    "                                                                                                                     \n",
    "        if 'i' in da.dims:                                                                                           \n",
    "            da = da.sel(i=len(da['i']))                                                                              \n",
    "                                                                                                                     \n",
    "        if 'igg' in da.dims:                                                                                         \n",
    "            da = da.sel(igg=1)                                                                                       \n",
    "                                                                                                                     \n",
    "        if 'g' in da.dims:                                                                                           \n",
    "            da = da.sum('g')                                                                                         \n",
    "        return da\n",
    "    \n",
    "    ds_crd = lbldata.crd_data_atm(lbldata.lblnew_params_atm(atmpro=atmpro))['flux']                                  \n",
    "    ds_clirad = cliraddata.clirad_data_atm(                                                                          \n",
    "        cliraddata.clirad_params_atm(atmpro=atmpro))['flux']                                                         \n",
    "    ds_clirad_singlerun = cliraddata.clirad_data_atm(                                                                \n",
    "        clirad_params_atm_singlerun(atmpro=atmpro))['flux']                                                          \n",
    "                                                                                                                     \n",
    "    ip, varname = 0, 'flug'                                                                                          \n",
    "    da = (ds_clirad_singlerun - ds_crd).isel(pressure=ip)[varname]                                                   \n",
    "    da = fmt(da)                                                                                                     \n",
    "    p_toa = plot.hist_band_vs_flux(da,                                                                               \n",
    "        title='TOA flux. CLIRAD (single-run) - CRD.')                                                                \n",
    "                                                                                                                     \n",
    "    ip, varname = -1, 'fldg'                                                                                         \n",
    "    da = (ds_clirad_singlerun - ds_crd).isel(pressure=ip)[varname]                                                   \n",
    "    da = fmt(da)                                                                                                     \n",
    "    p_sfc = plot.hist_band_vs_flux(da,                                                                               \n",
    "        title='SFC flux. CLIRAD (single-run) - CRD.')                                                                \n",
    "                                                                                                                     \n",
    "    atm_crd = (ds_crd.isel(pressure=0)                                                                               \n",
    "               - ds_crd.isel(pressure=-1))['fnetg']                                                                  \n",
    "    atm_clirad_singlerun = (ds_clirad_singlerun.isel(pressure=0)                                                     \n",
    "                  - ds_clirad_singlerun.isel(pressure=-1))['fnetg']                                                  \n",
    "    da = atm_clirad_singlerun - atm_crd                                                                              \n",
    "    da = fmt(da)                                                                                                     \n",
    "    p_atm = plot.hist_band_vs_flux(da,                                                                               \n",
    "        title='Atmosphere heating. CLIRAD (single-run) - CRD.')                                                      \n",
    "                                                                                                                     \n",
    "    everything = gridplot(p_toa, p_sfc, p_atm, ncols=3,                                                              \n",
    "                          plot_width=300, plot_height=300)                                                           \n",
    "                                                                                                                     \n",
    "    show(everything)                                                                                                 \n",
    "    display.display(                                                                                                 \n",
    "        display.Markdown('*FIGURE.* Difference between CLIRAD and CRD'                                               \n",
    "          ' in TOA, SFC and net atmosphere flux,'                                                                    \n",
    "          ' in each spectral band.'))"
   ]
  },
  {
   "cell_type": "code",
   "execution_count": 58,
   "metadata": {
    "collapsed": true
   },
   "outputs": [],
   "source": [
    "def show_tb_flux(atmpro='mls'):                                                                                      \n",
    "    '''                                                                                                              \n",
    "    Display the table:                                                                                               \n",
    "    --------------------------------------------------------------------                                             \n",
    "                      | up flux at TOA | down flux at SFC | atm heating                                              \n",
    "    --------------------------------------------------------------------                                             \n",
    "    clirad (sum) - CRD|                |                  |                                                          \n",
    "    clirad - CRD      |                |                  |                                                          \n",
    "    CRD               |                |                  |                                                          \n",
    "    --------------------------------------------------------------------                                             \n",
    "                                                                                                                     \n",
    "    Parameters                                                                                                       \n",
    "    ----------                                                                                                       \n",
    "    atmpro: string                                                                                                   \n",
    "        Atmosphere profile.                                                                                          \n",
    "    ''' \n",
    "    def fmt(da_in):                                                                                                  \n",
    "        da = da_in.copy(deep=True)                                                                                   \n",
    "                                                                                                                     \n",
    "        if 'i' in da.dims:                                                                                           \n",
    "            da = da.sel(i=len(da['i']))                                                                              \n",
    "                                                                                                                     \n",
    "        if 'igg' in da.dims:                                                                                         \n",
    "            da = da.sel(igg=1)                                                                                       \n",
    "                                                                                                                     \n",
    "        if 'g' in da.dims:                                                                                           \n",
    "            da = da.sum('g')                                                                                         \n",
    "                                                                                                                     \n",
    "        if 'band' in da.dims:                                                                                        \n",
    "            try:                                                                                                     \n",
    "                da = da.squeeze('band')                                                                              \n",
    "            except ValueError:                                                                                       \n",
    "                da = da.sum('band')                                                                                  \n",
    "        return da                                                                                                    \n",
    "                                                                                                                     \n",
    "    ds_crd = lbldata.crd_data_atm(lbldata.lblnew_params_atm(atmpro=atmpro))['flux']                                  \n",
    "    olr_crd = ds_crd['flug'].isel(pressure=0)                                                                        \n",
    "    sfc_crd = ds_crd['fldg'].isel(pressure=-1)                                                                       \n",
    "    atm_crd = (ds_crd.isel(pressure=0)                                                                               \n",
    "               - ds_crd.isel(pressure=-1))['fnetg']                                                                  \n",
    "                                                                                                                     \n",
    "    ds_clirad = cliraddata.clirad_data_atm(                                                                          \n",
    "        cliraddata.clirad_params_atm(atmpro=atmpro))['flux']                                                         \n",
    "    olr_clirad = ds_clirad['flug'].isel(pressure=0)                                                                  \n",
    "    sfc_clirad = ds_clirad['fldg'].isel(pressure=-1)                                                                 \n",
    "    atm_clirad = (ds_clirad.isel(pressure=0)                                                                         \n",
    "                  - ds_clirad.isel(pressure=-1))['fnetg']                                                            \n",
    "                                                                                                                     \n",
    "    ds_clirad_singlerun = cliraddata.clirad_data_atm(                                                                \n",
    "        clirad_params_atm_singlerun(atmpro=atmpro))['flux']                                                          \n",
    "    olr_clirad_singlerun = ds_clirad_singlerun['flug'].isel(pressure=0)                                              \n",
    "    sfc_clirad_singlerun = ds_clirad_singlerun['fldg'].isel(pressure=-1)                                             \n",
    "    atm_clirad_singlerun = (ds_clirad_singlerun.isel(pressure=0)                                                     \n",
    "                  - ds_clirad_singlerun.isel(pressure=-1))['fnetg']\n",
    "    \n",
    "    df = pd.DataFrame()                                                                                              \n",
    "    df.index.name = 'Sum over bands'                                                                                 \n",
    "                                                                                                                     \n",
    "    df.loc['CLIRAD (single-run) - CRD',                                                                              \n",
    "           'OLR flux'] = (fmt(olr_clirad_singlerun)                                                                  \n",
    "                          - fmt(olr_crd)).values                                                                     \n",
    "    df.loc['CLIRAD (single-run) - CRD',                                                                              \n",
    "           'SFC flux'] = (fmt(sfc_clirad_singlerun)                                                                  \n",
    "                          - fmt(sfc_crd)).values                                                                     \n",
    "    df.loc['CLIRAD (single-run) - CRD',                                                                              \n",
    "           'ATM heating'] = (fmt(atm_clirad_singlerun)                                                               \n",
    "                             - fmt(atm_crd)).values                                                                  \n",
    "                                                                                                                     \n",
    "    df.loc['CRD', 'OLR flux'] = fmt(olr_crd).values                                                                  \n",
    "    df.loc['CRD', 'SFC flux'] = fmt(sfc_crd).values                                                                  \n",
    "    df.loc['CRD', 'ATM heating'] = fmt(atm_crd).values                                                               \n",
    "                                                                                                                     \n",
    "    df = df.astype('float').round(2)                                                                                 \n",
    "                                                                                                                     \n",
    "    display.display(df)                                                                                              \n",
    "    display.display(                                                                                                 \n",
    "        display.Markdown('*TABLE.* Difference between CLIRAD and CRD'                                                \n",
    "          ' in TOA, SFC and net atmosphere flux,'                                                                    \n",
    "          ' over all spectral bands. CRD\\'s'                                                                         \n",
    "          ' TOA, SFC and net atmosphere flux,'                                                                       \n",
    "          ' over all spectral bands.'))    \n",
    "    "
   ]
  },
  {
   "cell_type": "code",
   "execution_count": 59,
   "metadata": {
    "collapsed": true
   },
   "outputs": [],
   "source": [
    "def show_makeup():                                                                                                   \n",
    "    '''                                                                                                              \n",
    "    Display table showing the concentrations                                                                         \n",
    "    of the gases in each spectral band                                                                               \n",
    "    '''                                                                                                              \n",
    "    df = pd.DataFrame()                                                                                              \n",
    "                                                                                                                     \n",
    "    for band, molecule in nongreys_byband().items():                                                                 \n",
    "        for name, conc in molecule.items():                                                                          \n",
    "            df.loc[name, band] = str(conc)                                                                           \n",
    "                                                                                                                     \n",
    "    df = df.fillna(0)                                                                                                \n",
    "    df.columns.name = 'clirad band'                                                                                  \n",
    "    df.index.name = 'molecule'                                                                                       \n",
    "                                                                                                                     \n",
    "    display.display(df)                                                                                              \n",
    "                                                                                                                     \n",
    "    display.display(                                                                                                 \n",
    "        display.Markdown('*TABLE.* Non-grey absorbers in the atmosphere.'))"
   ]
  },
  {
   "cell_type": "code",
   "execution_count": 60,
   "metadata": {
    "collapsed": true
   },
   "outputs": [],
   "source": [
    "def show_grey_makeup():                                                                                              \n",
    "    df = pd.DataFrame()                                                                                              \n",
    "                                                                                                                     \n",
    "    for band, molecule in greys_byband().items():                                                                    \n",
    "        if molecule == None:                                                                                         \n",
    "            pass                                                                                                     \n",
    "        else:                                                                                                        \n",
    "            for name, conc in molecule.items():                                                                      \n",
    "                df.loc[name, band] = str(conc)                                                                       \n",
    "                                                                                                                     \n",
    "    df = df.fillna(0)                                                                                                \n",
    "    df.columns.name = 'clirad band'                                                                                  \n",
    "    df.index.name = 'absorber'                                                                                       \n",
    "                                                                                                                     \n",
    "    display.display(df)                                                                                              \n",
    "    display.display(                                                                                                 \n",
    "        display.Markdown('*TABLE.* Grey absorbers in the atmosphere.')                                               \n",
    "        )"
   ]
  },
  {
   "cell_type": "code",
   "execution_count": 61,
   "metadata": {
    "collapsed": true
   },
   "outputs": [],
   "source": [
    "def show_html(s):                                                                                                    \n",
    "    display.display(display.HTML(s))                                                                                 \n",
    "                                                                                                                     \n",
    "                                                                                                                     \n",
    "                                                                                                                     \n",
    "def show_markdown(s):                                                                                                \n",
    "    display.display(display.Markdown(s))"
   ]
  },
  {
   "cell_type": "code",
   "execution_count": 62,
   "metadata": {
    "collapsed": true
   },
   "outputs": [],
   "source": [
    "def script():                                                                                                        \n",
    "    d_atm = {'mls': 'mid-latitude summer',                                                                           \n",
    "             'saw': 'sub-arctic winter',                                                                             \n",
    "             'trp': 'tropical'}                                                                                      \n",
    "                                                                                                                     \n",
    "    title = ('## Results over entire range of molecules'                                                             \n",
    "             ' and spectral bands')                                                                                  \n",
    "                                                                                                                     \n",
    "    s_makeup = 'Makeup of atmosphere.'                                                                               \n",
    "    s_atmpro = '# {}'                                                                                                \n",
    "    s_cool = 'Cooling rates. {}.'                                                                                    \n",
    "    s_flux = 'Fluxes. {}.'                                                                                           \n",
    "                                                                                                                     \n",
    "    atmpros = ['mls', 'saw', 'trp']                                                                                  \n",
    "                                                                                                                     \n",
    "    # TOC                                                                                                            \n",
    "    show_markdown(title)                                                                                             \n",
    "    show_markdown('### Table of Contents')                                                                           \n",
    "    show_html(climahtml.getHTML_hrefanchor(s_makeup))                                                                \n",
    "    for atmpro in atmpros:                                                                                           \n",
    "        show_markdown('**' + d_atm[atmpro] + '**')                                                                   \n",
    "        show_html(climahtml.getHTML_hrefanchor(s_cool.format(atmpro)))                                               \n",
    "        show_html(climahtml.getHTML_hrefanchor(s_flux.format(atmpro)))                                               \n",
    "                                                                                                                     \n",
    "                                                                                                                     \n",
    "    # Atmosphere makeup                                                                                              \n",
    "    show_html(climahtml.getHTML_idanchor(s_makeup))                                                                  \n",
    "    show_markdown(climahtml.getMarkdown_sectitle(s_makeup))                                                          \n",
    "    show_makeup()\n",
    "    \n",
    "    for atmpro in atmpros:                                                                                           \n",
    "        show_html(climahtml.getHTML_idanchor(s_cool.format(atmpro)))                                                 \n",
    "        show_markdown(                                                                                               \n",
    "            climahtml.getMarkdown_sectitle(s_cool.format(atmpro)))                                                   \n",
    "        show_cool(atmpro=atmpro)                                                                                     \n",
    "        show_html(climahtml.getHTML_idanchor(s_flux.format(atmpro)))                                                 \n",
    "        show_markdown(                                                                                               \n",
    "            climahtml.getMarkdown_sectitle(s_flux.format(atmpro)))                                                   \n",
    "        show_hist_flux(atmpro=atmpro)                                                                                \n",
    "        show_tb_flux(atmpro=atmpro)"
   ]
  },
  {
   "cell_type": "code",
   "execution_count": 63,
   "metadata": {
    "scrolled": false
   },
   "outputs": [
    {
     "data": {
      "text/markdown": [
       "## Results over entire range of molecules and spectral bands"
      ],
      "text/plain": [
       "<IPython.core.display.Markdown object>"
      ]
     },
     "metadata": {},
     "output_type": "display_data"
    },
    {
     "data": {
      "text/markdown": [
       "### Table of Contents"
      ],
      "text/plain": [
       "<IPython.core.display.Markdown object>"
      ]
     },
     "metadata": {},
     "output_type": "display_data"
    },
    {
     "data": {
      "text/html": [
       "<a href=\"#Makeup_of_atmosphere.\">Makeup of atmosphere.</a>"
      ],
      "text/plain": [
       "<IPython.core.display.HTML object>"
      ]
     },
     "metadata": {},
     "output_type": "display_data"
    },
    {
     "data": {
      "text/markdown": [
       "**mid-latitude summer**"
      ],
      "text/plain": [
       "<IPython.core.display.Markdown object>"
      ]
     },
     "metadata": {},
     "output_type": "display_data"
    },
    {
     "data": {
      "text/html": [
       "<a href=\"#Cooling_rates._mls.\">Cooling rates. mls.</a>"
      ],
      "text/plain": [
       "<IPython.core.display.HTML object>"
      ]
     },
     "metadata": {},
     "output_type": "display_data"
    },
    {
     "data": {
      "text/html": [
       "<a href=\"#Fluxes._mls.\">Fluxes. mls.</a>"
      ],
      "text/plain": [
       "<IPython.core.display.HTML object>"
      ]
     },
     "metadata": {},
     "output_type": "display_data"
    },
    {
     "data": {
      "text/markdown": [
       "**sub-arctic winter**"
      ],
      "text/plain": [
       "<IPython.core.display.Markdown object>"
      ]
     },
     "metadata": {},
     "output_type": "display_data"
    },
    {
     "data": {
      "text/html": [
       "<a href=\"#Cooling_rates._saw.\">Cooling rates. saw.</a>"
      ],
      "text/plain": [
       "<IPython.core.display.HTML object>"
      ]
     },
     "metadata": {},
     "output_type": "display_data"
    },
    {
     "data": {
      "text/html": [
       "<a href=\"#Fluxes._saw.\">Fluxes. saw.</a>"
      ],
      "text/plain": [
       "<IPython.core.display.HTML object>"
      ]
     },
     "metadata": {},
     "output_type": "display_data"
    },
    {
     "data": {
      "text/markdown": [
       "**tropical**"
      ],
      "text/plain": [
       "<IPython.core.display.Markdown object>"
      ]
     },
     "metadata": {},
     "output_type": "display_data"
    },
    {
     "data": {
      "text/html": [
       "<a href=\"#Cooling_rates._trp.\">Cooling rates. trp.</a>"
      ],
      "text/plain": [
       "<IPython.core.display.HTML object>"
      ]
     },
     "metadata": {},
     "output_type": "display_data"
    },
    {
     "data": {
      "text/html": [
       "<a href=\"#Fluxes._trp.\">Fluxes. trp.</a>"
      ],
      "text/plain": [
       "<IPython.core.display.HTML object>"
      ]
     },
     "metadata": {},
     "output_type": "display_data"
    },
    {
     "data": {
      "text/html": [
       "<a id=\"Makeup_of_atmosphere.\"></a>"
      ],
      "text/plain": [
       "<IPython.core.display.HTML object>"
      ]
     },
     "metadata": {},
     "output_type": "display_data"
    },
    {
     "data": {
      "text/markdown": [
       "# Makeup of atmosphere."
      ],
      "text/plain": [
       "<IPython.core.display.Markdown object>"
      ]
     },
     "metadata": {},
     "output_type": "display_data"
    },
    {
     "data": {
      "text/html": [
       "<div>\n",
       "<style scoped>\n",
       "    .dataframe tbody tr th:only-of-type {\n",
       "        vertical-align: middle;\n",
       "    }\n",
       "\n",
       "    .dataframe tbody tr th {\n",
       "        vertical-align: top;\n",
       "    }\n",
       "\n",
       "    .dataframe thead th {\n",
       "        text-align: right;\n",
       "    }\n",
       "</style>\n",
       "<table border=\"1\" class=\"dataframe\">\n",
       "  <thead>\n",
       "    <tr style=\"text-align: right;\">\n",
       "      <th>clirad band</th>\n",
       "      <th>1</th>\n",
       "      <th>2</th>\n",
       "      <th>3</th>\n",
       "      <th>4</th>\n",
       "      <th>5</th>\n",
       "      <th>6</th>\n",
       "      <th>7</th>\n",
       "      <th>8</th>\n",
       "      <th>9</th>\n",
       "      <th>10</th>\n",
       "      <th>11</th>\n",
       "    </tr>\n",
       "    <tr>\n",
       "      <th>molecule</th>\n",
       "      <th></th>\n",
       "      <th></th>\n",
       "      <th></th>\n",
       "      <th></th>\n",
       "      <th></th>\n",
       "      <th></th>\n",
       "      <th></th>\n",
       "      <th></th>\n",
       "      <th></th>\n",
       "      <th></th>\n",
       "      <th></th>\n",
       "    </tr>\n",
       "  </thead>\n",
       "  <tbody>\n",
       "    <tr>\n",
       "      <th>h2o</th>\n",
       "      <td>atmpro</td>\n",
       "      <td>atmpro</td>\n",
       "      <td>atmpro</td>\n",
       "      <td>atmpro</td>\n",
       "      <td>atmpro</td>\n",
       "      <td>atmpro</td>\n",
       "      <td>atmpro</td>\n",
       "      <td>atmpro</td>\n",
       "      <td>atmpro</td>\n",
       "      <td>atmpro</td>\n",
       "      <td>atmpro</td>\n",
       "    </tr>\n",
       "    <tr>\n",
       "      <th>co2</th>\n",
       "      <td>0</td>\n",
       "      <td>0</td>\n",
       "      <td>0.0004</td>\n",
       "      <td>0.0004</td>\n",
       "      <td>0.0004</td>\n",
       "      <td>0.0004</td>\n",
       "      <td>0.0004</td>\n",
       "      <td>0</td>\n",
       "      <td>0</td>\n",
       "      <td>0</td>\n",
       "      <td>0.0004</td>\n",
       "    </tr>\n",
       "    <tr>\n",
       "      <th>n2o</th>\n",
       "      <td>0</td>\n",
       "      <td>0</td>\n",
       "      <td>3.2e-07</td>\n",
       "      <td>0</td>\n",
       "      <td>0</td>\n",
       "      <td>0</td>\n",
       "      <td>0</td>\n",
       "      <td>0</td>\n",
       "      <td>3.2e-07</td>\n",
       "      <td>0</td>\n",
       "      <td>0</td>\n",
       "    </tr>\n",
       "    <tr>\n",
       "      <th>o3</th>\n",
       "      <td>0</td>\n",
       "      <td>0</td>\n",
       "      <td>0</td>\n",
       "      <td>0</td>\n",
       "      <td>0</td>\n",
       "      <td>0</td>\n",
       "      <td>atmpro</td>\n",
       "      <td>0</td>\n",
       "      <td>0</td>\n",
       "      <td>0</td>\n",
       "      <td>0</td>\n",
       "    </tr>\n",
       "    <tr>\n",
       "      <th>ch4</th>\n",
       "      <td>0</td>\n",
       "      <td>0</td>\n",
       "      <td>0</td>\n",
       "      <td>0</td>\n",
       "      <td>0</td>\n",
       "      <td>0</td>\n",
       "      <td>0</td>\n",
       "      <td>0</td>\n",
       "      <td>1.8e-06</td>\n",
       "      <td>0</td>\n",
       "      <td>0</td>\n",
       "    </tr>\n",
       "  </tbody>\n",
       "</table>\n",
       "</div>"
      ],
      "text/plain": [
       "clirad band      1       2        3       4       5       6       7       8   \\\n",
       "molecule                                                                       \n",
       "h2o          atmpro  atmpro   atmpro  atmpro  atmpro  atmpro  atmpro  atmpro   \n",
       "co2               0       0   0.0004  0.0004  0.0004  0.0004  0.0004       0   \n",
       "n2o               0       0  3.2e-07       0       0       0       0       0   \n",
       "o3                0       0        0       0       0       0  atmpro       0   \n",
       "ch4               0       0        0       0       0       0       0       0   \n",
       "\n",
       "clirad band       9       10      11  \n",
       "molecule                              \n",
       "h2o           atmpro  atmpro  atmpro  \n",
       "co2                0       0  0.0004  \n",
       "n2o          3.2e-07       0       0  \n",
       "o3                 0       0       0  \n",
       "ch4          1.8e-06       0       0  "
      ]
     },
     "metadata": {},
     "output_type": "display_data"
    },
    {
     "data": {
      "text/markdown": [
       "*TABLE.* Non-grey absorbers in the atmosphere."
      ],
      "text/plain": [
       "<IPython.core.display.Markdown object>"
      ]
     },
     "metadata": {},
     "output_type": "display_data"
    },
    {
     "data": {
      "text/html": [
       "<a id=\"Cooling_rates._mls.\"></a>"
      ],
      "text/plain": [
       "<IPython.core.display.HTML object>"
      ]
     },
     "metadata": {},
     "output_type": "display_data"
    },
    {
     "data": {
      "text/markdown": [
       "# Cooling rates. mls."
      ],
      "text/plain": [
       "<IPython.core.display.Markdown object>"
      ]
     },
     "metadata": {},
     "output_type": "display_data"
    },
    {
     "data": {
      "text/html": [
       "\n",
       "<div class=\"bk-root\">\n",
       "    <div class=\"bk-plotdiv\" id=\"47bdf6e4-1910-427c-bc6a-e8819fcffc7a\"></div>\n",
       "</div>"
      ]
     },
     "metadata": {},
     "output_type": "display_data"
    },
    {
     "data": {
      "application/javascript": [
       "(function(root) {\n",
       "  function embed_document(root) {\n",
       "    \n",
       "  var docs_json = {\"31b3c42e-5875-4008-aaf6-14b37cea5852\":{\"roots\":{\"references\":[{\"attributes\":{\"ticker\":null},\"id\":\"4de27fc9-97ff-4449-894b-b6f7113f2f34\",\"type\":\"LogTickFormatter\"},{\"attributes\":{\"fill_alpha\":{\"value\":0.7},\"fill_color\":{\"value\":\"#984ea3\"},\"line_alpha\":{\"value\":0.7},\"line_color\":{\"value\":\"#984ea3\"},\"x\":{\"field\":\"x\"},\"y\":{\"field\":\"y\"}},\"id\":\"92bc93c5-befd-4b12-8aac-2d427bb27021\",\"type\":\"Circle\"},{\"attributes\":{\"source\":{\"id\":\"fd8edda5-ff4b-4175-9c38-167fb40e43e3\",\"type\":\"ColumnDataSource\"}},\"id\":\"64f9c825-120b-48fb-9e41-68570a36522c\",\"type\":\"CDSView\"},{\"attributes\":{\"source\":{\"id\":\"3f77c437-4761-4c9d-9347-5e08442d05ed\",\"type\":\"ColumnDataSource\"}},\"id\":\"2fb53c60-5099-43d1-909d-e3828cdd6c8b\",\"type\":\"CDSView\"},{\"attributes\":{\"dimension\":1,\"plot\":{\"id\":\"67b02022-1401-438c-b123-7310b7b29573\",\"subtype\":\"Figure\",\"type\":\"Plot\"},\"ticker\":{\"id\":\"0d323f0e-6691-46f5-bff8-542e9ad6a426\",\"type\":\"LogTicker\"}},\"id\":\"bf54392d-2636-4ae9-9045-8c8723c02001\",\"type\":\"Grid\"},{\"attributes\":{\"fill_alpha\":{\"value\":0.1},\"fill_color\":{\"value\":\"#1f77b4\"},\"line_alpha\":{\"value\":0.1},\"line_color\":{\"value\":\"#1f77b4\"},\"x\":{\"field\":\"x\"},\"y\":{\"field\":\"y\"}},\"id\":\"2bff1966-b454-4bdb-bf02-fa48685d17bd\",\"type\":\"Circle\"},{\"attributes\":{\"axis_label\":\"pressure [mb]\",\"formatter\":{\"id\":\"ddf798de-9ce7-4b7f-9eec-2da2c67671b1\",\"type\":\"LogTickFormatter\"},\"plot\":{\"id\":\"67b02022-1401-438c-b123-7310b7b29573\",\"subtype\":\"Figure\",\"type\":\"Plot\"},\"ticker\":{\"id\":\"0d323f0e-6691-46f5-bff8-542e9ad6a426\",\"type\":\"LogTicker\"}},\"id\":\"dea1ff8a-9bc8-4de4-988d-67ceeb281834\",\"type\":\"LogAxis\"},{\"attributes\":{\"line_color\":\"#4daf4a\",\"line_width\":1.5,\"x\":{\"field\":\"x\"},\"y\":{\"field\":\"y\"}},\"id\":\"a50aaeaf-5be0-4d26-911a-401995b92ad8\",\"type\":\"Line\"},{\"attributes\":{\"above\":[{\"id\":\"377bed71-1995-4aa2-a5ef-468ce7e98e8d\",\"type\":\"Legend\"}],\"below\":[{\"id\":\"134d622b-1d21-475a-8a3a-863a18c9c01c\",\"type\":\"LinearAxis\"}],\"left\":[{\"id\":\"3c401048-9591-4799-acfd-a76511122628\",\"type\":\"LinearAxis\"}],\"plot_width\":300,\"renderers\":[{\"id\":\"134d622b-1d21-475a-8a3a-863a18c9c01c\",\"type\":\"LinearAxis\"},{\"id\":\"369953cc-991a-47a2-9185-e8ebc707b6b1\",\"type\":\"Grid\"},{\"id\":\"3c401048-9591-4799-acfd-a76511122628\",\"type\":\"LinearAxis\"},{\"id\":\"5e10ebee-deb2-4391-b8bb-b47c2c55e912\",\"type\":\"Grid\"},{\"id\":\"7f2190b3-0539-45bd-8d52-418e9caf7c7a\",\"type\":\"BoxAnnotation\"},{\"id\":\"5d00b9c1-ed7a-4f98-876b-2afd51e39abf\",\"type\":\"GlyphRenderer\"},{\"id\":\"b7929b4b-3ec3-46a0-8f4f-8aa040d8d071\",\"type\":\"GlyphRenderer\"},{\"id\":\"2b599de4-d5d6-4441-83ca-999632223ab9\",\"type\":\"GlyphRenderer\"},{\"id\":\"377bed71-1995-4aa2-a5ef-468ce7e98e8d\",\"type\":\"Legend\"}],\"title\":{\"id\":\"d551c285-c68b-4e0d-9288-988d3ae6a345\",\"type\":\"Title\"},\"toolbar\":{\"id\":\"81423bb9-84aa-4b5b-8b01-373a23346b78\",\"type\":\"Toolbar\"},\"toolbar_location\":null,\"x_range\":{\"id\":\"b2962329-ee8d-4904-a82b-709e80634243\",\"type\":\"Range1d\"},\"x_scale\":{\"id\":\"c0744190-bc68-4a87-99c6-200e2e9b2100\",\"type\":\"LinearScale\"},\"y_range\":{\"id\":\"d6e3728b-6853-4019-af2f-cb16819f28cf\",\"type\":\"Range1d\"},\"y_scale\":{\"id\":\"916d91b0-1d8d-480d-99db-0b898ecd01d0\",\"type\":\"LinearScale\"}},\"id\":\"f5f48d87-fdad-4abc-b55c-a154ac6235c5\",\"subtype\":\"Figure\",\"type\":\"Plot\"},{\"attributes\":{\"callback\":null,\"data\":{\"x\":{\"__ndarray__\":\"cm1sTMT3VEDEyvjosEJHQOKI6DjzCUNArgQWV9awPkB9Lm8XG3M4QEz+Qv6iYzNA7eV8HaPLLkCX1QHyTpMoQFBmYSYetiNAUB04GtGpH0AmFyVE5j8ZQJca9QPGqBNALJP+OOHHDEBNxaf7QF8AQKtislomWuw/cW2dcO6A9T/uJJvfPu0EQIaQLTI/JQ1AxGiII+PmEkCJvfVeuCsYQD6ZBhGbHB9AXQw69DTYJEAsubcwKucqQNuT9D5OmipAJyi3szEJJUBlNebh5WkgQDDcPHBr2xlArtlANXuQFEBdJadFHckQQI2Avh0ZsQtAjYiwt1rsBUCL0SDoVBgAQK6C0nEEjvc/CggLSme58T9sXU2orFPnP0v0JYz9Gdg/vT38vxYczD9nBQTe6kHHP1IhkEXJwKo/8OZnhCVAub+xtVgCpmqzP6DUpY6g0+k/PKK3T1h4+D8RTDjQc1EAQG/dAQs7TwJAQt2eHpPLAEBWEh074x//PyCap9ZSGf4/rEzaTySm/T+7aXhHRmr9P688KeqeNP0/ruZ4EemD/D8olrZcn9T7P0+vNc9hW/s/i9VVL+4P+z+0NzC24uz6P8731Kza8vo/xFf4SHzq+z+gYyHpvHb8P68ROkiFevw/BAjYdCga/D8AUp8VbW77P3JrF/nKmvo/qCQeGfq++T/dplwHJfn4P2G4p+Uva/g/OzZ0RqMZ+D8dmn/iar73P/OuA7Ka8PY/gaaeQHGn9T9hkyjAH1L0P3aZGhdAU/M/n8VP/g7P8j+90HxHNvfyPwhNBtgrqvk/\",\"dtype\":\"float64\",\"shape\":[75]},\"y\":{\"__ndarray__\":\"GhExyth1ND/Sv8nbtpRIP2vylNV0PVE/aTum7souWD/At0SJ8fVgPw3Iuahxymc/MSNhhJWvcD/bTfBN02d3P2zb5nxnaoA/CD5h5MAGhz8NmeH1TyaQP+zrCsc9p5Y/LbKd76fGnz/bLW5ISEmmPww9YvTcQq8/JV2OstnstT8Er5Y7M8G+P0c+r3jqkcU/5h99k6ZBzj88bCIzFzjVP4enV8oyxN0//yH99nXg5D8qOpLLf0jtP5kqGJXUifQ/c9cS8kHP/D+/DpwzojQEQIEmwoanVwxA4lgXt9HgE0BSSZ2AJuIbQAMJih9jjiNA5q4l5INuK0AwTKYKRj0zQNv5fmq8/DpAaCJseHrtQkB/+zpwzoxKQM3MzMzMeFJAZmZmZmZqWEAAAAAAAFxeQM3MzMzMJmJAmpmZmZkfZUBmZmZmZhhoQDMzMzMzEWtAAAAAAAAKbkBmZmZmZoFwQM3MzMzM/XFAMzMzMzN6c0CamZmZmfZ0QAAAAAAAc3ZAZmZmZmbvd0DNzMzMzGt5QDMzMzMz6HpAmpmZmZlkfEAAAAAAAOF9QGZmZmZmXX9AZmZmZuZsgECamZmZGSuBQM3MzMxM6YFAAAAAAICngkAzMzMzs2WDQGZmZmbmI4RAmpmZmRnihEDNzMzMTKCFQAAAAACAXoZAMzMzM7Mch0BmZmZm5tqHQJqZmZkZmYhAzczMzExXiUAAAAAAgBWKQDMzMzOz04pAZmZmZuaRi0CamZmZGVCMQM3MzMxMDo1AAAAAAIDMjUAzMzMzs4qOQGZmZmbmSI9A\",\"dtype\":\"float64\",\"shape\":[75]}},\"selected\":{\"id\":\"e0b1e902-ff52-4061-a561-467c4eb1531d\",\"type\":\"Selection\"},\"selection_policy\":{\"id\":\"a6ff27b5-a536-4a7c-996d-087d2087587c\",\"type\":\"UnionRenderers\"}},\"id\":\"3f77c437-4761-4c9d-9347-5e08442d05ed\",\"type\":\"ColumnDataSource\"},{\"attributes\":{\"num_minor_ticks\":10},\"id\":\"0d323f0e-6691-46f5-bff8-542e9ad6a426\",\"type\":\"LogTicker\"},{\"attributes\":{\"items\":[{\"id\":\"ca966843-1ef3-4f97-9821-e281c409479a\",\"type\":\"LegendItem\"},{\"id\":\"14ae5ea9-16f7-41b7-9de2-49091b938294\",\"type\":\"LegendItem\"}],\"label_text_font_size\":{\"value\":\"8pt\"},\"location\":\"top_center\",\"orientation\":\"horizontal\",\"plot\":{\"id\":\"f5f48d87-fdad-4abc-b55c-a154ac6235c5\",\"subtype\":\"Figure\",\"type\":\"Plot\"}},\"id\":\"377bed71-1995-4aa2-a5ef-468ce7e98e8d\",\"type\":\"Legend\"},{\"attributes\":{\"label\":{\"value\":\"CLIRAD (single-run)\"},\"renderers\":[{\"id\":\"a674d53e-efa7-4905-9f4b-a4f42505f9a1\",\"type\":\"GlyphRenderer\"}]},\"id\":\"8f3cd53d-568b-485a-bee4-a459e0398940\",\"type\":\"LegendItem\"},{\"attributes\":{},\"id\":\"74a2b7e4-6ef0-4d03-8936-cd75d43cc2f0\",\"type\":\"LogScale\"},{\"attributes\":{\"line_alpha\":0.1,\"line_color\":\"#1f77b4\",\"line_width\":1.5,\"x\":{\"field\":\"x\"},\"y\":{\"field\":\"y\"}},\"id\":\"f144eb19-b69d-49dd-a61d-09dbfd3f25b9\",\"type\":\"Line\"},{\"attributes\":{\"data_source\":{\"id\":\"fd8edda5-ff4b-4175-9c38-167fb40e43e3\",\"type\":\"ColumnDataSource\"},\"glyph\":{\"id\":\"0c38f3d4-c187-4045-a72c-e16fac552e68\",\"type\":\"Circle\"},\"hover_glyph\":null,\"muted_glyph\":null,\"nonselection_glyph\":{\"id\":\"1e1b6443-98d5-4016-a13f-aced1b985820\",\"type\":\"Circle\"},\"selection_glyph\":null,\"view\":{\"id\":\"64f9c825-120b-48fb-9e41-68570a36522c\",\"type\":\"CDSView\"}},\"id\":\"ca046907-b478-47f7-89ac-bf54b8b87bec\",\"type\":\"GlyphRenderer\"},{\"attributes\":{\"plot\":{\"id\":\"f5f48d87-fdad-4abc-b55c-a154ac6235c5\",\"subtype\":\"Figure\",\"type\":\"Plot\"},\"ticker\":{\"id\":\"4923073e-8ac4-46c8-bc6e-7c77b326c0e7\",\"type\":\"BasicTicker\"}},\"id\":\"369953cc-991a-47a2-9185-e8ebc707b6b1\",\"type\":\"Grid\"},{\"attributes\":{\"num_minor_ticks\":10},\"id\":\"ee90e390-1fa3-499e-b76e-7300c617cc62\",\"type\":\"LogTicker\"},{\"attributes\":{\"source\":{\"id\":\"30b52f10-8a8b-41ec-b72b-1b3d37a97a5e\",\"type\":\"ColumnDataSource\"}},\"id\":\"fcdd2305-6859-4a29-9645-52e00c4c2221\",\"type\":\"CDSView\"},{\"attributes\":{\"fill_alpha\":{\"value\":0.7},\"fill_color\":{\"value\":\"#4daf4a\"},\"line_alpha\":{\"value\":0.7},\"line_color\":{\"value\":\"#4daf4a\"},\"x\":{\"field\":\"x\"},\"y\":{\"field\":\"y\"}},\"id\":\"0c38f3d4-c187-4045-a72c-e16fac552e68\",\"type\":\"Circle\"},{\"attributes\":{\"fill_alpha\":{\"value\":0.1},\"fill_color\":{\"value\":\"#1f77b4\"},\"line_alpha\":{\"value\":0.1},\"line_color\":{\"value\":\"#1f77b4\"},\"x\":{\"field\":\"x\"},\"y\":{\"field\":\"y\"}},\"id\":\"1e1b6443-98d5-4016-a13f-aced1b985820\",\"type\":\"Circle\"},{\"attributes\":{\"callback\":null,\"data\":{\"x\":{\"__ndarray__\":\"cm1sTMT3VEDEyvjosEJHQOKI6DjzCUNArgQWV9awPkB9Lm8XG3M4QEz+Qv6iYzNA7eV8HaPLLkCX1QHyTpMoQFBmYSYetiNAUB04GtGpH0AmFyVE5j8ZQJca9QPGqBNALJP+OOHHDEBNxaf7QF8AQKtislomWuw/cW2dcO6A9T/uJJvfPu0EQIaQLTI/JQ1AxGiII+PmEkCJvfVeuCsYQD6ZBhGbHB9AXQw69DTYJEAsubcwKucqQNuT9D5OmipAJyi3szEJJUBlNebh5WkgQDDcPHBr2xlArtlANXuQFEBdJadFHckQQI2Avh0ZsQtAjYiwt1rsBUCL0SDoVBgAQK6C0nEEjvc/CggLSme58T9sXU2orFPnP0v0JYz9Gdg/vT38vxYczD9nBQTe6kHHP1IhkEXJwKo/8OZnhCVAub+xtVgCpmqzP6DUpY6g0+k/PKK3T1h4+D8RTDjQc1EAQG/dAQs7TwJAQt2eHpPLAEBWEh074x//PyCap9ZSGf4/rEzaTySm/T+7aXhHRmr9P688KeqeNP0/ruZ4EemD/D8olrZcn9T7P0+vNc9hW/s/i9VVL+4P+z+0NzC24uz6P8731Kza8vo/xFf4SHzq+z+gYyHpvHb8P68ROkiFevw/BAjYdCga/D8AUp8VbW77P3JrF/nKmvo/qCQeGfq++T/dplwHJfn4P2G4p+Uva/g/OzZ0RqMZ+D8dmn/iar73P/OuA7Ka8PY/gaaeQHGn9T9hkyjAH1L0P3aZGhdAU/M/n8VP/g7P8j+90HxHNvfyPwhNBtgrqvk/\",\"dtype\":\"float64\",\"shape\":[75]},\"y\":{\"__ndarray__\":\"GhExyth1ND/Sv8nbtpRIP2vylNV0PVE/aTum7souWD/At0SJ8fVgPw3Iuahxymc/MSNhhJWvcD/bTfBN02d3P2zb5nxnaoA/CD5h5MAGhz8NmeH1TyaQP+zrCsc9p5Y/LbKd76fGnz/bLW5ISEmmPww9YvTcQq8/JV2OstnstT8Er5Y7M8G+P0c+r3jqkcU/5h99k6ZBzj88bCIzFzjVP4enV8oyxN0//yH99nXg5D8qOpLLf0jtP5kqGJXUifQ/c9cS8kHP/D+/DpwzojQEQIEmwoanVwxA4lgXt9HgE0BSSZ2AJuIbQAMJih9jjiNA5q4l5INuK0AwTKYKRj0zQNv5fmq8/DpAaCJseHrtQkB/+zpwzoxKQM3MzMzMeFJAZmZmZmZqWEAAAAAAAFxeQM3MzMzMJmJAmpmZmZkfZUBmZmZmZhhoQDMzMzMzEWtAAAAAAAAKbkBmZmZmZoFwQM3MzMzM/XFAMzMzMzN6c0CamZmZmfZ0QAAAAAAAc3ZAZmZmZmbvd0DNzMzMzGt5QDMzMzMz6HpAmpmZmZlkfEAAAAAAAOF9QGZmZmZmXX9AZmZmZuZsgECamZmZGSuBQM3MzMxM6YFAAAAAAICngkAzMzMzs2WDQGZmZmbmI4RAmpmZmRnihEDNzMzMTKCFQAAAAACAXoZAMzMzM7Mch0BmZmZm5tqHQJqZmZkZmYhAzczMzExXiUAAAAAAgBWKQDMzMzOz04pAZmZmZuaRi0CamZmZGVCMQM3MzMxMDo1AAAAAAIDMjUAzMzMzs4qOQGZmZmbmSI9A\",\"dtype\":\"float64\",\"shape\":[75]}},\"selected\":{\"id\":\"805c67b7-4a65-45d0-8654-9c827a1f7f69\",\"type\":\"Selection\"},\"selection_policy\":{\"id\":\"e1a00c2f-a487-41f4-9ce5-02632e618375\",\"type\":\"UnionRenderers\"}},\"id\":\"fd8edda5-ff4b-4175-9c38-167fb40e43e3\",\"type\":\"ColumnDataSource\"},{\"attributes\":{\"data_source\":{\"id\":\"3f77c437-4761-4c9d-9347-5e08442d05ed\",\"type\":\"ColumnDataSource\"},\"glyph\":{\"id\":\"a50aaeaf-5be0-4d26-911a-401995b92ad8\",\"type\":\"Line\"},\"hover_glyph\":null,\"muted_glyph\":null,\"nonselection_glyph\":{\"id\":\"f144eb19-b69d-49dd-a61d-09dbfd3f25b9\",\"type\":\"Line\"},\"selection_glyph\":null,\"view\":{\"id\":\"2fb53c60-5099-43d1-909d-e3828cdd6c8b\",\"type\":\"CDSView\"}},\"id\":\"1e229ca6-de1e-4c10-84ee-82158020be3e\",\"type\":\"GlyphRenderer\"},{\"attributes\":{\"axis_label\":\"cooling rate [K/day]\",\"formatter\":{\"id\":\"bea62f8a-e845-46e4-bb15-e796650bfc4d\",\"type\":\"BasicTickFormatter\"},\"plot\":{\"id\":\"f5f48d87-fdad-4abc-b55c-a154ac6235c5\",\"subtype\":\"Figure\",\"type\":\"Plot\"},\"ticker\":{\"id\":\"4923073e-8ac4-46c8-bc6e-7c77b326c0e7\",\"type\":\"BasicTicker\"}},\"id\":\"134d622b-1d21-475a-8a3a-863a18c9c01c\",\"type\":\"LinearAxis\"},{\"attributes\":{\"plot\":{\"id\":\"67b02022-1401-438c-b123-7310b7b29573\",\"subtype\":\"Figure\",\"type\":\"Plot\"},\"ticker\":{\"id\":\"1b0df368-4f16-4bfa-ad98-5aa8c31b7fc4\",\"type\":\"BasicTicker\"}},\"id\":\"554f3266-e099-4b3b-a9a6-6334a395a1ed\",\"type\":\"Grid\"},{\"attributes\":{},\"id\":\"e1a00c2f-a487-41f4-9ce5-02632e618375\",\"type\":\"UnionRenderers\"},{\"attributes\":{},\"id\":\"87184112-c9d0-43b7-b200-f42aa7583320\",\"type\":\"BasicTickFormatter\"},{\"attributes\":{\"active_drag\":\"auto\",\"active_inspect\":\"auto\",\"active_scroll\":\"auto\",\"active_tap\":\"auto\",\"tools\":[{\"id\":\"17fe6daa-4591-4ea9-907a-77f4e5b13a4e\",\"type\":\"PanTool\"},{\"id\":\"a110c0c2-0860-403c-94d2-8130f659b42a\",\"type\":\"WheelZoomTool\"},{\"id\":\"50c24266-9791-4c71-be68-51f19bdf27d0\",\"type\":\"BoxZoomTool\"},{\"id\":\"5ead1ea3-09d7-4046-a68e-fa1708ce8c69\",\"type\":\"SaveTool\"},{\"id\":\"b19a6e8c-f81f-43a0-aff4-20f44a130ab1\",\"type\":\"ResetTool\"},{\"id\":\"bc3d4aff-7b45-4c39-b58e-3c9207097f6b\",\"type\":\"HelpTool\"}]},\"id\":\"81423bb9-84aa-4b5b-8b01-373a23346b78\",\"type\":\"Toolbar\"},{\"attributes\":{\"callback\":null,\"data\":{\"x\":{\"__ndarray__\":\"FRQETjrXRUDWnCPW5RZDQIyH7qyy4kFAWX3YbF8+QEAY+Xtqbz88QLyGKPnbPDdAIAxeKo3pMUCERhrL1uUpQFY4aqncGiJA9xv6N8czGkCCy45z3dwUQE5dCmCftRFAVlvS2m9LDUD705OmEZUDQEiA9duN9fU/XgvU5pGO+j+hG49/cDIFQI/d2a5UDgtAclVA5xPgEEBaNfy5jhYWQJvu5nWI/B1AucEfnlPUJEDhdVuVcssqQGPun4Qg+ylALdKiCDJOJEBZaUuMGkcgQBZuu+83YxtAAsInDkIFFkCRoiFxXigRQNp1phAt4AtAHLIhQwkICEDlqkyrg8sCQAfURH6nBfo/3P2ndpVF8T8TEeWCt3nnP4Qtuh8i6Ns/PvfkezcSzT85P/B2YUfAP+OzCBCH/KK/e1u1Fxpjyb+/yCCDVdmDv9Qh8mpewuc/MukPY5p+9z+gbdyR8RYAQJi3lljLlwFA2GCTJsUGAEDHQqyyekP+P5isjrsIIv0/6koh27Rq/D9VnUrH0jv8P+ZeQG1kV/w/xQxkqFDu+z9jdSlVJnP7PwOyt3PPB/s/pq3wsk+9+j9W6t1Ibof6P680IUt1hfo/LhJVXoSb+z8eXnx2ZXz8PwlX1QWb/vw/3QbN6ZT9/D+cHQfn1V38P/YUl2y+Rvs/nd6jf0QW+j+1PJxzwf/4P9uwotV0bfg/FXmFSss8+D/b6twu4Df4P+7hEWM5tPc/Nx/GyPOk9j+/WveHFHT1Px+6o3b0iPQ/g/ZUEWER9D9mIX9GsET0PxMydhOT7/o/\",\"dtype\":\"float64\",\"shape\":[75]},\"y\":{\"__ndarray__\":\"GhExyth1ND/Sv8nbtpRIP2vylNV0PVE/aTum7souWD/At0SJ8fVgPw3Iuahxymc/MSNhhJWvcD/bTfBN02d3P2zb5nxnaoA/CD5h5MAGhz8NmeH1TyaQP+zrCsc9p5Y/LbKd76fGnz/bLW5ISEmmPww9YvTcQq8/JV2OstnstT8Er5Y7M8G+P0c+r3jqkcU/5h99k6ZBzj88bCIzFzjVP4enV8oyxN0//yH99nXg5D8qOpLLf0jtP5kqGJXUifQ/c9cS8kHP/D+/DpwzojQEQIEmwoanVwxA4lgXt9HgE0BSSZ2AJuIbQAMJih9jjiNA5q4l5INuK0AwTKYKRj0zQNv5fmq8/DpAaCJseHrtQkB/+zpwzoxKQM3MzMzMeFJAZmZmZmZqWEAAAAAAAFxeQM3MzMzMJmJAmpmZmZkfZUBmZmZmZhhoQDMzMzMzEWtAAAAAAAAKbkBmZmZmZoFwQM3MzMzM/XFAMzMzMzN6c0CamZmZmfZ0QAAAAAAAc3ZAZmZmZmbvd0DNzMzMzGt5QDMzMzMz6HpAmpmZmZlkfEAAAAAAAOF9QGZmZmZmXX9AZmZmZuZsgECamZmZGSuBQM3MzMxM6YFAAAAAAICngkAzMzMzs2WDQGZmZmbmI4RAmpmZmRnihEDNzMzMTKCFQAAAAACAXoZAMzMzM7Mch0BmZmZm5tqHQJqZmZkZmYhAzczMzExXiUAAAAAAgBWKQDMzMzOz04pAZmZmZuaRi0CamZmZGVCMQM3MzMxMDo1AAAAAAIDMjUAzMzMzs4qOQGZmZmbmSI9A\",\"dtype\":\"float64\",\"shape\":[75]}},\"selected\":{\"id\":\"282392a6-bf14-4415-b395-50bd9c16b317\",\"type\":\"Selection\"},\"selection_policy\":{\"id\":\"86ee4f00-9a90-44f0-a639-50bcc9b7021f\",\"type\":\"UnionRenderers\"}},\"id\":\"30b52f10-8a8b-41ec-b72b-1b3d37a97a5e\",\"type\":\"ColumnDataSource\"},{\"attributes\":{},\"id\":\"5cc60dc5-f7e1-41e0-8790-4b5a1521542e\",\"type\":\"WheelZoomTool\"},{\"attributes\":{},\"id\":\"d427d114-d860-4bdf-bb60-003ecf88b88d\",\"type\":\"PanTool\"},{\"attributes\":{},\"id\":\"aa4688c4-369a-4919-a834-53ebdbf2d072\",\"type\":\"UnionRenderers\"},{\"attributes\":{\"ticker\":null},\"id\":\"ddf798de-9ce7-4b7f-9eec-2da2c67671b1\",\"type\":\"LogTickFormatter\"},{\"attributes\":{},\"id\":\"86ee4f00-9a90-44f0-a639-50bcc9b7021f\",\"type\":\"UnionRenderers\"},{\"attributes\":{},\"id\":\"b8898710-7f54-43a8-a677-8a7e5d693ef9\",\"type\":\"PanTool\"},{\"attributes\":{\"active_drag\":\"auto\",\"active_inspect\":\"auto\",\"active_scroll\":\"auto\",\"active_tap\":\"auto\",\"tools\":[{\"id\":\"d427d114-d860-4bdf-bb60-003ecf88b88d\",\"type\":\"PanTool\"},{\"id\":\"af6f1d33-cd88-4218-82d3-a603e2bc16dc\",\"type\":\"WheelZoomTool\"},{\"id\":\"2e0b433e-c36f-473a-854b-4fff79c379ae\",\"type\":\"BoxZoomTool\"},{\"id\":\"fab5aa79-3623-4d27-bf2a-5fc1bc4064db\",\"type\":\"SaveTool\"},{\"id\":\"60889d8e-bfda-4c2e-86cd-be435fc78b40\",\"type\":\"ResetTool\"},{\"id\":\"4aed89c1-8524-4352-b9ed-867e146f0694\",\"type\":\"HelpTool\"}]},\"id\":\"675089bc-0da8-4181-9d48-7e80e276477d\",\"type\":\"Toolbar\"},{\"attributes\":{\"bottom_units\":\"screen\",\"fill_alpha\":{\"value\":0.5},\"fill_color\":{\"value\":\"lightgrey\"},\"left_units\":\"screen\",\"level\":\"overlay\",\"line_alpha\":{\"value\":1.0},\"line_color\":{\"value\":\"black\"},\"line_dash\":[4,4],\"line_width\":{\"value\":2},\"plot\":null,\"render_mode\":\"css\",\"right_units\":\"screen\",\"top_units\":\"screen\"},\"id\":\"4a23986f-3782-4548-8d99-0773891d9197\",\"type\":\"BoxAnnotation\"},{\"attributes\":{\"above\":[{\"id\":\"ca5631f7-e633-4507-9318-d655b93955a4\",\"type\":\"Legend\"}],\"below\":[{\"id\":\"70d744d6-0894-4c85-8f73-ecc3a7a91cbc\",\"type\":\"LinearAxis\"}],\"left\":[{\"id\":\"5db2746c-bc69-42cb-b7b3-d724354eae6a\",\"type\":\"LogAxis\"}],\"plot_width\":300,\"renderers\":[{\"id\":\"70d744d6-0894-4c85-8f73-ecc3a7a91cbc\",\"type\":\"LinearAxis\"},{\"id\":\"1c6c64af-7e5d-4459-8182-8bec4920ef67\",\"type\":\"Grid\"},{\"id\":\"5db2746c-bc69-42cb-b7b3-d724354eae6a\",\"type\":\"LogAxis\"},{\"id\":\"1e455260-d457-418f-b15b-eaba24231dc7\",\"type\":\"Grid\"},{\"id\":\"4a23986f-3782-4548-8d99-0773891d9197\",\"type\":\"BoxAnnotation\"},{\"id\":\"a674d53e-efa7-4905-9f4b-a4f42505f9a1\",\"type\":\"GlyphRenderer\"},{\"id\":\"ca046907-b478-47f7-89ac-bf54b8b87bec\",\"type\":\"GlyphRenderer\"},{\"id\":\"1e229ca6-de1e-4c10-84ee-82158020be3e\",\"type\":\"GlyphRenderer\"},{\"id\":\"ca5631f7-e633-4507-9318-d655b93955a4\",\"type\":\"Legend\"}],\"title\":{\"id\":\"db58c59e-4021-4424-b4a7-928aa575e087\",\"type\":\"Title\"},\"toolbar\":{\"id\":\"675089bc-0da8-4181-9d48-7e80e276477d\",\"type\":\"Toolbar\"},\"toolbar_location\":null,\"x_range\":{\"id\":\"3680c082-d2c8-46c3-8372-2a186c4d2542\",\"type\":\"Range1d\"},\"x_scale\":{\"id\":\"30aa51cd-66d8-4998-b078-7fd11a7738bd\",\"type\":\"LinearScale\"},\"y_range\":{\"id\":\"204fce76-7eb6-4e0b-bdf6-46a2bc04d855\",\"type\":\"Range1d\"},\"y_scale\":{\"id\":\"53fafa3c-079b-41e9-a7dd-7616fe03861c\",\"type\":\"LogScale\"}},\"id\":\"8e511ade-f0ca-4653-b6d3-aa96938d7c9b\",\"subtype\":\"Figure\",\"type\":\"Plot\"},{\"attributes\":{},\"id\":\"282392a6-bf14-4415-b395-50bd9c16b317\",\"type\":\"Selection\"},{\"attributes\":{},\"id\":\"e0b1e902-ff52-4061-a561-467c4eb1531d\",\"type\":\"Selection\"},{\"attributes\":{},\"id\":\"916d91b0-1d8d-480d-99db-0b898ecd01d0\",\"type\":\"LinearScale\"},{\"attributes\":{\"bottom_units\":\"screen\",\"fill_alpha\":{\"value\":0.5},\"fill_color\":{\"value\":\"lightgrey\"},\"left_units\":\"screen\",\"level\":\"overlay\",\"line_alpha\":{\"value\":1.0},\"line_color\":{\"value\":\"black\"},\"line_dash\":[4,4],\"line_width\":{\"value\":2},\"plot\":null,\"render_mode\":\"css\",\"right_units\":\"screen\",\"top_units\":\"screen\"},\"id\":\"6104ee18-a012-4b9b-b8e2-1b5baaef85b1\",\"type\":\"BoxAnnotation\"},{\"attributes\":{\"callback\":null,\"end\":2.3135570711804605,\"start\":-0.22320708756646002},\"id\":\"b2962329-ee8d-4904-a82b-709e80634243\",\"type\":\"Range1d\"},{\"attributes\":{},\"id\":\"807e5146-5f2f-43b9-ad01-e8dc021439c2\",\"type\":\"Selection\"},{\"attributes\":{},\"id\":\"fab5aa79-3623-4d27-bf2a-5fc1bc4064db\",\"type\":\"SaveTool\"},{\"attributes\":{},\"id\":\"f524669d-a131-45a9-ae05-fc9260492f84\",\"type\":\"UnionRenderers\"},{\"attributes\":{},\"id\":\"60889d8e-bfda-4c2e-86cd-be435fc78b40\",\"type\":\"ResetTool\"},{\"attributes\":{\"plot\":null,\"text\":\"\"},\"id\":\"db58c59e-4021-4424-b4a7-928aa575e087\",\"type\":\"Title\"},{\"attributes\":{\"line_alpha\":0.6,\"line_color\":\"#377eb8\",\"line_dash\":[6],\"line_width\":5,\"x\":{\"field\":\"x\"},\"y\":{\"field\":\"y\"}},\"id\":\"67fbae0f-cf1d-4e31-ba27-43bf8b3df1e7\",\"type\":\"Line\"},{\"attributes\":{\"above\":[{\"id\":\"b957e267-907d-40a4-a4f2-958f961e6c83\",\"type\":\"Legend\"}],\"below\":[{\"id\":\"f56bdfa5-acb6-49af-831e-1d77b0427d19\",\"type\":\"LinearAxis\"}],\"left\":[{\"id\":\"dea1ff8a-9bc8-4de4-988d-67ceeb281834\",\"type\":\"LogAxis\"}],\"plot_width\":300,\"renderers\":[{\"id\":\"f56bdfa5-acb6-49af-831e-1d77b0427d19\",\"type\":\"LinearAxis\"},{\"id\":\"554f3266-e099-4b3b-a9a6-6334a395a1ed\",\"type\":\"Grid\"},{\"id\":\"dea1ff8a-9bc8-4de4-988d-67ceeb281834\",\"type\":\"LogAxis\"},{\"id\":\"bf54392d-2636-4ae9-9045-8c8723c02001\",\"type\":\"Grid\"},{\"id\":\"6104ee18-a012-4b9b-b8e2-1b5baaef85b1\",\"type\":\"BoxAnnotation\"},{\"id\":\"f70e5a4c-5ef1-4548-9f73-f4ae62dfa9b9\",\"type\":\"GlyphRenderer\"},{\"id\":\"25f75fee-42d9-4f31-b003-6f526a76d688\",\"type\":\"GlyphRenderer\"},{\"id\":\"b957e267-907d-40a4-a4f2-958f961e6c83\",\"type\":\"Legend\"}],\"title\":{\"id\":\"3619df8e-433c-473c-94b9-7fb26a8b99ee\",\"type\":\"Title\"},\"toolbar\":{\"id\":\"aae2b8c5-92e4-4f19-ac5a-8c6aed0d2bd3\",\"type\":\"Toolbar\"},\"toolbar_location\":null,\"x_range\":{\"id\":\"7a239d46-60c0-4852-9519-4c7f188c3391\",\"type\":\"Range1d\"},\"x_scale\":{\"id\":\"9a694574-f65b-4492-82a5-08c70310c1d8\",\"type\":\"LinearScale\"},\"y_range\":{\"id\":\"51e99178-2039-43a8-bfce-e82c8c4456b1\",\"type\":\"Range1d\"},\"y_scale\":{\"id\":\"74a2b7e4-6ef0-4d03-8936-cd75d43cc2f0\",\"type\":\"LogScale\"}},\"id\":\"67b02022-1401-438c-b123-7310b7b29573\",\"subtype\":\"Figure\",\"type\":\"Plot\"},{\"attributes\":{\"data_source\":{\"id\":\"30b52f10-8a8b-41ec-b72b-1b3d37a97a5e\",\"type\":\"ColumnDataSource\"},\"glyph\":{\"id\":\"67fbae0f-cf1d-4e31-ba27-43bf8b3df1e7\",\"type\":\"Line\"},\"hover_glyph\":null,\"muted_glyph\":null,\"nonselection_glyph\":{\"id\":\"2f8d9e0a-2289-425a-afb3-bd08c7f53b73\",\"type\":\"Line\"},\"selection_glyph\":null,\"view\":{\"id\":\"fcdd2305-6859-4a29-9645-52e00c4c2221\",\"type\":\"CDSView\"}},\"id\":\"a674d53e-efa7-4905-9f4b-a4f42505f9a1\",\"type\":\"GlyphRenderer\"},{\"attributes\":{\"callback\":null,\"end\":0.01,\"start\":1020},\"id\":\"d6e3728b-6853-4019-af2f-cb16819f28cf\",\"type\":\"Range1d\"},{\"attributes\":{},\"id\":\"805c67b7-4a65-45d0-8654-9c827a1f7f69\",\"type\":\"Selection\"},{\"attributes\":{},\"id\":\"d7adb8f9-4678-421b-88ce-daa01ea51ee7\",\"type\":\"HelpTool\"},{\"attributes\":{},\"id\":\"a6ff27b5-a536-4a7c-996d-087d2087587c\",\"type\":\"UnionRenderers\"},{\"attributes\":{\"overlay\":{\"id\":\"4a23986f-3782-4548-8d99-0773891d9197\",\"type\":\"BoxAnnotation\"}},\"id\":\"2e0b433e-c36f-473a-854b-4fff79c379ae\",\"type\":\"BoxZoomTool\"},{\"attributes\":{},\"id\":\"ffbbf2ef-8a6e-4460-8784-e7ef95b636d4\",\"type\":\"ResetTool\"},{\"attributes\":{\"active_drag\":\"auto\",\"active_inspect\":\"auto\",\"active_scroll\":\"auto\",\"active_tap\":\"auto\",\"tools\":[{\"id\":\"b8898710-7f54-43a8-a677-8a7e5d693ef9\",\"type\":\"PanTool\"},{\"id\":\"5cc60dc5-f7e1-41e0-8790-4b5a1521542e\",\"type\":\"WheelZoomTool\"},{\"id\":\"41352e33-48b9-4c91-8e3a-d3ac93453961\",\"type\":\"BoxZoomTool\"},{\"id\":\"3f69eb2f-336d-4a58-bb31-ab768efdd668\",\"type\":\"SaveTool\"},{\"id\":\"ffbbf2ef-8a6e-4460-8784-e7ef95b636d4\",\"type\":\"ResetTool\"},{\"id\":\"d7adb8f9-4678-421b-88ce-daa01ea51ee7\",\"type\":\"HelpTool\"}]},\"id\":\"aae2b8c5-92e4-4f19-ac5a-8c6aed0d2bd3\",\"type\":\"Toolbar\"},{\"attributes\":{\"line_alpha\":0.1,\"line_color\":\"#1f77b4\",\"line_dash\":[6],\"line_width\":5,\"x\":{\"field\":\"x\"},\"y\":{\"field\":\"y\"}},\"id\":\"2f8d9e0a-2289-425a-afb3-bd08c7f53b73\",\"type\":\"Line\"},{\"attributes\":{},\"id\":\"4aed89c1-8524-4352-b9ed-867e146f0694\",\"type\":\"HelpTool\"},{\"attributes\":{\"plot\":null,\"text\":\"\"},\"id\":\"3619df8e-433c-473c-94b9-7fb26a8b99ee\",\"type\":\"Title\"},{\"attributes\":{},\"id\":\"3f69eb2f-336d-4a58-bb31-ab768efdd668\",\"type\":\"SaveTool\"},{\"attributes\":{},\"id\":\"b95939af-64b9-4a20-aaaf-e414d54a8c8d\",\"type\":\"BasicTickFormatter\"},{\"attributes\":{\"children\":[{\"id\":\"f5f48d87-fdad-4abc-b55c-a154ac6235c5\",\"subtype\":\"Figure\",\"type\":\"Plot\"},{\"id\":\"8e511ade-f0ca-4653-b6d3-aa96938d7c9b\",\"subtype\":\"Figure\",\"type\":\"Plot\"},{\"id\":\"67b02022-1401-438c-b123-7310b7b29573\",\"subtype\":\"Figure\",\"type\":\"Plot\"}]},\"id\":\"4455417b-7e3c-4a8f-8c78-07577e6da758\",\"type\":\"Row\"},{\"attributes\":{\"overlay\":{\"id\":\"6104ee18-a012-4b9b-b8e2-1b5baaef85b1\",\"type\":\"BoxAnnotation\"}},\"id\":\"41352e33-48b9-4c91-8e3a-d3ac93453961\",\"type\":\"BoxZoomTool\"},{\"attributes\":{},\"id\":\"af6f1d33-cd88-4218-82d3-a603e2bc16dc\",\"type\":\"WheelZoomTool\"},{\"attributes\":{\"source\":{\"id\":\"d176058a-c02c-4475-85f2-e5f38ef2ac08\",\"type\":\"ColumnDataSource\"}},\"id\":\"1c41cefd-cbc8-4a43-b11f-9c647d0ae11f\",\"type\":\"CDSView\"},{\"attributes\":{\"source\":{\"id\":\"006bb9db-74be-4286-8d1c-28fc29567313\",\"type\":\"ColumnDataSource\"}},\"id\":\"6e32b5fe-7da3-49dd-861c-e91b8ae665e1\",\"type\":\"CDSView\"},{\"attributes\":{\"items\":[{\"id\":\"8f3cd53d-568b-485a-bee4-a459e0398940\",\"type\":\"LegendItem\"},{\"id\":\"4e3c0cec-1994-465b-b1a1-9e82eee746f9\",\"type\":\"LegendItem\"}],\"label_text_font_size\":{\"value\":\"8pt\"},\"location\":\"top_center\",\"orientation\":\"horizontal\",\"plot\":{\"id\":\"8e511ade-f0ca-4653-b6d3-aa96938d7c9b\",\"subtype\":\"Figure\",\"type\":\"Plot\"}},\"id\":\"ca5631f7-e633-4507-9318-d655b93955a4\",\"type\":\"Legend\"},{\"attributes\":{\"label\":{\"value\":\"CLIRAD (single-run)\"},\"renderers\":[{\"id\":\"5d00b9c1-ed7a-4f98-876b-2afd51e39abf\",\"type\":\"GlyphRenderer\"}]},\"id\":\"ca966843-1ef3-4f97-9821-e281c409479a\",\"type\":\"LegendItem\"},{\"attributes\":{},\"id\":\"d11d0201-8e6e-4c41-8108-adbd8d1903fe\",\"type\":\"UnionRenderers\"},{\"attributes\":{\"label\":{\"value\":\"CRD\"},\"renderers\":[{\"id\":\"ca046907-b478-47f7-89ac-bf54b8b87bec\",\"type\":\"GlyphRenderer\"},{\"id\":\"1e229ca6-de1e-4c10-84ee-82158020be3e\",\"type\":\"GlyphRenderer\"}]},\"id\":\"4e3c0cec-1994-465b-b1a1-9e82eee746f9\",\"type\":\"LegendItem\"},{\"attributes\":{\"axis_label\":\"cooling rate [K/day]\",\"formatter\":{\"id\":\"87184112-c9d0-43b7-b200-f42aa7583320\",\"type\":\"BasicTickFormatter\"},\"plot\":{\"id\":\"8e511ade-f0ca-4653-b6d3-aa96938d7c9b\",\"subtype\":\"Figure\",\"type\":\"Plot\"},\"ticker\":{\"id\":\"852a6bd3-404f-4beb-8401-e374dcc14cd0\",\"type\":\"BasicTicker\"}},\"id\":\"70d744d6-0894-4c85-8f73-ecc3a7a91cbc\",\"type\":\"LinearAxis\"},{\"attributes\":{},\"id\":\"30aa51cd-66d8-4998-b078-7fd11a7738bd\",\"type\":\"LinearScale\"},{\"attributes\":{\"source\":{\"id\":\"b2c7b11c-2926-4d47-b2d1-9e95ae4a0a7d\",\"type\":\"ColumnDataSource\"}},\"id\":\"31657df0-7408-48f5-9cfb-b80747ff87e8\",\"type\":\"CDSView\"},{\"attributes\":{\"dimension\":1,\"plot\":{\"id\":\"8e511ade-f0ca-4653-b6d3-aa96938d7c9b\",\"subtype\":\"Figure\",\"type\":\"Plot\"},\"ticker\":{\"id\":\"ee90e390-1fa3-499e-b76e-7300c617cc62\",\"type\":\"LogTicker\"}},\"id\":\"1e455260-d457-418f-b15b-eaba24231dc7\",\"type\":\"Grid\"},{\"attributes\":{\"plot\":{\"id\":\"8e511ade-f0ca-4653-b6d3-aa96938d7c9b\",\"subtype\":\"Figure\",\"type\":\"Plot\"},\"ticker\":{\"id\":\"852a6bd3-404f-4beb-8401-e374dcc14cd0\",\"type\":\"BasicTicker\"}},\"id\":\"1c6c64af-7e5d-4459-8182-8bec4920ef67\",\"type\":\"Grid\"},{\"attributes\":{},\"id\":\"53fafa3c-079b-41e9-a7dd-7616fe03861c\",\"type\":\"LogScale\"},{\"attributes\":{\"line_alpha\":0.1,\"line_color\":\"#1f77b4\",\"line_width\":1.5,\"x\":{\"field\":\"x\"},\"y\":{\"field\":\"y\"}},\"id\":\"28c6a1da-635a-4709-8ea3-e61770d2fba3\",\"type\":\"Line\"},{\"attributes\":{},\"id\":\"c0744190-bc68-4a87-99c6-200e2e9b2100\",\"type\":\"LinearScale\"},{\"attributes\":{\"fill_alpha\":{\"value\":0.7},\"fill_color\":{\"value\":\"#4daf4a\"},\"line_alpha\":{\"value\":0.7},\"line_color\":{\"value\":\"#4daf4a\"},\"x\":{\"field\":\"x\"},\"y\":{\"field\":\"y\"}},\"id\":\"fa905367-c88f-4800-a422-c58e7f4ac9cf\",\"type\":\"Circle\"},{\"attributes\":{\"callback\":null,\"end\":13.587992067591857,\"start\":-0.33483515683786},\"id\":\"3680c082-d2c8-46c3-8372-2a186c4d2542\",\"type\":\"Range1d\"},{\"attributes\":{\"data_source\":{\"id\":\"d176058a-c02c-4475-85f2-e5f38ef2ac08\",\"type\":\"ColumnDataSource\"},\"glyph\":{\"id\":\"92bc93c5-befd-4b12-8aac-2d427bb27021\",\"type\":\"Circle\"},\"hover_glyph\":null,\"muted_glyph\":null,\"nonselection_glyph\":{\"id\":\"2bff1966-b454-4bdb-bf02-fa48685d17bd\",\"type\":\"Circle\"},\"selection_glyph\":null,\"view\":{\"id\":\"1c41cefd-cbc8-4a43-b11f-9c647d0ae11f\",\"type\":\"CDSView\"}},\"id\":\"f70e5a4c-5ef1-4548-9f73-f4ae62dfa9b9\",\"type\":\"GlyphRenderer\"},{\"attributes\":{},\"id\":\"536505a8-14a5-4e68-bb98-451dc058274a\",\"type\":\"BasicTickFormatter\"},{\"attributes\":{\"source\":{\"id\":\"77a5eda0-1491-4e0f-8573-3350eb95ceee\",\"type\":\"ColumnDataSource\"}},\"id\":\"4270c6c1-6eb9-4dd2-b226-4c2a65e33d6e\",\"type\":\"CDSView\"},{\"attributes\":{\"data_source\":{\"id\":\"006bb9db-74be-4286-8d1c-28fc29567313\",\"type\":\"ColumnDataSource\"},\"glyph\":{\"id\":\"f9e17a08-5fa8-4870-b028-85c70f36b7da\",\"type\":\"Line\"},\"hover_glyph\":null,\"muted_glyph\":null,\"nonselection_glyph\":{\"id\":\"28c6a1da-635a-4709-8ea3-e61770d2fba3\",\"type\":\"Line\"},\"selection_glyph\":null,\"view\":{\"id\":\"6e32b5fe-7da3-49dd-861c-e91b8ae665e1\",\"type\":\"CDSView\"}},\"id\":\"2b599de4-d5d6-4441-83ca-999632223ab9\",\"type\":\"GlyphRenderer\"},{\"attributes\":{},\"id\":\"4923073e-8ac4-46c8-bc6e-7c77b326c0e7\",\"type\":\"BasicTicker\"},{\"attributes\":{\"label\":{\"value\":\"CLIRAD (single-run) - CRD\"},\"renderers\":[{\"id\":\"f70e5a4c-5ef1-4548-9f73-f4ae62dfa9b9\",\"type\":\"GlyphRenderer\"},{\"id\":\"25f75fee-42d9-4f31-b003-6f526a76d688\",\"type\":\"GlyphRenderer\"}]},\"id\":\"2564db2b-24bf-40e8-979d-94af569947d4\",\"type\":\"LegendItem\"},{\"attributes\":{\"data_source\":{\"id\":\"b2c7b11c-2926-4d47-b2d1-9e95ae4a0a7d\",\"type\":\"ColumnDataSource\"},\"glyph\":{\"id\":\"fa905367-c88f-4800-a422-c58e7f4ac9cf\",\"type\":\"Circle\"},\"hover_glyph\":null,\"muted_glyph\":null,\"nonselection_glyph\":{\"id\":\"b64c9d84-9b5e-465c-85fe-9a2c36bbebc3\",\"type\":\"Circle\"},\"selection_glyph\":null,\"view\":{\"id\":\"31657df0-7408-48f5-9cfb-b80747ff87e8\",\"type\":\"CDSView\"}},\"id\":\"b7929b4b-3ec3-46a0-8f4f-8aa040d8d071\",\"type\":\"GlyphRenderer\"},{\"attributes\":{\"data_source\":{\"id\":\"77a5eda0-1491-4e0f-8573-3350eb95ceee\",\"type\":\"ColumnDataSource\"},\"glyph\":{\"id\":\"f89f77f8-412a-4887-9751-22f0352a9de7\",\"type\":\"Line\"},\"hover_glyph\":null,\"muted_glyph\":null,\"nonselection_glyph\":{\"id\":\"7274d702-f191-41ca-b46f-1f089e5df2cd\",\"type\":\"Line\"},\"selection_glyph\":null,\"view\":{\"id\":\"4270c6c1-6eb9-4dd2-b226-4c2a65e33d6e\",\"type\":\"CDSView\"}},\"id\":\"5d00b9c1-ed7a-4f98-876b-2afd51e39abf\",\"type\":\"GlyphRenderer\"},{\"attributes\":{\"label\":{\"value\":\"CRD\"},\"renderers\":[{\"id\":\"b7929b4b-3ec3-46a0-8f4f-8aa040d8d071\",\"type\":\"GlyphRenderer\"},{\"id\":\"2b599de4-d5d6-4441-83ca-999632223ab9\",\"type\":\"GlyphRenderer\"}]},\"id\":\"14ae5ea9-16f7-41b7-9de2-49091b938294\",\"type\":\"LegendItem\"},{\"attributes\":{\"callback\":null,\"data\":{\"x\":{\"__ndarray__\":\"cm1sTMT3VEDEyvjosEJHQOKI6DjzCUNArgQWV9awPkB9Lm8XG3M4QEz+Qv6iYzNA7eV8HaPLLkCX1QHyTpMoQFBmYSYetiNAUB04GtGpH0AmFyVE5j8ZQJca9QPGqBNALJP+OOHHDEBNxaf7QF8AQKtislomWuw/cW2dcO6A9T/uJJvfPu0EQIaQLTI/JQ1AxGiII+PmEkCJvfVeuCsYQD6ZBhGbHB9AXQw69DTYJEAsubcwKucqQNuT9D5OmipAJyi3szEJJUBlNebh5WkgQDDcPHBr2xlArtlANXuQFEBdJadFHckQQI2Avh0ZsQtAjYiwt1rsBUCL0SDoVBgAQK6C0nEEjvc/CggLSme58T9sXU2orFPnP0v0JYz9Gdg/vT38vxYczD9nBQTe6kHHP1IhkEXJwKo/8OZnhCVAub+xtVgCpmqzP6DUpY6g0+k/PKK3T1h4+D8RTDjQc1EAQG/dAQs7TwJAQt2eHpPLAEBWEh074x//PyCap9ZSGf4/rEzaTySm/T+7aXhHRmr9P688KeqeNP0/ruZ4EemD/D8olrZcn9T7P0+vNc9hW/s/i9VVL+4P+z+0NzC24uz6P8731Kza8vo/xFf4SHzq+z+gYyHpvHb8P68ROkiFevw/BAjYdCga/D8AUp8VbW77P3JrF/nKmvo/qCQeGfq++T/dplwHJfn4P2G4p+Uva/g/OzZ0RqMZ+D8dmn/iar73P/OuA7Ka8PY/gaaeQHGn9T9hkyjAH1L0P3aZGhdAU/M/n8VP/g7P8j+90HxHNvfyPwhNBtgrqvk/\",\"dtype\":\"float64\",\"shape\":[75]},\"y\":{\"__ndarray__\":\"GhExyth1ND/Sv8nbtpRIP2vylNV0PVE/aTum7souWD/At0SJ8fVgPw3Iuahxymc/MSNhhJWvcD/bTfBN02d3P2zb5nxnaoA/CD5h5MAGhz8NmeH1TyaQP+zrCsc9p5Y/LbKd76fGnz/bLW5ISEmmPww9YvTcQq8/JV2OstnstT8Er5Y7M8G+P0c+r3jqkcU/5h99k6ZBzj88bCIzFzjVP4enV8oyxN0//yH99nXg5D8qOpLLf0jtP5kqGJXUifQ/c9cS8kHP/D+/DpwzojQEQIEmwoanVwxA4lgXt9HgE0BSSZ2AJuIbQAMJih9jjiNA5q4l5INuK0AwTKYKRj0zQNv5fmq8/DpAaCJseHrtQkB/+zpwzoxKQM3MzMzMeFJAZmZmZmZqWEAAAAAAAFxeQM3MzMzMJmJAmpmZmZkfZUBmZmZmZhhoQDMzMzMzEWtAAAAAAAAKbkBmZmZmZoFwQM3MzMzM/XFAMzMzMzN6c0CamZmZmfZ0QAAAAAAAc3ZAZmZmZmbvd0DNzMzMzGt5QDMzMzMz6HpAmpmZmZlkfEAAAAAAAOF9QGZmZmZmXX9AZmZmZuZsgECamZmZGSuBQM3MzMxM6YFAAAAAAICngkAzMzMzs2WDQGZmZmbmI4RAmpmZmRnihEDNzMzMTKCFQAAAAACAXoZAMzMzM7Mch0BmZmZm5tqHQJqZmZkZmYhAzczMzExXiUAAAAAAgBWKQDMzMzOz04pAZmZmZuaRi0CamZmZGVCMQM3MzMxMDo1AAAAAAIDMjUAzMzMzs4qOQGZmZmbmSI9A\",\"dtype\":\"float64\",\"shape\":[75]}},\"selected\":{\"id\":\"6f54c6ad-0ebe-48ae-8932-ac8265c304fd\",\"type\":\"Selection\"},\"selection_policy\":{\"id\":\"34abb7e8-3b19-4205-a78a-c4ae3660b21b\",\"type\":\"UnionRenderers\"}},\"id\":\"b2c7b11c-2926-4d47-b2d1-9e95ae4a0a7d\",\"type\":\"ColumnDataSource\"},{\"attributes\":{\"line_alpha\":0.6,\"line_color\":\"#377eb8\",\"line_dash\":[6],\"line_width\":5,\"x\":{\"field\":\"x\"},\"y\":{\"field\":\"y\"}},\"id\":\"f89f77f8-412a-4887-9751-22f0352a9de7\",\"type\":\"Line\"},{\"attributes\":{},\"id\":\"22246f9b-2127-4a07-bcdd-2c651d201df8\",\"type\":\"Selection\"},{\"attributes\":{\"callback\":null,\"end\":0.01,\"start\":1020},\"id\":\"51e99178-2039-43a8-bfce-e82c8c4456b1\",\"type\":\"Range1d\"},{\"attributes\":{\"callback\":null,\"data\":{\"x\":{\"__ndarray__\":\"FRQETjrXRUDWnCPW5RZDQIyH7qyy4kFAWX3YbF8+QEAY+Xtqbz88QLyGKPnbPDdAIAxeKo3pMUCERhrL1uUpQFY4aqncGiJA9xv6N8czGkCCy45z3dwUQE5dCmCftRFAVlvS2m9LDUD705OmEZUDQEiA9duN9fU/XgvU5pGO+j+hG49/cDIFQI/d2a5UDgtAclVA5xPgEEBaNfy5jhYWQJvu5nWI/B1AucEfnlPUJEDhdVuVcssqQGPun4Qg+ylALdKiCDJOJEBZaUuMGkcgQBZuu+83YxtAAsInDkIFFkCRoiFxXigRQNp1phAt4AtAHLIhQwkICEDlqkyrg8sCQAfURH6nBfo/3P2ndpVF8T8TEeWCt3nnP4Qtuh8i6Ns/PvfkezcSzT85P/B2YUfAP+OzCBCH/KK/e1u1Fxpjyb+/yCCDVdmDv9Qh8mpewuc/MukPY5p+9z+gbdyR8RYAQJi3lljLlwFA2GCTJsUGAEDHQqyyekP+P5isjrsIIv0/6koh27Rq/D9VnUrH0jv8P+ZeQG1kV/w/xQxkqFDu+z9jdSlVJnP7PwOyt3PPB/s/pq3wsk+9+j9W6t1Ibof6P680IUt1hfo/LhJVXoSb+z8eXnx2ZXz8PwlX1QWb/vw/3QbN6ZT9/D+cHQfn1V38P/YUl2y+Rvs/nd6jf0QW+j+1PJxzwf/4P9uwotV0bfg/FXmFSss8+D/b6twu4Df4P+7hEWM5tPc/Nx/GyPOk9j+/WveHFHT1Px+6o3b0iPQ/g/ZUEWER9D9mIX9GsET0PxMydhOT7/o/\",\"dtype\":\"float64\",\"shape\":[75]},\"y\":{\"__ndarray__\":\"GhExyth1ND/Sv8nbtpRIP2vylNV0PVE/aTum7souWD/At0SJ8fVgPw3Iuahxymc/MSNhhJWvcD/bTfBN02d3P2zb5nxnaoA/CD5h5MAGhz8NmeH1TyaQP+zrCsc9p5Y/LbKd76fGnz/bLW5ISEmmPww9YvTcQq8/JV2OstnstT8Er5Y7M8G+P0c+r3jqkcU/5h99k6ZBzj88bCIzFzjVP4enV8oyxN0//yH99nXg5D8qOpLLf0jtP5kqGJXUifQ/c9cS8kHP/D+/DpwzojQEQIEmwoanVwxA4lgXt9HgE0BSSZ2AJuIbQAMJih9jjiNA5q4l5INuK0AwTKYKRj0zQNv5fmq8/DpAaCJseHrtQkB/+zpwzoxKQM3MzMzMeFJAZmZmZmZqWEAAAAAAAFxeQM3MzMzMJmJAmpmZmZkfZUBmZmZmZhhoQDMzMzMzEWtAAAAAAAAKbkBmZmZmZoFwQM3MzMzM/XFAMzMzMzN6c0CamZmZmfZ0QAAAAAAAc3ZAZmZmZmbvd0DNzMzMzGt5QDMzMzMz6HpAmpmZmZlkfEAAAAAAAOF9QGZmZmZmXX9AZmZmZuZsgECamZmZGSuBQM3MzMxM6YFAAAAAAICngkAzMzMzs2WDQGZmZmbmI4RAmpmZmRnihEDNzMzMTKCFQAAAAACAXoZAMzMzM7Mch0BmZmZm5tqHQJqZmZkZmYhAzczMzExXiUAAAAAAgBWKQDMzMzOz04pAZmZmZuaRi0CamZmZGVCMQM3MzMxMDo1AAAAAAIDMjUAzMzMzs4qOQGZmZmbmSI9A\",\"dtype\":\"float64\",\"shape\":[75]}},\"selected\":{\"id\":\"22246f9b-2127-4a07-bcdd-2c651d201df8\",\"type\":\"Selection\"},\"selection_policy\":{\"id\":\"d11d0201-8e6e-4c41-8108-adbd8d1903fe\",\"type\":\"UnionRenderers\"}},\"id\":\"77a5eda0-1491-4e0f-8573-3350eb95ceee\",\"type\":\"ColumnDataSource\"},{\"attributes\":{\"axis_label\":\"pressure [mb]\",\"formatter\":{\"id\":\"4de27fc9-97ff-4449-894b-b6f7113f2f34\",\"type\":\"LogTickFormatter\"},\"plot\":{\"id\":\"8e511ade-f0ca-4653-b6d3-aa96938d7c9b\",\"subtype\":\"Figure\",\"type\":\"Plot\"},\"ticker\":{\"id\":\"ee90e390-1fa3-499e-b76e-7300c617cc62\",\"type\":\"LogTicker\"}},\"id\":\"5db2746c-bc69-42cb-b7b3-d724354eae6a\",\"type\":\"LogAxis\"},{\"attributes\":{},\"id\":\"852a6bd3-404f-4beb-8401-e374dcc14cd0\",\"type\":\"BasicTicker\"},{\"attributes\":{},\"id\":\"bea62f8a-e845-46e4-bb15-e796650bfc4d\",\"type\":\"BasicTickFormatter\"},{\"attributes\":{\"items\":[{\"id\":\"2564db2b-24bf-40e8-979d-94af569947d4\",\"type\":\"LegendItem\"}],\"label_text_font_size\":{\"value\":\"8pt\"},\"location\":\"top_center\",\"orientation\":\"horizontal\",\"plot\":{\"id\":\"67b02022-1401-438c-b123-7310b7b29573\",\"subtype\":\"Figure\",\"type\":\"Plot\"}},\"id\":\"b957e267-907d-40a4-a4f2-958f961e6c83\",\"type\":\"Legend\"},{\"attributes\":{\"axis_label\":\"pressure [mb]\",\"formatter\":{\"id\":\"536505a8-14a5-4e68-bb98-451dc058274a\",\"type\":\"BasicTickFormatter\"},\"plot\":{\"id\":\"f5f48d87-fdad-4abc-b55c-a154ac6235c5\",\"subtype\":\"Figure\",\"type\":\"Plot\"},\"ticker\":{\"id\":\"cc69b074-5036-4d43-8829-59273d6dc6f5\",\"type\":\"BasicTicker\"}},\"id\":\"3c401048-9591-4799-acfd-a76511122628\",\"type\":\"LinearAxis\"},{\"attributes\":{\"line_alpha\":0.1,\"line_color\":\"#1f77b4\",\"line_dash\":[6],\"line_width\":5,\"x\":{\"field\":\"x\"},\"y\":{\"field\":\"y\"}},\"id\":\"7274d702-f191-41ca-b46f-1f089e5df2cd\",\"type\":\"Line\"},{\"attributes\":{\"overlay\":{\"id\":\"7f2190b3-0539-45bd-8d52-418e9caf7c7a\",\"type\":\"BoxAnnotation\"}},\"id\":\"50c24266-9791-4c71-be68-51f19bdf27d0\",\"type\":\"BoxZoomTool\"},{\"attributes\":{\"data_source\":{\"id\":\"2235e338-776d-446c-9985-7923cacb13bd\",\"type\":\"ColumnDataSource\"},\"glyph\":{\"id\":\"b0174506-af02-4034-bb74-fae4aaca2784\",\"type\":\"Line\"},\"hover_glyph\":null,\"muted_glyph\":null,\"nonselection_glyph\":{\"id\":\"5355123f-18e6-4d1a-b03a-f0b38b30e1be\",\"type\":\"Line\"},\"selection_glyph\":null,\"view\":{\"id\":\"487ea424-0df3-49e0-9dfe-14ee992ba266\",\"type\":\"CDSView\"}},\"id\":\"25f75fee-42d9-4f31-b003-6f526a76d688\",\"type\":\"GlyphRenderer\"},{\"attributes\":{},\"id\":\"17fe6daa-4591-4ea9-907a-77f4e5b13a4e\",\"type\":\"PanTool\"},{\"attributes\":{\"children\":[{\"id\":\"4455417b-7e3c-4a8f-8c78-07577e6da758\",\"type\":\"Row\"}]},\"id\":\"4fc82865-077a-46d4-b8bd-d74d73210526\",\"type\":\"Column\"},{\"attributes\":{},\"id\":\"cc69b074-5036-4d43-8829-59273d6dc6f5\",\"type\":\"BasicTicker\"},{\"attributes\":{\"line_alpha\":0.1,\"line_color\":\"#1f77b4\",\"line_width\":1.5,\"x\":{\"field\":\"x\"},\"y\":{\"field\":\"y\"}},\"id\":\"5355123f-18e6-4d1a-b03a-f0b38b30e1be\",\"type\":\"Line\"},{\"attributes\":{},\"id\":\"ec257ea4-7512-4d5d-8487-30ce99872059\",\"type\":\"UnionRenderers\"},{\"attributes\":{},\"id\":\"82be1f67-c19c-4446-8d2d-2e83cbd4137c\",\"type\":\"Selection\"},{\"attributes\":{\"axis_label\":\"cooling rate [K/day]\",\"formatter\":{\"id\":\"b95939af-64b9-4a20-aaaf-e414d54a8c8d\",\"type\":\"BasicTickFormatter\"},\"plot\":{\"id\":\"67b02022-1401-438c-b123-7310b7b29573\",\"subtype\":\"Figure\",\"type\":\"Plot\"},\"ticker\":{\"id\":\"1b0df368-4f16-4bfa-ad98-5aa8c31b7fc4\",\"type\":\"BasicTicker\"}},\"id\":\"f56bdfa5-acb6-49af-831e-1d77b0427d19\",\"type\":\"LinearAxis\"},{\"attributes\":{},\"id\":\"34abb7e8-3b19-4205-a78a-c4ae3660b21b\",\"type\":\"UnionRenderers\"},{\"attributes\":{\"bottom_units\":\"screen\",\"fill_alpha\":{\"value\":0.5},\"fill_color\":{\"value\":\"lightgrey\"},\"left_units\":\"screen\",\"level\":\"overlay\",\"line_alpha\":{\"value\":1.0},\"line_color\":{\"value\":\"black\"},\"line_dash\":[4,4],\"line_width\":{\"value\":2},\"plot\":null,\"render_mode\":\"css\",\"right_units\":\"screen\",\"top_units\":\"screen\"},\"id\":\"7f2190b3-0539-45bd-8d52-418e9caf7c7a\",\"type\":\"BoxAnnotation\"},{\"attributes\":{},\"id\":\"bc3d4aff-7b45-4c39-b58e-3c9207097f6b\",\"type\":\"HelpTool\"},{\"attributes\":{},\"id\":\"1b0df368-4f16-4bfa-ad98-5aa8c31b7fc4\",\"type\":\"BasicTicker\"},{\"attributes\":{\"plot\":null,\"text\":\"\"},\"id\":\"d551c285-c68b-4e0d-9288-988d3ae6a345\",\"type\":\"Title\"},{\"attributes\":{\"children\":[{\"id\":\"b242057e-ea0e-4be2-91c1-4e99d9de1cf2\",\"type\":\"ToolbarBox\"},{\"id\":\"4fc82865-077a-46d4-b8bd-d74d73210526\",\"type\":\"Column\"}]},\"id\":\"f593f0ca-b02f-4f16-a75a-40633c609ae6\",\"type\":\"Column\"},{\"attributes\":{\"callback\":null,\"end\":0.01,\"start\":1020},\"id\":\"204fce76-7eb6-4e0b-bdf6-46a2bc04d855\",\"type\":\"Range1d\"},{\"attributes\":{},\"id\":\"9a694574-f65b-4492-82a5-08c70310c1d8\",\"type\":\"LinearScale\"},{\"attributes\":{\"line_color\":\"#4daf4a\",\"line_width\":1.5,\"x\":{\"field\":\"x\"},\"y\":{\"field\":\"y\"}},\"id\":\"f9e17a08-5fa8-4870-b028-85c70f36b7da\",\"type\":\"Line\"},{\"attributes\":{\"dimension\":1,\"plot\":{\"id\":\"f5f48d87-fdad-4abc-b55c-a154ac6235c5\",\"subtype\":\"Figure\",\"type\":\"Plot\"},\"ticker\":{\"id\":\"cc69b074-5036-4d43-8829-59273d6dc6f5\",\"type\":\"BasicTicker\"}},\"id\":\"5e10ebee-deb2-4391-b8bb-b47c2c55e912\",\"type\":\"Grid\"},{\"attributes\":{\"tools\":[{\"id\":\"17fe6daa-4591-4ea9-907a-77f4e5b13a4e\",\"type\":\"PanTool\"},{\"id\":\"a110c0c2-0860-403c-94d2-8130f659b42a\",\"type\":\"WheelZoomTool\"},{\"id\":\"50c24266-9791-4c71-be68-51f19bdf27d0\",\"type\":\"BoxZoomTool\"},{\"id\":\"5ead1ea3-09d7-4046-a68e-fa1708ce8c69\",\"type\":\"SaveTool\"},{\"id\":\"b19a6e8c-f81f-43a0-aff4-20f44a130ab1\",\"type\":\"ResetTool\"},{\"id\":\"bc3d4aff-7b45-4c39-b58e-3c9207097f6b\",\"type\":\"HelpTool\"},{\"id\":\"d427d114-d860-4bdf-bb60-003ecf88b88d\",\"type\":\"PanTool\"},{\"id\":\"af6f1d33-cd88-4218-82d3-a603e2bc16dc\",\"type\":\"WheelZoomTool\"},{\"id\":\"2e0b433e-c36f-473a-854b-4fff79c379ae\",\"type\":\"BoxZoomTool\"},{\"id\":\"fab5aa79-3623-4d27-bf2a-5fc1bc4064db\",\"type\":\"SaveTool\"},{\"id\":\"60889d8e-bfda-4c2e-86cd-be435fc78b40\",\"type\":\"ResetTool\"},{\"id\":\"4aed89c1-8524-4352-b9ed-867e146f0694\",\"type\":\"HelpTool\"},{\"id\":\"b8898710-7f54-43a8-a677-8a7e5d693ef9\",\"type\":\"PanTool\"},{\"id\":\"5cc60dc5-f7e1-41e0-8790-4b5a1521542e\",\"type\":\"WheelZoomTool\"},{\"id\":\"41352e33-48b9-4c91-8e3a-d3ac93453961\",\"type\":\"BoxZoomTool\"},{\"id\":\"3f69eb2f-336d-4a58-bb31-ab768efdd668\",\"type\":\"SaveTool\"},{\"id\":\"ffbbf2ef-8a6e-4460-8784-e7ef95b636d4\",\"type\":\"ResetTool\"},{\"id\":\"d7adb8f9-4678-421b-88ce-daa01ea51ee7\",\"type\":\"HelpTool\"}]},\"id\":\"a4411833-ff4d-4bc9-845b-25952b817943\",\"type\":\"ProxyToolbar\"},{\"attributes\":{},\"id\":\"a110c0c2-0860-403c-94d2-8130f659b42a\",\"type\":\"WheelZoomTool\"},{\"attributes\":{},\"id\":\"6f54c6ad-0ebe-48ae-8932-ac8265c304fd\",\"type\":\"Selection\"},{\"attributes\":{},\"id\":\"f33d43af-018c-4859-a14b-a3ec7661bc64\",\"type\":\"Selection\"},{\"attributes\":{},\"id\":\"b19a6e8c-f81f-43a0-aff4-20f44a130ab1\",\"type\":\"ResetTool\"},{\"attributes\":{\"callback\":null,\"end\":0.504962295764587,\"start\":-1.3837892505698874},\"id\":\"7a239d46-60c0-4852-9519-4c7f188c3391\",\"type\":\"Range1d\"},{\"attributes\":{\"toolbar\":{\"id\":\"a4411833-ff4d-4bc9-845b-25952b817943\",\"type\":\"ProxyToolbar\"},\"toolbar_location\":\"above\"},\"id\":\"b242057e-ea0e-4be2-91c1-4e99d9de1cf2\",\"type\":\"ToolbarBox\"},{\"attributes\":{},\"id\":\"5ead1ea3-09d7-4046-a68e-fa1708ce8c69\",\"type\":\"SaveTool\"},{\"attributes\":{\"callback\":null,\"data\":{\"x\":{\"__ndarray__\":\"cm1sTMT3VEDEyvjosEJHQOKI6DjzCUNArgQWV9awPkB9Lm8XG3M4QEz+Qv6iYzNA7eV8HaPLLkCX1QHyTpMoQFBmYSYetiNAUB04GtGpH0AmFyVE5j8ZQJca9QPGqBNALJP+OOHHDEBNxaf7QF8AQKtislomWuw/cW2dcO6A9T/uJJvfPu0EQIaQLTI/JQ1AxGiII+PmEkCJvfVeuCsYQD6ZBhGbHB9AXQw69DTYJEAsubcwKucqQNuT9D5OmipAJyi3szEJJUBlNebh5WkgQDDcPHBr2xlArtlANXuQFEBdJadFHckQQI2Avh0ZsQtAjYiwt1rsBUCL0SDoVBgAQK6C0nEEjvc/CggLSme58T9sXU2orFPnP0v0JYz9Gdg/vT38vxYczD9nBQTe6kHHP1IhkEXJwKo/8OZnhCVAub+xtVgCpmqzP6DUpY6g0+k/PKK3T1h4+D8RTDjQc1EAQG/dAQs7TwJAQt2eHpPLAEBWEh074x//PyCap9ZSGf4/rEzaTySm/T+7aXhHRmr9P688KeqeNP0/ruZ4EemD/D8olrZcn9T7P0+vNc9hW/s/i9VVL+4P+z+0NzC24uz6P8731Kza8vo/xFf4SHzq+z+gYyHpvHb8P68ROkiFevw/BAjYdCga/D8AUp8VbW77P3JrF/nKmvo/qCQeGfq++T/dplwHJfn4P2G4p+Uva/g/OzZ0RqMZ+D8dmn/iar73P/OuA7Ka8PY/gaaeQHGn9T9hkyjAH1L0P3aZGhdAU/M/n8VP/g7P8j+90HxHNvfyPwhNBtgrqvk/\",\"dtype\":\"float64\",\"shape\":[75]},\"y\":{\"__ndarray__\":\"GhExyth1ND/Sv8nbtpRIP2vylNV0PVE/aTum7souWD/At0SJ8fVgPw3Iuahxymc/MSNhhJWvcD/bTfBN02d3P2zb5nxnaoA/CD5h5MAGhz8NmeH1TyaQP+zrCsc9p5Y/LbKd76fGnz/bLW5ISEmmPww9YvTcQq8/JV2OstnstT8Er5Y7M8G+P0c+r3jqkcU/5h99k6ZBzj88bCIzFzjVP4enV8oyxN0//yH99nXg5D8qOpLLf0jtP5kqGJXUifQ/c9cS8kHP/D+/DpwzojQEQIEmwoanVwxA4lgXt9HgE0BSSZ2AJuIbQAMJih9jjiNA5q4l5INuK0AwTKYKRj0zQNv5fmq8/DpAaCJseHrtQkB/+zpwzoxKQM3MzMzMeFJAZmZmZmZqWEAAAAAAAFxeQM3MzMzMJmJAmpmZmZkfZUBmZmZmZhhoQDMzMzMzEWtAAAAAAAAKbkBmZmZmZoFwQM3MzMzM/XFAMzMzMzN6c0CamZmZmfZ0QAAAAAAAc3ZAZmZmZmbvd0DNzMzMzGt5QDMzMzMz6HpAmpmZmZlkfEAAAAAAAOF9QGZmZmZmXX9AZmZmZuZsgECamZmZGSuBQM3MzMxM6YFAAAAAAICngkAzMzMzs2WDQGZmZmbmI4RAmpmZmRnihEDNzMzMTKCFQAAAAACAXoZAMzMzM7Mch0BmZmZm5tqHQJqZmZkZmYhAzczMzExXiUAAAAAAgBWKQDMzMzOz04pAZmZmZuaRi0CamZmZGVCMQM3MzMxMDo1AAAAAAIDMjUAzMzMzs4qOQGZmZmbmSI9A\",\"dtype\":\"float64\",\"shape\":[75]}},\"selected\":{\"id\":\"807e5146-5f2f-43b9-ad01-e8dc021439c2\",\"type\":\"Selection\"},\"selection_policy\":{\"id\":\"f524669d-a131-45a9-ae05-fc9260492f84\",\"type\":\"UnionRenderers\"}},\"id\":\"006bb9db-74be-4286-8d1c-28fc29567313\",\"type\":\"ColumnDataSource\"},{\"attributes\":{\"source\":{\"id\":\"2235e338-776d-446c-9985-7923cacb13bd\",\"type\":\"ColumnDataSource\"}},\"id\":\"487ea424-0df3-49e0-9dfe-14ee992ba266\",\"type\":\"CDSView\"},{\"attributes\":{\"callback\":null,\"data\":{\"x\":{\"__ndarray__\":\"zcbUSk4YRMC/t1RLLK8gwGgVoL8IdALAc2CvKYi+/D/WVGaYomIOQINDLNfHyQ5ATcn83NwdBEDjDoeRfSjlP6Tfcs8XtOm/XgX4iCfY9b+PLllCI4zxv5TUqz5qMt+/QAV5OtRxsD94dWBXha7ZP8s7cbrqId8/tHfa2I021D/WrP38Z0yhP7qXnRpUt9C/jJpA4nk24L+GQcwnTangvx+q+rEpAdK/YCpV0rAKf7/6SkNcm7erv9qulEq35dO/IL+KYvVf178vB2bNqmWxv3ge6ffHfNg/UYVujm1M1z8fTZ/eStC3P/el+nP5iZc/d0yJW3Td0D/Qyl4ZdpnVP72KkmMYvcM/U4vC2HT0nL+30tlLbQVzP67JoZwkca4/YjAXfRfEfj+3GE+cJeqrv55qzCqo3ra/CNACqw6Gub/Lzryy0OW1v3CWnR0RirC/fCH3lL03r790OO8tH0Gdv+C6ZE327ba/BI1vAb+ZuL8H8hkOEY2rv+ywHWND6a6/KByQS/e2s79kxtwCOOeyvy+5G51Pp6u/Dj2bIg2zor9AMUjjQV6Yv+tSf9+W5JS/1vhJGZ+nlL8OV5NUG12Zv4zH8GxYWZu/nWXRqPq9k7/I/+lrNaJWPz6raLO3gqA/+dqfno5trD+mc/ksGu2tP3Iw9W9ufqU/ln1uoZnSlT/gYVf+sHFaP8DNw9d/J0I/3myhCAKUgT96L1QXU12eP4RfxiHWc6g/4xbvBFGwrz/ydex8TB+yP3YKkvhFW7M/Vg5TMCEltD+MCiXwn9e0P8lQ/rZzVrQ/\",\"dtype\":\"float64\",\"shape\":[75]},\"y\":{\"__ndarray__\":\"GhExyth1ND/Sv8nbtpRIP2vylNV0PVE/aTum7souWD/At0SJ8fVgPw3Iuahxymc/MSNhhJWvcD/bTfBN02d3P2zb5nxnaoA/CD5h5MAGhz8NmeH1TyaQP+zrCsc9p5Y/LbKd76fGnz/bLW5ISEmmPww9YvTcQq8/JV2OstnstT8Er5Y7M8G+P0c+r3jqkcU/5h99k6ZBzj88bCIzFzjVP4enV8oyxN0//yH99nXg5D8qOpLLf0jtP5kqGJXUifQ/c9cS8kHP/D+/DpwzojQEQIEmwoanVwxA4lgXt9HgE0BSSZ2AJuIbQAMJih9jjiNA5q4l5INuK0AwTKYKRj0zQNv5fmq8/DpAaCJseHrtQkB/+zpwzoxKQM3MzMzMeFJAZmZmZmZqWEAAAAAAAFxeQM3MzMzMJmJAmpmZmZkfZUBmZmZmZhhoQDMzMzMzEWtAAAAAAAAKbkBmZmZmZoFwQM3MzMzM/XFAMzMzMzN6c0CamZmZmfZ0QAAAAAAAc3ZAZmZmZmbvd0DNzMzMzGt5QDMzMzMz6HpAmpmZmZlkfEAAAAAAAOF9QGZmZmZmXX9AZmZmZuZsgECamZmZGSuBQM3MzMxM6YFAAAAAAICngkAzMzMzs2WDQGZmZmbmI4RAmpmZmRnihEDNzMzMTKCFQAAAAACAXoZAMzMzM7Mch0BmZmZm5tqHQJqZmZkZmYhAzczMzExXiUAAAAAAgBWKQDMzMzOz04pAZmZmZuaRi0CamZmZGVCMQM3MzMxMDo1AAAAAAIDMjUAzMzMzs4qOQGZmZmbmSI9A\",\"dtype\":\"float64\",\"shape\":[75]}},\"selected\":{\"id\":\"f33d43af-018c-4859-a14b-a3ec7661bc64\",\"type\":\"Selection\"},\"selection_policy\":{\"id\":\"ec257ea4-7512-4d5d-8487-30ce99872059\",\"type\":\"UnionRenderers\"}},\"id\":\"2235e338-776d-446c-9985-7923cacb13bd\",\"type\":\"ColumnDataSource\"},{\"attributes\":{\"line_alpha\":0.8,\"line_color\":\"#984ea3\",\"line_width\":1.5,\"x\":{\"field\":\"x\"},\"y\":{\"field\":\"y\"}},\"id\":\"b0174506-af02-4034-bb74-fae4aaca2784\",\"type\":\"Line\"},{\"attributes\":{\"callback\":null,\"data\":{\"x\":{\"__ndarray__\":\"zcbUSk4YRMC/t1RLLK8gwGgVoL8IdALAc2CvKYi+/D/WVGaYomIOQINDLNfHyQ5ATcn83NwdBEDjDoeRfSjlP6Tfcs8XtOm/XgX4iCfY9b+PLllCI4zxv5TUqz5qMt+/QAV5OtRxsD94dWBXha7ZP8s7cbrqId8/tHfa2I021D/WrP38Z0yhP7qXnRpUt9C/jJpA4nk24L+GQcwnTangvx+q+rEpAdK/YCpV0rAKf7/6SkNcm7erv9qulEq35dO/IL+KYvVf178vB2bNqmWxv3ge6ffHfNg/UYVujm1M1z8fTZ/eStC3P/el+nP5iZc/d0yJW3Td0D/Qyl4ZdpnVP72KkmMYvcM/U4vC2HT0nL+30tlLbQVzP67JoZwkca4/YjAXfRfEfj+3GE+cJeqrv55qzCqo3ra/CNACqw6Gub/Lzryy0OW1v3CWnR0RirC/fCH3lL03r790OO8tH0Gdv+C6ZE327ba/BI1vAb+ZuL8H8hkOEY2rv+ywHWND6a6/KByQS/e2s79kxtwCOOeyvy+5G51Pp6u/Dj2bIg2zor9AMUjjQV6Yv+tSf9+W5JS/1vhJGZ+nlL8OV5NUG12Zv4zH8GxYWZu/nWXRqPq9k7/I/+lrNaJWPz6raLO3gqA/+dqfno5trD+mc/ksGu2tP3Iw9W9ufqU/ln1uoZnSlT/gYVf+sHFaP8DNw9d/J0I/3myhCAKUgT96L1QXU12eP4RfxiHWc6g/4xbvBFGwrz/ydex8TB+yP3YKkvhFW7M/Vg5TMCEltD+MCiXwn9e0P8lQ/rZzVrQ/\",\"dtype\":\"float64\",\"shape\":[75]},\"y\":{\"__ndarray__\":\"GhExyth1ND/Sv8nbtpRIP2vylNV0PVE/aTum7souWD/At0SJ8fVgPw3Iuahxymc/MSNhhJWvcD/bTfBN02d3P2zb5nxnaoA/CD5h5MAGhz8NmeH1TyaQP+zrCsc9p5Y/LbKd76fGnz/bLW5ISEmmPww9YvTcQq8/JV2OstnstT8Er5Y7M8G+P0c+r3jqkcU/5h99k6ZBzj88bCIzFzjVP4enV8oyxN0//yH99nXg5D8qOpLLf0jtP5kqGJXUifQ/c9cS8kHP/D+/DpwzojQEQIEmwoanVwxA4lgXt9HgE0BSSZ2AJuIbQAMJih9jjiNA5q4l5INuK0AwTKYKRj0zQNv5fmq8/DpAaCJseHrtQkB/+zpwzoxKQM3MzMzMeFJAZmZmZmZqWEAAAAAAAFxeQM3MzMzMJmJAmpmZmZkfZUBmZmZmZhhoQDMzMzMzEWtAAAAAAAAKbkBmZmZmZoFwQM3MzMzM/XFAMzMzMzN6c0CamZmZmfZ0QAAAAAAAc3ZAZmZmZmbvd0DNzMzMzGt5QDMzMzMz6HpAmpmZmZlkfEAAAAAAAOF9QGZmZmZmXX9AZmZmZuZsgECamZmZGSuBQM3MzMxM6YFAAAAAAICngkAzMzMzs2WDQGZmZmbmI4RAmpmZmRnihEDNzMzMTKCFQAAAAACAXoZAMzMzM7Mch0BmZmZm5tqHQJqZmZkZmYhAzczMzExXiUAAAAAAgBWKQDMzMzOz04pAZmZmZuaRi0CamZmZGVCMQM3MzMxMDo1AAAAAAIDMjUAzMzMzs4qOQGZmZmbmSI9A\",\"dtype\":\"float64\",\"shape\":[75]}},\"selected\":{\"id\":\"82be1f67-c19c-4446-8d2d-2e83cbd4137c\",\"type\":\"Selection\"},\"selection_policy\":{\"id\":\"aa4688c4-369a-4919-a834-53ebdbf2d072\",\"type\":\"UnionRenderers\"}},\"id\":\"d176058a-c02c-4475-85f2-e5f38ef2ac08\",\"type\":\"ColumnDataSource\"},{\"attributes\":{\"fill_alpha\":{\"value\":0.1},\"fill_color\":{\"value\":\"#1f77b4\"},\"line_alpha\":{\"value\":0.1},\"line_color\":{\"value\":\"#1f77b4\"},\"x\":{\"field\":\"x\"},\"y\":{\"field\":\"y\"}},\"id\":\"b64c9d84-9b5e-465c-85fe-9a2c36bbebc3\",\"type\":\"Circle\"}],\"root_ids\":[\"f593f0ca-b02f-4f16-a75a-40633c609ae6\"]},\"title\":\"Bokeh Application\",\"version\":\"0.12.16\"}};\n",
       "  var render_items = [{\"docid\":\"31b3c42e-5875-4008-aaf6-14b37cea5852\",\"elementid\":\"47bdf6e4-1910-427c-bc6a-e8819fcffc7a\",\"modelid\":\"f593f0ca-b02f-4f16-a75a-40633c609ae6\"}];\n",
       "  root.Bokeh.embed.embed_items_notebook(docs_json, render_items);\n",
       "\n",
       "  }\n",
       "  if (root.Bokeh !== undefined) {\n",
       "    embed_document(root);\n",
       "  } else {\n",
       "    var attempts = 0;\n",
       "    var timer = setInterval(function(root) {\n",
       "      if (root.Bokeh !== undefined) {\n",
       "        embed_document(root);\n",
       "        clearInterval(timer);\n",
       "      }\n",
       "      attempts++;\n",
       "      if (attempts > 100) {\n",
       "        console.log(\"Bokeh: ERROR: Unable to run BokehJS code because BokehJS library is missing\")\n",
       "        clearInterval(timer);\n",
       "      }\n",
       "    }, 10, root)\n",
       "  }\n",
       "})(window);"
      ],
      "application/vnd.bokehjs_exec.v0+json": ""
     },
     "metadata": {
      "application/vnd.bokehjs_exec.v0+json": {
       "id": "f593f0ca-b02f-4f16-a75a-40633c609ae6"
      }
     },
     "output_type": "display_data"
    },
    {
     "data": {
      "text/markdown": [
       "*FIGURE.* Cooling rates & difference."
      ],
      "text/plain": [
       "<IPython.core.display.Markdown object>"
      ]
     },
     "metadata": {},
     "output_type": "display_data"
    },
    {
     "data": {
      "text/html": [
       "<a id=\"Fluxes._mls.\"></a>"
      ],
      "text/plain": [
       "<IPython.core.display.HTML object>"
      ]
     },
     "metadata": {},
     "output_type": "display_data"
    },
    {
     "data": {
      "text/markdown": [
       "# Fluxes. mls."
      ],
      "text/plain": [
       "<IPython.core.display.Markdown object>"
      ]
     },
     "metadata": {},
     "output_type": "display_data"
    },
    {
     "data": {
      "text/html": [
       "\n",
       "<div class=\"bk-root\">\n",
       "    <div class=\"bk-plotdiv\" id=\"52a25c0f-c363-48fe-921d-044d58240421\"></div>\n",
       "</div>"
      ]
     },
     "metadata": {},
     "output_type": "display_data"
    },
    {
     "data": {
      "application/javascript": [
       "(function(root) {\n",
       "  function embed_document(root) {\n",
       "    \n",
       "  var docs_json = {\"16f99833-731d-4abd-81ac-046f0df95b18\":{\"roots\":{\"references\":[{\"attributes\":{},\"id\":\"ca3efe4e-cc66-403c-ac34-9dce93dac095\",\"type\":\"Selection\"},{\"attributes\":{},\"id\":\"970f4a21-5796-4683-bd81-b434e746720b\",\"type\":\"BasicTickFormatter\"},{\"attributes\":{\"children\":[{\"id\":\"fde3f178-59c9-4d83-80bf-f919c4cf2f03\",\"subtype\":\"Figure\",\"type\":\"Plot\"},{\"id\":\"f5eb9397-37c8-468e-b187-8e61439f9126\",\"subtype\":\"Figure\",\"type\":\"Plot\"},{\"id\":\"b23e3d5d-cbdf-43a7-9a11-c12fda22cbe6\",\"subtype\":\"Figure\",\"type\":\"Plot\"}]},\"id\":\"11c9b25c-aa70-4d78-8eed-f6a79d144f1c\",\"type\":\"Row\"},{\"attributes\":{},\"id\":\"8b18419f-7962-451d-bd76-d00c0299a524\",\"type\":\"UnionRenderers\"},{\"attributes\":{},\"id\":\"e07f101e-1b71-407f-ae26-21ed8a899c2f\",\"type\":\"PanTool\"},{\"attributes\":{},\"id\":\"d6e4349b-d93f-4daf-a72e-1beeab16d1eb\",\"type\":\"CategoricalTickFormatter\"},{\"attributes\":{},\"id\":\"021061bf-15ec-40f7-9d79-f8f457f24122\",\"type\":\"UnionRenderers\"},{\"attributes\":{\"tools\":[{\"id\":\"2828b2e1-1205-4f99-bd20-459c190c9d13\",\"type\":\"PanTool\"},{\"id\":\"8285bfb2-80f5-4973-8d01-720c8615e2c6\",\"type\":\"WheelZoomTool\"},{\"id\":\"98a0b33a-62fa-429f-a0ed-b11d55b35922\",\"type\":\"BoxZoomTool\"},{\"id\":\"72c2e89d-7f4f-47ba-82d9-2686547511d6\",\"type\":\"SaveTool\"},{\"id\":\"41d625ba-a3d3-4c0d-8a05-de52e52ccc21\",\"type\":\"ResetTool\"},{\"id\":\"2436fe42-9585-4459-8cf4-4bfa087c5593\",\"type\":\"HelpTool\"},{\"id\":\"e07f101e-1b71-407f-ae26-21ed8a899c2f\",\"type\":\"PanTool\"},{\"id\":\"288f9d0f-e53a-4556-8927-4da9b51f33db\",\"type\":\"WheelZoomTool\"},{\"id\":\"f6ed2ed7-0675-454d-8de9-1d022486914e\",\"type\":\"BoxZoomTool\"},{\"id\":\"c8eb76fe-72b3-479a-9007-213513f41317\",\"type\":\"SaveTool\"},{\"id\":\"2bf29be2-20dd-4895-a556-7ee3189d6733\",\"type\":\"ResetTool\"},{\"id\":\"fbdc590e-9bd1-47ec-92c7-1781d4e4cf4b\",\"type\":\"HelpTool\"},{\"id\":\"29d39a23-14e6-4335-990d-3a49d4e943ce\",\"type\":\"PanTool\"},{\"id\":\"b9aab78d-6c1f-40e3-b2e6-72134a7b6ef1\",\"type\":\"WheelZoomTool\"},{\"id\":\"4c04e226-7459-4d62-bc78-d5dc08d4e541\",\"type\":\"BoxZoomTool\"},{\"id\":\"fd6dd143-d4ab-48e1-a196-d0803096fdcb\",\"type\":\"SaveTool\"},{\"id\":\"a2fceea0-3fef-44dd-8d68-c788dcc85ccf\",\"type\":\"ResetTool\"},{\"id\":\"400b89f0-6c83-4688-8b36-dcaee6d0520e\",\"type\":\"HelpTool\"}]},\"id\":\"30f5d96a-2cf5-4811-962a-3e4c422ef3e1\",\"type\":\"ProxyToolbar\"},{\"attributes\":{\"source\":{\"id\":\"2b1c0c60-cb2f-4206-b188-51c8d5be5c09\",\"type\":\"ColumnDataSource\"}},\"id\":\"54059b80-6f40-40db-b31e-cee5e0c9ab87\",\"type\":\"CDSView\"},{\"attributes\":{\"overlay\":{\"id\":\"93605e56-fd6a-4122-8e61-681de09ea1e9\",\"type\":\"BoxAnnotation\"}},\"id\":\"4c04e226-7459-4d62-bc78-d5dc08d4e541\",\"type\":\"BoxZoomTool\"},{\"attributes\":{},\"id\":\"29d39a23-14e6-4335-990d-3a49d4e943ce\",\"type\":\"PanTool\"},{\"attributes\":{\"children\":[{\"id\":\"310912e8-7ee6-4c1a-92d1-fd487c0f9142\",\"type\":\"ToolbarBox\"},{\"id\":\"f9acba39-c068-44d9-b54c-09f378e3c0fd\",\"type\":\"Column\"}]},\"id\":\"c330d49b-81b6-4d2c-8275-01b2d04e9a1f\",\"type\":\"Column\"},{\"attributes\":{},\"id\":\"02747287-ae21-49fa-b03d-4549010a7783\",\"type\":\"Selection\"},{\"attributes\":{},\"id\":\"b9aab78d-6c1f-40e3-b2e6-72134a7b6ef1\",\"type\":\"WheelZoomTool\"},{\"attributes\":{\"bottom_units\":\"screen\",\"fill_alpha\":{\"value\":0.5},\"fill_color\":{\"value\":\"lightgrey\"},\"left_units\":\"screen\",\"level\":\"overlay\",\"line_alpha\":{\"value\":1.0},\"line_color\":{\"value\":\"black\"},\"line_dash\":[4,4],\"line_width\":{\"value\":2},\"plot\":null,\"render_mode\":\"css\",\"right_units\":\"screen\",\"top_units\":\"screen\"},\"id\":\"93605e56-fd6a-4122-8e61-681de09ea1e9\",\"type\":\"BoxAnnotation\"},{\"attributes\":{},\"id\":\"288f9d0f-e53a-4556-8927-4da9b51f33db\",\"type\":\"WheelZoomTool\"},{\"attributes\":{\"toolbar\":{\"id\":\"30f5d96a-2cf5-4811-962a-3e4c422ef3e1\",\"type\":\"ProxyToolbar\"},\"toolbar_location\":\"above\"},\"id\":\"310912e8-7ee6-4c1a-92d1-fd487c0f9142\",\"type\":\"ToolbarBox\"},{\"attributes\":{\"dimension\":1,\"plot\":{\"id\":\"f5eb9397-37c8-468e-b187-8e61439f9126\",\"subtype\":\"Figure\",\"type\":\"Plot\"},\"ticker\":{\"id\":\"5e146126-7e18-4cf8-ae28-c16bf62ee2d0\",\"type\":\"BasicTicker\"}},\"id\":\"a60958d1-6d85-4f89-8ee1-ca455e5c8b13\",\"type\":\"Grid\"},{\"attributes\":{},\"id\":\"a2fceea0-3fef-44dd-8d68-c788dcc85ccf\",\"type\":\"ResetTool\"},{\"attributes\":{\"plot\":null,\"text\":\"TOA flux. CLIRAD (single-run) - CRD.\"},\"id\":\"392bbb31-a902-4c1b-89e5-714fd57a69ff\",\"type\":\"Title\"},{\"attributes\":{\"dimension\":1,\"plot\":{\"id\":\"fde3f178-59c9-4d83-80bf-f919c4cf2f03\",\"subtype\":\"Figure\",\"type\":\"Plot\"},\"ticker\":{\"id\":\"a30db8c9-1f5d-4b30-9ea5-d50f1c750b64\",\"type\":\"BasicTicker\"}},\"id\":\"1784b8a4-a0cc-495e-bae9-5071f8fd0b55\",\"type\":\"Grid\"},{\"attributes\":{\"overlay\":{\"id\":\"87399bae-d30b-442e-9916-c588b884f697\",\"type\":\"BoxAnnotation\"}},\"id\":\"f6ed2ed7-0675-454d-8de9-1d022486914e\",\"type\":\"BoxZoomTool\"},{\"attributes\":{\"plot\":{\"id\":\"f5eb9397-37c8-468e-b187-8e61439f9126\",\"subtype\":\"Figure\",\"type\":\"Plot\"},\"ticker\":{\"id\":\"fc3d4bb4-e444-4d4e-84e2-2334ba1e6275\",\"type\":\"CategoricalTicker\"}},\"id\":\"1a382d6b-828a-4bd0-9f1a-f7c41b3bb611\",\"type\":\"Grid\"},{\"attributes\":{},\"id\":\"5e146126-7e18-4cf8-ae28-c16bf62ee2d0\",\"type\":\"BasicTicker\"},{\"attributes\":{},\"id\":\"477975b1-2a7a-46ff-9363-8260471ae7db\",\"type\":\"CategoricalTickFormatter\"},{\"attributes\":{},\"id\":\"fbdc590e-9bd1-47ec-92c7-1781d4e4cf4b\",\"type\":\"HelpTool\"},{\"attributes\":{},\"id\":\"5a63c0c6-aaa4-42fa-9aed-3edd2d4e13c6\",\"type\":\"UnionRenderers\"},{\"attributes\":{},\"id\":\"fd6dd143-d4ab-48e1-a196-d0803096fdcb\",\"type\":\"SaveTool\"},{\"attributes\":{\"bottom_units\":\"screen\",\"fill_alpha\":{\"value\":0.5},\"fill_color\":{\"value\":\"lightgrey\"},\"left_units\":\"screen\",\"level\":\"overlay\",\"line_alpha\":{\"value\":1.0},\"line_color\":{\"value\":\"black\"},\"line_dash\":[4,4],\"line_width\":{\"value\":2},\"plot\":null,\"render_mode\":\"css\",\"right_units\":\"screen\",\"top_units\":\"screen\"},\"id\":\"87399bae-d30b-442e-9916-c588b884f697\",\"type\":\"BoxAnnotation\"},{\"attributes\":{\"children\":[{\"id\":\"11c9b25c-aa70-4d78-8eed-f6a79d144f1c\",\"type\":\"Row\"}]},\"id\":\"f9acba39-c068-44d9-b54c-09f378e3c0fd\",\"type\":\"Column\"},{\"attributes\":{},\"id\":\"c8eb76fe-72b3-479a-9007-213513f41317\",\"type\":\"SaveTool\"},{\"attributes\":{},\"id\":\"25d49f4f-7770-4389-9baf-7ca7cd306a53\",\"type\":\"BasicTickFormatter\"},{\"attributes\":{\"fill_color\":{\"value\":\"#1f77b4\"},\"line_color\":{\"value\":\"#1f77b4\"},\"top\":{\"field\":\"flux\"},\"width\":{\"value\":0.9},\"x\":{\"field\":\"band\"}},\"id\":\"5106e7fa-3ac9-4559-b93c-d8f0702910ef\",\"type\":\"VBar\"},{\"attributes\":{},\"id\":\"f49babd1-6aa8-4a74-b8c7-fe0490acbb79\",\"type\":\"Selection\"},{\"attributes\":{},\"id\":\"10733c6b-2080-4821-9b10-32d342772f2e\",\"type\":\"BasicTickFormatter\"},{\"attributes\":{},\"id\":\"400b89f0-6c83-4688-8b36-dcaee6d0520e\",\"type\":\"HelpTool\"},{\"attributes\":{},\"id\":\"fc3d4bb4-e444-4d4e-84e2-2334ba1e6275\",\"type\":\"CategoricalTicker\"},{\"attributes\":{},\"id\":\"2bf29be2-20dd-4895-a556-7ee3189d6733\",\"type\":\"ResetTool\"},{\"attributes\":{\"data_source\":{\"id\":\"4ad04c4b-46ae-4bc9-84dc-78a112d95ea2\",\"type\":\"ColumnDataSource\"},\"glyph\":{\"id\":\"5106e7fa-3ac9-4559-b93c-d8f0702910ef\",\"type\":\"VBar\"},\"hover_glyph\":null,\"muted_glyph\":null,\"nonselection_glyph\":{\"id\":\"c6cb52ec-9c03-45d6-b73b-ea69362afd2b\",\"type\":\"VBar\"},\"selection_glyph\":null,\"view\":{\"id\":\"86b47668-270e-4bf7-b4cb-bf599e19eaff\",\"type\":\"CDSView\"}},\"id\":\"6543eaec-3195-469c-b727-fd3ef02402c9\",\"type\":\"GlyphRenderer\"},{\"attributes\":{\"below\":[{\"id\":\"513b7175-be5c-4633-a9a5-992170645ded\",\"type\":\"CategoricalAxis\"}],\"left\":[{\"id\":\"3cdd8c20-dc24-4350-84d1-ec1104c48beb\",\"type\":\"LinearAxis\"}],\"plot_height\":300,\"plot_width\":300,\"renderers\":[{\"id\":\"513b7175-be5c-4633-a9a5-992170645ded\",\"type\":\"CategoricalAxis\"},{\"id\":\"87343260-d987-4dd4-a5ac-f8a48393a64a\",\"type\":\"Grid\"},{\"id\":\"3cdd8c20-dc24-4350-84d1-ec1104c48beb\",\"type\":\"LinearAxis\"},{\"id\":\"1784b8a4-a0cc-495e-bae9-5071f8fd0b55\",\"type\":\"Grid\"},{\"id\":\"3792dbbc-efca-495a-ae45-8ecbe82ba9b3\",\"type\":\"BoxAnnotation\"},{\"id\":\"f395107d-cba2-45d5-86a2-59bb775bf36e\",\"type\":\"GlyphRenderer\"}],\"title\":{\"id\":\"392bbb31-a902-4c1b-89e5-714fd57a69ff\",\"type\":\"Title\"},\"toolbar\":{\"id\":\"59033980-39b0-4663-b2a9-fcb8f1d415c9\",\"type\":\"Toolbar\"},\"toolbar_location\":null,\"x_range\":{\"id\":\"3dae48da-395c-4739-b699-23a9136ddebd\",\"type\":\"FactorRange\"},\"x_scale\":{\"id\":\"5302ca36-a9ee-48b4-acc2-94e98809d4f4\",\"type\":\"CategoricalScale\"},\"y_range\":{\"id\":\"dfe3f312-19a4-434b-998b-86cfc4531955\",\"type\":\"DataRange1d\"},\"y_scale\":{\"id\":\"2d099152-0789-4eca-9d70-f543de0d82aa\",\"type\":\"LinearScale\"}},\"id\":\"fde3f178-59c9-4d83-80bf-f919c4cf2f03\",\"subtype\":\"Figure\",\"type\":\"Plot\"},{\"attributes\":{\"callback\":null,\"data\":{\"band\":[\"1\",\"2\",\"3\",\"4\",\"5\",\"6\",\"7\",\"8\",\"9\",\"10\",\"11\"],\"flux\":{\"__ndarray__\":\"AAAAAyUF9r4AgsR29wDYPwCfjzLiAtO/AFBWDFcHsD8AYMsr19vfPwDchqzJrrM/AEwuIXqtlz9gN3gVCPHBvwBuhhvw+cU/AKBF71TAjT8ArDGNy12APw==\",\"dtype\":\"float64\",\"shape\":[11]}},\"selected\":{\"id\":\"ca3efe4e-cc66-403c-ac34-9dce93dac095\",\"type\":\"Selection\"},\"selection_policy\":{\"id\":\"8b18419f-7962-451d-bd76-d00c0299a524\",\"type\":\"UnionRenderers\"}},\"id\":\"4ad04c4b-46ae-4bc9-84dc-78a112d95ea2\",\"type\":\"ColumnDataSource\"},{\"attributes\":{},\"id\":\"9e8ff8c6-ce96-4c1a-b5cf-8e5d15eed3c5\",\"type\":\"CategoricalScale\"},{\"attributes\":{\"callback\":null},\"id\":\"cbc486b0-8035-4f43-b0b1-91502f396f38\",\"type\":\"DataRange1d\"},{\"attributes\":{\"data_source\":{\"id\":\"8242445c-e970-4365-bad0-0c1b1a0f0cf4\",\"type\":\"ColumnDataSource\"},\"glyph\":{\"id\":\"49e4b81d-14f0-4c25-ab67-a110f3f40216\",\"type\":\"VBar\"},\"hover_glyph\":null,\"muted_glyph\":null,\"nonselection_glyph\":{\"id\":\"5a142e6e-e868-4f35-8382-d90a9e70121f\",\"type\":\"VBar\"},\"selection_glyph\":null,\"view\":{\"id\":\"1faa4709-d52e-421e-8cab-c192cd1abe6f\",\"type\":\"CDSView\"}},\"id\":\"f395107d-cba2-45d5-86a2-59bb775bf36e\",\"type\":\"GlyphRenderer\"},{\"attributes\":{},\"id\":\"8285bfb2-80f5-4973-8d01-720c8615e2c6\",\"type\":\"WheelZoomTool\"},{\"attributes\":{},\"id\":\"89ef1966-975a-46d4-928d-15b497574a76\",\"type\":\"LinearScale\"},{\"attributes\":{},\"id\":\"a30db8c9-1f5d-4b30-9ea5-d50f1c750b64\",\"type\":\"BasicTicker\"},{\"attributes\":{},\"id\":\"c27e7a82-97b5-4dc9-bea3-e401ed7b73dc\",\"type\":\"LinearScale\"},{\"attributes\":{},\"id\":\"565f71f2-90af-4e5d-8b6e-ee944dbe1fa4\",\"type\":\"CategoricalTickFormatter\"},{\"attributes\":{\"fill_color\":{\"value\":\"#1f77b4\"},\"line_color\":{\"value\":\"#1f77b4\"},\"top\":{\"field\":\"flux\"},\"width\":{\"value\":0.9},\"x\":{\"field\":\"band\"}},\"id\":\"b1827bf3-82a1-4b71-a968-0aae3e02220c\",\"type\":\"VBar\"},{\"attributes\":{\"callback\":null,\"data\":{\"band\":[\"1\",\"2\",\"3\",\"4\",\"5\",\"6\",\"7\",\"8\",\"9\",\"10\",\"11\"],\"flux\":{\"__ndarray__\":\"AIMde81dyD8AYEI3wVi1vwDYAox4/Ii/gF6tJMO7zj/APGNfsvHOvwAAiSZQxMK/gIzWUdUE1z8A5hw8E5qkP8AoB7MJMMi/QL8FwBXcvT+AeTwtP3CtPw==\",\"dtype\":\"float64\",\"shape\":[11]}},\"selected\":{\"id\":\"02747287-ae21-49fa-b03d-4549010a7783\",\"type\":\"Selection\"},\"selection_policy\":{\"id\":\"5a63c0c6-aaa4-42fa-9aed-3edd2d4e13c6\",\"type\":\"UnionRenderers\"}},\"id\":\"2b1c0c60-cb2f-4206-b188-51c8d5be5c09\",\"type\":\"ColumnDataSource\"},{\"attributes\":{\"callback\":null,\"factors\":[\"1\",\"2\",\"3\",\"4\",\"5\",\"6\",\"7\",\"8\",\"9\",\"10\",\"11\"]},\"id\":\"dacb486f-bf1d-45bf-9ac1-e7355793f70f\",\"type\":\"FactorRange\"},{\"attributes\":{\"below\":[{\"id\":\"c008bb6a-62d5-46fe-8bdf-4ade7f89d982\",\"type\":\"CategoricalAxis\"}],\"left\":[{\"id\":\"216318e3-8ec1-47b8-b4f8-f2521969866b\",\"type\":\"LinearAxis\"}],\"plot_height\":300,\"plot_width\":300,\"renderers\":[{\"id\":\"c008bb6a-62d5-46fe-8bdf-4ade7f89d982\",\"type\":\"CategoricalAxis\"},{\"id\":\"85eba086-5b42-49d6-b5a8-c2ddfbba6407\",\"type\":\"Grid\"},{\"id\":\"216318e3-8ec1-47b8-b4f8-f2521969866b\",\"type\":\"LinearAxis\"},{\"id\":\"1fa6dc1d-e625-430d-9c22-5ec555150721\",\"type\":\"Grid\"},{\"id\":\"93605e56-fd6a-4122-8e61-681de09ea1e9\",\"type\":\"BoxAnnotation\"},{\"id\":\"dffe5d8c-9dd2-4b32-8ba5-c9557631aa67\",\"type\":\"GlyphRenderer\"}],\"title\":{\"id\":\"a742065c-1f61-4134-94d6-28e564624ed2\",\"type\":\"Title\"},\"toolbar\":{\"id\":\"6542247a-3d34-44b5-bb71-9b16ac1a1f9b\",\"type\":\"Toolbar\"},\"toolbar_location\":null,\"x_range\":{\"id\":\"59b68b7c-d0a3-4d73-a394-a829e1f0704c\",\"type\":\"FactorRange\"},\"x_scale\":{\"id\":\"cc58dcc9-b3e6-41ae-bd7d-f3fa56047916\",\"type\":\"CategoricalScale\"},\"y_range\":{\"id\":\"cbc486b0-8035-4f43-b0b1-91502f396f38\",\"type\":\"DataRange1d\"},\"y_scale\":{\"id\":\"c27e7a82-97b5-4dc9-bea3-e401ed7b73dc\",\"type\":\"LinearScale\"}},\"id\":\"b23e3d5d-cbdf-43a7-9a11-c12fda22cbe6\",\"subtype\":\"Figure\",\"type\":\"Plot\"},{\"attributes\":{},\"id\":\"5302ca36-a9ee-48b4-acc2-94e98809d4f4\",\"type\":\"CategoricalScale\"},{\"attributes\":{\"callback\":null,\"factors\":[\"1\",\"2\",\"3\",\"4\",\"5\",\"6\",\"7\",\"8\",\"9\",\"10\",\"11\"]},\"id\":\"59b68b7c-d0a3-4d73-a394-a829e1f0704c\",\"type\":\"FactorRange\"},{\"attributes\":{},\"id\":\"2436fe42-9585-4459-8cf4-4bfa087c5593\",\"type\":\"HelpTool\"},{\"attributes\":{\"callback\":null},\"id\":\"fd64936f-d09c-42f7-9425-c4b44e1d9dff\",\"type\":\"DataRange1d\"},{\"attributes\":{\"fill_alpha\":{\"value\":0.1},\"fill_color\":{\"value\":\"#1f77b4\"},\"line_alpha\":{\"value\":0.1},\"line_color\":{\"value\":\"#1f77b4\"},\"top\":{\"field\":\"flux\"},\"width\":{\"value\":0.9},\"x\":{\"field\":\"band\"}},\"id\":\"5a142e6e-e868-4f35-8382-d90a9e70121f\",\"type\":\"VBar\"},{\"attributes\":{\"active_drag\":\"auto\",\"active_inspect\":\"auto\",\"active_scroll\":\"auto\",\"active_tap\":\"auto\",\"tools\":[{\"id\":\"e07f101e-1b71-407f-ae26-21ed8a899c2f\",\"type\":\"PanTool\"},{\"id\":\"288f9d0f-e53a-4556-8927-4da9b51f33db\",\"type\":\"WheelZoomTool\"},{\"id\":\"f6ed2ed7-0675-454d-8de9-1d022486914e\",\"type\":\"BoxZoomTool\"},{\"id\":\"c8eb76fe-72b3-479a-9007-213513f41317\",\"type\":\"SaveTool\"},{\"id\":\"2bf29be2-20dd-4895-a556-7ee3189d6733\",\"type\":\"ResetTool\"},{\"id\":\"fbdc590e-9bd1-47ec-92c7-1781d4e4cf4b\",\"type\":\"HelpTool\"}]},\"id\":\"38c9cb53-2a2e-4f4f-8296-5ecb832e97ad\",\"type\":\"Toolbar\"},{\"attributes\":{\"active_drag\":\"auto\",\"active_inspect\":\"auto\",\"active_scroll\":\"auto\",\"active_tap\":\"auto\",\"tools\":[{\"id\":\"2828b2e1-1205-4f99-bd20-459c190c9d13\",\"type\":\"PanTool\"},{\"id\":\"8285bfb2-80f5-4973-8d01-720c8615e2c6\",\"type\":\"WheelZoomTool\"},{\"id\":\"98a0b33a-62fa-429f-a0ed-b11d55b35922\",\"type\":\"BoxZoomTool\"},{\"id\":\"72c2e89d-7f4f-47ba-82d9-2686547511d6\",\"type\":\"SaveTool\"},{\"id\":\"41d625ba-a3d3-4c0d-8a05-de52e52ccc21\",\"type\":\"ResetTool\"},{\"id\":\"2436fe42-9585-4459-8cf4-4bfa087c5593\",\"type\":\"HelpTool\"}]},\"id\":\"59033980-39b0-4663-b2a9-fcb8f1d415c9\",\"type\":\"Toolbar\"},{\"attributes\":{\"fill_alpha\":{\"value\":0.1},\"fill_color\":{\"value\":\"#1f77b4\"},\"line_alpha\":{\"value\":0.1},\"line_color\":{\"value\":\"#1f77b4\"},\"top\":{\"field\":\"flux\"},\"width\":{\"value\":0.9},\"x\":{\"field\":\"band\"}},\"id\":\"f467ac05-3881-457e-9a2c-c5e7298d7024\",\"type\":\"VBar\"},{\"attributes\":{\"callback\":null,\"factors\":[\"1\",\"2\",\"3\",\"4\",\"5\",\"6\",\"7\",\"8\",\"9\",\"10\",\"11\"]},\"id\":\"3dae48da-395c-4739-b699-23a9136ddebd\",\"type\":\"FactorRange\"},{\"attributes\":{\"callback\":null},\"id\":\"dfe3f312-19a4-434b-998b-86cfc4531955\",\"type\":\"DataRange1d\"},{\"attributes\":{\"source\":{\"id\":\"4ad04c4b-46ae-4bc9-84dc-78a112d95ea2\",\"type\":\"ColumnDataSource\"}},\"id\":\"86b47668-270e-4bf7-b4cb-bf599e19eaff\",\"type\":\"CDSView\"},{\"attributes\":{\"axis_label\":\"flux (W m-2)\",\"formatter\":{\"id\":\"10733c6b-2080-4821-9b10-32d342772f2e\",\"type\":\"BasicTickFormatter\"},\"plot\":{\"id\":\"f5eb9397-37c8-468e-b187-8e61439f9126\",\"subtype\":\"Figure\",\"type\":\"Plot\"},\"ticker\":{\"id\":\"5e146126-7e18-4cf8-ae28-c16bf62ee2d0\",\"type\":\"BasicTicker\"}},\"id\":\"f2627079-3f31-4e13-a142-45e3215a8c4b\",\"type\":\"LinearAxis\"},{\"attributes\":{},\"id\":\"cc58dcc9-b3e6-41ae-bd7d-f3fa56047916\",\"type\":\"CategoricalScale\"},{\"attributes\":{\"source\":{\"id\":\"8242445c-e970-4365-bad0-0c1b1a0f0cf4\",\"type\":\"ColumnDataSource\"}},\"id\":\"1faa4709-d52e-421e-8cab-c192cd1abe6f\",\"type\":\"CDSView\"},{\"attributes\":{\"active_drag\":\"auto\",\"active_inspect\":\"auto\",\"active_scroll\":\"auto\",\"active_tap\":\"auto\",\"tools\":[{\"id\":\"29d39a23-14e6-4335-990d-3a49d4e943ce\",\"type\":\"PanTool\"},{\"id\":\"b9aab78d-6c1f-40e3-b2e6-72134a7b6ef1\",\"type\":\"WheelZoomTool\"},{\"id\":\"4c04e226-7459-4d62-bc78-d5dc08d4e541\",\"type\":\"BoxZoomTool\"},{\"id\":\"fd6dd143-d4ab-48e1-a196-d0803096fdcb\",\"type\":\"SaveTool\"},{\"id\":\"a2fceea0-3fef-44dd-8d68-c788dcc85ccf\",\"type\":\"ResetTool\"},{\"id\":\"400b89f0-6c83-4688-8b36-dcaee6d0520e\",\"type\":\"HelpTool\"}]},\"id\":\"6542247a-3d34-44b5-bb71-9b16ac1a1f9b\",\"type\":\"Toolbar\"},{\"attributes\":{\"bottom_units\":\"screen\",\"fill_alpha\":{\"value\":0.5},\"fill_color\":{\"value\":\"lightgrey\"},\"left_units\":\"screen\",\"level\":\"overlay\",\"line_alpha\":{\"value\":1.0},\"line_color\":{\"value\":\"black\"},\"line_dash\":[4,4],\"line_width\":{\"value\":2},\"plot\":null,\"render_mode\":\"css\",\"right_units\":\"screen\",\"top_units\":\"screen\"},\"id\":\"3792dbbc-efca-495a-ae45-8ecbe82ba9b3\",\"type\":\"BoxAnnotation\"},{\"attributes\":{\"plot\":{\"id\":\"fde3f178-59c9-4d83-80bf-f919c4cf2f03\",\"subtype\":\"Figure\",\"type\":\"Plot\"},\"ticker\":{\"id\":\"39d10dd2-a8ed-4709-bda8-78a9af8165bc\",\"type\":\"CategoricalTicker\"}},\"id\":\"87343260-d987-4dd4-a5ac-f8a48393a64a\",\"type\":\"Grid\"},{\"attributes\":{},\"id\":\"2828b2e1-1205-4f99-bd20-459c190c9d13\",\"type\":\"PanTool\"},{\"attributes\":{\"axis_label\":\"flux (W m-2)\",\"formatter\":{\"id\":\"25d49f4f-7770-4389-9baf-7ca7cd306a53\",\"type\":\"BasicTickFormatter\"},\"plot\":{\"id\":\"b23e3d5d-cbdf-43a7-9a11-c12fda22cbe6\",\"subtype\":\"Figure\",\"type\":\"Plot\"},\"ticker\":{\"id\":\"b97450e8-d788-4e08-bdd6-6931c8193a36\",\"type\":\"BasicTicker\"}},\"id\":\"216318e3-8ec1-47b8-b4f8-f2521969866b\",\"type\":\"LinearAxis\"},{\"attributes\":{\"data_source\":{\"id\":\"2b1c0c60-cb2f-4206-b188-51c8d5be5c09\",\"type\":\"ColumnDataSource\"},\"glyph\":{\"id\":\"b1827bf3-82a1-4b71-a968-0aae3e02220c\",\"type\":\"VBar\"},\"hover_glyph\":null,\"muted_glyph\":null,\"nonselection_glyph\":{\"id\":\"f467ac05-3881-457e-9a2c-c5e7298d7024\",\"type\":\"VBar\"},\"selection_glyph\":null,\"view\":{\"id\":\"54059b80-6f40-40db-b31e-cee5e0c9ab87\",\"type\":\"CDSView\"}},\"id\":\"dffe5d8c-9dd2-4b32-8ba5-c9557631aa67\",\"type\":\"GlyphRenderer\"},{\"attributes\":{\"callback\":null,\"data\":{\"band\":[\"1\",\"2\",\"3\",\"4\",\"5\",\"6\",\"7\",\"8\",\"9\",\"10\",\"11\"],\"flux\":{\"__ndarray__\":\"AEILCRhdyD+AzEHQ0arSP4APCkrRytO/QL3EWKZf0z8AelORCmPQPwBUa2EW2rG/ABjPoKF/2D8ASdv4E5W5vwDgfyvZsZG/YNQ5UPHJwD9A78EQ3sOwPw==\",\"dtype\":\"float64\",\"shape\":[11]}},\"selected\":{\"id\":\"f49babd1-6aa8-4a74-b8c7-fe0490acbb79\",\"type\":\"Selection\"},\"selection_policy\":{\"id\":\"021061bf-15ec-40f7-9d79-f8f457f24122\",\"type\":\"UnionRenderers\"}},\"id\":\"8242445c-e970-4365-bad0-0c1b1a0f0cf4\",\"type\":\"ColumnDataSource\"},{\"attributes\":{\"axis_label\":\"flux (W m-2)\",\"formatter\":{\"id\":\"970f4a21-5796-4683-bd81-b434e746720b\",\"type\":\"BasicTickFormatter\"},\"plot\":{\"id\":\"fde3f178-59c9-4d83-80bf-f919c4cf2f03\",\"subtype\":\"Figure\",\"type\":\"Plot\"},\"ticker\":{\"id\":\"a30db8c9-1f5d-4b30-9ea5-d50f1c750b64\",\"type\":\"BasicTicker\"}},\"id\":\"3cdd8c20-dc24-4350-84d1-ec1104c48beb\",\"type\":\"LinearAxis\"},{\"attributes\":{\"axis_label\":\"spectral band\",\"formatter\":{\"id\":\"565f71f2-90af-4e5d-8b6e-ee944dbe1fa4\",\"type\":\"CategoricalTickFormatter\"},\"plot\":{\"id\":\"f5eb9397-37c8-468e-b187-8e61439f9126\",\"subtype\":\"Figure\",\"type\":\"Plot\"},\"ticker\":{\"id\":\"fc3d4bb4-e444-4d4e-84e2-2334ba1e6275\",\"type\":\"CategoricalTicker\"}},\"id\":\"e7108c1c-58b2-46fa-a4e6-4c7f86848ebb\",\"type\":\"CategoricalAxis\"},{\"attributes\":{\"plot\":null,\"text\":\"Atmosphere heating. CLIRAD (single-run) - CRD.\"},\"id\":\"a742065c-1f61-4134-94d6-28e564624ed2\",\"type\":\"Title\"},{\"attributes\":{\"axis_label\":\"spectral band\",\"formatter\":{\"id\":\"d6e4349b-d93f-4daf-a72e-1beeab16d1eb\",\"type\":\"CategoricalTickFormatter\"},\"plot\":{\"id\":\"b23e3d5d-cbdf-43a7-9a11-c12fda22cbe6\",\"subtype\":\"Figure\",\"type\":\"Plot\"},\"ticker\":{\"id\":\"d216ce28-b892-4f89-92c1-a107e847f001\",\"type\":\"CategoricalTicker\"}},\"id\":\"c008bb6a-62d5-46fe-8bdf-4ade7f89d982\",\"type\":\"CategoricalAxis\"},{\"attributes\":{},\"id\":\"41d625ba-a3d3-4c0d-8a05-de52e52ccc21\",\"type\":\"ResetTool\"},{\"attributes\":{},\"id\":\"d216ce28-b892-4f89-92c1-a107e847f001\",\"type\":\"CategoricalTicker\"},{\"attributes\":{},\"id\":\"2d099152-0789-4eca-9d70-f543de0d82aa\",\"type\":\"LinearScale\"},{\"attributes\":{},\"id\":\"39d10dd2-a8ed-4709-bda8-78a9af8165bc\",\"type\":\"CategoricalTicker\"},{\"attributes\":{\"below\":[{\"id\":\"e7108c1c-58b2-46fa-a4e6-4c7f86848ebb\",\"type\":\"CategoricalAxis\"}],\"left\":[{\"id\":\"f2627079-3f31-4e13-a142-45e3215a8c4b\",\"type\":\"LinearAxis\"}],\"plot_height\":300,\"plot_width\":300,\"renderers\":[{\"id\":\"e7108c1c-58b2-46fa-a4e6-4c7f86848ebb\",\"type\":\"CategoricalAxis\"},{\"id\":\"1a382d6b-828a-4bd0-9f1a-f7c41b3bb611\",\"type\":\"Grid\"},{\"id\":\"f2627079-3f31-4e13-a142-45e3215a8c4b\",\"type\":\"LinearAxis\"},{\"id\":\"a60958d1-6d85-4f89-8ee1-ca455e5c8b13\",\"type\":\"Grid\"},{\"id\":\"87399bae-d30b-442e-9916-c588b884f697\",\"type\":\"BoxAnnotation\"},{\"id\":\"6543eaec-3195-469c-b727-fd3ef02402c9\",\"type\":\"GlyphRenderer\"}],\"title\":{\"id\":\"c9f030da-1db9-4753-a56d-13200bcfb9d6\",\"type\":\"Title\"},\"toolbar\":{\"id\":\"38c9cb53-2a2e-4f4f-8296-5ecb832e97ad\",\"type\":\"Toolbar\"},\"toolbar_location\":null,\"x_range\":{\"id\":\"dacb486f-bf1d-45bf-9ac1-e7355793f70f\",\"type\":\"FactorRange\"},\"x_scale\":{\"id\":\"9e8ff8c6-ce96-4c1a-b5cf-8e5d15eed3c5\",\"type\":\"CategoricalScale\"},\"y_range\":{\"id\":\"fd64936f-d09c-42f7-9425-c4b44e1d9dff\",\"type\":\"DataRange1d\"},\"y_scale\":{\"id\":\"89ef1966-975a-46d4-928d-15b497574a76\",\"type\":\"LinearScale\"}},\"id\":\"f5eb9397-37c8-468e-b187-8e61439f9126\",\"subtype\":\"Figure\",\"type\":\"Plot\"},{\"attributes\":{\"fill_alpha\":{\"value\":0.1},\"fill_color\":{\"value\":\"#1f77b4\"},\"line_alpha\":{\"value\":0.1},\"line_color\":{\"value\":\"#1f77b4\"},\"top\":{\"field\":\"flux\"},\"width\":{\"value\":0.9},\"x\":{\"field\":\"band\"}},\"id\":\"c6cb52ec-9c03-45d6-b73b-ea69362afd2b\",\"type\":\"VBar\"},{\"attributes\":{},\"id\":\"72c2e89d-7f4f-47ba-82d9-2686547511d6\",\"type\":\"SaveTool\"},{\"attributes\":{\"fill_color\":{\"value\":\"#1f77b4\"},\"line_color\":{\"value\":\"#1f77b4\"},\"top\":{\"field\":\"flux\"},\"width\":{\"value\":0.9},\"x\":{\"field\":\"band\"}},\"id\":\"49e4b81d-14f0-4c25-ab67-a110f3f40216\",\"type\":\"VBar\"},{\"attributes\":{\"overlay\":{\"id\":\"3792dbbc-efca-495a-ae45-8ecbe82ba9b3\",\"type\":\"BoxAnnotation\"}},\"id\":\"98a0b33a-62fa-429f-a0ed-b11d55b35922\",\"type\":\"BoxZoomTool\"},{\"attributes\":{\"plot\":{\"id\":\"b23e3d5d-cbdf-43a7-9a11-c12fda22cbe6\",\"subtype\":\"Figure\",\"type\":\"Plot\"},\"ticker\":{\"id\":\"d216ce28-b892-4f89-92c1-a107e847f001\",\"type\":\"CategoricalTicker\"}},\"id\":\"85eba086-5b42-49d6-b5a8-c2ddfbba6407\",\"type\":\"Grid\"},{\"attributes\":{\"axis_label\":\"spectral band\",\"formatter\":{\"id\":\"477975b1-2a7a-46ff-9363-8260471ae7db\",\"type\":\"CategoricalTickFormatter\"},\"plot\":{\"id\":\"fde3f178-59c9-4d83-80bf-f919c4cf2f03\",\"subtype\":\"Figure\",\"type\":\"Plot\"},\"ticker\":{\"id\":\"39d10dd2-a8ed-4709-bda8-78a9af8165bc\",\"type\":\"CategoricalTicker\"}},\"id\":\"513b7175-be5c-4633-a9a5-992170645ded\",\"type\":\"CategoricalAxis\"},{\"attributes\":{\"plot\":null,\"text\":\"SFC flux. CLIRAD (single-run) - CRD.\"},\"id\":\"c9f030da-1db9-4753-a56d-13200bcfb9d6\",\"type\":\"Title\"},{\"attributes\":{\"dimension\":1,\"plot\":{\"id\":\"b23e3d5d-cbdf-43a7-9a11-c12fda22cbe6\",\"subtype\":\"Figure\",\"type\":\"Plot\"},\"ticker\":{\"id\":\"b97450e8-d788-4e08-bdd6-6931c8193a36\",\"type\":\"BasicTicker\"}},\"id\":\"1fa6dc1d-e625-430d-9c22-5ec555150721\",\"type\":\"Grid\"},{\"attributes\":{},\"id\":\"b97450e8-d788-4e08-bdd6-6931c8193a36\",\"type\":\"BasicTicker\"}],\"root_ids\":[\"c330d49b-81b6-4d2c-8275-01b2d04e9a1f\"]},\"title\":\"Bokeh Application\",\"version\":\"0.12.16\"}};\n",
       "  var render_items = [{\"docid\":\"16f99833-731d-4abd-81ac-046f0df95b18\",\"elementid\":\"52a25c0f-c363-48fe-921d-044d58240421\",\"modelid\":\"c330d49b-81b6-4d2c-8275-01b2d04e9a1f\"}];\n",
       "  root.Bokeh.embed.embed_items_notebook(docs_json, render_items);\n",
       "\n",
       "  }\n",
       "  if (root.Bokeh !== undefined) {\n",
       "    embed_document(root);\n",
       "  } else {\n",
       "    var attempts = 0;\n",
       "    var timer = setInterval(function(root) {\n",
       "      if (root.Bokeh !== undefined) {\n",
       "        embed_document(root);\n",
       "        clearInterval(timer);\n",
       "      }\n",
       "      attempts++;\n",
       "      if (attempts > 100) {\n",
       "        console.log(\"Bokeh: ERROR: Unable to run BokehJS code because BokehJS library is missing\")\n",
       "        clearInterval(timer);\n",
       "      }\n",
       "    }, 10, root)\n",
       "  }\n",
       "})(window);"
      ],
      "application/vnd.bokehjs_exec.v0+json": ""
     },
     "metadata": {
      "application/vnd.bokehjs_exec.v0+json": {
       "id": "c330d49b-81b6-4d2c-8275-01b2d04e9a1f"
      }
     },
     "output_type": "display_data"
    },
    {
     "data": {
      "text/markdown": [
       "*FIGURE.* Difference between CLIRAD and CRD in TOA, SFC and net atmosphere flux, in each spectral band."
      ],
      "text/plain": [
       "<IPython.core.display.Markdown object>"
      ]
     },
     "metadata": {},
     "output_type": "display_data"
    },
    {
     "data": {
      "text/html": [
       "<div>\n",
       "<style scoped>\n",
       "    .dataframe tbody tr th:only-of-type {\n",
       "        vertical-align: middle;\n",
       "    }\n",
       "\n",
       "    .dataframe tbody tr th {\n",
       "        vertical-align: top;\n",
       "    }\n",
       "\n",
       "    .dataframe thead th {\n",
       "        text-align: right;\n",
       "    }\n",
       "</style>\n",
       "<table border=\"1\" class=\"dataframe\">\n",
       "  <thead>\n",
       "    <tr style=\"text-align: right;\">\n",
       "      <th></th>\n",
       "      <th>OLR flux</th>\n",
       "      <th>SFC flux</th>\n",
       "      <th>ATM heating</th>\n",
       "    </tr>\n",
       "    <tr>\n",
       "      <th>Sum over bands</th>\n",
       "      <th></th>\n",
       "      <th></th>\n",
       "      <th></th>\n",
       "    </tr>\n",
       "  </thead>\n",
       "  <tbody>\n",
       "    <tr>\n",
       "      <th>CLIRAD (single-run) - CRD</th>\n",
       "      <td>1.12</td>\n",
       "      <td>0.79</td>\n",
       "      <td>0.33</td>\n",
       "    </tr>\n",
       "    <tr>\n",
       "      <th>CRD</th>\n",
       "      <td>-290.39</td>\n",
       "      <td>308.14</td>\n",
       "      <td>-174.89</td>\n",
       "    </tr>\n",
       "  </tbody>\n",
       "</table>\n",
       "</div>"
      ],
      "text/plain": [
       "                           OLR flux  SFC flux  ATM heating\n",
       "Sum over bands                                            \n",
       "CLIRAD (single-run) - CRD      1.12      0.79         0.33\n",
       "CRD                         -290.39    308.14      -174.89"
      ]
     },
     "metadata": {},
     "output_type": "display_data"
    },
    {
     "data": {
      "text/markdown": [
       "*TABLE.* Difference between CLIRAD and CRD in TOA, SFC and net atmosphere flux, over all spectral bands. CRD's TOA, SFC and net atmosphere flux, over all spectral bands."
      ],
      "text/plain": [
       "<IPython.core.display.Markdown object>"
      ]
     },
     "metadata": {},
     "output_type": "display_data"
    },
    {
     "data": {
      "text/html": [
       "<a id=\"Cooling_rates._saw.\"></a>"
      ],
      "text/plain": [
       "<IPython.core.display.HTML object>"
      ]
     },
     "metadata": {},
     "output_type": "display_data"
    },
    {
     "data": {
      "text/markdown": [
       "# Cooling rates. saw."
      ],
      "text/plain": [
       "<IPython.core.display.Markdown object>"
      ]
     },
     "metadata": {},
     "output_type": "display_data"
    },
    {
     "data": {
      "text/html": [
       "\n",
       "<div class=\"bk-root\">\n",
       "    <div class=\"bk-plotdiv\" id=\"dc747aac-cd09-41a0-a2a9-0a6e467284f8\"></div>\n",
       "</div>"
      ]
     },
     "metadata": {},
     "output_type": "display_data"
    },
    {
     "data": {
      "application/javascript": [
       "(function(root) {\n",
       "  function embed_document(root) {\n",
       "    \n",
       "  var docs_json = {\"67d3d68d-e547-43b0-9071-6f3d1eb3fa41\":{\"roots\":{\"references\":[{\"attributes\":{},\"id\":\"48438161-7a80-47df-9c24-8eca69bc9926\",\"type\":\"BasicTicker\"},{\"attributes\":{\"plot\":{\"id\":\"798611e2-8ddc-4297-9641-101e36626ee1\",\"subtype\":\"Figure\",\"type\":\"Plot\"},\"ticker\":{\"id\":\"f1ff8604-7966-4b4e-bf64-226f849b6b13\",\"type\":\"BasicTicker\"}},\"id\":\"87bc350b-896a-4ab3-a771-7cd3e4b2e916\",\"type\":\"Grid\"},{\"attributes\":{\"callback\":null,\"data\":{\"x\":{\"__ndarray__\":\"pNT9013fQ8BHz6Iz9/wYwNfDDIW8sQPAIkyto68I8j+fIJf5rJMLQIecTPoI1Q9As/64BN/IBkBfIBLYVzbrP1R1ZGKwoO2/pE6pZhVs+r+osA5Z1ST0v5zMboda9dS/aQlVtjiW4D9MTnJyudXuP2yVG7UQ9uw/6REl5gwA2T+4fJqAcenQv5ajHl5rZeW/7sOmS6l75b/2lhpJkZPavw7zXwS2EcK/3f/kdxDJsT9k2KERVRbBPyUpAn1TG7q/7g8mKJN+zb9FgCij7lWhv4gzQaeHVdE/WMHzFuLt0T9TeyfymSq8P7AvC9G1h6A/vwXXyq89xD8cQniFsRLNP745xZhH08A/0hEfW7UEd7/IKTaMEXtnP0nW/cfESbM/DkTNaoE7qD/N3nEaaa+Yv7um0ov4pLO/he/mYXkGtr+HVx9QYaiyv5xE/bRWu6y/aqqSYaN/pb+PUyUyAV6av25yAVtXsJC/OcCXjW7vhb9A2QhwvYE/v54IJNXclHS/tPE6gehUm78zgJIAgp+qv3kclLp0gKq/TPHqBtXAor9a2amW41mjv4wVTc5azKq/Xw/2OvWRqr8pUTsitFylv6rZtGXHpZ+/NbnWCpZLmL/lcb2lUKGTv7/yG9AZ64m/Ca4eY27/g7/icKU3kHCBv8NLYSkEToS/fmhAqhFUhr9CsNoEMTOEv9bxCalABXq/oBYSwYokOb+8C9d3gpx/Py0I7qXI2Is/1DVQdrnckj9GKGc80l+WPytVWvOhE5g/5YIg7/Vvlz/qZawMW1mXP64D8pGCWpY/\",\"dtype\":\"float64\",\"shape\":[75]},\"y\":{\"__ndarray__\":\"GhExyth1ND/Sv8nbtpRIP2vylNV0PVE/aTum7souWD/At0SJ8fVgPw3Iuahxymc/MSNhhJWvcD/bTfBN02d3P2zb5nxnaoA/CD5h5MAGhz8NmeH1TyaQP+zrCsc9p5Y/LbKd76fGnz/bLW5ISEmmPww9YvTcQq8/JV2OstnstT8Er5Y7M8G+P0c+r3jqkcU/5h99k6ZBzj88bCIzFzjVP4enV8oyxN0//yH99nXg5D8qOpLLf0jtP5kqGJXUifQ/c9cS8kHP/D+/DpwzojQEQIEmwoanVwxA4lgXt9HgE0BSSZ2AJuIbQAMJih9jjiNA5q4l5INuK0AwTKYKRj0zQNv5fmq8/DpAaCJseHrtQkB/+zpwzoxKQM3MzMzMeFJAZmZmZmZqWEAAAAAAAFxeQM3MzMzMJmJAmpmZmZkfZUBmZmZmZhhoQDMzMzMzEWtAAAAAAAAKbkBmZmZmZoFwQM3MzMzM/XFAMzMzMzN6c0CamZmZmfZ0QAAAAAAAc3ZAZmZmZmbvd0DNzMzMzGt5QDMzMzMz6HpAmpmZmZlkfEAAAAAAAOF9QGZmZmZmXX9AZmZmZuZsgECamZmZGSuBQM3MzMxM6YFAAAAAAICngkAzMzMzs2WDQGZmZmbmI4RAmpmZmRnihEDNzMzMTKCFQAAAAACAXoZAMzMzM7Mch0BmZmZm5tqHQJqZmZkZmYhAzczMzExXiUAAAAAAgBWKQDMzMzOz04pAZmZmZuaRi0CamZmZGVCMQM3MzMxMDo1AAAAAAIDMjUAzMzMzs4qOQGZmZmbmSI9A\",\"dtype\":\"float64\",\"shape\":[75]}},\"selected\":{\"id\":\"323d14f9-2e0a-475c-9221-21e8ddf815e5\",\"type\":\"Selection\"},\"selection_policy\":{\"id\":\"8861c487-1f13-4bfe-9554-14443203a195\",\"type\":\"UnionRenderers\"}},\"id\":\"07b6e4a4-c1a2-4e1f-a5b9-fed0fce3595f\",\"type\":\"ColumnDataSource\"},{\"attributes\":{\"axis_label\":\"pressure [mb]\",\"formatter\":{\"id\":\"1e896d2c-c523-41c8-be1e-79fead5e226f\",\"type\":\"LogTickFormatter\"},\"plot\":{\"id\":\"798611e2-8ddc-4297-9641-101e36626ee1\",\"subtype\":\"Figure\",\"type\":\"Plot\"},\"ticker\":{\"id\":\"28c94dc1-2584-456b-b691-7d5eb6155a32\",\"type\":\"LogTicker\"}},\"id\":\"c3bf7da7-f98b-409e-a982-dd7944edad6e\",\"type\":\"LogAxis\"},{\"attributes\":{},\"id\":\"2b54f4ce-03c9-4cf7-a689-1e68cb2f38a3\",\"type\":\"HelpTool\"},{\"attributes\":{\"line_alpha\":0.8,\"line_color\":\"#984ea3\",\"line_width\":1.5,\"x\":{\"field\":\"x\"},\"y\":{\"field\":\"y\"}},\"id\":\"6a35df18-9610-4eb0-b80d-9907755feb38\",\"type\":\"Line\"},{\"attributes\":{\"fill_alpha\":{\"value\":0.1},\"fill_color\":{\"value\":\"#1f77b4\"},\"line_alpha\":{\"value\":0.1},\"line_color\":{\"value\":\"#1f77b4\"},\"x\":{\"field\":\"x\"},\"y\":{\"field\":\"y\"}},\"id\":\"aa3fae62-af40-461b-86bf-5b9415e09edd\",\"type\":\"Circle\"},{\"attributes\":{},\"id\":\"60a56e9c-adba-4a02-8a1a-6d646a9f367a\",\"type\":\"UnionRenderers\"},{\"attributes\":{\"dimension\":1,\"plot\":{\"id\":\"2a2a2c6f-004d-43ec-8042-4604985f4801\",\"subtype\":\"Figure\",\"type\":\"Plot\"},\"ticker\":{\"id\":\"48438161-7a80-47df-9c24-8eca69bc9926\",\"type\":\"BasicTicker\"}},\"id\":\"093941a6-3e9b-4e0c-9416-9744d837c575\",\"type\":\"Grid\"},{\"attributes\":{\"callback\":null,\"end\":0.9897391746271391,\"start\":-1.6775373671211389},\"id\":\"5ff4f1ec-dcac-40e7-8840-04f4f7f7bd42\",\"type\":\"Range1d\"},{\"attributes\":{\"data_source\":{\"id\":\"bee71c3f-5a75-48d3-ac48-d75b27f4d9fe\",\"type\":\"ColumnDataSource\"},\"glyph\":{\"id\":\"6b3bfad8-af5f-41c3-a031-0b61fca362b8\",\"type\":\"Line\"},\"hover_glyph\":null,\"muted_glyph\":null,\"nonselection_glyph\":{\"id\":\"04a12a1c-14ba-45ea-a59a-1e51f9dbf6e3\",\"type\":\"Line\"},\"selection_glyph\":null,\"view\":{\"id\":\"6dd7e6ce-ade0-4393-a3bf-c48713761d8a\",\"type\":\"CDSView\"}},\"id\":\"c8311d13-b5fd-4fa1-88e6-d69d7911858a\",\"type\":\"GlyphRenderer\"},{\"attributes\":{},\"id\":\"dcb13c12-b1c0-4a30-948f-91069dca3477\",\"type\":\"Selection\"},{\"attributes\":{\"overlay\":{\"id\":\"aabe9084-1ba5-4db1-9f37-9e897f5e246f\",\"type\":\"BoxAnnotation\"}},\"id\":\"ae92b90f-af22-4d1e-9f78-4abad23da455\",\"type\":\"BoxZoomTool\"},{\"attributes\":{\"label\":{\"value\":\"CRD\"},\"renderers\":[{\"id\":\"1a549de0-aa26-4ff3-a325-e5a609a2fb41\",\"type\":\"GlyphRenderer\"},{\"id\":\"6d177543-8582-4fca-bbb9-a12bcbded05b\",\"type\":\"GlyphRenderer\"}]},\"id\":\"8e00346b-4f8c-4b2e-a72d-fac4b2090ee5\",\"type\":\"LegendItem\"},{\"attributes\":{\"active_drag\":\"auto\",\"active_inspect\":\"auto\",\"active_scroll\":\"auto\",\"active_tap\":\"auto\",\"tools\":[{\"id\":\"d598243d-a92b-4ed5-82a5-0948a02fcdc7\",\"type\":\"PanTool\"},{\"id\":\"89d264d1-08bb-462d-8399-80989822b1f5\",\"type\":\"WheelZoomTool\"},{\"id\":\"970339d8-de4e-4694-bac3-e4850cf5ca45\",\"type\":\"BoxZoomTool\"},{\"id\":\"7019cc52-0439-416f-8bec-e7100a6ed192\",\"type\":\"SaveTool\"},{\"id\":\"35b3368a-f413-403f-b2a8-cf5dcf63dfa2\",\"type\":\"ResetTool\"},{\"id\":\"bbbea75c-b640-4dae-9a1f-f94cde2efbce\",\"type\":\"HelpTool\"}]},\"id\":\"0829aa67-dc11-4e34-b3b7-cadeb4ffe76c\",\"type\":\"Toolbar\"},{\"attributes\":{},\"id\":\"24d1892a-2072-4a6c-9f14-3f865bb4a262\",\"type\":\"LogScale\"},{\"attributes\":{\"items\":[{\"id\":\"72a1f82e-1ba8-4295-979b-6054f226d566\",\"type\":\"LegendItem\"}],\"label_text_font_size\":{\"value\":\"8pt\"},\"location\":\"top_center\",\"orientation\":\"horizontal\",\"plot\":{\"id\":\"798611e2-8ddc-4297-9641-101e36626ee1\",\"subtype\":\"Figure\",\"type\":\"Plot\"}},\"id\":\"26ed18ac-9529-4025-aca5-0cbeae849ade\",\"type\":\"Legend\"},{\"attributes\":{\"callback\":null,\"data\":{\"x\":{\"__ndarray__\":\"0CYBcvU5UkCik9zf2GVBQF1VoNfLZ0BAVLxhiVXTPUDD1Wu1wJM6QFJyB025jjdAU6Aw5+b/NECYe1uuDfgyQB6bYtVTbTFAPxYSAF1HMEA00pYVm9QuQLolHbMzgC1AntlwirGsLECv+G9SjE4rQJH6ZLBp0ShAsLZQyPd/JkDyjgyf2PwkQLgyNGsrJyRAA13QbJD6I0C8hy0ilI4kQOVTXCEgcSZAovOGvZSGJUBVc/ZmUOIgQOf/6GHAyRlAcE8fAOBSFEDRur1U//gPQGFD9ZbokghAQsqHuSqSA0C91ci3W0UBQCtRQfvz7/4/kh8pntyB+j9t1/n+4TX1P773MAUjFfI/RgzR+CI28T8hBW8WHK7uPzVKjJfU8uk/0FPt4/z65T/wVYqzMPDhPz7K9C5CXuE/8+hSn9hY4T/9PPCkR6rhP1XsIC599OA/66X1nBCX3z/YbRM56QjcPz4dkSQc/dM/S7Wb8Fq00T+/yQdmX0vcP7TrGf476eM/WqNPJoWO7D9qOH1bcwDzP2bw+R5DQ/Y/RLSuQOQp+D8+aif8yAz5P0Wv6eBKRfk/0i2+IN4R+T/ik8QNFZr4PyS5UD5j/Pc/yJ68zXRG9z/2CHPL54H2P59SOhwKtPU/npkP8dfg9D8NlmVcdQz0P80ugRvuOvM/byxiAHN18j9USVZie8nxP5l9lNXYSPE/OB+F0UYP8T8Y7dsUCTHxP3EBgTHPcPE/bfx15p8S8T8FT+xkGtTuP6mdG7rkxuk/pboqTkHX5D/CrN8qGYngP7R4ZaL+htU/\",\"dtype\":\"float64\",\"shape\":[75]},\"y\":{\"__ndarray__\":\"GhExyth1ND/Sv8nbtpRIP2vylNV0PVE/aTum7souWD/At0SJ8fVgPw3Iuahxymc/MSNhhJWvcD/bTfBN02d3P2zb5nxnaoA/CD5h5MAGhz8NmeH1TyaQP+zrCsc9p5Y/LbKd76fGnz/bLW5ISEmmPww9YvTcQq8/JV2OstnstT8Er5Y7M8G+P0c+r3jqkcU/5h99k6ZBzj88bCIzFzjVP4enV8oyxN0//yH99nXg5D8qOpLLf0jtP5kqGJXUifQ/c9cS8kHP/D+/DpwzojQEQIEmwoanVwxA4lgXt9HgE0BSSZ2AJuIbQAMJih9jjiNA5q4l5INuK0AwTKYKRj0zQNv5fmq8/DpAaCJseHrtQkB/+zpwzoxKQM3MzMzMeFJAZmZmZmZqWEAAAAAAAFxeQM3MzMzMJmJAmpmZmZkfZUBmZmZmZhhoQDMzMzMzEWtAAAAAAAAKbkBmZmZmZoFwQM3MzMzM/XFAMzMzMzN6c0CamZmZmfZ0QAAAAAAAc3ZAZmZmZmbvd0DNzMzMzGt5QDMzMzMz6HpAmpmZmZlkfEAAAAAAAOF9QGZmZmZmXX9AZmZmZuZsgECamZmZGSuBQM3MzMxM6YFAAAAAAICngkAzMzMzs2WDQGZmZmbmI4RAmpmZmRnihEDNzMzMTKCFQAAAAACAXoZAMzMzM7Mch0BmZmZm5tqHQJqZmZkZmYhAzczMzExXiUAAAAAAgBWKQDMzMzOz04pAZmZmZuaRi0CamZmZGVCMQM3MzMxMDo1AAAAAAIDMjUAzMzMzs4qOQGZmZmbmSI9A\",\"dtype\":\"float64\",\"shape\":[75]}},\"selected\":{\"id\":\"2b2e036c-66ee-45b7-8d39-1e1d2e4744c0\",\"type\":\"Selection\"},\"selection_policy\":{\"id\":\"5d949f20-a74b-4cd8-8a75-637fd5aea5e2\",\"type\":\"UnionRenderers\"}},\"id\":\"b5627a91-62f0-4ef8-8765-5a3c947631e4\",\"type\":\"ColumnDataSource\"},{\"attributes\":{\"data_source\":{\"id\":\"9d6b32ec-33ed-44b8-a2ee-00c1a9b2a10d\",\"type\":\"ColumnDataSource\"},\"glyph\":{\"id\":\"b8f036cd-5b16-4b30-affe-22b7d44a1cbb\",\"type\":\"Circle\"},\"hover_glyph\":null,\"muted_glyph\":null,\"nonselection_glyph\":{\"id\":\"dc964e2e-dea3-40f1-82b2-09412ebb5693\",\"type\":\"Circle\"},\"selection_glyph\":null,\"view\":{\"id\":\"0420648c-bb78-471e-8e7f-340114266f78\",\"type\":\"CDSView\"}},\"id\":\"1a549de0-aa26-4ff3-a325-e5a609a2fb41\",\"type\":\"GlyphRenderer\"},{\"attributes\":{\"callback\":null,\"end\":0.01,\"start\":1020},\"id\":\"0a8f690f-e083-44ec-b1cf-f03c5b7c7cdd\",\"type\":\"Range1d\"},{\"attributes\":{\"fill_alpha\":{\"value\":0.7},\"fill_color\":{\"value\":\"#4daf4a\"},\"line_alpha\":{\"value\":0.7},\"line_color\":{\"value\":\"#4daf4a\"},\"x\":{\"field\":\"x\"},\"y\":{\"field\":\"y\"}},\"id\":\"b8f036cd-5b16-4b30-affe-22b7d44a1cbb\",\"type\":\"Circle\"},{\"attributes\":{\"line_alpha\":0.1,\"line_color\":\"#1f77b4\",\"line_width\":1.5,\"x\":{\"field\":\"x\"},\"y\":{\"field\":\"y\"}},\"id\":\"21af83da-4316-45bf-a95b-56e799b179c2\",\"type\":\"Line\"},{\"attributes\":{},\"id\":\"d1ba3ad8-34ef-46d3-b777-e2be0c4c4e13\",\"type\":\"LinearScale\"},{\"attributes\":{\"source\":{\"id\":\"a2a0394b-d828-494c-87d6-5ac84aa64c57\",\"type\":\"ColumnDataSource\"}},\"id\":\"1ea6dc8a-79c9-439c-97ff-516391c19904\",\"type\":\"CDSView\"},{\"attributes\":{\"line_alpha\":0.1,\"line_color\":\"#1f77b4\",\"line_width\":1.5,\"x\":{\"field\":\"x\"},\"y\":{\"field\":\"y\"}},\"id\":\"f5bbbdf7-6dc3-4ae9-a015-ab338be48be2\",\"type\":\"Line\"},{\"attributes\":{\"fill_alpha\":{\"value\":0.1},\"fill_color\":{\"value\":\"#1f77b4\"},\"line_alpha\":{\"value\":0.1},\"line_color\":{\"value\":\"#1f77b4\"},\"x\":{\"field\":\"x\"},\"y\":{\"field\":\"y\"}},\"id\":\"dc964e2e-dea3-40f1-82b2-09412ebb5693\",\"type\":\"Circle\"},{\"attributes\":{\"data_source\":{\"id\":\"72e7ab78-de12-4fe9-a515-d6da4dbfd66f\",\"type\":\"ColumnDataSource\"},\"glyph\":{\"id\":\"6a35df18-9610-4eb0-b80d-9907755feb38\",\"type\":\"Line\"},\"hover_glyph\":null,\"muted_glyph\":null,\"nonselection_glyph\":{\"id\":\"21af83da-4316-45bf-a95b-56e799b179c2\",\"type\":\"Line\"},\"selection_glyph\":null,\"view\":{\"id\":\"d8a5177a-d191-4615-bad8-7a084e80cb4f\",\"type\":\"CDSView\"}},\"id\":\"d9f70ba6-f65d-4b52-8609-26c3dc319354\",\"type\":\"GlyphRenderer\"},{\"attributes\":{\"source\":{\"id\":\"bee71c3f-5a75-48d3-ac48-d75b27f4d9fe\",\"type\":\"ColumnDataSource\"}},\"id\":\"6dd7e6ce-ade0-4393-a3bf-c48713761d8a\",\"type\":\"CDSView\"},{\"attributes\":{\"source\":{\"id\":\"b5627a91-62f0-4ef8-8765-5a3c947631e4\",\"type\":\"ColumnDataSource\"}},\"id\":\"23193f28-c662-4b48-9a65-eeeb78a42db0\",\"type\":\"CDSView\"},{\"attributes\":{\"label\":{\"value\":\"CLIRAD (single-run)\"},\"renderers\":[{\"id\":\"c8311d13-b5fd-4fa1-88e6-d69d7911858a\",\"type\":\"GlyphRenderer\"}]},\"id\":\"f85e2de5-b5d9-4cec-8718-7026fba0a099\",\"type\":\"LegendItem\"},{\"attributes\":{},\"id\":\"bec18392-c869-4c37-ae94-c46f570657bf\",\"type\":\"SaveTool\"},{\"attributes\":{\"data_source\":{\"id\":\"b5627a91-62f0-4ef8-8765-5a3c947631e4\",\"type\":\"ColumnDataSource\"},\"glyph\":{\"id\":\"ada9f387-e0c7-4372-a2b6-797b3a06d736\",\"type\":\"Line\"},\"hover_glyph\":null,\"muted_glyph\":null,\"nonselection_glyph\":{\"id\":\"f5bbbdf7-6dc3-4ae9-a015-ab338be48be2\",\"type\":\"Line\"},\"selection_glyph\":null,\"view\":{\"id\":\"23193f28-c662-4b48-9a65-eeeb78a42db0\",\"type\":\"CDSView\"}},\"id\":\"6d177543-8582-4fca-bbb9-a12bcbded05b\",\"type\":\"GlyphRenderer\"},{\"attributes\":{\"children\":[{\"id\":\"c161bccb-96ad-4593-b699-a4cafca2ca11\",\"type\":\"Row\"}]},\"id\":\"44d2f06b-edd5-435e-a706-3dd7233ba553\",\"type\":\"Column\"},{\"attributes\":{\"num_minor_ticks\":10},\"id\":\"28c94dc1-2584-456b-b691-7d5eb6155a32\",\"type\":\"LogTicker\"},{\"attributes\":{},\"id\":\"323d14f9-2e0a-475c-9221-21e8ddf815e5\",\"type\":\"Selection\"},{\"attributes\":{\"above\":[{\"id\":\"7c154ab1-dde8-4a1e-9a6c-2a5fe33caee5\",\"type\":\"Legend\"}],\"below\":[{\"id\":\"8ffde5f6-84ee-4da6-b8ce-7b0ee64a4e83\",\"type\":\"LinearAxis\"}],\"left\":[{\"id\":\"e399090f-7d6c-444f-a253-c557040d8a25\",\"type\":\"LogAxis\"}],\"plot_width\":300,\"renderers\":[{\"id\":\"8ffde5f6-84ee-4da6-b8ce-7b0ee64a4e83\",\"type\":\"LinearAxis\"},{\"id\":\"6bebb623-c64e-41d6-8ce7-f67df5333316\",\"type\":\"Grid\"},{\"id\":\"e399090f-7d6c-444f-a253-c557040d8a25\",\"type\":\"LogAxis\"},{\"id\":\"c749be3f-91a2-4d38-aec4-7f2277358a19\",\"type\":\"Grid\"},{\"id\":\"a3f2e674-ac71-440e-81ca-04202455df1e\",\"type\":\"BoxAnnotation\"},{\"id\":\"c8311d13-b5fd-4fa1-88e6-d69d7911858a\",\"type\":\"GlyphRenderer\"},{\"id\":\"5042f3cb-ff37-4266-9265-fc4d0f0c6b37\",\"type\":\"GlyphRenderer\"},{\"id\":\"ce192bfb-a491-4298-8be6-b6db40f9cf46\",\"type\":\"GlyphRenderer\"},{\"id\":\"7c154ab1-dde8-4a1e-9a6c-2a5fe33caee5\",\"type\":\"Legend\"}],\"title\":{\"id\":\"bde6507f-4962-4ed0-bce4-7a047d883882\",\"type\":\"Title\"},\"toolbar\":{\"id\":\"0829aa67-dc11-4e34-b3b7-cadeb4ffe76c\",\"type\":\"Toolbar\"},\"toolbar_location\":null,\"x_range\":{\"id\":\"36b0144c-f7a9-499c-a742-b836f6d62366\",\"type\":\"Range1d\"},\"x_scale\":{\"id\":\"114deb20-d496-4a5d-a2c3-800a1e936074\",\"type\":\"LinearScale\"},\"y_range\":{\"id\":\"7d604cba-4ab9-40f7-bc60-5499d11fcd42\",\"type\":\"Range1d\"},\"y_scale\":{\"id\":\"49091f61-6209-46e8-b9a2-66e4db29b244\",\"type\":\"LogScale\"}},\"id\":\"547557df-daaa-4084-bc25-e9a770e38d2a\",\"subtype\":\"Figure\",\"type\":\"Plot\"},{\"attributes\":{\"callback\":null,\"data\":{\"x\":{\"__ndarray__\":\"pNT9013fQ8BHz6Iz9/wYwNfDDIW8sQPAIkyto68I8j+fIJf5rJMLQIecTPoI1Q9As/64BN/IBkBfIBLYVzbrP1R1ZGKwoO2/pE6pZhVs+r+osA5Z1ST0v5zMboda9dS/aQlVtjiW4D9MTnJyudXuP2yVG7UQ9uw/6REl5gwA2T+4fJqAcenQv5ajHl5rZeW/7sOmS6l75b/2lhpJkZPavw7zXwS2EcK/3f/kdxDJsT9k2KERVRbBPyUpAn1TG7q/7g8mKJN+zb9FgCij7lWhv4gzQaeHVdE/WMHzFuLt0T9TeyfymSq8P7AvC9G1h6A/vwXXyq89xD8cQniFsRLNP745xZhH08A/0hEfW7UEd7/IKTaMEXtnP0nW/cfESbM/DkTNaoE7qD/N3nEaaa+Yv7um0ov4pLO/he/mYXkGtr+HVx9QYaiyv5xE/bRWu6y/aqqSYaN/pb+PUyUyAV6av25yAVtXsJC/OcCXjW7vhb9A2QhwvYE/v54IJNXclHS/tPE6gehUm78zgJIAgp+qv3kclLp0gKq/TPHqBtXAor9a2amW41mjv4wVTc5azKq/Xw/2OvWRqr8pUTsitFylv6rZtGXHpZ+/NbnWCpZLmL/lcb2lUKGTv7/yG9AZ64m/Ca4eY27/g7/icKU3kHCBv8NLYSkEToS/fmhAqhFUhr9CsNoEMTOEv9bxCalABXq/oBYSwYokOb+8C9d3gpx/Py0I7qXI2Is/1DVQdrnckj9GKGc80l+WPytVWvOhE5g/5YIg7/Vvlz/qZawMW1mXP64D8pGCWpY/\",\"dtype\":\"float64\",\"shape\":[75]},\"y\":{\"__ndarray__\":\"GhExyth1ND/Sv8nbtpRIP2vylNV0PVE/aTum7souWD/At0SJ8fVgPw3Iuahxymc/MSNhhJWvcD/bTfBN02d3P2zb5nxnaoA/CD5h5MAGhz8NmeH1TyaQP+zrCsc9p5Y/LbKd76fGnz/bLW5ISEmmPww9YvTcQq8/JV2OstnstT8Er5Y7M8G+P0c+r3jqkcU/5h99k6ZBzj88bCIzFzjVP4enV8oyxN0//yH99nXg5D8qOpLLf0jtP5kqGJXUifQ/c9cS8kHP/D+/DpwzojQEQIEmwoanVwxA4lgXt9HgE0BSSZ2AJuIbQAMJih9jjiNA5q4l5INuK0AwTKYKRj0zQNv5fmq8/DpAaCJseHrtQkB/+zpwzoxKQM3MzMzMeFJAZmZmZmZqWEAAAAAAAFxeQM3MzMzMJmJAmpmZmZkfZUBmZmZmZhhoQDMzMzMzEWtAAAAAAAAKbkBmZmZmZoFwQM3MzMzM/XFAMzMzMzN6c0CamZmZmfZ0QAAAAAAAc3ZAZmZmZmbvd0DNzMzMzGt5QDMzMzMz6HpAmpmZmZlkfEAAAAAAAOF9QGZmZmZmXX9AZmZmZuZsgECamZmZGSuBQM3MzMxM6YFAAAAAAICngkAzMzMzs2WDQGZmZmbmI4RAmpmZmRnihEDNzMzMTKCFQAAAAACAXoZAMzMzM7Mch0BmZmZm5tqHQJqZmZkZmYhAzczMzExXiUAAAAAAgBWKQDMzMzOz04pAZmZmZuaRi0CamZmZGVCMQM3MzMxMDo1AAAAAAIDMjUAzMzMzs4qOQGZmZmbmSI9A\",\"dtype\":\"float64\",\"shape\":[75]}},\"selected\":{\"id\":\"e45ac5dd-505d-4969-ac4a-6117e92de3a7\",\"type\":\"Selection\"},\"selection_policy\":{\"id\":\"60a56e9c-adba-4a02-8a1a-6d646a9f367a\",\"type\":\"UnionRenderers\"}},\"id\":\"72e7ab78-de12-4fe9-a515-d6da4dbfd66f\",\"type\":\"ColumnDataSource\"},{\"attributes\":{},\"id\":\"54af949d-3d13-4b3e-b147-8d4ae89b713f\",\"type\":\"LinearScale\"},{\"attributes\":{\"plot\":{\"id\":\"2a2a2c6f-004d-43ec-8042-4604985f4801\",\"subtype\":\"Figure\",\"type\":\"Plot\"},\"ticker\":{\"id\":\"95265769-9689-4856-9270-28528914a5bf\",\"type\":\"BasicTicker\"}},\"id\":\"e6eac7c8-ae20-487c-bcee-22d7f395df0c\",\"type\":\"Grid\"},{\"attributes\":{\"fill_alpha\":{\"value\":0.7},\"fill_color\":{\"value\":\"#984ea3\"},\"line_alpha\":{\"value\":0.7},\"line_color\":{\"value\":\"#984ea3\"},\"x\":{\"field\":\"x\"},\"y\":{\"field\":\"y\"}},\"id\":\"f5a5cac0-1183-4b9e-9f64-e0e578ad0d57\",\"type\":\"Circle\"},{\"attributes\":{\"axis_label\":\"cooling rate [K/day]\",\"formatter\":{\"id\":\"bfab20ae-b36d-4c8a-a4c0-be336203985b\",\"type\":\"BasicTickFormatter\"},\"plot\":{\"id\":\"798611e2-8ddc-4297-9641-101e36626ee1\",\"subtype\":\"Figure\",\"type\":\"Plot\"},\"ticker\":{\"id\":\"f1ff8604-7966-4b4e-bf64-226f849b6b13\",\"type\":\"BasicTicker\"}},\"id\":\"bf031989-0ebe-486e-b22f-c03cfe993e11\",\"type\":\"LinearAxis\"},{\"attributes\":{\"callback\":null,\"data\":{\"x\":{\"__ndarray__\":\"0CYBcvU5UkCik9zf2GVBQF1VoNfLZ0BAVLxhiVXTPUDD1Wu1wJM6QFJyB025jjdAU6Aw5+b/NECYe1uuDfgyQB6bYtVTbTFAPxYSAF1HMEA00pYVm9QuQLolHbMzgC1AntlwirGsLECv+G9SjE4rQJH6ZLBp0ShAsLZQyPd/JkDyjgyf2PwkQLgyNGsrJyRAA13QbJD6I0C8hy0ilI4kQOVTXCEgcSZAovOGvZSGJUBVc/ZmUOIgQOf/6GHAyRlAcE8fAOBSFEDRur1U//gPQGFD9ZbokghAQsqHuSqSA0C91ci3W0UBQCtRQfvz7/4/kh8pntyB+j9t1/n+4TX1P773MAUjFfI/RgzR+CI28T8hBW8WHK7uPzVKjJfU8uk/0FPt4/z65T/wVYqzMPDhPz7K9C5CXuE/8+hSn9hY4T/9PPCkR6rhP1XsIC599OA/66X1nBCX3z/YbRM56QjcPz4dkSQc/dM/S7Wb8Fq00T+/yQdmX0vcP7TrGf476eM/WqNPJoWO7D9qOH1bcwDzP2bw+R5DQ/Y/RLSuQOQp+D8+aif8yAz5P0Wv6eBKRfk/0i2+IN4R+T/ik8QNFZr4PyS5UD5j/Pc/yJ68zXRG9z/2CHPL54H2P59SOhwKtPU/npkP8dfg9D8NlmVcdQz0P80ugRvuOvM/byxiAHN18j9USVZie8nxP5l9lNXYSPE/OB+F0UYP8T8Y7dsUCTHxP3EBgTHPcPE/bfx15p8S8T8FT+xkGtTuP6mdG7rkxuk/pboqTkHX5D/CrN8qGYngP7R4ZaL+htU/\",\"dtype\":\"float64\",\"shape\":[75]},\"y\":{\"__ndarray__\":\"GhExyth1ND/Sv8nbtpRIP2vylNV0PVE/aTum7souWD/At0SJ8fVgPw3Iuahxymc/MSNhhJWvcD/bTfBN02d3P2zb5nxnaoA/CD5h5MAGhz8NmeH1TyaQP+zrCsc9p5Y/LbKd76fGnz/bLW5ISEmmPww9YvTcQq8/JV2OstnstT8Er5Y7M8G+P0c+r3jqkcU/5h99k6ZBzj88bCIzFzjVP4enV8oyxN0//yH99nXg5D8qOpLLf0jtP5kqGJXUifQ/c9cS8kHP/D+/DpwzojQEQIEmwoanVwxA4lgXt9HgE0BSSZ2AJuIbQAMJih9jjiNA5q4l5INuK0AwTKYKRj0zQNv5fmq8/DpAaCJseHrtQkB/+zpwzoxKQM3MzMzMeFJAZmZmZmZqWEAAAAAAAFxeQM3MzMzMJmJAmpmZmZkfZUBmZmZmZhhoQDMzMzMzEWtAAAAAAAAKbkBmZmZmZoFwQM3MzMzM/XFAMzMzMzN6c0CamZmZmfZ0QAAAAAAAc3ZAZmZmZmbvd0DNzMzMzGt5QDMzMzMz6HpAmpmZmZlkfEAAAAAAAOF9QGZmZmZmXX9AZmZmZuZsgECamZmZGSuBQM3MzMxM6YFAAAAAAICngkAzMzMzs2WDQGZmZmbmI4RAmpmZmRnihEDNzMzMTKCFQAAAAACAXoZAMzMzM7Mch0BmZmZm5tqHQJqZmZkZmYhAzczMzExXiUAAAAAAgBWKQDMzMzOz04pAZmZmZuaRi0CamZmZGVCMQM3MzMxMDo1AAAAAAIDMjUAzMzMzs4qOQGZmZmbmSI9A\",\"dtype\":\"float64\",\"shape\":[75]}},\"selected\":{\"id\":\"c713d739-1c8a-410a-8491-a161c03ce805\",\"type\":\"Selection\"},\"selection_policy\":{\"id\":\"be187196-705f-410b-b359-9864a37c75cd\",\"type\":\"UnionRenderers\"}},\"id\":\"9d6b32ec-33ed-44b8-a2ee-00c1a9b2a10d\",\"type\":\"ColumnDataSource\"},{\"attributes\":{},\"id\":\"51edd37f-5f83-4d11-94f5-153492fe231c\",\"type\":\"ResetTool\"},{\"attributes\":{\"label\":{\"value\":\"CRD\"},\"renderers\":[{\"id\":\"5042f3cb-ff37-4266-9265-fc4d0f0c6b37\",\"type\":\"GlyphRenderer\"},{\"id\":\"ce192bfb-a491-4298-8be6-b6db40f9cf46\",\"type\":\"GlyphRenderer\"}]},\"id\":\"a798349c-128c-403f-b1aa-d953367e21a2\",\"type\":\"LegendItem\"},{\"attributes\":{\"label\":{\"value\":\"CLIRAD (single-run)\"},\"renderers\":[{\"id\":\"1c44936f-78c1-41ef-b774-08ecaec55b4e\",\"type\":\"GlyphRenderer\"}]},\"id\":\"34b9bbe5-c8d0-4ed0-ac41-35ea43f7bd81\",\"type\":\"LegendItem\"},{\"attributes\":{},\"id\":\"e45ac5dd-505d-4969-ac4a-6117e92de3a7\",\"type\":\"Selection\"},{\"attributes\":{\"line_color\":\"#4daf4a\",\"line_width\":1.5,\"x\":{\"field\":\"x\"},\"y\":{\"field\":\"y\"}},\"id\":\"ada9f387-e0c7-4372-a2b6-797b3a06d736\",\"type\":\"Line\"},{\"attributes\":{\"dimension\":1,\"plot\":{\"id\":\"798611e2-8ddc-4297-9641-101e36626ee1\",\"subtype\":\"Figure\",\"type\":\"Plot\"},\"ticker\":{\"id\":\"28c94dc1-2584-456b-b691-7d5eb6155a32\",\"type\":\"LogTicker\"}},\"id\":\"96851d03-fd27-4d19-947c-9f74f6cd90d0\",\"type\":\"Grid\"},{\"attributes\":{},\"id\":\"f1ff8604-7966-4b4e-bf64-226f849b6b13\",\"type\":\"BasicTicker\"},{\"attributes\":{\"source\":{\"id\":\"07b6e4a4-c1a2-4e1f-a5b9-fed0fce3595f\",\"type\":\"ColumnDataSource\"}},\"id\":\"7c4c6148-ce44-4c80-87df-2ab0612e6469\",\"type\":\"CDSView\"},{\"attributes\":{\"source\":{\"id\":\"72e7ab78-de12-4fe9-a515-d6da4dbfd66f\",\"type\":\"ColumnDataSource\"}},\"id\":\"d8a5177a-d191-4615-bad8-7a084e80cb4f\",\"type\":\"CDSView\"},{\"attributes\":{\"source\":{\"id\":\"9d6b32ec-33ed-44b8-a2ee-00c1a9b2a10d\",\"type\":\"ColumnDataSource\"}},\"id\":\"0420648c-bb78-471e-8e7f-340114266f78\",\"type\":\"CDSView\"},{\"attributes\":{\"data_source\":{\"id\":\"07b6e4a4-c1a2-4e1f-a5b9-fed0fce3595f\",\"type\":\"ColumnDataSource\"},\"glyph\":{\"id\":\"f5a5cac0-1183-4b9e-9f64-e0e578ad0d57\",\"type\":\"Circle\"},\"hover_glyph\":null,\"muted_glyph\":null,\"nonselection_glyph\":{\"id\":\"aa3fae62-af40-461b-86bf-5b9415e09edd\",\"type\":\"Circle\"},\"selection_glyph\":null,\"view\":{\"id\":\"7c4c6148-ce44-4c80-87df-2ab0612e6469\",\"type\":\"CDSView\"}},\"id\":\"fcc6a230-884f-4010-8c18-3145dd1d0150\",\"type\":\"GlyphRenderer\"},{\"attributes\":{\"source\":{\"id\":\"5dcd1701-594c-43c6-9560-70313b011d19\",\"type\":\"ColumnDataSource\"}},\"id\":\"5914a9f6-1ddf-4c96-a10b-bdad0ddea68e\",\"type\":\"CDSView\"},{\"attributes\":{},\"id\":\"30b17a2a-e421-4a0d-ba56-e8e21537fdac\",\"type\":\"UnionRenderers\"},{\"attributes\":{\"children\":[{\"id\":\"2a2a2c6f-004d-43ec-8042-4604985f4801\",\"subtype\":\"Figure\",\"type\":\"Plot\"},{\"id\":\"547557df-daaa-4084-bc25-e9a770e38d2a\",\"subtype\":\"Figure\",\"type\":\"Plot\"},{\"id\":\"798611e2-8ddc-4297-9641-101e36626ee1\",\"subtype\":\"Figure\",\"type\":\"Plot\"}]},\"id\":\"c161bccb-96ad-4593-b699-a4cafca2ca11\",\"type\":\"Row\"},{\"attributes\":{\"plot\":null,\"text\":\"\"},\"id\":\"0b982343-3607-48d1-94b7-475c5e81472f\",\"type\":\"Title\"},{\"attributes\":{},\"id\":\"be187196-705f-410b-b359-9864a37c75cd\",\"type\":\"UnionRenderers\"},{\"attributes\":{\"data_source\":{\"id\":\"04bdd4c2-fce1-48cf-bc76-198d9fb8978e\",\"type\":\"ColumnDataSource\"},\"glyph\":{\"id\":\"4cee8c88-3a46-4001-9ad8-bb677629f02e\",\"type\":\"Circle\"},\"hover_glyph\":null,\"muted_glyph\":null,\"nonselection_glyph\":{\"id\":\"765cabfd-d6e9-492d-a553-8585b7a3d918\",\"type\":\"Circle\"},\"selection_glyph\":null,\"view\":{\"id\":\"8291d93b-e537-44fa-ad16-68a5367f5398\",\"type\":\"CDSView\"}},\"id\":\"5042f3cb-ff37-4266-9265-fc4d0f0c6b37\",\"type\":\"GlyphRenderer\"},{\"attributes\":{},\"id\":\"f53a5a9b-6a4e-4949-a41e-6a3ca42b788f\",\"type\":\"BasicTickFormatter\"},{\"attributes\":{},\"id\":\"1760bc71-9f16-466d-ad55-f29414a54276\",\"type\":\"WheelZoomTool\"},{\"attributes\":{\"fill_alpha\":{\"value\":0.7},\"fill_color\":{\"value\":\"#4daf4a\"},\"line_alpha\":{\"value\":0.7},\"line_color\":{\"value\":\"#4daf4a\"},\"x\":{\"field\":\"x\"},\"y\":{\"field\":\"y\"}},\"id\":\"4cee8c88-3a46-4001-9ad8-bb677629f02e\",\"type\":\"Circle\"},{\"attributes\":{\"plot\":null,\"text\":\"\"},\"id\":\"bde6507f-4962-4ed0-bce4-7a047d883882\",\"type\":\"Title\"},{\"attributes\":{},\"id\":\"2ba2a60e-c87a-48d7-a9e7-b7b7fb66a283\",\"type\":\"Selection\"},{\"attributes\":{\"ticker\":null},\"id\":\"d83e90ad-006f-43cf-8ca3-abb997a36455\",\"type\":\"LogTickFormatter\"},{\"attributes\":{\"ticker\":null},\"id\":\"1e896d2c-c523-41c8-be1e-79fead5e226f\",\"type\":\"LogTickFormatter\"},{\"attributes\":{},\"id\":\"c713d739-1c8a-410a-8491-a161c03ce805\",\"type\":\"Selection\"},{\"attributes\":{},\"id\":\"8fe1f55d-a7b9-449d-8200-39afe548784a\",\"type\":\"PanTool\"},{\"attributes\":{},\"id\":\"d64b70ac-968c-4c43-8569-43105b8eb707\",\"type\":\"BasicTickFormatter\"},{\"attributes\":{},\"id\":\"bfab20ae-b36d-4c8a-a4c0-be336203985b\",\"type\":\"BasicTickFormatter\"},{\"attributes\":{},\"id\":\"5d949f20-a74b-4cd8-8a75-637fd5aea5e2\",\"type\":\"UnionRenderers\"},{\"attributes\":{\"above\":[{\"id\":\"26ed18ac-9529-4025-aca5-0cbeae849ade\",\"type\":\"Legend\"}],\"below\":[{\"id\":\"bf031989-0ebe-486e-b22f-c03cfe993e11\",\"type\":\"LinearAxis\"}],\"left\":[{\"id\":\"c3bf7da7-f98b-409e-a982-dd7944edad6e\",\"type\":\"LogAxis\"}],\"plot_width\":300,\"renderers\":[{\"id\":\"bf031989-0ebe-486e-b22f-c03cfe993e11\",\"type\":\"LinearAxis\"},{\"id\":\"87bc350b-896a-4ab3-a771-7cd3e4b2e916\",\"type\":\"Grid\"},{\"id\":\"c3bf7da7-f98b-409e-a982-dd7944edad6e\",\"type\":\"LogAxis\"},{\"id\":\"96851d03-fd27-4d19-947c-9f74f6cd90d0\",\"type\":\"Grid\"},{\"id\":\"738865fd-9cc4-4036-a8d6-adde705b2a69\",\"type\":\"BoxAnnotation\"},{\"id\":\"fcc6a230-884f-4010-8c18-3145dd1d0150\",\"type\":\"GlyphRenderer\"},{\"id\":\"d9f70ba6-f65d-4b52-8609-26c3dc319354\",\"type\":\"GlyphRenderer\"},{\"id\":\"26ed18ac-9529-4025-aca5-0cbeae849ade\",\"type\":\"Legend\"}],\"title\":{\"id\":\"0b982343-3607-48d1-94b7-475c5e81472f\",\"type\":\"Title\"},\"toolbar\":{\"id\":\"c373efc2-7a56-4595-a637-f8b27b1badf0\",\"type\":\"Toolbar\"},\"toolbar_location\":null,\"x_range\":{\"id\":\"5ff4f1ec-dcac-40e7-8840-04f4f7f7bd42\",\"type\":\"Range1d\"},\"x_scale\":{\"id\":\"54af949d-3d13-4b3e-b147-8d4ae89b713f\",\"type\":\"LinearScale\"},\"y_range\":{\"id\":\"0a8f690f-e083-44ec-b1cf-f03c5b7c7cdd\",\"type\":\"Range1d\"},\"y_scale\":{\"id\":\"24d1892a-2072-4a6c-9f14-3f865bb4a262\",\"type\":\"LogScale\"}},\"id\":\"798611e2-8ddc-4297-9641-101e36626ee1\",\"subtype\":\"Figure\",\"type\":\"Plot\"},{\"attributes\":{},\"id\":\"c2ac6bf7-911b-4ca7-9011-073a1942665c\",\"type\":\"UnionRenderers\"},{\"attributes\":{\"fill_alpha\":{\"value\":0.1},\"fill_color\":{\"value\":\"#1f77b4\"},\"line_alpha\":{\"value\":0.1},\"line_color\":{\"value\":\"#1f77b4\"},\"x\":{\"field\":\"x\"},\"y\":{\"field\":\"y\"}},\"id\":\"765cabfd-d6e9-492d-a553-8585b7a3d918\",\"type\":\"Circle\"},{\"attributes\":{},\"id\":\"d3460bb0-8c1a-416d-b697-6a372ec0e8dc\",\"type\":\"UnionRenderers\"},{\"attributes\":{\"callback\":null,\"data\":{\"x\":{\"__ndarray__\":\"0CYBcvU5UkCik9zf2GVBQF1VoNfLZ0BAVLxhiVXTPUDD1Wu1wJM6QFJyB025jjdAU6Aw5+b/NECYe1uuDfgyQB6bYtVTbTFAPxYSAF1HMEA00pYVm9QuQLolHbMzgC1AntlwirGsLECv+G9SjE4rQJH6ZLBp0ShAsLZQyPd/JkDyjgyf2PwkQLgyNGsrJyRAA13QbJD6I0C8hy0ilI4kQOVTXCEgcSZAovOGvZSGJUBVc/ZmUOIgQOf/6GHAyRlAcE8fAOBSFEDRur1U//gPQGFD9ZbokghAQsqHuSqSA0C91ci3W0UBQCtRQfvz7/4/kh8pntyB+j9t1/n+4TX1P773MAUjFfI/RgzR+CI28T8hBW8WHK7uPzVKjJfU8uk/0FPt4/z65T/wVYqzMPDhPz7K9C5CXuE/8+hSn9hY4T/9PPCkR6rhP1XsIC599OA/66X1nBCX3z/YbRM56QjcPz4dkSQc/dM/S7Wb8Fq00T+/yQdmX0vcP7TrGf476eM/WqNPJoWO7D9qOH1bcwDzP2bw+R5DQ/Y/RLSuQOQp+D8+aif8yAz5P0Wv6eBKRfk/0i2+IN4R+T/ik8QNFZr4PyS5UD5j/Pc/yJ68zXRG9z/2CHPL54H2P59SOhwKtPU/npkP8dfg9D8NlmVcdQz0P80ugRvuOvM/byxiAHN18j9USVZie8nxP5l9lNXYSPE/OB+F0UYP8T8Y7dsUCTHxP3EBgTHPcPE/bfx15p8S8T8FT+xkGtTuP6mdG7rkxuk/pboqTkHX5D/CrN8qGYngP7R4ZaL+htU/\",\"dtype\":\"float64\",\"shape\":[75]},\"y\":{\"__ndarray__\":\"GhExyth1ND/Sv8nbtpRIP2vylNV0PVE/aTum7souWD/At0SJ8fVgPw3Iuahxymc/MSNhhJWvcD/bTfBN02d3P2zb5nxnaoA/CD5h5MAGhz8NmeH1TyaQP+zrCsc9p5Y/LbKd76fGnz/bLW5ISEmmPww9YvTcQq8/JV2OstnstT8Er5Y7M8G+P0c+r3jqkcU/5h99k6ZBzj88bCIzFzjVP4enV8oyxN0//yH99nXg5D8qOpLLf0jtP5kqGJXUifQ/c9cS8kHP/D+/DpwzojQEQIEmwoanVwxA4lgXt9HgE0BSSZ2AJuIbQAMJih9jjiNA5q4l5INuK0AwTKYKRj0zQNv5fmq8/DpAaCJseHrtQkB/+zpwzoxKQM3MzMzMeFJAZmZmZmZqWEAAAAAAAFxeQM3MzMzMJmJAmpmZmZkfZUBmZmZmZhhoQDMzMzMzEWtAAAAAAAAKbkBmZmZmZoFwQM3MzMzM/XFAMzMzMzN6c0CamZmZmfZ0QAAAAAAAc3ZAZmZmZmbvd0DNzMzMzGt5QDMzMzMz6HpAmpmZmZlkfEAAAAAAAOF9QGZmZmZmXX9AZmZmZuZsgECamZmZGSuBQM3MzMxM6YFAAAAAAICngkAzMzMzs2WDQGZmZmbmI4RAmpmZmRnihEDNzMzMTKCFQAAAAACAXoZAMzMzM7Mch0BmZmZm5tqHQJqZmZkZmYhAzczMzExXiUAAAAAAgBWKQDMzMzOz04pAZmZmZuaRi0CamZmZGVCMQM3MzMxMDo1AAAAAAIDMjUAzMzMzs4qOQGZmZmbmSI9A\",\"dtype\":\"float64\",\"shape\":[75]}},\"selected\":{\"id\":\"879cdcf0-b17f-469e-89fd-a2eb005c57c5\",\"type\":\"Selection\"},\"selection_policy\":{\"id\":\"d3460bb0-8c1a-416d-b697-6a372ec0e8dc\",\"type\":\"UnionRenderers\"}},\"id\":\"04bdd4c2-fce1-48cf-bc76-198d9fb8978e\",\"type\":\"ColumnDataSource\"},{\"attributes\":{},\"id\":\"3846db45-9e59-4cdd-8e09-2daab99d1f8d\",\"type\":\"BasicTickFormatter\"},{\"attributes\":{\"plot\":null,\"text\":\"\"},\"id\":\"7986bb30-70f9-4daf-a00e-d1ccfd9c9666\",\"type\":\"Title\"},{\"attributes\":{\"active_drag\":\"auto\",\"active_inspect\":\"auto\",\"active_scroll\":\"auto\",\"active_tap\":\"auto\",\"tools\":[{\"id\":\"8fe1f55d-a7b9-449d-8200-39afe548784a\",\"type\":\"PanTool\"},{\"id\":\"1760bc71-9f16-466d-ad55-f29414a54276\",\"type\":\"WheelZoomTool\"},{\"id\":\"d98965d2-c2e0-4285-ad04-916e0311dcc9\",\"type\":\"BoxZoomTool\"},{\"id\":\"3cdad06e-6cac-45b9-9de8-7880daed9ef1\",\"type\":\"SaveTool\"},{\"id\":\"dbbf7a92-de1d-4c61-bc9b-fe32c54b9eba\",\"type\":\"ResetTool\"},{\"id\":\"f385dc1e-4798-4071-bb9c-d3a4f844a53d\",\"type\":\"HelpTool\"}]},\"id\":\"c373efc2-7a56-4595-a637-f8b27b1badf0\",\"type\":\"Toolbar\"},{\"attributes\":{\"callback\":null,\"data\":{\"x\":{\"__ndarray__\":\"0CYBcvU5UkCik9zf2GVBQF1VoNfLZ0BAVLxhiVXTPUDD1Wu1wJM6QFJyB025jjdAU6Aw5+b/NECYe1uuDfgyQB6bYtVTbTFAPxYSAF1HMEA00pYVm9QuQLolHbMzgC1AntlwirGsLECv+G9SjE4rQJH6ZLBp0ShAsLZQyPd/JkDyjgyf2PwkQLgyNGsrJyRAA13QbJD6I0C8hy0ilI4kQOVTXCEgcSZAovOGvZSGJUBVc/ZmUOIgQOf/6GHAyRlAcE8fAOBSFEDRur1U//gPQGFD9ZbokghAQsqHuSqSA0C91ci3W0UBQCtRQfvz7/4/kh8pntyB+j9t1/n+4TX1P773MAUjFfI/RgzR+CI28T8hBW8WHK7uPzVKjJfU8uk/0FPt4/z65T/wVYqzMPDhPz7K9C5CXuE/8+hSn9hY4T/9PPCkR6rhP1XsIC599OA/66X1nBCX3z/YbRM56QjcPz4dkSQc/dM/S7Wb8Fq00T+/yQdmX0vcP7TrGf476eM/WqNPJoWO7D9qOH1bcwDzP2bw+R5DQ/Y/RLSuQOQp+D8+aif8yAz5P0Wv6eBKRfk/0i2+IN4R+T/ik8QNFZr4PyS5UD5j/Pc/yJ68zXRG9z/2CHPL54H2P59SOhwKtPU/npkP8dfg9D8NlmVcdQz0P80ugRvuOvM/byxiAHN18j9USVZie8nxP5l9lNXYSPE/OB+F0UYP8T8Y7dsUCTHxP3EBgTHPcPE/bfx15p8S8T8FT+xkGtTuP6mdG7rkxuk/pboqTkHX5D/CrN8qGYngP7R4ZaL+htU/\",\"dtype\":\"float64\",\"shape\":[75]},\"y\":{\"__ndarray__\":\"GhExyth1ND/Sv8nbtpRIP2vylNV0PVE/aTum7souWD/At0SJ8fVgPw3Iuahxymc/MSNhhJWvcD/bTfBN02d3P2zb5nxnaoA/CD5h5MAGhz8NmeH1TyaQP+zrCsc9p5Y/LbKd76fGnz/bLW5ISEmmPww9YvTcQq8/JV2OstnstT8Er5Y7M8G+P0c+r3jqkcU/5h99k6ZBzj88bCIzFzjVP4enV8oyxN0//yH99nXg5D8qOpLLf0jtP5kqGJXUifQ/c9cS8kHP/D+/DpwzojQEQIEmwoanVwxA4lgXt9HgE0BSSZ2AJuIbQAMJih9jjiNA5q4l5INuK0AwTKYKRj0zQNv5fmq8/DpAaCJseHrtQkB/+zpwzoxKQM3MzMzMeFJAZmZmZmZqWEAAAAAAAFxeQM3MzMzMJmJAmpmZmZkfZUBmZmZmZhhoQDMzMzMzEWtAAAAAAAAKbkBmZmZmZoFwQM3MzMzM/XFAMzMzMzN6c0CamZmZmfZ0QAAAAAAAc3ZAZmZmZmbvd0DNzMzMzGt5QDMzMzMz6HpAmpmZmZlkfEAAAAAAAOF9QGZmZmZmXX9AZmZmZuZsgECamZmZGSuBQM3MzMxM6YFAAAAAAICngkAzMzMzs2WDQGZmZmbmI4RAmpmZmRnihEDNzMzMTKCFQAAAAACAXoZAMzMzM7Mch0BmZmZm5tqHQJqZmZkZmYhAzczMzExXiUAAAAAAgBWKQDMzMzOz04pAZmZmZuaRi0CamZmZGVCMQM3MzMxMDo1AAAAAAIDMjUAzMzMzs4qOQGZmZmbmSI9A\",\"dtype\":\"float64\",\"shape\":[75]}},\"selected\":{\"id\":\"cf4624e0-6b79-4717-8c76-9f34fad971ef\",\"type\":\"Selection\"},\"selection_policy\":{\"id\":\"2c1293ee-b906-45f0-b60d-2ff75f295504\",\"type\":\"UnionRenderers\"}},\"id\":\"5dcd1701-594c-43c6-9560-70313b011d19\",\"type\":\"ColumnDataSource\"},{\"attributes\":{\"source\":{\"id\":\"04bdd4c2-fce1-48cf-bc76-198d9fb8978e\",\"type\":\"ColumnDataSource\"}},\"id\":\"8291d93b-e537-44fa-ad16-68a5367f5398\",\"type\":\"CDSView\"},{\"attributes\":{\"above\":[{\"id\":\"cdd21461-e279-4f67-b37f-524fb3898a6c\",\"type\":\"Legend\"}],\"below\":[{\"id\":\"b32e82b7-b40e-4057-a70b-30b19514656c\",\"type\":\"LinearAxis\"}],\"left\":[{\"id\":\"5bafe036-146d-4b3d-b385-9ddd96bb6709\",\"type\":\"LinearAxis\"}],\"plot_width\":300,\"renderers\":[{\"id\":\"b32e82b7-b40e-4057-a70b-30b19514656c\",\"type\":\"LinearAxis\"},{\"id\":\"e6eac7c8-ae20-487c-bcee-22d7f395df0c\",\"type\":\"Grid\"},{\"id\":\"5bafe036-146d-4b3d-b385-9ddd96bb6709\",\"type\":\"LinearAxis\"},{\"id\":\"093941a6-3e9b-4e0c-9416-9744d837c575\",\"type\":\"Grid\"},{\"id\":\"aabe9084-1ba5-4db1-9f37-9e897f5e246f\",\"type\":\"BoxAnnotation\"},{\"id\":\"1c44936f-78c1-41ef-b774-08ecaec55b4e\",\"type\":\"GlyphRenderer\"},{\"id\":\"1a549de0-aa26-4ff3-a325-e5a609a2fb41\",\"type\":\"GlyphRenderer\"},{\"id\":\"6d177543-8582-4fca-bbb9-a12bcbded05b\",\"type\":\"GlyphRenderer\"},{\"id\":\"cdd21461-e279-4f67-b37f-524fb3898a6c\",\"type\":\"Legend\"}],\"title\":{\"id\":\"7986bb30-70f9-4daf-a00e-d1ccfd9c9666\",\"type\":\"Title\"},\"toolbar\":{\"id\":\"07bfab85-258d-4795-979a-f0b15ef4cc6b\",\"type\":\"Toolbar\"},\"toolbar_location\":null,\"x_range\":{\"id\":\"8ff42fa1-65b0-4940-bc85-b3a18b7f1bed\",\"type\":\"Range1d\"},\"x_scale\":{\"id\":\"6737ad1b-b999-406f-b101-30bb4a1b9366\",\"type\":\"LinearScale\"},\"y_range\":{\"id\":\"66b81fdc-e7f5-4d88-b05a-d4dc6134d565\",\"type\":\"Range1d\"},\"y_scale\":{\"id\":\"d1ba3ad8-34ef-46d3-b777-e2be0c4c4e13\",\"type\":\"LinearScale\"}},\"id\":\"2a2a2c6f-004d-43ec-8042-4604985f4801\",\"subtype\":\"Figure\",\"type\":\"Plot\"},{\"attributes\":{},\"id\":\"2b2e036c-66ee-45b7-8d39-1e1d2e4744c0\",\"type\":\"Selection\"},{\"attributes\":{},\"id\":\"8861c487-1f13-4bfe-9554-14443203a195\",\"type\":\"UnionRenderers\"},{\"attributes\":{},\"id\":\"879cdcf0-b17f-469e-89fd-a2eb005c57c5\",\"type\":\"Selection\"},{\"attributes\":{},\"id\":\"2c1293ee-b906-45f0-b60d-2ff75f295504\",\"type\":\"UnionRenderers\"},{\"attributes\":{\"label\":{\"value\":\"CLIRAD (single-run) - CRD\"},\"renderers\":[{\"id\":\"fcc6a230-884f-4010-8c18-3145dd1d0150\",\"type\":\"GlyphRenderer\"},{\"id\":\"d9f70ba6-f65d-4b52-8609-26c3dc319354\",\"type\":\"GlyphRenderer\"}]},\"id\":\"72a1f82e-1ba8-4295-979b-6054f226d566\",\"type\":\"LegendItem\"},{\"attributes\":{},\"id\":\"8b97379c-9d8f-4e35-93af-aa029849b74d\",\"type\":\"PanTool\"},{\"attributes\":{\"callback\":null,\"end\":0.01,\"start\":1020},\"id\":\"66b81fdc-e7f5-4d88-b05a-d4dc6134d565\",\"type\":\"Range1d\"},{\"attributes\":{\"axis_label\":\"cooling rate [K/day]\",\"formatter\":{\"id\":\"3846db45-9e59-4cdd-8e09-2daab99d1f8d\",\"type\":\"BasicTickFormatter\"},\"plot\":{\"id\":\"2a2a2c6f-004d-43ec-8042-4604985f4801\",\"subtype\":\"Figure\",\"type\":\"Plot\"},\"ticker\":{\"id\":\"95265769-9689-4856-9270-28528914a5bf\",\"type\":\"BasicTicker\"}},\"id\":\"b32e82b7-b40e-4057-a70b-30b19514656c\",\"type\":\"LinearAxis\"},{\"attributes\":{},\"id\":\"6737ad1b-b999-406f-b101-30bb4a1b9366\",\"type\":\"LinearScale\"},{\"attributes\":{\"data_source\":{\"id\":\"a2a0394b-d828-494c-87d6-5ac84aa64c57\",\"type\":\"ColumnDataSource\"},\"glyph\":{\"id\":\"ea322317-1150-45a2-9b5e-1e42f212f6cf\",\"type\":\"Line\"},\"hover_glyph\":null,\"muted_glyph\":null,\"nonselection_glyph\":{\"id\":\"3d2f8ee8-5633-4b7d-b397-6cfe70adda75\",\"type\":\"Line\"},\"selection_glyph\":null,\"view\":{\"id\":\"1ea6dc8a-79c9-439c-97ff-516391c19904\",\"type\":\"CDSView\"}},\"id\":\"1c44936f-78c1-41ef-b774-08ecaec55b4e\",\"type\":\"GlyphRenderer\"},{\"attributes\":{\"children\":[{\"id\":\"94a702e0-c54e-49ef-9eae-13a8bf406197\",\"type\":\"ToolbarBox\"},{\"id\":\"44d2f06b-edd5-435e-a706-3dd7233ba553\",\"type\":\"Column\"}]},\"id\":\"a5889a04-102b-4303-8f8c-81a39e543164\",\"type\":\"Column\"},{\"attributes\":{\"toolbar\":{\"id\":\"799e581f-56aa-4363-a5c0-90b1b6111b6c\",\"type\":\"ProxyToolbar\"},\"toolbar_location\":\"above\"},\"id\":\"94a702e0-c54e-49ef-9eae-13a8bf406197\",\"type\":\"ToolbarBox\"},{\"attributes\":{\"items\":[{\"id\":\"34b9bbe5-c8d0-4ed0-ac41-35ea43f7bd81\",\"type\":\"LegendItem\"},{\"id\":\"8e00346b-4f8c-4b2e-a72d-fac4b2090ee5\",\"type\":\"LegendItem\"}],\"label_text_font_size\":{\"value\":\"8pt\"},\"location\":\"top_center\",\"orientation\":\"horizontal\",\"plot\":{\"id\":\"2a2a2c6f-004d-43ec-8042-4604985f4801\",\"subtype\":\"Figure\",\"type\":\"Plot\"}},\"id\":\"cdd21461-e279-4f67-b37f-524fb3898a6c\",\"type\":\"Legend\"},{\"attributes\":{},\"id\":\"db989e4b-5c9d-46c7-b76c-4e9fcedebec4\",\"type\":\"WheelZoomTool\"},{\"attributes\":{\"tools\":[{\"id\":\"8b97379c-9d8f-4e35-93af-aa029849b74d\",\"type\":\"PanTool\"},{\"id\":\"db989e4b-5c9d-46c7-b76c-4e9fcedebec4\",\"type\":\"WheelZoomTool\"},{\"id\":\"ae92b90f-af22-4d1e-9f78-4abad23da455\",\"type\":\"BoxZoomTool\"},{\"id\":\"bec18392-c869-4c37-ae94-c46f570657bf\",\"type\":\"SaveTool\"},{\"id\":\"51edd37f-5f83-4d11-94f5-153492fe231c\",\"type\":\"ResetTool\"},{\"id\":\"2b54f4ce-03c9-4cf7-a689-1e68cb2f38a3\",\"type\":\"HelpTool\"},{\"id\":\"d598243d-a92b-4ed5-82a5-0948a02fcdc7\",\"type\":\"PanTool\"},{\"id\":\"89d264d1-08bb-462d-8399-80989822b1f5\",\"type\":\"WheelZoomTool\"},{\"id\":\"970339d8-de4e-4694-bac3-e4850cf5ca45\",\"type\":\"BoxZoomTool\"},{\"id\":\"7019cc52-0439-416f-8bec-e7100a6ed192\",\"type\":\"SaveTool\"},{\"id\":\"35b3368a-f413-403f-b2a8-cf5dcf63dfa2\",\"type\":\"ResetTool\"},{\"id\":\"bbbea75c-b640-4dae-9a1f-f94cde2efbce\",\"type\":\"HelpTool\"},{\"id\":\"8fe1f55d-a7b9-449d-8200-39afe548784a\",\"type\":\"PanTool\"},{\"id\":\"1760bc71-9f16-466d-ad55-f29414a54276\",\"type\":\"WheelZoomTool\"},{\"id\":\"d98965d2-c2e0-4285-ad04-916e0311dcc9\",\"type\":\"BoxZoomTool\"},{\"id\":\"3cdad06e-6cac-45b9-9de8-7880daed9ef1\",\"type\":\"SaveTool\"},{\"id\":\"dbbf7a92-de1d-4c61-bc9b-fe32c54b9eba\",\"type\":\"ResetTool\"},{\"id\":\"f385dc1e-4798-4071-bb9c-d3a4f844a53d\",\"type\":\"HelpTool\"}]},\"id\":\"799e581f-56aa-4363-a5c0-90b1b6111b6c\",\"type\":\"ProxyToolbar\"},{\"attributes\":{\"callback\":null,\"end\":1.5925520597826701,\"start\":0.25278747673033},\"id\":\"8ff42fa1-65b0-4940-bc85-b3a18b7f1bed\",\"type\":\"Range1d\"},{\"attributes\":{\"line_alpha\":0.1,\"line_color\":\"#1f77b4\",\"line_dash\":[6],\"line_width\":5,\"x\":{\"field\":\"x\"},\"y\":{\"field\":\"y\"}},\"id\":\"3d2f8ee8-5633-4b7d-b397-6cfe70adda75\",\"type\":\"Line\"},{\"attributes\":{\"overlay\":{\"id\":\"a3f2e674-ac71-440e-81ca-04202455df1e\",\"type\":\"BoxAnnotation\"}},\"id\":\"970339d8-de4e-4694-bac3-e4850cf5ca45\",\"type\":\"BoxZoomTool\"},{\"attributes\":{\"line_alpha\":0.6,\"line_color\":\"#377eb8\",\"line_dash\":[6],\"line_width\":5,\"x\":{\"field\":\"x\"},\"y\":{\"field\":\"y\"}},\"id\":\"ea322317-1150-45a2-9b5e-1e42f212f6cf\",\"type\":\"Line\"},{\"attributes\":{\"data_source\":{\"id\":\"5dcd1701-594c-43c6-9560-70313b011d19\",\"type\":\"ColumnDataSource\"},\"glyph\":{\"id\":\"33c63b92-65d8-4949-8cc4-6e605fcfd2ac\",\"type\":\"Line\"},\"hover_glyph\":null,\"muted_glyph\":null,\"nonselection_glyph\":{\"id\":\"7bf22886-8ad3-4598-a978-7ffa41823b36\",\"type\":\"Line\"},\"selection_glyph\":null,\"view\":{\"id\":\"5914a9f6-1ddf-4c96-a10b-bdad0ddea68e\",\"type\":\"CDSView\"}},\"id\":\"ce192bfb-a491-4298-8be6-b6db40f9cf46\",\"type\":\"GlyphRenderer\"},{\"attributes\":{\"axis_label\":\"pressure [mb]\",\"formatter\":{\"id\":\"f53a5a9b-6a4e-4949-a41e-6a3ca42b788f\",\"type\":\"BasicTickFormatter\"},\"plot\":{\"id\":\"2a2a2c6f-004d-43ec-8042-4604985f4801\",\"subtype\":\"Figure\",\"type\":\"Plot\"},\"ticker\":{\"id\":\"48438161-7a80-47df-9c24-8eca69bc9926\",\"type\":\"BasicTicker\"}},\"id\":\"5bafe036-146d-4b3d-b385-9ddd96bb6709\",\"type\":\"LinearAxis\"},{\"attributes\":{\"num_minor_ticks\":10},\"id\":\"ba57a50a-59e0-4847-a692-16e9ead7f486\",\"type\":\"LogTicker\"},{\"attributes\":{\"line_alpha\":0.1,\"line_color\":\"#1f77b4\",\"line_width\":1.5,\"x\":{\"field\":\"x\"},\"y\":{\"field\":\"y\"}},\"id\":\"7bf22886-8ad3-4598-a978-7ffa41823b36\",\"type\":\"Line\"},{\"attributes\":{\"line_alpha\":0.1,\"line_color\":\"#1f77b4\",\"line_dash\":[6],\"line_width\":5,\"x\":{\"field\":\"x\"},\"y\":{\"field\":\"y\"}},\"id\":\"04a12a1c-14ba-45ea-a59a-1e51f9dbf6e3\",\"type\":\"Line\"},{\"attributes\":{\"callback\":null,\"data\":{\"x\":{\"__ndarray__\":\"/3gEEI2UQEB0c9Dyc4w8QD4Snx5gWT5AFZGcg+DzPkDYuZ5UNgY+QOQFUWxaiTtAJ8DHxwLZN0CaDBxtwNEzQHB3T1JOgDBAqgJPUzdBLUAe/HRqAFAsQFSv4d6I2CxANirWFRW2LUCUHZfp5zstQOmztrvKoCpAP9+BL/hHJ0AOuwcTjXUkQH9IUrXU0CJAw/AV2NWiIkADs+SX97kjQBnUSknZKCZAob123iaqJUC4+jy7qSYhQET39BNTYRlA8h7eZutmE0DRGDGap7MPQNFp3YuZvQpAbUJm/ObPBUCXEVqHsCYCQKiqyakxdP8/TACEl5IJ/T+x36gvONj4P/WeSfiLL/Q/Ne11Qx4f8T9KO/snl8XuPwAFjDANXOw/ECia+rR+5z/5xrZqtSrhP87q9DpG090/BhYs5hIw3T8TpNj1dqrePxgwooWPUd4/oFDDMBzn3D+hGPElCWPaPxcG4a4W8tI/SPcufN8E0T+Jx6v2fkPcP6Ojb0QSwOM/zctF4t2z6z9opHhLdyvyP4FPJXk/b/U/u1x3mN2T9z9xG3Lf+XH4P5hGdwrobvg/Vn3mdk49+D9YubJsL+/3P7/luSDMffc/5EORdUbl9j8uE9yIYjP2P7kamugzgPU/QlxJFNm49D8sS/Y7lOnzPzVsLhNSEvM/nKsN3cpI8j/zk0wAFaHxP6Zz65TTLvE/Fg7ZiLQN8T8jxFOXpVDxP4PdzMKAqPE/RD1PzBJe8T9HiM/2GIfvP1JwtsmBh+o/vb6j/cCS5T/xD0UD5EPhP++YhMum7NY/\",\"dtype\":\"float64\",\"shape\":[75]},\"y\":{\"__ndarray__\":\"GhExyth1ND/Sv8nbtpRIP2vylNV0PVE/aTum7souWD/At0SJ8fVgPw3Iuahxymc/MSNhhJWvcD/bTfBN02d3P2zb5nxnaoA/CD5h5MAGhz8NmeH1TyaQP+zrCsc9p5Y/LbKd76fGnz/bLW5ISEmmPww9YvTcQq8/JV2OstnstT8Er5Y7M8G+P0c+r3jqkcU/5h99k6ZBzj88bCIzFzjVP4enV8oyxN0//yH99nXg5D8qOpLLf0jtP5kqGJXUifQ/c9cS8kHP/D+/DpwzojQEQIEmwoanVwxA4lgXt9HgE0BSSZ2AJuIbQAMJih9jjiNA5q4l5INuK0AwTKYKRj0zQNv5fmq8/DpAaCJseHrtQkB/+zpwzoxKQM3MzMzMeFJAZmZmZmZqWEAAAAAAAFxeQM3MzMzMJmJAmpmZmZkfZUBmZmZmZhhoQDMzMzMzEWtAAAAAAAAKbkBmZmZmZoFwQM3MzMzM/XFAMzMzMzN6c0CamZmZmfZ0QAAAAAAAc3ZAZmZmZmbvd0DNzMzMzGt5QDMzMzMz6HpAmpmZmZlkfEAAAAAAAOF9QGZmZmZmXX9AZmZmZuZsgECamZmZGSuBQM3MzMxM6YFAAAAAAICngkAzMzMzs2WDQGZmZmbmI4RAmpmZmRnihEDNzMzMTKCFQAAAAACAXoZAMzMzM7Mch0BmZmZm5tqHQJqZmZkZmYhAzczMzExXiUAAAAAAgBWKQDMzMzOz04pAZmZmZuaRi0CamZmZGVCMQM3MzMxMDo1AAAAAAIDMjUAzMzMzs4qOQGZmZmbmSI9A\",\"dtype\":\"float64\",\"shape\":[75]}},\"selected\":{\"id\":\"dcb13c12-b1c0-4a30-948f-91069dca3477\",\"type\":\"Selection\"},\"selection_policy\":{\"id\":\"30b17a2a-e421-4a0d-ba56-e8e21537fdac\",\"type\":\"UnionRenderers\"}},\"id\":\"bee71c3f-5a75-48d3-ac48-d75b27f4d9fe\",\"type\":\"ColumnDataSource\"},{\"attributes\":{},\"id\":\"7019cc52-0439-416f-8bec-e7100a6ed192\",\"type\":\"SaveTool\"},{\"attributes\":{\"bottom_units\":\"screen\",\"fill_alpha\":{\"value\":0.5},\"fill_color\":{\"value\":\"lightgrey\"},\"left_units\":\"screen\",\"level\":\"overlay\",\"line_alpha\":{\"value\":1.0},\"line_color\":{\"value\":\"black\"},\"line_dash\":[4,4],\"line_width\":{\"value\":2},\"plot\":null,\"render_mode\":\"css\",\"right_units\":\"screen\",\"top_units\":\"screen\"},\"id\":\"738865fd-9cc4-4036-a8d6-adde705b2a69\",\"type\":\"BoxAnnotation\"},{\"attributes\":{\"line_color\":\"#4daf4a\",\"line_width\":1.5,\"x\":{\"field\":\"x\"},\"y\":{\"field\":\"y\"}},\"id\":\"33c63b92-65d8-4949-8cc4-6e605fcfd2ac\",\"type\":\"Line\"},{\"attributes\":{},\"id\":\"cf4624e0-6b79-4717-8c76-9f34fad971ef\",\"type\":\"Selection\"},{\"attributes\":{\"callback\":null,\"end\":16.436989857875947,\"start\":0.29783215711705},\"id\":\"36b0144c-f7a9-499c-a742-b836f6d62366\",\"type\":\"Range1d\"},{\"attributes\":{},\"id\":\"35b3368a-f413-403f-b2a8-cf5dcf63dfa2\",\"type\":\"ResetTool\"},{\"attributes\":{},\"id\":\"89d264d1-08bb-462d-8399-80989822b1f5\",\"type\":\"WheelZoomTool\"},{\"attributes\":{\"callback\":null,\"end\":0.01,\"start\":1020},\"id\":\"7d604cba-4ab9-40f7-bc60-5499d11fcd42\",\"type\":\"Range1d\"},{\"attributes\":{},\"id\":\"114deb20-d496-4a5d-a2c3-800a1e936074\",\"type\":\"LinearScale\"},{\"attributes\":{},\"id\":\"d598243d-a92b-4ed5-82a5-0948a02fcdc7\",\"type\":\"PanTool\"},{\"attributes\":{},\"id\":\"bbbea75c-b640-4dae-9a1f-f94cde2efbce\",\"type\":\"HelpTool\"},{\"attributes\":{},\"id\":\"f385dc1e-4798-4071-bb9c-d3a4f844a53d\",\"type\":\"HelpTool\"},{\"attributes\":{},\"id\":\"8d310481-5b17-4629-a14a-af0575e5b9a9\",\"type\":\"BasicTicker\"},{\"attributes\":{\"line_alpha\":0.6,\"line_color\":\"#377eb8\",\"line_dash\":[6],\"line_width\":5,\"x\":{\"field\":\"x\"},\"y\":{\"field\":\"y\"}},\"id\":\"6b3bfad8-af5f-41c3-a031-0b61fca362b8\",\"type\":\"Line\"},{\"attributes\":{\"active_drag\":\"auto\",\"active_inspect\":\"auto\",\"active_scroll\":\"auto\",\"active_tap\":\"auto\",\"tools\":[{\"id\":\"8b97379c-9d8f-4e35-93af-aa029849b74d\",\"type\":\"PanTool\"},{\"id\":\"db989e4b-5c9d-46c7-b76c-4e9fcedebec4\",\"type\":\"WheelZoomTool\"},{\"id\":\"ae92b90f-af22-4d1e-9f78-4abad23da455\",\"type\":\"BoxZoomTool\"},{\"id\":\"bec18392-c869-4c37-ae94-c46f570657bf\",\"type\":\"SaveTool\"},{\"id\":\"51edd37f-5f83-4d11-94f5-153492fe231c\",\"type\":\"ResetTool\"},{\"id\":\"2b54f4ce-03c9-4cf7-a689-1e68cb2f38a3\",\"type\":\"HelpTool\"}]},\"id\":\"07bfab85-258d-4795-979a-f0b15ef4cc6b\",\"type\":\"Toolbar\"},{\"attributes\":{\"plot\":{\"id\":\"547557df-daaa-4084-bc25-e9a770e38d2a\",\"subtype\":\"Figure\",\"type\":\"Plot\"},\"ticker\":{\"id\":\"8d310481-5b17-4629-a14a-af0575e5b9a9\",\"type\":\"BasicTicker\"}},\"id\":\"6bebb623-c64e-41d6-8ce7-f67df5333316\",\"type\":\"Grid\"},{\"attributes\":{\"dimension\":1,\"plot\":{\"id\":\"547557df-daaa-4084-bc25-e9a770e38d2a\",\"subtype\":\"Figure\",\"type\":\"Plot\"},\"ticker\":{\"id\":\"ba57a50a-59e0-4847-a692-16e9ead7f486\",\"type\":\"LogTicker\"}},\"id\":\"c749be3f-91a2-4d38-aec4-7f2277358a19\",\"type\":\"Grid\"},{\"attributes\":{\"items\":[{\"id\":\"f85e2de5-b5d9-4cec-8718-7026fba0a099\",\"type\":\"LegendItem\"},{\"id\":\"a798349c-128c-403f-b1aa-d953367e21a2\",\"type\":\"LegendItem\"}],\"label_text_font_size\":{\"value\":\"8pt\"},\"location\":\"top_center\",\"orientation\":\"horizontal\",\"plot\":{\"id\":\"547557df-daaa-4084-bc25-e9a770e38d2a\",\"subtype\":\"Figure\",\"type\":\"Plot\"}},\"id\":\"7c154ab1-dde8-4a1e-9a6c-2a5fe33caee5\",\"type\":\"Legend\"},{\"attributes\":{\"bottom_units\":\"screen\",\"fill_alpha\":{\"value\":0.5},\"fill_color\":{\"value\":\"lightgrey\"},\"left_units\":\"screen\",\"level\":\"overlay\",\"line_alpha\":{\"value\":1.0},\"line_color\":{\"value\":\"black\"},\"line_dash\":[4,4],\"line_width\":{\"value\":2},\"plot\":null,\"render_mode\":\"css\",\"right_units\":\"screen\",\"top_units\":\"screen\"},\"id\":\"aabe9084-1ba5-4db1-9f37-9e897f5e246f\",\"type\":\"BoxAnnotation\"},{\"attributes\":{},\"id\":\"3cdad06e-6cac-45b9-9de8-7880daed9ef1\",\"type\":\"SaveTool\"},{\"attributes\":{\"axis_label\":\"pressure [mb]\",\"formatter\":{\"id\":\"d83e90ad-006f-43cf-8ca3-abb997a36455\",\"type\":\"LogTickFormatter\"},\"plot\":{\"id\":\"547557df-daaa-4084-bc25-e9a770e38d2a\",\"subtype\":\"Figure\",\"type\":\"Plot\"},\"ticker\":{\"id\":\"ba57a50a-59e0-4847-a692-16e9ead7f486\",\"type\":\"LogTicker\"}},\"id\":\"e399090f-7d6c-444f-a253-c557040d8a25\",\"type\":\"LogAxis\"},{\"attributes\":{\"bottom_units\":\"screen\",\"fill_alpha\":{\"value\":0.5},\"fill_color\":{\"value\":\"lightgrey\"},\"left_units\":\"screen\",\"level\":\"overlay\",\"line_alpha\":{\"value\":1.0},\"line_color\":{\"value\":\"black\"},\"line_dash\":[4,4],\"line_width\":{\"value\":2},\"plot\":null,\"render_mode\":\"css\",\"right_units\":\"screen\",\"top_units\":\"screen\"},\"id\":\"a3f2e674-ac71-440e-81ca-04202455df1e\",\"type\":\"BoxAnnotation\"},{\"attributes\":{},\"id\":\"95265769-9689-4856-9270-28528914a5bf\",\"type\":\"BasicTicker\"},{\"attributes\":{\"overlay\":{\"id\":\"738865fd-9cc4-4036-a8d6-adde705b2a69\",\"type\":\"BoxAnnotation\"}},\"id\":\"d98965d2-c2e0-4285-ad04-916e0311dcc9\",\"type\":\"BoxZoomTool\"},{\"attributes\":{},\"id\":\"dbbf7a92-de1d-4c61-bc9b-fe32c54b9eba\",\"type\":\"ResetTool\"},{\"attributes\":{\"axis_label\":\"cooling rate [K/day]\",\"formatter\":{\"id\":\"d64b70ac-968c-4c43-8569-43105b8eb707\",\"type\":\"BasicTickFormatter\"},\"plot\":{\"id\":\"547557df-daaa-4084-bc25-e9a770e38d2a\",\"subtype\":\"Figure\",\"type\":\"Plot\"},\"ticker\":{\"id\":\"8d310481-5b17-4629-a14a-af0575e5b9a9\",\"type\":\"BasicTicker\"}},\"id\":\"8ffde5f6-84ee-4da6-b8ce-7b0ee64a4e83\",\"type\":\"LinearAxis\"},{\"attributes\":{\"callback\":null,\"data\":{\"x\":{\"__ndarray__\":\"/3gEEI2UQEB0c9Dyc4w8QD4Snx5gWT5AFZGcg+DzPkDYuZ5UNgY+QOQFUWxaiTtAJ8DHxwLZN0CaDBxtwNEzQHB3T1JOgDBAqgJPUzdBLUAe/HRqAFAsQFSv4d6I2CxANirWFRW2LUCUHZfp5zstQOmztrvKoCpAP9+BL/hHJ0AOuwcTjXUkQH9IUrXU0CJAw/AV2NWiIkADs+SX97kjQBnUSknZKCZAob123iaqJUC4+jy7qSYhQET39BNTYRlA8h7eZutmE0DRGDGap7MPQNFp3YuZvQpAbUJm/ObPBUCXEVqHsCYCQKiqyakxdP8/TACEl5IJ/T+x36gvONj4P/WeSfiLL/Q/Ne11Qx4f8T9KO/snl8XuPwAFjDANXOw/ECia+rR+5z/5xrZqtSrhP87q9DpG090/BhYs5hIw3T8TpNj1dqrePxgwooWPUd4/oFDDMBzn3D+hGPElCWPaPxcG4a4W8tI/SPcufN8E0T+Jx6v2fkPcP6Ojb0QSwOM/zctF4t2z6z9opHhLdyvyP4FPJXk/b/U/u1x3mN2T9z9xG3Lf+XH4P5hGdwrobvg/Vn3mdk49+D9YubJsL+/3P7/luSDMffc/5EORdUbl9j8uE9yIYjP2P7kamugzgPU/QlxJFNm49D8sS/Y7lOnzPzVsLhNSEvM/nKsN3cpI8j/zk0wAFaHxP6Zz65TTLvE/Fg7ZiLQN8T8jxFOXpVDxP4PdzMKAqPE/RD1PzBJe8T9HiM/2GIfvP1JwtsmBh+o/vb6j/cCS5T/xD0UD5EPhP++YhMum7NY/\",\"dtype\":\"float64\",\"shape\":[75]},\"y\":{\"__ndarray__\":\"GhExyth1ND/Sv8nbtpRIP2vylNV0PVE/aTum7souWD/At0SJ8fVgPw3Iuahxymc/MSNhhJWvcD/bTfBN02d3P2zb5nxnaoA/CD5h5MAGhz8NmeH1TyaQP+zrCsc9p5Y/LbKd76fGnz/bLW5ISEmmPww9YvTcQq8/JV2OstnstT8Er5Y7M8G+P0c+r3jqkcU/5h99k6ZBzj88bCIzFzjVP4enV8oyxN0//yH99nXg5D8qOpLLf0jtP5kqGJXUifQ/c9cS8kHP/D+/DpwzojQEQIEmwoanVwxA4lgXt9HgE0BSSZ2AJuIbQAMJih9jjiNA5q4l5INuK0AwTKYKRj0zQNv5fmq8/DpAaCJseHrtQkB/+zpwzoxKQM3MzMzMeFJAZmZmZmZqWEAAAAAAAFxeQM3MzMzMJmJAmpmZmZkfZUBmZmZmZhhoQDMzMzMzEWtAAAAAAAAKbkBmZmZmZoFwQM3MzMzM/XFAMzMzMzN6c0CamZmZmfZ0QAAAAAAAc3ZAZmZmZmbvd0DNzMzMzGt5QDMzMzMz6HpAmpmZmZlkfEAAAAAAAOF9QGZmZmZmXX9AZmZmZuZsgECamZmZGSuBQM3MzMxM6YFAAAAAAICngkAzMzMzs2WDQGZmZmbmI4RAmpmZmRnihEDNzMzMTKCFQAAAAACAXoZAMzMzM7Mch0BmZmZm5tqHQJqZmZkZmYhAzczMzExXiUAAAAAAgBWKQDMzMzOz04pAZmZmZuaRi0CamZmZGVCMQM3MzMxMDo1AAAAAAIDMjUAzMzMzs4qOQGZmZmbmSI9A\",\"dtype\":\"float64\",\"shape\":[75]}},\"selected\":{\"id\":\"2ba2a60e-c87a-48d7-a9e7-b7b7fb66a283\",\"type\":\"Selection\"},\"selection_policy\":{\"id\":\"c2ac6bf7-911b-4ca7-9011-073a1942665c\",\"type\":\"UnionRenderers\"}},\"id\":\"a2a0394b-d828-494c-87d6-5ac84aa64c57\",\"type\":\"ColumnDataSource\"},{\"attributes\":{},\"id\":\"49091f61-6209-46e8-b9a2-66e4db29b244\",\"type\":\"LogScale\"}],\"root_ids\":[\"a5889a04-102b-4303-8f8c-81a39e543164\"]},\"title\":\"Bokeh Application\",\"version\":\"0.12.16\"}};\n",
       "  var render_items = [{\"docid\":\"67d3d68d-e547-43b0-9071-6f3d1eb3fa41\",\"elementid\":\"dc747aac-cd09-41a0-a2a9-0a6e467284f8\",\"modelid\":\"a5889a04-102b-4303-8f8c-81a39e543164\"}];\n",
       "  root.Bokeh.embed.embed_items_notebook(docs_json, render_items);\n",
       "\n",
       "  }\n",
       "  if (root.Bokeh !== undefined) {\n",
       "    embed_document(root);\n",
       "  } else {\n",
       "    var attempts = 0;\n",
       "    var timer = setInterval(function(root) {\n",
       "      if (root.Bokeh !== undefined) {\n",
       "        embed_document(root);\n",
       "        clearInterval(timer);\n",
       "      }\n",
       "      attempts++;\n",
       "      if (attempts > 100) {\n",
       "        console.log(\"Bokeh: ERROR: Unable to run BokehJS code because BokehJS library is missing\")\n",
       "        clearInterval(timer);\n",
       "      }\n",
       "    }, 10, root)\n",
       "  }\n",
       "})(window);"
      ],
      "application/vnd.bokehjs_exec.v0+json": ""
     },
     "metadata": {
      "application/vnd.bokehjs_exec.v0+json": {
       "id": "a5889a04-102b-4303-8f8c-81a39e543164"
      }
     },
     "output_type": "display_data"
    },
    {
     "data": {
      "text/markdown": [
       "*FIGURE.* Cooling rates & difference."
      ],
      "text/plain": [
       "<IPython.core.display.Markdown object>"
      ]
     },
     "metadata": {},
     "output_type": "display_data"
    },
    {
     "data": {
      "text/html": [
       "<a id=\"Fluxes._saw.\"></a>"
      ],
      "text/plain": [
       "<IPython.core.display.HTML object>"
      ]
     },
     "metadata": {},
     "output_type": "display_data"
    },
    {
     "data": {
      "text/markdown": [
       "# Fluxes. saw."
      ],
      "text/plain": [
       "<IPython.core.display.Markdown object>"
      ]
     },
     "metadata": {},
     "output_type": "display_data"
    },
    {
     "data": {
      "text/html": [
       "\n",
       "<div class=\"bk-root\">\n",
       "    <div class=\"bk-plotdiv\" id=\"5ec1b98d-58f7-4412-ab08-e260cd73cbef\"></div>\n",
       "</div>"
      ]
     },
     "metadata": {},
     "output_type": "display_data"
    },
    {
     "data": {
      "application/javascript": [
       "(function(root) {\n",
       "  function embed_document(root) {\n",
       "    \n",
       "  var docs_json = {\"c98a971f-ac0d-4836-819d-5c34992cc893\":{\"roots\":{\"references\":[{\"attributes\":{\"dimension\":1,\"plot\":{\"id\":\"32c6b60e-b7df-412c-b27d-08941119a523\",\"subtype\":\"Figure\",\"type\":\"Plot\"},\"ticker\":{\"id\":\"c8772678-5304-44c2-bd9b-5643d8c74ab0\",\"type\":\"BasicTicker\"}},\"id\":\"2c92f8f5-4aff-4435-9952-5dfbc173eafc\",\"type\":\"Grid\"},{\"attributes\":{},\"id\":\"d74655c5-4206-4a3b-a87f-caa2aefc6865\",\"type\":\"HelpTool\"},{\"attributes\":{\"callback\":null,\"data\":{\"band\":[\"1\",\"2\",\"3\",\"4\",\"5\",\"6\",\"7\",\"8\",\"9\",\"10\",\"11\"],\"flux\":{\"__ndarray__\":\"gOIKWg6Vxz8AZUNIJ1zKP2BFireEstw/AGTOOK8fxj8A/fGoQk24vwBBZJEm3rU/wCMPRBZpzD+AUnx8QnawPwAooORpVIs/gEM6lz1kpb+Au8+vtRCPPw==\",\"dtype\":\"float64\",\"shape\":[11]}},\"selected\":{\"id\":\"dcc0cab8-aedd-4c0e-b270-1c1d67a4f3d2\",\"type\":\"Selection\"},\"selection_policy\":{\"id\":\"cbcfa410-8572-43cf-9e29-91b17868150f\",\"type\":\"UnionRenderers\"}},\"id\":\"ba65932c-9394-47fd-8f78-4b1352879acc\",\"type\":\"ColumnDataSource\"},{\"attributes\":{},\"id\":\"9b57c6b3-7df3-46a6-af48-6555a8e86ed1\",\"type\":\"PanTool\"},{\"attributes\":{},\"id\":\"2ad64858-8394-4157-97a2-8e5042c4f5e5\",\"type\":\"LinearScale\"},{\"attributes\":{\"callback\":null,\"factors\":[\"1\",\"2\",\"3\",\"4\",\"5\",\"6\",\"7\",\"8\",\"9\",\"10\",\"11\"]},\"id\":\"f85ea3c1-0882-4dca-9a69-c98e39462d30\",\"type\":\"FactorRange\"},{\"attributes\":{},\"id\":\"1bda6f8d-7e9d-4b34-a263-c73f56cfa836\",\"type\":\"Selection\"},{\"attributes\":{\"axis_label\":\"flux (W m-2)\",\"formatter\":{\"id\":\"56ae2c26-fda3-4e1b-bcfc-1e9d8837ebd6\",\"type\":\"BasicTickFormatter\"},\"plot\":{\"id\":\"32c6b60e-b7df-412c-b27d-08941119a523\",\"subtype\":\"Figure\",\"type\":\"Plot\"},\"ticker\":{\"id\":\"c8772678-5304-44c2-bd9b-5643d8c74ab0\",\"type\":\"BasicTicker\"}},\"id\":\"5dcfeefd-8eb7-4405-b28f-5871ed878b43\",\"type\":\"LinearAxis\"},{\"attributes\":{},\"id\":\"68388850-e5c7-461e-8728-2db3acb0a4a4\",\"type\":\"WheelZoomTool\"},{\"attributes\":{\"overlay\":{\"id\":\"112bc782-c142-422b-aced-21336eae4d98\",\"type\":\"BoxAnnotation\"}},\"id\":\"16ce46ce-5408-4892-a05b-268bd0dfd3eb\",\"type\":\"BoxZoomTool\"},{\"attributes\":{\"callback\":null,\"data\":{\"band\":[\"1\",\"2\",\"3\",\"4\",\"5\",\"6\",\"7\",\"8\",\"9\",\"10\",\"11\"],\"flux\":{\"__ndarray__\":\"gGLUtfY+xz8ABgWlaOWyPwCnJVZGI7O/4NU5BmSv0D8AounsZHC4PwBAAg02dY6/QIl6wac50j8AHErtRbSNvwBDfBY6ZaA/AGgLdJJSdb9AysVzETqTPw==\",\"dtype\":\"float64\",\"shape\":[11]}},\"selected\":{\"id\":\"1bda6f8d-7e9d-4b34-a263-c73f56cfa836\",\"type\":\"Selection\"},\"selection_policy\":{\"id\":\"7c0ed34b-dd01-43b7-a0f4-033b1b220502\",\"type\":\"UnionRenderers\"}},\"id\":\"31c21ec7-d4f1-40e3-ad49-e0db9b9e0c24\",\"type\":\"ColumnDataSource\"},{\"attributes\":{},\"id\":\"20a42a69-a439-4e4a-9ad6-6e31593b3781\",\"type\":\"WheelZoomTool\"},{\"attributes\":{},\"id\":\"51707cce-9aa5-4b47-8c7e-092d511f402c\",\"type\":\"HelpTool\"},{\"attributes\":{\"below\":[{\"id\":\"cee57421-edd3-43f0-84c8-a408bd645d87\",\"type\":\"CategoricalAxis\"}],\"left\":[{\"id\":\"5dcfeefd-8eb7-4405-b28f-5871ed878b43\",\"type\":\"LinearAxis\"}],\"plot_height\":300,\"plot_width\":300,\"renderers\":[{\"id\":\"cee57421-edd3-43f0-84c8-a408bd645d87\",\"type\":\"CategoricalAxis\"},{\"id\":\"3ef8b0ed-51ba-4fa3-9c08-e45c86306188\",\"type\":\"Grid\"},{\"id\":\"5dcfeefd-8eb7-4405-b28f-5871ed878b43\",\"type\":\"LinearAxis\"},{\"id\":\"2c92f8f5-4aff-4435-9952-5dfbc173eafc\",\"type\":\"Grid\"},{\"id\":\"99539b02-376c-4ab4-b197-1a32eb8595f1\",\"type\":\"BoxAnnotation\"},{\"id\":\"6efd6eaf-c2d6-481e-aff7-63fef3209ae0\",\"type\":\"GlyphRenderer\"}],\"title\":{\"id\":\"785694c0-923b-4f55-b369-04febadbd9a4\",\"type\":\"Title\"},\"toolbar\":{\"id\":\"63e5119d-8612-49b1-b811-2620c85818f7\",\"type\":\"Toolbar\"},\"toolbar_location\":null,\"x_range\":{\"id\":\"f85ea3c1-0882-4dca-9a69-c98e39462d30\",\"type\":\"FactorRange\"},\"x_scale\":{\"id\":\"cf3d666e-c605-46fb-a419-ba34452018ca\",\"type\":\"CategoricalScale\"},\"y_range\":{\"id\":\"12e9e396-977a-474e-870c-4ecc5f31fc48\",\"type\":\"DataRange1d\"},\"y_scale\":{\"id\":\"2ad64858-8394-4157-97a2-8e5042c4f5e5\",\"type\":\"LinearScale\"}},\"id\":\"32c6b60e-b7df-412c-b27d-08941119a523\",\"subtype\":\"Figure\",\"type\":\"Plot\"},{\"attributes\":{\"axis_label\":\"spectral band\",\"formatter\":{\"id\":\"04459893-30f2-4fde-8e9d-211dd605706b\",\"type\":\"CategoricalTickFormatter\"},\"plot\":{\"id\":\"32c6b60e-b7df-412c-b27d-08941119a523\",\"subtype\":\"Figure\",\"type\":\"Plot\"},\"ticker\":{\"id\":\"6088d52b-b975-4d83-baa3-1cd05ef67e97\",\"type\":\"CategoricalTicker\"}},\"id\":\"cee57421-edd3-43f0-84c8-a408bd645d87\",\"type\":\"CategoricalAxis\"},{\"attributes\":{},\"id\":\"8a7846ef-e82f-469a-b276-1b37cfd8ad82\",\"type\":\"SaveTool\"},{\"attributes\":{},\"id\":\"c6396583-2e54-4e08-85e6-32c553ea2d74\",\"type\":\"PanTool\"},{\"attributes\":{},\"id\":\"cf3d666e-c605-46fb-a419-ba34452018ca\",\"type\":\"CategoricalScale\"},{\"attributes\":{\"plot\":null,\"text\":\"SFC flux. CLIRAD (single-run) - CRD.\"},\"id\":\"9dd2ef9d-ac4f-4c83-ad80-02cb8c183fdf\",\"type\":\"Title\"},{\"attributes\":{\"fill_color\":{\"value\":\"#1f77b4\"},\"line_color\":{\"value\":\"#1f77b4\"},\"top\":{\"field\":\"flux\"},\"width\":{\"value\":0.9},\"x\":{\"field\":\"band\"}},\"id\":\"fa728070-6dd6-4a86-8fe5-769622a1d010\",\"type\":\"VBar\"},{\"attributes\":{\"overlay\":{\"id\":\"99539b02-376c-4ab4-b197-1a32eb8595f1\",\"type\":\"BoxAnnotation\"}},\"id\":\"208a5d6d-d17c-4c1d-9752-f9188e16937b\",\"type\":\"BoxZoomTool\"},{\"attributes\":{\"plot\":null,\"text\":\"TOA flux. CLIRAD (single-run) - CRD.\"},\"id\":\"785694c0-923b-4f55-b369-04febadbd9a4\",\"type\":\"Title\"},{\"attributes\":{\"data_source\":{\"id\":\"0401afba-15d3-4af1-a85b-2e6a6ee31e7f\",\"type\":\"ColumnDataSource\"},\"glyph\":{\"id\":\"6197431a-5877-4f82-8f32-976baa70349d\",\"type\":\"VBar\"},\"hover_glyph\":null,\"muted_glyph\":null,\"nonselection_glyph\":{\"id\":\"a2073225-73b1-48fa-ad0a-f47872fb5e4d\",\"type\":\"VBar\"},\"selection_glyph\":null,\"view\":{\"id\":\"b246208e-a4b2-488f-b14c-b4767a1ba86f\",\"type\":\"CDSView\"}},\"id\":\"068b6772-4249-4c52-8d84-c0de93dee4d4\",\"type\":\"GlyphRenderer\"},{\"attributes\":{},\"id\":\"447d5c4d-0eff-4ed1-bcfa-e7f1a8846d49\",\"type\":\"CategoricalScale\"},{\"attributes\":{},\"id\":\"8f029682-ec4d-44af-b969-d152bc42c84e\",\"type\":\"ResetTool\"},{\"attributes\":{\"bottom_units\":\"screen\",\"fill_alpha\":{\"value\":0.5},\"fill_color\":{\"value\":\"lightgrey\"},\"left_units\":\"screen\",\"level\":\"overlay\",\"line_alpha\":{\"value\":1.0},\"line_color\":{\"value\":\"black\"},\"line_dash\":[4,4],\"line_width\":{\"value\":2},\"plot\":null,\"render_mode\":\"css\",\"right_units\":\"screen\",\"top_units\":\"screen\"},\"id\":\"112bc782-c142-422b-aced-21336eae4d98\",\"type\":\"BoxAnnotation\"},{\"attributes\":{},\"id\":\"c8772678-5304-44c2-bd9b-5643d8c74ab0\",\"type\":\"BasicTicker\"},{\"attributes\":{\"bottom_units\":\"screen\",\"fill_alpha\":{\"value\":0.5},\"fill_color\":{\"value\":\"lightgrey\"},\"left_units\":\"screen\",\"level\":\"overlay\",\"line_alpha\":{\"value\":1.0},\"line_color\":{\"value\":\"black\"},\"line_dash\":[4,4],\"line_width\":{\"value\":2},\"plot\":null,\"render_mode\":\"css\",\"right_units\":\"screen\",\"top_units\":\"screen\"},\"id\":\"99539b02-376c-4ab4-b197-1a32eb8595f1\",\"type\":\"BoxAnnotation\"},{\"attributes\":{},\"id\":\"6ad4bde5-9d1d-401f-a051-9d648cfd9bf7\",\"type\":\"ResetTool\"},{\"attributes\":{},\"id\":\"6088d52b-b975-4d83-baa3-1cd05ef67e97\",\"type\":\"CategoricalTicker\"},{\"attributes\":{\"source\":{\"id\":\"0401afba-15d3-4af1-a85b-2e6a6ee31e7f\",\"type\":\"ColumnDataSource\"}},\"id\":\"b246208e-a4b2-488f-b14c-b4767a1ba86f\",\"type\":\"CDSView\"},{\"attributes\":{\"callback\":null},\"id\":\"12e9e396-977a-474e-870c-4ecc5f31fc48\",\"type\":\"DataRange1d\"},{\"attributes\":{\"callback\":null,\"factors\":[\"1\",\"2\",\"3\",\"4\",\"5\",\"6\",\"7\",\"8\",\"9\",\"10\",\"11\"]},\"id\":\"d29d70e9-26cf-45b4-9905-0815a15c1ea9\",\"type\":\"FactorRange\"},{\"attributes\":{\"data_source\":{\"id\":\"31c21ec7-d4f1-40e3-ad49-e0db9b9e0c24\",\"type\":\"ColumnDataSource\"},\"glyph\":{\"id\":\"fa728070-6dd6-4a86-8fe5-769622a1d010\",\"type\":\"VBar\"},\"hover_glyph\":null,\"muted_glyph\":null,\"nonselection_glyph\":{\"id\":\"4e1d2c77-2895-4141-a234-df9125d1cdae\",\"type\":\"VBar\"},\"selection_glyph\":null,\"view\":{\"id\":\"cfaa3239-9784-43cf-b618-9ac11360ce55\",\"type\":\"CDSView\"}},\"id\":\"6efd6eaf-c2d6-481e-aff7-63fef3209ae0\",\"type\":\"GlyphRenderer\"},{\"attributes\":{\"plot\":{\"id\":\"32c6b60e-b7df-412c-b27d-08941119a523\",\"subtype\":\"Figure\",\"type\":\"Plot\"},\"ticker\":{\"id\":\"6088d52b-b975-4d83-baa3-1cd05ef67e97\",\"type\":\"CategoricalTicker\"}},\"id\":\"3ef8b0ed-51ba-4fa3-9c08-e45c86306188\",\"type\":\"Grid\"},{\"attributes\":{\"active_drag\":\"auto\",\"active_inspect\":\"auto\",\"active_scroll\":\"auto\",\"active_tap\":\"auto\",\"tools\":[{\"id\":\"c6396583-2e54-4e08-85e6-32c553ea2d74\",\"type\":\"PanTool\"},{\"id\":\"20a42a69-a439-4e4a-9ad6-6e31593b3781\",\"type\":\"WheelZoomTool\"},{\"id\":\"16ce46ce-5408-4892-a05b-268bd0dfd3eb\",\"type\":\"BoxZoomTool\"},{\"id\":\"8a7846ef-e82f-469a-b276-1b37cfd8ad82\",\"type\":\"SaveTool\"},{\"id\":\"6ad4bde5-9d1d-401f-a051-9d648cfd9bf7\",\"type\":\"ResetTool\"},{\"id\":\"d74655c5-4206-4a3b-a87f-caa2aefc6865\",\"type\":\"HelpTool\"}]},\"id\":\"5066f93d-b884-43f9-8a20-3acd6964f26e\",\"type\":\"Toolbar\"},{\"attributes\":{\"fill_alpha\":{\"value\":0.1},\"fill_color\":{\"value\":\"#1f77b4\"},\"line_alpha\":{\"value\":0.1},\"line_color\":{\"value\":\"#1f77b4\"},\"top\":{\"field\":\"flux\"},\"width\":{\"value\":0.9},\"x\":{\"field\":\"band\"}},\"id\":\"4e1d2c77-2895-4141-a234-df9125d1cdae\",\"type\":\"VBar\"},{\"attributes\":{},\"id\":\"8eb7dac1-88cc-4460-a6ed-7a7fc41e5f64\",\"type\":\"SaveTool\"},{\"attributes\":{\"source\":{\"id\":\"31c21ec7-d4f1-40e3-ad49-e0db9b9e0c24\",\"type\":\"ColumnDataSource\"}},\"id\":\"cfaa3239-9784-43cf-b618-9ac11360ce55\",\"type\":\"CDSView\"},{\"attributes\":{\"active_drag\":\"auto\",\"active_inspect\":\"auto\",\"active_scroll\":\"auto\",\"active_tap\":\"auto\",\"tools\":[{\"id\":\"9b57c6b3-7df3-46a6-af48-6555a8e86ed1\",\"type\":\"PanTool\"},{\"id\":\"68388850-e5c7-461e-8728-2db3acb0a4a4\",\"type\":\"WheelZoomTool\"},{\"id\":\"208a5d6d-d17c-4c1d-9752-f9188e16937b\",\"type\":\"BoxZoomTool\"},{\"id\":\"8eb7dac1-88cc-4460-a6ed-7a7fc41e5f64\",\"type\":\"SaveTool\"},{\"id\":\"8f029682-ec4d-44af-b969-d152bc42c84e\",\"type\":\"ResetTool\"},{\"id\":\"51707cce-9aa5-4b47-8c7e-092d511f402c\",\"type\":\"HelpTool\"}]},\"id\":\"63e5119d-8612-49b1-b811-2620c85818f7\",\"type\":\"Toolbar\"},{\"attributes\":{},\"id\":\"93291e95-9a51-432e-89df-b0e788c86276\",\"type\":\"PanTool\"},{\"attributes\":{},\"id\":\"eea50add-8add-4b0b-ad9a-3c226295b316\",\"type\":\"Selection\"},{\"attributes\":{\"axis_label\":\"spectral band\",\"formatter\":{\"id\":\"8f47ac7c-2a98-4cd0-87ea-0e60be5bf2a0\",\"type\":\"CategoricalTickFormatter\"},\"plot\":{\"id\":\"6ccc5eb3-3804-4838-9d5d-30ed21079fdc\",\"subtype\":\"Figure\",\"type\":\"Plot\"},\"ticker\":{\"id\":\"7d53b311-d923-478d-82a1-7335569fdc56\",\"type\":\"CategoricalTicker\"}},\"id\":\"b317d166-0820-45a3-9138-caabf06e963d\",\"type\":\"CategoricalAxis\"},{\"attributes\":{\"plot\":{\"id\":\"2c2b5df2-6711-4dda-8365-d486578cb9d3\",\"subtype\":\"Figure\",\"type\":\"Plot\"},\"ticker\":{\"id\":\"029372e1-3377-4b55-ba5d-a66c9cee1d04\",\"type\":\"CategoricalTicker\"}},\"id\":\"be706fd3-f4e6-4e0c-8b79-7691aad60a7a\",\"type\":\"Grid\"},{\"attributes\":{},\"id\":\"04459893-30f2-4fde-8e9d-211dd605706b\",\"type\":\"CategoricalTickFormatter\"},{\"attributes\":{},\"id\":\"b5278b59-bc1d-4817-a5cd-e3f3e2ba5fd4\",\"type\":\"BasicTickFormatter\"},{\"attributes\":{\"callback\":null,\"data\":{\"band\":[\"1\",\"2\",\"3\",\"4\",\"5\",\"6\",\"7\",\"8\",\"9\",\"10\",\"11\"],\"flux\":{\"__ndarray__\":\"AEDdJAaBZb8Asg5HV+nAv4DgnBGlveC/AOp+TkF+tj8AHbkkvV7IPyB+nlCZrLm/AD0w26kUsD/ga9jnGC20vwAmr84xIJM/AJDEy9O5oj8A+eRZMI5tPw==\",\"dtype\":\"float64\",\"shape\":[11]}},\"selected\":{\"id\":\"eea50add-8add-4b0b-ad9a-3c226295b316\",\"type\":\"Selection\"},\"selection_policy\":{\"id\":\"42fe403b-8a57-4c7f-abd6-9ac0729d7cd0\",\"type\":\"UnionRenderers\"}},\"id\":\"0401afba-15d3-4af1-a85b-2e6a6ee31e7f\",\"type\":\"ColumnDataSource\"},{\"attributes\":{\"axis_label\":\"flux (W m-2)\",\"formatter\":{\"id\":\"cae8c09f-b0c8-47ed-9c74-a90d223ad182\",\"type\":\"BasicTickFormatter\"},\"plot\":{\"id\":\"2c2b5df2-6711-4dda-8365-d486578cb9d3\",\"subtype\":\"Figure\",\"type\":\"Plot\"},\"ticker\":{\"id\":\"59669d12-4d99-4f21-9879-5d7b62695197\",\"type\":\"BasicTicker\"}},\"id\":\"3f356696-9f80-4315-b836-860fd615494d\",\"type\":\"LinearAxis\"},{\"attributes\":{},\"id\":\"3374bffa-955f-4a21-939f-c8c95b09a625\",\"type\":\"WheelZoomTool\"},{\"attributes\":{\"bottom_units\":\"screen\",\"fill_alpha\":{\"value\":0.5},\"fill_color\":{\"value\":\"lightgrey\"},\"left_units\":\"screen\",\"level\":\"overlay\",\"line_alpha\":{\"value\":1.0},\"line_color\":{\"value\":\"black\"},\"line_dash\":[4,4],\"line_width\":{\"value\":2},\"plot\":null,\"render_mode\":\"css\",\"right_units\":\"screen\",\"top_units\":\"screen\"},\"id\":\"f200269a-5f2f-4cc4-abd6-5ca89dfb8cc9\",\"type\":\"BoxAnnotation\"},{\"attributes\":{},\"id\":\"cae8c09f-b0c8-47ed-9c74-a90d223ad182\",\"type\":\"BasicTickFormatter\"},{\"attributes\":{\"plot\":null,\"text\":\"Atmosphere heating. CLIRAD (single-run) - CRD.\"},\"id\":\"a8265cda-466e-4f44-bf0a-ac14e196e935\",\"type\":\"Title\"},{\"attributes\":{\"below\":[{\"id\":\"e4d260ed-decb-443c-8bdf-3383cd3a2168\",\"type\":\"CategoricalAxis\"}],\"left\":[{\"id\":\"3f356696-9f80-4315-b836-860fd615494d\",\"type\":\"LinearAxis\"}],\"plot_height\":300,\"plot_width\":300,\"renderers\":[{\"id\":\"e4d260ed-decb-443c-8bdf-3383cd3a2168\",\"type\":\"CategoricalAxis\"},{\"id\":\"be706fd3-f4e6-4e0c-8b79-7691aad60a7a\",\"type\":\"Grid\"},{\"id\":\"3f356696-9f80-4315-b836-860fd615494d\",\"type\":\"LinearAxis\"},{\"id\":\"d0af95cc-fff5-4ba4-9b7c-1882c3b634fe\",\"type\":\"Grid\"},{\"id\":\"f200269a-5f2f-4cc4-abd6-5ca89dfb8cc9\",\"type\":\"BoxAnnotation\"},{\"id\":\"6eb07ca3-041e-42bf-b205-a0912842655c\",\"type\":\"GlyphRenderer\"}],\"title\":{\"id\":\"a8265cda-466e-4f44-bf0a-ac14e196e935\",\"type\":\"Title\"},\"toolbar\":{\"id\":\"85d6a2d3-db5d-41a3-8b54-eee7471a9100\",\"type\":\"Toolbar\"},\"toolbar_location\":null,\"x_range\":{\"id\":\"3403fa6d-06d3-4478-8183-088aecc3a5d3\",\"type\":\"FactorRange\"},\"x_scale\":{\"id\":\"fa1c7362-777b-42b9-943f-09c84d82dd3b\",\"type\":\"CategoricalScale\"},\"y_range\":{\"id\":\"88e3b8ce-d52f-433c-b8eb-3274295ad4ed\",\"type\":\"DataRange1d\"},\"y_scale\":{\"id\":\"610e86cf-1277-4c53-a0d6-f8ffd72cfdad\",\"type\":\"LinearScale\"}},\"id\":\"2c2b5df2-6711-4dda-8365-d486578cb9d3\",\"subtype\":\"Figure\",\"type\":\"Plot\"},{\"attributes\":{\"children\":[{\"id\":\"597a9f20-8212-4f6c-a4fc-0332f00178e3\",\"type\":\"Row\"}]},\"id\":\"b25bdfdd-e83e-461e-b231-ebed2115ac74\",\"type\":\"Column\"},{\"attributes\":{\"fill_color\":{\"value\":\"#1f77b4\"},\"line_color\":{\"value\":\"#1f77b4\"},\"top\":{\"field\":\"flux\"},\"width\":{\"value\":0.9},\"x\":{\"field\":\"band\"}},\"id\":\"6197431a-5877-4f82-8f32-976baa70349d\",\"type\":\"VBar\"},{\"attributes\":{\"dimension\":1,\"plot\":{\"id\":\"6ccc5eb3-3804-4838-9d5d-30ed21079fdc\",\"subtype\":\"Figure\",\"type\":\"Plot\"},\"ticker\":{\"id\":\"32911268-0d1e-41ad-9a2a-382fdce768c9\",\"type\":\"BasicTicker\"}},\"id\":\"e8ed64ba-96b9-4727-a7cb-d6b5080a06b7\",\"type\":\"Grid\"},{\"attributes\":{},\"id\":\"42fe403b-8a57-4c7f-abd6-9ac0729d7cd0\",\"type\":\"UnionRenderers\"},{\"attributes\":{\"callback\":null},\"id\":\"0587964d-9fa4-4575-bb8e-1ea3189792d3\",\"type\":\"DataRange1d\"},{\"attributes\":{\"children\":[{\"id\":\"32c6b60e-b7df-412c-b27d-08941119a523\",\"subtype\":\"Figure\",\"type\":\"Plot\"},{\"id\":\"6ccc5eb3-3804-4838-9d5d-30ed21079fdc\",\"subtype\":\"Figure\",\"type\":\"Plot\"},{\"id\":\"2c2b5df2-6711-4dda-8365-d486578cb9d3\",\"subtype\":\"Figure\",\"type\":\"Plot\"}]},\"id\":\"597a9f20-8212-4f6c-a4fc-0332f00178e3\",\"type\":\"Row\"},{\"attributes\":{},\"id\":\"13891ace-d724-4053-bb11-1940f0733b91\",\"type\":\"LinearScale\"},{\"attributes\":{},\"id\":\"7c0ed34b-dd01-43b7-a0f4-033b1b220502\",\"type\":\"UnionRenderers\"},{\"attributes\":{},\"id\":\"cbcfa410-8572-43cf-9e29-91b17868150f\",\"type\":\"UnionRenderers\"},{\"attributes\":{\"axis_label\":\"spectral band\",\"formatter\":{\"id\":\"a52a27c1-a991-493d-9068-2f8f1faf52a2\",\"type\":\"CategoricalTickFormatter\"},\"plot\":{\"id\":\"2c2b5df2-6711-4dda-8365-d486578cb9d3\",\"subtype\":\"Figure\",\"type\":\"Plot\"},\"ticker\":{\"id\":\"029372e1-3377-4b55-ba5d-a66c9cee1d04\",\"type\":\"CategoricalTicker\"}},\"id\":\"e4d260ed-decb-443c-8bdf-3383cd3a2168\",\"type\":\"CategoricalAxis\"},{\"attributes\":{\"callback\":null},\"id\":\"88e3b8ce-d52f-433c-b8eb-3274295ad4ed\",\"type\":\"DataRange1d\"},{\"attributes\":{\"tools\":[{\"id\":\"9b57c6b3-7df3-46a6-af48-6555a8e86ed1\",\"type\":\"PanTool\"},{\"id\":\"68388850-e5c7-461e-8728-2db3acb0a4a4\",\"type\":\"WheelZoomTool\"},{\"id\":\"208a5d6d-d17c-4c1d-9752-f9188e16937b\",\"type\":\"BoxZoomTool\"},{\"id\":\"8eb7dac1-88cc-4460-a6ed-7a7fc41e5f64\",\"type\":\"SaveTool\"},{\"id\":\"8f029682-ec4d-44af-b969-d152bc42c84e\",\"type\":\"ResetTool\"},{\"id\":\"51707cce-9aa5-4b47-8c7e-092d511f402c\",\"type\":\"HelpTool\"},{\"id\":\"c6396583-2e54-4e08-85e6-32c553ea2d74\",\"type\":\"PanTool\"},{\"id\":\"20a42a69-a439-4e4a-9ad6-6e31593b3781\",\"type\":\"WheelZoomTool\"},{\"id\":\"16ce46ce-5408-4892-a05b-268bd0dfd3eb\",\"type\":\"BoxZoomTool\"},{\"id\":\"8a7846ef-e82f-469a-b276-1b37cfd8ad82\",\"type\":\"SaveTool\"},{\"id\":\"6ad4bde5-9d1d-401f-a051-9d648cfd9bf7\",\"type\":\"ResetTool\"},{\"id\":\"d74655c5-4206-4a3b-a87f-caa2aefc6865\",\"type\":\"HelpTool\"},{\"id\":\"93291e95-9a51-432e-89df-b0e788c86276\",\"type\":\"PanTool\"},{\"id\":\"3374bffa-955f-4a21-939f-c8c95b09a625\",\"type\":\"WheelZoomTool\"},{\"id\":\"d3d6e2e5-04c3-4d76-a3a9-b7b272f8cf72\",\"type\":\"BoxZoomTool\"},{\"id\":\"a4b1c1fa-8786-468e-85bc-a0d0ac213f1d\",\"type\":\"SaveTool\"},{\"id\":\"049a0867-383e-462e-baa7-c505e8945184\",\"type\":\"ResetTool\"},{\"id\":\"45fb3aab-1318-4c20-a0f4-3ed779e19de7\",\"type\":\"HelpTool\"}]},\"id\":\"331dc9c5-4586-4c2e-8f91-48dbc73432e4\",\"type\":\"ProxyToolbar\"},{\"attributes\":{},\"id\":\"59669d12-4d99-4f21-9879-5d7b62695197\",\"type\":\"BasicTicker\"},{\"attributes\":{},\"id\":\"32911268-0d1e-41ad-9a2a-382fdce768c9\",\"type\":\"BasicTicker\"},{\"attributes\":{\"overlay\":{\"id\":\"f200269a-5f2f-4cc4-abd6-5ca89dfb8cc9\",\"type\":\"BoxAnnotation\"}},\"id\":\"d3d6e2e5-04c3-4d76-a3a9-b7b272f8cf72\",\"type\":\"BoxZoomTool\"},{\"attributes\":{\"active_drag\":\"auto\",\"active_inspect\":\"auto\",\"active_scroll\":\"auto\",\"active_tap\":\"auto\",\"tools\":[{\"id\":\"93291e95-9a51-432e-89df-b0e788c86276\",\"type\":\"PanTool\"},{\"id\":\"3374bffa-955f-4a21-939f-c8c95b09a625\",\"type\":\"WheelZoomTool\"},{\"id\":\"d3d6e2e5-04c3-4d76-a3a9-b7b272f8cf72\",\"type\":\"BoxZoomTool\"},{\"id\":\"a4b1c1fa-8786-468e-85bc-a0d0ac213f1d\",\"type\":\"SaveTool\"},{\"id\":\"049a0867-383e-462e-baa7-c505e8945184\",\"type\":\"ResetTool\"},{\"id\":\"45fb3aab-1318-4c20-a0f4-3ed779e19de7\",\"type\":\"HelpTool\"}]},\"id\":\"85d6a2d3-db5d-41a3-8b54-eee7471a9100\",\"type\":\"Toolbar\"},{\"attributes\":{\"fill_alpha\":{\"value\":0.1},\"fill_color\":{\"value\":\"#1f77b4\"},\"line_alpha\":{\"value\":0.1},\"line_color\":{\"value\":\"#1f77b4\"},\"top\":{\"field\":\"flux\"},\"width\":{\"value\":0.9},\"x\":{\"field\":\"band\"}},\"id\":\"922213b8-0d09-41e1-9a8a-6289429081ff\",\"type\":\"VBar\"},{\"attributes\":{\"plot\":{\"id\":\"6ccc5eb3-3804-4838-9d5d-30ed21079fdc\",\"subtype\":\"Figure\",\"type\":\"Plot\"},\"ticker\":{\"id\":\"7d53b311-d923-478d-82a1-7335569fdc56\",\"type\":\"CategoricalTicker\"}},\"id\":\"f929ccd8-6ab2-4954-a549-e7ebafde20f2\",\"type\":\"Grid\"},{\"attributes\":{},\"id\":\"049a0867-383e-462e-baa7-c505e8945184\",\"type\":\"ResetTool\"},{\"attributes\":{},\"id\":\"029372e1-3377-4b55-ba5d-a66c9cee1d04\",\"type\":\"CategoricalTicker\"},{\"attributes\":{},\"id\":\"a52a27c1-a991-493d-9068-2f8f1faf52a2\",\"type\":\"CategoricalTickFormatter\"},{\"attributes\":{},\"id\":\"610e86cf-1277-4c53-a0d6-f8ffd72cfdad\",\"type\":\"LinearScale\"},{\"attributes\":{\"fill_alpha\":{\"value\":0.1},\"fill_color\":{\"value\":\"#1f77b4\"},\"line_alpha\":{\"value\":0.1},\"line_color\":{\"value\":\"#1f77b4\"},\"top\":{\"field\":\"flux\"},\"width\":{\"value\":0.9},\"x\":{\"field\":\"band\"}},\"id\":\"a2073225-73b1-48fa-ad0a-f47872fb5e4d\",\"type\":\"VBar\"},{\"attributes\":{\"fill_color\":{\"value\":\"#1f77b4\"},\"line_color\":{\"value\":\"#1f77b4\"},\"top\":{\"field\":\"flux\"},\"width\":{\"value\":0.9},\"x\":{\"field\":\"band\"}},\"id\":\"da581a86-2eb3-4425-ad83-6536968d049e\",\"type\":\"VBar\"},{\"attributes\":{},\"id\":\"dcc0cab8-aedd-4c0e-b270-1c1d67a4f3d2\",\"type\":\"Selection\"},{\"attributes\":{},\"id\":\"45fb3aab-1318-4c20-a0f4-3ed779e19de7\",\"type\":\"HelpTool\"},{\"attributes\":{\"toolbar\":{\"id\":\"331dc9c5-4586-4c2e-8f91-48dbc73432e4\",\"type\":\"ProxyToolbar\"},\"toolbar_location\":\"above\"},\"id\":\"06639c4a-ce9f-40dc-a433-76afb23c6b80\",\"type\":\"ToolbarBox\"},{\"attributes\":{\"below\":[{\"id\":\"b317d166-0820-45a3-9138-caabf06e963d\",\"type\":\"CategoricalAxis\"}],\"left\":[{\"id\":\"91a4e75e-3ba8-42a6-9d37-43237a9a0f30\",\"type\":\"LinearAxis\"}],\"plot_height\":300,\"plot_width\":300,\"renderers\":[{\"id\":\"b317d166-0820-45a3-9138-caabf06e963d\",\"type\":\"CategoricalAxis\"},{\"id\":\"f929ccd8-6ab2-4954-a549-e7ebafde20f2\",\"type\":\"Grid\"},{\"id\":\"91a4e75e-3ba8-42a6-9d37-43237a9a0f30\",\"type\":\"LinearAxis\"},{\"id\":\"e8ed64ba-96b9-4727-a7cb-d6b5080a06b7\",\"type\":\"Grid\"},{\"id\":\"112bc782-c142-422b-aced-21336eae4d98\",\"type\":\"BoxAnnotation\"},{\"id\":\"068b6772-4249-4c52-8d84-c0de93dee4d4\",\"type\":\"GlyphRenderer\"}],\"title\":{\"id\":\"9dd2ef9d-ac4f-4c83-ad80-02cb8c183fdf\",\"type\":\"Title\"},\"toolbar\":{\"id\":\"5066f93d-b884-43f9-8a20-3acd6964f26e\",\"type\":\"Toolbar\"},\"toolbar_location\":null,\"x_range\":{\"id\":\"d29d70e9-26cf-45b4-9905-0815a15c1ea9\",\"type\":\"FactorRange\"},\"x_scale\":{\"id\":\"447d5c4d-0eff-4ed1-bcfa-e7f1a8846d49\",\"type\":\"CategoricalScale\"},\"y_range\":{\"id\":\"0587964d-9fa4-4575-bb8e-1ea3189792d3\",\"type\":\"DataRange1d\"},\"y_scale\":{\"id\":\"13891ace-d724-4053-bb11-1940f0733b91\",\"type\":\"LinearScale\"}},\"id\":\"6ccc5eb3-3804-4838-9d5d-30ed21079fdc\",\"subtype\":\"Figure\",\"type\":\"Plot\"},{\"attributes\":{\"source\":{\"id\":\"ba65932c-9394-47fd-8f78-4b1352879acc\",\"type\":\"ColumnDataSource\"}},\"id\":\"e9441614-067e-4d19-844e-df658cad842b\",\"type\":\"CDSView\"},{\"attributes\":{},\"id\":\"56ae2c26-fda3-4e1b-bcfc-1e9d8837ebd6\",\"type\":\"BasicTickFormatter\"},{\"attributes\":{\"children\":[{\"id\":\"06639c4a-ce9f-40dc-a433-76afb23c6b80\",\"type\":\"ToolbarBox\"},{\"id\":\"b25bdfdd-e83e-461e-b231-ebed2115ac74\",\"type\":\"Column\"}]},\"id\":\"7aeba9fa-35e2-4eeb-80dc-2c447eabafed\",\"type\":\"Column\"},{\"attributes\":{},\"id\":\"fa1c7362-777b-42b9-943f-09c84d82dd3b\",\"type\":\"CategoricalScale\"},{\"attributes\":{\"data_source\":{\"id\":\"ba65932c-9394-47fd-8f78-4b1352879acc\",\"type\":\"ColumnDataSource\"},\"glyph\":{\"id\":\"da581a86-2eb3-4425-ad83-6536968d049e\",\"type\":\"VBar\"},\"hover_glyph\":null,\"muted_glyph\":null,\"nonselection_glyph\":{\"id\":\"922213b8-0d09-41e1-9a8a-6289429081ff\",\"type\":\"VBar\"},\"selection_glyph\":null,\"view\":{\"id\":\"e9441614-067e-4d19-844e-df658cad842b\",\"type\":\"CDSView\"}},\"id\":\"6eb07ca3-041e-42bf-b205-a0912842655c\",\"type\":\"GlyphRenderer\"},{\"attributes\":{\"axis_label\":\"flux (W m-2)\",\"formatter\":{\"id\":\"b5278b59-bc1d-4817-a5cd-e3f3e2ba5fd4\",\"type\":\"BasicTickFormatter\"},\"plot\":{\"id\":\"6ccc5eb3-3804-4838-9d5d-30ed21079fdc\",\"subtype\":\"Figure\",\"type\":\"Plot\"},\"ticker\":{\"id\":\"32911268-0d1e-41ad-9a2a-382fdce768c9\",\"type\":\"BasicTicker\"}},\"id\":\"91a4e75e-3ba8-42a6-9d37-43237a9a0f30\",\"type\":\"LinearAxis\"},{\"attributes\":{},\"id\":\"8f47ac7c-2a98-4cd0-87ea-0e60be5bf2a0\",\"type\":\"CategoricalTickFormatter\"},{\"attributes\":{},\"id\":\"a4b1c1fa-8786-468e-85bc-a0d0ac213f1d\",\"type\":\"SaveTool\"},{\"attributes\":{\"dimension\":1,\"plot\":{\"id\":\"2c2b5df2-6711-4dda-8365-d486578cb9d3\",\"subtype\":\"Figure\",\"type\":\"Plot\"},\"ticker\":{\"id\":\"59669d12-4d99-4f21-9879-5d7b62695197\",\"type\":\"BasicTicker\"}},\"id\":\"d0af95cc-fff5-4ba4-9b7c-1882c3b634fe\",\"type\":\"Grid\"},{\"attributes\":{},\"id\":\"7d53b311-d923-478d-82a1-7335569fdc56\",\"type\":\"CategoricalTicker\"},{\"attributes\":{\"callback\":null,\"factors\":[\"1\",\"2\",\"3\",\"4\",\"5\",\"6\",\"7\",\"8\",\"9\",\"10\",\"11\"]},\"id\":\"3403fa6d-06d3-4478-8183-088aecc3a5d3\",\"type\":\"FactorRange\"}],\"root_ids\":[\"7aeba9fa-35e2-4eeb-80dc-2c447eabafed\"]},\"title\":\"Bokeh Application\",\"version\":\"0.12.16\"}};\n",
       "  var render_items = [{\"docid\":\"c98a971f-ac0d-4836-819d-5c34992cc893\",\"elementid\":\"5ec1b98d-58f7-4412-ab08-e260cd73cbef\",\"modelid\":\"7aeba9fa-35e2-4eeb-80dc-2c447eabafed\"}];\n",
       "  root.Bokeh.embed.embed_items_notebook(docs_json, render_items);\n",
       "\n",
       "  }\n",
       "  if (root.Bokeh !== undefined) {\n",
       "    embed_document(root);\n",
       "  } else {\n",
       "    var attempts = 0;\n",
       "    var timer = setInterval(function(root) {\n",
       "      if (root.Bokeh !== undefined) {\n",
       "        embed_document(root);\n",
       "        clearInterval(timer);\n",
       "      }\n",
       "      attempts++;\n",
       "      if (attempts > 100) {\n",
       "        console.log(\"Bokeh: ERROR: Unable to run BokehJS code because BokehJS library is missing\")\n",
       "        clearInterval(timer);\n",
       "      }\n",
       "    }, 10, root)\n",
       "  }\n",
       "})(window);"
      ],
      "application/vnd.bokehjs_exec.v0+json": ""
     },
     "metadata": {
      "application/vnd.bokehjs_exec.v0+json": {
       "id": "7aeba9fa-35e2-4eeb-80dc-2c447eabafed"
      }
     },
     "output_type": "display_data"
    },
    {
     "data": {
      "text/markdown": [
       "*FIGURE.* Difference between CLIRAD and CRD in TOA, SFC and net atmosphere flux, in each spectral band."
      ],
      "text/plain": [
       "<IPython.core.display.Markdown object>"
      ]
     },
     "metadata": {},
     "output_type": "display_data"
    },
    {
     "data": {
      "text/html": [
       "<div>\n",
       "<style scoped>\n",
       "    .dataframe tbody tr th:only-of-type {\n",
       "        vertical-align: middle;\n",
       "    }\n",
       "\n",
       "    .dataframe tbody tr th {\n",
       "        vertical-align: top;\n",
       "    }\n",
       "\n",
       "    .dataframe thead th {\n",
       "        text-align: right;\n",
       "    }\n",
       "</style>\n",
       "<table border=\"1\" class=\"dataframe\">\n",
       "  <thead>\n",
       "    <tr style=\"text-align: right;\">\n",
       "      <th></th>\n",
       "      <th>OLR flux</th>\n",
       "      <th>SFC flux</th>\n",
       "      <th>ATM heating</th>\n",
       "    </tr>\n",
       "    <tr>\n",
       "      <th>Sum over bands</th>\n",
       "      <th></th>\n",
       "      <th></th>\n",
       "      <th></th>\n",
       "    </tr>\n",
       "  </thead>\n",
       "  <tbody>\n",
       "    <tr>\n",
       "      <th>CLIRAD (single-run) - CRD</th>\n",
       "      <td>0.84</td>\n",
       "      <td>-0.44</td>\n",
       "      <td>1.27</td>\n",
       "    </tr>\n",
       "    <tr>\n",
       "      <th>CRD</th>\n",
       "      <td>-201.06</td>\n",
       "      <td>166.03</td>\n",
       "      <td>-119.67</td>\n",
       "    </tr>\n",
       "  </tbody>\n",
       "</table>\n",
       "</div>"
      ],
      "text/plain": [
       "                           OLR flux  SFC flux  ATM heating\n",
       "Sum over bands                                            \n",
       "CLIRAD (single-run) - CRD      0.84     -0.44         1.27\n",
       "CRD                         -201.06    166.03      -119.67"
      ]
     },
     "metadata": {},
     "output_type": "display_data"
    },
    {
     "data": {
      "text/markdown": [
       "*TABLE.* Difference between CLIRAD and CRD in TOA, SFC and net atmosphere flux, over all spectral bands. CRD's TOA, SFC and net atmosphere flux, over all spectral bands."
      ],
      "text/plain": [
       "<IPython.core.display.Markdown object>"
      ]
     },
     "metadata": {},
     "output_type": "display_data"
    },
    {
     "data": {
      "text/html": [
       "<a id=\"Cooling_rates._trp.\"></a>"
      ],
      "text/plain": [
       "<IPython.core.display.HTML object>"
      ]
     },
     "metadata": {},
     "output_type": "display_data"
    },
    {
     "data": {
      "text/markdown": [
       "# Cooling rates. trp."
      ],
      "text/plain": [
       "<IPython.core.display.Markdown object>"
      ]
     },
     "metadata": {},
     "output_type": "display_data"
    },
    {
     "data": {
      "text/html": [
       "\n",
       "<div class=\"bk-root\">\n",
       "    <div class=\"bk-plotdiv\" id=\"ebfc6add-1a09-45dd-a281-ec467ee1340d\"></div>\n",
       "</div>"
      ]
     },
     "metadata": {},
     "output_type": "display_data"
    },
    {
     "data": {
      "application/javascript": [
       "(function(root) {\n",
       "  function embed_document(root) {\n",
       "    \n",
       "  var docs_json = {\"e82695fd-0a6b-4f5d-9b2b-9a4fec5a327f\":{\"roots\":{\"references\":[{\"attributes\":{\"callback\":null,\"end\":0.01,\"start\":1020},\"id\":\"156b4977-ead6-411f-bba4-8996a6d4222b\",\"type\":\"Range1d\"},{\"attributes\":{\"callback\":null,\"end\":0.559427922866886,\"start\":-1.3419310516822867},\"id\":\"2e2773fe-503e-4005-b797-781ae0d28829\",\"type\":\"Range1d\"},{\"attributes\":{\"source\":{\"id\":\"21e0d260-9f6b-4e91-9a4d-2d7c760679ea\",\"type\":\"ColumnDataSource\"}},\"id\":\"eb54a8b3-ba0d-4145-82f4-5e735034bd58\",\"type\":\"CDSView\"},{\"attributes\":{},\"id\":\"cd4c6652-4daa-4b66-83e5-43f1eabb595b\",\"type\":\"UnionRenderers\"},{\"attributes\":{\"fill_alpha\":{\"value\":0.7},\"fill_color\":{\"value\":\"#984ea3\"},\"line_alpha\":{\"value\":0.7},\"line_color\":{\"value\":\"#984ea3\"},\"x\":{\"field\":\"x\"},\"y\":{\"field\":\"y\"}},\"id\":\"7dc56c54-5879-4ea3-beb2-cd14935a7032\",\"type\":\"Circle\"},{\"attributes\":{\"plot\":{\"id\":\"df52bbcd-2494-445f-924f-de303ebf19f5\",\"subtype\":\"Figure\",\"type\":\"Plot\"},\"ticker\":{\"id\":\"ae94d895-f435-472d-932d-4736a20539ed\",\"type\":\"BasicTicker\"}},\"id\":\"7fb5f327-9fb6-467e-8cd8-8c927dad4340\",\"type\":\"Grid\"},{\"attributes\":{\"line_alpha\":0.6,\"line_color\":\"#377eb8\",\"line_dash\":[6],\"line_width\":5,\"x\":{\"field\":\"x\"},\"y\":{\"field\":\"y\"}},\"id\":\"7e22fb4f-5e77-4496-bda3-38200f4773fa\",\"type\":\"Line\"},{\"attributes\":{\"dimension\":1,\"plot\":{\"id\":\"d477e94f-2cff-4bec-a360-574f4f2ff402\",\"subtype\":\"Figure\",\"type\":\"Plot\"},\"ticker\":{\"id\":\"07ed0c75-4304-43bc-9947-2c1fe67a1ae4\",\"type\":\"BasicTicker\"}},\"id\":\"837f8dc9-300c-4ee8-82b8-9a23249d9750\",\"type\":\"Grid\"},{\"attributes\":{\"axis_label\":\"cooling rate [K/day]\",\"formatter\":{\"id\":\"6363a3c7-ac55-4a74-ab23-67a5e7e5a080\",\"type\":\"BasicTickFormatter\"},\"plot\":{\"id\":\"df52bbcd-2494-445f-924f-de303ebf19f5\",\"subtype\":\"Figure\",\"type\":\"Plot\"},\"ticker\":{\"id\":\"ae94d895-f435-472d-932d-4736a20539ed\",\"type\":\"BasicTicker\"}},\"id\":\"812c2988-c8ef-4cc8-b2fc-8d5f43ade751\",\"type\":\"LinearAxis\"},{\"attributes\":{},\"id\":\"07ed0c75-4304-43bc-9947-2c1fe67a1ae4\",\"type\":\"BasicTicker\"},{\"attributes\":{\"fill_alpha\":{\"value\":0.1},\"fill_color\":{\"value\":\"#1f77b4\"},\"line_alpha\":{\"value\":0.1},\"line_color\":{\"value\":\"#1f77b4\"},\"x\":{\"field\":\"x\"},\"y\":{\"field\":\"y\"}},\"id\":\"24ae5396-dc0b-4235-a39a-636b50ee286d\",\"type\":\"Circle\"},{\"attributes\":{},\"id\":\"a403cf98-9a9b-4160-b818-041dc8de91f1\",\"type\":\"UnionRenderers\"},{\"attributes\":{\"callback\":null,\"data\":{\"x\":{\"__ndarray__\":\"R/KIaN7AVEClCeJMyPNGQOvRhpxr30JAptxzhxx4PkA7SssMElA4QK6Bp3CyUDNAsVXpjES9LkBFhUV0+5coQMHYwqbbySNA6f09nM3nH0CaSd/3eYoZQDmgiAOW8BNAPYqARh3eDEBkm4vCgvr+P9D+5tWhQfY/P8DwKRnSAkBq38kb17ILQDT7IWuSsxFAUr2Rjm0FFkAinq3s9XgbQGCHwtYcqSFAG64kT303J0C7dRDneyooQD9JYrbK8yRA9S3bneHhIUAIymSuUMMcQIkHLe6VEBdAAau3cITREkA6CiNvkQIPQJU39ki7IQlAaAvwok1UA0BXLQiS4+L7P0xzDpJ2hPI/NNuPGMbJ5z91mUVYxqfSPxqwUPSxZca/G11peifD3L8QzNj5t2jTvwzOozTL360/SPJ4VI1VzD9KJ0nXEIncP8yDdlvHt+4/Et49nYLW9z++2teD4Jn+P+568eH/bwFALf5D9lmAAkCiZAicVOkCQPPT4jNKxwJAOjp3wTzBAUBSQsKNGisBQG4OmjqJwQBAJ3sZoHFuAEA5Ar0Sdi0AQGy4rw5+9f8/7W4nSrC3/z8mPr8zj4T/P4UYRHCQS/8/embVKYcF/z+5YXG+LLP+P/qb8BVUgf4/KvafTtyO/j/avAK1Ppv+PwJV9VVm2P0/JFtYlU/n/D9sN+q2fiX6Pw44e41PNPc/Opt+Z/wN9T+x3vcSW1vzP9ofvWQJlvI/8sciQQBW8j80sfkQa17yPzg5qng2r/I/Oh14WJBh8z+VZjnpctj0P6CcrSuCqQBA\",\"dtype\":\"float64\",\"shape\":[75]},\"y\":{\"__ndarray__\":\"GhExyth1ND/Sv8nbtpRIP2vylNV0PVE/aTum7souWD/At0SJ8fVgPw3Iuahxymc/MSNhhJWvcD/bTfBN02d3P2zb5nxnaoA/CD5h5MAGhz8NmeH1TyaQP+zrCsc9p5Y/LbKd76fGnz/bLW5ISEmmPww9YvTcQq8/JV2OstnstT8Er5Y7M8G+P0c+r3jqkcU/5h99k6ZBzj88bCIzFzjVP4enV8oyxN0//yH99nXg5D8qOpLLf0jtP5kqGJXUifQ/c9cS8kHP/D+/DpwzojQEQIEmwoanVwxA4lgXt9HgE0BSSZ2AJuIbQAMJih9jjiNA5q4l5INuK0AwTKYKRj0zQNv5fmq8/DpAaCJseHrtQkB/+zpwzoxKQM3MzMzMeFJAZmZmZmZqWEAAAAAAAFxeQM3MzMzMJmJAmpmZmZkfZUBmZmZmZhhoQDMzMzMzEWtAAAAAAAAKbkBmZmZmZoFwQM3MzMzM/XFAMzMzMzN6c0CamZmZmfZ0QAAAAAAAc3ZAZmZmZmbvd0DNzMzMzGt5QDMzMzMz6HpAmpmZmZlkfEAAAAAAAOF9QGZmZmZmXX9AZmZmZuZsgECamZmZGSuBQM3MzMxM6YFAAAAAAICngkAzMzMzs2WDQGZmZmbmI4RAmpmZmRnihEDNzMzMTKCFQAAAAACAXoZAMzMzM7Mch0BmZmZm5tqHQJqZmZkZmYhAzczMzExXiUAAAAAAgBWKQDMzMzOz04pAZmZmZuaRi0CamZmZGVCMQM3MzMxMDo1AAAAAAIDMjUAzMzMzs4qOQGZmZmbmSI9A\",\"dtype\":\"float64\",\"shape\":[75]}},\"selected\":{\"id\":\"88c9632c-bde5-4cc4-b84a-1f1dd577e81d\",\"type\":\"Selection\"},\"selection_policy\":{\"id\":\"1b6d2262-8e30-4b25-8fe6-20c584bbd864\",\"type\":\"UnionRenderers\"}},\"id\":\"2b319fb8-f2a2-45b7-876b-47e48e93e64e\",\"type\":\"ColumnDataSource\"},{\"attributes\":{\"callback\":null,\"data\":{\"x\":{\"__ndarray__\":\"hQDizhf+Q8C9K7VPP4cgwJ45ivCkvwLAPrgd1IsN/D+7olvZiCgOQMfUJ5JPyw5AuoTPxstSBEDfsAhjqs7mPyG2aQPjFui/skYKbTIs9b8pmp3aPUHxvycIBbz0t96/evs4oRCitj+B1IFWZZfdPxqZq9kgTuE/lkgHH1bO1j/w/UZOEheyP4s6Gj7pbdG/+wyRYP474b+smxPTmVbhv1avJCCRsdO/LsHmAh7iur/uITsdI6mhv0XyCaug5Mu/da5/Dt1Y17/0SZ1RPmu7v1IJJSPzfdQ/kf0YDzym1T+PyE3OmIe4P7jzyz26Y4k/NR64+Gpozj+4volZXD7UP0WpJ1BRZME/OGepDTb1q790Wc7i3Kyav5cLhRLWcaM/rtdtlD7jnL8aKsAueeCyv2Wpn2hd166/ar+6uSL5q79JzvJIH9auv/oMy14/yq+/pHIp76m9sb+lGi6utlOov4Vb7kFUgbC/MhV07Slyv79SUDv5Zz20v5Z+ZH9eqK6/a4fNmQ9Vtb+gYJ66nz+1v/WnYBCUlqy/VJbOBzizn78Ay7ktF52UvwWi9HOtN5a/sayJvugWnr+GXu8dPU6fv2mqpry+3I6/brMXGwRnjj+CthimMBumPyLtjj5Gdqw/6Cp6xg+spz/6H0XpR82XPwCoGcKZrhM/pA4f0Td7fb/obh9nEuRkP/aoiDn57Zk/0BtJk+X8qz9pu9nNcjOyPxw4oFwM4rI/yDVB3u/zsz86WCrHOQe1P7GEpHPfIbY/yHpoq4sluj+M7Z3fXC2+Pykcaqn2yL8/\",\"dtype\":\"float64\",\"shape\":[75]},\"y\":{\"__ndarray__\":\"GhExyth1ND/Sv8nbtpRIP2vylNV0PVE/aTum7souWD/At0SJ8fVgPw3Iuahxymc/MSNhhJWvcD/bTfBN02d3P2zb5nxnaoA/CD5h5MAGhz8NmeH1TyaQP+zrCsc9p5Y/LbKd76fGnz/bLW5ISEmmPww9YvTcQq8/JV2OstnstT8Er5Y7M8G+P0c+r3jqkcU/5h99k6ZBzj88bCIzFzjVP4enV8oyxN0//yH99nXg5D8qOpLLf0jtP5kqGJXUifQ/c9cS8kHP/D+/DpwzojQEQIEmwoanVwxA4lgXt9HgE0BSSZ2AJuIbQAMJih9jjiNA5q4l5INuK0AwTKYKRj0zQNv5fmq8/DpAaCJseHrtQkB/+zpwzoxKQM3MzMzMeFJAZmZmZmZqWEAAAAAAAFxeQM3MzMzMJmJAmpmZmZkfZUBmZmZmZhhoQDMzMzMzEWtAAAAAAAAKbkBmZmZmZoFwQM3MzMzM/XFAMzMzMzN6c0CamZmZmfZ0QAAAAAAAc3ZAZmZmZmbvd0DNzMzMzGt5QDMzMzMz6HpAmpmZmZlkfEAAAAAAAOF9QGZmZmZmXX9AZmZmZuZsgECamZmZGSuBQM3MzMxM6YFAAAAAAICngkAzMzMzs2WDQGZmZmbmI4RAmpmZmRnihEDNzMzMTKCFQAAAAACAXoZAMzMzM7Mch0BmZmZm5tqHQJqZmZkZmYhAzczMzExXiUAAAAAAgBWKQDMzMzOz04pAZmZmZuaRi0CamZmZGVCMQM3MzMxMDo1AAAAAAIDMjUAzMzMzs4qOQGZmZmbmSI9A\",\"dtype\":\"float64\",\"shape\":[75]}},\"selected\":{\"id\":\"b39348af-94bf-4683-b3d7-7db33bd4240d\",\"type\":\"Selection\"},\"selection_policy\":{\"id\":\"c97080d6-46c0-4d3d-8d73-bf72565ad2f8\",\"type\":\"UnionRenderers\"}},\"id\":\"21e0d260-9f6b-4e91-9a4d-2d7c760679ea\",\"type\":\"ColumnDataSource\"},{\"attributes\":{\"plot\":{\"id\":\"d477e94f-2cff-4bec-a360-574f4f2ff402\",\"subtype\":\"Figure\",\"type\":\"Plot\"},\"ticker\":{\"id\":\"51cde6d0-ba21-42c6-8841-8d212912c16d\",\"type\":\"BasicTicker\"}},\"id\":\"5f1e90a9-b6d3-45e6-9b22-d99ad0cf868b\",\"type\":\"Grid\"},{\"attributes\":{},\"id\":\"141bdbb9-5798-4289-b87d-81894633392c\",\"type\":\"WheelZoomTool\"},{\"attributes\":{},\"id\":\"b2867567-cc4d-447d-964b-6d0b2e7011e9\",\"type\":\"PanTool\"},{\"attributes\":{\"callback\":null,\"end\":0.01,\"start\":1020},\"id\":\"55d3d68c-27b6-4fc7-a733-07daee21f7c9\",\"type\":\"Range1d\"},{\"attributes\":{},\"id\":\"ae94d895-f435-472d-932d-4736a20539ed\",\"type\":\"BasicTicker\"},{\"attributes\":{\"source\":{\"id\":\"a54d12bd-88a3-4be8-afc6-2a2dc73c794f\",\"type\":\"ColumnDataSource\"}},\"id\":\"30cde601-529a-4700-889e-a8be47c39b9a\",\"type\":\"CDSView\"},{\"attributes\":{\"data_source\":{\"id\":\"21e0d260-9f6b-4e91-9a4d-2d7c760679ea\",\"type\":\"ColumnDataSource\"},\"glyph\":{\"id\":\"7dc56c54-5879-4ea3-beb2-cd14935a7032\",\"type\":\"Circle\"},\"hover_glyph\":null,\"muted_glyph\":null,\"nonselection_glyph\":{\"id\":\"24ae5396-dc0b-4235-a39a-636b50ee286d\",\"type\":\"Circle\"},\"selection_glyph\":null,\"view\":{\"id\":\"eb54a8b3-ba0d-4145-82f4-5e735034bd58\",\"type\":\"CDSView\"}},\"id\":\"173cd0ce-400d-4a24-be9b-8a64d2f9c1d5\",\"type\":\"GlyphRenderer\"},{\"attributes\":{\"line_color\":\"#4daf4a\",\"line_width\":1.5,\"x\":{\"field\":\"x\"},\"y\":{\"field\":\"y\"}},\"id\":\"ef5cbc85-e6e0-4cb4-97b1-1addb79c7fe2\",\"type\":\"Line\"},{\"attributes\":{\"children\":[{\"id\":\"18b65303-de30-4829-b2b1-100918c39748\",\"type\":\"Row\"}]},\"id\":\"c997ef3f-a729-4116-972b-1ed281805ac0\",\"type\":\"Column\"},{\"attributes\":{\"active_drag\":\"auto\",\"active_inspect\":\"auto\",\"active_scroll\":\"auto\",\"active_tap\":\"auto\",\"tools\":[{\"id\":\"39c05cbe-7853-4083-bb7e-dfbccae17def\",\"type\":\"PanTool\"},{\"id\":\"59cd1873-1015-435c-b2fb-0bc4773adcec\",\"type\":\"WheelZoomTool\"},{\"id\":\"278835d8-eb7f-42a1-b9d2-070034f065ee\",\"type\":\"BoxZoomTool\"},{\"id\":\"38f41440-f428-4473-80f7-c1b7b1ec98c7\",\"type\":\"SaveTool\"},{\"id\":\"b041ef12-5820-48c4-b563-7627585582a6\",\"type\":\"ResetTool\"},{\"id\":\"d942adfc-abf3-48bd-8151-449bec1639a8\",\"type\":\"HelpTool\"}]},\"id\":\"73c7926d-3c84-4cde-8708-3d703cf3b002\",\"type\":\"Toolbar\"},{\"attributes\":{\"axis_label\":\"pressure [mb]\",\"formatter\":{\"id\":\"fd0127b7-9aa5-4c1a-9b58-0982af6ab976\",\"type\":\"LogTickFormatter\"},\"plot\":{\"id\":\"df52bbcd-2494-445f-924f-de303ebf19f5\",\"subtype\":\"Figure\",\"type\":\"Plot\"},\"ticker\":{\"id\":\"ccd8f1aa-3b3a-45cf-89d1-ac3534a2bcea\",\"type\":\"LogTicker\"}},\"id\":\"fdd020f5-023b-487b-8529-12b65aee58b0\",\"type\":\"LogAxis\"},{\"attributes\":{\"axis_label\":\"pressure [mb]\",\"formatter\":{\"id\":\"1180a581-a029-4751-89a9-8ae050ad57f9\",\"type\":\"BasicTickFormatter\"},\"plot\":{\"id\":\"d477e94f-2cff-4bec-a360-574f4f2ff402\",\"subtype\":\"Figure\",\"type\":\"Plot\"},\"ticker\":{\"id\":\"07ed0c75-4304-43bc-9947-2c1fe67a1ae4\",\"type\":\"BasicTicker\"}},\"id\":\"af6c9f3b-d5a3-4c0f-ae8c-cbd3c6b5d7c3\",\"type\":\"LinearAxis\"},{\"attributes\":{},\"id\":\"79a27f16-31d5-44f2-9b30-53c899934494\",\"type\":\"LinearScale\"},{\"attributes\":{},\"id\":\"51cde6d0-ba21-42c6-8841-8d212912c16d\",\"type\":\"BasicTicker\"},{\"attributes\":{\"line_alpha\":0.8,\"line_color\":\"#984ea3\",\"line_width\":1.5,\"x\":{\"field\":\"x\"},\"y\":{\"field\":\"y\"}},\"id\":\"3d125067-7192-443b-9249-a8100456f698\",\"type\":\"Line\"},{\"attributes\":{},\"id\":\"bf8c6af3-8c09-4f6e-bf37-196e1e616eaf\",\"type\":\"Selection\"},{\"attributes\":{\"children\":[{\"id\":\"be386980-7c4c-48e0-8c91-d4157a53634b\",\"type\":\"ToolbarBox\"},{\"id\":\"c997ef3f-a729-4116-972b-1ed281805ac0\",\"type\":\"Column\"}]},\"id\":\"8f2a5bed-d6d2-4a60-ae6b-2085986aaa92\",\"type\":\"Column\"},{\"attributes\":{},\"id\":\"5639e167-6fe1-45a8-93ac-9154a015261f\",\"type\":\"Selection\"},{\"attributes\":{\"line_alpha\":0.1,\"line_color\":\"#1f77b4\",\"line_width\":1.5,\"x\":{\"field\":\"x\"},\"y\":{\"field\":\"y\"}},\"id\":\"bd8a7727-979b-4ede-b6de-0801072b9480\",\"type\":\"Line\"},{\"attributes\":{\"overlay\":{\"id\":\"b9ed6494-6cfa-4174-96f3-14ff9e98c5a0\",\"type\":\"BoxAnnotation\"}},\"id\":\"b49a74cb-55cb-49e0-abc7-aefd0f936663\",\"type\":\"BoxZoomTool\"},{\"attributes\":{},\"id\":\"90b028e3-dcee-43a0-b799-5196fc9206a3\",\"type\":\"Selection\"},{\"attributes\":{},\"id\":\"88c9632c-bde5-4cc4-b84a-1f1dd577e81d\",\"type\":\"Selection\"},{\"attributes\":{\"tools\":[{\"id\":\"b2867567-cc4d-447d-964b-6d0b2e7011e9\",\"type\":\"PanTool\"},{\"id\":\"141bdbb9-5798-4289-b87d-81894633392c\",\"type\":\"WheelZoomTool\"},{\"id\":\"b49a74cb-55cb-49e0-abc7-aefd0f936663\",\"type\":\"BoxZoomTool\"},{\"id\":\"825e839c-0c16-4561-8f57-a9510a069db6\",\"type\":\"SaveTool\"},{\"id\":\"4c0f3714-8b6c-4c79-93fc-9ef13bede2a7\",\"type\":\"ResetTool\"},{\"id\":\"9878c76f-31be-4713-8e3f-9d2034e74f5b\",\"type\":\"HelpTool\"},{\"id\":\"1f42950f-24e8-4a72-af0c-859e847fe35d\",\"type\":\"PanTool\"},{\"id\":\"1b59228f-b1dc-44c5-9e70-e469a8bf816f\",\"type\":\"WheelZoomTool\"},{\"id\":\"13ce8052-0d1c-45c5-af32-133564bd21ec\",\"type\":\"BoxZoomTool\"},{\"id\":\"2bf701b7-51f0-456c-8e48-2068d35673fc\",\"type\":\"SaveTool\"},{\"id\":\"e25d9fe3-5c57-49c4-9887-59195b68f8d2\",\"type\":\"ResetTool\"},{\"id\":\"9c01d2cd-dfbf-40a3-9f9c-8b0cb02bb95d\",\"type\":\"HelpTool\"},{\"id\":\"39c05cbe-7853-4083-bb7e-dfbccae17def\",\"type\":\"PanTool\"},{\"id\":\"59cd1873-1015-435c-b2fb-0bc4773adcec\",\"type\":\"WheelZoomTool\"},{\"id\":\"278835d8-eb7f-42a1-b9d2-070034f065ee\",\"type\":\"BoxZoomTool\"},{\"id\":\"38f41440-f428-4473-80f7-c1b7b1ec98c7\",\"type\":\"SaveTool\"},{\"id\":\"b041ef12-5820-48c4-b563-7627585582a6\",\"type\":\"ResetTool\"},{\"id\":\"d942adfc-abf3-48bd-8151-449bec1639a8\",\"type\":\"HelpTool\"}]},\"id\":\"9d4663c8-d831-4fad-81a1-5fcb07b6cc8f\",\"type\":\"ProxyToolbar\"},{\"attributes\":{},\"id\":\"9878c76f-31be-4713-8e3f-9d2034e74f5b\",\"type\":\"HelpTool\"},{\"attributes\":{\"bottom_units\":\"screen\",\"fill_alpha\":{\"value\":0.5},\"fill_color\":{\"value\":\"lightgrey\"},\"left_units\":\"screen\",\"level\":\"overlay\",\"line_alpha\":{\"value\":1.0},\"line_color\":{\"value\":\"black\"},\"line_dash\":[4,4],\"line_width\":{\"value\":2},\"plot\":null,\"render_mode\":\"css\",\"right_units\":\"screen\",\"top_units\":\"screen\"},\"id\":\"b9ed6494-6cfa-4174-96f3-14ff9e98c5a0\",\"type\":\"BoxAnnotation\"},{\"attributes\":{},\"id\":\"b04fc43d-6009-4a07-873f-2d23ee887244\",\"type\":\"BasicTickFormatter\"},{\"attributes\":{\"plot\":null,\"text\":\"\"},\"id\":\"790ac439-b1fc-4e86-8137-e8393af412b1\",\"type\":\"Title\"},{\"attributes\":{\"ticker\":null},\"id\":\"61718362-8c8f-4fd7-b9cb-0a731ec2ca5f\",\"type\":\"LogTickFormatter\"},{\"attributes\":{\"callback\":null,\"data\":{\"x\":{\"__ndarray__\":\"hQDizhf+Q8C9K7VPP4cgwJ45ivCkvwLAPrgd1IsN/D+7olvZiCgOQMfUJ5JPyw5AuoTPxstSBEDfsAhjqs7mPyG2aQPjFui/skYKbTIs9b8pmp3aPUHxvycIBbz0t96/evs4oRCitj+B1IFWZZfdPxqZq9kgTuE/lkgHH1bO1j/w/UZOEheyP4s6Gj7pbdG/+wyRYP474b+smxPTmVbhv1avJCCRsdO/LsHmAh7iur/uITsdI6mhv0XyCaug5Mu/da5/Dt1Y17/0SZ1RPmu7v1IJJSPzfdQ/kf0YDzym1T+PyE3OmIe4P7jzyz26Y4k/NR64+Gpozj+4volZXD7UP0WpJ1BRZME/OGepDTb1q790Wc7i3Kyav5cLhRLWcaM/rtdtlD7jnL8aKsAueeCyv2Wpn2hd166/ar+6uSL5q79JzvJIH9auv/oMy14/yq+/pHIp76m9sb+lGi6utlOov4Vb7kFUgbC/MhV07Slyv79SUDv5Zz20v5Z+ZH9eqK6/a4fNmQ9Vtb+gYJ66nz+1v/WnYBCUlqy/VJbOBzizn78Ay7ktF52UvwWi9HOtN5a/sayJvugWnr+GXu8dPU6fv2mqpry+3I6/brMXGwRnjj+CthimMBumPyLtjj5Gdqw/6Cp6xg+spz/6H0XpR82XPwCoGcKZrhM/pA4f0Td7fb/obh9nEuRkP/aoiDn57Zk/0BtJk+X8qz9pu9nNcjOyPxw4oFwM4rI/yDVB3u/zsz86WCrHOQe1P7GEpHPfIbY/yHpoq4sluj+M7Z3fXC2+Pykcaqn2yL8/\",\"dtype\":\"float64\",\"shape\":[75]},\"y\":{\"__ndarray__\":\"GhExyth1ND/Sv8nbtpRIP2vylNV0PVE/aTum7souWD/At0SJ8fVgPw3Iuahxymc/MSNhhJWvcD/bTfBN02d3P2zb5nxnaoA/CD5h5MAGhz8NmeH1TyaQP+zrCsc9p5Y/LbKd76fGnz/bLW5ISEmmPww9YvTcQq8/JV2OstnstT8Er5Y7M8G+P0c+r3jqkcU/5h99k6ZBzj88bCIzFzjVP4enV8oyxN0//yH99nXg5D8qOpLLf0jtP5kqGJXUifQ/c9cS8kHP/D+/DpwzojQEQIEmwoanVwxA4lgXt9HgE0BSSZ2AJuIbQAMJih9jjiNA5q4l5INuK0AwTKYKRj0zQNv5fmq8/DpAaCJseHrtQkB/+zpwzoxKQM3MzMzMeFJAZmZmZmZqWEAAAAAAAFxeQM3MzMzMJmJAmpmZmZkfZUBmZmZmZhhoQDMzMzMzEWtAAAAAAAAKbkBmZmZmZoFwQM3MzMzM/XFAMzMzMzN6c0CamZmZmfZ0QAAAAAAAc3ZAZmZmZmbvd0DNzMzMzGt5QDMzMzMz6HpAmpmZmZlkfEAAAAAAAOF9QGZmZmZmXX9AZmZmZuZsgECamZmZGSuBQM3MzMxM6YFAAAAAAICngkAzMzMzs2WDQGZmZmbmI4RAmpmZmRnihEDNzMzMTKCFQAAAAACAXoZAMzMzM7Mch0BmZmZm5tqHQJqZmZkZmYhAzczMzExXiUAAAAAAgBWKQDMzMzOz04pAZmZmZuaRi0CamZmZGVCMQM3MzMxMDo1AAAAAAIDMjUAzMzMzs4qOQGZmZmbmSI9A\",\"dtype\":\"float64\",\"shape\":[75]}},\"selected\":{\"id\":\"4b48c94d-9f70-41c8-95ad-253fb539e025\",\"type\":\"Selection\"},\"selection_policy\":{\"id\":\"5ecb3324-41ec-4cb8-82d4-d617171d56d7\",\"type\":\"UnionRenderers\"}},\"id\":\"00a96a56-44fc-4b16-b2a1-85c69b35c46c\",\"type\":\"ColumnDataSource\"},{\"attributes\":{},\"id\":\"c97080d6-46c0-4d3d-8d73-bf72565ad2f8\",\"type\":\"UnionRenderers\"},{\"attributes\":{\"line_alpha\":0.1,\"line_color\":\"#1f77b4\",\"line_width\":1.5,\"x\":{\"field\":\"x\"},\"y\":{\"field\":\"y\"}},\"id\":\"7e588b0d-1f94-4f3c-ad1f-614d610861b5\",\"type\":\"Line\"},{\"attributes\":{\"toolbar\":{\"id\":\"9d4663c8-d831-4fad-81a1-5fcb07b6cc8f\",\"type\":\"ProxyToolbar\"},\"toolbar_location\":\"above\"},\"id\":\"be386980-7c4c-48e0-8c91-d4157a53634b\",\"type\":\"ToolbarBox\"},{\"attributes\":{\"plot\":null,\"text\":\"\"},\"id\":\"8e53ac8e-b805-40df-a250-7dac00225c52\",\"type\":\"Title\"},{\"attributes\":{},\"id\":\"1b6d2262-8e30-4b25-8fe6-20c584bbd864\",\"type\":\"UnionRenderers\"},{\"attributes\":{\"num_minor_ticks\":10},\"id\":\"ccd8f1aa-3b3a-45cf-89d1-ac3534a2bcea\",\"type\":\"LogTicker\"},{\"attributes\":{\"label\":{\"value\":\"CLIRAD (single-run) - CRD\"},\"renderers\":[{\"id\":\"173cd0ce-400d-4a24-be9b-8a64d2f9c1d5\",\"type\":\"GlyphRenderer\"},{\"id\":\"d06821cf-f6c5-48ff-b867-b312cbd219ab\",\"type\":\"GlyphRenderer\"}]},\"id\":\"09c9d03f-4423-4ba4-a092-2df82543fa71\",\"type\":\"LegendItem\"},{\"attributes\":{\"data_source\":{\"id\":\"c1bd0364-d810-4930-b08e-83cf0a8616da\",\"type\":\"ColumnDataSource\"},\"glyph\":{\"id\":\"e89145a6-7049-4e52-b414-0644732fcf65\",\"type\":\"Line\"},\"hover_glyph\":null,\"muted_glyph\":null,\"nonselection_glyph\":{\"id\":\"12571638-fd3d-413c-84bc-81d0e1213653\",\"type\":\"Line\"},\"selection_glyph\":null,\"view\":{\"id\":\"c0023628-1f18-4c60-a8e5-143dae0e3679\",\"type\":\"CDSView\"}},\"id\":\"1e92fa96-8dd4-4392-a0ac-9bd814e890cc\",\"type\":\"GlyphRenderer\"},{\"attributes\":{},\"id\":\"4b48c94d-9f70-41c8-95ad-253fb539e025\",\"type\":\"Selection\"},{\"attributes\":{\"data_source\":{\"id\":\"2b319fb8-f2a2-45b7-876b-47e48e93e64e\",\"type\":\"ColumnDataSource\"},\"glyph\":{\"id\":\"ef5cbc85-e6e0-4cb4-97b1-1addb79c7fe2\",\"type\":\"Line\"},\"hover_glyph\":null,\"muted_glyph\":null,\"nonselection_glyph\":{\"id\":\"7e588b0d-1f94-4f3c-ad1f-614d610861b5\",\"type\":\"Line\"},\"selection_glyph\":null,\"view\":{\"id\":\"ca66c825-9337-42fb-9271-cd43122b4ebd\",\"type\":\"CDSView\"}},\"id\":\"98f90bbe-9c13-4e49-b1ec-114be1b191bb\",\"type\":\"GlyphRenderer\"},{\"attributes\":{\"source\":{\"id\":\"2b319fb8-f2a2-45b7-876b-47e48e93e64e\",\"type\":\"ColumnDataSource\"}},\"id\":\"ca66c825-9337-42fb-9271-cd43122b4ebd\",\"type\":\"CDSView\"},{\"attributes\":{},\"id\":\"825e839c-0c16-4561-8f57-a9510a069db6\",\"type\":\"SaveTool\"},{\"attributes\":{\"source\":{\"id\":\"00a96a56-44fc-4b16-b2a1-85c69b35c46c\",\"type\":\"ColumnDataSource\"}},\"id\":\"c41868af-f8e4-4d03-a6bd-8d06edf2c1c5\",\"type\":\"CDSView\"},{\"attributes\":{\"items\":[{\"id\":\"09c9d03f-4423-4ba4-a092-2df82543fa71\",\"type\":\"LegendItem\"}],\"label_text_font_size\":{\"value\":\"8pt\"},\"location\":\"top_center\",\"orientation\":\"horizontal\",\"plot\":{\"id\":\"df52bbcd-2494-445f-924f-de303ebf19f5\",\"subtype\":\"Figure\",\"type\":\"Plot\"}},\"id\":\"cce87510-878b-440d-9f5c-45ea53118531\",\"type\":\"Legend\"},{\"attributes\":{},\"id\":\"45a1f422-c93a-4adc-93f8-3551a0715706\",\"type\":\"Selection\"},{\"attributes\":{\"data_source\":{\"id\":\"00a96a56-44fc-4b16-b2a1-85c69b35c46c\",\"type\":\"ColumnDataSource\"},\"glyph\":{\"id\":\"3d125067-7192-443b-9249-a8100456f698\",\"type\":\"Line\"},\"hover_glyph\":null,\"muted_glyph\":null,\"nonselection_glyph\":{\"id\":\"bd8a7727-979b-4ede-b6de-0801072b9480\",\"type\":\"Line\"},\"selection_glyph\":null,\"view\":{\"id\":\"c41868af-f8e4-4d03-a6bd-8d06edf2c1c5\",\"type\":\"CDSView\"}},\"id\":\"d06821cf-f6c5-48ff-b867-b312cbd219ab\",\"type\":\"GlyphRenderer\"},{\"attributes\":{},\"id\":\"b39348af-94bf-4683-b3d7-7db33bd4240d\",\"type\":\"Selection\"},{\"attributes\":{},\"id\":\"c683ab7c-b032-4819-94c8-70d6f034f666\",\"type\":\"Selection\"},{\"attributes\":{\"ticker\":null},\"id\":\"fd0127b7-9aa5-4c1a-9b58-0982af6ab976\",\"type\":\"LogTickFormatter\"},{\"attributes\":{},\"id\":\"515edee1-8710-44f8-b226-5280dab46663\",\"type\":\"UnionRenderers\"},{\"attributes\":{},\"id\":\"b8cb2dc0-c399-4bd9-b656-9f27a687f095\",\"type\":\"UnionRenderers\"},{\"attributes\":{},\"id\":\"4c0f3714-8b6c-4c79-93fc-9ef13bede2a7\",\"type\":\"ResetTool\"},{\"attributes\":{},\"id\":\"6363a3c7-ac55-4a74-ab23-67a5e7e5a080\",\"type\":\"BasicTickFormatter\"},{\"attributes\":{},\"id\":\"1180a581-a029-4751-89a9-8ae050ad57f9\",\"type\":\"BasicTickFormatter\"},{\"attributes\":{},\"id\":\"140c554e-cf55-405f-9354-ca871912a157\",\"type\":\"BasicTickFormatter\"},{\"attributes\":{},\"id\":\"5ecb3324-41ec-4cb8-82d4-d617171d56d7\",\"type\":\"UnionRenderers\"},{\"attributes\":{},\"id\":\"202d0675-6281-45de-b24c-f648533e631e\",\"type\":\"UnionRenderers\"},{\"attributes\":{\"plot\":null,\"text\":\"\"},\"id\":\"d651a9da-df48-461a-b0fe-a589f8246c60\",\"type\":\"Title\"},{\"attributes\":{\"children\":[{\"id\":\"d477e94f-2cff-4bec-a360-574f4f2ff402\",\"subtype\":\"Figure\",\"type\":\"Plot\"},{\"id\":\"a72d7621-5177-4a58-826d-9af196355964\",\"subtype\":\"Figure\",\"type\":\"Plot\"},{\"id\":\"df52bbcd-2494-445f-924f-de303ebf19f5\",\"subtype\":\"Figure\",\"type\":\"Plot\"}]},\"id\":\"18b65303-de30-4829-b2b1-100918c39748\",\"type\":\"Row\"},{\"attributes\":{\"dimension\":1,\"plot\":{\"id\":\"df52bbcd-2494-445f-924f-de303ebf19f5\",\"subtype\":\"Figure\",\"type\":\"Plot\"},\"ticker\":{\"id\":\"ccd8f1aa-3b3a-45cf-89d1-ac3534a2bcea\",\"type\":\"LogTicker\"}},\"id\":\"4dbe08bd-1a5f-4df1-b90e-cbcedf0f68a5\",\"type\":\"Grid\"},{\"attributes\":{\"callback\":null,\"data\":{\"x\":{\"__ndarray__\":\"R/KIaN7AVEClCeJMyPNGQOvRhpxr30JAptxzhxx4PkA7SssMElA4QK6Bp3CyUDNAsVXpjES9LkBFhUV0+5coQMHYwqbbySNA6f09nM3nH0CaSd/3eYoZQDmgiAOW8BNAPYqARh3eDEBkm4vCgvr+P9D+5tWhQfY/P8DwKRnSAkBq38kb17ILQDT7IWuSsxFAUr2Rjm0FFkAinq3s9XgbQGCHwtYcqSFAG64kT303J0C7dRDneyooQD9JYrbK8yRA9S3bneHhIUAIymSuUMMcQIkHLe6VEBdAAau3cITREkA6CiNvkQIPQJU39ki7IQlAaAvwok1UA0BXLQiS4+L7P0xzDpJ2hPI/NNuPGMbJ5z91mUVYxqfSPxqwUPSxZca/G11peifD3L8QzNj5t2jTvwzOozTL360/SPJ4VI1VzD9KJ0nXEIncP8yDdlvHt+4/Et49nYLW9z++2teD4Jn+P+568eH/bwFALf5D9lmAAkCiZAicVOkCQPPT4jNKxwJAOjp3wTzBAUBSQsKNGisBQG4OmjqJwQBAJ3sZoHFuAEA5Ar0Sdi0AQGy4rw5+9f8/7W4nSrC3/z8mPr8zj4T/P4UYRHCQS/8/embVKYcF/z+5YXG+LLP+P/qb8BVUgf4/KvafTtyO/j/avAK1Ppv+PwJV9VVm2P0/JFtYlU/n/D9sN+q2fiX6Pw44e41PNPc/Opt+Z/wN9T+x3vcSW1vzP9ofvWQJlvI/8sciQQBW8j80sfkQa17yPzg5qng2r/I/Oh14WJBh8z+VZjnpctj0P6CcrSuCqQBA\",\"dtype\":\"float64\",\"shape\":[75]},\"y\":{\"__ndarray__\":\"GhExyth1ND/Sv8nbtpRIP2vylNV0PVE/aTum7souWD/At0SJ8fVgPw3Iuahxymc/MSNhhJWvcD/bTfBN02d3P2zb5nxnaoA/CD5h5MAGhz8NmeH1TyaQP+zrCsc9p5Y/LbKd76fGnz/bLW5ISEmmPww9YvTcQq8/JV2OstnstT8Er5Y7M8G+P0c+r3jqkcU/5h99k6ZBzj88bCIzFzjVP4enV8oyxN0//yH99nXg5D8qOpLLf0jtP5kqGJXUifQ/c9cS8kHP/D+/DpwzojQEQIEmwoanVwxA4lgXt9HgE0BSSZ2AJuIbQAMJih9jjiNA5q4l5INuK0AwTKYKRj0zQNv5fmq8/DpAaCJseHrtQkB/+zpwzoxKQM3MzMzMeFJAZmZmZmZqWEAAAAAAAFxeQM3MzMzMJmJAmpmZmZkfZUBmZmZmZhhoQDMzMzMzEWtAAAAAAAAKbkBmZmZmZoFwQM3MzMzM/XFAMzMzMzN6c0CamZmZmfZ0QAAAAAAAc3ZAZmZmZmbvd0DNzMzMzGt5QDMzMzMz6HpAmpmZmZlkfEAAAAAAAOF9QGZmZmZmXX9AZmZmZuZsgECamZmZGSuBQM3MzMxM6YFAAAAAAICngkAzMzMzs2WDQGZmZmbmI4RAmpmZmRnihEDNzMzMTKCFQAAAAACAXoZAMzMzM7Mch0BmZmZm5tqHQJqZmZkZmYhAzczMzExXiUAAAAAAgBWKQDMzMzOz04pAZmZmZuaRi0CamZmZGVCMQM3MzMxMDo1AAAAAAIDMjUAzMzMzs4qOQGZmZmbmSI9A\",\"dtype\":\"float64\",\"shape\":[75]}},\"selected\":{\"id\":\"bf8c6af3-8c09-4f6e-bf37-196e1e616eaf\",\"type\":\"Selection\"},\"selection_policy\":{\"id\":\"a403cf98-9a9b-4160-b818-041dc8de91f1\",\"type\":\"UnionRenderers\"}},\"id\":\"a54d12bd-88a3-4be8-afc6-2a2dc73c794f\",\"type\":\"ColumnDataSource\"},{\"attributes\":{\"active_drag\":\"auto\",\"active_inspect\":\"auto\",\"active_scroll\":\"auto\",\"active_tap\":\"auto\",\"tools\":[{\"id\":\"1f42950f-24e8-4a72-af0c-859e847fe35d\",\"type\":\"PanTool\"},{\"id\":\"1b59228f-b1dc-44c5-9e70-e469a8bf816f\",\"type\":\"WheelZoomTool\"},{\"id\":\"13ce8052-0d1c-45c5-af32-133564bd21ec\",\"type\":\"BoxZoomTool\"},{\"id\":\"2bf701b7-51f0-456c-8e48-2068d35673fc\",\"type\":\"SaveTool\"},{\"id\":\"e25d9fe3-5c57-49c4-9887-59195b68f8d2\",\"type\":\"ResetTool\"},{\"id\":\"9c01d2cd-dfbf-40a3-9f9c-8b0cb02bb95d\",\"type\":\"HelpTool\"}]},\"id\":\"fac35c20-defd-4cec-86eb-7fcb991f471e\",\"type\":\"Toolbar\"},{\"attributes\":{},\"id\":\"e25d9fe3-5c57-49c4-9887-59195b68f8d2\",\"type\":\"ResetTool\"},{\"attributes\":{},\"id\":\"c7cb2aa7-033a-499c-b6e1-63f41bd0a8ae\",\"type\":\"LogScale\"},{\"attributes\":{},\"id\":\"d942adfc-abf3-48bd-8151-449bec1639a8\",\"type\":\"HelpTool\"},{\"attributes\":{},\"id\":\"2fa4e6bb-78b8-4ac0-a9aa-972cda3f3979\",\"type\":\"LinearScale\"},{\"attributes\":{\"above\":[{\"id\":\"ba5cc1e5-8d5d-49ae-a518-1242659c3032\",\"type\":\"Legend\"}],\"below\":[{\"id\":\"e17fe78b-73d5-4237-be4c-c9761c34a7ee\",\"type\":\"LinearAxis\"}],\"left\":[{\"id\":\"af6c9f3b-d5a3-4c0f-ae8c-cbd3c6b5d7c3\",\"type\":\"LinearAxis\"}],\"plot_width\":300,\"renderers\":[{\"id\":\"e17fe78b-73d5-4237-be4c-c9761c34a7ee\",\"type\":\"LinearAxis\"},{\"id\":\"5f1e90a9-b6d3-45e6-9b22-d99ad0cf868b\",\"type\":\"Grid\"},{\"id\":\"af6c9f3b-d5a3-4c0f-ae8c-cbd3c6b5d7c3\",\"type\":\"LinearAxis\"},{\"id\":\"837f8dc9-300c-4ee8-82b8-9a23249d9750\",\"type\":\"Grid\"},{\"id\":\"b9ed6494-6cfa-4174-96f3-14ff9e98c5a0\",\"type\":\"BoxAnnotation\"},{\"id\":\"c834efba-e982-43d2-8ff6-0c7a0a9d06d9\",\"type\":\"GlyphRenderer\"},{\"id\":\"297e0ec8-b610-4cb3-88db-2ae11ce2bbdf\",\"type\":\"GlyphRenderer\"},{\"id\":\"1f5b23eb-1c13-41f1-9b69-7140002b6f71\",\"type\":\"GlyphRenderer\"},{\"id\":\"ba5cc1e5-8d5d-49ae-a518-1242659c3032\",\"type\":\"Legend\"}],\"title\":{\"id\":\"8e53ac8e-b805-40df-a250-7dac00225c52\",\"type\":\"Title\"},\"toolbar\":{\"id\":\"5fbf84cc-15b1-448f-983b-6db9d1598a7b\",\"type\":\"Toolbar\"},\"toolbar_location\":null,\"x_range\":{\"id\":\"9a69c68e-d35f-49eb-967b-fe6a9b0c580f\",\"type\":\"Range1d\"},\"x_scale\":{\"id\":\"2fa4e6bb-78b8-4ac0-a9aa-972cda3f3979\",\"type\":\"LinearScale\"},\"y_range\":{\"id\":\"156b4977-ead6-411f-bba4-8996a6d4222b\",\"type\":\"Range1d\"},\"y_scale\":{\"id\":\"7998c463-b2df-4409-987c-de9d6f0809fe\",\"type\":\"LinearScale\"}},\"id\":\"d477e94f-2cff-4bec-a360-574f4f2ff402\",\"subtype\":\"Figure\",\"type\":\"Plot\"},{\"attributes\":{\"label\":{\"value\":\"CLIRAD (single-run)\"},\"renderers\":[{\"id\":\"c834efba-e982-43d2-8ff6-0c7a0a9d06d9\",\"type\":\"GlyphRenderer\"}]},\"id\":\"db47f084-55ca-4278-92aa-9cb3b1ae7c49\",\"type\":\"LegendItem\"},{\"attributes\":{\"bottom_units\":\"screen\",\"fill_alpha\":{\"value\":0.5},\"fill_color\":{\"value\":\"lightgrey\"},\"left_units\":\"screen\",\"level\":\"overlay\",\"line_alpha\":{\"value\":1.0},\"line_color\":{\"value\":\"black\"},\"line_dash\":[4,4],\"line_width\":{\"value\":2},\"plot\":null,\"render_mode\":\"css\",\"right_units\":\"screen\",\"top_units\":\"screen\"},\"id\":\"5f77bb69-1d42-47af-b4bc-ed0470063632\",\"type\":\"BoxAnnotation\"},{\"attributes\":{\"source\":{\"id\":\"83bd119d-386a-4989-a9a2-0435ec51472e\",\"type\":\"ColumnDataSource\"}},\"id\":\"0db2a863-c3c4-45fb-9a9d-61d571302db2\",\"type\":\"CDSView\"},{\"attributes\":{\"overlay\":{\"id\":\"5f77bb69-1d42-47af-b4bc-ed0470063632\",\"type\":\"BoxAnnotation\"}},\"id\":\"278835d8-eb7f-42a1-b9d2-070034f065ee\",\"type\":\"BoxZoomTool\"},{\"attributes\":{\"callback\":null,\"data\":{\"x\":{\"__ndarray__\":\"DeQvAqWDRUC2vvR4+NFCQFEufk1xs0FAFdxaonocQECUvvYnIxU8QEd87GIcKjdAcZtOv/voMUBSEHYa5gQqQF49jHZtSCJAPWz7AMGcGkAR4zeBKjoVQLhPyLcWBRJAGlKKyy2TDUBDCBYMLjADQFzLvEKy6P4/UqnR7eOrBUBZFzyuj0MMQI1XQNeznBBAs5t/wu3dE0CsKkuyIk4ZQOVhwU2QCyFAmOAeE7kBJ0CaOvPD0hgoQHghtjM4hCRAgTBntRonIUDfVB61o1UcQB5YXyB1WBhA2zqpMegrFEB+eJU1zsYPQIgDNAMfOwlATI17UtQ6BUCCTjVUPXkAQHRoE7wAsfQ/wUS1t3IK5j/gsxiK+PzQPzJtr288icG/lzqwY1uR3r+X1ohF1iDYvwRse39G8l6/bUIKpkRXxT+BzSruTK7YP/zSiWUju+w/6UZL/qe69j/qaWbOQtf9PxII4j/16wBAhF3YpsiEAUAeij5caUcCQPlB5bmoTAJAAM6oRJQWAUBMT+2PHYEAQM6LWOouTwBA+t0JMAsvAECkjmHkOwQAQOTl31ifnP8/O0gtp1Q//z+tgEc/Vgf/PzHLyvLWDf8/4JULMlVC/z9tJ6JDBmT/P2IT5UcGZf8/gcfTzDxM/z9a0afUc/r+P2ddXBC12P0/FjyHXdTJ/D8jxx3A8C/6P7BaYXIHnPc/GeQYlOPt9T9oetU/kn70P1sjhyoqxPM/T9sGPz+V8z+4Vmyt3q7zP4OB5G9UEfQ/56QuE+kD9T9sRTO3SLv2P4Ht+ODJpwFA\",\"dtype\":\"float64\",\"shape\":[75]},\"y\":{\"__ndarray__\":\"GhExyth1ND/Sv8nbtpRIP2vylNV0PVE/aTum7souWD/At0SJ8fVgPw3Iuahxymc/MSNhhJWvcD/bTfBN02d3P2zb5nxnaoA/CD5h5MAGhz8NmeH1TyaQP+zrCsc9p5Y/LbKd76fGnz/bLW5ISEmmPww9YvTcQq8/JV2OstnstT8Er5Y7M8G+P0c+r3jqkcU/5h99k6ZBzj88bCIzFzjVP4enV8oyxN0//yH99nXg5D8qOpLLf0jtP5kqGJXUifQ/c9cS8kHP/D+/DpwzojQEQIEmwoanVwxA4lgXt9HgE0BSSZ2AJuIbQAMJih9jjiNA5q4l5INuK0AwTKYKRj0zQNv5fmq8/DpAaCJseHrtQkB/+zpwzoxKQM3MzMzMeFJAZmZmZmZqWEAAAAAAAFxeQM3MzMzMJmJAmpmZmZkfZUBmZmZmZhhoQDMzMzMzEWtAAAAAAAAKbkBmZmZmZoFwQM3MzMzM/XFAMzMzMzN6c0CamZmZmfZ0QAAAAAAAc3ZAZmZmZmbvd0DNzMzMzGt5QDMzMzMz6HpAmpmZmZlkfEAAAAAAAOF9QGZmZmZmXX9AZmZmZuZsgECamZmZGSuBQM3MzMxM6YFAAAAAAICngkAzMzMzs2WDQGZmZmbmI4RAmpmZmRnihEDNzMzMTKCFQAAAAACAXoZAMzMzM7Mch0BmZmZm5tqHQJqZmZkZmYhAzczMzExXiUAAAAAAgBWKQDMzMzOz04pAZmZmZuaRi0CamZmZGVCMQM3MzMxMDo1AAAAAAIDMjUAzMzMzs4qOQGZmZmbmSI9A\",\"dtype\":\"float64\",\"shape\":[75]}},\"selected\":{\"id\":\"90b028e3-dcee-43a0-b799-5196fc9206a3\",\"type\":\"Selection\"},\"selection_policy\":{\"id\":\"cd4c6652-4daa-4b66-83e5-43f1eabb595b\",\"type\":\"UnionRenderers\"}},\"id\":\"c1bd0364-d810-4930-b08e-83cf0a8616da\",\"type\":\"ColumnDataSource\"},{\"attributes\":{},\"id\":\"1f42950f-24e8-4a72-af0c-859e847fe35d\",\"type\":\"PanTool\"},{\"attributes\":{},\"id\":\"9c01d2cd-dfbf-40a3-9f9c-8b0cb02bb95d\",\"type\":\"HelpTool\"},{\"attributes\":{},\"id\":\"38f41440-f428-4473-80f7-c1b7b1ec98c7\",\"type\":\"SaveTool\"},{\"attributes\":{\"line_alpha\":0.6,\"line_color\":\"#377eb8\",\"line_dash\":[6],\"line_width\":5,\"x\":{\"field\":\"x\"},\"y\":{\"field\":\"y\"}},\"id\":\"e89145a6-7049-4e52-b414-0644732fcf65\",\"type\":\"Line\"},{\"attributes\":{\"dimension\":1,\"plot\":{\"id\":\"a72d7621-5177-4a58-826d-9af196355964\",\"subtype\":\"Figure\",\"type\":\"Plot\"},\"ticker\":{\"id\":\"58f7bea9-7c2e-4719-a9c5-e12e90392991\",\"type\":\"LogTicker\"}},\"id\":\"03f5b0ed-d0a0-47f9-8154-4e6ccbff6377\",\"type\":\"Grid\"},{\"attributes\":{\"axis_label\":\"cooling rate [K/day]\",\"formatter\":{\"id\":\"b04fc43d-6009-4a07-873f-2d23ee887244\",\"type\":\"BasicTickFormatter\"},\"plot\":{\"id\":\"a72d7621-5177-4a58-826d-9af196355964\",\"subtype\":\"Figure\",\"type\":\"Plot\"},\"ticker\":{\"id\":\"ddd27d54-a43b-44c6-a047-8675be4221d8\",\"type\":\"BasicTicker\"}},\"id\":\"e50eda58-7e0a-4dfa-8df3-7646359a2a4f\",\"type\":\"LinearAxis\"},{\"attributes\":{\"data_source\":{\"id\":\"83bd119d-386a-4989-a9a2-0435ec51472e\",\"type\":\"ColumnDataSource\"},\"glyph\":{\"id\":\"b6a121ce-4bad-4843-a3bf-71daed83e450\",\"type\":\"Line\"},\"hover_glyph\":null,\"muted_glyph\":null,\"nonselection_glyph\":{\"id\":\"56ac7c0a-17dc-4068-ac47-8c5608528f9c\",\"type\":\"Line\"},\"selection_glyph\":null,\"view\":{\"id\":\"0db2a863-c3c4-45fb-9a9d-61d571302db2\",\"type\":\"CDSView\"}},\"id\":\"1f5b23eb-1c13-41f1-9b69-7140002b6f71\",\"type\":\"GlyphRenderer\"},{\"attributes\":{\"bottom_units\":\"screen\",\"fill_alpha\":{\"value\":0.5},\"fill_color\":{\"value\":\"lightgrey\"},\"left_units\":\"screen\",\"level\":\"overlay\",\"line_alpha\":{\"value\":1.0},\"line_color\":{\"value\":\"black\"},\"line_dash\":[4,4],\"line_width\":{\"value\":2},\"plot\":null,\"render_mode\":\"css\",\"right_units\":\"screen\",\"top_units\":\"screen\"},\"id\":\"04f93fa2-a449-48b0-8524-0576f5d99dd2\",\"type\":\"BoxAnnotation\"},{\"attributes\":{},\"id\":\"1b59228f-b1dc-44c5-9e70-e469a8bf816f\",\"type\":\"WheelZoomTool\"},{\"attributes\":{\"callback\":null,\"data\":{\"x\":{\"__ndarray__\":\"DeQvAqWDRUC2vvR4+NFCQFEufk1xs0FAFdxaonocQECUvvYnIxU8QEd87GIcKjdAcZtOv/voMUBSEHYa5gQqQF49jHZtSCJAPWz7AMGcGkAR4zeBKjoVQLhPyLcWBRJAGlKKyy2TDUBDCBYMLjADQFzLvEKy6P4/UqnR7eOrBUBZFzyuj0MMQI1XQNeznBBAs5t/wu3dE0CsKkuyIk4ZQOVhwU2QCyFAmOAeE7kBJ0CaOvPD0hgoQHghtjM4hCRAgTBntRonIUDfVB61o1UcQB5YXyB1WBhA2zqpMegrFEB+eJU1zsYPQIgDNAMfOwlATI17UtQ6BUCCTjVUPXkAQHRoE7wAsfQ/wUS1t3IK5j/gsxiK+PzQPzJtr288icG/lzqwY1uR3r+X1ohF1iDYvwRse39G8l6/bUIKpkRXxT+BzSruTK7YP/zSiWUju+w/6UZL/qe69j/qaWbOQtf9PxII4j/16wBAhF3YpsiEAUAeij5caUcCQPlB5bmoTAJAAM6oRJQWAUBMT+2PHYEAQM6LWOouTwBA+t0JMAsvAECkjmHkOwQAQOTl31ifnP8/O0gtp1Q//z+tgEc/Vgf/PzHLyvLWDf8/4JULMlVC/z9tJ6JDBmT/P2IT5UcGZf8/gcfTzDxM/z9a0afUc/r+P2ddXBC12P0/FjyHXdTJ/D8jxx3A8C/6P7BaYXIHnPc/GeQYlOPt9T9oetU/kn70P1sjhyoqxPM/T9sGPz+V8z+4Vmyt3q7zP4OB5G9UEfQ/56QuE+kD9T9sRTO3SLv2P4Ht+ODJpwFA\",\"dtype\":\"float64\",\"shape\":[75]},\"y\":{\"__ndarray__\":\"GhExyth1ND/Sv8nbtpRIP2vylNV0PVE/aTum7souWD/At0SJ8fVgPw3Iuahxymc/MSNhhJWvcD/bTfBN02d3P2zb5nxnaoA/CD5h5MAGhz8NmeH1TyaQP+zrCsc9p5Y/LbKd76fGnz/bLW5ISEmmPww9YvTcQq8/JV2OstnstT8Er5Y7M8G+P0c+r3jqkcU/5h99k6ZBzj88bCIzFzjVP4enV8oyxN0//yH99nXg5D8qOpLLf0jtP5kqGJXUifQ/c9cS8kHP/D+/DpwzojQEQIEmwoanVwxA4lgXt9HgE0BSSZ2AJuIbQAMJih9jjiNA5q4l5INuK0AwTKYKRj0zQNv5fmq8/DpAaCJseHrtQkB/+zpwzoxKQM3MzMzMeFJAZmZmZmZqWEAAAAAAAFxeQM3MzMzMJmJAmpmZmZkfZUBmZmZmZhhoQDMzMzMzEWtAAAAAAAAKbkBmZmZmZoFwQM3MzMzM/XFAMzMzMzN6c0CamZmZmfZ0QAAAAAAAc3ZAZmZmZmbvd0DNzMzMzGt5QDMzMzMz6HpAmpmZmZlkfEAAAAAAAOF9QGZmZmZmXX9AZmZmZuZsgECamZmZGSuBQM3MzMxM6YFAAAAAAICngkAzMzMzs2WDQGZmZmbmI4RAmpmZmRnihEDNzMzMTKCFQAAAAACAXoZAMzMzM7Mch0BmZmZm5tqHQJqZmZkZmYhAzczMzExXiUAAAAAAgBWKQDMzMzOz04pAZmZmZuaRi0CamZmZGVCMQM3MzMxMDo1AAAAAAIDMjUAzMzMzs4qOQGZmZmbmSI9A\",\"dtype\":\"float64\",\"shape\":[75]}},\"selected\":{\"id\":\"5639e167-6fe1-45a8-93ac-9154a015261f\",\"type\":\"Selection\"},\"selection_policy\":{\"id\":\"b8cb2dc0-c399-4bd9-b656-9f27a687f095\",\"type\":\"UnionRenderers\"}},\"id\":\"b0c5a638-3b58-47f2-883c-6467ff6de74e\",\"type\":\"ColumnDataSource\"},{\"attributes\":{\"axis_label\":\"pressure [mb]\",\"formatter\":{\"id\":\"61718362-8c8f-4fd7-b9cb-0a731ec2ca5f\",\"type\":\"LogTickFormatter\"},\"plot\":{\"id\":\"a72d7621-5177-4a58-826d-9af196355964\",\"subtype\":\"Figure\",\"type\":\"Plot\"},\"ticker\":{\"id\":\"58f7bea9-7c2e-4719-a9c5-e12e90392991\",\"type\":\"LogTicker\"}},\"id\":\"a28690be-69cc-40ca-8bdd-71d5cd23c94f\",\"type\":\"LogAxis\"},{\"attributes\":{\"callback\":null,\"end\":0.01,\"start\":1020},\"id\":\"191c8225-e8c4-4623-83ea-9d983b5f1c21\",\"type\":\"Range1d\"},{\"attributes\":{\"num_minor_ticks\":10},\"id\":\"58f7bea9-7c2e-4719-a9c5-e12e90392991\",\"type\":\"LogTicker\"},{\"attributes\":{\"line_alpha\":0.1,\"line_color\":\"#1f77b4\",\"line_width\":1.5,\"x\":{\"field\":\"x\"},\"y\":{\"field\":\"y\"}},\"id\":\"56ac7c0a-17dc-4068-ac47-8c5608528f9c\",\"type\":\"Line\"},{\"attributes\":{\"fill_alpha\":{\"value\":0.7},\"fill_color\":{\"value\":\"#4daf4a\"},\"line_alpha\":{\"value\":0.7},\"line_color\":{\"value\":\"#4daf4a\"},\"x\":{\"field\":\"x\"},\"y\":{\"field\":\"y\"}},\"id\":\"de309e62-27a1-4040-8e6b-ee4a22bd4326\",\"type\":\"Circle\"},{\"attributes\":{\"line_alpha\":0.1,\"line_color\":\"#1f77b4\",\"line_dash\":[6],\"line_width\":5,\"x\":{\"field\":\"x\"},\"y\":{\"field\":\"y\"}},\"id\":\"12571638-fd3d-413c-84bc-81d0e1213653\",\"type\":\"Line\"},{\"attributes\":{},\"id\":\"f63cbe3a-5b7a-4b3a-bfd9-7105eaaca8ce\",\"type\":\"LinearScale\"},{\"attributes\":{},\"id\":\"b041ef12-5820-48c4-b563-7627585582a6\",\"type\":\"ResetTool\"},{\"attributes\":{},\"id\":\"ddd27d54-a43b-44c6-a047-8675be4221d8\",\"type\":\"BasicTicker\"},{\"attributes\":{\"items\":[{\"id\":\"69d24b80-ce25-4d04-aa91-f6105be16cad\",\"type\":\"LegendItem\"},{\"id\":\"b55a80df-4993-4bfa-82ef-9bd1aa624f92\",\"type\":\"LegendItem\"}],\"label_text_font_size\":{\"value\":\"8pt\"},\"location\":\"top_center\",\"orientation\":\"horizontal\",\"plot\":{\"id\":\"a72d7621-5177-4a58-826d-9af196355964\",\"subtype\":\"Figure\",\"type\":\"Plot\"}},\"id\":\"2bfc4882-de95-4abb-afa3-9b481ff53756\",\"type\":\"Legend\"},{\"attributes\":{\"label\":{\"value\":\"CRD\"},\"renderers\":[{\"id\":\"297e0ec8-b610-4cb3-88db-2ae11ce2bbdf\",\"type\":\"GlyphRenderer\"},{\"id\":\"1f5b23eb-1c13-41f1-9b69-7140002b6f71\",\"type\":\"GlyphRenderer\"}]},\"id\":\"266ad579-c1c7-412b-8770-b6a38b2afe43\",\"type\":\"LegendItem\"},{\"attributes\":{\"overlay\":{\"id\":\"04f93fa2-a449-48b0-8524-0576f5d99dd2\",\"type\":\"BoxAnnotation\"}},\"id\":\"13ce8052-0d1c-45c5-af32-133564bd21ec\",\"type\":\"BoxZoomTool\"},{\"attributes\":{\"source\":{\"id\":\"c1bd0364-d810-4930-b08e-83cf0a8616da\",\"type\":\"ColumnDataSource\"}},\"id\":\"c0023628-1f18-4c60-a8e5-143dae0e3679\",\"type\":\"CDSView\"},{\"attributes\":{\"callback\":null,\"end\":12.208582536163687,\"start\":-0.60322787097269},\"id\":\"faf6bcb6-c64c-4ae6-9ea5-5ed91d6cce80\",\"type\":\"Range1d\"},{\"attributes\":{},\"id\":\"2bf701b7-51f0-456c-8e48-2068d35673fc\",\"type\":\"SaveTool\"},{\"attributes\":{\"plot\":{\"id\":\"a72d7621-5177-4a58-826d-9af196355964\",\"subtype\":\"Figure\",\"type\":\"Plot\"},\"ticker\":{\"id\":\"ddd27d54-a43b-44c6-a047-8675be4221d8\",\"type\":\"BasicTicker\"}},\"id\":\"2186b849-a556-441e-8d0e-ba3556c478ca\",\"type\":\"Grid\"},{\"attributes\":{\"source\":{\"id\":\"b0c5a638-3b58-47f2-883c-6467ff6de74e\",\"type\":\"ColumnDataSource\"}},\"id\":\"97394976-183f-473d-b7f4-2c01cde4d59e\",\"type\":\"CDSView\"},{\"attributes\":{\"callback\":null,\"end\":2.3923464390465905,\"start\":-0.50603741456559},\"id\":\"9a69c68e-d35f-49eb-967b-fe6a9b0c580f\",\"type\":\"Range1d\"},{\"attributes\":{\"data_source\":{\"id\":\"ea643c81-8668-4e51-ab8e-e91988267f1d\",\"type\":\"ColumnDataSource\"},\"glyph\":{\"id\":\"cde70164-40fb-4962-ad5c-86473b909918\",\"type\":\"Circle\"},\"hover_glyph\":null,\"muted_glyph\":null,\"nonselection_glyph\":{\"id\":\"e201f5d5-bf54-4629-bb3a-a1b9552b4ce4\",\"type\":\"Circle\"},\"selection_glyph\":null,\"view\":{\"id\":\"4a911574-5932-466c-8112-ef8a31f5ca7d\",\"type\":\"CDSView\"}},\"id\":\"297e0ec8-b610-4cb3-88db-2ae11ce2bbdf\",\"type\":\"GlyphRenderer\"},{\"attributes\":{\"source\":{\"id\":\"ea643c81-8668-4e51-ab8e-e91988267f1d\",\"type\":\"ColumnDataSource\"}},\"id\":\"4a911574-5932-466c-8112-ef8a31f5ca7d\",\"type\":\"CDSView\"},{\"attributes\":{\"axis_label\":\"cooling rate [K/day]\",\"formatter\":{\"id\":\"140c554e-cf55-405f-9354-ca871912a157\",\"type\":\"BasicTickFormatter\"},\"plot\":{\"id\":\"d477e94f-2cff-4bec-a360-574f4f2ff402\",\"subtype\":\"Figure\",\"type\":\"Plot\"},\"ticker\":{\"id\":\"51cde6d0-ba21-42c6-8841-8d212912c16d\",\"type\":\"BasicTicker\"}},\"id\":\"e17fe78b-73d5-4237-be4c-c9761c34a7ee\",\"type\":\"LinearAxis\"},{\"attributes\":{\"label\":{\"value\":\"CLIRAD (single-run)\"},\"renderers\":[{\"id\":\"1e92fa96-8dd4-4392-a0ac-9bd814e890cc\",\"type\":\"GlyphRenderer\"}]},\"id\":\"69d24b80-ce25-4d04-aa91-f6105be16cad\",\"type\":\"LegendItem\"},{\"attributes\":{\"active_drag\":\"auto\",\"active_inspect\":\"auto\",\"active_scroll\":\"auto\",\"active_tap\":\"auto\",\"tools\":[{\"id\":\"b2867567-cc4d-447d-964b-6d0b2e7011e9\",\"type\":\"PanTool\"},{\"id\":\"141bdbb9-5798-4289-b87d-81894633392c\",\"type\":\"WheelZoomTool\"},{\"id\":\"b49a74cb-55cb-49e0-abc7-aefd0f936663\",\"type\":\"BoxZoomTool\"},{\"id\":\"825e839c-0c16-4561-8f57-a9510a069db6\",\"type\":\"SaveTool\"},{\"id\":\"4c0f3714-8b6c-4c79-93fc-9ef13bede2a7\",\"type\":\"ResetTool\"},{\"id\":\"9878c76f-31be-4713-8e3f-9d2034e74f5b\",\"type\":\"HelpTool\"}]},\"id\":\"5fbf84cc-15b1-448f-983b-6db9d1598a7b\",\"type\":\"Toolbar\"},{\"attributes\":{\"fill_alpha\":{\"value\":0.1},\"fill_color\":{\"value\":\"#1f77b4\"},\"line_alpha\":{\"value\":0.1},\"line_color\":{\"value\":\"#1f77b4\"},\"x\":{\"field\":\"x\"},\"y\":{\"field\":\"y\"}},\"id\":\"dbca77e8-0ab5-4853-b5a6-9b7d06979c0b\",\"type\":\"Circle\"},{\"attributes\":{},\"id\":\"a1fb727e-f4ff-498a-8dd9-3033d961cfdf\",\"type\":\"LogScale\"},{\"attributes\":{\"data_source\":{\"id\":\"b0c5a638-3b58-47f2-883c-6467ff6de74e\",\"type\":\"ColumnDataSource\"},\"glyph\":{\"id\":\"7e22fb4f-5e77-4496-bda3-38200f4773fa\",\"type\":\"Line\"},\"hover_glyph\":null,\"muted_glyph\":null,\"nonselection_glyph\":{\"id\":\"7b0b8d62-963c-4582-9677-8cc4be2adbf0\",\"type\":\"Line\"},\"selection_glyph\":null,\"view\":{\"id\":\"97394976-183f-473d-b7f4-2c01cde4d59e\",\"type\":\"CDSView\"}},\"id\":\"c834efba-e982-43d2-8ff6-0c7a0a9d06d9\",\"type\":\"GlyphRenderer\"},{\"attributes\":{},\"id\":\"59cd1873-1015-435c-b2fb-0bc4773adcec\",\"type\":\"WheelZoomTool\"},{\"attributes\":{\"fill_alpha\":{\"value\":0.1},\"fill_color\":{\"value\":\"#1f77b4\"},\"line_alpha\":{\"value\":0.1},\"line_color\":{\"value\":\"#1f77b4\"},\"x\":{\"field\":\"x\"},\"y\":{\"field\":\"y\"}},\"id\":\"e201f5d5-bf54-4629-bb3a-a1b9552b4ce4\",\"type\":\"Circle\"},{\"attributes\":{\"items\":[{\"id\":\"db47f084-55ca-4278-92aa-9cb3b1ae7c49\",\"type\":\"LegendItem\"},{\"id\":\"266ad579-c1c7-412b-8770-b6a38b2afe43\",\"type\":\"LegendItem\"}],\"label_text_font_size\":{\"value\":\"8pt\"},\"location\":\"top_center\",\"orientation\":\"horizontal\",\"plot\":{\"id\":\"d477e94f-2cff-4bec-a360-574f4f2ff402\",\"subtype\":\"Figure\",\"type\":\"Plot\"}},\"id\":\"ba5cc1e5-8d5d-49ae-a518-1242659c3032\",\"type\":\"Legend\"},{\"attributes\":{\"callback\":null,\"data\":{\"x\":{\"__ndarray__\":\"R/KIaN7AVEClCeJMyPNGQOvRhpxr30JAptxzhxx4PkA7SssMElA4QK6Bp3CyUDNAsVXpjES9LkBFhUV0+5coQMHYwqbbySNA6f09nM3nH0CaSd/3eYoZQDmgiAOW8BNAPYqARh3eDEBkm4vCgvr+P9D+5tWhQfY/P8DwKRnSAkBq38kb17ILQDT7IWuSsxFAUr2Rjm0FFkAinq3s9XgbQGCHwtYcqSFAG64kT303J0C7dRDneyooQD9JYrbK8yRA9S3bneHhIUAIymSuUMMcQIkHLe6VEBdAAau3cITREkA6CiNvkQIPQJU39ki7IQlAaAvwok1UA0BXLQiS4+L7P0xzDpJ2hPI/NNuPGMbJ5z91mUVYxqfSPxqwUPSxZca/G11peifD3L8QzNj5t2jTvwzOozTL360/SPJ4VI1VzD9KJ0nXEIncP8yDdlvHt+4/Et49nYLW9z++2teD4Jn+P+568eH/bwFALf5D9lmAAkCiZAicVOkCQPPT4jNKxwJAOjp3wTzBAUBSQsKNGisBQG4OmjqJwQBAJ3sZoHFuAEA5Ar0Sdi0AQGy4rw5+9f8/7W4nSrC3/z8mPr8zj4T/P4UYRHCQS/8/embVKYcF/z+5YXG+LLP+P/qb8BVUgf4/KvafTtyO/j/avAK1Ppv+PwJV9VVm2P0/JFtYlU/n/D9sN+q2fiX6Pw44e41PNPc/Opt+Z/wN9T+x3vcSW1vzP9ofvWQJlvI/8sciQQBW8j80sfkQa17yPzg5qng2r/I/Oh14WJBh8z+VZjnpctj0P6CcrSuCqQBA\",\"dtype\":\"float64\",\"shape\":[75]},\"y\":{\"__ndarray__\":\"GhExyth1ND/Sv8nbtpRIP2vylNV0PVE/aTum7souWD/At0SJ8fVgPw3Iuahxymc/MSNhhJWvcD/bTfBN02d3P2zb5nxnaoA/CD5h5MAGhz8NmeH1TyaQP+zrCsc9p5Y/LbKd76fGnz/bLW5ISEmmPww9YvTcQq8/JV2OstnstT8Er5Y7M8G+P0c+r3jqkcU/5h99k6ZBzj88bCIzFzjVP4enV8oyxN0//yH99nXg5D8qOpLLf0jtP5kqGJXUifQ/c9cS8kHP/D+/DpwzojQEQIEmwoanVwxA4lgXt9HgE0BSSZ2AJuIbQAMJih9jjiNA5q4l5INuK0AwTKYKRj0zQNv5fmq8/DpAaCJseHrtQkB/+zpwzoxKQM3MzMzMeFJAZmZmZmZqWEAAAAAAAFxeQM3MzMzMJmJAmpmZmZkfZUBmZmZmZhhoQDMzMzMzEWtAAAAAAAAKbkBmZmZmZoFwQM3MzMzM/XFAMzMzMzN6c0CamZmZmfZ0QAAAAAAAc3ZAZmZmZmbvd0DNzMzMzGt5QDMzMzMz6HpAmpmZmZlkfEAAAAAAAOF9QGZmZmZmXX9AZmZmZuZsgECamZmZGSuBQM3MzMxM6YFAAAAAAICngkAzMzMzs2WDQGZmZmbmI4RAmpmZmRnihEDNzMzMTKCFQAAAAACAXoZAMzMzM7Mch0BmZmZm5tqHQJqZmZkZmYhAzczMzExXiUAAAAAAgBWKQDMzMzOz04pAZmZmZuaRi0CamZmZGVCMQM3MzMxMDo1AAAAAAIDMjUAzMzMzs4qOQGZmZmbmSI9A\",\"dtype\":\"float64\",\"shape\":[75]}},\"selected\":{\"id\":\"45a1f422-c93a-4adc-93f8-3551a0715706\",\"type\":\"Selection\"},\"selection_policy\":{\"id\":\"515edee1-8710-44f8-b226-5280dab46663\",\"type\":\"UnionRenderers\"}},\"id\":\"83bd119d-386a-4989-a9a2-0435ec51472e\",\"type\":\"ColumnDataSource\"},{\"attributes\":{\"above\":[{\"id\":\"2bfc4882-de95-4abb-afa3-9b481ff53756\",\"type\":\"Legend\"}],\"below\":[{\"id\":\"e50eda58-7e0a-4dfa-8df3-7646359a2a4f\",\"type\":\"LinearAxis\"}],\"left\":[{\"id\":\"a28690be-69cc-40ca-8bdd-71d5cd23c94f\",\"type\":\"LogAxis\"}],\"plot_width\":300,\"renderers\":[{\"id\":\"e50eda58-7e0a-4dfa-8df3-7646359a2a4f\",\"type\":\"LinearAxis\"},{\"id\":\"2186b849-a556-441e-8d0e-ba3556c478ca\",\"type\":\"Grid\"},{\"id\":\"a28690be-69cc-40ca-8bdd-71d5cd23c94f\",\"type\":\"LogAxis\"},{\"id\":\"03f5b0ed-d0a0-47f9-8154-4e6ccbff6377\",\"type\":\"Grid\"},{\"id\":\"04f93fa2-a449-48b0-8524-0576f5d99dd2\",\"type\":\"BoxAnnotation\"},{\"id\":\"1e92fa96-8dd4-4392-a0ac-9bd814e890cc\",\"type\":\"GlyphRenderer\"},{\"id\":\"20e648bb-29c1-49a8-941d-eb57ae37a77e\",\"type\":\"GlyphRenderer\"},{\"id\":\"98f90bbe-9c13-4e49-b1ec-114be1b191bb\",\"type\":\"GlyphRenderer\"},{\"id\":\"2bfc4882-de95-4abb-afa3-9b481ff53756\",\"type\":\"Legend\"}],\"title\":{\"id\":\"790ac439-b1fc-4e86-8137-e8393af412b1\",\"type\":\"Title\"},\"toolbar\":{\"id\":\"fac35c20-defd-4cec-86eb-7fcb991f471e\",\"type\":\"Toolbar\"},\"toolbar_location\":null,\"x_range\":{\"id\":\"faf6bcb6-c64c-4ae6-9ea5-5ed91d6cce80\",\"type\":\"Range1d\"},\"x_scale\":{\"id\":\"f63cbe3a-5b7a-4b3a-bfd9-7105eaaca8ce\",\"type\":\"LinearScale\"},\"y_range\":{\"id\":\"191c8225-e8c4-4623-83ea-9d983b5f1c21\",\"type\":\"Range1d\"},\"y_scale\":{\"id\":\"c7cb2aa7-033a-499c-b6e1-63f41bd0a8ae\",\"type\":\"LogScale\"}},\"id\":\"a72d7621-5177-4a58-826d-9af196355964\",\"subtype\":\"Figure\",\"type\":\"Plot\"},{\"attributes\":{\"line_color\":\"#4daf4a\",\"line_width\":1.5,\"x\":{\"field\":\"x\"},\"y\":{\"field\":\"y\"}},\"id\":\"b6a121ce-4bad-4843-a3bf-71daed83e450\",\"type\":\"Line\"},{\"attributes\":{\"callback\":null,\"data\":{\"x\":{\"__ndarray__\":\"R/KIaN7AVEClCeJMyPNGQOvRhpxr30JAptxzhxx4PkA7SssMElA4QK6Bp3CyUDNAsVXpjES9LkBFhUV0+5coQMHYwqbbySNA6f09nM3nH0CaSd/3eYoZQDmgiAOW8BNAPYqARh3eDEBkm4vCgvr+P9D+5tWhQfY/P8DwKRnSAkBq38kb17ILQDT7IWuSsxFAUr2Rjm0FFkAinq3s9XgbQGCHwtYcqSFAG64kT303J0C7dRDneyooQD9JYrbK8yRA9S3bneHhIUAIymSuUMMcQIkHLe6VEBdAAau3cITREkA6CiNvkQIPQJU39ki7IQlAaAvwok1UA0BXLQiS4+L7P0xzDpJ2hPI/NNuPGMbJ5z91mUVYxqfSPxqwUPSxZca/G11peifD3L8QzNj5t2jTvwzOozTL360/SPJ4VI1VzD9KJ0nXEIncP8yDdlvHt+4/Et49nYLW9z++2teD4Jn+P+568eH/bwFALf5D9lmAAkCiZAicVOkCQPPT4jNKxwJAOjp3wTzBAUBSQsKNGisBQG4OmjqJwQBAJ3sZoHFuAEA5Ar0Sdi0AQGy4rw5+9f8/7W4nSrC3/z8mPr8zj4T/P4UYRHCQS/8/embVKYcF/z+5YXG+LLP+P/qb8BVUgf4/KvafTtyO/j/avAK1Ppv+PwJV9VVm2P0/JFtYlU/n/D9sN+q2fiX6Pw44e41PNPc/Opt+Z/wN9T+x3vcSW1vzP9ofvWQJlvI/8sciQQBW8j80sfkQa17yPzg5qng2r/I/Oh14WJBh8z+VZjnpctj0P6CcrSuCqQBA\",\"dtype\":\"float64\",\"shape\":[75]},\"y\":{\"__ndarray__\":\"GhExyth1ND/Sv8nbtpRIP2vylNV0PVE/aTum7souWD/At0SJ8fVgPw3Iuahxymc/MSNhhJWvcD/bTfBN02d3P2zb5nxnaoA/CD5h5MAGhz8NmeH1TyaQP+zrCsc9p5Y/LbKd76fGnz/bLW5ISEmmPww9YvTcQq8/JV2OstnstT8Er5Y7M8G+P0c+r3jqkcU/5h99k6ZBzj88bCIzFzjVP4enV8oyxN0//yH99nXg5D8qOpLLf0jtP5kqGJXUifQ/c9cS8kHP/D+/DpwzojQEQIEmwoanVwxA4lgXt9HgE0BSSZ2AJuIbQAMJih9jjiNA5q4l5INuK0AwTKYKRj0zQNv5fmq8/DpAaCJseHrtQkB/+zpwzoxKQM3MzMzMeFJAZmZmZmZqWEAAAAAAAFxeQM3MzMzMJmJAmpmZmZkfZUBmZmZmZhhoQDMzMzMzEWtAAAAAAAAKbkBmZmZmZoFwQM3MzMzM/XFAMzMzMzN6c0CamZmZmfZ0QAAAAAAAc3ZAZmZmZmbvd0DNzMzMzGt5QDMzMzMz6HpAmpmZmZlkfEAAAAAAAOF9QGZmZmZmXX9AZmZmZuZsgECamZmZGSuBQM3MzMxM6YFAAAAAAICngkAzMzMzs2WDQGZmZmbmI4RAmpmZmRnihEDNzMzMTKCFQAAAAACAXoZAMzMzM7Mch0BmZmZm5tqHQJqZmZkZmYhAzczMzExXiUAAAAAAgBWKQDMzMzOz04pAZmZmZuaRi0CamZmZGVCMQM3MzMxMDo1AAAAAAIDMjUAzMzMzs4qOQGZmZmbmSI9A\",\"dtype\":\"float64\",\"shape\":[75]}},\"selected\":{\"id\":\"c683ab7c-b032-4819-94c8-70d6f034f666\",\"type\":\"Selection\"},\"selection_policy\":{\"id\":\"202d0675-6281-45de-b24c-f648533e631e\",\"type\":\"UnionRenderers\"}},\"id\":\"ea643c81-8668-4e51-ab8e-e91988267f1d\",\"type\":\"ColumnDataSource\"},{\"attributes\":{\"above\":[{\"id\":\"cce87510-878b-440d-9f5c-45ea53118531\",\"type\":\"Legend\"}],\"below\":[{\"id\":\"812c2988-c8ef-4cc8-b2fc-8d5f43ade751\",\"type\":\"LinearAxis\"}],\"left\":[{\"id\":\"fdd020f5-023b-487b-8529-12b65aee58b0\",\"type\":\"LogAxis\"}],\"plot_width\":300,\"renderers\":[{\"id\":\"812c2988-c8ef-4cc8-b2fc-8d5f43ade751\",\"type\":\"LinearAxis\"},{\"id\":\"7fb5f327-9fb6-467e-8cd8-8c927dad4340\",\"type\":\"Grid\"},{\"id\":\"fdd020f5-023b-487b-8529-12b65aee58b0\",\"type\":\"LogAxis\"},{\"id\":\"4dbe08bd-1a5f-4df1-b90e-cbcedf0f68a5\",\"type\":\"Grid\"},{\"id\":\"5f77bb69-1d42-47af-b4bc-ed0470063632\",\"type\":\"BoxAnnotation\"},{\"id\":\"173cd0ce-400d-4a24-be9b-8a64d2f9c1d5\",\"type\":\"GlyphRenderer\"},{\"id\":\"d06821cf-f6c5-48ff-b867-b312cbd219ab\",\"type\":\"GlyphRenderer\"},{\"id\":\"cce87510-878b-440d-9f5c-45ea53118531\",\"type\":\"Legend\"}],\"title\":{\"id\":\"d651a9da-df48-461a-b0fe-a589f8246c60\",\"type\":\"Title\"},\"toolbar\":{\"id\":\"73c7926d-3c84-4cde-8708-3d703cf3b002\",\"type\":\"Toolbar\"},\"toolbar_location\":null,\"x_range\":{\"id\":\"2e2773fe-503e-4005-b797-781ae0d28829\",\"type\":\"Range1d\"},\"x_scale\":{\"id\":\"79a27f16-31d5-44f2-9b30-53c899934494\",\"type\":\"LinearScale\"},\"y_range\":{\"id\":\"55d3d68c-27b6-4fc7-a733-07daee21f7c9\",\"type\":\"Range1d\"},\"y_scale\":{\"id\":\"a1fb727e-f4ff-498a-8dd9-3033d961cfdf\",\"type\":\"LogScale\"}},\"id\":\"df52bbcd-2494-445f-924f-de303ebf19f5\",\"subtype\":\"Figure\",\"type\":\"Plot\"},{\"attributes\":{\"line_alpha\":0.1,\"line_color\":\"#1f77b4\",\"line_dash\":[6],\"line_width\":5,\"x\":{\"field\":\"x\"},\"y\":{\"field\":\"y\"}},\"id\":\"7b0b8d62-963c-4582-9677-8cc4be2adbf0\",\"type\":\"Line\"},{\"attributes\":{\"data_source\":{\"id\":\"a54d12bd-88a3-4be8-afc6-2a2dc73c794f\",\"type\":\"ColumnDataSource\"},\"glyph\":{\"id\":\"de309e62-27a1-4040-8e6b-ee4a22bd4326\",\"type\":\"Circle\"},\"hover_glyph\":null,\"muted_glyph\":null,\"nonselection_glyph\":{\"id\":\"dbca77e8-0ab5-4853-b5a6-9b7d06979c0b\",\"type\":\"Circle\"},\"selection_glyph\":null,\"view\":{\"id\":\"30cde601-529a-4700-889e-a8be47c39b9a\",\"type\":\"CDSView\"}},\"id\":\"20e648bb-29c1-49a8-941d-eb57ae37a77e\",\"type\":\"GlyphRenderer\"},{\"attributes\":{\"fill_alpha\":{\"value\":0.7},\"fill_color\":{\"value\":\"#4daf4a\"},\"line_alpha\":{\"value\":0.7},\"line_color\":{\"value\":\"#4daf4a\"},\"x\":{\"field\":\"x\"},\"y\":{\"field\":\"y\"}},\"id\":\"cde70164-40fb-4962-ad5c-86473b909918\",\"type\":\"Circle\"},{\"attributes\":{},\"id\":\"39c05cbe-7853-4083-bb7e-dfbccae17def\",\"type\":\"PanTool\"},{\"attributes\":{\"label\":{\"value\":\"CRD\"},\"renderers\":[{\"id\":\"20e648bb-29c1-49a8-941d-eb57ae37a77e\",\"type\":\"GlyphRenderer\"},{\"id\":\"98f90bbe-9c13-4e49-b1ec-114be1b191bb\",\"type\":\"GlyphRenderer\"}]},\"id\":\"b55a80df-4993-4bfa-82ef-9bd1aa624f92\",\"type\":\"LegendItem\"},{\"attributes\":{},\"id\":\"7998c463-b2df-4409-987c-de9d6f0809fe\",\"type\":\"LinearScale\"}],\"root_ids\":[\"8f2a5bed-d6d2-4a60-ae6b-2085986aaa92\"]},\"title\":\"Bokeh Application\",\"version\":\"0.12.16\"}};\n",
       "  var render_items = [{\"docid\":\"e82695fd-0a6b-4f5d-9b2b-9a4fec5a327f\",\"elementid\":\"ebfc6add-1a09-45dd-a281-ec467ee1340d\",\"modelid\":\"8f2a5bed-d6d2-4a60-ae6b-2085986aaa92\"}];\n",
       "  root.Bokeh.embed.embed_items_notebook(docs_json, render_items);\n",
       "\n",
       "  }\n",
       "  if (root.Bokeh !== undefined) {\n",
       "    embed_document(root);\n",
       "  } else {\n",
       "    var attempts = 0;\n",
       "    var timer = setInterval(function(root) {\n",
       "      if (root.Bokeh !== undefined) {\n",
       "        embed_document(root);\n",
       "        clearInterval(timer);\n",
       "      }\n",
       "      attempts++;\n",
       "      if (attempts > 100) {\n",
       "        console.log(\"Bokeh: ERROR: Unable to run BokehJS code because BokehJS library is missing\")\n",
       "        clearInterval(timer);\n",
       "      }\n",
       "    }, 10, root)\n",
       "  }\n",
       "})(window);"
      ],
      "application/vnd.bokehjs_exec.v0+json": ""
     },
     "metadata": {
      "application/vnd.bokehjs_exec.v0+json": {
       "id": "8f2a5bed-d6d2-4a60-ae6b-2085986aaa92"
      }
     },
     "output_type": "display_data"
    },
    {
     "data": {
      "text/markdown": [
       "*FIGURE.* Cooling rates & difference."
      ],
      "text/plain": [
       "<IPython.core.display.Markdown object>"
      ]
     },
     "metadata": {},
     "output_type": "display_data"
    },
    {
     "data": {
      "text/html": [
       "<a id=\"Fluxes._trp.\"></a>"
      ],
      "text/plain": [
       "<IPython.core.display.HTML object>"
      ]
     },
     "metadata": {},
     "output_type": "display_data"
    },
    {
     "data": {
      "text/markdown": [
       "# Fluxes. trp."
      ],
      "text/plain": [
       "<IPython.core.display.Markdown object>"
      ]
     },
     "metadata": {},
     "output_type": "display_data"
    },
    {
     "data": {
      "text/html": [
       "\n",
       "<div class=\"bk-root\">\n",
       "    <div class=\"bk-plotdiv\" id=\"a263e964-09cb-4962-9c76-412c55a41a70\"></div>\n",
       "</div>"
      ]
     },
     "metadata": {},
     "output_type": "display_data"
    },
    {
     "data": {
      "application/javascript": [
       "(function(root) {\n",
       "  function embed_document(root) {\n",
       "    \n",
       "  var docs_json = {\"9d1f18fe-98dc-4c2f-912a-2cfb5dcfab26\":{\"roots\":{\"references\":[{\"attributes\":{},\"id\":\"6bda40f5-af5f-4aec-b179-664a1df797fc\",\"type\":\"HelpTool\"},{\"attributes\":{\"axis_label\":\"flux (W m-2)\",\"formatter\":{\"id\":\"467897c4-7dfa-4d72-b580-a010b59a6e98\",\"type\":\"BasicTickFormatter\"},\"plot\":{\"id\":\"b287299b-2f20-4051-8944-778af1aaa834\",\"subtype\":\"Figure\",\"type\":\"Plot\"},\"ticker\":{\"id\":\"f4bcfecf-ba68-49e4-a701-411293118c7e\",\"type\":\"BasicTicker\"}},\"id\":\"210e0b23-17f0-4eec-817b-6ebfda4e00a5\",\"type\":\"LinearAxis\"},{\"attributes\":{},\"id\":\"467897c4-7dfa-4d72-b580-a010b59a6e98\",\"type\":\"BasicTickFormatter\"},{\"attributes\":{},\"id\":\"ea99444b-12af-41ab-b7b8-af0a6fbbd815\",\"type\":\"SaveTool\"},{\"attributes\":{\"callback\":null,\"factors\":[\"1\",\"2\",\"3\",\"4\",\"5\",\"6\",\"7\",\"8\",\"9\",\"10\",\"11\"]},\"id\":\"6a710b35-bcb1-496f-aca2-799565745d4f\",\"type\":\"FactorRange\"},{\"attributes\":{\"fill_color\":{\"value\":\"#1f77b4\"},\"line_color\":{\"value\":\"#1f77b4\"},\"top\":{\"field\":\"flux\"},\"width\":{\"value\":0.9},\"x\":{\"field\":\"band\"}},\"id\":\"e0ddadff-fb84-495e-ad5c-698267eac0b4\",\"type\":\"VBar\"},{\"attributes\":{},\"id\":\"dada3f23-993e-401f-b710-1a720d2c4d13\",\"type\":\"ResetTool\"},{\"attributes\":{\"source\":{\"id\":\"77237fda-7654-41de-94fb-4fc83f73c3dc\",\"type\":\"ColumnDataSource\"}},\"id\":\"2ee1807f-565b-4845-8c4f-b3fbfaf25e15\",\"type\":\"CDSView\"},{\"attributes\":{\"below\":[{\"id\":\"9d20a252-13aa-4eef-b8e5-0709b373c7a5\",\"type\":\"CategoricalAxis\"}],\"left\":[{\"id\":\"9fccf452-2687-461b-9f04-d886a7c94518\",\"type\":\"LinearAxis\"}],\"plot_height\":300,\"plot_width\":300,\"renderers\":[{\"id\":\"9d20a252-13aa-4eef-b8e5-0709b373c7a5\",\"type\":\"CategoricalAxis\"},{\"id\":\"c3384c08-225d-470f-8a30-8e4f4855b858\",\"type\":\"Grid\"},{\"id\":\"9fccf452-2687-461b-9f04-d886a7c94518\",\"type\":\"LinearAxis\"},{\"id\":\"568aa447-e486-4221-ae99-e1d0c1d02c6e\",\"type\":\"Grid\"},{\"id\":\"99ee575e-89b1-43b9-84c4-75ea85af0671\",\"type\":\"BoxAnnotation\"},{\"id\":\"50a1df0a-9ead-4d3c-901b-85f136f8bd17\",\"type\":\"GlyphRenderer\"}],\"title\":{\"id\":\"2f4a8dea-f234-465e-bdd4-22249e38cdc1\",\"type\":\"Title\"},\"toolbar\":{\"id\":\"e5d05fc8-f73f-4deb-ae69-fc4472991afe\",\"type\":\"Toolbar\"},\"toolbar_location\":null,\"x_range\":{\"id\":\"f1c4c0bc-9631-4952-a7e7-93d2fabe71f0\",\"type\":\"FactorRange\"},\"x_scale\":{\"id\":\"0f194767-2edf-4d1f-bd50-5ce55dc2a009\",\"type\":\"CategoricalScale\"},\"y_range\":{\"id\":\"2de4cb4c-e661-4341-8952-00b6e28724ea\",\"type\":\"DataRange1d\"},\"y_scale\":{\"id\":\"6f2eb6dd-8b0f-4104-926b-2d3a39968687\",\"type\":\"LinearScale\"}},\"id\":\"d8df2bd0-2c19-4f44-a226-b15d150abd58\",\"subtype\":\"Figure\",\"type\":\"Plot\"},{\"attributes\":{},\"id\":\"57f35ed7-bbcf-409a-85c9-b58a46a506f4\",\"type\":\"Selection\"},{\"attributes\":{},\"id\":\"d00e65ff-0c8e-48d6-95dc-8129d7fd525d\",\"type\":\"SaveTool\"},{\"attributes\":{},\"id\":\"8bf5b9fb-245c-412b-a123-da0bc5c9406e\",\"type\":\"ResetTool\"},{\"attributes\":{\"plot\":null,\"text\":\"Atmosphere heating. CLIRAD (single-run) - CRD.\"},\"id\":\"62f4176d-8e9a-4f90-b044-db1c80a92953\",\"type\":\"Title\"},{\"attributes\":{\"tools\":[{\"id\":\"133c2797-f2e6-440a-99d6-5084052539d4\",\"type\":\"PanTool\"},{\"id\":\"2d62844d-b159-4600-b928-c623c28a358f\",\"type\":\"WheelZoomTool\"},{\"id\":\"6cfd1a65-f7cf-4860-97fe-a392e5cfe495\",\"type\":\"BoxZoomTool\"},{\"id\":\"d00e65ff-0c8e-48d6-95dc-8129d7fd525d\",\"type\":\"SaveTool\"},{\"id\":\"8bf5b9fb-245c-412b-a123-da0bc5c9406e\",\"type\":\"ResetTool\"},{\"id\":\"6bda40f5-af5f-4aec-b179-664a1df797fc\",\"type\":\"HelpTool\"},{\"id\":\"b3146468-ed7b-4321-909e-d32b5dc708a7\",\"type\":\"PanTool\"},{\"id\":\"245d2e47-e389-41b4-9bb0-b5c88c06d75a\",\"type\":\"WheelZoomTool\"},{\"id\":\"7754837b-b36b-408f-ac40-44d132720f2f\",\"type\":\"BoxZoomTool\"},{\"id\":\"ea99444b-12af-41ab-b7b8-af0a6fbbd815\",\"type\":\"SaveTool\"},{\"id\":\"a801ad36-f25d-4562-848c-229481d2d027\",\"type\":\"ResetTool\"},{\"id\":\"0d897683-6058-446e-8489-57be0c5709b3\",\"type\":\"HelpTool\"},{\"id\":\"5f0038e8-6fa1-4a92-bb09-83de64565325\",\"type\":\"PanTool\"},{\"id\":\"3a51b075-0821-4bad-bf87-032d5f2f04ba\",\"type\":\"WheelZoomTool\"},{\"id\":\"2f87f031-3aed-4421-951d-5dbbc6a30f1d\",\"type\":\"BoxZoomTool\"},{\"id\":\"6c1cedca-3e84-4c33-9ba9-cc033d6854ac\",\"type\":\"SaveTool\"},{\"id\":\"dada3f23-993e-401f-b710-1a720d2c4d13\",\"type\":\"ResetTool\"},{\"id\":\"25a6b7ba-8250-454c-afdf-64048efa1b9d\",\"type\":\"HelpTool\"}]},\"id\":\"9ad5aab1-45b1-49da-aaf2-627fadf679d8\",\"type\":\"ProxyToolbar\"},{\"attributes\":{\"data_source\":{\"id\":\"7e9889ac-c985-477f-a6fd-6113d8824992\",\"type\":\"ColumnDataSource\"},\"glyph\":{\"id\":\"05cd45c0-d64a-4c48-ad89-da699cd09dff\",\"type\":\"VBar\"},\"hover_glyph\":null,\"muted_glyph\":null,\"nonselection_glyph\":{\"id\":\"82a0ae8b-38d3-4c0e-a8fe-228ebec36da3\",\"type\":\"VBar\"},\"selection_glyph\":null,\"view\":{\"id\":\"b02d9d94-76ca-462d-ad72-28465ec15fe6\",\"type\":\"CDSView\"}},\"id\":\"50a1df0a-9ead-4d3c-901b-85f136f8bd17\",\"type\":\"GlyphRenderer\"},{\"attributes\":{\"dimension\":1,\"plot\":{\"id\":\"b287299b-2f20-4051-8944-778af1aaa834\",\"subtype\":\"Figure\",\"type\":\"Plot\"},\"ticker\":{\"id\":\"f4bcfecf-ba68-49e4-a701-411293118c7e\",\"type\":\"BasicTicker\"}},\"id\":\"af51c729-baf1-481c-ba34-5526b4dbabcc\",\"type\":\"Grid\"},{\"attributes\":{\"plot\":{\"id\":\"b287299b-2f20-4051-8944-778af1aaa834\",\"subtype\":\"Figure\",\"type\":\"Plot\"},\"ticker\":{\"id\":\"b8a2bdb9-7f8d-42c2-abbe-073e6a44e852\",\"type\":\"CategoricalTicker\"}},\"id\":\"c7e3da76-9359-4a25-961b-0257d9c61864\",\"type\":\"Grid\"},{\"attributes\":{\"fill_alpha\":{\"value\":0.1},\"fill_color\":{\"value\":\"#1f77b4\"},\"line_alpha\":{\"value\":0.1},\"line_color\":{\"value\":\"#1f77b4\"},\"top\":{\"field\":\"flux\"},\"width\":{\"value\":0.9},\"x\":{\"field\":\"band\"}},\"id\":\"b4f4480b-e3ff-4d83-92c4-a7e95bf275bc\",\"type\":\"VBar\"},{\"attributes\":{\"source\":{\"id\":\"8a182367-a9fe-4438-9ef1-7982e0f6c8fb\",\"type\":\"ColumnDataSource\"}},\"id\":\"ca6a06ce-120f-473d-a0d1-d8f15c3c7923\",\"type\":\"CDSView\"},{\"attributes\":{},\"id\":\"50a2dc76-3448-4bb2-b79f-25f7d39e1ed1\",\"type\":\"UnionRenderers\"},{\"attributes\":{\"bottom_units\":\"screen\",\"fill_alpha\":{\"value\":0.5},\"fill_color\":{\"value\":\"lightgrey\"},\"left_units\":\"screen\",\"level\":\"overlay\",\"line_alpha\":{\"value\":1.0},\"line_color\":{\"value\":\"black\"},\"line_dash\":[4,4],\"line_width\":{\"value\":2},\"plot\":null,\"render_mode\":\"css\",\"right_units\":\"screen\",\"top_units\":\"screen\"},\"id\":\"f7d1ad40-fc67-47f9-87c5-2e6c5b17eaee\",\"type\":\"BoxAnnotation\"},{\"attributes\":{},\"id\":\"38d85ca4-b6e0-4856-b887-3b95e48007f7\",\"type\":\"Selection\"},{\"attributes\":{\"children\":[{\"id\":\"d8df2bd0-2c19-4f44-a226-b15d150abd58\",\"subtype\":\"Figure\",\"type\":\"Plot\"},{\"id\":\"25fe13fa-489d-47e6-afcd-7dba8cb0d9ab\",\"subtype\":\"Figure\",\"type\":\"Plot\"},{\"id\":\"b287299b-2f20-4051-8944-778af1aaa834\",\"subtype\":\"Figure\",\"type\":\"Plot\"}]},\"id\":\"8d3f51c4-25c5-4fcb-adea-9f2c5a2e9696\",\"type\":\"Row\"},{\"attributes\":{\"fill_alpha\":{\"value\":0.1},\"fill_color\":{\"value\":\"#1f77b4\"},\"line_alpha\":{\"value\":0.1},\"line_color\":{\"value\":\"#1f77b4\"},\"top\":{\"field\":\"flux\"},\"width\":{\"value\":0.9},\"x\":{\"field\":\"band\"}},\"id\":\"f87f1834-356c-4f75-ae5b-fb38ac472860\",\"type\":\"VBar\"},{\"attributes\":{},\"id\":\"6c1cedca-3e84-4c33-9ba9-cc033d6854ac\",\"type\":\"SaveTool\"},{\"attributes\":{\"axis_label\":\"spectral band\",\"formatter\":{\"id\":\"b23219bf-0ec3-487e-87a6-575a9589cd4f\",\"type\":\"CategoricalTickFormatter\"},\"plot\":{\"id\":\"25fe13fa-489d-47e6-afcd-7dba8cb0d9ab\",\"subtype\":\"Figure\",\"type\":\"Plot\"},\"ticker\":{\"id\":\"5c0a8bf2-d932-470a-bb64-ae90c4ce1dd0\",\"type\":\"CategoricalTicker\"}},\"id\":\"34498ac0-4a2e-478d-8767-c62dc3bddfbe\",\"type\":\"CategoricalAxis\"},{\"attributes\":{\"plot\":null,\"text\":\"TOA flux. CLIRAD (single-run) - CRD.\"},\"id\":\"2f4a8dea-f234-465e-bdd4-22249e38cdc1\",\"type\":\"Title\"},{\"attributes\":{},\"id\":\"ce7ddc0c-cd5b-4bf0-840b-0b90bf45cd26\",\"type\":\"CategoricalTickFormatter\"},{\"attributes\":{},\"id\":\"0c3d1f20-3ea1-42ec-b093-8881009d08a9\",\"type\":\"LinearScale\"},{\"attributes\":{},\"id\":\"5f392248-4134-4de1-a0c2-5cd9d2284e6c\",\"type\":\"Selection\"},{\"attributes\":{},\"id\":\"245d2e47-e389-41b4-9bb0-b5c88c06d75a\",\"type\":\"WheelZoomTool\"},{\"attributes\":{},\"id\":\"133c2797-f2e6-440a-99d6-5084052539d4\",\"type\":\"PanTool\"},{\"attributes\":{},\"id\":\"1968bb66-8395-40ea-98d7-eb616dac11fd\",\"type\":\"CategoricalScale\"},{\"attributes\":{\"toolbar\":{\"id\":\"9ad5aab1-45b1-49da-aaf2-627fadf679d8\",\"type\":\"ProxyToolbar\"},\"toolbar_location\":\"above\"},\"id\":\"d22f7397-d978-4941-8708-ca78a672057c\",\"type\":\"ToolbarBox\"},{\"attributes\":{\"plot\":{\"id\":\"25fe13fa-489d-47e6-afcd-7dba8cb0d9ab\",\"subtype\":\"Figure\",\"type\":\"Plot\"},\"ticker\":{\"id\":\"5c0a8bf2-d932-470a-bb64-ae90c4ce1dd0\",\"type\":\"CategoricalTicker\"}},\"id\":\"cceba52b-1f00-4df8-8861-e0c1a8a06791\",\"type\":\"Grid\"},{\"attributes\":{\"overlay\":{\"id\":\"99ee575e-89b1-43b9-84c4-75ea85af0671\",\"type\":\"BoxAnnotation\"}},\"id\":\"6cfd1a65-f7cf-4860-97fe-a392e5cfe495\",\"type\":\"BoxZoomTool\"},{\"attributes\":{},\"id\":\"49bad0b6-3d08-4cbd-b991-8a4bcc9acba5\",\"type\":\"UnionRenderers\"},{\"attributes\":{},\"id\":\"2294410d-8532-43f7-8d6f-ee8fd96427cf\",\"type\":\"BasicTicker\"},{\"attributes\":{\"children\":[{\"id\":\"d22f7397-d978-4941-8708-ca78a672057c\",\"type\":\"ToolbarBox\"},{\"id\":\"a7c1fe88-99eb-4ecc-9900-1c57d9ce86db\",\"type\":\"Column\"}]},\"id\":\"9819ba9d-bf2b-485a-9046-53510a3fa2bc\",\"type\":\"Column\"},{\"attributes\":{\"callback\":null,\"factors\":[\"1\",\"2\",\"3\",\"4\",\"5\",\"6\",\"7\",\"8\",\"9\",\"10\",\"11\"]},\"id\":\"f1c4c0bc-9631-4952-a7e7-93d2fabe71f0\",\"type\":\"FactorRange\"},{\"attributes\":{\"dimension\":1,\"plot\":{\"id\":\"25fe13fa-489d-47e6-afcd-7dba8cb0d9ab\",\"subtype\":\"Figure\",\"type\":\"Plot\"},\"ticker\":{\"id\":\"2294410d-8532-43f7-8d6f-ee8fd96427cf\",\"type\":\"BasicTicker\"}},\"id\":\"67f84457-f588-4bad-8bed-3e772fb337d8\",\"type\":\"Grid\"},{\"attributes\":{\"fill_color\":{\"value\":\"#1f77b4\"},\"line_color\":{\"value\":\"#1f77b4\"},\"top\":{\"field\":\"flux\"},\"width\":{\"value\":0.9},\"x\":{\"field\":\"band\"}},\"id\":\"05cd45c0-d64a-4c48-ad89-da699cd09dff\",\"type\":\"VBar\"},{\"attributes\":{\"data_source\":{\"id\":\"8a182367-a9fe-4438-9ef1-7982e0f6c8fb\",\"type\":\"ColumnDataSource\"},\"glyph\":{\"id\":\"ad1596d7-4033-4ae4-92a7-777a04d4aa49\",\"type\":\"VBar\"},\"hover_glyph\":null,\"muted_glyph\":null,\"nonselection_glyph\":{\"id\":\"f87f1834-356c-4f75-ae5b-fb38ac472860\",\"type\":\"VBar\"},\"selection_glyph\":null,\"view\":{\"id\":\"ca6a06ce-120f-473d-a0d1-d8f15c3c7923\",\"type\":\"CDSView\"}},\"id\":\"6840d20a-ab39-4e2a-b03a-293d726aa4fc\",\"type\":\"GlyphRenderer\"},{\"attributes\":{\"overlay\":{\"id\":\"3052dff3-8b97-40ad-8909-e56915244f51\",\"type\":\"BoxAnnotation\"}},\"id\":\"7754837b-b36b-408f-ac40-44d132720f2f\",\"type\":\"BoxZoomTool\"},{\"attributes\":{},\"id\":\"33b8e4f5-a5a2-4966-bec3-1bd103c5f932\",\"type\":\"UnionRenderers\"},{\"attributes\":{\"children\":[{\"id\":\"8d3f51c4-25c5-4fcb-adea-9f2c5a2e9696\",\"type\":\"Row\"}]},\"id\":\"a7c1fe88-99eb-4ecc-9900-1c57d9ce86db\",\"type\":\"Column\"},{\"attributes\":{},\"id\":\"a801ad36-f25d-4562-848c-229481d2d027\",\"type\":\"ResetTool\"},{\"attributes\":{\"data_source\":{\"id\":\"77237fda-7654-41de-94fb-4fc83f73c3dc\",\"type\":\"ColumnDataSource\"},\"glyph\":{\"id\":\"e0ddadff-fb84-495e-ad5c-698267eac0b4\",\"type\":\"VBar\"},\"hover_glyph\":null,\"muted_glyph\":null,\"nonselection_glyph\":{\"id\":\"b4f4480b-e3ff-4d83-92c4-a7e95bf275bc\",\"type\":\"VBar\"},\"selection_glyph\":null,\"view\":{\"id\":\"2ee1807f-565b-4845-8c4f-b3fbfaf25e15\",\"type\":\"CDSView\"}},\"id\":\"21be535e-af74-46ca-a4fa-8c08bc275f8e\",\"type\":\"GlyphRenderer\"},{\"attributes\":{\"callback\":null},\"id\":\"e2dcbf1b-925a-4093-8f11-65775959e936\",\"type\":\"DataRange1d\"},{\"attributes\":{\"callback\":null,\"data\":{\"band\":[\"1\",\"2\",\"3\",\"4\",\"5\",\"6\",\"7\",\"8\",\"9\",\"10\",\"11\"],\"flux\":{\"__ndarray__\":\"AMHG9e/6yj8ARFVMpZ/UP4B4l4v4TtO/8GLvxRft4T/AUBVT6SfUPwBIcOoDyaO/gHhF8L+Vzj8AbToCuFm8vwDADTFe85o/4PGprSLtwT+A2YcGcwW9Pw==\",\"dtype\":\"float64\",\"shape\":[11]}},\"selected\":{\"id\":\"38d85ca4-b6e0-4856-b887-3b95e48007f7\",\"type\":\"Selection\"},\"selection_policy\":{\"id\":\"33b8e4f5-a5a2-4966-bec3-1bd103c5f932\",\"type\":\"UnionRenderers\"}},\"id\":\"7e9889ac-c985-477f-a6fd-6113d8824992\",\"type\":\"ColumnDataSource\"},{\"attributes\":{},\"id\":\"5c0a8bf2-d932-470a-bb64-ae90c4ce1dd0\",\"type\":\"CategoricalTicker\"},{\"attributes\":{\"fill_color\":{\"value\":\"#1f77b4\"},\"line_color\":{\"value\":\"#1f77b4\"},\"top\":{\"field\":\"flux\"},\"width\":{\"value\":0.9},\"x\":{\"field\":\"band\"}},\"id\":\"ad1596d7-4033-4ae4-92a7-777a04d4aa49\",\"type\":\"VBar\"},{\"attributes\":{},\"id\":\"18a7fe66-5a76-4c4c-9628-1381f7e70121\",\"type\":\"LinearScale\"},{\"attributes\":{},\"id\":\"f4bcfecf-ba68-49e4-a701-411293118c7e\",\"type\":\"BasicTicker\"},{\"attributes\":{\"below\":[{\"id\":\"35e30ba2-b2f0-4cdc-bffd-8822179922f1\",\"type\":\"CategoricalAxis\"}],\"left\":[{\"id\":\"210e0b23-17f0-4eec-817b-6ebfda4e00a5\",\"type\":\"LinearAxis\"}],\"plot_height\":300,\"plot_width\":300,\"renderers\":[{\"id\":\"35e30ba2-b2f0-4cdc-bffd-8822179922f1\",\"type\":\"CategoricalAxis\"},{\"id\":\"c7e3da76-9359-4a25-961b-0257d9c61864\",\"type\":\"Grid\"},{\"id\":\"210e0b23-17f0-4eec-817b-6ebfda4e00a5\",\"type\":\"LinearAxis\"},{\"id\":\"af51c729-baf1-481c-ba34-5526b4dbabcc\",\"type\":\"Grid\"},{\"id\":\"f7d1ad40-fc67-47f9-87c5-2e6c5b17eaee\",\"type\":\"BoxAnnotation\"},{\"id\":\"6840d20a-ab39-4e2a-b03a-293d726aa4fc\",\"type\":\"GlyphRenderer\"}],\"title\":{\"id\":\"62f4176d-8e9a-4f90-b044-db1c80a92953\",\"type\":\"Title\"},\"toolbar\":{\"id\":\"0857552d-dc39-4f82-ae91-0a728f98fa59\",\"type\":\"Toolbar\"},\"toolbar_location\":null,\"x_range\":{\"id\":\"6a710b35-bcb1-496f-aca2-799565745d4f\",\"type\":\"FactorRange\"},\"x_scale\":{\"id\":\"1968bb66-8395-40ea-98d7-eb616dac11fd\",\"type\":\"CategoricalScale\"},\"y_range\":{\"id\":\"e560f75a-56e7-4e49-945f-0075442063e7\",\"type\":\"DataRange1d\"},\"y_scale\":{\"id\":\"0c3d1f20-3ea1-42ec-b093-8881009d08a9\",\"type\":\"LinearScale\"}},\"id\":\"b287299b-2f20-4051-8944-778af1aaa834\",\"subtype\":\"Figure\",\"type\":\"Plot\"},{\"attributes\":{},\"id\":\"b3146468-ed7b-4321-909e-d32b5dc708a7\",\"type\":\"PanTool\"},{\"attributes\":{},\"id\":\"25a6b7ba-8250-454c-afdf-64048efa1b9d\",\"type\":\"HelpTool\"},{\"attributes\":{\"axis_label\":\"spectral band\",\"formatter\":{\"id\":\"ce7ddc0c-cd5b-4bf0-840b-0b90bf45cd26\",\"type\":\"CategoricalTickFormatter\"},\"plot\":{\"id\":\"b287299b-2f20-4051-8944-778af1aaa834\",\"subtype\":\"Figure\",\"type\":\"Plot\"},\"ticker\":{\"id\":\"b8a2bdb9-7f8d-42c2-abbe-073e6a44e852\",\"type\":\"CategoricalTicker\"}},\"id\":\"35e30ba2-b2f0-4cdc-bffd-8822179922f1\",\"type\":\"CategoricalAxis\"},{\"attributes\":{\"axis_label\":\"flux (W m-2)\",\"formatter\":{\"id\":\"e52f9326-1583-42ec-a044-9d80356a26ad\",\"type\":\"BasicTickFormatter\"},\"plot\":{\"id\":\"25fe13fa-489d-47e6-afcd-7dba8cb0d9ab\",\"subtype\":\"Figure\",\"type\":\"Plot\"},\"ticker\":{\"id\":\"2294410d-8532-43f7-8d6f-ee8fd96427cf\",\"type\":\"BasicTicker\"}},\"id\":\"215a0cdd-de17-4484-aeeb-2f1e36cbc972\",\"type\":\"LinearAxis\"},{\"attributes\":{\"callback\":null},\"id\":\"e560f75a-56e7-4e49-945f-0075442063e7\",\"type\":\"DataRange1d\"},{\"attributes\":{},\"id\":\"57615617-2d19-4026-a1ef-eabd5fed69a3\",\"type\":\"CategoricalTickFormatter\"},{\"attributes\":{},\"id\":\"3a51b075-0821-4bad-bf87-032d5f2f04ba\",\"type\":\"WheelZoomTool\"},{\"attributes\":{\"below\":[{\"id\":\"34498ac0-4a2e-478d-8767-c62dc3bddfbe\",\"type\":\"CategoricalAxis\"}],\"left\":[{\"id\":\"215a0cdd-de17-4484-aeeb-2f1e36cbc972\",\"type\":\"LinearAxis\"}],\"plot_height\":300,\"plot_width\":300,\"renderers\":[{\"id\":\"34498ac0-4a2e-478d-8767-c62dc3bddfbe\",\"type\":\"CategoricalAxis\"},{\"id\":\"cceba52b-1f00-4df8-8861-e0c1a8a06791\",\"type\":\"Grid\"},{\"id\":\"215a0cdd-de17-4484-aeeb-2f1e36cbc972\",\"type\":\"LinearAxis\"},{\"id\":\"67f84457-f588-4bad-8bed-3e772fb337d8\",\"type\":\"Grid\"},{\"id\":\"3052dff3-8b97-40ad-8909-e56915244f51\",\"type\":\"BoxAnnotation\"},{\"id\":\"21be535e-af74-46ca-a4fa-8c08bc275f8e\",\"type\":\"GlyphRenderer\"}],\"title\":{\"id\":\"0c750ad2-51e2-40c1-bfc5-3c201f4204ed\",\"type\":\"Title\"},\"toolbar\":{\"id\":\"c50f4bd5-4aa2-4446-8521-871b457f41fd\",\"type\":\"Toolbar\"},\"toolbar_location\":null,\"x_range\":{\"id\":\"d4112af7-05fb-4395-9531-6d17fc2defef\",\"type\":\"FactorRange\"},\"x_scale\":{\"id\":\"ede9da17-d395-4ddb-9c8c-13d6d4c366be\",\"type\":\"CategoricalScale\"},\"y_range\":{\"id\":\"e2dcbf1b-925a-4093-8f11-65775959e936\",\"type\":\"DataRange1d\"},\"y_scale\":{\"id\":\"18a7fe66-5a76-4c4c-9628-1381f7e70121\",\"type\":\"LinearScale\"}},\"id\":\"25fe13fa-489d-47e6-afcd-7dba8cb0d9ab\",\"subtype\":\"Figure\",\"type\":\"Plot\"},{\"attributes\":{\"active_drag\":\"auto\",\"active_inspect\":\"auto\",\"active_scroll\":\"auto\",\"active_tap\":\"auto\",\"tools\":[{\"id\":\"133c2797-f2e6-440a-99d6-5084052539d4\",\"type\":\"PanTool\"},{\"id\":\"2d62844d-b159-4600-b928-c623c28a358f\",\"type\":\"WheelZoomTool\"},{\"id\":\"6cfd1a65-f7cf-4860-97fe-a392e5cfe495\",\"type\":\"BoxZoomTool\"},{\"id\":\"d00e65ff-0c8e-48d6-95dc-8129d7fd525d\",\"type\":\"SaveTool\"},{\"id\":\"8bf5b9fb-245c-412b-a123-da0bc5c9406e\",\"type\":\"ResetTool\"},{\"id\":\"6bda40f5-af5f-4aec-b179-664a1df797fc\",\"type\":\"HelpTool\"}]},\"id\":\"e5d05fc8-f73f-4deb-ae69-fc4472991afe\",\"type\":\"Toolbar\"},{\"attributes\":{\"overlay\":{\"id\":\"f7d1ad40-fc67-47f9-87c5-2e6c5b17eaee\",\"type\":\"BoxAnnotation\"}},\"id\":\"2f87f031-3aed-4421-951d-5dbbc6a30f1d\",\"type\":\"BoxZoomTool\"},{\"attributes\":{},\"id\":\"e3b99414-41ad-437f-844e-57b94256d577\",\"type\":\"BasicTickFormatter\"},{\"attributes\":{},\"id\":\"5f0038e8-6fa1-4a92-bb09-83de64565325\",\"type\":\"PanTool\"},{\"attributes\":{\"source\":{\"id\":\"7e9889ac-c985-477f-a6fd-6113d8824992\",\"type\":\"ColumnDataSource\"}},\"id\":\"b02d9d94-76ca-462d-ad72-28465ec15fe6\",\"type\":\"CDSView\"},{\"attributes\":{\"bottom_units\":\"screen\",\"fill_alpha\":{\"value\":0.5},\"fill_color\":{\"value\":\"lightgrey\"},\"left_units\":\"screen\",\"level\":\"overlay\",\"line_alpha\":{\"value\":1.0},\"line_color\":{\"value\":\"black\"},\"line_dash\":[4,4],\"line_width\":{\"value\":2},\"plot\":null,\"render_mode\":\"css\",\"right_units\":\"screen\",\"top_units\":\"screen\"},\"id\":\"99ee575e-89b1-43b9-84c4-75ea85af0671\",\"type\":\"BoxAnnotation\"},{\"attributes\":{},\"id\":\"b23219bf-0ec3-487e-87a6-575a9589cd4f\",\"type\":\"CategoricalTickFormatter\"},{\"attributes\":{},\"id\":\"b8a2bdb9-7f8d-42c2-abbe-073e6a44e852\",\"type\":\"CategoricalTicker\"},{\"attributes\":{},\"id\":\"2d62844d-b159-4600-b928-c623c28a358f\",\"type\":\"WheelZoomTool\"},{\"attributes\":{\"active_drag\":\"auto\",\"active_inspect\":\"auto\",\"active_scroll\":\"auto\",\"active_tap\":\"auto\",\"tools\":[{\"id\":\"5f0038e8-6fa1-4a92-bb09-83de64565325\",\"type\":\"PanTool\"},{\"id\":\"3a51b075-0821-4bad-bf87-032d5f2f04ba\",\"type\":\"WheelZoomTool\"},{\"id\":\"2f87f031-3aed-4421-951d-5dbbc6a30f1d\",\"type\":\"BoxZoomTool\"},{\"id\":\"6c1cedca-3e84-4c33-9ba9-cc033d6854ac\",\"type\":\"SaveTool\"},{\"id\":\"dada3f23-993e-401f-b710-1a720d2c4d13\",\"type\":\"ResetTool\"},{\"id\":\"25a6b7ba-8250-454c-afdf-64048efa1b9d\",\"type\":\"HelpTool\"}]},\"id\":\"0857552d-dc39-4f82-ae91-0a728f98fa59\",\"type\":\"Toolbar\"},{\"attributes\":{},\"id\":\"e52f9326-1583-42ec-a044-9d80356a26ad\",\"type\":\"BasicTickFormatter\"},{\"attributes\":{},\"id\":\"ede9da17-d395-4ddb-9c8c-13d6d4c366be\",\"type\":\"CategoricalScale\"},{\"attributes\":{\"axis_label\":\"flux (W m-2)\",\"formatter\":{\"id\":\"e3b99414-41ad-437f-844e-57b94256d577\",\"type\":\"BasicTickFormatter\"},\"plot\":{\"id\":\"d8df2bd0-2c19-4f44-a226-b15d150abd58\",\"subtype\":\"Figure\",\"type\":\"Plot\"},\"ticker\":{\"id\":\"69d823c2-53a3-4d88-880b-f08533933b90\",\"type\":\"BasicTicker\"}},\"id\":\"9fccf452-2687-461b-9f04-d886a7c94518\",\"type\":\"LinearAxis\"},{\"attributes\":{\"plot\":null,\"text\":\"SFC flux. CLIRAD (single-run) - CRD.\"},\"id\":\"0c750ad2-51e2-40c1-bfc5-3c201f4204ed\",\"type\":\"Title\"},{\"attributes\":{\"callback\":null},\"id\":\"2de4cb4c-e661-4341-8952-00b6e28724ea\",\"type\":\"DataRange1d\"},{\"attributes\":{\"fill_alpha\":{\"value\":0.1},\"fill_color\":{\"value\":\"#1f77b4\"},\"line_alpha\":{\"value\":0.1},\"line_color\":{\"value\":\"#1f77b4\"},\"top\":{\"field\":\"flux\"},\"width\":{\"value\":0.9},\"x\":{\"field\":\"band\"}},\"id\":\"82a0ae8b-38d3-4c0e-a8fe-228ebec36da3\",\"type\":\"VBar\"},{\"attributes\":{\"dimension\":1,\"plot\":{\"id\":\"d8df2bd0-2c19-4f44-a226-b15d150abd58\",\"subtype\":\"Figure\",\"type\":\"Plot\"},\"ticker\":{\"id\":\"69d823c2-53a3-4d88-880b-f08533933b90\",\"type\":\"BasicTicker\"}},\"id\":\"568aa447-e486-4221-ae99-e1d0c1d02c6e\",\"type\":\"Grid\"},{\"attributes\":{\"bottom_units\":\"screen\",\"fill_alpha\":{\"value\":0.5},\"fill_color\":{\"value\":\"lightgrey\"},\"left_units\":\"screen\",\"level\":\"overlay\",\"line_alpha\":{\"value\":1.0},\"line_color\":{\"value\":\"black\"},\"line_dash\":[4,4],\"line_width\":{\"value\":2},\"plot\":null,\"render_mode\":\"css\",\"right_units\":\"screen\",\"top_units\":\"screen\"},\"id\":\"3052dff3-8b97-40ad-8909-e56915244f51\",\"type\":\"BoxAnnotation\"},{\"attributes\":{\"active_drag\":\"auto\",\"active_inspect\":\"auto\",\"active_scroll\":\"auto\",\"active_tap\":\"auto\",\"tools\":[{\"id\":\"b3146468-ed7b-4321-909e-d32b5dc708a7\",\"type\":\"PanTool\"},{\"id\":\"245d2e47-e389-41b4-9bb0-b5c88c06d75a\",\"type\":\"WheelZoomTool\"},{\"id\":\"7754837b-b36b-408f-ac40-44d132720f2f\",\"type\":\"BoxZoomTool\"},{\"id\":\"ea99444b-12af-41ab-b7b8-af0a6fbbd815\",\"type\":\"SaveTool\"},{\"id\":\"a801ad36-f25d-4562-848c-229481d2d027\",\"type\":\"ResetTool\"},{\"id\":\"0d897683-6058-446e-8489-57be0c5709b3\",\"type\":\"HelpTool\"}]},\"id\":\"c50f4bd5-4aa2-4446-8521-871b457f41fd\",\"type\":\"Toolbar\"},{\"attributes\":{\"callback\":null,\"factors\":[\"1\",\"2\",\"3\",\"4\",\"5\",\"6\",\"7\",\"8\",\"9\",\"10\",\"11\"]},\"id\":\"d4112af7-05fb-4395-9531-6d17fc2defef\",\"type\":\"FactorRange\"},{\"attributes\":{},\"id\":\"0d897683-6058-446e-8489-57be0c5709b3\",\"type\":\"HelpTool\"},{\"attributes\":{},\"id\":\"69d823c2-53a3-4d88-880b-f08533933b90\",\"type\":\"BasicTicker\"},{\"attributes\":{\"plot\":{\"id\":\"d8df2bd0-2c19-4f44-a226-b15d150abd58\",\"subtype\":\"Figure\",\"type\":\"Plot\"},\"ticker\":{\"id\":\"e8d6c39b-c3f4-461c-b98d-d22c7c5c0212\",\"type\":\"CategoricalTicker\"}},\"id\":\"c3384c08-225d-470f-8a30-8e4f4855b858\",\"type\":\"Grid\"},{\"attributes\":{},\"id\":\"6f2eb6dd-8b0f-4104-926b-2d3a39968687\",\"type\":\"LinearScale\"},{\"attributes\":{},\"id\":\"e8d6c39b-c3f4-461c-b98d-d22c7c5c0212\",\"type\":\"CategoricalTicker\"},{\"attributes\":{},\"id\":\"0f194767-2edf-4d1f-bd50-5ce55dc2a009\",\"type\":\"CategoricalScale\"},{\"attributes\":{\"callback\":null,\"data\":{\"band\":[\"1\",\"2\",\"3\",\"4\",\"5\",\"6\",\"7\",\"8\",\"9\",\"10\",\"11\"],\"flux\":{\"__ndarray__\":\"AADADkbs874Ak+S5vg/QPwAq5Eo9C8q/AHSERUWcrj8AMLq8OVzjP+DPm4pUGN0/wORV52Idsj8AQGTbs/iOPwD/I9Oh09E/AFDtmpDWiD8Asw6iEFywPw==\",\"dtype\":\"float64\",\"shape\":[11]}},\"selected\":{\"id\":\"57f35ed7-bbcf-409a-85c9-b58a46a506f4\",\"type\":\"Selection\"},\"selection_policy\":{\"id\":\"49bad0b6-3d08-4cbd-b991-8a4bcc9acba5\",\"type\":\"UnionRenderers\"}},\"id\":\"77237fda-7654-41de-94fb-4fc83f73c3dc\",\"type\":\"ColumnDataSource\"},{\"attributes\":{\"callback\":null,\"data\":{\"band\":[\"1\",\"2\",\"3\",\"4\",\"5\",\"6\",\"7\",\"8\",\"9\",\"10\",\"11\"],\"flux\":{\"__ndarray__\":\"AID6S2L7yj8AhLZzzD+yPwDn9AapJbm/oFGioVYD4D9gJ6H0hZDSv4DY6Qd1kd+/gFDj3vyGxT8Atr3dkhzAv4DhOmtcJNC/wG+hI6BfwD/ARu3ZzlKpPw==\",\"dtype\":\"float64\",\"shape\":[11]}},\"selected\":{\"id\":\"5f392248-4134-4de1-a0c2-5cd9d2284e6c\",\"type\":\"Selection\"},\"selection_policy\":{\"id\":\"50a2dc76-3448-4bb2-b79f-25f7d39e1ed1\",\"type\":\"UnionRenderers\"}},\"id\":\"8a182367-a9fe-4438-9ef1-7982e0f6c8fb\",\"type\":\"ColumnDataSource\"},{\"attributes\":{\"axis_label\":\"spectral band\",\"formatter\":{\"id\":\"57615617-2d19-4026-a1ef-eabd5fed69a3\",\"type\":\"CategoricalTickFormatter\"},\"plot\":{\"id\":\"d8df2bd0-2c19-4f44-a226-b15d150abd58\",\"subtype\":\"Figure\",\"type\":\"Plot\"},\"ticker\":{\"id\":\"e8d6c39b-c3f4-461c-b98d-d22c7c5c0212\",\"type\":\"CategoricalTicker\"}},\"id\":\"9d20a252-13aa-4eef-b8e5-0709b373c7a5\",\"type\":\"CategoricalAxis\"}],\"root_ids\":[\"9819ba9d-bf2b-485a-9046-53510a3fa2bc\"]},\"title\":\"Bokeh Application\",\"version\":\"0.12.16\"}};\n",
       "  var render_items = [{\"docid\":\"9d1f18fe-98dc-4c2f-912a-2cfb5dcfab26\",\"elementid\":\"a263e964-09cb-4962-9c76-412c55a41a70\",\"modelid\":\"9819ba9d-bf2b-485a-9046-53510a3fa2bc\"}];\n",
       "  root.Bokeh.embed.embed_items_notebook(docs_json, render_items);\n",
       "\n",
       "  }\n",
       "  if (root.Bokeh !== undefined) {\n",
       "    embed_document(root);\n",
       "  } else {\n",
       "    var attempts = 0;\n",
       "    var timer = setInterval(function(root) {\n",
       "      if (root.Bokeh !== undefined) {\n",
       "        embed_document(root);\n",
       "        clearInterval(timer);\n",
       "      }\n",
       "      attempts++;\n",
       "      if (attempts > 100) {\n",
       "        console.log(\"Bokeh: ERROR: Unable to run BokehJS code because BokehJS library is missing\")\n",
       "        clearInterval(timer);\n",
       "      }\n",
       "    }, 10, root)\n",
       "  }\n",
       "})(window);"
      ],
      "application/vnd.bokehjs_exec.v0+json": ""
     },
     "metadata": {
      "application/vnd.bokehjs_exec.v0+json": {
       "id": "9819ba9d-bf2b-485a-9046-53510a3fa2bc"
      }
     },
     "output_type": "display_data"
    },
    {
     "data": {
      "text/markdown": [
       "*FIGURE.* Difference between CLIRAD and CRD in TOA, SFC and net atmosphere flux, in each spectral band."
      ],
      "text/plain": [
       "<IPython.core.display.Markdown object>"
      ]
     },
     "metadata": {},
     "output_type": "display_data"
    },
    {
     "data": {
      "text/html": [
       "<div>\n",
       "<style scoped>\n",
       "    .dataframe tbody tr th:only-of-type {\n",
       "        vertical-align: middle;\n",
       "    }\n",
       "\n",
       "    .dataframe tbody tr th {\n",
       "        vertical-align: top;\n",
       "    }\n",
       "\n",
       "    .dataframe thead th {\n",
       "        text-align: right;\n",
       "    }\n",
       "</style>\n",
       "<table border=\"1\" class=\"dataframe\">\n",
       "  <thead>\n",
       "    <tr style=\"text-align: right;\">\n",
       "      <th></th>\n",
       "      <th>OLR flux</th>\n",
       "      <th>SFC flux</th>\n",
       "      <th>ATM heating</th>\n",
       "    </tr>\n",
       "    <tr>\n",
       "      <th>Sum over bands</th>\n",
       "      <th></th>\n",
       "      <th></th>\n",
       "      <th></th>\n",
       "    </tr>\n",
       "  </thead>\n",
       "  <tbody>\n",
       "    <tr>\n",
       "      <th>CLIRAD (single-run) - CRD</th>\n",
       "      <td>1.48</td>\n",
       "      <td>1.61</td>\n",
       "      <td>-0.13</td>\n",
       "    </tr>\n",
       "    <tr>\n",
       "      <th>CRD</th>\n",
       "      <td>-303.40</td>\n",
       "      <td>337.24</td>\n",
       "      <td>-181.37</td>\n",
       "    </tr>\n",
       "  </tbody>\n",
       "</table>\n",
       "</div>"
      ],
      "text/plain": [
       "                           OLR flux  SFC flux  ATM heating\n",
       "Sum over bands                                            \n",
       "CLIRAD (single-run) - CRD      1.48      1.61        -0.13\n",
       "CRD                         -303.40    337.24      -181.37"
      ]
     },
     "metadata": {},
     "output_type": "display_data"
    },
    {
     "data": {
      "text/markdown": [
       "*TABLE.* Difference between CLIRAD and CRD in TOA, SFC and net atmosphere flux, over all spectral bands. CRD's TOA, SFC and net atmosphere flux, over all spectral bands."
      ],
      "text/plain": [
       "<IPython.core.display.Markdown object>"
      ]
     },
     "metadata": {},
     "output_type": "display_data"
    }
   ],
   "source": [
    "script()"
   ]
  },
  {
   "cell_type": "code",
   "execution_count": 64,
   "metadata": {},
   "outputs": [
    {
     "data": {
      "text/html": [
       "<script>                                                                                             \n",
       "code_show=true;                                                                                                      \n",
       "function code_toggle() {                                                                                             \n",
       " if (code_show){                                                                                                     \n",
       " $('div.input').hide();                                                                                              \n",
       " } else {                                                                                                            \n",
       " $('div.input').show();                                                                                              \n",
       " }                                                                                                                   \n",
       " code_show = !code_show                                                                                              \n",
       "}                                                                                                                    \n",
       "$( document ).ready(code_toggle);                                                                                    \n",
       "</script>                                                                                                            \n",
       "<form action=\"javascript:code_toggle()\"><input type=\"submit\" value=\"Click here to toggle on/off the raw code.\"></form>"
      ],
      "text/plain": [
       "<IPython.core.display.HTML object>"
      ]
     },
     "execution_count": 64,
     "metadata": {},
     "output_type": "execute_result"
    }
   ],
   "source": [
    "display.HTML('''<script>                                                                                             \n",
    "code_show=true;                                                                                                      \n",
    "function code_toggle() {                                                                                             \n",
    " if (code_show){                                                                                                     \n",
    " $('div.input').hide();                                                                                              \n",
    " } else {                                                                                                            \n",
    " $('div.input').show();                                                                                              \n",
    " }                                                                                                                   \n",
    " code_show = !code_show                                                                                              \n",
    "}                                                                                                                    \n",
    "$( document ).ready(code_toggle);                                                                                    \n",
    "</script>                                                                                                            \n",
    "<form action=\"javascript:code_toggle()\"><input type=\"submit\" value=\"Click here to toggle on/off the raw code.\"></for\\\n",
    "m>''')"
   ]
  }
 ],
 "metadata": {
  "kernelspec": {
   "display_name": "Python 3",
   "language": "python",
   "name": "python3"
  },
  "language_info": {
   "codemirror_mode": {
    "name": "ipython",
    "version": 3
   },
   "file_extension": ".py",
   "mimetype": "text/x-python",
   "name": "python",
   "nbconvert_exporter": "python",
   "pygments_lexer": "ipython3",
   "version": "3.6.1"
  }
 },
 "nbformat": 4,
 "nbformat_minor": 2
}
