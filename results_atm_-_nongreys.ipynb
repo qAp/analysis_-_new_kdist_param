{
 "cells": [
  {
   "cell_type": "code",
   "execution_count": 140,
   "metadata": {},
   "outputs": [
    {
     "name": "stderr",
     "output_type": "stream",
     "text": [
      "/chia_cluster/home/jackyu/climatools/climatools/plot/plot.py:21: AccessorRegistrationWarning: registration of accessor <class 'climatools.plot.plot.ClimavizArrayAccessor'> under name 'climaviz' for type <class 'xarray.core.dataarray.DataArray'> is overriding a preexisting attribute with the same name.\n",
      "  class ClimavizArrayAccessor(object):\n"
     ]
    },
    {
     "data": {
      "text/plain": [
       "<module 'climatools.plot.plot' from '/chia_cluster/home/jackyu/climatools/climatools/plot/plot.py'>"
      ]
     },
     "execution_count": 140,
     "metadata": {},
     "output_type": "execute_result"
    }
   ],
   "source": [
    "import os                                                                                                            \n",
    "import importlib                                                                                                     \n",
    "import pprint                                                                                                        \n",
    "                                                                                                                     \n",
    "import numpy as np                                                                                                   \n",
    "import pandas as pd                                                                                                  \n",
    "import xarray as xr                                                                                                  \n",
    "                                                                                                                     \n",
    "from bokeh.io import output_notebook, show                                                                           \n",
    "from bokeh.palettes import all_palettes                                                                              \n",
    "from bokeh.layouts import gridplot                                                                                   \n",
    "from bokeh.plotting import figure                                                                                    \n",
    "                                                                                                                     \n",
    "import climatools.lblnew.dataset as lbldata                                                                          \n",
    "import climatools.cliradlw.dataset as cliraddata                                                                     \n",
    "from climatools.atm.absorbers import nongreys_byband                                                                 \n",
    "from climatools.atm.absorbers import greys_byband                                                                    \n",
    "                                                                                                                     \n",
    "import climatools.html.html as climahtml                                                                             \n",
    "from climatools.lblnew.dataio import *                                                                               \n",
    "import climatools.plot.plot as plot                                                                                  \n",
    "                                                                                                                     \n",
    "                                                                                                                     \n",
    "from IPython import display                                                                                          \n",
    "                                                                                                                     \n",
    "importlib.reload(lbldata)                                                                                            \n",
    "importlib.reload(cliraddata)                                                                                         \n",
    "importlib.reload(plot)"
   ]
  },
  {
   "cell_type": "code",
   "execution_count": 141,
   "metadata": {},
   "outputs": [
    {
     "data": {
      "text/html": [
       "\n",
       "    <div class=\"bk-root\">\n",
       "        <a href=\"https://bokeh.pydata.org\" target=\"_blank\" class=\"bk-logo bk-logo-small bk-logo-notebook\"></a>\n",
       "        <span id=\"471ac732-2bdd-4511-bb02-966235c4ca44\">Loading BokehJS ...</span>\n",
       "    </div>"
      ]
     },
     "metadata": {},
     "output_type": "display_data"
    },
    {
     "data": {
      "application/javascript": [
       "\n",
       "(function(root) {\n",
       "  function now() {\n",
       "    return new Date();\n",
       "  }\n",
       "\n",
       "  var force = true;\n",
       "\n",
       "  if (typeof (root._bokeh_onload_callbacks) === \"undefined\" || force === true) {\n",
       "    root._bokeh_onload_callbacks = [];\n",
       "    root._bokeh_is_loading = undefined;\n",
       "  }\n",
       "\n",
       "  var JS_MIME_TYPE = 'application/javascript';\n",
       "  var HTML_MIME_TYPE = 'text/html';\n",
       "  var EXEC_MIME_TYPE = 'application/vnd.bokehjs_exec.v0+json';\n",
       "  var CLASS_NAME = 'output_bokeh rendered_html';\n",
       "\n",
       "  /**\n",
       "   * Render data to the DOM node\n",
       "   */\n",
       "  function render(props, node) {\n",
       "    var script = document.createElement(\"script\");\n",
       "    node.appendChild(script);\n",
       "  }\n",
       "\n",
       "  /**\n",
       "   * Handle when an output is cleared or removed\n",
       "   */\n",
       "  function handleClearOutput(event, handle) {\n",
       "    var cell = handle.cell;\n",
       "\n",
       "    var id = cell.output_area._bokeh_element_id;\n",
       "    var server_id = cell.output_area._bokeh_server_id;\n",
       "    // Clean up Bokeh references\n",
       "    if (id !== undefined) {\n",
       "      Bokeh.index[id].model.document.clear();\n",
       "      delete Bokeh.index[id];\n",
       "    }\n",
       "\n",
       "    if (server_id !== undefined) {\n",
       "      // Clean up Bokeh references\n",
       "      var cmd = \"from bokeh.io.state import curstate; print(curstate().uuid_to_server['\" + server_id + \"'].get_sessions()[0].document.roots[0]._id)\";\n",
       "      cell.notebook.kernel.execute(cmd, {\n",
       "        iopub: {\n",
       "          output: function(msg) {\n",
       "            var element_id = msg.content.text.trim();\n",
       "            Bokeh.index[element_id].model.document.clear();\n",
       "            delete Bokeh.index[element_id];\n",
       "          }\n",
       "        }\n",
       "      });\n",
       "      // Destroy server and session\n",
       "      var cmd = \"import bokeh.io.notebook as ion; ion.destroy_server('\" + server_id + \"')\";\n",
       "      cell.notebook.kernel.execute(cmd);\n",
       "    }\n",
       "  }\n",
       "\n",
       "  /**\n",
       "   * Handle when a new output is added\n",
       "   */\n",
       "  function handleAddOutput(event, handle) {\n",
       "    var output_area = handle.output_area;\n",
       "    var output = handle.output;\n",
       "\n",
       "    // limit handleAddOutput to display_data with EXEC_MIME_TYPE content only\n",
       "    if ((output.output_type != \"display_data\") || (!output.data.hasOwnProperty(EXEC_MIME_TYPE))) {\n",
       "      return\n",
       "    }\n",
       "\n",
       "    var toinsert = output_area.element.find(\".\" + CLASS_NAME.split(' ')[0]);\n",
       "\n",
       "    if (output.metadata[EXEC_MIME_TYPE][\"id\"] !== undefined) {\n",
       "      toinsert[toinsert.length - 1].firstChild.textContent = output.data[JS_MIME_TYPE];\n",
       "      // store reference to embed id on output_area\n",
       "      output_area._bokeh_element_id = output.metadata[EXEC_MIME_TYPE][\"id\"];\n",
       "    }\n",
       "    if (output.metadata[EXEC_MIME_TYPE][\"server_id\"] !== undefined) {\n",
       "      var bk_div = document.createElement(\"div\");\n",
       "      bk_div.innerHTML = output.data[HTML_MIME_TYPE];\n",
       "      var script_attrs = bk_div.children[0].attributes;\n",
       "      for (var i = 0; i < script_attrs.length; i++) {\n",
       "        toinsert[toinsert.length - 1].firstChild.setAttribute(script_attrs[i].name, script_attrs[i].value);\n",
       "      }\n",
       "      // store reference to server id on output_area\n",
       "      output_area._bokeh_server_id = output.metadata[EXEC_MIME_TYPE][\"server_id\"];\n",
       "    }\n",
       "  }\n",
       "\n",
       "  function register_renderer(events, OutputArea) {\n",
       "\n",
       "    function append_mime(data, metadata, element) {\n",
       "      // create a DOM node to render to\n",
       "      var toinsert = this.create_output_subarea(\n",
       "        metadata,\n",
       "        CLASS_NAME,\n",
       "        EXEC_MIME_TYPE\n",
       "      );\n",
       "      this.keyboard_manager.register_events(toinsert);\n",
       "      // Render to node\n",
       "      var props = {data: data, metadata: metadata[EXEC_MIME_TYPE]};\n",
       "      render(props, toinsert[toinsert.length - 1]);\n",
       "      element.append(toinsert);\n",
       "      return toinsert\n",
       "    }\n",
       "\n",
       "    /* Handle when an output is cleared or removed */\n",
       "    events.on('clear_output.CodeCell', handleClearOutput);\n",
       "    events.on('delete.Cell', handleClearOutput);\n",
       "\n",
       "    /* Handle when a new output is added */\n",
       "    events.on('output_added.OutputArea', handleAddOutput);\n",
       "\n",
       "    /**\n",
       "     * Register the mime type and append_mime function with output_area\n",
       "     */\n",
       "    OutputArea.prototype.register_mime_type(EXEC_MIME_TYPE, append_mime, {\n",
       "      /* Is output safe? */\n",
       "      safe: true,\n",
       "      /* Index of renderer in `output_area.display_order` */\n",
       "      index: 0\n",
       "    });\n",
       "  }\n",
       "\n",
       "  // register the mime type if in Jupyter Notebook environment and previously unregistered\n",
       "  if (root.Jupyter !== undefined) {\n",
       "    var events = require('base/js/events');\n",
       "    var OutputArea = require('notebook/js/outputarea').OutputArea;\n",
       "\n",
       "    if (OutputArea.prototype.mime_types().indexOf(EXEC_MIME_TYPE) == -1) {\n",
       "      register_renderer(events, OutputArea);\n",
       "    }\n",
       "  }\n",
       "\n",
       "  \n",
       "  if (typeof (root._bokeh_timeout) === \"undefined\" || force === true) {\n",
       "    root._bokeh_timeout = Date.now() + 5000;\n",
       "    root._bokeh_failed_load = false;\n",
       "  }\n",
       "\n",
       "  var NB_LOAD_WARNING = {'data': {'text/html':\n",
       "     \"<div style='background-color: #fdd'>\\n\"+\n",
       "     \"<p>\\n\"+\n",
       "     \"BokehJS does not appear to have successfully loaded. If loading BokehJS from CDN, this \\n\"+\n",
       "     \"may be due to a slow or bad network connection. Possible fixes:\\n\"+\n",
       "     \"</p>\\n\"+\n",
       "     \"<ul>\\n\"+\n",
       "     \"<li>re-rerun `output_notebook()` to attempt to load from CDN again, or</li>\\n\"+\n",
       "     \"<li>use INLINE resources instead, as so:</li>\\n\"+\n",
       "     \"</ul>\\n\"+\n",
       "     \"<code>\\n\"+\n",
       "     \"from bokeh.resources import INLINE\\n\"+\n",
       "     \"output_notebook(resources=INLINE)\\n\"+\n",
       "     \"</code>\\n\"+\n",
       "     \"</div>\"}};\n",
       "\n",
       "  function display_loaded() {\n",
       "    var el = document.getElementById(\"471ac732-2bdd-4511-bb02-966235c4ca44\");\n",
       "    if (el != null) {\n",
       "      el.textContent = \"BokehJS is loading...\";\n",
       "    }\n",
       "    if (root.Bokeh !== undefined) {\n",
       "      if (el != null) {\n",
       "        el.textContent = \"BokehJS \" + root.Bokeh.version + \" successfully loaded.\";\n",
       "      }\n",
       "    } else if (Date.now() < root._bokeh_timeout) {\n",
       "      setTimeout(display_loaded, 100)\n",
       "    }\n",
       "  }\n",
       "\n",
       "\n",
       "  function run_callbacks() {\n",
       "    try {\n",
       "      root._bokeh_onload_callbacks.forEach(function(callback) { callback() });\n",
       "    }\n",
       "    finally {\n",
       "      delete root._bokeh_onload_callbacks\n",
       "    }\n",
       "    console.info(\"Bokeh: all callbacks have finished\");\n",
       "  }\n",
       "\n",
       "  function load_libs(js_urls, callback) {\n",
       "    root._bokeh_onload_callbacks.push(callback);\n",
       "    if (root._bokeh_is_loading > 0) {\n",
       "      console.log(\"Bokeh: BokehJS is being loaded, scheduling callback at\", now());\n",
       "      return null;\n",
       "    }\n",
       "    if (js_urls == null || js_urls.length === 0) {\n",
       "      run_callbacks();\n",
       "      return null;\n",
       "    }\n",
       "    console.log(\"Bokeh: BokehJS not loaded, scheduling load and callback at\", now());\n",
       "    root._bokeh_is_loading = js_urls.length;\n",
       "    for (var i = 0; i < js_urls.length; i++) {\n",
       "      var url = js_urls[i];\n",
       "      var s = document.createElement('script');\n",
       "      s.src = url;\n",
       "      s.async = false;\n",
       "      s.onreadystatechange = s.onload = function() {\n",
       "        root._bokeh_is_loading--;\n",
       "        if (root._bokeh_is_loading === 0) {\n",
       "          console.log(\"Bokeh: all BokehJS libraries loaded\");\n",
       "          run_callbacks()\n",
       "        }\n",
       "      };\n",
       "      s.onerror = function() {\n",
       "        console.warn(\"failed to load library \" + url);\n",
       "      };\n",
       "      console.log(\"Bokeh: injecting script tag for BokehJS library: \", url);\n",
       "      document.getElementsByTagName(\"head\")[0].appendChild(s);\n",
       "    }\n",
       "  };var element = document.getElementById(\"471ac732-2bdd-4511-bb02-966235c4ca44\");\n",
       "  if (element == null) {\n",
       "    console.log(\"Bokeh: ERROR: autoload.js configured with elementid '471ac732-2bdd-4511-bb02-966235c4ca44' but no matching script tag was found. \")\n",
       "    return false;\n",
       "  }\n",
       "\n",
       "  var js_urls = [\"https://cdn.pydata.org/bokeh/release/bokeh-0.12.16.min.js\", \"https://cdn.pydata.org/bokeh/release/bokeh-widgets-0.12.16.min.js\", \"https://cdn.pydata.org/bokeh/release/bokeh-tables-0.12.16.min.js\", \"https://cdn.pydata.org/bokeh/release/bokeh-gl-0.12.16.min.js\"];\n",
       "\n",
       "  var inline_js = [\n",
       "    function(Bokeh) {\n",
       "      Bokeh.set_log_level(\"info\");\n",
       "    },\n",
       "    \n",
       "    function(Bokeh) {\n",
       "      \n",
       "    },\n",
       "    function(Bokeh) {\n",
       "      console.log(\"Bokeh: injecting CSS: https://cdn.pydata.org/bokeh/release/bokeh-0.12.16.min.css\");\n",
       "      Bokeh.embed.inject_css(\"https://cdn.pydata.org/bokeh/release/bokeh-0.12.16.min.css\");\n",
       "      console.log(\"Bokeh: injecting CSS: https://cdn.pydata.org/bokeh/release/bokeh-widgets-0.12.16.min.css\");\n",
       "      Bokeh.embed.inject_css(\"https://cdn.pydata.org/bokeh/release/bokeh-widgets-0.12.16.min.css\");\n",
       "      console.log(\"Bokeh: injecting CSS: https://cdn.pydata.org/bokeh/release/bokeh-tables-0.12.16.min.css\");\n",
       "      Bokeh.embed.inject_css(\"https://cdn.pydata.org/bokeh/release/bokeh-tables-0.12.16.min.css\");\n",
       "    }\n",
       "  ];\n",
       "\n",
       "  function run_inline_js() {\n",
       "    \n",
       "    if ((root.Bokeh !== undefined) || (force === true)) {\n",
       "      for (var i = 0; i < inline_js.length; i++) {\n",
       "        inline_js[i].call(root, root.Bokeh);\n",
       "      }if (force === true) {\n",
       "        display_loaded();\n",
       "      }} else if (Date.now() < root._bokeh_timeout) {\n",
       "      setTimeout(run_inline_js, 100);\n",
       "    } else if (!root._bokeh_failed_load) {\n",
       "      console.log(\"Bokeh: BokehJS failed to load within specified timeout.\");\n",
       "      root._bokeh_failed_load = true;\n",
       "    } else if (force !== true) {\n",
       "      var cell = $(document.getElementById(\"471ac732-2bdd-4511-bb02-966235c4ca44\")).parents('.cell').data().cell;\n",
       "      cell.output_area.append_execute_result(NB_LOAD_WARNING)\n",
       "    }\n",
       "\n",
       "  }\n",
       "\n",
       "  if (root._bokeh_is_loading === 0) {\n",
       "    console.log(\"Bokeh: BokehJS loaded, going straight to plotting\");\n",
       "    run_inline_js();\n",
       "  } else {\n",
       "    load_libs(js_urls, function() {\n",
       "      console.log(\"Bokeh: BokehJS plotting callback run at\", now());\n",
       "      run_inline_js();\n",
       "    });\n",
       "  }\n",
       "}(window));"
      ],
      "application/vnd.bokehjs_load.v0+json": "\n(function(root) {\n  function now() {\n    return new Date();\n  }\n\n  var force = true;\n\n  if (typeof (root._bokeh_onload_callbacks) === \"undefined\" || force === true) {\n    root._bokeh_onload_callbacks = [];\n    root._bokeh_is_loading = undefined;\n  }\n\n  \n\n  \n  if (typeof (root._bokeh_timeout) === \"undefined\" || force === true) {\n    root._bokeh_timeout = Date.now() + 5000;\n    root._bokeh_failed_load = false;\n  }\n\n  var NB_LOAD_WARNING = {'data': {'text/html':\n     \"<div style='background-color: #fdd'>\\n\"+\n     \"<p>\\n\"+\n     \"BokehJS does not appear to have successfully loaded. If loading BokehJS from CDN, this \\n\"+\n     \"may be due to a slow or bad network connection. Possible fixes:\\n\"+\n     \"</p>\\n\"+\n     \"<ul>\\n\"+\n     \"<li>re-rerun `output_notebook()` to attempt to load from CDN again, or</li>\\n\"+\n     \"<li>use INLINE resources instead, as so:</li>\\n\"+\n     \"</ul>\\n\"+\n     \"<code>\\n\"+\n     \"from bokeh.resources import INLINE\\n\"+\n     \"output_notebook(resources=INLINE)\\n\"+\n     \"</code>\\n\"+\n     \"</div>\"}};\n\n  function display_loaded() {\n    var el = document.getElementById(\"471ac732-2bdd-4511-bb02-966235c4ca44\");\n    if (el != null) {\n      el.textContent = \"BokehJS is loading...\";\n    }\n    if (root.Bokeh !== undefined) {\n      if (el != null) {\n        el.textContent = \"BokehJS \" + root.Bokeh.version + \" successfully loaded.\";\n      }\n    } else if (Date.now() < root._bokeh_timeout) {\n      setTimeout(display_loaded, 100)\n    }\n  }\n\n\n  function run_callbacks() {\n    try {\n      root._bokeh_onload_callbacks.forEach(function(callback) { callback() });\n    }\n    finally {\n      delete root._bokeh_onload_callbacks\n    }\n    console.info(\"Bokeh: all callbacks have finished\");\n  }\n\n  function load_libs(js_urls, callback) {\n    root._bokeh_onload_callbacks.push(callback);\n    if (root._bokeh_is_loading > 0) {\n      console.log(\"Bokeh: BokehJS is being loaded, scheduling callback at\", now());\n      return null;\n    }\n    if (js_urls == null || js_urls.length === 0) {\n      run_callbacks();\n      return null;\n    }\n    console.log(\"Bokeh: BokehJS not loaded, scheduling load and callback at\", now());\n    root._bokeh_is_loading = js_urls.length;\n    for (var i = 0; i < js_urls.length; i++) {\n      var url = js_urls[i];\n      var s = document.createElement('script');\n      s.src = url;\n      s.async = false;\n      s.onreadystatechange = s.onload = function() {\n        root._bokeh_is_loading--;\n        if (root._bokeh_is_loading === 0) {\n          console.log(\"Bokeh: all BokehJS libraries loaded\");\n          run_callbacks()\n        }\n      };\n      s.onerror = function() {\n        console.warn(\"failed to load library \" + url);\n      };\n      console.log(\"Bokeh: injecting script tag for BokehJS library: \", url);\n      document.getElementsByTagName(\"head\")[0].appendChild(s);\n    }\n  };var element = document.getElementById(\"471ac732-2bdd-4511-bb02-966235c4ca44\");\n  if (element == null) {\n    console.log(\"Bokeh: ERROR: autoload.js configured with elementid '471ac732-2bdd-4511-bb02-966235c4ca44' but no matching script tag was found. \")\n    return false;\n  }\n\n  var js_urls = [\"https://cdn.pydata.org/bokeh/release/bokeh-0.12.16.min.js\", \"https://cdn.pydata.org/bokeh/release/bokeh-widgets-0.12.16.min.js\", \"https://cdn.pydata.org/bokeh/release/bokeh-tables-0.12.16.min.js\", \"https://cdn.pydata.org/bokeh/release/bokeh-gl-0.12.16.min.js\"];\n\n  var inline_js = [\n    function(Bokeh) {\n      Bokeh.set_log_level(\"info\");\n    },\n    \n    function(Bokeh) {\n      \n    },\n    function(Bokeh) {\n      console.log(\"Bokeh: injecting CSS: https://cdn.pydata.org/bokeh/release/bokeh-0.12.16.min.css\");\n      Bokeh.embed.inject_css(\"https://cdn.pydata.org/bokeh/release/bokeh-0.12.16.min.css\");\n      console.log(\"Bokeh: injecting CSS: https://cdn.pydata.org/bokeh/release/bokeh-widgets-0.12.16.min.css\");\n      Bokeh.embed.inject_css(\"https://cdn.pydata.org/bokeh/release/bokeh-widgets-0.12.16.min.css\");\n      console.log(\"Bokeh: injecting CSS: https://cdn.pydata.org/bokeh/release/bokeh-tables-0.12.16.min.css\");\n      Bokeh.embed.inject_css(\"https://cdn.pydata.org/bokeh/release/bokeh-tables-0.12.16.min.css\");\n    }\n  ];\n\n  function run_inline_js() {\n    \n    if ((root.Bokeh !== undefined) || (force === true)) {\n      for (var i = 0; i < inline_js.length; i++) {\n        inline_js[i].call(root, root.Bokeh);\n      }if (force === true) {\n        display_loaded();\n      }} else if (Date.now() < root._bokeh_timeout) {\n      setTimeout(run_inline_js, 100);\n    } else if (!root._bokeh_failed_load) {\n      console.log(\"Bokeh: BokehJS failed to load within specified timeout.\");\n      root._bokeh_failed_load = true;\n    } else if (force !== true) {\n      var cell = $(document.getElementById(\"471ac732-2bdd-4511-bb02-966235c4ca44\")).parents('.cell').data().cell;\n      cell.output_area.append_execute_result(NB_LOAD_WARNING)\n    }\n\n  }\n\n  if (root._bokeh_is_loading === 0) {\n    console.log(\"Bokeh: BokehJS loaded, going straight to plotting\");\n    run_inline_js();\n  } else {\n    load_libs(js_urls, function() {\n      console.log(\"Bokeh: BokehJS plotting callback run at\", now());\n      run_inline_js();\n    });\n  }\n}(window));"
     },
     "metadata": {},
     "output_type": "display_data"
    }
   ],
   "source": [
    "output_notebook()"
   ]
  },
  {
   "cell_type": "code",
   "execution_count": 142,
   "metadata": {
    "collapsed": true
   },
   "outputs": [],
   "source": [
    "def nongrey_makeup():\n",
    "    '''\n",
    "    Returns dataframe detailing the concentration\n",
    "    of each non-grey absorber in the atmosphere.\n",
    "    \n",
    "    Parameters\n",
    "    ----------\n",
    "    df: pd.DataFrame\n",
    "        Non-grey absorber concentrations by band.\n",
    "    '''\n",
    "    df = pd.DataFrame()                                                                                              \n",
    "                                                                                                                     \n",
    "    for band, molecule in nongreys_byband().items():                                                                 \n",
    "        for name, conc in molecule.items():                                                                          \n",
    "            df.loc[name, band] = str(conc)                                                                           \n",
    "                                                                                                                     \n",
    "    df = df.fillna(0)                                                                                                \n",
    "    df.columns.name = 'clirad band'                                                                                  \n",
    "    df.index.name = 'molecule'\n",
    "    return df\n"
   ]
  },
  {
   "cell_type": "code",
   "execution_count": 143,
   "metadata": {
    "collapsed": true
   },
   "outputs": [],
   "source": [
    "def clirad_params_atm_singlerun(atmpro='mls'):                                                                       \n",
    "    '''                                                                                                              \n",
    "    Define the input parameter dictionary (or `param`) of                                                            \n",
    "    a clirad-lw run and return it.                                                                                   \n",
    "                                                                                                                     \n",
    "    Parameters                                                                                                       \n",
    "    ----------                                                                                                       \n",
    "    atmpro: string                                                                                                   \n",
    "        Atmosphere profile.                                                                                          \n",
    "    '''                                                                                                              \n",
    "    param0 = {'band': [1, 2, 3, 4, 5, 6, 7, 8, 9, 10, 11],                                                           \n",
    "              'commitnumber': '523cbb7',                                                                             \n",
    "              'molecule': {'ch4': 1.8e-06,                                                                           \n",
    "                           'co2': 0.0004,                                                                            \n",
    "                           'h2o': 'atmpro',                                                                          \n",
    "                           'n2o': 3.2e-07,                                                                           \n",
    "                           'o3': 'atmpro'}}                                                                          \n",
    "                                                                                                                     \n",
    "    d_atmpros = {'mls': 294, 'saw': 257, 'trp': 300}                                                                 \n",
    "                                                                                                                     \n",
    "    param = param0.copy()                                                                                            \n",
    "    param['atmpro'] = atmpro                                                                                         \n",
    "    param['tsfc'] = d_atmpros[atmpro]                                                                                \n",
    "                                                                                                                     \n",
    "    d = {}                                                                                                           \n",
    "    d['all'] = param                                                                                                 \n",
    "    return d"
   ]
  },
  {
   "cell_type": "code",
   "execution_count": 144,
   "metadata": {
    "collapsed": true
   },
   "outputs": [],
   "source": [
    "def fmt_cool(ds_in):                                                                                                 \n",
    "    '''                                                                                                              \n",
    "    Deal with dimensions that are not the 'pressure/layer'                                                           \n",
    "    dimension, to prepare the dataset for                                                                            \n",
    "    pressure vs cooling rate plots.                                                                                  \n",
    "                                                                                                                     \n",
    "    Parameters                                                                                                       \n",
    "    ----------                                                                                                       \n",
    "    ds_in: xarray.Dataset                                                                                            \n",
    "        Cooling rate.                                                                                                \n",
    "    '''                                                                                                              \n",
    "    ds = ds_in.copy(deep=True)                                                                                       \n",
    "    if 'igg' in ds.dims:                                                                                             \n",
    "        ds = ds.sel(igg=1)                                                                                           \n",
    "                                                                                                                     \n",
    "    if 'g' in ds.dims:                                                                                               \n",
    "        ds = ds.sum('g')                                                                                             \n",
    "                                                                                                                     \n",
    "    if 'i' in ds.dims:                                                                                               \n",
    "        ds = ds.sel(i=ds.dims['i'])                                                                                  \n",
    "                                                                                                                     \n",
    "    if 'band' in ds.dims:                                                                                            \n",
    "        try:                                                                                                         \n",
    "            ds = ds.squeeze('band')                                                                                  \n",
    "        except ValueError:                                                                                           \n",
    "            ds = ds.sum('band')                                                                                      \n",
    "    return ds['coolrg']"
   ]
  },
  {
   "cell_type": "code",
   "execution_count": 163,
   "metadata": {
    "collapsed": true,
    "scrolled": false
   },
   "outputs": [],
   "source": [
    "def data_to_csv(model='cliradlw'):\n",
    "    '''\n",
    "    Save a model's flux and cooling rate to excel file.\n",
    "    \n",
    "    Parameters\n",
    "    ----------\n",
    "    model: str\n",
    "        Name of model whose results are to be saved in .xlsx file.\n",
    "        'cliradlw', or 'crd'.\n",
    "    '''\n",
    "    def fmt_flux(da_in):                                                                                                  \n",
    "        da = da_in.copy(deep=True)                                                                                   \n",
    "                                                                                                                     \n",
    "        if 'i' in da.dims:                                                                                           \n",
    "            da = da.sel(i=len(da['i']))                                                                              \n",
    "                                                                                                                     \n",
    "        if 'igg' in da.dims:                                                                                         \n",
    "            da = da.sel(igg=1)                                                                                       \n",
    "                                                                                                                     \n",
    "        if 'g' in da.dims:                                                                                           \n",
    "            da = da.sum('g')                                                                                         \n",
    "                                                                                                                     \n",
    "        if 'band' in da.dims:                                                                                        \n",
    "            try:                                                                                                     \n",
    "                da = da.squeeze('band')                                                                              \n",
    "            except ValueError:                                                                                       \n",
    "                da = da.sum('band')                                                                                  \n",
    "        return da\n",
    "    \n",
    "    if model == 'cliradlw':\n",
    "        func_params = clirad_params_atm_singlerun\n",
    "        func_data = cliraddata.clirad_data_atm\n",
    "    elif model == 'crd':\n",
    "        func_params = lbldata.lblnew_params_atm\n",
    "        func_data = lbldata.crd_data_atm\n",
    "\n",
    "    atmpros = ['mls', 'saw', 'trp']\n",
    "    fname = f'results_-_{model}_atm_nongreys.xlsx'\n",
    "    \n",
    "    with pd.ExcelWriter(fname) as writer:\n",
    "        \n",
    "        nongrey_makeup().to_excel(writer, 'ATM makeup')\n",
    "        \n",
    "        for atmpro in atmpros:\n",
    "            params_atm = func_params(atmpro=atmpro)\n",
    "            ds = func_data(params_atm)\n",
    "    \n",
    "            # cooling rate\n",
    "            cool = ds['cool']\n",
    "            cool = fmt_cool(cool)\n",
    "            cool = cool.to_dataframe()\n",
    "    \n",
    "            # flux\n",
    "            flux = ds['flux']\n",
    "            flux = fmt_flux(flux)\n",
    "            flux = flux.to_dataframe()\n",
    "    \n",
    "            cool.to_excel(writer, '{} cooling rate'.format(atmpro))\n",
    "            flux.to_excel(writer, '{} flux'.format(atmpro))\n"
   ]
  },
  {
   "cell_type": "code",
   "execution_count": 146,
   "metadata": {
    "collapsed": true
   },
   "outputs": [],
   "source": [
    "def pltdata_cool(atmpro='mls'):                                                                                      \n",
    "    '''                                                                                                              \n",
    "    Prepare the plotting data for plotting cooling                                                                   \n",
    "    rate profiles that is compatible with                                                                            \n",
    "    plot_cool_bokeh(), and set the plot attibutes                                                                    \n",
    "    for each curve.                                                                                                  \n",
    "                                                                                                                     \n",
    "    Parameters                                                                                                       \n",
    "    ----------                                                                                                       \n",
    "    atmpro: string                                                                                                   \n",
    "        Atmosphere profile.                                                                                          \n",
    "    data: dict                                                                                                       \n",
    "        Plotting data. A list of dictionaries,                                                                       \n",
    "        each one containing the data and plot                                                                        \n",
    "        attributes for a curve.                                                                                      \n",
    "    '''                                                                                                              \n",
    "    params_atm = clirad_params_atm_singlerun(atmpro=atmpro)                                                          \n",
    "    d_clirad_singlerun = cliraddata.clirad_data_atm(params_atm)                                                      \n",
    "                                                                                                                     \n",
    "    params_atm = cliraddata.clirad_params_atm(atmpro=atmpro)                                                         \n",
    "    d_clirad = cliraddata.clirad_data_atm(params_atm)                                                                \n",
    "                                                                                                                     \n",
    "    params_atm = lbldata.lblnew_params_atm(atmpro=atmpro)                                                            \n",
    "    d_crd = lbldata.crd_data_atm(params_atm)                                                                         \n",
    "                                                                                                                     \n",
    "    ds_clirad_singlerun = d_clirad_singlerun['cool']                                                                 \n",
    "    ds_clirad = d_clirad['cool']                                                                                     \n",
    "    ds_crd = d_crd['cool']                                                                                           \n",
    "                                                                                                                     \n",
    "    colors = all_palettes['Set1'][4]\n",
    "    \n",
    "    data = [                                                                                                         \n",
    "        {'label': 'CLIRAD (single-run)',                                                                             \n",
    "        'srs': fmt_cool(ds_clirad_singlerun),                                                                        \n",
    "        'line_dash': 'dashed', 'line_width': 5,                                                                      \n",
    "        'color': colors[1], 'alpha': .6},                                                                            \n",
    "        {'label': 'CRD',                                                                                             \n",
    "         'srs': fmt_cool(ds_crd),                                                                                    \n",
    "         'line_dash': 'solid', 'line_width': 1.5,                                                                    \n",
    "         'marker': 'circle', 'marker_size': 5,                                                                       \n",
    "         'color': colors[2], 'alpha': 1}                                                                             \n",
    "    ]                                                                                                                \n",
    "#        {'label': 'CLIRAD',                                                                                         \n",
    "#         'srs': fmt_cool(ds_clirad),                                                                                \n",
    "#         'line_dash': 'dashed', 'line_width': 5,                                                                    \n",
    "#         'color': colors[0], 'alpha': .6}                                                                           \n",
    "                                                                                                                     \n",
    "    return data    "
   ]
  },
  {
   "cell_type": "code",
   "execution_count": 147,
   "metadata": {
    "collapsed": true
   },
   "outputs": [],
   "source": [
    "def pltdata_cooldiff(atmpro='mls'):                                                                                  \n",
    "    '''                                                                                                              \n",
    "    Prepare the plotting data for plotting cooling                                                                   \n",
    "    rate difference profiles that is compatible with                                                                 \n",
    "    plot_cool_bokeh(), and set the plot attibutes                                                                    \n",
    "    for each curve.                                                                                                  \n",
    "                                                                                                                     \n",
    "    Parameters                                                                                                       \n",
    "    ----------                                                                                                       \n",
    "    atmpro: string                                                                                                   \n",
    "        Atmosphere profile.                                                                                          \n",
    "    data: dict                                                                                                       \n",
    "        Plotting data. A list of dictionaries,                                                                       \n",
    "        each one containing the data and plot                                                                        \n",
    "        attributes for a curve.                                                                                      \n",
    "    '''\n",
    "    params_atm = clirad_params_atm_singlerun(atmpro=atmpro)\n",
    "    d_clirad_singlerun = cliraddata.clirad_data_atm(params_atm)\n",
    "    \n",
    "    params_atm = cliraddata.clirad_params_atm(atmpro=atmpro)\n",
    "    d_clirad = cliraddata.clirad_data_atm(params_atm)                               \n",
    "    \n",
    "    params_atm = lbldata.lblnew_params_atm(atmpro=atmpro)\n",
    "    d_crd = lbldata.crd_data_atm(params_atm)                                           \n",
    "                                                                                                                     \n",
    "    ds_clirad_singlerun = d_clirad_singlerun['cool']                                                                 \n",
    "    ds_clirad = d_clirad['cool']                                                                                     \n",
    "    ds_crd = d_crd['cool']                                                                                           \n",
    "                                                                                                                     \n",
    "    ds_diff = ds_clirad_singlerun - ds_crd                                                                           \n",
    "                                                                                                                     \n",
    "    colors = all_palettes['Set1'][4]                                                                                 \n",
    "                                                                                                                     \n",
    "    data = [                                                                                                         \n",
    "        {'label': 'CLIRAD (single-run) - CRD',                                                                       \n",
    "         'srs': fmt_cool(ds_diff),                                                                                   \n",
    "         'line_dash': 'solid', 'line_width': 1.5,                                                                    \n",
    "         'marker': 'circle', 'marker_size': 7,                                                                       \n",
    "         'color': colors[3], 'alpha': .8}                                                                            \n",
    "    ]                                                                                                                \n",
    "    return data"
   ]
  },
  {
   "cell_type": "code",
   "execution_count": 148,
   "metadata": {
    "collapsed": true
   },
   "outputs": [],
   "source": [
    "def show_cool(atmpro='mls'):                                                                                         \n",
    "    '''                                                                                                              \n",
    "    Produce figure with the following panes:                                                                         \n",
    "      1. Cooling rate profiles with linear pressure-axis.                                                            \n",
    "      2. Cooling rate profile with log pressure-axis.                                                                \n",
    "      3. Coolling rate profile difference with log                                                                   \n",
    "         pressure-axis.                                                                                              \n",
    "    and display the figure.                                                                                          \n",
    "                                                                                                                     \n",
    "    Parameters                                                                                                       \n",
    "    ----------                                                                                                       \n",
    "    atmpro: string                                                                                                   \n",
    "        Atmosphere profile.                                                                                          \n",
    "    ''' \n",
    "    pltfunc = plot.plt_vert_profile_bokeh\n",
    "    \n",
    "    data_cool = pltdata_cool(atmpro=atmpro)                                                                          \n",
    "    p_cool_liny = pltfunc(pltdata=data_cool)                                                     \n",
    "    p_cool_logy = pltfunc(pltdata=data_cool, \n",
    "                          y_axis_type='log', \n",
    "                          prange=(.01, 200))                                                                  \n",
    "                                                                                                                     \n",
    "    data_cooldiff = pltdata_cooldiff(atmpro=atmpro)                                                                  \n",
    "    p_cooldiff_logy = pltfunc(pltdata=data_cooldiff,                                             \n",
    "                              y_axis_type='log',                                                              \n",
    "                              prange=(.01, 200))                                                              \n",
    "                                                                                                                     \n",
    "    everything = gridplot(p_cool_liny, p_cool_logy,                                                                  \n",
    "                          p_cooldiff_logy,                                                                           \n",
    "                          ncols=3)                                                                                   \n",
    "    show(everything)                                                                                                 \n",
    "    display.display(                                                                                                 \n",
    "        display.Markdown('*FIGURE.* Cooling rates & difference.'))"
   ]
  },
  {
   "cell_type": "code",
   "execution_count": 149,
   "metadata": {
    "collapsed": true
   },
   "outputs": [],
   "source": [
    "def show_hist_flux(atmpro='mls'):                                                                                    \n",
    "    '''                                                                                                              \n",
    "    Display figure with the following band-vs-flux                                                                   \n",
    "    histograms:                                                                                                      \n",
    "        1. Upward flux at TOA. CLIRAD - CRD.                                                                         \n",
    "        2. Downward flux at surface. CLIRAD- CRD.                                                                    \n",
    "        3. Atmosphere heating.  CLIRAD - CRD.                                                                        \n",
    "                                                                                                                     \n",
    "    Parameters                                                                                                       \n",
    "    ----------                                                                                                       \n",
    "    atmpro: string                                                                                                   \n",
    "        Atmosphere profile.                                                                                          \n",
    "    '''                                                                                                              \n",
    "    def fmt(da_in):                                                                                                  \n",
    "        da = da_in.copy(deep=True)                                                                                   \n",
    "                                                                                                                     \n",
    "        if 'i' in da.dims:                                                                                           \n",
    "            da = da.sel(i=len(da['i']))                                                                              \n",
    "                                                                                                                     \n",
    "        if 'igg' in da.dims:                                                                                         \n",
    "            da = da.sel(igg=1)                                                                                       \n",
    "                                                                                                                     \n",
    "        if 'g' in da.dims:                                                                                           \n",
    "            da = da.sum('g')                                                                                         \n",
    "        return da\n",
    "    \n",
    "    params_atm = lbldata.lblnew_params_atm(atmpro=atmpro)\n",
    "    ds_crd = lbldata.crd_data_atm(params_atm)['flux']\n",
    "    \n",
    "    params_atm = cliraddata.clirad_params_atm(atmpro=atmpro)\n",
    "    ds_clirad = cliraddata.clirad_data_atm(params_atm)['flux']\n",
    "    \n",
    "    params_atm = clirad_params_atm_singlerun(atmpro=atmpro)\n",
    "    ds_clirad_singlerun = cliraddata.clirad_data_atm(params_atm)['flux']                                                          \n",
    "                                                                                                                     \n",
    "    ip, varname = 0, 'flug'                                                                                          \n",
    "    da = (ds_clirad_singlerun - ds_crd).isel(pressure=ip)[varname]                                                   \n",
    "    da = fmt(da)                                                                                                     \n",
    "    p_toa = plot.hist_band_vs_flux(da,                                                                               \n",
    "        title='TOA flux. CLIRAD (single-run) - CRD.')                                                                \n",
    "                                                                                                                     \n",
    "    ip, varname = -1, 'fldg'                                                                                         \n",
    "    da = (ds_clirad_singlerun - ds_crd).isel(pressure=ip)[varname]                                                   \n",
    "    da = fmt(da)                                                                                                     \n",
    "    p_sfc = plot.hist_band_vs_flux(da,                                                                               \n",
    "        title='SFC flux. CLIRAD (single-run) - CRD.')                                                                \n",
    "                                                                                                                     \n",
    "    atm_crd = (ds_crd.isel(pressure=0)                                                                               \n",
    "               - ds_crd.isel(pressure=-1))['fnetg']                                                                  \n",
    "    atm_clirad_singlerun = (ds_clirad_singlerun.isel(pressure=0)                                                     \n",
    "                  - ds_clirad_singlerun.isel(pressure=-1))['fnetg']                                                  \n",
    "    da = atm_clirad_singlerun - atm_crd                                                                              \n",
    "    da = fmt(da)                                                                                                     \n",
    "    p_atm = plot.hist_band_vs_flux(da,                                                                               \n",
    "        title='Atmosphere heating. CLIRAD (single-run) - CRD.')                                                      \n",
    "                                                                                                                     \n",
    "    everything = gridplot(p_toa, p_sfc, p_atm, ncols=3,                                                              \n",
    "                          plot_width=300, plot_height=300)                                                           \n",
    "                                                                                                                     \n",
    "    show(everything)                                                                                                 \n",
    "    display.display(                                                                                                 \n",
    "        display.Markdown('*FIGURE.* Difference between CLIRAD and CRD'                                               \n",
    "          ' in TOA, SFC and net atmosphere flux,'                                                                    \n",
    "          ' in each spectral band.'))"
   ]
  },
  {
   "cell_type": "code",
   "execution_count": 150,
   "metadata": {
    "collapsed": true
   },
   "outputs": [],
   "source": [
    "def show_tb_flux(atmpro='mls'):                                                                                      \n",
    "    '''                                                                                                              \n",
    "    Display the table:                                                                                               \n",
    "    --------------------------------------------------------------------                                             \n",
    "                      | up flux at TOA | down flux at SFC | atm heating                                              \n",
    "    --------------------------------------------------------------------                                             \n",
    "    clirad (sum) - CRD|                |                  |                                                          \n",
    "    clirad - CRD      |                |                  |                                                          \n",
    "    CRD               |                |                  |                                                          \n",
    "    --------------------------------------------------------------------                                             \n",
    "                                                                                                                     \n",
    "    Parameters                                                                                                       \n",
    "    ----------                                                                                                       \n",
    "    atmpro: string                                                                                                   \n",
    "        Atmosphere profile.                                                                                          \n",
    "    ''' \n",
    "    def fmt(da_in):                                                                                                  \n",
    "        da = da_in.copy(deep=True)                                                                                   \n",
    "                                                                                                                     \n",
    "        if 'i' in da.dims:                                                                                           \n",
    "            da = da.sel(i=len(da['i']))                                                                              \n",
    "                                                                                                                     \n",
    "        if 'igg' in da.dims:                                                                                         \n",
    "            da = da.sel(igg=1)                                                                                       \n",
    "                                                                                                                     \n",
    "        if 'g' in da.dims:                                                                                           \n",
    "            da = da.sum('g')                                                                                         \n",
    "                                                                                                                     \n",
    "        if 'band' in da.dims:                                                                                        \n",
    "            try:                                                                                                     \n",
    "                da = da.squeeze('band')                                                                              \n",
    "            except ValueError:                                                                                       \n",
    "                da = da.sum('band')                                                                                  \n",
    "        return da                                                                                                    \n",
    "\n",
    "    params_atm = lbldata.lblnew_params_atm(atmpro=atmpro)\n",
    "    ds_crd = lbldata.crd_data_atm(params_atm)['flux']                                  \n",
    "    olr_crd = ds_crd['flug'].isel(pressure=0)                                                                        \n",
    "    sfc_crd = ds_crd['fldg'].isel(pressure=-1)                                                                       \n",
    "    atm_crd = (ds_crd.isel(pressure=0)                                                                               \n",
    "               - ds_crd.isel(pressure=-1))['fnetg']                                                                  \n",
    "    \n",
    "    params_atm = cliraddata.clirad_params_atm(atmpro=atmpro)\n",
    "    ds_clirad = cliraddata.clirad_data_atm(params_atm)['flux']                                                         \n",
    "    olr_clirad = ds_clirad['flug'].isel(pressure=0)                                                                  \n",
    "    sfc_clirad = ds_clirad['fldg'].isel(pressure=-1)                                                                 \n",
    "    atm_clirad = (ds_clirad.isel(pressure=0)                                                                         \n",
    "                  - ds_clirad.isel(pressure=-1))['fnetg']                                                            \n",
    "    \n",
    "    params_atm = clirad_params_atm_singlerun(atmpro=atmpro)\n",
    "    ds_clirad_singlerun = cliraddata.clirad_data_atm(params_atm)['flux']                                                          \n",
    "    olr_clirad_singlerun = ds_clirad_singlerun['flug'].isel(pressure=0)                                              \n",
    "    sfc_clirad_singlerun = ds_clirad_singlerun['fldg'].isel(pressure=-1)                                             \n",
    "    atm_clirad_singlerun = (ds_clirad_singlerun.isel(pressure=0)                                                     \n",
    "                  - ds_clirad_singlerun.isel(pressure=-1))['fnetg']\n",
    "    \n",
    "    df = pd.DataFrame()                                                                                              \n",
    "    df.index.name = 'Sum over bands'                                                                                 \n",
    "                                                                                                                     \n",
    "    df.loc['CLIRAD (single-run) - CRD',                                                                              \n",
    "           'OLR flux'] = (fmt(olr_clirad_singlerun)                                                                  \n",
    "                          - fmt(olr_crd)).values                                                                     \n",
    "    df.loc['CLIRAD (single-run) - CRD',                                                                              \n",
    "           'SFC flux'] = (fmt(sfc_clirad_singlerun)                                                                  \n",
    "                          - fmt(sfc_crd)).values                                                                     \n",
    "    df.loc['CLIRAD (single-run) - CRD',                                                                              \n",
    "           'ATM heating'] = (fmt(atm_clirad_singlerun)                                                               \n",
    "                             - fmt(atm_crd)).values                                                                  \n",
    "                                                                                                                     \n",
    "    df.loc['CRD', 'OLR flux'] = fmt(olr_crd).values                                                                  \n",
    "    df.loc['CRD', 'SFC flux'] = fmt(sfc_crd).values                                                                  \n",
    "    df.loc['CRD', 'ATM heating'] = fmt(atm_crd).values                                                               \n",
    "                                                                                                                     \n",
    "    df = df.astype('float').round(2)                                                                                 \n",
    "                                                                                                                     \n",
    "    display.display(df)                                                                                              \n",
    "    display.display(                                                                                                 \n",
    "        display.Markdown('*TABLE.* Difference between CLIRAD and CRD'                                                \n",
    "          ' in TOA, SFC and net atmosphere flux,'                                                                    \n",
    "          ' over all spectral bands. CRD\\'s'                                                                         \n",
    "          ' TOA, SFC and net atmosphere flux,'                                                                       \n",
    "          ' over all spectral bands.'))    \n",
    "    "
   ]
  },
  {
   "cell_type": "code",
   "execution_count": 151,
   "metadata": {
    "collapsed": true
   },
   "outputs": [],
   "source": [
    "def show_nongrey_makeup():                                                                                                   \n",
    "    '''                                                                                                              \n",
    "    Display table showing the concentrations                                                                         \n",
    "    of the gases in each spectral band                                                                               \n",
    "    '''                                                                                                              \n",
    "    df = nongrey_makeup()                                                                                           \n",
    "    display.display(df)                                                                                             \n",
    "    display.display(                                                                                                 \n",
    "        display.Markdown('*TABLE.* Non-grey absorbers in the atmosphere.'))"
   ]
  },
  {
   "cell_type": "code",
   "execution_count": 152,
   "metadata": {
    "collapsed": true
   },
   "outputs": [],
   "source": [
    "def show_grey_makeup():                                                                                              \n",
    "    df = pd.DataFrame()                                                                                              \n",
    "                                                                                                                     \n",
    "    for band, molecule in greys_byband().items():                                                                    \n",
    "        if molecule == None:                                                                                         \n",
    "            pass                                                                                                     \n",
    "        else:                                                                                                        \n",
    "            for name, conc in molecule.items():                                                                      \n",
    "                df.loc[name, band] = str(conc)                                                                       \n",
    "                                                                                                                     \n",
    "    df = df.fillna(0)                                                                                                \n",
    "    df.columns.name = 'clirad band'                                                                                  \n",
    "    df.index.name = 'absorber'                                                                                       \n",
    "                                                                                                                     \n",
    "    display.display(df)                                                                                              \n",
    "    display.display(                                                                                                 \n",
    "        display.Markdown('*TABLE.* Grey absorbers in the atmosphere.')                                               \n",
    "        )"
   ]
  },
  {
   "cell_type": "code",
   "execution_count": 153,
   "metadata": {
    "collapsed": true
   },
   "outputs": [],
   "source": [
    "def show_html(s):                                                                                                    \n",
    "    display.display(display.HTML(s))                                                                                 \n",
    "                                                                                                                     \n",
    "                                                                                                                     \n",
    "                                                                                                                     \n",
    "def show_markdown(s):                                                                                                \n",
    "    display.display(display.Markdown(s))"
   ]
  },
  {
   "cell_type": "code",
   "execution_count": 154,
   "metadata": {
    "collapsed": true
   },
   "outputs": [],
   "source": [
    "def script():                                                                                                        \n",
    "    d_atm = {'mls': 'mid-latitude summer',                                                                           \n",
    "             'saw': 'sub-arctic winter',                                                                             \n",
    "             'trp': 'tropical'}                                                                                      \n",
    "                                                                                                                     \n",
    "    title = ('## Results over entire range of molecules'                                                             \n",
    "             ' and spectral bands')                                                                                  \n",
    "                                                                                                                     \n",
    "    s_makeup = 'Makeup of atmosphere.'                                                                               \n",
    "    s_atmpro = '# {}'                                                                                                \n",
    "    s_cool = 'Cooling rates. {}.'                                                                                    \n",
    "    s_flux = 'Fluxes. {}.'                                                                                           \n",
    "                                                                                                                     \n",
    "    atmpros = ['mls', 'saw', 'trp']                                                                                  \n",
    "                                                                                                                     \n",
    "    # TOC                                                                                                            \n",
    "    show_markdown(title)                                                                                             \n",
    "    show_markdown('### Table of Contents')                                                                           \n",
    "    show_html(climahtml.getHTML_hrefanchor(s_makeup))                                                                \n",
    "    for atmpro in atmpros:                                                                                           \n",
    "        show_markdown('**' + d_atm[atmpro] + '**')                                                                   \n",
    "        show_html(climahtml.getHTML_hrefanchor(s_cool.format(atmpro)))                                               \n",
    "        show_html(climahtml.getHTML_hrefanchor(s_flux.format(atmpro)))                                               \n",
    "                                                                                                                     \n",
    "                                                                                                                     \n",
    "    # Atmosphere makeup                                                                                              \n",
    "    show_html(climahtml.getHTML_idanchor(s_makeup))                                                                  \n",
    "    show_markdown(climahtml.getMarkdown_sectitle(s_makeup))                                                          \n",
    "    show_nongrey_makeup()\n",
    "    \n",
    "    for atmpro in atmpros:                                                                                           \n",
    "        show_html(climahtml.getHTML_idanchor(s_cool.format(atmpro)))                                                 \n",
    "        show_markdown(                                                                                               \n",
    "            climahtml.getMarkdown_sectitle(s_cool.format(atmpro)))                                                   \n",
    "        show_cool(atmpro=atmpro)                                                                                     \n",
    "        show_html(climahtml.getHTML_idanchor(s_flux.format(atmpro)))                                                 \n",
    "        show_markdown(                                                                                               \n",
    "            climahtml.getMarkdown_sectitle(s_flux.format(atmpro)))                                                   \n",
    "        show_hist_flux(atmpro=atmpro)                                                                                \n",
    "        show_tb_flux(atmpro=atmpro)"
   ]
  },
  {
   "cell_type": "code",
   "execution_count": 155,
   "metadata": {
    "scrolled": false
   },
   "outputs": [
    {
     "data": {
      "text/markdown": [
       "## Results over entire range of molecules and spectral bands"
      ],
      "text/plain": [
       "<IPython.core.display.Markdown object>"
      ]
     },
     "metadata": {},
     "output_type": "display_data"
    },
    {
     "data": {
      "text/markdown": [
       "### Table of Contents"
      ],
      "text/plain": [
       "<IPython.core.display.Markdown object>"
      ]
     },
     "metadata": {},
     "output_type": "display_data"
    },
    {
     "data": {
      "text/html": [
       "<a href=\"#Makeup_of_atmosphere.\">Makeup of atmosphere.</a>"
      ],
      "text/plain": [
       "<IPython.core.display.HTML object>"
      ]
     },
     "metadata": {},
     "output_type": "display_data"
    },
    {
     "data": {
      "text/markdown": [
       "**mid-latitude summer**"
      ],
      "text/plain": [
       "<IPython.core.display.Markdown object>"
      ]
     },
     "metadata": {},
     "output_type": "display_data"
    },
    {
     "data": {
      "text/html": [
       "<a href=\"#Cooling_rates._mls.\">Cooling rates. mls.</a>"
      ],
      "text/plain": [
       "<IPython.core.display.HTML object>"
      ]
     },
     "metadata": {},
     "output_type": "display_data"
    },
    {
     "data": {
      "text/html": [
       "<a href=\"#Fluxes._mls.\">Fluxes. mls.</a>"
      ],
      "text/plain": [
       "<IPython.core.display.HTML object>"
      ]
     },
     "metadata": {},
     "output_type": "display_data"
    },
    {
     "data": {
      "text/markdown": [
       "**sub-arctic winter**"
      ],
      "text/plain": [
       "<IPython.core.display.Markdown object>"
      ]
     },
     "metadata": {},
     "output_type": "display_data"
    },
    {
     "data": {
      "text/html": [
       "<a href=\"#Cooling_rates._saw.\">Cooling rates. saw.</a>"
      ],
      "text/plain": [
       "<IPython.core.display.HTML object>"
      ]
     },
     "metadata": {},
     "output_type": "display_data"
    },
    {
     "data": {
      "text/html": [
       "<a href=\"#Fluxes._saw.\">Fluxes. saw.</a>"
      ],
      "text/plain": [
       "<IPython.core.display.HTML object>"
      ]
     },
     "metadata": {},
     "output_type": "display_data"
    },
    {
     "data": {
      "text/markdown": [
       "**tropical**"
      ],
      "text/plain": [
       "<IPython.core.display.Markdown object>"
      ]
     },
     "metadata": {},
     "output_type": "display_data"
    },
    {
     "data": {
      "text/html": [
       "<a href=\"#Cooling_rates._trp.\">Cooling rates. trp.</a>"
      ],
      "text/plain": [
       "<IPython.core.display.HTML object>"
      ]
     },
     "metadata": {},
     "output_type": "display_data"
    },
    {
     "data": {
      "text/html": [
       "<a href=\"#Fluxes._trp.\">Fluxes. trp.</a>"
      ],
      "text/plain": [
       "<IPython.core.display.HTML object>"
      ]
     },
     "metadata": {},
     "output_type": "display_data"
    },
    {
     "data": {
      "text/html": [
       "<a id=\"Makeup_of_atmosphere.\"></a>"
      ],
      "text/plain": [
       "<IPython.core.display.HTML object>"
      ]
     },
     "metadata": {},
     "output_type": "display_data"
    },
    {
     "data": {
      "text/markdown": [
       "# Makeup of atmosphere."
      ],
      "text/plain": [
       "<IPython.core.display.Markdown object>"
      ]
     },
     "metadata": {},
     "output_type": "display_data"
    },
    {
     "data": {
      "text/html": [
       "<div>\n",
       "<style scoped>\n",
       "    .dataframe tbody tr th:only-of-type {\n",
       "        vertical-align: middle;\n",
       "    }\n",
       "\n",
       "    .dataframe tbody tr th {\n",
       "        vertical-align: top;\n",
       "    }\n",
       "\n",
       "    .dataframe thead th {\n",
       "        text-align: right;\n",
       "    }\n",
       "</style>\n",
       "<table border=\"1\" class=\"dataframe\">\n",
       "  <thead>\n",
       "    <tr style=\"text-align: right;\">\n",
       "      <th>clirad band</th>\n",
       "      <th>1</th>\n",
       "      <th>2</th>\n",
       "      <th>3</th>\n",
       "      <th>4</th>\n",
       "      <th>5</th>\n",
       "      <th>6</th>\n",
       "      <th>7</th>\n",
       "      <th>8</th>\n",
       "      <th>9</th>\n",
       "      <th>10</th>\n",
       "      <th>11</th>\n",
       "    </tr>\n",
       "    <tr>\n",
       "      <th>molecule</th>\n",
       "      <th></th>\n",
       "      <th></th>\n",
       "      <th></th>\n",
       "      <th></th>\n",
       "      <th></th>\n",
       "      <th></th>\n",
       "      <th></th>\n",
       "      <th></th>\n",
       "      <th></th>\n",
       "      <th></th>\n",
       "      <th></th>\n",
       "    </tr>\n",
       "  </thead>\n",
       "  <tbody>\n",
       "    <tr>\n",
       "      <th>h2o</th>\n",
       "      <td>atmpro</td>\n",
       "      <td>atmpro</td>\n",
       "      <td>atmpro</td>\n",
       "      <td>atmpro</td>\n",
       "      <td>atmpro</td>\n",
       "      <td>atmpro</td>\n",
       "      <td>atmpro</td>\n",
       "      <td>atmpro</td>\n",
       "      <td>atmpro</td>\n",
       "      <td>atmpro</td>\n",
       "      <td>atmpro</td>\n",
       "    </tr>\n",
       "    <tr>\n",
       "      <th>co2</th>\n",
       "      <td>0</td>\n",
       "      <td>0</td>\n",
       "      <td>0.0004</td>\n",
       "      <td>0.0004</td>\n",
       "      <td>0.0004</td>\n",
       "      <td>0.0004</td>\n",
       "      <td>0.0004</td>\n",
       "      <td>0</td>\n",
       "      <td>0</td>\n",
       "      <td>0</td>\n",
       "      <td>0.0004</td>\n",
       "    </tr>\n",
       "    <tr>\n",
       "      <th>n2o</th>\n",
       "      <td>0</td>\n",
       "      <td>0</td>\n",
       "      <td>3.2e-07</td>\n",
       "      <td>0</td>\n",
       "      <td>0</td>\n",
       "      <td>0</td>\n",
       "      <td>0</td>\n",
       "      <td>0</td>\n",
       "      <td>3.2e-07</td>\n",
       "      <td>0</td>\n",
       "      <td>0</td>\n",
       "    </tr>\n",
       "    <tr>\n",
       "      <th>o3</th>\n",
       "      <td>0</td>\n",
       "      <td>0</td>\n",
       "      <td>0</td>\n",
       "      <td>0</td>\n",
       "      <td>0</td>\n",
       "      <td>0</td>\n",
       "      <td>atmpro</td>\n",
       "      <td>0</td>\n",
       "      <td>0</td>\n",
       "      <td>0</td>\n",
       "      <td>0</td>\n",
       "    </tr>\n",
       "    <tr>\n",
       "      <th>ch4</th>\n",
       "      <td>0</td>\n",
       "      <td>0</td>\n",
       "      <td>0</td>\n",
       "      <td>0</td>\n",
       "      <td>0</td>\n",
       "      <td>0</td>\n",
       "      <td>0</td>\n",
       "      <td>0</td>\n",
       "      <td>1.8e-06</td>\n",
       "      <td>0</td>\n",
       "      <td>0</td>\n",
       "    </tr>\n",
       "  </tbody>\n",
       "</table>\n",
       "</div>"
      ],
      "text/plain": [
       "clirad band      1       2        3       4       5       6       7       8   \\\n",
       "molecule                                                                       \n",
       "h2o          atmpro  atmpro   atmpro  atmpro  atmpro  atmpro  atmpro  atmpro   \n",
       "co2               0       0   0.0004  0.0004  0.0004  0.0004  0.0004       0   \n",
       "n2o               0       0  3.2e-07       0       0       0       0       0   \n",
       "o3                0       0        0       0       0       0  atmpro       0   \n",
       "ch4               0       0        0       0       0       0       0       0   \n",
       "\n",
       "clirad band       9       10      11  \n",
       "molecule                              \n",
       "h2o           atmpro  atmpro  atmpro  \n",
       "co2                0       0  0.0004  \n",
       "n2o          3.2e-07       0       0  \n",
       "o3                 0       0       0  \n",
       "ch4          1.8e-06       0       0  "
      ]
     },
     "metadata": {},
     "output_type": "display_data"
    },
    {
     "data": {
      "text/markdown": [
       "*TABLE.* Non-grey absorbers in the atmosphere."
      ],
      "text/plain": [
       "<IPython.core.display.Markdown object>"
      ]
     },
     "metadata": {},
     "output_type": "display_data"
    },
    {
     "data": {
      "text/html": [
       "<a id=\"Cooling_rates._mls.\"></a>"
      ],
      "text/plain": [
       "<IPython.core.display.HTML object>"
      ]
     },
     "metadata": {},
     "output_type": "display_data"
    },
    {
     "data": {
      "text/markdown": [
       "# Cooling rates. mls."
      ],
      "text/plain": [
       "<IPython.core.display.Markdown object>"
      ]
     },
     "metadata": {},
     "output_type": "display_data"
    },
    {
     "data": {
      "text/html": [
       "\n",
       "<div class=\"bk-root\">\n",
       "    <div class=\"bk-plotdiv\" id=\"058327d2-b6af-404c-8c19-ddfa0ca0d04c\"></div>\n",
       "</div>"
      ]
     },
     "metadata": {},
     "output_type": "display_data"
    },
    {
     "data": {
      "application/javascript": [
       "(function(root) {\n",
       "  function embed_document(root) {\n",
       "    \n",
       "  var docs_json = {\"7e3eb87f-cb50-49ea-af90-f05b26d381bd\":{\"roots\":{\"references\":[{\"attributes\":{\"callback\":null,\"data\":{\"x\":{\"__ndarray__\":\"cm1sTMT3VEDEyvjosEJHQOKI6DjzCUNArgQWV9awPkB9Lm8XG3M4QEz+Qv6iYzNA7eV8HaPLLkCX1QHyTpMoQFBmYSYetiNAUB04GtGpH0AmFyVE5j8ZQJca9QPGqBNALJP+OOHHDEBNxaf7QF8AQKtislomWuw/cW2dcO6A9T/uJJvfPu0EQIaQLTI/JQ1AxGiII+PmEkCJvfVeuCsYQD6ZBhGbHB9AXQw69DTYJEAsubcwKucqQNuT9D5OmipAJyi3szEJJUBlNebh5WkgQDDcPHBr2xlArtlANXuQFEBdJadFHckQQI2Avh0ZsQtAjYiwt1rsBUCL0SDoVBgAQK6C0nEEjvc/CggLSme58T9sXU2orFPnP0v0JYz9Gdg/vT38vxYczD9nBQTe6kHHP1IhkEXJwKo/8OZnhCVAub+xtVgCpmqzP6DUpY6g0+k/PKK3T1h4+D8RTDjQc1EAQG/dAQs7TwJAQt2eHpPLAEBWEh074x//PyCap9ZSGf4/rEzaTySm/T+7aXhHRmr9P688KeqeNP0/ruZ4EemD/D8olrZcn9T7P0+vNc9hW/s/i9VVL+4P+z+0NzC24uz6P8731Kza8vo/xFf4SHzq+z+gYyHpvHb8P68ROkiFevw/BAjYdCga/D8AUp8VbW77P3JrF/nKmvo/qCQeGfq++T/dplwHJfn4P2G4p+Uva/g/OzZ0RqMZ+D8dmn/iar73P/OuA7Ka8PY/gaaeQHGn9T9hkyjAH1L0P3aZGhdAU/M/n8VP/g7P8j+90HxHNvfyPwhNBtgrqvk/\",\"dtype\":\"float64\",\"shape\":[75]},\"y\":{\"__ndarray__\":\"GhExyth1ND/Sv8nbtpRIP2vylNV0PVE/aTum7souWD/At0SJ8fVgPw3Iuahxymc/MSNhhJWvcD/bTfBN02d3P2zb5nxnaoA/CD5h5MAGhz8NmeH1TyaQP+zrCsc9p5Y/LbKd76fGnz/bLW5ISEmmPww9YvTcQq8/JV2OstnstT8Er5Y7M8G+P0c+r3jqkcU/5h99k6ZBzj88bCIzFzjVP4enV8oyxN0//yH99nXg5D8qOpLLf0jtP5kqGJXUifQ/c9cS8kHP/D+/DpwzojQEQIEmwoanVwxA4lgXt9HgE0BSSZ2AJuIbQAMJih9jjiNA5q4l5INuK0AwTKYKRj0zQNv5fmq8/DpAaCJseHrtQkB/+zpwzoxKQM3MzMzMeFJAZmZmZmZqWEAAAAAAAFxeQM3MzMzMJmJAmpmZmZkfZUBmZmZmZhhoQDMzMzMzEWtAAAAAAAAKbkBmZmZmZoFwQM3MzMzM/XFAMzMzMzN6c0CamZmZmfZ0QAAAAAAAc3ZAZmZmZmbvd0DNzMzMzGt5QDMzMzMz6HpAmpmZmZlkfEAAAAAAAOF9QGZmZmZmXX9AZmZmZuZsgECamZmZGSuBQM3MzMxM6YFAAAAAAICngkAzMzMzs2WDQGZmZmbmI4RAmpmZmRnihEDNzMzMTKCFQAAAAACAXoZAMzMzM7Mch0BmZmZm5tqHQJqZmZkZmYhAzczMzExXiUAAAAAAgBWKQDMzMzOz04pAZmZmZuaRi0CamZmZGVCMQM3MzMxMDo1AAAAAAIDMjUAzMzMzs4qOQGZmZmbmSI9A\",\"dtype\":\"float64\",\"shape\":[75]}},\"selected\":{\"id\":\"a470c02f-cdfc-4d6d-8a6d-b105bba9317c\",\"type\":\"Selection\"},\"selection_policy\":{\"id\":\"cf8e4059-d0df-414a-8463-c219d768db53\",\"type\":\"UnionRenderers\"}},\"id\":\"b442771f-a1b1-439e-a105-682a11608bb7\",\"type\":\"ColumnDataSource\"},{\"attributes\":{\"source\":{\"id\":\"beb62b92-71b2-4e65-8a06-b20230763a56\",\"type\":\"ColumnDataSource\"}},\"id\":\"15b1b123-8595-4cd0-a01b-0f8349651798\",\"type\":\"CDSView\"},{\"attributes\":{},\"id\":\"2c504ed6-bcb1-45eb-9c22-b438ff6cf258\",\"type\":\"PanTool\"},{\"attributes\":{\"fill_alpha\":{\"value\":0.1},\"fill_color\":{\"value\":\"#1f77b4\"},\"line_alpha\":{\"value\":0.1},\"line_color\":{\"value\":\"#1f77b4\"},\"x\":{\"field\":\"x\"},\"y\":{\"field\":\"y\"}},\"id\":\"3bcc51b8-8330-40a2-aeed-385fc13b5f7e\",\"type\":\"Circle\"},{\"attributes\":{\"label\":{\"value\":\"CLIRAD (single-run)\"},\"renderers\":[{\"id\":\"f354b2d5-7ea6-4fb0-89ec-cb5767735a23\",\"type\":\"GlyphRenderer\"}]},\"id\":\"c17631ef-278d-4d23-811a-c030d5c4451e\",\"type\":\"LegendItem\"},{\"attributes\":{\"fill_alpha\":{\"value\":0.7},\"fill_color\":{\"value\":\"#4daf4a\"},\"line_alpha\":{\"value\":0.7},\"line_color\":{\"value\":\"#4daf4a\"},\"x\":{\"field\":\"x\"},\"y\":{\"field\":\"y\"}},\"id\":\"58a012df-21b8-42b5-994c-b03024e7c9d5\",\"type\":\"Circle\"},{\"attributes\":{\"data_source\":{\"id\":\"e565d516-99fe-416a-9567-e973bd153a2c\",\"type\":\"ColumnDataSource\"},\"glyph\":{\"id\":\"58a012df-21b8-42b5-994c-b03024e7c9d5\",\"type\":\"Circle\"},\"hover_glyph\":null,\"muted_glyph\":null,\"nonselection_glyph\":{\"id\":\"13d770a1-f018-4c4a-b582-59574fe1414c\",\"type\":\"Circle\"},\"selection_glyph\":null,\"view\":{\"id\":\"bafcad32-c95e-4b47-8f5b-0814dbd9a8d8\",\"type\":\"CDSView\"}},\"id\":\"5c8515ea-7f90-448d-a011-71ccd4d19f03\",\"type\":\"GlyphRenderer\"},{\"attributes\":{\"children\":[{\"id\":\"ca999561-816e-4e8b-8bad-9d0ef13114ff\",\"type\":\"Row\"}]},\"id\":\"9dfecac0-d654-4eef-bc52-059574c571ab\",\"type\":\"Column\"},{\"attributes\":{\"label\":{\"value\":\"CRD\"},\"renderers\":[{\"id\":\"730d2378-26d6-4208-b758-029dd15c0c1e\",\"type\":\"GlyphRenderer\"},{\"id\":\"68ece748-a3e6-4985-92f8-7aeb732ed88d\",\"type\":\"GlyphRenderer\"}]},\"id\":\"1dc56696-c379-4498-badf-5f95b9bf8eec\",\"type\":\"LegendItem\"},{\"attributes\":{\"bottom_units\":\"screen\",\"fill_alpha\":{\"value\":0.5},\"fill_color\":{\"value\":\"lightgrey\"},\"left_units\":\"screen\",\"level\":\"overlay\",\"line_alpha\":{\"value\":1.0},\"line_color\":{\"value\":\"black\"},\"line_dash\":[4,4],\"line_width\":{\"value\":2},\"plot\":null,\"render_mode\":\"css\",\"right_units\":\"screen\",\"top_units\":\"screen\"},\"id\":\"ac167556-dd4a-4a85-ae98-a574b4e447e2\",\"type\":\"BoxAnnotation\"},{\"attributes\":{\"data_source\":{\"id\":\"06bcf076-6c68-417b-afa0-d716e848abe4\",\"type\":\"ColumnDataSource\"},\"glyph\":{\"id\":\"8493ea5c-8aa5-4574-a3a1-9f4c2d771667\",\"type\":\"Circle\"},\"hover_glyph\":null,\"muted_glyph\":null,\"nonselection_glyph\":{\"id\":\"c5ae005e-9933-4526-b1c3-6389582bb214\",\"type\":\"Circle\"},\"selection_glyph\":null,\"view\":{\"id\":\"2c1681ef-dec1-41be-b9ce-127043bd1cba\",\"type\":\"CDSView\"}},\"id\":\"730d2378-26d6-4208-b758-029dd15c0c1e\",\"type\":\"GlyphRenderer\"},{\"attributes\":{},\"id\":\"a150012d-4e61-448f-baa8-7a46c50f814e\",\"type\":\"UnionRenderers\"},{\"attributes\":{\"line_alpha\":0.8,\"line_color\":\"#984ea3\",\"line_width\":1.5,\"x\":{\"field\":\"x\"},\"y\":{\"field\":\"y\"}},\"id\":\"2a8a5662-1f37-4bfe-9591-ef2ef28b35ab\",\"type\":\"Line\"},{\"attributes\":{},\"id\":\"11a24b85-7a7c-4676-8675-f5a2c6449aa4\",\"type\":\"HelpTool\"},{\"attributes\":{\"source\":{\"id\":\"92524073-6286-4479-b70c-76c09fd73354\",\"type\":\"ColumnDataSource\"}},\"id\":\"791035a8-9c72-45bf-9bec-927d288655d5\",\"type\":\"CDSView\"},{\"attributes\":{\"callback\":null,\"data\":{\"x\":{\"__ndarray__\":\"fNwnxMQZRMAyvv+oDq0gwDNUXdZNegLARyngxfbP/D+Oxb2So1cOQBq7Xf+T0w5Agmopru4OBEDUHk3KXFTlP5cL49zh/em/AOiUTMHN9b+IEFgWq4Xxv1ObAeE9Rd+/S3wJTrLdsD+6JZdd9YvZP+7vlKpXMd8/Dm9Pl6RJ1D/RKbnSCrWfP1xTURmAp9C/os4AtdYt4L/qL7FECbngv6CS/sJZ/9G/CAlsbbWoe7/TnYzTgNWsv2//GO9r3NO/FE18UsJc178LOaO7plOxv9qSBm0Sdtg/eK8tNJhQ1z/7tPGzrd+3Pykj6Qt1M5g/vIDymL/Q0D+ynO0VGJLVP9/YPtmit8M/tBfI5eFynb9G3Uwn5Ht1P7WowaWeP64/MMqCLjdWfj+KHWZ63O+rvxQmkCnl87a/MP7BvQpyub/Dyx9CA9K1v5c3FM0qtLC/KnGmjO4Or7/jP2Ri6SOdv2l1Wk/pvra/PV/wrxQSub/27Ajz8iCrv3YGLEx53a6/SrOMJOfDs7/KgS0nR9eyvwc4omOKVKu/OCTTTA5to7+heLa5nqiXv46KN7EkdJS/iDP+ks+RlL9KlPFLW+WZv3Us4qbM7pu/7myDkHQRlL9sxDB+H7BgP8gqeTC6oKA/180lnGc6rT/zlNybviKsP9qMKshxVaY/ugMtiR2Zlj+AcYoQ+O44P8DrjGe/Elk/nHIynCt9hj+guhH6v0GYPzKTler466k/jLiRA43Rrz/QNgH98zGyP17ANl//TrQ/B9bOtu60sj8aCTySPKe0Pz/m+NjFg7Q/\",\"dtype\":\"float64\",\"shape\":[75]},\"y\":{\"__ndarray__\":\"GhExyth1ND/Sv8nbtpRIP2vylNV0PVE/aTum7souWD/At0SJ8fVgPw3Iuahxymc/MSNhhJWvcD/bTfBN02d3P2zb5nxnaoA/CD5h5MAGhz8NmeH1TyaQP+zrCsc9p5Y/LbKd76fGnz/bLW5ISEmmPww9YvTcQq8/JV2OstnstT8Er5Y7M8G+P0c+r3jqkcU/5h99k6ZBzj88bCIzFzjVP4enV8oyxN0//yH99nXg5D8qOpLLf0jtP5kqGJXUifQ/c9cS8kHP/D+/DpwzojQEQIEmwoanVwxA4lgXt9HgE0BSSZ2AJuIbQAMJih9jjiNA5q4l5INuK0AwTKYKRj0zQNv5fmq8/DpAaCJseHrtQkB/+zpwzoxKQM3MzMzMeFJAZmZmZmZqWEAAAAAAAFxeQM3MzMzMJmJAmpmZmZkfZUBmZmZmZhhoQDMzMzMzEWtAAAAAAAAKbkBmZmZmZoFwQM3MzMzM/XFAMzMzMzN6c0CamZmZmfZ0QAAAAAAAc3ZAZmZmZmbvd0DNzMzMzGt5QDMzMzMz6HpAmpmZmZlkfEAAAAAAAOF9QGZmZmZmXX9AZmZmZuZsgECamZmZGSuBQM3MzMxM6YFAAAAAAICngkAzMzMzs2WDQGZmZmbmI4RAmpmZmRnihEDNzMzMTKCFQAAAAACAXoZAMzMzM7Mch0BmZmZm5tqHQJqZmZkZmYhAzczMzExXiUAAAAAAgBWKQDMzMzOz04pAZmZmZuaRi0CamZmZGVCMQM3MzMxMDo1AAAAAAIDMjUAzMzMzs4qOQGZmZmbmSI9A\",\"dtype\":\"float64\",\"shape\":[75]}},\"selected\":{\"id\":\"2db832bf-5559-4d72-a0f6-1f178d4867b7\",\"type\":\"Selection\"},\"selection_policy\":{\"id\":\"9866ebf1-c1e3-4144-944e-47735c3c6f67\",\"type\":\"UnionRenderers\"}},\"id\":\"1ffc282f-6176-4148-bacb-fdb826bfdc24\",\"type\":\"ColumnDataSource\"},{\"attributes\":{\"dimension\":1,\"plot\":{\"id\":\"e04f1f3f-69d4-43d0-bc0d-9dd71a9ac4f2\",\"subtype\":\"Figure\",\"type\":\"Plot\"},\"ticker\":{\"id\":\"4eba9eaf-746e-4760-8de9-338dfe80b1c1\",\"type\":\"LogTicker\"}},\"id\":\"84207886-e872-4569-b46d-1c549bdba9b7\",\"type\":\"Grid\"},{\"attributes\":{\"fill_alpha\":{\"value\":0.7},\"fill_color\":{\"value\":\"#984ea3\"},\"line_alpha\":{\"value\":0.7},\"line_color\":{\"value\":\"#984ea3\"},\"x\":{\"field\":\"x\"},\"y\":{\"field\":\"y\"}},\"id\":\"320cf9ac-ab79-43b1-9e90-50ff9c1de6c6\",\"type\":\"Circle\"},{\"attributes\":{\"line_alpha\":0.1,\"line_color\":\"#1f77b4\",\"line_width\":1.5,\"x\":{\"field\":\"x\"},\"y\":{\"field\":\"y\"}},\"id\":\"d9ac19f9-502e-4acc-887c-dc87aa47481d\",\"type\":\"Line\"},{\"attributes\":{\"data_source\":{\"id\":\"beb62b92-71b2-4e65-8a06-b20230763a56\",\"type\":\"ColumnDataSource\"},\"glyph\":{\"id\":\"320cf9ac-ab79-43b1-9e90-50ff9c1de6c6\",\"type\":\"Circle\"},\"hover_glyph\":null,\"muted_glyph\":null,\"nonselection_glyph\":{\"id\":\"3bcc51b8-8330-40a2-aeed-385fc13b5f7e\",\"type\":\"Circle\"},\"selection_glyph\":null,\"view\":{\"id\":\"15b1b123-8595-4cd0-a01b-0f8349651798\",\"type\":\"CDSView\"}},\"id\":\"4824c349-adfb-4a6d-a732-cd668746d219\",\"type\":\"GlyphRenderer\"},{\"attributes\":{\"data_source\":{\"id\":\"0df7d00a-401f-4774-9612-9d39686c3413\",\"type\":\"ColumnDataSource\"},\"glyph\":{\"id\":\"39dfe2a8-f08b-44a5-bf82-6e9e77a821d0\",\"type\":\"Line\"},\"hover_glyph\":null,\"muted_glyph\":null,\"nonselection_glyph\":{\"id\":\"c3b32374-3bf6-4fce-9814-011fad743fab\",\"type\":\"Line\"},\"selection_glyph\":null,\"view\":{\"id\":\"da5f1b68-9772-4c36-b428-9a2dd7451534\",\"type\":\"CDSView\"}},\"id\":\"8574a8d8-5cc0-4f63-b55f-817bc995ffd4\",\"type\":\"GlyphRenderer\"},{\"attributes\":{\"fill_alpha\":{\"value\":0.1},\"fill_color\":{\"value\":\"#1f77b4\"},\"line_alpha\":{\"value\":0.1},\"line_color\":{\"value\":\"#1f77b4\"},\"x\":{\"field\":\"x\"},\"y\":{\"field\":\"y\"}},\"id\":\"13d770a1-f018-4c4a-b582-59574fe1414c\",\"type\":\"Circle\"},{\"attributes\":{\"callback\":null,\"data\":{\"x\":{\"__ndarray__\":\"Z/6w1MPVRUA327g+bRdDQJ+zgltO4kFAogO64eo+QEAt58aJDz48QK+1Ln4VPjdARqCDZK/nMUCEp6a+lOgpQJY1kwhAFiJAUuMSx2A2GkAEE49+e94UQOIA5SVytBFADd9uy85ODUADqlqnv5ADQFJt/hdp+fU/NUlxlleT+j9Cl0D1qCwFQBpmAy9PEAtA7U7oTCjhEECOl182lxQWQBOw1nSl/B1A3F6M3b/UJECOLOSvVMoqQODLe99q+ylAv0UjoUtOJED07m6UPkcgQF1FDZfMYhtAprSDuIQFFkAx7Hb8mygRQNRS1geA4QtApNjOqnIGCEAhhd7ql8oCQMtd+sz4BPo/rOdzwptD8T8n95twpH7nP2Ip3mDx4ds/CVRwecgOzT8Efmq/80XAP80qkA0BJ6O/j/IUIRhZyb+UsDj+6TqDv65NAzUbvec/s25S2+B/9z+Rg3P9KxcAQMMJh8BDmQFAR1ofeQIDAEDuyoSj20b+P+w5RgxnIv0/d4GR3eVp/D+gkQXV0Tz8P+8qDJf6Wfw/i00Sn4Do+z9HvM/h/HX7PybRcDyRCfs/vdwJ8aa9+j9hcQBJTYX6PxtvOXofg/o/EUq2djaa+z8DfOD4FH/8PwjbvRmL//w/cTa5sfsD/T+mNn4Kg0/8P9i/WId2Tfs/tdhCj14Z+j+Dr932s/r4P5ubgZV0cfg/IZusnZ1G+D8G4WficR/4P4tbWHn6v/c/QjS7qP2l9j/Opvj/PnX1P3wFDg0wmPQ//rK86V368z9OkaAQqkH0P2zblTVo8vo/\",\"dtype\":\"float64\",\"shape\":[75]},\"y\":{\"__ndarray__\":\"GhExyth1ND/Sv8nbtpRIP2vylNV0PVE/aTum7souWD/At0SJ8fVgPw3Iuahxymc/MSNhhJWvcD/bTfBN02d3P2zb5nxnaoA/CD5h5MAGhz8NmeH1TyaQP+zrCsc9p5Y/LbKd76fGnz/bLW5ISEmmPww9YvTcQq8/JV2OstnstT8Er5Y7M8G+P0c+r3jqkcU/5h99k6ZBzj88bCIzFzjVP4enV8oyxN0//yH99nXg5D8qOpLLf0jtP5kqGJXUifQ/c9cS8kHP/D+/DpwzojQEQIEmwoanVwxA4lgXt9HgE0BSSZ2AJuIbQAMJih9jjiNA5q4l5INuK0AwTKYKRj0zQNv5fmq8/DpAaCJseHrtQkB/+zpwzoxKQM3MzMzMeFJAZmZmZmZqWEAAAAAAAFxeQM3MzMzMJmJAmpmZmZkfZUBmZmZmZhhoQDMzMzMzEWtAAAAAAAAKbkBmZmZmZoFwQM3MzMzM/XFAMzMzMzN6c0CamZmZmfZ0QAAAAAAAc3ZAZmZmZmbvd0DNzMzMzGt5QDMzMzMz6HpAmpmZmZlkfEAAAAAAAOF9QGZmZmZmXX9AZmZmZuZsgECamZmZGSuBQM3MzMxM6YFAAAAAAICngkAzMzMzs2WDQGZmZmbmI4RAmpmZmRnihEDNzMzMTKCFQAAAAACAXoZAMzMzM7Mch0BmZmZm5tqHQJqZmZkZmYhAzczMzExXiUAAAAAAgBWKQDMzMzOz04pAZmZmZuaRi0CamZmZGVCMQM3MzMxMDo1AAAAAAIDMjUAzMzMzs4qOQGZmZmbmSI9A\",\"dtype\":\"float64\",\"shape\":[75]}},\"selected\":{\"id\":\"333ef058-c6d4-4860-a773-699903ef7ba2\",\"type\":\"Selection\"},\"selection_policy\":{\"id\":\"9eec7c19-4761-48ce-8cd8-cd2ce4492e30\",\"type\":\"UnionRenderers\"}},\"id\":\"171e5976-703b-4e26-949a-d48c06f4d8dd\",\"type\":\"ColumnDataSource\"},{\"attributes\":{\"callback\":null,\"end\":0.505887821904263,\"start\":-1.3812343705219632},\"id\":\"ef6115ef-ea05-4729-ac68-dac110f8d4cd\",\"type\":\"Range1d\"},{\"attributes\":{\"callback\":null,\"end\":0.01,\"start\":1020},\"id\":\"daf392f9-3a3a-433d-9ccb-63381ef3dd68\",\"type\":\"Range1d\"},{\"attributes\":{\"source\":{\"id\":\"e565d516-99fe-416a-9567-e973bd153a2c\",\"type\":\"ColumnDataSource\"}},\"id\":\"bafcad32-c95e-4b47-8f5b-0814dbd9a8d8\",\"type\":\"CDSView\"},{\"attributes\":{\"above\":[{\"id\":\"f821b574-7218-437a-ba27-ed2cbddd203d\",\"type\":\"Legend\"}],\"below\":[{\"id\":\"70c176fb-e815-4d16-88f9-154b25973fe1\",\"type\":\"LinearAxis\"}],\"left\":[{\"id\":\"7c9cc4ed-e069-4b88-8728-15534cb9cd5b\",\"type\":\"LogAxis\"}],\"plot_width\":300,\"renderers\":[{\"id\":\"70c176fb-e815-4d16-88f9-154b25973fe1\",\"type\":\"LinearAxis\"},{\"id\":\"526997b1-632d-477d-9954-a0df808efa39\",\"type\":\"Grid\"},{\"id\":\"7c9cc4ed-e069-4b88-8728-15534cb9cd5b\",\"type\":\"LogAxis\"},{\"id\":\"84207886-e872-4569-b46d-1c549bdba9b7\",\"type\":\"Grid\"},{\"id\":\"693e7a18-cc4d-4356-aa25-564f9b1e465b\",\"type\":\"BoxAnnotation\"},{\"id\":\"8574a8d8-5cc0-4f63-b55f-817bc995ffd4\",\"type\":\"GlyphRenderer\"},{\"id\":\"5c8515ea-7f90-448d-a011-71ccd4d19f03\",\"type\":\"GlyphRenderer\"},{\"id\":\"42c012dd-8d31-4837-908e-4f5ce8cf9b9a\",\"type\":\"GlyphRenderer\"},{\"id\":\"f821b574-7218-437a-ba27-ed2cbddd203d\",\"type\":\"Legend\"}],\"title\":{\"id\":\"880c7a8d-2692-4984-883b-b1423573c955\",\"type\":\"Title\"},\"toolbar\":{\"id\":\"b0676863-053e-4dbf-b542-c174ed871a95\",\"type\":\"Toolbar\"},\"toolbar_location\":null,\"x_range\":{\"id\":\"0c64a41e-a471-4be1-a703-3bc33ff38308\",\"type\":\"Range1d\"},\"x_scale\":{\"id\":\"df7cbebc-3f91-42fb-bf64-272060043167\",\"type\":\"LinearScale\"},\"y_range\":{\"id\":\"1b5212fc-68e5-42b8-85a1-cc79590c4485\",\"type\":\"Range1d\"},\"y_scale\":{\"id\":\"d81aa2ba-72b3-4da8-b13a-a39bf4cfccb3\",\"type\":\"LogScale\"}},\"id\":\"e04f1f3f-69d4-43d0-bc0d-9dd71a9ac4f2\",\"subtype\":\"Figure\",\"type\":\"Plot\"},{\"attributes\":{\"callback\":null,\"data\":{\"x\":{\"__ndarray__\":\"Z/6w1MPVRUA327g+bRdDQJ+zgltO4kFAogO64eo+QEAt58aJDz48QK+1Ln4VPjdARqCDZK/nMUCEp6a+lOgpQJY1kwhAFiJAUuMSx2A2GkAEE49+e94UQOIA5SVytBFADd9uy85ODUADqlqnv5ADQFJt/hdp+fU/NUlxlleT+j9Cl0D1qCwFQBpmAy9PEAtA7U7oTCjhEECOl182lxQWQBOw1nSl/B1A3F6M3b/UJECOLOSvVMoqQODLe99q+ylAv0UjoUtOJED07m6UPkcgQF1FDZfMYhtAprSDuIQFFkAx7Hb8mygRQNRS1geA4QtApNjOqnIGCEAhhd7ql8oCQMtd+sz4BPo/rOdzwptD8T8n95twpH7nP2Ip3mDx4ds/CVRwecgOzT8Efmq/80XAP80qkA0BJ6O/j/IUIRhZyb+UsDj+6TqDv65NAzUbvec/s25S2+B/9z+Rg3P9KxcAQMMJh8BDmQFAR1ofeQIDAEDuyoSj20b+P+w5RgxnIv0/d4GR3eVp/D+gkQXV0Tz8P+8qDJf6Wfw/i00Sn4Do+z9HvM/h/HX7PybRcDyRCfs/vdwJ8aa9+j9hcQBJTYX6PxtvOXofg/o/EUq2djaa+z8DfOD4FH/8PwjbvRmL//w/cTa5sfsD/T+mNn4Kg0/8P9i/WId2Tfs/tdhCj14Z+j+Dr932s/r4P5ubgZV0cfg/IZusnZ1G+D8G4WficR/4P4tbWHn6v/c/QjS7qP2l9j/Opvj/PnX1P3wFDg0wmPQ//rK86V368z9OkaAQqkH0P2zblTVo8vo/\",\"dtype\":\"float64\",\"shape\":[75]},\"y\":{\"__ndarray__\":\"GhExyth1ND/Sv8nbtpRIP2vylNV0PVE/aTum7souWD/At0SJ8fVgPw3Iuahxymc/MSNhhJWvcD/bTfBN02d3P2zb5nxnaoA/CD5h5MAGhz8NmeH1TyaQP+zrCsc9p5Y/LbKd76fGnz/bLW5ISEmmPww9YvTcQq8/JV2OstnstT8Er5Y7M8G+P0c+r3jqkcU/5h99k6ZBzj88bCIzFzjVP4enV8oyxN0//yH99nXg5D8qOpLLf0jtP5kqGJXUifQ/c9cS8kHP/D+/DpwzojQEQIEmwoanVwxA4lgXt9HgE0BSSZ2AJuIbQAMJih9jjiNA5q4l5INuK0AwTKYKRj0zQNv5fmq8/DpAaCJseHrtQkB/+zpwzoxKQM3MzMzMeFJAZmZmZmZqWEAAAAAAAFxeQM3MzMzMJmJAmpmZmZkfZUBmZmZmZhhoQDMzMzMzEWtAAAAAAAAKbkBmZmZmZoFwQM3MzMzM/XFAMzMzMzN6c0CamZmZmfZ0QAAAAAAAc3ZAZmZmZmbvd0DNzMzMzGt5QDMzMzMz6HpAmpmZmZlkfEAAAAAAAOF9QGZmZmZmXX9AZmZmZuZsgECamZmZGSuBQM3MzMxM6YFAAAAAAICngkAzMzMzs2WDQGZmZmbmI4RAmpmZmRnihEDNzMzMTKCFQAAAAACAXoZAMzMzM7Mch0BmZmZm5tqHQJqZmZkZmYhAzczMzExXiUAAAAAAgBWKQDMzMzOz04pAZmZmZuaRi0CamZmZGVCMQM3MzMxMDo1AAAAAAIDMjUAzMzMzs4qOQGZmZmbmSI9A\",\"dtype\":\"float64\",\"shape\":[75]}},\"selected\":{\"id\":\"eb8d8bd8-8eb6-42b2-a34e-b5a73e566b93\",\"type\":\"Selection\"},\"selection_policy\":{\"id\":\"a150012d-4e61-448f-baa8-7a46c50f814e\",\"type\":\"UnionRenderers\"}},\"id\":\"0df7d00a-401f-4774-9612-9d39686c3413\",\"type\":\"ColumnDataSource\"},{\"attributes\":{},\"id\":\"c4a695e2-16f3-4e8f-a2ea-291ed92858a0\",\"type\":\"SaveTool\"},{\"attributes\":{\"above\":[{\"id\":\"51140f65-baa0-4c37-8cb7-3af2bfe465c1\",\"type\":\"Legend\"}],\"below\":[{\"id\":\"72d904c5-daeb-4c65-bb24-4f7c45edf518\",\"type\":\"LinearAxis\"}],\"left\":[{\"id\":\"71df746b-5fad-422f-8d21-131960c2f23f\",\"type\":\"LinearAxis\"}],\"plot_width\":300,\"renderers\":[{\"id\":\"72d904c5-daeb-4c65-bb24-4f7c45edf518\",\"type\":\"LinearAxis\"},{\"id\":\"2267e65f-a819-4266-9dc7-d52bfdb81b0f\",\"type\":\"Grid\"},{\"id\":\"71df746b-5fad-422f-8d21-131960c2f23f\",\"type\":\"LinearAxis\"},{\"id\":\"269acb23-a5cf-4bf7-8fe7-acf77aa0a7c3\",\"type\":\"Grid\"},{\"id\":\"ac167556-dd4a-4a85-ae98-a574b4e447e2\",\"type\":\"BoxAnnotation\"},{\"id\":\"f354b2d5-7ea6-4fb0-89ec-cb5767735a23\",\"type\":\"GlyphRenderer\"},{\"id\":\"730d2378-26d6-4208-b758-029dd15c0c1e\",\"type\":\"GlyphRenderer\"},{\"id\":\"68ece748-a3e6-4985-92f8-7aeb732ed88d\",\"type\":\"GlyphRenderer\"},{\"id\":\"51140f65-baa0-4c37-8cb7-3af2bfe465c1\",\"type\":\"Legend\"}],\"title\":{\"id\":\"3cf2feec-27ef-4cb5-95f9-d88368ad1f43\",\"type\":\"Title\"},\"toolbar\":{\"id\":\"2e1d5b66-6dac-4306-9f71-78fd551a0392\",\"type\":\"Toolbar\"},\"toolbar_location\":null,\"x_range\":{\"id\":\"fa581c7b-bdcb-4958-b37f-3d28551b6dd9\",\"type\":\"Range1d\"},\"x_scale\":{\"id\":\"049976f9-9f40-4398-9302-04ff643bda06\",\"type\":\"LinearScale\"},\"y_range\":{\"id\":\"de505834-9dc7-406e-ad7b-55eb5704344b\",\"type\":\"Range1d\"},\"y_scale\":{\"id\":\"555b458e-2489-454a-b9d4-3a5693a55a39\",\"type\":\"LinearScale\"}},\"id\":\"18c4e3da-34a1-4d07-9e38-d02b00831f15\",\"subtype\":\"Figure\",\"type\":\"Plot\"},{\"attributes\":{\"data_source\":{\"id\":\"b442771f-a1b1-439e-a105-682a11608bb7\",\"type\":\"ColumnDataSource\"},\"glyph\":{\"id\":\"cc353123-3729-4b01-a990-64c88949dd27\",\"type\":\"Line\"},\"hover_glyph\":null,\"muted_glyph\":null,\"nonselection_glyph\":{\"id\":\"11fe45e7-29af-4946-a6a0-429ff03e91b2\",\"type\":\"Line\"},\"selection_glyph\":null,\"view\":{\"id\":\"970d0814-b7d2-41a3-b76f-006533af8a97\",\"type\":\"CDSView\"}},\"id\":\"42c012dd-8d31-4837-908e-4f5ce8cf9b9a\",\"type\":\"GlyphRenderer\"},{\"attributes\":{\"num_minor_ticks\":10},\"id\":\"c01bc1f0-e791-4473-bfc7-54d77bef44d0\",\"type\":\"LogTicker\"},{\"attributes\":{},\"id\":\"20644362-879c-447f-a869-f6203c5bd638\",\"type\":\"SaveTool\"},{\"attributes\":{\"overlay\":{\"id\":\"1aa4a54a-4043-4a27-a8d9-fd4d283c81a3\",\"type\":\"BoxAnnotation\"}},\"id\":\"b4c49138-71a3-40a3-9192-3cb7be1daa1a\",\"type\":\"BoxZoomTool\"},{\"attributes\":{},\"id\":\"555b458e-2489-454a-b9d4-3a5693a55a39\",\"type\":\"LinearScale\"},{\"attributes\":{\"callback\":null,\"data\":{\"x\":{\"__ndarray__\":\"cm1sTMT3VEDEyvjosEJHQOKI6DjzCUNArgQWV9awPkB9Lm8XG3M4QEz+Qv6iYzNA7eV8HaPLLkCX1QHyTpMoQFBmYSYetiNAUB04GtGpH0AmFyVE5j8ZQJca9QPGqBNALJP+OOHHDEBNxaf7QF8AQKtislomWuw/cW2dcO6A9T/uJJvfPu0EQIaQLTI/JQ1AxGiII+PmEkCJvfVeuCsYQD6ZBhGbHB9AXQw69DTYJEAsubcwKucqQNuT9D5OmipAJyi3szEJJUBlNebh5WkgQDDcPHBr2xlArtlANXuQFEBdJadFHckQQI2Avh0ZsQtAjYiwt1rsBUCL0SDoVBgAQK6C0nEEjvc/CggLSme58T9sXU2orFPnP0v0JYz9Gdg/vT38vxYczD9nBQTe6kHHP1IhkEXJwKo/8OZnhCVAub+xtVgCpmqzP6DUpY6g0+k/PKK3T1h4+D8RTDjQc1EAQG/dAQs7TwJAQt2eHpPLAEBWEh074x//PyCap9ZSGf4/rEzaTySm/T+7aXhHRmr9P688KeqeNP0/ruZ4EemD/D8olrZcn9T7P0+vNc9hW/s/i9VVL+4P+z+0NzC24uz6P8731Kza8vo/xFf4SHzq+z+gYyHpvHb8P68ROkiFevw/BAjYdCga/D8AUp8VbW77P3JrF/nKmvo/qCQeGfq++T/dplwHJfn4P2G4p+Uva/g/OzZ0RqMZ+D8dmn/iar73P/OuA7Ka8PY/gaaeQHGn9T9hkyjAH1L0P3aZGhdAU/M/n8VP/g7P8j+90HxHNvfyPwhNBtgrqvk/\",\"dtype\":\"float64\",\"shape\":[75]},\"y\":{\"__ndarray__\":\"GhExyth1ND/Sv8nbtpRIP2vylNV0PVE/aTum7souWD/At0SJ8fVgPw3Iuahxymc/MSNhhJWvcD/bTfBN02d3P2zb5nxnaoA/CD5h5MAGhz8NmeH1TyaQP+zrCsc9p5Y/LbKd76fGnz/bLW5ISEmmPww9YvTcQq8/JV2OstnstT8Er5Y7M8G+P0c+r3jqkcU/5h99k6ZBzj88bCIzFzjVP4enV8oyxN0//yH99nXg5D8qOpLLf0jtP5kqGJXUifQ/c9cS8kHP/D+/DpwzojQEQIEmwoanVwxA4lgXt9HgE0BSSZ2AJuIbQAMJih9jjiNA5q4l5INuK0AwTKYKRj0zQNv5fmq8/DpAaCJseHrtQkB/+zpwzoxKQM3MzMzMeFJAZmZmZmZqWEAAAAAAAFxeQM3MzMzMJmJAmpmZmZkfZUBmZmZmZhhoQDMzMzMzEWtAAAAAAAAKbkBmZmZmZoFwQM3MzMzM/XFAMzMzMzN6c0CamZmZmfZ0QAAAAAAAc3ZAZmZmZmbvd0DNzMzMzGt5QDMzMzMz6HpAmpmZmZlkfEAAAAAAAOF9QGZmZmZmXX9AZmZmZuZsgECamZmZGSuBQM3MzMxM6YFAAAAAAICngkAzMzMzs2WDQGZmZmbmI4RAmpmZmRnihEDNzMzMTKCFQAAAAACAXoZAMzMzM7Mch0BmZmZm5tqHQJqZmZkZmYhAzczMzExXiUAAAAAAgBWKQDMzMzOz04pAZmZmZuaRi0CamZmZGVCMQM3MzMxMDo1AAAAAAIDMjUAzMzMzs4qOQGZmZmbmSI9A\",\"dtype\":\"float64\",\"shape\":[75]}},\"selected\":{\"id\":\"c18bf873-d525-489d-9c7b-5e5726a878a4\",\"type\":\"Selection\"},\"selection_policy\":{\"id\":\"49ab4c2f-3e3a-488c-9004-cf37af4164f7\",\"type\":\"UnionRenderers\"}},\"id\":\"92524073-6286-4479-b70c-76c09fd73354\",\"type\":\"ColumnDataSource\"},{\"attributes\":{\"active_drag\":\"auto\",\"active_inspect\":\"auto\",\"active_scroll\":\"auto\",\"active_tap\":\"auto\",\"tools\":[{\"id\":\"90ce6a68-12e6-4092-94be-2f8e389cd1c2\",\"type\":\"PanTool\"},{\"id\":\"cb785d3b-4502-4ea2-b121-5b09fb0e7a6f\",\"type\":\"WheelZoomTool\"},{\"id\":\"1d665246-f5d9-4ba1-8719-4db41f896260\",\"type\":\"BoxZoomTool\"},{\"id\":\"20644362-879c-447f-a869-f6203c5bd638\",\"type\":\"SaveTool\"},{\"id\":\"eb77b072-6e8b-4c93-8070-93c1dac23c00\",\"type\":\"ResetTool\"},{\"id\":\"11a24b85-7a7c-4676-8675-f5a2c6449aa4\",\"type\":\"HelpTool\"}]},\"id\":\"2e1d5b66-6dac-4306-9f71-78fd551a0392\",\"type\":\"Toolbar\"},{\"attributes\":{},\"id\":\"3c944cab-b4ae-4723-99a4-8d85143ab468\",\"type\":\"UnionRenderers\"},{\"attributes\":{},\"id\":\"895ef04a-1f68-4e06-b6e7-737a68459257\",\"type\":\"WheelZoomTool\"},{\"attributes\":{\"fill_alpha\":{\"value\":0.1},\"fill_color\":{\"value\":\"#1f77b4\"},\"line_alpha\":{\"value\":0.1},\"line_color\":{\"value\":\"#1f77b4\"},\"x\":{\"field\":\"x\"},\"y\":{\"field\":\"y\"}},\"id\":\"c5ae005e-9933-4526-b1c3-6389582bb214\",\"type\":\"Circle\"},{\"attributes\":{\"items\":[{\"id\":\"c17631ef-278d-4d23-811a-c030d5c4451e\",\"type\":\"LegendItem\"},{\"id\":\"1dc56696-c379-4498-badf-5f95b9bf8eec\",\"type\":\"LegendItem\"}],\"label_text_font_size\":{\"value\":\"8pt\"},\"location\":\"top_center\",\"orientation\":\"horizontal\",\"plot\":{\"id\":\"18c4e3da-34a1-4d07-9e38-d02b00831f15\",\"subtype\":\"Figure\",\"type\":\"Plot\"}},\"id\":\"51140f65-baa0-4c37-8cb7-3af2bfe465c1\",\"type\":\"Legend\"},{\"attributes\":{\"source\":{\"id\":\"0df7d00a-401f-4774-9612-9d39686c3413\",\"type\":\"ColumnDataSource\"}},\"id\":\"da5f1b68-9772-4c36-b428-9a2dd7451534\",\"type\":\"CDSView\"},{\"attributes\":{\"callback\":null,\"data\":{\"x\":{\"__ndarray__\":\"fNwnxMQZRMAyvv+oDq0gwDNUXdZNegLARyngxfbP/D+Oxb2So1cOQBq7Xf+T0w5Agmopru4OBEDUHk3KXFTlP5cL49zh/em/AOiUTMHN9b+IEFgWq4Xxv1ObAeE9Rd+/S3wJTrLdsD+6JZdd9YvZP+7vlKpXMd8/Dm9Pl6RJ1D/RKbnSCrWfP1xTURmAp9C/os4AtdYt4L/qL7FECbngv6CS/sJZ/9G/CAlsbbWoe7/TnYzTgNWsv2//GO9r3NO/FE18UsJc178LOaO7plOxv9qSBm0Sdtg/eK8tNJhQ1z/7tPGzrd+3Pykj6Qt1M5g/vIDymL/Q0D+ynO0VGJLVP9/YPtmit8M/tBfI5eFynb9G3Uwn5Ht1P7WowaWeP64/MMqCLjdWfj+KHWZ63O+rvxQmkCnl87a/MP7BvQpyub/Dyx9CA9K1v5c3FM0qtLC/KnGmjO4Or7/jP2Ri6SOdv2l1Wk/pvra/PV/wrxQSub/27Ajz8iCrv3YGLEx53a6/SrOMJOfDs7/KgS0nR9eyvwc4omOKVKu/OCTTTA5to7+heLa5nqiXv46KN7EkdJS/iDP+ks+RlL9KlPFLW+WZv3Us4qbM7pu/7myDkHQRlL9sxDB+H7BgP8gqeTC6oKA/180lnGc6rT/zlNybviKsP9qMKshxVaY/ugMtiR2Zlj+AcYoQ+O44P8DrjGe/Elk/nHIynCt9hj+guhH6v0GYPzKTler466k/jLiRA43Rrz/QNgH98zGyP17ANl//TrQ/B9bOtu60sj8aCTySPKe0Pz/m+NjFg7Q/\",\"dtype\":\"float64\",\"shape\":[75]},\"y\":{\"__ndarray__\":\"GhExyth1ND/Sv8nbtpRIP2vylNV0PVE/aTum7souWD/At0SJ8fVgPw3Iuahxymc/MSNhhJWvcD/bTfBN02d3P2zb5nxnaoA/CD5h5MAGhz8NmeH1TyaQP+zrCsc9p5Y/LbKd76fGnz/bLW5ISEmmPww9YvTcQq8/JV2OstnstT8Er5Y7M8G+P0c+r3jqkcU/5h99k6ZBzj88bCIzFzjVP4enV8oyxN0//yH99nXg5D8qOpLLf0jtP5kqGJXUifQ/c9cS8kHP/D+/DpwzojQEQIEmwoanVwxA4lgXt9HgE0BSSZ2AJuIbQAMJih9jjiNA5q4l5INuK0AwTKYKRj0zQNv5fmq8/DpAaCJseHrtQkB/+zpwzoxKQM3MzMzMeFJAZmZmZmZqWEAAAAAAAFxeQM3MzMzMJmJAmpmZmZkfZUBmZmZmZhhoQDMzMzMzEWtAAAAAAAAKbkBmZmZmZoFwQM3MzMzM/XFAMzMzMzN6c0CamZmZmfZ0QAAAAAAAc3ZAZmZmZmbvd0DNzMzMzGt5QDMzMzMz6HpAmpmZmZlkfEAAAAAAAOF9QGZmZmZmXX9AZmZmZuZsgECamZmZGSuBQM3MzMxM6YFAAAAAAICngkAzMzMzs2WDQGZmZmbmI4RAmpmZmRnihEDNzMzMTKCFQAAAAACAXoZAMzMzM7Mch0BmZmZm5tqHQJqZmZkZmYhAzczMzExXiUAAAAAAgBWKQDMzMzOz04pAZmZmZuaRi0CamZmZGVCMQM3MzMxMDo1AAAAAAIDMjUAzMzMzs4qOQGZmZmbmSI9A\",\"dtype\":\"float64\",\"shape\":[75]}},\"selected\":{\"id\":\"2b6ec153-3541-48c2-bc5b-f2175836a6ab\",\"type\":\"Selection\"},\"selection_policy\":{\"id\":\"7bc5ae22-a89b-4620-8115-d8855ad11a41\",\"type\":\"UnionRenderers\"}},\"id\":\"beb62b92-71b2-4e65-8a06-b20230763a56\",\"type\":\"ColumnDataSource\"},{\"attributes\":{\"active_drag\":\"auto\",\"active_inspect\":\"auto\",\"active_scroll\":\"auto\",\"active_tap\":\"auto\",\"tools\":[{\"id\":\"cc094cba-d5a5-4622-a248-bd08755cce34\",\"type\":\"PanTool\"},{\"id\":\"ee7a7b3a-6943-4eb3-b3db-279915542aeb\",\"type\":\"WheelZoomTool\"},{\"id\":\"f4f2035d-3983-412d-acba-daba51c8068a\",\"type\":\"BoxZoomTool\"},{\"id\":\"065155c7-4a7f-44f1-aef8-4cffd5c85b6e\",\"type\":\"SaveTool\"},{\"id\":\"8807cf64-2029-4031-8b9a-6cae8e29c6c5\",\"type\":\"ResetTool\"},{\"id\":\"4ca79bd1-86e7-449f-8428-ff83a755fae8\",\"type\":\"HelpTool\"}]},\"id\":\"b0676863-053e-4dbf-b542-c174ed871a95\",\"type\":\"Toolbar\"},{\"attributes\":{},\"id\":\"556fccf9-168e-47b3-9d4f-54e673ee39bf\",\"type\":\"LogScale\"},{\"attributes\":{\"line_alpha\":0.6,\"line_color\":\"#377eb8\",\"line_dash\":[6],\"line_width\":5,\"x\":{\"field\":\"x\"},\"y\":{\"field\":\"y\"}},\"id\":\"fb19aad8-307c-4607-aa14-c8a7ca682b0d\",\"type\":\"Line\"},{\"attributes\":{\"callback\":null,\"end\":2.3135540170821103,\"start\":-0.22289862363310997},\"id\":\"fa581c7b-bdcb-4958-b37f-3d28551b6dd9\",\"type\":\"Range1d\"},{\"attributes\":{\"bottom_units\":\"screen\",\"fill_alpha\":{\"value\":0.5},\"fill_color\":{\"value\":\"lightgrey\"},\"left_units\":\"screen\",\"level\":\"overlay\",\"line_alpha\":{\"value\":1.0},\"line_color\":{\"value\":\"black\"},\"line_dash\":[4,4],\"line_width\":{\"value\":2},\"plot\":null,\"render_mode\":\"css\",\"right_units\":\"screen\",\"top_units\":\"screen\"},\"id\":\"1aa4a54a-4043-4a27-a8d9-fd4d283c81a3\",\"type\":\"BoxAnnotation\"},{\"attributes\":{\"line_alpha\":0.6,\"line_color\":\"#377eb8\",\"line_dash\":[6],\"line_width\":5,\"x\":{\"field\":\"x\"},\"y\":{\"field\":\"y\"}},\"id\":\"39dfe2a8-f08b-44a5-bf82-6e9e77a821d0\",\"type\":\"Line\"},{\"attributes\":{\"overlay\":{\"id\":\"693e7a18-cc4d-4356-aa25-564f9b1e465b\",\"type\":\"BoxAnnotation\"}},\"id\":\"f4f2035d-3983-412d-acba-daba51c8068a\",\"type\":\"BoxZoomTool\"},{\"attributes\":{},\"id\":\"a470c02f-cdfc-4d6d-8a6d-b105bba9317c\",\"type\":\"Selection\"},{\"attributes\":{},\"id\":\"d81aa2ba-72b3-4da8-b13a-a39bf4cfccb3\",\"type\":\"LogScale\"},{\"attributes\":{},\"id\":\"7bc5ae22-a89b-4620-8115-d8855ad11a41\",\"type\":\"UnionRenderers\"},{\"attributes\":{},\"id\":\"2fbb71cc-d131-4910-a914-0400bd5b7a08\",\"type\":\"BasicTicker\"},{\"attributes\":{},\"id\":\"9866ebf1-c1e3-4144-944e-47735c3c6f67\",\"type\":\"UnionRenderers\"},{\"attributes\":{\"ticker\":null},\"id\":\"39ecd4ba-e5fe-490d-9d0b-d0232d500d14\",\"type\":\"LogTickFormatter\"},{\"attributes\":{},\"id\":\"9306b4f4-7a21-492d-96ad-b15480fcbab1\",\"type\":\"BasicTickFormatter\"},{\"attributes\":{\"line_alpha\":0.1,\"line_color\":\"#1f77b4\",\"line_dash\":[6],\"line_width\":5,\"x\":{\"field\":\"x\"},\"y\":{\"field\":\"y\"}},\"id\":\"05595674-db4d-4e73-b997-a78d18dd077d\",\"type\":\"Line\"},{\"attributes\":{},\"id\":\"3284c18b-7d21-4942-9f66-4b6f074282a0\",\"type\":\"Selection\"},{\"attributes\":{},\"id\":\"2b6ec153-3541-48c2-bc5b-f2175836a6ab\",\"type\":\"Selection\"},{\"attributes\":{\"label\":{\"value\":\"CLIRAD (single-run) - CRD\"},\"renderers\":[{\"id\":\"4824c349-adfb-4a6d-a732-cd668746d219\",\"type\":\"GlyphRenderer\"},{\"id\":\"5f8fb250-1132-4330-aaae-ee4849ada379\",\"type\":\"GlyphRenderer\"}]},\"id\":\"7095d7c6-97bc-4964-87b6-7c9c525aaaf5\",\"type\":\"LegendItem\"},{\"attributes\":{\"ticker\":null},\"id\":\"ef88d57d-9848-4234-badb-b0db07f0e96d\",\"type\":\"LogTickFormatter\"},{\"attributes\":{\"dimension\":1,\"plot\":{\"id\":\"e7a232df-c8e9-4286-8884-df0665c2e63e\",\"subtype\":\"Figure\",\"type\":\"Plot\"},\"ticker\":{\"id\":\"c01bc1f0-e791-4473-bfc7-54d77bef44d0\",\"type\":\"LogTicker\"}},\"id\":\"38d1af3b-a935-4cf9-ad6e-2db1ff8c2c7f\",\"type\":\"Grid\"},{\"attributes\":{\"above\":[{\"id\":\"d76448db-58b7-47af-9ce7-fd5bc9d507af\",\"type\":\"Legend\"}],\"below\":[{\"id\":\"003f5d62-6775-46cd-8e0e-51d60dbbdcf4\",\"type\":\"LinearAxis\"}],\"left\":[{\"id\":\"72bb284d-01ec-4dd7-a593-890e7ff72338\",\"type\":\"LogAxis\"}],\"plot_width\":300,\"renderers\":[{\"id\":\"003f5d62-6775-46cd-8e0e-51d60dbbdcf4\",\"type\":\"LinearAxis\"},{\"id\":\"90984d4b-8417-41d5-b069-5dcb2a076595\",\"type\":\"Grid\"},{\"id\":\"72bb284d-01ec-4dd7-a593-890e7ff72338\",\"type\":\"LogAxis\"},{\"id\":\"38d1af3b-a935-4cf9-ad6e-2db1ff8c2c7f\",\"type\":\"Grid\"},{\"id\":\"1aa4a54a-4043-4a27-a8d9-fd4d283c81a3\",\"type\":\"BoxAnnotation\"},{\"id\":\"4824c349-adfb-4a6d-a732-cd668746d219\",\"type\":\"GlyphRenderer\"},{\"id\":\"5f8fb250-1132-4330-aaae-ee4849ada379\",\"type\":\"GlyphRenderer\"},{\"id\":\"d76448db-58b7-47af-9ce7-fd5bc9d507af\",\"type\":\"Legend\"}],\"title\":{\"id\":\"4721da97-8586-469c-a968-ab492e1ee632\",\"type\":\"Title\"},\"toolbar\":{\"id\":\"50e00036-6464-4553-bb81-12fa26b72387\",\"type\":\"Toolbar\"},\"toolbar_location\":null,\"x_range\":{\"id\":\"ef6115ef-ea05-4729-ac68-dac110f8d4cd\",\"type\":\"Range1d\"},\"x_scale\":{\"id\":\"b566e818-b0ac-4aa1-9c77-4bf8797c6aba\",\"type\":\"LinearScale\"},\"y_range\":{\"id\":\"daf392f9-3a3a-433d-9ccb-63381ef3dd68\",\"type\":\"Range1d\"},\"y_scale\":{\"id\":\"556fccf9-168e-47b3-9d4f-54e673ee39bf\",\"type\":\"LogScale\"}},\"id\":\"e7a232df-c8e9-4286-8884-df0665c2e63e\",\"subtype\":\"Figure\",\"type\":\"Plot\"},{\"attributes\":{},\"id\":\"cc094cba-d5a5-4622-a248-bd08755cce34\",\"type\":\"PanTool\"},{\"attributes\":{},\"id\":\"49fe7bc8-65ed-4094-b95d-d3b53563d957\",\"type\":\"BasicTickFormatter\"},{\"attributes\":{},\"id\":\"ee7a7b3a-6943-4eb3-b3db-279915542aeb\",\"type\":\"WheelZoomTool\"},{\"attributes\":{\"line_alpha\":0.1,\"line_color\":\"#1f77b4\",\"line_width\":1.5,\"x\":{\"field\":\"x\"},\"y\":{\"field\":\"y\"}},\"id\":\"11fe45e7-29af-4946-a6a0-429ff03e91b2\",\"type\":\"Line\"},{\"attributes\":{\"dimension\":1,\"plot\":{\"id\":\"18c4e3da-34a1-4d07-9e38-d02b00831f15\",\"subtype\":\"Figure\",\"type\":\"Plot\"},\"ticker\":{\"id\":\"dfe3be3e-7146-446d-b0b9-1212d2eeb57e\",\"type\":\"BasicTicker\"}},\"id\":\"269acb23-a5cf-4bf7-8fe7-acf77aa0a7c3\",\"type\":\"Grid\"},{\"attributes\":{\"label\":{\"value\":\"CLIRAD (single-run)\"},\"renderers\":[{\"id\":\"8574a8d8-5cc0-4f63-b55f-817bc995ffd4\",\"type\":\"GlyphRenderer\"}]},\"id\":\"0443d43a-17ba-44bb-88e0-b816176d9678\",\"type\":\"LegendItem\"},{\"attributes\":{},\"id\":\"2db832bf-5559-4d72-a0f6-1f178d4867b7\",\"type\":\"Selection\"},{\"attributes\":{\"plot\":null,\"text\":\"\"},\"id\":\"880c7a8d-2692-4984-883b-b1423573c955\",\"type\":\"Title\"},{\"attributes\":{},\"id\":\"d8e8a800-dfcf-4255-b847-38ead256cc1e\",\"type\":\"BasicTicker\"},{\"attributes\":{\"label\":{\"value\":\"CRD\"},\"renderers\":[{\"id\":\"5c8515ea-7f90-448d-a011-71ccd4d19f03\",\"type\":\"GlyphRenderer\"},{\"id\":\"42c012dd-8d31-4837-908e-4f5ce8cf9b9a\",\"type\":\"GlyphRenderer\"}]},\"id\":\"2ac83db6-a203-40e8-b536-1d7ea965b808\",\"type\":\"LegendItem\"},{\"attributes\":{},\"id\":\"dfe3be3e-7146-446d-b0b9-1212d2eeb57e\",\"type\":\"BasicTicker\"},{\"attributes\":{\"source\":{\"id\":\"06bcf076-6c68-417b-afa0-d716e848abe4\",\"type\":\"ColumnDataSource\"}},\"id\":\"2c1681ef-dec1-41be-b9ce-127043bd1cba\",\"type\":\"CDSView\"},{\"attributes\":{\"line_color\":\"#4daf4a\",\"line_width\":1.5,\"x\":{\"field\":\"x\"},\"y\":{\"field\":\"y\"}},\"id\":\"cc353123-3729-4b01-a990-64c88949dd27\",\"type\":\"Line\"},{\"attributes\":{\"children\":[{\"id\":\"18c4e3da-34a1-4d07-9e38-d02b00831f15\",\"subtype\":\"Figure\",\"type\":\"Plot\"},{\"id\":\"e04f1f3f-69d4-43d0-bc0d-9dd71a9ac4f2\",\"subtype\":\"Figure\",\"type\":\"Plot\"},{\"id\":\"e7a232df-c8e9-4286-8884-df0665c2e63e\",\"subtype\":\"Figure\",\"type\":\"Plot\"}]},\"id\":\"ca999561-816e-4e8b-8bad-9d0ef13114ff\",\"type\":\"Row\"},{\"attributes\":{\"axis_label\":\"cooling rate [K/day]\",\"formatter\":{\"id\":\"b02fadf1-8e7e-43bb-9267-a41f579428b1\",\"type\":\"BasicTickFormatter\"},\"plot\":{\"id\":\"e04f1f3f-69d4-43d0-bc0d-9dd71a9ac4f2\",\"subtype\":\"Figure\",\"type\":\"Plot\"},\"ticker\":{\"id\":\"2fbb71cc-d131-4910-a914-0400bd5b7a08\",\"type\":\"BasicTicker\"}},\"id\":\"70c176fb-e815-4d16-88f9-154b25973fe1\",\"type\":\"LinearAxis\"},{\"attributes\":{},\"id\":\"b02fadf1-8e7e-43bb-9267-a41f579428b1\",\"type\":\"BasicTickFormatter\"},{\"attributes\":{\"fill_alpha\":{\"value\":0.7},\"fill_color\":{\"value\":\"#4daf4a\"},\"line_alpha\":{\"value\":0.7},\"line_color\":{\"value\":\"#4daf4a\"},\"x\":{\"field\":\"x\"},\"y\":{\"field\":\"y\"}},\"id\":\"8493ea5c-8aa5-4574-a3a1-9f4c2d771667\",\"type\":\"Circle\"},{\"attributes\":{\"axis_label\":\"pressure [mb]\",\"formatter\":{\"id\":\"39ecd4ba-e5fe-490d-9d0b-d0232d500d14\",\"type\":\"LogTickFormatter\"},\"plot\":{\"id\":\"e7a232df-c8e9-4286-8884-df0665c2e63e\",\"subtype\":\"Figure\",\"type\":\"Plot\"},\"ticker\":{\"id\":\"c01bc1f0-e791-4473-bfc7-54d77bef44d0\",\"type\":\"LogTicker\"}},\"id\":\"72bb284d-01ec-4dd7-a593-890e7ff72338\",\"type\":\"LogAxis\"},{\"attributes\":{\"plot\":null,\"text\":\"\"},\"id\":\"3cf2feec-27ef-4cb5-95f9-d88368ad1f43\",\"type\":\"Title\"},{\"attributes\":{\"source\":{\"id\":\"1ffc282f-6176-4148-bacb-fdb826bfdc24\",\"type\":\"ColumnDataSource\"}},\"id\":\"98c30a3d-c62d-4cbc-ac9b-14b09f579cac\",\"type\":\"CDSView\"},{\"attributes\":{},\"id\":\"9eec7c19-4761-48ce-8cd8-cd2ce4492e30\",\"type\":\"UnionRenderers\"},{\"attributes\":{\"axis_label\":\"cooling rate [K/day]\",\"formatter\":{\"id\":\"9306b4f4-7a21-492d-96ad-b15480fcbab1\",\"type\":\"BasicTickFormatter\"},\"plot\":{\"id\":\"18c4e3da-34a1-4d07-9e38-d02b00831f15\",\"subtype\":\"Figure\",\"type\":\"Plot\"},\"ticker\":{\"id\":\"d8e8a800-dfcf-4255-b847-38ead256cc1e\",\"type\":\"BasicTicker\"}},\"id\":\"72d904c5-daeb-4c65-bb24-4f7c45edf518\",\"type\":\"LinearAxis\"},{\"attributes\":{},\"id\":\"df7cbebc-3f91-42fb-bf64-272060043167\",\"type\":\"LinearScale\"},{\"attributes\":{\"bottom_units\":\"screen\",\"fill_alpha\":{\"value\":0.5},\"fill_color\":{\"value\":\"lightgrey\"},\"left_units\":\"screen\",\"level\":\"overlay\",\"line_alpha\":{\"value\":1.0},\"line_color\":{\"value\":\"black\"},\"line_dash\":[4,4],\"line_width\":{\"value\":2},\"plot\":null,\"render_mode\":\"css\",\"right_units\":\"screen\",\"top_units\":\"screen\"},\"id\":\"693e7a18-cc4d-4356-aa25-564f9b1e465b\",\"type\":\"BoxAnnotation\"},{\"attributes\":{},\"id\":\"333ef058-c6d4-4860-a773-699903ef7ba2\",\"type\":\"Selection\"},{\"attributes\":{\"axis_label\":\"pressure [mb]\",\"formatter\":{\"id\":\"49fe7bc8-65ed-4094-b95d-d3b53563d957\",\"type\":\"BasicTickFormatter\"},\"plot\":{\"id\":\"18c4e3da-34a1-4d07-9e38-d02b00831f15\",\"subtype\":\"Figure\",\"type\":\"Plot\"},\"ticker\":{\"id\":\"dfe3be3e-7146-446d-b0b9-1212d2eeb57e\",\"type\":\"BasicTicker\"}},\"id\":\"71df746b-5fad-422f-8d21-131960c2f23f\",\"type\":\"LinearAxis\"},{\"attributes\":{\"data_source\":{\"id\":\"1ffc282f-6176-4148-bacb-fdb826bfdc24\",\"type\":\"ColumnDataSource\"},\"glyph\":{\"id\":\"2a8a5662-1f37-4bfe-9591-ef2ef28b35ab\",\"type\":\"Line\"},\"hover_glyph\":null,\"muted_glyph\":null,\"nonselection_glyph\":{\"id\":\"d9ac19f9-502e-4acc-887c-dc87aa47481d\",\"type\":\"Line\"},\"selection_glyph\":null,\"view\":{\"id\":\"98c30a3d-c62d-4cbc-ac9b-14b09f579cac\",\"type\":\"CDSView\"}},\"id\":\"5f8fb250-1132-4330-aaae-ee4849ada379\",\"type\":\"GlyphRenderer\"},{\"attributes\":{},\"id\":\"8ac58f44-a5f6-4b09-9d53-4f9ecacf7f5e\",\"type\":\"Selection\"},{\"attributes\":{\"callback\":null,\"end\":0.01,\"start\":1020},\"id\":\"de505834-9dc7-406e-ad7b-55eb5704344b\",\"type\":\"Range1d\"},{\"attributes\":{},\"id\":\"a3483f78-7879-44b2-b102-22818afb3ee7\",\"type\":\"UnionRenderers\"},{\"attributes\":{},\"id\":\"cf8e4059-d0df-414a-8463-c219d768db53\",\"type\":\"UnionRenderers\"},{\"attributes\":{},\"id\":\"e3771565-c72c-4ccd-aa68-7ccd18ce3541\",\"type\":\"BasicTickFormatter\"},{\"attributes\":{\"callback\":null,\"end\":0.01,\"start\":1020},\"id\":\"1b5212fc-68e5-42b8-85a1-cc79590c4485\",\"type\":\"Range1d\"},{\"attributes\":{\"line_color\":\"#4daf4a\",\"line_width\":1.5,\"x\":{\"field\":\"x\"},\"y\":{\"field\":\"y\"}},\"id\":\"5217a632-624e-4431-912b-0b95c3c1ec1a\",\"type\":\"Line\"},{\"attributes\":{\"tools\":[{\"id\":\"90ce6a68-12e6-4092-94be-2f8e389cd1c2\",\"type\":\"PanTool\"},{\"id\":\"cb785d3b-4502-4ea2-b121-5b09fb0e7a6f\",\"type\":\"WheelZoomTool\"},{\"id\":\"1d665246-f5d9-4ba1-8719-4db41f896260\",\"type\":\"BoxZoomTool\"},{\"id\":\"20644362-879c-447f-a869-f6203c5bd638\",\"type\":\"SaveTool\"},{\"id\":\"eb77b072-6e8b-4c93-8070-93c1dac23c00\",\"type\":\"ResetTool\"},{\"id\":\"11a24b85-7a7c-4676-8675-f5a2c6449aa4\",\"type\":\"HelpTool\"},{\"id\":\"cc094cba-d5a5-4622-a248-bd08755cce34\",\"type\":\"PanTool\"},{\"id\":\"ee7a7b3a-6943-4eb3-b3db-279915542aeb\",\"type\":\"WheelZoomTool\"},{\"id\":\"f4f2035d-3983-412d-acba-daba51c8068a\",\"type\":\"BoxZoomTool\"},{\"id\":\"065155c7-4a7f-44f1-aef8-4cffd5c85b6e\",\"type\":\"SaveTool\"},{\"id\":\"8807cf64-2029-4031-8b9a-6cae8e29c6c5\",\"type\":\"ResetTool\"},{\"id\":\"4ca79bd1-86e7-449f-8428-ff83a755fae8\",\"type\":\"HelpTool\"},{\"id\":\"2c504ed6-bcb1-45eb-9c22-b438ff6cf258\",\"type\":\"PanTool\"},{\"id\":\"895ef04a-1f68-4e06-b6e7-737a68459257\",\"type\":\"WheelZoomTool\"},{\"id\":\"b4c49138-71a3-40a3-9192-3cb7be1daa1a\",\"type\":\"BoxZoomTool\"},{\"id\":\"c4a695e2-16f3-4e8f-a2ea-291ed92858a0\",\"type\":\"SaveTool\"},{\"id\":\"5a296e93-9efb-4bf6-8adc-084c43b0df3a\",\"type\":\"ResetTool\"},{\"id\":\"c25dd430-8bf0-424f-9f3d-f1470c32b142\",\"type\":\"HelpTool\"}]},\"id\":\"c907e7bc-8b34-4079-8e3a-6d45c63ebd30\",\"type\":\"ProxyToolbar\"},{\"attributes\":{},\"id\":\"5a296e93-9efb-4bf6-8adc-084c43b0df3a\",\"type\":\"ResetTool\"},{\"attributes\":{\"items\":[{\"id\":\"0443d43a-17ba-44bb-88e0-b816176d9678\",\"type\":\"LegendItem\"},{\"id\":\"2ac83db6-a203-40e8-b536-1d7ea965b808\",\"type\":\"LegendItem\"}],\"label_text_font_size\":{\"value\":\"8pt\"},\"location\":\"top_center\",\"orientation\":\"horizontal\",\"plot\":{\"id\":\"e04f1f3f-69d4-43d0-bc0d-9dd71a9ac4f2\",\"subtype\":\"Figure\",\"type\":\"Plot\"}},\"id\":\"f821b574-7218-437a-ba27-ed2cbddd203d\",\"type\":\"Legend\"},{\"attributes\":{},\"id\":\"065155c7-4a7f-44f1-aef8-4cffd5c85b6e\",\"type\":\"SaveTool\"},{\"attributes\":{\"toolbar\":{\"id\":\"c907e7bc-8b34-4079-8e3a-6d45c63ebd30\",\"type\":\"ProxyToolbar\"},\"toolbar_location\":\"above\"},\"id\":\"167d1ef1-26d2-410c-a348-12849d4a0463\",\"type\":\"ToolbarBox\"},{\"attributes\":{\"axis_label\":\"pressure [mb]\",\"formatter\":{\"id\":\"ef88d57d-9848-4234-badb-b0db07f0e96d\",\"type\":\"LogTickFormatter\"},\"plot\":{\"id\":\"e04f1f3f-69d4-43d0-bc0d-9dd71a9ac4f2\",\"subtype\":\"Figure\",\"type\":\"Plot\"},\"ticker\":{\"id\":\"4eba9eaf-746e-4760-8de9-338dfe80b1c1\",\"type\":\"LogTicker\"}},\"id\":\"7c9cc4ed-e069-4b88-8728-15534cb9cd5b\",\"type\":\"LogAxis\"},{\"attributes\":{\"plot\":null,\"text\":\"\"},\"id\":\"4721da97-8586-469c-a968-ab492e1ee632\",\"type\":\"Title\"},{\"attributes\":{\"active_drag\":\"auto\",\"active_inspect\":\"auto\",\"active_scroll\":\"auto\",\"active_tap\":\"auto\",\"tools\":[{\"id\":\"2c504ed6-bcb1-45eb-9c22-b438ff6cf258\",\"type\":\"PanTool\"},{\"id\":\"895ef04a-1f68-4e06-b6e7-737a68459257\",\"type\":\"WheelZoomTool\"},{\"id\":\"b4c49138-71a3-40a3-9192-3cb7be1daa1a\",\"type\":\"BoxZoomTool\"},{\"id\":\"c4a695e2-16f3-4e8f-a2ea-291ed92858a0\",\"type\":\"SaveTool\"},{\"id\":\"5a296e93-9efb-4bf6-8adc-084c43b0df3a\",\"type\":\"ResetTool\"},{\"id\":\"c25dd430-8bf0-424f-9f3d-f1470c32b142\",\"type\":\"HelpTool\"}]},\"id\":\"50e00036-6464-4553-bb81-12fa26b72387\",\"type\":\"Toolbar\"},{\"attributes\":{\"num_minor_ticks\":10},\"id\":\"4eba9eaf-746e-4760-8de9-338dfe80b1c1\",\"type\":\"LogTicker\"},{\"attributes\":{},\"id\":\"c18bf873-d525-489d-9c7b-5e5726a878a4\",\"type\":\"Selection\"},{\"attributes\":{},\"id\":\"49ab4c2f-3e3a-488c-9004-cf37af4164f7\",\"type\":\"UnionRenderers\"},{\"attributes\":{\"children\":[{\"id\":\"167d1ef1-26d2-410c-a348-12849d4a0463\",\"type\":\"ToolbarBox\"},{\"id\":\"9dfecac0-d654-4eef-bc52-059574c571ab\",\"type\":\"Column\"}]},\"id\":\"85c82ce7-c547-439e-819c-99a52e58e98a\",\"type\":\"Column\"},{\"attributes\":{\"source\":{\"id\":\"b442771f-a1b1-439e-a105-682a11608bb7\",\"type\":\"ColumnDataSource\"}},\"id\":\"970d0814-b7d2-41a3-b76f-006533af8a97\",\"type\":\"CDSView\"},{\"attributes\":{\"plot\":{\"id\":\"e7a232df-c8e9-4286-8884-df0665c2e63e\",\"subtype\":\"Figure\",\"type\":\"Plot\"},\"ticker\":{\"id\":\"02356d32-8737-4619-b2ac-e434832906b5\",\"type\":\"BasicTicker\"}},\"id\":\"90984d4b-8417-41d5-b069-5dcb2a076595\",\"type\":\"Grid\"},{\"attributes\":{\"data_source\":{\"id\":\"92524073-6286-4479-b70c-76c09fd73354\",\"type\":\"ColumnDataSource\"},\"glyph\":{\"id\":\"5217a632-624e-4431-912b-0b95c3c1ec1a\",\"type\":\"Line\"},\"hover_glyph\":null,\"muted_glyph\":null,\"nonselection_glyph\":{\"id\":\"a58a5432-6381-4d3a-ba0d-aa5eeca6a190\",\"type\":\"Line\"},\"selection_glyph\":null,\"view\":{\"id\":\"791035a8-9c72-45bf-9bec-927d288655d5\",\"type\":\"CDSView\"}},\"id\":\"68ece748-a3e6-4985-92f8-7aeb732ed88d\",\"type\":\"GlyphRenderer\"},{\"attributes\":{\"plot\":{\"id\":\"e04f1f3f-69d4-43d0-bc0d-9dd71a9ac4f2\",\"subtype\":\"Figure\",\"type\":\"Plot\"},\"ticker\":{\"id\":\"2fbb71cc-d131-4910-a914-0400bd5b7a08\",\"type\":\"BasicTicker\"}},\"id\":\"526997b1-632d-477d-9954-a0df808efa39\",\"type\":\"Grid\"},{\"attributes\":{\"overlay\":{\"id\":\"ac167556-dd4a-4a85-ae98-a574b4e447e2\",\"type\":\"BoxAnnotation\"}},\"id\":\"1d665246-f5d9-4ba1-8719-4db41f896260\",\"type\":\"BoxZoomTool\"},{\"attributes\":{\"line_alpha\":0.1,\"line_color\":\"#1f77b4\",\"line_dash\":[6],\"line_width\":5,\"x\":{\"field\":\"x\"},\"y\":{\"field\":\"y\"}},\"id\":\"c3b32374-3bf6-4fce-9814-011fad743fab\",\"type\":\"Line\"},{\"attributes\":{},\"id\":\"8807cf64-2029-4031-8b9a-6cae8e29c6c5\",\"type\":\"ResetTool\"},{\"attributes\":{},\"id\":\"c25dd430-8bf0-424f-9f3d-f1470c32b142\",\"type\":\"HelpTool\"},{\"attributes\":{},\"id\":\"b566e818-b0ac-4aa1-9c77-4bf8797c6aba\",\"type\":\"LinearScale\"},{\"attributes\":{\"axis_label\":\"cooling rate [K/day]\",\"formatter\":{\"id\":\"e3771565-c72c-4ccd-aa68-7ccd18ce3541\",\"type\":\"BasicTickFormatter\"},\"plot\":{\"id\":\"e7a232df-c8e9-4286-8884-df0665c2e63e\",\"subtype\":\"Figure\",\"type\":\"Plot\"},\"ticker\":{\"id\":\"02356d32-8737-4619-b2ac-e434832906b5\",\"type\":\"BasicTicker\"}},\"id\":\"003f5d62-6775-46cd-8e0e-51d60dbbdcf4\",\"type\":\"LinearAxis\"},{\"attributes\":{\"items\":[{\"id\":\"7095d7c6-97bc-4964-87b6-7c9c525aaaf5\",\"type\":\"LegendItem\"}],\"label_text_font_size\":{\"value\":\"8pt\"},\"location\":\"top_center\",\"orientation\":\"horizontal\",\"plot\":{\"id\":\"e7a232df-c8e9-4286-8884-df0665c2e63e\",\"subtype\":\"Figure\",\"type\":\"Plot\"}},\"id\":\"d76448db-58b7-47af-9ce7-fd5bc9d507af\",\"type\":\"Legend\"},{\"attributes\":{},\"id\":\"cb785d3b-4502-4ea2-b121-5b09fb0e7a6f\",\"type\":\"WheelZoomTool\"},{\"attributes\":{\"callback\":null,\"data\":{\"x\":{\"__ndarray__\":\"cm1sTMT3VEDEyvjosEJHQOKI6DjzCUNArgQWV9awPkB9Lm8XG3M4QEz+Qv6iYzNA7eV8HaPLLkCX1QHyTpMoQFBmYSYetiNAUB04GtGpH0AmFyVE5j8ZQJca9QPGqBNALJP+OOHHDEBNxaf7QF8AQKtislomWuw/cW2dcO6A9T/uJJvfPu0EQIaQLTI/JQ1AxGiII+PmEkCJvfVeuCsYQD6ZBhGbHB9AXQw69DTYJEAsubcwKucqQNuT9D5OmipAJyi3szEJJUBlNebh5WkgQDDcPHBr2xlArtlANXuQFEBdJadFHckQQI2Avh0ZsQtAjYiwt1rsBUCL0SDoVBgAQK6C0nEEjvc/CggLSme58T9sXU2orFPnP0v0JYz9Gdg/vT38vxYczD9nBQTe6kHHP1IhkEXJwKo/8OZnhCVAub+xtVgCpmqzP6DUpY6g0+k/PKK3T1h4+D8RTDjQc1EAQG/dAQs7TwJAQt2eHpPLAEBWEh074x//PyCap9ZSGf4/rEzaTySm/T+7aXhHRmr9P688KeqeNP0/ruZ4EemD/D8olrZcn9T7P0+vNc9hW/s/i9VVL+4P+z+0NzC24uz6P8731Kza8vo/xFf4SHzq+z+gYyHpvHb8P68ROkiFevw/BAjYdCga/D8AUp8VbW77P3JrF/nKmvo/qCQeGfq++T/dplwHJfn4P2G4p+Uva/g/OzZ0RqMZ+D8dmn/iar73P/OuA7Ka8PY/gaaeQHGn9T9hkyjAH1L0P3aZGhdAU/M/n8VP/g7P8j+90HxHNvfyPwhNBtgrqvk/\",\"dtype\":\"float64\",\"shape\":[75]},\"y\":{\"__ndarray__\":\"GhExyth1ND/Sv8nbtpRIP2vylNV0PVE/aTum7souWD/At0SJ8fVgPw3Iuahxymc/MSNhhJWvcD/bTfBN02d3P2zb5nxnaoA/CD5h5MAGhz8NmeH1TyaQP+zrCsc9p5Y/LbKd76fGnz/bLW5ISEmmPww9YvTcQq8/JV2OstnstT8Er5Y7M8G+P0c+r3jqkcU/5h99k6ZBzj88bCIzFzjVP4enV8oyxN0//yH99nXg5D8qOpLLf0jtP5kqGJXUifQ/c9cS8kHP/D+/DpwzojQEQIEmwoanVwxA4lgXt9HgE0BSSZ2AJuIbQAMJih9jjiNA5q4l5INuK0AwTKYKRj0zQNv5fmq8/DpAaCJseHrtQkB/+zpwzoxKQM3MzMzMeFJAZmZmZmZqWEAAAAAAAFxeQM3MzMzMJmJAmpmZmZkfZUBmZmZmZhhoQDMzMzMzEWtAAAAAAAAKbkBmZmZmZoFwQM3MzMzM/XFAMzMzMzN6c0CamZmZmfZ0QAAAAAAAc3ZAZmZmZmbvd0DNzMzMzGt5QDMzMzMz6HpAmpmZmZlkfEAAAAAAAOF9QGZmZmZmXX9AZmZmZuZsgECamZmZGSuBQM3MzMxM6YFAAAAAAICngkAzMzMzs2WDQGZmZmbmI4RAmpmZmRnihEDNzMzMTKCFQAAAAACAXoZAMzMzM7Mch0BmZmZm5tqHQJqZmZkZmYhAzczMzExXiUAAAAAAgBWKQDMzMzOz04pAZmZmZuaRi0CamZmZGVCMQM3MzMxMDo1AAAAAAIDMjUAzMzMzs4qOQGZmZmbmSI9A\",\"dtype\":\"float64\",\"shape\":[75]}},\"selected\":{\"id\":\"8ac58f44-a5f6-4b09-9d53-4f9ecacf7f5e\",\"type\":\"Selection\"},\"selection_policy\":{\"id\":\"3c944cab-b4ae-4723-99a4-8d85143ab468\",\"type\":\"UnionRenderers\"}},\"id\":\"e565d516-99fe-416a-9567-e973bd153a2c\",\"type\":\"ColumnDataSource\"},{\"attributes\":{},\"id\":\"eb77b072-6e8b-4c93-8070-93c1dac23c00\",\"type\":\"ResetTool\"},{\"attributes\":{},\"id\":\"4ca79bd1-86e7-449f-8428-ff83a755fae8\",\"type\":\"HelpTool\"},{\"attributes\":{},\"id\":\"90ce6a68-12e6-4092-94be-2f8e389cd1c2\",\"type\":\"PanTool\"},{\"attributes\":{\"source\":{\"id\":\"171e5976-703b-4e26-949a-d48c06f4d8dd\",\"type\":\"ColumnDataSource\"}},\"id\":\"ec391669-a210-40a6-ad5a-faa069b82369\",\"type\":\"CDSView\"},{\"attributes\":{\"line_alpha\":0.1,\"line_color\":\"#1f77b4\",\"line_width\":1.5,\"x\":{\"field\":\"x\"},\"y\":{\"field\":\"y\"}},\"id\":\"a58a5432-6381-4d3a-ba0d-aa5eeca6a190\",\"type\":\"Line\"},{\"attributes\":{\"callback\":null,\"data\":{\"x\":{\"__ndarray__\":\"cm1sTMT3VEDEyvjosEJHQOKI6DjzCUNArgQWV9awPkB9Lm8XG3M4QEz+Qv6iYzNA7eV8HaPLLkCX1QHyTpMoQFBmYSYetiNAUB04GtGpH0AmFyVE5j8ZQJca9QPGqBNALJP+OOHHDEBNxaf7QF8AQKtislomWuw/cW2dcO6A9T/uJJvfPu0EQIaQLTI/JQ1AxGiII+PmEkCJvfVeuCsYQD6ZBhGbHB9AXQw69DTYJEAsubcwKucqQNuT9D5OmipAJyi3szEJJUBlNebh5WkgQDDcPHBr2xlArtlANXuQFEBdJadFHckQQI2Avh0ZsQtAjYiwt1rsBUCL0SDoVBgAQK6C0nEEjvc/CggLSme58T9sXU2orFPnP0v0JYz9Gdg/vT38vxYczD9nBQTe6kHHP1IhkEXJwKo/8OZnhCVAub+xtVgCpmqzP6DUpY6g0+k/PKK3T1h4+D8RTDjQc1EAQG/dAQs7TwJAQt2eHpPLAEBWEh074x//PyCap9ZSGf4/rEzaTySm/T+7aXhHRmr9P688KeqeNP0/ruZ4EemD/D8olrZcn9T7P0+vNc9hW/s/i9VVL+4P+z+0NzC24uz6P8731Kza8vo/xFf4SHzq+z+gYyHpvHb8P68ROkiFevw/BAjYdCga/D8AUp8VbW77P3JrF/nKmvo/qCQeGfq++T/dplwHJfn4P2G4p+Uva/g/OzZ0RqMZ+D8dmn/iar73P/OuA7Ka8PY/gaaeQHGn9T9hkyjAH1L0P3aZGhdAU/M/n8VP/g7P8j+90HxHNvfyPwhNBtgrqvk/\",\"dtype\":\"float64\",\"shape\":[75]},\"y\":{\"__ndarray__\":\"GhExyth1ND/Sv8nbtpRIP2vylNV0PVE/aTum7souWD/At0SJ8fVgPw3Iuahxymc/MSNhhJWvcD/bTfBN02d3P2zb5nxnaoA/CD5h5MAGhz8NmeH1TyaQP+zrCsc9p5Y/LbKd76fGnz/bLW5ISEmmPww9YvTcQq8/JV2OstnstT8Er5Y7M8G+P0c+r3jqkcU/5h99k6ZBzj88bCIzFzjVP4enV8oyxN0//yH99nXg5D8qOpLLf0jtP5kqGJXUifQ/c9cS8kHP/D+/DpwzojQEQIEmwoanVwxA4lgXt9HgE0BSSZ2AJuIbQAMJih9jjiNA5q4l5INuK0AwTKYKRj0zQNv5fmq8/DpAaCJseHrtQkB/+zpwzoxKQM3MzMzMeFJAZmZmZmZqWEAAAAAAAFxeQM3MzMzMJmJAmpmZmZkfZUBmZmZmZhhoQDMzMzMzEWtAAAAAAAAKbkBmZmZmZoFwQM3MzMzM/XFAMzMzMzN6c0CamZmZmfZ0QAAAAAAAc3ZAZmZmZmbvd0DNzMzMzGt5QDMzMzMz6HpAmpmZmZlkfEAAAAAAAOF9QGZmZmZmXX9AZmZmZuZsgECamZmZGSuBQM3MzMxM6YFAAAAAAICngkAzMzMzs2WDQGZmZmbmI4RAmpmZmRnihEDNzMzMTKCFQAAAAACAXoZAMzMzM7Mch0BmZmZm5tqHQJqZmZkZmYhAzczMzExXiUAAAAAAgBWKQDMzMzOz04pAZmZmZuaRi0CamZmZGVCMQM3MzMxMDo1AAAAAAIDMjUAzMzMzs4qOQGZmZmbmSI9A\",\"dtype\":\"float64\",\"shape\":[75]}},\"selected\":{\"id\":\"3284c18b-7d21-4942-9f66-4b6f074282a0\",\"type\":\"Selection\"},\"selection_policy\":{\"id\":\"a3483f78-7879-44b2-b102-22818afb3ee7\",\"type\":\"UnionRenderers\"}},\"id\":\"06bcf076-6c68-417b-afa0-d716e848abe4\",\"type\":\"ColumnDataSource\"},{\"attributes\":{\"data_source\":{\"id\":\"171e5976-703b-4e26-949a-d48c06f4d8dd\",\"type\":\"ColumnDataSource\"},\"glyph\":{\"id\":\"fb19aad8-307c-4607-aa14-c8a7ca682b0d\",\"type\":\"Line\"},\"hover_glyph\":null,\"muted_glyph\":null,\"nonselection_glyph\":{\"id\":\"05595674-db4d-4e73-b997-a78d18dd077d\",\"type\":\"Line\"},\"selection_glyph\":null,\"view\":{\"id\":\"ec391669-a210-40a6-ad5a-faa069b82369\",\"type\":\"CDSView\"}},\"id\":\"f354b2d5-7ea6-4fb0-89ec-cb5767735a23\",\"type\":\"GlyphRenderer\"},{\"attributes\":{},\"id\":\"049976f9-9f40-4398-9302-04ff643bda06\",\"type\":\"LinearScale\"},{\"attributes\":{\"plot\":{\"id\":\"18c4e3da-34a1-4d07-9e38-d02b00831f15\",\"subtype\":\"Figure\",\"type\":\"Plot\"},\"ticker\":{\"id\":\"d8e8a800-dfcf-4255-b847-38ead256cc1e\",\"type\":\"BasicTicker\"}},\"id\":\"2267e65f-a819-4266-9dc7-d52bfdb81b0f\",\"type\":\"Grid\"},{\"attributes\":{\"callback\":null,\"end\":13.587989013493507,\"start\":-0.33452669290451},\"id\":\"0c64a41e-a471-4be1-a703-3bc33ff38308\",\"type\":\"Range1d\"},{\"attributes\":{},\"id\":\"eb8d8bd8-8eb6-42b2-a34e-b5a73e566b93\",\"type\":\"Selection\"},{\"attributes\":{},\"id\":\"02356d32-8737-4619-b2ac-e434832906b5\",\"type\":\"BasicTicker\"}],\"root_ids\":[\"85c82ce7-c547-439e-819c-99a52e58e98a\"]},\"title\":\"Bokeh Application\",\"version\":\"0.12.16\"}};\n",
       "  var render_items = [{\"docid\":\"7e3eb87f-cb50-49ea-af90-f05b26d381bd\",\"elementid\":\"058327d2-b6af-404c-8c19-ddfa0ca0d04c\",\"modelid\":\"85c82ce7-c547-439e-819c-99a52e58e98a\"}];\n",
       "  root.Bokeh.embed.embed_items_notebook(docs_json, render_items);\n",
       "\n",
       "  }\n",
       "  if (root.Bokeh !== undefined) {\n",
       "    embed_document(root);\n",
       "  } else {\n",
       "    var attempts = 0;\n",
       "    var timer = setInterval(function(root) {\n",
       "      if (root.Bokeh !== undefined) {\n",
       "        embed_document(root);\n",
       "        clearInterval(timer);\n",
       "      }\n",
       "      attempts++;\n",
       "      if (attempts > 100) {\n",
       "        console.log(\"Bokeh: ERROR: Unable to run BokehJS code because BokehJS library is missing\")\n",
       "        clearInterval(timer);\n",
       "      }\n",
       "    }, 10, root)\n",
       "  }\n",
       "})(window);"
      ],
      "application/vnd.bokehjs_exec.v0+json": ""
     },
     "metadata": {
      "application/vnd.bokehjs_exec.v0+json": {
       "id": "85c82ce7-c547-439e-819c-99a52e58e98a"
      }
     },
     "output_type": "display_data"
    },
    {
     "data": {
      "text/markdown": [
       "*FIGURE.* Cooling rates & difference."
      ],
      "text/plain": [
       "<IPython.core.display.Markdown object>"
      ]
     },
     "metadata": {},
     "output_type": "display_data"
    },
    {
     "data": {
      "text/html": [
       "<a id=\"Fluxes._mls.\"></a>"
      ],
      "text/plain": [
       "<IPython.core.display.HTML object>"
      ]
     },
     "metadata": {},
     "output_type": "display_data"
    },
    {
     "data": {
      "text/markdown": [
       "# Fluxes. mls."
      ],
      "text/plain": [
       "<IPython.core.display.Markdown object>"
      ]
     },
     "metadata": {},
     "output_type": "display_data"
    },
    {
     "data": {
      "text/html": [
       "\n",
       "<div class=\"bk-root\">\n",
       "    <div class=\"bk-plotdiv\" id=\"5e9d92e9-48e2-4305-8a3e-cef32ceb3b8f\"></div>\n",
       "</div>"
      ]
     },
     "metadata": {},
     "output_type": "display_data"
    },
    {
     "data": {
      "application/javascript": [
       "(function(root) {\n",
       "  function embed_document(root) {\n",
       "    \n",
       "  var docs_json = {\"dfebdaaf-b8d5-4e07-b7ea-faac9813c80b\":{\"roots\":{\"references\":[{\"attributes\":{},\"id\":\"495c4e14-0fbc-4c50-9f8d-0dc159e436fe\",\"type\":\"SaveTool\"},{\"attributes\":{},\"id\":\"b3c7037a-7ef3-413b-a10b-7016f79fadc3\",\"type\":\"CategoricalScale\"},{\"attributes\":{\"overlay\":{\"id\":\"ba44ce04-02b0-48d7-a47c-e0279110e8b9\",\"type\":\"BoxAnnotation\"}},\"id\":\"0aaf3e88-7a13-47bc-893a-59abae902c34\",\"type\":\"BoxZoomTool\"},{\"attributes\":{},\"id\":\"7240e5f6-a6b0-4186-b507-59a2ff07d684\",\"type\":\"PanTool\"},{\"attributes\":{},\"id\":\"9aa97168-29c0-4b3d-90a3-932cc8bd811b\",\"type\":\"BasicTicker\"},{\"attributes\":{},\"id\":\"2a2e2fc7-9c30-4a7e-9f03-030895ede5fe\",\"type\":\"HelpTool\"},{\"attributes\":{\"fill_color\":{\"value\":\"#1f77b4\"},\"line_color\":{\"value\":\"#1f77b4\"},\"top\":{\"field\":\"flux\"},\"width\":{\"value\":0.9},\"x\":{\"field\":\"band\"}},\"id\":\"e1baf4fc-2515-4363-a6d4-1c5d1b3109b5\",\"type\":\"VBar\"},{\"attributes\":{\"axis_label\":\"flux (W m-2)\",\"formatter\":{\"id\":\"375ffbbb-be6a-418c-8773-b196f7dd9f87\",\"type\":\"BasicTickFormatter\"},\"plot\":{\"id\":\"b5f3cf69-6bd9-4748-8dac-47f115c7c212\",\"subtype\":\"Figure\",\"type\":\"Plot\"},\"ticker\":{\"id\":\"de62ffc2-c5c3-4876-aafa-7c47bf1f185c\",\"type\":\"BasicTicker\"}},\"id\":\"662adf24-0c21-4cf5-b6d7-516ff44defe7\",\"type\":\"LinearAxis\"},{\"attributes\":{\"axis_label\":\"spectral band\",\"formatter\":{\"id\":\"003ada21-d6fc-41cd-94e5-1cd75cf0e8ab\",\"type\":\"CategoricalTickFormatter\"},\"plot\":{\"id\":\"5fd54563-448d-4cf8-9848-53d5d8d73856\",\"subtype\":\"Figure\",\"type\":\"Plot\"},\"ticker\":{\"id\":\"9d95a250-9877-41f6-9a6e-07420df3d693\",\"type\":\"CategoricalTicker\"}},\"id\":\"07ad5f91-fc42-4216-87c3-6afa5cb2d274\",\"type\":\"CategoricalAxis\"},{\"attributes\":{},\"id\":\"54da10ee-5b4f-42dd-a161-5318ccc8456c\",\"type\":\"Selection\"},{\"attributes\":{\"fill_alpha\":{\"value\":0.1},\"fill_color\":{\"value\":\"#1f77b4\"},\"line_alpha\":{\"value\":0.1},\"line_color\":{\"value\":\"#1f77b4\"},\"top\":{\"field\":\"flux\"},\"width\":{\"value\":0.9},\"x\":{\"field\":\"band\"}},\"id\":\"a52c2fc2-84c2-45f7-8633-6a780d8d541f\",\"type\":\"VBar\"},{\"attributes\":{},\"id\":\"a9f9f774-2dd3-47c6-9d68-649a2675007f\",\"type\":\"UnionRenderers\"},{\"attributes\":{\"data_source\":{\"id\":\"061eb01e-685e-49c6-8af3-c913dc5bed44\",\"type\":\"ColumnDataSource\"},\"glyph\":{\"id\":\"e1baf4fc-2515-4363-a6d4-1c5d1b3109b5\",\"type\":\"VBar\"},\"hover_glyph\":null,\"muted_glyph\":null,\"nonselection_glyph\":{\"id\":\"7655556d-b738-4513-8bcb-8769a95ce7bc\",\"type\":\"VBar\"},\"selection_glyph\":null,\"view\":{\"id\":\"e7ae00e2-6a57-4401-9734-8e391249bad4\",\"type\":\"CDSView\"}},\"id\":\"e1c525be-3e7a-42dd-a5fc-bfa9f16de80e\",\"type\":\"GlyphRenderer\"},{\"attributes\":{\"callback\":null,\"data\":{\"band\":[\"1\",\"2\",\"3\",\"4\",\"5\",\"6\",\"7\",\"8\",\"9\",\"10\",\"11\"],\"flux\":{\"__ndarray__\":\"APnkm0xgyD8AykAC0kC1vwBoiKcNPYi/gLQfCBTazj+AnbZGBOPOvwDPfw9eu8K/QFfMCG8P1z8AHAbzV8ikP4AaiwFtBsi/QFf5r71gvj+ADKqylNGtPw==\",\"dtype\":\"float64\",\"shape\":[11]}},\"selected\":{\"id\":\"119a6a05-6dcf-4fe4-84ec-10872213325f\",\"type\":\"Selection\"},\"selection_policy\":{\"id\":\"a9f9f774-2dd3-47c6-9d68-649a2675007f\",\"type\":\"UnionRenderers\"}},\"id\":\"f3b551e9-6b98-4963-973f-ae6100f1dfff\",\"type\":\"ColumnDataSource\"},{\"attributes\":{},\"id\":\"375ffbbb-be6a-418c-8773-b196f7dd9f87\",\"type\":\"BasicTickFormatter\"},{\"attributes\":{},\"id\":\"119a6a05-6dcf-4fe4-84ec-10872213325f\",\"type\":\"Selection\"},{\"attributes\":{\"plot\":{\"id\":\"5fd54563-448d-4cf8-9848-53d5d8d73856\",\"subtype\":\"Figure\",\"type\":\"Plot\"},\"ticker\":{\"id\":\"9d95a250-9877-41f6-9a6e-07420df3d693\",\"type\":\"CategoricalTicker\"}},\"id\":\"3dd2b013-5357-4b26-8cdc-69fe726d6087\",\"type\":\"Grid\"},{\"attributes\":{\"fill_color\":{\"value\":\"#1f77b4\"},\"line_color\":{\"value\":\"#1f77b4\"},\"top\":{\"field\":\"flux\"},\"width\":{\"value\":0.9},\"x\":{\"field\":\"band\"}},\"id\":\"362f7854-da67-44bb-8081-31296a75e927\",\"type\":\"VBar\"},{\"attributes\":{},\"id\":\"b84e7ec8-de1f-4b0d-b20c-4f8ff890454a\",\"type\":\"LinearScale\"},{\"attributes\":{},\"id\":\"8fd579c4-64ed-426f-b541-9d36597baf05\",\"type\":\"UnionRenderers\"},{\"attributes\":{\"callback\":null,\"factors\":[\"1\",\"2\",\"3\",\"4\",\"5\",\"6\",\"7\",\"8\",\"9\",\"10\",\"11\"]},\"id\":\"e8c07641-3d23-455f-b00c-29d691e2e5a7\",\"type\":\"FactorRange\"},{\"attributes\":{\"source\":{\"id\":\"29603408-44a4-4d37-b0a7-05661ab13f22\",\"type\":\"ColumnDataSource\"}},\"id\":\"325efb2d-c7b1-48a8-a738-9f84444fab2f\",\"type\":\"CDSView\"},{\"attributes\":{},\"id\":\"a1e1fe69-69d7-4b5c-aa89-990b6d888b89\",\"type\":\"HelpTool\"},{\"attributes\":{\"dimension\":1,\"plot\":{\"id\":\"b5f3cf69-6bd9-4748-8dac-47f115c7c212\",\"subtype\":\"Figure\",\"type\":\"Plot\"},\"ticker\":{\"id\":\"de62ffc2-c5c3-4876-aafa-7c47bf1f185c\",\"type\":\"BasicTicker\"}},\"id\":\"03f9e2c0-46a1-4a7b-b56c-60775a6a46f7\",\"type\":\"Grid\"},{\"attributes\":{\"callback\":null,\"data\":{\"band\":[\"1\",\"2\",\"3\",\"4\",\"5\",\"6\",\"7\",\"8\",\"9\",\"10\",\"11\"],\"flux\":{\"__ndarray__\":\"AAAAOsyXB78A0clS6/3XP4CReeQPBtO/AFipoKLqrz9AXJAty9ffPwAXfD/apLM/AI2iGGpelz9ABJTh0/fBv4C3lPPF3sU/ALA8D+7Oij8A8GJhiJx+Pw==\",\"dtype\":\"float64\",\"shape\":[11]}},\"selected\":{\"id\":\"54da10ee-5b4f-42dd-a161-5318ccc8456c\",\"type\":\"Selection\"},\"selection_policy\":{\"id\":\"8fd579c4-64ed-426f-b541-9d36597baf05\",\"type\":\"UnionRenderers\"}},\"id\":\"061eb01e-685e-49c6-8af3-c913dc5bed44\",\"type\":\"ColumnDataSource\"},{\"attributes\":{},\"id\":\"d0a5ed96-e7d9-4eac-b067-03446c9e2b33\",\"type\":\"ResetTool\"},{\"attributes\":{\"toolbar\":{\"id\":\"c26afc80-19bf-4189-b513-7f828a4b233f\",\"type\":\"ProxyToolbar\"},\"toolbar_location\":\"above\"},\"id\":\"27a15004-0ce2-4502-97f4-04c5e9872978\",\"type\":\"ToolbarBox\"},{\"attributes\":{},\"id\":\"9d95a250-9877-41f6-9a6e-07420df3d693\",\"type\":\"CategoricalTicker\"},{\"attributes\":{\"data_source\":{\"id\":\"29603408-44a4-4d37-b0a7-05661ab13f22\",\"type\":\"ColumnDataSource\"},\"glyph\":{\"id\":\"362f7854-da67-44bb-8081-31296a75e927\",\"type\":\"VBar\"},\"hover_glyph\":null,\"muted_glyph\":null,\"nonselection_glyph\":{\"id\":\"a52c2fc2-84c2-45f7-8633-6a780d8d541f\",\"type\":\"VBar\"},\"selection_glyph\":null,\"view\":{\"id\":\"325efb2d-c7b1-48a8-a738-9f84444fab2f\",\"type\":\"CDSView\"}},\"id\":\"7977fb39-9343-4abe-a218-02a7cde37d87\",\"type\":\"GlyphRenderer\"},{\"attributes\":{},\"id\":\"780f4652-9ded-4500-8c3d-448198e5d24b\",\"type\":\"LinearScale\"},{\"attributes\":{\"callback\":null,\"data\":{\"band\":[\"1\",\"2\",\"3\",\"4\",\"5\",\"6\",\"7\",\"8\",\"9\",\"10\",\"11\"],\"flux\":{\"__ndarray__\":\"AJQxPsxeyD+AJAuYwK3SP8D4LxAEyNO/ACmy1lBq0z/AxW6fVWbQPwBgYFYo0rG/QP28qUiF2D8AoaF/gou5vwB8MCk+PpG/YL6fGi/dwD9Asujnl9KwPw==\",\"dtype\":\"float64\",\"shape\":[11]}},\"selected\":{\"id\":\"3c18624f-2c99-4ef3-9be6-96e594a22887\",\"type\":\"Selection\"},\"selection_policy\":{\"id\":\"ba6c6465-bc07-46fb-a2b0-fb12b7ecbf2a\",\"type\":\"UnionRenderers\"}},\"id\":\"29603408-44a4-4d37-b0a7-05661ab13f22\",\"type\":\"ColumnDataSource\"},{\"attributes\":{\"callback\":null},\"id\":\"78fc9b29-87f6-40d1-a9cf-29cebc6989c5\",\"type\":\"DataRange1d\"},{\"attributes\":{\"bottom_units\":\"screen\",\"fill_alpha\":{\"value\":0.5},\"fill_color\":{\"value\":\"lightgrey\"},\"left_units\":\"screen\",\"level\":\"overlay\",\"line_alpha\":{\"value\":1.0},\"line_color\":{\"value\":\"black\"},\"line_dash\":[4,4],\"line_width\":{\"value\":2},\"plot\":null,\"render_mode\":\"css\",\"right_units\":\"screen\",\"top_units\":\"screen\"},\"id\":\"ba44ce04-02b0-48d7-a47c-e0279110e8b9\",\"type\":\"BoxAnnotation\"},{\"attributes\":{},\"id\":\"79f5b69e-b7a6-447c-8b85-9e658b73a880\",\"type\":\"CategoricalTicker\"},{\"attributes\":{\"children\":[{\"id\":\"27a15004-0ce2-4502-97f4-04c5e9872978\",\"type\":\"ToolbarBox\"},{\"id\":\"fa5029ad-bcfd-4300-b49b-ab5445407fee\",\"type\":\"Column\"}]},\"id\":\"8a9cd8c9-ed4e-4fbe-af2b-6c1563055f05\",\"type\":\"Column\"},{\"attributes\":{\"axis_label\":\"flux (W m-2)\",\"formatter\":{\"id\":\"59b8b6ed-b9c9-4514-8989-100be8f31a3d\",\"type\":\"BasicTickFormatter\"},\"plot\":{\"id\":\"5fd54563-448d-4cf8-9848-53d5d8d73856\",\"subtype\":\"Figure\",\"type\":\"Plot\"},\"ticker\":{\"id\":\"9aa97168-29c0-4b3d-90a3-932cc8bd811b\",\"type\":\"BasicTicker\"}},\"id\":\"b405287f-e1f5-4ecf-9e05-76dc2181184d\",\"type\":\"LinearAxis\"},{\"attributes\":{\"active_drag\":\"auto\",\"active_inspect\":\"auto\",\"active_scroll\":\"auto\",\"active_tap\":\"auto\",\"tools\":[{\"id\":\"a8025d84-0532-4bf0-9e56-16ea8a3f6075\",\"type\":\"PanTool\"},{\"id\":\"d8e56f53-4312-4a3f-8da0-a97547a585e8\",\"type\":\"WheelZoomTool\"},{\"id\":\"0071831f-b1a9-4bcf-83da-2421724f8c95\",\"type\":\"BoxZoomTool\"},{\"id\":\"abde3de6-2d6d-44c3-9a88-327236a55ae8\",\"type\":\"SaveTool\"},{\"id\":\"a5061c90-6010-40c5-a7ba-65a24f6a050b\",\"type\":\"ResetTool\"},{\"id\":\"38ef14e1-ea85-43a1-b7a2-56534ea747b7\",\"type\":\"HelpTool\"}]},\"id\":\"0b09dbcf-a7ca-4b3b-85bb-5320d97eab39\",\"type\":\"Toolbar\"},{\"attributes\":{\"bottom_units\":\"screen\",\"fill_alpha\":{\"value\":0.5},\"fill_color\":{\"value\":\"lightgrey\"},\"left_units\":\"screen\",\"level\":\"overlay\",\"line_alpha\":{\"value\":1.0},\"line_color\":{\"value\":\"black\"},\"line_dash\":[4,4],\"line_width\":{\"value\":2},\"plot\":null,\"render_mode\":\"css\",\"right_units\":\"screen\",\"top_units\":\"screen\"},\"id\":\"35217cff-28c1-45dd-a9fc-762d6641c39d\",\"type\":\"BoxAnnotation\"},{\"attributes\":{\"source\":{\"id\":\"061eb01e-685e-49c6-8af3-c913dc5bed44\",\"type\":\"ColumnDataSource\"}},\"id\":\"e7ae00e2-6a57-4401-9734-8e391249bad4\",\"type\":\"CDSView\"},{\"attributes\":{},\"id\":\"4119574a-2a02-4081-9d3f-9daaa5e5ead0\",\"type\":\"WheelZoomTool\"},{\"attributes\":{\"plot\":null,\"text\":\"Atmosphere heating. CLIRAD (single-run) - CRD.\"},\"id\":\"e78959e0-f849-41c2-8d8d-4b9f10f7b5fc\",\"type\":\"Title\"},{\"attributes\":{\"below\":[{\"id\":\"07ad5f91-fc42-4216-87c3-6afa5cb2d274\",\"type\":\"CategoricalAxis\"}],\"left\":[{\"id\":\"b405287f-e1f5-4ecf-9e05-76dc2181184d\",\"type\":\"LinearAxis\"}],\"plot_height\":300,\"plot_width\":300,\"renderers\":[{\"id\":\"07ad5f91-fc42-4216-87c3-6afa5cb2d274\",\"type\":\"CategoricalAxis\"},{\"id\":\"3dd2b013-5357-4b26-8cdc-69fe726d6087\",\"type\":\"Grid\"},{\"id\":\"b405287f-e1f5-4ecf-9e05-76dc2181184d\",\"type\":\"LinearAxis\"},{\"id\":\"774014cd-a07a-490c-b9a1-89a76f81e850\",\"type\":\"Grid\"},{\"id\":\"90566d0a-25b6-4e31-a962-964d5ca551e6\",\"type\":\"BoxAnnotation\"},{\"id\":\"32b06774-fd5b-4abb-9fa4-9b775547751e\",\"type\":\"GlyphRenderer\"}],\"title\":{\"id\":\"e78959e0-f849-41c2-8d8d-4b9f10f7b5fc\",\"type\":\"Title\"},\"toolbar\":{\"id\":\"0b09dbcf-a7ca-4b3b-85bb-5320d97eab39\",\"type\":\"Toolbar\"},\"toolbar_location\":null,\"x_range\":{\"id\":\"e8c07641-3d23-455f-b00c-29d691e2e5a7\",\"type\":\"FactorRange\"},\"x_scale\":{\"id\":\"b3c7037a-7ef3-413b-a10b-7016f79fadc3\",\"type\":\"CategoricalScale\"},\"y_range\":{\"id\":\"78fc9b29-87f6-40d1-a9cf-29cebc6989c5\",\"type\":\"DataRange1d\"},\"y_scale\":{\"id\":\"780f4652-9ded-4500-8c3d-448198e5d24b\",\"type\":\"LinearScale\"}},\"id\":\"5fd54563-448d-4cf8-9848-53d5d8d73856\",\"subtype\":\"Figure\",\"type\":\"Plot\"},{\"attributes\":{\"below\":[{\"id\":\"74499aba-e784-4186-ab0f-e5ae44dc8a42\",\"type\":\"CategoricalAxis\"}],\"left\":[{\"id\":\"846ba7eb-287b-452b-8e29-948b9b437751\",\"type\":\"LinearAxis\"}],\"plot_height\":300,\"plot_width\":300,\"renderers\":[{\"id\":\"74499aba-e784-4186-ab0f-e5ae44dc8a42\",\"type\":\"CategoricalAxis\"},{\"id\":\"86146fc6-d724-4bec-a28b-ff0ca2d85feb\",\"type\":\"Grid\"},{\"id\":\"846ba7eb-287b-452b-8e29-948b9b437751\",\"type\":\"LinearAxis\"},{\"id\":\"fba06e96-21d6-4d41-a9d7-60ea58eefc19\",\"type\":\"Grid\"},{\"id\":\"ba44ce04-02b0-48d7-a47c-e0279110e8b9\",\"type\":\"BoxAnnotation\"},{\"id\":\"7977fb39-9343-4abe-a218-02a7cde37d87\",\"type\":\"GlyphRenderer\"}],\"title\":{\"id\":\"144f4c5e-d381-413c-8b62-9489f8e73fe7\",\"type\":\"Title\"},\"toolbar\":{\"id\":\"59452ece-9203-4906-af93-450772db0040\",\"type\":\"Toolbar\"},\"toolbar_location\":null,\"x_range\":{\"id\":\"1d13f249-6ca1-41cf-b55c-00c516e7652e\",\"type\":\"FactorRange\"},\"x_scale\":{\"id\":\"9dbdf209-5cf7-404a-9d11-02bbf299552c\",\"type\":\"CategoricalScale\"},\"y_range\":{\"id\":\"8efc298e-27b3-47a6-9b1a-51bf874ff2c3\",\"type\":\"DataRange1d\"},\"y_scale\":{\"id\":\"351317cc-1bb7-4178-b90c-521e099c4805\",\"type\":\"LinearScale\"}},\"id\":\"65eae9f8-e5cc-44d1-a0df-b896d51e7c7b\",\"subtype\":\"Figure\",\"type\":\"Plot\"},{\"attributes\":{},\"id\":\"f8497ce1-0018-44a6-b108-c3646213c5c8\",\"type\":\"ResetTool\"},{\"attributes\":{\"tools\":[{\"id\":\"7240e5f6-a6b0-4186-b507-59a2ff07d684\",\"type\":\"PanTool\"},{\"id\":\"4119574a-2a02-4081-9d3f-9daaa5e5ead0\",\"type\":\"WheelZoomTool\"},{\"id\":\"0aaf3e88-7a13-47bc-893a-59abae902c34\",\"type\":\"BoxZoomTool\"},{\"id\":\"495c4e14-0fbc-4c50-9f8d-0dc159e436fe\",\"type\":\"SaveTool\"},{\"id\":\"f8497ce1-0018-44a6-b108-c3646213c5c8\",\"type\":\"ResetTool\"},{\"id\":\"a1e1fe69-69d7-4b5c-aa89-990b6d888b89\",\"type\":\"HelpTool\"},{\"id\":\"dd94d97d-7f6a-42d9-9d89-3a5edee951e8\",\"type\":\"PanTool\"},{\"id\":\"257a635e-f8a3-4b7a-abc0-c7365220b218\",\"type\":\"WheelZoomTool\"},{\"id\":\"f000e0af-8041-497e-9c86-2910578abcbc\",\"type\":\"BoxZoomTool\"},{\"id\":\"3aa6fce9-cc0c-4498-967c-9e3689065622\",\"type\":\"SaveTool\"},{\"id\":\"d0a5ed96-e7d9-4eac-b067-03446c9e2b33\",\"type\":\"ResetTool\"},{\"id\":\"2a2e2fc7-9c30-4a7e-9f03-030895ede5fe\",\"type\":\"HelpTool\"},{\"id\":\"a8025d84-0532-4bf0-9e56-16ea8a3f6075\",\"type\":\"PanTool\"},{\"id\":\"d8e56f53-4312-4a3f-8da0-a97547a585e8\",\"type\":\"WheelZoomTool\"},{\"id\":\"0071831f-b1a9-4bcf-83da-2421724f8c95\",\"type\":\"BoxZoomTool\"},{\"id\":\"abde3de6-2d6d-44c3-9a88-327236a55ae8\",\"type\":\"SaveTool\"},{\"id\":\"a5061c90-6010-40c5-a7ba-65a24f6a050b\",\"type\":\"ResetTool\"},{\"id\":\"38ef14e1-ea85-43a1-b7a2-56534ea747b7\",\"type\":\"HelpTool\"}]},\"id\":\"c26afc80-19bf-4189-b513-7f828a4b233f\",\"type\":\"ProxyToolbar\"},{\"attributes\":{\"data_source\":{\"id\":\"f3b551e9-6b98-4963-973f-ae6100f1dfff\",\"type\":\"ColumnDataSource\"},\"glyph\":{\"id\":\"f4b8650f-92d0-41af-80be-8bc8810f22fa\",\"type\":\"VBar\"},\"hover_glyph\":null,\"muted_glyph\":null,\"nonselection_glyph\":{\"id\":\"1ff5b5a0-9b7e-4468-953c-ae31e4e6e3e4\",\"type\":\"VBar\"},\"selection_glyph\":null,\"view\":{\"id\":\"a6ed425d-f748-46d1-8cb2-e0639cc448ee\",\"type\":\"CDSView\"}},\"id\":\"32b06774-fd5b-4abb-9fa4-9b775547751e\",\"type\":\"GlyphRenderer\"},{\"attributes\":{},\"id\":\"ba6c6465-bc07-46fb-a2b0-fb12b7ecbf2a\",\"type\":\"UnionRenderers\"},{\"attributes\":{\"overlay\":{\"id\":\"90566d0a-25b6-4e31-a962-964d5ca551e6\",\"type\":\"BoxAnnotation\"}},\"id\":\"0071831f-b1a9-4bcf-83da-2421724f8c95\",\"type\":\"BoxZoomTool\"},{\"attributes\":{\"callback\":null},\"id\":\"8efc298e-27b3-47a6-9b1a-51bf874ff2c3\",\"type\":\"DataRange1d\"},{\"attributes\":{},\"id\":\"d8e56f53-4312-4a3f-8da0-a97547a585e8\",\"type\":\"WheelZoomTool\"},{\"attributes\":{},\"id\":\"dd94d97d-7f6a-42d9-9d89-3a5edee951e8\",\"type\":\"PanTool\"},{\"attributes\":{\"plot\":null,\"text\":\"SFC flux. CLIRAD (single-run) - CRD.\"},\"id\":\"8759c6e2-1741-475a-b25b-a4278b97da0f\",\"type\":\"Title\"},{\"attributes\":{},\"id\":\"3c18624f-2c99-4ef3-9be6-96e594a22887\",\"type\":\"Selection\"},{\"attributes\":{\"below\":[{\"id\":\"6147c660-fc63-4ee0-be1b-168b49a7981a\",\"type\":\"CategoricalAxis\"}],\"left\":[{\"id\":\"662adf24-0c21-4cf5-b6d7-516ff44defe7\",\"type\":\"LinearAxis\"}],\"plot_height\":300,\"plot_width\":300,\"renderers\":[{\"id\":\"6147c660-fc63-4ee0-be1b-168b49a7981a\",\"type\":\"CategoricalAxis\"},{\"id\":\"94fd2baf-52bd-4d41-b892-c5afa34feccb\",\"type\":\"Grid\"},{\"id\":\"662adf24-0c21-4cf5-b6d7-516ff44defe7\",\"type\":\"LinearAxis\"},{\"id\":\"03f9e2c0-46a1-4a7b-b56c-60775a6a46f7\",\"type\":\"Grid\"},{\"id\":\"35217cff-28c1-45dd-a9fc-762d6641c39d\",\"type\":\"BoxAnnotation\"},{\"id\":\"e1c525be-3e7a-42dd-a5fc-bfa9f16de80e\",\"type\":\"GlyphRenderer\"}],\"title\":{\"id\":\"8759c6e2-1741-475a-b25b-a4278b97da0f\",\"type\":\"Title\"},\"toolbar\":{\"id\":\"c01ac637-2780-41b8-b50c-709a61cf4cdb\",\"type\":\"Toolbar\"},\"toolbar_location\":null,\"x_range\":{\"id\":\"43273f7d-a81d-4597-8189-4236f2d20544\",\"type\":\"FactorRange\"},\"x_scale\":{\"id\":\"f1f6c1ad-720c-41d3-ae51-aa503fbf245f\",\"type\":\"CategoricalScale\"},\"y_range\":{\"id\":\"ccc506f1-a7f5-4566-866c-2729c5e4aecb\",\"type\":\"DataRange1d\"},\"y_scale\":{\"id\":\"b84e7ec8-de1f-4b0d-b20c-4f8ff890454a\",\"type\":\"LinearScale\"}},\"id\":\"b5f3cf69-6bd9-4748-8dac-47f115c7c212\",\"subtype\":\"Figure\",\"type\":\"Plot\"},{\"attributes\":{\"plot\":{\"id\":\"65eae9f8-e5cc-44d1-a0df-b896d51e7c7b\",\"subtype\":\"Figure\",\"type\":\"Plot\"},\"ticker\":{\"id\":\"7cd9a7c9-faa6-49ab-b505-fdf38a799679\",\"type\":\"CategoricalTicker\"}},\"id\":\"86146fc6-d724-4bec-a28b-ff0ca2d85feb\",\"type\":\"Grid\"},{\"attributes\":{\"callback\":null},\"id\":\"ccc506f1-a7f5-4566-866c-2729c5e4aecb\",\"type\":\"DataRange1d\"},{\"attributes\":{},\"id\":\"de62ffc2-c5c3-4876-aafa-7c47bf1f185c\",\"type\":\"BasicTicker\"},{\"attributes\":{\"fill_color\":{\"value\":\"#1f77b4\"},\"line_color\":{\"value\":\"#1f77b4\"},\"top\":{\"field\":\"flux\"},\"width\":{\"value\":0.9},\"x\":{\"field\":\"band\"}},\"id\":\"f4b8650f-92d0-41af-80be-8bc8810f22fa\",\"type\":\"VBar\"},{\"attributes\":{\"plot\":{\"id\":\"b5f3cf69-6bd9-4748-8dac-47f115c7c212\",\"subtype\":\"Figure\",\"type\":\"Plot\"},\"ticker\":{\"id\":\"79f5b69e-b7a6-447c-8b85-9e658b73a880\",\"type\":\"CategoricalTicker\"}},\"id\":\"94fd2baf-52bd-4d41-b892-c5afa34feccb\",\"type\":\"Grid\"},{\"attributes\":{\"children\":[{\"id\":\"28009f7f-ca8b-4037-8357-b53231f0fd48\",\"type\":\"Row\"}]},\"id\":\"fa5029ad-bcfd-4300-b49b-ab5445407fee\",\"type\":\"Column\"},{\"attributes\":{\"callback\":null,\"factors\":[\"1\",\"2\",\"3\",\"4\",\"5\",\"6\",\"7\",\"8\",\"9\",\"10\",\"11\"]},\"id\":\"43273f7d-a81d-4597-8189-4236f2d20544\",\"type\":\"FactorRange\"},{\"attributes\":{\"axis_label\":\"spectral band\",\"formatter\":{\"id\":\"fa5d3346-1fae-4468-9b7b-b885b6b1092c\",\"type\":\"CategoricalTickFormatter\"},\"plot\":{\"id\":\"b5f3cf69-6bd9-4748-8dac-47f115c7c212\",\"subtype\":\"Figure\",\"type\":\"Plot\"},\"ticker\":{\"id\":\"79f5b69e-b7a6-447c-8b85-9e658b73a880\",\"type\":\"CategoricalTicker\"}},\"id\":\"6147c660-fc63-4ee0-be1b-168b49a7981a\",\"type\":\"CategoricalAxis\"},{\"attributes\":{},\"id\":\"7cd9a7c9-faa6-49ab-b505-fdf38a799679\",\"type\":\"CategoricalTicker\"},{\"attributes\":{\"overlay\":{\"id\":\"35217cff-28c1-45dd-a9fc-762d6641c39d\",\"type\":\"BoxAnnotation\"}},\"id\":\"f000e0af-8041-497e-9c86-2910578abcbc\",\"type\":\"BoxZoomTool\"},{\"attributes\":{\"dimension\":1,\"plot\":{\"id\":\"65eae9f8-e5cc-44d1-a0df-b896d51e7c7b\",\"subtype\":\"Figure\",\"type\":\"Plot\"},\"ticker\":{\"id\":\"eb8f061c-862d-408e-be72-96b76b7d7c81\",\"type\":\"BasicTicker\"}},\"id\":\"fba06e96-21d6-4d41-a9d7-60ea58eefc19\",\"type\":\"Grid\"},{\"attributes\":{},\"id\":\"eb8f061c-862d-408e-be72-96b76b7d7c81\",\"type\":\"BasicTicker\"},{\"attributes\":{\"active_drag\":\"auto\",\"active_inspect\":\"auto\",\"active_scroll\":\"auto\",\"active_tap\":\"auto\",\"tools\":[{\"id\":\"7240e5f6-a6b0-4186-b507-59a2ff07d684\",\"type\":\"PanTool\"},{\"id\":\"4119574a-2a02-4081-9d3f-9daaa5e5ead0\",\"type\":\"WheelZoomTool\"},{\"id\":\"0aaf3e88-7a13-47bc-893a-59abae902c34\",\"type\":\"BoxZoomTool\"},{\"id\":\"495c4e14-0fbc-4c50-9f8d-0dc159e436fe\",\"type\":\"SaveTool\"},{\"id\":\"f8497ce1-0018-44a6-b108-c3646213c5c8\",\"type\":\"ResetTool\"},{\"id\":\"a1e1fe69-69d7-4b5c-aa89-990b6d888b89\",\"type\":\"HelpTool\"}]},\"id\":\"59452ece-9203-4906-af93-450772db0040\",\"type\":\"Toolbar\"},{\"attributes\":{},\"id\":\"9dbdf209-5cf7-404a-9d11-02bbf299552c\",\"type\":\"CategoricalScale\"},{\"attributes\":{},\"id\":\"351317cc-1bb7-4178-b90c-521e099c4805\",\"type\":\"LinearScale\"},{\"attributes\":{\"active_drag\":\"auto\",\"active_inspect\":\"auto\",\"active_scroll\":\"auto\",\"active_tap\":\"auto\",\"tools\":[{\"id\":\"dd94d97d-7f6a-42d9-9d89-3a5edee951e8\",\"type\":\"PanTool\"},{\"id\":\"257a635e-f8a3-4b7a-abc0-c7365220b218\",\"type\":\"WheelZoomTool\"},{\"id\":\"f000e0af-8041-497e-9c86-2910578abcbc\",\"type\":\"BoxZoomTool\"},{\"id\":\"3aa6fce9-cc0c-4498-967c-9e3689065622\",\"type\":\"SaveTool\"},{\"id\":\"d0a5ed96-e7d9-4eac-b067-03446c9e2b33\",\"type\":\"ResetTool\"},{\"id\":\"2a2e2fc7-9c30-4a7e-9f03-030895ede5fe\",\"type\":\"HelpTool\"}]},\"id\":\"c01ac637-2780-41b8-b50c-709a61cf4cdb\",\"type\":\"Toolbar\"},{\"attributes\":{\"axis_label\":\"flux (W m-2)\",\"formatter\":{\"id\":\"f2050f2f-a311-406a-b59b-d4ae0e26372f\",\"type\":\"BasicTickFormatter\"},\"plot\":{\"id\":\"65eae9f8-e5cc-44d1-a0df-b896d51e7c7b\",\"subtype\":\"Figure\",\"type\":\"Plot\"},\"ticker\":{\"id\":\"eb8f061c-862d-408e-be72-96b76b7d7c81\",\"type\":\"BasicTicker\"}},\"id\":\"846ba7eb-287b-452b-8e29-948b9b437751\",\"type\":\"LinearAxis\"},{\"attributes\":{},\"id\":\"f2050f2f-a311-406a-b59b-d4ae0e26372f\",\"type\":\"BasicTickFormatter\"},{\"attributes\":{\"fill_alpha\":{\"value\":0.1},\"fill_color\":{\"value\":\"#1f77b4\"},\"line_alpha\":{\"value\":0.1},\"line_color\":{\"value\":\"#1f77b4\"},\"top\":{\"field\":\"flux\"},\"width\":{\"value\":0.9},\"x\":{\"field\":\"band\"}},\"id\":\"1ff5b5a0-9b7e-4468-953c-ae31e4e6e3e4\",\"type\":\"VBar\"},{\"attributes\":{},\"id\":\"a8025d84-0532-4bf0-9e56-16ea8a3f6075\",\"type\":\"PanTool\"},{\"attributes\":{},\"id\":\"abde3de6-2d6d-44c3-9a88-327236a55ae8\",\"type\":\"SaveTool\"},{\"attributes\":{\"plot\":null,\"text\":\"TOA flux. CLIRAD (single-run) - CRD.\"},\"id\":\"144f4c5e-d381-413c-8b62-9489f8e73fe7\",\"type\":\"Title\"},{\"attributes\":{\"dimension\":1,\"plot\":{\"id\":\"5fd54563-448d-4cf8-9848-53d5d8d73856\",\"subtype\":\"Figure\",\"type\":\"Plot\"},\"ticker\":{\"id\":\"9aa97168-29c0-4b3d-90a3-932cc8bd811b\",\"type\":\"BasicTicker\"}},\"id\":\"774014cd-a07a-490c-b9a1-89a76f81e850\",\"type\":\"Grid\"},{\"attributes\":{\"children\":[{\"id\":\"65eae9f8-e5cc-44d1-a0df-b896d51e7c7b\",\"subtype\":\"Figure\",\"type\":\"Plot\"},{\"id\":\"b5f3cf69-6bd9-4748-8dac-47f115c7c212\",\"subtype\":\"Figure\",\"type\":\"Plot\"},{\"id\":\"5fd54563-448d-4cf8-9848-53d5d8d73856\",\"subtype\":\"Figure\",\"type\":\"Plot\"}]},\"id\":\"28009f7f-ca8b-4037-8357-b53231f0fd48\",\"type\":\"Row\"},{\"attributes\":{},\"id\":\"257a635e-f8a3-4b7a-abc0-c7365220b218\",\"type\":\"WheelZoomTool\"},{\"attributes\":{},\"id\":\"fa5d3346-1fae-4468-9b7b-b885b6b1092c\",\"type\":\"CategoricalTickFormatter\"},{\"attributes\":{},\"id\":\"3aa6fce9-cc0c-4498-967c-9e3689065622\",\"type\":\"SaveTool\"},{\"attributes\":{},\"id\":\"38ef14e1-ea85-43a1-b7a2-56534ea747b7\",\"type\":\"HelpTool\"},{\"attributes\":{},\"id\":\"003ada21-d6fc-41cd-94e5-1cd75cf0e8ab\",\"type\":\"CategoricalTickFormatter\"},{\"attributes\":{},\"id\":\"f1f6c1ad-720c-41d3-ae51-aa503fbf245f\",\"type\":\"CategoricalScale\"},{\"attributes\":{\"fill_alpha\":{\"value\":0.1},\"fill_color\":{\"value\":\"#1f77b4\"},\"line_alpha\":{\"value\":0.1},\"line_color\":{\"value\":\"#1f77b4\"},\"top\":{\"field\":\"flux\"},\"width\":{\"value\":0.9},\"x\":{\"field\":\"band\"}},\"id\":\"7655556d-b738-4513-8bcb-8769a95ce7bc\",\"type\":\"VBar\"},{\"attributes\":{\"axis_label\":\"spectral band\",\"formatter\":{\"id\":\"66146c77-d231-4c1e-b7fd-fdac1ea24e19\",\"type\":\"CategoricalTickFormatter\"},\"plot\":{\"id\":\"65eae9f8-e5cc-44d1-a0df-b896d51e7c7b\",\"subtype\":\"Figure\",\"type\":\"Plot\"},\"ticker\":{\"id\":\"7cd9a7c9-faa6-49ab-b505-fdf38a799679\",\"type\":\"CategoricalTicker\"}},\"id\":\"74499aba-e784-4186-ab0f-e5ae44dc8a42\",\"type\":\"CategoricalAxis\"},{\"attributes\":{},\"id\":\"59b8b6ed-b9c9-4514-8989-100be8f31a3d\",\"type\":\"BasicTickFormatter\"},{\"attributes\":{\"callback\":null,\"factors\":[\"1\",\"2\",\"3\",\"4\",\"5\",\"6\",\"7\",\"8\",\"9\",\"10\",\"11\"]},\"id\":\"1d13f249-6ca1-41cf-b55c-00c516e7652e\",\"type\":\"FactorRange\"},{\"attributes\":{\"source\":{\"id\":\"f3b551e9-6b98-4963-973f-ae6100f1dfff\",\"type\":\"ColumnDataSource\"}},\"id\":\"a6ed425d-f748-46d1-8cb2-e0639cc448ee\",\"type\":\"CDSView\"},{\"attributes\":{},\"id\":\"a5061c90-6010-40c5-a7ba-65a24f6a050b\",\"type\":\"ResetTool\"},{\"attributes\":{\"bottom_units\":\"screen\",\"fill_alpha\":{\"value\":0.5},\"fill_color\":{\"value\":\"lightgrey\"},\"left_units\":\"screen\",\"level\":\"overlay\",\"line_alpha\":{\"value\":1.0},\"line_color\":{\"value\":\"black\"},\"line_dash\":[4,4],\"line_width\":{\"value\":2},\"plot\":null,\"render_mode\":\"css\",\"right_units\":\"screen\",\"top_units\":\"screen\"},\"id\":\"90566d0a-25b6-4e31-a962-964d5ca551e6\",\"type\":\"BoxAnnotation\"},{\"attributes\":{},\"id\":\"66146c77-d231-4c1e-b7fd-fdac1ea24e19\",\"type\":\"CategoricalTickFormatter\"}],\"root_ids\":[\"8a9cd8c9-ed4e-4fbe-af2b-6c1563055f05\"]},\"title\":\"Bokeh Application\",\"version\":\"0.12.16\"}};\n",
       "  var render_items = [{\"docid\":\"dfebdaaf-b8d5-4e07-b7ea-faac9813c80b\",\"elementid\":\"5e9d92e9-48e2-4305-8a3e-cef32ceb3b8f\",\"modelid\":\"8a9cd8c9-ed4e-4fbe-af2b-6c1563055f05\"}];\n",
       "  root.Bokeh.embed.embed_items_notebook(docs_json, render_items);\n",
       "\n",
       "  }\n",
       "  if (root.Bokeh !== undefined) {\n",
       "    embed_document(root);\n",
       "  } else {\n",
       "    var attempts = 0;\n",
       "    var timer = setInterval(function(root) {\n",
       "      if (root.Bokeh !== undefined) {\n",
       "        embed_document(root);\n",
       "        clearInterval(timer);\n",
       "      }\n",
       "      attempts++;\n",
       "      if (attempts > 100) {\n",
       "        console.log(\"Bokeh: ERROR: Unable to run BokehJS code because BokehJS library is missing\")\n",
       "        clearInterval(timer);\n",
       "      }\n",
       "    }, 10, root)\n",
       "  }\n",
       "})(window);"
      ],
      "application/vnd.bokehjs_exec.v0+json": ""
     },
     "metadata": {
      "application/vnd.bokehjs_exec.v0+json": {
       "id": "8a9cd8c9-ed4e-4fbe-af2b-6c1563055f05"
      }
     },
     "output_type": "display_data"
    },
    {
     "data": {
      "text/markdown": [
       "*FIGURE.* Difference between CLIRAD and CRD in TOA, SFC and net atmosphere flux, in each spectral band."
      ],
      "text/plain": [
       "<IPython.core.display.Markdown object>"
      ]
     },
     "metadata": {},
     "output_type": "display_data"
    },
    {
     "data": {
      "text/html": [
       "<div>\n",
       "<style scoped>\n",
       "    .dataframe tbody tr th:only-of-type {\n",
       "        vertical-align: middle;\n",
       "    }\n",
       "\n",
       "    .dataframe tbody tr th {\n",
       "        vertical-align: top;\n",
       "    }\n",
       "\n",
       "    .dataframe thead th {\n",
       "        text-align: right;\n",
       "    }\n",
       "</style>\n",
       "<table border=\"1\" class=\"dataframe\">\n",
       "  <thead>\n",
       "    <tr style=\"text-align: right;\">\n",
       "      <th></th>\n",
       "      <th>OLR flux</th>\n",
       "      <th>SFC flux</th>\n",
       "      <th>ATM heating</th>\n",
       "    </tr>\n",
       "    <tr>\n",
       "      <th>Sum over bands</th>\n",
       "      <th></th>\n",
       "      <th></th>\n",
       "      <th></th>\n",
       "    </tr>\n",
       "  </thead>\n",
       "  <tbody>\n",
       "    <tr>\n",
       "      <th>CLIRAD (single-run) - CRD</th>\n",
       "      <td>1.13</td>\n",
       "      <td>0.79</td>\n",
       "      <td>0.34</td>\n",
       "    </tr>\n",
       "    <tr>\n",
       "      <th>CRD</th>\n",
       "      <td>-290.39</td>\n",
       "      <td>308.14</td>\n",
       "      <td>-174.89</td>\n",
       "    </tr>\n",
       "  </tbody>\n",
       "</table>\n",
       "</div>"
      ],
      "text/plain": [
       "                           OLR flux  SFC flux  ATM heating\n",
       "Sum over bands                                            \n",
       "CLIRAD (single-run) - CRD      1.13      0.79         0.34\n",
       "CRD                         -290.39    308.14      -174.89"
      ]
     },
     "metadata": {},
     "output_type": "display_data"
    },
    {
     "data": {
      "text/markdown": [
       "*TABLE.* Difference between CLIRAD and CRD in TOA, SFC and net atmosphere flux, over all spectral bands. CRD's TOA, SFC and net atmosphere flux, over all spectral bands."
      ],
      "text/plain": [
       "<IPython.core.display.Markdown object>"
      ]
     },
     "metadata": {},
     "output_type": "display_data"
    },
    {
     "data": {
      "text/html": [
       "<a id=\"Cooling_rates._saw.\"></a>"
      ],
      "text/plain": [
       "<IPython.core.display.HTML object>"
      ]
     },
     "metadata": {},
     "output_type": "display_data"
    },
    {
     "data": {
      "text/markdown": [
       "# Cooling rates. saw."
      ],
      "text/plain": [
       "<IPython.core.display.Markdown object>"
      ]
     },
     "metadata": {},
     "output_type": "display_data"
    },
    {
     "data": {
      "text/html": [
       "\n",
       "<div class=\"bk-root\">\n",
       "    <div class=\"bk-plotdiv\" id=\"aea1ac2e-6cfb-40a1-b4d0-564a5b2934c8\"></div>\n",
       "</div>"
      ]
     },
     "metadata": {},
     "output_type": "display_data"
    },
    {
     "data": {
      "application/javascript": [
       "(function(root) {\n",
       "  function embed_document(root) {\n",
       "    \n",
       "  var docs_json = {\"a6dd4b48-ec13-4cb7-bda4-d5bdd13ce063\":{\"roots\":{\"references\":[{\"attributes\":{},\"id\":\"299ca1e3-33df-40d5-810b-858589abb7ec\",\"type\":\"ResetTool\"},{\"attributes\":{},\"id\":\"ef173c76-6329-4043-8d69-bcdf47dbb0d2\",\"type\":\"Selection\"},{\"attributes\":{\"data_source\":{\"id\":\"f1e6b206-f17a-48f3-9b67-c8bdb642a93f\",\"type\":\"ColumnDataSource\"},\"glyph\":{\"id\":\"a7a78f8d-c6e4-4f84-a096-36937241db20\",\"type\":\"Circle\"},\"hover_glyph\":null,\"muted_glyph\":null,\"nonselection_glyph\":{\"id\":\"663c0b3c-5f16-4100-a13e-cb12ab854f62\",\"type\":\"Circle\"},\"selection_glyph\":null,\"view\":{\"id\":\"d1c8e0eb-bd76-4894-bf1b-4110ce5239fe\",\"type\":\"CDSView\"}},\"id\":\"882673f9-0e1f-4ba6-b9ea-9a855f8771f3\",\"type\":\"GlyphRenderer\"},{\"attributes\":{\"plot\":{\"id\":\"6cb212a6-b41c-484b-a000-f419cb606ce0\",\"subtype\":\"Figure\",\"type\":\"Plot\"},\"ticker\":{\"id\":\"9be9cd36-b7af-433b-994f-1b950f05a1f0\",\"type\":\"BasicTicker\"}},\"id\":\"e5928898-c8a5-4ded-aa7d-5c6bea215782\",\"type\":\"Grid\"},{\"attributes\":{},\"id\":\"d2eb9a3b-780e-4033-8af0-f6f7b50ca636\",\"type\":\"LinearScale\"},{\"attributes\":{},\"id\":\"be9b0653-fa01-4f79-918a-fa6dcea3a78d\",\"type\":\"Selection\"},{\"attributes\":{\"axis_label\":\"cooling rate [K/day]\",\"formatter\":{\"id\":\"e3d26745-0d9e-4b37-9e5c-c0d5f7bc527b\",\"type\":\"BasicTickFormatter\"},\"plot\":{\"id\":\"6cb212a6-b41c-484b-a000-f419cb606ce0\",\"subtype\":\"Figure\",\"type\":\"Plot\"},\"ticker\":{\"id\":\"9be9cd36-b7af-433b-994f-1b950f05a1f0\",\"type\":\"BasicTicker\"}},\"id\":\"59e9324a-7882-44eb-9590-efe79c80eff2\",\"type\":\"LinearAxis\"},{\"attributes\":{\"label\":{\"value\":\"CLIRAD (single-run)\"},\"renderers\":[{\"id\":\"07215544-d291-4b9a-a8dd-2d6cc2b89c79\",\"type\":\"GlyphRenderer\"}]},\"id\":\"e020f46a-8318-4934-8af3-7e72195c2b97\",\"type\":\"LegendItem\"},{\"attributes\":{\"axis_label\":\"pressure [mb]\",\"formatter\":{\"id\":\"c13c3624-2f1a-43cd-911a-684ae841583e\",\"type\":\"BasicTickFormatter\"},\"plot\":{\"id\":\"6cb212a6-b41c-484b-a000-f419cb606ce0\",\"subtype\":\"Figure\",\"type\":\"Plot\"},\"ticker\":{\"id\":\"27381b5a-faae-4e91-ba50-46d3cfdb4556\",\"type\":\"BasicTicker\"}},\"id\":\"2d312787-d7a0-41b2-9004-c5534f7ad73d\",\"type\":\"LinearAxis\"},{\"attributes\":{\"line_alpha\":0.1,\"line_color\":\"#1f77b4\",\"line_width\":1.5,\"x\":{\"field\":\"x\"},\"y\":{\"field\":\"y\"}},\"id\":\"f52f49fc-f5f4-4799-838d-1c2da123c2cc\",\"type\":\"Line\"},{\"attributes\":{},\"id\":\"27381b5a-faae-4e91-ba50-46d3cfdb4556\",\"type\":\"BasicTicker\"},{\"attributes\":{\"above\":[{\"id\":\"4587ccf3-ba86-40cb-b2fb-ef86ac38c589\",\"type\":\"Legend\"}],\"below\":[{\"id\":\"66724017-9cfa-43ce-9a7f-9b2818a69b14\",\"type\":\"LinearAxis\"}],\"left\":[{\"id\":\"8846f04d-ebbc-4ca6-9a29-3ed36bc46f90\",\"type\":\"LogAxis\"}],\"plot_width\":300,\"renderers\":[{\"id\":\"66724017-9cfa-43ce-9a7f-9b2818a69b14\",\"type\":\"LinearAxis\"},{\"id\":\"5362f9c6-8b21-4a45-9c9a-074d76b70e5b\",\"type\":\"Grid\"},{\"id\":\"8846f04d-ebbc-4ca6-9a29-3ed36bc46f90\",\"type\":\"LogAxis\"},{\"id\":\"ffb1365a-4fe9-47e1-8fd3-9b1286a597bc\",\"type\":\"Grid\"},{\"id\":\"f818f4a9-f526-4aee-bd95-3e3f890c0904\",\"type\":\"BoxAnnotation\"},{\"id\":\"e7d0b424-43fa-4e54-a3d9-1b370811b761\",\"type\":\"GlyphRenderer\"},{\"id\":\"c0fb5954-3a44-44c5-9d89-98c2c81e4b6e\",\"type\":\"GlyphRenderer\"},{\"id\":\"0a82fd7a-d861-4458-8fd0-ccc6a85c20a8\",\"type\":\"GlyphRenderer\"},{\"id\":\"4587ccf3-ba86-40cb-b2fb-ef86ac38c589\",\"type\":\"Legend\"}],\"title\":{\"id\":\"d0775f01-c4fb-48be-a0b5-e5420e852893\",\"type\":\"Title\"},\"toolbar\":{\"id\":\"08b58077-fb7a-45b4-9ef1-b18107175503\",\"type\":\"Toolbar\"},\"toolbar_location\":null,\"x_range\":{\"id\":\"8fd66fb1-6dec-4271-9a02-7027eba2c943\",\"type\":\"Range1d\"},\"x_scale\":{\"id\":\"37d9517a-64dd-42f9-a044-3246d4331f8d\",\"type\":\"LinearScale\"},\"y_range\":{\"id\":\"5a1b3fb9-9173-4e47-bb00-605df80e77b2\",\"type\":\"Range1d\"},\"y_scale\":{\"id\":\"9e63c15b-17a1-4efc-ab04-db5fcfa2a021\",\"type\":\"LogScale\"}},\"id\":\"ab95b528-eb4c-4cac-bdc4-607a08a171b4\",\"subtype\":\"Figure\",\"type\":\"Plot\"},{\"attributes\":{},\"id\":\"705a92d5-1437-4e09-a649-c624e2403eca\",\"type\":\"SaveTool\"},{\"attributes\":{\"data_source\":{\"id\":\"d7a43a88-78db-4dd8-b2c3-739ad676bccd\",\"type\":\"ColumnDataSource\"},\"glyph\":{\"id\":\"cfcf73a1-b022-44d2-a991-1618ceb24556\",\"type\":\"Line\"},\"hover_glyph\":null,\"muted_glyph\":null,\"nonselection_glyph\":{\"id\":\"f52f49fc-f5f4-4799-838d-1c2da123c2cc\",\"type\":\"Line\"},\"selection_glyph\":null,\"view\":{\"id\":\"f8636bef-5c7b-40bf-98bf-429853b0f3a4\",\"type\":\"CDSView\"}},\"id\":\"f07dd16b-922d-4c2e-9ba1-557f2ff66c9e\",\"type\":\"GlyphRenderer\"},{\"attributes\":{\"source\":{\"id\":\"cb4f49a4-5c70-414a-a1e2-50a8b6d47310\",\"type\":\"ColumnDataSource\"}},\"id\":\"543a078c-7f26-43b4-8319-2bb1e758b0be\",\"type\":\"CDSView\"},{\"attributes\":{},\"id\":\"36b37cd6-e91c-4a5e-9882-a4e49a641f89\",\"type\":\"ResetTool\"},{\"attributes\":{\"line_alpha\":0.6,\"line_color\":\"#377eb8\",\"line_dash\":[6],\"line_width\":5,\"x\":{\"field\":\"x\"},\"y\":{\"field\":\"y\"}},\"id\":\"897301c7-b440-488b-bae7-7264dc034fff\",\"type\":\"Line\"},{\"attributes\":{\"callback\":null,\"data\":{\"x\":{\"__ndarray__\":\"0CYBcvU5UkCik9zf2GVBQF1VoNfLZ0BAVLxhiVXTPUDD1Wu1wJM6QFJyB025jjdAU6Aw5+b/NECYe1uuDfgyQB6bYtVTbTFAPxYSAF1HMEA00pYVm9QuQLolHbMzgC1AntlwirGsLECv+G9SjE4rQJH6ZLBp0ShAsLZQyPd/JkDyjgyf2PwkQLgyNGsrJyRAA13QbJD6I0C8hy0ilI4kQOVTXCEgcSZAovOGvZSGJUBVc/ZmUOIgQOf/6GHAyRlAcE8fAOBSFEDRur1U//gPQGFD9ZbokghAQsqHuSqSA0C91ci3W0UBQCtRQfvz7/4/kh8pntyB+j9t1/n+4TX1P773MAUjFfI/RgzR+CI28T8hBW8WHK7uPzVKjJfU8uk/0FPt4/z65T/wVYqzMPDhPz7K9C5CXuE/8+hSn9hY4T/9PPCkR6rhP1XsIC599OA/66X1nBCX3z/YbRM56QjcPz4dkSQc/dM/S7Wb8Fq00T+/yQdmX0vcP7TrGf476eM/WqNPJoWO7D9qOH1bcwDzP2bw+R5DQ/Y/RLSuQOQp+D8+aif8yAz5P0Wv6eBKRfk/0i2+IN4R+T/ik8QNFZr4PyS5UD5j/Pc/yJ68zXRG9z/2CHPL54H2P59SOhwKtPU/npkP8dfg9D8NlmVcdQz0P80ugRvuOvM/byxiAHN18j9USVZie8nxP5l9lNXYSPE/OB+F0UYP8T8Y7dsUCTHxP3EBgTHPcPE/bfx15p8S8T8FT+xkGtTuP6mdG7rkxuk/pboqTkHX5D/CrN8qGYngP7R4ZaL+htU/\",\"dtype\":\"float64\",\"shape\":[75]},\"y\":{\"__ndarray__\":\"GhExyth1ND/Sv8nbtpRIP2vylNV0PVE/aTum7souWD/At0SJ8fVgPw3Iuahxymc/MSNhhJWvcD/bTfBN02d3P2zb5nxnaoA/CD5h5MAGhz8NmeH1TyaQP+zrCsc9p5Y/LbKd76fGnz/bLW5ISEmmPww9YvTcQq8/JV2OstnstT8Er5Y7M8G+P0c+r3jqkcU/5h99k6ZBzj88bCIzFzjVP4enV8oyxN0//yH99nXg5D8qOpLLf0jtP5kqGJXUifQ/c9cS8kHP/D+/DpwzojQEQIEmwoanVwxA4lgXt9HgE0BSSZ2AJuIbQAMJih9jjiNA5q4l5INuK0AwTKYKRj0zQNv5fmq8/DpAaCJseHrtQkB/+zpwzoxKQM3MzMzMeFJAZmZmZmZqWEAAAAAAAFxeQM3MzMzMJmJAmpmZmZkfZUBmZmZmZhhoQDMzMzMzEWtAAAAAAAAKbkBmZmZmZoFwQM3MzMzM/XFAMzMzMzN6c0CamZmZmfZ0QAAAAAAAc3ZAZmZmZmbvd0DNzMzMzGt5QDMzMzMz6HpAmpmZmZlkfEAAAAAAAOF9QGZmZmZmXX9AZmZmZuZsgECamZmZGSuBQM3MzMxM6YFAAAAAAICngkAzMzMzs2WDQGZmZmbmI4RAmpmZmRnihEDNzMzMTKCFQAAAAACAXoZAMzMzM7Mch0BmZmZm5tqHQJqZmZkZmYhAzczMzExXiUAAAAAAgBWKQDMzMzOz04pAZmZmZuaRi0CamZmZGVCMQM3MzMxMDo1AAAAAAIDMjUAzMzMzs4qOQGZmZmbmSI9A\",\"dtype\":\"float64\",\"shape\":[75]}},\"selected\":{\"id\":\"fb1f4bed-9a6f-48b2-acb3-2aef6768195d\",\"type\":\"Selection\"},\"selection_policy\":{\"id\":\"61cdeffa-614f-4419-af8f-72bc3b65d814\",\"type\":\"UnionRenderers\"}},\"id\":\"d7a43a88-78db-4dd8-b2c3-739ad676bccd\",\"type\":\"ColumnDataSource\"},{\"attributes\":{},\"id\":\"480daa5d-ac1d-4283-8178-52be42af9f3b\",\"type\":\"UnionRenderers\"},{\"attributes\":{},\"id\":\"e563def1-097b-4c92-86c3-7ce803e8ee91\",\"type\":\"LinearScale\"},{\"attributes\":{},\"id\":\"83e964e0-2e56-4168-9d5a-a0024bdd61ac\",\"type\":\"PanTool\"},{\"attributes\":{\"data_source\":{\"id\":\"7fb237e2-c9c0-4ce6-a11f-03c79ccc788a\",\"type\":\"ColumnDataSource\"},\"glyph\":{\"id\":\"c2514742-9996-489e-bf8a-b04b97b6c326\",\"type\":\"Circle\"},\"hover_glyph\":null,\"muted_glyph\":null,\"nonselection_glyph\":{\"id\":\"37738fc9-5204-4d73-a27e-551cba95b5c8\",\"type\":\"Circle\"},\"selection_glyph\":null,\"view\":{\"id\":\"4c699ff4-f5f7-4cf8-835a-f41a93dfe7da\",\"type\":\"CDSView\"}},\"id\":\"c5310528-f113-4232-947c-0320d930b8a2\",\"type\":\"GlyphRenderer\"},{\"attributes\":{\"overlay\":{\"id\":\"db0b8eca-eea8-4ba4-b118-0d738f5e697c\",\"type\":\"BoxAnnotation\"}},\"id\":\"bf6da9c8-723e-421e-b92f-a49a82e5aac1\",\"type\":\"BoxZoomTool\"},{\"attributes\":{\"bottom_units\":\"screen\",\"fill_alpha\":{\"value\":0.5},\"fill_color\":{\"value\":\"lightgrey\"},\"left_units\":\"screen\",\"level\":\"overlay\",\"line_alpha\":{\"value\":1.0},\"line_color\":{\"value\":\"black\"},\"line_dash\":[4,4],\"line_width\":{\"value\":2},\"plot\":null,\"render_mode\":\"css\",\"right_units\":\"screen\",\"top_units\":\"screen\"},\"id\":\"f818f4a9-f526-4aee-bd95-3e3f890c0904\",\"type\":\"BoxAnnotation\"},{\"attributes\":{\"source\":{\"id\":\"d7a43a88-78db-4dd8-b2c3-739ad676bccd\",\"type\":\"ColumnDataSource\"}},\"id\":\"f8636bef-5c7b-40bf-98bf-429853b0f3a4\",\"type\":\"CDSView\"},{\"attributes\":{\"dimension\":1,\"plot\":{\"id\":\"6cb212a6-b41c-484b-a000-f419cb606ce0\",\"subtype\":\"Figure\",\"type\":\"Plot\"},\"ticker\":{\"id\":\"27381b5a-faae-4e91-ba50-46d3cfdb4556\",\"type\":\"BasicTicker\"}},\"id\":\"18a76dd9-bb02-4659-9731-342aa0b49a79\",\"type\":\"Grid\"},{\"attributes\":{},\"id\":\"9be9cd36-b7af-433b-994f-1b950f05a1f0\",\"type\":\"BasicTicker\"},{\"attributes\":{\"active_drag\":\"auto\",\"active_inspect\":\"auto\",\"active_scroll\":\"auto\",\"active_tap\":\"auto\",\"tools\":[{\"id\":\"eeacd54b-7ea5-4b26-a3fa-bbb3e55070f4\",\"type\":\"PanTool\"},{\"id\":\"0d25dd31-bef4-476d-9b91-3e11290ef46e\",\"type\":\"WheelZoomTool\"},{\"id\":\"0b2457e9-d258-4001-9db2-f8f081036df9\",\"type\":\"BoxZoomTool\"},{\"id\":\"2e71d93e-6444-457a-abcb-4a9a0ac3b559\",\"type\":\"SaveTool\"},{\"id\":\"33fe06b2-1ca2-4483-802a-6697bd5b3162\",\"type\":\"ResetTool\"},{\"id\":\"dd4bfa78-e505-4c0e-8ed5-afdbdd400432\",\"type\":\"HelpTool\"}]},\"id\":\"8b461808-b978-4459-bb72-3d691be7eb78\",\"type\":\"Toolbar\"},{\"attributes\":{\"ticker\":null},\"id\":\"44a1517a-fba2-47b7-8274-fcde22e71bc6\",\"type\":\"LogTickFormatter\"},{\"attributes\":{\"line_alpha\":0.6,\"line_color\":\"#377eb8\",\"line_dash\":[6],\"line_width\":5,\"x\":{\"field\":\"x\"},\"y\":{\"field\":\"y\"}},\"id\":\"ac0b9292-dc09-413a-bf71-d52503234cee\",\"type\":\"Line\"},{\"attributes\":{},\"id\":\"527c3e1b-f031-453e-abeb-7b35e5489e86\",\"type\":\"HelpTool\"},{\"attributes\":{},\"id\":\"36573778-73d0-4e91-9a43-a59e3f45f214\",\"type\":\"WheelZoomTool\"},{\"attributes\":{\"callback\":null,\"data\":{\"x\":{\"__ndarray__\":\"FXSQ7aiUQEBquFkr6ow8QFcSwNvqWT5ALb2RJmDyPkCu2WGI6QY+QLRYjNxLijtAHMFSg3vWN0CiYkTpHtEzQO3/eYrMgDBA/TEk0Z5BLUCiyw6zPFAsQD34tE3B2CxA2KRfsKu2LUDlvJstNzstQF23yYbenypAQ0S5PGlIJ0AoHqze2XUkQJjKweBw0SJA9ZS6cK2hIkAzysyGxLkjQCa4f0olKSZAKjhF342qJUDLJhdYziUhQGPgX85TYRlAOnJDdmZnE0B4G9YgarQPQHIqsSSJvApAX6b6hkrNBUARcelO/yYCQD8kNxkadv8/GbI9SGII/T/OnpSZo9X4P42xLk6dMPQ/uejBQYUf8T9H9XqVtcfuP6YaGtYTWew/7zTwF6585z/NRH2vSSzhPw9aSFQi1N0//z2TbJ4w3T8NGf0p6qreP+1W0XkFUt4/KWUn06nn3D8pYP4p0mPaP5ARcYqj89I//lFlNIAO0T8K0JMTVzfcP+0IvyKlvOM/knTXIcWw6z9rLdOqjSzyP2mb9nI9cfU/Q6mwHA2R9z9o6BsHa3P4Pxo3eJw6b/g/bFOe8Zg9+D8QYH98g+/3PxPLU71Ifvc/BwYzlsfn9j9qfm9pci72Pwgff6a0g/U/qYlNAXO89D+bexBOgOfzP+q7gSBFD/M/NqllPY5F8j8bjVBwUJ7xP4KLW+X+LPE/nB2jl/UQ8T95ABmnElfxP7eE620NnvE/Uhz76o5j8T9zifiO55HvPyYW2uv0cuo/BOin28Gn5T9FnXGN0yjhP+WQ7pbNBNc/\",\"dtype\":\"float64\",\"shape\":[75]},\"y\":{\"__ndarray__\":\"GhExyth1ND/Sv8nbtpRIP2vylNV0PVE/aTum7souWD/At0SJ8fVgPw3Iuahxymc/MSNhhJWvcD/bTfBN02d3P2zb5nxnaoA/CD5h5MAGhz8NmeH1TyaQP+zrCsc9p5Y/LbKd76fGnz/bLW5ISEmmPww9YvTcQq8/JV2OstnstT8Er5Y7M8G+P0c+r3jqkcU/5h99k6ZBzj88bCIzFzjVP4enV8oyxN0//yH99nXg5D8qOpLLf0jtP5kqGJXUifQ/c9cS8kHP/D+/DpwzojQEQIEmwoanVwxA4lgXt9HgE0BSSZ2AJuIbQAMJih9jjiNA5q4l5INuK0AwTKYKRj0zQNv5fmq8/DpAaCJseHrtQkB/+zpwzoxKQM3MzMzMeFJAZmZmZmZqWEAAAAAAAFxeQM3MzMzMJmJAmpmZmZkfZUBmZmZmZhhoQDMzMzMzEWtAAAAAAAAKbkBmZmZmZoFwQM3MzMzM/XFAMzMzMzN6c0CamZmZmfZ0QAAAAAAAc3ZAZmZmZmbvd0DNzMzMzGt5QDMzMzMz6HpAmpmZmZlkfEAAAAAAAOF9QGZmZmZmXX9AZmZmZuZsgECamZmZGSuBQM3MzMxM6YFAAAAAAICngkAzMzMzs2WDQGZmZmbmI4RAmpmZmRnihEDNzMzMTKCFQAAAAACAXoZAMzMzM7Mch0BmZmZm5tqHQJqZmZkZmYhAzczMzExXiUAAAAAAgBWKQDMzMzOz04pAZmZmZuaRi0CamZmZGVCMQM3MzMxMDo1AAAAAAIDMjUAzMzMzs4qOQGZmZmbmSI9A\",\"dtype\":\"float64\",\"shape\":[75]}},\"selected\":{\"id\":\"b0fa6888-b449-497c-b7f6-d1268db845c4\",\"type\":\"Selection\"},\"selection_policy\":{\"id\":\"c62af2a6-a7d8-41cb-85ea-20a903f15692\",\"type\":\"UnionRenderers\"}},\"id\":\"eda00ea9-7cad-4ba1-9892-6713a69c42e5\",\"type\":\"ColumnDataSource\"},{\"attributes\":{\"line_color\":\"#4daf4a\",\"line_width\":1.5,\"x\":{\"field\":\"x\"},\"y\":{\"field\":\"y\"}},\"id\":\"cfcf73a1-b022-44d2-a991-1618ceb24556\",\"type\":\"Line\"},{\"attributes\":{\"label\":{\"value\":\"CRD\"},\"renderers\":[{\"id\":\"882673f9-0e1f-4ba6-b9ea-9a855f8771f3\",\"type\":\"GlyphRenderer\"},{\"id\":\"f07dd16b-922d-4c2e-9ba1-557f2ff66c9e\",\"type\":\"GlyphRenderer\"}]},\"id\":\"da2d9016-fc95-477b-8814-18fdd3d93e98\",\"type\":\"LegendItem\"},{\"attributes\":{\"data_source\":{\"id\":\"cb4f49a4-5c70-414a-a1e2-50a8b6d47310\",\"type\":\"ColumnDataSource\"},\"glyph\":{\"id\":\"ac0b9292-dc09-413a-bf71-d52503234cee\",\"type\":\"Line\"},\"hover_glyph\":null,\"muted_glyph\":null,\"nonselection_glyph\":{\"id\":\"04eb3229-93d1-4c8d-b347-ef44dde98e50\",\"type\":\"Line\"},\"selection_glyph\":null,\"view\":{\"id\":\"543a078c-7f26-43b4-8319-2bb1e758b0be\",\"type\":\"CDSView\"}},\"id\":\"07215544-d291-4b9a-a8dd-2d6cc2b89c79\",\"type\":\"GlyphRenderer\"},{\"attributes\":{},\"id\":\"55bb2f52-6b5c-4e65-a59c-6d223cd53112\",\"type\":\"SaveTool\"},{\"attributes\":{\"source\":{\"id\":\"f1e6b206-f17a-48f3-9b67-c8bdb642a93f\",\"type\":\"ColumnDataSource\"}},\"id\":\"d1c8e0eb-bd76-4894-bf1b-4110ce5239fe\",\"type\":\"CDSView\"},{\"attributes\":{\"callback\":null,\"end\":0.01,\"start\":1020},\"id\":\"5a1b3fb9-9173-4e47-bb00-605df80e77b2\",\"type\":\"Range1d\"},{\"attributes\":{},\"id\":\"9e63c15b-17a1-4efc-ab04-db5fcfa2a021\",\"type\":\"LogScale\"},{\"attributes\":{\"bottom_units\":\"screen\",\"fill_alpha\":{\"value\":0.5},\"fill_color\":{\"value\":\"lightgrey\"},\"left_units\":\"screen\",\"level\":\"overlay\",\"line_alpha\":{\"value\":1.0},\"line_color\":{\"value\":\"black\"},\"line_dash\":[4,4],\"line_width\":{\"value\":2},\"plot\":null,\"render_mode\":\"css\",\"right_units\":\"screen\",\"top_units\":\"screen\"},\"id\":\"db0b8eca-eea8-4ba4-b118-0d738f5e697c\",\"type\":\"BoxAnnotation\"},{\"attributes\":{\"toolbar\":{\"id\":\"675bdf0e-56b1-48d5-82f9-90c63ea47190\",\"type\":\"ProxyToolbar\"},\"toolbar_location\":\"above\"},\"id\":\"c7aae9b5-ac95-4300-b5fd-859ef3a41423\",\"type\":\"ToolbarBox\"},{\"attributes\":{\"label\":{\"value\":\"CRD\"},\"renderers\":[{\"id\":\"c0fb5954-3a44-44c5-9d89-98c2c81e4b6e\",\"type\":\"GlyphRenderer\"},{\"id\":\"0a82fd7a-d861-4458-8fd0-ccc6a85c20a8\",\"type\":\"GlyphRenderer\"}]},\"id\":\"93081ece-0a05-45d2-927f-308551a0f196\",\"type\":\"LegendItem\"},{\"attributes\":{},\"id\":\"37d9517a-64dd-42f9-a044-3246d4331f8d\",\"type\":\"LinearScale\"},{\"attributes\":{\"callback\":null,\"end\":1.5925461834332701,\"start\":0.2533809880197299},\"id\":\"91daefac-dec4-4df8-a516-d6b4ddb5380b\",\"type\":\"Range1d\"},{\"attributes\":{\"axis_label\":\"cooling rate [K/day]\",\"formatter\":{\"id\":\"77eaea68-2564-4e95-bba2-ac7ef3b8e901\",\"type\":\"BasicTickFormatter\"},\"plot\":{\"id\":\"ab95b528-eb4c-4cac-bdc4-607a08a171b4\",\"subtype\":\"Figure\",\"type\":\"Plot\"},\"ticker\":{\"id\":\"0b94c415-1b9a-41b9-986e-6266dc3e7d90\",\"type\":\"BasicTicker\"}},\"id\":\"66724017-9cfa-43ce-9a7f-9b2818a69b14\",\"type\":\"LinearAxis\"},{\"attributes\":{\"axis_label\":\"pressure [mb]\",\"formatter\":{\"id\":\"44a1517a-fba2-47b7-8274-fcde22e71bc6\",\"type\":\"LogTickFormatter\"},\"plot\":{\"id\":\"ab95b528-eb4c-4cac-bdc4-607a08a171b4\",\"subtype\":\"Figure\",\"type\":\"Plot\"},\"ticker\":{\"id\":\"e5c705cb-913d-4926-82b3-fd396fcac895\",\"type\":\"LogTicker\"}},\"id\":\"8846f04d-ebbc-4ca6-9a29-3ed36bc46f90\",\"type\":\"LogAxis\"},{\"attributes\":{},\"id\":\"b88f1af9-1a74-42a6-8092-dc1c89758340\",\"type\":\"HelpTool\"},{\"attributes\":{\"axis_label\":\"cooling rate [K/day]\",\"formatter\":{\"id\":\"bd51f465-85b9-42f6-b764-7858cfb9c0b5\",\"type\":\"BasicTickFormatter\"},\"plot\":{\"id\":\"bf42334a-1fef-4b41-ad1a-cd5bedd1f919\",\"subtype\":\"Figure\",\"type\":\"Plot\"},\"ticker\":{\"id\":\"aa664c32-d859-47b3-bb76-a3d785c81532\",\"type\":\"BasicTicker\"}},\"id\":\"fcf8624f-d86c-4bdd-8717-26202ce77327\",\"type\":\"LinearAxis\"},{\"attributes\":{\"data_source\":{\"id\":\"72bf70bd-a5b0-42d8-b9b3-dd725a1b07a7\",\"type\":\"ColumnDataSource\"},\"glyph\":{\"id\":\"1129061f-cac7-495c-844c-3af2e4b85699\",\"type\":\"Circle\"},\"hover_glyph\":null,\"muted_glyph\":null,\"nonselection_glyph\":{\"id\":\"5e395a48-9065-4e24-8225-7e5d20443c1e\",\"type\":\"Circle\"},\"selection_glyph\":null,\"view\":{\"id\":\"d5bf0f90-7818-4290-b2be-309e75a7b3f2\",\"type\":\"CDSView\"}},\"id\":\"c0fb5954-3a44-44c5-9d89-98c2c81e4b6e\",\"type\":\"GlyphRenderer\"},{\"attributes\":{},\"id\":\"5f616559-2cde-48c6-9d5f-6e05eb197684\",\"type\":\"WheelZoomTool\"},{\"attributes\":{\"children\":[{\"id\":\"c7aae9b5-ac95-4300-b5fd-859ef3a41423\",\"type\":\"ToolbarBox\"},{\"id\":\"ee9a519b-7898-47f5-ab83-b750e417755b\",\"type\":\"Column\"}]},\"id\":\"e01d4f59-e7e9-4427-8ec9-a94201832575\",\"type\":\"Column\"},{\"attributes\":{\"items\":[{\"id\":\"61e9ff61-429d-411c-b07b-1125f8050bb8\",\"type\":\"LegendItem\"},{\"id\":\"93081ece-0a05-45d2-927f-308551a0f196\",\"type\":\"LegendItem\"}],\"label_text_font_size\":{\"value\":\"8pt\"},\"location\":\"top_center\",\"orientation\":\"horizontal\",\"plot\":{\"id\":\"ab95b528-eb4c-4cac-bdc4-607a08a171b4\",\"subtype\":\"Figure\",\"type\":\"Plot\"}},\"id\":\"4587ccf3-ba86-40cb-b2fb-ef86ac38c589\",\"type\":\"Legend\"},{\"attributes\":{\"fill_alpha\":{\"value\":0.1},\"fill_color\":{\"value\":\"#1f77b4\"},\"line_alpha\":{\"value\":0.1},\"line_color\":{\"value\":\"#1f77b4\"},\"x\":{\"field\":\"x\"},\"y\":{\"field\":\"y\"}},\"id\":\"5e395a48-9065-4e24-8225-7e5d20443c1e\",\"type\":\"Circle\"},{\"attributes\":{\"dimension\":1,\"plot\":{\"id\":\"ab95b528-eb4c-4cac-bdc4-607a08a171b4\",\"subtype\":\"Figure\",\"type\":\"Plot\"},\"ticker\":{\"id\":\"e5c705cb-913d-4926-82b3-fd396fcac895\",\"type\":\"LogTicker\"}},\"id\":\"ffb1365a-4fe9-47e1-8fd3-9b1286a597bc\",\"type\":\"Grid\"},{\"attributes\":{\"above\":[{\"id\":\"636a55fc-e5b4-447f-9266-849cf94e5056\",\"type\":\"Legend\"}],\"below\":[{\"id\":\"fcf8624f-d86c-4bdd-8717-26202ce77327\",\"type\":\"LinearAxis\"}],\"left\":[{\"id\":\"28c4f000-23c9-4224-9608-9cc71fc4d0d8\",\"type\":\"LogAxis\"}],\"plot_width\":300,\"renderers\":[{\"id\":\"fcf8624f-d86c-4bdd-8717-26202ce77327\",\"type\":\"LinearAxis\"},{\"id\":\"c9f0a5cd-d46d-4a28-b9b5-8c7813e3d5a5\",\"type\":\"Grid\"},{\"id\":\"28c4f000-23c9-4224-9608-9cc71fc4d0d8\",\"type\":\"LogAxis\"},{\"id\":\"58ce0dbe-3a6c-4f57-9706-fd3dc719bf14\",\"type\":\"Grid\"},{\"id\":\"cee4feb5-8bec-47a0-b83c-2a907941e4b8\",\"type\":\"BoxAnnotation\"},{\"id\":\"c5310528-f113-4232-947c-0320d930b8a2\",\"type\":\"GlyphRenderer\"},{\"id\":\"3c764ce1-2281-4602-ac12-166b704bfce4\",\"type\":\"GlyphRenderer\"},{\"id\":\"636a55fc-e5b4-447f-9266-849cf94e5056\",\"type\":\"Legend\"}],\"title\":{\"id\":\"83211213-edb9-4031-af70-4753c5583602\",\"type\":\"Title\"},\"toolbar\":{\"id\":\"8b461808-b978-4459-bb72-3d691be7eb78\",\"type\":\"Toolbar\"},\"toolbar_location\":null,\"x_range\":{\"id\":\"4a54d1e4-a1ad-4bed-a9a1-83b2ccc0fbec\",\"type\":\"Range1d\"},\"x_scale\":{\"id\":\"13568add-dcfe-44ca-b882-0124df749ee2\",\"type\":\"LinearScale\"},\"y_range\":{\"id\":\"9a679005-2812-4cd1-adea-e0253ca5daef\",\"type\":\"Range1d\"},\"y_scale\":{\"id\":\"0623ff91-6764-4c19-9dc2-f7f10711d669\",\"type\":\"LogScale\"}},\"id\":\"bf42334a-1fef-4b41-ad1a-cd5bedd1f919\",\"subtype\":\"Figure\",\"type\":\"Plot\"},{\"attributes\":{},\"id\":\"0b94c415-1b9a-41b9-986e-6266dc3e7d90\",\"type\":\"BasicTicker\"},{\"attributes\":{\"num_minor_ticks\":10},\"id\":\"e5c705cb-913d-4926-82b3-fd396fcac895\",\"type\":\"LogTicker\"},{\"attributes\":{\"source\":{\"id\":\"72bf70bd-a5b0-42d8-b9b3-dd725a1b07a7\",\"type\":\"ColumnDataSource\"}},\"id\":\"d5bf0f90-7818-4290-b2be-309e75a7b3f2\",\"type\":\"CDSView\"},{\"attributes\":{\"label\":{\"value\":\"CLIRAD (single-run) - CRD\"},\"renderers\":[{\"id\":\"c5310528-f113-4232-947c-0320d930b8a2\",\"type\":\"GlyphRenderer\"},{\"id\":\"3c764ce1-2281-4602-ac12-166b704bfce4\",\"type\":\"GlyphRenderer\"}]},\"id\":\"0bfdc299-d83b-4ddf-8662-bf1f14514da5\",\"type\":\"LegendItem\"},{\"attributes\":{},\"id\":\"c62af2a6-a7d8-41cb-85ea-20a903f15692\",\"type\":\"UnionRenderers\"},{\"attributes\":{\"fill_alpha\":{\"value\":0.7},\"fill_color\":{\"value\":\"#4daf4a\"},\"line_alpha\":{\"value\":0.7},\"line_color\":{\"value\":\"#4daf4a\"},\"x\":{\"field\":\"x\"},\"y\":{\"field\":\"y\"}},\"id\":\"a7a78f8d-c6e4-4f84-a096-36937241db20\",\"type\":\"Circle\"},{\"attributes\":{\"active_drag\":\"auto\",\"active_inspect\":\"auto\",\"active_scroll\":\"auto\",\"active_tap\":\"auto\",\"tools\":[{\"id\":\"83e964e0-2e56-4168-9d5a-a0024bdd61ac\",\"type\":\"PanTool\"},{\"id\":\"36573778-73d0-4e91-9a43-a59e3f45f214\",\"type\":\"WheelZoomTool\"},{\"id\":\"bf6da9c8-723e-421e-b92f-a49a82e5aac1\",\"type\":\"BoxZoomTool\"},{\"id\":\"55bb2f52-6b5c-4e65-a59c-6d223cd53112\",\"type\":\"SaveTool\"},{\"id\":\"36b37cd6-e91c-4a5e-9882-a4e49a641f89\",\"type\":\"ResetTool\"},{\"id\":\"b88f1af9-1a74-42a6-8092-dc1c89758340\",\"type\":\"HelpTool\"}]},\"id\":\"ffca5052-d4be-473c-a2a4-64a423398508\",\"type\":\"Toolbar\"},{\"attributes\":{\"data_source\":{\"id\":\"5d012d8d-a251-4bbd-a473-a5ea2b58cfdf\",\"type\":\"ColumnDataSource\"},\"glyph\":{\"id\":\"daf87040-a57c-4ab7-90e2-df686332c343\",\"type\":\"Line\"},\"hover_glyph\":null,\"muted_glyph\":null,\"nonselection_glyph\":{\"id\":\"da3d0ace-9568-4a62-a055-de130c029f86\",\"type\":\"Line\"},\"selection_glyph\":null,\"view\":{\"id\":\"30e91a4c-182d-413e-9cb8-427d1b9f89a9\",\"type\":\"CDSView\"}},\"id\":\"3c764ce1-2281-4602-ac12-166b704bfce4\",\"type\":\"GlyphRenderer\"},{\"attributes\":{},\"id\":\"eeacd54b-7ea5-4b26-a3fa-bbb3e55070f4\",\"type\":\"PanTool\"},{\"attributes\":{\"fill_alpha\":{\"value\":0.1},\"fill_color\":{\"value\":\"#1f77b4\"},\"line_alpha\":{\"value\":0.1},\"line_color\":{\"value\":\"#1f77b4\"},\"x\":{\"field\":\"x\"},\"y\":{\"field\":\"y\"}},\"id\":\"37738fc9-5204-4d73-a27e-551cba95b5c8\",\"type\":\"Circle\"},{\"attributes\":{\"plot\":null,\"text\":\"\"},\"id\":\"d688ca52-d7c0-4f66-ac2c-aab2a018ed13\",\"type\":\"Title\"},{\"attributes\":{\"callback\":null,\"end\":0.9883694193563302,\"start\":-1.67672640984133},\"id\":\"4a54d1e4-a1ad-4bed-a9a1-83b2ccc0fbec\",\"type\":\"Range1d\"},{\"attributes\":{\"line_alpha\":0.1,\"line_color\":\"#1f77b4\",\"line_width\":1.5,\"x\":{\"field\":\"x\"},\"y\":{\"field\":\"y\"}},\"id\":\"da3d0ace-9568-4a62-a055-de130c029f86\",\"type\":\"Line\"},{\"attributes\":{\"children\":[{\"id\":\"6cb212a6-b41c-484b-a000-f419cb606ce0\",\"subtype\":\"Figure\",\"type\":\"Plot\"},{\"id\":\"ab95b528-eb4c-4cac-bdc4-607a08a171b4\",\"subtype\":\"Figure\",\"type\":\"Plot\"},{\"id\":\"bf42334a-1fef-4b41-ad1a-cd5bedd1f919\",\"subtype\":\"Figure\",\"type\":\"Plot\"}]},\"id\":\"36f18f4f-ee88-49a7-ba24-c597cb99075f\",\"type\":\"Row\"},{\"attributes\":{},\"id\":\"e3d26745-0d9e-4b37-9e5c-c0d5f7bc527b\",\"type\":\"BasicTickFormatter\"},{\"attributes\":{\"num_minor_ticks\":10},\"id\":\"b9455f25-b12a-4130-8dc1-4cfc64e14d2d\",\"type\":\"LogTicker\"},{\"attributes\":{\"callback\":null,\"data\":{\"x\":{\"__ndarray__\":\"0CYBcvU5UkCik9zf2GVBQF1VoNfLZ0BAVLxhiVXTPUDD1Wu1wJM6QFJyB025jjdAU6Aw5+b/NECYe1uuDfgyQB6bYtVTbTFAPxYSAF1HMEA00pYVm9QuQLolHbMzgC1AntlwirGsLECv+G9SjE4rQJH6ZLBp0ShAsLZQyPd/JkDyjgyf2PwkQLgyNGsrJyRAA13QbJD6I0C8hy0ilI4kQOVTXCEgcSZAovOGvZSGJUBVc/ZmUOIgQOf/6GHAyRlAcE8fAOBSFEDRur1U//gPQGFD9ZbokghAQsqHuSqSA0C91ci3W0UBQCtRQfvz7/4/kh8pntyB+j9t1/n+4TX1P773MAUjFfI/RgzR+CI28T8hBW8WHK7uPzVKjJfU8uk/0FPt4/z65T/wVYqzMPDhPz7K9C5CXuE/8+hSn9hY4T/9PPCkR6rhP1XsIC599OA/66X1nBCX3z/YbRM56QjcPz4dkSQc/dM/S7Wb8Fq00T+/yQdmX0vcP7TrGf476eM/WqNPJoWO7D9qOH1bcwDzP2bw+R5DQ/Y/RLSuQOQp+D8+aif8yAz5P0Wv6eBKRfk/0i2+IN4R+T/ik8QNFZr4PyS5UD5j/Pc/yJ68zXRG9z/2CHPL54H2P59SOhwKtPU/npkP8dfg9D8NlmVcdQz0P80ugRvuOvM/byxiAHN18j9USVZie8nxP5l9lNXYSPE/OB+F0UYP8T8Y7dsUCTHxP3EBgTHPcPE/bfx15p8S8T8FT+xkGtTuP6mdG7rkxuk/pboqTkHX5D/CrN8qGYngP7R4ZaL+htU/\",\"dtype\":\"float64\",\"shape\":[75]},\"y\":{\"__ndarray__\":\"GhExyth1ND/Sv8nbtpRIP2vylNV0PVE/aTum7souWD/At0SJ8fVgPw3Iuahxymc/MSNhhJWvcD/bTfBN02d3P2zb5nxnaoA/CD5h5MAGhz8NmeH1TyaQP+zrCsc9p5Y/LbKd76fGnz/bLW5ISEmmPww9YvTcQq8/JV2OstnstT8Er5Y7M8G+P0c+r3jqkcU/5h99k6ZBzj88bCIzFzjVP4enV8oyxN0//yH99nXg5D8qOpLLf0jtP5kqGJXUifQ/c9cS8kHP/D+/DpwzojQEQIEmwoanVwxA4lgXt9HgE0BSSZ2AJuIbQAMJih9jjiNA5q4l5INuK0AwTKYKRj0zQNv5fmq8/DpAaCJseHrtQkB/+zpwzoxKQM3MzMzMeFJAZmZmZmZqWEAAAAAAAFxeQM3MzMzMJmJAmpmZmZkfZUBmZmZmZhhoQDMzMzMzEWtAAAAAAAAKbkBmZmZmZoFwQM3MzMzM/XFAMzMzMzN6c0CamZmZmfZ0QAAAAAAAc3ZAZmZmZmbvd0DNzMzMzGt5QDMzMzMz6HpAmpmZmZlkfEAAAAAAAOF9QGZmZmZmXX9AZmZmZuZsgECamZmZGSuBQM3MzMxM6YFAAAAAAICngkAzMzMzs2WDQGZmZmbmI4RAmpmZmRnihEDNzMzMTKCFQAAAAACAXoZAMzMzM7Mch0BmZmZm5tqHQJqZmZkZmYhAzczMzExXiUAAAAAAgBWKQDMzMzOz04pAZmZmZuaRi0CamZmZGVCMQM3MzMxMDo1AAAAAAIDMjUAzMzMzs4qOQGZmZmbmSI9A\",\"dtype\":\"float64\",\"shape\":[75]}},\"selected\":{\"id\":\"ef173c76-6329-4043-8d69-bcdf47dbb0d2\",\"type\":\"Selection\"},\"selection_policy\":{\"id\":\"480daa5d-ac1d-4283-8178-52be42af9f3b\",\"type\":\"UnionRenderers\"}},\"id\":\"366bc2be-6e5c-42ad-9efc-c44ec281d739\",\"type\":\"ColumnDataSource\"},{\"attributes\":{\"callback\":null,\"data\":{\"x\":{\"__ndarray__\":\"jdlx9kHfQ8Bwu31RHvsYwP3CBJxmrQPAng0A06nw8T9WH7CXRpkLQAozJ3yU3A9AVgYR4aS0BkBq4RxdJyLrP+xlE13pkO2/F9T/d9lo+r+FNEAU8yL0v3uvBa1M7tS/h7PsXqKf4D9cQ7yyrcruP6vMS2ZN5+w/RrIRjS4O2T9fGQ4M2N/QvwaCJqeoW+W/4YBcwS+O5b8UsRds85nav8vvJre1/sG/AUUi35D8sT9N3SxIfN/AP3fhR+IkG7q/2KZ7OzFvzb871uf5TCWhv444320ETdE/4eCWa/7Y0T97ahPkcjS8P6Riur7DxKA/M5SkUC00xD/uOtbUDP7MP4HO7UfS28A/W40jD7eddr/zJfALf5lpP3KDbvT5MbM/8hEuQBMbqD9YJKKB4HyYv7XphCaIobO/o09KSEsEtr+mg41/lKayv/ANhBOnt6y/MAZyTjZ7pb8D21DxcFGav+u6AKKJl5C/SGnMhle7hL9utPlzUghUv45kca1tS3a/8dgFjwC4m7+7X0EVtnyqv4yfaoC1QKq/SWDBf+Qao7+VOnChviujv2YFL44Iwqq/yUz746WIqr89eqYoMlKlv2iEOz+ghp+/JjBm4k2rl7/2ouKAWN2UvzLLmd26Koi/VfkH4Xcygr+sOY0qh3qCvyxyuX991IW/optBfmHyh79cHN4CeZWFvzgW8jjw2Xu/AE/m32HsOj9csYkeyQSDP7uiQTUen4Y/QflHIcE7lD+2TYdBpbmXP5APzzcGgpU/kaulrxEQmj9aED5STPeTPxCDkUjv3Jc/\",\"dtype\":\"float64\",\"shape\":[75]},\"y\":{\"__ndarray__\":\"GhExyth1ND/Sv8nbtpRIP2vylNV0PVE/aTum7souWD/At0SJ8fVgPw3Iuahxymc/MSNhhJWvcD/bTfBN02d3P2zb5nxnaoA/CD5h5MAGhz8NmeH1TyaQP+zrCsc9p5Y/LbKd76fGnz/bLW5ISEmmPww9YvTcQq8/JV2OstnstT8Er5Y7M8G+P0c+r3jqkcU/5h99k6ZBzj88bCIzFzjVP4enV8oyxN0//yH99nXg5D8qOpLLf0jtP5kqGJXUifQ/c9cS8kHP/D+/DpwzojQEQIEmwoanVwxA4lgXt9HgE0BSSZ2AJuIbQAMJih9jjiNA5q4l5INuK0AwTKYKRj0zQNv5fmq8/DpAaCJseHrtQkB/+zpwzoxKQM3MzMzMeFJAZmZmZmZqWEAAAAAAAFxeQM3MzMzMJmJAmpmZmZkfZUBmZmZmZhhoQDMzMzMzEWtAAAAAAAAKbkBmZmZmZoFwQM3MzMzM/XFAMzMzMzN6c0CamZmZmfZ0QAAAAAAAc3ZAZmZmZmbvd0DNzMzMzGt5QDMzMzMz6HpAmpmZmZlkfEAAAAAAAOF9QGZmZmZmXX9AZmZmZuZsgECamZmZGSuBQM3MzMxM6YFAAAAAAICngkAzMzMzs2WDQGZmZmbmI4RAmpmZmRnihEDNzMzMTKCFQAAAAACAXoZAMzMzM7Mch0BmZmZm5tqHQJqZmZkZmYhAzczMzExXiUAAAAAAgBWKQDMzMzOz04pAZmZmZuaRi0CamZmZGVCMQM3MzMxMDo1AAAAAAIDMjUAzMzMzs4qOQGZmZmbmSI9A\",\"dtype\":\"float64\",\"shape\":[75]}},\"selected\":{\"id\":\"02c2efaa-152c-4470-ab36-19f2089c3b71\",\"type\":\"Selection\"},\"selection_policy\":{\"id\":\"1585f1bd-9fce-43f6-bf7b-dd6e9210a18f\",\"type\":\"UnionRenderers\"}},\"id\":\"5d012d8d-a251-4bbd-a473-a5ea2b58cfdf\",\"type\":\"ColumnDataSource\"},{\"attributes\":{\"children\":[{\"id\":\"36f18f4f-ee88-49a7-ba24-c597cb99075f\",\"type\":\"Row\"}]},\"id\":\"ee9a519b-7898-47f5-ab83-b750e417755b\",\"type\":\"Column\"},{\"attributes\":{\"line_alpha\":0.8,\"line_color\":\"#984ea3\",\"line_width\":1.5,\"x\":{\"field\":\"x\"},\"y\":{\"field\":\"y\"}},\"id\":\"daf87040-a57c-4ab7-90e2-df686332c343\",\"type\":\"Line\"},{\"attributes\":{\"bottom_units\":\"screen\",\"fill_alpha\":{\"value\":0.5},\"fill_color\":{\"value\":\"lightgrey\"},\"left_units\":\"screen\",\"level\":\"overlay\",\"line_alpha\":{\"value\":1.0},\"line_color\":{\"value\":\"black\"},\"line_dash\":[4,4],\"line_width\":{\"value\":2},\"plot\":null,\"render_mode\":\"css\",\"right_units\":\"screen\",\"top_units\":\"screen\"},\"id\":\"cee4feb5-8bec-47a0-b83c-2a907941e4b8\",\"type\":\"BoxAnnotation\"},{\"attributes\":{\"fill_alpha\":{\"value\":0.1},\"fill_color\":{\"value\":\"#1f77b4\"},\"line_alpha\":{\"value\":0.1},\"line_color\":{\"value\":\"#1f77b4\"},\"x\":{\"field\":\"x\"},\"y\":{\"field\":\"y\"}},\"id\":\"663c0b3c-5f16-4100-a13e-cb12ab854f62\",\"type\":\"Circle\"},{\"attributes\":{\"dimension\":1,\"plot\":{\"id\":\"bf42334a-1fef-4b41-ad1a-cd5bedd1f919\",\"subtype\":\"Figure\",\"type\":\"Plot\"},\"ticker\":{\"id\":\"b9455f25-b12a-4130-8dc1-4cfc64e14d2d\",\"type\":\"LogTicker\"}},\"id\":\"58ce0dbe-3a6c-4f57-9706-fd3dc719bf14\",\"type\":\"Grid\"},{\"attributes\":{},\"id\":\"e4555eb8-73b1-453b-a587-3ab09ea3ed15\",\"type\":\"PanTool\"},{\"attributes\":{},\"id\":\"dd4bfa78-e505-4c0e-8ed5-afdbdd400432\",\"type\":\"HelpTool\"},{\"attributes\":{\"line_alpha\":0.1,\"line_color\":\"#1f77b4\",\"line_width\":1.5,\"x\":{\"field\":\"x\"},\"y\":{\"field\":\"y\"}},\"id\":\"053e2cfc-2064-4e5a-817b-384cf096a658\",\"type\":\"Line\"},{\"attributes\":{\"line_alpha\":0.1,\"line_color\":\"#1f77b4\",\"line_dash\":[6],\"line_width\":5,\"x\":{\"field\":\"x\"},\"y\":{\"field\":\"y\"}},\"id\":\"2c877b30-fe7a-46b7-b806-d9603860b26f\",\"type\":\"Line\"},{\"attributes\":{\"source\":{\"id\":\"eda00ea9-7cad-4ba1-9892-6713a69c42e5\",\"type\":\"ColumnDataSource\"}},\"id\":\"e19815e2-e0e0-4897-9d2a-24039191febb\",\"type\":\"CDSView\"},{\"attributes\":{\"overlay\":{\"id\":\"f818f4a9-f526-4aee-bd95-3e3f890c0904\",\"type\":\"BoxAnnotation\"}},\"id\":\"8513bae9-87cb-42c6-beb2-bd76464533b1\",\"type\":\"BoxZoomTool\"},{\"attributes\":{\"above\":[{\"id\":\"8bd58980-555f-4a7b-8161-f2a6fdfcb8ad\",\"type\":\"Legend\"}],\"below\":[{\"id\":\"59e9324a-7882-44eb-9590-efe79c80eff2\",\"type\":\"LinearAxis\"}],\"left\":[{\"id\":\"2d312787-d7a0-41b2-9004-c5534f7ad73d\",\"type\":\"LinearAxis\"}],\"plot_width\":300,\"renderers\":[{\"id\":\"59e9324a-7882-44eb-9590-efe79c80eff2\",\"type\":\"LinearAxis\"},{\"id\":\"e5928898-c8a5-4ded-aa7d-5c6bea215782\",\"type\":\"Grid\"},{\"id\":\"2d312787-d7a0-41b2-9004-c5534f7ad73d\",\"type\":\"LinearAxis\"},{\"id\":\"18a76dd9-bb02-4659-9731-342aa0b49a79\",\"type\":\"Grid\"},{\"id\":\"db0b8eca-eea8-4ba4-b118-0d738f5e697c\",\"type\":\"BoxAnnotation\"},{\"id\":\"07215544-d291-4b9a-a8dd-2d6cc2b89c79\",\"type\":\"GlyphRenderer\"},{\"id\":\"882673f9-0e1f-4ba6-b9ea-9a855f8771f3\",\"type\":\"GlyphRenderer\"},{\"id\":\"f07dd16b-922d-4c2e-9ba1-557f2ff66c9e\",\"type\":\"GlyphRenderer\"},{\"id\":\"8bd58980-555f-4a7b-8161-f2a6fdfcb8ad\",\"type\":\"Legend\"}],\"title\":{\"id\":\"d688ca52-d7c0-4f66-ac2c-aab2a018ed13\",\"type\":\"Title\"},\"toolbar\":{\"id\":\"ffca5052-d4be-473c-a2a4-64a423398508\",\"type\":\"Toolbar\"},\"toolbar_location\":null,\"x_range\":{\"id\":\"91daefac-dec4-4df8-a516-d6b4ddb5380b\",\"type\":\"Range1d\"},\"x_scale\":{\"id\":\"d2eb9a3b-780e-4033-8af0-f6f7b50ca636\",\"type\":\"LinearScale\"},\"y_range\":{\"id\":\"fb329e4c-b798-4a1a-85a6-595c2e226923\",\"type\":\"Range1d\"},\"y_scale\":{\"id\":\"e563def1-097b-4c92-86c3-7ce803e8ee91\",\"type\":\"LinearScale\"}},\"id\":\"6cb212a6-b41c-484b-a000-f419cb606ce0\",\"subtype\":\"Figure\",\"type\":\"Plot\"},{\"attributes\":{\"line_color\":\"#4daf4a\",\"line_width\":1.5,\"x\":{\"field\":\"x\"},\"y\":{\"field\":\"y\"}},\"id\":\"a6c6bd4d-b102-4e80-9793-1ce8b6a64b83\",\"type\":\"Line\"},{\"attributes\":{},\"id\":\"0aa99317-c46a-4b96-842c-0a5dbb92b768\",\"type\":\"UnionRenderers\"},{\"attributes\":{\"active_drag\":\"auto\",\"active_inspect\":\"auto\",\"active_scroll\":\"auto\",\"active_tap\":\"auto\",\"tools\":[{\"id\":\"e4555eb8-73b1-453b-a587-3ab09ea3ed15\",\"type\":\"PanTool\"},{\"id\":\"5f616559-2cde-48c6-9d5f-6e05eb197684\",\"type\":\"WheelZoomTool\"},{\"id\":\"8513bae9-87cb-42c6-beb2-bd76464533b1\",\"type\":\"BoxZoomTool\"},{\"id\":\"705a92d5-1437-4e09-a649-c624e2403eca\",\"type\":\"SaveTool\"},{\"id\":\"299ca1e3-33df-40d5-810b-858589abb7ec\",\"type\":\"ResetTool\"},{\"id\":\"527c3e1b-f031-453e-abeb-7b35e5489e86\",\"type\":\"HelpTool\"}]},\"id\":\"08b58077-fb7a-45b4-9ef1-b18107175503\",\"type\":\"Toolbar\"},{\"attributes\":{\"source\":{\"id\":\"7fb237e2-c9c0-4ce6-a11f-03c79ccc788a\",\"type\":\"ColumnDataSource\"}},\"id\":\"4c699ff4-f5f7-4cf8-835a-f41a93dfe7da\",\"type\":\"CDSView\"},{\"attributes\":{},\"id\":\"33fe06b2-1ca2-4483-802a-6697bd5b3162\",\"type\":\"ResetTool\"},{\"attributes\":{\"data_source\":{\"id\":\"eda00ea9-7cad-4ba1-9892-6713a69c42e5\",\"type\":\"ColumnDataSource\"},\"glyph\":{\"id\":\"897301c7-b440-488b-bae7-7264dc034fff\",\"type\":\"Line\"},\"hover_glyph\":null,\"muted_glyph\":null,\"nonselection_glyph\":{\"id\":\"2c877b30-fe7a-46b7-b806-d9603860b26f\",\"type\":\"Line\"},\"selection_glyph\":null,\"view\":{\"id\":\"e19815e2-e0e0-4897-9d2a-24039191febb\",\"type\":\"CDSView\"}},\"id\":\"e7d0b424-43fa-4e54-a3d9-1b370811b761\",\"type\":\"GlyphRenderer\"},{\"attributes\":{\"source\":{\"id\":\"366bc2be-6e5c-42ad-9efc-c44ec281d739\",\"type\":\"ColumnDataSource\"}},\"id\":\"6dd72412-bfb9-4edc-ad2d-7faa044b41d3\",\"type\":\"CDSView\"},{\"attributes\":{},\"id\":\"0d25dd31-bef4-476d-9b91-3e11290ef46e\",\"type\":\"WheelZoomTool\"},{\"attributes\":{},\"id\":\"b0fa6888-b449-497c-b7f6-d1268db845c4\",\"type\":\"Selection\"},{\"attributes\":{\"callback\":null,\"end\":0.01,\"start\":1020},\"id\":\"fb329e4c-b798-4a1a-85a6-595c2e226923\",\"type\":\"Range1d\"},{\"attributes\":{},\"id\":\"2e71d93e-6444-457a-abcb-4a9a0ac3b559\",\"type\":\"SaveTool\"},{\"attributes\":{\"overlay\":{\"id\":\"cee4feb5-8bec-47a0-b83c-2a907941e4b8\",\"type\":\"BoxAnnotation\"}},\"id\":\"0b2457e9-d258-4001-9db2-f8f081036df9\",\"type\":\"BoxZoomTool\"},{\"attributes\":{\"data_source\":{\"id\":\"366bc2be-6e5c-42ad-9efc-c44ec281d739\",\"type\":\"ColumnDataSource\"},\"glyph\":{\"id\":\"a6c6bd4d-b102-4e80-9793-1ce8b6a64b83\",\"type\":\"Line\"},\"hover_glyph\":null,\"muted_glyph\":null,\"nonselection_glyph\":{\"id\":\"053e2cfc-2064-4e5a-817b-384cf096a658\",\"type\":\"Line\"},\"selection_glyph\":null,\"view\":{\"id\":\"6dd72412-bfb9-4edc-ad2d-7faa044b41d3\",\"type\":\"CDSView\"}},\"id\":\"0a82fd7a-d861-4458-8fd0-ccc6a85c20a8\",\"type\":\"GlyphRenderer\"},{\"attributes\":{\"fill_alpha\":{\"value\":0.7},\"fill_color\":{\"value\":\"#4daf4a\"},\"line_alpha\":{\"value\":0.7},\"line_color\":{\"value\":\"#4daf4a\"},\"x\":{\"field\":\"x\"},\"y\":{\"field\":\"y\"}},\"id\":\"1129061f-cac7-495c-844c-3af2e4b85699\",\"type\":\"Circle\"},{\"attributes\":{\"callback\":null,\"data\":{\"x\":{\"__ndarray__\":\"0CYBcvU5UkCik9zf2GVBQF1VoNfLZ0BAVLxhiVXTPUDD1Wu1wJM6QFJyB025jjdAU6Aw5+b/NECYe1uuDfgyQB6bYtVTbTFAPxYSAF1HMEA00pYVm9QuQLolHbMzgC1AntlwirGsLECv+G9SjE4rQJH6ZLBp0ShAsLZQyPd/JkDyjgyf2PwkQLgyNGsrJyRAA13QbJD6I0C8hy0ilI4kQOVTXCEgcSZAovOGvZSGJUBVc/ZmUOIgQOf/6GHAyRlAcE8fAOBSFEDRur1U//gPQGFD9ZbokghAQsqHuSqSA0C91ci3W0UBQCtRQfvz7/4/kh8pntyB+j9t1/n+4TX1P773MAUjFfI/RgzR+CI28T8hBW8WHK7uPzVKjJfU8uk/0FPt4/z65T/wVYqzMPDhPz7K9C5CXuE/8+hSn9hY4T/9PPCkR6rhP1XsIC599OA/66X1nBCX3z/YbRM56QjcPz4dkSQc/dM/S7Wb8Fq00T+/yQdmX0vcP7TrGf476eM/WqNPJoWO7D9qOH1bcwDzP2bw+R5DQ/Y/RLSuQOQp+D8+aif8yAz5P0Wv6eBKRfk/0i2+IN4R+T/ik8QNFZr4PyS5UD5j/Pc/yJ68zXRG9z/2CHPL54H2P59SOhwKtPU/npkP8dfg9D8NlmVcdQz0P80ugRvuOvM/byxiAHN18j9USVZie8nxP5l9lNXYSPE/OB+F0UYP8T8Y7dsUCTHxP3EBgTHPcPE/bfx15p8S8T8FT+xkGtTuP6mdG7rkxuk/pboqTkHX5D/CrN8qGYngP7R4ZaL+htU/\",\"dtype\":\"float64\",\"shape\":[75]},\"y\":{\"__ndarray__\":\"GhExyth1ND/Sv8nbtpRIP2vylNV0PVE/aTum7souWD/At0SJ8fVgPw3Iuahxymc/MSNhhJWvcD/bTfBN02d3P2zb5nxnaoA/CD5h5MAGhz8NmeH1TyaQP+zrCsc9p5Y/LbKd76fGnz/bLW5ISEmmPww9YvTcQq8/JV2OstnstT8Er5Y7M8G+P0c+r3jqkcU/5h99k6ZBzj88bCIzFzjVP4enV8oyxN0//yH99nXg5D8qOpLLf0jtP5kqGJXUifQ/c9cS8kHP/D+/DpwzojQEQIEmwoanVwxA4lgXt9HgE0BSSZ2AJuIbQAMJih9jjiNA5q4l5INuK0AwTKYKRj0zQNv5fmq8/DpAaCJseHrtQkB/+zpwzoxKQM3MzMzMeFJAZmZmZmZqWEAAAAAAAFxeQM3MzMzMJmJAmpmZmZkfZUBmZmZmZhhoQDMzMzMzEWtAAAAAAAAKbkBmZmZmZoFwQM3MzMzM/XFAMzMzMzN6c0CamZmZmfZ0QAAAAAAAc3ZAZmZmZmbvd0DNzMzMzGt5QDMzMzMz6HpAmpmZmZlkfEAAAAAAAOF9QGZmZmZmXX9AZmZmZuZsgECamZmZGSuBQM3MzMxM6YFAAAAAAICngkAzMzMzs2WDQGZmZmbmI4RAmpmZmRnihEDNzMzMTKCFQAAAAACAXoZAMzMzM7Mch0BmZmZm5tqHQJqZmZkZmYhAzczMzExXiUAAAAAAgBWKQDMzMzOz04pAZmZmZuaRi0CamZmZGVCMQM3MzMxMDo1AAAAAAIDMjUAzMzMzs4qOQGZmZmbmSI9A\",\"dtype\":\"float64\",\"shape\":[75]}},\"selected\":{\"id\":\"1c86ccbb-1737-49ec-8350-949a003e620e\",\"type\":\"Selection\"},\"selection_policy\":{\"id\":\"3dc194ee-a9a8-4d6d-9420-70a4414e2ae6\",\"type\":\"UnionRenderers\"}},\"id\":\"f1e6b206-f17a-48f3-9b67-c8bdb642a93f\",\"type\":\"ColumnDataSource\"},{\"attributes\":{\"source\":{\"id\":\"5d012d8d-a251-4bbd-a473-a5ea2b58cfdf\",\"type\":\"ColumnDataSource\"}},\"id\":\"30e91a4c-182d-413e-9cb8-427d1b9f89a9\",\"type\":\"CDSView\"},{\"attributes\":{\"callback\":null,\"data\":{\"x\":{\"__ndarray__\":\"0CYBcvU5UkCik9zf2GVBQF1VoNfLZ0BAVLxhiVXTPUDD1Wu1wJM6QFJyB025jjdAU6Aw5+b/NECYe1uuDfgyQB6bYtVTbTFAPxYSAF1HMEA00pYVm9QuQLolHbMzgC1AntlwirGsLECv+G9SjE4rQJH6ZLBp0ShAsLZQyPd/JkDyjgyf2PwkQLgyNGsrJyRAA13QbJD6I0C8hy0ilI4kQOVTXCEgcSZAovOGvZSGJUBVc/ZmUOIgQOf/6GHAyRlAcE8fAOBSFEDRur1U//gPQGFD9ZbokghAQsqHuSqSA0C91ci3W0UBQCtRQfvz7/4/kh8pntyB+j9t1/n+4TX1P773MAUjFfI/RgzR+CI28T8hBW8WHK7uPzVKjJfU8uk/0FPt4/z65T/wVYqzMPDhPz7K9C5CXuE/8+hSn9hY4T/9PPCkR6rhP1XsIC599OA/66X1nBCX3z/YbRM56QjcPz4dkSQc/dM/S7Wb8Fq00T+/yQdmX0vcP7TrGf476eM/WqNPJoWO7D9qOH1bcwDzP2bw+R5DQ/Y/RLSuQOQp+D8+aif8yAz5P0Wv6eBKRfk/0i2+IN4R+T/ik8QNFZr4PyS5UD5j/Pc/yJ68zXRG9z/2CHPL54H2P59SOhwKtPU/npkP8dfg9D8NlmVcdQz0P80ugRvuOvM/byxiAHN18j9USVZie8nxP5l9lNXYSPE/OB+F0UYP8T8Y7dsUCTHxP3EBgTHPcPE/bfx15p8S8T8FT+xkGtTuP6mdG7rkxuk/pboqTkHX5D/CrN8qGYngP7R4ZaL+htU/\",\"dtype\":\"float64\",\"shape\":[75]},\"y\":{\"__ndarray__\":\"GhExyth1ND/Sv8nbtpRIP2vylNV0PVE/aTum7souWD/At0SJ8fVgPw3Iuahxymc/MSNhhJWvcD/bTfBN02d3P2zb5nxnaoA/CD5h5MAGhz8NmeH1TyaQP+zrCsc9p5Y/LbKd76fGnz/bLW5ISEmmPww9YvTcQq8/JV2OstnstT8Er5Y7M8G+P0c+r3jqkcU/5h99k6ZBzj88bCIzFzjVP4enV8oyxN0//yH99nXg5D8qOpLLf0jtP5kqGJXUifQ/c9cS8kHP/D+/DpwzojQEQIEmwoanVwxA4lgXt9HgE0BSSZ2AJuIbQAMJih9jjiNA5q4l5INuK0AwTKYKRj0zQNv5fmq8/DpAaCJseHrtQkB/+zpwzoxKQM3MzMzMeFJAZmZmZmZqWEAAAAAAAFxeQM3MzMzMJmJAmpmZmZkfZUBmZmZmZhhoQDMzMzMzEWtAAAAAAAAKbkBmZmZmZoFwQM3MzMzM/XFAMzMzMzN6c0CamZmZmfZ0QAAAAAAAc3ZAZmZmZmbvd0DNzMzMzGt5QDMzMzMz6HpAmpmZmZlkfEAAAAAAAOF9QGZmZmZmXX9AZmZmZuZsgECamZmZGSuBQM3MzMxM6YFAAAAAAICngkAzMzMzs2WDQGZmZmbmI4RAmpmZmRnihEDNzMzMTKCFQAAAAACAXoZAMzMzM7Mch0BmZmZm5tqHQJqZmZkZmYhAzczMzExXiUAAAAAAgBWKQDMzMzOz04pAZmZmZuaRi0CamZmZGVCMQM3MzMxMDo1AAAAAAIDMjUAzMzMzs4qOQGZmZmbmSI9A\",\"dtype\":\"float64\",\"shape\":[75]}},\"selected\":{\"id\":\"be9b0653-fa01-4f79-918a-fa6dcea3a78d\",\"type\":\"Selection\"},\"selection_policy\":{\"id\":\"0aa99317-c46a-4b96-842c-0a5dbb92b768\",\"type\":\"UnionRenderers\"}},\"id\":\"72bf70bd-a5b0-42d8-b9b3-dd725a1b07a7\",\"type\":\"ColumnDataSource\"},{\"attributes\":{\"line_alpha\":0.1,\"line_color\":\"#1f77b4\",\"line_dash\":[6],\"line_width\":5,\"x\":{\"field\":\"x\"},\"y\":{\"field\":\"y\"}},\"id\":\"04eb3229-93d1-4c8d-b347-ef44dde98e50\",\"type\":\"Line\"},{\"attributes\":{\"callback\":null,\"data\":{\"x\":{\"__ndarray__\":\"FXSQ7aiUQEBquFkr6ow8QFcSwNvqWT5ALb2RJmDyPkCu2WGI6QY+QLRYjNxLijtAHMFSg3vWN0CiYkTpHtEzQO3/eYrMgDBA/TEk0Z5BLUCiyw6zPFAsQD34tE3B2CxA2KRfsKu2LUDlvJstNzstQF23yYbenypAQ0S5PGlIJ0AoHqze2XUkQJjKweBw0SJA9ZS6cK2hIkAzysyGxLkjQCa4f0olKSZAKjhF342qJUDLJhdYziUhQGPgX85TYRlAOnJDdmZnE0B4G9YgarQPQHIqsSSJvApAX6b6hkrNBUARcelO/yYCQD8kNxkadv8/GbI9SGII/T/OnpSZo9X4P42xLk6dMPQ/uejBQYUf8T9H9XqVtcfuP6YaGtYTWew/7zTwF6585z/NRH2vSSzhPw9aSFQi1N0//z2TbJ4w3T8NGf0p6qreP+1W0XkFUt4/KWUn06nn3D8pYP4p0mPaP5ARcYqj89I//lFlNIAO0T8K0JMTVzfcP+0IvyKlvOM/knTXIcWw6z9rLdOqjSzyP2mb9nI9cfU/Q6mwHA2R9z9o6BsHa3P4Pxo3eJw6b/g/bFOe8Zg9+D8QYH98g+/3PxPLU71Ifvc/BwYzlsfn9j9qfm9pci72Pwgff6a0g/U/qYlNAXO89D+bexBOgOfzP+q7gSBFD/M/NqllPY5F8j8bjVBwUJ7xP4KLW+X+LPE/nB2jl/UQ8T95ABmnElfxP7eE620NnvE/Uhz76o5j8T9zifiO55HvPyYW2uv0cuo/BOin28Gn5T9FnXGN0yjhP+WQ7pbNBNc/\",\"dtype\":\"float64\",\"shape\":[75]},\"y\":{\"__ndarray__\":\"GhExyth1ND/Sv8nbtpRIP2vylNV0PVE/aTum7souWD/At0SJ8fVgPw3Iuahxymc/MSNhhJWvcD/bTfBN02d3P2zb5nxnaoA/CD5h5MAGhz8NmeH1TyaQP+zrCsc9p5Y/LbKd76fGnz/bLW5ISEmmPww9YvTcQq8/JV2OstnstT8Er5Y7M8G+P0c+r3jqkcU/5h99k6ZBzj88bCIzFzjVP4enV8oyxN0//yH99nXg5D8qOpLLf0jtP5kqGJXUifQ/c9cS8kHP/D+/DpwzojQEQIEmwoanVwxA4lgXt9HgE0BSSZ2AJuIbQAMJih9jjiNA5q4l5INuK0AwTKYKRj0zQNv5fmq8/DpAaCJseHrtQkB/+zpwzoxKQM3MzMzMeFJAZmZmZmZqWEAAAAAAAFxeQM3MzMzMJmJAmpmZmZkfZUBmZmZmZhhoQDMzMzMzEWtAAAAAAAAKbkBmZmZmZoFwQM3MzMzM/XFAMzMzMzN6c0CamZmZmfZ0QAAAAAAAc3ZAZmZmZmbvd0DNzMzMzGt5QDMzMzMz6HpAmpmZmZlkfEAAAAAAAOF9QGZmZmZmXX9AZmZmZuZsgECamZmZGSuBQM3MzMxM6YFAAAAAAICngkAzMzMzs2WDQGZmZmbmI4RAmpmZmRnihEDNzMzMTKCFQAAAAACAXoZAMzMzM7Mch0BmZmZm5tqHQJqZmZkZmYhAzczMzExXiUAAAAAAgBWKQDMzMzOz04pAZmZmZuaRi0CamZmZGVCMQM3MzMxMDo1AAAAAAIDMjUAzMzMzs4qOQGZmZmbmSI9A\",\"dtype\":\"float64\",\"shape\":[75]}},\"selected\":{\"id\":\"a53f5c70-1cb5-4779-b221-e4955445593b\",\"type\":\"Selection\"},\"selection_policy\":{\"id\":\"1315e6ef-ade8-482e-8565-1872fa71ab1c\",\"type\":\"UnionRenderers\"}},\"id\":\"cb4f49a4-5c70-414a-a1e2-50a8b6d47310\",\"type\":\"ColumnDataSource\"},{\"attributes\":{},\"id\":\"a53f5c70-1cb5-4779-b221-e4955445593b\",\"type\":\"Selection\"},{\"attributes\":{},\"id\":\"77eaea68-2564-4e95-bba2-ac7ef3b8e901\",\"type\":\"BasicTickFormatter\"},{\"attributes\":{\"fill_alpha\":{\"value\":0.7},\"fill_color\":{\"value\":\"#984ea3\"},\"line_alpha\":{\"value\":0.7},\"line_color\":{\"value\":\"#984ea3\"},\"x\":{\"field\":\"x\"},\"y\":{\"field\":\"y\"}},\"id\":\"c2514742-9996-489e-bf8a-b04b97b6c326\",\"type\":\"Circle\"},{\"attributes\":{},\"id\":\"1585f1bd-9fce-43f6-bf7b-dd6e9210a18f\",\"type\":\"UnionRenderers\"},{\"attributes\":{},\"id\":\"3af53ac5-16f4-4931-bb5a-7393e47e538a\",\"type\":\"UnionRenderers\"},{\"attributes\":{\"axis_label\":\"pressure [mb]\",\"formatter\":{\"id\":\"80d53b8e-710e-40f6-97f1-add331890164\",\"type\":\"LogTickFormatter\"},\"plot\":{\"id\":\"bf42334a-1fef-4b41-ad1a-cd5bedd1f919\",\"subtype\":\"Figure\",\"type\":\"Plot\"},\"ticker\":{\"id\":\"b9455f25-b12a-4130-8dc1-4cfc64e14d2d\",\"type\":\"LogTicker\"}},\"id\":\"28c4f000-23c9-4224-9608-9cc71fc4d0d8\",\"type\":\"LogAxis\"},{\"attributes\":{},\"id\":\"fb1f4bed-9a6f-48b2-acb3-2aef6768195d\",\"type\":\"Selection\"},{\"attributes\":{\"callback\":null,\"end\":16.436989525222398,\"start\":0.29786575512560004},\"id\":\"8fd66fb1-6dec-4271-9a02-7027eba2c943\",\"type\":\"Range1d\"},{\"attributes\":{\"callback\":null,\"data\":{\"x\":{\"__ndarray__\":\"jdlx9kHfQ8Bwu31RHvsYwP3CBJxmrQPAng0A06nw8T9WH7CXRpkLQAozJ3yU3A9AVgYR4aS0BkBq4RxdJyLrP+xlE13pkO2/F9T/d9lo+r+FNEAU8yL0v3uvBa1M7tS/h7PsXqKf4D9cQ7yyrcruP6vMS2ZN5+w/RrIRjS4O2T9fGQ4M2N/QvwaCJqeoW+W/4YBcwS+O5b8UsRds85nav8vvJre1/sG/AUUi35D8sT9N3SxIfN/AP3fhR+IkG7q/2KZ7OzFvzb871uf5TCWhv444320ETdE/4eCWa/7Y0T97ahPkcjS8P6Riur7DxKA/M5SkUC00xD/uOtbUDP7MP4HO7UfS28A/W40jD7eddr/zJfALf5lpP3KDbvT5MbM/8hEuQBMbqD9YJKKB4HyYv7XphCaIobO/o09KSEsEtr+mg41/lKayv/ANhBOnt6y/MAZyTjZ7pb8D21DxcFGav+u6AKKJl5C/SGnMhle7hL9utPlzUghUv45kca1tS3a/8dgFjwC4m7+7X0EVtnyqv4yfaoC1QKq/SWDBf+Qao7+VOnChviujv2YFL44Iwqq/yUz746WIqr89eqYoMlKlv2iEOz+ghp+/JjBm4k2rl7/2ouKAWN2UvzLLmd26Koi/VfkH4Xcygr+sOY0qh3qCvyxyuX991IW/optBfmHyh79cHN4CeZWFvzgW8jjw2Xu/AE/m32HsOj9csYkeyQSDP7uiQTUen4Y/QflHIcE7lD+2TYdBpbmXP5APzzcGgpU/kaulrxEQmj9aED5STPeTPxCDkUjv3Jc/\",\"dtype\":\"float64\",\"shape\":[75]},\"y\":{\"__ndarray__\":\"GhExyth1ND/Sv8nbtpRIP2vylNV0PVE/aTum7souWD/At0SJ8fVgPw3Iuahxymc/MSNhhJWvcD/bTfBN02d3P2zb5nxnaoA/CD5h5MAGhz8NmeH1TyaQP+zrCsc9p5Y/LbKd76fGnz/bLW5ISEmmPww9YvTcQq8/JV2OstnstT8Er5Y7M8G+P0c+r3jqkcU/5h99k6ZBzj88bCIzFzjVP4enV8oyxN0//yH99nXg5D8qOpLLf0jtP5kqGJXUifQ/c9cS8kHP/D+/DpwzojQEQIEmwoanVwxA4lgXt9HgE0BSSZ2AJuIbQAMJih9jjiNA5q4l5INuK0AwTKYKRj0zQNv5fmq8/DpAaCJseHrtQkB/+zpwzoxKQM3MzMzMeFJAZmZmZmZqWEAAAAAAAFxeQM3MzMzMJmJAmpmZmZkfZUBmZmZmZhhoQDMzMzMzEWtAAAAAAAAKbkBmZmZmZoFwQM3MzMzM/XFAMzMzMzN6c0CamZmZmfZ0QAAAAAAAc3ZAZmZmZmbvd0DNzMzMzGt5QDMzMzMz6HpAmpmZmZlkfEAAAAAAAOF9QGZmZmZmXX9AZmZmZuZsgECamZmZGSuBQM3MzMxM6YFAAAAAAICngkAzMzMzs2WDQGZmZmbmI4RAmpmZmRnihEDNzMzMTKCFQAAAAACAXoZAMzMzM7Mch0BmZmZm5tqHQJqZmZkZmYhAzczMzExXiUAAAAAAgBWKQDMzMzOz04pAZmZmZuaRi0CamZmZGVCMQM3MzMxMDo1AAAAAAIDMjUAzMzMzs4qOQGZmZmbmSI9A\",\"dtype\":\"float64\",\"shape\":[75]}},\"selected\":{\"id\":\"97379a3a-002b-413e-9a61-17a3e5575a79\",\"type\":\"Selection\"},\"selection_policy\":{\"id\":\"3af53ac5-16f4-4931-bb5a-7393e47e538a\",\"type\":\"UnionRenderers\"}},\"id\":\"7fb237e2-c9c0-4ce6-a11f-03c79ccc788a\",\"type\":\"ColumnDataSource\"},{\"attributes\":{},\"id\":\"1315e6ef-ade8-482e-8565-1872fa71ab1c\",\"type\":\"UnionRenderers\"},{\"attributes\":{\"tools\":[{\"id\":\"83e964e0-2e56-4168-9d5a-a0024bdd61ac\",\"type\":\"PanTool\"},{\"id\":\"36573778-73d0-4e91-9a43-a59e3f45f214\",\"type\":\"WheelZoomTool\"},{\"id\":\"bf6da9c8-723e-421e-b92f-a49a82e5aac1\",\"type\":\"BoxZoomTool\"},{\"id\":\"55bb2f52-6b5c-4e65-a59c-6d223cd53112\",\"type\":\"SaveTool\"},{\"id\":\"36b37cd6-e91c-4a5e-9882-a4e49a641f89\",\"type\":\"ResetTool\"},{\"id\":\"b88f1af9-1a74-42a6-8092-dc1c89758340\",\"type\":\"HelpTool\"},{\"id\":\"e4555eb8-73b1-453b-a587-3ab09ea3ed15\",\"type\":\"PanTool\"},{\"id\":\"5f616559-2cde-48c6-9d5f-6e05eb197684\",\"type\":\"WheelZoomTool\"},{\"id\":\"8513bae9-87cb-42c6-beb2-bd76464533b1\",\"type\":\"BoxZoomTool\"},{\"id\":\"705a92d5-1437-4e09-a649-c624e2403eca\",\"type\":\"SaveTool\"},{\"id\":\"299ca1e3-33df-40d5-810b-858589abb7ec\",\"type\":\"ResetTool\"},{\"id\":\"527c3e1b-f031-453e-abeb-7b35e5489e86\",\"type\":\"HelpTool\"},{\"id\":\"eeacd54b-7ea5-4b26-a3fa-bbb3e55070f4\",\"type\":\"PanTool\"},{\"id\":\"0d25dd31-bef4-476d-9b91-3e11290ef46e\",\"type\":\"WheelZoomTool\"},{\"id\":\"0b2457e9-d258-4001-9db2-f8f081036df9\",\"type\":\"BoxZoomTool\"},{\"id\":\"2e71d93e-6444-457a-abcb-4a9a0ac3b559\",\"type\":\"SaveTool\"},{\"id\":\"33fe06b2-1ca2-4483-802a-6697bd5b3162\",\"type\":\"ResetTool\"},{\"id\":\"dd4bfa78-e505-4c0e-8ed5-afdbdd400432\",\"type\":\"HelpTool\"}]},\"id\":\"675bdf0e-56b1-48d5-82f9-90c63ea47190\",\"type\":\"ProxyToolbar\"},{\"attributes\":{\"plot\":{\"id\":\"bf42334a-1fef-4b41-ad1a-cd5bedd1f919\",\"subtype\":\"Figure\",\"type\":\"Plot\"},\"ticker\":{\"id\":\"aa664c32-d859-47b3-bb76-a3d785c81532\",\"type\":\"BasicTicker\"}},\"id\":\"c9f0a5cd-d46d-4a28-b9b5-8c7813e3d5a5\",\"type\":\"Grid\"},{\"attributes\":{},\"id\":\"13568add-dcfe-44ca-b882-0124df749ee2\",\"type\":\"LinearScale\"},{\"attributes\":{},\"id\":\"aa664c32-d859-47b3-bb76-a3d785c81532\",\"type\":\"BasicTicker\"},{\"attributes\":{\"plot\":{\"id\":\"ab95b528-eb4c-4cac-bdc4-607a08a171b4\",\"subtype\":\"Figure\",\"type\":\"Plot\"},\"ticker\":{\"id\":\"0b94c415-1b9a-41b9-986e-6266dc3e7d90\",\"type\":\"BasicTicker\"}},\"id\":\"5362f9c6-8b21-4a45-9c9a-074d76b70e5b\",\"type\":\"Grid\"},{\"attributes\":{},\"id\":\"61cdeffa-614f-4419-af8f-72bc3b65d814\",\"type\":\"UnionRenderers\"},{\"attributes\":{\"plot\":null,\"text\":\"\"},\"id\":\"83211213-edb9-4031-af70-4753c5583602\",\"type\":\"Title\"},{\"attributes\":{},\"id\":\"0623ff91-6764-4c19-9dc2-f7f10711d669\",\"type\":\"LogScale\"},{\"attributes\":{\"plot\":null,\"text\":\"\"},\"id\":\"d0775f01-c4fb-48be-a0b5-e5420e852893\",\"type\":\"Title\"},{\"attributes\":{\"items\":[{\"id\":\"0bfdc299-d83b-4ddf-8662-bf1f14514da5\",\"type\":\"LegendItem\"}],\"label_text_font_size\":{\"value\":\"8pt\"},\"location\":\"top_center\",\"orientation\":\"horizontal\",\"plot\":{\"id\":\"bf42334a-1fef-4b41-ad1a-cd5bedd1f919\",\"subtype\":\"Figure\",\"type\":\"Plot\"}},\"id\":\"636a55fc-e5b4-447f-9266-849cf94e5056\",\"type\":\"Legend\"},{\"attributes\":{\"callback\":null,\"end\":0.01,\"start\":1020},\"id\":\"9a679005-2812-4cd1-adea-e0253ca5daef\",\"type\":\"Range1d\"},{\"attributes\":{},\"id\":\"97379a3a-002b-413e-9a61-17a3e5575a79\",\"type\":\"Selection\"},{\"attributes\":{},\"id\":\"02c2efaa-152c-4470-ab36-19f2089c3b71\",\"type\":\"Selection\"},{\"attributes\":{\"label\":{\"value\":\"CLIRAD (single-run)\"},\"renderers\":[{\"id\":\"e7d0b424-43fa-4e54-a3d9-1b370811b761\",\"type\":\"GlyphRenderer\"}]},\"id\":\"61e9ff61-429d-411c-b07b-1125f8050bb8\",\"type\":\"LegendItem\"},{\"attributes\":{},\"id\":\"3dc194ee-a9a8-4d6d-9420-70a4414e2ae6\",\"type\":\"UnionRenderers\"},{\"attributes\":{},\"id\":\"c13c3624-2f1a-43cd-911a-684ae841583e\",\"type\":\"BasicTickFormatter\"},{\"attributes\":{},\"id\":\"1c86ccbb-1737-49ec-8350-949a003e620e\",\"type\":\"Selection\"},{\"attributes\":{},\"id\":\"bd51f465-85b9-42f6-b764-7858cfb9c0b5\",\"type\":\"BasicTickFormatter\"},{\"attributes\":{\"items\":[{\"id\":\"e020f46a-8318-4934-8af3-7e72195c2b97\",\"type\":\"LegendItem\"},{\"id\":\"da2d9016-fc95-477b-8814-18fdd3d93e98\",\"type\":\"LegendItem\"}],\"label_text_font_size\":{\"value\":\"8pt\"},\"location\":\"top_center\",\"orientation\":\"horizontal\",\"plot\":{\"id\":\"6cb212a6-b41c-484b-a000-f419cb606ce0\",\"subtype\":\"Figure\",\"type\":\"Plot\"}},\"id\":\"8bd58980-555f-4a7b-8161-f2a6fdfcb8ad\",\"type\":\"Legend\"},{\"attributes\":{\"ticker\":null},\"id\":\"80d53b8e-710e-40f6-97f1-add331890164\",\"type\":\"LogTickFormatter\"}],\"root_ids\":[\"e01d4f59-e7e9-4427-8ec9-a94201832575\"]},\"title\":\"Bokeh Application\",\"version\":\"0.12.16\"}};\n",
       "  var render_items = [{\"docid\":\"a6dd4b48-ec13-4cb7-bda4-d5bdd13ce063\",\"elementid\":\"aea1ac2e-6cfb-40a1-b4d0-564a5b2934c8\",\"modelid\":\"e01d4f59-e7e9-4427-8ec9-a94201832575\"}];\n",
       "  root.Bokeh.embed.embed_items_notebook(docs_json, render_items);\n",
       "\n",
       "  }\n",
       "  if (root.Bokeh !== undefined) {\n",
       "    embed_document(root);\n",
       "  } else {\n",
       "    var attempts = 0;\n",
       "    var timer = setInterval(function(root) {\n",
       "      if (root.Bokeh !== undefined) {\n",
       "        embed_document(root);\n",
       "        clearInterval(timer);\n",
       "      }\n",
       "      attempts++;\n",
       "      if (attempts > 100) {\n",
       "        console.log(\"Bokeh: ERROR: Unable to run BokehJS code because BokehJS library is missing\")\n",
       "        clearInterval(timer);\n",
       "      }\n",
       "    }, 10, root)\n",
       "  }\n",
       "})(window);"
      ],
      "application/vnd.bokehjs_exec.v0+json": ""
     },
     "metadata": {
      "application/vnd.bokehjs_exec.v0+json": {
       "id": "e01d4f59-e7e9-4427-8ec9-a94201832575"
      }
     },
     "output_type": "display_data"
    },
    {
     "data": {
      "text/markdown": [
       "*FIGURE.* Cooling rates & difference."
      ],
      "text/plain": [
       "<IPython.core.display.Markdown object>"
      ]
     },
     "metadata": {},
     "output_type": "display_data"
    },
    {
     "data": {
      "text/html": [
       "<a id=\"Fluxes._saw.\"></a>"
      ],
      "text/plain": [
       "<IPython.core.display.HTML object>"
      ]
     },
     "metadata": {},
     "output_type": "display_data"
    },
    {
     "data": {
      "text/markdown": [
       "# Fluxes. saw."
      ],
      "text/plain": [
       "<IPython.core.display.Markdown object>"
      ]
     },
     "metadata": {},
     "output_type": "display_data"
    },
    {
     "data": {
      "text/html": [
       "\n",
       "<div class=\"bk-root\">\n",
       "    <div class=\"bk-plotdiv\" id=\"9dd0b53a-d07d-437b-97be-84d4fc44489d\"></div>\n",
       "</div>"
      ]
     },
     "metadata": {},
     "output_type": "display_data"
    },
    {
     "data": {
      "application/javascript": [
       "(function(root) {\n",
       "  function embed_document(root) {\n",
       "    \n",
       "  var docs_json = {\"e12e1b0b-a5cc-4acc-b860-50cbb8f7b06e\":{\"roots\":{\"references\":[{\"attributes\":{\"callback\":null,\"factors\":[\"1\",\"2\",\"3\",\"4\",\"5\",\"6\",\"7\",\"8\",\"9\",\"10\",\"11\"]},\"id\":\"7b1f5278-0db8-44c9-94b7-7a7582d22b50\",\"type\":\"FactorRange\"},{\"attributes\":{\"fill_alpha\":{\"value\":0.1},\"fill_color\":{\"value\":\"#1f77b4\"},\"line_alpha\":{\"value\":0.1},\"line_color\":{\"value\":\"#1f77b4\"},\"top\":{\"field\":\"flux\"},\"width\":{\"value\":0.9},\"x\":{\"field\":\"band\"}},\"id\":\"28ba9c5c-bb1d-4058-8bd1-a48eb78f6ce7\",\"type\":\"VBar\"},{\"attributes\":{\"axis_label\":\"flux (W m-2)\",\"formatter\":{\"id\":\"1e349f6d-a5cb-4e84-9f16-8d13391628c1\",\"type\":\"BasicTickFormatter\"},\"plot\":{\"id\":\"d3506cbc-b47d-42f1-b1dc-5a48fe61509c\",\"subtype\":\"Figure\",\"type\":\"Plot\"},\"ticker\":{\"id\":\"9428c0fd-6abd-4789-be46-219a620c408e\",\"type\":\"BasicTicker\"}},\"id\":\"41f6a307-d636-4314-9bd3-0ee58c60a133\",\"type\":\"LinearAxis\"},{\"attributes\":{},\"id\":\"a2dc7899-4f40-46ad-876e-f4df06b3c3e1\",\"type\":\"WheelZoomTool\"},{\"attributes\":{\"bottom_units\":\"screen\",\"fill_alpha\":{\"value\":0.5},\"fill_color\":{\"value\":\"lightgrey\"},\"left_units\":\"screen\",\"level\":\"overlay\",\"line_alpha\":{\"value\":1.0},\"line_color\":{\"value\":\"black\"},\"line_dash\":[4,4],\"line_width\":{\"value\":2},\"plot\":null,\"render_mode\":\"css\",\"right_units\":\"screen\",\"top_units\":\"screen\"},\"id\":\"3c7020dd-e88d-45cf-b9fc-6ff3c7f308b9\",\"type\":\"BoxAnnotation\"},{\"attributes\":{},\"id\":\"7346da93-576e-4fa9-bd90-cef2a47e5846\",\"type\":\"CategoricalScale\"},{\"attributes\":{},\"id\":\"2c3522fe-d7cb-4ef9-945c-184ce397f997\",\"type\":\"SaveTool\"},{\"attributes\":{\"plot\":null,\"text\":\"Atmosphere heating. CLIRAD (single-run) - CRD.\"},\"id\":\"ed97c2e8-8428-43b6-9796-e07cb3fbbc3e\",\"type\":\"Title\"},{\"attributes\":{\"dimension\":1,\"plot\":{\"id\":\"e0593350-0c05-439d-8aee-28c237831bc5\",\"subtype\":\"Figure\",\"type\":\"Plot\"},\"ticker\":{\"id\":\"83890069-3db2-470e-83a5-9cd93d5173b2\",\"type\":\"BasicTicker\"}},\"id\":\"604577ef-f464-4fc0-a5f6-ff470af202c5\",\"type\":\"Grid\"},{\"attributes\":{},\"id\":\"240e4f7c-8422-429e-8340-04995197a818\",\"type\":\"ResetTool\"},{\"attributes\":{},\"id\":\"293153c7-ae94-4077-bc89-a7e08527878c\",\"type\":\"LinearScale\"},{\"attributes\":{},\"id\":\"07f9d71d-a7bd-4ba2-ae3e-809c0a8b4eda\",\"type\":\"Selection\"},{\"attributes\":{\"active_drag\":\"auto\",\"active_inspect\":\"auto\",\"active_scroll\":\"auto\",\"active_tap\":\"auto\",\"tools\":[{\"id\":\"c994d557-d01e-4176-b119-70871f3cd47e\",\"type\":\"PanTool\"},{\"id\":\"dbfa5793-225f-4464-87e0-6a45e9cb35a1\",\"type\":\"WheelZoomTool\"},{\"id\":\"fa7ec45f-20c7-4384-acbf-fe6d3784e674\",\"type\":\"BoxZoomTool\"},{\"id\":\"c86979de-cfc0-426f-a320-8ff9793b3683\",\"type\":\"SaveTool\"},{\"id\":\"7767bca0-5a84-4887-aed7-cf9c3d5a238c\",\"type\":\"ResetTool\"},{\"id\":\"b988b487-3a5d-4c9d-862f-b256f76b67bc\",\"type\":\"HelpTool\"}]},\"id\":\"8113f3e6-f3d3-4649-8e00-5ea208b33e98\",\"type\":\"Toolbar\"},{\"attributes\":{\"callback\":null},\"id\":\"18654ef7-f451-476a-aae9-87c5ff09d735\",\"type\":\"DataRange1d\"},{\"attributes\":{\"fill_color\":{\"value\":\"#1f77b4\"},\"line_color\":{\"value\":\"#1f77b4\"},\"top\":{\"field\":\"flux\"},\"width\":{\"value\":0.9},\"x\":{\"field\":\"band\"}},\"id\":\"267f1bba-71a4-430f-b901-6d9ebab198d0\",\"type\":\"VBar\"},{\"attributes\":{},\"id\":\"9cda2041-a580-4df4-918f-c26ca4a53fbb\",\"type\":\"HelpTool\"},{\"attributes\":{\"plot\":{\"id\":\"d3506cbc-b47d-42f1-b1dc-5a48fe61509c\",\"subtype\":\"Figure\",\"type\":\"Plot\"},\"ticker\":{\"id\":\"a5bc9546-83cd-4717-8b28-f290f5cb6eae\",\"type\":\"CategoricalTicker\"}},\"id\":\"6a8e93fd-542c-404c-90cc-a46f3cb236ae\",\"type\":\"Grid\"},{\"attributes\":{\"callback\":null,\"factors\":[\"1\",\"2\",\"3\",\"4\",\"5\",\"6\",\"7\",\"8\",\"9\",\"10\",\"11\"]},\"id\":\"8f05b4aa-9e9c-48bf-a49f-7167f627e16e\",\"type\":\"FactorRange\"},{\"attributes\":{\"axis_label\":\"spectral band\",\"formatter\":{\"id\":\"de2d7b63-5b94-4ec4-8a48-30d242c4b52a\",\"type\":\"CategoricalTickFormatter\"},\"plot\":{\"id\":\"d3506cbc-b47d-42f1-b1dc-5a48fe61509c\",\"subtype\":\"Figure\",\"type\":\"Plot\"},\"ticker\":{\"id\":\"a5bc9546-83cd-4717-8b28-f290f5cb6eae\",\"type\":\"CategoricalTicker\"}},\"id\":\"71463677-6265-47cf-9de6-6c8dcc988295\",\"type\":\"CategoricalAxis\"},{\"attributes\":{},\"id\":\"a5bc9546-83cd-4717-8b28-f290f5cb6eae\",\"type\":\"CategoricalTicker\"},{\"attributes\":{},\"id\":\"85302546-43fd-42a2-b8c7-f641c6d28828\",\"type\":\"HelpTool\"},{\"attributes\":{\"fill_alpha\":{\"value\":0.1},\"fill_color\":{\"value\":\"#1f77b4\"},\"line_alpha\":{\"value\":0.1},\"line_color\":{\"value\":\"#1f77b4\"},\"top\":{\"field\":\"flux\"},\"width\":{\"value\":0.9},\"x\":{\"field\":\"band\"}},\"id\":\"4f02d158-5812-4b63-beca-dccc544609d2\",\"type\":\"VBar\"},{\"attributes\":{},\"id\":\"76304159-cad9-4d3b-b1da-6ca648c08363\",\"type\":\"CategoricalScale\"},{\"attributes\":{},\"id\":\"9428c0fd-6abd-4789-be46-219a620c408e\",\"type\":\"BasicTicker\"},{\"attributes\":{\"dimension\":1,\"plot\":{\"id\":\"d3506cbc-b47d-42f1-b1dc-5a48fe61509c\",\"subtype\":\"Figure\",\"type\":\"Plot\"},\"ticker\":{\"id\":\"9428c0fd-6abd-4789-be46-219a620c408e\",\"type\":\"BasicTicker\"}},\"id\":\"30ec718b-870a-46e7-ab3e-838056fe42b3\",\"type\":\"Grid\"},{\"attributes\":{},\"id\":\"a7ee01d7-9cd2-4fcf-8eb2-1a7692d443db\",\"type\":\"ResetTool\"},{\"attributes\":{},\"id\":\"82e940df-2660-4a0e-bba8-af814c7dbbb6\",\"type\":\"CategoricalTickFormatter\"},{\"attributes\":{\"fill_color\":{\"value\":\"#1f77b4\"},\"line_color\":{\"value\":\"#1f77b4\"},\"top\":{\"field\":\"flux\"},\"width\":{\"value\":0.9},\"x\":{\"field\":\"band\"}},\"id\":\"2ee7b72b-d6a9-4d3f-8644-ca789af1c728\",\"type\":\"VBar\"},{\"attributes\":{\"children\":[{\"id\":\"9485b271-2d7f-4f5a-bf87-a15064620dab\",\"subtype\":\"Figure\",\"type\":\"Plot\"},{\"id\":\"e0593350-0c05-439d-8aee-28c237831bc5\",\"subtype\":\"Figure\",\"type\":\"Plot\"},{\"id\":\"d3506cbc-b47d-42f1-b1dc-5a48fe61509c\",\"subtype\":\"Figure\",\"type\":\"Plot\"}]},\"id\":\"14a80e94-1dc2-43b7-a002-7dde69b41721\",\"type\":\"Row\"},{\"attributes\":{\"bottom_units\":\"screen\",\"fill_alpha\":{\"value\":0.5},\"fill_color\":{\"value\":\"lightgrey\"},\"left_units\":\"screen\",\"level\":\"overlay\",\"line_alpha\":{\"value\":1.0},\"line_color\":{\"value\":\"black\"},\"line_dash\":[4,4],\"line_width\":{\"value\":2},\"plot\":null,\"render_mode\":\"css\",\"right_units\":\"screen\",\"top_units\":\"screen\"},\"id\":\"28e63224-0610-429b-a85c-2ffc82ab0430\",\"type\":\"BoxAnnotation\"},{\"attributes\":{\"callback\":null,\"data\":{\"band\":[\"1\",\"2\",\"3\",\"4\",\"5\",\"6\",\"7\",\"8\",\"9\",\"10\",\"11\"],\"flux\":{\"__ndarray__\":\"gEyKZtCWxz8Aq5Dyk2rKP6DFJX0QuNw/QPFBu4Iuxj8A39J7dDS4vwCW32ky47U/wPOnjep0zD8AxjjazHywPwCB3mXQGo0/gJjl8uzgpL/AnbAnLoWPPw==\",\"dtype\":\"float64\",\"shape\":[11]}},\"selected\":{\"id\":\"e8298419-7286-484f-a1a8-83051e83567e\",\"type\":\"Selection\"},\"selection_policy\":{\"id\":\"473d1d67-7fea-4cf8-8acd-c09637a21a2f\",\"type\":\"UnionRenderers\"}},\"id\":\"598d820f-8f3f-4fff-a05e-8678b95fd851\",\"type\":\"ColumnDataSource\"},{\"attributes\":{},\"id\":\"c994d557-d01e-4176-b119-70871f3cd47e\",\"type\":\"PanTool\"},{\"attributes\":{\"overlay\":{\"id\":\"3c7020dd-e88d-45cf-b9fc-6ff3c7f308b9\",\"type\":\"BoxAnnotation\"}},\"id\":\"4427ef3a-d8ae-4738-a837-741c1caec823\",\"type\":\"BoxZoomTool\"},{\"attributes\":{\"data_source\":{\"id\":\"598d820f-8f3f-4fff-a05e-8678b95fd851\",\"type\":\"ColumnDataSource\"},\"glyph\":{\"id\":\"2ee7b72b-d6a9-4d3f-8644-ca789af1c728\",\"type\":\"VBar\"},\"hover_glyph\":null,\"muted_glyph\":null,\"nonselection_glyph\":{\"id\":\"4f02d158-5812-4b63-beca-dccc544609d2\",\"type\":\"VBar\"},\"selection_glyph\":null,\"view\":{\"id\":\"efbb77c7-7c92-4807-b2f0-a2ff2ef98772\",\"type\":\"CDSView\"}},\"id\":\"5ea57775-a27b-47c3-9ba3-1b965a2e6d92\",\"type\":\"GlyphRenderer\"},{\"attributes\":{},\"id\":\"dbfa5793-225f-4464-87e0-6a45e9cb35a1\",\"type\":\"WheelZoomTool\"},{\"attributes\":{\"overlay\":{\"id\":\"28e63224-0610-429b-a85c-2ffc82ab0430\",\"type\":\"BoxAnnotation\"}},\"id\":\"fa7ec45f-20c7-4384-acbf-fe6d3784e674\",\"type\":\"BoxZoomTool\"},{\"attributes\":{},\"id\":\"c86979de-cfc0-426f-a320-8ff9793b3683\",\"type\":\"SaveTool\"},{\"attributes\":{},\"id\":\"f182f765-be28-4504-9b11-496bb878abf3\",\"type\":\"LinearScale\"},{\"attributes\":{},\"id\":\"7767bca0-5a84-4887-aed7-cf9c3d5a238c\",\"type\":\"ResetTool\"},{\"attributes\":{\"axis_label\":\"flux (W m-2)\",\"formatter\":{\"id\":\"22b49773-a1d2-4c18-b576-9d96073d666a\",\"type\":\"BasicTickFormatter\"},\"plot\":{\"id\":\"9485b271-2d7f-4f5a-bf87-a15064620dab\",\"subtype\":\"Figure\",\"type\":\"Plot\"},\"ticker\":{\"id\":\"1c8d5000-bb5c-41ed-b0ce-e000856d4f5d\",\"type\":\"BasicTicker\"}},\"id\":\"2d5a7813-3f7a-4438-8674-25fd8a171106\",\"type\":\"LinearAxis\"},{\"attributes\":{},\"id\":\"b988b487-3a5d-4c9d-862f-b256f76b67bc\",\"type\":\"HelpTool\"},{\"attributes\":{\"fill_color\":{\"value\":\"#1f77b4\"},\"line_color\":{\"value\":\"#1f77b4\"},\"top\":{\"field\":\"flux\"},\"width\":{\"value\":0.9},\"x\":{\"field\":\"band\"}},\"id\":\"ad5788cf-aa0e-4a9e-825b-ca2b67cc36f3\",\"type\":\"VBar\"},{\"attributes\":{},\"id\":\"5ca1e03c-a7bb-4bbf-a269-cd4fc1a5e43a\",\"type\":\"CategoricalScale\"},{\"attributes\":{},\"id\":\"07eb8abf-f5f3-4f53-bf48-acf7c865ab6d\",\"type\":\"Selection\"},{\"attributes\":{\"active_drag\":\"auto\",\"active_inspect\":\"auto\",\"active_scroll\":\"auto\",\"active_tap\":\"auto\",\"tools\":[{\"id\":\"f3d7995e-546f-469d-baa9-8f5a62bbcca3\",\"type\":\"PanTool\"},{\"id\":\"a2dc7899-4f40-46ad-876e-f4df06b3c3e1\",\"type\":\"WheelZoomTool\"},{\"id\":\"4427ef3a-d8ae-4738-a837-741c1caec823\",\"type\":\"BoxZoomTool\"},{\"id\":\"2c3522fe-d7cb-4ef9-945c-184ce397f997\",\"type\":\"SaveTool\"},{\"id\":\"a7ee01d7-9cd2-4fcf-8eb2-1a7692d443db\",\"type\":\"ResetTool\"},{\"id\":\"9cda2041-a580-4df4-918f-c26ca4a53fbb\",\"type\":\"HelpTool\"}]},\"id\":\"6ee24d6f-1162-4891-b1de-d28ed6a74932\",\"type\":\"Toolbar\"},{\"attributes\":{},\"id\":\"473d1d67-7fea-4cf8-8acd-c09637a21a2f\",\"type\":\"UnionRenderers\"},{\"attributes\":{\"source\":{\"id\":\"598d820f-8f3f-4fff-a05e-8678b95fd851\",\"type\":\"ColumnDataSource\"}},\"id\":\"efbb77c7-7c92-4807-b2f0-a2ff2ef98772\",\"type\":\"CDSView\"},{\"attributes\":{\"children\":[{\"id\":\"14a80e94-1dc2-43b7-a002-7dde69b41721\",\"type\":\"Row\"}]},\"id\":\"8a6c9da7-9ad3-4caf-864b-dba3939791e0\",\"type\":\"Column\"},{\"attributes\":{\"callback\":null},\"id\":\"85a8c2fd-2c97-493e-a6f5-3a81b496fdba\",\"type\":\"DataRange1d\"},{\"attributes\":{},\"id\":\"de2d7b63-5b94-4ec4-8a48-30d242c4b52a\",\"type\":\"CategoricalTickFormatter\"},{\"attributes\":{\"below\":[{\"id\":\"71463677-6265-47cf-9de6-6c8dcc988295\",\"type\":\"CategoricalAxis\"}],\"left\":[{\"id\":\"41f6a307-d636-4314-9bd3-0ee58c60a133\",\"type\":\"LinearAxis\"}],\"plot_height\":300,\"plot_width\":300,\"renderers\":[{\"id\":\"71463677-6265-47cf-9de6-6c8dcc988295\",\"type\":\"CategoricalAxis\"},{\"id\":\"6a8e93fd-542c-404c-90cc-a46f3cb236ae\",\"type\":\"Grid\"},{\"id\":\"41f6a307-d636-4314-9bd3-0ee58c60a133\",\"type\":\"LinearAxis\"},{\"id\":\"30ec718b-870a-46e7-ab3e-838056fe42b3\",\"type\":\"Grid\"},{\"id\":\"28e63224-0610-429b-a85c-2ffc82ab0430\",\"type\":\"BoxAnnotation\"},{\"id\":\"5ea57775-a27b-47c3-9ba3-1b965a2e6d92\",\"type\":\"GlyphRenderer\"}],\"title\":{\"id\":\"ed97c2e8-8428-43b6-9796-e07cb3fbbc3e\",\"type\":\"Title\"},\"toolbar\":{\"id\":\"8113f3e6-f3d3-4649-8e00-5ea208b33e98\",\"type\":\"Toolbar\"},\"toolbar_location\":null,\"x_range\":{\"id\":\"7b1f5278-0db8-44c9-94b7-7a7582d22b50\",\"type\":\"FactorRange\"},\"x_scale\":{\"id\":\"7346da93-576e-4fa9-bd90-cef2a47e5846\",\"type\":\"CategoricalScale\"},\"y_range\":{\"id\":\"18654ef7-f451-476a-aae9-87c5ff09d735\",\"type\":\"DataRange1d\"},\"y_scale\":{\"id\":\"293153c7-ae94-4077-bc89-a7e08527878c\",\"type\":\"LinearScale\"}},\"id\":\"d3506cbc-b47d-42f1-b1dc-5a48fe61509c\",\"subtype\":\"Figure\",\"type\":\"Plot\"},{\"attributes\":{},\"id\":\"22b49773-a1d2-4c18-b576-9d96073d666a\",\"type\":\"BasicTickFormatter\"},{\"attributes\":{\"plot\":{\"id\":\"e0593350-0c05-439d-8aee-28c237831bc5\",\"subtype\":\"Figure\",\"type\":\"Plot\"},\"ticker\":{\"id\":\"9cedda63-fe63-4f3d-a996-1b63943c1c2d\",\"type\":\"CategoricalTicker\"}},\"id\":\"701784aa-d316-43c7-a6c4-28a9bfb09bbd\",\"type\":\"Grid\"},{\"attributes\":{},\"id\":\"3ab9b0c2-3993-4f2e-b1af-7a71ad3abbeb\",\"type\":\"UnionRenderers\"},{\"attributes\":{},\"id\":\"f0a4a727-5ee1-4e47-9f77-759b50e8fedb\",\"type\":\"CategoricalTickFormatter\"},{\"attributes\":{},\"id\":\"e8298419-7286-484f-a1a8-83051e83567e\",\"type\":\"Selection\"},{\"attributes\":{},\"id\":\"1e349f6d-a5cb-4e84-9f16-8d13391628c1\",\"type\":\"BasicTickFormatter\"},{\"attributes\":{\"children\":[{\"id\":\"fc2aabef-48a6-4cd4-ad0a-207eb4a53c75\",\"type\":\"ToolbarBox\"},{\"id\":\"8a6c9da7-9ad3-4caf-864b-dba3939791e0\",\"type\":\"Column\"}]},\"id\":\"bd5b74dc-84aa-432d-8aec-65f733a1d719\",\"type\":\"Column\"},{\"attributes\":{},\"id\":\"2b110618-de6d-4a3e-a1ee-577377fc784f\",\"type\":\"CategoricalTicker\"},{\"attributes\":{\"tools\":[{\"id\":\"f3d7995e-546f-469d-baa9-8f5a62bbcca3\",\"type\":\"PanTool\"},{\"id\":\"a2dc7899-4f40-46ad-876e-f4df06b3c3e1\",\"type\":\"WheelZoomTool\"},{\"id\":\"4427ef3a-d8ae-4738-a837-741c1caec823\",\"type\":\"BoxZoomTool\"},{\"id\":\"2c3522fe-d7cb-4ef9-945c-184ce397f997\",\"type\":\"SaveTool\"},{\"id\":\"a7ee01d7-9cd2-4fcf-8eb2-1a7692d443db\",\"type\":\"ResetTool\"},{\"id\":\"9cda2041-a580-4df4-918f-c26ca4a53fbb\",\"type\":\"HelpTool\"},{\"id\":\"8246b0d1-e9e3-4c62-9e83-6db0f22c3023\",\"type\":\"PanTool\"},{\"id\":\"ef758983-dcbf-4be9-9794-f99ae8f67b42\",\"type\":\"WheelZoomTool\"},{\"id\":\"bf6ec325-72b3-4c2c-8886-db752b6cb602\",\"type\":\"BoxZoomTool\"},{\"id\":\"e1c6f3bb-886e-4124-ab8a-1416c8314d68\",\"type\":\"SaveTool\"},{\"id\":\"240e4f7c-8422-429e-8340-04995197a818\",\"type\":\"ResetTool\"},{\"id\":\"85302546-43fd-42a2-b8c7-f641c6d28828\",\"type\":\"HelpTool\"},{\"id\":\"c994d557-d01e-4176-b119-70871f3cd47e\",\"type\":\"PanTool\"},{\"id\":\"dbfa5793-225f-4464-87e0-6a45e9cb35a1\",\"type\":\"WheelZoomTool\"},{\"id\":\"fa7ec45f-20c7-4384-acbf-fe6d3784e674\",\"type\":\"BoxZoomTool\"},{\"id\":\"c86979de-cfc0-426f-a320-8ff9793b3683\",\"type\":\"SaveTool\"},{\"id\":\"7767bca0-5a84-4887-aed7-cf9c3d5a238c\",\"type\":\"ResetTool\"},{\"id\":\"b988b487-3a5d-4c9d-862f-b256f76b67bc\",\"type\":\"HelpTool\"}]},\"id\":\"ee6a06f2-d658-4f52-a242-3c7169fca434\",\"type\":\"ProxyToolbar\"},{\"attributes\":{\"toolbar\":{\"id\":\"ee6a06f2-d658-4f52-a242-3c7169fca434\",\"type\":\"ProxyToolbar\"},\"toolbar_location\":\"above\"},\"id\":\"fc2aabef-48a6-4cd4-ad0a-207eb4a53c75\",\"type\":\"ToolbarBox\"},{\"attributes\":{\"callback\":null},\"id\":\"eb213a82-b33c-4b78-99c3-ee1d0dce7bae\",\"type\":\"DataRange1d\"},{\"attributes\":{\"dimension\":1,\"plot\":{\"id\":\"9485b271-2d7f-4f5a-bf87-a15064620dab\",\"subtype\":\"Figure\",\"type\":\"Plot\"},\"ticker\":{\"id\":\"1c8d5000-bb5c-41ed-b0ce-e000856d4f5d\",\"type\":\"BasicTicker\"}},\"id\":\"0bd22be8-e3e6-4239-9f0b-e2d3c5a6e060\",\"type\":\"Grid\"},{\"attributes\":{\"plot\":{\"id\":\"9485b271-2d7f-4f5a-bf87-a15064620dab\",\"subtype\":\"Figure\",\"type\":\"Plot\"},\"ticker\":{\"id\":\"2b110618-de6d-4a3e-a1ee-577377fc784f\",\"type\":\"CategoricalTicker\"}},\"id\":\"fd85b329-fc27-4d36-b33f-55805dfb140d\",\"type\":\"Grid\"},{\"attributes\":{\"axis_label\":\"spectral band\",\"formatter\":{\"id\":\"82e940df-2660-4a0e-bba8-af814c7dbbb6\",\"type\":\"CategoricalTickFormatter\"},\"plot\":{\"id\":\"9485b271-2d7f-4f5a-bf87-a15064620dab\",\"subtype\":\"Figure\",\"type\":\"Plot\"},\"ticker\":{\"id\":\"2b110618-de6d-4a3e-a1ee-577377fc784f\",\"type\":\"CategoricalTicker\"}},\"id\":\"a1df50fd-84fc-4786-93ca-754bd1592cde\",\"type\":\"CategoricalAxis\"},{\"attributes\":{\"plot\":null,\"text\":\"TOA flux. CLIRAD (single-run) - CRD.\"},\"id\":\"9f95da80-8550-4b65-b806-093c58f14547\",\"type\":\"Title\"},{\"attributes\":{},\"id\":\"c8e2be81-09ae-4a53-a62b-fe6e3bf60b68\",\"type\":\"LinearScale\"},{\"attributes\":{\"callback\":null,\"factors\":[\"1\",\"2\",\"3\",\"4\",\"5\",\"6\",\"7\",\"8\",\"9\",\"10\",\"11\"]},\"id\":\"e664ffbe-aed1-48b7-9c0a-7666a983b7fa\",\"type\":\"FactorRange\"},{\"attributes\":{},\"id\":\"1c8d5000-bb5c-41ed-b0ce-e000856d4f5d\",\"type\":\"BasicTicker\"},{\"attributes\":{},\"id\":\"d1f1e6ae-86c6-43e6-bcbc-8ed17b939c1d\",\"type\":\"UnionRenderers\"},{\"attributes\":{\"source\":{\"id\":\"d28e1b82-e250-4851-b23a-9ac618dade45\",\"type\":\"ColumnDataSource\"}},\"id\":\"b80b04ff-b1a1-4014-9fcd-66c1a3e3786a\",\"type\":\"CDSView\"},{\"attributes\":{\"bottom_units\":\"screen\",\"fill_alpha\":{\"value\":0.5},\"fill_color\":{\"value\":\"lightgrey\"},\"left_units\":\"screen\",\"level\":\"overlay\",\"line_alpha\":{\"value\":1.0},\"line_color\":{\"value\":\"black\"},\"line_dash\":[4,4],\"line_width\":{\"value\":2},\"plot\":null,\"render_mode\":\"css\",\"right_units\":\"screen\",\"top_units\":\"screen\"},\"id\":\"a813e4f8-f10e-4ff0-a7f8-16cfe7b76635\",\"type\":\"BoxAnnotation\"},{\"attributes\":{\"data_source\":{\"id\":\"d28e1b82-e250-4851-b23a-9ac618dade45\",\"type\":\"ColumnDataSource\"},\"glyph\":{\"id\":\"267f1bba-71a4-430f-b901-6d9ebab198d0\",\"type\":\"VBar\"},\"hover_glyph\":null,\"muted_glyph\":null,\"nonselection_glyph\":{\"id\":\"28ba9c5c-bb1d-4058-8bd1-a48eb78f6ce7\",\"type\":\"VBar\"},\"selection_glyph\":null,\"view\":{\"id\":\"b80b04ff-b1a1-4014-9fcd-66c1a3e3786a\",\"type\":\"CDSView\"}},\"id\":\"8f5a6e94-48eb-4a4d-9c57-cf78dda96af4\",\"type\":\"GlyphRenderer\"},{\"attributes\":{},\"id\":\"7bbd960b-8127-4744-9e20-6bccb9b9a4de\",\"type\":\"BasicTickFormatter\"},{\"attributes\":{},\"id\":\"f3d7995e-546f-469d-baa9-8f5a62bbcca3\",\"type\":\"PanTool\"},{\"attributes\":{\"data_source\":{\"id\":\"25df66b3-27ea-4443-ac90-31a59cb1789a\",\"type\":\"ColumnDataSource\"},\"glyph\":{\"id\":\"ad5788cf-aa0e-4a9e-825b-ca2b67cc36f3\",\"type\":\"VBar\"},\"hover_glyph\":null,\"muted_glyph\":null,\"nonselection_glyph\":{\"id\":\"e88df39c-98ce-4d43-ae48-5b9ff6c17956\",\"type\":\"VBar\"},\"selection_glyph\":null,\"view\":{\"id\":\"6a82f97a-5827-481c-9868-c7a9f29e05b8\",\"type\":\"CDSView\"}},\"id\":\"fbe452c4-3b7a-4680-9d11-a5bcb5d6a1d0\",\"type\":\"GlyphRenderer\"},{\"attributes\":{\"fill_alpha\":{\"value\":0.1},\"fill_color\":{\"value\":\"#1f77b4\"},\"line_alpha\":{\"value\":0.1},\"line_color\":{\"value\":\"#1f77b4\"},\"top\":{\"field\":\"flux\"},\"width\":{\"value\":0.9},\"x\":{\"field\":\"band\"}},\"id\":\"e88df39c-98ce-4d43-ae48-5b9ff6c17956\",\"type\":\"VBar\"},{\"attributes\":{\"below\":[{\"id\":\"a1c474a6-bd42-4300-909f-5b12470c3260\",\"type\":\"CategoricalAxis\"}],\"left\":[{\"id\":\"a374bc4b-2f7e-4759-b4fa-80569c38d0e0\",\"type\":\"LinearAxis\"}],\"plot_height\":300,\"plot_width\":300,\"renderers\":[{\"id\":\"a1c474a6-bd42-4300-909f-5b12470c3260\",\"type\":\"CategoricalAxis\"},{\"id\":\"701784aa-d316-43c7-a6c4-28a9bfb09bbd\",\"type\":\"Grid\"},{\"id\":\"a374bc4b-2f7e-4759-b4fa-80569c38d0e0\",\"type\":\"LinearAxis\"},{\"id\":\"604577ef-f464-4fc0-a5f6-ff470af202c5\",\"type\":\"Grid\"},{\"id\":\"a813e4f8-f10e-4ff0-a7f8-16cfe7b76635\",\"type\":\"BoxAnnotation\"},{\"id\":\"fbe452c4-3b7a-4680-9d11-a5bcb5d6a1d0\",\"type\":\"GlyphRenderer\"}],\"title\":{\"id\":\"8c7e75cd-389b-417c-876d-b099985faff8\",\"type\":\"Title\"},\"toolbar\":{\"id\":\"015884d9-5272-45e8-a91b-298c662f8193\",\"type\":\"Toolbar\"},\"toolbar_location\":null,\"x_range\":{\"id\":\"e664ffbe-aed1-48b7-9c0a-7666a983b7fa\",\"type\":\"FactorRange\"},\"x_scale\":{\"id\":\"5ca1e03c-a7bb-4bbf-a269-cd4fc1a5e43a\",\"type\":\"CategoricalScale\"},\"y_range\":{\"id\":\"85a8c2fd-2c97-493e-a6f5-3a81b496fdba\",\"type\":\"DataRange1d\"},\"y_scale\":{\"id\":\"f182f765-be28-4504-9b11-496bb878abf3\",\"type\":\"LinearScale\"}},\"id\":\"e0593350-0c05-439d-8aee-28c237831bc5\",\"subtype\":\"Figure\",\"type\":\"Plot\"},{\"attributes\":{\"plot\":null,\"text\":\"SFC flux. CLIRAD (single-run) - CRD.\"},\"id\":\"8c7e75cd-389b-417c-876d-b099985faff8\",\"type\":\"Title\"},{\"attributes\":{},\"id\":\"e1c6f3bb-886e-4124-ab8a-1416c8314d68\",\"type\":\"SaveTool\"},{\"attributes\":{\"overlay\":{\"id\":\"a813e4f8-f10e-4ff0-a7f8-16cfe7b76635\",\"type\":\"BoxAnnotation\"}},\"id\":\"bf6ec325-72b3-4c2c-8886-db752b6cb602\",\"type\":\"BoxZoomTool\"},{\"attributes\":{\"callback\":null,\"data\":{\"band\":[\"1\",\"2\",\"3\",\"4\",\"5\",\"6\",\"7\",\"8\",\"9\",\"10\",\"11\"],\"flux\":{\"__ndarray__\":\"gEOHwJFAxz8A+NfyyvWyPwALzuDvF7O/gGHcDaK10D8AowbTMHy4PwBw88ZJYY6/YBxcOuY80j8ABBxClZqNv4DcwqnFlqA/ACA2WDhJc79A+HdsulSTPw==\",\"dtype\":\"float64\",\"shape\":[11]}},\"selected\":{\"id\":\"07eb8abf-f5f3-4f53-bf48-acf7c865ab6d\",\"type\":\"Selection\"},\"selection_policy\":{\"id\":\"3ab9b0c2-3993-4f2e-b1af-7a71ad3abbeb\",\"type\":\"UnionRenderers\"}},\"id\":\"d28e1b82-e250-4851-b23a-9ac618dade45\",\"type\":\"ColumnDataSource\"},{\"attributes\":{\"source\":{\"id\":\"25df66b3-27ea-4443-ac90-31a59cb1789a\",\"type\":\"ColumnDataSource\"}},\"id\":\"6a82f97a-5827-481c-9868-c7a9f29e05b8\",\"type\":\"CDSView\"},{\"attributes\":{\"callback\":null,\"data\":{\"band\":[\"1\",\"2\",\"3\",\"4\",\"5\",\"6\",\"7\",\"8\",\"9\",\"10\",\"11\"],\"flux\":{\"__ndarray__\":\"AMCVXpuNZb8AVvMcke/Av0AnLzIBv+C/AFfRH5p5tj+ADjgBPFjIP9B82pcir7m/wI+B4QEKsD/IHC8wbTC0vwAsnbQVoJI/AILMzqJ3oj8A4PI/lpFsPw==\",\"dtype\":\"float64\",\"shape\":[11]}},\"selected\":{\"id\":\"07f9d71d-a7bd-4ba2-ae3e-809c0a8b4eda\",\"type\":\"Selection\"},\"selection_policy\":{\"id\":\"d1f1e6ae-86c6-43e6-bcbc-8ed17b939c1d\",\"type\":\"UnionRenderers\"}},\"id\":\"25df66b3-27ea-4443-ac90-31a59cb1789a\",\"type\":\"ColumnDataSource\"},{\"attributes\":{},\"id\":\"9cedda63-fe63-4f3d-a996-1b63943c1c2d\",\"type\":\"CategoricalTicker\"},{\"attributes\":{\"axis_label\":\"flux (W m-2)\",\"formatter\":{\"id\":\"7bbd960b-8127-4744-9e20-6bccb9b9a4de\",\"type\":\"BasicTickFormatter\"},\"plot\":{\"id\":\"e0593350-0c05-439d-8aee-28c237831bc5\",\"subtype\":\"Figure\",\"type\":\"Plot\"},\"ticker\":{\"id\":\"83890069-3db2-470e-83a5-9cd93d5173b2\",\"type\":\"BasicTicker\"}},\"id\":\"a374bc4b-2f7e-4759-b4fa-80569c38d0e0\",\"type\":\"LinearAxis\"},{\"attributes\":{\"active_drag\":\"auto\",\"active_inspect\":\"auto\",\"active_scroll\":\"auto\",\"active_tap\":\"auto\",\"tools\":[{\"id\":\"8246b0d1-e9e3-4c62-9e83-6db0f22c3023\",\"type\":\"PanTool\"},{\"id\":\"ef758983-dcbf-4be9-9794-f99ae8f67b42\",\"type\":\"WheelZoomTool\"},{\"id\":\"bf6ec325-72b3-4c2c-8886-db752b6cb602\",\"type\":\"BoxZoomTool\"},{\"id\":\"e1c6f3bb-886e-4124-ab8a-1416c8314d68\",\"type\":\"SaveTool\"},{\"id\":\"240e4f7c-8422-429e-8340-04995197a818\",\"type\":\"ResetTool\"},{\"id\":\"85302546-43fd-42a2-b8c7-f641c6d28828\",\"type\":\"HelpTool\"}]},\"id\":\"015884d9-5272-45e8-a91b-298c662f8193\",\"type\":\"Toolbar\"},{\"attributes\":{},\"id\":\"ef758983-dcbf-4be9-9794-f99ae8f67b42\",\"type\":\"WheelZoomTool\"},{\"attributes\":{\"axis_label\":\"spectral band\",\"formatter\":{\"id\":\"f0a4a727-5ee1-4e47-9f77-759b50e8fedb\",\"type\":\"CategoricalTickFormatter\"},\"plot\":{\"id\":\"e0593350-0c05-439d-8aee-28c237831bc5\",\"subtype\":\"Figure\",\"type\":\"Plot\"},\"ticker\":{\"id\":\"9cedda63-fe63-4f3d-a996-1b63943c1c2d\",\"type\":\"CategoricalTicker\"}},\"id\":\"a1c474a6-bd42-4300-909f-5b12470c3260\",\"type\":\"CategoricalAxis\"},{\"attributes\":{},\"id\":\"8246b0d1-e9e3-4c62-9e83-6db0f22c3023\",\"type\":\"PanTool\"},{\"attributes\":{\"below\":[{\"id\":\"a1df50fd-84fc-4786-93ca-754bd1592cde\",\"type\":\"CategoricalAxis\"}],\"left\":[{\"id\":\"2d5a7813-3f7a-4438-8674-25fd8a171106\",\"type\":\"LinearAxis\"}],\"plot_height\":300,\"plot_width\":300,\"renderers\":[{\"id\":\"a1df50fd-84fc-4786-93ca-754bd1592cde\",\"type\":\"CategoricalAxis\"},{\"id\":\"fd85b329-fc27-4d36-b33f-55805dfb140d\",\"type\":\"Grid\"},{\"id\":\"2d5a7813-3f7a-4438-8674-25fd8a171106\",\"type\":\"LinearAxis\"},{\"id\":\"0bd22be8-e3e6-4239-9f0b-e2d3c5a6e060\",\"type\":\"Grid\"},{\"id\":\"3c7020dd-e88d-45cf-b9fc-6ff3c7f308b9\",\"type\":\"BoxAnnotation\"},{\"id\":\"8f5a6e94-48eb-4a4d-9c57-cf78dda96af4\",\"type\":\"GlyphRenderer\"}],\"title\":{\"id\":\"9f95da80-8550-4b65-b806-093c58f14547\",\"type\":\"Title\"},\"toolbar\":{\"id\":\"6ee24d6f-1162-4891-b1de-d28ed6a74932\",\"type\":\"Toolbar\"},\"toolbar_location\":null,\"x_range\":{\"id\":\"8f05b4aa-9e9c-48bf-a49f-7167f627e16e\",\"type\":\"FactorRange\"},\"x_scale\":{\"id\":\"76304159-cad9-4d3b-b1da-6ca648c08363\",\"type\":\"CategoricalScale\"},\"y_range\":{\"id\":\"eb213a82-b33c-4b78-99c3-ee1d0dce7bae\",\"type\":\"DataRange1d\"},\"y_scale\":{\"id\":\"c8e2be81-09ae-4a53-a62b-fe6e3bf60b68\",\"type\":\"LinearScale\"}},\"id\":\"9485b271-2d7f-4f5a-bf87-a15064620dab\",\"subtype\":\"Figure\",\"type\":\"Plot\"},{\"attributes\":{},\"id\":\"83890069-3db2-470e-83a5-9cd93d5173b2\",\"type\":\"BasicTicker\"}],\"root_ids\":[\"bd5b74dc-84aa-432d-8aec-65f733a1d719\"]},\"title\":\"Bokeh Application\",\"version\":\"0.12.16\"}};\n",
       "  var render_items = [{\"docid\":\"e12e1b0b-a5cc-4acc-b860-50cbb8f7b06e\",\"elementid\":\"9dd0b53a-d07d-437b-97be-84d4fc44489d\",\"modelid\":\"bd5b74dc-84aa-432d-8aec-65f733a1d719\"}];\n",
       "  root.Bokeh.embed.embed_items_notebook(docs_json, render_items);\n",
       "\n",
       "  }\n",
       "  if (root.Bokeh !== undefined) {\n",
       "    embed_document(root);\n",
       "  } else {\n",
       "    var attempts = 0;\n",
       "    var timer = setInterval(function(root) {\n",
       "      if (root.Bokeh !== undefined) {\n",
       "        embed_document(root);\n",
       "        clearInterval(timer);\n",
       "      }\n",
       "      attempts++;\n",
       "      if (attempts > 100) {\n",
       "        console.log(\"Bokeh: ERROR: Unable to run BokehJS code because BokehJS library is missing\")\n",
       "        clearInterval(timer);\n",
       "      }\n",
       "    }, 10, root)\n",
       "  }\n",
       "})(window);"
      ],
      "application/vnd.bokehjs_exec.v0+json": ""
     },
     "metadata": {
      "application/vnd.bokehjs_exec.v0+json": {
       "id": "bd5b74dc-84aa-432d-8aec-65f733a1d719"
      }
     },
     "output_type": "display_data"
    },
    {
     "data": {
      "text/markdown": [
       "*FIGURE.* Difference between CLIRAD and CRD in TOA, SFC and net atmosphere flux, in each spectral band."
      ],
      "text/plain": [
       "<IPython.core.display.Markdown object>"
      ]
     },
     "metadata": {},
     "output_type": "display_data"
    },
    {
     "data": {
      "text/html": [
       "<div>\n",
       "<style scoped>\n",
       "    .dataframe tbody tr th:only-of-type {\n",
       "        vertical-align: middle;\n",
       "    }\n",
       "\n",
       "    .dataframe tbody tr th {\n",
       "        vertical-align: top;\n",
       "    }\n",
       "\n",
       "    .dataframe thead th {\n",
       "        text-align: right;\n",
       "    }\n",
       "</style>\n",
       "<table border=\"1\" class=\"dataframe\">\n",
       "  <thead>\n",
       "    <tr style=\"text-align: right;\">\n",
       "      <th></th>\n",
       "      <th>OLR flux</th>\n",
       "      <th>SFC flux</th>\n",
       "      <th>ATM heating</th>\n",
       "    </tr>\n",
       "    <tr>\n",
       "      <th>Sum over bands</th>\n",
       "      <th></th>\n",
       "      <th></th>\n",
       "      <th></th>\n",
       "    </tr>\n",
       "  </thead>\n",
       "  <tbody>\n",
       "    <tr>\n",
       "      <th>CLIRAD (single-run) - CRD</th>\n",
       "      <td>0.84</td>\n",
       "      <td>-0.44</td>\n",
       "      <td>1.28</td>\n",
       "    </tr>\n",
       "    <tr>\n",
       "      <th>CRD</th>\n",
       "      <td>-201.06</td>\n",
       "      <td>166.03</td>\n",
       "      <td>-119.67</td>\n",
       "    </tr>\n",
       "  </tbody>\n",
       "</table>\n",
       "</div>"
      ],
      "text/plain": [
       "                           OLR flux  SFC flux  ATM heating\n",
       "Sum over bands                                            \n",
       "CLIRAD (single-run) - CRD      0.84     -0.44         1.28\n",
       "CRD                         -201.06    166.03      -119.67"
      ]
     },
     "metadata": {},
     "output_type": "display_data"
    },
    {
     "data": {
      "text/markdown": [
       "*TABLE.* Difference between CLIRAD and CRD in TOA, SFC and net atmosphere flux, over all spectral bands. CRD's TOA, SFC and net atmosphere flux, over all spectral bands."
      ],
      "text/plain": [
       "<IPython.core.display.Markdown object>"
      ]
     },
     "metadata": {},
     "output_type": "display_data"
    },
    {
     "data": {
      "text/html": [
       "<a id=\"Cooling_rates._trp.\"></a>"
      ],
      "text/plain": [
       "<IPython.core.display.HTML object>"
      ]
     },
     "metadata": {},
     "output_type": "display_data"
    },
    {
     "data": {
      "text/markdown": [
       "# Cooling rates. trp."
      ],
      "text/plain": [
       "<IPython.core.display.Markdown object>"
      ]
     },
     "metadata": {},
     "output_type": "display_data"
    },
    {
     "data": {
      "text/html": [
       "\n",
       "<div class=\"bk-root\">\n",
       "    <div class=\"bk-plotdiv\" id=\"5e8fd82c-7899-467e-851c-ed8ce87f6aa2\"></div>\n",
       "</div>"
      ]
     },
     "metadata": {},
     "output_type": "display_data"
    },
    {
     "data": {
      "application/javascript": [
       "(function(root) {\n",
       "  function embed_document(root) {\n",
       "    \n",
       "  var docs_json = {\"d4a37916-9758-4db7-98b0-61f7309b2b1f\":{\"roots\":{\"references\":[{\"attributes\":{\"dimension\":1,\"plot\":{\"id\":\"280fcc3c-b7fb-476d-b808-a5e0e2c4c80a\",\"subtype\":\"Figure\",\"type\":\"Plot\"},\"ticker\":{\"id\":\"eb2a6c3d-ccf2-445d-8024-da258e145db0\",\"type\":\"LogTicker\"}},\"id\":\"2346ebb8-35f4-46ed-a003-a8f3bafbd665\",\"type\":\"Grid\"},{\"attributes\":{\"line_alpha\":0.1,\"line_color\":\"#1f77b4\",\"line_dash\":[6],\"line_width\":5,\"x\":{\"field\":\"x\"},\"y\":{\"field\":\"y\"}},\"id\":\"48851d9a-a83c-43df-8b5a-4d4de06f038a\",\"type\":\"Line\"},{\"attributes\":{},\"id\":\"d7d0aab7-8d12-44e6-b72b-496fd91b3080\",\"type\":\"ResetTool\"},{\"attributes\":{},\"id\":\"5a4c7e67-aa59-4712-9ecd-0c6a159d79cb\",\"type\":\"PanTool\"},{\"attributes\":{},\"id\":\"c3c9e51a-701e-4eef-ab36-10a280c8b77f\",\"type\":\"ResetTool\"},{\"attributes\":{\"active_drag\":\"auto\",\"active_inspect\":\"auto\",\"active_scroll\":\"auto\",\"active_tap\":\"auto\",\"tools\":[{\"id\":\"5a4c7e67-aa59-4712-9ecd-0c6a159d79cb\",\"type\":\"PanTool\"},{\"id\":\"b0a42033-2f7b-4431-b01f-50091f2ae368\",\"type\":\"WheelZoomTool\"},{\"id\":\"1e55f67a-79c8-4595-902c-fe4165f664b2\",\"type\":\"BoxZoomTool\"},{\"id\":\"8f1b3688-45dd-44c5-9452-cf87f789e50c\",\"type\":\"SaveTool\"},{\"id\":\"c3c9e51a-701e-4eef-ab36-10a280c8b77f\",\"type\":\"ResetTool\"},{\"id\":\"0cae9c23-8bcc-49d9-b953-b9b63a0020a8\",\"type\":\"HelpTool\"}]},\"id\":\"390c2b1e-d53f-437b-a57b-f070b0f40dc8\",\"type\":\"Toolbar\"},{\"attributes\":{\"bottom_units\":\"screen\",\"fill_alpha\":{\"value\":0.5},\"fill_color\":{\"value\":\"lightgrey\"},\"left_units\":\"screen\",\"level\":\"overlay\",\"line_alpha\":{\"value\":1.0},\"line_color\":{\"value\":\"black\"},\"line_dash\":[4,4],\"line_width\":{\"value\":2},\"plot\":null,\"render_mode\":\"css\",\"right_units\":\"screen\",\"top_units\":\"screen\"},\"id\":\"404d0f8c-6bda-4200-8a50-74535dda49d9\",\"type\":\"BoxAnnotation\"},{\"attributes\":{\"data_source\":{\"id\":\"c90326c4-86f8-4080-b42b-3f3041b73696\",\"type\":\"ColumnDataSource\"},\"glyph\":{\"id\":\"97f83fe4-71e8-4553-a07c-33058b28cb38\",\"type\":\"Line\"},\"hover_glyph\":null,\"muted_glyph\":null,\"nonselection_glyph\":{\"id\":\"c26af9a3-6566-4581-bcd8-d78e511e4e5c\",\"type\":\"Line\"},\"selection_glyph\":null,\"view\":{\"id\":\"f95db8fe-9d57-4f98-bd00-54f48002340a\",\"type\":\"CDSView\"}},\"id\":\"691cbf92-60c3-4d4c-8778-95e83bd44674\",\"type\":\"GlyphRenderer\"},{\"attributes\":{\"callback\":null,\"data\":{\"x\":{\"__ndarray__\":\"R/KIaN7AVEClCeJMyPNGQOvRhpxr30JAptxzhxx4PkA7SssMElA4QK6Bp3CyUDNAsVXpjES9LkBFhUV0+5coQMHYwqbbySNA6f09nM3nH0CaSd/3eYoZQDmgiAOW8BNAPYqARh3eDEBkm4vCgvr+P9D+5tWhQfY/P8DwKRnSAkBq38kb17ILQDT7IWuSsxFAUr2Rjm0FFkAinq3s9XgbQGCHwtYcqSFAG64kT303J0C7dRDneyooQD9JYrbK8yRA9S3bneHhIUAIymSuUMMcQIkHLe6VEBdAAau3cITREkA6CiNvkQIPQJU39ki7IQlAaAvwok1UA0BXLQiS4+L7P0xzDpJ2hPI/NNuPGMbJ5z91mUVYxqfSPxqwUPSxZca/G11peifD3L8QzNj5t2jTvwzOozTL360/SPJ4VI1VzD9KJ0nXEIncP8yDdlvHt+4/Et49nYLW9z++2teD4Jn+P+568eH/bwFALf5D9lmAAkCiZAicVOkCQPPT4jNKxwJAOjp3wTzBAUBSQsKNGisBQG4OmjqJwQBAJ3sZoHFuAEA5Ar0Sdi0AQGy4rw5+9f8/7W4nSrC3/z8mPr8zj4T/P4UYRHCQS/8/embVKYcF/z+5YXG+LLP+P/qb8BVUgf4/KvafTtyO/j/avAK1Ppv+PwJV9VVm2P0/JFtYlU/n/D9sN+q2fiX6Pw44e41PNPc/Opt+Z/wN9T+x3vcSW1vzP9ofvWQJlvI/8sciQQBW8j80sfkQa17yPzg5qng2r/I/Oh14WJBh8z+VZjnpctj0P6CcrSuCqQBA\",\"dtype\":\"float64\",\"shape\":[75]},\"y\":{\"__ndarray__\":\"GhExyth1ND/Sv8nbtpRIP2vylNV0PVE/aTum7souWD/At0SJ8fVgPw3Iuahxymc/MSNhhJWvcD/bTfBN02d3P2zb5nxnaoA/CD5h5MAGhz8NmeH1TyaQP+zrCsc9p5Y/LbKd76fGnz/bLW5ISEmmPww9YvTcQq8/JV2OstnstT8Er5Y7M8G+P0c+r3jqkcU/5h99k6ZBzj88bCIzFzjVP4enV8oyxN0//yH99nXg5D8qOpLLf0jtP5kqGJXUifQ/c9cS8kHP/D+/DpwzojQEQIEmwoanVwxA4lgXt9HgE0BSSZ2AJuIbQAMJih9jjiNA5q4l5INuK0AwTKYKRj0zQNv5fmq8/DpAaCJseHrtQkB/+zpwzoxKQM3MzMzMeFJAZmZmZmZqWEAAAAAAAFxeQM3MzMzMJmJAmpmZmZkfZUBmZmZmZhhoQDMzMzMzEWtAAAAAAAAKbkBmZmZmZoFwQM3MzMzM/XFAMzMzMzN6c0CamZmZmfZ0QAAAAAAAc3ZAZmZmZmbvd0DNzMzMzGt5QDMzMzMz6HpAmpmZmZlkfEAAAAAAAOF9QGZmZmZmXX9AZmZmZuZsgECamZmZGSuBQM3MzMxM6YFAAAAAAICngkAzMzMzs2WDQGZmZmbmI4RAmpmZmRnihEDNzMzMTKCFQAAAAACAXoZAMzMzM7Mch0BmZmZm5tqHQJqZmZkZmYhAzczMzExXiUAAAAAAgBWKQDMzMzOz04pAZmZmZuaRi0CamZmZGVCMQM3MzMxMDo1AAAAAAIDMjUAzMzMzs4qOQGZmZmbmSI9A\",\"dtype\":\"float64\",\"shape\":[75]}},\"selected\":{\"id\":\"a2c48b57-2e47-4e09-ac43-38649f1083c2\",\"type\":\"Selection\"},\"selection_policy\":{\"id\":\"9e6b08dd-5ee4-45f3-8f4a-5c834113a3c2\",\"type\":\"UnionRenderers\"}},\"id\":\"7640f2e6-7653-4585-b541-df32a83f0a58\",\"type\":\"ColumnDataSource\"},{\"attributes\":{\"above\":[{\"id\":\"28ce6a98-4bb3-4ac9-ae6a-ef4e9b06c3c1\",\"type\":\"Legend\"}],\"below\":[{\"id\":\"5fda3fd4-f81c-4b12-9370-ba134ab51a93\",\"type\":\"LinearAxis\"}],\"left\":[{\"id\":\"98c893df-b0a0-4bc0-b1f4-a41abacf4739\",\"type\":\"LogAxis\"}],\"plot_width\":300,\"renderers\":[{\"id\":\"5fda3fd4-f81c-4b12-9370-ba134ab51a93\",\"type\":\"LinearAxis\"},{\"id\":\"3ad31a94-5f93-4447-988e-df1ae46fe846\",\"type\":\"Grid\"},{\"id\":\"98c893df-b0a0-4bc0-b1f4-a41abacf4739\",\"type\":\"LogAxis\"},{\"id\":\"aef22779-22fc-411c-9a1a-f223e01f89e3\",\"type\":\"Grid\"},{\"id\":\"368cb7b6-79f6-4a4c-966c-d269246c5003\",\"type\":\"BoxAnnotation\"},{\"id\":\"c0beb17b-8fe2-413d-915f-055763243bc2\",\"type\":\"GlyphRenderer\"},{\"id\":\"145c2076-056a-48a7-b5c5-cdace636634c\",\"type\":\"GlyphRenderer\"},{\"id\":\"691cbf92-60c3-4d4c-8778-95e83bd44674\",\"type\":\"GlyphRenderer\"},{\"id\":\"28ce6a98-4bb3-4ac9-ae6a-ef4e9b06c3c1\",\"type\":\"Legend\"}],\"title\":{\"id\":\"6c965f2e-20b0-416d-9b17-29c954383ce6\",\"type\":\"Title\"},\"toolbar\":{\"id\":\"390c2b1e-d53f-437b-a57b-f070b0f40dc8\",\"type\":\"Toolbar\"},\"toolbar_location\":null,\"x_range\":{\"id\":\"1eea6520-9ec2-4810-929a-faae1c2f248e\",\"type\":\"Range1d\"},\"x_scale\":{\"id\":\"1c0f02f6-c7f3-4965-b0a4-1410a8f85ca1\",\"type\":\"LinearScale\"},\"y_range\":{\"id\":\"8267cd8c-5255-4fc5-affa-af58b2c6aeb5\",\"type\":\"Range1d\"},\"y_scale\":{\"id\":\"e2657b3e-0c31-43f3-b653-88a06e322a43\",\"type\":\"LogScale\"}},\"id\":\"3486a034-bfd7-4bef-a920-272ef350cbc1\",\"subtype\":\"Figure\",\"type\":\"Plot\"},{\"attributes\":{\"callback\":null,\"data\":{\"x\":{\"__ndarray__\":\"R/KIaN7AVEClCeJMyPNGQOvRhpxr30JAptxzhxx4PkA7SssMElA4QK6Bp3CyUDNAsVXpjES9LkBFhUV0+5coQMHYwqbbySNA6f09nM3nH0CaSd/3eYoZQDmgiAOW8BNAPYqARh3eDEBkm4vCgvr+P9D+5tWhQfY/P8DwKRnSAkBq38kb17ILQDT7IWuSsxFAUr2Rjm0FFkAinq3s9XgbQGCHwtYcqSFAG64kT303J0C7dRDneyooQD9JYrbK8yRA9S3bneHhIUAIymSuUMMcQIkHLe6VEBdAAau3cITREkA6CiNvkQIPQJU39ki7IQlAaAvwok1UA0BXLQiS4+L7P0xzDpJ2hPI/NNuPGMbJ5z91mUVYxqfSPxqwUPSxZca/G11peifD3L8QzNj5t2jTvwzOozTL360/SPJ4VI1VzD9KJ0nXEIncP8yDdlvHt+4/Et49nYLW9z++2teD4Jn+P+568eH/bwFALf5D9lmAAkCiZAicVOkCQPPT4jNKxwJAOjp3wTzBAUBSQsKNGisBQG4OmjqJwQBAJ3sZoHFuAEA5Ar0Sdi0AQGy4rw5+9f8/7W4nSrC3/z8mPr8zj4T/P4UYRHCQS/8/embVKYcF/z+5YXG+LLP+P/qb8BVUgf4/KvafTtyO/j/avAK1Ppv+PwJV9VVm2P0/JFtYlU/n/D9sN+q2fiX6Pw44e41PNPc/Opt+Z/wN9T+x3vcSW1vzP9ofvWQJlvI/8sciQQBW8j80sfkQa17yPzg5qng2r/I/Oh14WJBh8z+VZjnpctj0P6CcrSuCqQBA\",\"dtype\":\"float64\",\"shape\":[75]},\"y\":{\"__ndarray__\":\"GhExyth1ND/Sv8nbtpRIP2vylNV0PVE/aTum7souWD/At0SJ8fVgPw3Iuahxymc/MSNhhJWvcD/bTfBN02d3P2zb5nxnaoA/CD5h5MAGhz8NmeH1TyaQP+zrCsc9p5Y/LbKd76fGnz/bLW5ISEmmPww9YvTcQq8/JV2OstnstT8Er5Y7M8G+P0c+r3jqkcU/5h99k6ZBzj88bCIzFzjVP4enV8oyxN0//yH99nXg5D8qOpLLf0jtP5kqGJXUifQ/c9cS8kHP/D+/DpwzojQEQIEmwoanVwxA4lgXt9HgE0BSSZ2AJuIbQAMJih9jjiNA5q4l5INuK0AwTKYKRj0zQNv5fmq8/DpAaCJseHrtQkB/+zpwzoxKQM3MzMzMeFJAZmZmZmZqWEAAAAAAAFxeQM3MzMzMJmJAmpmZmZkfZUBmZmZmZhhoQDMzMzMzEWtAAAAAAAAKbkBmZmZmZoFwQM3MzMzM/XFAMzMzMzN6c0CamZmZmfZ0QAAAAAAAc3ZAZmZmZmbvd0DNzMzMzGt5QDMzMzMz6HpAmpmZmZlkfEAAAAAAAOF9QGZmZmZmXX9AZmZmZuZsgECamZmZGSuBQM3MzMxM6YFAAAAAAICngkAzMzMzs2WDQGZmZmbmI4RAmpmZmRnihEDNzMzMTKCFQAAAAACAXoZAMzMzM7Mch0BmZmZm5tqHQJqZmZkZmYhAzczMzExXiUAAAAAAgBWKQDMzMzOz04pAZmZmZuaRi0CamZmZGVCMQM3MzMxMDo1AAAAAAIDMjUAzMzMzs4qOQGZmZmbmSI9A\",\"dtype\":\"float64\",\"shape\":[75]}},\"selected\":{\"id\":\"9cede3b1-9419-46db-8f4f-f15842dfffc7\",\"type\":\"Selection\"},\"selection_policy\":{\"id\":\"66c837e5-4e84-4e8b-b3ab-571acba09ece\",\"type\":\"UnionRenderers\"}},\"id\":\"991275c0-314f-4e89-bb59-031672656f40\",\"type\":\"ColumnDataSource\"},{\"attributes\":{\"active_drag\":\"auto\",\"active_inspect\":\"auto\",\"active_scroll\":\"auto\",\"active_tap\":\"auto\",\"tools\":[{\"id\":\"f8c63d9e-9376-4980-a96e-f7ff0c1872f4\",\"type\":\"PanTool\"},{\"id\":\"30754920-f0b7-4eff-8114-bc2be588a587\",\"type\":\"WheelZoomTool\"},{\"id\":\"ee81860e-17eb-429f-9fc9-3161a93dcba9\",\"type\":\"BoxZoomTool\"},{\"id\":\"93fe65fd-ada1-435a-a450-270e2190f38d\",\"type\":\"SaveTool\"},{\"id\":\"2441eae8-8c72-4476-9012-4441b4374ec1\",\"type\":\"ResetTool\"},{\"id\":\"3c755fca-6b49-4bfa-9f7f-f8f293e5fd2b\",\"type\":\"HelpTool\"}]},\"id\":\"1b303731-8346-4aa1-89e6-744d22649587\",\"type\":\"Toolbar\"},{\"attributes\":{\"callback\":null,\"end\":0.01,\"start\":1020},\"id\":\"8267cd8c-5255-4fc5-affa-af58b2c6aeb5\",\"type\":\"Range1d\"},{\"attributes\":{\"items\":[{\"id\":\"26053cc1-d6b6-41a9-a8cf-9d36c5d15649\",\"type\":\"LegendItem\"}],\"label_text_font_size\":{\"value\":\"8pt\"},\"location\":\"top_center\",\"orientation\":\"horizontal\",\"plot\":{\"id\":\"280fcc3c-b7fb-476d-b808-a5e0e2c4c80a\",\"subtype\":\"Figure\",\"type\":\"Plot\"}},\"id\":\"54815102-80fa-44fb-9a4f-1bdc13fcc04b\",\"type\":\"Legend\"},{\"attributes\":{\"source\":{\"id\":\"991275c0-314f-4e89-bb59-031672656f40\",\"type\":\"ColumnDataSource\"}},\"id\":\"9b31d6ea-bfc4-43e0-912a-cf9fa9a2bd73\",\"type\":\"CDSView\"},{\"attributes\":{\"data_source\":{\"id\":\"603149a6-325b-4927-b4d7-9cb936c9d3b9\",\"type\":\"ColumnDataSource\"},\"glyph\":{\"id\":\"fdc81102-655f-4202-b9d5-6a617e249527\",\"type\":\"Circle\"},\"hover_glyph\":null,\"muted_glyph\":null,\"nonselection_glyph\":{\"id\":\"de747063-db16-4848-be62-49cd2445707b\",\"type\":\"Circle\"},\"selection_glyph\":null,\"view\":{\"id\":\"7e87f2a8-063d-4cc3-8ab3-b71e140c795e\",\"type\":\"CDSView\"}},\"id\":\"70085ad6-9769-46cd-8b5a-09c254cb2275\",\"type\":\"GlyphRenderer\"},{\"attributes\":{\"axis_label\":\"pressure [mb]\",\"formatter\":{\"id\":\"cc607907-38c8-4abf-aa45-36492b70c973\",\"type\":\"LogTickFormatter\"},\"plot\":{\"id\":\"3486a034-bfd7-4bef-a920-272ef350cbc1\",\"subtype\":\"Figure\",\"type\":\"Plot\"},\"ticker\":{\"id\":\"648767c1-83d5-4fc1-83e3-2b28bfbbab41\",\"type\":\"LogTicker\"}},\"id\":\"98c893df-b0a0-4bc0-b1f4-a41abacf4739\",\"type\":\"LogAxis\"},{\"attributes\":{\"fill_alpha\":{\"value\":0.7},\"fill_color\":{\"value\":\"#4daf4a\"},\"line_alpha\":{\"value\":0.7},\"line_color\":{\"value\":\"#4daf4a\"},\"x\":{\"field\":\"x\"},\"y\":{\"field\":\"y\"}},\"id\":\"1308d295-f7fd-431e-9034-e5dfa9760fa4\",\"type\":\"Circle\"},{\"attributes\":{},\"id\":\"bd339e55-fb56-4017-b1bc-11619b72a10d\",\"type\":\"PanTool\"},{\"attributes\":{},\"id\":\"5fdbe452-e611-481c-9a5b-36e4e6dc787c\",\"type\":\"UnionRenderers\"},{\"attributes\":{\"label\":{\"value\":\"CRD\"},\"renderers\":[{\"id\":\"145c2076-056a-48a7-b5c5-cdace636634c\",\"type\":\"GlyphRenderer\"},{\"id\":\"691cbf92-60c3-4d4c-8778-95e83bd44674\",\"type\":\"GlyphRenderer\"}]},\"id\":\"e315d083-9b8c-4c34-aaf4-0aeb30dd6f65\",\"type\":\"LegendItem\"},{\"attributes\":{\"callback\":null,\"data\":{\"x\":{\"__ndarray__\":\"R/KIaN7AVEClCeJMyPNGQOvRhpxr30JAptxzhxx4PkA7SssMElA4QK6Bp3CyUDNAsVXpjES9LkBFhUV0+5coQMHYwqbbySNA6f09nM3nH0CaSd/3eYoZQDmgiAOW8BNAPYqARh3eDEBkm4vCgvr+P9D+5tWhQfY/P8DwKRnSAkBq38kb17ILQDT7IWuSsxFAUr2Rjm0FFkAinq3s9XgbQGCHwtYcqSFAG64kT303J0C7dRDneyooQD9JYrbK8yRA9S3bneHhIUAIymSuUMMcQIkHLe6VEBdAAau3cITREkA6CiNvkQIPQJU39ki7IQlAaAvwok1UA0BXLQiS4+L7P0xzDpJ2hPI/NNuPGMbJ5z91mUVYxqfSPxqwUPSxZca/G11peifD3L8QzNj5t2jTvwzOozTL360/SPJ4VI1VzD9KJ0nXEIncP8yDdlvHt+4/Et49nYLW9z++2teD4Jn+P+568eH/bwFALf5D9lmAAkCiZAicVOkCQPPT4jNKxwJAOjp3wTzBAUBSQsKNGisBQG4OmjqJwQBAJ3sZoHFuAEA5Ar0Sdi0AQGy4rw5+9f8/7W4nSrC3/z8mPr8zj4T/P4UYRHCQS/8/embVKYcF/z+5YXG+LLP+P/qb8BVUgf4/KvafTtyO/j/avAK1Ppv+PwJV9VVm2P0/JFtYlU/n/D9sN+q2fiX6Pw44e41PNPc/Opt+Z/wN9T+x3vcSW1vzP9ofvWQJlvI/8sciQQBW8j80sfkQa17yPzg5qng2r/I/Oh14WJBh8z+VZjnpctj0P6CcrSuCqQBA\",\"dtype\":\"float64\",\"shape\":[75]},\"y\":{\"__ndarray__\":\"GhExyth1ND/Sv8nbtpRIP2vylNV0PVE/aTum7souWD/At0SJ8fVgPw3Iuahxymc/MSNhhJWvcD/bTfBN02d3P2zb5nxnaoA/CD5h5MAGhz8NmeH1TyaQP+zrCsc9p5Y/LbKd76fGnz/bLW5ISEmmPww9YvTcQq8/JV2OstnstT8Er5Y7M8G+P0c+r3jqkcU/5h99k6ZBzj88bCIzFzjVP4enV8oyxN0//yH99nXg5D8qOpLLf0jtP5kqGJXUifQ/c9cS8kHP/D+/DpwzojQEQIEmwoanVwxA4lgXt9HgE0BSSZ2AJuIbQAMJih9jjiNA5q4l5INuK0AwTKYKRj0zQNv5fmq8/DpAaCJseHrtQkB/+zpwzoxKQM3MzMzMeFJAZmZmZmZqWEAAAAAAAFxeQM3MzMzMJmJAmpmZmZkfZUBmZmZmZhhoQDMzMzMzEWtAAAAAAAAKbkBmZmZmZoFwQM3MzMzM/XFAMzMzMzN6c0CamZmZmfZ0QAAAAAAAc3ZAZmZmZmbvd0DNzMzMzGt5QDMzMzMz6HpAmpmZmZlkfEAAAAAAAOF9QGZmZmZmXX9AZmZmZuZsgECamZmZGSuBQM3MzMxM6YFAAAAAAICngkAzMzMzs2WDQGZmZmbmI4RAmpmZmRnihEDNzMzMTKCFQAAAAACAXoZAMzMzM7Mch0BmZmZm5tqHQJqZmZkZmYhAzczMzExXiUAAAAAAgBWKQDMzMzOz04pAZmZmZuaRi0CamZmZGVCMQM3MzMxMDo1AAAAAAIDMjUAzMzMzs4qOQGZmZmbmSI9A\",\"dtype\":\"float64\",\"shape\":[75]}},\"selected\":{\"id\":\"e264e0df-4791-4699-a159-4ff9a1755c66\",\"type\":\"Selection\"},\"selection_policy\":{\"id\":\"94f5fd77-950a-494e-a665-c68232edf4c7\",\"type\":\"UnionRenderers\"}},\"id\":\"c90326c4-86f8-4080-b42b-3f3041b73696\",\"type\":\"ColumnDataSource\"},{\"attributes\":{},\"id\":\"66c837e5-4e84-4e8b-b3ab-571acba09ece\",\"type\":\"UnionRenderers\"},{\"attributes\":{\"source\":{\"id\":\"686660de-ea6a-430f-8398-3c29e14c3490\",\"type\":\"ColumnDataSource\"}},\"id\":\"797c5515-28be-4724-9822-e8326f4f45a9\",\"type\":\"CDSView\"},{\"attributes\":{\"fill_alpha\":{\"value\":0.7},\"fill_color\":{\"value\":\"#4daf4a\"},\"line_alpha\":{\"value\":0.7},\"line_color\":{\"value\":\"#4daf4a\"},\"x\":{\"field\":\"x\"},\"y\":{\"field\":\"y\"}},\"id\":\"fdc81102-655f-4202-b9d5-6a617e249527\",\"type\":\"Circle\"},{\"attributes\":{\"line_color\":\"#4daf4a\",\"line_width\":1.5,\"x\":{\"field\":\"x\"},\"y\":{\"field\":\"y\"}},\"id\":\"2aa60a58-ea6b-4d69-ab4e-132c8b6ad506\",\"type\":\"Line\"},{\"attributes\":{\"bottom_units\":\"screen\",\"fill_alpha\":{\"value\":0.5},\"fill_color\":{\"value\":\"lightgrey\"},\"left_units\":\"screen\",\"level\":\"overlay\",\"line_alpha\":{\"value\":1.0},\"line_color\":{\"value\":\"black\"},\"line_dash\":[4,4],\"line_width\":{\"value\":2},\"plot\":null,\"render_mode\":\"css\",\"right_units\":\"screen\",\"top_units\":\"screen\"},\"id\":\"4f164d8a-acb0-4177-8672-765cc490fe0e\",\"type\":\"BoxAnnotation\"},{\"attributes\":{},\"id\":\"0cae9c23-8bcc-49d9-b953-b9b63a0020a8\",\"type\":\"HelpTool\"},{\"attributes\":{},\"id\":\"b0a42033-2f7b-4431-b01f-50091f2ae368\",\"type\":\"WheelZoomTool\"},{\"attributes\":{},\"id\":\"3c755fca-6b49-4bfa-9f7f-f8f293e5fd2b\",\"type\":\"HelpTool\"},{\"attributes\":{\"bottom_units\":\"screen\",\"fill_alpha\":{\"value\":0.5},\"fill_color\":{\"value\":\"lightgrey\"},\"left_units\":\"screen\",\"level\":\"overlay\",\"line_alpha\":{\"value\":1.0},\"line_color\":{\"value\":\"black\"},\"line_dash\":[4,4],\"line_width\":{\"value\":2},\"plot\":null,\"render_mode\":\"css\",\"right_units\":\"screen\",\"top_units\":\"screen\"},\"id\":\"368cb7b6-79f6-4a4c-966c-d269246c5003\",\"type\":\"BoxAnnotation\"},{\"attributes\":{\"callback\":null,\"end\":0.01,\"start\":1020},\"id\":\"78881c1f-ffda-449c-aee3-86abab16f477\",\"type\":\"Range1d\"},{\"attributes\":{\"line_color\":\"#4daf4a\",\"line_width\":1.5,\"x\":{\"field\":\"x\"},\"y\":{\"field\":\"y\"}},\"id\":\"97f83fe4-71e8-4553-a07c-33058b28cb38\",\"type\":\"Line\"},{\"attributes\":{\"line_alpha\":0.1,\"line_color\":\"#1f77b4\",\"line_width\":1.5,\"x\":{\"field\":\"x\"},\"y\":{\"field\":\"y\"}},\"id\":\"3ec1d569-3970-4a06-af92-524394129310\",\"type\":\"Line\"},{\"attributes\":{\"line_alpha\":0.6,\"line_color\":\"#377eb8\",\"line_dash\":[6],\"line_width\":5,\"x\":{\"field\":\"x\"},\"y\":{\"field\":\"y\"}},\"id\":\"facd391b-eece-4325-a27c-b60f8227b899\",\"type\":\"Line\"},{\"attributes\":{\"source\":{\"id\":\"c90326c4-86f8-4080-b42b-3f3041b73696\",\"type\":\"ColumnDataSource\"}},\"id\":\"f95db8fe-9d57-4f98-bd00-54f48002340a\",\"type\":\"CDSView\"},{\"attributes\":{\"overlay\":{\"id\":\"4f164d8a-acb0-4177-8672-765cc490fe0e\",\"type\":\"BoxAnnotation\"}},\"id\":\"ee81860e-17eb-429f-9fc9-3161a93dcba9\",\"type\":\"BoxZoomTool\"},{\"attributes\":{\"overlay\":{\"id\":\"404d0f8c-6bda-4200-8a50-74535dda49d9\",\"type\":\"BoxAnnotation\"}},\"id\":\"8e93e835-db29-4787-a3e9-24063f719fe7\",\"type\":\"BoxZoomTool\"},{\"attributes\":{\"line_alpha\":0.1,\"line_color\":\"#1f77b4\",\"line_width\":1.5,\"x\":{\"field\":\"x\"},\"y\":{\"field\":\"y\"}},\"id\":\"c26af9a3-6566-4581-bcd8-d78e511e4e5c\",\"type\":\"Line\"},{\"attributes\":{},\"id\":\"8f1b3688-45dd-44c5-9452-cf87f789e50c\",\"type\":\"SaveTool\"},{\"attributes\":{\"overlay\":{\"id\":\"368cb7b6-79f6-4a4c-966c-d269246c5003\",\"type\":\"BoxAnnotation\"}},\"id\":\"1e55f67a-79c8-4595-902c-fe4165f664b2\",\"type\":\"BoxZoomTool\"},{\"attributes\":{\"callback\":null,\"data\":{\"x\":{\"__ndarray__\":\"VKPbutGDRUAH9hQ/GNJCQFL93Ruys0FAUt3q+P8bQEB+3+d00RU8QLFQgUrcJzdAuTP515jpMUDbt2HY/wUqQMzYmarCRyJAl9XUy+yfGkCi5rfWxDUVQIShnr1ACRJAdsHKgheKDUDSh2elgi4DQOFxdPA/8P4/XLRu3/2mBUCADWG88kUMQMquToAlnhBAI1EtKlzcE0AW3Wxz4UsZQFn5BIlpDCFA3sqkQ3EAJ0BDWZnZLRkoQGEltAlbhCRAOSGnM1MnIUBM1zIu0FQcQHN4HhviWBhAJ6DAEvQrFEBqrSMXRsgPQOS2vNLvOAlAS/eZPIU6BUCMTigdJ3kAQIf9mQrer/Q/nOMMc64F5j8gB+dZBALRP37UrpUCf8G/tnvCg36d3r/KW1JahhvYvw4GLreojVu/8SgsHk5KxT92YVbjSbHYPyTNQmFxu+w/2L4TN8O69j+MkLfPYdf9P7/3IiwR7ABAbOEdtbOFAUCziIGcD0UCQPkM7ka2TQJAQWnzh9YWAUA6YOTPeoEAQE4eaB+RUQBAedJHer8pAECFQ2gEegoAQG3CtC5Aiv8/na42nDxM/z/Ow0SulPz+P99M33ozE/8/1vsUZw9D/z/tf4e4bmT/P+hpypJcZf8/tf5KcrZM/z+4gOGmUP/+P3BYzmkMzv0/NCriB/bO/D9XAbfYuDD6PxpY5dJkpPc/abo5BvTb9T8gvAiob4f0PzL4vHe2z/M/tL+8HAd98z8WRTEOx7rzPwmzR/YmHvQ/BJRcv03o9D8dIAdBIcj2P3vroyMeqAFA\",\"dtype\":\"float64\",\"shape\":[75]},\"y\":{\"__ndarray__\":\"GhExyth1ND/Sv8nbtpRIP2vylNV0PVE/aTum7souWD/At0SJ8fVgPw3Iuahxymc/MSNhhJWvcD/bTfBN02d3P2zb5nxnaoA/CD5h5MAGhz8NmeH1TyaQP+zrCsc9p5Y/LbKd76fGnz/bLW5ISEmmPww9YvTcQq8/JV2OstnstT8Er5Y7M8G+P0c+r3jqkcU/5h99k6ZBzj88bCIzFzjVP4enV8oyxN0//yH99nXg5D8qOpLLf0jtP5kqGJXUifQ/c9cS8kHP/D+/DpwzojQEQIEmwoanVwxA4lgXt9HgE0BSSZ2AJuIbQAMJih9jjiNA5q4l5INuK0AwTKYKRj0zQNv5fmq8/DpAaCJseHrtQkB/+zpwzoxKQM3MzMzMeFJAZmZmZmZqWEAAAAAAAFxeQM3MzMzMJmJAmpmZmZkfZUBmZmZmZhhoQDMzMzMzEWtAAAAAAAAKbkBmZmZmZoFwQM3MzMzM/XFAMzMzMzN6c0CamZmZmfZ0QAAAAAAAc3ZAZmZmZmbvd0DNzMzMzGt5QDMzMzMz6HpAmpmZmZlkfEAAAAAAAOF9QGZmZmZmXX9AZmZmZuZsgECamZmZGSuBQM3MzMxM6YFAAAAAAICngkAzMzMzs2WDQGZmZmbmI4RAmpmZmRnihEDNzMzMTKCFQAAAAACAXoZAMzMzM7Mch0BmZmZm5tqHQJqZmZkZmYhAzczMzExXiUAAAAAAgBWKQDMzMzOz04pAZmZmZuaRi0CamZmZGVCMQM3MzMxMDo1AAAAAAIDMjUAzMzMzs4qOQGZmZmbmSI9A\",\"dtype\":\"float64\",\"shape\":[75]}},\"selected\":{\"id\":\"e1cca70c-dd9a-4260-bba3-37d15b49358a\",\"type\":\"Selection\"},\"selection_policy\":{\"id\":\"5fdbe452-e611-481c-9a5b-36e4e6dc787c\",\"type\":\"UnionRenderers\"}},\"id\":\"686660de-ea6a-430f-8398-3c29e14c3490\",\"type\":\"ColumnDataSource\"},{\"attributes\":{},\"id\":\"e1cca70c-dd9a-4260-bba3-37d15b49358a\",\"type\":\"Selection\"},{\"attributes\":{},\"id\":\"2441eae8-8c72-4476-9012-4441b4374ec1\",\"type\":\"ResetTool\"},{\"attributes\":{\"num_minor_ticks\":10},\"id\":\"648767c1-83d5-4fc1-83e3-2b28bfbbab41\",\"type\":\"LogTicker\"},{\"attributes\":{\"dimension\":1,\"plot\":{\"id\":\"3486a034-bfd7-4bef-a920-272ef350cbc1\",\"subtype\":\"Figure\",\"type\":\"Plot\"},\"ticker\":{\"id\":\"648767c1-83d5-4fc1-83e3-2b28bfbbab41\",\"type\":\"LogTicker\"}},\"id\":\"aef22779-22fc-411c-9a1a-f223e01f89e3\",\"type\":\"Grid\"},{\"attributes\":{\"fill_alpha\":{\"value\":0.1},\"fill_color\":{\"value\":\"#1f77b4\"},\"line_alpha\":{\"value\":0.1},\"line_color\":{\"value\":\"#1f77b4\"},\"x\":{\"field\":\"x\"},\"y\":{\"field\":\"y\"}},\"id\":\"de747063-db16-4848-be62-49cd2445707b\",\"type\":\"Circle\"},{\"attributes\":{},\"id\":\"93fe65fd-ada1-435a-a450-270e2190f38d\",\"type\":\"SaveTool\"},{\"attributes\":{\"label\":{\"value\":\"CLIRAD (single-run)\"},\"renderers\":[{\"id\":\"c0beb17b-8fe2-413d-915f-055763243bc2\",\"type\":\"GlyphRenderer\"}]},\"id\":\"f902e5e8-e506-4df0-a93d-ffa5c83b4670\",\"type\":\"LegendItem\"},{\"attributes\":{},\"id\":\"30754920-f0b7-4eff-8114-bc2be588a587\",\"type\":\"WheelZoomTool\"},{\"attributes\":{\"data_source\":{\"id\":\"7640f2e6-7653-4585-b541-df32a83f0a58\",\"type\":\"ColumnDataSource\"},\"glyph\":{\"id\":\"2aa60a58-ea6b-4d69-ab4e-132c8b6ad506\",\"type\":\"Line\"},\"hover_glyph\":null,\"muted_glyph\":null,\"nonselection_glyph\":{\"id\":\"3ec1d569-3970-4a06-af92-524394129310\",\"type\":\"Line\"},\"selection_glyph\":null,\"view\":{\"id\":\"b5be2562-d161-4a5d-b615-39d1588ac551\",\"type\":\"CDSView\"}},\"id\":\"4dd834df-94ef-4092-8a43-fa8b1c3cfe7f\",\"type\":\"GlyphRenderer\"},{\"attributes\":{},\"id\":\"09ebde4f-686c-49bd-9e55-b6a3269973ec\",\"type\":\"HelpTool\"},{\"attributes\":{\"data_source\":{\"id\":\"686660de-ea6a-430f-8398-3c29e14c3490\",\"type\":\"ColumnDataSource\"},\"glyph\":{\"id\":\"facd391b-eece-4325-a27c-b60f8227b899\",\"type\":\"Line\"},\"hover_glyph\":null,\"muted_glyph\":null,\"nonselection_glyph\":{\"id\":\"48851d9a-a83c-43df-8b5a-4d4de06f038a\",\"type\":\"Line\"},\"selection_glyph\":null,\"view\":{\"id\":\"797c5515-28be-4724-9822-e8326f4f45a9\",\"type\":\"CDSView\"}},\"id\":\"c0beb17b-8fe2-413d-915f-055763243bc2\",\"type\":\"GlyphRenderer\"},{\"attributes\":{\"source\":{\"id\":\"603149a6-325b-4927-b4d7-9cb936c9d3b9\",\"type\":\"ColumnDataSource\"}},\"id\":\"7e87f2a8-063d-4cc3-8ab3-b71e140c795e\",\"type\":\"CDSView\"},{\"attributes\":{},\"id\":\"0d153355-9f98-49e6-840d-9e5f8eaa562c\",\"type\":\"SaveTool\"},{\"attributes\":{},\"id\":\"1af69d59-a50d-444f-b2e3-d2057b3e4c04\",\"type\":\"WheelZoomTool\"},{\"attributes\":{\"active_drag\":\"auto\",\"active_inspect\":\"auto\",\"active_scroll\":\"auto\",\"active_tap\":\"auto\",\"tools\":[{\"id\":\"bd339e55-fb56-4017-b1bc-11619b72a10d\",\"type\":\"PanTool\"},{\"id\":\"1af69d59-a50d-444f-b2e3-d2057b3e4c04\",\"type\":\"WheelZoomTool\"},{\"id\":\"8e93e835-db29-4787-a3e9-24063f719fe7\",\"type\":\"BoxZoomTool\"},{\"id\":\"0d153355-9f98-49e6-840d-9e5f8eaa562c\",\"type\":\"SaveTool\"},{\"id\":\"d7d0aab7-8d12-44e6-b72b-496fd91b3080\",\"type\":\"ResetTool\"},{\"id\":\"09ebde4f-686c-49bd-9e55-b6a3269973ec\",\"type\":\"HelpTool\"}]},\"id\":\"ab18d2d9-a0d5-48e6-82a6-25c4574e3a1e\",\"type\":\"Toolbar\"},{\"attributes\":{\"source\":{\"id\":\"7640f2e6-7653-4585-b541-df32a83f0a58\",\"type\":\"ColumnDataSource\"}},\"id\":\"b5be2562-d161-4a5d-b615-39d1588ac551\",\"type\":\"CDSView\"},{\"attributes\":{},\"id\":\"f8c63d9e-9376-4980-a96e-f7ff0c1872f4\",\"type\":\"PanTool\"},{\"attributes\":{},\"id\":\"c92ffefe-8765-4176-80cf-9c214b5e0567\",\"type\":\"BasicTickFormatter\"},{\"attributes\":{\"above\":[{\"id\":\"db69186d-6528-49b0-a5b5-411e658300ef\",\"type\":\"Legend\"}],\"below\":[{\"id\":\"17e11670-2040-4416-9eb4-4a64df0c70b8\",\"type\":\"LinearAxis\"}],\"left\":[{\"id\":\"622bc594-afc0-4555-960e-8ad4a9de539c\",\"type\":\"LinearAxis\"}],\"plot_width\":300,\"renderers\":[{\"id\":\"17e11670-2040-4416-9eb4-4a64df0c70b8\",\"type\":\"LinearAxis\"},{\"id\":\"1e020426-14a6-4c64-b4ab-607d464e59a7\",\"type\":\"Grid\"},{\"id\":\"622bc594-afc0-4555-960e-8ad4a9de539c\",\"type\":\"LinearAxis\"},{\"id\":\"5dbfb2f1-6378-4ba4-882d-045c1378abea\",\"type\":\"Grid\"},{\"id\":\"404d0f8c-6bda-4200-8a50-74535dda49d9\",\"type\":\"BoxAnnotation\"},{\"id\":\"5eabc094-8cba-4549-8332-f6e58f21212b\",\"type\":\"GlyphRenderer\"},{\"id\":\"70085ad6-9769-46cd-8b5a-09c254cb2275\",\"type\":\"GlyphRenderer\"},{\"id\":\"4dd834df-94ef-4092-8a43-fa8b1c3cfe7f\",\"type\":\"GlyphRenderer\"},{\"id\":\"db69186d-6528-49b0-a5b5-411e658300ef\",\"type\":\"Legend\"}],\"title\":{\"id\":\"14856fd0-3ae5-4f43-86ba-b8c953f6d69e\",\"type\":\"Title\"},\"toolbar\":{\"id\":\"ab18d2d9-a0d5-48e6-82a6-25c4574e3a1e\",\"type\":\"Toolbar\"},\"toolbar_location\":null,\"x_range\":{\"id\":\"d027fa35-9a57-4be4-9806-3055078f2841\",\"type\":\"Range1d\"},\"x_scale\":{\"id\":\"5e22fce7-e7ec-42a4-9b93-32357756a8f5\",\"type\":\"LinearScale\"},\"y_range\":{\"id\":\"ba02d5df-59e4-4299-b873-4d5ac69432bf\",\"type\":\"Range1d\"},\"y_scale\":{\"id\":\"31d9bc4d-dcbb-4676-a8f4-f4ee8bfe669e\",\"type\":\"LinearScale\"}},\"id\":\"7e3642b2-2800-4216-9a9e-fa70c8abe926\",\"subtype\":\"Figure\",\"type\":\"Plot\"},{\"attributes\":{\"fill_alpha\":{\"value\":0.1},\"fill_color\":{\"value\":\"#1f77b4\"},\"line_alpha\":{\"value\":0.1},\"line_color\":{\"value\":\"#1f77b4\"},\"x\":{\"field\":\"x\"},\"y\":{\"field\":\"y\"}},\"id\":\"e44960a0-76b4-4ace-abb1-fa5ad4f9154a\",\"type\":\"Circle\"},{\"attributes\":{\"label\":{\"value\":\"CRD\"},\"renderers\":[{\"id\":\"70085ad6-9769-46cd-8b5a-09c254cb2275\",\"type\":\"GlyphRenderer\"},{\"id\":\"4dd834df-94ef-4092-8a43-fa8b1c3cfe7f\",\"type\":\"GlyphRenderer\"}]},\"id\":\"ae9d993c-32c6-4454-8e66-74351ab7978f\",\"type\":\"LegendItem\"},{\"attributes\":{},\"id\":\"9cede3b1-9419-46db-8f4f-f15842dfffc7\",\"type\":\"Selection\"},{\"attributes\":{},\"id\":\"94f5fd77-950a-494e-a665-c68232edf4c7\",\"type\":\"UnionRenderers\"},{\"attributes\":{\"ticker\":null},\"id\":\"cc607907-38c8-4abf-aa45-36492b70c973\",\"type\":\"LogTickFormatter\"},{\"attributes\":{},\"id\":\"1b484474-9cb9-4bb9-a236-f92e64c0244e\",\"type\":\"Selection\"},{\"attributes\":{},\"id\":\"a56f522c-823d-4763-8919-5c966c025c95\",\"type\":\"BasicTickFormatter\"},{\"attributes\":{},\"id\":\"a2c48b57-2e47-4e09-ac43-38649f1083c2\",\"type\":\"Selection\"},{\"attributes\":{\"ticker\":null},\"id\":\"305a1183-dc09-4072-b25c-157329834a41\",\"type\":\"LogTickFormatter\"},{\"attributes\":{\"source\":{\"id\":\"9f176351-dcb5-4962-8081-548048c3a111\",\"type\":\"ColumnDataSource\"}},\"id\":\"495ec7f2-139d-449f-ba54-e449f8dabfb5\",\"type\":\"CDSView\"},{\"attributes\":{},\"id\":\"8507d1da-eabd-41d2-9bec-fbbec93f6f41\",\"type\":\"UnionRenderers\"},{\"attributes\":{},\"id\":\"e264e0df-4791-4699-a159-4ff9a1755c66\",\"type\":\"Selection\"},{\"attributes\":{\"callback\":null,\"end\":0.5612594960424788,\"start\":-1.3388217830845799},\"id\":\"66ba7ce0-fe90-46bd-9ecf-e70cf32b1df2\",\"type\":\"Range1d\"},{\"attributes\":{\"line_alpha\":0.1,\"line_color\":\"#1f77b4\",\"line_width\":1.5,\"x\":{\"field\":\"x\"},\"y\":{\"field\":\"y\"}},\"id\":\"44331d3c-1d77-402d-987a-2c6b428d0748\",\"type\":\"Line\"},{\"attributes\":{},\"id\":\"09d15ca7-b701-4894-8406-a79ef68061ae\",\"type\":\"UnionRenderers\"},{\"attributes\":{\"plot\":{\"id\":\"3486a034-bfd7-4bef-a920-272ef350cbc1\",\"subtype\":\"Figure\",\"type\":\"Plot\"},\"ticker\":{\"id\":\"055d1659-514a-463d-b4db-62932fe57c55\",\"type\":\"BasicTicker\"}},\"id\":\"3ad31a94-5f93-4447-988e-df1ae46fe846\",\"type\":\"Grid\"},{\"attributes\":{\"children\":[{\"id\":\"d1accb4f-6678-48b3-9685-16576a765ddc\",\"type\":\"ToolbarBox\"},{\"id\":\"85dbc1d0-bf9c-463e-842f-e576ce4eb92f\",\"type\":\"Column\"}]},\"id\":\"d8f5fa02-8035-45ef-8bb2-829f363add10\",\"type\":\"Column\"},{\"attributes\":{\"data_source\":{\"id\":\"9f176351-dcb5-4962-8081-548048c3a111\",\"type\":\"ColumnDataSource\"},\"glyph\":{\"id\":\"dc5d8145-c3ba-4b39-9498-b4a95f8a9a98\",\"type\":\"Circle\"},\"hover_glyph\":null,\"muted_glyph\":null,\"nonselection_glyph\":{\"id\":\"e1df656c-09df-4409-a6ee-6e5ec064625a\",\"type\":\"Circle\"},\"selection_glyph\":null,\"view\":{\"id\":\"495ec7f2-139d-449f-ba54-e449f8dabfb5\",\"type\":\"CDSView\"}},\"id\":\"55731fbf-5973-4c80-917c-dff4c42365ef\",\"type\":\"GlyphRenderer\"},{\"attributes\":{},\"id\":\"a81b1048-c335-4313-87c8-6b351797a521\",\"type\":\"Selection\"},{\"attributes\":{\"label\":{\"value\":\"CLIRAD (single-run)\"},\"renderers\":[{\"id\":\"5eabc094-8cba-4549-8332-f6e58f21212b\",\"type\":\"GlyphRenderer\"}]},\"id\":\"659ce7ec-289d-4578-ac34-59282af52ba8\",\"type\":\"LegendItem\"},{\"attributes\":{},\"id\":\"ea935a27-353c-49be-b4b2-878c27185ce3\",\"type\":\"Selection\"},{\"attributes\":{\"children\":[{\"id\":\"0ff45f15-6245-475b-8072-54b002c1b091\",\"type\":\"Row\"}]},\"id\":\"85dbc1d0-bf9c-463e-842f-e576ce4eb92f\",\"type\":\"Column\"},{\"attributes\":{\"axis_label\":\"cooling rate [K/day]\",\"formatter\":{\"id\":\"e3c9e0bc-d2f3-44db-8e09-aa8f0dca66ca\",\"type\":\"BasicTickFormatter\"},\"plot\":{\"id\":\"280fcc3c-b7fb-476d-b808-a5e0e2c4c80a\",\"subtype\":\"Figure\",\"type\":\"Plot\"},\"ticker\":{\"id\":\"164239d6-9bf9-4432-9c73-a991a22a3faf\",\"type\":\"BasicTicker\"}},\"id\":\"aeaf0d5c-c57d-443c-b36c-76d648ef309c\",\"type\":\"LinearAxis\"},{\"attributes\":{\"data_source\":{\"id\":\"9c1fc32f-bd52-4024-beff-3887373c504f\",\"type\":\"ColumnDataSource\"},\"glyph\":{\"id\":\"3a098f95-32ed-4a3c-88f9-122f945394ea\",\"type\":\"Line\"},\"hover_glyph\":null,\"muted_glyph\":null,\"nonselection_glyph\":{\"id\":\"fc1587ed-b9f5-45a1-80f1-1ca73235033b\",\"type\":\"Line\"},\"selection_glyph\":null,\"view\":{\"id\":\"46f83399-8029-415c-a360-8d740f2cc395\",\"type\":\"CDSView\"}},\"id\":\"5eabc094-8cba-4549-8332-f6e58f21212b\",\"type\":\"GlyphRenderer\"},{\"attributes\":{\"callback\":null,\"end\":12.208589944127628,\"start\":-0.60397607533063},\"id\":\"1eea6520-9ec2-4810-929a-faae1c2f248e\",\"type\":\"Range1d\"},{\"attributes\":{\"fill_alpha\":{\"value\":0.7},\"fill_color\":{\"value\":\"#984ea3\"},\"line_alpha\":{\"value\":0.7},\"line_color\":{\"value\":\"#984ea3\"},\"x\":{\"field\":\"x\"},\"y\":{\"field\":\"y\"}},\"id\":\"dc5d8145-c3ba-4b39-9498-b4a95f8a9a98\",\"type\":\"Circle\"},{\"attributes\":{\"toolbar\":{\"id\":\"a5c11066-2859-4a61-aa5e-cff48f602874\",\"type\":\"ProxyToolbar\"},\"toolbar_location\":\"above\"},\"id\":\"d1accb4f-6678-48b3-9685-16576a765ddc\",\"type\":\"ToolbarBox\"},{\"attributes\":{\"callback\":null,\"data\":{\"x\":{\"__ndarray__\":\"R/KIaN7AVEClCeJMyPNGQOvRhpxr30JAptxzhxx4PkA7SssMElA4QK6Bp3CyUDNAsVXpjES9LkBFhUV0+5coQMHYwqbbySNA6f09nM3nH0CaSd/3eYoZQDmgiAOW8BNAPYqARh3eDEBkm4vCgvr+P9D+5tWhQfY/P8DwKRnSAkBq38kb17ILQDT7IWuSsxFAUr2Rjm0FFkAinq3s9XgbQGCHwtYcqSFAG64kT303J0C7dRDneyooQD9JYrbK8yRA9S3bneHhIUAIymSuUMMcQIkHLe6VEBdAAau3cITREkA6CiNvkQIPQJU39ki7IQlAaAvwok1UA0BXLQiS4+L7P0xzDpJ2hPI/NNuPGMbJ5z91mUVYxqfSPxqwUPSxZca/G11peifD3L8QzNj5t2jTvwzOozTL360/SPJ4VI1VzD9KJ0nXEIncP8yDdlvHt+4/Et49nYLW9z++2teD4Jn+P+568eH/bwFALf5D9lmAAkCiZAicVOkCQPPT4jNKxwJAOjp3wTzBAUBSQsKNGisBQG4OmjqJwQBAJ3sZoHFuAEA5Ar0Sdi0AQGy4rw5+9f8/7W4nSrC3/z8mPr8zj4T/P4UYRHCQS/8/embVKYcF/z+5YXG+LLP+P/qb8BVUgf4/KvafTtyO/j/avAK1Ppv+PwJV9VVm2P0/JFtYlU/n/D9sN+q2fiX6Pw44e41PNPc/Opt+Z/wN9T+x3vcSW1vzP9ofvWQJlvI/8sciQQBW8j80sfkQa17yPzg5qng2r/I/Oh14WJBh8z+VZjnpctj0P6CcrSuCqQBA\",\"dtype\":\"float64\",\"shape\":[75]},\"y\":{\"__ndarray__\":\"GhExyth1ND/Sv8nbtpRIP2vylNV0PVE/aTum7souWD/At0SJ8fVgPw3Iuahxymc/MSNhhJWvcD/bTfBN02d3P2zb5nxnaoA/CD5h5MAGhz8NmeH1TyaQP+zrCsc9p5Y/LbKd76fGnz/bLW5ISEmmPww9YvTcQq8/JV2OstnstT8Er5Y7M8G+P0c+r3jqkcU/5h99k6ZBzj88bCIzFzjVP4enV8oyxN0//yH99nXg5D8qOpLLf0jtP5kqGJXUifQ/c9cS8kHP/D+/DpwzojQEQIEmwoanVwxA4lgXt9HgE0BSSZ2AJuIbQAMJih9jjiNA5q4l5INuK0AwTKYKRj0zQNv5fmq8/DpAaCJseHrtQkB/+zpwzoxKQM3MzMzMeFJAZmZmZmZqWEAAAAAAAFxeQM3MzMzMJmJAmpmZmZkfZUBmZmZmZhhoQDMzMzMzEWtAAAAAAAAKbkBmZmZmZoFwQM3MzMzM/XFAMzMzMzN6c0CamZmZmfZ0QAAAAAAAc3ZAZmZmZmbvd0DNzMzMzGt5QDMzMzMz6HpAmpmZmZlkfEAAAAAAAOF9QGZmZmZmXX9AZmZmZuZsgECamZmZGSuBQM3MzMxM6YFAAAAAAICngkAzMzMzs2WDQGZmZmbmI4RAmpmZmRnihEDNzMzMTKCFQAAAAACAXoZAMzMzM7Mch0BmZmZm5tqHQJqZmZkZmYhAzczMzExXiUAAAAAAgBWKQDMzMzOz04pAZmZmZuaRi0CamZmZGVCMQM3MzMxMDo1AAAAAAIDMjUAzMzMzs4qOQGZmZmbmSI9A\",\"dtype\":\"float64\",\"shape\":[75]}},\"selected\":{\"id\":\"1b484474-9cb9-4bb9-a236-f92e64c0244e\",\"type\":\"Selection\"},\"selection_policy\":{\"id\":\"7d6317ac-d2b2-4e1a-a587-49748c438323\",\"type\":\"UnionRenderers\"}},\"id\":\"603149a6-325b-4927-b4d7-9cb936c9d3b9\",\"type\":\"ColumnDataSource\"},{\"attributes\":{\"data_source\":{\"id\":\"1ac487b8-f83f-4660-aa91-37e20f743426\",\"type\":\"ColumnDataSource\"},\"glyph\":{\"id\":\"4d0aaaaa-569f-4e2b-97a1-8929cbdcde38\",\"type\":\"Line\"},\"hover_glyph\":null,\"muted_glyph\":null,\"nonselection_glyph\":{\"id\":\"44331d3c-1d77-402d-987a-2c6b428d0748\",\"type\":\"Line\"},\"selection_glyph\":null,\"view\":{\"id\":\"4f6bc3ee-ea96-4cf4-8dfd-d8b60a65f819\",\"type\":\"CDSView\"}},\"id\":\"10be43d3-1b54-4446-9806-5b9eb369978a\",\"type\":\"GlyphRenderer\"},{\"attributes\":{},\"id\":\"e3c9e0bc-d2f3-44db-8e09-aa8f0dca66ca\",\"type\":\"BasicTickFormatter\"},{\"attributes\":{},\"id\":\"6f620315-49f1-421d-a570-44a474b0808f\",\"type\":\"Selection\"},{\"attributes\":{\"plot\":null,\"text\":\"\"},\"id\":\"81ae097a-e407-4994-927c-28fb8c9d70c1\",\"type\":\"Title\"},{\"attributes\":{\"source\":{\"id\":\"1ac487b8-f83f-4660-aa91-37e20f743426\",\"type\":\"ColumnDataSource\"}},\"id\":\"4f6bc3ee-ea96-4cf4-8dfd-d8b60a65f819\",\"type\":\"CDSView\"},{\"attributes\":{},\"id\":\"5262b76f-47fb-4575-9f77-24c618bf63cf\",\"type\":\"UnionRenderers\"},{\"attributes\":{},\"id\":\"b7a127b6-de0c-4ca3-9514-4be9ab40bfc2\",\"type\":\"LogScale\"},{\"attributes\":{\"above\":[{\"id\":\"54815102-80fa-44fb-9a4f-1bdc13fcc04b\",\"type\":\"Legend\"}],\"below\":[{\"id\":\"aeaf0d5c-c57d-443c-b36c-76d648ef309c\",\"type\":\"LinearAxis\"}],\"left\":[{\"id\":\"61cafc2d-805b-4343-b304-25c9ede37a4d\",\"type\":\"LogAxis\"}],\"plot_width\":300,\"renderers\":[{\"id\":\"aeaf0d5c-c57d-443c-b36c-76d648ef309c\",\"type\":\"LinearAxis\"},{\"id\":\"2d17f48a-99b8-4845-b276-ad0bbf59226a\",\"type\":\"Grid\"},{\"id\":\"61cafc2d-805b-4343-b304-25c9ede37a4d\",\"type\":\"LogAxis\"},{\"id\":\"2346ebb8-35f4-46ed-a003-a8f3bafbd665\",\"type\":\"Grid\"},{\"id\":\"4f164d8a-acb0-4177-8672-765cc490fe0e\",\"type\":\"BoxAnnotation\"},{\"id\":\"55731fbf-5973-4c80-917c-dff4c42365ef\",\"type\":\"GlyphRenderer\"},{\"id\":\"10be43d3-1b54-4446-9806-5b9eb369978a\",\"type\":\"GlyphRenderer\"},{\"id\":\"54815102-80fa-44fb-9a4f-1bdc13fcc04b\",\"type\":\"Legend\"}],\"title\":{\"id\":\"81ae097a-e407-4994-927c-28fb8c9d70c1\",\"type\":\"Title\"},\"toolbar\":{\"id\":\"1b303731-8346-4aa1-89e6-744d22649587\",\"type\":\"Toolbar\"},\"toolbar_location\":null,\"x_range\":{\"id\":\"66ba7ce0-fe90-46bd-9ecf-e70cf32b1df2\",\"type\":\"Range1d\"},\"x_scale\":{\"id\":\"e37ee79a-12c3-4d7f-99a6-60b932d8dbef\",\"type\":\"LinearScale\"},\"y_range\":{\"id\":\"78881c1f-ffda-449c-aee3-86abab16f477\",\"type\":\"Range1d\"},\"y_scale\":{\"id\":\"b7a127b6-de0c-4ca3-9514-4be9ab40bfc2\",\"type\":\"LogScale\"}},\"id\":\"280fcc3c-b7fb-476d-b808-a5e0e2c4c80a\",\"subtype\":\"Figure\",\"type\":\"Plot\"},{\"attributes\":{\"fill_alpha\":{\"value\":0.1},\"fill_color\":{\"value\":\"#1f77b4\"},\"line_alpha\":{\"value\":0.1},\"line_color\":{\"value\":\"#1f77b4\"},\"x\":{\"field\":\"x\"},\"y\":{\"field\":\"y\"}},\"id\":\"e1df656c-09df-4409-a6ee-6e5ec064625a\",\"type\":\"Circle\"},{\"attributes\":{\"axis_label\":\"cooling rate [K/day]\",\"formatter\":{\"id\":\"c92ffefe-8765-4176-80cf-9c214b5e0567\",\"type\":\"BasicTickFormatter\"},\"plot\":{\"id\":\"3486a034-bfd7-4bef-a920-272ef350cbc1\",\"subtype\":\"Figure\",\"type\":\"Plot\"},\"ticker\":{\"id\":\"055d1659-514a-463d-b4db-62932fe57c55\",\"type\":\"BasicTicker\"}},\"id\":\"5fda3fd4-f81c-4b12-9370-ba134ab51a93\",\"type\":\"LinearAxis\"},{\"attributes\":{},\"id\":\"e86e46a2-4411-4553-b947-f5ef5d4ed3d6\",\"type\":\"BasicTickFormatter\"},{\"attributes\":{\"label\":{\"value\":\"CLIRAD (single-run) - CRD\"},\"renderers\":[{\"id\":\"55731fbf-5973-4c80-917c-dff4c42365ef\",\"type\":\"GlyphRenderer\"},{\"id\":\"10be43d3-1b54-4446-9806-5b9eb369978a\",\"type\":\"GlyphRenderer\"}]},\"id\":\"26053cc1-d6b6-41a9-a8cf-9d36c5d15649\",\"type\":\"LegendItem\"},{\"attributes\":{},\"id\":\"1c0f02f6-c7f3-4965-b0a4-1410a8f85ca1\",\"type\":\"LinearScale\"},{\"attributes\":{\"children\":[{\"id\":\"7e3642b2-2800-4216-9a9e-fa70c8abe926\",\"subtype\":\"Figure\",\"type\":\"Plot\"},{\"id\":\"3486a034-bfd7-4bef-a920-272ef350cbc1\",\"subtype\":\"Figure\",\"type\":\"Plot\"},{\"id\":\"280fcc3c-b7fb-476d-b808-a5e0e2c4c80a\",\"subtype\":\"Figure\",\"type\":\"Plot\"}]},\"id\":\"0ff45f15-6245-475b-8072-54b002c1b091\",\"type\":\"Row\"},{\"attributes\":{\"tools\":[{\"id\":\"bd339e55-fb56-4017-b1bc-11619b72a10d\",\"type\":\"PanTool\"},{\"id\":\"1af69d59-a50d-444f-b2e3-d2057b3e4c04\",\"type\":\"WheelZoomTool\"},{\"id\":\"8e93e835-db29-4787-a3e9-24063f719fe7\",\"type\":\"BoxZoomTool\"},{\"id\":\"0d153355-9f98-49e6-840d-9e5f8eaa562c\",\"type\":\"SaveTool\"},{\"id\":\"d7d0aab7-8d12-44e6-b72b-496fd91b3080\",\"type\":\"ResetTool\"},{\"id\":\"09ebde4f-686c-49bd-9e55-b6a3269973ec\",\"type\":\"HelpTool\"},{\"id\":\"5a4c7e67-aa59-4712-9ecd-0c6a159d79cb\",\"type\":\"PanTool\"},{\"id\":\"b0a42033-2f7b-4431-b01f-50091f2ae368\",\"type\":\"WheelZoomTool\"},{\"id\":\"1e55f67a-79c8-4595-902c-fe4165f664b2\",\"type\":\"BoxZoomTool\"},{\"id\":\"8f1b3688-45dd-44c5-9452-cf87f789e50c\",\"type\":\"SaveTool\"},{\"id\":\"c3c9e51a-701e-4eef-ab36-10a280c8b77f\",\"type\":\"ResetTool\"},{\"id\":\"0cae9c23-8bcc-49d9-b953-b9b63a0020a8\",\"type\":\"HelpTool\"},{\"id\":\"f8c63d9e-9376-4980-a96e-f7ff0c1872f4\",\"type\":\"PanTool\"},{\"id\":\"30754920-f0b7-4eff-8114-bc2be588a587\",\"type\":\"WheelZoomTool\"},{\"id\":\"ee81860e-17eb-429f-9fc9-3161a93dcba9\",\"type\":\"BoxZoomTool\"},{\"id\":\"93fe65fd-ada1-435a-a450-270e2190f38d\",\"type\":\"SaveTool\"},{\"id\":\"2441eae8-8c72-4476-9012-4441b4374ec1\",\"type\":\"ResetTool\"},{\"id\":\"3c755fca-6b49-4bfa-9f7f-f8f293e5fd2b\",\"type\":\"HelpTool\"}]},\"id\":\"a5c11066-2859-4a61-aa5e-cff48f602874\",\"type\":\"ProxyToolbar\"},{\"attributes\":{\"plot\":null,\"text\":\"\"},\"id\":\"14856fd0-3ae5-4f43-86ba-b8c953f6d69e\",\"type\":\"Title\"},{\"attributes\":{},\"id\":\"055d1659-514a-463d-b4db-62932fe57c55\",\"type\":\"BasicTicker\"},{\"attributes\":{\"plot\":null,\"text\":\"\"},\"id\":\"6c965f2e-20b0-416d-9b17-29c954383ce6\",\"type\":\"Title\"},{\"attributes\":{\"source\":{\"id\":\"9c1fc32f-bd52-4024-beff-3887373c504f\",\"type\":\"ColumnDataSource\"}},\"id\":\"46f83399-8029-415c-a360-8d740f2cc395\",\"type\":\"CDSView\"},{\"attributes\":{\"line_alpha\":0.8,\"line_color\":\"#984ea3\",\"line_width\":1.5,\"x\":{\"field\":\"x\"},\"y\":{\"field\":\"y\"}},\"id\":\"4d0aaaaa-569f-4e2b-97a1-8929cbdcde38\",\"type\":\"Line\"},{\"attributes\":{},\"id\":\"9e6b08dd-5ee4-45f3-8f4a-5c834113a3c2\",\"type\":\"UnionRenderers\"},{\"attributes\":{\"callback\":null,\"data\":{\"x\":{\"__ndarray__\":\"O0E2Fuv9Q8B0TjQ3wIYgwJhJjQqYuwLAzd8dpjb++z8LquRA+y0OQBN4zs5OuQ5AB0ckjLRXBEB7KcNBRuDmP0X/j8KPIei/SqGkQYMf9b/ki52E1FLxv2/rn15Udd6/BudGiUd/tT8D0Q0hCordPxnmGjU8XeE/36DvqyWn1j8Zw+USdGOyP8fGNK3OVtG/gGEjI4tI4b9cCAbKo2jhv+XAsbdpltO/X53xvwWGu7/neBx3DU6hvyr4iCvr28u/nZeBRs1R178Mr3wMIKC7v5YOF8/ChNQ/aFKPIPqm1T8pZhQAlba4P+xOf8aJNIc/LL6emnljzj8MvyGhqj3UP+VRXMQ7W8E/n3kvWHpBrL83JenlH1yav2duh3q9mqM/pumRlXClnb/kPuaBOcuyvzg+XXo4vK6/XCUz2fwsrL+vLpafN76uv5BqO6Nfxa+/q/OhYva7sb92RgmE1k+ov9Nl0LnWfbC/CpjDJMhUv7/Nfdvwn4i0v4W+MT37ZK6/GR96MMdMtb/hQry79zO1v9sHfMwG/qu/rCtqdIksob+ZWl8qB36Rv1yAvf53z5q/KBQwfOvcmr9DS0+vUP+gv9HSZbJ6Loy/la3Knx7Ejj+UxsNCPyimP/K9OZsPgaw/RRFhdUS7pz/C97B3fASZP2Ah+U3Ys2S/OPAwdo1ZeL9Y15OZQ3RmPysDiFpRBZw/vuVj1/O+qT/a1g1RScGyP5CF/S/RmrM/DXyfuW1wsj8iPnnTv8W1PxKd19kH77Y/i2xHbtZruD+imNt85fq+Pz7byf5+078/\",\"dtype\":\"float64\",\"shape\":[75]},\"y\":{\"__ndarray__\":\"GhExyth1ND/Sv8nbtpRIP2vylNV0PVE/aTum7souWD/At0SJ8fVgPw3Iuahxymc/MSNhhJWvcD/bTfBN02d3P2zb5nxnaoA/CD5h5MAGhz8NmeH1TyaQP+zrCsc9p5Y/LbKd76fGnz/bLW5ISEmmPww9YvTcQq8/JV2OstnstT8Er5Y7M8G+P0c+r3jqkcU/5h99k6ZBzj88bCIzFzjVP4enV8oyxN0//yH99nXg5D8qOpLLf0jtP5kqGJXUifQ/c9cS8kHP/D+/DpwzojQEQIEmwoanVwxA4lgXt9HgE0BSSZ2AJuIbQAMJih9jjiNA5q4l5INuK0AwTKYKRj0zQNv5fmq8/DpAaCJseHrtQkB/+zpwzoxKQM3MzMzMeFJAZmZmZmZqWEAAAAAAAFxeQM3MzMzMJmJAmpmZmZkfZUBmZmZmZhhoQDMzMzMzEWtAAAAAAAAKbkBmZmZmZoFwQM3MzMzM/XFAMzMzMzN6c0CamZmZmfZ0QAAAAAAAc3ZAZmZmZmbvd0DNzMzMzGt5QDMzMzMz6HpAmpmZmZlkfEAAAAAAAOF9QGZmZmZmXX9AZmZmZuZsgECamZmZGSuBQM3MzMxM6YFAAAAAAICngkAzMzMzs2WDQGZmZmbmI4RAmpmZmRnihEDNzMzMTKCFQAAAAACAXoZAMzMzM7Mch0BmZmZm5tqHQJqZmZkZmYhAzczMzExXiUAAAAAAgBWKQDMzMzOz04pAZmZmZuaRi0CamZmZGVCMQM3MzMxMDo1AAAAAAIDMjUAzMzMzs4qOQGZmZmbmSI9A\",\"dtype\":\"float64\",\"shape\":[75]}},\"selected\":{\"id\":\"a81b1048-c335-4313-87c8-6b351797a521\",\"type\":\"Selection\"},\"selection_policy\":{\"id\":\"8507d1da-eabd-41d2-9bec-fbbec93f6f41\",\"type\":\"UnionRenderers\"}},\"id\":\"1ac487b8-f83f-4660-aa91-37e20f743426\",\"type\":\"ColumnDataSource\"},{\"attributes\":{},\"id\":\"7d6317ac-d2b2-4e1a-a587-49748c438323\",\"type\":\"UnionRenderers\"},{\"attributes\":{},\"id\":\"e2657b3e-0c31-43f3-b653-88a06e322a43\",\"type\":\"LogScale\"},{\"attributes\":{\"dimension\":1,\"plot\":{\"id\":\"7e3642b2-2800-4216-9a9e-fa70c8abe926\",\"subtype\":\"Figure\",\"type\":\"Plot\"},\"ticker\":{\"id\":\"ac6d98ce-8ad1-42b1-a81c-244cccdf5238\",\"type\":\"BasicTicker\"}},\"id\":\"5dbfb2f1-6378-4ba4-882d-045c1378abea\",\"type\":\"Grid\"},{\"attributes\":{\"axis_label\":\"cooling rate [K/day]\",\"formatter\":{\"id\":\"e86e46a2-4411-4553-b947-f5ef5d4ed3d6\",\"type\":\"BasicTickFormatter\"},\"plot\":{\"id\":\"7e3642b2-2800-4216-9a9e-fa70c8abe926\",\"subtype\":\"Figure\",\"type\":\"Plot\"},\"ticker\":{\"id\":\"5621f4ea-2146-4031-97d3-3b233633ec58\",\"type\":\"BasicTicker\"}},\"id\":\"17e11670-2040-4416-9eb4-4a64df0c70b8\",\"type\":\"LinearAxis\"},{\"attributes\":{\"callback\":null,\"data\":{\"x\":{\"__ndarray__\":\"O0E2Fuv9Q8B0TjQ3wIYgwJhJjQqYuwLAzd8dpjb++z8LquRA+y0OQBN4zs5OuQ5AB0ckjLRXBEB7KcNBRuDmP0X/j8KPIei/SqGkQYMf9b/ki52E1FLxv2/rn15Udd6/BudGiUd/tT8D0Q0hCordPxnmGjU8XeE/36DvqyWn1j8Zw+USdGOyP8fGNK3OVtG/gGEjI4tI4b9cCAbKo2jhv+XAsbdpltO/X53xvwWGu7/neBx3DU6hvyr4iCvr28u/nZeBRs1R178Mr3wMIKC7v5YOF8/ChNQ/aFKPIPqm1T8pZhQAlba4P+xOf8aJNIc/LL6emnljzj8MvyGhqj3UP+VRXMQ7W8E/n3kvWHpBrL83JenlH1yav2duh3q9mqM/pumRlXClnb/kPuaBOcuyvzg+XXo4vK6/XCUz2fwsrL+vLpafN76uv5BqO6Nfxa+/q/OhYva7sb92RgmE1k+ov9Nl0LnWfbC/CpjDJMhUv7/Nfdvwn4i0v4W+MT37ZK6/GR96MMdMtb/hQry79zO1v9sHfMwG/qu/rCtqdIksob+ZWl8qB36Rv1yAvf53z5q/KBQwfOvcmr9DS0+vUP+gv9HSZbJ6Loy/la3Knx7Ejj+UxsNCPyimP/K9OZsPgaw/RRFhdUS7pz/C97B3fASZP2Ah+U3Ys2S/OPAwdo1ZeL9Y15OZQ3RmPysDiFpRBZw/vuVj1/O+qT/a1g1RScGyP5CF/S/RmrM/DXyfuW1wsj8iPnnTv8W1PxKd19kH77Y/i2xHbtZruD+imNt85fq+Pz7byf5+078/\",\"dtype\":\"float64\",\"shape\":[75]},\"y\":{\"__ndarray__\":\"GhExyth1ND/Sv8nbtpRIP2vylNV0PVE/aTum7souWD/At0SJ8fVgPw3Iuahxymc/MSNhhJWvcD/bTfBN02d3P2zb5nxnaoA/CD5h5MAGhz8NmeH1TyaQP+zrCsc9p5Y/LbKd76fGnz/bLW5ISEmmPww9YvTcQq8/JV2OstnstT8Er5Y7M8G+P0c+r3jqkcU/5h99k6ZBzj88bCIzFzjVP4enV8oyxN0//yH99nXg5D8qOpLLf0jtP5kqGJXUifQ/c9cS8kHP/D+/DpwzojQEQIEmwoanVwxA4lgXt9HgE0BSSZ2AJuIbQAMJih9jjiNA5q4l5INuK0AwTKYKRj0zQNv5fmq8/DpAaCJseHrtQkB/+zpwzoxKQM3MzMzMeFJAZmZmZmZqWEAAAAAAAFxeQM3MzMzMJmJAmpmZmZkfZUBmZmZmZhhoQDMzMzMzEWtAAAAAAAAKbkBmZmZmZoFwQM3MzMzM/XFAMzMzMzN6c0CamZmZmfZ0QAAAAAAAc3ZAZmZmZmbvd0DNzMzMzGt5QDMzMzMz6HpAmpmZmZlkfEAAAAAAAOF9QGZmZmZmXX9AZmZmZuZsgECamZmZGSuBQM3MzMxM6YFAAAAAAICngkAzMzMzs2WDQGZmZmbmI4RAmpmZmRnihEDNzMzMTKCFQAAAAACAXoZAMzMzM7Mch0BmZmZm5tqHQJqZmZkZmYhAzczMzExXiUAAAAAAgBWKQDMzMzOz04pAZmZmZuaRi0CamZmZGVCMQM3MzMxMDo1AAAAAAIDMjUAzMzMzs4qOQGZmZmbmSI9A\",\"dtype\":\"float64\",\"shape\":[75]}},\"selected\":{\"id\":\"ea935a27-353c-49be-b4b2-878c27185ce3\",\"type\":\"Selection\"},\"selection_policy\":{\"id\":\"5262b76f-47fb-4575-9f77-24c618bf63cf\",\"type\":\"UnionRenderers\"}},\"id\":\"9f176351-dcb5-4962-8081-548048c3a111\",\"type\":\"ColumnDataSource\"},{\"attributes\":{\"axis_label\":\"pressure [mb]\",\"formatter\":{\"id\":\"a56f522c-823d-4763-8919-5c966c025c95\",\"type\":\"BasicTickFormatter\"},\"plot\":{\"id\":\"7e3642b2-2800-4216-9a9e-fa70c8abe926\",\"subtype\":\"Figure\",\"type\":\"Plot\"},\"ticker\":{\"id\":\"ac6d98ce-8ad1-42b1-a81c-244cccdf5238\",\"type\":\"BasicTicker\"}},\"id\":\"622bc594-afc0-4555-960e-8ad4a9de539c\",\"type\":\"LinearAxis\"},{\"attributes\":{},\"id\":\"5e22fce7-e7ec-42a4-9b93-32357756a8f5\",\"type\":\"LinearScale\"},{\"attributes\":{\"plot\":{\"id\":\"280fcc3c-b7fb-476d-b808-a5e0e2c4c80a\",\"subtype\":\"Figure\",\"type\":\"Plot\"},\"ticker\":{\"id\":\"164239d6-9bf9-4432-9c73-a991a22a3faf\",\"type\":\"BasicTicker\"}},\"id\":\"2d17f48a-99b8-4845-b276-ad0bbf59226a\",\"type\":\"Grid\"},{\"attributes\":{},\"id\":\"31d9bc4d-dcbb-4676-a8f4-f4ee8bfe669e\",\"type\":\"LinearScale\"},{\"attributes\":{\"callback\":null,\"end\":2.3923538470105306,\"start\":-0.50678561892353},\"id\":\"d027fa35-9a57-4be4-9806-3055078f2841\",\"type\":\"Range1d\"},{\"attributes\":{\"callback\":null,\"end\":0.01,\"start\":1020},\"id\":\"ba02d5df-59e4-4299-b873-4d5ac69432bf\",\"type\":\"Range1d\"},{\"attributes\":{\"plot\":{\"id\":\"7e3642b2-2800-4216-9a9e-fa70c8abe926\",\"subtype\":\"Figure\",\"type\":\"Plot\"},\"ticker\":{\"id\":\"5621f4ea-2146-4031-97d3-3b233633ec58\",\"type\":\"BasicTicker\"}},\"id\":\"1e020426-14a6-4c64-b4ab-607d464e59a7\",\"type\":\"Grid\"},{\"attributes\":{},\"id\":\"5621f4ea-2146-4031-97d3-3b233633ec58\",\"type\":\"BasicTicker\"},{\"attributes\":{\"callback\":null,\"data\":{\"x\":{\"__ndarray__\":\"VKPbutGDRUAH9hQ/GNJCQFL93Ruys0FAUt3q+P8bQEB+3+d00RU8QLFQgUrcJzdAuTP515jpMUDbt2HY/wUqQMzYmarCRyJAl9XUy+yfGkCi5rfWxDUVQIShnr1ACRJAdsHKgheKDUDSh2elgi4DQOFxdPA/8P4/XLRu3/2mBUCADWG88kUMQMquToAlnhBAI1EtKlzcE0AW3Wxz4UsZQFn5BIlpDCFA3sqkQ3EAJ0BDWZnZLRkoQGEltAlbhCRAOSGnM1MnIUBM1zIu0FQcQHN4HhviWBhAJ6DAEvQrFEBqrSMXRsgPQOS2vNLvOAlAS/eZPIU6BUCMTigdJ3kAQIf9mQrer/Q/nOMMc64F5j8gB+dZBALRP37UrpUCf8G/tnvCg36d3r/KW1JahhvYvw4GLreojVu/8SgsHk5KxT92YVbjSbHYPyTNQmFxu+w/2L4TN8O69j+MkLfPYdf9P7/3IiwR7ABAbOEdtbOFAUCziIGcD0UCQPkM7ka2TQJAQWnzh9YWAUA6YOTPeoEAQE4eaB+RUQBAedJHer8pAECFQ2gEegoAQG3CtC5Aiv8/na42nDxM/z/Ow0SulPz+P99M33ozE/8/1vsUZw9D/z/tf4e4bmT/P+hpypJcZf8/tf5KcrZM/z+4gOGmUP/+P3BYzmkMzv0/NCriB/bO/D9XAbfYuDD6PxpY5dJkpPc/abo5BvTb9T8gvAiob4f0PzL4vHe2z/M/tL+8HAd98z8WRTEOx7rzPwmzR/YmHvQ/BJRcv03o9D8dIAdBIcj2P3vroyMeqAFA\",\"dtype\":\"float64\",\"shape\":[75]},\"y\":{\"__ndarray__\":\"GhExyth1ND/Sv8nbtpRIP2vylNV0PVE/aTum7souWD/At0SJ8fVgPw3Iuahxymc/MSNhhJWvcD/bTfBN02d3P2zb5nxnaoA/CD5h5MAGhz8NmeH1TyaQP+zrCsc9p5Y/LbKd76fGnz/bLW5ISEmmPww9YvTcQq8/JV2OstnstT8Er5Y7M8G+P0c+r3jqkcU/5h99k6ZBzj88bCIzFzjVP4enV8oyxN0//yH99nXg5D8qOpLLf0jtP5kqGJXUifQ/c9cS8kHP/D+/DpwzojQEQIEmwoanVwxA4lgXt9HgE0BSSZ2AJuIbQAMJih9jjiNA5q4l5INuK0AwTKYKRj0zQNv5fmq8/DpAaCJseHrtQkB/+zpwzoxKQM3MzMzMeFJAZmZmZmZqWEAAAAAAAFxeQM3MzMzMJmJAmpmZmZkfZUBmZmZmZhhoQDMzMzMzEWtAAAAAAAAKbkBmZmZmZoFwQM3MzMzM/XFAMzMzMzN6c0CamZmZmfZ0QAAAAAAAc3ZAZmZmZmbvd0DNzMzMzGt5QDMzMzMz6HpAmpmZmZlkfEAAAAAAAOF9QGZmZmZmXX9AZmZmZuZsgECamZmZGSuBQM3MzMxM6YFAAAAAAICngkAzMzMzs2WDQGZmZmbmI4RAmpmZmRnihEDNzMzMTKCFQAAAAACAXoZAMzMzM7Mch0BmZmZm5tqHQJqZmZkZmYhAzczMzExXiUAAAAAAgBWKQDMzMzOz04pAZmZmZuaRi0CamZmZGVCMQM3MzMxMDo1AAAAAAIDMjUAzMzMzs4qOQGZmZmbmSI9A\",\"dtype\":\"float64\",\"shape\":[75]}},\"selected\":{\"id\":\"6f620315-49f1-421d-a570-44a474b0808f\",\"type\":\"Selection\"},\"selection_policy\":{\"id\":\"09d15ca7-b701-4894-8406-a79ef68061ae\",\"type\":\"UnionRenderers\"}},\"id\":\"9c1fc32f-bd52-4024-beff-3887373c504f\",\"type\":\"ColumnDataSource\"},{\"attributes\":{\"items\":[{\"id\":\"659ce7ec-289d-4578-ac34-59282af52ba8\",\"type\":\"LegendItem\"},{\"id\":\"ae9d993c-32c6-4454-8e66-74351ab7978f\",\"type\":\"LegendItem\"}],\"label_text_font_size\":{\"value\":\"8pt\"},\"location\":\"top_center\",\"orientation\":\"horizontal\",\"plot\":{\"id\":\"7e3642b2-2800-4216-9a9e-fa70c8abe926\",\"subtype\":\"Figure\",\"type\":\"Plot\"}},\"id\":\"db69186d-6528-49b0-a5b5-411e658300ef\",\"type\":\"Legend\"},{\"attributes\":{\"num_minor_ticks\":10},\"id\":\"eb2a6c3d-ccf2-445d-8024-da258e145db0\",\"type\":\"LogTicker\"},{\"attributes\":{},\"id\":\"e37ee79a-12c3-4d7f-99a6-60b932d8dbef\",\"type\":\"LinearScale\"},{\"attributes\":{\"data_source\":{\"id\":\"991275c0-314f-4e89-bb59-031672656f40\",\"type\":\"ColumnDataSource\"},\"glyph\":{\"id\":\"1308d295-f7fd-431e-9034-e5dfa9760fa4\",\"type\":\"Circle\"},\"hover_glyph\":null,\"muted_glyph\":null,\"nonselection_glyph\":{\"id\":\"e44960a0-76b4-4ace-abb1-fa5ad4f9154a\",\"type\":\"Circle\"},\"selection_glyph\":null,\"view\":{\"id\":\"9b31d6ea-bfc4-43e0-912a-cf9fa9a2bd73\",\"type\":\"CDSView\"}},\"id\":\"145c2076-056a-48a7-b5c5-cdace636634c\",\"type\":\"GlyphRenderer\"},{\"attributes\":{\"line_alpha\":0.1,\"line_color\":\"#1f77b4\",\"line_dash\":[6],\"line_width\":5,\"x\":{\"field\":\"x\"},\"y\":{\"field\":\"y\"}},\"id\":\"fc1587ed-b9f5-45a1-80f1-1ca73235033b\",\"type\":\"Line\"},{\"attributes\":{\"line_alpha\":0.6,\"line_color\":\"#377eb8\",\"line_dash\":[6],\"line_width\":5,\"x\":{\"field\":\"x\"},\"y\":{\"field\":\"y\"}},\"id\":\"3a098f95-32ed-4a3c-88f9-122f945394ea\",\"type\":\"Line\"},{\"attributes\":{},\"id\":\"ac6d98ce-8ad1-42b1-a81c-244cccdf5238\",\"type\":\"BasicTicker\"},{\"attributes\":{\"items\":[{\"id\":\"f902e5e8-e506-4df0-a93d-ffa5c83b4670\",\"type\":\"LegendItem\"},{\"id\":\"e315d083-9b8c-4c34-aaf4-0aeb30dd6f65\",\"type\":\"LegendItem\"}],\"label_text_font_size\":{\"value\":\"8pt\"},\"location\":\"top_center\",\"orientation\":\"horizontal\",\"plot\":{\"id\":\"3486a034-bfd7-4bef-a920-272ef350cbc1\",\"subtype\":\"Figure\",\"type\":\"Plot\"}},\"id\":\"28ce6a98-4bb3-4ac9-ae6a-ef4e9b06c3c1\",\"type\":\"Legend\"},{\"attributes\":{},\"id\":\"164239d6-9bf9-4432-9c73-a991a22a3faf\",\"type\":\"BasicTicker\"},{\"attributes\":{\"axis_label\":\"pressure [mb]\",\"formatter\":{\"id\":\"305a1183-dc09-4072-b25c-157329834a41\",\"type\":\"LogTickFormatter\"},\"plot\":{\"id\":\"280fcc3c-b7fb-476d-b808-a5e0e2c4c80a\",\"subtype\":\"Figure\",\"type\":\"Plot\"},\"ticker\":{\"id\":\"eb2a6c3d-ccf2-445d-8024-da258e145db0\",\"type\":\"LogTicker\"}},\"id\":\"61cafc2d-805b-4343-b304-25c9ede37a4d\",\"type\":\"LogAxis\"}],\"root_ids\":[\"d8f5fa02-8035-45ef-8bb2-829f363add10\"]},\"title\":\"Bokeh Application\",\"version\":\"0.12.16\"}};\n",
       "  var render_items = [{\"docid\":\"d4a37916-9758-4db7-98b0-61f7309b2b1f\",\"elementid\":\"5e8fd82c-7899-467e-851c-ed8ce87f6aa2\",\"modelid\":\"d8f5fa02-8035-45ef-8bb2-829f363add10\"}];\n",
       "  root.Bokeh.embed.embed_items_notebook(docs_json, render_items);\n",
       "\n",
       "  }\n",
       "  if (root.Bokeh !== undefined) {\n",
       "    embed_document(root);\n",
       "  } else {\n",
       "    var attempts = 0;\n",
       "    var timer = setInterval(function(root) {\n",
       "      if (root.Bokeh !== undefined) {\n",
       "        embed_document(root);\n",
       "        clearInterval(timer);\n",
       "      }\n",
       "      attempts++;\n",
       "      if (attempts > 100) {\n",
       "        console.log(\"Bokeh: ERROR: Unable to run BokehJS code because BokehJS library is missing\")\n",
       "        clearInterval(timer);\n",
       "      }\n",
       "    }, 10, root)\n",
       "  }\n",
       "})(window);"
      ],
      "application/vnd.bokehjs_exec.v0+json": ""
     },
     "metadata": {
      "application/vnd.bokehjs_exec.v0+json": {
       "id": "d8f5fa02-8035-45ef-8bb2-829f363add10"
      }
     },
     "output_type": "display_data"
    },
    {
     "data": {
      "text/markdown": [
       "*FIGURE.* Cooling rates & difference."
      ],
      "text/plain": [
       "<IPython.core.display.Markdown object>"
      ]
     },
     "metadata": {},
     "output_type": "display_data"
    },
    {
     "data": {
      "text/html": [
       "<a id=\"Fluxes._trp.\"></a>"
      ],
      "text/plain": [
       "<IPython.core.display.HTML object>"
      ]
     },
     "metadata": {},
     "output_type": "display_data"
    },
    {
     "data": {
      "text/markdown": [
       "# Fluxes. trp."
      ],
      "text/plain": [
       "<IPython.core.display.Markdown object>"
      ]
     },
     "metadata": {},
     "output_type": "display_data"
    },
    {
     "data": {
      "text/html": [
       "\n",
       "<div class=\"bk-root\">\n",
       "    <div class=\"bk-plotdiv\" id=\"f2bc4309-181d-442e-a1f6-48fd359fcdc7\"></div>\n",
       "</div>"
      ]
     },
     "metadata": {},
     "output_type": "display_data"
    },
    {
     "data": {
      "application/javascript": [
       "(function(root) {\n",
       "  function embed_document(root) {\n",
       "    \n",
       "  var docs_json = {\"0e24f050-c26f-4f38-b9b9-939eda483fcc\":{\"roots\":{\"references\":[{\"attributes\":{},\"id\":\"2ebed91f-af9a-41af-9ec8-0b6ac7f735c8\",\"type\":\"Selection\"},{\"attributes\":{\"plot\":null,\"text\":\"TOA flux. CLIRAD (single-run) - CRD.\"},\"id\":\"0b627095-5880-4090-bf66-067f4b4198e6\",\"type\":\"Title\"},{\"attributes\":{},\"id\":\"4ecfee38-9efe-45c5-bf56-6ee24ed93845\",\"type\":\"CategoricalTickFormatter\"},{\"attributes\":{},\"id\":\"71337253-6e42-4b41-97a1-f1bd81893f49\",\"type\":\"Selection\"},{\"attributes\":{},\"id\":\"5cb31c3d-1317-448f-a358-6704add6c675\",\"type\":\"WheelZoomTool\"},{\"attributes\":{\"below\":[{\"id\":\"a1e4c97b-421c-4810-a8fd-3d3bb4a5637a\",\"type\":\"CategoricalAxis\"}],\"left\":[{\"id\":\"78cf4de2-6350-4122-945e-cf0535e5f278\",\"type\":\"LinearAxis\"}],\"plot_height\":300,\"plot_width\":300,\"renderers\":[{\"id\":\"a1e4c97b-421c-4810-a8fd-3d3bb4a5637a\",\"type\":\"CategoricalAxis\"},{\"id\":\"75c11cc5-bd7b-4674-b2ed-edf97aea153a\",\"type\":\"Grid\"},{\"id\":\"78cf4de2-6350-4122-945e-cf0535e5f278\",\"type\":\"LinearAxis\"},{\"id\":\"c6499ed1-3961-4692-a90e-968361d860b9\",\"type\":\"Grid\"},{\"id\":\"429d5510-6917-493f-b227-c03aa23d546f\",\"type\":\"BoxAnnotation\"},{\"id\":\"67228d34-4f1b-4f50-9d7a-4672b37fe094\",\"type\":\"GlyphRenderer\"}],\"title\":{\"id\":\"4d74610e-5ead-4114-8a05-19054490b521\",\"type\":\"Title\"},\"toolbar\":{\"id\":\"fa300bfa-0543-4c0a-a987-6f8ebebab4d2\",\"type\":\"Toolbar\"},\"toolbar_location\":null,\"x_range\":{\"id\":\"4fff9760-2d86-470f-98a4-30d377d4de95\",\"type\":\"FactorRange\"},\"x_scale\":{\"id\":\"d57e8e10-223a-4f30-aeb0-a5269cba4451\",\"type\":\"CategoricalScale\"},\"y_range\":{\"id\":\"3c168871-46eb-4143-99c5-72e5b71066fd\",\"type\":\"DataRange1d\"},\"y_scale\":{\"id\":\"ed6c0bbd-a882-4685-95c8-5a55958dc420\",\"type\":\"LinearScale\"}},\"id\":\"0c2f7518-1e7c-4abd-aa9d-04d658cbd817\",\"subtype\":\"Figure\",\"type\":\"Plot\"},{\"attributes\":{},\"id\":\"789ab524-e839-46b9-a09d-af5e675491b6\",\"type\":\"BasicTickFormatter\"},{\"attributes\":{},\"id\":\"5c6700ed-f56f-46ce-8974-642c6bf5e81b\",\"type\":\"HelpTool\"},{\"attributes\":{\"active_drag\":\"auto\",\"active_inspect\":\"auto\",\"active_scroll\":\"auto\",\"active_tap\":\"auto\",\"tools\":[{\"id\":\"9e2d314a-478d-46ef-a3a7-317dcff186b9\",\"type\":\"PanTool\"},{\"id\":\"89922de3-b8a0-4fa6-929d-837a043bed16\",\"type\":\"WheelZoomTool\"},{\"id\":\"617c38c3-f543-4aad-8fc2-f630be8c910d\",\"type\":\"BoxZoomTool\"},{\"id\":\"eac45656-c761-4f94-9f79-64463a10b314\",\"type\":\"SaveTool\"},{\"id\":\"e04a9a47-73f7-4349-adc8-7c561b8e7b25\",\"type\":\"ResetTool\"},{\"id\":\"0aaaa81c-5120-43d2-b144-49429b6c5c9b\",\"type\":\"HelpTool\"}]},\"id\":\"828b14ce-3a9c-4dbf-85f6-df717ddbc97f\",\"type\":\"Toolbar\"},{\"attributes\":{},\"id\":\"289a7129-75ea-437a-81f7-352355ae0ec3\",\"type\":\"BasicTickFormatter\"},{\"attributes\":{\"overlay\":{\"id\":\"429d5510-6917-493f-b227-c03aa23d546f\",\"type\":\"BoxAnnotation\"}},\"id\":\"02659f75-429a-4683-9839-8d9dfcb37c80\",\"type\":\"BoxZoomTool\"},{\"attributes\":{},\"id\":\"83f3d058-e48b-4498-9ca6-5ef9e17effcb\",\"type\":\"PanTool\"},{\"attributes\":{\"callback\":null,\"data\":{\"band\":[\"1\",\"2\",\"3\",\"4\",\"5\",\"6\",\"7\",\"8\",\"9\",\"10\",\"11\"],\"flux\":{\"__ndarray__\":\"AEqFLU38yj8AArHPEEyyPwDPCxx1Gbm/UJjAa58H4D8g1uJTAIzSv4AiMqzijd+/gGt9kdCWxT+A6Xk3FhTAv0BACX36GdC/QDwUw91ywD8AcylTcYipPw==\",\"dtype\":\"float64\",\"shape\":[11]}},\"selected\":{\"id\":\"9b740e03-b705-4959-bbd8-0fadf970dd6b\",\"type\":\"Selection\"},\"selection_policy\":{\"id\":\"ec3f265f-1e01-4330-9f9e-851940f851f0\",\"type\":\"UnionRenderers\"}},\"id\":\"909f1a19-3c45-42a4-b84e-fcdeffdd8c3b\",\"type\":\"ColumnDataSource\"},{\"attributes\":{},\"id\":\"e88025be-7598-4237-9f3d-a30ebdeb7b54\",\"type\":\"UnionRenderers\"},{\"attributes\":{\"bottom_units\":\"screen\",\"fill_alpha\":{\"value\":0.5},\"fill_color\":{\"value\":\"lightgrey\"},\"left_units\":\"screen\",\"level\":\"overlay\",\"line_alpha\":{\"value\":1.0},\"line_color\":{\"value\":\"black\"},\"line_dash\":[4,4],\"line_width\":{\"value\":2},\"plot\":null,\"render_mode\":\"css\",\"right_units\":\"screen\",\"top_units\":\"screen\"},\"id\":\"429d5510-6917-493f-b227-c03aa23d546f\",\"type\":\"BoxAnnotation\"},{\"attributes\":{\"callback\":null},\"id\":\"b138b12c-4519-4716-adba-e73587a79758\",\"type\":\"DataRange1d\"},{\"attributes\":{},\"id\":\"c22abbe9-2167-4f0f-842d-e8907fde486c\",\"type\":\"ResetTool\"},{\"attributes\":{},\"id\":\"341c9bde-9320-40f8-8878-50d1706eb8fe\",\"type\":\"SaveTool\"},{\"attributes\":{\"callback\":null,\"factors\":[\"1\",\"2\",\"3\",\"4\",\"5\",\"6\",\"7\",\"8\",\"9\",\"10\",\"11\"]},\"id\":\"fb0a4402-581a-459b-aa3a-5fb47efddcf5\",\"type\":\"FactorRange\"},{\"attributes\":{\"below\":[{\"id\":\"aa26b730-bc27-4903-9aa8-5b756df28728\",\"type\":\"CategoricalAxis\"}],\"left\":[{\"id\":\"f43d2b5e-0517-44ba-b6cd-7ddbe4fc2951\",\"type\":\"LinearAxis\"}],\"plot_height\":300,\"plot_width\":300,\"renderers\":[{\"id\":\"aa26b730-bc27-4903-9aa8-5b756df28728\",\"type\":\"CategoricalAxis\"},{\"id\":\"84ea8870-4cfa-4789-9245-4f53d2f03d2e\",\"type\":\"Grid\"},{\"id\":\"f43d2b5e-0517-44ba-b6cd-7ddbe4fc2951\",\"type\":\"LinearAxis\"},{\"id\":\"a40fa76c-f2a8-4db5-93d2-82dd48c91cc8\",\"type\":\"Grid\"},{\"id\":\"f16f6366-1dbb-4b67-91a8-41d9eb3577b5\",\"type\":\"BoxAnnotation\"},{\"id\":\"b0564ce3-b9e5-4a59-8d48-707267c5dfd3\",\"type\":\"GlyphRenderer\"}],\"title\":{\"id\":\"0b627095-5880-4090-bf66-067f4b4198e6\",\"type\":\"Title\"},\"toolbar\":{\"id\":\"828b14ce-3a9c-4dbf-85f6-df717ddbc97f\",\"type\":\"Toolbar\"},\"toolbar_location\":null,\"x_range\":{\"id\":\"fb0a4402-581a-459b-aa3a-5fb47efddcf5\",\"type\":\"FactorRange\"},\"x_scale\":{\"id\":\"f45ef346-b896-45b7-a65a-563ff1b4aa55\",\"type\":\"CategoricalScale\"},\"y_range\":{\"id\":\"b138b12c-4519-4716-adba-e73587a79758\",\"type\":\"DataRange1d\"},\"y_scale\":{\"id\":\"9cbb2653-35d2-4aa5-8987-d9895a465fa1\",\"type\":\"LinearScale\"}},\"id\":\"887e21cb-05bc-4be4-977a-09af424be3f3\",\"subtype\":\"Figure\",\"type\":\"Plot\"},{\"attributes\":{},\"id\":\"74922c22-619b-4a48-b093-c2c664c9dead\",\"type\":\"CategoricalTicker\"},{\"attributes\":{\"plot\":{\"id\":\"0c2f7518-1e7c-4abd-aa9d-04d658cbd817\",\"subtype\":\"Figure\",\"type\":\"Plot\"},\"ticker\":{\"id\":\"3c59c19f-d020-45f4-9c93-ed558c78c072\",\"type\":\"CategoricalTicker\"}},\"id\":\"75c11cc5-bd7b-4674-b2ed-edf97aea153a\",\"type\":\"Grid\"},{\"attributes\":{},\"id\":\"dab5cc39-e9ce-4844-86de-b4ef365ce205\",\"type\":\"UnionRenderers\"},{\"attributes\":{},\"id\":\"d57e8e10-223a-4f30-aeb0-a5269cba4451\",\"type\":\"CategoricalScale\"},{\"attributes\":{},\"id\":\"f8095bb9-63e1-4de1-90f2-3652e7332b3d\",\"type\":\"CategoricalTicker\"},{\"attributes\":{\"fill_alpha\":{\"value\":0.1},\"fill_color\":{\"value\":\"#1f77b4\"},\"line_alpha\":{\"value\":0.1},\"line_color\":{\"value\":\"#1f77b4\"},\"top\":{\"field\":\"flux\"},\"width\":{\"value\":0.9},\"x\":{\"field\":\"band\"}},\"id\":\"f948a4d3-60ef-4a39-b06c-c5f1acb9a89b\",\"type\":\"VBar\"},{\"attributes\":{},\"id\":\"eac45656-c761-4f94-9f79-64463a10b314\",\"type\":\"SaveTool\"},{\"attributes\":{\"bottom_units\":\"screen\",\"fill_alpha\":{\"value\":0.5},\"fill_color\":{\"value\":\"lightgrey\"},\"left_units\":\"screen\",\"level\":\"overlay\",\"line_alpha\":{\"value\":1.0},\"line_color\":{\"value\":\"black\"},\"line_dash\":[4,4],\"line_width\":{\"value\":2},\"plot\":null,\"render_mode\":\"css\",\"right_units\":\"screen\",\"top_units\":\"screen\"},\"id\":\"5216a970-f121-4045-8220-a08089c439cb\",\"type\":\"BoxAnnotation\"},{\"attributes\":{\"plot\":{\"id\":\"887e21cb-05bc-4be4-977a-09af424be3f3\",\"subtype\":\"Figure\",\"type\":\"Plot\"},\"ticker\":{\"id\":\"f8095bb9-63e1-4de1-90f2-3652e7332b3d\",\"type\":\"CategoricalTicker\"}},\"id\":\"84ea8870-4cfa-4789-9245-4f53d2f03d2e\",\"type\":\"Grid\"},{\"attributes\":{},\"id\":\"54b7d5d8-0131-486d-8e34-fb8f2910d8b8\",\"type\":\"CategoricalTickFormatter\"},{\"attributes\":{\"axis_label\":\"flux (W m-2)\",\"formatter\":{\"id\":\"789ab524-e839-46b9-a09d-af5e675491b6\",\"type\":\"BasicTickFormatter\"},\"plot\":{\"id\":\"0c2f7518-1e7c-4abd-aa9d-04d658cbd817\",\"subtype\":\"Figure\",\"type\":\"Plot\"},\"ticker\":{\"id\":\"ade837bb-a9e6-47c4-9a62-c5ca13227267\",\"type\":\"BasicTicker\"}},\"id\":\"78cf4de2-6350-4122-945e-cf0535e5f278\",\"type\":\"LinearAxis\"},{\"attributes\":{\"fill_color\":{\"value\":\"#1f77b4\"},\"line_color\":{\"value\":\"#1f77b4\"},\"top\":{\"field\":\"flux\"},\"width\":{\"value\":0.9},\"x\":{\"field\":\"band\"}},\"id\":\"83589d2c-8011-413b-8f85-d7c3c59ec0b0\",\"type\":\"VBar\"},{\"attributes\":{},\"id\":\"bff5081d-941d-423e-b4fd-aec34988f25a\",\"type\":\"BasicTicker\"},{\"attributes\":{\"fill_color\":{\"value\":\"#1f77b4\"},\"line_color\":{\"value\":\"#1f77b4\"},\"top\":{\"field\":\"flux\"},\"width\":{\"value\":0.9},\"x\":{\"field\":\"band\"}},\"id\":\"bfc800a8-39b8-4442-945d-79d4d5186c7e\",\"type\":\"VBar\"},{\"attributes\":{\"callback\":null,\"factors\":[\"1\",\"2\",\"3\",\"4\",\"5\",\"6\",\"7\",\"8\",\"9\",\"10\",\"11\"]},\"id\":\"425717bf-fbe5-4077-9022-6bb6e2cd92a4\",\"type\":\"FactorRange\"},{\"attributes\":{},\"id\":\"3c59c19f-d020-45f4-9c93-ed558c78c072\",\"type\":\"CategoricalTicker\"},{\"attributes\":{\"data_source\":{\"id\":\"f7ceb6dc-65a1-4981-958f-ead91f0faa06\",\"type\":\"ColumnDataSource\"},\"glyph\":{\"id\":\"bfc800a8-39b8-4442-945d-79d4d5186c7e\",\"type\":\"VBar\"},\"hover_glyph\":null,\"muted_glyph\":null,\"nonselection_glyph\":{\"id\":\"f948a4d3-60ef-4a39-b06c-c5f1acb9a89b\",\"type\":\"VBar\"},\"selection_glyph\":null,\"view\":{\"id\":\"71a7c685-ca72-4033-9472-3e78431d4140\",\"type\":\"CDSView\"}},\"id\":\"b0564ce3-b9e5-4a59-8d48-707267c5dfd3\",\"type\":\"GlyphRenderer\"},{\"attributes\":{\"children\":[{\"id\":\"463ae962-d175-4991-b2a7-0aa772a29455\",\"type\":\"ToolbarBox\"},{\"id\":\"d9622cde-14c4-49c8-a607-9e12fcedd8aa\",\"type\":\"Column\"}]},\"id\":\"90ea8478-3bfa-4ac2-b0f7-9563bf920add\",\"type\":\"Column\"},{\"attributes\":{},\"id\":\"e711fa7a-28fe-4bed-b9c1-2353767b8f85\",\"type\":\"CategoricalScale\"},{\"attributes\":{},\"id\":\"904ad4d1-7e10-4c09-83e7-2b45777ef55f\",\"type\":\"LinearScale\"},{\"attributes\":{},\"id\":\"9b740e03-b705-4959-bbd8-0fadf970dd6b\",\"type\":\"Selection\"},{\"attributes\":{\"source\":{\"id\":\"d21375bf-a406-451a-baa8-6f4833d891ed\",\"type\":\"ColumnDataSource\"}},\"id\":\"10878e3c-a5b9-485e-9170-4d9d707be944\",\"type\":\"CDSView\"},{\"attributes\":{\"fill_color\":{\"value\":\"#1f77b4\"},\"line_color\":{\"value\":\"#1f77b4\"},\"top\":{\"field\":\"flux\"},\"width\":{\"value\":0.9},\"x\":{\"field\":\"band\"}},\"id\":\"acdc541c-2184-4dab-8e3b-fc417ce93112\",\"type\":\"VBar\"},{\"attributes\":{},\"id\":\"ade837bb-a9e6-47c4-9a62-c5ca13227267\",\"type\":\"BasicTicker\"},{\"attributes\":{\"children\":[{\"id\":\"63f6db9e-09d5-4b2e-ba8c-bd13e3bd362a\",\"type\":\"Row\"}]},\"id\":\"d9622cde-14c4-49c8-a607-9e12fcedd8aa\",\"type\":\"Column\"},{\"attributes\":{\"callback\":null,\"factors\":[\"1\",\"2\",\"3\",\"4\",\"5\",\"6\",\"7\",\"8\",\"9\",\"10\",\"11\"]},\"id\":\"4fff9760-2d86-470f-98a4-30d377d4de95\",\"type\":\"FactorRange\"},{\"attributes\":{\"callback\":null},\"id\":\"0c913211-bad5-4bbd-94fb-f46a23ff7efa\",\"type\":\"DataRange1d\"},{\"attributes\":{},\"id\":\"0d4db63f-5253-4600-8873-a49eaa085e4b\",\"type\":\"SaveTool\"},{\"attributes\":{\"children\":[{\"id\":\"887e21cb-05bc-4be4-977a-09af424be3f3\",\"subtype\":\"Figure\",\"type\":\"Plot\"},{\"id\":\"0c2f7518-1e7c-4abd-aa9d-04d658cbd817\",\"subtype\":\"Figure\",\"type\":\"Plot\"},{\"id\":\"1542c9fb-324e-4b74-9ce3-e16a5d4a015f\",\"subtype\":\"Figure\",\"type\":\"Plot\"}]},\"id\":\"63f6db9e-09d5-4b2e-ba8c-bd13e3bd362a\",\"type\":\"Row\"},{\"attributes\":{\"overlay\":{\"id\":\"f16f6366-1dbb-4b67-91a8-41d9eb3577b5\",\"type\":\"BoxAnnotation\"}},\"id\":\"617c38c3-f543-4aad-8fc2-f630be8c910d\",\"type\":\"BoxZoomTool\"},{\"attributes\":{\"fill_alpha\":{\"value\":0.1},\"fill_color\":{\"value\":\"#1f77b4\"},\"line_alpha\":{\"value\":0.1},\"line_color\":{\"value\":\"#1f77b4\"},\"top\":{\"field\":\"flux\"},\"width\":{\"value\":0.9},\"x\":{\"field\":\"band\"}},\"id\":\"55af0dec-d903-4f41-bdbc-e081e153ba50\",\"type\":\"VBar\"},{\"attributes\":{\"plot\":null,\"text\":\"SFC flux. CLIRAD (single-run) - CRD.\"},\"id\":\"4d74610e-5ead-4114-8a05-19054490b521\",\"type\":\"Title\"},{\"attributes\":{},\"id\":\"74853f44-64cb-47c9-a739-8e6340264270\",\"type\":\"BasicTicker\"},{\"attributes\":{\"callback\":null,\"data\":{\"band\":[\"1\",\"2\",\"3\",\"4\",\"5\",\"6\",\"7\",\"8\",\"9\",\"10\",\"11\"],\"flux\":{\"__ndarray__\":\"ALvVc9L7yj8A+yZNg6LUP4D2Bl+YTNO/YJz4akfx4T+AxvfFpSrUPwAo5bUSuqO/gOo9ldOezj8Aic4yi1C8vwCymNh8XJs/oJog6j4Awj/AhD79DBS9Pw==\",\"dtype\":\"float64\",\"shape\":[11]}},\"selected\":{\"id\":\"71337253-6e42-4b41-97a1-f1bd81893f49\",\"type\":\"Selection\"},\"selection_policy\":{\"id\":\"dab5cc39-e9ce-4844-86de-b4ef365ce205\",\"type\":\"UnionRenderers\"}},\"id\":\"f7ceb6dc-65a1-4981-958f-ead91f0faa06\",\"type\":\"ColumnDataSource\"},{\"attributes\":{\"overlay\":{\"id\":\"5216a970-f121-4045-8220-a08089c439cb\",\"type\":\"BoxAnnotation\"}},\"id\":\"07c3e6e7-a39b-45db-b92b-8776dd07aada\",\"type\":\"BoxZoomTool\"},{\"attributes\":{},\"id\":\"89922de3-b8a0-4fa6-929d-837a043bed16\",\"type\":\"WheelZoomTool\"},{\"attributes\":{\"callback\":null},\"id\":\"3c168871-46eb-4143-99c5-72e5b71066fd\",\"type\":\"DataRange1d\"},{\"attributes\":{},\"id\":\"3e594427-fc3d-45e8-9bd2-75a83fc19a37\",\"type\":\"CategoricalTickFormatter\"},{\"attributes\":{},\"id\":\"1e116914-828f-4ea0-bcd2-7baf717a56d5\",\"type\":\"ResetTool\"},{\"attributes\":{\"active_drag\":\"auto\",\"active_inspect\":\"auto\",\"active_scroll\":\"auto\",\"active_tap\":\"auto\",\"tools\":[{\"id\":\"185578c9-e287-46f2-aca2-53f8b44c5c99\",\"type\":\"PanTool\"},{\"id\":\"2420d1bd-d332-4831-9903-2ccea80ce33a\",\"type\":\"WheelZoomTool\"},{\"id\":\"07c3e6e7-a39b-45db-b92b-8776dd07aada\",\"type\":\"BoxZoomTool\"},{\"id\":\"0d4db63f-5253-4600-8873-a49eaa085e4b\",\"type\":\"SaveTool\"},{\"id\":\"1e116914-828f-4ea0-bcd2-7baf717a56d5\",\"type\":\"ResetTool\"},{\"id\":\"cd368f55-771c-4706-8181-d4f2d4be3bb9\",\"type\":\"HelpTool\"}]},\"id\":\"46ca37d4-d467-40c1-8bae-2c148b13324e\",\"type\":\"Toolbar\"},{\"attributes\":{},\"id\":\"ed6c0bbd-a882-4685-95c8-5a55958dc420\",\"type\":\"LinearScale\"},{\"attributes\":{\"dimension\":1,\"plot\":{\"id\":\"887e21cb-05bc-4be4-977a-09af424be3f3\",\"subtype\":\"Figure\",\"type\":\"Plot\"},\"ticker\":{\"id\":\"74853f44-64cb-47c9-a739-8e6340264270\",\"type\":\"BasicTicker\"}},\"id\":\"a40fa76c-f2a8-4db5-93d2-82dd48c91cc8\",\"type\":\"Grid\"},{\"attributes\":{\"plot\":{\"id\":\"1542c9fb-324e-4b74-9ce3-e16a5d4a015f\",\"subtype\":\"Figure\",\"type\":\"Plot\"},\"ticker\":{\"id\":\"74922c22-619b-4a48-b093-c2c664c9dead\",\"type\":\"CategoricalTicker\"}},\"id\":\"4b97e300-f200-4113-8613-f61262b1747d\",\"type\":\"Grid\"},{\"attributes\":{\"fill_alpha\":{\"value\":0.1},\"fill_color\":{\"value\":\"#1f77b4\"},\"line_alpha\":{\"value\":0.1},\"line_color\":{\"value\":\"#1f77b4\"},\"top\":{\"field\":\"flux\"},\"width\":{\"value\":0.9},\"x\":{\"field\":\"band\"}},\"id\":\"cf8fce6e-47ff-4d3f-bd74-9c412ec64470\",\"type\":\"VBar\"},{\"attributes\":{},\"id\":\"e04a9a47-73f7-4349-adc8-7c561b8e7b25\",\"type\":\"ResetTool\"},{\"attributes\":{},\"id\":\"cd368f55-771c-4706-8181-d4f2d4be3bb9\",\"type\":\"HelpTool\"},{\"attributes\":{\"dimension\":1,\"plot\":{\"id\":\"1542c9fb-324e-4b74-9ce3-e16a5d4a015f\",\"subtype\":\"Figure\",\"type\":\"Plot\"},\"ticker\":{\"id\":\"bff5081d-941d-423e-b4fd-aec34988f25a\",\"type\":\"BasicTicker\"}},\"id\":\"95d1b093-66ae-440d-bfed-26238caee199\",\"type\":\"Grid\"},{\"attributes\":{\"tools\":[{\"id\":\"9e2d314a-478d-46ef-a3a7-317dcff186b9\",\"type\":\"PanTool\"},{\"id\":\"89922de3-b8a0-4fa6-929d-837a043bed16\",\"type\":\"WheelZoomTool\"},{\"id\":\"617c38c3-f543-4aad-8fc2-f630be8c910d\",\"type\":\"BoxZoomTool\"},{\"id\":\"eac45656-c761-4f94-9f79-64463a10b314\",\"type\":\"SaveTool\"},{\"id\":\"e04a9a47-73f7-4349-adc8-7c561b8e7b25\",\"type\":\"ResetTool\"},{\"id\":\"0aaaa81c-5120-43d2-b144-49429b6c5c9b\",\"type\":\"HelpTool\"},{\"id\":\"83f3d058-e48b-4498-9ca6-5ef9e17effcb\",\"type\":\"PanTool\"},{\"id\":\"5cb31c3d-1317-448f-a358-6704add6c675\",\"type\":\"WheelZoomTool\"},{\"id\":\"02659f75-429a-4683-9839-8d9dfcb37c80\",\"type\":\"BoxZoomTool\"},{\"id\":\"341c9bde-9320-40f8-8878-50d1706eb8fe\",\"type\":\"SaveTool\"},{\"id\":\"c22abbe9-2167-4f0f-842d-e8907fde486c\",\"type\":\"ResetTool\"},{\"id\":\"5c6700ed-f56f-46ce-8974-642c6bf5e81b\",\"type\":\"HelpTool\"},{\"id\":\"185578c9-e287-46f2-aca2-53f8b44c5c99\",\"type\":\"PanTool\"},{\"id\":\"2420d1bd-d332-4831-9903-2ccea80ce33a\",\"type\":\"WheelZoomTool\"},{\"id\":\"07c3e6e7-a39b-45db-b92b-8776dd07aada\",\"type\":\"BoxZoomTool\"},{\"id\":\"0d4db63f-5253-4600-8873-a49eaa085e4b\",\"type\":\"SaveTool\"},{\"id\":\"1e116914-828f-4ea0-bcd2-7baf717a56d5\",\"type\":\"ResetTool\"},{\"id\":\"cd368f55-771c-4706-8181-d4f2d4be3bb9\",\"type\":\"HelpTool\"}]},\"id\":\"317b9408-69e7-43c5-a940-66474c26c602\",\"type\":\"ProxyToolbar\"},{\"attributes\":{},\"id\":\"0aaaa81c-5120-43d2-b144-49429b6c5c9b\",\"type\":\"HelpTool\"},{\"attributes\":{\"below\":[{\"id\":\"224b329d-81b6-486f-9688-bc2adcd863f2\",\"type\":\"CategoricalAxis\"}],\"left\":[{\"id\":\"982b5a6c-a391-41b1-bb46-7e543c67e232\",\"type\":\"LinearAxis\"}],\"plot_height\":300,\"plot_width\":300,\"renderers\":[{\"id\":\"224b329d-81b6-486f-9688-bc2adcd863f2\",\"type\":\"CategoricalAxis\"},{\"id\":\"4b97e300-f200-4113-8613-f61262b1747d\",\"type\":\"Grid\"},{\"id\":\"982b5a6c-a391-41b1-bb46-7e543c67e232\",\"type\":\"LinearAxis\"},{\"id\":\"95d1b093-66ae-440d-bfed-26238caee199\",\"type\":\"Grid\"},{\"id\":\"5216a970-f121-4045-8220-a08089c439cb\",\"type\":\"BoxAnnotation\"},{\"id\":\"fbfbaaca-fece-43f1-9eee-28646bb542b4\",\"type\":\"GlyphRenderer\"}],\"title\":{\"id\":\"23d81e00-2a04-45a3-89f4-d27e1c3fef79\",\"type\":\"Title\"},\"toolbar\":{\"id\":\"46ca37d4-d467-40c1-8bae-2c148b13324e\",\"type\":\"Toolbar\"},\"toolbar_location\":null,\"x_range\":{\"id\":\"425717bf-fbe5-4077-9022-6bb6e2cd92a4\",\"type\":\"FactorRange\"},\"x_scale\":{\"id\":\"e711fa7a-28fe-4bed-b9c1-2353767b8f85\",\"type\":\"CategoricalScale\"},\"y_range\":{\"id\":\"0c913211-bad5-4bbd-94fb-f46a23ff7efa\",\"type\":\"DataRange1d\"},\"y_scale\":{\"id\":\"904ad4d1-7e10-4c09-83e7-2b45777ef55f\",\"type\":\"LinearScale\"}},\"id\":\"1542c9fb-324e-4b74-9ce3-e16a5d4a015f\",\"subtype\":\"Figure\",\"type\":\"Plot\"},{\"attributes\":{\"active_drag\":\"auto\",\"active_inspect\":\"auto\",\"active_scroll\":\"auto\",\"active_tap\":\"auto\",\"tools\":[{\"id\":\"83f3d058-e48b-4498-9ca6-5ef9e17effcb\",\"type\":\"PanTool\"},{\"id\":\"5cb31c3d-1317-448f-a358-6704add6c675\",\"type\":\"WheelZoomTool\"},{\"id\":\"02659f75-429a-4683-9839-8d9dfcb37c80\",\"type\":\"BoxZoomTool\"},{\"id\":\"341c9bde-9320-40f8-8878-50d1706eb8fe\",\"type\":\"SaveTool\"},{\"id\":\"c22abbe9-2167-4f0f-842d-e8907fde486c\",\"type\":\"ResetTool\"},{\"id\":\"5c6700ed-f56f-46ce-8974-642c6bf5e81b\",\"type\":\"HelpTool\"}]},\"id\":\"fa300bfa-0543-4c0a-a987-6f8ebebab4d2\",\"type\":\"Toolbar\"},{\"attributes\":{},\"id\":\"fe2a3544-8411-4882-a978-b347c001cd3b\",\"type\":\"BasicTickFormatter\"},{\"attributes\":{\"data_source\":{\"id\":\"d21375bf-a406-451a-baa8-6f4833d891ed\",\"type\":\"ColumnDataSource\"},\"glyph\":{\"id\":\"83589d2c-8011-413b-8f85-d7c3c59ec0b0\",\"type\":\"VBar\"},\"hover_glyph\":null,\"muted_glyph\":null,\"nonselection_glyph\":{\"id\":\"cf8fce6e-47ff-4d3f-bd74-9c412ec64470\",\"type\":\"VBar\"},\"selection_glyph\":null,\"view\":{\"id\":\"10878e3c-a5b9-485e-9170-4d9d707be944\",\"type\":\"CDSView\"}},\"id\":\"67228d34-4f1b-4f50-9d7a-4672b37fe094\",\"type\":\"GlyphRenderer\"},{\"attributes\":{\"source\":{\"id\":\"909f1a19-3c45-42a4-b84e-fcdeffdd8c3b\",\"type\":\"ColumnDataSource\"}},\"id\":\"29f217b7-94d9-48e2-b218-c8edfd5d538e\",\"type\":\"CDSView\"},{\"attributes\":{},\"id\":\"ec3f265f-1e01-4330-9f9e-851940f851f0\",\"type\":\"UnionRenderers\"},{\"attributes\":{\"toolbar\":{\"id\":\"317b9408-69e7-43c5-a940-66474c26c602\",\"type\":\"ProxyToolbar\"},\"toolbar_location\":\"above\"},\"id\":\"463ae962-d175-4991-b2a7-0aa772a29455\",\"type\":\"ToolbarBox\"},{\"attributes\":{},\"id\":\"185578c9-e287-46f2-aca2-53f8b44c5c99\",\"type\":\"PanTool\"},{\"attributes\":{\"axis_label\":\"spectral band\",\"formatter\":{\"id\":\"3e594427-fc3d-45e8-9bd2-75a83fc19a37\",\"type\":\"CategoricalTickFormatter\"},\"plot\":{\"id\":\"887e21cb-05bc-4be4-977a-09af424be3f3\",\"subtype\":\"Figure\",\"type\":\"Plot\"},\"ticker\":{\"id\":\"f8095bb9-63e1-4de1-90f2-3652e7332b3d\",\"type\":\"CategoricalTicker\"}},\"id\":\"aa26b730-bc27-4903-9aa8-5b756df28728\",\"type\":\"CategoricalAxis\"},{\"attributes\":{},\"id\":\"9cbb2653-35d2-4aa5-8987-d9895a465fa1\",\"type\":\"LinearScale\"},{\"attributes\":{\"axis_label\":\"spectral band\",\"formatter\":{\"id\":\"4ecfee38-9efe-45c5-bf56-6ee24ed93845\",\"type\":\"CategoricalTickFormatter\"},\"plot\":{\"id\":\"1542c9fb-324e-4b74-9ce3-e16a5d4a015f\",\"subtype\":\"Figure\",\"type\":\"Plot\"},\"ticker\":{\"id\":\"74922c22-619b-4a48-b093-c2c664c9dead\",\"type\":\"CategoricalTicker\"}},\"id\":\"224b329d-81b6-486f-9688-bc2adcd863f2\",\"type\":\"CategoricalAxis\"},{\"attributes\":{\"bottom_units\":\"screen\",\"fill_alpha\":{\"value\":0.5},\"fill_color\":{\"value\":\"lightgrey\"},\"left_units\":\"screen\",\"level\":\"overlay\",\"line_alpha\":{\"value\":1.0},\"line_color\":{\"value\":\"black\"},\"line_dash\":[4,4],\"line_width\":{\"value\":2},\"plot\":null,\"render_mode\":\"css\",\"right_units\":\"screen\",\"top_units\":\"screen\"},\"id\":\"f16f6366-1dbb-4b67-91a8-41d9eb3577b5\",\"type\":\"BoxAnnotation\"},{\"attributes\":{\"source\":{\"id\":\"f7ceb6dc-65a1-4981-958f-ead91f0faa06\",\"type\":\"ColumnDataSource\"}},\"id\":\"71a7c685-ca72-4033-9472-3e78431d4140\",\"type\":\"CDSView\"},{\"attributes\":{},\"id\":\"9e2d314a-478d-46ef-a3a7-317dcff186b9\",\"type\":\"PanTool\"},{\"attributes\":{},\"id\":\"2420d1bd-d332-4831-9903-2ccea80ce33a\",\"type\":\"WheelZoomTool\"},{\"attributes\":{\"dimension\":1,\"plot\":{\"id\":\"0c2f7518-1e7c-4abd-aa9d-04d658cbd817\",\"subtype\":\"Figure\",\"type\":\"Plot\"},\"ticker\":{\"id\":\"ade837bb-a9e6-47c4-9a62-c5ca13227267\",\"type\":\"BasicTicker\"}},\"id\":\"c6499ed1-3961-4692-a90e-968361d860b9\",\"type\":\"Grid\"},{\"attributes\":{\"callback\":null,\"data\":{\"band\":[\"1\",\"2\",\"3\",\"4\",\"5\",\"6\",\"7\",\"8\",\"9\",\"10\",\"11\"],\"flux\":{\"__ndarray__\":\"AADADkbs874Asf1kjA/QPwCJuDmVDMq/AGBNnrKarj9AQswlVVvjP2B9dVWgFt0/ACGfockPsj8AMLyS5LmOP4CtS43Qz9E/AED5u3fUiD9ASCdc2U+wPw==\",\"dtype\":\"float64\",\"shape\":[11]}},\"selected\":{\"id\":\"2ebed91f-af9a-41af-9ec8-0b6ac7f735c8\",\"type\":\"Selection\"},\"selection_policy\":{\"id\":\"e88025be-7598-4237-9f3d-a30ebdeb7b54\",\"type\":\"UnionRenderers\"}},\"id\":\"d21375bf-a406-451a-baa8-6f4833d891ed\",\"type\":\"ColumnDataSource\"},{\"attributes\":{\"axis_label\":\"spectral band\",\"formatter\":{\"id\":\"54b7d5d8-0131-486d-8e34-fb8f2910d8b8\",\"type\":\"CategoricalTickFormatter\"},\"plot\":{\"id\":\"0c2f7518-1e7c-4abd-aa9d-04d658cbd817\",\"subtype\":\"Figure\",\"type\":\"Plot\"},\"ticker\":{\"id\":\"3c59c19f-d020-45f4-9c93-ed558c78c072\",\"type\":\"CategoricalTicker\"}},\"id\":\"a1e4c97b-421c-4810-a8fd-3d3bb4a5637a\",\"type\":\"CategoricalAxis\"},{\"attributes\":{\"axis_label\":\"flux (W m-2)\",\"formatter\":{\"id\":\"289a7129-75ea-437a-81f7-352355ae0ec3\",\"type\":\"BasicTickFormatter\"},\"plot\":{\"id\":\"1542c9fb-324e-4b74-9ce3-e16a5d4a015f\",\"subtype\":\"Figure\",\"type\":\"Plot\"},\"ticker\":{\"id\":\"bff5081d-941d-423e-b4fd-aec34988f25a\",\"type\":\"BasicTicker\"}},\"id\":\"982b5a6c-a391-41b1-bb46-7e543c67e232\",\"type\":\"LinearAxis\"},{\"attributes\":{\"axis_label\":\"flux (W m-2)\",\"formatter\":{\"id\":\"fe2a3544-8411-4882-a978-b347c001cd3b\",\"type\":\"BasicTickFormatter\"},\"plot\":{\"id\":\"887e21cb-05bc-4be4-977a-09af424be3f3\",\"subtype\":\"Figure\",\"type\":\"Plot\"},\"ticker\":{\"id\":\"74853f44-64cb-47c9-a739-8e6340264270\",\"type\":\"BasicTicker\"}},\"id\":\"f43d2b5e-0517-44ba-b6cd-7ddbe4fc2951\",\"type\":\"LinearAxis\"},{\"attributes\":{\"plot\":null,\"text\":\"Atmosphere heating. CLIRAD (single-run) - CRD.\"},\"id\":\"23d81e00-2a04-45a3-89f4-d27e1c3fef79\",\"type\":\"Title\"},{\"attributes\":{},\"id\":\"f45ef346-b896-45b7-a65a-563ff1b4aa55\",\"type\":\"CategoricalScale\"},{\"attributes\":{\"data_source\":{\"id\":\"909f1a19-3c45-42a4-b84e-fcdeffdd8c3b\",\"type\":\"ColumnDataSource\"},\"glyph\":{\"id\":\"acdc541c-2184-4dab-8e3b-fc417ce93112\",\"type\":\"VBar\"},\"hover_glyph\":null,\"muted_glyph\":null,\"nonselection_glyph\":{\"id\":\"55af0dec-d903-4f41-bdbc-e081e153ba50\",\"type\":\"VBar\"},\"selection_glyph\":null,\"view\":{\"id\":\"29f217b7-94d9-48e2-b218-c8edfd5d538e\",\"type\":\"CDSView\"}},\"id\":\"fbfbaaca-fece-43f1-9eee-28646bb542b4\",\"type\":\"GlyphRenderer\"}],\"root_ids\":[\"90ea8478-3bfa-4ac2-b0f7-9563bf920add\"]},\"title\":\"Bokeh Application\",\"version\":\"0.12.16\"}};\n",
       "  var render_items = [{\"docid\":\"0e24f050-c26f-4f38-b9b9-939eda483fcc\",\"elementid\":\"f2bc4309-181d-442e-a1f6-48fd359fcdc7\",\"modelid\":\"90ea8478-3bfa-4ac2-b0f7-9563bf920add\"}];\n",
       "  root.Bokeh.embed.embed_items_notebook(docs_json, render_items);\n",
       "\n",
       "  }\n",
       "  if (root.Bokeh !== undefined) {\n",
       "    embed_document(root);\n",
       "  } else {\n",
       "    var attempts = 0;\n",
       "    var timer = setInterval(function(root) {\n",
       "      if (root.Bokeh !== undefined) {\n",
       "        embed_document(root);\n",
       "        clearInterval(timer);\n",
       "      }\n",
       "      attempts++;\n",
       "      if (attempts > 100) {\n",
       "        console.log(\"Bokeh: ERROR: Unable to run BokehJS code because BokehJS library is missing\")\n",
       "        clearInterval(timer);\n",
       "      }\n",
       "    }, 10, root)\n",
       "  }\n",
       "})(window);"
      ],
      "application/vnd.bokehjs_exec.v0+json": ""
     },
     "metadata": {
      "application/vnd.bokehjs_exec.v0+json": {
       "id": "90ea8478-3bfa-4ac2-b0f7-9563bf920add"
      }
     },
     "output_type": "display_data"
    },
    {
     "data": {
      "text/markdown": [
       "*FIGURE.* Difference between CLIRAD and CRD in TOA, SFC and net atmosphere flux, in each spectral band."
      ],
      "text/plain": [
       "<IPython.core.display.Markdown object>"
      ]
     },
     "metadata": {},
     "output_type": "display_data"
    },
    {
     "data": {
      "text/html": [
       "<div>\n",
       "<style scoped>\n",
       "    .dataframe tbody tr th:only-of-type {\n",
       "        vertical-align: middle;\n",
       "    }\n",
       "\n",
       "    .dataframe tbody tr th {\n",
       "        vertical-align: top;\n",
       "    }\n",
       "\n",
       "    .dataframe thead th {\n",
       "        text-align: right;\n",
       "    }\n",
       "</style>\n",
       "<table border=\"1\" class=\"dataframe\">\n",
       "  <thead>\n",
       "    <tr style=\"text-align: right;\">\n",
       "      <th></th>\n",
       "      <th>OLR flux</th>\n",
       "      <th>SFC flux</th>\n",
       "      <th>ATM heating</th>\n",
       "    </tr>\n",
       "    <tr>\n",
       "      <th>Sum over bands</th>\n",
       "      <th></th>\n",
       "      <th></th>\n",
       "      <th></th>\n",
       "    </tr>\n",
       "  </thead>\n",
       "  <tbody>\n",
       "    <tr>\n",
       "      <th>CLIRAD (single-run) - CRD</th>\n",
       "      <td>1.48</td>\n",
       "      <td>1.61</td>\n",
       "      <td>-0.13</td>\n",
       "    </tr>\n",
       "    <tr>\n",
       "      <th>CRD</th>\n",
       "      <td>-303.40</td>\n",
       "      <td>337.24</td>\n",
       "      <td>-181.37</td>\n",
       "    </tr>\n",
       "  </tbody>\n",
       "</table>\n",
       "</div>"
      ],
      "text/plain": [
       "                           OLR flux  SFC flux  ATM heating\n",
       "Sum over bands                                            \n",
       "CLIRAD (single-run) - CRD      1.48      1.61        -0.13\n",
       "CRD                         -303.40    337.24      -181.37"
      ]
     },
     "metadata": {},
     "output_type": "display_data"
    },
    {
     "data": {
      "text/markdown": [
       "*TABLE.* Difference between CLIRAD and CRD in TOA, SFC and net atmosphere flux, over all spectral bands. CRD's TOA, SFC and net atmosphere flux, over all spectral bands."
      ],
      "text/plain": [
       "<IPython.core.display.Markdown object>"
      ]
     },
     "metadata": {},
     "output_type": "display_data"
    }
   ],
   "source": [
    "script()"
   ]
  },
  {
   "cell_type": "code",
   "execution_count": 156,
   "metadata": {},
   "outputs": [
    {
     "data": {
      "text/html": [
       "<script>                                                                                             \n",
       "code_show=true;                                                                                                      \n",
       "function code_toggle() {                                                                                             \n",
       " if (code_show){                                                                                                     \n",
       " $('div.input').hide();                                                                                              \n",
       " } else {                                                                                                            \n",
       " $('div.input').show();                                                                                              \n",
       " }                                                                                                                   \n",
       " code_show = !code_show                                                                                              \n",
       "}                                                                                                                    \n",
       "$( document ).ready(code_toggle);                                                                                    \n",
       "</script>                                                                                                            \n",
       "<form action=\"javascript:code_toggle()\"><input type=\"submit\" value=\"Click here to toggle on/off the raw code.\"></form>"
      ],
      "text/plain": [
       "<IPython.core.display.HTML object>"
      ]
     },
     "execution_count": 156,
     "metadata": {},
     "output_type": "execute_result"
    }
   ],
   "source": [
    "display.HTML('''<script>                                                                                             \n",
    "code_show=true;                                                                                                      \n",
    "function code_toggle() {                                                                                             \n",
    " if (code_show){                                                                                                     \n",
    " $('div.input').hide();                                                                                              \n",
    " } else {                                                                                                            \n",
    " $('div.input').show();                                                                                              \n",
    " }                                                                                                                   \n",
    " code_show = !code_show                                                                                              \n",
    "}                                                                                                                    \n",
    "$( document ).ready(code_toggle);                                                                                    \n",
    "</script>                                                                                                            \n",
    "<form action=\"javascript:code_toggle()\"><input type=\"submit\" value=\"Click here to toggle on/off the raw code.\"></for\\\n",
    "m>''')"
   ]
  }
 ],
 "metadata": {
  "kernelspec": {
   "display_name": "Python 3",
   "language": "python",
   "name": "python3"
  },
  "language_info": {
   "codemirror_mode": {
    "name": "ipython",
    "version": 3
   },
   "file_extension": ".py",
   "mimetype": "text/x-python",
   "name": "python",
   "nbconvert_exporter": "python",
   "pygments_lexer": "ipython3",
   "version": "3.6.1"
  }
 },
 "nbformat": 4,
 "nbformat_minor": 2
}
