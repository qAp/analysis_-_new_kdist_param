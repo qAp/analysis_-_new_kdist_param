{
 "cells": [
  {
   "cell_type": "code",
   "execution_count": 10,
   "metadata": {
    "scrolled": false
   },
   "outputs": [
    {
     "data": {
      "text/plain": [
       "<module 'climatools.lblnew.dataset' from '/chia_cluster/home/jackyu/climatools/climatools/lblnew/dataset.py'>"
      ]
     },
     "execution_count": 10,
     "metadata": {},
     "output_type": "execute_result"
    }
   ],
   "source": [
    "import os\n",
    "import importlib\n",
    "\n",
    "import climatools.cliradlw.dataset as dataset_clirad\n",
    "import climatools.lblnew.dataset as dataset_lblnew\n",
    "\n",
    "from IPython import display\n",
    "\n",
    "importlib.reload(dataset_clirad)\n",
    "importlib.reload(dataset_lblnew)"
   ]
  },
  {
   "cell_type": "code",
   "execution_count": 11,
   "metadata": {
    "collapsed": true
   },
   "outputs": [],
   "source": [
    "os.chdir('/chia_cluster/home/jackyu/climatools/climatools/cliradlw/')"
   ]
  },
  {
   "cell_type": "code",
   "execution_count": 12,
   "metadata": {
    "scrolled": false
   },
   "outputs": [
    {
     "name": "stderr",
     "output_type": "stream",
     "text": [
      "/chia_cluster/home/jackyu/climatools/climatools/plot/plot.py:21: AccessorRegistrationWarning: registration of accessor <class 'climatools.plot.plot.ClimavizArrayAccessor'> under name 'climaviz' for type <class 'xarray.core.dataarray.DataArray'> is overriding a preexisting attribute with the same name.\n",
      "  class ClimavizArrayAccessor(object):\n"
     ]
    },
    {
     "data": {
      "text/html": [
       "\n",
       "    <div class=\"bk-root\">\n",
       "        <a href=\"https://bokeh.pydata.org\" target=\"_blank\" class=\"bk-logo bk-logo-small bk-logo-notebook\"></a>\n",
       "        <span id=\"8ee36469-516f-4129-ac0d-2f6cdf0451fd\">Loading BokehJS ...</span>\n",
       "    </div>"
      ]
     },
     "metadata": {},
     "output_type": "display_data"
    },
    {
     "data": {
      "application/javascript": [
       "\n",
       "(function(root) {\n",
       "  function now() {\n",
       "    return new Date();\n",
       "  }\n",
       "\n",
       "  var force = true;\n",
       "\n",
       "  if (typeof (root._bokeh_onload_callbacks) === \"undefined\" || force === true) {\n",
       "    root._bokeh_onload_callbacks = [];\n",
       "    root._bokeh_is_loading = undefined;\n",
       "  }\n",
       "\n",
       "  var JS_MIME_TYPE = 'application/javascript';\n",
       "  var HTML_MIME_TYPE = 'text/html';\n",
       "  var EXEC_MIME_TYPE = 'application/vnd.bokehjs_exec.v0+json';\n",
       "  var CLASS_NAME = 'output_bokeh rendered_html';\n",
       "\n",
       "  /**\n",
       "   * Render data to the DOM node\n",
       "   */\n",
       "  function render(props, node) {\n",
       "    var script = document.createElement(\"script\");\n",
       "    node.appendChild(script);\n",
       "  }\n",
       "\n",
       "  /**\n",
       "   * Handle when an output is cleared or removed\n",
       "   */\n",
       "  function handleClearOutput(event, handle) {\n",
       "    var cell = handle.cell;\n",
       "\n",
       "    var id = cell.output_area._bokeh_element_id;\n",
       "    var server_id = cell.output_area._bokeh_server_id;\n",
       "    // Clean up Bokeh references\n",
       "    if (id !== undefined) {\n",
       "      Bokeh.index[id].model.document.clear();\n",
       "      delete Bokeh.index[id];\n",
       "    }\n",
       "\n",
       "    if (server_id !== undefined) {\n",
       "      // Clean up Bokeh references\n",
       "      var cmd = \"from bokeh.io.state import curstate; print(curstate().uuid_to_server['\" + server_id + \"'].get_sessions()[0].document.roots[0]._id)\";\n",
       "      cell.notebook.kernel.execute(cmd, {\n",
       "        iopub: {\n",
       "          output: function(msg) {\n",
       "            var element_id = msg.content.text.trim();\n",
       "            Bokeh.index[element_id].model.document.clear();\n",
       "            delete Bokeh.index[element_id];\n",
       "          }\n",
       "        }\n",
       "      });\n",
       "      // Destroy server and session\n",
       "      var cmd = \"import bokeh.io.notebook as ion; ion.destroy_server('\" + server_id + \"')\";\n",
       "      cell.notebook.kernel.execute(cmd);\n",
       "    }\n",
       "  }\n",
       "\n",
       "  /**\n",
       "   * Handle when a new output is added\n",
       "   */\n",
       "  function handleAddOutput(event, handle) {\n",
       "    var output_area = handle.output_area;\n",
       "    var output = handle.output;\n",
       "\n",
       "    // limit handleAddOutput to display_data with EXEC_MIME_TYPE content only\n",
       "    if ((output.output_type != \"display_data\") || (!output.data.hasOwnProperty(EXEC_MIME_TYPE))) {\n",
       "      return\n",
       "    }\n",
       "\n",
       "    var toinsert = output_area.element.find(\".\" + CLASS_NAME.split(' ')[0]);\n",
       "\n",
       "    if (output.metadata[EXEC_MIME_TYPE][\"id\"] !== undefined) {\n",
       "      toinsert[toinsert.length - 1].firstChild.textContent = output.data[JS_MIME_TYPE];\n",
       "      // store reference to embed id on output_area\n",
       "      output_area._bokeh_element_id = output.metadata[EXEC_MIME_TYPE][\"id\"];\n",
       "    }\n",
       "    if (output.metadata[EXEC_MIME_TYPE][\"server_id\"] !== undefined) {\n",
       "      var bk_div = document.createElement(\"div\");\n",
       "      bk_div.innerHTML = output.data[HTML_MIME_TYPE];\n",
       "      var script_attrs = bk_div.children[0].attributes;\n",
       "      for (var i = 0; i < script_attrs.length; i++) {\n",
       "        toinsert[toinsert.length - 1].firstChild.setAttribute(script_attrs[i].name, script_attrs[i].value);\n",
       "      }\n",
       "      // store reference to server id on output_area\n",
       "      output_area._bokeh_server_id = output.metadata[EXEC_MIME_TYPE][\"server_id\"];\n",
       "    }\n",
       "  }\n",
       "\n",
       "  function register_renderer(events, OutputArea) {\n",
       "\n",
       "    function append_mime(data, metadata, element) {\n",
       "      // create a DOM node to render to\n",
       "      var toinsert = this.create_output_subarea(\n",
       "        metadata,\n",
       "        CLASS_NAME,\n",
       "        EXEC_MIME_TYPE\n",
       "      );\n",
       "      this.keyboard_manager.register_events(toinsert);\n",
       "      // Render to node\n",
       "      var props = {data: data, metadata: metadata[EXEC_MIME_TYPE]};\n",
       "      render(props, toinsert[toinsert.length - 1]);\n",
       "      element.append(toinsert);\n",
       "      return toinsert\n",
       "    }\n",
       "\n",
       "    /* Handle when an output is cleared or removed */\n",
       "    events.on('clear_output.CodeCell', handleClearOutput);\n",
       "    events.on('delete.Cell', handleClearOutput);\n",
       "\n",
       "    /* Handle when a new output is added */\n",
       "    events.on('output_added.OutputArea', handleAddOutput);\n",
       "\n",
       "    /**\n",
       "     * Register the mime type and append_mime function with output_area\n",
       "     */\n",
       "    OutputArea.prototype.register_mime_type(EXEC_MIME_TYPE, append_mime, {\n",
       "      /* Is output safe? */\n",
       "      safe: true,\n",
       "      /* Index of renderer in `output_area.display_order` */\n",
       "      index: 0\n",
       "    });\n",
       "  }\n",
       "\n",
       "  // register the mime type if in Jupyter Notebook environment and previously unregistered\n",
       "  if (root.Jupyter !== undefined) {\n",
       "    var events = require('base/js/events');\n",
       "    var OutputArea = require('notebook/js/outputarea').OutputArea;\n",
       "\n",
       "    if (OutputArea.prototype.mime_types().indexOf(EXEC_MIME_TYPE) == -1) {\n",
       "      register_renderer(events, OutputArea);\n",
       "    }\n",
       "  }\n",
       "\n",
       "  \n",
       "  if (typeof (root._bokeh_timeout) === \"undefined\" || force === true) {\n",
       "    root._bokeh_timeout = Date.now() + 5000;\n",
       "    root._bokeh_failed_load = false;\n",
       "  }\n",
       "\n",
       "  var NB_LOAD_WARNING = {'data': {'text/html':\n",
       "     \"<div style='background-color: #fdd'>\\n\"+\n",
       "     \"<p>\\n\"+\n",
       "     \"BokehJS does not appear to have successfully loaded. If loading BokehJS from CDN, this \\n\"+\n",
       "     \"may be due to a slow or bad network connection. Possible fixes:\\n\"+\n",
       "     \"</p>\\n\"+\n",
       "     \"<ul>\\n\"+\n",
       "     \"<li>re-rerun `output_notebook()` to attempt to load from CDN again, or</li>\\n\"+\n",
       "     \"<li>use INLINE resources instead, as so:</li>\\n\"+\n",
       "     \"</ul>\\n\"+\n",
       "     \"<code>\\n\"+\n",
       "     \"from bokeh.resources import INLINE\\n\"+\n",
       "     \"output_notebook(resources=INLINE)\\n\"+\n",
       "     \"</code>\\n\"+\n",
       "     \"</div>\"}};\n",
       "\n",
       "  function display_loaded() {\n",
       "    var el = document.getElementById(\"8ee36469-516f-4129-ac0d-2f6cdf0451fd\");\n",
       "    if (el != null) {\n",
       "      el.textContent = \"BokehJS is loading...\";\n",
       "    }\n",
       "    if (root.Bokeh !== undefined) {\n",
       "      if (el != null) {\n",
       "        el.textContent = \"BokehJS \" + root.Bokeh.version + \" successfully loaded.\";\n",
       "      }\n",
       "    } else if (Date.now() < root._bokeh_timeout) {\n",
       "      setTimeout(display_loaded, 100)\n",
       "    }\n",
       "  }\n",
       "\n",
       "\n",
       "  function run_callbacks() {\n",
       "    try {\n",
       "      root._bokeh_onload_callbacks.forEach(function(callback) { callback() });\n",
       "    }\n",
       "    finally {\n",
       "      delete root._bokeh_onload_callbacks\n",
       "    }\n",
       "    console.info(\"Bokeh: all callbacks have finished\");\n",
       "  }\n",
       "\n",
       "  function load_libs(js_urls, callback) {\n",
       "    root._bokeh_onload_callbacks.push(callback);\n",
       "    if (root._bokeh_is_loading > 0) {\n",
       "      console.log(\"Bokeh: BokehJS is being loaded, scheduling callback at\", now());\n",
       "      return null;\n",
       "    }\n",
       "    if (js_urls == null || js_urls.length === 0) {\n",
       "      run_callbacks();\n",
       "      return null;\n",
       "    }\n",
       "    console.log(\"Bokeh: BokehJS not loaded, scheduling load and callback at\", now());\n",
       "    root._bokeh_is_loading = js_urls.length;\n",
       "    for (var i = 0; i < js_urls.length; i++) {\n",
       "      var url = js_urls[i];\n",
       "      var s = document.createElement('script');\n",
       "      s.src = url;\n",
       "      s.async = false;\n",
       "      s.onreadystatechange = s.onload = function() {\n",
       "        root._bokeh_is_loading--;\n",
       "        if (root._bokeh_is_loading === 0) {\n",
       "          console.log(\"Bokeh: all BokehJS libraries loaded\");\n",
       "          run_callbacks()\n",
       "        }\n",
       "      };\n",
       "      s.onerror = function() {\n",
       "        console.warn(\"failed to load library \" + url);\n",
       "      };\n",
       "      console.log(\"Bokeh: injecting script tag for BokehJS library: \", url);\n",
       "      document.getElementsByTagName(\"head\")[0].appendChild(s);\n",
       "    }\n",
       "  };var element = document.getElementById(\"8ee36469-516f-4129-ac0d-2f6cdf0451fd\");\n",
       "  if (element == null) {\n",
       "    console.log(\"Bokeh: ERROR: autoload.js configured with elementid '8ee36469-516f-4129-ac0d-2f6cdf0451fd' but no matching script tag was found. \")\n",
       "    return false;\n",
       "  }\n",
       "\n",
       "  var js_urls = [\"https://cdn.pydata.org/bokeh/release/bokeh-0.12.16.min.js\", \"https://cdn.pydata.org/bokeh/release/bokeh-widgets-0.12.16.min.js\", \"https://cdn.pydata.org/bokeh/release/bokeh-tables-0.12.16.min.js\", \"https://cdn.pydata.org/bokeh/release/bokeh-gl-0.12.16.min.js\"];\n",
       "\n",
       "  var inline_js = [\n",
       "    function(Bokeh) {\n",
       "      Bokeh.set_log_level(\"info\");\n",
       "    },\n",
       "    \n",
       "    function(Bokeh) {\n",
       "      \n",
       "    },\n",
       "    function(Bokeh) {\n",
       "      console.log(\"Bokeh: injecting CSS: https://cdn.pydata.org/bokeh/release/bokeh-0.12.16.min.css\");\n",
       "      Bokeh.embed.inject_css(\"https://cdn.pydata.org/bokeh/release/bokeh-0.12.16.min.css\");\n",
       "      console.log(\"Bokeh: injecting CSS: https://cdn.pydata.org/bokeh/release/bokeh-widgets-0.12.16.min.css\");\n",
       "      Bokeh.embed.inject_css(\"https://cdn.pydata.org/bokeh/release/bokeh-widgets-0.12.16.min.css\");\n",
       "      console.log(\"Bokeh: injecting CSS: https://cdn.pydata.org/bokeh/release/bokeh-tables-0.12.16.min.css\");\n",
       "      Bokeh.embed.inject_css(\"https://cdn.pydata.org/bokeh/release/bokeh-tables-0.12.16.min.css\");\n",
       "    }\n",
       "  ];\n",
       "\n",
       "  function run_inline_js() {\n",
       "    \n",
       "    if ((root.Bokeh !== undefined) || (force === true)) {\n",
       "      for (var i = 0; i < inline_js.length; i++) {\n",
       "        inline_js[i].call(root, root.Bokeh);\n",
       "      }if (force === true) {\n",
       "        display_loaded();\n",
       "      }} else if (Date.now() < root._bokeh_timeout) {\n",
       "      setTimeout(run_inline_js, 100);\n",
       "    } else if (!root._bokeh_failed_load) {\n",
       "      console.log(\"Bokeh: BokehJS failed to load within specified timeout.\");\n",
       "      root._bokeh_failed_load = true;\n",
       "    } else if (force !== true) {\n",
       "      var cell = $(document.getElementById(\"8ee36469-516f-4129-ac0d-2f6cdf0451fd\")).parents('.cell').data().cell;\n",
       "      cell.output_area.append_execute_result(NB_LOAD_WARNING)\n",
       "    }\n",
       "\n",
       "  }\n",
       "\n",
       "  if (root._bokeh_is_loading === 0) {\n",
       "    console.log(\"Bokeh: BokehJS loaded, going straight to plotting\");\n",
       "    run_inline_js();\n",
       "  } else {\n",
       "    load_libs(js_urls, function() {\n",
       "      console.log(\"Bokeh: BokehJS plotting callback run at\", now());\n",
       "      run_inline_js();\n",
       "    });\n",
       "  }\n",
       "}(window));"
      ],
      "application/vnd.bokehjs_load.v0+json": "\n(function(root) {\n  function now() {\n    return new Date();\n  }\n\n  var force = true;\n\n  if (typeof (root._bokeh_onload_callbacks) === \"undefined\" || force === true) {\n    root._bokeh_onload_callbacks = [];\n    root._bokeh_is_loading = undefined;\n  }\n\n  \n\n  \n  if (typeof (root._bokeh_timeout) === \"undefined\" || force === true) {\n    root._bokeh_timeout = Date.now() + 5000;\n    root._bokeh_failed_load = false;\n  }\n\n  var NB_LOAD_WARNING = {'data': {'text/html':\n     \"<div style='background-color: #fdd'>\\n\"+\n     \"<p>\\n\"+\n     \"BokehJS does not appear to have successfully loaded. If loading BokehJS from CDN, this \\n\"+\n     \"may be due to a slow or bad network connection. Possible fixes:\\n\"+\n     \"</p>\\n\"+\n     \"<ul>\\n\"+\n     \"<li>re-rerun `output_notebook()` to attempt to load from CDN again, or</li>\\n\"+\n     \"<li>use INLINE resources instead, as so:</li>\\n\"+\n     \"</ul>\\n\"+\n     \"<code>\\n\"+\n     \"from bokeh.resources import INLINE\\n\"+\n     \"output_notebook(resources=INLINE)\\n\"+\n     \"</code>\\n\"+\n     \"</div>\"}};\n\n  function display_loaded() {\n    var el = document.getElementById(\"8ee36469-516f-4129-ac0d-2f6cdf0451fd\");\n    if (el != null) {\n      el.textContent = \"BokehJS is loading...\";\n    }\n    if (root.Bokeh !== undefined) {\n      if (el != null) {\n        el.textContent = \"BokehJS \" + root.Bokeh.version + \" successfully loaded.\";\n      }\n    } else if (Date.now() < root._bokeh_timeout) {\n      setTimeout(display_loaded, 100)\n    }\n  }\n\n\n  function run_callbacks() {\n    try {\n      root._bokeh_onload_callbacks.forEach(function(callback) { callback() });\n    }\n    finally {\n      delete root._bokeh_onload_callbacks\n    }\n    console.info(\"Bokeh: all callbacks have finished\");\n  }\n\n  function load_libs(js_urls, callback) {\n    root._bokeh_onload_callbacks.push(callback);\n    if (root._bokeh_is_loading > 0) {\n      console.log(\"Bokeh: BokehJS is being loaded, scheduling callback at\", now());\n      return null;\n    }\n    if (js_urls == null || js_urls.length === 0) {\n      run_callbacks();\n      return null;\n    }\n    console.log(\"Bokeh: BokehJS not loaded, scheduling load and callback at\", now());\n    root._bokeh_is_loading = js_urls.length;\n    for (var i = 0; i < js_urls.length; i++) {\n      var url = js_urls[i];\n      var s = document.createElement('script');\n      s.src = url;\n      s.async = false;\n      s.onreadystatechange = s.onload = function() {\n        root._bokeh_is_loading--;\n        if (root._bokeh_is_loading === 0) {\n          console.log(\"Bokeh: all BokehJS libraries loaded\");\n          run_callbacks()\n        }\n      };\n      s.onerror = function() {\n        console.warn(\"failed to load library \" + url);\n      };\n      console.log(\"Bokeh: injecting script tag for BokehJS library: \", url);\n      document.getElementsByTagName(\"head\")[0].appendChild(s);\n    }\n  };var element = document.getElementById(\"8ee36469-516f-4129-ac0d-2f6cdf0451fd\");\n  if (element == null) {\n    console.log(\"Bokeh: ERROR: autoload.js configured with elementid '8ee36469-516f-4129-ac0d-2f6cdf0451fd' but no matching script tag was found. \")\n    return false;\n  }\n\n  var js_urls = [\"https://cdn.pydata.org/bokeh/release/bokeh-0.12.16.min.js\", \"https://cdn.pydata.org/bokeh/release/bokeh-widgets-0.12.16.min.js\", \"https://cdn.pydata.org/bokeh/release/bokeh-tables-0.12.16.min.js\", \"https://cdn.pydata.org/bokeh/release/bokeh-gl-0.12.16.min.js\"];\n\n  var inline_js = [\n    function(Bokeh) {\n      Bokeh.set_log_level(\"info\");\n    },\n    \n    function(Bokeh) {\n      \n    },\n    function(Bokeh) {\n      console.log(\"Bokeh: injecting CSS: https://cdn.pydata.org/bokeh/release/bokeh-0.12.16.min.css\");\n      Bokeh.embed.inject_css(\"https://cdn.pydata.org/bokeh/release/bokeh-0.12.16.min.css\");\n      console.log(\"Bokeh: injecting CSS: https://cdn.pydata.org/bokeh/release/bokeh-widgets-0.12.16.min.css\");\n      Bokeh.embed.inject_css(\"https://cdn.pydata.org/bokeh/release/bokeh-widgets-0.12.16.min.css\");\n      console.log(\"Bokeh: injecting CSS: https://cdn.pydata.org/bokeh/release/bokeh-tables-0.12.16.min.css\");\n      Bokeh.embed.inject_css(\"https://cdn.pydata.org/bokeh/release/bokeh-tables-0.12.16.min.css\");\n    }\n  ];\n\n  function run_inline_js() {\n    \n    if ((root.Bokeh !== undefined) || (force === true)) {\n      for (var i = 0; i < inline_js.length; i++) {\n        inline_js[i].call(root, root.Bokeh);\n      }if (force === true) {\n        display_loaded();\n      }} else if (Date.now() < root._bokeh_timeout) {\n      setTimeout(run_inline_js, 100);\n    } else if (!root._bokeh_failed_load) {\n      console.log(\"Bokeh: BokehJS failed to load within specified timeout.\");\n      root._bokeh_failed_load = true;\n    } else if (force !== true) {\n      var cell = $(document.getElementById(\"8ee36469-516f-4129-ac0d-2f6cdf0451fd\")).parents('.cell').data().cell;\n      cell.output_area.append_execute_result(NB_LOAD_WARNING)\n    }\n\n  }\n\n  if (root._bokeh_is_loading === 0) {\n    console.log(\"Bokeh: BokehJS loaded, going straight to plotting\");\n    run_inline_js();\n  } else {\n    load_libs(js_urls, function() {\n      console.log(\"Bokeh: BokehJS plotting callback run at\", now());\n      run_inline_js();\n    });\n  }\n}(window));"
     },
     "metadata": {},
     "output_type": "display_data"
    },
    {
     "data": {
      "text/markdown": [
       "## Results over entire range of molecules and spectral bands"
      ],
      "text/plain": [
       "<IPython.core.display.Markdown object>"
      ]
     },
     "metadata": {},
     "output_type": "display_data"
    },
    {
     "data": {
      "text/markdown": [
       "### Table of Contents"
      ],
      "text/plain": [
       "<IPython.core.display.Markdown object>"
      ]
     },
     "metadata": {},
     "output_type": "display_data"
    },
    {
     "data": {
      "text/html": [
       "<a href=\"#Makeup_of_atmosphere.\">Makeup of atmosphere.</a>"
      ],
      "text/plain": [
       "<IPython.core.display.HTML object>"
      ]
     },
     "metadata": {},
     "output_type": "display_data"
    },
    {
     "data": {
      "text/markdown": [
       "**mid-latitude summer**"
      ],
      "text/plain": [
       "<IPython.core.display.Markdown object>"
      ]
     },
     "metadata": {},
     "output_type": "display_data"
    },
    {
     "data": {
      "text/html": [
       "<a href=\"#Cooling_rates._mls.\">Cooling rates. mls.</a>"
      ],
      "text/plain": [
       "<IPython.core.display.HTML object>"
      ]
     },
     "metadata": {},
     "output_type": "display_data"
    },
    {
     "data": {
      "text/html": [
       "<a href=\"#Fluxes._mls.\">Fluxes. mls.</a>"
      ],
      "text/plain": [
       "<IPython.core.display.HTML object>"
      ]
     },
     "metadata": {},
     "output_type": "display_data"
    },
    {
     "data": {
      "text/markdown": [
       "**sub-arctic winter**"
      ],
      "text/plain": [
       "<IPython.core.display.Markdown object>"
      ]
     },
     "metadata": {},
     "output_type": "display_data"
    },
    {
     "data": {
      "text/html": [
       "<a href=\"#Cooling_rates._saw.\">Cooling rates. saw.</a>"
      ],
      "text/plain": [
       "<IPython.core.display.HTML object>"
      ]
     },
     "metadata": {},
     "output_type": "display_data"
    },
    {
     "data": {
      "text/html": [
       "<a href=\"#Fluxes._saw.\">Fluxes. saw.</a>"
      ],
      "text/plain": [
       "<IPython.core.display.HTML object>"
      ]
     },
     "metadata": {},
     "output_type": "display_data"
    },
    {
     "data": {
      "text/markdown": [
       "**tropical**"
      ],
      "text/plain": [
       "<IPython.core.display.Markdown object>"
      ]
     },
     "metadata": {},
     "output_type": "display_data"
    },
    {
     "data": {
      "text/html": [
       "<a href=\"#Cooling_rates._trp.\">Cooling rates. trp.</a>"
      ],
      "text/plain": [
       "<IPython.core.display.HTML object>"
      ]
     },
     "metadata": {},
     "output_type": "display_data"
    },
    {
     "data": {
      "text/html": [
       "<a href=\"#Fluxes._trp.\">Fluxes. trp.</a>"
      ],
      "text/plain": [
       "<IPython.core.display.HTML object>"
      ]
     },
     "metadata": {},
     "output_type": "display_data"
    },
    {
     "data": {
      "text/html": [
       "<a id=\"Makeup_of_atmosphere.\"></a>"
      ],
      "text/plain": [
       "<IPython.core.display.HTML object>"
      ]
     },
     "metadata": {},
     "output_type": "display_data"
    },
    {
     "data": {
      "text/markdown": [
       "# Makeup of atmosphere."
      ],
      "text/plain": [
       "<IPython.core.display.Markdown object>"
      ]
     },
     "metadata": {},
     "output_type": "display_data"
    },
    {
     "data": {
      "text/html": [
       "<div>\n",
       "<style scoped>\n",
       "    .dataframe tbody tr th:only-of-type {\n",
       "        vertical-align: middle;\n",
       "    }\n",
       "\n",
       "    .dataframe tbody tr th {\n",
       "        vertical-align: top;\n",
       "    }\n",
       "\n",
       "    .dataframe thead th {\n",
       "        text-align: right;\n",
       "    }\n",
       "</style>\n",
       "<table border=\"1\" class=\"dataframe\">\n",
       "  <thead>\n",
       "    <tr style=\"text-align: right;\">\n",
       "      <th>clirad band</th>\n",
       "      <th>1</th>\n",
       "      <th>2</th>\n",
       "      <th>3</th>\n",
       "      <th>4</th>\n",
       "      <th>5</th>\n",
       "      <th>6</th>\n",
       "      <th>7</th>\n",
       "      <th>8</th>\n",
       "      <th>9</th>\n",
       "      <th>10</th>\n",
       "      <th>11</th>\n",
       "    </tr>\n",
       "    <tr>\n",
       "      <th>molecule</th>\n",
       "      <th></th>\n",
       "      <th></th>\n",
       "      <th></th>\n",
       "      <th></th>\n",
       "      <th></th>\n",
       "      <th></th>\n",
       "      <th></th>\n",
       "      <th></th>\n",
       "      <th></th>\n",
       "      <th></th>\n",
       "      <th></th>\n",
       "    </tr>\n",
       "  </thead>\n",
       "  <tbody>\n",
       "    <tr>\n",
       "      <th>h2o</th>\n",
       "      <td>atmpro</td>\n",
       "      <td>atmpro</td>\n",
       "      <td>atmpro</td>\n",
       "      <td>atmpro</td>\n",
       "      <td>atmpro</td>\n",
       "      <td>atmpro</td>\n",
       "      <td>atmpro</td>\n",
       "      <td>atmpro</td>\n",
       "      <td>atmpro</td>\n",
       "      <td>atmpro</td>\n",
       "      <td>atmpro</td>\n",
       "    </tr>\n",
       "    <tr>\n",
       "      <th>co2</th>\n",
       "      <td>0</td>\n",
       "      <td>0</td>\n",
       "      <td>0.0004</td>\n",
       "      <td>0.0004</td>\n",
       "      <td>0.0004</td>\n",
       "      <td>0.0004</td>\n",
       "      <td>0.0004</td>\n",
       "      <td>0</td>\n",
       "      <td>0</td>\n",
       "      <td>0</td>\n",
       "      <td>0.0004</td>\n",
       "    </tr>\n",
       "    <tr>\n",
       "      <th>n2o</th>\n",
       "      <td>0</td>\n",
       "      <td>0</td>\n",
       "      <td>3.2e-07</td>\n",
       "      <td>0</td>\n",
       "      <td>0</td>\n",
       "      <td>0</td>\n",
       "      <td>0</td>\n",
       "      <td>0</td>\n",
       "      <td>3.2e-07</td>\n",
       "      <td>0</td>\n",
       "      <td>0</td>\n",
       "    </tr>\n",
       "    <tr>\n",
       "      <th>o3</th>\n",
       "      <td>0</td>\n",
       "      <td>0</td>\n",
       "      <td>0</td>\n",
       "      <td>0</td>\n",
       "      <td>0</td>\n",
       "      <td>0</td>\n",
       "      <td>atmpro</td>\n",
       "      <td>0</td>\n",
       "      <td>0</td>\n",
       "      <td>0</td>\n",
       "      <td>0</td>\n",
       "    </tr>\n",
       "    <tr>\n",
       "      <th>ch4</th>\n",
       "      <td>0</td>\n",
       "      <td>0</td>\n",
       "      <td>0</td>\n",
       "      <td>0</td>\n",
       "      <td>0</td>\n",
       "      <td>0</td>\n",
       "      <td>0</td>\n",
       "      <td>0</td>\n",
       "      <td>1.8e-06</td>\n",
       "      <td>0</td>\n",
       "      <td>0</td>\n",
       "    </tr>\n",
       "  </tbody>\n",
       "</table>\n",
       "</div>"
      ],
      "text/plain": [
       "clirad band      1       2        3       4       5       6       7       8   \\\n",
       "molecule                                                                       \n",
       "h2o          atmpro  atmpro   atmpro  atmpro  atmpro  atmpro  atmpro  atmpro   \n",
       "co2               0       0   0.0004  0.0004  0.0004  0.0004  0.0004       0   \n",
       "n2o               0       0  3.2e-07       0       0       0       0       0   \n",
       "o3                0       0        0       0       0       0  atmpro       0   \n",
       "ch4               0       0        0       0       0       0       0       0   \n",
       "\n",
       "clirad band       9       10      11  \n",
       "molecule                              \n",
       "h2o           atmpro  atmpro  atmpro  \n",
       "co2                0       0  0.0004  \n",
       "n2o          3.2e-07       0       0  \n",
       "o3                 0       0       0  \n",
       "ch4          1.8e-06       0       0  "
      ]
     },
     "metadata": {},
     "output_type": "display_data"
    },
    {
     "data": {
      "text/markdown": [
       "*TABLE.* Non-grey absorbers in the atmosphere."
      ],
      "text/plain": [
       "<IPython.core.display.Markdown object>"
      ]
     },
     "metadata": {},
     "output_type": "display_data"
    },
    {
     "data": {
      "text/html": [
       "<a id=\"Cooling_rates._mls.\"></a>"
      ],
      "text/plain": [
       "<IPython.core.display.HTML object>"
      ]
     },
     "metadata": {},
     "output_type": "display_data"
    },
    {
     "data": {
      "text/markdown": [
       "# Cooling rates. mls."
      ],
      "text/plain": [
       "<IPython.core.display.Markdown object>"
      ]
     },
     "metadata": {},
     "output_type": "display_data"
    },
    {
     "data": {
      "text/html": [
       "\n",
       "<div class=\"bk-root\">\n",
       "    <div class=\"bk-plotdiv\" id=\"f29e92ca-0c90-4165-808b-987cbd1d69e6\"></div>\n",
       "</div>"
      ]
     },
     "metadata": {},
     "output_type": "display_data"
    },
    {
     "data": {
      "application/javascript": [
       "(function(root) {\n",
       "  function embed_document(root) {\n",
       "    \n",
       "  var docs_json = {\"244dfed6-f85c-41d5-9116-641b3d219bae\":{\"roots\":{\"references\":[{\"attributes\":{},\"id\":\"711c4d45-99cc-4bbb-87aa-f4d1e276a4bc\",\"type\":\"UnionRenderers\"},{\"attributes\":{},\"id\":\"e6025d1b-7106-4e64-a23b-c7ce9c609aa0\",\"type\":\"BasicTickFormatter\"},{\"attributes\":{\"callback\":null,\"data\":{\"x\":{\"__ndarray__\":\"zcbUSk4YRMC/t1RLLK8gwGgVoL8IdALAc2CvKYi+/D/WVGaYomIOQINDLNfHyQ5ATcn83NwdBEDjDoeRfSjlP6Tfcs8XtOm/XgX4iCfY9b+PLllCI4zxv5TUqz5qMt+/QAV5OtRxsD94dWBXha7ZP8s7cbrqId8/tHfa2I021D/WrP38Z0yhP7qXnRpUt9C/jJpA4nk24L+GQcwnTangvx+q+rEpAdK/YCpV0rAKf7/6SkNcm7erv9qulEq35dO/IL+KYvVf178vB2bNqmWxv3ge6ffHfNg/UYVujm1M1z8fTZ/eStC3P/el+nP5iZc/d0yJW3Td0D/Qyl4ZdpnVP72KkmMYvcM/U4vC2HT0nL+30tlLbQVzP67JoZwkca4/YjAXfRfEfj+3GE+cJeqrv55qzCqo3ra/CNACqw6Gub/Lzryy0OW1v3CWnR0RirC/fCH3lL03r790OO8tH0Gdv+C6ZE327ba/BI1vAb+ZuL8H8hkOEY2rv+ywHWND6a6/KByQS/e2s79kxtwCOOeyvy+5G51Pp6u/Dj2bIg2zor9AMUjjQV6Yv+tSf9+W5JS/1vhJGZ+nlL8OV5NUG12Zv4zH8GxYWZu/nWXRqPq9k7/I/+lrNaJWPz6raLO3gqA/+dqfno5trD+mc/ksGu2tP3Iw9W9ufqU/ln1uoZnSlT/gYVf+sHFaP8DNw9d/J0I/3myhCAKUgT96L1QXU12eP4RfxiHWc6g/4xbvBFGwrz/ydex8TB+yP3YKkvhFW7M/Vg5TMCEltD+MCiXwn9e0P8lQ/rZzVrQ/\",\"dtype\":\"float64\",\"shape\":[75]},\"y\":{\"__ndarray__\":\"GhExyth1ND/Sv8nbtpRIP2vylNV0PVE/aTum7souWD/At0SJ8fVgPw3Iuahxymc/MSNhhJWvcD/bTfBN02d3P2zb5nxnaoA/CD5h5MAGhz8NmeH1TyaQP+zrCsc9p5Y/LbKd76fGnz/bLW5ISEmmPww9YvTcQq8/JV2OstnstT8Er5Y7M8G+P0c+r3jqkcU/5h99k6ZBzj88bCIzFzjVP4enV8oyxN0//yH99nXg5D8qOpLLf0jtP5kqGJXUifQ/c9cS8kHP/D+/DpwzojQEQIEmwoanVwxA4lgXt9HgE0BSSZ2AJuIbQAMJih9jjiNA5q4l5INuK0AwTKYKRj0zQNv5fmq8/DpAaCJseHrtQkB/+zpwzoxKQM3MzMzMeFJAZmZmZmZqWEAAAAAAAFxeQM3MzMzMJmJAmpmZmZkfZUBmZmZmZhhoQDMzMzMzEWtAAAAAAAAKbkBmZmZmZoFwQM3MzMzM/XFAMzMzMzN6c0CamZmZmfZ0QAAAAAAAc3ZAZmZmZmbvd0DNzMzMzGt5QDMzMzMz6HpAmpmZmZlkfEAAAAAAAOF9QGZmZmZmXX9AZmZmZuZsgECamZmZGSuBQM3MzMxM6YFAAAAAAICngkAzMzMzs2WDQGZmZmbmI4RAmpmZmRnihEDNzMzMTKCFQAAAAACAXoZAMzMzM7Mch0BmZmZm5tqHQJqZmZkZmYhAzczMzExXiUAAAAAAgBWKQDMzMzOz04pAZmZmZuaRi0CamZmZGVCMQM3MzMxMDo1AAAAAAIDMjUAzMzMzs4qOQGZmZmbmSI9A\",\"dtype\":\"float64\",\"shape\":[75]}},\"selected\":{\"id\":\"8a0de59e-ca4a-44f0-98b8-e8ec2522344d\",\"type\":\"Selection\"},\"selection_policy\":{\"id\":\"a5b223b1-5d53-40b0-999d-33606ddd2a1e\",\"type\":\"UnionRenderers\"}},\"id\":\"0010f998-8177-4f15-8a63-291407cfbf20\",\"type\":\"ColumnDataSource\"},{\"attributes\":{\"line_alpha\":0.1,\"line_color\":\"#1f77b4\",\"line_width\":1.5,\"x\":{\"field\":\"x\"},\"y\":{\"field\":\"y\"}},\"id\":\"487694c9-4898-4fc8-a6a5-52e545681c2a\",\"type\":\"Line\"},{\"attributes\":{\"axis_label\":\"pressure [mb]\",\"formatter\":{\"id\":\"a204b3ca-4919-444c-894e-cd1c05633823\",\"type\":\"LogTickFormatter\"},\"plot\":{\"id\":\"5bd99fdf-f6ae-40e4-9887-9476c7f3895c\",\"subtype\":\"Figure\",\"type\":\"Plot\"},\"ticker\":{\"id\":\"33d6445f-8657-4714-b7e0-fbf986402f4a\",\"type\":\"LogTicker\"}},\"id\":\"035e6afd-b5b0-4e85-b9db-8695c9d45c5b\",\"type\":\"LogAxis\"},{\"attributes\":{\"callback\":null,\"data\":{\"x\":{\"__ndarray__\":\"FRQETjrXRUDWnCPW5RZDQIyH7qyy4kFAWX3YbF8+QEAY+Xtqbz88QLyGKPnbPDdAIAxeKo3pMUCERhrL1uUpQFY4aqncGiJA9xv6N8czGkCCy45z3dwUQE5dCmCftRFAVlvS2m9LDUD705OmEZUDQEiA9duN9fU/XgvU5pGO+j+hG49/cDIFQI/d2a5UDgtAclVA5xPgEEBaNfy5jhYWQJvu5nWI/B1AucEfnlPUJEDhdVuVcssqQGPun4Qg+ylALdKiCDJOJEBZaUuMGkcgQBZuu+83YxtAAsInDkIFFkCRoiFxXigRQNp1phAt4AtAHLIhQwkICEDlqkyrg8sCQAfURH6nBfo/3P2ndpVF8T8TEeWCt3nnP4Qtuh8i6Ns/PvfkezcSzT85P/B2YUfAP+OzCBCH/KK/e1u1Fxpjyb+/yCCDVdmDv9Qh8mpewuc/MukPY5p+9z+gbdyR8RYAQJi3lljLlwFA2GCTJsUGAEDHQqyyekP+P5isjrsIIv0/6koh27Rq/D9VnUrH0jv8P+ZeQG1kV/w/xQxkqFDu+z9jdSlVJnP7PwOyt3PPB/s/pq3wsk+9+j9W6t1Ibof6P680IUt1hfo/LhJVXoSb+z8eXnx2ZXz8PwlX1QWb/vw/3QbN6ZT9/D+cHQfn1V38P/YUl2y+Rvs/nd6jf0QW+j+1PJxzwf/4P9uwotV0bfg/FXmFSss8+D/b6twu4Df4P+7hEWM5tPc/Nx/GyPOk9j+/WveHFHT1Px+6o3b0iPQ/g/ZUEWER9D9mIX9GsET0PxMydhOT7/o/\",\"dtype\":\"float64\",\"shape\":[75]},\"y\":{\"__ndarray__\":\"GhExyth1ND/Sv8nbtpRIP2vylNV0PVE/aTum7souWD/At0SJ8fVgPw3Iuahxymc/MSNhhJWvcD/bTfBN02d3P2zb5nxnaoA/CD5h5MAGhz8NmeH1TyaQP+zrCsc9p5Y/LbKd76fGnz/bLW5ISEmmPww9YvTcQq8/JV2OstnstT8Er5Y7M8G+P0c+r3jqkcU/5h99k6ZBzj88bCIzFzjVP4enV8oyxN0//yH99nXg5D8qOpLLf0jtP5kqGJXUifQ/c9cS8kHP/D+/DpwzojQEQIEmwoanVwxA4lgXt9HgE0BSSZ2AJuIbQAMJih9jjiNA5q4l5INuK0AwTKYKRj0zQNv5fmq8/DpAaCJseHrtQkB/+zpwzoxKQM3MzMzMeFJAZmZmZmZqWEAAAAAAAFxeQM3MzMzMJmJAmpmZmZkfZUBmZmZmZhhoQDMzMzMzEWtAAAAAAAAKbkBmZmZmZoFwQM3MzMzM/XFAMzMzMzN6c0CamZmZmfZ0QAAAAAAAc3ZAZmZmZmbvd0DNzMzMzGt5QDMzMzMz6HpAmpmZmZlkfEAAAAAAAOF9QGZmZmZmXX9AZmZmZuZsgECamZmZGSuBQM3MzMxM6YFAAAAAAICngkAzMzMzs2WDQGZmZmbmI4RAmpmZmRnihEDNzMzMTKCFQAAAAACAXoZAMzMzM7Mch0BmZmZm5tqHQJqZmZkZmYhAzczMzExXiUAAAAAAgBWKQDMzMzOz04pAZmZmZuaRi0CamZmZGVCMQM3MzMxMDo1AAAAAAIDMjUAzMzMzs4qOQGZmZmbmSI9A\",\"dtype\":\"float64\",\"shape\":[75]}},\"selected\":{\"id\":\"a3c4b05d-e62c-433f-a7aa-1070c8307bd3\",\"type\":\"Selection\"},\"selection_policy\":{\"id\":\"a5dd4c91-3592-41b0-9738-659f411552c7\",\"type\":\"UnionRenderers\"}},\"id\":\"3968b7f9-b10d-4b92-b464-e6925f86720f\",\"type\":\"ColumnDataSource\"},{\"attributes\":{\"active_drag\":\"auto\",\"active_inspect\":\"auto\",\"active_scroll\":\"auto\",\"active_tap\":\"auto\",\"tools\":[{\"id\":\"75d3057e-61a5-4846-b6f8-ec80b0f7f369\",\"type\":\"PanTool\"},{\"id\":\"ed16069c-974b-42c8-91b6-565aee0e0121\",\"type\":\"WheelZoomTool\"},{\"id\":\"f1f097cf-a7c8-4922-b169-bc544eb7a82d\",\"type\":\"BoxZoomTool\"},{\"id\":\"6a83ad55-849e-42ce-8301-5d997f33929b\",\"type\":\"SaveTool\"},{\"id\":\"b3ed145f-5729-4ab3-8397-781013e198b3\",\"type\":\"ResetTool\"},{\"id\":\"41651b87-07f2-4cf6-b8d3-04e4ddac937a\",\"type\":\"HelpTool\"}]},\"id\":\"d7c9ed64-ed67-4601-91a6-cee2ab48ab28\",\"type\":\"Toolbar\"},{\"attributes\":{\"source\":{\"id\":\"25a91f10-e8a5-47ee-ad7d-9eabb647c339\",\"type\":\"ColumnDataSource\"}},\"id\":\"068d2f70-856b-4f5e-8a43-ae280d28204b\",\"type\":\"CDSView\"},{\"attributes\":{\"children\":[{\"id\":\"de5bc4f5-0842-4a4a-9226-23b6bb35637d\",\"type\":\"Row\"}]},\"id\":\"51c570f5-8951-465c-8145-2e3d7399e641\",\"type\":\"Column\"},{\"attributes\":{},\"id\":\"557937fd-377b-480a-b8e1-213cefbb02d4\",\"type\":\"BasicTicker\"},{\"attributes\":{\"line_alpha\":0.1,\"line_color\":\"#1f77b4\",\"line_width\":1.5,\"x\":{\"field\":\"x\"},\"y\":{\"field\":\"y\"}},\"id\":\"ceac7df5-fc43-462c-9f15-a7cb5191aca9\",\"type\":\"Line\"},{\"attributes\":{\"children\":[{\"id\":\"7688df65-7eff-4426-9e64-4db299a64726\",\"subtype\":\"Figure\",\"type\":\"Plot\"},{\"id\":\"5bd99fdf-f6ae-40e4-9887-9476c7f3895c\",\"subtype\":\"Figure\",\"type\":\"Plot\"},{\"id\":\"78561eb0-d7f5-42a2-a7bb-3b122f5f9767\",\"subtype\":\"Figure\",\"type\":\"Plot\"}]},\"id\":\"de5bc4f5-0842-4a4a-9226-23b6bb35637d\",\"type\":\"Row\"},{\"attributes\":{\"dimension\":1,\"plot\":{\"id\":\"78561eb0-d7f5-42a2-a7bb-3b122f5f9767\",\"subtype\":\"Figure\",\"type\":\"Plot\"},\"ticker\":{\"id\":\"9c075fe0-63f6-4bb8-9f10-b579a407b468\",\"type\":\"LogTicker\"}},\"id\":\"9f8d12e7-9967-467f-beeb-68b6552509a8\",\"type\":\"Grid\"},{\"attributes\":{},\"id\":\"b0d2b7c1-1483-4b4a-bc94-b18023e8f0c5\",\"type\":\"SaveTool\"},{\"attributes\":{\"active_drag\":\"auto\",\"active_inspect\":\"auto\",\"active_scroll\":\"auto\",\"active_tap\":\"auto\",\"tools\":[{\"id\":\"b76daf08-8d58-48a0-81cc-05173d3b47a9\",\"type\":\"PanTool\"},{\"id\":\"b41ff1b2-cd65-4171-838e-5466537e2cec\",\"type\":\"WheelZoomTool\"},{\"id\":\"36eee8f9-3815-4ee7-acd4-096a96f1c1cc\",\"type\":\"BoxZoomTool\"},{\"id\":\"b0d2b7c1-1483-4b4a-bc94-b18023e8f0c5\",\"type\":\"SaveTool\"},{\"id\":\"c2aa8a2f-6f6b-4101-a542-7b4d40f2ccef\",\"type\":\"ResetTool\"},{\"id\":\"b7a27331-3a94-477f-9537-a489bcd02277\",\"type\":\"HelpTool\"}]},\"id\":\"923366b1-c8d3-4f0c-9b8b-c3744c38052d\",\"type\":\"Toolbar\"},{\"attributes\":{\"line_color\":\"#4daf4a\",\"line_width\":1.5,\"x\":{\"field\":\"x\"},\"y\":{\"field\":\"y\"}},\"id\":\"7afc6be9-5d3b-49ec-bc2c-b72d6ae5fef0\",\"type\":\"Line\"},{\"attributes\":{\"axis_label\":\"pressure [mb]\",\"formatter\":{\"id\":\"36361fb4-dce8-43ca-bd11-f107fc55f0ad\",\"type\":\"LogTickFormatter\"},\"plot\":{\"id\":\"78561eb0-d7f5-42a2-a7bb-3b122f5f9767\",\"subtype\":\"Figure\",\"type\":\"Plot\"},\"ticker\":{\"id\":\"9c075fe0-63f6-4bb8-9f10-b579a407b468\",\"type\":\"LogTicker\"}},\"id\":\"0c44eba2-568d-4ee5-9dbd-dbb9fe81120e\",\"type\":\"LogAxis\"},{\"attributes\":{\"line_alpha\":0.8,\"line_color\":\"#984ea3\",\"line_width\":1.5,\"x\":{\"field\":\"x\"},\"y\":{\"field\":\"y\"}},\"id\":\"d6e8f3d2-a1b6-4bf0-a9ce-a0e099f55647\",\"type\":\"Line\"},{\"attributes\":{\"data_source\":{\"id\":\"0010f998-8177-4f15-8a63-291407cfbf20\",\"type\":\"ColumnDataSource\"},\"glyph\":{\"id\":\"d6e8f3d2-a1b6-4bf0-a9ce-a0e099f55647\",\"type\":\"Line\"},\"hover_glyph\":null,\"muted_glyph\":null,\"nonselection_glyph\":{\"id\":\"487694c9-4898-4fc8-a6a5-52e545681c2a\",\"type\":\"Line\"},\"selection_glyph\":null,\"view\":{\"id\":\"33e3f0f8-9fbd-4a7e-bd34-60932af099e9\",\"type\":\"CDSView\"}},\"id\":\"638f8bef-4494-42c4-ac4c-b9b8a8feb883\",\"type\":\"GlyphRenderer\"},{\"attributes\":{\"plot\":{\"id\":\"5bd99fdf-f6ae-40e4-9887-9476c7f3895c\",\"subtype\":\"Figure\",\"type\":\"Plot\"},\"ticker\":{\"id\":\"557937fd-377b-480a-b8e1-213cefbb02d4\",\"type\":\"BasicTicker\"}},\"id\":\"4996181a-eb76-4936-a358-24e997f2231b\",\"type\":\"Grid\"},{\"attributes\":{\"data_source\":{\"id\":\"25a91f10-e8a5-47ee-ad7d-9eabb647c339\",\"type\":\"ColumnDataSource\"},\"glyph\":{\"id\":\"ffb8047e-55ac-4646-ba0e-08c2fec9e292\",\"type\":\"Circle\"},\"hover_glyph\":null,\"muted_glyph\":null,\"nonselection_glyph\":{\"id\":\"63078be8-2c75-4e9e-80f8-d6778138a89e\",\"type\":\"Circle\"},\"selection_glyph\":null,\"view\":{\"id\":\"068d2f70-856b-4f5e-8a43-ae280d28204b\",\"type\":\"CDSView\"}},\"id\":\"46696d6f-fc44-41f6-94f7-4ed5020ca346\",\"type\":\"GlyphRenderer\"},{\"attributes\":{\"source\":{\"id\":\"0010f998-8177-4f15-8a63-291407cfbf20\",\"type\":\"ColumnDataSource\"}},\"id\":\"33e3f0f8-9fbd-4a7e-bd34-60932af099e9\",\"type\":\"CDSView\"},{\"attributes\":{\"callback\":null,\"data\":{\"x\":{\"__ndarray__\":\"cm1sTMT3VEDEyvjosEJHQOKI6DjzCUNArgQWV9awPkB9Lm8XG3M4QEz+Qv6iYzNA7eV8HaPLLkCX1QHyTpMoQFBmYSYetiNAUB04GtGpH0AmFyVE5j8ZQJca9QPGqBNALJP+OOHHDEBNxaf7QF8AQKtislomWuw/cW2dcO6A9T/uJJvfPu0EQIaQLTI/JQ1AxGiII+PmEkCJvfVeuCsYQD6ZBhGbHB9AXQw69DTYJEAsubcwKucqQNuT9D5OmipAJyi3szEJJUBlNebh5WkgQDDcPHBr2xlArtlANXuQFEBdJadFHckQQI2Avh0ZsQtAjYiwt1rsBUCL0SDoVBgAQK6C0nEEjvc/CggLSme58T9sXU2orFPnP0v0JYz9Gdg/vT38vxYczD9nBQTe6kHHP1IhkEXJwKo/8OZnhCVAub+xtVgCpmqzP6DUpY6g0+k/PKK3T1h4+D8RTDjQc1EAQG/dAQs7TwJAQt2eHpPLAEBWEh074x//PyCap9ZSGf4/rEzaTySm/T+7aXhHRmr9P688KeqeNP0/ruZ4EemD/D8olrZcn9T7P0+vNc9hW/s/i9VVL+4P+z+0NzC24uz6P8731Kza8vo/xFf4SHzq+z+gYyHpvHb8P68ROkiFevw/BAjYdCga/D8AUp8VbW77P3JrF/nKmvo/qCQeGfq++T/dplwHJfn4P2G4p+Uva/g/OzZ0RqMZ+D8dmn/iar73P/OuA7Ka8PY/gaaeQHGn9T9hkyjAH1L0P3aZGhdAU/M/n8VP/g7P8j+90HxHNvfyPwhNBtgrqvk/\",\"dtype\":\"float64\",\"shape\":[75]},\"y\":{\"__ndarray__\":\"GhExyth1ND/Sv8nbtpRIP2vylNV0PVE/aTum7souWD/At0SJ8fVgPw3Iuahxymc/MSNhhJWvcD/bTfBN02d3P2zb5nxnaoA/CD5h5MAGhz8NmeH1TyaQP+zrCsc9p5Y/LbKd76fGnz/bLW5ISEmmPww9YvTcQq8/JV2OstnstT8Er5Y7M8G+P0c+r3jqkcU/5h99k6ZBzj88bCIzFzjVP4enV8oyxN0//yH99nXg5D8qOpLLf0jtP5kqGJXUifQ/c9cS8kHP/D+/DpwzojQEQIEmwoanVwxA4lgXt9HgE0BSSZ2AJuIbQAMJih9jjiNA5q4l5INuK0AwTKYKRj0zQNv5fmq8/DpAaCJseHrtQkB/+zpwzoxKQM3MzMzMeFJAZmZmZmZqWEAAAAAAAFxeQM3MzMzMJmJAmpmZmZkfZUBmZmZmZhhoQDMzMzMzEWtAAAAAAAAKbkBmZmZmZoFwQM3MzMzM/XFAMzMzMzN6c0CamZmZmfZ0QAAAAAAAc3ZAZmZmZmbvd0DNzMzMzGt5QDMzMzMz6HpAmpmZmZlkfEAAAAAAAOF9QGZmZmZmXX9AZmZmZuZsgECamZmZGSuBQM3MzMxM6YFAAAAAAICngkAzMzMzs2WDQGZmZmbmI4RAmpmZmRnihEDNzMzMTKCFQAAAAACAXoZAMzMzM7Mch0BmZmZm5tqHQJqZmZkZmYhAzczMzExXiUAAAAAAgBWKQDMzMzOz04pAZmZmZuaRi0CamZmZGVCMQM3MzMxMDo1AAAAAAIDMjUAzMzMzs4qOQGZmZmbmSI9A\",\"dtype\":\"float64\",\"shape\":[75]}},\"selected\":{\"id\":\"a6d51352-d41e-42d9-a9b8-659c0c322833\",\"type\":\"Selection\"},\"selection_policy\":{\"id\":\"2b9ae0ea-d415-4db8-b0bf-d6a6f39e7347\",\"type\":\"UnionRenderers\"}},\"id\":\"8724ea7f-79d6-4a39-a86f-2afb67009dcc\",\"type\":\"ColumnDataSource\"},{\"attributes\":{\"num_minor_ticks\":10},\"id\":\"9c075fe0-63f6-4bb8-9f10-b579a407b468\",\"type\":\"LogTicker\"},{\"attributes\":{\"source\":{\"id\":\"2fd9ad68-3535-46a8-8413-81d17e53e1b2\",\"type\":\"ColumnDataSource\"}},\"id\":\"190f2357-e3da-4df0-b57b-4557b3912983\",\"type\":\"CDSView\"},{\"attributes\":{},\"id\":\"5e35f5aa-f65f-4132-8942-3071539098ac\",\"type\":\"WheelZoomTool\"},{\"attributes\":{},\"id\":\"ed16069c-974b-42c8-91b6-565aee0e0121\",\"type\":\"WheelZoomTool\"},{\"attributes\":{\"bottom_units\":\"screen\",\"fill_alpha\":{\"value\":0.5},\"fill_color\":{\"value\":\"lightgrey\"},\"left_units\":\"screen\",\"level\":\"overlay\",\"line_alpha\":{\"value\":1.0},\"line_color\":{\"value\":\"black\"},\"line_dash\":[4,4],\"line_width\":{\"value\":2},\"plot\":null,\"render_mode\":\"css\",\"right_units\":\"screen\",\"top_units\":\"screen\"},\"id\":\"f71aa58c-6c91-4740-a676-5004e81a3ef2\",\"type\":\"BoxAnnotation\"},{\"attributes\":{\"overlay\":{\"id\":\"940642e9-12a1-4d29-964c-1203c1f9b6d6\",\"type\":\"BoxAnnotation\"}},\"id\":\"f1f097cf-a7c8-4922-b169-bc544eb7a82d\",\"type\":\"BoxZoomTool\"},{\"attributes\":{},\"id\":\"35823fe9-f8ae-4a49-8cb9-5ca0018c3529\",\"type\":\"SaveTool\"},{\"attributes\":{\"line_alpha\":0.1,\"line_color\":\"#1f77b4\",\"line_dash\":[6],\"line_width\":5,\"x\":{\"field\":\"x\"},\"y\":{\"field\":\"y\"}},\"id\":\"83c78e14-b8c8-49bb-8850-ff6d0759d264\",\"type\":\"Line\"},{\"attributes\":{},\"id\":\"fd309dce-25b7-4060-a0a7-9f925f57ff68\",\"type\":\"BasicTicker\"},{\"attributes\":{},\"id\":\"75d3057e-61a5-4846-b6f8-ec80b0f7f369\",\"type\":\"PanTool\"},{\"attributes\":{},\"id\":\"64d214cb-e693-4425-9cae-dd6a4ff909c7\",\"type\":\"HelpTool\"},{\"attributes\":{\"data_source\":{\"id\":\"3968b7f9-b10d-4b92-b464-e6925f86720f\",\"type\":\"ColumnDataSource\"},\"glyph\":{\"id\":\"9bf7df0a-eb55-4db7-89a1-eb514444d37f\",\"type\":\"Line\"},\"hover_glyph\":null,\"muted_glyph\":null,\"nonselection_glyph\":{\"id\":\"83c78e14-b8c8-49bb-8850-ff6d0759d264\",\"type\":\"Line\"},\"selection_glyph\":null,\"view\":{\"id\":\"175d7bca-6acd-4f6a-b1e0-7f0552f2bd3c\",\"type\":\"CDSView\"}},\"id\":\"d21cc9e9-60ae-41d8-87a6-ff1fe8e031e2\",\"type\":\"GlyphRenderer\"},{\"attributes\":{\"active_drag\":\"auto\",\"active_inspect\":\"auto\",\"active_scroll\":\"auto\",\"active_tap\":\"auto\",\"tools\":[{\"id\":\"b50f0dff-95a5-4450-b267-eb2482aca74e\",\"type\":\"PanTool\"},{\"id\":\"5e35f5aa-f65f-4132-8942-3071539098ac\",\"type\":\"WheelZoomTool\"},{\"id\":\"9ce9db77-fbc0-404d-943f-66e9e010bb04\",\"type\":\"BoxZoomTool\"},{\"id\":\"35823fe9-f8ae-4a49-8cb9-5ca0018c3529\",\"type\":\"SaveTool\"},{\"id\":\"02883520-bf5a-4aa2-9c8b-60be716d3d60\",\"type\":\"ResetTool\"},{\"id\":\"64d214cb-e693-4425-9cae-dd6a4ff909c7\",\"type\":\"HelpTool\"}]},\"id\":\"72f5051f-31eb-486f-99b0-637babd7d8a7\",\"type\":\"Toolbar\"},{\"attributes\":{\"callback\":null,\"data\":{\"x\":{\"__ndarray__\":\"cm1sTMT3VEDEyvjosEJHQOKI6DjzCUNArgQWV9awPkB9Lm8XG3M4QEz+Qv6iYzNA7eV8HaPLLkCX1QHyTpMoQFBmYSYetiNAUB04GtGpH0AmFyVE5j8ZQJca9QPGqBNALJP+OOHHDEBNxaf7QF8AQKtislomWuw/cW2dcO6A9T/uJJvfPu0EQIaQLTI/JQ1AxGiII+PmEkCJvfVeuCsYQD6ZBhGbHB9AXQw69DTYJEAsubcwKucqQNuT9D5OmipAJyi3szEJJUBlNebh5WkgQDDcPHBr2xlArtlANXuQFEBdJadFHckQQI2Avh0ZsQtAjYiwt1rsBUCL0SDoVBgAQK6C0nEEjvc/CggLSme58T9sXU2orFPnP0v0JYz9Gdg/vT38vxYczD9nBQTe6kHHP1IhkEXJwKo/8OZnhCVAub+xtVgCpmqzP6DUpY6g0+k/PKK3T1h4+D8RTDjQc1EAQG/dAQs7TwJAQt2eHpPLAEBWEh074x//PyCap9ZSGf4/rEzaTySm/T+7aXhHRmr9P688KeqeNP0/ruZ4EemD/D8olrZcn9T7P0+vNc9hW/s/i9VVL+4P+z+0NzC24uz6P8731Kza8vo/xFf4SHzq+z+gYyHpvHb8P68ROkiFevw/BAjYdCga/D8AUp8VbW77P3JrF/nKmvo/qCQeGfq++T/dplwHJfn4P2G4p+Uva/g/OzZ0RqMZ+D8dmn/iar73P/OuA7Ka8PY/gaaeQHGn9T9hkyjAH1L0P3aZGhdAU/M/n8VP/g7P8j+90HxHNvfyPwhNBtgrqvk/\",\"dtype\":\"float64\",\"shape\":[75]},\"y\":{\"__ndarray__\":\"GhExyth1ND/Sv8nbtpRIP2vylNV0PVE/aTum7souWD/At0SJ8fVgPw3Iuahxymc/MSNhhJWvcD/bTfBN02d3P2zb5nxnaoA/CD5h5MAGhz8NmeH1TyaQP+zrCsc9p5Y/LbKd76fGnz/bLW5ISEmmPww9YvTcQq8/JV2OstnstT8Er5Y7M8G+P0c+r3jqkcU/5h99k6ZBzj88bCIzFzjVP4enV8oyxN0//yH99nXg5D8qOpLLf0jtP5kqGJXUifQ/c9cS8kHP/D+/DpwzojQEQIEmwoanVwxA4lgXt9HgE0BSSZ2AJuIbQAMJih9jjiNA5q4l5INuK0AwTKYKRj0zQNv5fmq8/DpAaCJseHrtQkB/+zpwzoxKQM3MzMzMeFJAZmZmZmZqWEAAAAAAAFxeQM3MzMzMJmJAmpmZmZkfZUBmZmZmZhhoQDMzMzMzEWtAAAAAAAAKbkBmZmZmZoFwQM3MzMzM/XFAMzMzMzN6c0CamZmZmfZ0QAAAAAAAc3ZAZmZmZmbvd0DNzMzMzGt5QDMzMzMz6HpAmpmZmZlkfEAAAAAAAOF9QGZmZmZmXX9AZmZmZuZsgECamZmZGSuBQM3MzMxM6YFAAAAAAICngkAzMzMzs2WDQGZmZmbmI4RAmpmZmRnihEDNzMzMTKCFQAAAAACAXoZAMzMzM7Mch0BmZmZm5tqHQJqZmZkZmYhAzczMzExXiUAAAAAAgBWKQDMzMzOz04pAZmZmZuaRi0CamZmZGVCMQM3MzMxMDo1AAAAAAIDMjUAzMzMzs4qOQGZmZmbmSI9A\",\"dtype\":\"float64\",\"shape\":[75]}},\"selected\":{\"id\":\"4a4d51ec-2876-41b0-a9be-e561c29eb7ea\",\"type\":\"Selection\"},\"selection_policy\":{\"id\":\"711c4d45-99cc-4bbb-87aa-f4d1e276a4bc\",\"type\":\"UnionRenderers\"}},\"id\":\"25a91f10-e8a5-47ee-ad7d-9eabb647c339\",\"type\":\"ColumnDataSource\"},{\"attributes\":{},\"id\":\"a3c4b05d-e62c-433f-a7aa-1070c8307bd3\",\"type\":\"Selection\"},{\"attributes\":{},\"id\":\"b50f0dff-95a5-4450-b267-eb2482aca74e\",\"type\":\"PanTool\"},{\"attributes\":{},\"id\":\"6a83ad55-849e-42ce-8301-5d997f33929b\",\"type\":\"SaveTool\"},{\"attributes\":{\"overlay\":{\"id\":\"f71aa58c-6c91-4740-a676-5004e81a3ef2\",\"type\":\"BoxAnnotation\"}},\"id\":\"9ce9db77-fbc0-404d-943f-66e9e010bb04\",\"type\":\"BoxZoomTool\"},{\"attributes\":{\"data_source\":{\"id\":\"8724ea7f-79d6-4a39-a86f-2afb67009dcc\",\"type\":\"ColumnDataSource\"},\"glyph\":{\"id\":\"7afc6be9-5d3b-49ec-bc2c-b72d6ae5fef0\",\"type\":\"Line\"},\"hover_glyph\":null,\"muted_glyph\":null,\"nonselection_glyph\":{\"id\":\"ceac7df5-fc43-462c-9f15-a7cb5191aca9\",\"type\":\"Line\"},\"selection_glyph\":null,\"view\":{\"id\":\"44b38f1a-5884-4f88-9121-8c7b08be855d\",\"type\":\"CDSView\"}},\"id\":\"2113a8ba-baa8-47cf-9fd1-69e56f591d3d\",\"type\":\"GlyphRenderer\"},{\"attributes\":{\"callback\":null,\"end\":13.587992067591857,\"start\":-0.33483515683786},\"id\":\"9ff6f9d8-94e8-4083-90ce-456988638049\",\"type\":\"Range1d\"},{\"attributes\":{},\"id\":\"690039ff-df29-45a9-8f19-a18bddad6c9e\",\"type\":\"LogScale\"},{\"attributes\":{},\"id\":\"02883520-bf5a-4aa2-9c8b-60be716d3d60\",\"type\":\"ResetTool\"},{\"attributes\":{\"axis_label\":\"cooling rate [K/day]\",\"formatter\":{\"id\":\"e6025d1b-7106-4e64-a23b-c7ce9c609aa0\",\"type\":\"BasicTickFormatter\"},\"plot\":{\"id\":\"7688df65-7eff-4426-9e64-4db299a64726\",\"subtype\":\"Figure\",\"type\":\"Plot\"},\"ticker\":{\"id\":\"fd309dce-25b7-4060-a0a7-9f925f57ff68\",\"type\":\"BasicTicker\"}},\"id\":\"36ab3d26-7ea1-41b5-9292-6837581b1532\",\"type\":\"LinearAxis\"},{\"attributes\":{\"line_alpha\":0.6,\"line_color\":\"#377eb8\",\"line_dash\":[6],\"line_width\":5,\"x\":{\"field\":\"x\"},\"y\":{\"field\":\"y\"}},\"id\":\"9bf7df0a-eb55-4db7-89a1-eb514444d37f\",\"type\":\"Line\"},{\"attributes\":{\"source\":{\"id\":\"8724ea7f-79d6-4a39-a86f-2afb67009dcc\",\"type\":\"ColumnDataSource\"}},\"id\":\"44b38f1a-5884-4f88-9121-8c7b08be855d\",\"type\":\"CDSView\"},{\"attributes\":{},\"id\":\"b3ed145f-5729-4ab3-8397-781013e198b3\",\"type\":\"ResetTool\"},{\"attributes\":{\"label\":{\"value\":\"CLIRAD (single-run)\"},\"renderers\":[{\"id\":\"d21cc9e9-60ae-41d8-87a6-ff1fe8e031e2\",\"type\":\"GlyphRenderer\"}]},\"id\":\"5defedcd-e758-4c5e-99ce-14814f3f494c\",\"type\":\"LegendItem\"},{\"attributes\":{\"fill_alpha\":{\"value\":0.1},\"fill_color\":{\"value\":\"#1f77b4\"},\"line_alpha\":{\"value\":0.1},\"line_color\":{\"value\":\"#1f77b4\"},\"x\":{\"field\":\"x\"},\"y\":{\"field\":\"y\"}},\"id\":\"63078be8-2c75-4e9e-80f8-d6778138a89e\",\"type\":\"Circle\"},{\"attributes\":{\"fill_alpha\":{\"value\":0.7},\"fill_color\":{\"value\":\"#4daf4a\"},\"line_alpha\":{\"value\":0.7},\"line_color\":{\"value\":\"#4daf4a\"},\"x\":{\"field\":\"x\"},\"y\":{\"field\":\"y\"}},\"id\":\"ffb8047e-55ac-4646-ba0e-08c2fec9e292\",\"type\":\"Circle\"},{\"attributes\":{},\"id\":\"41651b87-07f2-4cf6-b8d3-04e4ddac937a\",\"type\":\"HelpTool\"},{\"attributes\":{\"plot\":{\"id\":\"7688df65-7eff-4426-9e64-4db299a64726\",\"subtype\":\"Figure\",\"type\":\"Plot\"},\"ticker\":{\"id\":\"fd309dce-25b7-4060-a0a7-9f925f57ff68\",\"type\":\"BasicTicker\"}},\"id\":\"1414beda-e2fb-4972-bccb-63574988ff3a\",\"type\":\"Grid\"},{\"attributes\":{\"bottom_units\":\"screen\",\"fill_alpha\":{\"value\":0.5},\"fill_color\":{\"value\":\"lightgrey\"},\"left_units\":\"screen\",\"level\":\"overlay\",\"line_alpha\":{\"value\":1.0},\"line_color\":{\"value\":\"black\"},\"line_dash\":[4,4],\"line_width\":{\"value\":2},\"plot\":null,\"render_mode\":\"css\",\"right_units\":\"screen\",\"top_units\":\"screen\"},\"id\":\"940642e9-12a1-4d29-964c-1203c1f9b6d6\",\"type\":\"BoxAnnotation\"},{\"attributes\":{\"callback\":null,\"end\":0.504962295764587,\"start\":-1.3837892505698874},\"id\":\"c68cf9db-d53b-40b8-bcdc-d6dd385956f4\",\"type\":\"Range1d\"},{\"attributes\":{\"line_alpha\":0.1,\"line_color\":\"#1f77b4\",\"line_width\":1.5,\"x\":{\"field\":\"x\"},\"y\":{\"field\":\"y\"}},\"id\":\"ac3f32ab-4505-4ddc-91c3-35942c640224\",\"type\":\"Line\"},{\"attributes\":{\"fill_alpha\":{\"value\":0.7},\"fill_color\":{\"value\":\"#984ea3\"},\"line_alpha\":{\"value\":0.7},\"line_color\":{\"value\":\"#984ea3\"},\"x\":{\"field\":\"x\"},\"y\":{\"field\":\"y\"}},\"id\":\"b14b630f-9631-4064-b881-20a322d31e88\",\"type\":\"Circle\"},{\"attributes\":{\"above\":[{\"id\":\"2f849127-bb05-413c-8be3-6f9b352637db\",\"type\":\"Legend\"}],\"below\":[{\"id\":\"20a268f1-5b6c-4a24-9287-a7f4fe4cd27f\",\"type\":\"LinearAxis\"}],\"left\":[{\"id\":\"0c44eba2-568d-4ee5-9dbd-dbb9fe81120e\",\"type\":\"LogAxis\"}],\"plot_width\":300,\"renderers\":[{\"id\":\"20a268f1-5b6c-4a24-9287-a7f4fe4cd27f\",\"type\":\"LinearAxis\"},{\"id\":\"68b0ea32-653c-4d0a-b72d-a411c6cd20c2\",\"type\":\"Grid\"},{\"id\":\"0c44eba2-568d-4ee5-9dbd-dbb9fe81120e\",\"type\":\"LogAxis\"},{\"id\":\"9f8d12e7-9967-467f-beeb-68b6552509a8\",\"type\":\"Grid\"},{\"id\":\"f71aa58c-6c91-4740-a676-5004e81a3ef2\",\"type\":\"BoxAnnotation\"},{\"id\":\"b1946516-f1ca-4873-a01f-5f2650e40ffa\",\"type\":\"GlyphRenderer\"},{\"id\":\"638f8bef-4494-42c4-ac4c-b9b8a8feb883\",\"type\":\"GlyphRenderer\"},{\"id\":\"2f849127-bb05-413c-8be3-6f9b352637db\",\"type\":\"Legend\"}],\"title\":{\"id\":\"d0d5130a-0a63-49b8-a050-d0341c74b4af\",\"type\":\"Title\"},\"toolbar\":{\"id\":\"72f5051f-31eb-486f-99b0-637babd7d8a7\",\"type\":\"Toolbar\"},\"toolbar_location\":null,\"x_range\":{\"id\":\"c68cf9db-d53b-40b8-bcdc-d6dd385956f4\",\"type\":\"Range1d\"},\"x_scale\":{\"id\":\"9ac35eb5-8b5c-4e86-b8e1-7695000fa362\",\"type\":\"LinearScale\"},\"y_range\":{\"id\":\"702b20e3-a008-4d36-9272-ed109cc76660\",\"type\":\"Range1d\"},\"y_scale\":{\"id\":\"8eaf6889-933e-4141-97e4-f022ce75ada7\",\"type\":\"LogScale\"}},\"id\":\"78561eb0-d7f5-42a2-a7bb-3b122f5f9767\",\"subtype\":\"Figure\",\"type\":\"Plot\"},{\"attributes\":{\"callback\":null,\"end\":2.3135570711804605,\"start\":-0.22320708756646002},\"id\":\"0805698e-c6e9-4ffd-b877-919ff8be1a8e\",\"type\":\"Range1d\"},{\"attributes\":{\"line_color\":\"#4daf4a\",\"line_width\":1.5,\"x\":{\"field\":\"x\"},\"y\":{\"field\":\"y\"}},\"id\":\"65c12097-9e17-4a21-ad7e-becec4b0c742\",\"type\":\"Line\"},{\"attributes\":{},\"id\":\"f5eaeede-32d4-44b1-9def-2be9f3ec91ee\",\"type\":\"BasicTicker\"},{\"attributes\":{\"data_source\":{\"id\":\"238931e6-f51d-47db-ac23-0287b85cc94e\",\"type\":\"ColumnDataSource\"},\"glyph\":{\"id\":\"65c12097-9e17-4a21-ad7e-becec4b0c742\",\"type\":\"Line\"},\"hover_glyph\":null,\"muted_glyph\":null,\"nonselection_glyph\":{\"id\":\"ac3f32ab-4505-4ddc-91c3-35942c640224\",\"type\":\"Line\"},\"selection_glyph\":null,\"view\":{\"id\":\"406af4ac-c30f-43d7-91d1-e512353edaa5\",\"type\":\"CDSView\"}},\"id\":\"ae9513a7-2760-48a2-899b-8308478fa90b\",\"type\":\"GlyphRenderer\"},{\"attributes\":{\"data_source\":{\"id\":\"f7788dd5-f3e6-440a-8bd7-8863dba2390d\",\"type\":\"ColumnDataSource\"},\"glyph\":{\"id\":\"054c0d0e-57f1-473c-8710-bcbe3eb6431d\",\"type\":\"Line\"},\"hover_glyph\":null,\"muted_glyph\":null,\"nonselection_glyph\":{\"id\":\"9a10573c-05d9-4e58-8282-5d99895b32df\",\"type\":\"Line\"},\"selection_glyph\":null,\"view\":{\"id\":\"68a67d4b-fc98-4d0c-95b4-9dd63a742426\",\"type\":\"CDSView\"}},\"id\":\"99567ee5-8fe2-4a12-b8ab-62cf6d0ee99b\",\"type\":\"GlyphRenderer\"},{\"attributes\":{},\"id\":\"8eaf6889-933e-4141-97e4-f022ce75ada7\",\"type\":\"LogScale\"},{\"attributes\":{\"items\":[{\"id\":\"ead7596e-4271-4d2d-b370-e98d058299cb\",\"type\":\"LegendItem\"}],\"label_text_font_size\":{\"value\":\"8pt\"},\"location\":\"top_center\",\"orientation\":\"horizontal\",\"plot\":{\"id\":\"78561eb0-d7f5-42a2-a7bb-3b122f5f9767\",\"subtype\":\"Figure\",\"type\":\"Plot\"}},\"id\":\"2f849127-bb05-413c-8be3-6f9b352637db\",\"type\":\"Legend\"},{\"attributes\":{\"source\":{\"id\":\"3968b7f9-b10d-4b92-b464-e6925f86720f\",\"type\":\"ColumnDataSource\"}},\"id\":\"175d7bca-6acd-4f6a-b1e0-7f0552f2bd3c\",\"type\":\"CDSView\"},{\"attributes\":{\"num_minor_ticks\":10},\"id\":\"33d6445f-8657-4714-b7e0-fbf986402f4a\",\"type\":\"LogTicker\"},{\"attributes\":{\"fill_alpha\":{\"value\":0.7},\"fill_color\":{\"value\":\"#4daf4a\"},\"line_alpha\":{\"value\":0.7},\"line_color\":{\"value\":\"#4daf4a\"},\"x\":{\"field\":\"x\"},\"y\":{\"field\":\"y\"}},\"id\":\"697d38b7-87fa-4008-a2e2-0799e7b2ff38\",\"type\":\"Circle\"},{\"attributes\":{\"plot\":{\"id\":\"78561eb0-d7f5-42a2-a7bb-3b122f5f9767\",\"subtype\":\"Figure\",\"type\":\"Plot\"},\"ticker\":{\"id\":\"f5eaeede-32d4-44b1-9def-2be9f3ec91ee\",\"type\":\"BasicTicker\"}},\"id\":\"68b0ea32-653c-4d0a-b72d-a411c6cd20c2\",\"type\":\"Grid\"},{\"attributes\":{\"callback\":null,\"end\":0.01,\"start\":1020},\"id\":\"60024e1e-898b-4040-9e5f-55d80267dd3a\",\"type\":\"Range1d\"},{\"attributes\":{\"label\":{\"value\":\"CRD\"},\"renderers\":[{\"id\":\"19915b96-4efa-41a0-a034-dcdd5cda68b3\",\"type\":\"GlyphRenderer\"},{\"id\":\"ae9513a7-2760-48a2-899b-8308478fa90b\",\"type\":\"GlyphRenderer\"}]},\"id\":\"91264a7b-e07e-4bb6-9ece-22d8231f98e0\",\"type\":\"LegendItem\"},{\"attributes\":{\"source\":{\"id\":\"f7788dd5-f3e6-440a-8bd7-8863dba2390d\",\"type\":\"ColumnDataSource\"}},\"id\":\"68a67d4b-fc98-4d0c-95b4-9dd63a742426\",\"type\":\"CDSView\"},{\"attributes\":{},\"id\":\"0c562918-5427-4c64-959a-31cb6459360a\",\"type\":\"BasicTickFormatter\"},{\"attributes\":{},\"id\":\"09ccb5a3-20cb-431b-99bb-9dc35ab3f272\",\"type\":\"LinearScale\"},{\"attributes\":{\"source\":{\"id\":\"238931e6-f51d-47db-ac23-0287b85cc94e\",\"type\":\"ColumnDataSource\"}},\"id\":\"406af4ac-c30f-43d7-91d1-e512353edaa5\",\"type\":\"CDSView\"},{\"attributes\":{},\"id\":\"3862abea-0641-48dc-873d-d8b7d83182f5\",\"type\":\"UnionRenderers\"},{\"attributes\":{\"line_alpha\":0.6,\"line_color\":\"#377eb8\",\"line_dash\":[6],\"line_width\":5,\"x\":{\"field\":\"x\"},\"y\":{\"field\":\"y\"}},\"id\":\"054c0d0e-57f1-473c-8710-bcbe3eb6431d\",\"type\":\"Line\"},{\"attributes\":{\"callback\":null,\"data\":{\"x\":{\"__ndarray__\":\"cm1sTMT3VEDEyvjosEJHQOKI6DjzCUNArgQWV9awPkB9Lm8XG3M4QEz+Qv6iYzNA7eV8HaPLLkCX1QHyTpMoQFBmYSYetiNAUB04GtGpH0AmFyVE5j8ZQJca9QPGqBNALJP+OOHHDEBNxaf7QF8AQKtislomWuw/cW2dcO6A9T/uJJvfPu0EQIaQLTI/JQ1AxGiII+PmEkCJvfVeuCsYQD6ZBhGbHB9AXQw69DTYJEAsubcwKucqQNuT9D5OmipAJyi3szEJJUBlNebh5WkgQDDcPHBr2xlArtlANXuQFEBdJadFHckQQI2Avh0ZsQtAjYiwt1rsBUCL0SDoVBgAQK6C0nEEjvc/CggLSme58T9sXU2orFPnP0v0JYz9Gdg/vT38vxYczD9nBQTe6kHHP1IhkEXJwKo/8OZnhCVAub+xtVgCpmqzP6DUpY6g0+k/PKK3T1h4+D8RTDjQc1EAQG/dAQs7TwJAQt2eHpPLAEBWEh074x//PyCap9ZSGf4/rEzaTySm/T+7aXhHRmr9P688KeqeNP0/ruZ4EemD/D8olrZcn9T7P0+vNc9hW/s/i9VVL+4P+z+0NzC24uz6P8731Kza8vo/xFf4SHzq+z+gYyHpvHb8P68ROkiFevw/BAjYdCga/D8AUp8VbW77P3JrF/nKmvo/qCQeGfq++T/dplwHJfn4P2G4p+Uva/g/OzZ0RqMZ+D8dmn/iar73P/OuA7Ka8PY/gaaeQHGn9T9hkyjAH1L0P3aZGhdAU/M/n8VP/g7P8j+90HxHNvfyPwhNBtgrqvk/\",\"dtype\":\"float64\",\"shape\":[75]},\"y\":{\"__ndarray__\":\"GhExyth1ND/Sv8nbtpRIP2vylNV0PVE/aTum7souWD/At0SJ8fVgPw3Iuahxymc/MSNhhJWvcD/bTfBN02d3P2zb5nxnaoA/CD5h5MAGhz8NmeH1TyaQP+zrCsc9p5Y/LbKd76fGnz/bLW5ISEmmPww9YvTcQq8/JV2OstnstT8Er5Y7M8G+P0c+r3jqkcU/5h99k6ZBzj88bCIzFzjVP4enV8oyxN0//yH99nXg5D8qOpLLf0jtP5kqGJXUifQ/c9cS8kHP/D+/DpwzojQEQIEmwoanVwxA4lgXt9HgE0BSSZ2AJuIbQAMJih9jjiNA5q4l5INuK0AwTKYKRj0zQNv5fmq8/DpAaCJseHrtQkB/+zpwzoxKQM3MzMzMeFJAZmZmZmZqWEAAAAAAAFxeQM3MzMzMJmJAmpmZmZkfZUBmZmZmZhhoQDMzMzMzEWtAAAAAAAAKbkBmZmZmZoFwQM3MzMzM/XFAMzMzMzN6c0CamZmZmfZ0QAAAAAAAc3ZAZmZmZmbvd0DNzMzMzGt5QDMzMzMz6HpAmpmZmZlkfEAAAAAAAOF9QGZmZmZmXX9AZmZmZuZsgECamZmZGSuBQM3MzMxM6YFAAAAAAICngkAzMzMzs2WDQGZmZmbmI4RAmpmZmRnihEDNzMzMTKCFQAAAAACAXoZAMzMzM7Mch0BmZmZm5tqHQJqZmZkZmYhAzczMzExXiUAAAAAAgBWKQDMzMzOz04pAZmZmZuaRi0CamZmZGVCMQM3MzMxMDo1AAAAAAIDMjUAzMzMzs4qOQGZmZmbmSI9A\",\"dtype\":\"float64\",\"shape\":[75]}},\"selected\":{\"id\":\"11064754-843c-4a30-a210-0d6c0dc44497\",\"type\":\"Selection\"},\"selection_policy\":{\"id\":\"8ecd449e-c64d-4780-be22-8d8138ffced1\",\"type\":\"UnionRenderers\"}},\"id\":\"238931e6-f51d-47db-ac23-0287b85cc94e\",\"type\":\"ColumnDataSource\"},{\"attributes\":{},\"id\":\"d9b5ffe7-888f-4963-a2b5-cb5100da6c8e\",\"type\":\"LinearScale\"},{\"attributes\":{},\"id\":\"e378fcc5-4535-4e26-98f1-bb5e690ea611\",\"type\":\"Selection\"},{\"attributes\":{\"label\":{\"value\":\"CLIRAD (single-run)\"},\"renderers\":[{\"id\":\"99567ee5-8fe2-4a12-b8ab-62cf6d0ee99b\",\"type\":\"GlyphRenderer\"}]},\"id\":\"a7c4a93a-3277-40cc-b1b3-0f5df87b3dc1\",\"type\":\"LegendItem\"},{\"attributes\":{\"callback\":null,\"data\":{\"x\":{\"__ndarray__\":\"cm1sTMT3VEDEyvjosEJHQOKI6DjzCUNArgQWV9awPkB9Lm8XG3M4QEz+Qv6iYzNA7eV8HaPLLkCX1QHyTpMoQFBmYSYetiNAUB04GtGpH0AmFyVE5j8ZQJca9QPGqBNALJP+OOHHDEBNxaf7QF8AQKtislomWuw/cW2dcO6A9T/uJJvfPu0EQIaQLTI/JQ1AxGiII+PmEkCJvfVeuCsYQD6ZBhGbHB9AXQw69DTYJEAsubcwKucqQNuT9D5OmipAJyi3szEJJUBlNebh5WkgQDDcPHBr2xlArtlANXuQFEBdJadFHckQQI2Avh0ZsQtAjYiwt1rsBUCL0SDoVBgAQK6C0nEEjvc/CggLSme58T9sXU2orFPnP0v0JYz9Gdg/vT38vxYczD9nBQTe6kHHP1IhkEXJwKo/8OZnhCVAub+xtVgCpmqzP6DUpY6g0+k/PKK3T1h4+D8RTDjQc1EAQG/dAQs7TwJAQt2eHpPLAEBWEh074x//PyCap9ZSGf4/rEzaTySm/T+7aXhHRmr9P688KeqeNP0/ruZ4EemD/D8olrZcn9T7P0+vNc9hW/s/i9VVL+4P+z+0NzC24uz6P8731Kza8vo/xFf4SHzq+z+gYyHpvHb8P68ROkiFevw/BAjYdCga/D8AUp8VbW77P3JrF/nKmvo/qCQeGfq++T/dplwHJfn4P2G4p+Uva/g/OzZ0RqMZ+D8dmn/iar73P/OuA7Ka8PY/gaaeQHGn9T9hkyjAH1L0P3aZGhdAU/M/n8VP/g7P8j+90HxHNvfyPwhNBtgrqvk/\",\"dtype\":\"float64\",\"shape\":[75]},\"y\":{\"__ndarray__\":\"GhExyth1ND/Sv8nbtpRIP2vylNV0PVE/aTum7souWD/At0SJ8fVgPw3Iuahxymc/MSNhhJWvcD/bTfBN02d3P2zb5nxnaoA/CD5h5MAGhz8NmeH1TyaQP+zrCsc9p5Y/LbKd76fGnz/bLW5ISEmmPww9YvTcQq8/JV2OstnstT8Er5Y7M8G+P0c+r3jqkcU/5h99k6ZBzj88bCIzFzjVP4enV8oyxN0//yH99nXg5D8qOpLLf0jtP5kqGJXUifQ/c9cS8kHP/D+/DpwzojQEQIEmwoanVwxA4lgXt9HgE0BSSZ2AJuIbQAMJih9jjiNA5q4l5INuK0AwTKYKRj0zQNv5fmq8/DpAaCJseHrtQkB/+zpwzoxKQM3MzMzMeFJAZmZmZmZqWEAAAAAAAFxeQM3MzMzMJmJAmpmZmZkfZUBmZmZmZhhoQDMzMzMzEWtAAAAAAAAKbkBmZmZmZoFwQM3MzMzM/XFAMzMzMzN6c0CamZmZmfZ0QAAAAAAAc3ZAZmZmZmbvd0DNzMzMzGt5QDMzMzMz6HpAmpmZmZlkfEAAAAAAAOF9QGZmZmZmXX9AZmZmZuZsgECamZmZGSuBQM3MzMxM6YFAAAAAAICngkAzMzMzs2WDQGZmZmbmI4RAmpmZmRnihEDNzMzMTKCFQAAAAACAXoZAMzMzM7Mch0BmZmZm5tqHQJqZmZkZmYhAzczMzExXiUAAAAAAgBWKQDMzMzOz04pAZmZmZuaRi0CamZmZGVCMQM3MzMxMDo1AAAAAAIDMjUAzMzMzs4qOQGZmZmbmSI9A\",\"dtype\":\"float64\",\"shape\":[75]}},\"selected\":{\"id\":\"a9d75ce0-a9e2-42b7-99e2-62c667c6e55a\",\"type\":\"Selection\"},\"selection_policy\":{\"id\":\"0412c222-d5b4-4af8-a7d1-735001bd3c2c\",\"type\":\"UnionRenderers\"}},\"id\":\"48755e9a-503e-4f15-81c5-4708f47ab2c4\",\"type\":\"ColumnDataSource\"},{\"attributes\":{},\"id\":\"9ac35eb5-8b5c-4e86-b8e1-7695000fa362\",\"type\":\"LinearScale\"},{\"attributes\":{\"plot\":null,\"text\":\"\"},\"id\":\"daef84b6-e2ef-4b2f-9fb9-32c51ee25eed\",\"type\":\"Title\"},{\"attributes\":{\"items\":[{\"id\":\"a7c4a93a-3277-40cc-b1b3-0f5df87b3dc1\",\"type\":\"LegendItem\"},{\"id\":\"91264a7b-e07e-4bb6-9ece-22d8231f98e0\",\"type\":\"LegendItem\"}],\"label_text_font_size\":{\"value\":\"8pt\"},\"location\":\"top_center\",\"orientation\":\"horizontal\",\"plot\":{\"id\":\"7688df65-7eff-4426-9e64-4db299a64726\",\"subtype\":\"Figure\",\"type\":\"Plot\"}},\"id\":\"a2b0e397-10be-4347-834f-bd9966639688\",\"type\":\"Legend\"},{\"attributes\":{},\"id\":\"c5a0cec3-33e5-48b4-aa0e-3d3eb820c7da\",\"type\":\"LinearScale\"},{\"attributes\":{\"dimension\":1,\"plot\":{\"id\":\"5bd99fdf-f6ae-40e4-9887-9476c7f3895c\",\"subtype\":\"Figure\",\"type\":\"Plot\"},\"ticker\":{\"id\":\"33d6445f-8657-4714-b7e0-fbf986402f4a\",\"type\":\"LogTicker\"}},\"id\":\"f9102661-2ec8-4163-8c3b-204993cc4a0b\",\"type\":\"Grid\"},{\"attributes\":{\"above\":[{\"id\":\"a2b0e397-10be-4347-834f-bd9966639688\",\"type\":\"Legend\"}],\"below\":[{\"id\":\"36ab3d26-7ea1-41b5-9292-6837581b1532\",\"type\":\"LinearAxis\"}],\"left\":[{\"id\":\"c490368d-e0f5-43ca-9c54-9bfe740f4bcd\",\"type\":\"LinearAxis\"}],\"plot_width\":300,\"renderers\":[{\"id\":\"36ab3d26-7ea1-41b5-9292-6837581b1532\",\"type\":\"LinearAxis\"},{\"id\":\"1414beda-e2fb-4972-bccb-63574988ff3a\",\"type\":\"Grid\"},{\"id\":\"c490368d-e0f5-43ca-9c54-9bfe740f4bcd\",\"type\":\"LinearAxis\"},{\"id\":\"cb5b89ee-2a71-4a1b-8dfa-d8ae45efea64\",\"type\":\"Grid\"},{\"id\":\"32040057-17a5-440d-89d2-c129c37913fe\",\"type\":\"BoxAnnotation\"},{\"id\":\"99567ee5-8fe2-4a12-b8ab-62cf6d0ee99b\",\"type\":\"GlyphRenderer\"},{\"id\":\"19915b96-4efa-41a0-a034-dcdd5cda68b3\",\"type\":\"GlyphRenderer\"},{\"id\":\"ae9513a7-2760-48a2-899b-8308478fa90b\",\"type\":\"GlyphRenderer\"},{\"id\":\"a2b0e397-10be-4347-834f-bd9966639688\",\"type\":\"Legend\"}],\"title\":{\"id\":\"daef84b6-e2ef-4b2f-9fb9-32c51ee25eed\",\"type\":\"Title\"},\"toolbar\":{\"id\":\"923366b1-c8d3-4f0c-9b8b-c3744c38052d\",\"type\":\"Toolbar\"},\"toolbar_location\":null,\"x_range\":{\"id\":\"0805698e-c6e9-4ffd-b877-919ff8be1a8e\",\"type\":\"Range1d\"},\"x_scale\":{\"id\":\"d9b5ffe7-888f-4963-a2b5-cb5100da6c8e\",\"type\":\"LinearScale\"},\"y_range\":{\"id\":\"5473caab-cdf9-4f37-b115-e8f7edbe4406\",\"type\":\"Range1d\"},\"y_scale\":{\"id\":\"09ccb5a3-20cb-431b-99bb-9dc35ab3f272\",\"type\":\"LinearScale\"}},\"id\":\"7688df65-7eff-4426-9e64-4db299a64726\",\"subtype\":\"Figure\",\"type\":\"Plot\"},{\"attributes\":{\"items\":[{\"id\":\"5defedcd-e758-4c5e-99ce-14814f3f494c\",\"type\":\"LegendItem\"},{\"id\":\"82369e60-ac7f-490a-95b4-d3bfe8dc3482\",\"type\":\"LegendItem\"}],\"label_text_font_size\":{\"value\":\"8pt\"},\"location\":\"top_center\",\"orientation\":\"horizontal\",\"plot\":{\"id\":\"5bd99fdf-f6ae-40e4-9887-9476c7f3895c\",\"subtype\":\"Figure\",\"type\":\"Plot\"}},\"id\":\"50f8502b-1f85-4e1c-bb0b-fb93e591a51b\",\"type\":\"Legend\"},{\"attributes\":{\"source\":{\"id\":\"48755e9a-503e-4f15-81c5-4708f47ab2c4\",\"type\":\"ColumnDataSource\"}},\"id\":\"1e5a428c-c722-4a88-8c3e-4c95aa6a3614\",\"type\":\"CDSView\"},{\"attributes\":{},\"id\":\"a5dd4c91-3592-41b0-9738-659f411552c7\",\"type\":\"UnionRenderers\"},{\"attributes\":{\"label\":{\"value\":\"CLIRAD (single-run) - CRD\"},\"renderers\":[{\"id\":\"b1946516-f1ca-4873-a01f-5f2650e40ffa\",\"type\":\"GlyphRenderer\"},{\"id\":\"638f8bef-4494-42c4-ac4c-b9b8a8feb883\",\"type\":\"GlyphRenderer\"}]},\"id\":\"ead7596e-4271-4d2d-b370-e98d058299cb\",\"type\":\"LegendItem\"},{\"attributes\":{\"data_source\":{\"id\":\"48755e9a-503e-4f15-81c5-4708f47ab2c4\",\"type\":\"ColumnDataSource\"},\"glyph\":{\"id\":\"697d38b7-87fa-4008-a2e2-0799e7b2ff38\",\"type\":\"Circle\"},\"hover_glyph\":null,\"muted_glyph\":null,\"nonselection_glyph\":{\"id\":\"fe02a8f8-c6c4-4b93-87ec-91fe9b2f484f\",\"type\":\"Circle\"},\"selection_glyph\":null,\"view\":{\"id\":\"1e5a428c-c722-4a88-8c3e-4c95aa6a3614\",\"type\":\"CDSView\"}},\"id\":\"19915b96-4efa-41a0-a034-dcdd5cda68b3\",\"type\":\"GlyphRenderer\"},{\"attributes\":{\"callback\":null,\"data\":{\"x\":{\"__ndarray__\":\"zcbUSk4YRMC/t1RLLK8gwGgVoL8IdALAc2CvKYi+/D/WVGaYomIOQINDLNfHyQ5ATcn83NwdBEDjDoeRfSjlP6Tfcs8XtOm/XgX4iCfY9b+PLllCI4zxv5TUqz5qMt+/QAV5OtRxsD94dWBXha7ZP8s7cbrqId8/tHfa2I021D/WrP38Z0yhP7qXnRpUt9C/jJpA4nk24L+GQcwnTangvx+q+rEpAdK/YCpV0rAKf7/6SkNcm7erv9qulEq35dO/IL+KYvVf178vB2bNqmWxv3ge6ffHfNg/UYVujm1M1z8fTZ/eStC3P/el+nP5iZc/d0yJW3Td0D/Qyl4ZdpnVP72KkmMYvcM/U4vC2HT0nL+30tlLbQVzP67JoZwkca4/YjAXfRfEfj+3GE+cJeqrv55qzCqo3ra/CNACqw6Gub/Lzryy0OW1v3CWnR0RirC/fCH3lL03r790OO8tH0Gdv+C6ZE327ba/BI1vAb+ZuL8H8hkOEY2rv+ywHWND6a6/KByQS/e2s79kxtwCOOeyvy+5G51Pp6u/Dj2bIg2zor9AMUjjQV6Yv+tSf9+W5JS/1vhJGZ+nlL8OV5NUG12Zv4zH8GxYWZu/nWXRqPq9k7/I/+lrNaJWPz6raLO3gqA/+dqfno5trD+mc/ksGu2tP3Iw9W9ufqU/ln1uoZnSlT/gYVf+sHFaP8DNw9d/J0I/3myhCAKUgT96L1QXU12eP4RfxiHWc6g/4xbvBFGwrz/ydex8TB+yP3YKkvhFW7M/Vg5TMCEltD+MCiXwn9e0P8lQ/rZzVrQ/\",\"dtype\":\"float64\",\"shape\":[75]},\"y\":{\"__ndarray__\":\"GhExyth1ND/Sv8nbtpRIP2vylNV0PVE/aTum7souWD/At0SJ8fVgPw3Iuahxymc/MSNhhJWvcD/bTfBN02d3P2zb5nxnaoA/CD5h5MAGhz8NmeH1TyaQP+zrCsc9p5Y/LbKd76fGnz/bLW5ISEmmPww9YvTcQq8/JV2OstnstT8Er5Y7M8G+P0c+r3jqkcU/5h99k6ZBzj88bCIzFzjVP4enV8oyxN0//yH99nXg5D8qOpLLf0jtP5kqGJXUifQ/c9cS8kHP/D+/DpwzojQEQIEmwoanVwxA4lgXt9HgE0BSSZ2AJuIbQAMJih9jjiNA5q4l5INuK0AwTKYKRj0zQNv5fmq8/DpAaCJseHrtQkB/+zpwzoxKQM3MzMzMeFJAZmZmZmZqWEAAAAAAAFxeQM3MzMzMJmJAmpmZmZkfZUBmZmZmZhhoQDMzMzMzEWtAAAAAAAAKbkBmZmZmZoFwQM3MzMzM/XFAMzMzMzN6c0CamZmZmfZ0QAAAAAAAc3ZAZmZmZmbvd0DNzMzMzGt5QDMzMzMz6HpAmpmZmZlkfEAAAAAAAOF9QGZmZmZmXX9AZmZmZuZsgECamZmZGSuBQM3MzMxM6YFAAAAAAICngkAzMzMzs2WDQGZmZmbmI4RAmpmZmRnihEDNzMzMTKCFQAAAAACAXoZAMzMzM7Mch0BmZmZm5tqHQJqZmZkZmYhAzczMzExXiUAAAAAAgBWKQDMzMzOz04pAZmZmZuaRi0CamZmZGVCMQM3MzMxMDo1AAAAAAIDMjUAzMzMzs4qOQGZmZmbmSI9A\",\"dtype\":\"float64\",\"shape\":[75]}},\"selected\":{\"id\":\"dd85399a-af47-4cba-8062-91138c9325dd\",\"type\":\"Selection\"},\"selection_policy\":{\"id\":\"9a41e6f2-00a3-4b5c-ac5e-61c31f431b53\",\"type\":\"UnionRenderers\"}},\"id\":\"2fd9ad68-3535-46a8-8413-81d17e53e1b2\",\"type\":\"ColumnDataSource\"},{\"attributes\":{\"fill_alpha\":{\"value\":0.1},\"fill_color\":{\"value\":\"#1f77b4\"},\"line_alpha\":{\"value\":0.1},\"line_color\":{\"value\":\"#1f77b4\"},\"x\":{\"field\":\"x\"},\"y\":{\"field\":\"y\"}},\"id\":\"fe02a8f8-c6c4-4b93-87ec-91fe9b2f484f\",\"type\":\"Circle\"},{\"attributes\":{\"bottom_units\":\"screen\",\"fill_alpha\":{\"value\":0.5},\"fill_color\":{\"value\":\"lightgrey\"},\"left_units\":\"screen\",\"level\":\"overlay\",\"line_alpha\":{\"value\":1.0},\"line_color\":{\"value\":\"black\"},\"line_dash\":[4,4],\"line_width\":{\"value\":2},\"plot\":null,\"render_mode\":\"css\",\"right_units\":\"screen\",\"top_units\":\"screen\"},\"id\":\"32040057-17a5-440d-89d2-c129c37913fe\",\"type\":\"BoxAnnotation\"},{\"attributes\":{},\"id\":\"1d11b388-610f-4f7c-aa99-cd0bc8041d2e\",\"type\":\"BasicTickFormatter\"},{\"attributes\":{\"axis_label\":\"pressure [mb]\",\"formatter\":{\"id\":\"0c562918-5427-4c64-959a-31cb6459360a\",\"type\":\"BasicTickFormatter\"},\"plot\":{\"id\":\"7688df65-7eff-4426-9e64-4db299a64726\",\"subtype\":\"Figure\",\"type\":\"Plot\"},\"ticker\":{\"id\":\"7973e2c2-b4df-4924-8b59-48268fe1b71b\",\"type\":\"BasicTicker\"}},\"id\":\"c490368d-e0f5-43ca-9c54-9bfe740f4bcd\",\"type\":\"LinearAxis\"},{\"attributes\":{},\"id\":\"b41ff1b2-cd65-4171-838e-5466537e2cec\",\"type\":\"WheelZoomTool\"},{\"attributes\":{},\"id\":\"2b9ae0ea-d415-4db8-b0bf-d6a6f39e7347\",\"type\":\"UnionRenderers\"},{\"attributes\":{\"ticker\":null},\"id\":\"a204b3ca-4919-444c-894e-cd1c05633823\",\"type\":\"LogTickFormatter\"},{\"attributes\":{\"line_alpha\":0.1,\"line_color\":\"#1f77b4\",\"line_dash\":[6],\"line_width\":5,\"x\":{\"field\":\"x\"},\"y\":{\"field\":\"y\"}},\"id\":\"9a10573c-05d9-4e58-8282-5d99895b32df\",\"type\":\"Line\"},{\"attributes\":{},\"id\":\"b7a27331-3a94-477f-9537-a489bcd02277\",\"type\":\"HelpTool\"},{\"attributes\":{\"callback\":null,\"end\":0.01,\"start\":1020},\"id\":\"5473caab-cdf9-4f37-b115-e8f7edbe4406\",\"type\":\"Range1d\"},{\"attributes\":{},\"id\":\"7973e2c2-b4df-4924-8b59-48268fe1b71b\",\"type\":\"BasicTicker\"},{\"attributes\":{},\"id\":\"b76daf08-8d58-48a0-81cc-05173d3b47a9\",\"type\":\"PanTool\"},{\"attributes\":{\"children\":[{\"id\":\"df4c2736-1302-4d0f-bea7-c27b9e483fa6\",\"type\":\"ToolbarBox\"},{\"id\":\"51c570f5-8951-465c-8145-2e3d7399e641\",\"type\":\"Column\"}]},\"id\":\"e0cba98b-d4a6-44fd-9462-0dafabdf452f\",\"type\":\"Column\"},{\"attributes\":{\"dimension\":1,\"plot\":{\"id\":\"7688df65-7eff-4426-9e64-4db299a64726\",\"subtype\":\"Figure\",\"type\":\"Plot\"},\"ticker\":{\"id\":\"7973e2c2-b4df-4924-8b59-48268fe1b71b\",\"type\":\"BasicTicker\"}},\"id\":\"cb5b89ee-2a71-4a1b-8dfa-d8ae45efea64\",\"type\":\"Grid\"},{\"attributes\":{\"overlay\":{\"id\":\"32040057-17a5-440d-89d2-c129c37913fe\",\"type\":\"BoxAnnotation\"}},\"id\":\"36eee8f9-3815-4ee7-acd4-096a96f1c1cc\",\"type\":\"BoxZoomTool\"},{\"attributes\":{\"above\":[{\"id\":\"50f8502b-1f85-4e1c-bb0b-fb93e591a51b\",\"type\":\"Legend\"}],\"below\":[{\"id\":\"bb3849c0-2797-491a-a254-d19c15a0635b\",\"type\":\"LinearAxis\"}],\"left\":[{\"id\":\"035e6afd-b5b0-4e85-b9db-8695c9d45c5b\",\"type\":\"LogAxis\"}],\"plot_width\":300,\"renderers\":[{\"id\":\"bb3849c0-2797-491a-a254-d19c15a0635b\",\"type\":\"LinearAxis\"},{\"id\":\"4996181a-eb76-4936-a358-24e997f2231b\",\"type\":\"Grid\"},{\"id\":\"035e6afd-b5b0-4e85-b9db-8695c9d45c5b\",\"type\":\"LogAxis\"},{\"id\":\"f9102661-2ec8-4163-8c3b-204993cc4a0b\",\"type\":\"Grid\"},{\"id\":\"940642e9-12a1-4d29-964c-1203c1f9b6d6\",\"type\":\"BoxAnnotation\"},{\"id\":\"d21cc9e9-60ae-41d8-87a6-ff1fe8e031e2\",\"type\":\"GlyphRenderer\"},{\"id\":\"46696d6f-fc44-41f6-94f7-4ed5020ca346\",\"type\":\"GlyphRenderer\"},{\"id\":\"2113a8ba-baa8-47cf-9fd1-69e56f591d3d\",\"type\":\"GlyphRenderer\"},{\"id\":\"50f8502b-1f85-4e1c-bb0b-fb93e591a51b\",\"type\":\"Legend\"}],\"title\":{\"id\":\"e7db16a1-0311-49b0-a5fb-78aa04d5b499\",\"type\":\"Title\"},\"toolbar\":{\"id\":\"d7c9ed64-ed67-4601-91a6-cee2ab48ab28\",\"type\":\"Toolbar\"},\"toolbar_location\":null,\"x_range\":{\"id\":\"9ff6f9d8-94e8-4083-90ce-456988638049\",\"type\":\"Range1d\"},\"x_scale\":{\"id\":\"c5a0cec3-33e5-48b4-aa0e-3d3eb820c7da\",\"type\":\"LinearScale\"},\"y_range\":{\"id\":\"60024e1e-898b-4040-9e5f-55d80267dd3a\",\"type\":\"Range1d\"},\"y_scale\":{\"id\":\"690039ff-df29-45a9-8f19-a18bddad6c9e\",\"type\":\"LogScale\"}},\"id\":\"5bd99fdf-f6ae-40e4-9887-9476c7f3895c\",\"subtype\":\"Figure\",\"type\":\"Plot\"},{\"attributes\":{\"callback\":null,\"end\":0.01,\"start\":1020},\"id\":\"702b20e3-a008-4d36-9272-ed109cc76660\",\"type\":\"Range1d\"},{\"attributes\":{},\"id\":\"dd85399a-af47-4cba-8062-91138c9325dd\",\"type\":\"Selection\"},{\"attributes\":{},\"id\":\"a5b223b1-5d53-40b0-999d-33606ddd2a1e\",\"type\":\"UnionRenderers\"},{\"attributes\":{},\"id\":\"c2aa8a2f-6f6b-4101-a542-7b4d40f2ccef\",\"type\":\"ResetTool\"},{\"attributes\":{},\"id\":\"a6d51352-d41e-42d9-a9b8-659c0c322833\",\"type\":\"Selection\"},{\"attributes\":{},\"id\":\"11064754-843c-4a30-a210-0d6c0dc44497\",\"type\":\"Selection\"},{\"attributes\":{\"label\":{\"value\":\"CRD\"},\"renderers\":[{\"id\":\"46696d6f-fc44-41f6-94f7-4ed5020ca346\",\"type\":\"GlyphRenderer\"},{\"id\":\"2113a8ba-baa8-47cf-9fd1-69e56f591d3d\",\"type\":\"GlyphRenderer\"}]},\"id\":\"82369e60-ac7f-490a-95b4-d3bfe8dc3482\",\"type\":\"LegendItem\"},{\"attributes\":{\"plot\":null,\"text\":\"\"},\"id\":\"d0d5130a-0a63-49b8-a050-d0341c74b4af\",\"type\":\"Title\"},{\"attributes\":{\"tools\":[{\"id\":\"b76daf08-8d58-48a0-81cc-05173d3b47a9\",\"type\":\"PanTool\"},{\"id\":\"b41ff1b2-cd65-4171-838e-5466537e2cec\",\"type\":\"WheelZoomTool\"},{\"id\":\"36eee8f9-3815-4ee7-acd4-096a96f1c1cc\",\"type\":\"BoxZoomTool\"},{\"id\":\"b0d2b7c1-1483-4b4a-bc94-b18023e8f0c5\",\"type\":\"SaveTool\"},{\"id\":\"c2aa8a2f-6f6b-4101-a542-7b4d40f2ccef\",\"type\":\"ResetTool\"},{\"id\":\"b7a27331-3a94-477f-9537-a489bcd02277\",\"type\":\"HelpTool\"},{\"id\":\"75d3057e-61a5-4846-b6f8-ec80b0f7f369\",\"type\":\"PanTool\"},{\"id\":\"ed16069c-974b-42c8-91b6-565aee0e0121\",\"type\":\"WheelZoomTool\"},{\"id\":\"f1f097cf-a7c8-4922-b169-bc544eb7a82d\",\"type\":\"BoxZoomTool\"},{\"id\":\"6a83ad55-849e-42ce-8301-5d997f33929b\",\"type\":\"SaveTool\"},{\"id\":\"b3ed145f-5729-4ab3-8397-781013e198b3\",\"type\":\"ResetTool\"},{\"id\":\"41651b87-07f2-4cf6-b8d3-04e4ddac937a\",\"type\":\"HelpTool\"},{\"id\":\"b50f0dff-95a5-4450-b267-eb2482aca74e\",\"type\":\"PanTool\"},{\"id\":\"5e35f5aa-f65f-4132-8942-3071539098ac\",\"type\":\"WheelZoomTool\"},{\"id\":\"9ce9db77-fbc0-404d-943f-66e9e010bb04\",\"type\":\"BoxZoomTool\"},{\"id\":\"35823fe9-f8ae-4a49-8cb9-5ca0018c3529\",\"type\":\"SaveTool\"},{\"id\":\"02883520-bf5a-4aa2-9c8b-60be716d3d60\",\"type\":\"ResetTool\"},{\"id\":\"64d214cb-e693-4425-9cae-dd6a4ff909c7\",\"type\":\"HelpTool\"}]},\"id\":\"3b0351cd-dcf9-4ea4-bc5d-54dd4bace5f9\",\"type\":\"ProxyToolbar\"},{\"attributes\":{},\"id\":\"0412c222-d5b4-4af8-a7d1-735001bd3c2c\",\"type\":\"UnionRenderers\"},{\"attributes\":{\"fill_alpha\":{\"value\":0.1},\"fill_color\":{\"value\":\"#1f77b4\"},\"line_alpha\":{\"value\":0.1},\"line_color\":{\"value\":\"#1f77b4\"},\"x\":{\"field\":\"x\"},\"y\":{\"field\":\"y\"}},\"id\":\"7aa5e7d9-f22c-405e-bd16-1f28dc0c0c96\",\"type\":\"Circle\"},{\"attributes\":{\"toolbar\":{\"id\":\"3b0351cd-dcf9-4ea4-bc5d-54dd4bace5f9\",\"type\":\"ProxyToolbar\"},\"toolbar_location\":\"above\"},\"id\":\"df4c2736-1302-4d0f-bea7-c27b9e483fa6\",\"type\":\"ToolbarBox\"},{\"attributes\":{},\"id\":\"a9d75ce0-a9e2-42b7-99e2-62c667c6e55a\",\"type\":\"Selection\"},{\"attributes\":{\"data_source\":{\"id\":\"2fd9ad68-3535-46a8-8413-81d17e53e1b2\",\"type\":\"ColumnDataSource\"},\"glyph\":{\"id\":\"b14b630f-9631-4064-b881-20a322d31e88\",\"type\":\"Circle\"},\"hover_glyph\":null,\"muted_glyph\":null,\"nonselection_glyph\":{\"id\":\"7aa5e7d9-f22c-405e-bd16-1f28dc0c0c96\",\"type\":\"Circle\"},\"selection_glyph\":null,\"view\":{\"id\":\"190f2357-e3da-4df0-b57b-4557b3912983\",\"type\":\"CDSView\"}},\"id\":\"b1946516-f1ca-4873-a01f-5f2650e40ffa\",\"type\":\"GlyphRenderer\"},{\"attributes\":{},\"id\":\"4a4d51ec-2876-41b0-a9be-e561c29eb7ea\",\"type\":\"Selection\"},{\"attributes\":{\"ticker\":null},\"id\":\"36361fb4-dce8-43ca-bd11-f107fc55f0ad\",\"type\":\"LogTickFormatter\"},{\"attributes\":{\"axis_label\":\"cooling rate [K/day]\",\"formatter\":{\"id\":\"1d11b388-610f-4f7c-aa99-cd0bc8041d2e\",\"type\":\"BasicTickFormatter\"},\"plot\":{\"id\":\"78561eb0-d7f5-42a2-a7bb-3b122f5f9767\",\"subtype\":\"Figure\",\"type\":\"Plot\"},\"ticker\":{\"id\":\"f5eaeede-32d4-44b1-9def-2be9f3ec91ee\",\"type\":\"BasicTicker\"}},\"id\":\"20a268f1-5b6c-4a24-9287-a7f4fe4cd27f\",\"type\":\"LinearAxis\"},{\"attributes\":{\"axis_label\":\"cooling rate [K/day]\",\"formatter\":{\"id\":\"0808a50f-91dd-49ae-95a1-85b335d7c5c3\",\"type\":\"BasicTickFormatter\"},\"plot\":{\"id\":\"5bd99fdf-f6ae-40e4-9887-9476c7f3895c\",\"subtype\":\"Figure\",\"type\":\"Plot\"},\"ticker\":{\"id\":\"557937fd-377b-480a-b8e1-213cefbb02d4\",\"type\":\"BasicTicker\"}},\"id\":\"bb3849c0-2797-491a-a254-d19c15a0635b\",\"type\":\"LinearAxis\"},{\"attributes\":{},\"id\":\"8ecd449e-c64d-4780-be22-8d8138ffced1\",\"type\":\"UnionRenderers\"},{\"attributes\":{},\"id\":\"9a41e6f2-00a3-4b5c-ac5e-61c31f431b53\",\"type\":\"UnionRenderers\"},{\"attributes\":{\"plot\":null,\"text\":\"\"},\"id\":\"e7db16a1-0311-49b0-a5fb-78aa04d5b499\",\"type\":\"Title\"},{\"attributes\":{\"callback\":null,\"data\":{\"x\":{\"__ndarray__\":\"FRQETjrXRUDWnCPW5RZDQIyH7qyy4kFAWX3YbF8+QEAY+Xtqbz88QLyGKPnbPDdAIAxeKo3pMUCERhrL1uUpQFY4aqncGiJA9xv6N8czGkCCy45z3dwUQE5dCmCftRFAVlvS2m9LDUD705OmEZUDQEiA9duN9fU/XgvU5pGO+j+hG49/cDIFQI/d2a5UDgtAclVA5xPgEEBaNfy5jhYWQJvu5nWI/B1AucEfnlPUJEDhdVuVcssqQGPun4Qg+ylALdKiCDJOJEBZaUuMGkcgQBZuu+83YxtAAsInDkIFFkCRoiFxXigRQNp1phAt4AtAHLIhQwkICEDlqkyrg8sCQAfURH6nBfo/3P2ndpVF8T8TEeWCt3nnP4Qtuh8i6Ns/PvfkezcSzT85P/B2YUfAP+OzCBCH/KK/e1u1Fxpjyb+/yCCDVdmDv9Qh8mpewuc/MukPY5p+9z+gbdyR8RYAQJi3lljLlwFA2GCTJsUGAEDHQqyyekP+P5isjrsIIv0/6koh27Rq/D9VnUrH0jv8P+ZeQG1kV/w/xQxkqFDu+z9jdSlVJnP7PwOyt3PPB/s/pq3wsk+9+j9W6t1Ibof6P680IUt1hfo/LhJVXoSb+z8eXnx2ZXz8PwlX1QWb/vw/3QbN6ZT9/D+cHQfn1V38P/YUl2y+Rvs/nd6jf0QW+j+1PJxzwf/4P9uwotV0bfg/FXmFSss8+D/b6twu4Df4P+7hEWM5tPc/Nx/GyPOk9j+/WveHFHT1Px+6o3b0iPQ/g/ZUEWER9D9mIX9GsET0PxMydhOT7/o/\",\"dtype\":\"float64\",\"shape\":[75]},\"y\":{\"__ndarray__\":\"GhExyth1ND/Sv8nbtpRIP2vylNV0PVE/aTum7souWD/At0SJ8fVgPw3Iuahxymc/MSNhhJWvcD/bTfBN02d3P2zb5nxnaoA/CD5h5MAGhz8NmeH1TyaQP+zrCsc9p5Y/LbKd76fGnz/bLW5ISEmmPww9YvTcQq8/JV2OstnstT8Er5Y7M8G+P0c+r3jqkcU/5h99k6ZBzj88bCIzFzjVP4enV8oyxN0//yH99nXg5D8qOpLLf0jtP5kqGJXUifQ/c9cS8kHP/D+/DpwzojQEQIEmwoanVwxA4lgXt9HgE0BSSZ2AJuIbQAMJih9jjiNA5q4l5INuK0AwTKYKRj0zQNv5fmq8/DpAaCJseHrtQkB/+zpwzoxKQM3MzMzMeFJAZmZmZmZqWEAAAAAAAFxeQM3MzMzMJmJAmpmZmZkfZUBmZmZmZhhoQDMzMzMzEWtAAAAAAAAKbkBmZmZmZoFwQM3MzMzM/XFAMzMzMzN6c0CamZmZmfZ0QAAAAAAAc3ZAZmZmZmbvd0DNzMzMzGt5QDMzMzMz6HpAmpmZmZlkfEAAAAAAAOF9QGZmZmZmXX9AZmZmZuZsgECamZmZGSuBQM3MzMxM6YFAAAAAAICngkAzMzMzs2WDQGZmZmbmI4RAmpmZmRnihEDNzMzMTKCFQAAAAACAXoZAMzMzM7Mch0BmZmZm5tqHQJqZmZkZmYhAzczMzExXiUAAAAAAgBWKQDMzMzOz04pAZmZmZuaRi0CamZmZGVCMQM3MzMxMDo1AAAAAAIDMjUAzMzMzs4qOQGZmZmbmSI9A\",\"dtype\":\"float64\",\"shape\":[75]}},\"selected\":{\"id\":\"e378fcc5-4535-4e26-98f1-bb5e690ea611\",\"type\":\"Selection\"},\"selection_policy\":{\"id\":\"3862abea-0641-48dc-873d-d8b7d83182f5\",\"type\":\"UnionRenderers\"}},\"id\":\"f7788dd5-f3e6-440a-8bd7-8863dba2390d\",\"type\":\"ColumnDataSource\"},{\"attributes\":{},\"id\":\"0808a50f-91dd-49ae-95a1-85b335d7c5c3\",\"type\":\"BasicTickFormatter\"},{\"attributes\":{},\"id\":\"8a0de59e-ca4a-44f0-98b8-e8ec2522344d\",\"type\":\"Selection\"}],\"root_ids\":[\"e0cba98b-d4a6-44fd-9462-0dafabdf452f\"]},\"title\":\"Bokeh Application\",\"version\":\"0.12.16\"}};\n",
       "  var render_items = [{\"docid\":\"244dfed6-f85c-41d5-9116-641b3d219bae\",\"elementid\":\"f29e92ca-0c90-4165-808b-987cbd1d69e6\",\"modelid\":\"e0cba98b-d4a6-44fd-9462-0dafabdf452f\"}];\n",
       "  root.Bokeh.embed.embed_items_notebook(docs_json, render_items);\n",
       "\n",
       "  }\n",
       "  if (root.Bokeh !== undefined) {\n",
       "    embed_document(root);\n",
       "  } else {\n",
       "    var attempts = 0;\n",
       "    var timer = setInterval(function(root) {\n",
       "      if (root.Bokeh !== undefined) {\n",
       "        embed_document(root);\n",
       "        clearInterval(timer);\n",
       "      }\n",
       "      attempts++;\n",
       "      if (attempts > 100) {\n",
       "        console.log(\"Bokeh: ERROR: Unable to run BokehJS code because BokehJS library is missing\")\n",
       "        clearInterval(timer);\n",
       "      }\n",
       "    }, 10, root)\n",
       "  }\n",
       "})(window);"
      ],
      "application/vnd.bokehjs_exec.v0+json": ""
     },
     "metadata": {
      "application/vnd.bokehjs_exec.v0+json": {
       "id": "e0cba98b-d4a6-44fd-9462-0dafabdf452f"
      }
     },
     "output_type": "display_data"
    },
    {
     "data": {
      "text/markdown": [
       "*FIGURE.* Cooling rates & difference."
      ],
      "text/plain": [
       "<IPython.core.display.Markdown object>"
      ]
     },
     "metadata": {},
     "output_type": "display_data"
    },
    {
     "data": {
      "text/html": [
       "<a id=\"Fluxes._mls.\"></a>"
      ],
      "text/plain": [
       "<IPython.core.display.HTML object>"
      ]
     },
     "metadata": {},
     "output_type": "display_data"
    },
    {
     "data": {
      "text/markdown": [
       "# Fluxes. mls."
      ],
      "text/plain": [
       "<IPython.core.display.Markdown object>"
      ]
     },
     "metadata": {},
     "output_type": "display_data"
    },
    {
     "data": {
      "text/html": [
       "\n",
       "<div class=\"bk-root\">\n",
       "    <div class=\"bk-plotdiv\" id=\"de506482-09b4-4c2c-a4de-6b1a773c43e0\"></div>\n",
       "</div>"
      ]
     },
     "metadata": {},
     "output_type": "display_data"
    },
    {
     "data": {
      "application/javascript": [
       "(function(root) {\n",
       "  function embed_document(root) {\n",
       "    \n",
       "  var docs_json = {\"4065eb05-ad35-460e-8a6a-5b87fc6adedb\":{\"roots\":{\"references\":[{\"attributes\":{\"active_drag\":\"auto\",\"active_inspect\":\"auto\",\"active_scroll\":\"auto\",\"active_tap\":\"auto\",\"tools\":[{\"id\":\"afbca505-e2fb-4601-884f-da68f8019f1a\",\"type\":\"PanTool\"},{\"id\":\"4a96ead1-354f-4611-a94a-a877d8916537\",\"type\":\"WheelZoomTool\"},{\"id\":\"bccad2fa-cdc6-444a-9c17-b2c17ae13b7b\",\"type\":\"BoxZoomTool\"},{\"id\":\"8ba9954d-6ac6-4685-b525-f92dee8a4d85\",\"type\":\"SaveTool\"},{\"id\":\"4941934f-4b0f-451c-beb9-de5c57cb6be3\",\"type\":\"ResetTool\"},{\"id\":\"3b2dbefb-12b7-4140-b3ee-132d654f9983\",\"type\":\"HelpTool\"}]},\"id\":\"764bae96-e55f-4da0-94f3-2f39c400c407\",\"type\":\"Toolbar\"},{\"attributes\":{\"toolbar\":{\"id\":\"c513fc81-48fa-4b41-afd8-ab3565528256\",\"type\":\"ProxyToolbar\"},\"toolbar_location\":\"above\"},\"id\":\"108d9142-f75e-4e14-9250-5469b4b2b066\",\"type\":\"ToolbarBox\"},{\"attributes\":{},\"id\":\"1385ef03-0c5c-430c-bde1-5e13185b17c5\",\"type\":\"SaveTool\"},{\"attributes\":{\"below\":[{\"id\":\"1ce2f50d-c596-4e84-9b0d-c0d7cedf73a1\",\"type\":\"CategoricalAxis\"}],\"left\":[{\"id\":\"2c575712-5e02-4401-ba6b-7ae7fe4ca9bc\",\"type\":\"LinearAxis\"}],\"plot_height\":300,\"plot_width\":300,\"renderers\":[{\"id\":\"1ce2f50d-c596-4e84-9b0d-c0d7cedf73a1\",\"type\":\"CategoricalAxis\"},{\"id\":\"d04a3275-f86a-41b3-9aa8-194ac53293b6\",\"type\":\"Grid\"},{\"id\":\"2c575712-5e02-4401-ba6b-7ae7fe4ca9bc\",\"type\":\"LinearAxis\"},{\"id\":\"3eaf433d-0423-44ad-a1d9-481ef26131d9\",\"type\":\"Grid\"},{\"id\":\"b328127e-cc87-4d11-8869-a5af5a040c8d\",\"type\":\"BoxAnnotation\"},{\"id\":\"eeed0929-0513-4751-8d69-bbbf50ba83b9\",\"type\":\"GlyphRenderer\"}],\"title\":{\"id\":\"7a23e509-6688-475d-b8c2-777520ffef43\",\"type\":\"Title\"},\"toolbar\":{\"id\":\"38d56ad3-571c-4235-85d4-2958e31c451a\",\"type\":\"Toolbar\"},\"toolbar_location\":null,\"x_range\":{\"id\":\"df6767c5-37a9-4faf-b5c3-f5d2f7de6bab\",\"type\":\"FactorRange\"},\"x_scale\":{\"id\":\"8973bc11-c740-49b7-bf5e-19aad246c0f0\",\"type\":\"CategoricalScale\"},\"y_range\":{\"id\":\"8aa97035-0e57-41d2-b58d-1c4e45cb1cc8\",\"type\":\"DataRange1d\"},\"y_scale\":{\"id\":\"b7c5d351-280e-467f-b4a1-2f6c9c4e1ce5\",\"type\":\"LinearScale\"}},\"id\":\"1b8daaba-1544-4df0-8d91-f2208858a5bb\",\"subtype\":\"Figure\",\"type\":\"Plot\"},{\"attributes\":{\"fill_color\":{\"value\":\"#1f77b4\"},\"line_color\":{\"value\":\"#1f77b4\"},\"top\":{\"field\":\"flux\"},\"width\":{\"value\":0.9},\"x\":{\"field\":\"band\"}},\"id\":\"753c384c-3b40-41e8-9b20-11787a0ede37\",\"type\":\"VBar\"},{\"attributes\":{},\"id\":\"4941934f-4b0f-451c-beb9-de5c57cb6be3\",\"type\":\"ResetTool\"},{\"attributes\":{\"plot\":null,\"text\":\"Atmosphere heating. CLIRAD (single-run) - CRD.\"},\"id\":\"70b97740-4f9b-4bc3-962d-8a8ca2bb899e\",\"type\":\"Title\"},{\"attributes\":{},\"id\":\"7d2ed9ba-193a-451a-b69e-7fcf1cc562ca\",\"type\":\"BasicTickFormatter\"},{\"attributes\":{},\"id\":\"b0f56b20-88b6-4ea4-9ee6-5d70043e6ddd\",\"type\":\"CategoricalTickFormatter\"},{\"attributes\":{},\"id\":\"a24115f0-1db9-48ef-a207-4dabcbd70e6e\",\"type\":\"BasicTickFormatter\"},{\"attributes\":{\"axis_label\":\"spectral band\",\"formatter\":{\"id\":\"a549c525-3a5f-43d3-aa92-d2f60608a7eb\",\"type\":\"CategoricalTickFormatter\"},\"plot\":{\"id\":\"e5f90429-2816-4b7e-a51f-b90b09b22c13\",\"subtype\":\"Figure\",\"type\":\"Plot\"},\"ticker\":{\"id\":\"b17ab2fc-61c9-4b32-9072-07f7953f6c04\",\"type\":\"CategoricalTicker\"}},\"id\":\"b80112c5-12da-4898-81af-34eb345c4547\",\"type\":\"CategoricalAxis\"},{\"attributes\":{\"tools\":[{\"id\":\"afbca505-e2fb-4601-884f-da68f8019f1a\",\"type\":\"PanTool\"},{\"id\":\"4a96ead1-354f-4611-a94a-a877d8916537\",\"type\":\"WheelZoomTool\"},{\"id\":\"bccad2fa-cdc6-444a-9c17-b2c17ae13b7b\",\"type\":\"BoxZoomTool\"},{\"id\":\"8ba9954d-6ac6-4685-b525-f92dee8a4d85\",\"type\":\"SaveTool\"},{\"id\":\"4941934f-4b0f-451c-beb9-de5c57cb6be3\",\"type\":\"ResetTool\"},{\"id\":\"3b2dbefb-12b7-4140-b3ee-132d654f9983\",\"type\":\"HelpTool\"},{\"id\":\"68adffa8-60b4-4e7c-bacf-eba22d772386\",\"type\":\"PanTool\"},{\"id\":\"da398dcd-8420-4269-bd54-bc68b6d2fcdc\",\"type\":\"WheelZoomTool\"},{\"id\":\"3beb6a0b-5719-4769-8fb3-626e8b89bf1f\",\"type\":\"BoxZoomTool\"},{\"id\":\"38c799b5-bef0-4194-8070-71b1cef81145\",\"type\":\"SaveTool\"},{\"id\":\"1de0309a-a57e-4089-a3fe-67ce95d26cc5\",\"type\":\"ResetTool\"},{\"id\":\"8ca547e3-7b8e-49a9-88e9-9fc4292ff68a\",\"type\":\"HelpTool\"},{\"id\":\"b5a6b98d-517a-468b-be4e-8f8026ce7934\",\"type\":\"PanTool\"},{\"id\":\"51116751-f194-4589-909e-551ef71a0b34\",\"type\":\"WheelZoomTool\"},{\"id\":\"5a585559-72a0-41de-a40f-e91be22e52eb\",\"type\":\"BoxZoomTool\"},{\"id\":\"1385ef03-0c5c-430c-bde1-5e13185b17c5\",\"type\":\"SaveTool\"},{\"id\":\"d07b95e9-10fa-417a-affd-4b976fe39238\",\"type\":\"ResetTool\"},{\"id\":\"95cc8fb5-698f-4055-affb-efe3edf5b57d\",\"type\":\"HelpTool\"}]},\"id\":\"c513fc81-48fa-4b41-afd8-ab3565528256\",\"type\":\"ProxyToolbar\"},{\"attributes\":{},\"id\":\"8fb6293c-6787-4026-af79-56a81926f52d\",\"type\":\"CategoricalTicker\"},{\"attributes\":{\"plot\":{\"id\":\"b228bf09-5ae7-48bb-b10e-dc2019c7b3b5\",\"subtype\":\"Figure\",\"type\":\"Plot\"},\"ticker\":{\"id\":\"8fb6293c-6787-4026-af79-56a81926f52d\",\"type\":\"CategoricalTicker\"}},\"id\":\"a92e2ad4-019d-483d-bfa1-1e4383756e08\",\"type\":\"Grid\"},{\"attributes\":{},\"id\":\"fb1c950d-8f1e-4034-8405-7a12b63975de\",\"type\":\"CategoricalScale\"},{\"attributes\":{\"callback\":null},\"id\":\"1dbaa5ca-6cc9-458e-ad3b-8e134a53d9f1\",\"type\":\"DataRange1d\"},{\"attributes\":{},\"id\":\"d07b95e9-10fa-417a-affd-4b976fe39238\",\"type\":\"ResetTool\"},{\"attributes\":{},\"id\":\"a549c525-3a5f-43d3-aa92-d2f60608a7eb\",\"type\":\"CategoricalTickFormatter\"},{\"attributes\":{\"bottom_units\":\"screen\",\"fill_alpha\":{\"value\":0.5},\"fill_color\":{\"value\":\"lightgrey\"},\"left_units\":\"screen\",\"level\":\"overlay\",\"line_alpha\":{\"value\":1.0},\"line_color\":{\"value\":\"black\"},\"line_dash\":[4,4],\"line_width\":{\"value\":2},\"plot\":null,\"render_mode\":\"css\",\"right_units\":\"screen\",\"top_units\":\"screen\"},\"id\":\"0c22d941-6bda-4ccd-84df-a8fc8ed1893b\",\"type\":\"BoxAnnotation\"},{\"attributes\":{\"plot\":{\"id\":\"e5f90429-2816-4b7e-a51f-b90b09b22c13\",\"subtype\":\"Figure\",\"type\":\"Plot\"},\"ticker\":{\"id\":\"b17ab2fc-61c9-4b32-9072-07f7953f6c04\",\"type\":\"CategoricalTicker\"}},\"id\":\"5329cad6-6ca5-417f-91ee-6d6d67f80519\",\"type\":\"Grid\"},{\"attributes\":{\"source\":{\"id\":\"4c64e53d-aaa4-426c-a685-0660d932ef45\",\"type\":\"ColumnDataSource\"}},\"id\":\"82161cb6-816d-4219-b48a-548f57759a8f\",\"type\":\"CDSView\"},{\"attributes\":{},\"id\":\"b5a6b98d-517a-468b-be4e-8f8026ce7934\",\"type\":\"PanTool\"},{\"attributes\":{},\"id\":\"b17ab2fc-61c9-4b32-9072-07f7953f6c04\",\"type\":\"CategoricalTicker\"},{\"attributes\":{\"axis_label\":\"spectral band\",\"formatter\":{\"id\":\"b0f56b20-88b6-4ea4-9ee6-5d70043e6ddd\",\"type\":\"CategoricalTickFormatter\"},\"plot\":{\"id\":\"b228bf09-5ae7-48bb-b10e-dc2019c7b3b5\",\"subtype\":\"Figure\",\"type\":\"Plot\"},\"ticker\":{\"id\":\"8fb6293c-6787-4026-af79-56a81926f52d\",\"type\":\"CategoricalTicker\"}},\"id\":\"8a64b695-bcf8-4656-ad44-eb157f0d7423\",\"type\":\"CategoricalAxis\"},{\"attributes\":{\"callback\":null},\"id\":\"8aa97035-0e57-41d2-b58d-1c4e45cb1cc8\",\"type\":\"DataRange1d\"},{\"attributes\":{\"callback\":null},\"id\":\"0c2ca836-7aad-4264-92d0-b1920829806f\",\"type\":\"DataRange1d\"},{\"attributes\":{},\"id\":\"e970ca2e-b506-4620-9d63-29c66494ec26\",\"type\":\"BasicTicker\"},{\"attributes\":{},\"id\":\"4a96ead1-354f-4611-a94a-a877d8916537\",\"type\":\"WheelZoomTool\"},{\"attributes\":{},\"id\":\"8973bc11-c740-49b7-bf5e-19aad246c0f0\",\"type\":\"CategoricalScale\"},{\"attributes\":{},\"id\":\"24c565e2-638a-4792-ae9c-38df1fc2fba9\",\"type\":\"BasicTickFormatter\"},{\"attributes\":{},\"id\":\"3b2dbefb-12b7-4140-b3ee-132d654f9983\",\"type\":\"HelpTool\"},{\"attributes\":{\"fill_color\":{\"value\":\"#1f77b4\"},\"line_color\":{\"value\":\"#1f77b4\"},\"top\":{\"field\":\"flux\"},\"width\":{\"value\":0.9},\"x\":{\"field\":\"band\"}},\"id\":\"866f386c-4a18-481a-a92c-3aeb77d979c1\",\"type\":\"VBar\"},{\"attributes\":{},\"id\":\"51116751-f194-4589-909e-551ef71a0b34\",\"type\":\"WheelZoomTool\"},{\"attributes\":{\"callback\":null,\"factors\":[\"1\",\"2\",\"3\",\"4\",\"5\",\"6\",\"7\",\"8\",\"9\",\"10\",\"11\"]},\"id\":\"d2b9061e-8cbe-4b75-9afd-ea5e9727bcd9\",\"type\":\"FactorRange\"},{\"attributes\":{},\"id\":\"e7c57bc7-8d68-4788-9d2e-a585fcc2db81\",\"type\":\"UnionRenderers\"},{\"attributes\":{},\"id\":\"8ba9954d-6ac6-4685-b525-f92dee8a4d85\",\"type\":\"SaveTool\"},{\"attributes\":{\"dimension\":1,\"plot\":{\"id\":\"e5f90429-2816-4b7e-a51f-b90b09b22c13\",\"subtype\":\"Figure\",\"type\":\"Plot\"},\"ticker\":{\"id\":\"dcdc6f9a-621b-48d8-b4ff-8e4e71aa653f\",\"type\":\"BasicTicker\"}},\"id\":\"212eb3ae-105a-4b3d-a23e-a4dfc825b0b7\",\"type\":\"Grid\"},{\"attributes\":{\"data_source\":{\"id\":\"4c64e53d-aaa4-426c-a685-0660d932ef45\",\"type\":\"ColumnDataSource\"},\"glyph\":{\"id\":\"753c384c-3b40-41e8-9b20-11787a0ede37\",\"type\":\"VBar\"},\"hover_glyph\":null,\"muted_glyph\":null,\"nonselection_glyph\":{\"id\":\"ae123826-09f3-4736-80b8-2e11d8be18a8\",\"type\":\"VBar\"},\"selection_glyph\":null,\"view\":{\"id\":\"82161cb6-816d-4219-b48a-548f57759a8f\",\"type\":\"CDSView\"}},\"id\":\"b42e980c-0864-41f6-a8d0-32bd0331a396\",\"type\":\"GlyphRenderer\"},{\"attributes\":{\"fill_alpha\":{\"value\":0.1},\"fill_color\":{\"value\":\"#1f77b4\"},\"line_alpha\":{\"value\":0.1},\"line_color\":{\"value\":\"#1f77b4\"},\"top\":{\"field\":\"flux\"},\"width\":{\"value\":0.9},\"x\":{\"field\":\"band\"}},\"id\":\"794d3c7d-99b1-4c16-b194-3945866fd147\",\"type\":\"VBar\"},{\"attributes\":{},\"id\":\"07fc9bd1-f796-4506-bcbe-f5328f868592\",\"type\":\"Selection\"},{\"attributes\":{\"callback\":null,\"data\":{\"band\":[\"1\",\"2\",\"3\",\"4\",\"5\",\"6\",\"7\",\"8\",\"9\",\"10\",\"11\"],\"flux\":{\"__ndarray__\":\"AEILCRhdyD+AzEHQ0arSP4APCkrRytO/QL3EWKZf0z8AelORCmPQPwBUa2EW2rG/ABjPoKF/2D8ASdv4E5W5vwDgfyvZsZG/YNQ5UPHJwD9A78EQ3sOwPw==\",\"dtype\":\"float64\",\"shape\":[11]}},\"selected\":{\"id\":\"07fc9bd1-f796-4506-bcbe-f5328f868592\",\"type\":\"Selection\"},\"selection_policy\":{\"id\":\"fba64c3e-c123-4529-9b50-f4d62ac22ad4\",\"type\":\"UnionRenderers\"}},\"id\":\"c6a1044b-16da-41d0-a817-987262dca369\",\"type\":\"ColumnDataSource\"},{\"attributes\":{},\"id\":\"dcdc6f9a-621b-48d8-b4ff-8e4e71aa653f\",\"type\":\"BasicTicker\"},{\"attributes\":{},\"id\":\"4286e852-fa05-442f-8ed3-ecbfeadbc6f7\",\"type\":\"CategoricalScale\"},{\"attributes\":{},\"id\":\"16002a2e-c1f3-4b7a-9bf5-d9d9877b5daa\",\"type\":\"Selection\"},{\"attributes\":{\"bottom_units\":\"screen\",\"fill_alpha\":{\"value\":0.5},\"fill_color\":{\"value\":\"lightgrey\"},\"left_units\":\"screen\",\"level\":\"overlay\",\"line_alpha\":{\"value\":1.0},\"line_color\":{\"value\":\"black\"},\"line_dash\":[4,4],\"line_width\":{\"value\":2},\"plot\":null,\"render_mode\":\"css\",\"right_units\":\"screen\",\"top_units\":\"screen\"},\"id\":\"cb2f1be6-adac-47cf-8ae6-7982371b3619\",\"type\":\"BoxAnnotation\"},{\"attributes\":{\"overlay\":{\"id\":\"cb2f1be6-adac-47cf-8ae6-7982371b3619\",\"type\":\"BoxAnnotation\"}},\"id\":\"5a585559-72a0-41de-a40f-e91be22e52eb\",\"type\":\"BoxZoomTool\"},{\"attributes\":{\"callback\":null,\"factors\":[\"1\",\"2\",\"3\",\"4\",\"5\",\"6\",\"7\",\"8\",\"9\",\"10\",\"11\"]},\"id\":\"df6767c5-37a9-4faf-b5c3-f5d2f7de6bab\",\"type\":\"FactorRange\"},{\"attributes\":{},\"id\":\"0916e819-8135-4f15-a6a6-b51d231e58c1\",\"type\":\"UnionRenderers\"},{\"attributes\":{\"active_drag\":\"auto\",\"active_inspect\":\"auto\",\"active_scroll\":\"auto\",\"active_tap\":\"auto\",\"tools\":[{\"id\":\"68adffa8-60b4-4e7c-bacf-eba22d772386\",\"type\":\"PanTool\"},{\"id\":\"da398dcd-8420-4269-bd54-bc68b6d2fcdc\",\"type\":\"WheelZoomTool\"},{\"id\":\"3beb6a0b-5719-4769-8fb3-626e8b89bf1f\",\"type\":\"BoxZoomTool\"},{\"id\":\"38c799b5-bef0-4194-8070-71b1cef81145\",\"type\":\"SaveTool\"},{\"id\":\"1de0309a-a57e-4089-a3fe-67ce95d26cc5\",\"type\":\"ResetTool\"},{\"id\":\"8ca547e3-7b8e-49a9-88e9-9fc4292ff68a\",\"type\":\"HelpTool\"}]},\"id\":\"38d56ad3-571c-4235-85d4-2958e31c451a\",\"type\":\"Toolbar\"},{\"attributes\":{},\"id\":\"fba64c3e-c123-4529-9b50-f4d62ac22ad4\",\"type\":\"UnionRenderers\"},{\"attributes\":{\"children\":[{\"id\":\"b228bf09-5ae7-48bb-b10e-dc2019c7b3b5\",\"subtype\":\"Figure\",\"type\":\"Plot\"},{\"id\":\"1b8daaba-1544-4df0-8d91-f2208858a5bb\",\"subtype\":\"Figure\",\"type\":\"Plot\"},{\"id\":\"e5f90429-2816-4b7e-a51f-b90b09b22c13\",\"subtype\":\"Figure\",\"type\":\"Plot\"}]},\"id\":\"585e10ea-c63a-4d86-9374-8a0cc515976e\",\"type\":\"Row\"},{\"attributes\":{\"children\":[{\"id\":\"108d9142-f75e-4e14-9250-5469b4b2b066\",\"type\":\"ToolbarBox\"},{\"id\":\"c46d1353-8e44-4e05-9aa8-4654fc4e2bf4\",\"type\":\"Column\"}]},\"id\":\"5ddd57ca-1359-41cd-90de-21d8694ec220\",\"type\":\"Column\"},{\"attributes\":{\"source\":{\"id\":\"c6a1044b-16da-41d0-a817-987262dca369\",\"type\":\"ColumnDataSource\"}},\"id\":\"770f1cce-225a-4931-bc30-7caeb943061c\",\"type\":\"CDSView\"},{\"attributes\":{},\"id\":\"afbca505-e2fb-4601-884f-da68f8019f1a\",\"type\":\"PanTool\"},{\"attributes\":{\"below\":[{\"id\":\"b80112c5-12da-4898-81af-34eb345c4547\",\"type\":\"CategoricalAxis\"}],\"left\":[{\"id\":\"016e9ac9-5cd5-4bee-9fad-b852fd2625c5\",\"type\":\"LinearAxis\"}],\"plot_height\":300,\"plot_width\":300,\"renderers\":[{\"id\":\"b80112c5-12da-4898-81af-34eb345c4547\",\"type\":\"CategoricalAxis\"},{\"id\":\"5329cad6-6ca5-417f-91ee-6d6d67f80519\",\"type\":\"Grid\"},{\"id\":\"016e9ac9-5cd5-4bee-9fad-b852fd2625c5\",\"type\":\"LinearAxis\"},{\"id\":\"212eb3ae-105a-4b3d-a23e-a4dfc825b0b7\",\"type\":\"Grid\"},{\"id\":\"cb2f1be6-adac-47cf-8ae6-7982371b3619\",\"type\":\"BoxAnnotation\"},{\"id\":\"b42e980c-0864-41f6-a8d0-32bd0331a396\",\"type\":\"GlyphRenderer\"}],\"title\":{\"id\":\"70b97740-4f9b-4bc3-962d-8a8ca2bb899e\",\"type\":\"Title\"},\"toolbar\":{\"id\":\"23e331e3-76f0-49af-8cb1-598d6589ace9\",\"type\":\"Toolbar\"},\"toolbar_location\":null,\"x_range\":{\"id\":\"b32f2f86-d7e5-4b8c-9a02-3217ed1ecf3c\",\"type\":\"FactorRange\"},\"x_scale\":{\"id\":\"4286e852-fa05-442f-8ed3-ecbfeadbc6f7\",\"type\":\"CategoricalScale\"},\"y_range\":{\"id\":\"0c2ca836-7aad-4264-92d0-b1920829806f\",\"type\":\"DataRange1d\"},\"y_scale\":{\"id\":\"0969145e-485c-4cd9-b2a1-6122698d73c5\",\"type\":\"LinearScale\"}},\"id\":\"e5f90429-2816-4b7e-a51f-b90b09b22c13\",\"subtype\":\"Figure\",\"type\":\"Plot\"},{\"attributes\":{},\"id\":\"eaa8bde5-d83c-4acf-9371-d50116e18648\",\"type\":\"Selection\"},{\"attributes\":{\"dimension\":1,\"plot\":{\"id\":\"b228bf09-5ae7-48bb-b10e-dc2019c7b3b5\",\"subtype\":\"Figure\",\"type\":\"Plot\"},\"ticker\":{\"id\":\"e970ca2e-b506-4620-9d63-29c66494ec26\",\"type\":\"BasicTicker\"}},\"id\":\"109a0d8b-397f-4b42-b6ff-d01eace3d7d1\",\"type\":\"Grid\"},{\"attributes\":{\"overlay\":{\"id\":\"0c22d941-6bda-4ccd-84df-a8fc8ed1893b\",\"type\":\"BoxAnnotation\"}},\"id\":\"bccad2fa-cdc6-444a-9c17-b2c17ae13b7b\",\"type\":\"BoxZoomTool\"},{\"attributes\":{\"axis_label\":\"flux (W m-2)\",\"formatter\":{\"id\":\"a24115f0-1db9-48ef-a207-4dabcbd70e6e\",\"type\":\"BasicTickFormatter\"},\"plot\":{\"id\":\"e5f90429-2816-4b7e-a51f-b90b09b22c13\",\"subtype\":\"Figure\",\"type\":\"Plot\"},\"ticker\":{\"id\":\"dcdc6f9a-621b-48d8-b4ff-8e4e71aa653f\",\"type\":\"BasicTicker\"}},\"id\":\"016e9ac9-5cd5-4bee-9fad-b852fd2625c5\",\"type\":\"LinearAxis\"},{\"attributes\":{},\"id\":\"0969145e-485c-4cd9-b2a1-6122698d73c5\",\"type\":\"LinearScale\"},{\"attributes\":{\"fill_alpha\":{\"value\":0.1},\"fill_color\":{\"value\":\"#1f77b4\"},\"line_alpha\":{\"value\":0.1},\"line_color\":{\"value\":\"#1f77b4\"},\"top\":{\"field\":\"flux\"},\"width\":{\"value\":0.9},\"x\":{\"field\":\"band\"}},\"id\":\"ae123826-09f3-4736-80b8-2e11d8be18a8\",\"type\":\"VBar\"},{\"attributes\":{\"data_source\":{\"id\":\"c6a1044b-16da-41d0-a817-987262dca369\",\"type\":\"ColumnDataSource\"},\"glyph\":{\"id\":\"866f386c-4a18-481a-a92c-3aeb77d979c1\",\"type\":\"VBar\"},\"hover_glyph\":null,\"muted_glyph\":null,\"nonselection_glyph\":{\"id\":\"794d3c7d-99b1-4c16-b194-3945866fd147\",\"type\":\"VBar\"},\"selection_glyph\":null,\"view\":{\"id\":\"770f1cce-225a-4931-bc30-7caeb943061c\",\"type\":\"CDSView\"}},\"id\":\"a091d9c7-6c82-4715-837b-6f91f3588094\",\"type\":\"GlyphRenderer\"},{\"attributes\":{},\"id\":\"b6e969b9-e66c-442f-85c5-b8b293e03b35\",\"type\":\"LinearScale\"},{\"attributes\":{\"axis_label\":\"flux (W m-2)\",\"formatter\":{\"id\":\"24c565e2-638a-4792-ae9c-38df1fc2fba9\",\"type\":\"BasicTickFormatter\"},\"plot\":{\"id\":\"b228bf09-5ae7-48bb-b10e-dc2019c7b3b5\",\"subtype\":\"Figure\",\"type\":\"Plot\"},\"ticker\":{\"id\":\"e970ca2e-b506-4620-9d63-29c66494ec26\",\"type\":\"BasicTicker\"}},\"id\":\"32bb49fd-d8a5-4fff-8f42-90a5ec166aa8\",\"type\":\"LinearAxis\"},{\"attributes\":{\"active_drag\":\"auto\",\"active_inspect\":\"auto\",\"active_scroll\":\"auto\",\"active_tap\":\"auto\",\"tools\":[{\"id\":\"b5a6b98d-517a-468b-be4e-8f8026ce7934\",\"type\":\"PanTool\"},{\"id\":\"51116751-f194-4589-909e-551ef71a0b34\",\"type\":\"WheelZoomTool\"},{\"id\":\"5a585559-72a0-41de-a40f-e91be22e52eb\",\"type\":\"BoxZoomTool\"},{\"id\":\"1385ef03-0c5c-430c-bde1-5e13185b17c5\",\"type\":\"SaveTool\"},{\"id\":\"d07b95e9-10fa-417a-affd-4b976fe39238\",\"type\":\"ResetTool\"},{\"id\":\"95cc8fb5-698f-4055-affb-efe3edf5b57d\",\"type\":\"HelpTool\"}]},\"id\":\"23e331e3-76f0-49af-8cb1-598d6589ace9\",\"type\":\"Toolbar\"},{\"attributes\":{\"children\":[{\"id\":\"585e10ea-c63a-4d86-9374-8a0cc515976e\",\"type\":\"Row\"}]},\"id\":\"c46d1353-8e44-4e05-9aa8-4654fc4e2bf4\",\"type\":\"Column\"},{\"attributes\":{\"callback\":null,\"factors\":[\"1\",\"2\",\"3\",\"4\",\"5\",\"6\",\"7\",\"8\",\"9\",\"10\",\"11\"]},\"id\":\"b32f2f86-d7e5-4b8c-9a02-3217ed1ecf3c\",\"type\":\"FactorRange\"},{\"attributes\":{},\"id\":\"95cc8fb5-698f-4055-affb-efe3edf5b57d\",\"type\":\"HelpTool\"},{\"attributes\":{\"callback\":null,\"data\":{\"band\":[\"1\",\"2\",\"3\",\"4\",\"5\",\"6\",\"7\",\"8\",\"9\",\"10\",\"11\"],\"flux\":{\"__ndarray__\":\"AIMde81dyD8AYEI3wVi1vwDYAox4/Ii/gF6tJMO7zj/APGNfsvHOvwAAiSZQxMK/gIzWUdUE1z8A5hw8E5qkP8AoB7MJMMi/QL8FwBXcvT+AeTwtP3CtPw==\",\"dtype\":\"float64\",\"shape\":[11]}},\"selected\":{\"id\":\"eaa8bde5-d83c-4acf-9371-d50116e18648\",\"type\":\"Selection\"},\"selection_policy\":{\"id\":\"0916e819-8135-4f15-a6a6-b51d231e58c1\",\"type\":\"UnionRenderers\"}},\"id\":\"4c64e53d-aaa4-426c-a685-0660d932ef45\",\"type\":\"ColumnDataSource\"},{\"attributes\":{},\"id\":\"38c799b5-bef0-4194-8070-71b1cef81145\",\"type\":\"SaveTool\"},{\"attributes\":{\"plot\":null,\"text\":\"TOA flux. CLIRAD (single-run) - CRD.\"},\"id\":\"c8742898-288f-440d-8177-3ad42dd8d588\",\"type\":\"Title\"},{\"attributes\":{},\"id\":\"db1c84ae-8f4a-4e09-abaf-78fee69e6e30\",\"type\":\"CategoricalTicker\"},{\"attributes\":{\"callback\":null,\"data\":{\"band\":[\"1\",\"2\",\"3\",\"4\",\"5\",\"6\",\"7\",\"8\",\"9\",\"10\",\"11\"],\"flux\":{\"__ndarray__\":\"AAAAAyUF9r4AgsR29wDYPwCfjzLiAtO/AFBWDFcHsD8AYMsr19vfPwDchqzJrrM/AEwuIXqtlz9gN3gVCPHBvwBuhhvw+cU/AKBF71TAjT8ArDGNy12APw==\",\"dtype\":\"float64\",\"shape\":[11]}},\"selected\":{\"id\":\"16002a2e-c1f3-4b7a-9bf5-d9d9877b5daa\",\"type\":\"Selection\"},\"selection_policy\":{\"id\":\"e7c57bc7-8d68-4788-9d2e-a585fcc2db81\",\"type\":\"UnionRenderers\"}},\"id\":\"0186294a-4f1e-443d-a9e6-84367ef934dd\",\"type\":\"ColumnDataSource\"},{\"attributes\":{\"fill_color\":{\"value\":\"#1f77b4\"},\"line_color\":{\"value\":\"#1f77b4\"},\"top\":{\"field\":\"flux\"},\"width\":{\"value\":0.9},\"x\":{\"field\":\"band\"}},\"id\":\"b3b70647-8d22-4cd0-ad17-98558f457ddf\",\"type\":\"VBar\"},{\"attributes\":{\"fill_alpha\":{\"value\":0.1},\"fill_color\":{\"value\":\"#1f77b4\"},\"line_alpha\":{\"value\":0.1},\"line_color\":{\"value\":\"#1f77b4\"},\"top\":{\"field\":\"flux\"},\"width\":{\"value\":0.9},\"x\":{\"field\":\"band\"}},\"id\":\"84e39a5e-987f-4d59-a305-d7203f53a805\",\"type\":\"VBar\"},{\"attributes\":{\"axis_label\":\"flux (W m-2)\",\"formatter\":{\"id\":\"7d2ed9ba-193a-451a-b69e-7fcf1cc562ca\",\"type\":\"BasicTickFormatter\"},\"plot\":{\"id\":\"1b8daaba-1544-4df0-8d91-f2208858a5bb\",\"subtype\":\"Figure\",\"type\":\"Plot\"},\"ticker\":{\"id\":\"3b2d5b25-be13-4400-a4c9-791ca3183498\",\"type\":\"BasicTicker\"}},\"id\":\"2c575712-5e02-4401-ba6b-7ae7fe4ca9bc\",\"type\":\"LinearAxis\"},{\"attributes\":{\"overlay\":{\"id\":\"b328127e-cc87-4d11-8869-a5af5a040c8d\",\"type\":\"BoxAnnotation\"}},\"id\":\"3beb6a0b-5719-4769-8fb3-626e8b89bf1f\",\"type\":\"BoxZoomTool\"},{\"attributes\":{},\"id\":\"1de0309a-a57e-4089-a3fe-67ce95d26cc5\",\"type\":\"ResetTool\"},{\"attributes\":{},\"id\":\"68adffa8-60b4-4e7c-bacf-eba22d772386\",\"type\":\"PanTool\"},{\"attributes\":{\"data_source\":{\"id\":\"0186294a-4f1e-443d-a9e6-84367ef934dd\",\"type\":\"ColumnDataSource\"},\"glyph\":{\"id\":\"b3b70647-8d22-4cd0-ad17-98558f457ddf\",\"type\":\"VBar\"},\"hover_glyph\":null,\"muted_glyph\":null,\"nonselection_glyph\":{\"id\":\"84e39a5e-987f-4d59-a305-d7203f53a805\",\"type\":\"VBar\"},\"selection_glyph\":null,\"view\":{\"id\":\"0eaa3b3c-8df5-4558-9d4e-5b2cf510f3c8\",\"type\":\"CDSView\"}},\"id\":\"eeed0929-0513-4751-8d69-bbbf50ba83b9\",\"type\":\"GlyphRenderer\"},{\"attributes\":{\"plot\":{\"id\":\"1b8daaba-1544-4df0-8d91-f2208858a5bb\",\"subtype\":\"Figure\",\"type\":\"Plot\"},\"ticker\":{\"id\":\"db1c84ae-8f4a-4e09-abaf-78fee69e6e30\",\"type\":\"CategoricalTicker\"}},\"id\":\"d04a3275-f86a-41b3-9aa8-194ac53293b6\",\"type\":\"Grid\"},{\"attributes\":{\"below\":[{\"id\":\"8a64b695-bcf8-4656-ad44-eb157f0d7423\",\"type\":\"CategoricalAxis\"}],\"left\":[{\"id\":\"32bb49fd-d8a5-4fff-8f42-90a5ec166aa8\",\"type\":\"LinearAxis\"}],\"plot_height\":300,\"plot_width\":300,\"renderers\":[{\"id\":\"8a64b695-bcf8-4656-ad44-eb157f0d7423\",\"type\":\"CategoricalAxis\"},{\"id\":\"a92e2ad4-019d-483d-bfa1-1e4383756e08\",\"type\":\"Grid\"},{\"id\":\"32bb49fd-d8a5-4fff-8f42-90a5ec166aa8\",\"type\":\"LinearAxis\"},{\"id\":\"109a0d8b-397f-4b42-b6ff-d01eace3d7d1\",\"type\":\"Grid\"},{\"id\":\"0c22d941-6bda-4ccd-84df-a8fc8ed1893b\",\"type\":\"BoxAnnotation\"},{\"id\":\"a091d9c7-6c82-4715-837b-6f91f3588094\",\"type\":\"GlyphRenderer\"}],\"title\":{\"id\":\"c8742898-288f-440d-8177-3ad42dd8d588\",\"type\":\"Title\"},\"toolbar\":{\"id\":\"764bae96-e55f-4da0-94f3-2f39c400c407\",\"type\":\"Toolbar\"},\"toolbar_location\":null,\"x_range\":{\"id\":\"d2b9061e-8cbe-4b75-9afd-ea5e9727bcd9\",\"type\":\"FactorRange\"},\"x_scale\":{\"id\":\"fb1c950d-8f1e-4034-8405-7a12b63975de\",\"type\":\"CategoricalScale\"},\"y_range\":{\"id\":\"1dbaa5ca-6cc9-458e-ad3b-8e134a53d9f1\",\"type\":\"DataRange1d\"},\"y_scale\":{\"id\":\"b6e969b9-e66c-442f-85c5-b8b293e03b35\",\"type\":\"LinearScale\"}},\"id\":\"b228bf09-5ae7-48bb-b10e-dc2019c7b3b5\",\"subtype\":\"Figure\",\"type\":\"Plot\"},{\"attributes\":{\"plot\":null,\"text\":\"SFC flux. CLIRAD (single-run) - CRD.\"},\"id\":\"7a23e509-6688-475d-b8c2-777520ffef43\",\"type\":\"Title\"},{\"attributes\":{\"bottom_units\":\"screen\",\"fill_alpha\":{\"value\":0.5},\"fill_color\":{\"value\":\"lightgrey\"},\"left_units\":\"screen\",\"level\":\"overlay\",\"line_alpha\":{\"value\":1.0},\"line_color\":{\"value\":\"black\"},\"line_dash\":[4,4],\"line_width\":{\"value\":2},\"plot\":null,\"render_mode\":\"css\",\"right_units\":\"screen\",\"top_units\":\"screen\"},\"id\":\"b328127e-cc87-4d11-8869-a5af5a040c8d\",\"type\":\"BoxAnnotation\"},{\"attributes\":{},\"id\":\"3b2d5b25-be13-4400-a4c9-791ca3183498\",\"type\":\"BasicTicker\"},{\"attributes\":{\"axis_label\":\"spectral band\",\"formatter\":{\"id\":\"4d2de59f-2a9a-4f13-9309-6d8f37dcdb5c\",\"type\":\"CategoricalTickFormatter\"},\"plot\":{\"id\":\"1b8daaba-1544-4df0-8d91-f2208858a5bb\",\"subtype\":\"Figure\",\"type\":\"Plot\"},\"ticker\":{\"id\":\"db1c84ae-8f4a-4e09-abaf-78fee69e6e30\",\"type\":\"CategoricalTicker\"}},\"id\":\"1ce2f50d-c596-4e84-9b0d-c0d7cedf73a1\",\"type\":\"CategoricalAxis\"},{\"attributes\":{\"dimension\":1,\"plot\":{\"id\":\"1b8daaba-1544-4df0-8d91-f2208858a5bb\",\"subtype\":\"Figure\",\"type\":\"Plot\"},\"ticker\":{\"id\":\"3b2d5b25-be13-4400-a4c9-791ca3183498\",\"type\":\"BasicTicker\"}},\"id\":\"3eaf433d-0423-44ad-a1d9-481ef26131d9\",\"type\":\"Grid\"},{\"attributes\":{},\"id\":\"8ca547e3-7b8e-49a9-88e9-9fc4292ff68a\",\"type\":\"HelpTool\"},{\"attributes\":{},\"id\":\"da398dcd-8420-4269-bd54-bc68b6d2fcdc\",\"type\":\"WheelZoomTool\"},{\"attributes\":{},\"id\":\"4d2de59f-2a9a-4f13-9309-6d8f37dcdb5c\",\"type\":\"CategoricalTickFormatter\"},{\"attributes\":{\"source\":{\"id\":\"0186294a-4f1e-443d-a9e6-84367ef934dd\",\"type\":\"ColumnDataSource\"}},\"id\":\"0eaa3b3c-8df5-4558-9d4e-5b2cf510f3c8\",\"type\":\"CDSView\"},{\"attributes\":{},\"id\":\"b7c5d351-280e-467f-b4a1-2f6c9c4e1ce5\",\"type\":\"LinearScale\"}],\"root_ids\":[\"5ddd57ca-1359-41cd-90de-21d8694ec220\"]},\"title\":\"Bokeh Application\",\"version\":\"0.12.16\"}};\n",
       "  var render_items = [{\"docid\":\"4065eb05-ad35-460e-8a6a-5b87fc6adedb\",\"elementid\":\"de506482-09b4-4c2c-a4de-6b1a773c43e0\",\"modelid\":\"5ddd57ca-1359-41cd-90de-21d8694ec220\"}];\n",
       "  root.Bokeh.embed.embed_items_notebook(docs_json, render_items);\n",
       "\n",
       "  }\n",
       "  if (root.Bokeh !== undefined) {\n",
       "    embed_document(root);\n",
       "  } else {\n",
       "    var attempts = 0;\n",
       "    var timer = setInterval(function(root) {\n",
       "      if (root.Bokeh !== undefined) {\n",
       "        embed_document(root);\n",
       "        clearInterval(timer);\n",
       "      }\n",
       "      attempts++;\n",
       "      if (attempts > 100) {\n",
       "        console.log(\"Bokeh: ERROR: Unable to run BokehJS code because BokehJS library is missing\")\n",
       "        clearInterval(timer);\n",
       "      }\n",
       "    }, 10, root)\n",
       "  }\n",
       "})(window);"
      ],
      "application/vnd.bokehjs_exec.v0+json": ""
     },
     "metadata": {
      "application/vnd.bokehjs_exec.v0+json": {
       "id": "5ddd57ca-1359-41cd-90de-21d8694ec220"
      }
     },
     "output_type": "display_data"
    },
    {
     "data": {
      "text/markdown": [
       "*FIGURE.* Difference between CLIRAD and CRD in TOA, SFC and net atmosphere flux, in each spectral band."
      ],
      "text/plain": [
       "<IPython.core.display.Markdown object>"
      ]
     },
     "metadata": {},
     "output_type": "display_data"
    },
    {
     "data": {
      "text/html": [
       "<div>\n",
       "<style scoped>\n",
       "    .dataframe tbody tr th:only-of-type {\n",
       "        vertical-align: middle;\n",
       "    }\n",
       "\n",
       "    .dataframe tbody tr th {\n",
       "        vertical-align: top;\n",
       "    }\n",
       "\n",
       "    .dataframe thead th {\n",
       "        text-align: right;\n",
       "    }\n",
       "</style>\n",
       "<table border=\"1\" class=\"dataframe\">\n",
       "  <thead>\n",
       "    <tr style=\"text-align: right;\">\n",
       "      <th></th>\n",
       "      <th>OLR flux</th>\n",
       "      <th>SFC flux</th>\n",
       "      <th>ATM heating</th>\n",
       "    </tr>\n",
       "    <tr>\n",
       "      <th>Sum over bands</th>\n",
       "      <th></th>\n",
       "      <th></th>\n",
       "      <th></th>\n",
       "    </tr>\n",
       "  </thead>\n",
       "  <tbody>\n",
       "    <tr>\n",
       "      <th>CLIRAD (single-run) - CRD</th>\n",
       "      <td>1.12</td>\n",
       "      <td>0.79</td>\n",
       "      <td>0.33</td>\n",
       "    </tr>\n",
       "    <tr>\n",
       "      <th>CRD</th>\n",
       "      <td>-290.39</td>\n",
       "      <td>308.14</td>\n",
       "      <td>-174.89</td>\n",
       "    </tr>\n",
       "  </tbody>\n",
       "</table>\n",
       "</div>"
      ],
      "text/plain": [
       "                           OLR flux  SFC flux  ATM heating\n",
       "Sum over bands                                            \n",
       "CLIRAD (single-run) - CRD      1.12      0.79         0.33\n",
       "CRD                         -290.39    308.14      -174.89"
      ]
     },
     "metadata": {},
     "output_type": "display_data"
    },
    {
     "data": {
      "text/markdown": [
       "*TABLE.* Difference between CLIRAD and CRD in TOA, SFC and net atmosphere flux, over all spectral bands. CRD's TOA, SFC and net atmosphere flux, over all spectral bands."
      ],
      "text/plain": [
       "<IPython.core.display.Markdown object>"
      ]
     },
     "metadata": {},
     "output_type": "display_data"
    },
    {
     "data": {
      "text/html": [
       "<a id=\"Cooling_rates._saw.\"></a>"
      ],
      "text/plain": [
       "<IPython.core.display.HTML object>"
      ]
     },
     "metadata": {},
     "output_type": "display_data"
    },
    {
     "data": {
      "text/markdown": [
       "# Cooling rates. saw."
      ],
      "text/plain": [
       "<IPython.core.display.Markdown object>"
      ]
     },
     "metadata": {},
     "output_type": "display_data"
    },
    {
     "data": {
      "text/html": [
       "\n",
       "<div class=\"bk-root\">\n",
       "    <div class=\"bk-plotdiv\" id=\"2753d313-0900-47c1-ba33-02cec3dff407\"></div>\n",
       "</div>"
      ]
     },
     "metadata": {},
     "output_type": "display_data"
    },
    {
     "data": {
      "application/javascript": [
       "(function(root) {\n",
       "  function embed_document(root) {\n",
       "    \n",
       "  var docs_json = {\"3b76c398-65d2-4f11-93a3-ae54f2897e90\":{\"roots\":{\"references\":[{\"attributes\":{\"source\":{\"id\":\"965fc7b7-d427-46d1-87d2-91047e7b1aa6\",\"type\":\"ColumnDataSource\"}},\"id\":\"385d90ff-d2a5-40c3-bb25-e4b9d5688ba9\",\"type\":\"CDSView\"},{\"attributes\":{},\"id\":\"ac7ad4ee-f3c8-49d4-9979-e7cf733d78ba\",\"type\":\"LinearScale\"},{\"attributes\":{\"line_alpha\":0.1,\"line_color\":\"#1f77b4\",\"line_dash\":[6],\"line_width\":5,\"x\":{\"field\":\"x\"},\"y\":{\"field\":\"y\"}},\"id\":\"d931ced2-52ae-4695-b194-ec9a3dc4e891\",\"type\":\"Line\"},{\"attributes\":{\"data_source\":{\"id\":\"b53311c7-4624-4557-962e-086438a259f8\",\"type\":\"ColumnDataSource\"},\"glyph\":{\"id\":\"e1507df6-e65a-41a3-9fe3-709612003857\",\"type\":\"Circle\"},\"hover_glyph\":null,\"muted_glyph\":null,\"nonselection_glyph\":{\"id\":\"23b2c49f-0a52-4305-bf97-5956c628e11b\",\"type\":\"Circle\"},\"selection_glyph\":null,\"view\":{\"id\":\"aa004166-e256-4fc1-a635-fa73b8d3c088\",\"type\":\"CDSView\"}},\"id\":\"6621973b-a968-4522-9b76-34437aae4063\",\"type\":\"GlyphRenderer\"},{\"attributes\":{\"callback\":null,\"data\":{\"x\":{\"__ndarray__\":\"0CYBcvU5UkCik9zf2GVBQF1VoNfLZ0BAVLxhiVXTPUDD1Wu1wJM6QFJyB025jjdAU6Aw5+b/NECYe1uuDfgyQB6bYtVTbTFAPxYSAF1HMEA00pYVm9QuQLolHbMzgC1AntlwirGsLECv+G9SjE4rQJH6ZLBp0ShAsLZQyPd/JkDyjgyf2PwkQLgyNGsrJyRAA13QbJD6I0C8hy0ilI4kQOVTXCEgcSZAovOGvZSGJUBVc/ZmUOIgQOf/6GHAyRlAcE8fAOBSFEDRur1U//gPQGFD9ZbokghAQsqHuSqSA0C91ci3W0UBQCtRQfvz7/4/kh8pntyB+j9t1/n+4TX1P773MAUjFfI/RgzR+CI28T8hBW8WHK7uPzVKjJfU8uk/0FPt4/z65T/wVYqzMPDhPz7K9C5CXuE/8+hSn9hY4T/9PPCkR6rhP1XsIC599OA/66X1nBCX3z/YbRM56QjcPz4dkSQc/dM/S7Wb8Fq00T+/yQdmX0vcP7TrGf476eM/WqNPJoWO7D9qOH1bcwDzP2bw+R5DQ/Y/RLSuQOQp+D8+aif8yAz5P0Wv6eBKRfk/0i2+IN4R+T/ik8QNFZr4PyS5UD5j/Pc/yJ68zXRG9z/2CHPL54H2P59SOhwKtPU/npkP8dfg9D8NlmVcdQz0P80ugRvuOvM/byxiAHN18j9USVZie8nxP5l9lNXYSPE/OB+F0UYP8T8Y7dsUCTHxP3EBgTHPcPE/bfx15p8S8T8FT+xkGtTuP6mdG7rkxuk/pboqTkHX5D/CrN8qGYngP7R4ZaL+htU/\",\"dtype\":\"float64\",\"shape\":[75]},\"y\":{\"__ndarray__\":\"GhExyth1ND/Sv8nbtpRIP2vylNV0PVE/aTum7souWD/At0SJ8fVgPw3Iuahxymc/MSNhhJWvcD/bTfBN02d3P2zb5nxnaoA/CD5h5MAGhz8NmeH1TyaQP+zrCsc9p5Y/LbKd76fGnz/bLW5ISEmmPww9YvTcQq8/JV2OstnstT8Er5Y7M8G+P0c+r3jqkcU/5h99k6ZBzj88bCIzFzjVP4enV8oyxN0//yH99nXg5D8qOpLLf0jtP5kqGJXUifQ/c9cS8kHP/D+/DpwzojQEQIEmwoanVwxA4lgXt9HgE0BSSZ2AJuIbQAMJih9jjiNA5q4l5INuK0AwTKYKRj0zQNv5fmq8/DpAaCJseHrtQkB/+zpwzoxKQM3MzMzMeFJAZmZmZmZqWEAAAAAAAFxeQM3MzMzMJmJAmpmZmZkfZUBmZmZmZhhoQDMzMzMzEWtAAAAAAAAKbkBmZmZmZoFwQM3MzMzM/XFAMzMzMzN6c0CamZmZmfZ0QAAAAAAAc3ZAZmZmZmbvd0DNzMzMzGt5QDMzMzMz6HpAmpmZmZlkfEAAAAAAAOF9QGZmZmZmXX9AZmZmZuZsgECamZmZGSuBQM3MzMxM6YFAAAAAAICngkAzMzMzs2WDQGZmZmbmI4RAmpmZmRnihEDNzMzMTKCFQAAAAACAXoZAMzMzM7Mch0BmZmZm5tqHQJqZmZkZmYhAzczMzExXiUAAAAAAgBWKQDMzMzOz04pAZmZmZuaRi0CamZmZGVCMQM3MzMxMDo1AAAAAAIDMjUAzMzMzs4qOQGZmZmbmSI9A\",\"dtype\":\"float64\",\"shape\":[75]}},\"selected\":{\"id\":\"e3e9d2db-db22-42b7-ae29-497b847c8862\",\"type\":\"Selection\"},\"selection_policy\":{\"id\":\"78a414a8-af51-4408-b6ba-b494f0fde3b3\",\"type\":\"UnionRenderers\"}},\"id\":\"b53311c7-4624-4557-962e-086438a259f8\",\"type\":\"ColumnDataSource\"},{\"attributes\":{\"line_alpha\":0.1,\"line_color\":\"#1f77b4\",\"line_width\":1.5,\"x\":{\"field\":\"x\"},\"y\":{\"field\":\"y\"}},\"id\":\"544a57ca-0f69-4070-8a67-b4c56d1c01cc\",\"type\":\"Line\"},{\"attributes\":{\"line_color\":\"#4daf4a\",\"line_width\":1.5,\"x\":{\"field\":\"x\"},\"y\":{\"field\":\"y\"}},\"id\":\"d01811da-ad99-49e3-8411-f0a038ed2927\",\"type\":\"Line\"},{\"attributes\":{\"data_source\":{\"id\":\"bf43ad33-8116-4f32-9027-a78a6433f05c\",\"type\":\"ColumnDataSource\"},\"glyph\":{\"id\":\"d01811da-ad99-49e3-8411-f0a038ed2927\",\"type\":\"Line\"},\"hover_glyph\":null,\"muted_glyph\":null,\"nonselection_glyph\":{\"id\":\"544a57ca-0f69-4070-8a67-b4c56d1c01cc\",\"type\":\"Line\"},\"selection_glyph\":null,\"view\":{\"id\":\"6e660d1d-7770-49e3-900c-24534e1389b7\",\"type\":\"CDSView\"}},\"id\":\"308a3597-08a2-4042-b67c-b929fdf8baf3\",\"type\":\"GlyphRenderer\"},{\"attributes\":{\"plot\":{\"id\":\"802645a1-fe28-499f-9b03-96d1770922fb\",\"subtype\":\"Figure\",\"type\":\"Plot\"},\"ticker\":{\"id\":\"8af5cea0-f0d9-4d21-bf7d-c126a678678a\",\"type\":\"BasicTicker\"}},\"id\":\"0c87bd41-d87b-42d3-a489-b49d740bd992\",\"type\":\"Grid\"},{\"attributes\":{\"axis_label\":\"pressure [mb]\",\"formatter\":{\"id\":\"a11e7412-1859-4410-b313-7124ea4596aa\",\"type\":\"LogTickFormatter\"},\"plot\":{\"id\":\"802645a1-fe28-499f-9b03-96d1770922fb\",\"subtype\":\"Figure\",\"type\":\"Plot\"},\"ticker\":{\"id\":\"1b1d79d9-3f9a-4ac5-b22d-60f8d87efddf\",\"type\":\"LogTicker\"}},\"id\":\"eb3e4adb-09ce-49c3-89cb-0f497046a003\",\"type\":\"LogAxis\"},{\"attributes\":{\"fill_alpha\":{\"value\":0.1},\"fill_color\":{\"value\":\"#1f77b4\"},\"line_alpha\":{\"value\":0.1},\"line_color\":{\"value\":\"#1f77b4\"},\"x\":{\"field\":\"x\"},\"y\":{\"field\":\"y\"}},\"id\":\"23b2c49f-0a52-4305-bf97-5956c628e11b\",\"type\":\"Circle\"},{\"attributes\":{},\"id\":\"c52a4f14-00b0-4aa1-9667-727a8b5c54ad\",\"type\":\"ResetTool\"},{\"attributes\":{\"callback\":null,\"data\":{\"x\":{\"__ndarray__\":\"0CYBcvU5UkCik9zf2GVBQF1VoNfLZ0BAVLxhiVXTPUDD1Wu1wJM6QFJyB025jjdAU6Aw5+b/NECYe1uuDfgyQB6bYtVTbTFAPxYSAF1HMEA00pYVm9QuQLolHbMzgC1AntlwirGsLECv+G9SjE4rQJH6ZLBp0ShAsLZQyPd/JkDyjgyf2PwkQLgyNGsrJyRAA13QbJD6I0C8hy0ilI4kQOVTXCEgcSZAovOGvZSGJUBVc/ZmUOIgQOf/6GHAyRlAcE8fAOBSFEDRur1U//gPQGFD9ZbokghAQsqHuSqSA0C91ci3W0UBQCtRQfvz7/4/kh8pntyB+j9t1/n+4TX1P773MAUjFfI/RgzR+CI28T8hBW8WHK7uPzVKjJfU8uk/0FPt4/z65T/wVYqzMPDhPz7K9C5CXuE/8+hSn9hY4T/9PPCkR6rhP1XsIC599OA/66X1nBCX3z/YbRM56QjcPz4dkSQc/dM/S7Wb8Fq00T+/yQdmX0vcP7TrGf476eM/WqNPJoWO7D9qOH1bcwDzP2bw+R5DQ/Y/RLSuQOQp+D8+aif8yAz5P0Wv6eBKRfk/0i2+IN4R+T/ik8QNFZr4PyS5UD5j/Pc/yJ68zXRG9z/2CHPL54H2P59SOhwKtPU/npkP8dfg9D8NlmVcdQz0P80ugRvuOvM/byxiAHN18j9USVZie8nxP5l9lNXYSPE/OB+F0UYP8T8Y7dsUCTHxP3EBgTHPcPE/bfx15p8S8T8FT+xkGtTuP6mdG7rkxuk/pboqTkHX5D/CrN8qGYngP7R4ZaL+htU/\",\"dtype\":\"float64\",\"shape\":[75]},\"y\":{\"__ndarray__\":\"GhExyth1ND/Sv8nbtpRIP2vylNV0PVE/aTum7souWD/At0SJ8fVgPw3Iuahxymc/MSNhhJWvcD/bTfBN02d3P2zb5nxnaoA/CD5h5MAGhz8NmeH1TyaQP+zrCsc9p5Y/LbKd76fGnz/bLW5ISEmmPww9YvTcQq8/JV2OstnstT8Er5Y7M8G+P0c+r3jqkcU/5h99k6ZBzj88bCIzFzjVP4enV8oyxN0//yH99nXg5D8qOpLLf0jtP5kqGJXUifQ/c9cS8kHP/D+/DpwzojQEQIEmwoanVwxA4lgXt9HgE0BSSZ2AJuIbQAMJih9jjiNA5q4l5INuK0AwTKYKRj0zQNv5fmq8/DpAaCJseHrtQkB/+zpwzoxKQM3MzMzMeFJAZmZmZmZqWEAAAAAAAFxeQM3MzMzMJmJAmpmZmZkfZUBmZmZmZhhoQDMzMzMzEWtAAAAAAAAKbkBmZmZmZoFwQM3MzMzM/XFAMzMzMzN6c0CamZmZmfZ0QAAAAAAAc3ZAZmZmZmbvd0DNzMzMzGt5QDMzMzMz6HpAmpmZmZlkfEAAAAAAAOF9QGZmZmZmXX9AZmZmZuZsgECamZmZGSuBQM3MzMxM6YFAAAAAAICngkAzMzMzs2WDQGZmZmbmI4RAmpmZmRnihEDNzMzMTKCFQAAAAACAXoZAMzMzM7Mch0BmZmZm5tqHQJqZmZkZmYhAzczMzExXiUAAAAAAgBWKQDMzMzOz04pAZmZmZuaRi0CamZmZGVCMQM3MzMxMDo1AAAAAAIDMjUAzMzMzs4qOQGZmZmbmSI9A\",\"dtype\":\"float64\",\"shape\":[75]}},\"selected\":{\"id\":\"498ad7f3-c16f-45bd-a32b-578c2e9d3dcd\",\"type\":\"Selection\"},\"selection_policy\":{\"id\":\"5f32b036-36e7-4771-996b-732f24c9b9b7\",\"type\":\"UnionRenderers\"}},\"id\":\"bf43ad33-8116-4f32-9027-a78a6433f05c\",\"type\":\"ColumnDataSource\"},{\"attributes\":{\"data_source\":{\"id\":\"e0890791-7309-4831-8b47-603bc0c8c672\",\"type\":\"ColumnDataSource\"},\"glyph\":{\"id\":\"40377aca-5598-437b-8230-81fd94eb085a\",\"type\":\"Line\"},\"hover_glyph\":null,\"muted_glyph\":null,\"nonselection_glyph\":{\"id\":\"d931ced2-52ae-4695-b194-ec9a3dc4e891\",\"type\":\"Line\"},\"selection_glyph\":null,\"view\":{\"id\":\"ee68d42b-cccd-489f-b53b-9eb0648b1adc\",\"type\":\"CDSView\"}},\"id\":\"77b68cf8-7d7a-452d-a27d-53af0b90c422\",\"type\":\"GlyphRenderer\"},{\"attributes\":{\"source\":{\"id\":\"b53311c7-4624-4557-962e-086438a259f8\",\"type\":\"ColumnDataSource\"}},\"id\":\"aa004166-e256-4fc1-a635-fa73b8d3c088\",\"type\":\"CDSView\"},{\"attributes\":{},\"id\":\"8af5cea0-f0d9-4d21-bf7d-c126a678678a\",\"type\":\"BasicTicker\"},{\"attributes\":{\"fill_alpha\":{\"value\":0.7},\"fill_color\":{\"value\":\"#4daf4a\"},\"line_alpha\":{\"value\":0.7},\"line_color\":{\"value\":\"#4daf4a\"},\"x\":{\"field\":\"x\"},\"y\":{\"field\":\"y\"}},\"id\":\"e1507df6-e65a-41a3-9fe3-709612003857\",\"type\":\"Circle\"},{\"attributes\":{\"source\":{\"id\":\"e0890791-7309-4831-8b47-603bc0c8c672\",\"type\":\"ColumnDataSource\"}},\"id\":\"ee68d42b-cccd-489f-b53b-9eb0648b1adc\",\"type\":\"CDSView\"},{\"attributes\":{\"above\":[{\"id\":\"3eec4f62-f65a-403d-8b65-f108afed080f\",\"type\":\"Legend\"}],\"below\":[{\"id\":\"2237845a-c798-413d-ae6b-1c286321ebaa\",\"type\":\"LinearAxis\"}],\"left\":[{\"id\":\"819be3bd-5ae2-459a-89da-f25965c2046d\",\"type\":\"LinearAxis\"}],\"plot_width\":300,\"renderers\":[{\"id\":\"2237845a-c798-413d-ae6b-1c286321ebaa\",\"type\":\"LinearAxis\"},{\"id\":\"ec50dfb0-c01a-40fd-927b-85a517972e88\",\"type\":\"Grid\"},{\"id\":\"819be3bd-5ae2-459a-89da-f25965c2046d\",\"type\":\"LinearAxis\"},{\"id\":\"5b9d954d-7b19-4bd8-a14d-509aec4a591a\",\"type\":\"Grid\"},{\"id\":\"d87a788b-de60-4326-94a3-132b10feb0e6\",\"type\":\"BoxAnnotation\"},{\"id\":\"628ea8dd-21c1-487a-bb2d-3cf078ed2025\",\"type\":\"GlyphRenderer\"},{\"id\":\"3da4e12d-edca-44d4-bd3e-40592c1265e4\",\"type\":\"GlyphRenderer\"},{\"id\":\"9ed999ce-5cc4-4137-ab52-c6ca360af33b\",\"type\":\"GlyphRenderer\"},{\"id\":\"3eec4f62-f65a-403d-8b65-f108afed080f\",\"type\":\"Legend\"}],\"title\":{\"id\":\"16fac050-7714-4d0b-aaad-692c9d354655\",\"type\":\"Title\"},\"toolbar\":{\"id\":\"f63fb3a9-4497-4631-9f1c-993d3a96a772\",\"type\":\"Toolbar\"},\"toolbar_location\":null,\"x_range\":{\"id\":\"943269cb-6835-4353-822f-dba19f71ab04\",\"type\":\"Range1d\"},\"x_scale\":{\"id\":\"28605945-39ef-49ed-84f3-ae253ea2f3ce\",\"type\":\"LinearScale\"},\"y_range\":{\"id\":\"fd234ffa-129d-49b3-98b2-ab169f76df2e\",\"type\":\"Range1d\"},\"y_scale\":{\"id\":\"9b41d523-64a1-47b9-8f77-335c9e65252e\",\"type\":\"LinearScale\"}},\"id\":\"3f23c238-6578-418e-8c2d-71657cda1d17\",\"subtype\":\"Figure\",\"type\":\"Plot\"},{\"attributes\":{\"callback\":null,\"end\":16.436989857875947,\"start\":0.29783215711705},\"id\":\"2465e868-292a-4ead-9409-eaf76d8f3b07\",\"type\":\"Range1d\"},{\"attributes\":{},\"id\":\"b86a4f9a-a392-4823-a458-b2b1619ff7aa\",\"type\":\"SaveTool\"},{\"attributes\":{},\"id\":\"b243eb17-5683-4bb3-8112-2f5196d6d319\",\"type\":\"BasicTickFormatter\"},{\"attributes\":{},\"id\":\"9b41d523-64a1-47b9-8f77-335c9e65252e\",\"type\":\"LinearScale\"},{\"attributes\":{\"plot\":null,\"text\":\"\"},\"id\":\"bd9f08e7-f859-4047-9f2a-48e6b50e893e\",\"type\":\"Title\"},{\"attributes\":{\"callback\":null,\"data\":{\"x\":{\"__ndarray__\":\"0CYBcvU5UkCik9zf2GVBQF1VoNfLZ0BAVLxhiVXTPUDD1Wu1wJM6QFJyB025jjdAU6Aw5+b/NECYe1uuDfgyQB6bYtVTbTFAPxYSAF1HMEA00pYVm9QuQLolHbMzgC1AntlwirGsLECv+G9SjE4rQJH6ZLBp0ShAsLZQyPd/JkDyjgyf2PwkQLgyNGsrJyRAA13QbJD6I0C8hy0ilI4kQOVTXCEgcSZAovOGvZSGJUBVc/ZmUOIgQOf/6GHAyRlAcE8fAOBSFEDRur1U//gPQGFD9ZbokghAQsqHuSqSA0C91ci3W0UBQCtRQfvz7/4/kh8pntyB+j9t1/n+4TX1P773MAUjFfI/RgzR+CI28T8hBW8WHK7uPzVKjJfU8uk/0FPt4/z65T/wVYqzMPDhPz7K9C5CXuE/8+hSn9hY4T/9PPCkR6rhP1XsIC599OA/66X1nBCX3z/YbRM56QjcPz4dkSQc/dM/S7Wb8Fq00T+/yQdmX0vcP7TrGf476eM/WqNPJoWO7D9qOH1bcwDzP2bw+R5DQ/Y/RLSuQOQp+D8+aif8yAz5P0Wv6eBKRfk/0i2+IN4R+T/ik8QNFZr4PyS5UD5j/Pc/yJ68zXRG9z/2CHPL54H2P59SOhwKtPU/npkP8dfg9D8NlmVcdQz0P80ugRvuOvM/byxiAHN18j9USVZie8nxP5l9lNXYSPE/OB+F0UYP8T8Y7dsUCTHxP3EBgTHPcPE/bfx15p8S8T8FT+xkGtTuP6mdG7rkxuk/pboqTkHX5D/CrN8qGYngP7R4ZaL+htU/\",\"dtype\":\"float64\",\"shape\":[75]},\"y\":{\"__ndarray__\":\"GhExyth1ND/Sv8nbtpRIP2vylNV0PVE/aTum7souWD/At0SJ8fVgPw3Iuahxymc/MSNhhJWvcD/bTfBN02d3P2zb5nxnaoA/CD5h5MAGhz8NmeH1TyaQP+zrCsc9p5Y/LbKd76fGnz/bLW5ISEmmPww9YvTcQq8/JV2OstnstT8Er5Y7M8G+P0c+r3jqkcU/5h99k6ZBzj88bCIzFzjVP4enV8oyxN0//yH99nXg5D8qOpLLf0jtP5kqGJXUifQ/c9cS8kHP/D+/DpwzojQEQIEmwoanVwxA4lgXt9HgE0BSSZ2AJuIbQAMJih9jjiNA5q4l5INuK0AwTKYKRj0zQNv5fmq8/DpAaCJseHrtQkB/+zpwzoxKQM3MzMzMeFJAZmZmZmZqWEAAAAAAAFxeQM3MzMzMJmJAmpmZmZkfZUBmZmZmZhhoQDMzMzMzEWtAAAAAAAAKbkBmZmZmZoFwQM3MzMzM/XFAMzMzMzN6c0CamZmZmfZ0QAAAAAAAc3ZAZmZmZmbvd0DNzMzMzGt5QDMzMzMz6HpAmpmZmZlkfEAAAAAAAOF9QGZmZmZmXX9AZmZmZuZsgECamZmZGSuBQM3MzMxM6YFAAAAAAICngkAzMzMzs2WDQGZmZmbmI4RAmpmZmRnihEDNzMzMTKCFQAAAAACAXoZAMzMzM7Mch0BmZmZm5tqHQJqZmZkZmYhAzczMzExXiUAAAAAAgBWKQDMzMzOz04pAZmZmZuaRi0CamZmZGVCMQM3MzMxMDo1AAAAAAIDMjUAzMzMzs4qOQGZmZmbmSI9A\",\"dtype\":\"float64\",\"shape\":[75]}},\"selected\":{\"id\":\"fdce0f68-c25c-4cdd-a4a5-85b519143807\",\"type\":\"Selection\"},\"selection_policy\":{\"id\":\"9948eae6-4c8c-4346-8ad0-7f287a85b323\",\"type\":\"UnionRenderers\"}},\"id\":\"aaa22e68-8ff3-43eb-a28a-59acd7b3ddd2\",\"type\":\"ColumnDataSource\"},{\"attributes\":{},\"id\":\"498ad7f3-c16f-45bd-a32b-578c2e9d3dcd\",\"type\":\"Selection\"},{\"attributes\":{},\"id\":\"f90cd129-320c-4c8d-b9cc-bc85b4e1bb6f\",\"type\":\"UnionRenderers\"},{\"attributes\":{\"source\":{\"id\":\"44055915-6da5-4992-a516-bd1818c93c3c\",\"type\":\"ColumnDataSource\"}},\"id\":\"f4216017-647b-48b7-87f6-a184fe2bb3da\",\"type\":\"CDSView\"},{\"attributes\":{},\"id\":\"b13db771-1fcb-486a-b76c-c0ddbd180a34\",\"type\":\"PanTool\"},{\"attributes\":{\"above\":[{\"id\":\"9477746c-7c98-4f13-bfd5-8bc75fca9fc2\",\"type\":\"Legend\"}],\"below\":[{\"id\":\"7a82691b-2808-49f0-a4d4-f0bfaa90b4f0\",\"type\":\"LinearAxis\"}],\"left\":[{\"id\":\"deb72bdd-98a2-4ee3-be8c-1da062fd7df0\",\"type\":\"LogAxis\"}],\"plot_width\":300,\"renderers\":[{\"id\":\"7a82691b-2808-49f0-a4d4-f0bfaa90b4f0\",\"type\":\"LinearAxis\"},{\"id\":\"526407ea-f01a-4167-b5d0-862b9cd2dcc5\",\"type\":\"Grid\"},{\"id\":\"deb72bdd-98a2-4ee3-be8c-1da062fd7df0\",\"type\":\"LogAxis\"},{\"id\":\"7ed30d33-e86c-443d-b82b-443e67048f58\",\"type\":\"Grid\"},{\"id\":\"f79b4921-7f3c-462e-8b50-652ac346de34\",\"type\":\"BoxAnnotation\"},{\"id\":\"77b68cf8-7d7a-452d-a27d-53af0b90c422\",\"type\":\"GlyphRenderer\"},{\"id\":\"6621973b-a968-4522-9b76-34437aae4063\",\"type\":\"GlyphRenderer\"},{\"id\":\"308a3597-08a2-4042-b67c-b929fdf8baf3\",\"type\":\"GlyphRenderer\"},{\"id\":\"9477746c-7c98-4f13-bfd5-8bc75fca9fc2\",\"type\":\"Legend\"}],\"title\":{\"id\":\"bd9f08e7-f859-4047-9f2a-48e6b50e893e\",\"type\":\"Title\"},\"toolbar\":{\"id\":\"7fb3f606-4c89-4f99-ba0c-fb7889cd9859\",\"type\":\"Toolbar\"},\"toolbar_location\":null,\"x_range\":{\"id\":\"2465e868-292a-4ead-9409-eaf76d8f3b07\",\"type\":\"Range1d\"},\"x_scale\":{\"id\":\"2636fecf-9ae3-4965-9ee0-6d3b08d5e6c0\",\"type\":\"LinearScale\"},\"y_range\":{\"id\":\"5c7190af-2de1-4f4c-bf65-b483ef9c95c8\",\"type\":\"Range1d\"},\"y_scale\":{\"id\":\"b217238d-3e74-4cdb-9e75-f8d56fcf78b1\",\"type\":\"LogScale\"}},\"id\":\"fa8047bb-844a-448f-9692-db658eaf456a\",\"subtype\":\"Figure\",\"type\":\"Plot\"},{\"attributes\":{},\"id\":\"cd3f676c-58f5-403c-84d1-ff9ba9bfade5\",\"type\":\"UnionRenderers\"},{\"attributes\":{\"label\":{\"value\":\"CLIRAD (single-run) - CRD\"},\"renderers\":[{\"id\":\"3b013cdc-b850-4cd0-a027-3eec7e599765\",\"type\":\"GlyphRenderer\"},{\"id\":\"0ddd3d04-b638-4812-8cd4-f84f8289a62b\",\"type\":\"GlyphRenderer\"}]},\"id\":\"489b0819-34de-4f5d-8a04-eeed13a8c9fb\",\"type\":\"LegendItem\"},{\"attributes\":{\"children\":[{\"id\":\"9c148fec-9ff7-4735-abbc-32cd8a7527fe\",\"type\":\"ToolbarBox\"},{\"id\":\"728de5d0-918a-41c4-bf42-eb1f90e0a071\",\"type\":\"Column\"}]},\"id\":\"79b4b66c-4078-4f14-a60a-23d6784c5efd\",\"type\":\"Column\"},{\"attributes\":{\"tools\":[{\"id\":\"8b8e4fd6-2334-48dd-8b07-aecd8e9509b9\",\"type\":\"PanTool\"},{\"id\":\"615be9b1-3e8e-4b12-b865-da7e6f9db8a0\",\"type\":\"WheelZoomTool\"},{\"id\":\"502de139-0f00-41c7-89e2-4460e4e5fdbc\",\"type\":\"BoxZoomTool\"},{\"id\":\"867ef73c-1289-4cc0-bf55-5b8d6c23e3cc\",\"type\":\"SaveTool\"},{\"id\":\"ee761b8d-4eb1-438e-9c37-4ed5e08896ec\",\"type\":\"ResetTool\"},{\"id\":\"a0e718b9-4f84-432b-9d65-8e84fa05ff55\",\"type\":\"HelpTool\"},{\"id\":\"b13db771-1fcb-486a-b76c-c0ddbd180a34\",\"type\":\"PanTool\"},{\"id\":\"a2765fc9-2b49-46c0-a0b1-37547f82eadf\",\"type\":\"WheelZoomTool\"},{\"id\":\"ba8c8c0e-34df-4965-baa3-12e0d995896a\",\"type\":\"BoxZoomTool\"},{\"id\":\"b86a4f9a-a392-4823-a458-b2b1619ff7aa\",\"type\":\"SaveTool\"},{\"id\":\"95d2ca98-3e3e-40ac-bbd4-2103240fc6be\",\"type\":\"ResetTool\"},{\"id\":\"db5e8cc2-b282-437e-b250-d0277ef7d66c\",\"type\":\"HelpTool\"},{\"id\":\"700e39c5-e775-476f-8493-173df39b963a\",\"type\":\"PanTool\"},{\"id\":\"11089f2d-2c0a-4188-9a01-69780d8a6d6b\",\"type\":\"WheelZoomTool\"},{\"id\":\"573b56de-472f-442b-b861-ebc65be0efc5\",\"type\":\"BoxZoomTool\"},{\"id\":\"8f39cdd4-7fdf-4c35-8de5-924e310d17fd\",\"type\":\"SaveTool\"},{\"id\":\"c52a4f14-00b0-4aa1-9667-727a8b5c54ad\",\"type\":\"ResetTool\"},{\"id\":\"3da04b4c-2fbd-493d-8457-9cf030bc47e1\",\"type\":\"HelpTool\"}]},\"id\":\"ee860254-2a63-4c16-ae3b-d7c0ffc631e0\",\"type\":\"ProxyToolbar\"},{\"attributes\":{\"callback\":null,\"end\":0.01,\"start\":1020},\"id\":\"5c7190af-2de1-4f4c-bf65-b483ef9c95c8\",\"type\":\"Range1d\"},{\"attributes\":{},\"id\":\"b217238d-3e74-4cdb-9e75-f8d56fcf78b1\",\"type\":\"LogScale\"},{\"attributes\":{},\"id\":\"9948eae6-4c8c-4346-8ad0-7f287a85b323\",\"type\":\"UnionRenderers\"},{\"attributes\":{},\"id\":\"7a414685-798a-4e92-b736-0cca7551a469\",\"type\":\"BasicTicker\"},{\"attributes\":{\"axis_label\":\"pressure [mb]\",\"formatter\":{\"id\":\"1be6af86-44b4-4c5d-95a8-4143e3d68937\",\"type\":\"LogTickFormatter\"},\"plot\":{\"id\":\"fa8047bb-844a-448f-9692-db658eaf456a\",\"subtype\":\"Figure\",\"type\":\"Plot\"},\"ticker\":{\"id\":\"ab834d00-f166-47c4-b43e-a500a9abb572\",\"type\":\"LogTicker\"}},\"id\":\"deb72bdd-98a2-4ee3-be8c-1da062fd7df0\",\"type\":\"LogAxis\"},{\"attributes\":{\"line_color\":\"#4daf4a\",\"line_width\":1.5,\"x\":{\"field\":\"x\"},\"y\":{\"field\":\"y\"}},\"id\":\"712a7b35-84f7-4203-b0ad-706a399c72db\",\"type\":\"Line\"},{\"attributes\":{\"axis_label\":\"pressure [mb]\",\"formatter\":{\"id\":\"b243eb17-5683-4bb3-8112-2f5196d6d319\",\"type\":\"BasicTickFormatter\"},\"plot\":{\"id\":\"3f23c238-6578-418e-8c2d-71657cda1d17\",\"subtype\":\"Figure\",\"type\":\"Plot\"},\"ticker\":{\"id\":\"7e0f2fde-76bc-4123-9d43-3a7cd9394a76\",\"type\":\"BasicTicker\"}},\"id\":\"819be3bd-5ae2-459a-89da-f25965c2046d\",\"type\":\"LinearAxis\"},{\"attributes\":{\"data_source\":{\"id\":\"44055915-6da5-4992-a516-bd1818c93c3c\",\"type\":\"ColumnDataSource\"},\"glyph\":{\"id\":\"ae1d43b1-d7aa-4e69-b6be-569cbf491892\",\"type\":\"Line\"},\"hover_glyph\":null,\"muted_glyph\":null,\"nonselection_glyph\":{\"id\":\"23d59ca1-477b-48ba-a455-6b798f641a7d\",\"type\":\"Line\"},\"selection_glyph\":null,\"view\":{\"id\":\"f4216017-647b-48b7-87f6-a184fe2bb3da\",\"type\":\"CDSView\"}},\"id\":\"0ddd3d04-b638-4812-8cd4-f84f8289a62b\",\"type\":\"GlyphRenderer\"},{\"attributes\":{\"children\":[{\"id\":\"3f23c238-6578-418e-8c2d-71657cda1d17\",\"subtype\":\"Figure\",\"type\":\"Plot\"},{\"id\":\"fa8047bb-844a-448f-9692-db658eaf456a\",\"subtype\":\"Figure\",\"type\":\"Plot\"},{\"id\":\"802645a1-fe28-499f-9b03-96d1770922fb\",\"subtype\":\"Figure\",\"type\":\"Plot\"}]},\"id\":\"5bde4bc9-60a0-4f73-be7e-7c62e3fc6602\",\"type\":\"Row\"},{\"attributes\":{\"line_alpha\":0.1,\"line_color\":\"#1f77b4\",\"line_width\":1.5,\"x\":{\"field\":\"x\"},\"y\":{\"field\":\"y\"}},\"id\":\"572af8fa-71bf-4b42-8d48-4862a73d2798\",\"type\":\"Line\"},{\"attributes\":{\"plot\":null,\"text\":\"\"},\"id\":\"16fac050-7714-4d0b-aaad-692c9d354655\",\"type\":\"Title\"},{\"attributes\":{\"dimension\":1,\"plot\":{\"id\":\"fa8047bb-844a-448f-9692-db658eaf456a\",\"subtype\":\"Figure\",\"type\":\"Plot\"},\"ticker\":{\"id\":\"ab834d00-f166-47c4-b43e-a500a9abb572\",\"type\":\"LogTicker\"}},\"id\":\"7ed30d33-e86c-443d-b82b-443e67048f58\",\"type\":\"Grid\"},{\"attributes\":{\"line_alpha\":0.8,\"line_color\":\"#984ea3\",\"line_width\":1.5,\"x\":{\"field\":\"x\"},\"y\":{\"field\":\"y\"}},\"id\":\"ae1d43b1-d7aa-4e69-b6be-569cbf491892\",\"type\":\"Line\"},{\"attributes\":{\"axis_label\":\"cooling rate [K/day]\",\"formatter\":{\"id\":\"7fb110fc-c4bc-475f-a496-6c86bc390e15\",\"type\":\"BasicTickFormatter\"},\"plot\":{\"id\":\"fa8047bb-844a-448f-9692-db658eaf456a\",\"subtype\":\"Figure\",\"type\":\"Plot\"},\"ticker\":{\"id\":\"fb8a4589-8c85-4732-b0c0-862c2ec15b8e\",\"type\":\"BasicTicker\"}},\"id\":\"7a82691b-2808-49f0-a4d4-f0bfaa90b4f0\",\"type\":\"LinearAxis\"},{\"attributes\":{\"data_source\":{\"id\":\"57efe072-ba9e-4038-bc44-dda8645b4603\",\"type\":\"ColumnDataSource\"},\"glyph\":{\"id\":\"b4d2ef33-1a53-448e-bfe4-986ed5f69c02\",\"type\":\"Circle\"},\"hover_glyph\":null,\"muted_glyph\":null,\"nonselection_glyph\":{\"id\":\"ddd99855-43cd-42ba-9e9d-83bb60760d4f\",\"type\":\"Circle\"},\"selection_glyph\":null,\"view\":{\"id\":\"e772f3e2-4b20-458b-bf64-84f3ddef1317\",\"type\":\"CDSView\"}},\"id\":\"3da4e12d-edca-44d4-bd3e-40592c1265e4\",\"type\":\"GlyphRenderer\"},{\"attributes\":{\"axis_label\":\"cooling rate [K/day]\",\"formatter\":{\"id\":\"2c689ee0-801e-473d-9ec3-f558e8f11c3e\",\"type\":\"BasicTickFormatter\"},\"plot\":{\"id\":\"3f23c238-6578-418e-8c2d-71657cda1d17\",\"subtype\":\"Figure\",\"type\":\"Plot\"},\"ticker\":{\"id\":\"7a414685-798a-4e92-b736-0cca7551a469\",\"type\":\"BasicTicker\"}},\"id\":\"2237845a-c798-413d-ae6b-1c286321ebaa\",\"type\":\"LinearAxis\"},{\"attributes\":{},\"id\":\"fdce0f68-c25c-4cdd-a4a5-85b519143807\",\"type\":\"Selection\"},{\"attributes\":{\"fill_alpha\":{\"value\":0.1},\"fill_color\":{\"value\":\"#1f77b4\"},\"line_alpha\":{\"value\":0.1},\"line_color\":{\"value\":\"#1f77b4\"},\"x\":{\"field\":\"x\"},\"y\":{\"field\":\"y\"}},\"id\":\"ddd99855-43cd-42ba-9e9d-83bb60760d4f\",\"type\":\"Circle\"},{\"attributes\":{},\"id\":\"a2765fc9-2b49-46c0-a0b1-37547f82eadf\",\"type\":\"WheelZoomTool\"},{\"attributes\":{\"line_alpha\":0.1,\"line_color\":\"#1f77b4\",\"line_width\":1.5,\"x\":{\"field\":\"x\"},\"y\":{\"field\":\"y\"}},\"id\":\"23d59ca1-477b-48ba-a455-6b798f641a7d\",\"type\":\"Line\"},{\"attributes\":{},\"id\":\"2c689ee0-801e-473d-9ec3-f558e8f11c3e\",\"type\":\"BasicTickFormatter\"},{\"attributes\":{\"ticker\":null},\"id\":\"1be6af86-44b4-4c5d-95a8-4143e3d68937\",\"type\":\"LogTickFormatter\"},{\"attributes\":{},\"id\":\"db5e8cc2-b282-437e-b250-d0277ef7d66c\",\"type\":\"HelpTool\"},{\"attributes\":{\"bottom_units\":\"screen\",\"fill_alpha\":{\"value\":0.5},\"fill_color\":{\"value\":\"lightgrey\"},\"left_units\":\"screen\",\"level\":\"overlay\",\"line_alpha\":{\"value\":1.0},\"line_color\":{\"value\":\"black\"},\"line_dash\":[4,4],\"line_width\":{\"value\":2},\"plot\":null,\"render_mode\":\"css\",\"right_units\":\"screen\",\"top_units\":\"screen\"},\"id\":\"f79b4921-7f3c-462e-8b50-652ac346de34\",\"type\":\"BoxAnnotation\"},{\"attributes\":{},\"id\":\"5f32b036-36e7-4771-996b-732f24c9b9b7\",\"type\":\"UnionRenderers\"},{\"attributes\":{\"plot\":{\"id\":\"fa8047bb-844a-448f-9692-db658eaf456a\",\"subtype\":\"Figure\",\"type\":\"Plot\"},\"ticker\":{\"id\":\"fb8a4589-8c85-4732-b0c0-862c2ec15b8e\",\"type\":\"BasicTicker\"}},\"id\":\"526407ea-f01a-4167-b5d0-862b9cd2dcc5\",\"type\":\"Grid\"},{\"attributes\":{\"label\":{\"value\":\"CRD\"},\"renderers\":[{\"id\":\"6621973b-a968-4522-9b76-34437aae4063\",\"type\":\"GlyphRenderer\"},{\"id\":\"308a3597-08a2-4042-b67c-b929fdf8baf3\",\"type\":\"GlyphRenderer\"}]},\"id\":\"697c28d4-8a1b-4ab1-98e1-38ee8e4aff95\",\"type\":\"LegendItem\"},{\"attributes\":{},\"id\":\"ef697f0c-6373-467f-be74-dcaa8a9da81a\",\"type\":\"Selection\"},{\"attributes\":{},\"id\":\"a47765b6-326e-40a9-9d58-22908b54fd41\",\"type\":\"UnionRenderers\"},{\"attributes\":{\"num_minor_ticks\":10},\"id\":\"ab834d00-f166-47c4-b43e-a500a9abb572\",\"type\":\"LogTicker\"},{\"attributes\":{\"data_source\":{\"id\":\"52cc3a8a-9632-4846-9c8c-0a39f249892e\",\"type\":\"ColumnDataSource\"},\"glyph\":{\"id\":\"ab69de53-90e2-4462-864c-a434efdf1db4\",\"type\":\"Line\"},\"hover_glyph\":null,\"muted_glyph\":null,\"nonselection_glyph\":{\"id\":\"4d50d430-6db5-4aef-95c3-5891d631e063\",\"type\":\"Line\"},\"selection_glyph\":null,\"view\":{\"id\":\"444aff6b-e967-4d9e-8fba-295d15dbe618\",\"type\":\"CDSView\"}},\"id\":\"628ea8dd-21c1-487a-bb2d-3cf078ed2025\",\"type\":\"GlyphRenderer\"},{\"attributes\":{},\"id\":\"7fb110fc-c4bc-475f-a496-6c86bc390e15\",\"type\":\"BasicTickFormatter\"},{\"attributes\":{},\"id\":\"fb8a4589-8c85-4732-b0c0-862c2ec15b8e\",\"type\":\"BasicTicker\"},{\"attributes\":{\"callback\":null,\"data\":{\"x\":{\"__ndarray__\":\"0CYBcvU5UkCik9zf2GVBQF1VoNfLZ0BAVLxhiVXTPUDD1Wu1wJM6QFJyB025jjdAU6Aw5+b/NECYe1uuDfgyQB6bYtVTbTFAPxYSAF1HMEA00pYVm9QuQLolHbMzgC1AntlwirGsLECv+G9SjE4rQJH6ZLBp0ShAsLZQyPd/JkDyjgyf2PwkQLgyNGsrJyRAA13QbJD6I0C8hy0ilI4kQOVTXCEgcSZAovOGvZSGJUBVc/ZmUOIgQOf/6GHAyRlAcE8fAOBSFEDRur1U//gPQGFD9ZbokghAQsqHuSqSA0C91ci3W0UBQCtRQfvz7/4/kh8pntyB+j9t1/n+4TX1P773MAUjFfI/RgzR+CI28T8hBW8WHK7uPzVKjJfU8uk/0FPt4/z65T/wVYqzMPDhPz7K9C5CXuE/8+hSn9hY4T/9PPCkR6rhP1XsIC599OA/66X1nBCX3z/YbRM56QjcPz4dkSQc/dM/S7Wb8Fq00T+/yQdmX0vcP7TrGf476eM/WqNPJoWO7D9qOH1bcwDzP2bw+R5DQ/Y/RLSuQOQp+D8+aif8yAz5P0Wv6eBKRfk/0i2+IN4R+T/ik8QNFZr4PyS5UD5j/Pc/yJ68zXRG9z/2CHPL54H2P59SOhwKtPU/npkP8dfg9D8NlmVcdQz0P80ugRvuOvM/byxiAHN18j9USVZie8nxP5l9lNXYSPE/OB+F0UYP8T8Y7dsUCTHxP3EBgTHPcPE/bfx15p8S8T8FT+xkGtTuP6mdG7rkxuk/pboqTkHX5D/CrN8qGYngP7R4ZaL+htU/\",\"dtype\":\"float64\",\"shape\":[75]},\"y\":{\"__ndarray__\":\"GhExyth1ND/Sv8nbtpRIP2vylNV0PVE/aTum7souWD/At0SJ8fVgPw3Iuahxymc/MSNhhJWvcD/bTfBN02d3P2zb5nxnaoA/CD5h5MAGhz8NmeH1TyaQP+zrCsc9p5Y/LbKd76fGnz/bLW5ISEmmPww9YvTcQq8/JV2OstnstT8Er5Y7M8G+P0c+r3jqkcU/5h99k6ZBzj88bCIzFzjVP4enV8oyxN0//yH99nXg5D8qOpLLf0jtP5kqGJXUifQ/c9cS8kHP/D+/DpwzojQEQIEmwoanVwxA4lgXt9HgE0BSSZ2AJuIbQAMJih9jjiNA5q4l5INuK0AwTKYKRj0zQNv5fmq8/DpAaCJseHrtQkB/+zpwzoxKQM3MzMzMeFJAZmZmZmZqWEAAAAAAAFxeQM3MzMzMJmJAmpmZmZkfZUBmZmZmZhhoQDMzMzMzEWtAAAAAAAAKbkBmZmZmZoFwQM3MzMzM/XFAMzMzMzN6c0CamZmZmfZ0QAAAAAAAc3ZAZmZmZmbvd0DNzMzMzGt5QDMzMzMz6HpAmpmZmZlkfEAAAAAAAOF9QGZmZmZmXX9AZmZmZuZsgECamZmZGSuBQM3MzMxM6YFAAAAAAICngkAzMzMzs2WDQGZmZmbmI4RAmpmZmRnihEDNzMzMTKCFQAAAAACAXoZAMzMzM7Mch0BmZmZm5tqHQJqZmZkZmYhAzczMzExXiUAAAAAAgBWKQDMzMzOz04pAZmZmZuaRi0CamZmZGVCMQM3MzMxMDo1AAAAAAIDMjUAzMzMzs4qOQGZmZmbmSI9A\",\"dtype\":\"float64\",\"shape\":[75]}},\"selected\":{\"id\":\"573ec1cf-8254-4651-8bc1-57cdba761665\",\"type\":\"Selection\"},\"selection_policy\":{\"id\":\"cd3f676c-58f5-403c-84d1-ff9ba9bfade5\",\"type\":\"UnionRenderers\"}},\"id\":\"57efe072-ba9e-4038-bc44-dda8645b4603\",\"type\":\"ColumnDataSource\"},{\"attributes\":{\"toolbar\":{\"id\":\"ee860254-2a63-4c16-ae3b-d7c0ffc631e0\",\"type\":\"ProxyToolbar\"},\"toolbar_location\":\"above\"},\"id\":\"9c148fec-9ff7-4735-abbc-32cd8a7527fe\",\"type\":\"ToolbarBox\"},{\"attributes\":{\"overlay\":{\"id\":\"f79b4921-7f3c-462e-8b50-652ac346de34\",\"type\":\"BoxAnnotation\"}},\"id\":\"ba8c8c0e-34df-4965-baa3-12e0d995896a\",\"type\":\"BoxZoomTool\"},{\"attributes\":{},\"id\":\"e3e9d2db-db22-42b7-ae29-497b847c8862\",\"type\":\"Selection\"},{\"attributes\":{},\"id\":\"33e65826-67d7-452c-8dc8-367de1eac4f8\",\"type\":\"Selection\"},{\"attributes\":{\"source\":{\"id\":\"52cc3a8a-9632-4846-9c8c-0a39f249892e\",\"type\":\"ColumnDataSource\"}},\"id\":\"444aff6b-e967-4d9e-8fba-295d15dbe618\",\"type\":\"CDSView\"},{\"attributes\":{},\"id\":\"95d2ca98-3e3e-40ac-bbd4-2103240fc6be\",\"type\":\"ResetTool\"},{\"attributes\":{\"plot\":{\"id\":\"3f23c238-6578-418e-8c2d-71657cda1d17\",\"subtype\":\"Figure\",\"type\":\"Plot\"},\"ticker\":{\"id\":\"7a414685-798a-4e92-b736-0cca7551a469\",\"type\":\"BasicTicker\"}},\"id\":\"ec50dfb0-c01a-40fd-927b-85a517972e88\",\"type\":\"Grid\"},{\"attributes\":{},\"id\":\"573ec1cf-8254-4651-8bc1-57cdba761665\",\"type\":\"Selection\"},{\"attributes\":{\"fill_alpha\":{\"value\":0.7},\"fill_color\":{\"value\":\"#4daf4a\"},\"line_alpha\":{\"value\":0.7},\"line_color\":{\"value\":\"#4daf4a\"},\"x\":{\"field\":\"x\"},\"y\":{\"field\":\"y\"}},\"id\":\"b4d2ef33-1a53-448e-bfe4-986ed5f69c02\",\"type\":\"Circle\"},{\"attributes\":{\"callback\":null,\"end\":0.01,\"start\":1020},\"id\":\"fd234ffa-129d-49b3-98b2-ab169f76df2e\",\"type\":\"Range1d\"},{\"attributes\":{\"items\":[{\"id\":\"6a694e17-0f8c-440e-8777-df5d72721b7b\",\"type\":\"LegendItem\"},{\"id\":\"dc9412b9-4cec-44e4-a76f-b8321c1f86dd\",\"type\":\"LegendItem\"}],\"label_text_font_size\":{\"value\":\"8pt\"},\"location\":\"top_center\",\"orientation\":\"horizontal\",\"plot\":{\"id\":\"3f23c238-6578-418e-8c2d-71657cda1d17\",\"subtype\":\"Figure\",\"type\":\"Plot\"}},\"id\":\"3eec4f62-f65a-403d-8b65-f108afed080f\",\"type\":\"Legend\"},{\"attributes\":{\"items\":[{\"id\":\"44fff897-17fd-4358-9575-5ebc39983249\",\"type\":\"LegendItem\"},{\"id\":\"697c28d4-8a1b-4ab1-98e1-38ee8e4aff95\",\"type\":\"LegendItem\"}],\"label_text_font_size\":{\"value\":\"8pt\"},\"location\":\"top_center\",\"orientation\":\"horizontal\",\"plot\":{\"id\":\"fa8047bb-844a-448f-9692-db658eaf456a\",\"subtype\":\"Figure\",\"type\":\"Plot\"}},\"id\":\"9477746c-7c98-4f13-bfd5-8bc75fca9fc2\",\"type\":\"Legend\"},{\"attributes\":{},\"id\":\"8b8e4fd6-2334-48dd-8b07-aecd8e9509b9\",\"type\":\"PanTool\"},{\"attributes\":{},\"id\":\"867ef73c-1289-4cc0-bf55-5b8d6c23e3cc\",\"type\":\"SaveTool\"},{\"attributes\":{\"overlay\":{\"id\":\"d87a788b-de60-4326-94a3-132b10feb0e6\",\"type\":\"BoxAnnotation\"}},\"id\":\"502de139-0f00-41c7-89e2-4460e4e5fdbc\",\"type\":\"BoxZoomTool\"},{\"attributes\":{\"active_drag\":\"auto\",\"active_inspect\":\"auto\",\"active_scroll\":\"auto\",\"active_tap\":\"auto\",\"tools\":[{\"id\":\"b13db771-1fcb-486a-b76c-c0ddbd180a34\",\"type\":\"PanTool\"},{\"id\":\"a2765fc9-2b49-46c0-a0b1-37547f82eadf\",\"type\":\"WheelZoomTool\"},{\"id\":\"ba8c8c0e-34df-4965-baa3-12e0d995896a\",\"type\":\"BoxZoomTool\"},{\"id\":\"b86a4f9a-a392-4823-a458-b2b1619ff7aa\",\"type\":\"SaveTool\"},{\"id\":\"95d2ca98-3e3e-40ac-bbd4-2103240fc6be\",\"type\":\"ResetTool\"},{\"id\":\"db5e8cc2-b282-437e-b250-d0277ef7d66c\",\"type\":\"HelpTool\"}]},\"id\":\"7fb3f606-4c89-4f99-ba0c-fb7889cd9859\",\"type\":\"Toolbar\"},{\"attributes\":{\"source\":{\"id\":\"bf43ad33-8116-4f32-9027-a78a6433f05c\",\"type\":\"ColumnDataSource\"}},\"id\":\"6e660d1d-7770-49e3-900c-24534e1389b7\",\"type\":\"CDSView\"},{\"attributes\":{},\"id\":\"ee761b8d-4eb1-438e-9c37-4ed5e08896ec\",\"type\":\"ResetTool\"},{\"attributes\":{\"active_drag\":\"auto\",\"active_inspect\":\"auto\",\"active_scroll\":\"auto\",\"active_tap\":\"auto\",\"tools\":[{\"id\":\"8b8e4fd6-2334-48dd-8b07-aecd8e9509b9\",\"type\":\"PanTool\"},{\"id\":\"615be9b1-3e8e-4b12-b865-da7e6f9db8a0\",\"type\":\"WheelZoomTool\"},{\"id\":\"502de139-0f00-41c7-89e2-4460e4e5fdbc\",\"type\":\"BoxZoomTool\"},{\"id\":\"867ef73c-1289-4cc0-bf55-5b8d6c23e3cc\",\"type\":\"SaveTool\"},{\"id\":\"ee761b8d-4eb1-438e-9c37-4ed5e08896ec\",\"type\":\"ResetTool\"},{\"id\":\"a0e718b9-4f84-432b-9d65-8e84fa05ff55\",\"type\":\"HelpTool\"}]},\"id\":\"f63fb3a9-4497-4631-9f1c-993d3a96a772\",\"type\":\"Toolbar\"},{\"attributes\":{\"overlay\":{\"id\":\"ec749d0d-73c4-4f55-961f-e22d50b73211\",\"type\":\"BoxAnnotation\"}},\"id\":\"573b56de-472f-442b-b861-ebc65be0efc5\",\"type\":\"BoxZoomTool\"},{\"attributes\":{\"active_drag\":\"auto\",\"active_inspect\":\"auto\",\"active_scroll\":\"auto\",\"active_tap\":\"auto\",\"tools\":[{\"id\":\"700e39c5-e775-476f-8493-173df39b963a\",\"type\":\"PanTool\"},{\"id\":\"11089f2d-2c0a-4188-9a01-69780d8a6d6b\",\"type\":\"WheelZoomTool\"},{\"id\":\"573b56de-472f-442b-b861-ebc65be0efc5\",\"type\":\"BoxZoomTool\"},{\"id\":\"8f39cdd4-7fdf-4c35-8de5-924e310d17fd\",\"type\":\"SaveTool\"},{\"id\":\"c52a4f14-00b0-4aa1-9667-727a8b5c54ad\",\"type\":\"ResetTool\"},{\"id\":\"3da04b4c-2fbd-493d-8457-9cf030bc47e1\",\"type\":\"HelpTool\"}]},\"id\":\"5d57c4ba-04c7-4a39-bd43-856e28717e73\",\"type\":\"Toolbar\"},{\"attributes\":{\"source\":{\"id\":\"aaa22e68-8ff3-43eb-a28a-59acd7b3ddd2\",\"type\":\"ColumnDataSource\"}},\"id\":\"0b2c9c27-d1d1-4711-947f-6ffe357ade39\",\"type\":\"CDSView\"},{\"attributes\":{\"bottom_units\":\"screen\",\"fill_alpha\":{\"value\":0.5},\"fill_color\":{\"value\":\"lightgrey\"},\"left_units\":\"screen\",\"level\":\"overlay\",\"line_alpha\":{\"value\":1.0},\"line_color\":{\"value\":\"black\"},\"line_dash\":[4,4],\"line_width\":{\"value\":2},\"plot\":null,\"render_mode\":\"css\",\"right_units\":\"screen\",\"top_units\":\"screen\"},\"id\":\"d87a788b-de60-4326-94a3-132b10feb0e6\",\"type\":\"BoxAnnotation\"},{\"attributes\":{\"label\":{\"value\":\"CRD\"},\"renderers\":[{\"id\":\"3da4e12d-edca-44d4-bd3e-40592c1265e4\",\"type\":\"GlyphRenderer\"},{\"id\":\"9ed999ce-5cc4-4137-ab52-c6ca360af33b\",\"type\":\"GlyphRenderer\"}]},\"id\":\"dc9412b9-4cec-44e4-a76f-b8321c1f86dd\",\"type\":\"LegendItem\"},{\"attributes\":{},\"id\":\"a0e718b9-4f84-432b-9d65-8e84fa05ff55\",\"type\":\"HelpTool\"},{\"attributes\":{},\"id\":\"11089f2d-2c0a-4188-9a01-69780d8a6d6b\",\"type\":\"WheelZoomTool\"},{\"attributes\":{},\"id\":\"28605945-39ef-49ed-84f3-ae253ea2f3ce\",\"type\":\"LinearScale\"},{\"attributes\":{\"callback\":null,\"end\":0.9897391746271391,\"start\":-1.6775373671211389},\"id\":\"93b1f0e4-85c8-4366-88ab-547d028c8177\",\"type\":\"Range1d\"},{\"attributes\":{},\"id\":\"2636fecf-9ae3-4965-9ee0-6d3b08d5e6c0\",\"type\":\"LinearScale\"},{\"attributes\":{\"label\":{\"value\":\"CLIRAD (single-run)\"},\"renderers\":[{\"id\":\"77b68cf8-7d7a-452d-a27d-53af0b90c422\",\"type\":\"GlyphRenderer\"}]},\"id\":\"44fff897-17fd-4358-9575-5ebc39983249\",\"type\":\"LegendItem\"},{\"attributes\":{},\"id\":\"3da04b4c-2fbd-493d-8457-9cf030bc47e1\",\"type\":\"HelpTool\"},{\"attributes\":{\"callback\":null,\"data\":{\"x\":{\"__ndarray__\":\"/3gEEI2UQEB0c9Dyc4w8QD4Snx5gWT5AFZGcg+DzPkDYuZ5UNgY+QOQFUWxaiTtAJ8DHxwLZN0CaDBxtwNEzQHB3T1JOgDBAqgJPUzdBLUAe/HRqAFAsQFSv4d6I2CxANirWFRW2LUCUHZfp5zstQOmztrvKoCpAP9+BL/hHJ0AOuwcTjXUkQH9IUrXU0CJAw/AV2NWiIkADs+SX97kjQBnUSknZKCZAob123iaqJUC4+jy7qSYhQET39BNTYRlA8h7eZutmE0DRGDGap7MPQNFp3YuZvQpAbUJm/ObPBUCXEVqHsCYCQKiqyakxdP8/TACEl5IJ/T+x36gvONj4P/WeSfiLL/Q/Ne11Qx4f8T9KO/snl8XuPwAFjDANXOw/ECia+rR+5z/5xrZqtSrhP87q9DpG090/BhYs5hIw3T8TpNj1dqrePxgwooWPUd4/oFDDMBzn3D+hGPElCWPaPxcG4a4W8tI/SPcufN8E0T+Jx6v2fkPcP6Ojb0QSwOM/zctF4t2z6z9opHhLdyvyP4FPJXk/b/U/u1x3mN2T9z9xG3Lf+XH4P5hGdwrobvg/Vn3mdk49+D9YubJsL+/3P7/luSDMffc/5EORdUbl9j8uE9yIYjP2P7kamugzgPU/QlxJFNm49D8sS/Y7lOnzPzVsLhNSEvM/nKsN3cpI8j/zk0wAFaHxP6Zz65TTLvE/Fg7ZiLQN8T8jxFOXpVDxP4PdzMKAqPE/RD1PzBJe8T9HiM/2GIfvP1JwtsmBh+o/vb6j/cCS5T/xD0UD5EPhP++YhMum7NY/\",\"dtype\":\"float64\",\"shape\":[75]},\"y\":{\"__ndarray__\":\"GhExyth1ND/Sv8nbtpRIP2vylNV0PVE/aTum7souWD/At0SJ8fVgPw3Iuahxymc/MSNhhJWvcD/bTfBN02d3P2zb5nxnaoA/CD5h5MAGhz8NmeH1TyaQP+zrCsc9p5Y/LbKd76fGnz/bLW5ISEmmPww9YvTcQq8/JV2OstnstT8Er5Y7M8G+P0c+r3jqkcU/5h99k6ZBzj88bCIzFzjVP4enV8oyxN0//yH99nXg5D8qOpLLf0jtP5kqGJXUifQ/c9cS8kHP/D+/DpwzojQEQIEmwoanVwxA4lgXt9HgE0BSSZ2AJuIbQAMJih9jjiNA5q4l5INuK0AwTKYKRj0zQNv5fmq8/DpAaCJseHrtQkB/+zpwzoxKQM3MzMzMeFJAZmZmZmZqWEAAAAAAAFxeQM3MzMzMJmJAmpmZmZkfZUBmZmZmZhhoQDMzMzMzEWtAAAAAAAAKbkBmZmZmZoFwQM3MzMzM/XFAMzMzMzN6c0CamZmZmfZ0QAAAAAAAc3ZAZmZmZmbvd0DNzMzMzGt5QDMzMzMz6HpAmpmZmZlkfEAAAAAAAOF9QGZmZmZmXX9AZmZmZuZsgECamZmZGSuBQM3MzMxM6YFAAAAAAICngkAzMzMzs2WDQGZmZmbmI4RAmpmZmRnihEDNzMzMTKCFQAAAAACAXoZAMzMzM7Mch0BmZmZm5tqHQJqZmZkZmYhAzczMzExXiUAAAAAAgBWKQDMzMzOz04pAZmZmZuaRi0CamZmZGVCMQM3MzMxMDo1AAAAAAIDMjUAzMzMzs4qOQGZmZmbmSI9A\",\"dtype\":\"float64\",\"shape\":[75]}},\"selected\":{\"id\":\"ef697f0c-6373-467f-be74-dcaa8a9da81a\",\"type\":\"Selection\"},\"selection_policy\":{\"id\":\"f90cd129-320c-4c8d-b9cc-bc85b4e1bb6f\",\"type\":\"UnionRenderers\"}},\"id\":\"52cc3a8a-9632-4846-9c8c-0a39f249892e\",\"type\":\"ColumnDataSource\"},{\"attributes\":{\"callback\":null,\"data\":{\"x\":{\"__ndarray__\":\"/3gEEI2UQEB0c9Dyc4w8QD4Snx5gWT5AFZGcg+DzPkDYuZ5UNgY+QOQFUWxaiTtAJ8DHxwLZN0CaDBxtwNEzQHB3T1JOgDBAqgJPUzdBLUAe/HRqAFAsQFSv4d6I2CxANirWFRW2LUCUHZfp5zstQOmztrvKoCpAP9+BL/hHJ0AOuwcTjXUkQH9IUrXU0CJAw/AV2NWiIkADs+SX97kjQBnUSknZKCZAob123iaqJUC4+jy7qSYhQET39BNTYRlA8h7eZutmE0DRGDGap7MPQNFp3YuZvQpAbUJm/ObPBUCXEVqHsCYCQKiqyakxdP8/TACEl5IJ/T+x36gvONj4P/WeSfiLL/Q/Ne11Qx4f8T9KO/snl8XuPwAFjDANXOw/ECia+rR+5z/5xrZqtSrhP87q9DpG090/BhYs5hIw3T8TpNj1dqrePxgwooWPUd4/oFDDMBzn3D+hGPElCWPaPxcG4a4W8tI/SPcufN8E0T+Jx6v2fkPcP6Ojb0QSwOM/zctF4t2z6z9opHhLdyvyP4FPJXk/b/U/u1x3mN2T9z9xG3Lf+XH4P5hGdwrobvg/Vn3mdk49+D9YubJsL+/3P7/luSDMffc/5EORdUbl9j8uE9yIYjP2P7kamugzgPU/QlxJFNm49D8sS/Y7lOnzPzVsLhNSEvM/nKsN3cpI8j/zk0wAFaHxP6Zz65TTLvE/Fg7ZiLQN8T8jxFOXpVDxP4PdzMKAqPE/RD1PzBJe8T9HiM/2GIfvP1JwtsmBh+o/vb6j/cCS5T/xD0UD5EPhP++YhMum7NY/\",\"dtype\":\"float64\",\"shape\":[75]},\"y\":{\"__ndarray__\":\"GhExyth1ND/Sv8nbtpRIP2vylNV0PVE/aTum7souWD/At0SJ8fVgPw3Iuahxymc/MSNhhJWvcD/bTfBN02d3P2zb5nxnaoA/CD5h5MAGhz8NmeH1TyaQP+zrCsc9p5Y/LbKd76fGnz/bLW5ISEmmPww9YvTcQq8/JV2OstnstT8Er5Y7M8G+P0c+r3jqkcU/5h99k6ZBzj88bCIzFzjVP4enV8oyxN0//yH99nXg5D8qOpLLf0jtP5kqGJXUifQ/c9cS8kHP/D+/DpwzojQEQIEmwoanVwxA4lgXt9HgE0BSSZ2AJuIbQAMJih9jjiNA5q4l5INuK0AwTKYKRj0zQNv5fmq8/DpAaCJseHrtQkB/+zpwzoxKQM3MzMzMeFJAZmZmZmZqWEAAAAAAAFxeQM3MzMzMJmJAmpmZmZkfZUBmZmZmZhhoQDMzMzMzEWtAAAAAAAAKbkBmZmZmZoFwQM3MzMzM/XFAMzMzMzN6c0CamZmZmfZ0QAAAAAAAc3ZAZmZmZmbvd0DNzMzMzGt5QDMzMzMz6HpAmpmZmZlkfEAAAAAAAOF9QGZmZmZmXX9AZmZmZuZsgECamZmZGSuBQM3MzMxM6YFAAAAAAICngkAzMzMzs2WDQGZmZmbmI4RAmpmZmRnihEDNzMzMTKCFQAAAAACAXoZAMzMzM7Mch0BmZmZm5tqHQJqZmZkZmYhAzczMzExXiUAAAAAAgBWKQDMzMzOz04pAZmZmZuaRi0CamZmZGVCMQM3MzMxMDo1AAAAAAIDMjUAzMzMzs4qOQGZmZmbmSI9A\",\"dtype\":\"float64\",\"shape\":[75]}},\"selected\":{\"id\":\"28f0f54c-5e0f-4c8b-a034-9c90e443209d\",\"type\":\"Selection\"},\"selection_policy\":{\"id\":\"8311760c-fd90-4e45-8e56-22d3fc68687e\",\"type\":\"UnionRenderers\"}},\"id\":\"e0890791-7309-4831-8b47-603bc0c8c672\",\"type\":\"ColumnDataSource\"},{\"attributes\":{\"label\":{\"value\":\"CLIRAD (single-run)\"},\"renderers\":[{\"id\":\"628ea8dd-21c1-487a-bb2d-3cf078ed2025\",\"type\":\"GlyphRenderer\"}]},\"id\":\"6a694e17-0f8c-440e-8777-df5d72721b7b\",\"type\":\"LegendItem\"},{\"attributes\":{\"bottom_units\":\"screen\",\"fill_alpha\":{\"value\":0.5},\"fill_color\":{\"value\":\"lightgrey\"},\"left_units\":\"screen\",\"level\":\"overlay\",\"line_alpha\":{\"value\":1.0},\"line_color\":{\"value\":\"black\"},\"line_dash\":[4,4],\"line_width\":{\"value\":2},\"plot\":null,\"render_mode\":\"css\",\"right_units\":\"screen\",\"top_units\":\"screen\"},\"id\":\"ec749d0d-73c4-4f55-961f-e22d50b73211\",\"type\":\"BoxAnnotation\"},{\"attributes\":{},\"id\":\"8f39cdd4-7fdf-4c35-8de5-924e310d17fd\",\"type\":\"SaveTool\"},{\"attributes\":{},\"id\":\"615be9b1-3e8e-4b12-b865-da7e6f9db8a0\",\"type\":\"WheelZoomTool\"},{\"attributes\":{},\"id\":\"700e39c5-e775-476f-8493-173df39b963a\",\"type\":\"PanTool\"},{\"attributes\":{\"above\":[{\"id\":\"e127cae2-2c76-48fc-8966-fbbe3cc5fae8\",\"type\":\"Legend\"}],\"below\":[{\"id\":\"1476f1cd-92c9-4231-9d6f-43a0738138bb\",\"type\":\"LinearAxis\"}],\"left\":[{\"id\":\"eb3e4adb-09ce-49c3-89cb-0f497046a003\",\"type\":\"LogAxis\"}],\"plot_width\":300,\"renderers\":[{\"id\":\"1476f1cd-92c9-4231-9d6f-43a0738138bb\",\"type\":\"LinearAxis\"},{\"id\":\"0c87bd41-d87b-42d3-a489-b49d740bd992\",\"type\":\"Grid\"},{\"id\":\"eb3e4adb-09ce-49c3-89cb-0f497046a003\",\"type\":\"LogAxis\"},{\"id\":\"fe32e6a5-b875-4e30-8723-44604b43f421\",\"type\":\"Grid\"},{\"id\":\"ec749d0d-73c4-4f55-961f-e22d50b73211\",\"type\":\"BoxAnnotation\"},{\"id\":\"3b013cdc-b850-4cd0-a027-3eec7e599765\",\"type\":\"GlyphRenderer\"},{\"id\":\"0ddd3d04-b638-4812-8cd4-f84f8289a62b\",\"type\":\"GlyphRenderer\"},{\"id\":\"e127cae2-2c76-48fc-8966-fbbe3cc5fae8\",\"type\":\"Legend\"}],\"title\":{\"id\":\"c9995897-75c6-45b8-aad9-03e09327a7b3\",\"type\":\"Title\"},\"toolbar\":{\"id\":\"5d57c4ba-04c7-4a39-bd43-856e28717e73\",\"type\":\"Toolbar\"},\"toolbar_location\":null,\"x_range\":{\"id\":\"93b1f0e4-85c8-4366-88ab-547d028c8177\",\"type\":\"Range1d\"},\"x_scale\":{\"id\":\"ac7ad4ee-f3c8-49d4-9979-e7cf733d78ba\",\"type\":\"LinearScale\"},\"y_range\":{\"id\":\"85313f99-d094-4088-a65e-f2695b57ccb4\",\"type\":\"Range1d\"},\"y_scale\":{\"id\":\"6748d13a-3f94-4720-a3ea-86d954641f80\",\"type\":\"LogScale\"}},\"id\":\"802645a1-fe28-499f-9b03-96d1770922fb\",\"subtype\":\"Figure\",\"type\":\"Plot\"},{\"attributes\":{\"data_source\":{\"id\":\"aaa22e68-8ff3-43eb-a28a-59acd7b3ddd2\",\"type\":\"ColumnDataSource\"},\"glyph\":{\"id\":\"712a7b35-84f7-4203-b0ad-706a399c72db\",\"type\":\"Line\"},\"hover_glyph\":null,\"muted_glyph\":null,\"nonselection_glyph\":{\"id\":\"572af8fa-71bf-4b42-8d48-4862a73d2798\",\"type\":\"Line\"},\"selection_glyph\":null,\"view\":{\"id\":\"0b2c9c27-d1d1-4711-947f-6ffe357ade39\",\"type\":\"CDSView\"}},\"id\":\"9ed999ce-5cc4-4137-ab52-c6ca360af33b\",\"type\":\"GlyphRenderer\"},{\"attributes\":{\"data_source\":{\"id\":\"965fc7b7-d427-46d1-87d2-91047e7b1aa6\",\"type\":\"ColumnDataSource\"},\"glyph\":{\"id\":\"81a181e0-cff7-40aa-b3d6-dfeb9c23bdc0\",\"type\":\"Circle\"},\"hover_glyph\":null,\"muted_glyph\":null,\"nonselection_glyph\":{\"id\":\"7fa56e90-bad6-44b3-8c4e-56ab46d47530\",\"type\":\"Circle\"},\"selection_glyph\":null,\"view\":{\"id\":\"385d90ff-d2a5-40c3-bb25-e4b9d5688ba9\",\"type\":\"CDSView\"}},\"id\":\"3b013cdc-b850-4cd0-a027-3eec7e599765\",\"type\":\"GlyphRenderer\"},{\"attributes\":{\"dimension\":1,\"plot\":{\"id\":\"802645a1-fe28-499f-9b03-96d1770922fb\",\"subtype\":\"Figure\",\"type\":\"Plot\"},\"ticker\":{\"id\":\"1b1d79d9-3f9a-4ac5-b22d-60f8d87efddf\",\"type\":\"LogTicker\"}},\"id\":\"fe32e6a5-b875-4e30-8723-44604b43f421\",\"type\":\"Grid\"},{\"attributes\":{},\"id\":\"d98f0190-6bb0-4d42-b03b-a434f2774544\",\"type\":\"Selection\"},{\"attributes\":{\"ticker\":null},\"id\":\"a11e7412-1859-4410-b313-7124ea4596aa\",\"type\":\"LogTickFormatter\"},{\"attributes\":{},\"id\":\"78a414a8-af51-4408-b6ba-b494f0fde3b3\",\"type\":\"UnionRenderers\"},{\"attributes\":{\"items\":[{\"id\":\"489b0819-34de-4f5d-8a04-eeed13a8c9fb\",\"type\":\"LegendItem\"}],\"label_text_font_size\":{\"value\":\"8pt\"},\"location\":\"top_center\",\"orientation\":\"horizontal\",\"plot\":{\"id\":\"802645a1-fe28-499f-9b03-96d1770922fb\",\"subtype\":\"Figure\",\"type\":\"Plot\"}},\"id\":\"e127cae2-2c76-48fc-8966-fbbe3cc5fae8\",\"type\":\"Legend\"},{\"attributes\":{},\"id\":\"7e0f2fde-76bc-4123-9d43-3a7cd9394a76\",\"type\":\"BasicTicker\"},{\"attributes\":{\"children\":[{\"id\":\"5bde4bc9-60a0-4f73-be7e-7c62e3fc6602\",\"type\":\"Row\"}]},\"id\":\"728de5d0-918a-41c4-bf42-eb1f90e0a071\",\"type\":\"Column\"},{\"attributes\":{},\"id\":\"8311760c-fd90-4e45-8e56-22d3fc68687e\",\"type\":\"UnionRenderers\"},{\"attributes\":{\"num_minor_ticks\":10},\"id\":\"1b1d79d9-3f9a-4ac5-b22d-60f8d87efddf\",\"type\":\"LogTicker\"},{\"attributes\":{\"axis_label\":\"cooling rate [K/day]\",\"formatter\":{\"id\":\"83c85454-b591-4488-8ba2-350ab1dd4ab2\",\"type\":\"BasicTickFormatter\"},\"plot\":{\"id\":\"802645a1-fe28-499f-9b03-96d1770922fb\",\"subtype\":\"Figure\",\"type\":\"Plot\"},\"ticker\":{\"id\":\"8af5cea0-f0d9-4d21-bf7d-c126a678678a\",\"type\":\"BasicTicker\"}},\"id\":\"1476f1cd-92c9-4231-9d6f-43a0738138bb\",\"type\":\"LinearAxis\"},{\"attributes\":{\"line_alpha\":0.6,\"line_color\":\"#377eb8\",\"line_dash\":[6],\"line_width\":5,\"x\":{\"field\":\"x\"},\"y\":{\"field\":\"y\"}},\"id\":\"ab69de53-90e2-4462-864c-a434efdf1db4\",\"type\":\"Line\"},{\"attributes\":{\"callback\":null,\"end\":1.5925520597826701,\"start\":0.25278747673033},\"id\":\"943269cb-6835-4353-822f-dba19f71ab04\",\"type\":\"Range1d\"},{\"attributes\":{\"fill_alpha\":{\"value\":0.1},\"fill_color\":{\"value\":\"#1f77b4\"},\"line_alpha\":{\"value\":0.1},\"line_color\":{\"value\":\"#1f77b4\"},\"x\":{\"field\":\"x\"},\"y\":{\"field\":\"y\"}},\"id\":\"7fa56e90-bad6-44b3-8c4e-56ab46d47530\",\"type\":\"Circle\"},{\"attributes\":{\"callback\":null,\"end\":0.01,\"start\":1020},\"id\":\"85313f99-d094-4088-a65e-f2695b57ccb4\",\"type\":\"Range1d\"},{\"attributes\":{},\"id\":\"6748d13a-3f94-4720-a3ea-86d954641f80\",\"type\":\"LogScale\"},{\"attributes\":{\"line_alpha\":0.1,\"line_color\":\"#1f77b4\",\"line_dash\":[6],\"line_width\":5,\"x\":{\"field\":\"x\"},\"y\":{\"field\":\"y\"}},\"id\":\"4d50d430-6db5-4aef-95c3-5891d631e063\",\"type\":\"Line\"},{\"attributes\":{\"dimension\":1,\"plot\":{\"id\":\"3f23c238-6578-418e-8c2d-71657cda1d17\",\"subtype\":\"Figure\",\"type\":\"Plot\"},\"ticker\":{\"id\":\"7e0f2fde-76bc-4123-9d43-3a7cd9394a76\",\"type\":\"BasicTicker\"}},\"id\":\"5b9d954d-7b19-4bd8-a14d-509aec4a591a\",\"type\":\"Grid\"},{\"attributes\":{},\"id\":\"83c85454-b591-4488-8ba2-350ab1dd4ab2\",\"type\":\"BasicTickFormatter\"},{\"attributes\":{\"callback\":null,\"data\":{\"x\":{\"__ndarray__\":\"pNT9013fQ8BHz6Iz9/wYwNfDDIW8sQPAIkyto68I8j+fIJf5rJMLQIecTPoI1Q9As/64BN/IBkBfIBLYVzbrP1R1ZGKwoO2/pE6pZhVs+r+osA5Z1ST0v5zMboda9dS/aQlVtjiW4D9MTnJyudXuP2yVG7UQ9uw/6REl5gwA2T+4fJqAcenQv5ajHl5rZeW/7sOmS6l75b/2lhpJkZPavw7zXwS2EcK/3f/kdxDJsT9k2KERVRbBPyUpAn1TG7q/7g8mKJN+zb9FgCij7lWhv4gzQaeHVdE/WMHzFuLt0T9TeyfymSq8P7AvC9G1h6A/vwXXyq89xD8cQniFsRLNP745xZhH08A/0hEfW7UEd7/IKTaMEXtnP0nW/cfESbM/DkTNaoE7qD/N3nEaaa+Yv7um0ov4pLO/he/mYXkGtr+HVx9QYaiyv5xE/bRWu6y/aqqSYaN/pb+PUyUyAV6av25yAVtXsJC/OcCXjW7vhb9A2QhwvYE/v54IJNXclHS/tPE6gehUm78zgJIAgp+qv3kclLp0gKq/TPHqBtXAor9a2amW41mjv4wVTc5azKq/Xw/2OvWRqr8pUTsitFylv6rZtGXHpZ+/NbnWCpZLmL/lcb2lUKGTv7/yG9AZ64m/Ca4eY27/g7/icKU3kHCBv8NLYSkEToS/fmhAqhFUhr9CsNoEMTOEv9bxCalABXq/oBYSwYokOb+8C9d3gpx/Py0I7qXI2Is/1DVQdrnckj9GKGc80l+WPytVWvOhE5g/5YIg7/Vvlz/qZawMW1mXP64D8pGCWpY/\",\"dtype\":\"float64\",\"shape\":[75]},\"y\":{\"__ndarray__\":\"GhExyth1ND/Sv8nbtpRIP2vylNV0PVE/aTum7souWD/At0SJ8fVgPw3Iuahxymc/MSNhhJWvcD/bTfBN02d3P2zb5nxnaoA/CD5h5MAGhz8NmeH1TyaQP+zrCsc9p5Y/LbKd76fGnz/bLW5ISEmmPww9YvTcQq8/JV2OstnstT8Er5Y7M8G+P0c+r3jqkcU/5h99k6ZBzj88bCIzFzjVP4enV8oyxN0//yH99nXg5D8qOpLLf0jtP5kqGJXUifQ/c9cS8kHP/D+/DpwzojQEQIEmwoanVwxA4lgXt9HgE0BSSZ2AJuIbQAMJih9jjiNA5q4l5INuK0AwTKYKRj0zQNv5fmq8/DpAaCJseHrtQkB/+zpwzoxKQM3MzMzMeFJAZmZmZmZqWEAAAAAAAFxeQM3MzMzMJmJAmpmZmZkfZUBmZmZmZhhoQDMzMzMzEWtAAAAAAAAKbkBmZmZmZoFwQM3MzMzM/XFAMzMzMzN6c0CamZmZmfZ0QAAAAAAAc3ZAZmZmZmbvd0DNzMzMzGt5QDMzMzMz6HpAmpmZmZlkfEAAAAAAAOF9QGZmZmZmXX9AZmZmZuZsgECamZmZGSuBQM3MzMxM6YFAAAAAAICngkAzMzMzs2WDQGZmZmbmI4RAmpmZmRnihEDNzMzMTKCFQAAAAACAXoZAMzMzM7Mch0BmZmZm5tqHQJqZmZkZmYhAzczMzExXiUAAAAAAgBWKQDMzMzOz04pAZmZmZuaRi0CamZmZGVCMQM3MzMxMDo1AAAAAAIDMjUAzMzMzs4qOQGZmZmbmSI9A\",\"dtype\":\"float64\",\"shape\":[75]}},\"selected\":{\"id\":\"d98f0190-6bb0-4d42-b03b-a434f2774544\",\"type\":\"Selection\"},\"selection_policy\":{\"id\":\"3f9ea2ec-4047-43d9-8371-a247c87850f5\",\"type\":\"UnionRenderers\"}},\"id\":\"965fc7b7-d427-46d1-87d2-91047e7b1aa6\",\"type\":\"ColumnDataSource\"},{\"attributes\":{\"callback\":null,\"data\":{\"x\":{\"__ndarray__\":\"pNT9013fQ8BHz6Iz9/wYwNfDDIW8sQPAIkyto68I8j+fIJf5rJMLQIecTPoI1Q9As/64BN/IBkBfIBLYVzbrP1R1ZGKwoO2/pE6pZhVs+r+osA5Z1ST0v5zMboda9dS/aQlVtjiW4D9MTnJyudXuP2yVG7UQ9uw/6REl5gwA2T+4fJqAcenQv5ajHl5rZeW/7sOmS6l75b/2lhpJkZPavw7zXwS2EcK/3f/kdxDJsT9k2KERVRbBPyUpAn1TG7q/7g8mKJN+zb9FgCij7lWhv4gzQaeHVdE/WMHzFuLt0T9TeyfymSq8P7AvC9G1h6A/vwXXyq89xD8cQniFsRLNP745xZhH08A/0hEfW7UEd7/IKTaMEXtnP0nW/cfESbM/DkTNaoE7qD/N3nEaaa+Yv7um0ov4pLO/he/mYXkGtr+HVx9QYaiyv5xE/bRWu6y/aqqSYaN/pb+PUyUyAV6av25yAVtXsJC/OcCXjW7vhb9A2QhwvYE/v54IJNXclHS/tPE6gehUm78zgJIAgp+qv3kclLp0gKq/TPHqBtXAor9a2amW41mjv4wVTc5azKq/Xw/2OvWRqr8pUTsitFylv6rZtGXHpZ+/NbnWCpZLmL/lcb2lUKGTv7/yG9AZ64m/Ca4eY27/g7/icKU3kHCBv8NLYSkEToS/fmhAqhFUhr9CsNoEMTOEv9bxCalABXq/oBYSwYokOb+8C9d3gpx/Py0I7qXI2Is/1DVQdrnckj9GKGc80l+WPytVWvOhE5g/5YIg7/Vvlz/qZawMW1mXP64D8pGCWpY/\",\"dtype\":\"float64\",\"shape\":[75]},\"y\":{\"__ndarray__\":\"GhExyth1ND/Sv8nbtpRIP2vylNV0PVE/aTum7souWD/At0SJ8fVgPw3Iuahxymc/MSNhhJWvcD/bTfBN02d3P2zb5nxnaoA/CD5h5MAGhz8NmeH1TyaQP+zrCsc9p5Y/LbKd76fGnz/bLW5ISEmmPww9YvTcQq8/JV2OstnstT8Er5Y7M8G+P0c+r3jqkcU/5h99k6ZBzj88bCIzFzjVP4enV8oyxN0//yH99nXg5D8qOpLLf0jtP5kqGJXUifQ/c9cS8kHP/D+/DpwzojQEQIEmwoanVwxA4lgXt9HgE0BSSZ2AJuIbQAMJih9jjiNA5q4l5INuK0AwTKYKRj0zQNv5fmq8/DpAaCJseHrtQkB/+zpwzoxKQM3MzMzMeFJAZmZmZmZqWEAAAAAAAFxeQM3MzMzMJmJAmpmZmZkfZUBmZmZmZhhoQDMzMzMzEWtAAAAAAAAKbkBmZmZmZoFwQM3MzMzM/XFAMzMzMzN6c0CamZmZmfZ0QAAAAAAAc3ZAZmZmZmbvd0DNzMzMzGt5QDMzMzMz6HpAmpmZmZlkfEAAAAAAAOF9QGZmZmZmXX9AZmZmZuZsgECamZmZGSuBQM3MzMxM6YFAAAAAAICngkAzMzMzs2WDQGZmZmbmI4RAmpmZmRnihEDNzMzMTKCFQAAAAACAXoZAMzMzM7Mch0BmZmZm5tqHQJqZmZkZmYhAzczMzExXiUAAAAAAgBWKQDMzMzOz04pAZmZmZuaRi0CamZmZGVCMQM3MzMxMDo1AAAAAAIDMjUAzMzMzs4qOQGZmZmbmSI9A\",\"dtype\":\"float64\",\"shape\":[75]}},\"selected\":{\"id\":\"33e65826-67d7-452c-8dc8-367de1eac4f8\",\"type\":\"Selection\"},\"selection_policy\":{\"id\":\"a47765b6-326e-40a9-9d58-22908b54fd41\",\"type\":\"UnionRenderers\"}},\"id\":\"44055915-6da5-4992-a516-bd1818c93c3c\",\"type\":\"ColumnDataSource\"},{\"attributes\":{},\"id\":\"28f0f54c-5e0f-4c8b-a034-9c90e443209d\",\"type\":\"Selection\"},{\"attributes\":{\"line_alpha\":0.6,\"line_color\":\"#377eb8\",\"line_dash\":[6],\"line_width\":5,\"x\":{\"field\":\"x\"},\"y\":{\"field\":\"y\"}},\"id\":\"40377aca-5598-437b-8230-81fd94eb085a\",\"type\":\"Line\"},{\"attributes\":{\"fill_alpha\":{\"value\":0.7},\"fill_color\":{\"value\":\"#984ea3\"},\"line_alpha\":{\"value\":0.7},\"line_color\":{\"value\":\"#984ea3\"},\"x\":{\"field\":\"x\"},\"y\":{\"field\":\"y\"}},\"id\":\"81a181e0-cff7-40aa-b3d6-dfeb9c23bdc0\",\"type\":\"Circle\"},{\"attributes\":{},\"id\":\"3f9ea2ec-4047-43d9-8371-a247c87850f5\",\"type\":\"UnionRenderers\"},{\"attributes\":{\"plot\":null,\"text\":\"\"},\"id\":\"c9995897-75c6-45b8-aad9-03e09327a7b3\",\"type\":\"Title\"},{\"attributes\":{\"source\":{\"id\":\"57efe072-ba9e-4038-bc44-dda8645b4603\",\"type\":\"ColumnDataSource\"}},\"id\":\"e772f3e2-4b20-458b-bf64-84f3ddef1317\",\"type\":\"CDSView\"}],\"root_ids\":[\"79b4b66c-4078-4f14-a60a-23d6784c5efd\"]},\"title\":\"Bokeh Application\",\"version\":\"0.12.16\"}};\n",
       "  var render_items = [{\"docid\":\"3b76c398-65d2-4f11-93a3-ae54f2897e90\",\"elementid\":\"2753d313-0900-47c1-ba33-02cec3dff407\",\"modelid\":\"79b4b66c-4078-4f14-a60a-23d6784c5efd\"}];\n",
       "  root.Bokeh.embed.embed_items_notebook(docs_json, render_items);\n",
       "\n",
       "  }\n",
       "  if (root.Bokeh !== undefined) {\n",
       "    embed_document(root);\n",
       "  } else {\n",
       "    var attempts = 0;\n",
       "    var timer = setInterval(function(root) {\n",
       "      if (root.Bokeh !== undefined) {\n",
       "        embed_document(root);\n",
       "        clearInterval(timer);\n",
       "      }\n",
       "      attempts++;\n",
       "      if (attempts > 100) {\n",
       "        console.log(\"Bokeh: ERROR: Unable to run BokehJS code because BokehJS library is missing\")\n",
       "        clearInterval(timer);\n",
       "      }\n",
       "    }, 10, root)\n",
       "  }\n",
       "})(window);"
      ],
      "application/vnd.bokehjs_exec.v0+json": ""
     },
     "metadata": {
      "application/vnd.bokehjs_exec.v0+json": {
       "id": "79b4b66c-4078-4f14-a60a-23d6784c5efd"
      }
     },
     "output_type": "display_data"
    },
    {
     "data": {
      "text/markdown": [
       "*FIGURE.* Cooling rates & difference."
      ],
      "text/plain": [
       "<IPython.core.display.Markdown object>"
      ]
     },
     "metadata": {},
     "output_type": "display_data"
    },
    {
     "data": {
      "text/html": [
       "<a id=\"Fluxes._saw.\"></a>"
      ],
      "text/plain": [
       "<IPython.core.display.HTML object>"
      ]
     },
     "metadata": {},
     "output_type": "display_data"
    },
    {
     "data": {
      "text/markdown": [
       "# Fluxes. saw."
      ],
      "text/plain": [
       "<IPython.core.display.Markdown object>"
      ]
     },
     "metadata": {},
     "output_type": "display_data"
    },
    {
     "data": {
      "text/html": [
       "\n",
       "<div class=\"bk-root\">\n",
       "    <div class=\"bk-plotdiv\" id=\"6d5bbbd9-ccaf-4923-a4b5-ca058053e1f6\"></div>\n",
       "</div>"
      ]
     },
     "metadata": {},
     "output_type": "display_data"
    },
    {
     "data": {
      "application/javascript": [
       "(function(root) {\n",
       "  function embed_document(root) {\n",
       "    \n",
       "  var docs_json = {\"1564c374-a98a-4cf8-91bb-528f45698e2e\":{\"roots\":{\"references\":[{\"attributes\":{\"bottom_units\":\"screen\",\"fill_alpha\":{\"value\":0.5},\"fill_color\":{\"value\":\"lightgrey\"},\"left_units\":\"screen\",\"level\":\"overlay\",\"line_alpha\":{\"value\":1.0},\"line_color\":{\"value\":\"black\"},\"line_dash\":[4,4],\"line_width\":{\"value\":2},\"plot\":null,\"render_mode\":\"css\",\"right_units\":\"screen\",\"top_units\":\"screen\"},\"id\":\"e1972bca-4eb7-4142-9863-63ecf8f58215\",\"type\":\"BoxAnnotation\"},{\"attributes\":{},\"id\":\"3d03c004-1743-4cad-ac79-f363e83f7855\",\"type\":\"WheelZoomTool\"},{\"attributes\":{\"plot\":null,\"text\":\"TOA flux. CLIRAD (single-run) - CRD.\"},\"id\":\"c6e78600-4ddc-4645-b911-e7f988da26ec\",\"type\":\"Title\"},{\"attributes\":{\"axis_label\":\"spectral band\",\"formatter\":{\"id\":\"eb13ce0f-595f-41ca-933e-e3e809edc16c\",\"type\":\"CategoricalTickFormatter\"},\"plot\":{\"id\":\"d408af8d-d477-4a91-bb74-b565f7ebbd6c\",\"subtype\":\"Figure\",\"type\":\"Plot\"},\"ticker\":{\"id\":\"05017817-3430-4457-a45e-027ba94208a6\",\"type\":\"CategoricalTicker\"}},\"id\":\"f5220f06-306e-4722-978a-8e0ffe4aa3a5\",\"type\":\"CategoricalAxis\"},{\"attributes\":{\"overlay\":{\"id\":\"e1972bca-4eb7-4142-9863-63ecf8f58215\",\"type\":\"BoxAnnotation\"}},\"id\":\"15f0465e-e6f6-43f1-92ce-e0b5f345fbf5\",\"type\":\"BoxZoomTool\"},{\"attributes\":{\"callback\":null,\"factors\":[\"1\",\"2\",\"3\",\"4\",\"5\",\"6\",\"7\",\"8\",\"9\",\"10\",\"11\"]},\"id\":\"2286c3cd-71cf-428c-a119-f658304f9a19\",\"type\":\"FactorRange\"},{\"attributes\":{\"source\":{\"id\":\"fb58e9d8-ac51-40e5-a61f-3241e0cb6369\",\"type\":\"ColumnDataSource\"}},\"id\":\"9ade0761-64c1-49a0-93a5-527cb1df611f\",\"type\":\"CDSView\"},{\"attributes\":{\"source\":{\"id\":\"3e3a2381-aad1-44c3-b64a-ed6e10b0cc34\",\"type\":\"ColumnDataSource\"}},\"id\":\"033ab179-4c6b-4953-9171-207d83f26efe\",\"type\":\"CDSView\"},{\"attributes\":{},\"id\":\"80af753d-3008-4ba1-9fd0-241bc3fdcade\",\"type\":\"SaveTool\"},{\"attributes\":{\"data_source\":{\"id\":\"3e3a2381-aad1-44c3-b64a-ed6e10b0cc34\",\"type\":\"ColumnDataSource\"},\"glyph\":{\"id\":\"cb7a0595-4e8f-4b70-ba54-ad486ed2641b\",\"type\":\"VBar\"},\"hover_glyph\":null,\"muted_glyph\":null,\"nonselection_glyph\":{\"id\":\"c187f861-40f9-4c28-b3df-442416d99f24\",\"type\":\"VBar\"},\"selection_glyph\":null,\"view\":{\"id\":\"033ab179-4c6b-4953-9171-207d83f26efe\",\"type\":\"CDSView\"}},\"id\":\"40ce2c12-d4de-47d7-ac1e-dba8c1a4ee60\",\"type\":\"GlyphRenderer\"},{\"attributes\":{},\"id\":\"d667d5bd-06e1-4cde-a802-a8eb6932040c\",\"type\":\"ResetTool\"},{\"attributes\":{},\"id\":\"ecc7f95f-e73c-403e-8556-bae5d41f444a\",\"type\":\"UnionRenderers\"},{\"attributes\":{},\"id\":\"b8d0973b-e10a-4c89-84ba-6bf73707a089\",\"type\":\"HelpTool\"},{\"attributes\":{},\"id\":\"f62ddb6b-e28d-4927-b57d-df518a3cf944\",\"type\":\"Selection\"},{\"attributes\":{},\"id\":\"b9c97852-0e5c-4049-a073-531758f9f921\",\"type\":\"PanTool\"},{\"attributes\":{},\"id\":\"8655aa76-cbbf-489e-bcad-a75c372a32ce\",\"type\":\"CategoricalTickFormatter\"},{\"attributes\":{\"children\":[{\"id\":\"2b4fdb82-2735-497b-8f1f-9b0ef25c6bd1\",\"subtype\":\"Figure\",\"type\":\"Plot\"},{\"id\":\"d408af8d-d477-4a91-bb74-b565f7ebbd6c\",\"subtype\":\"Figure\",\"type\":\"Plot\"},{\"id\":\"eb018d42-0451-48a5-b293-bea58317ada6\",\"subtype\":\"Figure\",\"type\":\"Plot\"}]},\"id\":\"32aec289-f65a-4665-9ca8-142c373fdc60\",\"type\":\"Row\"},{\"attributes\":{\"axis_label\":\"spectral band\",\"formatter\":{\"id\":\"108644c9-9a7d-46d1-bed6-bb850902fafb\",\"type\":\"CategoricalTickFormatter\"},\"plot\":{\"id\":\"eb018d42-0451-48a5-b293-bea58317ada6\",\"subtype\":\"Figure\",\"type\":\"Plot\"},\"ticker\":{\"id\":\"c4e68949-910f-4de8-8fa1-865b81bcdcc6\",\"type\":\"CategoricalTicker\"}},\"id\":\"22d66ca4-f303-4e1c-a38c-ca5cd7bbefa4\",\"type\":\"CategoricalAxis\"},{\"attributes\":{\"dimension\":1,\"plot\":{\"id\":\"eb018d42-0451-48a5-b293-bea58317ada6\",\"subtype\":\"Figure\",\"type\":\"Plot\"},\"ticker\":{\"id\":\"bf40e777-1134-4be1-949f-10f0c135e048\",\"type\":\"BasicTicker\"}},\"id\":\"5522e80f-1a85-4670-af8a-165cb40c29aa\",\"type\":\"Grid\"},{\"attributes\":{},\"id\":\"c4e68949-910f-4de8-8fa1-865b81bcdcc6\",\"type\":\"CategoricalTicker\"},{\"attributes\":{\"dimension\":1,\"plot\":{\"id\":\"2b4fdb82-2735-497b-8f1f-9b0ef25c6bd1\",\"subtype\":\"Figure\",\"type\":\"Plot\"},\"ticker\":{\"id\":\"ff6a4b45-e0c2-455e-b775-a1e127694826\",\"type\":\"BasicTicker\"}},\"id\":\"9b31b984-eae4-4193-8dd2-6884fe7e4400\",\"type\":\"Grid\"},{\"attributes\":{},\"id\":\"d9de2279-3711-4aab-9fe2-6b8585d35f35\",\"type\":\"BasicTickFormatter\"},{\"attributes\":{},\"id\":\"05017817-3430-4457-a45e-027ba94208a6\",\"type\":\"CategoricalTicker\"},{\"attributes\":{},\"id\":\"4c40f86a-9ca6-46a1-a00d-e5d847e9b144\",\"type\":\"Selection\"},{\"attributes\":{},\"id\":\"249d272f-b910-48bf-9efe-050a0d604ada\",\"type\":\"UnionRenderers\"},{\"attributes\":{},\"id\":\"108644c9-9a7d-46d1-bed6-bb850902fafb\",\"type\":\"CategoricalTickFormatter\"},{\"attributes\":{\"plot\":{\"id\":\"2b4fdb82-2735-497b-8f1f-9b0ef25c6bd1\",\"subtype\":\"Figure\",\"type\":\"Plot\"},\"ticker\":{\"id\":\"f2834ed3-f979-4ce2-ae64-ffdccefafcca\",\"type\":\"CategoricalTicker\"}},\"id\":\"97ad38a7-402a-4500-9d06-f12fd682aa71\",\"type\":\"Grid\"},{\"attributes\":{},\"id\":\"7535170b-cbff-478b-97aa-40b75cab1ba4\",\"type\":\"Selection\"},{\"attributes\":{},\"id\":\"4cb29337-2328-4a31-b7ec-a4c52e8b5e15\",\"type\":\"UnionRenderers\"},{\"attributes\":{},\"id\":\"b2c9f8af-f007-4587-8fca-c85c5cc5a898\",\"type\":\"CategoricalScale\"},{\"attributes\":{},\"id\":\"887c810a-546c-4522-b0c1-e0025b8b583a\",\"type\":\"LinearScale\"},{\"attributes\":{},\"id\":\"63946865-6dfd-4d21-9649-357172b1322b\",\"type\":\"BasicTickFormatter\"},{\"attributes\":{\"children\":[{\"id\":\"7d2c0f1b-ff0c-48dc-8297-28b3e49d7e57\",\"type\":\"ToolbarBox\"},{\"id\":\"2b560550-8518-4f3a-9029-433fe0c914b4\",\"type\":\"Column\"}]},\"id\":\"806a8001-06bd-45ed-9a1c-9257a4c18dfe\",\"type\":\"Column\"},{\"attributes\":{\"active_drag\":\"auto\",\"active_inspect\":\"auto\",\"active_scroll\":\"auto\",\"active_tap\":\"auto\",\"tools\":[{\"id\":\"b32307f1-0b3d-4bb3-88a7-e69386f96996\",\"type\":\"PanTool\"},{\"id\":\"6abfad81-8828-464f-8645-608c7928ac1a\",\"type\":\"WheelZoomTool\"},{\"id\":\"4f39d53b-7df2-41e6-8fd4-351f56cdd838\",\"type\":\"BoxZoomTool\"},{\"id\":\"b8935ccb-a404-4213-b8c1-0b587f00646f\",\"type\":\"SaveTool\"},{\"id\":\"34f916e3-7a8a-4dac-beb6-714d0d7679b9\",\"type\":\"ResetTool\"},{\"id\":\"cfb24bba-ac7b-44d4-bc85-f2689b3e4a8e\",\"type\":\"HelpTool\"}]},\"id\":\"6bf54d94-0c03-4e10-a756-d574c5f7aa95\",\"type\":\"Toolbar\"},{\"attributes\":{\"tools\":[{\"id\":\"1716a4d5-f55b-49e4-b2a6-90fe72f4aaac\",\"type\":\"PanTool\"},{\"id\":\"fefc07b2-88ee-4662-bb54-d6e5e383f83b\",\"type\":\"WheelZoomTool\"},{\"id\":\"1f04682b-9aa9-4df8-88a4-b7684fcce697\",\"type\":\"BoxZoomTool\"},{\"id\":\"807837ae-5f86-4798-9b4b-69de34b0c853\",\"type\":\"SaveTool\"},{\"id\":\"762d3e6e-8eaf-44c8-a0b1-48dedc387ab2\",\"type\":\"ResetTool\"},{\"id\":\"94cfe35c-c27b-4eb5-867b-26dabfdf9c73\",\"type\":\"HelpTool\"},{\"id\":\"b32307f1-0b3d-4bb3-88a7-e69386f96996\",\"type\":\"PanTool\"},{\"id\":\"6abfad81-8828-464f-8645-608c7928ac1a\",\"type\":\"WheelZoomTool\"},{\"id\":\"4f39d53b-7df2-41e6-8fd4-351f56cdd838\",\"type\":\"BoxZoomTool\"},{\"id\":\"b8935ccb-a404-4213-b8c1-0b587f00646f\",\"type\":\"SaveTool\"},{\"id\":\"34f916e3-7a8a-4dac-beb6-714d0d7679b9\",\"type\":\"ResetTool\"},{\"id\":\"cfb24bba-ac7b-44d4-bc85-f2689b3e4a8e\",\"type\":\"HelpTool\"},{\"id\":\"b9c97852-0e5c-4049-a073-531758f9f921\",\"type\":\"PanTool\"},{\"id\":\"3d03c004-1743-4cad-ac79-f363e83f7855\",\"type\":\"WheelZoomTool\"},{\"id\":\"15f0465e-e6f6-43f1-92ce-e0b5f345fbf5\",\"type\":\"BoxZoomTool\"},{\"id\":\"80af753d-3008-4ba1-9fd0-241bc3fdcade\",\"type\":\"SaveTool\"},{\"id\":\"d667d5bd-06e1-4cde-a802-a8eb6932040c\",\"type\":\"ResetTool\"},{\"id\":\"b8d0973b-e10a-4c89-84ba-6bf73707a089\",\"type\":\"HelpTool\"}]},\"id\":\"704db350-dcf4-48a7-aea2-6ba9754aa14f\",\"type\":\"ProxyToolbar\"},{\"attributes\":{\"toolbar\":{\"id\":\"704db350-dcf4-48a7-aea2-6ba9754aa14f\",\"type\":\"ProxyToolbar\"},\"toolbar_location\":\"above\"},\"id\":\"7d2c0f1b-ff0c-48dc-8297-28b3e49d7e57\",\"type\":\"ToolbarBox\"},{\"attributes\":{\"callback\":null,\"factors\":[\"1\",\"2\",\"3\",\"4\",\"5\",\"6\",\"7\",\"8\",\"9\",\"10\",\"11\"]},\"id\":\"66bb94c7-a986-476c-9fec-47515daa3951\",\"type\":\"FactorRange\"},{\"attributes\":{},\"id\":\"82d0db66-c4d2-4895-998e-e391b245af81\",\"type\":\"BasicTickFormatter\"},{\"attributes\":{\"data_source\":{\"id\":\"fb58e9d8-ac51-40e5-a61f-3241e0cb6369\",\"type\":\"ColumnDataSource\"},\"glyph\":{\"id\":\"333f62d4-ac7e-473f-afc0-5218292d8198\",\"type\":\"VBar\"},\"hover_glyph\":null,\"muted_glyph\":null,\"nonselection_glyph\":{\"id\":\"80acd22d-cb65-4b32-8786-faa228129d3d\",\"type\":\"VBar\"},\"selection_glyph\":null,\"view\":{\"id\":\"9ade0761-64c1-49a0-93a5-527cb1df611f\",\"type\":\"CDSView\"}},\"id\":\"d194b75f-78a4-4029-a747-e8fc9edb055b\",\"type\":\"GlyphRenderer\"},{\"attributes\":{\"fill_color\":{\"value\":\"#1f77b4\"},\"line_color\":{\"value\":\"#1f77b4\"},\"top\":{\"field\":\"flux\"},\"width\":{\"value\":0.9},\"x\":{\"field\":\"band\"}},\"id\":\"333f62d4-ac7e-473f-afc0-5218292d8198\",\"type\":\"VBar\"},{\"attributes\":{\"axis_label\":\"flux (W m-2)\",\"formatter\":{\"id\":\"d9de2279-3711-4aab-9fe2-6b8585d35f35\",\"type\":\"BasicTickFormatter\"},\"plot\":{\"id\":\"2b4fdb82-2735-497b-8f1f-9b0ef25c6bd1\",\"subtype\":\"Figure\",\"type\":\"Plot\"},\"ticker\":{\"id\":\"ff6a4b45-e0c2-455e-b775-a1e127694826\",\"type\":\"BasicTicker\"}},\"id\":\"60366f10-069f-4ffc-acea-756181457c0f\",\"type\":\"LinearAxis\"},{\"attributes\":{\"axis_label\":\"flux (W m-2)\",\"formatter\":{\"id\":\"63946865-6dfd-4d21-9649-357172b1322b\",\"type\":\"BasicTickFormatter\"},\"plot\":{\"id\":\"eb018d42-0451-48a5-b293-bea58317ada6\",\"subtype\":\"Figure\",\"type\":\"Plot\"},\"ticker\":{\"id\":\"bf40e777-1134-4be1-949f-10f0c135e048\",\"type\":\"BasicTicker\"}},\"id\":\"0894b4bf-8819-404e-8400-9d23e4af7bc1\",\"type\":\"LinearAxis\"},{\"attributes\":{},\"id\":\"f2834ed3-f979-4ce2-ae64-ffdccefafcca\",\"type\":\"CategoricalTicker\"},{\"attributes\":{\"plot\":{\"id\":\"eb018d42-0451-48a5-b293-bea58317ada6\",\"subtype\":\"Figure\",\"type\":\"Plot\"},\"ticker\":{\"id\":\"c4e68949-910f-4de8-8fa1-865b81bcdcc6\",\"type\":\"CategoricalTicker\"}},\"id\":\"32804b81-6577-48c5-869d-f8b95095b88c\",\"type\":\"Grid\"},{\"attributes\":{\"plot\":null,\"text\":\"SFC flux. CLIRAD (single-run) - CRD.\"},\"id\":\"de6e198b-2bd1-450d-b564-8dba16e756b3\",\"type\":\"Title\"},{\"attributes\":{\"callback\":null},\"id\":\"38b5bd04-eeb2-49d6-ba9f-cdc9e98fd66a\",\"type\":\"DataRange1d\"},{\"attributes\":{},\"id\":\"7fb83d77-1b33-4fa3-a908-17a69d420fd2\",\"type\":\"CategoricalScale\"},{\"attributes\":{\"callback\":null,\"data\":{\"band\":[\"1\",\"2\",\"3\",\"4\",\"5\",\"6\",\"7\",\"8\",\"9\",\"10\",\"11\"],\"flux\":{\"__ndarray__\":\"AEDdJAaBZb8Asg5HV+nAv4DgnBGlveC/AOp+TkF+tj8AHbkkvV7IPyB+nlCZrLm/AD0w26kUsD/ga9jnGC20vwAmr84xIJM/AJDEy9O5oj8A+eRZMI5tPw==\",\"dtype\":\"float64\",\"shape\":[11]}},\"selected\":{\"id\":\"7535170b-cbff-478b-97aa-40b75cab1ba4\",\"type\":\"Selection\"},\"selection_policy\":{\"id\":\"ecc7f95f-e73c-403e-8556-bae5d41f444a\",\"type\":\"UnionRenderers\"}},\"id\":\"3e3a2381-aad1-44c3-b64a-ed6e10b0cc34\",\"type\":\"ColumnDataSource\"},{\"attributes\":{\"active_drag\":\"auto\",\"active_inspect\":\"auto\",\"active_scroll\":\"auto\",\"active_tap\":\"auto\",\"tools\":[{\"id\":\"1716a4d5-f55b-49e4-b2a6-90fe72f4aaac\",\"type\":\"PanTool\"},{\"id\":\"fefc07b2-88ee-4662-bb54-d6e5e383f83b\",\"type\":\"WheelZoomTool\"},{\"id\":\"1f04682b-9aa9-4df8-88a4-b7684fcce697\",\"type\":\"BoxZoomTool\"},{\"id\":\"807837ae-5f86-4798-9b4b-69de34b0c853\",\"type\":\"SaveTool\"},{\"id\":\"762d3e6e-8eaf-44c8-a0b1-48dedc387ab2\",\"type\":\"ResetTool\"},{\"id\":\"94cfe35c-c27b-4eb5-867b-26dabfdf9c73\",\"type\":\"HelpTool\"}]},\"id\":\"81f67a98-5021-4850-b42c-87e960c05c8c\",\"type\":\"Toolbar\"},{\"attributes\":{\"callback\":null,\"data\":{\"band\":[\"1\",\"2\",\"3\",\"4\",\"5\",\"6\",\"7\",\"8\",\"9\",\"10\",\"11\"],\"flux\":{\"__ndarray__\":\"gGLUtfY+xz8ABgWlaOWyPwCnJVZGI7O/4NU5BmSv0D8AounsZHC4PwBAAg02dY6/QIl6wac50j8AHErtRbSNvwBDfBY6ZaA/AGgLdJJSdb9AysVzETqTPw==\",\"dtype\":\"float64\",\"shape\":[11]}},\"selected\":{\"id\":\"f62ddb6b-e28d-4927-b57d-df518a3cf944\",\"type\":\"Selection\"},\"selection_policy\":{\"id\":\"249d272f-b910-48bf-9efe-050a0d604ada\",\"type\":\"UnionRenderers\"}},\"id\":\"0dd50796-5310-4fc8-a25b-5f0f686a723b\",\"type\":\"ColumnDataSource\"},{\"attributes\":{\"callback\":null},\"id\":\"b6a15f68-68d8-4f06-bb94-a612bf6b897c\",\"type\":\"DataRange1d\"},{\"attributes\":{\"fill_alpha\":{\"value\":0.1},\"fill_color\":{\"value\":\"#1f77b4\"},\"line_alpha\":{\"value\":0.1},\"line_color\":{\"value\":\"#1f77b4\"},\"top\":{\"field\":\"flux\"},\"width\":{\"value\":0.9},\"x\":{\"field\":\"band\"}},\"id\":\"80acd22d-cb65-4b32-8786-faa228129d3d\",\"type\":\"VBar\"},{\"attributes\":{\"axis_label\":\"spectral band\",\"formatter\":{\"id\":\"8655aa76-cbbf-489e-bcad-a75c372a32ce\",\"type\":\"CategoricalTickFormatter\"},\"plot\":{\"id\":\"2b4fdb82-2735-497b-8f1f-9b0ef25c6bd1\",\"subtype\":\"Figure\",\"type\":\"Plot\"},\"ticker\":{\"id\":\"f2834ed3-f979-4ce2-ae64-ffdccefafcca\",\"type\":\"CategoricalTicker\"}},\"id\":\"a59ae4e3-f512-4447-9246-4271dd4c3adf\",\"type\":\"CategoricalAxis\"},{\"attributes\":{\"children\":[{\"id\":\"32aec289-f65a-4665-9ca8-142c373fdc60\",\"type\":\"Row\"}]},\"id\":\"2b560550-8518-4f3a-9029-433fe0c914b4\",\"type\":\"Column\"},{\"attributes\":{\"callback\":null,\"data\":{\"band\":[\"1\",\"2\",\"3\",\"4\",\"5\",\"6\",\"7\",\"8\",\"9\",\"10\",\"11\"],\"flux\":{\"__ndarray__\":\"gOIKWg6Vxz8AZUNIJ1zKP2BFireEstw/AGTOOK8fxj8A/fGoQk24vwBBZJEm3rU/wCMPRBZpzD+AUnx8QnawPwAooORpVIs/gEM6lz1kpb+Au8+vtRCPPw==\",\"dtype\":\"float64\",\"shape\":[11]}},\"selected\":{\"id\":\"4c40f86a-9ca6-46a1-a00d-e5d847e9b144\",\"type\":\"Selection\"},\"selection_policy\":{\"id\":\"4cb29337-2328-4a31-b7ec-a4c52e8b5e15\",\"type\":\"UnionRenderers\"}},\"id\":\"fb58e9d8-ac51-40e5-a61f-3241e0cb6369\",\"type\":\"ColumnDataSource\"},{\"attributes\":{\"callback\":null},\"id\":\"2f1bd0ec-4461-4155-9533-2d45c226d61b\",\"type\":\"DataRange1d\"},{\"attributes\":{},\"id\":\"bf40e777-1134-4be1-949f-10f0c135e048\",\"type\":\"BasicTicker\"},{\"attributes\":{},\"id\":\"a091c988-94c6-40cd-9a38-62b2f81e469f\",\"type\":\"LinearScale\"},{\"attributes\":{},\"id\":\"cb13d735-3651-45a8-bff1-ea2e3c15c759\",\"type\":\"CategoricalScale\"},{\"attributes\":{\"overlay\":{\"id\":\"0514afa2-940d-44b4-a7cf-d5c5e8cb8cd1\",\"type\":\"BoxAnnotation\"}},\"id\":\"4f39d53b-7df2-41e6-8fd4-351f56cdd838\",\"type\":\"BoxZoomTool\"},{\"attributes\":{\"below\":[{\"id\":\"a59ae4e3-f512-4447-9246-4271dd4c3adf\",\"type\":\"CategoricalAxis\"}],\"left\":[{\"id\":\"60366f10-069f-4ffc-acea-756181457c0f\",\"type\":\"LinearAxis\"}],\"plot_height\":300,\"plot_width\":300,\"renderers\":[{\"id\":\"a59ae4e3-f512-4447-9246-4271dd4c3adf\",\"type\":\"CategoricalAxis\"},{\"id\":\"97ad38a7-402a-4500-9d06-f12fd682aa71\",\"type\":\"Grid\"},{\"id\":\"60366f10-069f-4ffc-acea-756181457c0f\",\"type\":\"LinearAxis\"},{\"id\":\"9b31b984-eae4-4193-8dd2-6884fe7e4400\",\"type\":\"Grid\"},{\"id\":\"cb9aa55e-e4fe-4960-8019-4599af0eef8f\",\"type\":\"BoxAnnotation\"},{\"id\":\"98fdfb1b-60d9-476b-8a2e-58af899e9ab9\",\"type\":\"GlyphRenderer\"}],\"title\":{\"id\":\"c6e78600-4ddc-4645-b911-e7f988da26ec\",\"type\":\"Title\"},\"toolbar\":{\"id\":\"81f67a98-5021-4850-b42c-87e960c05c8c\",\"type\":\"Toolbar\"},\"toolbar_location\":null,\"x_range\":{\"id\":\"2286c3cd-71cf-428c-a119-f658304f9a19\",\"type\":\"FactorRange\"},\"x_scale\":{\"id\":\"7fb83d77-1b33-4fa3-a908-17a69d420fd2\",\"type\":\"CategoricalScale\"},\"y_range\":{\"id\":\"2f1bd0ec-4461-4155-9533-2d45c226d61b\",\"type\":\"DataRange1d\"},\"y_scale\":{\"id\":\"a091c988-94c6-40cd-9a38-62b2f81e469f\",\"type\":\"LinearScale\"}},\"id\":\"2b4fdb82-2735-497b-8f1f-9b0ef25c6bd1\",\"subtype\":\"Figure\",\"type\":\"Plot\"},{\"attributes\":{},\"id\":\"b32307f1-0b3d-4bb3-88a7-e69386f96996\",\"type\":\"PanTool\"},{\"attributes\":{\"plot\":null,\"text\":\"Atmosphere heating. CLIRAD (single-run) - CRD.\"},\"id\":\"98c6101a-5cb3-464b-83b9-7b99f197495d\",\"type\":\"Title\"},{\"attributes\":{\"bottom_units\":\"screen\",\"fill_alpha\":{\"value\":0.5},\"fill_color\":{\"value\":\"lightgrey\"},\"left_units\":\"screen\",\"level\":\"overlay\",\"line_alpha\":{\"value\":1.0},\"line_color\":{\"value\":\"black\"},\"line_dash\":[4,4],\"line_width\":{\"value\":2},\"plot\":null,\"render_mode\":\"css\",\"right_units\":\"screen\",\"top_units\":\"screen\"},\"id\":\"0514afa2-940d-44b4-a7cf-d5c5e8cb8cd1\",\"type\":\"BoxAnnotation\"},{\"attributes\":{},\"id\":\"cfb24bba-ac7b-44d4-bc85-f2689b3e4a8e\",\"type\":\"HelpTool\"},{\"attributes\":{\"fill_color\":{\"value\":\"#1f77b4\"},\"line_color\":{\"value\":\"#1f77b4\"},\"top\":{\"field\":\"flux\"},\"width\":{\"value\":0.9},\"x\":{\"field\":\"band\"}},\"id\":\"cb7a0595-4e8f-4b70-ba54-ad486ed2641b\",\"type\":\"VBar\"},{\"attributes\":{\"bottom_units\":\"screen\",\"fill_alpha\":{\"value\":0.5},\"fill_color\":{\"value\":\"lightgrey\"},\"left_units\":\"screen\",\"level\":\"overlay\",\"line_alpha\":{\"value\":1.0},\"line_color\":{\"value\":\"black\"},\"line_dash\":[4,4],\"line_width\":{\"value\":2},\"plot\":null,\"render_mode\":\"css\",\"right_units\":\"screen\",\"top_units\":\"screen\"},\"id\":\"cb9aa55e-e4fe-4960-8019-4599af0eef8f\",\"type\":\"BoxAnnotation\"},{\"attributes\":{},\"id\":\"b8935ccb-a404-4213-b8c1-0b587f00646f\",\"type\":\"SaveTool\"},{\"attributes\":{\"data_source\":{\"id\":\"0dd50796-5310-4fc8-a25b-5f0f686a723b\",\"type\":\"ColumnDataSource\"},\"glyph\":{\"id\":\"04320b37-2a71-4c5a-90c3-056479cc4064\",\"type\":\"VBar\"},\"hover_glyph\":null,\"muted_glyph\":null,\"nonselection_glyph\":{\"id\":\"93a9ea16-c442-43c4-b696-2217f6259c58\",\"type\":\"VBar\"},\"selection_glyph\":null,\"view\":{\"id\":\"5f52b2d6-7f93-4d37-9e1d-60313d9e2eb7\",\"type\":\"CDSView\"}},\"id\":\"98fdfb1b-60d9-476b-8a2e-58af899e9ab9\",\"type\":\"GlyphRenderer\"},{\"attributes\":{},\"id\":\"6abfad81-8828-464f-8645-608c7928ac1a\",\"type\":\"WheelZoomTool\"},{\"attributes\":{\"fill_alpha\":{\"value\":0.1},\"fill_color\":{\"value\":\"#1f77b4\"},\"line_alpha\":{\"value\":0.1},\"line_color\":{\"value\":\"#1f77b4\"},\"top\":{\"field\":\"flux\"},\"width\":{\"value\":0.9},\"x\":{\"field\":\"band\"}},\"id\":\"93a9ea16-c442-43c4-b696-2217f6259c58\",\"type\":\"VBar\"},{\"attributes\":{\"callback\":null,\"factors\":[\"1\",\"2\",\"3\",\"4\",\"5\",\"6\",\"7\",\"8\",\"9\",\"10\",\"11\"]},\"id\":\"1b7b2441-105f-4cd4-b887-0f0b728fe682\",\"type\":\"FactorRange\"},{\"attributes\":{\"dimension\":1,\"plot\":{\"id\":\"d408af8d-d477-4a91-bb74-b565f7ebbd6c\",\"subtype\":\"Figure\",\"type\":\"Plot\"},\"ticker\":{\"id\":\"fe06bd00-6de1-4383-9b10-4a28428a0aed\",\"type\":\"BasicTicker\"}},\"id\":\"69ef41cc-2a1d-47e4-8adf-efb270464577\",\"type\":\"Grid\"},{\"attributes\":{\"source\":{\"id\":\"0dd50796-5310-4fc8-a25b-5f0f686a723b\",\"type\":\"ColumnDataSource\"}},\"id\":\"5f52b2d6-7f93-4d37-9e1d-60313d9e2eb7\",\"type\":\"CDSView\"},{\"attributes\":{},\"id\":\"57d69536-1db3-4825-9dfd-ed9559b197b0\",\"type\":\"LinearScale\"},{\"attributes\":{\"axis_label\":\"flux (W m-2)\",\"formatter\":{\"id\":\"82d0db66-c4d2-4895-998e-e391b245af81\",\"type\":\"BasicTickFormatter\"},\"plot\":{\"id\":\"d408af8d-d477-4a91-bb74-b565f7ebbd6c\",\"subtype\":\"Figure\",\"type\":\"Plot\"},\"ticker\":{\"id\":\"fe06bd00-6de1-4383-9b10-4a28428a0aed\",\"type\":\"BasicTicker\"}},\"id\":\"90e58c3a-de20-4d61-b262-92643313d671\",\"type\":\"LinearAxis\"},{\"attributes\":{},\"id\":\"fefc07b2-88ee-4662-bb54-d6e5e383f83b\",\"type\":\"WheelZoomTool\"},{\"attributes\":{},\"id\":\"762d3e6e-8eaf-44c8-a0b1-48dedc387ab2\",\"type\":\"ResetTool\"},{\"attributes\":{},\"id\":\"807837ae-5f86-4798-9b4b-69de34b0c853\",\"type\":\"SaveTool\"},{\"attributes\":{},\"id\":\"34f916e3-7a8a-4dac-beb6-714d0d7679b9\",\"type\":\"ResetTool\"},{\"attributes\":{\"overlay\":{\"id\":\"cb9aa55e-e4fe-4960-8019-4599af0eef8f\",\"type\":\"BoxAnnotation\"}},\"id\":\"1f04682b-9aa9-4df8-88a4-b7684fcce697\",\"type\":\"BoxZoomTool\"},{\"attributes\":{\"below\":[{\"id\":\"f5220f06-306e-4722-978a-8e0ffe4aa3a5\",\"type\":\"CategoricalAxis\"}],\"left\":[{\"id\":\"90e58c3a-de20-4d61-b262-92643313d671\",\"type\":\"LinearAxis\"}],\"plot_height\":300,\"plot_width\":300,\"renderers\":[{\"id\":\"f5220f06-306e-4722-978a-8e0ffe4aa3a5\",\"type\":\"CategoricalAxis\"},{\"id\":\"c9a579f1-d971-4280-b915-ae07d7f2c4d6\",\"type\":\"Grid\"},{\"id\":\"90e58c3a-de20-4d61-b262-92643313d671\",\"type\":\"LinearAxis\"},{\"id\":\"69ef41cc-2a1d-47e4-8adf-efb270464577\",\"type\":\"Grid\"},{\"id\":\"0514afa2-940d-44b4-a7cf-d5c5e8cb8cd1\",\"type\":\"BoxAnnotation\"},{\"id\":\"40ce2c12-d4de-47d7-ac1e-dba8c1a4ee60\",\"type\":\"GlyphRenderer\"}],\"title\":{\"id\":\"de6e198b-2bd1-450d-b564-8dba16e756b3\",\"type\":\"Title\"},\"toolbar\":{\"id\":\"6bf54d94-0c03-4e10-a756-d574c5f7aa95\",\"type\":\"Toolbar\"},\"toolbar_location\":null,\"x_range\":{\"id\":\"66bb94c7-a986-476c-9fec-47515daa3951\",\"type\":\"FactorRange\"},\"x_scale\":{\"id\":\"b2c9f8af-f007-4587-8fca-c85c5cc5a898\",\"type\":\"CategoricalScale\"},\"y_range\":{\"id\":\"b6a15f68-68d8-4f06-bb94-a612bf6b897c\",\"type\":\"DataRange1d\"},\"y_scale\":{\"id\":\"57d69536-1db3-4825-9dfd-ed9559b197b0\",\"type\":\"LinearScale\"}},\"id\":\"d408af8d-d477-4a91-bb74-b565f7ebbd6c\",\"subtype\":\"Figure\",\"type\":\"Plot\"},{\"attributes\":{},\"id\":\"94cfe35c-c27b-4eb5-867b-26dabfdf9c73\",\"type\":\"HelpTool\"},{\"attributes\":{\"plot\":{\"id\":\"d408af8d-d477-4a91-bb74-b565f7ebbd6c\",\"subtype\":\"Figure\",\"type\":\"Plot\"},\"ticker\":{\"id\":\"05017817-3430-4457-a45e-027ba94208a6\",\"type\":\"CategoricalTicker\"}},\"id\":\"c9a579f1-d971-4280-b915-ae07d7f2c4d6\",\"type\":\"Grid\"},{\"attributes\":{\"active_drag\":\"auto\",\"active_inspect\":\"auto\",\"active_scroll\":\"auto\",\"active_tap\":\"auto\",\"tools\":[{\"id\":\"b9c97852-0e5c-4049-a073-531758f9f921\",\"type\":\"PanTool\"},{\"id\":\"3d03c004-1743-4cad-ac79-f363e83f7855\",\"type\":\"WheelZoomTool\"},{\"id\":\"15f0465e-e6f6-43f1-92ce-e0b5f345fbf5\",\"type\":\"BoxZoomTool\"},{\"id\":\"80af753d-3008-4ba1-9fd0-241bc3fdcade\",\"type\":\"SaveTool\"},{\"id\":\"d667d5bd-06e1-4cde-a802-a8eb6932040c\",\"type\":\"ResetTool\"},{\"id\":\"b8d0973b-e10a-4c89-84ba-6bf73707a089\",\"type\":\"HelpTool\"}]},\"id\":\"7656bbf1-74ca-44b6-8b84-d3d3b5261cc5\",\"type\":\"Toolbar\"},{\"attributes\":{\"below\":[{\"id\":\"22d66ca4-f303-4e1c-a38c-ca5cd7bbefa4\",\"type\":\"CategoricalAxis\"}],\"left\":[{\"id\":\"0894b4bf-8819-404e-8400-9d23e4af7bc1\",\"type\":\"LinearAxis\"}],\"plot_height\":300,\"plot_width\":300,\"renderers\":[{\"id\":\"22d66ca4-f303-4e1c-a38c-ca5cd7bbefa4\",\"type\":\"CategoricalAxis\"},{\"id\":\"32804b81-6577-48c5-869d-f8b95095b88c\",\"type\":\"Grid\"},{\"id\":\"0894b4bf-8819-404e-8400-9d23e4af7bc1\",\"type\":\"LinearAxis\"},{\"id\":\"5522e80f-1a85-4670-af8a-165cb40c29aa\",\"type\":\"Grid\"},{\"id\":\"e1972bca-4eb7-4142-9863-63ecf8f58215\",\"type\":\"BoxAnnotation\"},{\"id\":\"d194b75f-78a4-4029-a747-e8fc9edb055b\",\"type\":\"GlyphRenderer\"}],\"title\":{\"id\":\"98c6101a-5cb3-464b-83b9-7b99f197495d\",\"type\":\"Title\"},\"toolbar\":{\"id\":\"7656bbf1-74ca-44b6-8b84-d3d3b5261cc5\",\"type\":\"Toolbar\"},\"toolbar_location\":null,\"x_range\":{\"id\":\"1b7b2441-105f-4cd4-b887-0f0b728fe682\",\"type\":\"FactorRange\"},\"x_scale\":{\"id\":\"cb13d735-3651-45a8-bff1-ea2e3c15c759\",\"type\":\"CategoricalScale\"},\"y_range\":{\"id\":\"38b5bd04-eeb2-49d6-ba9f-cdc9e98fd66a\",\"type\":\"DataRange1d\"},\"y_scale\":{\"id\":\"887c810a-546c-4522-b0c1-e0025b8b583a\",\"type\":\"LinearScale\"}},\"id\":\"eb018d42-0451-48a5-b293-bea58317ada6\",\"subtype\":\"Figure\",\"type\":\"Plot\"},{\"attributes\":{\"fill_alpha\":{\"value\":0.1},\"fill_color\":{\"value\":\"#1f77b4\"},\"line_alpha\":{\"value\":0.1},\"line_color\":{\"value\":\"#1f77b4\"},\"top\":{\"field\":\"flux\"},\"width\":{\"value\":0.9},\"x\":{\"field\":\"band\"}},\"id\":\"c187f861-40f9-4c28-b3df-442416d99f24\",\"type\":\"VBar\"},{\"attributes\":{\"fill_color\":{\"value\":\"#1f77b4\"},\"line_color\":{\"value\":\"#1f77b4\"},\"top\":{\"field\":\"flux\"},\"width\":{\"value\":0.9},\"x\":{\"field\":\"band\"}},\"id\":\"04320b37-2a71-4c5a-90c3-056479cc4064\",\"type\":\"VBar\"},{\"attributes\":{},\"id\":\"fe06bd00-6de1-4383-9b10-4a28428a0aed\",\"type\":\"BasicTicker\"},{\"attributes\":{},\"id\":\"1716a4d5-f55b-49e4-b2a6-90fe72f4aaac\",\"type\":\"PanTool\"},{\"attributes\":{},\"id\":\"ff6a4b45-e0c2-455e-b775-a1e127694826\",\"type\":\"BasicTicker\"},{\"attributes\":{},\"id\":\"eb13ce0f-595f-41ca-933e-e3e809edc16c\",\"type\":\"CategoricalTickFormatter\"}],\"root_ids\":[\"806a8001-06bd-45ed-9a1c-9257a4c18dfe\"]},\"title\":\"Bokeh Application\",\"version\":\"0.12.16\"}};\n",
       "  var render_items = [{\"docid\":\"1564c374-a98a-4cf8-91bb-528f45698e2e\",\"elementid\":\"6d5bbbd9-ccaf-4923-a4b5-ca058053e1f6\",\"modelid\":\"806a8001-06bd-45ed-9a1c-9257a4c18dfe\"}];\n",
       "  root.Bokeh.embed.embed_items_notebook(docs_json, render_items);\n",
       "\n",
       "  }\n",
       "  if (root.Bokeh !== undefined) {\n",
       "    embed_document(root);\n",
       "  } else {\n",
       "    var attempts = 0;\n",
       "    var timer = setInterval(function(root) {\n",
       "      if (root.Bokeh !== undefined) {\n",
       "        embed_document(root);\n",
       "        clearInterval(timer);\n",
       "      }\n",
       "      attempts++;\n",
       "      if (attempts > 100) {\n",
       "        console.log(\"Bokeh: ERROR: Unable to run BokehJS code because BokehJS library is missing\")\n",
       "        clearInterval(timer);\n",
       "      }\n",
       "    }, 10, root)\n",
       "  }\n",
       "})(window);"
      ],
      "application/vnd.bokehjs_exec.v0+json": ""
     },
     "metadata": {
      "application/vnd.bokehjs_exec.v0+json": {
       "id": "806a8001-06bd-45ed-9a1c-9257a4c18dfe"
      }
     },
     "output_type": "display_data"
    },
    {
     "data": {
      "text/markdown": [
       "*FIGURE.* Difference between CLIRAD and CRD in TOA, SFC and net atmosphere flux, in each spectral band."
      ],
      "text/plain": [
       "<IPython.core.display.Markdown object>"
      ]
     },
     "metadata": {},
     "output_type": "display_data"
    },
    {
     "data": {
      "text/html": [
       "<div>\n",
       "<style scoped>\n",
       "    .dataframe tbody tr th:only-of-type {\n",
       "        vertical-align: middle;\n",
       "    }\n",
       "\n",
       "    .dataframe tbody tr th {\n",
       "        vertical-align: top;\n",
       "    }\n",
       "\n",
       "    .dataframe thead th {\n",
       "        text-align: right;\n",
       "    }\n",
       "</style>\n",
       "<table border=\"1\" class=\"dataframe\">\n",
       "  <thead>\n",
       "    <tr style=\"text-align: right;\">\n",
       "      <th></th>\n",
       "      <th>OLR flux</th>\n",
       "      <th>SFC flux</th>\n",
       "      <th>ATM heating</th>\n",
       "    </tr>\n",
       "    <tr>\n",
       "      <th>Sum over bands</th>\n",
       "      <th></th>\n",
       "      <th></th>\n",
       "      <th></th>\n",
       "    </tr>\n",
       "  </thead>\n",
       "  <tbody>\n",
       "    <tr>\n",
       "      <th>CLIRAD (single-run) - CRD</th>\n",
       "      <td>0.84</td>\n",
       "      <td>-0.44</td>\n",
       "      <td>1.27</td>\n",
       "    </tr>\n",
       "    <tr>\n",
       "      <th>CRD</th>\n",
       "      <td>-201.06</td>\n",
       "      <td>166.03</td>\n",
       "      <td>-119.67</td>\n",
       "    </tr>\n",
       "  </tbody>\n",
       "</table>\n",
       "</div>"
      ],
      "text/plain": [
       "                           OLR flux  SFC flux  ATM heating\n",
       "Sum over bands                                            \n",
       "CLIRAD (single-run) - CRD      0.84     -0.44         1.27\n",
       "CRD                         -201.06    166.03      -119.67"
      ]
     },
     "metadata": {},
     "output_type": "display_data"
    },
    {
     "data": {
      "text/markdown": [
       "*TABLE.* Difference between CLIRAD and CRD in TOA, SFC and net atmosphere flux, over all spectral bands. CRD's TOA, SFC and net atmosphere flux, over all spectral bands."
      ],
      "text/plain": [
       "<IPython.core.display.Markdown object>"
      ]
     },
     "metadata": {},
     "output_type": "display_data"
    },
    {
     "data": {
      "text/html": [
       "<a id=\"Cooling_rates._trp.\"></a>"
      ],
      "text/plain": [
       "<IPython.core.display.HTML object>"
      ]
     },
     "metadata": {},
     "output_type": "display_data"
    },
    {
     "data": {
      "text/markdown": [
       "# Cooling rates. trp."
      ],
      "text/plain": [
       "<IPython.core.display.Markdown object>"
      ]
     },
     "metadata": {},
     "output_type": "display_data"
    },
    {
     "data": {
      "text/html": [
       "\n",
       "<div class=\"bk-root\">\n",
       "    <div class=\"bk-plotdiv\" id=\"6ef69a70-1e76-4ceb-be5d-4002a83d463e\"></div>\n",
       "</div>"
      ]
     },
     "metadata": {},
     "output_type": "display_data"
    },
    {
     "data": {
      "application/javascript": [
       "(function(root) {\n",
       "  function embed_document(root) {\n",
       "    \n",
       "  var docs_json = {\"cd422190-e8cb-49a2-89dd-f440775c534e\":{\"roots\":{\"references\":[{\"attributes\":{},\"id\":\"b39d761a-f546-4798-8515-cc2cd1cc0a72\",\"type\":\"LogScale\"},{\"attributes\":{\"items\":[{\"id\":\"18047df5-e15e-465a-94c0-8a0eb45a2ee2\",\"type\":\"LegendItem\"}],\"label_text_font_size\":{\"value\":\"8pt\"},\"location\":\"top_center\",\"orientation\":\"horizontal\",\"plot\":{\"id\":\"8150ccf2-addb-4051-84e6-29d600bdabf3\",\"subtype\":\"Figure\",\"type\":\"Plot\"}},\"id\":\"57967e1e-28d4-4493-b7c3-a3c37d6c8a82\",\"type\":\"Legend\"},{\"attributes\":{\"line_alpha\":0.1,\"line_color\":\"#1f77b4\",\"line_dash\":[6],\"line_width\":5,\"x\":{\"field\":\"x\"},\"y\":{\"field\":\"y\"}},\"id\":\"76f31149-9598-41a1-b5a7-bd1f6b18e863\",\"type\":\"Line\"},{\"attributes\":{\"source\":{\"id\":\"a9a700bb-20fa-4926-b366-77e5f849463a\",\"type\":\"ColumnDataSource\"}},\"id\":\"594d3f73-58ef-4507-bc90-8a963f8b50cb\",\"type\":\"CDSView\"},{\"attributes\":{\"source\":{\"id\":\"cfe7978c-be5b-40bd-acd8-e2c5316246f6\",\"type\":\"ColumnDataSource\"}},\"id\":\"491b4844-9919-41bc-84d4-392d329db3f2\",\"type\":\"CDSView\"},{\"attributes\":{\"callback\":null,\"data\":{\"x\":{\"__ndarray__\":\"R/KIaN7AVEClCeJMyPNGQOvRhpxr30JAptxzhxx4PkA7SssMElA4QK6Bp3CyUDNAsVXpjES9LkBFhUV0+5coQMHYwqbbySNA6f09nM3nH0CaSd/3eYoZQDmgiAOW8BNAPYqARh3eDEBkm4vCgvr+P9D+5tWhQfY/P8DwKRnSAkBq38kb17ILQDT7IWuSsxFAUr2Rjm0FFkAinq3s9XgbQGCHwtYcqSFAG64kT303J0C7dRDneyooQD9JYrbK8yRA9S3bneHhIUAIymSuUMMcQIkHLe6VEBdAAau3cITREkA6CiNvkQIPQJU39ki7IQlAaAvwok1UA0BXLQiS4+L7P0xzDpJ2hPI/NNuPGMbJ5z91mUVYxqfSPxqwUPSxZca/G11peifD3L8QzNj5t2jTvwzOozTL360/SPJ4VI1VzD9KJ0nXEIncP8yDdlvHt+4/Et49nYLW9z++2teD4Jn+P+568eH/bwFALf5D9lmAAkCiZAicVOkCQPPT4jNKxwJAOjp3wTzBAUBSQsKNGisBQG4OmjqJwQBAJ3sZoHFuAEA5Ar0Sdi0AQGy4rw5+9f8/7W4nSrC3/z8mPr8zj4T/P4UYRHCQS/8/embVKYcF/z+5YXG+LLP+P/qb8BVUgf4/KvafTtyO/j/avAK1Ppv+PwJV9VVm2P0/JFtYlU/n/D9sN+q2fiX6Pw44e41PNPc/Opt+Z/wN9T+x3vcSW1vzP9ofvWQJlvI/8sciQQBW8j80sfkQa17yPzg5qng2r/I/Oh14WJBh8z+VZjnpctj0P6CcrSuCqQBA\",\"dtype\":\"float64\",\"shape\":[75]},\"y\":{\"__ndarray__\":\"GhExyth1ND/Sv8nbtpRIP2vylNV0PVE/aTum7souWD/At0SJ8fVgPw3Iuahxymc/MSNhhJWvcD/bTfBN02d3P2zb5nxnaoA/CD5h5MAGhz8NmeH1TyaQP+zrCsc9p5Y/LbKd76fGnz/bLW5ISEmmPww9YvTcQq8/JV2OstnstT8Er5Y7M8G+P0c+r3jqkcU/5h99k6ZBzj88bCIzFzjVP4enV8oyxN0//yH99nXg5D8qOpLLf0jtP5kqGJXUifQ/c9cS8kHP/D+/DpwzojQEQIEmwoanVwxA4lgXt9HgE0BSSZ2AJuIbQAMJih9jjiNA5q4l5INuK0AwTKYKRj0zQNv5fmq8/DpAaCJseHrtQkB/+zpwzoxKQM3MzMzMeFJAZmZmZmZqWEAAAAAAAFxeQM3MzMzMJmJAmpmZmZkfZUBmZmZmZhhoQDMzMzMzEWtAAAAAAAAKbkBmZmZmZoFwQM3MzMzM/XFAMzMzMzN6c0CamZmZmfZ0QAAAAAAAc3ZAZmZmZmbvd0DNzMzMzGt5QDMzMzMz6HpAmpmZmZlkfEAAAAAAAOF9QGZmZmZmXX9AZmZmZuZsgECamZmZGSuBQM3MzMxM6YFAAAAAAICngkAzMzMzs2WDQGZmZmbmI4RAmpmZmRnihEDNzMzMTKCFQAAAAACAXoZAMzMzM7Mch0BmZmZm5tqHQJqZmZkZmYhAzczMzExXiUAAAAAAgBWKQDMzMzOz04pAZmZmZuaRi0CamZmZGVCMQM3MzMxMDo1AAAAAAIDMjUAzMzMzs4qOQGZmZmbmSI9A\",\"dtype\":\"float64\",\"shape\":[75]}},\"selected\":{\"id\":\"0d9b982e-9d8f-4feb-9e4e-b9f2f6d670fa\",\"type\":\"Selection\"},\"selection_policy\":{\"id\":\"7886bcf1-2683-4230-a9d8-ab74d56beef0\",\"type\":\"UnionRenderers\"}},\"id\":\"d4ad91f4-38f0-45fc-a4c0-2dfd845d2d38\",\"type\":\"ColumnDataSource\"},{\"attributes\":{\"data_source\":{\"id\":\"a9a700bb-20fa-4926-b366-77e5f849463a\",\"type\":\"ColumnDataSource\"},\"glyph\":{\"id\":\"9135630b-9126-44c6-8b84-e4c3dd93e37a\",\"type\":\"Line\"},\"hover_glyph\":null,\"muted_glyph\":null,\"nonselection_glyph\":{\"id\":\"76f31149-9598-41a1-b5a7-bd1f6b18e863\",\"type\":\"Line\"},\"selection_glyph\":null,\"view\":{\"id\":\"594d3f73-58ef-4507-bc90-8a963f8b50cb\",\"type\":\"CDSView\"}},\"id\":\"1d4e5f5b-3329-4d1e-b70f-aae522c4ba35\",\"type\":\"GlyphRenderer\"},{\"attributes\":{\"line_alpha\":0.6,\"line_color\":\"#377eb8\",\"line_dash\":[6],\"line_width\":5,\"x\":{\"field\":\"x\"},\"y\":{\"field\":\"y\"}},\"id\":\"9135630b-9126-44c6-8b84-e4c3dd93e37a\",\"type\":\"Line\"},{\"attributes\":{\"fill_alpha\":{\"value\":0.7},\"fill_color\":{\"value\":\"#984ea3\"},\"line_alpha\":{\"value\":0.7},\"line_color\":{\"value\":\"#984ea3\"},\"x\":{\"field\":\"x\"},\"y\":{\"field\":\"y\"}},\"id\":\"093170de-309a-4f75-978e-7fb7b9146952\",\"type\":\"Circle\"},{\"attributes\":{\"axis_label\":\"cooling rate [K/day]\",\"formatter\":{\"id\":\"c87d45b3-170f-44ef-a341-64631a1ecf01\",\"type\":\"BasicTickFormatter\"},\"plot\":{\"id\":\"8150ccf2-addb-4051-84e6-29d600bdabf3\",\"subtype\":\"Figure\",\"type\":\"Plot\"},\"ticker\":{\"id\":\"c57ebd5f-cf9c-4e39-bed5-5735ac132611\",\"type\":\"BasicTicker\"}},\"id\":\"7e955d38-f244-4178-ad62-fbd971fd66e6\",\"type\":\"LinearAxis\"},{\"attributes\":{},\"id\":\"796930ce-f38f-4a2f-b695-155a8d99373d\",\"type\":\"ResetTool\"},{\"attributes\":{\"fill_alpha\":{\"value\":0.1},\"fill_color\":{\"value\":\"#1f77b4\"},\"line_alpha\":{\"value\":0.1},\"line_color\":{\"value\":\"#1f77b4\"},\"x\":{\"field\":\"x\"},\"y\":{\"field\":\"y\"}},\"id\":\"587881cf-ce40-4fd6-8dc9-461617bacb79\",\"type\":\"Circle\"},{\"attributes\":{},\"id\":\"59ee0eb0-da18-43ca-89d6-58f91a58e425\",\"type\":\"HelpTool\"},{\"attributes\":{\"children\":[{\"id\":\"2e49eba2-d18b-4f52-a7d8-da2803e79e95\",\"subtype\":\"Figure\",\"type\":\"Plot\"},{\"id\":\"75b599e6-2898-4439-a9ad-6a63ed4432cd\",\"subtype\":\"Figure\",\"type\":\"Plot\"},{\"id\":\"8150ccf2-addb-4051-84e6-29d600bdabf3\",\"subtype\":\"Figure\",\"type\":\"Plot\"}]},\"id\":\"9f65cb3a-9fee-42ef-85e0-2b4a355c7bd1\",\"type\":\"Row\"},{\"attributes\":{\"callback\":null,\"data\":{\"x\":{\"__ndarray__\":\"hQDizhf+Q8C9K7VPP4cgwJ45ivCkvwLAPrgd1IsN/D+7olvZiCgOQMfUJ5JPyw5AuoTPxstSBEDfsAhjqs7mPyG2aQPjFui/skYKbTIs9b8pmp3aPUHxvycIBbz0t96/evs4oRCitj+B1IFWZZfdPxqZq9kgTuE/lkgHH1bO1j/w/UZOEheyP4s6Gj7pbdG/+wyRYP474b+smxPTmVbhv1avJCCRsdO/LsHmAh7iur/uITsdI6mhv0XyCaug5Mu/da5/Dt1Y17/0SZ1RPmu7v1IJJSPzfdQ/kf0YDzym1T+PyE3OmIe4P7jzyz26Y4k/NR64+Gpozj+4volZXD7UP0WpJ1BRZME/OGepDTb1q790Wc7i3Kyav5cLhRLWcaM/rtdtlD7jnL8aKsAueeCyv2Wpn2hd166/ar+6uSL5q79JzvJIH9auv/oMy14/yq+/pHIp76m9sb+lGi6utlOov4Vb7kFUgbC/MhV07Slyv79SUDv5Zz20v5Z+ZH9eqK6/a4fNmQ9Vtb+gYJ66nz+1v/WnYBCUlqy/VJbOBzizn78Ay7ktF52UvwWi9HOtN5a/sayJvugWnr+GXu8dPU6fv2mqpry+3I6/brMXGwRnjj+CthimMBumPyLtjj5Gdqw/6Cp6xg+spz/6H0XpR82XPwCoGcKZrhM/pA4f0Td7fb/obh9nEuRkP/aoiDn57Zk/0BtJk+X8qz9pu9nNcjOyPxw4oFwM4rI/yDVB3u/zsz86WCrHOQe1P7GEpHPfIbY/yHpoq4sluj+M7Z3fXC2+Pykcaqn2yL8/\",\"dtype\":\"float64\",\"shape\":[75]},\"y\":{\"__ndarray__\":\"GhExyth1ND/Sv8nbtpRIP2vylNV0PVE/aTum7souWD/At0SJ8fVgPw3Iuahxymc/MSNhhJWvcD/bTfBN02d3P2zb5nxnaoA/CD5h5MAGhz8NmeH1TyaQP+zrCsc9p5Y/LbKd76fGnz/bLW5ISEmmPww9YvTcQq8/JV2OstnstT8Er5Y7M8G+P0c+r3jqkcU/5h99k6ZBzj88bCIzFzjVP4enV8oyxN0//yH99nXg5D8qOpLLf0jtP5kqGJXUifQ/c9cS8kHP/D+/DpwzojQEQIEmwoanVwxA4lgXt9HgE0BSSZ2AJuIbQAMJih9jjiNA5q4l5INuK0AwTKYKRj0zQNv5fmq8/DpAaCJseHrtQkB/+zpwzoxKQM3MzMzMeFJAZmZmZmZqWEAAAAAAAFxeQM3MzMzMJmJAmpmZmZkfZUBmZmZmZhhoQDMzMzMzEWtAAAAAAAAKbkBmZmZmZoFwQM3MzMzM/XFAMzMzMzN6c0CamZmZmfZ0QAAAAAAAc3ZAZmZmZmbvd0DNzMzMzGt5QDMzMzMz6HpAmpmZmZlkfEAAAAAAAOF9QGZmZmZmXX9AZmZmZuZsgECamZmZGSuBQM3MzMxM6YFAAAAAAICngkAzMzMzs2WDQGZmZmbmI4RAmpmZmRnihEDNzMzMTKCFQAAAAACAXoZAMzMzM7Mch0BmZmZm5tqHQJqZmZkZmYhAzczMzExXiUAAAAAAgBWKQDMzMzOz04pAZmZmZuaRi0CamZmZGVCMQM3MzMxMDo1AAAAAAIDMjUAzMzMzs4qOQGZmZmbmSI9A\",\"dtype\":\"float64\",\"shape\":[75]}},\"selected\":{\"id\":\"453db138-7c18-43ee-8a9d-0e017ce73f9b\",\"type\":\"Selection\"},\"selection_policy\":{\"id\":\"6e6c560a-a0d8-4da8-a2ad-1cad8c799138\",\"type\":\"UnionRenderers\"}},\"id\":\"5b08b026-08d5-4656-8c5a-cc6a5998971f\",\"type\":\"ColumnDataSource\"},{\"attributes\":{\"bottom_units\":\"screen\",\"fill_alpha\":{\"value\":0.5},\"fill_color\":{\"value\":\"lightgrey\"},\"left_units\":\"screen\",\"level\":\"overlay\",\"line_alpha\":{\"value\":1.0},\"line_color\":{\"value\":\"black\"},\"line_dash\":[4,4],\"line_width\":{\"value\":2},\"plot\":null,\"render_mode\":\"css\",\"right_units\":\"screen\",\"top_units\":\"screen\"},\"id\":\"5fb410d8-a426-4fb5-aa11-55d15a6aaec3\",\"type\":\"BoxAnnotation\"},{\"attributes\":{\"data_source\":{\"id\":\"d86bad22-6d07-4c26-9415-668df826af43\",\"type\":\"ColumnDataSource\"},\"glyph\":{\"id\":\"252302ae-b5fd-48fa-bf4b-ab4350205553\",\"type\":\"Line\"},\"hover_glyph\":null,\"muted_glyph\":null,\"nonselection_glyph\":{\"id\":\"af2ee481-3963-4a61-b2fc-5e151fb16f0c\",\"type\":\"Line\"},\"selection_glyph\":null,\"view\":{\"id\":\"7792cfb6-5c81-44df-b2ab-99939b646031\",\"type\":\"CDSView\"}},\"id\":\"9c58695f-eed8-4ae1-a1dd-95bd8cf54820\",\"type\":\"GlyphRenderer\"},{\"attributes\":{\"dimension\":1,\"plot\":{\"id\":\"8150ccf2-addb-4051-84e6-29d600bdabf3\",\"subtype\":\"Figure\",\"type\":\"Plot\"},\"ticker\":{\"id\":\"e08e6c1a-5519-4085-9f2b-46d6ad562d2c\",\"type\":\"LogTicker\"}},\"id\":\"41a12cd5-ec6f-465a-93a8-cdf5cdc543f1\",\"type\":\"Grid\"},{\"attributes\":{\"overlay\":{\"id\":\"5fb410d8-a426-4fb5-aa11-55d15a6aaec3\",\"type\":\"BoxAnnotation\"}},\"id\":\"8c3b4a43-4141-4388-a813-0127cdbf1b85\",\"type\":\"BoxZoomTool\"},{\"attributes\":{\"plot\":null,\"text\":\"\"},\"id\":\"f6b1df3f-95f4-4150-b55b-c74e3da2a35e\",\"type\":\"Title\"},{\"attributes\":{},\"id\":\"c57ebd5f-cf9c-4e39-bed5-5735ac132611\",\"type\":\"BasicTicker\"},{\"attributes\":{},\"id\":\"453db138-7c18-43ee-8a9d-0e017ce73f9b\",\"type\":\"Selection\"},{\"attributes\":{},\"id\":\"5cfe7761-ed6e-4a75-9b2d-bf8fc8f6b030\",\"type\":\"SaveTool\"},{\"attributes\":{\"above\":[{\"id\":\"64f933ad-8158-4e2f-b7ab-4af962a6e2c3\",\"type\":\"Legend\"}],\"below\":[{\"id\":\"333ef5ee-7a8c-4f61-8d79-571aa9561042\",\"type\":\"LinearAxis\"}],\"left\":[{\"id\":\"339bd99f-f542-4db7-91e6-35472735dd3c\",\"type\":\"LinearAxis\"}],\"plot_width\":300,\"renderers\":[{\"id\":\"333ef5ee-7a8c-4f61-8d79-571aa9561042\",\"type\":\"LinearAxis\"},{\"id\":\"79a07f67-df19-4f61-8f60-33915bb1c81b\",\"type\":\"Grid\"},{\"id\":\"339bd99f-f542-4db7-91e6-35472735dd3c\",\"type\":\"LinearAxis\"},{\"id\":\"f665b657-e6be-4fec-8f7e-c0b69830590a\",\"type\":\"Grid\"},{\"id\":\"15378602-96b0-4e1c-845d-0c04a45994c9\",\"type\":\"BoxAnnotation\"},{\"id\":\"b39095b3-db3e-427f-9ac3-2aba81f907f7\",\"type\":\"GlyphRenderer\"},{\"id\":\"9fe03a04-d6f1-41cb-abe1-ec0c14d70e99\",\"type\":\"GlyphRenderer\"},{\"id\":\"960c8272-57c4-4027-94c0-5d052bff879c\",\"type\":\"GlyphRenderer\"},{\"id\":\"64f933ad-8158-4e2f-b7ab-4af962a6e2c3\",\"type\":\"Legend\"}],\"title\":{\"id\":\"12337ca6-deaa-4503-aa25-5f849fa0c514\",\"type\":\"Title\"},\"toolbar\":{\"id\":\"d164f61d-5a6d-4bc9-a8a5-b3e562814ea3\",\"type\":\"Toolbar\"},\"toolbar_location\":null,\"x_range\":{\"id\":\"68f94610-73bd-411e-8a0f-590c1f5a7cab\",\"type\":\"Range1d\"},\"x_scale\":{\"id\":\"5c43be8d-35e4-4507-a5d8-3c1a69d1d598\",\"type\":\"LinearScale\"},\"y_range\":{\"id\":\"c065a0b3-dabe-4e9d-89b4-034158bef981\",\"type\":\"Range1d\"},\"y_scale\":{\"id\":\"1793418a-72eb-40eb-952c-8b58712e40e7\",\"type\":\"LinearScale\"}},\"id\":\"2e49eba2-d18b-4f52-a7d8-da2803e79e95\",\"subtype\":\"Figure\",\"type\":\"Plot\"},{\"attributes\":{\"label\":{\"value\":\"CLIRAD (single-run)\"},\"renderers\":[{\"id\":\"1d4e5f5b-3329-4d1e-b70f-aae522c4ba35\",\"type\":\"GlyphRenderer\"}]},\"id\":\"7662ed3c-439c-43f9-b32f-5b50d9a231bd\",\"type\":\"LegendItem\"},{\"attributes\":{\"data_source\":{\"id\":\"5b08b026-08d5-4656-8c5a-cc6a5998971f\",\"type\":\"ColumnDataSource\"},\"glyph\":{\"id\":\"093170de-309a-4f75-978e-7fb7b9146952\",\"type\":\"Circle\"},\"hover_glyph\":null,\"muted_glyph\":null,\"nonselection_glyph\":{\"id\":\"587881cf-ce40-4fd6-8dc9-461617bacb79\",\"type\":\"Circle\"},\"selection_glyph\":null,\"view\":{\"id\":\"249dde70-e3d3-4f4e-b34c-5e06d87a744f\",\"type\":\"CDSView\"}},\"id\":\"d819c200-0ec4-4be3-b237-89438ba8cb82\",\"type\":\"GlyphRenderer\"},{\"attributes\":{},\"id\":\"19696e8c-c784-4156-9e97-46dd32edc156\",\"type\":\"BasicTickFormatter\"},{\"attributes\":{\"children\":[{\"id\":\"9f65cb3a-9fee-42ef-85e0-2b4a355c7bd1\",\"type\":\"Row\"}]},\"id\":\"80aca80f-819e-4501-aee6-2106bfd09db8\",\"type\":\"Column\"},{\"attributes\":{},\"id\":\"dfb63c40-fc87-4823-a07e-17325564215b\",\"type\":\"UnionRenderers\"},{\"attributes\":{},\"id\":\"c87d45b3-170f-44ef-a341-64631a1ecf01\",\"type\":\"BasicTickFormatter\"},{\"attributes\":{},\"id\":\"6e6c560a-a0d8-4da8-a2ad-1cad8c799138\",\"type\":\"UnionRenderers\"},{\"attributes\":{\"source\":{\"id\":\"d86bad22-6d07-4c26-9415-668df826af43\",\"type\":\"ColumnDataSource\"}},\"id\":\"7792cfb6-5c81-44df-b2ab-99939b646031\",\"type\":\"CDSView\"},{\"attributes\":{\"bottom_units\":\"screen\",\"fill_alpha\":{\"value\":0.5},\"fill_color\":{\"value\":\"lightgrey\"},\"left_units\":\"screen\",\"level\":\"overlay\",\"line_alpha\":{\"value\":1.0},\"line_color\":{\"value\":\"black\"},\"line_dash\":[4,4],\"line_width\":{\"value\":2},\"plot\":null,\"render_mode\":\"css\",\"right_units\":\"screen\",\"top_units\":\"screen\"},\"id\":\"213b459b-5f25-4c0b-800e-1c835fd30a5d\",\"type\":\"BoxAnnotation\"},{\"attributes\":{\"plot\":{\"id\":\"8150ccf2-addb-4051-84e6-29d600bdabf3\",\"subtype\":\"Figure\",\"type\":\"Plot\"},\"ticker\":{\"id\":\"c57ebd5f-cf9c-4e39-bed5-5735ac132611\",\"type\":\"BasicTicker\"}},\"id\":\"832cf7c6-29a7-4a28-a14b-d4fa64893bb7\",\"type\":\"Grid\"},{\"attributes\":{\"num_minor_ticks\":10},\"id\":\"e08e6c1a-5519-4085-9f2b-46d6ad562d2c\",\"type\":\"LogTicker\"},{\"attributes\":{\"plot\":null,\"text\":\"\"},\"id\":\"12337ca6-deaa-4503-aa25-5f849fa0c514\",\"type\":\"Title\"},{\"attributes\":{\"source\":{\"id\":\"3acc8067-b947-4865-89ff-d7b7cc6f2e6b\",\"type\":\"ColumnDataSource\"}},\"id\":\"54d29bd1-bcfb-4276-a9b0-df7b8fe64dc3\",\"type\":\"CDSView\"},{\"attributes\":{\"line_alpha\":0.8,\"line_color\":\"#984ea3\",\"line_width\":1.5,\"x\":{\"field\":\"x\"},\"y\":{\"field\":\"y\"}},\"id\":\"252302ae-b5fd-48fa-bf4b-ab4350205553\",\"type\":\"Line\"},{\"attributes\":{},\"id\":\"fa169116-a62c-4f33-94b6-f53d321c93f4\",\"type\":\"Selection\"},{\"attributes\":{\"label\":{\"value\":\"CLIRAD (single-run) - CRD\"},\"renderers\":[{\"id\":\"d819c200-0ec4-4be3-b237-89438ba8cb82\",\"type\":\"GlyphRenderer\"},{\"id\":\"9c58695f-eed8-4ae1-a1dd-95bd8cf54820\",\"type\":\"GlyphRenderer\"}]},\"id\":\"18047df5-e15e-465a-94c0-8a0eb45a2ee2\",\"type\":\"LegendItem\"},{\"attributes\":{\"ticker\":null},\"id\":\"efc7f7ac-3228-451c-8261-9f2aa52feb8a\",\"type\":\"LogTickFormatter\"},{\"attributes\":{},\"id\":\"46aa934e-311c-4145-ba59-482cf29d9540\",\"type\":\"Selection\"},{\"attributes\":{},\"id\":\"455fd9eb-b074-42e0-b6c1-4c907bc91e33\",\"type\":\"PanTool\"},{\"attributes\":{\"overlay\":{\"id\":\"213b459b-5f25-4c0b-800e-1c835fd30a5d\",\"type\":\"BoxAnnotation\"}},\"id\":\"ffd31b25-813b-4596-a743-cab34a9a6b9e\",\"type\":\"BoxZoomTool\"},{\"attributes\":{},\"id\":\"0a0336a2-b340-4ecd-a4d5-fa632387e0a9\",\"type\":\"PanTool\"},{\"attributes\":{},\"id\":\"204177b3-3342-499a-b3b9-15db2483ccbd\",\"type\":\"WheelZoomTool\"},{\"attributes\":{\"callback\":null,\"data\":{\"x\":{\"__ndarray__\":\"hQDizhf+Q8C9K7VPP4cgwJ45ivCkvwLAPrgd1IsN/D+7olvZiCgOQMfUJ5JPyw5AuoTPxstSBEDfsAhjqs7mPyG2aQPjFui/skYKbTIs9b8pmp3aPUHxvycIBbz0t96/evs4oRCitj+B1IFWZZfdPxqZq9kgTuE/lkgHH1bO1j/w/UZOEheyP4s6Gj7pbdG/+wyRYP474b+smxPTmVbhv1avJCCRsdO/LsHmAh7iur/uITsdI6mhv0XyCaug5Mu/da5/Dt1Y17/0SZ1RPmu7v1IJJSPzfdQ/kf0YDzym1T+PyE3OmIe4P7jzyz26Y4k/NR64+Gpozj+4volZXD7UP0WpJ1BRZME/OGepDTb1q790Wc7i3Kyav5cLhRLWcaM/rtdtlD7jnL8aKsAueeCyv2Wpn2hd166/ar+6uSL5q79JzvJIH9auv/oMy14/yq+/pHIp76m9sb+lGi6utlOov4Vb7kFUgbC/MhV07Slyv79SUDv5Zz20v5Z+ZH9eqK6/a4fNmQ9Vtb+gYJ66nz+1v/WnYBCUlqy/VJbOBzizn78Ay7ktF52UvwWi9HOtN5a/sayJvugWnr+GXu8dPU6fv2mqpry+3I6/brMXGwRnjj+CthimMBumPyLtjj5Gdqw/6Cp6xg+spz/6H0XpR82XPwCoGcKZrhM/pA4f0Td7fb/obh9nEuRkP/aoiDn57Zk/0BtJk+X8qz9pu9nNcjOyPxw4oFwM4rI/yDVB3u/zsz86WCrHOQe1P7GEpHPfIbY/yHpoq4sluj+M7Z3fXC2+Pykcaqn2yL8/\",\"dtype\":\"float64\",\"shape\":[75]},\"y\":{\"__ndarray__\":\"GhExyth1ND/Sv8nbtpRIP2vylNV0PVE/aTum7souWD/At0SJ8fVgPw3Iuahxymc/MSNhhJWvcD/bTfBN02d3P2zb5nxnaoA/CD5h5MAGhz8NmeH1TyaQP+zrCsc9p5Y/LbKd76fGnz/bLW5ISEmmPww9YvTcQq8/JV2OstnstT8Er5Y7M8G+P0c+r3jqkcU/5h99k6ZBzj88bCIzFzjVP4enV8oyxN0//yH99nXg5D8qOpLLf0jtP5kqGJXUifQ/c9cS8kHP/D+/DpwzojQEQIEmwoanVwxA4lgXt9HgE0BSSZ2AJuIbQAMJih9jjiNA5q4l5INuK0AwTKYKRj0zQNv5fmq8/DpAaCJseHrtQkB/+zpwzoxKQM3MzMzMeFJAZmZmZmZqWEAAAAAAAFxeQM3MzMzMJmJAmpmZmZkfZUBmZmZmZhhoQDMzMzMzEWtAAAAAAAAKbkBmZmZmZoFwQM3MzMzM/XFAMzMzMzN6c0CamZmZmfZ0QAAAAAAAc3ZAZmZmZmbvd0DNzMzMzGt5QDMzMzMz6HpAmpmZmZlkfEAAAAAAAOF9QGZmZmZmXX9AZmZmZuZsgECamZmZGSuBQM3MzMxM6YFAAAAAAICngkAzMzMzs2WDQGZmZmbmI4RAmpmZmRnihEDNzMzMTKCFQAAAAACAXoZAMzMzM7Mch0BmZmZm5tqHQJqZmZkZmYhAzczMzExXiUAAAAAAgBWKQDMzMzOz04pAZmZmZuaRi0CamZmZGVCMQM3MzMxMDo1AAAAAAIDMjUAzMzMzs4qOQGZmZmbmSI9A\",\"dtype\":\"float64\",\"shape\":[75]}},\"selected\":{\"id\":\"fe35ce55-eb8d-4c16-89a7-38b40f1ecdb3\",\"type\":\"Selection\"},\"selection_policy\":{\"id\":\"dfb63c40-fc87-4823-a07e-17325564215b\",\"type\":\"UnionRenderers\"}},\"id\":\"d86bad22-6d07-4c26-9415-668df826af43\",\"type\":\"ColumnDataSource\"},{\"attributes\":{\"axis_label\":\"pressure [mb]\",\"formatter\":{\"id\":\"efc7f7ac-3228-451c-8261-9f2aa52feb8a\",\"type\":\"LogTickFormatter\"},\"plot\":{\"id\":\"8150ccf2-addb-4051-84e6-29d600bdabf3\",\"subtype\":\"Figure\",\"type\":\"Plot\"},\"ticker\":{\"id\":\"e08e6c1a-5519-4085-9f2b-46d6ad562d2c\",\"type\":\"LogTicker\"}},\"id\":\"ebd254eb-7dde-421f-a33d-a15b12a0cc45\",\"type\":\"LogAxis\"},{\"attributes\":{},\"id\":\"3cd61de2-dff5-42ad-9b6e-457004f4089b\",\"type\":\"ResetTool\"},{\"attributes\":{\"callback\":null,\"data\":{\"x\":{\"__ndarray__\":\"DeQvAqWDRUC2vvR4+NFCQFEufk1xs0FAFdxaonocQECUvvYnIxU8QEd87GIcKjdAcZtOv/voMUBSEHYa5gQqQF49jHZtSCJAPWz7AMGcGkAR4zeBKjoVQLhPyLcWBRJAGlKKyy2TDUBDCBYMLjADQFzLvEKy6P4/UqnR7eOrBUBZFzyuj0MMQI1XQNeznBBAs5t/wu3dE0CsKkuyIk4ZQOVhwU2QCyFAmOAeE7kBJ0CaOvPD0hgoQHghtjM4hCRAgTBntRonIUDfVB61o1UcQB5YXyB1WBhA2zqpMegrFEB+eJU1zsYPQIgDNAMfOwlATI17UtQ6BUCCTjVUPXkAQHRoE7wAsfQ/wUS1t3IK5j/gsxiK+PzQPzJtr288icG/lzqwY1uR3r+X1ohF1iDYvwRse39G8l6/bUIKpkRXxT+BzSruTK7YP/zSiWUju+w/6UZL/qe69j/qaWbOQtf9PxII4j/16wBAhF3YpsiEAUAeij5caUcCQPlB5bmoTAJAAM6oRJQWAUBMT+2PHYEAQM6LWOouTwBA+t0JMAsvAECkjmHkOwQAQOTl31ifnP8/O0gtp1Q//z+tgEc/Vgf/PzHLyvLWDf8/4JULMlVC/z9tJ6JDBmT/P2IT5UcGZf8/gcfTzDxM/z9a0afUc/r+P2ddXBC12P0/FjyHXdTJ/D8jxx3A8C/6P7BaYXIHnPc/GeQYlOPt9T9oetU/kn70P1sjhyoqxPM/T9sGPz+V8z+4Vmyt3q7zP4OB5G9UEfQ/56QuE+kD9T9sRTO3SLv2P4Ht+ODJpwFA\",\"dtype\":\"float64\",\"shape\":[75]},\"y\":{\"__ndarray__\":\"GhExyth1ND/Sv8nbtpRIP2vylNV0PVE/aTum7souWD/At0SJ8fVgPw3Iuahxymc/MSNhhJWvcD/bTfBN02d3P2zb5nxnaoA/CD5h5MAGhz8NmeH1TyaQP+zrCsc9p5Y/LbKd76fGnz/bLW5ISEmmPww9YvTcQq8/JV2OstnstT8Er5Y7M8G+P0c+r3jqkcU/5h99k6ZBzj88bCIzFzjVP4enV8oyxN0//yH99nXg5D8qOpLLf0jtP5kqGJXUifQ/c9cS8kHP/D+/DpwzojQEQIEmwoanVwxA4lgXt9HgE0BSSZ2AJuIbQAMJih9jjiNA5q4l5INuK0AwTKYKRj0zQNv5fmq8/DpAaCJseHrtQkB/+zpwzoxKQM3MzMzMeFJAZmZmZmZqWEAAAAAAAFxeQM3MzMzMJmJAmpmZmZkfZUBmZmZmZhhoQDMzMzMzEWtAAAAAAAAKbkBmZmZmZoFwQM3MzMzM/XFAMzMzMzN6c0CamZmZmfZ0QAAAAAAAc3ZAZmZmZmbvd0DNzMzMzGt5QDMzMzMz6HpAmpmZmZlkfEAAAAAAAOF9QGZmZmZmXX9AZmZmZuZsgECamZmZGSuBQM3MzMxM6YFAAAAAAICngkAzMzMzs2WDQGZmZmbmI4RAmpmZmRnihEDNzMzMTKCFQAAAAACAXoZAMzMzM7Mch0BmZmZm5tqHQJqZmZkZmYhAzczMzExXiUAAAAAAgBWKQDMzMzOz04pAZmZmZuaRi0CamZmZGVCMQM3MzMxMDo1AAAAAAIDMjUAzMzMzs4qOQGZmZmbmSI9A\",\"dtype\":\"float64\",\"shape\":[75]}},\"selected\":{\"id\":\"fa169116-a62c-4f33-94b6-f53d321c93f4\",\"type\":\"Selection\"},\"selection_policy\":{\"id\":\"740a7d13-d6c1-4d00-9a23-d048b265e805\",\"type\":\"UnionRenderers\"}},\"id\":\"a9a700bb-20fa-4926-b366-77e5f849463a\",\"type\":\"ColumnDataSource\"},{\"attributes\":{},\"id\":\"e4f081cf-2a09-427d-9cb1-730823c778cd\",\"type\":\"HelpTool\"},{\"attributes\":{\"line_alpha\":0.1,\"line_color\":\"#1f77b4\",\"line_width\":1.5,\"x\":{\"field\":\"x\"},\"y\":{\"field\":\"y\"}},\"id\":\"af2ee481-3963-4a61-b2fc-5e151fb16f0c\",\"type\":\"Line\"},{\"attributes\":{},\"id\":\"2778bec4-39ed-4a29-b176-7c001d56c194\",\"type\":\"PanTool\"},{\"attributes\":{\"dimension\":1,\"plot\":{\"id\":\"2e49eba2-d18b-4f52-a7d8-da2803e79e95\",\"subtype\":\"Figure\",\"type\":\"Plot\"},\"ticker\":{\"id\":\"46eddb20-d250-4e47-b646-7363011c64d6\",\"type\":\"BasicTicker\"}},\"id\":\"f665b657-e6be-4fec-8f7e-c0b69830590a\",\"type\":\"Grid\"},{\"attributes\":{},\"id\":\"7886bcf1-2683-4230-a9d8-ab74d56beef0\",\"type\":\"UnionRenderers\"},{\"attributes\":{\"source\":{\"id\":\"5b08b026-08d5-4656-8c5a-cc6a5998971f\",\"type\":\"ColumnDataSource\"}},\"id\":\"249dde70-e3d3-4f4e-b34c-5e06d87a744f\",\"type\":\"CDSView\"},{\"attributes\":{},\"id\":\"e45c691c-1583-400e-9674-ac8780c2ec3c\",\"type\":\"SaveTool\"},{\"attributes\":{},\"id\":\"83563521-88c7-4546-b8a8-11483a6d907d\",\"type\":\"WheelZoomTool\"},{\"attributes\":{},\"id\":\"740a7d13-d6c1-4d00-9a23-d048b265e805\",\"type\":\"UnionRenderers\"},{\"attributes\":{},\"id\":\"8f0942c0-22c3-4eb9-971b-d88d17ada08a\",\"type\":\"BasicTicker\"},{\"attributes\":{\"source\":{\"id\":\"e3435004-c545-4a3b-aefd-8ef6adab4866\",\"type\":\"ColumnDataSource\"}},\"id\":\"a51ce005-f604-4eab-8091-6e41fee5ab90\",\"type\":\"CDSView\"},{\"attributes\":{\"active_drag\":\"auto\",\"active_inspect\":\"auto\",\"active_scroll\":\"auto\",\"active_tap\":\"auto\",\"tools\":[{\"id\":\"0a0336a2-b340-4ecd-a4d5-fa632387e0a9\",\"type\":\"PanTool\"},{\"id\":\"3e232fff-1a87-46e3-832b-c74a5342b1b2\",\"type\":\"WheelZoomTool\"},{\"id\":\"3dea0f9f-170f-4cb1-a4ea-2b0303849684\",\"type\":\"BoxZoomTool\"},{\"id\":\"dae7a5fb-a62d-4c65-af6d-4fec167e33cb\",\"type\":\"SaveTool\"},{\"id\":\"0dc662b7-0d80-4ea9-817e-11d2528b88be\",\"type\":\"ResetTool\"},{\"id\":\"f03bb637-7e01-4a78-9d2e-16d1bdef3abd\",\"type\":\"HelpTool\"}]},\"id\":\"d164f61d-5a6d-4bc9-a8a5-b3e562814ea3\",\"type\":\"Toolbar\"},{\"attributes\":{\"callback\":null,\"end\":0.01,\"start\":1020},\"id\":\"3c7b3481-bbb1-4fdc-a7a5-a405bc84e4eb\",\"type\":\"Range1d\"},{\"attributes\":{\"label\":{\"value\":\"CRD\"},\"renderers\":[{\"id\":\"9fe03a04-d6f1-41cb-abe1-ec0c14d70e99\",\"type\":\"GlyphRenderer\"},{\"id\":\"960c8272-57c4-4027-94c0-5d052bff879c\",\"type\":\"GlyphRenderer\"}]},\"id\":\"a9cd65fe-bb7d-4964-9cc5-828431bb506e\",\"type\":\"LegendItem\"},{\"attributes\":{},\"id\":\"5c43be8d-35e4-4507-a5d8-3c1a69d1d598\",\"type\":\"LinearScale\"},{\"attributes\":{\"axis_label\":\"pressure [mb]\",\"formatter\":{\"id\":\"fa1817ab-7c15-4d9d-b98b-39b70cf780cb\",\"type\":\"LogTickFormatter\"},\"plot\":{\"id\":\"75b599e6-2898-4439-a9ad-6a63ed4432cd\",\"subtype\":\"Figure\",\"type\":\"Plot\"},\"ticker\":{\"id\":\"e5b63d62-677a-4f0b-afb0-5909cba55cd5\",\"type\":\"LogTicker\"}},\"id\":\"0eff7646-c38b-4780-9a26-f85d39c996d4\",\"type\":\"LogAxis\"},{\"attributes\":{\"data_source\":{\"id\":\"e3435004-c545-4a3b-aefd-8ef6adab4866\",\"type\":\"ColumnDataSource\"},\"glyph\":{\"id\":\"6f1020eb-03c4-44b4-87c0-b85e8480f469\",\"type\":\"Circle\"},\"hover_glyph\":null,\"muted_glyph\":null,\"nonselection_glyph\":{\"id\":\"52db28ce-d1a9-4ed0-9518-430f1c91094a\",\"type\":\"Circle\"},\"selection_glyph\":null,\"view\":{\"id\":\"a51ce005-f604-4eab-8091-6e41fee5ab90\",\"type\":\"CDSView\"}},\"id\":\"9fe03a04-d6f1-41cb-abe1-ec0c14d70e99\",\"type\":\"GlyphRenderer\"},{\"attributes\":{},\"id\":\"46eddb20-d250-4e47-b646-7363011c64d6\",\"type\":\"BasicTicker\"},{\"attributes\":{\"plot\":null,\"text\":\"\"},\"id\":\"0d24ba48-efa7-4217-9cb8-b3e4d3cc502c\",\"type\":\"Title\"},{\"attributes\":{\"items\":[{\"id\":\"7662ed3c-439c-43f9-b32f-5b50d9a231bd\",\"type\":\"LegendItem\"},{\"id\":\"70142454-02d2-4f2f-9c4b-a582e16aa22e\",\"type\":\"LegendItem\"}],\"label_text_font_size\":{\"value\":\"8pt\"},\"location\":\"top_center\",\"orientation\":\"horizontal\",\"plot\":{\"id\":\"75b599e6-2898-4439-a9ad-6a63ed4432cd\",\"subtype\":\"Figure\",\"type\":\"Plot\"}},\"id\":\"6d99c38e-af1f-48ec-80e0-03bad2de5ca1\",\"type\":\"Legend\"},{\"attributes\":{},\"id\":\"1793418a-72eb-40eb-952c-8b58712e40e7\",\"type\":\"LinearScale\"},{\"attributes\":{},\"id\":\"3e232fff-1a87-46e3-832b-c74a5342b1b2\",\"type\":\"WheelZoomTool\"},{\"attributes\":{\"callback\":null,\"end\":0.01,\"start\":1020},\"id\":\"e28a4ce3-838d-4603-9c6b-4a6b8e2e058f\",\"type\":\"Range1d\"},{\"attributes\":{\"axis_label\":\"cooling rate [K/day]\",\"formatter\":{\"id\":\"edddb129-ab64-4949-a82f-7c9436346450\",\"type\":\"BasicTickFormatter\"},\"plot\":{\"id\":\"75b599e6-2898-4439-a9ad-6a63ed4432cd\",\"subtype\":\"Figure\",\"type\":\"Plot\"},\"ticker\":{\"id\":\"8f0942c0-22c3-4eb9-971b-d88d17ada08a\",\"type\":\"BasicTicker\"}},\"id\":\"09374827-ac85-4c80-b694-06f5838fd0cb\",\"type\":\"LinearAxis\"},{\"attributes\":{\"line_alpha\":0.1,\"line_color\":\"#1f77b4\",\"line_width\":1.5,\"x\":{\"field\":\"x\"},\"y\":{\"field\":\"y\"}},\"id\":\"0d9570fd-328a-4a3c-b770-6c684ff83d14\",\"type\":\"Line\"},{\"attributes\":{},\"id\":\"dae7a5fb-a62d-4c65-af6d-4fec167e33cb\",\"type\":\"SaveTool\"},{\"attributes\":{\"data_source\":{\"id\":\"b01281da-cbbd-488d-b160-1ff18b0bc92a\",\"type\":\"ColumnDataSource\"},\"glyph\":{\"id\":\"28b0f89a-8e19-407a-9986-a4fc47c8f8d4\",\"type\":\"Line\"},\"hover_glyph\":null,\"muted_glyph\":null,\"nonselection_glyph\":{\"id\":\"0d9570fd-328a-4a3c-b770-6c684ff83d14\",\"type\":\"Line\"},\"selection_glyph\":null,\"view\":{\"id\":\"65eded21-6dbd-4a5e-b730-9b6917fb6ee6\",\"type\":\"CDSView\"}},\"id\":\"960c8272-57c4-4027-94c0-5d052bff879c\",\"type\":\"GlyphRenderer\"},{\"attributes\":{\"callback\":null,\"data\":{\"x\":{\"__ndarray__\":\"R/KIaN7AVEClCeJMyPNGQOvRhpxr30JAptxzhxx4PkA7SssMElA4QK6Bp3CyUDNAsVXpjES9LkBFhUV0+5coQMHYwqbbySNA6f09nM3nH0CaSd/3eYoZQDmgiAOW8BNAPYqARh3eDEBkm4vCgvr+P9D+5tWhQfY/P8DwKRnSAkBq38kb17ILQDT7IWuSsxFAUr2Rjm0FFkAinq3s9XgbQGCHwtYcqSFAG64kT303J0C7dRDneyooQD9JYrbK8yRA9S3bneHhIUAIymSuUMMcQIkHLe6VEBdAAau3cITREkA6CiNvkQIPQJU39ki7IQlAaAvwok1UA0BXLQiS4+L7P0xzDpJ2hPI/NNuPGMbJ5z91mUVYxqfSPxqwUPSxZca/G11peifD3L8QzNj5t2jTvwzOozTL360/SPJ4VI1VzD9KJ0nXEIncP8yDdlvHt+4/Et49nYLW9z++2teD4Jn+P+568eH/bwFALf5D9lmAAkCiZAicVOkCQPPT4jNKxwJAOjp3wTzBAUBSQsKNGisBQG4OmjqJwQBAJ3sZoHFuAEA5Ar0Sdi0AQGy4rw5+9f8/7W4nSrC3/z8mPr8zj4T/P4UYRHCQS/8/embVKYcF/z+5YXG+LLP+P/qb8BVUgf4/KvafTtyO/j/avAK1Ppv+PwJV9VVm2P0/JFtYlU/n/D9sN+q2fiX6Pw44e41PNPc/Opt+Z/wN9T+x3vcSW1vzP9ofvWQJlvI/8sciQQBW8j80sfkQa17yPzg5qng2r/I/Oh14WJBh8z+VZjnpctj0P6CcrSuCqQBA\",\"dtype\":\"float64\",\"shape\":[75]},\"y\":{\"__ndarray__\":\"GhExyth1ND/Sv8nbtpRIP2vylNV0PVE/aTum7souWD/At0SJ8fVgPw3Iuahxymc/MSNhhJWvcD/bTfBN02d3P2zb5nxnaoA/CD5h5MAGhz8NmeH1TyaQP+zrCsc9p5Y/LbKd76fGnz/bLW5ISEmmPww9YvTcQq8/JV2OstnstT8Er5Y7M8G+P0c+r3jqkcU/5h99k6ZBzj88bCIzFzjVP4enV8oyxN0//yH99nXg5D8qOpLLf0jtP5kqGJXUifQ/c9cS8kHP/D+/DpwzojQEQIEmwoanVwxA4lgXt9HgE0BSSZ2AJuIbQAMJih9jjiNA5q4l5INuK0AwTKYKRj0zQNv5fmq8/DpAaCJseHrtQkB/+zpwzoxKQM3MzMzMeFJAZmZmZmZqWEAAAAAAAFxeQM3MzMzMJmJAmpmZmZkfZUBmZmZmZhhoQDMzMzMzEWtAAAAAAAAKbkBmZmZmZoFwQM3MzMzM/XFAMzMzMzN6c0CamZmZmfZ0QAAAAAAAc3ZAZmZmZmbvd0DNzMzMzGt5QDMzMzMz6HpAmpmZmZlkfEAAAAAAAOF9QGZmZmZmXX9AZmZmZuZsgECamZmZGSuBQM3MzMxM6YFAAAAAAICngkAzMzMzs2WDQGZmZmbmI4RAmpmZmRnihEDNzMzMTKCFQAAAAACAXoZAMzMzM7Mch0BmZmZm5tqHQJqZmZkZmYhAzczMzExXiUAAAAAAgBWKQDMzMzOz04pAZmZmZuaRi0CamZmZGVCMQM3MzMxMDo1AAAAAAIDMjUAzMzMzs4qOQGZmZmbmSI9A\",\"dtype\":\"float64\",\"shape\":[75]}},\"selected\":{\"id\":\"e00c3718-4dea-4a21-aea1-1399c41c454e\",\"type\":\"Selection\"},\"selection_policy\":{\"id\":\"451b5627-bac6-4e38-ba67-cd4654863a97\",\"type\":\"UnionRenderers\"}},\"id\":\"b01281da-cbbd-488d-b160-1ff18b0bc92a\",\"type\":\"ColumnDataSource\"},{\"attributes\":{},\"id\":\"f03bb637-7e01-4a78-9d2e-16d1bdef3abd\",\"type\":\"HelpTool\"},{\"attributes\":{},\"id\":\"f7baf94f-e537-47fa-8f06-05668bf6faa4\",\"type\":\"LinearScale\"},{\"attributes\":{\"line_color\":\"#4daf4a\",\"line_width\":1.5,\"x\":{\"field\":\"x\"},\"y\":{\"field\":\"y\"}},\"id\":\"28b0f89a-8e19-407a-9986-a4fc47c8f8d4\",\"type\":\"Line\"},{\"attributes\":{},\"id\":\"0dc662b7-0d80-4ea9-817e-11d2528b88be\",\"type\":\"ResetTool\"},{\"attributes\":{\"callback\":null,\"end\":0.01,\"start\":1020},\"id\":\"c065a0b3-dabe-4e9d-89b4-034158bef981\",\"type\":\"Range1d\"},{\"attributes\":{},\"id\":\"877652f8-a12d-441e-8555-02ab50ce9bc6\",\"type\":\"BasicTicker\"},{\"attributes\":{\"active_drag\":\"auto\",\"active_inspect\":\"auto\",\"active_scroll\":\"auto\",\"active_tap\":\"auto\",\"tools\":[{\"id\":\"2778bec4-39ed-4a29-b176-7c001d56c194\",\"type\":\"PanTool\"},{\"id\":\"204177b3-3342-499a-b3b9-15db2483ccbd\",\"type\":\"WheelZoomTool\"},{\"id\":\"ffd31b25-813b-4596-a743-cab34a9a6b9e\",\"type\":\"BoxZoomTool\"},{\"id\":\"e45c691c-1583-400e-9674-ac8780c2ec3c\",\"type\":\"SaveTool\"},{\"id\":\"3cd61de2-dff5-42ad-9b6e-457004f4089b\",\"type\":\"ResetTool\"},{\"id\":\"59ee0eb0-da18-43ca-89d6-58f91a58e425\",\"type\":\"HelpTool\"}]},\"id\":\"2b64b0c4-f800-4455-8c71-6f7abebc6a17\",\"type\":\"Toolbar\"},{\"attributes\":{},\"id\":\"0d9b982e-9d8f-4feb-9e4e-b9f2f6d670fa\",\"type\":\"Selection\"},{\"attributes\":{\"axis_label\":\"cooling rate [K/day]\",\"formatter\":{\"id\":\"19696e8c-c784-4156-9e97-46dd32edc156\",\"type\":\"BasicTickFormatter\"},\"plot\":{\"id\":\"2e49eba2-d18b-4f52-a7d8-da2803e79e95\",\"subtype\":\"Figure\",\"type\":\"Plot\"},\"ticker\":{\"id\":\"877652f8-a12d-441e-8555-02ab50ce9bc6\",\"type\":\"BasicTicker\"}},\"id\":\"333ef5ee-7a8c-4f61-8d79-571aa9561042\",\"type\":\"LinearAxis\"},{\"attributes\":{\"axis_label\":\"pressure [mb]\",\"formatter\":{\"id\":\"ee582b95-8acb-40ab-ae1e-657a2aad214d\",\"type\":\"BasicTickFormatter\"},\"plot\":{\"id\":\"2e49eba2-d18b-4f52-a7d8-da2803e79e95\",\"subtype\":\"Figure\",\"type\":\"Plot\"},\"ticker\":{\"id\":\"46eddb20-d250-4e47-b646-7363011c64d6\",\"type\":\"BasicTicker\"}},\"id\":\"339bd99f-f542-4db7-91e6-35472735dd3c\",\"type\":\"LinearAxis\"},{\"attributes\":{\"dimension\":1,\"plot\":{\"id\":\"75b599e6-2898-4439-a9ad-6a63ed4432cd\",\"subtype\":\"Figure\",\"type\":\"Plot\"},\"ticker\":{\"id\":\"e5b63d62-677a-4f0b-afb0-5909cba55cd5\",\"type\":\"LogTicker\"}},\"id\":\"95b5ef9d-4edf-4f43-96b4-286a9d180e2c\",\"type\":\"Grid\"},{\"attributes\":{\"callback\":null,\"end\":2.3923464390465905,\"start\":-0.50603741456559},\"id\":\"68f94610-73bd-411e-8a0f-590c1f5a7cab\",\"type\":\"Range1d\"},{\"attributes\":{\"label\":{\"value\":\"CLIRAD (single-run)\"},\"renderers\":[{\"id\":\"b39095b3-db3e-427f-9ac3-2aba81f907f7\",\"type\":\"GlyphRenderer\"}]},\"id\":\"d24fa9b2-d933-4b8e-9aad-af02501169bd\",\"type\":\"LegendItem\"},{\"attributes\":{\"plot\":{\"id\":\"75b599e6-2898-4439-a9ad-6a63ed4432cd\",\"subtype\":\"Figure\",\"type\":\"Plot\"},\"ticker\":{\"id\":\"8f0942c0-22c3-4eb9-971b-d88d17ada08a\",\"type\":\"BasicTicker\"}},\"id\":\"00eddd10-5def-4899-85a0-d97864f0d771\",\"type\":\"Grid\"},{\"attributes\":{\"num_minor_ticks\":10},\"id\":\"e5b63d62-677a-4f0b-afb0-5909cba55cd5\",\"type\":\"LogTicker\"},{\"attributes\":{\"items\":[{\"id\":\"d24fa9b2-d933-4b8e-9aad-af02501169bd\",\"type\":\"LegendItem\"},{\"id\":\"a9cd65fe-bb7d-4964-9cc5-828431bb506e\",\"type\":\"LegendItem\"}],\"label_text_font_size\":{\"value\":\"8pt\"},\"location\":\"top_center\",\"orientation\":\"horizontal\",\"plot\":{\"id\":\"2e49eba2-d18b-4f52-a7d8-da2803e79e95\",\"subtype\":\"Figure\",\"type\":\"Plot\"}},\"id\":\"64f933ad-8158-4e2f-b7ab-4af962a6e2c3\",\"type\":\"Legend\"},{\"attributes\":{\"bottom_units\":\"screen\",\"fill_alpha\":{\"value\":0.5},\"fill_color\":{\"value\":\"lightgrey\"},\"left_units\":\"screen\",\"level\":\"overlay\",\"line_alpha\":{\"value\":1.0},\"line_color\":{\"value\":\"black\"},\"line_dash\":[4,4],\"line_width\":{\"value\":2},\"plot\":null,\"render_mode\":\"css\",\"right_units\":\"screen\",\"top_units\":\"screen\"},\"id\":\"15378602-96b0-4e1c-845d-0c04a45994c9\",\"type\":\"BoxAnnotation\"},{\"attributes\":{\"ticker\":null},\"id\":\"fa1817ab-7c15-4d9d-b98b-39b70cf780cb\",\"type\":\"LogTickFormatter\"},{\"attributes\":{\"fill_alpha\":{\"value\":0.1},\"fill_color\":{\"value\":\"#1f77b4\"},\"line_alpha\":{\"value\":0.1},\"line_color\":{\"value\":\"#1f77b4\"},\"x\":{\"field\":\"x\"},\"y\":{\"field\":\"y\"}},\"id\":\"9cc515f0-ead5-4582-8baa-920d29efcefa\",\"type\":\"Circle\"},{\"attributes\":{\"active_drag\":\"auto\",\"active_inspect\":\"auto\",\"active_scroll\":\"auto\",\"active_tap\":\"auto\",\"tools\":[{\"id\":\"455fd9eb-b074-42e0-b6c1-4c907bc91e33\",\"type\":\"PanTool\"},{\"id\":\"83563521-88c7-4546-b8a8-11483a6d907d\",\"type\":\"WheelZoomTool\"},{\"id\":\"8c3b4a43-4141-4388-a813-0127cdbf1b85\",\"type\":\"BoxZoomTool\"},{\"id\":\"5cfe7761-ed6e-4a75-9b2d-bf8fc8f6b030\",\"type\":\"SaveTool\"},{\"id\":\"796930ce-f38f-4a2f-b695-155a8d99373d\",\"type\":\"ResetTool\"},{\"id\":\"e4f081cf-2a09-427d-9cb1-730823c778cd\",\"type\":\"HelpTool\"}]},\"id\":\"28e8fc5c-a25e-454e-ae7d-dbcc1e7bfcd0\",\"type\":\"Toolbar\"},{\"attributes\":{},\"id\":\"9afaf9f9-4323-4950-84a5-d4f41ccd89e9\",\"type\":\"LogScale\"},{\"attributes\":{},\"id\":\"edddb129-ab64-4949-a82f-7c9436346450\",\"type\":\"BasicTickFormatter\"},{\"attributes\":{},\"id\":\"1627f49b-d012-4344-865c-37c9b8708cbf\",\"type\":\"UnionRenderers\"},{\"attributes\":{\"source\":{\"id\":\"b01281da-cbbd-488d-b160-1ff18b0bc92a\",\"type\":\"ColumnDataSource\"}},\"id\":\"65eded21-6dbd-4a5e-b730-9b6917fb6ee6\",\"type\":\"CDSView\"},{\"attributes\":{\"fill_alpha\":{\"value\":0.7},\"fill_color\":{\"value\":\"#4daf4a\"},\"line_alpha\":{\"value\":0.7},\"line_color\":{\"value\":\"#4daf4a\"},\"x\":{\"field\":\"x\"},\"y\":{\"field\":\"y\"}},\"id\":\"09d6f79d-a4d3-48cd-bd34-c2085dac2750\",\"type\":\"Circle\"},{\"attributes\":{\"overlay\":{\"id\":\"15378602-96b0-4e1c-845d-0c04a45994c9\",\"type\":\"BoxAnnotation\"}},\"id\":\"3dea0f9f-170f-4cb1-a4ea-2b0303849684\",\"type\":\"BoxZoomTool\"},{\"attributes\":{\"callback\":null,\"end\":12.208582536163687,\"start\":-0.60322787097269},\"id\":\"f73dab53-151a-4db5-ba3d-545e2573d6c3\",\"type\":\"Range1d\"},{\"attributes\":{\"toolbar\":{\"id\":\"562a4683-6690-41bf-ba7b-1875c5c90481\",\"type\":\"ProxyToolbar\"},\"toolbar_location\":\"above\"},\"id\":\"a386cdae-47a0-481d-9137-060922093754\",\"type\":\"ToolbarBox\"},{\"attributes\":{\"tools\":[{\"id\":\"0a0336a2-b340-4ecd-a4d5-fa632387e0a9\",\"type\":\"PanTool\"},{\"id\":\"3e232fff-1a87-46e3-832b-c74a5342b1b2\",\"type\":\"WheelZoomTool\"},{\"id\":\"3dea0f9f-170f-4cb1-a4ea-2b0303849684\",\"type\":\"BoxZoomTool\"},{\"id\":\"dae7a5fb-a62d-4c65-af6d-4fec167e33cb\",\"type\":\"SaveTool\"},{\"id\":\"0dc662b7-0d80-4ea9-817e-11d2528b88be\",\"type\":\"ResetTool\"},{\"id\":\"f03bb637-7e01-4a78-9d2e-16d1bdef3abd\",\"type\":\"HelpTool\"},{\"id\":\"455fd9eb-b074-42e0-b6c1-4c907bc91e33\",\"type\":\"PanTool\"},{\"id\":\"83563521-88c7-4546-b8a8-11483a6d907d\",\"type\":\"WheelZoomTool\"},{\"id\":\"8c3b4a43-4141-4388-a813-0127cdbf1b85\",\"type\":\"BoxZoomTool\"},{\"id\":\"5cfe7761-ed6e-4a75-9b2d-bf8fc8f6b030\",\"type\":\"SaveTool\"},{\"id\":\"796930ce-f38f-4a2f-b695-155a8d99373d\",\"type\":\"ResetTool\"},{\"id\":\"e4f081cf-2a09-427d-9cb1-730823c778cd\",\"type\":\"HelpTool\"},{\"id\":\"2778bec4-39ed-4a29-b176-7c001d56c194\",\"type\":\"PanTool\"},{\"id\":\"204177b3-3342-499a-b3b9-15db2483ccbd\",\"type\":\"WheelZoomTool\"},{\"id\":\"ffd31b25-813b-4596-a743-cab34a9a6b9e\",\"type\":\"BoxZoomTool\"},{\"id\":\"e45c691c-1583-400e-9674-ac8780c2ec3c\",\"type\":\"SaveTool\"},{\"id\":\"3cd61de2-dff5-42ad-9b6e-457004f4089b\",\"type\":\"ResetTool\"},{\"id\":\"59ee0eb0-da18-43ca-89d6-58f91a58e425\",\"type\":\"HelpTool\"}]},\"id\":\"562a4683-6690-41bf-ba7b-1875c5c90481\",\"type\":\"ProxyToolbar\"},{\"attributes\":{\"data_source\":{\"id\":\"3acc8067-b947-4865-89ff-d7b7cc6f2e6b\",\"type\":\"ColumnDataSource\"},\"glyph\":{\"id\":\"3884145b-9ecd-4a92-898d-c6ab3de326a8\",\"type\":\"Line\"},\"hover_glyph\":null,\"muted_glyph\":null,\"nonselection_glyph\":{\"id\":\"1ebd2d29-a0cb-47c8-b6f6-98c69931cfdc\",\"type\":\"Line\"},\"selection_glyph\":null,\"view\":{\"id\":\"54d29bd1-bcfb-4276-a9b0-df7b8fe64dc3\",\"type\":\"CDSView\"}},\"id\":\"b39095b3-db3e-427f-9ac3-2aba81f907f7\",\"type\":\"GlyphRenderer\"},{\"attributes\":{},\"id\":\"afdca41c-c493-4bef-96ed-4d4949c6431d\",\"type\":\"UnionRenderers\"},{\"attributes\":{\"callback\":null,\"end\":0.559427922866886,\"start\":-1.3419310516822867},\"id\":\"24ef091f-02d6-4bda-b411-8794eafab0c9\",\"type\":\"Range1d\"},{\"attributes\":{\"above\":[{\"id\":\"6d99c38e-af1f-48ec-80e0-03bad2de5ca1\",\"type\":\"Legend\"}],\"below\":[{\"id\":\"09374827-ac85-4c80-b694-06f5838fd0cb\",\"type\":\"LinearAxis\"}],\"left\":[{\"id\":\"0eff7646-c38b-4780-9a26-f85d39c996d4\",\"type\":\"LogAxis\"}],\"plot_width\":300,\"renderers\":[{\"id\":\"09374827-ac85-4c80-b694-06f5838fd0cb\",\"type\":\"LinearAxis\"},{\"id\":\"00eddd10-5def-4899-85a0-d97864f0d771\",\"type\":\"Grid\"},{\"id\":\"0eff7646-c38b-4780-9a26-f85d39c996d4\",\"type\":\"LogAxis\"},{\"id\":\"95b5ef9d-4edf-4f43-96b4-286a9d180e2c\",\"type\":\"Grid\"},{\"id\":\"5fb410d8-a426-4fb5-aa11-55d15a6aaec3\",\"type\":\"BoxAnnotation\"},{\"id\":\"1d4e5f5b-3329-4d1e-b70f-aae522c4ba35\",\"type\":\"GlyphRenderer\"},{\"id\":\"cc9a8f9c-68d2-41a1-91a9-12f4c1f4d453\",\"type\":\"GlyphRenderer\"},{\"id\":\"0ffbf1e8-4dae-4a03-b0f8-6080ef2d18f1\",\"type\":\"GlyphRenderer\"},{\"id\":\"6d99c38e-af1f-48ec-80e0-03bad2de5ca1\",\"type\":\"Legend\"}],\"title\":{\"id\":\"0d24ba48-efa7-4217-9cb8-b3e4d3cc502c\",\"type\":\"Title\"},\"toolbar\":{\"id\":\"28e8fc5c-a25e-454e-ae7d-dbcc1e7bfcd0\",\"type\":\"Toolbar\"},\"toolbar_location\":null,\"x_range\":{\"id\":\"f73dab53-151a-4db5-ba3d-545e2573d6c3\",\"type\":\"Range1d\"},\"x_scale\":{\"id\":\"f7baf94f-e537-47fa-8f06-05668bf6faa4\",\"type\":\"LinearScale\"},\"y_range\":{\"id\":\"e28a4ce3-838d-4603-9c6b-4a6b8e2e058f\",\"type\":\"Range1d\"},\"y_scale\":{\"id\":\"9afaf9f9-4323-4950-84a5-d4f41ccd89e9\",\"type\":\"LogScale\"}},\"id\":\"75b599e6-2898-4439-a9ad-6a63ed4432cd\",\"subtype\":\"Figure\",\"type\":\"Plot\"},{\"attributes\":{\"line_color\":\"#4daf4a\",\"line_width\":1.5,\"x\":{\"field\":\"x\"},\"y\":{\"field\":\"y\"}},\"id\":\"6da0e9ad-fa4c-479d-b94d-df4ad8314b35\",\"type\":\"Line\"},{\"attributes\":{\"data_source\":{\"id\":\"cfe7978c-be5b-40bd-acd8-e2c5316246f6\",\"type\":\"ColumnDataSource\"},\"glyph\":{\"id\":\"6da0e9ad-fa4c-479d-b94d-df4ad8314b35\",\"type\":\"Line\"},\"hover_glyph\":null,\"muted_glyph\":null,\"nonselection_glyph\":{\"id\":\"80a47b0e-196b-4f0e-af73-145f5cc5655f\",\"type\":\"Line\"},\"selection_glyph\":null,\"view\":{\"id\":\"491b4844-9919-41bc-84d4-392d329db3f2\",\"type\":\"CDSView\"}},\"id\":\"0ffbf1e8-4dae-4a03-b0f8-6080ef2d18f1\",\"type\":\"GlyphRenderer\"},{\"attributes\":{\"above\":[{\"id\":\"57967e1e-28d4-4493-b7c3-a3c37d6c8a82\",\"type\":\"Legend\"}],\"below\":[{\"id\":\"7e955d38-f244-4178-ad62-fbd971fd66e6\",\"type\":\"LinearAxis\"}],\"left\":[{\"id\":\"ebd254eb-7dde-421f-a33d-a15b12a0cc45\",\"type\":\"LogAxis\"}],\"plot_width\":300,\"renderers\":[{\"id\":\"7e955d38-f244-4178-ad62-fbd971fd66e6\",\"type\":\"LinearAxis\"},{\"id\":\"832cf7c6-29a7-4a28-a14b-d4fa64893bb7\",\"type\":\"Grid\"},{\"id\":\"ebd254eb-7dde-421f-a33d-a15b12a0cc45\",\"type\":\"LogAxis\"},{\"id\":\"41a12cd5-ec6f-465a-93a8-cdf5cdc543f1\",\"type\":\"Grid\"},{\"id\":\"213b459b-5f25-4c0b-800e-1c835fd30a5d\",\"type\":\"BoxAnnotation\"},{\"id\":\"d819c200-0ec4-4be3-b237-89438ba8cb82\",\"type\":\"GlyphRenderer\"},{\"id\":\"9c58695f-eed8-4ae1-a1dd-95bd8cf54820\",\"type\":\"GlyphRenderer\"},{\"id\":\"57967e1e-28d4-4493-b7c3-a3c37d6c8a82\",\"type\":\"Legend\"}],\"title\":{\"id\":\"f6b1df3f-95f4-4150-b55b-c74e3da2a35e\",\"type\":\"Title\"},\"toolbar\":{\"id\":\"2b64b0c4-f800-4455-8c71-6f7abebc6a17\",\"type\":\"Toolbar\"},\"toolbar_location\":null,\"x_range\":{\"id\":\"24ef091f-02d6-4bda-b411-8794eafab0c9\",\"type\":\"Range1d\"},\"x_scale\":{\"id\":\"525d128f-6678-41ce-8a0e-58a0a45960bf\",\"type\":\"LinearScale\"},\"y_range\":{\"id\":\"3c7b3481-bbb1-4fdc-a7a5-a405bc84e4eb\",\"type\":\"Range1d\"},\"y_scale\":{\"id\":\"b39d761a-f546-4798-8515-cc2cd1cc0a72\",\"type\":\"LogScale\"}},\"id\":\"8150ccf2-addb-4051-84e6-29d600bdabf3\",\"subtype\":\"Figure\",\"type\":\"Plot\"},{\"attributes\":{},\"id\":\"ee582b95-8acb-40ab-ae1e-657a2aad214d\",\"type\":\"BasicTickFormatter\"},{\"attributes\":{\"fill_alpha\":{\"value\":0.7},\"fill_color\":{\"value\":\"#4daf4a\"},\"line_alpha\":{\"value\":0.7},\"line_color\":{\"value\":\"#4daf4a\"},\"x\":{\"field\":\"x\"},\"y\":{\"field\":\"y\"}},\"id\":\"6f1020eb-03c4-44b4-87c0-b85e8480f469\",\"type\":\"Circle\"},{\"attributes\":{\"callback\":null,\"data\":{\"x\":{\"__ndarray__\":\"R/KIaN7AVEClCeJMyPNGQOvRhpxr30JAptxzhxx4PkA7SssMElA4QK6Bp3CyUDNAsVXpjES9LkBFhUV0+5coQMHYwqbbySNA6f09nM3nH0CaSd/3eYoZQDmgiAOW8BNAPYqARh3eDEBkm4vCgvr+P9D+5tWhQfY/P8DwKRnSAkBq38kb17ILQDT7IWuSsxFAUr2Rjm0FFkAinq3s9XgbQGCHwtYcqSFAG64kT303J0C7dRDneyooQD9JYrbK8yRA9S3bneHhIUAIymSuUMMcQIkHLe6VEBdAAau3cITREkA6CiNvkQIPQJU39ki7IQlAaAvwok1UA0BXLQiS4+L7P0xzDpJ2hPI/NNuPGMbJ5z91mUVYxqfSPxqwUPSxZca/G11peifD3L8QzNj5t2jTvwzOozTL360/SPJ4VI1VzD9KJ0nXEIncP8yDdlvHt+4/Et49nYLW9z++2teD4Jn+P+568eH/bwFALf5D9lmAAkCiZAicVOkCQPPT4jNKxwJAOjp3wTzBAUBSQsKNGisBQG4OmjqJwQBAJ3sZoHFuAEA5Ar0Sdi0AQGy4rw5+9f8/7W4nSrC3/z8mPr8zj4T/P4UYRHCQS/8/embVKYcF/z+5YXG+LLP+P/qb8BVUgf4/KvafTtyO/j/avAK1Ppv+PwJV9VVm2P0/JFtYlU/n/D9sN+q2fiX6Pw44e41PNPc/Opt+Z/wN9T+x3vcSW1vzP9ofvWQJlvI/8sciQQBW8j80sfkQa17yPzg5qng2r/I/Oh14WJBh8z+VZjnpctj0P6CcrSuCqQBA\",\"dtype\":\"float64\",\"shape\":[75]},\"y\":{\"__ndarray__\":\"GhExyth1ND/Sv8nbtpRIP2vylNV0PVE/aTum7souWD/At0SJ8fVgPw3Iuahxymc/MSNhhJWvcD/bTfBN02d3P2zb5nxnaoA/CD5h5MAGhz8NmeH1TyaQP+zrCsc9p5Y/LbKd76fGnz/bLW5ISEmmPww9YvTcQq8/JV2OstnstT8Er5Y7M8G+P0c+r3jqkcU/5h99k6ZBzj88bCIzFzjVP4enV8oyxN0//yH99nXg5D8qOpLLf0jtP5kqGJXUifQ/c9cS8kHP/D+/DpwzojQEQIEmwoanVwxA4lgXt9HgE0BSSZ2AJuIbQAMJih9jjiNA5q4l5INuK0AwTKYKRj0zQNv5fmq8/DpAaCJseHrtQkB/+zpwzoxKQM3MzMzMeFJAZmZmZmZqWEAAAAAAAFxeQM3MzMzMJmJAmpmZmZkfZUBmZmZmZhhoQDMzMzMzEWtAAAAAAAAKbkBmZmZmZoFwQM3MzMzM/XFAMzMzMzN6c0CamZmZmfZ0QAAAAAAAc3ZAZmZmZmbvd0DNzMzMzGt5QDMzMzMz6HpAmpmZmZlkfEAAAAAAAOF9QGZmZmZmXX9AZmZmZuZsgECamZmZGSuBQM3MzMxM6YFAAAAAAICngkAzMzMzs2WDQGZmZmbmI4RAmpmZmRnihEDNzMzMTKCFQAAAAACAXoZAMzMzM7Mch0BmZmZm5tqHQJqZmZkZmYhAzczMzExXiUAAAAAAgBWKQDMzMzOz04pAZmZmZuaRi0CamZmZGVCMQM3MzMxMDo1AAAAAAIDMjUAzMzMzs4qOQGZmZmbmSI9A\",\"dtype\":\"float64\",\"shape\":[75]}},\"selected\":{\"id\":\"ab7aa42a-bedf-4f5a-bec9-c115ddea42fb\",\"type\":\"Selection\"},\"selection_policy\":{\"id\":\"afdca41c-c493-4bef-96ed-4d4949c6431d\",\"type\":\"UnionRenderers\"}},\"id\":\"e3435004-c545-4a3b-aefd-8ef6adab4866\",\"type\":\"ColumnDataSource\"},{\"attributes\":{},\"id\":\"14dff171-4b8c-407f-9a06-56a91bd52134\",\"type\":\"UnionRenderers\"},{\"attributes\":{},\"id\":\"525d128f-6678-41ce-8a0e-58a0a45960bf\",\"type\":\"LinearScale\"},{\"attributes\":{},\"id\":\"451b5627-bac6-4e38-ba67-cd4654863a97\",\"type\":\"UnionRenderers\"},{\"attributes\":{\"children\":[{\"id\":\"a386cdae-47a0-481d-9137-060922093754\",\"type\":\"ToolbarBox\"},{\"id\":\"80aca80f-819e-4501-aee6-2106bfd09db8\",\"type\":\"Column\"}]},\"id\":\"7b0f10a6-41a9-499e-b85d-700429bcf1e5\",\"type\":\"Column\"},{\"attributes\":{},\"id\":\"e00c3718-4dea-4a21-aea1-1399c41c454e\",\"type\":\"Selection\"},{\"attributes\":{\"source\":{\"id\":\"d4ad91f4-38f0-45fc-a4c0-2dfd845d2d38\",\"type\":\"ColumnDataSource\"}},\"id\":\"d27a7ee4-19da-4851-9527-7f8577db58fc\",\"type\":\"CDSView\"},{\"attributes\":{},\"id\":\"fe35ce55-eb8d-4c16-89a7-38b40f1ecdb3\",\"type\":\"Selection\"},{\"attributes\":{},\"id\":\"b6848f76-fc19-4767-812a-89dc640fb8ce\",\"type\":\"Selection\"},{\"attributes\":{\"line_alpha\":0.1,\"line_color\":\"#1f77b4\",\"line_dash\":[6],\"line_width\":5,\"x\":{\"field\":\"x\"},\"y\":{\"field\":\"y\"}},\"id\":\"1ebd2d29-a0cb-47c8-b6f6-98c69931cfdc\",\"type\":\"Line\"},{\"attributes\":{\"line_alpha\":0.6,\"line_color\":\"#377eb8\",\"line_dash\":[6],\"line_width\":5,\"x\":{\"field\":\"x\"},\"y\":{\"field\":\"y\"}},\"id\":\"3884145b-9ecd-4a92-898d-c6ab3de326a8\",\"type\":\"Line\"},{\"attributes\":{\"callback\":null,\"data\":{\"x\":{\"__ndarray__\":\"R/KIaN7AVEClCeJMyPNGQOvRhpxr30JAptxzhxx4PkA7SssMElA4QK6Bp3CyUDNAsVXpjES9LkBFhUV0+5coQMHYwqbbySNA6f09nM3nH0CaSd/3eYoZQDmgiAOW8BNAPYqARh3eDEBkm4vCgvr+P9D+5tWhQfY/P8DwKRnSAkBq38kb17ILQDT7IWuSsxFAUr2Rjm0FFkAinq3s9XgbQGCHwtYcqSFAG64kT303J0C7dRDneyooQD9JYrbK8yRA9S3bneHhIUAIymSuUMMcQIkHLe6VEBdAAau3cITREkA6CiNvkQIPQJU39ki7IQlAaAvwok1UA0BXLQiS4+L7P0xzDpJ2hPI/NNuPGMbJ5z91mUVYxqfSPxqwUPSxZca/G11peifD3L8QzNj5t2jTvwzOozTL360/SPJ4VI1VzD9KJ0nXEIncP8yDdlvHt+4/Et49nYLW9z++2teD4Jn+P+568eH/bwFALf5D9lmAAkCiZAicVOkCQPPT4jNKxwJAOjp3wTzBAUBSQsKNGisBQG4OmjqJwQBAJ3sZoHFuAEA5Ar0Sdi0AQGy4rw5+9f8/7W4nSrC3/z8mPr8zj4T/P4UYRHCQS/8/embVKYcF/z+5YXG+LLP+P/qb8BVUgf4/KvafTtyO/j/avAK1Ppv+PwJV9VVm2P0/JFtYlU/n/D9sN+q2fiX6Pw44e41PNPc/Opt+Z/wN9T+x3vcSW1vzP9ofvWQJlvI/8sciQQBW8j80sfkQa17yPzg5qng2r/I/Oh14WJBh8z+VZjnpctj0P6CcrSuCqQBA\",\"dtype\":\"float64\",\"shape\":[75]},\"y\":{\"__ndarray__\":\"GhExyth1ND/Sv8nbtpRIP2vylNV0PVE/aTum7souWD/At0SJ8fVgPw3Iuahxymc/MSNhhJWvcD/bTfBN02d3P2zb5nxnaoA/CD5h5MAGhz8NmeH1TyaQP+zrCsc9p5Y/LbKd76fGnz/bLW5ISEmmPww9YvTcQq8/JV2OstnstT8Er5Y7M8G+P0c+r3jqkcU/5h99k6ZBzj88bCIzFzjVP4enV8oyxN0//yH99nXg5D8qOpLLf0jtP5kqGJXUifQ/c9cS8kHP/D+/DpwzojQEQIEmwoanVwxA4lgXt9HgE0BSSZ2AJuIbQAMJih9jjiNA5q4l5INuK0AwTKYKRj0zQNv5fmq8/DpAaCJseHrtQkB/+zpwzoxKQM3MzMzMeFJAZmZmZmZqWEAAAAAAAFxeQM3MzMzMJmJAmpmZmZkfZUBmZmZmZhhoQDMzMzMzEWtAAAAAAAAKbkBmZmZmZoFwQM3MzMzM/XFAMzMzMzN6c0CamZmZmfZ0QAAAAAAAc3ZAZmZmZmbvd0DNzMzMzGt5QDMzMzMz6HpAmpmZmZlkfEAAAAAAAOF9QGZmZmZmXX9AZmZmZuZsgECamZmZGSuBQM3MzMxM6YFAAAAAAICngkAzMzMzs2WDQGZmZmbmI4RAmpmZmRnihEDNzMzMTKCFQAAAAACAXoZAMzMzM7Mch0BmZmZm5tqHQJqZmZkZmYhAzczMzExXiUAAAAAAgBWKQDMzMzOz04pAZmZmZuaRi0CamZmZGVCMQM3MzMxMDo1AAAAAAIDMjUAzMzMzs4qOQGZmZmbmSI9A\",\"dtype\":\"float64\",\"shape\":[75]}},\"selected\":{\"id\":\"46aa934e-311c-4145-ba59-482cf29d9540\",\"type\":\"Selection\"},\"selection_policy\":{\"id\":\"1627f49b-d012-4344-865c-37c9b8708cbf\",\"type\":\"UnionRenderers\"}},\"id\":\"cfe7978c-be5b-40bd-acd8-e2c5316246f6\",\"type\":\"ColumnDataSource\"},{\"attributes\":{\"data_source\":{\"id\":\"d4ad91f4-38f0-45fc-a4c0-2dfd845d2d38\",\"type\":\"ColumnDataSource\"},\"glyph\":{\"id\":\"09d6f79d-a4d3-48cd-bd34-c2085dac2750\",\"type\":\"Circle\"},\"hover_glyph\":null,\"muted_glyph\":null,\"nonselection_glyph\":{\"id\":\"9cc515f0-ead5-4582-8baa-920d29efcefa\",\"type\":\"Circle\"},\"selection_glyph\":null,\"view\":{\"id\":\"d27a7ee4-19da-4851-9527-7f8577db58fc\",\"type\":\"CDSView\"}},\"id\":\"cc9a8f9c-68d2-41a1-91a9-12f4c1f4d453\",\"type\":\"GlyphRenderer\"},{\"attributes\":{},\"id\":\"ab7aa42a-bedf-4f5a-bec9-c115ddea42fb\",\"type\":\"Selection\"},{\"attributes\":{\"label\":{\"value\":\"CRD\"},\"renderers\":[{\"id\":\"cc9a8f9c-68d2-41a1-91a9-12f4c1f4d453\",\"type\":\"GlyphRenderer\"},{\"id\":\"0ffbf1e8-4dae-4a03-b0f8-6080ef2d18f1\",\"type\":\"GlyphRenderer\"}]},\"id\":\"70142454-02d2-4f2f-9c4b-a582e16aa22e\",\"type\":\"LegendItem\"},{\"attributes\":{\"callback\":null,\"data\":{\"x\":{\"__ndarray__\":\"DeQvAqWDRUC2vvR4+NFCQFEufk1xs0FAFdxaonocQECUvvYnIxU8QEd87GIcKjdAcZtOv/voMUBSEHYa5gQqQF49jHZtSCJAPWz7AMGcGkAR4zeBKjoVQLhPyLcWBRJAGlKKyy2TDUBDCBYMLjADQFzLvEKy6P4/UqnR7eOrBUBZFzyuj0MMQI1XQNeznBBAs5t/wu3dE0CsKkuyIk4ZQOVhwU2QCyFAmOAeE7kBJ0CaOvPD0hgoQHghtjM4hCRAgTBntRonIUDfVB61o1UcQB5YXyB1WBhA2zqpMegrFEB+eJU1zsYPQIgDNAMfOwlATI17UtQ6BUCCTjVUPXkAQHRoE7wAsfQ/wUS1t3IK5j/gsxiK+PzQPzJtr288icG/lzqwY1uR3r+X1ohF1iDYvwRse39G8l6/bUIKpkRXxT+BzSruTK7YP/zSiWUju+w/6UZL/qe69j/qaWbOQtf9PxII4j/16wBAhF3YpsiEAUAeij5caUcCQPlB5bmoTAJAAM6oRJQWAUBMT+2PHYEAQM6LWOouTwBA+t0JMAsvAECkjmHkOwQAQOTl31ifnP8/O0gtp1Q//z+tgEc/Vgf/PzHLyvLWDf8/4JULMlVC/z9tJ6JDBmT/P2IT5UcGZf8/gcfTzDxM/z9a0afUc/r+P2ddXBC12P0/FjyHXdTJ/D8jxx3A8C/6P7BaYXIHnPc/GeQYlOPt9T9oetU/kn70P1sjhyoqxPM/T9sGPz+V8z+4Vmyt3q7zP4OB5G9UEfQ/56QuE+kD9T9sRTO3SLv2P4Ht+ODJpwFA\",\"dtype\":\"float64\",\"shape\":[75]},\"y\":{\"__ndarray__\":\"GhExyth1ND/Sv8nbtpRIP2vylNV0PVE/aTum7souWD/At0SJ8fVgPw3Iuahxymc/MSNhhJWvcD/bTfBN02d3P2zb5nxnaoA/CD5h5MAGhz8NmeH1TyaQP+zrCsc9p5Y/LbKd76fGnz/bLW5ISEmmPww9YvTcQq8/JV2OstnstT8Er5Y7M8G+P0c+r3jqkcU/5h99k6ZBzj88bCIzFzjVP4enV8oyxN0//yH99nXg5D8qOpLLf0jtP5kqGJXUifQ/c9cS8kHP/D+/DpwzojQEQIEmwoanVwxA4lgXt9HgE0BSSZ2AJuIbQAMJih9jjiNA5q4l5INuK0AwTKYKRj0zQNv5fmq8/DpAaCJseHrtQkB/+zpwzoxKQM3MzMzMeFJAZmZmZmZqWEAAAAAAAFxeQM3MzMzMJmJAmpmZmZkfZUBmZmZmZhhoQDMzMzMzEWtAAAAAAAAKbkBmZmZmZoFwQM3MzMzM/XFAMzMzMzN6c0CamZmZmfZ0QAAAAAAAc3ZAZmZmZmbvd0DNzMzMzGt5QDMzMzMz6HpAmpmZmZlkfEAAAAAAAOF9QGZmZmZmXX9AZmZmZuZsgECamZmZGSuBQM3MzMxM6YFAAAAAAICngkAzMzMzs2WDQGZmZmbmI4RAmpmZmRnihEDNzMzMTKCFQAAAAACAXoZAMzMzM7Mch0BmZmZm5tqHQJqZmZkZmYhAzczMzExXiUAAAAAAgBWKQDMzMzOz04pAZmZmZuaRi0CamZmZGVCMQM3MzMxMDo1AAAAAAIDMjUAzMzMzs4qOQGZmZmbmSI9A\",\"dtype\":\"float64\",\"shape\":[75]}},\"selected\":{\"id\":\"b6848f76-fc19-4767-812a-89dc640fb8ce\",\"type\":\"Selection\"},\"selection_policy\":{\"id\":\"14dff171-4b8c-407f-9a06-56a91bd52134\",\"type\":\"UnionRenderers\"}},\"id\":\"3acc8067-b947-4865-89ff-d7b7cc6f2e6b\",\"type\":\"ColumnDataSource\"},{\"attributes\":{\"line_alpha\":0.1,\"line_color\":\"#1f77b4\",\"line_width\":1.5,\"x\":{\"field\":\"x\"},\"y\":{\"field\":\"y\"}},\"id\":\"80a47b0e-196b-4f0e-af73-145f5cc5655f\",\"type\":\"Line\"},{\"attributes\":{\"fill_alpha\":{\"value\":0.1},\"fill_color\":{\"value\":\"#1f77b4\"},\"line_alpha\":{\"value\":0.1},\"line_color\":{\"value\":\"#1f77b4\"},\"x\":{\"field\":\"x\"},\"y\":{\"field\":\"y\"}},\"id\":\"52db28ce-d1a9-4ed0-9518-430f1c91094a\",\"type\":\"Circle\"},{\"attributes\":{\"plot\":{\"id\":\"2e49eba2-d18b-4f52-a7d8-da2803e79e95\",\"subtype\":\"Figure\",\"type\":\"Plot\"},\"ticker\":{\"id\":\"877652f8-a12d-441e-8555-02ab50ce9bc6\",\"type\":\"BasicTicker\"}},\"id\":\"79a07f67-df19-4f61-8f60-33915bb1c81b\",\"type\":\"Grid\"}],\"root_ids\":[\"7b0f10a6-41a9-499e-b85d-700429bcf1e5\"]},\"title\":\"Bokeh Application\",\"version\":\"0.12.16\"}};\n",
       "  var render_items = [{\"docid\":\"cd422190-e8cb-49a2-89dd-f440775c534e\",\"elementid\":\"6ef69a70-1e76-4ceb-be5d-4002a83d463e\",\"modelid\":\"7b0f10a6-41a9-499e-b85d-700429bcf1e5\"}];\n",
       "  root.Bokeh.embed.embed_items_notebook(docs_json, render_items);\n",
       "\n",
       "  }\n",
       "  if (root.Bokeh !== undefined) {\n",
       "    embed_document(root);\n",
       "  } else {\n",
       "    var attempts = 0;\n",
       "    var timer = setInterval(function(root) {\n",
       "      if (root.Bokeh !== undefined) {\n",
       "        embed_document(root);\n",
       "        clearInterval(timer);\n",
       "      }\n",
       "      attempts++;\n",
       "      if (attempts > 100) {\n",
       "        console.log(\"Bokeh: ERROR: Unable to run BokehJS code because BokehJS library is missing\")\n",
       "        clearInterval(timer);\n",
       "      }\n",
       "    }, 10, root)\n",
       "  }\n",
       "})(window);"
      ],
      "application/vnd.bokehjs_exec.v0+json": ""
     },
     "metadata": {
      "application/vnd.bokehjs_exec.v0+json": {
       "id": "7b0f10a6-41a9-499e-b85d-700429bcf1e5"
      }
     },
     "output_type": "display_data"
    },
    {
     "data": {
      "text/markdown": [
       "*FIGURE.* Cooling rates & difference."
      ],
      "text/plain": [
       "<IPython.core.display.Markdown object>"
      ]
     },
     "metadata": {},
     "output_type": "display_data"
    },
    {
     "data": {
      "text/html": [
       "<a id=\"Fluxes._trp.\"></a>"
      ],
      "text/plain": [
       "<IPython.core.display.HTML object>"
      ]
     },
     "metadata": {},
     "output_type": "display_data"
    },
    {
     "data": {
      "text/markdown": [
       "# Fluxes. trp."
      ],
      "text/plain": [
       "<IPython.core.display.Markdown object>"
      ]
     },
     "metadata": {},
     "output_type": "display_data"
    },
    {
     "data": {
      "text/html": [
       "\n",
       "<div class=\"bk-root\">\n",
       "    <div class=\"bk-plotdiv\" id=\"c7010266-69bd-4ddf-aaf8-cbed62e397c8\"></div>\n",
       "</div>"
      ]
     },
     "metadata": {},
     "output_type": "display_data"
    },
    {
     "data": {
      "application/javascript": [
       "(function(root) {\n",
       "  function embed_document(root) {\n",
       "    \n",
       "  var docs_json = {\"4f54acc9-a6c2-4bcf-b6f9-c6877129a09a\":{\"roots\":{\"references\":[{\"attributes\":{},\"id\":\"8c922d8c-5af1-49ab-8f30-2b379ce56084\",\"type\":\"WheelZoomTool\"},{\"attributes\":{},\"id\":\"d9bdb7ca-5689-4fdc-afd5-27752ad44c24\",\"type\":\"BasicTickFormatter\"},{\"attributes\":{},\"id\":\"554e2bc6-6a62-4f9d-8383-055c90a827e3\",\"type\":\"UnionRenderers\"},{\"attributes\":{},\"id\":\"2a6aaa52-318b-48d5-b6c9-6e7070a83564\",\"type\":\"ResetTool\"},{\"attributes\":{},\"id\":\"c4f55b74-3e94-4446-bae0-8fafb39c9763\",\"type\":\"WheelZoomTool\"},{\"attributes\":{},\"id\":\"b27a16d7-1850-4201-99f2-25914c652eee\",\"type\":\"PanTool\"},{\"attributes\":{\"source\":{\"id\":\"c3a5b753-24a6-4d48-a1d3-f5ecc740725b\",\"type\":\"ColumnDataSource\"}},\"id\":\"3aecdbb4-8ef9-45a8-a912-0d503a64b3aa\",\"type\":\"CDSView\"},{\"attributes\":{\"bottom_units\":\"screen\",\"fill_alpha\":{\"value\":0.5},\"fill_color\":{\"value\":\"lightgrey\"},\"left_units\":\"screen\",\"level\":\"overlay\",\"line_alpha\":{\"value\":1.0},\"line_color\":{\"value\":\"black\"},\"line_dash\":[4,4],\"line_width\":{\"value\":2},\"plot\":null,\"render_mode\":\"css\",\"right_units\":\"screen\",\"top_units\":\"screen\"},\"id\":\"e7777c74-3bcc-441b-9aac-ee0a430e5eed\",\"type\":\"BoxAnnotation\"},{\"attributes\":{\"overlay\":{\"id\":\"e7777c74-3bcc-441b-9aac-ee0a430e5eed\",\"type\":\"BoxAnnotation\"}},\"id\":\"0870089b-8c04-4abd-8c1c-e2b747467be0\",\"type\":\"BoxZoomTool\"},{\"attributes\":{},\"id\":\"6e9fe79e-8933-4759-ae4b-c9ae91134b43\",\"type\":\"SaveTool\"},{\"attributes\":{\"bottom_units\":\"screen\",\"fill_alpha\":{\"value\":0.5},\"fill_color\":{\"value\":\"lightgrey\"},\"left_units\":\"screen\",\"level\":\"overlay\",\"line_alpha\":{\"value\":1.0},\"line_color\":{\"value\":\"black\"},\"line_dash\":[4,4],\"line_width\":{\"value\":2},\"plot\":null,\"render_mode\":\"css\",\"right_units\":\"screen\",\"top_units\":\"screen\"},\"id\":\"3bbeabc3-6398-40f4-bc82-563fee59e4ad\",\"type\":\"BoxAnnotation\"},{\"attributes\":{\"active_drag\":\"auto\",\"active_inspect\":\"auto\",\"active_scroll\":\"auto\",\"active_tap\":\"auto\",\"tools\":[{\"id\":\"b27a16d7-1850-4201-99f2-25914c652eee\",\"type\":\"PanTool\"},{\"id\":\"8c922d8c-5af1-49ab-8f30-2b379ce56084\",\"type\":\"WheelZoomTool\"},{\"id\":\"402086f7-cea7-44b6-9d6e-acf9f3195dd4\",\"type\":\"BoxZoomTool\"},{\"id\":\"40341765-da3c-4529-b342-ba1e85ddaf5a\",\"type\":\"SaveTool\"},{\"id\":\"d2246b3e-ffc4-4696-a6a2-b715f79c6bd6\",\"type\":\"ResetTool\"},{\"id\":\"d4dbc6ba-386a-4283-b614-d0ac64b1d4e6\",\"type\":\"HelpTool\"}]},\"id\":\"6c01ae89-b0ad-4bfd-9641-37144de8c06f\",\"type\":\"Toolbar\"},{\"attributes\":{},\"id\":\"2ef3e081-8b80-4922-bbf2-9b6a92c34b0a\",\"type\":\"HelpTool\"},{\"attributes\":{},\"id\":\"40341765-da3c-4529-b342-ba1e85ddaf5a\",\"type\":\"SaveTool\"},{\"attributes\":{\"fill_color\":{\"value\":\"#1f77b4\"},\"line_color\":{\"value\":\"#1f77b4\"},\"top\":{\"field\":\"flux\"},\"width\":{\"value\":0.9},\"x\":{\"field\":\"band\"}},\"id\":\"1a002050-11b9-44c2-8f8c-6b3e924bf8c7\",\"type\":\"VBar\"},{\"attributes\":{},\"id\":\"d2246b3e-ffc4-4696-a6a2-b715f79c6bd6\",\"type\":\"ResetTool\"},{\"attributes\":{},\"id\":\"0571b3cb-500c-4f01-b3ba-11faa8936f3c\",\"type\":\"CategoricalTickFormatter\"},{\"attributes\":{\"data_source\":{\"id\":\"c3a5b753-24a6-4d48-a1d3-f5ecc740725b\",\"type\":\"ColumnDataSource\"},\"glyph\":{\"id\":\"1a002050-11b9-44c2-8f8c-6b3e924bf8c7\",\"type\":\"VBar\"},\"hover_glyph\":null,\"muted_glyph\":null,\"nonselection_glyph\":{\"id\":\"f0a3debc-ef8e-4c64-a23d-cc6a2f763280\",\"type\":\"VBar\"},\"selection_glyph\":null,\"view\":{\"id\":\"3aecdbb4-8ef9-45a8-a912-0d503a64b3aa\",\"type\":\"CDSView\"}},\"id\":\"53fca452-588f-4053-9b9c-91f653263e68\",\"type\":\"GlyphRenderer\"},{\"attributes\":{},\"id\":\"ad60f6c2-aa16-4ae3-ba1b-c0292286321a\",\"type\":\"CategoricalScale\"},{\"attributes\":{\"callback\":null,\"data\":{\"band\":[\"1\",\"2\",\"3\",\"4\",\"5\",\"6\",\"7\",\"8\",\"9\",\"10\",\"11\"],\"flux\":{\"__ndarray__\":\"AMHG9e/6yj8ARFVMpZ/UP4B4l4v4TtO/8GLvxRft4T/AUBVT6SfUPwBIcOoDyaO/gHhF8L+Vzj8AbToCuFm8vwDADTFe85o/4PGprSLtwT+A2YcGcwW9Pw==\",\"dtype\":\"float64\",\"shape\":[11]}},\"selected\":{\"id\":\"7f5864d9-521e-467b-9a65-25998d2e8138\",\"type\":\"Selection\"},\"selection_policy\":{\"id\":\"cf7b983e-e26d-4f15-8220-bb8f5bc50d8b\",\"type\":\"UnionRenderers\"}},\"id\":\"127f381b-ce9e-4cf1-bac6-cdda26ca3d6d\",\"type\":\"ColumnDataSource\"},{\"attributes\":{},\"id\":\"7f5864d9-521e-467b-9a65-25998d2e8138\",\"type\":\"Selection\"},{\"attributes\":{\"data_source\":{\"id\":\"e6067807-bf67-4626-9d9d-79f2696365c1\",\"type\":\"ColumnDataSource\"},\"glyph\":{\"id\":\"545e0625-dc91-4ae8-a3a0-75f7a35c98c5\",\"type\":\"VBar\"},\"hover_glyph\":null,\"muted_glyph\":null,\"nonselection_glyph\":{\"id\":\"b354a35c-abaa-4652-9639-266def9d9eef\",\"type\":\"VBar\"},\"selection_glyph\":null,\"view\":{\"id\":\"fcc644e1-5c2c-4c98-805d-91a988205096\",\"type\":\"CDSView\"}},\"id\":\"b44a585d-434d-463f-aeac-59f375f79942\",\"type\":\"GlyphRenderer\"},{\"attributes\":{\"children\":[{\"id\":\"99c558db-3574-4d57-a117-8327f780c167\",\"subtype\":\"Figure\",\"type\":\"Plot\"},{\"id\":\"ea938c89-5e94-44bf-8ee9-ba0b3445d3ee\",\"subtype\":\"Figure\",\"type\":\"Plot\"},{\"id\":\"a9514564-1083-4472-8706-30e2376b6fda\",\"subtype\":\"Figure\",\"type\":\"Plot\"}]},\"id\":\"3bad493a-5baa-4052-91cc-f1a31ec2b56f\",\"type\":\"Row\"},{\"attributes\":{},\"id\":\"43fc66d8-6b04-4a1a-b36f-5cde95bf146e\",\"type\":\"PanTool\"},{\"attributes\":{\"callback\":null,\"factors\":[\"1\",\"2\",\"3\",\"4\",\"5\",\"6\",\"7\",\"8\",\"9\",\"10\",\"11\"]},\"id\":\"882fead8-761c-4272-bb2c-3bc694425481\",\"type\":\"FactorRange\"},{\"attributes\":{\"callback\":null},\"id\":\"bee11c7e-03b3-4711-8535-fc7ec34a4d13\",\"type\":\"DataRange1d\"},{\"attributes\":{\"overlay\":{\"id\":\"3bbeabc3-6398-40f4-bc82-563fee59e4ad\",\"type\":\"BoxAnnotation\"}},\"id\":\"402086f7-cea7-44b6-9d6e-acf9f3195dd4\",\"type\":\"BoxZoomTool\"},{\"attributes\":{\"fill_alpha\":{\"value\":0.1},\"fill_color\":{\"value\":\"#1f77b4\"},\"line_alpha\":{\"value\":0.1},\"line_color\":{\"value\":\"#1f77b4\"},\"top\":{\"field\":\"flux\"},\"width\":{\"value\":0.9},\"x\":{\"field\":\"band\"}},\"id\":\"f0a3debc-ef8e-4c64-a23d-cc6a2f763280\",\"type\":\"VBar\"},{\"attributes\":{},\"id\":\"d4dbc6ba-386a-4283-b614-d0ac64b1d4e6\",\"type\":\"HelpTool\"},{\"attributes\":{},\"id\":\"33263b12-9e18-483c-ae97-d3a91280ed7b\",\"type\":\"CategoricalScale\"},{\"attributes\":{},\"id\":\"1c3d489a-f9e3-4b73-abfa-763e6a47e991\",\"type\":\"LinearScale\"},{\"attributes\":{\"plot\":null,\"text\":\"SFC flux. CLIRAD (single-run) - CRD.\"},\"id\":\"55dabac8-c367-420b-8f0a-90af6902943c\",\"type\":\"Title\"},{\"attributes\":{},\"id\":\"23c1b659-3553-41dc-bbb2-a9ff003ca863\",\"type\":\"Selection\"},{\"attributes\":{},\"id\":\"a6ba6f40-0d4c-42aa-b3d5-69163db1dca0\",\"type\":\"CategoricalScale\"},{\"attributes\":{\"callback\":null,\"data\":{\"band\":[\"1\",\"2\",\"3\",\"4\",\"5\",\"6\",\"7\",\"8\",\"9\",\"10\",\"11\"],\"flux\":{\"__ndarray__\":\"AID6S2L7yj8AhLZzzD+yPwDn9AapJbm/oFGioVYD4D9gJ6H0hZDSv4DY6Qd1kd+/gFDj3vyGxT8Atr3dkhzAv4DhOmtcJNC/wG+hI6BfwD/ARu3ZzlKpPw==\",\"dtype\":\"float64\",\"shape\":[11]}},\"selected\":{\"id\":\"b4866962-6b32-4b79-a1c7-cc28b49aad0c\",\"type\":\"Selection\"},\"selection_policy\":{\"id\":\"02e7676e-b008-4eb9-9af3-25c18e86f38a\",\"type\":\"UnionRenderers\"}},\"id\":\"e6067807-bf67-4626-9d9d-79f2696365c1\",\"type\":\"ColumnDataSource\"},{\"attributes\":{\"toolbar\":{\"id\":\"47a86872-571a-4319-9941-d08c191b4e46\",\"type\":\"ProxyToolbar\"},\"toolbar_location\":\"above\"},\"id\":\"33279ea1-ea25-4bd7-9d30-2ea46c28ce2c\",\"type\":\"ToolbarBox\"},{\"attributes\":{},\"id\":\"f7c2b5eb-f26d-4805-8669-b9cf6e245217\",\"type\":\"LinearScale\"},{\"attributes\":{},\"id\":\"b6d2d89c-fbc9-4669-91cd-f7e725a82978\",\"type\":\"CategoricalTickFormatter\"},{\"attributes\":{\"axis_label\":\"spectral band\",\"formatter\":{\"id\":\"0571b3cb-500c-4f01-b3ba-11faa8936f3c\",\"type\":\"CategoricalTickFormatter\"},\"plot\":{\"id\":\"99c558db-3574-4d57-a117-8327f780c167\",\"subtype\":\"Figure\",\"type\":\"Plot\"},\"ticker\":{\"id\":\"cee17b3c-f615-43ee-95dd-bd9917deea20\",\"type\":\"CategoricalTicker\"}},\"id\":\"36ab5885-f7fa-4b3d-be2c-137fd74ddc3a\",\"type\":\"CategoricalAxis\"},{\"attributes\":{},\"id\":\"31e317bf-c690-49d3-bca3-ca70ea130157\",\"type\":\"ResetTool\"},{\"attributes\":{\"below\":[{\"id\":\"ce09b8d6-2159-4fff-ab8e-3a5641582a3c\",\"type\":\"CategoricalAxis\"}],\"left\":[{\"id\":\"41100a1b-afe4-4aac-9261-f0caadae0e0c\",\"type\":\"LinearAxis\"}],\"plot_height\":300,\"plot_width\":300,\"renderers\":[{\"id\":\"ce09b8d6-2159-4fff-ab8e-3a5641582a3c\",\"type\":\"CategoricalAxis\"},{\"id\":\"7576ecd9-d238-40bd-95e7-d93a6a1cbb74\",\"type\":\"Grid\"},{\"id\":\"41100a1b-afe4-4aac-9261-f0caadae0e0c\",\"type\":\"LinearAxis\"},{\"id\":\"1dbdc994-ef11-4203-b6a8-3544cd697402\",\"type\":\"Grid\"},{\"id\":\"e7777c74-3bcc-441b-9aac-ee0a430e5eed\",\"type\":\"BoxAnnotation\"},{\"id\":\"b44a585d-434d-463f-aeac-59f375f79942\",\"type\":\"GlyphRenderer\"}],\"title\":{\"id\":\"34649ce5-c5f3-45d6-a374-79e5b8c25aeb\",\"type\":\"Title\"},\"toolbar\":{\"id\":\"00348790-8473-4ab0-bf2a-900d8591f913\",\"type\":\"Toolbar\"},\"toolbar_location\":null,\"x_range\":{\"id\":\"3fd5a87e-5070-43f7-8de6-73315a9ee18c\",\"type\":\"FactorRange\"},\"x_scale\":{\"id\":\"33263b12-9e18-483c-ae97-d3a91280ed7b\",\"type\":\"CategoricalScale\"},\"y_range\":{\"id\":\"0c04ee5b-9053-4762-8ed9-663a1e4776fe\",\"type\":\"DataRange1d\"},\"y_scale\":{\"id\":\"1c3d489a-f9e3-4b73-abfa-763e6a47e991\",\"type\":\"LinearScale\"}},\"id\":\"a9514564-1083-4472-8706-30e2376b6fda\",\"subtype\":\"Figure\",\"type\":\"Plot\"},{\"attributes\":{\"callback\":null,\"factors\":[\"1\",\"2\",\"3\",\"4\",\"5\",\"6\",\"7\",\"8\",\"9\",\"10\",\"11\"]},\"id\":\"65e18cba-2100-4220-a36f-aa6c0a4c6a91\",\"type\":\"FactorRange\"},{\"attributes\":{\"active_drag\":\"auto\",\"active_inspect\":\"auto\",\"active_scroll\":\"auto\",\"active_tap\":\"auto\",\"tools\":[{\"id\":\"3e9f02da-4d87-4dc3-9229-2c0e55e06cf5\",\"type\":\"PanTool\"},{\"id\":\"2d1da2e0-bc49-40e2-b6f9-5f4bbb3ada54\",\"type\":\"WheelZoomTool\"},{\"id\":\"ea97a3ab-2fca-401b-98a4-7a83c4988ace\",\"type\":\"BoxZoomTool\"},{\"id\":\"0694d898-847f-4adf-a06d-d89a2fe02734\",\"type\":\"SaveTool\"},{\"id\":\"31e317bf-c690-49d3-bca3-ca70ea130157\",\"type\":\"ResetTool\"},{\"id\":\"da7461be-d63c-41e8-8409-d59642afbca6\",\"type\":\"HelpTool\"}]},\"id\":\"0f4b2a2f-db20-4f9b-8d74-756adb94cbdd\",\"type\":\"Toolbar\"},{\"attributes\":{},\"id\":\"a4aa2309-ecfe-4bd1-8af4-18bebbb10361\",\"type\":\"BasicTickFormatter\"},{\"attributes\":{\"callback\":null,\"data\":{\"band\":[\"1\",\"2\",\"3\",\"4\",\"5\",\"6\",\"7\",\"8\",\"9\",\"10\",\"11\"],\"flux\":{\"__ndarray__\":\"AADADkbs874Ak+S5vg/QPwAq5Eo9C8q/AHSERUWcrj8AMLq8OVzjP+DPm4pUGN0/wORV52Idsj8AQGTbs/iOPwD/I9Oh09E/AFDtmpDWiD8Asw6iEFywPw==\",\"dtype\":\"float64\",\"shape\":[11]}},\"selected\":{\"id\":\"23c1b659-3553-41dc-bbb2-a9ff003ca863\",\"type\":\"Selection\"},\"selection_policy\":{\"id\":\"554e2bc6-6a62-4f9d-8383-055c90a827e3\",\"type\":\"UnionRenderers\"}},\"id\":\"c3a5b753-24a6-4d48-a1d3-f5ecc740725b\",\"type\":\"ColumnDataSource\"},{\"attributes\":{},\"id\":\"2d1da2e0-bc49-40e2-b6f9-5f4bbb3ada54\",\"type\":\"WheelZoomTool\"},{\"attributes\":{},\"id\":\"b4866962-6b32-4b79-a1c7-cc28b49aad0c\",\"type\":\"Selection\"},{\"attributes\":{},\"id\":\"da7461be-d63c-41e8-8409-d59642afbca6\",\"type\":\"HelpTool\"},{\"attributes\":{},\"id\":\"b6255958-b2a8-4230-8395-4af5dd1733e4\",\"type\":\"BasicTickFormatter\"},{\"attributes\":{\"fill_color\":{\"value\":\"#1f77b4\"},\"line_color\":{\"value\":\"#1f77b4\"},\"top\":{\"field\":\"flux\"},\"width\":{\"value\":0.9},\"x\":{\"field\":\"band\"}},\"id\":\"545e0625-dc91-4ae8-a3a0-75f7a35c98c5\",\"type\":\"VBar\"},{\"attributes\":{\"data_source\":{\"id\":\"127f381b-ce9e-4cf1-bac6-cdda26ca3d6d\",\"type\":\"ColumnDataSource\"},\"glyph\":{\"id\":\"0d649f5e-8514-4040-a31f-6112c0e96f25\",\"type\":\"VBar\"},\"hover_glyph\":null,\"muted_glyph\":null,\"nonselection_glyph\":{\"id\":\"a778be20-35c0-42ec-810b-92a73303829a\",\"type\":\"VBar\"},\"selection_glyph\":null,\"view\":{\"id\":\"a7919319-817b-414f-90f8-fa5774d83c62\",\"type\":\"CDSView\"}},\"id\":\"135967a7-526d-4a5b-b237-39c31072086a\",\"type\":\"GlyphRenderer\"},{\"attributes\":{\"source\":{\"id\":\"127f381b-ce9e-4cf1-bac6-cdda26ca3d6d\",\"type\":\"ColumnDataSource\"}},\"id\":\"a7919319-817b-414f-90f8-fa5774d83c62\",\"type\":\"CDSView\"},{\"attributes\":{\"source\":{\"id\":\"e6067807-bf67-4626-9d9d-79f2696365c1\",\"type\":\"ColumnDataSource\"}},\"id\":\"fcc644e1-5c2c-4c98-805d-91a988205096\",\"type\":\"CDSView\"},{\"attributes\":{},\"id\":\"eba4e491-0150-44bd-972e-f1669dddd3f9\",\"type\":\"BasicTicker\"},{\"attributes\":{\"children\":[{\"id\":\"33279ea1-ea25-4bd7-9d30-2ea46c28ce2c\",\"type\":\"ToolbarBox\"},{\"id\":\"a6687778-9cc3-4b14-9053-e096d7c59809\",\"type\":\"Column\"}]},\"id\":\"d70dc6ad-e7f6-4955-9583-65a4bc9cb73d\",\"type\":\"Column\"},{\"attributes\":{},\"id\":\"474bb26e-23ec-4352-bfb2-713a2a49e688\",\"type\":\"BasicTicker\"},{\"attributes\":{\"axis_label\":\"spectral band\",\"formatter\":{\"id\":\"b6d2d89c-fbc9-4669-91cd-f7e725a82978\",\"type\":\"CategoricalTickFormatter\"},\"plot\":{\"id\":\"a9514564-1083-4472-8706-30e2376b6fda\",\"subtype\":\"Figure\",\"type\":\"Plot\"},\"ticker\":{\"id\":\"fe77db87-9250-4842-9b17-b7fe2d1bb7de\",\"type\":\"CategoricalTicker\"}},\"id\":\"ce09b8d6-2159-4fff-ab8e-3a5641582a3c\",\"type\":\"CategoricalAxis\"},{\"attributes\":{\"plot\":null,\"text\":\"TOA flux. CLIRAD (single-run) - CRD.\"},\"id\":\"aa2e2c2d-0171-4b82-b47f-981dec0b747a\",\"type\":\"Title\"},{\"attributes\":{},\"id\":\"ac6915f1-edfd-4a44-8953-b8c4fb4706eb\",\"type\":\"CategoricalTicker\"},{\"attributes\":{\"fill_color\":{\"value\":\"#1f77b4\"},\"line_color\":{\"value\":\"#1f77b4\"},\"top\":{\"field\":\"flux\"},\"width\":{\"value\":0.9},\"x\":{\"field\":\"band\"}},\"id\":\"0d649f5e-8514-4040-a31f-6112c0e96f25\",\"type\":\"VBar\"},{\"attributes\":{\"below\":[{\"id\":\"590482f4-58c6-4a17-8412-e66e3d932c28\",\"type\":\"CategoricalAxis\"}],\"left\":[{\"id\":\"a7805884-35e5-4064-b6c7-2d7f48e14f01\",\"type\":\"LinearAxis\"}],\"plot_height\":300,\"plot_width\":300,\"renderers\":[{\"id\":\"590482f4-58c6-4a17-8412-e66e3d932c28\",\"type\":\"CategoricalAxis\"},{\"id\":\"075dc24a-cb44-4ec2-ad90-099981ecdcb2\",\"type\":\"Grid\"},{\"id\":\"a7805884-35e5-4064-b6c7-2d7f48e14f01\",\"type\":\"LinearAxis\"},{\"id\":\"6fd92e82-f149-4958-8a48-1a9b971c3f20\",\"type\":\"Grid\"},{\"id\":\"3bbeabc3-6398-40f4-bc82-563fee59e4ad\",\"type\":\"BoxAnnotation\"},{\"id\":\"53fca452-588f-4053-9b9c-91f653263e68\",\"type\":\"GlyphRenderer\"}],\"title\":{\"id\":\"55dabac8-c367-420b-8f0a-90af6902943c\",\"type\":\"Title\"},\"toolbar\":{\"id\":\"6c01ae89-b0ad-4bfd-9641-37144de8c06f\",\"type\":\"Toolbar\"},\"toolbar_location\":null,\"x_range\":{\"id\":\"882fead8-761c-4272-bb2c-3bc694425481\",\"type\":\"FactorRange\"},\"x_scale\":{\"id\":\"ad60f6c2-aa16-4ae3-ba1b-c0292286321a\",\"type\":\"CategoricalScale\"},\"y_range\":{\"id\":\"bee11c7e-03b3-4711-8535-fc7ec34a4d13\",\"type\":\"DataRange1d\"},\"y_scale\":{\"id\":\"85f40cc0-f1a5-41c3-aee6-011565063395\",\"type\":\"LinearScale\"}},\"id\":\"ea938c89-5e94-44bf-8ee9-ba0b3445d3ee\",\"subtype\":\"Figure\",\"type\":\"Plot\"},{\"attributes\":{\"callback\":null,\"factors\":[\"1\",\"2\",\"3\",\"4\",\"5\",\"6\",\"7\",\"8\",\"9\",\"10\",\"11\"]},\"id\":\"3fd5a87e-5070-43f7-8de6-73315a9ee18c\",\"type\":\"FactorRange\"},{\"attributes\":{\"bottom_units\":\"screen\",\"fill_alpha\":{\"value\":0.5},\"fill_color\":{\"value\":\"lightgrey\"},\"left_units\":\"screen\",\"level\":\"overlay\",\"line_alpha\":{\"value\":1.0},\"line_color\":{\"value\":\"black\"},\"line_dash\":[4,4],\"line_width\":{\"value\":2},\"plot\":null,\"render_mode\":\"css\",\"right_units\":\"screen\",\"top_units\":\"screen\"},\"id\":\"09454982-c2c9-4c51-96af-6188333753c1\",\"type\":\"BoxAnnotation\"},{\"attributes\":{\"callback\":null},\"id\":\"0c04ee5b-9053-4762-8ed9-663a1e4776fe\",\"type\":\"DataRange1d\"},{\"attributes\":{\"plot\":{\"id\":\"99c558db-3574-4d57-a117-8327f780c167\",\"subtype\":\"Figure\",\"type\":\"Plot\"},\"ticker\":{\"id\":\"cee17b3c-f615-43ee-95dd-bd9917deea20\",\"type\":\"CategoricalTicker\"}},\"id\":\"e33767aa-4e7d-4f06-b8f2-e8f25c583476\",\"type\":\"Grid\"},{\"attributes\":{\"callback\":null},\"id\":\"02735bf8-210c-4849-a962-6eb829d2b31c\",\"type\":\"DataRange1d\"},{\"attributes\":{\"fill_alpha\":{\"value\":0.1},\"fill_color\":{\"value\":\"#1f77b4\"},\"line_alpha\":{\"value\":0.1},\"line_color\":{\"value\":\"#1f77b4\"},\"top\":{\"field\":\"flux\"},\"width\":{\"value\":0.9},\"x\":{\"field\":\"band\"}},\"id\":\"a778be20-35c0-42ec-810b-92a73303829a\",\"type\":\"VBar\"},{\"attributes\":{\"children\":[{\"id\":\"3bad493a-5baa-4052-91cc-f1a31ec2b56f\",\"type\":\"Row\"}]},\"id\":\"a6687778-9cc3-4b14-9053-e096d7c59809\",\"type\":\"Column\"},{\"attributes\":{},\"id\":\"cee17b3c-f615-43ee-95dd-bd9917deea20\",\"type\":\"CategoricalTicker\"},{\"attributes\":{\"active_drag\":\"auto\",\"active_inspect\":\"auto\",\"active_scroll\":\"auto\",\"active_tap\":\"auto\",\"tools\":[{\"id\":\"43fc66d8-6b04-4a1a-b36f-5cde95bf146e\",\"type\":\"PanTool\"},{\"id\":\"c4f55b74-3e94-4446-bae0-8fafb39c9763\",\"type\":\"WheelZoomTool\"},{\"id\":\"0870089b-8c04-4abd-8c1c-e2b747467be0\",\"type\":\"BoxZoomTool\"},{\"id\":\"6e9fe79e-8933-4759-ae4b-c9ae91134b43\",\"type\":\"SaveTool\"},{\"id\":\"2a6aaa52-318b-48d5-b6c9-6e7070a83564\",\"type\":\"ResetTool\"},{\"id\":\"2ef3e081-8b80-4922-bbf2-9b6a92c34b0a\",\"type\":\"HelpTool\"}]},\"id\":\"00348790-8473-4ab0-bf2a-900d8591f913\",\"type\":\"Toolbar\"},{\"attributes\":{},\"id\":\"02e7676e-b008-4eb9-9af3-25c18e86f38a\",\"type\":\"UnionRenderers\"},{\"attributes\":{},\"id\":\"3e9f02da-4d87-4dc3-9229-2c0e55e06cf5\",\"type\":\"PanTool\"},{\"attributes\":{\"plot\":{\"id\":\"ea938c89-5e94-44bf-8ee9-ba0b3445d3ee\",\"subtype\":\"Figure\",\"type\":\"Plot\"},\"ticker\":{\"id\":\"ac6915f1-edfd-4a44-8953-b8c4fb4706eb\",\"type\":\"CategoricalTicker\"}},\"id\":\"075dc24a-cb44-4ec2-ad90-099981ecdcb2\",\"type\":\"Grid\"},{\"attributes\":{},\"id\":\"dba00c55-0e15-46e2-a995-00dbe464f793\",\"type\":\"CategoricalTickFormatter\"},{\"attributes\":{\"dimension\":1,\"plot\":{\"id\":\"99c558db-3574-4d57-a117-8327f780c167\",\"subtype\":\"Figure\",\"type\":\"Plot\"},\"ticker\":{\"id\":\"eba4e491-0150-44bd-972e-f1669dddd3f9\",\"type\":\"BasicTicker\"}},\"id\":\"40e9adee-9547-4a82-a7ca-c8d17fd8bdbf\",\"type\":\"Grid\"},{\"attributes\":{\"fill_alpha\":{\"value\":0.1},\"fill_color\":{\"value\":\"#1f77b4\"},\"line_alpha\":{\"value\":0.1},\"line_color\":{\"value\":\"#1f77b4\"},\"top\":{\"field\":\"flux\"},\"width\":{\"value\":0.9},\"x\":{\"field\":\"band\"}},\"id\":\"b354a35c-abaa-4652-9639-266def9d9eef\",\"type\":\"VBar\"},{\"attributes\":{\"axis_label\":\"flux (W m-2)\",\"formatter\":{\"id\":\"b6255958-b2a8-4230-8395-4af5dd1733e4\",\"type\":\"BasicTickFormatter\"},\"plot\":{\"id\":\"ea938c89-5e94-44bf-8ee9-ba0b3445d3ee\",\"subtype\":\"Figure\",\"type\":\"Plot\"},\"ticker\":{\"id\":\"965bd835-f91d-42a9-8fc9-ba2099afdbc6\",\"type\":\"BasicTicker\"}},\"id\":\"a7805884-35e5-4064-b6c7-2d7f48e14f01\",\"type\":\"LinearAxis\"},{\"attributes\":{},\"id\":\"cf7b983e-e26d-4f15-8220-bb8f5bc50d8b\",\"type\":\"UnionRenderers\"},{\"attributes\":{\"axis_label\":\"spectral band\",\"formatter\":{\"id\":\"dba00c55-0e15-46e2-a995-00dbe464f793\",\"type\":\"CategoricalTickFormatter\"},\"plot\":{\"id\":\"ea938c89-5e94-44bf-8ee9-ba0b3445d3ee\",\"subtype\":\"Figure\",\"type\":\"Plot\"},\"ticker\":{\"id\":\"ac6915f1-edfd-4a44-8953-b8c4fb4706eb\",\"type\":\"CategoricalTicker\"}},\"id\":\"590482f4-58c6-4a17-8412-e66e3d932c28\",\"type\":\"CategoricalAxis\"},{\"attributes\":{\"dimension\":1,\"plot\":{\"id\":\"ea938c89-5e94-44bf-8ee9-ba0b3445d3ee\",\"subtype\":\"Figure\",\"type\":\"Plot\"},\"ticker\":{\"id\":\"965bd835-f91d-42a9-8fc9-ba2099afdbc6\",\"type\":\"BasicTicker\"}},\"id\":\"6fd92e82-f149-4958-8a48-1a9b971c3f20\",\"type\":\"Grid\"},{\"attributes\":{\"axis_label\":\"flux (W m-2)\",\"formatter\":{\"id\":\"a4aa2309-ecfe-4bd1-8af4-18bebbb10361\",\"type\":\"BasicTickFormatter\"},\"plot\":{\"id\":\"a9514564-1083-4472-8706-30e2376b6fda\",\"subtype\":\"Figure\",\"type\":\"Plot\"},\"ticker\":{\"id\":\"474bb26e-23ec-4352-bfb2-713a2a49e688\",\"type\":\"BasicTicker\"}},\"id\":\"41100a1b-afe4-4aac-9261-f0caadae0e0c\",\"type\":\"LinearAxis\"},{\"attributes\":{\"plot\":null,\"text\":\"Atmosphere heating. CLIRAD (single-run) - CRD.\"},\"id\":\"34649ce5-c5f3-45d6-a374-79e5b8c25aeb\",\"type\":\"Title\"},{\"attributes\":{},\"id\":\"fe77db87-9250-4842-9b17-b7fe2d1bb7de\",\"type\":\"CategoricalTicker\"},{\"attributes\":{\"axis_label\":\"flux (W m-2)\",\"formatter\":{\"id\":\"d9bdb7ca-5689-4fdc-afd5-27752ad44c24\",\"type\":\"BasicTickFormatter\"},\"plot\":{\"id\":\"99c558db-3574-4d57-a117-8327f780c167\",\"subtype\":\"Figure\",\"type\":\"Plot\"},\"ticker\":{\"id\":\"eba4e491-0150-44bd-972e-f1669dddd3f9\",\"type\":\"BasicTicker\"}},\"id\":\"cda9d531-47c0-4547-9692-cbf698f63d17\",\"type\":\"LinearAxis\"},{\"attributes\":{\"plot\":{\"id\":\"a9514564-1083-4472-8706-30e2376b6fda\",\"subtype\":\"Figure\",\"type\":\"Plot\"},\"ticker\":{\"id\":\"fe77db87-9250-4842-9b17-b7fe2d1bb7de\",\"type\":\"CategoricalTicker\"}},\"id\":\"7576ecd9-d238-40bd-95e7-d93a6a1cbb74\",\"type\":\"Grid\"},{\"attributes\":{\"tools\":[{\"id\":\"3e9f02da-4d87-4dc3-9229-2c0e55e06cf5\",\"type\":\"PanTool\"},{\"id\":\"2d1da2e0-bc49-40e2-b6f9-5f4bbb3ada54\",\"type\":\"WheelZoomTool\"},{\"id\":\"ea97a3ab-2fca-401b-98a4-7a83c4988ace\",\"type\":\"BoxZoomTool\"},{\"id\":\"0694d898-847f-4adf-a06d-d89a2fe02734\",\"type\":\"SaveTool\"},{\"id\":\"31e317bf-c690-49d3-bca3-ca70ea130157\",\"type\":\"ResetTool\"},{\"id\":\"da7461be-d63c-41e8-8409-d59642afbca6\",\"type\":\"HelpTool\"},{\"id\":\"b27a16d7-1850-4201-99f2-25914c652eee\",\"type\":\"PanTool\"},{\"id\":\"8c922d8c-5af1-49ab-8f30-2b379ce56084\",\"type\":\"WheelZoomTool\"},{\"id\":\"402086f7-cea7-44b6-9d6e-acf9f3195dd4\",\"type\":\"BoxZoomTool\"},{\"id\":\"40341765-da3c-4529-b342-ba1e85ddaf5a\",\"type\":\"SaveTool\"},{\"id\":\"d2246b3e-ffc4-4696-a6a2-b715f79c6bd6\",\"type\":\"ResetTool\"},{\"id\":\"d4dbc6ba-386a-4283-b614-d0ac64b1d4e6\",\"type\":\"HelpTool\"},{\"id\":\"43fc66d8-6b04-4a1a-b36f-5cde95bf146e\",\"type\":\"PanTool\"},{\"id\":\"c4f55b74-3e94-4446-bae0-8fafb39c9763\",\"type\":\"WheelZoomTool\"},{\"id\":\"0870089b-8c04-4abd-8c1c-e2b747467be0\",\"type\":\"BoxZoomTool\"},{\"id\":\"6e9fe79e-8933-4759-ae4b-c9ae91134b43\",\"type\":\"SaveTool\"},{\"id\":\"2a6aaa52-318b-48d5-b6c9-6e7070a83564\",\"type\":\"ResetTool\"},{\"id\":\"2ef3e081-8b80-4922-bbf2-9b6a92c34b0a\",\"type\":\"HelpTool\"}]},\"id\":\"47a86872-571a-4319-9941-d08c191b4e46\",\"type\":\"ProxyToolbar\"},{\"attributes\":{},\"id\":\"85f40cc0-f1a5-41c3-aee6-011565063395\",\"type\":\"LinearScale\"},{\"attributes\":{\"dimension\":1,\"plot\":{\"id\":\"a9514564-1083-4472-8706-30e2376b6fda\",\"subtype\":\"Figure\",\"type\":\"Plot\"},\"ticker\":{\"id\":\"474bb26e-23ec-4352-bfb2-713a2a49e688\",\"type\":\"BasicTicker\"}},\"id\":\"1dbdc994-ef11-4203-b6a8-3544cd697402\",\"type\":\"Grid\"},{\"attributes\":{\"overlay\":{\"id\":\"09454982-c2c9-4c51-96af-6188333753c1\",\"type\":\"BoxAnnotation\"}},\"id\":\"ea97a3ab-2fca-401b-98a4-7a83c4988ace\",\"type\":\"BoxZoomTool\"},{\"attributes\":{},\"id\":\"965bd835-f91d-42a9-8fc9-ba2099afdbc6\",\"type\":\"BasicTicker\"},{\"attributes\":{},\"id\":\"0694d898-847f-4adf-a06d-d89a2fe02734\",\"type\":\"SaveTool\"},{\"attributes\":{\"below\":[{\"id\":\"36ab5885-f7fa-4b3d-be2c-137fd74ddc3a\",\"type\":\"CategoricalAxis\"}],\"left\":[{\"id\":\"cda9d531-47c0-4547-9692-cbf698f63d17\",\"type\":\"LinearAxis\"}],\"plot_height\":300,\"plot_width\":300,\"renderers\":[{\"id\":\"36ab5885-f7fa-4b3d-be2c-137fd74ddc3a\",\"type\":\"CategoricalAxis\"},{\"id\":\"e33767aa-4e7d-4f06-b8f2-e8f25c583476\",\"type\":\"Grid\"},{\"id\":\"cda9d531-47c0-4547-9692-cbf698f63d17\",\"type\":\"LinearAxis\"},{\"id\":\"40e9adee-9547-4a82-a7ca-c8d17fd8bdbf\",\"type\":\"Grid\"},{\"id\":\"09454982-c2c9-4c51-96af-6188333753c1\",\"type\":\"BoxAnnotation\"},{\"id\":\"135967a7-526d-4a5b-b237-39c31072086a\",\"type\":\"GlyphRenderer\"}],\"title\":{\"id\":\"aa2e2c2d-0171-4b82-b47f-981dec0b747a\",\"type\":\"Title\"},\"toolbar\":{\"id\":\"0f4b2a2f-db20-4f9b-8d74-756adb94cbdd\",\"type\":\"Toolbar\"},\"toolbar_location\":null,\"x_range\":{\"id\":\"65e18cba-2100-4220-a36f-aa6c0a4c6a91\",\"type\":\"FactorRange\"},\"x_scale\":{\"id\":\"a6ba6f40-0d4c-42aa-b3d5-69163db1dca0\",\"type\":\"CategoricalScale\"},\"y_range\":{\"id\":\"02735bf8-210c-4849-a962-6eb829d2b31c\",\"type\":\"DataRange1d\"},\"y_scale\":{\"id\":\"f7c2b5eb-f26d-4805-8669-b9cf6e245217\",\"type\":\"LinearScale\"}},\"id\":\"99c558db-3574-4d57-a117-8327f780c167\",\"subtype\":\"Figure\",\"type\":\"Plot\"}],\"root_ids\":[\"d70dc6ad-e7f6-4955-9583-65a4bc9cb73d\"]},\"title\":\"Bokeh Application\",\"version\":\"0.12.16\"}};\n",
       "  var render_items = [{\"docid\":\"4f54acc9-a6c2-4bcf-b6f9-c6877129a09a\",\"elementid\":\"c7010266-69bd-4ddf-aaf8-cbed62e397c8\",\"modelid\":\"d70dc6ad-e7f6-4955-9583-65a4bc9cb73d\"}];\n",
       "  root.Bokeh.embed.embed_items_notebook(docs_json, render_items);\n",
       "\n",
       "  }\n",
       "  if (root.Bokeh !== undefined) {\n",
       "    embed_document(root);\n",
       "  } else {\n",
       "    var attempts = 0;\n",
       "    var timer = setInterval(function(root) {\n",
       "      if (root.Bokeh !== undefined) {\n",
       "        embed_document(root);\n",
       "        clearInterval(timer);\n",
       "      }\n",
       "      attempts++;\n",
       "      if (attempts > 100) {\n",
       "        console.log(\"Bokeh: ERROR: Unable to run BokehJS code because BokehJS library is missing\")\n",
       "        clearInterval(timer);\n",
       "      }\n",
       "    }, 10, root)\n",
       "  }\n",
       "})(window);"
      ],
      "application/vnd.bokehjs_exec.v0+json": ""
     },
     "metadata": {
      "application/vnd.bokehjs_exec.v0+json": {
       "id": "d70dc6ad-e7f6-4955-9583-65a4bc9cb73d"
      }
     },
     "output_type": "display_data"
    },
    {
     "data": {
      "text/markdown": [
       "*FIGURE.* Difference between CLIRAD and CRD in TOA, SFC and net atmosphere flux, in each spectral band."
      ],
      "text/plain": [
       "<IPython.core.display.Markdown object>"
      ]
     },
     "metadata": {},
     "output_type": "display_data"
    },
    {
     "data": {
      "text/html": [
       "<div>\n",
       "<style scoped>\n",
       "    .dataframe tbody tr th:only-of-type {\n",
       "        vertical-align: middle;\n",
       "    }\n",
       "\n",
       "    .dataframe tbody tr th {\n",
       "        vertical-align: top;\n",
       "    }\n",
       "\n",
       "    .dataframe thead th {\n",
       "        text-align: right;\n",
       "    }\n",
       "</style>\n",
       "<table border=\"1\" class=\"dataframe\">\n",
       "  <thead>\n",
       "    <tr style=\"text-align: right;\">\n",
       "      <th></th>\n",
       "      <th>OLR flux</th>\n",
       "      <th>SFC flux</th>\n",
       "      <th>ATM heating</th>\n",
       "    </tr>\n",
       "    <tr>\n",
       "      <th>Sum over bands</th>\n",
       "      <th></th>\n",
       "      <th></th>\n",
       "      <th></th>\n",
       "    </tr>\n",
       "  </thead>\n",
       "  <tbody>\n",
       "    <tr>\n",
       "      <th>CLIRAD (single-run) - CRD</th>\n",
       "      <td>1.48</td>\n",
       "      <td>1.61</td>\n",
       "      <td>-0.13</td>\n",
       "    </tr>\n",
       "    <tr>\n",
       "      <th>CRD</th>\n",
       "      <td>-303.40</td>\n",
       "      <td>337.24</td>\n",
       "      <td>-181.37</td>\n",
       "    </tr>\n",
       "  </tbody>\n",
       "</table>\n",
       "</div>"
      ],
      "text/plain": [
       "                           OLR flux  SFC flux  ATM heating\n",
       "Sum over bands                                            \n",
       "CLIRAD (single-run) - CRD      1.48      1.61        -0.13\n",
       "CRD                         -303.40    337.24      -181.37"
      ]
     },
     "metadata": {},
     "output_type": "display_data"
    },
    {
     "data": {
      "text/markdown": [
       "*TABLE.* Difference between CLIRAD and CRD in TOA, SFC and net atmosphere flux, over all spectral bands. CRD's TOA, SFC and net atmosphere flux, over all spectral bands."
      ],
      "text/plain": [
       "<IPython.core.display.Markdown object>"
      ]
     },
     "metadata": {},
     "output_type": "display_data"
    }
   ],
   "source": [
    "%run results_entire_range_cliradsinglerun.py"
   ]
  },
  {
   "cell_type": "code",
   "execution_count": 13,
   "metadata": {},
   "outputs": [
    {
     "data": {
      "text/html": [
       "<script>                                                                                             \n",
       "code_show=true;                                                                                                      \n",
       "function code_toggle() {                                                                                             \n",
       " if (code_show){                                                                                                     \n",
       " $('div.input').hide();                                                                                              \n",
       " } else {                                                                                                            \n",
       " $('div.input').show();                                                                                              \n",
       " }                                                                                                                   \n",
       " code_show = !code_show                                                                                              \n",
       "}                                                                                                                    \n",
       "$( document ).ready(code_toggle);                                                                                    \n",
       "</script>                                                                                                            \n",
       "<form action=\"javascript:code_toggle()\"><input type=\"submit\" value=\"Click here to toggle on/off the raw code.\"></form>"
      ],
      "text/plain": [
       "<IPython.core.display.HTML object>"
      ]
     },
     "execution_count": 13,
     "metadata": {},
     "output_type": "execute_result"
    }
   ],
   "source": [
    "display.HTML('''<script>                                                                                             \n",
    "code_show=true;                                                                                                      \n",
    "function code_toggle() {                                                                                             \n",
    " if (code_show){                                                                                                     \n",
    " $('div.input').hide();                                                                                              \n",
    " } else {                                                                                                            \n",
    " $('div.input').show();                                                                                              \n",
    " }                                                                                                                   \n",
    " code_show = !code_show                                                                                              \n",
    "}                                                                                                                    \n",
    "$( document ).ready(code_toggle);                                                                                    \n",
    "</script>                                                                                                            \n",
    "<form action=\"javascript:code_toggle()\"><input type=\"submit\" value=\"Click here to toggle on/off the raw code.\"></for\\\n",
    "m>''')"
   ]
  },
  {
   "cell_type": "code",
   "execution_count": null,
   "metadata": {
    "collapsed": true
   },
   "outputs": [],
   "source": []
  }
 ],
 "metadata": {
  "kernelspec": {
   "display_name": "Python 3",
   "language": "python",
   "name": "python3"
  },
  "language_info": {
   "codemirror_mode": {
    "name": "ipython",
    "version": 3
   },
   "file_extension": ".py",
   "mimetype": "text/x-python",
   "name": "python",
   "nbconvert_exporter": "python",
   "pygments_lexer": "ipython3",
   "version": "3.6.1"
  }
 },
 "nbformat": 4,
 "nbformat_minor": 2
}
