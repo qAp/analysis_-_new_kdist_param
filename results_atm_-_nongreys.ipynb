{
 "cells": [
  {
   "cell_type": "code",
   "execution_count": 123,
   "metadata": {},
   "outputs": [
    {
     "name": "stderr",
     "output_type": "stream",
     "text": [
      "/chia_cluster/home/jackyu/climatools/climatools/plot/plot.py:21: AccessorRegistrationWarning: registration of accessor <class 'climatools.plot.plot.ClimavizArrayAccessor'> under name 'climaviz' for type <class 'xarray.core.dataarray.DataArray'> is overriding a preexisting attribute with the same name.\n",
      "  class ClimavizArrayAccessor(object):\n"
     ]
    },
    {
     "data": {
      "text/plain": [
       "<module 'climatools.plot.plot' from '/chia_cluster/home/jackyu/climatools/climatools/plot/plot.py'>"
      ]
     },
     "execution_count": 123,
     "metadata": {},
     "output_type": "execute_result"
    }
   ],
   "source": [
    "import os                                                                                                            \n",
    "import importlib                                                                                                     \n",
    "import pprint                                                                                                        \n",
    "                                                                                                                     \n",
    "import numpy as np                                                                                                   \n",
    "import pandas as pd                                                                                                  \n",
    "import xarray as xr                                                                                                  \n",
    "                                                                                                                     \n",
    "from bokeh.io import output_notebook, show                                                                           \n",
    "from bokeh.palettes import all_palettes                                                                              \n",
    "from bokeh.layouts import gridplot                                                                                   \n",
    "from bokeh.plotting import figure                                                                                    \n",
    "                                                                                                                     \n",
    "import climatools.lblnew.dataset as lbldata                                                                          \n",
    "import climatools.cliradlw.dataset as cliraddata                                                                     \n",
    "from climatools.atm.absorbers import nongreys_byband                                                                 \n",
    "from climatools.atm.absorbers import greys_byband                                                                    \n",
    "                                                                                                                     \n",
    "import climatools.html.html as climahtml                                                                             \n",
    "from climatools.lblnew.dataio import *                                                                               \n",
    "import climatools.plot.plot as plot                                                                                  \n",
    "                                                                                                                     \n",
    "                                                                                                                     \n",
    "from IPython import display                                                                                          \n",
    "                                                                                                                     \n",
    "importlib.reload(lbldata)                                                                                            \n",
    "importlib.reload(cliraddata)                                                                                         \n",
    "importlib.reload(plot)"
   ]
  },
  {
   "cell_type": "code",
   "execution_count": 124,
   "metadata": {},
   "outputs": [
    {
     "data": {
      "text/html": [
       "\n",
       "    <div class=\"bk-root\">\n",
       "        <a href=\"https://bokeh.pydata.org\" target=\"_blank\" class=\"bk-logo bk-logo-small bk-logo-notebook\"></a>\n",
       "        <span id=\"d991147b-09da-4cd7-a96f-034a4659a544\">Loading BokehJS ...</span>\n",
       "    </div>"
      ]
     },
     "metadata": {},
     "output_type": "display_data"
    },
    {
     "data": {
      "application/javascript": [
       "\n",
       "(function(root) {\n",
       "  function now() {\n",
       "    return new Date();\n",
       "  }\n",
       "\n",
       "  var force = true;\n",
       "\n",
       "  if (typeof (root._bokeh_onload_callbacks) === \"undefined\" || force === true) {\n",
       "    root._bokeh_onload_callbacks = [];\n",
       "    root._bokeh_is_loading = undefined;\n",
       "  }\n",
       "\n",
       "  var JS_MIME_TYPE = 'application/javascript';\n",
       "  var HTML_MIME_TYPE = 'text/html';\n",
       "  var EXEC_MIME_TYPE = 'application/vnd.bokehjs_exec.v0+json';\n",
       "  var CLASS_NAME = 'output_bokeh rendered_html';\n",
       "\n",
       "  /**\n",
       "   * Render data to the DOM node\n",
       "   */\n",
       "  function render(props, node) {\n",
       "    var script = document.createElement(\"script\");\n",
       "    node.appendChild(script);\n",
       "  }\n",
       "\n",
       "  /**\n",
       "   * Handle when an output is cleared or removed\n",
       "   */\n",
       "  function handleClearOutput(event, handle) {\n",
       "    var cell = handle.cell;\n",
       "\n",
       "    var id = cell.output_area._bokeh_element_id;\n",
       "    var server_id = cell.output_area._bokeh_server_id;\n",
       "    // Clean up Bokeh references\n",
       "    if (id !== undefined) {\n",
       "      Bokeh.index[id].model.document.clear();\n",
       "      delete Bokeh.index[id];\n",
       "    }\n",
       "\n",
       "    if (server_id !== undefined) {\n",
       "      // Clean up Bokeh references\n",
       "      var cmd = \"from bokeh.io.state import curstate; print(curstate().uuid_to_server['\" + server_id + \"'].get_sessions()[0].document.roots[0]._id)\";\n",
       "      cell.notebook.kernel.execute(cmd, {\n",
       "        iopub: {\n",
       "          output: function(msg) {\n",
       "            var element_id = msg.content.text.trim();\n",
       "            Bokeh.index[element_id].model.document.clear();\n",
       "            delete Bokeh.index[element_id];\n",
       "          }\n",
       "        }\n",
       "      });\n",
       "      // Destroy server and session\n",
       "      var cmd = \"import bokeh.io.notebook as ion; ion.destroy_server('\" + server_id + \"')\";\n",
       "      cell.notebook.kernel.execute(cmd);\n",
       "    }\n",
       "  }\n",
       "\n",
       "  /**\n",
       "   * Handle when a new output is added\n",
       "   */\n",
       "  function handleAddOutput(event, handle) {\n",
       "    var output_area = handle.output_area;\n",
       "    var output = handle.output;\n",
       "\n",
       "    // limit handleAddOutput to display_data with EXEC_MIME_TYPE content only\n",
       "    if ((output.output_type != \"display_data\") || (!output.data.hasOwnProperty(EXEC_MIME_TYPE))) {\n",
       "      return\n",
       "    }\n",
       "\n",
       "    var toinsert = output_area.element.find(\".\" + CLASS_NAME.split(' ')[0]);\n",
       "\n",
       "    if (output.metadata[EXEC_MIME_TYPE][\"id\"] !== undefined) {\n",
       "      toinsert[toinsert.length - 1].firstChild.textContent = output.data[JS_MIME_TYPE];\n",
       "      // store reference to embed id on output_area\n",
       "      output_area._bokeh_element_id = output.metadata[EXEC_MIME_TYPE][\"id\"];\n",
       "    }\n",
       "    if (output.metadata[EXEC_MIME_TYPE][\"server_id\"] !== undefined) {\n",
       "      var bk_div = document.createElement(\"div\");\n",
       "      bk_div.innerHTML = output.data[HTML_MIME_TYPE];\n",
       "      var script_attrs = bk_div.children[0].attributes;\n",
       "      for (var i = 0; i < script_attrs.length; i++) {\n",
       "        toinsert[toinsert.length - 1].firstChild.setAttribute(script_attrs[i].name, script_attrs[i].value);\n",
       "      }\n",
       "      // store reference to server id on output_area\n",
       "      output_area._bokeh_server_id = output.metadata[EXEC_MIME_TYPE][\"server_id\"];\n",
       "    }\n",
       "  }\n",
       "\n",
       "  function register_renderer(events, OutputArea) {\n",
       "\n",
       "    function append_mime(data, metadata, element) {\n",
       "      // create a DOM node to render to\n",
       "      var toinsert = this.create_output_subarea(\n",
       "        metadata,\n",
       "        CLASS_NAME,\n",
       "        EXEC_MIME_TYPE\n",
       "      );\n",
       "      this.keyboard_manager.register_events(toinsert);\n",
       "      // Render to node\n",
       "      var props = {data: data, metadata: metadata[EXEC_MIME_TYPE]};\n",
       "      render(props, toinsert[toinsert.length - 1]);\n",
       "      element.append(toinsert);\n",
       "      return toinsert\n",
       "    }\n",
       "\n",
       "    /* Handle when an output is cleared or removed */\n",
       "    events.on('clear_output.CodeCell', handleClearOutput);\n",
       "    events.on('delete.Cell', handleClearOutput);\n",
       "\n",
       "    /* Handle when a new output is added */\n",
       "    events.on('output_added.OutputArea', handleAddOutput);\n",
       "\n",
       "    /**\n",
       "     * Register the mime type and append_mime function with output_area\n",
       "     */\n",
       "    OutputArea.prototype.register_mime_type(EXEC_MIME_TYPE, append_mime, {\n",
       "      /* Is output safe? */\n",
       "      safe: true,\n",
       "      /* Index of renderer in `output_area.display_order` */\n",
       "      index: 0\n",
       "    });\n",
       "  }\n",
       "\n",
       "  // register the mime type if in Jupyter Notebook environment and previously unregistered\n",
       "  if (root.Jupyter !== undefined) {\n",
       "    var events = require('base/js/events');\n",
       "    var OutputArea = require('notebook/js/outputarea').OutputArea;\n",
       "\n",
       "    if (OutputArea.prototype.mime_types().indexOf(EXEC_MIME_TYPE) == -1) {\n",
       "      register_renderer(events, OutputArea);\n",
       "    }\n",
       "  }\n",
       "\n",
       "  \n",
       "  if (typeof (root._bokeh_timeout) === \"undefined\" || force === true) {\n",
       "    root._bokeh_timeout = Date.now() + 5000;\n",
       "    root._bokeh_failed_load = false;\n",
       "  }\n",
       "\n",
       "  var NB_LOAD_WARNING = {'data': {'text/html':\n",
       "     \"<div style='background-color: #fdd'>\\n\"+\n",
       "     \"<p>\\n\"+\n",
       "     \"BokehJS does not appear to have successfully loaded. If loading BokehJS from CDN, this \\n\"+\n",
       "     \"may be due to a slow or bad network connection. Possible fixes:\\n\"+\n",
       "     \"</p>\\n\"+\n",
       "     \"<ul>\\n\"+\n",
       "     \"<li>re-rerun `output_notebook()` to attempt to load from CDN again, or</li>\\n\"+\n",
       "     \"<li>use INLINE resources instead, as so:</li>\\n\"+\n",
       "     \"</ul>\\n\"+\n",
       "     \"<code>\\n\"+\n",
       "     \"from bokeh.resources import INLINE\\n\"+\n",
       "     \"output_notebook(resources=INLINE)\\n\"+\n",
       "     \"</code>\\n\"+\n",
       "     \"</div>\"}};\n",
       "\n",
       "  function display_loaded() {\n",
       "    var el = document.getElementById(\"d991147b-09da-4cd7-a96f-034a4659a544\");\n",
       "    if (el != null) {\n",
       "      el.textContent = \"BokehJS is loading...\";\n",
       "    }\n",
       "    if (root.Bokeh !== undefined) {\n",
       "      if (el != null) {\n",
       "        el.textContent = \"BokehJS \" + root.Bokeh.version + \" successfully loaded.\";\n",
       "      }\n",
       "    } else if (Date.now() < root._bokeh_timeout) {\n",
       "      setTimeout(display_loaded, 100)\n",
       "    }\n",
       "  }\n",
       "\n",
       "\n",
       "  function run_callbacks() {\n",
       "    try {\n",
       "      root._bokeh_onload_callbacks.forEach(function(callback) { callback() });\n",
       "    }\n",
       "    finally {\n",
       "      delete root._bokeh_onload_callbacks\n",
       "    }\n",
       "    console.info(\"Bokeh: all callbacks have finished\");\n",
       "  }\n",
       "\n",
       "  function load_libs(js_urls, callback) {\n",
       "    root._bokeh_onload_callbacks.push(callback);\n",
       "    if (root._bokeh_is_loading > 0) {\n",
       "      console.log(\"Bokeh: BokehJS is being loaded, scheduling callback at\", now());\n",
       "      return null;\n",
       "    }\n",
       "    if (js_urls == null || js_urls.length === 0) {\n",
       "      run_callbacks();\n",
       "      return null;\n",
       "    }\n",
       "    console.log(\"Bokeh: BokehJS not loaded, scheduling load and callback at\", now());\n",
       "    root._bokeh_is_loading = js_urls.length;\n",
       "    for (var i = 0; i < js_urls.length; i++) {\n",
       "      var url = js_urls[i];\n",
       "      var s = document.createElement('script');\n",
       "      s.src = url;\n",
       "      s.async = false;\n",
       "      s.onreadystatechange = s.onload = function() {\n",
       "        root._bokeh_is_loading--;\n",
       "        if (root._bokeh_is_loading === 0) {\n",
       "          console.log(\"Bokeh: all BokehJS libraries loaded\");\n",
       "          run_callbacks()\n",
       "        }\n",
       "      };\n",
       "      s.onerror = function() {\n",
       "        console.warn(\"failed to load library \" + url);\n",
       "      };\n",
       "      console.log(\"Bokeh: injecting script tag for BokehJS library: \", url);\n",
       "      document.getElementsByTagName(\"head\")[0].appendChild(s);\n",
       "    }\n",
       "  };var element = document.getElementById(\"d991147b-09da-4cd7-a96f-034a4659a544\");\n",
       "  if (element == null) {\n",
       "    console.log(\"Bokeh: ERROR: autoload.js configured with elementid 'd991147b-09da-4cd7-a96f-034a4659a544' but no matching script tag was found. \")\n",
       "    return false;\n",
       "  }\n",
       "\n",
       "  var js_urls = [\"https://cdn.pydata.org/bokeh/release/bokeh-0.12.16.min.js\", \"https://cdn.pydata.org/bokeh/release/bokeh-widgets-0.12.16.min.js\", \"https://cdn.pydata.org/bokeh/release/bokeh-tables-0.12.16.min.js\", \"https://cdn.pydata.org/bokeh/release/bokeh-gl-0.12.16.min.js\"];\n",
       "\n",
       "  var inline_js = [\n",
       "    function(Bokeh) {\n",
       "      Bokeh.set_log_level(\"info\");\n",
       "    },\n",
       "    \n",
       "    function(Bokeh) {\n",
       "      \n",
       "    },\n",
       "    function(Bokeh) {\n",
       "      console.log(\"Bokeh: injecting CSS: https://cdn.pydata.org/bokeh/release/bokeh-0.12.16.min.css\");\n",
       "      Bokeh.embed.inject_css(\"https://cdn.pydata.org/bokeh/release/bokeh-0.12.16.min.css\");\n",
       "      console.log(\"Bokeh: injecting CSS: https://cdn.pydata.org/bokeh/release/bokeh-widgets-0.12.16.min.css\");\n",
       "      Bokeh.embed.inject_css(\"https://cdn.pydata.org/bokeh/release/bokeh-widgets-0.12.16.min.css\");\n",
       "      console.log(\"Bokeh: injecting CSS: https://cdn.pydata.org/bokeh/release/bokeh-tables-0.12.16.min.css\");\n",
       "      Bokeh.embed.inject_css(\"https://cdn.pydata.org/bokeh/release/bokeh-tables-0.12.16.min.css\");\n",
       "    }\n",
       "  ];\n",
       "\n",
       "  function run_inline_js() {\n",
       "    \n",
       "    if ((root.Bokeh !== undefined) || (force === true)) {\n",
       "      for (var i = 0; i < inline_js.length; i++) {\n",
       "        inline_js[i].call(root, root.Bokeh);\n",
       "      }if (force === true) {\n",
       "        display_loaded();\n",
       "      }} else if (Date.now() < root._bokeh_timeout) {\n",
       "      setTimeout(run_inline_js, 100);\n",
       "    } else if (!root._bokeh_failed_load) {\n",
       "      console.log(\"Bokeh: BokehJS failed to load within specified timeout.\");\n",
       "      root._bokeh_failed_load = true;\n",
       "    } else if (force !== true) {\n",
       "      var cell = $(document.getElementById(\"d991147b-09da-4cd7-a96f-034a4659a544\")).parents('.cell').data().cell;\n",
       "      cell.output_area.append_execute_result(NB_LOAD_WARNING)\n",
       "    }\n",
       "\n",
       "  }\n",
       "\n",
       "  if (root._bokeh_is_loading === 0) {\n",
       "    console.log(\"Bokeh: BokehJS loaded, going straight to plotting\");\n",
       "    run_inline_js();\n",
       "  } else {\n",
       "    load_libs(js_urls, function() {\n",
       "      console.log(\"Bokeh: BokehJS plotting callback run at\", now());\n",
       "      run_inline_js();\n",
       "    });\n",
       "  }\n",
       "}(window));"
      ],
      "application/vnd.bokehjs_load.v0+json": "\n(function(root) {\n  function now() {\n    return new Date();\n  }\n\n  var force = true;\n\n  if (typeof (root._bokeh_onload_callbacks) === \"undefined\" || force === true) {\n    root._bokeh_onload_callbacks = [];\n    root._bokeh_is_loading = undefined;\n  }\n\n  \n\n  \n  if (typeof (root._bokeh_timeout) === \"undefined\" || force === true) {\n    root._bokeh_timeout = Date.now() + 5000;\n    root._bokeh_failed_load = false;\n  }\n\n  var NB_LOAD_WARNING = {'data': {'text/html':\n     \"<div style='background-color: #fdd'>\\n\"+\n     \"<p>\\n\"+\n     \"BokehJS does not appear to have successfully loaded. If loading BokehJS from CDN, this \\n\"+\n     \"may be due to a slow or bad network connection. Possible fixes:\\n\"+\n     \"</p>\\n\"+\n     \"<ul>\\n\"+\n     \"<li>re-rerun `output_notebook()` to attempt to load from CDN again, or</li>\\n\"+\n     \"<li>use INLINE resources instead, as so:</li>\\n\"+\n     \"</ul>\\n\"+\n     \"<code>\\n\"+\n     \"from bokeh.resources import INLINE\\n\"+\n     \"output_notebook(resources=INLINE)\\n\"+\n     \"</code>\\n\"+\n     \"</div>\"}};\n\n  function display_loaded() {\n    var el = document.getElementById(\"d991147b-09da-4cd7-a96f-034a4659a544\");\n    if (el != null) {\n      el.textContent = \"BokehJS is loading...\";\n    }\n    if (root.Bokeh !== undefined) {\n      if (el != null) {\n        el.textContent = \"BokehJS \" + root.Bokeh.version + \" successfully loaded.\";\n      }\n    } else if (Date.now() < root._bokeh_timeout) {\n      setTimeout(display_loaded, 100)\n    }\n  }\n\n\n  function run_callbacks() {\n    try {\n      root._bokeh_onload_callbacks.forEach(function(callback) { callback() });\n    }\n    finally {\n      delete root._bokeh_onload_callbacks\n    }\n    console.info(\"Bokeh: all callbacks have finished\");\n  }\n\n  function load_libs(js_urls, callback) {\n    root._bokeh_onload_callbacks.push(callback);\n    if (root._bokeh_is_loading > 0) {\n      console.log(\"Bokeh: BokehJS is being loaded, scheduling callback at\", now());\n      return null;\n    }\n    if (js_urls == null || js_urls.length === 0) {\n      run_callbacks();\n      return null;\n    }\n    console.log(\"Bokeh: BokehJS not loaded, scheduling load and callback at\", now());\n    root._bokeh_is_loading = js_urls.length;\n    for (var i = 0; i < js_urls.length; i++) {\n      var url = js_urls[i];\n      var s = document.createElement('script');\n      s.src = url;\n      s.async = false;\n      s.onreadystatechange = s.onload = function() {\n        root._bokeh_is_loading--;\n        if (root._bokeh_is_loading === 0) {\n          console.log(\"Bokeh: all BokehJS libraries loaded\");\n          run_callbacks()\n        }\n      };\n      s.onerror = function() {\n        console.warn(\"failed to load library \" + url);\n      };\n      console.log(\"Bokeh: injecting script tag for BokehJS library: \", url);\n      document.getElementsByTagName(\"head\")[0].appendChild(s);\n    }\n  };var element = document.getElementById(\"d991147b-09da-4cd7-a96f-034a4659a544\");\n  if (element == null) {\n    console.log(\"Bokeh: ERROR: autoload.js configured with elementid 'd991147b-09da-4cd7-a96f-034a4659a544' but no matching script tag was found. \")\n    return false;\n  }\n\n  var js_urls = [\"https://cdn.pydata.org/bokeh/release/bokeh-0.12.16.min.js\", \"https://cdn.pydata.org/bokeh/release/bokeh-widgets-0.12.16.min.js\", \"https://cdn.pydata.org/bokeh/release/bokeh-tables-0.12.16.min.js\", \"https://cdn.pydata.org/bokeh/release/bokeh-gl-0.12.16.min.js\"];\n\n  var inline_js = [\n    function(Bokeh) {\n      Bokeh.set_log_level(\"info\");\n    },\n    \n    function(Bokeh) {\n      \n    },\n    function(Bokeh) {\n      console.log(\"Bokeh: injecting CSS: https://cdn.pydata.org/bokeh/release/bokeh-0.12.16.min.css\");\n      Bokeh.embed.inject_css(\"https://cdn.pydata.org/bokeh/release/bokeh-0.12.16.min.css\");\n      console.log(\"Bokeh: injecting CSS: https://cdn.pydata.org/bokeh/release/bokeh-widgets-0.12.16.min.css\");\n      Bokeh.embed.inject_css(\"https://cdn.pydata.org/bokeh/release/bokeh-widgets-0.12.16.min.css\");\n      console.log(\"Bokeh: injecting CSS: https://cdn.pydata.org/bokeh/release/bokeh-tables-0.12.16.min.css\");\n      Bokeh.embed.inject_css(\"https://cdn.pydata.org/bokeh/release/bokeh-tables-0.12.16.min.css\");\n    }\n  ];\n\n  function run_inline_js() {\n    \n    if ((root.Bokeh !== undefined) || (force === true)) {\n      for (var i = 0; i < inline_js.length; i++) {\n        inline_js[i].call(root, root.Bokeh);\n      }if (force === true) {\n        display_loaded();\n      }} else if (Date.now() < root._bokeh_timeout) {\n      setTimeout(run_inline_js, 100);\n    } else if (!root._bokeh_failed_load) {\n      console.log(\"Bokeh: BokehJS failed to load within specified timeout.\");\n      root._bokeh_failed_load = true;\n    } else if (force !== true) {\n      var cell = $(document.getElementById(\"d991147b-09da-4cd7-a96f-034a4659a544\")).parents('.cell').data().cell;\n      cell.output_area.append_execute_result(NB_LOAD_WARNING)\n    }\n\n  }\n\n  if (root._bokeh_is_loading === 0) {\n    console.log(\"Bokeh: BokehJS loaded, going straight to plotting\");\n    run_inline_js();\n  } else {\n    load_libs(js_urls, function() {\n      console.log(\"Bokeh: BokehJS plotting callback run at\", now());\n      run_inline_js();\n    });\n  }\n}(window));"
     },
     "metadata": {},
     "output_type": "display_data"
    }
   ],
   "source": [
    "output_notebook()"
   ]
  },
  {
   "cell_type": "code",
   "execution_count": 125,
   "metadata": {
    "collapsed": true
   },
   "outputs": [],
   "source": [
    "def nongrey_makeup():\n",
    "    '''\n",
    "    Returns dataframe detailing the concentration\n",
    "    of each non-grey absorber in the atmosphere.\n",
    "    \n",
    "    Parameters\n",
    "    ----------\n",
    "    df: pd.DataFrame\n",
    "        Non-grey absorber concentrations by band.\n",
    "    '''\n",
    "    df = pd.DataFrame()                                                                                              \n",
    "                                                                                                                     \n",
    "    for band, molecule in nongreys_byband().items():                                                                 \n",
    "        for name, conc in molecule.items():                                                                          \n",
    "            df.loc[name, band] = str(conc)                                                                           \n",
    "                                                                                                                     \n",
    "    df = df.fillna(0)                                                                                                \n",
    "    df.columns.name = 'clirad band'                                                                                  \n",
    "    df.index.name = 'molecule'\n",
    "    return df\n"
   ]
  },
  {
   "cell_type": "code",
   "execution_count": 126,
   "metadata": {
    "collapsed": true
   },
   "outputs": [],
   "source": [
    "def clirad_params_atm_singlerun(atmpro='mls'):                                                                       \n",
    "    '''                                                                                                              \n",
    "    Define the input parameter dictionary (or `param`) of                                                            \n",
    "    a clirad-lw run and return it.                                                                                   \n",
    "                                                                                                                     \n",
    "    Parameters                                                                                                       \n",
    "    ----------                                                                                                       \n",
    "    atmpro: string                                                                                                   \n",
    "        Atmosphere profile.                                                                                          \n",
    "    '''                                                                                                              \n",
    "    param0 = {'band': [1, 2, 3, 4, 5, 6, 7, 8, 9, 10, 11],                                                           \n",
    "              'commitnumber': '8f82f9b',                                                                             \n",
    "              'molecule': {'ch4': 1.8e-06,                                                                           \n",
    "                           'co2': 0.0004,                                                                            \n",
    "                           'h2o': 'atmpro',                                                                          \n",
    "                           'n2o': 3.2e-07,                                                                           \n",
    "                           'o3': 'atmpro'}}                                                                          \n",
    "                                                                                                                     \n",
    "    d_atmpros = {'mls': 294, 'saw': 257, 'trp': 300}                                                                 \n",
    "                                                                                                                     \n",
    "    param = param0.copy()                                                                                            \n",
    "    param['atmpro'] = atmpro                                                                                         \n",
    "    param['tsfc'] = d_atmpros[atmpro]                                                                                \n",
    "                                                                                                                     \n",
    "    d = {}                                                                                                           \n",
    "    d['all'] = param                                                                                                 \n",
    "    return d"
   ]
  },
  {
   "cell_type": "code",
   "execution_count": 127,
   "metadata": {
    "collapsed": true
   },
   "outputs": [],
   "source": [
    "def fmt_cool(ds_in):                                                                                                 \n",
    "    '''                                                                                                              \n",
    "    Deal with dimensions that are not the 'pressure/layer'                                                           \n",
    "    dimension, to prepare the dataset for                                                                            \n",
    "    pressure vs cooling rate plots.                                                                                  \n",
    "                                                                                                                     \n",
    "    Parameters                                                                                                       \n",
    "    ----------                                                                                                       \n",
    "    ds_in: xarray.Dataset                                                                                            \n",
    "        Cooling rate.                                                                                                \n",
    "    '''                                                                                                              \n",
    "    ds = ds_in.copy(deep=True)                                                                                       \n",
    "    if 'igg' in ds.dims:                                                                                             \n",
    "        ds = ds.sel(igg=1)                                                                                           \n",
    "                                                                                                                     \n",
    "    if 'g' in ds.dims:                                                                                               \n",
    "        ds = ds.sum('g')                                                                                             \n",
    "                                                                                                                     \n",
    "    if 'i' in ds.dims:                                                                                               \n",
    "        ds = ds.sel(i=ds.dims['i'])                                                                                  \n",
    "                                                                                                                     \n",
    "    if 'band' in ds.dims:                                                                                            \n",
    "        try:                                                                                                         \n",
    "            ds = ds.squeeze('band')                                                                                  \n",
    "        except ValueError:                                                                                           \n",
    "            ds = ds.sum('band')                                                                                      \n",
    "    return ds['coolrg']"
   ]
  },
  {
   "cell_type": "code",
   "execution_count": 128,
   "metadata": {
    "scrolled": false
   },
   "outputs": [],
   "source": [
    "def data_to_csv():\n",
    "    '''\n",
    "    Save clirad-lw's flux and cooling rate to excel file.\n",
    "    '''\n",
    "    def fmt_flux(da_in):                                                                                                  \n",
    "        da = da_in.copy(deep=True)                                                                                   \n",
    "                                                                                                                     \n",
    "        if 'i' in da.dims:                                                                                           \n",
    "            da = da.sel(i=len(da['i']))                                                                              \n",
    "                                                                                                                     \n",
    "        if 'igg' in da.dims:                                                                                         \n",
    "            da = da.sel(igg=1)                                                                                       \n",
    "                                                                                                                     \n",
    "        if 'g' in da.dims:                                                                                           \n",
    "            da = da.sum('g')                                                                                         \n",
    "                                                                                                                     \n",
    "        if 'band' in da.dims:                                                                                        \n",
    "            try:                                                                                                     \n",
    "                da = da.squeeze('band')                                                                              \n",
    "            except ValueError:                                                                                       \n",
    "                da = da.sum('band')                                                                                  \n",
    "        return da\n",
    "\n",
    "    atmpros = ['mls', 'saw', 'trp']\n",
    "    fname = 'results_-_cliradlw_atm_nongreys.xlsx'\n",
    "    \n",
    "    with pd.ExcelWriter(fname) as writer:\n",
    "        \n",
    "        nongrey_makeup().to_excel(writer, 'ATM makeup')\n",
    "        \n",
    "        for atmpro in atmpros:\n",
    "            params_atm = clirad_params_atm_singlerun(atmpro=atmpro)\n",
    "            d_clirad_singlerun = cliraddata.clirad_data_atm(params_atm)\n",
    "    \n",
    "            # cooling rate\n",
    "            cool = d_clirad_singlerun['cool']\n",
    "            cool = fmt_cool(cool)\n",
    "            cool = cool.to_dataframe()\n",
    "    \n",
    "            # flux\n",
    "            flux = d_clirad_singlerun['flux']\n",
    "            flux = fmt_flux(flux)\n",
    "            flux = flux.to_dataframe()\n",
    "    \n",
    "            cool.to_excel(writer, '{} cooling rate'.format(atmpro))\n",
    "            flux.to_excel(writer, '{} flux'.format(atmpro))\n"
   ]
  },
  {
   "cell_type": "code",
   "execution_count": 129,
   "metadata": {
    "collapsed": true
   },
   "outputs": [],
   "source": [
    "def pltdata_cool(atmpro='mls'):                                                                                      \n",
    "    '''                                                                                                              \n",
    "    Prepare the plotting data for plotting cooling                                                                   \n",
    "    rate profiles that is compatible with                                                                            \n",
    "    plot_cool_bokeh(), and set the plot attibutes                                                                    \n",
    "    for each curve.                                                                                                  \n",
    "                                                                                                                     \n",
    "    Parameters                                                                                                       \n",
    "    ----------                                                                                                       \n",
    "    atmpro: string                                                                                                   \n",
    "        Atmosphere profile.                                                                                          \n",
    "    data: dict                                                                                                       \n",
    "        Plotting data. A list of dictionaries,                                                                       \n",
    "        each one containing the data and plot                                                                        \n",
    "        attributes for a curve.                                                                                      \n",
    "    '''                                                                                                              \n",
    "    params_atm = clirad_params_atm_singlerun(atmpro=atmpro)                                                          \n",
    "    d_clirad_singlerun = cliraddata.clirad_data_atm(params_atm)                                                      \n",
    "                                                                                                                     \n",
    "    params_atm = cliraddata.clirad_params_atm(atmpro=atmpro)                                                         \n",
    "    d_clirad = cliraddata.clirad_data_atm(params_atm)                                                                \n",
    "                                                                                                                     \n",
    "    params_atm = lbldata.lblnew_params_atm(atmpro=atmpro)                                                            \n",
    "    d_crd = lbldata.crd_data_atm(params_atm)                                                                         \n",
    "                                                                                                                     \n",
    "    ds_clirad_singlerun = d_clirad_singlerun['cool']                                                                 \n",
    "    ds_clirad = d_clirad['cool']                                                                                     \n",
    "    ds_crd = d_crd['cool']                                                                                           \n",
    "                                                                                                                     \n",
    "    colors = all_palettes['Set1'][4]\n",
    "    \n",
    "    data = [                                                                                                         \n",
    "        {'label': 'CLIRAD (single-run)',                                                                             \n",
    "        'srs': fmt_cool(ds_clirad_singlerun),                                                                        \n",
    "        'line_dash': 'dashed', 'line_width': 5,                                                                      \n",
    "        'color': colors[1], 'alpha': .6},                                                                            \n",
    "        {'label': 'CRD',                                                                                             \n",
    "         'srs': fmt_cool(ds_crd),                                                                                    \n",
    "         'line_dash': 'solid', 'line_width': 1.5,                                                                    \n",
    "         'marker': 'circle', 'marker_size': 5,                                                                       \n",
    "         'color': colors[2], 'alpha': 1}                                                                             \n",
    "    ]                                                                                                                \n",
    "#        {'label': 'CLIRAD',                                                                                         \n",
    "#         'srs': fmt_cool(ds_clirad),                                                                                \n",
    "#         'line_dash': 'dashed', 'line_width': 5,                                                                    \n",
    "#         'color': colors[0], 'alpha': .6}                                                                           \n",
    "                                                                                                                     \n",
    "    return data    "
   ]
  },
  {
   "cell_type": "code",
   "execution_count": 130,
   "metadata": {
    "collapsed": true
   },
   "outputs": [],
   "source": [
    "def pltdata_cooldiff(atmpro='mls'):                                                                                  \n",
    "    '''                                                                                                              \n",
    "    Prepare the plotting data for plotting cooling                                                                   \n",
    "    rate difference profiles that is compatible with                                                                 \n",
    "    plot_cool_bokeh(), and set the plot attibutes                                                                    \n",
    "    for each curve.                                                                                                  \n",
    "                                                                                                                     \n",
    "    Parameters                                                                                                       \n",
    "    ----------                                                                                                       \n",
    "    atmpro: string                                                                                                   \n",
    "        Atmosphere profile.                                                                                          \n",
    "    data: dict                                                                                                       \n",
    "        Plotting data. A list of dictionaries,                                                                       \n",
    "        each one containing the data and plot                                                                        \n",
    "        attributes for a curve.                                                                                      \n",
    "    '''\n",
    "    params_atm = clirad_params_atm_singlerun(atmpro=atmpro)\n",
    "    d_clirad_singlerun = cliraddata.clirad_data_atm(params_atm)\n",
    "    \n",
    "    params_atm = cliraddata.clirad_params_atm(atmpro=atmpro)\n",
    "    d_clirad = cliraddata.clirad_data_atm(params_atm)                               \n",
    "    \n",
    "    params_atm = lbldata.lblnew_params_atm(atmpro=atmpro)\n",
    "    d_crd = lbldata.crd_data_atm(params_atm)                                           \n",
    "                                                                                                                     \n",
    "    ds_clirad_singlerun = d_clirad_singlerun['cool']                                                                 \n",
    "    ds_clirad = d_clirad['cool']                                                                                     \n",
    "    ds_crd = d_crd['cool']                                                                                           \n",
    "                                                                                                                     \n",
    "    ds_diff = ds_clirad_singlerun - ds_crd                                                                           \n",
    "                                                                                                                     \n",
    "    colors = all_palettes['Set1'][4]                                                                                 \n",
    "                                                                                                                     \n",
    "    data = [                                                                                                         \n",
    "        {'label': 'CLIRAD (single-run) - CRD',                                                                       \n",
    "         'srs': fmt_cool(ds_diff),                                                                                   \n",
    "         'line_dash': 'solid', 'line_width': 1.5,                                                                    \n",
    "         'marker': 'circle', 'marker_size': 7,                                                                       \n",
    "         'color': colors[3], 'alpha': .8}                                                                            \n",
    "    ]                                                                                                                \n",
    "    return data"
   ]
  },
  {
   "cell_type": "code",
   "execution_count": 131,
   "metadata": {
    "collapsed": true
   },
   "outputs": [],
   "source": [
    "def show_cool(atmpro='mls'):                                                                                         \n",
    "    '''                                                                                                              \n",
    "    Produce figure with the following panes:                                                                         \n",
    "      1. Cooling rate profiles with linear pressure-axis.                                                            \n",
    "      2. Cooling rate profile with log pressure-axis.                                                                \n",
    "      3. Coolling rate profile difference with log                                                                   \n",
    "         pressure-axis.                                                                                              \n",
    "    and display the figure.                                                                                          \n",
    "                                                                                                                     \n",
    "    Parameters                                                                                                       \n",
    "    ----------                                                                                                       \n",
    "    atmpro: string                                                                                                   \n",
    "        Atmosphere profile.                                                                                          \n",
    "    ''' \n",
    "    pltfunc = plot.plt_vert_profile_bokeh\n",
    "    \n",
    "    data_cool = pltdata_cool(atmpro=atmpro)                                                                          \n",
    "    p_cool_liny = pltfunc(pltdata=data_cool)                                                     \n",
    "    p_cool_logy = pltfunc(pltdata=data_cool, \n",
    "                          y_axis_type='log', \n",
    "                          prange=(.01, 200))                                                                  \n",
    "                                                                                                                     \n",
    "    data_cooldiff = pltdata_cooldiff(atmpro=atmpro)                                                                  \n",
    "    p_cooldiff_logy = pltfunc(pltdata=data_cooldiff,                                             \n",
    "                              y_axis_type='log',                                                              \n",
    "                              prange=(.01, 200))                                                              \n",
    "                                                                                                                     \n",
    "    everything = gridplot(p_cool_liny, p_cool_logy,                                                                  \n",
    "                          p_cooldiff_logy,                                                                           \n",
    "                          ncols=3)                                                                                   \n",
    "    show(everything)                                                                                                 \n",
    "    display.display(                                                                                                 \n",
    "        display.Markdown('*FIGURE.* Cooling rates & difference.'))"
   ]
  },
  {
   "cell_type": "code",
   "execution_count": 132,
   "metadata": {
    "collapsed": true
   },
   "outputs": [],
   "source": [
    "def show_hist_flux(atmpro='mls'):                                                                                    \n",
    "    '''                                                                                                              \n",
    "    Display figure with the following band-vs-flux                                                                   \n",
    "    histograms:                                                                                                      \n",
    "        1. Upward flux at TOA. CLIRAD - CRD.                                                                         \n",
    "        2. Downward flux at surface. CLIRAD- CRD.                                                                    \n",
    "        3. Atmosphere heating.  CLIRAD - CRD.                                                                        \n",
    "                                                                                                                     \n",
    "    Parameters                                                                                                       \n",
    "    ----------                                                                                                       \n",
    "    atmpro: string                                                                                                   \n",
    "        Atmosphere profile.                                                                                          \n",
    "    '''                                                                                                              \n",
    "    def fmt(da_in):                                                                                                  \n",
    "        da = da_in.copy(deep=True)                                                                                   \n",
    "                                                                                                                     \n",
    "        if 'i' in da.dims:                                                                                           \n",
    "            da = da.sel(i=len(da['i']))                                                                              \n",
    "                                                                                                                     \n",
    "        if 'igg' in da.dims:                                                                                         \n",
    "            da = da.sel(igg=1)                                                                                       \n",
    "                                                                                                                     \n",
    "        if 'g' in da.dims:                                                                                           \n",
    "            da = da.sum('g')                                                                                         \n",
    "        return da\n",
    "    \n",
    "    params_atm = lbldata.lblnew_params_atm(atmpro=atmpro)\n",
    "    ds_crd = lbldata.crd_data_atm(params_atm)['flux']\n",
    "    \n",
    "    params_atm = cliraddata.clirad_params_atm(atmpro=atmpro)\n",
    "    ds_clirad = cliraddata.clirad_data_atm(params_atm)['flux']\n",
    "    \n",
    "    params_atm = clirad_params_atm_singlerun(atmpro=atmpro)\n",
    "    ds_clirad_singlerun = cliraddata.clirad_data_atm(params_atm)['flux']                                                          \n",
    "                                                                                                                     \n",
    "    ip, varname = 0, 'flug'                                                                                          \n",
    "    da = (ds_clirad_singlerun - ds_crd).isel(pressure=ip)[varname]                                                   \n",
    "    da = fmt(da)                                                                                                     \n",
    "    p_toa = plot.hist_band_vs_flux(da,                                                                               \n",
    "        title='TOA flux. CLIRAD (single-run) - CRD.')                                                                \n",
    "                                                                                                                     \n",
    "    ip, varname = -1, 'fldg'                                                                                         \n",
    "    da = (ds_clirad_singlerun - ds_crd).isel(pressure=ip)[varname]                                                   \n",
    "    da = fmt(da)                                                                                                     \n",
    "    p_sfc = plot.hist_band_vs_flux(da,                                                                               \n",
    "        title='SFC flux. CLIRAD (single-run) - CRD.')                                                                \n",
    "                                                                                                                     \n",
    "    atm_crd = (ds_crd.isel(pressure=0)                                                                               \n",
    "               - ds_crd.isel(pressure=-1))['fnetg']                                                                  \n",
    "    atm_clirad_singlerun = (ds_clirad_singlerun.isel(pressure=0)                                                     \n",
    "                  - ds_clirad_singlerun.isel(pressure=-1))['fnetg']                                                  \n",
    "    da = atm_clirad_singlerun - atm_crd                                                                              \n",
    "    da = fmt(da)                                                                                                     \n",
    "    p_atm = plot.hist_band_vs_flux(da,                                                                               \n",
    "        title='Atmosphere heating. CLIRAD (single-run) - CRD.')                                                      \n",
    "                                                                                                                     \n",
    "    everything = gridplot(p_toa, p_sfc, p_atm, ncols=3,                                                              \n",
    "                          plot_width=300, plot_height=300)                                                           \n",
    "                                                                                                                     \n",
    "    show(everything)                                                                                                 \n",
    "    display.display(                                                                                                 \n",
    "        display.Markdown('*FIGURE.* Difference between CLIRAD and CRD'                                               \n",
    "          ' in TOA, SFC and net atmosphere flux,'                                                                    \n",
    "          ' in each spectral band.'))"
   ]
  },
  {
   "cell_type": "code",
   "execution_count": 133,
   "metadata": {
    "collapsed": true
   },
   "outputs": [],
   "source": [
    "def show_tb_flux(atmpro='mls'):                                                                                      \n",
    "    '''                                                                                                              \n",
    "    Display the table:                                                                                               \n",
    "    --------------------------------------------------------------------                                             \n",
    "                      | up flux at TOA | down flux at SFC | atm heating                                              \n",
    "    --------------------------------------------------------------------                                             \n",
    "    clirad (sum) - CRD|                |                  |                                                          \n",
    "    clirad - CRD      |                |                  |                                                          \n",
    "    CRD               |                |                  |                                                          \n",
    "    --------------------------------------------------------------------                                             \n",
    "                                                                                                                     \n",
    "    Parameters                                                                                                       \n",
    "    ----------                                                                                                       \n",
    "    atmpro: string                                                                                                   \n",
    "        Atmosphere profile.                                                                                          \n",
    "    ''' \n",
    "    def fmt(da_in):                                                                                                  \n",
    "        da = da_in.copy(deep=True)                                                                                   \n",
    "                                                                                                                     \n",
    "        if 'i' in da.dims:                                                                                           \n",
    "            da = da.sel(i=len(da['i']))                                                                              \n",
    "                                                                                                                     \n",
    "        if 'igg' in da.dims:                                                                                         \n",
    "            da = da.sel(igg=1)                                                                                       \n",
    "                                                                                                                     \n",
    "        if 'g' in da.dims:                                                                                           \n",
    "            da = da.sum('g')                                                                                         \n",
    "                                                                                                                     \n",
    "        if 'band' in da.dims:                                                                                        \n",
    "            try:                                                                                                     \n",
    "                da = da.squeeze('band')                                                                              \n",
    "            except ValueError:                                                                                       \n",
    "                da = da.sum('band')                                                                                  \n",
    "        return da                                                                                                    \n",
    "\n",
    "    params_atm = lbldata.lblnew_params_atm(atmpro=atmpro)\n",
    "    ds_crd = lbldata.crd_data_atm(params_atm)['flux']                                  \n",
    "    olr_crd = ds_crd['flug'].isel(pressure=0)                                                                        \n",
    "    sfc_crd = ds_crd['fldg'].isel(pressure=-1)                                                                       \n",
    "    atm_crd = (ds_crd.isel(pressure=0)                                                                               \n",
    "               - ds_crd.isel(pressure=-1))['fnetg']                                                                  \n",
    "    \n",
    "    params_atm = cliraddata.clirad_params_atm(atmpro=atmpro)\n",
    "    ds_clirad = cliraddata.clirad_data_atm(params_atm)['flux']                                                         \n",
    "    olr_clirad = ds_clirad['flug'].isel(pressure=0)                                                                  \n",
    "    sfc_clirad = ds_clirad['fldg'].isel(pressure=-1)                                                                 \n",
    "    atm_clirad = (ds_clirad.isel(pressure=0)                                                                         \n",
    "                  - ds_clirad.isel(pressure=-1))['fnetg']                                                            \n",
    "    \n",
    "    params_atm = clirad_params_atm_singlerun(atmpro=atmpro)\n",
    "    ds_clirad_singlerun = cliraddata.clirad_data_atm(params_atm)['flux']                                                          \n",
    "    olr_clirad_singlerun = ds_clirad_singlerun['flug'].isel(pressure=0)                                              \n",
    "    sfc_clirad_singlerun = ds_clirad_singlerun['fldg'].isel(pressure=-1)                                             \n",
    "    atm_clirad_singlerun = (ds_clirad_singlerun.isel(pressure=0)                                                     \n",
    "                  - ds_clirad_singlerun.isel(pressure=-1))['fnetg']\n",
    "    \n",
    "    df = pd.DataFrame()                                                                                              \n",
    "    df.index.name = 'Sum over bands'                                                                                 \n",
    "                                                                                                                     \n",
    "    df.loc['CLIRAD (single-run) - CRD',                                                                              \n",
    "           'OLR flux'] = (fmt(olr_clirad_singlerun)                                                                  \n",
    "                          - fmt(olr_crd)).values                                                                     \n",
    "    df.loc['CLIRAD (single-run) - CRD',                                                                              \n",
    "           'SFC flux'] = (fmt(sfc_clirad_singlerun)                                                                  \n",
    "                          - fmt(sfc_crd)).values                                                                     \n",
    "    df.loc['CLIRAD (single-run) - CRD',                                                                              \n",
    "           'ATM heating'] = (fmt(atm_clirad_singlerun)                                                               \n",
    "                             - fmt(atm_crd)).values                                                                  \n",
    "                                                                                                                     \n",
    "    df.loc['CRD', 'OLR flux'] = fmt(olr_crd).values                                                                  \n",
    "    df.loc['CRD', 'SFC flux'] = fmt(sfc_crd).values                                                                  \n",
    "    df.loc['CRD', 'ATM heating'] = fmt(atm_crd).values                                                               \n",
    "                                                                                                                     \n",
    "    df = df.astype('float').round(2)                                                                                 \n",
    "                                                                                                                     \n",
    "    display.display(df)                                                                                              \n",
    "    display.display(                                                                                                 \n",
    "        display.Markdown('*TABLE.* Difference between CLIRAD and CRD'                                                \n",
    "          ' in TOA, SFC and net atmosphere flux,'                                                                    \n",
    "          ' over all spectral bands. CRD\\'s'                                                                         \n",
    "          ' TOA, SFC and net atmosphere flux,'                                                                       \n",
    "          ' over all spectral bands.'))    \n",
    "    "
   ]
  },
  {
   "cell_type": "code",
   "execution_count": 134,
   "metadata": {
    "collapsed": true
   },
   "outputs": [],
   "source": [
    "def show_nongrey_makeup():                                                                                                   \n",
    "    '''                                                                                                              \n",
    "    Display table showing the concentrations                                                                         \n",
    "    of the gases in each spectral band                                                                               \n",
    "    '''                                                                                                              \n",
    "    df = nongrey_makeup()                                                                                           \n",
    "    display.display(df)                                                                                             \n",
    "    display.display(                                                                                                 \n",
    "        display.Markdown('*TABLE.* Non-grey absorbers in the atmosphere.'))"
   ]
  },
  {
   "cell_type": "code",
   "execution_count": 135,
   "metadata": {
    "collapsed": true
   },
   "outputs": [],
   "source": [
    "def show_grey_makeup():                                                                                              \n",
    "    df = pd.DataFrame()                                                                                              \n",
    "                                                                                                                     \n",
    "    for band, molecule in greys_byband().items():                                                                    \n",
    "        if molecule == None:                                                                                         \n",
    "            pass                                                                                                     \n",
    "        else:                                                                                                        \n",
    "            for name, conc in molecule.items():                                                                      \n",
    "                df.loc[name, band] = str(conc)                                                                       \n",
    "                                                                                                                     \n",
    "    df = df.fillna(0)                                                                                                \n",
    "    df.columns.name = 'clirad band'                                                                                  \n",
    "    df.index.name = 'absorber'                                                                                       \n",
    "                                                                                                                     \n",
    "    display.display(df)                                                                                              \n",
    "    display.display(                                                                                                 \n",
    "        display.Markdown('*TABLE.* Grey absorbers in the atmosphere.')                                               \n",
    "        )"
   ]
  },
  {
   "cell_type": "code",
   "execution_count": 136,
   "metadata": {
    "collapsed": true
   },
   "outputs": [],
   "source": [
    "def show_html(s):                                                                                                    \n",
    "    display.display(display.HTML(s))                                                                                 \n",
    "                                                                                                                     \n",
    "                                                                                                                     \n",
    "                                                                                                                     \n",
    "def show_markdown(s):                                                                                                \n",
    "    display.display(display.Markdown(s))"
   ]
  },
  {
   "cell_type": "code",
   "execution_count": 137,
   "metadata": {
    "collapsed": true
   },
   "outputs": [],
   "source": [
    "def script():                                                                                                        \n",
    "    d_atm = {'mls': 'mid-latitude summer',                                                                           \n",
    "             'saw': 'sub-arctic winter',                                                                             \n",
    "             'trp': 'tropical'}                                                                                      \n",
    "                                                                                                                     \n",
    "    title = ('## Results over entire range of molecules'                                                             \n",
    "             ' and spectral bands')                                                                                  \n",
    "                                                                                                                     \n",
    "    s_makeup = 'Makeup of atmosphere.'                                                                               \n",
    "    s_atmpro = '# {}'                                                                                                \n",
    "    s_cool = 'Cooling rates. {}.'                                                                                    \n",
    "    s_flux = 'Fluxes. {}.'                                                                                           \n",
    "                                                                                                                     \n",
    "    atmpros = ['mls', 'saw', 'trp']                                                                                  \n",
    "                                                                                                                     \n",
    "    # TOC                                                                                                            \n",
    "    show_markdown(title)                                                                                             \n",
    "    show_markdown('### Table of Contents')                                                                           \n",
    "    show_html(climahtml.getHTML_hrefanchor(s_makeup))                                                                \n",
    "    for atmpro in atmpros:                                                                                           \n",
    "        show_markdown('**' + d_atm[atmpro] + '**')                                                                   \n",
    "        show_html(climahtml.getHTML_hrefanchor(s_cool.format(atmpro)))                                               \n",
    "        show_html(climahtml.getHTML_hrefanchor(s_flux.format(atmpro)))                                               \n",
    "                                                                                                                     \n",
    "                                                                                                                     \n",
    "    # Atmosphere makeup                                                                                              \n",
    "    show_html(climahtml.getHTML_idanchor(s_makeup))                                                                  \n",
    "    show_markdown(climahtml.getMarkdown_sectitle(s_makeup))                                                          \n",
    "    show_nongrey_makeup()\n",
    "    \n",
    "    for atmpro in atmpros:                                                                                           \n",
    "        show_html(climahtml.getHTML_idanchor(s_cool.format(atmpro)))                                                 \n",
    "        show_markdown(                                                                                               \n",
    "            climahtml.getMarkdown_sectitle(s_cool.format(atmpro)))                                                   \n",
    "        show_cool(atmpro=atmpro)                                                                                     \n",
    "        show_html(climahtml.getHTML_idanchor(s_flux.format(atmpro)))                                                 \n",
    "        show_markdown(                                                                                               \n",
    "            climahtml.getMarkdown_sectitle(s_flux.format(atmpro)))                                                   \n",
    "        show_hist_flux(atmpro=atmpro)                                                                                \n",
    "        show_tb_flux(atmpro=atmpro)"
   ]
  },
  {
   "cell_type": "code",
   "execution_count": 138,
   "metadata": {
    "scrolled": false
   },
   "outputs": [
    {
     "data": {
      "text/markdown": [
       "## Results over entire range of molecules and spectral bands"
      ],
      "text/plain": [
       "<IPython.core.display.Markdown object>"
      ]
     },
     "metadata": {},
     "output_type": "display_data"
    },
    {
     "data": {
      "text/markdown": [
       "### Table of Contents"
      ],
      "text/plain": [
       "<IPython.core.display.Markdown object>"
      ]
     },
     "metadata": {},
     "output_type": "display_data"
    },
    {
     "data": {
      "text/html": [
       "<a href=\"#Makeup_of_atmosphere.\">Makeup of atmosphere.</a>"
      ],
      "text/plain": [
       "<IPython.core.display.HTML object>"
      ]
     },
     "metadata": {},
     "output_type": "display_data"
    },
    {
     "data": {
      "text/markdown": [
       "**mid-latitude summer**"
      ],
      "text/plain": [
       "<IPython.core.display.Markdown object>"
      ]
     },
     "metadata": {},
     "output_type": "display_data"
    },
    {
     "data": {
      "text/html": [
       "<a href=\"#Cooling_rates._mls.\">Cooling rates. mls.</a>"
      ],
      "text/plain": [
       "<IPython.core.display.HTML object>"
      ]
     },
     "metadata": {},
     "output_type": "display_data"
    },
    {
     "data": {
      "text/html": [
       "<a href=\"#Fluxes._mls.\">Fluxes. mls.</a>"
      ],
      "text/plain": [
       "<IPython.core.display.HTML object>"
      ]
     },
     "metadata": {},
     "output_type": "display_data"
    },
    {
     "data": {
      "text/markdown": [
       "**sub-arctic winter**"
      ],
      "text/plain": [
       "<IPython.core.display.Markdown object>"
      ]
     },
     "metadata": {},
     "output_type": "display_data"
    },
    {
     "data": {
      "text/html": [
       "<a href=\"#Cooling_rates._saw.\">Cooling rates. saw.</a>"
      ],
      "text/plain": [
       "<IPython.core.display.HTML object>"
      ]
     },
     "metadata": {},
     "output_type": "display_data"
    },
    {
     "data": {
      "text/html": [
       "<a href=\"#Fluxes._saw.\">Fluxes. saw.</a>"
      ],
      "text/plain": [
       "<IPython.core.display.HTML object>"
      ]
     },
     "metadata": {},
     "output_type": "display_data"
    },
    {
     "data": {
      "text/markdown": [
       "**tropical**"
      ],
      "text/plain": [
       "<IPython.core.display.Markdown object>"
      ]
     },
     "metadata": {},
     "output_type": "display_data"
    },
    {
     "data": {
      "text/html": [
       "<a href=\"#Cooling_rates._trp.\">Cooling rates. trp.</a>"
      ],
      "text/plain": [
       "<IPython.core.display.HTML object>"
      ]
     },
     "metadata": {},
     "output_type": "display_data"
    },
    {
     "data": {
      "text/html": [
       "<a href=\"#Fluxes._trp.\">Fluxes. trp.</a>"
      ],
      "text/plain": [
       "<IPython.core.display.HTML object>"
      ]
     },
     "metadata": {},
     "output_type": "display_data"
    },
    {
     "data": {
      "text/html": [
       "<a id=\"Makeup_of_atmosphere.\"></a>"
      ],
      "text/plain": [
       "<IPython.core.display.HTML object>"
      ]
     },
     "metadata": {},
     "output_type": "display_data"
    },
    {
     "data": {
      "text/markdown": [
       "# Makeup of atmosphere."
      ],
      "text/plain": [
       "<IPython.core.display.Markdown object>"
      ]
     },
     "metadata": {},
     "output_type": "display_data"
    },
    {
     "data": {
      "text/html": [
       "<div>\n",
       "<style scoped>\n",
       "    .dataframe tbody tr th:only-of-type {\n",
       "        vertical-align: middle;\n",
       "    }\n",
       "\n",
       "    .dataframe tbody tr th {\n",
       "        vertical-align: top;\n",
       "    }\n",
       "\n",
       "    .dataframe thead th {\n",
       "        text-align: right;\n",
       "    }\n",
       "</style>\n",
       "<table border=\"1\" class=\"dataframe\">\n",
       "  <thead>\n",
       "    <tr style=\"text-align: right;\">\n",
       "      <th>clirad band</th>\n",
       "      <th>1</th>\n",
       "      <th>2</th>\n",
       "      <th>3</th>\n",
       "      <th>4</th>\n",
       "      <th>5</th>\n",
       "      <th>6</th>\n",
       "      <th>7</th>\n",
       "      <th>8</th>\n",
       "      <th>9</th>\n",
       "      <th>10</th>\n",
       "      <th>11</th>\n",
       "    </tr>\n",
       "    <tr>\n",
       "      <th>molecule</th>\n",
       "      <th></th>\n",
       "      <th></th>\n",
       "      <th></th>\n",
       "      <th></th>\n",
       "      <th></th>\n",
       "      <th></th>\n",
       "      <th></th>\n",
       "      <th></th>\n",
       "      <th></th>\n",
       "      <th></th>\n",
       "      <th></th>\n",
       "    </tr>\n",
       "  </thead>\n",
       "  <tbody>\n",
       "    <tr>\n",
       "      <th>h2o</th>\n",
       "      <td>atmpro</td>\n",
       "      <td>atmpro</td>\n",
       "      <td>atmpro</td>\n",
       "      <td>atmpro</td>\n",
       "      <td>atmpro</td>\n",
       "      <td>atmpro</td>\n",
       "      <td>atmpro</td>\n",
       "      <td>atmpro</td>\n",
       "      <td>atmpro</td>\n",
       "      <td>atmpro</td>\n",
       "      <td>atmpro</td>\n",
       "    </tr>\n",
       "    <tr>\n",
       "      <th>co2</th>\n",
       "      <td>0</td>\n",
       "      <td>0</td>\n",
       "      <td>0.0004</td>\n",
       "      <td>0.0004</td>\n",
       "      <td>0.0004</td>\n",
       "      <td>0.0004</td>\n",
       "      <td>0.0004</td>\n",
       "      <td>0</td>\n",
       "      <td>0</td>\n",
       "      <td>0</td>\n",
       "      <td>0.0004</td>\n",
       "    </tr>\n",
       "    <tr>\n",
       "      <th>n2o</th>\n",
       "      <td>0</td>\n",
       "      <td>0</td>\n",
       "      <td>3.2e-07</td>\n",
       "      <td>0</td>\n",
       "      <td>0</td>\n",
       "      <td>0</td>\n",
       "      <td>0</td>\n",
       "      <td>0</td>\n",
       "      <td>3.2e-07</td>\n",
       "      <td>0</td>\n",
       "      <td>0</td>\n",
       "    </tr>\n",
       "    <tr>\n",
       "      <th>o3</th>\n",
       "      <td>0</td>\n",
       "      <td>0</td>\n",
       "      <td>0</td>\n",
       "      <td>0</td>\n",
       "      <td>0</td>\n",
       "      <td>0</td>\n",
       "      <td>atmpro</td>\n",
       "      <td>0</td>\n",
       "      <td>0</td>\n",
       "      <td>0</td>\n",
       "      <td>0</td>\n",
       "    </tr>\n",
       "    <tr>\n",
       "      <th>ch4</th>\n",
       "      <td>0</td>\n",
       "      <td>0</td>\n",
       "      <td>0</td>\n",
       "      <td>0</td>\n",
       "      <td>0</td>\n",
       "      <td>0</td>\n",
       "      <td>0</td>\n",
       "      <td>0</td>\n",
       "      <td>1.8e-06</td>\n",
       "      <td>0</td>\n",
       "      <td>0</td>\n",
       "    </tr>\n",
       "  </tbody>\n",
       "</table>\n",
       "</div>"
      ],
      "text/plain": [
       "clirad band      1       2        3       4       5       6       7       8   \\\n",
       "molecule                                                                       \n",
       "h2o          atmpro  atmpro   atmpro  atmpro  atmpro  atmpro  atmpro  atmpro   \n",
       "co2               0       0   0.0004  0.0004  0.0004  0.0004  0.0004       0   \n",
       "n2o               0       0  3.2e-07       0       0       0       0       0   \n",
       "o3                0       0        0       0       0       0  atmpro       0   \n",
       "ch4               0       0        0       0       0       0       0       0   \n",
       "\n",
       "clirad band       9       10      11  \n",
       "molecule                              \n",
       "h2o           atmpro  atmpro  atmpro  \n",
       "co2                0       0  0.0004  \n",
       "n2o          3.2e-07       0       0  \n",
       "o3                 0       0       0  \n",
       "ch4          1.8e-06       0       0  "
      ]
     },
     "metadata": {},
     "output_type": "display_data"
    },
    {
     "data": {
      "text/markdown": [
       "*TABLE.* Non-grey absorbers in the atmosphere."
      ],
      "text/plain": [
       "<IPython.core.display.Markdown object>"
      ]
     },
     "metadata": {},
     "output_type": "display_data"
    },
    {
     "data": {
      "text/html": [
       "<a id=\"Cooling_rates._mls.\"></a>"
      ],
      "text/plain": [
       "<IPython.core.display.HTML object>"
      ]
     },
     "metadata": {},
     "output_type": "display_data"
    },
    {
     "data": {
      "text/markdown": [
       "# Cooling rates. mls."
      ],
      "text/plain": [
       "<IPython.core.display.Markdown object>"
      ]
     },
     "metadata": {},
     "output_type": "display_data"
    },
    {
     "data": {
      "text/html": [
       "\n",
       "<div class=\"bk-root\">\n",
       "    <div class=\"bk-plotdiv\" id=\"750edea8-7873-479e-b6e7-9e9139c1bd1a\"></div>\n",
       "</div>"
      ]
     },
     "metadata": {},
     "output_type": "display_data"
    },
    {
     "data": {
      "application/javascript": [
       "(function(root) {\n",
       "  function embed_document(root) {\n",
       "    \n",
       "  var docs_json = {\"57c61460-790e-4d46-b74c-7b7ef806545e\":{\"roots\":{\"references\":[{\"attributes\":{},\"id\":\"28e114b7-4a22-4bdf-939e-d7e2d55b55ec\",\"type\":\"ResetTool\"},{\"attributes\":{\"overlay\":{\"id\":\"a6a571d1-4b17-4185-a7fb-234464f781a8\",\"type\":\"BoxAnnotation\"}},\"id\":\"e8406b29-0696-4ac0-a6bd-4fc4354075bf\",\"type\":\"BoxZoomTool\"},{\"attributes\":{\"callback\":null,\"data\":{\"x\":{\"__ndarray__\":\"cm1sTMT3VEDEyvjosEJHQOKI6DjzCUNArgQWV9awPkB9Lm8XG3M4QEz+Qv6iYzNA7eV8HaPLLkCX1QHyTpMoQFBmYSYetiNAUB04GtGpH0AmFyVE5j8ZQJca9QPGqBNALJP+OOHHDEBNxaf7QF8AQKtislomWuw/cW2dcO6A9T/uJJvfPu0EQIaQLTI/JQ1AxGiII+PmEkCJvfVeuCsYQD6ZBhGbHB9AXQw69DTYJEAsubcwKucqQNuT9D5OmipAJyi3szEJJUBlNebh5WkgQDDcPHBr2xlArtlANXuQFEBdJadFHckQQI2Avh0ZsQtAjYiwt1rsBUCL0SDoVBgAQK6C0nEEjvc/CggLSme58T9sXU2orFPnP0v0JYz9Gdg/vT38vxYczD9nBQTe6kHHP1IhkEXJwKo/8OZnhCVAub+xtVgCpmqzP6DUpY6g0+k/PKK3T1h4+D8RTDjQc1EAQG/dAQs7TwJAQt2eHpPLAEBWEh074x//PyCap9ZSGf4/rEzaTySm/T+7aXhHRmr9P688KeqeNP0/ruZ4EemD/D8olrZcn9T7P0+vNc9hW/s/i9VVL+4P+z+0NzC24uz6P8731Kza8vo/xFf4SHzq+z+gYyHpvHb8P68ROkiFevw/BAjYdCga/D8AUp8VbW77P3JrF/nKmvo/qCQeGfq++T/dplwHJfn4P2G4p+Uva/g/OzZ0RqMZ+D8dmn/iar73P/OuA7Ka8PY/gaaeQHGn9T9hkyjAH1L0P3aZGhdAU/M/n8VP/g7P8j+90HxHNvfyPwhNBtgrqvk/\",\"dtype\":\"float64\",\"shape\":[75]},\"y\":{\"__ndarray__\":\"GhExyth1ND/Sv8nbtpRIP2vylNV0PVE/aTum7souWD/At0SJ8fVgPw3Iuahxymc/MSNhhJWvcD/bTfBN02d3P2zb5nxnaoA/CD5h5MAGhz8NmeH1TyaQP+zrCsc9p5Y/LbKd76fGnz/bLW5ISEmmPww9YvTcQq8/JV2OstnstT8Er5Y7M8G+P0c+r3jqkcU/5h99k6ZBzj88bCIzFzjVP4enV8oyxN0//yH99nXg5D8qOpLLf0jtP5kqGJXUifQ/c9cS8kHP/D+/DpwzojQEQIEmwoanVwxA4lgXt9HgE0BSSZ2AJuIbQAMJih9jjiNA5q4l5INuK0AwTKYKRj0zQNv5fmq8/DpAaCJseHrtQkB/+zpwzoxKQM3MzMzMeFJAZmZmZmZqWEAAAAAAAFxeQM3MzMzMJmJAmpmZmZkfZUBmZmZmZhhoQDMzMzMzEWtAAAAAAAAKbkBmZmZmZoFwQM3MzMzM/XFAMzMzMzN6c0CamZmZmfZ0QAAAAAAAc3ZAZmZmZmbvd0DNzMzMzGt5QDMzMzMz6HpAmpmZmZlkfEAAAAAAAOF9QGZmZmZmXX9AZmZmZuZsgECamZmZGSuBQM3MzMxM6YFAAAAAAICngkAzMzMzs2WDQGZmZmbmI4RAmpmZmRnihEDNzMzMTKCFQAAAAACAXoZAMzMzM7Mch0BmZmZm5tqHQJqZmZkZmYhAzczMzExXiUAAAAAAgBWKQDMzMzOz04pAZmZmZuaRi0CamZmZGVCMQM3MzMxMDo1AAAAAAIDMjUAzMzMzs4qOQGZmZmbmSI9A\",\"dtype\":\"float64\",\"shape\":[75]}},\"selected\":{\"id\":\"f500c570-82ff-4118-8a10-4aef7134deb9\",\"type\":\"Selection\"},\"selection_policy\":{\"id\":\"6600cda9-b8ae-4e15-a96a-85dfa9c4268a\",\"type\":\"UnionRenderers\"}},\"id\":\"0286a5a8-e3df-462f-91c9-88b61adf263e\",\"type\":\"ColumnDataSource\"},{\"attributes\":{},\"id\":\"6672729f-1789-4245-9263-edff81aaf3d9\",\"type\":\"HelpTool\"},{\"attributes\":{\"source\":{\"id\":\"c613ccc0-f8eb-4981-9a17-09fd1d157e9c\",\"type\":\"ColumnDataSource\"}},\"id\":\"bbf69f6d-510c-4015-8818-7be44bbfd3cb\",\"type\":\"CDSView\"},{\"attributes\":{},\"id\":\"708dde14-c243-4e1f-b52c-e0836f674e0e\",\"type\":\"SaveTool\"},{\"attributes\":{},\"id\":\"366224fd-2b11-4ec8-b2f0-ee18a86da25e\",\"type\":\"LinearScale\"},{\"attributes\":{\"items\":[{\"id\":\"b33f2e1a-c66c-4263-8c28-97833cbea264\",\"type\":\"LegendItem\"},{\"id\":\"6c0f2dde-afc1-4e42-a0a5-1b5d9a5f1504\",\"type\":\"LegendItem\"}],\"label_text_font_size\":{\"value\":\"8pt\"},\"location\":\"top_center\",\"orientation\":\"horizontal\",\"plot\":{\"id\":\"7645ddc3-5689-4b98-9f22-7d9160d545a5\",\"subtype\":\"Figure\",\"type\":\"Plot\"}},\"id\":\"679ed9a9-8ee4-4f73-8d8b-6ef413baf157\",\"type\":\"Legend\"},{\"attributes\":{\"plot\":{\"id\":\"7645ddc3-5689-4b98-9f22-7d9160d545a5\",\"subtype\":\"Figure\",\"type\":\"Plot\"},\"ticker\":{\"id\":\"fe355e10-c000-4b50-8c6a-f5cbdacf76a0\",\"type\":\"BasicTicker\"}},\"id\":\"9999f496-62aa-4799-b5b3-fccc858844d5\",\"type\":\"Grid\"},{\"attributes\":{\"line_color\":\"#4daf4a\",\"line_width\":1.5,\"x\":{\"field\":\"x\"},\"y\":{\"field\":\"y\"}},\"id\":\"a62d00d9-33ca-42a2-97a3-f49ff7d199b0\",\"type\":\"Line\"},{\"attributes\":{\"line_alpha\":0.1,\"line_color\":\"#1f77b4\",\"line_width\":1.5,\"x\":{\"field\":\"x\"},\"y\":{\"field\":\"y\"}},\"id\":\"f404ad8b-f844-45de-a6d6-5b5128ab6d06\",\"type\":\"Line\"},{\"attributes\":{},\"id\":\"d7d99cc7-5ce3-4eec-8ba9-a67f72a7bac2\",\"type\":\"SaveTool\"},{\"attributes\":{},\"id\":\"fa9ec256-60eb-43d5-8602-e38e77da6a84\",\"type\":\"WheelZoomTool\"},{\"attributes\":{},\"id\":\"ebd85727-92f2-4cc0-9e2c-30c6e84f13ec\",\"type\":\"LinearScale\"},{\"attributes\":{},\"id\":\"a0aced31-6692-4d1f-b53a-33b6c66dd8ca\",\"type\":\"HelpTool\"},{\"attributes\":{},\"id\":\"8f284e33-10d0-42bf-aa64-fde60d03fa68\",\"type\":\"WheelZoomTool\"},{\"attributes\":{\"line_alpha\":0.1,\"line_color\":\"#1f77b4\",\"line_width\":1.5,\"x\":{\"field\":\"x\"},\"y\":{\"field\":\"y\"}},\"id\":\"55ba4d11-f6f7-4bfb-95cc-3ede18f04557\",\"type\":\"Line\"},{\"attributes\":{\"callback\":null,\"data\":{\"x\":{\"__ndarray__\":\"cm1sTMT3VEDEyvjosEJHQOKI6DjzCUNArgQWV9awPkB9Lm8XG3M4QEz+Qv6iYzNA7eV8HaPLLkCX1QHyTpMoQFBmYSYetiNAUB04GtGpH0AmFyVE5j8ZQJca9QPGqBNALJP+OOHHDEBNxaf7QF8AQKtislomWuw/cW2dcO6A9T/uJJvfPu0EQIaQLTI/JQ1AxGiII+PmEkCJvfVeuCsYQD6ZBhGbHB9AXQw69DTYJEAsubcwKucqQNuT9D5OmipAJyi3szEJJUBlNebh5WkgQDDcPHBr2xlArtlANXuQFEBdJadFHckQQI2Avh0ZsQtAjYiwt1rsBUCL0SDoVBgAQK6C0nEEjvc/CggLSme58T9sXU2orFPnP0v0JYz9Gdg/vT38vxYczD9nBQTe6kHHP1IhkEXJwKo/8OZnhCVAub+xtVgCpmqzP6DUpY6g0+k/PKK3T1h4+D8RTDjQc1EAQG/dAQs7TwJAQt2eHpPLAEBWEh074x//PyCap9ZSGf4/rEzaTySm/T+7aXhHRmr9P688KeqeNP0/ruZ4EemD/D8olrZcn9T7P0+vNc9hW/s/i9VVL+4P+z+0NzC24uz6P8731Kza8vo/xFf4SHzq+z+gYyHpvHb8P68ROkiFevw/BAjYdCga/D8AUp8VbW77P3JrF/nKmvo/qCQeGfq++T/dplwHJfn4P2G4p+Uva/g/OzZ0RqMZ+D8dmn/iar73P/OuA7Ka8PY/gaaeQHGn9T9hkyjAH1L0P3aZGhdAU/M/n8VP/g7P8j+90HxHNvfyPwhNBtgrqvk/\",\"dtype\":\"float64\",\"shape\":[75]},\"y\":{\"__ndarray__\":\"GhExyth1ND/Sv8nbtpRIP2vylNV0PVE/aTum7souWD/At0SJ8fVgPw3Iuahxymc/MSNhhJWvcD/bTfBN02d3P2zb5nxnaoA/CD5h5MAGhz8NmeH1TyaQP+zrCsc9p5Y/LbKd76fGnz/bLW5ISEmmPww9YvTcQq8/JV2OstnstT8Er5Y7M8G+P0c+r3jqkcU/5h99k6ZBzj88bCIzFzjVP4enV8oyxN0//yH99nXg5D8qOpLLf0jtP5kqGJXUifQ/c9cS8kHP/D+/DpwzojQEQIEmwoanVwxA4lgXt9HgE0BSSZ2AJuIbQAMJih9jjiNA5q4l5INuK0AwTKYKRj0zQNv5fmq8/DpAaCJseHrtQkB/+zpwzoxKQM3MzMzMeFJAZmZmZmZqWEAAAAAAAFxeQM3MzMzMJmJAmpmZmZkfZUBmZmZmZhhoQDMzMzMzEWtAAAAAAAAKbkBmZmZmZoFwQM3MzMzM/XFAMzMzMzN6c0CamZmZmfZ0QAAAAAAAc3ZAZmZmZmbvd0DNzMzMzGt5QDMzMzMz6HpAmpmZmZlkfEAAAAAAAOF9QGZmZmZmXX9AZmZmZuZsgECamZmZGSuBQM3MzMxM6YFAAAAAAICngkAzMzMzs2WDQGZmZmbmI4RAmpmZmRnihEDNzMzMTKCFQAAAAACAXoZAMzMzM7Mch0BmZmZm5tqHQJqZmZkZmYhAzczMzExXiUAAAAAAgBWKQDMzMzOz04pAZmZmZuaRi0CamZmZGVCMQM3MzMxMDo1AAAAAAIDMjUAzMzMzs4qOQGZmZmbmSI9A\",\"dtype\":\"float64\",\"shape\":[75]}},\"selected\":{\"id\":\"76ccb987-f591-4af7-92ce-b96109ded72d\",\"type\":\"Selection\"},\"selection_policy\":{\"id\":\"f6b29e21-42d3-47e9-9829-f20e2d4e3219\",\"type\":\"UnionRenderers\"}},\"id\":\"dd882465-f8a7-4864-afc8-792aa67a7905\",\"type\":\"ColumnDataSource\"},{\"attributes\":{\"bottom_units\":\"screen\",\"fill_alpha\":{\"value\":0.5},\"fill_color\":{\"value\":\"lightgrey\"},\"left_units\":\"screen\",\"level\":\"overlay\",\"line_alpha\":{\"value\":1.0},\"line_color\":{\"value\":\"black\"},\"line_dash\":[4,4],\"line_width\":{\"value\":2},\"plot\":null,\"render_mode\":\"css\",\"right_units\":\"screen\",\"top_units\":\"screen\"},\"id\":\"a6a571d1-4b17-4185-a7fb-234464f781a8\",\"type\":\"BoxAnnotation\"},{\"attributes\":{\"callback\":null,\"end\":0.01,\"start\":1020},\"id\":\"8b0940d3-d7fc-460f-be2a-fa1be0bb0d29\",\"type\":\"Range1d\"},{\"attributes\":{\"fill_alpha\":{\"value\":0.1},\"fill_color\":{\"value\":\"#1f77b4\"},\"line_alpha\":{\"value\":0.1},\"line_color\":{\"value\":\"#1f77b4\"},\"x\":{\"field\":\"x\"},\"y\":{\"field\":\"y\"}},\"id\":\"a401d3d4-293b-4cac-9f8a-77e3b7fd0a49\",\"type\":\"Circle\"},{\"attributes\":{\"axis_label\":\"pressure [mb]\",\"formatter\":{\"id\":\"f1114bef-38d6-4687-b174-165b105d45b9\",\"type\":\"BasicTickFormatter\"},\"plot\":{\"id\":\"7645ddc3-5689-4b98-9f22-7d9160d545a5\",\"subtype\":\"Figure\",\"type\":\"Plot\"},\"ticker\":{\"id\":\"93db257c-573a-4e14-9ca6-0433ac57f06a\",\"type\":\"BasicTicker\"}},\"id\":\"4a74d0ce-1f03-47eb-82fc-97a833d77a35\",\"type\":\"LinearAxis\"},{\"attributes\":{\"overlay\":{\"id\":\"a628937a-0e5f-4539-8161-5a5d2887cdd2\",\"type\":\"BoxAnnotation\"}},\"id\":\"66eb5e3a-82ab-4d81-8018-9a39b0569e7f\",\"type\":\"BoxZoomTool\"},{\"attributes\":{},\"id\":\"82e6a713-4de4-4c36-a7c8-b4aea405de92\",\"type\":\"BasicTicker\"},{\"attributes\":{},\"id\":\"c8773661-aca7-4e30-99bb-9a40f7e6f1e2\",\"type\":\"PanTool\"},{\"attributes\":{},\"id\":\"93db257c-573a-4e14-9ca6-0433ac57f06a\",\"type\":\"BasicTicker\"},{\"attributes\":{\"dimension\":1,\"plot\":{\"id\":\"7645ddc3-5689-4b98-9f22-7d9160d545a5\",\"subtype\":\"Figure\",\"type\":\"Plot\"},\"ticker\":{\"id\":\"93db257c-573a-4e14-9ca6-0433ac57f06a\",\"type\":\"BasicTicker\"}},\"id\":\"c3b7cb5f-3fe8-47b6-ad09-817243e92581\",\"type\":\"Grid\"},{\"attributes\":{},\"id\":\"fe355e10-c000-4b50-8c6a-f5cbdacf76a0\",\"type\":\"BasicTicker\"},{\"attributes\":{\"line_color\":\"#4daf4a\",\"line_width\":1.5,\"x\":{\"field\":\"x\"},\"y\":{\"field\":\"y\"}},\"id\":\"fe542e75-c75b-4537-b3f8-74db4b24a60d\",\"type\":\"Line\"},{\"attributes\":{\"data_source\":{\"id\":\"869f974a-8f45-4ecf-84ec-803fcc28b7d6\",\"type\":\"ColumnDataSource\"},\"glyph\":{\"id\":\"1ce2e6bb-8343-4713-a323-18dc0d4668ae\",\"type\":\"Circle\"},\"hover_glyph\":null,\"muted_glyph\":null,\"nonselection_glyph\":{\"id\":\"a401d3d4-293b-4cac-9f8a-77e3b7fd0a49\",\"type\":\"Circle\"},\"selection_glyph\":null,\"view\":{\"id\":\"07b493af-df37-413f-890c-019836dbe61e\",\"type\":\"CDSView\"}},\"id\":\"f9e78efc-a8a7-42ae-af42-a33db57a8802\",\"type\":\"GlyphRenderer\"},{\"attributes\":{\"axis_label\":\"cooling rate [K/day]\",\"formatter\":{\"id\":\"32047884-75f5-4b8b-b51d-a9295a56076c\",\"type\":\"BasicTickFormatter\"},\"plot\":{\"id\":\"7645ddc3-5689-4b98-9f22-7d9160d545a5\",\"subtype\":\"Figure\",\"type\":\"Plot\"},\"ticker\":{\"id\":\"fe355e10-c000-4b50-8c6a-f5cbdacf76a0\",\"type\":\"BasicTicker\"}},\"id\":\"52c92771-6b35-46c1-817d-5b08fd286960\",\"type\":\"LinearAxis\"},{\"attributes\":{},\"id\":\"796ea73e-68f2-4303-aac0-3c3e9d452c36\",\"type\":\"UnionRenderers\"},{\"attributes\":{\"bottom_units\":\"screen\",\"fill_alpha\":{\"value\":0.5},\"fill_color\":{\"value\":\"lightgrey\"},\"left_units\":\"screen\",\"level\":\"overlay\",\"line_alpha\":{\"value\":1.0},\"line_color\":{\"value\":\"black\"},\"line_dash\":[4,4],\"line_width\":{\"value\":2},\"plot\":null,\"render_mode\":\"css\",\"right_units\":\"screen\",\"top_units\":\"screen\"},\"id\":\"5ce4654d-1524-4272-8aeb-756c2006caef\",\"type\":\"BoxAnnotation\"},{\"attributes\":{\"axis_label\":\"cooling rate [K/day]\",\"formatter\":{\"id\":\"5424ed1f-e1b4-434d-b282-8ef9c5dd4bf3\",\"type\":\"BasicTickFormatter\"},\"plot\":{\"id\":\"f55c3a88-ddf4-44c7-b7cd-f563f5f1d4a8\",\"subtype\":\"Figure\",\"type\":\"Plot\"},\"ticker\":{\"id\":\"38ff8550-00ff-4c6b-a39f-009fd6644e30\",\"type\":\"BasicTicker\"}},\"id\":\"20e9bcf0-f7ee-43d5-b823-a09c15077342\",\"type\":\"LinearAxis\"},{\"attributes\":{},\"id\":\"f1114bef-38d6-4687-b174-165b105d45b9\",\"type\":\"BasicTickFormatter\"},{\"attributes\":{\"plot\":{\"id\":\"f55c3a88-ddf4-44c7-b7cd-f563f5f1d4a8\",\"subtype\":\"Figure\",\"type\":\"Plot\"},\"ticker\":{\"id\":\"38ff8550-00ff-4c6b-a39f-009fd6644e30\",\"type\":\"BasicTicker\"}},\"id\":\"be23c0b7-3164-4500-b9a2-0c28b831eba3\",\"type\":\"Grid\"},{\"attributes\":{},\"id\":\"32047884-75f5-4b8b-b51d-a9295a56076c\",\"type\":\"BasicTickFormatter\"},{\"attributes\":{},\"id\":\"470e30a7-ff2d-4e48-9bda-8008f5df5af2\",\"type\":\"LogScale\"},{\"attributes\":{\"source\":{\"id\":\"869f974a-8f45-4ecf-84ec-803fcc28b7d6\",\"type\":\"ColumnDataSource\"}},\"id\":\"07b493af-df37-413f-890c-019836dbe61e\",\"type\":\"CDSView\"},{\"attributes\":{},\"id\":\"b9ce756d-8216-4180-93e5-6bc3bad263e3\",\"type\":\"ResetTool\"},{\"attributes\":{\"axis_label\":\"pressure [mb]\",\"formatter\":{\"id\":\"7345cc87-3755-4c39-906e-b5cee23e4f68\",\"type\":\"LogTickFormatter\"},\"plot\":{\"id\":\"f55c3a88-ddf4-44c7-b7cd-f563f5f1d4a8\",\"subtype\":\"Figure\",\"type\":\"Plot\"},\"ticker\":{\"id\":\"9b3d3eef-6e1b-4084-bb0f-c6551a4f7b11\",\"type\":\"LogTicker\"}},\"id\":\"39b03f5d-33ff-4d05-976d-164d78a20f29\",\"type\":\"LogAxis\"},{\"attributes\":{},\"id\":\"b305aee4-0b4e-4fa7-8b9d-f44d33d52527\",\"type\":\"LinearScale\"},{\"attributes\":{\"label\":{\"value\":\"CLIRAD (single-run)\"},\"renderers\":[{\"id\":\"afae97dd-35e8-4740-9cc3-899db2bb81ef\",\"type\":\"GlyphRenderer\"}]},\"id\":\"b33f2e1a-c66c-4263-8c28-97833cbea264\",\"type\":\"LegendItem\"},{\"attributes\":{\"active_drag\":\"auto\",\"active_inspect\":\"auto\",\"active_scroll\":\"auto\",\"active_tap\":\"auto\",\"tools\":[{\"id\":\"48e7abbf-6816-49e0-b679-eb35dc0f2f31\",\"type\":\"PanTool\"},{\"id\":\"b0824642-e921-4ef8-8954-795162c4f09b\",\"type\":\"WheelZoomTool\"},{\"id\":\"e8406b29-0696-4ac0-a6bd-4fc4354075bf\",\"type\":\"BoxZoomTool\"},{\"id\":\"708dde14-c243-4e1f-b52c-e0836f674e0e\",\"type\":\"SaveTool\"},{\"id\":\"31886625-3e7c-44d8-a89b-c2c151c3449b\",\"type\":\"ResetTool\"},{\"id\":\"6672729f-1789-4245-9263-edff81aaf3d9\",\"type\":\"HelpTool\"}]},\"id\":\"6b056de7-0a4d-4d17-8a23-1845589e1bb0\",\"type\":\"Toolbar\"},{\"attributes\":{\"callback\":null,\"end\":2.3135570711804605,\"start\":-0.22320708756646002},\"id\":\"c55df80c-a87f-4a1a-8959-558ad507658d\",\"type\":\"Range1d\"},{\"attributes\":{\"callback\":null,\"data\":{\"x\":{\"__ndarray__\":\"zcbUSk4YRMC/t1RLLK8gwGgVoL8IdALAc2CvKYi+/D/WVGaYomIOQINDLNfHyQ5ATcn83NwdBEDjDoeRfSjlP6Tfcs8XtOm/XgX4iCfY9b+PLllCI4zxv5TUqz5qMt+/QAV5OtRxsD94dWBXha7ZP8s7cbrqId8/tHfa2I021D/WrP38Z0yhP7qXnRpUt9C/jJpA4nk24L+GQcwnTangvx+q+rEpAdK/YCpV0rAKf7/6SkNcm7erv9qulEq35dO/IL+KYvVf178vB2bNqmWxv3ge6ffHfNg/UYVujm1M1z8fTZ/eStC3P/el+nP5iZc/d0yJW3Td0D/Qyl4ZdpnVP72KkmMYvcM/U4vC2HT0nL+30tlLbQVzP67JoZwkca4/YjAXfRfEfj+3GE+cJeqrv55qzCqo3ra/CNACqw6Gub/Lzryy0OW1v3CWnR0RirC/fCH3lL03r790OO8tH0Gdv+C6ZE327ba/BI1vAb+ZuL8H8hkOEY2rv+ywHWND6a6/KByQS/e2s79kxtwCOOeyvy+5G51Pp6u/Dj2bIg2zor9AMUjjQV6Yv+tSf9+W5JS/1vhJGZ+nlL8OV5NUG12Zv4zH8GxYWZu/nWXRqPq9k7/I/+lrNaJWPz6raLO3gqA/+dqfno5trD+mc/ksGu2tP3Iw9W9ufqU/ln1uoZnSlT/gYVf+sHFaP8DNw9d/J0I/3myhCAKUgT96L1QXU12eP4RfxiHWc6g/4xbvBFGwrz/ydex8TB+yP3YKkvhFW7M/Vg5TMCEltD+MCiXwn9e0P8lQ/rZzVrQ/\",\"dtype\":\"float64\",\"shape\":[75]},\"y\":{\"__ndarray__\":\"GhExyth1ND/Sv8nbtpRIP2vylNV0PVE/aTum7souWD/At0SJ8fVgPw3Iuahxymc/MSNhhJWvcD/bTfBN02d3P2zb5nxnaoA/CD5h5MAGhz8NmeH1TyaQP+zrCsc9p5Y/LbKd76fGnz/bLW5ISEmmPww9YvTcQq8/JV2OstnstT8Er5Y7M8G+P0c+r3jqkcU/5h99k6ZBzj88bCIzFzjVP4enV8oyxN0//yH99nXg5D8qOpLLf0jtP5kqGJXUifQ/c9cS8kHP/D+/DpwzojQEQIEmwoanVwxA4lgXt9HgE0BSSZ2AJuIbQAMJih9jjiNA5q4l5INuK0AwTKYKRj0zQNv5fmq8/DpAaCJseHrtQkB/+zpwzoxKQM3MzMzMeFJAZmZmZmZqWEAAAAAAAFxeQM3MzMzMJmJAmpmZmZkfZUBmZmZmZhhoQDMzMzMzEWtAAAAAAAAKbkBmZmZmZoFwQM3MzMzM/XFAMzMzMzN6c0CamZmZmfZ0QAAAAAAAc3ZAZmZmZmbvd0DNzMzMzGt5QDMzMzMz6HpAmpmZmZlkfEAAAAAAAOF9QGZmZmZmXX9AZmZmZuZsgECamZmZGSuBQM3MzMxM6YFAAAAAAICngkAzMzMzs2WDQGZmZmbmI4RAmpmZmRnihEDNzMzMTKCFQAAAAACAXoZAMzMzM7Mch0BmZmZm5tqHQJqZmZkZmYhAzczMzExXiUAAAAAAgBWKQDMzMzOz04pAZmZmZuaRi0CamZmZGVCMQM3MzMxMDo1AAAAAAIDMjUAzMzMzs4qOQGZmZmbmSI9A\",\"dtype\":\"float64\",\"shape\":[75]}},\"selected\":{\"id\":\"54dd4792-436b-4b40-a5ca-33442f7500f5\",\"type\":\"Selection\"},\"selection_policy\":{\"id\":\"e8fa6331-d852-4bd8-8e1b-1ee60a23a8c5\",\"type\":\"UnionRenderers\"}},\"id\":\"0f583302-1cbf-4dc3-b2eb-e1dfab624b47\",\"type\":\"ColumnDataSource\"},{\"attributes\":{\"label\":{\"value\":\"CRD\"},\"renderers\":[{\"id\":\"f9e78efc-a8a7-42ae-af42-a33db57a8802\",\"type\":\"GlyphRenderer\"},{\"id\":\"1684b30a-3e20-4e68-83d1-139bfdb45199\",\"type\":\"GlyphRenderer\"}]},\"id\":\"6c0f2dde-afc1-4e42-a0a5-1b5d9a5f1504\",\"type\":\"LegendItem\"},{\"attributes\":{},\"id\":\"38ff8550-00ff-4c6b-a39f-009fd6644e30\",\"type\":\"BasicTicker\"},{\"attributes\":{\"above\":[{\"id\":\"c88fb3a1-d789-47de-9947-b6a28385bfe2\",\"type\":\"Legend\"}],\"below\":[{\"id\":\"09b80ac0-b866-4162-ad8a-e0e09238cde0\",\"type\":\"LinearAxis\"}],\"left\":[{\"id\":\"cb9fc0b9-4ec5-4aab-a256-8f9f37c2c13f\",\"type\":\"LogAxis\"}],\"plot_width\":300,\"renderers\":[{\"id\":\"09b80ac0-b866-4162-ad8a-e0e09238cde0\",\"type\":\"LinearAxis\"},{\"id\":\"d442bcd1-ae76-413e-9efc-1e01683afb8a\",\"type\":\"Grid\"},{\"id\":\"cb9fc0b9-4ec5-4aab-a256-8f9f37c2c13f\",\"type\":\"LogAxis\"},{\"id\":\"a09ecc44-4362-4d39-b56f-b9838e33df0f\",\"type\":\"Grid\"},{\"id\":\"5ce4654d-1524-4272-8aeb-756c2006caef\",\"type\":\"BoxAnnotation\"},{\"id\":\"03a4c92b-7640-4e7e-bb34-3ab137fe3b53\",\"type\":\"GlyphRenderer\"},{\"id\":\"dbaccc04-a0b7-4bfe-8986-9dcbddff22cc\",\"type\":\"GlyphRenderer\"},{\"id\":\"c88fb3a1-d789-47de-9947-b6a28385bfe2\",\"type\":\"Legend\"}],\"title\":{\"id\":\"cb6b7366-921e-47c2-aabe-7eaaf98f122c\",\"type\":\"Title\"},\"toolbar\":{\"id\":\"dcbffff0-1d48-4a29-9de7-dcf5aa20e681\",\"type\":\"Toolbar\"},\"toolbar_location\":null,\"x_range\":{\"id\":\"c6837ad4-dbbe-44a7-94c5-7388bc241508\",\"type\":\"Range1d\"},\"x_scale\":{\"id\":\"8d072ffc-cd28-400a-8f84-4277b8889ccd\",\"type\":\"LinearScale\"},\"y_range\":{\"id\":\"0da46afb-294d-4af9-8f24-65c214fcc22f\",\"type\":\"Range1d\"},\"y_scale\":{\"id\":\"4dde53da-1a1e-42a7-8ea0-96d3a50b90aa\",\"type\":\"LogScale\"}},\"id\":\"29cd17ec-3ffd-4078-9ae4-7711fb3df682\",\"subtype\":\"Figure\",\"type\":\"Plot\"},{\"attributes\":{\"source\":{\"id\":\"dd882465-f8a7-4864-afc8-792aa67a7905\",\"type\":\"ColumnDataSource\"}},\"id\":\"c2612a50-9190-43a1-9164-f1ff53d6ba7a\",\"type\":\"CDSView\"},{\"attributes\":{},\"id\":\"d18f9c86-81ca-4de5-83a2-e2b5575758ee\",\"type\":\"HelpTool\"},{\"attributes\":{\"num_minor_ticks\":10},\"id\":\"9b3d3eef-6e1b-4084-bb0f-c6551a4f7b11\",\"type\":\"LogTicker\"},{\"attributes\":{\"above\":[{\"id\":\"7afdacb2-de48-4d45-9a80-de6e97b82aeb\",\"type\":\"Legend\"}],\"below\":[{\"id\":\"20e9bcf0-f7ee-43d5-b823-a09c15077342\",\"type\":\"LinearAxis\"}],\"left\":[{\"id\":\"39b03f5d-33ff-4d05-976d-164d78a20f29\",\"type\":\"LogAxis\"}],\"plot_width\":300,\"renderers\":[{\"id\":\"20e9bcf0-f7ee-43d5-b823-a09c15077342\",\"type\":\"LinearAxis\"},{\"id\":\"be23c0b7-3164-4500-b9a2-0c28b831eba3\",\"type\":\"Grid\"},{\"id\":\"39b03f5d-33ff-4d05-976d-164d78a20f29\",\"type\":\"LogAxis\"},{\"id\":\"a7c7fa70-4f71-478f-8743-b9ad942cb413\",\"type\":\"Grid\"},{\"id\":\"a6a571d1-4b17-4185-a7fb-234464f781a8\",\"type\":\"BoxAnnotation\"},{\"id\":\"5914b0d9-5730-4fd6-887f-26050ba4d3fe\",\"type\":\"GlyphRenderer\"},{\"id\":\"960e04d9-d59b-4269-9779-d81ab7c3096e\",\"type\":\"GlyphRenderer\"},{\"id\":\"d0e522f4-957a-4e62-923a-41d043a36ef7\",\"type\":\"GlyphRenderer\"},{\"id\":\"7afdacb2-de48-4d45-9a80-de6e97b82aeb\",\"type\":\"Legend\"}],\"title\":{\"id\":\"8779ecd1-31b7-45fa-a5c8-b509a167a3e6\",\"type\":\"Title\"},\"toolbar\":{\"id\":\"6b056de7-0a4d-4d17-8a23-1845589e1bb0\",\"type\":\"Toolbar\"},\"toolbar_location\":null,\"x_range\":{\"id\":\"d7f62254-19b5-4765-b4fa-e3fcee0af96e\",\"type\":\"Range1d\"},\"x_scale\":{\"id\":\"b305aee4-0b4e-4fa7-8b9d-f44d33d52527\",\"type\":\"LinearScale\"},\"y_range\":{\"id\":\"709ad4e8-4007-4dfc-af80-b56bb15de3dc\",\"type\":\"Range1d\"},\"y_scale\":{\"id\":\"470e30a7-ff2d-4e48-9bda-8008f5df5af2\",\"type\":\"LogScale\"}},\"id\":\"f55c3a88-ddf4-44c7-b7cd-f563f5f1d4a8\",\"subtype\":\"Figure\",\"type\":\"Plot\"},{\"attributes\":{\"data_source\":{\"id\":\"dd882465-f8a7-4864-afc8-792aa67a7905\",\"type\":\"ColumnDataSource\"},\"glyph\":{\"id\":\"a62d00d9-33ca-42a2-97a3-f49ff7d199b0\",\"type\":\"Line\"},\"hover_glyph\":null,\"muted_glyph\":null,\"nonselection_glyph\":{\"id\":\"f404ad8b-f844-45de-a6d6-5b5128ab6d06\",\"type\":\"Line\"},\"selection_glyph\":null,\"view\":{\"id\":\"c2612a50-9190-43a1-9164-f1ff53d6ba7a\",\"type\":\"CDSView\"}},\"id\":\"1684b30a-3e20-4e68-83d1-139bfdb45199\",\"type\":\"GlyphRenderer\"},{\"attributes\":{\"dimension\":1,\"plot\":{\"id\":\"f55c3a88-ddf4-44c7-b7cd-f563f5f1d4a8\",\"subtype\":\"Figure\",\"type\":\"Plot\"},\"ticker\":{\"id\":\"9b3d3eef-6e1b-4084-bb0f-c6551a4f7b11\",\"type\":\"LogTicker\"}},\"id\":\"a7c7fa70-4f71-478f-8743-b9ad942cb413\",\"type\":\"Grid\"},{\"attributes\":{\"callback\":null,\"end\":0.504962295764587,\"start\":-1.3837892505698874},\"id\":\"c6837ad4-dbbe-44a7-94c5-7388bc241508\",\"type\":\"Range1d\"},{\"attributes\":{\"overlay\":{\"id\":\"5ce4654d-1524-4272-8aeb-756c2006caef\",\"type\":\"BoxAnnotation\"}},\"id\":\"0b719ab7-d803-4c92-824c-5156dfb7a039\",\"type\":\"BoxZoomTool\"},{\"attributes\":{\"above\":[{\"id\":\"679ed9a9-8ee4-4f73-8d8b-6ef413baf157\",\"type\":\"Legend\"}],\"below\":[{\"id\":\"52c92771-6b35-46c1-817d-5b08fd286960\",\"type\":\"LinearAxis\"}],\"left\":[{\"id\":\"4a74d0ce-1f03-47eb-82fc-97a833d77a35\",\"type\":\"LinearAxis\"}],\"plot_width\":300,\"renderers\":[{\"id\":\"52c92771-6b35-46c1-817d-5b08fd286960\",\"type\":\"LinearAxis\"},{\"id\":\"9999f496-62aa-4799-b5b3-fccc858844d5\",\"type\":\"Grid\"},{\"id\":\"4a74d0ce-1f03-47eb-82fc-97a833d77a35\",\"type\":\"LinearAxis\"},{\"id\":\"c3b7cb5f-3fe8-47b6-ad09-817243e92581\",\"type\":\"Grid\"},{\"id\":\"a628937a-0e5f-4539-8161-5a5d2887cdd2\",\"type\":\"BoxAnnotation\"},{\"id\":\"afae97dd-35e8-4740-9cc3-899db2bb81ef\",\"type\":\"GlyphRenderer\"},{\"id\":\"f9e78efc-a8a7-42ae-af42-a33db57a8802\",\"type\":\"GlyphRenderer\"},{\"id\":\"1684b30a-3e20-4e68-83d1-139bfdb45199\",\"type\":\"GlyphRenderer\"},{\"id\":\"679ed9a9-8ee4-4f73-8d8b-6ef413baf157\",\"type\":\"Legend\"}],\"title\":{\"id\":\"8fcba11e-0aeb-4374-b628-3d314777a350\",\"type\":\"Title\"},\"toolbar\":{\"id\":\"f6d2c0a7-1b17-46ad-8467-5658d51d3876\",\"type\":\"Toolbar\"},\"toolbar_location\":null,\"x_range\":{\"id\":\"c55df80c-a87f-4a1a-8959-558ad507658d\",\"type\":\"Range1d\"},\"x_scale\":{\"id\":\"366224fd-2b11-4ec8-b2f0-ee18a86da25e\",\"type\":\"LinearScale\"},\"y_range\":{\"id\":\"8b0940d3-d7fc-460f-be2a-fa1be0bb0d29\",\"type\":\"Range1d\"},\"y_scale\":{\"id\":\"ebd85727-92f2-4cc0-9e2c-30c6e84f13ec\",\"type\":\"LinearScale\"}},\"id\":\"7645ddc3-5689-4b98-9f22-7d9160d545a5\",\"subtype\":\"Figure\",\"type\":\"Plot\"},{\"attributes\":{\"line_alpha\":0.1,\"line_color\":\"#1f77b4\",\"line_dash\":[6],\"line_width\":5,\"x\":{\"field\":\"x\"},\"y\":{\"field\":\"y\"}},\"id\":\"55dd97d3-7a1e-487d-955c-4eef55fe32f4\",\"type\":\"Line\"},{\"attributes\":{\"callback\":null,\"data\":{\"x\":{\"__ndarray__\":\"cm1sTMT3VEDEyvjosEJHQOKI6DjzCUNArgQWV9awPkB9Lm8XG3M4QEz+Qv6iYzNA7eV8HaPLLkCX1QHyTpMoQFBmYSYetiNAUB04GtGpH0AmFyVE5j8ZQJca9QPGqBNALJP+OOHHDEBNxaf7QF8AQKtislomWuw/cW2dcO6A9T/uJJvfPu0EQIaQLTI/JQ1AxGiII+PmEkCJvfVeuCsYQD6ZBhGbHB9AXQw69DTYJEAsubcwKucqQNuT9D5OmipAJyi3szEJJUBlNebh5WkgQDDcPHBr2xlArtlANXuQFEBdJadFHckQQI2Avh0ZsQtAjYiwt1rsBUCL0SDoVBgAQK6C0nEEjvc/CggLSme58T9sXU2orFPnP0v0JYz9Gdg/vT38vxYczD9nBQTe6kHHP1IhkEXJwKo/8OZnhCVAub+xtVgCpmqzP6DUpY6g0+k/PKK3T1h4+D8RTDjQc1EAQG/dAQs7TwJAQt2eHpPLAEBWEh074x//PyCap9ZSGf4/rEzaTySm/T+7aXhHRmr9P688KeqeNP0/ruZ4EemD/D8olrZcn9T7P0+vNc9hW/s/i9VVL+4P+z+0NzC24uz6P8731Kza8vo/xFf4SHzq+z+gYyHpvHb8P68ROkiFevw/BAjYdCga/D8AUp8VbW77P3JrF/nKmvo/qCQeGfq++T/dplwHJfn4P2G4p+Uva/g/OzZ0RqMZ+D8dmn/iar73P/OuA7Ka8PY/gaaeQHGn9T9hkyjAH1L0P3aZGhdAU/M/n8VP/g7P8j+90HxHNvfyPwhNBtgrqvk/\",\"dtype\":\"float64\",\"shape\":[75]},\"y\":{\"__ndarray__\":\"GhExyth1ND/Sv8nbtpRIP2vylNV0PVE/aTum7souWD/At0SJ8fVgPw3Iuahxymc/MSNhhJWvcD/bTfBN02d3P2zb5nxnaoA/CD5h5MAGhz8NmeH1TyaQP+zrCsc9p5Y/LbKd76fGnz/bLW5ISEmmPww9YvTcQq8/JV2OstnstT8Er5Y7M8G+P0c+r3jqkcU/5h99k6ZBzj88bCIzFzjVP4enV8oyxN0//yH99nXg5D8qOpLLf0jtP5kqGJXUifQ/c9cS8kHP/D+/DpwzojQEQIEmwoanVwxA4lgXt9HgE0BSSZ2AJuIbQAMJih9jjiNA5q4l5INuK0AwTKYKRj0zQNv5fmq8/DpAaCJseHrtQkB/+zpwzoxKQM3MzMzMeFJAZmZmZmZqWEAAAAAAAFxeQM3MzMzMJmJAmpmZmZkfZUBmZmZmZhhoQDMzMzMzEWtAAAAAAAAKbkBmZmZmZoFwQM3MzMzM/XFAMzMzMzN6c0CamZmZmfZ0QAAAAAAAc3ZAZmZmZmbvd0DNzMzMzGt5QDMzMzMz6HpAmpmZmZlkfEAAAAAAAOF9QGZmZmZmXX9AZmZmZuZsgECamZmZGSuBQM3MzMxM6YFAAAAAAICngkAzMzMzs2WDQGZmZmbmI4RAmpmZmRnihEDNzMzMTKCFQAAAAACAXoZAMzMzM7Mch0BmZmZm5tqHQJqZmZkZmYhAzczMzExXiUAAAAAAgBWKQDMzMzOz04pAZmZmZuaRi0CamZmZGVCMQM3MzMxMDo1AAAAAAIDMjUAzMzMzs4qOQGZmZmbmSI9A\",\"dtype\":\"float64\",\"shape\":[75]}},\"selected\":{\"id\":\"dd79f225-3b0b-49db-8e7d-afefea606bb6\",\"type\":\"Selection\"},\"selection_policy\":{\"id\":\"159d95a7-1c5b-4f86-aea5-6fcfda0cb453\",\"type\":\"UnionRenderers\"}},\"id\":\"c613ccc0-f8eb-4981-9a17-09fd1d157e9c\",\"type\":\"ColumnDataSource\"},{\"attributes\":{},\"id\":\"31886625-3e7c-44d8-a89b-c2c151c3449b\",\"type\":\"ResetTool\"},{\"attributes\":{\"axis_label\":\"cooling rate [K/day]\",\"formatter\":{\"id\":\"ec7c688a-1aa6-46ae-a731-b3cc26a23661\",\"type\":\"BasicTickFormatter\"},\"plot\":{\"id\":\"29cd17ec-3ffd-4078-9ae4-7711fb3df682\",\"subtype\":\"Figure\",\"type\":\"Plot\"},\"ticker\":{\"id\":\"82e6a713-4de4-4c36-a7c8-b4aea405de92\",\"type\":\"BasicTicker\"}},\"id\":\"09b80ac0-b866-4162-ad8a-e0e09238cde0\",\"type\":\"LinearAxis\"},{\"attributes\":{\"source\":{\"id\":\"0f583302-1cbf-4dc3-b2eb-e1dfab624b47\",\"type\":\"ColumnDataSource\"}},\"id\":\"581d53a5-b350-4354-820d-e402579ba7c1\",\"type\":\"CDSView\"},{\"attributes\":{\"source\":{\"id\":\"e2f0b0dc-c8d9-44dd-916c-828eed0ec199\",\"type\":\"ColumnDataSource\"}},\"id\":\"47a05f7e-08f4-43fb-bf5d-f6cdb224dcd0\",\"type\":\"CDSView\"},{\"attributes\":{\"label\":{\"value\":\"CLIRAD (single-run)\"},\"renderers\":[{\"id\":\"5914b0d9-5730-4fd6-887f-26050ba4d3fe\",\"type\":\"GlyphRenderer\"}]},\"id\":\"1529504b-ade0-4130-b2cd-d6d381f0e271\",\"type\":\"LegendItem\"},{\"attributes\":{\"fill_alpha\":{\"value\":0.7},\"fill_color\":{\"value\":\"#4daf4a\"},\"line_alpha\":{\"value\":0.7},\"line_color\":{\"value\":\"#4daf4a\"},\"x\":{\"field\":\"x\"},\"y\":{\"field\":\"y\"}},\"id\":\"645755d6-f94f-4c4b-a941-45ae141fa193\",\"type\":\"Circle\"},{\"attributes\":{\"callback\":null,\"end\":0.01,\"start\":1020},\"id\":\"0da46afb-294d-4af9-8f24-65c214fcc22f\",\"type\":\"Range1d\"},{\"attributes\":{\"data_source\":{\"id\":\"0286a5a8-e3df-462f-91c9-88b61adf263e\",\"type\":\"ColumnDataSource\"},\"glyph\":{\"id\":\"fe542e75-c75b-4537-b3f8-74db4b24a60d\",\"type\":\"Line\"},\"hover_glyph\":null,\"muted_glyph\":null,\"nonselection_glyph\":{\"id\":\"55ba4d11-f6f7-4bfb-95cc-3ede18f04557\",\"type\":\"Line\"},\"selection_glyph\":null,\"view\":{\"id\":\"d7573564-6168-4659-996e-1ca51a0b4bf5\",\"type\":\"CDSView\"}},\"id\":\"d0e522f4-957a-4e62-923a-41d043a36ef7\",\"type\":\"GlyphRenderer\"},{\"attributes\":{\"children\":[{\"id\":\"ba8b8da0-a133-4737-a279-5f9c301953d4\",\"type\":\"Row\"}]},\"id\":\"4b2fb910-bd2a-41fd-98a0-b389c111e08e\",\"type\":\"Column\"},{\"attributes\":{},\"id\":\"48e7abbf-6816-49e0-b679-eb35dc0f2f31\",\"type\":\"PanTool\"},{\"attributes\":{\"active_drag\":\"auto\",\"active_inspect\":\"auto\",\"active_scroll\":\"auto\",\"active_tap\":\"auto\",\"tools\":[{\"id\":\"c8773661-aca7-4e30-99bb-9a40f7e6f1e2\",\"type\":\"PanTool\"},{\"id\":\"8f284e33-10d0-42bf-aa64-fde60d03fa68\",\"type\":\"WheelZoomTool\"},{\"id\":\"66eb5e3a-82ab-4d81-8018-9a39b0569e7f\",\"type\":\"BoxZoomTool\"},{\"id\":\"d7d99cc7-5ce3-4eec-8ba9-a67f72a7bac2\",\"type\":\"SaveTool\"},{\"id\":\"28e114b7-4a22-4bdf-939e-d7e2d55b55ec\",\"type\":\"ResetTool\"},{\"id\":\"a0aced31-6692-4d1f-b53a-33b6c66dd8ca\",\"type\":\"HelpTool\"}]},\"id\":\"f6d2c0a7-1b17-46ad-8467-5658d51d3876\",\"type\":\"Toolbar\"},{\"attributes\":{\"data_source\":{\"id\":\"c613ccc0-f8eb-4981-9a17-09fd1d157e9c\",\"type\":\"ColumnDataSource\"},\"glyph\":{\"id\":\"645755d6-f94f-4c4b-a941-45ae141fa193\",\"type\":\"Circle\"},\"hover_glyph\":null,\"muted_glyph\":null,\"nonselection_glyph\":{\"id\":\"301aed49-931c-4228-abfb-bd1de0c9707e\",\"type\":\"Circle\"},\"selection_glyph\":null,\"view\":{\"id\":\"bbf69f6d-510c-4015-8818-7be44bbfd3cb\",\"type\":\"CDSView\"}},\"id\":\"960e04d9-d59b-4269-9779-d81ab7c3096e\",\"type\":\"GlyphRenderer\"},{\"attributes\":{\"source\":{\"id\":\"0286a5a8-e3df-462f-91c9-88b61adf263e\",\"type\":\"ColumnDataSource\"}},\"id\":\"d7573564-6168-4659-996e-1ca51a0b4bf5\",\"type\":\"CDSView\"},{\"attributes\":{\"label\":{\"value\":\"CLIRAD (single-run) - CRD\"},\"renderers\":[{\"id\":\"03a4c92b-7640-4e7e-bb34-3ab137fe3b53\",\"type\":\"GlyphRenderer\"},{\"id\":\"dbaccc04-a0b7-4bfe-8986-9dcbddff22cc\",\"type\":\"GlyphRenderer\"}]},\"id\":\"0fb76589-dce1-4bcd-badb-25ad22d0513c\",\"type\":\"LegendItem\"},{\"attributes\":{},\"id\":\"b72d7c96-159c-4848-8c6e-cbf73ffd216a\",\"type\":\"UnionRenderers\"},{\"attributes\":{\"data_source\":{\"id\":\"0f583302-1cbf-4dc3-b2eb-e1dfab624b47\",\"type\":\"ColumnDataSource\"},\"glyph\":{\"id\":\"4e7cdf74-9edd-4e06-a15f-9523fd76347c\",\"type\":\"Circle\"},\"hover_glyph\":null,\"muted_glyph\":null,\"nonselection_glyph\":{\"id\":\"7aa7d64d-4883-4a83-ad83-e6a6dbabb18d\",\"type\":\"Circle\"},\"selection_glyph\":null,\"view\":{\"id\":\"581d53a5-b350-4354-820d-e402579ba7c1\",\"type\":\"CDSView\"}},\"id\":\"03a4c92b-7640-4e7e-bb34-3ab137fe3b53\",\"type\":\"GlyphRenderer\"},{\"attributes\":{\"callback\":null,\"data\":{\"x\":{\"__ndarray__\":\"FRQETjrXRUDWnCPW5RZDQIyH7qyy4kFAWX3YbF8+QEAY+Xtqbz88QLyGKPnbPDdAIAxeKo3pMUCERhrL1uUpQFY4aqncGiJA9xv6N8czGkCCy45z3dwUQE5dCmCftRFAVlvS2m9LDUD705OmEZUDQEiA9duN9fU/XgvU5pGO+j+hG49/cDIFQI/d2a5UDgtAclVA5xPgEEBaNfy5jhYWQJvu5nWI/B1AucEfnlPUJEDhdVuVcssqQGPun4Qg+ylALdKiCDJOJEBZaUuMGkcgQBZuu+83YxtAAsInDkIFFkCRoiFxXigRQNp1phAt4AtAHLIhQwkICEDlqkyrg8sCQAfURH6nBfo/3P2ndpVF8T8TEeWCt3nnP4Qtuh8i6Ns/PvfkezcSzT85P/B2YUfAP+OzCBCH/KK/e1u1Fxpjyb+/yCCDVdmDv9Qh8mpewuc/MukPY5p+9z+gbdyR8RYAQJi3lljLlwFA2GCTJsUGAEDHQqyyekP+P5isjrsIIv0/6koh27Rq/D9VnUrH0jv8P+ZeQG1kV/w/xQxkqFDu+z9jdSlVJnP7PwOyt3PPB/s/pq3wsk+9+j9W6t1Ibof6P680IUt1hfo/LhJVXoSb+z8eXnx2ZXz8PwlX1QWb/vw/3QbN6ZT9/D+cHQfn1V38P/YUl2y+Rvs/nd6jf0QW+j+1PJxzwf/4P9uwotV0bfg/FXmFSss8+D/b6twu4Df4P+7hEWM5tPc/Nx/GyPOk9j+/WveHFHT1Px+6o3b0iPQ/g/ZUEWER9D9mIX9GsET0PxMydhOT7/o/\",\"dtype\":\"float64\",\"shape\":[75]},\"y\":{\"__ndarray__\":\"GhExyth1ND/Sv8nbtpRIP2vylNV0PVE/aTum7souWD/At0SJ8fVgPw3Iuahxymc/MSNhhJWvcD/bTfBN02d3P2zb5nxnaoA/CD5h5MAGhz8NmeH1TyaQP+zrCsc9p5Y/LbKd76fGnz/bLW5ISEmmPww9YvTcQq8/JV2OstnstT8Er5Y7M8G+P0c+r3jqkcU/5h99k6ZBzj88bCIzFzjVP4enV8oyxN0//yH99nXg5D8qOpLLf0jtP5kqGJXUifQ/c9cS8kHP/D+/DpwzojQEQIEmwoanVwxA4lgXt9HgE0BSSZ2AJuIbQAMJih9jjiNA5q4l5INuK0AwTKYKRj0zQNv5fmq8/DpAaCJseHrtQkB/+zpwzoxKQM3MzMzMeFJAZmZmZmZqWEAAAAAAAFxeQM3MzMzMJmJAmpmZmZkfZUBmZmZmZhhoQDMzMzMzEWtAAAAAAAAKbkBmZmZmZoFwQM3MzMzM/XFAMzMzMzN6c0CamZmZmfZ0QAAAAAAAc3ZAZmZmZmbvd0DNzMzMzGt5QDMzMzMz6HpAmpmZmZlkfEAAAAAAAOF9QGZmZmZmXX9AZmZmZuZsgECamZmZGSuBQM3MzMxM6YFAAAAAAICngkAzMzMzs2WDQGZmZmbmI4RAmpmZmRnihEDNzMzMTKCFQAAAAACAXoZAMzMzM7Mch0BmZmZm5tqHQJqZmZkZmYhAzczMzExXiUAAAAAAgBWKQDMzMzOz04pAZmZmZuaRi0CamZmZGVCMQM3MzMxMDo1AAAAAAIDMjUAzMzMzs4qOQGZmZmbmSI9A\",\"dtype\":\"float64\",\"shape\":[75]}},\"selected\":{\"id\":\"47c5143f-fa60-4bb8-861d-0ac7b110f0a7\",\"type\":\"Selection\"},\"selection_policy\":{\"id\":\"796ea73e-68f2-4303-aac0-3c3e9d452c36\",\"type\":\"UnionRenderers\"}},\"id\":\"5b4e46f9-45a0-48e6-b0b4-f48799b76233\",\"type\":\"ColumnDataSource\"},{\"attributes\":{\"callback\":null,\"data\":{\"x\":{\"__ndarray__\":\"zcbUSk4YRMC/t1RLLK8gwGgVoL8IdALAc2CvKYi+/D/WVGaYomIOQINDLNfHyQ5ATcn83NwdBEDjDoeRfSjlP6Tfcs8XtOm/XgX4iCfY9b+PLllCI4zxv5TUqz5qMt+/QAV5OtRxsD94dWBXha7ZP8s7cbrqId8/tHfa2I021D/WrP38Z0yhP7qXnRpUt9C/jJpA4nk24L+GQcwnTangvx+q+rEpAdK/YCpV0rAKf7/6SkNcm7erv9qulEq35dO/IL+KYvVf178vB2bNqmWxv3ge6ffHfNg/UYVujm1M1z8fTZ/eStC3P/el+nP5iZc/d0yJW3Td0D/Qyl4ZdpnVP72KkmMYvcM/U4vC2HT0nL+30tlLbQVzP67JoZwkca4/YjAXfRfEfj+3GE+cJeqrv55qzCqo3ra/CNACqw6Gub/Lzryy0OW1v3CWnR0RirC/fCH3lL03r790OO8tH0Gdv+C6ZE327ba/BI1vAb+ZuL8H8hkOEY2rv+ywHWND6a6/KByQS/e2s79kxtwCOOeyvy+5G51Pp6u/Dj2bIg2zor9AMUjjQV6Yv+tSf9+W5JS/1vhJGZ+nlL8OV5NUG12Zv4zH8GxYWZu/nWXRqPq9k7/I/+lrNaJWPz6raLO3gqA/+dqfno5trD+mc/ksGu2tP3Iw9W9ufqU/ln1uoZnSlT/gYVf+sHFaP8DNw9d/J0I/3myhCAKUgT96L1QXU12eP4RfxiHWc6g/4xbvBFGwrz/ydex8TB+yP3YKkvhFW7M/Vg5TMCEltD+MCiXwn9e0P8lQ/rZzVrQ/\",\"dtype\":\"float64\",\"shape\":[75]},\"y\":{\"__ndarray__\":\"GhExyth1ND/Sv8nbtpRIP2vylNV0PVE/aTum7souWD/At0SJ8fVgPw3Iuahxymc/MSNhhJWvcD/bTfBN02d3P2zb5nxnaoA/CD5h5MAGhz8NmeH1TyaQP+zrCsc9p5Y/LbKd76fGnz/bLW5ISEmmPww9YvTcQq8/JV2OstnstT8Er5Y7M8G+P0c+r3jqkcU/5h99k6ZBzj88bCIzFzjVP4enV8oyxN0//yH99nXg5D8qOpLLf0jtP5kqGJXUifQ/c9cS8kHP/D+/DpwzojQEQIEmwoanVwxA4lgXt9HgE0BSSZ2AJuIbQAMJih9jjiNA5q4l5INuK0AwTKYKRj0zQNv5fmq8/DpAaCJseHrtQkB/+zpwzoxKQM3MzMzMeFJAZmZmZmZqWEAAAAAAAFxeQM3MzMzMJmJAmpmZmZkfZUBmZmZmZhhoQDMzMzMzEWtAAAAAAAAKbkBmZmZmZoFwQM3MzMzM/XFAMzMzMzN6c0CamZmZmfZ0QAAAAAAAc3ZAZmZmZmbvd0DNzMzMzGt5QDMzMzMz6HpAmpmZmZlkfEAAAAAAAOF9QGZmZmZmXX9AZmZmZuZsgECamZmZGSuBQM3MzMxM6YFAAAAAAICngkAzMzMzs2WDQGZmZmbmI4RAmpmZmRnihEDNzMzMTKCFQAAAAACAXoZAMzMzM7Mch0BmZmZm5tqHQJqZmZkZmYhAzczMzExXiUAAAAAAgBWKQDMzMzOz04pAZmZmZuaRi0CamZmZGVCMQM3MzMxMDo1AAAAAAIDMjUAzMzMzs4qOQGZmZmbmSI9A\",\"dtype\":\"float64\",\"shape\":[75]}},\"selected\":{\"id\":\"859d9ec6-71cb-4d99-950c-1b1f63bf1295\",\"type\":\"Selection\"},\"selection_policy\":{\"id\":\"8060bef2-0eb1-47fa-af68-260efdc2ffee\",\"type\":\"UnionRenderers\"}},\"id\":\"e2f0b0dc-c8d9-44dd-916c-828eed0ec199\",\"type\":\"ColumnDataSource\"},{\"attributes\":{\"callback\":null,\"end\":13.587992067591857,\"start\":-0.33483515683786},\"id\":\"d7f62254-19b5-4765-b4fa-e3fcee0af96e\",\"type\":\"Range1d\"},{\"attributes\":{\"line_alpha\":0.8,\"line_color\":\"#984ea3\",\"line_width\":1.5,\"x\":{\"field\":\"x\"},\"y\":{\"field\":\"y\"}},\"id\":\"328ab948-245c-41b5-8451-e145577c1ed2\",\"type\":\"Line\"},{\"attributes\":{\"fill_alpha\":{\"value\":0.7},\"fill_color\":{\"value\":\"#984ea3\"},\"line_alpha\":{\"value\":0.7},\"line_color\":{\"value\":\"#984ea3\"},\"x\":{\"field\":\"x\"},\"y\":{\"field\":\"y\"}},\"id\":\"4e7cdf74-9edd-4e06-a15f-9523fd76347c\",\"type\":\"Circle\"},{\"attributes\":{\"data_source\":{\"id\":\"33deffd3-52f0-43fa-8e66-b3580e88bc23\",\"type\":\"ColumnDataSource\"},\"glyph\":{\"id\":\"b5869429-dd63-44b8-9e63-ad60e1191bde\",\"type\":\"Line\"},\"hover_glyph\":null,\"muted_glyph\":null,\"nonselection_glyph\":{\"id\":\"55dd97d3-7a1e-487d-955c-4eef55fe32f4\",\"type\":\"Line\"},\"selection_glyph\":null,\"view\":{\"id\":\"bb91bf88-a4d7-4f99-98d0-cf46351b9a35\",\"type\":\"CDSView\"}},\"id\":\"5914b0d9-5730-4fd6-887f-26050ba4d3fe\",\"type\":\"GlyphRenderer\"},{\"attributes\":{\"items\":[{\"id\":\"1529504b-ade0-4130-b2cd-d6d381f0e271\",\"type\":\"LegendItem\"},{\"id\":\"8dd6075f-f187-49df-b98f-4bbc3c04a499\",\"type\":\"LegendItem\"}],\"label_text_font_size\":{\"value\":\"8pt\"},\"location\":\"top_center\",\"orientation\":\"horizontal\",\"plot\":{\"id\":\"f55c3a88-ddf4-44c7-b7cd-f563f5f1d4a8\",\"subtype\":\"Figure\",\"type\":\"Plot\"}},\"id\":\"7afdacb2-de48-4d45-9a80-de6e97b82aeb\",\"type\":\"Legend\"},{\"attributes\":{\"data_source\":{\"id\":\"e2f0b0dc-c8d9-44dd-916c-828eed0ec199\",\"type\":\"ColumnDataSource\"},\"glyph\":{\"id\":\"328ab948-245c-41b5-8451-e145577c1ed2\",\"type\":\"Line\"},\"hover_glyph\":null,\"muted_glyph\":null,\"nonselection_glyph\":{\"id\":\"82df5417-c5ae-466e-b37b-fb4beb5c32ee\",\"type\":\"Line\"},\"selection_glyph\":null,\"view\":{\"id\":\"47a05f7e-08f4-43fb-bf5d-f6cdb224dcd0\",\"type\":\"CDSView\"}},\"id\":\"dbaccc04-a0b7-4bfe-8986-9dcbddff22cc\",\"type\":\"GlyphRenderer\"},{\"attributes\":{\"source\":{\"id\":\"33deffd3-52f0-43fa-8e66-b3580e88bc23\",\"type\":\"ColumnDataSource\"}},\"id\":\"bb91bf88-a4d7-4f99-98d0-cf46351b9a35\",\"type\":\"CDSView\"},{\"attributes\":{\"line_alpha\":0.6,\"line_color\":\"#377eb8\",\"line_dash\":[6],\"line_width\":5,\"x\":{\"field\":\"x\"},\"y\":{\"field\":\"y\"}},\"id\":\"b5869429-dd63-44b8-9e63-ad60e1191bde\",\"type\":\"Line\"},{\"attributes\":{},\"id\":\"159d95a7-1c5b-4f86-aea5-6fcfda0cb453\",\"type\":\"UnionRenderers\"},{\"attributes\":{\"fill_alpha\":{\"value\":0.1},\"fill_color\":{\"value\":\"#1f77b4\"},\"line_alpha\":{\"value\":0.1},\"line_color\":{\"value\":\"#1f77b4\"},\"x\":{\"field\":\"x\"},\"y\":{\"field\":\"y\"}},\"id\":\"7aa7d64d-4883-4a83-ad83-e6a6dbabb18d\",\"type\":\"Circle\"},{\"attributes\":{\"line_alpha\":0.1,\"line_color\":\"#1f77b4\",\"line_width\":1.5,\"x\":{\"field\":\"x\"},\"y\":{\"field\":\"y\"}},\"id\":\"82df5417-c5ae-466e-b37b-fb4beb5c32ee\",\"type\":\"Line\"},{\"attributes\":{\"fill_alpha\":{\"value\":0.1},\"fill_color\":{\"value\":\"#1f77b4\"},\"line_alpha\":{\"value\":0.1},\"line_color\":{\"value\":\"#1f77b4\"},\"x\":{\"field\":\"x\"},\"y\":{\"field\":\"y\"}},\"id\":\"301aed49-931c-4228-abfb-bd1de0c9707e\",\"type\":\"Circle\"},{\"attributes\":{\"callback\":null,\"data\":{\"x\":{\"__ndarray__\":\"FRQETjrXRUDWnCPW5RZDQIyH7qyy4kFAWX3YbF8+QEAY+Xtqbz88QLyGKPnbPDdAIAxeKo3pMUCERhrL1uUpQFY4aqncGiJA9xv6N8czGkCCy45z3dwUQE5dCmCftRFAVlvS2m9LDUD705OmEZUDQEiA9duN9fU/XgvU5pGO+j+hG49/cDIFQI/d2a5UDgtAclVA5xPgEEBaNfy5jhYWQJvu5nWI/B1AucEfnlPUJEDhdVuVcssqQGPun4Qg+ylALdKiCDJOJEBZaUuMGkcgQBZuu+83YxtAAsInDkIFFkCRoiFxXigRQNp1phAt4AtAHLIhQwkICEDlqkyrg8sCQAfURH6nBfo/3P2ndpVF8T8TEeWCt3nnP4Qtuh8i6Ns/PvfkezcSzT85P/B2YUfAP+OzCBCH/KK/e1u1Fxpjyb+/yCCDVdmDv9Qh8mpewuc/MukPY5p+9z+gbdyR8RYAQJi3lljLlwFA2GCTJsUGAEDHQqyyekP+P5isjrsIIv0/6koh27Rq/D9VnUrH0jv8P+ZeQG1kV/w/xQxkqFDu+z9jdSlVJnP7PwOyt3PPB/s/pq3wsk+9+j9W6t1Ibof6P680IUt1hfo/LhJVXoSb+z8eXnx2ZXz8PwlX1QWb/vw/3QbN6ZT9/D+cHQfn1V38P/YUl2y+Rvs/nd6jf0QW+j+1PJxzwf/4P9uwotV0bfg/FXmFSss8+D/b6twu4Df4P+7hEWM5tPc/Nx/GyPOk9j+/WveHFHT1Px+6o3b0iPQ/g/ZUEWER9D9mIX9GsET0PxMydhOT7/o/\",\"dtype\":\"float64\",\"shape\":[75]},\"y\":{\"__ndarray__\":\"GhExyth1ND/Sv8nbtpRIP2vylNV0PVE/aTum7souWD/At0SJ8fVgPw3Iuahxymc/MSNhhJWvcD/bTfBN02d3P2zb5nxnaoA/CD5h5MAGhz8NmeH1TyaQP+zrCsc9p5Y/LbKd76fGnz/bLW5ISEmmPww9YvTcQq8/JV2OstnstT8Er5Y7M8G+P0c+r3jqkcU/5h99k6ZBzj88bCIzFzjVP4enV8oyxN0//yH99nXg5D8qOpLLf0jtP5kqGJXUifQ/c9cS8kHP/D+/DpwzojQEQIEmwoanVwxA4lgXt9HgE0BSSZ2AJuIbQAMJih9jjiNA5q4l5INuK0AwTKYKRj0zQNv5fmq8/DpAaCJseHrtQkB/+zpwzoxKQM3MzMzMeFJAZmZmZmZqWEAAAAAAAFxeQM3MzMzMJmJAmpmZmZkfZUBmZmZmZhhoQDMzMzMzEWtAAAAAAAAKbkBmZmZmZoFwQM3MzMzM/XFAMzMzMzN6c0CamZmZmfZ0QAAAAAAAc3ZAZmZmZmbvd0DNzMzMzGt5QDMzMzMz6HpAmpmZmZlkfEAAAAAAAOF9QGZmZmZmXX9AZmZmZuZsgECamZmZGSuBQM3MzMxM6YFAAAAAAICngkAzMzMzs2WDQGZmZmbmI4RAmpmZmRnihEDNzMzMTKCFQAAAAACAXoZAMzMzM7Mch0BmZmZm5tqHQJqZmZkZmYhAzczMzExXiUAAAAAAgBWKQDMzMzOz04pAZmZmZuaRi0CamZmZGVCMQM3MzMxMDo1AAAAAAIDMjUAzMzMzs4qOQGZmZmbmSI9A\",\"dtype\":\"float64\",\"shape\":[75]}},\"selected\":{\"id\":\"0932c81e-8b62-4f2b-82bb-fc4af531f764\",\"type\":\"Selection\"},\"selection_policy\":{\"id\":\"b72d7c96-159c-4848-8c6e-cbf73ffd216a\",\"type\":\"UnionRenderers\"}},\"id\":\"33deffd3-52f0-43fa-8e66-b3580e88bc23\",\"type\":\"ColumnDataSource\"},{\"attributes\":{\"data_source\":{\"id\":\"5b4e46f9-45a0-48e6-b0b4-f48799b76233\",\"type\":\"ColumnDataSource\"},\"glyph\":{\"id\":\"a4907c33-326c-47b2-a5bd-a81fd7e20a0b\",\"type\":\"Line\"},\"hover_glyph\":null,\"muted_glyph\":null,\"nonselection_glyph\":{\"id\":\"e1206cdc-e342-459a-8c6b-6967c30a650f\",\"type\":\"Line\"},\"selection_glyph\":null,\"view\":{\"id\":\"1ec99ebf-fe0e-48c1-af93-b09ce1d28ee7\",\"type\":\"CDSView\"}},\"id\":\"afae97dd-35e8-4740-9cc3-899db2bb81ef\",\"type\":\"GlyphRenderer\"},{\"attributes\":{},\"id\":\"76ccb987-f591-4af7-92ce-b96109ded72d\",\"type\":\"Selection\"},{\"attributes\":{\"active_drag\":\"auto\",\"active_inspect\":\"auto\",\"active_scroll\":\"auto\",\"active_tap\":\"auto\",\"tools\":[{\"id\":\"882e9d2e-9ea4-4d01-b867-7a27f60ca9b3\",\"type\":\"PanTool\"},{\"id\":\"fa9ec256-60eb-43d5-8602-e38e77da6a84\",\"type\":\"WheelZoomTool\"},{\"id\":\"0b719ab7-d803-4c92-824c-5156dfb7a039\",\"type\":\"BoxZoomTool\"},{\"id\":\"aaf3ad33-8664-4028-bc09-8f55b7a2edf4\",\"type\":\"SaveTool\"},{\"id\":\"b9ce756d-8216-4180-93e5-6bc3bad263e3\",\"type\":\"ResetTool\"},{\"id\":\"d18f9c86-81ca-4de5-83a2-e2b5575758ee\",\"type\":\"HelpTool\"}]},\"id\":\"dcbffff0-1d48-4a29-9de7-dcf5aa20e681\",\"type\":\"Toolbar\"},{\"attributes\":{},\"id\":\"8060bef2-0eb1-47fa-af68-260efdc2ffee\",\"type\":\"UnionRenderers\"},{\"attributes\":{\"bottom_units\":\"screen\",\"fill_alpha\":{\"value\":0.5},\"fill_color\":{\"value\":\"lightgrey\"},\"left_units\":\"screen\",\"level\":\"overlay\",\"line_alpha\":{\"value\":1.0},\"line_color\":{\"value\":\"black\"},\"line_dash\":[4,4],\"line_width\":{\"value\":2},\"plot\":null,\"render_mode\":\"css\",\"right_units\":\"screen\",\"top_units\":\"screen\"},\"id\":\"a628937a-0e5f-4539-8161-5a5d2887cdd2\",\"type\":\"BoxAnnotation\"},{\"attributes\":{\"plot\":null,\"text\":\"\"},\"id\":\"cb6b7366-921e-47c2-aabe-7eaaf98f122c\",\"type\":\"Title\"},{\"attributes\":{},\"id\":\"5424ed1f-e1b4-434d-b282-8ef9c5dd4bf3\",\"type\":\"BasicTickFormatter\"},{\"attributes\":{},\"id\":\"f6b29e21-42d3-47e9-9829-f20e2d4e3219\",\"type\":\"UnionRenderers\"},{\"attributes\":{},\"id\":\"e117d52f-f35d-4ae2-8658-3133d9b41e95\",\"type\":\"UnionRenderers\"},{\"attributes\":{},\"id\":\"aaf3ad33-8664-4028-bc09-8f55b7a2edf4\",\"type\":\"SaveTool\"},{\"attributes\":{\"ticker\":null},\"id\":\"6fc190a9-8d3e-4647-9266-c89215acb03a\",\"type\":\"LogTickFormatter\"},{\"attributes\":{},\"id\":\"b0824642-e921-4ef8-8954-795162c4f09b\",\"type\":\"WheelZoomTool\"},{\"attributes\":{},\"id\":\"dd79f225-3b0b-49db-8e7d-afefea606bb6\",\"type\":\"Selection\"},{\"attributes\":{\"items\":[{\"id\":\"0fb76589-dce1-4bcd-badb-25ad22d0513c\",\"type\":\"LegendItem\"}],\"label_text_font_size\":{\"value\":\"8pt\"},\"location\":\"top_center\",\"orientation\":\"horizontal\",\"plot\":{\"id\":\"29cd17ec-3ffd-4078-9ae4-7711fb3df682\",\"subtype\":\"Figure\",\"type\":\"Plot\"}},\"id\":\"c88fb3a1-d789-47de-9947-b6a28385bfe2\",\"type\":\"Legend\"},{\"attributes\":{},\"id\":\"54dd4792-436b-4b40-a5ca-33442f7500f5\",\"type\":\"Selection\"},{\"attributes\":{},\"id\":\"8d072ffc-cd28-400a-8f84-4277b8889ccd\",\"type\":\"LinearScale\"},{\"attributes\":{\"children\":[{\"id\":\"7645ddc3-5689-4b98-9f22-7d9160d545a5\",\"subtype\":\"Figure\",\"type\":\"Plot\"},{\"id\":\"f55c3a88-ddf4-44c7-b7cd-f563f5f1d4a8\",\"subtype\":\"Figure\",\"type\":\"Plot\"},{\"id\":\"29cd17ec-3ffd-4078-9ae4-7711fb3df682\",\"subtype\":\"Figure\",\"type\":\"Plot\"}]},\"id\":\"ba8b8da0-a133-4737-a279-5f9c301953d4\",\"type\":\"Row\"},{\"attributes\":{\"line_alpha\":0.1,\"line_color\":\"#1f77b4\",\"line_dash\":[6],\"line_width\":5,\"x\":{\"field\":\"x\"},\"y\":{\"field\":\"y\"}},\"id\":\"e1206cdc-e342-459a-8c6b-6967c30a650f\",\"type\":\"Line\"},{\"attributes\":{\"children\":[{\"id\":\"29052ee1-8b91-4669-a19c-4e1ab1eb6497\",\"type\":\"ToolbarBox\"},{\"id\":\"4b2fb910-bd2a-41fd-98a0-b389c111e08e\",\"type\":\"Column\"}]},\"id\":\"bca17dab-da26-45ac-bf8c-a69cc05e79cd\",\"type\":\"Column\"},{\"attributes\":{},\"id\":\"6600cda9-b8ae-4e15-a96a-85dfa9c4268a\",\"type\":\"UnionRenderers\"},{\"attributes\":{},\"id\":\"882e9d2e-9ea4-4d01-b867-7a27f60ca9b3\",\"type\":\"PanTool\"},{\"attributes\":{},\"id\":\"47c5143f-fa60-4bb8-861d-0ac7b110f0a7\",\"type\":\"Selection\"},{\"attributes\":{},\"id\":\"f500c570-82ff-4118-8a10-4aef7134deb9\",\"type\":\"Selection\"},{\"attributes\":{\"fill_alpha\":{\"value\":0.7},\"fill_color\":{\"value\":\"#4daf4a\"},\"line_alpha\":{\"value\":0.7},\"line_color\":{\"value\":\"#4daf4a\"},\"x\":{\"field\":\"x\"},\"y\":{\"field\":\"y\"}},\"id\":\"1ce2e6bb-8343-4713-a323-18dc0d4668ae\",\"type\":\"Circle\"},{\"attributes\":{},\"id\":\"ec7c688a-1aa6-46ae-a731-b3cc26a23661\",\"type\":\"BasicTickFormatter\"},{\"attributes\":{\"num_minor_ticks\":10},\"id\":\"a205b64a-a4ad-4f59-90b9-9a36a5215eb5\",\"type\":\"LogTicker\"},{\"attributes\":{\"callback\":null,\"data\":{\"x\":{\"__ndarray__\":\"cm1sTMT3VEDEyvjosEJHQOKI6DjzCUNArgQWV9awPkB9Lm8XG3M4QEz+Qv6iYzNA7eV8HaPLLkCX1QHyTpMoQFBmYSYetiNAUB04GtGpH0AmFyVE5j8ZQJca9QPGqBNALJP+OOHHDEBNxaf7QF8AQKtislomWuw/cW2dcO6A9T/uJJvfPu0EQIaQLTI/JQ1AxGiII+PmEkCJvfVeuCsYQD6ZBhGbHB9AXQw69DTYJEAsubcwKucqQNuT9D5OmipAJyi3szEJJUBlNebh5WkgQDDcPHBr2xlArtlANXuQFEBdJadFHckQQI2Avh0ZsQtAjYiwt1rsBUCL0SDoVBgAQK6C0nEEjvc/CggLSme58T9sXU2orFPnP0v0JYz9Gdg/vT38vxYczD9nBQTe6kHHP1IhkEXJwKo/8OZnhCVAub+xtVgCpmqzP6DUpY6g0+k/PKK3T1h4+D8RTDjQc1EAQG/dAQs7TwJAQt2eHpPLAEBWEh074x//PyCap9ZSGf4/rEzaTySm/T+7aXhHRmr9P688KeqeNP0/ruZ4EemD/D8olrZcn9T7P0+vNc9hW/s/i9VVL+4P+z+0NzC24uz6P8731Kza8vo/xFf4SHzq+z+gYyHpvHb8P68ROkiFevw/BAjYdCga/D8AUp8VbW77P3JrF/nKmvo/qCQeGfq++T/dplwHJfn4P2G4p+Uva/g/OzZ0RqMZ+D8dmn/iar73P/OuA7Ka8PY/gaaeQHGn9T9hkyjAH1L0P3aZGhdAU/M/n8VP/g7P8j+90HxHNvfyPwhNBtgrqvk/\",\"dtype\":\"float64\",\"shape\":[75]},\"y\":{\"__ndarray__\":\"GhExyth1ND/Sv8nbtpRIP2vylNV0PVE/aTum7souWD/At0SJ8fVgPw3Iuahxymc/MSNhhJWvcD/bTfBN02d3P2zb5nxnaoA/CD5h5MAGhz8NmeH1TyaQP+zrCsc9p5Y/LbKd76fGnz/bLW5ISEmmPww9YvTcQq8/JV2OstnstT8Er5Y7M8G+P0c+r3jqkcU/5h99k6ZBzj88bCIzFzjVP4enV8oyxN0//yH99nXg5D8qOpLLf0jtP5kqGJXUifQ/c9cS8kHP/D+/DpwzojQEQIEmwoanVwxA4lgXt9HgE0BSSZ2AJuIbQAMJih9jjiNA5q4l5INuK0AwTKYKRj0zQNv5fmq8/DpAaCJseHrtQkB/+zpwzoxKQM3MzMzMeFJAZmZmZmZqWEAAAAAAAFxeQM3MzMzMJmJAmpmZmZkfZUBmZmZmZhhoQDMzMzMzEWtAAAAAAAAKbkBmZmZmZoFwQM3MzMzM/XFAMzMzMzN6c0CamZmZmfZ0QAAAAAAAc3ZAZmZmZmbvd0DNzMzMzGt5QDMzMzMz6HpAmpmZmZlkfEAAAAAAAOF9QGZmZmZmXX9AZmZmZuZsgECamZmZGSuBQM3MzMxM6YFAAAAAAICngkAzMzMzs2WDQGZmZmbmI4RAmpmZmRnihEDNzMzMTKCFQAAAAACAXoZAMzMzM7Mch0BmZmZm5tqHQJqZmZkZmYhAzczMzExXiUAAAAAAgBWKQDMzMzOz04pAZmZmZuaRi0CamZmZGVCMQM3MzMxMDo1AAAAAAIDMjUAzMzMzs4qOQGZmZmbmSI9A\",\"dtype\":\"float64\",\"shape\":[75]}},\"selected\":{\"id\":\"f2998132-b36a-4bff-9ee2-7febc54f8172\",\"type\":\"Selection\"},\"selection_policy\":{\"id\":\"e117d52f-f35d-4ae2-8658-3133d9b41e95\",\"type\":\"UnionRenderers\"}},\"id\":\"869f974a-8f45-4ecf-84ec-803fcc28b7d6\",\"type\":\"ColumnDataSource\"},{\"attributes\":{\"ticker\":null},\"id\":\"7345cc87-3755-4c39-906e-b5cee23e4f68\",\"type\":\"LogTickFormatter\"},{\"attributes\":{\"tools\":[{\"id\":\"c8773661-aca7-4e30-99bb-9a40f7e6f1e2\",\"type\":\"PanTool\"},{\"id\":\"8f284e33-10d0-42bf-aa64-fde60d03fa68\",\"type\":\"WheelZoomTool\"},{\"id\":\"66eb5e3a-82ab-4d81-8018-9a39b0569e7f\",\"type\":\"BoxZoomTool\"},{\"id\":\"d7d99cc7-5ce3-4eec-8ba9-a67f72a7bac2\",\"type\":\"SaveTool\"},{\"id\":\"28e114b7-4a22-4bdf-939e-d7e2d55b55ec\",\"type\":\"ResetTool\"},{\"id\":\"a0aced31-6692-4d1f-b53a-33b6c66dd8ca\",\"type\":\"HelpTool\"},{\"id\":\"48e7abbf-6816-49e0-b679-eb35dc0f2f31\",\"type\":\"PanTool\"},{\"id\":\"b0824642-e921-4ef8-8954-795162c4f09b\",\"type\":\"WheelZoomTool\"},{\"id\":\"e8406b29-0696-4ac0-a6bd-4fc4354075bf\",\"type\":\"BoxZoomTool\"},{\"id\":\"708dde14-c243-4e1f-b52c-e0836f674e0e\",\"type\":\"SaveTool\"},{\"id\":\"31886625-3e7c-44d8-a89b-c2c151c3449b\",\"type\":\"ResetTool\"},{\"id\":\"6672729f-1789-4245-9263-edff81aaf3d9\",\"type\":\"HelpTool\"},{\"id\":\"882e9d2e-9ea4-4d01-b867-7a27f60ca9b3\",\"type\":\"PanTool\"},{\"id\":\"fa9ec256-60eb-43d5-8602-e38e77da6a84\",\"type\":\"WheelZoomTool\"},{\"id\":\"0b719ab7-d803-4c92-824c-5156dfb7a039\",\"type\":\"BoxZoomTool\"},{\"id\":\"aaf3ad33-8664-4028-bc09-8f55b7a2edf4\",\"type\":\"SaveTool\"},{\"id\":\"b9ce756d-8216-4180-93e5-6bc3bad263e3\",\"type\":\"ResetTool\"},{\"id\":\"d18f9c86-81ca-4de5-83a2-e2b5575758ee\",\"type\":\"HelpTool\"}]},\"id\":\"05f9a58f-1b5b-4e82-8aa4-1baca7119dba\",\"type\":\"ProxyToolbar\"},{\"attributes\":{\"dimension\":1,\"plot\":{\"id\":\"29cd17ec-3ffd-4078-9ae4-7711fb3df682\",\"subtype\":\"Figure\",\"type\":\"Plot\"},\"ticker\":{\"id\":\"a205b64a-a4ad-4f59-90b9-9a36a5215eb5\",\"type\":\"LogTicker\"}},\"id\":\"a09ecc44-4362-4d39-b56f-b9838e33df0f\",\"type\":\"Grid\"},{\"attributes\":{\"plot\":null,\"text\":\"\"},\"id\":\"8fcba11e-0aeb-4374-b628-3d314777a350\",\"type\":\"Title\"},{\"attributes\":{},\"id\":\"f2998132-b36a-4bff-9ee2-7febc54f8172\",\"type\":\"Selection\"},{\"attributes\":{\"toolbar\":{\"id\":\"05f9a58f-1b5b-4e82-8aa4-1baca7119dba\",\"type\":\"ProxyToolbar\"},\"toolbar_location\":\"above\"},\"id\":\"29052ee1-8b91-4669-a19c-4e1ab1eb6497\",\"type\":\"ToolbarBox\"},{\"attributes\":{\"source\":{\"id\":\"5b4e46f9-45a0-48e6-b0b4-f48799b76233\",\"type\":\"ColumnDataSource\"}},\"id\":\"1ec99ebf-fe0e-48c1-af93-b09ce1d28ee7\",\"type\":\"CDSView\"},{\"attributes\":{\"axis_label\":\"pressure [mb]\",\"formatter\":{\"id\":\"6fc190a9-8d3e-4647-9266-c89215acb03a\",\"type\":\"LogTickFormatter\"},\"plot\":{\"id\":\"29cd17ec-3ffd-4078-9ae4-7711fb3df682\",\"subtype\":\"Figure\",\"type\":\"Plot\"},\"ticker\":{\"id\":\"a205b64a-a4ad-4f59-90b9-9a36a5215eb5\",\"type\":\"LogTicker\"}},\"id\":\"cb9fc0b9-4ec5-4aab-a256-8f9f37c2c13f\",\"type\":\"LogAxis\"},{\"attributes\":{\"label\":{\"value\":\"CRD\"},\"renderers\":[{\"id\":\"960e04d9-d59b-4269-9779-d81ab7c3096e\",\"type\":\"GlyphRenderer\"},{\"id\":\"d0e522f4-957a-4e62-923a-41d043a36ef7\",\"type\":\"GlyphRenderer\"}]},\"id\":\"8dd6075f-f187-49df-b98f-4bbc3c04a499\",\"type\":\"LegendItem\"},{\"attributes\":{},\"id\":\"0932c81e-8b62-4f2b-82bb-fc4af531f764\",\"type\":\"Selection\"},{\"attributes\":{},\"id\":\"859d9ec6-71cb-4d99-950c-1b1f63bf1295\",\"type\":\"Selection\"},{\"attributes\":{\"plot\":{\"id\":\"29cd17ec-3ffd-4078-9ae4-7711fb3df682\",\"subtype\":\"Figure\",\"type\":\"Plot\"},\"ticker\":{\"id\":\"82e6a713-4de4-4c36-a7c8-b4aea405de92\",\"type\":\"BasicTicker\"}},\"id\":\"d442bcd1-ae76-413e-9efc-1e01683afb8a\",\"type\":\"Grid\"},{\"attributes\":{},\"id\":\"e8fa6331-d852-4bd8-8e1b-1ee60a23a8c5\",\"type\":\"UnionRenderers\"},{\"attributes\":{},\"id\":\"4dde53da-1a1e-42a7-8ea0-96d3a50b90aa\",\"type\":\"LogScale\"},{\"attributes\":{\"callback\":null,\"end\":0.01,\"start\":1020},\"id\":\"709ad4e8-4007-4dfc-af80-b56bb15de3dc\",\"type\":\"Range1d\"},{\"attributes\":{\"plot\":null,\"text\":\"\"},\"id\":\"8779ecd1-31b7-45fa-a5c8-b509a167a3e6\",\"type\":\"Title\"},{\"attributes\":{\"line_alpha\":0.6,\"line_color\":\"#377eb8\",\"line_dash\":[6],\"line_width\":5,\"x\":{\"field\":\"x\"},\"y\":{\"field\":\"y\"}},\"id\":\"a4907c33-326c-47b2-a5bd-a81fd7e20a0b\",\"type\":\"Line\"}],\"root_ids\":[\"bca17dab-da26-45ac-bf8c-a69cc05e79cd\"]},\"title\":\"Bokeh Application\",\"version\":\"0.12.16\"}};\n",
       "  var render_items = [{\"docid\":\"57c61460-790e-4d46-b74c-7b7ef806545e\",\"elementid\":\"750edea8-7873-479e-b6e7-9e9139c1bd1a\",\"modelid\":\"bca17dab-da26-45ac-bf8c-a69cc05e79cd\"}];\n",
       "  root.Bokeh.embed.embed_items_notebook(docs_json, render_items);\n",
       "\n",
       "  }\n",
       "  if (root.Bokeh !== undefined) {\n",
       "    embed_document(root);\n",
       "  } else {\n",
       "    var attempts = 0;\n",
       "    var timer = setInterval(function(root) {\n",
       "      if (root.Bokeh !== undefined) {\n",
       "        embed_document(root);\n",
       "        clearInterval(timer);\n",
       "      }\n",
       "      attempts++;\n",
       "      if (attempts > 100) {\n",
       "        console.log(\"Bokeh: ERROR: Unable to run BokehJS code because BokehJS library is missing\")\n",
       "        clearInterval(timer);\n",
       "      }\n",
       "    }, 10, root)\n",
       "  }\n",
       "})(window);"
      ],
      "application/vnd.bokehjs_exec.v0+json": ""
     },
     "metadata": {
      "application/vnd.bokehjs_exec.v0+json": {
       "id": "bca17dab-da26-45ac-bf8c-a69cc05e79cd"
      }
     },
     "output_type": "display_data"
    },
    {
     "data": {
      "text/markdown": [
       "*FIGURE.* Cooling rates & difference."
      ],
      "text/plain": [
       "<IPython.core.display.Markdown object>"
      ]
     },
     "metadata": {},
     "output_type": "display_data"
    },
    {
     "data": {
      "text/html": [
       "<a id=\"Fluxes._mls.\"></a>"
      ],
      "text/plain": [
       "<IPython.core.display.HTML object>"
      ]
     },
     "metadata": {},
     "output_type": "display_data"
    },
    {
     "data": {
      "text/markdown": [
       "# Fluxes. mls."
      ],
      "text/plain": [
       "<IPython.core.display.Markdown object>"
      ]
     },
     "metadata": {},
     "output_type": "display_data"
    },
    {
     "data": {
      "text/html": [
       "\n",
       "<div class=\"bk-root\">\n",
       "    <div class=\"bk-plotdiv\" id=\"a264a54b-8332-45c1-9986-63ae475935af\"></div>\n",
       "</div>"
      ]
     },
     "metadata": {},
     "output_type": "display_data"
    },
    {
     "data": {
      "application/javascript": [
       "(function(root) {\n",
       "  function embed_document(root) {\n",
       "    \n",
       "  var docs_json = {\"ab6665dc-5302-4bcf-a2ec-0c9730819745\":{\"roots\":{\"references\":[{\"attributes\":{\"fill_color\":{\"value\":\"#1f77b4\"},\"line_color\":{\"value\":\"#1f77b4\"},\"top\":{\"field\":\"flux\"},\"width\":{\"value\":0.9},\"x\":{\"field\":\"band\"}},\"id\":\"36994a8c-ea0e-4db0-81c1-7d80637c7777\",\"type\":\"VBar\"},{\"attributes\":{\"callback\":null},\"id\":\"7dedf5ec-60ca-4f1b-9c37-ad59f4364443\",\"type\":\"DataRange1d\"},{\"attributes\":{\"data_source\":{\"id\":\"fb11b465-c226-4e62-9eed-71450c21ea83\",\"type\":\"ColumnDataSource\"},\"glyph\":{\"id\":\"36994a8c-ea0e-4db0-81c1-7d80637c7777\",\"type\":\"VBar\"},\"hover_glyph\":null,\"muted_glyph\":null,\"nonselection_glyph\":{\"id\":\"f4f384be-0553-470e-b4ff-e793cfe8e0c7\",\"type\":\"VBar\"},\"selection_glyph\":null,\"view\":{\"id\":\"2d351f5f-3d9e-4291-8678-c209b76e79f3\",\"type\":\"CDSView\"}},\"id\":\"7449b5a3-c952-42c6-ac0c-31e4907e8972\",\"type\":\"GlyphRenderer\"},{\"attributes\":{},\"id\":\"b4bdc28d-6855-4031-bd47-c677689f8513\",\"type\":\"ResetTool\"},{\"attributes\":{},\"id\":\"651c6564-8cc9-449f-9015-74d2eb54c1fd\",\"type\":\"Selection\"},{\"attributes\":{},\"id\":\"41c58b1b-59ee-4d76-be5b-83e9a633a8f8\",\"type\":\"BasicTicker\"},{\"attributes\":{},\"id\":\"06ae979a-6ca0-4941-a34e-c1d06b19e4fa\",\"type\":\"CategoricalTicker\"},{\"attributes\":{\"active_drag\":\"auto\",\"active_inspect\":\"auto\",\"active_scroll\":\"auto\",\"active_tap\":\"auto\",\"tools\":[{\"id\":\"7e47e20d-25bf-4182-bc32-fbb78fa044a0\",\"type\":\"PanTool\"},{\"id\":\"aa4ad5cf-9e16-4ca4-8297-e2b52714eada\",\"type\":\"WheelZoomTool\"},{\"id\":\"f936d16e-ac1d-4910-94e4-fca6f0735702\",\"type\":\"BoxZoomTool\"},{\"id\":\"6777185c-fbb3-4ae6-9e80-d3d16865dfbf\",\"type\":\"SaveTool\"},{\"id\":\"0a12081a-67f2-44ff-bdfe-df0f07c022ac\",\"type\":\"ResetTool\"},{\"id\":\"99b029cf-cc8a-42fc-ae02-d07d9714971d\",\"type\":\"HelpTool\"}]},\"id\":\"e3d7f402-964a-4632-b0d4-b05e4bbd06be\",\"type\":\"Toolbar\"},{\"attributes\":{\"source\":{\"id\":\"fb11b465-c226-4e62-9eed-71450c21ea83\",\"type\":\"ColumnDataSource\"}},\"id\":\"2d351f5f-3d9e-4291-8678-c209b76e79f3\",\"type\":\"CDSView\"},{\"attributes\":{\"plot\":{\"id\":\"19827442-4722-48a9-8103-ff6b538a5808\",\"subtype\":\"Figure\",\"type\":\"Plot\"},\"ticker\":{\"id\":\"06ae979a-6ca0-4941-a34e-c1d06b19e4fa\",\"type\":\"CategoricalTicker\"}},\"id\":\"e6a5eaf7-abc9-4da6-9de1-0763faa2f0ea\",\"type\":\"Grid\"},{\"attributes\":{},\"id\":\"b11c6e81-1fa0-4a83-ba2d-69b7f5147b6e\",\"type\":\"HelpTool\"},{\"attributes\":{},\"id\":\"80d4e3fe-b599-416d-8cf2-eb6c6fb542e6\",\"type\":\"CategoricalTickFormatter\"},{\"attributes\":{},\"id\":\"d762a2c6-f0e9-4132-9edb-f847b67403cb\",\"type\":\"PanTool\"},{\"attributes\":{},\"id\":\"33bb327b-3246-4530-a05d-8502a6b71f3f\",\"type\":\"SaveTool\"},{\"attributes\":{\"callback\":null,\"data\":{\"band\":[\"1\",\"2\",\"3\",\"4\",\"5\",\"6\",\"7\",\"8\",\"9\",\"10\",\"11\"],\"flux\":{\"__ndarray__\":\"AEILCRhdyD+AzEHQ0arSP4APCkrRytO/QL3EWKZf0z8AelORCmPQPwBUa2EW2rG/ABjPoKF/2D8ASdv4E5W5vwDgfyvZsZG/YNQ5UPHJwD9A78EQ3sOwPw==\",\"dtype\":\"float64\",\"shape\":[11]}},\"selected\":{\"id\":\"651c6564-8cc9-449f-9015-74d2eb54c1fd\",\"type\":\"Selection\"},\"selection_policy\":{\"id\":\"152bed7b-9363-4dbe-9758-01bc58380fe2\",\"type\":\"UnionRenderers\"}},\"id\":\"9ae9f667-07ee-42cb-a538-1a3de773dc31\",\"type\":\"ColumnDataSource\"},{\"attributes\":{},\"id\":\"88ae32f1-dbbf-452b-8cde-500417259bc4\",\"type\":\"WheelZoomTool\"},{\"attributes\":{},\"id\":\"05a0e175-7080-4f0c-99b0-78ed11f31eec\",\"type\":\"LinearScale\"},{\"attributes\":{\"axis_label\":\"spectral band\",\"formatter\":{\"id\":\"80d4e3fe-b599-416d-8cf2-eb6c6fb542e6\",\"type\":\"CategoricalTickFormatter\"},\"plot\":{\"id\":\"19827442-4722-48a9-8103-ff6b538a5808\",\"subtype\":\"Figure\",\"type\":\"Plot\"},\"ticker\":{\"id\":\"06ae979a-6ca0-4941-a34e-c1d06b19e4fa\",\"type\":\"CategoricalTicker\"}},\"id\":\"c1a6e517-cff8-4440-a50e-8ca17679e1ae\",\"type\":\"CategoricalAxis\"},{\"attributes\":{\"below\":[{\"id\":\"c1a6e517-cff8-4440-a50e-8ca17679e1ae\",\"type\":\"CategoricalAxis\"}],\"left\":[{\"id\":\"571881c6-ffe5-4af4-997e-f9b80fc1ed39\",\"type\":\"LinearAxis\"}],\"plot_height\":300,\"plot_width\":300,\"renderers\":[{\"id\":\"c1a6e517-cff8-4440-a50e-8ca17679e1ae\",\"type\":\"CategoricalAxis\"},{\"id\":\"e6a5eaf7-abc9-4da6-9de1-0763faa2f0ea\",\"type\":\"Grid\"},{\"id\":\"571881c6-ffe5-4af4-997e-f9b80fc1ed39\",\"type\":\"LinearAxis\"},{\"id\":\"87ec0e0e-9936-4e9b-8ae4-881138f73e07\",\"type\":\"Grid\"},{\"id\":\"5b88b05a-c9df-4d21-b1bb-954aad8ca7b2\",\"type\":\"BoxAnnotation\"},{\"id\":\"7449b5a3-c952-42c6-ac0c-31e4907e8972\",\"type\":\"GlyphRenderer\"}],\"title\":{\"id\":\"5699b6ce-0569-4331-a3d6-f39265368fda\",\"type\":\"Title\"},\"toolbar\":{\"id\":\"e3d7f402-964a-4632-b0d4-b05e4bbd06be\",\"type\":\"Toolbar\"},\"toolbar_location\":null,\"x_range\":{\"id\":\"40e94de7-9478-45c4-baba-a589c61d3a2a\",\"type\":\"FactorRange\"},\"x_scale\":{\"id\":\"7645eecb-2dab-4b5a-a415-b95e034f722c\",\"type\":\"CategoricalScale\"},\"y_range\":{\"id\":\"bfcc69d4-70b8-4c6b-a639-2a248a1dd13f\",\"type\":\"DataRange1d\"},\"y_scale\":{\"id\":\"05a0e175-7080-4f0c-99b0-78ed11f31eec\",\"type\":\"LinearScale\"}},\"id\":\"19827442-4722-48a9-8103-ff6b538a5808\",\"subtype\":\"Figure\",\"type\":\"Plot\"},{\"attributes\":{\"plot\":null,\"text\":\"SFC flux. CLIRAD (single-run) - CRD.\"},\"id\":\"5699b6ce-0569-4331-a3d6-f39265368fda\",\"type\":\"Title\"},{\"attributes\":{\"fill_alpha\":{\"value\":0.1},\"fill_color\":{\"value\":\"#1f77b4\"},\"line_alpha\":{\"value\":0.1},\"line_color\":{\"value\":\"#1f77b4\"},\"top\":{\"field\":\"flux\"},\"width\":{\"value\":0.9},\"x\":{\"field\":\"band\"}},\"id\":\"f4f384be-0553-470e-b4ff-e793cfe8e0c7\",\"type\":\"VBar\"},{\"attributes\":{\"dimension\":1,\"plot\":{\"id\":\"19827442-4722-48a9-8103-ff6b538a5808\",\"subtype\":\"Figure\",\"type\":\"Plot\"},\"ticker\":{\"id\":\"41c58b1b-59ee-4d76-be5b-83e9a633a8f8\",\"type\":\"BasicTicker\"}},\"id\":\"87ec0e0e-9936-4e9b-8ae4-881138f73e07\",\"type\":\"Grid\"},{\"attributes\":{},\"id\":\"7645eecb-2dab-4b5a-a415-b95e034f722c\",\"type\":\"CategoricalScale\"},{\"attributes\":{\"callback\":null,\"data\":{\"band\":[\"1\",\"2\",\"3\",\"4\",\"5\",\"6\",\"7\",\"8\",\"9\",\"10\",\"11\"],\"flux\":{\"__ndarray__\":\"AIMde81dyD8AYEI3wVi1vwDYAox4/Ii/gF6tJMO7zj/APGNfsvHOvwAAiSZQxMK/gIzWUdUE1z8A5hw8E5qkP8AoB7MJMMi/QL8FwBXcvT+AeTwtP3CtPw==\",\"dtype\":\"float64\",\"shape\":[11]}},\"selected\":{\"id\":\"e5058fa6-6ffb-4e2f-be06-d467f9012c2d\",\"type\":\"Selection\"},\"selection_policy\":{\"id\":\"6c211974-1733-484c-82ca-ff85eb8e9745\",\"type\":\"UnionRenderers\"}},\"id\":\"a3df6767-81e3-49c5-8818-84a0bbc9aa8b\",\"type\":\"ColumnDataSource\"},{\"attributes\":{\"overlay\":{\"id\":\"b6fac893-2947-46a1-bb99-e844c69688b0\",\"type\":\"BoxAnnotation\"}},\"id\":\"b4f6c0fe-ccdd-4d29-86d6-ca998b8679ce\",\"type\":\"BoxZoomTool\"},{\"attributes\":{\"bottom_units\":\"screen\",\"fill_alpha\":{\"value\":0.5},\"fill_color\":{\"value\":\"lightgrey\"},\"left_units\":\"screen\",\"level\":\"overlay\",\"line_alpha\":{\"value\":1.0},\"line_color\":{\"value\":\"black\"},\"line_dash\":[4,4],\"line_width\":{\"value\":2},\"plot\":null,\"render_mode\":\"css\",\"right_units\":\"screen\",\"top_units\":\"screen\"},\"id\":\"b6fac893-2947-46a1-bb99-e844c69688b0\",\"type\":\"BoxAnnotation\"},{\"attributes\":{\"plot\":null,\"text\":\"TOA flux. CLIRAD (single-run) - CRD.\"},\"id\":\"2ca0b25b-5f4d-48ac-8378-ac265cc9e06d\",\"type\":\"Title\"},{\"attributes\":{},\"id\":\"112233c3-f46f-4415-91f6-8b5d7f1fcb18\",\"type\":\"CategoricalScale\"},{\"attributes\":{\"axis_label\":\"flux (W m-2)\",\"formatter\":{\"id\":\"4036a9b7-82fe-4458-ba56-4bcbed30e4c9\",\"type\":\"BasicTickFormatter\"},\"plot\":{\"id\":\"19827442-4722-48a9-8103-ff6b538a5808\",\"subtype\":\"Figure\",\"type\":\"Plot\"},\"ticker\":{\"id\":\"41c58b1b-59ee-4d76-be5b-83e9a633a8f8\",\"type\":\"BasicTicker\"}},\"id\":\"571881c6-ffe5-4af4-997e-f9b80fc1ed39\",\"type\":\"LinearAxis\"},{\"attributes\":{\"callback\":null,\"factors\":[\"1\",\"2\",\"3\",\"4\",\"5\",\"6\",\"7\",\"8\",\"9\",\"10\",\"11\"]},\"id\":\"cd68710e-9d8a-4a70-b2fe-7a3965989b47\",\"type\":\"FactorRange\"},{\"attributes\":{\"bottom_units\":\"screen\",\"fill_alpha\":{\"value\":0.5},\"fill_color\":{\"value\":\"lightgrey\"},\"left_units\":\"screen\",\"level\":\"overlay\",\"line_alpha\":{\"value\":1.0},\"line_color\":{\"value\":\"black\"},\"line_dash\":[4,4],\"line_width\":{\"value\":2},\"plot\":null,\"render_mode\":\"css\",\"right_units\":\"screen\",\"top_units\":\"screen\"},\"id\":\"89d69efb-ac40-4756-9e74-ecd501580b69\",\"type\":\"BoxAnnotation\"},{\"attributes\":{\"data_source\":{\"id\":\"a3df6767-81e3-49c5-8818-84a0bbc9aa8b\",\"type\":\"ColumnDataSource\"},\"glyph\":{\"id\":\"8396bf77-ecf3-4ca4-95b9-1d4872baabcc\",\"type\":\"VBar\"},\"hover_glyph\":null,\"muted_glyph\":null,\"nonselection_glyph\":{\"id\":\"8606d699-9d21-4677-b860-c8f73b6bebe4\",\"type\":\"VBar\"},\"selection_glyph\":null,\"view\":{\"id\":\"669ad6ed-b347-4812-bb8e-9c99c006744b\",\"type\":\"CDSView\"}},\"id\":\"5f361bd3-90fa-4f2c-94e1-5f4bec00b8e0\",\"type\":\"GlyphRenderer\"},{\"attributes\":{\"dimension\":1,\"plot\":{\"id\":\"c5a31ed4-2787-40bd-a36c-7704747255df\",\"subtype\":\"Figure\",\"type\":\"Plot\"},\"ticker\":{\"id\":\"736fb452-f860-4c3d-b4c6-59f1b88ac1db\",\"type\":\"BasicTicker\"}},\"id\":\"8fc182bf-ed2d-4258-b10e-0fa37c8fe096\",\"type\":\"Grid\"},{\"attributes\":{\"below\":[{\"id\":\"260dd413-f1c4-4bd6-aeca-175aea7607c1\",\"type\":\"CategoricalAxis\"}],\"left\":[{\"id\":\"10c0a307-1194-4181-9ac2-6f32a109379e\",\"type\":\"LinearAxis\"}],\"plot_height\":300,\"plot_width\":300,\"renderers\":[{\"id\":\"260dd413-f1c4-4bd6-aeca-175aea7607c1\",\"type\":\"CategoricalAxis\"},{\"id\":\"93541fb4-014b-4dd1-87a7-61c4063019ba\",\"type\":\"Grid\"},{\"id\":\"10c0a307-1194-4181-9ac2-6f32a109379e\",\"type\":\"LinearAxis\"},{\"id\":\"b9661f1b-46cf-4f50-948c-75bd23fab294\",\"type\":\"Grid\"},{\"id\":\"89d69efb-ac40-4756-9e74-ecd501580b69\",\"type\":\"BoxAnnotation\"},{\"id\":\"5f361bd3-90fa-4f2c-94e1-5f4bec00b8e0\",\"type\":\"GlyphRenderer\"}],\"title\":{\"id\":\"2edf73c2-d7a6-4348-a9e7-f22da3634f48\",\"type\":\"Title\"},\"toolbar\":{\"id\":\"6e7c3b30-a187-408d-a64c-11610a708ea4\",\"type\":\"Toolbar\"},\"toolbar_location\":null,\"x_range\":{\"id\":\"cd68710e-9d8a-4a70-b2fe-7a3965989b47\",\"type\":\"FactorRange\"},\"x_scale\":{\"id\":\"a2e326c7-5197-419f-bf96-a8b73f031f2c\",\"type\":\"CategoricalScale\"},\"y_range\":{\"id\":\"b8ce5ee1-a8ed-4683-8b54-0b5e4bcc3848\",\"type\":\"DataRange1d\"},\"y_scale\":{\"id\":\"4b05e5d0-f0b6-4ee8-b73d-3401f5ace4b1\",\"type\":\"LinearScale\"}},\"id\":\"33161925-94aa-4721-87ec-d95d4117be66\",\"subtype\":\"Figure\",\"type\":\"Plot\"},{\"attributes\":{\"plot\":{\"id\":\"c5a31ed4-2787-40bd-a36c-7704747255df\",\"subtype\":\"Figure\",\"type\":\"Plot\"},\"ticker\":{\"id\":\"88476fd9-d41a-4dda-a041-50972850e0c1\",\"type\":\"CategoricalTicker\"}},\"id\":\"89840ec8-79eb-4a2e-8248-113d5a94b21b\",\"type\":\"Grid\"},{\"attributes\":{\"overlay\":{\"id\":\"5b88b05a-c9df-4d21-b1bb-954aad8ca7b2\",\"type\":\"BoxAnnotation\"}},\"id\":\"f936d16e-ac1d-4910-94e4-fca6f0735702\",\"type\":\"BoxZoomTool\"},{\"attributes\":{\"axis_label\":\"spectral band\",\"formatter\":{\"id\":\"cc974462-5173-403c-8d31-fc79d0f1b4a5\",\"type\":\"CategoricalTickFormatter\"},\"plot\":{\"id\":\"33161925-94aa-4721-87ec-d95d4117be66\",\"subtype\":\"Figure\",\"type\":\"Plot\"},\"ticker\":{\"id\":\"48c49ec0-f612-437c-9aa6-e4f7ada679a6\",\"type\":\"CategoricalTicker\"}},\"id\":\"260dd413-f1c4-4bd6-aeca-175aea7607c1\",\"type\":\"CategoricalAxis\"},{\"attributes\":{\"data_source\":{\"id\":\"9ae9f667-07ee-42cb-a538-1a3de773dc31\",\"type\":\"ColumnDataSource\"},\"glyph\":{\"id\":\"3697bd1d-8c30-4a96-a944-fa898c9a739a\",\"type\":\"VBar\"},\"hover_glyph\":null,\"muted_glyph\":null,\"nonselection_glyph\":{\"id\":\"dba46423-1cb4-4fdf-af77-17a8b14b0792\",\"type\":\"VBar\"},\"selection_glyph\":null,\"view\":{\"id\":\"bf9fbf28-fbab-43be-8c31-48a2933fe830\",\"type\":\"CDSView\"}},\"id\":\"87d6e650-7362-4147-9e52-47ae52d70be9\",\"type\":\"GlyphRenderer\"},{\"attributes\":{\"fill_alpha\":{\"value\":0.1},\"fill_color\":{\"value\":\"#1f77b4\"},\"line_alpha\":{\"value\":0.1},\"line_color\":{\"value\":\"#1f77b4\"},\"top\":{\"field\":\"flux\"},\"width\":{\"value\":0.9},\"x\":{\"field\":\"band\"}},\"id\":\"dba46423-1cb4-4fdf-af77-17a8b14b0792\",\"type\":\"VBar\"},{\"attributes\":{\"active_drag\":\"auto\",\"active_inspect\":\"auto\",\"active_scroll\":\"auto\",\"active_tap\":\"auto\",\"tools\":[{\"id\":\"ef0c9bb0-cbb9-4340-991e-21141503e42b\",\"type\":\"PanTool\"},{\"id\":\"6b465f9b-93a3-4ac2-b59b-b79e2aaec3b5\",\"type\":\"WheelZoomTool\"},{\"id\":\"9b7ed231-9028-4744-a6fd-7645ad66e7b4\",\"type\":\"BoxZoomTool\"},{\"id\":\"3b96354a-f7a1-4589-b39c-027d12938e73\",\"type\":\"SaveTool\"},{\"id\":\"95734a7c-6de9-46f4-8c62-807169076571\",\"type\":\"ResetTool\"},{\"id\":\"d11c0a91-1df5-4865-9f09-2d9e3cdd9bf2\",\"type\":\"HelpTool\"}]},\"id\":\"6e7c3b30-a187-408d-a64c-11610a708ea4\",\"type\":\"Toolbar\"},{\"attributes\":{},\"id\":\"a2e326c7-5197-419f-bf96-a8b73f031f2c\",\"type\":\"CategoricalScale\"},{\"attributes\":{},\"id\":\"6b465f9b-93a3-4ac2-b59b-b79e2aaec3b5\",\"type\":\"WheelZoomTool\"},{\"attributes\":{\"callback\":null,\"factors\":[\"1\",\"2\",\"3\",\"4\",\"5\",\"6\",\"7\",\"8\",\"9\",\"10\",\"11\"]},\"id\":\"40e94de7-9478-45c4-baba-a589c61d3a2a\",\"type\":\"FactorRange\"},{\"attributes\":{\"source\":{\"id\":\"a3df6767-81e3-49c5-8818-84a0bbc9aa8b\",\"type\":\"ColumnDataSource\"}},\"id\":\"669ad6ed-b347-4812-bb8e-9c99c006744b\",\"type\":\"CDSView\"},{\"attributes\":{\"active_drag\":\"auto\",\"active_inspect\":\"auto\",\"active_scroll\":\"auto\",\"active_tap\":\"auto\",\"tools\":[{\"id\":\"d762a2c6-f0e9-4132-9edb-f847b67403cb\",\"type\":\"PanTool\"},{\"id\":\"88ae32f1-dbbf-452b-8cde-500417259bc4\",\"type\":\"WheelZoomTool\"},{\"id\":\"b4f6c0fe-ccdd-4d29-86d6-ca998b8679ce\",\"type\":\"BoxZoomTool\"},{\"id\":\"33bb327b-3246-4530-a05d-8502a6b71f3f\",\"type\":\"SaveTool\"},{\"id\":\"b4bdc28d-6855-4031-bd47-c677689f8513\",\"type\":\"ResetTool\"},{\"id\":\"b11c6e81-1fa0-4a83-ba2d-69b7f5147b6e\",\"type\":\"HelpTool\"}]},\"id\":\"e5aa272c-f54d-4b24-8544-328e7c8f4233\",\"type\":\"Toolbar\"},{\"attributes\":{\"dimension\":1,\"plot\":{\"id\":\"33161925-94aa-4721-87ec-d95d4117be66\",\"subtype\":\"Figure\",\"type\":\"Plot\"},\"ticker\":{\"id\":\"b82bb8bb-d7bd-4f33-b94d-b76fd1a53e5d\",\"type\":\"BasicTicker\"}},\"id\":\"b9661f1b-46cf-4f50-948c-75bd23fab294\",\"type\":\"Grid\"},{\"attributes\":{},\"id\":\"152bed7b-9363-4dbe-9758-01bc58380fe2\",\"type\":\"UnionRenderers\"},{\"attributes\":{},\"id\":\"56bfb315-fe39-4e6c-8ad0-528653cb1f26\",\"type\":\"Selection\"},{\"attributes\":{},\"id\":\"e5058fa6-6ffb-4e2f-be06-d467f9012c2d\",\"type\":\"Selection\"},{\"attributes\":{},\"id\":\"6777185c-fbb3-4ae6-9e80-d3d16865dfbf\",\"type\":\"SaveTool\"},{\"attributes\":{\"callback\":null,\"data\":{\"band\":[\"1\",\"2\",\"3\",\"4\",\"5\",\"6\",\"7\",\"8\",\"9\",\"10\",\"11\"],\"flux\":{\"__ndarray__\":\"AAAAAyUF9r4AgsR29wDYPwCfjzLiAtO/AFBWDFcHsD8AYMsr19vfPwDchqzJrrM/AEwuIXqtlz9gN3gVCPHBvwBuhhvw+cU/AKBF71TAjT8ArDGNy12APw==\",\"dtype\":\"float64\",\"shape\":[11]}},\"selected\":{\"id\":\"56bfb315-fe39-4e6c-8ad0-528653cb1f26\",\"type\":\"Selection\"},\"selection_policy\":{\"id\":\"e4455551-5201-4688-932d-d19f840f68ea\",\"type\":\"UnionRenderers\"}},\"id\":\"fb11b465-c226-4e62-9eed-71450c21ea83\",\"type\":\"ColumnDataSource\"},{\"attributes\":{},\"id\":\"b82bb8bb-d7bd-4f33-b94d-b76fd1a53e5d\",\"type\":\"BasicTicker\"},{\"attributes\":{\"axis_label\":\"flux (W m-2)\",\"formatter\":{\"id\":\"064dda12-8996-45d2-afca-388c5bb04129\",\"type\":\"BasicTickFormatter\"},\"plot\":{\"id\":\"33161925-94aa-4721-87ec-d95d4117be66\",\"subtype\":\"Figure\",\"type\":\"Plot\"},\"ticker\":{\"id\":\"b82bb8bb-d7bd-4f33-b94d-b76fd1a53e5d\",\"type\":\"BasicTicker\"}},\"id\":\"10c0a307-1194-4181-9ac2-6f32a109379e\",\"type\":\"LinearAxis\"},{\"attributes\":{\"axis_label\":\"flux (W m-2)\",\"formatter\":{\"id\":\"605dfe5e-5bb0-4358-865e-099e5602304f\",\"type\":\"BasicTickFormatter\"},\"plot\":{\"id\":\"c5a31ed4-2787-40bd-a36c-7704747255df\",\"subtype\":\"Figure\",\"type\":\"Plot\"},\"ticker\":{\"id\":\"736fb452-f860-4c3d-b4c6-59f1b88ac1db\",\"type\":\"BasicTicker\"}},\"id\":\"500ed27d-f165-4c08-97fb-cd1df266e02e\",\"type\":\"LinearAxis\"},{\"attributes\":{\"children\":[{\"id\":\"c5a31ed4-2787-40bd-a36c-7704747255df\",\"subtype\":\"Figure\",\"type\":\"Plot\"},{\"id\":\"19827442-4722-48a9-8103-ff6b538a5808\",\"subtype\":\"Figure\",\"type\":\"Plot\"},{\"id\":\"33161925-94aa-4721-87ec-d95d4117be66\",\"subtype\":\"Figure\",\"type\":\"Plot\"}]},\"id\":\"a8a7623f-ff95-4dcb-83c7-b90d5a0674aa\",\"type\":\"Row\"},{\"attributes\":{\"callback\":null,\"factors\":[\"1\",\"2\",\"3\",\"4\",\"5\",\"6\",\"7\",\"8\",\"9\",\"10\",\"11\"]},\"id\":\"f5721aae-1471-4867-bf31-6e84a7d6292f\",\"type\":\"FactorRange\"},{\"attributes\":{},\"id\":\"99b029cf-cc8a-42fc-ae02-d07d9714971d\",\"type\":\"HelpTool\"},{\"attributes\":{\"fill_color\":{\"value\":\"#1f77b4\"},\"line_color\":{\"value\":\"#1f77b4\"},\"top\":{\"field\":\"flux\"},\"width\":{\"value\":0.9},\"x\":{\"field\":\"band\"}},\"id\":\"3697bd1d-8c30-4a96-a944-fa898c9a739a\",\"type\":\"VBar\"},{\"attributes\":{},\"id\":\"6c211974-1733-484c-82ca-ff85eb8e9745\",\"type\":\"UnionRenderers\"},{\"attributes\":{\"plot\":null,\"text\":\"Atmosphere heating. CLIRAD (single-run) - CRD.\"},\"id\":\"2edf73c2-d7a6-4348-a9e7-f22da3634f48\",\"type\":\"Title\"},{\"attributes\":{},\"id\":\"88476fd9-d41a-4dda-a041-50972850e0c1\",\"type\":\"CategoricalTicker\"},{\"attributes\":{\"callback\":null},\"id\":\"b8ce5ee1-a8ed-4683-8b54-0b5e4bcc3848\",\"type\":\"DataRange1d\"},{\"attributes\":{\"bottom_units\":\"screen\",\"fill_alpha\":{\"value\":0.5},\"fill_color\":{\"value\":\"lightgrey\"},\"left_units\":\"screen\",\"level\":\"overlay\",\"line_alpha\":{\"value\":1.0},\"line_color\":{\"value\":\"black\"},\"line_dash\":[4,4],\"line_width\":{\"value\":2},\"plot\":null,\"render_mode\":\"css\",\"right_units\":\"screen\",\"top_units\":\"screen\"},\"id\":\"5b88b05a-c9df-4d21-b1bb-954aad8ca7b2\",\"type\":\"BoxAnnotation\"},{\"attributes\":{\"fill_alpha\":{\"value\":0.1},\"fill_color\":{\"value\":\"#1f77b4\"},\"line_alpha\":{\"value\":0.1},\"line_color\":{\"value\":\"#1f77b4\"},\"top\":{\"field\":\"flux\"},\"width\":{\"value\":0.9},\"x\":{\"field\":\"band\"}},\"id\":\"8606d699-9d21-4677-b860-c8f73b6bebe4\",\"type\":\"VBar\"},{\"attributes\":{},\"id\":\"aa4ad5cf-9e16-4ca4-8297-e2b52714eada\",\"type\":\"WheelZoomTool\"},{\"attributes\":{\"fill_color\":{\"value\":\"#1f77b4\"},\"line_color\":{\"value\":\"#1f77b4\"},\"top\":{\"field\":\"flux\"},\"width\":{\"value\":0.9},\"x\":{\"field\":\"band\"}},\"id\":\"8396bf77-ecf3-4ca4-95b9-1d4872baabcc\",\"type\":\"VBar\"},{\"attributes\":{\"overlay\":{\"id\":\"89d69efb-ac40-4756-9e74-ecd501580b69\",\"type\":\"BoxAnnotation\"}},\"id\":\"9b7ed231-9028-4744-a6fd-7645ad66e7b4\",\"type\":\"BoxZoomTool\"},{\"attributes\":{\"callback\":null},\"id\":\"bfcc69d4-70b8-4c6b-a639-2a248a1dd13f\",\"type\":\"DataRange1d\"},{\"attributes\":{},\"id\":\"e4455551-5201-4688-932d-d19f840f68ea\",\"type\":\"UnionRenderers\"},{\"attributes\":{\"children\":[{\"id\":\"913c066a-1396-4aa5-aff9-e66d3fc035fd\",\"type\":\"ToolbarBox\"},{\"id\":\"9061bcb2-89f3-4bfb-89a0-c7540118f4f9\",\"type\":\"Column\"}]},\"id\":\"0116c912-24fa-4ef7-b419-6672bf2669ba\",\"type\":\"Column\"},{\"attributes\":{},\"id\":\"0a12081a-67f2-44ff-bdfe-df0f07c022ac\",\"type\":\"ResetTool\"},{\"attributes\":{},\"id\":\"c892831c-42a8-40b2-8c2f-3b0b6a384b0b\",\"type\":\"CategoricalTickFormatter\"},{\"attributes\":{\"axis_label\":\"spectral band\",\"formatter\":{\"id\":\"c892831c-42a8-40b2-8c2f-3b0b6a384b0b\",\"type\":\"CategoricalTickFormatter\"},\"plot\":{\"id\":\"c5a31ed4-2787-40bd-a36c-7704747255df\",\"subtype\":\"Figure\",\"type\":\"Plot\"},\"ticker\":{\"id\":\"88476fd9-d41a-4dda-a041-50972850e0c1\",\"type\":\"CategoricalTicker\"}},\"id\":\"1c6e6972-d45a-4672-bbb5-a7fa9763ab69\",\"type\":\"CategoricalAxis\"},{\"attributes\":{\"plot\":{\"id\":\"33161925-94aa-4721-87ec-d95d4117be66\",\"subtype\":\"Figure\",\"type\":\"Plot\"},\"ticker\":{\"id\":\"48c49ec0-f612-437c-9aa6-e4f7ada679a6\",\"type\":\"CategoricalTicker\"}},\"id\":\"93541fb4-014b-4dd1-87a7-61c4063019ba\",\"type\":\"Grid\"},{\"attributes\":{},\"id\":\"48c49ec0-f612-437c-9aa6-e4f7ada679a6\",\"type\":\"CategoricalTicker\"},{\"attributes\":{\"source\":{\"id\":\"9ae9f667-07ee-42cb-a538-1a3de773dc31\",\"type\":\"ColumnDataSource\"}},\"id\":\"bf9fbf28-fbab-43be-8c31-48a2933fe830\",\"type\":\"CDSView\"},{\"attributes\":{},\"id\":\"736fb452-f860-4c3d-b4c6-59f1b88ac1db\",\"type\":\"BasicTicker\"},{\"attributes\":{},\"id\":\"7e47e20d-25bf-4182-bc32-fbb78fa044a0\",\"type\":\"PanTool\"},{\"attributes\":{\"toolbar\":{\"id\":\"7eae3afe-b7f6-45e5-ae21-02921fe3a113\",\"type\":\"ProxyToolbar\"},\"toolbar_location\":\"above\"},\"id\":\"913c066a-1396-4aa5-aff9-e66d3fc035fd\",\"type\":\"ToolbarBox\"},{\"attributes\":{},\"id\":\"e11dfab5-afa1-4b31-b505-acf256fdb705\",\"type\":\"LinearScale\"},{\"attributes\":{},\"id\":\"cc974462-5173-403c-8d31-fc79d0f1b4a5\",\"type\":\"CategoricalTickFormatter\"},{\"attributes\":{\"children\":[{\"id\":\"a8a7623f-ff95-4dcb-83c7-b90d5a0674aa\",\"type\":\"Row\"}]},\"id\":\"9061bcb2-89f3-4bfb-89a0-c7540118f4f9\",\"type\":\"Column\"},{\"attributes\":{},\"id\":\"3b96354a-f7a1-4589-b39c-027d12938e73\",\"type\":\"SaveTool\"},{\"attributes\":{},\"id\":\"ef0c9bb0-cbb9-4340-991e-21141503e42b\",\"type\":\"PanTool\"},{\"attributes\":{\"below\":[{\"id\":\"1c6e6972-d45a-4672-bbb5-a7fa9763ab69\",\"type\":\"CategoricalAxis\"}],\"left\":[{\"id\":\"500ed27d-f165-4c08-97fb-cd1df266e02e\",\"type\":\"LinearAxis\"}],\"plot_height\":300,\"plot_width\":300,\"renderers\":[{\"id\":\"1c6e6972-d45a-4672-bbb5-a7fa9763ab69\",\"type\":\"CategoricalAxis\"},{\"id\":\"89840ec8-79eb-4a2e-8248-113d5a94b21b\",\"type\":\"Grid\"},{\"id\":\"500ed27d-f165-4c08-97fb-cd1df266e02e\",\"type\":\"LinearAxis\"},{\"id\":\"8fc182bf-ed2d-4258-b10e-0fa37c8fe096\",\"type\":\"Grid\"},{\"id\":\"b6fac893-2947-46a1-bb99-e844c69688b0\",\"type\":\"BoxAnnotation\"},{\"id\":\"87d6e650-7362-4147-9e52-47ae52d70be9\",\"type\":\"GlyphRenderer\"}],\"title\":{\"id\":\"2ca0b25b-5f4d-48ac-8378-ac265cc9e06d\",\"type\":\"Title\"},\"toolbar\":{\"id\":\"e5aa272c-f54d-4b24-8544-328e7c8f4233\",\"type\":\"Toolbar\"},\"toolbar_location\":null,\"x_range\":{\"id\":\"f5721aae-1471-4867-bf31-6e84a7d6292f\",\"type\":\"FactorRange\"},\"x_scale\":{\"id\":\"112233c3-f46f-4415-91f6-8b5d7f1fcb18\",\"type\":\"CategoricalScale\"},\"y_range\":{\"id\":\"7dedf5ec-60ca-4f1b-9c37-ad59f4364443\",\"type\":\"DataRange1d\"},\"y_scale\":{\"id\":\"e11dfab5-afa1-4b31-b505-acf256fdb705\",\"type\":\"LinearScale\"}},\"id\":\"c5a31ed4-2787-40bd-a36c-7704747255df\",\"subtype\":\"Figure\",\"type\":\"Plot\"},{\"attributes\":{},\"id\":\"064dda12-8996-45d2-afca-388c5bb04129\",\"type\":\"BasicTickFormatter\"},{\"attributes\":{},\"id\":\"95734a7c-6de9-46f4-8c62-807169076571\",\"type\":\"ResetTool\"},{\"attributes\":{},\"id\":\"605dfe5e-5bb0-4358-865e-099e5602304f\",\"type\":\"BasicTickFormatter\"},{\"attributes\":{\"tools\":[{\"id\":\"d762a2c6-f0e9-4132-9edb-f847b67403cb\",\"type\":\"PanTool\"},{\"id\":\"88ae32f1-dbbf-452b-8cde-500417259bc4\",\"type\":\"WheelZoomTool\"},{\"id\":\"b4f6c0fe-ccdd-4d29-86d6-ca998b8679ce\",\"type\":\"BoxZoomTool\"},{\"id\":\"33bb327b-3246-4530-a05d-8502a6b71f3f\",\"type\":\"SaveTool\"},{\"id\":\"b4bdc28d-6855-4031-bd47-c677689f8513\",\"type\":\"ResetTool\"},{\"id\":\"b11c6e81-1fa0-4a83-ba2d-69b7f5147b6e\",\"type\":\"HelpTool\"},{\"id\":\"7e47e20d-25bf-4182-bc32-fbb78fa044a0\",\"type\":\"PanTool\"},{\"id\":\"aa4ad5cf-9e16-4ca4-8297-e2b52714eada\",\"type\":\"WheelZoomTool\"},{\"id\":\"f936d16e-ac1d-4910-94e4-fca6f0735702\",\"type\":\"BoxZoomTool\"},{\"id\":\"6777185c-fbb3-4ae6-9e80-d3d16865dfbf\",\"type\":\"SaveTool\"},{\"id\":\"0a12081a-67f2-44ff-bdfe-df0f07c022ac\",\"type\":\"ResetTool\"},{\"id\":\"99b029cf-cc8a-42fc-ae02-d07d9714971d\",\"type\":\"HelpTool\"},{\"id\":\"ef0c9bb0-cbb9-4340-991e-21141503e42b\",\"type\":\"PanTool\"},{\"id\":\"6b465f9b-93a3-4ac2-b59b-b79e2aaec3b5\",\"type\":\"WheelZoomTool\"},{\"id\":\"9b7ed231-9028-4744-a6fd-7645ad66e7b4\",\"type\":\"BoxZoomTool\"},{\"id\":\"3b96354a-f7a1-4589-b39c-027d12938e73\",\"type\":\"SaveTool\"},{\"id\":\"95734a7c-6de9-46f4-8c62-807169076571\",\"type\":\"ResetTool\"},{\"id\":\"d11c0a91-1df5-4865-9f09-2d9e3cdd9bf2\",\"type\":\"HelpTool\"}]},\"id\":\"7eae3afe-b7f6-45e5-ae21-02921fe3a113\",\"type\":\"ProxyToolbar\"},{\"attributes\":{},\"id\":\"4036a9b7-82fe-4458-ba56-4bcbed30e4c9\",\"type\":\"BasicTickFormatter\"},{\"attributes\":{},\"id\":\"4b05e5d0-f0b6-4ee8-b73d-3401f5ace4b1\",\"type\":\"LinearScale\"},{\"attributes\":{},\"id\":\"d11c0a91-1df5-4865-9f09-2d9e3cdd9bf2\",\"type\":\"HelpTool\"}],\"root_ids\":[\"0116c912-24fa-4ef7-b419-6672bf2669ba\"]},\"title\":\"Bokeh Application\",\"version\":\"0.12.16\"}};\n",
       "  var render_items = [{\"docid\":\"ab6665dc-5302-4bcf-a2ec-0c9730819745\",\"elementid\":\"a264a54b-8332-45c1-9986-63ae475935af\",\"modelid\":\"0116c912-24fa-4ef7-b419-6672bf2669ba\"}];\n",
       "  root.Bokeh.embed.embed_items_notebook(docs_json, render_items);\n",
       "\n",
       "  }\n",
       "  if (root.Bokeh !== undefined) {\n",
       "    embed_document(root);\n",
       "  } else {\n",
       "    var attempts = 0;\n",
       "    var timer = setInterval(function(root) {\n",
       "      if (root.Bokeh !== undefined) {\n",
       "        embed_document(root);\n",
       "        clearInterval(timer);\n",
       "      }\n",
       "      attempts++;\n",
       "      if (attempts > 100) {\n",
       "        console.log(\"Bokeh: ERROR: Unable to run BokehJS code because BokehJS library is missing\")\n",
       "        clearInterval(timer);\n",
       "      }\n",
       "    }, 10, root)\n",
       "  }\n",
       "})(window);"
      ],
      "application/vnd.bokehjs_exec.v0+json": ""
     },
     "metadata": {
      "application/vnd.bokehjs_exec.v0+json": {
       "id": "0116c912-24fa-4ef7-b419-6672bf2669ba"
      }
     },
     "output_type": "display_data"
    },
    {
     "data": {
      "text/markdown": [
       "*FIGURE.* Difference between CLIRAD and CRD in TOA, SFC and net atmosphere flux, in each spectral band."
      ],
      "text/plain": [
       "<IPython.core.display.Markdown object>"
      ]
     },
     "metadata": {},
     "output_type": "display_data"
    },
    {
     "data": {
      "text/html": [
       "<div>\n",
       "<style scoped>\n",
       "    .dataframe tbody tr th:only-of-type {\n",
       "        vertical-align: middle;\n",
       "    }\n",
       "\n",
       "    .dataframe tbody tr th {\n",
       "        vertical-align: top;\n",
       "    }\n",
       "\n",
       "    .dataframe thead th {\n",
       "        text-align: right;\n",
       "    }\n",
       "</style>\n",
       "<table border=\"1\" class=\"dataframe\">\n",
       "  <thead>\n",
       "    <tr style=\"text-align: right;\">\n",
       "      <th></th>\n",
       "      <th>OLR flux</th>\n",
       "      <th>SFC flux</th>\n",
       "      <th>ATM heating</th>\n",
       "    </tr>\n",
       "    <tr>\n",
       "      <th>Sum over bands</th>\n",
       "      <th></th>\n",
       "      <th></th>\n",
       "      <th></th>\n",
       "    </tr>\n",
       "  </thead>\n",
       "  <tbody>\n",
       "    <tr>\n",
       "      <th>CLIRAD (single-run) - CRD</th>\n",
       "      <td>1.12</td>\n",
       "      <td>0.79</td>\n",
       "      <td>0.33</td>\n",
       "    </tr>\n",
       "    <tr>\n",
       "      <th>CRD</th>\n",
       "      <td>-290.39</td>\n",
       "      <td>308.14</td>\n",
       "      <td>-174.89</td>\n",
       "    </tr>\n",
       "  </tbody>\n",
       "</table>\n",
       "</div>"
      ],
      "text/plain": [
       "                           OLR flux  SFC flux  ATM heating\n",
       "Sum over bands                                            \n",
       "CLIRAD (single-run) - CRD      1.12      0.79         0.33\n",
       "CRD                         -290.39    308.14      -174.89"
      ]
     },
     "metadata": {},
     "output_type": "display_data"
    },
    {
     "data": {
      "text/markdown": [
       "*TABLE.* Difference between CLIRAD and CRD in TOA, SFC and net atmosphere flux, over all spectral bands. CRD's TOA, SFC and net atmosphere flux, over all spectral bands."
      ],
      "text/plain": [
       "<IPython.core.display.Markdown object>"
      ]
     },
     "metadata": {},
     "output_type": "display_data"
    },
    {
     "data": {
      "text/html": [
       "<a id=\"Cooling_rates._saw.\"></a>"
      ],
      "text/plain": [
       "<IPython.core.display.HTML object>"
      ]
     },
     "metadata": {},
     "output_type": "display_data"
    },
    {
     "data": {
      "text/markdown": [
       "# Cooling rates. saw."
      ],
      "text/plain": [
       "<IPython.core.display.Markdown object>"
      ]
     },
     "metadata": {},
     "output_type": "display_data"
    },
    {
     "data": {
      "text/html": [
       "\n",
       "<div class=\"bk-root\">\n",
       "    <div class=\"bk-plotdiv\" id=\"d4cd735d-6d8a-428b-a396-9465fb39e92f\"></div>\n",
       "</div>"
      ]
     },
     "metadata": {},
     "output_type": "display_data"
    },
    {
     "data": {
      "application/javascript": [
       "(function(root) {\n",
       "  function embed_document(root) {\n",
       "    \n",
       "  var docs_json = {\"38dd13be-bde1-403c-8ab4-42eb81a7e13c\":{\"roots\":{\"references\":[{\"attributes\":{\"active_drag\":\"auto\",\"active_inspect\":\"auto\",\"active_scroll\":\"auto\",\"active_tap\":\"auto\",\"tools\":[{\"id\":\"a6ad5fd9-5d71-4dd5-bb33-f2e9b723761e\",\"type\":\"PanTool\"},{\"id\":\"7a62bd19-f183-4ec0-91da-b0ff51901df6\",\"type\":\"WheelZoomTool\"},{\"id\":\"f7dc98f1-abb9-470f-b875-e202d9f7aa7b\",\"type\":\"BoxZoomTool\"},{\"id\":\"c23f5806-ca1a-40db-9f61-8f01562f7e94\",\"type\":\"SaveTool\"},{\"id\":\"6cadce25-09a7-4448-9b7c-bd5b58e30397\",\"type\":\"ResetTool\"},{\"id\":\"1c6c565c-f2ce-472d-a500-84df5437c96d\",\"type\":\"HelpTool\"}]},\"id\":\"5b2ca5b5-a832-46fe-8b75-3259598cf21a\",\"type\":\"Toolbar\"},{\"attributes\":{\"source\":{\"id\":\"71ef337a-c759-442c-9582-30aa85cea12d\",\"type\":\"ColumnDataSource\"}},\"id\":\"6cc2af2d-f925-4e91-b517-0de2953cbc5f\",\"type\":\"CDSView\"},{\"attributes\":{\"data_source\":{\"id\":\"16270b00-205c-4498-bdbc-c5ace6962fc3\",\"type\":\"ColumnDataSource\"},\"glyph\":{\"id\":\"239b3ebb-6962-4fd5-880f-86d9d0bb69d6\",\"type\":\"Circle\"},\"hover_glyph\":null,\"muted_glyph\":null,\"nonselection_glyph\":{\"id\":\"533437a3-964d-4d48-82b4-15e537b41e86\",\"type\":\"Circle\"},\"selection_glyph\":null,\"view\":{\"id\":\"51537d0b-8cf4-451a-a2d4-224f9f762c8c\",\"type\":\"CDSView\"}},\"id\":\"946d7ebc-dd55-499c-8f68-79b55b9f8d44\",\"type\":\"GlyphRenderer\"},{\"attributes\":{\"data_source\":{\"id\":\"d6f25dbe-bd67-44ec-a6f0-7fc7221ff3f6\",\"type\":\"ColumnDataSource\"},\"glyph\":{\"id\":\"b3b75311-bc82-4fe0-b01c-f9e1b0323cf4\",\"type\":\"Circle\"},\"hover_glyph\":null,\"muted_glyph\":null,\"nonselection_glyph\":{\"id\":\"a912a2e2-fe3a-44c1-93fe-8299a7f81ee5\",\"type\":\"Circle\"},\"selection_glyph\":null,\"view\":{\"id\":\"8e306d99-e1ae-4ffe-a531-2f4cff54e496\",\"type\":\"CDSView\"}},\"id\":\"97d55fa7-4531-4fd5-a78d-e706582fa91b\",\"type\":\"GlyphRenderer\"},{\"attributes\":{\"items\":[{\"id\":\"18b6ecc5-897e-4825-9770-e982b1c3c1d7\",\"type\":\"LegendItem\"},{\"id\":\"41f9d4ff-9880-45fc-b3a9-699e99b9a653\",\"type\":\"LegendItem\"}],\"label_text_font_size\":{\"value\":\"8pt\"},\"location\":\"top_center\",\"orientation\":\"horizontal\",\"plot\":{\"id\":\"5c1f6261-8bcd-4858-a79c-eda121acf441\",\"subtype\":\"Figure\",\"type\":\"Plot\"}},\"id\":\"291ad56d-b90e-4d38-80ba-51bbee867131\",\"type\":\"Legend\"},{\"attributes\":{\"above\":[{\"id\":\"291ad56d-b90e-4d38-80ba-51bbee867131\",\"type\":\"Legend\"}],\"below\":[{\"id\":\"c9e61be0-12e7-45b3-85c1-35be537babe8\",\"type\":\"LinearAxis\"}],\"left\":[{\"id\":\"2b90d6f7-82f1-4a3f-91ff-ead894bf63bd\",\"type\":\"LogAxis\"}],\"plot_width\":300,\"renderers\":[{\"id\":\"c9e61be0-12e7-45b3-85c1-35be537babe8\",\"type\":\"LinearAxis\"},{\"id\":\"35f7884c-ccc6-432d-a4f8-ef98652e8b8e\",\"type\":\"Grid\"},{\"id\":\"2b90d6f7-82f1-4a3f-91ff-ead894bf63bd\",\"type\":\"LogAxis\"},{\"id\":\"898c4b34-9ad7-4493-b8b3-f9c3918a2ee1\",\"type\":\"Grid\"},{\"id\":\"4bf2e7e6-987f-4106-858d-d4b2041cb989\",\"type\":\"BoxAnnotation\"},{\"id\":\"f4a393b2-3197-4588-900a-a2c9d7649a48\",\"type\":\"GlyphRenderer\"},{\"id\":\"946d7ebc-dd55-499c-8f68-79b55b9f8d44\",\"type\":\"GlyphRenderer\"},{\"id\":\"4de3bfd8-7170-439a-8615-279f1463163d\",\"type\":\"GlyphRenderer\"},{\"id\":\"291ad56d-b90e-4d38-80ba-51bbee867131\",\"type\":\"Legend\"}],\"title\":{\"id\":\"8dd77161-753f-4f81-b049-4740d6a85c2e\",\"type\":\"Title\"},\"toolbar\":{\"id\":\"5b2ca5b5-a832-46fe-8b75-3259598cf21a\",\"type\":\"Toolbar\"},\"toolbar_location\":null,\"x_range\":{\"id\":\"1ce053e0-afac-4eeb-947c-b77469efc889\",\"type\":\"Range1d\"},\"x_scale\":{\"id\":\"2fb035b0-c9f6-44b9-9f8d-ac951a751a37\",\"type\":\"LinearScale\"},\"y_range\":{\"id\":\"a1a10f5d-2a5b-43b4-8d07-7c8d09e44708\",\"type\":\"Range1d\"},\"y_scale\":{\"id\":\"655d3eac-b118-40e6-ac97-b64209eb1a70\",\"type\":\"LogScale\"}},\"id\":\"5c1f6261-8bcd-4858-a79c-eda121acf441\",\"subtype\":\"Figure\",\"type\":\"Plot\"},{\"attributes\":{\"axis_label\":\"cooling rate [K/day]\",\"formatter\":{\"id\":\"92d8d061-392f-4eaf-8caa-2d860fd47cb8\",\"type\":\"BasicTickFormatter\"},\"plot\":{\"id\":\"0e510c59-89f0-4b3d-9c7d-b5ce660b1e73\",\"subtype\":\"Figure\",\"type\":\"Plot\"},\"ticker\":{\"id\":\"e376e3e5-6fe7-4751-8882-86577d4de427\",\"type\":\"BasicTicker\"}},\"id\":\"c9792d5e-74d2-4b76-9ee4-ab9cabf93776\",\"type\":\"LinearAxis\"},{\"attributes\":{\"label\":{\"value\":\"CRD\"},\"renderers\":[{\"id\":\"0d274d0d-e745-426b-a759-fc5dfb7aca35\",\"type\":\"GlyphRenderer\"},{\"id\":\"1e4ff928-28a2-48b8-a68e-226206b24319\",\"type\":\"GlyphRenderer\"}]},\"id\":\"b5bd30a2-d9a8-4fb1-8eca-2b6c449aea46\",\"type\":\"LegendItem\"},{\"attributes\":{\"label\":{\"value\":\"CLIRAD (single-run)\"},\"renderers\":[{\"id\":\"f4a393b2-3197-4588-900a-a2c9d7649a48\",\"type\":\"GlyphRenderer\"}]},\"id\":\"18b6ecc5-897e-4825-9770-e982b1c3c1d7\",\"type\":\"LegendItem\"},{\"attributes\":{\"line_alpha\":0.6,\"line_color\":\"#377eb8\",\"line_dash\":[6],\"line_width\":5,\"x\":{\"field\":\"x\"},\"y\":{\"field\":\"y\"}},\"id\":\"d61ed20f-a9d0-4eae-9876-05df0510c22b\",\"type\":\"Line\"},{\"attributes\":{\"axis_label\":\"pressure [mb]\",\"formatter\":{\"id\":\"be1877c9-2cb8-4547-a42a-8195cbd9d3ee\",\"type\":\"LogTickFormatter\"},\"plot\":{\"id\":\"f537ee99-5991-4ad9-8518-1a850ab3c46f\",\"subtype\":\"Figure\",\"type\":\"Plot\"},\"ticker\":{\"id\":\"e6772885-7205-4a96-b80f-3c4c03683662\",\"type\":\"LogTicker\"}},\"id\":\"bbe2fb0e-99db-44ab-a128-9b3aa7bb13cb\",\"type\":\"LogAxis\"},{\"attributes\":{},\"id\":\"6e92f70d-5335-42f3-ba55-a4fff6b2fb07\",\"type\":\"LinearScale\"},{\"attributes\":{\"data_source\":{\"id\":\"04d95911-11a7-4886-ac11-08400523f872\",\"type\":\"ColumnDataSource\"},\"glyph\":{\"id\":\"a1c3c48f-3590-4b2b-bbbf-d7e6df685230\",\"type\":\"Line\"},\"hover_glyph\":null,\"muted_glyph\":null,\"nonselection_glyph\":{\"id\":\"90023b7f-0590-4e80-a04b-5734f88d4236\",\"type\":\"Line\"},\"selection_glyph\":null,\"view\":{\"id\":\"b160a314-49c1-4cca-a122-64b3d32908b7\",\"type\":\"CDSView\"}},\"id\":\"1e4ff928-28a2-48b8-a68e-226206b24319\",\"type\":\"GlyphRenderer\"},{\"attributes\":{\"callback\":null,\"end\":1.5925520597826701,\"start\":0.25278747673033},\"id\":\"22725c0f-40a6-4f32-a4b0-35dd74fbc403\",\"type\":\"Range1d\"},{\"attributes\":{\"num_minor_ticks\":10},\"id\":\"e6772885-7205-4a96-b80f-3c4c03683662\",\"type\":\"LogTicker\"},{\"attributes\":{\"line_alpha\":0.1,\"line_color\":\"#1f77b4\",\"line_dash\":[6],\"line_width\":5,\"x\":{\"field\":\"x\"},\"y\":{\"field\":\"y\"}},\"id\":\"cc357713-8214-430d-b01f-8b725089e8cd\",\"type\":\"Line\"},{\"attributes\":{\"items\":[{\"id\":\"6d863880-3af7-4b1f-a1e3-a4db39c50788\",\"type\":\"LegendItem\"},{\"id\":\"b5bd30a2-d9a8-4fb1-8eca-2b6c449aea46\",\"type\":\"LegendItem\"}],\"label_text_font_size\":{\"value\":\"8pt\"},\"location\":\"top_center\",\"orientation\":\"horizontal\",\"plot\":{\"id\":\"0e510c59-89f0-4b3d-9c7d-b5ce660b1e73\",\"subtype\":\"Figure\",\"type\":\"Plot\"}},\"id\":\"5e1e60d9-8ec1-4ed2-9030-b2e1210ae965\",\"type\":\"Legend\"},{\"attributes\":{\"source\":{\"id\":\"04d95911-11a7-4886-ac11-08400523f872\",\"type\":\"ColumnDataSource\"}},\"id\":\"b160a314-49c1-4cca-a122-64b3d32908b7\",\"type\":\"CDSView\"},{\"attributes\":{},\"id\":\"e376e3e5-6fe7-4751-8882-86577d4de427\",\"type\":\"BasicTicker\"},{\"attributes\":{\"source\":{\"id\":\"9fd6649a-10b7-4b38-839b-8da3efa7eda7\",\"type\":\"ColumnDataSource\"}},\"id\":\"da2a663f-4037-4e6a-a830-e545c72828a7\",\"type\":\"CDSView\"},{\"attributes\":{\"axis_label\":\"pressure [mb]\",\"formatter\":{\"id\":\"c424b9ce-24c8-4b01-8026-b957d4f460dc\",\"type\":\"BasicTickFormatter\"},\"plot\":{\"id\":\"0e510c59-89f0-4b3d-9c7d-b5ce660b1e73\",\"subtype\":\"Figure\",\"type\":\"Plot\"},\"ticker\":{\"id\":\"8962b6a4-5afe-4e62-87de-1b8bca1ec01b\",\"type\":\"BasicTicker\"}},\"id\":\"a5f4c7e5-297d-447a-b128-01111510f391\",\"type\":\"LinearAxis\"},{\"attributes\":{},\"id\":\"c00eda63-65d1-4913-82ab-3f93c583197d\",\"type\":\"LinearScale\"},{\"attributes\":{\"source\":{\"id\":\"16270b00-205c-4498-bdbc-c5ace6962fc3\",\"type\":\"ColumnDataSource\"}},\"id\":\"51537d0b-8cf4-451a-a2d4-224f9f762c8c\",\"type\":\"CDSView\"},{\"attributes\":{\"plot\":{\"id\":\"f537ee99-5991-4ad9-8518-1a850ab3c46f\",\"subtype\":\"Figure\",\"type\":\"Plot\"},\"ticker\":{\"id\":\"bab703c2-67bb-4874-adda-24cb6336beae\",\"type\":\"BasicTicker\"}},\"id\":\"c58e4447-75d9-4e89-81ff-5b7dbf9b580d\",\"type\":\"Grid\"},{\"attributes\":{\"callback\":null,\"data\":{\"x\":{\"__ndarray__\":\"/3gEEI2UQEB0c9Dyc4w8QD4Snx5gWT5AFZGcg+DzPkDYuZ5UNgY+QOQFUWxaiTtAJ8DHxwLZN0CaDBxtwNEzQHB3T1JOgDBAqgJPUzdBLUAe/HRqAFAsQFSv4d6I2CxANirWFRW2LUCUHZfp5zstQOmztrvKoCpAP9+BL/hHJ0AOuwcTjXUkQH9IUrXU0CJAw/AV2NWiIkADs+SX97kjQBnUSknZKCZAob123iaqJUC4+jy7qSYhQET39BNTYRlA8h7eZutmE0DRGDGap7MPQNFp3YuZvQpAbUJm/ObPBUCXEVqHsCYCQKiqyakxdP8/TACEl5IJ/T+x36gvONj4P/WeSfiLL/Q/Ne11Qx4f8T9KO/snl8XuPwAFjDANXOw/ECia+rR+5z/5xrZqtSrhP87q9DpG090/BhYs5hIw3T8TpNj1dqrePxgwooWPUd4/oFDDMBzn3D+hGPElCWPaPxcG4a4W8tI/SPcufN8E0T+Jx6v2fkPcP6Ojb0QSwOM/zctF4t2z6z9opHhLdyvyP4FPJXk/b/U/u1x3mN2T9z9xG3Lf+XH4P5hGdwrobvg/Vn3mdk49+D9YubJsL+/3P7/luSDMffc/5EORdUbl9j8uE9yIYjP2P7kamugzgPU/QlxJFNm49D8sS/Y7lOnzPzVsLhNSEvM/nKsN3cpI8j/zk0wAFaHxP6Zz65TTLvE/Fg7ZiLQN8T8jxFOXpVDxP4PdzMKAqPE/RD1PzBJe8T9HiM/2GIfvP1JwtsmBh+o/vb6j/cCS5T/xD0UD5EPhP++YhMum7NY/\",\"dtype\":\"float64\",\"shape\":[75]},\"y\":{\"__ndarray__\":\"GhExyth1ND/Sv8nbtpRIP2vylNV0PVE/aTum7souWD/At0SJ8fVgPw3Iuahxymc/MSNhhJWvcD/bTfBN02d3P2zb5nxnaoA/CD5h5MAGhz8NmeH1TyaQP+zrCsc9p5Y/LbKd76fGnz/bLW5ISEmmPww9YvTcQq8/JV2OstnstT8Er5Y7M8G+P0c+r3jqkcU/5h99k6ZBzj88bCIzFzjVP4enV8oyxN0//yH99nXg5D8qOpLLf0jtP5kqGJXUifQ/c9cS8kHP/D+/DpwzojQEQIEmwoanVwxA4lgXt9HgE0BSSZ2AJuIbQAMJih9jjiNA5q4l5INuK0AwTKYKRj0zQNv5fmq8/DpAaCJseHrtQkB/+zpwzoxKQM3MzMzMeFJAZmZmZmZqWEAAAAAAAFxeQM3MzMzMJmJAmpmZmZkfZUBmZmZmZhhoQDMzMzMzEWtAAAAAAAAKbkBmZmZmZoFwQM3MzMzM/XFAMzMzMzN6c0CamZmZmfZ0QAAAAAAAc3ZAZmZmZmbvd0DNzMzMzGt5QDMzMzMz6HpAmpmZmZlkfEAAAAAAAOF9QGZmZmZmXX9AZmZmZuZsgECamZmZGSuBQM3MzMxM6YFAAAAAAICngkAzMzMzs2WDQGZmZmbmI4RAmpmZmRnihEDNzMzMTKCFQAAAAACAXoZAMzMzM7Mch0BmZmZm5tqHQJqZmZkZmYhAzczMzExXiUAAAAAAgBWKQDMzMzOz04pAZmZmZuaRi0CamZmZGVCMQM3MzMxMDo1AAAAAAIDMjUAzMzMzs4qOQGZmZmbmSI9A\",\"dtype\":\"float64\",\"shape\":[75]}},\"selected\":{\"id\":\"dcfc95b1-9a71-4daa-a964-b7518d2b600c\",\"type\":\"Selection\"},\"selection_policy\":{\"id\":\"ceed0483-f091-4644-bf78-ffe2f532eada\",\"type\":\"UnionRenderers\"}},\"id\":\"119d50b5-b2b1-4094-b3fa-c7fb0e298b0b\",\"type\":\"ColumnDataSource\"},{\"attributes\":{\"label\":{\"value\":\"CLIRAD (single-run)\"},\"renderers\":[{\"id\":\"51158eae-dab1-4815-b1ca-ca8cebb247b6\",\"type\":\"GlyphRenderer\"}]},\"id\":\"6d863880-3af7-4b1f-a1e3-a4db39c50788\",\"type\":\"LegendItem\"},{\"attributes\":{\"fill_alpha\":{\"value\":0.1},\"fill_color\":{\"value\":\"#1f77b4\"},\"line_alpha\":{\"value\":0.1},\"line_color\":{\"value\":\"#1f77b4\"},\"x\":{\"field\":\"x\"},\"y\":{\"field\":\"y\"}},\"id\":\"533437a3-964d-4d48-82b4-15e537b41e86\",\"type\":\"Circle\"},{\"attributes\":{},\"id\":\"2fb035b0-c9f6-44b9-9f8d-ac951a751a37\",\"type\":\"LinearScale\"},{\"attributes\":{\"dimension\":1,\"plot\":{\"id\":\"0e510c59-89f0-4b3d-9c7d-b5ce660b1e73\",\"subtype\":\"Figure\",\"type\":\"Plot\"},\"ticker\":{\"id\":\"8962b6a4-5afe-4e62-87de-1b8bca1ec01b\",\"type\":\"BasicTicker\"}},\"id\":\"c35deda4-9782-4155-92c2-e6264ab01be9\",\"type\":\"Grid\"},{\"attributes\":{\"callback\":null,\"end\":0.01,\"start\":1020},\"id\":\"cd51c6be-e126-4188-a090-b80c14e88998\",\"type\":\"Range1d\"},{\"attributes\":{\"callback\":null,\"data\":{\"x\":{\"__ndarray__\":\"0CYBcvU5UkCik9zf2GVBQF1VoNfLZ0BAVLxhiVXTPUDD1Wu1wJM6QFJyB025jjdAU6Aw5+b/NECYe1uuDfgyQB6bYtVTbTFAPxYSAF1HMEA00pYVm9QuQLolHbMzgC1AntlwirGsLECv+G9SjE4rQJH6ZLBp0ShAsLZQyPd/JkDyjgyf2PwkQLgyNGsrJyRAA13QbJD6I0C8hy0ilI4kQOVTXCEgcSZAovOGvZSGJUBVc/ZmUOIgQOf/6GHAyRlAcE8fAOBSFEDRur1U//gPQGFD9ZbokghAQsqHuSqSA0C91ci3W0UBQCtRQfvz7/4/kh8pntyB+j9t1/n+4TX1P773MAUjFfI/RgzR+CI28T8hBW8WHK7uPzVKjJfU8uk/0FPt4/z65T/wVYqzMPDhPz7K9C5CXuE/8+hSn9hY4T/9PPCkR6rhP1XsIC599OA/66X1nBCX3z/YbRM56QjcPz4dkSQc/dM/S7Wb8Fq00T+/yQdmX0vcP7TrGf476eM/WqNPJoWO7D9qOH1bcwDzP2bw+R5DQ/Y/RLSuQOQp+D8+aif8yAz5P0Wv6eBKRfk/0i2+IN4R+T/ik8QNFZr4PyS5UD5j/Pc/yJ68zXRG9z/2CHPL54H2P59SOhwKtPU/npkP8dfg9D8NlmVcdQz0P80ugRvuOvM/byxiAHN18j9USVZie8nxP5l9lNXYSPE/OB+F0UYP8T8Y7dsUCTHxP3EBgTHPcPE/bfx15p8S8T8FT+xkGtTuP6mdG7rkxuk/pboqTkHX5D/CrN8qGYngP7R4ZaL+htU/\",\"dtype\":\"float64\",\"shape\":[75]},\"y\":{\"__ndarray__\":\"GhExyth1ND/Sv8nbtpRIP2vylNV0PVE/aTum7souWD/At0SJ8fVgPw3Iuahxymc/MSNhhJWvcD/bTfBN02d3P2zb5nxnaoA/CD5h5MAGhz8NmeH1TyaQP+zrCsc9p5Y/LbKd76fGnz/bLW5ISEmmPww9YvTcQq8/JV2OstnstT8Er5Y7M8G+P0c+r3jqkcU/5h99k6ZBzj88bCIzFzjVP4enV8oyxN0//yH99nXg5D8qOpLLf0jtP5kqGJXUifQ/c9cS8kHP/D+/DpwzojQEQIEmwoanVwxA4lgXt9HgE0BSSZ2AJuIbQAMJih9jjiNA5q4l5INuK0AwTKYKRj0zQNv5fmq8/DpAaCJseHrtQkB/+zpwzoxKQM3MzMzMeFJAZmZmZmZqWEAAAAAAAFxeQM3MzMzMJmJAmpmZmZkfZUBmZmZmZhhoQDMzMzMzEWtAAAAAAAAKbkBmZmZmZoFwQM3MzMzM/XFAMzMzMzN6c0CamZmZmfZ0QAAAAAAAc3ZAZmZmZmbvd0DNzMzMzGt5QDMzMzMz6HpAmpmZmZlkfEAAAAAAAOF9QGZmZmZmXX9AZmZmZuZsgECamZmZGSuBQM3MzMxM6YFAAAAAAICngkAzMzMzs2WDQGZmZmbmI4RAmpmZmRnihEDNzMzMTKCFQAAAAACAXoZAMzMzM7Mch0BmZmZm5tqHQJqZmZkZmYhAzczMzExXiUAAAAAAgBWKQDMzMzOz04pAZmZmZuaRi0CamZmZGVCMQM3MzMxMDo1AAAAAAIDMjUAzMzMzs4qOQGZmZmbmSI9A\",\"dtype\":\"float64\",\"shape\":[75]}},\"selected\":{\"id\":\"bf1c3b8b-6e5c-4661-9a20-11e93929c0d2\",\"type\":\"Selection\"},\"selection_policy\":{\"id\":\"90ceb598-2f61-49cb-8730-1ca24b7e6353\",\"type\":\"UnionRenderers\"}},\"id\":\"16270b00-205c-4498-bdbc-c5ace6962fc3\",\"type\":\"ColumnDataSource\"},{\"attributes\":{},\"id\":\"655d3eac-b118-40e6-ac97-b64209eb1a70\",\"type\":\"LogScale\"},{\"attributes\":{\"fill_alpha\":{\"value\":0.7},\"fill_color\":{\"value\":\"#4daf4a\"},\"line_alpha\":{\"value\":0.7},\"line_color\":{\"value\":\"#4daf4a\"},\"x\":{\"field\":\"x\"},\"y\":{\"field\":\"y\"}},\"id\":\"239b3ebb-6962-4fd5-880f-86d9d0bb69d6\",\"type\":\"Circle\"},{\"attributes\":{\"active_drag\":\"auto\",\"active_inspect\":\"auto\",\"active_scroll\":\"auto\",\"active_tap\":\"auto\",\"tools\":[{\"id\":\"b9e164b9-da77-4226-97ab-82d26a580ccf\",\"type\":\"PanTool\"},{\"id\":\"da7d920e-4ba9-4ea1-b175-7a4fdc621409\",\"type\":\"WheelZoomTool\"},{\"id\":\"4a511b4d-30e8-4943-89c0-1a4947267f0b\",\"type\":\"BoxZoomTool\"},{\"id\":\"48431078-1711-479a-8d47-aecb145410da\",\"type\":\"SaveTool\"},{\"id\":\"ef9524df-4d35-41fe-ae2d-3b34f7c622ea\",\"type\":\"ResetTool\"},{\"id\":\"926a1133-249b-4a6c-8d5e-23c0b44f151f\",\"type\":\"HelpTool\"}]},\"id\":\"3f1d9c14-7cf0-462a-bc91-8ca068b1a681\",\"type\":\"Toolbar\"},{\"attributes\":{\"bottom_units\":\"screen\",\"fill_alpha\":{\"value\":0.5},\"fill_color\":{\"value\":\"lightgrey\"},\"left_units\":\"screen\",\"level\":\"overlay\",\"line_alpha\":{\"value\":1.0},\"line_color\":{\"value\":\"black\"},\"line_dash\":[4,4],\"line_width\":{\"value\":2},\"plot\":null,\"render_mode\":\"css\",\"right_units\":\"screen\",\"top_units\":\"screen\"},\"id\":\"c652604e-ec6c-4f9d-a8aa-1e58429454d6\",\"type\":\"BoxAnnotation\"},{\"attributes\":{\"above\":[{\"id\":\"58335900-e9b3-4073-8c1d-a1202a2f9ac5\",\"type\":\"Legend\"}],\"below\":[{\"id\":\"a0cd1f8e-6d8d-45e1-b981-03a36d45aff8\",\"type\":\"LinearAxis\"}],\"left\":[{\"id\":\"bbe2fb0e-99db-44ab-a128-9b3aa7bb13cb\",\"type\":\"LogAxis\"}],\"plot_width\":300,\"renderers\":[{\"id\":\"a0cd1f8e-6d8d-45e1-b981-03a36d45aff8\",\"type\":\"LinearAxis\"},{\"id\":\"c58e4447-75d9-4e89-81ff-5b7dbf9b580d\",\"type\":\"Grid\"},{\"id\":\"bbe2fb0e-99db-44ab-a128-9b3aa7bb13cb\",\"type\":\"LogAxis\"},{\"id\":\"1bd6e142-a640-4a5a-8576-6ce028d52102\",\"type\":\"Grid\"},{\"id\":\"17d6893a-bd3e-4412-8fc2-81d84e055523\",\"type\":\"BoxAnnotation\"},{\"id\":\"97d55fa7-4531-4fd5-a78d-e706582fa91b\",\"type\":\"GlyphRenderer\"},{\"id\":\"21f91326-021e-4e87-872f-a5e00e3d15ac\",\"type\":\"GlyphRenderer\"},{\"id\":\"58335900-e9b3-4073-8c1d-a1202a2f9ac5\",\"type\":\"Legend\"}],\"title\":{\"id\":\"2f277267-ef25-4617-8e96-b8a2b05a5f1e\",\"type\":\"Title\"},\"toolbar\":{\"id\":\"66048db6-63aa-4147-9142-a64715e9f528\",\"type\":\"Toolbar\"},\"toolbar_location\":null,\"x_range\":{\"id\":\"d020de6a-f2f5-4b6d-b314-8290f24c0585\",\"type\":\"Range1d\"},\"x_scale\":{\"id\":\"933f63f2-a9f4-4986-8c68-fda874599adc\",\"type\":\"LinearScale\"},\"y_range\":{\"id\":\"cd51c6be-e126-4188-a090-b80c14e88998\",\"type\":\"Range1d\"},\"y_scale\":{\"id\":\"d05872bf-5b21-4927-8eb2-a3e57a50de53\",\"type\":\"LogScale\"}},\"id\":\"f537ee99-5991-4ad9-8518-1a850ab3c46f\",\"subtype\":\"Figure\",\"type\":\"Plot\"},{\"attributes\":{},\"id\":\"ceed0483-f091-4644-bf78-ffe2f532eada\",\"type\":\"UnionRenderers\"},{\"attributes\":{},\"id\":\"a6ad5fd9-5d71-4dd5-bb33-f2e9b723761e\",\"type\":\"PanTool\"},{\"attributes\":{\"label\":{\"value\":\"CLIRAD (single-run) - CRD\"},\"renderers\":[{\"id\":\"97d55fa7-4531-4fd5-a78d-e706582fa91b\",\"type\":\"GlyphRenderer\"},{\"id\":\"21f91326-021e-4e87-872f-a5e00e3d15ac\",\"type\":\"GlyphRenderer\"}]},\"id\":\"9250dca3-82b0-4c0e-bc4f-5a65625b40f1\",\"type\":\"LegendItem\"},{\"attributes\":{},\"id\":\"bab703c2-67bb-4874-adda-24cb6336beae\",\"type\":\"BasicTicker\"},{\"attributes\":{},\"id\":\"1c6c565c-f2ce-472d-a500-84df5437c96d\",\"type\":\"HelpTool\"},{\"attributes\":{},\"id\":\"31b679b6-5114-4438-8ae7-f6adf31dd88b\",\"type\":\"WheelZoomTool\"},{\"attributes\":{\"line_alpha\":0.1,\"line_color\":\"#1f77b4\",\"line_width\":1.5,\"x\":{\"field\":\"x\"},\"y\":{\"field\":\"y\"}},\"id\":\"4173eabe-b655-4f81-96fb-d56760a6d0e4\",\"type\":\"Line\"},{\"attributes\":{},\"id\":\"f4b3f8d2-d4e4-468d-af50-badefb88193c\",\"type\":\"Selection\"},{\"attributes\":{\"axis_label\":\"pressure [mb]\",\"formatter\":{\"id\":\"37c30934-b0d4-4892-b749-6de283e0542a\",\"type\":\"LogTickFormatter\"},\"plot\":{\"id\":\"5c1f6261-8bcd-4858-a79c-eda121acf441\",\"subtype\":\"Figure\",\"type\":\"Plot\"},\"ticker\":{\"id\":\"e9825f76-939d-4995-a44f-27ba3d5e5664\",\"type\":\"LogTicker\"}},\"id\":\"2b90d6f7-82f1-4a3f-91ff-ead894bf63bd\",\"type\":\"LogAxis\"},{\"attributes\":{\"items\":[{\"id\":\"9250dca3-82b0-4c0e-bc4f-5a65625b40f1\",\"type\":\"LegendItem\"}],\"label_text_font_size\":{\"value\":\"8pt\"},\"location\":\"top_center\",\"orientation\":\"horizontal\",\"plot\":{\"id\":\"f537ee99-5991-4ad9-8518-1a850ab3c46f\",\"subtype\":\"Figure\",\"type\":\"Plot\"}},\"id\":\"58335900-e9b3-4073-8c1d-a1202a2f9ac5\",\"type\":\"Legend\"},{\"attributes\":{\"label\":{\"value\":\"CRD\"},\"renderers\":[{\"id\":\"946d7ebc-dd55-499c-8f68-79b55b9f8d44\",\"type\":\"GlyphRenderer\"},{\"id\":\"4de3bfd8-7170-439a-8615-279f1463163d\",\"type\":\"GlyphRenderer\"}]},\"id\":\"41f9d4ff-9880-45fc-b3a9-699e99b9a653\",\"type\":\"LegendItem\"},{\"attributes\":{\"data_source\":{\"id\":\"1f8e2b35-d304-4fc5-9332-5a754db7d7c6\",\"type\":\"ColumnDataSource\"},\"glyph\":{\"id\":\"280dbdaa-5e71-44f2-839e-29ab564b7410\",\"type\":\"Line\"},\"hover_glyph\":null,\"muted_glyph\":null,\"nonselection_glyph\":{\"id\":\"4173eabe-b655-4f81-96fb-d56760a6d0e4\",\"type\":\"Line\"},\"selection_glyph\":null,\"view\":{\"id\":\"4a0db081-66ae-47f1-bf47-a02048d10322\",\"type\":\"CDSView\"}},\"id\":\"21f91326-021e-4e87-872f-a5e00e3d15ac\",\"type\":\"GlyphRenderer\"},{\"attributes\":{\"callback\":null,\"data\":{\"x\":{\"__ndarray__\":\"/3gEEI2UQEB0c9Dyc4w8QD4Snx5gWT5AFZGcg+DzPkDYuZ5UNgY+QOQFUWxaiTtAJ8DHxwLZN0CaDBxtwNEzQHB3T1JOgDBAqgJPUzdBLUAe/HRqAFAsQFSv4d6I2CxANirWFRW2LUCUHZfp5zstQOmztrvKoCpAP9+BL/hHJ0AOuwcTjXUkQH9IUrXU0CJAw/AV2NWiIkADs+SX97kjQBnUSknZKCZAob123iaqJUC4+jy7qSYhQET39BNTYRlA8h7eZutmE0DRGDGap7MPQNFp3YuZvQpAbUJm/ObPBUCXEVqHsCYCQKiqyakxdP8/TACEl5IJ/T+x36gvONj4P/WeSfiLL/Q/Ne11Qx4f8T9KO/snl8XuPwAFjDANXOw/ECia+rR+5z/5xrZqtSrhP87q9DpG090/BhYs5hIw3T8TpNj1dqrePxgwooWPUd4/oFDDMBzn3D+hGPElCWPaPxcG4a4W8tI/SPcufN8E0T+Jx6v2fkPcP6Ojb0QSwOM/zctF4t2z6z9opHhLdyvyP4FPJXk/b/U/u1x3mN2T9z9xG3Lf+XH4P5hGdwrobvg/Vn3mdk49+D9YubJsL+/3P7/luSDMffc/5EORdUbl9j8uE9yIYjP2P7kamugzgPU/QlxJFNm49D8sS/Y7lOnzPzVsLhNSEvM/nKsN3cpI8j/zk0wAFaHxP6Zz65TTLvE/Fg7ZiLQN8T8jxFOXpVDxP4PdzMKAqPE/RD1PzBJe8T9HiM/2GIfvP1JwtsmBh+o/vb6j/cCS5T/xD0UD5EPhP++YhMum7NY/\",\"dtype\":\"float64\",\"shape\":[75]},\"y\":{\"__ndarray__\":\"GhExyth1ND/Sv8nbtpRIP2vylNV0PVE/aTum7souWD/At0SJ8fVgPw3Iuahxymc/MSNhhJWvcD/bTfBN02d3P2zb5nxnaoA/CD5h5MAGhz8NmeH1TyaQP+zrCsc9p5Y/LbKd76fGnz/bLW5ISEmmPww9YvTcQq8/JV2OstnstT8Er5Y7M8G+P0c+r3jqkcU/5h99k6ZBzj88bCIzFzjVP4enV8oyxN0//yH99nXg5D8qOpLLf0jtP5kqGJXUifQ/c9cS8kHP/D+/DpwzojQEQIEmwoanVwxA4lgXt9HgE0BSSZ2AJuIbQAMJih9jjiNA5q4l5INuK0AwTKYKRj0zQNv5fmq8/DpAaCJseHrtQkB/+zpwzoxKQM3MzMzMeFJAZmZmZmZqWEAAAAAAAFxeQM3MzMzMJmJAmpmZmZkfZUBmZmZmZhhoQDMzMzMzEWtAAAAAAAAKbkBmZmZmZoFwQM3MzMzM/XFAMzMzMzN6c0CamZmZmfZ0QAAAAAAAc3ZAZmZmZmbvd0DNzMzMzGt5QDMzMzMz6HpAmpmZmZlkfEAAAAAAAOF9QGZmZmZmXX9AZmZmZuZsgECamZmZGSuBQM3MzMxM6YFAAAAAAICngkAzMzMzs2WDQGZmZmbmI4RAmpmZmRnihEDNzMzMTKCFQAAAAACAXoZAMzMzM7Mch0BmZmZm5tqHQJqZmZkZmYhAzczMzExXiUAAAAAAgBWKQDMzMzOz04pAZmZmZuaRi0CamZmZGVCMQM3MzMxMDo1AAAAAAIDMjUAzMzMzs4qOQGZmZmbmSI9A\",\"dtype\":\"float64\",\"shape\":[75]}},\"selected\":{\"id\":\"296a46f0-4f1f-426e-8f1b-48dfdaef0cb1\",\"type\":\"Selection\"},\"selection_policy\":{\"id\":\"19938bdb-e298-47de-bc21-ea86c98556b1\",\"type\":\"UnionRenderers\"}},\"id\":\"9fd6649a-10b7-4b38-839b-8da3efa7eda7\",\"type\":\"ColumnDataSource\"},{\"attributes\":{\"plot\":{\"id\":\"5c1f6261-8bcd-4858-a79c-eda121acf441\",\"subtype\":\"Figure\",\"type\":\"Plot\"},\"ticker\":{\"id\":\"8cd75200-cc43-4b00-b38f-8595cad2e002\",\"type\":\"BasicTicker\"}},\"id\":\"35f7884c-ccc6-432d-a4f8-ef98652e8b8e\",\"type\":\"Grid\"},{\"attributes\":{\"dimension\":1,\"plot\":{\"id\":\"5c1f6261-8bcd-4858-a79c-eda121acf441\",\"subtype\":\"Figure\",\"type\":\"Plot\"},\"ticker\":{\"id\":\"e9825f76-939d-4995-a44f-27ba3d5e5664\",\"type\":\"LogTicker\"}},\"id\":\"898c4b34-9ad7-4493-b8b3-f9c3918a2ee1\",\"type\":\"Grid\"},{\"attributes\":{\"source\":{\"id\":\"119d50b5-b2b1-4094-b3fa-c7fb0e298b0b\",\"type\":\"ColumnDataSource\"}},\"id\":\"355ce053-0440-41db-9b2b-78eeee9d6e02\",\"type\":\"CDSView\"},{\"attributes\":{},\"id\":\"c23f5806-ca1a-40db-9f61-8f01562f7e94\",\"type\":\"SaveTool\"},{\"attributes\":{\"data_source\":{\"id\":\"119d50b5-b2b1-4094-b3fa-c7fb0e298b0b\",\"type\":\"ColumnDataSource\"},\"glyph\":{\"id\":\"d61ed20f-a9d0-4eae-9876-05df0510c22b\",\"type\":\"Line\"},\"hover_glyph\":null,\"muted_glyph\":null,\"nonselection_glyph\":{\"id\":\"e72992c2-a8ac-4c5b-afaf-850c5c4db817\",\"type\":\"Line\"},\"selection_glyph\":null,\"view\":{\"id\":\"355ce053-0440-41db-9b2b-78eeee9d6e02\",\"type\":\"CDSView\"}},\"id\":\"51158eae-dab1-4815-b1ca-ca8cebb247b6\",\"type\":\"GlyphRenderer\"},{\"attributes\":{\"callback\":null,\"end\":0.9897391746271391,\"start\":-1.6775373671211389},\"id\":\"d020de6a-f2f5-4b6d-b314-8290f24c0585\",\"type\":\"Range1d\"},{\"attributes\":{},\"id\":\"c424b9ce-24c8-4b01-8026-b957d4f460dc\",\"type\":\"BasicTickFormatter\"},{\"attributes\":{\"children\":[{\"id\":\"0e510c59-89f0-4b3d-9c7d-b5ce660b1e73\",\"subtype\":\"Figure\",\"type\":\"Plot\"},{\"id\":\"5c1f6261-8bcd-4858-a79c-eda121acf441\",\"subtype\":\"Figure\",\"type\":\"Plot\"},{\"id\":\"f537ee99-5991-4ad9-8518-1a850ab3c46f\",\"subtype\":\"Figure\",\"type\":\"Plot\"}]},\"id\":\"7ec62da2-91bb-4959-8b80-c31554830822\",\"type\":\"Row\"},{\"attributes\":{\"children\":[{\"id\":\"736725a2-c524-4d04-838c-23839760c4e7\",\"type\":\"ToolbarBox\"},{\"id\":\"a697aa22-c1ec-445f-8cf9-a1e18ed6feb0\",\"type\":\"Column\"}]},\"id\":\"da9334e2-756b-4235-bf4f-58ae6e6ffe55\",\"type\":\"Column\"},{\"attributes\":{\"line_alpha\":0.1,\"line_color\":\"#1f77b4\",\"line_dash\":[6],\"line_width\":5,\"x\":{\"field\":\"x\"},\"y\":{\"field\":\"y\"}},\"id\":\"e72992c2-a8ac-4c5b-afaf-850c5c4db817\",\"type\":\"Line\"},{\"attributes\":{},\"id\":\"b9e164b9-da77-4226-97ab-82d26a580ccf\",\"type\":\"PanTool\"},{\"attributes\":{\"tools\":[{\"id\":\"b9e164b9-da77-4226-97ab-82d26a580ccf\",\"type\":\"PanTool\"},{\"id\":\"da7d920e-4ba9-4ea1-b175-7a4fdc621409\",\"type\":\"WheelZoomTool\"},{\"id\":\"4a511b4d-30e8-4943-89c0-1a4947267f0b\",\"type\":\"BoxZoomTool\"},{\"id\":\"48431078-1711-479a-8d47-aecb145410da\",\"type\":\"SaveTool\"},{\"id\":\"ef9524df-4d35-41fe-ae2d-3b34f7c622ea\",\"type\":\"ResetTool\"},{\"id\":\"926a1133-249b-4a6c-8d5e-23c0b44f151f\",\"type\":\"HelpTool\"},{\"id\":\"a6ad5fd9-5d71-4dd5-bb33-f2e9b723761e\",\"type\":\"PanTool\"},{\"id\":\"7a62bd19-f183-4ec0-91da-b0ff51901df6\",\"type\":\"WheelZoomTool\"},{\"id\":\"f7dc98f1-abb9-470f-b875-e202d9f7aa7b\",\"type\":\"BoxZoomTool\"},{\"id\":\"c23f5806-ca1a-40db-9f61-8f01562f7e94\",\"type\":\"SaveTool\"},{\"id\":\"6cadce25-09a7-4448-9b7c-bd5b58e30397\",\"type\":\"ResetTool\"},{\"id\":\"1c6c565c-f2ce-472d-a500-84df5437c96d\",\"type\":\"HelpTool\"},{\"id\":\"d83c0b30-d06d-4c99-a1c8-3c14fa9cd6f4\",\"type\":\"PanTool\"},{\"id\":\"31b679b6-5114-4438-8ae7-f6adf31dd88b\",\"type\":\"WheelZoomTool\"},{\"id\":\"8be2751f-bbe4-4f5f-ae57-5b50f900f574\",\"type\":\"BoxZoomTool\"},{\"id\":\"517ba6e8-defb-437e-8707-f33f427666b2\",\"type\":\"SaveTool\"},{\"id\":\"bedd983a-fda5-4c0b-ad42-a17bd0fedd4c\",\"type\":\"ResetTool\"},{\"id\":\"80400d15-1de9-40b0-a1e7-c5fb352061ce\",\"type\":\"HelpTool\"}]},\"id\":\"3d6ca9d5-6915-439a-a9b3-8e2c538287ad\",\"type\":\"ProxyToolbar\"},{\"attributes\":{\"source\":{\"id\":\"1f8e2b35-d304-4fc5-9332-5a754db7d7c6\",\"type\":\"ColumnDataSource\"}},\"id\":\"4a0db081-66ae-47f1-bf47-a02048d10322\",\"type\":\"CDSView\"},{\"attributes\":{\"active_drag\":\"auto\",\"active_inspect\":\"auto\",\"active_scroll\":\"auto\",\"active_tap\":\"auto\",\"tools\":[{\"id\":\"d83c0b30-d06d-4c99-a1c8-3c14fa9cd6f4\",\"type\":\"PanTool\"},{\"id\":\"31b679b6-5114-4438-8ae7-f6adf31dd88b\",\"type\":\"WheelZoomTool\"},{\"id\":\"8be2751f-bbe4-4f5f-ae57-5b50f900f574\",\"type\":\"BoxZoomTool\"},{\"id\":\"517ba6e8-defb-437e-8707-f33f427666b2\",\"type\":\"SaveTool\"},{\"id\":\"bedd983a-fda5-4c0b-ad42-a17bd0fedd4c\",\"type\":\"ResetTool\"},{\"id\":\"80400d15-1de9-40b0-a1e7-c5fb352061ce\",\"type\":\"HelpTool\"}]},\"id\":\"66048db6-63aa-4147-9142-a64715e9f528\",\"type\":\"Toolbar\"},{\"attributes\":{\"line_color\":\"#4daf4a\",\"line_width\":1.5,\"x\":{\"field\":\"x\"},\"y\":{\"field\":\"y\"}},\"id\":\"a1c3c48f-3590-4b2b-bbbf-d7e6df685230\",\"type\":\"Line\"},{\"attributes\":{\"line_alpha\":0.1,\"line_color\":\"#1f77b4\",\"line_width\":1.5,\"x\":{\"field\":\"x\"},\"y\":{\"field\":\"y\"}},\"id\":\"90023b7f-0590-4e80-a04b-5734f88d4236\",\"type\":\"Line\"},{\"attributes\":{\"num_minor_ticks\":10},\"id\":\"e9825f76-939d-4995-a44f-27ba3d5e5664\",\"type\":\"LogTicker\"},{\"attributes\":{},\"id\":\"8cd75200-cc43-4b00-b38f-8595cad2e002\",\"type\":\"BasicTicker\"},{\"attributes\":{},\"id\":\"6cadce25-09a7-4448-9b7c-bd5b58e30397\",\"type\":\"ResetTool\"},{\"attributes\":{\"plot\":null,\"text\":\"\"},\"id\":\"aa06a22e-f993-4efb-a46c-3f53c941f22c\",\"type\":\"Title\"},{\"attributes\":{\"callback\":null,\"data\":{\"x\":{\"__ndarray__\":\"0CYBcvU5UkCik9zf2GVBQF1VoNfLZ0BAVLxhiVXTPUDD1Wu1wJM6QFJyB025jjdAU6Aw5+b/NECYe1uuDfgyQB6bYtVTbTFAPxYSAF1HMEA00pYVm9QuQLolHbMzgC1AntlwirGsLECv+G9SjE4rQJH6ZLBp0ShAsLZQyPd/JkDyjgyf2PwkQLgyNGsrJyRAA13QbJD6I0C8hy0ilI4kQOVTXCEgcSZAovOGvZSGJUBVc/ZmUOIgQOf/6GHAyRlAcE8fAOBSFEDRur1U//gPQGFD9ZbokghAQsqHuSqSA0C91ci3W0UBQCtRQfvz7/4/kh8pntyB+j9t1/n+4TX1P773MAUjFfI/RgzR+CI28T8hBW8WHK7uPzVKjJfU8uk/0FPt4/z65T/wVYqzMPDhPz7K9C5CXuE/8+hSn9hY4T/9PPCkR6rhP1XsIC599OA/66X1nBCX3z/YbRM56QjcPz4dkSQc/dM/S7Wb8Fq00T+/yQdmX0vcP7TrGf476eM/WqNPJoWO7D9qOH1bcwDzP2bw+R5DQ/Y/RLSuQOQp+D8+aif8yAz5P0Wv6eBKRfk/0i2+IN4R+T/ik8QNFZr4PyS5UD5j/Pc/yJ68zXRG9z/2CHPL54H2P59SOhwKtPU/npkP8dfg9D8NlmVcdQz0P80ugRvuOvM/byxiAHN18j9USVZie8nxP5l9lNXYSPE/OB+F0UYP8T8Y7dsUCTHxP3EBgTHPcPE/bfx15p8S8T8FT+xkGtTuP6mdG7rkxuk/pboqTkHX5D/CrN8qGYngP7R4ZaL+htU/\",\"dtype\":\"float64\",\"shape\":[75]},\"y\":{\"__ndarray__\":\"GhExyth1ND/Sv8nbtpRIP2vylNV0PVE/aTum7souWD/At0SJ8fVgPw3Iuahxymc/MSNhhJWvcD/bTfBN02d3P2zb5nxnaoA/CD5h5MAGhz8NmeH1TyaQP+zrCsc9p5Y/LbKd76fGnz/bLW5ISEmmPww9YvTcQq8/JV2OstnstT8Er5Y7M8G+P0c+r3jqkcU/5h99k6ZBzj88bCIzFzjVP4enV8oyxN0//yH99nXg5D8qOpLLf0jtP5kqGJXUifQ/c9cS8kHP/D+/DpwzojQEQIEmwoanVwxA4lgXt9HgE0BSSZ2AJuIbQAMJih9jjiNA5q4l5INuK0AwTKYKRj0zQNv5fmq8/DpAaCJseHrtQkB/+zpwzoxKQM3MzMzMeFJAZmZmZmZqWEAAAAAAAFxeQM3MzMzMJmJAmpmZmZkfZUBmZmZmZhhoQDMzMzMzEWtAAAAAAAAKbkBmZmZmZoFwQM3MzMzM/XFAMzMzMzN6c0CamZmZmfZ0QAAAAAAAc3ZAZmZmZmbvd0DNzMzMzGt5QDMzMzMz6HpAmpmZmZlkfEAAAAAAAOF9QGZmZmZmXX9AZmZmZuZsgECamZmZGSuBQM3MzMxM6YFAAAAAAICngkAzMzMzs2WDQGZmZmbmI4RAmpmZmRnihEDNzMzMTKCFQAAAAACAXoZAMzMzM7Mch0BmZmZm5tqHQJqZmZkZmYhAzczMzExXiUAAAAAAgBWKQDMzMzOz04pAZmZmZuaRi0CamZmZGVCMQM3MzMxMDo1AAAAAAIDMjUAzMzMzs4qOQGZmZmbmSI9A\",\"dtype\":\"float64\",\"shape\":[75]}},\"selected\":{\"id\":\"67fdd9e6-0ea2-4c26-8506-86fad98293b5\",\"type\":\"Selection\"},\"selection_policy\":{\"id\":\"66fcf125-1be6-49e3-abbf-76ebbc3f7820\",\"type\":\"UnionRenderers\"}},\"id\":\"04d95911-11a7-4886-ac11-08400523f872\",\"type\":\"ColumnDataSource\"},{\"attributes\":{\"data_source\":{\"id\":\"9d80d441-68f4-4194-ae59-038179b1b9c4\",\"type\":\"ColumnDataSource\"},\"glyph\":{\"id\":\"0647b21d-4abc-461a-aa2f-bf4c1c7d5451\",\"type\":\"Circle\"},\"hover_glyph\":null,\"muted_glyph\":null,\"nonselection_glyph\":{\"id\":\"eca675a4-2cd5-4e69-a7ff-3a4d170e5bf1\",\"type\":\"Circle\"},\"selection_glyph\":null,\"view\":{\"id\":\"36e37304-ec0f-4c44-86a5-893e8f1557c3\",\"type\":\"CDSView\"}},\"id\":\"0d274d0d-e745-426b-a759-fc5dfb7aca35\",\"type\":\"GlyphRenderer\"},{\"attributes\":{},\"id\":\"7a62bd19-f183-4ec0-91da-b0ff51901df6\",\"type\":\"WheelZoomTool\"},{\"attributes\":{\"toolbar\":{\"id\":\"3d6ca9d5-6915-439a-a9b3-8e2c538287ad\",\"type\":\"ProxyToolbar\"},\"toolbar_location\":\"above\"},\"id\":\"736725a2-c524-4d04-838c-23839760c4e7\",\"type\":\"ToolbarBox\"},{\"attributes\":{\"callback\":null,\"end\":0.01,\"start\":1020},\"id\":\"a1a10f5d-2a5b-43b4-8d07-7c8d09e44708\",\"type\":\"Range1d\"},{\"attributes\":{\"fill_alpha\":{\"value\":0.1},\"fill_color\":{\"value\":\"#1f77b4\"},\"line_alpha\":{\"value\":0.1},\"line_color\":{\"value\":\"#1f77b4\"},\"x\":{\"field\":\"x\"},\"y\":{\"field\":\"y\"}},\"id\":\"eca675a4-2cd5-4e69-a7ff-3a4d170e5bf1\",\"type\":\"Circle\"},{\"attributes\":{},\"id\":\"92d8d061-392f-4eaf-8caa-2d860fd47cb8\",\"type\":\"BasicTickFormatter\"},{\"attributes\":{\"callback\":null,\"end\":16.436989857875947,\"start\":0.29783215711705},\"id\":\"1ce053e0-afac-4eeb-947c-b77469efc889\",\"type\":\"Range1d\"},{\"attributes\":{\"axis_label\":\"cooling rate [K/day]\",\"formatter\":{\"id\":\"57914580-5251-4942-8725-e440b76bf7b0\",\"type\":\"BasicTickFormatter\"},\"plot\":{\"id\":\"5c1f6261-8bcd-4858-a79c-eda121acf441\",\"subtype\":\"Figure\",\"type\":\"Plot\"},\"ticker\":{\"id\":\"8cd75200-cc43-4b00-b38f-8595cad2e002\",\"type\":\"BasicTicker\"}},\"id\":\"c9e61be0-12e7-45b3-85c1-35be537babe8\",\"type\":\"LinearAxis\"},{\"attributes\":{\"overlay\":{\"id\":\"4bf2e7e6-987f-4106-858d-d4b2041cb989\",\"type\":\"BoxAnnotation\"}},\"id\":\"f7dc98f1-abb9-470f-b875-e202d9f7aa7b\",\"type\":\"BoxZoomTool\"},{\"attributes\":{},\"id\":\"933f63f2-a9f4-4986-8c68-fda874599adc\",\"type\":\"LinearScale\"},{\"attributes\":{\"fill_alpha\":{\"value\":0.1},\"fill_color\":{\"value\":\"#1f77b4\"},\"line_alpha\":{\"value\":0.1},\"line_color\":{\"value\":\"#1f77b4\"},\"x\":{\"field\":\"x\"},\"y\":{\"field\":\"y\"}},\"id\":\"a912a2e2-fe3a-44c1-93fe-8299a7f81ee5\",\"type\":\"Circle\"},{\"attributes\":{\"above\":[{\"id\":\"5e1e60d9-8ec1-4ed2-9030-b2e1210ae965\",\"type\":\"Legend\"}],\"below\":[{\"id\":\"c9792d5e-74d2-4b76-9ee4-ab9cabf93776\",\"type\":\"LinearAxis\"}],\"left\":[{\"id\":\"a5f4c7e5-297d-447a-b128-01111510f391\",\"type\":\"LinearAxis\"}],\"plot_width\":300,\"renderers\":[{\"id\":\"c9792d5e-74d2-4b76-9ee4-ab9cabf93776\",\"type\":\"LinearAxis\"},{\"id\":\"679d4fcd-b785-43d4-8eeb-847e98fc4782\",\"type\":\"Grid\"},{\"id\":\"a5f4c7e5-297d-447a-b128-01111510f391\",\"type\":\"LinearAxis\"},{\"id\":\"c35deda4-9782-4155-92c2-e6264ab01be9\",\"type\":\"Grid\"},{\"id\":\"c652604e-ec6c-4f9d-a8aa-1e58429454d6\",\"type\":\"BoxAnnotation\"},{\"id\":\"51158eae-dab1-4815-b1ca-ca8cebb247b6\",\"type\":\"GlyphRenderer\"},{\"id\":\"0d274d0d-e745-426b-a759-fc5dfb7aca35\",\"type\":\"GlyphRenderer\"},{\"id\":\"1e4ff928-28a2-48b8-a68e-226206b24319\",\"type\":\"GlyphRenderer\"},{\"id\":\"5e1e60d9-8ec1-4ed2-9030-b2e1210ae965\",\"type\":\"Legend\"}],\"title\":{\"id\":\"aa06a22e-f993-4efb-a46c-3f53c941f22c\",\"type\":\"Title\"},\"toolbar\":{\"id\":\"3f1d9c14-7cf0-462a-bc91-8ca068b1a681\",\"type\":\"Toolbar\"},\"toolbar_location\":null,\"x_range\":{\"id\":\"22725c0f-40a6-4f32-a4b0-35dd74fbc403\",\"type\":\"Range1d\"},\"x_scale\":{\"id\":\"c00eda63-65d1-4913-82ab-3f93c583197d\",\"type\":\"LinearScale\"},\"y_range\":{\"id\":\"1b76f1d8-4ded-48e7-86c0-5c8b2428dc8a\",\"type\":\"Range1d\"},\"y_scale\":{\"id\":\"6e92f70d-5335-42f3-ba55-a4fff6b2fb07\",\"type\":\"LinearScale\"}},\"id\":\"0e510c59-89f0-4b3d-9c7d-b5ce660b1e73\",\"subtype\":\"Figure\",\"type\":\"Plot\"},{\"attributes\":{\"ticker\":null},\"id\":\"37c30934-b0d4-4892-b749-6de283e0542a\",\"type\":\"LogTickFormatter\"},{\"attributes\":{\"callback\":null,\"data\":{\"x\":{\"__ndarray__\":\"pNT9013fQ8BHz6Iz9/wYwNfDDIW8sQPAIkyto68I8j+fIJf5rJMLQIecTPoI1Q9As/64BN/IBkBfIBLYVzbrP1R1ZGKwoO2/pE6pZhVs+r+osA5Z1ST0v5zMboda9dS/aQlVtjiW4D9MTnJyudXuP2yVG7UQ9uw/6REl5gwA2T+4fJqAcenQv5ajHl5rZeW/7sOmS6l75b/2lhpJkZPavw7zXwS2EcK/3f/kdxDJsT9k2KERVRbBPyUpAn1TG7q/7g8mKJN+zb9FgCij7lWhv4gzQaeHVdE/WMHzFuLt0T9TeyfymSq8P7AvC9G1h6A/vwXXyq89xD8cQniFsRLNP745xZhH08A/0hEfW7UEd7/IKTaMEXtnP0nW/cfESbM/DkTNaoE7qD/N3nEaaa+Yv7um0ov4pLO/he/mYXkGtr+HVx9QYaiyv5xE/bRWu6y/aqqSYaN/pb+PUyUyAV6av25yAVtXsJC/OcCXjW7vhb9A2QhwvYE/v54IJNXclHS/tPE6gehUm78zgJIAgp+qv3kclLp0gKq/TPHqBtXAor9a2amW41mjv4wVTc5azKq/Xw/2OvWRqr8pUTsitFylv6rZtGXHpZ+/NbnWCpZLmL/lcb2lUKGTv7/yG9AZ64m/Ca4eY27/g7/icKU3kHCBv8NLYSkEToS/fmhAqhFUhr9CsNoEMTOEv9bxCalABXq/oBYSwYokOb+8C9d3gpx/Py0I7qXI2Is/1DVQdrnckj9GKGc80l+WPytVWvOhE5g/5YIg7/Vvlz/qZawMW1mXP64D8pGCWpY/\",\"dtype\":\"float64\",\"shape\":[75]},\"y\":{\"__ndarray__\":\"GhExyth1ND/Sv8nbtpRIP2vylNV0PVE/aTum7souWD/At0SJ8fVgPw3Iuahxymc/MSNhhJWvcD/bTfBN02d3P2zb5nxnaoA/CD5h5MAGhz8NmeH1TyaQP+zrCsc9p5Y/LbKd76fGnz/bLW5ISEmmPww9YvTcQq8/JV2OstnstT8Er5Y7M8G+P0c+r3jqkcU/5h99k6ZBzj88bCIzFzjVP4enV8oyxN0//yH99nXg5D8qOpLLf0jtP5kqGJXUifQ/c9cS8kHP/D+/DpwzojQEQIEmwoanVwxA4lgXt9HgE0BSSZ2AJuIbQAMJih9jjiNA5q4l5INuK0AwTKYKRj0zQNv5fmq8/DpAaCJseHrtQkB/+zpwzoxKQM3MzMzMeFJAZmZmZmZqWEAAAAAAAFxeQM3MzMzMJmJAmpmZmZkfZUBmZmZmZhhoQDMzMzMzEWtAAAAAAAAKbkBmZmZmZoFwQM3MzMzM/XFAMzMzMzN6c0CamZmZmfZ0QAAAAAAAc3ZAZmZmZmbvd0DNzMzMzGt5QDMzMzMz6HpAmpmZmZlkfEAAAAAAAOF9QGZmZmZmXX9AZmZmZuZsgECamZmZGSuBQM3MzMxM6YFAAAAAAICngkAzMzMzs2WDQGZmZmbmI4RAmpmZmRnihEDNzMzMTKCFQAAAAACAXoZAMzMzM7Mch0BmZmZm5tqHQJqZmZkZmYhAzczMzExXiUAAAAAAgBWKQDMzMzOz04pAZmZmZuaRi0CamZmZGVCMQM3MzMxMDo1AAAAAAIDMjUAzMzMzs4qOQGZmZmbmSI9A\",\"dtype\":\"float64\",\"shape\":[75]}},\"selected\":{\"id\":\"31d963e3-68c7-4dc6-971f-9866f5916f1a\",\"type\":\"Selection\"},\"selection_policy\":{\"id\":\"1e1cbbd4-474d-4215-91c2-26c39f55add4\",\"type\":\"UnionRenderers\"}},\"id\":\"d6f25dbe-bd67-44ec-a6f0-7fc7221ff3f6\",\"type\":\"ColumnDataSource\"},{\"attributes\":{},\"id\":\"d05872bf-5b21-4927-8eb2-a3e57a50de53\",\"type\":\"LogScale\"},{\"attributes\":{\"callback\":null,\"data\":{\"x\":{\"__ndarray__\":\"pNT9013fQ8BHz6Iz9/wYwNfDDIW8sQPAIkyto68I8j+fIJf5rJMLQIecTPoI1Q9As/64BN/IBkBfIBLYVzbrP1R1ZGKwoO2/pE6pZhVs+r+osA5Z1ST0v5zMboda9dS/aQlVtjiW4D9MTnJyudXuP2yVG7UQ9uw/6REl5gwA2T+4fJqAcenQv5ajHl5rZeW/7sOmS6l75b/2lhpJkZPavw7zXwS2EcK/3f/kdxDJsT9k2KERVRbBPyUpAn1TG7q/7g8mKJN+zb9FgCij7lWhv4gzQaeHVdE/WMHzFuLt0T9TeyfymSq8P7AvC9G1h6A/vwXXyq89xD8cQniFsRLNP745xZhH08A/0hEfW7UEd7/IKTaMEXtnP0nW/cfESbM/DkTNaoE7qD/N3nEaaa+Yv7um0ov4pLO/he/mYXkGtr+HVx9QYaiyv5xE/bRWu6y/aqqSYaN/pb+PUyUyAV6av25yAVtXsJC/OcCXjW7vhb9A2QhwvYE/v54IJNXclHS/tPE6gehUm78zgJIAgp+qv3kclLp0gKq/TPHqBtXAor9a2amW41mjv4wVTc5azKq/Xw/2OvWRqr8pUTsitFylv6rZtGXHpZ+/NbnWCpZLmL/lcb2lUKGTv7/yG9AZ64m/Ca4eY27/g7/icKU3kHCBv8NLYSkEToS/fmhAqhFUhr9CsNoEMTOEv9bxCalABXq/oBYSwYokOb+8C9d3gpx/Py0I7qXI2Is/1DVQdrnckj9GKGc80l+WPytVWvOhE5g/5YIg7/Vvlz/qZawMW1mXP64D8pGCWpY/\",\"dtype\":\"float64\",\"shape\":[75]},\"y\":{\"__ndarray__\":\"GhExyth1ND/Sv8nbtpRIP2vylNV0PVE/aTum7souWD/At0SJ8fVgPw3Iuahxymc/MSNhhJWvcD/bTfBN02d3P2zb5nxnaoA/CD5h5MAGhz8NmeH1TyaQP+zrCsc9p5Y/LbKd76fGnz/bLW5ISEmmPww9YvTcQq8/JV2OstnstT8Er5Y7M8G+P0c+r3jqkcU/5h99k6ZBzj88bCIzFzjVP4enV8oyxN0//yH99nXg5D8qOpLLf0jtP5kqGJXUifQ/c9cS8kHP/D+/DpwzojQEQIEmwoanVwxA4lgXt9HgE0BSSZ2AJuIbQAMJih9jjiNA5q4l5INuK0AwTKYKRj0zQNv5fmq8/DpAaCJseHrtQkB/+zpwzoxKQM3MzMzMeFJAZmZmZmZqWEAAAAAAAFxeQM3MzMzMJmJAmpmZmZkfZUBmZmZmZhhoQDMzMzMzEWtAAAAAAAAKbkBmZmZmZoFwQM3MzMzM/XFAMzMzMzN6c0CamZmZmfZ0QAAAAAAAc3ZAZmZmZmbvd0DNzMzMzGt5QDMzMzMz6HpAmpmZmZlkfEAAAAAAAOF9QGZmZmZmXX9AZmZmZuZsgECamZmZGSuBQM3MzMxM6YFAAAAAAICngkAzMzMzs2WDQGZmZmbmI4RAmpmZmRnihEDNzMzMTKCFQAAAAACAXoZAMzMzM7Mch0BmZmZm5tqHQJqZmZkZmYhAzczMzExXiUAAAAAAgBWKQDMzMzOz04pAZmZmZuaRi0CamZmZGVCMQM3MzMxMDo1AAAAAAIDMjUAzMzMzs4qOQGZmZmbmSI9A\",\"dtype\":\"float64\",\"shape\":[75]}},\"selected\":{\"id\":\"f4b3f8d2-d4e4-468d-af50-badefb88193c\",\"type\":\"Selection\"},\"selection_policy\":{\"id\":\"f7d67342-cb08-47e7-9be4-d4620dc2d0da\",\"type\":\"UnionRenderers\"}},\"id\":\"1f8e2b35-d304-4fc5-9332-5a754db7d7c6\",\"type\":\"ColumnDataSource\"},{\"attributes\":{\"callback\":null,\"data\":{\"x\":{\"__ndarray__\":\"0CYBcvU5UkCik9zf2GVBQF1VoNfLZ0BAVLxhiVXTPUDD1Wu1wJM6QFJyB025jjdAU6Aw5+b/NECYe1uuDfgyQB6bYtVTbTFAPxYSAF1HMEA00pYVm9QuQLolHbMzgC1AntlwirGsLECv+G9SjE4rQJH6ZLBp0ShAsLZQyPd/JkDyjgyf2PwkQLgyNGsrJyRAA13QbJD6I0C8hy0ilI4kQOVTXCEgcSZAovOGvZSGJUBVc/ZmUOIgQOf/6GHAyRlAcE8fAOBSFEDRur1U//gPQGFD9ZbokghAQsqHuSqSA0C91ci3W0UBQCtRQfvz7/4/kh8pntyB+j9t1/n+4TX1P773MAUjFfI/RgzR+CI28T8hBW8WHK7uPzVKjJfU8uk/0FPt4/z65T/wVYqzMPDhPz7K9C5CXuE/8+hSn9hY4T/9PPCkR6rhP1XsIC599OA/66X1nBCX3z/YbRM56QjcPz4dkSQc/dM/S7Wb8Fq00T+/yQdmX0vcP7TrGf476eM/WqNPJoWO7D9qOH1bcwDzP2bw+R5DQ/Y/RLSuQOQp+D8+aif8yAz5P0Wv6eBKRfk/0i2+IN4R+T/ik8QNFZr4PyS5UD5j/Pc/yJ68zXRG9z/2CHPL54H2P59SOhwKtPU/npkP8dfg9D8NlmVcdQz0P80ugRvuOvM/byxiAHN18j9USVZie8nxP5l9lNXYSPE/OB+F0UYP8T8Y7dsUCTHxP3EBgTHPcPE/bfx15p8S8T8FT+xkGtTuP6mdG7rkxuk/pboqTkHX5D/CrN8qGYngP7R4ZaL+htU/\",\"dtype\":\"float64\",\"shape\":[75]},\"y\":{\"__ndarray__\":\"GhExyth1ND/Sv8nbtpRIP2vylNV0PVE/aTum7souWD/At0SJ8fVgPw3Iuahxymc/MSNhhJWvcD/bTfBN02d3P2zb5nxnaoA/CD5h5MAGhz8NmeH1TyaQP+zrCsc9p5Y/LbKd76fGnz/bLW5ISEmmPww9YvTcQq8/JV2OstnstT8Er5Y7M8G+P0c+r3jqkcU/5h99k6ZBzj88bCIzFzjVP4enV8oyxN0//yH99nXg5D8qOpLLf0jtP5kqGJXUifQ/c9cS8kHP/D+/DpwzojQEQIEmwoanVwxA4lgXt9HgE0BSSZ2AJuIbQAMJih9jjiNA5q4l5INuK0AwTKYKRj0zQNv5fmq8/DpAaCJseHrtQkB/+zpwzoxKQM3MzMzMeFJAZmZmZmZqWEAAAAAAAFxeQM3MzMzMJmJAmpmZmZkfZUBmZmZmZhhoQDMzMzMzEWtAAAAAAAAKbkBmZmZmZoFwQM3MzMzM/XFAMzMzMzN6c0CamZmZmfZ0QAAAAAAAc3ZAZmZmZmbvd0DNzMzMzGt5QDMzMzMz6HpAmpmZmZlkfEAAAAAAAOF9QGZmZmZmXX9AZmZmZuZsgECamZmZGSuBQM3MzMxM6YFAAAAAAICngkAzMzMzs2WDQGZmZmbmI4RAmpmZmRnihEDNzMzMTKCFQAAAAACAXoZAMzMzM7Mch0BmZmZm5tqHQJqZmZkZmYhAzczMzExXiUAAAAAAgBWKQDMzMzOz04pAZmZmZuaRi0CamZmZGVCMQM3MzMxMDo1AAAAAAIDMjUAzMzMzs4qOQGZmZmbmSI9A\",\"dtype\":\"float64\",\"shape\":[75]}},\"selected\":{\"id\":\"ba45d9dc-9199-47ea-a5df-cdb8577e784f\",\"type\":\"Selection\"},\"selection_policy\":{\"id\":\"693158e5-ae6c-45d1-a3e2-ece7cf02bfd5\",\"type\":\"UnionRenderers\"}},\"id\":\"9d80d441-68f4-4194-ae59-038179b1b9c4\",\"type\":\"ColumnDataSource\"},{\"attributes\":{\"line_alpha\":0.6,\"line_color\":\"#377eb8\",\"line_dash\":[6],\"line_width\":5,\"x\":{\"field\":\"x\"},\"y\":{\"field\":\"y\"}},\"id\":\"aef233df-15a2-47da-88e1-cfe52ade6bba\",\"type\":\"Line\"},{\"attributes\":{},\"id\":\"dcfc95b1-9a71-4daa-a964-b7518d2b600c\",\"type\":\"Selection\"},{\"attributes\":{\"data_source\":{\"id\":\"9fd6649a-10b7-4b38-839b-8da3efa7eda7\",\"type\":\"ColumnDataSource\"},\"glyph\":{\"id\":\"aef233df-15a2-47da-88e1-cfe52ade6bba\",\"type\":\"Line\"},\"hover_glyph\":null,\"muted_glyph\":null,\"nonselection_glyph\":{\"id\":\"cc357713-8214-430d-b01f-8b725089e8cd\",\"type\":\"Line\"},\"selection_glyph\":null,\"view\":{\"id\":\"da2a663f-4037-4e6a-a830-e545c72828a7\",\"type\":\"CDSView\"}},\"id\":\"f4a393b2-3197-4588-900a-a2c9d7649a48\",\"type\":\"GlyphRenderer\"},{\"attributes\":{},\"id\":\"90ceb598-2f61-49cb-8730-1ca24b7e6353\",\"type\":\"UnionRenderers\"},{\"attributes\":{\"plot\":null,\"text\":\"\"},\"id\":\"8dd77161-753f-4f81-b049-4740d6a85c2e\",\"type\":\"Title\"},{\"attributes\":{\"line_color\":\"#4daf4a\",\"line_width\":1.5,\"x\":{\"field\":\"x\"},\"y\":{\"field\":\"y\"}},\"id\":\"1986e835-6e21-4997-9c32-07b1b6504f10\",\"type\":\"Line\"},{\"attributes\":{},\"id\":\"da7d920e-4ba9-4ea1-b175-7a4fdc621409\",\"type\":\"WheelZoomTool\"},{\"attributes\":{\"line_alpha\":0.8,\"line_color\":\"#984ea3\",\"line_width\":1.5,\"x\":{\"field\":\"x\"},\"y\":{\"field\":\"y\"}},\"id\":\"280dbdaa-5e71-44f2-839e-29ab564b7410\",\"type\":\"Line\"},{\"attributes\":{},\"id\":\"ef9524df-4d35-41fe-ae2d-3b34f7c622ea\",\"type\":\"ResetTool\"},{\"attributes\":{},\"id\":\"693158e5-ae6c-45d1-a3e2-ece7cf02bfd5\",\"type\":\"UnionRenderers\"},{\"attributes\":{\"overlay\":{\"id\":\"c652604e-ec6c-4f9d-a8aa-1e58429454d6\",\"type\":\"BoxAnnotation\"}},\"id\":\"4a511b4d-30e8-4943-89c0-1a4947267f0b\",\"type\":\"BoxZoomTool\"},{\"attributes\":{\"bottom_units\":\"screen\",\"fill_alpha\":{\"value\":0.5},\"fill_color\":{\"value\":\"lightgrey\"},\"left_units\":\"screen\",\"level\":\"overlay\",\"line_alpha\":{\"value\":1.0},\"line_color\":{\"value\":\"black\"},\"line_dash\":[4,4],\"line_width\":{\"value\":2},\"plot\":null,\"render_mode\":\"css\",\"right_units\":\"screen\",\"top_units\":\"screen\"},\"id\":\"4bf2e7e6-987f-4106-858d-d4b2041cb989\",\"type\":\"BoxAnnotation\"},{\"attributes\":{\"data_source\":{\"id\":\"71ef337a-c759-442c-9582-30aa85cea12d\",\"type\":\"ColumnDataSource\"},\"glyph\":{\"id\":\"1986e835-6e21-4997-9c32-07b1b6504f10\",\"type\":\"Line\"},\"hover_glyph\":null,\"muted_glyph\":null,\"nonselection_glyph\":{\"id\":\"06971912-1d30-42ee-b9b9-c148d36ccd49\",\"type\":\"Line\"},\"selection_glyph\":null,\"view\":{\"id\":\"6cc2af2d-f925-4e91-b517-0de2953cbc5f\",\"type\":\"CDSView\"}},\"id\":\"4de3bfd8-7170-439a-8615-279f1463163d\",\"type\":\"GlyphRenderer\"},{\"attributes\":{},\"id\":\"48431078-1711-479a-8d47-aecb145410da\",\"type\":\"SaveTool\"},{\"attributes\":{\"source\":{\"id\":\"d6f25dbe-bd67-44ec-a6f0-7fc7221ff3f6\",\"type\":\"ColumnDataSource\"}},\"id\":\"8e306d99-e1ae-4ffe-a531-2f4cff54e496\",\"type\":\"CDSView\"},{\"attributes\":{\"fill_alpha\":{\"value\":0.7},\"fill_color\":{\"value\":\"#984ea3\"},\"line_alpha\":{\"value\":0.7},\"line_color\":{\"value\":\"#984ea3\"},\"x\":{\"field\":\"x\"},\"y\":{\"field\":\"y\"}},\"id\":\"b3b75311-bc82-4fe0-b01c-f9e1b0323cf4\",\"type\":\"Circle\"},{\"attributes\":{},\"id\":\"67fdd9e6-0ea2-4c26-8506-86fad98293b5\",\"type\":\"Selection\"},{\"attributes\":{},\"id\":\"ba45d9dc-9199-47ea-a5df-cdb8577e784f\",\"type\":\"Selection\"},{\"attributes\":{},\"id\":\"296a46f0-4f1f-426e-8f1b-48dfdaef0cb1\",\"type\":\"Selection\"},{\"attributes\":{},\"id\":\"d83c0b30-d06d-4c99-a1c8-3c14fa9cd6f4\",\"type\":\"PanTool\"},{\"attributes\":{\"line_alpha\":0.1,\"line_color\":\"#1f77b4\",\"line_width\":1.5,\"x\":{\"field\":\"x\"},\"y\":{\"field\":\"y\"}},\"id\":\"06971912-1d30-42ee-b9b9-c148d36ccd49\",\"type\":\"Line\"},{\"attributes\":{\"children\":[{\"id\":\"7ec62da2-91bb-4959-8b80-c31554830822\",\"type\":\"Row\"}]},\"id\":\"a697aa22-c1ec-445f-8cf9-a1e18ed6feb0\",\"type\":\"Column\"},{\"attributes\":{},\"id\":\"19938bdb-e298-47de-bc21-ea86c98556b1\",\"type\":\"UnionRenderers\"},{\"attributes\":{},\"id\":\"57914580-5251-4942-8725-e440b76bf7b0\",\"type\":\"BasicTickFormatter\"},{\"attributes\":{},\"id\":\"66fcf125-1be6-49e3-abbf-76ebbc3f7820\",\"type\":\"UnionRenderers\"},{\"attributes\":{\"callback\":null,\"end\":0.01,\"start\":1020},\"id\":\"1b76f1d8-4ded-48e7-86c0-5c8b2428dc8a\",\"type\":\"Range1d\"},{\"attributes\":{\"fill_alpha\":{\"value\":0.7},\"fill_color\":{\"value\":\"#4daf4a\"},\"line_alpha\":{\"value\":0.7},\"line_color\":{\"value\":\"#4daf4a\"},\"x\":{\"field\":\"x\"},\"y\":{\"field\":\"y\"}},\"id\":\"0647b21d-4abc-461a-aa2f-bf4c1c7d5451\",\"type\":\"Circle\"},{\"attributes\":{},\"id\":\"926a1133-249b-4a6c-8d5e-23c0b44f151f\",\"type\":\"HelpTool\"},{\"attributes\":{\"callback\":null,\"data\":{\"x\":{\"__ndarray__\":\"0CYBcvU5UkCik9zf2GVBQF1VoNfLZ0BAVLxhiVXTPUDD1Wu1wJM6QFJyB025jjdAU6Aw5+b/NECYe1uuDfgyQB6bYtVTbTFAPxYSAF1HMEA00pYVm9QuQLolHbMzgC1AntlwirGsLECv+G9SjE4rQJH6ZLBp0ShAsLZQyPd/JkDyjgyf2PwkQLgyNGsrJyRAA13QbJD6I0C8hy0ilI4kQOVTXCEgcSZAovOGvZSGJUBVc/ZmUOIgQOf/6GHAyRlAcE8fAOBSFEDRur1U//gPQGFD9ZbokghAQsqHuSqSA0C91ci3W0UBQCtRQfvz7/4/kh8pntyB+j9t1/n+4TX1P773MAUjFfI/RgzR+CI28T8hBW8WHK7uPzVKjJfU8uk/0FPt4/z65T/wVYqzMPDhPz7K9C5CXuE/8+hSn9hY4T/9PPCkR6rhP1XsIC599OA/66X1nBCX3z/YbRM56QjcPz4dkSQc/dM/S7Wb8Fq00T+/yQdmX0vcP7TrGf476eM/WqNPJoWO7D9qOH1bcwDzP2bw+R5DQ/Y/RLSuQOQp+D8+aif8yAz5P0Wv6eBKRfk/0i2+IN4R+T/ik8QNFZr4PyS5UD5j/Pc/yJ68zXRG9z/2CHPL54H2P59SOhwKtPU/npkP8dfg9D8NlmVcdQz0P80ugRvuOvM/byxiAHN18j9USVZie8nxP5l9lNXYSPE/OB+F0UYP8T8Y7dsUCTHxP3EBgTHPcPE/bfx15p8S8T8FT+xkGtTuP6mdG7rkxuk/pboqTkHX5D/CrN8qGYngP7R4ZaL+htU/\",\"dtype\":\"float64\",\"shape\":[75]},\"y\":{\"__ndarray__\":\"GhExyth1ND/Sv8nbtpRIP2vylNV0PVE/aTum7souWD/At0SJ8fVgPw3Iuahxymc/MSNhhJWvcD/bTfBN02d3P2zb5nxnaoA/CD5h5MAGhz8NmeH1TyaQP+zrCsc9p5Y/LbKd76fGnz/bLW5ISEmmPww9YvTcQq8/JV2OstnstT8Er5Y7M8G+P0c+r3jqkcU/5h99k6ZBzj88bCIzFzjVP4enV8oyxN0//yH99nXg5D8qOpLLf0jtP5kqGJXUifQ/c9cS8kHP/D+/DpwzojQEQIEmwoanVwxA4lgXt9HgE0BSSZ2AJuIbQAMJih9jjiNA5q4l5INuK0AwTKYKRj0zQNv5fmq8/DpAaCJseHrtQkB/+zpwzoxKQM3MzMzMeFJAZmZmZmZqWEAAAAAAAFxeQM3MzMzMJmJAmpmZmZkfZUBmZmZmZhhoQDMzMzMzEWtAAAAAAAAKbkBmZmZmZoFwQM3MzMzM/XFAMzMzMzN6c0CamZmZmfZ0QAAAAAAAc3ZAZmZmZmbvd0DNzMzMzGt5QDMzMzMz6HpAmpmZmZlkfEAAAAAAAOF9QGZmZmZmXX9AZmZmZuZsgECamZmZGSuBQM3MzMxM6YFAAAAAAICngkAzMzMzs2WDQGZmZmbmI4RAmpmZmRnihEDNzMzMTKCFQAAAAACAXoZAMzMzM7Mch0BmZmZm5tqHQJqZmZkZmYhAzczMzExXiUAAAAAAgBWKQDMzMzOz04pAZmZmZuaRi0CamZmZGVCMQM3MzMxMDo1AAAAAAIDMjUAzMzMzs4qOQGZmZmbmSI9A\",\"dtype\":\"float64\",\"shape\":[75]}},\"selected\":{\"id\":\"2f66acf0-daea-4daf-b0c1-68b8c67d19d8\",\"type\":\"Selection\"},\"selection_policy\":{\"id\":\"b2318e75-e8ba-4096-900a-7426bf7269eb\",\"type\":\"UnionRenderers\"}},\"id\":\"71ef337a-c759-442c-9582-30aa85cea12d\",\"type\":\"ColumnDataSource\"},{\"attributes\":{},\"id\":\"8962b6a4-5afe-4e62-87de-1b8bca1ec01b\",\"type\":\"BasicTicker\"},{\"attributes\":{},\"id\":\"2f66acf0-daea-4daf-b0c1-68b8c67d19d8\",\"type\":\"Selection\"},{\"attributes\":{\"plot\":{\"id\":\"0e510c59-89f0-4b3d-9c7d-b5ce660b1e73\",\"subtype\":\"Figure\",\"type\":\"Plot\"},\"ticker\":{\"id\":\"e376e3e5-6fe7-4751-8882-86577d4de427\",\"type\":\"BasicTicker\"}},\"id\":\"679d4fcd-b785-43d4-8eeb-847e98fc4782\",\"type\":\"Grid\"},{\"attributes\":{\"bottom_units\":\"screen\",\"fill_alpha\":{\"value\":0.5},\"fill_color\":{\"value\":\"lightgrey\"},\"left_units\":\"screen\",\"level\":\"overlay\",\"line_alpha\":{\"value\":1.0},\"line_color\":{\"value\":\"black\"},\"line_dash\":[4,4],\"line_width\":{\"value\":2},\"plot\":null,\"render_mode\":\"css\",\"right_units\":\"screen\",\"top_units\":\"screen\"},\"id\":\"17d6893a-bd3e-4412-8fc2-81d84e055523\",\"type\":\"BoxAnnotation\"},{\"attributes\":{},\"id\":\"31d963e3-68c7-4dc6-971f-9866f5916f1a\",\"type\":\"Selection\"},{\"attributes\":{},\"id\":\"bf1c3b8b-6e5c-4661-9a20-11e93929c0d2\",\"type\":\"Selection\"},{\"attributes\":{},\"id\":\"f7d67342-cb08-47e7-9be4-d4620dc2d0da\",\"type\":\"UnionRenderers\"},{\"attributes\":{},\"id\":\"1e1cbbd4-474d-4215-91c2-26c39f55add4\",\"type\":\"UnionRenderers\"},{\"attributes\":{\"plot\":null,\"text\":\"\"},\"id\":\"2f277267-ef25-4617-8e96-b8a2b05a5f1e\",\"type\":\"Title\"},{\"attributes\":{\"dimension\":1,\"plot\":{\"id\":\"f537ee99-5991-4ad9-8518-1a850ab3c46f\",\"subtype\":\"Figure\",\"type\":\"Plot\"},\"ticker\":{\"id\":\"e6772885-7205-4a96-b80f-3c4c03683662\",\"type\":\"LogTicker\"}},\"id\":\"1bd6e142-a640-4a5a-8576-6ce028d52102\",\"type\":\"Grid\"},{\"attributes\":{},\"id\":\"045b351c-0bf1-4de2-8014-7b3da15ef7b5\",\"type\":\"BasicTickFormatter\"},{\"attributes\":{\"axis_label\":\"cooling rate [K/day]\",\"formatter\":{\"id\":\"045b351c-0bf1-4de2-8014-7b3da15ef7b5\",\"type\":\"BasicTickFormatter\"},\"plot\":{\"id\":\"f537ee99-5991-4ad9-8518-1a850ab3c46f\",\"subtype\":\"Figure\",\"type\":\"Plot\"},\"ticker\":{\"id\":\"bab703c2-67bb-4874-adda-24cb6336beae\",\"type\":\"BasicTicker\"}},\"id\":\"a0cd1f8e-6d8d-45e1-b981-03a36d45aff8\",\"type\":\"LinearAxis\"},{\"attributes\":{\"source\":{\"id\":\"9d80d441-68f4-4194-ae59-038179b1b9c4\",\"type\":\"ColumnDataSource\"}},\"id\":\"36e37304-ec0f-4c44-86a5-893e8f1557c3\",\"type\":\"CDSView\"},{\"attributes\":{\"ticker\":null},\"id\":\"be1877c9-2cb8-4547-a42a-8195cbd9d3ee\",\"type\":\"LogTickFormatter\"},{\"attributes\":{\"overlay\":{\"id\":\"17d6893a-bd3e-4412-8fc2-81d84e055523\",\"type\":\"BoxAnnotation\"}},\"id\":\"8be2751f-bbe4-4f5f-ae57-5b50f900f574\",\"type\":\"BoxZoomTool\"},{\"attributes\":{},\"id\":\"80400d15-1de9-40b0-a1e7-c5fb352061ce\",\"type\":\"HelpTool\"},{\"attributes\":{},\"id\":\"bedd983a-fda5-4c0b-ad42-a17bd0fedd4c\",\"type\":\"ResetTool\"},{\"attributes\":{},\"id\":\"b2318e75-e8ba-4096-900a-7426bf7269eb\",\"type\":\"UnionRenderers\"},{\"attributes\":{},\"id\":\"517ba6e8-defb-437e-8707-f33f427666b2\",\"type\":\"SaveTool\"}],\"root_ids\":[\"da9334e2-756b-4235-bf4f-58ae6e6ffe55\"]},\"title\":\"Bokeh Application\",\"version\":\"0.12.16\"}};\n",
       "  var render_items = [{\"docid\":\"38dd13be-bde1-403c-8ab4-42eb81a7e13c\",\"elementid\":\"d4cd735d-6d8a-428b-a396-9465fb39e92f\",\"modelid\":\"da9334e2-756b-4235-bf4f-58ae6e6ffe55\"}];\n",
       "  root.Bokeh.embed.embed_items_notebook(docs_json, render_items);\n",
       "\n",
       "  }\n",
       "  if (root.Bokeh !== undefined) {\n",
       "    embed_document(root);\n",
       "  } else {\n",
       "    var attempts = 0;\n",
       "    var timer = setInterval(function(root) {\n",
       "      if (root.Bokeh !== undefined) {\n",
       "        embed_document(root);\n",
       "        clearInterval(timer);\n",
       "      }\n",
       "      attempts++;\n",
       "      if (attempts > 100) {\n",
       "        console.log(\"Bokeh: ERROR: Unable to run BokehJS code because BokehJS library is missing\")\n",
       "        clearInterval(timer);\n",
       "      }\n",
       "    }, 10, root)\n",
       "  }\n",
       "})(window);"
      ],
      "application/vnd.bokehjs_exec.v0+json": ""
     },
     "metadata": {
      "application/vnd.bokehjs_exec.v0+json": {
       "id": "da9334e2-756b-4235-bf4f-58ae6e6ffe55"
      }
     },
     "output_type": "display_data"
    },
    {
     "data": {
      "text/markdown": [
       "*FIGURE.* Cooling rates & difference."
      ],
      "text/plain": [
       "<IPython.core.display.Markdown object>"
      ]
     },
     "metadata": {},
     "output_type": "display_data"
    },
    {
     "data": {
      "text/html": [
       "<a id=\"Fluxes._saw.\"></a>"
      ],
      "text/plain": [
       "<IPython.core.display.HTML object>"
      ]
     },
     "metadata": {},
     "output_type": "display_data"
    },
    {
     "data": {
      "text/markdown": [
       "# Fluxes. saw."
      ],
      "text/plain": [
       "<IPython.core.display.Markdown object>"
      ]
     },
     "metadata": {},
     "output_type": "display_data"
    },
    {
     "data": {
      "text/html": [
       "\n",
       "<div class=\"bk-root\">\n",
       "    <div class=\"bk-plotdiv\" id=\"99740720-7345-4ba7-8f76-99901622420b\"></div>\n",
       "</div>"
      ]
     },
     "metadata": {},
     "output_type": "display_data"
    },
    {
     "data": {
      "application/javascript": [
       "(function(root) {\n",
       "  function embed_document(root) {\n",
       "    \n",
       "  var docs_json = {\"5ca05a97-94e3-410c-9df9-441a8664563f\":{\"roots\":{\"references\":[{\"attributes\":{\"bottom_units\":\"screen\",\"fill_alpha\":{\"value\":0.5},\"fill_color\":{\"value\":\"lightgrey\"},\"left_units\":\"screen\",\"level\":\"overlay\",\"line_alpha\":{\"value\":1.0},\"line_color\":{\"value\":\"black\"},\"line_dash\":[4,4],\"line_width\":{\"value\":2},\"plot\":null,\"render_mode\":\"css\",\"right_units\":\"screen\",\"top_units\":\"screen\"},\"id\":\"c0534ece-d074-4921-ba9b-22c9f75a389f\",\"type\":\"BoxAnnotation\"},{\"attributes\":{},\"id\":\"bebbff46-a15b-4dea-a6f2-814bb8ad6ce4\",\"type\":\"BasicTickFormatter\"},{\"attributes\":{\"dimension\":1,\"plot\":{\"id\":\"95ccfacd-6e4d-4160-a6c4-d5496d1595cc\",\"subtype\":\"Figure\",\"type\":\"Plot\"},\"ticker\":{\"id\":\"9f8aadb5-2110-467e-83ba-a1424e59e0f7\",\"type\":\"BasicTicker\"}},\"id\":\"5a9cf3bc-e9e8-4388-9cb8-8a95ddeddc00\",\"type\":\"Grid\"},{\"attributes\":{},\"id\":\"8379ee40-3b7c-47a4-91fd-6c14ac27544b\",\"type\":\"CategoricalTickFormatter\"},{\"attributes\":{},\"id\":\"9f8aadb5-2110-467e-83ba-a1424e59e0f7\",\"type\":\"BasicTicker\"},{\"attributes\":{},\"id\":\"1400f4cc-e7ae-4197-87d3-e831f72c65cc\",\"type\":\"HelpTool\"},{\"attributes\":{},\"id\":\"ef0f8640-7123-4b2b-b9ae-42962421eceb\",\"type\":\"ResetTool\"},{\"attributes\":{},\"id\":\"2c7ad292-b0ab-4351-b3a0-054242770ddd\",\"type\":\"UnionRenderers\"},{\"attributes\":{},\"id\":\"1863dea6-b818-4735-8ff5-a2e576f1905e\",\"type\":\"PanTool\"},{\"attributes\":{\"callback\":null,\"data\":{\"band\":[\"1\",\"2\",\"3\",\"4\",\"5\",\"6\",\"7\",\"8\",\"9\",\"10\",\"11\"],\"flux\":{\"__ndarray__\":\"gGLUtfY+xz8ABgWlaOWyPwCnJVZGI7O/4NU5BmSv0D8AounsZHC4PwBAAg02dY6/QIl6wac50j8AHErtRbSNvwBDfBY6ZaA/AGgLdJJSdb9AysVzETqTPw==\",\"dtype\":\"float64\",\"shape\":[11]}},\"selected\":{\"id\":\"6a2ac35a-6cfa-450c-bee9-2615d160e47a\",\"type\":\"Selection\"},\"selection_policy\":{\"id\":\"2c7ad292-b0ab-4351-b3a0-054242770ddd\",\"type\":\"UnionRenderers\"}},\"id\":\"276cf540-6f43-4000-b505-f6cf0b093a86\",\"type\":\"ColumnDataSource\"},{\"attributes\":{\"below\":[{\"id\":\"afcb90d4-77ec-43ab-b8a1-66a214ec5687\",\"type\":\"CategoricalAxis\"}],\"left\":[{\"id\":\"2fe790f0-2806-4374-abab-00552af47027\",\"type\":\"LinearAxis\"}],\"plot_height\":300,\"plot_width\":300,\"renderers\":[{\"id\":\"afcb90d4-77ec-43ab-b8a1-66a214ec5687\",\"type\":\"CategoricalAxis\"},{\"id\":\"94f5f193-f7bc-4740-b420-ee7e23e33fe0\",\"type\":\"Grid\"},{\"id\":\"2fe790f0-2806-4374-abab-00552af47027\",\"type\":\"LinearAxis\"},{\"id\":\"aac01c4a-ddc7-4a6c-bc5a-555265b0e5d9\",\"type\":\"Grid\"},{\"id\":\"b5d524a5-5773-4e39-8331-87dacc4d094d\",\"type\":\"BoxAnnotation\"},{\"id\":\"cb520606-f551-4ba1-b950-5a4ba4c9fcf3\",\"type\":\"GlyphRenderer\"}],\"title\":{\"id\":\"2214e9f0-2520-4086-8277-1127f5426ecf\",\"type\":\"Title\"},\"toolbar\":{\"id\":\"274dc174-ac6d-4d9e-8dff-a20df617a8ac\",\"type\":\"Toolbar\"},\"toolbar_location\":null,\"x_range\":{\"id\":\"01fb69fc-603c-48c9-a487-a84ffa9d89f4\",\"type\":\"FactorRange\"},\"x_scale\":{\"id\":\"47f78adc-c681-421d-8d0b-b7ccef98096d\",\"type\":\"CategoricalScale\"},\"y_range\":{\"id\":\"00f35be7-68c1-4ad6-b0e4-03168c22ad70\",\"type\":\"DataRange1d\"},\"y_scale\":{\"id\":\"da0cf2ec-44be-4c62-92a6-2d3aeaeb7eb5\",\"type\":\"LinearScale\"}},\"id\":\"3405303d-4b29-428f-9b22-978be472077b\",\"subtype\":\"Figure\",\"type\":\"Plot\"},{\"attributes\":{},\"id\":\"0d91566f-6fc2-4f5c-9531-da89642e654a\",\"type\":\"CategoricalScale\"},{\"attributes\":{},\"id\":\"59e03137-36ae-4936-bf0f-922ffe44b767\",\"type\":\"CategoricalTicker\"},{\"attributes\":{\"overlay\":{\"id\":\"c0534ece-d074-4921-ba9b-22c9f75a389f\",\"type\":\"BoxAnnotation\"}},\"id\":\"0b6c0609-1599-4bae-b7fb-9ed61229c9e6\",\"type\":\"BoxZoomTool\"},{\"attributes\":{\"plot\":null,\"text\":\"TOA flux. CLIRAD (single-run) - CRD.\"},\"id\":\"2214e9f0-2520-4086-8277-1127f5426ecf\",\"type\":\"Title\"},{\"attributes\":{\"tools\":[{\"id\":\"5924e00d-11d8-4d4d-ad05-c90ab2ac1476\",\"type\":\"PanTool\"},{\"id\":\"c3dda9ab-f78a-4f02-8a6c-9bae56ee92a5\",\"type\":\"WheelZoomTool\"},{\"id\":\"48f59200-fa10-40f9-b510-d3c4b3f770a7\",\"type\":\"BoxZoomTool\"},{\"id\":\"e721ca20-8efd-402d-850e-6970a49ec8b9\",\"type\":\"SaveTool\"},{\"id\":\"76c586f2-86cf-4bf9-84ff-91c3873a38ea\",\"type\":\"ResetTool\"},{\"id\":\"5390b88a-2e69-477f-acd5-8c122b4b3db9\",\"type\":\"HelpTool\"},{\"id\":\"1863dea6-b818-4735-8ff5-a2e576f1905e\",\"type\":\"PanTool\"},{\"id\":\"4f5115f1-6a5f-4b64-a52c-262c4d51ba9e\",\"type\":\"WheelZoomTool\"},{\"id\":\"ce6ac991-7cc0-4884-baf2-d9949123dec5\",\"type\":\"BoxZoomTool\"},{\"id\":\"816a2feb-b6eb-40f5-9926-257caf2e9aff\",\"type\":\"SaveTool\"},{\"id\":\"ef0f8640-7123-4b2b-b9ae-42962421eceb\",\"type\":\"ResetTool\"},{\"id\":\"1400f4cc-e7ae-4197-87d3-e831f72c65cc\",\"type\":\"HelpTool\"},{\"id\":\"8823d126-33f6-4de0-a348-1158841d21a2\",\"type\":\"PanTool\"},{\"id\":\"83fec9a5-259f-430f-a4fc-08f1a89eb5e8\",\"type\":\"WheelZoomTool\"},{\"id\":\"0b6c0609-1599-4bae-b7fb-9ed61229c9e6\",\"type\":\"BoxZoomTool\"},{\"id\":\"2f8ed8db-18fe-4177-8780-b217746c08b1\",\"type\":\"SaveTool\"},{\"id\":\"c182ae89-7f82-47d2-ad0b-8a7fc9ac0bbf\",\"type\":\"ResetTool\"},{\"id\":\"42f7e7ac-018d-4b72-a8d0-5d50f6a0a9e4\",\"type\":\"HelpTool\"}]},\"id\":\"158c5969-11b4-416d-a58b-fe7bb650be5f\",\"type\":\"ProxyToolbar\"},{\"attributes\":{},\"id\":\"9277b016-6fa9-41e0-9d2d-38eac1f1444f\",\"type\":\"LinearScale\"},{\"attributes\":{},\"id\":\"2181ad3b-383f-4e2c-9b7c-057a799e8ee3\",\"type\":\"UnionRenderers\"},{\"attributes\":{},\"id\":\"c182ae89-7f82-47d2-ad0b-8a7fc9ac0bbf\",\"type\":\"ResetTool\"},{\"attributes\":{\"callback\":null,\"data\":{\"band\":[\"1\",\"2\",\"3\",\"4\",\"5\",\"6\",\"7\",\"8\",\"9\",\"10\",\"11\"],\"flux\":{\"__ndarray__\":\"AEDdJAaBZb8Asg5HV+nAv4DgnBGlveC/AOp+TkF+tj8AHbkkvV7IPyB+nlCZrLm/AD0w26kUsD/ga9jnGC20vwAmr84xIJM/AJDEy9O5oj8A+eRZMI5tPw==\",\"dtype\":\"float64\",\"shape\":[11]}},\"selected\":{\"id\":\"a74e82cc-51c0-49fa-9c09-ee773bac908d\",\"type\":\"Selection\"},\"selection_policy\":{\"id\":\"2181ad3b-383f-4e2c-9b7c-057a799e8ee3\",\"type\":\"UnionRenderers\"}},\"id\":\"224803f7-9352-4ffc-b2b4-9543a8cea9c1\",\"type\":\"ColumnDataSource\"},{\"attributes\":{\"callback\":null},\"id\":\"00f35be7-68c1-4ad6-b0e4-03168c22ad70\",\"type\":\"DataRange1d\"},{\"attributes\":{},\"id\":\"6a2ac35a-6cfa-450c-bee9-2615d160e47a\",\"type\":\"Selection\"},{\"attributes\":{\"children\":[{\"id\":\"3405303d-4b29-428f-9b22-978be472077b\",\"subtype\":\"Figure\",\"type\":\"Plot\"},{\"id\":\"95ccfacd-6e4d-4160-a6c4-d5496d1595cc\",\"subtype\":\"Figure\",\"type\":\"Plot\"},{\"id\":\"5fd8d901-f179-479b-b13a-dc53c20c2f22\",\"subtype\":\"Figure\",\"type\":\"Plot\"}]},\"id\":\"39e87193-7a01-4ef2-b038-ac3bcd461605\",\"type\":\"Row\"},{\"attributes\":{\"children\":[{\"id\":\"746d3f79-2860-48a2-b7ac-a793b8d96430\",\"type\":\"ToolbarBox\"},{\"id\":\"0183b134-6057-411a-9a01-3f3593f97c53\",\"type\":\"Column\"}]},\"id\":\"45e63057-69eb-4f7b-a2fd-55aacb42adce\",\"type\":\"Column\"},{\"attributes\":{\"source\":{\"id\":\"224803f7-9352-4ffc-b2b4-9543a8cea9c1\",\"type\":\"ColumnDataSource\"}},\"id\":\"805a424c-d7be-4027-b4d0-071c964db33d\",\"type\":\"CDSView\"},{\"attributes\":{\"callback\":null,\"factors\":[\"1\",\"2\",\"3\",\"4\",\"5\",\"6\",\"7\",\"8\",\"9\",\"10\",\"11\"]},\"id\":\"4c3ff81a-7405-450e-983a-a189efb35ef3\",\"type\":\"FactorRange\"},{\"attributes\":{\"axis_label\":\"spectral band\",\"formatter\":{\"id\":\"45b030bb-ea50-45db-83ac-da58350d6299\",\"type\":\"CategoricalTickFormatter\"},\"plot\":{\"id\":\"95ccfacd-6e4d-4160-a6c4-d5496d1595cc\",\"subtype\":\"Figure\",\"type\":\"Plot\"},\"ticker\":{\"id\":\"59e03137-36ae-4936-bf0f-922ffe44b767\",\"type\":\"CategoricalTicker\"}},\"id\":\"a657bb07-f37e-4e06-b0a1-31bde742174e\",\"type\":\"CategoricalAxis\"},{\"attributes\":{},\"id\":\"45b030bb-ea50-45db-83ac-da58350d6299\",\"type\":\"CategoricalTickFormatter\"},{\"attributes\":{\"callback\":null,\"factors\":[\"1\",\"2\",\"3\",\"4\",\"5\",\"6\",\"7\",\"8\",\"9\",\"10\",\"11\"]},\"id\":\"01fb69fc-603c-48c9-a487-a84ffa9d89f4\",\"type\":\"FactorRange\"},{\"attributes\":{\"fill_color\":{\"value\":\"#1f77b4\"},\"line_color\":{\"value\":\"#1f77b4\"},\"top\":{\"field\":\"flux\"},\"width\":{\"value\":0.9},\"x\":{\"field\":\"band\"}},\"id\":\"b3d96b54-e743-4ee4-9bab-f29c7d19b8f2\",\"type\":\"VBar\"},{\"attributes\":{\"toolbar\":{\"id\":\"158c5969-11b4-416d-a58b-fe7bb650be5f\",\"type\":\"ProxyToolbar\"},\"toolbar_location\":\"above\"},\"id\":\"746d3f79-2860-48a2-b7ac-a793b8d96430\",\"type\":\"ToolbarBox\"},{\"attributes\":{\"active_drag\":\"auto\",\"active_inspect\":\"auto\",\"active_scroll\":\"auto\",\"active_tap\":\"auto\",\"tools\":[{\"id\":\"5924e00d-11d8-4d4d-ad05-c90ab2ac1476\",\"type\":\"PanTool\"},{\"id\":\"c3dda9ab-f78a-4f02-8a6c-9bae56ee92a5\",\"type\":\"WheelZoomTool\"},{\"id\":\"48f59200-fa10-40f9-b510-d3c4b3f770a7\",\"type\":\"BoxZoomTool\"},{\"id\":\"e721ca20-8efd-402d-850e-6970a49ec8b9\",\"type\":\"SaveTool\"},{\"id\":\"76c586f2-86cf-4bf9-84ff-91c3873a38ea\",\"type\":\"ResetTool\"},{\"id\":\"5390b88a-2e69-477f-acd5-8c122b4b3db9\",\"type\":\"HelpTool\"}]},\"id\":\"274dc174-ac6d-4d9e-8dff-a20df617a8ac\",\"type\":\"Toolbar\"},{\"attributes\":{\"bottom_units\":\"screen\",\"fill_alpha\":{\"value\":0.5},\"fill_color\":{\"value\":\"lightgrey\"},\"left_units\":\"screen\",\"level\":\"overlay\",\"line_alpha\":{\"value\":1.0},\"line_color\":{\"value\":\"black\"},\"line_dash\":[4,4],\"line_width\":{\"value\":2},\"plot\":null,\"render_mode\":\"css\",\"right_units\":\"screen\",\"top_units\":\"screen\"},\"id\":\"3d428121-f8ff-4467-a07b-8d28d8e3959d\",\"type\":\"BoxAnnotation\"},{\"attributes\":{},\"id\":\"42f7e7ac-018d-4b72-a8d0-5d50f6a0a9e4\",\"type\":\"HelpTool\"},{\"attributes\":{},\"id\":\"2f8ed8db-18fe-4177-8780-b217746c08b1\",\"type\":\"SaveTool\"},{\"attributes\":{\"data_source\":{\"id\":\"224803f7-9352-4ffc-b2b4-9543a8cea9c1\",\"type\":\"ColumnDataSource\"},\"glyph\":{\"id\":\"b3d96b54-e743-4ee4-9bab-f29c7d19b8f2\",\"type\":\"VBar\"},\"hover_glyph\":null,\"muted_glyph\":null,\"nonselection_glyph\":{\"id\":\"a10f337f-8545-40fd-8f0a-c031a3306fb8\",\"type\":\"VBar\"},\"selection_glyph\":null,\"view\":{\"id\":\"805a424c-d7be-4027-b4d0-071c964db33d\",\"type\":\"CDSView\"}},\"id\":\"69925c06-efca-4296-b3a6-7c07a700c1eb\",\"type\":\"GlyphRenderer\"},{\"attributes\":{},\"id\":\"513da167-3484-43e8-b19e-144313f0be8c\",\"type\":\"Selection\"},{\"attributes\":{},\"id\":\"47f78adc-c681-421d-8d0b-b7ccef98096d\",\"type\":\"CategoricalScale\"},{\"attributes\":{\"callback\":null},\"id\":\"769825bd-120f-4acd-bcd2-501bba10f4cb\",\"type\":\"DataRange1d\"},{\"attributes\":{},\"id\":\"816a2feb-b6eb-40f5-9926-257caf2e9aff\",\"type\":\"SaveTool\"},{\"attributes\":{\"fill_color\":{\"value\":\"#1f77b4\"},\"line_color\":{\"value\":\"#1f77b4\"},\"top\":{\"field\":\"flux\"},\"width\":{\"value\":0.9},\"x\":{\"field\":\"band\"}},\"id\":\"1cb7a142-bdef-416b-a058-c425ae3c9dd2\",\"type\":\"VBar\"},{\"attributes\":{},\"id\":\"c3dda9ab-f78a-4f02-8a6c-9bae56ee92a5\",\"type\":\"WheelZoomTool\"},{\"attributes\":{},\"id\":\"db1cdc76-c11c-48df-a232-184f0390f066\",\"type\":\"BasicTicker\"},{\"attributes\":{\"source\":{\"id\":\"8bf6b3b5-feaf-41d5-82d8-f7a9fd26070f\",\"type\":\"ColumnDataSource\"}},\"id\":\"4844663f-b4b6-480b-b664-8d0dfc80d8dd\",\"type\":\"CDSView\"},{\"attributes\":{\"below\":[{\"id\":\"32f4ebae-2aba-4923-b6c5-769e8dda4701\",\"type\":\"CategoricalAxis\"}],\"left\":[{\"id\":\"67b8725f-9773-4527-8b78-0ff66005dd18\",\"type\":\"LinearAxis\"}],\"plot_height\":300,\"plot_width\":300,\"renderers\":[{\"id\":\"32f4ebae-2aba-4923-b6c5-769e8dda4701\",\"type\":\"CategoricalAxis\"},{\"id\":\"c96202b2-3787-4ef9-89b3-0ab1e37e3433\",\"type\":\"Grid\"},{\"id\":\"67b8725f-9773-4527-8b78-0ff66005dd18\",\"type\":\"LinearAxis\"},{\"id\":\"f20380c8-3804-4c6e-b485-d219b216e446\",\"type\":\"Grid\"},{\"id\":\"c0534ece-d074-4921-ba9b-22c9f75a389f\",\"type\":\"BoxAnnotation\"},{\"id\":\"c4239b79-a7cb-443f-80fc-2ad3aa86bf1c\",\"type\":\"GlyphRenderer\"}],\"title\":{\"id\":\"21c0888e-2b4a-44d0-839f-05cce54f628b\",\"type\":\"Title\"},\"toolbar\":{\"id\":\"e52ad753-ceb5-4c9c-813f-a4af00e38b2e\",\"type\":\"Toolbar\"},\"toolbar_location\":null,\"x_range\":{\"id\":\"1c17d028-595a-4b9b-a01c-e99e20b13459\",\"type\":\"FactorRange\"},\"x_scale\":{\"id\":\"32f71de0-89be-468c-a77a-e85208d79d61\",\"type\":\"CategoricalScale\"},\"y_range\":{\"id\":\"600ca463-fcca-4737-88b0-61aafdd9ab83\",\"type\":\"DataRange1d\"},\"y_scale\":{\"id\":\"cf2c970d-6cf4-4c32-bf2f-cd0bd2514764\",\"type\":\"LinearScale\"}},\"id\":\"5fd8d901-f179-479b-b13a-dc53c20c2f22\",\"subtype\":\"Figure\",\"type\":\"Plot\"},{\"attributes\":{\"callback\":null},\"id\":\"600ca463-fcca-4737-88b0-61aafdd9ab83\",\"type\":\"DataRange1d\"},{\"attributes\":{\"fill_color\":{\"value\":\"#1f77b4\"},\"line_color\":{\"value\":\"#1f77b4\"},\"top\":{\"field\":\"flux\"},\"width\":{\"value\":0.9},\"x\":{\"field\":\"band\"}},\"id\":\"f92fe4b8-7527-4e6b-8e5c-0b8ab4ad09cc\",\"type\":\"VBar\"},{\"attributes\":{\"plot\":null,\"text\":\"SFC flux. CLIRAD (single-run) - CRD.\"},\"id\":\"0e75d774-f5a5-4596-8c2b-cebe7a2dff2b\",\"type\":\"Title\"},{\"attributes\":{},\"id\":\"5390b88a-2e69-477f-acd5-8c122b4b3db9\",\"type\":\"HelpTool\"},{\"attributes\":{\"axis_label\":\"flux (W m-2)\",\"formatter\":{\"id\":\"ac3a3477-f10f-4da6-8e1d-428f0c9676a6\",\"type\":\"BasicTickFormatter\"},\"plot\":{\"id\":\"95ccfacd-6e4d-4160-a6c4-d5496d1595cc\",\"subtype\":\"Figure\",\"type\":\"Plot\"},\"ticker\":{\"id\":\"9f8aadb5-2110-467e-83ba-a1424e59e0f7\",\"type\":\"BasicTicker\"}},\"id\":\"ac46dfe7-9c1b-4a7b-abf3-5e033fe6e47d\",\"type\":\"LinearAxis\"},{\"attributes\":{\"active_drag\":\"auto\",\"active_inspect\":\"auto\",\"active_scroll\":\"auto\",\"active_tap\":\"auto\",\"tools\":[{\"id\":\"1863dea6-b818-4735-8ff5-a2e576f1905e\",\"type\":\"PanTool\"},{\"id\":\"4f5115f1-6a5f-4b64-a52c-262c4d51ba9e\",\"type\":\"WheelZoomTool\"},{\"id\":\"ce6ac991-7cc0-4884-baf2-d9949123dec5\",\"type\":\"BoxZoomTool\"},{\"id\":\"816a2feb-b6eb-40f5-9926-257caf2e9aff\",\"type\":\"SaveTool\"},{\"id\":\"ef0f8640-7123-4b2b-b9ae-42962421eceb\",\"type\":\"ResetTool\"},{\"id\":\"1400f4cc-e7ae-4197-87d3-e831f72c65cc\",\"type\":\"HelpTool\"}]},\"id\":\"d9e6baa9-5a5c-494b-ad43-30d9047a6d1a\",\"type\":\"Toolbar\"},{\"attributes\":{\"active_drag\":\"auto\",\"active_inspect\":\"auto\",\"active_scroll\":\"auto\",\"active_tap\":\"auto\",\"tools\":[{\"id\":\"8823d126-33f6-4de0-a348-1158841d21a2\",\"type\":\"PanTool\"},{\"id\":\"83fec9a5-259f-430f-a4fc-08f1a89eb5e8\",\"type\":\"WheelZoomTool\"},{\"id\":\"0b6c0609-1599-4bae-b7fb-9ed61229c9e6\",\"type\":\"BoxZoomTool\"},{\"id\":\"2f8ed8db-18fe-4177-8780-b217746c08b1\",\"type\":\"SaveTool\"},{\"id\":\"c182ae89-7f82-47d2-ad0b-8a7fc9ac0bbf\",\"type\":\"ResetTool\"},{\"id\":\"42f7e7ac-018d-4b72-a8d0-5d50f6a0a9e4\",\"type\":\"HelpTool\"}]},\"id\":\"e52ad753-ceb5-4c9c-813f-a4af00e38b2e\",\"type\":\"Toolbar\"},{\"attributes\":{},\"id\":\"ac3a3477-f10f-4da6-8e1d-428f0c9676a6\",\"type\":\"BasicTickFormatter\"},{\"attributes\":{\"axis_label\":\"spectral band\",\"formatter\":{\"id\":\"9e43547a-782a-4b6c-b14b-348310322f01\",\"type\":\"CategoricalTickFormatter\"},\"plot\":{\"id\":\"5fd8d901-f179-479b-b13a-dc53c20c2f22\",\"subtype\":\"Figure\",\"type\":\"Plot\"},\"ticker\":{\"id\":\"7a56702c-1360-4ce3-a16c-501adc062a95\",\"type\":\"CategoricalTicker\"}},\"id\":\"32f4ebae-2aba-4923-b6c5-769e8dda4701\",\"type\":\"CategoricalAxis\"},{\"attributes\":{\"overlay\":{\"id\":\"3d428121-f8ff-4467-a07b-8d28d8e3959d\",\"type\":\"BoxAnnotation\"}},\"id\":\"ce6ac991-7cc0-4884-baf2-d9949123dec5\",\"type\":\"BoxZoomTool\"},{\"attributes\":{\"plot\":{\"id\":\"3405303d-4b29-428f-9b22-978be472077b\",\"subtype\":\"Figure\",\"type\":\"Plot\"},\"ticker\":{\"id\":\"29278016-2f79-4a0a-b215-72f7d32f3d9f\",\"type\":\"CategoricalTicker\"}},\"id\":\"94f5f193-f7bc-4740-b420-ee7e23e33fe0\",\"type\":\"Grid\"},{\"attributes\":{},\"id\":\"9e43547a-782a-4b6c-b14b-348310322f01\",\"type\":\"CategoricalTickFormatter\"},{\"attributes\":{\"source\":{\"id\":\"276cf540-6f43-4000-b505-f6cf0b093a86\",\"type\":\"ColumnDataSource\"}},\"id\":\"87e22f55-62a5-4712-be5e-19427c307b30\",\"type\":\"CDSView\"},{\"attributes\":{},\"id\":\"7a56702c-1360-4ce3-a16c-501adc062a95\",\"type\":\"CategoricalTicker\"},{\"attributes\":{\"fill_alpha\":{\"value\":0.1},\"fill_color\":{\"value\":\"#1f77b4\"},\"line_alpha\":{\"value\":0.1},\"line_color\":{\"value\":\"#1f77b4\"},\"top\":{\"field\":\"flux\"},\"width\":{\"value\":0.9},\"x\":{\"field\":\"band\"}},\"id\":\"1fb0540e-ad3d-4a71-9cbf-ad36035ba21a\",\"type\":\"VBar\"},{\"attributes\":{\"axis_label\":\"flux (W m-2)\",\"formatter\":{\"id\":\"7dd47e63-a5ff-4b87-bfc9-1013e0f1d4c3\",\"type\":\"BasicTickFormatter\"},\"plot\":{\"id\":\"5fd8d901-f179-479b-b13a-dc53c20c2f22\",\"subtype\":\"Figure\",\"type\":\"Plot\"},\"ticker\":{\"id\":\"db1cdc76-c11c-48df-a232-184f0390f066\",\"type\":\"BasicTicker\"}},\"id\":\"67b8725f-9773-4527-8b78-0ff66005dd18\",\"type\":\"LinearAxis\"},{\"attributes\":{\"children\":[{\"id\":\"39e87193-7a01-4ef2-b038-ac3bcd461605\",\"type\":\"Row\"}]},\"id\":\"0183b134-6057-411a-9a01-3f3593f97c53\",\"type\":\"Column\"},{\"attributes\":{\"fill_alpha\":{\"value\":0.1},\"fill_color\":{\"value\":\"#1f77b4\"},\"line_alpha\":{\"value\":0.1},\"line_color\":{\"value\":\"#1f77b4\"},\"top\":{\"field\":\"flux\"},\"width\":{\"value\":0.9},\"x\":{\"field\":\"band\"}},\"id\":\"9920903d-0bc9-4b31-adf0-a79ba5f43996\",\"type\":\"VBar\"},{\"attributes\":{\"axis_label\":\"spectral band\",\"formatter\":{\"id\":\"8379ee40-3b7c-47a4-91fd-6c14ac27544b\",\"type\":\"CategoricalTickFormatter\"},\"plot\":{\"id\":\"3405303d-4b29-428f-9b22-978be472077b\",\"subtype\":\"Figure\",\"type\":\"Plot\"},\"ticker\":{\"id\":\"29278016-2f79-4a0a-b215-72f7d32f3d9f\",\"type\":\"CategoricalTicker\"}},\"id\":\"afcb90d4-77ec-43ab-b8a1-66a214ec5687\",\"type\":\"CategoricalAxis\"},{\"attributes\":{},\"id\":\"5924e00d-11d8-4d4d-ad05-c90ab2ac1476\",\"type\":\"PanTool\"},{\"attributes\":{},\"id\":\"83fec9a5-259f-430f-a4fc-08f1a89eb5e8\",\"type\":\"WheelZoomTool\"},{\"attributes\":{},\"id\":\"cf2c970d-6cf4-4c32-bf2f-cd0bd2514764\",\"type\":\"LinearScale\"},{\"attributes\":{\"plot\":null,\"text\":\"Atmosphere heating. CLIRAD (single-run) - CRD.\"},\"id\":\"21c0888e-2b4a-44d0-839f-05cce54f628b\",\"type\":\"Title\"},{\"attributes\":{\"callback\":null,\"factors\":[\"1\",\"2\",\"3\",\"4\",\"5\",\"6\",\"7\",\"8\",\"9\",\"10\",\"11\"]},\"id\":\"1c17d028-595a-4b9b-a01c-e99e20b13459\",\"type\":\"FactorRange\"},{\"attributes\":{},\"id\":\"4f5115f1-6a5f-4b64-a52c-262c4d51ba9e\",\"type\":\"WheelZoomTool\"},{\"attributes\":{},\"id\":\"da0cf2ec-44be-4c62-92a6-2d3aeaeb7eb5\",\"type\":\"LinearScale\"},{\"attributes\":{\"axis_label\":\"flux (W m-2)\",\"formatter\":{\"id\":\"bebbff46-a15b-4dea-a6f2-814bb8ad6ce4\",\"type\":\"BasicTickFormatter\"},\"plot\":{\"id\":\"3405303d-4b29-428f-9b22-978be472077b\",\"subtype\":\"Figure\",\"type\":\"Plot\"},\"ticker\":{\"id\":\"a968d013-ced4-4c52-b6da-2b0f472242fd\",\"type\":\"BasicTicker\"}},\"id\":\"2fe790f0-2806-4374-abab-00552af47027\",\"type\":\"LinearAxis\"},{\"attributes\":{\"bottom_units\":\"screen\",\"fill_alpha\":{\"value\":0.5},\"fill_color\":{\"value\":\"lightgrey\"},\"left_units\":\"screen\",\"level\":\"overlay\",\"line_alpha\":{\"value\":1.0},\"line_color\":{\"value\":\"black\"},\"line_dash\":[4,4],\"line_width\":{\"value\":2},\"plot\":null,\"render_mode\":\"css\",\"right_units\":\"screen\",\"top_units\":\"screen\"},\"id\":\"b5d524a5-5773-4e39-8331-87dacc4d094d\",\"type\":\"BoxAnnotation\"},{\"attributes\":{\"fill_alpha\":{\"value\":0.1},\"fill_color\":{\"value\":\"#1f77b4\"},\"line_alpha\":{\"value\":0.1},\"line_color\":{\"value\":\"#1f77b4\"},\"top\":{\"field\":\"flux\"},\"width\":{\"value\":0.9},\"x\":{\"field\":\"band\"}},\"id\":\"a10f337f-8545-40fd-8f0a-c031a3306fb8\",\"type\":\"VBar\"},{\"attributes\":{\"overlay\":{\"id\":\"b5d524a5-5773-4e39-8331-87dacc4d094d\",\"type\":\"BoxAnnotation\"}},\"id\":\"48f59200-fa10-40f9-b510-d3c4b3f770a7\",\"type\":\"BoxZoomTool\"},{\"attributes\":{},\"id\":\"e721ca20-8efd-402d-850e-6970a49ec8b9\",\"type\":\"SaveTool\"},{\"attributes\":{},\"id\":\"6f915944-2626-497f-a1f4-86ceaf3057fe\",\"type\":\"UnionRenderers\"},{\"attributes\":{\"dimension\":1,\"plot\":{\"id\":\"5fd8d901-f179-479b-b13a-dc53c20c2f22\",\"subtype\":\"Figure\",\"type\":\"Plot\"},\"ticker\":{\"id\":\"db1cdc76-c11c-48df-a232-184f0390f066\",\"type\":\"BasicTicker\"}},\"id\":\"f20380c8-3804-4c6e-b485-d219b216e446\",\"type\":\"Grid\"},{\"attributes\":{},\"id\":\"a968d013-ced4-4c52-b6da-2b0f472242fd\",\"type\":\"BasicTicker\"},{\"attributes\":{},\"id\":\"7dd47e63-a5ff-4b87-bfc9-1013e0f1d4c3\",\"type\":\"BasicTickFormatter\"},{\"attributes\":{\"callback\":null,\"data\":{\"band\":[\"1\",\"2\",\"3\",\"4\",\"5\",\"6\",\"7\",\"8\",\"9\",\"10\",\"11\"],\"flux\":{\"__ndarray__\":\"gOIKWg6Vxz8AZUNIJ1zKP2BFireEstw/AGTOOK8fxj8A/fGoQk24vwBBZJEm3rU/wCMPRBZpzD+AUnx8QnawPwAooORpVIs/gEM6lz1kpb+Au8+vtRCPPw==\",\"dtype\":\"float64\",\"shape\":[11]}},\"selected\":{\"id\":\"513da167-3484-43e8-b19e-144313f0be8c\",\"type\":\"Selection\"},\"selection_policy\":{\"id\":\"6f915944-2626-497f-a1f4-86ceaf3057fe\",\"type\":\"UnionRenderers\"}},\"id\":\"8bf6b3b5-feaf-41d5-82d8-f7a9fd26070f\",\"type\":\"ColumnDataSource\"},{\"attributes\":{\"dimension\":1,\"plot\":{\"id\":\"3405303d-4b29-428f-9b22-978be472077b\",\"subtype\":\"Figure\",\"type\":\"Plot\"},\"ticker\":{\"id\":\"a968d013-ced4-4c52-b6da-2b0f472242fd\",\"type\":\"BasicTicker\"}},\"id\":\"aac01c4a-ddc7-4a6c-bc5a-555265b0e5d9\",\"type\":\"Grid\"},{\"attributes\":{},\"id\":\"76c586f2-86cf-4bf9-84ff-91c3873a38ea\",\"type\":\"ResetTool\"},{\"attributes\":{\"data_source\":{\"id\":\"8bf6b3b5-feaf-41d5-82d8-f7a9fd26070f\",\"type\":\"ColumnDataSource\"},\"glyph\":{\"id\":\"1cb7a142-bdef-416b-a058-c425ae3c9dd2\",\"type\":\"VBar\"},\"hover_glyph\":null,\"muted_glyph\":null,\"nonselection_glyph\":{\"id\":\"1fb0540e-ad3d-4a71-9cbf-ad36035ba21a\",\"type\":\"VBar\"},\"selection_glyph\":null,\"view\":{\"id\":\"4844663f-b4b6-480b-b664-8d0dfc80d8dd\",\"type\":\"CDSView\"}},\"id\":\"c4239b79-a7cb-443f-80fc-2ad3aa86bf1c\",\"type\":\"GlyphRenderer\"},{\"attributes\":{},\"id\":\"29278016-2f79-4a0a-b215-72f7d32f3d9f\",\"type\":\"CategoricalTicker\"},{\"attributes\":{},\"id\":\"32f71de0-89be-468c-a77a-e85208d79d61\",\"type\":\"CategoricalScale\"},{\"attributes\":{},\"id\":\"a74e82cc-51c0-49fa-9c09-ee773bac908d\",\"type\":\"Selection\"},{\"attributes\":{\"plot\":{\"id\":\"95ccfacd-6e4d-4160-a6c4-d5496d1595cc\",\"subtype\":\"Figure\",\"type\":\"Plot\"},\"ticker\":{\"id\":\"59e03137-36ae-4936-bf0f-922ffe44b767\",\"type\":\"CategoricalTicker\"}},\"id\":\"646e6f2a-c048-464d-8ac6-ae753275e19b\",\"type\":\"Grid\"},{\"attributes\":{\"plot\":{\"id\":\"5fd8d901-f179-479b-b13a-dc53c20c2f22\",\"subtype\":\"Figure\",\"type\":\"Plot\"},\"ticker\":{\"id\":\"7a56702c-1360-4ce3-a16c-501adc062a95\",\"type\":\"CategoricalTicker\"}},\"id\":\"c96202b2-3787-4ef9-89b3-0ab1e37e3433\",\"type\":\"Grid\"},{\"attributes\":{\"data_source\":{\"id\":\"276cf540-6f43-4000-b505-f6cf0b093a86\",\"type\":\"ColumnDataSource\"},\"glyph\":{\"id\":\"f92fe4b8-7527-4e6b-8e5c-0b8ab4ad09cc\",\"type\":\"VBar\"},\"hover_glyph\":null,\"muted_glyph\":null,\"nonselection_glyph\":{\"id\":\"9920903d-0bc9-4b31-adf0-a79ba5f43996\",\"type\":\"VBar\"},\"selection_glyph\":null,\"view\":{\"id\":\"87e22f55-62a5-4712-be5e-19427c307b30\",\"type\":\"CDSView\"}},\"id\":\"cb520606-f551-4ba1-b950-5a4ba4c9fcf3\",\"type\":\"GlyphRenderer\"},{\"attributes\":{},\"id\":\"8823d126-33f6-4de0-a348-1158841d21a2\",\"type\":\"PanTool\"},{\"attributes\":{\"below\":[{\"id\":\"a657bb07-f37e-4e06-b0a1-31bde742174e\",\"type\":\"CategoricalAxis\"}],\"left\":[{\"id\":\"ac46dfe7-9c1b-4a7b-abf3-5e033fe6e47d\",\"type\":\"LinearAxis\"}],\"plot_height\":300,\"plot_width\":300,\"renderers\":[{\"id\":\"a657bb07-f37e-4e06-b0a1-31bde742174e\",\"type\":\"CategoricalAxis\"},{\"id\":\"646e6f2a-c048-464d-8ac6-ae753275e19b\",\"type\":\"Grid\"},{\"id\":\"ac46dfe7-9c1b-4a7b-abf3-5e033fe6e47d\",\"type\":\"LinearAxis\"},{\"id\":\"5a9cf3bc-e9e8-4388-9cb8-8a95ddeddc00\",\"type\":\"Grid\"},{\"id\":\"3d428121-f8ff-4467-a07b-8d28d8e3959d\",\"type\":\"BoxAnnotation\"},{\"id\":\"69925c06-efca-4296-b3a6-7c07a700c1eb\",\"type\":\"GlyphRenderer\"}],\"title\":{\"id\":\"0e75d774-f5a5-4596-8c2b-cebe7a2dff2b\",\"type\":\"Title\"},\"toolbar\":{\"id\":\"d9e6baa9-5a5c-494b-ad43-30d9047a6d1a\",\"type\":\"Toolbar\"},\"toolbar_location\":null,\"x_range\":{\"id\":\"4c3ff81a-7405-450e-983a-a189efb35ef3\",\"type\":\"FactorRange\"},\"x_scale\":{\"id\":\"0d91566f-6fc2-4f5c-9531-da89642e654a\",\"type\":\"CategoricalScale\"},\"y_range\":{\"id\":\"769825bd-120f-4acd-bcd2-501bba10f4cb\",\"type\":\"DataRange1d\"},\"y_scale\":{\"id\":\"9277b016-6fa9-41e0-9d2d-38eac1f1444f\",\"type\":\"LinearScale\"}},\"id\":\"95ccfacd-6e4d-4160-a6c4-d5496d1595cc\",\"subtype\":\"Figure\",\"type\":\"Plot\"}],\"root_ids\":[\"45e63057-69eb-4f7b-a2fd-55aacb42adce\"]},\"title\":\"Bokeh Application\",\"version\":\"0.12.16\"}};\n",
       "  var render_items = [{\"docid\":\"5ca05a97-94e3-410c-9df9-441a8664563f\",\"elementid\":\"99740720-7345-4ba7-8f76-99901622420b\",\"modelid\":\"45e63057-69eb-4f7b-a2fd-55aacb42adce\"}];\n",
       "  root.Bokeh.embed.embed_items_notebook(docs_json, render_items);\n",
       "\n",
       "  }\n",
       "  if (root.Bokeh !== undefined) {\n",
       "    embed_document(root);\n",
       "  } else {\n",
       "    var attempts = 0;\n",
       "    var timer = setInterval(function(root) {\n",
       "      if (root.Bokeh !== undefined) {\n",
       "        embed_document(root);\n",
       "        clearInterval(timer);\n",
       "      }\n",
       "      attempts++;\n",
       "      if (attempts > 100) {\n",
       "        console.log(\"Bokeh: ERROR: Unable to run BokehJS code because BokehJS library is missing\")\n",
       "        clearInterval(timer);\n",
       "      }\n",
       "    }, 10, root)\n",
       "  }\n",
       "})(window);"
      ],
      "application/vnd.bokehjs_exec.v0+json": ""
     },
     "metadata": {
      "application/vnd.bokehjs_exec.v0+json": {
       "id": "45e63057-69eb-4f7b-a2fd-55aacb42adce"
      }
     },
     "output_type": "display_data"
    },
    {
     "data": {
      "text/markdown": [
       "*FIGURE.* Difference between CLIRAD and CRD in TOA, SFC and net atmosphere flux, in each spectral band."
      ],
      "text/plain": [
       "<IPython.core.display.Markdown object>"
      ]
     },
     "metadata": {},
     "output_type": "display_data"
    },
    {
     "data": {
      "text/html": [
       "<div>\n",
       "<style scoped>\n",
       "    .dataframe tbody tr th:only-of-type {\n",
       "        vertical-align: middle;\n",
       "    }\n",
       "\n",
       "    .dataframe tbody tr th {\n",
       "        vertical-align: top;\n",
       "    }\n",
       "\n",
       "    .dataframe thead th {\n",
       "        text-align: right;\n",
       "    }\n",
       "</style>\n",
       "<table border=\"1\" class=\"dataframe\">\n",
       "  <thead>\n",
       "    <tr style=\"text-align: right;\">\n",
       "      <th></th>\n",
       "      <th>OLR flux</th>\n",
       "      <th>SFC flux</th>\n",
       "      <th>ATM heating</th>\n",
       "    </tr>\n",
       "    <tr>\n",
       "      <th>Sum over bands</th>\n",
       "      <th></th>\n",
       "      <th></th>\n",
       "      <th></th>\n",
       "    </tr>\n",
       "  </thead>\n",
       "  <tbody>\n",
       "    <tr>\n",
       "      <th>CLIRAD (single-run) - CRD</th>\n",
       "      <td>0.84</td>\n",
       "      <td>-0.44</td>\n",
       "      <td>1.27</td>\n",
       "    </tr>\n",
       "    <tr>\n",
       "      <th>CRD</th>\n",
       "      <td>-201.06</td>\n",
       "      <td>166.03</td>\n",
       "      <td>-119.67</td>\n",
       "    </tr>\n",
       "  </tbody>\n",
       "</table>\n",
       "</div>"
      ],
      "text/plain": [
       "                           OLR flux  SFC flux  ATM heating\n",
       "Sum over bands                                            \n",
       "CLIRAD (single-run) - CRD      0.84     -0.44         1.27\n",
       "CRD                         -201.06    166.03      -119.67"
      ]
     },
     "metadata": {},
     "output_type": "display_data"
    },
    {
     "data": {
      "text/markdown": [
       "*TABLE.* Difference between CLIRAD and CRD in TOA, SFC and net atmosphere flux, over all spectral bands. CRD's TOA, SFC and net atmosphere flux, over all spectral bands."
      ],
      "text/plain": [
       "<IPython.core.display.Markdown object>"
      ]
     },
     "metadata": {},
     "output_type": "display_data"
    },
    {
     "data": {
      "text/html": [
       "<a id=\"Cooling_rates._trp.\"></a>"
      ],
      "text/plain": [
       "<IPython.core.display.HTML object>"
      ]
     },
     "metadata": {},
     "output_type": "display_data"
    },
    {
     "data": {
      "text/markdown": [
       "# Cooling rates. trp."
      ],
      "text/plain": [
       "<IPython.core.display.Markdown object>"
      ]
     },
     "metadata": {},
     "output_type": "display_data"
    },
    {
     "data": {
      "text/html": [
       "\n",
       "<div class=\"bk-root\">\n",
       "    <div class=\"bk-plotdiv\" id=\"fce6c137-cf00-484a-8025-7a774fa51828\"></div>\n",
       "</div>"
      ]
     },
     "metadata": {},
     "output_type": "display_data"
    },
    {
     "data": {
      "application/javascript": [
       "(function(root) {\n",
       "  function embed_document(root) {\n",
       "    \n",
       "  var docs_json = {\"7d238958-a2fe-4703-9de4-2040f52a25a5\":{\"roots\":{\"references\":[{\"attributes\":{\"callback\":null,\"data\":{\"x\":{\"__ndarray__\":\"R/KIaN7AVEClCeJMyPNGQOvRhpxr30JAptxzhxx4PkA7SssMElA4QK6Bp3CyUDNAsVXpjES9LkBFhUV0+5coQMHYwqbbySNA6f09nM3nH0CaSd/3eYoZQDmgiAOW8BNAPYqARh3eDEBkm4vCgvr+P9D+5tWhQfY/P8DwKRnSAkBq38kb17ILQDT7IWuSsxFAUr2Rjm0FFkAinq3s9XgbQGCHwtYcqSFAG64kT303J0C7dRDneyooQD9JYrbK8yRA9S3bneHhIUAIymSuUMMcQIkHLe6VEBdAAau3cITREkA6CiNvkQIPQJU39ki7IQlAaAvwok1UA0BXLQiS4+L7P0xzDpJ2hPI/NNuPGMbJ5z91mUVYxqfSPxqwUPSxZca/G11peifD3L8QzNj5t2jTvwzOozTL360/SPJ4VI1VzD9KJ0nXEIncP8yDdlvHt+4/Et49nYLW9z++2teD4Jn+P+568eH/bwFALf5D9lmAAkCiZAicVOkCQPPT4jNKxwJAOjp3wTzBAUBSQsKNGisBQG4OmjqJwQBAJ3sZoHFuAEA5Ar0Sdi0AQGy4rw5+9f8/7W4nSrC3/z8mPr8zj4T/P4UYRHCQS/8/embVKYcF/z+5YXG+LLP+P/qb8BVUgf4/KvafTtyO/j/avAK1Ppv+PwJV9VVm2P0/JFtYlU/n/D9sN+q2fiX6Pw44e41PNPc/Opt+Z/wN9T+x3vcSW1vzP9ofvWQJlvI/8sciQQBW8j80sfkQa17yPzg5qng2r/I/Oh14WJBh8z+VZjnpctj0P6CcrSuCqQBA\",\"dtype\":\"float64\",\"shape\":[75]},\"y\":{\"__ndarray__\":\"GhExyth1ND/Sv8nbtpRIP2vylNV0PVE/aTum7souWD/At0SJ8fVgPw3Iuahxymc/MSNhhJWvcD/bTfBN02d3P2zb5nxnaoA/CD5h5MAGhz8NmeH1TyaQP+zrCsc9p5Y/LbKd76fGnz/bLW5ISEmmPww9YvTcQq8/JV2OstnstT8Er5Y7M8G+P0c+r3jqkcU/5h99k6ZBzj88bCIzFzjVP4enV8oyxN0//yH99nXg5D8qOpLLf0jtP5kqGJXUifQ/c9cS8kHP/D+/DpwzojQEQIEmwoanVwxA4lgXt9HgE0BSSZ2AJuIbQAMJih9jjiNA5q4l5INuK0AwTKYKRj0zQNv5fmq8/DpAaCJseHrtQkB/+zpwzoxKQM3MzMzMeFJAZmZmZmZqWEAAAAAAAFxeQM3MzMzMJmJAmpmZmZkfZUBmZmZmZhhoQDMzMzMzEWtAAAAAAAAKbkBmZmZmZoFwQM3MzMzM/XFAMzMzMzN6c0CamZmZmfZ0QAAAAAAAc3ZAZmZmZmbvd0DNzMzMzGt5QDMzMzMz6HpAmpmZmZlkfEAAAAAAAOF9QGZmZmZmXX9AZmZmZuZsgECamZmZGSuBQM3MzMxM6YFAAAAAAICngkAzMzMzs2WDQGZmZmbmI4RAmpmZmRnihEDNzMzMTKCFQAAAAACAXoZAMzMzM7Mch0BmZmZm5tqHQJqZmZkZmYhAzczMzExXiUAAAAAAgBWKQDMzMzOz04pAZmZmZuaRi0CamZmZGVCMQM3MzMxMDo1AAAAAAIDMjUAzMzMzs4qOQGZmZmbmSI9A\",\"dtype\":\"float64\",\"shape\":[75]}},\"selected\":{\"id\":\"3928d965-a1fc-4207-8ac2-f593a73ff445\",\"type\":\"Selection\"},\"selection_policy\":{\"id\":\"ed2cffe7-aa40-4887-bb31-53c94a5908e2\",\"type\":\"UnionRenderers\"}},\"id\":\"879ff52a-a648-4e59-a0c2-9ceb38e308b1\",\"type\":\"ColumnDataSource\"},{\"attributes\":{\"data_source\":{\"id\":\"879ff52a-a648-4e59-a0c2-9ceb38e308b1\",\"type\":\"ColumnDataSource\"},\"glyph\":{\"id\":\"6b0a12fe-dfe8-4a88-8fba-503824c58ef6\",\"type\":\"Circle\"},\"hover_glyph\":null,\"muted_glyph\":null,\"nonselection_glyph\":{\"id\":\"e63c9fbc-49de-4f22-8d73-5712c39dd839\",\"type\":\"Circle\"},\"selection_glyph\":null,\"view\":{\"id\":\"92f1098e-229d-4c6d-8a62-d3648682a031\",\"type\":\"CDSView\"}},\"id\":\"6009e7c5-9f5f-453f-9089-c005f6ba0de9\",\"type\":\"GlyphRenderer\"},{\"attributes\":{\"num_minor_ticks\":10},\"id\":\"68f86304-4b94-43d1-bb57-66c735af304e\",\"type\":\"LogTicker\"},{\"attributes\":{\"above\":[{\"id\":\"630b601f-c6ba-4423-9d09-e014d890dd47\",\"type\":\"Legend\"}],\"below\":[{\"id\":\"a0af5ef1-853a-4ace-a396-fca32231e431\",\"type\":\"LinearAxis\"}],\"left\":[{\"id\":\"8ed73ef6-499a-46f3-b8cc-86dc8c95fc84\",\"type\":\"LogAxis\"}],\"plot_width\":300,\"renderers\":[{\"id\":\"a0af5ef1-853a-4ace-a396-fca32231e431\",\"type\":\"LinearAxis\"},{\"id\":\"df8decba-8741-44d5-b30e-8b8f8f11469a\",\"type\":\"Grid\"},{\"id\":\"8ed73ef6-499a-46f3-b8cc-86dc8c95fc84\",\"type\":\"LogAxis\"},{\"id\":\"88a876f5-0b3d-40a3-ac7b-34d81b30f35a\",\"type\":\"Grid\"},{\"id\":\"96532931-3df0-4394-8732-24377f50411a\",\"type\":\"BoxAnnotation\"},{\"id\":\"14326f1c-bbc2-44b9-9239-42b4f0738ae4\",\"type\":\"GlyphRenderer\"},{\"id\":\"6009e7c5-9f5f-453f-9089-c005f6ba0de9\",\"type\":\"GlyphRenderer\"},{\"id\":\"f9cc912b-a094-47ca-ba54-abddc750d249\",\"type\":\"GlyphRenderer\"},{\"id\":\"630b601f-c6ba-4423-9d09-e014d890dd47\",\"type\":\"Legend\"}],\"title\":{\"id\":\"12cad95d-7f0e-4f7a-8a6f-f525dd39320d\",\"type\":\"Title\"},\"toolbar\":{\"id\":\"7c40ff9c-25d4-4ada-9efc-9942c184617f\",\"type\":\"Toolbar\"},\"toolbar_location\":null,\"x_range\":{\"id\":\"f03a55f1-ec4c-46c8-a73e-ad98322dbd1b\",\"type\":\"Range1d\"},\"x_scale\":{\"id\":\"f90cf378-690e-498a-b478-fddb93a22b99\",\"type\":\"LinearScale\"},\"y_range\":{\"id\":\"7e512a56-781b-4bdb-874b-5b33726b75d4\",\"type\":\"Range1d\"},\"y_scale\":{\"id\":\"dbe87ca7-1ccd-4cc8-9f7d-73a0dd5ea07d\",\"type\":\"LogScale\"}},\"id\":\"ac53969f-8650-4133-b986-f9cc4308a73f\",\"subtype\":\"Figure\",\"type\":\"Plot\"},{\"attributes\":{},\"id\":\"b5a8d317-9253-4dff-a96a-30e7b01dc3ad\",\"type\":\"SaveTool\"},{\"attributes\":{\"label\":{\"value\":\"CLIRAD (single-run)\"},\"renderers\":[{\"id\":\"defa7573-7710-467d-b004-5b4c4badd520\",\"type\":\"GlyphRenderer\"}]},\"id\":\"cc8d4b4a-6dd4-44e3-9b4a-5e160fbe2a5f\",\"type\":\"LegendItem\"},{\"attributes\":{\"callback\":null,\"data\":{\"x\":{\"__ndarray__\":\"R/KIaN7AVEClCeJMyPNGQOvRhpxr30JAptxzhxx4PkA7SssMElA4QK6Bp3CyUDNAsVXpjES9LkBFhUV0+5coQMHYwqbbySNA6f09nM3nH0CaSd/3eYoZQDmgiAOW8BNAPYqARh3eDEBkm4vCgvr+P9D+5tWhQfY/P8DwKRnSAkBq38kb17ILQDT7IWuSsxFAUr2Rjm0FFkAinq3s9XgbQGCHwtYcqSFAG64kT303J0C7dRDneyooQD9JYrbK8yRA9S3bneHhIUAIymSuUMMcQIkHLe6VEBdAAau3cITREkA6CiNvkQIPQJU39ki7IQlAaAvwok1UA0BXLQiS4+L7P0xzDpJ2hPI/NNuPGMbJ5z91mUVYxqfSPxqwUPSxZca/G11peifD3L8QzNj5t2jTvwzOozTL360/SPJ4VI1VzD9KJ0nXEIncP8yDdlvHt+4/Et49nYLW9z++2teD4Jn+P+568eH/bwFALf5D9lmAAkCiZAicVOkCQPPT4jNKxwJAOjp3wTzBAUBSQsKNGisBQG4OmjqJwQBAJ3sZoHFuAEA5Ar0Sdi0AQGy4rw5+9f8/7W4nSrC3/z8mPr8zj4T/P4UYRHCQS/8/embVKYcF/z+5YXG+LLP+P/qb8BVUgf4/KvafTtyO/j/avAK1Ppv+PwJV9VVm2P0/JFtYlU/n/D9sN+q2fiX6Pw44e41PNPc/Opt+Z/wN9T+x3vcSW1vzP9ofvWQJlvI/8sciQQBW8j80sfkQa17yPzg5qng2r/I/Oh14WJBh8z+VZjnpctj0P6CcrSuCqQBA\",\"dtype\":\"float64\",\"shape\":[75]},\"y\":{\"__ndarray__\":\"GhExyth1ND/Sv8nbtpRIP2vylNV0PVE/aTum7souWD/At0SJ8fVgPw3Iuahxymc/MSNhhJWvcD/bTfBN02d3P2zb5nxnaoA/CD5h5MAGhz8NmeH1TyaQP+zrCsc9p5Y/LbKd76fGnz/bLW5ISEmmPww9YvTcQq8/JV2OstnstT8Er5Y7M8G+P0c+r3jqkcU/5h99k6ZBzj88bCIzFzjVP4enV8oyxN0//yH99nXg5D8qOpLLf0jtP5kqGJXUifQ/c9cS8kHP/D+/DpwzojQEQIEmwoanVwxA4lgXt9HgE0BSSZ2AJuIbQAMJih9jjiNA5q4l5INuK0AwTKYKRj0zQNv5fmq8/DpAaCJseHrtQkB/+zpwzoxKQM3MzMzMeFJAZmZmZmZqWEAAAAAAAFxeQM3MzMzMJmJAmpmZmZkfZUBmZmZmZhhoQDMzMzMzEWtAAAAAAAAKbkBmZmZmZoFwQM3MzMzM/XFAMzMzMzN6c0CamZmZmfZ0QAAAAAAAc3ZAZmZmZmbvd0DNzMzMzGt5QDMzMzMz6HpAmpmZmZlkfEAAAAAAAOF9QGZmZmZmXX9AZmZmZuZsgECamZmZGSuBQM3MzMxM6YFAAAAAAICngkAzMzMzs2WDQGZmZmbmI4RAmpmZmRnihEDNzMzMTKCFQAAAAACAXoZAMzMzM7Mch0BmZmZm5tqHQJqZmZkZmYhAzczMzExXiUAAAAAAgBWKQDMzMzOz04pAZmZmZuaRi0CamZmZGVCMQM3MzMxMDo1AAAAAAIDMjUAzMzMzs4qOQGZmZmbmSI9A\",\"dtype\":\"float64\",\"shape\":[75]}},\"selected\":{\"id\":\"b56e35ff-0d43-4c84-8781-de66c8702b2c\",\"type\":\"Selection\"},\"selection_policy\":{\"id\":\"39f3de55-25e5-4691-947f-212047d567a2\",\"type\":\"UnionRenderers\"}},\"id\":\"a192ef75-82d5-48d0-b702-6e56b6eac30d\",\"type\":\"ColumnDataSource\"},{\"attributes\":{\"dimension\":1,\"plot\":{\"id\":\"ac53969f-8650-4133-b986-f9cc4308a73f\",\"subtype\":\"Figure\",\"type\":\"Plot\"},\"ticker\":{\"id\":\"68f86304-4b94-43d1-bb57-66c735af304e\",\"type\":\"LogTicker\"}},\"id\":\"88a876f5-0b3d-40a3-ac7b-34d81b30f35a\",\"type\":\"Grid\"},{\"attributes\":{},\"id\":\"6cd0473a-d964-4f1f-a87c-09394d0f3ab6\",\"type\":\"BasicTicker\"},{\"attributes\":{},\"id\":\"dbe87ca7-1ccd-4cc8-9f7d-73a0dd5ea07d\",\"type\":\"LogScale\"},{\"attributes\":{\"data_source\":{\"id\":\"7da8bdb0-bada-4c6e-ba82-d607eea29a86\",\"type\":\"ColumnDataSource\"},\"glyph\":{\"id\":\"1e69a959-2924-49a6-82fc-4649e8bbf95c\",\"type\":\"Line\"},\"hover_glyph\":null,\"muted_glyph\":null,\"nonselection_glyph\":{\"id\":\"f327070d-6555-4846-a83f-98bc746626c3\",\"type\":\"Line\"},\"selection_glyph\":null,\"view\":{\"id\":\"dc994bdb-0706-4c04-9649-87dba0e6dc29\",\"type\":\"CDSView\"}},\"id\":\"14326f1c-bbc2-44b9-9239-42b4f0738ae4\",\"type\":\"GlyphRenderer\"},{\"attributes\":{},\"id\":\"858a363f-2c54-48a4-88f8-2b86f9caa6c8\",\"type\":\"ResetTool\"},{\"attributes\":{\"bottom_units\":\"screen\",\"fill_alpha\":{\"value\":0.5},\"fill_color\":{\"value\":\"lightgrey\"},\"left_units\":\"screen\",\"level\":\"overlay\",\"line_alpha\":{\"value\":1.0},\"line_color\":{\"value\":\"black\"},\"line_dash\":[4,4],\"line_width\":{\"value\":2},\"plot\":null,\"render_mode\":\"css\",\"right_units\":\"screen\",\"top_units\":\"screen\"},\"id\":\"96532931-3df0-4394-8732-24377f50411a\",\"type\":\"BoxAnnotation\"},{\"attributes\":{\"plot\":{\"id\":\"ac53969f-8650-4133-b986-f9cc4308a73f\",\"subtype\":\"Figure\",\"type\":\"Plot\"},\"ticker\":{\"id\":\"6cd0473a-d964-4f1f-a87c-09394d0f3ab6\",\"type\":\"BasicTicker\"}},\"id\":\"df8decba-8741-44d5-b30e-8b8f8f11469a\",\"type\":\"Grid\"},{\"attributes\":{},\"id\":\"f90cf378-690e-498a-b478-fddb93a22b99\",\"type\":\"LinearScale\"},{\"attributes\":{\"callback\":null,\"data\":{\"x\":{\"__ndarray__\":\"hQDizhf+Q8C9K7VPP4cgwJ45ivCkvwLAPrgd1IsN/D+7olvZiCgOQMfUJ5JPyw5AuoTPxstSBEDfsAhjqs7mPyG2aQPjFui/skYKbTIs9b8pmp3aPUHxvycIBbz0t96/evs4oRCitj+B1IFWZZfdPxqZq9kgTuE/lkgHH1bO1j/w/UZOEheyP4s6Gj7pbdG/+wyRYP474b+smxPTmVbhv1avJCCRsdO/LsHmAh7iur/uITsdI6mhv0XyCaug5Mu/da5/Dt1Y17/0SZ1RPmu7v1IJJSPzfdQ/kf0YDzym1T+PyE3OmIe4P7jzyz26Y4k/NR64+Gpozj+4volZXD7UP0WpJ1BRZME/OGepDTb1q790Wc7i3Kyav5cLhRLWcaM/rtdtlD7jnL8aKsAueeCyv2Wpn2hd166/ar+6uSL5q79JzvJIH9auv/oMy14/yq+/pHIp76m9sb+lGi6utlOov4Vb7kFUgbC/MhV07Slyv79SUDv5Zz20v5Z+ZH9eqK6/a4fNmQ9Vtb+gYJ66nz+1v/WnYBCUlqy/VJbOBzizn78Ay7ktF52UvwWi9HOtN5a/sayJvugWnr+GXu8dPU6fv2mqpry+3I6/brMXGwRnjj+CthimMBumPyLtjj5Gdqw/6Cp6xg+spz/6H0XpR82XPwCoGcKZrhM/pA4f0Td7fb/obh9nEuRkP/aoiDn57Zk/0BtJk+X8qz9pu9nNcjOyPxw4oFwM4rI/yDVB3u/zsz86WCrHOQe1P7GEpHPfIbY/yHpoq4sluj+M7Z3fXC2+Pykcaqn2yL8/\",\"dtype\":\"float64\",\"shape\":[75]},\"y\":{\"__ndarray__\":\"GhExyth1ND/Sv8nbtpRIP2vylNV0PVE/aTum7souWD/At0SJ8fVgPw3Iuahxymc/MSNhhJWvcD/bTfBN02d3P2zb5nxnaoA/CD5h5MAGhz8NmeH1TyaQP+zrCsc9p5Y/LbKd76fGnz/bLW5ISEmmPww9YvTcQq8/JV2OstnstT8Er5Y7M8G+P0c+r3jqkcU/5h99k6ZBzj88bCIzFzjVP4enV8oyxN0//yH99nXg5D8qOpLLf0jtP5kqGJXUifQ/c9cS8kHP/D+/DpwzojQEQIEmwoanVwxA4lgXt9HgE0BSSZ2AJuIbQAMJih9jjiNA5q4l5INuK0AwTKYKRj0zQNv5fmq8/DpAaCJseHrtQkB/+zpwzoxKQM3MzMzMeFJAZmZmZmZqWEAAAAAAAFxeQM3MzMzMJmJAmpmZmZkfZUBmZmZmZhhoQDMzMzMzEWtAAAAAAAAKbkBmZmZmZoFwQM3MzMzM/XFAMzMzMzN6c0CamZmZmfZ0QAAAAAAAc3ZAZmZmZmbvd0DNzMzMzGt5QDMzMzMz6HpAmpmZmZlkfEAAAAAAAOF9QGZmZmZmXX9AZmZmZuZsgECamZmZGSuBQM3MzMxM6YFAAAAAAICngkAzMzMzs2WDQGZmZmbmI4RAmpmZmRnihEDNzMzMTKCFQAAAAACAXoZAMzMzM7Mch0BmZmZm5tqHQJqZmZkZmYhAzczMzExXiUAAAAAAgBWKQDMzMzOz04pAZmZmZuaRi0CamZmZGVCMQM3MzMxMDo1AAAAAAIDMjUAzMzMzs4qOQGZmZmbmSI9A\",\"dtype\":\"float64\",\"shape\":[75]}},\"selected\":{\"id\":\"e53c9ba4-9f9a-4551-b2ff-ccd7bc0effb3\",\"type\":\"Selection\"},\"selection_policy\":{\"id\":\"2812035d-75e7-4fc8-97aa-afed1df5e271\",\"type\":\"UnionRenderers\"}},\"id\":\"978e2477-fd90-4b1d-94ed-d2c1a748d606\",\"type\":\"ColumnDataSource\"},{\"attributes\":{},\"id\":\"e53c9ba4-9f9a-4551-b2ff-ccd7bc0effb3\",\"type\":\"Selection\"},{\"attributes\":{\"line_alpha\":0.1,\"line_color\":\"#1f77b4\",\"line_dash\":[6],\"line_width\":5,\"x\":{\"field\":\"x\"},\"y\":{\"field\":\"y\"}},\"id\":\"f327070d-6555-4846-a83f-98bc746626c3\",\"type\":\"Line\"},{\"attributes\":{},\"id\":\"1cb0192e-cfc7-4e4c-b40f-436bea726f9c\",\"type\":\"WheelZoomTool\"},{\"attributes\":{\"fill_alpha\":{\"value\":0.1},\"fill_color\":{\"value\":\"#1f77b4\"},\"line_alpha\":{\"value\":0.1},\"line_color\":{\"value\":\"#1f77b4\"},\"x\":{\"field\":\"x\"},\"y\":{\"field\":\"y\"}},\"id\":\"e63c9fbc-49de-4f22-8d73-5712c39dd839\",\"type\":\"Circle\"},{\"attributes\":{\"active_drag\":\"auto\",\"active_inspect\":\"auto\",\"active_scroll\":\"auto\",\"active_tap\":\"auto\",\"tools\":[{\"id\":\"1e7eb22e-51ae-4357-8f38-5b70204fcc8a\",\"type\":\"PanTool\"},{\"id\":\"1cb0192e-cfc7-4e4c-b40f-436bea726f9c\",\"type\":\"WheelZoomTool\"},{\"id\":\"8c6a8efb-dbcf-44e6-8775-ce2d171d71ca\",\"type\":\"BoxZoomTool\"},{\"id\":\"b5a8d317-9253-4dff-a96a-30e7b01dc3ad\",\"type\":\"SaveTool\"},{\"id\":\"858a363f-2c54-48a4-88f8-2b86f9caa6c8\",\"type\":\"ResetTool\"},{\"id\":\"58451c6f-ddb1-4ebe-8155-e313b0cd1ad4\",\"type\":\"HelpTool\"}]},\"id\":\"7c40ff9c-25d4-4ada-9efc-9942c184617f\",\"type\":\"Toolbar\"},{\"attributes\":{},\"id\":\"58451c6f-ddb1-4ebe-8155-e313b0cd1ad4\",\"type\":\"HelpTool\"},{\"attributes\":{\"tools\":[{\"id\":\"1bcde7c0-5820-4106-b1ee-2ade94010e6e\",\"type\":\"PanTool\"},{\"id\":\"3f17ad3c-b791-4fcb-9dad-2d12c53a90fa\",\"type\":\"WheelZoomTool\"},{\"id\":\"a3de1961-96c2-4e5b-be68-ac6c027a81a8\",\"type\":\"BoxZoomTool\"},{\"id\":\"e79fd0f7-07e8-462e-b132-b24d10899c0d\",\"type\":\"SaveTool\"},{\"id\":\"1e9911e4-cca7-4b8d-807d-daa225226a2c\",\"type\":\"ResetTool\"},{\"id\":\"690f0b28-a70e-4b6a-bbee-392fb0d38fe3\",\"type\":\"HelpTool\"},{\"id\":\"1e7eb22e-51ae-4357-8f38-5b70204fcc8a\",\"type\":\"PanTool\"},{\"id\":\"1cb0192e-cfc7-4e4c-b40f-436bea726f9c\",\"type\":\"WheelZoomTool\"},{\"id\":\"8c6a8efb-dbcf-44e6-8775-ce2d171d71ca\",\"type\":\"BoxZoomTool\"},{\"id\":\"b5a8d317-9253-4dff-a96a-30e7b01dc3ad\",\"type\":\"SaveTool\"},{\"id\":\"858a363f-2c54-48a4-88f8-2b86f9caa6c8\",\"type\":\"ResetTool\"},{\"id\":\"58451c6f-ddb1-4ebe-8155-e313b0cd1ad4\",\"type\":\"HelpTool\"},{\"id\":\"e220a852-15f3-4c33-ab9a-f44ae93dc668\",\"type\":\"PanTool\"},{\"id\":\"4e4a6ddb-ebd8-482f-b1a6-fc2ce7401862\",\"type\":\"WheelZoomTool\"},{\"id\":\"6e2bbd7e-66df-40b2-a5d3-cae76581a04c\",\"type\":\"BoxZoomTool\"},{\"id\":\"8ca6b8be-e848-486c-980a-791937b8210d\",\"type\":\"SaveTool\"},{\"id\":\"3bac5571-153c-4d2d-a16b-f0ec622dd5ac\",\"type\":\"ResetTool\"},{\"id\":\"f65ca1e1-5845-467e-ad33-3cf09bfe7bfe\",\"type\":\"HelpTool\"}]},\"id\":\"3e0b5a05-9895-456b-9546-26579a6a6472\",\"type\":\"ProxyToolbar\"},{\"attributes\":{\"source\":{\"id\":\"7da8bdb0-bada-4c6e-ba82-d607eea29a86\",\"type\":\"ColumnDataSource\"}},\"id\":\"dc994bdb-0706-4c04-9649-87dba0e6dc29\",\"type\":\"CDSView\"},{\"attributes\":{\"toolbar\":{\"id\":\"3e0b5a05-9895-456b-9546-26579a6a6472\",\"type\":\"ProxyToolbar\"},\"toolbar_location\":\"above\"},\"id\":\"07c30879-4c2d-498c-97d4-1bea3c8cdeab\",\"type\":\"ToolbarBox\"},{\"attributes\":{\"overlay\":{\"id\":\"96532931-3df0-4394-8732-24377f50411a\",\"type\":\"BoxAnnotation\"}},\"id\":\"8c6a8efb-dbcf-44e6-8775-ce2d171d71ca\",\"type\":\"BoxZoomTool\"},{\"attributes\":{\"fill_alpha\":{\"value\":0.7},\"fill_color\":{\"value\":\"#4daf4a\"},\"line_alpha\":{\"value\":0.7},\"line_color\":{\"value\":\"#4daf4a\"},\"x\":{\"field\":\"x\"},\"y\":{\"field\":\"y\"}},\"id\":\"6b0a12fe-dfe8-4a88-8fba-503824c58ef6\",\"type\":\"Circle\"},{\"attributes\":{\"callback\":null,\"end\":0.01,\"start\":1020},\"id\":\"887aae92-e9cd-4338-a1f9-d286db0ce28b\",\"type\":\"Range1d\"},{\"attributes\":{},\"id\":\"1b842d00-fe99-42d4-9360-ba5c71facec4\",\"type\":\"BasicTicker\"},{\"attributes\":{\"axis_label\":\"pressure [mb]\",\"formatter\":{\"id\":\"27ca1629-44e7-4849-98f2-81ddc809fb50\",\"type\":\"LogTickFormatter\"},\"plot\":{\"id\":\"ac53969f-8650-4133-b986-f9cc4308a73f\",\"subtype\":\"Figure\",\"type\":\"Plot\"},\"ticker\":{\"id\":\"68f86304-4b94-43d1-bb57-66c735af304e\",\"type\":\"LogTicker\"}},\"id\":\"8ed73ef6-499a-46f3-b8cc-86dc8c95fc84\",\"type\":\"LogAxis\"},{\"attributes\":{\"data_source\":{\"id\":\"a192ef75-82d5-48d0-b702-6e56b6eac30d\",\"type\":\"ColumnDataSource\"},\"glyph\":{\"id\":\"8e3e6c35-64f9-4216-a8b9-dfc968c1d910\",\"type\":\"Line\"},\"hover_glyph\":null,\"muted_glyph\":null,\"nonselection_glyph\":{\"id\":\"5a02b720-434e-4029-8699-16f9947aa05c\",\"type\":\"Line\"},\"selection_glyph\":null,\"view\":{\"id\":\"c21b005a-3b13-48e6-ac25-7dfa728b15c7\",\"type\":\"CDSView\"}},\"id\":\"f9cc912b-a094-47ca-ba54-abddc750d249\",\"type\":\"GlyphRenderer\"},{\"attributes\":{\"source\":{\"id\":\"7b3c2391-80ec-428c-97f5-87132b1e0db5\",\"type\":\"ColumnDataSource\"}},\"id\":\"558c4f7b-80b0-4535-beee-fe26228d018e\",\"type\":\"CDSView\"},{\"attributes\":{\"line_alpha\":0.1,\"line_color\":\"#1f77b4\",\"line_width\":1.5,\"x\":{\"field\":\"x\"},\"y\":{\"field\":\"y\"}},\"id\":\"5a02b720-434e-4029-8699-16f9947aa05c\",\"type\":\"Line\"},{\"attributes\":{\"children\":[{\"id\":\"07c30879-4c2d-498c-97d4-1bea3c8cdeab\",\"type\":\"ToolbarBox\"},{\"id\":\"cb66cd9f-578e-45bb-8606-4950ae37412e\",\"type\":\"Column\"}]},\"id\":\"5828d1f4-74ba-4927-8d16-8f50a7f7e9ea\",\"type\":\"Column\"},{\"attributes\":{},\"id\":\"c3bdf276-ebe6-4006-8e6f-c4540bff771b\",\"type\":\"Selection\"},{\"attributes\":{\"axis_label\":\"pressure [mb]\",\"formatter\":{\"id\":\"f3d803e6-90c6-49c2-89ef-e9c11cedc0fd\",\"type\":\"BasicTickFormatter\"},\"plot\":{\"id\":\"8993c70b-3025-4bae-9f0c-5575702d5651\",\"subtype\":\"Figure\",\"type\":\"Plot\"},\"ticker\":{\"id\":\"69356dc4-5f3b-4edf-bcec-715a468b0e32\",\"type\":\"BasicTicker\"}},\"id\":\"48825891-08f6-4ee9-81be-bb438939aa4f\",\"type\":\"LinearAxis\"},{\"attributes\":{},\"id\":\"7b43e8e2-db67-4935-927a-b2687c619ac4\",\"type\":\"UnionRenderers\"},{\"attributes\":{\"source\":{\"id\":\"879ff52a-a648-4e59-a0c2-9ceb38e308b1\",\"type\":\"ColumnDataSource\"}},\"id\":\"92f1098e-229d-4c6d-8a62-d3648682a031\",\"type\":\"CDSView\"},{\"attributes\":{\"line_color\":\"#4daf4a\",\"line_width\":1.5,\"x\":{\"field\":\"x\"},\"y\":{\"field\":\"y\"}},\"id\":\"8e3e6c35-64f9-4216-a8b9-dfc968c1d910\",\"type\":\"Line\"},{\"attributes\":{\"label\":{\"value\":\"CRD\"},\"renderers\":[{\"id\":\"6009e7c5-9f5f-453f-9089-c005f6ba0de9\",\"type\":\"GlyphRenderer\"},{\"id\":\"f9cc912b-a094-47ca-ba54-abddc750d249\",\"type\":\"GlyphRenderer\"}]},\"id\":\"85e688ad-585f-492a-a877-ac32a2979dd5\",\"type\":\"LegendItem\"},{\"attributes\":{\"items\":[{\"id\":\"9a6b5f73-187e-4a8a-8deb-892e92982249\",\"type\":\"LegendItem\"},{\"id\":\"85e688ad-585f-492a-a877-ac32a2979dd5\",\"type\":\"LegendItem\"}],\"label_text_font_size\":{\"value\":\"8pt\"},\"location\":\"top_center\",\"orientation\":\"horizontal\",\"plot\":{\"id\":\"ac53969f-8650-4133-b986-f9cc4308a73f\",\"subtype\":\"Figure\",\"type\":\"Plot\"}},\"id\":\"630b601f-c6ba-4423-9d09-e014d890dd47\",\"type\":\"Legend\"},{\"attributes\":{\"axis_label\":\"cooling rate [K/day]\",\"formatter\":{\"id\":\"2ca40cab-71a1-4127-9a1a-eeb0d91407cf\",\"type\":\"BasicTickFormatter\"},\"plot\":{\"id\":\"ac53969f-8650-4133-b986-f9cc4308a73f\",\"subtype\":\"Figure\",\"type\":\"Plot\"},\"ticker\":{\"id\":\"6cd0473a-d964-4f1f-a87c-09394d0f3ab6\",\"type\":\"BasicTicker\"}},\"id\":\"a0af5ef1-853a-4ace-a396-fca32231e431\",\"type\":\"LinearAxis\"},{\"attributes\":{\"label\":{\"value\":\"CRD\"},\"renderers\":[{\"id\":\"6a91f286-e432-4056-814f-df80512c5adc\",\"type\":\"GlyphRenderer\"},{\"id\":\"7366aae7-5d3e-4aa8-9366-9630d7d3401c\",\"type\":\"GlyphRenderer\"}]},\"id\":\"dab27a6b-308e-40e7-985c-a9c5e2c965f3\",\"type\":\"LegendItem\"},{\"attributes\":{},\"id\":\"1e7eb22e-51ae-4357-8f38-5b70204fcc8a\",\"type\":\"PanTool\"},{\"attributes\":{\"callback\":null,\"data\":{\"x\":{\"__ndarray__\":\"hQDizhf+Q8C9K7VPP4cgwJ45ivCkvwLAPrgd1IsN/D+7olvZiCgOQMfUJ5JPyw5AuoTPxstSBEDfsAhjqs7mPyG2aQPjFui/skYKbTIs9b8pmp3aPUHxvycIBbz0t96/evs4oRCitj+B1IFWZZfdPxqZq9kgTuE/lkgHH1bO1j/w/UZOEheyP4s6Gj7pbdG/+wyRYP474b+smxPTmVbhv1avJCCRsdO/LsHmAh7iur/uITsdI6mhv0XyCaug5Mu/da5/Dt1Y17/0SZ1RPmu7v1IJJSPzfdQ/kf0YDzym1T+PyE3OmIe4P7jzyz26Y4k/NR64+Gpozj+4volZXD7UP0WpJ1BRZME/OGepDTb1q790Wc7i3Kyav5cLhRLWcaM/rtdtlD7jnL8aKsAueeCyv2Wpn2hd166/ar+6uSL5q79JzvJIH9auv/oMy14/yq+/pHIp76m9sb+lGi6utlOov4Vb7kFUgbC/MhV07Slyv79SUDv5Zz20v5Z+ZH9eqK6/a4fNmQ9Vtb+gYJ66nz+1v/WnYBCUlqy/VJbOBzizn78Ay7ktF52UvwWi9HOtN5a/sayJvugWnr+GXu8dPU6fv2mqpry+3I6/brMXGwRnjj+CthimMBumPyLtjj5Gdqw/6Cp6xg+spz/6H0XpR82XPwCoGcKZrhM/pA4f0Td7fb/obh9nEuRkP/aoiDn57Zk/0BtJk+X8qz9pu9nNcjOyPxw4oFwM4rI/yDVB3u/zsz86WCrHOQe1P7GEpHPfIbY/yHpoq4sluj+M7Z3fXC2+Pykcaqn2yL8/\",\"dtype\":\"float64\",\"shape\":[75]},\"y\":{\"__ndarray__\":\"GhExyth1ND/Sv8nbtpRIP2vylNV0PVE/aTum7souWD/At0SJ8fVgPw3Iuahxymc/MSNhhJWvcD/bTfBN02d3P2zb5nxnaoA/CD5h5MAGhz8NmeH1TyaQP+zrCsc9p5Y/LbKd76fGnz/bLW5ISEmmPww9YvTcQq8/JV2OstnstT8Er5Y7M8G+P0c+r3jqkcU/5h99k6ZBzj88bCIzFzjVP4enV8oyxN0//yH99nXg5D8qOpLLf0jtP5kqGJXUifQ/c9cS8kHP/D+/DpwzojQEQIEmwoanVwxA4lgXt9HgE0BSSZ2AJuIbQAMJih9jjiNA5q4l5INuK0AwTKYKRj0zQNv5fmq8/DpAaCJseHrtQkB/+zpwzoxKQM3MzMzMeFJAZmZmZmZqWEAAAAAAAFxeQM3MzMzMJmJAmpmZmZkfZUBmZmZmZhhoQDMzMzMzEWtAAAAAAAAKbkBmZmZmZoFwQM3MzMzM/XFAMzMzMzN6c0CamZmZmfZ0QAAAAAAAc3ZAZmZmZmbvd0DNzMzMzGt5QDMzMzMz6HpAmpmZmZlkfEAAAAAAAOF9QGZmZmZmXX9AZmZmZuZsgECamZmZGSuBQM3MzMxM6YFAAAAAAICngkAzMzMzs2WDQGZmZmbmI4RAmpmZmRnihEDNzMzMTKCFQAAAAACAXoZAMzMzM7Mch0BmZmZm5tqHQJqZmZkZmYhAzczMzExXiUAAAAAAgBWKQDMzMzOz04pAZmZmZuaRi0CamZmZGVCMQM3MzMxMDo1AAAAAAIDMjUAzMzMzs4qOQGZmZmbmSI9A\",\"dtype\":\"float64\",\"shape\":[75]}},\"selected\":{\"id\":\"c3bdf276-ebe6-4006-8e6f-c4540bff771b\",\"type\":\"Selection\"},\"selection_policy\":{\"id\":\"7b43e8e2-db67-4935-927a-b2687c619ac4\",\"type\":\"UnionRenderers\"}},\"id\":\"015e6023-e506-4aff-af73-4ea025305c20\",\"type\":\"ColumnDataSource\"},{\"attributes\":{\"source\":{\"id\":\"e9e30646-ebc5-492b-9d6f-ce194c467edb\",\"type\":\"ColumnDataSource\"}},\"id\":\"339e699d-0747-4e03-a143-6db1205429e9\",\"type\":\"CDSView\"},{\"attributes\":{\"data_source\":{\"id\":\"e9e30646-ebc5-492b-9d6f-ce194c467edb\",\"type\":\"ColumnDataSource\"},\"glyph\":{\"id\":\"3f6336a1-e716-4835-92f0-07ed98fccccf\",\"type\":\"Line\"},\"hover_glyph\":null,\"muted_glyph\":null,\"nonselection_glyph\":{\"id\":\"58576240-87a7-467e-ac36-b611447e1df8\",\"type\":\"Line\"},\"selection_glyph\":null,\"view\":{\"id\":\"339e699d-0747-4e03-a143-6db1205429e9\",\"type\":\"CDSView\"}},\"id\":\"defa7573-7710-467d-b004-5b4c4badd520\",\"type\":\"GlyphRenderer\"},{\"attributes\":{\"line_alpha\":0.1,\"line_color\":\"#1f77b4\",\"line_dash\":[6],\"line_width\":5,\"x\":{\"field\":\"x\"},\"y\":{\"field\":\"y\"}},\"id\":\"58576240-87a7-467e-ac36-b611447e1df8\",\"type\":\"Line\"},{\"attributes\":{\"overlay\":{\"id\":\"e8193337-ddf5-4e7b-8662-e9ea4f0e16d0\",\"type\":\"BoxAnnotation\"}},\"id\":\"a3de1961-96c2-4e5b-be68-ac6c027a81a8\",\"type\":\"BoxZoomTool\"},{\"attributes\":{\"callback\":null,\"data\":{\"x\":{\"__ndarray__\":\"R/KIaN7AVEClCeJMyPNGQOvRhpxr30JAptxzhxx4PkA7SssMElA4QK6Bp3CyUDNAsVXpjES9LkBFhUV0+5coQMHYwqbbySNA6f09nM3nH0CaSd/3eYoZQDmgiAOW8BNAPYqARh3eDEBkm4vCgvr+P9D+5tWhQfY/P8DwKRnSAkBq38kb17ILQDT7IWuSsxFAUr2Rjm0FFkAinq3s9XgbQGCHwtYcqSFAG64kT303J0C7dRDneyooQD9JYrbK8yRA9S3bneHhIUAIymSuUMMcQIkHLe6VEBdAAau3cITREkA6CiNvkQIPQJU39ki7IQlAaAvwok1UA0BXLQiS4+L7P0xzDpJ2hPI/NNuPGMbJ5z91mUVYxqfSPxqwUPSxZca/G11peifD3L8QzNj5t2jTvwzOozTL360/SPJ4VI1VzD9KJ0nXEIncP8yDdlvHt+4/Et49nYLW9z++2teD4Jn+P+568eH/bwFALf5D9lmAAkCiZAicVOkCQPPT4jNKxwJAOjp3wTzBAUBSQsKNGisBQG4OmjqJwQBAJ3sZoHFuAEA5Ar0Sdi0AQGy4rw5+9f8/7W4nSrC3/z8mPr8zj4T/P4UYRHCQS/8/embVKYcF/z+5YXG+LLP+P/qb8BVUgf4/KvafTtyO/j/avAK1Ppv+PwJV9VVm2P0/JFtYlU/n/D9sN+q2fiX6Pw44e41PNPc/Opt+Z/wN9T+x3vcSW1vzP9ofvWQJlvI/8sciQQBW8j80sfkQa17yPzg5qng2r/I/Oh14WJBh8z+VZjnpctj0P6CcrSuCqQBA\",\"dtype\":\"float64\",\"shape\":[75]},\"y\":{\"__ndarray__\":\"GhExyth1ND/Sv8nbtpRIP2vylNV0PVE/aTum7souWD/At0SJ8fVgPw3Iuahxymc/MSNhhJWvcD/bTfBN02d3P2zb5nxnaoA/CD5h5MAGhz8NmeH1TyaQP+zrCsc9p5Y/LbKd76fGnz/bLW5ISEmmPww9YvTcQq8/JV2OstnstT8Er5Y7M8G+P0c+r3jqkcU/5h99k6ZBzj88bCIzFzjVP4enV8oyxN0//yH99nXg5D8qOpLLf0jtP5kqGJXUifQ/c9cS8kHP/D+/DpwzojQEQIEmwoanVwxA4lgXt9HgE0BSSZ2AJuIbQAMJih9jjiNA5q4l5INuK0AwTKYKRj0zQNv5fmq8/DpAaCJseHrtQkB/+zpwzoxKQM3MzMzMeFJAZmZmZmZqWEAAAAAAAFxeQM3MzMzMJmJAmpmZmZkfZUBmZmZmZhhoQDMzMzMzEWtAAAAAAAAKbkBmZmZmZoFwQM3MzMzM/XFAMzMzMzN6c0CamZmZmfZ0QAAAAAAAc3ZAZmZmZmbvd0DNzMzMzGt5QDMzMzMz6HpAmpmZmZlkfEAAAAAAAOF9QGZmZmZmXX9AZmZmZuZsgECamZmZGSuBQM3MzMxM6YFAAAAAAICngkAzMzMzs2WDQGZmZmbmI4RAmpmZmRnihEDNzMzMTKCFQAAAAACAXoZAMzMzM7Mch0BmZmZm5tqHQJqZmZkZmYhAzczMzExXiUAAAAAAgBWKQDMzMzOz04pAZmZmZuaRi0CamZmZGVCMQM3MzMxMDo1AAAAAAIDMjUAzMzMzs4qOQGZmZmbmSI9A\",\"dtype\":\"float64\",\"shape\":[75]}},\"selected\":{\"id\":\"1e2136b2-02df-4c1b-905d-141e3209f338\",\"type\":\"Selection\"},\"selection_policy\":{\"id\":\"673e8176-ea81-4ee7-add8-ae6fc1150502\",\"type\":\"UnionRenderers\"}},\"id\":\"7583d87c-b001-49b1-9abc-e9be85155a42\",\"type\":\"ColumnDataSource\"},{\"attributes\":{\"source\":{\"id\":\"978e2477-fd90-4b1d-94ed-d2c1a748d606\",\"type\":\"ColumnDataSource\"}},\"id\":\"8718fd95-f973-4cd5-8d6b-c35f5712b04a\",\"type\":\"CDSView\"},{\"attributes\":{\"fill_alpha\":{\"value\":0.1},\"fill_color\":{\"value\":\"#1f77b4\"},\"line_alpha\":{\"value\":0.1},\"line_color\":{\"value\":\"#1f77b4\"},\"x\":{\"field\":\"x\"},\"y\":{\"field\":\"y\"}},\"id\":\"c1bcee25-66c6-443a-a956-6953e9c7af54\",\"type\":\"Circle\"},{\"attributes\":{},\"id\":\"1bcde7c0-5820-4106-b1ee-2ade94010e6e\",\"type\":\"PanTool\"},{\"attributes\":{\"fill_alpha\":{\"value\":0.7},\"fill_color\":{\"value\":\"#4daf4a\"},\"line_alpha\":{\"value\":0.7},\"line_color\":{\"value\":\"#4daf4a\"},\"x\":{\"field\":\"x\"},\"y\":{\"field\":\"y\"}},\"id\":\"db58f618-731e-4c6a-a3f2-bf3463372a17\",\"type\":\"Circle\"},{\"attributes\":{},\"id\":\"1e9911e4-cca7-4b8d-807d-daa225226a2c\",\"type\":\"ResetTool\"},{\"attributes\":{},\"id\":\"e79fd0f7-07e8-462e-b132-b24d10899c0d\",\"type\":\"SaveTool\"},{\"attributes\":{},\"id\":\"3f17ad3c-b791-4fcb-9dad-2d12c53a90fa\",\"type\":\"WheelZoomTool\"},{\"attributes\":{\"dimension\":1,\"plot\":{\"id\":\"8993c70b-3025-4bae-9f0c-5575702d5651\",\"subtype\":\"Figure\",\"type\":\"Plot\"},\"ticker\":{\"id\":\"69356dc4-5f3b-4edf-bcec-715a468b0e32\",\"type\":\"BasicTicker\"}},\"id\":\"f6c8c1bc-2ff7-40ea-8fed-9835a60a60d5\",\"type\":\"Grid\"},{\"attributes\":{\"plot\":{\"id\":\"8538cf0d-b7be-4684-9543-7a1f7c86240f\",\"subtype\":\"Figure\",\"type\":\"Plot\"},\"ticker\":{\"id\":\"94e6c71e-4343-4d87-92b8-514e25b1a775\",\"type\":\"BasicTicker\"}},\"id\":\"edd2568a-15bb-499e-98fd-ae40da3cead4\",\"type\":\"Grid\"},{\"attributes\":{},\"id\":\"e220a852-15f3-4c33-ab9a-f44ae93dc668\",\"type\":\"PanTool\"},{\"attributes\":{\"items\":[{\"id\":\"72d90d55-1990-4347-8290-31eff490e9aa\",\"type\":\"LegendItem\"}],\"label_text_font_size\":{\"value\":\"8pt\"},\"location\":\"top_center\",\"orientation\":\"horizontal\",\"plot\":{\"id\":\"8538cf0d-b7be-4684-9543-7a1f7c86240f\",\"subtype\":\"Figure\",\"type\":\"Plot\"}},\"id\":\"fda8b3c3-e418-41ee-aff3-5059201f1eda\",\"type\":\"Legend\"},{\"attributes\":{\"axis_label\":\"cooling rate [K/day]\",\"formatter\":{\"id\":\"45001596-1731-49ee-91b7-429deff9a838\",\"type\":\"BasicTickFormatter\"},\"plot\":{\"id\":\"8538cf0d-b7be-4684-9543-7a1f7c86240f\",\"subtype\":\"Figure\",\"type\":\"Plot\"},\"ticker\":{\"id\":\"94e6c71e-4343-4d87-92b8-514e25b1a775\",\"type\":\"BasicTicker\"}},\"id\":\"a312ada6-b467-4fe6-8334-afed5cc86047\",\"type\":\"LinearAxis\"},{\"attributes\":{},\"id\":\"ed2cffe7-aa40-4887-bb31-53c94a5908e2\",\"type\":\"UnionRenderers\"},{\"attributes\":{\"line_alpha\":0.1,\"line_color\":\"#1f77b4\",\"line_width\":1.5,\"x\":{\"field\":\"x\"},\"y\":{\"field\":\"y\"}},\"id\":\"50667c52-e4ab-4ffa-b442-b55fe5675ddb\",\"type\":\"Line\"},{\"attributes\":{\"num_minor_ticks\":10},\"id\":\"a4078c64-c890-4f98-a627-ec9aacd4965f\",\"type\":\"LogTicker\"},{\"attributes\":{},\"id\":\"69356dc4-5f3b-4edf-bcec-715a468b0e32\",\"type\":\"BasicTicker\"},{\"attributes\":{\"callback\":null,\"end\":0.01,\"start\":1020},\"id\":\"7e512a56-781b-4bdb-874b-5b33726b75d4\",\"type\":\"Range1d\"},{\"attributes\":{\"fill_alpha\":{\"value\":0.1},\"fill_color\":{\"value\":\"#1f77b4\"},\"line_alpha\":{\"value\":0.1},\"line_color\":{\"value\":\"#1f77b4\"},\"x\":{\"field\":\"x\"},\"y\":{\"field\":\"y\"}},\"id\":\"8b806914-5eaa-47cf-9a16-39eb23c476f0\",\"type\":\"Circle\"},{\"attributes\":{\"active_drag\":\"auto\",\"active_inspect\":\"auto\",\"active_scroll\":\"auto\",\"active_tap\":\"auto\",\"tools\":[{\"id\":\"e220a852-15f3-4c33-ab9a-f44ae93dc668\",\"type\":\"PanTool\"},{\"id\":\"4e4a6ddb-ebd8-482f-b1a6-fc2ce7401862\",\"type\":\"WheelZoomTool\"},{\"id\":\"6e2bbd7e-66df-40b2-a5d3-cae76581a04c\",\"type\":\"BoxZoomTool\"},{\"id\":\"8ca6b8be-e848-486c-980a-791937b8210d\",\"type\":\"SaveTool\"},{\"id\":\"3bac5571-153c-4d2d-a16b-f0ec622dd5ac\",\"type\":\"ResetTool\"},{\"id\":\"f65ca1e1-5845-467e-ad33-3cf09bfe7bfe\",\"type\":\"HelpTool\"}]},\"id\":\"4a2b6267-7748-4bba-9494-9b6dab404a25\",\"type\":\"Toolbar\"},{\"attributes\":{\"label\":{\"value\":\"CLIRAD (single-run)\"},\"renderers\":[{\"id\":\"14326f1c-bbc2-44b9-9239-42b4f0738ae4\",\"type\":\"GlyphRenderer\"}]},\"id\":\"9a6b5f73-187e-4a8a-8deb-892e92982249\",\"type\":\"LegendItem\"},{\"attributes\":{},\"id\":\"4e4a6ddb-ebd8-482f-b1a6-fc2ce7401862\",\"type\":\"WheelZoomTool\"},{\"attributes\":{},\"id\":\"94e6c71e-4343-4d87-92b8-514e25b1a775\",\"type\":\"BasicTicker\"},{\"attributes\":{\"line_alpha\":0.6,\"line_color\":\"#377eb8\",\"line_dash\":[6],\"line_width\":5,\"x\":{\"field\":\"x\"},\"y\":{\"field\":\"y\"}},\"id\":\"3f6336a1-e716-4835-92f0-07ed98fccccf\",\"type\":\"Line\"},{\"attributes\":{\"bottom_units\":\"screen\",\"fill_alpha\":{\"value\":0.5},\"fill_color\":{\"value\":\"lightgrey\"},\"left_units\":\"screen\",\"level\":\"overlay\",\"line_alpha\":{\"value\":1.0},\"line_color\":{\"value\":\"black\"},\"line_dash\":[4,4],\"line_width\":{\"value\":2},\"plot\":null,\"render_mode\":\"css\",\"right_units\":\"screen\",\"top_units\":\"screen\"},\"id\":\"278d4922-8133-4327-8c43-ac0937f660b5\",\"type\":\"BoxAnnotation\"},{\"attributes\":{},\"id\":\"2725d646-c94d-4215-88d0-5617dedb4459\",\"type\":\"LogScale\"},{\"attributes\":{\"callback\":null,\"end\":0.01,\"start\":1020},\"id\":\"a1cd6d1c-220d-4d37-9a1e-7c39a0e8c223\",\"type\":\"Range1d\"},{\"attributes\":{\"fill_alpha\":{\"value\":0.7},\"fill_color\":{\"value\":\"#984ea3\"},\"line_alpha\":{\"value\":0.7},\"line_color\":{\"value\":\"#984ea3\"},\"x\":{\"field\":\"x\"},\"y\":{\"field\":\"y\"}},\"id\":\"87b1304c-1263-4402-8883-8b9bc14be504\",\"type\":\"Circle\"},{\"attributes\":{\"dimension\":1,\"plot\":{\"id\":\"8538cf0d-b7be-4684-9543-7a1f7c86240f\",\"subtype\":\"Figure\",\"type\":\"Plot\"},\"ticker\":{\"id\":\"a4078c64-c890-4f98-a627-ec9aacd4965f\",\"type\":\"LogTicker\"}},\"id\":\"02492b6b-ca23-44a4-9e23-7f7eb42a94d8\",\"type\":\"Grid\"},{\"attributes\":{\"callback\":null,\"end\":0.559427922866886,\"start\":-1.3419310516822867},\"id\":\"cb4cf200-4b3d-4265-8085-136360d8fb3c\",\"type\":\"Range1d\"},{\"attributes\":{\"callback\":null,\"end\":12.208582536163687,\"start\":-0.60322787097269},\"id\":\"f03a55f1-ec4c-46c8-a73e-ad98322dbd1b\",\"type\":\"Range1d\"},{\"attributes\":{\"line_color\":\"#4daf4a\",\"line_width\":1.5,\"x\":{\"field\":\"x\"},\"y\":{\"field\":\"y\"}},\"id\":\"b632a9f8-ac91-4a8e-b6cb-1ace1a0f5e51\",\"type\":\"Line\"},{\"attributes\":{\"axis_label\":\"cooling rate [K/day]\",\"formatter\":{\"id\":\"928e4d32-dcdf-4433-ad21-eb9e56c115a8\",\"type\":\"BasicTickFormatter\"},\"plot\":{\"id\":\"8993c70b-3025-4bae-9f0c-5575702d5651\",\"subtype\":\"Figure\",\"type\":\"Plot\"},\"ticker\":{\"id\":\"1b842d00-fe99-42d4-9360-ba5c71facec4\",\"type\":\"BasicTicker\"}},\"id\":\"5f416623-7ad1-43db-9364-f3d34b495b07\",\"type\":\"LinearAxis\"},{\"attributes\":{},\"id\":\"f65ca1e1-5845-467e-ad33-3cf09bfe7bfe\",\"type\":\"HelpTool\"},{\"attributes\":{\"callback\":null,\"data\":{\"x\":{\"__ndarray__\":\"DeQvAqWDRUC2vvR4+NFCQFEufk1xs0FAFdxaonocQECUvvYnIxU8QEd87GIcKjdAcZtOv/voMUBSEHYa5gQqQF49jHZtSCJAPWz7AMGcGkAR4zeBKjoVQLhPyLcWBRJAGlKKyy2TDUBDCBYMLjADQFzLvEKy6P4/UqnR7eOrBUBZFzyuj0MMQI1XQNeznBBAs5t/wu3dE0CsKkuyIk4ZQOVhwU2QCyFAmOAeE7kBJ0CaOvPD0hgoQHghtjM4hCRAgTBntRonIUDfVB61o1UcQB5YXyB1WBhA2zqpMegrFEB+eJU1zsYPQIgDNAMfOwlATI17UtQ6BUCCTjVUPXkAQHRoE7wAsfQ/wUS1t3IK5j/gsxiK+PzQPzJtr288icG/lzqwY1uR3r+X1ohF1iDYvwRse39G8l6/bUIKpkRXxT+BzSruTK7YP/zSiWUju+w/6UZL/qe69j/qaWbOQtf9PxII4j/16wBAhF3YpsiEAUAeij5caUcCQPlB5bmoTAJAAM6oRJQWAUBMT+2PHYEAQM6LWOouTwBA+t0JMAsvAECkjmHkOwQAQOTl31ifnP8/O0gtp1Q//z+tgEc/Vgf/PzHLyvLWDf8/4JULMlVC/z9tJ6JDBmT/P2IT5UcGZf8/gcfTzDxM/z9a0afUc/r+P2ddXBC12P0/FjyHXdTJ/D8jxx3A8C/6P7BaYXIHnPc/GeQYlOPt9T9oetU/kn70P1sjhyoqxPM/T9sGPz+V8z+4Vmyt3q7zP4OB5G9UEfQ/56QuE+kD9T9sRTO3SLv2P4Ht+ODJpwFA\",\"dtype\":\"float64\",\"shape\":[75]},\"y\":{\"__ndarray__\":\"GhExyth1ND/Sv8nbtpRIP2vylNV0PVE/aTum7souWD/At0SJ8fVgPw3Iuahxymc/MSNhhJWvcD/bTfBN02d3P2zb5nxnaoA/CD5h5MAGhz8NmeH1TyaQP+zrCsc9p5Y/LbKd76fGnz/bLW5ISEmmPww9YvTcQq8/JV2OstnstT8Er5Y7M8G+P0c+r3jqkcU/5h99k6ZBzj88bCIzFzjVP4enV8oyxN0//yH99nXg5D8qOpLLf0jtP5kqGJXUifQ/c9cS8kHP/D+/DpwzojQEQIEmwoanVwxA4lgXt9HgE0BSSZ2AJuIbQAMJih9jjiNA5q4l5INuK0AwTKYKRj0zQNv5fmq8/DpAaCJseHrtQkB/+zpwzoxKQM3MzMzMeFJAZmZmZmZqWEAAAAAAAFxeQM3MzMzMJmJAmpmZmZkfZUBmZmZmZhhoQDMzMzMzEWtAAAAAAAAKbkBmZmZmZoFwQM3MzMzM/XFAMzMzMzN6c0CamZmZmfZ0QAAAAAAAc3ZAZmZmZmbvd0DNzMzMzGt5QDMzMzMz6HpAmpmZmZlkfEAAAAAAAOF9QGZmZmZmXX9AZmZmZuZsgECamZmZGSuBQM3MzMxM6YFAAAAAAICngkAzMzMzs2WDQGZmZmbmI4RAmpmZmRnihEDNzMzMTKCFQAAAAACAXoZAMzMzM7Mch0BmZmZm5tqHQJqZmZkZmYhAzczMzExXiUAAAAAAgBWKQDMzMzOz04pAZmZmZuaRi0CamZmZGVCMQM3MzMxMDo1AAAAAAIDMjUAzMzMzs4qOQGZmZmbmSI9A\",\"dtype\":\"float64\",\"shape\":[75]}},\"selected\":{\"id\":\"8b2c570f-4f00-43ce-8a29-47a78d282326\",\"type\":\"Selection\"},\"selection_policy\":{\"id\":\"99a40752-76b6-4c36-ba43-4b0fbad9880f\",\"type\":\"UnionRenderers\"}},\"id\":\"e9e30646-ebc5-492b-9d6f-ce194c467edb\",\"type\":\"ColumnDataSource\"},{\"attributes\":{\"data_source\":{\"id\":\"978e2477-fd90-4b1d-94ed-d2c1a748d606\",\"type\":\"ColumnDataSource\"},\"glyph\":{\"id\":\"87b1304c-1263-4402-8883-8b9bc14be504\",\"type\":\"Circle\"},\"hover_glyph\":null,\"muted_glyph\":null,\"nonselection_glyph\":{\"id\":\"8b806914-5eaa-47cf-9a16-39eb23c476f0\",\"type\":\"Circle\"},\"selection_glyph\":null,\"view\":{\"id\":\"8718fd95-f973-4cd5-8d6b-c35f5712b04a\",\"type\":\"CDSView\"}},\"id\":\"8da6d9ce-29b8-4c49-b3a7-7a759e0e9468\",\"type\":\"GlyphRenderer\"},{\"attributes\":{},\"id\":\"3bac5571-153c-4d2d-a16b-f0ec622dd5ac\",\"type\":\"ResetTool\"},{\"attributes\":{},\"id\":\"8ca6b8be-e848-486c-980a-791937b8210d\",\"type\":\"SaveTool\"},{\"attributes\":{\"callback\":null,\"data\":{\"x\":{\"__ndarray__\":\"DeQvAqWDRUC2vvR4+NFCQFEufk1xs0FAFdxaonocQECUvvYnIxU8QEd87GIcKjdAcZtOv/voMUBSEHYa5gQqQF49jHZtSCJAPWz7AMGcGkAR4zeBKjoVQLhPyLcWBRJAGlKKyy2TDUBDCBYMLjADQFzLvEKy6P4/UqnR7eOrBUBZFzyuj0MMQI1XQNeznBBAs5t/wu3dE0CsKkuyIk4ZQOVhwU2QCyFAmOAeE7kBJ0CaOvPD0hgoQHghtjM4hCRAgTBntRonIUDfVB61o1UcQB5YXyB1WBhA2zqpMegrFEB+eJU1zsYPQIgDNAMfOwlATI17UtQ6BUCCTjVUPXkAQHRoE7wAsfQ/wUS1t3IK5j/gsxiK+PzQPzJtr288icG/lzqwY1uR3r+X1ohF1iDYvwRse39G8l6/bUIKpkRXxT+BzSruTK7YP/zSiWUju+w/6UZL/qe69j/qaWbOQtf9PxII4j/16wBAhF3YpsiEAUAeij5caUcCQPlB5bmoTAJAAM6oRJQWAUBMT+2PHYEAQM6LWOouTwBA+t0JMAsvAECkjmHkOwQAQOTl31ifnP8/O0gtp1Q//z+tgEc/Vgf/PzHLyvLWDf8/4JULMlVC/z9tJ6JDBmT/P2IT5UcGZf8/gcfTzDxM/z9a0afUc/r+P2ddXBC12P0/FjyHXdTJ/D8jxx3A8C/6P7BaYXIHnPc/GeQYlOPt9T9oetU/kn70P1sjhyoqxPM/T9sGPz+V8z+4Vmyt3q7zP4OB5G9UEfQ/56QuE+kD9T9sRTO3SLv2P4Ht+ODJpwFA\",\"dtype\":\"float64\",\"shape\":[75]},\"y\":{\"__ndarray__\":\"GhExyth1ND/Sv8nbtpRIP2vylNV0PVE/aTum7souWD/At0SJ8fVgPw3Iuahxymc/MSNhhJWvcD/bTfBN02d3P2zb5nxnaoA/CD5h5MAGhz8NmeH1TyaQP+zrCsc9p5Y/LbKd76fGnz/bLW5ISEmmPww9YvTcQq8/JV2OstnstT8Er5Y7M8G+P0c+r3jqkcU/5h99k6ZBzj88bCIzFzjVP4enV8oyxN0//yH99nXg5D8qOpLLf0jtP5kqGJXUifQ/c9cS8kHP/D+/DpwzojQEQIEmwoanVwxA4lgXt9HgE0BSSZ2AJuIbQAMJih9jjiNA5q4l5INuK0AwTKYKRj0zQNv5fmq8/DpAaCJseHrtQkB/+zpwzoxKQM3MzMzMeFJAZmZmZmZqWEAAAAAAAFxeQM3MzMzMJmJAmpmZmZkfZUBmZmZmZhhoQDMzMzMzEWtAAAAAAAAKbkBmZmZmZoFwQM3MzMzM/XFAMzMzMzN6c0CamZmZmfZ0QAAAAAAAc3ZAZmZmZmbvd0DNzMzMzGt5QDMzMzMz6HpAmpmZmZlkfEAAAAAAAOF9QGZmZmZmXX9AZmZmZuZsgECamZmZGSuBQM3MzMxM6YFAAAAAAICngkAzMzMzs2WDQGZmZmbmI4RAmpmZmRnihEDNzMzMTKCFQAAAAACAXoZAMzMzM7Mch0BmZmZm5tqHQJqZmZkZmYhAzczMzExXiUAAAAAAgBWKQDMzMzOz04pAZmZmZuaRi0CamZmZGVCMQM3MzMxMDo1AAAAAAIDMjUAzMzMzs4qOQGZmZmbmSI9A\",\"dtype\":\"float64\",\"shape\":[75]}},\"selected\":{\"id\":\"ea84a386-c5e0-49fc-a006-c6332c97508a\",\"type\":\"Selection\"},\"selection_policy\":{\"id\":\"c4299cd0-e23d-450d-82af-a4f34811b2a1\",\"type\":\"UnionRenderers\"}},\"id\":\"7da8bdb0-bada-4c6e-ba82-d607eea29a86\",\"type\":\"ColumnDataSource\"},{\"attributes\":{\"source\":{\"id\":\"a192ef75-82d5-48d0-b702-6e56b6eac30d\",\"type\":\"ColumnDataSource\"}},\"id\":\"c21b005a-3b13-48e6-ac25-7dfa728b15c7\",\"type\":\"CDSView\"},{\"attributes\":{\"axis_label\":\"pressure [mb]\",\"formatter\":{\"id\":\"cf1a951a-cadf-46ae-928e-c62d2b0d9bce\",\"type\":\"LogTickFormatter\"},\"plot\":{\"id\":\"8538cf0d-b7be-4684-9543-7a1f7c86240f\",\"subtype\":\"Figure\",\"type\":\"Plot\"},\"ticker\":{\"id\":\"a4078c64-c890-4f98-a627-ec9aacd4965f\",\"type\":\"LogTicker\"}},\"id\":\"1eb9509c-3963-4e2d-90cf-cd7f3e62ba3c\",\"type\":\"LogAxis\"},{\"attributes\":{\"line_alpha\":0.6,\"line_color\":\"#377eb8\",\"line_dash\":[6],\"line_width\":5,\"x\":{\"field\":\"x\"},\"y\":{\"field\":\"y\"}},\"id\":\"1e69a959-2924-49a6-82fc-4649e8bbf95c\",\"type\":\"Line\"},{\"attributes\":{\"overlay\":{\"id\":\"278d4922-8133-4327-8c43-ac0937f660b5\",\"type\":\"BoxAnnotation\"}},\"id\":\"6e2bbd7e-66df-40b2-a5d3-cae76581a04c\",\"type\":\"BoxZoomTool\"},{\"attributes\":{},\"id\":\"ea84a386-c5e0-49fc-a006-c6332c97508a\",\"type\":\"Selection\"},{\"attributes\":{\"callback\":null,\"data\":{\"x\":{\"__ndarray__\":\"R/KIaN7AVEClCeJMyPNGQOvRhpxr30JAptxzhxx4PkA7SssMElA4QK6Bp3CyUDNAsVXpjES9LkBFhUV0+5coQMHYwqbbySNA6f09nM3nH0CaSd/3eYoZQDmgiAOW8BNAPYqARh3eDEBkm4vCgvr+P9D+5tWhQfY/P8DwKRnSAkBq38kb17ILQDT7IWuSsxFAUr2Rjm0FFkAinq3s9XgbQGCHwtYcqSFAG64kT303J0C7dRDneyooQD9JYrbK8yRA9S3bneHhIUAIymSuUMMcQIkHLe6VEBdAAau3cITREkA6CiNvkQIPQJU39ki7IQlAaAvwok1UA0BXLQiS4+L7P0xzDpJ2hPI/NNuPGMbJ5z91mUVYxqfSPxqwUPSxZca/G11peifD3L8QzNj5t2jTvwzOozTL360/SPJ4VI1VzD9KJ0nXEIncP8yDdlvHt+4/Et49nYLW9z++2teD4Jn+P+568eH/bwFALf5D9lmAAkCiZAicVOkCQPPT4jNKxwJAOjp3wTzBAUBSQsKNGisBQG4OmjqJwQBAJ3sZoHFuAEA5Ar0Sdi0AQGy4rw5+9f8/7W4nSrC3/z8mPr8zj4T/P4UYRHCQS/8/embVKYcF/z+5YXG+LLP+P/qb8BVUgf4/KvafTtyO/j/avAK1Ppv+PwJV9VVm2P0/JFtYlU/n/D9sN+q2fiX6Pw44e41PNPc/Opt+Z/wN9T+x3vcSW1vzP9ofvWQJlvI/8sciQQBW8j80sfkQa17yPzg5qng2r/I/Oh14WJBh8z+VZjnpctj0P6CcrSuCqQBA\",\"dtype\":\"float64\",\"shape\":[75]},\"y\":{\"__ndarray__\":\"GhExyth1ND/Sv8nbtpRIP2vylNV0PVE/aTum7souWD/At0SJ8fVgPw3Iuahxymc/MSNhhJWvcD/bTfBN02d3P2zb5nxnaoA/CD5h5MAGhz8NmeH1TyaQP+zrCsc9p5Y/LbKd76fGnz/bLW5ISEmmPww9YvTcQq8/JV2OstnstT8Er5Y7M8G+P0c+r3jqkcU/5h99k6ZBzj88bCIzFzjVP4enV8oyxN0//yH99nXg5D8qOpLLf0jtP5kqGJXUifQ/c9cS8kHP/D+/DpwzojQEQIEmwoanVwxA4lgXt9HgE0BSSZ2AJuIbQAMJih9jjiNA5q4l5INuK0AwTKYKRj0zQNv5fmq8/DpAaCJseHrtQkB/+zpwzoxKQM3MzMzMeFJAZmZmZmZqWEAAAAAAAFxeQM3MzMzMJmJAmpmZmZkfZUBmZmZmZhhoQDMzMzMzEWtAAAAAAAAKbkBmZmZmZoFwQM3MzMzM/XFAMzMzMzN6c0CamZmZmfZ0QAAAAAAAc3ZAZmZmZmbvd0DNzMzMzGt5QDMzMzMz6HpAmpmZmZlkfEAAAAAAAOF9QGZmZmZmXX9AZmZmZuZsgECamZmZGSuBQM3MzMxM6YFAAAAAAICngkAzMzMzs2WDQGZmZmbmI4RAmpmZmRnihEDNzMzMTKCFQAAAAACAXoZAMzMzM7Mch0BmZmZm5tqHQJqZmZkZmYhAzczMzExXiUAAAAAAgBWKQDMzMzOz04pAZmZmZuaRi0CamZmZGVCMQM3MzMxMDo1AAAAAAIDMjUAzMzMzs4qOQGZmZmbmSI9A\",\"dtype\":\"float64\",\"shape\":[75]}},\"selected\":{\"id\":\"b17253b6-64a5-411c-bb28-3ad56c10fc4f\",\"type\":\"Selection\"},\"selection_policy\":{\"id\":\"3dd4842b-04e6-49fb-a3a6-0481053dc532\",\"type\":\"UnionRenderers\"}},\"id\":\"7b3c2391-80ec-428c-97f5-87132b1e0db5\",\"type\":\"ColumnDataSource\"},{\"attributes\":{},\"id\":\"a5bed7c9-b9af-47ed-b882-ef665709b556\",\"type\":\"LinearScale\"},{\"attributes\":{\"children\":[{\"id\":\"5e657bfa-049c-4282-847b-e8fee2e554c2\",\"type\":\"Row\"}]},\"id\":\"cb66cd9f-578e-45bb-8606-4950ae37412e\",\"type\":\"Column\"},{\"attributes\":{\"items\":[{\"id\":\"cc8d4b4a-6dd4-44e3-9b4a-5e160fbe2a5f\",\"type\":\"LegendItem\"},{\"id\":\"dab27a6b-308e-40e7-985c-a9c5e2c965f3\",\"type\":\"LegendItem\"}],\"label_text_font_size\":{\"value\":\"8pt\"},\"location\":\"top_center\",\"orientation\":\"horizontal\",\"plot\":{\"id\":\"8993c70b-3025-4bae-9f0c-5575702d5651\",\"subtype\":\"Figure\",\"type\":\"Plot\"}},\"id\":\"ee331c80-2121-44c7-9200-ab4da7650a2f\",\"type\":\"Legend\"},{\"attributes\":{},\"id\":\"c4299cd0-e23d-450d-82af-a4f34811b2a1\",\"type\":\"UnionRenderers\"},{\"attributes\":{\"data_source\":{\"id\":\"7b3c2391-80ec-428c-97f5-87132b1e0db5\",\"type\":\"ColumnDataSource\"},\"glyph\":{\"id\":\"b632a9f8-ac91-4a8e-b6cb-1ace1a0f5e51\",\"type\":\"Line\"},\"hover_glyph\":null,\"muted_glyph\":null,\"nonselection_glyph\":{\"id\":\"50667c52-e4ab-4ffa-b442-b55fe5675ddb\",\"type\":\"Line\"},\"selection_glyph\":null,\"view\":{\"id\":\"558c4f7b-80b0-4535-beee-fe26228d018e\",\"type\":\"CDSView\"}},\"id\":\"7366aae7-5d3e-4aa8-9366-9630d7d3401c\",\"type\":\"GlyphRenderer\"},{\"attributes\":{\"children\":[{\"id\":\"8993c70b-3025-4bae-9f0c-5575702d5651\",\"subtype\":\"Figure\",\"type\":\"Plot\"},{\"id\":\"ac53969f-8650-4133-b986-f9cc4308a73f\",\"subtype\":\"Figure\",\"type\":\"Plot\"},{\"id\":\"8538cf0d-b7be-4684-9543-7a1f7c86240f\",\"subtype\":\"Figure\",\"type\":\"Plot\"}]},\"id\":\"5e657bfa-049c-4282-847b-e8fee2e554c2\",\"type\":\"Row\"},{\"attributes\":{},\"id\":\"928e4d32-dcdf-4433-ad21-eb9e56c115a8\",\"type\":\"BasicTickFormatter\"},{\"attributes\":{\"data_source\":{\"id\":\"015e6023-e506-4aff-af73-4ea025305c20\",\"type\":\"ColumnDataSource\"},\"glyph\":{\"id\":\"5abc111c-9171-41bf-a187-b70142eba7a0\",\"type\":\"Line\"},\"hover_glyph\":null,\"muted_glyph\":null,\"nonselection_glyph\":{\"id\":\"766ccaaf-4116-4b54-b59e-31b7f87a3f6a\",\"type\":\"Line\"},\"selection_glyph\":null,\"view\":{\"id\":\"27a74af7-eab5-47ca-964d-918960fdd275\",\"type\":\"CDSView\"}},\"id\":\"74dae9c7-3cf8-4634-821a-2d65a85b78a4\",\"type\":\"GlyphRenderer\"},{\"attributes\":{},\"id\":\"99a40752-76b6-4c36-ba43-4b0fbad9880f\",\"type\":\"UnionRenderers\"},{\"attributes\":{},\"id\":\"39f3de55-25e5-4691-947f-212047d567a2\",\"type\":\"UnionRenderers\"},{\"attributes\":{},\"id\":\"8b2c570f-4f00-43ce-8a29-47a78d282326\",\"type\":\"Selection\"},{\"attributes\":{},\"id\":\"3928d965-a1fc-4207-8ac2-f593a73ff445\",\"type\":\"Selection\"},{\"attributes\":{\"plot\":null,\"text\":\"\"},\"id\":\"12cad95d-7f0e-4f7a-8a6f-f525dd39320d\",\"type\":\"Title\"},{\"attributes\":{\"above\":[{\"id\":\"fda8b3c3-e418-41ee-aff3-5059201f1eda\",\"type\":\"Legend\"}],\"below\":[{\"id\":\"a312ada6-b467-4fe6-8334-afed5cc86047\",\"type\":\"LinearAxis\"}],\"left\":[{\"id\":\"1eb9509c-3963-4e2d-90cf-cd7f3e62ba3c\",\"type\":\"LogAxis\"}],\"plot_width\":300,\"renderers\":[{\"id\":\"a312ada6-b467-4fe6-8334-afed5cc86047\",\"type\":\"LinearAxis\"},{\"id\":\"edd2568a-15bb-499e-98fd-ae40da3cead4\",\"type\":\"Grid\"},{\"id\":\"1eb9509c-3963-4e2d-90cf-cd7f3e62ba3c\",\"type\":\"LogAxis\"},{\"id\":\"02492b6b-ca23-44a4-9e23-7f7eb42a94d8\",\"type\":\"Grid\"},{\"id\":\"278d4922-8133-4327-8c43-ac0937f660b5\",\"type\":\"BoxAnnotation\"},{\"id\":\"8da6d9ce-29b8-4c49-b3a7-7a759e0e9468\",\"type\":\"GlyphRenderer\"},{\"id\":\"74dae9c7-3cf8-4634-821a-2d65a85b78a4\",\"type\":\"GlyphRenderer\"},{\"id\":\"fda8b3c3-e418-41ee-aff3-5059201f1eda\",\"type\":\"Legend\"}],\"title\":{\"id\":\"db7f9152-cbd7-4928-ba14-261de0f45ada\",\"type\":\"Title\"},\"toolbar\":{\"id\":\"4a2b6267-7748-4bba-9494-9b6dab404a25\",\"type\":\"Toolbar\"},\"toolbar_location\":null,\"x_range\":{\"id\":\"cb4cf200-4b3d-4265-8085-136360d8fb3c\",\"type\":\"Range1d\"},\"x_scale\":{\"id\":\"bdf90ed6-2f03-4e58-8d4c-ad288f02aae2\",\"type\":\"LinearScale\"},\"y_range\":{\"id\":\"887aae92-e9cd-4338-a1f9-d286db0ce28b\",\"type\":\"Range1d\"},\"y_scale\":{\"id\":\"2725d646-c94d-4215-88d0-5617dedb4459\",\"type\":\"LogScale\"}},\"id\":\"8538cf0d-b7be-4684-9543-7a1f7c86240f\",\"subtype\":\"Figure\",\"type\":\"Plot\"},{\"attributes\":{\"data_source\":{\"id\":\"7583d87c-b001-49b1-9abc-e9be85155a42\",\"type\":\"ColumnDataSource\"},\"glyph\":{\"id\":\"db58f618-731e-4c6a-a3f2-bf3463372a17\",\"type\":\"Circle\"},\"hover_glyph\":null,\"muted_glyph\":null,\"nonselection_glyph\":{\"id\":\"c1bcee25-66c6-443a-a956-6953e9c7af54\",\"type\":\"Circle\"},\"selection_glyph\":null,\"view\":{\"id\":\"46246539-4b13-4b3c-8d80-8ba2cb6d4e83\",\"type\":\"CDSView\"}},\"id\":\"6a91f286-e432-4056-814f-df80512c5adc\",\"type\":\"GlyphRenderer\"},{\"attributes\":{},\"id\":\"45001596-1731-49ee-91b7-429deff9a838\",\"type\":\"BasicTickFormatter\"},{\"attributes\":{\"callback\":null,\"end\":2.3923464390465905,\"start\":-0.50603741456559},\"id\":\"eb65c5ef-da4f-4e41-9db3-159bfc7b4daa\",\"type\":\"Range1d\"},{\"attributes\":{\"ticker\":null},\"id\":\"27ca1629-44e7-4849-98f2-81ddc809fb50\",\"type\":\"LogTickFormatter\"},{\"attributes\":{},\"id\":\"bdf90ed6-2f03-4e58-8d4c-ad288f02aae2\",\"type\":\"LinearScale\"},{\"attributes\":{\"source\":{\"id\":\"7583d87c-b001-49b1-9abc-e9be85155a42\",\"type\":\"ColumnDataSource\"}},\"id\":\"46246539-4b13-4b3c-8d80-8ba2cb6d4e83\",\"type\":\"CDSView\"},{\"attributes\":{},\"id\":\"c5fd4c6d-1b3f-4d34-b18e-0540097d5d82\",\"type\":\"LinearScale\"},{\"attributes\":{\"plot\":null,\"text\":\"\"},\"id\":\"db7f9152-cbd7-4928-ba14-261de0f45ada\",\"type\":\"Title\"},{\"attributes\":{},\"id\":\"f3d803e6-90c6-49c2-89ef-e9c11cedc0fd\",\"type\":\"BasicTickFormatter\"},{\"attributes\":{},\"id\":\"3dd4842b-04e6-49fb-a3a6-0481053dc532\",\"type\":\"UnionRenderers\"},{\"attributes\":{\"ticker\":null},\"id\":\"cf1a951a-cadf-46ae-928e-c62d2b0d9bce\",\"type\":\"LogTickFormatter\"},{\"attributes\":{\"plot\":{\"id\":\"8993c70b-3025-4bae-9f0c-5575702d5651\",\"subtype\":\"Figure\",\"type\":\"Plot\"},\"ticker\":{\"id\":\"1b842d00-fe99-42d4-9360-ba5c71facec4\",\"type\":\"BasicTicker\"}},\"id\":\"66d08d8c-b3eb-426f-b78d-6c3dc5f2c249\",\"type\":\"Grid\"},{\"attributes\":{},\"id\":\"b17253b6-64a5-411c-bb28-3ad56c10fc4f\",\"type\":\"Selection\"},{\"attributes\":{\"active_drag\":\"auto\",\"active_inspect\":\"auto\",\"active_scroll\":\"auto\",\"active_tap\":\"auto\",\"tools\":[{\"id\":\"1bcde7c0-5820-4106-b1ee-2ade94010e6e\",\"type\":\"PanTool\"},{\"id\":\"3f17ad3c-b791-4fcb-9dad-2d12c53a90fa\",\"type\":\"WheelZoomTool\"},{\"id\":\"a3de1961-96c2-4e5b-be68-ac6c027a81a8\",\"type\":\"BoxZoomTool\"},{\"id\":\"e79fd0f7-07e8-462e-b132-b24d10899c0d\",\"type\":\"SaveTool\"},{\"id\":\"1e9911e4-cca7-4b8d-807d-daa225226a2c\",\"type\":\"ResetTool\"},{\"id\":\"690f0b28-a70e-4b6a-bbee-392fb0d38fe3\",\"type\":\"HelpTool\"}]},\"id\":\"ad8d8b5b-767d-44d6-ba35-14458681ca7a\",\"type\":\"Toolbar\"},{\"attributes\":{\"label\":{\"value\":\"CLIRAD (single-run) - CRD\"},\"renderers\":[{\"id\":\"8da6d9ce-29b8-4c49-b3a7-7a759e0e9468\",\"type\":\"GlyphRenderer\"},{\"id\":\"74dae9c7-3cf8-4634-821a-2d65a85b78a4\",\"type\":\"GlyphRenderer\"}]},\"id\":\"72d90d55-1990-4347-8290-31eff490e9aa\",\"type\":\"LegendItem\"},{\"attributes\":{\"plot\":null,\"text\":\"\"},\"id\":\"f376b31b-9181-437e-ae24-e53abd38aae6\",\"type\":\"Title\"},{\"attributes\":{},\"id\":\"690f0b28-a70e-4b6a-bbee-392fb0d38fe3\",\"type\":\"HelpTool\"},{\"attributes\":{},\"id\":\"673e8176-ea81-4ee7-add8-ae6fc1150502\",\"type\":\"UnionRenderers\"},{\"attributes\":{\"bottom_units\":\"screen\",\"fill_alpha\":{\"value\":0.5},\"fill_color\":{\"value\":\"lightgrey\"},\"left_units\":\"screen\",\"level\":\"overlay\",\"line_alpha\":{\"value\":1.0},\"line_color\":{\"value\":\"black\"},\"line_dash\":[4,4],\"line_width\":{\"value\":2},\"plot\":null,\"render_mode\":\"css\",\"right_units\":\"screen\",\"top_units\":\"screen\"},\"id\":\"e8193337-ddf5-4e7b-8662-e9ea4f0e16d0\",\"type\":\"BoxAnnotation\"},{\"attributes\":{\"above\":[{\"id\":\"ee331c80-2121-44c7-9200-ab4da7650a2f\",\"type\":\"Legend\"}],\"below\":[{\"id\":\"5f416623-7ad1-43db-9364-f3d34b495b07\",\"type\":\"LinearAxis\"}],\"left\":[{\"id\":\"48825891-08f6-4ee9-81be-bb438939aa4f\",\"type\":\"LinearAxis\"}],\"plot_width\":300,\"renderers\":[{\"id\":\"5f416623-7ad1-43db-9364-f3d34b495b07\",\"type\":\"LinearAxis\"},{\"id\":\"66d08d8c-b3eb-426f-b78d-6c3dc5f2c249\",\"type\":\"Grid\"},{\"id\":\"48825891-08f6-4ee9-81be-bb438939aa4f\",\"type\":\"LinearAxis\"},{\"id\":\"f6c8c1bc-2ff7-40ea-8fed-9835a60a60d5\",\"type\":\"Grid\"},{\"id\":\"e8193337-ddf5-4e7b-8662-e9ea4f0e16d0\",\"type\":\"BoxAnnotation\"},{\"id\":\"defa7573-7710-467d-b004-5b4c4badd520\",\"type\":\"GlyphRenderer\"},{\"id\":\"6a91f286-e432-4056-814f-df80512c5adc\",\"type\":\"GlyphRenderer\"},{\"id\":\"7366aae7-5d3e-4aa8-9366-9630d7d3401c\",\"type\":\"GlyphRenderer\"},{\"id\":\"ee331c80-2121-44c7-9200-ab4da7650a2f\",\"type\":\"Legend\"}],\"title\":{\"id\":\"f376b31b-9181-437e-ae24-e53abd38aae6\",\"type\":\"Title\"},\"toolbar\":{\"id\":\"ad8d8b5b-767d-44d6-ba35-14458681ca7a\",\"type\":\"Toolbar\"},\"toolbar_location\":null,\"x_range\":{\"id\":\"eb65c5ef-da4f-4e41-9db3-159bfc7b4daa\",\"type\":\"Range1d\"},\"x_scale\":{\"id\":\"c5fd4c6d-1b3f-4d34-b18e-0540097d5d82\",\"type\":\"LinearScale\"},\"y_range\":{\"id\":\"a1cd6d1c-220d-4d37-9a1e-7c39a0e8c223\",\"type\":\"Range1d\"},\"y_scale\":{\"id\":\"a5bed7c9-b9af-47ed-b882-ef665709b556\",\"type\":\"LinearScale\"}},\"id\":\"8993c70b-3025-4bae-9f0c-5575702d5651\",\"subtype\":\"Figure\",\"type\":\"Plot\"},{\"attributes\":{\"line_alpha\":0.8,\"line_color\":\"#984ea3\",\"line_width\":1.5,\"x\":{\"field\":\"x\"},\"y\":{\"field\":\"y\"}},\"id\":\"5abc111c-9171-41bf-a187-b70142eba7a0\",\"type\":\"Line\"},{\"attributes\":{},\"id\":\"2ca40cab-71a1-4127-9a1a-eeb0d91407cf\",\"type\":\"BasicTickFormatter\"},{\"attributes\":{},\"id\":\"1e2136b2-02df-4c1b-905d-141e3209f338\",\"type\":\"Selection\"},{\"attributes\":{},\"id\":\"b56e35ff-0d43-4c84-8781-de66c8702b2c\",\"type\":\"Selection\"},{\"attributes\":{\"line_alpha\":0.1,\"line_color\":\"#1f77b4\",\"line_width\":1.5,\"x\":{\"field\":\"x\"},\"y\":{\"field\":\"y\"}},\"id\":\"766ccaaf-4116-4b54-b59e-31b7f87a3f6a\",\"type\":\"Line\"},{\"attributes\":{\"source\":{\"id\":\"015e6023-e506-4aff-af73-4ea025305c20\",\"type\":\"ColumnDataSource\"}},\"id\":\"27a74af7-eab5-47ca-964d-918960fdd275\",\"type\":\"CDSView\"},{\"attributes\":{},\"id\":\"2812035d-75e7-4fc8-97aa-afed1df5e271\",\"type\":\"UnionRenderers\"}],\"root_ids\":[\"5828d1f4-74ba-4927-8d16-8f50a7f7e9ea\"]},\"title\":\"Bokeh Application\",\"version\":\"0.12.16\"}};\n",
       "  var render_items = [{\"docid\":\"7d238958-a2fe-4703-9de4-2040f52a25a5\",\"elementid\":\"fce6c137-cf00-484a-8025-7a774fa51828\",\"modelid\":\"5828d1f4-74ba-4927-8d16-8f50a7f7e9ea\"}];\n",
       "  root.Bokeh.embed.embed_items_notebook(docs_json, render_items);\n",
       "\n",
       "  }\n",
       "  if (root.Bokeh !== undefined) {\n",
       "    embed_document(root);\n",
       "  } else {\n",
       "    var attempts = 0;\n",
       "    var timer = setInterval(function(root) {\n",
       "      if (root.Bokeh !== undefined) {\n",
       "        embed_document(root);\n",
       "        clearInterval(timer);\n",
       "      }\n",
       "      attempts++;\n",
       "      if (attempts > 100) {\n",
       "        console.log(\"Bokeh: ERROR: Unable to run BokehJS code because BokehJS library is missing\")\n",
       "        clearInterval(timer);\n",
       "      }\n",
       "    }, 10, root)\n",
       "  }\n",
       "})(window);"
      ],
      "application/vnd.bokehjs_exec.v0+json": ""
     },
     "metadata": {
      "application/vnd.bokehjs_exec.v0+json": {
       "id": "5828d1f4-74ba-4927-8d16-8f50a7f7e9ea"
      }
     },
     "output_type": "display_data"
    },
    {
     "data": {
      "text/markdown": [
       "*FIGURE.* Cooling rates & difference."
      ],
      "text/plain": [
       "<IPython.core.display.Markdown object>"
      ]
     },
     "metadata": {},
     "output_type": "display_data"
    },
    {
     "data": {
      "text/html": [
       "<a id=\"Fluxes._trp.\"></a>"
      ],
      "text/plain": [
       "<IPython.core.display.HTML object>"
      ]
     },
     "metadata": {},
     "output_type": "display_data"
    },
    {
     "data": {
      "text/markdown": [
       "# Fluxes. trp."
      ],
      "text/plain": [
       "<IPython.core.display.Markdown object>"
      ]
     },
     "metadata": {},
     "output_type": "display_data"
    },
    {
     "data": {
      "text/html": [
       "\n",
       "<div class=\"bk-root\">\n",
       "    <div class=\"bk-plotdiv\" id=\"114fedbc-cd0a-4d6f-8a92-968237d2e0c7\"></div>\n",
       "</div>"
      ]
     },
     "metadata": {},
     "output_type": "display_data"
    },
    {
     "data": {
      "application/javascript": [
       "(function(root) {\n",
       "  function embed_document(root) {\n",
       "    \n",
       "  var docs_json = {\"93b1bfaf-cf39-4fc4-81d8-a98910da3229\":{\"roots\":{\"references\":[{\"attributes\":{\"callback\":null,\"factors\":[\"1\",\"2\",\"3\",\"4\",\"5\",\"6\",\"7\",\"8\",\"9\",\"10\",\"11\"]},\"id\":\"53673281-5bdd-4972-9867-3711bac7ce4a\",\"type\":\"FactorRange\"},{\"attributes\":{},\"id\":\"4935d902-e0bd-4681-a900-01368a0ca795\",\"type\":\"BasicTickFormatter\"},{\"attributes\":{},\"id\":\"918d2d56-e1a9-464f-b211-b94913a35ea1\",\"type\":\"ResetTool\"},{\"attributes\":{},\"id\":\"62786c77-f300-4123-987b-e0a5795bf0d7\",\"type\":\"CategoricalTicker\"},{\"attributes\":{\"tools\":[{\"id\":\"346f92e3-53a5-4adf-a9fb-65816261aa89\",\"type\":\"PanTool\"},{\"id\":\"769e134f-f3e1-4f99-a8c4-ec74ed70722f\",\"type\":\"WheelZoomTool\"},{\"id\":\"6effd9b0-0412-4069-bd1e-5e4f2bbbe034\",\"type\":\"BoxZoomTool\"},{\"id\":\"5346cb4c-1faa-47c7-a490-97e8dc806d45\",\"type\":\"SaveTool\"},{\"id\":\"918d2d56-e1a9-464f-b211-b94913a35ea1\",\"type\":\"ResetTool\"},{\"id\":\"9dc02a66-893c-4cb5-a303-0d903828423e\",\"type\":\"HelpTool\"},{\"id\":\"2f978ebc-f513-4283-b0a9-07795e7c1d76\",\"type\":\"PanTool\"},{\"id\":\"1a63353d-4cbc-4464-9e74-ca47bad39eff\",\"type\":\"WheelZoomTool\"},{\"id\":\"444a72ce-e706-4acf-b60e-7db60d8132d3\",\"type\":\"BoxZoomTool\"},{\"id\":\"5f73617a-6918-40d7-ac55-a1f75d7d4d06\",\"type\":\"SaveTool\"},{\"id\":\"d4a08dfd-11d4-44c6-80f4-0d9432b502da\",\"type\":\"ResetTool\"},{\"id\":\"ec2ee4e0-daba-45c8-ba94-bcf9f3569ff2\",\"type\":\"HelpTool\"},{\"id\":\"baff4120-8683-4597-97c6-14baf7f8c5d8\",\"type\":\"PanTool\"},{\"id\":\"14ec27e7-8cdf-453f-a511-e440f78ea8ac\",\"type\":\"WheelZoomTool\"},{\"id\":\"d89575f8-11dc-4799-a033-9fe91089d56a\",\"type\":\"BoxZoomTool\"},{\"id\":\"c544201d-b9c1-43dc-8d21-4ef45f782c89\",\"type\":\"SaveTool\"},{\"id\":\"a293fa45-ada3-425f-8cd5-97982fa5e96f\",\"type\":\"ResetTool\"},{\"id\":\"2804d4be-eab8-4f30-b48c-cc67f806aafe\",\"type\":\"HelpTool\"}]},\"id\":\"3ce7722f-1c5c-4161-8737-1865cb3c6d70\",\"type\":\"ProxyToolbar\"},{\"attributes\":{},\"id\":\"7c92e873-9b3b-4689-86a0-ad705d5a815e\",\"type\":\"LinearScale\"},{\"attributes\":{},\"id\":\"769e134f-f3e1-4f99-a8c4-ec74ed70722f\",\"type\":\"WheelZoomTool\"},{\"attributes\":{\"axis_label\":\"flux (W m-2)\",\"formatter\":{\"id\":\"41606e8e-6734-4beb-8283-72deb979c213\",\"type\":\"BasicTickFormatter\"},\"plot\":{\"id\":\"44552aa7-d386-41ad-b43f-d9082ca1609b\",\"subtype\":\"Figure\",\"type\":\"Plot\"},\"ticker\":{\"id\":\"ead1aeb1-51af-451f-b8a6-a60a4edebeca\",\"type\":\"BasicTicker\"}},\"id\":\"2d823dbb-d061-4357-a4a1-5550fe4eaaa6\",\"type\":\"LinearAxis\"},{\"attributes\":{},\"id\":\"503616d2-341d-494c-954b-df894508a8ba\",\"type\":\"Selection\"},{\"attributes\":{\"bottom_units\":\"screen\",\"fill_alpha\":{\"value\":0.5},\"fill_color\":{\"value\":\"lightgrey\"},\"left_units\":\"screen\",\"level\":\"overlay\",\"line_alpha\":{\"value\":1.0},\"line_color\":{\"value\":\"black\"},\"line_dash\":[4,4],\"line_width\":{\"value\":2},\"plot\":null,\"render_mode\":\"css\",\"right_units\":\"screen\",\"top_units\":\"screen\"},\"id\":\"7ff6e522-05c5-4283-ac1c-90c173ee978b\",\"type\":\"BoxAnnotation\"},{\"attributes\":{},\"id\":\"5346cb4c-1faa-47c7-a490-97e8dc806d45\",\"type\":\"SaveTool\"},{\"attributes\":{},\"id\":\"2804d4be-eab8-4f30-b48c-cc67f806aafe\",\"type\":\"HelpTool\"},{\"attributes\":{\"plot\":null,\"text\":\"TOA flux. CLIRAD (single-run) - CRD.\"},\"id\":\"4678b3e2-c6f3-4b16-afe0-ac8788597243\",\"type\":\"Title\"},{\"attributes\":{},\"id\":\"ead1aeb1-51af-451f-b8a6-a60a4edebeca\",\"type\":\"BasicTicker\"},{\"attributes\":{\"source\":{\"id\":\"607cfa3f-2018-431b-8318-71cffe710faf\",\"type\":\"ColumnDataSource\"}},\"id\":\"5373b1f3-fa20-4720-9f63-2cd13bc448fb\",\"type\":\"CDSView\"},{\"attributes\":{\"plot\":null,\"text\":\"SFC flux. CLIRAD (single-run) - CRD.\"},\"id\":\"4001e97e-70cf-43bf-8d72-93c665e4bbcc\",\"type\":\"Title\"},{\"attributes\":{},\"id\":\"47dcb601-669b-4943-aa17-4cca3ae866a2\",\"type\":\"CategoricalScale\"},{\"attributes\":{},\"id\":\"41606e8e-6734-4beb-8283-72deb979c213\",\"type\":\"BasicTickFormatter\"},{\"attributes\":{\"axis_label\":\"flux (W m-2)\",\"formatter\":{\"id\":\"4935d902-e0bd-4681-a900-01368a0ca795\",\"type\":\"BasicTickFormatter\"},\"plot\":{\"id\":\"825b985f-f5ea-40d2-8f7b-c6d5da6646aa\",\"subtype\":\"Figure\",\"type\":\"Plot\"},\"ticker\":{\"id\":\"d7009344-0262-4d0b-a1c8-ec0133e78fad\",\"type\":\"BasicTicker\"}},\"id\":\"fb7a1cda-ea24-4ebc-bdd9-e142df7edb13\",\"type\":\"LinearAxis\"},{\"attributes\":{\"callback\":null},\"id\":\"8955f399-5dfd-45bd-8cd7-2ebb2dbe7808\",\"type\":\"DataRange1d\"},{\"attributes\":{\"axis_label\":\"spectral band\",\"formatter\":{\"id\":\"49b17647-461e-49b8-b2b1-56cf0f350332\",\"type\":\"CategoricalTickFormatter\"},\"plot\":{\"id\":\"825b985f-f5ea-40d2-8f7b-c6d5da6646aa\",\"subtype\":\"Figure\",\"type\":\"Plot\"},\"ticker\":{\"id\":\"52ac943e-f53a-4c53-a3ef-d8ec2e1174e5\",\"type\":\"CategoricalTicker\"}},\"id\":\"d297fffd-5c6c-46d4-9881-a78094ba38ea\",\"type\":\"CategoricalAxis\"},{\"attributes\":{\"callback\":null,\"data\":{\"band\":[\"1\",\"2\",\"3\",\"4\",\"5\",\"6\",\"7\",\"8\",\"9\",\"10\",\"11\"],\"flux\":{\"__ndarray__\":\"AID6S2L7yj8AhLZzzD+yPwDn9AapJbm/oFGioVYD4D9gJ6H0hZDSv4DY6Qd1kd+/gFDj3vyGxT8Atr3dkhzAv4DhOmtcJNC/wG+hI6BfwD/ARu3ZzlKpPw==\",\"dtype\":\"float64\",\"shape\":[11]}},\"selected\":{\"id\":\"85cd1043-e03e-4402-a113-8cd2a9234bcc\",\"type\":\"Selection\"},\"selection_policy\":{\"id\":\"7ae29c2a-1865-497d-9396-0938caa788ef\",\"type\":\"UnionRenderers\"}},\"id\":\"607cfa3f-2018-431b-8318-71cffe710faf\",\"type\":\"ColumnDataSource\"},{\"attributes\":{\"children\":[{\"id\":\"44552aa7-d386-41ad-b43f-d9082ca1609b\",\"subtype\":\"Figure\",\"type\":\"Plot\"},{\"id\":\"16933a4e-bc0a-4f67-a51f-6f7c0070b9a6\",\"subtype\":\"Figure\",\"type\":\"Plot\"},{\"id\":\"825b985f-f5ea-40d2-8f7b-c6d5da6646aa\",\"subtype\":\"Figure\",\"type\":\"Plot\"}]},\"id\":\"040df301-5736-4d97-9abb-7b36732ad9bc\",\"type\":\"Row\"},{\"attributes\":{},\"id\":\"9dc02a66-893c-4cb5-a303-0d903828423e\",\"type\":\"HelpTool\"},{\"attributes\":{\"fill_color\":{\"value\":\"#1f77b4\"},\"line_color\":{\"value\":\"#1f77b4\"},\"top\":{\"field\":\"flux\"},\"width\":{\"value\":0.9},\"x\":{\"field\":\"band\"}},\"id\":\"ee75037d-507c-4759-8da7-bf909b2ebb02\",\"type\":\"VBar\"},{\"attributes\":{},\"id\":\"c544201d-b9c1-43dc-8d21-4ef45f782c89\",\"type\":\"SaveTool\"},{\"attributes\":{\"below\":[{\"id\":\"8c2f4e18-93d4-4c8d-9724-13552f260b8b\",\"type\":\"CategoricalAxis\"}],\"left\":[{\"id\":\"d66bf2a2-0e9a-422a-af26-3da8cb0fd319\",\"type\":\"LinearAxis\"}],\"plot_height\":300,\"plot_width\":300,\"renderers\":[{\"id\":\"8c2f4e18-93d4-4c8d-9724-13552f260b8b\",\"type\":\"CategoricalAxis\"},{\"id\":\"04c930ca-fdca-472a-88e0-de850e195f1d\",\"type\":\"Grid\"},{\"id\":\"d66bf2a2-0e9a-422a-af26-3da8cb0fd319\",\"type\":\"LinearAxis\"},{\"id\":\"6e6bb386-313c-479c-9ad2-daab212ad5c9\",\"type\":\"Grid\"},{\"id\":\"4f55248a-ebe1-4630-89a5-3034b92d1e8e\",\"type\":\"BoxAnnotation\"},{\"id\":\"9c43a5d1-01f1-4775-bad6-1f17d159c66c\",\"type\":\"GlyphRenderer\"}],\"title\":{\"id\":\"4001e97e-70cf-43bf-8d72-93c665e4bbcc\",\"type\":\"Title\"},\"toolbar\":{\"id\":\"e74c849c-76b1-478f-a0b3-f06d6f756dd7\",\"type\":\"Toolbar\"},\"toolbar_location\":null,\"x_range\":{\"id\":\"01dc00fe-2a04-4baa-bf76-44ee4032457d\",\"type\":\"FactorRange\"},\"x_scale\":{\"id\":\"47dcb601-669b-4943-aa17-4cca3ae866a2\",\"type\":\"CategoricalScale\"},\"y_range\":{\"id\":\"e3661ce6-9dfe-41cd-bab6-7204df96adb3\",\"type\":\"DataRange1d\"},\"y_scale\":{\"id\":\"a628a4d5-3a45-4046-9bb3-8ad06bba27cc\",\"type\":\"LinearScale\"}},\"id\":\"16933a4e-bc0a-4f67-a51f-6f7c0070b9a6\",\"subtype\":\"Figure\",\"type\":\"Plot\"},{\"attributes\":{\"axis_label\":\"spectral band\",\"formatter\":{\"id\":\"385b4107-5473-47cd-aca3-67622caeba55\",\"type\":\"CategoricalTickFormatter\"},\"plot\":{\"id\":\"44552aa7-d386-41ad-b43f-d9082ca1609b\",\"subtype\":\"Figure\",\"type\":\"Plot\"},\"ticker\":{\"id\":\"62786c77-f300-4123-987b-e0a5795bf0d7\",\"type\":\"CategoricalTicker\"}},\"id\":\"1c468c3d-4f69-4193-a1b2-5c66e04a8148\",\"type\":\"CategoricalAxis\"},{\"attributes\":{\"fill_alpha\":{\"value\":0.1},\"fill_color\":{\"value\":\"#1f77b4\"},\"line_alpha\":{\"value\":0.1},\"line_color\":{\"value\":\"#1f77b4\"},\"top\":{\"field\":\"flux\"},\"width\":{\"value\":0.9},\"x\":{\"field\":\"band\"}},\"id\":\"b7b25510-4ee0-4039-96cb-fbb756c236b9\",\"type\":\"VBar\"},{\"attributes\":{},\"id\":\"7297cbcf-5af8-4ac0-8e61-fa09ccf1a2c5\",\"type\":\"LinearScale\"},{\"attributes\":{},\"id\":\"14ec27e7-8cdf-453f-a511-e440f78ea8ac\",\"type\":\"WheelZoomTool\"},{\"attributes\":{\"source\":{\"id\":\"c4353028-8f8c-4fe4-80c0-8a85828b8f7b\",\"type\":\"ColumnDataSource\"}},\"id\":\"21897511-46ef-4adf-b46a-d73758f1c17b\",\"type\":\"CDSView\"},{\"attributes\":{},\"id\":\"385b4107-5473-47cd-aca3-67622caeba55\",\"type\":\"CategoricalTickFormatter\"},{\"attributes\":{\"bottom_units\":\"screen\",\"fill_alpha\":{\"value\":0.5},\"fill_color\":{\"value\":\"lightgrey\"},\"left_units\":\"screen\",\"level\":\"overlay\",\"line_alpha\":{\"value\":1.0},\"line_color\":{\"value\":\"black\"},\"line_dash\":[4,4],\"line_width\":{\"value\":2},\"plot\":null,\"render_mode\":\"css\",\"right_units\":\"screen\",\"top_units\":\"screen\"},\"id\":\"9e246640-aa52-4bbd-84bf-831c6ce42690\",\"type\":\"BoxAnnotation\"},{\"attributes\":{\"fill_color\":{\"value\":\"#1f77b4\"},\"line_color\":{\"value\":\"#1f77b4\"},\"top\":{\"field\":\"flux\"},\"width\":{\"value\":0.9},\"x\":{\"field\":\"band\"}},\"id\":\"a12e6529-01e7-4a54-98ac-5eae125fa224\",\"type\":\"VBar\"},{\"attributes\":{},\"id\":\"49b17647-461e-49b8-b2b1-56cf0f350332\",\"type\":\"CategoricalTickFormatter\"},{\"attributes\":{},\"id\":\"ba41d51f-07cb-4ae9-af52-3c1f57b1de35\",\"type\":\"CategoricalScale\"},{\"attributes\":{\"below\":[{\"id\":\"d297fffd-5c6c-46d4-9881-a78094ba38ea\",\"type\":\"CategoricalAxis\"}],\"left\":[{\"id\":\"fb7a1cda-ea24-4ebc-bdd9-e142df7edb13\",\"type\":\"LinearAxis\"}],\"plot_height\":300,\"plot_width\":300,\"renderers\":[{\"id\":\"d297fffd-5c6c-46d4-9881-a78094ba38ea\",\"type\":\"CategoricalAxis\"},{\"id\":\"2c824750-560f-466d-a990-1e19cc92bb57\",\"type\":\"Grid\"},{\"id\":\"fb7a1cda-ea24-4ebc-bdd9-e142df7edb13\",\"type\":\"LinearAxis\"},{\"id\":\"8bc6c43c-f257-4618-9ff2-fe226be3dbaf\",\"type\":\"Grid\"},{\"id\":\"9e246640-aa52-4bbd-84bf-831c6ce42690\",\"type\":\"BoxAnnotation\"},{\"id\":\"5a6e7019-6b75-4ae5-bdbc-7ba3ac06ea29\",\"type\":\"GlyphRenderer\"}],\"title\":{\"id\":\"c4c8e874-91de-4077-ae67-7c5d6bfd3330\",\"type\":\"Title\"},\"toolbar\":{\"id\":\"6cb456e6-a424-492f-ba11-6fb6c0723ac1\",\"type\":\"Toolbar\"},\"toolbar_location\":null,\"x_range\":{\"id\":\"6ef52b1b-0c0b-45ca-b10d-c14bfbbfd73d\",\"type\":\"FactorRange\"},\"x_scale\":{\"id\":\"5dc5c39f-a96e-458b-bd07-5914f983a26d\",\"type\":\"CategoricalScale\"},\"y_range\":{\"id\":\"3f0fcd02-f42e-4a7f-8d45-4ccef23abef1\",\"type\":\"DataRange1d\"},\"y_scale\":{\"id\":\"7c92e873-9b3b-4689-86a0-ad705d5a815e\",\"type\":\"LinearScale\"}},\"id\":\"825b985f-f5ea-40d2-8f7b-c6d5da6646aa\",\"subtype\":\"Figure\",\"type\":\"Plot\"},{\"attributes\":{\"plot\":{\"id\":\"44552aa7-d386-41ad-b43f-d9082ca1609b\",\"subtype\":\"Figure\",\"type\":\"Plot\"},\"ticker\":{\"id\":\"62786c77-f300-4123-987b-e0a5795bf0d7\",\"type\":\"CategoricalTicker\"}},\"id\":\"7c3fe66a-b5b1-43b0-9576-bb339516de32\",\"type\":\"Grid\"},{\"attributes\":{},\"id\":\"85cd1043-e03e-4402-a113-8cd2a9234bcc\",\"type\":\"Selection\"},{\"attributes\":{\"axis_label\":\"spectral band\",\"formatter\":{\"id\":\"a39c206b-2dfa-4b2f-970e-9a7938be1965\",\"type\":\"CategoricalTickFormatter\"},\"plot\":{\"id\":\"16933a4e-bc0a-4f67-a51f-6f7c0070b9a6\",\"subtype\":\"Figure\",\"type\":\"Plot\"},\"ticker\":{\"id\":\"e5bba287-5035-4e40-9d41-1351ebbebff7\",\"type\":\"CategoricalTicker\"}},\"id\":\"8c2f4e18-93d4-4c8d-9724-13552f260b8b\",\"type\":\"CategoricalAxis\"},{\"attributes\":{\"active_drag\":\"auto\",\"active_inspect\":\"auto\",\"active_scroll\":\"auto\",\"active_tap\":\"auto\",\"tools\":[{\"id\":\"baff4120-8683-4597-97c6-14baf7f8c5d8\",\"type\":\"PanTool\"},{\"id\":\"14ec27e7-8cdf-453f-a511-e440f78ea8ac\",\"type\":\"WheelZoomTool\"},{\"id\":\"d89575f8-11dc-4799-a033-9fe91089d56a\",\"type\":\"BoxZoomTool\"},{\"id\":\"c544201d-b9c1-43dc-8d21-4ef45f782c89\",\"type\":\"SaveTool\"},{\"id\":\"a293fa45-ada3-425f-8cd5-97982fa5e96f\",\"type\":\"ResetTool\"},{\"id\":\"2804d4be-eab8-4f30-b48c-cc67f806aafe\",\"type\":\"HelpTool\"}]},\"id\":\"6cb456e6-a424-492f-ba11-6fb6c0723ac1\",\"type\":\"Toolbar\"},{\"attributes\":{},\"id\":\"7ae29c2a-1865-497d-9396-0938caa788ef\",\"type\":\"UnionRenderers\"},{\"attributes\":{\"overlay\":{\"id\":\"7ff6e522-05c5-4283-ac1c-90c173ee978b\",\"type\":\"BoxAnnotation\"}},\"id\":\"6effd9b0-0412-4069-bd1e-5e4f2bbbe034\",\"type\":\"BoxZoomTool\"},{\"attributes\":{\"below\":[{\"id\":\"1c468c3d-4f69-4193-a1b2-5c66e04a8148\",\"type\":\"CategoricalAxis\"}],\"left\":[{\"id\":\"2d823dbb-d061-4357-a4a1-5550fe4eaaa6\",\"type\":\"LinearAxis\"}],\"plot_height\":300,\"plot_width\":300,\"renderers\":[{\"id\":\"1c468c3d-4f69-4193-a1b2-5c66e04a8148\",\"type\":\"CategoricalAxis\"},{\"id\":\"7c3fe66a-b5b1-43b0-9576-bb339516de32\",\"type\":\"Grid\"},{\"id\":\"2d823dbb-d061-4357-a4a1-5550fe4eaaa6\",\"type\":\"LinearAxis\"},{\"id\":\"b0416bc4-5d3b-4196-8591-275ce21cd291\",\"type\":\"Grid\"},{\"id\":\"7ff6e522-05c5-4283-ac1c-90c173ee978b\",\"type\":\"BoxAnnotation\"},{\"id\":\"1ec40a92-2b7b-46b1-89e3-ae713487b30c\",\"type\":\"GlyphRenderer\"}],\"title\":{\"id\":\"4678b3e2-c6f3-4b16-afe0-ac8788597243\",\"type\":\"Title\"},\"toolbar\":{\"id\":\"fd280dc3-23ad-4033-a49c-3f3262dce7f7\",\"type\":\"Toolbar\"},\"toolbar_location\":null,\"x_range\":{\"id\":\"53673281-5bdd-4972-9867-3711bac7ce4a\",\"type\":\"FactorRange\"},\"x_scale\":{\"id\":\"ba41d51f-07cb-4ae9-af52-3c1f57b1de35\",\"type\":\"CategoricalScale\"},\"y_range\":{\"id\":\"8955f399-5dfd-45bd-8cd7-2ebb2dbe7808\",\"type\":\"DataRange1d\"},\"y_scale\":{\"id\":\"7297cbcf-5af8-4ac0-8e61-fa09ccf1a2c5\",\"type\":\"LinearScale\"}},\"id\":\"44552aa7-d386-41ad-b43f-d9082ca1609b\",\"subtype\":\"Figure\",\"type\":\"Plot\"},{\"attributes\":{\"data_source\":{\"id\":\"c4353028-8f8c-4fe4-80c0-8a85828b8f7b\",\"type\":\"ColumnDataSource\"},\"glyph\":{\"id\":\"a12e6529-01e7-4a54-98ac-5eae125fa224\",\"type\":\"VBar\"},\"hover_glyph\":null,\"muted_glyph\":null,\"nonselection_glyph\":{\"id\":\"1c1b28e8-420f-465a-9299-d367b3fc8084\",\"type\":\"VBar\"},\"selection_glyph\":null,\"view\":{\"id\":\"21897511-46ef-4adf-b46a-d73758f1c17b\",\"type\":\"CDSView\"}},\"id\":\"1ec40a92-2b7b-46b1-89e3-ae713487b30c\",\"type\":\"GlyphRenderer\"},{\"attributes\":{},\"id\":\"a39c206b-2dfa-4b2f-970e-9a7938be1965\",\"type\":\"CategoricalTickFormatter\"},{\"attributes\":{\"active_drag\":\"auto\",\"active_inspect\":\"auto\",\"active_scroll\":\"auto\",\"active_tap\":\"auto\",\"tools\":[{\"id\":\"346f92e3-53a5-4adf-a9fb-65816261aa89\",\"type\":\"PanTool\"},{\"id\":\"769e134f-f3e1-4f99-a8c4-ec74ed70722f\",\"type\":\"WheelZoomTool\"},{\"id\":\"6effd9b0-0412-4069-bd1e-5e4f2bbbe034\",\"type\":\"BoxZoomTool\"},{\"id\":\"5346cb4c-1faa-47c7-a490-97e8dc806d45\",\"type\":\"SaveTool\"},{\"id\":\"918d2d56-e1a9-464f-b211-b94913a35ea1\",\"type\":\"ResetTool\"},{\"id\":\"9dc02a66-893c-4cb5-a303-0d903828423e\",\"type\":\"HelpTool\"}]},\"id\":\"fd280dc3-23ad-4033-a49c-3f3262dce7f7\",\"type\":\"Toolbar\"},{\"attributes\":{\"callback\":null},\"id\":\"3f0fcd02-f42e-4a7f-8d45-4ccef23abef1\",\"type\":\"DataRange1d\"},{\"attributes\":{\"fill_alpha\":{\"value\":0.1},\"fill_color\":{\"value\":\"#1f77b4\"},\"line_alpha\":{\"value\":0.1},\"line_color\":{\"value\":\"#1f77b4\"},\"top\":{\"field\":\"flux\"},\"width\":{\"value\":0.9},\"x\":{\"field\":\"band\"}},\"id\":\"1c1b28e8-420f-465a-9299-d367b3fc8084\",\"type\":\"VBar\"},{\"attributes\":{\"callback\":null},\"id\":\"e3661ce6-9dfe-41cd-bab6-7204df96adb3\",\"type\":\"DataRange1d\"},{\"attributes\":{},\"id\":\"0f8f9c66-ebe5-428a-90d2-9394f5663210\",\"type\":\"Selection\"},{\"attributes\":{\"children\":[{\"id\":\"040df301-5736-4d97-9abb-7b36732ad9bc\",\"type\":\"Row\"}]},\"id\":\"9f8ff049-4c60-45ee-8142-e826fe5aa457\",\"type\":\"Column\"},{\"attributes\":{\"active_drag\":\"auto\",\"active_inspect\":\"auto\",\"active_scroll\":\"auto\",\"active_tap\":\"auto\",\"tools\":[{\"id\":\"2f978ebc-f513-4283-b0a9-07795e7c1d76\",\"type\":\"PanTool\"},{\"id\":\"1a63353d-4cbc-4464-9e74-ca47bad39eff\",\"type\":\"WheelZoomTool\"},{\"id\":\"444a72ce-e706-4acf-b60e-7db60d8132d3\",\"type\":\"BoxZoomTool\"},{\"id\":\"5f73617a-6918-40d7-ac55-a1f75d7d4d06\",\"type\":\"SaveTool\"},{\"id\":\"d4a08dfd-11d4-44c6-80f4-0d9432b502da\",\"type\":\"ResetTool\"},{\"id\":\"ec2ee4e0-daba-45c8-ba94-bcf9f3569ff2\",\"type\":\"HelpTool\"}]},\"id\":\"e74c849c-76b1-478f-a0b3-f06d6f756dd7\",\"type\":\"Toolbar\"},{\"attributes\":{},\"id\":\"baff4120-8683-4597-97c6-14baf7f8c5d8\",\"type\":\"PanTool\"},{\"attributes\":{\"children\":[{\"id\":\"00085b3c-3b80-4c8f-9a87-b1de22b3e7b4\",\"type\":\"ToolbarBox\"},{\"id\":\"9f8ff049-4c60-45ee-8142-e826fe5aa457\",\"type\":\"Column\"}]},\"id\":\"e194c503-2059-41a3-bb56-0b891850af1e\",\"type\":\"Column\"},{\"attributes\":{},\"id\":\"52ac943e-f53a-4c53-a3ef-d8ec2e1174e5\",\"type\":\"CategoricalTicker\"},{\"attributes\":{\"dimension\":1,\"plot\":{\"id\":\"44552aa7-d386-41ad-b43f-d9082ca1609b\",\"subtype\":\"Figure\",\"type\":\"Plot\"},\"ticker\":{\"id\":\"ead1aeb1-51af-451f-b8a6-a60a4edebeca\",\"type\":\"BasicTicker\"}},\"id\":\"b0416bc4-5d3b-4196-8591-275ce21cd291\",\"type\":\"Grid\"},{\"attributes\":{},\"id\":\"5dc5c39f-a96e-458b-bd07-5914f983a26d\",\"type\":\"CategoricalScale\"},{\"attributes\":{\"callback\":null,\"data\":{\"band\":[\"1\",\"2\",\"3\",\"4\",\"5\",\"6\",\"7\",\"8\",\"9\",\"10\",\"11\"],\"flux\":{\"__ndarray__\":\"AMHG9e/6yj8ARFVMpZ/UP4B4l4v4TtO/8GLvxRft4T/AUBVT6SfUPwBIcOoDyaO/gHhF8L+Vzj8AbToCuFm8vwDADTFe85o/4PGprSLtwT+A2YcGcwW9Pw==\",\"dtype\":\"float64\",\"shape\":[11]}},\"selected\":{\"id\":\"503616d2-341d-494c-954b-df894508a8ba\",\"type\":\"Selection\"},\"selection_policy\":{\"id\":\"1765d03c-4997-49bc-a514-9e15088d2bec\",\"type\":\"UnionRenderers\"}},\"id\":\"c4353028-8f8c-4fe4-80c0-8a85828b8f7b\",\"type\":\"ColumnDataSource\"},{\"attributes\":{},\"id\":\"1765d03c-4997-49bc-a514-9e15088d2bec\",\"type\":\"UnionRenderers\"},{\"attributes\":{},\"id\":\"346f92e3-53a5-4adf-a9fb-65816261aa89\",\"type\":\"PanTool\"},{\"attributes\":{},\"id\":\"a293fa45-ada3-425f-8cd5-97982fa5e96f\",\"type\":\"ResetTool\"},{\"attributes\":{\"overlay\":{\"id\":\"9e246640-aa52-4bbd-84bf-831c6ce42690\",\"type\":\"BoxAnnotation\"}},\"id\":\"d89575f8-11dc-4799-a033-9fe91089d56a\",\"type\":\"BoxZoomTool\"},{\"attributes\":{},\"id\":\"d7009344-0262-4d0b-a1c8-ec0133e78fad\",\"type\":\"BasicTicker\"},{\"attributes\":{\"callback\":null,\"factors\":[\"1\",\"2\",\"3\",\"4\",\"5\",\"6\",\"7\",\"8\",\"9\",\"10\",\"11\"]},\"id\":\"01dc00fe-2a04-4baa-bf76-44ee4032457d\",\"type\":\"FactorRange\"},{\"attributes\":{\"plot\":{\"id\":\"825b985f-f5ea-40d2-8f7b-c6d5da6646aa\",\"subtype\":\"Figure\",\"type\":\"Plot\"},\"ticker\":{\"id\":\"52ac943e-f53a-4c53-a3ef-d8ec2e1174e5\",\"type\":\"CategoricalTicker\"}},\"id\":\"2c824750-560f-466d-a990-1e19cc92bb57\",\"type\":\"Grid\"},{\"attributes\":{\"callback\":null,\"factors\":[\"1\",\"2\",\"3\",\"4\",\"5\",\"6\",\"7\",\"8\",\"9\",\"10\",\"11\"]},\"id\":\"6ef52b1b-0c0b-45ca-b10d-c14bfbbfd73d\",\"type\":\"FactorRange\"},{\"attributes\":{\"data_source\":{\"id\":\"607cfa3f-2018-431b-8318-71cffe710faf\",\"type\":\"ColumnDataSource\"},\"glyph\":{\"id\":\"2d0fc0e0-54d8-45e3-94b5-dd8617672f4d\",\"type\":\"VBar\"},\"hover_glyph\":null,\"muted_glyph\":null,\"nonselection_glyph\":{\"id\":\"b7b25510-4ee0-4039-96cb-fbb756c236b9\",\"type\":\"VBar\"},\"selection_glyph\":null,\"view\":{\"id\":\"5373b1f3-fa20-4720-9f63-2cd13bc448fb\",\"type\":\"CDSView\"}},\"id\":\"5a6e7019-6b75-4ae5-bdbc-7ba3ac06ea29\",\"type\":\"GlyphRenderer\"},{\"attributes\":{\"dimension\":1,\"plot\":{\"id\":\"825b985f-f5ea-40d2-8f7b-c6d5da6646aa\",\"subtype\":\"Figure\",\"type\":\"Plot\"},\"ticker\":{\"id\":\"d7009344-0262-4d0b-a1c8-ec0133e78fad\",\"type\":\"BasicTicker\"}},\"id\":\"8bc6c43c-f257-4618-9ff2-fe226be3dbaf\",\"type\":\"Grid\"},{\"attributes\":{\"toolbar\":{\"id\":\"3ce7722f-1c5c-4161-8737-1865cb3c6d70\",\"type\":\"ProxyToolbar\"},\"toolbar_location\":\"above\"},\"id\":\"00085b3c-3b80-4c8f-9a87-b1de22b3e7b4\",\"type\":\"ToolbarBox\"},{\"attributes\":{\"bottom_units\":\"screen\",\"fill_alpha\":{\"value\":0.5},\"fill_color\":{\"value\":\"lightgrey\"},\"left_units\":\"screen\",\"level\":\"overlay\",\"line_alpha\":{\"value\":1.0},\"line_color\":{\"value\":\"black\"},\"line_dash\":[4,4],\"line_width\":{\"value\":2},\"plot\":null,\"render_mode\":\"css\",\"right_units\":\"screen\",\"top_units\":\"screen\"},\"id\":\"4f55248a-ebe1-4630-89a5-3034b92d1e8e\",\"type\":\"BoxAnnotation\"},{\"attributes\":{},\"id\":\"a628a4d5-3a45-4046-9bb3-8ad06bba27cc\",\"type\":\"LinearScale\"},{\"attributes\":{\"data_source\":{\"id\":\"d33ce58b-609d-4a2b-991d-67a517cd9298\",\"type\":\"ColumnDataSource\"},\"glyph\":{\"id\":\"ee75037d-507c-4759-8da7-bf909b2ebb02\",\"type\":\"VBar\"},\"hover_glyph\":null,\"muted_glyph\":null,\"nonselection_glyph\":{\"id\":\"54264d0c-684b-4e53-8ecb-8fe96d5f3361\",\"type\":\"VBar\"},\"selection_glyph\":null,\"view\":{\"id\":\"812297f9-9848-4a7c-b907-06ac376b0f33\",\"type\":\"CDSView\"}},\"id\":\"9c43a5d1-01f1-4775-bad6-1f17d159c66c\",\"type\":\"GlyphRenderer\"},{\"attributes\":{},\"id\":\"1a63353d-4cbc-4464-9e74-ca47bad39eff\",\"type\":\"WheelZoomTool\"},{\"attributes\":{\"plot\":{\"id\":\"16933a4e-bc0a-4f67-a51f-6f7c0070b9a6\",\"subtype\":\"Figure\",\"type\":\"Plot\"},\"ticker\":{\"id\":\"e5bba287-5035-4e40-9d41-1351ebbebff7\",\"type\":\"CategoricalTicker\"}},\"id\":\"04c930ca-fdca-472a-88e0-de850e195f1d\",\"type\":\"Grid\"},{\"attributes\":{\"axis_label\":\"flux (W m-2)\",\"formatter\":{\"id\":\"18cb1d2a-51b8-46f4-bb78-dfecbe2fa9b8\",\"type\":\"BasicTickFormatter\"},\"plot\":{\"id\":\"16933a4e-bc0a-4f67-a51f-6f7c0070b9a6\",\"subtype\":\"Figure\",\"type\":\"Plot\"},\"ticker\":{\"id\":\"14cb00c9-54ef-4c16-a0ac-bba9fcaf5dbf\",\"type\":\"BasicTicker\"}},\"id\":\"d66bf2a2-0e9a-422a-af26-3da8cb0fd319\",\"type\":\"LinearAxis\"},{\"attributes\":{},\"id\":\"ec2ee4e0-daba-45c8-ba94-bcf9f3569ff2\",\"type\":\"HelpTool\"},{\"attributes\":{\"callback\":null,\"data\":{\"band\":[\"1\",\"2\",\"3\",\"4\",\"5\",\"6\",\"7\",\"8\",\"9\",\"10\",\"11\"],\"flux\":{\"__ndarray__\":\"AADADkbs874Ak+S5vg/QPwAq5Eo9C8q/AHSERUWcrj8AMLq8OVzjP+DPm4pUGN0/wORV52Idsj8AQGTbs/iOPwD/I9Oh09E/AFDtmpDWiD8Asw6iEFywPw==\",\"dtype\":\"float64\",\"shape\":[11]}},\"selected\":{\"id\":\"0f8f9c66-ebe5-428a-90d2-9394f5663210\",\"type\":\"Selection\"},\"selection_policy\":{\"id\":\"43840ed3-93eb-4351-8129-babc6eb3ae82\",\"type\":\"UnionRenderers\"}},\"id\":\"d33ce58b-609d-4a2b-991d-67a517cd9298\",\"type\":\"ColumnDataSource\"},{\"attributes\":{},\"id\":\"e5bba287-5035-4e40-9d41-1351ebbebff7\",\"type\":\"CategoricalTicker\"},{\"attributes\":{},\"id\":\"5f73617a-6918-40d7-ac55-a1f75d7d4d06\",\"type\":\"SaveTool\"},{\"attributes\":{\"fill_alpha\":{\"value\":0.1},\"fill_color\":{\"value\":\"#1f77b4\"},\"line_alpha\":{\"value\":0.1},\"line_color\":{\"value\":\"#1f77b4\"},\"top\":{\"field\":\"flux\"},\"width\":{\"value\":0.9},\"x\":{\"field\":\"band\"}},\"id\":\"54264d0c-684b-4e53-8ecb-8fe96d5f3361\",\"type\":\"VBar\"},{\"attributes\":{\"source\":{\"id\":\"d33ce58b-609d-4a2b-991d-67a517cd9298\",\"type\":\"ColumnDataSource\"}},\"id\":\"812297f9-9848-4a7c-b907-06ac376b0f33\",\"type\":\"CDSView\"},{\"attributes\":{\"fill_color\":{\"value\":\"#1f77b4\"},\"line_color\":{\"value\":\"#1f77b4\"},\"top\":{\"field\":\"flux\"},\"width\":{\"value\":0.9},\"x\":{\"field\":\"band\"}},\"id\":\"2d0fc0e0-54d8-45e3-94b5-dd8617672f4d\",\"type\":\"VBar\"},{\"attributes\":{},\"id\":\"d4a08dfd-11d4-44c6-80f4-0d9432b502da\",\"type\":\"ResetTool\"},{\"attributes\":{\"overlay\":{\"id\":\"4f55248a-ebe1-4630-89a5-3034b92d1e8e\",\"type\":\"BoxAnnotation\"}},\"id\":\"444a72ce-e706-4acf-b60e-7db60d8132d3\",\"type\":\"BoxZoomTool\"},{\"attributes\":{},\"id\":\"43840ed3-93eb-4351-8129-babc6eb3ae82\",\"type\":\"UnionRenderers\"},{\"attributes\":{\"plot\":null,\"text\":\"Atmosphere heating. CLIRAD (single-run) - CRD.\"},\"id\":\"c4c8e874-91de-4077-ae67-7c5d6bfd3330\",\"type\":\"Title\"},{\"attributes\":{\"dimension\":1,\"plot\":{\"id\":\"16933a4e-bc0a-4f67-a51f-6f7c0070b9a6\",\"subtype\":\"Figure\",\"type\":\"Plot\"},\"ticker\":{\"id\":\"14cb00c9-54ef-4c16-a0ac-bba9fcaf5dbf\",\"type\":\"BasicTicker\"}},\"id\":\"6e6bb386-313c-479c-9ad2-daab212ad5c9\",\"type\":\"Grid\"},{\"attributes\":{},\"id\":\"14cb00c9-54ef-4c16-a0ac-bba9fcaf5dbf\",\"type\":\"BasicTicker\"},{\"attributes\":{},\"id\":\"2f978ebc-f513-4283-b0a9-07795e7c1d76\",\"type\":\"PanTool\"},{\"attributes\":{},\"id\":\"18cb1d2a-51b8-46f4-bb78-dfecbe2fa9b8\",\"type\":\"BasicTickFormatter\"}],\"root_ids\":[\"e194c503-2059-41a3-bb56-0b891850af1e\"]},\"title\":\"Bokeh Application\",\"version\":\"0.12.16\"}};\n",
       "  var render_items = [{\"docid\":\"93b1bfaf-cf39-4fc4-81d8-a98910da3229\",\"elementid\":\"114fedbc-cd0a-4d6f-8a92-968237d2e0c7\",\"modelid\":\"e194c503-2059-41a3-bb56-0b891850af1e\"}];\n",
       "  root.Bokeh.embed.embed_items_notebook(docs_json, render_items);\n",
       "\n",
       "  }\n",
       "  if (root.Bokeh !== undefined) {\n",
       "    embed_document(root);\n",
       "  } else {\n",
       "    var attempts = 0;\n",
       "    var timer = setInterval(function(root) {\n",
       "      if (root.Bokeh !== undefined) {\n",
       "        embed_document(root);\n",
       "        clearInterval(timer);\n",
       "      }\n",
       "      attempts++;\n",
       "      if (attempts > 100) {\n",
       "        console.log(\"Bokeh: ERROR: Unable to run BokehJS code because BokehJS library is missing\")\n",
       "        clearInterval(timer);\n",
       "      }\n",
       "    }, 10, root)\n",
       "  }\n",
       "})(window);"
      ],
      "application/vnd.bokehjs_exec.v0+json": ""
     },
     "metadata": {
      "application/vnd.bokehjs_exec.v0+json": {
       "id": "e194c503-2059-41a3-bb56-0b891850af1e"
      }
     },
     "output_type": "display_data"
    },
    {
     "data": {
      "text/markdown": [
       "*FIGURE.* Difference between CLIRAD and CRD in TOA, SFC and net atmosphere flux, in each spectral band."
      ],
      "text/plain": [
       "<IPython.core.display.Markdown object>"
      ]
     },
     "metadata": {},
     "output_type": "display_data"
    },
    {
     "data": {
      "text/html": [
       "<div>\n",
       "<style scoped>\n",
       "    .dataframe tbody tr th:only-of-type {\n",
       "        vertical-align: middle;\n",
       "    }\n",
       "\n",
       "    .dataframe tbody tr th {\n",
       "        vertical-align: top;\n",
       "    }\n",
       "\n",
       "    .dataframe thead th {\n",
       "        text-align: right;\n",
       "    }\n",
       "</style>\n",
       "<table border=\"1\" class=\"dataframe\">\n",
       "  <thead>\n",
       "    <tr style=\"text-align: right;\">\n",
       "      <th></th>\n",
       "      <th>OLR flux</th>\n",
       "      <th>SFC flux</th>\n",
       "      <th>ATM heating</th>\n",
       "    </tr>\n",
       "    <tr>\n",
       "      <th>Sum over bands</th>\n",
       "      <th></th>\n",
       "      <th></th>\n",
       "      <th></th>\n",
       "    </tr>\n",
       "  </thead>\n",
       "  <tbody>\n",
       "    <tr>\n",
       "      <th>CLIRAD (single-run) - CRD</th>\n",
       "      <td>1.48</td>\n",
       "      <td>1.61</td>\n",
       "      <td>-0.13</td>\n",
       "    </tr>\n",
       "    <tr>\n",
       "      <th>CRD</th>\n",
       "      <td>-303.40</td>\n",
       "      <td>337.24</td>\n",
       "      <td>-181.37</td>\n",
       "    </tr>\n",
       "  </tbody>\n",
       "</table>\n",
       "</div>"
      ],
      "text/plain": [
       "                           OLR flux  SFC flux  ATM heating\n",
       "Sum over bands                                            \n",
       "CLIRAD (single-run) - CRD      1.48      1.61        -0.13\n",
       "CRD                         -303.40    337.24      -181.37"
      ]
     },
     "metadata": {},
     "output_type": "display_data"
    },
    {
     "data": {
      "text/markdown": [
       "*TABLE.* Difference between CLIRAD and CRD in TOA, SFC and net atmosphere flux, over all spectral bands. CRD's TOA, SFC and net atmosphere flux, over all spectral bands."
      ],
      "text/plain": [
       "<IPython.core.display.Markdown object>"
      ]
     },
     "metadata": {},
     "output_type": "display_data"
    }
   ],
   "source": [
    "script()"
   ]
  },
  {
   "cell_type": "code",
   "execution_count": 139,
   "metadata": {},
   "outputs": [
    {
     "data": {
      "text/html": [
       "<script>                                                                                             \n",
       "code_show=true;                                                                                                      \n",
       "function code_toggle() {                                                                                             \n",
       " if (code_show){                                                                                                     \n",
       " $('div.input').hide();                                                                                              \n",
       " } else {                                                                                                            \n",
       " $('div.input').show();                                                                                              \n",
       " }                                                                                                                   \n",
       " code_show = !code_show                                                                                              \n",
       "}                                                                                                                    \n",
       "$( document ).ready(code_toggle);                                                                                    \n",
       "</script>                                                                                                            \n",
       "<form action=\"javascript:code_toggle()\"><input type=\"submit\" value=\"Click here to toggle on/off the raw code.\"></form>"
      ],
      "text/plain": [
       "<IPython.core.display.HTML object>"
      ]
     },
     "execution_count": 139,
     "metadata": {},
     "output_type": "execute_result"
    }
   ],
   "source": [
    "display.HTML('''<script>                                                                                             \n",
    "code_show=true;                                                                                                      \n",
    "function code_toggle() {                                                                                             \n",
    " if (code_show){                                                                                                     \n",
    " $('div.input').hide();                                                                                              \n",
    " } else {                                                                                                            \n",
    " $('div.input').show();                                                                                              \n",
    " }                                                                                                                   \n",
    " code_show = !code_show                                                                                              \n",
    "}                                                                                                                    \n",
    "$( document ).ready(code_toggle);                                                                                    \n",
    "</script>                                                                                                            \n",
    "<form action=\"javascript:code_toggle()\"><input type=\"submit\" value=\"Click here to toggle on/off the raw code.\"></for\\\n",
    "m>''')"
   ]
  }
 ],
 "metadata": {
  "kernelspec": {
   "display_name": "Python 3",
   "language": "python",
   "name": "python3"
  },
  "language_info": {
   "codemirror_mode": {
    "name": "ipython",
    "version": 3
   },
   "file_extension": ".py",
   "mimetype": "text/x-python",
   "name": "python",
   "nbconvert_exporter": "python",
   "pygments_lexer": "ipython3",
   "version": "3.6.1"
  }
 },
 "nbformat": 4,
 "nbformat_minor": 2
}
