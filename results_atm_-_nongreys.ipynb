{
 "cells": [
  {
   "cell_type": "code",
   "execution_count": 65,
   "metadata": {},
   "outputs": [
    {
     "name": "stderr",
     "output_type": "stream",
     "text": [
      "/chia_cluster/home/jackyu/climatools/climatools/plot/plot.py:21: AccessorRegistrationWarning: registration of accessor <class 'climatools.plot.plot.ClimavizArrayAccessor'> under name 'climaviz' for type <class 'xarray.core.dataarray.DataArray'> is overriding a preexisting attribute with the same name.\n",
      "  class ClimavizArrayAccessor(object):\n"
     ]
    },
    {
     "data": {
      "text/plain": [
       "<module 'climatools.plot.plot' from '/chia_cluster/home/jackyu/climatools/climatools/plot/plot.py'>"
      ]
     },
     "execution_count": 65,
     "metadata": {},
     "output_type": "execute_result"
    }
   ],
   "source": [
    "import os                                                                                                            \n",
    "import importlib                                                                                                     \n",
    "import pprint                                                                                                        \n",
    "                                                                                                                     \n",
    "import numpy as np                                                                                                   \n",
    "import pandas as pd                                                                                                  \n",
    "import xarray as xr                                                                                                  \n",
    "                                                                                                                     \n",
    "from bokeh.io import output_notebook, show                                                                           \n",
    "from bokeh.palettes import all_palettes                                                                              \n",
    "from bokeh.layouts import gridplot                                                                                   \n",
    "from bokeh.plotting import figure                                                                                    \n",
    "                                                                                                                     \n",
    "import climatools.lblnew.dataset as lbldata                                                                          \n",
    "import climatools.cliradlw.dataset as cliraddata                                                                     \n",
    "from climatools.atm.absorbers import nongreys_byband                                                                 \n",
    "from climatools.atm.absorbers import greys_byband                                                                    \n",
    "                                                                                                                     \n",
    "import climatools.html.html as climahtml                                                                             \n",
    "from climatools.lblnew.dataio import *                                                                               \n",
    "import climatools.plot.plot as plot                                                                                  \n",
    "                                                                                                                     \n",
    "                                                                                                                     \n",
    "from IPython import display                                                                                          \n",
    "                                                                                                                     \n",
    "importlib.reload(lbldata)                                                                                            \n",
    "importlib.reload(cliraddata)                                                                                         \n",
    "importlib.reload(plot)"
   ]
  },
  {
   "cell_type": "code",
   "execution_count": 66,
   "metadata": {},
   "outputs": [
    {
     "data": {
      "text/html": [
       "\n",
       "    <div class=\"bk-root\">\n",
       "        <a href=\"https://bokeh.pydata.org\" target=\"_blank\" class=\"bk-logo bk-logo-small bk-logo-notebook\"></a>\n",
       "        <span id=\"ea667925-f035-4567-9a44-2151715f572c\">Loading BokehJS ...</span>\n",
       "    </div>"
      ]
     },
     "metadata": {},
     "output_type": "display_data"
    },
    {
     "data": {
      "application/javascript": [
       "\n",
       "(function(root) {\n",
       "  function now() {\n",
       "    return new Date();\n",
       "  }\n",
       "\n",
       "  var force = true;\n",
       "\n",
       "  if (typeof (root._bokeh_onload_callbacks) === \"undefined\" || force === true) {\n",
       "    root._bokeh_onload_callbacks = [];\n",
       "    root._bokeh_is_loading = undefined;\n",
       "  }\n",
       "\n",
       "  var JS_MIME_TYPE = 'application/javascript';\n",
       "  var HTML_MIME_TYPE = 'text/html';\n",
       "  var EXEC_MIME_TYPE = 'application/vnd.bokehjs_exec.v0+json';\n",
       "  var CLASS_NAME = 'output_bokeh rendered_html';\n",
       "\n",
       "  /**\n",
       "   * Render data to the DOM node\n",
       "   */\n",
       "  function render(props, node) {\n",
       "    var script = document.createElement(\"script\");\n",
       "    node.appendChild(script);\n",
       "  }\n",
       "\n",
       "  /**\n",
       "   * Handle when an output is cleared or removed\n",
       "   */\n",
       "  function handleClearOutput(event, handle) {\n",
       "    var cell = handle.cell;\n",
       "\n",
       "    var id = cell.output_area._bokeh_element_id;\n",
       "    var server_id = cell.output_area._bokeh_server_id;\n",
       "    // Clean up Bokeh references\n",
       "    if (id !== undefined) {\n",
       "      Bokeh.index[id].model.document.clear();\n",
       "      delete Bokeh.index[id];\n",
       "    }\n",
       "\n",
       "    if (server_id !== undefined) {\n",
       "      // Clean up Bokeh references\n",
       "      var cmd = \"from bokeh.io.state import curstate; print(curstate().uuid_to_server['\" + server_id + \"'].get_sessions()[0].document.roots[0]._id)\";\n",
       "      cell.notebook.kernel.execute(cmd, {\n",
       "        iopub: {\n",
       "          output: function(msg) {\n",
       "            var element_id = msg.content.text.trim();\n",
       "            Bokeh.index[element_id].model.document.clear();\n",
       "            delete Bokeh.index[element_id];\n",
       "          }\n",
       "        }\n",
       "      });\n",
       "      // Destroy server and session\n",
       "      var cmd = \"import bokeh.io.notebook as ion; ion.destroy_server('\" + server_id + \"')\";\n",
       "      cell.notebook.kernel.execute(cmd);\n",
       "    }\n",
       "  }\n",
       "\n",
       "  /**\n",
       "   * Handle when a new output is added\n",
       "   */\n",
       "  function handleAddOutput(event, handle) {\n",
       "    var output_area = handle.output_area;\n",
       "    var output = handle.output;\n",
       "\n",
       "    // limit handleAddOutput to display_data with EXEC_MIME_TYPE content only\n",
       "    if ((output.output_type != \"display_data\") || (!output.data.hasOwnProperty(EXEC_MIME_TYPE))) {\n",
       "      return\n",
       "    }\n",
       "\n",
       "    var toinsert = output_area.element.find(\".\" + CLASS_NAME.split(' ')[0]);\n",
       "\n",
       "    if (output.metadata[EXEC_MIME_TYPE][\"id\"] !== undefined) {\n",
       "      toinsert[toinsert.length - 1].firstChild.textContent = output.data[JS_MIME_TYPE];\n",
       "      // store reference to embed id on output_area\n",
       "      output_area._bokeh_element_id = output.metadata[EXEC_MIME_TYPE][\"id\"];\n",
       "    }\n",
       "    if (output.metadata[EXEC_MIME_TYPE][\"server_id\"] !== undefined) {\n",
       "      var bk_div = document.createElement(\"div\");\n",
       "      bk_div.innerHTML = output.data[HTML_MIME_TYPE];\n",
       "      var script_attrs = bk_div.children[0].attributes;\n",
       "      for (var i = 0; i < script_attrs.length; i++) {\n",
       "        toinsert[toinsert.length - 1].firstChild.setAttribute(script_attrs[i].name, script_attrs[i].value);\n",
       "      }\n",
       "      // store reference to server id on output_area\n",
       "      output_area._bokeh_server_id = output.metadata[EXEC_MIME_TYPE][\"server_id\"];\n",
       "    }\n",
       "  }\n",
       "\n",
       "  function register_renderer(events, OutputArea) {\n",
       "\n",
       "    function append_mime(data, metadata, element) {\n",
       "      // create a DOM node to render to\n",
       "      var toinsert = this.create_output_subarea(\n",
       "        metadata,\n",
       "        CLASS_NAME,\n",
       "        EXEC_MIME_TYPE\n",
       "      );\n",
       "      this.keyboard_manager.register_events(toinsert);\n",
       "      // Render to node\n",
       "      var props = {data: data, metadata: metadata[EXEC_MIME_TYPE]};\n",
       "      render(props, toinsert[toinsert.length - 1]);\n",
       "      element.append(toinsert);\n",
       "      return toinsert\n",
       "    }\n",
       "\n",
       "    /* Handle when an output is cleared or removed */\n",
       "    events.on('clear_output.CodeCell', handleClearOutput);\n",
       "    events.on('delete.Cell', handleClearOutput);\n",
       "\n",
       "    /* Handle when a new output is added */\n",
       "    events.on('output_added.OutputArea', handleAddOutput);\n",
       "\n",
       "    /**\n",
       "     * Register the mime type and append_mime function with output_area\n",
       "     */\n",
       "    OutputArea.prototype.register_mime_type(EXEC_MIME_TYPE, append_mime, {\n",
       "      /* Is output safe? */\n",
       "      safe: true,\n",
       "      /* Index of renderer in `output_area.display_order` */\n",
       "      index: 0\n",
       "    });\n",
       "  }\n",
       "\n",
       "  // register the mime type if in Jupyter Notebook environment and previously unregistered\n",
       "  if (root.Jupyter !== undefined) {\n",
       "    var events = require('base/js/events');\n",
       "    var OutputArea = require('notebook/js/outputarea').OutputArea;\n",
       "\n",
       "    if (OutputArea.prototype.mime_types().indexOf(EXEC_MIME_TYPE) == -1) {\n",
       "      register_renderer(events, OutputArea);\n",
       "    }\n",
       "  }\n",
       "\n",
       "  \n",
       "  if (typeof (root._bokeh_timeout) === \"undefined\" || force === true) {\n",
       "    root._bokeh_timeout = Date.now() + 5000;\n",
       "    root._bokeh_failed_load = false;\n",
       "  }\n",
       "\n",
       "  var NB_LOAD_WARNING = {'data': {'text/html':\n",
       "     \"<div style='background-color: #fdd'>\\n\"+\n",
       "     \"<p>\\n\"+\n",
       "     \"BokehJS does not appear to have successfully loaded. If loading BokehJS from CDN, this \\n\"+\n",
       "     \"may be due to a slow or bad network connection. Possible fixes:\\n\"+\n",
       "     \"</p>\\n\"+\n",
       "     \"<ul>\\n\"+\n",
       "     \"<li>re-rerun `output_notebook()` to attempt to load from CDN again, or</li>\\n\"+\n",
       "     \"<li>use INLINE resources instead, as so:</li>\\n\"+\n",
       "     \"</ul>\\n\"+\n",
       "     \"<code>\\n\"+\n",
       "     \"from bokeh.resources import INLINE\\n\"+\n",
       "     \"output_notebook(resources=INLINE)\\n\"+\n",
       "     \"</code>\\n\"+\n",
       "     \"</div>\"}};\n",
       "\n",
       "  function display_loaded() {\n",
       "    var el = document.getElementById(\"ea667925-f035-4567-9a44-2151715f572c\");\n",
       "    if (el != null) {\n",
       "      el.textContent = \"BokehJS is loading...\";\n",
       "    }\n",
       "    if (root.Bokeh !== undefined) {\n",
       "      if (el != null) {\n",
       "        el.textContent = \"BokehJS \" + root.Bokeh.version + \" successfully loaded.\";\n",
       "      }\n",
       "    } else if (Date.now() < root._bokeh_timeout) {\n",
       "      setTimeout(display_loaded, 100)\n",
       "    }\n",
       "  }\n",
       "\n",
       "\n",
       "  function run_callbacks() {\n",
       "    try {\n",
       "      root._bokeh_onload_callbacks.forEach(function(callback) { callback() });\n",
       "    }\n",
       "    finally {\n",
       "      delete root._bokeh_onload_callbacks\n",
       "    }\n",
       "    console.info(\"Bokeh: all callbacks have finished\");\n",
       "  }\n",
       "\n",
       "  function load_libs(js_urls, callback) {\n",
       "    root._bokeh_onload_callbacks.push(callback);\n",
       "    if (root._bokeh_is_loading > 0) {\n",
       "      console.log(\"Bokeh: BokehJS is being loaded, scheduling callback at\", now());\n",
       "      return null;\n",
       "    }\n",
       "    if (js_urls == null || js_urls.length === 0) {\n",
       "      run_callbacks();\n",
       "      return null;\n",
       "    }\n",
       "    console.log(\"Bokeh: BokehJS not loaded, scheduling load and callback at\", now());\n",
       "    root._bokeh_is_loading = js_urls.length;\n",
       "    for (var i = 0; i < js_urls.length; i++) {\n",
       "      var url = js_urls[i];\n",
       "      var s = document.createElement('script');\n",
       "      s.src = url;\n",
       "      s.async = false;\n",
       "      s.onreadystatechange = s.onload = function() {\n",
       "        root._bokeh_is_loading--;\n",
       "        if (root._bokeh_is_loading === 0) {\n",
       "          console.log(\"Bokeh: all BokehJS libraries loaded\");\n",
       "          run_callbacks()\n",
       "        }\n",
       "      };\n",
       "      s.onerror = function() {\n",
       "        console.warn(\"failed to load library \" + url);\n",
       "      };\n",
       "      console.log(\"Bokeh: injecting script tag for BokehJS library: \", url);\n",
       "      document.getElementsByTagName(\"head\")[0].appendChild(s);\n",
       "    }\n",
       "  };var element = document.getElementById(\"ea667925-f035-4567-9a44-2151715f572c\");\n",
       "  if (element == null) {\n",
       "    console.log(\"Bokeh: ERROR: autoload.js configured with elementid 'ea667925-f035-4567-9a44-2151715f572c' but no matching script tag was found. \")\n",
       "    return false;\n",
       "  }\n",
       "\n",
       "  var js_urls = [\"https://cdn.pydata.org/bokeh/release/bokeh-0.12.16.min.js\", \"https://cdn.pydata.org/bokeh/release/bokeh-widgets-0.12.16.min.js\", \"https://cdn.pydata.org/bokeh/release/bokeh-tables-0.12.16.min.js\", \"https://cdn.pydata.org/bokeh/release/bokeh-gl-0.12.16.min.js\"];\n",
       "\n",
       "  var inline_js = [\n",
       "    function(Bokeh) {\n",
       "      Bokeh.set_log_level(\"info\");\n",
       "    },\n",
       "    \n",
       "    function(Bokeh) {\n",
       "      \n",
       "    },\n",
       "    function(Bokeh) {\n",
       "      console.log(\"Bokeh: injecting CSS: https://cdn.pydata.org/bokeh/release/bokeh-0.12.16.min.css\");\n",
       "      Bokeh.embed.inject_css(\"https://cdn.pydata.org/bokeh/release/bokeh-0.12.16.min.css\");\n",
       "      console.log(\"Bokeh: injecting CSS: https://cdn.pydata.org/bokeh/release/bokeh-widgets-0.12.16.min.css\");\n",
       "      Bokeh.embed.inject_css(\"https://cdn.pydata.org/bokeh/release/bokeh-widgets-0.12.16.min.css\");\n",
       "      console.log(\"Bokeh: injecting CSS: https://cdn.pydata.org/bokeh/release/bokeh-tables-0.12.16.min.css\");\n",
       "      Bokeh.embed.inject_css(\"https://cdn.pydata.org/bokeh/release/bokeh-tables-0.12.16.min.css\");\n",
       "    }\n",
       "  ];\n",
       "\n",
       "  function run_inline_js() {\n",
       "    \n",
       "    if ((root.Bokeh !== undefined) || (force === true)) {\n",
       "      for (var i = 0; i < inline_js.length; i++) {\n",
       "        inline_js[i].call(root, root.Bokeh);\n",
       "      }if (force === true) {\n",
       "        display_loaded();\n",
       "      }} else if (Date.now() < root._bokeh_timeout) {\n",
       "      setTimeout(run_inline_js, 100);\n",
       "    } else if (!root._bokeh_failed_load) {\n",
       "      console.log(\"Bokeh: BokehJS failed to load within specified timeout.\");\n",
       "      root._bokeh_failed_load = true;\n",
       "    } else if (force !== true) {\n",
       "      var cell = $(document.getElementById(\"ea667925-f035-4567-9a44-2151715f572c\")).parents('.cell').data().cell;\n",
       "      cell.output_area.append_execute_result(NB_LOAD_WARNING)\n",
       "    }\n",
       "\n",
       "  }\n",
       "\n",
       "  if (root._bokeh_is_loading === 0) {\n",
       "    console.log(\"Bokeh: BokehJS loaded, going straight to plotting\");\n",
       "    run_inline_js();\n",
       "  } else {\n",
       "    load_libs(js_urls, function() {\n",
       "      console.log(\"Bokeh: BokehJS plotting callback run at\", now());\n",
       "      run_inline_js();\n",
       "    });\n",
       "  }\n",
       "}(window));"
      ],
      "application/vnd.bokehjs_load.v0+json": "\n(function(root) {\n  function now() {\n    return new Date();\n  }\n\n  var force = true;\n\n  if (typeof (root._bokeh_onload_callbacks) === \"undefined\" || force === true) {\n    root._bokeh_onload_callbacks = [];\n    root._bokeh_is_loading = undefined;\n  }\n\n  \n\n  \n  if (typeof (root._bokeh_timeout) === \"undefined\" || force === true) {\n    root._bokeh_timeout = Date.now() + 5000;\n    root._bokeh_failed_load = false;\n  }\n\n  var NB_LOAD_WARNING = {'data': {'text/html':\n     \"<div style='background-color: #fdd'>\\n\"+\n     \"<p>\\n\"+\n     \"BokehJS does not appear to have successfully loaded. If loading BokehJS from CDN, this \\n\"+\n     \"may be due to a slow or bad network connection. Possible fixes:\\n\"+\n     \"</p>\\n\"+\n     \"<ul>\\n\"+\n     \"<li>re-rerun `output_notebook()` to attempt to load from CDN again, or</li>\\n\"+\n     \"<li>use INLINE resources instead, as so:</li>\\n\"+\n     \"</ul>\\n\"+\n     \"<code>\\n\"+\n     \"from bokeh.resources import INLINE\\n\"+\n     \"output_notebook(resources=INLINE)\\n\"+\n     \"</code>\\n\"+\n     \"</div>\"}};\n\n  function display_loaded() {\n    var el = document.getElementById(\"ea667925-f035-4567-9a44-2151715f572c\");\n    if (el != null) {\n      el.textContent = \"BokehJS is loading...\";\n    }\n    if (root.Bokeh !== undefined) {\n      if (el != null) {\n        el.textContent = \"BokehJS \" + root.Bokeh.version + \" successfully loaded.\";\n      }\n    } else if (Date.now() < root._bokeh_timeout) {\n      setTimeout(display_loaded, 100)\n    }\n  }\n\n\n  function run_callbacks() {\n    try {\n      root._bokeh_onload_callbacks.forEach(function(callback) { callback() });\n    }\n    finally {\n      delete root._bokeh_onload_callbacks\n    }\n    console.info(\"Bokeh: all callbacks have finished\");\n  }\n\n  function load_libs(js_urls, callback) {\n    root._bokeh_onload_callbacks.push(callback);\n    if (root._bokeh_is_loading > 0) {\n      console.log(\"Bokeh: BokehJS is being loaded, scheduling callback at\", now());\n      return null;\n    }\n    if (js_urls == null || js_urls.length === 0) {\n      run_callbacks();\n      return null;\n    }\n    console.log(\"Bokeh: BokehJS not loaded, scheduling load and callback at\", now());\n    root._bokeh_is_loading = js_urls.length;\n    for (var i = 0; i < js_urls.length; i++) {\n      var url = js_urls[i];\n      var s = document.createElement('script');\n      s.src = url;\n      s.async = false;\n      s.onreadystatechange = s.onload = function() {\n        root._bokeh_is_loading--;\n        if (root._bokeh_is_loading === 0) {\n          console.log(\"Bokeh: all BokehJS libraries loaded\");\n          run_callbacks()\n        }\n      };\n      s.onerror = function() {\n        console.warn(\"failed to load library \" + url);\n      };\n      console.log(\"Bokeh: injecting script tag for BokehJS library: \", url);\n      document.getElementsByTagName(\"head\")[0].appendChild(s);\n    }\n  };var element = document.getElementById(\"ea667925-f035-4567-9a44-2151715f572c\");\n  if (element == null) {\n    console.log(\"Bokeh: ERROR: autoload.js configured with elementid 'ea667925-f035-4567-9a44-2151715f572c' but no matching script tag was found. \")\n    return false;\n  }\n\n  var js_urls = [\"https://cdn.pydata.org/bokeh/release/bokeh-0.12.16.min.js\", \"https://cdn.pydata.org/bokeh/release/bokeh-widgets-0.12.16.min.js\", \"https://cdn.pydata.org/bokeh/release/bokeh-tables-0.12.16.min.js\", \"https://cdn.pydata.org/bokeh/release/bokeh-gl-0.12.16.min.js\"];\n\n  var inline_js = [\n    function(Bokeh) {\n      Bokeh.set_log_level(\"info\");\n    },\n    \n    function(Bokeh) {\n      \n    },\n    function(Bokeh) {\n      console.log(\"Bokeh: injecting CSS: https://cdn.pydata.org/bokeh/release/bokeh-0.12.16.min.css\");\n      Bokeh.embed.inject_css(\"https://cdn.pydata.org/bokeh/release/bokeh-0.12.16.min.css\");\n      console.log(\"Bokeh: injecting CSS: https://cdn.pydata.org/bokeh/release/bokeh-widgets-0.12.16.min.css\");\n      Bokeh.embed.inject_css(\"https://cdn.pydata.org/bokeh/release/bokeh-widgets-0.12.16.min.css\");\n      console.log(\"Bokeh: injecting CSS: https://cdn.pydata.org/bokeh/release/bokeh-tables-0.12.16.min.css\");\n      Bokeh.embed.inject_css(\"https://cdn.pydata.org/bokeh/release/bokeh-tables-0.12.16.min.css\");\n    }\n  ];\n\n  function run_inline_js() {\n    \n    if ((root.Bokeh !== undefined) || (force === true)) {\n      for (var i = 0; i < inline_js.length; i++) {\n        inline_js[i].call(root, root.Bokeh);\n      }if (force === true) {\n        display_loaded();\n      }} else if (Date.now() < root._bokeh_timeout) {\n      setTimeout(run_inline_js, 100);\n    } else if (!root._bokeh_failed_load) {\n      console.log(\"Bokeh: BokehJS failed to load within specified timeout.\");\n      root._bokeh_failed_load = true;\n    } else if (force !== true) {\n      var cell = $(document.getElementById(\"ea667925-f035-4567-9a44-2151715f572c\")).parents('.cell').data().cell;\n      cell.output_area.append_execute_result(NB_LOAD_WARNING)\n    }\n\n  }\n\n  if (root._bokeh_is_loading === 0) {\n    console.log(\"Bokeh: BokehJS loaded, going straight to plotting\");\n    run_inline_js();\n  } else {\n    load_libs(js_urls, function() {\n      console.log(\"Bokeh: BokehJS plotting callback run at\", now());\n      run_inline_js();\n    });\n  }\n}(window));"
     },
     "metadata": {},
     "output_type": "display_data"
    }
   ],
   "source": [
    "output_notebook()"
   ]
  },
  {
   "cell_type": "code",
   "execution_count": 67,
   "metadata": {
    "collapsed": true
   },
   "outputs": [],
   "source": [
    "def clirad_params_atm_singlerun(atmpro='mls'):                                                                       \n",
    "    '''                                                                                                              \n",
    "    Define the input parameter dictionary (or `param`) of                                                            \n",
    "    a clirad-lw run and return it.                                                                                   \n",
    "                                                                                                                     \n",
    "    Parameters                                                                                                       \n",
    "    ----------                                                                                                       \n",
    "    atmpro: string                                                                                                   \n",
    "        Atmosphere profile.                                                                                          \n",
    "    '''                                                                                                              \n",
    "    param0 = {'band': [1, 2, 3, 4, 5, 6, 7, 8, 9, 10, 11],                                                           \n",
    "              'commitnumber': '8f82f9b',                                                                             \n",
    "              'molecule': {'ch4': 1.8e-06,                                                                           \n",
    "                           'co2': 0.0004,                                                                            \n",
    "                           'h2o': 'atmpro',                                                                          \n",
    "                           'n2o': 3.2e-07,                                                                           \n",
    "                           'o3': 'atmpro'}}                                                                          \n",
    "                                                                                                                     \n",
    "    d_atmpros = {'mls': 294, 'saw': 257, 'trp': 300}                                                                 \n",
    "                                                                                                                     \n",
    "    param = param0.copy()                                                                                            \n",
    "    param['atmpro'] = atmpro                                                                                         \n",
    "    param['tsfc'] = d_atmpros[atmpro]                                                                                \n",
    "                                                                                                                     \n",
    "    d = {}                                                                                                           \n",
    "    d['all'] = param                                                                                                 \n",
    "    return d"
   ]
  },
  {
   "cell_type": "code",
   "execution_count": 68,
   "metadata": {
    "collapsed": true
   },
   "outputs": [],
   "source": [
    "def fmt_cool(ds_in):                                                                                                 \n",
    "    '''                                                                                                              \n",
    "    Deal with dimensions that are not the 'pressure/layer'                                                           \n",
    "    dimension, to prepare the dataset for                                                                            \n",
    "    pressure vs cooling rate plots.                                                                                  \n",
    "                                                                                                                     \n",
    "    Parameters                                                                                                       \n",
    "    ----------                                                                                                       \n",
    "    ds_in: xarray.Dataset                                                                                            \n",
    "        Cooling rate.                                                                                                \n",
    "    '''                                                                                                              \n",
    "    ds = ds_in.copy(deep=True)                                                                                       \n",
    "    if 'igg' in ds.dims:                                                                                             \n",
    "        ds = ds.sel(igg=1)                                                                                           \n",
    "                                                                                                                     \n",
    "    if 'g' in ds.dims:                                                                                               \n",
    "        ds = ds.sum('g')                                                                                             \n",
    "                                                                                                                     \n",
    "    if 'i' in ds.dims:                                                                                               \n",
    "        ds = ds.sel(i=ds.dims['i'])                                                                                  \n",
    "                                                                                                                     \n",
    "    if 'band' in ds.dims:                                                                                            \n",
    "        try:                                                                                                         \n",
    "            ds = ds.squeeze('band')                                                                                  \n",
    "        except ValueError:                                                                                           \n",
    "            ds = ds.sum('band')                                                                                      \n",
    "    return ds['coolrg']"
   ]
  },
  {
   "cell_type": "code",
   "execution_count": 69,
   "metadata": {
    "collapsed": true
   },
   "outputs": [],
   "source": [
    "def pltdata_cool(atmpro='mls'):                                                                                      \n",
    "    '''                                                                                                              \n",
    "    Prepare the plotting data for plotting cooling                                                                   \n",
    "    rate profiles that is compatible with                                                                            \n",
    "    plot_cool_bokeh(), and set the plot attibutes                                                                    \n",
    "    for each curve.                                                                                                  \n",
    "                                                                                                                     \n",
    "    Parameters                                                                                                       \n",
    "    ----------                                                                                                       \n",
    "    atmpro: string                                                                                                   \n",
    "        Atmosphere profile.                                                                                          \n",
    "    data: dict                                                                                                       \n",
    "        Plotting data. A list of dictionaries,                                                                       \n",
    "        each one containing the data and plot                                                                        \n",
    "        attributes for a curve.                                                                                      \n",
    "    '''                                                                                                              \n",
    "    params_atm = clirad_params_atm_singlerun(atmpro=atmpro)                                                          \n",
    "    d_clirad_singlerun = cliraddata.clirad_data_atm(params_atm)                                                      \n",
    "                                                                                                                     \n",
    "    params_atm = cliraddata.clirad_params_atm(atmpro=atmpro)                                                         \n",
    "    d_clirad = cliraddata.clirad_data_atm(params_atm)                                                                \n",
    "                                                                                                                     \n",
    "    params_atm = lbldata.lblnew_params_atm(atmpro=atmpro)                                                            \n",
    "    d_crd = lbldata.crd_data_atm(params_atm)                                                                         \n",
    "                                                                                                                     \n",
    "    ds_clirad_singlerun = d_clirad_singlerun['cool']                                                                 \n",
    "    ds_clirad = d_clirad['cool']                                                                                     \n",
    "    ds_crd = d_crd['cool']                                                                                           \n",
    "                                                                                                                     \n",
    "    colors = all_palettes['Set1'][4]\n",
    "    \n",
    "    data = [                                                                                                         \n",
    "        {'label': 'CLIRAD (single-run)',                                                                             \n",
    "        'srs': fmt_cool(ds_clirad_singlerun),                                                                        \n",
    "        'line_dash': 'dashed', 'line_width': 5,                                                                      \n",
    "        'color': colors[1], 'alpha': .6},                                                                            \n",
    "        {'label': 'CRD',                                                                                             \n",
    "         'srs': fmt_cool(ds_crd),                                                                                    \n",
    "         'line_dash': 'solid', 'line_width': 1.5,                                                                    \n",
    "         'marker': 'circle', 'marker_size': 5,                                                                       \n",
    "         'color': colors[2], 'alpha': 1}                                                                             \n",
    "    ]                                                                                                                \n",
    "#        {'label': 'CLIRAD',                                                                                         \n",
    "#         'srs': fmt_cool(ds_clirad),                                                                                \n",
    "#         'line_dash': 'dashed', 'line_width': 5,                                                                    \n",
    "#         'color': colors[0], 'alpha': .6}                                                                           \n",
    "                                                                                                                     \n",
    "    return data    "
   ]
  },
  {
   "cell_type": "code",
   "execution_count": 70,
   "metadata": {
    "collapsed": true
   },
   "outputs": [],
   "source": [
    "def pltdata_cooldiff(atmpro='mls'):                                                                                  \n",
    "    '''                                                                                                              \n",
    "    Prepare the plotting data for plotting cooling                                                                   \n",
    "    rate difference profiles that is compatible with                                                                 \n",
    "    plot_cool_bokeh(), and set the plot attibutes                                                                    \n",
    "    for each curve.                                                                                                  \n",
    "                                                                                                                     \n",
    "    Parameters                                                                                                       \n",
    "    ----------                                                                                                       \n",
    "    atmpro: string                                                                                                   \n",
    "        Atmosphere profile.                                                                                          \n",
    "    data: dict                                                                                                       \n",
    "        Plotting data. A list of dictionaries,                                                                       \n",
    "        each one containing the data and plot                                                                        \n",
    "        attributes for a curve.                                                                                      \n",
    "    '''\n",
    "    params_atm = clirad_params_atm_singlerun(atmpro=atmpro)\n",
    "    d_clirad_singlerun = cliraddata.clirad_data_atm(params_atm)\n",
    "    \n",
    "    params_atm = cliraddata.clirad_params_atm(atmpro=atmpro)\n",
    "    d_clirad = cliraddata.clirad_data_atm(params_atm)                               \n",
    "    \n",
    "    params_atm = lbldata.lblnew_params_atm(atmpro=atmpro)\n",
    "    d_crd = lbldata.crd_data_atm(params_atm)                                           \n",
    "                                                                                                                     \n",
    "    ds_clirad_singlerun = d_clirad_singlerun['cool']                                                                 \n",
    "    ds_clirad = d_clirad['cool']                                                                                     \n",
    "    ds_crd = d_crd['cool']                                                                                           \n",
    "                                                                                                                     \n",
    "    ds_diff = ds_clirad_singlerun - ds_crd                                                                           \n",
    "                                                                                                                     \n",
    "    colors = all_palettes['Set1'][4]                                                                                 \n",
    "                                                                                                                     \n",
    "    data = [                                                                                                         \n",
    "        {'label': 'CLIRAD (single-run) - CRD',                                                                       \n",
    "         'srs': fmt_cool(ds_diff),                                                                                   \n",
    "         'line_dash': 'solid', 'line_width': 1.5,                                                                    \n",
    "         'marker': 'circle', 'marker_size': 7,                                                                       \n",
    "         'color': colors[3], 'alpha': .8}                                                                            \n",
    "    ]                                                                                                                \n",
    "    return data"
   ]
  },
  {
   "cell_type": "code",
   "execution_count": 71,
   "metadata": {
    "collapsed": true
   },
   "outputs": [],
   "source": [
    "def show_cool(atmpro='mls'):                                                                                         \n",
    "    '''                                                                                                              \n",
    "    Produce figure with the following panes:                                                                         \n",
    "      1. Cooling rate profiles with linear pressure-axis.                                                            \n",
    "      2. Cooling rate profile with log pressure-axis.                                                                \n",
    "      3. Coolling rate profile difference with log                                                                   \n",
    "         pressure-axis.                                                                                              \n",
    "    and display the figure.                                                                                          \n",
    "                                                                                                                     \n",
    "    Parameters                                                                                                       \n",
    "    ----------                                                                                                       \n",
    "    atmpro: string                                                                                                   \n",
    "        Atmosphere profile.                                                                                          \n",
    "    ''' \n",
    "    pltfunc = plot.plt_vert_profile_bokeh\n",
    "    \n",
    "    data_cool = pltdata_cool(atmpro=atmpro)                                                                          \n",
    "    p_cool_liny = pltfunc(pltdata=data_cool)                                                     \n",
    "    p_cool_logy = pltfunc(pltdata=data_cool, \n",
    "                          y_axis_type='log', \n",
    "                          prange=(.01, 200))                                                                  \n",
    "                                                                                                                     \n",
    "    data_cooldiff = pltdata_cooldiff(atmpro=atmpro)                                                                  \n",
    "    p_cooldiff_logy = pltfunc(pltdata=data_cooldiff,                                             \n",
    "                              y_axis_type='log',                                                              \n",
    "                              prange=(.01, 200))                                                              \n",
    "                                                                                                                     \n",
    "    everything = gridplot(p_cool_liny, p_cool_logy,                                                                  \n",
    "                          p_cooldiff_logy,                                                                           \n",
    "                          ncols=3)                                                                                   \n",
    "    show(everything)                                                                                                 \n",
    "    display.display(                                                                                                 \n",
    "        display.Markdown('*FIGURE.* Cooling rates & difference.'))"
   ]
  },
  {
   "cell_type": "code",
   "execution_count": 72,
   "metadata": {
    "collapsed": true
   },
   "outputs": [],
   "source": [
    "def show_hist_flux(atmpro='mls'):                                                                                    \n",
    "    '''                                                                                                              \n",
    "    Display figure with the following band-vs-flux                                                                   \n",
    "    histograms:                                                                                                      \n",
    "        1. Upward flux at TOA. CLIRAD - CRD.                                                                         \n",
    "        2. Downward flux at surface. CLIRAD- CRD.                                                                    \n",
    "        3. Atmosphere heating.  CLIRAD - CRD.                                                                        \n",
    "                                                                                                                     \n",
    "    Parameters                                                                                                       \n",
    "    ----------                                                                                                       \n",
    "    atmpro: string                                                                                                   \n",
    "        Atmosphere profile.                                                                                          \n",
    "    '''                                                                                                              \n",
    "    def fmt(da_in):                                                                                                  \n",
    "        da = da_in.copy(deep=True)                                                                                   \n",
    "                                                                                                                     \n",
    "        if 'i' in da.dims:                                                                                           \n",
    "            da = da.sel(i=len(da['i']))                                                                              \n",
    "                                                                                                                     \n",
    "        if 'igg' in da.dims:                                                                                         \n",
    "            da = da.sel(igg=1)                                                                                       \n",
    "                                                                                                                     \n",
    "        if 'g' in da.dims:                                                                                           \n",
    "            da = da.sum('g')                                                                                         \n",
    "        return da\n",
    "    \n",
    "    params_atm = lbldata.lblnew_params_atm(atmpro=atmpro)\n",
    "    ds_crd = lbldata.crd_data_atm(params_atm)['flux']\n",
    "    \n",
    "    params_atm = cliraddata.clirad_params_atm(atmpro=atmpro)\n",
    "    ds_clirad = cliraddata.clirad_data_atm(params_atm)['flux']\n",
    "    \n",
    "    params_atm = clirad_params_atm_singlerun(atmpro=atmpro)\n",
    "    ds_clirad_singlerun = cliraddata.clirad_data_atm(params_atm)['flux']                                                          \n",
    "                                                                                                                     \n",
    "    ip, varname = 0, 'flug'                                                                                          \n",
    "    da = (ds_clirad_singlerun - ds_crd).isel(pressure=ip)[varname]                                                   \n",
    "    da = fmt(da)                                                                                                     \n",
    "    p_toa = plot.hist_band_vs_flux(da,                                                                               \n",
    "        title='TOA flux. CLIRAD (single-run) - CRD.')                                                                \n",
    "                                                                                                                     \n",
    "    ip, varname = -1, 'fldg'                                                                                         \n",
    "    da = (ds_clirad_singlerun - ds_crd).isel(pressure=ip)[varname]                                                   \n",
    "    da = fmt(da)                                                                                                     \n",
    "    p_sfc = plot.hist_band_vs_flux(da,                                                                               \n",
    "        title='SFC flux. CLIRAD (single-run) - CRD.')                                                                \n",
    "                                                                                                                     \n",
    "    atm_crd = (ds_crd.isel(pressure=0)                                                                               \n",
    "               - ds_crd.isel(pressure=-1))['fnetg']                                                                  \n",
    "    atm_clirad_singlerun = (ds_clirad_singlerun.isel(pressure=0)                                                     \n",
    "                  - ds_clirad_singlerun.isel(pressure=-1))['fnetg']                                                  \n",
    "    da = atm_clirad_singlerun - atm_crd                                                                              \n",
    "    da = fmt(da)                                                                                                     \n",
    "    p_atm = plot.hist_band_vs_flux(da,                                                                               \n",
    "        title='Atmosphere heating. CLIRAD (single-run) - CRD.')                                                      \n",
    "                                                                                                                     \n",
    "    everything = gridplot(p_toa, p_sfc, p_atm, ncols=3,                                                              \n",
    "                          plot_width=300, plot_height=300)                                                           \n",
    "                                                                                                                     \n",
    "    show(everything)                                                                                                 \n",
    "    display.display(                                                                                                 \n",
    "        display.Markdown('*FIGURE.* Difference between CLIRAD and CRD'                                               \n",
    "          ' in TOA, SFC and net atmosphere flux,'                                                                    \n",
    "          ' in each spectral band.'))"
   ]
  },
  {
   "cell_type": "code",
   "execution_count": 73,
   "metadata": {
    "collapsed": true
   },
   "outputs": [],
   "source": [
    "def show_tb_flux(atmpro='mls'):                                                                                      \n",
    "    '''                                                                                                              \n",
    "    Display the table:                                                                                               \n",
    "    --------------------------------------------------------------------                                             \n",
    "                      | up flux at TOA | down flux at SFC | atm heating                                              \n",
    "    --------------------------------------------------------------------                                             \n",
    "    clirad (sum) - CRD|                |                  |                                                          \n",
    "    clirad - CRD      |                |                  |                                                          \n",
    "    CRD               |                |                  |                                                          \n",
    "    --------------------------------------------------------------------                                             \n",
    "                                                                                                                     \n",
    "    Parameters                                                                                                       \n",
    "    ----------                                                                                                       \n",
    "    atmpro: string                                                                                                   \n",
    "        Atmosphere profile.                                                                                          \n",
    "    ''' \n",
    "    def fmt(da_in):                                                                                                  \n",
    "        da = da_in.copy(deep=True)                                                                                   \n",
    "                                                                                                                     \n",
    "        if 'i' in da.dims:                                                                                           \n",
    "            da = da.sel(i=len(da['i']))                                                                              \n",
    "                                                                                                                     \n",
    "        if 'igg' in da.dims:                                                                                         \n",
    "            da = da.sel(igg=1)                                                                                       \n",
    "                                                                                                                     \n",
    "        if 'g' in da.dims:                                                                                           \n",
    "            da = da.sum('g')                                                                                         \n",
    "                                                                                                                     \n",
    "        if 'band' in da.dims:                                                                                        \n",
    "            try:                                                                                                     \n",
    "                da = da.squeeze('band')                                                                              \n",
    "            except ValueError:                                                                                       \n",
    "                da = da.sum('band')                                                                                  \n",
    "        return da                                                                                                    \n",
    "\n",
    "    params_atm = lbldata.lblnew_params_atm(atmpro=atmpro)\n",
    "    ds_crd = lbldata.crd_data_atm(params_atm)['flux']                                  \n",
    "    olr_crd = ds_crd['flug'].isel(pressure=0)                                                                        \n",
    "    sfc_crd = ds_crd['fldg'].isel(pressure=-1)                                                                       \n",
    "    atm_crd = (ds_crd.isel(pressure=0)                                                                               \n",
    "               - ds_crd.isel(pressure=-1))['fnetg']                                                                  \n",
    "    \n",
    "    params_atm = cliraddata.clirad_params_atm(atmpro=atmpro)\n",
    "    ds_clirad = cliraddata.clirad_data_atm(params_atm)['flux']                                                         \n",
    "    olr_clirad = ds_clirad['flug'].isel(pressure=0)                                                                  \n",
    "    sfc_clirad = ds_clirad['fldg'].isel(pressure=-1)                                                                 \n",
    "    atm_clirad = (ds_clirad.isel(pressure=0)                                                                         \n",
    "                  - ds_clirad.isel(pressure=-1))['fnetg']                                                            \n",
    "    \n",
    "    params_atm = clirad_params_atm_singlerun(atmpro=atmpro)\n",
    "    ds_clirad_singlerun = cliraddata.clirad_data_atm(params_atm)['flux']                                                          \n",
    "    olr_clirad_singlerun = ds_clirad_singlerun['flug'].isel(pressure=0)                                              \n",
    "    sfc_clirad_singlerun = ds_clirad_singlerun['fldg'].isel(pressure=-1)                                             \n",
    "    atm_clirad_singlerun = (ds_clirad_singlerun.isel(pressure=0)                                                     \n",
    "                  - ds_clirad_singlerun.isel(pressure=-1))['fnetg']\n",
    "    \n",
    "    df = pd.DataFrame()                                                                                              \n",
    "    df.index.name = 'Sum over bands'                                                                                 \n",
    "                                                                                                                     \n",
    "    df.loc['CLIRAD (single-run) - CRD',                                                                              \n",
    "           'OLR flux'] = (fmt(olr_clirad_singlerun)                                                                  \n",
    "                          - fmt(olr_crd)).values                                                                     \n",
    "    df.loc['CLIRAD (single-run) - CRD',                                                                              \n",
    "           'SFC flux'] = (fmt(sfc_clirad_singlerun)                                                                  \n",
    "                          - fmt(sfc_crd)).values                                                                     \n",
    "    df.loc['CLIRAD (single-run) - CRD',                                                                              \n",
    "           'ATM heating'] = (fmt(atm_clirad_singlerun)                                                               \n",
    "                             - fmt(atm_crd)).values                                                                  \n",
    "                                                                                                                     \n",
    "    df.loc['CRD', 'OLR flux'] = fmt(olr_crd).values                                                                  \n",
    "    df.loc['CRD', 'SFC flux'] = fmt(sfc_crd).values                                                                  \n",
    "    df.loc['CRD', 'ATM heating'] = fmt(atm_crd).values                                                               \n",
    "                                                                                                                     \n",
    "    df = df.astype('float').round(2)                                                                                 \n",
    "                                                                                                                     \n",
    "    display.display(df)                                                                                              \n",
    "    display.display(                                                                                                 \n",
    "        display.Markdown('*TABLE.* Difference between CLIRAD and CRD'                                                \n",
    "          ' in TOA, SFC and net atmosphere flux,'                                                                    \n",
    "          ' over all spectral bands. CRD\\'s'                                                                         \n",
    "          ' TOA, SFC and net atmosphere flux,'                                                                       \n",
    "          ' over all spectral bands.'))    \n",
    "    "
   ]
  },
  {
   "cell_type": "code",
   "execution_count": 74,
   "metadata": {
    "collapsed": true
   },
   "outputs": [],
   "source": [
    "def show_makeup():                                                                                                   \n",
    "    '''                                                                                                              \n",
    "    Display table showing the concentrations                                                                         \n",
    "    of the gases in each spectral band                                                                               \n",
    "    '''                                                                                                              \n",
    "    df = pd.DataFrame()                                                                                              \n",
    "                                                                                                                     \n",
    "    for band, molecule in nongreys_byband().items():                                                                 \n",
    "        for name, conc in molecule.items():                                                                          \n",
    "            df.loc[name, band] = str(conc)                                                                           \n",
    "                                                                                                                     \n",
    "    df = df.fillna(0)                                                                                                \n",
    "    df.columns.name = 'clirad band'                                                                                  \n",
    "    df.index.name = 'molecule'                                                                                       \n",
    "                                                                                                                     \n",
    "    display.display(df)                                                                                              \n",
    "                                                                                                                     \n",
    "    display.display(                                                                                                 \n",
    "        display.Markdown('*TABLE.* Non-grey absorbers in the atmosphere.'))"
   ]
  },
  {
   "cell_type": "code",
   "execution_count": 75,
   "metadata": {
    "collapsed": true
   },
   "outputs": [],
   "source": [
    "def show_grey_makeup():                                                                                              \n",
    "    df = pd.DataFrame()                                                                                              \n",
    "                                                                                                                     \n",
    "    for band, molecule in greys_byband().items():                                                                    \n",
    "        if molecule == None:                                                                                         \n",
    "            pass                                                                                                     \n",
    "        else:                                                                                                        \n",
    "            for name, conc in molecule.items():                                                                      \n",
    "                df.loc[name, band] = str(conc)                                                                       \n",
    "                                                                                                                     \n",
    "    df = df.fillna(0)                                                                                                \n",
    "    df.columns.name = 'clirad band'                                                                                  \n",
    "    df.index.name = 'absorber'                                                                                       \n",
    "                                                                                                                     \n",
    "    display.display(df)                                                                                              \n",
    "    display.display(                                                                                                 \n",
    "        display.Markdown('*TABLE.* Grey absorbers in the atmosphere.')                                               \n",
    "        )"
   ]
  },
  {
   "cell_type": "code",
   "execution_count": 76,
   "metadata": {
    "collapsed": true
   },
   "outputs": [],
   "source": [
    "def show_html(s):                                                                                                    \n",
    "    display.display(display.HTML(s))                                                                                 \n",
    "                                                                                                                     \n",
    "                                                                                                                     \n",
    "                                                                                                                     \n",
    "def show_markdown(s):                                                                                                \n",
    "    display.display(display.Markdown(s))"
   ]
  },
  {
   "cell_type": "code",
   "execution_count": 77,
   "metadata": {
    "collapsed": true
   },
   "outputs": [],
   "source": [
    "def script():                                                                                                        \n",
    "    d_atm = {'mls': 'mid-latitude summer',                                                                           \n",
    "             'saw': 'sub-arctic winter',                                                                             \n",
    "             'trp': 'tropical'}                                                                                      \n",
    "                                                                                                                     \n",
    "    title = ('## Results over entire range of molecules'                                                             \n",
    "             ' and spectral bands')                                                                                  \n",
    "                                                                                                                     \n",
    "    s_makeup = 'Makeup of atmosphere.'                                                                               \n",
    "    s_atmpro = '# {}'                                                                                                \n",
    "    s_cool = 'Cooling rates. {}.'                                                                                    \n",
    "    s_flux = 'Fluxes. {}.'                                                                                           \n",
    "                                                                                                                     \n",
    "    atmpros = ['mls', 'saw', 'trp']                                                                                  \n",
    "                                                                                                                     \n",
    "    # TOC                                                                                                            \n",
    "    show_markdown(title)                                                                                             \n",
    "    show_markdown('### Table of Contents')                                                                           \n",
    "    show_html(climahtml.getHTML_hrefanchor(s_makeup))                                                                \n",
    "    for atmpro in atmpros:                                                                                           \n",
    "        show_markdown('**' + d_atm[atmpro] + '**')                                                                   \n",
    "        show_html(climahtml.getHTML_hrefanchor(s_cool.format(atmpro)))                                               \n",
    "        show_html(climahtml.getHTML_hrefanchor(s_flux.format(atmpro)))                                               \n",
    "                                                                                                                     \n",
    "                                                                                                                     \n",
    "    # Atmosphere makeup                                                                                              \n",
    "    show_html(climahtml.getHTML_idanchor(s_makeup))                                                                  \n",
    "    show_markdown(climahtml.getMarkdown_sectitle(s_makeup))                                                          \n",
    "    show_makeup()\n",
    "    \n",
    "    for atmpro in atmpros:                                                                                           \n",
    "        show_html(climahtml.getHTML_idanchor(s_cool.format(atmpro)))                                                 \n",
    "        show_markdown(                                                                                               \n",
    "            climahtml.getMarkdown_sectitle(s_cool.format(atmpro)))                                                   \n",
    "        show_cool(atmpro=atmpro)                                                                                     \n",
    "        show_html(climahtml.getHTML_idanchor(s_flux.format(atmpro)))                                                 \n",
    "        show_markdown(                                                                                               \n",
    "            climahtml.getMarkdown_sectitle(s_flux.format(atmpro)))                                                   \n",
    "        show_hist_flux(atmpro=atmpro)                                                                                \n",
    "        show_tb_flux(atmpro=atmpro)"
   ]
  },
  {
   "cell_type": "code",
   "execution_count": 78,
   "metadata": {
    "scrolled": false
   },
   "outputs": [
    {
     "data": {
      "text/markdown": [
       "## Results over entire range of molecules and spectral bands"
      ],
      "text/plain": [
       "<IPython.core.display.Markdown object>"
      ]
     },
     "metadata": {},
     "output_type": "display_data"
    },
    {
     "data": {
      "text/markdown": [
       "### Table of Contents"
      ],
      "text/plain": [
       "<IPython.core.display.Markdown object>"
      ]
     },
     "metadata": {},
     "output_type": "display_data"
    },
    {
     "data": {
      "text/html": [
       "<a href=\"#Makeup_of_atmosphere.\">Makeup of atmosphere.</a>"
      ],
      "text/plain": [
       "<IPython.core.display.HTML object>"
      ]
     },
     "metadata": {},
     "output_type": "display_data"
    },
    {
     "data": {
      "text/markdown": [
       "**mid-latitude summer**"
      ],
      "text/plain": [
       "<IPython.core.display.Markdown object>"
      ]
     },
     "metadata": {},
     "output_type": "display_data"
    },
    {
     "data": {
      "text/html": [
       "<a href=\"#Cooling_rates._mls.\">Cooling rates. mls.</a>"
      ],
      "text/plain": [
       "<IPython.core.display.HTML object>"
      ]
     },
     "metadata": {},
     "output_type": "display_data"
    },
    {
     "data": {
      "text/html": [
       "<a href=\"#Fluxes._mls.\">Fluxes. mls.</a>"
      ],
      "text/plain": [
       "<IPython.core.display.HTML object>"
      ]
     },
     "metadata": {},
     "output_type": "display_data"
    },
    {
     "data": {
      "text/markdown": [
       "**sub-arctic winter**"
      ],
      "text/plain": [
       "<IPython.core.display.Markdown object>"
      ]
     },
     "metadata": {},
     "output_type": "display_data"
    },
    {
     "data": {
      "text/html": [
       "<a href=\"#Cooling_rates._saw.\">Cooling rates. saw.</a>"
      ],
      "text/plain": [
       "<IPython.core.display.HTML object>"
      ]
     },
     "metadata": {},
     "output_type": "display_data"
    },
    {
     "data": {
      "text/html": [
       "<a href=\"#Fluxes._saw.\">Fluxes. saw.</a>"
      ],
      "text/plain": [
       "<IPython.core.display.HTML object>"
      ]
     },
     "metadata": {},
     "output_type": "display_data"
    },
    {
     "data": {
      "text/markdown": [
       "**tropical**"
      ],
      "text/plain": [
       "<IPython.core.display.Markdown object>"
      ]
     },
     "metadata": {},
     "output_type": "display_data"
    },
    {
     "data": {
      "text/html": [
       "<a href=\"#Cooling_rates._trp.\">Cooling rates. trp.</a>"
      ],
      "text/plain": [
       "<IPython.core.display.HTML object>"
      ]
     },
     "metadata": {},
     "output_type": "display_data"
    },
    {
     "data": {
      "text/html": [
       "<a href=\"#Fluxes._trp.\">Fluxes. trp.</a>"
      ],
      "text/plain": [
       "<IPython.core.display.HTML object>"
      ]
     },
     "metadata": {},
     "output_type": "display_data"
    },
    {
     "data": {
      "text/html": [
       "<a id=\"Makeup_of_atmosphere.\"></a>"
      ],
      "text/plain": [
       "<IPython.core.display.HTML object>"
      ]
     },
     "metadata": {},
     "output_type": "display_data"
    },
    {
     "data": {
      "text/markdown": [
       "# Makeup of atmosphere."
      ],
      "text/plain": [
       "<IPython.core.display.Markdown object>"
      ]
     },
     "metadata": {},
     "output_type": "display_data"
    },
    {
     "data": {
      "text/html": [
       "<div>\n",
       "<style scoped>\n",
       "    .dataframe tbody tr th:only-of-type {\n",
       "        vertical-align: middle;\n",
       "    }\n",
       "\n",
       "    .dataframe tbody tr th {\n",
       "        vertical-align: top;\n",
       "    }\n",
       "\n",
       "    .dataframe thead th {\n",
       "        text-align: right;\n",
       "    }\n",
       "</style>\n",
       "<table border=\"1\" class=\"dataframe\">\n",
       "  <thead>\n",
       "    <tr style=\"text-align: right;\">\n",
       "      <th>clirad band</th>\n",
       "      <th>1</th>\n",
       "      <th>2</th>\n",
       "      <th>3</th>\n",
       "      <th>4</th>\n",
       "      <th>5</th>\n",
       "      <th>6</th>\n",
       "      <th>7</th>\n",
       "      <th>8</th>\n",
       "      <th>9</th>\n",
       "      <th>10</th>\n",
       "      <th>11</th>\n",
       "    </tr>\n",
       "    <tr>\n",
       "      <th>molecule</th>\n",
       "      <th></th>\n",
       "      <th></th>\n",
       "      <th></th>\n",
       "      <th></th>\n",
       "      <th></th>\n",
       "      <th></th>\n",
       "      <th></th>\n",
       "      <th></th>\n",
       "      <th></th>\n",
       "      <th></th>\n",
       "      <th></th>\n",
       "    </tr>\n",
       "  </thead>\n",
       "  <tbody>\n",
       "    <tr>\n",
       "      <th>h2o</th>\n",
       "      <td>atmpro</td>\n",
       "      <td>atmpro</td>\n",
       "      <td>atmpro</td>\n",
       "      <td>atmpro</td>\n",
       "      <td>atmpro</td>\n",
       "      <td>atmpro</td>\n",
       "      <td>atmpro</td>\n",
       "      <td>atmpro</td>\n",
       "      <td>atmpro</td>\n",
       "      <td>atmpro</td>\n",
       "      <td>atmpro</td>\n",
       "    </tr>\n",
       "    <tr>\n",
       "      <th>co2</th>\n",
       "      <td>0</td>\n",
       "      <td>0</td>\n",
       "      <td>0.0004</td>\n",
       "      <td>0.0004</td>\n",
       "      <td>0.0004</td>\n",
       "      <td>0.0004</td>\n",
       "      <td>0.0004</td>\n",
       "      <td>0</td>\n",
       "      <td>0</td>\n",
       "      <td>0</td>\n",
       "      <td>0.0004</td>\n",
       "    </tr>\n",
       "    <tr>\n",
       "      <th>n2o</th>\n",
       "      <td>0</td>\n",
       "      <td>0</td>\n",
       "      <td>3.2e-07</td>\n",
       "      <td>0</td>\n",
       "      <td>0</td>\n",
       "      <td>0</td>\n",
       "      <td>0</td>\n",
       "      <td>0</td>\n",
       "      <td>3.2e-07</td>\n",
       "      <td>0</td>\n",
       "      <td>0</td>\n",
       "    </tr>\n",
       "    <tr>\n",
       "      <th>o3</th>\n",
       "      <td>0</td>\n",
       "      <td>0</td>\n",
       "      <td>0</td>\n",
       "      <td>0</td>\n",
       "      <td>0</td>\n",
       "      <td>0</td>\n",
       "      <td>atmpro</td>\n",
       "      <td>0</td>\n",
       "      <td>0</td>\n",
       "      <td>0</td>\n",
       "      <td>0</td>\n",
       "    </tr>\n",
       "    <tr>\n",
       "      <th>ch4</th>\n",
       "      <td>0</td>\n",
       "      <td>0</td>\n",
       "      <td>0</td>\n",
       "      <td>0</td>\n",
       "      <td>0</td>\n",
       "      <td>0</td>\n",
       "      <td>0</td>\n",
       "      <td>0</td>\n",
       "      <td>1.8e-06</td>\n",
       "      <td>0</td>\n",
       "      <td>0</td>\n",
       "    </tr>\n",
       "  </tbody>\n",
       "</table>\n",
       "</div>"
      ],
      "text/plain": [
       "clirad band      1       2        3       4       5       6       7       8   \\\n",
       "molecule                                                                       \n",
       "h2o          atmpro  atmpro   atmpro  atmpro  atmpro  atmpro  atmpro  atmpro   \n",
       "co2               0       0   0.0004  0.0004  0.0004  0.0004  0.0004       0   \n",
       "n2o               0       0  3.2e-07       0       0       0       0       0   \n",
       "o3                0       0        0       0       0       0  atmpro       0   \n",
       "ch4               0       0        0       0       0       0       0       0   \n",
       "\n",
       "clirad band       9       10      11  \n",
       "molecule                              \n",
       "h2o           atmpro  atmpro  atmpro  \n",
       "co2                0       0  0.0004  \n",
       "n2o          3.2e-07       0       0  \n",
       "o3                 0       0       0  \n",
       "ch4          1.8e-06       0       0  "
      ]
     },
     "metadata": {},
     "output_type": "display_data"
    },
    {
     "data": {
      "text/markdown": [
       "*TABLE.* Non-grey absorbers in the atmosphere."
      ],
      "text/plain": [
       "<IPython.core.display.Markdown object>"
      ]
     },
     "metadata": {},
     "output_type": "display_data"
    },
    {
     "data": {
      "text/html": [
       "<a id=\"Cooling_rates._mls.\"></a>"
      ],
      "text/plain": [
       "<IPython.core.display.HTML object>"
      ]
     },
     "metadata": {},
     "output_type": "display_data"
    },
    {
     "data": {
      "text/markdown": [
       "# Cooling rates. mls."
      ],
      "text/plain": [
       "<IPython.core.display.Markdown object>"
      ]
     },
     "metadata": {},
     "output_type": "display_data"
    },
    {
     "data": {
      "text/html": [
       "\n",
       "<div class=\"bk-root\">\n",
       "    <div class=\"bk-plotdiv\" id=\"6fb99eff-c27b-44df-925b-ace6593d78c4\"></div>\n",
       "</div>"
      ]
     },
     "metadata": {},
     "output_type": "display_data"
    },
    {
     "data": {
      "application/javascript": [
       "(function(root) {\n",
       "  function embed_document(root) {\n",
       "    \n",
       "  var docs_json = {\"0a93ef3b-374c-426e-bf46-3167f5837264\":{\"roots\":{\"references\":[{\"attributes\":{\"callback\":null,\"end\":0.01,\"start\":1020},\"id\":\"4415373b-9954-40f6-8111-3cc768718345\",\"type\":\"Range1d\"},{\"attributes\":{},\"id\":\"61d5dacb-7357-4dbc-b114-dfc75a5f115f\",\"type\":\"PanTool\"},{\"attributes\":{},\"id\":\"9a3eb3a6-aa75-4d7f-a2b7-fe7388cf637c\",\"type\":\"BasicTicker\"},{\"attributes\":{},\"id\":\"12f80b31-160d-4bcb-8886-0777e7ed1404\",\"type\":\"HelpTool\"},{\"attributes\":{\"items\":[{\"id\":\"cc8ef08a-070b-4f07-ac7c-f1c1d12364d5\",\"type\":\"LegendItem\"},{\"id\":\"5643f7a2-1bd3-4f84-9c55-d83dbe137821\",\"type\":\"LegendItem\"}],\"label_text_font_size\":{\"value\":\"8pt\"},\"location\":\"top_center\",\"orientation\":\"horizontal\",\"plot\":{\"id\":\"d2c151ef-88fc-439d-9919-352ff148b505\",\"subtype\":\"Figure\",\"type\":\"Plot\"}},\"id\":\"69e2186e-df29-4ff3-a68c-d09910526e8b\",\"type\":\"Legend\"},{\"attributes\":{},\"id\":\"d0cb5327-0827-4d2b-8980-4a63c4d04c1d\",\"type\":\"UnionRenderers\"},{\"attributes\":{\"active_drag\":\"auto\",\"active_inspect\":\"auto\",\"active_scroll\":\"auto\",\"active_tap\":\"auto\",\"tools\":[{\"id\":\"7f24492c-152b-4a91-b1a2-f893260ab771\",\"type\":\"PanTool\"},{\"id\":\"a09fcda0-f723-476f-a619-fea6eb6b2b8c\",\"type\":\"WheelZoomTool\"},{\"id\":\"5c6ee93f-dd21-4585-b579-93c44a72743e\",\"type\":\"BoxZoomTool\"},{\"id\":\"5de90e54-33bc-4d1d-a27d-ef97393148d6\",\"type\":\"SaveTool\"},{\"id\":\"a98e44c2-1373-4c12-ba21-a3ab569a1f5d\",\"type\":\"ResetTool\"},{\"id\":\"855edf72-fc17-42ce-ad7e-b91aba3682b9\",\"type\":\"HelpTool\"}]},\"id\":\"d64c7449-5e24-4335-8cef-755c4e7c70fe\",\"type\":\"Toolbar\"},{\"attributes\":{\"callback\":null,\"end\":0.01,\"start\":1020},\"id\":\"3a0803c4-cf0b-48c8-a75f-dda105ad5904\",\"type\":\"Range1d\"},{\"attributes\":{},\"id\":\"1dbd7e38-5fc0-4ff8-bef7-f87712149f60\",\"type\":\"Selection\"},{\"attributes\":{},\"id\":\"e31a0a3b-dde2-49e7-9d8e-ecd87cd7e6ff\",\"type\":\"BasicTicker\"},{\"attributes\":{\"label\":{\"value\":\"CLIRAD (single-run)\"},\"renderers\":[{\"id\":\"e6bfbcd4-a727-4c15-9ac3-29fbbebaced5\",\"type\":\"GlyphRenderer\"}]},\"id\":\"cc8ef08a-070b-4f07-ac7c-f1c1d12364d5\",\"type\":\"LegendItem\"},{\"attributes\":{\"callback\":null,\"end\":13.587992067591857,\"start\":-0.33483515683786},\"id\":\"09faa7e2-1a03-4c9e-bfb1-a0103a43713f\",\"type\":\"Range1d\"},{\"attributes\":{\"dimension\":1,\"plot\":{\"id\":\"d2c151ef-88fc-439d-9919-352ff148b505\",\"subtype\":\"Figure\",\"type\":\"Plot\"},\"ticker\":{\"id\":\"9a3eb3a6-aa75-4d7f-a2b7-fe7388cf637c\",\"type\":\"BasicTicker\"}},\"id\":\"538672fc-c07d-45c1-893f-8cf590f14155\",\"type\":\"Grid\"},{\"attributes\":{},\"id\":\"ec5a5b17-e6d2-43c5-a156-04cf709115d2\",\"type\":\"LogScale\"},{\"attributes\":{\"overlay\":{\"id\":\"ee479c88-3b2f-41b3-be4d-ec51de80218f\",\"type\":\"BoxAnnotation\"}},\"id\":\"dd3c928f-0d05-4eb1-aeb9-9574937e91e3\",\"type\":\"BoxZoomTool\"},{\"attributes\":{\"fill_alpha\":{\"value\":0.1},\"fill_color\":{\"value\":\"#1f77b4\"},\"line_alpha\":{\"value\":0.1},\"line_color\":{\"value\":\"#1f77b4\"},\"x\":{\"field\":\"x\"},\"y\":{\"field\":\"y\"}},\"id\":\"818624cc-200c-4ea9-8b51-2842007d8729\",\"type\":\"Circle\"},{\"attributes\":{},\"id\":\"289975ef-0aec-4f6a-aef9-5c03e6b1b633\",\"type\":\"WheelZoomTool\"},{\"attributes\":{},\"id\":\"72bfd51f-70d7-44a3-93f9-3d3aed91f69d\",\"type\":\"LinearScale\"},{\"attributes\":{},\"id\":\"4c115d05-46a6-439e-af63-0e60c1658794\",\"type\":\"LinearScale\"},{\"attributes\":{\"active_drag\":\"auto\",\"active_inspect\":\"auto\",\"active_scroll\":\"auto\",\"active_tap\":\"auto\",\"tools\":[{\"id\":\"843b5653-5623-40a8-88dc-3bbe752f6caa\",\"type\":\"PanTool\"},{\"id\":\"54056dee-cf2f-4ed7-9e8c-f8e8bd52e586\",\"type\":\"WheelZoomTool\"},{\"id\":\"58228f02-946c-4f2d-a777-ade3b110c27c\",\"type\":\"BoxZoomTool\"},{\"id\":\"56161476-c0f1-4232-acb2-3853d07e680b\",\"type\":\"SaveTool\"},{\"id\":\"430623f5-bbaf-4bf6-875d-b5228630c595\",\"type\":\"ResetTool\"},{\"id\":\"73295d8a-421b-4eb4-845d-d0117d7074ca\",\"type\":\"HelpTool\"}]},\"id\":\"362f7716-2d3a-4908-bd64-8cba6bf3136a\",\"type\":\"Toolbar\"},{\"attributes\":{\"label\":{\"value\":\"CRD\"},\"renderers\":[{\"id\":\"9d05116e-7c50-47a2-818f-432849f9d405\",\"type\":\"GlyphRenderer\"},{\"id\":\"c7b25a1f-c240-4805-a6b9-b2f0a24c8f9d\",\"type\":\"GlyphRenderer\"}]},\"id\":\"5643f7a2-1bd3-4f84-9c55-d83dbe137821\",\"type\":\"LegendItem\"},{\"attributes\":{\"axis_label\":\"pressure [mb]\",\"formatter\":{\"id\":\"fc3835da-1dfd-4909-ab96-430a876e08d7\",\"type\":\"BasicTickFormatter\"},\"plot\":{\"id\":\"d2c151ef-88fc-439d-9919-352ff148b505\",\"subtype\":\"Figure\",\"type\":\"Plot\"},\"ticker\":{\"id\":\"9a3eb3a6-aa75-4d7f-a2b7-fe7388cf637c\",\"type\":\"BasicTicker\"}},\"id\":\"e1e269cc-8a4a-44af-bb39-f3bb2783e9d1\",\"type\":\"LinearAxis\"},{\"attributes\":{},\"id\":\"79a45cea-83c4-487c-bd83-2aa9a48c87e0\",\"type\":\"BasicTickFormatter\"},{\"attributes\":{},\"id\":\"82c3ed3c-f2ae-4c80-bca4-5b62909f866e\",\"type\":\"LogScale\"},{\"attributes\":{\"line_alpha\":0.6,\"line_color\":\"#377eb8\",\"line_dash\":[6],\"line_width\":5,\"x\":{\"field\":\"x\"},\"y\":{\"field\":\"y\"}},\"id\":\"d83f22ba-2c94-4c4a-8bd8-839df6597d84\",\"type\":\"Line\"},{\"attributes\":{},\"id\":\"35f5f624-5949-4d66-a1cf-986eb9f7bf3c\",\"type\":\"LinearScale\"},{\"attributes\":{\"plot\":{\"id\":\"d2c151ef-88fc-439d-9919-352ff148b505\",\"subtype\":\"Figure\",\"type\":\"Plot\"},\"ticker\":{\"id\":\"e31a0a3b-dde2-49e7-9d8e-ecd87cd7e6ff\",\"type\":\"BasicTicker\"}},\"id\":\"551fbdf1-8787-48fa-ad42-14742f47846d\",\"type\":\"Grid\"},{\"attributes\":{\"axis_label\":\"cooling rate [K/day]\",\"formatter\":{\"id\":\"16139382-b1f3-4169-b85d-79edc0c122e4\",\"type\":\"BasicTickFormatter\"},\"plot\":{\"id\":\"d2c151ef-88fc-439d-9919-352ff148b505\",\"subtype\":\"Figure\",\"type\":\"Plot\"},\"ticker\":{\"id\":\"e31a0a3b-dde2-49e7-9d8e-ecd87cd7e6ff\",\"type\":\"BasicTicker\"}},\"id\":\"5818697c-46b1-4f84-b45b-a477658b19d1\",\"type\":\"LinearAxis\"},{\"attributes\":{\"items\":[{\"id\":\"d5b96ae8-b346-4230-8920-93a1408614bb\",\"type\":\"LegendItem\"},{\"id\":\"63f5864a-6166-42d1-83fe-8f4a04d933ec\",\"type\":\"LegendItem\"}],\"label_text_font_size\":{\"value\":\"8pt\"},\"location\":\"top_center\",\"orientation\":\"horizontal\",\"plot\":{\"id\":\"32b09e44-960f-47d3-a3ff-7443de72f985\",\"subtype\":\"Figure\",\"type\":\"Plot\"}},\"id\":\"4ec11c5e-4ef3-4809-95dd-6706e449b606\",\"type\":\"Legend\"},{\"attributes\":{\"line_alpha\":0.1,\"line_color\":\"#1f77b4\",\"line_dash\":[6],\"line_width\":5,\"x\":{\"field\":\"x\"},\"y\":{\"field\":\"y\"}},\"id\":\"5c0e9e88-b1b9-4e16-8fa3-765214966858\",\"type\":\"Line\"},{\"attributes\":{\"data_source\":{\"id\":\"b26360c3-0ad1-4496-9e7d-38f33b825dd0\",\"type\":\"ColumnDataSource\"},\"glyph\":{\"id\":\"d83f22ba-2c94-4c4a-8bd8-839df6597d84\",\"type\":\"Line\"},\"hover_glyph\":null,\"muted_glyph\":null,\"nonselection_glyph\":{\"id\":\"5c0e9e88-b1b9-4e16-8fa3-765214966858\",\"type\":\"Line\"},\"selection_glyph\":null,\"view\":{\"id\":\"b12d9c46-6553-470e-a9c1-a8ced6fad1be\",\"type\":\"CDSView\"}},\"id\":\"efa0af7b-32d2-4f06-9060-8434ebb272b7\",\"type\":\"GlyphRenderer\"},{\"attributes\":{\"fill_alpha\":{\"value\":0.1},\"fill_color\":{\"value\":\"#1f77b4\"},\"line_alpha\":{\"value\":0.1},\"line_color\":{\"value\":\"#1f77b4\"},\"x\":{\"field\":\"x\"},\"y\":{\"field\":\"y\"}},\"id\":\"5d4b6e23-7f8f-4a65-9f67-0e24aa1ff8bb\",\"type\":\"Circle\"},{\"attributes\":{},\"id\":\"a09fcda0-f723-476f-a619-fea6eb6b2b8c\",\"type\":\"WheelZoomTool\"},{\"attributes\":{},\"id\":\"7f24492c-152b-4a91-b1a2-f893260ab771\",\"type\":\"PanTool\"},{\"attributes\":{\"active_drag\":\"auto\",\"active_inspect\":\"auto\",\"active_scroll\":\"auto\",\"active_tap\":\"auto\",\"tools\":[{\"id\":\"61d5dacb-7357-4dbc-b114-dfc75a5f115f\",\"type\":\"PanTool\"},{\"id\":\"289975ef-0aec-4f6a-aef9-5c03e6b1b633\",\"type\":\"WheelZoomTool\"},{\"id\":\"dd3c928f-0d05-4eb1-aeb9-9574937e91e3\",\"type\":\"BoxZoomTool\"},{\"id\":\"ad586d56-327e-4391-8e65-491fc20c9109\",\"type\":\"SaveTool\"},{\"id\":\"f90afaea-6dc7-4857-b246-b5bb86a14631\",\"type\":\"ResetTool\"},{\"id\":\"12f80b31-160d-4bcb-8886-0777e7ed1404\",\"type\":\"HelpTool\"}]},\"id\":\"2e41d329-bf90-445f-b84f-2c6daebbd9f3\",\"type\":\"Toolbar\"},{\"attributes\":{},\"id\":\"1fdc24e9-9339-4292-a61d-237aa07af2cb\",\"type\":\"UnionRenderers\"},{\"attributes\":{},\"id\":\"855edf72-fc17-42ce-ad7e-b91aba3682b9\",\"type\":\"HelpTool\"},{\"attributes\":{\"callback\":null,\"data\":{\"x\":{\"__ndarray__\":\"cm1sTMT3VEDEyvjosEJHQOKI6DjzCUNArgQWV9awPkB9Lm8XG3M4QEz+Qv6iYzNA7eV8HaPLLkCX1QHyTpMoQFBmYSYetiNAUB04GtGpH0AmFyVE5j8ZQJca9QPGqBNALJP+OOHHDEBNxaf7QF8AQKtislomWuw/cW2dcO6A9T/uJJvfPu0EQIaQLTI/JQ1AxGiII+PmEkCJvfVeuCsYQD6ZBhGbHB9AXQw69DTYJEAsubcwKucqQNuT9D5OmipAJyi3szEJJUBlNebh5WkgQDDcPHBr2xlArtlANXuQFEBdJadFHckQQI2Avh0ZsQtAjYiwt1rsBUCL0SDoVBgAQK6C0nEEjvc/CggLSme58T9sXU2orFPnP0v0JYz9Gdg/vT38vxYczD9nBQTe6kHHP1IhkEXJwKo/8OZnhCVAub+xtVgCpmqzP6DUpY6g0+k/PKK3T1h4+D8RTDjQc1EAQG/dAQs7TwJAQt2eHpPLAEBWEh074x//PyCap9ZSGf4/rEzaTySm/T+7aXhHRmr9P688KeqeNP0/ruZ4EemD/D8olrZcn9T7P0+vNc9hW/s/i9VVL+4P+z+0NzC24uz6P8731Kza8vo/xFf4SHzq+z+gYyHpvHb8P68ROkiFevw/BAjYdCga/D8AUp8VbW77P3JrF/nKmvo/qCQeGfq++T/dplwHJfn4P2G4p+Uva/g/OzZ0RqMZ+D8dmn/iar73P/OuA7Ka8PY/gaaeQHGn9T9hkyjAH1L0P3aZGhdAU/M/n8VP/g7P8j+90HxHNvfyPwhNBtgrqvk/\",\"dtype\":\"float64\",\"shape\":[75]},\"y\":{\"__ndarray__\":\"GhExyth1ND/Sv8nbtpRIP2vylNV0PVE/aTum7souWD/At0SJ8fVgPw3Iuahxymc/MSNhhJWvcD/bTfBN02d3P2zb5nxnaoA/CD5h5MAGhz8NmeH1TyaQP+zrCsc9p5Y/LbKd76fGnz/bLW5ISEmmPww9YvTcQq8/JV2OstnstT8Er5Y7M8G+P0c+r3jqkcU/5h99k6ZBzj88bCIzFzjVP4enV8oyxN0//yH99nXg5D8qOpLLf0jtP5kqGJXUifQ/c9cS8kHP/D+/DpwzojQEQIEmwoanVwxA4lgXt9HgE0BSSZ2AJuIbQAMJih9jjiNA5q4l5INuK0AwTKYKRj0zQNv5fmq8/DpAaCJseHrtQkB/+zpwzoxKQM3MzMzMeFJAZmZmZmZqWEAAAAAAAFxeQM3MzMzMJmJAmpmZmZkfZUBmZmZmZhhoQDMzMzMzEWtAAAAAAAAKbkBmZmZmZoFwQM3MzMzM/XFAMzMzMzN6c0CamZmZmfZ0QAAAAAAAc3ZAZmZmZmbvd0DNzMzMzGt5QDMzMzMz6HpAmpmZmZlkfEAAAAAAAOF9QGZmZmZmXX9AZmZmZuZsgECamZmZGSuBQM3MzMxM6YFAAAAAAICngkAzMzMzs2WDQGZmZmbmI4RAmpmZmRnihEDNzMzMTKCFQAAAAACAXoZAMzMzM7Mch0BmZmZm5tqHQJqZmZkZmYhAzczMzExXiUAAAAAAgBWKQDMzMzOz04pAZmZmZuaRi0CamZmZGVCMQM3MzMxMDo1AAAAAAIDMjUAzMzMzs4qOQGZmZmbmSI9A\",\"dtype\":\"float64\",\"shape\":[75]}},\"selected\":{\"id\":\"8b3e3e6a-aa17-4baa-a6f4-0b993e9876e5\",\"type\":\"Selection\"},\"selection_policy\":{\"id\":\"1fdc24e9-9339-4292-a61d-237aa07af2cb\",\"type\":\"UnionRenderers\"}},\"id\":\"fd2494fc-7aaf-401b-842b-3ad9ecebfebc\",\"type\":\"ColumnDataSource\"},{\"attributes\":{\"label\":{\"value\":\"CRD\"},\"renderers\":[{\"id\":\"4b3d5166-abed-41e7-b33a-4561e6d7bbb4\",\"type\":\"GlyphRenderer\"},{\"id\":\"f4f453d4-ff29-490a-98c0-ddb1d56797d1\",\"type\":\"GlyphRenderer\"}]},\"id\":\"63f5864a-6166-42d1-83fe-8f4a04d933ec\",\"type\":\"LegendItem\"},{\"attributes\":{\"source\":{\"id\":\"b26360c3-0ad1-4496-9e7d-38f33b825dd0\",\"type\":\"ColumnDataSource\"}},\"id\":\"b12d9c46-6553-470e-a9c1-a8ced6fad1be\",\"type\":\"CDSView\"},{\"attributes\":{\"num_minor_ticks\":10},\"id\":\"2843c825-1313-49da-9ccd-3a71eaab1c57\",\"type\":\"LogTicker\"},{\"attributes\":{\"plot\":{\"id\":\"aea9b307-e408-4ef0-ba25-0c2cd5fdd197\",\"subtype\":\"Figure\",\"type\":\"Plot\"},\"ticker\":{\"id\":\"7f088954-ebec-4d6f-80ba-ffd42dac99a1\",\"type\":\"BasicTicker\"}},\"id\":\"62fb773e-23ee-4088-b0bc-ab1113fff765\",\"type\":\"Grid\"},{\"attributes\":{\"data_source\":{\"id\":\"cf423291-d90a-426a-86b8-40ad55a144ef\",\"type\":\"ColumnDataSource\"},\"glyph\":{\"id\":\"fb48097a-0c80-49a7-a870-89abbfc3a87b\",\"type\":\"Circle\"},\"hover_glyph\":null,\"muted_glyph\":null,\"nonselection_glyph\":{\"id\":\"818624cc-200c-4ea9-8b51-2842007d8729\",\"type\":\"Circle\"},\"selection_glyph\":null,\"view\":{\"id\":\"817efc76-8405-44a2-aac8-3317cf1b6a58\",\"type\":\"CDSView\"}},\"id\":\"a30a7b72-df4a-49b4-b0b9-1338e0c11177\",\"type\":\"GlyphRenderer\"},{\"attributes\":{\"fill_alpha\":{\"value\":0.7},\"fill_color\":{\"value\":\"#4daf4a\"},\"line_alpha\":{\"value\":0.7},\"line_color\":{\"value\":\"#4daf4a\"},\"x\":{\"field\":\"x\"},\"y\":{\"field\":\"y\"}},\"id\":\"0a179067-71a0-4c1a-8a29-982225deffa7\",\"type\":\"Circle\"},{\"attributes\":{},\"id\":\"7f088954-ebec-4d6f-80ba-ffd42dac99a1\",\"type\":\"BasicTicker\"},{\"attributes\":{\"line_color\":\"#4daf4a\",\"line_width\":1.5,\"x\":{\"field\":\"x\"},\"y\":{\"field\":\"y\"}},\"id\":\"e5a4bd0e-0a7c-4c78-919b-5896a87073a5\",\"type\":\"Line\"},{\"attributes\":{\"callback\":null,\"data\":{\"x\":{\"__ndarray__\":\"zcbUSk4YRMC/t1RLLK8gwGgVoL8IdALAc2CvKYi+/D/WVGaYomIOQINDLNfHyQ5ATcn83NwdBEDjDoeRfSjlP6Tfcs8XtOm/XgX4iCfY9b+PLllCI4zxv5TUqz5qMt+/QAV5OtRxsD94dWBXha7ZP8s7cbrqId8/tHfa2I021D/WrP38Z0yhP7qXnRpUt9C/jJpA4nk24L+GQcwnTangvx+q+rEpAdK/YCpV0rAKf7/6SkNcm7erv9qulEq35dO/IL+KYvVf178vB2bNqmWxv3ge6ffHfNg/UYVujm1M1z8fTZ/eStC3P/el+nP5iZc/d0yJW3Td0D/Qyl4ZdpnVP72KkmMYvcM/U4vC2HT0nL+30tlLbQVzP67JoZwkca4/YjAXfRfEfj+3GE+cJeqrv55qzCqo3ra/CNACqw6Gub/Lzryy0OW1v3CWnR0RirC/fCH3lL03r790OO8tH0Gdv+C6ZE327ba/BI1vAb+ZuL8H8hkOEY2rv+ywHWND6a6/KByQS/e2s79kxtwCOOeyvy+5G51Pp6u/Dj2bIg2zor9AMUjjQV6Yv+tSf9+W5JS/1vhJGZ+nlL8OV5NUG12Zv4zH8GxYWZu/nWXRqPq9k7/I/+lrNaJWPz6raLO3gqA/+dqfno5trD+mc/ksGu2tP3Iw9W9ufqU/ln1uoZnSlT/gYVf+sHFaP8DNw9d/J0I/3myhCAKUgT96L1QXU12eP4RfxiHWc6g/4xbvBFGwrz/ydex8TB+yP3YKkvhFW7M/Vg5TMCEltD+MCiXwn9e0P8lQ/rZzVrQ/\",\"dtype\":\"float64\",\"shape\":[75]},\"y\":{\"__ndarray__\":\"GhExyth1ND/Sv8nbtpRIP2vylNV0PVE/aTum7souWD/At0SJ8fVgPw3Iuahxymc/MSNhhJWvcD/bTfBN02d3P2zb5nxnaoA/CD5h5MAGhz8NmeH1TyaQP+zrCsc9p5Y/LbKd76fGnz/bLW5ISEmmPww9YvTcQq8/JV2OstnstT8Er5Y7M8G+P0c+r3jqkcU/5h99k6ZBzj88bCIzFzjVP4enV8oyxN0//yH99nXg5D8qOpLLf0jtP5kqGJXUifQ/c9cS8kHP/D+/DpwzojQEQIEmwoanVwxA4lgXt9HgE0BSSZ2AJuIbQAMJih9jjiNA5q4l5INuK0AwTKYKRj0zQNv5fmq8/DpAaCJseHrtQkB/+zpwzoxKQM3MzMzMeFJAZmZmZmZqWEAAAAAAAFxeQM3MzMzMJmJAmpmZmZkfZUBmZmZmZhhoQDMzMzMzEWtAAAAAAAAKbkBmZmZmZoFwQM3MzMzM/XFAMzMzMzN6c0CamZmZmfZ0QAAAAAAAc3ZAZmZmZmbvd0DNzMzMzGt5QDMzMzMz6HpAmpmZmZlkfEAAAAAAAOF9QGZmZmZmXX9AZmZmZuZsgECamZmZGSuBQM3MzMxM6YFAAAAAAICngkAzMzMzs2WDQGZmZmbmI4RAmpmZmRnihEDNzMzMTKCFQAAAAACAXoZAMzMzM7Mch0BmZmZm5tqHQJqZmZkZmYhAzczMzExXiUAAAAAAgBWKQDMzMzOz04pAZmZmZuaRi0CamZmZGVCMQM3MzMxMDo1AAAAAAIDMjUAzMzMzs4qOQGZmZmbmSI9A\",\"dtype\":\"float64\",\"shape\":[75]}},\"selected\":{\"id\":\"1dbd7e38-5fc0-4ff8-bef7-f87712149f60\",\"type\":\"Selection\"},\"selection_policy\":{\"id\":\"5b0be783-441b-4fce-8dac-468e595b4a30\",\"type\":\"UnionRenderers\"}},\"id\":\"cf423291-d90a-426a-86b8-40ad55a144ef\",\"type\":\"ColumnDataSource\"},{\"attributes\":{\"callback\":null,\"data\":{\"x\":{\"__ndarray__\":\"cm1sTMT3VEDEyvjosEJHQOKI6DjzCUNArgQWV9awPkB9Lm8XG3M4QEz+Qv6iYzNA7eV8HaPLLkCX1QHyTpMoQFBmYSYetiNAUB04GtGpH0AmFyVE5j8ZQJca9QPGqBNALJP+OOHHDEBNxaf7QF8AQKtislomWuw/cW2dcO6A9T/uJJvfPu0EQIaQLTI/JQ1AxGiII+PmEkCJvfVeuCsYQD6ZBhGbHB9AXQw69DTYJEAsubcwKucqQNuT9D5OmipAJyi3szEJJUBlNebh5WkgQDDcPHBr2xlArtlANXuQFEBdJadFHckQQI2Avh0ZsQtAjYiwt1rsBUCL0SDoVBgAQK6C0nEEjvc/CggLSme58T9sXU2orFPnP0v0JYz9Gdg/vT38vxYczD9nBQTe6kHHP1IhkEXJwKo/8OZnhCVAub+xtVgCpmqzP6DUpY6g0+k/PKK3T1h4+D8RTDjQc1EAQG/dAQs7TwJAQt2eHpPLAEBWEh074x//PyCap9ZSGf4/rEzaTySm/T+7aXhHRmr9P688KeqeNP0/ruZ4EemD/D8olrZcn9T7P0+vNc9hW/s/i9VVL+4P+z+0NzC24uz6P8731Kza8vo/xFf4SHzq+z+gYyHpvHb8P68ROkiFevw/BAjYdCga/D8AUp8VbW77P3JrF/nKmvo/qCQeGfq++T/dplwHJfn4P2G4p+Uva/g/OzZ0RqMZ+D8dmn/iar73P/OuA7Ka8PY/gaaeQHGn9T9hkyjAH1L0P3aZGhdAU/M/n8VP/g7P8j+90HxHNvfyPwhNBtgrqvk/\",\"dtype\":\"float64\",\"shape\":[75]},\"y\":{\"__ndarray__\":\"GhExyth1ND/Sv8nbtpRIP2vylNV0PVE/aTum7souWD/At0SJ8fVgPw3Iuahxymc/MSNhhJWvcD/bTfBN02d3P2zb5nxnaoA/CD5h5MAGhz8NmeH1TyaQP+zrCsc9p5Y/LbKd76fGnz/bLW5ISEmmPww9YvTcQq8/JV2OstnstT8Er5Y7M8G+P0c+r3jqkcU/5h99k6ZBzj88bCIzFzjVP4enV8oyxN0//yH99nXg5D8qOpLLf0jtP5kqGJXUifQ/c9cS8kHP/D+/DpwzojQEQIEmwoanVwxA4lgXt9HgE0BSSZ2AJuIbQAMJih9jjiNA5q4l5INuK0AwTKYKRj0zQNv5fmq8/DpAaCJseHrtQkB/+zpwzoxKQM3MzMzMeFJAZmZmZmZqWEAAAAAAAFxeQM3MzMzMJmJAmpmZmZkfZUBmZmZmZhhoQDMzMzMzEWtAAAAAAAAKbkBmZmZmZoFwQM3MzMzM/XFAMzMzMzN6c0CamZmZmfZ0QAAAAAAAc3ZAZmZmZmbvd0DNzMzMzGt5QDMzMzMz6HpAmpmZmZlkfEAAAAAAAOF9QGZmZmZmXX9AZmZmZuZsgECamZmZGSuBQM3MzMxM6YFAAAAAAICngkAzMzMzs2WDQGZmZmbmI4RAmpmZmRnihEDNzMzMTKCFQAAAAACAXoZAMzMzM7Mch0BmZmZm5tqHQJqZmZkZmYhAzczMzExXiUAAAAAAgBWKQDMzMzOz04pAZmZmZuaRi0CamZmZGVCMQM3MzMxMDo1AAAAAAIDMjUAzMzMzs4qOQGZmZmbmSI9A\",\"dtype\":\"float64\",\"shape\":[75]}},\"selected\":{\"id\":\"7f79489d-138b-4cf9-a169-e9005b99144d\",\"type\":\"Selection\"},\"selection_policy\":{\"id\":\"617aaaea-c4ec-4e98-8e3a-cf17ab685705\",\"type\":\"UnionRenderers\"}},\"id\":\"118e4366-dec3-4a03-9d6e-db80a354b473\",\"type\":\"ColumnDataSource\"},{\"attributes\":{\"overlay\":{\"id\":\"6b39981f-6201-472c-9547-08992236303f\",\"type\":\"BoxAnnotation\"}},\"id\":\"5c6ee93f-dd21-4585-b579-93c44a72743e\",\"type\":\"BoxZoomTool\"},{\"attributes\":{},\"id\":\"5de90e54-33bc-4d1d-a27d-ef97393148d6\",\"type\":\"SaveTool\"},{\"attributes\":{\"bottom_units\":\"screen\",\"fill_alpha\":{\"value\":0.5},\"fill_color\":{\"value\":\"lightgrey\"},\"left_units\":\"screen\",\"level\":\"overlay\",\"line_alpha\":{\"value\":1.0},\"line_color\":{\"value\":\"black\"},\"line_dash\":[4,4],\"line_width\":{\"value\":2},\"plot\":null,\"render_mode\":\"css\",\"right_units\":\"screen\",\"top_units\":\"screen\"},\"id\":\"6b39981f-6201-472c-9547-08992236303f\",\"type\":\"BoxAnnotation\"},{\"attributes\":{\"fill_alpha\":{\"value\":0.7},\"fill_color\":{\"value\":\"#984ea3\"},\"line_alpha\":{\"value\":0.7},\"line_color\":{\"value\":\"#984ea3\"},\"x\":{\"field\":\"x\"},\"y\":{\"field\":\"y\"}},\"id\":\"fb48097a-0c80-49a7-a870-89abbfc3a87b\",\"type\":\"Circle\"},{\"attributes\":{\"line_alpha\":0.1,\"line_color\":\"#1f77b4\",\"line_width\":1.5,\"x\":{\"field\":\"x\"},\"y\":{\"field\":\"y\"}},\"id\":\"2843d7ad-ed9d-4018-b111-f2061e309ed5\",\"type\":\"Line\"},{\"attributes\":{\"axis_label\":\"pressure [mb]\",\"formatter\":{\"id\":\"8a57e6f2-1036-47fa-93ae-2e32062922ae\",\"type\":\"LogTickFormatter\"},\"plot\":{\"id\":\"aea9b307-e408-4ef0-ba25-0c2cd5fdd197\",\"subtype\":\"Figure\",\"type\":\"Plot\"},\"ticker\":{\"id\":\"2843c825-1313-49da-9ccd-3a71eaab1c57\",\"type\":\"LogTicker\"}},\"id\":\"68339722-7c80-4d1e-88e3-c83252e0ed87\",\"type\":\"LogAxis\"},{\"attributes\":{\"source\":{\"id\":\"fd2494fc-7aaf-401b-842b-3ad9ecebfebc\",\"type\":\"ColumnDataSource\"}},\"id\":\"6d581797-499d-4ba8-b7ee-c28cf1483285\",\"type\":\"CDSView\"},{\"attributes\":{\"line_alpha\":0.1,\"line_color\":\"#1f77b4\",\"line_dash\":[6],\"line_width\":5,\"x\":{\"field\":\"x\"},\"y\":{\"field\":\"y\"}},\"id\":\"9f4c1beb-5e0a-46a7-84a0-e29508f27219\",\"type\":\"Line\"},{\"attributes\":{\"children\":[{\"id\":\"9163c2c1-9e7e-462b-b473-8d18a1083cd1\",\"type\":\"Row\"}]},\"id\":\"30f6d957-516d-48bd-aa66-8645a2a24887\",\"type\":\"Column\"},{\"attributes\":{},\"id\":\"d8f5bcf4-10a6-4cf6-97fc-272b0187fd78\",\"type\":\"Selection\"},{\"attributes\":{\"data_source\":{\"id\":\"fd2494fc-7aaf-401b-842b-3ad9ecebfebc\",\"type\":\"ColumnDataSource\"},\"glyph\":{\"id\":\"0a179067-71a0-4c1a-8a29-982225deffa7\",\"type\":\"Circle\"},\"hover_glyph\":null,\"muted_glyph\":null,\"nonselection_glyph\":{\"id\":\"5d4b6e23-7f8f-4a65-9f67-0e24aa1ff8bb\",\"type\":\"Circle\"},\"selection_glyph\":null,\"view\":{\"id\":\"6d581797-499d-4ba8-b7ee-c28cf1483285\",\"type\":\"CDSView\"}},\"id\":\"4b3d5166-abed-41e7-b33a-4561e6d7bbb4\",\"type\":\"GlyphRenderer\"},{\"attributes\":{\"dimension\":1,\"plot\":{\"id\":\"aea9b307-e408-4ef0-ba25-0c2cd5fdd197\",\"subtype\":\"Figure\",\"type\":\"Plot\"},\"ticker\":{\"id\":\"2843c825-1313-49da-9ccd-3a71eaab1c57\",\"type\":\"LogTicker\"}},\"id\":\"e1cee314-7cf7-4bc9-aa30-f476fcc7ba95\",\"type\":\"Grid\"},{\"attributes\":{\"callback\":null,\"end\":0.01,\"start\":1020},\"id\":\"503ab5c6-e293-41d2-a3e1-8610f1a0eeb5\",\"type\":\"Range1d\"},{\"attributes\":{\"children\":[{\"id\":\"a189d5fd-e108-4a66-a08a-219ec8d762ff\",\"type\":\"ToolbarBox\"},{\"id\":\"30f6d957-516d-48bd-aa66-8645a2a24887\",\"type\":\"Column\"}]},\"id\":\"c34e4040-4c20-47dc-b580-c3f5f7c94e13\",\"type\":\"Column\"},{\"attributes\":{\"data_source\":{\"id\":\"a8a38d07-1c75-409c-9cb3-bdf17c4dfd86\",\"type\":\"ColumnDataSource\"},\"glyph\":{\"id\":\"aebb08af-0c18-4cd0-b198-16524f8d7fda\",\"type\":\"Line\"},\"hover_glyph\":null,\"muted_glyph\":null,\"nonselection_glyph\":{\"id\":\"1ca62394-f219-4a6a-bbeb-2d8cd8043a19\",\"type\":\"Line\"},\"selection_glyph\":null,\"view\":{\"id\":\"3d007aa0-e583-45bc-84ae-66724769e5d7\",\"type\":\"CDSView\"}},\"id\":\"c7b25a1f-c240-4805-a6b9-b2f0a24c8f9d\",\"type\":\"GlyphRenderer\"},{\"attributes\":{},\"id\":\"fc3835da-1dfd-4909-ab96-430a876e08d7\",\"type\":\"BasicTickFormatter\"},{\"attributes\":{\"ticker\":null},\"id\":\"8a57e6f2-1036-47fa-93ae-2e32062922ae\",\"type\":\"LogTickFormatter\"},{\"attributes\":{},\"id\":\"430623f5-bbaf-4bf6-875d-b5228630c595\",\"type\":\"ResetTool\"},{\"attributes\":{\"source\":{\"id\":\"9156f01c-21fc-484c-bf7b-1fc7459ed5f8\",\"type\":\"ColumnDataSource\"}},\"id\":\"2e153e1f-f3a7-4274-85ad-61d419f26c92\",\"type\":\"CDSView\"},{\"attributes\":{\"fill_alpha\":{\"value\":0.7},\"fill_color\":{\"value\":\"#4daf4a\"},\"line_alpha\":{\"value\":0.7},\"line_color\":{\"value\":\"#4daf4a\"},\"x\":{\"field\":\"x\"},\"y\":{\"field\":\"y\"}},\"id\":\"35660b31-2d35-40be-9661-1e4710057a32\",\"type\":\"Circle\"},{\"attributes\":{},\"id\":\"617aaaea-c4ec-4e98-8e3a-cf17ab685705\",\"type\":\"UnionRenderers\"},{\"attributes\":{},\"id\":\"54056dee-cf2f-4ed7-9e8c-f8e8bd52e586\",\"type\":\"WheelZoomTool\"},{\"attributes\":{\"label\":{\"value\":\"CLIRAD (single-run) - CRD\"},\"renderers\":[{\"id\":\"a30a7b72-df4a-49b4-b0b9-1338e0c11177\",\"type\":\"GlyphRenderer\"},{\"id\":\"41244750-7447-4064-b891-b1f860e15439\",\"type\":\"GlyphRenderer\"}]},\"id\":\"73500005-4719-4049-ae3f-d4ce3d19011e\",\"type\":\"LegendItem\"},{\"attributes\":{},\"id\":\"efabf8c8-5de7-4f8e-9ca9-95d3a9a50319\",\"type\":\"UnionRenderers\"},{\"attributes\":{\"data_source\":{\"id\":\"118e4366-dec3-4a03-9d6e-db80a354b473\",\"type\":\"ColumnDataSource\"},\"glyph\":{\"id\":\"e5a4bd0e-0a7c-4c78-919b-5896a87073a5\",\"type\":\"Line\"},\"hover_glyph\":null,\"muted_glyph\":null,\"nonselection_glyph\":{\"id\":\"2843d7ad-ed9d-4018-b111-f2061e309ed5\",\"type\":\"Line\"},\"selection_glyph\":null,\"view\":{\"id\":\"8f496768-7bd4-460c-aaaa-c666a80dc2fb\",\"type\":\"CDSView\"}},\"id\":\"f4f453d4-ff29-490a-98c0-ddb1d56797d1\",\"type\":\"GlyphRenderer\"},{\"attributes\":{\"callback\":null,\"data\":{\"x\":{\"__ndarray__\":\"cm1sTMT3VEDEyvjosEJHQOKI6DjzCUNArgQWV9awPkB9Lm8XG3M4QEz+Qv6iYzNA7eV8HaPLLkCX1QHyTpMoQFBmYSYetiNAUB04GtGpH0AmFyVE5j8ZQJca9QPGqBNALJP+OOHHDEBNxaf7QF8AQKtislomWuw/cW2dcO6A9T/uJJvfPu0EQIaQLTI/JQ1AxGiII+PmEkCJvfVeuCsYQD6ZBhGbHB9AXQw69DTYJEAsubcwKucqQNuT9D5OmipAJyi3szEJJUBlNebh5WkgQDDcPHBr2xlArtlANXuQFEBdJadFHckQQI2Avh0ZsQtAjYiwt1rsBUCL0SDoVBgAQK6C0nEEjvc/CggLSme58T9sXU2orFPnP0v0JYz9Gdg/vT38vxYczD9nBQTe6kHHP1IhkEXJwKo/8OZnhCVAub+xtVgCpmqzP6DUpY6g0+k/PKK3T1h4+D8RTDjQc1EAQG/dAQs7TwJAQt2eHpPLAEBWEh074x//PyCap9ZSGf4/rEzaTySm/T+7aXhHRmr9P688KeqeNP0/ruZ4EemD/D8olrZcn9T7P0+vNc9hW/s/i9VVL+4P+z+0NzC24uz6P8731Kza8vo/xFf4SHzq+z+gYyHpvHb8P68ROkiFevw/BAjYdCga/D8AUp8VbW77P3JrF/nKmvo/qCQeGfq++T/dplwHJfn4P2G4p+Uva/g/OzZ0RqMZ+D8dmn/iar73P/OuA7Ka8PY/gaaeQHGn9T9hkyjAH1L0P3aZGhdAU/M/n8VP/g7P8j+90HxHNvfyPwhNBtgrqvk/\",\"dtype\":\"float64\",\"shape\":[75]},\"y\":{\"__ndarray__\":\"GhExyth1ND/Sv8nbtpRIP2vylNV0PVE/aTum7souWD/At0SJ8fVgPw3Iuahxymc/MSNhhJWvcD/bTfBN02d3P2zb5nxnaoA/CD5h5MAGhz8NmeH1TyaQP+zrCsc9p5Y/LbKd76fGnz/bLW5ISEmmPww9YvTcQq8/JV2OstnstT8Er5Y7M8G+P0c+r3jqkcU/5h99k6ZBzj88bCIzFzjVP4enV8oyxN0//yH99nXg5D8qOpLLf0jtP5kqGJXUifQ/c9cS8kHP/D+/DpwzojQEQIEmwoanVwxA4lgXt9HgE0BSSZ2AJuIbQAMJih9jjiNA5q4l5INuK0AwTKYKRj0zQNv5fmq8/DpAaCJseHrtQkB/+zpwzoxKQM3MzMzMeFJAZmZmZmZqWEAAAAAAAFxeQM3MzMzMJmJAmpmZmZkfZUBmZmZmZhhoQDMzMzMzEWtAAAAAAAAKbkBmZmZmZoFwQM3MzMzM/XFAMzMzMzN6c0CamZmZmfZ0QAAAAAAAc3ZAZmZmZmbvd0DNzMzMzGt5QDMzMzMz6HpAmpmZmZlkfEAAAAAAAOF9QGZmZmZmXX9AZmZmZuZsgECamZmZGSuBQM3MzMxM6YFAAAAAAICngkAzMzMzs2WDQGZmZmbmI4RAmpmZmRnihEDNzMzMTKCFQAAAAACAXoZAMzMzM7Mch0BmZmZm5tqHQJqZmZkZmYhAzczMzExXiUAAAAAAgBWKQDMzMzOz04pAZmZmZuaRi0CamZmZGVCMQM3MzMxMDo1AAAAAAIDMjUAzMzMzs4qOQGZmZmbmSI9A\",\"dtype\":\"float64\",\"shape\":[75]}},\"selected\":{\"id\":\"ac4eaebd-3c15-42d2-a632-7fe7199cf461\",\"type\":\"Selection\"},\"selection_policy\":{\"id\":\"91884fb2-daec-452a-8972-c092c94daf11\",\"type\":\"UnionRenderers\"}},\"id\":\"9156f01c-21fc-484c-bf7b-1fc7459ed5f8\",\"type\":\"ColumnDataSource\"},{\"attributes\":{},\"id\":\"84df0379-508a-4561-879c-cb880645c318\",\"type\":\"UnionRenderers\"},{\"attributes\":{},\"id\":\"15808e7d-8f4f-4f42-9a33-c1a66e433a7c\",\"type\":\"Selection\"},{\"attributes\":{\"ticker\":null},\"id\":\"9de3d976-3e42-4a7d-9f8e-920e5307558d\",\"type\":\"LogTickFormatter\"},{\"attributes\":{\"above\":[{\"id\":\"69e2186e-df29-4ff3-a68c-d09910526e8b\",\"type\":\"Legend\"}],\"below\":[{\"id\":\"5818697c-46b1-4f84-b45b-a477658b19d1\",\"type\":\"LinearAxis\"}],\"left\":[{\"id\":\"e1e269cc-8a4a-44af-bb39-f3bb2783e9d1\",\"type\":\"LinearAxis\"}],\"plot_width\":300,\"renderers\":[{\"id\":\"5818697c-46b1-4f84-b45b-a477658b19d1\",\"type\":\"LinearAxis\"},{\"id\":\"551fbdf1-8787-48fa-ad42-14742f47846d\",\"type\":\"Grid\"},{\"id\":\"e1e269cc-8a4a-44af-bb39-f3bb2783e9d1\",\"type\":\"LinearAxis\"},{\"id\":\"538672fc-c07d-45c1-893f-8cf590f14155\",\"type\":\"Grid\"},{\"id\":\"ee479c88-3b2f-41b3-be4d-ec51de80218f\",\"type\":\"BoxAnnotation\"},{\"id\":\"e6bfbcd4-a727-4c15-9ac3-29fbbebaced5\",\"type\":\"GlyphRenderer\"},{\"id\":\"9d05116e-7c50-47a2-818f-432849f9d405\",\"type\":\"GlyphRenderer\"},{\"id\":\"c7b25a1f-c240-4805-a6b9-b2f0a24c8f9d\",\"type\":\"GlyphRenderer\"},{\"id\":\"69e2186e-df29-4ff3-a68c-d09910526e8b\",\"type\":\"Legend\"}],\"title\":{\"id\":\"1698c141-36e6-4c99-be7f-7abdfd4e3e47\",\"type\":\"Title\"},\"toolbar\":{\"id\":\"2e41d329-bf90-445f-b84f-2c6daebbd9f3\",\"type\":\"Toolbar\"},\"toolbar_location\":null,\"x_range\":{\"id\":\"65efbc55-453c-48d4-9e82-4aae583a59b4\",\"type\":\"Range1d\"},\"x_scale\":{\"id\":\"4c115d05-46a6-439e-af63-0e60c1658794\",\"type\":\"LinearScale\"},\"y_range\":{\"id\":\"503ab5c6-e293-41d2-a3e1-8610f1a0eeb5\",\"type\":\"Range1d\"},\"y_scale\":{\"id\":\"35f5f624-5949-4d66-a1cf-986eb9f7bf3c\",\"type\":\"LinearScale\"}},\"id\":\"d2c151ef-88fc-439d-9919-352ff148b505\",\"subtype\":\"Figure\",\"type\":\"Plot\"},{\"attributes\":{},\"id\":\"56161476-c0f1-4232-acb2-3853d07e680b\",\"type\":\"SaveTool\"},{\"attributes\":{},\"id\":\"91e5c9c8-df48-4c6a-8eaf-a5866524113f\",\"type\":\"Selection\"},{\"attributes\":{\"above\":[{\"id\":\"4ec11c5e-4ef3-4809-95dd-6706e449b606\",\"type\":\"Legend\"}],\"below\":[{\"id\":\"e120e49d-e599-4ab9-aa96-e5513404dc99\",\"type\":\"LinearAxis\"}],\"left\":[{\"id\":\"5b90b322-e151-495d-88e7-05808e3f4bf9\",\"type\":\"LogAxis\"}],\"plot_width\":300,\"renderers\":[{\"id\":\"e120e49d-e599-4ab9-aa96-e5513404dc99\",\"type\":\"LinearAxis\"},{\"id\":\"d2896685-bb19-49b2-96f5-2e1ea8ef7d74\",\"type\":\"Grid\"},{\"id\":\"5b90b322-e151-495d-88e7-05808e3f4bf9\",\"type\":\"LogAxis\"},{\"id\":\"f49c3325-7a6a-4c98-91ca-1d935113f3a3\",\"type\":\"Grid\"},{\"id\":\"5574d117-9e81-40b8-9a77-da3b8a8c4fb8\",\"type\":\"BoxAnnotation\"},{\"id\":\"efa0af7b-32d2-4f06-9060-8434ebb272b7\",\"type\":\"GlyphRenderer\"},{\"id\":\"4b3d5166-abed-41e7-b33a-4561e6d7bbb4\",\"type\":\"GlyphRenderer\"},{\"id\":\"f4f453d4-ff29-490a-98c0-ddb1d56797d1\",\"type\":\"GlyphRenderer\"},{\"id\":\"4ec11c5e-4ef3-4809-95dd-6706e449b606\",\"type\":\"Legend\"}],\"title\":{\"id\":\"5646c74f-5eaf-45e1-ac2d-106480f690fa\",\"type\":\"Title\"},\"toolbar\":{\"id\":\"362f7716-2d3a-4908-bd64-8cba6bf3136a\",\"type\":\"Toolbar\"},\"toolbar_location\":null,\"x_range\":{\"id\":\"09faa7e2-1a03-4c9e-bfb1-a0103a43713f\",\"type\":\"Range1d\"},\"x_scale\":{\"id\":\"72bfd51f-70d7-44a3-93f9-3d3aed91f69d\",\"type\":\"LinearScale\"},\"y_range\":{\"id\":\"3a0803c4-cf0b-48c8-a75f-dda105ad5904\",\"type\":\"Range1d\"},\"y_scale\":{\"id\":\"82c3ed3c-f2ae-4c80-bca4-5b62909f866e\",\"type\":\"LogScale\"}},\"id\":\"32b09e44-960f-47d3-a3ff-7443de72f985\",\"subtype\":\"Figure\",\"type\":\"Plot\"},{\"attributes\":{},\"id\":\"8b3e3e6a-aa17-4baa-a6f4-0b993e9876e5\",\"type\":\"Selection\"},{\"attributes\":{\"bottom_units\":\"screen\",\"fill_alpha\":{\"value\":0.5},\"fill_color\":{\"value\":\"lightgrey\"},\"left_units\":\"screen\",\"level\":\"overlay\",\"line_alpha\":{\"value\":1.0},\"line_color\":{\"value\":\"black\"},\"line_dash\":[4,4],\"line_width\":{\"value\":2},\"plot\":null,\"render_mode\":\"css\",\"right_units\":\"screen\",\"top_units\":\"screen\"},\"id\":\"5574d117-9e81-40b8-9a77-da3b8a8c4fb8\",\"type\":\"BoxAnnotation\"},{\"attributes\":{},\"id\":\"5c06eba8-8c99-4ef9-b42b-396d9243d07e\",\"type\":\"LinearScale\"},{\"attributes\":{\"line_color\":\"#4daf4a\",\"line_width\":1.5,\"x\":{\"field\":\"x\"},\"y\":{\"field\":\"y\"}},\"id\":\"aebb08af-0c18-4cd0-b198-16524f8d7fda\",\"type\":\"Line\"},{\"attributes\":{\"callback\":null,\"end\":2.3135570711804605,\"start\":-0.22320708756646002},\"id\":\"65efbc55-453c-48d4-9e82-4aae583a59b4\",\"type\":\"Range1d\"},{\"attributes\":{},\"id\":\"16139382-b1f3-4169-b85d-79edc0c122e4\",\"type\":\"BasicTickFormatter\"},{\"attributes\":{\"data_source\":{\"id\":\"9156f01c-21fc-484c-bf7b-1fc7459ed5f8\",\"type\":\"ColumnDataSource\"},\"glyph\":{\"id\":\"35660b31-2d35-40be-9661-1e4710057a32\",\"type\":\"Circle\"},\"hover_glyph\":null,\"muted_glyph\":null,\"nonselection_glyph\":{\"id\":\"8ffd4301-393c-46bd-a777-3a3100a3c486\",\"type\":\"Circle\"},\"selection_glyph\":null,\"view\":{\"id\":\"2e153e1f-f3a7-4274-85ad-61d419f26c92\",\"type\":\"CDSView\"}},\"id\":\"9d05116e-7c50-47a2-818f-432849f9d405\",\"type\":\"GlyphRenderer\"},{\"attributes\":{\"line_alpha\":0.1,\"line_color\":\"#1f77b4\",\"line_width\":1.5,\"x\":{\"field\":\"x\"},\"y\":{\"field\":\"y\"}},\"id\":\"a8df9a13-ebbe-4898-bcdb-3025b991a70d\",\"type\":\"Line\"},{\"attributes\":{},\"id\":\"09265308-3216-43a3-9bf5-230efe301eed\",\"type\":\"BasicTickFormatter\"},{\"attributes\":{\"plot\":null,\"text\":\"\"},\"id\":\"1698c141-36e6-4c99-be7f-7abdfd4e3e47\",\"type\":\"Title\"},{\"attributes\":{\"source\":{\"id\":\"a8a38d07-1c75-409c-9cb3-bdf17c4dfd86\",\"type\":\"ColumnDataSource\"}},\"id\":\"3d007aa0-e583-45bc-84ae-66724769e5d7\",\"type\":\"CDSView\"},{\"attributes\":{\"plot\":null,\"text\":\"\"},\"id\":\"c3e5472b-6bc2-4a44-9677-f3cc9e714642\",\"type\":\"Title\"},{\"attributes\":{},\"id\":\"843b5653-5623-40a8-88dc-3bbe752f6caa\",\"type\":\"PanTool\"},{\"attributes\":{},\"id\":\"7f79489d-138b-4cf9-a169-e9005b99144d\",\"type\":\"Selection\"},{\"attributes\":{\"data_source\":{\"id\":\"6cdda18a-cdeb-43ec-990d-ea492f9f3459\",\"type\":\"ColumnDataSource\"},\"glyph\":{\"id\":\"8382cb53-0cbd-4250-8064-aa03f22ce571\",\"type\":\"Line\"},\"hover_glyph\":null,\"muted_glyph\":null,\"nonselection_glyph\":{\"id\":\"9f4c1beb-5e0a-46a7-84a0-e29508f27219\",\"type\":\"Line\"},\"selection_glyph\":null,\"view\":{\"id\":\"450e2653-7f67-440b-988a-ba2663670fd7\",\"type\":\"CDSView\"}},\"id\":\"e6bfbcd4-a727-4c15-9ac3-29fbbebaced5\",\"type\":\"GlyphRenderer\"},{\"attributes\":{\"children\":[{\"id\":\"d2c151ef-88fc-439d-9919-352ff148b505\",\"subtype\":\"Figure\",\"type\":\"Plot\"},{\"id\":\"32b09e44-960f-47d3-a3ff-7443de72f985\",\"subtype\":\"Figure\",\"type\":\"Plot\"},{\"id\":\"aea9b307-e408-4ef0-ba25-0c2cd5fdd197\",\"subtype\":\"Figure\",\"type\":\"Plot\"}]},\"id\":\"9163c2c1-9e7e-462b-b473-8d18a1083cd1\",\"type\":\"Row\"},{\"attributes\":{\"fill_alpha\":{\"value\":0.1},\"fill_color\":{\"value\":\"#1f77b4\"},\"line_alpha\":{\"value\":0.1},\"line_color\":{\"value\":\"#1f77b4\"},\"x\":{\"field\":\"x\"},\"y\":{\"field\":\"y\"}},\"id\":\"8ffd4301-393c-46bd-a777-3a3100a3c486\",\"type\":\"Circle\"},{\"attributes\":{\"toolbar\":{\"id\":\"83f541fa-db8a-4c4e-b870-9398cafb9c80\",\"type\":\"ProxyToolbar\"},\"toolbar_location\":\"above\"},\"id\":\"a189d5fd-e108-4a66-a08a-219ec8d762ff\",\"type\":\"ToolbarBox\"},{\"attributes\":{\"data_source\":{\"id\":\"febf1fe6-2748-46fc-b06b-5e515bdba73b\",\"type\":\"ColumnDataSource\"},\"glyph\":{\"id\":\"d00a53ef-da4e-495e-9efb-0eefe815a0de\",\"type\":\"Line\"},\"hover_glyph\":null,\"muted_glyph\":null,\"nonselection_glyph\":{\"id\":\"a8df9a13-ebbe-4898-bcdb-3025b991a70d\",\"type\":\"Line\"},\"selection_glyph\":null,\"view\":{\"id\":\"523fb983-bb83-4bb1-9a13-4bd74348f6a2\",\"type\":\"CDSView\"}},\"id\":\"41244750-7447-4064-b891-b1f860e15439\",\"type\":\"GlyphRenderer\"},{\"attributes\":{\"line_alpha\":0.1,\"line_color\":\"#1f77b4\",\"line_width\":1.5,\"x\":{\"field\":\"x\"},\"y\":{\"field\":\"y\"}},\"id\":\"1ca62394-f219-4a6a-bbeb-2d8cd8043a19\",\"type\":\"Line\"},{\"attributes\":{},\"id\":\"73295d8a-421b-4eb4-845d-d0117d7074ca\",\"type\":\"HelpTool\"},{\"attributes\":{\"callback\":null,\"data\":{\"x\":{\"__ndarray__\":\"cm1sTMT3VEDEyvjosEJHQOKI6DjzCUNArgQWV9awPkB9Lm8XG3M4QEz+Qv6iYzNA7eV8HaPLLkCX1QHyTpMoQFBmYSYetiNAUB04GtGpH0AmFyVE5j8ZQJca9QPGqBNALJP+OOHHDEBNxaf7QF8AQKtislomWuw/cW2dcO6A9T/uJJvfPu0EQIaQLTI/JQ1AxGiII+PmEkCJvfVeuCsYQD6ZBhGbHB9AXQw69DTYJEAsubcwKucqQNuT9D5OmipAJyi3szEJJUBlNebh5WkgQDDcPHBr2xlArtlANXuQFEBdJadFHckQQI2Avh0ZsQtAjYiwt1rsBUCL0SDoVBgAQK6C0nEEjvc/CggLSme58T9sXU2orFPnP0v0JYz9Gdg/vT38vxYczD9nBQTe6kHHP1IhkEXJwKo/8OZnhCVAub+xtVgCpmqzP6DUpY6g0+k/PKK3T1h4+D8RTDjQc1EAQG/dAQs7TwJAQt2eHpPLAEBWEh074x//PyCap9ZSGf4/rEzaTySm/T+7aXhHRmr9P688KeqeNP0/ruZ4EemD/D8olrZcn9T7P0+vNc9hW/s/i9VVL+4P+z+0NzC24uz6P8731Kza8vo/xFf4SHzq+z+gYyHpvHb8P68ROkiFevw/BAjYdCga/D8AUp8VbW77P3JrF/nKmvo/qCQeGfq++T/dplwHJfn4P2G4p+Uva/g/OzZ0RqMZ+D8dmn/iar73P/OuA7Ka8PY/gaaeQHGn9T9hkyjAH1L0P3aZGhdAU/M/n8VP/g7P8j+90HxHNvfyPwhNBtgrqvk/\",\"dtype\":\"float64\",\"shape\":[75]},\"y\":{\"__ndarray__\":\"GhExyth1ND/Sv8nbtpRIP2vylNV0PVE/aTum7souWD/At0SJ8fVgPw3Iuahxymc/MSNhhJWvcD/bTfBN02d3P2zb5nxnaoA/CD5h5MAGhz8NmeH1TyaQP+zrCsc9p5Y/LbKd76fGnz/bLW5ISEmmPww9YvTcQq8/JV2OstnstT8Er5Y7M8G+P0c+r3jqkcU/5h99k6ZBzj88bCIzFzjVP4enV8oyxN0//yH99nXg5D8qOpLLf0jtP5kqGJXUifQ/c9cS8kHP/D+/DpwzojQEQIEmwoanVwxA4lgXt9HgE0BSSZ2AJuIbQAMJih9jjiNA5q4l5INuK0AwTKYKRj0zQNv5fmq8/DpAaCJseHrtQkB/+zpwzoxKQM3MzMzMeFJAZmZmZmZqWEAAAAAAAFxeQM3MzMzMJmJAmpmZmZkfZUBmZmZmZhhoQDMzMzMzEWtAAAAAAAAKbkBmZmZmZoFwQM3MzMzM/XFAMzMzMzN6c0CamZmZmfZ0QAAAAAAAc3ZAZmZmZmbvd0DNzMzMzGt5QDMzMzMz6HpAmpmZmZlkfEAAAAAAAOF9QGZmZmZmXX9AZmZmZuZsgECamZmZGSuBQM3MzMxM6YFAAAAAAICngkAzMzMzs2WDQGZmZmbmI4RAmpmZmRnihEDNzMzMTKCFQAAAAACAXoZAMzMzM7Mch0BmZmZm5tqHQJqZmZkZmYhAzczMzExXiUAAAAAAgBWKQDMzMzOz04pAZmZmZuaRi0CamZmZGVCMQM3MzMxMDo1AAAAAAIDMjUAzMzMzs4qOQGZmZmbmSI9A\",\"dtype\":\"float64\",\"shape\":[75]}},\"selected\":{\"id\":\"15808e7d-8f4f-4f42-9a33-c1a66e433a7c\",\"type\":\"Selection\"},\"selection_policy\":{\"id\":\"39c6f976-8bc1-48ff-b503-ff4f5a6dbbdb\",\"type\":\"UnionRenderers\"}},\"id\":\"a8a38d07-1c75-409c-9cb3-bdf17c4dfd86\",\"type\":\"ColumnDataSource\"},{\"attributes\":{\"source\":{\"id\":\"febf1fe6-2748-46fc-b06b-5e515bdba73b\",\"type\":\"ColumnDataSource\"}},\"id\":\"523fb983-bb83-4bb1-9a13-4bd74348f6a2\",\"type\":\"CDSView\"},{\"attributes\":{\"plot\":null,\"text\":\"\"},\"id\":\"5646c74f-5eaf-45e1-ac2d-106480f690fa\",\"type\":\"Title\"},{\"attributes\":{\"tools\":[{\"id\":\"61d5dacb-7357-4dbc-b114-dfc75a5f115f\",\"type\":\"PanTool\"},{\"id\":\"289975ef-0aec-4f6a-aef9-5c03e6b1b633\",\"type\":\"WheelZoomTool\"},{\"id\":\"dd3c928f-0d05-4eb1-aeb9-9574937e91e3\",\"type\":\"BoxZoomTool\"},{\"id\":\"ad586d56-327e-4391-8e65-491fc20c9109\",\"type\":\"SaveTool\"},{\"id\":\"f90afaea-6dc7-4857-b246-b5bb86a14631\",\"type\":\"ResetTool\"},{\"id\":\"12f80b31-160d-4bcb-8886-0777e7ed1404\",\"type\":\"HelpTool\"},{\"id\":\"843b5653-5623-40a8-88dc-3bbe752f6caa\",\"type\":\"PanTool\"},{\"id\":\"54056dee-cf2f-4ed7-9e8c-f8e8bd52e586\",\"type\":\"WheelZoomTool\"},{\"id\":\"58228f02-946c-4f2d-a777-ade3b110c27c\",\"type\":\"BoxZoomTool\"},{\"id\":\"56161476-c0f1-4232-acb2-3853d07e680b\",\"type\":\"SaveTool\"},{\"id\":\"430623f5-bbaf-4bf6-875d-b5228630c595\",\"type\":\"ResetTool\"},{\"id\":\"73295d8a-421b-4eb4-845d-d0117d7074ca\",\"type\":\"HelpTool\"},{\"id\":\"7f24492c-152b-4a91-b1a2-f893260ab771\",\"type\":\"PanTool\"},{\"id\":\"a09fcda0-f723-476f-a619-fea6eb6b2b8c\",\"type\":\"WheelZoomTool\"},{\"id\":\"5c6ee93f-dd21-4585-b579-93c44a72743e\",\"type\":\"BoxZoomTool\"},{\"id\":\"5de90e54-33bc-4d1d-a27d-ef97393148d6\",\"type\":\"SaveTool\"},{\"id\":\"a98e44c2-1373-4c12-ba21-a3ab569a1f5d\",\"type\":\"ResetTool\"},{\"id\":\"855edf72-fc17-42ce-ad7e-b91aba3682b9\",\"type\":\"HelpTool\"}]},\"id\":\"83f541fa-db8a-4c4e-b870-9398cafb9c80\",\"type\":\"ProxyToolbar\"},{\"attributes\":{},\"id\":\"ac4eaebd-3c15-42d2-a632-7fe7199cf461\",\"type\":\"Selection\"},{\"attributes\":{},\"id\":\"39c6f976-8bc1-48ff-b503-ff4f5a6dbbdb\",\"type\":\"UnionRenderers\"},{\"attributes\":{},\"id\":\"5b0be783-441b-4fce-8dac-468e595b4a30\",\"type\":\"UnionRenderers\"},{\"attributes\":{\"axis_label\":\"cooling rate [K/day]\",\"formatter\":{\"id\":\"79a45cea-83c4-487c-bd83-2aa9a48c87e0\",\"type\":\"BasicTickFormatter\"},\"plot\":{\"id\":\"aea9b307-e408-4ef0-ba25-0c2cd5fdd197\",\"subtype\":\"Figure\",\"type\":\"Plot\"},\"ticker\":{\"id\":\"7f088954-ebec-4d6f-80ba-ffd42dac99a1\",\"type\":\"BasicTicker\"}},\"id\":\"afdfa101-d873-433e-bb89-c95ef542ab18\",\"type\":\"LinearAxis\"},{\"attributes\":{},\"id\":\"91884fb2-daec-452a-8972-c092c94daf11\",\"type\":\"UnionRenderers\"},{\"attributes\":{\"overlay\":{\"id\":\"5574d117-9e81-40b8-9a77-da3b8a8c4fb8\",\"type\":\"BoxAnnotation\"}},\"id\":\"58228f02-946c-4f2d-a777-ade3b110c27c\",\"type\":\"BoxZoomTool\"},{\"attributes\":{},\"id\":\"56a90d70-2ff7-4d4b-91fe-a2c5cb45786c\",\"type\":\"Selection\"},{\"attributes\":{\"source\":{\"id\":\"6cdda18a-cdeb-43ec-990d-ea492f9f3459\",\"type\":\"ColumnDataSource\"}},\"id\":\"450e2653-7f67-440b-988a-ba2663670fd7\",\"type\":\"CDSView\"},{\"attributes\":{\"line_alpha\":0.6,\"line_color\":\"#377eb8\",\"line_dash\":[6],\"line_width\":5,\"x\":{\"field\":\"x\"},\"y\":{\"field\":\"y\"}},\"id\":\"8382cb53-0cbd-4250-8064-aa03f22ce571\",\"type\":\"Line\"},{\"attributes\":{\"above\":[{\"id\":\"9ef14ac1-40a9-466e-babb-2a4b9d67ce11\",\"type\":\"Legend\"}],\"below\":[{\"id\":\"afdfa101-d873-433e-bb89-c95ef542ab18\",\"type\":\"LinearAxis\"}],\"left\":[{\"id\":\"68339722-7c80-4d1e-88e3-c83252e0ed87\",\"type\":\"LogAxis\"}],\"plot_width\":300,\"renderers\":[{\"id\":\"afdfa101-d873-433e-bb89-c95ef542ab18\",\"type\":\"LinearAxis\"},{\"id\":\"62fb773e-23ee-4088-b0bc-ab1113fff765\",\"type\":\"Grid\"},{\"id\":\"68339722-7c80-4d1e-88e3-c83252e0ed87\",\"type\":\"LogAxis\"},{\"id\":\"e1cee314-7cf7-4bc9-aa30-f476fcc7ba95\",\"type\":\"Grid\"},{\"id\":\"6b39981f-6201-472c-9547-08992236303f\",\"type\":\"BoxAnnotation\"},{\"id\":\"a30a7b72-df4a-49b4-b0b9-1338e0c11177\",\"type\":\"GlyphRenderer\"},{\"id\":\"41244750-7447-4064-b891-b1f860e15439\",\"type\":\"GlyphRenderer\"},{\"id\":\"9ef14ac1-40a9-466e-babb-2a4b9d67ce11\",\"type\":\"Legend\"}],\"title\":{\"id\":\"c3e5472b-6bc2-4a44-9677-f3cc9e714642\",\"type\":\"Title\"},\"toolbar\":{\"id\":\"d64c7449-5e24-4335-8cef-755c4e7c70fe\",\"type\":\"Toolbar\"},\"toolbar_location\":null,\"x_range\":{\"id\":\"d2d2d451-4e60-4224-b27e-985318ecfe4a\",\"type\":\"Range1d\"},\"x_scale\":{\"id\":\"5c06eba8-8c99-4ef9-b42b-396d9243d07e\",\"type\":\"LinearScale\"},\"y_range\":{\"id\":\"4415373b-9954-40f6-8111-3cc768718345\",\"type\":\"Range1d\"},\"y_scale\":{\"id\":\"ec5a5b17-e6d2-43c5-a156-04cf709115d2\",\"type\":\"LogScale\"}},\"id\":\"aea9b307-e408-4ef0-ba25-0c2cd5fdd197\",\"subtype\":\"Figure\",\"type\":\"Plot\"},{\"attributes\":{\"plot\":{\"id\":\"32b09e44-960f-47d3-a3ff-7443de72f985\",\"subtype\":\"Figure\",\"type\":\"Plot\"},\"ticker\":{\"id\":\"52ecb4df-2929-45fe-aba5-33c9d38b1b5b\",\"type\":\"BasicTicker\"}},\"id\":\"d2896685-bb19-49b2-96f5-2e1ea8ef7d74\",\"type\":\"Grid\"},{\"attributes\":{\"axis_label\":\"pressure [mb]\",\"formatter\":{\"id\":\"9de3d976-3e42-4a7d-9f8e-920e5307558d\",\"type\":\"LogTickFormatter\"},\"plot\":{\"id\":\"32b09e44-960f-47d3-a3ff-7443de72f985\",\"subtype\":\"Figure\",\"type\":\"Plot\"},\"ticker\":{\"id\":\"c5ef37e7-6eaa-4fd5-b03f-4b27c109411a\",\"type\":\"LogTicker\"}},\"id\":\"5b90b322-e151-495d-88e7-05808e3f4bf9\",\"type\":\"LogAxis\"},{\"attributes\":{\"callback\":null,\"end\":0.504962295764587,\"start\":-1.3837892505698874},\"id\":\"d2d2d451-4e60-4224-b27e-985318ecfe4a\",\"type\":\"Range1d\"},{\"attributes\":{\"source\":{\"id\":\"cf423291-d90a-426a-86b8-40ad55a144ef\",\"type\":\"ColumnDataSource\"}},\"id\":\"817efc76-8405-44a2-aac8-3317cf1b6a58\",\"type\":\"CDSView\"},{\"attributes\":{},\"id\":\"a98e44c2-1373-4c12-ba21-a3ab569a1f5d\",\"type\":\"ResetTool\"},{\"attributes\":{},\"id\":\"52ecb4df-2929-45fe-aba5-33c9d38b1b5b\",\"type\":\"BasicTicker\"},{\"attributes\":{},\"id\":\"f90afaea-6dc7-4857-b246-b5bb86a14631\",\"type\":\"ResetTool\"},{\"attributes\":{\"callback\":null,\"data\":{\"x\":{\"__ndarray__\":\"zcbUSk4YRMC/t1RLLK8gwGgVoL8IdALAc2CvKYi+/D/WVGaYomIOQINDLNfHyQ5ATcn83NwdBEDjDoeRfSjlP6Tfcs8XtOm/XgX4iCfY9b+PLllCI4zxv5TUqz5qMt+/QAV5OtRxsD94dWBXha7ZP8s7cbrqId8/tHfa2I021D/WrP38Z0yhP7qXnRpUt9C/jJpA4nk24L+GQcwnTangvx+q+rEpAdK/YCpV0rAKf7/6SkNcm7erv9qulEq35dO/IL+KYvVf178vB2bNqmWxv3ge6ffHfNg/UYVujm1M1z8fTZ/eStC3P/el+nP5iZc/d0yJW3Td0D/Qyl4ZdpnVP72KkmMYvcM/U4vC2HT0nL+30tlLbQVzP67JoZwkca4/YjAXfRfEfj+3GE+cJeqrv55qzCqo3ra/CNACqw6Gub/Lzryy0OW1v3CWnR0RirC/fCH3lL03r790OO8tH0Gdv+C6ZE327ba/BI1vAb+ZuL8H8hkOEY2rv+ywHWND6a6/KByQS/e2s79kxtwCOOeyvy+5G51Pp6u/Dj2bIg2zor9AMUjjQV6Yv+tSf9+W5JS/1vhJGZ+nlL8OV5NUG12Zv4zH8GxYWZu/nWXRqPq9k7/I/+lrNaJWPz6raLO3gqA/+dqfno5trD+mc/ksGu2tP3Iw9W9ufqU/ln1uoZnSlT/gYVf+sHFaP8DNw9d/J0I/3myhCAKUgT96L1QXU12eP4RfxiHWc6g/4xbvBFGwrz/ydex8TB+yP3YKkvhFW7M/Vg5TMCEltD+MCiXwn9e0P8lQ/rZzVrQ/\",\"dtype\":\"float64\",\"shape\":[75]},\"y\":{\"__ndarray__\":\"GhExyth1ND/Sv8nbtpRIP2vylNV0PVE/aTum7souWD/At0SJ8fVgPw3Iuahxymc/MSNhhJWvcD/bTfBN02d3P2zb5nxnaoA/CD5h5MAGhz8NmeH1TyaQP+zrCsc9p5Y/LbKd76fGnz/bLW5ISEmmPww9YvTcQq8/JV2OstnstT8Er5Y7M8G+P0c+r3jqkcU/5h99k6ZBzj88bCIzFzjVP4enV8oyxN0//yH99nXg5D8qOpLLf0jtP5kqGJXUifQ/c9cS8kHP/D+/DpwzojQEQIEmwoanVwxA4lgXt9HgE0BSSZ2AJuIbQAMJih9jjiNA5q4l5INuK0AwTKYKRj0zQNv5fmq8/DpAaCJseHrtQkB/+zpwzoxKQM3MzMzMeFJAZmZmZmZqWEAAAAAAAFxeQM3MzMzMJmJAmpmZmZkfZUBmZmZmZhhoQDMzMzMzEWtAAAAAAAAKbkBmZmZmZoFwQM3MzMzM/XFAMzMzMzN6c0CamZmZmfZ0QAAAAAAAc3ZAZmZmZmbvd0DNzMzMzGt5QDMzMzMz6HpAmpmZmZlkfEAAAAAAAOF9QGZmZmZmXX9AZmZmZuZsgECamZmZGSuBQM3MzMxM6YFAAAAAAICngkAzMzMzs2WDQGZmZmbmI4RAmpmZmRnihEDNzMzMTKCFQAAAAACAXoZAMzMzM7Mch0BmZmZm5tqHQJqZmZkZmYhAzczMzExXiUAAAAAAgBWKQDMzMzOz04pAZmZmZuaRi0CamZmZGVCMQM3MzMxMDo1AAAAAAIDMjUAzMzMzs4qOQGZmZmbmSI9A\",\"dtype\":\"float64\",\"shape\":[75]}},\"selected\":{\"id\":\"91e5c9c8-df48-4c6a-8eaf-a5866524113f\",\"type\":\"Selection\"},\"selection_policy\":{\"id\":\"d0cb5327-0827-4d2b-8980-4a63c4d04c1d\",\"type\":\"UnionRenderers\"}},\"id\":\"febf1fe6-2748-46fc-b06b-5e515bdba73b\",\"type\":\"ColumnDataSource\"},{\"attributes\":{},\"id\":\"ad586d56-327e-4391-8e65-491fc20c9109\",\"type\":\"SaveTool\"},{\"attributes\":{\"callback\":null,\"data\":{\"x\":{\"__ndarray__\":\"FRQETjrXRUDWnCPW5RZDQIyH7qyy4kFAWX3YbF8+QEAY+Xtqbz88QLyGKPnbPDdAIAxeKo3pMUCERhrL1uUpQFY4aqncGiJA9xv6N8czGkCCy45z3dwUQE5dCmCftRFAVlvS2m9LDUD705OmEZUDQEiA9duN9fU/XgvU5pGO+j+hG49/cDIFQI/d2a5UDgtAclVA5xPgEEBaNfy5jhYWQJvu5nWI/B1AucEfnlPUJEDhdVuVcssqQGPun4Qg+ylALdKiCDJOJEBZaUuMGkcgQBZuu+83YxtAAsInDkIFFkCRoiFxXigRQNp1phAt4AtAHLIhQwkICEDlqkyrg8sCQAfURH6nBfo/3P2ndpVF8T8TEeWCt3nnP4Qtuh8i6Ns/PvfkezcSzT85P/B2YUfAP+OzCBCH/KK/e1u1Fxpjyb+/yCCDVdmDv9Qh8mpewuc/MukPY5p+9z+gbdyR8RYAQJi3lljLlwFA2GCTJsUGAEDHQqyyekP+P5isjrsIIv0/6koh27Rq/D9VnUrH0jv8P+ZeQG1kV/w/xQxkqFDu+z9jdSlVJnP7PwOyt3PPB/s/pq3wsk+9+j9W6t1Ibof6P680IUt1hfo/LhJVXoSb+z8eXnx2ZXz8PwlX1QWb/vw/3QbN6ZT9/D+cHQfn1V38P/YUl2y+Rvs/nd6jf0QW+j+1PJxzwf/4P9uwotV0bfg/FXmFSss8+D/b6twu4Df4P+7hEWM5tPc/Nx/GyPOk9j+/WveHFHT1Px+6o3b0iPQ/g/ZUEWER9D9mIX9GsET0PxMydhOT7/o/\",\"dtype\":\"float64\",\"shape\":[75]},\"y\":{\"__ndarray__\":\"GhExyth1ND/Sv8nbtpRIP2vylNV0PVE/aTum7souWD/At0SJ8fVgPw3Iuahxymc/MSNhhJWvcD/bTfBN02d3P2zb5nxnaoA/CD5h5MAGhz8NmeH1TyaQP+zrCsc9p5Y/LbKd76fGnz/bLW5ISEmmPww9YvTcQq8/JV2OstnstT8Er5Y7M8G+P0c+r3jqkcU/5h99k6ZBzj88bCIzFzjVP4enV8oyxN0//yH99nXg5D8qOpLLf0jtP5kqGJXUifQ/c9cS8kHP/D+/DpwzojQEQIEmwoanVwxA4lgXt9HgE0BSSZ2AJuIbQAMJih9jjiNA5q4l5INuK0AwTKYKRj0zQNv5fmq8/DpAaCJseHrtQkB/+zpwzoxKQM3MzMzMeFJAZmZmZmZqWEAAAAAAAFxeQM3MzMzMJmJAmpmZmZkfZUBmZmZmZhhoQDMzMzMzEWtAAAAAAAAKbkBmZmZmZoFwQM3MzMzM/XFAMzMzMzN6c0CamZmZmfZ0QAAAAAAAc3ZAZmZmZmbvd0DNzMzMzGt5QDMzMzMz6HpAmpmZmZlkfEAAAAAAAOF9QGZmZmZmXX9AZmZmZuZsgECamZmZGSuBQM3MzMxM6YFAAAAAAICngkAzMzMzs2WDQGZmZmbmI4RAmpmZmRnihEDNzMzMTKCFQAAAAACAXoZAMzMzM7Mch0BmZmZm5tqHQJqZmZkZmYhAzczMzExXiUAAAAAAgBWKQDMzMzOz04pAZmZmZuaRi0CamZmZGVCMQM3MzMxMDo1AAAAAAIDMjUAzMzMzs4qOQGZmZmbmSI9A\",\"dtype\":\"float64\",\"shape\":[75]}},\"selected\":{\"id\":\"56a90d70-2ff7-4d4b-91fe-a2c5cb45786c\",\"type\":\"Selection\"},\"selection_policy\":{\"id\":\"84df0379-508a-4561-879c-cb880645c318\",\"type\":\"UnionRenderers\"}},\"id\":\"6cdda18a-cdeb-43ec-990d-ea492f9f3459\",\"type\":\"ColumnDataSource\"},{\"attributes\":{\"source\":{\"id\":\"118e4366-dec3-4a03-9d6e-db80a354b473\",\"type\":\"ColumnDataSource\"}},\"id\":\"8f496768-7bd4-460c-aaaa-c666a80dc2fb\",\"type\":\"CDSView\"},{\"attributes\":{\"items\":[{\"id\":\"73500005-4719-4049-ae3f-d4ce3d19011e\",\"type\":\"LegendItem\"}],\"label_text_font_size\":{\"value\":\"8pt\"},\"location\":\"top_center\",\"orientation\":\"horizontal\",\"plot\":{\"id\":\"aea9b307-e408-4ef0-ba25-0c2cd5fdd197\",\"subtype\":\"Figure\",\"type\":\"Plot\"}},\"id\":\"9ef14ac1-40a9-466e-babb-2a4b9d67ce11\",\"type\":\"Legend\"},{\"attributes\":{\"line_alpha\":0.8,\"line_color\":\"#984ea3\",\"line_width\":1.5,\"x\":{\"field\":\"x\"},\"y\":{\"field\":\"y\"}},\"id\":\"d00a53ef-da4e-495e-9efb-0eefe815a0de\",\"type\":\"Line\"},{\"attributes\":{\"axis_label\":\"cooling rate [K/day]\",\"formatter\":{\"id\":\"09265308-3216-43a3-9bf5-230efe301eed\",\"type\":\"BasicTickFormatter\"},\"plot\":{\"id\":\"32b09e44-960f-47d3-a3ff-7443de72f985\",\"subtype\":\"Figure\",\"type\":\"Plot\"},\"ticker\":{\"id\":\"52ecb4df-2929-45fe-aba5-33c9d38b1b5b\",\"type\":\"BasicTicker\"}},\"id\":\"e120e49d-e599-4ab9-aa96-e5513404dc99\",\"type\":\"LinearAxis\"},{\"attributes\":{\"num_minor_ticks\":10},\"id\":\"c5ef37e7-6eaa-4fd5-b03f-4b27c109411a\",\"type\":\"LogTicker\"},{\"attributes\":{\"bottom_units\":\"screen\",\"fill_alpha\":{\"value\":0.5},\"fill_color\":{\"value\":\"lightgrey\"},\"left_units\":\"screen\",\"level\":\"overlay\",\"line_alpha\":{\"value\":1.0},\"line_color\":{\"value\":\"black\"},\"line_dash\":[4,4],\"line_width\":{\"value\":2},\"plot\":null,\"render_mode\":\"css\",\"right_units\":\"screen\",\"top_units\":\"screen\"},\"id\":\"ee479c88-3b2f-41b3-be4d-ec51de80218f\",\"type\":\"BoxAnnotation\"},{\"attributes\":{\"label\":{\"value\":\"CLIRAD (single-run)\"},\"renderers\":[{\"id\":\"efa0af7b-32d2-4f06-9060-8434ebb272b7\",\"type\":\"GlyphRenderer\"}]},\"id\":\"d5b96ae8-b346-4230-8920-93a1408614bb\",\"type\":\"LegendItem\"},{\"attributes\":{\"dimension\":1,\"plot\":{\"id\":\"32b09e44-960f-47d3-a3ff-7443de72f985\",\"subtype\":\"Figure\",\"type\":\"Plot\"},\"ticker\":{\"id\":\"c5ef37e7-6eaa-4fd5-b03f-4b27c109411a\",\"type\":\"LogTicker\"}},\"id\":\"f49c3325-7a6a-4c98-91ca-1d935113f3a3\",\"type\":\"Grid\"},{\"attributes\":{\"callback\":null,\"data\":{\"x\":{\"__ndarray__\":\"FRQETjrXRUDWnCPW5RZDQIyH7qyy4kFAWX3YbF8+QEAY+Xtqbz88QLyGKPnbPDdAIAxeKo3pMUCERhrL1uUpQFY4aqncGiJA9xv6N8czGkCCy45z3dwUQE5dCmCftRFAVlvS2m9LDUD705OmEZUDQEiA9duN9fU/XgvU5pGO+j+hG49/cDIFQI/d2a5UDgtAclVA5xPgEEBaNfy5jhYWQJvu5nWI/B1AucEfnlPUJEDhdVuVcssqQGPun4Qg+ylALdKiCDJOJEBZaUuMGkcgQBZuu+83YxtAAsInDkIFFkCRoiFxXigRQNp1phAt4AtAHLIhQwkICEDlqkyrg8sCQAfURH6nBfo/3P2ndpVF8T8TEeWCt3nnP4Qtuh8i6Ns/PvfkezcSzT85P/B2YUfAP+OzCBCH/KK/e1u1Fxpjyb+/yCCDVdmDv9Qh8mpewuc/MukPY5p+9z+gbdyR8RYAQJi3lljLlwFA2GCTJsUGAEDHQqyyekP+P5isjrsIIv0/6koh27Rq/D9VnUrH0jv8P+ZeQG1kV/w/xQxkqFDu+z9jdSlVJnP7PwOyt3PPB/s/pq3wsk+9+j9W6t1Ibof6P680IUt1hfo/LhJVXoSb+z8eXnx2ZXz8PwlX1QWb/vw/3QbN6ZT9/D+cHQfn1V38P/YUl2y+Rvs/nd6jf0QW+j+1PJxzwf/4P9uwotV0bfg/FXmFSss8+D/b6twu4Df4P+7hEWM5tPc/Nx/GyPOk9j+/WveHFHT1Px+6o3b0iPQ/g/ZUEWER9D9mIX9GsET0PxMydhOT7/o/\",\"dtype\":\"float64\",\"shape\":[75]},\"y\":{\"__ndarray__\":\"GhExyth1ND/Sv8nbtpRIP2vylNV0PVE/aTum7souWD/At0SJ8fVgPw3Iuahxymc/MSNhhJWvcD/bTfBN02d3P2zb5nxnaoA/CD5h5MAGhz8NmeH1TyaQP+zrCsc9p5Y/LbKd76fGnz/bLW5ISEmmPww9YvTcQq8/JV2OstnstT8Er5Y7M8G+P0c+r3jqkcU/5h99k6ZBzj88bCIzFzjVP4enV8oyxN0//yH99nXg5D8qOpLLf0jtP5kqGJXUifQ/c9cS8kHP/D+/DpwzojQEQIEmwoanVwxA4lgXt9HgE0BSSZ2AJuIbQAMJih9jjiNA5q4l5INuK0AwTKYKRj0zQNv5fmq8/DpAaCJseHrtQkB/+zpwzoxKQM3MzMzMeFJAZmZmZmZqWEAAAAAAAFxeQM3MzMzMJmJAmpmZmZkfZUBmZmZmZhhoQDMzMzMzEWtAAAAAAAAKbkBmZmZmZoFwQM3MzMzM/XFAMzMzMzN6c0CamZmZmfZ0QAAAAAAAc3ZAZmZmZmbvd0DNzMzMzGt5QDMzMzMz6HpAmpmZmZlkfEAAAAAAAOF9QGZmZmZmXX9AZmZmZuZsgECamZmZGSuBQM3MzMxM6YFAAAAAAICngkAzMzMzs2WDQGZmZmbmI4RAmpmZmRnihEDNzMzMTKCFQAAAAACAXoZAMzMzM7Mch0BmZmZm5tqHQJqZmZkZmYhAzczMzExXiUAAAAAAgBWKQDMzMzOz04pAZmZmZuaRi0CamZmZGVCMQM3MzMxMDo1AAAAAAIDMjUAzMzMzs4qOQGZmZmbmSI9A\",\"dtype\":\"float64\",\"shape\":[75]}},\"selected\":{\"id\":\"d8f5bcf4-10a6-4cf6-97fc-272b0187fd78\",\"type\":\"Selection\"},\"selection_policy\":{\"id\":\"efabf8c8-5de7-4f8e-9ca9-95d3a9a50319\",\"type\":\"UnionRenderers\"}},\"id\":\"b26360c3-0ad1-4496-9e7d-38f33b825dd0\",\"type\":\"ColumnDataSource\"}],\"root_ids\":[\"c34e4040-4c20-47dc-b580-c3f5f7c94e13\"]},\"title\":\"Bokeh Application\",\"version\":\"0.12.16\"}};\n",
       "  var render_items = [{\"docid\":\"0a93ef3b-374c-426e-bf46-3167f5837264\",\"elementid\":\"6fb99eff-c27b-44df-925b-ace6593d78c4\",\"modelid\":\"c34e4040-4c20-47dc-b580-c3f5f7c94e13\"}];\n",
       "  root.Bokeh.embed.embed_items_notebook(docs_json, render_items);\n",
       "\n",
       "  }\n",
       "  if (root.Bokeh !== undefined) {\n",
       "    embed_document(root);\n",
       "  } else {\n",
       "    var attempts = 0;\n",
       "    var timer = setInterval(function(root) {\n",
       "      if (root.Bokeh !== undefined) {\n",
       "        embed_document(root);\n",
       "        clearInterval(timer);\n",
       "      }\n",
       "      attempts++;\n",
       "      if (attempts > 100) {\n",
       "        console.log(\"Bokeh: ERROR: Unable to run BokehJS code because BokehJS library is missing\")\n",
       "        clearInterval(timer);\n",
       "      }\n",
       "    }, 10, root)\n",
       "  }\n",
       "})(window);"
      ],
      "application/vnd.bokehjs_exec.v0+json": ""
     },
     "metadata": {
      "application/vnd.bokehjs_exec.v0+json": {
       "id": "c34e4040-4c20-47dc-b580-c3f5f7c94e13"
      }
     },
     "output_type": "display_data"
    },
    {
     "data": {
      "text/markdown": [
       "*FIGURE.* Cooling rates & difference."
      ],
      "text/plain": [
       "<IPython.core.display.Markdown object>"
      ]
     },
     "metadata": {},
     "output_type": "display_data"
    },
    {
     "data": {
      "text/html": [
       "<a id=\"Fluxes._mls.\"></a>"
      ],
      "text/plain": [
       "<IPython.core.display.HTML object>"
      ]
     },
     "metadata": {},
     "output_type": "display_data"
    },
    {
     "data": {
      "text/markdown": [
       "# Fluxes. mls."
      ],
      "text/plain": [
       "<IPython.core.display.Markdown object>"
      ]
     },
     "metadata": {},
     "output_type": "display_data"
    },
    {
     "data": {
      "text/html": [
       "\n",
       "<div class=\"bk-root\">\n",
       "    <div class=\"bk-plotdiv\" id=\"9d3e4ba0-207e-4cba-92bb-f9f5878bb823\"></div>\n",
       "</div>"
      ]
     },
     "metadata": {},
     "output_type": "display_data"
    },
    {
     "data": {
      "application/javascript": [
       "(function(root) {\n",
       "  function embed_document(root) {\n",
       "    \n",
       "  var docs_json = {\"c5291985-2dec-4ba8-9b88-7bc880dfea43\":{\"roots\":{\"references\":[{\"attributes\":{\"active_drag\":\"auto\",\"active_inspect\":\"auto\",\"active_scroll\":\"auto\",\"active_tap\":\"auto\",\"tools\":[{\"id\":\"28e5fbf8-1ec7-4529-af0c-9d2c1e2d3747\",\"type\":\"PanTool\"},{\"id\":\"05458b14-a2fb-456a-9efa-3206fbcf8535\",\"type\":\"WheelZoomTool\"},{\"id\":\"7d3bc572-2e65-4a45-8b4f-20ef892b07b7\",\"type\":\"BoxZoomTool\"},{\"id\":\"7a78845f-557f-45d8-b7d6-cd5d20e2dc82\",\"type\":\"SaveTool\"},{\"id\":\"726cec2c-6043-4e43-9de9-01cd59be9b46\",\"type\":\"ResetTool\"},{\"id\":\"b68ec3be-1b51-432d-8d18-300885d9b8b8\",\"type\":\"HelpTool\"}]},\"id\":\"550d1192-fcfe-4f01-8b3f-c4a397fdc36a\",\"type\":\"Toolbar\"},{\"attributes\":{\"callback\":null,\"data\":{\"band\":[\"1\",\"2\",\"3\",\"4\",\"5\",\"6\",\"7\",\"8\",\"9\",\"10\",\"11\"],\"flux\":{\"__ndarray__\":\"AIMde81dyD8AYEI3wVi1vwDYAox4/Ii/gF6tJMO7zj/APGNfsvHOvwAAiSZQxMK/gIzWUdUE1z8A5hw8E5qkP8AoB7MJMMi/QL8FwBXcvT+AeTwtP3CtPw==\",\"dtype\":\"float64\",\"shape\":[11]}},\"selected\":{\"id\":\"849c8980-7a6f-4e0b-b93e-5fa239c37868\",\"type\":\"Selection\"},\"selection_policy\":{\"id\":\"d286d75f-a228-41b6-9115-282d0ea920fe\",\"type\":\"UnionRenderers\"}},\"id\":\"b8826668-5bed-452c-8a20-ee208c9b6e42\",\"type\":\"ColumnDataSource\"},{\"attributes\":{},\"id\":\"726cec2c-6043-4e43-9de9-01cd59be9b46\",\"type\":\"ResetTool\"},{\"attributes\":{\"plot\":null,\"text\":\"SFC flux. CLIRAD (single-run) - CRD.\"},\"id\":\"1e7e7a18-6a6e-44dd-b8af-cece89e4809f\",\"type\":\"Title\"},{\"attributes\":{\"callback\":null,\"factors\":[\"1\",\"2\",\"3\",\"4\",\"5\",\"6\",\"7\",\"8\",\"9\",\"10\",\"11\"]},\"id\":\"452caf9b-0256-410c-afe2-ed98286b2371\",\"type\":\"FactorRange\"},{\"attributes\":{\"bottom_units\":\"screen\",\"fill_alpha\":{\"value\":0.5},\"fill_color\":{\"value\":\"lightgrey\"},\"left_units\":\"screen\",\"level\":\"overlay\",\"line_alpha\":{\"value\":1.0},\"line_color\":{\"value\":\"black\"},\"line_dash\":[4,4],\"line_width\":{\"value\":2},\"plot\":null,\"render_mode\":\"css\",\"right_units\":\"screen\",\"top_units\":\"screen\"},\"id\":\"98ea0f88-7cf5-4dfc-80d4-b66b897c3104\",\"type\":\"BoxAnnotation\"},{\"attributes\":{},\"id\":\"b68ec3be-1b51-432d-8d18-300885d9b8b8\",\"type\":\"HelpTool\"},{\"attributes\":{},\"id\":\"a2686654-55fe-4d9b-9913-34f992a78016\",\"type\":\"CategoricalScale\"},{\"attributes\":{\"callback\":null,\"data\":{\"band\":[\"1\",\"2\",\"3\",\"4\",\"5\",\"6\",\"7\",\"8\",\"9\",\"10\",\"11\"],\"flux\":{\"__ndarray__\":\"AEILCRhdyD+AzEHQ0arSP4APCkrRytO/QL3EWKZf0z8AelORCmPQPwBUa2EW2rG/ABjPoKF/2D8ASdv4E5W5vwDgfyvZsZG/YNQ5UPHJwD9A78EQ3sOwPw==\",\"dtype\":\"float64\",\"shape\":[11]}},\"selected\":{\"id\":\"ee98178b-fa74-480a-9b97-7a5a0cc91212\",\"type\":\"Selection\"},\"selection_policy\":{\"id\":\"fd10b6b7-f5e1-42a4-b226-671b8e743590\",\"type\":\"UnionRenderers\"}},\"id\":\"6e31fdc2-5a11-4317-bd23-69e8cb4ded24\",\"type\":\"ColumnDataSource\"},{\"attributes\":{\"active_drag\":\"auto\",\"active_inspect\":\"auto\",\"active_scroll\":\"auto\",\"active_tap\":\"auto\",\"tools\":[{\"id\":\"bef3786b-d76b-4151-b64c-0f6f494056c7\",\"type\":\"PanTool\"},{\"id\":\"bb7e763e-ae05-4f1d-b0de-df7f5a25dc28\",\"type\":\"WheelZoomTool\"},{\"id\":\"93a07db2-8e31-4587-8d51-f0d11d912921\",\"type\":\"BoxZoomTool\"},{\"id\":\"1f4cf325-d186-4d9e-b847-c200ab71f5f3\",\"type\":\"SaveTool\"},{\"id\":\"f1637624-086d-48e4-93ca-2ee94bb6e6b4\",\"type\":\"ResetTool\"},{\"id\":\"80807431-18dc-4d91-8192-572203a39c96\",\"type\":\"HelpTool\"}]},\"id\":\"510c4495-0ee9-4abe-8766-19c4fdce1813\",\"type\":\"Toolbar\"},{\"attributes\":{},\"id\":\"736a0aa2-8ecb-4420-98f0-ffe3af3af789\",\"type\":\"LinearScale\"},{\"attributes\":{\"callback\":null},\"id\":\"c738a97c-5405-4e7e-b3e7-32f1b30221cc\",\"type\":\"DataRange1d\"},{\"attributes\":{\"below\":[{\"id\":\"ddfaaf23-bca0-43bb-8729-d42ae7c203f3\",\"type\":\"CategoricalAxis\"}],\"left\":[{\"id\":\"52e388fd-cdde-4d4a-813b-bbe7e4e9717b\",\"type\":\"LinearAxis\"}],\"plot_height\":300,\"plot_width\":300,\"renderers\":[{\"id\":\"ddfaaf23-bca0-43bb-8729-d42ae7c203f3\",\"type\":\"CategoricalAxis\"},{\"id\":\"651a2840-18a2-41a3-820d-2f98b44865b8\",\"type\":\"Grid\"},{\"id\":\"52e388fd-cdde-4d4a-813b-bbe7e4e9717b\",\"type\":\"LinearAxis\"},{\"id\":\"f6d60e88-6f6a-4de5-aadc-666225c1e040\",\"type\":\"Grid\"},{\"id\":\"9a527421-7771-42dd-9153-1bb17d859f4f\",\"type\":\"BoxAnnotation\"},{\"id\":\"6277c49a-1d05-4fef-8f30-e401a624961d\",\"type\":\"GlyphRenderer\"}],\"title\":{\"id\":\"6035bd0a-b5a1-42b6-94f4-e1dade90a84c\",\"type\":\"Title\"},\"toolbar\":{\"id\":\"510c4495-0ee9-4abe-8766-19c4fdce1813\",\"type\":\"Toolbar\"},\"toolbar_location\":null,\"x_range\":{\"id\":\"452caf9b-0256-410c-afe2-ed98286b2371\",\"type\":\"FactorRange\"},\"x_scale\":{\"id\":\"29745297-7091-4352-be5e-cdd34dcf7926\",\"type\":\"CategoricalScale\"},\"y_range\":{\"id\":\"e82ab245-2cb8-4341-ae82-b8ac8a05b986\",\"type\":\"DataRange1d\"},\"y_scale\":{\"id\":\"4cf0a4f7-fa33-4e27-9e1b-43bb25d79d3a\",\"type\":\"LinearScale\"}},\"id\":\"ca7816d6-e853-40b7-99f2-de454caa5339\",\"subtype\":\"Figure\",\"type\":\"Plot\"},{\"attributes\":{\"plot\":null,\"text\":\"TOA flux. CLIRAD (single-run) - CRD.\"},\"id\":\"6035bd0a-b5a1-42b6-94f4-e1dade90a84c\",\"type\":\"Title\"},{\"attributes\":{},\"id\":\"b5e6eeb8-afb9-479c-b62c-0f24760ef0c5\",\"type\":\"CategoricalTicker\"},{\"attributes\":{\"callback\":null,\"factors\":[\"1\",\"2\",\"3\",\"4\",\"5\",\"6\",\"7\",\"8\",\"9\",\"10\",\"11\"]},\"id\":\"0730234a-cd94-4589-bd26-d0d01fc3774b\",\"type\":\"FactorRange\"},{\"attributes\":{\"below\":[{\"id\":\"e636caae-4545-45fe-8ddc-792b113f7147\",\"type\":\"CategoricalAxis\"}],\"left\":[{\"id\":\"765e13cb-1096-4ad8-afa2-04bed8503a17\",\"type\":\"LinearAxis\"}],\"plot_height\":300,\"plot_width\":300,\"renderers\":[{\"id\":\"e636caae-4545-45fe-8ddc-792b113f7147\",\"type\":\"CategoricalAxis\"},{\"id\":\"ebdf2d3f-0b3e-4004-9ed4-542d51c477a5\",\"type\":\"Grid\"},{\"id\":\"765e13cb-1096-4ad8-afa2-04bed8503a17\",\"type\":\"LinearAxis\"},{\"id\":\"5a6e734a-38e4-450a-a683-17afd216cfb3\",\"type\":\"Grid\"},{\"id\":\"98ea0f88-7cf5-4dfc-80d4-b66b897c3104\",\"type\":\"BoxAnnotation\"},{\"id\":\"09aa3746-27c2-4726-aa17-4a32144a416f\",\"type\":\"GlyphRenderer\"}],\"title\":{\"id\":\"1e7e7a18-6a6e-44dd-b8af-cece89e4809f\",\"type\":\"Title\"},\"toolbar\":{\"id\":\"550d1192-fcfe-4f01-8b3f-c4a397fdc36a\",\"type\":\"Toolbar\"},\"toolbar_location\":null,\"x_range\":{\"id\":\"0730234a-cd94-4589-bd26-d0d01fc3774b\",\"type\":\"FactorRange\"},\"x_scale\":{\"id\":\"a2686654-55fe-4d9b-9913-34f992a78016\",\"type\":\"CategoricalScale\"},\"y_range\":{\"id\":\"c738a97c-5405-4e7e-b3e7-32f1b30221cc\",\"type\":\"DataRange1d\"},\"y_scale\":{\"id\":\"736a0aa2-8ecb-4420-98f0-ffe3af3af789\",\"type\":\"LinearScale\"}},\"id\":\"4a44fa8f-fb75-4ce2-8c63-31c093a1c033\",\"subtype\":\"Figure\",\"type\":\"Plot\"},{\"attributes\":{},\"id\":\"9b9b689f-05a9-49ab-8f5d-5534da1c279d\",\"type\":\"CategoricalTickFormatter\"},{\"attributes\":{},\"id\":\"7a78845f-557f-45d8-b7d6-cd5d20e2dc82\",\"type\":\"SaveTool\"},{\"attributes\":{},\"id\":\"4f1b5606-e9ed-42d0-8eac-5eeb1e8f4da2\",\"type\":\"BasicTicker\"},{\"attributes\":{\"source\":{\"id\":\"6e31fdc2-5a11-4317-bd23-69e8cb4ded24\",\"type\":\"ColumnDataSource\"}},\"id\":\"c80725fb-30f7-41ea-854a-e4a16beca2c0\",\"type\":\"CDSView\"},{\"attributes\":{\"fill_alpha\":{\"value\":0.1},\"fill_color\":{\"value\":\"#1f77b4\"},\"line_alpha\":{\"value\":0.1},\"line_color\":{\"value\":\"#1f77b4\"},\"top\":{\"field\":\"flux\"},\"width\":{\"value\":0.9},\"x\":{\"field\":\"band\"}},\"id\":\"2d64c94e-9cff-4116-9b9e-f5670f207b01\",\"type\":\"VBar\"},{\"attributes\":{\"plot\":{\"id\":\"ca7816d6-e853-40b7-99f2-de454caa5339\",\"subtype\":\"Figure\",\"type\":\"Plot\"},\"ticker\":{\"id\":\"37740684-e33a-4093-9151-f15355ec8389\",\"type\":\"CategoricalTicker\"}},\"id\":\"651a2840-18a2-41a3-820d-2f98b44865b8\",\"type\":\"Grid\"},{\"attributes\":{\"source\":{\"id\":\"dde7daff-23d2-4ed9-acc9-a73f7eb80408\",\"type\":\"ColumnDataSource\"}},\"id\":\"61ab9009-e74d-47dd-a1bd-9398651a7f6d\",\"type\":\"CDSView\"},{\"attributes\":{},\"id\":\"a319d2a5-64c9-401e-bc11-b72aab42bbd2\",\"type\":\"BasicTickFormatter\"},{\"attributes\":{},\"id\":\"887d0503-87f8-4d04-ba90-f7ff0f69a2e7\",\"type\":\"BasicTicker\"},{\"attributes\":{},\"id\":\"80807431-18dc-4d91-8192-572203a39c96\",\"type\":\"HelpTool\"},{\"attributes\":{},\"id\":\"832edc27-ee9d-4099-b2f7-d7fe3f42e25a\",\"type\":\"CategoricalTickFormatter\"},{\"attributes\":{\"bottom_units\":\"screen\",\"fill_alpha\":{\"value\":0.5},\"fill_color\":{\"value\":\"lightgrey\"},\"left_units\":\"screen\",\"level\":\"overlay\",\"line_alpha\":{\"value\":1.0},\"line_color\":{\"value\":\"black\"},\"line_dash\":[4,4],\"line_width\":{\"value\":2},\"plot\":null,\"render_mode\":\"css\",\"right_units\":\"screen\",\"top_units\":\"screen\"},\"id\":\"9a527421-7771-42dd-9153-1bb17d859f4f\",\"type\":\"BoxAnnotation\"},{\"attributes\":{\"callback\":null},\"id\":\"660e137a-ef6e-4265-aac5-09e02793b5cc\",\"type\":\"DataRange1d\"},{\"attributes\":{},\"id\":\"8fde1aa4-202c-4ddc-a705-27d3165f51f0\",\"type\":\"BasicTickFormatter\"},{\"attributes\":{},\"id\":\"1f4cf325-d186-4d9e-b847-c200ab71f5f3\",\"type\":\"SaveTool\"},{\"attributes\":{\"axis_label\":\"flux (W m-2)\",\"formatter\":{\"id\":\"8fde1aa4-202c-4ddc-a705-27d3165f51f0\",\"type\":\"BasicTickFormatter\"},\"plot\":{\"id\":\"4a44fa8f-fb75-4ce2-8c63-31c093a1c033\",\"subtype\":\"Figure\",\"type\":\"Plot\"},\"ticker\":{\"id\":\"887d0503-87f8-4d04-ba90-f7ff0f69a2e7\",\"type\":\"BasicTicker\"}},\"id\":\"765e13cb-1096-4ad8-afa2-04bed8503a17\",\"type\":\"LinearAxis\"},{\"attributes\":{\"dimension\":1,\"plot\":{\"id\":\"ca7816d6-e853-40b7-99f2-de454caa5339\",\"subtype\":\"Figure\",\"type\":\"Plot\"},\"ticker\":{\"id\":\"cc69e7b7-df43-4fe1-8a85-3e031b7d0c79\",\"type\":\"BasicTicker\"}},\"id\":\"f6d60e88-6f6a-4de5-aadc-666225c1e040\",\"type\":\"Grid\"},{\"attributes\":{\"data_source\":{\"id\":\"dde7daff-23d2-4ed9-acc9-a73f7eb80408\",\"type\":\"ColumnDataSource\"},\"glyph\":{\"id\":\"8d284361-f633-4ee2-a1a9-bfdfb129788f\",\"type\":\"VBar\"},\"hover_glyph\":null,\"muted_glyph\":null,\"nonselection_glyph\":{\"id\":\"ea2b5924-68ef-4016-be89-a924e56bc832\",\"type\":\"VBar\"},\"selection_glyph\":null,\"view\":{\"id\":\"61ab9009-e74d-47dd-a1bd-9398651a7f6d\",\"type\":\"CDSView\"}},\"id\":\"09aa3746-27c2-4726-aa17-4a32144a416f\",\"type\":\"GlyphRenderer\"},{\"attributes\":{\"callback\":null,\"factors\":[\"1\",\"2\",\"3\",\"4\",\"5\",\"6\",\"7\",\"8\",\"9\",\"10\",\"11\"]},\"id\":\"d88e519b-eb1b-4940-a1c1-a4035e70a823\",\"type\":\"FactorRange\"},{\"attributes\":{\"dimension\":1,\"plot\":{\"id\":\"4a44fa8f-fb75-4ce2-8c63-31c093a1c033\",\"subtype\":\"Figure\",\"type\":\"Plot\"},\"ticker\":{\"id\":\"887d0503-87f8-4d04-ba90-f7ff0f69a2e7\",\"type\":\"BasicTicker\"}},\"id\":\"5a6e734a-38e4-450a-a683-17afd216cfb3\",\"type\":\"Grid\"},{\"attributes\":{},\"id\":\"ee98178b-fa74-480a-9b97-7a5a0cc91212\",\"type\":\"Selection\"},{\"attributes\":{},\"id\":\"53547643-e442-416c-8789-fc798e0a7f49\",\"type\":\"Selection\"},{\"attributes\":{\"axis_label\":\"flux (W m-2)\",\"formatter\":{\"id\":\"69633d0e-0e5f-446c-bae8-7e7f759f7096\",\"type\":\"BasicTickFormatter\"},\"plot\":{\"id\":\"1c472feb-2e2d-4cbc-a434-e148684698a4\",\"subtype\":\"Figure\",\"type\":\"Plot\"},\"ticker\":{\"id\":\"4f1b5606-e9ed-42d0-8eac-5eeb1e8f4da2\",\"type\":\"BasicTicker\"}},\"id\":\"3ec5b59a-ac1d-4620-b251-d95546fa353e\",\"type\":\"LinearAxis\"},{\"attributes\":{\"children\":[{\"id\":\"730f0482-f627-4664-9784-e8210dff93d9\",\"type\":\"Row\"}]},\"id\":\"087448ab-1f16-4e89-a6ae-ec5ec2814254\",\"type\":\"Column\"},{\"attributes\":{},\"id\":\"28e5fbf8-1ec7-4529-af0c-9d2c1e2d3747\",\"type\":\"PanTool\"},{\"attributes\":{\"overlay\":{\"id\":\"9a527421-7771-42dd-9153-1bb17d859f4f\",\"type\":\"BoxAnnotation\"}},\"id\":\"93a07db2-8e31-4587-8d51-f0d11d912921\",\"type\":\"BoxZoomTool\"},{\"attributes\":{\"fill_alpha\":{\"value\":0.1},\"fill_color\":{\"value\":\"#1f77b4\"},\"line_alpha\":{\"value\":0.1},\"line_color\":{\"value\":\"#1f77b4\"},\"top\":{\"field\":\"flux\"},\"width\":{\"value\":0.9},\"x\":{\"field\":\"band\"}},\"id\":\"ea2b5924-68ef-4016-be89-a924e56bc832\",\"type\":\"VBar\"},{\"attributes\":{\"toolbar\":{\"id\":\"7e014097-9993-4250-8c48-f1e7e71e8b7f\",\"type\":\"ProxyToolbar\"},\"toolbar_location\":\"above\"},\"id\":\"46e79cb8-fef7-4134-bb8b-ccaba10e3e78\",\"type\":\"ToolbarBox\"},{\"attributes\":{\"bottom_units\":\"screen\",\"fill_alpha\":{\"value\":0.5},\"fill_color\":{\"value\":\"lightgrey\"},\"left_units\":\"screen\",\"level\":\"overlay\",\"line_alpha\":{\"value\":1.0},\"line_color\":{\"value\":\"black\"},\"line_dash\":[4,4],\"line_width\":{\"value\":2},\"plot\":null,\"render_mode\":\"css\",\"right_units\":\"screen\",\"top_units\":\"screen\"},\"id\":\"32dac896-efeb-4b07-b663-58d446238d11\",\"type\":\"BoxAnnotation\"},{\"attributes\":{\"active_drag\":\"auto\",\"active_inspect\":\"auto\",\"active_scroll\":\"auto\",\"active_tap\":\"auto\",\"tools\":[{\"id\":\"3bd83108-9d98-4a12-af3f-cabd8792be2e\",\"type\":\"PanTool\"},{\"id\":\"840da42e-8e93-47c2-af78-ba3c8ac09439\",\"type\":\"WheelZoomTool\"},{\"id\":\"9fb6a0ec-9d3a-4591-9362-b4d0f27087e2\",\"type\":\"BoxZoomTool\"},{\"id\":\"9cbc06df-7214-49b0-931a-44ec3cb32566\",\"type\":\"SaveTool\"},{\"id\":\"4f68ffc9-4406-4e85-825f-b7c0d4c3ce3d\",\"type\":\"ResetTool\"},{\"id\":\"0b2ee6bc-305f-4626-8280-48783e514c55\",\"type\":\"HelpTool\"}]},\"id\":\"e102ac1f-6321-4a88-a476-14ad8e63644b\",\"type\":\"Toolbar\"},{\"attributes\":{},\"id\":\"bb7e763e-ae05-4f1d-b0de-df7f5a25dc28\",\"type\":\"WheelZoomTool\"},{\"attributes\":{\"below\":[{\"id\":\"2a3fb5a8-8b5e-4a9f-b45d-75fe62338b02\",\"type\":\"CategoricalAxis\"}],\"left\":[{\"id\":\"3ec5b59a-ac1d-4620-b251-d95546fa353e\",\"type\":\"LinearAxis\"}],\"plot_height\":300,\"plot_width\":300,\"renderers\":[{\"id\":\"2a3fb5a8-8b5e-4a9f-b45d-75fe62338b02\",\"type\":\"CategoricalAxis\"},{\"id\":\"fbbdaddc-9184-4959-b56f-7043c5a03408\",\"type\":\"Grid\"},{\"id\":\"3ec5b59a-ac1d-4620-b251-d95546fa353e\",\"type\":\"LinearAxis\"},{\"id\":\"643dfb17-f9c5-4677-9821-f3f8176b8710\",\"type\":\"Grid\"},{\"id\":\"32dac896-efeb-4b07-b663-58d446238d11\",\"type\":\"BoxAnnotation\"},{\"id\":\"f47fbc62-eb7e-4c74-995a-8e9d5c82f93d\",\"type\":\"GlyphRenderer\"}],\"title\":{\"id\":\"fec6eeef-19c3-41f1-aaf5-80a9437e06ba\",\"type\":\"Title\"},\"toolbar\":{\"id\":\"e102ac1f-6321-4a88-a476-14ad8e63644b\",\"type\":\"Toolbar\"},\"toolbar_location\":null,\"x_range\":{\"id\":\"d88e519b-eb1b-4940-a1c1-a4035e70a823\",\"type\":\"FactorRange\"},\"x_scale\":{\"id\":\"9d6c1da3-116e-4d58-84cc-448440f60087\",\"type\":\"CategoricalScale\"},\"y_range\":{\"id\":\"660e137a-ef6e-4265-aac5-09e02793b5cc\",\"type\":\"DataRange1d\"},\"y_scale\":{\"id\":\"65b3ad44-0aa8-4c04-bc15-0813bb029905\",\"type\":\"LinearScale\"}},\"id\":\"1c472feb-2e2d-4cbc-a434-e148684698a4\",\"subtype\":\"Figure\",\"type\":\"Plot\"},{\"attributes\":{\"dimension\":1,\"plot\":{\"id\":\"1c472feb-2e2d-4cbc-a434-e148684698a4\",\"subtype\":\"Figure\",\"type\":\"Plot\"},\"ticker\":{\"id\":\"4f1b5606-e9ed-42d0-8eac-5eeb1e8f4da2\",\"type\":\"BasicTicker\"}},\"id\":\"643dfb17-f9c5-4677-9821-f3f8176b8710\",\"type\":\"Grid\"},{\"attributes\":{\"tools\":[{\"id\":\"bef3786b-d76b-4151-b64c-0f6f494056c7\",\"type\":\"PanTool\"},{\"id\":\"bb7e763e-ae05-4f1d-b0de-df7f5a25dc28\",\"type\":\"WheelZoomTool\"},{\"id\":\"93a07db2-8e31-4587-8d51-f0d11d912921\",\"type\":\"BoxZoomTool\"},{\"id\":\"1f4cf325-d186-4d9e-b847-c200ab71f5f3\",\"type\":\"SaveTool\"},{\"id\":\"f1637624-086d-48e4-93ca-2ee94bb6e6b4\",\"type\":\"ResetTool\"},{\"id\":\"80807431-18dc-4d91-8192-572203a39c96\",\"type\":\"HelpTool\"},{\"id\":\"28e5fbf8-1ec7-4529-af0c-9d2c1e2d3747\",\"type\":\"PanTool\"},{\"id\":\"05458b14-a2fb-456a-9efa-3206fbcf8535\",\"type\":\"WheelZoomTool\"},{\"id\":\"7d3bc572-2e65-4a45-8b4f-20ef892b07b7\",\"type\":\"BoxZoomTool\"},{\"id\":\"7a78845f-557f-45d8-b7d6-cd5d20e2dc82\",\"type\":\"SaveTool\"},{\"id\":\"726cec2c-6043-4e43-9de9-01cd59be9b46\",\"type\":\"ResetTool\"},{\"id\":\"b68ec3be-1b51-432d-8d18-300885d9b8b8\",\"type\":\"HelpTool\"},{\"id\":\"3bd83108-9d98-4a12-af3f-cabd8792be2e\",\"type\":\"PanTool\"},{\"id\":\"840da42e-8e93-47c2-af78-ba3c8ac09439\",\"type\":\"WheelZoomTool\"},{\"id\":\"9fb6a0ec-9d3a-4591-9362-b4d0f27087e2\",\"type\":\"BoxZoomTool\"},{\"id\":\"9cbc06df-7214-49b0-931a-44ec3cb32566\",\"type\":\"SaveTool\"},{\"id\":\"4f68ffc9-4406-4e85-825f-b7c0d4c3ce3d\",\"type\":\"ResetTool\"},{\"id\":\"0b2ee6bc-305f-4626-8280-48783e514c55\",\"type\":\"HelpTool\"}]},\"id\":\"7e014097-9993-4250-8c48-f1e7e71e8b7f\",\"type\":\"ProxyToolbar\"},{\"attributes\":{},\"id\":\"29745297-7091-4352-be5e-cdd34dcf7926\",\"type\":\"CategoricalScale\"},{\"attributes\":{\"fill_color\":{\"value\":\"#1f77b4\"},\"line_color\":{\"value\":\"#1f77b4\"},\"top\":{\"field\":\"flux\"},\"width\":{\"value\":0.9},\"x\":{\"field\":\"band\"}},\"id\":\"73996314-2fda-451d-bc18-1475419d78d4\",\"type\":\"VBar\"},{\"attributes\":{},\"id\":\"0b2ee6bc-305f-4626-8280-48783e514c55\",\"type\":\"HelpTool\"},{\"attributes\":{\"callback\":null,\"data\":{\"band\":[\"1\",\"2\",\"3\",\"4\",\"5\",\"6\",\"7\",\"8\",\"9\",\"10\",\"11\"],\"flux\":{\"__ndarray__\":\"AAAAAyUF9r4AgsR29wDYPwCfjzLiAtO/AFBWDFcHsD8AYMsr19vfPwDchqzJrrM/AEwuIXqtlz9gN3gVCPHBvwBuhhvw+cU/AKBF71TAjT8ArDGNy12APw==\",\"dtype\":\"float64\",\"shape\":[11]}},\"selected\":{\"id\":\"53547643-e442-416c-8789-fc798e0a7f49\",\"type\":\"Selection\"},\"selection_policy\":{\"id\":\"d1405e08-2b4a-4748-8340-ff1d30405b82\",\"type\":\"UnionRenderers\"}},\"id\":\"dde7daff-23d2-4ed9-acc9-a73f7eb80408\",\"type\":\"ColumnDataSource\"},{\"attributes\":{},\"id\":\"4f68ffc9-4406-4e85-825f-b7c0d4c3ce3d\",\"type\":\"ResetTool\"},{\"attributes\":{},\"id\":\"37740684-e33a-4093-9151-f15355ec8389\",\"type\":\"CategoricalTicker\"},{\"attributes\":{\"fill_color\":{\"value\":\"#1f77b4\"},\"line_color\":{\"value\":\"#1f77b4\"},\"top\":{\"field\":\"flux\"},\"width\":{\"value\":0.9},\"x\":{\"field\":\"band\"}},\"id\":\"20ca899f-16b7-48ad-8e75-399004499db6\",\"type\":\"VBar\"},{\"attributes\":{},\"id\":\"3bd83108-9d98-4a12-af3f-cabd8792be2e\",\"type\":\"PanTool\"},{\"attributes\":{},\"id\":\"d1405e08-2b4a-4748-8340-ff1d30405b82\",\"type\":\"UnionRenderers\"},{\"attributes\":{\"plot\":{\"id\":\"1c472feb-2e2d-4cbc-a434-e148684698a4\",\"subtype\":\"Figure\",\"type\":\"Plot\"},\"ticker\":{\"id\":\"d5d018e6-ae76-4449-864c-c034e6f06714\",\"type\":\"CategoricalTicker\"}},\"id\":\"fbbdaddc-9184-4959-b56f-7043c5a03408\",\"type\":\"Grid\"},{\"attributes\":{\"source\":{\"id\":\"b8826668-5bed-452c-8a20-ee208c9b6e42\",\"type\":\"ColumnDataSource\"}},\"id\":\"9f4160bf-ca42-4181-ab09-53dcb2372272\",\"type\":\"CDSView\"},{\"attributes\":{},\"id\":\"9d6c1da3-116e-4d58-84cc-448440f60087\",\"type\":\"CategoricalScale\"},{\"attributes\":{\"fill_color\":{\"value\":\"#1f77b4\"},\"line_color\":{\"value\":\"#1f77b4\"},\"top\":{\"field\":\"flux\"},\"width\":{\"value\":0.9},\"x\":{\"field\":\"band\"}},\"id\":\"8d284361-f633-4ee2-a1a9-bfdfb129788f\",\"type\":\"VBar\"},{\"attributes\":{},\"id\":\"69633d0e-0e5f-446c-bae8-7e7f759f7096\",\"type\":\"BasicTickFormatter\"},{\"attributes\":{},\"id\":\"9cbc06df-7214-49b0-931a-44ec3cb32566\",\"type\":\"SaveTool\"},{\"attributes\":{\"children\":[{\"id\":\"46e79cb8-fef7-4134-bb8b-ccaba10e3e78\",\"type\":\"ToolbarBox\"},{\"id\":\"087448ab-1f16-4e89-a6ae-ec5ec2814254\",\"type\":\"Column\"}]},\"id\":\"ca2e23e1-f2a3-41e3-8c59-66057920d5ae\",\"type\":\"Column\"},{\"attributes\":{},\"id\":\"f1637624-086d-48e4-93ca-2ee94bb6e6b4\",\"type\":\"ResetTool\"},{\"attributes\":{\"fill_alpha\":{\"value\":0.1},\"fill_color\":{\"value\":\"#1f77b4\"},\"line_alpha\":{\"value\":0.1},\"line_color\":{\"value\":\"#1f77b4\"},\"top\":{\"field\":\"flux\"},\"width\":{\"value\":0.9},\"x\":{\"field\":\"band\"}},\"id\":\"fc382ba1-7595-479c-a168-4d325d4279da\",\"type\":\"VBar\"},{\"attributes\":{\"axis_label\":\"spectral band\",\"formatter\":{\"id\":\"832edc27-ee9d-4099-b2f7-d7fe3f42e25a\",\"type\":\"CategoricalTickFormatter\"},\"plot\":{\"id\":\"1c472feb-2e2d-4cbc-a434-e148684698a4\",\"subtype\":\"Figure\",\"type\":\"Plot\"},\"ticker\":{\"id\":\"d5d018e6-ae76-4449-864c-c034e6f06714\",\"type\":\"CategoricalTicker\"}},\"id\":\"2a3fb5a8-8b5e-4a9f-b45d-75fe62338b02\",\"type\":\"CategoricalAxis\"},{\"attributes\":{\"data_source\":{\"id\":\"b8826668-5bed-452c-8a20-ee208c9b6e42\",\"type\":\"ColumnDataSource\"},\"glyph\":{\"id\":\"20ca899f-16b7-48ad-8e75-399004499db6\",\"type\":\"VBar\"},\"hover_glyph\":null,\"muted_glyph\":null,\"nonselection_glyph\":{\"id\":\"2d64c94e-9cff-4116-9b9e-f5670f207b01\",\"type\":\"VBar\"},\"selection_glyph\":null,\"view\":{\"id\":\"9f4160bf-ca42-4181-ab09-53dcb2372272\",\"type\":\"CDSView\"}},\"id\":\"f47fbc62-eb7e-4c74-995a-8e9d5c82f93d\",\"type\":\"GlyphRenderer\"},{\"attributes\":{\"overlay\":{\"id\":\"98ea0f88-7cf5-4dfc-80d4-b66b897c3104\",\"type\":\"BoxAnnotation\"}},\"id\":\"7d3bc572-2e65-4a45-8b4f-20ef892b07b7\",\"type\":\"BoxZoomTool\"},{\"attributes\":{\"data_source\":{\"id\":\"6e31fdc2-5a11-4317-bd23-69e8cb4ded24\",\"type\":\"ColumnDataSource\"},\"glyph\":{\"id\":\"73996314-2fda-451d-bc18-1475419d78d4\",\"type\":\"VBar\"},\"hover_glyph\":null,\"muted_glyph\":null,\"nonselection_glyph\":{\"id\":\"fc382ba1-7595-479c-a168-4d325d4279da\",\"type\":\"VBar\"},\"selection_glyph\":null,\"view\":{\"id\":\"c80725fb-30f7-41ea-854a-e4a16beca2c0\",\"type\":\"CDSView\"}},\"id\":\"6277c49a-1d05-4fef-8f30-e401a624961d\",\"type\":\"GlyphRenderer\"},{\"attributes\":{},\"id\":\"a6f5e8ae-15d4-43a3-9831-053476d1af0f\",\"type\":\"CategoricalTickFormatter\"},{\"attributes\":{},\"id\":\"bef3786b-d76b-4151-b64c-0f6f494056c7\",\"type\":\"PanTool\"},{\"attributes\":{\"axis_label\":\"flux (W m-2)\",\"formatter\":{\"id\":\"a319d2a5-64c9-401e-bc11-b72aab42bbd2\",\"type\":\"BasicTickFormatter\"},\"plot\":{\"id\":\"ca7816d6-e853-40b7-99f2-de454caa5339\",\"subtype\":\"Figure\",\"type\":\"Plot\"},\"ticker\":{\"id\":\"cc69e7b7-df43-4fe1-8a85-3e031b7d0c79\",\"type\":\"BasicTicker\"}},\"id\":\"52e388fd-cdde-4d4a-813b-bbe7e4e9717b\",\"type\":\"LinearAxis\"},{\"attributes\":{\"children\":[{\"id\":\"ca7816d6-e853-40b7-99f2-de454caa5339\",\"subtype\":\"Figure\",\"type\":\"Plot\"},{\"id\":\"4a44fa8f-fb75-4ce2-8c63-31c093a1c033\",\"subtype\":\"Figure\",\"type\":\"Plot\"},{\"id\":\"1c472feb-2e2d-4cbc-a434-e148684698a4\",\"subtype\":\"Figure\",\"type\":\"Plot\"}]},\"id\":\"730f0482-f627-4664-9784-e8210dff93d9\",\"type\":\"Row\"},{\"attributes\":{\"axis_label\":\"spectral band\",\"formatter\":{\"id\":\"9b9b689f-05a9-49ab-8f5d-5534da1c279d\",\"type\":\"CategoricalTickFormatter\"},\"plot\":{\"id\":\"4a44fa8f-fb75-4ce2-8c63-31c093a1c033\",\"subtype\":\"Figure\",\"type\":\"Plot\"},\"ticker\":{\"id\":\"b5e6eeb8-afb9-479c-b62c-0f24760ef0c5\",\"type\":\"CategoricalTicker\"}},\"id\":\"e636caae-4545-45fe-8ddc-792b113f7147\",\"type\":\"CategoricalAxis\"},{\"attributes\":{},\"id\":\"05458b14-a2fb-456a-9efa-3206fbcf8535\",\"type\":\"WheelZoomTool\"},{\"attributes\":{\"callback\":null},\"id\":\"e82ab245-2cb8-4341-ae82-b8ac8a05b986\",\"type\":\"DataRange1d\"},{\"attributes\":{},\"id\":\"d286d75f-a228-41b6-9115-282d0ea920fe\",\"type\":\"UnionRenderers\"},{\"attributes\":{\"plot\":{\"id\":\"4a44fa8f-fb75-4ce2-8c63-31c093a1c033\",\"subtype\":\"Figure\",\"type\":\"Plot\"},\"ticker\":{\"id\":\"b5e6eeb8-afb9-479c-b62c-0f24760ef0c5\",\"type\":\"CategoricalTicker\"}},\"id\":\"ebdf2d3f-0b3e-4004-9ed4-542d51c477a5\",\"type\":\"Grid\"},{\"attributes\":{},\"id\":\"cc69e7b7-df43-4fe1-8a85-3e031b7d0c79\",\"type\":\"BasicTicker\"},{\"attributes\":{},\"id\":\"d5d018e6-ae76-4449-864c-c034e6f06714\",\"type\":\"CategoricalTicker\"},{\"attributes\":{},\"id\":\"65b3ad44-0aa8-4c04-bc15-0813bb029905\",\"type\":\"LinearScale\"},{\"attributes\":{\"overlay\":{\"id\":\"32dac896-efeb-4b07-b663-58d446238d11\",\"type\":\"BoxAnnotation\"}},\"id\":\"9fb6a0ec-9d3a-4591-9362-b4d0f27087e2\",\"type\":\"BoxZoomTool\"},{\"attributes\":{},\"id\":\"4cf0a4f7-fa33-4e27-9e1b-43bb25d79d3a\",\"type\":\"LinearScale\"},{\"attributes\":{\"plot\":null,\"text\":\"Atmosphere heating. CLIRAD (single-run) - CRD.\"},\"id\":\"fec6eeef-19c3-41f1-aaf5-80a9437e06ba\",\"type\":\"Title\"},{\"attributes\":{\"axis_label\":\"spectral band\",\"formatter\":{\"id\":\"a6f5e8ae-15d4-43a3-9831-053476d1af0f\",\"type\":\"CategoricalTickFormatter\"},\"plot\":{\"id\":\"ca7816d6-e853-40b7-99f2-de454caa5339\",\"subtype\":\"Figure\",\"type\":\"Plot\"},\"ticker\":{\"id\":\"37740684-e33a-4093-9151-f15355ec8389\",\"type\":\"CategoricalTicker\"}},\"id\":\"ddfaaf23-bca0-43bb-8729-d42ae7c203f3\",\"type\":\"CategoricalAxis\"},{\"attributes\":{},\"id\":\"849c8980-7a6f-4e0b-b93e-5fa239c37868\",\"type\":\"Selection\"},{\"attributes\":{},\"id\":\"fd10b6b7-f5e1-42a4-b226-671b8e743590\",\"type\":\"UnionRenderers\"},{\"attributes\":{},\"id\":\"840da42e-8e93-47c2-af78-ba3c8ac09439\",\"type\":\"WheelZoomTool\"}],\"root_ids\":[\"ca2e23e1-f2a3-41e3-8c59-66057920d5ae\"]},\"title\":\"Bokeh Application\",\"version\":\"0.12.16\"}};\n",
       "  var render_items = [{\"docid\":\"c5291985-2dec-4ba8-9b88-7bc880dfea43\",\"elementid\":\"9d3e4ba0-207e-4cba-92bb-f9f5878bb823\",\"modelid\":\"ca2e23e1-f2a3-41e3-8c59-66057920d5ae\"}];\n",
       "  root.Bokeh.embed.embed_items_notebook(docs_json, render_items);\n",
       "\n",
       "  }\n",
       "  if (root.Bokeh !== undefined) {\n",
       "    embed_document(root);\n",
       "  } else {\n",
       "    var attempts = 0;\n",
       "    var timer = setInterval(function(root) {\n",
       "      if (root.Bokeh !== undefined) {\n",
       "        embed_document(root);\n",
       "        clearInterval(timer);\n",
       "      }\n",
       "      attempts++;\n",
       "      if (attempts > 100) {\n",
       "        console.log(\"Bokeh: ERROR: Unable to run BokehJS code because BokehJS library is missing\")\n",
       "        clearInterval(timer);\n",
       "      }\n",
       "    }, 10, root)\n",
       "  }\n",
       "})(window);"
      ],
      "application/vnd.bokehjs_exec.v0+json": ""
     },
     "metadata": {
      "application/vnd.bokehjs_exec.v0+json": {
       "id": "ca2e23e1-f2a3-41e3-8c59-66057920d5ae"
      }
     },
     "output_type": "display_data"
    },
    {
     "data": {
      "text/markdown": [
       "*FIGURE.* Difference between CLIRAD and CRD in TOA, SFC and net atmosphere flux, in each spectral band."
      ],
      "text/plain": [
       "<IPython.core.display.Markdown object>"
      ]
     },
     "metadata": {},
     "output_type": "display_data"
    },
    {
     "data": {
      "text/html": [
       "<div>\n",
       "<style scoped>\n",
       "    .dataframe tbody tr th:only-of-type {\n",
       "        vertical-align: middle;\n",
       "    }\n",
       "\n",
       "    .dataframe tbody tr th {\n",
       "        vertical-align: top;\n",
       "    }\n",
       "\n",
       "    .dataframe thead th {\n",
       "        text-align: right;\n",
       "    }\n",
       "</style>\n",
       "<table border=\"1\" class=\"dataframe\">\n",
       "  <thead>\n",
       "    <tr style=\"text-align: right;\">\n",
       "      <th></th>\n",
       "      <th>OLR flux</th>\n",
       "      <th>SFC flux</th>\n",
       "      <th>ATM heating</th>\n",
       "    </tr>\n",
       "    <tr>\n",
       "      <th>Sum over bands</th>\n",
       "      <th></th>\n",
       "      <th></th>\n",
       "      <th></th>\n",
       "    </tr>\n",
       "  </thead>\n",
       "  <tbody>\n",
       "    <tr>\n",
       "      <th>CLIRAD (single-run) - CRD</th>\n",
       "      <td>1.12</td>\n",
       "      <td>0.79</td>\n",
       "      <td>0.33</td>\n",
       "    </tr>\n",
       "    <tr>\n",
       "      <th>CRD</th>\n",
       "      <td>-290.39</td>\n",
       "      <td>308.14</td>\n",
       "      <td>-174.89</td>\n",
       "    </tr>\n",
       "  </tbody>\n",
       "</table>\n",
       "</div>"
      ],
      "text/plain": [
       "                           OLR flux  SFC flux  ATM heating\n",
       "Sum over bands                                            \n",
       "CLIRAD (single-run) - CRD      1.12      0.79         0.33\n",
       "CRD                         -290.39    308.14      -174.89"
      ]
     },
     "metadata": {},
     "output_type": "display_data"
    },
    {
     "data": {
      "text/markdown": [
       "*TABLE.* Difference between CLIRAD and CRD in TOA, SFC and net atmosphere flux, over all spectral bands. CRD's TOA, SFC and net atmosphere flux, over all spectral bands."
      ],
      "text/plain": [
       "<IPython.core.display.Markdown object>"
      ]
     },
     "metadata": {},
     "output_type": "display_data"
    },
    {
     "data": {
      "text/html": [
       "<a id=\"Cooling_rates._saw.\"></a>"
      ],
      "text/plain": [
       "<IPython.core.display.HTML object>"
      ]
     },
     "metadata": {},
     "output_type": "display_data"
    },
    {
     "data": {
      "text/markdown": [
       "# Cooling rates. saw."
      ],
      "text/plain": [
       "<IPython.core.display.Markdown object>"
      ]
     },
     "metadata": {},
     "output_type": "display_data"
    },
    {
     "data": {
      "text/html": [
       "\n",
       "<div class=\"bk-root\">\n",
       "    <div class=\"bk-plotdiv\" id=\"2350aa3e-ea61-4df1-9986-b5013367947b\"></div>\n",
       "</div>"
      ]
     },
     "metadata": {},
     "output_type": "display_data"
    },
    {
     "data": {
      "application/javascript": [
       "(function(root) {\n",
       "  function embed_document(root) {\n",
       "    \n",
       "  var docs_json = {\"974f0152-9c8c-4fb6-abbb-8d6876059ddf\":{\"roots\":{\"references\":[{\"attributes\":{\"fill_alpha\":{\"value\":0.7},\"fill_color\":{\"value\":\"#4daf4a\"},\"line_alpha\":{\"value\":0.7},\"line_color\":{\"value\":\"#4daf4a\"},\"x\":{\"field\":\"x\"},\"y\":{\"field\":\"y\"}},\"id\":\"38fee95f-40ad-41fb-a789-248633bde890\",\"type\":\"Circle\"},{\"attributes\":{\"line_alpha\":0.1,\"line_color\":\"#1f77b4\",\"line_width\":1.5,\"x\":{\"field\":\"x\"},\"y\":{\"field\":\"y\"}},\"id\":\"8ae09613-5546-45c4-a284-c0b45c511c96\",\"type\":\"Line\"},{\"attributes\":{},\"id\":\"e7e3eba3-6ce4-4ae2-bbee-69a58896b45a\",\"type\":\"LogScale\"},{\"attributes\":{\"fill_alpha\":{\"value\":0.1},\"fill_color\":{\"value\":\"#1f77b4\"},\"line_alpha\":{\"value\":0.1},\"line_color\":{\"value\":\"#1f77b4\"},\"x\":{\"field\":\"x\"},\"y\":{\"field\":\"y\"}},\"id\":\"1cb9b360-ea1b-416e-b22c-d9c558a7e2fb\",\"type\":\"Circle\"},{\"attributes\":{\"label\":{\"value\":\"CLIRAD (single-run)\"},\"renderers\":[{\"id\":\"298b8196-ce26-46b7-a805-0b7378b53e53\",\"type\":\"GlyphRenderer\"}]},\"id\":\"291a416e-a577-4da3-b1ff-594b1c36bad9\",\"type\":\"LegendItem\"},{\"attributes\":{},\"id\":\"5e2cd352-6d43-4445-a82c-2c62319ffd25\",\"type\":\"UnionRenderers\"},{\"attributes\":{},\"id\":\"a3bb9f7c-b62a-4005-a2fb-a30a3c6fa3e9\",\"type\":\"SaveTool\"},{\"attributes\":{},\"id\":\"dd082b3b-5f79-4166-86c4-74f5a4064553\",\"type\":\"HelpTool\"},{\"attributes\":{\"above\":[{\"id\":\"4843a135-aeb0-4866-8123-d4702c9dfb89\",\"type\":\"Legend\"}],\"below\":[{\"id\":\"d3660500-ca5e-4dd8-b649-17b127610ee8\",\"type\":\"LinearAxis\"}],\"left\":[{\"id\":\"2c7a9fe2-b9ed-46bc-974a-bcdea90e3548\",\"type\":\"LogAxis\"}],\"plot_width\":300,\"renderers\":[{\"id\":\"d3660500-ca5e-4dd8-b649-17b127610ee8\",\"type\":\"LinearAxis\"},{\"id\":\"80bb0603-3aa4-4ff1-aec3-67a95ff8cbc9\",\"type\":\"Grid\"},{\"id\":\"2c7a9fe2-b9ed-46bc-974a-bcdea90e3548\",\"type\":\"LogAxis\"},{\"id\":\"80881ff1-7ce3-48a8-8ae0-ec85861831c0\",\"type\":\"Grid\"},{\"id\":\"01b653a4-5a5e-43f2-8d6e-a97c641f1f01\",\"type\":\"BoxAnnotation\"},{\"id\":\"298b8196-ce26-46b7-a805-0b7378b53e53\",\"type\":\"GlyphRenderer\"},{\"id\":\"4d037ed5-141c-4be8-b8ae-79557dd39b64\",\"type\":\"GlyphRenderer\"},{\"id\":\"61afb265-4102-4733-b366-bd99c260a615\",\"type\":\"GlyphRenderer\"},{\"id\":\"4843a135-aeb0-4866-8123-d4702c9dfb89\",\"type\":\"Legend\"}],\"title\":{\"id\":\"290fa856-2dc1-4b50-a9a4-ef167034e896\",\"type\":\"Title\"},\"toolbar\":{\"id\":\"4da7365d-6569-4406-9802-fcaca455e9cf\",\"type\":\"Toolbar\"},\"toolbar_location\":null,\"x_range\":{\"id\":\"0683fe72-0336-499b-b6e2-4d8f74877be5\",\"type\":\"Range1d\"},\"x_scale\":{\"id\":\"e39f3e07-85c6-430a-b5f6-9fbce825b606\",\"type\":\"LinearScale\"},\"y_range\":{\"id\":\"f32fd3bb-41ab-491b-a5fe-9c02b3b39ab4\",\"type\":\"Range1d\"},\"y_scale\":{\"id\":\"4833ae1b-b0de-48c8-974d-3356f041c8a2\",\"type\":\"LogScale\"}},\"id\":\"c172de42-f506-4381-9421-99b883d9b583\",\"subtype\":\"Figure\",\"type\":\"Plot\"},{\"attributes\":{\"callback\":null,\"data\":{\"x\":{\"__ndarray__\":\"/3gEEI2UQEB0c9Dyc4w8QD4Snx5gWT5AFZGcg+DzPkDYuZ5UNgY+QOQFUWxaiTtAJ8DHxwLZN0CaDBxtwNEzQHB3T1JOgDBAqgJPUzdBLUAe/HRqAFAsQFSv4d6I2CxANirWFRW2LUCUHZfp5zstQOmztrvKoCpAP9+BL/hHJ0AOuwcTjXUkQH9IUrXU0CJAw/AV2NWiIkADs+SX97kjQBnUSknZKCZAob123iaqJUC4+jy7qSYhQET39BNTYRlA8h7eZutmE0DRGDGap7MPQNFp3YuZvQpAbUJm/ObPBUCXEVqHsCYCQKiqyakxdP8/TACEl5IJ/T+x36gvONj4P/WeSfiLL/Q/Ne11Qx4f8T9KO/snl8XuPwAFjDANXOw/ECia+rR+5z/5xrZqtSrhP87q9DpG090/BhYs5hIw3T8TpNj1dqrePxgwooWPUd4/oFDDMBzn3D+hGPElCWPaPxcG4a4W8tI/SPcufN8E0T+Jx6v2fkPcP6Ojb0QSwOM/zctF4t2z6z9opHhLdyvyP4FPJXk/b/U/u1x3mN2T9z9xG3Lf+XH4P5hGdwrobvg/Vn3mdk49+D9YubJsL+/3P7/luSDMffc/5EORdUbl9j8uE9yIYjP2P7kamugzgPU/QlxJFNm49D8sS/Y7lOnzPzVsLhNSEvM/nKsN3cpI8j/zk0wAFaHxP6Zz65TTLvE/Fg7ZiLQN8T8jxFOXpVDxP4PdzMKAqPE/RD1PzBJe8T9HiM/2GIfvP1JwtsmBh+o/vb6j/cCS5T/xD0UD5EPhP++YhMum7NY/\",\"dtype\":\"float64\",\"shape\":[75]},\"y\":{\"__ndarray__\":\"GhExyth1ND/Sv8nbtpRIP2vylNV0PVE/aTum7souWD/At0SJ8fVgPw3Iuahxymc/MSNhhJWvcD/bTfBN02d3P2zb5nxnaoA/CD5h5MAGhz8NmeH1TyaQP+zrCsc9p5Y/LbKd76fGnz/bLW5ISEmmPww9YvTcQq8/JV2OstnstT8Er5Y7M8G+P0c+r3jqkcU/5h99k6ZBzj88bCIzFzjVP4enV8oyxN0//yH99nXg5D8qOpLLf0jtP5kqGJXUifQ/c9cS8kHP/D+/DpwzojQEQIEmwoanVwxA4lgXt9HgE0BSSZ2AJuIbQAMJih9jjiNA5q4l5INuK0AwTKYKRj0zQNv5fmq8/DpAaCJseHrtQkB/+zpwzoxKQM3MzMzMeFJAZmZmZmZqWEAAAAAAAFxeQM3MzMzMJmJAmpmZmZkfZUBmZmZmZhhoQDMzMzMzEWtAAAAAAAAKbkBmZmZmZoFwQM3MzMzM/XFAMzMzMzN6c0CamZmZmfZ0QAAAAAAAc3ZAZmZmZmbvd0DNzMzMzGt5QDMzMzMz6HpAmpmZmZlkfEAAAAAAAOF9QGZmZmZmXX9AZmZmZuZsgECamZmZGSuBQM3MzMxM6YFAAAAAAICngkAzMzMzs2WDQGZmZmbmI4RAmpmZmRnihEDNzMzMTKCFQAAAAACAXoZAMzMzM7Mch0BmZmZm5tqHQJqZmZkZmYhAzczMzExXiUAAAAAAgBWKQDMzMzOz04pAZmZmZuaRi0CamZmZGVCMQM3MzMxMDo1AAAAAAIDMjUAzMzMzs4qOQGZmZmbmSI9A\",\"dtype\":\"float64\",\"shape\":[75]}},\"selected\":{\"id\":\"a4b26632-8ad6-4f3a-9d23-9c906622b767\",\"type\":\"Selection\"},\"selection_policy\":{\"id\":\"e07e3067-ce24-4eae-9b23-72b1243ced4a\",\"type\":\"UnionRenderers\"}},\"id\":\"31ac21d5-f902-4b1a-aea5-3f55191eaca4\",\"type\":\"ColumnDataSource\"},{\"attributes\":{\"data_source\":{\"id\":\"60df988c-82a0-4a95-adff-8379dab58e6f\",\"type\":\"ColumnDataSource\"},\"glyph\":{\"id\":\"097828af-d98c-4e89-bd68-828d3f8acb75\",\"type\":\"Line\"},\"hover_glyph\":null,\"muted_glyph\":null,\"nonselection_glyph\":{\"id\":\"8ae09613-5546-45c4-a284-c0b45c511c96\",\"type\":\"Line\"},\"selection_glyph\":null,\"view\":{\"id\":\"096a3e11-5aa8-4aaf-b33c-f15b90d0a418\",\"type\":\"CDSView\"}},\"id\":\"f618d810-c888-42df-8e4b-a8d7e320f394\",\"type\":\"GlyphRenderer\"},{\"attributes\":{},\"id\":\"d58eaf78-2911-426a-9689-17bcdde9b9e0\",\"type\":\"ResetTool\"},{\"attributes\":{\"source\":{\"id\":\"af51647a-3692-4cc6-b9b1-d3c60035d389\",\"type\":\"ColumnDataSource\"}},\"id\":\"b3c83fe6-2f89-40b5-8f3f-be050d571552\",\"type\":\"CDSView\"},{\"attributes\":{\"children\":[{\"id\":\"ef80a82d-7f6e-4403-a966-22981267cf2d\",\"type\":\"ToolbarBox\"},{\"id\":\"4f9a4903-155a-4022-9620-c6f35d1eb1ef\",\"type\":\"Column\"}]},\"id\":\"51b14b0f-148c-4e6c-9b79-2b30376df4ad\",\"type\":\"Column\"},{\"attributes\":{\"label\":{\"value\":\"CRD\"},\"renderers\":[{\"id\":\"4d037ed5-141c-4be8-b8ae-79557dd39b64\",\"type\":\"GlyphRenderer\"},{\"id\":\"61afb265-4102-4733-b366-bd99c260a615\",\"type\":\"GlyphRenderer\"}]},\"id\":\"d3cedf4f-a496-4b33-a560-295668697937\",\"type\":\"LegendItem\"},{\"attributes\":{},\"id\":\"11b770ef-2117-41c4-b6dc-80e4a48b3d5b\",\"type\":\"UnionRenderers\"},{\"attributes\":{\"plot\":null,\"text\":\"\"},\"id\":\"52080ca1-a79f-4edd-b9d4-5a683ab76279\",\"type\":\"Title\"},{\"attributes\":{\"num_minor_ticks\":10},\"id\":\"eacc8479-8896-4989-b998-dc386fc863be\",\"type\":\"LogTicker\"},{\"attributes\":{\"overlay\":{\"id\":\"5e8318b3-e0e5-474a-b823-8f6c73a89ae8\",\"type\":\"BoxAnnotation\"}},\"id\":\"fd3a8e0d-a78c-44dd-acd8-0cf9a45cb503\",\"type\":\"BoxZoomTool\"},{\"attributes\":{},\"id\":\"4794ae41-2038-4332-9864-fd5d14ef2b82\",\"type\":\"Selection\"},{\"attributes\":{\"axis_label\":\"cooling rate [K/day]\",\"formatter\":{\"id\":\"c7136388-5b0b-4e49-80b0-48d4a3f7381f\",\"type\":\"BasicTickFormatter\"},\"plot\":{\"id\":\"acbb1aaa-31a3-4c03-ab7c-fb1db34a9f2d\",\"subtype\":\"Figure\",\"type\":\"Plot\"},\"ticker\":{\"id\":\"50e74200-6a26-49a9-9b4e-82191cd4ef57\",\"type\":\"BasicTicker\"}},\"id\":\"52dd7333-20dc-428c-9a24-ca2dfd9a5200\",\"type\":\"LinearAxis\"},{\"attributes\":{},\"id\":\"523dd1c8-ce58-4b84-a8c4-a7ab80e39c6f\",\"type\":\"Selection\"},{\"attributes\":{\"callback\":null,\"data\":{\"x\":{\"__ndarray__\":\"0CYBcvU5UkCik9zf2GVBQF1VoNfLZ0BAVLxhiVXTPUDD1Wu1wJM6QFJyB025jjdAU6Aw5+b/NECYe1uuDfgyQB6bYtVTbTFAPxYSAF1HMEA00pYVm9QuQLolHbMzgC1AntlwirGsLECv+G9SjE4rQJH6ZLBp0ShAsLZQyPd/JkDyjgyf2PwkQLgyNGsrJyRAA13QbJD6I0C8hy0ilI4kQOVTXCEgcSZAovOGvZSGJUBVc/ZmUOIgQOf/6GHAyRlAcE8fAOBSFEDRur1U//gPQGFD9ZbokghAQsqHuSqSA0C91ci3W0UBQCtRQfvz7/4/kh8pntyB+j9t1/n+4TX1P773MAUjFfI/RgzR+CI28T8hBW8WHK7uPzVKjJfU8uk/0FPt4/z65T/wVYqzMPDhPz7K9C5CXuE/8+hSn9hY4T/9PPCkR6rhP1XsIC599OA/66X1nBCX3z/YbRM56QjcPz4dkSQc/dM/S7Wb8Fq00T+/yQdmX0vcP7TrGf476eM/WqNPJoWO7D9qOH1bcwDzP2bw+R5DQ/Y/RLSuQOQp+D8+aif8yAz5P0Wv6eBKRfk/0i2+IN4R+T/ik8QNFZr4PyS5UD5j/Pc/yJ68zXRG9z/2CHPL54H2P59SOhwKtPU/npkP8dfg9D8NlmVcdQz0P80ugRvuOvM/byxiAHN18j9USVZie8nxP5l9lNXYSPE/OB+F0UYP8T8Y7dsUCTHxP3EBgTHPcPE/bfx15p8S8T8FT+xkGtTuP6mdG7rkxuk/pboqTkHX5D/CrN8qGYngP7R4ZaL+htU/\",\"dtype\":\"float64\",\"shape\":[75]},\"y\":{\"__ndarray__\":\"GhExyth1ND/Sv8nbtpRIP2vylNV0PVE/aTum7souWD/At0SJ8fVgPw3Iuahxymc/MSNhhJWvcD/bTfBN02d3P2zb5nxnaoA/CD5h5MAGhz8NmeH1TyaQP+zrCsc9p5Y/LbKd76fGnz/bLW5ISEmmPww9YvTcQq8/JV2OstnstT8Er5Y7M8G+P0c+r3jqkcU/5h99k6ZBzj88bCIzFzjVP4enV8oyxN0//yH99nXg5D8qOpLLf0jtP5kqGJXUifQ/c9cS8kHP/D+/DpwzojQEQIEmwoanVwxA4lgXt9HgE0BSSZ2AJuIbQAMJih9jjiNA5q4l5INuK0AwTKYKRj0zQNv5fmq8/DpAaCJseHrtQkB/+zpwzoxKQM3MzMzMeFJAZmZmZmZqWEAAAAAAAFxeQM3MzMzMJmJAmpmZmZkfZUBmZmZmZhhoQDMzMzMzEWtAAAAAAAAKbkBmZmZmZoFwQM3MzMzM/XFAMzMzMzN6c0CamZmZmfZ0QAAAAAAAc3ZAZmZmZmbvd0DNzMzMzGt5QDMzMzMz6HpAmpmZmZlkfEAAAAAAAOF9QGZmZmZmXX9AZmZmZuZsgECamZmZGSuBQM3MzMxM6YFAAAAAAICngkAzMzMzs2WDQGZmZmbmI4RAmpmZmRnihEDNzMzMTKCFQAAAAACAXoZAMzMzM7Mch0BmZmZm5tqHQJqZmZkZmYhAzczMzExXiUAAAAAAgBWKQDMzMzOz04pAZmZmZuaRi0CamZmZGVCMQM3MzMxMDo1AAAAAAIDMjUAzMzMzs4qOQGZmZmbmSI9A\",\"dtype\":\"float64\",\"shape\":[75]}},\"selected\":{\"id\":\"d134573d-1dd7-41db-8a8f-8f591a93775c\",\"type\":\"Selection\"},\"selection_policy\":{\"id\":\"87ffb60d-c1c3-408c-bf13-6b8654c03751\",\"type\":\"UnionRenderers\"}},\"id\":\"60df988c-82a0-4a95-adff-8379dab58e6f\",\"type\":\"ColumnDataSource\"},{\"attributes\":{},\"id\":\"2f69ce2b-d0ef-40ec-9b24-6b7b19e7baf1\",\"type\":\"Selection\"},{\"attributes\":{\"line_alpha\":0.6,\"line_color\":\"#377eb8\",\"line_dash\":[6],\"line_width\":5,\"x\":{\"field\":\"x\"},\"y\":{\"field\":\"y\"}},\"id\":\"27db5885-d0f6-4d6b-9604-33f5e75e5db3\",\"type\":\"Line\"},{\"attributes\":{\"plot\":{\"id\":\"d8c56bc5-adb9-4b86-ac9f-1acc8f49a82e\",\"subtype\":\"Figure\",\"type\":\"Plot\"},\"ticker\":{\"id\":\"a749bf37-a5b9-4471-92c4-8115905e2398\",\"type\":\"BasicTicker\"}},\"id\":\"2468d2d5-dedc-4ac8-b0e6-9f08510b5593\",\"type\":\"Grid\"},{\"attributes\":{\"toolbar\":{\"id\":\"955de871-9a2b-404c-bb6b-29f474509cac\",\"type\":\"ProxyToolbar\"},\"toolbar_location\":\"above\"},\"id\":\"ef80a82d-7f6e-4403-a966-22981267cf2d\",\"type\":\"ToolbarBox\"},{\"attributes\":{},\"id\":\"5d39a54d-d193-412d-a546-8e73a4cbeef8\",\"type\":\"UnionRenderers\"},{\"attributes\":{\"data_source\":{\"id\":\"c15c0dde-305c-4610-ada3-47bc1eabaca3\",\"type\":\"ColumnDataSource\"},\"glyph\":{\"id\":\"b159eafb-d776-42ce-bf23-6476c5a7f08c\",\"type\":\"Line\"},\"hover_glyph\":null,\"muted_glyph\":null,\"nonselection_glyph\":{\"id\":\"4344aff0-8bd3-4df2-b1ef-b3e4f2977768\",\"type\":\"Line\"},\"selection_glyph\":null,\"view\":{\"id\":\"1525a6ea-2aec-447d-9a3d-c673135f69bf\",\"type\":\"CDSView\"}},\"id\":\"1bf392d1-9185-47ec-8d24-a57e5fb68854\",\"type\":\"GlyphRenderer\"},{\"attributes\":{\"ticker\":null},\"id\":\"654cfabf-2e6f-4482-8a70-065ac2497779\",\"type\":\"LogTickFormatter\"},{\"attributes\":{},\"id\":\"6e35b4e0-56ea-40b1-8a13-77cca8184047\",\"type\":\"Selection\"},{\"attributes\":{},\"id\":\"431d44e3-6921-4ab5-b88d-3ba646d9de54\",\"type\":\"UnionRenderers\"},{\"attributes\":{\"tools\":[{\"id\":\"7b3f8260-d85d-4e45-ad43-510d151be243\",\"type\":\"PanTool\"},{\"id\":\"1e7a0f00-f120-410c-8bfe-005d826cf550\",\"type\":\"WheelZoomTool\"},{\"id\":\"fd3a8e0d-a78c-44dd-acd8-0cf9a45cb503\",\"type\":\"BoxZoomTool\"},{\"id\":\"a3bb9f7c-b62a-4005-a2fb-a30a3c6fa3e9\",\"type\":\"SaveTool\"},{\"id\":\"d58eaf78-2911-426a-9689-17bcdde9b9e0\",\"type\":\"ResetTool\"},{\"id\":\"dd082b3b-5f79-4166-86c4-74f5a4064553\",\"type\":\"HelpTool\"},{\"id\":\"e55333b3-30e8-4e7b-ac11-4077d052f08a\",\"type\":\"PanTool\"},{\"id\":\"f0e96797-1ad4-484e-9f34-c23156c6867e\",\"type\":\"WheelZoomTool\"},{\"id\":\"76b42414-7353-4567-ae4c-6c72e706cb45\",\"type\":\"BoxZoomTool\"},{\"id\":\"c09b6cdb-aa9f-4adc-afc8-aacb55c3dc5a\",\"type\":\"SaveTool\"},{\"id\":\"ced4c5f8-6d86-4e9e-b7e7-fdd4a3054f92\",\"type\":\"ResetTool\"},{\"id\":\"201463de-fb51-4e4a-8a4f-7add687a660c\",\"type\":\"HelpTool\"},{\"id\":\"34bdc402-1d66-4e13-ae37-274092125e5a\",\"type\":\"PanTool\"},{\"id\":\"99b0f8e2-e921-49e7-b442-3b4e0f58c072\",\"type\":\"WheelZoomTool\"},{\"id\":\"e894657b-a19d-42f0-8986-de96a9ef1eb8\",\"type\":\"BoxZoomTool\"},{\"id\":\"8ca90007-3f93-4226-a2d7-95836d92f8b8\",\"type\":\"SaveTool\"},{\"id\":\"1624cd33-35d4-4636-be32-51235b6e67ef\",\"type\":\"ResetTool\"},{\"id\":\"ec07e5b2-4dfe-4926-a64c-a02214315cdb\",\"type\":\"HelpTool\"}]},\"id\":\"955de871-9a2b-404c-bb6b-29f474509cac\",\"type\":\"ProxyToolbar\"},{\"attributes\":{\"line_color\":\"#4daf4a\",\"line_width\":1.5,\"x\":{\"field\":\"x\"},\"y\":{\"field\":\"y\"}},\"id\":\"097828af-d98c-4e89-bd68-828d3f8acb75\",\"type\":\"Line\"},{\"attributes\":{\"source\":{\"id\":\"c15c0dde-305c-4610-ada3-47bc1eabaca3\",\"type\":\"ColumnDataSource\"}},\"id\":\"1525a6ea-2aec-447d-9a3d-c673135f69bf\",\"type\":\"CDSView\"},{\"attributes\":{\"bottom_units\":\"screen\",\"fill_alpha\":{\"value\":0.5},\"fill_color\":{\"value\":\"lightgrey\"},\"left_units\":\"screen\",\"level\":\"overlay\",\"line_alpha\":{\"value\":1.0},\"line_color\":{\"value\":\"black\"},\"line_dash\":[4,4],\"line_width\":{\"value\":2},\"plot\":null,\"render_mode\":\"css\",\"right_units\":\"screen\",\"top_units\":\"screen\"},\"id\":\"5e8318b3-e0e5-474a-b823-8f6c73a89ae8\",\"type\":\"BoxAnnotation\"},{\"attributes\":{},\"id\":\"3bbfdeca-c35e-4be9-8d90-f812b530a2cb\",\"type\":\"BasicTickFormatter\"},{\"attributes\":{\"callback\":null,\"data\":{\"x\":{\"__ndarray__\":\"0CYBcvU5UkCik9zf2GVBQF1VoNfLZ0BAVLxhiVXTPUDD1Wu1wJM6QFJyB025jjdAU6Aw5+b/NECYe1uuDfgyQB6bYtVTbTFAPxYSAF1HMEA00pYVm9QuQLolHbMzgC1AntlwirGsLECv+G9SjE4rQJH6ZLBp0ShAsLZQyPd/JkDyjgyf2PwkQLgyNGsrJyRAA13QbJD6I0C8hy0ilI4kQOVTXCEgcSZAovOGvZSGJUBVc/ZmUOIgQOf/6GHAyRlAcE8fAOBSFEDRur1U//gPQGFD9ZbokghAQsqHuSqSA0C91ci3W0UBQCtRQfvz7/4/kh8pntyB+j9t1/n+4TX1P773MAUjFfI/RgzR+CI28T8hBW8WHK7uPzVKjJfU8uk/0FPt4/z65T/wVYqzMPDhPz7K9C5CXuE/8+hSn9hY4T/9PPCkR6rhP1XsIC599OA/66X1nBCX3z/YbRM56QjcPz4dkSQc/dM/S7Wb8Fq00T+/yQdmX0vcP7TrGf476eM/WqNPJoWO7D9qOH1bcwDzP2bw+R5DQ/Y/RLSuQOQp+D8+aif8yAz5P0Wv6eBKRfk/0i2+IN4R+T/ik8QNFZr4PyS5UD5j/Pc/yJ68zXRG9z/2CHPL54H2P59SOhwKtPU/npkP8dfg9D8NlmVcdQz0P80ugRvuOvM/byxiAHN18j9USVZie8nxP5l9lNXYSPE/OB+F0UYP8T8Y7dsUCTHxP3EBgTHPcPE/bfx15p8S8T8FT+xkGtTuP6mdG7rkxuk/pboqTkHX5D/CrN8qGYngP7R4ZaL+htU/\",\"dtype\":\"float64\",\"shape\":[75]},\"y\":{\"__ndarray__\":\"GhExyth1ND/Sv8nbtpRIP2vylNV0PVE/aTum7souWD/At0SJ8fVgPw3Iuahxymc/MSNhhJWvcD/bTfBN02d3P2zb5nxnaoA/CD5h5MAGhz8NmeH1TyaQP+zrCsc9p5Y/LbKd76fGnz/bLW5ISEmmPww9YvTcQq8/JV2OstnstT8Er5Y7M8G+P0c+r3jqkcU/5h99k6ZBzj88bCIzFzjVP4enV8oyxN0//yH99nXg5D8qOpLLf0jtP5kqGJXUifQ/c9cS8kHP/D+/DpwzojQEQIEmwoanVwxA4lgXt9HgE0BSSZ2AJuIbQAMJih9jjiNA5q4l5INuK0AwTKYKRj0zQNv5fmq8/DpAaCJseHrtQkB/+zpwzoxKQM3MzMzMeFJAZmZmZmZqWEAAAAAAAFxeQM3MzMzMJmJAmpmZmZkfZUBmZmZmZhhoQDMzMzMzEWtAAAAAAAAKbkBmZmZmZoFwQM3MzMzM/XFAMzMzMzN6c0CamZmZmfZ0QAAAAAAAc3ZAZmZmZmbvd0DNzMzMzGt5QDMzMzMz6HpAmpmZmZlkfEAAAAAAAOF9QGZmZmZmXX9AZmZmZuZsgECamZmZGSuBQM3MzMxM6YFAAAAAAICngkAzMzMzs2WDQGZmZmbmI4RAmpmZmRnihEDNzMzMTKCFQAAAAACAXoZAMzMzM7Mch0BmZmZm5tqHQJqZmZkZmYhAzczMzExXiUAAAAAAgBWKQDMzMzOz04pAZmZmZuaRi0CamZmZGVCMQM3MzMxMDo1AAAAAAIDMjUAzMzMzs4qOQGZmZmbmSI9A\",\"dtype\":\"float64\",\"shape\":[75]}},\"selected\":{\"id\":\"2ad92efd-3554-44ea-9720-066bd1cabef1\",\"type\":\"Selection\"},\"selection_policy\":{\"id\":\"5e2cd352-6d43-4445-a82c-2c62319ffd25\",\"type\":\"UnionRenderers\"}},\"id\":\"af51647a-3692-4cc6-b9b1-d3c60035d389\",\"type\":\"ColumnDataSource\"},{\"attributes\":{},\"id\":\"c7136388-5b0b-4e49-80b0-48d4a3f7381f\",\"type\":\"BasicTickFormatter\"},{\"attributes\":{},\"id\":\"50e74200-6a26-49a9-9b4e-82191cd4ef57\",\"type\":\"BasicTicker\"},{\"attributes\":{\"line_alpha\":0.6,\"line_color\":\"#377eb8\",\"line_dash\":[6],\"line_width\":5,\"x\":{\"field\":\"x\"},\"y\":{\"field\":\"y\"}},\"id\":\"b159eafb-d776-42ce-bf23-6476c5a7f08c\",\"type\":\"Line\"},{\"attributes\":{},\"id\":\"a4b26632-8ad6-4f3a-9d23-9c906622b767\",\"type\":\"Selection\"},{\"attributes\":{\"data_source\":{\"id\":\"af51647a-3692-4cc6-b9b1-d3c60035d389\",\"type\":\"ColumnDataSource\"},\"glyph\":{\"id\":\"38fee95f-40ad-41fb-a789-248633bde890\",\"type\":\"Circle\"},\"hover_glyph\":null,\"muted_glyph\":null,\"nonselection_glyph\":{\"id\":\"1cb9b360-ea1b-416e-b22c-d9c558a7e2fb\",\"type\":\"Circle\"},\"selection_glyph\":null,\"view\":{\"id\":\"b3c83fe6-2f89-40b5-8f3f-be050d571552\",\"type\":\"CDSView\"}},\"id\":\"bb7ad190-0d00-4f99-b33d-dc1587256f21\",\"type\":\"GlyphRenderer\"},{\"attributes\":{\"ticker\":null},\"id\":\"050674e2-58ce-4fd7-9abb-d363f75a13ea\",\"type\":\"LogTickFormatter\"},{\"attributes\":{\"axis_label\":\"pressure [mb]\",\"formatter\":{\"id\":\"050674e2-58ce-4fd7-9abb-d363f75a13ea\",\"type\":\"LogTickFormatter\"},\"plot\":{\"id\":\"acbb1aaa-31a3-4c03-ab7c-fb1db34a9f2d\",\"subtype\":\"Figure\",\"type\":\"Plot\"},\"ticker\":{\"id\":\"eacc8479-8896-4989-b998-dc386fc863be\",\"type\":\"LogTicker\"}},\"id\":\"55d95eb5-5d20-4c89-ae5f-53a6f1c3d79d\",\"type\":\"LogAxis\"},{\"attributes\":{},\"id\":\"6e93888e-565e-4143-ad56-0a8b4ce422d7\",\"type\":\"UnionRenderers\"},{\"attributes\":{\"children\":[{\"id\":\"d8c56bc5-adb9-4b86-ac9f-1acc8f49a82e\",\"subtype\":\"Figure\",\"type\":\"Plot\"},{\"id\":\"c172de42-f506-4381-9421-99b883d9b583\",\"subtype\":\"Figure\",\"type\":\"Plot\"},{\"id\":\"acbb1aaa-31a3-4c03-ab7c-fb1db34a9f2d\",\"subtype\":\"Figure\",\"type\":\"Plot\"}]},\"id\":\"7e20f298-900c-470d-8f3c-7b2cf0e78be8\",\"type\":\"Row\"},{\"attributes\":{\"callback\":null,\"end\":0.01,\"start\":1020},\"id\":\"f32fd3bb-41ab-491b-a5fe-9c02b3b39ab4\",\"type\":\"Range1d\"},{\"attributes\":{},\"id\":\"98444e92-98cd-4410-8118-4c92b2036635\",\"type\":\"Selection\"},{\"attributes\":{\"line_alpha\":0.1,\"line_color\":\"#1f77b4\",\"line_width\":1.5,\"x\":{\"field\":\"x\"},\"y\":{\"field\":\"y\"}},\"id\":\"01bd6068-7d77-4b4e-857e-1c90fc31731f\",\"type\":\"Line\"},{\"attributes\":{\"plot\":null,\"text\":\"\"},\"id\":\"3c249375-65e6-4140-952a-bbed65d27b9e\",\"type\":\"Title\"},{\"attributes\":{\"axis_label\":\"pressure [mb]\",\"formatter\":{\"id\":\"e513e598-02d1-44c1-b75f-50a809722855\",\"type\":\"BasicTickFormatter\"},\"plot\":{\"id\":\"d8c56bc5-adb9-4b86-ac9f-1acc8f49a82e\",\"subtype\":\"Figure\",\"type\":\"Plot\"},\"ticker\":{\"id\":\"54a90784-ef4e-4bc5-8103-db46260f4b03\",\"type\":\"BasicTicker\"}},\"id\":\"c90273e5-e053-4ecd-9a97-0a960d934369\",\"type\":\"LinearAxis\"},{\"attributes\":{\"label\":{\"value\":\"CLIRAD (single-run) - CRD\"},\"renderers\":[{\"id\":\"ad767ba0-3a50-4348-aceb-51d819eea328\",\"type\":\"GlyphRenderer\"},{\"id\":\"d338108d-d776-4f67-8811-a8d6d7d755c3\",\"type\":\"GlyphRenderer\"}]},\"id\":\"cfa003a4-c6a4-42b4-a0ab-6c46164cef33\",\"type\":\"LegendItem\"},{\"attributes\":{\"source\":{\"id\":\"b5a07cc7-723f-4e9e-9f6a-0830adce9920\",\"type\":\"ColumnDataSource\"}},\"id\":\"9301ae28-8ebb-4b59-95f3-6de87f6054d3\",\"type\":\"CDSView\"},{\"attributes\":{\"source\":{\"id\":\"d2442f5a-0b3a-497a-9bf0-b8723371e7d6\",\"type\":\"ColumnDataSource\"}},\"id\":\"538e55e3-43d3-4ce2-ac72-cf78dff0d088\",\"type\":\"CDSView\"},{\"attributes\":{},\"id\":\"87ffb60d-c1c3-408c-bf13-6b8654c03751\",\"type\":\"UnionRenderers\"},{\"attributes\":{\"data_source\":{\"id\":\"b5a07cc7-723f-4e9e-9f6a-0830adce9920\",\"type\":\"ColumnDataSource\"},\"glyph\":{\"id\":\"b3d592c0-bb89-4262-91bd-a658e186a68a\",\"type\":\"Line\"},\"hover_glyph\":null,\"muted_glyph\":null,\"nonselection_glyph\":{\"id\":\"01bd6068-7d77-4b4e-857e-1c90fc31731f\",\"type\":\"Line\"},\"selection_glyph\":null,\"view\":{\"id\":\"9301ae28-8ebb-4b59-95f3-6de87f6054d3\",\"type\":\"CDSView\"}},\"id\":\"d338108d-d776-4f67-8811-a8d6d7d755c3\",\"type\":\"GlyphRenderer\"},{\"attributes\":{\"data_source\":{\"id\":\"bd170745-976b-4d9c-ae9a-d9ada517b399\",\"type\":\"ColumnDataSource\"},\"glyph\":{\"id\":\"774b30f4-da6c-4597-a1d6-681c33c70270\",\"type\":\"Circle\"},\"hover_glyph\":null,\"muted_glyph\":null,\"nonselection_glyph\":{\"id\":\"dbe3b9b1-7e24-46ca-8fee-ba6a41982649\",\"type\":\"Circle\"},\"selection_glyph\":null,\"view\":{\"id\":\"478dd466-aba2-484f-bef3-7565c91a82c7\",\"type\":\"CDSView\"}},\"id\":\"ad767ba0-3a50-4348-aceb-51d819eea328\",\"type\":\"GlyphRenderer\"},{\"attributes\":{\"callback\":null,\"data\":{\"x\":{\"__ndarray__\":\"pNT9013fQ8BHz6Iz9/wYwNfDDIW8sQPAIkyto68I8j+fIJf5rJMLQIecTPoI1Q9As/64BN/IBkBfIBLYVzbrP1R1ZGKwoO2/pE6pZhVs+r+osA5Z1ST0v5zMboda9dS/aQlVtjiW4D9MTnJyudXuP2yVG7UQ9uw/6REl5gwA2T+4fJqAcenQv5ajHl5rZeW/7sOmS6l75b/2lhpJkZPavw7zXwS2EcK/3f/kdxDJsT9k2KERVRbBPyUpAn1TG7q/7g8mKJN+zb9FgCij7lWhv4gzQaeHVdE/WMHzFuLt0T9TeyfymSq8P7AvC9G1h6A/vwXXyq89xD8cQniFsRLNP745xZhH08A/0hEfW7UEd7/IKTaMEXtnP0nW/cfESbM/DkTNaoE7qD/N3nEaaa+Yv7um0ov4pLO/he/mYXkGtr+HVx9QYaiyv5xE/bRWu6y/aqqSYaN/pb+PUyUyAV6av25yAVtXsJC/OcCXjW7vhb9A2QhwvYE/v54IJNXclHS/tPE6gehUm78zgJIAgp+qv3kclLp0gKq/TPHqBtXAor9a2amW41mjv4wVTc5azKq/Xw/2OvWRqr8pUTsitFylv6rZtGXHpZ+/NbnWCpZLmL/lcb2lUKGTv7/yG9AZ64m/Ca4eY27/g7/icKU3kHCBv8NLYSkEToS/fmhAqhFUhr9CsNoEMTOEv9bxCalABXq/oBYSwYokOb+8C9d3gpx/Py0I7qXI2Is/1DVQdrnckj9GKGc80l+WPytVWvOhE5g/5YIg7/Vvlz/qZawMW1mXP64D8pGCWpY/\",\"dtype\":\"float64\",\"shape\":[75]},\"y\":{\"__ndarray__\":\"GhExyth1ND/Sv8nbtpRIP2vylNV0PVE/aTum7souWD/At0SJ8fVgPw3Iuahxymc/MSNhhJWvcD/bTfBN02d3P2zb5nxnaoA/CD5h5MAGhz8NmeH1TyaQP+zrCsc9p5Y/LbKd76fGnz/bLW5ISEmmPww9YvTcQq8/JV2OstnstT8Er5Y7M8G+P0c+r3jqkcU/5h99k6ZBzj88bCIzFzjVP4enV8oyxN0//yH99nXg5D8qOpLLf0jtP5kqGJXUifQ/c9cS8kHP/D+/DpwzojQEQIEmwoanVwxA4lgXt9HgE0BSSZ2AJuIbQAMJih9jjiNA5q4l5INuK0AwTKYKRj0zQNv5fmq8/DpAaCJseHrtQkB/+zpwzoxKQM3MzMzMeFJAZmZmZmZqWEAAAAAAAFxeQM3MzMzMJmJAmpmZmZkfZUBmZmZmZhhoQDMzMzMzEWtAAAAAAAAKbkBmZmZmZoFwQM3MzMzM/XFAMzMzMzN6c0CamZmZmfZ0QAAAAAAAc3ZAZmZmZmbvd0DNzMzMzGt5QDMzMzMz6HpAmpmZmZlkfEAAAAAAAOF9QGZmZmZmXX9AZmZmZuZsgECamZmZGSuBQM3MzMxM6YFAAAAAAICngkAzMzMzs2WDQGZmZmbmI4RAmpmZmRnihEDNzMzMTKCFQAAAAACAXoZAMzMzM7Mch0BmZmZm5tqHQJqZmZkZmYhAzczMzExXiUAAAAAAgBWKQDMzMzOz04pAZmZmZuaRi0CamZmZGVCMQM3MzMxMDo1AAAAAAIDMjUAzMzMzs4qOQGZmZmbmSI9A\",\"dtype\":\"float64\",\"shape\":[75]}},\"selected\":{\"id\":\"4794ae41-2038-4332-9864-fd5d14ef2b82\",\"type\":\"Selection\"},\"selection_policy\":{\"id\":\"5d39a54d-d193-412d-a546-8e73a4cbeef8\",\"type\":\"UnionRenderers\"}},\"id\":\"b5a07cc7-723f-4e9e-9f6a-0830adce9920\",\"type\":\"ColumnDataSource\"},{\"attributes\":{\"above\":[{\"id\":\"c8ce7e59-f9e9-4d26-8415-217a65b4e1fc\",\"type\":\"Legend\"}],\"below\":[{\"id\":\"52dd7333-20dc-428c-9a24-ca2dfd9a5200\",\"type\":\"LinearAxis\"}],\"left\":[{\"id\":\"55d95eb5-5d20-4c89-ae5f-53a6f1c3d79d\",\"type\":\"LogAxis\"}],\"plot_width\":300,\"renderers\":[{\"id\":\"52dd7333-20dc-428c-9a24-ca2dfd9a5200\",\"type\":\"LinearAxis\"},{\"id\":\"6a5405cb-b9ec-4acc-a631-f2ab973114ba\",\"type\":\"Grid\"},{\"id\":\"55d95eb5-5d20-4c89-ae5f-53a6f1c3d79d\",\"type\":\"LogAxis\"},{\"id\":\"4df9dbc9-35b3-45dc-8a5f-3a7b24fb2565\",\"type\":\"Grid\"},{\"id\":\"87c007fb-4adf-461c-beff-ddc99d3a64ca\",\"type\":\"BoxAnnotation\"},{\"id\":\"ad767ba0-3a50-4348-aceb-51d819eea328\",\"type\":\"GlyphRenderer\"},{\"id\":\"d338108d-d776-4f67-8811-a8d6d7d755c3\",\"type\":\"GlyphRenderer\"},{\"id\":\"c8ce7e59-f9e9-4d26-8415-217a65b4e1fc\",\"type\":\"Legend\"}],\"title\":{\"id\":\"52080ca1-a79f-4edd-b9d4-5a683ab76279\",\"type\":\"Title\"},\"toolbar\":{\"id\":\"d2c4e97a-a2e1-4f8d-b9b1-c0730bbdaae5\",\"type\":\"Toolbar\"},\"toolbar_location\":null,\"x_range\":{\"id\":\"55391163-ce8c-40ca-8047-ad64d0ab43d2\",\"type\":\"Range1d\"},\"x_scale\":{\"id\":\"df98c037-2ffc-48d2-9cac-e30939098dd6\",\"type\":\"LinearScale\"},\"y_range\":{\"id\":\"b8ea2756-a9aa-4c65-983e-c26fe31beec7\",\"type\":\"Range1d\"},\"y_scale\":{\"id\":\"e7e3eba3-6ce4-4ae2-bbee-69a58896b45a\",\"type\":\"LogScale\"}},\"id\":\"acbb1aaa-31a3-4c03-ab7c-fb1db34a9f2d\",\"subtype\":\"Figure\",\"type\":\"Plot\"},{\"attributes\":{},\"id\":\"1e7a0f00-f120-410c-8bfe-005d826cf550\",\"type\":\"WheelZoomTool\"},{\"attributes\":{},\"id\":\"7b3f8260-d85d-4e45-ad43-510d151be243\",\"type\":\"PanTool\"},{\"attributes\":{\"callback\":null,\"end\":0.01,\"start\":1020},\"id\":\"a8f77fbc-149d-4ca5-b7f9-361171bdb3b7\",\"type\":\"Range1d\"},{\"attributes\":{\"line_alpha\":0.8,\"line_color\":\"#984ea3\",\"line_width\":1.5,\"x\":{\"field\":\"x\"},\"y\":{\"field\":\"y\"}},\"id\":\"b3d592c0-bb89-4262-91bd-a658e186a68a\",\"type\":\"Line\"},{\"attributes\":{},\"id\":\"68173fe5-1fed-4da6-b0bb-7b06c493e38e\",\"type\":\"BasicTickFormatter\"},{\"attributes\":{},\"id\":\"201463de-fb51-4e4a-8a4f-7add687a660c\",\"type\":\"HelpTool\"},{\"attributes\":{},\"id\":\"e513e598-02d1-44c1-b75f-50a809722855\",\"type\":\"BasicTickFormatter\"},{\"attributes\":{\"callback\":null,\"data\":{\"x\":{\"__ndarray__\":\"pNT9013fQ8BHz6Iz9/wYwNfDDIW8sQPAIkyto68I8j+fIJf5rJMLQIecTPoI1Q9As/64BN/IBkBfIBLYVzbrP1R1ZGKwoO2/pE6pZhVs+r+osA5Z1ST0v5zMboda9dS/aQlVtjiW4D9MTnJyudXuP2yVG7UQ9uw/6REl5gwA2T+4fJqAcenQv5ajHl5rZeW/7sOmS6l75b/2lhpJkZPavw7zXwS2EcK/3f/kdxDJsT9k2KERVRbBPyUpAn1TG7q/7g8mKJN+zb9FgCij7lWhv4gzQaeHVdE/WMHzFuLt0T9TeyfymSq8P7AvC9G1h6A/vwXXyq89xD8cQniFsRLNP745xZhH08A/0hEfW7UEd7/IKTaMEXtnP0nW/cfESbM/DkTNaoE7qD/N3nEaaa+Yv7um0ov4pLO/he/mYXkGtr+HVx9QYaiyv5xE/bRWu6y/aqqSYaN/pb+PUyUyAV6av25yAVtXsJC/OcCXjW7vhb9A2QhwvYE/v54IJNXclHS/tPE6gehUm78zgJIAgp+qv3kclLp0gKq/TPHqBtXAor9a2amW41mjv4wVTc5azKq/Xw/2OvWRqr8pUTsitFylv6rZtGXHpZ+/NbnWCpZLmL/lcb2lUKGTv7/yG9AZ64m/Ca4eY27/g7/icKU3kHCBv8NLYSkEToS/fmhAqhFUhr9CsNoEMTOEv9bxCalABXq/oBYSwYokOb+8C9d3gpx/Py0I7qXI2Is/1DVQdrnckj9GKGc80l+WPytVWvOhE5g/5YIg7/Vvlz/qZawMW1mXP64D8pGCWpY/\",\"dtype\":\"float64\",\"shape\":[75]},\"y\":{\"__ndarray__\":\"GhExyth1ND/Sv8nbtpRIP2vylNV0PVE/aTum7souWD/At0SJ8fVgPw3Iuahxymc/MSNhhJWvcD/bTfBN02d3P2zb5nxnaoA/CD5h5MAGhz8NmeH1TyaQP+zrCsc9p5Y/LbKd76fGnz/bLW5ISEmmPww9YvTcQq8/JV2OstnstT8Er5Y7M8G+P0c+r3jqkcU/5h99k6ZBzj88bCIzFzjVP4enV8oyxN0//yH99nXg5D8qOpLLf0jtP5kqGJXUifQ/c9cS8kHP/D+/DpwzojQEQIEmwoanVwxA4lgXt9HgE0BSSZ2AJuIbQAMJih9jjiNA5q4l5INuK0AwTKYKRj0zQNv5fmq8/DpAaCJseHrtQkB/+zpwzoxKQM3MzMzMeFJAZmZmZmZqWEAAAAAAAFxeQM3MzMzMJmJAmpmZmZkfZUBmZmZmZhhoQDMzMzMzEWtAAAAAAAAKbkBmZmZmZoFwQM3MzMzM/XFAMzMzMzN6c0CamZmZmfZ0QAAAAAAAc3ZAZmZmZmbvd0DNzMzMzGt5QDMzMzMz6HpAmpmZmZlkfEAAAAAAAOF9QGZmZmZmXX9AZmZmZuZsgECamZmZGSuBQM3MzMxM6YFAAAAAAICngkAzMzMzs2WDQGZmZmbmI4RAmpmZmRnihEDNzMzMTKCFQAAAAACAXoZAMzMzM7Mch0BmZmZm5tqHQJqZmZkZmYhAzczMzExXiUAAAAAAgBWKQDMzMzOz04pAZmZmZuaRi0CamZmZGVCMQM3MzMxMDo1AAAAAAIDMjUAzMzMzs4qOQGZmZmbmSI9A\",\"dtype\":\"float64\",\"shape\":[75]}},\"selected\":{\"id\":\"2f69ce2b-d0ef-40ec-9b24-6b7b19e7baf1\",\"type\":\"Selection\"},\"selection_policy\":{\"id\":\"11b770ef-2117-41c4-b6dc-80e4a48b3d5b\",\"type\":\"UnionRenderers\"}},\"id\":\"bd170745-976b-4d9c-ae9a-d9ada517b399\",\"type\":\"ColumnDataSource\"},{\"attributes\":{\"line_alpha\":0.1,\"line_color\":\"#1f77b4\",\"line_width\":1.5,\"x\":{\"field\":\"x\"},\"y\":{\"field\":\"y\"}},\"id\":\"100e35ec-438a-40e1-aed2-cfcb9749b14e\",\"type\":\"Line\"},{\"attributes\":{\"items\":[{\"id\":\"df769c70-0a1a-4ff4-8490-13b276087d44\",\"type\":\"LegendItem\"},{\"id\":\"27910935-9532-4dd7-b93a-8b15ff91c718\",\"type\":\"LegendItem\"}],\"label_text_font_size\":{\"value\":\"8pt\"},\"location\":\"top_center\",\"orientation\":\"horizontal\",\"plot\":{\"id\":\"d8c56bc5-adb9-4b86-ac9f-1acc8f49a82e\",\"subtype\":\"Figure\",\"type\":\"Plot\"}},\"id\":\"fd9533c6-3e57-4604-882c-2e95eb51c59f\",\"type\":\"Legend\"},{\"attributes\":{\"active_drag\":\"auto\",\"active_inspect\":\"auto\",\"active_scroll\":\"auto\",\"active_tap\":\"auto\",\"tools\":[{\"id\":\"7b3f8260-d85d-4e45-ad43-510d151be243\",\"type\":\"PanTool\"},{\"id\":\"1e7a0f00-f120-410c-8bfe-005d826cf550\",\"type\":\"WheelZoomTool\"},{\"id\":\"fd3a8e0d-a78c-44dd-acd8-0cf9a45cb503\",\"type\":\"BoxZoomTool\"},{\"id\":\"a3bb9f7c-b62a-4005-a2fb-a30a3c6fa3e9\",\"type\":\"SaveTool\"},{\"id\":\"d58eaf78-2911-426a-9689-17bcdde9b9e0\",\"type\":\"ResetTool\"},{\"id\":\"dd082b3b-5f79-4166-86c4-74f5a4064553\",\"type\":\"HelpTool\"}]},\"id\":\"43afce5c-6eb8-4695-a386-437a6fbd55e4\",\"type\":\"Toolbar\"},{\"attributes\":{},\"id\":\"a749bf37-a5b9-4471-92c4-8115905e2398\",\"type\":\"BasicTicker\"},{\"attributes\":{\"plot\":null,\"text\":\"\"},\"id\":\"290fa856-2dc1-4b50-a9a4-ef167034e896\",\"type\":\"Title\"},{\"attributes\":{\"callback\":null,\"data\":{\"x\":{\"__ndarray__\":\"/3gEEI2UQEB0c9Dyc4w8QD4Snx5gWT5AFZGcg+DzPkDYuZ5UNgY+QOQFUWxaiTtAJ8DHxwLZN0CaDBxtwNEzQHB3T1JOgDBAqgJPUzdBLUAe/HRqAFAsQFSv4d6I2CxANirWFRW2LUCUHZfp5zstQOmztrvKoCpAP9+BL/hHJ0AOuwcTjXUkQH9IUrXU0CJAw/AV2NWiIkADs+SX97kjQBnUSknZKCZAob123iaqJUC4+jy7qSYhQET39BNTYRlA8h7eZutmE0DRGDGap7MPQNFp3YuZvQpAbUJm/ObPBUCXEVqHsCYCQKiqyakxdP8/TACEl5IJ/T+x36gvONj4P/WeSfiLL/Q/Ne11Qx4f8T9KO/snl8XuPwAFjDANXOw/ECia+rR+5z/5xrZqtSrhP87q9DpG090/BhYs5hIw3T8TpNj1dqrePxgwooWPUd4/oFDDMBzn3D+hGPElCWPaPxcG4a4W8tI/SPcufN8E0T+Jx6v2fkPcP6Ojb0QSwOM/zctF4t2z6z9opHhLdyvyP4FPJXk/b/U/u1x3mN2T9z9xG3Lf+XH4P5hGdwrobvg/Vn3mdk49+D9YubJsL+/3P7/luSDMffc/5EORdUbl9j8uE9yIYjP2P7kamugzgPU/QlxJFNm49D8sS/Y7lOnzPzVsLhNSEvM/nKsN3cpI8j/zk0wAFaHxP6Zz65TTLvE/Fg7ZiLQN8T8jxFOXpVDxP4PdzMKAqPE/RD1PzBJe8T9HiM/2GIfvP1JwtsmBh+o/vb6j/cCS5T/xD0UD5EPhP++YhMum7NY/\",\"dtype\":\"float64\",\"shape\":[75]},\"y\":{\"__ndarray__\":\"GhExyth1ND/Sv8nbtpRIP2vylNV0PVE/aTum7souWD/At0SJ8fVgPw3Iuahxymc/MSNhhJWvcD/bTfBN02d3P2zb5nxnaoA/CD5h5MAGhz8NmeH1TyaQP+zrCsc9p5Y/LbKd76fGnz/bLW5ISEmmPww9YvTcQq8/JV2OstnstT8Er5Y7M8G+P0c+r3jqkcU/5h99k6ZBzj88bCIzFzjVP4enV8oyxN0//yH99nXg5D8qOpLLf0jtP5kqGJXUifQ/c9cS8kHP/D+/DpwzojQEQIEmwoanVwxA4lgXt9HgE0BSSZ2AJuIbQAMJih9jjiNA5q4l5INuK0AwTKYKRj0zQNv5fmq8/DpAaCJseHrtQkB/+zpwzoxKQM3MzMzMeFJAZmZmZmZqWEAAAAAAAFxeQM3MzMzMJmJAmpmZmZkfZUBmZmZmZhhoQDMzMzMzEWtAAAAAAAAKbkBmZmZmZoFwQM3MzMzM/XFAMzMzMzN6c0CamZmZmfZ0QAAAAAAAc3ZAZmZmZmbvd0DNzMzMzGt5QDMzMzMz6HpAmpmZmZlkfEAAAAAAAOF9QGZmZmZmXX9AZmZmZuZsgECamZmZGSuBQM3MzMxM6YFAAAAAAICngkAzMzMzs2WDQGZmZmbmI4RAmpmZmRnihEDNzMzMTKCFQAAAAACAXoZAMzMzM7Mch0BmZmZm5tqHQJqZmZkZmYhAzczMzExXiUAAAAAAgBWKQDMzMzOz04pAZmZmZuaRi0CamZmZGVCMQM3MzMxMDo1AAAAAAIDMjUAzMzMzs4qOQGZmZmbmSI9A\",\"dtype\":\"float64\",\"shape\":[75]}},\"selected\":{\"id\":\"98444e92-98cd-4410-8118-4c92b2036635\",\"type\":\"Selection\"},\"selection_policy\":{\"id\":\"431d44e3-6921-4ab5-b88d-3ba646d9de54\",\"type\":\"UnionRenderers\"}},\"id\":\"c15c0dde-305c-4610-ada3-47bc1eabaca3\",\"type\":\"ColumnDataSource\"},{\"attributes\":{\"data_source\":{\"id\":\"80eedd00-ff66-4e71-bb38-d18a8d948fde\",\"type\":\"ColumnDataSource\"},\"glyph\":{\"id\":\"56066bbb-d252-466b-ac6b-2948e4c43b8c\",\"type\":\"Circle\"},\"hover_glyph\":null,\"muted_glyph\":null,\"nonselection_glyph\":{\"id\":\"27fff8ce-3f5c-4382-be95-ac9a697ef9d1\",\"type\":\"Circle\"},\"selection_glyph\":null,\"view\":{\"id\":\"8905131d-dc7a-4651-80d0-13db40c8140d\",\"type\":\"CDSView\"}},\"id\":\"4d037ed5-141c-4be8-b8ae-79557dd39b64\",\"type\":\"GlyphRenderer\"},{\"attributes\":{\"bottom_units\":\"screen\",\"fill_alpha\":{\"value\":0.5},\"fill_color\":{\"value\":\"lightgrey\"},\"left_units\":\"screen\",\"level\":\"overlay\",\"line_alpha\":{\"value\":1.0},\"line_color\":{\"value\":\"black\"},\"line_dash\":[4,4],\"line_width\":{\"value\":2},\"plot\":null,\"render_mode\":\"css\",\"right_units\":\"screen\",\"top_units\":\"screen\"},\"id\":\"01b653a4-5a5e-43f2-8d6e-a97c641f1f01\",\"type\":\"BoxAnnotation\"},{\"attributes\":{},\"id\":\"f4a0e55a-979a-43c3-90a8-90c2296148eb\",\"type\":\"UnionRenderers\"},{\"attributes\":{\"callback\":null,\"data\":{\"x\":{\"__ndarray__\":\"0CYBcvU5UkCik9zf2GVBQF1VoNfLZ0BAVLxhiVXTPUDD1Wu1wJM6QFJyB025jjdAU6Aw5+b/NECYe1uuDfgyQB6bYtVTbTFAPxYSAF1HMEA00pYVm9QuQLolHbMzgC1AntlwirGsLECv+G9SjE4rQJH6ZLBp0ShAsLZQyPd/JkDyjgyf2PwkQLgyNGsrJyRAA13QbJD6I0C8hy0ilI4kQOVTXCEgcSZAovOGvZSGJUBVc/ZmUOIgQOf/6GHAyRlAcE8fAOBSFEDRur1U//gPQGFD9ZbokghAQsqHuSqSA0C91ci3W0UBQCtRQfvz7/4/kh8pntyB+j9t1/n+4TX1P773MAUjFfI/RgzR+CI28T8hBW8WHK7uPzVKjJfU8uk/0FPt4/z65T/wVYqzMPDhPz7K9C5CXuE/8+hSn9hY4T/9PPCkR6rhP1XsIC599OA/66X1nBCX3z/YbRM56QjcPz4dkSQc/dM/S7Wb8Fq00T+/yQdmX0vcP7TrGf476eM/WqNPJoWO7D9qOH1bcwDzP2bw+R5DQ/Y/RLSuQOQp+D8+aif8yAz5P0Wv6eBKRfk/0i2+IN4R+T/ik8QNFZr4PyS5UD5j/Pc/yJ68zXRG9z/2CHPL54H2P59SOhwKtPU/npkP8dfg9D8NlmVcdQz0P80ugRvuOvM/byxiAHN18j9USVZie8nxP5l9lNXYSPE/OB+F0UYP8T8Y7dsUCTHxP3EBgTHPcPE/bfx15p8S8T8FT+xkGtTuP6mdG7rkxuk/pboqTkHX5D/CrN8qGYngP7R4ZaL+htU/\",\"dtype\":\"float64\",\"shape\":[75]},\"y\":{\"__ndarray__\":\"GhExyth1ND/Sv8nbtpRIP2vylNV0PVE/aTum7souWD/At0SJ8fVgPw3Iuahxymc/MSNhhJWvcD/bTfBN02d3P2zb5nxnaoA/CD5h5MAGhz8NmeH1TyaQP+zrCsc9p5Y/LbKd76fGnz/bLW5ISEmmPww9YvTcQq8/JV2OstnstT8Er5Y7M8G+P0c+r3jqkcU/5h99k6ZBzj88bCIzFzjVP4enV8oyxN0//yH99nXg5D8qOpLLf0jtP5kqGJXUifQ/c9cS8kHP/D+/DpwzojQEQIEmwoanVwxA4lgXt9HgE0BSSZ2AJuIbQAMJih9jjiNA5q4l5INuK0AwTKYKRj0zQNv5fmq8/DpAaCJseHrtQkB/+zpwzoxKQM3MzMzMeFJAZmZmZmZqWEAAAAAAAFxeQM3MzMzMJmJAmpmZmZkfZUBmZmZmZhhoQDMzMzMzEWtAAAAAAAAKbkBmZmZmZoFwQM3MzMzM/XFAMzMzMzN6c0CamZmZmfZ0QAAAAAAAc3ZAZmZmZmbvd0DNzMzMzGt5QDMzMzMz6HpAmpmZmZlkfEAAAAAAAOF9QGZmZmZmXX9AZmZmZuZsgECamZmZGSuBQM3MzMxM6YFAAAAAAICngkAzMzMzs2WDQGZmZmbmI4RAmpmZmRnihEDNzMzMTKCFQAAAAACAXoZAMzMzM7Mch0BmZmZm5tqHQJqZmZkZmYhAzczMzExXiUAAAAAAgBWKQDMzMzOz04pAZmZmZuaRi0CamZmZGVCMQM3MzMxMDo1AAAAAAIDMjUAzMzMzs4qOQGZmZmbmSI9A\",\"dtype\":\"float64\",\"shape\":[75]}},\"selected\":{\"id\":\"6e35b4e0-56ea-40b1-8a13-77cca8184047\",\"type\":\"Selection\"},\"selection_policy\":{\"id\":\"6e93888e-565e-4143-ad56-0a8b4ce422d7\",\"type\":\"UnionRenderers\"}},\"id\":\"d2442f5a-0b3a-497a-9bf0-b8723371e7d6\",\"type\":\"ColumnDataSource\"},{\"attributes\":{\"source\":{\"id\":\"80eedd00-ff66-4e71-bb38-d18a8d948fde\",\"type\":\"ColumnDataSource\"}},\"id\":\"8905131d-dc7a-4651-80d0-13db40c8140d\",\"type\":\"CDSView\"},{\"attributes\":{\"source\":{\"id\":\"31ac21d5-f902-4b1a-aea5-3f55191eaca4\",\"type\":\"ColumnDataSource\"}},\"id\":\"0b3461b0-9c87-412b-bfe1-a2b3153a714a\",\"type\":\"CDSView\"},{\"attributes\":{},\"id\":\"ced4c5f8-6d86-4e9e-b7e7-fdd4a3054f92\",\"type\":\"ResetTool\"},{\"attributes\":{\"dimension\":1,\"plot\":{\"id\":\"acbb1aaa-31a3-4c03-ab7c-fb1db34a9f2d\",\"subtype\":\"Figure\",\"type\":\"Plot\"},\"ticker\":{\"id\":\"eacc8479-8896-4989-b998-dc386fc863be\",\"type\":\"LogTicker\"}},\"id\":\"4df9dbc9-35b3-45dc-8a5f-3a7b24fb2565\",\"type\":\"Grid\"},{\"attributes\":{\"dimension\":1,\"plot\":{\"id\":\"d8c56bc5-adb9-4b86-ac9f-1acc8f49a82e\",\"subtype\":\"Figure\",\"type\":\"Plot\"},\"ticker\":{\"id\":\"54a90784-ef4e-4bc5-8103-db46260f4b03\",\"type\":\"BasicTicker\"}},\"id\":\"f2994c58-a63e-463c-aa34-d49e35bcd99b\",\"type\":\"Grid\"},{\"attributes\":{\"line_color\":\"#4daf4a\",\"line_width\":1.5,\"x\":{\"field\":\"x\"},\"y\":{\"field\":\"y\"}},\"id\":\"eb5378bb-ec11-406f-9ffc-b4c7cba79f20\",\"type\":\"Line\"},{\"attributes\":{},\"id\":\"d134573d-1dd7-41db-8a8f-8f591a93775c\",\"type\":\"Selection\"},{\"attributes\":{\"fill_alpha\":{\"value\":0.7},\"fill_color\":{\"value\":\"#4daf4a\"},\"line_alpha\":{\"value\":0.7},\"line_color\":{\"value\":\"#4daf4a\"},\"x\":{\"field\":\"x\"},\"y\":{\"field\":\"y\"}},\"id\":\"56066bbb-d252-466b-ac6b-2948e4c43b8c\",\"type\":\"Circle\"},{\"attributes\":{\"callback\":null,\"data\":{\"x\":{\"__ndarray__\":\"0CYBcvU5UkCik9zf2GVBQF1VoNfLZ0BAVLxhiVXTPUDD1Wu1wJM6QFJyB025jjdAU6Aw5+b/NECYe1uuDfgyQB6bYtVTbTFAPxYSAF1HMEA00pYVm9QuQLolHbMzgC1AntlwirGsLECv+G9SjE4rQJH6ZLBp0ShAsLZQyPd/JkDyjgyf2PwkQLgyNGsrJyRAA13QbJD6I0C8hy0ilI4kQOVTXCEgcSZAovOGvZSGJUBVc/ZmUOIgQOf/6GHAyRlAcE8fAOBSFEDRur1U//gPQGFD9ZbokghAQsqHuSqSA0C91ci3W0UBQCtRQfvz7/4/kh8pntyB+j9t1/n+4TX1P773MAUjFfI/RgzR+CI28T8hBW8WHK7uPzVKjJfU8uk/0FPt4/z65T/wVYqzMPDhPz7K9C5CXuE/8+hSn9hY4T/9PPCkR6rhP1XsIC599OA/66X1nBCX3z/YbRM56QjcPz4dkSQc/dM/S7Wb8Fq00T+/yQdmX0vcP7TrGf476eM/WqNPJoWO7D9qOH1bcwDzP2bw+R5DQ/Y/RLSuQOQp+D8+aif8yAz5P0Wv6eBKRfk/0i2+IN4R+T/ik8QNFZr4PyS5UD5j/Pc/yJ68zXRG9z/2CHPL54H2P59SOhwKtPU/npkP8dfg9D8NlmVcdQz0P80ugRvuOvM/byxiAHN18j9USVZie8nxP5l9lNXYSPE/OB+F0UYP8T8Y7dsUCTHxP3EBgTHPcPE/bfx15p8S8T8FT+xkGtTuP6mdG7rkxuk/pboqTkHX5D/CrN8qGYngP7R4ZaL+htU/\",\"dtype\":\"float64\",\"shape\":[75]},\"y\":{\"__ndarray__\":\"GhExyth1ND/Sv8nbtpRIP2vylNV0PVE/aTum7souWD/At0SJ8fVgPw3Iuahxymc/MSNhhJWvcD/bTfBN02d3P2zb5nxnaoA/CD5h5MAGhz8NmeH1TyaQP+zrCsc9p5Y/LbKd76fGnz/bLW5ISEmmPww9YvTcQq8/JV2OstnstT8Er5Y7M8G+P0c+r3jqkcU/5h99k6ZBzj88bCIzFzjVP4enV8oyxN0//yH99nXg5D8qOpLLf0jtP5kqGJXUifQ/c9cS8kHP/D+/DpwzojQEQIEmwoanVwxA4lgXt9HgE0BSSZ2AJuIbQAMJih9jjiNA5q4l5INuK0AwTKYKRj0zQNv5fmq8/DpAaCJseHrtQkB/+zpwzoxKQM3MzMzMeFJAZmZmZmZqWEAAAAAAAFxeQM3MzMzMJmJAmpmZmZkfZUBmZmZmZhhoQDMzMzMzEWtAAAAAAAAKbkBmZmZmZoFwQM3MzMzM/XFAMzMzMzN6c0CamZmZmfZ0QAAAAAAAc3ZAZmZmZmbvd0DNzMzMzGt5QDMzMzMz6HpAmpmZmZlkfEAAAAAAAOF9QGZmZmZmXX9AZmZmZuZsgECamZmZGSuBQM3MzMxM6YFAAAAAAICngkAzMzMzs2WDQGZmZmbmI4RAmpmZmRnihEDNzMzMTKCFQAAAAACAXoZAMzMzM7Mch0BmZmZm5tqHQJqZmZkZmYhAzczMzExXiUAAAAAAgBWKQDMzMzOz04pAZmZmZuaRi0CamZmZGVCMQM3MzMxMDo1AAAAAAIDMjUAzMzMzs4qOQGZmZmbmSI9A\",\"dtype\":\"float64\",\"shape\":[75]}},\"selected\":{\"id\":\"523dd1c8-ce58-4b84-a8c4-a7ab80e39c6f\",\"type\":\"Selection\"},\"selection_policy\":{\"id\":\"f4a0e55a-979a-43c3-90a8-90c2296148eb\",\"type\":\"UnionRenderers\"}},\"id\":\"80eedd00-ff66-4e71-bb38-d18a8d948fde\",\"type\":\"ColumnDataSource\"},{\"attributes\":{\"above\":[{\"id\":\"fd9533c6-3e57-4604-882c-2e95eb51c59f\",\"type\":\"Legend\"}],\"below\":[{\"id\":\"f15774ff-7cdc-4198-93df-33fb8103a710\",\"type\":\"LinearAxis\"}],\"left\":[{\"id\":\"c90273e5-e053-4ecd-9a97-0a960d934369\",\"type\":\"LinearAxis\"}],\"plot_width\":300,\"renderers\":[{\"id\":\"f15774ff-7cdc-4198-93df-33fb8103a710\",\"type\":\"LinearAxis\"},{\"id\":\"2468d2d5-dedc-4ac8-b0e6-9f08510b5593\",\"type\":\"Grid\"},{\"id\":\"c90273e5-e053-4ecd-9a97-0a960d934369\",\"type\":\"LinearAxis\"},{\"id\":\"f2994c58-a63e-463c-aa34-d49e35bcd99b\",\"type\":\"Grid\"},{\"id\":\"5e8318b3-e0e5-474a-b823-8f6c73a89ae8\",\"type\":\"BoxAnnotation\"},{\"id\":\"1bf392d1-9185-47ec-8d24-a57e5fb68854\",\"type\":\"GlyphRenderer\"},{\"id\":\"bb7ad190-0d00-4f99-b33d-dc1587256f21\",\"type\":\"GlyphRenderer\"},{\"id\":\"f618d810-c888-42df-8e4b-a8d7e320f394\",\"type\":\"GlyphRenderer\"},{\"id\":\"fd9533c6-3e57-4604-882c-2e95eb51c59f\",\"type\":\"Legend\"}],\"title\":{\"id\":\"3c249375-65e6-4140-952a-bbed65d27b9e\",\"type\":\"Title\"},\"toolbar\":{\"id\":\"43afce5c-6eb8-4695-a386-437a6fbd55e4\",\"type\":\"Toolbar\"},\"toolbar_location\":null,\"x_range\":{\"id\":\"aeb98b46-f6ad-495b-b2db-35e33b6f6855\",\"type\":\"Range1d\"},\"x_scale\":{\"id\":\"f0c90004-92bd-4d2a-86f7-17381c2d3fab\",\"type\":\"LinearScale\"},\"y_range\":{\"id\":\"a8f77fbc-149d-4ca5-b7f9-361171bdb3b7\",\"type\":\"Range1d\"},\"y_scale\":{\"id\":\"b0947606-d986-4c5d-8e2d-4e2af589a142\",\"type\":\"LinearScale\"}},\"id\":\"d8c56bc5-adb9-4b86-ac9f-1acc8f49a82e\",\"subtype\":\"Figure\",\"type\":\"Plot\"},{\"attributes\":{\"callback\":null,\"end\":0.01,\"start\":1020},\"id\":\"b8ea2756-a9aa-4c65-983e-c26fe31beec7\",\"type\":\"Range1d\"},{\"attributes\":{\"data_source\":{\"id\":\"d2442f5a-0b3a-497a-9bf0-b8723371e7d6\",\"type\":\"ColumnDataSource\"},\"glyph\":{\"id\":\"eb5378bb-ec11-406f-9ffc-b4c7cba79f20\",\"type\":\"Line\"},\"hover_glyph\":null,\"muted_glyph\":null,\"nonselection_glyph\":{\"id\":\"100e35ec-438a-40e1-aed2-cfcb9749b14e\",\"type\":\"Line\"},\"selection_glyph\":null,\"view\":{\"id\":\"538e55e3-43d3-4ce2-ac72-cf78dff0d088\",\"type\":\"CDSView\"}},\"id\":\"61afb265-4102-4733-b366-bd99c260a615\",\"type\":\"GlyphRenderer\"},{\"attributes\":{\"fill_alpha\":{\"value\":0.1},\"fill_color\":{\"value\":\"#1f77b4\"},\"line_alpha\":{\"value\":0.1},\"line_color\":{\"value\":\"#1f77b4\"},\"x\":{\"field\":\"x\"},\"y\":{\"field\":\"y\"}},\"id\":\"27fff8ce-3f5c-4382-be95-ac9a697ef9d1\",\"type\":\"Circle\"},{\"attributes\":{},\"id\":\"c09b6cdb-aa9f-4adc-afc8-aacb55c3dc5a\",\"type\":\"SaveTool\"},{\"attributes\":{\"plot\":{\"id\":\"c172de42-f506-4381-9421-99b883d9b583\",\"subtype\":\"Figure\",\"type\":\"Plot\"},\"ticker\":{\"id\":\"2ea90bc6-5c68-49df-80d9-58c7d24871b0\",\"type\":\"BasicTicker\"}},\"id\":\"80bb0603-3aa4-4ff1-aec3-67a95ff8cbc9\",\"type\":\"Grid\"},{\"attributes\":{\"plot\":{\"id\":\"acbb1aaa-31a3-4c03-ab7c-fb1db34a9f2d\",\"subtype\":\"Figure\",\"type\":\"Plot\"},\"ticker\":{\"id\":\"50e74200-6a26-49a9-9b4e-82191cd4ef57\",\"type\":\"BasicTicker\"}},\"id\":\"6a5405cb-b9ec-4acc-a631-f2ab973114ba\",\"type\":\"Grid\"},{\"attributes\":{\"fill_alpha\":{\"value\":0.1},\"fill_color\":{\"value\":\"#1f77b4\"},\"line_alpha\":{\"value\":0.1},\"line_color\":{\"value\":\"#1f77b4\"},\"x\":{\"field\":\"x\"},\"y\":{\"field\":\"y\"}},\"id\":\"dbe3b9b1-7e24-46ca-8fee-ba6a41982649\",\"type\":\"Circle\"},{\"attributes\":{},\"id\":\"99b0f8e2-e921-49e7-b442-3b4e0f58c072\",\"type\":\"WheelZoomTool\"},{\"attributes\":{\"source\":{\"id\":\"60df988c-82a0-4a95-adff-8379dab58e6f\",\"type\":\"ColumnDataSource\"}},\"id\":\"096a3e11-5aa8-4aaf-b33c-f15b90d0a418\",\"type\":\"CDSView\"},{\"attributes\":{\"items\":[{\"id\":\"291a416e-a577-4da3-b1ff-594b1c36bad9\",\"type\":\"LegendItem\"},{\"id\":\"d3cedf4f-a496-4b33-a560-295668697937\",\"type\":\"LegendItem\"}],\"label_text_font_size\":{\"value\":\"8pt\"},\"location\":\"top_center\",\"orientation\":\"horizontal\",\"plot\":{\"id\":\"c172de42-f506-4381-9421-99b883d9b583\",\"subtype\":\"Figure\",\"type\":\"Plot\"}},\"id\":\"4843a135-aeb0-4866-8123-d4702c9dfb89\",\"type\":\"Legend\"},{\"attributes\":{},\"id\":\"f0c90004-92bd-4d2a-86f7-17381c2d3fab\",\"type\":\"LinearScale\"},{\"attributes\":{},\"id\":\"4833ae1b-b0de-48c8-974d-3356f041c8a2\",\"type\":\"LogScale\"},{\"attributes\":{\"items\":[{\"id\":\"cfa003a4-c6a4-42b4-a0ab-6c46164cef33\",\"type\":\"LegendItem\"}],\"label_text_font_size\":{\"value\":\"8pt\"},\"location\":\"top_center\",\"orientation\":\"horizontal\",\"plot\":{\"id\":\"acbb1aaa-31a3-4c03-ab7c-fb1db34a9f2d\",\"subtype\":\"Figure\",\"type\":\"Plot\"}},\"id\":\"c8ce7e59-f9e9-4d26-8415-217a65b4e1fc\",\"type\":\"Legend\"},{\"attributes\":{\"line_alpha\":0.1,\"line_color\":\"#1f77b4\",\"line_dash\":[6],\"line_width\":5,\"x\":{\"field\":\"x\"},\"y\":{\"field\":\"y\"}},\"id\":\"6c211de7-fed0-4129-80de-9ccad819571e\",\"type\":\"Line\"},{\"attributes\":{\"label\":{\"value\":\"CLIRAD (single-run)\"},\"renderers\":[{\"id\":\"1bf392d1-9185-47ec-8d24-a57e5fb68854\",\"type\":\"GlyphRenderer\"}]},\"id\":\"df769c70-0a1a-4ff4-8490-13b276087d44\",\"type\":\"LegendItem\"},{\"attributes\":{\"callback\":null,\"end\":0.9897391746271391,\"start\":-1.6775373671211389},\"id\":\"55391163-ce8c-40ca-8047-ad64d0ab43d2\",\"type\":\"Range1d\"},{\"attributes\":{\"active_drag\":\"auto\",\"active_inspect\":\"auto\",\"active_scroll\":\"auto\",\"active_tap\":\"auto\",\"tools\":[{\"id\":\"34bdc402-1d66-4e13-ae37-274092125e5a\",\"type\":\"PanTool\"},{\"id\":\"99b0f8e2-e921-49e7-b442-3b4e0f58c072\",\"type\":\"WheelZoomTool\"},{\"id\":\"e894657b-a19d-42f0-8986-de96a9ef1eb8\",\"type\":\"BoxZoomTool\"},{\"id\":\"8ca90007-3f93-4226-a2d7-95836d92f8b8\",\"type\":\"SaveTool\"},{\"id\":\"1624cd33-35d4-4636-be32-51235b6e67ef\",\"type\":\"ResetTool\"},{\"id\":\"ec07e5b2-4dfe-4926-a64c-a02214315cdb\",\"type\":\"HelpTool\"}]},\"id\":\"d2c4e97a-a2e1-4f8d-b9b1-c0730bbdaae5\",\"type\":\"Toolbar\"},{\"attributes\":{},\"id\":\"f0e96797-1ad4-484e-9f34-c23156c6867e\",\"type\":\"WheelZoomTool\"},{\"attributes\":{\"source\":{\"id\":\"bd170745-976b-4d9c-ae9a-d9ada517b399\",\"type\":\"ColumnDataSource\"}},\"id\":\"478dd466-aba2-484f-bef3-7565c91a82c7\",\"type\":\"CDSView\"},{\"attributes\":{},\"id\":\"2ad92efd-3554-44ea-9720-066bd1cabef1\",\"type\":\"Selection\"},{\"attributes\":{\"data_source\":{\"id\":\"31ac21d5-f902-4b1a-aea5-3f55191eaca4\",\"type\":\"ColumnDataSource\"},\"glyph\":{\"id\":\"27db5885-d0f6-4d6b-9604-33f5e75e5db3\",\"type\":\"Line\"},\"hover_glyph\":null,\"muted_glyph\":null,\"nonselection_glyph\":{\"id\":\"6c211de7-fed0-4129-80de-9ccad819571e\",\"type\":\"Line\"},\"selection_glyph\":null,\"view\":{\"id\":\"0b3461b0-9c87-412b-bfe1-a2b3153a714a\",\"type\":\"CDSView\"}},\"id\":\"298b8196-ce26-46b7-a805-0b7378b53e53\",\"type\":\"GlyphRenderer\"},{\"attributes\":{\"overlay\":{\"id\":\"01b653a4-5a5e-43f2-8d6e-a97c641f1f01\",\"type\":\"BoxAnnotation\"}},\"id\":\"76b42414-7353-4567-ae4c-6c72e706cb45\",\"type\":\"BoxZoomTool\"},{\"attributes\":{\"callback\":null,\"end\":1.5925520597826701,\"start\":0.25278747673033},\"id\":\"aeb98b46-f6ad-495b-b2db-35e33b6f6855\",\"type\":\"Range1d\"},{\"attributes\":{},\"id\":\"e39f3e07-85c6-430a-b5f6-9fbce825b606\",\"type\":\"LinearScale\"},{\"attributes\":{\"label\":{\"value\":\"CRD\"},\"renderers\":[{\"id\":\"bb7ad190-0d00-4f99-b33d-dc1587256f21\",\"type\":\"GlyphRenderer\"},{\"id\":\"f618d810-c888-42df-8e4b-a8d7e320f394\",\"type\":\"GlyphRenderer\"}]},\"id\":\"27910935-9532-4dd7-b93a-8b15ff91c718\",\"type\":\"LegendItem\"},{\"attributes\":{},\"id\":\"8ca90007-3f93-4226-a2d7-95836d92f8b8\",\"type\":\"SaveTool\"},{\"attributes\":{\"num_minor_ticks\":10},\"id\":\"66748971-76bf-4416-9176-fd01d391eff2\",\"type\":\"LogTicker\"},{\"attributes\":{\"fill_alpha\":{\"value\":0.7},\"fill_color\":{\"value\":\"#984ea3\"},\"line_alpha\":{\"value\":0.7},\"line_color\":{\"value\":\"#984ea3\"},\"x\":{\"field\":\"x\"},\"y\":{\"field\":\"y\"}},\"id\":\"774b30f4-da6c-4597-a1d6-681c33c70270\",\"type\":\"Circle\"},{\"attributes\":{\"children\":[{\"id\":\"7e20f298-900c-470d-8f3c-7b2cf0e78be8\",\"type\":\"Row\"}]},\"id\":\"4f9a4903-155a-4022-9620-c6f35d1eb1ef\",\"type\":\"Column\"},{\"attributes\":{},\"id\":\"e55333b3-30e8-4e7b-ac11-4077d052f08a\",\"type\":\"PanTool\"},{\"attributes\":{\"line_alpha\":0.1,\"line_color\":\"#1f77b4\",\"line_dash\":[6],\"line_width\":5,\"x\":{\"field\":\"x\"},\"y\":{\"field\":\"y\"}},\"id\":\"4344aff0-8bd3-4df2-b1ef-b3e4f2977768\",\"type\":\"Line\"},{\"attributes\":{},\"id\":\"e07e3067-ce24-4eae-9b23-72b1243ced4a\",\"type\":\"UnionRenderers\"},{\"attributes\":{},\"id\":\"ec07e5b2-4dfe-4926-a64c-a02214315cdb\",\"type\":\"HelpTool\"},{\"attributes\":{\"bottom_units\":\"screen\",\"fill_alpha\":{\"value\":0.5},\"fill_color\":{\"value\":\"lightgrey\"},\"left_units\":\"screen\",\"level\":\"overlay\",\"line_alpha\":{\"value\":1.0},\"line_color\":{\"value\":\"black\"},\"line_dash\":[4,4],\"line_width\":{\"value\":2},\"plot\":null,\"render_mode\":\"css\",\"right_units\":\"screen\",\"top_units\":\"screen\"},\"id\":\"87c007fb-4adf-461c-beff-ddc99d3a64ca\",\"type\":\"BoxAnnotation\"},{\"attributes\":{},\"id\":\"2ea90bc6-5c68-49df-80d9-58c7d24871b0\",\"type\":\"BasicTicker\"},{\"attributes\":{},\"id\":\"1624cd33-35d4-4636-be32-51235b6e67ef\",\"type\":\"ResetTool\"},{\"attributes\":{\"axis_label\":\"pressure [mb]\",\"formatter\":{\"id\":\"654cfabf-2e6f-4482-8a70-065ac2497779\",\"type\":\"LogTickFormatter\"},\"plot\":{\"id\":\"c172de42-f506-4381-9421-99b883d9b583\",\"subtype\":\"Figure\",\"type\":\"Plot\"},\"ticker\":{\"id\":\"66748971-76bf-4416-9176-fd01d391eff2\",\"type\":\"LogTicker\"}},\"id\":\"2c7a9fe2-b9ed-46bc-974a-bcdea90e3548\",\"type\":\"LogAxis\"},{\"attributes\":{\"axis_label\":\"cooling rate [K/day]\",\"formatter\":{\"id\":\"3bbfdeca-c35e-4be9-8d90-f812b530a2cb\",\"type\":\"BasicTickFormatter\"},\"plot\":{\"id\":\"c172de42-f506-4381-9421-99b883d9b583\",\"subtype\":\"Figure\",\"type\":\"Plot\"},\"ticker\":{\"id\":\"2ea90bc6-5c68-49df-80d9-58c7d24871b0\",\"type\":\"BasicTicker\"}},\"id\":\"d3660500-ca5e-4dd8-b649-17b127610ee8\",\"type\":\"LinearAxis\"},{\"attributes\":{},\"id\":\"54a90784-ef4e-4bc5-8103-db46260f4b03\",\"type\":\"BasicTicker\"},{\"attributes\":{},\"id\":\"df98c037-2ffc-48d2-9cac-e30939098dd6\",\"type\":\"LinearScale\"},{\"attributes\":{\"dimension\":1,\"plot\":{\"id\":\"c172de42-f506-4381-9421-99b883d9b583\",\"subtype\":\"Figure\",\"type\":\"Plot\"},\"ticker\":{\"id\":\"66748971-76bf-4416-9176-fd01d391eff2\",\"type\":\"LogTicker\"}},\"id\":\"80881ff1-7ce3-48a8-8ae0-ec85861831c0\",\"type\":\"Grid\"},{\"attributes\":{\"callback\":null,\"end\":16.436989857875947,\"start\":0.29783215711705},\"id\":\"0683fe72-0336-499b-b6e2-4d8f74877be5\",\"type\":\"Range1d\"},{\"attributes\":{},\"id\":\"34bdc402-1d66-4e13-ae37-274092125e5a\",\"type\":\"PanTool\"},{\"attributes\":{\"overlay\":{\"id\":\"87c007fb-4adf-461c-beff-ddc99d3a64ca\",\"type\":\"BoxAnnotation\"}},\"id\":\"e894657b-a19d-42f0-8986-de96a9ef1eb8\",\"type\":\"BoxZoomTool\"},{\"attributes\":{\"axis_label\":\"cooling rate [K/day]\",\"formatter\":{\"id\":\"68173fe5-1fed-4da6-b0bb-7b06c493e38e\",\"type\":\"BasicTickFormatter\"},\"plot\":{\"id\":\"d8c56bc5-adb9-4b86-ac9f-1acc8f49a82e\",\"subtype\":\"Figure\",\"type\":\"Plot\"},\"ticker\":{\"id\":\"a749bf37-a5b9-4471-92c4-8115905e2398\",\"type\":\"BasicTicker\"}},\"id\":\"f15774ff-7cdc-4198-93df-33fb8103a710\",\"type\":\"LinearAxis\"},{\"attributes\":{\"active_drag\":\"auto\",\"active_inspect\":\"auto\",\"active_scroll\":\"auto\",\"active_tap\":\"auto\",\"tools\":[{\"id\":\"e55333b3-30e8-4e7b-ac11-4077d052f08a\",\"type\":\"PanTool\"},{\"id\":\"f0e96797-1ad4-484e-9f34-c23156c6867e\",\"type\":\"WheelZoomTool\"},{\"id\":\"76b42414-7353-4567-ae4c-6c72e706cb45\",\"type\":\"BoxZoomTool\"},{\"id\":\"c09b6cdb-aa9f-4adc-afc8-aacb55c3dc5a\",\"type\":\"SaveTool\"},{\"id\":\"ced4c5f8-6d86-4e9e-b7e7-fdd4a3054f92\",\"type\":\"ResetTool\"},{\"id\":\"201463de-fb51-4e4a-8a4f-7add687a660c\",\"type\":\"HelpTool\"}]},\"id\":\"4da7365d-6569-4406-9802-fcaca455e9cf\",\"type\":\"Toolbar\"},{\"attributes\":{},\"id\":\"b0947606-d986-4c5d-8e2d-4e2af589a142\",\"type\":\"LinearScale\"}],\"root_ids\":[\"51b14b0f-148c-4e6c-9b79-2b30376df4ad\"]},\"title\":\"Bokeh Application\",\"version\":\"0.12.16\"}};\n",
       "  var render_items = [{\"docid\":\"974f0152-9c8c-4fb6-abbb-8d6876059ddf\",\"elementid\":\"2350aa3e-ea61-4df1-9986-b5013367947b\",\"modelid\":\"51b14b0f-148c-4e6c-9b79-2b30376df4ad\"}];\n",
       "  root.Bokeh.embed.embed_items_notebook(docs_json, render_items);\n",
       "\n",
       "  }\n",
       "  if (root.Bokeh !== undefined) {\n",
       "    embed_document(root);\n",
       "  } else {\n",
       "    var attempts = 0;\n",
       "    var timer = setInterval(function(root) {\n",
       "      if (root.Bokeh !== undefined) {\n",
       "        embed_document(root);\n",
       "        clearInterval(timer);\n",
       "      }\n",
       "      attempts++;\n",
       "      if (attempts > 100) {\n",
       "        console.log(\"Bokeh: ERROR: Unable to run BokehJS code because BokehJS library is missing\")\n",
       "        clearInterval(timer);\n",
       "      }\n",
       "    }, 10, root)\n",
       "  }\n",
       "})(window);"
      ],
      "application/vnd.bokehjs_exec.v0+json": ""
     },
     "metadata": {
      "application/vnd.bokehjs_exec.v0+json": {
       "id": "51b14b0f-148c-4e6c-9b79-2b30376df4ad"
      }
     },
     "output_type": "display_data"
    },
    {
     "data": {
      "text/markdown": [
       "*FIGURE.* Cooling rates & difference."
      ],
      "text/plain": [
       "<IPython.core.display.Markdown object>"
      ]
     },
     "metadata": {},
     "output_type": "display_data"
    },
    {
     "data": {
      "text/html": [
       "<a id=\"Fluxes._saw.\"></a>"
      ],
      "text/plain": [
       "<IPython.core.display.HTML object>"
      ]
     },
     "metadata": {},
     "output_type": "display_data"
    },
    {
     "data": {
      "text/markdown": [
       "# Fluxes. saw."
      ],
      "text/plain": [
       "<IPython.core.display.Markdown object>"
      ]
     },
     "metadata": {},
     "output_type": "display_data"
    },
    {
     "data": {
      "text/html": [
       "\n",
       "<div class=\"bk-root\">\n",
       "    <div class=\"bk-plotdiv\" id=\"9f77bf4e-a21d-4ff1-a2ce-8a1e01f8b865\"></div>\n",
       "</div>"
      ]
     },
     "metadata": {},
     "output_type": "display_data"
    },
    {
     "data": {
      "application/javascript": [
       "(function(root) {\n",
       "  function embed_document(root) {\n",
       "    \n",
       "  var docs_json = {\"c850d206-584c-483b-8c90-2ed6df0ad4fd\":{\"roots\":{\"references\":[{\"attributes\":{},\"id\":\"77e3b2ae-9057-4be9-9b78-ee4bebd5a3a8\",\"type\":\"WheelZoomTool\"},{\"attributes\":{\"source\":{\"id\":\"2c66e07d-a781-4700-8d88-a092fda80a1d\",\"type\":\"ColumnDataSource\"}},\"id\":\"f9bc5409-95b5-451b-b6e9-3826e97ff7c1\",\"type\":\"CDSView\"},{\"attributes\":{\"fill_alpha\":{\"value\":0.1},\"fill_color\":{\"value\":\"#1f77b4\"},\"line_alpha\":{\"value\":0.1},\"line_color\":{\"value\":\"#1f77b4\"},\"top\":{\"field\":\"flux\"},\"width\":{\"value\":0.9},\"x\":{\"field\":\"band\"}},\"id\":\"fb4c85f7-3b1c-4c42-9aaa-bf1572637b2a\",\"type\":\"VBar\"},{\"attributes\":{\"below\":[{\"id\":\"1b2e573b-876f-48d6-9b9a-b35313379866\",\"type\":\"CategoricalAxis\"}],\"left\":[{\"id\":\"12ff1432-80d7-4e65-8701-df2db81c1e12\",\"type\":\"LinearAxis\"}],\"plot_height\":300,\"plot_width\":300,\"renderers\":[{\"id\":\"1b2e573b-876f-48d6-9b9a-b35313379866\",\"type\":\"CategoricalAxis\"},{\"id\":\"23080d6e-18fd-41d6-bd29-1e40c3219026\",\"type\":\"Grid\"},{\"id\":\"12ff1432-80d7-4e65-8701-df2db81c1e12\",\"type\":\"LinearAxis\"},{\"id\":\"92e5fc11-1e72-4d04-b02c-472c145b1b02\",\"type\":\"Grid\"},{\"id\":\"580804bd-e93a-47a8-8f82-ef869689f4f6\",\"type\":\"BoxAnnotation\"},{\"id\":\"2937317f-9a3a-44e2-aa4b-356b60358528\",\"type\":\"GlyphRenderer\"}],\"title\":{\"id\":\"329f4023-8e65-48d4-8ff7-7958d940e575\",\"type\":\"Title\"},\"toolbar\":{\"id\":\"afb3dd6d-0e55-4757-bc68-b1f3378a1f74\",\"type\":\"Toolbar\"},\"toolbar_location\":null,\"x_range\":{\"id\":\"725bf492-35b0-4b9e-932b-204b318597d1\",\"type\":\"FactorRange\"},\"x_scale\":{\"id\":\"44b76b66-a441-4e66-8648-9a9caf4c8787\",\"type\":\"CategoricalScale\"},\"y_range\":{\"id\":\"84dc8123-558e-4fa2-a5bf-8c960f5a62c2\",\"type\":\"DataRange1d\"},\"y_scale\":{\"id\":\"ded6e728-5919-4444-b8e7-09bec285588b\",\"type\":\"LinearScale\"}},\"id\":\"92187d7b-f5c0-4d3e-8fc0-8a740dd8150d\",\"subtype\":\"Figure\",\"type\":\"Plot\"},{\"attributes\":{\"plot\":{\"id\":\"3b6c8e42-8be7-4eaa-b202-7749509b37cd\",\"subtype\":\"Figure\",\"type\":\"Plot\"},\"ticker\":{\"id\":\"b584fd80-1053-4277-bffa-f2021ca766fe\",\"type\":\"CategoricalTicker\"}},\"id\":\"4d1d63c3-9171-448f-b8db-5ba0da057f7f\",\"type\":\"Grid\"},{\"attributes\":{\"fill_color\":{\"value\":\"#1f77b4\"},\"line_color\":{\"value\":\"#1f77b4\"},\"top\":{\"field\":\"flux\"},\"width\":{\"value\":0.9},\"x\":{\"field\":\"band\"}},\"id\":\"d549440e-ef82-4690-9632-da276a014233\",\"type\":\"VBar\"},{\"attributes\":{\"axis_label\":\"spectral band\",\"formatter\":{\"id\":\"4b8a4790-64a5-4cdf-8cf8-54360a13a818\",\"type\":\"CategoricalTickFormatter\"},\"plot\":{\"id\":\"413a2638-a3c0-4042-b810-8346942f47fd\",\"subtype\":\"Figure\",\"type\":\"Plot\"},\"ticker\":{\"id\":\"7ed2fd85-70be-441d-abab-31eb5973ba06\",\"type\":\"CategoricalTicker\"}},\"id\":\"27814088-6ce1-4c37-a9df-f7c8e374a72e\",\"type\":\"CategoricalAxis\"},{\"attributes\":{\"plot\":{\"id\":\"413a2638-a3c0-4042-b810-8346942f47fd\",\"subtype\":\"Figure\",\"type\":\"Plot\"},\"ticker\":{\"id\":\"7ed2fd85-70be-441d-abab-31eb5973ba06\",\"type\":\"CategoricalTicker\"}},\"id\":\"89acabe0-e3ac-479a-90f3-4c6167ff0ec4\",\"type\":\"Grid\"},{\"attributes\":{\"callback\":null,\"data\":{\"band\":[\"1\",\"2\",\"3\",\"4\",\"5\",\"6\",\"7\",\"8\",\"9\",\"10\",\"11\"],\"flux\":{\"__ndarray__\":\"AEDdJAaBZb8Asg5HV+nAv4DgnBGlveC/AOp+TkF+tj8AHbkkvV7IPyB+nlCZrLm/AD0w26kUsD/ga9jnGC20vwAmr84xIJM/AJDEy9O5oj8A+eRZMI5tPw==\",\"dtype\":\"float64\",\"shape\":[11]}},\"selected\":{\"id\":\"a23fdcdd-9790-4a85-ba32-066dfaccf4b3\",\"type\":\"Selection\"},\"selection_policy\":{\"id\":\"06d6625f-8e8e-476d-ae9a-94bc82b6d7d5\",\"type\":\"UnionRenderers\"}},\"id\":\"2aaae860-c864-4cdc-ac4f-533b695fd53f\",\"type\":\"ColumnDataSource\"},{\"attributes\":{},\"id\":\"c07537ac-d8a8-4767-9b21-82ff8db8c5c7\",\"type\":\"BasicTicker\"},{\"attributes\":{},\"id\":\"26abc0b9-5390-40ef-a754-90b3c0cc1e9d\",\"type\":\"CategoricalTickFormatter\"},{\"attributes\":{\"fill_color\":{\"value\":\"#1f77b4\"},\"line_color\":{\"value\":\"#1f77b4\"},\"top\":{\"field\":\"flux\"},\"width\":{\"value\":0.9},\"x\":{\"field\":\"band\"}},\"id\":\"2759792a-ffbd-426f-bd2f-3149c7700bbb\",\"type\":\"VBar\"},{\"attributes\":{\"bottom_units\":\"screen\",\"fill_alpha\":{\"value\":0.5},\"fill_color\":{\"value\":\"lightgrey\"},\"left_units\":\"screen\",\"level\":\"overlay\",\"line_alpha\":{\"value\":1.0},\"line_color\":{\"value\":\"black\"},\"line_dash\":[4,4],\"line_width\":{\"value\":2},\"plot\":null,\"render_mode\":\"css\",\"right_units\":\"screen\",\"top_units\":\"screen\"},\"id\":\"9493e335-f705-4f59-81d8-5f8e181c98d7\",\"type\":\"BoxAnnotation\"},{\"attributes\":{\"axis_label\":\"flux (W m-2)\",\"formatter\":{\"id\":\"778b8d5e-c465-487c-bc44-f2d452764bdf\",\"type\":\"BasicTickFormatter\"},\"plot\":{\"id\":\"413a2638-a3c0-4042-b810-8346942f47fd\",\"subtype\":\"Figure\",\"type\":\"Plot\"},\"ticker\":{\"id\":\"c07537ac-d8a8-4767-9b21-82ff8db8c5c7\",\"type\":\"BasicTicker\"}},\"id\":\"5ce40c4b-50bc-496a-ac4a-136ed80e78ff\",\"type\":\"LinearAxis\"},{\"attributes\":{\"overlay\":{\"id\":\"9493e335-f705-4f59-81d8-5f8e181c98d7\",\"type\":\"BoxAnnotation\"}},\"id\":\"306930c1-ce2b-4b20-af94-06da36c4c9fb\",\"type\":\"BoxZoomTool\"},{\"attributes\":{},\"id\":\"1473759f-cc27-4a78-a27d-412082920d8d\",\"type\":\"LinearScale\"},{\"attributes\":{},\"id\":\"c8e9b66d-9b1e-403c-8724-f50cea611ae3\",\"type\":\"HelpTool\"},{\"attributes\":{\"fill_alpha\":{\"value\":0.1},\"fill_color\":{\"value\":\"#1f77b4\"},\"line_alpha\":{\"value\":0.1},\"line_color\":{\"value\":\"#1f77b4\"},\"top\":{\"field\":\"flux\"},\"width\":{\"value\":0.9},\"x\":{\"field\":\"band\"}},\"id\":\"22e01d19-6831-474d-b831-b8cdb008dd0e\",\"type\":\"VBar\"},{\"attributes\":{},\"id\":\"7ed2fd85-70be-441d-abab-31eb5973ba06\",\"type\":\"CategoricalTicker\"},{\"attributes\":{},\"id\":\"1e09443d-c261-492a-aa98-03b539fab78a\",\"type\":\"BasicTickFormatter\"},{\"attributes\":{\"source\":{\"id\":\"2aaae860-c864-4cdc-ac4f-533b695fd53f\",\"type\":\"ColumnDataSource\"}},\"id\":\"1eb6b07f-02e4-4100-934f-05e2b2f78ec9\",\"type\":\"CDSView\"},{\"attributes\":{},\"id\":\"ed7f6739-af39-4fd1-bef6-2392d4b452a9\",\"type\":\"ResetTool\"},{\"attributes\":{},\"id\":\"0755d650-1e50-410f-8810-3bab6807324b\",\"type\":\"PanTool\"},{\"attributes\":{},\"id\":\"54f3c915-f54e-4aaf-8116-d6e76a1b54f4\",\"type\":\"CategoricalScale\"},{\"attributes\":{\"bottom_units\":\"screen\",\"fill_alpha\":{\"value\":0.5},\"fill_color\":{\"value\":\"lightgrey\"},\"left_units\":\"screen\",\"level\":\"overlay\",\"line_alpha\":{\"value\":1.0},\"line_color\":{\"value\":\"black\"},\"line_dash\":[4,4],\"line_width\":{\"value\":2},\"plot\":null,\"render_mode\":\"css\",\"right_units\":\"screen\",\"top_units\":\"screen\"},\"id\":\"580804bd-e93a-47a8-8f82-ef869689f4f6\",\"type\":\"BoxAnnotation\"},{\"attributes\":{\"axis_label\":\"flux (W m-2)\",\"formatter\":{\"id\":\"d7658b2a-a632-4e59-9fd1-703583169c95\",\"type\":\"BasicTickFormatter\"},\"plot\":{\"id\":\"3b6c8e42-8be7-4eaa-b202-7749509b37cd\",\"subtype\":\"Figure\",\"type\":\"Plot\"},\"ticker\":{\"id\":\"8728fff1-d5f6-468b-b60c-ab14d7738712\",\"type\":\"BasicTicker\"}},\"id\":\"844a2f1a-873c-4ead-9792-ef0326d4f5c0\",\"type\":\"LinearAxis\"},{\"attributes\":{},\"id\":\"06d6625f-8e8e-476d-ae9a-94bc82b6d7d5\",\"type\":\"UnionRenderers\"},{\"attributes\":{\"callback\":null,\"data\":{\"band\":[\"1\",\"2\",\"3\",\"4\",\"5\",\"6\",\"7\",\"8\",\"9\",\"10\",\"11\"],\"flux\":{\"__ndarray__\":\"gGLUtfY+xz8ABgWlaOWyPwCnJVZGI7O/4NU5BmSv0D8AounsZHC4PwBAAg02dY6/QIl6wac50j8AHErtRbSNvwBDfBY6ZaA/AGgLdJJSdb9AysVzETqTPw==\",\"dtype\":\"float64\",\"shape\":[11]}},\"selected\":{\"id\":\"925564a9-13b4-478a-bdd0-5164caf2e5fa\",\"type\":\"Selection\"},\"selection_policy\":{\"id\":\"39c1b833-34f9-4b90-a155-55e541493064\",\"type\":\"UnionRenderers\"}},\"id\":\"2c66e07d-a781-4700-8d88-a092fda80a1d\",\"type\":\"ColumnDataSource\"},{\"attributes\":{\"below\":[{\"id\":\"65101a70-6375-4f90-b995-1d03bb7c5feb\",\"type\":\"CategoricalAxis\"}],\"left\":[{\"id\":\"844a2f1a-873c-4ead-9792-ef0326d4f5c0\",\"type\":\"LinearAxis\"}],\"plot_height\":300,\"plot_width\":300,\"renderers\":[{\"id\":\"65101a70-6375-4f90-b995-1d03bb7c5feb\",\"type\":\"CategoricalAxis\"},{\"id\":\"4d1d63c3-9171-448f-b8db-5ba0da057f7f\",\"type\":\"Grid\"},{\"id\":\"844a2f1a-873c-4ead-9792-ef0326d4f5c0\",\"type\":\"LinearAxis\"},{\"id\":\"aa57335f-dbfc-45e1-a1bc-6be7e7b34b40\",\"type\":\"Grid\"},{\"id\":\"9493e335-f705-4f59-81d8-5f8e181c98d7\",\"type\":\"BoxAnnotation\"},{\"id\":\"9999d10d-2297-4ef2-85bb-ed15a61cdb1f\",\"type\":\"GlyphRenderer\"}],\"title\":{\"id\":\"7f876514-4f15-417e-a0e0-fd359093a060\",\"type\":\"Title\"},\"toolbar\":{\"id\":\"e006e978-3e21-4fff-8f01-22b89c9f60e7\",\"type\":\"Toolbar\"},\"toolbar_location\":null,\"x_range\":{\"id\":\"9282d28c-1d41-4de3-8b29-97f46f14fbf8\",\"type\":\"FactorRange\"},\"x_scale\":{\"id\":\"8e383670-93d4-40d5-a8c4-2bbeb789df4f\",\"type\":\"CategoricalScale\"},\"y_range\":{\"id\":\"191a1858-bb45-43c7-8eb1-38cc3677d02e\",\"type\":\"DataRange1d\"},\"y_scale\":{\"id\":\"299a21c7-3478-4bd7-9130-5d2f2ef6de0f\",\"type\":\"LinearScale\"}},\"id\":\"3b6c8e42-8be7-4eaa-b202-7749509b37cd\",\"subtype\":\"Figure\",\"type\":\"Plot\"},{\"attributes\":{\"dimension\":1,\"plot\":{\"id\":\"92187d7b-f5c0-4d3e-8fc0-8a740dd8150d\",\"subtype\":\"Figure\",\"type\":\"Plot\"},\"ticker\":{\"id\":\"bc20e0ce-7913-439b-8217-5faadaf845f0\",\"type\":\"BasicTicker\"}},\"id\":\"92e5fc11-1e72-4d04-b02c-472c145b1b02\",\"type\":\"Grid\"},{\"attributes\":{\"dimension\":1,\"plot\":{\"id\":\"413a2638-a3c0-4042-b810-8346942f47fd\",\"subtype\":\"Figure\",\"type\":\"Plot\"},\"ticker\":{\"id\":\"c07537ac-d8a8-4767-9b21-82ff8db8c5c7\",\"type\":\"BasicTicker\"}},\"id\":\"89bc6167-8805-4041-b0e5-dbc27c069141\",\"type\":\"Grid\"},{\"attributes\":{\"callback\":null,\"data\":{\"band\":[\"1\",\"2\",\"3\",\"4\",\"5\",\"6\",\"7\",\"8\",\"9\",\"10\",\"11\"],\"flux\":{\"__ndarray__\":\"gOIKWg6Vxz8AZUNIJ1zKP2BFireEstw/AGTOOK8fxj8A/fGoQk24vwBBZJEm3rU/wCMPRBZpzD+AUnx8QnawPwAooORpVIs/gEM6lz1kpb+Au8+vtRCPPw==\",\"dtype\":\"float64\",\"shape\":[11]}},\"selected\":{\"id\":\"5379b0e4-319a-40f6-9858-f15ab43292f4\",\"type\":\"Selection\"},\"selection_policy\":{\"id\":\"99c3f29f-81a5-47a9-8a11-83b2b68fb45a\",\"type\":\"UnionRenderers\"}},\"id\":\"1f5aa200-a09b-45c3-8f47-512ca28ec808\",\"type\":\"ColumnDataSource\"},{\"attributes\":{},\"id\":\"cea151a5-0eee-476c-b366-ea0d81f09dcd\",\"type\":\"ResetTool\"},{\"attributes\":{\"dimension\":1,\"plot\":{\"id\":\"3b6c8e42-8be7-4eaa-b202-7749509b37cd\",\"subtype\":\"Figure\",\"type\":\"Plot\"},\"ticker\":{\"id\":\"8728fff1-d5f6-468b-b60c-ab14d7738712\",\"type\":\"BasicTicker\"}},\"id\":\"aa57335f-dbfc-45e1-a1bc-6be7e7b34b40\",\"type\":\"Grid\"},{\"attributes\":{\"active_drag\":\"auto\",\"active_inspect\":\"auto\",\"active_scroll\":\"auto\",\"active_tap\":\"auto\",\"tools\":[{\"id\":\"52c37b49-2d27-49cf-85f9-8d0407cc2810\",\"type\":\"PanTool\"},{\"id\":\"043fcac3-a3b3-4dae-af6c-79e11659b5ab\",\"type\":\"WheelZoomTool\"},{\"id\":\"b15dc2bb-5d3a-4f4a-befd-de4c26705eab\",\"type\":\"BoxZoomTool\"},{\"id\":\"3377a2d4-f3d1-456e-a272-3a70d9571836\",\"type\":\"SaveTool\"},{\"id\":\"cea151a5-0eee-476c-b366-ea0d81f09dcd\",\"type\":\"ResetTool\"},{\"id\":\"ab31c8d6-7d3c-4d3b-818c-61c630848f77\",\"type\":\"HelpTool\"}]},\"id\":\"afb3dd6d-0e55-4757-bc68-b1f3378a1f74\",\"type\":\"Toolbar\"},{\"attributes\":{\"plot\":{\"id\":\"92187d7b-f5c0-4d3e-8fc0-8a740dd8150d\",\"subtype\":\"Figure\",\"type\":\"Plot\"},\"ticker\":{\"id\":\"3175819c-9f4c-4583-bdfa-db9576a70be4\",\"type\":\"CategoricalTicker\"}},\"id\":\"23080d6e-18fd-41d6-bd29-1e40c3219026\",\"type\":\"Grid\"},{\"attributes\":{},\"id\":\"8728fff1-d5f6-468b-b60c-ab14d7738712\",\"type\":\"BasicTicker\"},{\"attributes\":{\"fill_alpha\":{\"value\":0.1},\"fill_color\":{\"value\":\"#1f77b4\"},\"line_alpha\":{\"value\":0.1},\"line_color\":{\"value\":\"#1f77b4\"},\"top\":{\"field\":\"flux\"},\"width\":{\"value\":0.9},\"x\":{\"field\":\"band\"}},\"id\":\"d52eaf39-fc64-4941-8199-e61eace9530d\",\"type\":\"VBar\"},{\"attributes\":{},\"id\":\"ab31c8d6-7d3c-4d3b-818c-61c630848f77\",\"type\":\"HelpTool\"},{\"attributes\":{\"data_source\":{\"id\":\"2c66e07d-a781-4700-8d88-a092fda80a1d\",\"type\":\"ColumnDataSource\"},\"glyph\":{\"id\":\"2759792a-ffbd-426f-bd2f-3149c7700bbb\",\"type\":\"VBar\"},\"hover_glyph\":null,\"muted_glyph\":null,\"nonselection_glyph\":{\"id\":\"d52eaf39-fc64-4941-8199-e61eace9530d\",\"type\":\"VBar\"},\"selection_glyph\":null,\"view\":{\"id\":\"f9bc5409-95b5-451b-b6e9-3826e97ff7c1\",\"type\":\"CDSView\"}},\"id\":\"9999d10d-2297-4ef2-85bb-ed15a61cdb1f\",\"type\":\"GlyphRenderer\"},{\"attributes\":{\"plot\":null,\"text\":\"SFC flux. CLIRAD (single-run) - CRD.\"},\"id\":\"329f4023-8e65-48d4-8ff7-7958d940e575\",\"type\":\"Title\"},{\"attributes\":{\"fill_color\":{\"value\":\"#1f77b4\"},\"line_color\":{\"value\":\"#1f77b4\"},\"top\":{\"field\":\"flux\"},\"width\":{\"value\":0.9},\"x\":{\"field\":\"band\"}},\"id\":\"6ebf88c0-5493-49b3-9b5d-34aeac64c2a8\",\"type\":\"VBar\"},{\"attributes\":{\"source\":{\"id\":\"1f5aa200-a09b-45c3-8f47-512ca28ec808\",\"type\":\"ColumnDataSource\"}},\"id\":\"78caff46-3d07-4da0-a5a0-2105a0f88a36\",\"type\":\"CDSView\"},{\"attributes\":{},\"id\":\"7442542a-d3b3-47f5-b89b-8d87e0023768\",\"type\":\"SaveTool\"},{\"attributes\":{},\"id\":\"043fcac3-a3b3-4dae-af6c-79e11659b5ab\",\"type\":\"WheelZoomTool\"},{\"attributes\":{},\"id\":\"3175819c-9f4c-4583-bdfa-db9576a70be4\",\"type\":\"CategoricalTicker\"},{\"attributes\":{\"overlay\":{\"id\":\"580804bd-e93a-47a8-8f82-ef869689f4f6\",\"type\":\"BoxAnnotation\"}},\"id\":\"b15dc2bb-5d3a-4f4a-befd-de4c26705eab\",\"type\":\"BoxZoomTool\"},{\"attributes\":{},\"id\":\"52c37b49-2d27-49cf-85f9-8d0407cc2810\",\"type\":\"PanTool\"},{\"attributes\":{},\"id\":\"3377a2d4-f3d1-456e-a272-3a70d9571836\",\"type\":\"SaveTool\"},{\"attributes\":{\"overlay\":{\"id\":\"ebab1fab-9877-4a9e-b8b1-4aec05111395\",\"type\":\"BoxAnnotation\"}},\"id\":\"ebcde474-f7f5-4143-98c8-4db6e5bcacaf\",\"type\":\"BoxZoomTool\"},{\"attributes\":{\"axis_label\":\"spectral band\",\"formatter\":{\"id\":\"26abc0b9-5390-40ef-a754-90b3c0cc1e9d\",\"type\":\"CategoricalTickFormatter\"},\"plot\":{\"id\":\"92187d7b-f5c0-4d3e-8fc0-8a740dd8150d\",\"subtype\":\"Figure\",\"type\":\"Plot\"},\"ticker\":{\"id\":\"3175819c-9f4c-4583-bdfa-db9576a70be4\",\"type\":\"CategoricalTicker\"}},\"id\":\"1b2e573b-876f-48d6-9b9a-b35313379866\",\"type\":\"CategoricalAxis\"},{\"attributes\":{},\"id\":\"99c3f29f-81a5-47a9-8a11-83b2b68fb45a\",\"type\":\"UnionRenderers\"},{\"attributes\":{\"toolbar\":{\"id\":\"a5a5669b-d00c-4b97-8719-187c1ee1bbe0\",\"type\":\"ProxyToolbar\"},\"toolbar_location\":\"above\"},\"id\":\"32912e8c-bc9f-4875-a20b-7b0e86ed19df\",\"type\":\"ToolbarBox\"},{\"attributes\":{\"data_source\":{\"id\":\"1f5aa200-a09b-45c3-8f47-512ca28ec808\",\"type\":\"ColumnDataSource\"},\"glyph\":{\"id\":\"d549440e-ef82-4690-9632-da276a014233\",\"type\":\"VBar\"},\"hover_glyph\":null,\"muted_glyph\":null,\"nonselection_glyph\":{\"id\":\"fb4c85f7-3b1c-4c42-9aaa-bf1572637b2a\",\"type\":\"VBar\"},\"selection_glyph\":null,\"view\":{\"id\":\"78caff46-3d07-4da0-a5a0-2105a0f88a36\",\"type\":\"CDSView\"}},\"id\":\"9910f7ef-952b-416b-aaf4-3b849737c79d\",\"type\":\"GlyphRenderer\"},{\"attributes\":{},\"id\":\"778b8d5e-c465-487c-bc44-f2d452764bdf\",\"type\":\"BasicTickFormatter\"},{\"attributes\":{\"axis_label\":\"spectral band\",\"formatter\":{\"id\":\"3ac77fae-ca7b-4538-99b0-0dec8ca4dd44\",\"type\":\"CategoricalTickFormatter\"},\"plot\":{\"id\":\"3b6c8e42-8be7-4eaa-b202-7749509b37cd\",\"subtype\":\"Figure\",\"type\":\"Plot\"},\"ticker\":{\"id\":\"b584fd80-1053-4277-bffa-f2021ca766fe\",\"type\":\"CategoricalTicker\"}},\"id\":\"65101a70-6375-4f90-b995-1d03bb7c5feb\",\"type\":\"CategoricalAxis\"},{\"attributes\":{\"bottom_units\":\"screen\",\"fill_alpha\":{\"value\":0.5},\"fill_color\":{\"value\":\"lightgrey\"},\"left_units\":\"screen\",\"level\":\"overlay\",\"line_alpha\":{\"value\":1.0},\"line_color\":{\"value\":\"black\"},\"line_dash\":[4,4],\"line_width\":{\"value\":2},\"plot\":null,\"render_mode\":\"css\",\"right_units\":\"screen\",\"top_units\":\"screen\"},\"id\":\"ebab1fab-9877-4a9e-b8b1-4aec05111395\",\"type\":\"BoxAnnotation\"},{\"attributes\":{},\"id\":\"4b8a4790-64a5-4cdf-8cf8-54360a13a818\",\"type\":\"CategoricalTickFormatter\"},{\"attributes\":{},\"id\":\"7db3e1c8-04a0-4b4d-8d7f-01be1648a90b\",\"type\":\"SaveTool\"},{\"attributes\":{\"children\":[{\"id\":\"3b6c8e42-8be7-4eaa-b202-7749509b37cd\",\"subtype\":\"Figure\",\"type\":\"Plot\"},{\"id\":\"92187d7b-f5c0-4d3e-8fc0-8a740dd8150d\",\"subtype\":\"Figure\",\"type\":\"Plot\"},{\"id\":\"413a2638-a3c0-4042-b810-8346942f47fd\",\"subtype\":\"Figure\",\"type\":\"Plot\"}]},\"id\":\"0b4972ee-c2f3-467a-89f2-9b6587bfc763\",\"type\":\"Row\"},{\"attributes\":{\"plot\":null,\"text\":\"Atmosphere heating. CLIRAD (single-run) - CRD.\"},\"id\":\"fd434434-95f1-4c0c-b5a8-1005bc03288d\",\"type\":\"Title\"},{\"attributes\":{},\"id\":\"d221809e-7045-4294-9b70-409682848860\",\"type\":\"HelpTool\"},{\"attributes\":{\"callback\":null},\"id\":\"84dc8123-558e-4fa2-a5bf-8c960f5a62c2\",\"type\":\"DataRange1d\"},{\"attributes\":{\"active_drag\":\"auto\",\"active_inspect\":\"auto\",\"active_scroll\":\"auto\",\"active_tap\":\"auto\",\"tools\":[{\"id\":\"16ca1531-7d86-4c1c-9882-ae9c2e79f347\",\"type\":\"PanTool\"},{\"id\":\"60ea3e71-879d-41e7-ae4a-d5c6e2da850e\",\"type\":\"WheelZoomTool\"},{\"id\":\"ebcde474-f7f5-4143-98c8-4db6e5bcacaf\",\"type\":\"BoxZoomTool\"},{\"id\":\"7db3e1c8-04a0-4b4d-8d7f-01be1648a90b\",\"type\":\"SaveTool\"},{\"id\":\"3c26807d-fe2a-4a93-8632-8df7cf02cd5c\",\"type\":\"ResetTool\"},{\"id\":\"d221809e-7045-4294-9b70-409682848860\",\"type\":\"HelpTool\"}]},\"id\":\"21074937-3945-45ae-85e2-ab1e9819e871\",\"type\":\"Toolbar\"},{\"attributes\":{},\"id\":\"a23fdcdd-9790-4a85-ba32-066dfaccf4b3\",\"type\":\"Selection\"},{\"attributes\":{\"children\":[{\"id\":\"0b4972ee-c2f3-467a-89f2-9b6587bfc763\",\"type\":\"Row\"}]},\"id\":\"e769b175-4efe-4477-9069-e0414ddf8ae5\",\"type\":\"Column\"},{\"attributes\":{},\"id\":\"ded6e728-5919-4444-b8e7-09bec285588b\",\"type\":\"LinearScale\"},{\"attributes\":{\"callback\":null,\"factors\":[\"1\",\"2\",\"3\",\"4\",\"5\",\"6\",\"7\",\"8\",\"9\",\"10\",\"11\"]},\"id\":\"e044bd3e-f31a-44f2-878e-d6998b89aa92\",\"type\":\"FactorRange\"},{\"attributes\":{},\"id\":\"3ac77fae-ca7b-4538-99b0-0dec8ca4dd44\",\"type\":\"CategoricalTickFormatter\"},{\"attributes\":{},\"id\":\"d7658b2a-a632-4e59-9fd1-703583169c95\",\"type\":\"BasicTickFormatter\"},{\"attributes\":{},\"id\":\"16ca1531-7d86-4c1c-9882-ae9c2e79f347\",\"type\":\"PanTool\"},{\"attributes\":{},\"id\":\"bc20e0ce-7913-439b-8217-5faadaf845f0\",\"type\":\"BasicTicker\"},{\"attributes\":{},\"id\":\"44b76b66-a441-4e66-8648-9a9caf4c8787\",\"type\":\"CategoricalScale\"},{\"attributes\":{},\"id\":\"b584fd80-1053-4277-bffa-f2021ca766fe\",\"type\":\"CategoricalTicker\"},{\"attributes\":{\"callback\":null},\"id\":\"191a1858-bb45-43c7-8eb1-38cc3677d02e\",\"type\":\"DataRange1d\"},{\"attributes\":{},\"id\":\"60ea3e71-879d-41e7-ae4a-d5c6e2da850e\",\"type\":\"WheelZoomTool\"},{\"attributes\":{\"callback\":null,\"factors\":[\"1\",\"2\",\"3\",\"4\",\"5\",\"6\",\"7\",\"8\",\"9\",\"10\",\"11\"]},\"id\":\"9282d28c-1d41-4de3-8b29-97f46f14fbf8\",\"type\":\"FactorRange\"},{\"attributes\":{\"data_source\":{\"id\":\"2aaae860-c864-4cdc-ac4f-533b695fd53f\",\"type\":\"ColumnDataSource\"},\"glyph\":{\"id\":\"6ebf88c0-5493-49b3-9b5d-34aeac64c2a8\",\"type\":\"VBar\"},\"hover_glyph\":null,\"muted_glyph\":null,\"nonselection_glyph\":{\"id\":\"22e01d19-6831-474d-b831-b8cdb008dd0e\",\"type\":\"VBar\"},\"selection_glyph\":null,\"view\":{\"id\":\"1eb6b07f-02e4-4100-934f-05e2b2f78ec9\",\"type\":\"CDSView\"}},\"id\":\"2937317f-9a3a-44e2-aa4b-356b60358528\",\"type\":\"GlyphRenderer\"},{\"attributes\":{},\"id\":\"5379b0e4-319a-40f6-9858-f15ab43292f4\",\"type\":\"Selection\"},{\"attributes\":{\"callback\":null,\"factors\":[\"1\",\"2\",\"3\",\"4\",\"5\",\"6\",\"7\",\"8\",\"9\",\"10\",\"11\"]},\"id\":\"725bf492-35b0-4b9e-932b-204b318597d1\",\"type\":\"FactorRange\"},{\"attributes\":{\"axis_label\":\"flux (W m-2)\",\"formatter\":{\"id\":\"1e09443d-c261-492a-aa98-03b539fab78a\",\"type\":\"BasicTickFormatter\"},\"plot\":{\"id\":\"92187d7b-f5c0-4d3e-8fc0-8a740dd8150d\",\"subtype\":\"Figure\",\"type\":\"Plot\"},\"ticker\":{\"id\":\"bc20e0ce-7913-439b-8217-5faadaf845f0\",\"type\":\"BasicTicker\"}},\"id\":\"12ff1432-80d7-4e65-8701-df2db81c1e12\",\"type\":\"LinearAxis\"},{\"attributes\":{},\"id\":\"3c26807d-fe2a-4a93-8632-8df7cf02cd5c\",\"type\":\"ResetTool\"},{\"attributes\":{},\"id\":\"8e383670-93d4-40d5-a8c4-2bbeb789df4f\",\"type\":\"CategoricalScale\"},{\"attributes\":{\"plot\":null,\"text\":\"TOA flux. CLIRAD (single-run) - CRD.\"},\"id\":\"7f876514-4f15-417e-a0e0-fd359093a060\",\"type\":\"Title\"},{\"attributes\":{},\"id\":\"925564a9-13b4-478a-bdd0-5164caf2e5fa\",\"type\":\"Selection\"},{\"attributes\":{\"below\":[{\"id\":\"27814088-6ce1-4c37-a9df-f7c8e374a72e\",\"type\":\"CategoricalAxis\"}],\"left\":[{\"id\":\"5ce40c4b-50bc-496a-ac4a-136ed80e78ff\",\"type\":\"LinearAxis\"}],\"plot_height\":300,\"plot_width\":300,\"renderers\":[{\"id\":\"27814088-6ce1-4c37-a9df-f7c8e374a72e\",\"type\":\"CategoricalAxis\"},{\"id\":\"89acabe0-e3ac-479a-90f3-4c6167ff0ec4\",\"type\":\"Grid\"},{\"id\":\"5ce40c4b-50bc-496a-ac4a-136ed80e78ff\",\"type\":\"LinearAxis\"},{\"id\":\"89bc6167-8805-4041-b0e5-dbc27c069141\",\"type\":\"Grid\"},{\"id\":\"ebab1fab-9877-4a9e-b8b1-4aec05111395\",\"type\":\"BoxAnnotation\"},{\"id\":\"9910f7ef-952b-416b-aaf4-3b849737c79d\",\"type\":\"GlyphRenderer\"}],\"title\":{\"id\":\"fd434434-95f1-4c0c-b5a8-1005bc03288d\",\"type\":\"Title\"},\"toolbar\":{\"id\":\"21074937-3945-45ae-85e2-ab1e9819e871\",\"type\":\"Toolbar\"},\"toolbar_location\":null,\"x_range\":{\"id\":\"e044bd3e-f31a-44f2-878e-d6998b89aa92\",\"type\":\"FactorRange\"},\"x_scale\":{\"id\":\"54f3c915-f54e-4aaf-8116-d6e76a1b54f4\",\"type\":\"CategoricalScale\"},\"y_range\":{\"id\":\"16106c8a-9605-40d5-8626-eb783b02669f\",\"type\":\"DataRange1d\"},\"y_scale\":{\"id\":\"1473759f-cc27-4a78-a27d-412082920d8d\",\"type\":\"LinearScale\"}},\"id\":\"413a2638-a3c0-4042-b810-8346942f47fd\",\"subtype\":\"Figure\",\"type\":\"Plot\"},{\"attributes\":{\"children\":[{\"id\":\"32912e8c-bc9f-4875-a20b-7b0e86ed19df\",\"type\":\"ToolbarBox\"},{\"id\":\"e769b175-4efe-4477-9069-e0414ddf8ae5\",\"type\":\"Column\"}]},\"id\":\"dab4bb4f-f595-438e-8ef4-d3b0bdb797b8\",\"type\":\"Column\"},{\"attributes\":{\"active_drag\":\"auto\",\"active_inspect\":\"auto\",\"active_scroll\":\"auto\",\"active_tap\":\"auto\",\"tools\":[{\"id\":\"0755d650-1e50-410f-8810-3bab6807324b\",\"type\":\"PanTool\"},{\"id\":\"77e3b2ae-9057-4be9-9b78-ee4bebd5a3a8\",\"type\":\"WheelZoomTool\"},{\"id\":\"306930c1-ce2b-4b20-af94-06da36c4c9fb\",\"type\":\"BoxZoomTool\"},{\"id\":\"7442542a-d3b3-47f5-b89b-8d87e0023768\",\"type\":\"SaveTool\"},{\"id\":\"ed7f6739-af39-4fd1-bef6-2392d4b452a9\",\"type\":\"ResetTool\"},{\"id\":\"c8e9b66d-9b1e-403c-8724-f50cea611ae3\",\"type\":\"HelpTool\"}]},\"id\":\"e006e978-3e21-4fff-8f01-22b89c9f60e7\",\"type\":\"Toolbar\"},{\"attributes\":{\"tools\":[{\"id\":\"0755d650-1e50-410f-8810-3bab6807324b\",\"type\":\"PanTool\"},{\"id\":\"77e3b2ae-9057-4be9-9b78-ee4bebd5a3a8\",\"type\":\"WheelZoomTool\"},{\"id\":\"306930c1-ce2b-4b20-af94-06da36c4c9fb\",\"type\":\"BoxZoomTool\"},{\"id\":\"7442542a-d3b3-47f5-b89b-8d87e0023768\",\"type\":\"SaveTool\"},{\"id\":\"ed7f6739-af39-4fd1-bef6-2392d4b452a9\",\"type\":\"ResetTool\"},{\"id\":\"c8e9b66d-9b1e-403c-8724-f50cea611ae3\",\"type\":\"HelpTool\"},{\"id\":\"52c37b49-2d27-49cf-85f9-8d0407cc2810\",\"type\":\"PanTool\"},{\"id\":\"043fcac3-a3b3-4dae-af6c-79e11659b5ab\",\"type\":\"WheelZoomTool\"},{\"id\":\"b15dc2bb-5d3a-4f4a-befd-de4c26705eab\",\"type\":\"BoxZoomTool\"},{\"id\":\"3377a2d4-f3d1-456e-a272-3a70d9571836\",\"type\":\"SaveTool\"},{\"id\":\"cea151a5-0eee-476c-b366-ea0d81f09dcd\",\"type\":\"ResetTool\"},{\"id\":\"ab31c8d6-7d3c-4d3b-818c-61c630848f77\",\"type\":\"HelpTool\"},{\"id\":\"16ca1531-7d86-4c1c-9882-ae9c2e79f347\",\"type\":\"PanTool\"},{\"id\":\"60ea3e71-879d-41e7-ae4a-d5c6e2da850e\",\"type\":\"WheelZoomTool\"},{\"id\":\"ebcde474-f7f5-4143-98c8-4db6e5bcacaf\",\"type\":\"BoxZoomTool\"},{\"id\":\"7db3e1c8-04a0-4b4d-8d7f-01be1648a90b\",\"type\":\"SaveTool\"},{\"id\":\"3c26807d-fe2a-4a93-8632-8df7cf02cd5c\",\"type\":\"ResetTool\"},{\"id\":\"d221809e-7045-4294-9b70-409682848860\",\"type\":\"HelpTool\"}]},\"id\":\"a5a5669b-d00c-4b97-8719-187c1ee1bbe0\",\"type\":\"ProxyToolbar\"},{\"attributes\":{\"callback\":null},\"id\":\"16106c8a-9605-40d5-8626-eb783b02669f\",\"type\":\"DataRange1d\"},{\"attributes\":{},\"id\":\"299a21c7-3478-4bd7-9130-5d2f2ef6de0f\",\"type\":\"LinearScale\"},{\"attributes\":{},\"id\":\"39c1b833-34f9-4b90-a155-55e541493064\",\"type\":\"UnionRenderers\"}],\"root_ids\":[\"dab4bb4f-f595-438e-8ef4-d3b0bdb797b8\"]},\"title\":\"Bokeh Application\",\"version\":\"0.12.16\"}};\n",
       "  var render_items = [{\"docid\":\"c850d206-584c-483b-8c90-2ed6df0ad4fd\",\"elementid\":\"9f77bf4e-a21d-4ff1-a2ce-8a1e01f8b865\",\"modelid\":\"dab4bb4f-f595-438e-8ef4-d3b0bdb797b8\"}];\n",
       "  root.Bokeh.embed.embed_items_notebook(docs_json, render_items);\n",
       "\n",
       "  }\n",
       "  if (root.Bokeh !== undefined) {\n",
       "    embed_document(root);\n",
       "  } else {\n",
       "    var attempts = 0;\n",
       "    var timer = setInterval(function(root) {\n",
       "      if (root.Bokeh !== undefined) {\n",
       "        embed_document(root);\n",
       "        clearInterval(timer);\n",
       "      }\n",
       "      attempts++;\n",
       "      if (attempts > 100) {\n",
       "        console.log(\"Bokeh: ERROR: Unable to run BokehJS code because BokehJS library is missing\")\n",
       "        clearInterval(timer);\n",
       "      }\n",
       "    }, 10, root)\n",
       "  }\n",
       "})(window);"
      ],
      "application/vnd.bokehjs_exec.v0+json": ""
     },
     "metadata": {
      "application/vnd.bokehjs_exec.v0+json": {
       "id": "dab4bb4f-f595-438e-8ef4-d3b0bdb797b8"
      }
     },
     "output_type": "display_data"
    },
    {
     "data": {
      "text/markdown": [
       "*FIGURE.* Difference between CLIRAD and CRD in TOA, SFC and net atmosphere flux, in each spectral band."
      ],
      "text/plain": [
       "<IPython.core.display.Markdown object>"
      ]
     },
     "metadata": {},
     "output_type": "display_data"
    },
    {
     "data": {
      "text/html": [
       "<div>\n",
       "<style scoped>\n",
       "    .dataframe tbody tr th:only-of-type {\n",
       "        vertical-align: middle;\n",
       "    }\n",
       "\n",
       "    .dataframe tbody tr th {\n",
       "        vertical-align: top;\n",
       "    }\n",
       "\n",
       "    .dataframe thead th {\n",
       "        text-align: right;\n",
       "    }\n",
       "</style>\n",
       "<table border=\"1\" class=\"dataframe\">\n",
       "  <thead>\n",
       "    <tr style=\"text-align: right;\">\n",
       "      <th></th>\n",
       "      <th>OLR flux</th>\n",
       "      <th>SFC flux</th>\n",
       "      <th>ATM heating</th>\n",
       "    </tr>\n",
       "    <tr>\n",
       "      <th>Sum over bands</th>\n",
       "      <th></th>\n",
       "      <th></th>\n",
       "      <th></th>\n",
       "    </tr>\n",
       "  </thead>\n",
       "  <tbody>\n",
       "    <tr>\n",
       "      <th>CLIRAD (single-run) - CRD</th>\n",
       "      <td>0.84</td>\n",
       "      <td>-0.44</td>\n",
       "      <td>1.27</td>\n",
       "    </tr>\n",
       "    <tr>\n",
       "      <th>CRD</th>\n",
       "      <td>-201.06</td>\n",
       "      <td>166.03</td>\n",
       "      <td>-119.67</td>\n",
       "    </tr>\n",
       "  </tbody>\n",
       "</table>\n",
       "</div>"
      ],
      "text/plain": [
       "                           OLR flux  SFC flux  ATM heating\n",
       "Sum over bands                                            \n",
       "CLIRAD (single-run) - CRD      0.84     -0.44         1.27\n",
       "CRD                         -201.06    166.03      -119.67"
      ]
     },
     "metadata": {},
     "output_type": "display_data"
    },
    {
     "data": {
      "text/markdown": [
       "*TABLE.* Difference between CLIRAD and CRD in TOA, SFC and net atmosphere flux, over all spectral bands. CRD's TOA, SFC and net atmosphere flux, over all spectral bands."
      ],
      "text/plain": [
       "<IPython.core.display.Markdown object>"
      ]
     },
     "metadata": {},
     "output_type": "display_data"
    },
    {
     "data": {
      "text/html": [
       "<a id=\"Cooling_rates._trp.\"></a>"
      ],
      "text/plain": [
       "<IPython.core.display.HTML object>"
      ]
     },
     "metadata": {},
     "output_type": "display_data"
    },
    {
     "data": {
      "text/markdown": [
       "# Cooling rates. trp."
      ],
      "text/plain": [
       "<IPython.core.display.Markdown object>"
      ]
     },
     "metadata": {},
     "output_type": "display_data"
    },
    {
     "data": {
      "text/html": [
       "\n",
       "<div class=\"bk-root\">\n",
       "    <div class=\"bk-plotdiv\" id=\"16bc32f3-1018-48f2-bfd9-bce9bec6839e\"></div>\n",
       "</div>"
      ]
     },
     "metadata": {},
     "output_type": "display_data"
    },
    {
     "data": {
      "application/javascript": [
       "(function(root) {\n",
       "  function embed_document(root) {\n",
       "    \n",
       "  var docs_json = {\"c54b9a93-e13a-45b2-bb5b-5d6ce8f32e2e\":{\"roots\":{\"references\":[{\"attributes\":{\"callback\":null,\"data\":{\"x\":{\"__ndarray__\":\"R/KIaN7AVEClCeJMyPNGQOvRhpxr30JAptxzhxx4PkA7SssMElA4QK6Bp3CyUDNAsVXpjES9LkBFhUV0+5coQMHYwqbbySNA6f09nM3nH0CaSd/3eYoZQDmgiAOW8BNAPYqARh3eDEBkm4vCgvr+P9D+5tWhQfY/P8DwKRnSAkBq38kb17ILQDT7IWuSsxFAUr2Rjm0FFkAinq3s9XgbQGCHwtYcqSFAG64kT303J0C7dRDneyooQD9JYrbK8yRA9S3bneHhIUAIymSuUMMcQIkHLe6VEBdAAau3cITREkA6CiNvkQIPQJU39ki7IQlAaAvwok1UA0BXLQiS4+L7P0xzDpJ2hPI/NNuPGMbJ5z91mUVYxqfSPxqwUPSxZca/G11peifD3L8QzNj5t2jTvwzOozTL360/SPJ4VI1VzD9KJ0nXEIncP8yDdlvHt+4/Et49nYLW9z++2teD4Jn+P+568eH/bwFALf5D9lmAAkCiZAicVOkCQPPT4jNKxwJAOjp3wTzBAUBSQsKNGisBQG4OmjqJwQBAJ3sZoHFuAEA5Ar0Sdi0AQGy4rw5+9f8/7W4nSrC3/z8mPr8zj4T/P4UYRHCQS/8/embVKYcF/z+5YXG+LLP+P/qb8BVUgf4/KvafTtyO/j/avAK1Ppv+PwJV9VVm2P0/JFtYlU/n/D9sN+q2fiX6Pw44e41PNPc/Opt+Z/wN9T+x3vcSW1vzP9ofvWQJlvI/8sciQQBW8j80sfkQa17yPzg5qng2r/I/Oh14WJBh8z+VZjnpctj0P6CcrSuCqQBA\",\"dtype\":\"float64\",\"shape\":[75]},\"y\":{\"__ndarray__\":\"GhExyth1ND/Sv8nbtpRIP2vylNV0PVE/aTum7souWD/At0SJ8fVgPw3Iuahxymc/MSNhhJWvcD/bTfBN02d3P2zb5nxnaoA/CD5h5MAGhz8NmeH1TyaQP+zrCsc9p5Y/LbKd76fGnz/bLW5ISEmmPww9YvTcQq8/JV2OstnstT8Er5Y7M8G+P0c+r3jqkcU/5h99k6ZBzj88bCIzFzjVP4enV8oyxN0//yH99nXg5D8qOpLLf0jtP5kqGJXUifQ/c9cS8kHP/D+/DpwzojQEQIEmwoanVwxA4lgXt9HgE0BSSZ2AJuIbQAMJih9jjiNA5q4l5INuK0AwTKYKRj0zQNv5fmq8/DpAaCJseHrtQkB/+zpwzoxKQM3MzMzMeFJAZmZmZmZqWEAAAAAAAFxeQM3MzMzMJmJAmpmZmZkfZUBmZmZmZhhoQDMzMzMzEWtAAAAAAAAKbkBmZmZmZoFwQM3MzMzM/XFAMzMzMzN6c0CamZmZmfZ0QAAAAAAAc3ZAZmZmZmbvd0DNzMzMzGt5QDMzMzMz6HpAmpmZmZlkfEAAAAAAAOF9QGZmZmZmXX9AZmZmZuZsgECamZmZGSuBQM3MzMxM6YFAAAAAAICngkAzMzMzs2WDQGZmZmbmI4RAmpmZmRnihEDNzMzMTKCFQAAAAACAXoZAMzMzM7Mch0BmZmZm5tqHQJqZmZkZmYhAzczMzExXiUAAAAAAgBWKQDMzMzOz04pAZmZmZuaRi0CamZmZGVCMQM3MzMxMDo1AAAAAAIDMjUAzMzMzs4qOQGZmZmbmSI9A\",\"dtype\":\"float64\",\"shape\":[75]}},\"selected\":{\"id\":\"6b975f08-3b40-4b5d-9886-a4cbbdfbe5b4\",\"type\":\"Selection\"},\"selection_policy\":{\"id\":\"7ee3f614-adb3-4b37-8a93-7d2487147977\",\"type\":\"UnionRenderers\"}},\"id\":\"5b96e353-ca04-4689-8462-c75a0e578bdc\",\"type\":\"ColumnDataSource\"},{\"attributes\":{\"callback\":null,\"end\":2.3923464390465905,\"start\":-0.50603741456559},\"id\":\"2e25ae07-e849-4ce3-bbdb-8f30922b8d1c\",\"type\":\"Range1d\"},{\"attributes\":{\"callback\":null,\"end\":0.01,\"start\":1020},\"id\":\"e2080303-890e-49e0-9b20-8ac6740af7c4\",\"type\":\"Range1d\"},{\"attributes\":{\"axis_label\":\"cooling rate [K/day]\",\"formatter\":{\"id\":\"a6ead0bd-2644-4237-9c69-e5dfb7dc2440\",\"type\":\"BasicTickFormatter\"},\"plot\":{\"id\":\"ae25ae23-1ccb-4053-87c6-f3cb86be6c4b\",\"subtype\":\"Figure\",\"type\":\"Plot\"},\"ticker\":{\"id\":\"5bf574f6-1549-4062-aba4-c20375db1c38\",\"type\":\"BasicTicker\"}},\"id\":\"ca6f65c1-9a24-433a-8eef-7aab4084e823\",\"type\":\"LinearAxis\"},{\"attributes\":{\"line_alpha\":0.1,\"line_color\":\"#1f77b4\",\"line_width\":1.5,\"x\":{\"field\":\"x\"},\"y\":{\"field\":\"y\"}},\"id\":\"b65b75be-22fe-494b-a0d0-6bb095cd0cd2\",\"type\":\"Line\"},{\"attributes\":{},\"id\":\"9ba466d4-62db-4fc3-9d39-95efc1d347c6\",\"type\":\"BasicTicker\"},{\"attributes\":{\"callback\":null,\"end\":0.559427922866886,\"start\":-1.3419310516822867},\"id\":\"92463e28-ac17-4d89-bfc8-4669ca465b9b\",\"type\":\"Range1d\"},{\"attributes\":{\"callback\":null,\"end\":0.01,\"start\":1020},\"id\":\"ff1fcce1-c304-40e2-9942-e2cb98ae8cc1\",\"type\":\"Range1d\"},{\"attributes\":{},\"id\":\"a7fee996-edb4-4c6a-8ad4-6f39418c3ba9\",\"type\":\"LinearScale\"},{\"attributes\":{\"data_source\":{\"id\":\"5b96e353-ca04-4689-8462-c75a0e578bdc\",\"type\":\"ColumnDataSource\"},\"glyph\":{\"id\":\"02cd3919-79dc-47ea-b8c9-a4586c99cef5\",\"type\":\"Line\"},\"hover_glyph\":null,\"muted_glyph\":null,\"nonselection_glyph\":{\"id\":\"b65b75be-22fe-494b-a0d0-6bb095cd0cd2\",\"type\":\"Line\"},\"selection_glyph\":null,\"view\":{\"id\":\"705de6b2-6652-4fb0-8dae-4ef6844b38d2\",\"type\":\"CDSView\"}},\"id\":\"b1664bf5-58b4-4ae1-8a4a-4f5e1ceac123\",\"type\":\"GlyphRenderer\"},{\"attributes\":{\"source\":{\"id\":\"5b96e353-ca04-4689-8462-c75a0e578bdc\",\"type\":\"ColumnDataSource\"}},\"id\":\"705de6b2-6652-4fb0-8dae-4ef6844b38d2\",\"type\":\"CDSView\"},{\"attributes\":{\"plot\":{\"id\":\"ae25ae23-1ccb-4053-87c6-f3cb86be6c4b\",\"subtype\":\"Figure\",\"type\":\"Plot\"},\"ticker\":{\"id\":\"5bf574f6-1549-4062-aba4-c20375db1c38\",\"type\":\"BasicTicker\"}},\"id\":\"21729bbc-5767-488b-b9d9-5458a9ab6887\",\"type\":\"Grid\"},{\"attributes\":{\"line_color\":\"#4daf4a\",\"line_width\":1.5,\"x\":{\"field\":\"x\"},\"y\":{\"field\":\"y\"}},\"id\":\"02cd3919-79dc-47ea-b8c9-a4586c99cef5\",\"type\":\"Line\"},{\"attributes\":{\"line_alpha\":0.6,\"line_color\":\"#377eb8\",\"line_dash\":[6],\"line_width\":5,\"x\":{\"field\":\"x\"},\"y\":{\"field\":\"y\"}},\"id\":\"11d12e74-49b8-4840-ad89-136fd8399f5b\",\"type\":\"Line\"},{\"attributes\":{},\"id\":\"5bf574f6-1549-4062-aba4-c20375db1c38\",\"type\":\"BasicTicker\"},{\"attributes\":{\"above\":[{\"id\":\"5f7bdae7-8642-4a98-8ca7-871022c3c4fd\",\"type\":\"Legend\"}],\"below\":[{\"id\":\"ca6f65c1-9a24-433a-8eef-7aab4084e823\",\"type\":\"LinearAxis\"}],\"left\":[{\"id\":\"c4cb23e5-6faf-4845-96d4-e7a107cd968b\",\"type\":\"LogAxis\"}],\"plot_width\":300,\"renderers\":[{\"id\":\"ca6f65c1-9a24-433a-8eef-7aab4084e823\",\"type\":\"LinearAxis\"},{\"id\":\"21729bbc-5767-488b-b9d9-5458a9ab6887\",\"type\":\"Grid\"},{\"id\":\"c4cb23e5-6faf-4845-96d4-e7a107cd968b\",\"type\":\"LogAxis\"},{\"id\":\"3c984a9e-3054-4f4e-be95-d31d3ca569b2\",\"type\":\"Grid\"},{\"id\":\"14347556-9f34-4ff0-95cc-54c4992ec692\",\"type\":\"BoxAnnotation\"},{\"id\":\"1194a43c-6535-405c-b7b7-9e23b801bd6b\",\"type\":\"GlyphRenderer\"},{\"id\":\"71e4e04a-2740-4e8c-b016-78d088f5e66a\",\"type\":\"GlyphRenderer\"},{\"id\":\"5f7bdae7-8642-4a98-8ca7-871022c3c4fd\",\"type\":\"Legend\"}],\"title\":{\"id\":\"fcaa963f-ff68-4e4c-ae27-7d27060f4006\",\"type\":\"Title\"},\"toolbar\":{\"id\":\"a3a8f483-07f1-4fb7-a32e-e4ff2cff21d2\",\"type\":\"Toolbar\"},\"toolbar_location\":null,\"x_range\":{\"id\":\"92463e28-ac17-4d89-bfc8-4669ca465b9b\",\"type\":\"Range1d\"},\"x_scale\":{\"id\":\"a7fee996-edb4-4c6a-8ad4-6f39418c3ba9\",\"type\":\"LinearScale\"},\"y_range\":{\"id\":\"ff1fcce1-c304-40e2-9942-e2cb98ae8cc1\",\"type\":\"Range1d\"},\"y_scale\":{\"id\":\"adcbd17c-5dbe-48c4-b639-79316f8064e5\",\"type\":\"LogScale\"}},\"id\":\"ae25ae23-1ccb-4053-87c6-f3cb86be6c4b\",\"subtype\":\"Figure\",\"type\":\"Plot\"},{\"attributes\":{\"fill_alpha\":{\"value\":0.1},\"fill_color\":{\"value\":\"#1f77b4\"},\"line_alpha\":{\"value\":0.1},\"line_color\":{\"value\":\"#1f77b4\"},\"x\":{\"field\":\"x\"},\"y\":{\"field\":\"y\"}},\"id\":\"2881178a-1080-4f90-8760-90ece8fc3577\",\"type\":\"Circle\"},{\"attributes\":{\"line_alpha\":0.1,\"line_color\":\"#1f77b4\",\"line_dash\":[6],\"line_width\":5,\"x\":{\"field\":\"x\"},\"y\":{\"field\":\"y\"}},\"id\":\"70142341-c383-4f7b-bff4-50f13b438fde\",\"type\":\"Line\"},{\"attributes\":{},\"id\":\"386c1ee8-6238-4648-af73-3d5c35c6ea00\",\"type\":\"HelpTool\"},{\"attributes\":{\"line_alpha\":0.1,\"line_color\":\"#1f77b4\",\"line_dash\":[6],\"line_width\":5,\"x\":{\"field\":\"x\"},\"y\":{\"field\":\"y\"}},\"id\":\"82ce6292-f0ec-4574-8070-47ba1144044a\",\"type\":\"Line\"},{\"attributes\":{},\"id\":\"967edb5d-acb9-48c1-8ddb-4cc80c5ad85a\",\"type\":\"ResetTool\"},{\"attributes\":{\"callback\":null,\"data\":{\"x\":{\"__ndarray__\":\"R/KIaN7AVEClCeJMyPNGQOvRhpxr30JAptxzhxx4PkA7SssMElA4QK6Bp3CyUDNAsVXpjES9LkBFhUV0+5coQMHYwqbbySNA6f09nM3nH0CaSd/3eYoZQDmgiAOW8BNAPYqARh3eDEBkm4vCgvr+P9D+5tWhQfY/P8DwKRnSAkBq38kb17ILQDT7IWuSsxFAUr2Rjm0FFkAinq3s9XgbQGCHwtYcqSFAG64kT303J0C7dRDneyooQD9JYrbK8yRA9S3bneHhIUAIymSuUMMcQIkHLe6VEBdAAau3cITREkA6CiNvkQIPQJU39ki7IQlAaAvwok1UA0BXLQiS4+L7P0xzDpJ2hPI/NNuPGMbJ5z91mUVYxqfSPxqwUPSxZca/G11peifD3L8QzNj5t2jTvwzOozTL360/SPJ4VI1VzD9KJ0nXEIncP8yDdlvHt+4/Et49nYLW9z++2teD4Jn+P+568eH/bwFALf5D9lmAAkCiZAicVOkCQPPT4jNKxwJAOjp3wTzBAUBSQsKNGisBQG4OmjqJwQBAJ3sZoHFuAEA5Ar0Sdi0AQGy4rw5+9f8/7W4nSrC3/z8mPr8zj4T/P4UYRHCQS/8/embVKYcF/z+5YXG+LLP+P/qb8BVUgf4/KvafTtyO/j/avAK1Ppv+PwJV9VVm2P0/JFtYlU/n/D9sN+q2fiX6Pw44e41PNPc/Opt+Z/wN9T+x3vcSW1vzP9ofvWQJlvI/8sciQQBW8j80sfkQa17yPzg5qng2r/I/Oh14WJBh8z+VZjnpctj0P6CcrSuCqQBA\",\"dtype\":\"float64\",\"shape\":[75]},\"y\":{\"__ndarray__\":\"GhExyth1ND/Sv8nbtpRIP2vylNV0PVE/aTum7souWD/At0SJ8fVgPw3Iuahxymc/MSNhhJWvcD/bTfBN02d3P2zb5nxnaoA/CD5h5MAGhz8NmeH1TyaQP+zrCsc9p5Y/LbKd76fGnz/bLW5ISEmmPww9YvTcQq8/JV2OstnstT8Er5Y7M8G+P0c+r3jqkcU/5h99k6ZBzj88bCIzFzjVP4enV8oyxN0//yH99nXg5D8qOpLLf0jtP5kqGJXUifQ/c9cS8kHP/D+/DpwzojQEQIEmwoanVwxA4lgXt9HgE0BSSZ2AJuIbQAMJih9jjiNA5q4l5INuK0AwTKYKRj0zQNv5fmq8/DpAaCJseHrtQkB/+zpwzoxKQM3MzMzMeFJAZmZmZmZqWEAAAAAAAFxeQM3MzMzMJmJAmpmZmZkfZUBmZmZmZhhoQDMzMzMzEWtAAAAAAAAKbkBmZmZmZoFwQM3MzMzM/XFAMzMzMzN6c0CamZmZmfZ0QAAAAAAAc3ZAZmZmZmbvd0DNzMzMzGt5QDMzMzMz6HpAmpmZmZlkfEAAAAAAAOF9QGZmZmZmXX9AZmZmZuZsgECamZmZGSuBQM3MzMxM6YFAAAAAAICngkAzMzMzs2WDQGZmZmbmI4RAmpmZmRnihEDNzMzMTKCFQAAAAACAXoZAMzMzM7Mch0BmZmZm5tqHQJqZmZkZmYhAzczMzExXiUAAAAAAgBWKQDMzMzOz04pAZmZmZuaRi0CamZmZGVCMQM3MzMxMDo1AAAAAAIDMjUAzMzMzs4qOQGZmZmbmSI9A\",\"dtype\":\"float64\",\"shape\":[75]}},\"selected\":{\"id\":\"2aea28f2-ad36-40c2-b148-d70bbcd68364\",\"type\":\"Selection\"},\"selection_policy\":{\"id\":\"4cc54f11-9d2b-4891-ae35-a2ff9e74cb74\",\"type\":\"UnionRenderers\"}},\"id\":\"caf0a34d-1e4a-441f-8fe5-b7711b96020d\",\"type\":\"ColumnDataSource\"},{\"attributes\":{},\"id\":\"612016f4-f181-46a9-a581-b5aa975fd51b\",\"type\":\"UnionRenderers\"},{\"attributes\":{\"active_drag\":\"auto\",\"active_inspect\":\"auto\",\"active_scroll\":\"auto\",\"active_tap\":\"auto\",\"tools\":[{\"id\":\"47822ea3-8bf9-4f7f-a566-c59c7280b773\",\"type\":\"PanTool\"},{\"id\":\"34c339bf-9a82-4dfe-bf32-37da50e41cc5\",\"type\":\"WheelZoomTool\"},{\"id\":\"5501df62-0bd2-4f21-aa94-5a1a1dbd2d6e\",\"type\":\"BoxZoomTool\"},{\"id\":\"1dc38204-e8e3-4599-9f77-0685df8701dc\",\"type\":\"SaveTool\"},{\"id\":\"967edb5d-acb9-48c1-8ddb-4cc80c5ad85a\",\"type\":\"ResetTool\"},{\"id\":\"386c1ee8-6238-4648-af73-3d5c35c6ea00\",\"type\":\"HelpTool\"}]},\"id\":\"2c323bf6-d4db-4c0f-9d1a-bee6cb8dc229\",\"type\":\"Toolbar\"},{\"attributes\":{\"data_source\":{\"id\":\"3939c1e6-a355-46cd-9573-ef0ef3f7f06b\",\"type\":\"ColumnDataSource\"},\"glyph\":{\"id\":\"1439c27b-fe9d-400b-8e6f-b1af186e22fd\",\"type\":\"Line\"},\"hover_glyph\":null,\"muted_glyph\":null,\"nonselection_glyph\":{\"id\":\"70142341-c383-4f7b-bff4-50f13b438fde\",\"type\":\"Line\"},\"selection_glyph\":null,\"view\":{\"id\":\"75f07f08-fd9b-4f67-9eba-64eac69ec5a1\",\"type\":\"CDSView\"}},\"id\":\"a188d6cd-efbf-45a1-9664-ab1feb121eee\",\"type\":\"GlyphRenderer\"},{\"attributes\":{\"overlay\":{\"id\":\"cdc4c84a-9960-4b90-a809-68ba9f51c033\",\"type\":\"BoxAnnotation\"}},\"id\":\"5501df62-0bd2-4f21-aa94-5a1a1dbd2d6e\",\"type\":\"BoxZoomTool\"},{\"attributes\":{\"overlay\":{\"id\":\"14347556-9f34-4ff0-95cc-54c4992ec692\",\"type\":\"BoxAnnotation\"}},\"id\":\"9eaea9e5-1553-4ebd-b752-d9796232f36a\",\"type\":\"BoxZoomTool\"},{\"attributes\":{},\"id\":\"4cc54f11-9d2b-4891-ae35-a2ff9e74cb74\",\"type\":\"UnionRenderers\"},{\"attributes\":{},\"id\":\"c1f8a8a4-c69b-4b4e-8ea6-08f9e02d6bf6\",\"type\":\"PanTool\"},{\"attributes\":{},\"id\":\"6b975f08-3b40-4b5d-9886-a4cbbdfbe5b4\",\"type\":\"Selection\"},{\"attributes\":{},\"id\":\"cc7690ca-2b26-43ee-8cde-4566a50c20e5\",\"type\":\"Selection\"},{\"attributes\":{\"callback\":null,\"end\":0.01,\"start\":1020},\"id\":\"b5803f7a-36fa-4317-beb8-090bf90b75e4\",\"type\":\"Range1d\"},{\"attributes\":{\"callback\":null,\"end\":12.208582536163687,\"start\":-0.60322787097269},\"id\":\"4268d99e-2bf5-4068-bdc6-2df0c8926ae7\",\"type\":\"Range1d\"},{\"attributes\":{},\"id\":\"adcbd17c-5dbe-48c4-b639-79316f8064e5\",\"type\":\"LogScale\"},{\"attributes\":{\"axis_label\":\"pressure [mb]\",\"formatter\":{\"id\":\"93f27904-6057-4283-9069-4dbc62932df9\",\"type\":\"LogTickFormatter\"},\"plot\":{\"id\":\"ae25ae23-1ccb-4053-87c6-f3cb86be6c4b\",\"subtype\":\"Figure\",\"type\":\"Plot\"},\"ticker\":{\"id\":\"f22b4f82-9ca8-4f90-a528-b3cd89a1420c\",\"type\":\"LogTicker\"}},\"id\":\"c4cb23e5-6faf-4845-96d4-e7a107cd968b\",\"type\":\"LogAxis\"},{\"attributes\":{},\"id\":\"756c363e-e40d-408a-8adf-67a63cf544c2\",\"type\":\"UnionRenderers\"},{\"attributes\":{\"data_source\":{\"id\":\"b4bfc53a-eec9-4a66-8613-d8906901f0fd\",\"type\":\"ColumnDataSource\"},\"glyph\":{\"id\":\"11d12e74-49b8-4840-ad89-136fd8399f5b\",\"type\":\"Line\"},\"hover_glyph\":null,\"muted_glyph\":null,\"nonselection_glyph\":{\"id\":\"82ce6292-f0ec-4574-8070-47ba1144044a\",\"type\":\"Line\"},\"selection_glyph\":null,\"view\":{\"id\":\"58a60f23-a475-433b-9a67-94f2c533ec2b\",\"type\":\"CDSView\"}},\"id\":\"1584ba5a-a11d-4ed7-b2c7-21ff34591a04\",\"type\":\"GlyphRenderer\"},{\"attributes\":{\"plot\":null,\"text\":\"\"},\"id\":\"2d6d92b6-4bff-44e9-9304-36221eb64987\",\"type\":\"Title\"},{\"attributes\":{\"label\":{\"value\":\"CLIRAD (single-run)\"},\"renderers\":[{\"id\":\"1584ba5a-a11d-4ed7-b2c7-21ff34591a04\",\"type\":\"GlyphRenderer\"}]},\"id\":\"2fdd2917-a6d0-4d4e-968c-4d2209ee68a7\",\"type\":\"LegendItem\"},{\"attributes\":{\"num_minor_ticks\":10},\"id\":\"f22b4f82-9ca8-4f90-a528-b3cd89a1420c\",\"type\":\"LogTicker\"},{\"attributes\":{\"fill_alpha\":{\"value\":0.7},\"fill_color\":{\"value\":\"#4daf4a\"},\"line_alpha\":{\"value\":0.7},\"line_color\":{\"value\":\"#4daf4a\"},\"x\":{\"field\":\"x\"},\"y\":{\"field\":\"y\"}},\"id\":\"a14ddeac-45d1-4789-b02b-1cd0226a3392\",\"type\":\"Circle\"},{\"attributes\":{\"source\":{\"id\":\"caf0a34d-1e4a-441f-8fe5-b7711b96020d\",\"type\":\"ColumnDataSource\"}},\"id\":\"66273ed8-5584-498b-9783-6af971b4e7c1\",\"type\":\"CDSView\"},{\"attributes\":{\"line_alpha\":0.6,\"line_color\":\"#377eb8\",\"line_dash\":[6],\"line_width\":5,\"x\":{\"field\":\"x\"},\"y\":{\"field\":\"y\"}},\"id\":\"1439c27b-fe9d-400b-8e6f-b1af186e22fd\",\"type\":\"Line\"},{\"attributes\":{},\"id\":\"2aea28f2-ad36-40c2-b148-d70bbcd68364\",\"type\":\"Selection\"},{\"attributes\":{\"fill_alpha\":{\"value\":0.1},\"fill_color\":{\"value\":\"#1f77b4\"},\"line_alpha\":{\"value\":0.1},\"line_color\":{\"value\":\"#1f77b4\"},\"x\":{\"field\":\"x\"},\"y\":{\"field\":\"y\"}},\"id\":\"d837526e-7d01-4e41-b099-c4af9629ed80\",\"type\":\"Circle\"},{\"attributes\":{},\"id\":\"6f63c8ba-049b-4799-8bbb-1d5a1726bb8d\",\"type\":\"LinearScale\"},{\"attributes\":{\"label\":{\"value\":\"CRD\"},\"renderers\":[{\"id\":\"8885aaad-5eb3-450d-91a9-cdec378ba994\",\"type\":\"GlyphRenderer\"},{\"id\":\"b1664bf5-58b4-4ae1-8a4a-4f5e1ceac123\",\"type\":\"GlyphRenderer\"}]},\"id\":\"f048d783-9a20-4d62-9e9e-5f61ff28a972\",\"type\":\"LegendItem\"},{\"attributes\":{\"data_source\":{\"id\":\"96d3c378-e033-4bf7-855d-8e5e21ca1394\",\"type\":\"ColumnDataSource\"},\"glyph\":{\"id\":\"a1880691-6fd8-4884-bc3f-bee9abc8fb84\",\"type\":\"Circle\"},\"hover_glyph\":null,\"muted_glyph\":null,\"nonselection_glyph\":{\"id\":\"2881178a-1080-4f90-8760-90ece8fc3577\",\"type\":\"Circle\"},\"selection_glyph\":null,\"view\":{\"id\":\"f393ab5b-f611-49e8-b1c3-89ae53cb28eb\",\"type\":\"CDSView\"}},\"id\":\"1194a43c-6535-405c-b7b7-9e23b801bd6b\",\"type\":\"GlyphRenderer\"},{\"attributes\":{\"plot\":{\"id\":\"6388f447-0b0f-4e5d-a986-73b5d45c0cfb\",\"subtype\":\"Figure\",\"type\":\"Plot\"},\"ticker\":{\"id\":\"e3666633-681f-4de9-979b-ceb82a68023e\",\"type\":\"BasicTicker\"}},\"id\":\"75ae4d88-c94e-4488-9b80-ce4853558375\",\"type\":\"Grid\"},{\"attributes\":{\"axis_label\":\"cooling rate [K/day]\",\"formatter\":{\"id\":\"fb4a8001-a502-47f3-9361-ec155996c042\",\"type\":\"BasicTickFormatter\"},\"plot\":{\"id\":\"119d3e5b-a6ab-411f-aa84-c5f5ff7a4806\",\"subtype\":\"Figure\",\"type\":\"Plot\"},\"ticker\":{\"id\":\"bda9988d-cee7-4c92-808c-72e50ed89c63\",\"type\":\"BasicTicker\"}},\"id\":\"bbab3ec5-d438-47fc-9253-d66e5c6137ae\",\"type\":\"LinearAxis\"},{\"attributes\":{\"source\":{\"id\":\"b4bfc53a-eec9-4a66-8613-d8906901f0fd\",\"type\":\"ColumnDataSource\"}},\"id\":\"58a60f23-a475-433b-9a67-94f2c533ec2b\",\"type\":\"CDSView\"},{\"attributes\":{},\"id\":\"ea161da3-3bc0-4527-bfff-ccd787a6a88e\",\"type\":\"BasicTickFormatter\"},{\"attributes\":{},\"id\":\"e3666633-681f-4de9-979b-ceb82a68023e\",\"type\":\"BasicTicker\"},{\"attributes\":{\"axis_label\":\"pressure [mb]\",\"formatter\":{\"id\":\"c252b1a6-b517-4f78-9af5-786bcf00fff2\",\"type\":\"LogTickFormatter\"},\"plot\":{\"id\":\"6388f447-0b0f-4e5d-a986-73b5d45c0cfb\",\"subtype\":\"Figure\",\"type\":\"Plot\"},\"ticker\":{\"id\":\"cd1215e4-9be5-410e-a75e-d05fc39735a3\",\"type\":\"LogTicker\"}},\"id\":\"287c775e-e915-46dc-b04a-5196e8696ee8\",\"type\":\"LogAxis\"},{\"attributes\":{\"dimension\":1,\"plot\":{\"id\":\"6388f447-0b0f-4e5d-a986-73b5d45c0cfb\",\"subtype\":\"Figure\",\"type\":\"Plot\"},\"ticker\":{\"id\":\"cd1215e4-9be5-410e-a75e-d05fc39735a3\",\"type\":\"LogTicker\"}},\"id\":\"636ca709-7da5-4871-9300-88039f2bec37\",\"type\":\"Grid\"},{\"attributes\":{},\"id\":\"47822ea3-8bf9-4f7f-a566-c59c7280b773\",\"type\":\"PanTool\"},{\"attributes\":{\"above\":[{\"id\":\"77c290f0-a2a7-4612-86ca-7df2d11c4984\",\"type\":\"Legend\"}],\"below\":[{\"id\":\"bbab3ec5-d438-47fc-9253-d66e5c6137ae\",\"type\":\"LinearAxis\"}],\"left\":[{\"id\":\"0b9bbd24-ab74-4448-9c96-e0502f1dcad1\",\"type\":\"LinearAxis\"}],\"plot_width\":300,\"renderers\":[{\"id\":\"bbab3ec5-d438-47fc-9253-d66e5c6137ae\",\"type\":\"LinearAxis\"},{\"id\":\"47d8705b-34f5-4aaa-8717-da10a3ad093b\",\"type\":\"Grid\"},{\"id\":\"0b9bbd24-ab74-4448-9c96-e0502f1dcad1\",\"type\":\"LinearAxis\"},{\"id\":\"436d1e4b-2cc3-4abf-bf8a-960251d90e61\",\"type\":\"Grid\"},{\"id\":\"7af58a8f-7b0b-4b85-9332-d19a52e95011\",\"type\":\"BoxAnnotation\"},{\"id\":\"1584ba5a-a11d-4ed7-b2c7-21ff34591a04\",\"type\":\"GlyphRenderer\"},{\"id\":\"8885aaad-5eb3-450d-91a9-cdec378ba994\",\"type\":\"GlyphRenderer\"},{\"id\":\"b1664bf5-58b4-4ae1-8a4a-4f5e1ceac123\",\"type\":\"GlyphRenderer\"},{\"id\":\"77c290f0-a2a7-4612-86ca-7df2d11c4984\",\"type\":\"Legend\"}],\"title\":{\"id\":\"6672ab76-65fa-454e-b83b-91cf4adca32e\",\"type\":\"Title\"},\"toolbar\":{\"id\":\"bebf79d1-1d3c-4d28-8105-c406be9bcba8\",\"type\":\"Toolbar\"},\"toolbar_location\":null,\"x_range\":{\"id\":\"2e25ae07-e849-4ce3-bbdb-8f30922b8d1c\",\"type\":\"Range1d\"},\"x_scale\":{\"id\":\"9ffc866c-5eea-4176-b59d-0c8f50040ec5\",\"type\":\"LinearScale\"},\"y_range\":{\"id\":\"b5803f7a-36fa-4317-beb8-090bf90b75e4\",\"type\":\"Range1d\"},\"y_scale\":{\"id\":\"d3e5b0dc-6a4c-4f2b-8d08-c9d95173b6ef\",\"type\":\"LinearScale\"}},\"id\":\"119d3e5b-a6ab-411f-aa84-c5f5ff7a4806\",\"subtype\":\"Figure\",\"type\":\"Plot\"},{\"attributes\":{\"dimension\":1,\"plot\":{\"id\":\"ae25ae23-1ccb-4053-87c6-f3cb86be6c4b\",\"subtype\":\"Figure\",\"type\":\"Plot\"},\"ticker\":{\"id\":\"f22b4f82-9ca8-4f90-a528-b3cd89a1420c\",\"type\":\"LogTicker\"}},\"id\":\"3c984a9e-3054-4f4e-be95-d31d3ca569b2\",\"type\":\"Grid\"},{\"attributes\":{\"bottom_units\":\"screen\",\"fill_alpha\":{\"value\":0.5},\"fill_color\":{\"value\":\"lightgrey\"},\"left_units\":\"screen\",\"level\":\"overlay\",\"line_alpha\":{\"value\":1.0},\"line_color\":{\"value\":\"black\"},\"line_dash\":[4,4],\"line_width\":{\"value\":2},\"plot\":null,\"render_mode\":\"css\",\"right_units\":\"screen\",\"top_units\":\"screen\"},\"id\":\"cdc4c84a-9960-4b90-a809-68ba9f51c033\",\"type\":\"BoxAnnotation\"},{\"attributes\":{},\"id\":\"bbb5dc1a-f918-4867-83ef-80cc5620dde3\",\"type\":\"HelpTool\"},{\"attributes\":{\"num_minor_ticks\":10},\"id\":\"cd1215e4-9be5-410e-a75e-d05fc39735a3\",\"type\":\"LogTicker\"},{\"attributes\":{},\"id\":\"45c926cb-9557-480e-8f0e-d1a53ce64a50\",\"type\":\"WheelZoomTool\"},{\"attributes\":{\"callback\":null,\"data\":{\"x\":{\"__ndarray__\":\"DeQvAqWDRUC2vvR4+NFCQFEufk1xs0FAFdxaonocQECUvvYnIxU8QEd87GIcKjdAcZtOv/voMUBSEHYa5gQqQF49jHZtSCJAPWz7AMGcGkAR4zeBKjoVQLhPyLcWBRJAGlKKyy2TDUBDCBYMLjADQFzLvEKy6P4/UqnR7eOrBUBZFzyuj0MMQI1XQNeznBBAs5t/wu3dE0CsKkuyIk4ZQOVhwU2QCyFAmOAeE7kBJ0CaOvPD0hgoQHghtjM4hCRAgTBntRonIUDfVB61o1UcQB5YXyB1WBhA2zqpMegrFEB+eJU1zsYPQIgDNAMfOwlATI17UtQ6BUCCTjVUPXkAQHRoE7wAsfQ/wUS1t3IK5j/gsxiK+PzQPzJtr288icG/lzqwY1uR3r+X1ohF1iDYvwRse39G8l6/bUIKpkRXxT+BzSruTK7YP/zSiWUju+w/6UZL/qe69j/qaWbOQtf9PxII4j/16wBAhF3YpsiEAUAeij5caUcCQPlB5bmoTAJAAM6oRJQWAUBMT+2PHYEAQM6LWOouTwBA+t0JMAsvAECkjmHkOwQAQOTl31ifnP8/O0gtp1Q//z+tgEc/Vgf/PzHLyvLWDf8/4JULMlVC/z9tJ6JDBmT/P2IT5UcGZf8/gcfTzDxM/z9a0afUc/r+P2ddXBC12P0/FjyHXdTJ/D8jxx3A8C/6P7BaYXIHnPc/GeQYlOPt9T9oetU/kn70P1sjhyoqxPM/T9sGPz+V8z+4Vmyt3q7zP4OB5G9UEfQ/56QuE+kD9T9sRTO3SLv2P4Ht+ODJpwFA\",\"dtype\":\"float64\",\"shape\":[75]},\"y\":{\"__ndarray__\":\"GhExyth1ND/Sv8nbtpRIP2vylNV0PVE/aTum7souWD/At0SJ8fVgPw3Iuahxymc/MSNhhJWvcD/bTfBN02d3P2zb5nxnaoA/CD5h5MAGhz8NmeH1TyaQP+zrCsc9p5Y/LbKd76fGnz/bLW5ISEmmPww9YvTcQq8/JV2OstnstT8Er5Y7M8G+P0c+r3jqkcU/5h99k6ZBzj88bCIzFzjVP4enV8oyxN0//yH99nXg5D8qOpLLf0jtP5kqGJXUifQ/c9cS8kHP/D+/DpwzojQEQIEmwoanVwxA4lgXt9HgE0BSSZ2AJuIbQAMJih9jjiNA5q4l5INuK0AwTKYKRj0zQNv5fmq8/DpAaCJseHrtQkB/+zpwzoxKQM3MzMzMeFJAZmZmZmZqWEAAAAAAAFxeQM3MzMzMJmJAmpmZmZkfZUBmZmZmZhhoQDMzMzMzEWtAAAAAAAAKbkBmZmZmZoFwQM3MzMzM/XFAMzMzMzN6c0CamZmZmfZ0QAAAAAAAc3ZAZmZmZmbvd0DNzMzMzGt5QDMzMzMz6HpAmpmZmZlkfEAAAAAAAOF9QGZmZmZmXX9AZmZmZuZsgECamZmZGSuBQM3MzMxM6YFAAAAAAICngkAzMzMzs2WDQGZmZmbmI4RAmpmZmRnihEDNzMzMTKCFQAAAAACAXoZAMzMzM7Mch0BmZmZm5tqHQJqZmZkZmYhAzczMzExXiUAAAAAAgBWKQDMzMzOz04pAZmZmZuaRi0CamZmZGVCMQM3MzMxMDo1AAAAAAIDMjUAzMzMzs4qOQGZmZmbmSI9A\",\"dtype\":\"float64\",\"shape\":[75]}},\"selected\":{\"id\":\"cc7690ca-2b26-43ee-8cde-4566a50c20e5\",\"type\":\"Selection\"},\"selection_policy\":{\"id\":\"612016f4-f181-46a9-a581-b5aa975fd51b\",\"type\":\"UnionRenderers\"}},\"id\":\"3939c1e6-a355-46cd-9573-ef0ef3f7f06b\",\"type\":\"ColumnDataSource\"},{\"attributes\":{\"label\":{\"value\":\"CLIRAD (single-run)\"},\"renderers\":[{\"id\":\"a188d6cd-efbf-45a1-9664-ab1feb121eee\",\"type\":\"GlyphRenderer\"}]},\"id\":\"55d337a5-0327-4f16-9a08-943062e4b866\",\"type\":\"LegendItem\"},{\"attributes\":{},\"id\":\"2741c7d4-b470-4f5b-b0ea-a6df296539c2\",\"type\":\"SaveTool\"},{\"attributes\":{\"data_source\":{\"id\":\"caf0a34d-1e4a-441f-8fe5-b7711b96020d\",\"type\":\"ColumnDataSource\"},\"glyph\":{\"id\":\"a14ddeac-45d1-4789-b02b-1cd0226a3392\",\"type\":\"Circle\"},\"hover_glyph\":null,\"muted_glyph\":null,\"nonselection_glyph\":{\"id\":\"d837526e-7d01-4e41-b099-c4af9629ed80\",\"type\":\"Circle\"},\"selection_glyph\":null,\"view\":{\"id\":\"66273ed8-5584-498b-9783-6af971b4e7c1\",\"type\":\"CDSView\"}},\"id\":\"8885aaad-5eb3-450d-91a9-cdec378ba994\",\"type\":\"GlyphRenderer\"},{\"attributes\":{},\"id\":\"3ebd7f9e-999c-4eb2-bc71-76f61b3f5ee1\",\"type\":\"LogScale\"},{\"attributes\":{\"axis_label\":\"cooling rate [K/day]\",\"formatter\":{\"id\":\"711ba24e-18b0-426c-808e-539e9797d5b3\",\"type\":\"BasicTickFormatter\"},\"plot\":{\"id\":\"6388f447-0b0f-4e5d-a986-73b5d45c0cfb\",\"subtype\":\"Figure\",\"type\":\"Plot\"},\"ticker\":{\"id\":\"e3666633-681f-4de9-979b-ceb82a68023e\",\"type\":\"BasicTicker\"}},\"id\":\"8acd3e90-47a9-4078-b000-f5ce19b681f2\",\"type\":\"LinearAxis\"},{\"attributes\":{},\"id\":\"3d41cf10-7b04-4453-bd45-408fe6fd02a0\",\"type\":\"Selection\"},{\"attributes\":{\"items\":[{\"id\":\"55d337a5-0327-4f16-9a08-943062e4b866\",\"type\":\"LegendItem\"},{\"id\":\"e7657a9d-8f67-457d-90af-d8ed5b8d354b\",\"type\":\"LegendItem\"}],\"label_text_font_size\":{\"value\":\"8pt\"},\"location\":\"top_center\",\"orientation\":\"horizontal\",\"plot\":{\"id\":\"6388f447-0b0f-4e5d-a986-73b5d45c0cfb\",\"subtype\":\"Figure\",\"type\":\"Plot\"}},\"id\":\"009b3535-dce6-4a6d-b37c-cb3e3b83e303\",\"type\":\"Legend\"},{\"attributes\":{},\"id\":\"34c339bf-9a82-4dfe-bf32-37da50e41cc5\",\"type\":\"WheelZoomTool\"},{\"attributes\":{\"source\":{\"id\":\"e77e74cd-95ab-4e97-8f78-cc1b4367cf70\",\"type\":\"ColumnDataSource\"}},\"id\":\"dca16a6f-bdf7-46f5-86db-dd458b5b92a3\",\"type\":\"CDSView\"},{\"attributes\":{},\"id\":\"7ee3f614-adb3-4b37-8a93-7d2487147977\",\"type\":\"UnionRenderers\"},{\"attributes\":{},\"id\":\"1dc38204-e8e3-4599-9f77-0685df8701dc\",\"type\":\"SaveTool\"},{\"attributes\":{\"active_drag\":\"auto\",\"active_inspect\":\"auto\",\"active_scroll\":\"auto\",\"active_tap\":\"auto\",\"tools\":[{\"id\":\"c1f8a8a4-c69b-4b4e-8ea6-08f9e02d6bf6\",\"type\":\"PanTool\"},{\"id\":\"45c926cb-9557-480e-8f0e-d1a53ce64a50\",\"type\":\"WheelZoomTool\"},{\"id\":\"9eaea9e5-1553-4ebd-b752-d9796232f36a\",\"type\":\"BoxZoomTool\"},{\"id\":\"2741c7d4-b470-4f5b-b0ea-a6df296539c2\",\"type\":\"SaveTool\"},{\"id\":\"1c3bbc01-a882-4caa-ad74-0bd96b2f44eb\",\"type\":\"ResetTool\"},{\"id\":\"bbb5dc1a-f918-4867-83ef-80cc5620dde3\",\"type\":\"HelpTool\"}]},\"id\":\"a3a8f483-07f1-4fb7-a32e-e4ff2cff21d2\",\"type\":\"Toolbar\"},{\"attributes\":{\"data_source\":{\"id\":\"e77e74cd-95ab-4e97-8f78-cc1b4367cf70\",\"type\":\"ColumnDataSource\"},\"glyph\":{\"id\":\"64eb1123-2de7-49c1-909e-dd6b2991c90c\",\"type\":\"Line\"},\"hover_glyph\":null,\"muted_glyph\":null,\"nonselection_glyph\":{\"id\":\"219e89b8-fc5d-41b1-b1c3-584921c8de58\",\"type\":\"Line\"},\"selection_glyph\":null,\"view\":{\"id\":\"dca16a6f-bdf7-46f5-86db-dd458b5b92a3\",\"type\":\"CDSView\"}},\"id\":\"35420cb0-90b7-48ac-afd3-2a73e2ebd545\",\"type\":\"GlyphRenderer\"},{\"attributes\":{},\"id\":\"03f231b4-8bee-4dd8-bc3d-3ca64f02dbcc\",\"type\":\"UnionRenderers\"},{\"attributes\":{\"callback\":null,\"data\":{\"x\":{\"__ndarray__\":\"DeQvAqWDRUC2vvR4+NFCQFEufk1xs0FAFdxaonocQECUvvYnIxU8QEd87GIcKjdAcZtOv/voMUBSEHYa5gQqQF49jHZtSCJAPWz7AMGcGkAR4zeBKjoVQLhPyLcWBRJAGlKKyy2TDUBDCBYMLjADQFzLvEKy6P4/UqnR7eOrBUBZFzyuj0MMQI1XQNeznBBAs5t/wu3dE0CsKkuyIk4ZQOVhwU2QCyFAmOAeE7kBJ0CaOvPD0hgoQHghtjM4hCRAgTBntRonIUDfVB61o1UcQB5YXyB1WBhA2zqpMegrFEB+eJU1zsYPQIgDNAMfOwlATI17UtQ6BUCCTjVUPXkAQHRoE7wAsfQ/wUS1t3IK5j/gsxiK+PzQPzJtr288icG/lzqwY1uR3r+X1ohF1iDYvwRse39G8l6/bUIKpkRXxT+BzSruTK7YP/zSiWUju+w/6UZL/qe69j/qaWbOQtf9PxII4j/16wBAhF3YpsiEAUAeij5caUcCQPlB5bmoTAJAAM6oRJQWAUBMT+2PHYEAQM6LWOouTwBA+t0JMAsvAECkjmHkOwQAQOTl31ifnP8/O0gtp1Q//z+tgEc/Vgf/PzHLyvLWDf8/4JULMlVC/z9tJ6JDBmT/P2IT5UcGZf8/gcfTzDxM/z9a0afUc/r+P2ddXBC12P0/FjyHXdTJ/D8jxx3A8C/6P7BaYXIHnPc/GeQYlOPt9T9oetU/kn70P1sjhyoqxPM/T9sGPz+V8z+4Vmyt3q7zP4OB5G9UEfQ/56QuE+kD9T9sRTO3SLv2P4Ht+ODJpwFA\",\"dtype\":\"float64\",\"shape\":[75]},\"y\":{\"__ndarray__\":\"GhExyth1ND/Sv8nbtpRIP2vylNV0PVE/aTum7souWD/At0SJ8fVgPw3Iuahxymc/MSNhhJWvcD/bTfBN02d3P2zb5nxnaoA/CD5h5MAGhz8NmeH1TyaQP+zrCsc9p5Y/LbKd76fGnz/bLW5ISEmmPww9YvTcQq8/JV2OstnstT8Er5Y7M8G+P0c+r3jqkcU/5h99k6ZBzj88bCIzFzjVP4enV8oyxN0//yH99nXg5D8qOpLLf0jtP5kqGJXUifQ/c9cS8kHP/D+/DpwzojQEQIEmwoanVwxA4lgXt9HgE0BSSZ2AJuIbQAMJih9jjiNA5q4l5INuK0AwTKYKRj0zQNv5fmq8/DpAaCJseHrtQkB/+zpwzoxKQM3MzMzMeFJAZmZmZmZqWEAAAAAAAFxeQM3MzMzMJmJAmpmZmZkfZUBmZmZmZhhoQDMzMzMzEWtAAAAAAAAKbkBmZmZmZoFwQM3MzMzM/XFAMzMzMzN6c0CamZmZmfZ0QAAAAAAAc3ZAZmZmZmbvd0DNzMzMzGt5QDMzMzMz6HpAmpmZmZlkfEAAAAAAAOF9QGZmZmZmXX9AZmZmZuZsgECamZmZGSuBQM3MzMxM6YFAAAAAAICngkAzMzMzs2WDQGZmZmbmI4RAmpmZmRnihEDNzMzMTKCFQAAAAACAXoZAMzMzM7Mch0BmZmZm5tqHQJqZmZkZmYhAzczMzExXiUAAAAAAgBWKQDMzMzOz04pAZmZmZuaRi0CamZmZGVCMQM3MzMxMDo1AAAAAAIDMjUAzMzMzs4qOQGZmZmbmSI9A\",\"dtype\":\"float64\",\"shape\":[75]}},\"selected\":{\"id\":\"3d41cf10-7b04-4453-bd45-408fe6fd02a0\",\"type\":\"Selection\"},\"selection_policy\":{\"id\":\"756c363e-e40d-408a-8adf-67a63cf544c2\",\"type\":\"UnionRenderers\"}},\"id\":\"b4bfc53a-eec9-4a66-8613-d8906901f0fd\",\"type\":\"ColumnDataSource\"},{\"attributes\":{\"line_alpha\":0.8,\"line_color\":\"#984ea3\",\"line_width\":1.5,\"x\":{\"field\":\"x\"},\"y\":{\"field\":\"y\"}},\"id\":\"00346410-aa20-4655-a05d-ff12889bd926\",\"type\":\"Line\"},{\"attributes\":{\"bottom_units\":\"screen\",\"fill_alpha\":{\"value\":0.5},\"fill_color\":{\"value\":\"lightgrey\"},\"left_units\":\"screen\",\"level\":\"overlay\",\"line_alpha\":{\"value\":1.0},\"line_color\":{\"value\":\"black\"},\"line_dash\":[4,4],\"line_width\":{\"value\":2},\"plot\":null,\"render_mode\":\"css\",\"right_units\":\"screen\",\"top_units\":\"screen\"},\"id\":\"14347556-9f34-4ff0-95cc-54c4992ec692\",\"type\":\"BoxAnnotation\"},{\"attributes\":{\"dimension\":1,\"plot\":{\"id\":\"119d3e5b-a6ab-411f-aa84-c5f5ff7a4806\",\"subtype\":\"Figure\",\"type\":\"Plot\"},\"ticker\":{\"id\":\"9ba466d4-62db-4fc3-9d39-95efc1d347c6\",\"type\":\"BasicTicker\"}},\"id\":\"436d1e4b-2cc3-4abf-bf8a-960251d90e61\",\"type\":\"Grid\"},{\"attributes\":{},\"id\":\"9510af42-f1b0-4821-acb0-2923ae9a5d8e\",\"type\":\"UnionRenderers\"},{\"attributes\":{},\"id\":\"8c4e4a5c-15df-4b7a-ad19-937f72b63a6d\",\"type\":\"PanTool\"},{\"attributes\":{\"children\":[{\"id\":\"119d3e5b-a6ab-411f-aa84-c5f5ff7a4806\",\"subtype\":\"Figure\",\"type\":\"Plot\"},{\"id\":\"6388f447-0b0f-4e5d-a986-73b5d45c0cfb\",\"subtype\":\"Figure\",\"type\":\"Plot\"},{\"id\":\"ae25ae23-1ccb-4053-87c6-f3cb86be6c4b\",\"subtype\":\"Figure\",\"type\":\"Plot\"}]},\"id\":\"1af3535c-7399-4deb-9b75-6ab425fdd592\",\"type\":\"Row\"},{\"attributes\":{\"fill_alpha\":{\"value\":0.7},\"fill_color\":{\"value\":\"#984ea3\"},\"line_alpha\":{\"value\":0.7},\"line_color\":{\"value\":\"#984ea3\"},\"x\":{\"field\":\"x\"},\"y\":{\"field\":\"y\"}},\"id\":\"a1880691-6fd8-4884-bc3f-bee9abc8fb84\",\"type\":\"Circle\"},{\"attributes\":{},\"id\":\"9ffc866c-5eea-4176-b59d-0c8f50040ec5\",\"type\":\"LinearScale\"},{\"attributes\":{},\"id\":\"50be1f0f-3841-4d47-b587-f5ef3883a4d9\",\"type\":\"Selection\"},{\"attributes\":{\"children\":[{\"id\":\"1af3535c-7399-4deb-9b75-6ab425fdd592\",\"type\":\"Row\"}]},\"id\":\"850e6c9b-3052-4b0d-88ed-bcb7af8778d3\",\"type\":\"Column\"},{\"attributes\":{\"plot\":null,\"text\":\"\"},\"id\":\"fcaa963f-ff68-4e4c-ae27-7d27060f4006\",\"type\":\"Title\"},{\"attributes\":{\"label\":{\"value\":\"CLIRAD (single-run) - CRD\"},\"renderers\":[{\"id\":\"1194a43c-6535-405c-b7b7-9e23b801bd6b\",\"type\":\"GlyphRenderer\"},{\"id\":\"71e4e04a-2740-4e8c-b016-78d088f5e66a\",\"type\":\"GlyphRenderer\"}]},\"id\":\"fb875b57-c5b0-4f86-afb6-db6794847e3e\",\"type\":\"LegendItem\"},{\"attributes\":{\"source\":{\"id\":\"18a37cf5-9e2f-4e08-99c9-4f92cf29fe90\",\"type\":\"ColumnDataSource\"}},\"id\":\"a5a124f3-aa60-4000-9a1d-909758d0b6f9\",\"type\":\"CDSView\"},{\"attributes\":{},\"id\":\"6200d243-c5fd-432a-a791-6ef71dfc7ce1\",\"type\":\"Selection\"},{\"attributes\":{\"label\":{\"value\":\"CRD\"},\"renderers\":[{\"id\":\"b81f6015-4546-4f9a-8800-e8527d8c61cb\",\"type\":\"GlyphRenderer\"},{\"id\":\"35420cb0-90b7-48ac-afd3-2a73e2ebd545\",\"type\":\"GlyphRenderer\"}]},\"id\":\"e7657a9d-8f67-457d-90af-d8ed5b8d354b\",\"type\":\"LegendItem\"},{\"attributes\":{\"tools\":[{\"id\":\"8c4e4a5c-15df-4b7a-ad19-937f72b63a6d\",\"type\":\"PanTool\"},{\"id\":\"2237ace7-46b7-49d5-9309-ec4dfb41d92e\",\"type\":\"WheelZoomTool\"},{\"id\":\"3d9e2ff9-ed6f-49aa-82f9-9ac1708be2d9\",\"type\":\"BoxZoomTool\"},{\"id\":\"ed2e1aff-95a7-4e9e-b3cf-63414384d6d6\",\"type\":\"SaveTool\"},{\"id\":\"6a71ae1b-dc28-4dbe-aebd-987d9e69c76f\",\"type\":\"ResetTool\"},{\"id\":\"b150b6bf-8ae3-4b75-9275-9209d2ca08b3\",\"type\":\"HelpTool\"},{\"id\":\"47822ea3-8bf9-4f7f-a566-c59c7280b773\",\"type\":\"PanTool\"},{\"id\":\"34c339bf-9a82-4dfe-bf32-37da50e41cc5\",\"type\":\"WheelZoomTool\"},{\"id\":\"5501df62-0bd2-4f21-aa94-5a1a1dbd2d6e\",\"type\":\"BoxZoomTool\"},{\"id\":\"1dc38204-e8e3-4599-9f77-0685df8701dc\",\"type\":\"SaveTool\"},{\"id\":\"967edb5d-acb9-48c1-8ddb-4cc80c5ad85a\",\"type\":\"ResetTool\"},{\"id\":\"386c1ee8-6238-4648-af73-3d5c35c6ea00\",\"type\":\"HelpTool\"},{\"id\":\"c1f8a8a4-c69b-4b4e-8ea6-08f9e02d6bf6\",\"type\":\"PanTool\"},{\"id\":\"45c926cb-9557-480e-8f0e-d1a53ce64a50\",\"type\":\"WheelZoomTool\"},{\"id\":\"9eaea9e5-1553-4ebd-b752-d9796232f36a\",\"type\":\"BoxZoomTool\"},{\"id\":\"2741c7d4-b470-4f5b-b0ea-a6df296539c2\",\"type\":\"SaveTool\"},{\"id\":\"1c3bbc01-a882-4caa-ad74-0bd96b2f44eb\",\"type\":\"ResetTool\"},{\"id\":\"bbb5dc1a-f918-4867-83ef-80cc5620dde3\",\"type\":\"HelpTool\"}]},\"id\":\"4a9dc3b7-ef0a-4bf8-967f-06141a3e160a\",\"type\":\"ProxyToolbar\"},{\"attributes\":{\"plot\":{\"id\":\"119d3e5b-a6ab-411f-aa84-c5f5ff7a4806\",\"subtype\":\"Figure\",\"type\":\"Plot\"},\"ticker\":{\"id\":\"bda9988d-cee7-4c92-808c-72e50ed89c63\",\"type\":\"BasicTicker\"}},\"id\":\"47d8705b-34f5-4aaa-8717-da10a3ad093b\",\"type\":\"Grid\"},{\"attributes\":{\"data_source\":{\"id\":\"18a37cf5-9e2f-4e08-99c9-4f92cf29fe90\",\"type\":\"ColumnDataSource\"},\"glyph\":{\"id\":\"50bfcd44-47b4-42db-bd25-8bd0ad078376\",\"type\":\"Circle\"},\"hover_glyph\":null,\"muted_glyph\":null,\"nonselection_glyph\":{\"id\":\"ebf3708e-f95a-4c59-a18f-fbc2c47be118\",\"type\":\"Circle\"},\"selection_glyph\":null,\"view\":{\"id\":\"a5a124f3-aa60-4000-9a1d-909758d0b6f9\",\"type\":\"CDSView\"}},\"id\":\"b81f6015-4546-4f9a-8800-e8527d8c61cb\",\"type\":\"GlyphRenderer\"},{\"attributes\":{\"items\":[{\"id\":\"2fdd2917-a6d0-4d4e-968c-4d2209ee68a7\",\"type\":\"LegendItem\"},{\"id\":\"f048d783-9a20-4d62-9e9e-5f61ff28a972\",\"type\":\"LegendItem\"}],\"label_text_font_size\":{\"value\":\"8pt\"},\"location\":\"top_center\",\"orientation\":\"horizontal\",\"plot\":{\"id\":\"119d3e5b-a6ab-411f-aa84-c5f5ff7a4806\",\"subtype\":\"Figure\",\"type\":\"Plot\"}},\"id\":\"77c290f0-a2a7-4612-86ca-7df2d11c4984\",\"type\":\"Legend\"},{\"attributes\":{\"source\":{\"id\":\"3939c1e6-a355-46cd-9573-ef0ef3f7f06b\",\"type\":\"ColumnDataSource\"}},\"id\":\"75f07f08-fd9b-4f67-9eba-64eac69ec5a1\",\"type\":\"CDSView\"},{\"attributes\":{\"line_color\":\"#4daf4a\",\"line_width\":1.5,\"x\":{\"field\":\"x\"},\"y\":{\"field\":\"y\"}},\"id\":\"64eb1123-2de7-49c1-909e-dd6b2991c90c\",\"type\":\"Line\"},{\"attributes\":{},\"id\":\"6a71ae1b-dc28-4dbe-aebd-987d9e69c76f\",\"type\":\"ResetTool\"},{\"attributes\":{},\"id\":\"a6ead0bd-2644-4237-9c69-e5dfb7dc2440\",\"type\":\"BasicTickFormatter\"},{\"attributes\":{},\"id\":\"2237ace7-46b7-49d5-9309-ec4dfb41d92e\",\"type\":\"WheelZoomTool\"},{\"attributes\":{\"items\":[{\"id\":\"fb875b57-c5b0-4f86-afb6-db6794847e3e\",\"type\":\"LegendItem\"}],\"label_text_font_size\":{\"value\":\"8pt\"},\"location\":\"top_center\",\"orientation\":\"horizontal\",\"plot\":{\"id\":\"ae25ae23-1ccb-4053-87c6-f3cb86be6c4b\",\"subtype\":\"Figure\",\"type\":\"Plot\"}},\"id\":\"5f7bdae7-8642-4a98-8ca7-871022c3c4fd\",\"type\":\"Legend\"},{\"attributes\":{\"plot\":null,\"text\":\"\"},\"id\":\"6672ab76-65fa-454e-b83b-91cf4adca32e\",\"type\":\"Title\"},{\"attributes\":{\"toolbar\":{\"id\":\"4a9dc3b7-ef0a-4bf8-967f-06141a3e160a\",\"type\":\"ProxyToolbar\"},\"toolbar_location\":\"above\"},\"id\":\"56baed94-fabc-45d3-bc92-95e1fee71c9f\",\"type\":\"ToolbarBox\"},{\"attributes\":{\"data_source\":{\"id\":\"e33d5aab-053e-4b36-8f9b-e62f121ca33d\",\"type\":\"ColumnDataSource\"},\"glyph\":{\"id\":\"00346410-aa20-4655-a05d-ff12889bd926\",\"type\":\"Line\"},\"hover_glyph\":null,\"muted_glyph\":null,\"nonselection_glyph\":{\"id\":\"e844ff2d-b6d2-4b67-824c-a7a0018b5411\",\"type\":\"Line\"},\"selection_glyph\":null,\"view\":{\"id\":\"8dafb28d-f8c1-4bdd-ab96-ecd2ce9a76fe\",\"type\":\"CDSView\"}},\"id\":\"71e4e04a-2740-4e8c-b016-78d088f5e66a\",\"type\":\"GlyphRenderer\"},{\"attributes\":{},\"id\":\"d3e5b0dc-6a4c-4f2b-8d08-c9d95173b6ef\",\"type\":\"LinearScale\"},{\"attributes\":{\"callback\":null,\"data\":{\"x\":{\"__ndarray__\":\"R/KIaN7AVEClCeJMyPNGQOvRhpxr30JAptxzhxx4PkA7SssMElA4QK6Bp3CyUDNAsVXpjES9LkBFhUV0+5coQMHYwqbbySNA6f09nM3nH0CaSd/3eYoZQDmgiAOW8BNAPYqARh3eDEBkm4vCgvr+P9D+5tWhQfY/P8DwKRnSAkBq38kb17ILQDT7IWuSsxFAUr2Rjm0FFkAinq3s9XgbQGCHwtYcqSFAG64kT303J0C7dRDneyooQD9JYrbK8yRA9S3bneHhIUAIymSuUMMcQIkHLe6VEBdAAau3cITREkA6CiNvkQIPQJU39ki7IQlAaAvwok1UA0BXLQiS4+L7P0xzDpJ2hPI/NNuPGMbJ5z91mUVYxqfSPxqwUPSxZca/G11peifD3L8QzNj5t2jTvwzOozTL360/SPJ4VI1VzD9KJ0nXEIncP8yDdlvHt+4/Et49nYLW9z++2teD4Jn+P+568eH/bwFALf5D9lmAAkCiZAicVOkCQPPT4jNKxwJAOjp3wTzBAUBSQsKNGisBQG4OmjqJwQBAJ3sZoHFuAEA5Ar0Sdi0AQGy4rw5+9f8/7W4nSrC3/z8mPr8zj4T/P4UYRHCQS/8/embVKYcF/z+5YXG+LLP+P/qb8BVUgf4/KvafTtyO/j/avAK1Ppv+PwJV9VVm2P0/JFtYlU/n/D9sN+q2fiX6Pw44e41PNPc/Opt+Z/wN9T+x3vcSW1vzP9ofvWQJlvI/8sciQQBW8j80sfkQa17yPzg5qng2r/I/Oh14WJBh8z+VZjnpctj0P6CcrSuCqQBA\",\"dtype\":\"float64\",\"shape\":[75]},\"y\":{\"__ndarray__\":\"GhExyth1ND/Sv8nbtpRIP2vylNV0PVE/aTum7souWD/At0SJ8fVgPw3Iuahxymc/MSNhhJWvcD/bTfBN02d3P2zb5nxnaoA/CD5h5MAGhz8NmeH1TyaQP+zrCsc9p5Y/LbKd76fGnz/bLW5ISEmmPww9YvTcQq8/JV2OstnstT8Er5Y7M8G+P0c+r3jqkcU/5h99k6ZBzj88bCIzFzjVP4enV8oyxN0//yH99nXg5D8qOpLLf0jtP5kqGJXUifQ/c9cS8kHP/D+/DpwzojQEQIEmwoanVwxA4lgXt9HgE0BSSZ2AJuIbQAMJih9jjiNA5q4l5INuK0AwTKYKRj0zQNv5fmq8/DpAaCJseHrtQkB/+zpwzoxKQM3MzMzMeFJAZmZmZmZqWEAAAAAAAFxeQM3MzMzMJmJAmpmZmZkfZUBmZmZmZhhoQDMzMzMzEWtAAAAAAAAKbkBmZmZmZoFwQM3MzMzM/XFAMzMzMzN6c0CamZmZmfZ0QAAAAAAAc3ZAZmZmZmbvd0DNzMzMzGt5QDMzMzMz6HpAmpmZmZlkfEAAAAAAAOF9QGZmZmZmXX9AZmZmZuZsgECamZmZGSuBQM3MzMxM6YFAAAAAAICngkAzMzMzs2WDQGZmZmbmI4RAmpmZmRnihEDNzMzMTKCFQAAAAACAXoZAMzMzM7Mch0BmZmZm5tqHQJqZmZkZmYhAzczMzExXiUAAAAAAgBWKQDMzMzOz04pAZmZmZuaRi0CamZmZGVCMQM3MzMxMDo1AAAAAAIDMjUAzMzMzs4qOQGZmZmbmSI9A\",\"dtype\":\"float64\",\"shape\":[75]}},\"selected\":{\"id\":\"3afd5e9d-bf72-4c9e-acb0-9e54add1dd9a\",\"type\":\"Selection\"},\"selection_policy\":{\"id\":\"bf75de00-a083-4f7b-8515-7a4d8011dfe7\",\"type\":\"UnionRenderers\"}},\"id\":\"18a37cf5-9e2f-4e08-99c9-4f92cf29fe90\",\"type\":\"ColumnDataSource\"},{\"attributes\":{},\"id\":\"bf75de00-a083-4f7b-8515-7a4d8011dfe7\",\"type\":\"UnionRenderers\"},{\"attributes\":{\"fill_alpha\":{\"value\":0.1},\"fill_color\":{\"value\":\"#1f77b4\"},\"line_alpha\":{\"value\":0.1},\"line_color\":{\"value\":\"#1f77b4\"},\"x\":{\"field\":\"x\"},\"y\":{\"field\":\"y\"}},\"id\":\"ebf3708e-f95a-4c59-a18f-fbc2c47be118\",\"type\":\"Circle\"},{\"attributes\":{\"overlay\":{\"id\":\"7af58a8f-7b0b-4b85-9332-d19a52e95011\",\"type\":\"BoxAnnotation\"}},\"id\":\"3d9e2ff9-ed6f-49aa-82f9-9ac1708be2d9\",\"type\":\"BoxZoomTool\"},{\"attributes\":{\"line_alpha\":0.1,\"line_color\":\"#1f77b4\",\"line_width\":1.5,\"x\":{\"field\":\"x\"},\"y\":{\"field\":\"y\"}},\"id\":\"e844ff2d-b6d2-4b67-824c-a7a0018b5411\",\"type\":\"Line\"},{\"attributes\":{},\"id\":\"e4ecdf6b-9c23-49c6-99c2-49ed4b8a3b62\",\"type\":\"Selection\"},{\"attributes\":{\"axis_label\":\"pressure [mb]\",\"formatter\":{\"id\":\"ea161da3-3bc0-4527-bfff-ccd787a6a88e\",\"type\":\"BasicTickFormatter\"},\"plot\":{\"id\":\"119d3e5b-a6ab-411f-aa84-c5f5ff7a4806\",\"subtype\":\"Figure\",\"type\":\"Plot\"},\"ticker\":{\"id\":\"9ba466d4-62db-4fc3-9d39-95efc1d347c6\",\"type\":\"BasicTicker\"}},\"id\":\"0b9bbd24-ab74-4448-9c96-e0502f1dcad1\",\"type\":\"LinearAxis\"},{\"attributes\":{\"source\":{\"id\":\"e33d5aab-053e-4b36-8f9b-e62f121ca33d\",\"type\":\"ColumnDataSource\"}},\"id\":\"8dafb28d-f8c1-4bdd-ab96-ecd2ce9a76fe\",\"type\":\"CDSView\"},{\"attributes\":{},\"id\":\"ed2e1aff-95a7-4e9e-b3cf-63414384d6d6\",\"type\":\"SaveTool\"},{\"attributes\":{\"callback\":null,\"data\":{\"x\":{\"__ndarray__\":\"hQDizhf+Q8C9K7VPP4cgwJ45ivCkvwLAPrgd1IsN/D+7olvZiCgOQMfUJ5JPyw5AuoTPxstSBEDfsAhjqs7mPyG2aQPjFui/skYKbTIs9b8pmp3aPUHxvycIBbz0t96/evs4oRCitj+B1IFWZZfdPxqZq9kgTuE/lkgHH1bO1j/w/UZOEheyP4s6Gj7pbdG/+wyRYP474b+smxPTmVbhv1avJCCRsdO/LsHmAh7iur/uITsdI6mhv0XyCaug5Mu/da5/Dt1Y17/0SZ1RPmu7v1IJJSPzfdQ/kf0YDzym1T+PyE3OmIe4P7jzyz26Y4k/NR64+Gpozj+4volZXD7UP0WpJ1BRZME/OGepDTb1q790Wc7i3Kyav5cLhRLWcaM/rtdtlD7jnL8aKsAueeCyv2Wpn2hd166/ar+6uSL5q79JzvJIH9auv/oMy14/yq+/pHIp76m9sb+lGi6utlOov4Vb7kFUgbC/MhV07Slyv79SUDv5Zz20v5Z+ZH9eqK6/a4fNmQ9Vtb+gYJ66nz+1v/WnYBCUlqy/VJbOBzizn78Ay7ktF52UvwWi9HOtN5a/sayJvugWnr+GXu8dPU6fv2mqpry+3I6/brMXGwRnjj+CthimMBumPyLtjj5Gdqw/6Cp6xg+spz/6H0XpR82XPwCoGcKZrhM/pA4f0Td7fb/obh9nEuRkP/aoiDn57Zk/0BtJk+X8qz9pu9nNcjOyPxw4oFwM4rI/yDVB3u/zsz86WCrHOQe1P7GEpHPfIbY/yHpoq4sluj+M7Z3fXC2+Pykcaqn2yL8/\",\"dtype\":\"float64\",\"shape\":[75]},\"y\":{\"__ndarray__\":\"GhExyth1ND/Sv8nbtpRIP2vylNV0PVE/aTum7souWD/At0SJ8fVgPw3Iuahxymc/MSNhhJWvcD/bTfBN02d3P2zb5nxnaoA/CD5h5MAGhz8NmeH1TyaQP+zrCsc9p5Y/LbKd76fGnz/bLW5ISEmmPww9YvTcQq8/JV2OstnstT8Er5Y7M8G+P0c+r3jqkcU/5h99k6ZBzj88bCIzFzjVP4enV8oyxN0//yH99nXg5D8qOpLLf0jtP5kqGJXUifQ/c9cS8kHP/D+/DpwzojQEQIEmwoanVwxA4lgXt9HgE0BSSZ2AJuIbQAMJih9jjiNA5q4l5INuK0AwTKYKRj0zQNv5fmq8/DpAaCJseHrtQkB/+zpwzoxKQM3MzMzMeFJAZmZmZmZqWEAAAAAAAFxeQM3MzMzMJmJAmpmZmZkfZUBmZmZmZhhoQDMzMzMzEWtAAAAAAAAKbkBmZmZmZoFwQM3MzMzM/XFAMzMzMzN6c0CamZmZmfZ0QAAAAAAAc3ZAZmZmZmbvd0DNzMzMzGt5QDMzMzMz6HpAmpmZmZlkfEAAAAAAAOF9QGZmZmZmXX9AZmZmZuZsgECamZmZGSuBQM3MzMxM6YFAAAAAAICngkAzMzMzs2WDQGZmZmbmI4RAmpmZmRnihEDNzMzMTKCFQAAAAACAXoZAMzMzM7Mch0BmZmZm5tqHQJqZmZkZmYhAzczMzExXiUAAAAAAgBWKQDMzMzOz04pAZmZmZuaRi0CamZmZGVCMQM3MzMxMDo1AAAAAAIDMjUAzMzMzs4qOQGZmZmbmSI9A\",\"dtype\":\"float64\",\"shape\":[75]}},\"selected\":{\"id\":\"6200d243-c5fd-432a-a791-6ef71dfc7ce1\",\"type\":\"Selection\"},\"selection_policy\":{\"id\":\"9510af42-f1b0-4821-acb0-2923ae9a5d8e\",\"type\":\"UnionRenderers\"}},\"id\":\"e33d5aab-053e-4b36-8f9b-e62f121ca33d\",\"type\":\"ColumnDataSource\"},{\"attributes\":{},\"id\":\"bda9988d-cee7-4c92-808c-72e50ed89c63\",\"type\":\"BasicTicker\"},{\"attributes\":{\"fill_alpha\":{\"value\":0.7},\"fill_color\":{\"value\":\"#4daf4a\"},\"line_alpha\":{\"value\":0.7},\"line_color\":{\"value\":\"#4daf4a\"},\"x\":{\"field\":\"x\"},\"y\":{\"field\":\"y\"}},\"id\":\"50bfcd44-47b4-42db-bd25-8bd0ad078376\",\"type\":\"Circle\"},{\"attributes\":{},\"id\":\"fb4a8001-a502-47f3-9361-ec155996c042\",\"type\":\"BasicTickFormatter\"},{\"attributes\":{},\"id\":\"b150b6bf-8ae3-4b75-9275-9209d2ca08b3\",\"type\":\"HelpTool\"},{\"attributes\":{\"ticker\":null},\"id\":\"93f27904-6057-4283-9069-4dbc62932df9\",\"type\":\"LogTickFormatter\"},{\"attributes\":{\"above\":[{\"id\":\"009b3535-dce6-4a6d-b37c-cb3e3b83e303\",\"type\":\"Legend\"}],\"below\":[{\"id\":\"8acd3e90-47a9-4078-b000-f5ce19b681f2\",\"type\":\"LinearAxis\"}],\"left\":[{\"id\":\"287c775e-e915-46dc-b04a-5196e8696ee8\",\"type\":\"LogAxis\"}],\"plot_width\":300,\"renderers\":[{\"id\":\"8acd3e90-47a9-4078-b000-f5ce19b681f2\",\"type\":\"LinearAxis\"},{\"id\":\"75ae4d88-c94e-4488-9b80-ce4853558375\",\"type\":\"Grid\"},{\"id\":\"287c775e-e915-46dc-b04a-5196e8696ee8\",\"type\":\"LogAxis\"},{\"id\":\"636ca709-7da5-4871-9300-88039f2bec37\",\"type\":\"Grid\"},{\"id\":\"cdc4c84a-9960-4b90-a809-68ba9f51c033\",\"type\":\"BoxAnnotation\"},{\"id\":\"a188d6cd-efbf-45a1-9664-ab1feb121eee\",\"type\":\"GlyphRenderer\"},{\"id\":\"b81f6015-4546-4f9a-8800-e8527d8c61cb\",\"type\":\"GlyphRenderer\"},{\"id\":\"35420cb0-90b7-48ac-afd3-2a73e2ebd545\",\"type\":\"GlyphRenderer\"},{\"id\":\"009b3535-dce6-4a6d-b37c-cb3e3b83e303\",\"type\":\"Legend\"}],\"title\":{\"id\":\"2d6d92b6-4bff-44e9-9304-36221eb64987\",\"type\":\"Title\"},\"toolbar\":{\"id\":\"2c323bf6-d4db-4c0f-9d1a-bee6cb8dc229\",\"type\":\"Toolbar\"},\"toolbar_location\":null,\"x_range\":{\"id\":\"4268d99e-2bf5-4068-bdc6-2df0c8926ae7\",\"type\":\"Range1d\"},\"x_scale\":{\"id\":\"6f63c8ba-049b-4799-8bbb-1d5a1726bb8d\",\"type\":\"LinearScale\"},\"y_range\":{\"id\":\"e2080303-890e-49e0-9b20-8ac6740af7c4\",\"type\":\"Range1d\"},\"y_scale\":{\"id\":\"3ebd7f9e-999c-4eb2-bc71-76f61b3f5ee1\",\"type\":\"LogScale\"}},\"id\":\"6388f447-0b0f-4e5d-a986-73b5d45c0cfb\",\"subtype\":\"Figure\",\"type\":\"Plot\"},{\"attributes\":{\"callback\":null,\"data\":{\"x\":{\"__ndarray__\":\"hQDizhf+Q8C9K7VPP4cgwJ45ivCkvwLAPrgd1IsN/D+7olvZiCgOQMfUJ5JPyw5AuoTPxstSBEDfsAhjqs7mPyG2aQPjFui/skYKbTIs9b8pmp3aPUHxvycIBbz0t96/evs4oRCitj+B1IFWZZfdPxqZq9kgTuE/lkgHH1bO1j/w/UZOEheyP4s6Gj7pbdG/+wyRYP474b+smxPTmVbhv1avJCCRsdO/LsHmAh7iur/uITsdI6mhv0XyCaug5Mu/da5/Dt1Y17/0SZ1RPmu7v1IJJSPzfdQ/kf0YDzym1T+PyE3OmIe4P7jzyz26Y4k/NR64+Gpozj+4volZXD7UP0WpJ1BRZME/OGepDTb1q790Wc7i3Kyav5cLhRLWcaM/rtdtlD7jnL8aKsAueeCyv2Wpn2hd166/ar+6uSL5q79JzvJIH9auv/oMy14/yq+/pHIp76m9sb+lGi6utlOov4Vb7kFUgbC/MhV07Slyv79SUDv5Zz20v5Z+ZH9eqK6/a4fNmQ9Vtb+gYJ66nz+1v/WnYBCUlqy/VJbOBzizn78Ay7ktF52UvwWi9HOtN5a/sayJvugWnr+GXu8dPU6fv2mqpry+3I6/brMXGwRnjj+CthimMBumPyLtjj5Gdqw/6Cp6xg+spz/6H0XpR82XPwCoGcKZrhM/pA4f0Td7fb/obh9nEuRkP/aoiDn57Zk/0BtJk+X8qz9pu9nNcjOyPxw4oFwM4rI/yDVB3u/zsz86WCrHOQe1P7GEpHPfIbY/yHpoq4sluj+M7Z3fXC2+Pykcaqn2yL8/\",\"dtype\":\"float64\",\"shape\":[75]},\"y\":{\"__ndarray__\":\"GhExyth1ND/Sv8nbtpRIP2vylNV0PVE/aTum7souWD/At0SJ8fVgPw3Iuahxymc/MSNhhJWvcD/bTfBN02d3P2zb5nxnaoA/CD5h5MAGhz8NmeH1TyaQP+zrCsc9p5Y/LbKd76fGnz/bLW5ISEmmPww9YvTcQq8/JV2OstnstT8Er5Y7M8G+P0c+r3jqkcU/5h99k6ZBzj88bCIzFzjVP4enV8oyxN0//yH99nXg5D8qOpLLf0jtP5kqGJXUifQ/c9cS8kHP/D+/DpwzojQEQIEmwoanVwxA4lgXt9HgE0BSSZ2AJuIbQAMJih9jjiNA5q4l5INuK0AwTKYKRj0zQNv5fmq8/DpAaCJseHrtQkB/+zpwzoxKQM3MzMzMeFJAZmZmZmZqWEAAAAAAAFxeQM3MzMzMJmJAmpmZmZkfZUBmZmZmZhhoQDMzMzMzEWtAAAAAAAAKbkBmZmZmZoFwQM3MzMzM/XFAMzMzMzN6c0CamZmZmfZ0QAAAAAAAc3ZAZmZmZmbvd0DNzMzMzGt5QDMzMzMz6HpAmpmZmZlkfEAAAAAAAOF9QGZmZmZmXX9AZmZmZuZsgECamZmZGSuBQM3MzMxM6YFAAAAAAICngkAzMzMzs2WDQGZmZmbmI4RAmpmZmRnihEDNzMzMTKCFQAAAAACAXoZAMzMzM7Mch0BmZmZm5tqHQJqZmZkZmYhAzczMzExXiUAAAAAAgBWKQDMzMzOz04pAZmZmZuaRi0CamZmZGVCMQM3MzMxMDo1AAAAAAIDMjUAzMzMzs4qOQGZmZmbmSI9A\",\"dtype\":\"float64\",\"shape\":[75]}},\"selected\":{\"id\":\"50be1f0f-3841-4d47-b587-f5ef3883a4d9\",\"type\":\"Selection\"},\"selection_policy\":{\"id\":\"03f231b4-8bee-4dd8-bc3d-3ca64f02dbcc\",\"type\":\"UnionRenderers\"}},\"id\":\"96d3c378-e033-4bf7-855d-8e5e21ca1394\",\"type\":\"ColumnDataSource\"},{\"attributes\":{\"source\":{\"id\":\"96d3c378-e033-4bf7-855d-8e5e21ca1394\",\"type\":\"ColumnDataSource\"}},\"id\":\"f393ab5b-f611-49e8-b1c3-89ae53cb28eb\",\"type\":\"CDSView\"},{\"attributes\":{},\"id\":\"711ba24e-18b0-426c-808e-539e9797d5b3\",\"type\":\"BasicTickFormatter\"},{\"attributes\":{},\"id\":\"3afd5e9d-bf72-4c9e-acb0-9e54add1dd9a\",\"type\":\"Selection\"},{\"attributes\":{\"ticker\":null},\"id\":\"c252b1a6-b517-4f78-9af5-786bcf00fff2\",\"type\":\"LogTickFormatter\"},{\"attributes\":{\"active_drag\":\"auto\",\"active_inspect\":\"auto\",\"active_scroll\":\"auto\",\"active_tap\":\"auto\",\"tools\":[{\"id\":\"8c4e4a5c-15df-4b7a-ad19-937f72b63a6d\",\"type\":\"PanTool\"},{\"id\":\"2237ace7-46b7-49d5-9309-ec4dfb41d92e\",\"type\":\"WheelZoomTool\"},{\"id\":\"3d9e2ff9-ed6f-49aa-82f9-9ac1708be2d9\",\"type\":\"BoxZoomTool\"},{\"id\":\"ed2e1aff-95a7-4e9e-b3cf-63414384d6d6\",\"type\":\"SaveTool\"},{\"id\":\"6a71ae1b-dc28-4dbe-aebd-987d9e69c76f\",\"type\":\"ResetTool\"},{\"id\":\"b150b6bf-8ae3-4b75-9275-9209d2ca08b3\",\"type\":\"HelpTool\"}]},\"id\":\"bebf79d1-1d3c-4d28-8105-c406be9bcba8\",\"type\":\"Toolbar\"},{\"attributes\":{\"bottom_units\":\"screen\",\"fill_alpha\":{\"value\":0.5},\"fill_color\":{\"value\":\"lightgrey\"},\"left_units\":\"screen\",\"level\":\"overlay\",\"line_alpha\":{\"value\":1.0},\"line_color\":{\"value\":\"black\"},\"line_dash\":[4,4],\"line_width\":{\"value\":2},\"plot\":null,\"render_mode\":\"css\",\"right_units\":\"screen\",\"top_units\":\"screen\"},\"id\":\"7af58a8f-7b0b-4b85-9332-d19a52e95011\",\"type\":\"BoxAnnotation\"},{\"attributes\":{\"children\":[{\"id\":\"56baed94-fabc-45d3-bc92-95e1fee71c9f\",\"type\":\"ToolbarBox\"},{\"id\":\"850e6c9b-3052-4b0d-88ed-bcb7af8778d3\",\"type\":\"Column\"}]},\"id\":\"27aa7ea7-f6fe-43d6-a817-826c470bde79\",\"type\":\"Column\"},{\"attributes\":{},\"id\":\"1c3bbc01-a882-4caa-ad74-0bd96b2f44eb\",\"type\":\"ResetTool\"},{\"attributes\":{\"line_alpha\":0.1,\"line_color\":\"#1f77b4\",\"line_width\":1.5,\"x\":{\"field\":\"x\"},\"y\":{\"field\":\"y\"}},\"id\":\"219e89b8-fc5d-41b1-b1c3-584921c8de58\",\"type\":\"Line\"},{\"attributes\":{\"callback\":null,\"data\":{\"x\":{\"__ndarray__\":\"R/KIaN7AVEClCeJMyPNGQOvRhpxr30JAptxzhxx4PkA7SssMElA4QK6Bp3CyUDNAsVXpjES9LkBFhUV0+5coQMHYwqbbySNA6f09nM3nH0CaSd/3eYoZQDmgiAOW8BNAPYqARh3eDEBkm4vCgvr+P9D+5tWhQfY/P8DwKRnSAkBq38kb17ILQDT7IWuSsxFAUr2Rjm0FFkAinq3s9XgbQGCHwtYcqSFAG64kT303J0C7dRDneyooQD9JYrbK8yRA9S3bneHhIUAIymSuUMMcQIkHLe6VEBdAAau3cITREkA6CiNvkQIPQJU39ki7IQlAaAvwok1UA0BXLQiS4+L7P0xzDpJ2hPI/NNuPGMbJ5z91mUVYxqfSPxqwUPSxZca/G11peifD3L8QzNj5t2jTvwzOozTL360/SPJ4VI1VzD9KJ0nXEIncP8yDdlvHt+4/Et49nYLW9z++2teD4Jn+P+568eH/bwFALf5D9lmAAkCiZAicVOkCQPPT4jNKxwJAOjp3wTzBAUBSQsKNGisBQG4OmjqJwQBAJ3sZoHFuAEA5Ar0Sdi0AQGy4rw5+9f8/7W4nSrC3/z8mPr8zj4T/P4UYRHCQS/8/embVKYcF/z+5YXG+LLP+P/qb8BVUgf4/KvafTtyO/j/avAK1Ppv+PwJV9VVm2P0/JFtYlU/n/D9sN+q2fiX6Pw44e41PNPc/Opt+Z/wN9T+x3vcSW1vzP9ofvWQJlvI/8sciQQBW8j80sfkQa17yPzg5qng2r/I/Oh14WJBh8z+VZjnpctj0P6CcrSuCqQBA\",\"dtype\":\"float64\",\"shape\":[75]},\"y\":{\"__ndarray__\":\"GhExyth1ND/Sv8nbtpRIP2vylNV0PVE/aTum7souWD/At0SJ8fVgPw3Iuahxymc/MSNhhJWvcD/bTfBN02d3P2zb5nxnaoA/CD5h5MAGhz8NmeH1TyaQP+zrCsc9p5Y/LbKd76fGnz/bLW5ISEmmPww9YvTcQq8/JV2OstnstT8Er5Y7M8G+P0c+r3jqkcU/5h99k6ZBzj88bCIzFzjVP4enV8oyxN0//yH99nXg5D8qOpLLf0jtP5kqGJXUifQ/c9cS8kHP/D+/DpwzojQEQIEmwoanVwxA4lgXt9HgE0BSSZ2AJuIbQAMJih9jjiNA5q4l5INuK0AwTKYKRj0zQNv5fmq8/DpAaCJseHrtQkB/+zpwzoxKQM3MzMzMeFJAZmZmZmZqWEAAAAAAAFxeQM3MzMzMJmJAmpmZmZkfZUBmZmZmZhhoQDMzMzMzEWtAAAAAAAAKbkBmZmZmZoFwQM3MzMzM/XFAMzMzMzN6c0CamZmZmfZ0QAAAAAAAc3ZAZmZmZmbvd0DNzMzMzGt5QDMzMzMz6HpAmpmZmZlkfEAAAAAAAOF9QGZmZmZmXX9AZmZmZuZsgECamZmZGSuBQM3MzMxM6YFAAAAAAICngkAzMzMzs2WDQGZmZmbmI4RAmpmZmRnihEDNzMzMTKCFQAAAAACAXoZAMzMzM7Mch0BmZmZm5tqHQJqZmZkZmYhAzczMzExXiUAAAAAAgBWKQDMzMzOz04pAZmZmZuaRi0CamZmZGVCMQM3MzMxMDo1AAAAAAIDMjUAzMzMzs4qOQGZmZmbmSI9A\",\"dtype\":\"float64\",\"shape\":[75]}},\"selected\":{\"id\":\"e4ecdf6b-9c23-49c6-99c2-49ed4b8a3b62\",\"type\":\"Selection\"},\"selection_policy\":{\"id\":\"81365184-5af6-496c-bb42-c3a1563b9bd8\",\"type\":\"UnionRenderers\"}},\"id\":\"e77e74cd-95ab-4e97-8f78-cc1b4367cf70\",\"type\":\"ColumnDataSource\"},{\"attributes\":{},\"id\":\"81365184-5af6-496c-bb42-c3a1563b9bd8\",\"type\":\"UnionRenderers\"}],\"root_ids\":[\"27aa7ea7-f6fe-43d6-a817-826c470bde79\"]},\"title\":\"Bokeh Application\",\"version\":\"0.12.16\"}};\n",
       "  var render_items = [{\"docid\":\"c54b9a93-e13a-45b2-bb5b-5d6ce8f32e2e\",\"elementid\":\"16bc32f3-1018-48f2-bfd9-bce9bec6839e\",\"modelid\":\"27aa7ea7-f6fe-43d6-a817-826c470bde79\"}];\n",
       "  root.Bokeh.embed.embed_items_notebook(docs_json, render_items);\n",
       "\n",
       "  }\n",
       "  if (root.Bokeh !== undefined) {\n",
       "    embed_document(root);\n",
       "  } else {\n",
       "    var attempts = 0;\n",
       "    var timer = setInterval(function(root) {\n",
       "      if (root.Bokeh !== undefined) {\n",
       "        embed_document(root);\n",
       "        clearInterval(timer);\n",
       "      }\n",
       "      attempts++;\n",
       "      if (attempts > 100) {\n",
       "        console.log(\"Bokeh: ERROR: Unable to run BokehJS code because BokehJS library is missing\")\n",
       "        clearInterval(timer);\n",
       "      }\n",
       "    }, 10, root)\n",
       "  }\n",
       "})(window);"
      ],
      "application/vnd.bokehjs_exec.v0+json": ""
     },
     "metadata": {
      "application/vnd.bokehjs_exec.v0+json": {
       "id": "27aa7ea7-f6fe-43d6-a817-826c470bde79"
      }
     },
     "output_type": "display_data"
    },
    {
     "data": {
      "text/markdown": [
       "*FIGURE.* Cooling rates & difference."
      ],
      "text/plain": [
       "<IPython.core.display.Markdown object>"
      ]
     },
     "metadata": {},
     "output_type": "display_data"
    },
    {
     "data": {
      "text/html": [
       "<a id=\"Fluxes._trp.\"></a>"
      ],
      "text/plain": [
       "<IPython.core.display.HTML object>"
      ]
     },
     "metadata": {},
     "output_type": "display_data"
    },
    {
     "data": {
      "text/markdown": [
       "# Fluxes. trp."
      ],
      "text/plain": [
       "<IPython.core.display.Markdown object>"
      ]
     },
     "metadata": {},
     "output_type": "display_data"
    },
    {
     "data": {
      "text/html": [
       "\n",
       "<div class=\"bk-root\">\n",
       "    <div class=\"bk-plotdiv\" id=\"563f92bf-d484-471f-b4ef-c10d8e92bfeb\"></div>\n",
       "</div>"
      ]
     },
     "metadata": {},
     "output_type": "display_data"
    },
    {
     "data": {
      "application/javascript": [
       "(function(root) {\n",
       "  function embed_document(root) {\n",
       "    \n",
       "  var docs_json = {\"98606cf4-e5da-491d-9109-c91898d8bff7\":{\"roots\":{\"references\":[{\"attributes\":{},\"id\":\"35ad8940-d74d-4585-82fa-b7da33be32dc\",\"type\":\"BasicTickFormatter\"},{\"attributes\":{\"toolbar\":{\"id\":\"476da28c-ef92-4ad4-a33b-e9803e9ea38e\",\"type\":\"ProxyToolbar\"},\"toolbar_location\":\"above\"},\"id\":\"c6a49fd6-dff9-4930-a97e-2ff9ec9408e6\",\"type\":\"ToolbarBox\"},{\"attributes\":{\"fill_color\":{\"value\":\"#1f77b4\"},\"line_color\":{\"value\":\"#1f77b4\"},\"top\":{\"field\":\"flux\"},\"width\":{\"value\":0.9},\"x\":{\"field\":\"band\"}},\"id\":\"5ef10cdf-3df6-4311-a74c-76e434ccfcbf\",\"type\":\"VBar\"},{\"attributes\":{},\"id\":\"4edd513b-0e83-4e77-8dbe-9f2daeb2751b\",\"type\":\"CategoricalScale\"},{\"attributes\":{},\"id\":\"5e2b5cba-992e-477a-a9aa-a1a0c9c0500d\",\"type\":\"SaveTool\"},{\"attributes\":{\"active_drag\":\"auto\",\"active_inspect\":\"auto\",\"active_scroll\":\"auto\",\"active_tap\":\"auto\",\"tools\":[{\"id\":\"ab42689a-9e4e-4884-8175-9cb52944bcd4\",\"type\":\"PanTool\"},{\"id\":\"c4bcbead-007c-424d-898f-4cfe0b90c8e3\",\"type\":\"WheelZoomTool\"},{\"id\":\"6b974e69-3ef0-46a6-8c3f-0939672c812e\",\"type\":\"BoxZoomTool\"},{\"id\":\"08949aff-7f86-46d4-b7ea-beb1096e4b47\",\"type\":\"SaveTool\"},{\"id\":\"bc223eb6-929f-41b8-b448-56b76a2e68d6\",\"type\":\"ResetTool\"},{\"id\":\"66abf3d2-9cff-4675-811d-58253b167eda\",\"type\":\"HelpTool\"}]},\"id\":\"8b1197ef-bd99-4631-b9be-3bfa3ab118f4\",\"type\":\"Toolbar\"},{\"attributes\":{\"below\":[{\"id\":\"292af18a-78f5-460b-ac9b-f6702fedf685\",\"type\":\"CategoricalAxis\"}],\"left\":[{\"id\":\"8c6e0e61-5400-4ffc-8f3e-3ac5d5b6122e\",\"type\":\"LinearAxis\"}],\"plot_height\":300,\"plot_width\":300,\"renderers\":[{\"id\":\"292af18a-78f5-460b-ac9b-f6702fedf685\",\"type\":\"CategoricalAxis\"},{\"id\":\"c10840ba-53ca-452a-b355-af98b4c9c7b2\",\"type\":\"Grid\"},{\"id\":\"8c6e0e61-5400-4ffc-8f3e-3ac5d5b6122e\",\"type\":\"LinearAxis\"},{\"id\":\"fbff50e8-f494-4f44-9115-89d631a936f4\",\"type\":\"Grid\"},{\"id\":\"d9e00299-ba17-4957-a337-b6be11ae77b0\",\"type\":\"BoxAnnotation\"},{\"id\":\"bab8a4ad-3326-404b-b33f-e3b37ba34a45\",\"type\":\"GlyphRenderer\"}],\"title\":{\"id\":\"fc1e24f3-e5bc-490b-ba5c-5249b689ccb6\",\"type\":\"Title\"},\"toolbar\":{\"id\":\"8b1197ef-bd99-4631-b9be-3bfa3ab118f4\",\"type\":\"Toolbar\"},\"toolbar_location\":null,\"x_range\":{\"id\":\"7f847f2c-24eb-4a6d-ba57-2dba093f3df3\",\"type\":\"FactorRange\"},\"x_scale\":{\"id\":\"4edd513b-0e83-4e77-8dbe-9f2daeb2751b\",\"type\":\"CategoricalScale\"},\"y_range\":{\"id\":\"60969b84-b1fd-41a3-a6dc-de15bc30d5ea\",\"type\":\"DataRange1d\"},\"y_scale\":{\"id\":\"b3d733ce-4110-44ff-8b2d-afb291871268\",\"type\":\"LinearScale\"}},\"id\":\"65e654f0-ca26-4195-97ea-7d172c3f5f7e\",\"subtype\":\"Figure\",\"type\":\"Plot\"},{\"attributes\":{},\"id\":\"67f9f128-81f1-44a5-b732-872c74d6f223\",\"type\":\"CategoricalTicker\"},{\"attributes\":{\"axis_label\":\"spectral band\",\"formatter\":{\"id\":\"a7e92938-89e5-47ab-b43e-11783240820a\",\"type\":\"CategoricalTickFormatter\"},\"plot\":{\"id\":\"758ef3a8-1f64-48e5-91db-841d00c3863d\",\"subtype\":\"Figure\",\"type\":\"Plot\"},\"ticker\":{\"id\":\"67f9f128-81f1-44a5-b732-872c74d6f223\",\"type\":\"CategoricalTicker\"}},\"id\":\"e94d9f21-9eea-450d-b80f-563e8aca0e57\",\"type\":\"CategoricalAxis\"},{\"attributes\":{\"bottom_units\":\"screen\",\"fill_alpha\":{\"value\":0.5},\"fill_color\":{\"value\":\"lightgrey\"},\"left_units\":\"screen\",\"level\":\"overlay\",\"line_alpha\":{\"value\":1.0},\"line_color\":{\"value\":\"black\"},\"line_dash\":[4,4],\"line_width\":{\"value\":2},\"plot\":null,\"render_mode\":\"css\",\"right_units\":\"screen\",\"top_units\":\"screen\"},\"id\":\"f731a227-661b-48a7-a802-08d2a49104ea\",\"type\":\"BoxAnnotation\"},{\"attributes\":{\"callback\":null,\"factors\":[\"1\",\"2\",\"3\",\"4\",\"5\",\"6\",\"7\",\"8\",\"9\",\"10\",\"11\"]},\"id\":\"7f847f2c-24eb-4a6d-ba57-2dba093f3df3\",\"type\":\"FactorRange\"},{\"attributes\":{\"fill_alpha\":{\"value\":0.1},\"fill_color\":{\"value\":\"#1f77b4\"},\"line_alpha\":{\"value\":0.1},\"line_color\":{\"value\":\"#1f77b4\"},\"top\":{\"field\":\"flux\"},\"width\":{\"value\":0.9},\"x\":{\"field\":\"band\"}},\"id\":\"1699fe79-54a5-4398-b650-e0b68a3f0b9b\",\"type\":\"VBar\"},{\"attributes\":{\"children\":[{\"id\":\"90d424ce-e0dc-465d-b5e6-ce4027d9a731\",\"type\":\"Row\"}]},\"id\":\"26097c33-e9fb-4485-80d2-f416b3d5a7b3\",\"type\":\"Column\"},{\"attributes\":{\"data_source\":{\"id\":\"bef5d222-97a5-45de-b2d3-1c067c82a72d\",\"type\":\"ColumnDataSource\"},\"glyph\":{\"id\":\"5ef10cdf-3df6-4311-a74c-76e434ccfcbf\",\"type\":\"VBar\"},\"hover_glyph\":null,\"muted_glyph\":null,\"nonselection_glyph\":{\"id\":\"1699fe79-54a5-4398-b650-e0b68a3f0b9b\",\"type\":\"VBar\"},\"selection_glyph\":null,\"view\":{\"id\":\"c2765027-29c8-4a8a-9444-334e984b20a6\",\"type\":\"CDSView\"}},\"id\":\"da4d36ff-9e48-40e4-8763-a619a56eebe8\",\"type\":\"GlyphRenderer\"},{\"attributes\":{\"fill_alpha\":{\"value\":0.1},\"fill_color\":{\"value\":\"#1f77b4\"},\"line_alpha\":{\"value\":0.1},\"line_color\":{\"value\":\"#1f77b4\"},\"top\":{\"field\":\"flux\"},\"width\":{\"value\":0.9},\"x\":{\"field\":\"band\"}},\"id\":\"70816771-94e2-4712-a121-b2f61f1cc080\",\"type\":\"VBar\"},{\"attributes\":{\"source\":{\"id\":\"9bd6e0b2-6353-4b8e-878a-c951b553c2fc\",\"type\":\"ColumnDataSource\"}},\"id\":\"ea19d8d4-f6da-4691-add2-adbe5499b7d7\",\"type\":\"CDSView\"},{\"attributes\":{},\"id\":\"08949aff-7f86-46d4-b7ea-beb1096e4b47\",\"type\":\"SaveTool\"},{\"attributes\":{},\"id\":\"121063c3-433b-4564-8a99-5c56b27c26ed\",\"type\":\"Selection\"},{\"attributes\":{},\"id\":\"c5b5e953-2d5a-4840-93fc-7539ebea741a\",\"type\":\"CategoricalScale\"},{\"attributes\":{},\"id\":\"433459dc-c374-4200-aea2-e3f1bf0454e9\",\"type\":\"PanTool\"},{\"attributes\":{\"plot\":null,\"text\":\"TOA flux. CLIRAD (single-run) - CRD.\"},\"id\":\"fc1e24f3-e5bc-490b-ba5c-5249b689ccb6\",\"type\":\"Title\"},{\"attributes\":{\"overlay\":{\"id\":\"f731a227-661b-48a7-a802-08d2a49104ea\",\"type\":\"BoxAnnotation\"}},\"id\":\"6cc8a45d-9ccb-4ea1-b9e0-eb1b6ab9f0a0\",\"type\":\"BoxZoomTool\"},{\"attributes\":{},\"id\":\"c533c5b6-234b-4e5d-ac6b-0c9850adba4b\",\"type\":\"BasicTicker\"},{\"attributes\":{\"axis_label\":\"flux (W m-2)\",\"formatter\":{\"id\":\"58b37abb-4dc4-40f0-87eb-dcb8dc7de700\",\"type\":\"BasicTickFormatter\"},\"plot\":{\"id\":\"758ef3a8-1f64-48e5-91db-841d00c3863d\",\"subtype\":\"Figure\",\"type\":\"Plot\"},\"ticker\":{\"id\":\"30ca2204-e0e8-4a24-9095-1dd4352433bd\",\"type\":\"BasicTicker\"}},\"id\":\"257b5317-2686-4c5c-af0d-cbb193ecfadc\",\"type\":\"LinearAxis\"},{\"attributes\":{},\"id\":\"58b37abb-4dc4-40f0-87eb-dcb8dc7de700\",\"type\":\"BasicTickFormatter\"},{\"attributes\":{\"overlay\":{\"id\":\"d9e00299-ba17-4957-a337-b6be11ae77b0\",\"type\":\"BoxAnnotation\"}},\"id\":\"6b974e69-3ef0-46a6-8c3f-0939672c812e\",\"type\":\"BoxZoomTool\"},{\"attributes\":{},\"id\":\"63da572e-090e-498c-93e6-689e8ae4776b\",\"type\":\"HelpTool\"},{\"attributes\":{},\"id\":\"4276c54a-25a3-4ba8-986e-87b9c42f0b11\",\"type\":\"ResetTool\"},{\"attributes\":{\"callback\":null,\"data\":{\"band\":[\"1\",\"2\",\"3\",\"4\",\"5\",\"6\",\"7\",\"8\",\"9\",\"10\",\"11\"],\"flux\":{\"__ndarray__\":\"AADADkbs874Ak+S5vg/QPwAq5Eo9C8q/AHSERUWcrj8AMLq8OVzjP+DPm4pUGN0/wORV52Idsj8AQGTbs/iOPwD/I9Oh09E/AFDtmpDWiD8Asw6iEFywPw==\",\"dtype\":\"float64\",\"shape\":[11]}},\"selected\":{\"id\":\"44662457-a695-4544-a6f5-9c304d0c85fb\",\"type\":\"Selection\"},\"selection_policy\":{\"id\":\"9734b4fd-2b79-457e-a619-008ab1705182\",\"type\":\"UnionRenderers\"}},\"id\":\"954a9689-a95f-4a60-ab46-c3a802a6b5ca\",\"type\":\"ColumnDataSource\"},{\"attributes\":{\"callback\":null,\"data\":{\"band\":[\"1\",\"2\",\"3\",\"4\",\"5\",\"6\",\"7\",\"8\",\"9\",\"10\",\"11\"],\"flux\":{\"__ndarray__\":\"AMHG9e/6yj8ARFVMpZ/UP4B4l4v4TtO/8GLvxRft4T/AUBVT6SfUPwBIcOoDyaO/gHhF8L+Vzj8AbToCuFm8vwDADTFe85o/4PGprSLtwT+A2YcGcwW9Pw==\",\"dtype\":\"float64\",\"shape\":[11]}},\"selected\":{\"id\":\"cdca68f7-2948-4bc7-8cc3-ec38588a0b5f\",\"type\":\"Selection\"},\"selection_policy\":{\"id\":\"e516e4c2-45a7-4dad-8ee4-21abf4d0b4de\",\"type\":\"UnionRenderers\"}},\"id\":\"9bd6e0b2-6353-4b8e-878a-c951b553c2fc\",\"type\":\"ColumnDataSource\"},{\"attributes\":{},\"id\":\"2f5087a0-241f-42bc-9090-4b60600207b6\",\"type\":\"CategoricalTickFormatter\"},{\"attributes\":{\"callback\":null},\"id\":\"c9df5f50-0d03-4da5-a361-f768ae5e0052\",\"type\":\"DataRange1d\"},{\"attributes\":{},\"id\":\"c4bcbead-007c-424d-898f-4cfe0b90c8e3\",\"type\":\"WheelZoomTool\"},{\"attributes\":{},\"id\":\"30ca2204-e0e8-4a24-9095-1dd4352433bd\",\"type\":\"BasicTicker\"},{\"attributes\":{},\"id\":\"bc223eb6-929f-41b8-b448-56b76a2e68d6\",\"type\":\"ResetTool\"},{\"attributes\":{\"tools\":[{\"id\":\"ab42689a-9e4e-4884-8175-9cb52944bcd4\",\"type\":\"PanTool\"},{\"id\":\"c4bcbead-007c-424d-898f-4cfe0b90c8e3\",\"type\":\"WheelZoomTool\"},{\"id\":\"6b974e69-3ef0-46a6-8c3f-0939672c812e\",\"type\":\"BoxZoomTool\"},{\"id\":\"08949aff-7f86-46d4-b7ea-beb1096e4b47\",\"type\":\"SaveTool\"},{\"id\":\"bc223eb6-929f-41b8-b448-56b76a2e68d6\",\"type\":\"ResetTool\"},{\"id\":\"66abf3d2-9cff-4675-811d-58253b167eda\",\"type\":\"HelpTool\"},{\"id\":\"d4b45127-d3c4-4d28-802e-17a1e5d14a9f\",\"type\":\"PanTool\"},{\"id\":\"ddd5764e-5e91-4974-919e-c48c25723fe2\",\"type\":\"WheelZoomTool\"},{\"id\":\"15dc03a0-2946-4418-bdae-e05b79f8c263\",\"type\":\"BoxZoomTool\"},{\"id\":\"d737ea55-35c3-4922-87b2-e833b03c1e4f\",\"type\":\"SaveTool\"},{\"id\":\"62884af5-bbd6-4c7d-813a-ec63b38c53e0\",\"type\":\"ResetTool\"},{\"id\":\"6a6c2a5d-198e-46ec-a36d-35c58c83f656\",\"type\":\"HelpTool\"},{\"id\":\"433459dc-c374-4200-aea2-e3f1bf0454e9\",\"type\":\"PanTool\"},{\"id\":\"eb19060a-1c26-42fb-9c39-e3c5c67d76f7\",\"type\":\"WheelZoomTool\"},{\"id\":\"6cc8a45d-9ccb-4ea1-b9e0-eb1b6ab9f0a0\",\"type\":\"BoxZoomTool\"},{\"id\":\"5e2b5cba-992e-477a-a9aa-a1a0c9c0500d\",\"type\":\"SaveTool\"},{\"id\":\"4276c54a-25a3-4ba8-986e-87b9c42f0b11\",\"type\":\"ResetTool\"},{\"id\":\"63da572e-090e-498c-93e6-689e8ae4776b\",\"type\":\"HelpTool\"}]},\"id\":\"476da28c-ef92-4ad4-a33b-e9803e9ea38e\",\"type\":\"ProxyToolbar\"},{\"attributes\":{\"children\":[{\"id\":\"65e654f0-ca26-4195-97ea-7d172c3f5f7e\",\"subtype\":\"Figure\",\"type\":\"Plot\"},{\"id\":\"fbf3fd90-7024-4f53-8593-5b7af300fa79\",\"subtype\":\"Figure\",\"type\":\"Plot\"},{\"id\":\"758ef3a8-1f64-48e5-91db-841d00c3863d\",\"subtype\":\"Figure\",\"type\":\"Plot\"}]},\"id\":\"90d424ce-e0dc-465d-b5e6-ce4027d9a731\",\"type\":\"Row\"},{\"attributes\":{\"bottom_units\":\"screen\",\"fill_alpha\":{\"value\":0.5},\"fill_color\":{\"value\":\"lightgrey\"},\"left_units\":\"screen\",\"level\":\"overlay\",\"line_alpha\":{\"value\":1.0},\"line_color\":{\"value\":\"black\"},\"line_dash\":[4,4],\"line_width\":{\"value\":2},\"plot\":null,\"render_mode\":\"css\",\"right_units\":\"screen\",\"top_units\":\"screen\"},\"id\":\"d9e00299-ba17-4957-a337-b6be11ae77b0\",\"type\":\"BoxAnnotation\"},{\"attributes\":{\"children\":[{\"id\":\"c6a49fd6-dff9-4930-a97e-2ff9ec9408e6\",\"type\":\"ToolbarBox\"},{\"id\":\"26097c33-e9fb-4485-80d2-f416b3d5a7b3\",\"type\":\"Column\"}]},\"id\":\"11232e11-02d1-4435-aa2a-b5427df06ce6\",\"type\":\"Column\"},{\"attributes\":{},\"id\":\"10fe460c-222b-4060-abda-8eeacbb34d3e\",\"type\":\"BasicTickFormatter\"},{\"attributes\":{},\"id\":\"e516e4c2-45a7-4dad-8ee4-21abf4d0b4de\",\"type\":\"UnionRenderers\"},{\"attributes\":{},\"id\":\"eb19060a-1c26-42fb-9c39-e3c5c67d76f7\",\"type\":\"WheelZoomTool\"},{\"attributes\":{},\"id\":\"ab42689a-9e4e-4884-8175-9cb52944bcd4\",\"type\":\"PanTool\"},{\"attributes\":{\"callback\":null,\"factors\":[\"1\",\"2\",\"3\",\"4\",\"5\",\"6\",\"7\",\"8\",\"9\",\"10\",\"11\"]},\"id\":\"58935065-84d3-426a-bd89-9752d473503e\",\"type\":\"FactorRange\"},{\"attributes\":{\"fill_alpha\":{\"value\":0.1},\"fill_color\":{\"value\":\"#1f77b4\"},\"line_alpha\":{\"value\":0.1},\"line_color\":{\"value\":\"#1f77b4\"},\"top\":{\"field\":\"flux\"},\"width\":{\"value\":0.9},\"x\":{\"field\":\"band\"}},\"id\":\"701226f1-0623-4f98-92fd-85f7b953433e\",\"type\":\"VBar\"},{\"attributes\":{},\"id\":\"cdca68f7-2948-4bc7-8cc3-ec38588a0b5f\",\"type\":\"Selection\"},{\"attributes\":{},\"id\":\"a7e92938-89e5-47ab-b43e-11783240820a\",\"type\":\"CategoricalTickFormatter\"},{\"attributes\":{},\"id\":\"66abf3d2-9cff-4675-811d-58253b167eda\",\"type\":\"HelpTool\"},{\"attributes\":{\"plot\":{\"id\":\"758ef3a8-1f64-48e5-91db-841d00c3863d\",\"subtype\":\"Figure\",\"type\":\"Plot\"},\"ticker\":{\"id\":\"67f9f128-81f1-44a5-b732-872c74d6f223\",\"type\":\"CategoricalTicker\"}},\"id\":\"78d14a5e-1586-42ca-95a2-2f8aed689c63\",\"type\":\"Grid\"},{\"attributes\":{\"callback\":null},\"id\":\"60969b84-b1fd-41a3-a6dc-de15bc30d5ea\",\"type\":\"DataRange1d\"},{\"attributes\":{\"plot\":null,\"text\":\"Atmosphere heating. CLIRAD (single-run) - CRD.\"},\"id\":\"f31c940f-b590-4f74-a634-92dbec75444b\",\"type\":\"Title\"},{\"attributes\":{\"active_drag\":\"auto\",\"active_inspect\":\"auto\",\"active_scroll\":\"auto\",\"active_tap\":\"auto\",\"tools\":[{\"id\":\"433459dc-c374-4200-aea2-e3f1bf0454e9\",\"type\":\"PanTool\"},{\"id\":\"eb19060a-1c26-42fb-9c39-e3c5c67d76f7\",\"type\":\"WheelZoomTool\"},{\"id\":\"6cc8a45d-9ccb-4ea1-b9e0-eb1b6ab9f0a0\",\"type\":\"BoxZoomTool\"},{\"id\":\"5e2b5cba-992e-477a-a9aa-a1a0c9c0500d\",\"type\":\"SaveTool\"},{\"id\":\"4276c54a-25a3-4ba8-986e-87b9c42f0b11\",\"type\":\"ResetTool\"},{\"id\":\"63da572e-090e-498c-93e6-689e8ae4776b\",\"type\":\"HelpTool\"}]},\"id\":\"c8f2319f-2db1-4b02-8b58-496fe68d9b6b\",\"type\":\"Toolbar\"},{\"attributes\":{\"source\":{\"id\":\"bef5d222-97a5-45de-b2d3-1c067c82a72d\",\"type\":\"ColumnDataSource\"}},\"id\":\"c2765027-29c8-4a8a-9444-334e984b20a6\",\"type\":\"CDSView\"},{\"attributes\":{},\"id\":\"8b9d0313-03e7-4e01-9fd6-1f47375b000c\",\"type\":\"UnionRenderers\"},{\"attributes\":{},\"id\":\"05e6be03-cc01-47e1-99a6-cc894e6ca860\",\"type\":\"LinearScale\"},{\"attributes\":{\"dimension\":1,\"plot\":{\"id\":\"758ef3a8-1f64-48e5-91db-841d00c3863d\",\"subtype\":\"Figure\",\"type\":\"Plot\"},\"ticker\":{\"id\":\"30ca2204-e0e8-4a24-9095-1dd4352433bd\",\"type\":\"BasicTicker\"}},\"id\":\"fc9161db-234a-47e5-ba10-b65c44535fd0\",\"type\":\"Grid\"},{\"attributes\":{},\"id\":\"44662457-a695-4544-a6f5-9c304d0c85fb\",\"type\":\"Selection\"},{\"attributes\":{},\"id\":\"0cb3f749-56f1-4a91-9f04-0246e7cddf06\",\"type\":\"CategoricalTickFormatter\"},{\"attributes\":{},\"id\":\"62884af5-bbd6-4c7d-813a-ec63b38c53e0\",\"type\":\"ResetTool\"},{\"attributes\":{\"dimension\":1,\"plot\":{\"id\":\"65e654f0-ca26-4195-97ea-7d172c3f5f7e\",\"subtype\":\"Figure\",\"type\":\"Plot\"},\"ticker\":{\"id\":\"47d1fae4-cfb1-4efa-aa96-3eb40fddcdbf\",\"type\":\"BasicTicker\"}},\"id\":\"fbff50e8-f494-4f44-9115-89d631a936f4\",\"type\":\"Grid\"},{\"attributes\":{\"source\":{\"id\":\"954a9689-a95f-4a60-ab46-c3a802a6b5ca\",\"type\":\"ColumnDataSource\"}},\"id\":\"ab015541-1554-4df1-b284-24e959e60b0c\",\"type\":\"CDSView\"},{\"attributes\":{\"axis_label\":\"flux (W m-2)\",\"formatter\":{\"id\":\"10fe460c-222b-4060-abda-8eeacbb34d3e\",\"type\":\"BasicTickFormatter\"},\"plot\":{\"id\":\"fbf3fd90-7024-4f53-8593-5b7af300fa79\",\"subtype\":\"Figure\",\"type\":\"Plot\"},\"ticker\":{\"id\":\"c533c5b6-234b-4e5d-ac6b-0c9850adba4b\",\"type\":\"BasicTicker\"}},\"id\":\"8e86bed6-bf1e-424d-b5d0-08554cc156f3\",\"type\":\"LinearAxis\"},{\"attributes\":{\"bottom_units\":\"screen\",\"fill_alpha\":{\"value\":0.5},\"fill_color\":{\"value\":\"lightgrey\"},\"left_units\":\"screen\",\"level\":\"overlay\",\"line_alpha\":{\"value\":1.0},\"line_color\":{\"value\":\"black\"},\"line_dash\":[4,4],\"line_width\":{\"value\":2},\"plot\":null,\"render_mode\":\"css\",\"right_units\":\"screen\",\"top_units\":\"screen\"},\"id\":\"c9e8a07c-c517-4b28-b537-52552c7dae63\",\"type\":\"BoxAnnotation\"},{\"attributes\":{},\"id\":\"6a6c2a5d-198e-46ec-a36d-35c58c83f656\",\"type\":\"HelpTool\"},{\"attributes\":{},\"id\":\"9734b4fd-2b79-457e-a619-008ab1705182\",\"type\":\"UnionRenderers\"},{\"attributes\":{\"active_drag\":\"auto\",\"active_inspect\":\"auto\",\"active_scroll\":\"auto\",\"active_tap\":\"auto\",\"tools\":[{\"id\":\"d4b45127-d3c4-4d28-802e-17a1e5d14a9f\",\"type\":\"PanTool\"},{\"id\":\"ddd5764e-5e91-4974-919e-c48c25723fe2\",\"type\":\"WheelZoomTool\"},{\"id\":\"15dc03a0-2946-4418-bdae-e05b79f8c263\",\"type\":\"BoxZoomTool\"},{\"id\":\"d737ea55-35c3-4922-87b2-e833b03c1e4f\",\"type\":\"SaveTool\"},{\"id\":\"62884af5-bbd6-4c7d-813a-ec63b38c53e0\",\"type\":\"ResetTool\"},{\"id\":\"6a6c2a5d-198e-46ec-a36d-35c58c83f656\",\"type\":\"HelpTool\"}]},\"id\":\"0c0ba7a8-7685-4cb1-a2e6-42002b858393\",\"type\":\"Toolbar\"},{\"attributes\":{\"axis_label\":\"spectral band\",\"formatter\":{\"id\":\"0cb3f749-56f1-4a91-9f04-0246e7cddf06\",\"type\":\"CategoricalTickFormatter\"},\"plot\":{\"id\":\"fbf3fd90-7024-4f53-8593-5b7af300fa79\",\"subtype\":\"Figure\",\"type\":\"Plot\"},\"ticker\":{\"id\":\"4f304087-071c-436f-a245-dd7a93110b75\",\"type\":\"CategoricalTicker\"}},\"id\":\"e7296068-b72f-47fd-a845-e6f54b22316b\",\"type\":\"CategoricalAxis\"},{\"attributes\":{\"callback\":null,\"factors\":[\"1\",\"2\",\"3\",\"4\",\"5\",\"6\",\"7\",\"8\",\"9\",\"10\",\"11\"]},\"id\":\"e555cdc3-6010-41c2-874f-7532da0c9c5a\",\"type\":\"FactorRange\"},{\"attributes\":{\"dimension\":1,\"plot\":{\"id\":\"fbf3fd90-7024-4f53-8593-5b7af300fa79\",\"subtype\":\"Figure\",\"type\":\"Plot\"},\"ticker\":{\"id\":\"c533c5b6-234b-4e5d-ac6b-0c9850adba4b\",\"type\":\"BasicTicker\"}},\"id\":\"029be55d-63fd-4b76-87e6-aaef06a364f7\",\"type\":\"Grid\"},{\"attributes\":{},\"id\":\"47d1fae4-cfb1-4efa-aa96-3eb40fddcdbf\",\"type\":\"BasicTicker\"},{\"attributes\":{},\"id\":\"1432661e-3a02-4fb3-9f2c-9fcc721784c4\",\"type\":\"LinearScale\"},{\"attributes\":{\"overlay\":{\"id\":\"c9e8a07c-c517-4b28-b537-52552c7dae63\",\"type\":\"BoxAnnotation\"}},\"id\":\"15dc03a0-2946-4418-bdae-e05b79f8c263\",\"type\":\"BoxZoomTool\"},{\"attributes\":{},\"id\":\"5d95a462-0695-4532-9fcb-32b2eef26e30\",\"type\":\"CategoricalTicker\"},{\"attributes\":{},\"id\":\"4f304087-071c-436f-a245-dd7a93110b75\",\"type\":\"CategoricalTicker\"},{\"attributes\":{\"plot\":{\"id\":\"fbf3fd90-7024-4f53-8593-5b7af300fa79\",\"subtype\":\"Figure\",\"type\":\"Plot\"},\"ticker\":{\"id\":\"4f304087-071c-436f-a245-dd7a93110b75\",\"type\":\"CategoricalTicker\"}},\"id\":\"2ed4cd68-7978-44d8-b87e-04cb83efae78\",\"type\":\"Grid\"},{\"attributes\":{\"fill_color\":{\"value\":\"#1f77b4\"},\"line_color\":{\"value\":\"#1f77b4\"},\"top\":{\"field\":\"flux\"},\"width\":{\"value\":0.9},\"x\":{\"field\":\"band\"}},\"id\":\"27b8707c-7c59-4d9f-ae65-14c5427704e2\",\"type\":\"VBar\"},{\"attributes\":{},\"id\":\"b3d733ce-4110-44ff-8b2d-afb291871268\",\"type\":\"LinearScale\"},{\"attributes\":{\"data_source\":{\"id\":\"9bd6e0b2-6353-4b8e-878a-c951b553c2fc\",\"type\":\"ColumnDataSource\"},\"glyph\":{\"id\":\"27b8707c-7c59-4d9f-ae65-14c5427704e2\",\"type\":\"VBar\"},\"hover_glyph\":null,\"muted_glyph\":null,\"nonselection_glyph\":{\"id\":\"701226f1-0623-4f98-92fd-85f7b953433e\",\"type\":\"VBar\"},\"selection_glyph\":null,\"view\":{\"id\":\"ea19d8d4-f6da-4691-add2-adbe5499b7d7\",\"type\":\"CDSView\"}},\"id\":\"bab8a4ad-3326-404b-b33f-e3b37ba34a45\",\"type\":\"GlyphRenderer\"},{\"attributes\":{\"axis_label\":\"flux (W m-2)\",\"formatter\":{\"id\":\"35ad8940-d74d-4585-82fa-b7da33be32dc\",\"type\":\"BasicTickFormatter\"},\"plot\":{\"id\":\"65e654f0-ca26-4195-97ea-7d172c3f5f7e\",\"subtype\":\"Figure\",\"type\":\"Plot\"},\"ticker\":{\"id\":\"47d1fae4-cfb1-4efa-aa96-3eb40fddcdbf\",\"type\":\"BasicTicker\"}},\"id\":\"8c6e0e61-5400-4ffc-8f3e-3ac5d5b6122e\",\"type\":\"LinearAxis\"},{\"attributes\":{\"below\":[{\"id\":\"e94d9f21-9eea-450d-b80f-563e8aca0e57\",\"type\":\"CategoricalAxis\"}],\"left\":[{\"id\":\"257b5317-2686-4c5c-af0d-cbb193ecfadc\",\"type\":\"LinearAxis\"}],\"plot_height\":300,\"plot_width\":300,\"renderers\":[{\"id\":\"e94d9f21-9eea-450d-b80f-563e8aca0e57\",\"type\":\"CategoricalAxis\"},{\"id\":\"78d14a5e-1586-42ca-95a2-2f8aed689c63\",\"type\":\"Grid\"},{\"id\":\"257b5317-2686-4c5c-af0d-cbb193ecfadc\",\"type\":\"LinearAxis\"},{\"id\":\"fc9161db-234a-47e5-ba10-b65c44535fd0\",\"type\":\"Grid\"},{\"id\":\"f731a227-661b-48a7-a802-08d2a49104ea\",\"type\":\"BoxAnnotation\"},{\"id\":\"da4d36ff-9e48-40e4-8763-a619a56eebe8\",\"type\":\"GlyphRenderer\"}],\"title\":{\"id\":\"f31c940f-b590-4f74-a634-92dbec75444b\",\"type\":\"Title\"},\"toolbar\":{\"id\":\"c8f2319f-2db1-4b02-8b58-496fe68d9b6b\",\"type\":\"Toolbar\"},\"toolbar_location\":null,\"x_range\":{\"id\":\"58935065-84d3-426a-bd89-9752d473503e\",\"type\":\"FactorRange\"},\"x_scale\":{\"id\":\"c5b5e953-2d5a-4840-93fc-7539ebea741a\",\"type\":\"CategoricalScale\"},\"y_range\":{\"id\":\"c9df5f50-0d03-4da5-a361-f768ae5e0052\",\"type\":\"DataRange1d\"},\"y_scale\":{\"id\":\"05e6be03-cc01-47e1-99a6-cc894e6ca860\",\"type\":\"LinearScale\"}},\"id\":\"758ef3a8-1f64-48e5-91db-841d00c3863d\",\"subtype\":\"Figure\",\"type\":\"Plot\"},{\"attributes\":{},\"id\":\"ddd5764e-5e91-4974-919e-c48c25723fe2\",\"type\":\"WheelZoomTool\"},{\"attributes\":{},\"id\":\"9135a318-303e-41a1-8399-e4f943c4db6d\",\"type\":\"CategoricalScale\"},{\"attributes\":{\"plot\":null,\"text\":\"SFC flux. CLIRAD (single-run) - CRD.\"},\"id\":\"4069a3a2-5e1d-45a5-bb9d-ba4bbb763fe6\",\"type\":\"Title\"},{\"attributes\":{\"data_source\":{\"id\":\"954a9689-a95f-4a60-ab46-c3a802a6b5ca\",\"type\":\"ColumnDataSource\"},\"glyph\":{\"id\":\"c9cdc226-8fa0-4d67-91b1-9546821ff3bb\",\"type\":\"VBar\"},\"hover_glyph\":null,\"muted_glyph\":null,\"nonselection_glyph\":{\"id\":\"70816771-94e2-4712-a121-b2f61f1cc080\",\"type\":\"VBar\"},\"selection_glyph\":null,\"view\":{\"id\":\"ab015541-1554-4df1-b284-24e959e60b0c\",\"type\":\"CDSView\"}},\"id\":\"5e402f7c-8c82-405d-a41f-c89a43828907\",\"type\":\"GlyphRenderer\"},{\"attributes\":{\"below\":[{\"id\":\"e7296068-b72f-47fd-a845-e6f54b22316b\",\"type\":\"CategoricalAxis\"}],\"left\":[{\"id\":\"8e86bed6-bf1e-424d-b5d0-08554cc156f3\",\"type\":\"LinearAxis\"}],\"plot_height\":300,\"plot_width\":300,\"renderers\":[{\"id\":\"e7296068-b72f-47fd-a845-e6f54b22316b\",\"type\":\"CategoricalAxis\"},{\"id\":\"2ed4cd68-7978-44d8-b87e-04cb83efae78\",\"type\":\"Grid\"},{\"id\":\"8e86bed6-bf1e-424d-b5d0-08554cc156f3\",\"type\":\"LinearAxis\"},{\"id\":\"029be55d-63fd-4b76-87e6-aaef06a364f7\",\"type\":\"Grid\"},{\"id\":\"c9e8a07c-c517-4b28-b537-52552c7dae63\",\"type\":\"BoxAnnotation\"},{\"id\":\"5e402f7c-8c82-405d-a41f-c89a43828907\",\"type\":\"GlyphRenderer\"}],\"title\":{\"id\":\"4069a3a2-5e1d-45a5-bb9d-ba4bbb763fe6\",\"type\":\"Title\"},\"toolbar\":{\"id\":\"0c0ba7a8-7685-4cb1-a2e6-42002b858393\",\"type\":\"Toolbar\"},\"toolbar_location\":null,\"x_range\":{\"id\":\"e555cdc3-6010-41c2-874f-7532da0c9c5a\",\"type\":\"FactorRange\"},\"x_scale\":{\"id\":\"9135a318-303e-41a1-8399-e4f943c4db6d\",\"type\":\"CategoricalScale\"},\"y_range\":{\"id\":\"d3655513-93b7-487d-95be-e33c863ebed6\",\"type\":\"DataRange1d\"},\"y_scale\":{\"id\":\"1432661e-3a02-4fb3-9f2c-9fcc721784c4\",\"type\":\"LinearScale\"}},\"id\":\"fbf3fd90-7024-4f53-8593-5b7af300fa79\",\"subtype\":\"Figure\",\"type\":\"Plot\"},{\"attributes\":{},\"id\":\"d4b45127-d3c4-4d28-802e-17a1e5d14a9f\",\"type\":\"PanTool\"},{\"attributes\":{\"axis_label\":\"spectral band\",\"formatter\":{\"id\":\"2f5087a0-241f-42bc-9090-4b60600207b6\",\"type\":\"CategoricalTickFormatter\"},\"plot\":{\"id\":\"65e654f0-ca26-4195-97ea-7d172c3f5f7e\",\"subtype\":\"Figure\",\"type\":\"Plot\"},\"ticker\":{\"id\":\"5d95a462-0695-4532-9fcb-32b2eef26e30\",\"type\":\"CategoricalTicker\"}},\"id\":\"292af18a-78f5-460b-ac9b-f6702fedf685\",\"type\":\"CategoricalAxis\"},{\"attributes\":{},\"id\":\"d737ea55-35c3-4922-87b2-e833b03c1e4f\",\"type\":\"SaveTool\"},{\"attributes\":{\"fill_color\":{\"value\":\"#1f77b4\"},\"line_color\":{\"value\":\"#1f77b4\"},\"top\":{\"field\":\"flux\"},\"width\":{\"value\":0.9},\"x\":{\"field\":\"band\"}},\"id\":\"c9cdc226-8fa0-4d67-91b1-9546821ff3bb\",\"type\":\"VBar\"},{\"attributes\":{\"callback\":null,\"data\":{\"band\":[\"1\",\"2\",\"3\",\"4\",\"5\",\"6\",\"7\",\"8\",\"9\",\"10\",\"11\"],\"flux\":{\"__ndarray__\":\"AID6S2L7yj8AhLZzzD+yPwDn9AapJbm/oFGioVYD4D9gJ6H0hZDSv4DY6Qd1kd+/gFDj3vyGxT8Atr3dkhzAv4DhOmtcJNC/wG+hI6BfwD/ARu3ZzlKpPw==\",\"dtype\":\"float64\",\"shape\":[11]}},\"selected\":{\"id\":\"121063c3-433b-4564-8a99-5c56b27c26ed\",\"type\":\"Selection\"},\"selection_policy\":{\"id\":\"8b9d0313-03e7-4e01-9fd6-1f47375b000c\",\"type\":\"UnionRenderers\"}},\"id\":\"bef5d222-97a5-45de-b2d3-1c067c82a72d\",\"type\":\"ColumnDataSource\"},{\"attributes\":{\"callback\":null},\"id\":\"d3655513-93b7-487d-95be-e33c863ebed6\",\"type\":\"DataRange1d\"},{\"attributes\":{\"plot\":{\"id\":\"65e654f0-ca26-4195-97ea-7d172c3f5f7e\",\"subtype\":\"Figure\",\"type\":\"Plot\"},\"ticker\":{\"id\":\"5d95a462-0695-4532-9fcb-32b2eef26e30\",\"type\":\"CategoricalTicker\"}},\"id\":\"c10840ba-53ca-452a-b355-af98b4c9c7b2\",\"type\":\"Grid\"}],\"root_ids\":[\"11232e11-02d1-4435-aa2a-b5427df06ce6\"]},\"title\":\"Bokeh Application\",\"version\":\"0.12.16\"}};\n",
       "  var render_items = [{\"docid\":\"98606cf4-e5da-491d-9109-c91898d8bff7\",\"elementid\":\"563f92bf-d484-471f-b4ef-c10d8e92bfeb\",\"modelid\":\"11232e11-02d1-4435-aa2a-b5427df06ce6\"}];\n",
       "  root.Bokeh.embed.embed_items_notebook(docs_json, render_items);\n",
       "\n",
       "  }\n",
       "  if (root.Bokeh !== undefined) {\n",
       "    embed_document(root);\n",
       "  } else {\n",
       "    var attempts = 0;\n",
       "    var timer = setInterval(function(root) {\n",
       "      if (root.Bokeh !== undefined) {\n",
       "        embed_document(root);\n",
       "        clearInterval(timer);\n",
       "      }\n",
       "      attempts++;\n",
       "      if (attempts > 100) {\n",
       "        console.log(\"Bokeh: ERROR: Unable to run BokehJS code because BokehJS library is missing\")\n",
       "        clearInterval(timer);\n",
       "      }\n",
       "    }, 10, root)\n",
       "  }\n",
       "})(window);"
      ],
      "application/vnd.bokehjs_exec.v0+json": ""
     },
     "metadata": {
      "application/vnd.bokehjs_exec.v0+json": {
       "id": "11232e11-02d1-4435-aa2a-b5427df06ce6"
      }
     },
     "output_type": "display_data"
    },
    {
     "data": {
      "text/markdown": [
       "*FIGURE.* Difference between CLIRAD and CRD in TOA, SFC and net atmosphere flux, in each spectral band."
      ],
      "text/plain": [
       "<IPython.core.display.Markdown object>"
      ]
     },
     "metadata": {},
     "output_type": "display_data"
    },
    {
     "data": {
      "text/html": [
       "<div>\n",
       "<style scoped>\n",
       "    .dataframe tbody tr th:only-of-type {\n",
       "        vertical-align: middle;\n",
       "    }\n",
       "\n",
       "    .dataframe tbody tr th {\n",
       "        vertical-align: top;\n",
       "    }\n",
       "\n",
       "    .dataframe thead th {\n",
       "        text-align: right;\n",
       "    }\n",
       "</style>\n",
       "<table border=\"1\" class=\"dataframe\">\n",
       "  <thead>\n",
       "    <tr style=\"text-align: right;\">\n",
       "      <th></th>\n",
       "      <th>OLR flux</th>\n",
       "      <th>SFC flux</th>\n",
       "      <th>ATM heating</th>\n",
       "    </tr>\n",
       "    <tr>\n",
       "      <th>Sum over bands</th>\n",
       "      <th></th>\n",
       "      <th></th>\n",
       "      <th></th>\n",
       "    </tr>\n",
       "  </thead>\n",
       "  <tbody>\n",
       "    <tr>\n",
       "      <th>CLIRAD (single-run) - CRD</th>\n",
       "      <td>1.48</td>\n",
       "      <td>1.61</td>\n",
       "      <td>-0.13</td>\n",
       "    </tr>\n",
       "    <tr>\n",
       "      <th>CRD</th>\n",
       "      <td>-303.40</td>\n",
       "      <td>337.24</td>\n",
       "      <td>-181.37</td>\n",
       "    </tr>\n",
       "  </tbody>\n",
       "</table>\n",
       "</div>"
      ],
      "text/plain": [
       "                           OLR flux  SFC flux  ATM heating\n",
       "Sum over bands                                            \n",
       "CLIRAD (single-run) - CRD      1.48      1.61        -0.13\n",
       "CRD                         -303.40    337.24      -181.37"
      ]
     },
     "metadata": {},
     "output_type": "display_data"
    },
    {
     "data": {
      "text/markdown": [
       "*TABLE.* Difference between CLIRAD and CRD in TOA, SFC and net atmosphere flux, over all spectral bands. CRD's TOA, SFC and net atmosphere flux, over all spectral bands."
      ],
      "text/plain": [
       "<IPython.core.display.Markdown object>"
      ]
     },
     "metadata": {},
     "output_type": "display_data"
    }
   ],
   "source": [
    "script()"
   ]
  },
  {
   "cell_type": "code",
   "execution_count": 79,
   "metadata": {},
   "outputs": [
    {
     "data": {
      "text/html": [
       "<script>                                                                                             \n",
       "code_show=true;                                                                                                      \n",
       "function code_toggle() {                                                                                             \n",
       " if (code_show){                                                                                                     \n",
       " $('div.input').hide();                                                                                              \n",
       " } else {                                                                                                            \n",
       " $('div.input').show();                                                                                              \n",
       " }                                                                                                                   \n",
       " code_show = !code_show                                                                                              \n",
       "}                                                                                                                    \n",
       "$( document ).ready(code_toggle);                                                                                    \n",
       "</script>                                                                                                            \n",
       "<form action=\"javascript:code_toggle()\"><input type=\"submit\" value=\"Click here to toggle on/off the raw code.\"></form>"
      ],
      "text/plain": [
       "<IPython.core.display.HTML object>"
      ]
     },
     "execution_count": 79,
     "metadata": {},
     "output_type": "execute_result"
    }
   ],
   "source": [
    "display.HTML('''<script>                                                                                             \n",
    "code_show=true;                                                                                                      \n",
    "function code_toggle() {                                                                                             \n",
    " if (code_show){                                                                                                     \n",
    " $('div.input').hide();                                                                                              \n",
    " } else {                                                                                                            \n",
    " $('div.input').show();                                                                                              \n",
    " }                                                                                                                   \n",
    " code_show = !code_show                                                                                              \n",
    "}                                                                                                                    \n",
    "$( document ).ready(code_toggle);                                                                                    \n",
    "</script>                                                                                                            \n",
    "<form action=\"javascript:code_toggle()\"><input type=\"submit\" value=\"Click here to toggle on/off the raw code.\"></for\\\n",
    "m>''')"
   ]
  }
 ],
 "metadata": {
  "kernelspec": {
   "display_name": "Python 3",
   "language": "python",
   "name": "python3"
  },
  "language_info": {
   "codemirror_mode": {
    "name": "ipython",
    "version": 3
   },
   "file_extension": ".py",
   "mimetype": "text/x-python",
   "name": "python",
   "nbconvert_exporter": "python",
   "pygments_lexer": "ipython3",
   "version": "3.6.1"
  }
 },
 "nbformat": 4,
 "nbformat_minor": 2
}
