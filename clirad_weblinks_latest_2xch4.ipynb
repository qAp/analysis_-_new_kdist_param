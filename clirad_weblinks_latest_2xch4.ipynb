{
 "cells": [
  {
   "cell_type": "code",
   "execution_count": 1,
   "metadata": {
    "collapsed": true
   },
   "outputs": [],
   "source": [
    "import os\n",
    "import importlib \n",
    "import pprint\n",
    "\n",
    "import numpy as np\n",
    "import pandas as pd\n",
    "import xarray as xr\n",
    "\n",
    "from climatools.cliradlw import (setup, pipeline)\n",
    "import climatools.cliradlw.runrecord as runrecord_clirad\n",
    "import climatools.cliradlw.utils as utils_clirad\n",
    "\n",
    "\n",
    "from IPython import display"
   ]
  },
  {
   "cell_type": "markdown",
   "metadata": {
    "collapsed": true
   },
   "source": [
    "# 2 x $CH_4$"
   ]
  },
  {
   "cell_type": "code",
   "execution_count": 2,
   "metadata": {
    "collapsed": true
   },
   "outputs": [],
   "source": [
    "pd.set_option('max_colwidth', -1)"
   ]
  },
  {
   "cell_type": "code",
   "execution_count": 7,
   "metadata": {
    "collapsed": true
   },
   "outputs": [],
   "source": [
    "def params_clirad_nonoverlap():\n",
    "    '''\n",
    "    Define clirad-lw input parameter dictionaries\n",
    "    for 2xch4, ch4-only runs.\n",
    "    '''\n",
    "    commitnumber = '523cbb7'\n",
    "    molecule = {'ch4': 2 * 1.8e-6}\n",
    "    bands = [9] # these are the only bands with ch4\n",
    "    atmpros = [('mls', 294), ('saw', 257), ('trp', 300)]\n",
    "    \n",
    "    params = []\n",
    "    for band in bands:\n",
    "        for atmpro, tsfc in atmpros:\n",
    "            param = {'commitnumber': commitnumber,\n",
    "                     'molecule': molecule,\n",
    "                     'band': [band],\n",
    "                     'atmpro': atmpro,\n",
    "                     'tsfc': tsfc}\n",
    "            params.append(param)\n",
    "    return params\n",
    "\n",
    "\n",
    "\n",
    "def params_clirad_overlap():\n",
    "    '''\n",
    "    Define clirad-lw input parameter dictionaries\n",
    "    for 2xn2o, n2o overlapping with others.\n",
    "    '''\n",
    "    commitnumber = '523cbb7'\n",
    "    \n",
    "    atmpros = [('mls', 294), ('saw', 257), ('trp', 300)]\n",
    "    \n",
    "    molecule_bands = [\n",
    "        ({'h2o': 'atmpro', 'co2': 400e-6, 'n2o': 2 * 3.2e-7}, [3]),\n",
    "        ({'h2o': 'atmpro', 'n2o': 2 * 3.2e-07, 'ch4': 1.8e-06}, [9]),\n",
    "        ({'h2o': 'atmpro', 'n2o': 3.2e-07, 'ch4': 2 * 1.8e-06}, [9])    \n",
    "    ]\n",
    "    \n",
    "    params = []\n",
    "    for molecule, bands in molecule_bands:\n",
    "        for band in bands:\n",
    "            for atmpro, tsfc in atmpros:\n",
    "                param = {'commitnumber': commitnumber,\n",
    "                         'molecule': molecule,\n",
    "                         'band': [band],\n",
    "                         'atmpro': atmpro,\n",
    "                         'tsfc': tsfc}\n",
    "                params.append(param)\n",
    "    return params\n",
    "\n",
    "\n",
    "\n",
    "\n",
    "\n",
    "def all_mls_params():\n",
    "    '''\n",
    "    Gather all non-overlap and overlap params that are\n",
    "    for atmosphere profile mls.  \n",
    "    '''    \n",
    "    params_nonoverlap = [p for p in params_clirad_nonoverlap()\n",
    "                         if p['atmpro'] == 'mls']\n",
    "    params_overlap = [p for p in params_clirad_overlap()\n",
    "                      if p['atmpro'] == 'mls']\n",
    "    params = params_nonoverlap + params_overlap\n",
    "    return params"
   ]
  },
  {
   "cell_type": "code",
   "execution_count": 8,
   "metadata": {
    "collapsed": true
   },
   "outputs": [],
   "source": [
    "def get_hrefs_clirad(param=None):\n",
    "    atmpros = ('mls', 'saw', 'trp')\n",
    "        \n",
    "    hrefs = []\n",
    "    for atmpro in atmpros:\n",
    "        p = param.copy()\n",
    "        p['atmpro'] = atmpro\n",
    "        url = pipeline.nbviewer_url(param=p, setup=setup)\n",
    "        \n",
    "        s = '''<a href=\"{}\">{}</a>'''\n",
    "        s = s.format(url, atmpro)\n",
    "        hrefs.append(s)\n",
    "    s_hrefs = ' '.join(hrefs)\n",
    "    return s_hrefs\n",
    "\n",
    "\n",
    "\n",
    "def tb_hrefs_clirad():\n",
    "    df = pd.DataFrame()\n",
    "    \n",
    "    for param in all_mls_params():\n",
    "        \n",
    "        hrefs = get_hrefs_clirad(param=param)\n",
    "        \n",
    "        bands = [str(b) for b in param['band']]\n",
    "        \n",
    "        df.loc['+'.join(param['molecule']), \n",
    "               '+'.join(bands)] = hrefs\n",
    "        \n",
    "    df = df.fillna('')\n",
    "    \n",
    "    bmap = utils_clirad.mapband_new2old()\n",
    "    lblnew_bands = [bmap[int(b)] for b in df.columns]\n",
    "    columns = pd.MultiIndex.from_arrays([lblnew_bands, df.columns],\n",
    "                                        names=['lblnew', 'clirad'])\n",
    "    df.columns = columns\n",
    "    \n",
    "\n",
    "    return df\n",
    "        \n"
   ]
  },
  {
   "cell_type": "code",
   "execution_count": 9,
   "metadata": {
    "collapsed": true
   },
   "outputs": [],
   "source": [
    "def script():\n",
    "    df = tb_hrefs_clirad()\n",
    "    \n",
    "    s_html = df.to_html(escape=False)\n",
    "    \n",
    "    display.display(display.HTML(s_html))"
   ]
  },
  {
   "cell_type": "code",
   "execution_count": 10,
   "metadata": {},
   "outputs": [
    {
     "data": {
      "text/html": [
       "<table border=\"1\" class=\"dataframe\">\n",
       "  <thead>\n",
       "    <tr>\n",
       "      <th>lblnew</th>\n",
       "      <th>7</th>\n",
       "      <th>3a</th>\n",
       "    </tr>\n",
       "    <tr>\n",
       "      <th>clirad</th>\n",
       "      <th>9</th>\n",
       "      <th>3</th>\n",
       "    </tr>\n",
       "  </thead>\n",
       "  <tbody>\n",
       "    <tr>\n",
       "      <th>ch4</th>\n",
       "      <td><a href=\"http://nbviewer.jupyter.org/github/qap/analysis_-_new_kdist_param/blob/master/clirad/ch4_3.6e-06/band_9/atmpro_mls/cliradlw_523cbb7/results_cliradlw.ipynb\">mls</a> <a href=\"http://nbviewer.jupyter.org/github/qap/analysis_-_new_kdist_param/blob/master/clirad/ch4_3.6e-06/band_9/atmpro_saw/cliradlw_523cbb7/results_cliradlw.ipynb\">saw</a> <a href=\"http://nbviewer.jupyter.org/github/qap/analysis_-_new_kdist_param/blob/master/clirad/ch4_3.6e-06/band_9/atmpro_trp/cliradlw_523cbb7/results_cliradlw.ipynb\">trp</a></td>\n",
       "      <td></td>\n",
       "    </tr>\n",
       "    <tr>\n",
       "      <th>h2o+co2+n2o</th>\n",
       "      <td></td>\n",
       "      <td><a href=\"http://nbviewer.jupyter.org/github/qap/analysis_-_new_kdist_param/blob/master/clirad/h2o_mls_co2_0.0004_n2o_6.4e-07/band_3/atmpro_mls/cliradlw_523cbb7/results_cliradlw.ipynb\">mls</a> <a href=\"http://nbviewer.jupyter.org/github/qap/analysis_-_new_kdist_param/blob/master/clirad/h2o_saw_co2_0.0004_n2o_6.4e-07/band_3/atmpro_saw/cliradlw_523cbb7/results_cliradlw.ipynb\">saw</a> <a href=\"http://nbviewer.jupyter.org/github/qap/analysis_-_new_kdist_param/blob/master/clirad/h2o_trp_co2_0.0004_n2o_6.4e-07/band_3/atmpro_trp/cliradlw_523cbb7/results_cliradlw.ipynb\">trp</a></td>\n",
       "    </tr>\n",
       "    <tr>\n",
       "      <th>h2o+n2o+ch4</th>\n",
       "      <td><a href=\"http://nbviewer.jupyter.org/github/qap/analysis_-_new_kdist_param/blob/master/clirad/h2o_mls_n2o_3.2e-07_ch4_3.6e-06/band_9/atmpro_mls/cliradlw_523cbb7/results_cliradlw.ipynb\">mls</a> <a href=\"http://nbviewer.jupyter.org/github/qap/analysis_-_new_kdist_param/blob/master/clirad/h2o_saw_n2o_3.2e-07_ch4_3.6e-06/band_9/atmpro_saw/cliradlw_523cbb7/results_cliradlw.ipynb\">saw</a> <a href=\"http://nbviewer.jupyter.org/github/qap/analysis_-_new_kdist_param/blob/master/clirad/h2o_trp_n2o_3.2e-07_ch4_3.6e-06/band_9/atmpro_trp/cliradlw_523cbb7/results_cliradlw.ipynb\">trp</a></td>\n",
       "      <td></td>\n",
       "    </tr>\n",
       "  </tbody>\n",
       "</table>"
      ],
      "text/plain": [
       "<IPython.core.display.HTML object>"
      ]
     },
     "metadata": {},
     "output_type": "display_data"
    }
   ],
   "source": [
    "script()"
   ]
  },
  {
   "cell_type": "code",
   "execution_count": 11,
   "metadata": {},
   "outputs": [
    {
     "data": {
      "text/html": [
       "<script>\n",
       "code_show=true; \n",
       "function code_toggle() {\n",
       " if (code_show){\n",
       " $('div.input').hide();\n",
       " } else {\n",
       " $('div.input').show();\n",
       " }\n",
       " code_show = !code_show\n",
       "} \n",
       "$( document ).ready(code_toggle);\n",
       "</script>\n",
       "<form action=\"javascript:code_toggle()\"><input type=\"submit\" value=\"Click here to toggle on/off the raw code.\"></form>"
      ],
      "text/plain": [
       "<IPython.core.display.HTML object>"
      ]
     },
     "execution_count": 11,
     "metadata": {},
     "output_type": "execute_result"
    }
   ],
   "source": [
    "display.HTML('''<script>\n",
    "code_show=true; \n",
    "function code_toggle() {\n",
    " if (code_show){\n",
    " $('div.input').hide();\n",
    " } else {\n",
    " $('div.input').show();\n",
    " }\n",
    " code_show = !code_show\n",
    "} \n",
    "$( document ).ready(code_toggle);\n",
    "</script>\n",
    "<form action=\"javascript:code_toggle()\"><input type=\"submit\" value=\"Click here to toggle on/off the raw code.\"></form>''')"
   ]
  },
  {
   "cell_type": "code",
   "execution_count": null,
   "metadata": {
    "collapsed": true
   },
   "outputs": [],
   "source": []
  }
 ],
 "metadata": {
  "kernelspec": {
   "display_name": "Python 3",
   "language": "python",
   "name": "python3"
  },
  "language_info": {
   "codemirror_mode": {
    "name": "ipython",
    "version": 3
   },
   "file_extension": ".py",
   "mimetype": "text/x-python",
   "name": "python",
   "nbconvert_exporter": "python",
   "pygments_lexer": "ipython3",
   "version": "3.6.1"
  }
 },
 "nbformat": 4,
 "nbformat_minor": 2
}
