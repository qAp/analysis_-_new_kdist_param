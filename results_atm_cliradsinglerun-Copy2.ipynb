{
 "cells": [
  {
   "cell_type": "code",
   "execution_count": 331,
   "metadata": {
    "collapsed": true
   },
   "outputs": [],
   "source": [
    "%reload_ext autoreload\n",
    "%autoreload 2\n",
    "\n",
    "import os\n",
    "import io\n",
    "import ast\n",
    "import json\n",
    "import importlib \n",
    "import itertools\n",
    "import collections\n",
    "import pprint\n",
    "\n",
    "import pymongo\n",
    "\n",
    "from bokeh.io import output_notebook, show\n",
    "from bokeh.layouts import gridplot\n",
    "from bokeh.plotting import figure\n",
    "from bokeh.models import Range1d, Legend, ColumnDataSource, FactorRange\n",
    "from bokeh.palettes import all_palettes\n",
    "from bokeh.transform import factor_cmap\n",
    "\n",
    "import matplotlib\n",
    "import matplotlib.pyplot as plt\n",
    "import numpy as np\n",
    "import pandas as pd\n",
    "import xarray as xr\n",
    "\n",
    "from climatools.atm.absorbers import *\n",
    "\n",
    "import climatools.lblnew.bestfit_params as bestfits\n",
    "from climatools.lblnew import setup_bestfit, setup_overlap\n",
    "import climatools.lblnew.pipeline as pipe_lblnew\n",
    "\n",
    "from climatools.cliradlw.utils import *\n",
    "import climatools.cliradlw.setup as setup_cliradlw\n",
    "import climatools.cliradlw.pipeline as pipe_cliradlw\n",
    "from climatools.cliradlw.dataset import *\n",
    "\n",
    "import climatools.html.html as climahtml\n",
    "from climatools.lblnew.dataio import *\n",
    "from climatools.plot.plot import *\n",
    "\n",
    "from IPython import display"
   ]
  },
  {
   "cell_type": "code",
   "execution_count": 332,
   "metadata": {
    "scrolled": true
   },
   "outputs": [
    {
     "data": {
      "text/html": [
       "\n",
       "    <div class=\"bk-root\">\n",
       "        <a href=\"https://bokeh.pydata.org\" target=\"_blank\" class=\"bk-logo bk-logo-small bk-logo-notebook\"></a>\n",
       "        <span id=\"6e5e462d-c722-4195-995f-1dca1230bb45\">Loading BokehJS ...</span>\n",
       "    </div>"
      ]
     },
     "metadata": {},
     "output_type": "display_data"
    },
    {
     "data": {
      "application/javascript": [
       "\n",
       "(function(root) {\n",
       "  function now() {\n",
       "    return new Date();\n",
       "  }\n",
       "\n",
       "  var force = true;\n",
       "\n",
       "  if (typeof (root._bokeh_onload_callbacks) === \"undefined\" || force === true) {\n",
       "    root._bokeh_onload_callbacks = [];\n",
       "    root._bokeh_is_loading = undefined;\n",
       "  }\n",
       "\n",
       "  var JS_MIME_TYPE = 'application/javascript';\n",
       "  var HTML_MIME_TYPE = 'text/html';\n",
       "  var EXEC_MIME_TYPE = 'application/vnd.bokehjs_exec.v0+json';\n",
       "  var CLASS_NAME = 'output_bokeh rendered_html';\n",
       "\n",
       "  /**\n",
       "   * Render data to the DOM node\n",
       "   */\n",
       "  function render(props, node) {\n",
       "    var script = document.createElement(\"script\");\n",
       "    node.appendChild(script);\n",
       "  }\n",
       "\n",
       "  /**\n",
       "   * Handle when an output is cleared or removed\n",
       "   */\n",
       "  function handleClearOutput(event, handle) {\n",
       "    var cell = handle.cell;\n",
       "\n",
       "    var id = cell.output_area._bokeh_element_id;\n",
       "    var server_id = cell.output_area._bokeh_server_id;\n",
       "    // Clean up Bokeh references\n",
       "    if (id !== undefined) {\n",
       "      Bokeh.index[id].model.document.clear();\n",
       "      delete Bokeh.index[id];\n",
       "    }\n",
       "\n",
       "    if (server_id !== undefined) {\n",
       "      // Clean up Bokeh references\n",
       "      var cmd = \"from bokeh.io.state import curstate; print(curstate().uuid_to_server['\" + server_id + \"'].get_sessions()[0].document.roots[0]._id)\";\n",
       "      cell.notebook.kernel.execute(cmd, {\n",
       "        iopub: {\n",
       "          output: function(msg) {\n",
       "            var element_id = msg.content.text.trim();\n",
       "            Bokeh.index[element_id].model.document.clear();\n",
       "            delete Bokeh.index[element_id];\n",
       "          }\n",
       "        }\n",
       "      });\n",
       "      // Destroy server and session\n",
       "      var cmd = \"import bokeh.io.notebook as ion; ion.destroy_server('\" + server_id + \"')\";\n",
       "      cell.notebook.kernel.execute(cmd);\n",
       "    }\n",
       "  }\n",
       "\n",
       "  /**\n",
       "   * Handle when a new output is added\n",
       "   */\n",
       "  function handleAddOutput(event, handle) {\n",
       "    var output_area = handle.output_area;\n",
       "    var output = handle.output;\n",
       "\n",
       "    // limit handleAddOutput to display_data with EXEC_MIME_TYPE content only\n",
       "    if ((output.output_type != \"display_data\") || (!output.data.hasOwnProperty(EXEC_MIME_TYPE))) {\n",
       "      return\n",
       "    }\n",
       "\n",
       "    var toinsert = output_area.element.find(\".\" + CLASS_NAME.split(' ')[0]);\n",
       "\n",
       "    if (output.metadata[EXEC_MIME_TYPE][\"id\"] !== undefined) {\n",
       "      toinsert[toinsert.length - 1].firstChild.textContent = output.data[JS_MIME_TYPE];\n",
       "      // store reference to embed id on output_area\n",
       "      output_area._bokeh_element_id = output.metadata[EXEC_MIME_TYPE][\"id\"];\n",
       "    }\n",
       "    if (output.metadata[EXEC_MIME_TYPE][\"server_id\"] !== undefined) {\n",
       "      var bk_div = document.createElement(\"div\");\n",
       "      bk_div.innerHTML = output.data[HTML_MIME_TYPE];\n",
       "      var script_attrs = bk_div.children[0].attributes;\n",
       "      for (var i = 0; i < script_attrs.length; i++) {\n",
       "        toinsert[toinsert.length - 1].firstChild.setAttribute(script_attrs[i].name, script_attrs[i].value);\n",
       "      }\n",
       "      // store reference to server id on output_area\n",
       "      output_area._bokeh_server_id = output.metadata[EXEC_MIME_TYPE][\"server_id\"];\n",
       "    }\n",
       "  }\n",
       "\n",
       "  function register_renderer(events, OutputArea) {\n",
       "\n",
       "    function append_mime(data, metadata, element) {\n",
       "      // create a DOM node to render to\n",
       "      var toinsert = this.create_output_subarea(\n",
       "        metadata,\n",
       "        CLASS_NAME,\n",
       "        EXEC_MIME_TYPE\n",
       "      );\n",
       "      this.keyboard_manager.register_events(toinsert);\n",
       "      // Render to node\n",
       "      var props = {data: data, metadata: metadata[EXEC_MIME_TYPE]};\n",
       "      render(props, toinsert[toinsert.length - 1]);\n",
       "      element.append(toinsert);\n",
       "      return toinsert\n",
       "    }\n",
       "\n",
       "    /* Handle when an output is cleared or removed */\n",
       "    events.on('clear_output.CodeCell', handleClearOutput);\n",
       "    events.on('delete.Cell', handleClearOutput);\n",
       "\n",
       "    /* Handle when a new output is added */\n",
       "    events.on('output_added.OutputArea', handleAddOutput);\n",
       "\n",
       "    /**\n",
       "     * Register the mime type and append_mime function with output_area\n",
       "     */\n",
       "    OutputArea.prototype.register_mime_type(EXEC_MIME_TYPE, append_mime, {\n",
       "      /* Is output safe? */\n",
       "      safe: true,\n",
       "      /* Index of renderer in `output_area.display_order` */\n",
       "      index: 0\n",
       "    });\n",
       "  }\n",
       "\n",
       "  // register the mime type if in Jupyter Notebook environment and previously unregistered\n",
       "  if (root.Jupyter !== undefined) {\n",
       "    var events = require('base/js/events');\n",
       "    var OutputArea = require('notebook/js/outputarea').OutputArea;\n",
       "\n",
       "    if (OutputArea.prototype.mime_types().indexOf(EXEC_MIME_TYPE) == -1) {\n",
       "      register_renderer(events, OutputArea);\n",
       "    }\n",
       "  }\n",
       "\n",
       "  \n",
       "  if (typeof (root._bokeh_timeout) === \"undefined\" || force === true) {\n",
       "    root._bokeh_timeout = Date.now() + 5000;\n",
       "    root._bokeh_failed_load = false;\n",
       "  }\n",
       "\n",
       "  var NB_LOAD_WARNING = {'data': {'text/html':\n",
       "     \"<div style='background-color: #fdd'>\\n\"+\n",
       "     \"<p>\\n\"+\n",
       "     \"BokehJS does not appear to have successfully loaded. If loading BokehJS from CDN, this \\n\"+\n",
       "     \"may be due to a slow or bad network connection. Possible fixes:\\n\"+\n",
       "     \"</p>\\n\"+\n",
       "     \"<ul>\\n\"+\n",
       "     \"<li>re-rerun `output_notebook()` to attempt to load from CDN again, or</li>\\n\"+\n",
       "     \"<li>use INLINE resources instead, as so:</li>\\n\"+\n",
       "     \"</ul>\\n\"+\n",
       "     \"<code>\\n\"+\n",
       "     \"from bokeh.resources import INLINE\\n\"+\n",
       "     \"output_notebook(resources=INLINE)\\n\"+\n",
       "     \"</code>\\n\"+\n",
       "     \"</div>\"}};\n",
       "\n",
       "  function display_loaded() {\n",
       "    var el = document.getElementById(\"6e5e462d-c722-4195-995f-1dca1230bb45\");\n",
       "    if (el != null) {\n",
       "      el.textContent = \"BokehJS is loading...\";\n",
       "    }\n",
       "    if (root.Bokeh !== undefined) {\n",
       "      if (el != null) {\n",
       "        el.textContent = \"BokehJS \" + root.Bokeh.version + \" successfully loaded.\";\n",
       "      }\n",
       "    } else if (Date.now() < root._bokeh_timeout) {\n",
       "      setTimeout(display_loaded, 100)\n",
       "    }\n",
       "  }\n",
       "\n",
       "\n",
       "  function run_callbacks() {\n",
       "    try {\n",
       "      root._bokeh_onload_callbacks.forEach(function(callback) { callback() });\n",
       "    }\n",
       "    finally {\n",
       "      delete root._bokeh_onload_callbacks\n",
       "    }\n",
       "    console.info(\"Bokeh: all callbacks have finished\");\n",
       "  }\n",
       "\n",
       "  function load_libs(js_urls, callback) {\n",
       "    root._bokeh_onload_callbacks.push(callback);\n",
       "    if (root._bokeh_is_loading > 0) {\n",
       "      console.log(\"Bokeh: BokehJS is being loaded, scheduling callback at\", now());\n",
       "      return null;\n",
       "    }\n",
       "    if (js_urls == null || js_urls.length === 0) {\n",
       "      run_callbacks();\n",
       "      return null;\n",
       "    }\n",
       "    console.log(\"Bokeh: BokehJS not loaded, scheduling load and callback at\", now());\n",
       "    root._bokeh_is_loading = js_urls.length;\n",
       "    for (var i = 0; i < js_urls.length; i++) {\n",
       "      var url = js_urls[i];\n",
       "      var s = document.createElement('script');\n",
       "      s.src = url;\n",
       "      s.async = false;\n",
       "      s.onreadystatechange = s.onload = function() {\n",
       "        root._bokeh_is_loading--;\n",
       "        if (root._bokeh_is_loading === 0) {\n",
       "          console.log(\"Bokeh: all BokehJS libraries loaded\");\n",
       "          run_callbacks()\n",
       "        }\n",
       "      };\n",
       "      s.onerror = function() {\n",
       "        console.warn(\"failed to load library \" + url);\n",
       "      };\n",
       "      console.log(\"Bokeh: injecting script tag for BokehJS library: \", url);\n",
       "      document.getElementsByTagName(\"head\")[0].appendChild(s);\n",
       "    }\n",
       "  };var element = document.getElementById(\"6e5e462d-c722-4195-995f-1dca1230bb45\");\n",
       "  if (element == null) {\n",
       "    console.log(\"Bokeh: ERROR: autoload.js configured with elementid '6e5e462d-c722-4195-995f-1dca1230bb45' but no matching script tag was found. \")\n",
       "    return false;\n",
       "  }\n",
       "\n",
       "  var js_urls = [\"https://cdn.pydata.org/bokeh/release/bokeh-0.12.16.min.js\", \"https://cdn.pydata.org/bokeh/release/bokeh-widgets-0.12.16.min.js\", \"https://cdn.pydata.org/bokeh/release/bokeh-tables-0.12.16.min.js\", \"https://cdn.pydata.org/bokeh/release/bokeh-gl-0.12.16.min.js\"];\n",
       "\n",
       "  var inline_js = [\n",
       "    function(Bokeh) {\n",
       "      Bokeh.set_log_level(\"info\");\n",
       "    },\n",
       "    \n",
       "    function(Bokeh) {\n",
       "      \n",
       "    },\n",
       "    function(Bokeh) {\n",
       "      console.log(\"Bokeh: injecting CSS: https://cdn.pydata.org/bokeh/release/bokeh-0.12.16.min.css\");\n",
       "      Bokeh.embed.inject_css(\"https://cdn.pydata.org/bokeh/release/bokeh-0.12.16.min.css\");\n",
       "      console.log(\"Bokeh: injecting CSS: https://cdn.pydata.org/bokeh/release/bokeh-widgets-0.12.16.min.css\");\n",
       "      Bokeh.embed.inject_css(\"https://cdn.pydata.org/bokeh/release/bokeh-widgets-0.12.16.min.css\");\n",
       "      console.log(\"Bokeh: injecting CSS: https://cdn.pydata.org/bokeh/release/bokeh-tables-0.12.16.min.css\");\n",
       "      Bokeh.embed.inject_css(\"https://cdn.pydata.org/bokeh/release/bokeh-tables-0.12.16.min.css\");\n",
       "    }\n",
       "  ];\n",
       "\n",
       "  function run_inline_js() {\n",
       "    \n",
       "    if ((root.Bokeh !== undefined) || (force === true)) {\n",
       "      for (var i = 0; i < inline_js.length; i++) {\n",
       "        inline_js[i].call(root, root.Bokeh);\n",
       "      }if (force === true) {\n",
       "        display_loaded();\n",
       "      }} else if (Date.now() < root._bokeh_timeout) {\n",
       "      setTimeout(run_inline_js, 100);\n",
       "    } else if (!root._bokeh_failed_load) {\n",
       "      console.log(\"Bokeh: BokehJS failed to load within specified timeout.\");\n",
       "      root._bokeh_failed_load = true;\n",
       "    } else if (force !== true) {\n",
       "      var cell = $(document.getElementById(\"6e5e462d-c722-4195-995f-1dca1230bb45\")).parents('.cell').data().cell;\n",
       "      cell.output_area.append_execute_result(NB_LOAD_WARNING)\n",
       "    }\n",
       "\n",
       "  }\n",
       "\n",
       "  if (root._bokeh_is_loading === 0) {\n",
       "    console.log(\"Bokeh: BokehJS loaded, going straight to plotting\");\n",
       "    run_inline_js();\n",
       "  } else {\n",
       "    load_libs(js_urls, function() {\n",
       "      console.log(\"Bokeh: BokehJS plotting callback run at\", now());\n",
       "      run_inline_js();\n",
       "    });\n",
       "  }\n",
       "}(window));"
      ],
      "application/vnd.bokehjs_load.v0+json": "\n(function(root) {\n  function now() {\n    return new Date();\n  }\n\n  var force = true;\n\n  if (typeof (root._bokeh_onload_callbacks) === \"undefined\" || force === true) {\n    root._bokeh_onload_callbacks = [];\n    root._bokeh_is_loading = undefined;\n  }\n\n  \n\n  \n  if (typeof (root._bokeh_timeout) === \"undefined\" || force === true) {\n    root._bokeh_timeout = Date.now() + 5000;\n    root._bokeh_failed_load = false;\n  }\n\n  var NB_LOAD_WARNING = {'data': {'text/html':\n     \"<div style='background-color: #fdd'>\\n\"+\n     \"<p>\\n\"+\n     \"BokehJS does not appear to have successfully loaded. If loading BokehJS from CDN, this \\n\"+\n     \"may be due to a slow or bad network connection. Possible fixes:\\n\"+\n     \"</p>\\n\"+\n     \"<ul>\\n\"+\n     \"<li>re-rerun `output_notebook()` to attempt to load from CDN again, or</li>\\n\"+\n     \"<li>use INLINE resources instead, as so:</li>\\n\"+\n     \"</ul>\\n\"+\n     \"<code>\\n\"+\n     \"from bokeh.resources import INLINE\\n\"+\n     \"output_notebook(resources=INLINE)\\n\"+\n     \"</code>\\n\"+\n     \"</div>\"}};\n\n  function display_loaded() {\n    var el = document.getElementById(\"6e5e462d-c722-4195-995f-1dca1230bb45\");\n    if (el != null) {\n      el.textContent = \"BokehJS is loading...\";\n    }\n    if (root.Bokeh !== undefined) {\n      if (el != null) {\n        el.textContent = \"BokehJS \" + root.Bokeh.version + \" successfully loaded.\";\n      }\n    } else if (Date.now() < root._bokeh_timeout) {\n      setTimeout(display_loaded, 100)\n    }\n  }\n\n\n  function run_callbacks() {\n    try {\n      root._bokeh_onload_callbacks.forEach(function(callback) { callback() });\n    }\n    finally {\n      delete root._bokeh_onload_callbacks\n    }\n    console.info(\"Bokeh: all callbacks have finished\");\n  }\n\n  function load_libs(js_urls, callback) {\n    root._bokeh_onload_callbacks.push(callback);\n    if (root._bokeh_is_loading > 0) {\n      console.log(\"Bokeh: BokehJS is being loaded, scheduling callback at\", now());\n      return null;\n    }\n    if (js_urls == null || js_urls.length === 0) {\n      run_callbacks();\n      return null;\n    }\n    console.log(\"Bokeh: BokehJS not loaded, scheduling load and callback at\", now());\n    root._bokeh_is_loading = js_urls.length;\n    for (var i = 0; i < js_urls.length; i++) {\n      var url = js_urls[i];\n      var s = document.createElement('script');\n      s.src = url;\n      s.async = false;\n      s.onreadystatechange = s.onload = function() {\n        root._bokeh_is_loading--;\n        if (root._bokeh_is_loading === 0) {\n          console.log(\"Bokeh: all BokehJS libraries loaded\");\n          run_callbacks()\n        }\n      };\n      s.onerror = function() {\n        console.warn(\"failed to load library \" + url);\n      };\n      console.log(\"Bokeh: injecting script tag for BokehJS library: \", url);\n      document.getElementsByTagName(\"head\")[0].appendChild(s);\n    }\n  };var element = document.getElementById(\"6e5e462d-c722-4195-995f-1dca1230bb45\");\n  if (element == null) {\n    console.log(\"Bokeh: ERROR: autoload.js configured with elementid '6e5e462d-c722-4195-995f-1dca1230bb45' but no matching script tag was found. \")\n    return false;\n  }\n\n  var js_urls = [\"https://cdn.pydata.org/bokeh/release/bokeh-0.12.16.min.js\", \"https://cdn.pydata.org/bokeh/release/bokeh-widgets-0.12.16.min.js\", \"https://cdn.pydata.org/bokeh/release/bokeh-tables-0.12.16.min.js\", \"https://cdn.pydata.org/bokeh/release/bokeh-gl-0.12.16.min.js\"];\n\n  var inline_js = [\n    function(Bokeh) {\n      Bokeh.set_log_level(\"info\");\n    },\n    \n    function(Bokeh) {\n      \n    },\n    function(Bokeh) {\n      console.log(\"Bokeh: injecting CSS: https://cdn.pydata.org/bokeh/release/bokeh-0.12.16.min.css\");\n      Bokeh.embed.inject_css(\"https://cdn.pydata.org/bokeh/release/bokeh-0.12.16.min.css\");\n      console.log(\"Bokeh: injecting CSS: https://cdn.pydata.org/bokeh/release/bokeh-widgets-0.12.16.min.css\");\n      Bokeh.embed.inject_css(\"https://cdn.pydata.org/bokeh/release/bokeh-widgets-0.12.16.min.css\");\n      console.log(\"Bokeh: injecting CSS: https://cdn.pydata.org/bokeh/release/bokeh-tables-0.12.16.min.css\");\n      Bokeh.embed.inject_css(\"https://cdn.pydata.org/bokeh/release/bokeh-tables-0.12.16.min.css\");\n    }\n  ];\n\n  function run_inline_js() {\n    \n    if ((root.Bokeh !== undefined) || (force === true)) {\n      for (var i = 0; i < inline_js.length; i++) {\n        inline_js[i].call(root, root.Bokeh);\n      }if (force === true) {\n        display_loaded();\n      }} else if (Date.now() < root._bokeh_timeout) {\n      setTimeout(run_inline_js, 100);\n    } else if (!root._bokeh_failed_load) {\n      console.log(\"Bokeh: BokehJS failed to load within specified timeout.\");\n      root._bokeh_failed_load = true;\n    } else if (force !== true) {\n      var cell = $(document.getElementById(\"6e5e462d-c722-4195-995f-1dca1230bb45\")).parents('.cell').data().cell;\n      cell.output_area.append_execute_result(NB_LOAD_WARNING)\n    }\n\n  }\n\n  if (root._bokeh_is_loading === 0) {\n    console.log(\"Bokeh: BokehJS loaded, going straight to plotting\");\n    run_inline_js();\n  } else {\n    load_libs(js_urls, function() {\n      console.log(\"Bokeh: BokehJS plotting callback run at\", now());\n      run_inline_js();\n    });\n  }\n}(window));"
     },
     "metadata": {},
     "output_type": "display_data"
    }
   ],
   "source": [
    "output_notebook()"
   ]
  },
  {
   "cell_type": "code",
   "execution_count": 333,
   "metadata": {
    "collapsed": true
   },
   "outputs": [],
   "source": [
    "ATMPRO = dict(mls=294, saw=257, trp=300)"
   ]
  },
  {
   "cell_type": "code",
   "execution_count": 334,
   "metadata": {
    "collapsed": true
   },
   "outputs": [],
   "source": [
    "COMMITNUMBER = '1013f91'"
   ]
  },
  {
   "cell_type": "code",
   "execution_count": 335,
   "metadata": {
    "collapsed": true
   },
   "outputs": [],
   "source": [
    "client = pymongo.MongoClient('localhost', 27017)"
   ]
  },
  {
   "cell_type": "code",
   "execution_count": 336,
   "metadata": {
    "collapsed": true
   },
   "outputs": [],
   "source": [
    "def to_lblnewparam(param=None):\n",
    "    '''\n",
    "    Convert clirad's input parameter dictionary \n",
    "    into something like lblnew's.\n",
    "    '''\n",
    "    band = param['band'][0]\n",
    "    band = mapband_new2old()[band]\n",
    "    atmpro = param['atmpro']\n",
    "    tsfc = param['tsfc']\n",
    "    \n",
    "    p = {'band': band, \n",
    "         'atmpro': atmpro, 'tsfc': tsfc,\n",
    "         'dv': .001, 'nv': 1000}\n",
    "    \n",
    "    if len(param['molecule']) > 1: p['molecule'] = param['molecule']\n",
    "    else: \n",
    "        molecule, conc = list(param['molecule'].items())[0]\n",
    "        p['molecule'] = molecule\n",
    "        if conc == 'atmpro': p['conc'] = None\n",
    "        else: p['conc'] = conc\n",
    "    return p\n",
    "\n",
    "def make_query(param=None):\n",
    "    q = {}\n",
    "    for n, v in param.items():\n",
    "        if n == 'molecule' and type(v) == dict:\n",
    "            for mol, conc in v.items():\n",
    "                q[f'param.molecule.{mol}'] = conc\n",
    "        else:\n",
    "            q[f'param.{n}'] = v\n",
    "    return q"
   ]
  },
  {
   "cell_type": "code",
   "execution_count": 337,
   "metadata": {},
   "outputs": [],
   "source": [
    "def subparam_atm_clirad(atmpro='mls'):\n",
    "    commitnumber = COMMITNUMBER\n",
    "    atm = nongreys_byband()\n",
    "    band = list(atm.keys())\n",
    "    molecule = {mol: conc for _, molconcs in atm.items() \n",
    "                for mol, conc in molconcs.items()}\n",
    "    return dict(commitnumber=commitnumber,\n",
    "                band=band, molecule=molecule, \n",
    "                atmpro=atmpro, tsfc=ATMPRO[atmpro])\n",
    "\n",
    "def clirad_data_atm(params_atm=None):\n",
    "    for p in params_atm:\n",
    "        q = make_query(p)\n",
    "        r = client.cliradnew.lw.find_one(q)\n",
    "        fluxs, cools = [], []\n",
    "        if not r: print('No data found for', p['molecule'], p['band'])\n",
    "        else: \n",
    "            fluxs.append(load_output_file(io.StringIO(r['output_flux'])))\n",
    "            cools.append(load_output_file(io.StringIO(r['output_coolr'])))\n",
    "    return dict(flux=sum(fluxs), cool=sum(cools))"
   ]
  },
  {
   "cell_type": "code",
   "execution_count": 338,
   "metadata": {
    "scrolled": false
   },
   "outputs": [],
   "source": [
    "def load_lblnew_data(r):\n",
    "    '''\n",
    "    Loads a lblnew-bestfit mongodb document's fluxes and cooling rates.\n",
    "    '''\n",
    "    if 'ng_refs' in r['param']:\n",
    "        ns = {'ds_flux_crd': 'output_flux',\n",
    "              'ds_cool_crd': 'output_coolr',\n",
    "              'ds_flux_wgt': 'output_wfluxg',\n",
    "              'ds_cool_wgt': 'output_wcoolrg'}\n",
    "    else:\n",
    "        ns = {'ds_flux_crd': 'output_flux',\n",
    "              'ds_cool_crd': 'output_coolr',\n",
    "              'ds_flux_wgt': 'output_wflux',\n",
    "              'ds_cool_wgt': 'output_wcoolr'}\n",
    "    return {n: load_output_file(io.StringIO(r[s])) for n, s in ns.items()}\n",
    "\n",
    "def subparams_atm_lblnew(atmpro='mls'):\n",
    "    '''\n",
    "    Returns the list of {band, conc, molecule} dictionaries that\n",
    "    represent the model atmosphere.\n",
    "    '''  \n",
    "    atm = nongreys_byband()\n",
    "    subparams_clirad = [dict(band=[band], molecule=molconc,\n",
    "                             atmpro=atmpro, tsfc=ATMPRO[atmpro]) \n",
    "                        for band, molconc in atm.items()]\n",
    "    return [to_lblnewparam(p) for p in subparams_clirad]\n",
    "\n",
    "def crd_data_atm(params_atm=None):\n",
    "    '''\n",
    "    Returns Dataset containing CRD fluxes and cooling rates at\n",
    "    different pressures and spectral bands.\n",
    "    '''\n",
    "    results_atm = {}\n",
    "    for p in params_atm:\n",
    "        if isinstance(p['molecule'], dict): \n",
    "            collection = client.lblnew.overlap_lw\n",
    "        else: \n",
    "            collection = client.lblnew.bestfit_lw\n",
    "        \n",
    "        q = make_query(p)\n",
    "        r = collection.find_one(q)\n",
    "        if not r: print('No data found for', p['molecule'], p['band'])\n",
    "        else: results_atm[r['param']['band']] = load_lblnew_data(r)\n",
    "\n",
    "    bands = [mapband_old2new()[b] for b, _ in results_atm.items()]\n",
    "    fluxs = [d['ds_flux_crd'] for _, d in results_atm.items()]\n",
    "    cools = [d['ds_cool_crd'] for _, d in results_atm.items()]\n",
    "    \n",
    "    d = {}\n",
    "    d['flux'] = xr.concat(fluxs, dim=bands).rename({'concat_dim': 'band'})\n",
    "    d['cool'] = xr.concat(cools, dim=bands).rename({'concat_dim': 'band'})\n",
    "    return d"
   ]
  },
  {
   "cell_type": "code",
   "execution_count": 339,
   "metadata": {
    "collapsed": true
   },
   "outputs": [],
   "source": [
    "import rtmtools.clirad.sw.wrangle as cliradwrangle\n",
    "\n",
    "def oldclirad_data_atm():\n",
    "    '''\n",
    "    Load the OLD clirad's results. mls only.\n",
    "    '''\n",
    "    fpath = os.path.join('/chia_cluster/home/jackyu/radiation',\n",
    "                         'clirad-lw',\n",
    "                         'LW',\n",
    "                         'examples',\n",
    "                         'mls75_h2o_atmpro_co2_.0004_o3_atmpro_n2o_3.2e-7_ch4_1.8e-6_H2012',\n",
    "                         'OUTPUT_CLIRAD.dat')\n",
    "    \n",
    "    ds = cliradwrangle.load_OUTPUT_CLIRAD(readfrom=fpath)\n",
    "    \n",
    "    ds_cool = xr.Dataset()\n",
    "    ds_cool.coords['pressure'] = ('pressure', ds['layer_pressure'])\n",
    "    ds_cool.coords['band'] = ('band', ds['spectral_band'])\n",
    "    ds_cool['coolrg'] = (('band', 'pressure'), - ds['heating_rate'])\n",
    "    \n",
    "    ds_flux = xr.Dataset()\n",
    "    ds_flux.coords['pressure'] = ('pressure', ds['level_pressure'])\n",
    "    ds_flux.coords['band'] = ('band', ds['spectral_band'])\n",
    "    ds_flux['flug'] = (('band', 'pressure'), ds['flux_up'])\n",
    "    ds_flux['fldg'] = (('band', 'pressure'), ds['flux_down'])\n",
    "    ds_flux['fnetg'] = (('band', 'pressure'), ds['net_flux'])\n",
    "    \n",
    "    \n",
    "    d = {}\n",
    "    d['cool'] = ds_cool\n",
    "    d['flux'] = ds_flux\n",
    "    return d"
   ]
  },
  {
   "cell_type": "code",
   "execution_count": 340,
   "metadata": {
    "collapsed": true
   },
   "outputs": [],
   "source": [
    "def show_makeup():\n",
    "    df = pd.DataFrame()\n",
    "\n",
    "    for band, molecule in nongreys_byband().items():\n",
    "        for name, conc in molecule.items():\n",
    "            df.loc[name, band] = str(conc)\n",
    "\n",
    "    df = df.fillna(0)\n",
    "    df.columns.name = 'clirad band'\n",
    "    df.index.name = 'molecule'\n",
    "    \n",
    "    display.display(df)\n",
    "    \n",
    "    display.display(\n",
    "        display.Markdown('*TABLE.* Non-grey absorbers in the atmosphere.'))\n",
    "\n",
    "\n",
    "def show_grey_makeup():\n",
    "    df = pd.DataFrame()\n",
    "    \n",
    "    for band, molecule in greyabsorbers_by_band_atm().items():\n",
    "        if molecule == None:\n",
    "            pass\n",
    "        else:\n",
    "            for name, conc in molecule.items():\n",
    "                df.loc[name, band] = str(conc)\n",
    "                \n",
    "    df = df.fillna(0)\n",
    "    df.columns.name = 'clirad band'\n",
    "    df.index.name = 'absorber'\n",
    "    \n",
    "    display.display(df)\n",
    "    display.display(\n",
    "        display.Markdown('*TABLE.* Grey absorbers in the atmosphere.')\n",
    "    )"
   ]
  },
  {
   "cell_type": "code",
   "execution_count": 341,
   "metadata": {
    "collapsed": true
   },
   "outputs": [],
   "source": [
    "def fmt_cool(ds_in):\n",
    "    ds = ds_in.copy(deep=True)\n",
    "    dims = ['igg', 'g', 'i']\n",
    "    for dim in dims:\n",
    "        if dim in ds:\n",
    "            if ds[dim].shape == (1,): ds = ds.squeeze(dim).drop(dim)\n",
    "            elif ds[dim].shape == (): ds = ds.drop(dim)\n",
    "    if 'band' in ds.dims:\n",
    "        try:\n",
    "            ds = ds.squeeze('band')\n",
    "        except ValueError:\n",
    "            ds = ds.sum('band')     \n",
    "    return ds['coolrg']\n",
    "\n",
    "def nice_xlims(pltdata=None, prange=None):\n",
    "    \n",
    "    def get_slice(srs):\n",
    "        return srs.sel(pressure=slice(*prange))\n",
    "    \n",
    "    srss = [d['srs'] for d in pltdata]\n",
    "    vmin = min([get_slice(srs).min() for srs in srss])\n",
    "    vmax = max([get_slice(srs).max() for srs in srss])\n",
    "    dv = (vmax - vmin) * .01\n",
    "    return float(vmin - dv), float(vmax + dv)\n",
    "\n",
    "\n",
    "    \n",
    "def plt_cool_bokeh(pltdata=None, \n",
    "                   y_axis_type='linear', prange=(50, 1050)):\n",
    "    \n",
    "    ymin = 1e-2 \n",
    "    ymax = 1020\n",
    "    \n",
    "    p2 = figure(y_axis_type=y_axis_type, plot_width=300)\n",
    "    xmin, xmax = nice_xlims(pltdata, prange=prange)\n",
    "    \n",
    "    rs = []\n",
    "    for d in pltdata:\n",
    "        rd = []\n",
    "        if 'marker' in d:\n",
    "            r_mark = getattr(p2, d['marker'])(d['srs'].values, \n",
    "                        d['srs'].coords['pressure'].values,\n",
    "                        color=d['color'], alpha=.7)\n",
    "            rd.append(r_mark)\n",
    "        r_line = p2.line(d['srs'].values, \n",
    "                         d['srs'].coords['pressure'].values,\n",
    "                         color=d['color'], alpha=d['alpha'], \n",
    "                         line_width=d['line_width'], \n",
    "                         line_dash=d['line_dash'])\n",
    "        rd.append(r_line)\n",
    "      \n",
    "        rs.append(rd)\n",
    "        \n",
    "    p2.y_range = Range1d(ymax, ymin)  \n",
    "    p2.yaxis.axis_label = 'pressure [mb]'\n",
    "    \n",
    "    p2.x_range = Range1d(xmin, xmax)\n",
    "    p2.xaxis.axis_label = 'cooling rate [K/day]'\n",
    "    \n",
    "    items = [(d['label'], r) for r, d in zip(rs, pltdata)]\n",
    "    legend = Legend(items=items, location=(10, 0))\n",
    "    legend.label_text_font_size = '8pt'\n",
    "    p2.add_layout(legend, 'above')\n",
    "    p2.legend.orientation = 'horizontal'\n",
    "    p2.legend.location = 'top_center'\n",
    "    \n",
    "    return p2"
   ]
  },
  {
   "cell_type": "code",
   "execution_count": 342,
   "metadata": {
    "scrolled": false
   },
   "outputs": [],
   "source": [
    "def pltdata_cool(atmpro='mls'):\n",
    "    ds_clirad = clirad_data_atm(params_atm=[subparam_atm_clirad(atmpro=atmpro)])['cool']\n",
    "    ds_crd = crd_data_atm(params_atm=subparams_atm_lblnew(atmpro=atmpro))['cool']\n",
    "\n",
    "    colors = all_palettes['Set1'][4]\n",
    "    \n",
    "    data = [\n",
    "        {'label': 'CLIRAD',\n",
    "         'srs': fmt_cool(ds_clirad),\n",
    "         'line_dash': 'dashed', 'line_width': 5,\n",
    "         'color': colors[0], 'alpha': .6},\n",
    "        {'label': 'CRD',\n",
    "         'srs': fmt_cool(ds_crd),\n",
    "         'line_dash': 'solid', 'line_width': 1.5,\n",
    "         'marker': 'circle', 'marker_size': 5,\n",
    "         'color': colors[2], 'alpha': 1}\n",
    "    ]\n",
    "    \n",
    "    # include old CLIRAD's results for mls profile\n",
    "    if atmpro == 'mls':\n",
    "        d_oldclirad = oldclirad_data_atm()\n",
    "        ds_oldclirad = d_oldclirad['cool']        \n",
    "        data.append(\n",
    "            {'label': 'old CLIRAD (H2012)',\n",
    "             'srs': fmt_cool(ds_oldclirad),\n",
    "             'line_dash': 'solid', 'line_width': 1.5,\n",
    "             'marker': 'square', 'marker_size': 3,\n",
    "             'color': colors[3], 'alpha': .5})\n",
    "    return data\n",
    "\n",
    "\n",
    "def pltdata_cooldiff(atmpro='mls'):\n",
    "    ds_clirad = clirad_data_atm(params_atm=[subparam_atm_clirad(atmpro=atmpro)])['cool']\n",
    "    ds_crd = crd_data_atm(params_atm=subparams_atm_lblnew(atmpro=atmpro))['cool']    \n",
    "    \n",
    "    ds_diff = ds_clirad - ds_crd\n",
    "    \n",
    "    colors = all_palettes['Set1'][4]\n",
    "    \n",
    "    data = [\n",
    "        {'label': 'CLIRAD - CRD',\n",
    "         'srs': fmt_cool(ds_diff),\n",
    "         'line_dash': 'solid', 'line_width': 1.5, \n",
    "         'marker': 'circle', 'marker_size': 7,\n",
    "         'color': colors[3], 'alpha': .8}\n",
    "    ]\n",
    "    \n",
    "    # include old CLIRAD's results for mls profile\n",
    "    if atmpro == 'mls':\n",
    "        d_oldclirad = oldclirad_data_atm()\n",
    "        ds_oldclirad = d_oldclirad['cool']\n",
    "        ds_oldclirad.coords['pressure'] = ds_crd.coords['pressure']\n",
    "        ds_diff_old = ds_oldclirad.sum('band') - ds_crd.sum('band')\n",
    "        data.append(\n",
    "            {'label': 'old CLIRAD (H2012) - CRD',\n",
    "             'srs': fmt_cool(ds_diff_old),\n",
    "             'line_dash': 'dashed', 'line_width': 4,\n",
    "             'color': colors[1], 'alpha': .5}\n",
    "        )\n",
    "    return data\n",
    "\n",
    "\n",
    "def show_cool(atmpro='mls'):\n",
    "    data_cool = pltdata_cool(atmpro=atmpro)\n",
    "    p_cool_liny = plt_cool_bokeh(pltdata=data_cool)\n",
    "    p_cool_logy = plt_cool_bokeh(pltdata=data_cool, \n",
    "                                 y_axis_type='log',\n",
    "                                 prange=(.01, 200))\n",
    "    \n",
    "    data_cooldiff = pltdata_cooldiff(atmpro=atmpro)\n",
    "    p_cooldiff_logy = plt_cool_bokeh(pltdata=data_cooldiff,\n",
    "                                     y_axis_type='log',\n",
    "                                     prange=(.01, 200))\n",
    "    \n",
    "    everything = gridplot(p_cool_liny, p_cool_logy, \n",
    "                          p_cooldiff_logy,\n",
    "                          ncols=3)\n",
    "    show(everything)\n",
    "    display.display(\n",
    "        display.Markdown('*FIGURE.* Cooling rates & difference.'))\n",
    "    "
   ]
  },
  {
   "cell_type": "code",
   "execution_count": null,
   "metadata": {
    "collapsed": true
   },
   "outputs": [],
   "source": []
  },
  {
   "cell_type": "code",
   "execution_count": 343,
   "metadata": {
    "scrolled": false
   },
   "outputs": [],
   "source": [
    "def fmt_flux(ds_in):\n",
    "    ds = ds_in.copy(deep=True)\n",
    "    for dim in ['band', 'g']:\n",
    "        if dim in ds: ds = ds.sum(dim)\n",
    "        \n",
    "    for dim in ['i', 'igg', 'g']:\n",
    "        if dim in ds:\n",
    "            if ds[dim].shape == (1,): ds = ds.squeeze(dim).drop(dim)\n",
    "            elif ds[dim].shape == (): ds = ds.drop(dim)\n",
    "    return ds\n",
    "\n",
    "def hist_band_vs_flux(da, title='Title'):\n",
    "    da = da.sel(i=1)\n",
    "    bands = [str(b.values) for b in da['band']]\n",
    "    source = ColumnDataSource(data={'band': bands, 'flux': da.values})\n",
    "    p = figure(x_range=bands, title=title)\n",
    "    p.vbar(source=source, x='band', top='flux', width=.9)\n",
    "    p.yaxis.axis_label = 'flux (W m-2)'\n",
    "    p.xaxis.axis_label = 'spectral band'\n",
    "    return p\n",
    "\n",
    "def show_hist_flux(atmpro='mls'):\n",
    "    ds_crd = crd_data_atm(params_atm=subparams_atm_lblnew(atmpro=atmpro))['flux']\n",
    "    ds_clirad = clirad_data_atm(params_atm=[subparam_atm_clirad(atmpro=atmpro)])['flux']\n",
    "    \n",
    "    ip, varname = 0, 'flug'\n",
    "    da = (ds_clirad - ds_crd).isel(pressure=ip)[varname]\n",
    "    p_toa = hist_band_vs_flux(da, title='TOA flux. CLIRAD - CRD.')\n",
    "\n",
    "    ip, varname = -1, 'fldg'\n",
    "    da = (ds_clirad - ds_crd).isel(pressure=ip)[varname]\n",
    "    p_sfc = hist_band_vs_flux(da, title='SFC flux. CLIRAD - CRD.')    \n",
    "    \n",
    "    atm_crd = (ds_crd.isel(pressure=0) - ds_crd.isel(pressure=-1))['fnetg']\n",
    "    atm_clirad = (ds_clirad.isel(pressure=0) - ds_clirad.isel(pressure=-1))['fnetg']\n",
    "    da = atm_clirad - atm_crd\n",
    "    p_atm = hist_band_vs_flux(da, title='Atmosphere heating. CLIRAD - CRD.')\n",
    "\n",
    "    everything = gridplot(p_toa, p_sfc, p_atm, ncols=3, plot_width=300, plot_height=300)\n",
    "    \n",
    "    show(everything)\n",
    "    display.display(\n",
    "        display.Markdown('*FIGURE.* Difference between CLIRAD and CRD'\n",
    "          ' in TOA, SFC and net atmosphere flux,'\n",
    "          ' in each spectral band.'))\n",
    "\n",
    "def show_tb_flux(atmpro='mls'):\n",
    "    \n",
    "    def fmt(da_in):\n",
    "        da = da_in.copy(deep=True)\n",
    "        if 'igg' in da.dims:\n",
    "            da = da.sel(igg=1)\n",
    "            \n",
    "        if 'g' in da.dims:\n",
    "            da = da.sum('g')\n",
    "        \n",
    "        if 'band' in da.dims:\n",
    "            try:\n",
    "                da = da.squeeze('band')\n",
    "            except ValueError:\n",
    "                da = da.sum('band')\n",
    "                \n",
    "        return da\n",
    "    \n",
    "    ds_crd = crd_data_atm(params_atm=subparams_atm_lblnew(atmpro=atmpro))['flux']\n",
    "    olr_crd = ds_crd['flug'].isel(pressure=0)\n",
    "    sfc_crd = ds_crd['fldg'].isel(pressure=-1)\n",
    "    atm_crd = (ds_crd.isel(pressure=0) - ds_crd.isel(pressure=-1))['fnetg']\n",
    "    \n",
    "    ds_clirad = clirad_data_atm(params_atm=[subparam_atm_clirad(atmpro=atmpro)])['flux']\n",
    "    olr_clirad = ds_clirad['flug'].isel(pressure=0)\n",
    "    sfc_clirad = ds_clirad['fldg'].isel(pressure=-1)\n",
    "    atm_clirad = (ds_clirad.isel(pressure=0) - ds_clirad.isel(pressure=-1))['fnetg']\n",
    "  \n",
    "    if atmpro == 'mls':\n",
    "        ds_oldclirad = oldclirad_data_atm()['flux']\n",
    "        ds_oldclirad['pressure'] = ds_crd['pressure']\n",
    "        olr_oldclirad = ds_oldclirad['flug'].isel(pressure=0)\n",
    "        sfc_oldclirad = ds_oldclirad['fldg'].isel(pressure=-1)\n",
    "        atm_oldclirad = (ds_oldclirad.isel(pressure=0)\n",
    "                         - ds_oldclirad.isel(pressure=-1))['fnetg']\n",
    "        \n",
    "    df = pd.DataFrame()\n",
    "    df.index.name = 'Sum over bands'\n",
    "    \n",
    "    if atmpro == 'mls':\n",
    "        df.loc['old CLIRAD - CRD', 'OLR flux'] = (fmt(olr_oldclirad) - fmt(olr_crd)).values\n",
    "        df.loc['old CLIRAD - CRD', 'SFC flux'] = (fmt(sfc_oldclirad) - fmt(sfc_crd)).values\n",
    "        df.loc['old CLIRAD - CRD', 'ATM heating'] = (fmt(atm_oldclirad) - fmt(atm_crd)).values\n",
    "    \n",
    "    df.loc['CLIRAD - CRD', 'OLR flux'] = (fmt(olr_clirad) - fmt(olr_crd)).values\n",
    "    df.loc['CLIRAD - CRD', 'SFC flux'] = (fmt(sfc_clirad) - fmt(sfc_crd)).values\n",
    "    df.loc['CLIRAD - CRD', 'ATM heating'] = (fmt(atm_clirad) - fmt(atm_crd)).values\n",
    "\n",
    "    df.loc['CRD', 'OLR flux'] = fmt(olr_crd).values\n",
    "    df.loc['CRD', 'SFC flux'] = fmt(sfc_crd).values\n",
    "    df.loc['CRD', 'ATM heating'] = fmt(atm_crd).values\n",
    "        \n",
    "    df = df.astype('float').round(2)\n",
    "    \n",
    "    display.display(df)\n",
    "    display.display(\n",
    "        display.Markdown('*TABLE.* Difference between CLIRAD and CRD'\n",
    "          ' in TOA, SFC and net atmosphere flux,'\n",
    "          ' over all spectral bands. CRD\\'s'\n",
    "          ' TOA, SFC and net atmosphere flux,'\n",
    "          ' over all spectral bands.'))"
   ]
  },
  {
   "cell_type": "code",
   "execution_count": 344,
   "metadata": {
    "scrolled": false
   },
   "outputs": [
    {
     "data": {
      "text/markdown": [
       "## Results over entire range of molecules and spectral bands"
      ],
      "text/plain": [
       "<IPython.core.display.Markdown object>"
      ]
     },
     "metadata": {},
     "output_type": "display_data"
    },
    {
     "data": {
      "text/markdown": [
       "### Table of Contents"
      ],
      "text/plain": [
       "<IPython.core.display.Markdown object>"
      ]
     },
     "metadata": {},
     "output_type": "display_data"
    },
    {
     "data": {
      "text/html": [
       "<a href=\"#Makeup_of_atmosphere.\">Makeup of atmosphere.</a>"
      ],
      "text/plain": [
       "<IPython.core.display.HTML object>"
      ]
     },
     "metadata": {},
     "output_type": "display_data"
    },
    {
     "data": {
      "text/markdown": [
       "**mid-latitude summer**"
      ],
      "text/plain": [
       "<IPython.core.display.Markdown object>"
      ]
     },
     "metadata": {},
     "output_type": "display_data"
    },
    {
     "data": {
      "text/html": [
       "<a href=\"#Cooling_rates._mls.\">Cooling rates. mls.</a>"
      ],
      "text/plain": [
       "<IPython.core.display.HTML object>"
      ]
     },
     "metadata": {},
     "output_type": "display_data"
    },
    {
     "data": {
      "text/html": [
       "<a href=\"#Fluxes._mls.\">Fluxes. mls.</a>"
      ],
      "text/plain": [
       "<IPython.core.display.HTML object>"
      ]
     },
     "metadata": {},
     "output_type": "display_data"
    },
    {
     "data": {
      "text/markdown": [
       "**sub-arctic winter**"
      ],
      "text/plain": [
       "<IPython.core.display.Markdown object>"
      ]
     },
     "metadata": {},
     "output_type": "display_data"
    },
    {
     "data": {
      "text/html": [
       "<a href=\"#Cooling_rates._saw.\">Cooling rates. saw.</a>"
      ],
      "text/plain": [
       "<IPython.core.display.HTML object>"
      ]
     },
     "metadata": {},
     "output_type": "display_data"
    },
    {
     "data": {
      "text/html": [
       "<a href=\"#Fluxes._saw.\">Fluxes. saw.</a>"
      ],
      "text/plain": [
       "<IPython.core.display.HTML object>"
      ]
     },
     "metadata": {},
     "output_type": "display_data"
    },
    {
     "data": {
      "text/markdown": [
       "**tropical**"
      ],
      "text/plain": [
       "<IPython.core.display.Markdown object>"
      ]
     },
     "metadata": {},
     "output_type": "display_data"
    },
    {
     "data": {
      "text/html": [
       "<a href=\"#Cooling_rates._trp.\">Cooling rates. trp.</a>"
      ],
      "text/plain": [
       "<IPython.core.display.HTML object>"
      ]
     },
     "metadata": {},
     "output_type": "display_data"
    },
    {
     "data": {
      "text/html": [
       "<a href=\"#Fluxes._trp.\">Fluxes. trp.</a>"
      ],
      "text/plain": [
       "<IPython.core.display.HTML object>"
      ]
     },
     "metadata": {},
     "output_type": "display_data"
    },
    {
     "data": {
      "text/html": [
       "<a id=\"Makeup_of_atmosphere.\"></a>"
      ],
      "text/plain": [
       "<IPython.core.display.HTML object>"
      ]
     },
     "metadata": {},
     "output_type": "display_data"
    },
    {
     "data": {
      "text/markdown": [
       "# Makeup of atmosphere."
      ],
      "text/plain": [
       "<IPython.core.display.Markdown object>"
      ]
     },
     "metadata": {},
     "output_type": "display_data"
    },
    {
     "data": {
      "text/html": [
       "<div>\n",
       "<style scoped>\n",
       "    .dataframe tbody tr th:only-of-type {\n",
       "        vertical-align: middle;\n",
       "    }\n",
       "\n",
       "    .dataframe tbody tr th {\n",
       "        vertical-align: top;\n",
       "    }\n",
       "\n",
       "    .dataframe thead th {\n",
       "        text-align: right;\n",
       "    }\n",
       "</style>\n",
       "<table border=\"1\" class=\"dataframe\">\n",
       "  <thead>\n",
       "    <tr style=\"text-align: right;\">\n",
       "      <th>clirad band</th>\n",
       "      <th>1</th>\n",
       "      <th>2</th>\n",
       "      <th>3</th>\n",
       "      <th>4</th>\n",
       "      <th>5</th>\n",
       "      <th>6</th>\n",
       "      <th>7</th>\n",
       "      <th>8</th>\n",
       "      <th>9</th>\n",
       "      <th>10</th>\n",
       "      <th>11</th>\n",
       "    </tr>\n",
       "    <tr>\n",
       "      <th>molecule</th>\n",
       "      <th></th>\n",
       "      <th></th>\n",
       "      <th></th>\n",
       "      <th></th>\n",
       "      <th></th>\n",
       "      <th></th>\n",
       "      <th></th>\n",
       "      <th></th>\n",
       "      <th></th>\n",
       "      <th></th>\n",
       "      <th></th>\n",
       "    </tr>\n",
       "  </thead>\n",
       "  <tbody>\n",
       "    <tr>\n",
       "      <th>h2o</th>\n",
       "      <td>atmpro</td>\n",
       "      <td>atmpro</td>\n",
       "      <td>atmpro</td>\n",
       "      <td>atmpro</td>\n",
       "      <td>atmpro</td>\n",
       "      <td>atmpro</td>\n",
       "      <td>atmpro</td>\n",
       "      <td>atmpro</td>\n",
       "      <td>atmpro</td>\n",
       "      <td>atmpro</td>\n",
       "      <td>atmpro</td>\n",
       "    </tr>\n",
       "    <tr>\n",
       "      <th>co2</th>\n",
       "      <td>0</td>\n",
       "      <td>0</td>\n",
       "      <td>0.0004</td>\n",
       "      <td>0.0004</td>\n",
       "      <td>0.0004</td>\n",
       "      <td>0.0004</td>\n",
       "      <td>0.0004</td>\n",
       "      <td>0</td>\n",
       "      <td>0</td>\n",
       "      <td>0</td>\n",
       "      <td>0.0004</td>\n",
       "    </tr>\n",
       "    <tr>\n",
       "      <th>n2o</th>\n",
       "      <td>0</td>\n",
       "      <td>0</td>\n",
       "      <td>3.2e-07</td>\n",
       "      <td>0</td>\n",
       "      <td>0</td>\n",
       "      <td>0</td>\n",
       "      <td>0</td>\n",
       "      <td>0</td>\n",
       "      <td>3.2e-07</td>\n",
       "      <td>0</td>\n",
       "      <td>0</td>\n",
       "    </tr>\n",
       "    <tr>\n",
       "      <th>o3</th>\n",
       "      <td>0</td>\n",
       "      <td>0</td>\n",
       "      <td>0</td>\n",
       "      <td>0</td>\n",
       "      <td>0</td>\n",
       "      <td>0</td>\n",
       "      <td>atmpro</td>\n",
       "      <td>0</td>\n",
       "      <td>0</td>\n",
       "      <td>0</td>\n",
       "      <td>0</td>\n",
       "    </tr>\n",
       "    <tr>\n",
       "      <th>ch4</th>\n",
       "      <td>0</td>\n",
       "      <td>0</td>\n",
       "      <td>0</td>\n",
       "      <td>0</td>\n",
       "      <td>0</td>\n",
       "      <td>0</td>\n",
       "      <td>0</td>\n",
       "      <td>0</td>\n",
       "      <td>1.8e-06</td>\n",
       "      <td>0</td>\n",
       "      <td>0</td>\n",
       "    </tr>\n",
       "  </tbody>\n",
       "</table>\n",
       "</div>"
      ],
      "text/plain": [
       "clirad band      1       2        3       4       5       6       7       8   \\\n",
       "molecule                                                                       \n",
       "h2o          atmpro  atmpro   atmpro  atmpro  atmpro  atmpro  atmpro  atmpro   \n",
       "co2               0       0   0.0004  0.0004  0.0004  0.0004  0.0004       0   \n",
       "n2o               0       0  3.2e-07       0       0       0       0       0   \n",
       "o3                0       0        0       0       0       0  atmpro       0   \n",
       "ch4               0       0        0       0       0       0       0       0   \n",
       "\n",
       "clirad band       9       10      11  \n",
       "molecule                              \n",
       "h2o           atmpro  atmpro  atmpro  \n",
       "co2                0       0  0.0004  \n",
       "n2o          3.2e-07       0       0  \n",
       "o3                 0       0       0  \n",
       "ch4          1.8e-06       0       0  "
      ]
     },
     "metadata": {},
     "output_type": "display_data"
    },
    {
     "data": {
      "text/markdown": [
       "*TABLE.* Non-grey absorbers in the atmosphere."
      ],
      "text/plain": [
       "<IPython.core.display.Markdown object>"
      ]
     },
     "metadata": {},
     "output_type": "display_data"
    },
    {
     "data": {
      "text/html": [
       "<a id=\"Cooling_rates._mls.\"></a>"
      ],
      "text/plain": [
       "<IPython.core.display.HTML object>"
      ]
     },
     "metadata": {},
     "output_type": "display_data"
    },
    {
     "data": {
      "text/markdown": [
       "# Cooling rates. mls."
      ],
      "text/plain": [
       "<IPython.core.display.Markdown object>"
      ]
     },
     "metadata": {},
     "output_type": "display_data"
    },
    {
     "data": {
      "text/html": [
       "\n",
       "<div class=\"bk-root\">\n",
       "    <div class=\"bk-plotdiv\" id=\"265ea9b9-7d95-4309-bfd5-84d8a9e0443d\"></div>\n",
       "</div>"
      ]
     },
     "metadata": {},
     "output_type": "display_data"
    },
    {
     "data": {
      "application/javascript": [
       "(function(root) {\n",
       "  function embed_document(root) {\n",
       "    \n",
       "  var docs_json = {\"9ad4af1a-9a08-4fa4-8dbf-7fcc34869971\":{\"roots\":{\"references\":[{\"attributes\":{},\"id\":\"871770f3-0f69-4ee8-873b-679adfa8294d\",\"type\":\"BasicTickFormatter\"},{\"attributes\":{\"dimension\":1,\"plot\":{\"id\":\"3e4a136e-8000-4863-8b13-bb65a5d4ad04\",\"subtype\":\"Figure\",\"type\":\"Plot\"},\"ticker\":{\"id\":\"7954ba0f-4fd4-45bf-9b69-c99c32bfb730\",\"type\":\"BasicTicker\"}},\"id\":\"38fdb413-35bf-49b9-b4b1-644c241026df\",\"type\":\"Grid\"},{\"attributes\":{},\"id\":\"1b9a8642-13e2-4621-a064-c6a28257465f\",\"type\":\"UnionRenderers\"},{\"attributes\":{},\"id\":\"8d285970-e63d-483a-9f30-cb16f9e1bf21\",\"type\":\"LinearScale\"},{\"attributes\":{},\"id\":\"f898c0c5-a0fc-4997-80ae-ac00533fa399\",\"type\":\"Selection\"},{\"attributes\":{},\"id\":\"60997f5c-3335-40bb-8c4c-766fe195fde2\",\"type\":\"Selection\"},{\"attributes\":{\"axis_label\":\"cooling rate [K/day]\",\"formatter\":{\"id\":\"7bf6257d-21b8-48a5-8d15-b6c9bc77009e\",\"type\":\"BasicTickFormatter\"},\"plot\":{\"id\":\"acabe79e-93ec-41b0-90aa-d5b988804436\",\"subtype\":\"Figure\",\"type\":\"Plot\"},\"ticker\":{\"id\":\"341ab0e1-c84c-4783-8fa9-b6c428b55c2b\",\"type\":\"BasicTicker\"}},\"id\":\"183d58d2-86e4-49ae-852a-c8b99095962c\",\"type\":\"LinearAxis\"},{\"attributes\":{},\"id\":\"1f0b91e8-52d0-4b19-bc35-48743e4b9571\",\"type\":\"Selection\"},{\"attributes\":{},\"id\":\"c344211d-ec4d-433a-8a16-612f6b07a4c0\",\"type\":\"LinearScale\"},{\"attributes\":{\"callback\":null,\"end\":13.587161458933508,\"start\":-0.25094368234451},\"id\":\"fee7c63a-e797-4e1d-80c4-f54def1ea04c\",\"type\":\"Range1d\"},{\"attributes\":{\"axis_label\":\"pressure [mb]\",\"formatter\":{\"id\":\"ac78172b-4258-4b29-9e6c-40e91fdcd032\",\"type\":\"BasicTickFormatter\"},\"plot\":{\"id\":\"3e4a136e-8000-4863-8b13-bb65a5d4ad04\",\"subtype\":\"Figure\",\"type\":\"Plot\"},\"ticker\":{\"id\":\"7954ba0f-4fd4-45bf-9b69-c99c32bfb730\",\"type\":\"BasicTicker\"}},\"id\":\"c9fdc5aa-3502-4641-a4dd-420b93db83af\",\"type\":\"LinearAxis\"},{\"attributes\":{},\"id\":\"341ab0e1-c84c-4783-8fa9-b6c428b55c2b\",\"type\":\"BasicTicker\"},{\"attributes\":{},\"id\":\"bd07cd32-4344-4ea0-9afb-19dbaa1c71d9\",\"type\":\"LogScale\"},{\"attributes\":{\"plot\":{\"id\":\"acabe79e-93ec-41b0-90aa-d5b988804436\",\"subtype\":\"Figure\",\"type\":\"Plot\"},\"ticker\":{\"id\":\"341ab0e1-c84c-4783-8fa9-b6c428b55c2b\",\"type\":\"BasicTicker\"}},\"id\":\"320f303b-7bec-4bac-ae6f-29c05f7a52f3\",\"type\":\"Grid\"},{\"attributes\":{},\"id\":\"ac78172b-4258-4b29-9e6c-40e91fdcd032\",\"type\":\"BasicTickFormatter\"},{\"attributes\":{\"callback\":null,\"end\":2.3127264625221104,\"start\":-0.13931561307310997},\"id\":\"829098fc-1543-4835-9ae8-c9a4472de968\",\"type\":\"Range1d\"},{\"attributes\":{},\"id\":\"449ada1a-c28a-453f-af57-c688d4f8c56f\",\"type\":\"BasicTickFormatter\"},{\"attributes\":{\"children\":[{\"id\":\"f10a6238-3514-44b6-bc5a-1687cadf6d5a\",\"type\":\"Row\"}]},\"id\":\"d03c98a3-7844-4748-9e70-dd8992ad39dd\",\"type\":\"Column\"},{\"attributes\":{},\"id\":\"0a2a35ae-02fe-4709-b7ee-5ba87eec2f09\",\"type\":\"Selection\"},{\"attributes\":{},\"id\":\"c76dd86c-0596-4149-921e-fac01c7a0343\",\"type\":\"Selection\"},{\"attributes\":{},\"id\":\"7954ba0f-4fd4-45bf-9b69-c99c32bfb730\",\"type\":\"BasicTicker\"},{\"attributes\":{\"callback\":null,\"end\":0.01,\"start\":1020},\"id\":\"aa47de49-c34b-4c0d-8ec3-86c0bcfb3aca\",\"type\":\"Range1d\"},{\"attributes\":{},\"id\":\"e77b0e42-e5c9-47af-b95d-67d6528b3ede\",\"type\":\"UnionRenderers\"},{\"attributes\":{\"ticker\":null},\"id\":\"6082ac36-ab93-4381-985d-c5eb3ce4eb17\",\"type\":\"LogTickFormatter\"},{\"attributes\":{\"line_alpha\":0.6,\"line_color\":\"#e41a1c\",\"line_dash\":[6],\"line_width\":5,\"x\":{\"field\":\"x\"},\"y\":{\"field\":\"y\"}},\"id\":\"3c4f79e0-fe91-43e1-819a-8a9ce3630dd7\",\"type\":\"Line\"},{\"attributes\":{},\"id\":\"4681d15e-cf01-44bd-94d5-c2df59891fc6\",\"type\":\"UnionRenderers\"},{\"attributes\":{\"line_alpha\":0.1,\"line_color\":\"#1f77b4\",\"line_dash\":[6],\"line_width\":5,\"x\":{\"field\":\"x\"},\"y\":{\"field\":\"y\"}},\"id\":\"b37b4a77-44ba-4db8-aaf4-0d3a1fde775f\",\"type\":\"Line\"},{\"attributes\":{},\"id\":\"fa37190d-fa48-4f85-9f59-db03100b8364\",\"type\":\"UnionRenderers\"},{\"attributes\":{\"items\":[{\"id\":\"31bd8362-3476-499d-a68a-5da00fb65cd3\",\"type\":\"LegendItem\"},{\"id\":\"ce202835-85ef-48cc-a479-a755b0d4a11d\",\"type\":\"LegendItem\"},{\"id\":\"66224b4a-3fee-4d0d-abf1-132357490f7a\",\"type\":\"LegendItem\"}],\"label_text_font_size\":{\"value\":\"8pt\"},\"location\":\"top_center\",\"orientation\":\"horizontal\",\"plot\":{\"id\":\"acabe79e-93ec-41b0-90aa-d5b988804436\",\"subtype\":\"Figure\",\"type\":\"Plot\"}},\"id\":\"360de41b-3b59-4ec6-aef6-25bd8433ba7e\",\"type\":\"Legend\"},{\"attributes\":{\"fill_alpha\":{\"value\":0.1},\"fill_color\":{\"value\":\"#1f77b4\"},\"line_alpha\":{\"value\":0.1},\"line_color\":{\"value\":\"#1f77b4\"},\"x\":{\"field\":\"x\"},\"y\":{\"field\":\"y\"}},\"id\":\"b2d34cb8-368c-4894-9701-fdee58c7fff3\",\"type\":\"Circle\"},{\"attributes\":{},\"id\":\"7604e72d-f4e0-4881-8a7c-32efd3d6d8a3\",\"type\":\"PanTool\"},{\"attributes\":{\"line_alpha\":0.1,\"line_color\":\"#1f77b4\",\"line_dash\":[6],\"line_width\":4,\"x\":{\"field\":\"x\"},\"y\":{\"field\":\"y\"}},\"id\":\"f26e716f-fb32-47c8-86b6-b1dc97d94a67\",\"type\":\"Line\"},{\"attributes\":{\"label\":{\"value\":\"CRD\"},\"renderers\":[{\"id\":\"f05defd1-b28f-47d1-a47d-9a114d8f758e\",\"type\":\"GlyphRenderer\"},{\"id\":\"d70982fc-b31a-4378-a200-763daab3cd2a\",\"type\":\"GlyphRenderer\"}]},\"id\":\"ce202835-85ef-48cc-a479-a755b0d4a11d\",\"type\":\"LegendItem\"},{\"attributes\":{},\"id\":\"4d3676d2-560f-43e3-a3e4-2cae75effc6b\",\"type\":\"PanTool\"},{\"attributes\":{\"label\":{\"value\":\"CLIRAD\"},\"renderers\":[{\"id\":\"af1ad952-1f12-447d-9941-ec4b46579c56\",\"type\":\"GlyphRenderer\"}]},\"id\":\"31bd8362-3476-499d-a68a-5da00fb65cd3\",\"type\":\"LegendItem\"},{\"attributes\":{},\"id\":\"3d16eee8-2c08-4e42-9a52-980ae4b6bb5c\",\"type\":\"WheelZoomTool\"},{\"attributes\":{\"fill_alpha\":{\"value\":0.1},\"fill_color\":{\"value\":\"#1f77b4\"},\"line_alpha\":{\"value\":0.1},\"line_color\":{\"value\":\"#1f77b4\"},\"x\":{\"field\":\"x\"},\"y\":{\"field\":\"y\"}},\"id\":\"8daa1c75-3022-49b7-bed7-ee2166ed68dc\",\"type\":\"Square\"},{\"attributes\":{},\"id\":\"c454558d-959e-4c28-8f5a-c24244fca249\",\"type\":\"ResetTool\"},{\"attributes\":{},\"id\":\"719a5615-ae8b-40e2-8c6a-c4acd9866818\",\"type\":\"LinearScale\"},{\"attributes\":{\"line_alpha\":0.5,\"line_color\":\"#984ea3\",\"line_width\":1.5,\"x\":{\"field\":\"x\"},\"y\":{\"field\":\"y\"}},\"id\":\"662495d2-1663-46bd-81bb-0ad6f93a59f5\",\"type\":\"Line\"},{\"attributes\":{\"above\":[{\"id\":\"360de41b-3b59-4ec6-aef6-25bd8433ba7e\",\"type\":\"Legend\"}],\"below\":[{\"id\":\"183d58d2-86e4-49ae-852a-c8b99095962c\",\"type\":\"LinearAxis\"}],\"left\":[{\"id\":\"cf1bab23-7c5c-44cc-bbf2-471819f59db4\",\"type\":\"LogAxis\"}],\"plot_width\":300,\"renderers\":[{\"id\":\"183d58d2-86e4-49ae-852a-c8b99095962c\",\"type\":\"LinearAxis\"},{\"id\":\"320f303b-7bec-4bac-ae6f-29c05f7a52f3\",\"type\":\"Grid\"},{\"id\":\"cf1bab23-7c5c-44cc-bbf2-471819f59db4\",\"type\":\"LogAxis\"},{\"id\":\"0cb44b2c-f9c0-43b2-9670-089cb205b0ed\",\"type\":\"Grid\"},{\"id\":\"1918e722-4cfb-4502-8efd-d2ebff6c8142\",\"type\":\"BoxAnnotation\"},{\"id\":\"af1ad952-1f12-447d-9941-ec4b46579c56\",\"type\":\"GlyphRenderer\"},{\"id\":\"f05defd1-b28f-47d1-a47d-9a114d8f758e\",\"type\":\"GlyphRenderer\"},{\"id\":\"d70982fc-b31a-4378-a200-763daab3cd2a\",\"type\":\"GlyphRenderer\"},{\"id\":\"64ef9cc7-05fc-41ca-b06f-7c0456062b10\",\"type\":\"GlyphRenderer\"},{\"id\":\"f0e27636-0c6a-4566-9bbf-b7815fc27de3\",\"type\":\"GlyphRenderer\"},{\"id\":\"360de41b-3b59-4ec6-aef6-25bd8433ba7e\",\"type\":\"Legend\"}],\"title\":{\"id\":\"a6f7364d-70e4-4516-b2ff-d7407826fe4b\",\"type\":\"Title\"},\"toolbar\":{\"id\":\"87e51c47-277a-47e4-9257-269deef70427\",\"type\":\"Toolbar\"},\"toolbar_location\":null,\"x_range\":{\"id\":\"fee7c63a-e797-4e1d-80c4-f54def1ea04c\",\"type\":\"Range1d\"},\"x_scale\":{\"id\":\"8d285970-e63d-483a-9f30-cb16f9e1bf21\",\"type\":\"LinearScale\"},\"y_range\":{\"id\":\"642feb0f-07c8-45a0-b1cd-d403c86b9dcd\",\"type\":\"Range1d\"},\"y_scale\":{\"id\":\"bd07cd32-4344-4ea0-9afb-19dbaa1c71d9\",\"type\":\"LogScale\"}},\"id\":\"acabe79e-93ec-41b0-90aa-d5b988804436\",\"subtype\":\"Figure\",\"type\":\"Plot\"},{\"attributes\":{\"dimension\":1,\"plot\":{\"id\":\"1bbbea96-ef0a-489a-836c-c96c16424746\",\"subtype\":\"Figure\",\"type\":\"Plot\"},\"ticker\":{\"id\":\"ba1500eb-8767-41e5-bc8d-169fd3ac974c\",\"type\":\"LogTicker\"}},\"id\":\"3730ecd7-273d-4ed6-8188-cfd2e4813d96\",\"type\":\"Grid\"},{\"attributes\":{},\"id\":\"c2333dfb-75bd-4393-a7be-7cb942b024b1\",\"type\":\"UnionRenderers\"},{\"attributes\":{\"fill_alpha\":{\"value\":0.7},\"fill_color\":{\"value\":\"#4daf4a\"},\"line_alpha\":{\"value\":0.7},\"line_color\":{\"value\":\"#4daf4a\"},\"x\":{\"field\":\"x\"},\"y\":{\"field\":\"y\"}},\"id\":\"6717d9e3-e25d-442d-a8f0-680718487853\",\"type\":\"Circle\"},{\"attributes\":{\"data_source\":{\"id\":\"fab1a3ce-9386-42fe-ac9e-3031ab8bd42a\",\"type\":\"ColumnDataSource\"},\"glyph\":{\"id\":\"a6e36689-fb64-48e8-8125-78838393dcb3\",\"type\":\"Square\"},\"hover_glyph\":null,\"muted_glyph\":null,\"nonselection_glyph\":{\"id\":\"8daa1c75-3022-49b7-bed7-ee2166ed68dc\",\"type\":\"Square\"},\"selection_glyph\":null,\"view\":{\"id\":\"1bce00b2-cdff-47b5-ba3b-66140977db38\",\"type\":\"CDSView\"}},\"id\":\"4a4cc4fd-a59b-4935-99d0-9df701510185\",\"type\":\"GlyphRenderer\"},{\"attributes\":{},\"id\":\"5d35ab1f-69b3-4af0-b042-ce98d4323b51\",\"type\":\"Selection\"},{\"attributes\":{},\"id\":\"69eaef83-c692-44ff-896e-0e30a4cdc405\",\"type\":\"BasicTicker\"},{\"attributes\":{},\"id\":\"0e425897-522a-491b-8777-d22b2e987a0a\",\"type\":\"SaveTool\"},{\"attributes\":{\"source\":{\"id\":\"503bce9a-5d8d-4d9b-b608-7103344d755d\",\"type\":\"ColumnDataSource\"}},\"id\":\"993eee37-7545-45ab-9f52-eac1fe61d34e\",\"type\":\"CDSView\"},{\"attributes\":{\"above\":[{\"id\":\"c96fcd0d-c087-4483-bd79-1582eebcd359\",\"type\":\"Legend\"}],\"below\":[{\"id\":\"b60ebefa-80d1-4eca-a4fa-a57199f9eb3b\",\"type\":\"LinearAxis\"}],\"left\":[{\"id\":\"c9fdc5aa-3502-4641-a4dd-420b93db83af\",\"type\":\"LinearAxis\"}],\"plot_width\":300,\"renderers\":[{\"id\":\"b60ebefa-80d1-4eca-a4fa-a57199f9eb3b\",\"type\":\"LinearAxis\"},{\"id\":\"1675bad8-5f53-4f4c-8271-3581a2e8073a\",\"type\":\"Grid\"},{\"id\":\"c9fdc5aa-3502-4641-a4dd-420b93db83af\",\"type\":\"LinearAxis\"},{\"id\":\"38fdb413-35bf-49b9-b4b1-644c241026df\",\"type\":\"Grid\"},{\"id\":\"e8a603a4-78e5-45d9-9512-f049bd9a009e\",\"type\":\"BoxAnnotation\"},{\"id\":\"1b7750fb-1fc0-43ad-9d0c-15dfd50c8e0a\",\"type\":\"GlyphRenderer\"},{\"id\":\"ab8342a9-08f4-430f-b161-633299be4603\",\"type\":\"GlyphRenderer\"},{\"id\":\"74eed363-e379-4768-a5e4-636549113a0e\",\"type\":\"GlyphRenderer\"},{\"id\":\"4a4cc4fd-a59b-4935-99d0-9df701510185\",\"type\":\"GlyphRenderer\"},{\"id\":\"306fc8b4-ff15-479e-8f1b-6865bcdcae43\",\"type\":\"GlyphRenderer\"},{\"id\":\"c96fcd0d-c087-4483-bd79-1582eebcd359\",\"type\":\"Legend\"}],\"title\":{\"id\":\"f2872a97-35c4-413a-a523-32ab399b8568\",\"type\":\"Title\"},\"toolbar\":{\"id\":\"c3265de8-5662-496b-8281-b20a47a54bf1\",\"type\":\"Toolbar\"},\"toolbar_location\":null,\"x_range\":{\"id\":\"829098fc-1543-4835-9ae8-c9a4472de968\",\"type\":\"Range1d\"},\"x_scale\":{\"id\":\"c344211d-ec4d-433a-8a16-612f6b07a4c0\",\"type\":\"LinearScale\"},\"y_range\":{\"id\":\"aa47de49-c34b-4c0d-8ec3-86c0bcfb3aca\",\"type\":\"Range1d\"},\"y_scale\":{\"id\":\"f6300bdc-e032-460d-b1dd-b1170515874f\",\"type\":\"LinearScale\"}},\"id\":\"3e4a136e-8000-4863-8b13-bb65a5d4ad04\",\"subtype\":\"Figure\",\"type\":\"Plot\"},{\"attributes\":{\"line_alpha\":0.1,\"line_color\":\"#1f77b4\",\"line_width\":1.5,\"x\":{\"field\":\"x\"},\"y\":{\"field\":\"y\"}},\"id\":\"73be51fc-b396-4f00-9c6c-c681e657c5ec\",\"type\":\"Line\"},{\"attributes\":{\"data_source\":{\"id\":\"2b2e4aa2-976a-4267-8a6f-d9a14fa40a62\",\"type\":\"ColumnDataSource\"},\"glyph\":{\"id\":\"662495d2-1663-46bd-81bb-0ad6f93a59f5\",\"type\":\"Line\"},\"hover_glyph\":null,\"muted_glyph\":null,\"nonselection_glyph\":{\"id\":\"73be51fc-b396-4f00-9c6c-c681e657c5ec\",\"type\":\"Line\"},\"selection_glyph\":null,\"view\":{\"id\":\"f581b791-d90b-465e-9647-e27aee7d9118\",\"type\":\"CDSView\"}},\"id\":\"306fc8b4-ff15-479e-8f1b-6865bcdcae43\",\"type\":\"GlyphRenderer\"},{\"attributes\":{\"label\":{\"value\":\"old CLIRAD (H2012)\"},\"renderers\":[{\"id\":\"64ef9cc7-05fc-41ca-b06f-7c0456062b10\",\"type\":\"GlyphRenderer\"},{\"id\":\"f0e27636-0c6a-4566-9bbf-b7815fc27de3\",\"type\":\"GlyphRenderer\"}]},\"id\":\"66224b4a-3fee-4d0d-abf1-132357490f7a\",\"type\":\"LegendItem\"},{\"attributes\":{\"num_minor_ticks\":10},\"id\":\"ba1500eb-8767-41e5-bc8d-169fd3ac974c\",\"type\":\"LogTicker\"},{\"attributes\":{\"source\":{\"id\":\"fa84c5cc-2e2f-46e4-9883-59b556b72c57\",\"type\":\"ColumnDataSource\"}},\"id\":\"797c6810-7ea9-4d97-86bc-86933163eeef\",\"type\":\"CDSView\"},{\"attributes\":{\"callback\":null,\"data\":{\"x\":{\"__ndarray__\":\"cm1sTMT3VEDEyvjosEJHQOKI6DjzCUNArgQWV9awPkB9Lm8XG3M4QEz+Qv6iYzNA7eV8HaPLLkCX1QHyTpMoQFBmYSYetiNAUB04GtGpH0AmFyVE5j8ZQJca9QPGqBNALJP+OOHHDEBNxaf7QF8AQKtislomWuw/cW2dcO6A9T/uJJvfPu0EQIaQLTI/JQ1AxGiII+PmEkCJvfVeuCsYQD6ZBhGbHB9AXQw69DTYJEAsubcwKucqQNuT9D5OmipAJyi3szEJJUBlNebh5WkgQDDcPHBr2xlArtlANXuQFEBdJadFHckQQI2Avh0ZsQtAjYiwt1rsBUCL0SDoVBgAQK6C0nEEjvc/CggLSme58T9sXU2orFPnP0v0JYz9Gdg/vT38vxYczD9nBQTe6kHHP1IhkEXJwKo/8OZnhCVAub+xtVgCpmqzP6DUpY6g0+k/PKK3T1h4+D8RTDjQc1EAQG/dAQs7TwJAQt2eHpPLAEBWEh074x//PyCap9ZSGf4/rEzaTySm/T+7aXhHRmr9P688KeqeNP0/ruZ4EemD/D8olrZcn9T7P0+vNc9hW/s/i9VVL+4P+z+0NzC24uz6P8731Kza8vo/xFf4SHzq+z+gYyHpvHb8P68ROkiFevw/BAjYdCga/D8AUp8VbW77P3JrF/nKmvo/qCQeGfq++T/dplwHJfn4P2G4p+Uva/g/OzZ0RqMZ+D8dmn/iar73P/OuA7Ka8PY/gaaeQHGn9T9hkyjAH1L0P3aZGhdAU/M/n8VP/g7P8j+90HxHNvfyPwhNBtgrqvk/\",\"dtype\":\"float64\",\"shape\":[75]},\"y\":{\"__ndarray__\":\"GhExyth1ND/Sv8nbtpRIP2vylNV0PVE/aTum7souWD/At0SJ8fVgPw3Iuahxymc/MSNhhJWvcD/bTfBN02d3P2zb5nxnaoA/CD5h5MAGhz8NmeH1TyaQP+zrCsc9p5Y/LbKd76fGnz/bLW5ISEmmPww9YvTcQq8/JV2OstnstT8Er5Y7M8G+P0c+r3jqkcU/5h99k6ZBzj88bCIzFzjVP4enV8oyxN0//yH99nXg5D8qOpLLf0jtP5kqGJXUifQ/c9cS8kHP/D+/DpwzojQEQIEmwoanVwxA4lgXt9HgE0BSSZ2AJuIbQAMJih9jjiNA5q4l5INuK0AwTKYKRj0zQNv5fmq8/DpAaCJseHrtQkB/+zpwzoxKQM3MzMzMeFJAZmZmZmZqWEAAAAAAAFxeQM3MzMzMJmJAmpmZmZkfZUBmZmZmZhhoQDMzMzMzEWtAAAAAAAAKbkBmZmZmZoFwQM3MzMzM/XFAMzMzMzN6c0CamZmZmfZ0QAAAAAAAc3ZAZmZmZmbvd0DNzMzMzGt5QDMzMzMz6HpAmpmZmZlkfEAAAAAAAOF9QGZmZmZmXX9AZmZmZuZsgECamZmZGSuBQM3MzMxM6YFAAAAAAICngkAzMzMzs2WDQGZmZmbmI4RAmpmZmRnihEDNzMzMTKCFQAAAAACAXoZAMzMzM7Mch0BmZmZm5tqHQJqZmZkZmYhAzczMzExXiUAAAAAAgBWKQDMzMzOz04pAZmZmZuaRi0CamZmZGVCMQM3MzMxMDo1AAAAAAIDMjUAzMzMzs4qOQGZmZmbmSI9A\",\"dtype\":\"float64\",\"shape\":[75]}},\"selected\":{\"id\":\"0a2a35ae-02fe-4709-b7ee-5ba87eec2f09\",\"type\":\"Selection\"},\"selection_policy\":{\"id\":\"fa37190d-fa48-4f85-9f59-db03100b8364\",\"type\":\"UnionRenderers\"}},\"id\":\"f5169ce0-316e-4e2d-9ddd-5d3d194a46af\",\"type\":\"ColumnDataSource\"},{\"attributes\":{\"items\":[{\"id\":\"1e156b35-5850-49c8-b74a-f87f7577f80e\",\"type\":\"LegendItem\"},{\"id\":\"54d55413-b86a-4630-8a21-e83bb1c52743\",\"type\":\"LegendItem\"},{\"id\":\"2b900a6d-f085-4ebc-8fe7-963dcbba2f62\",\"type\":\"LegendItem\"}],\"label_text_font_size\":{\"value\":\"8pt\"},\"location\":\"top_center\",\"orientation\":\"horizontal\",\"plot\":{\"id\":\"3e4a136e-8000-4863-8b13-bb65a5d4ad04\",\"subtype\":\"Figure\",\"type\":\"Plot\"}},\"id\":\"c96fcd0d-c087-4483-bd79-1582eebcd359\",\"type\":\"Legend\"},{\"attributes\":{\"axis_label\":\"cooling rate [K/day]\",\"formatter\":{\"id\":\"449ada1a-c28a-453f-af57-c688d4f8c56f\",\"type\":\"BasicTickFormatter\"},\"plot\":{\"id\":\"3e4a136e-8000-4863-8b13-bb65a5d4ad04\",\"subtype\":\"Figure\",\"type\":\"Plot\"},\"ticker\":{\"id\":\"7891ca26-6c09-448b-b60f-5aacc21ceb77\",\"type\":\"BasicTicker\"}},\"id\":\"b60ebefa-80d1-4eca-a4fa-a57199f9eb3b\",\"type\":\"LinearAxis\"},{\"attributes\":{},\"id\":\"42e4ebe6-fa8c-4c37-ba3b-1508c5752273\",\"type\":\"WheelZoomTool\"},{\"attributes\":{\"plot\":{\"id\":\"1bbbea96-ef0a-489a-836c-c96c16424746\",\"subtype\":\"Figure\",\"type\":\"Plot\"},\"ticker\":{\"id\":\"69eaef83-c692-44ff-896e-0e30a4cdc405\",\"type\":\"BasicTicker\"}},\"id\":\"120e3ab8-939e-4eb3-b63b-31bae4b7f1df\",\"type\":\"Grid\"},{\"attributes\":{\"data_source\":{\"id\":\"4c387b5e-6048-43f3-993e-77ebd3e7aa30\",\"type\":\"ColumnDataSource\"},\"glyph\":{\"id\":\"31d86c1b-6a39-4d7e-abab-b738e09f8a78\",\"type\":\"Line\"},\"hover_glyph\":null,\"muted_glyph\":null,\"nonselection_glyph\":{\"id\":\"4a31f831-d94d-47da-a3c3-c26beb71f0f6\",\"type\":\"Line\"},\"selection_glyph\":null,\"view\":{\"id\":\"c1a63e39-a149-42f0-bf14-cc151475e4eb\",\"type\":\"CDSView\"}},\"id\":\"1b7750fb-1fc0-43ad-9d0c-15dfd50c8e0a\",\"type\":\"GlyphRenderer\"},{\"attributes\":{\"axis_label\":\"pressure [mb]\",\"formatter\":{\"id\":\"1bc9105c-adc9-44c8-afaf-d889a9bb3492\",\"type\":\"LogTickFormatter\"},\"plot\":{\"id\":\"1bbbea96-ef0a-489a-836c-c96c16424746\",\"subtype\":\"Figure\",\"type\":\"Plot\"},\"ticker\":{\"id\":\"ba1500eb-8767-41e5-bc8d-169fd3ac974c\",\"type\":\"LogTicker\"}},\"id\":\"74726f06-2f59-49f5-a660-9b63744acfa9\",\"type\":\"LogAxis\"},{\"attributes\":{\"overlay\":{\"id\":\"636eac21-1112-4acb-a7ce-f5094b08039a\",\"type\":\"BoxAnnotation\"}},\"id\":\"4b6b6ba4-a6b5-43eb-a613-3144c1332c6e\",\"type\":\"BoxZoomTool\"},{\"attributes\":{\"active_drag\":\"auto\",\"active_inspect\":\"auto\",\"active_scroll\":\"auto\",\"active_tap\":\"auto\",\"tools\":[{\"id\":\"1dd10aaa-c99e-4217-9e41-a1c7eb4884dd\",\"type\":\"PanTool\"},{\"id\":\"b3e26350-5bc8-4974-8314-a674b4f23ca5\",\"type\":\"WheelZoomTool\"},{\"id\":\"bea3510c-f088-40a5-bcf9-774c08d2afe7\",\"type\":\"BoxZoomTool\"},{\"id\":\"e000fcb4-ca43-43bb-8a55-452e086630b6\",\"type\":\"SaveTool\"},{\"id\":\"d6692175-08d1-45de-bcd3-0934a153d7c0\",\"type\":\"ResetTool\"},{\"id\":\"a1a172b9-4f2a-4dbe-8097-12e82af67aab\",\"type\":\"HelpTool\"}]},\"id\":\"87e51c47-277a-47e4-9257-269deef70427\",\"type\":\"Toolbar\"},{\"attributes\":{},\"id\":\"d78a0957-dde9-400a-8b6f-cb43e31b4d09\",\"type\":\"HelpTool\"},{\"attributes\":{\"overlay\":{\"id\":\"e8a603a4-78e5-45d9-9512-f049bd9a009e\",\"type\":\"BoxAnnotation\"}},\"id\":\"cd6d1dc7-f173-4387-9fa4-6a3bf115ce53\",\"type\":\"BoxZoomTool\"},{\"attributes\":{},\"id\":\"f6300bdc-e032-460d-b1dd-b1170515874f\",\"type\":\"LinearScale\"},{\"attributes\":{\"source\":{\"id\":\"4c387b5e-6048-43f3-993e-77ebd3e7aa30\",\"type\":\"ColumnDataSource\"}},\"id\":\"c1a63e39-a149-42f0-bf14-cc151475e4eb\",\"type\":\"CDSView\"},{\"attributes\":{\"data_source\":{\"id\":\"fa84c5cc-2e2f-46e4-9883-59b556b72c57\",\"type\":\"ColumnDataSource\"},\"glyph\":{\"id\":\"92ba0f8e-b4f0-4354-92c0-598468117aed\",\"type\":\"Circle\"},\"hover_glyph\":null,\"muted_glyph\":null,\"nonselection_glyph\":{\"id\":\"370604e0-94ee-480b-bedd-ab6832bc950c\",\"type\":\"Circle\"},\"selection_glyph\":null,\"view\":{\"id\":\"797c6810-7ea9-4d97-86bc-86933163eeef\",\"type\":\"CDSView\"}},\"id\":\"d6ec4db7-c5aa-46a4-9ffc-ad096b7e9208\",\"type\":\"GlyphRenderer\"},{\"attributes\":{\"line_alpha\":0.1,\"line_color\":\"#1f77b4\",\"line_dash\":[6],\"line_width\":5,\"x\":{\"field\":\"x\"},\"y\":{\"field\":\"y\"}},\"id\":\"4a31f831-d94d-47da-a3c3-c26beb71f0f6\",\"type\":\"Line\"},{\"attributes\":{\"source\":{\"id\":\"539e5814-c29c-44bf-8da3-b03588cc71e1\",\"type\":\"ColumnDataSource\"}},\"id\":\"d47dad58-bc2b-4c87-b9ec-03e98a5ce536\",\"type\":\"CDSView\"},{\"attributes\":{},\"id\":\"0e996a88-d427-423f-9c37-bbdd406f5c93\",\"type\":\"Selection\"},{\"attributes\":{\"plot\":null,\"text\":\"\"},\"id\":\"a6f7364d-70e4-4516-b2ff-d7407826fe4b\",\"type\":\"Title\"},{\"attributes\":{\"num_minor_ticks\":10},\"id\":\"3febc992-4717-44b3-8668-41db5b5c8378\",\"type\":\"LogTicker\"},{\"attributes\":{},\"id\":\"c0c0fe8e-0774-418b-8d3e-b20994e51efd\",\"type\":\"Selection\"},{\"attributes\":{\"data_source\":{\"id\":\"aa385e23-f268-4619-b4e7-c59d8f90b476\",\"type\":\"ColumnDataSource\"},\"glyph\":{\"id\":\"ba908e69-941e-4f53-874d-b04522869a30\",\"type\":\"Line\"},\"hover_glyph\":null,\"muted_glyph\":null,\"nonselection_glyph\":{\"id\":\"f52116ab-faf0-4c03-8aca-c271d6fcaf84\",\"type\":\"Line\"},\"selection_glyph\":null,\"view\":{\"id\":\"f8e04d26-a26a-4cb8-9d2c-c9f35241e1f9\",\"type\":\"CDSView\"}},\"id\":\"f0e27636-0c6a-4566-9bbf-b7815fc27de3\",\"type\":\"GlyphRenderer\"},{\"attributes\":{},\"id\":\"7ecb4cde-ab59-472e-853c-59297d606a65\",\"type\":\"UnionRenderers\"},{\"attributes\":{\"data_source\":{\"id\":\"5aceb289-2da9-41e5-9741-20668ec870cc\",\"type\":\"ColumnDataSource\"},\"glyph\":{\"id\":\"74eb173b-6c5e-4bf6-af6a-af70bd7282c5\",\"type\":\"Line\"},\"hover_glyph\":null,\"muted_glyph\":null,\"nonselection_glyph\":{\"id\":\"fae3deb9-77e0-4c9d-bbeb-929402e63ce4\",\"type\":\"Line\"},\"selection_glyph\":null,\"view\":{\"id\":\"b9fc781a-014e-4782-bc6c-7071f9946a68\",\"type\":\"CDSView\"}},\"id\":\"d70982fc-b31a-4378-a200-763daab3cd2a\",\"type\":\"GlyphRenderer\"},{\"attributes\":{\"axis_label\":\"pressure [mb]\",\"formatter\":{\"id\":\"6082ac36-ab93-4381-985d-c5eb3ce4eb17\",\"type\":\"LogTickFormatter\"},\"plot\":{\"id\":\"acabe79e-93ec-41b0-90aa-d5b988804436\",\"subtype\":\"Figure\",\"type\":\"Plot\"},\"ticker\":{\"id\":\"3febc992-4717-44b3-8668-41db5b5c8378\",\"type\":\"LogTicker\"}},\"id\":\"cf1bab23-7c5c-44cc-bbf2-471819f59db4\",\"type\":\"LogAxis\"},{\"attributes\":{\"data_source\":{\"id\":\"539e5814-c29c-44bf-8da3-b03588cc71e1\",\"type\":\"ColumnDataSource\"},\"glyph\":{\"id\":\"3c4f79e0-fe91-43e1-819a-8a9ce3630dd7\",\"type\":\"Line\"},\"hover_glyph\":null,\"muted_glyph\":null,\"nonselection_glyph\":{\"id\":\"b37b4a77-44ba-4db8-aaf4-0d3a1fde775f\",\"type\":\"Line\"},\"selection_glyph\":null,\"view\":{\"id\":\"d47dad58-bc2b-4c87-b9ec-03e98a5ce536\",\"type\":\"CDSView\"}},\"id\":\"af1ad952-1f12-447d-9941-ec4b46579c56\",\"type\":\"GlyphRenderer\"},{\"attributes\":{\"data_source\":{\"id\":\"e17ca8c3-6291-4ec8-a030-e2a0d6e853a1\",\"type\":\"ColumnDataSource\"},\"glyph\":{\"id\":\"ca320ac9-2ea1-4371-9df0-393e65ae460a\",\"type\":\"Circle\"},\"hover_glyph\":null,\"muted_glyph\":null,\"nonselection_glyph\":{\"id\":\"bfc186fc-7dae-4e39-879d-545b8ac5a822\",\"type\":\"Circle\"},\"selection_glyph\":null,\"view\":{\"id\":\"94aa5c24-c8e8-4c8a-9a82-6f58262fa992\",\"type\":\"CDSView\"}},\"id\":\"f05defd1-b28f-47d1-a47d-9a114d8f758e\",\"type\":\"GlyphRenderer\"},{\"attributes\":{},\"id\":\"d0d65e43-2c79-4aaf-8895-444791cf530d\",\"type\":\"UnionRenderers\"},{\"attributes\":{\"source\":{\"id\":\"5aceb289-2da9-41e5-9741-20668ec870cc\",\"type\":\"ColumnDataSource\"}},\"id\":\"b9fc781a-014e-4782-bc6c-7071f9946a68\",\"type\":\"CDSView\"},{\"attributes\":{\"line_alpha\":0.6,\"line_color\":\"#e41a1c\",\"line_dash\":[6],\"line_width\":5,\"x\":{\"field\":\"x\"},\"y\":{\"field\":\"y\"}},\"id\":\"31d86c1b-6a39-4d7e-abab-b738e09f8a78\",\"type\":\"Line\"},{\"attributes\":{\"line_alpha\":0.1,\"line_color\":\"#1f77b4\",\"line_width\":1.5,\"x\":{\"field\":\"x\"},\"y\":{\"field\":\"y\"}},\"id\":\"f52116ab-faf0-4c03-8aca-c271d6fcaf84\",\"type\":\"Line\"},{\"attributes\":{\"label\":{\"value\":\"CLIRAD - CRD\"},\"renderers\":[{\"id\":\"d6ec4db7-c5aa-46a4-9ffc-ad096b7e9208\",\"type\":\"GlyphRenderer\"},{\"id\":\"b3a9c30b-f71b-4761-8819-cecfeef97b0c\",\"type\":\"GlyphRenderer\"}]},\"id\":\"57bcb706-fabd-4d57-ab48-de258b21940c\",\"type\":\"LegendItem\"},{\"attributes\":{\"plot\":{\"id\":\"3e4a136e-8000-4863-8b13-bb65a5d4ad04\",\"subtype\":\"Figure\",\"type\":\"Plot\"},\"ticker\":{\"id\":\"7891ca26-6c09-448b-b60f-5aacc21ceb77\",\"type\":\"BasicTicker\"}},\"id\":\"1675bad8-5f53-4f4c-8271-3581a2e8073a\",\"type\":\"Grid\"},{\"attributes\":{\"dimension\":1,\"plot\":{\"id\":\"acabe79e-93ec-41b0-90aa-d5b988804436\",\"subtype\":\"Figure\",\"type\":\"Plot\"},\"ticker\":{\"id\":\"3febc992-4717-44b3-8668-41db5b5c8378\",\"type\":\"LogTicker\"}},\"id\":\"0cb44b2c-f9c0-43b2-9670-089cb205b0ed\",\"type\":\"Grid\"},{\"attributes\":{\"data_source\":{\"id\":\"e309df2e-2259-4058-afd6-c2709cb9750b\",\"type\":\"ColumnDataSource\"},\"glyph\":{\"id\":\"0dd2c890-82a1-46d6-99cc-07f349556c66\",\"type\":\"Square\"},\"hover_glyph\":null,\"muted_glyph\":null,\"nonselection_glyph\":{\"id\":\"3d9eb8af-3146-45f0-bb6e-798b6dbad333\",\"type\":\"Square\"},\"selection_glyph\":null,\"view\":{\"id\":\"6b740df6-c8bc-4ba0-bb54-d010f0a212f1\",\"type\":\"CDSView\"}},\"id\":\"64ef9cc7-05fc-41ca-b06f-7c0456062b10\",\"type\":\"GlyphRenderer\"},{\"attributes\":{\"ticker\":null},\"id\":\"1bc9105c-adc9-44c8-afaf-d889a9bb3492\",\"type\":\"LogTickFormatter\"},{\"attributes\":{},\"id\":\"c0a2d0d9-d358-478b-8bca-ae1c3042e4e9\",\"type\":\"UnionRenderers\"},{\"attributes\":{\"children\":[{\"id\":\"3e4a136e-8000-4863-8b13-bb65a5d4ad04\",\"subtype\":\"Figure\",\"type\":\"Plot\"},{\"id\":\"acabe79e-93ec-41b0-90aa-d5b988804436\",\"subtype\":\"Figure\",\"type\":\"Plot\"},{\"id\":\"1bbbea96-ef0a-489a-836c-c96c16424746\",\"subtype\":\"Figure\",\"type\":\"Plot\"}]},\"id\":\"f10a6238-3514-44b6-bc5a-1687cadf6d5a\",\"type\":\"Row\"},{\"attributes\":{\"callback\":null,\"end\":0.6991174202619594,\"start\":-0.8450980398126339},\"id\":\"3cbc1179-70e4-46ad-92e0-a86bb4b47d83\",\"type\":\"Range1d\"},{\"attributes\":{\"callback\":null,\"data\":{\"x\":{\"__ndarray__\":\"cm1sTMT3VEDEyvjosEJHQOKI6DjzCUNArgQWV9awPkB9Lm8XG3M4QEz+Qv6iYzNA7eV8HaPLLkCX1QHyTpMoQFBmYSYetiNAUB04GtGpH0AmFyVE5j8ZQJca9QPGqBNALJP+OOHHDEBNxaf7QF8AQKtislomWuw/cW2dcO6A9T/uJJvfPu0EQIaQLTI/JQ1AxGiII+PmEkCJvfVeuCsYQD6ZBhGbHB9AXQw69DTYJEAsubcwKucqQNuT9D5OmipAJyi3szEJJUBlNebh5WkgQDDcPHBr2xlArtlANXuQFEBdJadFHckQQI2Avh0ZsQtAjYiwt1rsBUCL0SDoVBgAQK6C0nEEjvc/CggLSme58T9sXU2orFPnP0v0JYz9Gdg/vT38vxYczD9nBQTe6kHHP1IhkEXJwKo/8OZnhCVAub+xtVgCpmqzP6DUpY6g0+k/PKK3T1h4+D8RTDjQc1EAQG/dAQs7TwJAQt2eHpPLAEBWEh074x//PyCap9ZSGf4/rEzaTySm/T+7aXhHRmr9P688KeqeNP0/ruZ4EemD/D8olrZcn9T7P0+vNc9hW/s/i9VVL+4P+z+0NzC24uz6P8731Kza8vo/xFf4SHzq+z+gYyHpvHb8P68ROkiFevw/BAjYdCga/D8AUp8VbW77P3JrF/nKmvo/qCQeGfq++T/dplwHJfn4P2G4p+Uva/g/OzZ0RqMZ+D8dmn/iar73P/OuA7Ka8PY/gaaeQHGn9T9hkyjAH1L0P3aZGhdAU/M/n8VP/g7P8j+90HxHNvfyPwhNBtgrqvk/\",\"dtype\":\"float64\",\"shape\":[75]},\"y\":{\"__ndarray__\":\"GhExyth1ND/Sv8nbtpRIP2vylNV0PVE/aTum7souWD/At0SJ8fVgPw3Iuahxymc/MSNhhJWvcD/bTfBN02d3P2zb5nxnaoA/CD5h5MAGhz8NmeH1TyaQP+zrCsc9p5Y/LbKd76fGnz/bLW5ISEmmPww9YvTcQq8/JV2OstnstT8Er5Y7M8G+P0c+r3jqkcU/5h99k6ZBzj88bCIzFzjVP4enV8oyxN0//yH99nXg5D8qOpLLf0jtP5kqGJXUifQ/c9cS8kHP/D+/DpwzojQEQIEmwoanVwxA4lgXt9HgE0BSSZ2AJuIbQAMJih9jjiNA5q4l5INuK0AwTKYKRj0zQNv5fmq8/DpAaCJseHrtQkB/+zpwzoxKQM3MzMzMeFJAZmZmZmZqWEAAAAAAAFxeQM3MzMzMJmJAmpmZmZkfZUBmZmZmZhhoQDMzMzMzEWtAAAAAAAAKbkBmZmZmZoFwQM3MzMzM/XFAMzMzMzN6c0CamZmZmfZ0QAAAAAAAc3ZAZmZmZmbvd0DNzMzMzGt5QDMzMzMz6HpAmpmZmZlkfEAAAAAAAOF9QGZmZmZmXX9AZmZmZuZsgECamZmZGSuBQM3MzMxM6YFAAAAAAICngkAzMzMzs2WDQGZmZmbmI4RAmpmZmRnihEDNzMzMTKCFQAAAAACAXoZAMzMzM7Mch0BmZmZm5tqHQJqZmZkZmYhAzczMzExXiUAAAAAAgBWKQDMzMzOz04pAZmZmZuaRi0CamZmZGVCMQM3MzMxMDo1AAAAAAIDMjUAzMzMzs4qOQGZmZmbmSI9A\",\"dtype\":\"float64\",\"shape\":[75]}},\"selected\":{\"id\":\"4352112f-163c-44c9-bba5-06eef217f970\",\"type\":\"Selection\"},\"selection_policy\":{\"id\":\"c0a2d0d9-d358-478b-8bca-ae1c3042e4e9\",\"type\":\"UnionRenderers\"}},\"id\":\"e17ca8c3-6291-4ec8-a030-e2a0d6e853a1\",\"type\":\"ColumnDataSource\"},{\"attributes\":{\"line_color\":\"#4daf4a\",\"line_width\":1.5,\"x\":{\"field\":\"x\"},\"y\":{\"field\":\"y\"}},\"id\":\"540a6b42-e6f0-4c71-8fd2-017787b35857\",\"type\":\"Line\"},{\"attributes\":{\"line_alpha\":0.5,\"line_color\":\"#984ea3\",\"line_width\":1.5,\"x\":{\"field\":\"x\"},\"y\":{\"field\":\"y\"}},\"id\":\"ba908e69-941e-4f53-874d-b04522869a30\",\"type\":\"Line\"},{\"attributes\":{\"callback\":null,\"data\":{\"x\":{\"__ndarray__\":\"x5b+HzAAOcBUsGIrN//wv5rRCqfzP/g/lWfa9WxUAUC87i3eRnj0P2k3GFwGI82/KIzhzv3p9r/dgOLUhuT7v5h4v9KEHva/lz51fQWP6r8MmGM3wEvevzuGRhlaEde/bbBHDRNw17866bMAA5HVv6SM3CBVpsm/z43Ge5Rgp78kZlO2tGW1P0jAD/LkRMk/mjoLgCF7xj9YL7TWa7a0vxDl7AEhR9u/QmBL7XZE4r+66rwK7UHdv520GFyq+M2/jJoBaeFkvb+mEL7+5YDFv8xH2diDSLE/UZPQ0NK6zD++VDOMJHXFP0sBLvsvgbU/rU0TKbTTsz+AvPtlJoSVvyQR4kCT1Ka/DCzTR4jOnz+RgVP/DIiRPyc0VueTT7G/zGO0G5UXtr/Cv+nBWmGrvw3YBf5pwJu/5lmwUlIKkb9iK8y2UCyVv7MgGQ1BN6K/Zg7cSGuhqL97ks22YaWTv6+BWHga4bS/if7Ouy4suL+uhkcfqK6rv3h0d8wLnbC/Th4fALtytb/0FtyP05C0v706nuS1IK6/nt6OQVwMpb+xJ7P94iOYv7Ik7c8m3pG/XHsLuB42jr+yYiSLHQySv2VhKlGEQZK/gL6ranU1gr8Tm4EYiGiLP2Bxvix7f6Y/qGcUzAlzsT9osvobm7qwP2qCl8+oL6s/W7D28FdTnz+Ar/8sMWWAP2CXJl1dC4E/wS2MUhR4kT8AEiYigsWdP+Tu87ICUKw/Urla2OfysD86tbEU9BezP0pbmrSQFLU/zwcmkkNfsz+emyRJmHG1PyEJ+r+uHLU/\",\"dtype\":\"float64\",\"shape\":[75]},\"y\":{\"__ndarray__\":\"GhExyth1ND/Sv8nbtpRIP2vylNV0PVE/aTum7souWD/At0SJ8fVgPw3Iuahxymc/MSNhhJWvcD/bTfBN02d3P2zb5nxnaoA/CD5h5MAGhz8NmeH1TyaQP+zrCsc9p5Y/LbKd76fGnz/bLW5ISEmmPww9YvTcQq8/JV2OstnstT8Er5Y7M8G+P0c+r3jqkcU/5h99k6ZBzj88bCIzFzjVP4enV8oyxN0//yH99nXg5D8qOpLLf0jtP5kqGJXUifQ/c9cS8kHP/D+/DpwzojQEQIEmwoanVwxA4lgXt9HgE0BSSZ2AJuIbQAMJih9jjiNA5q4l5INuK0AwTKYKRj0zQNv5fmq8/DpAaCJseHrtQkB/+zpwzoxKQM3MzMzMeFJAZmZmZmZqWEAAAAAAAFxeQM3MzMzMJmJAmpmZmZkfZUBmZmZmZhhoQDMzMzMzEWtAAAAAAAAKbkBmZmZmZoFwQM3MzMzM/XFAMzMzMzN6c0CamZmZmfZ0QAAAAAAAc3ZAZmZmZmbvd0DNzMzMzGt5QDMzMzMz6HpAmpmZmZlkfEAAAAAAAOF9QGZmZmZmXX9AZmZmZuZsgECamZmZGSuBQM3MzMxM6YFAAAAAAICngkAzMzMzs2WDQGZmZmbmI4RAmpmZmRnihEDNzMzMTKCFQAAAAACAXoZAMzMzM7Mch0BmZmZm5tqHQJqZmZkZmYhAzczMzExXiUAAAAAAgBWKQDMzMzOz04pAZmZmZuaRi0CamZmZGVCMQM3MzMxMDo1AAAAAAIDMjUAzMzMzs4qOQGZmZmbmSI9A\",\"dtype\":\"float64\",\"shape\":[75]}},\"selected\":{\"id\":\"5d35ab1f-69b3-4af0-b042-ce98d4323b51\",\"type\":\"Selection\"},\"selection_policy\":{\"id\":\"6a98027b-89f3-4330-97a9-8315d5a2cc94\",\"type\":\"UnionRenderers\"}},\"id\":\"62437890-fd1d-48bb-9a64-10cb0079482f\",\"type\":\"ColumnDataSource\"},{\"attributes\":{},\"id\":\"ba1d7f4d-0483-44d0-9e74-f1b676f4919f\",\"type\":\"Selection\"},{\"attributes\":{\"source\":{\"id\":\"e17ca8c3-6291-4ec8-a030-e2a0d6e853a1\",\"type\":\"ColumnDataSource\"}},\"id\":\"94aa5c24-c8e8-4c8a-9a82-6f58262fa992\",\"type\":\"CDSView\"},{\"attributes\":{\"callback\":null,\"data\":{\"x\":{\"__ndarray__\":\"zxhdnl3RU0CKgDdE+dxEQP+f5duhdUFAMZBr6ewEQkABDxZQyK45QBiX3ka8EDZAj18alnlwL0CfYJlYHKIqQJoaoQNWxSJAv74t7BozIUBMkS56I6AXQBxPe4ld/BRAncjiKz2HCkCKCgdQ/WcBQKJTvluRvOg/jvJpYJwB9j+gcxKIKREEQOwUvOtLFw1AVkAt7oRoEkD4lECKxjYXQAZydNQ0jR1ACryvRZLfI0CN3MmPRGApQCcUNq4qNylA6FN9h30SJECRnP+HbGofQDQKaukXmhlAteFC/mL9E0CTDffT91MQQEoVAKh1YwtAqFesCIQRBkAUatBMXLz/P4fvYPUXo/Y/tDrQnFTK8T/hneFQ7xLnP14aDQuCJtc/5hrOx2LRzT+gE4V0bnvHP3eeIXamhrA/cmaxNtALrr92uqPyMJK3P6q5+U821+g/c0rZjXL49z/TaxRJZAUAQP3VLij27QFAiQe8XqaCAEAu4Q7keaX+P0ZyKG35kv0/XHVqXZRQ/T/+RskYEAv9PwKD1IjB3fw/JBko3yJ2/D8AmhCM5iX7P/btQHcr5vo/xjCcdQr9+j+f/V+tjrf6P0Wt2HvLrvo/84V/x6br+z/bYX40veD8P86HZwkyUvw/CUxgoI8l/D8RA+bsYB78P2au9w7DDvw/kRNJm3qS+j8wZ0xHVJ75Py0d1shscPk/NKgVKiiK+T/ONtzstIr5P4ps72zyaPc/TVSpuPUj9j9T2qZu6gj1P2XVmdu6VPQ/t/WgjjEZ9D+np734CoH0P1L4Q57qwfo/\",\"dtype\":\"float64\",\"shape\":[75]},\"y\":{\"__ndarray__\":\"hLndy31yND/6fmq8dJNIP8n9DkWBPlE/aDum7souWD/b4a/JGvVgP9f34SAhymc/ZvM4DOavcD+z0M5pFmh3PxuC4zJuaoA/xjcUPlsHhz8uHAjJAiaQP9ieWRKgppY/oI7HDFTGnz+a5h2n6EimPzS6g9iZQq8/IuAQqtTstT9SSZ2AJsK+P4nS3uALk8U/ih9j7lpCzj+ASL99HTjVP4enV8oyxN0/ACL99nXg5D9fmEwVjErtPyUGgZVDi/Q/AiuHFtnO/D9OYhBYOTQEQPHSTWIQWAxA4XoUrkfhE0D8qfHSTeIbQMh2vp8ajyNArkfhehRuK0Bcj8L1KDwzQFyPwvUo/DpAPgrXo3DtQkDNzMzMzIxKQClcj8L1eFJAKVyPwvVoWECamZmZmVleQGZmZmZmJmJAAAAAAAAgZUCamZmZmRloQJqZmZmZEWtAmpmZmZkJbkCamZmZmYFwQGZmZmZm/nFAZmZmZmZ6c0BmZmZmZvZ0QDQzMzMzc3ZAAAAAAADwd0AAAAAAAGx5QAAAAAAA6HpAzMzMzMxkfEDMzMzMzOB9QM3MzMzMXH9AzczMzMxsgEAzMzMzMyuBQDMzMzMz6YFAMzMzMzOngkCamZmZmWWDQAAAAAAAJIRAAAAAAADihEAAAAAAAKCFQGZmZmZmXoZAzczMzMwch0DNzMzMzNqHQM3MzMzMmIhAMzMzMzNXiUCamZmZmRWKQAAAAAAA1IpAAAAAAACSi0AAAAAAAFCMQGZmZmZmDo1AzczMzMzMjUDNzMzMzIqOQM3MzMzMSI9A\",\"dtype\":\"float64\",\"shape\":[75]}},\"selected\":{\"id\":\"ba1d7f4d-0483-44d0-9e74-f1b676f4919f\",\"type\":\"Selection\"},\"selection_policy\":{\"id\":\"70457846-3e64-4e0a-89bf-9661cf1149d0\",\"type\":\"UnionRenderers\"}},\"id\":\"e309df2e-2259-4058-afd6-c2709cb9750b\",\"type\":\"ColumnDataSource\"},{\"attributes\":{},\"id\":\"935dc937-6d3a-4358-908a-10de62a959dd\",\"type\":\"UnionRenderers\"},{\"attributes\":{\"fill_alpha\":{\"value\":0.7},\"fill_color\":{\"value\":\"#984ea3\"},\"line_alpha\":{\"value\":0.7},\"line_color\":{\"value\":\"#984ea3\"},\"x\":{\"field\":\"x\"},\"y\":{\"field\":\"y\"}},\"id\":\"0dd2c890-82a1-46d6-99cc-07f349556c66\",\"type\":\"Square\"},{\"attributes\":{\"fill_alpha\":{\"value\":0.7},\"fill_color\":{\"value\":\"#984ea3\"},\"line_alpha\":{\"value\":0.7},\"line_color\":{\"value\":\"#984ea3\"},\"x\":{\"field\":\"x\"},\"y\":{\"field\":\"y\"}},\"id\":\"a6e36689-fb64-48e8-8125-78838393dcb3\",\"type\":\"Square\"},{\"attributes\":{\"fill_alpha\":{\"value\":0.7},\"fill_color\":{\"value\":\"#4daf4a\"},\"line_alpha\":{\"value\":0.7},\"line_color\":{\"value\":\"#4daf4a\"},\"x\":{\"field\":\"x\"},\"y\":{\"field\":\"y\"}},\"id\":\"ca320ac9-2ea1-4371-9df0-393e65ae460a\",\"type\":\"Circle\"},{\"attributes\":{\"active_drag\":\"auto\",\"active_inspect\":\"auto\",\"active_scroll\":\"auto\",\"active_tap\":\"auto\",\"tools\":[{\"id\":\"4d3676d2-560f-43e3-a3e4-2cae75effc6b\",\"type\":\"PanTool\"},{\"id\":\"42e4ebe6-fa8c-4c37-ba3b-1508c5752273\",\"type\":\"WheelZoomTool\"},{\"id\":\"4b6b6ba4-a6b5-43eb-a613-3144c1332c6e\",\"type\":\"BoxZoomTool\"},{\"id\":\"77fd5353-1c06-4812-b105-7fa7aa86a219\",\"type\":\"SaveTool\"},{\"id\":\"b1e8dafe-f9d7-41e0-a9fe-b75f93468805\",\"type\":\"ResetTool\"},{\"id\":\"d78a0957-dde9-400a-8b6f-cb43e31b4d09\",\"type\":\"HelpTool\"}]},\"id\":\"e97a7893-8ad1-4888-8558-d443c6ab43e4\",\"type\":\"Toolbar\"},{\"attributes\":{\"line_alpha\":0.1,\"line_color\":\"#1f77b4\",\"line_width\":1.5,\"x\":{\"field\":\"x\"},\"y\":{\"field\":\"y\"}},\"id\":\"bf8ea853-d618-4aee-9067-87ef607b3b63\",\"type\":\"Line\"},{\"attributes\":{\"axis_label\":\"cooling rate [K/day]\",\"formatter\":{\"id\":\"871770f3-0f69-4ee8-873b-679adfa8294d\",\"type\":\"BasicTickFormatter\"},\"plot\":{\"id\":\"1bbbea96-ef0a-489a-836c-c96c16424746\",\"subtype\":\"Figure\",\"type\":\"Plot\"},\"ticker\":{\"id\":\"69eaef83-c692-44ff-896e-0e30a4cdc405\",\"type\":\"BasicTicker\"}},\"id\":\"3838166b-6d54-4ad5-b56e-eea3815de887\",\"type\":\"LinearAxis\"},{\"attributes\":{\"callback\":null,\"data\":{\"x\":{\"__ndarray__\":\"zxhdnl3RU0CKgDdE+dxEQP+f5duhdUFAMZBr6ewEQkABDxZQyK45QBiX3ka8EDZAj18alnlwL0CfYJlYHKIqQJoaoQNWxSJAv74t7BozIUBMkS56I6AXQBxPe4ld/BRAncjiKz2HCkCKCgdQ/WcBQKJTvluRvOg/jvJpYJwB9j+gcxKIKREEQOwUvOtLFw1AVkAt7oRoEkD4lECKxjYXQAZydNQ0jR1ACryvRZLfI0CN3MmPRGApQCcUNq4qNylA6FN9h30SJECRnP+HbGofQDQKaukXmhlAteFC/mL9E0CTDffT91MQQEoVAKh1YwtAqFesCIQRBkAUatBMXLz/P4fvYPUXo/Y/tDrQnFTK8T/hneFQ7xLnP14aDQuCJtc/5hrOx2LRzT+gE4V0bnvHP3eeIXamhrA/cmaxNtALrr92uqPyMJK3P6q5+U821+g/c0rZjXL49z/TaxRJZAUAQP3VLij27QFAiQe8XqaCAEAu4Q7keaX+P0ZyKG35kv0/XHVqXZRQ/T/+RskYEAv9PwKD1IjB3fw/JBko3yJ2/D8AmhCM5iX7P/btQHcr5vo/xjCcdQr9+j+f/V+tjrf6P0Wt2HvLrvo/84V/x6br+z/bYX40veD8P86HZwkyUvw/CUxgoI8l/D8RA+bsYB78P2au9w7DDvw/kRNJm3qS+j8wZ0xHVJ75Py0d1shscPk/NKgVKiiK+T/ONtzstIr5P4ps72zyaPc/TVSpuPUj9j9T2qZu6gj1P2XVmdu6VPQ/t/WgjjEZ9D+np734CoH0P1L4Q57qwfo/\",\"dtype\":\"float64\",\"shape\":[75]},\"y\":{\"__ndarray__\":\"hLndy31yND/6fmq8dJNIP8n9DkWBPlE/aDum7souWD/b4a/JGvVgP9f34SAhymc/ZvM4DOavcD+z0M5pFmh3PxuC4zJuaoA/xjcUPlsHhz8uHAjJAiaQP9ieWRKgppY/oI7HDFTGnz+a5h2n6EimPzS6g9iZQq8/IuAQqtTstT9SSZ2AJsK+P4nS3uALk8U/ih9j7lpCzj+ASL99HTjVP4enV8oyxN0/ACL99nXg5D9fmEwVjErtPyUGgZVDi/Q/AiuHFtnO/D9OYhBYOTQEQPHSTWIQWAxA4XoUrkfhE0D8qfHSTeIbQMh2vp8ajyNArkfhehRuK0Bcj8L1KDwzQFyPwvUo/DpAPgrXo3DtQkDNzMzMzIxKQClcj8L1eFJAKVyPwvVoWECamZmZmVleQGZmZmZmJmJAAAAAAAAgZUCamZmZmRloQJqZmZmZEWtAmpmZmZkJbkCamZmZmYFwQGZmZmZm/nFAZmZmZmZ6c0BmZmZmZvZ0QDQzMzMzc3ZAAAAAAADwd0AAAAAAAGx5QAAAAAAA6HpAzMzMzMxkfEDMzMzMzOB9QM3MzMzMXH9AzczMzMxsgEAzMzMzMyuBQDMzMzMz6YFAMzMzMzOngkCamZmZmWWDQAAAAAAAJIRAAAAAAADihEAAAAAAAKCFQGZmZmZmXoZAzczMzMwch0DNzMzMzNqHQM3MzMzMmIhAMzMzMzNXiUCamZmZmRWKQAAAAAAA1IpAAAAAAACSi0AAAAAAAFCMQGZmZmZmDo1AzczMzMzMjUDNzMzMzIqOQM3MzMzMSI9A\",\"dtype\":\"float64\",\"shape\":[75]}},\"selected\":{\"id\":\"0e996a88-d427-423f-9c37-bbdd406f5c93\",\"type\":\"Selection\"},\"selection_policy\":{\"id\":\"d0d65e43-2c79-4aaf-8895-444791cf530d\",\"type\":\"UnionRenderers\"}},\"id\":\"2b2e4aa2-976a-4267-8a6f-d9a14fa40a62\",\"type\":\"ColumnDataSource\"},{\"attributes\":{\"callback\":null,\"data\":{\"x\":{\"__ndarray__\":\"cm1sTMT3VEDEyvjosEJHQOKI6DjzCUNArgQWV9awPkB9Lm8XG3M4QEz+Qv6iYzNA7eV8HaPLLkCX1QHyTpMoQFBmYSYetiNAUB04GtGpH0AmFyVE5j8ZQJca9QPGqBNALJP+OOHHDEBNxaf7QF8AQKtislomWuw/cW2dcO6A9T/uJJvfPu0EQIaQLTI/JQ1AxGiII+PmEkCJvfVeuCsYQD6ZBhGbHB9AXQw69DTYJEAsubcwKucqQNuT9D5OmipAJyi3szEJJUBlNebh5WkgQDDcPHBr2xlArtlANXuQFEBdJadFHckQQI2Avh0ZsQtAjYiwt1rsBUCL0SDoVBgAQK6C0nEEjvc/CggLSme58T9sXU2orFPnP0v0JYz9Gdg/vT38vxYczD9nBQTe6kHHP1IhkEXJwKo/8OZnhCVAub+xtVgCpmqzP6DUpY6g0+k/PKK3T1h4+D8RTDjQc1EAQG/dAQs7TwJAQt2eHpPLAEBWEh074x//PyCap9ZSGf4/rEzaTySm/T+7aXhHRmr9P688KeqeNP0/ruZ4EemD/D8olrZcn9T7P0+vNc9hW/s/i9VVL+4P+z+0NzC24uz6P8731Kza8vo/xFf4SHzq+z+gYyHpvHb8P68ROkiFevw/BAjYdCga/D8AUp8VbW77P3JrF/nKmvo/qCQeGfq++T/dplwHJfn4P2G4p+Uva/g/OzZ0RqMZ+D8dmn/iar73P/OuA7Ka8PY/gaaeQHGn9T9hkyjAH1L0P3aZGhdAU/M/n8VP/g7P8j+90HxHNvfyPwhNBtgrqvk/\",\"dtype\":\"float64\",\"shape\":[75]},\"y\":{\"__ndarray__\":\"GhExyth1ND/Sv8nbtpRIP2vylNV0PVE/aTum7souWD/At0SJ8fVgPw3Iuahxymc/MSNhhJWvcD/bTfBN02d3P2zb5nxnaoA/CD5h5MAGhz8NmeH1TyaQP+zrCsc9p5Y/LbKd76fGnz/bLW5ISEmmPww9YvTcQq8/JV2OstnstT8Er5Y7M8G+P0c+r3jqkcU/5h99k6ZBzj88bCIzFzjVP4enV8oyxN0//yH99nXg5D8qOpLLf0jtP5kqGJXUifQ/c9cS8kHP/D+/DpwzojQEQIEmwoanVwxA4lgXt9HgE0BSSZ2AJuIbQAMJih9jjiNA5q4l5INuK0AwTKYKRj0zQNv5fmq8/DpAaCJseHrtQkB/+zpwzoxKQM3MzMzMeFJAZmZmZmZqWEAAAAAAAFxeQM3MzMzMJmJAmpmZmZkfZUBmZmZmZhhoQDMzMzMzEWtAAAAAAAAKbkBmZmZmZoFwQM3MzMzM/XFAMzMzMzN6c0CamZmZmfZ0QAAAAAAAc3ZAZmZmZmbvd0DNzMzMzGt5QDMzMzMz6HpAmpmZmZlkfEAAAAAAAOF9QGZmZmZmXX9AZmZmZuZsgECamZmZGSuBQM3MzMxM6YFAAAAAAICngkAzMzMzs2WDQGZmZmbmI4RAmpmZmRnihEDNzMzMTKCFQAAAAACAXoZAMzMzM7Mch0BmZmZm5tqHQJqZmZkZmYhAzczMzExXiUAAAAAAgBWKQDMzMzOz04pAZmZmZuaRi0CamZmZGVCMQM3MzMxMDo1AAAAAAIDMjUAzMzMzs4qOQGZmZmbmSI9A\",\"dtype\":\"float64\",\"shape\":[75]}},\"selected\":{\"id\":\"fbc0b142-de4a-4763-939e-b78b559415d5\",\"type\":\"Selection\"},\"selection_policy\":{\"id\":\"935dc937-6d3a-4358-908a-10de62a959dd\",\"type\":\"UnionRenderers\"}},\"id\":\"5aceb289-2da9-41e5-9741-20668ec870cc\",\"type\":\"ColumnDataSource\"},{\"attributes\":{\"line_color\":\"#4daf4a\",\"line_width\":1.5,\"x\":{\"field\":\"x\"},\"y\":{\"field\":\"y\"}},\"id\":\"74eb173b-6c5e-4bf6-af6a-af70bd7282c5\",\"type\":\"Line\"},{\"attributes\":{\"callback\":null,\"data\":{\"x\":{\"__ndarray__\":\"zxhdnl3RU0CKgDdE+dxEQP+f5duhdUFAMZBr6ewEQkABDxZQyK45QBiX3ka8EDZAj18alnlwL0CfYJlYHKIqQJoaoQNWxSJAv74t7BozIUBMkS56I6AXQBxPe4ld/BRAncjiKz2HCkCKCgdQ/WcBQKJTvluRvOg/jvJpYJwB9j+gcxKIKREEQOwUvOtLFw1AVkAt7oRoEkD4lECKxjYXQAZydNQ0jR1ACryvRZLfI0CN3MmPRGApQCcUNq4qNylA6FN9h30SJECRnP+HbGofQDQKaukXmhlAteFC/mL9E0CTDffT91MQQEoVAKh1YwtAqFesCIQRBkAUatBMXLz/P4fvYPUXo/Y/tDrQnFTK8T/hneFQ7xLnP14aDQuCJtc/5hrOx2LRzT+gE4V0bnvHP3eeIXamhrA/cmaxNtALrr92uqPyMJK3P6q5+U821+g/c0rZjXL49z/TaxRJZAUAQP3VLij27QFAiQe8XqaCAEAu4Q7keaX+P0ZyKG35kv0/XHVqXZRQ/T/+RskYEAv9PwKD1IjB3fw/JBko3yJ2/D8AmhCM5iX7P/btQHcr5vo/xjCcdQr9+j+f/V+tjrf6P0Wt2HvLrvo/84V/x6br+z/bYX40veD8P86HZwkyUvw/CUxgoI8l/D8RA+bsYB78P2au9w7DDvw/kRNJm3qS+j8wZ0xHVJ75Py0d1shscPk/NKgVKiiK+T/ONtzstIr5P4ps72zyaPc/TVSpuPUj9j9T2qZu6gj1P2XVmdu6VPQ/t/WgjjEZ9D+np734CoH0P1L4Q57qwfo/\",\"dtype\":\"float64\",\"shape\":[75]},\"y\":{\"__ndarray__\":\"hLndy31yND/6fmq8dJNIP8n9DkWBPlE/aDum7souWD/b4a/JGvVgP9f34SAhymc/ZvM4DOavcD+z0M5pFmh3PxuC4zJuaoA/xjcUPlsHhz8uHAjJAiaQP9ieWRKgppY/oI7HDFTGnz+a5h2n6EimPzS6g9iZQq8/IuAQqtTstT9SSZ2AJsK+P4nS3uALk8U/ih9j7lpCzj+ASL99HTjVP4enV8oyxN0/ACL99nXg5D9fmEwVjErtPyUGgZVDi/Q/AiuHFtnO/D9OYhBYOTQEQPHSTWIQWAxA4XoUrkfhE0D8qfHSTeIbQMh2vp8ajyNArkfhehRuK0Bcj8L1KDwzQFyPwvUo/DpAPgrXo3DtQkDNzMzMzIxKQClcj8L1eFJAKVyPwvVoWECamZmZmVleQGZmZmZmJmJAAAAAAAAgZUCamZmZmRloQJqZmZmZEWtAmpmZmZkJbkCamZmZmYFwQGZmZmZm/nFAZmZmZmZ6c0BmZmZmZvZ0QDQzMzMzc3ZAAAAAAADwd0AAAAAAAGx5QAAAAAAA6HpAzMzMzMxkfEDMzMzMzOB9QM3MzMzMXH9AzczMzMxsgEAzMzMzMyuBQDMzMzMz6YFAMzMzMzOngkCamZmZmWWDQAAAAAAAJIRAAAAAAADihEAAAAAAAKCFQGZmZmZmXoZAzczMzMwch0DNzMzMzNqHQM3MzMzMmIhAMzMzMzNXiUCamZmZmRWKQAAAAAAA1IpAAAAAAACSi0AAAAAAAFCMQGZmZmZmDo1AzczMzMzMjUDNzMzMzIqOQM3MzMzMSI9A\",\"dtype\":\"float64\",\"shape\":[75]}},\"selected\":{\"id\":\"60997f5c-3335-40bb-8c4c-766fe195fde2\",\"type\":\"Selection\"},\"selection_policy\":{\"id\":\"1b9a8642-13e2-4621-a064-c6a28257465f\",\"type\":\"UnionRenderers\"}},\"id\":\"fab1a3ce-9386-42fe-ac9e-3031ab8bd42a\",\"type\":\"ColumnDataSource\"},{\"attributes\":{\"source\":{\"id\":\"aa385e23-f268-4619-b4e7-c59d8f90b476\",\"type\":\"ColumnDataSource\"}},\"id\":\"f8e04d26-a26a-4cb8-9d2c-c9f35241e1f9\",\"type\":\"CDSView\"},{\"attributes\":{\"fill_alpha\":{\"value\":0.1},\"fill_color\":{\"value\":\"#1f77b4\"},\"line_alpha\":{\"value\":0.1},\"line_color\":{\"value\":\"#1f77b4\"},\"x\":{\"field\":\"x\"},\"y\":{\"field\":\"y\"}},\"id\":\"3d9eb8af-3146-45f0-bb6e-798b6dbad333\",\"type\":\"Square\"},{\"attributes\":{\"callback\":null,\"data\":{\"x\":{\"__ndarray__\":\"zxhdnl3RU0CKgDdE+dxEQP+f5duhdUFAMZBr6ewEQkABDxZQyK45QBiX3ka8EDZAj18alnlwL0CfYJlYHKIqQJoaoQNWxSJAv74t7BozIUBMkS56I6AXQBxPe4ld/BRAncjiKz2HCkCKCgdQ/WcBQKJTvluRvOg/jvJpYJwB9j+gcxKIKREEQOwUvOtLFw1AVkAt7oRoEkD4lECKxjYXQAZydNQ0jR1ACryvRZLfI0CN3MmPRGApQCcUNq4qNylA6FN9h30SJECRnP+HbGofQDQKaukXmhlAteFC/mL9E0CTDffT91MQQEoVAKh1YwtAqFesCIQRBkAUatBMXLz/P4fvYPUXo/Y/tDrQnFTK8T/hneFQ7xLnP14aDQuCJtc/5hrOx2LRzT+gE4V0bnvHP3eeIXamhrA/cmaxNtALrr92uqPyMJK3P6q5+U821+g/c0rZjXL49z/TaxRJZAUAQP3VLij27QFAiQe8XqaCAEAu4Q7keaX+P0ZyKG35kv0/XHVqXZRQ/T/+RskYEAv9PwKD1IjB3fw/JBko3yJ2/D8AmhCM5iX7P/btQHcr5vo/xjCcdQr9+j+f/V+tjrf6P0Wt2HvLrvo/84V/x6br+z/bYX40veD8P86HZwkyUvw/CUxgoI8l/D8RA+bsYB78P2au9w7DDvw/kRNJm3qS+j8wZ0xHVJ75Py0d1shscPk/NKgVKiiK+T/ONtzstIr5P4ps72zyaPc/TVSpuPUj9j9T2qZu6gj1P2XVmdu6VPQ/t/WgjjEZ9D+np734CoH0P1L4Q57qwfo/\",\"dtype\":\"float64\",\"shape\":[75]},\"y\":{\"__ndarray__\":\"hLndy31yND/6fmq8dJNIP8n9DkWBPlE/aDum7souWD/b4a/JGvVgP9f34SAhymc/ZvM4DOavcD+z0M5pFmh3PxuC4zJuaoA/xjcUPlsHhz8uHAjJAiaQP9ieWRKgppY/oI7HDFTGnz+a5h2n6EimPzS6g9iZQq8/IuAQqtTstT9SSZ2AJsK+P4nS3uALk8U/ih9j7lpCzj+ASL99HTjVP4enV8oyxN0/ACL99nXg5D9fmEwVjErtPyUGgZVDi/Q/AiuHFtnO/D9OYhBYOTQEQPHSTWIQWAxA4XoUrkfhE0D8qfHSTeIbQMh2vp8ajyNArkfhehRuK0Bcj8L1KDwzQFyPwvUo/DpAPgrXo3DtQkDNzMzMzIxKQClcj8L1eFJAKVyPwvVoWECamZmZmVleQGZmZmZmJmJAAAAAAAAgZUCamZmZmRloQJqZmZmZEWtAmpmZmZkJbkCamZmZmYFwQGZmZmZm/nFAZmZmZmZ6c0BmZmZmZvZ0QDQzMzMzc3ZAAAAAAADwd0AAAAAAAGx5QAAAAAAA6HpAzMzMzMxkfEDMzMzMzOB9QM3MzMzMXH9AzczMzMxsgEAzMzMzMyuBQDMzMzMz6YFAMzMzMzOngkCamZmZmWWDQAAAAAAAJIRAAAAAAADihEAAAAAAAKCFQGZmZmZmXoZAzczMzMwch0DNzMzMzNqHQM3MzMzMmIhAMzMzMzNXiUCamZmZmRWKQAAAAAAA1IpAAAAAAACSi0AAAAAAAFCMQGZmZmZmDo1AzczMzMzMjUDNzMzMzIqOQM3MzMzMSI9A\",\"dtype\":\"float64\",\"shape\":[75]}},\"selected\":{\"id\":\"c0c0fe8e-0774-418b-8d3e-b20994e51efd\",\"type\":\"Selection\"},\"selection_policy\":{\"id\":\"7ecb4cde-ab59-472e-853c-59297d606a65\",\"type\":\"UnionRenderers\"}},\"id\":\"aa385e23-f268-4619-b4e7-c59d8f90b476\",\"type\":\"ColumnDataSource\"},{\"attributes\":{},\"id\":\"fbc0b142-de4a-4763-939e-b78b559415d5\",\"type\":\"Selection\"},{\"attributes\":{\"plot\":null,\"text\":\"\"},\"id\":\"f2872a97-35c4-413a-a523-32ab399b8568\",\"type\":\"Title\"},{\"attributes\":{\"data_source\":{\"id\":\"f5169ce0-316e-4e2d-9ddd-5d3d194a46af\",\"type\":\"ColumnDataSource\"},\"glyph\":{\"id\":\"540a6b42-e6f0-4c71-8fd2-017787b35857\",\"type\":\"Line\"},\"hover_glyph\":null,\"muted_glyph\":null,\"nonselection_glyph\":{\"id\":\"bf8ea853-d618-4aee-9067-87ef607b3b63\",\"type\":\"Line\"},\"selection_glyph\":null,\"view\":{\"id\":\"33314aba-764d-45a2-9d81-e9dbf7f2eeb7\",\"type\":\"CDSView\"}},\"id\":\"74eed363-e379-4768-a5e4-636549113a0e\",\"type\":\"GlyphRenderer\"},{\"attributes\":{\"source\":{\"id\":\"24bacbd8-344c-4e10-9ff6-6de625bbd508\",\"type\":\"ColumnDataSource\"}},\"id\":\"b9fd2c7c-73b6-4ab8-9319-a0ad8f559cef\",\"type\":\"CDSView\"},{\"attributes\":{\"source\":{\"id\":\"e309df2e-2259-4058-afd6-c2709cb9750b\",\"type\":\"ColumnDataSource\"}},\"id\":\"6b740df6-c8bc-4ba0-bb54-d010f0a212f1\",\"type\":\"CDSView\"},{\"attributes\":{},\"id\":\"7891ca26-6c09-448b-b60f-5aacc21ceb77\",\"type\":\"BasicTicker\"},{\"attributes\":{\"fill_alpha\":{\"value\":0.1},\"fill_color\":{\"value\":\"#1f77b4\"},\"line_alpha\":{\"value\":0.1},\"line_color\":{\"value\":\"#1f77b4\"},\"x\":{\"field\":\"x\"},\"y\":{\"field\":\"y\"}},\"id\":\"bfc186fc-7dae-4e39-879d-545b8ac5a822\",\"type\":\"Circle\"},{\"attributes\":{\"line_alpha\":0.1,\"line_color\":\"#1f77b4\",\"line_width\":1.5,\"x\":{\"field\":\"x\"},\"y\":{\"field\":\"y\"}},\"id\":\"fae3deb9-77e0-4c9d-bbeb-929402e63ce4\",\"type\":\"Line\"},{\"attributes\":{\"line_alpha\":0.8,\"line_color\":\"#984ea3\",\"line_width\":1.5,\"x\":{\"field\":\"x\"},\"y\":{\"field\":\"y\"}},\"id\":\"9d323019-c524-49b8-af72-0fe825c05192\",\"type\":\"Line\"},{\"attributes\":{},\"id\":\"70457846-3e64-4e0a-89bf-9661cf1149d0\",\"type\":\"UnionRenderers\"},{\"attributes\":{\"plot\":null,\"text\":\"\"},\"id\":\"367a6d7b-0ee0-40cd-b3bc-918ed755fda7\",\"type\":\"Title\"},{\"attributes\":{\"source\":{\"id\":\"f5169ce0-316e-4e2d-9ddd-5d3d194a46af\",\"type\":\"ColumnDataSource\"}},\"id\":\"33314aba-764d-45a2-9d81-e9dbf7f2eeb7\",\"type\":\"CDSView\"},{\"attributes\":{\"overlay\":{\"id\":\"1918e722-4cfb-4502-8efd-d2ebff6c8142\",\"type\":\"BoxAnnotation\"}},\"id\":\"bea3510c-f088-40a5-bcf9-774c08d2afe7\",\"type\":\"BoxZoomTool\"},{\"attributes\":{\"label\":{\"value\":\"old CLIRAD (H2012)\"},\"renderers\":[{\"id\":\"4a4cc4fd-a59b-4935-99d0-9df701510185\",\"type\":\"GlyphRenderer\"},{\"id\":\"306fc8b4-ff15-479e-8f1b-6865bcdcae43\",\"type\":\"GlyphRenderer\"}]},\"id\":\"2b900a6d-f085-4ebc-8fe7-963dcbba2f62\",\"type\":\"LegendItem\"},{\"attributes\":{\"callback\":null,\"data\":{\"x\":{\"__ndarray__\":\"MEr14GpmEsDQUQomvS0TwDCOLtAVRQnA0G4E7w1kFUBACG6K07rzP2DG3ETKaAVAQDSvE8+a1D9AWLw0a3bwP8B2CVgEGd6/cAEb8SXj5T+gXWifLPzZv1BIY1h4OdU/eFTeaCAF0r/QU/RFxYvAP0h4oPen7Ly/oKOQ+b0VoD/AKRbxqoK7vwA09+KM5nu/gBvKVo2Xv78gEqWWOp7Ov4BzIslj9ti/YApK0VUU37/wyd0OWm7ov0D75ws5Mua/4Ic6h4XW3r+Q48y885XWvwB/tLThVLC/IP++3wZjwr+A8gVsXEm9v8DQmm/daKO/gI3nfaiUkj+AQE7cYBOdv+BkMo6PXa2/AKoyxVLtcD/A4u/aVS+Av6A9GyNwb46/kNIdfcBUiz+AHIdAy8FcP3BuzJoOMok/bmce0np0pD8UEyzBK56QP8Beg9VHjZ+/QPKVd3D5n7+AD/jI4QOjv4DcwbQ4Uai/QG61+C87or8ASozDVZqev0D75C8ty6C/ANT1m/xjlb9Ar8iri82Xv0BrLlVYt5W/ABSboWSMa78Ahb8UGtelv0BWMP2VTZ2/AMWkubnjcr+ACh1oBKqKv0CiEj/MA5G/APDicuinMj/Ajj/XEoCaP4DwRGmfKYS/AAqIEFfOZj8gItboev6lP0AvBF6BP7c/IN1dRRBwqj9gCvj956WkP8BM5jLOU7A/kB8XOk4Itz8Qy8mloMS8P8Bl77ruFZ4/AHOrAh4hnz9A3sjPVdmmP/C+80esF7A/gAETBSmitD+gbg0US524P6C02mPse7E/\",\"dtype\":\"float64\",\"shape\":[75]},\"y\":{\"__ndarray__\":\"GhExyth1ND/Sv8nbtpRIP2vylNV0PVE/aTum7souWD/At0SJ8fVgPw3Iuahxymc/MSNhhJWvcD/bTfBN02d3P2zb5nxnaoA/CD5h5MAGhz8NmeH1TyaQP+zrCsc9p5Y/LbKd76fGnz/bLW5ISEmmPww9YvTcQq8/JV2OstnstT8Er5Y7M8G+P0c+r3jqkcU/5h99k6ZBzj88bCIzFzjVP4enV8oyxN0//yH99nXg5D8qOpLLf0jtP5kqGJXUifQ/c9cS8kHP/D+/DpwzojQEQIEmwoanVwxA4lgXt9HgE0BSSZ2AJuIbQAMJih9jjiNA5q4l5INuK0AwTKYKRj0zQNv5fmq8/DpAaCJseHrtQkB/+zpwzoxKQM3MzMzMeFJAZmZmZmZqWEAAAAAAAFxeQM3MzMzMJmJAmpmZmZkfZUBmZmZmZhhoQDMzMzMzEWtAAAAAAAAKbkBmZmZmZoFwQM3MzMzM/XFAMzMzMzN6c0CamZmZmfZ0QAAAAAAAc3ZAZmZmZmbvd0DNzMzMzGt5QDMzMzMz6HpAmpmZmZlkfEAAAAAAAOF9QGZmZmZmXX9AZmZmZuZsgECamZmZGSuBQM3MzMxM6YFAAAAAAICngkAzMzMzs2WDQGZmZmbmI4RAmpmZmRnihEDNzMzMTKCFQAAAAACAXoZAMzMzM7Mch0BmZmZm5tqHQJqZmZkZmYhAzczMzExXiUAAAAAAgBWKQDMzMzOz04pAZmZmZuaRi0CamZmZGVCMQM3MzMxMDo1AAAAAAIDMjUAzMzMzs4qOQGZmZmbmSI9A\",\"dtype\":\"float64\",\"shape\":[75]}},\"selected\":{\"id\":\"950aafe3-44e6-4693-bb04-a49e42b0bffd\",\"type\":\"Selection\"},\"selection_policy\":{\"id\":\"b52b6320-8ba7-41d8-8a2a-ebc84a231b66\",\"type\":\"UnionRenderers\"}},\"id\":\"24bacbd8-344c-4e10-9ff6-6de625bbd508\",\"type\":\"ColumnDataSource\"},{\"attributes\":{\"label\":{\"value\":\"CLIRAD\"},\"renderers\":[{\"id\":\"1b7750fb-1fc0-43ad-9d0c-15dfd50c8e0a\",\"type\":\"GlyphRenderer\"}]},\"id\":\"1e156b35-5850-49c8-b74a-f87f7577f80e\",\"type\":\"LegendItem\"},{\"attributes\":{\"line_alpha\":0.1,\"line_color\":\"#1f77b4\",\"line_width\":1.5,\"x\":{\"field\":\"x\"},\"y\":{\"field\":\"y\"}},\"id\":\"b7a93323-db58-46f1-88fc-6ebab9c6a8b1\",\"type\":\"Line\"},{\"attributes\":{\"bottom_units\":\"screen\",\"fill_alpha\":{\"value\":0.5},\"fill_color\":{\"value\":\"lightgrey\"},\"left_units\":\"screen\",\"level\":\"overlay\",\"line_alpha\":{\"value\":1.0},\"line_color\":{\"value\":\"black\"},\"line_dash\":[4,4],\"line_width\":{\"value\":2},\"plot\":null,\"render_mode\":\"css\",\"right_units\":\"screen\",\"top_units\":\"screen\"},\"id\":\"636eac21-1112-4acb-a7ce-f5094b08039a\",\"type\":\"BoxAnnotation\"},{\"attributes\":{},\"id\":\"09cdfade-2e5c-4099-b345-d7bf2374f4d0\",\"type\":\"LogScale\"},{\"attributes\":{\"callback\":null,\"data\":{\"x\":{\"__ndarray__\":\"f4/ZiHBvTUBBtZ0vt7pGQG/fINbyy0NA0ajo+rFtQEBnDVKFn7o5QN3NivFcKTNAabSgY2PuK0B7hWUXvhYlQDx3CYxN8iBAfnWJavBXHECk3a5AKlsXQDOyYGKwNxJAHZ1V197ZCUBJkCI3QVr7P4M/exKR8OU/Ajm/zOnF9D8fwE2FbJgFQIqMToGNuQ5AlsKIL7yaE0DO7Jqv3tgXQO3K5wApaB1AWVZlhe2zI0DW0WHIGv0pQAkxhJVrIipA8iTl8GfOJEAjPetJ4hMgQE9BoH+NIBpASV7Hy1F2FUADwAhqxnQRQJjwl50iXQxA+iL5WPiKBkAltKk2mdr/PyZyy9df1/Y/u1Qqa6E48j95+UcQ7d/nP0JnUJIYxtM/1wsiMkwQwT92lYktlGnAP61qGo0owZk/Z/0TGbqCvb+uVUupIz+sP5VC1H0ssOg/ycFw9Uyz9z/ssMoMKSoAQGEZPzcyqAFATWXAqDEKAEAh1iL6bUL+P9gi4BmCD/0/x1rYn/hO/D9OqHoOOSH8P9pKBDuZQ/w/uG9sL4bb+z+Lyb/QD3T7P7369TPpE/s/lb7l8YHT+j8opgNAsqT6P0dOkJvUqfo/RwAjXhHG+z/XZlL5ja38PzwFoCGBLv0/fU6ZEVkx/T8m/V7HFnr8P4QnlD9IdPs/aP/heEc8+j87prZp7xn5P48FYqBGjfg/82a+l4Nf+D9jMgjrgDX4P2lOm8ca0/c/E1Ikvp+29j+1rnMBn4P1Pyo/ZCKJpPQ/GyZyNwMF9D92Gg/MT070P5rtBcT2+/o/\",\"dtype\":\"float64\",\"shape\":[75]},\"y\":{\"__ndarray__\":\"GhExyth1ND/Sv8nbtpRIP2vylNV0PVE/aTum7souWD/At0SJ8fVgPw3Iuahxymc/MSNhhJWvcD/bTfBN02d3P2zb5nxnaoA/CD5h5MAGhz8NmeH1TyaQP+zrCsc9p5Y/LbKd76fGnz/bLW5ISEmmPww9YvTcQq8/JV2OstnstT8Er5Y7M8G+P0c+r3jqkcU/5h99k6ZBzj88bCIzFzjVP4enV8oyxN0//yH99nXg5D8qOpLLf0jtP5kqGJXUifQ/c9cS8kHP/D+/DpwzojQEQIEmwoanVwxA4lgXt9HgE0BSSZ2AJuIbQAMJih9jjiNA5q4l5INuK0AwTKYKRj0zQNv5fmq8/DpAaCJseHrtQkB/+zpwzoxKQM3MzMzMeFJAZmZmZmZqWEAAAAAAAFxeQM3MzMzMJmJAmpmZmZkfZUBmZmZmZhhoQDMzMzMzEWtAAAAAAAAKbkBmZmZmZoFwQM3MzMzM/XFAMzMzMzN6c0CamZmZmfZ0QAAAAAAAc3ZAZmZmZmbvd0DNzMzMzGt5QDMzMzMz6HpAmpmZmZlkfEAAAAAAAOF9QGZmZmZmXX9AZmZmZuZsgECamZmZGSuBQM3MzMxM6YFAAAAAAICngkAzMzMzs2WDQGZmZmbmI4RAmpmZmRnihEDNzMzMTKCFQAAAAACAXoZAMzMzM7Mch0BmZmZm5tqHQJqZmZkZmYhAzczMzExXiUAAAAAAgBWKQDMzMzOz04pAZmZmZuaRi0CamZmZGVCMQM3MzMxMDo1AAAAAAIDMjUAzMzMzs4qOQGZmZmbmSI9A\",\"dtype\":\"float64\",\"shape\":[75]}},\"selected\":{\"id\":\"fd728bce-67b3-4144-9f6c-20325e8db5c6\",\"type\":\"Selection\"},\"selection_policy\":{\"id\":\"a8eb083a-2ed3-4e45-a4c0-c14bc9afc3cb\",\"type\":\"UnionRenderers\"}},\"id\":\"539e5814-c29c-44bf-8da3-b03588cc71e1\",\"type\":\"ColumnDataSource\"},{\"attributes\":{},\"id\":\"a8eb083a-2ed3-4e45-a4c0-c14bc9afc3cb\",\"type\":\"UnionRenderers\"},{\"attributes\":{\"source\":{\"id\":\"62437890-fd1d-48bb-9a64-10cb0079482f\",\"type\":\"ColumnDataSource\"}},\"id\":\"fc63a95c-7a6c-459e-936c-319f4862d26a\",\"type\":\"CDSView\"},{\"attributes\":{\"fill_alpha\":{\"value\":0.1},\"fill_color\":{\"value\":\"#1f77b4\"},\"line_alpha\":{\"value\":0.1},\"line_color\":{\"value\":\"#1f77b4\"},\"x\":{\"field\":\"x\"},\"y\":{\"field\":\"y\"}},\"id\":\"370604e0-94ee-480b-bedd-ab6832bc950c\",\"type\":\"Circle\"},{\"attributes\":{\"tools\":[{\"id\":\"7604e72d-f4e0-4881-8a7c-32efd3d6d8a3\",\"type\":\"PanTool\"},{\"id\":\"3d16eee8-2c08-4e42-9a52-980ae4b6bb5c\",\"type\":\"WheelZoomTool\"},{\"id\":\"cd6d1dc7-f173-4387-9fa4-6a3bf115ce53\",\"type\":\"BoxZoomTool\"},{\"id\":\"0e425897-522a-491b-8777-d22b2e987a0a\",\"type\":\"SaveTool\"},{\"id\":\"c454558d-959e-4c28-8f5a-c24244fca249\",\"type\":\"ResetTool\"},{\"id\":\"db99426c-f37b-4b2e-b60a-46b87ed9fa25\",\"type\":\"HelpTool\"},{\"id\":\"1dd10aaa-c99e-4217-9e41-a1c7eb4884dd\",\"type\":\"PanTool\"},{\"id\":\"b3e26350-5bc8-4974-8314-a674b4f23ca5\",\"type\":\"WheelZoomTool\"},{\"id\":\"bea3510c-f088-40a5-bcf9-774c08d2afe7\",\"type\":\"BoxZoomTool\"},{\"id\":\"e000fcb4-ca43-43bb-8a55-452e086630b6\",\"type\":\"SaveTool\"},{\"id\":\"d6692175-08d1-45de-bcd3-0934a153d7c0\",\"type\":\"ResetTool\"},{\"id\":\"a1a172b9-4f2a-4dbe-8097-12e82af67aab\",\"type\":\"HelpTool\"},{\"id\":\"4d3676d2-560f-43e3-a3e4-2cae75effc6b\",\"type\":\"PanTool\"},{\"id\":\"42e4ebe6-fa8c-4c37-ba3b-1508c5752273\",\"type\":\"WheelZoomTool\"},{\"id\":\"4b6b6ba4-a6b5-43eb-a613-3144c1332c6e\",\"type\":\"BoxZoomTool\"},{\"id\":\"77fd5353-1c06-4812-b105-7fa7aa86a219\",\"type\":\"SaveTool\"},{\"id\":\"b1e8dafe-f9d7-41e0-a9fe-b75f93468805\",\"type\":\"ResetTool\"},{\"id\":\"d78a0957-dde9-400a-8b6f-cb43e31b4d09\",\"type\":\"HelpTool\"}]},\"id\":\"32f4cf65-218b-4c46-8d73-d2849e7fa633\",\"type\":\"ProxyToolbar\"},{\"attributes\":{\"callback\":null,\"data\":{\"x\":{\"__ndarray__\":\"x5b+HzAAOcBUsGIrN//wv5rRCqfzP/g/lWfa9WxUAUC87i3eRnj0P2k3GFwGI82/KIzhzv3p9r/dgOLUhuT7v5h4v9KEHva/lz51fQWP6r8MmGM3wEvevzuGRhlaEde/bbBHDRNw17866bMAA5HVv6SM3CBVpsm/z43Ge5Rgp78kZlO2tGW1P0jAD/LkRMk/mjoLgCF7xj9YL7TWa7a0vxDl7AEhR9u/QmBL7XZE4r+66rwK7UHdv520GFyq+M2/jJoBaeFkvb+mEL7+5YDFv8xH2diDSLE/UZPQ0NK6zD++VDOMJHXFP0sBLvsvgbU/rU0TKbTTsz+AvPtlJoSVvyQR4kCT1Ka/DCzTR4jOnz+RgVP/DIiRPyc0VueTT7G/zGO0G5UXtr/Cv+nBWmGrvw3YBf5pwJu/5lmwUlIKkb9iK8y2UCyVv7MgGQ1BN6K/Zg7cSGuhqL97ks22YaWTv6+BWHga4bS/if7Ouy4suL+uhkcfqK6rv3h0d8wLnbC/Th4fALtytb/0FtyP05C0v706nuS1IK6/nt6OQVwMpb+xJ7P94iOYv7Ik7c8m3pG/XHsLuB42jr+yYiSLHQySv2VhKlGEQZK/gL6ranU1gr8Tm4EYiGiLP2Bxvix7f6Y/qGcUzAlzsT9osvobm7qwP2qCl8+oL6s/W7D28FdTnz+Ar/8sMWWAP2CXJl1dC4E/wS2MUhR4kT8AEiYigsWdP+Tu87ICUKw/Urla2OfysD86tbEU9BezP0pbmrSQFLU/zwcmkkNfsz+emyRJmHG1PyEJ+r+uHLU/\",\"dtype\":\"float64\",\"shape\":[75]},\"y\":{\"__ndarray__\":\"GhExyth1ND/Sv8nbtpRIP2vylNV0PVE/aTum7souWD/At0SJ8fVgPw3Iuahxymc/MSNhhJWvcD/bTfBN02d3P2zb5nxnaoA/CD5h5MAGhz8NmeH1TyaQP+zrCsc9p5Y/LbKd76fGnz/bLW5ISEmmPww9YvTcQq8/JV2OstnstT8Er5Y7M8G+P0c+r3jqkcU/5h99k6ZBzj88bCIzFzjVP4enV8oyxN0//yH99nXg5D8qOpLLf0jtP5kqGJXUifQ/c9cS8kHP/D+/DpwzojQEQIEmwoanVwxA4lgXt9HgE0BSSZ2AJuIbQAMJih9jjiNA5q4l5INuK0AwTKYKRj0zQNv5fmq8/DpAaCJseHrtQkB/+zpwzoxKQM3MzMzMeFJAZmZmZmZqWEAAAAAAAFxeQM3MzMzMJmJAmpmZmZkfZUBmZmZmZhhoQDMzMzMzEWtAAAAAAAAKbkBmZmZmZoFwQM3MzMzM/XFAMzMzMzN6c0CamZmZmfZ0QAAAAAAAc3ZAZmZmZmbvd0DNzMzMzGt5QDMzMzMz6HpAmpmZmZlkfEAAAAAAAOF9QGZmZmZmXX9AZmZmZuZsgECamZmZGSuBQM3MzMxM6YFAAAAAAICngkAzMzMzs2WDQGZmZmbmI4RAmpmZmRnihEDNzMzMTKCFQAAAAACAXoZAMzMzM7Mch0BmZmZm5tqHQJqZmZkZmYhAzczMzExXiUAAAAAAgBWKQDMzMzOz04pAZmZmZuaRi0CamZmZGVCMQM3MzMxMDo1AAAAAAIDMjUAzMzMzs4qOQGZmZmbmSI9A\",\"dtype\":\"float64\",\"shape\":[75]}},\"selected\":{\"id\":\"1f0b91e8-52d0-4b19-bc35-48743e4b9571\",\"type\":\"Selection\"},\"selection_policy\":{\"id\":\"c2333dfb-75bd-4393-a7be-7cb942b024b1\",\"type\":\"UnionRenderers\"}},\"id\":\"fa84c5cc-2e2f-46e4-9883-59b556b72c57\",\"type\":\"ColumnDataSource\"},{\"attributes\":{\"label\":{\"value\":\"old CLIRAD (H2012) - CRD\"},\"renderers\":[{\"id\":\"422c3f20-a19f-4174-9b80-fa2e24722b32\",\"type\":\"GlyphRenderer\"}]},\"id\":\"cd0b34b7-7b7c-4a41-a075-08a07efdfa42\",\"type\":\"LegendItem\"},{\"attributes\":{\"callback\":null,\"data\":{\"x\":{\"__ndarray__\":\"cm1sTMT3VEDEyvjosEJHQOKI6DjzCUNArgQWV9awPkB9Lm8XG3M4QEz+Qv6iYzNA7eV8HaPLLkCX1QHyTpMoQFBmYSYetiNAUB04GtGpH0AmFyVE5j8ZQJca9QPGqBNALJP+OOHHDEBNxaf7QF8AQKtislomWuw/cW2dcO6A9T/uJJvfPu0EQIaQLTI/JQ1AxGiII+PmEkCJvfVeuCsYQD6ZBhGbHB9AXQw69DTYJEAsubcwKucqQNuT9D5OmipAJyi3szEJJUBlNebh5WkgQDDcPHBr2xlArtlANXuQFEBdJadFHckQQI2Avh0ZsQtAjYiwt1rsBUCL0SDoVBgAQK6C0nEEjvc/CggLSme58T9sXU2orFPnP0v0JYz9Gdg/vT38vxYczD9nBQTe6kHHP1IhkEXJwKo/8OZnhCVAub+xtVgCpmqzP6DUpY6g0+k/PKK3T1h4+D8RTDjQc1EAQG/dAQs7TwJAQt2eHpPLAEBWEh074x//PyCap9ZSGf4/rEzaTySm/T+7aXhHRmr9P688KeqeNP0/ruZ4EemD/D8olrZcn9T7P0+vNc9hW/s/i9VVL+4P+z+0NzC24uz6P8731Kza8vo/xFf4SHzq+z+gYyHpvHb8P68ROkiFevw/BAjYdCga/D8AUp8VbW77P3JrF/nKmvo/qCQeGfq++T/dplwHJfn4P2G4p+Uva/g/OzZ0RqMZ+D8dmn/iar73P/OuA7Ka8PY/gaaeQHGn9T9hkyjAH1L0P3aZGhdAU/M/n8VP/g7P8j+90HxHNvfyPwhNBtgrqvk/\",\"dtype\":\"float64\",\"shape\":[75]},\"y\":{\"__ndarray__\":\"GhExyth1ND/Sv8nbtpRIP2vylNV0PVE/aTum7souWD/At0SJ8fVgPw3Iuahxymc/MSNhhJWvcD/bTfBN02d3P2zb5nxnaoA/CD5h5MAGhz8NmeH1TyaQP+zrCsc9p5Y/LbKd76fGnz/bLW5ISEmmPww9YvTcQq8/JV2OstnstT8Er5Y7M8G+P0c+r3jqkcU/5h99k6ZBzj88bCIzFzjVP4enV8oyxN0//yH99nXg5D8qOpLLf0jtP5kqGJXUifQ/c9cS8kHP/D+/DpwzojQEQIEmwoanVwxA4lgXt9HgE0BSSZ2AJuIbQAMJih9jjiNA5q4l5INuK0AwTKYKRj0zQNv5fmq8/DpAaCJseHrtQkB/+zpwzoxKQM3MzMzMeFJAZmZmZmZqWEAAAAAAAFxeQM3MzMzMJmJAmpmZmZkfZUBmZmZmZhhoQDMzMzMzEWtAAAAAAAAKbkBmZmZmZoFwQM3MzMzM/XFAMzMzMzN6c0CamZmZmfZ0QAAAAAAAc3ZAZmZmZmbvd0DNzMzMzGt5QDMzMzMz6HpAmpmZmZlkfEAAAAAAAOF9QGZmZmZmXX9AZmZmZuZsgECamZmZGSuBQM3MzMxM6YFAAAAAAICngkAzMzMzs2WDQGZmZmbmI4RAmpmZmRnihEDNzMzMTKCFQAAAAACAXoZAMzMzM7Mch0BmZmZm5tqHQJqZmZkZmYhAzczMzExXiUAAAAAAgBWKQDMzMzOz04pAZmZmZuaRi0CamZmZGVCMQM3MzMxMDo1AAAAAAIDMjUAzMzMzs4qOQGZmZmbmSI9A\",\"dtype\":\"float64\",\"shape\":[75]}},\"selected\":{\"id\":\"c76dd86c-0596-4149-921e-fac01c7a0343\",\"type\":\"Selection\"},\"selection_policy\":{\"id\":\"e77b0e42-e5c9-47af-b95d-67d6528b3ede\",\"type\":\"UnionRenderers\"}},\"id\":\"503bce9a-5d8d-4d9b-b608-7103344d755d\",\"type\":\"ColumnDataSource\"},{\"attributes\":{\"callback\":null,\"end\":0.01,\"start\":1020},\"id\":\"16aa67c8-b3d6-4711-8b41-69ca03a05928\",\"type\":\"Range1d\"},{\"attributes\":{\"above\":[{\"id\":\"a9b5eb70-7d00-491e-b312-a48c792749e8\",\"type\":\"Legend\"}],\"below\":[{\"id\":\"3838166b-6d54-4ad5-b56e-eea3815de887\",\"type\":\"LinearAxis\"}],\"left\":[{\"id\":\"74726f06-2f59-49f5-a660-9b63744acfa9\",\"type\":\"LogAxis\"}],\"plot_width\":300,\"renderers\":[{\"id\":\"3838166b-6d54-4ad5-b56e-eea3815de887\",\"type\":\"LinearAxis\"},{\"id\":\"120e3ab8-939e-4eb3-b63b-31bae4b7f1df\",\"type\":\"Grid\"},{\"id\":\"74726f06-2f59-49f5-a660-9b63744acfa9\",\"type\":\"LogAxis\"},{\"id\":\"3730ecd7-273d-4ed6-8188-cfd2e4813d96\",\"type\":\"Grid\"},{\"id\":\"636eac21-1112-4acb-a7ce-f5094b08039a\",\"type\":\"BoxAnnotation\"},{\"id\":\"d6ec4db7-c5aa-46a4-9ffc-ad096b7e9208\",\"type\":\"GlyphRenderer\"},{\"id\":\"b3a9c30b-f71b-4761-8819-cecfeef97b0c\",\"type\":\"GlyphRenderer\"},{\"id\":\"422c3f20-a19f-4174-9b80-fa2e24722b32\",\"type\":\"GlyphRenderer\"},{\"id\":\"a9b5eb70-7d00-491e-b312-a48c792749e8\",\"type\":\"Legend\"}],\"title\":{\"id\":\"367a6d7b-0ee0-40cd-b3bc-918ed755fda7\",\"type\":\"Title\"},\"toolbar\":{\"id\":\"e97a7893-8ad1-4888-8558-d443c6ab43e4\",\"type\":\"Toolbar\"},\"toolbar_location\":null,\"x_range\":{\"id\":\"3cbc1179-70e4-46ad-92e0-a86bb4b47d83\",\"type\":\"Range1d\"},\"x_scale\":{\"id\":\"719a5615-ae8b-40e2-8c6a-c4acd9866818\",\"type\":\"LinearScale\"},\"y_range\":{\"id\":\"16aa67c8-b3d6-4711-8b41-69ca03a05928\",\"type\":\"Range1d\"},\"y_scale\":{\"id\":\"09cdfade-2e5c-4099-b345-d7bf2374f4d0\",\"type\":\"LogScale\"}},\"id\":\"1bbbea96-ef0a-489a-836c-c96c16424746\",\"subtype\":\"Figure\",\"type\":\"Plot\"},{\"attributes\":{\"callback\":null,\"end\":0.01,\"start\":1020},\"id\":\"642feb0f-07c8-45a0-b1cd-d403c86b9dcd\",\"type\":\"Range1d\"},{\"attributes\":{\"data_source\":{\"id\":\"62437890-fd1d-48bb-9a64-10cb0079482f\",\"type\":\"ColumnDataSource\"},\"glyph\":{\"id\":\"9d323019-c524-49b8-af72-0fe825c05192\",\"type\":\"Line\"},\"hover_glyph\":null,\"muted_glyph\":null,\"nonselection_glyph\":{\"id\":\"b7a93323-db58-46f1-88fc-6ebab9c6a8b1\",\"type\":\"Line\"},\"selection_glyph\":null,\"view\":{\"id\":\"fc63a95c-7a6c-459e-936c-319f4862d26a\",\"type\":\"CDSView\"}},\"id\":\"b3a9c30b-f71b-4761-8819-cecfeef97b0c\",\"type\":\"GlyphRenderer\"},{\"attributes\":{\"items\":[{\"id\":\"57bcb706-fabd-4d57-ab48-de258b21940c\",\"type\":\"LegendItem\"},{\"id\":\"cd0b34b7-7b7c-4a41-a075-08a07efdfa42\",\"type\":\"LegendItem\"}],\"label_text_font_size\":{\"value\":\"8pt\"},\"location\":\"top_center\",\"orientation\":\"horizontal\",\"plot\":{\"id\":\"1bbbea96-ef0a-489a-836c-c96c16424746\",\"subtype\":\"Figure\",\"type\":\"Plot\"}},\"id\":\"a9b5eb70-7d00-491e-b312-a48c792749e8\",\"type\":\"Legend\"},{\"attributes\":{},\"id\":\"b52b6320-8ba7-41d8-8a2a-ebc84a231b66\",\"type\":\"UnionRenderers\"},{\"attributes\":{\"source\":{\"id\":\"2b2e4aa2-976a-4267-8a6f-d9a14fa40a62\",\"type\":\"ColumnDataSource\"}},\"id\":\"f581b791-d90b-465e-9647-e27aee7d9118\",\"type\":\"CDSView\"},{\"attributes\":{},\"id\":\"b1e8dafe-f9d7-41e0-a9fe-b75f93468805\",\"type\":\"ResetTool\"},{\"attributes\":{},\"id\":\"e000fcb4-ca43-43bb-8a55-452e086630b6\",\"type\":\"SaveTool\"},{\"attributes\":{},\"id\":\"b3e26350-5bc8-4974-8314-a674b4f23ca5\",\"type\":\"WheelZoomTool\"},{\"attributes\":{},\"id\":\"950aafe3-44e6-4693-bb04-a49e42b0bffd\",\"type\":\"Selection\"},{\"attributes\":{},\"id\":\"fd728bce-67b3-4144-9f6c-20325e8db5c6\",\"type\":\"Selection\"},{\"attributes\":{},\"id\":\"db99426c-f37b-4b2e-b60a-46b87ed9fa25\",\"type\":\"HelpTool\"},{\"attributes\":{},\"id\":\"4352112f-163c-44c9-bba5-06eef217f970\",\"type\":\"Selection\"},{\"attributes\":{\"data_source\":{\"id\":\"503bce9a-5d8d-4d9b-b608-7103344d755d\",\"type\":\"ColumnDataSource\"},\"glyph\":{\"id\":\"6717d9e3-e25d-442d-a8f0-680718487853\",\"type\":\"Circle\"},\"hover_glyph\":null,\"muted_glyph\":null,\"nonselection_glyph\":{\"id\":\"b2d34cb8-368c-4894-9701-fdee58c7fff3\",\"type\":\"Circle\"},\"selection_glyph\":null,\"view\":{\"id\":\"993eee37-7545-45ab-9f52-eac1fe61d34e\",\"type\":\"CDSView\"}},\"id\":\"ab8342a9-08f4-430f-b161-633299be4603\",\"type\":\"GlyphRenderer\"},{\"attributes\":{},\"id\":\"1dd10aaa-c99e-4217-9e41-a1c7eb4884dd\",\"type\":\"PanTool\"},{\"attributes\":{},\"id\":\"a1a172b9-4f2a-4dbe-8097-12e82af67aab\",\"type\":\"HelpTool\"},{\"attributes\":{\"bottom_units\":\"screen\",\"fill_alpha\":{\"value\":0.5},\"fill_color\":{\"value\":\"lightgrey\"},\"left_units\":\"screen\",\"level\":\"overlay\",\"line_alpha\":{\"value\":1.0},\"line_color\":{\"value\":\"black\"},\"line_dash\":[4,4],\"line_width\":{\"value\":2},\"plot\":null,\"render_mode\":\"css\",\"right_units\":\"screen\",\"top_units\":\"screen\"},\"id\":\"e8a603a4-78e5-45d9-9512-f049bd9a009e\",\"type\":\"BoxAnnotation\"},{\"attributes\":{\"callback\":null,\"data\":{\"x\":{\"__ndarray__\":\"f4/ZiHBvTUBBtZ0vt7pGQG/fINbyy0NA0ajo+rFtQEBnDVKFn7o5QN3NivFcKTNAabSgY2PuK0B7hWUXvhYlQDx3CYxN8iBAfnWJavBXHECk3a5AKlsXQDOyYGKwNxJAHZ1V197ZCUBJkCI3QVr7P4M/exKR8OU/Ajm/zOnF9D8fwE2FbJgFQIqMToGNuQ5AlsKIL7yaE0DO7Jqv3tgXQO3K5wApaB1AWVZlhe2zI0DW0WHIGv0pQAkxhJVrIipA8iTl8GfOJEAjPetJ4hMgQE9BoH+NIBpASV7Hy1F2FUADwAhqxnQRQJjwl50iXQxA+iL5WPiKBkAltKk2mdr/PyZyy9df1/Y/u1Qqa6E48j95+UcQ7d/nP0JnUJIYxtM/1wsiMkwQwT92lYktlGnAP61qGo0owZk/Z/0TGbqCvb+uVUupIz+sP5VC1H0ssOg/ycFw9Uyz9z/ssMoMKSoAQGEZPzcyqAFATWXAqDEKAEAh1iL6bUL+P9gi4BmCD/0/x1rYn/hO/D9OqHoOOSH8P9pKBDuZQ/w/uG9sL4bb+z+Lyb/QD3T7P7369TPpE/s/lb7l8YHT+j8opgNAsqT6P0dOkJvUqfo/RwAjXhHG+z/XZlL5ja38PzwFoCGBLv0/fU6ZEVkx/T8m/V7HFnr8P4QnlD9IdPs/aP/heEc8+j87prZp7xn5P48FYqBGjfg/82a+l4Nf+D9jMgjrgDX4P2lOm8ca0/c/E1Ikvp+29j+1rnMBn4P1Pyo/ZCKJpPQ/GyZyNwMF9D92Gg/MT070P5rtBcT2+/o/\",\"dtype\":\"float64\",\"shape\":[75]},\"y\":{\"__ndarray__\":\"GhExyth1ND/Sv8nbtpRIP2vylNV0PVE/aTum7souWD/At0SJ8fVgPw3Iuahxymc/MSNhhJWvcD/bTfBN02d3P2zb5nxnaoA/CD5h5MAGhz8NmeH1TyaQP+zrCsc9p5Y/LbKd76fGnz/bLW5ISEmmPww9YvTcQq8/JV2OstnstT8Er5Y7M8G+P0c+r3jqkcU/5h99k6ZBzj88bCIzFzjVP4enV8oyxN0//yH99nXg5D8qOpLLf0jtP5kqGJXUifQ/c9cS8kHP/D+/DpwzojQEQIEmwoanVwxA4lgXt9HgE0BSSZ2AJuIbQAMJih9jjiNA5q4l5INuK0AwTKYKRj0zQNv5fmq8/DpAaCJseHrtQkB/+zpwzoxKQM3MzMzMeFJAZmZmZmZqWEAAAAAAAFxeQM3MzMzMJmJAmpmZmZkfZUBmZmZmZhhoQDMzMzMzEWtAAAAAAAAKbkBmZmZmZoFwQM3MzMzM/XFAMzMzMzN6c0CamZmZmfZ0QAAAAAAAc3ZAZmZmZmbvd0DNzMzMzGt5QDMzMzMz6HpAmpmZmZlkfEAAAAAAAOF9QGZmZmZmXX9AZmZmZuZsgECamZmZGSuBQM3MzMxM6YFAAAAAAICngkAzMzMzs2WDQGZmZmbmI4RAmpmZmRnihEDNzMzMTKCFQAAAAACAXoZAMzMzM7Mch0BmZmZm5tqHQJqZmZkZmYhAzczMzExXiUAAAAAAgBWKQDMzMzOz04pAZmZmZuaRi0CamZmZGVCMQM3MzMxMDo1AAAAAAIDMjUAzMzMzs4qOQGZmZmbmSI9A\",\"dtype\":\"float64\",\"shape\":[75]}},\"selected\":{\"id\":\"f898c0c5-a0fc-4997-80ae-ac00533fa399\",\"type\":\"Selection\"},\"selection_policy\":{\"id\":\"4681d15e-cf01-44bd-94d5-c2df59891fc6\",\"type\":\"UnionRenderers\"}},\"id\":\"4c387b5e-6048-43f3-993e-77ebd3e7aa30\",\"type\":\"ColumnDataSource\"},{\"attributes\":{},\"id\":\"77fd5353-1c06-4812-b105-7fa7aa86a219\",\"type\":\"SaveTool\"},{\"attributes\":{},\"id\":\"6a98027b-89f3-4330-97a9-8315d5a2cc94\",\"type\":\"UnionRenderers\"},{\"attributes\":{\"bottom_units\":\"screen\",\"fill_alpha\":{\"value\":0.5},\"fill_color\":{\"value\":\"lightgrey\"},\"left_units\":\"screen\",\"level\":\"overlay\",\"line_alpha\":{\"value\":1.0},\"line_color\":{\"value\":\"black\"},\"line_dash\":[4,4],\"line_width\":{\"value\":2},\"plot\":null,\"render_mode\":\"css\",\"right_units\":\"screen\",\"top_units\":\"screen\"},\"id\":\"1918e722-4cfb-4502-8efd-d2ebff6c8142\",\"type\":\"BoxAnnotation\"},{\"attributes\":{},\"id\":\"7bf6257d-21b8-48a5-8d15-b6c9bc77009e\",\"type\":\"BasicTickFormatter\"},{\"attributes\":{\"data_source\":{\"id\":\"24bacbd8-344c-4e10-9ff6-6de625bbd508\",\"type\":\"ColumnDataSource\"},\"glyph\":{\"id\":\"4ad75b9b-44d3-4d71-8b02-40043f05f595\",\"type\":\"Line\"},\"hover_glyph\":null,\"muted_glyph\":null,\"nonselection_glyph\":{\"id\":\"f26e716f-fb32-47c8-86b6-b1dc97d94a67\",\"type\":\"Line\"},\"selection_glyph\":null,\"view\":{\"id\":\"b9fd2c7c-73b6-4ab8-9319-a0ad8f559cef\",\"type\":\"CDSView\"}},\"id\":\"422c3f20-a19f-4174-9b80-fa2e24722b32\",\"type\":\"GlyphRenderer\"},{\"attributes\":{\"line_alpha\":0.5,\"line_color\":\"#377eb8\",\"line_dash\":[6],\"line_width\":4,\"x\":{\"field\":\"x\"},\"y\":{\"field\":\"y\"}},\"id\":\"4ad75b9b-44d3-4d71-8b02-40043f05f595\",\"type\":\"Line\"},{\"attributes\":{\"label\":{\"value\":\"CRD\"},\"renderers\":[{\"id\":\"ab8342a9-08f4-430f-b161-633299be4603\",\"type\":\"GlyphRenderer\"},{\"id\":\"74eed363-e379-4768-a5e4-636549113a0e\",\"type\":\"GlyphRenderer\"}]},\"id\":\"54d55413-b86a-4630-8a21-e83bb1c52743\",\"type\":\"LegendItem\"},{\"attributes\":{},\"id\":\"d6692175-08d1-45de-bcd3-0934a153d7c0\",\"type\":\"ResetTool\"},{\"attributes\":{\"children\":[{\"id\":\"682f5882-b780-47e9-8061-6814a81dbb61\",\"type\":\"ToolbarBox\"},{\"id\":\"d03c98a3-7844-4748-9e70-dd8992ad39dd\",\"type\":\"Column\"}]},\"id\":\"78504717-26c8-49fc-b9e8-6a624db7732b\",\"type\":\"Column\"},{\"attributes\":{\"toolbar\":{\"id\":\"32f4cf65-218b-4c46-8d73-d2849e7fa633\",\"type\":\"ProxyToolbar\"},\"toolbar_location\":\"above\"},\"id\":\"682f5882-b780-47e9-8061-6814a81dbb61\",\"type\":\"ToolbarBox\"},{\"attributes\":{\"source\":{\"id\":\"fab1a3ce-9386-42fe-ac9e-3031ab8bd42a\",\"type\":\"ColumnDataSource\"}},\"id\":\"1bce00b2-cdff-47b5-ba3b-66140977db38\",\"type\":\"CDSView\"},{\"attributes\":{\"fill_alpha\":{\"value\":0.7},\"fill_color\":{\"value\":\"#984ea3\"},\"line_alpha\":{\"value\":0.7},\"line_color\":{\"value\":\"#984ea3\"},\"x\":{\"field\":\"x\"},\"y\":{\"field\":\"y\"}},\"id\":\"92ba0f8e-b4f0-4354-92c0-598468117aed\",\"type\":\"Circle\"},{\"attributes\":{\"active_drag\":\"auto\",\"active_inspect\":\"auto\",\"active_scroll\":\"auto\",\"active_tap\":\"auto\",\"tools\":[{\"id\":\"7604e72d-f4e0-4881-8a7c-32efd3d6d8a3\",\"type\":\"PanTool\"},{\"id\":\"3d16eee8-2c08-4e42-9a52-980ae4b6bb5c\",\"type\":\"WheelZoomTool\"},{\"id\":\"cd6d1dc7-f173-4387-9fa4-6a3bf115ce53\",\"type\":\"BoxZoomTool\"},{\"id\":\"0e425897-522a-491b-8777-d22b2e987a0a\",\"type\":\"SaveTool\"},{\"id\":\"c454558d-959e-4c28-8f5a-c24244fca249\",\"type\":\"ResetTool\"},{\"id\":\"db99426c-f37b-4b2e-b60a-46b87ed9fa25\",\"type\":\"HelpTool\"}]},\"id\":\"c3265de8-5662-496b-8281-b20a47a54bf1\",\"type\":\"Toolbar\"}],\"root_ids\":[\"78504717-26c8-49fc-b9e8-6a624db7732b\"]},\"title\":\"Bokeh Application\",\"version\":\"0.12.16\"}};\n",
       "  var render_items = [{\"docid\":\"9ad4af1a-9a08-4fa4-8dbf-7fcc34869971\",\"elementid\":\"265ea9b9-7d95-4309-bfd5-84d8a9e0443d\",\"modelid\":\"78504717-26c8-49fc-b9e8-6a624db7732b\"}];\n",
       "  root.Bokeh.embed.embed_items_notebook(docs_json, render_items);\n",
       "\n",
       "  }\n",
       "  if (root.Bokeh !== undefined) {\n",
       "    embed_document(root);\n",
       "  } else {\n",
       "    var attempts = 0;\n",
       "    var timer = setInterval(function(root) {\n",
       "      if (root.Bokeh !== undefined) {\n",
       "        embed_document(root);\n",
       "        clearInterval(timer);\n",
       "      }\n",
       "      attempts++;\n",
       "      if (attempts > 100) {\n",
       "        console.log(\"Bokeh: ERROR: Unable to run BokehJS code because BokehJS library is missing\")\n",
       "        clearInterval(timer);\n",
       "      }\n",
       "    }, 10, root)\n",
       "  }\n",
       "})(window);"
      ],
      "application/vnd.bokehjs_exec.v0+json": ""
     },
     "metadata": {
      "application/vnd.bokehjs_exec.v0+json": {
       "id": "78504717-26c8-49fc-b9e8-6a624db7732b"
      }
     },
     "output_type": "display_data"
    },
    {
     "data": {
      "text/markdown": [
       "*FIGURE.* Cooling rates & difference."
      ],
      "text/plain": [
       "<IPython.core.display.Markdown object>"
      ]
     },
     "metadata": {},
     "output_type": "display_data"
    },
    {
     "data": {
      "text/html": [
       "<a id=\"Fluxes._mls.\"></a>"
      ],
      "text/plain": [
       "<IPython.core.display.HTML object>"
      ]
     },
     "metadata": {},
     "output_type": "display_data"
    },
    {
     "data": {
      "text/markdown": [
       "# Fluxes. mls."
      ],
      "text/plain": [
       "<IPython.core.display.Markdown object>"
      ]
     },
     "metadata": {},
     "output_type": "display_data"
    },
    {
     "data": {
      "text/html": [
       "\n",
       "<div class=\"bk-root\">\n",
       "    <div class=\"bk-plotdiv\" id=\"92c9bbff-f1a3-4a60-af46-949274823efc\"></div>\n",
       "</div>"
      ]
     },
     "metadata": {},
     "output_type": "display_data"
    },
    {
     "data": {
      "application/javascript": [
       "(function(root) {\n",
       "  function embed_document(root) {\n",
       "    \n",
       "  var docs_json = {\"2272f129-8000-4f52-871b-ce46a3ef17d8\":{\"roots\":{\"references\":[{\"attributes\":{},\"id\":\"1108d319-dc5f-47fd-8475-cc32498f1eec\",\"type\":\"BasicTickFormatter\"},{\"attributes\":{\"plot\":null,\"text\":\"SFC flux. CLIRAD - CRD.\"},\"id\":\"04a086e0-4ebe-4bc0-97e2-72d9da5fb15c\",\"type\":\"Title\"},{\"attributes\":{\"callback\":null,\"factors\":[\"1\",\"2\",\"3\",\"4\",\"5\",\"6\",\"7\",\"8\",\"9\",\"10\",\"11\"]},\"id\":\"f1f9f004-88d4-4c07-a340-fc7968721747\",\"type\":\"FactorRange\"},{\"attributes\":{},\"id\":\"c217bf99-4a84-43de-b9fa-a00f8428d973\",\"type\":\"CategoricalTickFormatter\"},{\"attributes\":{\"children\":[{\"id\":\"0472b20d-b09a-49c4-8762-1a7ad8c13212\",\"type\":\"Row\"}]},\"id\":\"7121aedd-a32d-49cc-a670-aa4a150a507e\",\"type\":\"Column\"},{\"attributes\":{\"below\":[{\"id\":\"cb93add6-5550-46b0-9075-af9f25683f81\",\"type\":\"CategoricalAxis\"}],\"left\":[{\"id\":\"4efbb605-4ac6-45a3-a7aa-7a7b559f5e09\",\"type\":\"LinearAxis\"}],\"plot_height\":300,\"plot_width\":300,\"renderers\":[{\"id\":\"cb93add6-5550-46b0-9075-af9f25683f81\",\"type\":\"CategoricalAxis\"},{\"id\":\"001c518d-5282-4bc3-a4f8-d502530690ae\",\"type\":\"Grid\"},{\"id\":\"4efbb605-4ac6-45a3-a7aa-7a7b559f5e09\",\"type\":\"LinearAxis\"},{\"id\":\"adbfa278-3b7b-43f8-a556-3650a21caa4f\",\"type\":\"Grid\"},{\"id\":\"bd4bf211-aed4-48f9-8e3a-51e67c094b38\",\"type\":\"BoxAnnotation\"},{\"id\":\"f0d3d714-5383-41b6-8804-fb44e1eda4e7\",\"type\":\"GlyphRenderer\"}],\"title\":{\"id\":\"04a086e0-4ebe-4bc0-97e2-72d9da5fb15c\",\"type\":\"Title\"},\"toolbar\":{\"id\":\"018adde4-f3b2-437f-b798-b647f428ad57\",\"type\":\"Toolbar\"},\"toolbar_location\":null,\"x_range\":{\"id\":\"f1f9f004-88d4-4c07-a340-fc7968721747\",\"type\":\"FactorRange\"},\"x_scale\":{\"id\":\"6aed6313-cf50-41ea-b935-94cda50a6af3\",\"type\":\"CategoricalScale\"},\"y_range\":{\"id\":\"a23843c8-7acb-41ef-8b8b-d2d4dd464988\",\"type\":\"DataRange1d\"},\"y_scale\":{\"id\":\"61cb690e-fb04-41ae-8058-27dd8e3b29ad\",\"type\":\"LinearScale\"}},\"id\":\"a73740bf-5757-4e16-a732-b4ef5ba76c14\",\"subtype\":\"Figure\",\"type\":\"Plot\"},{\"attributes\":{},\"id\":\"c966bced-aab0-4e72-99bc-e3eb81fe530f\",\"type\":\"Selection\"},{\"attributes\":{},\"id\":\"48813ee3-0621-4e2d-9450-25e2df84d3d7\",\"type\":\"WheelZoomTool\"},{\"attributes\":{\"active_drag\":\"auto\",\"active_inspect\":\"auto\",\"active_scroll\":\"auto\",\"active_tap\":\"auto\",\"tools\":[{\"id\":\"61beea69-3bab-41e3-a186-db774ecd7344\",\"type\":\"PanTool\"},{\"id\":\"c93410a8-d6e5-4721-b1cc-4586b3b063c8\",\"type\":\"WheelZoomTool\"},{\"id\":\"a3768517-d369-45d8-b82b-be1b914c7bc0\",\"type\":\"BoxZoomTool\"},{\"id\":\"0508c7f5-597e-4db8-8cf4-a3283ff11337\",\"type\":\"SaveTool\"},{\"id\":\"2cf0fd8d-977b-4755-92a2-f3e5e75eea49\",\"type\":\"ResetTool\"},{\"id\":\"87296854-883e-43e1-ab30-d3ab7cb3a8e9\",\"type\":\"HelpTool\"}]},\"id\":\"018adde4-f3b2-437f-b798-b647f428ad57\",\"type\":\"Toolbar\"},{\"attributes\":{\"data_source\":{\"id\":\"50b4136b-ff0a-420c-b5eb-2f09ba0a3eb6\",\"type\":\"ColumnDataSource\"},\"glyph\":{\"id\":\"432fff1d-05aa-49fb-a71a-e493e5e39e64\",\"type\":\"VBar\"},\"hover_glyph\":null,\"muted_glyph\":null,\"nonselection_glyph\":{\"id\":\"f42c0c0e-85ef-4fe6-b8bd-f6db9eb336df\",\"type\":\"VBar\"},\"selection_glyph\":null,\"view\":{\"id\":\"eac01a92-64f6-4901-8f51-f52f51d9d697\",\"type\":\"CDSView\"}},\"id\":\"1a2e721e-069f-4d35-975d-291aba412907\",\"type\":\"GlyphRenderer\"},{\"attributes\":{\"data_source\":{\"id\":\"5a457318-bb7a-450f-8db7-6a7b5da44bc2\",\"type\":\"ColumnDataSource\"},\"glyph\":{\"id\":\"693cff73-5d02-4bb8-8d8b-613d983f10d9\",\"type\":\"VBar\"},\"hover_glyph\":null,\"muted_glyph\":null,\"nonselection_glyph\":{\"id\":\"123a1f38-7f66-48ed-97b7-11c23f2647ee\",\"type\":\"VBar\"},\"selection_glyph\":null,\"view\":{\"id\":\"89ee51c8-dd39-486a-aba5-2cd3210f7b2b\",\"type\":\"CDSView\"}},\"id\":\"e0086e80-4d5b-4b0f-8b56-9dfdac6facd9\",\"type\":\"GlyphRenderer\"},{\"attributes\":{\"children\":[{\"id\":\"adc8406c-b811-4201-ac41-b9f428f11dea\",\"type\":\"ToolbarBox\"},{\"id\":\"7121aedd-a32d-49cc-a670-aa4a150a507e\",\"type\":\"Column\"}]},\"id\":\"b388b25e-461d-4a8e-ba3d-489c5b1610b9\",\"type\":\"Column\"},{\"attributes\":{},\"id\":\"6aed6313-cf50-41ea-b935-94cda50a6af3\",\"type\":\"CategoricalScale\"},{\"attributes\":{\"overlay\":{\"id\":\"bd4bf211-aed4-48f9-8e3a-51e67c094b38\",\"type\":\"BoxAnnotation\"}},\"id\":\"a3768517-d369-45d8-b82b-be1b914c7bc0\",\"type\":\"BoxZoomTool\"},{\"attributes\":{\"callback\":null,\"data\":{\"band\":[\"1\",\"2\",\"3\",\"4\",\"5\",\"6\",\"7\",\"8\",\"9\",\"10\",\"11\"],\"flux\":{\"__ndarray__\":\"AAAAOsyXB78A0clS6/3XP4CReeQPBtO/AGDshJfgpD9AXJAty9ffPwAXfD/apLM/AI2iGGpelz9ABJTh0/fBv4C3lPPF3sU/ALA8D+7Oij8A8GJhiJx+Pw==\",\"dtype\":\"float64\",\"shape\":[11]}},\"selected\":{\"id\":\"c966bced-aab0-4e72-99bc-e3eb81fe530f\",\"type\":\"Selection\"},\"selection_policy\":{\"id\":\"e9c38b52-1eb0-46a5-a6c1-bfe99ef7d573\",\"type\":\"UnionRenderers\"}},\"id\":\"bdbc5474-b02d-49b1-aa7e-a36ac3279ba3\",\"type\":\"ColumnDataSource\"},{\"attributes\":{},\"id\":\"5e8c8569-e699-4687-a295-5e4afe6b4e5b\",\"type\":\"PanTool\"},{\"attributes\":{\"toolbar\":{\"id\":\"437d906c-f190-486a-896e-14e14d94f4df\",\"type\":\"ProxyToolbar\"},\"toolbar_location\":\"above\"},\"id\":\"adc8406c-b811-4201-ac41-b9f428f11dea\",\"type\":\"ToolbarBox\"},{\"attributes\":{},\"id\":\"78340106-23ec-4956-9afc-6b1f44cd22b7\",\"type\":\"WheelZoomTool\"},{\"attributes\":{},\"id\":\"2a786faf-730f-4070-b6de-c8e5c338bd0f\",\"type\":\"PanTool\"},{\"attributes\":{\"dimension\":1,\"plot\":{\"id\":\"68e520db-e4f7-4119-a0e1-e035176775ea\",\"subtype\":\"Figure\",\"type\":\"Plot\"},\"ticker\":{\"id\":\"d365d699-a72e-470c-b0b3-abd43af10cfe\",\"type\":\"BasicTicker\"}},\"id\":\"6d774b2d-56d0-43d7-be4f-0c3c44ae9717\",\"type\":\"Grid\"},{\"attributes\":{\"fill_alpha\":{\"value\":0.1},\"fill_color\":{\"value\":\"#1f77b4\"},\"line_alpha\":{\"value\":0.1},\"line_color\":{\"value\":\"#1f77b4\"},\"top\":{\"field\":\"flux\"},\"width\":{\"value\":0.9},\"x\":{\"field\":\"band\"}},\"id\":\"123a1f38-7f66-48ed-97b7-11c23f2647ee\",\"type\":\"VBar\"},{\"attributes\":{\"callback\":null,\"data\":{\"band\":[\"1\",\"2\",\"3\",\"4\",\"5\",\"6\",\"7\",\"8\",\"9\",\"10\",\"11\"],\"flux\":{\"__ndarray__\":\"APnkm0xgyD8AykAC0kC1vwBoiKcNPYi/QAlOvzwL0T+AnbZGBOPOvwDPfw9eu8K/QFfMCG8P1z8AHAbzV8ikP4AaiwFtBsi/QFf5r71gvj+ADKqylNGtPw==\",\"dtype\":\"float64\",\"shape\":[11]}},\"selected\":{\"id\":\"9b97b2da-7dbe-4ff8-83f3-ac7849021c64\",\"type\":\"Selection\"},\"selection_policy\":{\"id\":\"1c36109e-7403-43fb-a6b4-4b22af831824\",\"type\":\"UnionRenderers\"}},\"id\":\"5a457318-bb7a-450f-8db7-6a7b5da44bc2\",\"type\":\"ColumnDataSource\"},{\"attributes\":{},\"id\":\"9696a5d9-0b26-4cef-a855-90040476bb36\",\"type\":\"ResetTool\"},{\"attributes\":{\"below\":[{\"id\":\"6c3b5dcb-134c-4760-9521-581592469fde\",\"type\":\"CategoricalAxis\"}],\"left\":[{\"id\":\"8f93651f-6cc1-4932-a5ae-2e851ab28a55\",\"type\":\"LinearAxis\"}],\"plot_height\":300,\"plot_width\":300,\"renderers\":[{\"id\":\"6c3b5dcb-134c-4760-9521-581592469fde\",\"type\":\"CategoricalAxis\"},{\"id\":\"208d0bc9-efb7-4ea5-970c-082e668c1770\",\"type\":\"Grid\"},{\"id\":\"8f93651f-6cc1-4932-a5ae-2e851ab28a55\",\"type\":\"LinearAxis\"},{\"id\":\"6d774b2d-56d0-43d7-be4f-0c3c44ae9717\",\"type\":\"Grid\"},{\"id\":\"9285019b-cdb0-4753-84a0-045ca8a80752\",\"type\":\"BoxAnnotation\"},{\"id\":\"1a2e721e-069f-4d35-975d-291aba412907\",\"type\":\"GlyphRenderer\"}],\"title\":{\"id\":\"4482a16d-037c-4ce0-9b03-4275ceb8273f\",\"type\":\"Title\"},\"toolbar\":{\"id\":\"35795d49-2155-402f-b974-cf27423a4dc3\",\"type\":\"Toolbar\"},\"toolbar_location\":null,\"x_range\":{\"id\":\"37458508-2015-439c-ac24-611e90bcfa40\",\"type\":\"FactorRange\"},\"x_scale\":{\"id\":\"80d0e15f-b185-40ea-b8fd-d904399cc36a\",\"type\":\"CategoricalScale\"},\"y_range\":{\"id\":\"a29eb008-05f1-4880-b5e4-2f857495cf7b\",\"type\":\"DataRange1d\"},\"y_scale\":{\"id\":\"cf55e711-fc11-46f1-952c-adc5310778a3\",\"type\":\"LinearScale\"}},\"id\":\"68e520db-e4f7-4119-a0e1-e035176775ea\",\"subtype\":\"Figure\",\"type\":\"Plot\"},{\"attributes\":{\"fill_color\":{\"value\":\"#1f77b4\"},\"line_color\":{\"value\":\"#1f77b4\"},\"top\":{\"field\":\"flux\"},\"width\":{\"value\":0.9},\"x\":{\"field\":\"band\"}},\"id\":\"432fff1d-05aa-49fb-a71a-e493e5e39e64\",\"type\":\"VBar\"},{\"attributes\":{},\"id\":\"e59e8c9b-43a2-416d-aecc-1f1e91b7a30d\",\"type\":\"SaveTool\"},{\"attributes\":{},\"id\":\"e9c38b52-1eb0-46a5-a6c1-bfe99ef7d573\",\"type\":\"UnionRenderers\"},{\"attributes\":{},\"id\":\"a2fdcee9-9a8d-4ea0-a92e-470e53a69a1c\",\"type\":\"CategoricalTicker\"},{\"attributes\":{},\"id\":\"1c36109e-7403-43fb-a6b4-4b22af831824\",\"type\":\"UnionRenderers\"},{\"attributes\":{},\"id\":\"87296854-883e-43e1-ab30-d3ab7cb3a8e9\",\"type\":\"HelpTool\"},{\"attributes\":{},\"id\":\"ff5eed1a-ebe8-47e2-9bcf-d3b8bac4559f\",\"type\":\"Selection\"},{\"attributes\":{},\"id\":\"61e06bf8-99a6-47d1-a3b7-cbffe0c88ba2\",\"type\":\"CategoricalScale\"},{\"attributes\":{\"dimension\":1,\"plot\":{\"id\":\"0ef2a7bc-7da4-4ab5-99b3-59f86b88088e\",\"subtype\":\"Figure\",\"type\":\"Plot\"},\"ticker\":{\"id\":\"6232f649-1897-4526-9e9c-74604895c13d\",\"type\":\"BasicTicker\"}},\"id\":\"e4f36514-3c1a-4cdc-acfc-a11e9e47acd9\",\"type\":\"Grid\"},{\"attributes\":{\"fill_alpha\":{\"value\":0.1},\"fill_color\":{\"value\":\"#1f77b4\"},\"line_alpha\":{\"value\":0.1},\"line_color\":{\"value\":\"#1f77b4\"},\"top\":{\"field\":\"flux\"},\"width\":{\"value\":0.9},\"x\":{\"field\":\"band\"}},\"id\":\"5dde2787-7356-4032-a3b8-c65d51006884\",\"type\":\"VBar\"},{\"attributes\":{\"fill_alpha\":{\"value\":0.1},\"fill_color\":{\"value\":\"#1f77b4\"},\"line_alpha\":{\"value\":0.1},\"line_color\":{\"value\":\"#1f77b4\"},\"top\":{\"field\":\"flux\"},\"width\":{\"value\":0.9},\"x\":{\"field\":\"band\"}},\"id\":\"f42c0c0e-85ef-4fe6-b8bd-f6db9eb336df\",\"type\":\"VBar\"},{\"attributes\":{},\"id\":\"80d0e15f-b185-40ea-b8fd-d904399cc36a\",\"type\":\"CategoricalScale\"},{\"attributes\":{\"plot\":{\"id\":\"0ef2a7bc-7da4-4ab5-99b3-59f86b88088e\",\"subtype\":\"Figure\",\"type\":\"Plot\"},\"ticker\":{\"id\":\"cd05f146-e5e7-4036-ae62-e6b6046dab9f\",\"type\":\"CategoricalTicker\"}},\"id\":\"02c766d9-1d11-4a09-971a-61ae8b13e8dc\",\"type\":\"Grid\"},{\"attributes\":{},\"id\":\"c93410a8-d6e5-4721-b1cc-4586b3b063c8\",\"type\":\"WheelZoomTool\"},{\"attributes\":{\"fill_color\":{\"value\":\"#1f77b4\"},\"line_color\":{\"value\":\"#1f77b4\"},\"top\":{\"field\":\"flux\"},\"width\":{\"value\":0.9},\"x\":{\"field\":\"band\"}},\"id\":\"693cff73-5d02-4bb8-8d8b-613d983f10d9\",\"type\":\"VBar\"},{\"attributes\":{\"axis_label\":\"flux (W m-2)\",\"formatter\":{\"id\":\"1108d319-dc5f-47fd-8475-cc32498f1eec\",\"type\":\"BasicTickFormatter\"},\"plot\":{\"id\":\"a73740bf-5757-4e16-a732-b4ef5ba76c14\",\"subtype\":\"Figure\",\"type\":\"Plot\"},\"ticker\":{\"id\":\"949497d9-3d59-405c-ac54-a66217c03c30\",\"type\":\"BasicTicker\"}},\"id\":\"4efbb605-4ac6-45a3-a7aa-7a7b559f5e09\",\"type\":\"LinearAxis\"},{\"attributes\":{},\"id\":\"1f9a32ff-167e-4061-af35-491e97448f4d\",\"type\":\"CategoricalTickFormatter\"},{\"attributes\":{\"axis_label\":\"spectral band\",\"formatter\":{\"id\":\"53b6c619-a825-41a0-be1f-ded34ccc64e2\",\"type\":\"CategoricalTickFormatter\"},\"plot\":{\"id\":\"68e520db-e4f7-4119-a0e1-e035176775ea\",\"subtype\":\"Figure\",\"type\":\"Plot\"},\"ticker\":{\"id\":\"3ed22e95-eb4d-4f49-a519-c46e6adfe554\",\"type\":\"CategoricalTicker\"}},\"id\":\"6c3b5dcb-134c-4760-9521-581592469fde\",\"type\":\"CategoricalAxis\"},{\"attributes\":{\"source\":{\"id\":\"50b4136b-ff0a-420c-b5eb-2f09ba0a3eb6\",\"type\":\"ColumnDataSource\"}},\"id\":\"eac01a92-64f6-4901-8f51-f52f51d9d697\",\"type\":\"CDSView\"},{\"attributes\":{},\"id\":\"cd05f146-e5e7-4036-ae62-e6b6046dab9f\",\"type\":\"CategoricalTicker\"},{\"attributes\":{},\"id\":\"61cb690e-fb04-41ae-8058-27dd8e3b29ad\",\"type\":\"LinearScale\"},{\"attributes\":{},\"id\":\"3ed22e95-eb4d-4f49-a519-c46e6adfe554\",\"type\":\"CategoricalTicker\"},{\"attributes\":{},\"id\":\"6232f649-1897-4526-9e9c-74604895c13d\",\"type\":\"BasicTicker\"},{\"attributes\":{\"axis_label\":\"spectral band\",\"formatter\":{\"id\":\"c217bf99-4a84-43de-b9fa-a00f8428d973\",\"type\":\"CategoricalTickFormatter\"},\"plot\":{\"id\":\"a73740bf-5757-4e16-a732-b4ef5ba76c14\",\"subtype\":\"Figure\",\"type\":\"Plot\"},\"ticker\":{\"id\":\"a2fdcee9-9a8d-4ea0-a92e-470e53a69a1c\",\"type\":\"CategoricalTicker\"}},\"id\":\"cb93add6-5550-46b0-9075-af9f25683f81\",\"type\":\"CategoricalAxis\"},{\"attributes\":{\"active_drag\":\"auto\",\"active_inspect\":\"auto\",\"active_scroll\":\"auto\",\"active_tap\":\"auto\",\"tools\":[{\"id\":\"5e8c8569-e699-4687-a295-5e4afe6b4e5b\",\"type\":\"PanTool\"},{\"id\":\"78340106-23ec-4956-9afc-6b1f44cd22b7\",\"type\":\"WheelZoomTool\"},{\"id\":\"465283ec-838d-4717-9aca-221cc1741418\",\"type\":\"BoxZoomTool\"},{\"id\":\"e59e8c9b-43a2-416d-aecc-1f1e91b7a30d\",\"type\":\"SaveTool\"},{\"id\":\"c4a09d8c-55c0-4947-9a47-952086e9d6b3\",\"type\":\"ResetTool\"},{\"id\":\"7df6b1da-1ff6-4c9c-b2df-473ef418e383\",\"type\":\"HelpTool\"}]},\"id\":\"35795d49-2155-402f-b974-cf27423a4dc3\",\"type\":\"Toolbar\"},{\"attributes\":{\"source\":{\"id\":\"bdbc5474-b02d-49b1-aa7e-a36ac3279ba3\",\"type\":\"ColumnDataSource\"}},\"id\":\"8aae3666-708d-4dbf-8fd4-881907da8a1b\",\"type\":\"CDSView\"},{\"attributes\":{},\"id\":\"9b97b2da-7dbe-4ff8-83f3-ac7849021c64\",\"type\":\"Selection\"},{\"attributes\":{},\"id\":\"2922a587-d9a2-4b84-9336-e579db359f79\",\"type\":\"SaveTool\"},{\"attributes\":{},\"id\":\"02c04435-ae88-4fc2-a30b-6ecfd6aaae35\",\"type\":\"BasicTickFormatter\"},{\"attributes\":{\"callback\":null,\"factors\":[\"1\",\"2\",\"3\",\"4\",\"5\",\"6\",\"7\",\"8\",\"9\",\"10\",\"11\"]},\"id\":\"37458508-2015-439c-ac24-611e90bcfa40\",\"type\":\"FactorRange\"},{\"attributes\":{\"callback\":null,\"data\":{\"band\":[\"1\",\"2\",\"3\",\"4\",\"5\",\"6\",\"7\",\"8\",\"9\",\"10\",\"11\"],\"flux\":{\"__ndarray__\":\"AJQxPsxeyD+AJAuYwK3SP8D4LxAEyNO/AP5HpkOn0z/AxW6fVWbQPwBgYFYo0rG/QP28qUiF2D8AoaF/gou5vwB8MCk+PpG/YL6fGi/dwD9Asujnl9KwPw==\",\"dtype\":\"float64\",\"shape\":[11]}},\"selected\":{\"id\":\"ff5eed1a-ebe8-47e2-9bcf-d3b8bac4559f\",\"type\":\"Selection\"},\"selection_policy\":{\"id\":\"c6cbd578-cae4-4a41-8b3a-c3b110bc5303\",\"type\":\"UnionRenderers\"}},\"id\":\"50b4136b-ff0a-420c-b5eb-2f09ba0a3eb6\",\"type\":\"ColumnDataSource\"},{\"attributes\":{\"overlay\":{\"id\":\"148d57bd-c0cd-4a62-9a14-74d82d07efe7\",\"type\":\"BoxAnnotation\"}},\"id\":\"cec5f019-ac20-496e-85a0-f0a0c6251f5d\",\"type\":\"BoxZoomTool\"},{\"attributes\":{},\"id\":\"53b6c619-a825-41a0-be1f-ded34ccc64e2\",\"type\":\"CategoricalTickFormatter\"},{\"attributes\":{\"tools\":[{\"id\":\"5e8c8569-e699-4687-a295-5e4afe6b4e5b\",\"type\":\"PanTool\"},{\"id\":\"78340106-23ec-4956-9afc-6b1f44cd22b7\",\"type\":\"WheelZoomTool\"},{\"id\":\"465283ec-838d-4717-9aca-221cc1741418\",\"type\":\"BoxZoomTool\"},{\"id\":\"e59e8c9b-43a2-416d-aecc-1f1e91b7a30d\",\"type\":\"SaveTool\"},{\"id\":\"c4a09d8c-55c0-4947-9a47-952086e9d6b3\",\"type\":\"ResetTool\"},{\"id\":\"7df6b1da-1ff6-4c9c-b2df-473ef418e383\",\"type\":\"HelpTool\"},{\"id\":\"61beea69-3bab-41e3-a186-db774ecd7344\",\"type\":\"PanTool\"},{\"id\":\"c93410a8-d6e5-4721-b1cc-4586b3b063c8\",\"type\":\"WheelZoomTool\"},{\"id\":\"a3768517-d369-45d8-b82b-be1b914c7bc0\",\"type\":\"BoxZoomTool\"},{\"id\":\"0508c7f5-597e-4db8-8cf4-a3283ff11337\",\"type\":\"SaveTool\"},{\"id\":\"2cf0fd8d-977b-4755-92a2-f3e5e75eea49\",\"type\":\"ResetTool\"},{\"id\":\"87296854-883e-43e1-ab30-d3ab7cb3a8e9\",\"type\":\"HelpTool\"},{\"id\":\"2a786faf-730f-4070-b6de-c8e5c338bd0f\",\"type\":\"PanTool\"},{\"id\":\"48813ee3-0621-4e2d-9450-25e2df84d3d7\",\"type\":\"WheelZoomTool\"},{\"id\":\"cec5f019-ac20-496e-85a0-f0a0c6251f5d\",\"type\":\"BoxZoomTool\"},{\"id\":\"2922a587-d9a2-4b84-9336-e579db359f79\",\"type\":\"SaveTool\"},{\"id\":\"9696a5d9-0b26-4cef-a855-90040476bb36\",\"type\":\"ResetTool\"},{\"id\":\"79bf9c32-bd33-450b-8294-fa5569a12e6b\",\"type\":\"HelpTool\"}]},\"id\":\"437d906c-f190-486a-896e-14e14d94f4df\",\"type\":\"ProxyToolbar\"},{\"attributes\":{\"data_source\":{\"id\":\"bdbc5474-b02d-49b1-aa7e-a36ac3279ba3\",\"type\":\"ColumnDataSource\"},\"glyph\":{\"id\":\"3e2ff2cc-1273-48d6-8b83-8a6841be6ba3\",\"type\":\"VBar\"},\"hover_glyph\":null,\"muted_glyph\":null,\"nonselection_glyph\":{\"id\":\"5dde2787-7356-4032-a3b8-c65d51006884\",\"type\":\"VBar\"},\"selection_glyph\":null,\"view\":{\"id\":\"8aae3666-708d-4dbf-8fd4-881907da8a1b\",\"type\":\"CDSView\"}},\"id\":\"f0d3d714-5383-41b6-8804-fb44e1eda4e7\",\"type\":\"GlyphRenderer\"},{\"attributes\":{\"below\":[{\"id\":\"1a856fed-0a04-4ff3-a988-8d4f21a63a77\",\"type\":\"CategoricalAxis\"}],\"left\":[{\"id\":\"1c7516f2-00e8-4cde-bd22-358d6e944fb6\",\"type\":\"LinearAxis\"}],\"plot_height\":300,\"plot_width\":300,\"renderers\":[{\"id\":\"1a856fed-0a04-4ff3-a988-8d4f21a63a77\",\"type\":\"CategoricalAxis\"},{\"id\":\"02c766d9-1d11-4a09-971a-61ae8b13e8dc\",\"type\":\"Grid\"},{\"id\":\"1c7516f2-00e8-4cde-bd22-358d6e944fb6\",\"type\":\"LinearAxis\"},{\"id\":\"e4f36514-3c1a-4cdc-acfc-a11e9e47acd9\",\"type\":\"Grid\"},{\"id\":\"148d57bd-c0cd-4a62-9a14-74d82d07efe7\",\"type\":\"BoxAnnotation\"},{\"id\":\"e0086e80-4d5b-4b0f-8b56-9dfdac6facd9\",\"type\":\"GlyphRenderer\"}],\"title\":{\"id\":\"5fac3cab-135b-4217-8ebc-d7dea7bf4ebb\",\"type\":\"Title\"},\"toolbar\":{\"id\":\"eecae590-adc1-4757-8df1-b97dd3c6a18e\",\"type\":\"Toolbar\"},\"toolbar_location\":null,\"x_range\":{\"id\":\"2d833f62-4beb-4952-b3f5-485bc3576ffe\",\"type\":\"FactorRange\"},\"x_scale\":{\"id\":\"61e06bf8-99a6-47d1-a3b7-cbffe0c88ba2\",\"type\":\"CategoricalScale\"},\"y_range\":{\"id\":\"2112423e-8227-4f66-90a5-c95aac0f13fa\",\"type\":\"DataRange1d\"},\"y_scale\":{\"id\":\"ae5b1993-65cc-4e3f-8374-d050652d4563\",\"type\":\"LinearScale\"}},\"id\":\"0ef2a7bc-7da4-4ab5-99b3-59f86b88088e\",\"subtype\":\"Figure\",\"type\":\"Plot\"},{\"attributes\":{\"plot\":{\"id\":\"a73740bf-5757-4e16-a732-b4ef5ba76c14\",\"subtype\":\"Figure\",\"type\":\"Plot\"},\"ticker\":{\"id\":\"a2fdcee9-9a8d-4ea0-a92e-470e53a69a1c\",\"type\":\"CategoricalTicker\"}},\"id\":\"001c518d-5282-4bc3-a4f8-d502530690ae\",\"type\":\"Grid\"},{\"attributes\":{\"plot\":{\"id\":\"68e520db-e4f7-4119-a0e1-e035176775ea\",\"subtype\":\"Figure\",\"type\":\"Plot\"},\"ticker\":{\"id\":\"3ed22e95-eb4d-4f49-a519-c46e6adfe554\",\"type\":\"CategoricalTicker\"}},\"id\":\"208d0bc9-efb7-4ea5-970c-082e668c1770\",\"type\":\"Grid\"},{\"attributes\":{\"callback\":null,\"factors\":[\"1\",\"2\",\"3\",\"4\",\"5\",\"6\",\"7\",\"8\",\"9\",\"10\",\"11\"]},\"id\":\"2d833f62-4beb-4952-b3f5-485bc3576ffe\",\"type\":\"FactorRange\"},{\"attributes\":{},\"id\":\"ae5b1993-65cc-4e3f-8374-d050652d4563\",\"type\":\"LinearScale\"},{\"attributes\":{},\"id\":\"c6cbd578-cae4-4a41-8b3a-c3b110bc5303\",\"type\":\"UnionRenderers\"},{\"attributes\":{\"active_drag\":\"auto\",\"active_inspect\":\"auto\",\"active_scroll\":\"auto\",\"active_tap\":\"auto\",\"tools\":[{\"id\":\"2a786faf-730f-4070-b6de-c8e5c338bd0f\",\"type\":\"PanTool\"},{\"id\":\"48813ee3-0621-4e2d-9450-25e2df84d3d7\",\"type\":\"WheelZoomTool\"},{\"id\":\"cec5f019-ac20-496e-85a0-f0a0c6251f5d\",\"type\":\"BoxZoomTool\"},{\"id\":\"2922a587-d9a2-4b84-9336-e579db359f79\",\"type\":\"SaveTool\"},{\"id\":\"9696a5d9-0b26-4cef-a855-90040476bb36\",\"type\":\"ResetTool\"},{\"id\":\"79bf9c32-bd33-450b-8294-fa5569a12e6b\",\"type\":\"HelpTool\"}]},\"id\":\"eecae590-adc1-4757-8df1-b97dd3c6a18e\",\"type\":\"Toolbar\"},{\"attributes\":{\"bottom_units\":\"screen\",\"fill_alpha\":{\"value\":0.5},\"fill_color\":{\"value\":\"lightgrey\"},\"left_units\":\"screen\",\"level\":\"overlay\",\"line_alpha\":{\"value\":1.0},\"line_color\":{\"value\":\"black\"},\"line_dash\":[4,4],\"line_width\":{\"value\":2},\"plot\":null,\"render_mode\":\"css\",\"right_units\":\"screen\",\"top_units\":\"screen\"},\"id\":\"bd4bf211-aed4-48f9-8e3a-51e67c094b38\",\"type\":\"BoxAnnotation\"},{\"attributes\":{},\"id\":\"cf55e711-fc11-46f1-952c-adc5310778a3\",\"type\":\"LinearScale\"},{\"attributes\":{\"plot\":null,\"text\":\"TOA flux. CLIRAD - CRD.\"},\"id\":\"4482a16d-037c-4ce0-9b03-4275ceb8273f\",\"type\":\"Title\"},{\"attributes\":{\"fill_color\":{\"value\":\"#1f77b4\"},\"line_color\":{\"value\":\"#1f77b4\"},\"top\":{\"field\":\"flux\"},\"width\":{\"value\":0.9},\"x\":{\"field\":\"band\"}},\"id\":\"3e2ff2cc-1273-48d6-8b83-8a6841be6ba3\",\"type\":\"VBar\"},{\"attributes\":{\"axis_label\":\"spectral band\",\"formatter\":{\"id\":\"1f9a32ff-167e-4061-af35-491e97448f4d\",\"type\":\"CategoricalTickFormatter\"},\"plot\":{\"id\":\"0ef2a7bc-7da4-4ab5-99b3-59f86b88088e\",\"subtype\":\"Figure\",\"type\":\"Plot\"},\"ticker\":{\"id\":\"cd05f146-e5e7-4036-ae62-e6b6046dab9f\",\"type\":\"CategoricalTicker\"}},\"id\":\"1a856fed-0a04-4ff3-a988-8d4f21a63a77\",\"type\":\"CategoricalAxis\"},{\"attributes\":{\"overlay\":{\"id\":\"9285019b-cdb0-4753-84a0-045ca8a80752\",\"type\":\"BoxAnnotation\"}},\"id\":\"465283ec-838d-4717-9aca-221cc1741418\",\"type\":\"BoxZoomTool\"},{\"attributes\":{},\"id\":\"79bf9c32-bd33-450b-8294-fa5569a12e6b\",\"type\":\"HelpTool\"},{\"attributes\":{},\"id\":\"d365d699-a72e-470c-b0b3-abd43af10cfe\",\"type\":\"BasicTicker\"},{\"attributes\":{},\"id\":\"0508c7f5-597e-4db8-8cf4-a3283ff11337\",\"type\":\"SaveTool\"},{\"attributes\":{\"callback\":null},\"id\":\"a29eb008-05f1-4880-b5e4-2f857495cf7b\",\"type\":\"DataRange1d\"},{\"attributes\":{\"plot\":null,\"text\":\"Atmosphere heating. CLIRAD - CRD.\"},\"id\":\"5fac3cab-135b-4217-8ebc-d7dea7bf4ebb\",\"type\":\"Title\"},{\"attributes\":{\"source\":{\"id\":\"5a457318-bb7a-450f-8db7-6a7b5da44bc2\",\"type\":\"ColumnDataSource\"}},\"id\":\"89ee51c8-dd39-486a-aba5-2cd3210f7b2b\",\"type\":\"CDSView\"},{\"attributes\":{},\"id\":\"2cf0fd8d-977b-4755-92a2-f3e5e75eea49\",\"type\":\"ResetTool\"},{\"attributes\":{},\"id\":\"7df6b1da-1ff6-4c9c-b2df-473ef418e383\",\"type\":\"HelpTool\"},{\"attributes\":{},\"id\":\"949497d9-3d59-405c-ac54-a66217c03c30\",\"type\":\"BasicTicker\"},{\"attributes\":{\"children\":[{\"id\":\"68e520db-e4f7-4119-a0e1-e035176775ea\",\"subtype\":\"Figure\",\"type\":\"Plot\"},{\"id\":\"a73740bf-5757-4e16-a732-b4ef5ba76c14\",\"subtype\":\"Figure\",\"type\":\"Plot\"},{\"id\":\"0ef2a7bc-7da4-4ab5-99b3-59f86b88088e\",\"subtype\":\"Figure\",\"type\":\"Plot\"}]},\"id\":\"0472b20d-b09a-49c4-8762-1a7ad8c13212\",\"type\":\"Row\"},{\"attributes\":{\"axis_label\":\"flux (W m-2)\",\"formatter\":{\"id\":\"02c04435-ae88-4fc2-a30b-6ecfd6aaae35\",\"type\":\"BasicTickFormatter\"},\"plot\":{\"id\":\"68e520db-e4f7-4119-a0e1-e035176775ea\",\"subtype\":\"Figure\",\"type\":\"Plot\"},\"ticker\":{\"id\":\"d365d699-a72e-470c-b0b3-abd43af10cfe\",\"type\":\"BasicTicker\"}},\"id\":\"8f93651f-6cc1-4932-a5ae-2e851ab28a55\",\"type\":\"LinearAxis\"},{\"attributes\":{\"dimension\":1,\"plot\":{\"id\":\"a73740bf-5757-4e16-a732-b4ef5ba76c14\",\"subtype\":\"Figure\",\"type\":\"Plot\"},\"ticker\":{\"id\":\"949497d9-3d59-405c-ac54-a66217c03c30\",\"type\":\"BasicTicker\"}},\"id\":\"adbfa278-3b7b-43f8-a556-3650a21caa4f\",\"type\":\"Grid\"},{\"attributes\":{},\"id\":\"c4a09d8c-55c0-4947-9a47-952086e9d6b3\",\"type\":\"ResetTool\"},{\"attributes\":{\"callback\":null},\"id\":\"a23843c8-7acb-41ef-8b8b-d2d4dd464988\",\"type\":\"DataRange1d\"},{\"attributes\":{\"axis_label\":\"flux (W m-2)\",\"formatter\":{\"id\":\"3ac00628-2b72-4607-83d7-f595e1c69eb2\",\"type\":\"BasicTickFormatter\"},\"plot\":{\"id\":\"0ef2a7bc-7da4-4ab5-99b3-59f86b88088e\",\"subtype\":\"Figure\",\"type\":\"Plot\"},\"ticker\":{\"id\":\"6232f649-1897-4526-9e9c-74604895c13d\",\"type\":\"BasicTicker\"}},\"id\":\"1c7516f2-00e8-4cde-bd22-358d6e944fb6\",\"type\":\"LinearAxis\"},{\"attributes\":{},\"id\":\"61beea69-3bab-41e3-a186-db774ecd7344\",\"type\":\"PanTool\"},{\"attributes\":{\"bottom_units\":\"screen\",\"fill_alpha\":{\"value\":0.5},\"fill_color\":{\"value\":\"lightgrey\"},\"left_units\":\"screen\",\"level\":\"overlay\",\"line_alpha\":{\"value\":1.0},\"line_color\":{\"value\":\"black\"},\"line_dash\":[4,4],\"line_width\":{\"value\":2},\"plot\":null,\"render_mode\":\"css\",\"right_units\":\"screen\",\"top_units\":\"screen\"},\"id\":\"9285019b-cdb0-4753-84a0-045ca8a80752\",\"type\":\"BoxAnnotation\"},{\"attributes\":{\"callback\":null},\"id\":\"2112423e-8227-4f66-90a5-c95aac0f13fa\",\"type\":\"DataRange1d\"},{\"attributes\":{\"bottom_units\":\"screen\",\"fill_alpha\":{\"value\":0.5},\"fill_color\":{\"value\":\"lightgrey\"},\"left_units\":\"screen\",\"level\":\"overlay\",\"line_alpha\":{\"value\":1.0},\"line_color\":{\"value\":\"black\"},\"line_dash\":[4,4],\"line_width\":{\"value\":2},\"plot\":null,\"render_mode\":\"css\",\"right_units\":\"screen\",\"top_units\":\"screen\"},\"id\":\"148d57bd-c0cd-4a62-9a14-74d82d07efe7\",\"type\":\"BoxAnnotation\"},{\"attributes\":{},\"id\":\"3ac00628-2b72-4607-83d7-f595e1c69eb2\",\"type\":\"BasicTickFormatter\"}],\"root_ids\":[\"b388b25e-461d-4a8e-ba3d-489c5b1610b9\"]},\"title\":\"Bokeh Application\",\"version\":\"0.12.16\"}};\n",
       "  var render_items = [{\"docid\":\"2272f129-8000-4f52-871b-ce46a3ef17d8\",\"elementid\":\"92c9bbff-f1a3-4a60-af46-949274823efc\",\"modelid\":\"b388b25e-461d-4a8e-ba3d-489c5b1610b9\"}];\n",
       "  root.Bokeh.embed.embed_items_notebook(docs_json, render_items);\n",
       "\n",
       "  }\n",
       "  if (root.Bokeh !== undefined) {\n",
       "    embed_document(root);\n",
       "  } else {\n",
       "    var attempts = 0;\n",
       "    var timer = setInterval(function(root) {\n",
       "      if (root.Bokeh !== undefined) {\n",
       "        embed_document(root);\n",
       "        clearInterval(timer);\n",
       "      }\n",
       "      attempts++;\n",
       "      if (attempts > 100) {\n",
       "        console.log(\"Bokeh: ERROR: Unable to run BokehJS code because BokehJS library is missing\")\n",
       "        clearInterval(timer);\n",
       "      }\n",
       "    }, 10, root)\n",
       "  }\n",
       "})(window);"
      ],
      "application/vnd.bokehjs_exec.v0+json": ""
     },
     "metadata": {
      "application/vnd.bokehjs_exec.v0+json": {
       "id": "b388b25e-461d-4a8e-ba3d-489c5b1610b9"
      }
     },
     "output_type": "display_data"
    },
    {
     "data": {
      "text/markdown": [
       "*FIGURE.* Difference between CLIRAD and CRD in TOA, SFC and net atmosphere flux, in each spectral band."
      ],
      "text/plain": [
       "<IPython.core.display.Markdown object>"
      ]
     },
     "metadata": {},
     "output_type": "display_data"
    },
    {
     "data": {
      "text/html": [
       "<div>\n",
       "<style scoped>\n",
       "    .dataframe tbody tr th:only-of-type {\n",
       "        vertical-align: middle;\n",
       "    }\n",
       "\n",
       "    .dataframe tbody tr th {\n",
       "        vertical-align: top;\n",
       "    }\n",
       "\n",
       "    .dataframe thead th {\n",
       "        text-align: right;\n",
       "    }\n",
       "</style>\n",
       "<table border=\"1\" class=\"dataframe\">\n",
       "  <thead>\n",
       "    <tr style=\"text-align: right;\">\n",
       "      <th></th>\n",
       "      <th>OLR flux</th>\n",
       "      <th>SFC flux</th>\n",
       "      <th>ATM heating</th>\n",
       "    </tr>\n",
       "    <tr>\n",
       "      <th>Sum over bands</th>\n",
       "      <th></th>\n",
       "      <th></th>\n",
       "      <th></th>\n",
       "    </tr>\n",
       "  </thead>\n",
       "  <tbody>\n",
       "    <tr>\n",
       "      <th>old CLIRAD - CRD</th>\n",
       "      <td>0.09</td>\n",
       "      <td>1.54</td>\n",
       "      <td>-1.31</td>\n",
       "    </tr>\n",
       "    <tr>\n",
       "      <th>CLIRAD - CRD</th>\n",
       "      <td>1.13</td>\n",
       "      <td>0.77</td>\n",
       "      <td>0.36</td>\n",
       "    </tr>\n",
       "    <tr>\n",
       "      <th>CRD</th>\n",
       "      <td>-290.39</td>\n",
       "      <td>308.14</td>\n",
       "      <td>-174.89</td>\n",
       "    </tr>\n",
       "  </tbody>\n",
       "</table>\n",
       "</div>"
      ],
      "text/plain": [
       "                  OLR flux  SFC flux  ATM heating\n",
       "Sum over bands                                   \n",
       "old CLIRAD - CRD      0.09      1.54        -1.31\n",
       "CLIRAD - CRD          1.13      0.77         0.36\n",
       "CRD                -290.39    308.14      -174.89"
      ]
     },
     "metadata": {},
     "output_type": "display_data"
    },
    {
     "data": {
      "text/markdown": [
       "*TABLE.* Difference between CLIRAD and CRD in TOA, SFC and net atmosphere flux, over all spectral bands. CRD's TOA, SFC and net atmosphere flux, over all spectral bands."
      ],
      "text/plain": [
       "<IPython.core.display.Markdown object>"
      ]
     },
     "metadata": {},
     "output_type": "display_data"
    },
    {
     "data": {
      "text/html": [
       "<a id=\"Cooling_rates._saw.\"></a>"
      ],
      "text/plain": [
       "<IPython.core.display.HTML object>"
      ]
     },
     "metadata": {},
     "output_type": "display_data"
    },
    {
     "data": {
      "text/markdown": [
       "# Cooling rates. saw."
      ],
      "text/plain": [
       "<IPython.core.display.Markdown object>"
      ]
     },
     "metadata": {},
     "output_type": "display_data"
    },
    {
     "data": {
      "text/html": [
       "\n",
       "<div class=\"bk-root\">\n",
       "    <div class=\"bk-plotdiv\" id=\"201d1ad5-1a13-413b-b682-194e46bb8a56\"></div>\n",
       "</div>"
      ]
     },
     "metadata": {},
     "output_type": "display_data"
    },
    {
     "data": {
      "application/javascript": [
       "(function(root) {\n",
       "  function embed_document(root) {\n",
       "    \n",
       "  var docs_json = {\"0cdd90ce-5fdd-408e-addd-70fd7d980946\":{\"roots\":{\"references\":[{\"attributes\":{},\"id\":\"76aa396f-26c5-4bd5-a62b-299567d00f04\",\"type\":\"SaveTool\"},{\"attributes\":{},\"id\":\"8f43e61b-3da8-42f0-b463-a1be3d3ef220\",\"type\":\"WheelZoomTool\"},{\"attributes\":{\"callback\":null,\"data\":{\"x\":{\"__ndarray__\":\"gx29R+OqOMDWq2w2QbzbP5N8rEtEIPo/qEbP7FrhAEAsGV5aTar2P9AHcZxVlbm/LPlgqaT/+L/2WWfC8koBwI11DRVMxv6/L3EsLbgY9r9LmodpLfHvvx2D3L2i1uy/uSGWbk1L7r/2Gm/uDZrqvz2ic79ra9m/7pYCgfPFwj+h3ogcWV7eP0hHmJ+379s/ev64qgIEtT9UkuLqdUrXvxtJhJ9FGuW/0O9pSRrS4L9o2f/iPRS+v0pmwc1ZB7M/LFmMbxsser9epoYGp960v4j3DXTgFbE/8c2FSRI9xj+V5FaDGQ/CPyO+4fC3ILM/TCSHHLenrj+/9Uw9lyZ0vyj6vrMuWaG/6eqoJm2ikD/OAKUyr/mgP4nBt6pAQI+/vQZXTztjpb/YDP6Q1AeXv6PR7MOsf3C/zFh8KAYNgT/D0RUaoeyBP5i3rNZXgVG/guZ9b/9ukL9naoOFm5GYv48gYKx83Jq/FHZOKkwMnL/j/fE4PVGbv2UI0S+azJy/m4FPc4O4pL/AEig2zh6uv5rqzTGMXKy/gVyxul9/pL9iRtaj8iukvx9Ve3R6Pau/8TGToAVgqr9gG8XkV3Skv1DOPa5JU5y/RkzuTjsXk7+lcLzUKueNv8R7kohorHS/IN2m4PapVr+8zm6Y5cVSv0ICxbke7WW/tB0F9x9zb78Ir4TCpJdovwC/NrkBHjY/pH4WS5F8fT9+1ynY+xuQP3I231P8iZE/oTsxU6nFmT8UHOomGmycPwgnvP7IX5k/ZptMMU87nT82Y0fMtEmWP3LCH6bGSZk/\",\"dtype\":\"float64\",\"shape\":[75]},\"y\":{\"__ndarray__\":\"GhExyth1ND/Sv8nbtpRIP2vylNV0PVE/aTum7souWD/At0SJ8fVgPw3Iuahxymc/MSNhhJWvcD/bTfBN02d3P2zb5nxnaoA/CD5h5MAGhz8NmeH1TyaQP+zrCsc9p5Y/LbKd76fGnz/bLW5ISEmmPww9YvTcQq8/JV2OstnstT8Er5Y7M8G+P0c+r3jqkcU/5h99k6ZBzj88bCIzFzjVP4enV8oyxN0//yH99nXg5D8qOpLLf0jtP5kqGJXUifQ/c9cS8kHP/D+/DpwzojQEQIEmwoanVwxA4lgXt9HgE0BSSZ2AJuIbQAMJih9jjiNA5q4l5INuK0AwTKYKRj0zQNv5fmq8/DpAaCJseHrtQkB/+zpwzoxKQM3MzMzMeFJAZmZmZmZqWEAAAAAAAFxeQM3MzMzMJmJAmpmZmZkfZUBmZmZmZhhoQDMzMzMzEWtAAAAAAAAKbkBmZmZmZoFwQM3MzMzM/XFAMzMzMzN6c0CamZmZmfZ0QAAAAAAAc3ZAZmZmZmbvd0DNzMzMzGt5QDMzMzMz6HpAmpmZmZlkfEAAAAAAAOF9QGZmZmZmXX9AZmZmZuZsgECamZmZGSuBQM3MzMxM6YFAAAAAAICngkAzMzMzs2WDQGZmZmbmI4RAmpmZmRnihEDNzMzMTKCFQAAAAACAXoZAMzMzM7Mch0BmZmZm5tqHQJqZmZkZmYhAzczMzExXiUAAAAAAgBWKQDMzMzOz04pAZmZmZuaRi0CamZmZGVCMQM3MzMxMDo1AAAAAAIDMjUAzMzMzs4qOQGZmZmbmSI9A\",\"dtype\":\"float64\",\"shape\":[75]}},\"selected\":{\"id\":\"60ffa758-fded-4136-9474-4a88fd0136f9\",\"type\":\"Selection\"},\"selection_policy\":{\"id\":\"b8dd3670-f05e-474e-aa0f-b67bb6d568bb\",\"type\":\"UnionRenderers\"}},\"id\":\"463f64d8-d7d6-42eb-89f0-ca9593a56a13\",\"type\":\"ColumnDataSource\"},{\"attributes\":{\"children\":[{\"id\":\"ace58307-42ce-42c2-ba62-f1388572cdd4\",\"subtype\":\"Figure\",\"type\":\"Plot\"},{\"id\":\"8ce307d8-22fc-4ae9-ac1d-55ab58ac4c63\",\"subtype\":\"Figure\",\"type\":\"Plot\"},{\"id\":\"284c2515-bf9e-4712-9948-d6d7de7f828b\",\"subtype\":\"Figure\",\"type\":\"Plot\"}]},\"id\":\"9a996583-aee0-4737-93ba-4c13483166a7\",\"type\":\"Row\"},{\"attributes\":{},\"id\":\"b264f0bc-d66b-4ece-97cb-b637f2140b5e\",\"type\":\"LinearScale\"},{\"attributes\":{\"overlay\":{\"id\":\"acb77ee1-4bcb-4e4a-a2d1-bc0d55bb3d7b\",\"type\":\"BoxAnnotation\"}},\"id\":\"9e4e4740-e6f0-40ac-a8a2-a664d1714ddd\",\"type\":\"BoxZoomTool\"},{\"attributes\":{\"line_alpha\":0.6,\"line_color\":\"#e41a1c\",\"line_dash\":[6],\"line_width\":5,\"x\":{\"field\":\"x\"},\"y\":{\"field\":\"y\"}},\"id\":\"593ca233-6ad2-4c66-bb84-9cf5b4f46fcf\",\"type\":\"Line\"},{\"attributes\":{},\"id\":\"86bd480f-9d34-4fad-8bbd-52482bcd1156\",\"type\":\"PanTool\"},{\"attributes\":{\"children\":[{\"id\":\"9a996583-aee0-4737-93ba-4c13483166a7\",\"type\":\"Row\"}]},\"id\":\"1c68f8ec-b20e-4456-8cdd-e27be595837f\",\"type\":\"Column\"},{\"attributes\":{\"line_alpha\":0.1,\"line_color\":\"#1f77b4\",\"line_dash\":[6],\"line_width\":5,\"x\":{\"field\":\"x\"},\"y\":{\"field\":\"y\"}},\"id\":\"6eed8c01-a39a-4d22-8b72-98e267ac0976\",\"type\":\"Line\"},{\"attributes\":{\"items\":[{\"id\":\"cad90052-21ff-4d9f-b539-d176ae269f7f\",\"type\":\"LegendItem\"},{\"id\":\"c836202a-e4c8-4191-aec6-e5e3449f189f\",\"type\":\"LegendItem\"}],\"label_text_font_size\":{\"value\":\"8pt\"},\"location\":\"top_center\",\"orientation\":\"horizontal\",\"plot\":{\"id\":\"8ce307d8-22fc-4ae9-ac1d-55ab58ac4c63\",\"subtype\":\"Figure\",\"type\":\"Plot\"}},\"id\":\"bdbaa399-c7f0-4a54-92e7-bfe6621de979\",\"type\":\"Legend\"},{\"attributes\":{\"line_color\":\"#4daf4a\",\"line_width\":1.5,\"x\":{\"field\":\"x\"},\"y\":{\"field\":\"y\"}},\"id\":\"189f1299-088d-4a65-8e5e-8a9748295cda\",\"type\":\"Line\"},{\"attributes\":{\"line_alpha\":0.1,\"line_color\":\"#1f77b4\",\"line_width\":1.5,\"x\":{\"field\":\"x\"},\"y\":{\"field\":\"y\"}},\"id\":\"1ed1fcf6-2ecc-41c3-9292-8036bb18d668\",\"type\":\"Line\"},{\"attributes\":{\"data_source\":{\"id\":\"463f64d8-d7d6-42eb-89f0-ca9593a56a13\",\"type\":\"ColumnDataSource\"},\"glyph\":{\"id\":\"a31ed323-421d-4292-903d-ae45f29a5ebd\",\"type\":\"Circle\"},\"hover_glyph\":null,\"muted_glyph\":null,\"nonselection_glyph\":{\"id\":\"2c62161a-fbf1-4ca0-8d9a-dd3c9a0e9105\",\"type\":\"Circle\"},\"selection_glyph\":null,\"view\":{\"id\":\"cb3c4ec1-66fe-47ea-bfa7-5ee45eeae7b6\",\"type\":\"CDSView\"}},\"id\":\"16211b9a-c759-43d4-85fd-4590b977a9e3\",\"type\":\"GlyphRenderer\"},{\"attributes\":{\"toolbar\":{\"id\":\"72d443ec-8471-4baa-87ac-620c3ecc1cf2\",\"type\":\"ProxyToolbar\"},\"toolbar_location\":\"above\"},\"id\":\"fde86f74-80a3-4863-b7be-3d500bcada65\",\"type\":\"ToolbarBox\"},{\"attributes\":{\"axis_label\":\"cooling rate [K/day]\",\"formatter\":{\"id\":\"9277fe9a-b0c4-4ea2-928e-33c2a68bd8cf\",\"type\":\"BasicTickFormatter\"},\"plot\":{\"id\":\"8ce307d8-22fc-4ae9-ac1d-55ab58ac4c63\",\"subtype\":\"Figure\",\"type\":\"Plot\"},\"ticker\":{\"id\":\"ba684ea4-36ba-44b4-b00d-42402bde5933\",\"type\":\"BasicTicker\"}},\"id\":\"64906b2b-67e1-42b3-82df-860e937be5fd\",\"type\":\"LinearAxis\"},{\"attributes\":{},\"id\":\"991fedc2-9bea-43d8-acf5-de24a4a0cd6d\",\"type\":\"WheelZoomTool\"},{\"attributes\":{\"ticker\":null},\"id\":\"0384161b-0948-41ea-a2e7-77e77a041fa9\",\"type\":\"LogTickFormatter\"},{\"attributes\":{},\"id\":\"7cf6af92-d777-4489-8560-a2ac85295bbf\",\"type\":\"Selection\"},{\"attributes\":{\"overlay\":{\"id\":\"03f74a9f-9425-4707-9b69-38ac87d6497b\",\"type\":\"BoxAnnotation\"}},\"id\":\"f67817c2-e113-4f68-9500-0f4d864bb62c\",\"type\":\"BoxZoomTool\"},{\"attributes\":{},\"id\":\"60ffa758-fded-4136-9474-4a88fd0136f9\",\"type\":\"Selection\"},{\"attributes\":{},\"id\":\"116e4116-b690-4e84-845e-959842be9f29\",\"type\":\"UnionRenderers\"},{\"attributes\":{\"num_minor_ticks\":10},\"id\":\"e45b6f6e-1c71-4c2f-9d1e-ce5db2b02619\",\"type\":\"LogTicker\"},{\"attributes\":{},\"id\":\"164f2a10-54bc-4c96-9afe-23b0f0edc034\",\"type\":\"WheelZoomTool\"},{\"attributes\":{\"callback\":null,\"end\":16.43616965691257,\"start\":0.38067245441832914},\"id\":\"692e5005-04af-4169-bf0e-2bec3d9c7cf0\",\"type\":\"Range1d\"},{\"attributes\":{\"source\":{\"id\":\"22766957-2f9c-4ff8-87dc-92199c519077\",\"type\":\"ColumnDataSource\"}},\"id\":\"50a9bfb8-d659-4350-aea1-c66ed80be4d7\",\"type\":\"CDSView\"},{\"attributes\":{\"num_minor_ticks\":10},\"id\":\"f72c1467-2b28-45d3-9a72-334d2f74baca\",\"type\":\"LogTicker\"},{\"attributes\":{\"callback\":null,\"data\":{\"x\":{\"__ndarray__\":\"0CYBcvU5UkCik9zf2GVBQF1VoNfLZ0BAVLxhiVXTPUDD1Wu1wJM6QFJyB025jjdAU6Aw5+b/NECYe1uuDfgyQB6bYtVTbTFAPxYSAF1HMEA00pYVm9QuQLolHbMzgC1AntlwirGsLECv+G9SjE4rQJH6ZLBp0ShAsLZQyPd/JkDyjgyf2PwkQLgyNGsrJyRAA13QbJD6I0C8hy0ilI4kQOVTXCEgcSZAovOGvZSGJUBVc/ZmUOIgQOf/6GHAyRlAcE8fAOBSFEDRur1U//gPQGFD9ZbokghAQsqHuSqSA0C91ci3W0UBQCtRQfvz7/4/kh8pntyB+j9t1/n+4TX1P773MAUjFfI/RgzR+CI28T8hBW8WHK7uPzVKjJfU8uk/0FPt4/z65T/wVYqzMPDhPz7K9C5CXuE/8+hSn9hY4T/9PPCkR6rhP1XsIC599OA/66X1nBCX3z/YbRM56QjcPz4dkSQc/dM/S7Wb8Fq00T+/yQdmX0vcP7TrGf476eM/WqNPJoWO7D9qOH1bcwDzP2bw+R5DQ/Y/RLSuQOQp+D8+aif8yAz5P0Wv6eBKRfk/0i2+IN4R+T/ik8QNFZr4PyS5UD5j/Pc/yJ68zXRG9z/2CHPL54H2P59SOhwKtPU/npkP8dfg9D8NlmVcdQz0P80ugRvuOvM/byxiAHN18j9USVZie8nxP5l9lNXYSPE/OB+F0UYP8T8Y7dsUCTHxP3EBgTHPcPE/bfx15p8S8T8FT+xkGtTuP6mdG7rkxuk/pboqTkHX5D/CrN8qGYngP7R4ZaL+htU/\",\"dtype\":\"float64\",\"shape\":[75]},\"y\":{\"__ndarray__\":\"GhExyth1ND/Sv8nbtpRIP2vylNV0PVE/aTum7souWD/At0SJ8fVgPw3Iuahxymc/MSNhhJWvcD/bTfBN02d3P2zb5nxnaoA/CD5h5MAGhz8NmeH1TyaQP+zrCsc9p5Y/LbKd76fGnz/bLW5ISEmmPww9YvTcQq8/JV2OstnstT8Er5Y7M8G+P0c+r3jqkcU/5h99k6ZBzj88bCIzFzjVP4enV8oyxN0//yH99nXg5D8qOpLLf0jtP5kqGJXUifQ/c9cS8kHP/D+/DpwzojQEQIEmwoanVwxA4lgXt9HgE0BSSZ2AJuIbQAMJih9jjiNA5q4l5INuK0AwTKYKRj0zQNv5fmq8/DpAaCJseHrtQkB/+zpwzoxKQM3MzMzMeFJAZmZmZmZqWEAAAAAAAFxeQM3MzMzMJmJAmpmZmZkfZUBmZmZmZhhoQDMzMzMzEWtAAAAAAAAKbkBmZmZmZoFwQM3MzMzM/XFAMzMzMzN6c0CamZmZmfZ0QAAAAAAAc3ZAZmZmZmbvd0DNzMzMzGt5QDMzMzMz6HpAmpmZmZlkfEAAAAAAAOF9QGZmZmZmXX9AZmZmZuZsgECamZmZGSuBQM3MzMxM6YFAAAAAAICngkAzMzMzs2WDQGZmZmbmI4RAmpmZmRnihEDNzMzMTKCFQAAAAACAXoZAMzMzM7Mch0BmZmZm5tqHQJqZmZkZmYhAzczMzExXiUAAAAAAgBWKQDMzMzOz04pAZmZmZuaRi0CamZmZGVCMQM3MzMxMDo1AAAAAAIDMjUAzMzMzs4qOQGZmZmbmSI9A\",\"dtype\":\"float64\",\"shape\":[75]}},\"selected\":{\"id\":\"7cf6af92-d777-4489-8560-a2ac85295bbf\",\"type\":\"Selection\"},\"selection_policy\":{\"id\":\"7862262a-3e24-4e42-83a3-f7f1a0997507\",\"type\":\"UnionRenderers\"}},\"id\":\"9b1c1f63-acd8-4f51-aeac-fadde7ce0039\",\"type\":\"ColumnDataSource\"},{\"attributes\":{\"children\":[{\"id\":\"fde86f74-80a3-4863-b7be-3d500bcada65\",\"type\":\"ToolbarBox\"},{\"id\":\"1c68f8ec-b20e-4456-8cdd-e27be595837f\",\"type\":\"Column\"}]},\"id\":\"6fea6a9f-2f72-4d36-bf9b-8af637e45801\",\"type\":\"Column\"},{\"attributes\":{\"above\":[{\"id\":\"bdbaa399-c7f0-4a54-92e7-bfe6621de979\",\"type\":\"Legend\"}],\"below\":[{\"id\":\"64906b2b-67e1-42b3-82df-860e937be5fd\",\"type\":\"LinearAxis\"}],\"left\":[{\"id\":\"ff4ac338-39c5-4eaa-b0e2-a4a53213a481\",\"type\":\"LogAxis\"}],\"plot_width\":300,\"renderers\":[{\"id\":\"64906b2b-67e1-42b3-82df-860e937be5fd\",\"type\":\"LinearAxis\"},{\"id\":\"93929613-8fac-4d36-8244-95504dd8289b\",\"type\":\"Grid\"},{\"id\":\"ff4ac338-39c5-4eaa-b0e2-a4a53213a481\",\"type\":\"LogAxis\"},{\"id\":\"8745b223-c50f-441e-87de-d2f20ce9ff53\",\"type\":\"Grid\"},{\"id\":\"acb77ee1-4bcb-4e4a-a2d1-bc0d55bb3d7b\",\"type\":\"BoxAnnotation\"},{\"id\":\"657ec365-f577-4586-88cd-c0f10f9dcc65\",\"type\":\"GlyphRenderer\"},{\"id\":\"92aaa09b-842e-4bdd-ba35-3626e8c4cae1\",\"type\":\"GlyphRenderer\"},{\"id\":\"90ee1d6d-47b3-47f5-a6a8-c8a577cf46cf\",\"type\":\"GlyphRenderer\"},{\"id\":\"bdbaa399-c7f0-4a54-92e7-bfe6621de979\",\"type\":\"Legend\"}],\"title\":{\"id\":\"50486397-0323-4683-8bc1-fe3ff072845a\",\"type\":\"Title\"},\"toolbar\":{\"id\":\"ba1ea194-cc25-4dde-904b-2b5aba02c43c\",\"type\":\"Toolbar\"},\"toolbar_location\":null,\"x_range\":{\"id\":\"692e5005-04af-4169-bf0e-2bec3d9c7cf0\",\"type\":\"Range1d\"},\"x_scale\":{\"id\":\"0bbdcab5-1ad1-48c6-95b6-a0dbea4d0d9f\",\"type\":\"LinearScale\"},\"y_range\":{\"id\":\"847f7a20-db15-4cac-9a2d-48b871a72ff7\",\"type\":\"Range1d\"},\"y_scale\":{\"id\":\"f064bf82-c3db-4bd6-8f34-a20ed112a92a\",\"type\":\"LogScale\"}},\"id\":\"8ce307d8-22fc-4ae9-ac1d-55ab58ac4c63\",\"subtype\":\"Figure\",\"type\":\"Plot\"},{\"attributes\":{},\"id\":\"a5813cb7-f4a3-4532-9976-35e4bd8eef5c\",\"type\":\"SaveTool\"},{\"attributes\":{\"fill_alpha\":{\"value\":0.7},\"fill_color\":{\"value\":\"#4daf4a\"},\"line_alpha\":{\"value\":0.7},\"line_color\":{\"value\":\"#4daf4a\"},\"x\":{\"field\":\"x\"},\"y\":{\"field\":\"y\"}},\"id\":\"6eba17f4-e744-469c-88fb-06d50a50fb4f\",\"type\":\"Circle\"},{\"attributes\":{\"axis_label\":\"pressure [mb]\",\"formatter\":{\"id\":\"d339b3d2-7fcf-4548-985b-5b40182f6f43\",\"type\":\"BasicTickFormatter\"},\"plot\":{\"id\":\"ace58307-42ce-42c2-ba62-f1388572cdd4\",\"subtype\":\"Figure\",\"type\":\"Plot\"},\"ticker\":{\"id\":\"fc8dcfa9-0ead-4815-9af5-9309e8a799ef\",\"type\":\"BasicTicker\"}},\"id\":\"252e2cb1-44cb-464b-982b-c5c4ed7429ff\",\"type\":\"LinearAxis\"},{\"attributes\":{\"plot\":{\"id\":\"284c2515-bf9e-4712-9948-d6d7de7f828b\",\"subtype\":\"Figure\",\"type\":\"Plot\"},\"ticker\":{\"id\":\"51cc6a48-d96f-4451-9a90-7dd6066a3e23\",\"type\":\"BasicTicker\"}},\"id\":\"2162126b-9526-4c94-868d-4bafd398e6f6\",\"type\":\"Grid\"},{\"attributes\":{\"items\":[{\"id\":\"0b9729e5-655c-49c8-983b-90d6296efae7\",\"type\":\"LegendItem\"}],\"label_text_font_size\":{\"value\":\"8pt\"},\"location\":\"top_center\",\"orientation\":\"horizontal\",\"plot\":{\"id\":\"284c2515-bf9e-4712-9948-d6d7de7f828b\",\"subtype\":\"Figure\",\"type\":\"Plot\"}},\"id\":\"8c6d78a4-1290-4e48-8430-56f0379ddd8f\",\"type\":\"Legend\"},{\"attributes\":{},\"id\":\"e1f7a45a-0f57-4e20-97a3-d652010b5d8e\",\"type\":\"HelpTool\"},{\"attributes\":{\"label\":{\"value\":\"CLIRAD\"},\"renderers\":[{\"id\":\"657ec365-f577-4586-88cd-c0f10f9dcc65\",\"type\":\"GlyphRenderer\"}]},\"id\":\"cad90052-21ff-4d9f-b539-d176ae269f7f\",\"type\":\"LegendItem\"},{\"attributes\":{\"dimension\":1,\"plot\":{\"id\":\"8ce307d8-22fc-4ae9-ac1d-55ab58ac4c63\",\"subtype\":\"Figure\",\"type\":\"Plot\"},\"ticker\":{\"id\":\"f72c1467-2b28-45d3-9a72-334d2f74baca\",\"type\":\"LogTicker\"}},\"id\":\"8745b223-c50f-441e-87de-d2f20ce9ff53\",\"type\":\"Grid\"},{\"attributes\":{},\"id\":\"7862262a-3e24-4e42-83a3-f7f1a0997507\",\"type\":\"UnionRenderers\"},{\"attributes\":{\"dimension\":1,\"plot\":{\"id\":\"ace58307-42ce-42c2-ba62-f1388572cdd4\",\"subtype\":\"Figure\",\"type\":\"Plot\"},\"ticker\":{\"id\":\"fc8dcfa9-0ead-4815-9af5-9309e8a799ef\",\"type\":\"BasicTicker\"}},\"id\":\"42ed1d75-bb38-4c95-b353-3dbc3688a280\",\"type\":\"Grid\"},{\"attributes\":{},\"id\":\"6ade7a2d-77c8-4a69-9610-c76d7d334678\",\"type\":\"Selection\"},{\"attributes\":{\"label\":{\"value\":\"CRD\"},\"renderers\":[{\"id\":\"92aaa09b-842e-4bdd-ba35-3626e8c4cae1\",\"type\":\"GlyphRenderer\"},{\"id\":\"90ee1d6d-47b3-47f5-a6a8-c8a577cf46cf\",\"type\":\"GlyphRenderer\"}]},\"id\":\"c836202a-e4c8-4191-aec6-e5e3449f189f\",\"type\":\"LegendItem\"},{\"attributes\":{},\"id\":\"ce647c47-54e0-4239-bcfb-aeaa62fecffb\",\"type\":\"PanTool\"},{\"attributes\":{},\"id\":\"47f416cc-cc7f-4009-9a8a-e84df6fce0bd\",\"type\":\"Selection\"},{\"attributes\":{},\"id\":\"23a0b7f7-f744-43cb-95e6-229dd7a3b149\",\"type\":\"BasicTickFormatter\"},{\"attributes\":{},\"id\":\"9d94c076-a45a-4783-9fbc-99ae9d56d121\",\"type\":\"ResetTool\"},{\"attributes\":{\"callback\":null,\"end\":0.01,\"start\":1020},\"id\":\"3825c62d-2a21-445e-a23f-b538926dd988\",\"type\":\"Range1d\"},{\"attributes\":{\"plot\":{\"id\":\"8ce307d8-22fc-4ae9-ac1d-55ab58ac4c63\",\"subtype\":\"Figure\",\"type\":\"Plot\"},\"ticker\":{\"id\":\"ba684ea4-36ba-44b4-b00d-42402bde5933\",\"type\":\"BasicTicker\"}},\"id\":\"93929613-8fac-4d36-8244-95504dd8289b\",\"type\":\"Grid\"},{\"attributes\":{\"active_drag\":\"auto\",\"active_inspect\":\"auto\",\"active_scroll\":\"auto\",\"active_tap\":\"auto\",\"tools\":[{\"id\":\"86bd480f-9d34-4fad-8bbd-52482bcd1156\",\"type\":\"PanTool\"},{\"id\":\"8f43e61b-3da8-42f0-b463-a1be3d3ef220\",\"type\":\"WheelZoomTool\"},{\"id\":\"9e4e4740-e6f0-40ac-a8a2-a664d1714ddd\",\"type\":\"BoxZoomTool\"},{\"id\":\"76aa396f-26c5-4bd5-a62b-299567d00f04\",\"type\":\"SaveTool\"},{\"id\":\"53df85e7-a504-4d94-bd3b-df1e9f2d6b57\",\"type\":\"ResetTool\"},{\"id\":\"3a8e2683-dbf4-4770-b3a2-7ff729f9354a\",\"type\":\"HelpTool\"}]},\"id\":\"ba1ea194-cc25-4dde-904b-2b5aba02c43c\",\"type\":\"Toolbar\"},{\"attributes\":{\"label\":{\"value\":\"CLIRAD - CRD\"},\"renderers\":[{\"id\":\"16211b9a-c759-43d4-85fd-4590b977a9e3\",\"type\":\"GlyphRenderer\"},{\"id\":\"b8bcf3b2-8466-4001-9049-df8faf6d03a8\",\"type\":\"GlyphRenderer\"}]},\"id\":\"0b9729e5-655c-49c8-983b-90d6296efae7\",\"type\":\"LegendItem\"},{\"attributes\":{\"data_source\":{\"id\":\"22766957-2f9c-4ff8-87dc-92199c519077\",\"type\":\"ColumnDataSource\"},\"glyph\":{\"id\":\"6eba17f4-e744-469c-88fb-06d50a50fb4f\",\"type\":\"Circle\"},\"hover_glyph\":null,\"muted_glyph\":null,\"nonselection_glyph\":{\"id\":\"8be80c27-29a7-4ed5-8499-c2b47e89c279\",\"type\":\"Circle\"},\"selection_glyph\":null,\"view\":{\"id\":\"50a9bfb8-d659-4350-aea1-c66ed80be4d7\",\"type\":\"CDSView\"}},\"id\":\"92aaa09b-842e-4bdd-ba35-3626e8c4cae1\",\"type\":\"GlyphRenderer\"},{\"attributes\":{\"overlay\":{\"id\":\"f338d826-1699-44f6-93e8-107d5fb100ba\",\"type\":\"BoxAnnotation\"}},\"id\":\"b8423094-b767-43bd-9ae5-a1a082df391f\",\"type\":\"BoxZoomTool\"},{\"attributes\":{\"plot\":null,\"text\":\"\"},\"id\":\"d2ac1a44-7ff2-43a6-b891-68d857ecb525\",\"type\":\"Title\"},{\"attributes\":{},\"id\":\"51cc6a48-d96f-4451-9a90-7dd6066a3e23\",\"type\":\"BasicTicker\"},{\"attributes\":{},\"id\":\"f064bf82-c3db-4bd6-8f34-a20ed112a92a\",\"type\":\"LogScale\"},{\"attributes\":{\"axis_label\":\"pressure [mb]\",\"formatter\":{\"id\":\"0384161b-0948-41ea-a2e7-77e77a041fa9\",\"type\":\"LogTickFormatter\"},\"plot\":{\"id\":\"284c2515-bf9e-4712-9948-d6d7de7f828b\",\"subtype\":\"Figure\",\"type\":\"Plot\"},\"ticker\":{\"id\":\"e45b6f6e-1c71-4c2f-9d1e-ce5db2b02619\",\"type\":\"LogTicker\"}},\"id\":\"2512e4d8-eab9-48d3-91b0-6a31960f24ab\",\"type\":\"LogAxis\"},{\"attributes\":{},\"id\":\"8bdc5346-4d8d-4f60-a182-4d7c73aade85\",\"type\":\"PanTool\"},{\"attributes\":{\"dimension\":1,\"plot\":{\"id\":\"284c2515-bf9e-4712-9948-d6d7de7f828b\",\"subtype\":\"Figure\",\"type\":\"Plot\"},\"ticker\":{\"id\":\"e45b6f6e-1c71-4c2f-9d1e-ce5db2b02619\",\"type\":\"LogTicker\"}},\"id\":\"78ec30fa-1f49-48ff-bccd-d48636896d4d\",\"type\":\"Grid\"},{\"attributes\":{},\"id\":\"0bbdcab5-1ad1-48c6-95b6-a0dbea4d0d9f\",\"type\":\"LinearScale\"},{\"attributes\":{},\"id\":\"b77dbf06-1767-4475-a9d1-2b9d0ee7baaf\",\"type\":\"UnionRenderers\"},{\"attributes\":{},\"id\":\"9277fe9a-b0c4-4ea2-928e-33c2a68bd8cf\",\"type\":\"BasicTickFormatter\"},{\"attributes\":{\"axis_label\":\"pressure [mb]\",\"formatter\":{\"id\":\"9df8fd21-4e3d-4305-9730-0fc9a380e5ff\",\"type\":\"LogTickFormatter\"},\"plot\":{\"id\":\"8ce307d8-22fc-4ae9-ac1d-55ab58ac4c63\",\"subtype\":\"Figure\",\"type\":\"Plot\"},\"ticker\":{\"id\":\"f72c1467-2b28-45d3-9a72-334d2f74baca\",\"type\":\"LogTicker\"}},\"id\":\"ff4ac338-39c5-4eaa-b0e2-a4a53213a481\",\"type\":\"LogAxis\"},{\"attributes\":{\"fill_alpha\":{\"value\":0.1},\"fill_color\":{\"value\":\"#1f77b4\"},\"line_alpha\":{\"value\":0.1},\"line_color\":{\"value\":\"#1f77b4\"},\"x\":{\"field\":\"x\"},\"y\":{\"field\":\"y\"}},\"id\":\"8be80c27-29a7-4ed5-8499-c2b47e89c279\",\"type\":\"Circle\"},{\"attributes\":{\"plot\":null,\"text\":\"\"},\"id\":\"50486397-0323-4683-8bc1-fe3ff072845a\",\"type\":\"Title\"},{\"attributes\":{\"label\":{\"value\":\"CRD\"},\"renderers\":[{\"id\":\"978aab94-e164-4730-bd1b-df66d0ec0090\",\"type\":\"GlyphRenderer\"},{\"id\":\"37a2f09e-4b5d-465c-afc1-1e9d22e478cc\",\"type\":\"GlyphRenderer\"}]},\"id\":\"d622543f-9762-4a4a-b318-1ec5d64ec9ae\",\"type\":\"LegendItem\"},{\"attributes\":{},\"id\":\"f0c6d065-8a8e-4a49-b50b-f3d6fa34b673\",\"type\":\"UnionRenderers\"},{\"attributes\":{},\"id\":\"b8dd3670-f05e-474e-aa0f-b67bb6d568bb\",\"type\":\"UnionRenderers\"},{\"attributes\":{\"bottom_units\":\"screen\",\"fill_alpha\":{\"value\":0.5},\"fill_color\":{\"value\":\"lightgrey\"},\"left_units\":\"screen\",\"level\":\"overlay\",\"line_alpha\":{\"value\":1.0},\"line_color\":{\"value\":\"black\"},\"line_dash\":[4,4],\"line_width\":{\"value\":2},\"plot\":null,\"render_mode\":\"css\",\"right_units\":\"screen\",\"top_units\":\"screen\"},\"id\":\"03f74a9f-9425-4707-9b69-38ac87d6497b\",\"type\":\"BoxAnnotation\"},{\"attributes\":{\"label\":{\"value\":\"CLIRAD\"},\"renderers\":[{\"id\":\"536a1f7d-2ff1-44ad-98ef-cf3bb7cbd3f8\",\"type\":\"GlyphRenderer\"}]},\"id\":\"7df4465e-1104-4641-949a-169becee1ba3\",\"type\":\"LegendItem\"},{\"attributes\":{},\"id\":\"ba684ea4-36ba-44b4-b00d-42402bde5933\",\"type\":\"BasicTicker\"},{\"attributes\":{\"source\":{\"id\":\"9b1c1f63-acd8-4f51-aeac-fadde7ce0039\",\"type\":\"ColumnDataSource\"}},\"id\":\"7e6e2cbf-26c9-4e24-96e8-f05ede493256\",\"type\":\"CDSView\"},{\"attributes\":{\"tools\":[{\"id\":\"ce647c47-54e0-4239-bcfb-aeaa62fecffb\",\"type\":\"PanTool\"},{\"id\":\"164f2a10-54bc-4c96-9afe-23b0f0edc034\",\"type\":\"WheelZoomTool\"},{\"id\":\"f67817c2-e113-4f68-9500-0f4d864bb62c\",\"type\":\"BoxZoomTool\"},{\"id\":\"a5813cb7-f4a3-4532-9976-35e4bd8eef5c\",\"type\":\"SaveTool\"},{\"id\":\"9d94c076-a45a-4783-9fbc-99ae9d56d121\",\"type\":\"ResetTool\"},{\"id\":\"e1f7a45a-0f57-4e20-97a3-d652010b5d8e\",\"type\":\"HelpTool\"},{\"id\":\"86bd480f-9d34-4fad-8bbd-52482bcd1156\",\"type\":\"PanTool\"},{\"id\":\"8f43e61b-3da8-42f0-b463-a1be3d3ef220\",\"type\":\"WheelZoomTool\"},{\"id\":\"9e4e4740-e6f0-40ac-a8a2-a664d1714ddd\",\"type\":\"BoxZoomTool\"},{\"id\":\"76aa396f-26c5-4bd5-a62b-299567d00f04\",\"type\":\"SaveTool\"},{\"id\":\"53df85e7-a504-4d94-bd3b-df1e9f2d6b57\",\"type\":\"ResetTool\"},{\"id\":\"3a8e2683-dbf4-4770-b3a2-7ff729f9354a\",\"type\":\"HelpTool\"},{\"id\":\"8bdc5346-4d8d-4f60-a182-4d7c73aade85\",\"type\":\"PanTool\"},{\"id\":\"991fedc2-9bea-43d8-acf5-de24a4a0cd6d\",\"type\":\"WheelZoomTool\"},{\"id\":\"b8423094-b767-43bd-9ae5-a1a082df391f\",\"type\":\"BoxZoomTool\"},{\"id\":\"bb06e8b3-7341-4bc3-af87-6391036eda79\",\"type\":\"SaveTool\"},{\"id\":\"f5f1dab5-0748-490d-b611-b3373e77390a\",\"type\":\"ResetTool\"},{\"id\":\"415fa756-9cb2-456b-b022-08556360e6d5\",\"type\":\"HelpTool\"}]},\"id\":\"72d443ec-8471-4baa-87ac-620c3ecc1cf2\",\"type\":\"ProxyToolbar\"},{\"attributes\":{},\"id\":\"fc8dcfa9-0ead-4815-9af5-9309e8a799ef\",\"type\":\"BasicTicker\"},{\"attributes\":{\"line_color\":\"#4daf4a\",\"line_width\":1.5,\"x\":{\"field\":\"x\"},\"y\":{\"field\":\"y\"}},\"id\":\"d059f874-bf13-4c8a-a6bd-167a851b8001\",\"type\":\"Line\"},{\"attributes\":{},\"id\":\"fa79b379-a5b1-44d9-a9d7-01b181365748\",\"type\":\"UnionRenderers\"},{\"attributes\":{},\"id\":\"bd70d03b-7dce-4561-921a-868bd561b181\",\"type\":\"LinearScale\"},{\"attributes\":{\"axis_label\":\"cooling rate [K/day]\",\"formatter\":{\"id\":\"23a0b7f7-f744-43cb-95e6-229dd7a3b149\",\"type\":\"BasicTickFormatter\"},\"plot\":{\"id\":\"284c2515-bf9e-4712-9948-d6d7de7f828b\",\"subtype\":\"Figure\",\"type\":\"Plot\"},\"ticker\":{\"id\":\"51cc6a48-d96f-4451-9a90-7dd6066a3e23\",\"type\":\"BasicTicker\"}},\"id\":\"5c5665e1-4431-4d86-8b06-4ff944860f27\",\"type\":\"LinearAxis\"},{\"attributes\":{\"fill_alpha\":{\"value\":0.7},\"fill_color\":{\"value\":\"#4daf4a\"},\"line_alpha\":{\"value\":0.7},\"line_color\":{\"value\":\"#4daf4a\"},\"x\":{\"field\":\"x\"},\"y\":{\"field\":\"y\"}},\"id\":\"3a7a6e3e-d883-4313-ba3a-976ed429c82b\",\"type\":\"Circle\"},{\"attributes\":{\"source\":{\"id\":\"6ae512fc-163d-4ae5-a2f6-5460d4ce05f6\",\"type\":\"ColumnDataSource\"}},\"id\":\"ba559d8e-6dd8-4637-a885-cc5183cf5c2f\",\"type\":\"CDSView\"},{\"attributes\":{\"source\":{\"id\":\"8aca085d-d487-49e8-93ad-e2ea6c008fc3\",\"type\":\"ColumnDataSource\"}},\"id\":\"239d6231-79bd-4d2a-961e-7ccd676b6947\",\"type\":\"CDSView\"},{\"attributes\":{\"items\":[{\"id\":\"7df4465e-1104-4641-949a-169becee1ba3\",\"type\":\"LegendItem\"},{\"id\":\"d622543f-9762-4a4a-b318-1ec5d64ec9ae\",\"type\":\"LegendItem\"}],\"label_text_font_size\":{\"value\":\"8pt\"},\"location\":\"top_center\",\"orientation\":\"horizontal\",\"plot\":{\"id\":\"ace58307-42ce-42c2-ba62-f1388572cdd4\",\"subtype\":\"Figure\",\"type\":\"Plot\"}},\"id\":\"8e7a585f-d60b-4157-a0fe-dbb813430df1\",\"type\":\"Legend\"},{\"attributes\":{\"line_alpha\":0.1,\"line_color\":\"#1f77b4\",\"line_width\":1.5,\"x\":{\"field\":\"x\"},\"y\":{\"field\":\"y\"}},\"id\":\"a8b075a1-ffb9-4196-9d0c-331bd0169a84\",\"type\":\"Line\"},{\"attributes\":{},\"id\":\"800e2d2e-dbb7-430f-a77a-595717ebbe18\",\"type\":\"Selection\"},{\"attributes\":{},\"id\":\"415fa756-9cb2-456b-b022-08556360e6d5\",\"type\":\"HelpTool\"},{\"attributes\":{\"data_source\":{\"id\":\"8aca085d-d487-49e8-93ad-e2ea6c008fc3\",\"type\":\"ColumnDataSource\"},\"glyph\":{\"id\":\"3fe31811-c8d0-47a6-8099-5e164c576aae\",\"type\":\"Line\"},\"hover_glyph\":null,\"muted_glyph\":null,\"nonselection_glyph\":{\"id\":\"a8b075a1-ffb9-4196-9d0c-331bd0169a84\",\"type\":\"Line\"},\"selection_glyph\":null,\"view\":{\"id\":\"239d6231-79bd-4d2a-961e-7ccd676b6947\",\"type\":\"CDSView\"}},\"id\":\"b8bcf3b2-8466-4001-9049-df8faf6d03a8\",\"type\":\"GlyphRenderer\"},{\"attributes\":{\"active_drag\":\"auto\",\"active_inspect\":\"auto\",\"active_scroll\":\"auto\",\"active_tap\":\"auto\",\"tools\":[{\"id\":\"8bdc5346-4d8d-4f60-a182-4d7c73aade85\",\"type\":\"PanTool\"},{\"id\":\"991fedc2-9bea-43d8-acf5-de24a4a0cd6d\",\"type\":\"WheelZoomTool\"},{\"id\":\"b8423094-b767-43bd-9ae5-a1a082df391f\",\"type\":\"BoxZoomTool\"},{\"id\":\"bb06e8b3-7341-4bc3-af87-6391036eda79\",\"type\":\"SaveTool\"},{\"id\":\"f5f1dab5-0748-490d-b611-b3373e77390a\",\"type\":\"ResetTool\"},{\"id\":\"415fa756-9cb2-456b-b022-08556360e6d5\",\"type\":\"HelpTool\"}]},\"id\":\"7f941332-96c9-48e5-9033-b0e6dc984a50\",\"type\":\"Toolbar\"},{\"attributes\":{},\"id\":\"f5f1dab5-0748-490d-b611-b3373e77390a\",\"type\":\"ResetTool\"},{\"attributes\":{\"callback\":null,\"end\":0.01,\"start\":1020},\"id\":\"847f7a20-db15-4cac-9a2d-48b871a72ff7\",\"type\":\"Range1d\"},{\"attributes\":{\"active_drag\":\"auto\",\"active_inspect\":\"auto\",\"active_scroll\":\"auto\",\"active_tap\":\"auto\",\"tools\":[{\"id\":\"ce647c47-54e0-4239-bcfb-aeaa62fecffb\",\"type\":\"PanTool\"},{\"id\":\"164f2a10-54bc-4c96-9afe-23b0f0edc034\",\"type\":\"WheelZoomTool\"},{\"id\":\"f67817c2-e113-4f68-9500-0f4d864bb62c\",\"type\":\"BoxZoomTool\"},{\"id\":\"a5813cb7-f4a3-4532-9976-35e4bd8eef5c\",\"type\":\"SaveTool\"},{\"id\":\"9d94c076-a45a-4783-9fbc-99ae9d56d121\",\"type\":\"ResetTool\"},{\"id\":\"e1f7a45a-0f57-4e20-97a3-d652010b5d8e\",\"type\":\"HelpTool\"}]},\"id\":\"4ddc554f-9ec8-4e36-9e81-f227e607c1c4\",\"type\":\"Toolbar\"},{\"attributes\":{\"source\":{\"id\":\"5ddf366f-d22f-4e88-a264-d926cee8b4c7\",\"type\":\"ColumnDataSource\"}},\"id\":\"26b4e75a-7bf9-4484-a061-876e482704d2\",\"type\":\"CDSView\"},{\"attributes\":{},\"id\":\"bccc5549-0de1-40a0-90b0-e1b2b6fbf3ae\",\"type\":\"Selection\"},{\"attributes\":{},\"id\":\"58edcbf5-318c-49f2-a566-b81fb5ddb5cd\",\"type\":\"Selection\"},{\"attributes\":{},\"id\":\"8ebf0e1d-3208-4b2b-9e1f-8d5f05da6d36\",\"type\":\"UnionRenderers\"},{\"attributes\":{},\"id\":\"d339b3d2-7fcf-4548-985b-5b40182f6f43\",\"type\":\"BasicTickFormatter\"},{\"attributes\":{\"callback\":null,\"data\":{\"x\":{\"__ndarray__\":\"4L4jQHkeSED6bEliUZ1BQEG5/fnNOEFAKaX75oDvP0BWtxGLZf47QEsBa/cjdTdAvpCanOxvM0BYkA5Wr84wQIaHIyjeAS9AWp5++qLLLUCOWP4+iNUsQIddP4fJsitAhHeHs/zHKkAAB4lz66QpQIBdaVIOBihADcFUlg/LJkDo1fBny+8lQPL0MCipBiVA/84lcpgkJEApc9ZyQNQjQFMPZMd7HyVApFTwGHN5JECiczDrJ6YgQIMFIMndFRpAWmxD+VRMFECehYkcClIPQB2zlZqXGwlAIicg3vv1BEAGRP5PTWYCQIa2J73/EABAtVgNVxp3+z96irxnuyH1P+z/ko9ZivE/8q9rrax48T8tVZkJt73vPzFr4ZTTdek/Y+P3Lsmk5D+JZQIP8jfhP53wbNVCPeE/V9r0twyd4T9DlFgp+vHhP/iVNYK86+A/h8f9pSCQ3j8zN7uAz3/aPzUby1lUT9I/z5vtWyznzz/hqXiSS5baP3NjmyzXAuM/QKsa7/xC6z/T98vpfA/yPxGBa71eYPU/YSnZQumF9z8JuAhnaWv4P5zURQ1fa/g/QpS5890++D8Ha55Ocvb3P+zBlxcWi/c/l+WA4Bf69j8VkMl1GUb2PyPAsbNdn/U/5W9Xcy3b9D9bev/iwwf0P01MJIz3L/M/36lmcLll8j/8BvWPL73xPwQRsLU6SvE/tjXQYsMs8T90lDwEeXHxP0x+0CL3tvE/XMHCi7Z58T/lnyM2e7fvP+J+EQLjkeo/gh+1xxvB5T/c50HRZjvhP9t0xwybG9c/\",\"dtype\":\"float64\",\"shape\":[75]},\"y\":{\"__ndarray__\":\"GhExyth1ND/Sv8nbtpRIP2vylNV0PVE/aTum7souWD/At0SJ8fVgPw3Iuahxymc/MSNhhJWvcD/bTfBN02d3P2zb5nxnaoA/CD5h5MAGhz8NmeH1TyaQP+zrCsc9p5Y/LbKd76fGnz/bLW5ISEmmPww9YvTcQq8/JV2OstnstT8Er5Y7M8G+P0c+r3jqkcU/5h99k6ZBzj88bCIzFzjVP4enV8oyxN0//yH99nXg5D8qOpLLf0jtP5kqGJXUifQ/c9cS8kHP/D+/DpwzojQEQIEmwoanVwxA4lgXt9HgE0BSSZ2AJuIbQAMJih9jjiNA5q4l5INuK0AwTKYKRj0zQNv5fmq8/DpAaCJseHrtQkB/+zpwzoxKQM3MzMzMeFJAZmZmZmZqWEAAAAAAAFxeQM3MzMzMJmJAmpmZmZkfZUBmZmZmZhhoQDMzMzMzEWtAAAAAAAAKbkBmZmZmZoFwQM3MzMzM/XFAMzMzMzN6c0CamZmZmfZ0QAAAAAAAc3ZAZmZmZmbvd0DNzMzMzGt5QDMzMzMz6HpAmpmZmZlkfEAAAAAAAOF9QGZmZmZmXX9AZmZmZuZsgECamZmZGSuBQM3MzMxM6YFAAAAAAICngkAzMzMzs2WDQGZmZmbmI4RAmpmZmRnihEDNzMzMTKCFQAAAAACAXoZAMzMzM7Mch0BmZmZm5tqHQJqZmZkZmYhAzczMzExXiUAAAAAAgBWKQDMzMzOz04pAZmZmZuaRi0CamZmZGVCMQM3MzMxMDo1AAAAAAIDMjUAzMzMzs4qOQGZmZmbmSI9A\",\"dtype\":\"float64\",\"shape\":[75]}},\"selected\":{\"id\":\"b14e1619-fc19-4ea4-a52d-a10b3b1b7c47\",\"type\":\"Selection\"},\"selection_policy\":{\"id\":\"f0c6d065-8a8e-4a49-b50b-f3d6fa34b673\",\"type\":\"UnionRenderers\"}},\"id\":\"9e12211f-d7e8-43aa-9b8e-64e68e7b89cd\",\"type\":\"ColumnDataSource\"},{\"attributes\":{\"data_source\":{\"id\":\"9b1c1f63-acd8-4f51-aeac-fadde7ce0039\",\"type\":\"ColumnDataSource\"},\"glyph\":{\"id\":\"189f1299-088d-4a65-8e5e-8a9748295cda\",\"type\":\"Line\"},\"hover_glyph\":null,\"muted_glyph\":null,\"nonselection_glyph\":{\"id\":\"1ed1fcf6-2ecc-41c3-9292-8036bb18d668\",\"type\":\"Line\"},\"selection_glyph\":null,\"view\":{\"id\":\"7e6e2cbf-26c9-4e24-96e8-f05ede493256\",\"type\":\"CDSView\"}},\"id\":\"90ee1d6d-47b3-47f5-a6a8-c8a577cf46cf\",\"type\":\"GlyphRenderer\"},{\"attributes\":{\"callback\":null,\"data\":{\"x\":{\"__ndarray__\":\"0CYBcvU5UkCik9zf2GVBQF1VoNfLZ0BAVLxhiVXTPUDD1Wu1wJM6QFJyB025jjdAU6Aw5+b/NECYe1uuDfgyQB6bYtVTbTFAPxYSAF1HMEA00pYVm9QuQLolHbMzgC1AntlwirGsLECv+G9SjE4rQJH6ZLBp0ShAsLZQyPd/JkDyjgyf2PwkQLgyNGsrJyRAA13QbJD6I0C8hy0ilI4kQOVTXCEgcSZAovOGvZSGJUBVc/ZmUOIgQOf/6GHAyRlAcE8fAOBSFEDRur1U//gPQGFD9ZbokghAQsqHuSqSA0C91ci3W0UBQCtRQfvz7/4/kh8pntyB+j9t1/n+4TX1P773MAUjFfI/RgzR+CI28T8hBW8WHK7uPzVKjJfU8uk/0FPt4/z65T/wVYqzMPDhPz7K9C5CXuE/8+hSn9hY4T/9PPCkR6rhP1XsIC599OA/66X1nBCX3z/YbRM56QjcPz4dkSQc/dM/S7Wb8Fq00T+/yQdmX0vcP7TrGf476eM/WqNPJoWO7D9qOH1bcwDzP2bw+R5DQ/Y/RLSuQOQp+D8+aif8yAz5P0Wv6eBKRfk/0i2+IN4R+T/ik8QNFZr4PyS5UD5j/Pc/yJ68zXRG9z/2CHPL54H2P59SOhwKtPU/npkP8dfg9D8NlmVcdQz0P80ugRvuOvM/byxiAHN18j9USVZie8nxP5l9lNXYSPE/OB+F0UYP8T8Y7dsUCTHxP3EBgTHPcPE/bfx15p8S8T8FT+xkGtTuP6mdG7rkxuk/pboqTkHX5D/CrN8qGYngP7R4ZaL+htU/\",\"dtype\":\"float64\",\"shape\":[75]},\"y\":{\"__ndarray__\":\"GhExyth1ND/Sv8nbtpRIP2vylNV0PVE/aTum7souWD/At0SJ8fVgPw3Iuahxymc/MSNhhJWvcD/bTfBN02d3P2zb5nxnaoA/CD5h5MAGhz8NmeH1TyaQP+zrCsc9p5Y/LbKd76fGnz/bLW5ISEmmPww9YvTcQq8/JV2OstnstT8Er5Y7M8G+P0c+r3jqkcU/5h99k6ZBzj88bCIzFzjVP4enV8oyxN0//yH99nXg5D8qOpLLf0jtP5kqGJXUifQ/c9cS8kHP/D+/DpwzojQEQIEmwoanVwxA4lgXt9HgE0BSSZ2AJuIbQAMJih9jjiNA5q4l5INuK0AwTKYKRj0zQNv5fmq8/DpAaCJseHrtQkB/+zpwzoxKQM3MzMzMeFJAZmZmZmZqWEAAAAAAAFxeQM3MzMzMJmJAmpmZmZkfZUBmZmZmZhhoQDMzMzMzEWtAAAAAAAAKbkBmZmZmZoFwQM3MzMzM/XFAMzMzMzN6c0CamZmZmfZ0QAAAAAAAc3ZAZmZmZmbvd0DNzMzMzGt5QDMzMzMz6HpAmpmZmZlkfEAAAAAAAOF9QGZmZmZmXX9AZmZmZuZsgECamZmZGSuBQM3MzMxM6YFAAAAAAICngkAzMzMzs2WDQGZmZmbmI4RAmpmZmRnihEDNzMzMTKCFQAAAAACAXoZAMzMzM7Mch0BmZmZm5tqHQJqZmZkZmYhAzczMzExXiUAAAAAAgBWKQDMzMzOz04pAZmZmZuaRi0CamZmZGVCMQM3MzMxMDo1AAAAAAIDMjUAzMzMzs4qOQGZmZmbmSI9A\",\"dtype\":\"float64\",\"shape\":[75]}},\"selected\":{\"id\":\"800e2d2e-dbb7-430f-a77a-595717ebbe18\",\"type\":\"Selection\"},\"selection_policy\":{\"id\":\"fa79b379-a5b1-44d9-a9d7-01b181365748\",\"type\":\"UnionRenderers\"}},\"id\":\"6ae512fc-163d-4ae5-a2f6-5460d4ce05f6\",\"type\":\"ColumnDataSource\"},{\"attributes\":{\"ticker\":null},\"id\":\"9df8fd21-4e3d-4305-9730-0fc9a380e5ff\",\"type\":\"LogTickFormatter\"},{\"attributes\":{\"callback\":null,\"data\":{\"x\":{\"__ndarray__\":\"0CYBcvU5UkCik9zf2GVBQF1VoNfLZ0BAVLxhiVXTPUDD1Wu1wJM6QFJyB025jjdAU6Aw5+b/NECYe1uuDfgyQB6bYtVTbTFAPxYSAF1HMEA00pYVm9QuQLolHbMzgC1AntlwirGsLECv+G9SjE4rQJH6ZLBp0ShAsLZQyPd/JkDyjgyf2PwkQLgyNGsrJyRAA13QbJD6I0C8hy0ilI4kQOVTXCEgcSZAovOGvZSGJUBVc/ZmUOIgQOf/6GHAyRlAcE8fAOBSFEDRur1U//gPQGFD9ZbokghAQsqHuSqSA0C91ci3W0UBQCtRQfvz7/4/kh8pntyB+j9t1/n+4TX1P773MAUjFfI/RgzR+CI28T8hBW8WHK7uPzVKjJfU8uk/0FPt4/z65T/wVYqzMPDhPz7K9C5CXuE/8+hSn9hY4T/9PPCkR6rhP1XsIC599OA/66X1nBCX3z/YbRM56QjcPz4dkSQc/dM/S7Wb8Fq00T+/yQdmX0vcP7TrGf476eM/WqNPJoWO7D9qOH1bcwDzP2bw+R5DQ/Y/RLSuQOQp+D8+aif8yAz5P0Wv6eBKRfk/0i2+IN4R+T/ik8QNFZr4PyS5UD5j/Pc/yJ68zXRG9z/2CHPL54H2P59SOhwKtPU/npkP8dfg9D8NlmVcdQz0P80ugRvuOvM/byxiAHN18j9USVZie8nxP5l9lNXYSPE/OB+F0UYP8T8Y7dsUCTHxP3EBgTHPcPE/bfx15p8S8T8FT+xkGtTuP6mdG7rkxuk/pboqTkHX5D/CrN8qGYngP7R4ZaL+htU/\",\"dtype\":\"float64\",\"shape\":[75]},\"y\":{\"__ndarray__\":\"GhExyth1ND/Sv8nbtpRIP2vylNV0PVE/aTum7souWD/At0SJ8fVgPw3Iuahxymc/MSNhhJWvcD/bTfBN02d3P2zb5nxnaoA/CD5h5MAGhz8NmeH1TyaQP+zrCsc9p5Y/LbKd76fGnz/bLW5ISEmmPww9YvTcQq8/JV2OstnstT8Er5Y7M8G+P0c+r3jqkcU/5h99k6ZBzj88bCIzFzjVP4enV8oyxN0//yH99nXg5D8qOpLLf0jtP5kqGJXUifQ/c9cS8kHP/D+/DpwzojQEQIEmwoanVwxA4lgXt9HgE0BSSZ2AJuIbQAMJih9jjiNA5q4l5INuK0AwTKYKRj0zQNv5fmq8/DpAaCJseHrtQkB/+zpwzoxKQM3MzMzMeFJAZmZmZmZqWEAAAAAAAFxeQM3MzMzMJmJAmpmZmZkfZUBmZmZmZhhoQDMzMzMzEWtAAAAAAAAKbkBmZmZmZoFwQM3MzMzM/XFAMzMzMzN6c0CamZmZmfZ0QAAAAAAAc3ZAZmZmZmbvd0DNzMzMzGt5QDMzMzMz6HpAmpmZmZlkfEAAAAAAAOF9QGZmZmZmXX9AZmZmZuZsgECamZmZGSuBQM3MzMxM6YFAAAAAAICngkAzMzMzs2WDQGZmZmbmI4RAmpmZmRnihEDNzMzMTKCFQAAAAACAXoZAMzMzM7Mch0BmZmZm5tqHQJqZmZkZmYhAzczMzExXiUAAAAAAgBWKQDMzMzOz04pAZmZmZuaRi0CamZmZGVCMQM3MzMxMDo1AAAAAAIDMjUAzMzMzs4qOQGZmZmbmSI9A\",\"dtype\":\"float64\",\"shape\":[75]}},\"selected\":{\"id\":\"bccc5549-0de1-40a0-90b0-e1b2b6fbf3ae\",\"type\":\"Selection\"},\"selection_policy\":{\"id\":\"95712f9a-c213-4184-a719-b31f988d8cfa\",\"type\":\"UnionRenderers\"}},\"id\":\"5ddf366f-d22f-4e88-a264-d926cee8b4c7\",\"type\":\"ColumnDataSource\"},{\"attributes\":{},\"id\":\"b14e1619-fc19-4ea4-a52d-a10b3b1b7c47\",\"type\":\"Selection\"},{\"attributes\":{},\"id\":\"95712f9a-c213-4184-a719-b31f988d8cfa\",\"type\":\"UnionRenderers\"},{\"attributes\":{\"callback\":null,\"end\":1.59271886053327,\"start\":0.23594060091972996},\"id\":\"17fb0df8-19e7-4970-bce6-ec441395a153\",\"type\":\"Range1d\"},{\"attributes\":{\"data_source\":{\"id\":\"6ae512fc-163d-4ae5-a2f6-5460d4ce05f6\",\"type\":\"ColumnDataSource\"},\"glyph\":{\"id\":\"d059f874-bf13-4c8a-a6bd-167a851b8001\",\"type\":\"Line\"},\"hover_glyph\":null,\"muted_glyph\":null,\"nonselection_glyph\":{\"id\":\"e88db281-bf8f-4132-9ced-1e346caea740\",\"type\":\"Line\"},\"selection_glyph\":null,\"view\":{\"id\":\"ba559d8e-6dd8-4637-a885-cc5183cf5c2f\",\"type\":\"CDSView\"}},\"id\":\"37a2f09e-4b5d-465c-afc1-1e9d22e478cc\",\"type\":\"GlyphRenderer\"},{\"attributes\":{},\"id\":\"066ca5b5-11f0-4ae9-806d-a82356d70814\",\"type\":\"LogScale\"},{\"attributes\":{\"fill_alpha\":{\"value\":0.1},\"fill_color\":{\"value\":\"#1f77b4\"},\"line_alpha\":{\"value\":0.1},\"line_color\":{\"value\":\"#1f77b4\"},\"x\":{\"field\":\"x\"},\"y\":{\"field\":\"y\"}},\"id\":\"6b1318c0-4987-46e9-a643-4f53a6bc452e\",\"type\":\"Circle\"},{\"attributes\":{\"data_source\":{\"id\":\"de63860b-bd7e-4686-966a-988a6626d494\",\"type\":\"ColumnDataSource\"},\"glyph\":{\"id\":\"43036863-2695-4e66-a324-85c6cb2e82ab\",\"type\":\"Line\"},\"hover_glyph\":null,\"muted_glyph\":null,\"nonselection_glyph\":{\"id\":\"83babebb-dae6-4a60-9deb-b73f36c8b298\",\"type\":\"Line\"},\"selection_glyph\":null,\"view\":{\"id\":\"621dbc3b-5670-4b80-8e69-680a7f45da90\",\"type\":\"CDSView\"}},\"id\":\"536a1f7d-2ff1-44ad-98ef-cf3bb7cbd3f8\",\"type\":\"GlyphRenderer\"},{\"attributes\":{\"data_source\":{\"id\":\"5ddf366f-d22f-4e88-a264-d926cee8b4c7\",\"type\":\"ColumnDataSource\"},\"glyph\":{\"id\":\"3a7a6e3e-d883-4313-ba3a-976ed429c82b\",\"type\":\"Circle\"},\"hover_glyph\":null,\"muted_glyph\":null,\"nonselection_glyph\":{\"id\":\"6b1318c0-4987-46e9-a643-4f53a6bc452e\",\"type\":\"Circle\"},\"selection_glyph\":null,\"view\":{\"id\":\"26b4e75a-7bf9-4484-a061-876e482704d2\",\"type\":\"CDSView\"}},\"id\":\"978aab94-e164-4730-bd1b-df66d0ec0090\",\"type\":\"GlyphRenderer\"},{\"attributes\":{\"source\":{\"id\":\"de63860b-bd7e-4686-966a-988a6626d494\",\"type\":\"ColumnDataSource\"}},\"id\":\"621dbc3b-5670-4b80-8e69-680a7f45da90\",\"type\":\"CDSView\"},{\"attributes\":{\"bottom_units\":\"screen\",\"fill_alpha\":{\"value\":0.5},\"fill_color\":{\"value\":\"lightgrey\"},\"left_units\":\"screen\",\"level\":\"overlay\",\"line_alpha\":{\"value\":1.0},\"line_color\":{\"value\":\"black\"},\"line_dash\":[4,4],\"line_width\":{\"value\":2},\"plot\":null,\"render_mode\":\"css\",\"right_units\":\"screen\",\"top_units\":\"screen\"},\"id\":\"f338d826-1699-44f6-93e8-107d5fb100ba\",\"type\":\"BoxAnnotation\"},{\"attributes\":{},\"id\":\"93b670ba-eed9-4248-b515-df31355ca460\",\"type\":\"BasicTickFormatter\"},{\"attributes\":{\"line_alpha\":0.1,\"line_color\":\"#1f77b4\",\"line_width\":1.5,\"x\":{\"field\":\"x\"},\"y\":{\"field\":\"y\"}},\"id\":\"e88db281-bf8f-4132-9ced-1e346caea740\",\"type\":\"Line\"},{\"attributes\":{},\"id\":\"bb06e8b3-7341-4bc3-af87-6391036eda79\",\"type\":\"SaveTool\"},{\"attributes\":{\"above\":[{\"id\":\"8e7a585f-d60b-4157-a0fe-dbb813430df1\",\"type\":\"Legend\"}],\"below\":[{\"id\":\"6da752c7-7fff-45df-9a50-627781405238\",\"type\":\"LinearAxis\"}],\"left\":[{\"id\":\"252e2cb1-44cb-464b-982b-c5c4ed7429ff\",\"type\":\"LinearAxis\"}],\"plot_width\":300,\"renderers\":[{\"id\":\"6da752c7-7fff-45df-9a50-627781405238\",\"type\":\"LinearAxis\"},{\"id\":\"8e83aacd-af7b-4e0c-bf4d-94ce9011ca3a\",\"type\":\"Grid\"},{\"id\":\"252e2cb1-44cb-464b-982b-c5c4ed7429ff\",\"type\":\"LinearAxis\"},{\"id\":\"42ed1d75-bb38-4c95-b353-3dbc3688a280\",\"type\":\"Grid\"},{\"id\":\"03f74a9f-9425-4707-9b69-38ac87d6497b\",\"type\":\"BoxAnnotation\"},{\"id\":\"536a1f7d-2ff1-44ad-98ef-cf3bb7cbd3f8\",\"type\":\"GlyphRenderer\"},{\"id\":\"978aab94-e164-4730-bd1b-df66d0ec0090\",\"type\":\"GlyphRenderer\"},{\"id\":\"37a2f09e-4b5d-465c-afc1-1e9d22e478cc\",\"type\":\"GlyphRenderer\"},{\"id\":\"8e7a585f-d60b-4157-a0fe-dbb813430df1\",\"type\":\"Legend\"}],\"title\":{\"id\":\"d2ac1a44-7ff2-43a6-b891-68d857ecb525\",\"type\":\"Title\"},\"toolbar\":{\"id\":\"4ddc554f-9ec8-4e36-9e81-f227e607c1c4\",\"type\":\"Toolbar\"},\"toolbar_location\":null,\"x_range\":{\"id\":\"17fb0df8-19e7-4970-bce6-ec441395a153\",\"type\":\"Range1d\"},\"x_scale\":{\"id\":\"bd70d03b-7dce-4561-921a-868bd561b181\",\"type\":\"LinearScale\"},\"y_range\":{\"id\":\"3825c62d-2a21-445e-a23f-b538926dd988\",\"type\":\"Range1d\"},\"y_scale\":{\"id\":\"3ac575a1-fc28-4f7f-a8c4-a8c72f52964a\",\"type\":\"LinearScale\"}},\"id\":\"ace58307-42ce-42c2-ba62-f1388572cdd4\",\"subtype\":\"Figure\",\"type\":\"Plot\"},{\"attributes\":{},\"id\":\"190dff46-5611-4392-87be-b474a222ef31\",\"type\":\"BasicTicker\"},{\"attributes\":{\"line_alpha\":0.8,\"line_color\":\"#984ea3\",\"line_width\":1.5,\"x\":{\"field\":\"x\"},\"y\":{\"field\":\"y\"}},\"id\":\"3fe31811-c8d0-47a6-8099-5e164c576aae\",\"type\":\"Line\"},{\"attributes\":{\"plot\":{\"id\":\"ace58307-42ce-42c2-ba62-f1388572cdd4\",\"subtype\":\"Figure\",\"type\":\"Plot\"},\"ticker\":{\"id\":\"190dff46-5611-4392-87be-b474a222ef31\",\"type\":\"BasicTicker\"}},\"id\":\"8e83aacd-af7b-4e0c-bf4d-94ce9011ca3a\",\"type\":\"Grid\"},{\"attributes\":{\"fill_alpha\":{\"value\":0.1},\"fill_color\":{\"value\":\"#1f77b4\"},\"line_alpha\":{\"value\":0.1},\"line_color\":{\"value\":\"#1f77b4\"},\"x\":{\"field\":\"x\"},\"y\":{\"field\":\"y\"}},\"id\":\"2c62161a-fbf1-4ca0-8d9a-dd3c9a0e9105\",\"type\":\"Circle\"},{\"attributes\":{\"callback\":null,\"end\":0.01,\"start\":1020},\"id\":\"a2df1227-a4b0-41c1-b0af-0a9ca3856403\",\"type\":\"Range1d\"},{\"attributes\":{\"above\":[{\"id\":\"8c6d78a4-1290-4e48-8430-56f0379ddd8f\",\"type\":\"Legend\"}],\"below\":[{\"id\":\"5c5665e1-4431-4d86-8b06-4ff944860f27\",\"type\":\"LinearAxis\"}],\"left\":[{\"id\":\"2512e4d8-eab9-48d3-91b0-6a31960f24ab\",\"type\":\"LogAxis\"}],\"plot_width\":300,\"renderers\":[{\"id\":\"5c5665e1-4431-4d86-8b06-4ff944860f27\",\"type\":\"LinearAxis\"},{\"id\":\"2162126b-9526-4c94-868d-4bafd398e6f6\",\"type\":\"Grid\"},{\"id\":\"2512e4d8-eab9-48d3-91b0-6a31960f24ab\",\"type\":\"LogAxis\"},{\"id\":\"78ec30fa-1f49-48ff-bccd-d48636896d4d\",\"type\":\"Grid\"},{\"id\":\"f338d826-1699-44f6-93e8-107d5fb100ba\",\"type\":\"BoxAnnotation\"},{\"id\":\"16211b9a-c759-43d4-85fd-4590b977a9e3\",\"type\":\"GlyphRenderer\"},{\"id\":\"b8bcf3b2-8466-4001-9049-df8faf6d03a8\",\"type\":\"GlyphRenderer\"},{\"id\":\"8c6d78a4-1290-4e48-8430-56f0379ddd8f\",\"type\":\"Legend\"}],\"title\":{\"id\":\"e727c7cd-cc5a-4b2d-a705-aabc4b0f51ef\",\"type\":\"Title\"},\"toolbar\":{\"id\":\"7f941332-96c9-48e5-9033-b0e6dc984a50\",\"type\":\"Toolbar\"},\"toolbar_location\":null,\"x_range\":{\"id\":\"21dbbd50-1c69-4be4-9059-5dff50432510\",\"type\":\"Range1d\"},\"x_scale\":{\"id\":\"b264f0bc-d66b-4ece-97cb-b637f2140b5e\",\"type\":\"LinearScale\"},\"y_range\":{\"id\":\"a2df1227-a4b0-41c1-b0af-0a9ca3856403\",\"type\":\"Range1d\"},\"y_scale\":{\"id\":\"066ca5b5-11f0-4ae9-806d-a82356d70814\",\"type\":\"LogScale\"}},\"id\":\"284c2515-bf9e-4712-9948-d6d7de7f828b\",\"subtype\":\"Figure\",\"type\":\"Plot\"},{\"attributes\":{\"callback\":null,\"data\":{\"x\":{\"__ndarray__\":\"gx29R+OqOMDWq2w2QbzbP5N8rEtEIPo/qEbP7FrhAEAsGV5aTar2P9AHcZxVlbm/LPlgqaT/+L/2WWfC8koBwI11DRVMxv6/L3EsLbgY9r9LmodpLfHvvx2D3L2i1uy/uSGWbk1L7r/2Gm/uDZrqvz2ic79ra9m/7pYCgfPFwj+h3ogcWV7eP0hHmJ+379s/ev64qgIEtT9UkuLqdUrXvxtJhJ9FGuW/0O9pSRrS4L9o2f/iPRS+v0pmwc1ZB7M/LFmMbxsser9epoYGp960v4j3DXTgFbE/8c2FSRI9xj+V5FaDGQ/CPyO+4fC3ILM/TCSHHLenrj+/9Uw9lyZ0vyj6vrMuWaG/6eqoJm2ikD/OAKUyr/mgP4nBt6pAQI+/vQZXTztjpb/YDP6Q1AeXv6PR7MOsf3C/zFh8KAYNgT/D0RUaoeyBP5i3rNZXgVG/guZ9b/9ukL9naoOFm5GYv48gYKx83Jq/FHZOKkwMnL/j/fE4PVGbv2UI0S+azJy/m4FPc4O4pL/AEig2zh6uv5rqzTGMXKy/gVyxul9/pL9iRtaj8iukvx9Ve3R6Pau/8TGToAVgqr9gG8XkV3Skv1DOPa5JU5y/RkzuTjsXk7+lcLzUKueNv8R7kohorHS/IN2m4PapVr+8zm6Y5cVSv0ICxbke7WW/tB0F9x9zb78Ir4TCpJdovwC/NrkBHjY/pH4WS5F8fT9+1ynY+xuQP3I231P8iZE/oTsxU6nFmT8UHOomGmycPwgnvP7IX5k/ZptMMU87nT82Y0fMtEmWP3LCH6bGSZk/\",\"dtype\":\"float64\",\"shape\":[75]},\"y\":{\"__ndarray__\":\"GhExyth1ND/Sv8nbtpRIP2vylNV0PVE/aTum7souWD/At0SJ8fVgPw3Iuahxymc/MSNhhJWvcD/bTfBN02d3P2zb5nxnaoA/CD5h5MAGhz8NmeH1TyaQP+zrCsc9p5Y/LbKd76fGnz/bLW5ISEmmPww9YvTcQq8/JV2OstnstT8Er5Y7M8G+P0c+r3jqkcU/5h99k6ZBzj88bCIzFzjVP4enV8oyxN0//yH99nXg5D8qOpLLf0jtP5kqGJXUifQ/c9cS8kHP/D+/DpwzojQEQIEmwoanVwxA4lgXt9HgE0BSSZ2AJuIbQAMJih9jjiNA5q4l5INuK0AwTKYKRj0zQNv5fmq8/DpAaCJseHrtQkB/+zpwzoxKQM3MzMzMeFJAZmZmZmZqWEAAAAAAAFxeQM3MzMzMJmJAmpmZmZkfZUBmZmZmZhhoQDMzMzMzEWtAAAAAAAAKbkBmZmZmZoFwQM3MzMzM/XFAMzMzMzN6c0CamZmZmfZ0QAAAAAAAc3ZAZmZmZmbvd0DNzMzMzGt5QDMzMzMz6HpAmpmZmZlkfEAAAAAAAOF9QGZmZmZmXX9AZmZmZuZsgECamZmZGSuBQM3MzMxM6YFAAAAAAICngkAzMzMzs2WDQGZmZmbmI4RAmpmZmRnihEDNzMzMTKCFQAAAAACAXoZAMzMzM7Mch0BmZmZm5tqHQJqZmZkZmYhAzczMzExXiUAAAAAAgBWKQDMzMzOz04pAZmZmZuaRi0CamZmZGVCMQM3MzMxMDo1AAAAAAIDMjUAzMzMzs4qOQGZmZmbmSI9A\",\"dtype\":\"float64\",\"shape\":[75]}},\"selected\":{\"id\":\"6ade7a2d-77c8-4a69-9610-c76d7d334678\",\"type\":\"Selection\"},\"selection_policy\":{\"id\":\"116e4116-b690-4e84-845e-959842be9f29\",\"type\":\"UnionRenderers\"}},\"id\":\"8aca085d-d487-49e8-93ad-e2ea6c008fc3\",\"type\":\"ColumnDataSource\"},{\"attributes\":{},\"id\":\"3ac575a1-fc28-4f7f-a8c4-a8c72f52964a\",\"type\":\"LinearScale\"},{\"attributes\":{\"plot\":null,\"text\":\"\"},\"id\":\"e727c7cd-cc5a-4b2d-a705-aabc4b0f51ef\",\"type\":\"Title\"},{\"attributes\":{},\"id\":\"53df85e7-a504-4d94-bd3b-df1e9f2d6b57\",\"type\":\"ResetTool\"},{\"attributes\":{\"axis_label\":\"cooling rate [K/day]\",\"formatter\":{\"id\":\"93b670ba-eed9-4248-b515-df31355ca460\",\"type\":\"BasicTickFormatter\"},\"plot\":{\"id\":\"ace58307-42ce-42c2-ba62-f1388572cdd4\",\"subtype\":\"Figure\",\"type\":\"Plot\"},\"ticker\":{\"id\":\"190dff46-5611-4392-87be-b474a222ef31\",\"type\":\"BasicTicker\"}},\"id\":\"6da752c7-7fff-45df-9a50-627781405238\",\"type\":\"LinearAxis\"},{\"attributes\":{\"callback\":null,\"data\":{\"x\":{\"__ndarray__\":\"0CYBcvU5UkCik9zf2GVBQF1VoNfLZ0BAVLxhiVXTPUDD1Wu1wJM6QFJyB025jjdAU6Aw5+b/NECYe1uuDfgyQB6bYtVTbTFAPxYSAF1HMEA00pYVm9QuQLolHbMzgC1AntlwirGsLECv+G9SjE4rQJH6ZLBp0ShAsLZQyPd/JkDyjgyf2PwkQLgyNGsrJyRAA13QbJD6I0C8hy0ilI4kQOVTXCEgcSZAovOGvZSGJUBVc/ZmUOIgQOf/6GHAyRlAcE8fAOBSFEDRur1U//gPQGFD9ZbokghAQsqHuSqSA0C91ci3W0UBQCtRQfvz7/4/kh8pntyB+j9t1/n+4TX1P773MAUjFfI/RgzR+CI28T8hBW8WHK7uPzVKjJfU8uk/0FPt4/z65T/wVYqzMPDhPz7K9C5CXuE/8+hSn9hY4T/9PPCkR6rhP1XsIC599OA/66X1nBCX3z/YbRM56QjcPz4dkSQc/dM/S7Wb8Fq00T+/yQdmX0vcP7TrGf476eM/WqNPJoWO7D9qOH1bcwDzP2bw+R5DQ/Y/RLSuQOQp+D8+aif8yAz5P0Wv6eBKRfk/0i2+IN4R+T/ik8QNFZr4PyS5UD5j/Pc/yJ68zXRG9z/2CHPL54H2P59SOhwKtPU/npkP8dfg9D8NlmVcdQz0P80ugRvuOvM/byxiAHN18j9USVZie8nxP5l9lNXYSPE/OB+F0UYP8T8Y7dsUCTHxP3EBgTHPcPE/bfx15p8S8T8FT+xkGtTuP6mdG7rkxuk/pboqTkHX5D/CrN8qGYngP7R4ZaL+htU/\",\"dtype\":\"float64\",\"shape\":[75]},\"y\":{\"__ndarray__\":\"GhExyth1ND/Sv8nbtpRIP2vylNV0PVE/aTum7souWD/At0SJ8fVgPw3Iuahxymc/MSNhhJWvcD/bTfBN02d3P2zb5nxnaoA/CD5h5MAGhz8NmeH1TyaQP+zrCsc9p5Y/LbKd76fGnz/bLW5ISEmmPww9YvTcQq8/JV2OstnstT8Er5Y7M8G+P0c+r3jqkcU/5h99k6ZBzj88bCIzFzjVP4enV8oyxN0//yH99nXg5D8qOpLLf0jtP5kqGJXUifQ/c9cS8kHP/D+/DpwzojQEQIEmwoanVwxA4lgXt9HgE0BSSZ2AJuIbQAMJih9jjiNA5q4l5INuK0AwTKYKRj0zQNv5fmq8/DpAaCJseHrtQkB/+zpwzoxKQM3MzMzMeFJAZmZmZmZqWEAAAAAAAFxeQM3MzMzMJmJAmpmZmZkfZUBmZmZmZhhoQDMzMzMzEWtAAAAAAAAKbkBmZmZmZoFwQM3MzMzM/XFAMzMzMzN6c0CamZmZmfZ0QAAAAAAAc3ZAZmZmZmbvd0DNzMzMzGt5QDMzMzMz6HpAmpmZmZlkfEAAAAAAAOF9QGZmZmZmXX9AZmZmZuZsgECamZmZGSuBQM3MzMxM6YFAAAAAAICngkAzMzMzs2WDQGZmZmbmI4RAmpmZmRnihEDNzMzMTKCFQAAAAACAXoZAMzMzM7Mch0BmZmZm5tqHQJqZmZkZmYhAzczMzExXiUAAAAAAgBWKQDMzMzOz04pAZmZmZuaRi0CamZmZGVCMQM3MzMxMDo1AAAAAAIDMjUAzMzMzs4qOQGZmZmbmSI9A\",\"dtype\":\"float64\",\"shape\":[75]}},\"selected\":{\"id\":\"47f416cc-cc7f-4009-9a8a-e84df6fce0bd\",\"type\":\"Selection\"},\"selection_policy\":{\"id\":\"b77dbf06-1767-4475-a9d1-2b9d0ee7baaf\",\"type\":\"UnionRenderers\"}},\"id\":\"22766957-2f9c-4ff8-87dc-92199c519077\",\"type\":\"ColumnDataSource\"},{\"attributes\":{},\"id\":\"3a8e2683-dbf4-4770-b3a2-7ff729f9354a\",\"type\":\"HelpTool\"},{\"attributes\":{\"bottom_units\":\"screen\",\"fill_alpha\":{\"value\":0.5},\"fill_color\":{\"value\":\"lightgrey\"},\"left_units\":\"screen\",\"level\":\"overlay\",\"line_alpha\":{\"value\":1.0},\"line_color\":{\"value\":\"black\"},\"line_dash\":[4,4],\"line_width\":{\"value\":2},\"plot\":null,\"render_mode\":\"css\",\"right_units\":\"screen\",\"top_units\":\"screen\"},\"id\":\"acb77ee1-4bcb-4e4a-a2d1-bc0d55bb3d7b\",\"type\":\"BoxAnnotation\"},{\"attributes\":{\"line_alpha\":0.6,\"line_color\":\"#e41a1c\",\"line_dash\":[6],\"line_width\":5,\"x\":{\"field\":\"x\"},\"y\":{\"field\":\"y\"}},\"id\":\"43036863-2695-4e66-a324-85c6cb2e82ab\",\"type\":\"Line\"},{\"attributes\":{\"source\":{\"id\":\"463f64d8-d7d6-42eb-89f0-ca9593a56a13\",\"type\":\"ColumnDataSource\"}},\"id\":\"cb3c4ec1-66fe-47ea-bfa7-5ee45eeae7b6\",\"type\":\"CDSView\"},{\"attributes\":{\"callback\":null,\"data\":{\"x\":{\"__ndarray__\":\"4L4jQHkeSED6bEliUZ1BQEG5/fnNOEFAKaX75oDvP0BWtxGLZf47QEsBa/cjdTdAvpCanOxvM0BYkA5Wr84wQIaHIyjeAS9AWp5++qLLLUCOWP4+iNUsQIddP4fJsitAhHeHs/zHKkAAB4lz66QpQIBdaVIOBihADcFUlg/LJkDo1fBny+8lQPL0MCipBiVA/84lcpgkJEApc9ZyQNQjQFMPZMd7HyVApFTwGHN5JECiczDrJ6YgQIMFIMndFRpAWmxD+VRMFECehYkcClIPQB2zlZqXGwlAIicg3vv1BEAGRP5PTWYCQIa2J73/EABAtVgNVxp3+z96irxnuyH1P+z/ko9ZivE/8q9rrax48T8tVZkJt73vPzFr4ZTTdek/Y+P3Lsmk5D+JZQIP8jfhP53wbNVCPeE/V9r0twyd4T9DlFgp+vHhP/iVNYK86+A/h8f9pSCQ3j8zN7uAz3/aPzUby1lUT9I/z5vtWyznzz/hqXiSS5baP3NjmyzXAuM/QKsa7/xC6z/T98vpfA/yPxGBa71eYPU/YSnZQumF9z8JuAhnaWv4P5zURQ1fa/g/QpS5890++D8Ha55Ocvb3P+zBlxcWi/c/l+WA4Bf69j8VkMl1GUb2PyPAsbNdn/U/5W9Xcy3b9D9bev/iwwf0P01MJIz3L/M/36lmcLll8j/8BvWPL73xPwQRsLU6SvE/tjXQYsMs8T90lDwEeXHxP0x+0CL3tvE/XMHCi7Z58T/lnyM2e7fvP+J+EQLjkeo/gh+1xxvB5T/c50HRZjvhP9t0xwybG9c/\",\"dtype\":\"float64\",\"shape\":[75]},\"y\":{\"__ndarray__\":\"GhExyth1ND/Sv8nbtpRIP2vylNV0PVE/aTum7souWD/At0SJ8fVgPw3Iuahxymc/MSNhhJWvcD/bTfBN02d3P2zb5nxnaoA/CD5h5MAGhz8NmeH1TyaQP+zrCsc9p5Y/LbKd76fGnz/bLW5ISEmmPww9YvTcQq8/JV2OstnstT8Er5Y7M8G+P0c+r3jqkcU/5h99k6ZBzj88bCIzFzjVP4enV8oyxN0//yH99nXg5D8qOpLLf0jtP5kqGJXUifQ/c9cS8kHP/D+/DpwzojQEQIEmwoanVwxA4lgXt9HgE0BSSZ2AJuIbQAMJih9jjiNA5q4l5INuK0AwTKYKRj0zQNv5fmq8/DpAaCJseHrtQkB/+zpwzoxKQM3MzMzMeFJAZmZmZmZqWEAAAAAAAFxeQM3MzMzMJmJAmpmZmZkfZUBmZmZmZhhoQDMzMzMzEWtAAAAAAAAKbkBmZmZmZoFwQM3MzMzM/XFAMzMzMzN6c0CamZmZmfZ0QAAAAAAAc3ZAZmZmZmbvd0DNzMzMzGt5QDMzMzMz6HpAmpmZmZlkfEAAAAAAAOF9QGZmZmZmXX9AZmZmZuZsgECamZmZGSuBQM3MzMxM6YFAAAAAAICngkAzMzMzs2WDQGZmZmbmI4RAmpmZmRnihEDNzMzMTKCFQAAAAACAXoZAMzMzM7Mch0BmZmZm5tqHQJqZmZkZmYhAzczMzExXiUAAAAAAgBWKQDMzMzOz04pAZmZmZuaRi0CamZmZGVCMQM3MzMxMDo1AAAAAAIDMjUAzMzMzs4qOQGZmZmbmSI9A\",\"dtype\":\"float64\",\"shape\":[75]}},\"selected\":{\"id\":\"58edcbf5-318c-49f2-a566-b81fb5ddb5cd\",\"type\":\"Selection\"},\"selection_policy\":{\"id\":\"8ebf0e1d-3208-4b2b-9e1f-8d5f05da6d36\",\"type\":\"UnionRenderers\"}},\"id\":\"de63860b-bd7e-4686-966a-988a6626d494\",\"type\":\"ColumnDataSource\"},{\"attributes\":{\"fill_alpha\":{\"value\":0.7},\"fill_color\":{\"value\":\"#984ea3\"},\"line_alpha\":{\"value\":0.7},\"line_color\":{\"value\":\"#984ea3\"},\"x\":{\"field\":\"x\"},\"y\":{\"field\":\"y\"}},\"id\":\"a31ed323-421d-4292-903d-ae45f29a5ebd\",\"type\":\"Circle\"},{\"attributes\":{\"source\":{\"id\":\"9e12211f-d7e8-43aa-9b8e-64e68e7b89cd\",\"type\":\"ColumnDataSource\"}},\"id\":\"123d6d6a-1e5a-41f0-a83a-22aab6cd49ff\",\"type\":\"CDSView\"},{\"attributes\":{\"data_source\":{\"id\":\"9e12211f-d7e8-43aa-9b8e-64e68e7b89cd\",\"type\":\"ColumnDataSource\"},\"glyph\":{\"id\":\"593ca233-6ad2-4c66-bb84-9cf5b4f46fcf\",\"type\":\"Line\"},\"hover_glyph\":null,\"muted_glyph\":null,\"nonselection_glyph\":{\"id\":\"6eed8c01-a39a-4d22-8b72-98e267ac0976\",\"type\":\"Line\"},\"selection_glyph\":null,\"view\":{\"id\":\"123d6d6a-1e5a-41f0-a83a-22aab6cd49ff\",\"type\":\"CDSView\"}},\"id\":\"657ec365-f577-4586-88cd-c0f10f9dcc65\",\"type\":\"GlyphRenderer\"},{\"attributes\":{\"line_alpha\":0.1,\"line_color\":\"#1f77b4\",\"line_dash\":[6],\"line_width\":5,\"x\":{\"field\":\"x\"},\"y\":{\"field\":\"y\"}},\"id\":\"83babebb-dae6-4a60-9deb-b73f36c8b298\",\"type\":\"Line\"},{\"attributes\":{\"callback\":null,\"end\":0.493063986214751,\"start\":-1.3995904550577503},\"id\":\"21dbbd50-1c69-4be4-9059-5dff50432510\",\"type\":\"Range1d\"}],\"root_ids\":[\"6fea6a9f-2f72-4d36-bf9b-8af637e45801\"]},\"title\":\"Bokeh Application\",\"version\":\"0.12.16\"}};\n",
       "  var render_items = [{\"docid\":\"0cdd90ce-5fdd-408e-addd-70fd7d980946\",\"elementid\":\"201d1ad5-1a13-413b-b682-194e46bb8a56\",\"modelid\":\"6fea6a9f-2f72-4d36-bf9b-8af637e45801\"}];\n",
       "  root.Bokeh.embed.embed_items_notebook(docs_json, render_items);\n",
       "\n",
       "  }\n",
       "  if (root.Bokeh !== undefined) {\n",
       "    embed_document(root);\n",
       "  } else {\n",
       "    var attempts = 0;\n",
       "    var timer = setInterval(function(root) {\n",
       "      if (root.Bokeh !== undefined) {\n",
       "        embed_document(root);\n",
       "        clearInterval(timer);\n",
       "      }\n",
       "      attempts++;\n",
       "      if (attempts > 100) {\n",
       "        console.log(\"Bokeh: ERROR: Unable to run BokehJS code because BokehJS library is missing\")\n",
       "        clearInterval(timer);\n",
       "      }\n",
       "    }, 10, root)\n",
       "  }\n",
       "})(window);"
      ],
      "application/vnd.bokehjs_exec.v0+json": ""
     },
     "metadata": {
      "application/vnd.bokehjs_exec.v0+json": {
       "id": "6fea6a9f-2f72-4d36-bf9b-8af637e45801"
      }
     },
     "output_type": "display_data"
    },
    {
     "data": {
      "text/markdown": [
       "*FIGURE.* Cooling rates & difference."
      ],
      "text/plain": [
       "<IPython.core.display.Markdown object>"
      ]
     },
     "metadata": {},
     "output_type": "display_data"
    },
    {
     "data": {
      "text/html": [
       "<a id=\"Fluxes._saw.\"></a>"
      ],
      "text/plain": [
       "<IPython.core.display.HTML object>"
      ]
     },
     "metadata": {},
     "output_type": "display_data"
    },
    {
     "data": {
      "text/markdown": [
       "# Fluxes. saw."
      ],
      "text/plain": [
       "<IPython.core.display.Markdown object>"
      ]
     },
     "metadata": {},
     "output_type": "display_data"
    },
    {
     "data": {
      "text/html": [
       "\n",
       "<div class=\"bk-root\">\n",
       "    <div class=\"bk-plotdiv\" id=\"83d787c5-9475-4fed-80ec-74d6319512f4\"></div>\n",
       "</div>"
      ]
     },
     "metadata": {},
     "output_type": "display_data"
    },
    {
     "data": {
      "application/javascript": [
       "(function(root) {\n",
       "  function embed_document(root) {\n",
       "    \n",
       "  var docs_json = {\"868310c0-9b71-4868-8245-3a5a4d4fa879\":{\"roots\":{\"references\":[{\"attributes\":{\"bottom_units\":\"screen\",\"fill_alpha\":{\"value\":0.5},\"fill_color\":{\"value\":\"lightgrey\"},\"left_units\":\"screen\",\"level\":\"overlay\",\"line_alpha\":{\"value\":1.0},\"line_color\":{\"value\":\"black\"},\"line_dash\":[4,4],\"line_width\":{\"value\":2},\"plot\":null,\"render_mode\":\"css\",\"right_units\":\"screen\",\"top_units\":\"screen\"},\"id\":\"275d68f0-57cf-4e56-b577-164e3747d935\",\"type\":\"BoxAnnotation\"},{\"attributes\":{},\"id\":\"a4c66ae8-7f69-4be5-afdb-6f585a05694d\",\"type\":\"ResetTool\"},{\"attributes\":{},\"id\":\"aa3da5db-239c-4d09-995e-b760ce08b5c2\",\"type\":\"BasicTicker\"},{\"attributes\":{},\"id\":\"8ff030c3-09b8-473f-bff8-3cb737c4c967\",\"type\":\"WheelZoomTool\"},{\"attributes\":{},\"id\":\"3aa7f2fd-4c46-4ee8-90b3-447f92d91c49\",\"type\":\"CategoricalTicker\"},{\"attributes\":{\"overlay\":{\"id\":\"2b69e996-bdf5-47e2-8db5-f09bb7401b62\",\"type\":\"BoxAnnotation\"}},\"id\":\"cf92c331-626b-4c9e-ac3d-d8727a3f7809\",\"type\":\"BoxZoomTool\"},{\"attributes\":{\"axis_label\":\"flux (W m-2)\",\"formatter\":{\"id\":\"929b63d9-0780-4831-9725-a1d383c652cf\",\"type\":\"BasicTickFormatter\"},\"plot\":{\"id\":\"06692ea7-9fab-4c1c-be46-cd1af79ca167\",\"subtype\":\"Figure\",\"type\":\"Plot\"},\"ticker\":{\"id\":\"aa3da5db-239c-4d09-995e-b760ce08b5c2\",\"type\":\"BasicTicker\"}},\"id\":\"0403fa52-cc29-48c4-a9cb-2ccb74f05d24\",\"type\":\"LinearAxis\"},{\"attributes\":{\"children\":[{\"id\":\"a89cdbfc-569f-4e66-86d0-fc5b791c3ce6\",\"type\":\"ToolbarBox\"},{\"id\":\"6b4470df-889d-4eee-b0b2-708326e3e6dc\",\"type\":\"Column\"}]},\"id\":\"28bdb0db-b81d-449b-a61b-40018eda320e\",\"type\":\"Column\"},{\"attributes\":{},\"id\":\"603dfcad-0f64-44e0-b1d8-4b9aeea883dd\",\"type\":\"SaveTool\"},{\"attributes\":{\"tools\":[{\"id\":\"1b0b8aee-b9b9-40ce-989a-894ddb72b15d\",\"type\":\"PanTool\"},{\"id\":\"6c521b44-6b36-4c6f-9c21-4ac7d7ecaf21\",\"type\":\"WheelZoomTool\"},{\"id\":\"cf92c331-626b-4c9e-ac3d-d8727a3f7809\",\"type\":\"BoxZoomTool\"},{\"id\":\"002922e1-745e-410f-80df-a0a2653050d0\",\"type\":\"SaveTool\"},{\"id\":\"30fe1a16-e29b-42d0-b253-3dcc26c99a73\",\"type\":\"ResetTool\"},{\"id\":\"ff4f9a4e-d9c8-491f-9ff9-144b802a506c\",\"type\":\"HelpTool\"},{\"id\":\"ab0ed709-8345-4e73-a71d-1dc61ec11314\",\"type\":\"PanTool\"},{\"id\":\"929f6482-ff53-4e92-94e0-c5c423e7b824\",\"type\":\"WheelZoomTool\"},{\"id\":\"0fd20187-7c6b-4cf6-841b-d764a9acd927\",\"type\":\"BoxZoomTool\"},{\"id\":\"5dbfcd6e-daf6-4aed-87e6-605c89e95947\",\"type\":\"SaveTool\"},{\"id\":\"b878c6bc-a714-42c2-b390-d44abbf8e130\",\"type\":\"ResetTool\"},{\"id\":\"ab386837-6c75-49a6-bc1b-48f391f78a13\",\"type\":\"HelpTool\"},{\"id\":\"73ccf9e9-2785-45db-beef-c55a9d1d5b7a\",\"type\":\"PanTool\"},{\"id\":\"8ff030c3-09b8-473f-bff8-3cb737c4c967\",\"type\":\"WheelZoomTool\"},{\"id\":\"7a51a338-6590-4894-ba46-35c116ac18ea\",\"type\":\"BoxZoomTool\"},{\"id\":\"603dfcad-0f64-44e0-b1d8-4b9aeea883dd\",\"type\":\"SaveTool\"},{\"id\":\"a4c66ae8-7f69-4be5-afdb-6f585a05694d\",\"type\":\"ResetTool\"},{\"id\":\"7e46da4c-44c8-4c22-9f70-a0fc04dd3097\",\"type\":\"HelpTool\"}]},\"id\":\"adb19b98-e9ef-4a0f-9236-2491c380a5f3\",\"type\":\"ProxyToolbar\"},{\"attributes\":{},\"id\":\"7562d895-1a24-4661-b511-87824a6a861f\",\"type\":\"UnionRenderers\"},{\"attributes\":{\"dimension\":1,\"plot\":{\"id\":\"6cb10151-e403-4029-b155-5878c8fc4129\",\"subtype\":\"Figure\",\"type\":\"Plot\"},\"ticker\":{\"id\":\"72381dc9-51ae-4ca5-8fe9-f77da28043c0\",\"type\":\"BasicTicker\"}},\"id\":\"dfba6281-a343-4125-9425-a5f79eca357f\",\"type\":\"Grid\"},{\"attributes\":{\"source\":{\"id\":\"b62aa3c4-2a37-4758-a78b-49b9c8c31c41\",\"type\":\"ColumnDataSource\"}},\"id\":\"7ebbc5d3-76ad-417a-b00f-f1a1fc449d04\",\"type\":\"CDSView\"},{\"attributes\":{},\"id\":\"72381dc9-51ae-4ca5-8fe9-f77da28043c0\",\"type\":\"BasicTicker\"},{\"attributes\":{},\"id\":\"6bd9de22-308e-405c-92f5-8e39575ea812\",\"type\":\"Selection\"},{\"attributes\":{\"overlay\":{\"id\":\"275d68f0-57cf-4e56-b577-164e3747d935\",\"type\":\"BoxAnnotation\"}},\"id\":\"7a51a338-6590-4894-ba46-35c116ac18ea\",\"type\":\"BoxZoomTool\"},{\"attributes\":{\"callback\":null,\"data\":{\"band\":[\"1\",\"2\",\"3\",\"4\",\"5\",\"6\",\"7\",\"8\",\"9\",\"10\",\"11\"],\"flux\":{\"__ndarray__\":\"gEOHwJFAxz8A+NfyyvWyPwALzuDvF7O/AEd1OpD1wj8AowbTMHy4PwBw88ZJYY6/YBxcOuY80j8ABBxClZqNv4DcwqnFlqA/ACA2WDhJc79A+HdsulSTPw==\",\"dtype\":\"float64\",\"shape\":[11]}},\"selected\":{\"id\":\"8c2a4162-1d50-44de-8995-0dac1eb7cc29\",\"type\":\"Selection\"},\"selection_policy\":{\"id\":\"62df6fad-f309-4705-86b6-cd3c274cbd15\",\"type\":\"UnionRenderers\"}},\"id\":\"b62aa3c4-2a37-4758-a78b-49b9c8c31c41\",\"type\":\"ColumnDataSource\"},{\"attributes\":{\"callback\":null,\"data\":{\"band\":[\"1\",\"2\",\"3\",\"4\",\"5\",\"6\",\"7\",\"8\",\"9\",\"10\",\"11\"],\"flux\":{\"__ndarray__\":\"AMCVXpuNZb8AVvMcke/Av0AnLzIBv+C/AG7F/rJ7sj+ADjgBPFjIP9B82pcir7m/wI+B4QEKsD/IHC8wbTC0vwAsnbQVoJI/AILMzqJ3oj8A4PI/lpFsPw==\",\"dtype\":\"float64\",\"shape\":[11]}},\"selected\":{\"id\":\"0f633788-7271-4987-a7ef-75e9278d2de5\",\"type\":\"Selection\"},\"selection_policy\":{\"id\":\"464ca556-bf68-4511-a846-987b8e37f994\",\"type\":\"UnionRenderers\"}},\"id\":\"bc18f19f-bb29-4cd6-8950-06a407cb7c11\",\"type\":\"ColumnDataSource\"},{\"attributes\":{},\"id\":\"929f6482-ff53-4e92-94e0-c5c423e7b824\",\"type\":\"WheelZoomTool\"},{\"attributes\":{},\"id\":\"5dbfcd6e-daf6-4aed-87e6-605c89e95947\",\"type\":\"SaveTool\"},{\"attributes\":{\"bottom_units\":\"screen\",\"fill_alpha\":{\"value\":0.5},\"fill_color\":{\"value\":\"lightgrey\"},\"left_units\":\"screen\",\"level\":\"overlay\",\"line_alpha\":{\"value\":1.0},\"line_color\":{\"value\":\"black\"},\"line_dash\":[4,4],\"line_width\":{\"value\":2},\"plot\":null,\"render_mode\":\"css\",\"right_units\":\"screen\",\"top_units\":\"screen\"},\"id\":\"1387ccfc-f648-445c-b799-f64c4e1b4935\",\"type\":\"BoxAnnotation\"},{\"attributes\":{\"plot\":{\"id\":\"06692ea7-9fab-4c1c-be46-cd1af79ca167\",\"subtype\":\"Figure\",\"type\":\"Plot\"},\"ticker\":{\"id\":\"3aa7f2fd-4c46-4ee8-90b3-447f92d91c49\",\"type\":\"CategoricalTicker\"}},\"id\":\"f1b72802-1c72-4263-b2c2-854f36d9ef1f\",\"type\":\"Grid\"},{\"attributes\":{\"active_drag\":\"auto\",\"active_inspect\":\"auto\",\"active_scroll\":\"auto\",\"active_tap\":\"auto\",\"tools\":[{\"id\":\"1b0b8aee-b9b9-40ce-989a-894ddb72b15d\",\"type\":\"PanTool\"},{\"id\":\"6c521b44-6b36-4c6f-9c21-4ac7d7ecaf21\",\"type\":\"WheelZoomTool\"},{\"id\":\"cf92c331-626b-4c9e-ac3d-d8727a3f7809\",\"type\":\"BoxZoomTool\"},{\"id\":\"002922e1-745e-410f-80df-a0a2653050d0\",\"type\":\"SaveTool\"},{\"id\":\"30fe1a16-e29b-42d0-b253-3dcc26c99a73\",\"type\":\"ResetTool\"},{\"id\":\"ff4f9a4e-d9c8-491f-9ff9-144b802a506c\",\"type\":\"HelpTool\"}]},\"id\":\"3716df2a-9dcb-4857-9287-4ee249473a8c\",\"type\":\"Toolbar\"},{\"attributes\":{\"fill_color\":{\"value\":\"#1f77b4\"},\"line_color\":{\"value\":\"#1f77b4\"},\"top\":{\"field\":\"flux\"},\"width\":{\"value\":0.9},\"x\":{\"field\":\"band\"}},\"id\":\"8fe8bc93-b88a-4299-ade8-d4607acc0caf\",\"type\":\"VBar\"},{\"attributes\":{},\"id\":\"002922e1-745e-410f-80df-a0a2653050d0\",\"type\":\"SaveTool\"},{\"attributes\":{\"callback\":null,\"factors\":[\"1\",\"2\",\"3\",\"4\",\"5\",\"6\",\"7\",\"8\",\"9\",\"10\",\"11\"]},\"id\":\"704cc282-ab73-4a02-b567-85bb574c8cd6\",\"type\":\"FactorRange\"},{\"attributes\":{},\"id\":\"30fe1a16-e29b-42d0-b253-3dcc26c99a73\",\"type\":\"ResetTool\"},{\"attributes\":{\"bottom_units\":\"screen\",\"fill_alpha\":{\"value\":0.5},\"fill_color\":{\"value\":\"lightgrey\"},\"left_units\":\"screen\",\"level\":\"overlay\",\"line_alpha\":{\"value\":1.0},\"line_color\":{\"value\":\"black\"},\"line_dash\":[4,4],\"line_width\":{\"value\":2},\"plot\":null,\"render_mode\":\"css\",\"right_units\":\"screen\",\"top_units\":\"screen\"},\"id\":\"2b69e996-bdf5-47e2-8db5-f09bb7401b62\",\"type\":\"BoxAnnotation\"},{\"attributes\":{\"children\":[{\"id\":\"6cb10151-e403-4029-b155-5878c8fc4129\",\"subtype\":\"Figure\",\"type\":\"Plot\"},{\"id\":\"bd40cff9-84bb-460e-94aa-b5913551c41a\",\"subtype\":\"Figure\",\"type\":\"Plot\"},{\"id\":\"06692ea7-9fab-4c1c-be46-cd1af79ca167\",\"subtype\":\"Figure\",\"type\":\"Plot\"}]},\"id\":\"39230fd6-5d15-4da3-8552-7e70b36e971c\",\"type\":\"Row\"},{\"attributes\":{\"plot\":null,\"text\":\"TOA flux. CLIRAD - CRD.\"},\"id\":\"02b19d14-c67d-47a3-8ae9-3c7ce2e7f0e2\",\"type\":\"Title\"},{\"attributes\":{},\"id\":\"7e46da4c-44c8-4c22-9f70-a0fc04dd3097\",\"type\":\"HelpTool\"},{\"attributes\":{},\"id\":\"ab386837-6c75-49a6-bc1b-48f391f78a13\",\"type\":\"HelpTool\"},{\"attributes\":{},\"id\":\"1b0b8aee-b9b9-40ce-989a-894ddb72b15d\",\"type\":\"PanTool\"},{\"attributes\":{},\"id\":\"b878c6bc-a714-42c2-b390-d44abbf8e130\",\"type\":\"ResetTool\"},{\"attributes\":{\"axis_label\":\"spectral band\",\"formatter\":{\"id\":\"c4d04182-7143-472e-adf3-829524ff660c\",\"type\":\"CategoricalTickFormatter\"},\"plot\":{\"id\":\"06692ea7-9fab-4c1c-be46-cd1af79ca167\",\"subtype\":\"Figure\",\"type\":\"Plot\"},\"ticker\":{\"id\":\"3aa7f2fd-4c46-4ee8-90b3-447f92d91c49\",\"type\":\"CategoricalTicker\"}},\"id\":\"eca734f6-50aa-48bb-b336-f7e6c901be88\",\"type\":\"CategoricalAxis\"},{\"attributes\":{\"data_source\":{\"id\":\"b62aa3c4-2a37-4758-a78b-49b9c8c31c41\",\"type\":\"ColumnDataSource\"},\"glyph\":{\"id\":\"8fe8bc93-b88a-4299-ade8-d4607acc0caf\",\"type\":\"VBar\"},\"hover_glyph\":null,\"muted_glyph\":null,\"nonselection_glyph\":{\"id\":\"a0d128cf-73b9-451a-a780-8ee51f778e5f\",\"type\":\"VBar\"},\"selection_glyph\":null,\"view\":{\"id\":\"7ebbc5d3-76ad-417a-b00f-f1a1fc449d04\",\"type\":\"CDSView\"}},\"id\":\"93bb89bc-ec2c-4a69-bb0b-a905ba2800f8\",\"type\":\"GlyphRenderer\"},{\"attributes\":{\"below\":[{\"id\":\"49a178e3-4d55-4f57-8b56-820e5bf32886\",\"type\":\"CategoricalAxis\"}],\"left\":[{\"id\":\"967e6498-b197-4f91-8dda-67592e3b278c\",\"type\":\"LinearAxis\"}],\"plot_height\":300,\"plot_width\":300,\"renderers\":[{\"id\":\"49a178e3-4d55-4f57-8b56-820e5bf32886\",\"type\":\"CategoricalAxis\"},{\"id\":\"316098d0-102f-4f18-8598-180421b73028\",\"type\":\"Grid\"},{\"id\":\"967e6498-b197-4f91-8dda-67592e3b278c\",\"type\":\"LinearAxis\"},{\"id\":\"dfba6281-a343-4125-9425-a5f79eca357f\",\"type\":\"Grid\"},{\"id\":\"2b69e996-bdf5-47e2-8db5-f09bb7401b62\",\"type\":\"BoxAnnotation\"},{\"id\":\"93bb89bc-ec2c-4a69-bb0b-a905ba2800f8\",\"type\":\"GlyphRenderer\"}],\"title\":{\"id\":\"02b19d14-c67d-47a3-8ae9-3c7ce2e7f0e2\",\"type\":\"Title\"},\"toolbar\":{\"id\":\"3716df2a-9dcb-4857-9287-4ee249473a8c\",\"type\":\"Toolbar\"},\"toolbar_location\":null,\"x_range\":{\"id\":\"704cc282-ab73-4a02-b567-85bb574c8cd6\",\"type\":\"FactorRange\"},\"x_scale\":{\"id\":\"d8712db5-959d-4da5-946e-5149f018b6e5\",\"type\":\"CategoricalScale\"},\"y_range\":{\"id\":\"90f8e2a9-d817-40fb-a02d-5c070362e75c\",\"type\":\"DataRange1d\"},\"y_scale\":{\"id\":\"72bbec29-e981-433c-b56f-716f336032fe\",\"type\":\"LinearScale\"}},\"id\":\"6cb10151-e403-4029-b155-5878c8fc4129\",\"subtype\":\"Figure\",\"type\":\"Plot\"},{\"attributes\":{},\"id\":\"c6d5270e-5017-4b12-a755-630cb161d4c3\",\"type\":\"LinearScale\"},{\"attributes\":{},\"id\":\"62df6fad-f309-4705-86b6-cd3c274cbd15\",\"type\":\"UnionRenderers\"},{\"attributes\":{\"axis_label\":\"flux (W m-2)\",\"formatter\":{\"id\":\"58ca6334-c9fd-421e-a638-a918071833b0\",\"type\":\"BasicTickFormatter\"},\"plot\":{\"id\":\"6cb10151-e403-4029-b155-5878c8fc4129\",\"subtype\":\"Figure\",\"type\":\"Plot\"},\"ticker\":{\"id\":\"72381dc9-51ae-4ca5-8fe9-f77da28043c0\",\"type\":\"BasicTicker\"}},\"id\":\"967e6498-b197-4f91-8dda-67592e3b278c\",\"type\":\"LinearAxis\"},{\"attributes\":{},\"id\":\"ff4f9a4e-d9c8-491f-9ff9-144b802a506c\",\"type\":\"HelpTool\"},{\"attributes\":{\"toolbar\":{\"id\":\"adb19b98-e9ef-4a0f-9236-2491c380a5f3\",\"type\":\"ProxyToolbar\"},\"toolbar_location\":\"above\"},\"id\":\"a89cdbfc-569f-4e66-86d0-fc5b791c3ce6\",\"type\":\"ToolbarBox\"},{\"attributes\":{\"plot\":null,\"text\":\"Atmosphere heating. CLIRAD - CRD.\"},\"id\":\"c3dd4d37-5fe5-4e08-a57d-36f5c55ef3f2\",\"type\":\"Title\"},{\"attributes\":{},\"id\":\"0c2a56c2-98e6-4626-8774-d09f1c9a6582\",\"type\":\"BasicTickFormatter\"},{\"attributes\":{},\"id\":\"6c521b44-6b36-4c6f-9c21-4ac7d7ecaf21\",\"type\":\"WheelZoomTool\"},{\"attributes\":{\"callback\":null},\"id\":\"90f8e2a9-d817-40fb-a02d-5c070362e75c\",\"type\":\"DataRange1d\"},{\"attributes\":{},\"id\":\"ab0ed709-8345-4e73-a71d-1dc61ec11314\",\"type\":\"PanTool\"},{\"attributes\":{\"below\":[{\"id\":\"eca734f6-50aa-48bb-b336-f7e6c901be88\",\"type\":\"CategoricalAxis\"}],\"left\":[{\"id\":\"0403fa52-cc29-48c4-a9cb-2ccb74f05d24\",\"type\":\"LinearAxis\"}],\"plot_height\":300,\"plot_width\":300,\"renderers\":[{\"id\":\"eca734f6-50aa-48bb-b336-f7e6c901be88\",\"type\":\"CategoricalAxis\"},{\"id\":\"f1b72802-1c72-4263-b2c2-854f36d9ef1f\",\"type\":\"Grid\"},{\"id\":\"0403fa52-cc29-48c4-a9cb-2ccb74f05d24\",\"type\":\"LinearAxis\"},{\"id\":\"45464230-46a3-4751-a47d-282158739079\",\"type\":\"Grid\"},{\"id\":\"275d68f0-57cf-4e56-b577-164e3747d935\",\"type\":\"BoxAnnotation\"},{\"id\":\"0746231c-9e7e-47b0-b371-10f9d11cc601\",\"type\":\"GlyphRenderer\"}],\"title\":{\"id\":\"c3dd4d37-5fe5-4e08-a57d-36f5c55ef3f2\",\"type\":\"Title\"},\"toolbar\":{\"id\":\"bbdcccfa-de2f-4178-897a-a49f4aa00578\",\"type\":\"Toolbar\"},\"toolbar_location\":null,\"x_range\":{\"id\":\"5e23464d-7c96-4250-ae53-67bd1332986a\",\"type\":\"FactorRange\"},\"x_scale\":{\"id\":\"ae2ed1d1-5b63-43f5-bc28-326e90abc5c7\",\"type\":\"CategoricalScale\"},\"y_range\":{\"id\":\"ebdb5b89-0cbd-4fce-9783-9b49d02d61af\",\"type\":\"DataRange1d\"},\"y_scale\":{\"id\":\"c6d5270e-5017-4b12-a755-630cb161d4c3\",\"type\":\"LinearScale\"}},\"id\":\"06692ea7-9fab-4c1c-be46-cd1af79ca167\",\"subtype\":\"Figure\",\"type\":\"Plot\"},{\"attributes\":{\"overlay\":{\"id\":\"1387ccfc-f648-445c-b799-f64c4e1b4935\",\"type\":\"BoxAnnotation\"}},\"id\":\"0fd20187-7c6b-4cf6-841b-d764a9acd927\",\"type\":\"BoxZoomTool\"},{\"attributes\":{},\"id\":\"58ca6334-c9fd-421e-a638-a918071833b0\",\"type\":\"BasicTickFormatter\"},{\"attributes\":{\"dimension\":1,\"plot\":{\"id\":\"06692ea7-9fab-4c1c-be46-cd1af79ca167\",\"subtype\":\"Figure\",\"type\":\"Plot\"},\"ticker\":{\"id\":\"aa3da5db-239c-4d09-995e-b760ce08b5c2\",\"type\":\"BasicTicker\"}},\"id\":\"45464230-46a3-4751-a47d-282158739079\",\"type\":\"Grid\"},{\"attributes\":{},\"id\":\"464ca556-bf68-4511-a846-987b8e37f994\",\"type\":\"UnionRenderers\"},{\"attributes\":{\"fill_alpha\":{\"value\":0.1},\"fill_color\":{\"value\":\"#1f77b4\"},\"line_alpha\":{\"value\":0.1},\"line_color\":{\"value\":\"#1f77b4\"},\"top\":{\"field\":\"flux\"},\"width\":{\"value\":0.9},\"x\":{\"field\":\"band\"}},\"id\":\"a0d128cf-73b9-451a-a780-8ee51f778e5f\",\"type\":\"VBar\"},{\"attributes\":{},\"id\":\"d8712db5-959d-4da5-946e-5149f018b6e5\",\"type\":\"CategoricalScale\"},{\"attributes\":{},\"id\":\"b2f8375f-1276-47b9-a532-1609e2161529\",\"type\":\"CategoricalTickFormatter\"},{\"attributes\":{},\"id\":\"961c4a20-b838-4607-8978-18de15ea71c9\",\"type\":\"CategoricalTickFormatter\"},{\"attributes\":{},\"id\":\"68b6e2cf-bbdf-4fb1-a444-37069d3e5d3f\",\"type\":\"BasicTicker\"},{\"attributes\":{\"axis_label\":\"spectral band\",\"formatter\":{\"id\":\"961c4a20-b838-4607-8978-18de15ea71c9\",\"type\":\"CategoricalTickFormatter\"},\"plot\":{\"id\":\"6cb10151-e403-4029-b155-5878c8fc4129\",\"subtype\":\"Figure\",\"type\":\"Plot\"},\"ticker\":{\"id\":\"27d650b9-da07-49fb-91f4-d1ec2f4b4c69\",\"type\":\"CategoricalTicker\"}},\"id\":\"49a178e3-4d55-4f57-8b56-820e5bf32886\",\"type\":\"CategoricalAxis\"},{\"attributes\":{\"callback\":null,\"data\":{\"band\":[\"1\",\"2\",\"3\",\"4\",\"5\",\"6\",\"7\",\"8\",\"9\",\"10\",\"11\"],\"flux\":{\"__ndarray__\":\"gEyKZtCWxz8Aq5Dyk2rKP6DFJX0QuNw/gGKVqmtvsz8A39J7dDS4vwCW32ky47U/wPOnjep0zD8AxjjazHywPwCB3mXQGo0/gJjl8uzgpL/AnbAnLoWPPw==\",\"dtype\":\"float64\",\"shape\":[11]}},\"selected\":{\"id\":\"6bd9de22-308e-405c-92f5-8e39575ea812\",\"type\":\"Selection\"},\"selection_policy\":{\"id\":\"7562d895-1a24-4661-b511-87824a6a861f\",\"type\":\"UnionRenderers\"}},\"id\":\"145312a0-9212-4d6b-b3dd-e91a5a7b8a07\",\"type\":\"ColumnDataSource\"},{\"attributes\":{\"data_source\":{\"id\":\"145312a0-9212-4d6b-b3dd-e91a5a7b8a07\",\"type\":\"ColumnDataSource\"},\"glyph\":{\"id\":\"1a121b8f-59d8-45c0-beca-2849d9b4e1d5\",\"type\":\"VBar\"},\"hover_glyph\":null,\"muted_glyph\":null,\"nonselection_glyph\":{\"id\":\"15ff8558-a1f4-4a27-bb19-ac3e8976babb\",\"type\":\"VBar\"},\"selection_glyph\":null,\"view\":{\"id\":\"484d1b71-aabb-45fd-861b-1d2837caac14\",\"type\":\"CDSView\"}},\"id\":\"0746231c-9e7e-47b0-b371-10f9d11cc601\",\"type\":\"GlyphRenderer\"},{\"attributes\":{},\"id\":\"98f79b22-6fdd-491f-8591-d38c613008e4\",\"type\":\"CategoricalTicker\"},{\"attributes\":{\"active_drag\":\"auto\",\"active_inspect\":\"auto\",\"active_scroll\":\"auto\",\"active_tap\":\"auto\",\"tools\":[{\"id\":\"73ccf9e9-2785-45db-beef-c55a9d1d5b7a\",\"type\":\"PanTool\"},{\"id\":\"8ff030c3-09b8-473f-bff8-3cb737c4c967\",\"type\":\"WheelZoomTool\"},{\"id\":\"7a51a338-6590-4894-ba46-35c116ac18ea\",\"type\":\"BoxZoomTool\"},{\"id\":\"603dfcad-0f64-44e0-b1d8-4b9aeea883dd\",\"type\":\"SaveTool\"},{\"id\":\"a4c66ae8-7f69-4be5-afdb-6f585a05694d\",\"type\":\"ResetTool\"},{\"id\":\"7e46da4c-44c8-4c22-9f70-a0fc04dd3097\",\"type\":\"HelpTool\"}]},\"id\":\"bbdcccfa-de2f-4178-897a-a49f4aa00578\",\"type\":\"Toolbar\"},{\"attributes\":{\"fill_alpha\":{\"value\":0.1},\"fill_color\":{\"value\":\"#1f77b4\"},\"line_alpha\":{\"value\":0.1},\"line_color\":{\"value\":\"#1f77b4\"},\"top\":{\"field\":\"flux\"},\"width\":{\"value\":0.9},\"x\":{\"field\":\"band\"}},\"id\":\"15ff8558-a1f4-4a27-bb19-ac3e8976babb\",\"type\":\"VBar\"},{\"attributes\":{\"source\":{\"id\":\"145312a0-9212-4d6b-b3dd-e91a5a7b8a07\",\"type\":\"ColumnDataSource\"}},\"id\":\"484d1b71-aabb-45fd-861b-1d2837caac14\",\"type\":\"CDSView\"},{\"attributes\":{\"axis_label\":\"spectral band\",\"formatter\":{\"id\":\"b2f8375f-1276-47b9-a532-1609e2161529\",\"type\":\"CategoricalTickFormatter\"},\"plot\":{\"id\":\"bd40cff9-84bb-460e-94aa-b5913551c41a\",\"subtype\":\"Figure\",\"type\":\"Plot\"},\"ticker\":{\"id\":\"98f79b22-6fdd-491f-8591-d38c613008e4\",\"type\":\"CategoricalTicker\"}},\"id\":\"31d98ece-5543-424d-85ed-7b4b43872ecc\",\"type\":\"CategoricalAxis\"},{\"attributes\":{\"data_source\":{\"id\":\"bc18f19f-bb29-4cd6-8950-06a407cb7c11\",\"type\":\"ColumnDataSource\"},\"glyph\":{\"id\":\"f1a3465a-b399-4db5-b7fb-d053788323f4\",\"type\":\"VBar\"},\"hover_glyph\":null,\"muted_glyph\":null,\"nonselection_glyph\":{\"id\":\"83572194-3970-4e6c-aec6-171bc84afec2\",\"type\":\"VBar\"},\"selection_glyph\":null,\"view\":{\"id\":\"da93be16-62f8-4a5d-9e36-27f3fd88e74e\",\"type\":\"CDSView\"}},\"id\":\"b012cd7d-1f49-4338-ad5c-3fe4d0a174ac\",\"type\":\"GlyphRenderer\"},{\"attributes\":{\"axis_label\":\"flux (W m-2)\",\"formatter\":{\"id\":\"0c2a56c2-98e6-4626-8774-d09f1c9a6582\",\"type\":\"BasicTickFormatter\"},\"plot\":{\"id\":\"bd40cff9-84bb-460e-94aa-b5913551c41a\",\"subtype\":\"Figure\",\"type\":\"Plot\"},\"ticker\":{\"id\":\"68b6e2cf-bbdf-4fb1-a444-37069d3e5d3f\",\"type\":\"BasicTicker\"}},\"id\":\"61125a42-7275-45f8-83c2-c58fb2d6db96\",\"type\":\"LinearAxis\"},{\"attributes\":{\"dimension\":1,\"plot\":{\"id\":\"bd40cff9-84bb-460e-94aa-b5913551c41a\",\"subtype\":\"Figure\",\"type\":\"Plot\"},\"ticker\":{\"id\":\"68b6e2cf-bbdf-4fb1-a444-37069d3e5d3f\",\"type\":\"BasicTicker\"}},\"id\":\"f8350a2f-6d41-4ac0-a0c8-edf7e63406db\",\"type\":\"Grid\"},{\"attributes\":{\"source\":{\"id\":\"bc18f19f-bb29-4cd6-8950-06a407cb7c11\",\"type\":\"ColumnDataSource\"}},\"id\":\"da93be16-62f8-4a5d-9e36-27f3fd88e74e\",\"type\":\"CDSView\"},{\"attributes\":{\"callback\":null,\"factors\":[\"1\",\"2\",\"3\",\"4\",\"5\",\"6\",\"7\",\"8\",\"9\",\"10\",\"11\"]},\"id\":\"5e23464d-7c96-4250-ae53-67bd1332986a\",\"type\":\"FactorRange\"},{\"attributes\":{\"below\":[{\"id\":\"31d98ece-5543-424d-85ed-7b4b43872ecc\",\"type\":\"CategoricalAxis\"}],\"left\":[{\"id\":\"61125a42-7275-45f8-83c2-c58fb2d6db96\",\"type\":\"LinearAxis\"}],\"plot_height\":300,\"plot_width\":300,\"renderers\":[{\"id\":\"31d98ece-5543-424d-85ed-7b4b43872ecc\",\"type\":\"CategoricalAxis\"},{\"id\":\"a0c035c7-18c1-4354-9916-ea9a20abc79c\",\"type\":\"Grid\"},{\"id\":\"61125a42-7275-45f8-83c2-c58fb2d6db96\",\"type\":\"LinearAxis\"},{\"id\":\"f8350a2f-6d41-4ac0-a0c8-edf7e63406db\",\"type\":\"Grid\"},{\"id\":\"1387ccfc-f648-445c-b799-f64c4e1b4935\",\"type\":\"BoxAnnotation\"},{\"id\":\"b012cd7d-1f49-4338-ad5c-3fe4d0a174ac\",\"type\":\"GlyphRenderer\"}],\"title\":{\"id\":\"0f335110-ef60-46d2-8bb6-b8fb2c676af5\",\"type\":\"Title\"},\"toolbar\":{\"id\":\"d4682d6d-d47e-411a-8ec4-d0c068bd5e87\",\"type\":\"Toolbar\"},\"toolbar_location\":null,\"x_range\":{\"id\":\"bdc81eac-3d64-443f-b749-48ae7da25667\",\"type\":\"FactorRange\"},\"x_scale\":{\"id\":\"7bafc7aa-1a50-4d86-9fb6-2028902fdd4d\",\"type\":\"CategoricalScale\"},\"y_range\":{\"id\":\"a96a8ef6-a1ec-4c7b-82af-c2c8eb4365bc\",\"type\":\"DataRange1d\"},\"y_scale\":{\"id\":\"d46a0fde-19c7-45fe-984f-54453a3f3a23\",\"type\":\"LinearScale\"}},\"id\":\"bd40cff9-84bb-460e-94aa-b5913551c41a\",\"subtype\":\"Figure\",\"type\":\"Plot\"},{\"attributes\":{},\"id\":\"27d650b9-da07-49fb-91f4-d1ec2f4b4c69\",\"type\":\"CategoricalTicker\"},{\"attributes\":{},\"id\":\"72bbec29-e981-433c-b56f-716f336032fe\",\"type\":\"LinearScale\"},{\"attributes\":{\"callback\":null},\"id\":\"ebdb5b89-0cbd-4fce-9783-9b49d02d61af\",\"type\":\"DataRange1d\"},{\"attributes\":{\"fill_alpha\":{\"value\":0.1},\"fill_color\":{\"value\":\"#1f77b4\"},\"line_alpha\":{\"value\":0.1},\"line_color\":{\"value\":\"#1f77b4\"},\"top\":{\"field\":\"flux\"},\"width\":{\"value\":0.9},\"x\":{\"field\":\"band\"}},\"id\":\"83572194-3970-4e6c-aec6-171bc84afec2\",\"type\":\"VBar\"},{\"attributes\":{\"children\":[{\"id\":\"39230fd6-5d15-4da3-8552-7e70b36e971c\",\"type\":\"Row\"}]},\"id\":\"6b4470df-889d-4eee-b0b2-708326e3e6dc\",\"type\":\"Column\"},{\"attributes\":{},\"id\":\"73ccf9e9-2785-45db-beef-c55a9d1d5b7a\",\"type\":\"PanTool\"},{\"attributes\":{\"active_drag\":\"auto\",\"active_inspect\":\"auto\",\"active_scroll\":\"auto\",\"active_tap\":\"auto\",\"tools\":[{\"id\":\"ab0ed709-8345-4e73-a71d-1dc61ec11314\",\"type\":\"PanTool\"},{\"id\":\"929f6482-ff53-4e92-94e0-c5c423e7b824\",\"type\":\"WheelZoomTool\"},{\"id\":\"0fd20187-7c6b-4cf6-841b-d764a9acd927\",\"type\":\"BoxZoomTool\"},{\"id\":\"5dbfcd6e-daf6-4aed-87e6-605c89e95947\",\"type\":\"SaveTool\"},{\"id\":\"b878c6bc-a714-42c2-b390-d44abbf8e130\",\"type\":\"ResetTool\"},{\"id\":\"ab386837-6c75-49a6-bc1b-48f391f78a13\",\"type\":\"HelpTool\"}]},\"id\":\"d4682d6d-d47e-411a-8ec4-d0c068bd5e87\",\"type\":\"Toolbar\"},{\"attributes\":{},\"id\":\"c4d04182-7143-472e-adf3-829524ff660c\",\"type\":\"CategoricalTickFormatter\"},{\"attributes\":{},\"id\":\"8c2a4162-1d50-44de-8995-0dac1eb7cc29\",\"type\":\"Selection\"},{\"attributes\":{\"plot\":null,\"text\":\"SFC flux. CLIRAD - CRD.\"},\"id\":\"0f335110-ef60-46d2-8bb6-b8fb2c676af5\",\"type\":\"Title\"},{\"attributes\":{},\"id\":\"d46a0fde-19c7-45fe-984f-54453a3f3a23\",\"type\":\"LinearScale\"},{\"attributes\":{},\"id\":\"ae2ed1d1-5b63-43f5-bc28-326e90abc5c7\",\"type\":\"CategoricalScale\"},{\"attributes\":{\"fill_color\":{\"value\":\"#1f77b4\"},\"line_color\":{\"value\":\"#1f77b4\"},\"top\":{\"field\":\"flux\"},\"width\":{\"value\":0.9},\"x\":{\"field\":\"band\"}},\"id\":\"1a121b8f-59d8-45c0-beca-2849d9b4e1d5\",\"type\":\"VBar\"},{\"attributes\":{},\"id\":\"929b63d9-0780-4831-9725-a1d383c652cf\",\"type\":\"BasicTickFormatter\"},{\"attributes\":{\"fill_color\":{\"value\":\"#1f77b4\"},\"line_color\":{\"value\":\"#1f77b4\"},\"top\":{\"field\":\"flux\"},\"width\":{\"value\":0.9},\"x\":{\"field\":\"band\"}},\"id\":\"f1a3465a-b399-4db5-b7fb-d053788323f4\",\"type\":\"VBar\"},{\"attributes\":{\"plot\":{\"id\":\"bd40cff9-84bb-460e-94aa-b5913551c41a\",\"subtype\":\"Figure\",\"type\":\"Plot\"},\"ticker\":{\"id\":\"98f79b22-6fdd-491f-8591-d38c613008e4\",\"type\":\"CategoricalTicker\"}},\"id\":\"a0c035c7-18c1-4354-9916-ea9a20abc79c\",\"type\":\"Grid\"},{\"attributes\":{},\"id\":\"0f633788-7271-4987-a7ef-75e9278d2de5\",\"type\":\"Selection\"},{\"attributes\":{\"plot\":{\"id\":\"6cb10151-e403-4029-b155-5878c8fc4129\",\"subtype\":\"Figure\",\"type\":\"Plot\"},\"ticker\":{\"id\":\"27d650b9-da07-49fb-91f4-d1ec2f4b4c69\",\"type\":\"CategoricalTicker\"}},\"id\":\"316098d0-102f-4f18-8598-180421b73028\",\"type\":\"Grid\"},{\"attributes\":{},\"id\":\"7bafc7aa-1a50-4d86-9fb6-2028902fdd4d\",\"type\":\"CategoricalScale\"},{\"attributes\":{\"callback\":null,\"factors\":[\"1\",\"2\",\"3\",\"4\",\"5\",\"6\",\"7\",\"8\",\"9\",\"10\",\"11\"]},\"id\":\"bdc81eac-3d64-443f-b749-48ae7da25667\",\"type\":\"FactorRange\"},{\"attributes\":{\"callback\":null},\"id\":\"a96a8ef6-a1ec-4c7b-82af-c2c8eb4365bc\",\"type\":\"DataRange1d\"}],\"root_ids\":[\"28bdb0db-b81d-449b-a61b-40018eda320e\"]},\"title\":\"Bokeh Application\",\"version\":\"0.12.16\"}};\n",
       "  var render_items = [{\"docid\":\"868310c0-9b71-4868-8245-3a5a4d4fa879\",\"elementid\":\"83d787c5-9475-4fed-80ec-74d6319512f4\",\"modelid\":\"28bdb0db-b81d-449b-a61b-40018eda320e\"}];\n",
       "  root.Bokeh.embed.embed_items_notebook(docs_json, render_items);\n",
       "\n",
       "  }\n",
       "  if (root.Bokeh !== undefined) {\n",
       "    embed_document(root);\n",
       "  } else {\n",
       "    var attempts = 0;\n",
       "    var timer = setInterval(function(root) {\n",
       "      if (root.Bokeh !== undefined) {\n",
       "        embed_document(root);\n",
       "        clearInterval(timer);\n",
       "      }\n",
       "      attempts++;\n",
       "      if (attempts > 100) {\n",
       "        console.log(\"Bokeh: ERROR: Unable to run BokehJS code because BokehJS library is missing\")\n",
       "        clearInterval(timer);\n",
       "      }\n",
       "    }, 10, root)\n",
       "  }\n",
       "})(window);"
      ],
      "application/vnd.bokehjs_exec.v0+json": ""
     },
     "metadata": {
      "application/vnd.bokehjs_exec.v0+json": {
       "id": "28bdb0db-b81d-449b-a61b-40018eda320e"
      }
     },
     "output_type": "display_data"
    },
    {
     "data": {
      "text/markdown": [
       "*FIGURE.* Difference between CLIRAD and CRD in TOA, SFC and net atmosphere flux, in each spectral band."
      ],
      "text/plain": [
       "<IPython.core.display.Markdown object>"
      ]
     },
     "metadata": {},
     "output_type": "display_data"
    },
    {
     "data": {
      "text/html": [
       "<div>\n",
       "<style scoped>\n",
       "    .dataframe tbody tr th:only-of-type {\n",
       "        vertical-align: middle;\n",
       "    }\n",
       "\n",
       "    .dataframe tbody tr th {\n",
       "        vertical-align: top;\n",
       "    }\n",
       "\n",
       "    .dataframe thead th {\n",
       "        text-align: right;\n",
       "    }\n",
       "</style>\n",
       "<table border=\"1\" class=\"dataframe\">\n",
       "  <thead>\n",
       "    <tr style=\"text-align: right;\">\n",
       "      <th></th>\n",
       "      <th>OLR flux</th>\n",
       "      <th>SFC flux</th>\n",
       "      <th>ATM heating</th>\n",
       "    </tr>\n",
       "    <tr>\n",
       "      <th>Sum over bands</th>\n",
       "      <th></th>\n",
       "      <th></th>\n",
       "      <th></th>\n",
       "    </tr>\n",
       "  </thead>\n",
       "  <tbody>\n",
       "    <tr>\n",
       "      <th>CLIRAD - CRD</th>\n",
       "      <td>0.73</td>\n",
       "      <td>-0.45</td>\n",
       "      <td>1.18</td>\n",
       "    </tr>\n",
       "    <tr>\n",
       "      <th>CRD</th>\n",
       "      <td>-201.06</td>\n",
       "      <td>166.03</td>\n",
       "      <td>-119.67</td>\n",
       "    </tr>\n",
       "  </tbody>\n",
       "</table>\n",
       "</div>"
      ],
      "text/plain": [
       "                OLR flux  SFC flux  ATM heating\n",
       "Sum over bands                                 \n",
       "CLIRAD - CRD        0.73     -0.45         1.18\n",
       "CRD              -201.06    166.03      -119.67"
      ]
     },
     "metadata": {},
     "output_type": "display_data"
    },
    {
     "data": {
      "text/markdown": [
       "*TABLE.* Difference between CLIRAD and CRD in TOA, SFC and net atmosphere flux, over all spectral bands. CRD's TOA, SFC and net atmosphere flux, over all spectral bands."
      ],
      "text/plain": [
       "<IPython.core.display.Markdown object>"
      ]
     },
     "metadata": {},
     "output_type": "display_data"
    },
    {
     "data": {
      "text/html": [
       "<a id=\"Cooling_rates._trp.\"></a>"
      ],
      "text/plain": [
       "<IPython.core.display.HTML object>"
      ]
     },
     "metadata": {},
     "output_type": "display_data"
    },
    {
     "data": {
      "text/markdown": [
       "# Cooling rates. trp."
      ],
      "text/plain": [
       "<IPython.core.display.Markdown object>"
      ]
     },
     "metadata": {},
     "output_type": "display_data"
    },
    {
     "data": {
      "text/html": [
       "\n",
       "<div class=\"bk-root\">\n",
       "    <div class=\"bk-plotdiv\" id=\"3824fd14-7b7d-4d3b-b43f-b8153f54d177\"></div>\n",
       "</div>"
      ]
     },
     "metadata": {},
     "output_type": "display_data"
    },
    {
     "data": {
      "application/javascript": [
       "(function(root) {\n",
       "  function embed_document(root) {\n",
       "    \n",
       "  var docs_json = {\"fccb81fe-14fa-46d3-98ee-212d8fe1f8cf\":{\"roots\":{\"references\":[{\"attributes\":{\"plot\":null,\"text\":\"\"},\"id\":\"57327677-d049-4eac-b666-56b9da8312a9\",\"type\":\"Title\"},{\"attributes\":{},\"id\":\"b74a40f4-ad74-43e4-8b54-e67ec71bcb61\",\"type\":\"Selection\"},{\"attributes\":{},\"id\":\"f0e0ddda-12ec-4818-a031-750417da927c\",\"type\":\"BasicTicker\"},{\"attributes\":{\"line_alpha\":0.1,\"line_color\":\"#1f77b4\",\"line_width\":1.5,\"x\":{\"field\":\"x\"},\"y\":{\"field\":\"y\"}},\"id\":\"ed39f2e2-05f5-4ef6-b772-e4c6f90b2674\",\"type\":\"Line\"},{\"attributes\":{},\"id\":\"5bedfb6b-7d67-4e9d-a209-dc76b39a656d\",\"type\":\"UnionRenderers\"},{\"attributes\":{},\"id\":\"14cbadd3-f6c3-4e51-9f14-a4c35b8be401\",\"type\":\"UnionRenderers\"},{\"attributes\":{\"axis_label\":\"pressure [mb]\",\"formatter\":{\"id\":\"a2ea0de8-21c9-4a4f-b20a-c2d4cb07b9e2\",\"type\":\"LogTickFormatter\"},\"plot\":{\"id\":\"dd85fdd2-8c60-45d4-a017-27e5135ee253\",\"subtype\":\"Figure\",\"type\":\"Plot\"},\"ticker\":{\"id\":\"baf0088e-1018-4e21-831e-16b23397ae93\",\"type\":\"LogTicker\"}},\"id\":\"68abbef6-d6e9-4b97-8577-88ca7033be6f\",\"type\":\"LogAxis\"},{\"attributes\":{\"data_source\":{\"id\":\"5e200108-b886-4772-a35f-a8edc32ac66d\",\"type\":\"ColumnDataSource\"},\"glyph\":{\"id\":\"c6a26880-00e0-4f88-9c0a-19166988f253\",\"type\":\"Line\"},\"hover_glyph\":null,\"muted_glyph\":null,\"nonselection_glyph\":{\"id\":\"ed39f2e2-05f5-4ef6-b772-e4c6f90b2674\",\"type\":\"Line\"},\"selection_glyph\":null,\"view\":{\"id\":\"4b7d5dde-19b1-44f1-be42-9b685407d62f\",\"type\":\"CDSView\"}},\"id\":\"afa9ab68-29a6-4c48-948d-772f299c43fb\",\"type\":\"GlyphRenderer\"},{\"attributes\":{\"num_minor_ticks\":10},\"id\":\"baf0088e-1018-4e21-831e-16b23397ae93\",\"type\":\"LogTicker\"},{\"attributes\":{},\"id\":\"768bb2b5-628b-495c-889c-4ad41445a0ca\",\"type\":\"BasicTickFormatter\"},{\"attributes\":{},\"id\":\"97c6dc8d-77ff-476a-bdf7-6c4b8dd6d998\",\"type\":\"LogScale\"},{\"attributes\":{\"axis_label\":\"cooling rate [K/day]\",\"formatter\":{\"id\":\"3ebcb609-5b1b-4f1e-820c-a33f2f6cdb70\",\"type\":\"BasicTickFormatter\"},\"plot\":{\"id\":\"32ca4c73-a3bd-4a21-a006-7c4a2ab6e2ac\",\"subtype\":\"Figure\",\"type\":\"Plot\"},\"ticker\":{\"id\":\"db72e117-a4cd-43da-b240-023c986d5bd9\",\"type\":\"BasicTicker\"}},\"id\":\"fecaec4d-434f-4b4a-a994-6457a5da06ae\",\"type\":\"LinearAxis\"},{\"attributes\":{\"source\":{\"id\":\"362f9ac3-3f0c-4562-bf05-2a87577d0b11\",\"type\":\"ColumnDataSource\"}},\"id\":\"87ac438d-6880-4069-a848-57fe1bfbf8a6\",\"type\":\"CDSView\"},{\"attributes\":{},\"id\":\"bf2329c6-0bb8-46df-895b-4843586e3bd1\",\"type\":\"Selection\"},{\"attributes\":{},\"id\":\"717abf89-ce71-4701-8207-803bda09d2b7\",\"type\":\"BasicTickFormatter\"},{\"attributes\":{},\"id\":\"b534ed89-5dee-4204-90b1-16ec6d79d5b6\",\"type\":\"UnionRenderers\"},{\"attributes\":{\"label\":{\"value\":\"CLIRAD - CRD\"},\"renderers\":[{\"id\":\"5fc1a900-93a0-4a79-9f4c-36a4823d87ef\",\"type\":\"GlyphRenderer\"},{\"id\":\"afa9ab68-29a6-4c48-948d-772f299c43fb\",\"type\":\"GlyphRenderer\"}]},\"id\":\"73c7ac9e-b504-44a4-9d80-4cfc05c85f2e\",\"type\":\"LegendItem\"},{\"attributes\":{},\"id\":\"8099d4cb-a36e-4933-9ee7-6b2f99ae0e06\",\"type\":\"WheelZoomTool\"},{\"attributes\":{\"callback\":null,\"end\":0.01,\"start\":1020},\"id\":\"07e73146-dac4-4b9b-919e-4810c9d7b1ff\",\"type\":\"Range1d\"},{\"attributes\":{\"label\":{\"value\":\"CLIRAD\"},\"renderers\":[{\"id\":\"43f930dd-322d-4c9e-be0b-98f1f68f68ce\",\"type\":\"GlyphRenderer\"}]},\"id\":\"aea0efc4-eca2-4ce0-8003-afe162c6bb78\",\"type\":\"LegendItem\"},{\"attributes\":{\"tools\":[{\"id\":\"67f09a36-7a12-4323-90ff-6e8f2d2f47b5\",\"type\":\"PanTool\"},{\"id\":\"73522cca-53c1-4b5b-8db6-ed3bfc7492a3\",\"type\":\"WheelZoomTool\"},{\"id\":\"0d17647f-eee2-4dac-bec6-c0311c423c27\",\"type\":\"BoxZoomTool\"},{\"id\":\"5e5f27a9-a147-4aa6-817f-dbdf71db11a2\",\"type\":\"SaveTool\"},{\"id\":\"b9b85538-cd76-4cd9-8c89-b46562bed75f\",\"type\":\"ResetTool\"},{\"id\":\"4e844c17-3b5f-4cfa-8af7-94536944c7db\",\"type\":\"HelpTool\"},{\"id\":\"21af55e1-3937-4ece-99a1-195544a70c5e\",\"type\":\"PanTool\"},{\"id\":\"8099d4cb-a36e-4933-9ee7-6b2f99ae0e06\",\"type\":\"WheelZoomTool\"},{\"id\":\"a15846f5-913c-47c6-94ab-0fbe37286238\",\"type\":\"BoxZoomTool\"},{\"id\":\"7a157ee2-58d7-40d3-bfae-2ee48f77c073\",\"type\":\"SaveTool\"},{\"id\":\"b8930e43-ff35-4398-8567-fe36c7ef85a7\",\"type\":\"ResetTool\"},{\"id\":\"ad63bd2e-be1c-48c8-9615-51ed7f738145\",\"type\":\"HelpTool\"},{\"id\":\"4dc511cf-9459-4d55-8375-41be02658fec\",\"type\":\"PanTool\"},{\"id\":\"54c740f1-6501-4a56-96ea-d27756ffa2b2\",\"type\":\"WheelZoomTool\"},{\"id\":\"3df0a7ef-c464-4f15-ae50-60c464fc2283\",\"type\":\"BoxZoomTool\"},{\"id\":\"334d6efc-baa4-4594-b6a0-b506f91b8372\",\"type\":\"SaveTool\"},{\"id\":\"b8335c58-c50c-42ab-b16c-1f2a84064b67\",\"type\":\"ResetTool\"},{\"id\":\"67208bb2-0c49-44e7-b68b-a4c4c667756a\",\"type\":\"HelpTool\"}]},\"id\":\"906a5e69-461f-483e-9b6b-05c26bec8906\",\"type\":\"ProxyToolbar\"},{\"attributes\":{\"callback\":null,\"data\":{\"x\":{\"__ndarray__\":\"R/KIaN7AVEClCeJMyPNGQOvRhpxr30JAptxzhxx4PkA7SssMElA4QK6Bp3CyUDNAsVXpjES9LkBFhUV0+5coQMHYwqbbySNA6f09nM3nH0CaSd/3eYoZQDmgiAOW8BNAPYqARh3eDEBkm4vCgvr+P9D+5tWhQfY/P8DwKRnSAkBq38kb17ILQDT7IWuSsxFAUr2Rjm0FFkAinq3s9XgbQGCHwtYcqSFAG64kT303J0C7dRDneyooQD9JYrbK8yRA9S3bneHhIUAIymSuUMMcQIkHLe6VEBdAAau3cITREkA6CiNvkQIPQJU39ki7IQlAaAvwok1UA0BXLQiS4+L7P0xzDpJ2hPI/NNuPGMbJ5z91mUVYxqfSPxqwUPSxZca/G11peifD3L8QzNj5t2jTvwzOozTL360/SPJ4VI1VzD9KJ0nXEIncP8yDdlvHt+4/Et49nYLW9z++2teD4Jn+P+568eH/bwFALf5D9lmAAkCiZAicVOkCQPPT4jNKxwJAOjp3wTzBAUBSQsKNGisBQG4OmjqJwQBAJ3sZoHFuAEA5Ar0Sdi0AQGy4rw5+9f8/7W4nSrC3/z8mPr8zj4T/P4UYRHCQS/8/embVKYcF/z+5YXG+LLP+P/qb8BVUgf4/KvafTtyO/j/avAK1Ppv+PwJV9VVm2P0/JFtYlU/n/D9sN+q2fiX6Pw44e41PNPc/Opt+Z/wN9T+x3vcSW1vzP9ofvWQJlvI/8sciQQBW8j80sfkQa17yPzg5qng2r/I/Oh14WJBh8z+VZjnpctj0P6CcrSuCqQBA\",\"dtype\":\"float64\",\"shape\":[75]},\"y\":{\"__ndarray__\":\"GhExyth1ND/Sv8nbtpRIP2vylNV0PVE/aTum7souWD/At0SJ8fVgPw3Iuahxymc/MSNhhJWvcD/bTfBN02d3P2zb5nxnaoA/CD5h5MAGhz8NmeH1TyaQP+zrCsc9p5Y/LbKd76fGnz/bLW5ISEmmPww9YvTcQq8/JV2OstnstT8Er5Y7M8G+P0c+r3jqkcU/5h99k6ZBzj88bCIzFzjVP4enV8oyxN0//yH99nXg5D8qOpLLf0jtP5kqGJXUifQ/c9cS8kHP/D+/DpwzojQEQIEmwoanVwxA4lgXt9HgE0BSSZ2AJuIbQAMJih9jjiNA5q4l5INuK0AwTKYKRj0zQNv5fmq8/DpAaCJseHrtQkB/+zpwzoxKQM3MzMzMeFJAZmZmZmZqWEAAAAAAAFxeQM3MzMzMJmJAmpmZmZkfZUBmZmZmZhhoQDMzMzMzEWtAAAAAAAAKbkBmZmZmZoFwQM3MzMzM/XFAMzMzMzN6c0CamZmZmfZ0QAAAAAAAc3ZAZmZmZmbvd0DNzMzMzGt5QDMzMzMz6HpAmpmZmZlkfEAAAAAAAOF9QGZmZmZmXX9AZmZmZuZsgECamZmZGSuBQM3MzMxM6YFAAAAAAICngkAzMzMzs2WDQGZmZmbmI4RAmpmZmRnihEDNzMzMTKCFQAAAAACAXoZAMzMzM7Mch0BmZmZm5tqHQJqZmZkZmYhAzczMzExXiUAAAAAAgBWKQDMzMzOz04pAZmZmZuaRi0CamZmZGVCMQM3MzMxMDo1AAAAAAIDMjUAzMzMzs4qOQGZmZmbmSI9A\",\"dtype\":\"float64\",\"shape\":[75]}},\"selected\":{\"id\":\"bf2329c6-0bb8-46df-895b-4843586e3bd1\",\"type\":\"Selection\"},\"selection_policy\":{\"id\":\"14cbadd3-f6c3-4e51-9f14-a4c35b8be401\",\"type\":\"UnionRenderers\"}},\"id\":\"e538f24b-72b6-4cea-8be7-645de23bbf55\",\"type\":\"ColumnDataSource\"},{\"attributes\":{\"axis_label\":\"cooling rate [K/day]\",\"formatter\":{\"id\":\"d17cf149-6b03-4eb6-95f9-435cae0ddf31\",\"type\":\"BasicTickFormatter\"},\"plot\":{\"id\":\"dd85fdd2-8c60-45d4-a017-27e5135ee253\",\"subtype\":\"Figure\",\"type\":\"Plot\"},\"ticker\":{\"id\":\"f0e0ddda-12ec-4818-a031-750417da927c\",\"type\":\"BasicTicker\"}},\"id\":\"b792d71b-9e4e-45b9-a3f3-74da58f56441\",\"type\":\"LinearAxis\"},{\"attributes\":{\"toolbar\":{\"id\":\"906a5e69-461f-483e-9b6b-05c26bec8906\",\"type\":\"ProxyToolbar\"},\"toolbar_location\":\"above\"},\"id\":\"18f1cc3b-7181-4e8b-9c79-3f58a024da8d\",\"type\":\"ToolbarBox\"},{\"attributes\":{},\"id\":\"21af55e1-3937-4ece-99a1-195544a70c5e\",\"type\":\"PanTool\"},{\"attributes\":{\"plot\":{\"id\":\"dd85fdd2-8c60-45d4-a017-27e5135ee253\",\"subtype\":\"Figure\",\"type\":\"Plot\"},\"ticker\":{\"id\":\"f0e0ddda-12ec-4818-a031-750417da927c\",\"type\":\"BasicTicker\"}},\"id\":\"b163fe63-6e1a-4524-a6f5-b6632795a2c0\",\"type\":\"Grid\"},{\"attributes\":{\"callback\":null,\"end\":12.209029918427628,\"start\":-0.6484134796306301},\"id\":\"bbbc1324-d7dc-4a37-8def-c3e8283b299d\",\"type\":\"Range1d\"},{\"attributes\":{\"children\":[{\"id\":\"18f1cc3b-7181-4e8b-9c79-3f58a024da8d\",\"type\":\"ToolbarBox\"},{\"id\":\"689db4f6-a346-4463-bfc7-dc64427635c7\",\"type\":\"Column\"}]},\"id\":\"e739e6e6-3480-48f2-a85b-8a8dd4dadad1\",\"type\":\"Column\"},{\"attributes\":{},\"id\":\"cda5fd19-0b72-4ce1-a713-555699c13314\",\"type\":\"LinearScale\"},{\"attributes\":{\"line_alpha\":0.8,\"line_color\":\"#984ea3\",\"line_width\":1.5,\"x\":{\"field\":\"x\"},\"y\":{\"field\":\"y\"}},\"id\":\"c6a26880-00e0-4f88-9c0a-19166988f253\",\"type\":\"Line\"},{\"attributes\":{\"callback\":null,\"data\":{\"x\":{\"__ndarray__\":\"S0dvi6e1OMAwZJ+4gtTuv9BVSL4aavg/EGFll2gTAUB2TMTcjTb0Pym9AHRUndC/eu5OOi6d9r8TQjtaLkb7v9X5CCY6GfW/Abya46zR6L+M1q7FVDPdvykoFVU0Cte/zpYURsFf2L+df87xKh7UvzCZ7Sid2Mi/S+0cnp7GrL+ZEg94fBm5P3N0T2r0Wco/f2dKbHuNwj8zSBE6TgXDv/JKhCRwb+C/Q6ugN5615b8clPT8cU7avxRr4lS9x7q/87nkgHA3vb/GwEaDrzDIv/K/Cre/waA/MT6MnhRFyT8FaHbKstzDP9yeON+xyrA/8pe6MvSnrj8gfJgRsrqgvwUSJ63LTrG/NipWsP31hb/XhaX19Cqav5YE7Bj1N7K/Ib1ZiMassr8IxH5LG7Cjv6fsQF7w4pS/SJncSMc0mr+dePzckhidvyVWtIhmVJm/vVJPAdVroL/BLhY1MimRv2sLyIgeXKa/kPEK/hO9vL+05x1JAi60v8iw2G5uarC/nYlY/QpOt78RaguyGlC3v6/lWeZfb6+/Ki7MZakno78p50M8NA6Sv8R0i6kFiZe/IBlgsZJHlL+4LxcGp6SYv3Sn329/qGe/dm3STnyemz+XTsHZJoesP4GYiA3PeLE/0B4WmoYJrj85xUjOQGeiP+D5J2zKC4A/cPOIpvOuaD+i/aWDvLCEPx56WThODaE/EJcOKCM/rD9ebal28cizP1TORkYBfbQ/BwqvIC45sz9Wu/pz7Xq2P5yrSmVCl7c/uqyLmCcJuT834xZcfN2/P8+XHhoEQMA/\",\"dtype\":\"float64\",\"shape\":[75]},\"y\":{\"__ndarray__\":\"GhExyth1ND/Sv8nbtpRIP2vylNV0PVE/aTum7souWD/At0SJ8fVgPw3Iuahxymc/MSNhhJWvcD/bTfBN02d3P2zb5nxnaoA/CD5h5MAGhz8NmeH1TyaQP+zrCsc9p5Y/LbKd76fGnz/bLW5ISEmmPww9YvTcQq8/JV2OstnstT8Er5Y7M8G+P0c+r3jqkcU/5h99k6ZBzj88bCIzFzjVP4enV8oyxN0//yH99nXg5D8qOpLLf0jtP5kqGJXUifQ/c9cS8kHP/D+/DpwzojQEQIEmwoanVwxA4lgXt9HgE0BSSZ2AJuIbQAMJih9jjiNA5q4l5INuK0AwTKYKRj0zQNv5fmq8/DpAaCJseHrtQkB/+zpwzoxKQM3MzMzMeFJAZmZmZmZqWEAAAAAAAFxeQM3MzMzMJmJAmpmZmZkfZUBmZmZmZhhoQDMzMzMzEWtAAAAAAAAKbkBmZmZmZoFwQM3MzMzM/XFAMzMzMzN6c0CamZmZmfZ0QAAAAAAAc3ZAZmZmZmbvd0DNzMzMzGt5QDMzMzMz6HpAmpmZmZlkfEAAAAAAAOF9QGZmZmZmXX9AZmZmZuZsgECamZmZGSuBQM3MzMxM6YFAAAAAAICngkAzMzMzs2WDQGZmZmbmI4RAmpmZmRnihEDNzMzMTKCFQAAAAACAXoZAMzMzM7Mch0BmZmZm5tqHQJqZmZkZmYhAzczMzExXiUAAAAAAgBWKQDMzMzOz04pAZmZmZuaRi0CamZmZGVCMQM3MzMxMDo1AAAAAAIDMjUAzMzMzs4qOQGZmZmbmSI9A\",\"dtype\":\"float64\",\"shape\":[75]}},\"selected\":{\"id\":\"5356847a-9ec0-4dc7-b391-b6429fb9cd84\",\"type\":\"Selection\"},\"selection_policy\":{\"id\":\"5bedfb6b-7d67-4e9d-a209-dc76b39a656d\",\"type\":\"UnionRenderers\"}},\"id\":\"5e200108-b886-4772-a35f-a8edc32ac66d\",\"type\":\"ColumnDataSource\"},{\"attributes\":{},\"id\":\"225b8334-d43d-435e-a2b8-3720a74e4612\",\"type\":\"UnionRenderers\"},{\"attributes\":{},\"id\":\"c10100a1-91df-4c43-854d-ebe24fd0802e\",\"type\":\"UnionRenderers\"},{\"attributes\":{},\"id\":\"3e6e0222-31dd-487d-9458-a0cd6cbd364b\",\"type\":\"LinearScale\"},{\"attributes\":{},\"id\":\"ef1452a9-9f88-4f14-9aa0-e4972763a649\",\"type\":\"Selection\"},{\"attributes\":{\"source\":{\"id\":\"5e200108-b886-4772-a35f-a8edc32ac66d\",\"type\":\"ColumnDataSource\"}},\"id\":\"4b7d5dde-19b1-44f1-be42-9b685407d62f\",\"type\":\"CDSView\"},{\"attributes\":{\"children\":[{\"id\":\"52a4cba7-a4e4-41e5-a053-5ceeeb1adcc0\",\"subtype\":\"Figure\",\"type\":\"Plot\"},{\"id\":\"dd85fdd2-8c60-45d4-a017-27e5135ee253\",\"subtype\":\"Figure\",\"type\":\"Plot\"},{\"id\":\"32ca4c73-a3bd-4a21-a006-7c4a2ab6e2ac\",\"subtype\":\"Figure\",\"type\":\"Plot\"}]},\"id\":\"29c1b4cb-12e8-4064-beea-094c93af9205\",\"type\":\"Row\"},{\"attributes\":{\"line_color\":\"#4daf4a\",\"line_width\":1.5,\"x\":{\"field\":\"x\"},\"y\":{\"field\":\"y\"}},\"id\":\"3ab3b61f-7869-48ed-bc4a-bc931d6f9d9f\",\"type\":\"Line\"},{\"attributes\":{\"items\":[{\"id\":\"aea0efc4-eca2-4ce0-8003-afe162c6bb78\",\"type\":\"LegendItem\"},{\"id\":\"3f4a4c62-53c7-4fb9-8188-5317ed155c68\",\"type\":\"LegendItem\"}],\"label_text_font_size\":{\"value\":\"8pt\"},\"location\":\"top_center\",\"orientation\":\"horizontal\",\"plot\":{\"id\":\"dd85fdd2-8c60-45d4-a017-27e5135ee253\",\"subtype\":\"Figure\",\"type\":\"Plot\"}},\"id\":\"95cbfbf1-28a3-43c6-a7b0-40b92d09159c\",\"type\":\"Legend\"},{\"attributes\":{\"dimension\":1,\"plot\":{\"id\":\"dd85fdd2-8c60-45d4-a017-27e5135ee253\",\"subtype\":\"Figure\",\"type\":\"Plot\"},\"ticker\":{\"id\":\"baf0088e-1018-4e21-831e-16b23397ae93\",\"type\":\"LogTicker\"}},\"id\":\"f5a74477-4a6c-45c3-a135-4abde8775d1b\",\"type\":\"Grid\"},{\"attributes\":{\"children\":[{\"id\":\"29c1b4cb-12e8-4064-beea-094c93af9205\",\"type\":\"Row\"}]},\"id\":\"689db4f6-a346-4463-bfc7-dc64427635c7\",\"type\":\"Column\"},{\"attributes\":{\"callback\":null,\"data\":{\"x\":{\"__ndarray__\":\"6kBaC+kmTUATjP9BdnhGQJoUeXK8okNAZUQwzURNQEAEj5fqepM5QLl+1x49DjNA43efxZ7pK0ABHf6oNS8lQIW5AWK0JiFAaabK/5fNHEAyXISrRLcXQLhNN77yfxJAY/e9HSXSCUB8+xcG+PL5P6pLyTCOJvM/i0x4r/5eAkD8V4r/onsMQNp2dA5ihhJAjxD0admZFkDgE916y+AaQLJCetQloiBAZaOqayPcJUAb0ShXCFgnQGyEuDs7viRAgmTZvHKnIUAClEoyywEcQAkdm20ZMhdA8gysFa2bE0BcOOVNLiAQQIz879cQqAlAyPW6c+3OA0BzaXsBDl37PysCPNeJb/E/jILOIe5x5z8YQesIFwXRP2SyxoCsgc+/M+Y/jiy34L+RpEhju97Vv7NXgwVTbqM/H19da/QOyT/EX3mph7faPx3hMCck7e0/fGMz9SNT9z8EggO7O1X+P8BazmePFgFAoKZTVnGaAUBkdb+J5EcCQG0ObMD2QwJA7XWMacwGAUAB5zG4mXAAQNamALvLQwBAb0qC+tIhAEBsekSqWQkAQJuKCfhZl/8/ie5h/5Fm/z9o4aaX/CH/P7EojDC8P/8/MbAQGwF0/z8tbD/1ZZf/P4ElyQbhmP8/Iadwgyh//z8CA3W7eC7/P/Skzep9+P0/np8rD6fz/D9ng/Ev4E76P94DPv+5vPc/8w+/gPXv9T+IdWIq6pf0P7+MIXnZ3fM/k7gtI5OJ8z/pXDnoGcbzP/Hj/p6qKPQ/BtgA0iLy9D/H1PquStb2Px6GT22CrQFA\",\"dtype\":\"float64\",\"shape\":[75]},\"y\":{\"__ndarray__\":\"GhExyth1ND/Sv8nbtpRIP2vylNV0PVE/aTum7souWD/At0SJ8fVgPw3Iuahxymc/MSNhhJWvcD/bTfBN02d3P2zb5nxnaoA/CD5h5MAGhz8NmeH1TyaQP+zrCsc9p5Y/LbKd76fGnz/bLW5ISEmmPww9YvTcQq8/JV2OstnstT8Er5Y7M8G+P0c+r3jqkcU/5h99k6ZBzj88bCIzFzjVP4enV8oyxN0//yH99nXg5D8qOpLLf0jtP5kqGJXUifQ/c9cS8kHP/D+/DpwzojQEQIEmwoanVwxA4lgXt9HgE0BSSZ2AJuIbQAMJih9jjiNA5q4l5INuK0AwTKYKRj0zQNv5fmq8/DpAaCJseHrtQkB/+zpwzoxKQM3MzMzMeFJAZmZmZmZqWEAAAAAAAFxeQM3MzMzMJmJAmpmZmZkfZUBmZmZmZhhoQDMzMzMzEWtAAAAAAAAKbkBmZmZmZoFwQM3MzMzM/XFAMzMzMzN6c0CamZmZmfZ0QAAAAAAAc3ZAZmZmZmbvd0DNzMzMzGt5QDMzMzMz6HpAmpmZmZlkfEAAAAAAAOF9QGZmZmZmXX9AZmZmZuZsgECamZmZGSuBQM3MzMxM6YFAAAAAAICngkAzMzMzs2WDQGZmZmbmI4RAmpmZmRnihEDNzMzMTKCFQAAAAACAXoZAMzMzM7Mch0BmZmZm5tqHQJqZmZkZmYhAzczMzExXiUAAAAAAgBWKQDMzMzOz04pAZmZmZuaRi0CamZmZGVCMQM3MzMxMDo1AAAAAAIDMjUAzMzMzs4qOQGZmZmbmSI9A\",\"dtype\":\"float64\",\"shape\":[75]}},\"selected\":{\"id\":\"55a4ad65-c46c-4927-bdfe-535887799b2b\",\"type\":\"Selection\"},\"selection_policy\":{\"id\":\"c10100a1-91df-4c43-854d-ebe24fd0802e\",\"type\":\"UnionRenderers\"}},\"id\":\"f264147d-a257-4e21-b7fd-96375f3a0bb1\",\"type\":\"ColumnDataSource\"},{\"attributes\":{\"callback\":null,\"end\":2.392793821310531,\"start\":-0.5512230232235301},\"id\":\"35bc2644-dbf2-4ee6-9d3e-b8480811611a\",\"type\":\"Range1d\"},{\"attributes\":{\"callback\":null,\"end\":0.01,\"start\":1020},\"id\":\"5ca82a45-d5db-4291-9215-4cdc285d237d\",\"type\":\"Range1d\"},{\"attributes\":{},\"id\":\"58479d6d-a6fd-4061-b8dd-7a39874dfbe0\",\"type\":\"LinearScale\"},{\"attributes\":{\"bottom_units\":\"screen\",\"fill_alpha\":{\"value\":0.5},\"fill_color\":{\"value\":\"lightgrey\"},\"left_units\":\"screen\",\"level\":\"overlay\",\"line_alpha\":{\"value\":1.0},\"line_color\":{\"value\":\"black\"},\"line_dash\":[4,4],\"line_width\":{\"value\":2},\"plot\":null,\"render_mode\":\"css\",\"right_units\":\"screen\",\"top_units\":\"screen\"},\"id\":\"8fc8eedf-8ae2-49ef-93f5-dddf8f8853e2\",\"type\":\"BoxAnnotation\"},{\"attributes\":{},\"id\":\"f478e825-041f-4395-8725-64a8c75c8af0\",\"type\":\"BasicTicker\"},{\"attributes\":{\"items\":[{\"id\":\"55a19474-f56a-45ad-98ac-1928d5b8274f\",\"type\":\"LegendItem\"},{\"id\":\"41215b5c-d1cc-48de-aefe-bc8c763f1d34\",\"type\":\"LegendItem\"}],\"label_text_font_size\":{\"value\":\"8pt\"},\"location\":\"top_center\",\"orientation\":\"horizontal\",\"plot\":{\"id\":\"52a4cba7-a4e4-41e5-a053-5ceeeb1adcc0\",\"subtype\":\"Figure\",\"type\":\"Plot\"}},\"id\":\"b7b6e234-05aa-4ea1-81b9-e08a667b4dbc\",\"type\":\"Legend\"},{\"attributes\":{\"fill_alpha\":{\"value\":0.1},\"fill_color\":{\"value\":\"#1f77b4\"},\"line_alpha\":{\"value\":0.1},\"line_color\":{\"value\":\"#1f77b4\"},\"x\":{\"field\":\"x\"},\"y\":{\"field\":\"y\"}},\"id\":\"d0b8536f-7315-4cb8-9396-4f8f8fa1a29a\",\"type\":\"Circle\"},{\"attributes\":{\"active_drag\":\"auto\",\"active_inspect\":\"auto\",\"active_scroll\":\"auto\",\"active_tap\":\"auto\",\"tools\":[{\"id\":\"21af55e1-3937-4ece-99a1-195544a70c5e\",\"type\":\"PanTool\"},{\"id\":\"8099d4cb-a36e-4933-9ee7-6b2f99ae0e06\",\"type\":\"WheelZoomTool\"},{\"id\":\"a15846f5-913c-47c6-94ab-0fbe37286238\",\"type\":\"BoxZoomTool\"},{\"id\":\"7a157ee2-58d7-40d3-bfae-2ee48f77c073\",\"type\":\"SaveTool\"},{\"id\":\"b8930e43-ff35-4398-8567-fe36c7ef85a7\",\"type\":\"ResetTool\"},{\"id\":\"ad63bd2e-be1c-48c8-9615-51ed7f738145\",\"type\":\"HelpTool\"}]},\"id\":\"747dc214-6217-48da-98b6-e5d548ca1a8a\",\"type\":\"Toolbar\"},{\"attributes\":{\"axis_label\":\"cooling rate [K/day]\",\"formatter\":{\"id\":\"768bb2b5-628b-495c-889c-4ad41445a0ca\",\"type\":\"BasicTickFormatter\"},\"plot\":{\"id\":\"52a4cba7-a4e4-41e5-a053-5ceeeb1adcc0\",\"subtype\":\"Figure\",\"type\":\"Plot\"},\"ticker\":{\"id\":\"f478e825-041f-4395-8725-64a8c75c8af0\",\"type\":\"BasicTicker\"}},\"id\":\"bfa08c1d-1b98-4510-ae7c-7b1386b790bd\",\"type\":\"LinearAxis\"},{\"attributes\":{},\"id\":\"3f013b1b-f502-4514-9b91-088fcfe6153b\",\"type\":\"LinearScale\"},{\"attributes\":{\"fill_alpha\":{\"value\":0.7},\"fill_color\":{\"value\":\"#4daf4a\"},\"line_alpha\":{\"value\":0.7},\"line_color\":{\"value\":\"#4daf4a\"},\"x\":{\"field\":\"x\"},\"y\":{\"field\":\"y\"}},\"id\":\"218d98e9-92f2-47af-8b88-0a7ead78cb44\",\"type\":\"Circle\"},{\"attributes\":{},\"id\":\"55a4ad65-c46c-4927-bdfe-535887799b2b\",\"type\":\"Selection\"},{\"attributes\":{},\"id\":\"4e844c17-3b5f-4cfa-8af7-94536944c7db\",\"type\":\"HelpTool\"},{\"attributes\":{\"fill_alpha\":{\"value\":0.1},\"fill_color\":{\"value\":\"#1f77b4\"},\"line_alpha\":{\"value\":0.1},\"line_color\":{\"value\":\"#1f77b4\"},\"x\":{\"field\":\"x\"},\"y\":{\"field\":\"y\"}},\"id\":\"4c46d6f3-b75e-4a36-b17a-94ccc9f5380d\",\"type\":\"Circle\"},{\"attributes\":{\"line_alpha\":0.1,\"line_color\":\"#1f77b4\",\"line_width\":1.5,\"x\":{\"field\":\"x\"},\"y\":{\"field\":\"y\"}},\"id\":\"1c011c79-fdb6-4145-a2e7-0008dd8f5225\",\"type\":\"Line\"},{\"attributes\":{\"label\":{\"value\":\"CRD\"},\"renderers\":[{\"id\":\"6e9416c0-541b-46e4-8901-bfa50dbfc42e\",\"type\":\"GlyphRenderer\"},{\"id\":\"97e29dc5-a6cb-4277-906d-887530f87644\",\"type\":\"GlyphRenderer\"}]},\"id\":\"41215b5c-d1cc-48de-aefe-bc8c763f1d34\",\"type\":\"LegendItem\"},{\"attributes\":{\"data_source\":{\"id\":\"e538f24b-72b6-4cea-8be7-645de23bbf55\",\"type\":\"ColumnDataSource\"},\"glyph\":{\"id\":\"3ab3b61f-7869-48ed-bc4a-bc931d6f9d9f\",\"type\":\"Line\"},\"hover_glyph\":null,\"muted_glyph\":null,\"nonselection_glyph\":{\"id\":\"1c011c79-fdb6-4145-a2e7-0008dd8f5225\",\"type\":\"Line\"},\"selection_glyph\":null,\"view\":{\"id\":\"52f90089-926c-4260-b64a-4d2c98e43bd3\",\"type\":\"CDSView\"}},\"id\":\"97e29dc5-a6cb-4277-906d-887530f87644\",\"type\":\"GlyphRenderer\"},{\"attributes\":{\"above\":[{\"id\":\"06f8c93a-d2f8-415b-a208-bc3846a77358\",\"type\":\"Legend\"}],\"below\":[{\"id\":\"fecaec4d-434f-4b4a-a994-6457a5da06ae\",\"type\":\"LinearAxis\"}],\"left\":[{\"id\":\"245bf2e8-59ea-400a-a0f8-747e294e1a7a\",\"type\":\"LogAxis\"}],\"plot_width\":300,\"renderers\":[{\"id\":\"fecaec4d-434f-4b4a-a994-6457a5da06ae\",\"type\":\"LinearAxis\"},{\"id\":\"879bc8ea-5683-4d65-bca5-804d8b76d6c7\",\"type\":\"Grid\"},{\"id\":\"245bf2e8-59ea-400a-a0f8-747e294e1a7a\",\"type\":\"LogAxis\"},{\"id\":\"92c8bc93-a64e-4703-9100-9691ba8b7e72\",\"type\":\"Grid\"},{\"id\":\"c3807c69-77a4-48b0-b3ac-ca13a8e711fa\",\"type\":\"BoxAnnotation\"},{\"id\":\"5fc1a900-93a0-4a79-9f4c-36a4823d87ef\",\"type\":\"GlyphRenderer\"},{\"id\":\"afa9ab68-29a6-4c48-948d-772f299c43fb\",\"type\":\"GlyphRenderer\"},{\"id\":\"06f8c93a-d2f8-415b-a208-bc3846a77358\",\"type\":\"Legend\"}],\"title\":{\"id\":\"54506895-d1f5-424b-9f43-389001e6b741\",\"type\":\"Title\"},\"toolbar\":{\"id\":\"557c6f2c-ed41-4dc4-aa20-8f0f794818f8\",\"type\":\"Toolbar\"},\"toolbar_location\":null,\"x_range\":{\"id\":\"13c61501-dc56-4aef-87dc-ff88e8803675\",\"type\":\"Range1d\"},\"x_scale\":{\"id\":\"cda5fd19-0b72-4ce1-a713-555699c13314\",\"type\":\"LinearScale\"},\"y_range\":{\"id\":\"5ca82a45-d5db-4291-9215-4cdc285d237d\",\"type\":\"Range1d\"},\"y_scale\":{\"id\":\"13200220-a069-491e-bc4e-e9b5857277bf\",\"type\":\"LogScale\"}},\"id\":\"32ca4c73-a3bd-4a21-a006-7c4a2ab6e2ac\",\"subtype\":\"Figure\",\"type\":\"Plot\"},{\"attributes\":{\"source\":{\"id\":\"e538f24b-72b6-4cea-8be7-645de23bbf55\",\"type\":\"ColumnDataSource\"}},\"id\":\"52f90089-926c-4260-b64a-4d2c98e43bd3\",\"type\":\"CDSView\"},{\"attributes\":{\"line_alpha\":0.6,\"line_color\":\"#e41a1c\",\"line_dash\":[6],\"line_width\":5,\"x\":{\"field\":\"x\"},\"y\":{\"field\":\"y\"}},\"id\":\"0d55a37b-d558-4bc8-a1c0-ac2ca3d8009b\",\"type\":\"Line\"},{\"attributes\":{\"callback\":null,\"data\":{\"x\":{\"__ndarray__\":\"S0dvi6e1OMAwZJ+4gtTuv9BVSL4aavg/EGFll2gTAUB2TMTcjTb0Pym9AHRUndC/eu5OOi6d9r8TQjtaLkb7v9X5CCY6GfW/Abya46zR6L+M1q7FVDPdvykoFVU0Cte/zpYURsFf2L+df87xKh7UvzCZ7Sid2Mi/S+0cnp7GrL+ZEg94fBm5P3N0T2r0Wco/f2dKbHuNwj8zSBE6TgXDv/JKhCRwb+C/Q6ugN5615b8clPT8cU7avxRr4lS9x7q/87nkgHA3vb/GwEaDrzDIv/K/Cre/waA/MT6MnhRFyT8FaHbKstzDP9yeON+xyrA/8pe6MvSnrj8gfJgRsrqgvwUSJ63LTrG/NipWsP31hb/XhaX19Cqav5YE7Bj1N7K/Ib1ZiMassr8IxH5LG7Cjv6fsQF7w4pS/SJncSMc0mr+dePzckhidvyVWtIhmVJm/vVJPAdVroL/BLhY1MimRv2sLyIgeXKa/kPEK/hO9vL+05x1JAi60v8iw2G5uarC/nYlY/QpOt78RaguyGlC3v6/lWeZfb6+/Ki7MZakno78p50M8NA6Sv8R0i6kFiZe/IBlgsZJHlL+4LxcGp6SYv3Sn329/qGe/dm3STnyemz+XTsHZJoesP4GYiA3PeLE/0B4WmoYJrj85xUjOQGeiP+D5J2zKC4A/cPOIpvOuaD+i/aWDvLCEPx56WThODaE/EJcOKCM/rD9ebal28cizP1TORkYBfbQ/BwqvIC45sz9Wu/pz7Xq2P5yrSmVCl7c/uqyLmCcJuT834xZcfN2/P8+XHhoEQMA/\",\"dtype\":\"float64\",\"shape\":[75]},\"y\":{\"__ndarray__\":\"GhExyth1ND/Sv8nbtpRIP2vylNV0PVE/aTum7souWD/At0SJ8fVgPw3Iuahxymc/MSNhhJWvcD/bTfBN02d3P2zb5nxnaoA/CD5h5MAGhz8NmeH1TyaQP+zrCsc9p5Y/LbKd76fGnz/bLW5ISEmmPww9YvTcQq8/JV2OstnstT8Er5Y7M8G+P0c+r3jqkcU/5h99k6ZBzj88bCIzFzjVP4enV8oyxN0//yH99nXg5D8qOpLLf0jtP5kqGJXUifQ/c9cS8kHP/D+/DpwzojQEQIEmwoanVwxA4lgXt9HgE0BSSZ2AJuIbQAMJih9jjiNA5q4l5INuK0AwTKYKRj0zQNv5fmq8/DpAaCJseHrtQkB/+zpwzoxKQM3MzMzMeFJAZmZmZmZqWEAAAAAAAFxeQM3MzMzMJmJAmpmZmZkfZUBmZmZmZhhoQDMzMzMzEWtAAAAAAAAKbkBmZmZmZoFwQM3MzMzM/XFAMzMzMzN6c0CamZmZmfZ0QAAAAAAAc3ZAZmZmZmbvd0DNzMzMzGt5QDMzMzMz6HpAmpmZmZlkfEAAAAAAAOF9QGZmZmZmXX9AZmZmZuZsgECamZmZGSuBQM3MzMxM6YFAAAAAAICngkAzMzMzs2WDQGZmZmbmI4RAmpmZmRnihEDNzMzMTKCFQAAAAACAXoZAMzMzM7Mch0BmZmZm5tqHQJqZmZkZmYhAzczMzExXiUAAAAAAgBWKQDMzMzOz04pAZmZmZuaRi0CamZmZGVCMQM3MzMxMDo1AAAAAAIDMjUAzMzMzs4qOQGZmZmbmSI9A\",\"dtype\":\"float64\",\"shape\":[75]}},\"selected\":{\"id\":\"b5bdb4ae-6c7b-4af1-ac36-3f059f575eb5\",\"type\":\"Selection\"},\"selection_policy\":{\"id\":\"105acef0-eab4-4046-adc5-4bae84441f14\",\"type\":\"UnionRenderers\"}},\"id\":\"9bd9ab25-7fa3-41d2-9a97-449c9ed80a52\",\"type\":\"ColumnDataSource\"},{\"attributes\":{\"label\":{\"value\":\"CLIRAD\"},\"renderers\":[{\"id\":\"010a0293-8bca-41ac-ab52-f3575195d6fb\",\"type\":\"GlyphRenderer\"}]},\"id\":\"55a19474-f56a-45ad-98ac-1928d5b8274f\",\"type\":\"LegendItem\"},{\"attributes\":{},\"id\":\"b9b85538-cd76-4cd9-8c89-b46562bed75f\",\"type\":\"ResetTool\"},{\"attributes\":{\"fill_alpha\":{\"value\":0.7},\"fill_color\":{\"value\":\"#984ea3\"},\"line_alpha\":{\"value\":0.7},\"line_color\":{\"value\":\"#984ea3\"},\"x\":{\"field\":\"x\"},\"y\":{\"field\":\"y\"}},\"id\":\"652faa74-0fe3-42bc-b232-417aab36f4a6\",\"type\":\"Circle\"},{\"attributes\":{\"above\":[{\"id\":\"95cbfbf1-28a3-43c6-a7b0-40b92d09159c\",\"type\":\"Legend\"}],\"below\":[{\"id\":\"b792d71b-9e4e-45b9-a3f3-74da58f56441\",\"type\":\"LinearAxis\"}],\"left\":[{\"id\":\"68abbef6-d6e9-4b97-8577-88ca7033be6f\",\"type\":\"LogAxis\"}],\"plot_width\":300,\"renderers\":[{\"id\":\"b792d71b-9e4e-45b9-a3f3-74da58f56441\",\"type\":\"LinearAxis\"},{\"id\":\"b163fe63-6e1a-4524-a6f5-b6632795a2c0\",\"type\":\"Grid\"},{\"id\":\"68abbef6-d6e9-4b97-8577-88ca7033be6f\",\"type\":\"LogAxis\"},{\"id\":\"f5a74477-4a6c-45c3-a135-4abde8775d1b\",\"type\":\"Grid\"},{\"id\":\"502ac792-e9dd-4801-a9b1-3b64ea2a7cd2\",\"type\":\"BoxAnnotation\"},{\"id\":\"43f930dd-322d-4c9e-be0b-98f1f68f68ce\",\"type\":\"GlyphRenderer\"},{\"id\":\"970ea23f-d08f-4ce6-8ef8-681ce5f6b4b3\",\"type\":\"GlyphRenderer\"},{\"id\":\"f6e177e3-b4ca-439a-a16e-614698ac5d2d\",\"type\":\"GlyphRenderer\"},{\"id\":\"95cbfbf1-28a3-43c6-a7b0-40b92d09159c\",\"type\":\"Legend\"}],\"title\":{\"id\":\"5771d8fa-7d29-43a9-a567-b3820c4e9fba\",\"type\":\"Title\"},\"toolbar\":{\"id\":\"747dc214-6217-48da-98b6-e5d548ca1a8a\",\"type\":\"Toolbar\"},\"toolbar_location\":null,\"x_range\":{\"id\":\"bbbc1324-d7dc-4a37-8def-c3e8283b299d\",\"type\":\"Range1d\"},\"x_scale\":{\"id\":\"3e6e0222-31dd-487d-9458-a0cd6cbd364b\",\"type\":\"LinearScale\"},\"y_range\":{\"id\":\"07e73146-dac4-4b9b-919e-4810c9d7b1ff\",\"type\":\"Range1d\"},\"y_scale\":{\"id\":\"97c6dc8d-77ff-476a-bdf7-6c4b8dd6d998\",\"type\":\"LogScale\"}},\"id\":\"dd85fdd2-8c60-45d4-a017-27e5135ee253\",\"subtype\":\"Figure\",\"type\":\"Plot\"},{\"attributes\":{\"line_alpha\":0.1,\"line_color\":\"#1f77b4\",\"line_dash\":[6],\"line_width\":5,\"x\":{\"field\":\"x\"},\"y\":{\"field\":\"y\"}},\"id\":\"3c5cb8ed-af89-4fc2-9845-ecf32b68358e\",\"type\":\"Line\"},{\"attributes\":{\"above\":[{\"id\":\"b7b6e234-05aa-4ea1-81b9-e08a667b4dbc\",\"type\":\"Legend\"}],\"below\":[{\"id\":\"bfa08c1d-1b98-4510-ae7c-7b1386b790bd\",\"type\":\"LinearAxis\"}],\"left\":[{\"id\":\"03a9c791-1139-4e51-b973-72813c77d7cb\",\"type\":\"LinearAxis\"}],\"plot_width\":300,\"renderers\":[{\"id\":\"bfa08c1d-1b98-4510-ae7c-7b1386b790bd\",\"type\":\"LinearAxis\"},{\"id\":\"783ff55c-14c1-4f89-a9ac-47a4d9979fd0\",\"type\":\"Grid\"},{\"id\":\"03a9c791-1139-4e51-b973-72813c77d7cb\",\"type\":\"LinearAxis\"},{\"id\":\"909dc839-7e10-4bc5-801a-6658b3d03ba7\",\"type\":\"Grid\"},{\"id\":\"8fc8eedf-8ae2-49ef-93f5-dddf8f8853e2\",\"type\":\"BoxAnnotation\"},{\"id\":\"010a0293-8bca-41ac-ab52-f3575195d6fb\",\"type\":\"GlyphRenderer\"},{\"id\":\"6e9416c0-541b-46e4-8901-bfa50dbfc42e\",\"type\":\"GlyphRenderer\"},{\"id\":\"97e29dc5-a6cb-4277-906d-887530f87644\",\"type\":\"GlyphRenderer\"},{\"id\":\"b7b6e234-05aa-4ea1-81b9-e08a667b4dbc\",\"type\":\"Legend\"}],\"title\":{\"id\":\"57327677-d049-4eac-b666-56b9da8312a9\",\"type\":\"Title\"},\"toolbar\":{\"id\":\"08ee2f2a-50c3-41bb-84be-e81ccd17a402\",\"type\":\"Toolbar\"},\"toolbar_location\":null,\"x_range\":{\"id\":\"35bc2644-dbf2-4ee6-9d3e-b8480811611a\",\"type\":\"Range1d\"},\"x_scale\":{\"id\":\"58479d6d-a6fd-4061-b8dd-7a39874dfbe0\",\"type\":\"LinearScale\"},\"y_range\":{\"id\":\"d762d0e9-2cde-4864-a253-d80bedcb556c\",\"type\":\"Range1d\"},\"y_scale\":{\"id\":\"3f013b1b-f502-4514-9b91-088fcfe6153b\",\"type\":\"LinearScale\"}},\"id\":\"52a4cba7-a4e4-41e5-a053-5ceeeb1adcc0\",\"subtype\":\"Figure\",\"type\":\"Plot\"},{\"attributes\":{},\"id\":\"b5bdb4ae-6c7b-4af1-ac36-3f059f575eb5\",\"type\":\"Selection\"},{\"attributes\":{\"callback\":null,\"end\":0.21568485438714344,\"start\":-0.7854097886127447},\"id\":\"13c61501-dc56-4aef-87dc-ff88e8803675\",\"type\":\"Range1d\"},{\"attributes\":{},\"id\":\"28d948fc-a144-4a99-a179-25a844fcf22a\",\"type\":\"UnionRenderers\"},{\"attributes\":{},\"id\":\"3ebcb609-5b1b-4f1e-820c-a33f2f6cdb70\",\"type\":\"BasicTickFormatter\"},{\"attributes\":{\"overlay\":{\"id\":\"502ac792-e9dd-4801-a9b1-3b64ea2a7cd2\",\"type\":\"BoxAnnotation\"}},\"id\":\"a15846f5-913c-47c6-94ab-0fbe37286238\",\"type\":\"BoxZoomTool\"},{\"attributes\":{\"line_alpha\":0.1,\"line_color\":\"#1f77b4\",\"line_dash\":[6],\"line_width\":5,\"x\":{\"field\":\"x\"},\"y\":{\"field\":\"y\"}},\"id\":\"66e47e6a-2191-457f-a509-8da764df594b\",\"type\":\"Line\"},{\"attributes\":{\"callback\":null,\"data\":{\"x\":{\"__ndarray__\":\"6kBaC+kmTUATjP9BdnhGQJoUeXK8okNAZUQwzURNQEAEj5fqepM5QLl+1x49DjNA43efxZ7pK0ABHf6oNS8lQIW5AWK0JiFAaabK/5fNHEAyXISrRLcXQLhNN77yfxJAY/e9HSXSCUB8+xcG+PL5P6pLyTCOJvM/i0x4r/5eAkD8V4r/onsMQNp2dA5ihhJAjxD0admZFkDgE916y+AaQLJCetQloiBAZaOqayPcJUAb0ShXCFgnQGyEuDs7viRAgmTZvHKnIUAClEoyywEcQAkdm20ZMhdA8gysFa2bE0BcOOVNLiAQQIz879cQqAlAyPW6c+3OA0BzaXsBDl37PysCPNeJb/E/jILOIe5x5z8YQesIFwXRP2SyxoCsgc+/M+Y/jiy34L+RpEhju97Vv7NXgwVTbqM/H19da/QOyT/EX3mph7faPx3hMCck7e0/fGMz9SNT9z8EggO7O1X+P8BazmePFgFAoKZTVnGaAUBkdb+J5EcCQG0ObMD2QwJA7XWMacwGAUAB5zG4mXAAQNamALvLQwBAb0qC+tIhAEBsekSqWQkAQJuKCfhZl/8/ie5h/5Fm/z9o4aaX/CH/P7EojDC8P/8/MbAQGwF0/z8tbD/1ZZf/P4ElyQbhmP8/Iadwgyh//z8CA3W7eC7/P/Skzep9+P0/np8rD6fz/D9ng/Ev4E76P94DPv+5vPc/8w+/gPXv9T+IdWIq6pf0P7+MIXnZ3fM/k7gtI5OJ8z/pXDnoGcbzP/Hj/p6qKPQ/BtgA0iLy9D/H1PquStb2Px6GT22CrQFA\",\"dtype\":\"float64\",\"shape\":[75]},\"y\":{\"__ndarray__\":\"GhExyth1ND/Sv8nbtpRIP2vylNV0PVE/aTum7souWD/At0SJ8fVgPw3Iuahxymc/MSNhhJWvcD/bTfBN02d3P2zb5nxnaoA/CD5h5MAGhz8NmeH1TyaQP+zrCsc9p5Y/LbKd76fGnz/bLW5ISEmmPww9YvTcQq8/JV2OstnstT8Er5Y7M8G+P0c+r3jqkcU/5h99k6ZBzj88bCIzFzjVP4enV8oyxN0//yH99nXg5D8qOpLLf0jtP5kqGJXUifQ/c9cS8kHP/D+/DpwzojQEQIEmwoanVwxA4lgXt9HgE0BSSZ2AJuIbQAMJih9jjiNA5q4l5INuK0AwTKYKRj0zQNv5fmq8/DpAaCJseHrtQkB/+zpwzoxKQM3MzMzMeFJAZmZmZmZqWEAAAAAAAFxeQM3MzMzMJmJAmpmZmZkfZUBmZmZmZhhoQDMzMzMzEWtAAAAAAAAKbkBmZmZmZoFwQM3MzMzM/XFAMzMzMzN6c0CamZmZmfZ0QAAAAAAAc3ZAZmZmZmbvd0DNzMzMzGt5QDMzMzMz6HpAmpmZmZlkfEAAAAAAAOF9QGZmZmZmXX9AZmZmZuZsgECamZmZGSuBQM3MzMxM6YFAAAAAAICngkAzMzMzs2WDQGZmZmbmI4RAmpmZmRnihEDNzMzMTKCFQAAAAACAXoZAMzMzM7Mch0BmZmZm5tqHQJqZmZkZmYhAzczMzExXiUAAAAAAgBWKQDMzMzOz04pAZmZmZuaRi0CamZmZGVCMQM3MzMxMDo1AAAAAAIDMjUAzMzMzs4qOQGZmZmbmSI9A\",\"dtype\":\"float64\",\"shape\":[75]}},\"selected\":{\"id\":\"ef1452a9-9f88-4f14-9aa0-e4972763a649\",\"type\":\"Selection\"},\"selection_policy\":{\"id\":\"b534ed89-5dee-4204-90b1-16ec6d79d5b6\",\"type\":\"UnionRenderers\"}},\"id\":\"d08db3cd-991b-4b90-a925-c5f82ba58996\",\"type\":\"ColumnDataSource\"},{\"attributes\":{},\"id\":\"7a157ee2-58d7-40d3-bfae-2ee48f77c073\",\"type\":\"SaveTool\"},{\"attributes\":{},\"id\":\"d17cf149-6b03-4eb6-95f9-435cae0ddf31\",\"type\":\"BasicTickFormatter\"},{\"attributes\":{\"plot\":null,\"text\":\"\"},\"id\":\"5771d8fa-7d29-43a9-a567-b3820c4e9fba\",\"type\":\"Title\"},{\"attributes\":{},\"id\":\"334d6efc-baa4-4594-b6a0-b506f91b8372\",\"type\":\"SaveTool\"},{\"attributes\":{},\"id\":\"db72e117-a4cd-43da-b240-023c986d5bd9\",\"type\":\"BasicTicker\"},{\"attributes\":{\"active_drag\":\"auto\",\"active_inspect\":\"auto\",\"active_scroll\":\"auto\",\"active_tap\":\"auto\",\"tools\":[{\"id\":\"67f09a36-7a12-4323-90ff-6e8f2d2f47b5\",\"type\":\"PanTool\"},{\"id\":\"73522cca-53c1-4b5b-8db6-ed3bfc7492a3\",\"type\":\"WheelZoomTool\"},{\"id\":\"0d17647f-eee2-4dac-bec6-c0311c423c27\",\"type\":\"BoxZoomTool\"},{\"id\":\"5e5f27a9-a147-4aa6-817f-dbdf71db11a2\",\"type\":\"SaveTool\"},{\"id\":\"b9b85538-cd76-4cd9-8c89-b46562bed75f\",\"type\":\"ResetTool\"},{\"id\":\"4e844c17-3b5f-4cfa-8af7-94536944c7db\",\"type\":\"HelpTool\"}]},\"id\":\"08ee2f2a-50c3-41bb-84be-e81ccd17a402\",\"type\":\"Toolbar\"},{\"attributes\":{},\"id\":\"ad63bd2e-be1c-48c8-9615-51ed7f738145\",\"type\":\"HelpTool\"},{\"attributes\":{},\"id\":\"5356847a-9ec0-4dc7-b391-b6429fb9cd84\",\"type\":\"Selection\"},{\"attributes\":{\"ticker\":null},\"id\":\"2bfa1d2a-6c8d-4c93-a6b9-634f22d0b378\",\"type\":\"LogTickFormatter\"},{\"attributes\":{},\"id\":\"4dc511cf-9459-4d55-8375-41be02658fec\",\"type\":\"PanTool\"},{\"attributes\":{\"plot\":null,\"text\":\"\"},\"id\":\"54506895-d1f5-424b-9f43-389001e6b741\",\"type\":\"Title\"},{\"attributes\":{},\"id\":\"105acef0-eab4-4046-adc5-4bae84441f14\",\"type\":\"UnionRenderers\"},{\"attributes\":{},\"id\":\"8ea8b677-e642-49c3-8aed-b9a3095c8fb3\",\"type\":\"Selection\"},{\"attributes\":{\"overlay\":{\"id\":\"c3807c69-77a4-48b0-b3ac-ca13a8e711fa\",\"type\":\"BoxAnnotation\"}},\"id\":\"3df0a7ef-c464-4f15-ae50-60c464fc2283\",\"type\":\"BoxZoomTool\"},{\"attributes\":{\"ticker\":null},\"id\":\"a2ea0de8-21c9-4a4f-b20a-c2d4cb07b9e2\",\"type\":\"LogTickFormatter\"},{\"attributes\":{\"num_minor_ticks\":10},\"id\":\"796248bd-6470-4069-9699-9a6073d7d465\",\"type\":\"LogTicker\"},{\"attributes\":{},\"id\":\"e54f9bd6-d8da-451b-95e3-ce9b36270061\",\"type\":\"UnionRenderers\"},{\"attributes\":{\"callback\":null,\"data\":{\"x\":{\"__ndarray__\":\"R/KIaN7AVEClCeJMyPNGQOvRhpxr30JAptxzhxx4PkA7SssMElA4QK6Bp3CyUDNAsVXpjES9LkBFhUV0+5coQMHYwqbbySNA6f09nM3nH0CaSd/3eYoZQDmgiAOW8BNAPYqARh3eDEBkm4vCgvr+P9D+5tWhQfY/P8DwKRnSAkBq38kb17ILQDT7IWuSsxFAUr2Rjm0FFkAinq3s9XgbQGCHwtYcqSFAG64kT303J0C7dRDneyooQD9JYrbK8yRA9S3bneHhIUAIymSuUMMcQIkHLe6VEBdAAau3cITREkA6CiNvkQIPQJU39ki7IQlAaAvwok1UA0BXLQiS4+L7P0xzDpJ2hPI/NNuPGMbJ5z91mUVYxqfSPxqwUPSxZca/G11peifD3L8QzNj5t2jTvwzOozTL360/SPJ4VI1VzD9KJ0nXEIncP8yDdlvHt+4/Et49nYLW9z++2teD4Jn+P+568eH/bwFALf5D9lmAAkCiZAicVOkCQPPT4jNKxwJAOjp3wTzBAUBSQsKNGisBQG4OmjqJwQBAJ3sZoHFuAEA5Ar0Sdi0AQGy4rw5+9f8/7W4nSrC3/z8mPr8zj4T/P4UYRHCQS/8/embVKYcF/z+5YXG+LLP+P/qb8BVUgf4/KvafTtyO/j/avAK1Ppv+PwJV9VVm2P0/JFtYlU/n/D9sN+q2fiX6Pw44e41PNPc/Opt+Z/wN9T+x3vcSW1vzP9ofvWQJlvI/8sciQQBW8j80sfkQa17yPzg5qng2r/I/Oh14WJBh8z+VZjnpctj0P6CcrSuCqQBA\",\"dtype\":\"float64\",\"shape\":[75]},\"y\":{\"__ndarray__\":\"GhExyth1ND/Sv8nbtpRIP2vylNV0PVE/aTum7souWD/At0SJ8fVgPw3Iuahxymc/MSNhhJWvcD/bTfBN02d3P2zb5nxnaoA/CD5h5MAGhz8NmeH1TyaQP+zrCsc9p5Y/LbKd76fGnz/bLW5ISEmmPww9YvTcQq8/JV2OstnstT8Er5Y7M8G+P0c+r3jqkcU/5h99k6ZBzj88bCIzFzjVP4enV8oyxN0//yH99nXg5D8qOpLLf0jtP5kqGJXUifQ/c9cS8kHP/D+/DpwzojQEQIEmwoanVwxA4lgXt9HgE0BSSZ2AJuIbQAMJih9jjiNA5q4l5INuK0AwTKYKRj0zQNv5fmq8/DpAaCJseHrtQkB/+zpwzoxKQM3MzMzMeFJAZmZmZmZqWEAAAAAAAFxeQM3MzMzMJmJAmpmZmZkfZUBmZmZmZhhoQDMzMzMzEWtAAAAAAAAKbkBmZmZmZoFwQM3MzMzM/XFAMzMzMzN6c0CamZmZmfZ0QAAAAAAAc3ZAZmZmZmbvd0DNzMzMzGt5QDMzMzMz6HpAmpmZmZlkfEAAAAAAAOF9QGZmZmZmXX9AZmZmZuZsgECamZmZGSuBQM3MzMxM6YFAAAAAAICngkAzMzMzs2WDQGZmZmbmI4RAmpmZmRnihEDNzMzMTKCFQAAAAACAXoZAMzMzM7Mch0BmZmZm5tqHQJqZmZkZmYhAzczMzExXiUAAAAAAgBWKQDMzMzOz04pAZmZmZuaRi0CamZmZGVCMQM3MzMxMDo1AAAAAAIDMjUAzMzMzs4qOQGZmZmbmSI9A\",\"dtype\":\"float64\",\"shape\":[75]}},\"selected\":{\"id\":\"b74a40f4-ad74-43e4-8b54-e67ec71bcb61\",\"type\":\"Selection\"},\"selection_policy\":{\"id\":\"225b8334-d43d-435e-a2b8-3720a74e4612\",\"type\":\"UnionRenderers\"}},\"id\":\"19741c22-0e06-49ca-8e34-25073190b119\",\"type\":\"ColumnDataSource\"},{\"attributes\":{},\"id\":\"54c740f1-6501-4a56-96ea-d27756ffa2b2\",\"type\":\"WheelZoomTool\"},{\"attributes\":{},\"id\":\"b8930e43-ff35-4398-8567-fe36c7ef85a7\",\"type\":\"ResetTool\"},{\"attributes\":{\"line_alpha\":0.6,\"line_color\":\"#e41a1c\",\"line_dash\":[6],\"line_width\":5,\"x\":{\"field\":\"x\"},\"y\":{\"field\":\"y\"}},\"id\":\"ca326705-5834-44ba-b58f-6d120de6df3c\",\"type\":\"Line\"},{\"attributes\":{},\"id\":\"d67998ae-ef59-455f-8c9c-24b94f1347ab\",\"type\":\"Selection\"},{\"attributes\":{\"bottom_units\":\"screen\",\"fill_alpha\":{\"value\":0.5},\"fill_color\":{\"value\":\"lightgrey\"},\"left_units\":\"screen\",\"level\":\"overlay\",\"line_alpha\":{\"value\":1.0},\"line_color\":{\"value\":\"black\"},\"line_dash\":[4,4],\"line_width\":{\"value\":2},\"plot\":null,\"render_mode\":\"css\",\"right_units\":\"screen\",\"top_units\":\"screen\"},\"id\":\"502ac792-e9dd-4801-a9b1-3b64ea2a7cd2\",\"type\":\"BoxAnnotation\"},{\"attributes\":{\"axis_label\":\"pressure [mb]\",\"formatter\":{\"id\":\"2bfa1d2a-6c8d-4c93-a6b9-634f22d0b378\",\"type\":\"LogTickFormatter\"},\"plot\":{\"id\":\"32ca4c73-a3bd-4a21-a006-7c4a2ab6e2ac\",\"subtype\":\"Figure\",\"type\":\"Plot\"},\"ticker\":{\"id\":\"796248bd-6470-4069-9699-9a6073d7d465\",\"type\":\"LogTicker\"}},\"id\":\"245bf2e8-59ea-400a-a0f8-747e294e1a7a\",\"type\":\"LogAxis\"},{\"attributes\":{},\"id\":\"13200220-a069-491e-bc4e-e9b5857277bf\",\"type\":\"LogScale\"},{\"attributes\":{\"label\":{\"value\":\"CRD\"},\"renderers\":[{\"id\":\"970ea23f-d08f-4ce6-8ef8-681ce5f6b4b3\",\"type\":\"GlyphRenderer\"},{\"id\":\"f6e177e3-b4ca-439a-a16e-614698ac5d2d\",\"type\":\"GlyphRenderer\"}]},\"id\":\"3f4a4c62-53c7-4fb9-8188-5317ed155c68\",\"type\":\"LegendItem\"},{\"attributes\":{},\"id\":\"67208bb2-0c49-44e7-b68b-a4c4c667756a\",\"type\":\"HelpTool\"},{\"attributes\":{\"bottom_units\":\"screen\",\"fill_alpha\":{\"value\":0.5},\"fill_color\":{\"value\":\"lightgrey\"},\"left_units\":\"screen\",\"level\":\"overlay\",\"line_alpha\":{\"value\":1.0},\"line_color\":{\"value\":\"black\"},\"line_dash\":[4,4],\"line_width\":{\"value\":2},\"plot\":null,\"render_mode\":\"css\",\"right_units\":\"screen\",\"top_units\":\"screen\"},\"id\":\"c3807c69-77a4-48b0-b3ac-ca13a8e711fa\",\"type\":\"BoxAnnotation\"},{\"attributes\":{\"overlay\":{\"id\":\"8fc8eedf-8ae2-49ef-93f5-dddf8f8853e2\",\"type\":\"BoxAnnotation\"}},\"id\":\"0d17647f-eee2-4dac-bec6-c0311c423c27\",\"type\":\"BoxZoomTool\"},{\"attributes\":{\"data_source\":{\"id\":\"ad082c8c-3246-4182-95d2-1c74286562bc\",\"type\":\"ColumnDataSource\"},\"glyph\":{\"id\":\"d46d5bfa-6474-4e9c-a245-d6dda32e1093\",\"type\":\"Circle\"},\"hover_glyph\":null,\"muted_glyph\":null,\"nonselection_glyph\":{\"id\":\"8bf71af5-378c-45d6-9f39-d274fca78966\",\"type\":\"Circle\"},\"selection_glyph\":null,\"view\":{\"id\":\"c00595b1-329b-4447-a4d0-6ae411918bbf\",\"type\":\"CDSView\"}},\"id\":\"970ea23f-d08f-4ce6-8ef8-681ce5f6b4b3\",\"type\":\"GlyphRenderer\"},{\"attributes\":{\"active_drag\":\"auto\",\"active_inspect\":\"auto\",\"active_scroll\":\"auto\",\"active_tap\":\"auto\",\"tools\":[{\"id\":\"4dc511cf-9459-4d55-8375-41be02658fec\",\"type\":\"PanTool\"},{\"id\":\"54c740f1-6501-4a56-96ea-d27756ffa2b2\",\"type\":\"WheelZoomTool\"},{\"id\":\"3df0a7ef-c464-4f15-ae50-60c464fc2283\",\"type\":\"BoxZoomTool\"},{\"id\":\"334d6efc-baa4-4594-b6a0-b506f91b8372\",\"type\":\"SaveTool\"},{\"id\":\"b8335c58-c50c-42ab-b16c-1f2a84064b67\",\"type\":\"ResetTool\"},{\"id\":\"67208bb2-0c49-44e7-b68b-a4c4c667756a\",\"type\":\"HelpTool\"}]},\"id\":\"557c6f2c-ed41-4dc4-aa20-8f0f794818f8\",\"type\":\"Toolbar\"},{\"attributes\":{\"callback\":null,\"end\":0.01,\"start\":1020},\"id\":\"d762d0e9-2cde-4864-a253-d80bedcb556c\",\"type\":\"Range1d\"},{\"attributes\":{},\"id\":\"73522cca-53c1-4b5b-8db6-ed3bfc7492a3\",\"type\":\"WheelZoomTool\"},{\"attributes\":{\"source\":{\"id\":\"d08db3cd-991b-4b90-a925-c5f82ba58996\",\"type\":\"ColumnDataSource\"}},\"id\":\"36595a7f-6a2f-4086-bc97-cb662f3fb847\",\"type\":\"CDSView\"},{\"attributes\":{\"plot\":{\"id\":\"52a4cba7-a4e4-41e5-a053-5ceeeb1adcc0\",\"subtype\":\"Figure\",\"type\":\"Plot\"},\"ticker\":{\"id\":\"f478e825-041f-4395-8725-64a8c75c8af0\",\"type\":\"BasicTicker\"}},\"id\":\"783ff55c-14c1-4f89-a9ac-47a4d9979fd0\",\"type\":\"Grid\"},{\"attributes\":{\"fill_alpha\":{\"value\":0.1},\"fill_color\":{\"value\":\"#1f77b4\"},\"line_alpha\":{\"value\":0.1},\"line_color\":{\"value\":\"#1f77b4\"},\"x\":{\"field\":\"x\"},\"y\":{\"field\":\"y\"}},\"id\":\"8bf71af5-378c-45d6-9f39-d274fca78966\",\"type\":\"Circle\"},{\"attributes\":{\"callback\":null,\"data\":{\"x\":{\"__ndarray__\":\"R/KIaN7AVEClCeJMyPNGQOvRhpxr30JAptxzhxx4PkA7SssMElA4QK6Bp3CyUDNAsVXpjES9LkBFhUV0+5coQMHYwqbbySNA6f09nM3nH0CaSd/3eYoZQDmgiAOW8BNAPYqARh3eDEBkm4vCgvr+P9D+5tWhQfY/P8DwKRnSAkBq38kb17ILQDT7IWuSsxFAUr2Rjm0FFkAinq3s9XgbQGCHwtYcqSFAG64kT303J0C7dRDneyooQD9JYrbK8yRA9S3bneHhIUAIymSuUMMcQIkHLe6VEBdAAau3cITREkA6CiNvkQIPQJU39ki7IQlAaAvwok1UA0BXLQiS4+L7P0xzDpJ2hPI/NNuPGMbJ5z91mUVYxqfSPxqwUPSxZca/G11peifD3L8QzNj5t2jTvwzOozTL360/SPJ4VI1VzD9KJ0nXEIncP8yDdlvHt+4/Et49nYLW9z++2teD4Jn+P+568eH/bwFALf5D9lmAAkCiZAicVOkCQPPT4jNKxwJAOjp3wTzBAUBSQsKNGisBQG4OmjqJwQBAJ3sZoHFuAEA5Ar0Sdi0AQGy4rw5+9f8/7W4nSrC3/z8mPr8zj4T/P4UYRHCQS/8/embVKYcF/z+5YXG+LLP+P/qb8BVUgf4/KvafTtyO/j/avAK1Ppv+PwJV9VVm2P0/JFtYlU/n/D9sN+q2fiX6Pw44e41PNPc/Opt+Z/wN9T+x3vcSW1vzP9ofvWQJlvI/8sciQQBW8j80sfkQa17yPzg5qng2r/I/Oh14WJBh8z+VZjnpctj0P6CcrSuCqQBA\",\"dtype\":\"float64\",\"shape\":[75]},\"y\":{\"__ndarray__\":\"GhExyth1ND/Sv8nbtpRIP2vylNV0PVE/aTum7souWD/At0SJ8fVgPw3Iuahxymc/MSNhhJWvcD/bTfBN02d3P2zb5nxnaoA/CD5h5MAGhz8NmeH1TyaQP+zrCsc9p5Y/LbKd76fGnz/bLW5ISEmmPww9YvTcQq8/JV2OstnstT8Er5Y7M8G+P0c+r3jqkcU/5h99k6ZBzj88bCIzFzjVP4enV8oyxN0//yH99nXg5D8qOpLLf0jtP5kqGJXUifQ/c9cS8kHP/D+/DpwzojQEQIEmwoanVwxA4lgXt9HgE0BSSZ2AJuIbQAMJih9jjiNA5q4l5INuK0AwTKYKRj0zQNv5fmq8/DpAaCJseHrtQkB/+zpwzoxKQM3MzMzMeFJAZmZmZmZqWEAAAAAAAFxeQM3MzMzMJmJAmpmZmZkfZUBmZmZmZhhoQDMzMzMzEWtAAAAAAAAKbkBmZmZmZoFwQM3MzMzM/XFAMzMzMzN6c0CamZmZmfZ0QAAAAAAAc3ZAZmZmZmbvd0DNzMzMzGt5QDMzMzMz6HpAmpmZmZlkfEAAAAAAAOF9QGZmZmZmXX9AZmZmZuZsgECamZmZGSuBQM3MzMxM6YFAAAAAAICngkAzMzMzs2WDQGZmZmbmI4RAmpmZmRnihEDNzMzMTKCFQAAAAACAXoZAMzMzM7Mch0BmZmZm5tqHQJqZmZkZmYhAzczMzExXiUAAAAAAgBWKQDMzMzOz04pAZmZmZuaRi0CamZmZGVCMQM3MzMxMDo1AAAAAAIDMjUAzMzMzs4qOQGZmZmbmSI9A\",\"dtype\":\"float64\",\"shape\":[75]}},\"selected\":{\"id\":\"d67998ae-ef59-455f-8c9c-24b94f1347ab\",\"type\":\"Selection\"},\"selection_policy\":{\"id\":\"e54f9bd6-d8da-451b-95e3-ce9b36270061\",\"type\":\"UnionRenderers\"}},\"id\":\"362f9ac3-3f0c-4562-bf05-2a87577d0b11\",\"type\":\"ColumnDataSource\"},{\"attributes\":{\"dimension\":1,\"plot\":{\"id\":\"32ca4c73-a3bd-4a21-a006-7c4a2ab6e2ac\",\"subtype\":\"Figure\",\"type\":\"Plot\"},\"ticker\":{\"id\":\"796248bd-6470-4069-9699-9a6073d7d465\",\"type\":\"LogTicker\"}},\"id\":\"92c8bc93-a64e-4703-9100-9691ba8b7e72\",\"type\":\"Grid\"},{\"attributes\":{\"source\":{\"id\":\"ad082c8c-3246-4182-95d2-1c74286562bc\",\"type\":\"ColumnDataSource\"}},\"id\":\"c00595b1-329b-4447-a4d0-6ae411918bbf\",\"type\":\"CDSView\"},{\"attributes\":{},\"id\":\"564b55af-e4e8-4dca-a891-ca8cbaf12ef8\",\"type\":\"BasicTicker\"},{\"attributes\":{},\"id\":\"5e5f27a9-a147-4aa6-817f-dbdf71db11a2\",\"type\":\"SaveTool\"},{\"attributes\":{\"items\":[{\"id\":\"73c7ac9e-b504-44a4-9d80-4cfc05c85f2e\",\"type\":\"LegendItem\"}],\"label_text_font_size\":{\"value\":\"8pt\"},\"location\":\"top_center\",\"orientation\":\"horizontal\",\"plot\":{\"id\":\"32ca4c73-a3bd-4a21-a006-7c4a2ab6e2ac\",\"subtype\":\"Figure\",\"type\":\"Plot\"}},\"id\":\"06f8c93a-d2f8-415b-a208-bc3846a77358\",\"type\":\"Legend\"},{\"attributes\":{\"line_color\":\"#4daf4a\",\"line_width\":1.5,\"x\":{\"field\":\"x\"},\"y\":{\"field\":\"y\"}},\"id\":\"eb9efffa-6e79-45d3-bd5a-afca901eb7b9\",\"type\":\"Line\"},{\"attributes\":{\"fill_alpha\":{\"value\":0.7},\"fill_color\":{\"value\":\"#4daf4a\"},\"line_alpha\":{\"value\":0.7},\"line_color\":{\"value\":\"#4daf4a\"},\"x\":{\"field\":\"x\"},\"y\":{\"field\":\"y\"}},\"id\":\"d46d5bfa-6474-4e9c-a245-d6dda32e1093\",\"type\":\"Circle\"},{\"attributes\":{\"source\":{\"id\":\"9bd9ab25-7fa3-41d2-9a97-449c9ed80a52\",\"type\":\"ColumnDataSource\"}},\"id\":\"5e9ff8dd-fc53-4ea2-84a9-4e0856f52789\",\"type\":\"CDSView\"},{\"attributes\":{\"data_source\":{\"id\":\"19741c22-0e06-49ca-8e34-25073190b119\",\"type\":\"ColumnDataSource\"},\"glyph\":{\"id\":\"218d98e9-92f2-47af-8b88-0a7ead78cb44\",\"type\":\"Circle\"},\"hover_glyph\":null,\"muted_glyph\":null,\"nonselection_glyph\":{\"id\":\"4c46d6f3-b75e-4a36-b17a-94ccc9f5380d\",\"type\":\"Circle\"},\"selection_glyph\":null,\"view\":{\"id\":\"d3658081-127c-487b-9a5c-629398851e37\",\"type\":\"CDSView\"}},\"id\":\"6e9416c0-541b-46e4-8901-bfa50dbfc42e\",\"type\":\"GlyphRenderer\"},{\"attributes\":{\"line_alpha\":0.1,\"line_color\":\"#1f77b4\",\"line_width\":1.5,\"x\":{\"field\":\"x\"},\"y\":{\"field\":\"y\"}},\"id\":\"3700ffc5-1e44-4a38-b230-ffb78f5bc3ae\",\"type\":\"Line\"},{\"attributes\":{\"data_source\":{\"id\":\"362f9ac3-3f0c-4562-bf05-2a87577d0b11\",\"type\":\"ColumnDataSource\"},\"glyph\":{\"id\":\"eb9efffa-6e79-45d3-bd5a-afca901eb7b9\",\"type\":\"Line\"},\"hover_glyph\":null,\"muted_glyph\":null,\"nonselection_glyph\":{\"id\":\"3700ffc5-1e44-4a38-b230-ffb78f5bc3ae\",\"type\":\"Line\"},\"selection_glyph\":null,\"view\":{\"id\":\"87ac438d-6880-4069-a848-57fe1bfbf8a6\",\"type\":\"CDSView\"}},\"id\":\"f6e177e3-b4ca-439a-a16e-614698ac5d2d\",\"type\":\"GlyphRenderer\"},{\"attributes\":{\"source\":{\"id\":\"f264147d-a257-4e21-b7fd-96375f3a0bb1\",\"type\":\"ColumnDataSource\"}},\"id\":\"ed6ceb63-e448-4c84-8219-3f63f2fbb36c\",\"type\":\"CDSView\"},{\"attributes\":{\"data_source\":{\"id\":\"9bd9ab25-7fa3-41d2-9a97-449c9ed80a52\",\"type\":\"ColumnDataSource\"},\"glyph\":{\"id\":\"652faa74-0fe3-42bc-b232-417aab36f4a6\",\"type\":\"Circle\"},\"hover_glyph\":null,\"muted_glyph\":null,\"nonselection_glyph\":{\"id\":\"d0b8536f-7315-4cb8-9396-4f8f8fa1a29a\",\"type\":\"Circle\"},\"selection_glyph\":null,\"view\":{\"id\":\"5e9ff8dd-fc53-4ea2-84a9-4e0856f52789\",\"type\":\"CDSView\"}},\"id\":\"5fc1a900-93a0-4a79-9f4c-36a4823d87ef\",\"type\":\"GlyphRenderer\"},{\"attributes\":{},\"id\":\"67f09a36-7a12-4323-90ff-6e8f2d2f47b5\",\"type\":\"PanTool\"},{\"attributes\":{\"data_source\":{\"id\":\"f264147d-a257-4e21-b7fd-96375f3a0bb1\",\"type\":\"ColumnDataSource\"},\"glyph\":{\"id\":\"ca326705-5834-44ba-b58f-6d120de6df3c\",\"type\":\"Line\"},\"hover_glyph\":null,\"muted_glyph\":null,\"nonselection_glyph\":{\"id\":\"66e47e6a-2191-457f-a509-8da764df594b\",\"type\":\"Line\"},\"selection_glyph\":null,\"view\":{\"id\":\"ed6ceb63-e448-4c84-8219-3f63f2fbb36c\",\"type\":\"CDSView\"}},\"id\":\"43f930dd-322d-4c9e-be0b-98f1f68f68ce\",\"type\":\"GlyphRenderer\"},{\"attributes\":{},\"id\":\"b8335c58-c50c-42ab-b16c-1f2a84064b67\",\"type\":\"ResetTool\"},{\"attributes\":{\"data_source\":{\"id\":\"d08db3cd-991b-4b90-a925-c5f82ba58996\",\"type\":\"ColumnDataSource\"},\"glyph\":{\"id\":\"0d55a37b-d558-4bc8-a1c0-ac2ca3d8009b\",\"type\":\"Line\"},\"hover_glyph\":null,\"muted_glyph\":null,\"nonselection_glyph\":{\"id\":\"3c5cb8ed-af89-4fc2-9845-ecf32b68358e\",\"type\":\"Line\"},\"selection_glyph\":null,\"view\":{\"id\":\"36595a7f-6a2f-4086-bc97-cb662f3fb847\",\"type\":\"CDSView\"}},\"id\":\"010a0293-8bca-41ac-ab52-f3575195d6fb\",\"type\":\"GlyphRenderer\"},{\"attributes\":{\"plot\":{\"id\":\"32ca4c73-a3bd-4a21-a006-7c4a2ab6e2ac\",\"subtype\":\"Figure\",\"type\":\"Plot\"},\"ticker\":{\"id\":\"db72e117-a4cd-43da-b240-023c986d5bd9\",\"type\":\"BasicTicker\"}},\"id\":\"879bc8ea-5683-4d65-bca5-804d8b76d6c7\",\"type\":\"Grid\"},{\"attributes\":{\"dimension\":1,\"plot\":{\"id\":\"52a4cba7-a4e4-41e5-a053-5ceeeb1adcc0\",\"subtype\":\"Figure\",\"type\":\"Plot\"},\"ticker\":{\"id\":\"564b55af-e4e8-4dca-a891-ca8cbaf12ef8\",\"type\":\"BasicTicker\"}},\"id\":\"909dc839-7e10-4bc5-801a-6658b3d03ba7\",\"type\":\"Grid\"},{\"attributes\":{\"source\":{\"id\":\"19741c22-0e06-49ca-8e34-25073190b119\",\"type\":\"ColumnDataSource\"}},\"id\":\"d3658081-127c-487b-9a5c-629398851e37\",\"type\":\"CDSView\"},{\"attributes\":{\"callback\":null,\"data\":{\"x\":{\"__ndarray__\":\"R/KIaN7AVEClCeJMyPNGQOvRhpxr30JAptxzhxx4PkA7SssMElA4QK6Bp3CyUDNAsVXpjES9LkBFhUV0+5coQMHYwqbbySNA6f09nM3nH0CaSd/3eYoZQDmgiAOW8BNAPYqARh3eDEBkm4vCgvr+P9D+5tWhQfY/P8DwKRnSAkBq38kb17ILQDT7IWuSsxFAUr2Rjm0FFkAinq3s9XgbQGCHwtYcqSFAG64kT303J0C7dRDneyooQD9JYrbK8yRA9S3bneHhIUAIymSuUMMcQIkHLe6VEBdAAau3cITREkA6CiNvkQIPQJU39ki7IQlAaAvwok1UA0BXLQiS4+L7P0xzDpJ2hPI/NNuPGMbJ5z91mUVYxqfSPxqwUPSxZca/G11peifD3L8QzNj5t2jTvwzOozTL360/SPJ4VI1VzD9KJ0nXEIncP8yDdlvHt+4/Et49nYLW9z++2teD4Jn+P+568eH/bwFALf5D9lmAAkCiZAicVOkCQPPT4jNKxwJAOjp3wTzBAUBSQsKNGisBQG4OmjqJwQBAJ3sZoHFuAEA5Ar0Sdi0AQGy4rw5+9f8/7W4nSrC3/z8mPr8zj4T/P4UYRHCQS/8/embVKYcF/z+5YXG+LLP+P/qb8BVUgf4/KvafTtyO/j/avAK1Ppv+PwJV9VVm2P0/JFtYlU/n/D9sN+q2fiX6Pw44e41PNPc/Opt+Z/wN9T+x3vcSW1vzP9ofvWQJlvI/8sciQQBW8j80sfkQa17yPzg5qng2r/I/Oh14WJBh8z+VZjnpctj0P6CcrSuCqQBA\",\"dtype\":\"float64\",\"shape\":[75]},\"y\":{\"__ndarray__\":\"GhExyth1ND/Sv8nbtpRIP2vylNV0PVE/aTum7souWD/At0SJ8fVgPw3Iuahxymc/MSNhhJWvcD/bTfBN02d3P2zb5nxnaoA/CD5h5MAGhz8NmeH1TyaQP+zrCsc9p5Y/LbKd76fGnz/bLW5ISEmmPww9YvTcQq8/JV2OstnstT8Er5Y7M8G+P0c+r3jqkcU/5h99k6ZBzj88bCIzFzjVP4enV8oyxN0//yH99nXg5D8qOpLLf0jtP5kqGJXUifQ/c9cS8kHP/D+/DpwzojQEQIEmwoanVwxA4lgXt9HgE0BSSZ2AJuIbQAMJih9jjiNA5q4l5INuK0AwTKYKRj0zQNv5fmq8/DpAaCJseHrtQkB/+zpwzoxKQM3MzMzMeFJAZmZmZmZqWEAAAAAAAFxeQM3MzMzMJmJAmpmZmZkfZUBmZmZmZhhoQDMzMzMzEWtAAAAAAAAKbkBmZmZmZoFwQM3MzMzM/XFAMzMzMzN6c0CamZmZmfZ0QAAAAAAAc3ZAZmZmZmbvd0DNzMzMzGt5QDMzMzMz6HpAmpmZmZlkfEAAAAAAAOF9QGZmZmZmXX9AZmZmZuZsgECamZmZGSuBQM3MzMxM6YFAAAAAAICngkAzMzMzs2WDQGZmZmbmI4RAmpmZmRnihEDNzMzMTKCFQAAAAACAXoZAMzMzM7Mch0BmZmZm5tqHQJqZmZkZmYhAzczMzExXiUAAAAAAgBWKQDMzMzOz04pAZmZmZuaRi0CamZmZGVCMQM3MzMxMDo1AAAAAAIDMjUAzMzMzs4qOQGZmZmbmSI9A\",\"dtype\":\"float64\",\"shape\":[75]}},\"selected\":{\"id\":\"8ea8b677-e642-49c3-8aed-b9a3095c8fb3\",\"type\":\"Selection\"},\"selection_policy\":{\"id\":\"28d948fc-a144-4a99-a179-25a844fcf22a\",\"type\":\"UnionRenderers\"}},\"id\":\"ad082c8c-3246-4182-95d2-1c74286562bc\",\"type\":\"ColumnDataSource\"},{\"attributes\":{\"axis_label\":\"pressure [mb]\",\"formatter\":{\"id\":\"717abf89-ce71-4701-8207-803bda09d2b7\",\"type\":\"BasicTickFormatter\"},\"plot\":{\"id\":\"52a4cba7-a4e4-41e5-a053-5ceeeb1adcc0\",\"subtype\":\"Figure\",\"type\":\"Plot\"},\"ticker\":{\"id\":\"564b55af-e4e8-4dca-a891-ca8cbaf12ef8\",\"type\":\"BasicTicker\"}},\"id\":\"03a9c791-1139-4e51-b973-72813c77d7cb\",\"type\":\"LinearAxis\"}],\"root_ids\":[\"e739e6e6-3480-48f2-a85b-8a8dd4dadad1\"]},\"title\":\"Bokeh Application\",\"version\":\"0.12.16\"}};\n",
       "  var render_items = [{\"docid\":\"fccb81fe-14fa-46d3-98ee-212d8fe1f8cf\",\"elementid\":\"3824fd14-7b7d-4d3b-b43f-b8153f54d177\",\"modelid\":\"e739e6e6-3480-48f2-a85b-8a8dd4dadad1\"}];\n",
       "  root.Bokeh.embed.embed_items_notebook(docs_json, render_items);\n",
       "\n",
       "  }\n",
       "  if (root.Bokeh !== undefined) {\n",
       "    embed_document(root);\n",
       "  } else {\n",
       "    var attempts = 0;\n",
       "    var timer = setInterval(function(root) {\n",
       "      if (root.Bokeh !== undefined) {\n",
       "        embed_document(root);\n",
       "        clearInterval(timer);\n",
       "      }\n",
       "      attempts++;\n",
       "      if (attempts > 100) {\n",
       "        console.log(\"Bokeh: ERROR: Unable to run BokehJS code because BokehJS library is missing\")\n",
       "        clearInterval(timer);\n",
       "      }\n",
       "    }, 10, root)\n",
       "  }\n",
       "})(window);"
      ],
      "application/vnd.bokehjs_exec.v0+json": ""
     },
     "metadata": {
      "application/vnd.bokehjs_exec.v0+json": {
       "id": "e739e6e6-3480-48f2-a85b-8a8dd4dadad1"
      }
     },
     "output_type": "display_data"
    },
    {
     "data": {
      "text/markdown": [
       "*FIGURE.* Cooling rates & difference."
      ],
      "text/plain": [
       "<IPython.core.display.Markdown object>"
      ]
     },
     "metadata": {},
     "output_type": "display_data"
    },
    {
     "data": {
      "text/html": [
       "<a id=\"Fluxes._trp.\"></a>"
      ],
      "text/plain": [
       "<IPython.core.display.HTML object>"
      ]
     },
     "metadata": {},
     "output_type": "display_data"
    },
    {
     "data": {
      "text/markdown": [
       "# Fluxes. trp."
      ],
      "text/plain": [
       "<IPython.core.display.Markdown object>"
      ]
     },
     "metadata": {},
     "output_type": "display_data"
    },
    {
     "data": {
      "text/html": [
       "\n",
       "<div class=\"bk-root\">\n",
       "    <div class=\"bk-plotdiv\" id=\"f10cf21e-8d7c-4164-94a0-b0e1b824d12d\"></div>\n",
       "</div>"
      ]
     },
     "metadata": {},
     "output_type": "display_data"
    },
    {
     "data": {
      "application/javascript": [
       "(function(root) {\n",
       "  function embed_document(root) {\n",
       "    \n",
       "  var docs_json = {\"d47f3dbe-94d5-408a-9a12-4aa4587789c7\":{\"roots\":{\"references\":[{\"attributes\":{\"callback\":null},\"id\":\"1ace8cc1-4f1b-45cf-89c7-f2434860c4d6\",\"type\":\"DataRange1d\"},{\"attributes\":{},\"id\":\"e1f782a4-a00f-4df3-a52f-18c384deb2ae\",\"type\":\"BasicTickFormatter\"},{\"attributes\":{\"callback\":null,\"factors\":[\"1\",\"2\",\"3\",\"4\",\"5\",\"6\",\"7\",\"8\",\"9\",\"10\",\"11\"]},\"id\":\"956423d4-f69b-4e77-a8d4-651dc801b589\",\"type\":\"FactorRange\"},{\"attributes\":{},\"id\":\"724c7bb4-eb2e-4fed-a837-e0b6dcb9eb66\",\"type\":\"CategoricalTickFormatter\"},{\"attributes\":{\"active_drag\":\"auto\",\"active_inspect\":\"auto\",\"active_scroll\":\"auto\",\"active_tap\":\"auto\",\"tools\":[{\"id\":\"bd256a83-1257-42d4-a35b-2c78ed1a44ca\",\"type\":\"PanTool\"},{\"id\":\"a927e071-6922-48b3-b33f-97689e8aa144\",\"type\":\"WheelZoomTool\"},{\"id\":\"a5756d05-fc0f-4a4f-b60c-cd1e74e4fe6f\",\"type\":\"BoxZoomTool\"},{\"id\":\"5f7507ad-5325-4e42-b15a-f61365cac332\",\"type\":\"SaveTool\"},{\"id\":\"ae07f944-76f0-47e5-833c-0652f5516046\",\"type\":\"ResetTool\"},{\"id\":\"ba8cf51e-86a3-46cc-a55f-64b0d688b027\",\"type\":\"HelpTool\"}]},\"id\":\"f41812ae-20bf-4874-a5e3-3e603b41dff1\",\"type\":\"Toolbar\"},{\"attributes\":{\"callback\":null,\"data\":{\"band\":[\"1\",\"2\",\"3\",\"4\",\"5\",\"6\",\"7\",\"8\",\"9\",\"10\",\"11\"],\"flux\":{\"__ndarray__\":\"ALvVc9L7yj8A+yZNg6LUP4D2Bl+YTNO/oBKe0OtP2j+AxvfFpSrUPwAo5bUSuqO/gOo9ldOezj8Aic4yi1C8vwCymNh8XJs/oJog6j4Awj/AhD79DBS9Pw==\",\"dtype\":\"float64\",\"shape\":[11]}},\"selected\":{\"id\":\"a2d9d5fb-4d5e-4a51-b72a-24a43625cb81\",\"type\":\"Selection\"},\"selection_policy\":{\"id\":\"0c308e4c-654b-4727-8867-22c9e5091616\",\"type\":\"UnionRenderers\"}},\"id\":\"4def582b-6841-4aaa-b88e-19060e3db4c4\",\"type\":\"ColumnDataSource\"},{\"attributes\":{\"plot\":null,\"text\":\"SFC flux. CLIRAD - CRD.\"},\"id\":\"336dd630-259a-400b-8c5f-51c4dc94dbd1\",\"type\":\"Title\"},{\"attributes\":{\"plot\":null,\"text\":\"Atmosphere heating. CLIRAD - CRD.\"},\"id\":\"1da2ce0b-25b4-4665-a1e3-b807a99f6d37\",\"type\":\"Title\"},{\"attributes\":{\"fill_color\":{\"value\":\"#1f77b4\"},\"line_color\":{\"value\":\"#1f77b4\"},\"top\":{\"field\":\"flux\"},\"width\":{\"value\":0.9},\"x\":{\"field\":\"band\"}},\"id\":\"bd763ea3-5808-49b0-a174-1a99e3c63d78\",\"type\":\"VBar\"},{\"attributes\":{\"children\":[{\"id\":\"df223a96-8016-418e-ab4b-d1b099c37b1f\",\"subtype\":\"Figure\",\"type\":\"Plot\"},{\"id\":\"3b0a9f74-5e87-44fe-b52e-75c16e4ec105\",\"subtype\":\"Figure\",\"type\":\"Plot\"},{\"id\":\"2bc6aa67-270f-40cd-b440-91684db5d065\",\"subtype\":\"Figure\",\"type\":\"Plot\"}]},\"id\":\"5b95ed4e-9758-409e-93d7-daa2591f0dd2\",\"type\":\"Row\"},{\"attributes\":{\"overlay\":{\"id\":\"6e08529f-eb03-492a-8898-dd5867ce4140\",\"type\":\"BoxAnnotation\"}},\"id\":\"a5756d05-fc0f-4a4f-b60c-cd1e74e4fe6f\",\"type\":\"BoxZoomTool\"},{\"attributes\":{},\"id\":\"bd256a83-1257-42d4-a35b-2c78ed1a44ca\",\"type\":\"PanTool\"},{\"attributes\":{\"plot\":{\"id\":\"2bc6aa67-270f-40cd-b440-91684db5d065\",\"subtype\":\"Figure\",\"type\":\"Plot\"},\"ticker\":{\"id\":\"f6f72578-2012-4134-8067-1fc6af65c85d\",\"type\":\"CategoricalTicker\"}},\"id\":\"d7c925f6-5cb0-4234-bcd0-e711b158531c\",\"type\":\"Grid\"},{\"attributes\":{\"dimension\":1,\"plot\":{\"id\":\"3b0a9f74-5e87-44fe-b52e-75c16e4ec105\",\"subtype\":\"Figure\",\"type\":\"Plot\"},\"ticker\":{\"id\":\"d3e621c1-7635-4ba8-a90d-a6a5209dc4b4\",\"type\":\"BasicTicker\"}},\"id\":\"61ed7339-c06d-41cb-a529-bbde4bd649d3\",\"type\":\"Grid\"},{\"attributes\":{},\"id\":\"ae07f944-76f0-47e5-833c-0652f5516046\",\"type\":\"ResetTool\"},{\"attributes\":{},\"id\":\"a927e071-6922-48b3-b33f-97689e8aa144\",\"type\":\"WheelZoomTool\"},{\"attributes\":{\"below\":[{\"id\":\"12f87e42-637f-435b-87e9-aef2dfd547d3\",\"type\":\"CategoricalAxis\"}],\"left\":[{\"id\":\"0b04916d-340d-4608-813a-10ccb9fb7341\",\"type\":\"LinearAxis\"}],\"plot_height\":300,\"plot_width\":300,\"renderers\":[{\"id\":\"12f87e42-637f-435b-87e9-aef2dfd547d3\",\"type\":\"CategoricalAxis\"},{\"id\":\"dfe933c5-fb27-43a6-9006-01a6f54e06e2\",\"type\":\"Grid\"},{\"id\":\"0b04916d-340d-4608-813a-10ccb9fb7341\",\"type\":\"LinearAxis\"},{\"id\":\"61ed7339-c06d-41cb-a529-bbde4bd649d3\",\"type\":\"Grid\"},{\"id\":\"6e08529f-eb03-492a-8898-dd5867ce4140\",\"type\":\"BoxAnnotation\"},{\"id\":\"75b6b547-617c-472e-896c-14e46f1e03d7\",\"type\":\"GlyphRenderer\"}],\"title\":{\"id\":\"336dd630-259a-400b-8c5f-51c4dc94dbd1\",\"type\":\"Title\"},\"toolbar\":{\"id\":\"f41812ae-20bf-4874-a5e3-3e603b41dff1\",\"type\":\"Toolbar\"},\"toolbar_location\":null,\"x_range\":{\"id\":\"956423d4-f69b-4e77-a8d4-651dc801b589\",\"type\":\"FactorRange\"},\"x_scale\":{\"id\":\"68586610-465e-4a61-9a92-e69a54ad4712\",\"type\":\"CategoricalScale\"},\"y_range\":{\"id\":\"1ace8cc1-4f1b-45cf-89c7-f2434860c4d6\",\"type\":\"DataRange1d\"},\"y_scale\":{\"id\":\"84d28ea5-ffe7-470d-8f33-d04769b34272\",\"type\":\"LinearScale\"}},\"id\":\"3b0a9f74-5e87-44fe-b52e-75c16e4ec105\",\"subtype\":\"Figure\",\"type\":\"Plot\"},{\"attributes\":{\"fill_color\":{\"value\":\"#1f77b4\"},\"line_color\":{\"value\":\"#1f77b4\"},\"top\":{\"field\":\"flux\"},\"width\":{\"value\":0.9},\"x\":{\"field\":\"band\"}},\"id\":\"80543566-782f-4a52-a2f6-51d2f792a953\",\"type\":\"VBar\"},{\"attributes\":{},\"id\":\"120d8eed-1872-46e8-be30-5551d8f6104f\",\"type\":\"CategoricalTickFormatter\"},{\"attributes\":{\"callback\":null},\"id\":\"2e1b9e0e-ab88-493b-8ba3-678eea4788bd\",\"type\":\"DataRange1d\"},{\"attributes\":{},\"id\":\"5a39b30b-a01b-4a93-8329-f324b8193292\",\"type\":\"CategoricalTicker\"},{\"attributes\":{},\"id\":\"dc5441d5-550e-4653-bef3-a136efc20b9c\",\"type\":\"CategoricalTicker\"},{\"attributes\":{},\"id\":\"d3e621c1-7635-4ba8-a90d-a6a5209dc4b4\",\"type\":\"BasicTicker\"},{\"attributes\":{},\"id\":\"5f7507ad-5325-4e42-b15a-f61365cac332\",\"type\":\"SaveTool\"},{\"attributes\":{\"below\":[{\"id\":\"8d0450a4-a4eb-48c2-bdde-3161b4992404\",\"type\":\"CategoricalAxis\"}],\"left\":[{\"id\":\"6b30942e-86d0-4326-a46c-7bc00ed0771b\",\"type\":\"LinearAxis\"}],\"plot_height\":300,\"plot_width\":300,\"renderers\":[{\"id\":\"8d0450a4-a4eb-48c2-bdde-3161b4992404\",\"type\":\"CategoricalAxis\"},{\"id\":\"23f1934b-7522-4a4b-8af2-a077ff3c0dc5\",\"type\":\"Grid\"},{\"id\":\"6b30942e-86d0-4326-a46c-7bc00ed0771b\",\"type\":\"LinearAxis\"},{\"id\":\"afde779d-8291-49f3-9380-e6da3ddf5969\",\"type\":\"Grid\"},{\"id\":\"82bc057d-0571-4f2e-9907-d181b3441f3d\",\"type\":\"BoxAnnotation\"},{\"id\":\"1f340c68-ff03-4e5b-826b-9e536f91b311\",\"type\":\"GlyphRenderer\"}],\"title\":{\"id\":\"fc821e26-f731-4319-9706-49c01c728384\",\"type\":\"Title\"},\"toolbar\":{\"id\":\"d9f6fe25-62bb-4929-b048-5b356c854b64\",\"type\":\"Toolbar\"},\"toolbar_location\":null,\"x_range\":{\"id\":\"70ab08aa-5b7d-4178-b0d4-da94206a7af6\",\"type\":\"FactorRange\"},\"x_scale\":{\"id\":\"47378059-7358-438b-aa2a-266446143171\",\"type\":\"CategoricalScale\"},\"y_range\":{\"id\":\"2e1b9e0e-ab88-493b-8ba3-678eea4788bd\",\"type\":\"DataRange1d\"},\"y_scale\":{\"id\":\"01a3d148-0a3d-4420-ba0b-80b9db0b9bdb\",\"type\":\"LinearScale\"}},\"id\":\"df223a96-8016-418e-ab4b-d1b099c37b1f\",\"subtype\":\"Figure\",\"type\":\"Plot\"},{\"attributes\":{\"active_drag\":\"auto\",\"active_inspect\":\"auto\",\"active_scroll\":\"auto\",\"active_tap\":\"auto\",\"tools\":[{\"id\":\"e351167f-bfbb-4181-9e2d-195e0b580b1d\",\"type\":\"PanTool\"},{\"id\":\"bd38969f-c8f7-48e9-9d07-a43ef2fc2e46\",\"type\":\"WheelZoomTool\"},{\"id\":\"43ecdf23-dae9-4f5e-ac6c-028137233fa8\",\"type\":\"BoxZoomTool\"},{\"id\":\"cb7a718a-404a-4a44-a5c6-8afddbdb7bb7\",\"type\":\"SaveTool\"},{\"id\":\"5c0f4276-b0bb-4f5f-88b1-f54490f86038\",\"type\":\"ResetTool\"},{\"id\":\"e7c1fb5f-f81b-4d0e-aa90-dd7d13323370\",\"type\":\"HelpTool\"}]},\"id\":\"2c8dbce7-df20-46e3-a495-8f3a9cb49f70\",\"type\":\"Toolbar\"},{\"attributes\":{\"plot\":{\"id\":\"3b0a9f74-5e87-44fe-b52e-75c16e4ec105\",\"subtype\":\"Figure\",\"type\":\"Plot\"},\"ticker\":{\"id\":\"5a39b30b-a01b-4a93-8329-f324b8193292\",\"type\":\"CategoricalTicker\"}},\"id\":\"dfe933c5-fb27-43a6-9006-01a6f54e06e2\",\"type\":\"Grid\"},{\"attributes\":{\"axis_label\":\"flux (W m-2)\",\"formatter\":{\"id\":\"3ea7d1f5-7ea1-4149-9192-cf3189bad02d\",\"type\":\"BasicTickFormatter\"},\"plot\":{\"id\":\"2bc6aa67-270f-40cd-b440-91684db5d065\",\"subtype\":\"Figure\",\"type\":\"Plot\"},\"ticker\":{\"id\":\"2ce4893e-227c-45f7-bc1c-9f6cae410e72\",\"type\":\"BasicTicker\"}},\"id\":\"02d5d2ae-f302-4e4a-900e-a00de50fc847\",\"type\":\"LinearAxis\"},{\"attributes\":{\"callback\":null,\"data\":{\"band\":[\"1\",\"2\",\"3\",\"4\",\"5\",\"6\",\"7\",\"8\",\"9\",\"10\",\"11\"],\"flux\":{\"__ndarray__\":\"AEqFLU38yj8AArHPEEyyPwDPCxx1Gbm/AHHqf5AX2D8g1uJTAIzSv4AiMqzijd+/gGt9kdCWxT+A6Xk3FhTAv0BACX36GdC/QDwUw91ywD8AcylTcYipPw==\",\"dtype\":\"float64\",\"shape\":[11]}},\"selected\":{\"id\":\"2f672198-1764-4ed2-920b-5b7a038134ae\",\"type\":\"Selection\"},\"selection_policy\":{\"id\":\"5a6ee853-167e-463f-bad8-58197430b5b3\",\"type\":\"UnionRenderers\"}},\"id\":\"37e08e19-157f-4b80-900c-8c33b32cdbf4\",\"type\":\"ColumnDataSource\"},{\"attributes\":{},\"id\":\"daa2eeda-6513-41d9-ac60-000d89f503bb\",\"type\":\"HelpTool\"},{\"attributes\":{\"source\":{\"id\":\"7c2730af-cdec-4ac8-bb4d-4062d216d92a\",\"type\":\"ColumnDataSource\"}},\"id\":\"20440d78-a810-4d60-8783-999a0dca62df\",\"type\":\"CDSView\"},{\"attributes\":{\"axis_label\":\"flux (W m-2)\",\"formatter\":{\"id\":\"13fbf2af-17c8-4a5b-abe4-ef08ccbe769f\",\"type\":\"BasicTickFormatter\"},\"plot\":{\"id\":\"df223a96-8016-418e-ab4b-d1b099c37b1f\",\"subtype\":\"Figure\",\"type\":\"Plot\"},\"ticker\":{\"id\":\"7a22400b-c926-4662-8b10-1acb4888c25a\",\"type\":\"BasicTicker\"}},\"id\":\"6b30942e-86d0-4326-a46c-7bc00ed0771b\",\"type\":\"LinearAxis\"},{\"attributes\":{\"fill_alpha\":{\"value\":0.1},\"fill_color\":{\"value\":\"#1f77b4\"},\"line_alpha\":{\"value\":0.1},\"line_color\":{\"value\":\"#1f77b4\"},\"top\":{\"field\":\"flux\"},\"width\":{\"value\":0.9},\"x\":{\"field\":\"band\"}},\"id\":\"e1c10717-77a8-445e-9e6a-255350ecfb10\",\"type\":\"VBar\"},{\"attributes\":{},\"id\":\"8ac3118a-e4c7-41fc-bf76-d0c9071f1d6e\",\"type\":\"WheelZoomTool\"},{\"attributes\":{},\"id\":\"e8a611ad-2a35-45c5-bccd-6180778e1c28\",\"type\":\"CategoricalScale\"},{\"attributes\":{\"axis_label\":\"flux (W m-2)\",\"formatter\":{\"id\":\"e1f782a4-a00f-4df3-a52f-18c384deb2ae\",\"type\":\"BasicTickFormatter\"},\"plot\":{\"id\":\"3b0a9f74-5e87-44fe-b52e-75c16e4ec105\",\"subtype\":\"Figure\",\"type\":\"Plot\"},\"ticker\":{\"id\":\"d3e621c1-7635-4ba8-a90d-a6a5209dc4b4\",\"type\":\"BasicTicker\"}},\"id\":\"0b04916d-340d-4608-813a-10ccb9fb7341\",\"type\":\"LinearAxis\"},{\"attributes\":{},\"id\":\"01a3d148-0a3d-4420-ba0b-80b9db0b9bdb\",\"type\":\"LinearScale\"},{\"attributes\":{\"data_source\":{\"id\":\"7c2730af-cdec-4ac8-bb4d-4062d216d92a\",\"type\":\"ColumnDataSource\"},\"glyph\":{\"id\":\"bd763ea3-5808-49b0-a174-1a99e3c63d78\",\"type\":\"VBar\"},\"hover_glyph\":null,\"muted_glyph\":null,\"nonselection_glyph\":{\"id\":\"e1c10717-77a8-445e-9e6a-255350ecfb10\",\"type\":\"VBar\"},\"selection_glyph\":null,\"view\":{\"id\":\"20440d78-a810-4d60-8783-999a0dca62df\",\"type\":\"CDSView\"}},\"id\":\"75b6b547-617c-472e-896c-14e46f1e03d7\",\"type\":\"GlyphRenderer\"},{\"attributes\":{},\"id\":\"a2d9d5fb-4d5e-4a51-b72a-24a43625cb81\",\"type\":\"Selection\"},{\"attributes\":{\"axis_label\":\"spectral band\",\"formatter\":{\"id\":\"724c7bb4-eb2e-4fed-a837-e0b6dcb9eb66\",\"type\":\"CategoricalTickFormatter\"},\"plot\":{\"id\":\"3b0a9f74-5e87-44fe-b52e-75c16e4ec105\",\"subtype\":\"Figure\",\"type\":\"Plot\"},\"ticker\":{\"id\":\"5a39b30b-a01b-4a93-8329-f324b8193292\",\"type\":\"CategoricalTicker\"}},\"id\":\"12f87e42-637f-435b-87e9-aef2dfd547d3\",\"type\":\"CategoricalAxis\"},{\"attributes\":{},\"id\":\"76acdd02-bace-4571-a8bb-93064083b707\",\"type\":\"LinearScale\"},{\"attributes\":{},\"id\":\"d81585ee-cf3b-4f69-88d0-d94181e6c4d5\",\"type\":\"PanTool\"},{\"attributes\":{},\"id\":\"84d28ea5-ffe7-470d-8f33-d04769b34272\",\"type\":\"LinearScale\"},{\"attributes\":{},\"id\":\"6e70670b-8b68-483a-bec9-0b9efe3b4be4\",\"type\":\"CategoricalTickFormatter\"},{\"attributes\":{},\"id\":\"9a17d22c-ecd0-4ad8-9f74-c1e22b6b6602\",\"type\":\"SaveTool\"},{\"attributes\":{\"below\":[{\"id\":\"57030a46-5a3d-4c63-b4b8-245bbd2f40f9\",\"type\":\"CategoricalAxis\"}],\"left\":[{\"id\":\"02d5d2ae-f302-4e4a-900e-a00de50fc847\",\"type\":\"LinearAxis\"}],\"plot_height\":300,\"plot_width\":300,\"renderers\":[{\"id\":\"57030a46-5a3d-4c63-b4b8-245bbd2f40f9\",\"type\":\"CategoricalAxis\"},{\"id\":\"d7c925f6-5cb0-4234-bcd0-e711b158531c\",\"type\":\"Grid\"},{\"id\":\"02d5d2ae-f302-4e4a-900e-a00de50fc847\",\"type\":\"LinearAxis\"},{\"id\":\"18ab1ea6-1d52-441c-8912-f0c04c877cac\",\"type\":\"Grid\"},{\"id\":\"cc8f0923-9fe5-4bfe-adbe-3e40bc0c1f90\",\"type\":\"BoxAnnotation\"},{\"id\":\"dec80e1d-03ff-4d38-83f3-6cb0177bd6cf\",\"type\":\"GlyphRenderer\"}],\"title\":{\"id\":\"1da2ce0b-25b4-4665-a1e3-b807a99f6d37\",\"type\":\"Title\"},\"toolbar\":{\"id\":\"2c8dbce7-df20-46e3-a495-8f3a9cb49f70\",\"type\":\"Toolbar\"},\"toolbar_location\":null,\"x_range\":{\"id\":\"edde871a-11a2-4f58-a100-103cbc4d1223\",\"type\":\"FactorRange\"},\"x_scale\":{\"id\":\"e8a611ad-2a35-45c5-bccd-6180778e1c28\",\"type\":\"CategoricalScale\"},\"y_range\":{\"id\":\"9d8d6006-b906-4527-9f37-d838152717b5\",\"type\":\"DataRange1d\"},\"y_scale\":{\"id\":\"76acdd02-bace-4571-a8bb-93064083b707\",\"type\":\"LinearScale\"}},\"id\":\"2bc6aa67-270f-40cd-b440-91684db5d065\",\"subtype\":\"Figure\",\"type\":\"Plot\"},{\"attributes\":{\"callback\":null,\"factors\":[\"1\",\"2\",\"3\",\"4\",\"5\",\"6\",\"7\",\"8\",\"9\",\"10\",\"11\"]},\"id\":\"edde871a-11a2-4f58-a100-103cbc4d1223\",\"type\":\"FactorRange\"},{\"attributes\":{},\"id\":\"bd38969f-c8f7-48e9-9d07-a43ef2fc2e46\",\"type\":\"WheelZoomTool\"},{\"attributes\":{\"axis_label\":\"spectral band\",\"formatter\":{\"id\":\"6e70670b-8b68-483a-bec9-0b9efe3b4be4\",\"type\":\"CategoricalTickFormatter\"},\"plot\":{\"id\":\"df223a96-8016-418e-ab4b-d1b099c37b1f\",\"subtype\":\"Figure\",\"type\":\"Plot\"},\"ticker\":{\"id\":\"dc5441d5-550e-4653-bef3-a136efc20b9c\",\"type\":\"CategoricalTicker\"}},\"id\":\"8d0450a4-a4eb-48c2-bdde-3161b4992404\",\"type\":\"CategoricalAxis\"},{\"attributes\":{\"fill_alpha\":{\"value\":0.1},\"fill_color\":{\"value\":\"#1f77b4\"},\"line_alpha\":{\"value\":0.1},\"line_color\":{\"value\":\"#1f77b4\"},\"top\":{\"field\":\"flux\"},\"width\":{\"value\":0.9},\"x\":{\"field\":\"band\"}},\"id\":\"f8f453fe-2695-4212-a3c2-ebf3dbf6ae7d\",\"type\":\"VBar\"},{\"attributes\":{\"callback\":null},\"id\":\"9d8d6006-b906-4527-9f37-d838152717b5\",\"type\":\"DataRange1d\"},{\"attributes\":{\"axis_label\":\"spectral band\",\"formatter\":{\"id\":\"120d8eed-1872-46e8-be30-5551d8f6104f\",\"type\":\"CategoricalTickFormatter\"},\"plot\":{\"id\":\"2bc6aa67-270f-40cd-b440-91684db5d065\",\"subtype\":\"Figure\",\"type\":\"Plot\"},\"ticker\":{\"id\":\"f6f72578-2012-4134-8067-1fc6af65c85d\",\"type\":\"CategoricalTicker\"}},\"id\":\"57030a46-5a3d-4c63-b4b8-245bbd2f40f9\",\"type\":\"CategoricalAxis\"},{\"attributes\":{},\"id\":\"7a22400b-c926-4662-8b10-1acb4888c25a\",\"type\":\"BasicTicker\"},{\"attributes\":{},\"id\":\"f6f72578-2012-4134-8067-1fc6af65c85d\",\"type\":\"CategoricalTicker\"},{\"attributes\":{\"fill_color\":{\"value\":\"#1f77b4\"},\"line_color\":{\"value\":\"#1f77b4\"},\"top\":{\"field\":\"flux\"},\"width\":{\"value\":0.9},\"x\":{\"field\":\"band\"}},\"id\":\"b48a62a0-6b65-4c10-bd87-ddaf33a677c5\",\"type\":\"VBar\"},{\"attributes\":{},\"id\":\"2ce4893e-227c-45f7-bc1c-9f6cae410e72\",\"type\":\"BasicTicker\"},{\"attributes\":{\"data_source\":{\"id\":\"4def582b-6841-4aaa-b88e-19060e3db4c4\",\"type\":\"ColumnDataSource\"},\"glyph\":{\"id\":\"80543566-782f-4a52-a2f6-51d2f792a953\",\"type\":\"VBar\"},\"hover_glyph\":null,\"muted_glyph\":null,\"nonselection_glyph\":{\"id\":\"f8384df0-5aea-41ce-bc00-8ffb0a016fa8\",\"type\":\"VBar\"},\"selection_glyph\":null,\"view\":{\"id\":\"80e585fc-4099-4a54-ab11-12bb2a717c7b\",\"type\":\"CDSView\"}},\"id\":\"1f340c68-ff03-4e5b-826b-9e536f91b311\",\"type\":\"GlyphRenderer\"},{\"attributes\":{\"dimension\":1,\"plot\":{\"id\":\"2bc6aa67-270f-40cd-b440-91684db5d065\",\"subtype\":\"Figure\",\"type\":\"Plot\"},\"ticker\":{\"id\":\"2ce4893e-227c-45f7-bc1c-9f6cae410e72\",\"type\":\"BasicTicker\"}},\"id\":\"18ab1ea6-1d52-441c-8912-f0c04c877cac\",\"type\":\"Grid\"},{\"attributes\":{\"bottom_units\":\"screen\",\"fill_alpha\":{\"value\":0.5},\"fill_color\":{\"value\":\"lightgrey\"},\"left_units\":\"screen\",\"level\":\"overlay\",\"line_alpha\":{\"value\":1.0},\"line_color\":{\"value\":\"black\"},\"line_dash\":[4,4],\"line_width\":{\"value\":2},\"plot\":null,\"render_mode\":\"css\",\"right_units\":\"screen\",\"top_units\":\"screen\"},\"id\":\"cc8f0923-9fe5-4bfe-adbe-3e40bc0c1f90\",\"type\":\"BoxAnnotation\"},{\"attributes\":{},\"id\":\"47378059-7358-438b-aa2a-266446143171\",\"type\":\"CategoricalScale\"},{\"attributes\":{},\"id\":\"3ea7d1f5-7ea1-4149-9192-cf3189bad02d\",\"type\":\"BasicTickFormatter\"},{\"attributes\":{\"overlay\":{\"id\":\"cc8f0923-9fe5-4bfe-adbe-3e40bc0c1f90\",\"type\":\"BoxAnnotation\"}},\"id\":\"43ecdf23-dae9-4f5e-ac6c-028137233fa8\",\"type\":\"BoxZoomTool\"},{\"attributes\":{},\"id\":\"e351167f-bfbb-4181-9e2d-195e0b580b1d\",\"type\":\"PanTool\"},{\"attributes\":{\"active_drag\":\"auto\",\"active_inspect\":\"auto\",\"active_scroll\":\"auto\",\"active_tap\":\"auto\",\"tools\":[{\"id\":\"d81585ee-cf3b-4f69-88d0-d94181e6c4d5\",\"type\":\"PanTool\"},{\"id\":\"8ac3118a-e4c7-41fc-bf76-d0c9071f1d6e\",\"type\":\"WheelZoomTool\"},{\"id\":\"e448c344-8bfc-4865-b89a-8cc8c0f77d22\",\"type\":\"BoxZoomTool\"},{\"id\":\"9a17d22c-ecd0-4ad8-9f74-c1e22b6b6602\",\"type\":\"SaveTool\"},{\"id\":\"0da18602-e1dd-4b51-8129-f684ab000be3\",\"type\":\"ResetTool\"},{\"id\":\"daa2eeda-6513-41d9-ac60-000d89f503bb\",\"type\":\"HelpTool\"}]},\"id\":\"d9f6fe25-62bb-4929-b048-5b356c854b64\",\"type\":\"Toolbar\"},{\"attributes\":{\"data_source\":{\"id\":\"37e08e19-157f-4b80-900c-8c33b32cdbf4\",\"type\":\"ColumnDataSource\"},\"glyph\":{\"id\":\"b48a62a0-6b65-4c10-bd87-ddaf33a677c5\",\"type\":\"VBar\"},\"hover_glyph\":null,\"muted_glyph\":null,\"nonselection_glyph\":{\"id\":\"f8f453fe-2695-4212-a3c2-ebf3dbf6ae7d\",\"type\":\"VBar\"},\"selection_glyph\":null,\"view\":{\"id\":\"439a13e2-29c1-4ac0-946d-b370dcf0a1bf\",\"type\":\"CDSView\"}},\"id\":\"dec80e1d-03ff-4d38-83f3-6cb0177bd6cf\",\"type\":\"GlyphRenderer\"},{\"attributes\":{},\"id\":\"e7c1fb5f-f81b-4d0e-aa90-dd7d13323370\",\"type\":\"HelpTool\"},{\"attributes\":{\"tools\":[{\"id\":\"d81585ee-cf3b-4f69-88d0-d94181e6c4d5\",\"type\":\"PanTool\"},{\"id\":\"8ac3118a-e4c7-41fc-bf76-d0c9071f1d6e\",\"type\":\"WheelZoomTool\"},{\"id\":\"e448c344-8bfc-4865-b89a-8cc8c0f77d22\",\"type\":\"BoxZoomTool\"},{\"id\":\"9a17d22c-ecd0-4ad8-9f74-c1e22b6b6602\",\"type\":\"SaveTool\"},{\"id\":\"0da18602-e1dd-4b51-8129-f684ab000be3\",\"type\":\"ResetTool\"},{\"id\":\"daa2eeda-6513-41d9-ac60-000d89f503bb\",\"type\":\"HelpTool\"},{\"id\":\"bd256a83-1257-42d4-a35b-2c78ed1a44ca\",\"type\":\"PanTool\"},{\"id\":\"a927e071-6922-48b3-b33f-97689e8aa144\",\"type\":\"WheelZoomTool\"},{\"id\":\"a5756d05-fc0f-4a4f-b60c-cd1e74e4fe6f\",\"type\":\"BoxZoomTool\"},{\"id\":\"5f7507ad-5325-4e42-b15a-f61365cac332\",\"type\":\"SaveTool\"},{\"id\":\"ae07f944-76f0-47e5-833c-0652f5516046\",\"type\":\"ResetTool\"},{\"id\":\"ba8cf51e-86a3-46cc-a55f-64b0d688b027\",\"type\":\"HelpTool\"},{\"id\":\"e351167f-bfbb-4181-9e2d-195e0b580b1d\",\"type\":\"PanTool\"},{\"id\":\"bd38969f-c8f7-48e9-9d07-a43ef2fc2e46\",\"type\":\"WheelZoomTool\"},{\"id\":\"43ecdf23-dae9-4f5e-ac6c-028137233fa8\",\"type\":\"BoxZoomTool\"},{\"id\":\"cb7a718a-404a-4a44-a5c6-8afddbdb7bb7\",\"type\":\"SaveTool\"},{\"id\":\"5c0f4276-b0bb-4f5f-88b1-f54490f86038\",\"type\":\"ResetTool\"},{\"id\":\"e7c1fb5f-f81b-4d0e-aa90-dd7d13323370\",\"type\":\"HelpTool\"}]},\"id\":\"31c69c73-f20e-4961-bb5d-805a18d670b9\",\"type\":\"ProxyToolbar\"},{\"attributes\":{},\"id\":\"cb7a718a-404a-4a44-a5c6-8afddbdb7bb7\",\"type\":\"SaveTool\"},{\"attributes\":{\"bottom_units\":\"screen\",\"fill_alpha\":{\"value\":0.5},\"fill_color\":{\"value\":\"lightgrey\"},\"left_units\":\"screen\",\"level\":\"overlay\",\"line_alpha\":{\"value\":1.0},\"line_color\":{\"value\":\"black\"},\"line_dash\":[4,4],\"line_width\":{\"value\":2},\"plot\":null,\"render_mode\":\"css\",\"right_units\":\"screen\",\"top_units\":\"screen\"},\"id\":\"6e08529f-eb03-492a-8898-dd5867ce4140\",\"type\":\"BoxAnnotation\"},{\"attributes\":{},\"id\":\"5c0f4276-b0bb-4f5f-88b1-f54490f86038\",\"type\":\"ResetTool\"},{\"attributes\":{\"fill_alpha\":{\"value\":0.1},\"fill_color\":{\"value\":\"#1f77b4\"},\"line_alpha\":{\"value\":0.1},\"line_color\":{\"value\":\"#1f77b4\"},\"top\":{\"field\":\"flux\"},\"width\":{\"value\":0.9},\"x\":{\"field\":\"band\"}},\"id\":\"f8384df0-5aea-41ce-bc00-8ffb0a016fa8\",\"type\":\"VBar\"},{\"attributes\":{\"callback\":null,\"data\":{\"band\":[\"1\",\"2\",\"3\",\"4\",\"5\",\"6\",\"7\",\"8\",\"9\",\"10\",\"11\"],\"flux\":{\"__ndarray__\":\"AADADkbs874Asf1kjA/QPwCJuDmVDMq/ABz/PuPCoT9AQswlVVvjP2B9dVWgFt0/ACGfockPsj8AMLyS5LmOP4CtS43Qz9E/AED5u3fUiD9ASCdc2U+wPw==\",\"dtype\":\"float64\",\"shape\":[11]}},\"selected\":{\"id\":\"137b8111-814c-4b58-ae33-337c86270e73\",\"type\":\"Selection\"},\"selection_policy\":{\"id\":\"4f1ea8fe-681f-4a07-80fb-dbe5d230b322\",\"type\":\"UnionRenderers\"}},\"id\":\"7c2730af-cdec-4ac8-bb4d-4062d216d92a\",\"type\":\"ColumnDataSource\"},{\"attributes\":{\"plot\":null,\"text\":\"TOA flux. CLIRAD - CRD.\"},\"id\":\"fc821e26-f731-4319-9706-49c01c728384\",\"type\":\"Title\"},{\"attributes\":{},\"id\":\"4f1ea8fe-681f-4a07-80fb-dbe5d230b322\",\"type\":\"UnionRenderers\"},{\"attributes\":{},\"id\":\"5a6ee853-167e-463f-bad8-58197430b5b3\",\"type\":\"UnionRenderers\"},{\"attributes\":{\"children\":[{\"id\":\"5b95ed4e-9758-409e-93d7-daa2591f0dd2\",\"type\":\"Row\"}]},\"id\":\"30029e00-9a0f-4839-9478-f83edd86992b\",\"type\":\"Column\"},{\"attributes\":{\"plot\":{\"id\":\"df223a96-8016-418e-ab4b-d1b099c37b1f\",\"subtype\":\"Figure\",\"type\":\"Plot\"},\"ticker\":{\"id\":\"dc5441d5-550e-4653-bef3-a136efc20b9c\",\"type\":\"CategoricalTicker\"}},\"id\":\"23f1934b-7522-4a4b-8af2-a077ff3c0dc5\",\"type\":\"Grid\"},{\"attributes\":{\"source\":{\"id\":\"37e08e19-157f-4b80-900c-8c33b32cdbf4\",\"type\":\"ColumnDataSource\"}},\"id\":\"439a13e2-29c1-4ac0-946d-b370dcf0a1bf\",\"type\":\"CDSView\"},{\"attributes\":{},\"id\":\"0c308e4c-654b-4727-8867-22c9e5091616\",\"type\":\"UnionRenderers\"},{\"attributes\":{\"children\":[{\"id\":\"8ab7f6cc-ed62-4c40-8748-4e6687dc9a5b\",\"type\":\"ToolbarBox\"},{\"id\":\"30029e00-9a0f-4839-9478-f83edd86992b\",\"type\":\"Column\"}]},\"id\":\"b1c79b66-d2f3-4e8d-b62d-709c4adde875\",\"type\":\"Column\"},{\"attributes\":{\"toolbar\":{\"id\":\"31c69c73-f20e-4961-bb5d-805a18d670b9\",\"type\":\"ProxyToolbar\"},\"toolbar_location\":\"above\"},\"id\":\"8ab7f6cc-ed62-4c40-8748-4e6687dc9a5b\",\"type\":\"ToolbarBox\"},{\"attributes\":{\"bottom_units\":\"screen\",\"fill_alpha\":{\"value\":0.5},\"fill_color\":{\"value\":\"lightgrey\"},\"left_units\":\"screen\",\"level\":\"overlay\",\"line_alpha\":{\"value\":1.0},\"line_color\":{\"value\":\"black\"},\"line_dash\":[4,4],\"line_width\":{\"value\":2},\"plot\":null,\"render_mode\":\"css\",\"right_units\":\"screen\",\"top_units\":\"screen\"},\"id\":\"82bc057d-0571-4f2e-9907-d181b3441f3d\",\"type\":\"BoxAnnotation\"},{\"attributes\":{},\"id\":\"137b8111-814c-4b58-ae33-337c86270e73\",\"type\":\"Selection\"},{\"attributes\":{},\"id\":\"2f672198-1764-4ed2-920b-5b7a038134ae\",\"type\":\"Selection\"},{\"attributes\":{},\"id\":\"0da18602-e1dd-4b51-8129-f684ab000be3\",\"type\":\"ResetTool\"},{\"attributes\":{},\"id\":\"13fbf2af-17c8-4a5b-abe4-ef08ccbe769f\",\"type\":\"BasicTickFormatter\"},{\"attributes\":{},\"id\":\"68586610-465e-4a61-9a92-e69a54ad4712\",\"type\":\"CategoricalScale\"},{\"attributes\":{\"source\":{\"id\":\"4def582b-6841-4aaa-b88e-19060e3db4c4\",\"type\":\"ColumnDataSource\"}},\"id\":\"80e585fc-4099-4a54-ab11-12bb2a717c7b\",\"type\":\"CDSView\"},{\"attributes\":{\"dimension\":1,\"plot\":{\"id\":\"df223a96-8016-418e-ab4b-d1b099c37b1f\",\"subtype\":\"Figure\",\"type\":\"Plot\"},\"ticker\":{\"id\":\"7a22400b-c926-4662-8b10-1acb4888c25a\",\"type\":\"BasicTicker\"}},\"id\":\"afde779d-8291-49f3-9380-e6da3ddf5969\",\"type\":\"Grid\"},{\"attributes\":{},\"id\":\"ba8cf51e-86a3-46cc-a55f-64b0d688b027\",\"type\":\"HelpTool\"},{\"attributes\":{\"callback\":null,\"factors\":[\"1\",\"2\",\"3\",\"4\",\"5\",\"6\",\"7\",\"8\",\"9\",\"10\",\"11\"]},\"id\":\"70ab08aa-5b7d-4178-b0d4-da94206a7af6\",\"type\":\"FactorRange\"},{\"attributes\":{\"overlay\":{\"id\":\"82bc057d-0571-4f2e-9907-d181b3441f3d\",\"type\":\"BoxAnnotation\"}},\"id\":\"e448c344-8bfc-4865-b89a-8cc8c0f77d22\",\"type\":\"BoxZoomTool\"}],\"root_ids\":[\"b1c79b66-d2f3-4e8d-b62d-709c4adde875\"]},\"title\":\"Bokeh Application\",\"version\":\"0.12.16\"}};\n",
       "  var render_items = [{\"docid\":\"d47f3dbe-94d5-408a-9a12-4aa4587789c7\",\"elementid\":\"f10cf21e-8d7c-4164-94a0-b0e1b824d12d\",\"modelid\":\"b1c79b66-d2f3-4e8d-b62d-709c4adde875\"}];\n",
       "  root.Bokeh.embed.embed_items_notebook(docs_json, render_items);\n",
       "\n",
       "  }\n",
       "  if (root.Bokeh !== undefined) {\n",
       "    embed_document(root);\n",
       "  } else {\n",
       "    var attempts = 0;\n",
       "    var timer = setInterval(function(root) {\n",
       "      if (root.Bokeh !== undefined) {\n",
       "        embed_document(root);\n",
       "        clearInterval(timer);\n",
       "      }\n",
       "      attempts++;\n",
       "      if (attempts > 100) {\n",
       "        console.log(\"Bokeh: ERROR: Unable to run BokehJS code because BokehJS library is missing\")\n",
       "        clearInterval(timer);\n",
       "      }\n",
       "    }, 10, root)\n",
       "  }\n",
       "})(window);"
      ],
      "application/vnd.bokehjs_exec.v0+json": ""
     },
     "metadata": {
      "application/vnd.bokehjs_exec.v0+json": {
       "id": "b1c79b66-d2f3-4e8d-b62d-709c4adde875"
      }
     },
     "output_type": "display_data"
    },
    {
     "data": {
      "text/markdown": [
       "*FIGURE.* Difference between CLIRAD and CRD in TOA, SFC and net atmosphere flux, in each spectral band."
      ],
      "text/plain": [
       "<IPython.core.display.Markdown object>"
      ]
     },
     "metadata": {},
     "output_type": "display_data"
    },
    {
     "data": {
      "text/html": [
       "<div>\n",
       "<style scoped>\n",
       "    .dataframe tbody tr th:only-of-type {\n",
       "        vertical-align: middle;\n",
       "    }\n",
       "\n",
       "    .dataframe tbody tr th {\n",
       "        vertical-align: top;\n",
       "    }\n",
       "\n",
       "    .dataframe thead th {\n",
       "        text-align: right;\n",
       "    }\n",
       "</style>\n",
       "<table border=\"1\" class=\"dataframe\">\n",
       "  <thead>\n",
       "    <tr style=\"text-align: right;\">\n",
       "      <th></th>\n",
       "      <th>OLR flux</th>\n",
       "      <th>SFC flux</th>\n",
       "      <th>ATM heating</th>\n",
       "    </tr>\n",
       "    <tr>\n",
       "      <th>Sum over bands</th>\n",
       "      <th></th>\n",
       "      <th></th>\n",
       "      <th></th>\n",
       "    </tr>\n",
       "  </thead>\n",
       "  <tbody>\n",
       "    <tr>\n",
       "      <th>CLIRAD - CRD</th>\n",
       "      <td>1.33</td>\n",
       "      <td>1.58</td>\n",
       "      <td>-0.25</td>\n",
       "    </tr>\n",
       "    <tr>\n",
       "      <th>CRD</th>\n",
       "      <td>-303.40</td>\n",
       "      <td>337.24</td>\n",
       "      <td>-181.37</td>\n",
       "    </tr>\n",
       "  </tbody>\n",
       "</table>\n",
       "</div>"
      ],
      "text/plain": [
       "                OLR flux  SFC flux  ATM heating\n",
       "Sum over bands                                 \n",
       "CLIRAD - CRD        1.33      1.58        -0.25\n",
       "CRD              -303.40    337.24      -181.37"
      ]
     },
     "metadata": {},
     "output_type": "display_data"
    },
    {
     "data": {
      "text/markdown": [
       "*TABLE.* Difference between CLIRAD and CRD in TOA, SFC and net atmosphere flux, over all spectral bands. CRD's TOA, SFC and net atmosphere flux, over all spectral bands."
      ],
      "text/plain": [
       "<IPython.core.display.Markdown object>"
      ]
     },
     "metadata": {},
     "output_type": "display_data"
    }
   ],
   "source": [
    "def show_html(s):\n",
    "    display.display(display.HTML(s))\n",
    "\n",
    "    \n",
    "def show_markdown(s):\n",
    "    display.display(display.Markdown(s))\n",
    "\n",
    "\n",
    "def script():\n",
    "    \n",
    "    d_atm = {'mls': 'mid-latitude summer',\n",
    "             'saw': 'sub-arctic winter',\n",
    "             'trp': 'tropical'}\n",
    "    \n",
    "    title = ('## Results over entire range of molecules'\n",
    "             ' and spectral bands')\n",
    "    \n",
    "    s_makeup = 'Makeup of atmosphere.'\n",
    "    s_atmpro = '# {}'\n",
    "    s_cool = 'Cooling rates. {}.'\n",
    "    s_flux = 'Fluxes. {}.'\n",
    "    \n",
    "    atmpros = ['mls', 'saw', 'trp']\n",
    "    \n",
    "    # TOC\n",
    "    show_markdown(title)\n",
    "    show_markdown('### Table of Contents')\n",
    "    show_html(climahtml.getHTML_hrefanchor(s_makeup))\n",
    "    for atmpro in atmpros:\n",
    "        show_markdown('**' + d_atm[atmpro] + '**')\n",
    "        show_html(climahtml.getHTML_hrefanchor(s_cool.format(atmpro)))\n",
    "        show_html(climahtml.getHTML_hrefanchor(s_flux.format(atmpro)))\n",
    "\n",
    "        \n",
    "    # Atmosphere makeup\n",
    "    show_html(climahtml.getHTML_idanchor(s_makeup))\n",
    "    show_markdown(climahtml.getMarkdown_sectitle(s_makeup))\n",
    "    show_makeup()\n",
    "#    show_grey_makeup()\n",
    "        \n",
    "    for atmpro in atmpros:\n",
    "        show_html(climahtml.getHTML_idanchor(s_cool.format(atmpro)))\n",
    "        show_markdown(\n",
    "            climahtml.getMarkdown_sectitle(s_cool.format(atmpro)))\n",
    "        show_cool(atmpro=atmpro)\n",
    "        show_html(climahtml.getHTML_idanchor(s_flux.format(atmpro)))\n",
    "        show_markdown(\n",
    "            climahtml.getMarkdown_sectitle(s_flux.format(atmpro)))\n",
    "        show_hist_flux(atmpro=atmpro)\n",
    "        show_tb_flux(atmpro=atmpro)\n",
    "    \n",
    "    \n",
    "script()  "
   ]
  },
  {
   "cell_type": "code",
   "execution_count": null,
   "metadata": {
    "collapsed": true
   },
   "outputs": [],
   "source": []
  },
  {
   "cell_type": "code",
   "execution_count": 345,
   "metadata": {},
   "outputs": [
    {
     "data": {
      "text/html": [
       "<script>\n",
       "code_show=true; \n",
       "function code_toggle() {\n",
       " if (code_show){\n",
       " $('div.input').hide();\n",
       " } else {\n",
       " $('div.input').show();\n",
       " }\n",
       " code_show = !code_show\n",
       "} \n",
       "$( document ).ready(code_toggle);\n",
       "</script>\n",
       "<form action=\"javascript:code_toggle()\"><input type=\"submit\" value=\"Click here to toggle on/off the raw code.\"></form>"
      ],
      "text/plain": [
       "<IPython.core.display.HTML object>"
      ]
     },
     "execution_count": 345,
     "metadata": {},
     "output_type": "execute_result"
    }
   ],
   "source": [
    "display.HTML('''<script>\n",
    "code_show=true; \n",
    "function code_toggle() {\n",
    " if (code_show){\n",
    " $('div.input').hide();\n",
    " } else {\n",
    " $('div.input').show();\n",
    " }\n",
    " code_show = !code_show\n",
    "} \n",
    "$( document ).ready(code_toggle);\n",
    "</script>\n",
    "<form action=\"javascript:code_toggle()\"><input type=\"submit\" value=\"Click here to toggle on/off the raw code.\"></form>''')"
   ]
  },
  {
   "cell_type": "code",
   "execution_count": null,
   "metadata": {
    "collapsed": true
   },
   "outputs": [],
   "source": []
  }
 ],
 "metadata": {
  "kernelspec": {
   "display_name": "Python 3",
   "language": "python",
   "name": "python3"
  },
  "language_info": {
   "codemirror_mode": {
    "name": "ipython",
    "version": 3
   },
   "file_extension": ".py",
   "mimetype": "text/x-python",
   "name": "python",
   "nbconvert_exporter": "python",
   "pygments_lexer": "ipython3",
   "version": "3.6.1"
  }
 },
 "nbformat": 4,
 "nbformat_minor": 2
}
