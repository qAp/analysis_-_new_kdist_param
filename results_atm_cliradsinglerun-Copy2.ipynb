{
 "cells": [
  {
   "cell_type": "code",
   "execution_count": 113,
   "metadata": {
    "collapsed": true
   },
   "outputs": [],
   "source": [
    "%reload_ext autoreload\n",
    "%autoreload 2\n",
    "\n",
    "import os\n",
    "import io\n",
    "import ast\n",
    "import json\n",
    "import importlib \n",
    "import itertools\n",
    "import collections\n",
    "import pprint\n",
    "\n",
    "import pymongo\n",
    "\n",
    "from bokeh.io import output_notebook, show\n",
    "from bokeh.layouts import gridplot\n",
    "from bokeh.plotting import figure\n",
    "from bokeh.models import Range1d, Legend, ColumnDataSource, FactorRange\n",
    "from bokeh.palettes import all_palettes\n",
    "from bokeh.transform import factor_cmap\n",
    "\n",
    "import matplotlib\n",
    "import matplotlib.pyplot as plt\n",
    "import numpy as np\n",
    "import pandas as pd\n",
    "import xarray as xr\n",
    "\n",
    "from climatools.atm.absorbers import *\n",
    "\n",
    "import climatools.lblnew.bestfit_params as bestfits\n",
    "from climatools.lblnew import setup_bestfit, setup_overlap\n",
    "import climatools.lblnew.pipeline as pipe_lblnew\n",
    "\n",
    "from climatools.cliradlw.utils import *\n",
    "import climatools.cliradlw.setup as setup_cliradlw\n",
    "import climatools.cliradlw.pipeline as pipe_cliradlw\n",
    "from climatools.cliradlw.dataset import *\n",
    "\n",
    "import climatools.html.html as climahtml\n",
    "from climatools.lblnew.dataio import *\n",
    "from climatools.plot.plot import *\n",
    "\n",
    "from IPython import display"
   ]
  },
  {
   "cell_type": "code",
   "execution_count": 114,
   "metadata": {
    "scrolled": true
   },
   "outputs": [
    {
     "data": {
      "text/html": [
       "\n",
       "    <div class=\"bk-root\">\n",
       "        <a href=\"https://bokeh.pydata.org\" target=\"_blank\" class=\"bk-logo bk-logo-small bk-logo-notebook\"></a>\n",
       "        <span id=\"c7f3048b-bb5e-4f31-aeee-27c4db748371\">Loading BokehJS ...</span>\n",
       "    </div>"
      ]
     },
     "metadata": {},
     "output_type": "display_data"
    },
    {
     "data": {
      "application/javascript": [
       "\n",
       "(function(root) {\n",
       "  function now() {\n",
       "    return new Date();\n",
       "  }\n",
       "\n",
       "  var force = true;\n",
       "\n",
       "  if (typeof (root._bokeh_onload_callbacks) === \"undefined\" || force === true) {\n",
       "    root._bokeh_onload_callbacks = [];\n",
       "    root._bokeh_is_loading = undefined;\n",
       "  }\n",
       "\n",
       "  var JS_MIME_TYPE = 'application/javascript';\n",
       "  var HTML_MIME_TYPE = 'text/html';\n",
       "  var EXEC_MIME_TYPE = 'application/vnd.bokehjs_exec.v0+json';\n",
       "  var CLASS_NAME = 'output_bokeh rendered_html';\n",
       "\n",
       "  /**\n",
       "   * Render data to the DOM node\n",
       "   */\n",
       "  function render(props, node) {\n",
       "    var script = document.createElement(\"script\");\n",
       "    node.appendChild(script);\n",
       "  }\n",
       "\n",
       "  /**\n",
       "   * Handle when an output is cleared or removed\n",
       "   */\n",
       "  function handleClearOutput(event, handle) {\n",
       "    var cell = handle.cell;\n",
       "\n",
       "    var id = cell.output_area._bokeh_element_id;\n",
       "    var server_id = cell.output_area._bokeh_server_id;\n",
       "    // Clean up Bokeh references\n",
       "    if (id !== undefined) {\n",
       "      Bokeh.index[id].model.document.clear();\n",
       "      delete Bokeh.index[id];\n",
       "    }\n",
       "\n",
       "    if (server_id !== undefined) {\n",
       "      // Clean up Bokeh references\n",
       "      var cmd = \"from bokeh.io.state import curstate; print(curstate().uuid_to_server['\" + server_id + \"'].get_sessions()[0].document.roots[0]._id)\";\n",
       "      cell.notebook.kernel.execute(cmd, {\n",
       "        iopub: {\n",
       "          output: function(msg) {\n",
       "            var element_id = msg.content.text.trim();\n",
       "            Bokeh.index[element_id].model.document.clear();\n",
       "            delete Bokeh.index[element_id];\n",
       "          }\n",
       "        }\n",
       "      });\n",
       "      // Destroy server and session\n",
       "      var cmd = \"import bokeh.io.notebook as ion; ion.destroy_server('\" + server_id + \"')\";\n",
       "      cell.notebook.kernel.execute(cmd);\n",
       "    }\n",
       "  }\n",
       "\n",
       "  /**\n",
       "   * Handle when a new output is added\n",
       "   */\n",
       "  function handleAddOutput(event, handle) {\n",
       "    var output_area = handle.output_area;\n",
       "    var output = handle.output;\n",
       "\n",
       "    // limit handleAddOutput to display_data with EXEC_MIME_TYPE content only\n",
       "    if ((output.output_type != \"display_data\") || (!output.data.hasOwnProperty(EXEC_MIME_TYPE))) {\n",
       "      return\n",
       "    }\n",
       "\n",
       "    var toinsert = output_area.element.find(\".\" + CLASS_NAME.split(' ')[0]);\n",
       "\n",
       "    if (output.metadata[EXEC_MIME_TYPE][\"id\"] !== undefined) {\n",
       "      toinsert[toinsert.length - 1].firstChild.textContent = output.data[JS_MIME_TYPE];\n",
       "      // store reference to embed id on output_area\n",
       "      output_area._bokeh_element_id = output.metadata[EXEC_MIME_TYPE][\"id\"];\n",
       "    }\n",
       "    if (output.metadata[EXEC_MIME_TYPE][\"server_id\"] !== undefined) {\n",
       "      var bk_div = document.createElement(\"div\");\n",
       "      bk_div.innerHTML = output.data[HTML_MIME_TYPE];\n",
       "      var script_attrs = bk_div.children[0].attributes;\n",
       "      for (var i = 0; i < script_attrs.length; i++) {\n",
       "        toinsert[toinsert.length - 1].firstChild.setAttribute(script_attrs[i].name, script_attrs[i].value);\n",
       "      }\n",
       "      // store reference to server id on output_area\n",
       "      output_area._bokeh_server_id = output.metadata[EXEC_MIME_TYPE][\"server_id\"];\n",
       "    }\n",
       "  }\n",
       "\n",
       "  function register_renderer(events, OutputArea) {\n",
       "\n",
       "    function append_mime(data, metadata, element) {\n",
       "      // create a DOM node to render to\n",
       "      var toinsert = this.create_output_subarea(\n",
       "        metadata,\n",
       "        CLASS_NAME,\n",
       "        EXEC_MIME_TYPE\n",
       "      );\n",
       "      this.keyboard_manager.register_events(toinsert);\n",
       "      // Render to node\n",
       "      var props = {data: data, metadata: metadata[EXEC_MIME_TYPE]};\n",
       "      render(props, toinsert[toinsert.length - 1]);\n",
       "      element.append(toinsert);\n",
       "      return toinsert\n",
       "    }\n",
       "\n",
       "    /* Handle when an output is cleared or removed */\n",
       "    events.on('clear_output.CodeCell', handleClearOutput);\n",
       "    events.on('delete.Cell', handleClearOutput);\n",
       "\n",
       "    /* Handle when a new output is added */\n",
       "    events.on('output_added.OutputArea', handleAddOutput);\n",
       "\n",
       "    /**\n",
       "     * Register the mime type and append_mime function with output_area\n",
       "     */\n",
       "    OutputArea.prototype.register_mime_type(EXEC_MIME_TYPE, append_mime, {\n",
       "      /* Is output safe? */\n",
       "      safe: true,\n",
       "      /* Index of renderer in `output_area.display_order` */\n",
       "      index: 0\n",
       "    });\n",
       "  }\n",
       "\n",
       "  // register the mime type if in Jupyter Notebook environment and previously unregistered\n",
       "  if (root.Jupyter !== undefined) {\n",
       "    var events = require('base/js/events');\n",
       "    var OutputArea = require('notebook/js/outputarea').OutputArea;\n",
       "\n",
       "    if (OutputArea.prototype.mime_types().indexOf(EXEC_MIME_TYPE) == -1) {\n",
       "      register_renderer(events, OutputArea);\n",
       "    }\n",
       "  }\n",
       "\n",
       "  \n",
       "  if (typeof (root._bokeh_timeout) === \"undefined\" || force === true) {\n",
       "    root._bokeh_timeout = Date.now() + 5000;\n",
       "    root._bokeh_failed_load = false;\n",
       "  }\n",
       "\n",
       "  var NB_LOAD_WARNING = {'data': {'text/html':\n",
       "     \"<div style='background-color: #fdd'>\\n\"+\n",
       "     \"<p>\\n\"+\n",
       "     \"BokehJS does not appear to have successfully loaded. If loading BokehJS from CDN, this \\n\"+\n",
       "     \"may be due to a slow or bad network connection. Possible fixes:\\n\"+\n",
       "     \"</p>\\n\"+\n",
       "     \"<ul>\\n\"+\n",
       "     \"<li>re-rerun `output_notebook()` to attempt to load from CDN again, or</li>\\n\"+\n",
       "     \"<li>use INLINE resources instead, as so:</li>\\n\"+\n",
       "     \"</ul>\\n\"+\n",
       "     \"<code>\\n\"+\n",
       "     \"from bokeh.resources import INLINE\\n\"+\n",
       "     \"output_notebook(resources=INLINE)\\n\"+\n",
       "     \"</code>\\n\"+\n",
       "     \"</div>\"}};\n",
       "\n",
       "  function display_loaded() {\n",
       "    var el = document.getElementById(\"c7f3048b-bb5e-4f31-aeee-27c4db748371\");\n",
       "    if (el != null) {\n",
       "      el.textContent = \"BokehJS is loading...\";\n",
       "    }\n",
       "    if (root.Bokeh !== undefined) {\n",
       "      if (el != null) {\n",
       "        el.textContent = \"BokehJS \" + root.Bokeh.version + \" successfully loaded.\";\n",
       "      }\n",
       "    } else if (Date.now() < root._bokeh_timeout) {\n",
       "      setTimeout(display_loaded, 100)\n",
       "    }\n",
       "  }\n",
       "\n",
       "\n",
       "  function run_callbacks() {\n",
       "    try {\n",
       "      root._bokeh_onload_callbacks.forEach(function(callback) { callback() });\n",
       "    }\n",
       "    finally {\n",
       "      delete root._bokeh_onload_callbacks\n",
       "    }\n",
       "    console.info(\"Bokeh: all callbacks have finished\");\n",
       "  }\n",
       "\n",
       "  function load_libs(js_urls, callback) {\n",
       "    root._bokeh_onload_callbacks.push(callback);\n",
       "    if (root._bokeh_is_loading > 0) {\n",
       "      console.log(\"Bokeh: BokehJS is being loaded, scheduling callback at\", now());\n",
       "      return null;\n",
       "    }\n",
       "    if (js_urls == null || js_urls.length === 0) {\n",
       "      run_callbacks();\n",
       "      return null;\n",
       "    }\n",
       "    console.log(\"Bokeh: BokehJS not loaded, scheduling load and callback at\", now());\n",
       "    root._bokeh_is_loading = js_urls.length;\n",
       "    for (var i = 0; i < js_urls.length; i++) {\n",
       "      var url = js_urls[i];\n",
       "      var s = document.createElement('script');\n",
       "      s.src = url;\n",
       "      s.async = false;\n",
       "      s.onreadystatechange = s.onload = function() {\n",
       "        root._bokeh_is_loading--;\n",
       "        if (root._bokeh_is_loading === 0) {\n",
       "          console.log(\"Bokeh: all BokehJS libraries loaded\");\n",
       "          run_callbacks()\n",
       "        }\n",
       "      };\n",
       "      s.onerror = function() {\n",
       "        console.warn(\"failed to load library \" + url);\n",
       "      };\n",
       "      console.log(\"Bokeh: injecting script tag for BokehJS library: \", url);\n",
       "      document.getElementsByTagName(\"head\")[0].appendChild(s);\n",
       "    }\n",
       "  };var element = document.getElementById(\"c7f3048b-bb5e-4f31-aeee-27c4db748371\");\n",
       "  if (element == null) {\n",
       "    console.log(\"Bokeh: ERROR: autoload.js configured with elementid 'c7f3048b-bb5e-4f31-aeee-27c4db748371' but no matching script tag was found. \")\n",
       "    return false;\n",
       "  }\n",
       "\n",
       "  var js_urls = [\"https://cdn.pydata.org/bokeh/release/bokeh-0.12.16.min.js\", \"https://cdn.pydata.org/bokeh/release/bokeh-widgets-0.12.16.min.js\", \"https://cdn.pydata.org/bokeh/release/bokeh-tables-0.12.16.min.js\", \"https://cdn.pydata.org/bokeh/release/bokeh-gl-0.12.16.min.js\"];\n",
       "\n",
       "  var inline_js = [\n",
       "    function(Bokeh) {\n",
       "      Bokeh.set_log_level(\"info\");\n",
       "    },\n",
       "    \n",
       "    function(Bokeh) {\n",
       "      \n",
       "    },\n",
       "    function(Bokeh) {\n",
       "      console.log(\"Bokeh: injecting CSS: https://cdn.pydata.org/bokeh/release/bokeh-0.12.16.min.css\");\n",
       "      Bokeh.embed.inject_css(\"https://cdn.pydata.org/bokeh/release/bokeh-0.12.16.min.css\");\n",
       "      console.log(\"Bokeh: injecting CSS: https://cdn.pydata.org/bokeh/release/bokeh-widgets-0.12.16.min.css\");\n",
       "      Bokeh.embed.inject_css(\"https://cdn.pydata.org/bokeh/release/bokeh-widgets-0.12.16.min.css\");\n",
       "      console.log(\"Bokeh: injecting CSS: https://cdn.pydata.org/bokeh/release/bokeh-tables-0.12.16.min.css\");\n",
       "      Bokeh.embed.inject_css(\"https://cdn.pydata.org/bokeh/release/bokeh-tables-0.12.16.min.css\");\n",
       "    }\n",
       "  ];\n",
       "\n",
       "  function run_inline_js() {\n",
       "    \n",
       "    if ((root.Bokeh !== undefined) || (force === true)) {\n",
       "      for (var i = 0; i < inline_js.length; i++) {\n",
       "        inline_js[i].call(root, root.Bokeh);\n",
       "      }if (force === true) {\n",
       "        display_loaded();\n",
       "      }} else if (Date.now() < root._bokeh_timeout) {\n",
       "      setTimeout(run_inline_js, 100);\n",
       "    } else if (!root._bokeh_failed_load) {\n",
       "      console.log(\"Bokeh: BokehJS failed to load within specified timeout.\");\n",
       "      root._bokeh_failed_load = true;\n",
       "    } else if (force !== true) {\n",
       "      var cell = $(document.getElementById(\"c7f3048b-bb5e-4f31-aeee-27c4db748371\")).parents('.cell').data().cell;\n",
       "      cell.output_area.append_execute_result(NB_LOAD_WARNING)\n",
       "    }\n",
       "\n",
       "  }\n",
       "\n",
       "  if (root._bokeh_is_loading === 0) {\n",
       "    console.log(\"Bokeh: BokehJS loaded, going straight to plotting\");\n",
       "    run_inline_js();\n",
       "  } else {\n",
       "    load_libs(js_urls, function() {\n",
       "      console.log(\"Bokeh: BokehJS plotting callback run at\", now());\n",
       "      run_inline_js();\n",
       "    });\n",
       "  }\n",
       "}(window));"
      ],
      "application/vnd.bokehjs_load.v0+json": "\n(function(root) {\n  function now() {\n    return new Date();\n  }\n\n  var force = true;\n\n  if (typeof (root._bokeh_onload_callbacks) === \"undefined\" || force === true) {\n    root._bokeh_onload_callbacks = [];\n    root._bokeh_is_loading = undefined;\n  }\n\n  \n\n  \n  if (typeof (root._bokeh_timeout) === \"undefined\" || force === true) {\n    root._bokeh_timeout = Date.now() + 5000;\n    root._bokeh_failed_load = false;\n  }\n\n  var NB_LOAD_WARNING = {'data': {'text/html':\n     \"<div style='background-color: #fdd'>\\n\"+\n     \"<p>\\n\"+\n     \"BokehJS does not appear to have successfully loaded. If loading BokehJS from CDN, this \\n\"+\n     \"may be due to a slow or bad network connection. Possible fixes:\\n\"+\n     \"</p>\\n\"+\n     \"<ul>\\n\"+\n     \"<li>re-rerun `output_notebook()` to attempt to load from CDN again, or</li>\\n\"+\n     \"<li>use INLINE resources instead, as so:</li>\\n\"+\n     \"</ul>\\n\"+\n     \"<code>\\n\"+\n     \"from bokeh.resources import INLINE\\n\"+\n     \"output_notebook(resources=INLINE)\\n\"+\n     \"</code>\\n\"+\n     \"</div>\"}};\n\n  function display_loaded() {\n    var el = document.getElementById(\"c7f3048b-bb5e-4f31-aeee-27c4db748371\");\n    if (el != null) {\n      el.textContent = \"BokehJS is loading...\";\n    }\n    if (root.Bokeh !== undefined) {\n      if (el != null) {\n        el.textContent = \"BokehJS \" + root.Bokeh.version + \" successfully loaded.\";\n      }\n    } else if (Date.now() < root._bokeh_timeout) {\n      setTimeout(display_loaded, 100)\n    }\n  }\n\n\n  function run_callbacks() {\n    try {\n      root._bokeh_onload_callbacks.forEach(function(callback) { callback() });\n    }\n    finally {\n      delete root._bokeh_onload_callbacks\n    }\n    console.info(\"Bokeh: all callbacks have finished\");\n  }\n\n  function load_libs(js_urls, callback) {\n    root._bokeh_onload_callbacks.push(callback);\n    if (root._bokeh_is_loading > 0) {\n      console.log(\"Bokeh: BokehJS is being loaded, scheduling callback at\", now());\n      return null;\n    }\n    if (js_urls == null || js_urls.length === 0) {\n      run_callbacks();\n      return null;\n    }\n    console.log(\"Bokeh: BokehJS not loaded, scheduling load and callback at\", now());\n    root._bokeh_is_loading = js_urls.length;\n    for (var i = 0; i < js_urls.length; i++) {\n      var url = js_urls[i];\n      var s = document.createElement('script');\n      s.src = url;\n      s.async = false;\n      s.onreadystatechange = s.onload = function() {\n        root._bokeh_is_loading--;\n        if (root._bokeh_is_loading === 0) {\n          console.log(\"Bokeh: all BokehJS libraries loaded\");\n          run_callbacks()\n        }\n      };\n      s.onerror = function() {\n        console.warn(\"failed to load library \" + url);\n      };\n      console.log(\"Bokeh: injecting script tag for BokehJS library: \", url);\n      document.getElementsByTagName(\"head\")[0].appendChild(s);\n    }\n  };var element = document.getElementById(\"c7f3048b-bb5e-4f31-aeee-27c4db748371\");\n  if (element == null) {\n    console.log(\"Bokeh: ERROR: autoload.js configured with elementid 'c7f3048b-bb5e-4f31-aeee-27c4db748371' but no matching script tag was found. \")\n    return false;\n  }\n\n  var js_urls = [\"https://cdn.pydata.org/bokeh/release/bokeh-0.12.16.min.js\", \"https://cdn.pydata.org/bokeh/release/bokeh-widgets-0.12.16.min.js\", \"https://cdn.pydata.org/bokeh/release/bokeh-tables-0.12.16.min.js\", \"https://cdn.pydata.org/bokeh/release/bokeh-gl-0.12.16.min.js\"];\n\n  var inline_js = [\n    function(Bokeh) {\n      Bokeh.set_log_level(\"info\");\n    },\n    \n    function(Bokeh) {\n      \n    },\n    function(Bokeh) {\n      console.log(\"Bokeh: injecting CSS: https://cdn.pydata.org/bokeh/release/bokeh-0.12.16.min.css\");\n      Bokeh.embed.inject_css(\"https://cdn.pydata.org/bokeh/release/bokeh-0.12.16.min.css\");\n      console.log(\"Bokeh: injecting CSS: https://cdn.pydata.org/bokeh/release/bokeh-widgets-0.12.16.min.css\");\n      Bokeh.embed.inject_css(\"https://cdn.pydata.org/bokeh/release/bokeh-widgets-0.12.16.min.css\");\n      console.log(\"Bokeh: injecting CSS: https://cdn.pydata.org/bokeh/release/bokeh-tables-0.12.16.min.css\");\n      Bokeh.embed.inject_css(\"https://cdn.pydata.org/bokeh/release/bokeh-tables-0.12.16.min.css\");\n    }\n  ];\n\n  function run_inline_js() {\n    \n    if ((root.Bokeh !== undefined) || (force === true)) {\n      for (var i = 0; i < inline_js.length; i++) {\n        inline_js[i].call(root, root.Bokeh);\n      }if (force === true) {\n        display_loaded();\n      }} else if (Date.now() < root._bokeh_timeout) {\n      setTimeout(run_inline_js, 100);\n    } else if (!root._bokeh_failed_load) {\n      console.log(\"Bokeh: BokehJS failed to load within specified timeout.\");\n      root._bokeh_failed_load = true;\n    } else if (force !== true) {\n      var cell = $(document.getElementById(\"c7f3048b-bb5e-4f31-aeee-27c4db748371\")).parents('.cell').data().cell;\n      cell.output_area.append_execute_result(NB_LOAD_WARNING)\n    }\n\n  }\n\n  if (root._bokeh_is_loading === 0) {\n    console.log(\"Bokeh: BokehJS loaded, going straight to plotting\");\n    run_inline_js();\n  } else {\n    load_libs(js_urls, function() {\n      console.log(\"Bokeh: BokehJS plotting callback run at\", now());\n      run_inline_js();\n    });\n  }\n}(window));"
     },
     "metadata": {},
     "output_type": "display_data"
    }
   ],
   "source": [
    "output_notebook()"
   ]
  },
  {
   "cell_type": "code",
   "execution_count": 115,
   "metadata": {
    "collapsed": true
   },
   "outputs": [],
   "source": [
    "ATMPRO = dict(mls=294, saw=257, trp=300)"
   ]
  },
  {
   "cell_type": "code",
   "execution_count": 116,
   "metadata": {
    "collapsed": true
   },
   "outputs": [],
   "source": [
    "COMMITNUMBER = '1013f91'"
   ]
  },
  {
   "cell_type": "code",
   "execution_count": 117,
   "metadata": {
    "collapsed": true
   },
   "outputs": [],
   "source": [
    "client = pymongo.MongoClient('localhost', 27017)"
   ]
  },
  {
   "cell_type": "code",
   "execution_count": 118,
   "metadata": {
    "collapsed": true
   },
   "outputs": [],
   "source": [
    "def show_html(s):\n",
    "    display.display(display.HTML(s))\n",
    "\n",
    "    \n",
    "def show_markdown(s):\n",
    "    display.display(display.Markdown(s))"
   ]
  },
  {
   "cell_type": "code",
   "execution_count": 119,
   "metadata": {
    "collapsed": true
   },
   "outputs": [],
   "source": [
    "def to_lblnewparam(param=None):\n",
    "    '''\n",
    "    Convert clirad's input parameter dictionary \n",
    "    into something like lblnew's.\n",
    "    '''\n",
    "    band = param['band'][0]\n",
    "    band = mapband_new2old()[band]\n",
    "    atmpro = param['atmpro']\n",
    "    tsfc = param['tsfc']\n",
    "    \n",
    "    p = {'band': band, \n",
    "         'atmpro': atmpro, 'tsfc': tsfc,\n",
    "         'dv': .001, 'nv': 1000}\n",
    "    \n",
    "    if len(param['molecule']) > 1: p['molecule'] = param['molecule']\n",
    "    else: \n",
    "        molecule, conc = list(param['molecule'].items())[0]\n",
    "        p['molecule'] = molecule\n",
    "        if conc == 'atmpro': p['conc'] = None\n",
    "        else: p['conc'] = conc\n",
    "    return p\n",
    "\n",
    "def make_query(param=None):\n",
    "    q = {}\n",
    "    for n, v in param.items():\n",
    "        if n == 'molecule' and type(v) == dict:\n",
    "            for mol, conc in v.items():\n",
    "                q[f'param.molecule.{mol}'] = conc\n",
    "        else:\n",
    "            q[f'param.{n}'] = v\n",
    "    return q"
   ]
  },
  {
   "cell_type": "code",
   "execution_count": 120,
   "metadata": {
    "collapsed": true
   },
   "outputs": [],
   "source": [
    "def subparam_atm_clirad(atmpro='mls'):\n",
    "    commitnumber = COMMITNUMBER\n",
    "    atm = nongreys_byband()\n",
    "    band = list(atm.keys())\n",
    "    molecule = {mol: conc for _, molconcs in atm.items() \n",
    "                for mol, conc in molconcs.items()}\n",
    "    return dict(commitnumber=commitnumber,\n",
    "                band=band, molecule=molecule, \n",
    "                atmpro=atmpro, tsfc=ATMPRO[atmpro])\n",
    "\n",
    "def clirad_data_atm(params_atm=None):\n",
    "    for p in params_atm:\n",
    "        q = make_query(p)\n",
    "        r = client.cliradnew.lw.find_one(q)\n",
    "        fluxs, cools = [], []\n",
    "        if not r: print('No data found for', p['molecule'], p['band'])\n",
    "        else: \n",
    "            fluxs.append(load_output_file(io.StringIO(r['output_flux'])))\n",
    "            cools.append(load_output_file(io.StringIO(r['output_coolr'])))\n",
    "    return dict(flux=sum(fluxs), cool=sum(cools))"
   ]
  },
  {
   "cell_type": "code",
   "execution_count": 121,
   "metadata": {
    "collapsed": true,
    "scrolled": false
   },
   "outputs": [],
   "source": [
    "def load_lblnew_data(r):\n",
    "    '''\n",
    "    Loads a lblnew-bestfit mongodb document's fluxes and cooling rates.\n",
    "    '''\n",
    "    if 'ng_refs' in r['param']:\n",
    "        ns = {'ds_flux_crd': 'output_flux',\n",
    "              'ds_cool_crd': 'output_coolr',\n",
    "              'ds_flux_wgt': 'output_wfluxg',\n",
    "              'ds_cool_wgt': 'output_wcoolrg'}\n",
    "    else:\n",
    "        ns = {'ds_flux_crd': 'output_flux',\n",
    "              'ds_cool_crd': 'output_coolr',\n",
    "              'ds_flux_wgt': 'output_wflux',\n",
    "              'ds_cool_wgt': 'output_wcoolr'}\n",
    "    return {n: load_output_file(io.StringIO(r[s])) for n, s in ns.items()}\n",
    "\n",
    "def subparams_atm_lblnew(atmpro='mls'):\n",
    "    '''\n",
    "    Returns the list of {band, conc, molecule} dictionaries that\n",
    "    represent the model atmosphere.\n",
    "    '''  \n",
    "    atm = nongreys_byband()\n",
    "    subparams_clirad = [dict(band=[band], molecule=molconc,\n",
    "                             atmpro=atmpro, tsfc=ATMPRO[atmpro]) \n",
    "                        for band, molconc in atm.items()]\n",
    "    return [to_lblnewparam(p) for p in subparams_clirad]\n",
    "\n",
    "def crd_data_atm(params_atm=None):\n",
    "    '''\n",
    "    Returns Dataset containing CRD fluxes and cooling rates at\n",
    "    different pressures and spectral bands.\n",
    "    '''\n",
    "    results_atm = {}\n",
    "    for p in params_atm:\n",
    "        if isinstance(p['molecule'], dict): \n",
    "            collection = client.lblnew.overlap_lw\n",
    "        else: \n",
    "            collection = client.lblnew.bestfit_lw\n",
    "        \n",
    "        q = make_query(p)\n",
    "        r = collection.find_one(q)\n",
    "        if not r: print('No data found for', p['molecule'], p['band'])\n",
    "        else: results_atm[r['param']['band']] = load_lblnew_data(r)\n",
    "\n",
    "    bands = [mapband_old2new()[b] for b, _ in results_atm.items()]\n",
    "    fluxs = [d['ds_flux_crd'] for _, d in results_atm.items()]\n",
    "    cools = [d['ds_cool_crd'] for _, d in results_atm.items()]\n",
    "    \n",
    "    d = {}\n",
    "    d['flux'] = xr.concat(fluxs, dim=bands).rename({'concat_dim': 'band'})\n",
    "    d['cool'] = xr.concat(cools, dim=bands).rename({'concat_dim': 'band'})\n",
    "    return d"
   ]
  },
  {
   "cell_type": "code",
   "execution_count": 122,
   "metadata": {
    "collapsed": true
   },
   "outputs": [],
   "source": [
    "import rtmtools.clirad.sw.wrangle as cliradwrangle\n",
    "\n",
    "def oldclirad_data_atm():\n",
    "    '''\n",
    "    Load the OLD clirad's results. mls only.\n",
    "    '''\n",
    "    fpath = os.path.join('/chia_cluster/home/jackyu/radiation',\n",
    "                         'clirad-lw',\n",
    "                         'LW',\n",
    "                         'examples',\n",
    "                         'mls75_h2o_atmpro_co2_.0004_o3_atmpro_n2o_3.2e-7_ch4_1.8e-6_H2012',\n",
    "                         'OUTPUT_CLIRAD.dat')\n",
    "    \n",
    "    ds = cliradwrangle.load_OUTPUT_CLIRAD(readfrom=fpath)\n",
    "    \n",
    "    ds_cool = xr.Dataset()\n",
    "    ds_cool.coords['pressure'] = ('pressure', ds['layer_pressure'])\n",
    "    ds_cool.coords['band'] = ('band', ds['spectral_band'])\n",
    "    ds_cool['coolrg'] = (('band', 'pressure'), - ds['heating_rate'])\n",
    "    \n",
    "    ds_flux = xr.Dataset()\n",
    "    ds_flux.coords['pressure'] = ('pressure', ds['level_pressure'])\n",
    "    ds_flux.coords['band'] = ('band', ds['spectral_band'])\n",
    "    ds_flux['flug'] = (('band', 'pressure'), ds['flux_up'])\n",
    "    ds_flux['fldg'] = (('band', 'pressure'), ds['flux_down'])\n",
    "    ds_flux['fnetg'] = (('band', 'pressure'), ds['net_flux'])\n",
    "    \n",
    "    \n",
    "    d = {}\n",
    "    d['cool'] = ds_cool\n",
    "    d['flux'] = ds_flux\n",
    "    return d"
   ]
  },
  {
   "cell_type": "code",
   "execution_count": 123,
   "metadata": {
    "collapsed": true
   },
   "outputs": [],
   "source": [
    "def show_makeup():\n",
    "    df = pd.DataFrame()\n",
    "\n",
    "    for band, molecule in nongreys_byband().items():\n",
    "        for name, conc in molecule.items():\n",
    "            df.loc[name, band] = str(conc)\n",
    "\n",
    "    df = df.fillna(0)\n",
    "    df.columns.name = 'clirad band'\n",
    "    df.index.name = 'molecule'\n",
    "    \n",
    "    display.display(df)\n",
    "    \n",
    "    display.display(\n",
    "        display.Markdown('*TABLE.* Non-grey absorbers in the atmosphere.'))\n",
    "\n",
    "\n",
    "def show_grey_makeup():\n",
    "    df = pd.DataFrame()\n",
    "    \n",
    "    for band, molecule in greyabsorbers_by_band_atm().items():\n",
    "        if molecule == None:\n",
    "            pass\n",
    "        else:\n",
    "            for name, conc in molecule.items():\n",
    "                df.loc[name, band] = str(conc)\n",
    "                \n",
    "    df = df.fillna(0)\n",
    "    df.columns.name = 'clirad band'\n",
    "    df.index.name = 'absorber'\n",
    "    \n",
    "    display.display(df)\n",
    "    display.display(\n",
    "        display.Markdown('*TABLE.* Grey absorbers in the atmosphere.')\n",
    "    )"
   ]
  },
  {
   "cell_type": "code",
   "execution_count": 124,
   "metadata": {
    "collapsed": true
   },
   "outputs": [],
   "source": [
    "def fmt_cool(ds_in):\n",
    "    ds = ds_in.copy(deep=True)\n",
    "    dims = ['igg', 'g', 'i']\n",
    "    for dim in dims:\n",
    "        if dim in ds:\n",
    "            if ds[dim].shape == (1,): ds = ds.squeeze(dim).drop(dim)\n",
    "            elif ds[dim].shape == (): ds = ds.drop(dim)\n",
    "    if 'band' in ds.dims:\n",
    "        try:\n",
    "            ds = ds.squeeze('band')\n",
    "        except ValueError:\n",
    "            ds = ds.sum('band')     \n",
    "    return ds['coolrg']\n",
    "\n",
    "def nice_xlims(pltdata=None, prange=None):\n",
    "    \n",
    "    def get_slice(srs):\n",
    "        return srs.sel(pressure=slice(*prange))\n",
    "    \n",
    "    srss = [d['srs'] for d in pltdata]\n",
    "    vmin = min([get_slice(srs).min() for srs in srss])\n",
    "    vmax = max([get_slice(srs).max() for srs in srss])\n",
    "    dv = (vmax - vmin) * .01\n",
    "    return float(vmin - dv), float(vmax + dv)\n",
    "\n",
    "\n",
    "    \n",
    "def plt_cool_bokeh(pltdata=None, \n",
    "                   y_axis_type='linear', prange=(50, 1050)):\n",
    "    \n",
    "    ymin = 1e-2 \n",
    "    ymax = 1020\n",
    "    \n",
    "    p2 = figure(y_axis_type=y_axis_type, plot_width=300)\n",
    "    xmin, xmax = nice_xlims(pltdata, prange=prange)\n",
    "    \n",
    "    rs = []\n",
    "    for d in pltdata:\n",
    "        rd = []\n",
    "        if 'marker' in d:\n",
    "            r_mark = getattr(p2, d['marker'])(d['srs'].values, \n",
    "                        d['srs'].coords['pressure'].values,\n",
    "                        color=d['color'], alpha=.7)\n",
    "            rd.append(r_mark)\n",
    "        r_line = p2.line(d['srs'].values, \n",
    "                         d['srs'].coords['pressure'].values,\n",
    "                         color=d['color'], alpha=d['alpha'], \n",
    "                         line_width=d['line_width'], \n",
    "                         line_dash=d['line_dash'])\n",
    "        rd.append(r_line)\n",
    "      \n",
    "        rs.append(rd)\n",
    "        \n",
    "    p2.y_range = Range1d(ymax, ymin)  \n",
    "    p2.yaxis.axis_label = 'pressure [mb]'\n",
    "    \n",
    "    p2.x_range = Range1d(xmin, xmax)\n",
    "    p2.xaxis.axis_label = 'cooling rate [K/day]'\n",
    "    \n",
    "    items = [(d['label'], r) for r, d in zip(rs, pltdata)]\n",
    "    legend = Legend(items=items, location=(10, 0))\n",
    "    legend.label_text_font_size = '8pt'\n",
    "    p2.add_layout(legend, 'above')\n",
    "    p2.legend.orientation = 'horizontal'\n",
    "    p2.legend.location = 'top_center'\n",
    "    \n",
    "    return p2"
   ]
  },
  {
   "cell_type": "code",
   "execution_count": 125,
   "metadata": {
    "collapsed": true,
    "scrolled": false
   },
   "outputs": [],
   "source": [
    "def pltdata_cool(atmpro='mls'):\n",
    "    ds_clirad = clirad_data_atm(params_atm=[subparam_atm_clirad(atmpro=atmpro)])['cool']\n",
    "    ds_crd = crd_data_atm(params_atm=subparams_atm_lblnew(atmpro=atmpro))['cool']\n",
    "\n",
    "    colors = all_palettes['Set1'][4]\n",
    "    \n",
    "    data = [\n",
    "        {'label': 'CLIRAD',\n",
    "         'srs': fmt_cool(ds_clirad),\n",
    "         'line_dash': 'dashed', 'line_width': 5,\n",
    "         'color': colors[0], 'alpha': .6},\n",
    "        {'label': 'CRD',\n",
    "         'srs': fmt_cool(ds_crd),\n",
    "         'line_dash': 'solid', 'line_width': 1.5,\n",
    "         'marker': 'circle', 'marker_size': 5,\n",
    "         'color': colors[2], 'alpha': 1}\n",
    "    ]\n",
    "    \n",
    "    # include old CLIRAD's results for mls profile\n",
    "    if atmpro == 'mls':\n",
    "        d_oldclirad = oldclirad_data_atm()\n",
    "        ds_oldclirad = d_oldclirad['cool']        \n",
    "        data.append(\n",
    "            {'label': 'old CLIRAD (H2012)',\n",
    "             'srs': fmt_cool(ds_oldclirad),\n",
    "             'line_dash': 'solid', 'line_width': 1.5,\n",
    "             'marker': 'square', 'marker_size': 3,\n",
    "             'color': colors[3], 'alpha': .5})\n",
    "    return data\n",
    "\n",
    "\n",
    "def pltdata_cooldiff(atmpro='mls'):\n",
    "    ds_clirad = clirad_data_atm(params_atm=[subparam_atm_clirad(atmpro=atmpro)])['cool']\n",
    "    ds_crd = crd_data_atm(params_atm=subparams_atm_lblnew(atmpro=atmpro))['cool']    \n",
    "    \n",
    "    ds_diff = ds_clirad - ds_crd\n",
    "    \n",
    "    colors = all_palettes['Set1'][4]\n",
    "    \n",
    "    data = [\n",
    "        {'label': 'CLIRAD - CRD',\n",
    "         'srs': fmt_cool(ds_diff),\n",
    "         'line_dash': 'solid', 'line_width': 1.5, \n",
    "         'marker': 'circle', 'marker_size': 7,\n",
    "         'color': colors[3], 'alpha': .8}\n",
    "    ]\n",
    "    \n",
    "    # include old CLIRAD's results for mls profile\n",
    "    if atmpro == 'mls':\n",
    "        d_oldclirad = oldclirad_data_atm()\n",
    "        ds_oldclirad = d_oldclirad['cool']\n",
    "        ds_oldclirad.coords['pressure'] = ds_crd.coords['pressure']\n",
    "        ds_diff_old = ds_oldclirad.sum('band') - ds_crd.sum('band')\n",
    "        data.append(\n",
    "            {'label': 'old CLIRAD (H2012) - CRD',\n",
    "             'srs': fmt_cool(ds_diff_old),\n",
    "             'line_dash': 'dashed', 'line_width': 4,\n",
    "             'color': colors[1], 'alpha': .5}\n",
    "        )\n",
    "    return data\n",
    "\n",
    "\n",
    "def show_cool(atmpro='mls'):\n",
    "    data_cool = pltdata_cool(atmpro=atmpro)\n",
    "    p_cool_liny = plt_cool_bokeh(pltdata=data_cool)\n",
    "    p_cool_logy = plt_cool_bokeh(pltdata=data_cool, \n",
    "                                 y_axis_type='log',\n",
    "                                 prange=(.01, 200))\n",
    "    \n",
    "    data_cooldiff = pltdata_cooldiff(atmpro=atmpro)\n",
    "    p_cooldiff_logy = plt_cool_bokeh(pltdata=data_cooldiff,\n",
    "                                     y_axis_type='log',\n",
    "                                     prange=(.01, 200))\n",
    "    \n",
    "    everything = gridplot(p_cool_liny, p_cool_logy, \n",
    "                          p_cooldiff_logy,\n",
    "                          ncols=3)\n",
    "    show(everything)\n",
    "    display.display(\n",
    "        display.Markdown('*FIGURE.* Cooling rates & difference.'))\n",
    "    "
   ]
  },
  {
   "cell_type": "code",
   "execution_count": 126,
   "metadata": {
    "collapsed": true,
    "scrolled": false
   },
   "outputs": [],
   "source": [
    "def fmt_flux(ds_in):\n",
    "    ds = ds_in.copy(deep=True)\n",
    "    for dim in ['band', 'g']:\n",
    "        if dim in ds: ds = ds.sum(dim)\n",
    "        \n",
    "    for dim in ['i', 'igg', 'g']:\n",
    "        if dim in ds:\n",
    "            if ds[dim].shape == (1,): ds = ds.squeeze(dim).drop(dim)\n",
    "            elif ds[dim].shape == (): ds = ds.drop(dim)\n",
    "    return ds\n",
    "\n",
    "def hist_band_vs_flux(da, title='Title'):\n",
    "    da = da.sel(i=1)\n",
    "    bands = [str(b.values) for b in da['band']]\n",
    "    source = ColumnDataSource(data={'band': bands, 'flux': da.values})\n",
    "    p = figure(x_range=bands, title=title)\n",
    "    p.vbar(source=source, x='band', top='flux', width=.9)\n",
    "    p.yaxis.axis_label = 'flux (W m-2)'\n",
    "    p.xaxis.axis_label = 'spectral band'\n",
    "    return p\n",
    "\n",
    "def show_hist_flux(atmpro='mls'):\n",
    "    ds_crd = crd_data_atm(params_atm=subparams_atm_lblnew(atmpro=atmpro))['flux']\n",
    "    ds_clirad = clirad_data_atm(params_atm=[subparam_atm_clirad(atmpro=atmpro)])['flux']\n",
    "    \n",
    "    ip, varname = 0, 'flug'\n",
    "    da = (ds_clirad - ds_crd).isel(pressure=ip)[varname]\n",
    "    p_toa = hist_band_vs_flux(da, title='TOA flux. CLIRAD - CRD.')\n",
    "\n",
    "    ip, varname = -1, 'fldg'\n",
    "    da = (ds_clirad - ds_crd).isel(pressure=ip)[varname]\n",
    "    p_sfc = hist_band_vs_flux(da, title='SFC flux. CLIRAD - CRD.')    \n",
    "    \n",
    "    atm_crd = (ds_crd.isel(pressure=0) - ds_crd.isel(pressure=-1))['fnetg']\n",
    "    atm_clirad = (ds_clirad.isel(pressure=0) - ds_clirad.isel(pressure=-1))['fnetg']\n",
    "    da = atm_clirad - atm_crd\n",
    "    p_atm = hist_band_vs_flux(da, title='Atmosphere heating. CLIRAD - CRD.')\n",
    "\n",
    "    everything = gridplot(p_toa, p_sfc, p_atm, ncols=3, plot_width=300, plot_height=300)\n",
    "    \n",
    "    show(everything)\n",
    "    display.display(\n",
    "        display.Markdown('*FIGURE.* Difference between CLIRAD and CRD'\n",
    "          ' in TOA, SFC and net atmosphere flux,'\n",
    "          ' in each spectral band.'))\n",
    "\n",
    "def show_tb_flux(atmpro='mls'):\n",
    "    \n",
    "    def fmt(da_in):\n",
    "        da = da_in.copy(deep=True)\n",
    "        if 'igg' in da.dims:\n",
    "            da = da.sel(igg=1)\n",
    "            \n",
    "        if 'g' in da.dims:\n",
    "            da = da.sum('g')\n",
    "        \n",
    "        if 'band' in da.dims:\n",
    "            try:\n",
    "                da = da.squeeze('band')\n",
    "            except ValueError:\n",
    "                da = da.sum('band')\n",
    "                \n",
    "        return da\n",
    "    \n",
    "    ds_crd = crd_data_atm(params_atm=subparams_atm_lblnew(atmpro=atmpro))['flux']\n",
    "    olr_crd = ds_crd['flug'].isel(pressure=0)\n",
    "    sfc_crd = ds_crd['fldg'].isel(pressure=-1)\n",
    "    atm_crd = (ds_crd.isel(pressure=0) - ds_crd.isel(pressure=-1))['fnetg']\n",
    "    \n",
    "    ds_clirad = clirad_data_atm(params_atm=[subparam_atm_clirad(atmpro=atmpro)])['flux']\n",
    "    olr_clirad = ds_clirad['flug'].isel(pressure=0)\n",
    "    sfc_clirad = ds_clirad['fldg'].isel(pressure=-1)\n",
    "    atm_clirad = (ds_clirad.isel(pressure=0) - ds_clirad.isel(pressure=-1))['fnetg']\n",
    "  \n",
    "    if atmpro == 'mls':\n",
    "        ds_oldclirad = oldclirad_data_atm()['flux']\n",
    "        ds_oldclirad['pressure'] = ds_crd['pressure']\n",
    "        olr_oldclirad = ds_oldclirad['flug'].isel(pressure=0)\n",
    "        sfc_oldclirad = ds_oldclirad['fldg'].isel(pressure=-1)\n",
    "        atm_oldclirad = (ds_oldclirad.isel(pressure=0)\n",
    "                         - ds_oldclirad.isel(pressure=-1))['fnetg']\n",
    "        \n",
    "    df = pd.DataFrame()\n",
    "    df.index.name = 'Sum over bands'\n",
    "    \n",
    "    if atmpro == 'mls':\n",
    "        df.loc['old CLIRAD - CRD', 'OLR flux'] = (fmt(olr_oldclirad) - fmt(olr_crd)).values\n",
    "        df.loc['old CLIRAD - CRD', 'SFC flux'] = (fmt(sfc_oldclirad) - fmt(sfc_crd)).values\n",
    "        df.loc['old CLIRAD - CRD', 'ATM heating'] = (fmt(atm_oldclirad) - fmt(atm_crd)).values\n",
    "    \n",
    "    df.loc['CLIRAD - CRD', 'OLR flux'] = (fmt(olr_clirad) - fmt(olr_crd)).values\n",
    "    df.loc['CLIRAD - CRD', 'SFC flux'] = (fmt(sfc_clirad) - fmt(sfc_crd)).values\n",
    "    df.loc['CLIRAD - CRD', 'ATM heating'] = (fmt(atm_clirad) - fmt(atm_crd)).values\n",
    "\n",
    "    df.loc['CRD', 'OLR flux'] = fmt(olr_crd).values\n",
    "    df.loc['CRD', 'SFC flux'] = fmt(sfc_crd).values\n",
    "    df.loc['CRD', 'ATM heating'] = fmt(atm_crd).values\n",
    "        \n",
    "    df = df.astype('float').round(2)\n",
    "    \n",
    "    display.display(df)\n",
    "    display.display(\n",
    "        display.Markdown('*TABLE.* Difference between CLIRAD and CRD'\n",
    "          ' in TOA, SFC and net atmosphere flux,'\n",
    "          ' over all spectral bands. CRD\\'s'\n",
    "          ' TOA, SFC and net atmosphere flux,'\n",
    "          ' over all spectral bands.'))"
   ]
  },
  {
   "cell_type": "code",
   "execution_count": 127,
   "metadata": {
    "scrolled": true
   },
   "outputs": [],
   "source": [
    "def cool_tofile(atmpro=None):\n",
    "    dcli = clirad_data_atm(params_atm=[subparam_atm_clirad(atmpro=atmpro)])\n",
    "    dcrd = crd_data_atm(params_atm=subparams_atm_lblnew(atmpro=atmpro))\n",
    "    \n",
    "    dcli = dcli['cool'].sel(i=1).drop('i').sum('band')\n",
    "    dcrd = dcrd['cool'].sum('band')\n",
    "    \n",
    "    dcli = dcli['coolrg'].to_dataframe()\n",
    "    dcrd = dcrd['coolrg'].to_dataframe()\n",
    "    \n",
    "    dcli = dcli.set_index('layer', append=True)\n",
    "    dcrd = dcrd.set_index('layer', append=True)\n",
    "    \n",
    "    ddif = dcli - dcrd\n",
    "    \n",
    "    df = pd.concat([dcrd, dcli, ddif], axis=1, keys=['CRD', 'CLIRAD', 'CLIRAD - CRD'])\n",
    "    return df\n",
    "\n",
    "\n",
    "def flux_tofile(atmpro=None):\n",
    "    tropopauses = {'mls': 40, 'saw': 45, 'trp': 37}\n",
    "    ilevels = [0, tropopauses[atmpro], -1]\n",
    "    \n",
    "    dcli = clirad_data_atm(params_atm=[subparam_atm_clirad(atmpro=atmpro)])\n",
    "    dcrd = crd_data_atm(params_atm=subparams_atm_lblnew(atmpro=atmpro))\n",
    "    \n",
    "    dcli = dcli['flux'].sel(i=1).drop('i').sum('band').isel(pressure=ilevels)\n",
    "    dcrd = dcrd['flux'].sum('band').isel(pressure=ilevels)\n",
    "    \n",
    "    dcli = dcli.to_dataframe()\n",
    "    dcrd = dcrd.to_dataframe()\n",
    "    \n",
    "    dcli = dcli.set_index('level', append=True)\n",
    "    dcrd = dcrd.set_index('level', append=True)\n",
    "    \n",
    "    ddif = dcli - dcrd\n",
    "    \n",
    "    df = pd.concat([dcrd, dcli, ddif], axis=1, keys=['CRD', 'CLIRAD', 'CLIRAD - CRD'])\n",
    "    return df\n",
    "\n",
    "\n",
    "def script_tofile():\n",
    "    fname = 'results_atm_cliradsinglerun-Copy2.xlsx'\n",
    "    writer = pd.ExcelWriter(fname)\n",
    "    for atmpro in ('mls', 'saw', 'trp'):\n",
    "        dflux = flux_tofile(atmpro=atmpro)\n",
    "        dflux.to_excel(writer, f'flux {atmpro}')\n",
    "        \n",
    "        dcool = cool_tofile(atmpro=atmpro)\n",
    "        dcool.to_excel(writer, f'cool {atmpro}')\n",
    "        \n",
    "    html = f'Download: <a href=\"./{fname}\">{fname}</a>'\n",
    "    show_html(html)\n",
    "\n",
    "        "
   ]
  },
  {
   "cell_type": "code",
   "execution_count": 128,
   "metadata": {
    "scrolled": false
   },
   "outputs": [
    {
     "data": {
      "text/markdown": [
       "## Results over entire range of molecules and spectral bands"
      ],
      "text/plain": [
       "<IPython.core.display.Markdown object>"
      ]
     },
     "metadata": {},
     "output_type": "display_data"
    },
    {
     "data": {
      "text/markdown": [
       "### Table of Contents"
      ],
      "text/plain": [
       "<IPython.core.display.Markdown object>"
      ]
     },
     "metadata": {},
     "output_type": "display_data"
    },
    {
     "data": {
      "text/html": [
       "<a href=\"#Makeup_of_atmosphere.\">Makeup of atmosphere.</a>"
      ],
      "text/plain": [
       "<IPython.core.display.HTML object>"
      ]
     },
     "metadata": {},
     "output_type": "display_data"
    },
    {
     "data": {
      "text/markdown": [
       "**mid-latitude summer**"
      ],
      "text/plain": [
       "<IPython.core.display.Markdown object>"
      ]
     },
     "metadata": {},
     "output_type": "display_data"
    },
    {
     "data": {
      "text/html": [
       "<a href=\"#Cooling_rates._mls.\">Cooling rates. mls.</a>"
      ],
      "text/plain": [
       "<IPython.core.display.HTML object>"
      ]
     },
     "metadata": {},
     "output_type": "display_data"
    },
    {
     "data": {
      "text/html": [
       "<a href=\"#Fluxes._mls.\">Fluxes. mls.</a>"
      ],
      "text/plain": [
       "<IPython.core.display.HTML object>"
      ]
     },
     "metadata": {},
     "output_type": "display_data"
    },
    {
     "data": {
      "text/markdown": [
       "**sub-arctic winter**"
      ],
      "text/plain": [
       "<IPython.core.display.Markdown object>"
      ]
     },
     "metadata": {},
     "output_type": "display_data"
    },
    {
     "data": {
      "text/html": [
       "<a href=\"#Cooling_rates._saw.\">Cooling rates. saw.</a>"
      ],
      "text/plain": [
       "<IPython.core.display.HTML object>"
      ]
     },
     "metadata": {},
     "output_type": "display_data"
    },
    {
     "data": {
      "text/html": [
       "<a href=\"#Fluxes._saw.\">Fluxes. saw.</a>"
      ],
      "text/plain": [
       "<IPython.core.display.HTML object>"
      ]
     },
     "metadata": {},
     "output_type": "display_data"
    },
    {
     "data": {
      "text/markdown": [
       "**tropical**"
      ],
      "text/plain": [
       "<IPython.core.display.Markdown object>"
      ]
     },
     "metadata": {},
     "output_type": "display_data"
    },
    {
     "data": {
      "text/html": [
       "<a href=\"#Cooling_rates._trp.\">Cooling rates. trp.</a>"
      ],
      "text/plain": [
       "<IPython.core.display.HTML object>"
      ]
     },
     "metadata": {},
     "output_type": "display_data"
    },
    {
     "data": {
      "text/html": [
       "<a href=\"#Fluxes._trp.\">Fluxes. trp.</a>"
      ],
      "text/plain": [
       "<IPython.core.display.HTML object>"
      ]
     },
     "metadata": {},
     "output_type": "display_data"
    },
    {
     "data": {
      "text/html": [
       "<a id=\"Makeup_of_atmosphere.\"></a>"
      ],
      "text/plain": [
       "<IPython.core.display.HTML object>"
      ]
     },
     "metadata": {},
     "output_type": "display_data"
    },
    {
     "data": {
      "text/markdown": [
       "# Makeup of atmosphere."
      ],
      "text/plain": [
       "<IPython.core.display.Markdown object>"
      ]
     },
     "metadata": {},
     "output_type": "display_data"
    },
    {
     "data": {
      "text/html": [
       "<div>\n",
       "<style scoped>\n",
       "    .dataframe tbody tr th:only-of-type {\n",
       "        vertical-align: middle;\n",
       "    }\n",
       "\n",
       "    .dataframe tbody tr th {\n",
       "        vertical-align: top;\n",
       "    }\n",
       "\n",
       "    .dataframe thead th {\n",
       "        text-align: right;\n",
       "    }\n",
       "</style>\n",
       "<table border=\"1\" class=\"dataframe\">\n",
       "  <thead>\n",
       "    <tr style=\"text-align: right;\">\n",
       "      <th>clirad band</th>\n",
       "      <th>1</th>\n",
       "      <th>2</th>\n",
       "      <th>3</th>\n",
       "      <th>4</th>\n",
       "      <th>5</th>\n",
       "      <th>6</th>\n",
       "      <th>7</th>\n",
       "      <th>8</th>\n",
       "      <th>9</th>\n",
       "      <th>10</th>\n",
       "      <th>11</th>\n",
       "    </tr>\n",
       "    <tr>\n",
       "      <th>molecule</th>\n",
       "      <th></th>\n",
       "      <th></th>\n",
       "      <th></th>\n",
       "      <th></th>\n",
       "      <th></th>\n",
       "      <th></th>\n",
       "      <th></th>\n",
       "      <th></th>\n",
       "      <th></th>\n",
       "      <th></th>\n",
       "      <th></th>\n",
       "    </tr>\n",
       "  </thead>\n",
       "  <tbody>\n",
       "    <tr>\n",
       "      <th>h2o</th>\n",
       "      <td>atmpro</td>\n",
       "      <td>atmpro</td>\n",
       "      <td>atmpro</td>\n",
       "      <td>atmpro</td>\n",
       "      <td>atmpro</td>\n",
       "      <td>atmpro</td>\n",
       "      <td>atmpro</td>\n",
       "      <td>atmpro</td>\n",
       "      <td>atmpro</td>\n",
       "      <td>atmpro</td>\n",
       "      <td>atmpro</td>\n",
       "    </tr>\n",
       "    <tr>\n",
       "      <th>co2</th>\n",
       "      <td>0</td>\n",
       "      <td>0</td>\n",
       "      <td>0.0004</td>\n",
       "      <td>0.0004</td>\n",
       "      <td>0.0004</td>\n",
       "      <td>0.0004</td>\n",
       "      <td>0.0004</td>\n",
       "      <td>0</td>\n",
       "      <td>0</td>\n",
       "      <td>0</td>\n",
       "      <td>0.0004</td>\n",
       "    </tr>\n",
       "    <tr>\n",
       "      <th>n2o</th>\n",
       "      <td>0</td>\n",
       "      <td>0</td>\n",
       "      <td>3.2e-07</td>\n",
       "      <td>0</td>\n",
       "      <td>0</td>\n",
       "      <td>0</td>\n",
       "      <td>0</td>\n",
       "      <td>0</td>\n",
       "      <td>3.2e-07</td>\n",
       "      <td>0</td>\n",
       "      <td>0</td>\n",
       "    </tr>\n",
       "    <tr>\n",
       "      <th>o3</th>\n",
       "      <td>0</td>\n",
       "      <td>0</td>\n",
       "      <td>0</td>\n",
       "      <td>0</td>\n",
       "      <td>0</td>\n",
       "      <td>0</td>\n",
       "      <td>atmpro</td>\n",
       "      <td>0</td>\n",
       "      <td>0</td>\n",
       "      <td>0</td>\n",
       "      <td>0</td>\n",
       "    </tr>\n",
       "    <tr>\n",
       "      <th>ch4</th>\n",
       "      <td>0</td>\n",
       "      <td>0</td>\n",
       "      <td>0</td>\n",
       "      <td>0</td>\n",
       "      <td>0</td>\n",
       "      <td>0</td>\n",
       "      <td>0</td>\n",
       "      <td>0</td>\n",
       "      <td>1.8e-06</td>\n",
       "      <td>0</td>\n",
       "      <td>0</td>\n",
       "    </tr>\n",
       "  </tbody>\n",
       "</table>\n",
       "</div>"
      ],
      "text/plain": [
       "clirad band      1       2        3       4       5       6       7       8   \\\n",
       "molecule                                                                       \n",
       "h2o          atmpro  atmpro   atmpro  atmpro  atmpro  atmpro  atmpro  atmpro   \n",
       "co2               0       0   0.0004  0.0004  0.0004  0.0004  0.0004       0   \n",
       "n2o               0       0  3.2e-07       0       0       0       0       0   \n",
       "o3                0       0        0       0       0       0  atmpro       0   \n",
       "ch4               0       0        0       0       0       0       0       0   \n",
       "\n",
       "clirad band       9       10      11  \n",
       "molecule                              \n",
       "h2o           atmpro  atmpro  atmpro  \n",
       "co2                0       0  0.0004  \n",
       "n2o          3.2e-07       0       0  \n",
       "o3                 0       0       0  \n",
       "ch4          1.8e-06       0       0  "
      ]
     },
     "metadata": {},
     "output_type": "display_data"
    },
    {
     "data": {
      "text/markdown": [
       "*TABLE.* Non-grey absorbers in the atmosphere."
      ],
      "text/plain": [
       "<IPython.core.display.Markdown object>"
      ]
     },
     "metadata": {},
     "output_type": "display_data"
    },
    {
     "data": {
      "text/html": [
       "<a id=\"Cooling_rates._mls.\"></a>"
      ],
      "text/plain": [
       "<IPython.core.display.HTML object>"
      ]
     },
     "metadata": {},
     "output_type": "display_data"
    },
    {
     "data": {
      "text/markdown": [
       "# Cooling rates. mls."
      ],
      "text/plain": [
       "<IPython.core.display.Markdown object>"
      ]
     },
     "metadata": {},
     "output_type": "display_data"
    },
    {
     "data": {
      "text/html": [
       "\n",
       "<div class=\"bk-root\">\n",
       "    <div class=\"bk-plotdiv\" id=\"782075f0-4fa5-4259-adcb-d99b52a7d089\"></div>\n",
       "</div>"
      ]
     },
     "metadata": {},
     "output_type": "display_data"
    },
    {
     "data": {
      "application/javascript": [
       "(function(root) {\n",
       "  function embed_document(root) {\n",
       "    \n",
       "  var docs_json = {\"67a7a216-9518-49f9-914a-248e4a93ba69\":{\"roots\":{\"references\":[{\"attributes\":{\"fill_alpha\":{\"value\":0.1},\"fill_color\":{\"value\":\"#1f77b4\"},\"line_alpha\":{\"value\":0.1},\"line_color\":{\"value\":\"#1f77b4\"},\"x\":{\"field\":\"x\"},\"y\":{\"field\":\"y\"}},\"id\":\"40ad5449-36d3-45ad-ae4c-cd293f562355\",\"type\":\"Circle\"},{\"attributes\":{\"bottom_units\":\"screen\",\"fill_alpha\":{\"value\":0.5},\"fill_color\":{\"value\":\"lightgrey\"},\"left_units\":\"screen\",\"level\":\"overlay\",\"line_alpha\":{\"value\":1.0},\"line_color\":{\"value\":\"black\"},\"line_dash\":[4,4],\"line_width\":{\"value\":2},\"plot\":null,\"render_mode\":\"css\",\"right_units\":\"screen\",\"top_units\":\"screen\"},\"id\":\"83ad43c7-a393-48c3-9904-ff8f5df5b2fd\",\"type\":\"BoxAnnotation\"},{\"attributes\":{\"active_drag\":\"auto\",\"active_inspect\":\"auto\",\"active_scroll\":\"auto\",\"active_tap\":\"auto\",\"tools\":[{\"id\":\"b9662a54-4406-4455-bc35-812e3da51a11\",\"type\":\"PanTool\"},{\"id\":\"655caa38-b34a-49fd-9244-400e89eb13de\",\"type\":\"WheelZoomTool\"},{\"id\":\"51c5bb68-a056-444b-be7a-bf986b54788a\",\"type\":\"BoxZoomTool\"},{\"id\":\"750ddfcb-f33c-4961-b2b1-46d88cebe047\",\"type\":\"SaveTool\"},{\"id\":\"370efbf1-f0aa-4b20-815d-d7b5d2b7b600\",\"type\":\"ResetTool\"},{\"id\":\"2bece5b7-0850-47dd-9494-23ef5bafbd35\",\"type\":\"HelpTool\"}]},\"id\":\"1954a667-db23-4852-88b1-4f4f3daff9ec\",\"type\":\"Toolbar\"},{\"attributes\":{\"callback\":null,\"data\":{\"x\":{\"__ndarray__\":\"MEr14GpmEsDQUQomvS0TwDCOLtAVRQnA0G4E7w1kFUBACG6K07rzP2DG3ETKaAVAQDSvE8+a1D9AWLw0a3bwP8B2CVgEGd6/cAEb8SXj5T+gXWifLPzZv1BIY1h4OdU/eFTeaCAF0r/QU/RFxYvAP0h4oPen7Ly/oKOQ+b0VoD/AKRbxqoK7vwA09+KM5nu/gBvKVo2Xv78gEqWWOp7Ov4BzIslj9ti/YApK0VUU37/wyd0OWm7ov0D75ws5Mua/4Ic6h4XW3r+Q48y885XWvwB/tLThVLC/IP++3wZjwr+A8gVsXEm9v8DQmm/daKO/gI3nfaiUkj+AQE7cYBOdv+BkMo6PXa2/AKoyxVLtcD/A4u/aVS+Av6A9GyNwb46/kNIdfcBUiz+AHIdAy8FcP3BuzJoOMok/bmce0np0pD8UEyzBK56QP8Beg9VHjZ+/QPKVd3D5n7+AD/jI4QOjv4DcwbQ4Uai/QG61+C87or8ASozDVZqev0D75C8ty6C/ANT1m/xjlb9Ar8iri82Xv0BrLlVYt5W/ABSboWSMa78Ahb8UGtelv0BWMP2VTZ2/AMWkubnjcr+ACh1oBKqKv0CiEj/MA5G/APDicuinMj/Ajj/XEoCaP4DwRGmfKYS/AAqIEFfOZj8gItboev6lP0AvBF6BP7c/IN1dRRBwqj9gCvj956WkP8BM5jLOU7A/kB8XOk4Itz8Qy8mloMS8P8Bl77ruFZ4/AHOrAh4hnz9A3sjPVdmmP/C+80esF7A/gAETBSmitD+gbg0US524P6C02mPse7E/\",\"dtype\":\"float64\",\"shape\":[75]},\"y\":{\"__ndarray__\":\"GhExyth1ND/Sv8nbtpRIP2vylNV0PVE/aTum7souWD/At0SJ8fVgPw3Iuahxymc/MSNhhJWvcD/bTfBN02d3P2zb5nxnaoA/CD5h5MAGhz8NmeH1TyaQP+zrCsc9p5Y/LbKd76fGnz/bLW5ISEmmPww9YvTcQq8/JV2OstnstT8Er5Y7M8G+P0c+r3jqkcU/5h99k6ZBzj88bCIzFzjVP4enV8oyxN0//yH99nXg5D8qOpLLf0jtP5kqGJXUifQ/c9cS8kHP/D+/DpwzojQEQIEmwoanVwxA4lgXt9HgE0BSSZ2AJuIbQAMJih9jjiNA5q4l5INuK0AwTKYKRj0zQNv5fmq8/DpAaCJseHrtQkB/+zpwzoxKQM3MzMzMeFJAZmZmZmZqWEAAAAAAAFxeQM3MzMzMJmJAmpmZmZkfZUBmZmZmZhhoQDMzMzMzEWtAAAAAAAAKbkBmZmZmZoFwQM3MzMzM/XFAMzMzMzN6c0CamZmZmfZ0QAAAAAAAc3ZAZmZmZmbvd0DNzMzMzGt5QDMzMzMz6HpAmpmZmZlkfEAAAAAAAOF9QGZmZmZmXX9AZmZmZuZsgECamZmZGSuBQM3MzMxM6YFAAAAAAICngkAzMzMzs2WDQGZmZmbmI4RAmpmZmRnihEDNzMzMTKCFQAAAAACAXoZAMzMzM7Mch0BmZmZm5tqHQJqZmZkZmYhAzczMzExXiUAAAAAAgBWKQDMzMzOz04pAZmZmZuaRi0CamZmZGVCMQM3MzMxMDo1AAAAAAIDMjUAzMzMzs4qOQGZmZmbmSI9A\",\"dtype\":\"float64\",\"shape\":[75]}},\"selected\":{\"id\":\"2eb15864-2fc2-4579-99a5-4336311a3909\",\"type\":\"Selection\"},\"selection_policy\":{\"id\":\"78715c47-aa75-4f1c-8318-31c7082829b0\",\"type\":\"UnionRenderers\"}},\"id\":\"a2e61b9a-867f-4e86-9cb7-8e4804086dc2\",\"type\":\"ColumnDataSource\"},{\"attributes\":{\"data_source\":{\"id\":\"f9a75144-7387-4d08-866b-46b7100fc38c\",\"type\":\"ColumnDataSource\"},\"glyph\":{\"id\":\"d4a62672-05b5-42ef-b83d-c8c763d87022\",\"type\":\"Square\"},\"hover_glyph\":null,\"muted_glyph\":null,\"nonselection_glyph\":{\"id\":\"f3ece972-9381-4011-a3f6-f2c2fef8c16c\",\"type\":\"Square\"},\"selection_glyph\":null,\"view\":{\"id\":\"5923566f-70a8-40dc-872e-362ec4bc371a\",\"type\":\"CDSView\"}},\"id\":\"09552a33-842e-4a99-8ab4-88da7685ae73\",\"type\":\"GlyphRenderer\"},{\"attributes\":{\"source\":{\"id\":\"8850e977-8c94-4376-a7e6-380c49a72441\",\"type\":\"ColumnDataSource\"}},\"id\":\"5b02ac5e-c7a8-40b2-b4c6-8951ad82f538\",\"type\":\"CDSView\"},{\"attributes\":{\"data_source\":{\"id\":\"e1012e0e-94bd-4599-ad2d-f5fb005304f1\",\"type\":\"ColumnDataSource\"},\"glyph\":{\"id\":\"24af8ba3-e4e7-4822-ab3b-dd93a426fbb9\",\"type\":\"Circle\"},\"hover_glyph\":null,\"muted_glyph\":null,\"nonselection_glyph\":{\"id\":\"40ad5449-36d3-45ad-ae4c-cd293f562355\",\"type\":\"Circle\"},\"selection_glyph\":null,\"view\":{\"id\":\"b58e7449-1b6f-4b3a-b58f-888cd80a5294\",\"type\":\"CDSView\"}},\"id\":\"ed394ab8-545a-4349-ad5b-38555ee988d7\",\"type\":\"GlyphRenderer\"},{\"attributes\":{},\"id\":\"bd460f9b-5cb9-4d22-a140-bee4c0ece76b\",\"type\":\"UnionRenderers\"},{\"attributes\":{\"data_source\":{\"id\":\"8850e977-8c94-4376-a7e6-380c49a72441\",\"type\":\"ColumnDataSource\"},\"glyph\":{\"id\":\"3754c473-ae19-4821-8445-b297bb0c2772\",\"type\":\"Line\"},\"hover_glyph\":null,\"muted_glyph\":null,\"nonselection_glyph\":{\"id\":\"08f7de94-7dce-445f-ac35-8fe0bcf617db\",\"type\":\"Line\"},\"selection_glyph\":null,\"view\":{\"id\":\"5b02ac5e-c7a8-40b2-b4c6-8951ad82f538\",\"type\":\"CDSView\"}},\"id\":\"9944ab71-af33-4274-9efc-5dcb13fe3efb\",\"type\":\"GlyphRenderer\"},{\"attributes\":{\"callback\":null,\"end\":13.587161458933508,\"start\":-0.25094368234451},\"id\":\"b79fa9ec-766c-4f57-b012-68436b205758\",\"type\":\"Range1d\"},{\"attributes\":{\"fill_alpha\":{\"value\":0.1},\"fill_color\":{\"value\":\"#1f77b4\"},\"line_alpha\":{\"value\":0.1},\"line_color\":{\"value\":\"#1f77b4\"},\"x\":{\"field\":\"x\"},\"y\":{\"field\":\"y\"}},\"id\":\"f3ece972-9381-4011-a3f6-f2c2fef8c16c\",\"type\":\"Square\"},{\"attributes\":{},\"id\":\"201a0f05-4b1d-4915-bdc3-e084f1e0bdef\",\"type\":\"UnionRenderers\"},{\"attributes\":{},\"id\":\"82b7f086-949b-4f06-96a2-30364c36fba5\",\"type\":\"WheelZoomTool\"},{\"attributes\":{\"source\":{\"id\":\"19ac49ed-e8f3-429f-8084-decb0160a784\",\"type\":\"ColumnDataSource\"}},\"id\":\"5f6cf910-22d5-444f-a9ce-a7c4d36c424c\",\"type\":\"CDSView\"},{\"attributes\":{},\"id\":\"732020dc-9941-42b4-a44b-81bc4244094d\",\"type\":\"BasicTickFormatter\"},{\"attributes\":{\"source\":{\"id\":\"464e6440-e776-4c12-9699-26db0855ea3a\",\"type\":\"ColumnDataSource\"}},\"id\":\"482887fd-6c2d-4cd5-8222-3c2921a04e3e\",\"type\":\"CDSView\"},{\"attributes\":{\"children\":[{\"id\":\"47d576a1-5033-40b6-a343-a8a576ceb9db\",\"type\":\"ToolbarBox\"},{\"id\":\"c2456c3a-6861-4fe1-b586-655826cf2f1c\",\"type\":\"Column\"}]},\"id\":\"9d6f9cc8-4ed7-4da8-aef7-6e9ed004c92e\",\"type\":\"Column\"},{\"attributes\":{},\"id\":\"bf3cb458-5e87-487d-b031-b1e9b1d9af3c\",\"type\":\"PanTool\"},{\"attributes\":{},\"id\":\"13418b73-527f-4c7f-82e3-1fd23d155c41\",\"type\":\"LinearScale\"},{\"attributes\":{\"items\":[{\"id\":\"84b6f493-3201-4536-85f9-4c13c2d7942e\",\"type\":\"LegendItem\"},{\"id\":\"a7e34953-827c-44c7-99c0-cc4f18744932\",\"type\":\"LegendItem\"},{\"id\":\"3e23f249-3b2b-4154-9b2b-8675450e9db5\",\"type\":\"LegendItem\"}],\"label_text_font_size\":{\"value\":\"8pt\"},\"location\":\"top_center\",\"orientation\":\"horizontal\",\"plot\":{\"id\":\"b443dc8a-f977-4711-b48f-264db0c51687\",\"subtype\":\"Figure\",\"type\":\"Plot\"}},\"id\":\"0ba64695-9907-41fe-a371-b84d5d140351\",\"type\":\"Legend\"},{\"attributes\":{},\"id\":\"6da9afc8-ca3a-4f9c-bbd0-857504d34aed\",\"type\":\"LogScale\"},{\"attributes\":{\"overlay\":{\"id\":\"a5eb5b2b-49b8-4a25-94eb-952d7e20e83f\",\"type\":\"BoxAnnotation\"}},\"id\":\"6d455624-cd5f-42a0-bb48-4352798cd155\",\"type\":\"BoxZoomTool\"},{\"attributes\":{},\"id\":\"a1b5fd29-b239-47d2-ba57-82f19fe8d4ee\",\"type\":\"Selection\"},{\"attributes\":{\"plot\":{\"id\":\"b443dc8a-f977-4711-b48f-264db0c51687\",\"subtype\":\"Figure\",\"type\":\"Plot\"},\"ticker\":{\"id\":\"7320423c-abbd-4663-81ac-bdc98f93d707\",\"type\":\"BasicTicker\"}},\"id\":\"ccaf4cbb-a76c-45b0-9e42-e6357c063d5c\",\"type\":\"Grid\"},{\"attributes\":{\"line_alpha\":0.6,\"line_color\":\"#e41a1c\",\"line_dash\":[6],\"line_width\":5,\"x\":{\"field\":\"x\"},\"y\":{\"field\":\"y\"}},\"id\":\"271ed005-715c-4d9a-a353-acaa4056567a\",\"type\":\"Line\"},{\"attributes\":{\"line_alpha\":0.1,\"line_color\":\"#1f77b4\",\"line_width\":1.5,\"x\":{\"field\":\"x\"},\"y\":{\"field\":\"y\"}},\"id\":\"19b68bc0-91cf-4b5b-8192-b20cf8c326ac\",\"type\":\"Line\"},{\"attributes\":{\"overlay\":{\"id\":\"83ad43c7-a393-48c3-9904-ff8f5df5b2fd\",\"type\":\"BoxAnnotation\"}},\"id\":\"51c5bb68-a056-444b-be7a-bf986b54788a\",\"type\":\"BoxZoomTool\"},{\"attributes\":{},\"id\":\"744da616-42d8-44cf-bc57-50149a5aaf33\",\"type\":\"HelpTool\"},{\"attributes\":{\"callback\":null,\"data\":{\"x\":{\"__ndarray__\":\"x5b+HzAAOcBUsGIrN//wv5rRCqfzP/g/lWfa9WxUAUC87i3eRnj0P2k3GFwGI82/KIzhzv3p9r/dgOLUhuT7v5h4v9KEHva/lz51fQWP6r8MmGM3wEvevzuGRhlaEde/bbBHDRNw17866bMAA5HVv6SM3CBVpsm/z43Ge5Rgp78kZlO2tGW1P0jAD/LkRMk/mjoLgCF7xj9YL7TWa7a0vxDl7AEhR9u/QmBL7XZE4r+66rwK7UHdv520GFyq+M2/jJoBaeFkvb+mEL7+5YDFv8xH2diDSLE/UZPQ0NK6zD++VDOMJHXFP0sBLvsvgbU/rU0TKbTTsz+AvPtlJoSVvyQR4kCT1Ka/DCzTR4jOnz+RgVP/DIiRPyc0VueTT7G/zGO0G5UXtr/Cv+nBWmGrvw3YBf5pwJu/5lmwUlIKkb9iK8y2UCyVv7MgGQ1BN6K/Zg7cSGuhqL97ks22YaWTv6+BWHga4bS/if7Ouy4suL+uhkcfqK6rv3h0d8wLnbC/Th4fALtytb/0FtyP05C0v706nuS1IK6/nt6OQVwMpb+xJ7P94iOYv7Ik7c8m3pG/XHsLuB42jr+yYiSLHQySv2VhKlGEQZK/gL6ranU1gr8Tm4EYiGiLP2Bxvix7f6Y/qGcUzAlzsT9osvobm7qwP2qCl8+oL6s/W7D28FdTnz+Ar/8sMWWAP2CXJl1dC4E/wS2MUhR4kT8AEiYigsWdP+Tu87ICUKw/Urla2OfysD86tbEU9BezP0pbmrSQFLU/zwcmkkNfsz+emyRJmHG1PyEJ+r+uHLU/\",\"dtype\":\"float64\",\"shape\":[75]},\"y\":{\"__ndarray__\":\"GhExyth1ND/Sv8nbtpRIP2vylNV0PVE/aTum7souWD/At0SJ8fVgPw3Iuahxymc/MSNhhJWvcD/bTfBN02d3P2zb5nxnaoA/CD5h5MAGhz8NmeH1TyaQP+zrCsc9p5Y/LbKd76fGnz/bLW5ISEmmPww9YvTcQq8/JV2OstnstT8Er5Y7M8G+P0c+r3jqkcU/5h99k6ZBzj88bCIzFzjVP4enV8oyxN0//yH99nXg5D8qOpLLf0jtP5kqGJXUifQ/c9cS8kHP/D+/DpwzojQEQIEmwoanVwxA4lgXt9HgE0BSSZ2AJuIbQAMJih9jjiNA5q4l5INuK0AwTKYKRj0zQNv5fmq8/DpAaCJseHrtQkB/+zpwzoxKQM3MzMzMeFJAZmZmZmZqWEAAAAAAAFxeQM3MzMzMJmJAmpmZmZkfZUBmZmZmZhhoQDMzMzMzEWtAAAAAAAAKbkBmZmZmZoFwQM3MzMzM/XFAMzMzMzN6c0CamZmZmfZ0QAAAAAAAc3ZAZmZmZmbvd0DNzMzMzGt5QDMzMzMz6HpAmpmZmZlkfEAAAAAAAOF9QGZmZmZmXX9AZmZmZuZsgECamZmZGSuBQM3MzMxM6YFAAAAAAICngkAzMzMzs2WDQGZmZmbmI4RAmpmZmRnihEDNzMzMTKCFQAAAAACAXoZAMzMzM7Mch0BmZmZm5tqHQJqZmZkZmYhAzczMzExXiUAAAAAAgBWKQDMzMzOz04pAZmZmZuaRi0CamZmZGVCMQM3MzMxMDo1AAAAAAIDMjUAzMzMzs4qOQGZmZmbmSI9A\",\"dtype\":\"float64\",\"shape\":[75]}},\"selected\":{\"id\":\"bd5d3435-1a47-404f-b7a1-b60305873531\",\"type\":\"Selection\"},\"selection_policy\":{\"id\":\"bd460f9b-5cb9-4d22-a140-bee4c0ece76b\",\"type\":\"UnionRenderers\"}},\"id\":\"de8f44c9-ea2f-42b5-9a1b-73b006af0930\",\"type\":\"ColumnDataSource\"},{\"attributes\":{\"plot\":null,\"text\":\"\"},\"id\":\"00c98a12-cf45-4a83-b269-ccfdc3e1587d\",\"type\":\"Title\"},{\"attributes\":{\"line_alpha\":0.5,\"line_color\":\"#984ea3\",\"line_width\":1.5,\"x\":{\"field\":\"x\"},\"y\":{\"field\":\"y\"}},\"id\":\"896e0e98-4e7c-48b7-a7f4-412d5f4ca802\",\"type\":\"Line\"},{\"attributes\":{},\"id\":\"6e3b6a72-143b-409a-9226-0904bb981c96\",\"type\":\"ResetTool\"},{\"attributes\":{\"axis_label\":\"pressure [mb]\",\"formatter\":{\"id\":\"c6e5cda2-ff5d-4c47-a15b-4184f971b961\",\"type\":\"LogTickFormatter\"},\"plot\":{\"id\":\"b443dc8a-f977-4711-b48f-264db0c51687\",\"subtype\":\"Figure\",\"type\":\"Plot\"},\"ticker\":{\"id\":\"7a473f5c-c516-4afd-9a96-4b503fe8c58b\",\"type\":\"LogTicker\"}},\"id\":\"56b23730-d1be-438f-af20-24797f0be9bb\",\"type\":\"LogAxis\"},{\"attributes\":{\"active_drag\":\"auto\",\"active_inspect\":\"auto\",\"active_scroll\":\"auto\",\"active_tap\":\"auto\",\"tools\":[{\"id\":\"b8aa41b4-fcfc-4532-b480-7fc2735d7e77\",\"type\":\"PanTool\"},{\"id\":\"a02c49c4-4f92-428d-a9fd-96ce31cc9c10\",\"type\":\"WheelZoomTool\"},{\"id\":\"f130486b-79e8-4f96-826e-41a69369240c\",\"type\":\"BoxZoomTool\"},{\"id\":\"aef7fb38-8f2c-489f-9072-2f433ad1af0f\",\"type\":\"SaveTool\"},{\"id\":\"2f0ecd9d-9ab5-40b8-94c6-62ec23a31b25\",\"type\":\"ResetTool\"},{\"id\":\"293aa238-61e1-464d-ace8-5f29565b3308\",\"type\":\"HelpTool\"}]},\"id\":\"6d6f887f-9867-4f20-8a16-80fa04a6a428\",\"type\":\"Toolbar\"},{\"attributes\":{\"data_source\":{\"id\":\"464e6440-e776-4c12-9699-26db0855ea3a\",\"type\":\"ColumnDataSource\"},\"glyph\":{\"id\":\"e09a9457-40f8-4aeb-92f5-728812c7d41e\",\"type\":\"Line\"},\"hover_glyph\":null,\"muted_glyph\":null,\"nonselection_glyph\":{\"id\":\"2e1bd376-625f-4c93-a7b6-c43fe10de340\",\"type\":\"Line\"},\"selection_glyph\":null,\"view\":{\"id\":\"482887fd-6c2d-4cd5-8222-3c2921a04e3e\",\"type\":\"CDSView\"}},\"id\":\"e7056eb6-f14f-4b75-9f53-97e759990e73\",\"type\":\"GlyphRenderer\"},{\"attributes\":{\"label\":{\"value\":\"old CLIRAD (H2012)\"},\"renderers\":[{\"id\":\"09552a33-842e-4a99-8ab4-88da7685ae73\",\"type\":\"GlyphRenderer\"},{\"id\":\"ac887a45-2f60-4a91-8737-b9538c149b21\",\"type\":\"GlyphRenderer\"}]},\"id\":\"b77406ff-beb4-420c-bf24-beb149dfce84\",\"type\":\"LegendItem\"},{\"attributes\":{\"fill_alpha\":{\"value\":0.1},\"fill_color\":{\"value\":\"#1f77b4\"},\"line_alpha\":{\"value\":0.1},\"line_color\":{\"value\":\"#1f77b4\"},\"x\":{\"field\":\"x\"},\"y\":{\"field\":\"y\"}},\"id\":\"05831f93-9d48-4ac5-9c09-cef55bcc62cf\",\"type\":\"Circle\"},{\"attributes\":{\"ticker\":null},\"id\":\"f535b2da-2940-4e4d-8bb4-bf4e0483354b\",\"type\":\"LogTickFormatter\"},{\"attributes\":{},\"id\":\"531d292a-b67f-4dc7-bf86-c35161d8e133\",\"type\":\"UnionRenderers\"},{\"attributes\":{},\"id\":\"92f18f91-a426-4e1c-aa86-9e7a65f0bb2b\",\"type\":\"BasicTicker\"},{\"attributes\":{\"callback\":null,\"data\":{\"x\":{\"__ndarray__\":\"zxhdnl3RU0CKgDdE+dxEQP+f5duhdUFAMZBr6ewEQkABDxZQyK45QBiX3ka8EDZAj18alnlwL0CfYJlYHKIqQJoaoQNWxSJAv74t7BozIUBMkS56I6AXQBxPe4ld/BRAncjiKz2HCkCKCgdQ/WcBQKJTvluRvOg/jvJpYJwB9j+gcxKIKREEQOwUvOtLFw1AVkAt7oRoEkD4lECKxjYXQAZydNQ0jR1ACryvRZLfI0CN3MmPRGApQCcUNq4qNylA6FN9h30SJECRnP+HbGofQDQKaukXmhlAteFC/mL9E0CTDffT91MQQEoVAKh1YwtAqFesCIQRBkAUatBMXLz/P4fvYPUXo/Y/tDrQnFTK8T/hneFQ7xLnP14aDQuCJtc/5hrOx2LRzT+gE4V0bnvHP3eeIXamhrA/cmaxNtALrr92uqPyMJK3P6q5+U821+g/c0rZjXL49z/TaxRJZAUAQP3VLij27QFAiQe8XqaCAEAu4Q7keaX+P0ZyKG35kv0/XHVqXZRQ/T/+RskYEAv9PwKD1IjB3fw/JBko3yJ2/D8AmhCM5iX7P/btQHcr5vo/xjCcdQr9+j+f/V+tjrf6P0Wt2HvLrvo/84V/x6br+z/bYX40veD8P86HZwkyUvw/CUxgoI8l/D8RA+bsYB78P2au9w7DDvw/kRNJm3qS+j8wZ0xHVJ75Py0d1shscPk/NKgVKiiK+T/ONtzstIr5P4ps72zyaPc/TVSpuPUj9j9T2qZu6gj1P2XVmdu6VPQ/t/WgjjEZ9D+np734CoH0P1L4Q57qwfo/\",\"dtype\":\"float64\",\"shape\":[75]},\"y\":{\"__ndarray__\":\"hLndy31yND/6fmq8dJNIP8n9DkWBPlE/aDum7souWD/b4a/JGvVgP9f34SAhymc/ZvM4DOavcD+z0M5pFmh3PxuC4zJuaoA/xjcUPlsHhz8uHAjJAiaQP9ieWRKgppY/oI7HDFTGnz+a5h2n6EimPzS6g9iZQq8/IuAQqtTstT9SSZ2AJsK+P4nS3uALk8U/ih9j7lpCzj+ASL99HTjVP4enV8oyxN0/ACL99nXg5D9fmEwVjErtPyUGgZVDi/Q/AiuHFtnO/D9OYhBYOTQEQPHSTWIQWAxA4XoUrkfhE0D8qfHSTeIbQMh2vp8ajyNArkfhehRuK0Bcj8L1KDwzQFyPwvUo/DpAPgrXo3DtQkDNzMzMzIxKQClcj8L1eFJAKVyPwvVoWECamZmZmVleQGZmZmZmJmJAAAAAAAAgZUCamZmZmRloQJqZmZmZEWtAmpmZmZkJbkCamZmZmYFwQGZmZmZm/nFAZmZmZmZ6c0BmZmZmZvZ0QDQzMzMzc3ZAAAAAAADwd0AAAAAAAGx5QAAAAAAA6HpAzMzMzMxkfEDMzMzMzOB9QM3MzMzMXH9AzczMzMxsgEAzMzMzMyuBQDMzMzMz6YFAMzMzMzOngkCamZmZmWWDQAAAAAAAJIRAAAAAAADihEAAAAAAAKCFQGZmZmZmXoZAzczMzMwch0DNzMzMzNqHQM3MzMzMmIhAMzMzMzNXiUCamZmZmRWKQAAAAAAA1IpAAAAAAACSi0AAAAAAAFCMQGZmZmZmDo1AzczMzMzMjUDNzMzMzIqOQM3MzMzMSI9A\",\"dtype\":\"float64\",\"shape\":[75]}},\"selected\":{\"id\":\"19513386-a39f-4cf9-a63d-674a77f16141\",\"type\":\"Selection\"},\"selection_policy\":{\"id\":\"201a0f05-4b1d-4915-bdc3-e084f1e0bdef\",\"type\":\"UnionRenderers\"}},\"id\":\"769f32bd-b9c4-4269-9abb-b2f77144946e\",\"type\":\"ColumnDataSource\"},{\"attributes\":{},\"id\":\"114604cb-9f85-400e-aa30-98a5c5d00573\",\"type\":\"LinearScale\"},{\"attributes\":{\"label\":{\"value\":\"CLIRAD - CRD\"},\"renderers\":[{\"id\":\"b614bf6a-dfc6-40ba-904e-4ad45764d374\",\"type\":\"GlyphRenderer\"},{\"id\":\"741e2c66-96f9-4eef-838a-164be6e72577\",\"type\":\"GlyphRenderer\"}]},\"id\":\"5ea4907e-1349-40fa-9fc7-af7dbba623f9\",\"type\":\"LegendItem\"},{\"attributes\":{},\"id\":\"b9662a54-4406-4455-bc35-812e3da51a11\",\"type\":\"PanTool\"},{\"attributes\":{\"above\":[{\"id\":\"d810ee29-d8a4-4133-ac7c-edc01e9324ee\",\"type\":\"Legend\"}],\"below\":[{\"id\":\"5b0df632-b9df-4b9f-a930-890fd2bf24f2\",\"type\":\"LinearAxis\"}],\"left\":[{\"id\":\"0c66ba62-bad6-4627-a967-ca33ff718fa4\",\"type\":\"LinearAxis\"}],\"plot_width\":300,\"renderers\":[{\"id\":\"5b0df632-b9df-4b9f-a930-890fd2bf24f2\",\"type\":\"LinearAxis\"},{\"id\":\"a000224c-3d10-4677-8e26-74e74bf0c795\",\"type\":\"Grid\"},{\"id\":\"0c66ba62-bad6-4627-a967-ca33ff718fa4\",\"type\":\"LinearAxis\"},{\"id\":\"cf711e1e-1f54-43a7-af1a-b0e43c131203\",\"type\":\"Grid\"},{\"id\":\"83ad43c7-a393-48c3-9904-ff8f5df5b2fd\",\"type\":\"BoxAnnotation\"},{\"id\":\"fbdaeaf9-6bf5-4212-8642-fc381056667b\",\"type\":\"GlyphRenderer\"},{\"id\":\"061da50c-cac2-4879-af41-04efc178143a\",\"type\":\"GlyphRenderer\"},{\"id\":\"e7056eb6-f14f-4b75-9f53-97e759990e73\",\"type\":\"GlyphRenderer\"},{\"id\":\"09552a33-842e-4a99-8ab4-88da7685ae73\",\"type\":\"GlyphRenderer\"},{\"id\":\"ac887a45-2f60-4a91-8737-b9538c149b21\",\"type\":\"GlyphRenderer\"},{\"id\":\"d810ee29-d8a4-4133-ac7c-edc01e9324ee\",\"type\":\"Legend\"}],\"title\":{\"id\":\"94ded599-8ad1-4c4c-9c00-74991e6ce65d\",\"type\":\"Title\"},\"toolbar\":{\"id\":\"1954a667-db23-4852-88b1-4f4f3daff9ec\",\"type\":\"Toolbar\"},\"toolbar_location\":null,\"x_range\":{\"id\":\"08a6621e-f82f-4d7e-a72a-d5f5dd4fc92d\",\"type\":\"Range1d\"},\"x_scale\":{\"id\":\"114604cb-9f85-400e-aa30-98a5c5d00573\",\"type\":\"LinearScale\"},\"y_range\":{\"id\":\"fb095678-97ef-4ff1-863a-6de3a96f758a\",\"type\":\"Range1d\"},\"y_scale\":{\"id\":\"a02c16a4-6570-4b4e-9bc6-755c9ec5b437\",\"type\":\"LinearScale\"}},\"id\":\"7a6bada7-433b-43b2-95ef-54f6897a074a\",\"subtype\":\"Figure\",\"type\":\"Plot\"},{\"attributes\":{\"num_minor_ticks\":10},\"id\":\"7a473f5c-c516-4afd-9a96-4b503fe8c58b\",\"type\":\"LogTicker\"},{\"attributes\":{},\"id\":\"c29ca434-1efa-4ab5-859d-e4f8e20ee828\",\"type\":\"BasicTickFormatter\"},{\"attributes\":{\"dimension\":1,\"plot\":{\"id\":\"b443dc8a-f977-4711-b48f-264db0c51687\",\"subtype\":\"Figure\",\"type\":\"Plot\"},\"ticker\":{\"id\":\"7a473f5c-c516-4afd-9a96-4b503fe8c58b\",\"type\":\"LogTicker\"}},\"id\":\"ddf32cad-4f6c-44ea-87c7-0533ba6c203d\",\"type\":\"Grid\"},{\"attributes\":{\"children\":[{\"id\":\"7a6bada7-433b-43b2-95ef-54f6897a074a\",\"subtype\":\"Figure\",\"type\":\"Plot\"},{\"id\":\"b443dc8a-f977-4711-b48f-264db0c51687\",\"subtype\":\"Figure\",\"type\":\"Plot\"},{\"id\":\"1aec647c-20d2-4930-99f9-ef9c3f75e400\",\"subtype\":\"Figure\",\"type\":\"Plot\"}]},\"id\":\"33d5414e-5459-485a-a538-29ff5a9ff477\",\"type\":\"Row\"},{\"attributes\":{\"above\":[{\"id\":\"0ba64695-9907-41fe-a371-b84d5d140351\",\"type\":\"Legend\"}],\"below\":[{\"id\":\"ce401601-c524-49b6-8365-61cc16f4274e\",\"type\":\"LinearAxis\"}],\"left\":[{\"id\":\"56b23730-d1be-438f-af20-24797f0be9bb\",\"type\":\"LogAxis\"}],\"plot_width\":300,\"renderers\":[{\"id\":\"ce401601-c524-49b6-8365-61cc16f4274e\",\"type\":\"LinearAxis\"},{\"id\":\"ccaf4cbb-a76c-45b0-9e42-e6357c063d5c\",\"type\":\"Grid\"},{\"id\":\"56b23730-d1be-438f-af20-24797f0be9bb\",\"type\":\"LogAxis\"},{\"id\":\"ddf32cad-4f6c-44ea-87c7-0533ba6c203d\",\"type\":\"Grid\"},{\"id\":\"2bdeb931-e0a2-4abf-9a6e-831671079b2f\",\"type\":\"BoxAnnotation\"},{\"id\":\"9944ab71-af33-4274-9efc-5dcb13fe3efb\",\"type\":\"GlyphRenderer\"},{\"id\":\"ed394ab8-545a-4349-ad5b-38555ee988d7\",\"type\":\"GlyphRenderer\"},{\"id\":\"1786faaf-1106-4f2f-9806-c35acd91c44e\",\"type\":\"GlyphRenderer\"},{\"id\":\"51613cfe-9a2e-4cd1-acb7-ed2b3586cc70\",\"type\":\"GlyphRenderer\"},{\"id\":\"f41b6961-d170-4365-890c-47560c7a656e\",\"type\":\"GlyphRenderer\"},{\"id\":\"0ba64695-9907-41fe-a371-b84d5d140351\",\"type\":\"Legend\"}],\"title\":{\"id\":\"7c934309-0727-4c3b-bfd5-5b30021b0d7c\",\"type\":\"Title\"},\"toolbar\":{\"id\":\"6d6f887f-9867-4f20-8a16-80fa04a6a428\",\"type\":\"Toolbar\"},\"toolbar_location\":null,\"x_range\":{\"id\":\"b79fa9ec-766c-4f57-b012-68436b205758\",\"type\":\"Range1d\"},\"x_scale\":{\"id\":\"13418b73-527f-4c7f-82e3-1fd23d155c41\",\"type\":\"LinearScale\"},\"y_range\":{\"id\":\"ef7dfbe5-b9ee-4650-9d82-0e273ba491b9\",\"type\":\"Range1d\"},\"y_scale\":{\"id\":\"1dfb744e-a342-47a0-a252-3abe6fe45585\",\"type\":\"LogScale\"}},\"id\":\"b443dc8a-f977-4711-b48f-264db0c51687\",\"subtype\":\"Figure\",\"type\":\"Plot\"},{\"attributes\":{\"children\":[{\"id\":\"33d5414e-5459-485a-a538-29ff5a9ff477\",\"type\":\"Row\"}]},\"id\":\"c2456c3a-6861-4fe1-b586-655826cf2f1c\",\"type\":\"Column\"},{\"attributes\":{\"line_alpha\":0.1,\"line_color\":\"#1f77b4\",\"line_width\":1.5,\"x\":{\"field\":\"x\"},\"y\":{\"field\":\"y\"}},\"id\":\"2e1bd376-625f-4c93-a7b6-c43fe10de340\",\"type\":\"Line\"},{\"attributes\":{\"line_alpha\":0.8,\"line_color\":\"#984ea3\",\"line_width\":1.5,\"x\":{\"field\":\"x\"},\"y\":{\"field\":\"y\"}},\"id\":\"f69b7812-18a7-4d0b-9456-87f198adc583\",\"type\":\"Line\"},{\"attributes\":{},\"id\":\"63ade7aa-e4ad-4f1d-8e47-245a296e1cfd\",\"type\":\"SaveTool\"},{\"attributes\":{\"fill_alpha\":{\"value\":0.7},\"fill_color\":{\"value\":\"#4daf4a\"},\"line_alpha\":{\"value\":0.7},\"line_color\":{\"value\":\"#4daf4a\"},\"x\":{\"field\":\"x\"},\"y\":{\"field\":\"y\"}},\"id\":\"24af8ba3-e4e7-4822-ab3b-dd93a426fbb9\",\"type\":\"Circle\"},{\"attributes\":{\"callback\":null,\"data\":{\"x\":{\"__ndarray__\":\"cm1sTMT3VEDEyvjosEJHQOKI6DjzCUNArgQWV9awPkB9Lm8XG3M4QEz+Qv6iYzNA7eV8HaPLLkCX1QHyTpMoQFBmYSYetiNAUB04GtGpH0AmFyVE5j8ZQJca9QPGqBNALJP+OOHHDEBNxaf7QF8AQKtislomWuw/cW2dcO6A9T/uJJvfPu0EQIaQLTI/JQ1AxGiII+PmEkCJvfVeuCsYQD6ZBhGbHB9AXQw69DTYJEAsubcwKucqQNuT9D5OmipAJyi3szEJJUBlNebh5WkgQDDcPHBr2xlArtlANXuQFEBdJadFHckQQI2Avh0ZsQtAjYiwt1rsBUCL0SDoVBgAQK6C0nEEjvc/CggLSme58T9sXU2orFPnP0v0JYz9Gdg/vT38vxYczD9nBQTe6kHHP1IhkEXJwKo/8OZnhCVAub+xtVgCpmqzP6DUpY6g0+k/PKK3T1h4+D8RTDjQc1EAQG/dAQs7TwJAQt2eHpPLAEBWEh074x//PyCap9ZSGf4/rEzaTySm/T+7aXhHRmr9P688KeqeNP0/ruZ4EemD/D8olrZcn9T7P0+vNc9hW/s/i9VVL+4P+z+0NzC24uz6P8731Kza8vo/xFf4SHzq+z+gYyHpvHb8P68ROkiFevw/BAjYdCga/D8AUp8VbW77P3JrF/nKmvo/qCQeGfq++T/dplwHJfn4P2G4p+Uva/g/OzZ0RqMZ+D8dmn/iar73P/OuA7Ka8PY/gaaeQHGn9T9hkyjAH1L0P3aZGhdAU/M/n8VP/g7P8j+90HxHNvfyPwhNBtgrqvk/\",\"dtype\":\"float64\",\"shape\":[75]},\"y\":{\"__ndarray__\":\"GhExyth1ND/Sv8nbtpRIP2vylNV0PVE/aTum7souWD/At0SJ8fVgPw3Iuahxymc/MSNhhJWvcD/bTfBN02d3P2zb5nxnaoA/CD5h5MAGhz8NmeH1TyaQP+zrCsc9p5Y/LbKd76fGnz/bLW5ISEmmPww9YvTcQq8/JV2OstnstT8Er5Y7M8G+P0c+r3jqkcU/5h99k6ZBzj88bCIzFzjVP4enV8oyxN0//yH99nXg5D8qOpLLf0jtP5kqGJXUifQ/c9cS8kHP/D+/DpwzojQEQIEmwoanVwxA4lgXt9HgE0BSSZ2AJuIbQAMJih9jjiNA5q4l5INuK0AwTKYKRj0zQNv5fmq8/DpAaCJseHrtQkB/+zpwzoxKQM3MzMzMeFJAZmZmZmZqWEAAAAAAAFxeQM3MzMzMJmJAmpmZmZkfZUBmZmZmZhhoQDMzMzMzEWtAAAAAAAAKbkBmZmZmZoFwQM3MzMzM/XFAMzMzMzN6c0CamZmZmfZ0QAAAAAAAc3ZAZmZmZmbvd0DNzMzMzGt5QDMzMzMz6HpAmpmZmZlkfEAAAAAAAOF9QGZmZmZmXX9AZmZmZuZsgECamZmZGSuBQM3MzMxM6YFAAAAAAICngkAzMzMzs2WDQGZmZmbmI4RAmpmZmRnihEDNzMzMTKCFQAAAAACAXoZAMzMzM7Mch0BmZmZm5tqHQJqZmZkZmYhAzczMzExXiUAAAAAAgBWKQDMzMzOz04pAZmZmZuaRi0CamZmZGVCMQM3MzMxMDo1AAAAAAIDMjUAzMzMzs4qOQGZmZmbmSI9A\",\"dtype\":\"float64\",\"shape\":[75]}},\"selected\":{\"id\":\"16a705a5-32bb-4a08-a6c4-a3b69453566a\",\"type\":\"Selection\"},\"selection_policy\":{\"id\":\"fc4e485d-9140-4bcc-97c8-8803ffc802ab\",\"type\":\"UnionRenderers\"}},\"id\":\"87c56765-00b1-463a-b815-7279f6bf59ae\",\"type\":\"ColumnDataSource\"},{\"attributes\":{},\"id\":\"6f5d2bca-97de-40a9-a9e9-76c0890d8fbe\",\"type\":\"Selection\"},{\"attributes\":{\"data_source\":{\"id\":\"de8f44c9-ea2f-42b5-9a1b-73b006af0930\",\"type\":\"ColumnDataSource\"},\"glyph\":{\"id\":\"f69b7812-18a7-4d0b-9456-87f198adc583\",\"type\":\"Line\"},\"hover_glyph\":null,\"muted_glyph\":null,\"nonselection_glyph\":{\"id\":\"c571c8b0-71ad-4bd0-956d-e991ce7017ac\",\"type\":\"Line\"},\"selection_glyph\":null,\"view\":{\"id\":\"898f59ee-55c2-4f88-be07-e7ba741fc93c\",\"type\":\"CDSView\"}},\"id\":\"741e2c66-96f9-4eef-838a-164be6e72577\",\"type\":\"GlyphRenderer\"},{\"attributes\":{},\"id\":\"2bece5b7-0850-47dd-9494-23ef5bafbd35\",\"type\":\"HelpTool\"},{\"attributes\":{\"line_alpha\":0.1,\"line_color\":\"#1f77b4\",\"line_dash\":[6],\"line_width\":5,\"x\":{\"field\":\"x\"},\"y\":{\"field\":\"y\"}},\"id\":\"a6b7d056-bf3c-4300-8411-56812f4aaa31\",\"type\":\"Line\"},{\"attributes\":{},\"id\":\"f4676ea2-65cd-4b7c-99ae-5cbce5718a9c\",\"type\":\"Selection\"},{\"attributes\":{},\"id\":\"30da1509-5a2f-4b39-94ea-2da0372f6ed3\",\"type\":\"BasicTickFormatter\"},{\"attributes\":{\"toolbar\":{\"id\":\"8c446a62-f856-4624-8982-3677da4c0879\",\"type\":\"ProxyToolbar\"},\"toolbar_location\":\"above\"},\"id\":\"47d576a1-5033-40b6-a343-a8a576ceb9db\",\"type\":\"ToolbarBox\"},{\"attributes\":{},\"id\":\"1cea0504-fa9d-4808-b999-ec6942f2ba73\",\"type\":\"UnionRenderers\"},{\"attributes\":{\"axis_label\":\"cooling rate [K/day]\",\"formatter\":{\"id\":\"c29ca434-1efa-4ab5-859d-e4f8e20ee828\",\"type\":\"BasicTickFormatter\"},\"plot\":{\"id\":\"1aec647c-20d2-4930-99f9-ef9c3f75e400\",\"subtype\":\"Figure\",\"type\":\"Plot\"},\"ticker\":{\"id\":\"74e1fd66-db03-4322-83f1-16276fc4c682\",\"type\":\"BasicTicker\"}},\"id\":\"d1a57554-8823-48e6-8af4-06716ba0d186\",\"type\":\"LinearAxis\"},{\"attributes\":{\"source\":{\"id\":\"f9a75144-7387-4d08-866b-46b7100fc38c\",\"type\":\"ColumnDataSource\"}},\"id\":\"5923566f-70a8-40dc-872e-362ec4bc371a\",\"type\":\"CDSView\"},{\"attributes\":{\"items\":[{\"id\":\"8b9cbaa7-3317-4c4e-ad32-d2e8ef9d4dc6\",\"type\":\"LegendItem\"},{\"id\":\"abf28d7b-a523-4976-acfc-427e51ca6343\",\"type\":\"LegendItem\"},{\"id\":\"b77406ff-beb4-420c-bf24-beb149dfce84\",\"type\":\"LegendItem\"}],\"label_text_font_size\":{\"value\":\"8pt\"},\"location\":\"top_center\",\"orientation\":\"horizontal\",\"plot\":{\"id\":\"7a6bada7-433b-43b2-95ef-54f6897a074a\",\"subtype\":\"Figure\",\"type\":\"Plot\"}},\"id\":\"d810ee29-d8a4-4133-ac7c-edc01e9324ee\",\"type\":\"Legend\"},{\"attributes\":{},\"id\":\"6980d27c-b26c-4be1-a17b-7f6bd7be942b\",\"type\":\"LinearScale\"},{\"attributes\":{\"source\":{\"id\":\"e1012e0e-94bd-4599-ad2d-f5fb005304f1\",\"type\":\"ColumnDataSource\"}},\"id\":\"b58e7449-1b6f-4b3a-b58f-888cd80a5294\",\"type\":\"CDSView\"},{\"attributes\":{\"source\":{\"id\":\"a2e61b9a-867f-4e86-9cb7-8e4804086dc2\",\"type\":\"ColumnDataSource\"}},\"id\":\"2e9a1652-74d7-4d51-8a97-bf09f318684b\",\"type\":\"CDSView\"},{\"attributes\":{},\"id\":\"78715c47-aa75-4f1c-8318-31c7082829b0\",\"type\":\"UnionRenderers\"},{\"attributes\":{},\"id\":\"64ae5d33-6ad8-4eaa-bfee-7e94465339eb\",\"type\":\"BasicTicker\"},{\"attributes\":{\"callback\":null,\"data\":{\"x\":{\"__ndarray__\":\"f4/ZiHBvTUBBtZ0vt7pGQG/fINbyy0NA0ajo+rFtQEBnDVKFn7o5QN3NivFcKTNAabSgY2PuK0B7hWUXvhYlQDx3CYxN8iBAfnWJavBXHECk3a5AKlsXQDOyYGKwNxJAHZ1V197ZCUBJkCI3QVr7P4M/exKR8OU/Ajm/zOnF9D8fwE2FbJgFQIqMToGNuQ5AlsKIL7yaE0DO7Jqv3tgXQO3K5wApaB1AWVZlhe2zI0DW0WHIGv0pQAkxhJVrIipA8iTl8GfOJEAjPetJ4hMgQE9BoH+NIBpASV7Hy1F2FUADwAhqxnQRQJjwl50iXQxA+iL5WPiKBkAltKk2mdr/PyZyy9df1/Y/u1Qqa6E48j95+UcQ7d/nP0JnUJIYxtM/1wsiMkwQwT92lYktlGnAP61qGo0owZk/Z/0TGbqCvb+uVUupIz+sP5VC1H0ssOg/ycFw9Uyz9z/ssMoMKSoAQGEZPzcyqAFATWXAqDEKAEAh1iL6bUL+P9gi4BmCD/0/x1rYn/hO/D9OqHoOOSH8P9pKBDuZQ/w/uG9sL4bb+z+Lyb/QD3T7P7369TPpE/s/lb7l8YHT+j8opgNAsqT6P0dOkJvUqfo/RwAjXhHG+z/XZlL5ja38PzwFoCGBLv0/fU6ZEVkx/T8m/V7HFnr8P4QnlD9IdPs/aP/heEc8+j87prZp7xn5P48FYqBGjfg/82a+l4Nf+D9jMgjrgDX4P2lOm8ca0/c/E1Ikvp+29j+1rnMBn4P1Pyo/ZCKJpPQ/GyZyNwMF9D92Gg/MT070P5rtBcT2+/o/\",\"dtype\":\"float64\",\"shape\":[75]},\"y\":{\"__ndarray__\":\"GhExyth1ND/Sv8nbtpRIP2vylNV0PVE/aTum7souWD/At0SJ8fVgPw3Iuahxymc/MSNhhJWvcD/bTfBN02d3P2zb5nxnaoA/CD5h5MAGhz8NmeH1TyaQP+zrCsc9p5Y/LbKd76fGnz/bLW5ISEmmPww9YvTcQq8/JV2OstnstT8Er5Y7M8G+P0c+r3jqkcU/5h99k6ZBzj88bCIzFzjVP4enV8oyxN0//yH99nXg5D8qOpLLf0jtP5kqGJXUifQ/c9cS8kHP/D+/DpwzojQEQIEmwoanVwxA4lgXt9HgE0BSSZ2AJuIbQAMJih9jjiNA5q4l5INuK0AwTKYKRj0zQNv5fmq8/DpAaCJseHrtQkB/+zpwzoxKQM3MzMzMeFJAZmZmZmZqWEAAAAAAAFxeQM3MzMzMJmJAmpmZmZkfZUBmZmZmZhhoQDMzMzMzEWtAAAAAAAAKbkBmZmZmZoFwQM3MzMzM/XFAMzMzMzN6c0CamZmZmfZ0QAAAAAAAc3ZAZmZmZmbvd0DNzMzMzGt5QDMzMzMz6HpAmpmZmZlkfEAAAAAAAOF9QGZmZmZmXX9AZmZmZuZsgECamZmZGSuBQM3MzMxM6YFAAAAAAICngkAzMzMzs2WDQGZmZmbmI4RAmpmZmRnihEDNzMzMTKCFQAAAAACAXoZAMzMzM7Mch0BmZmZm5tqHQJqZmZkZmYhAzczMzExXiUAAAAAAgBWKQDMzMzOz04pAZmZmZuaRi0CamZmZGVCMQM3MzMxMDo1AAAAAAIDMjUAzMzMzs4qOQGZmZmbmSI9A\",\"dtype\":\"float64\",\"shape\":[75]}},\"selected\":{\"id\":\"9ad371fa-863f-4e87-bcb8-aed518b92f81\",\"type\":\"Selection\"},\"selection_policy\":{\"id\":\"9a6f6cc6-4516-48ab-a394-4ad003cfc3bb\",\"type\":\"UnionRenderers\"}},\"id\":\"c1d87dd5-6c98-4807-aee6-64c1ae02c8f1\",\"type\":\"ColumnDataSource\"},{\"attributes\":{\"callback\":null,\"data\":{\"x\":{\"__ndarray__\":\"x5b+HzAAOcBUsGIrN//wv5rRCqfzP/g/lWfa9WxUAUC87i3eRnj0P2k3GFwGI82/KIzhzv3p9r/dgOLUhuT7v5h4v9KEHva/lz51fQWP6r8MmGM3wEvevzuGRhlaEde/bbBHDRNw17866bMAA5HVv6SM3CBVpsm/z43Ge5Rgp78kZlO2tGW1P0jAD/LkRMk/mjoLgCF7xj9YL7TWa7a0vxDl7AEhR9u/QmBL7XZE4r+66rwK7UHdv520GFyq+M2/jJoBaeFkvb+mEL7+5YDFv8xH2diDSLE/UZPQ0NK6zD++VDOMJHXFP0sBLvsvgbU/rU0TKbTTsz+AvPtlJoSVvyQR4kCT1Ka/DCzTR4jOnz+RgVP/DIiRPyc0VueTT7G/zGO0G5UXtr/Cv+nBWmGrvw3YBf5pwJu/5lmwUlIKkb9iK8y2UCyVv7MgGQ1BN6K/Zg7cSGuhqL97ks22YaWTv6+BWHga4bS/if7Ouy4suL+uhkcfqK6rv3h0d8wLnbC/Th4fALtytb/0FtyP05C0v706nuS1IK6/nt6OQVwMpb+xJ7P94iOYv7Ik7c8m3pG/XHsLuB42jr+yYiSLHQySv2VhKlGEQZK/gL6ranU1gr8Tm4EYiGiLP2Bxvix7f6Y/qGcUzAlzsT9osvobm7qwP2qCl8+oL6s/W7D28FdTnz+Ar/8sMWWAP2CXJl1dC4E/wS2MUhR4kT8AEiYigsWdP+Tu87ICUKw/Urla2OfysD86tbEU9BezP0pbmrSQFLU/zwcmkkNfsz+emyRJmHG1PyEJ+r+uHLU/\",\"dtype\":\"float64\",\"shape\":[75]},\"y\":{\"__ndarray__\":\"GhExyth1ND/Sv8nbtpRIP2vylNV0PVE/aTum7souWD/At0SJ8fVgPw3Iuahxymc/MSNhhJWvcD/bTfBN02d3P2zb5nxnaoA/CD5h5MAGhz8NmeH1TyaQP+zrCsc9p5Y/LbKd76fGnz/bLW5ISEmmPww9YvTcQq8/JV2OstnstT8Er5Y7M8G+P0c+r3jqkcU/5h99k6ZBzj88bCIzFzjVP4enV8oyxN0//yH99nXg5D8qOpLLf0jtP5kqGJXUifQ/c9cS8kHP/D+/DpwzojQEQIEmwoanVwxA4lgXt9HgE0BSSZ2AJuIbQAMJih9jjiNA5q4l5INuK0AwTKYKRj0zQNv5fmq8/DpAaCJseHrtQkB/+zpwzoxKQM3MzMzMeFJAZmZmZmZqWEAAAAAAAFxeQM3MzMzMJmJAmpmZmZkfZUBmZmZmZhhoQDMzMzMzEWtAAAAAAAAKbkBmZmZmZoFwQM3MzMzM/XFAMzMzMzN6c0CamZmZmfZ0QAAAAAAAc3ZAZmZmZmbvd0DNzMzMzGt5QDMzMzMz6HpAmpmZmZlkfEAAAAAAAOF9QGZmZmZmXX9AZmZmZuZsgECamZmZGSuBQM3MzMxM6YFAAAAAAICngkAzMzMzs2WDQGZmZmbmI4RAmpmZmRnihEDNzMzMTKCFQAAAAACAXoZAMzMzM7Mch0BmZmZm5tqHQJqZmZkZmYhAzczMzExXiUAAAAAAgBWKQDMzMzOz04pAZmZmZuaRi0CamZmZGVCMQM3MzMxMDo1AAAAAAIDMjUAzMzMzs4qOQGZmZmbmSI9A\",\"dtype\":\"float64\",\"shape\":[75]}},\"selected\":{\"id\":\"6f5d2bca-97de-40a9-a9e9-76c0890d8fbe\",\"type\":\"Selection\"},\"selection_policy\":{\"id\":\"d06dab49-368d-42fe-a23f-f8cbd234a77d\",\"type\":\"UnionRenderers\"}},\"id\":\"911226d5-390c-4668-b5a5-47661365f923\",\"type\":\"ColumnDataSource\"},{\"attributes\":{\"source\":{\"id\":\"769f32bd-b9c4-4269-9abb-b2f77144946e\",\"type\":\"ColumnDataSource\"}},\"id\":\"1b46aae5-695b-44c1-b25f-121e1581048c\",\"type\":\"CDSView\"},{\"attributes\":{},\"id\":\"a7c365c7-b380-4f0e-a2fe-8185e6c160de\",\"type\":\"Selection\"},{\"attributes\":{},\"id\":\"655caa38-b34a-49fd-9244-400e89eb13de\",\"type\":\"WheelZoomTool\"},{\"attributes\":{\"dimension\":1,\"plot\":{\"id\":\"7a6bada7-433b-43b2-95ef-54f6897a074a\",\"subtype\":\"Figure\",\"type\":\"Plot\"},\"ticker\":{\"id\":\"64ae5d33-6ad8-4eaa-bfee-7e94465339eb\",\"type\":\"BasicTicker\"}},\"id\":\"cf711e1e-1f54-43a7-af1a-b0e43c131203\",\"type\":\"Grid\"},{\"attributes\":{\"data_source\":{\"id\":\"769f32bd-b9c4-4269-9abb-b2f77144946e\",\"type\":\"ColumnDataSource\"},\"glyph\":{\"id\":\"896e0e98-4e7c-48b7-a7f4-412d5f4ca802\",\"type\":\"Line\"},\"hover_glyph\":null,\"muted_glyph\":null,\"nonselection_glyph\":{\"id\":\"893be664-134f-4a98-9c5b-80bd70a0930d\",\"type\":\"Line\"},\"selection_glyph\":null,\"view\":{\"id\":\"1b46aae5-695b-44c1-b25f-121e1581048c\",\"type\":\"CDSView\"}},\"id\":\"ac887a45-2f60-4a91-8737-b9538c149b21\",\"type\":\"GlyphRenderer\"},{\"attributes\":{\"line_color\":\"#4daf4a\",\"line_width\":1.5,\"x\":{\"field\":\"x\"},\"y\":{\"field\":\"y\"}},\"id\":\"a6152f47-2f78-4570-9b56-18d491d8b1a2\",\"type\":\"Line\"},{\"attributes\":{},\"id\":\"aef7fb38-8f2c-489f-9072-2f433ad1af0f\",\"type\":\"SaveTool\"},{\"attributes\":{\"above\":[{\"id\":\"d700258b-94a9-4459-9294-e4a6ee6b4113\",\"type\":\"Legend\"}],\"below\":[{\"id\":\"d1a57554-8823-48e6-8af4-06716ba0d186\",\"type\":\"LinearAxis\"}],\"left\":[{\"id\":\"f16832b4-7612-4a00-81bc-93fff0279ef4\",\"type\":\"LogAxis\"}],\"plot_width\":300,\"renderers\":[{\"id\":\"d1a57554-8823-48e6-8af4-06716ba0d186\",\"type\":\"LinearAxis\"},{\"id\":\"375dbe84-b8cd-49cb-9832-8f706dcf44a0\",\"type\":\"Grid\"},{\"id\":\"f16832b4-7612-4a00-81bc-93fff0279ef4\",\"type\":\"LogAxis\"},{\"id\":\"99417c17-5a76-41a6-aab8-0267b4d2253b\",\"type\":\"Grid\"},{\"id\":\"a5eb5b2b-49b8-4a25-94eb-952d7e20e83f\",\"type\":\"BoxAnnotation\"},{\"id\":\"b614bf6a-dfc6-40ba-904e-4ad45764d374\",\"type\":\"GlyphRenderer\"},{\"id\":\"741e2c66-96f9-4eef-838a-164be6e72577\",\"type\":\"GlyphRenderer\"},{\"id\":\"430d517c-afdd-4f88-a573-3675697b6f97\",\"type\":\"GlyphRenderer\"},{\"id\":\"d700258b-94a9-4459-9294-e4a6ee6b4113\",\"type\":\"Legend\"}],\"title\":{\"id\":\"00c98a12-cf45-4a83-b269-ccfdc3e1587d\",\"type\":\"Title\"},\"toolbar\":{\"id\":\"962ffdc7-f217-4aa7-b7e5-fa89f00c1cbd\",\"type\":\"Toolbar\"},\"toolbar_location\":null,\"x_range\":{\"id\":\"57c99601-32af-4a12-9895-b562cb284a60\",\"type\":\"Range1d\"},\"x_scale\":{\"id\":\"6980d27c-b26c-4be1-a17b-7f6bd7be942b\",\"type\":\"LinearScale\"},\"y_range\":{\"id\":\"a08d8be8-f5b3-47e2-9491-ba75122dde63\",\"type\":\"Range1d\"},\"y_scale\":{\"id\":\"6da9afc8-ca3a-4f9c-bbd0-857504d34aed\",\"type\":\"LogScale\"}},\"id\":\"1aec647c-20d2-4930-99f9-ef9c3f75e400\",\"subtype\":\"Figure\",\"type\":\"Plot\"},{\"attributes\":{\"line_color\":\"#4daf4a\",\"line_width\":1.5,\"x\":{\"field\":\"x\"},\"y\":{\"field\":\"y\"}},\"id\":\"e09a9457-40f8-4aeb-92f5-728812c7d41e\",\"type\":\"Line\"},{\"attributes\":{\"fill_alpha\":{\"value\":0.7},\"fill_color\":{\"value\":\"#984ea3\"},\"line_alpha\":{\"value\":0.7},\"line_color\":{\"value\":\"#984ea3\"},\"x\":{\"field\":\"x\"},\"y\":{\"field\":\"y\"}},\"id\":\"d4a62672-05b5-42ef-b83d-c8c763d87022\",\"type\":\"Square\"},{\"attributes\":{},\"id\":\"7320423c-abbd-4663-81ac-bdc98f93d707\",\"type\":\"BasicTicker\"},{\"attributes\":{},\"id\":\"750ddfcb-f33c-4961-b2b1-46d88cebe047\",\"type\":\"SaveTool\"},{\"attributes\":{},\"id\":\"19513386-a39f-4cf9-a63d-674a77f16141\",\"type\":\"Selection\"},{\"attributes\":{\"tools\":[{\"id\":\"b9662a54-4406-4455-bc35-812e3da51a11\",\"type\":\"PanTool\"},{\"id\":\"655caa38-b34a-49fd-9244-400e89eb13de\",\"type\":\"WheelZoomTool\"},{\"id\":\"51c5bb68-a056-444b-be7a-bf986b54788a\",\"type\":\"BoxZoomTool\"},{\"id\":\"750ddfcb-f33c-4961-b2b1-46d88cebe047\",\"type\":\"SaveTool\"},{\"id\":\"370efbf1-f0aa-4b20-815d-d7b5d2b7b600\",\"type\":\"ResetTool\"},{\"id\":\"2bece5b7-0850-47dd-9494-23ef5bafbd35\",\"type\":\"HelpTool\"},{\"id\":\"b8aa41b4-fcfc-4532-b480-7fc2735d7e77\",\"type\":\"PanTool\"},{\"id\":\"a02c49c4-4f92-428d-a9fd-96ce31cc9c10\",\"type\":\"WheelZoomTool\"},{\"id\":\"f130486b-79e8-4f96-826e-41a69369240c\",\"type\":\"BoxZoomTool\"},{\"id\":\"aef7fb38-8f2c-489f-9072-2f433ad1af0f\",\"type\":\"SaveTool\"},{\"id\":\"2f0ecd9d-9ab5-40b8-94c6-62ec23a31b25\",\"type\":\"ResetTool\"},{\"id\":\"293aa238-61e1-464d-ace8-5f29565b3308\",\"type\":\"HelpTool\"},{\"id\":\"bf3cb458-5e87-487d-b031-b1e9b1d9af3c\",\"type\":\"PanTool\"},{\"id\":\"82b7f086-949b-4f06-96a2-30364c36fba5\",\"type\":\"WheelZoomTool\"},{\"id\":\"6d455624-cd5f-42a0-bb48-4352798cd155\",\"type\":\"BoxZoomTool\"},{\"id\":\"63ade7aa-e4ad-4f1d-8e47-245a296e1cfd\",\"type\":\"SaveTool\"},{\"id\":\"6e3b6a72-143b-409a-9226-0904bb981c96\",\"type\":\"ResetTool\"},{\"id\":\"744da616-42d8-44cf-bc57-50149a5aaf33\",\"type\":\"HelpTool\"}]},\"id\":\"8c446a62-f856-4624-8982-3677da4c0879\",\"type\":\"ProxyToolbar\"},{\"attributes\":{\"axis_label\":\"pressure [mb]\",\"formatter\":{\"id\":\"dc004384-d077-4172-ad69-6cf1a0d5e21d\",\"type\":\"BasicTickFormatter\"},\"plot\":{\"id\":\"7a6bada7-433b-43b2-95ef-54f6897a074a\",\"subtype\":\"Figure\",\"type\":\"Plot\"},\"ticker\":{\"id\":\"64ae5d33-6ad8-4eaa-bfee-7e94465339eb\",\"type\":\"BasicTicker\"}},\"id\":\"0c66ba62-bad6-4627-a967-ca33ff718fa4\",\"type\":\"LinearAxis\"},{\"attributes\":{},\"id\":\"1dfb744e-a342-47a0-a252-3abe6fe45585\",\"type\":\"LogScale\"},{\"attributes\":{\"dimension\":1,\"plot\":{\"id\":\"1aec647c-20d2-4930-99f9-ef9c3f75e400\",\"subtype\":\"Figure\",\"type\":\"Plot\"},\"ticker\":{\"id\":\"6e74c1e0-4e8b-466f-94e0-ecfcf29e52eb\",\"type\":\"LogTicker\"}},\"id\":\"99417c17-5a76-41a6-aab8-0267b4d2253b\",\"type\":\"Grid\"},{\"attributes\":{\"callback\":null,\"data\":{\"x\":{\"__ndarray__\":\"zxhdnl3RU0CKgDdE+dxEQP+f5duhdUFAMZBr6ewEQkABDxZQyK45QBiX3ka8EDZAj18alnlwL0CfYJlYHKIqQJoaoQNWxSJAv74t7BozIUBMkS56I6AXQBxPe4ld/BRAncjiKz2HCkCKCgdQ/WcBQKJTvluRvOg/jvJpYJwB9j+gcxKIKREEQOwUvOtLFw1AVkAt7oRoEkD4lECKxjYXQAZydNQ0jR1ACryvRZLfI0CN3MmPRGApQCcUNq4qNylA6FN9h30SJECRnP+HbGofQDQKaukXmhlAteFC/mL9E0CTDffT91MQQEoVAKh1YwtAqFesCIQRBkAUatBMXLz/P4fvYPUXo/Y/tDrQnFTK8T/hneFQ7xLnP14aDQuCJtc/5hrOx2LRzT+gE4V0bnvHP3eeIXamhrA/cmaxNtALrr92uqPyMJK3P6q5+U821+g/c0rZjXL49z/TaxRJZAUAQP3VLij27QFAiQe8XqaCAEAu4Q7keaX+P0ZyKG35kv0/XHVqXZRQ/T/+RskYEAv9PwKD1IjB3fw/JBko3yJ2/D8AmhCM5iX7P/btQHcr5vo/xjCcdQr9+j+f/V+tjrf6P0Wt2HvLrvo/84V/x6br+z/bYX40veD8P86HZwkyUvw/CUxgoI8l/D8RA+bsYB78P2au9w7DDvw/kRNJm3qS+j8wZ0xHVJ75Py0d1shscPk/NKgVKiiK+T/ONtzstIr5P4ps72zyaPc/TVSpuPUj9j9T2qZu6gj1P2XVmdu6VPQ/t/WgjjEZ9D+np734CoH0P1L4Q57qwfo/\",\"dtype\":\"float64\",\"shape\":[75]},\"y\":{\"__ndarray__\":\"hLndy31yND/6fmq8dJNIP8n9DkWBPlE/aDum7souWD/b4a/JGvVgP9f34SAhymc/ZvM4DOavcD+z0M5pFmh3PxuC4zJuaoA/xjcUPlsHhz8uHAjJAiaQP9ieWRKgppY/oI7HDFTGnz+a5h2n6EimPzS6g9iZQq8/IuAQqtTstT9SSZ2AJsK+P4nS3uALk8U/ih9j7lpCzj+ASL99HTjVP4enV8oyxN0/ACL99nXg5D9fmEwVjErtPyUGgZVDi/Q/AiuHFtnO/D9OYhBYOTQEQPHSTWIQWAxA4XoUrkfhE0D8qfHSTeIbQMh2vp8ajyNArkfhehRuK0Bcj8L1KDwzQFyPwvUo/DpAPgrXo3DtQkDNzMzMzIxKQClcj8L1eFJAKVyPwvVoWECamZmZmVleQGZmZmZmJmJAAAAAAAAgZUCamZmZmRloQJqZmZmZEWtAmpmZmZkJbkCamZmZmYFwQGZmZmZm/nFAZmZmZmZ6c0BmZmZmZvZ0QDQzMzMzc3ZAAAAAAADwd0AAAAAAAGx5QAAAAAAA6HpAzMzMzMxkfEDMzMzMzOB9QM3MzMzMXH9AzczMzMxsgEAzMzMzMyuBQDMzMzMz6YFAMzMzMzOngkCamZmZmWWDQAAAAAAAJIRAAAAAAADihEAAAAAAAKCFQGZmZmZmXoZAzczMzMwch0DNzMzMzNqHQM3MzMzMmIhAMzMzMzNXiUCamZmZmRWKQAAAAAAA1IpAAAAAAACSi0AAAAAAAFCMQGZmZmZmDo1AzczMzMzMjUDNzMzMzIqOQM3MzMzMSI9A\",\"dtype\":\"float64\",\"shape\":[75]}},\"selected\":{\"id\":\"f4676ea2-65cd-4b7c-99ae-5cbce5718a9c\",\"type\":\"Selection\"},\"selection_policy\":{\"id\":\"531d292a-b67f-4dc7-bf86-c35161d8e133\",\"type\":\"UnionRenderers\"}},\"id\":\"f9a75144-7387-4d08-866b-46b7100fc38c\",\"type\":\"ColumnDataSource\"},{\"attributes\":{},\"id\":\"74e1fd66-db03-4322-83f1-16276fc4c682\",\"type\":\"BasicTicker\"},{\"attributes\":{\"line_alpha\":0.1,\"line_color\":\"#1f77b4\",\"line_dash\":[6],\"line_width\":4,\"x\":{\"field\":\"x\"},\"y\":{\"field\":\"y\"}},\"id\":\"7ad10420-92fa-4367-8a33-22661b37b793\",\"type\":\"Line\"},{\"attributes\":{},\"id\":\"b8aa41b4-fcfc-4532-b480-7fc2735d7e77\",\"type\":\"PanTool\"},{\"attributes\":{\"line_alpha\":0.1,\"line_color\":\"#1f77b4\",\"line_width\":1.5,\"x\":{\"field\":\"x\"},\"y\":{\"field\":\"y\"}},\"id\":\"893be664-134f-4a98-9c5b-80bd70a0930d\",\"type\":\"Line\"},{\"attributes\":{\"callback\":null,\"data\":{\"x\":{\"__ndarray__\":\"cm1sTMT3VEDEyvjosEJHQOKI6DjzCUNArgQWV9awPkB9Lm8XG3M4QEz+Qv6iYzNA7eV8HaPLLkCX1QHyTpMoQFBmYSYetiNAUB04GtGpH0AmFyVE5j8ZQJca9QPGqBNALJP+OOHHDEBNxaf7QF8AQKtislomWuw/cW2dcO6A9T/uJJvfPu0EQIaQLTI/JQ1AxGiII+PmEkCJvfVeuCsYQD6ZBhGbHB9AXQw69DTYJEAsubcwKucqQNuT9D5OmipAJyi3szEJJUBlNebh5WkgQDDcPHBr2xlArtlANXuQFEBdJadFHckQQI2Avh0ZsQtAjYiwt1rsBUCL0SDoVBgAQK6C0nEEjvc/CggLSme58T9sXU2orFPnP0v0JYz9Gdg/vT38vxYczD9nBQTe6kHHP1IhkEXJwKo/8OZnhCVAub+xtVgCpmqzP6DUpY6g0+k/PKK3T1h4+D8RTDjQc1EAQG/dAQs7TwJAQt2eHpPLAEBWEh074x//PyCap9ZSGf4/rEzaTySm/T+7aXhHRmr9P688KeqeNP0/ruZ4EemD/D8olrZcn9T7P0+vNc9hW/s/i9VVL+4P+z+0NzC24uz6P8731Kza8vo/xFf4SHzq+z+gYyHpvHb8P68ROkiFevw/BAjYdCga/D8AUp8VbW77P3JrF/nKmvo/qCQeGfq++T/dplwHJfn4P2G4p+Uva/g/OzZ0RqMZ+D8dmn/iar73P/OuA7Ka8PY/gaaeQHGn9T9hkyjAH1L0P3aZGhdAU/M/n8VP/g7P8j+90HxHNvfyPwhNBtgrqvk/\",\"dtype\":\"float64\",\"shape\":[75]},\"y\":{\"__ndarray__\":\"GhExyth1ND/Sv8nbtpRIP2vylNV0PVE/aTum7souWD/At0SJ8fVgPw3Iuahxymc/MSNhhJWvcD/bTfBN02d3P2zb5nxnaoA/CD5h5MAGhz8NmeH1TyaQP+zrCsc9p5Y/LbKd76fGnz/bLW5ISEmmPww9YvTcQq8/JV2OstnstT8Er5Y7M8G+P0c+r3jqkcU/5h99k6ZBzj88bCIzFzjVP4enV8oyxN0//yH99nXg5D8qOpLLf0jtP5kqGJXUifQ/c9cS8kHP/D+/DpwzojQEQIEmwoanVwxA4lgXt9HgE0BSSZ2AJuIbQAMJih9jjiNA5q4l5INuK0AwTKYKRj0zQNv5fmq8/DpAaCJseHrtQkB/+zpwzoxKQM3MzMzMeFJAZmZmZmZqWEAAAAAAAFxeQM3MzMzMJmJAmpmZmZkfZUBmZmZmZhhoQDMzMzMzEWtAAAAAAAAKbkBmZmZmZoFwQM3MzMzM/XFAMzMzMzN6c0CamZmZmfZ0QAAAAAAAc3ZAZmZmZmbvd0DNzMzMzGt5QDMzMzMz6HpAmpmZmZlkfEAAAAAAAOF9QGZmZmZmXX9AZmZmZuZsgECamZmZGSuBQM3MzMxM6YFAAAAAAICngkAzMzMzs2WDQGZmZmbmI4RAmpmZmRnihEDNzMzMTKCFQAAAAACAXoZAMzMzM7Mch0BmZmZm5tqHQJqZmZkZmYhAzczMzExXiUAAAAAAgBWKQDMzMzOz04pAZmZmZuaRi0CamZmZGVCMQM3MzMxMDo1AAAAAAIDMjUAzMzMzs4qOQGZmZmbmSI9A\",\"dtype\":\"float64\",\"shape\":[75]}},\"selected\":{\"id\":\"68ad9ce5-90cc-4cbe-8ce5-34caba6850fe\",\"type\":\"Selection\"},\"selection_policy\":{\"id\":\"1e07ea16-e450-4ddc-bc4c-66ebdf804d67\",\"type\":\"UnionRenderers\"}},\"id\":\"e1012e0e-94bd-4599-ad2d-f5fb005304f1\",\"type\":\"ColumnDataSource\"},{\"attributes\":{\"fill_alpha\":{\"value\":0.7},\"fill_color\":{\"value\":\"#984ea3\"},\"line_alpha\":{\"value\":0.7},\"line_color\":{\"value\":\"#984ea3\"},\"x\":{\"field\":\"x\"},\"y\":{\"field\":\"y\"}},\"id\":\"500c160c-cb3d-44a8-9283-1e1e1d6b5f80\",\"type\":\"Circle\"},{\"attributes\":{\"label\":{\"value\":\"CRD\"},\"renderers\":[{\"id\":\"061da50c-cac2-4879-af41-04efc178143a\",\"type\":\"GlyphRenderer\"},{\"id\":\"e7056eb6-f14f-4b75-9f53-97e759990e73\",\"type\":\"GlyphRenderer\"}]},\"id\":\"abf28d7b-a523-4976-acfc-427e51ca6343\",\"type\":\"LegendItem\"},{\"attributes\":{\"num_minor_ticks\":10},\"id\":\"6e74c1e0-4e8b-466f-94e0-ecfcf29e52eb\",\"type\":\"LogTicker\"},{\"attributes\":{\"data_source\":{\"id\":\"911226d5-390c-4668-b5a5-47661365f923\",\"type\":\"ColumnDataSource\"},\"glyph\":{\"id\":\"500c160c-cb3d-44a8-9283-1e1e1d6b5f80\",\"type\":\"Circle\"},\"hover_glyph\":null,\"muted_glyph\":null,\"nonselection_glyph\":{\"id\":\"178ffc1a-fc40-496c-ba6c-d8f32849b8f8\",\"type\":\"Circle\"},\"selection_glyph\":null,\"view\":{\"id\":\"164d6f86-f810-4832-82f1-52b6eaa89562\",\"type\":\"CDSView\"}},\"id\":\"b614bf6a-dfc6-40ba-904e-4ad45764d374\",\"type\":\"GlyphRenderer\"},{\"attributes\":{\"source\":{\"id\":\"de8f44c9-ea2f-42b5-9a1b-73b006af0930\",\"type\":\"ColumnDataSource\"}},\"id\":\"898f59ee-55c2-4f88-be07-e7ba741fc93c\",\"type\":\"CDSView\"},{\"attributes\":{},\"id\":\"2eb15864-2fc2-4579-99a5-4336311a3909\",\"type\":\"Selection\"},{\"attributes\":{\"overlay\":{\"id\":\"2bdeb931-e0a2-4abf-9a6e-831671079b2f\",\"type\":\"BoxAnnotation\"}},\"id\":\"f130486b-79e8-4f96-826e-41a69369240c\",\"type\":\"BoxZoomTool\"},{\"attributes\":{},\"id\":\"68ad9ce5-90cc-4cbe-8ce5-34caba6850fe\",\"type\":\"Selection\"},{\"attributes\":{\"items\":[{\"id\":\"5ea4907e-1349-40fa-9fc7-af7dbba623f9\",\"type\":\"LegendItem\"},{\"id\":\"71eec4b8-7042-41bb-86c9-6dc4a38d518f\",\"type\":\"LegendItem\"}],\"label_text_font_size\":{\"value\":\"8pt\"},\"location\":\"top_center\",\"orientation\":\"horizontal\",\"plot\":{\"id\":\"1aec647c-20d2-4930-99f9-ef9c3f75e400\",\"subtype\":\"Figure\",\"type\":\"Plot\"}},\"id\":\"d700258b-94a9-4459-9294-e4a6ee6b4113\",\"type\":\"Legend\"},{\"attributes\":{},\"id\":\"956c70de-a5b3-4aa2-a81f-594e3d5977c0\",\"type\":\"UnionRenderers\"},{\"attributes\":{\"plot\":null,\"text\":\"\"},\"id\":\"94ded599-8ad1-4c4c-9c00-74991e6ce65d\",\"type\":\"Title\"},{\"attributes\":{\"callback\":null,\"end\":0.01,\"start\":1020},\"id\":\"ef7dfbe5-b9ee-4650-9d82-0e273ba491b9\",\"type\":\"Range1d\"},{\"attributes\":{},\"id\":\"a02c49c4-4f92-428d-a9fd-96ce31cc9c10\",\"type\":\"WheelZoomTool\"},{\"attributes\":{},\"id\":\"a02c16a4-6570-4b4e-9bc6-755c9ec5b437\",\"type\":\"LinearScale\"},{\"attributes\":{\"ticker\":null},\"id\":\"c6e5cda2-ff5d-4c47-a15b-4184f971b961\",\"type\":\"LogTickFormatter\"},{\"attributes\":{\"callback\":null,\"end\":2.3127264625221104,\"start\":-0.13931561307310997},\"id\":\"08a6621e-f82f-4d7e-a72a-d5f5dd4fc92d\",\"type\":\"Range1d\"},{\"attributes\":{},\"id\":\"0b7bf8e8-dc32-49ba-9f9e-b08bd9ef5fd1\",\"type\":\"UnionRenderers\"},{\"attributes\":{\"callback\":null,\"data\":{\"x\":{\"__ndarray__\":\"cm1sTMT3VEDEyvjosEJHQOKI6DjzCUNArgQWV9awPkB9Lm8XG3M4QEz+Qv6iYzNA7eV8HaPLLkCX1QHyTpMoQFBmYSYetiNAUB04GtGpH0AmFyVE5j8ZQJca9QPGqBNALJP+OOHHDEBNxaf7QF8AQKtislomWuw/cW2dcO6A9T/uJJvfPu0EQIaQLTI/JQ1AxGiII+PmEkCJvfVeuCsYQD6ZBhGbHB9AXQw69DTYJEAsubcwKucqQNuT9D5OmipAJyi3szEJJUBlNebh5WkgQDDcPHBr2xlArtlANXuQFEBdJadFHckQQI2Avh0ZsQtAjYiwt1rsBUCL0SDoVBgAQK6C0nEEjvc/CggLSme58T9sXU2orFPnP0v0JYz9Gdg/vT38vxYczD9nBQTe6kHHP1IhkEXJwKo/8OZnhCVAub+xtVgCpmqzP6DUpY6g0+k/PKK3T1h4+D8RTDjQc1EAQG/dAQs7TwJAQt2eHpPLAEBWEh074x//PyCap9ZSGf4/rEzaTySm/T+7aXhHRmr9P688KeqeNP0/ruZ4EemD/D8olrZcn9T7P0+vNc9hW/s/i9VVL+4P+z+0NzC24uz6P8731Kza8vo/xFf4SHzq+z+gYyHpvHb8P68ROkiFevw/BAjYdCga/D8AUp8VbW77P3JrF/nKmvo/qCQeGfq++T/dplwHJfn4P2G4p+Uva/g/OzZ0RqMZ+D8dmn/iar73P/OuA7Ka8PY/gaaeQHGn9T9hkyjAH1L0P3aZGhdAU/M/n8VP/g7P8j+90HxHNvfyPwhNBtgrqvk/\",\"dtype\":\"float64\",\"shape\":[75]},\"y\":{\"__ndarray__\":\"GhExyth1ND/Sv8nbtpRIP2vylNV0PVE/aTum7souWD/At0SJ8fVgPw3Iuahxymc/MSNhhJWvcD/bTfBN02d3P2zb5nxnaoA/CD5h5MAGhz8NmeH1TyaQP+zrCsc9p5Y/LbKd76fGnz/bLW5ISEmmPww9YvTcQq8/JV2OstnstT8Er5Y7M8G+P0c+r3jqkcU/5h99k6ZBzj88bCIzFzjVP4enV8oyxN0//yH99nXg5D8qOpLLf0jtP5kqGJXUifQ/c9cS8kHP/D+/DpwzojQEQIEmwoanVwxA4lgXt9HgE0BSSZ2AJuIbQAMJih9jjiNA5q4l5INuK0AwTKYKRj0zQNv5fmq8/DpAaCJseHrtQkB/+zpwzoxKQM3MzMzMeFJAZmZmZmZqWEAAAAAAAFxeQM3MzMzMJmJAmpmZmZkfZUBmZmZmZhhoQDMzMzMzEWtAAAAAAAAKbkBmZmZmZoFwQM3MzMzM/XFAMzMzMzN6c0CamZmZmfZ0QAAAAAAAc3ZAZmZmZmbvd0DNzMzMzGt5QDMzMzMz6HpAmpmZmZlkfEAAAAAAAOF9QGZmZmZmXX9AZmZmZuZsgECamZmZGSuBQM3MzMxM6YFAAAAAAICngkAzMzMzs2WDQGZmZmbmI4RAmpmZmRnihEDNzMzMTKCFQAAAAACAXoZAMzMzM7Mch0BmZmZm5tqHQJqZmZkZmYhAzczMzExXiUAAAAAAgBWKQDMzMzOz04pAZmZmZuaRi0CamZmZGVCMQM3MzMxMDo1AAAAAAIDMjUAzMzMzs4qOQGZmZmbmSI9A\",\"dtype\":\"float64\",\"shape\":[75]}},\"selected\":{\"id\":\"bf30a880-57ee-4ec5-b973-a2dc45ebe183\",\"type\":\"Selection\"},\"selection_policy\":{\"id\":\"6912496c-3433-454e-b8ec-6e2db50c9399\",\"type\":\"UnionRenderers\"}},\"id\":\"464e6440-e776-4c12-9699-26db0855ea3a\",\"type\":\"ColumnDataSource\"},{\"attributes\":{\"callback\":null,\"data\":{\"x\":{\"__ndarray__\":\"f4/ZiHBvTUBBtZ0vt7pGQG/fINbyy0NA0ajo+rFtQEBnDVKFn7o5QN3NivFcKTNAabSgY2PuK0B7hWUXvhYlQDx3CYxN8iBAfnWJavBXHECk3a5AKlsXQDOyYGKwNxJAHZ1V197ZCUBJkCI3QVr7P4M/exKR8OU/Ajm/zOnF9D8fwE2FbJgFQIqMToGNuQ5AlsKIL7yaE0DO7Jqv3tgXQO3K5wApaB1AWVZlhe2zI0DW0WHIGv0pQAkxhJVrIipA8iTl8GfOJEAjPetJ4hMgQE9BoH+NIBpASV7Hy1F2FUADwAhqxnQRQJjwl50iXQxA+iL5WPiKBkAltKk2mdr/PyZyy9df1/Y/u1Qqa6E48j95+UcQ7d/nP0JnUJIYxtM/1wsiMkwQwT92lYktlGnAP61qGo0owZk/Z/0TGbqCvb+uVUupIz+sP5VC1H0ssOg/ycFw9Uyz9z/ssMoMKSoAQGEZPzcyqAFATWXAqDEKAEAh1iL6bUL+P9gi4BmCD/0/x1rYn/hO/D9OqHoOOSH8P9pKBDuZQ/w/uG9sL4bb+z+Lyb/QD3T7P7369TPpE/s/lb7l8YHT+j8opgNAsqT6P0dOkJvUqfo/RwAjXhHG+z/XZlL5ja38PzwFoCGBLv0/fU6ZEVkx/T8m/V7HFnr8P4QnlD9IdPs/aP/heEc8+j87prZp7xn5P48FYqBGjfg/82a+l4Nf+D9jMgjrgDX4P2lOm8ca0/c/E1Ikvp+29j+1rnMBn4P1Pyo/ZCKJpPQ/GyZyNwMF9D92Gg/MT070P5rtBcT2+/o/\",\"dtype\":\"float64\",\"shape\":[75]},\"y\":{\"__ndarray__\":\"GhExyth1ND/Sv8nbtpRIP2vylNV0PVE/aTum7souWD/At0SJ8fVgPw3Iuahxymc/MSNhhJWvcD/bTfBN02d3P2zb5nxnaoA/CD5h5MAGhz8NmeH1TyaQP+zrCsc9p5Y/LbKd76fGnz/bLW5ISEmmPww9YvTcQq8/JV2OstnstT8Er5Y7M8G+P0c+r3jqkcU/5h99k6ZBzj88bCIzFzjVP4enV8oyxN0//yH99nXg5D8qOpLLf0jtP5kqGJXUifQ/c9cS8kHP/D+/DpwzojQEQIEmwoanVwxA4lgXt9HgE0BSSZ2AJuIbQAMJih9jjiNA5q4l5INuK0AwTKYKRj0zQNv5fmq8/DpAaCJseHrtQkB/+zpwzoxKQM3MzMzMeFJAZmZmZmZqWEAAAAAAAFxeQM3MzMzMJmJAmpmZmZkfZUBmZmZmZhhoQDMzMzMzEWtAAAAAAAAKbkBmZmZmZoFwQM3MzMzM/XFAMzMzMzN6c0CamZmZmfZ0QAAAAAAAc3ZAZmZmZmbvd0DNzMzMzGt5QDMzMzMz6HpAmpmZmZlkfEAAAAAAAOF9QGZmZmZmXX9AZmZmZuZsgECamZmZGSuBQM3MzMxM6YFAAAAAAICngkAzMzMzs2WDQGZmZmbmI4RAmpmZmRnihEDNzMzMTKCFQAAAAACAXoZAMzMzM7Mch0BmZmZm5tqHQJqZmZkZmYhAzczMzExXiUAAAAAAgBWKQDMzMzOz04pAZmZmZuaRi0CamZmZGVCMQM3MzMxMDo1AAAAAAIDMjUAzMzMzs4qOQGZmZmbmSI9A\",\"dtype\":\"float64\",\"shape\":[75]}},\"selected\":{\"id\":\"a7c365c7-b380-4f0e-a2fe-8185e6c160de\",\"type\":\"Selection\"},\"selection_policy\":{\"id\":\"956c70de-a5b3-4aa2-a81f-594e3d5977c0\",\"type\":\"UnionRenderers\"}},\"id\":\"8850e977-8c94-4376-a7e6-380c49a72441\",\"type\":\"ColumnDataSource\"},{\"attributes\":{},\"id\":\"370efbf1-f0aa-4b20-815d-d7b5d2b7b600\",\"type\":\"ResetTool\"},{\"attributes\":{\"source\":{\"id\":\"911226d5-390c-4668-b5a5-47661365f923\",\"type\":\"ColumnDataSource\"}},\"id\":\"164d6f86-f810-4832-82f1-52b6eaa89562\",\"type\":\"CDSView\"},{\"attributes\":{\"callback\":null,\"end\":0.01,\"start\":1020},\"id\":\"fb095678-97ef-4ff1-863a-6de3a96f758a\",\"type\":\"Range1d\"},{\"attributes\":{\"data_source\":{\"id\":\"a2e61b9a-867f-4e86-9cb7-8e4804086dc2\",\"type\":\"ColumnDataSource\"},\"glyph\":{\"id\":\"88308a39-d607-4afd-bc55-66dc34247951\",\"type\":\"Line\"},\"hover_glyph\":null,\"muted_glyph\":null,\"nonselection_glyph\":{\"id\":\"7ad10420-92fa-4367-8a33-22661b37b793\",\"type\":\"Line\"},\"selection_glyph\":null,\"view\":{\"id\":\"2e9a1652-74d7-4d51-8a97-bf09f318684b\",\"type\":\"CDSView\"}},\"id\":\"430d517c-afdd-4f88-a573-3675697b6f97\",\"type\":\"GlyphRenderer\"},{\"attributes\":{\"line_alpha\":0.1,\"line_color\":\"#1f77b4\",\"line_width\":1.5,\"x\":{\"field\":\"x\"},\"y\":{\"field\":\"y\"}},\"id\":\"c571c8b0-71ad-4bd0-956d-e991ce7017ac\",\"type\":\"Line\"},{\"attributes\":{\"axis_label\":\"cooling rate [K/day]\",\"formatter\":{\"id\":\"30da1509-5a2f-4b39-94ea-2da0372f6ed3\",\"type\":\"BasicTickFormatter\"},\"plot\":{\"id\":\"b443dc8a-f977-4711-b48f-264db0c51687\",\"subtype\":\"Figure\",\"type\":\"Plot\"},\"ticker\":{\"id\":\"7320423c-abbd-4663-81ac-bdc98f93d707\",\"type\":\"BasicTicker\"}},\"id\":\"ce401601-c524-49b6-8365-61cc16f4274e\",\"type\":\"LinearAxis\"},{\"attributes\":{\"bottom_units\":\"screen\",\"fill_alpha\":{\"value\":0.5},\"fill_color\":{\"value\":\"lightgrey\"},\"left_units\":\"screen\",\"level\":\"overlay\",\"line_alpha\":{\"value\":1.0},\"line_color\":{\"value\":\"black\"},\"line_dash\":[4,4],\"line_width\":{\"value\":2},\"plot\":null,\"render_mode\":\"css\",\"right_units\":\"screen\",\"top_units\":\"screen\"},\"id\":\"a5eb5b2b-49b8-4a25-94eb-952d7e20e83f\",\"type\":\"BoxAnnotation\"},{\"attributes\":{},\"id\":\"1e07ea16-e450-4ddc-bc4c-66ebdf804d67\",\"type\":\"UnionRenderers\"},{\"attributes\":{\"fill_alpha\":{\"value\":0.1},\"fill_color\":{\"value\":\"#1f77b4\"},\"line_alpha\":{\"value\":0.1},\"line_color\":{\"value\":\"#1f77b4\"},\"x\":{\"field\":\"x\"},\"y\":{\"field\":\"y\"}},\"id\":\"ae6567f7-77b8-4e4d-b7fa-03673bf5df09\",\"type\":\"Square\"},{\"attributes\":{\"plot\":{\"id\":\"1aec647c-20d2-4930-99f9-ef9c3f75e400\",\"subtype\":\"Figure\",\"type\":\"Plot\"},\"ticker\":{\"id\":\"74e1fd66-db03-4322-83f1-16276fc4c682\",\"type\":\"BasicTicker\"}},\"id\":\"375dbe84-b8cd-49cb-9832-8f706dcf44a0\",\"type\":\"Grid\"},{\"attributes\":{},\"id\":\"bf30a880-57ee-4ec5-b973-a2dc45ebe183\",\"type\":\"Selection\"},{\"attributes\":{},\"id\":\"d06dab49-368d-42fe-a23f-f8cbd234a77d\",\"type\":\"UnionRenderers\"},{\"attributes\":{},\"id\":\"f5a342fc-51ce-4c23-84b3-3b166c3a194a\",\"type\":\"Selection\"},{\"attributes\":{\"data_source\":{\"id\":\"c1d87dd5-6c98-4807-aee6-64c1ae02c8f1\",\"type\":\"ColumnDataSource\"},\"glyph\":{\"id\":\"271ed005-715c-4d9a-a353-acaa4056567a\",\"type\":\"Line\"},\"hover_glyph\":null,\"muted_glyph\":null,\"nonselection_glyph\":{\"id\":\"a6b7d056-bf3c-4300-8411-56812f4aaa31\",\"type\":\"Line\"},\"selection_glyph\":null,\"view\":{\"id\":\"854d4587-d9cf-4be6-932b-a27c64c38e59\",\"type\":\"CDSView\"}},\"id\":\"fbdaeaf9-6bf5-4212-8642-fc381056667b\",\"type\":\"GlyphRenderer\"},{\"attributes\":{\"source\":{\"id\":\"2105b56a-1244-47ee-8b61-0b61edce5753\",\"type\":\"ColumnDataSource\"}},\"id\":\"8e0a8884-51e3-42ef-a5da-cb54c4afbf7c\",\"type\":\"CDSView\"},{\"attributes\":{\"source\":{\"id\":\"1191f563-e361-4b84-8e67-d40994b1e721\",\"type\":\"ColumnDataSource\"}},\"id\":\"1cc5add6-5046-41ad-bddb-bed982bc70bb\",\"type\":\"CDSView\"},{\"attributes\":{},\"id\":\"9ad371fa-863f-4e87-bcb8-aed518b92f81\",\"type\":\"Selection\"},{\"attributes\":{},\"id\":\"fc4e485d-9140-4bcc-97c8-8803ffc802ab\",\"type\":\"UnionRenderers\"},{\"attributes\":{\"label\":{\"value\":\"old CLIRAD (H2012)\"},\"renderers\":[{\"id\":\"51613cfe-9a2e-4cd1-acb7-ed2b3586cc70\",\"type\":\"GlyphRenderer\"},{\"id\":\"f41b6961-d170-4365-890c-47560c7a656e\",\"type\":\"GlyphRenderer\"}]},\"id\":\"3e23f249-3b2b-4154-9b2b-8675450e9db5\",\"type\":\"LegendItem\"},{\"attributes\":{\"callback\":null,\"data\":{\"x\":{\"__ndarray__\":\"zxhdnl3RU0CKgDdE+dxEQP+f5duhdUFAMZBr6ewEQkABDxZQyK45QBiX3ka8EDZAj18alnlwL0CfYJlYHKIqQJoaoQNWxSJAv74t7BozIUBMkS56I6AXQBxPe4ld/BRAncjiKz2HCkCKCgdQ/WcBQKJTvluRvOg/jvJpYJwB9j+gcxKIKREEQOwUvOtLFw1AVkAt7oRoEkD4lECKxjYXQAZydNQ0jR1ACryvRZLfI0CN3MmPRGApQCcUNq4qNylA6FN9h30SJECRnP+HbGofQDQKaukXmhlAteFC/mL9E0CTDffT91MQQEoVAKh1YwtAqFesCIQRBkAUatBMXLz/P4fvYPUXo/Y/tDrQnFTK8T/hneFQ7xLnP14aDQuCJtc/5hrOx2LRzT+gE4V0bnvHP3eeIXamhrA/cmaxNtALrr92uqPyMJK3P6q5+U821+g/c0rZjXL49z/TaxRJZAUAQP3VLij27QFAiQe8XqaCAEAu4Q7keaX+P0ZyKG35kv0/XHVqXZRQ/T/+RskYEAv9PwKD1IjB3fw/JBko3yJ2/D8AmhCM5iX7P/btQHcr5vo/xjCcdQr9+j+f/V+tjrf6P0Wt2HvLrvo/84V/x6br+z/bYX40veD8P86HZwkyUvw/CUxgoI8l/D8RA+bsYB78P2au9w7DDvw/kRNJm3qS+j8wZ0xHVJ75Py0d1shscPk/NKgVKiiK+T/ONtzstIr5P4ps72zyaPc/TVSpuPUj9j9T2qZu6gj1P2XVmdu6VPQ/t/WgjjEZ9D+np734CoH0P1L4Q57qwfo/\",\"dtype\":\"float64\",\"shape\":[75]},\"y\":{\"__ndarray__\":\"hLndy31yND/6fmq8dJNIP8n9DkWBPlE/aDum7souWD/b4a/JGvVgP9f34SAhymc/ZvM4DOavcD+z0M5pFmh3PxuC4zJuaoA/xjcUPlsHhz8uHAjJAiaQP9ieWRKgppY/oI7HDFTGnz+a5h2n6EimPzS6g9iZQq8/IuAQqtTstT9SSZ2AJsK+P4nS3uALk8U/ih9j7lpCzj+ASL99HTjVP4enV8oyxN0/ACL99nXg5D9fmEwVjErtPyUGgZVDi/Q/AiuHFtnO/D9OYhBYOTQEQPHSTWIQWAxA4XoUrkfhE0D8qfHSTeIbQMh2vp8ajyNArkfhehRuK0Bcj8L1KDwzQFyPwvUo/DpAPgrXo3DtQkDNzMzMzIxKQClcj8L1eFJAKVyPwvVoWECamZmZmVleQGZmZmZmJmJAAAAAAAAgZUCamZmZmRloQJqZmZmZEWtAmpmZmZkJbkCamZmZmYFwQGZmZmZm/nFAZmZmZmZ6c0BmZmZmZvZ0QDQzMzMzc3ZAAAAAAADwd0AAAAAAAGx5QAAAAAAA6HpAzMzMzMxkfEDMzMzMzOB9QM3MzMzMXH9AzczMzMxsgEAzMzMzMyuBQDMzMzMz6YFAMzMzMzOngkCamZmZmWWDQAAAAAAAJIRAAAAAAADihEAAAAAAAKCFQGZmZmZmXoZAzczMzMwch0DNzMzMzNqHQM3MzMzMmIhAMzMzMzNXiUCamZmZmRWKQAAAAAAA1IpAAAAAAACSi0AAAAAAAFCMQGZmZmZmDo1AzczMzMzMjUDNzMzMzIqOQM3MzMzMSI9A\",\"dtype\":\"float64\",\"shape\":[75]}},\"selected\":{\"id\":\"d87c2e34-a620-4fd0-b870-a99ae96e69f8\",\"type\":\"Selection\"},\"selection_policy\":{\"id\":\"0b7bf8e8-dc32-49ba-9f9e-b08bd9ef5fd1\",\"type\":\"UnionRenderers\"}},\"id\":\"2105b56a-1244-47ee-8b61-0b61edce5753\",\"type\":\"ColumnDataSource\"},{\"attributes\":{\"callback\":null,\"end\":0.01,\"start\":1020},\"id\":\"a08d8be8-f5b3-47e2-9491-ba75122dde63\",\"type\":\"Range1d\"},{\"attributes\":{\"line_alpha\":0.1,\"line_color\":\"#1f77b4\",\"line_width\":1.5,\"x\":{\"field\":\"x\"},\"y\":{\"field\":\"y\"}},\"id\":\"92eafeb7-ea90-48b6-bd6a-d30e39ac63e1\",\"type\":\"Line\"},{\"attributes\":{\"bottom_units\":\"screen\",\"fill_alpha\":{\"value\":0.5},\"fill_color\":{\"value\":\"lightgrey\"},\"left_units\":\"screen\",\"level\":\"overlay\",\"line_alpha\":{\"value\":1.0},\"line_color\":{\"value\":\"black\"},\"line_dash\":[4,4],\"line_width\":{\"value\":2},\"plot\":null,\"render_mode\":\"css\",\"right_units\":\"screen\",\"top_units\":\"screen\"},\"id\":\"2bdeb931-e0a2-4abf-9a6e-831671079b2f\",\"type\":\"BoxAnnotation\"},{\"attributes\":{\"label\":{\"value\":\"CRD\"},\"renderers\":[{\"id\":\"ed394ab8-545a-4349-ad5b-38555ee988d7\",\"type\":\"GlyphRenderer\"},{\"id\":\"1786faaf-1106-4f2f-9806-c35acd91c44e\",\"type\":\"GlyphRenderer\"}]},\"id\":\"a7e34953-827c-44c7-99c0-cc4f18744932\",\"type\":\"LegendItem\"},{\"attributes\":{\"line_alpha\":0.5,\"line_color\":\"#377eb8\",\"line_dash\":[6],\"line_width\":4,\"x\":{\"field\":\"x\"},\"y\":{\"field\":\"y\"}},\"id\":\"88308a39-d607-4afd-bc55-66dc34247951\",\"type\":\"Line\"},{\"attributes\":{},\"id\":\"9a6f6cc6-4516-48ab-a394-4ad003cfc3bb\",\"type\":\"UnionRenderers\"},{\"attributes\":{\"data_source\":{\"id\":\"87c56765-00b1-463a-b815-7279f6bf59ae\",\"type\":\"ColumnDataSource\"},\"glyph\":{\"id\":\"a6152f47-2f78-4570-9b56-18d491d8b1a2\",\"type\":\"Line\"},\"hover_glyph\":null,\"muted_glyph\":null,\"nonselection_glyph\":{\"id\":\"19b68bc0-91cf-4b5b-8192-b20cf8c326ac\",\"type\":\"Line\"},\"selection_glyph\":null,\"view\":{\"id\":\"e90d7e5c-5d5e-4636-a597-347b9788c8a0\",\"type\":\"CDSView\"}},\"id\":\"1786faaf-1106-4f2f-9806-c35acd91c44e\",\"type\":\"GlyphRenderer\"},{\"attributes\":{},\"id\":\"f7954ac4-5d2f-46e5-aff5-ef52a893f024\",\"type\":\"UnionRenderers\"},{\"attributes\":{\"data_source\":{\"id\":\"2105b56a-1244-47ee-8b61-0b61edce5753\",\"type\":\"ColumnDataSource\"},\"glyph\":{\"id\":\"7fe88286-4ec4-43a9-a0ba-cac5044b0e6e\",\"type\":\"Square\"},\"hover_glyph\":null,\"muted_glyph\":null,\"nonselection_glyph\":{\"id\":\"ae6567f7-77b8-4e4d-b7fa-03673bf5df09\",\"type\":\"Square\"},\"selection_glyph\":null,\"view\":{\"id\":\"8e0a8884-51e3-42ef-a5da-cb54c4afbf7c\",\"type\":\"CDSView\"}},\"id\":\"51613cfe-9a2e-4cd1-acb7-ed2b3586cc70\",\"type\":\"GlyphRenderer\"},{\"attributes\":{\"data_source\":{\"id\":\"19ac49ed-e8f3-429f-8084-decb0160a784\",\"type\":\"ColumnDataSource\"},\"glyph\":{\"id\":\"748bae09-a8d6-433a-b1ad-e32f3619e332\",\"type\":\"Circle\"},\"hover_glyph\":null,\"muted_glyph\":null,\"nonselection_glyph\":{\"id\":\"05831f93-9d48-4ac5-9c09-cef55bcc62cf\",\"type\":\"Circle\"},\"selection_glyph\":null,\"view\":{\"id\":\"5f6cf910-22d5-444f-a9ce-a7c4d36c424c\",\"type\":\"CDSView\"}},\"id\":\"061da50c-cac2-4879-af41-04efc178143a\",\"type\":\"GlyphRenderer\"},{\"attributes\":{\"label\":{\"value\":\"CLIRAD\"},\"renderers\":[{\"id\":\"fbdaeaf9-6bf5-4212-8642-fc381056667b\",\"type\":\"GlyphRenderer\"}]},\"id\":\"8b9cbaa7-3317-4c4e-ad32-d2e8ef9d4dc6\",\"type\":\"LegendItem\"},{\"attributes\":{\"line_alpha\":0.5,\"line_color\":\"#984ea3\",\"line_width\":1.5,\"x\":{\"field\":\"x\"},\"y\":{\"field\":\"y\"}},\"id\":\"4b67bb4a-9f65-4cf9-bd26-8474bb5b2d06\",\"type\":\"Line\"},{\"attributes\":{\"fill_alpha\":{\"value\":0.1},\"fill_color\":{\"value\":\"#1f77b4\"},\"line_alpha\":{\"value\":0.1},\"line_color\":{\"value\":\"#1f77b4\"},\"x\":{\"field\":\"x\"},\"y\":{\"field\":\"y\"}},\"id\":\"178ffc1a-fc40-496c-ba6c-d8f32849b8f8\",\"type\":\"Circle\"},{\"attributes\":{\"axis_label\":\"pressure [mb]\",\"formatter\":{\"id\":\"f535b2da-2940-4e4d-8bb4-bf4e0483354b\",\"type\":\"LogTickFormatter\"},\"plot\":{\"id\":\"1aec647c-20d2-4930-99f9-ef9c3f75e400\",\"subtype\":\"Figure\",\"type\":\"Plot\"},\"ticker\":{\"id\":\"6e74c1e0-4e8b-466f-94e0-ecfcf29e52eb\",\"type\":\"LogTicker\"}},\"id\":\"f16832b4-7612-4a00-81bc-93fff0279ef4\",\"type\":\"LogAxis\"},{\"attributes\":{\"active_drag\":\"auto\",\"active_inspect\":\"auto\",\"active_scroll\":\"auto\",\"active_tap\":\"auto\",\"tools\":[{\"id\":\"bf3cb458-5e87-487d-b031-b1e9b1d9af3c\",\"type\":\"PanTool\"},{\"id\":\"82b7f086-949b-4f06-96a2-30364c36fba5\",\"type\":\"WheelZoomTool\"},{\"id\":\"6d455624-cd5f-42a0-bb48-4352798cd155\",\"type\":\"BoxZoomTool\"},{\"id\":\"63ade7aa-e4ad-4f1d-8e47-245a296e1cfd\",\"type\":\"SaveTool\"},{\"id\":\"6e3b6a72-143b-409a-9226-0904bb981c96\",\"type\":\"ResetTool\"},{\"id\":\"744da616-42d8-44cf-bc57-50149a5aaf33\",\"type\":\"HelpTool\"}]},\"id\":\"962ffdc7-f217-4aa7-b7e5-fa89f00c1cbd\",\"type\":\"Toolbar\"},{\"attributes\":{\"line_alpha\":0.6,\"line_color\":\"#e41a1c\",\"line_dash\":[6],\"line_width\":5,\"x\":{\"field\":\"x\"},\"y\":{\"field\":\"y\"}},\"id\":\"3754c473-ae19-4821-8445-b297bb0c2772\",\"type\":\"Line\"},{\"attributes\":{\"plot\":null,\"text\":\"\"},\"id\":\"7c934309-0727-4c3b-bfd5-5b30021b0d7c\",\"type\":\"Title\"},{\"attributes\":{\"fill_alpha\":{\"value\":0.7},\"fill_color\":{\"value\":\"#4daf4a\"},\"line_alpha\":{\"value\":0.7},\"line_color\":{\"value\":\"#4daf4a\"},\"x\":{\"field\":\"x\"},\"y\":{\"field\":\"y\"}},\"id\":\"748bae09-a8d6-433a-b1ad-e32f3619e332\",\"type\":\"Circle\"},{\"attributes\":{},\"id\":\"bd5d3435-1a47-404f-b7a1-b60305873531\",\"type\":\"Selection\"},{\"attributes\":{\"callback\":null,\"data\":{\"x\":{\"__ndarray__\":\"zxhdnl3RU0CKgDdE+dxEQP+f5duhdUFAMZBr6ewEQkABDxZQyK45QBiX3ka8EDZAj18alnlwL0CfYJlYHKIqQJoaoQNWxSJAv74t7BozIUBMkS56I6AXQBxPe4ld/BRAncjiKz2HCkCKCgdQ/WcBQKJTvluRvOg/jvJpYJwB9j+gcxKIKREEQOwUvOtLFw1AVkAt7oRoEkD4lECKxjYXQAZydNQ0jR1ACryvRZLfI0CN3MmPRGApQCcUNq4qNylA6FN9h30SJECRnP+HbGofQDQKaukXmhlAteFC/mL9E0CTDffT91MQQEoVAKh1YwtAqFesCIQRBkAUatBMXLz/P4fvYPUXo/Y/tDrQnFTK8T/hneFQ7xLnP14aDQuCJtc/5hrOx2LRzT+gE4V0bnvHP3eeIXamhrA/cmaxNtALrr92uqPyMJK3P6q5+U821+g/c0rZjXL49z/TaxRJZAUAQP3VLij27QFAiQe8XqaCAEAu4Q7keaX+P0ZyKG35kv0/XHVqXZRQ/T/+RskYEAv9PwKD1IjB3fw/JBko3yJ2/D8AmhCM5iX7P/btQHcr5vo/xjCcdQr9+j+f/V+tjrf6P0Wt2HvLrvo/84V/x6br+z/bYX40veD8P86HZwkyUvw/CUxgoI8l/D8RA+bsYB78P2au9w7DDvw/kRNJm3qS+j8wZ0xHVJ75Py0d1shscPk/NKgVKiiK+T/ONtzstIr5P4ps72zyaPc/TVSpuPUj9j9T2qZu6gj1P2XVmdu6VPQ/t/WgjjEZ9D+np734CoH0P1L4Q57qwfo/\",\"dtype\":\"float64\",\"shape\":[75]},\"y\":{\"__ndarray__\":\"hLndy31yND/6fmq8dJNIP8n9DkWBPlE/aDum7souWD/b4a/JGvVgP9f34SAhymc/ZvM4DOavcD+z0M5pFmh3PxuC4zJuaoA/xjcUPlsHhz8uHAjJAiaQP9ieWRKgppY/oI7HDFTGnz+a5h2n6EimPzS6g9iZQq8/IuAQqtTstT9SSZ2AJsK+P4nS3uALk8U/ih9j7lpCzj+ASL99HTjVP4enV8oyxN0/ACL99nXg5D9fmEwVjErtPyUGgZVDi/Q/AiuHFtnO/D9OYhBYOTQEQPHSTWIQWAxA4XoUrkfhE0D8qfHSTeIbQMh2vp8ajyNArkfhehRuK0Bcj8L1KDwzQFyPwvUo/DpAPgrXo3DtQkDNzMzMzIxKQClcj8L1eFJAKVyPwvVoWECamZmZmVleQGZmZmZmJmJAAAAAAAAgZUCamZmZmRloQJqZmZmZEWtAmpmZmZkJbkCamZmZmYFwQGZmZmZm/nFAZmZmZmZ6c0BmZmZmZvZ0QDQzMzMzc3ZAAAAAAADwd0AAAAAAAGx5QAAAAAAA6HpAzMzMzMxkfEDMzMzMzOB9QM3MzMzMXH9AzczMzMxsgEAzMzMzMyuBQDMzMzMz6YFAMzMzMzOngkCamZmZmWWDQAAAAAAAJIRAAAAAAADihEAAAAAAAKCFQGZmZmZmXoZAzczMzMwch0DNzMzMzNqHQM3MzMzMmIhAMzMzMzNXiUCamZmZmRWKQAAAAAAA1IpAAAAAAACSi0AAAAAAAFCMQGZmZmZmDo1AzczMzMzMjUDNzMzMzIqOQM3MzMzMSI9A\",\"dtype\":\"float64\",\"shape\":[75]}},\"selected\":{\"id\":\"a1b5fd29-b239-47d2-ba57-82f19fe8d4ee\",\"type\":\"Selection\"},\"selection_policy\":{\"id\":\"1cea0504-fa9d-4808-b999-ec6942f2ba73\",\"type\":\"UnionRenderers\"}},\"id\":\"1191f563-e361-4b84-8e67-d40994b1e721\",\"type\":\"ColumnDataSource\"},{\"attributes\":{},\"id\":\"2f0ecd9d-9ab5-40b8-94c6-62ec23a31b25\",\"type\":\"ResetTool\"},{\"attributes\":{},\"id\":\"dc004384-d077-4172-ad69-6cf1a0d5e21d\",\"type\":\"BasicTickFormatter\"},{\"attributes\":{\"source\":{\"id\":\"87c56765-00b1-463a-b815-7279f6bf59ae\",\"type\":\"ColumnDataSource\"}},\"id\":\"e90d7e5c-5d5e-4636-a597-347b9788c8a0\",\"type\":\"CDSView\"},{\"attributes\":{},\"id\":\"6912496c-3433-454e-b8ec-6e2db50c9399\",\"type\":\"UnionRenderers\"},{\"attributes\":{\"callback\":null,\"end\":0.6991174202619594,\"start\":-0.8450980398126339},\"id\":\"57c99601-32af-4a12-9895-b562cb284a60\",\"type\":\"Range1d\"},{\"attributes\":{},\"id\":\"16a705a5-32bb-4a08-a6c4-a3b69453566a\",\"type\":\"Selection\"},{\"attributes\":{\"axis_label\":\"cooling rate [K/day]\",\"formatter\":{\"id\":\"732020dc-9941-42b4-a44b-81bc4244094d\",\"type\":\"BasicTickFormatter\"},\"plot\":{\"id\":\"7a6bada7-433b-43b2-95ef-54f6897a074a\",\"subtype\":\"Figure\",\"type\":\"Plot\"},\"ticker\":{\"id\":\"92f18f91-a426-4e1c-aa86-9e7a65f0bb2b\",\"type\":\"BasicTicker\"}},\"id\":\"5b0df632-b9df-4b9f-a930-890fd2bf24f2\",\"type\":\"LinearAxis\"},{\"attributes\":{\"data_source\":{\"id\":\"1191f563-e361-4b84-8e67-d40994b1e721\",\"type\":\"ColumnDataSource\"},\"glyph\":{\"id\":\"4b67bb4a-9f65-4cf9-bd26-8474bb5b2d06\",\"type\":\"Line\"},\"hover_glyph\":null,\"muted_glyph\":null,\"nonselection_glyph\":{\"id\":\"92eafeb7-ea90-48b6-bd6a-d30e39ac63e1\",\"type\":\"Line\"},\"selection_glyph\":null,\"view\":{\"id\":\"1cc5add6-5046-41ad-bddb-bed982bc70bb\",\"type\":\"CDSView\"}},\"id\":\"f41b6961-d170-4365-890c-47560c7a656e\",\"type\":\"GlyphRenderer\"},{\"attributes\":{\"fill_alpha\":{\"value\":0.7},\"fill_color\":{\"value\":\"#984ea3\"},\"line_alpha\":{\"value\":0.7},\"line_color\":{\"value\":\"#984ea3\"},\"x\":{\"field\":\"x\"},\"y\":{\"field\":\"y\"}},\"id\":\"7fe88286-4ec4-43a9-a0ba-cac5044b0e6e\",\"type\":\"Square\"},{\"attributes\":{\"plot\":{\"id\":\"7a6bada7-433b-43b2-95ef-54f6897a074a\",\"subtype\":\"Figure\",\"type\":\"Plot\"},\"ticker\":{\"id\":\"92f18f91-a426-4e1c-aa86-9e7a65f0bb2b\",\"type\":\"BasicTicker\"}},\"id\":\"a000224c-3d10-4677-8e26-74e74bf0c795\",\"type\":\"Grid\"},{\"attributes\":{\"source\":{\"id\":\"c1d87dd5-6c98-4807-aee6-64c1ae02c8f1\",\"type\":\"ColumnDataSource\"}},\"id\":\"854d4587-d9cf-4be6-932b-a27c64c38e59\",\"type\":\"CDSView\"},{\"attributes\":{},\"id\":\"d87c2e34-a620-4fd0-b870-a99ae96e69f8\",\"type\":\"Selection\"},{\"attributes\":{},\"id\":\"293aa238-61e1-464d-ace8-5f29565b3308\",\"type\":\"HelpTool\"},{\"attributes\":{\"label\":{\"value\":\"CLIRAD\"},\"renderers\":[{\"id\":\"9944ab71-af33-4274-9efc-5dcb13fe3efb\",\"type\":\"GlyphRenderer\"}]},\"id\":\"84b6f493-3201-4536-85f9-4c13c2d7942e\",\"type\":\"LegendItem\"},{\"attributes\":{\"callback\":null,\"data\":{\"x\":{\"__ndarray__\":\"cm1sTMT3VEDEyvjosEJHQOKI6DjzCUNArgQWV9awPkB9Lm8XG3M4QEz+Qv6iYzNA7eV8HaPLLkCX1QHyTpMoQFBmYSYetiNAUB04GtGpH0AmFyVE5j8ZQJca9QPGqBNALJP+OOHHDEBNxaf7QF8AQKtislomWuw/cW2dcO6A9T/uJJvfPu0EQIaQLTI/JQ1AxGiII+PmEkCJvfVeuCsYQD6ZBhGbHB9AXQw69DTYJEAsubcwKucqQNuT9D5OmipAJyi3szEJJUBlNebh5WkgQDDcPHBr2xlArtlANXuQFEBdJadFHckQQI2Avh0ZsQtAjYiwt1rsBUCL0SDoVBgAQK6C0nEEjvc/CggLSme58T9sXU2orFPnP0v0JYz9Gdg/vT38vxYczD9nBQTe6kHHP1IhkEXJwKo/8OZnhCVAub+xtVgCpmqzP6DUpY6g0+k/PKK3T1h4+D8RTDjQc1EAQG/dAQs7TwJAQt2eHpPLAEBWEh074x//PyCap9ZSGf4/rEzaTySm/T+7aXhHRmr9P688KeqeNP0/ruZ4EemD/D8olrZcn9T7P0+vNc9hW/s/i9VVL+4P+z+0NzC24uz6P8731Kza8vo/xFf4SHzq+z+gYyHpvHb8P68ROkiFevw/BAjYdCga/D8AUp8VbW77P3JrF/nKmvo/qCQeGfq++T/dplwHJfn4P2G4p+Uva/g/OzZ0RqMZ+D8dmn/iar73P/OuA7Ka8PY/gaaeQHGn9T9hkyjAH1L0P3aZGhdAU/M/n8VP/g7P8j+90HxHNvfyPwhNBtgrqvk/\",\"dtype\":\"float64\",\"shape\":[75]},\"y\":{\"__ndarray__\":\"GhExyth1ND/Sv8nbtpRIP2vylNV0PVE/aTum7souWD/At0SJ8fVgPw3Iuahxymc/MSNhhJWvcD/bTfBN02d3P2zb5nxnaoA/CD5h5MAGhz8NmeH1TyaQP+zrCsc9p5Y/LbKd76fGnz/bLW5ISEmmPww9YvTcQq8/JV2OstnstT8Er5Y7M8G+P0c+r3jqkcU/5h99k6ZBzj88bCIzFzjVP4enV8oyxN0//yH99nXg5D8qOpLLf0jtP5kqGJXUifQ/c9cS8kHP/D+/DpwzojQEQIEmwoanVwxA4lgXt9HgE0BSSZ2AJuIbQAMJih9jjiNA5q4l5INuK0AwTKYKRj0zQNv5fmq8/DpAaCJseHrtQkB/+zpwzoxKQM3MzMzMeFJAZmZmZmZqWEAAAAAAAFxeQM3MzMzMJmJAmpmZmZkfZUBmZmZmZhhoQDMzMzMzEWtAAAAAAAAKbkBmZmZmZoFwQM3MzMzM/XFAMzMzMzN6c0CamZmZmfZ0QAAAAAAAc3ZAZmZmZmbvd0DNzMzMzGt5QDMzMzMz6HpAmpmZmZlkfEAAAAAAAOF9QGZmZmZmXX9AZmZmZuZsgECamZmZGSuBQM3MzMxM6YFAAAAAAICngkAzMzMzs2WDQGZmZmbmI4RAmpmZmRnihEDNzMzMTKCFQAAAAACAXoZAMzMzM7Mch0BmZmZm5tqHQJqZmZkZmYhAzczMzExXiUAAAAAAgBWKQDMzMzOz04pAZmZmZuaRi0CamZmZGVCMQM3MzMxMDo1AAAAAAIDMjUAzMzMzs4qOQGZmZmbmSI9A\",\"dtype\":\"float64\",\"shape\":[75]}},\"selected\":{\"id\":\"f5a342fc-51ce-4c23-84b3-3b166c3a194a\",\"type\":\"Selection\"},\"selection_policy\":{\"id\":\"f7954ac4-5d2f-46e5-aff5-ef52a893f024\",\"type\":\"UnionRenderers\"}},\"id\":\"19ac49ed-e8f3-429f-8084-decb0160a784\",\"type\":\"ColumnDataSource\"},{\"attributes\":{\"label\":{\"value\":\"old CLIRAD (H2012) - CRD\"},\"renderers\":[{\"id\":\"430d517c-afdd-4f88-a573-3675697b6f97\",\"type\":\"GlyphRenderer\"}]},\"id\":\"71eec4b8-7042-41bb-86c9-6dc4a38d518f\",\"type\":\"LegendItem\"},{\"attributes\":{\"line_alpha\":0.1,\"line_color\":\"#1f77b4\",\"line_dash\":[6],\"line_width\":5,\"x\":{\"field\":\"x\"},\"y\":{\"field\":\"y\"}},\"id\":\"08f7de94-7dce-445f-ac35-8fe0bcf617db\",\"type\":\"Line\"}],\"root_ids\":[\"9d6f9cc8-4ed7-4da8-aef7-6e9ed004c92e\"]},\"title\":\"Bokeh Application\",\"version\":\"0.12.16\"}};\n",
       "  var render_items = [{\"docid\":\"67a7a216-9518-49f9-914a-248e4a93ba69\",\"elementid\":\"782075f0-4fa5-4259-adcb-d99b52a7d089\",\"modelid\":\"9d6f9cc8-4ed7-4da8-aef7-6e9ed004c92e\"}];\n",
       "  root.Bokeh.embed.embed_items_notebook(docs_json, render_items);\n",
       "\n",
       "  }\n",
       "  if (root.Bokeh !== undefined) {\n",
       "    embed_document(root);\n",
       "  } else {\n",
       "    var attempts = 0;\n",
       "    var timer = setInterval(function(root) {\n",
       "      if (root.Bokeh !== undefined) {\n",
       "        embed_document(root);\n",
       "        clearInterval(timer);\n",
       "      }\n",
       "      attempts++;\n",
       "      if (attempts > 100) {\n",
       "        console.log(\"Bokeh: ERROR: Unable to run BokehJS code because BokehJS library is missing\")\n",
       "        clearInterval(timer);\n",
       "      }\n",
       "    }, 10, root)\n",
       "  }\n",
       "})(window);"
      ],
      "application/vnd.bokehjs_exec.v0+json": ""
     },
     "metadata": {
      "application/vnd.bokehjs_exec.v0+json": {
       "id": "9d6f9cc8-4ed7-4da8-aef7-6e9ed004c92e"
      }
     },
     "output_type": "display_data"
    },
    {
     "data": {
      "text/markdown": [
       "*FIGURE.* Cooling rates & difference."
      ],
      "text/plain": [
       "<IPython.core.display.Markdown object>"
      ]
     },
     "metadata": {},
     "output_type": "display_data"
    },
    {
     "data": {
      "text/html": [
       "<a id=\"Fluxes._mls.\"></a>"
      ],
      "text/plain": [
       "<IPython.core.display.HTML object>"
      ]
     },
     "metadata": {},
     "output_type": "display_data"
    },
    {
     "data": {
      "text/markdown": [
       "# Fluxes. mls."
      ],
      "text/plain": [
       "<IPython.core.display.Markdown object>"
      ]
     },
     "metadata": {},
     "output_type": "display_data"
    },
    {
     "data": {
      "text/html": [
       "\n",
       "<div class=\"bk-root\">\n",
       "    <div class=\"bk-plotdiv\" id=\"8fb58750-22ca-4cff-90ef-e4067353c4e4\"></div>\n",
       "</div>"
      ]
     },
     "metadata": {},
     "output_type": "display_data"
    },
    {
     "data": {
      "application/javascript": [
       "(function(root) {\n",
       "  function embed_document(root) {\n",
       "    \n",
       "  var docs_json = {\"d136d219-b554-4984-91a6-4d2f17d8455e\":{\"roots\":{\"references\":[{\"attributes\":{},\"id\":\"c2815b71-b347-4cac-bdf0-4a69952402cf\",\"type\":\"CategoricalScale\"},{\"attributes\":{\"toolbar\":{\"id\":\"d3a827ab-42e6-4fa6-9889-19c25eda51d7\",\"type\":\"ProxyToolbar\"},\"toolbar_location\":\"above\"},\"id\":\"0e4ec8a1-4f21-449d-adac-635416e2c2b9\",\"type\":\"ToolbarBox\"},{\"attributes\":{\"axis_label\":\"spectral band\",\"formatter\":{\"id\":\"15ede696-89c2-4aaf-960c-5da4f8e2950b\",\"type\":\"CategoricalTickFormatter\"},\"plot\":{\"id\":\"0ecebd00-a7cf-4dce-8870-9b493adf90a3\",\"subtype\":\"Figure\",\"type\":\"Plot\"},\"ticker\":{\"id\":\"e419ca01-274a-4fea-bad6-dc5df0afe049\",\"type\":\"CategoricalTicker\"}},\"id\":\"6f98eb1a-9e5f-4444-9288-2a2f70b3e4ef\",\"type\":\"CategoricalAxis\"},{\"attributes\":{\"fill_alpha\":{\"value\":0.1},\"fill_color\":{\"value\":\"#1f77b4\"},\"line_alpha\":{\"value\":0.1},\"line_color\":{\"value\":\"#1f77b4\"},\"top\":{\"field\":\"flux\"},\"width\":{\"value\":0.9},\"x\":{\"field\":\"band\"}},\"id\":\"b453e275-ea39-4725-b37e-ba16ab2e4b11\",\"type\":\"VBar\"},{\"attributes\":{\"dimension\":1,\"plot\":{\"id\":\"40af3450-d097-4b70-9802-68f942adfb0f\",\"subtype\":\"Figure\",\"type\":\"Plot\"},\"ticker\":{\"id\":\"e2a7506d-09a2-45e7-a36b-1efe288bd0f5\",\"type\":\"BasicTicker\"}},\"id\":\"de6ef59b-76b6-437b-b5c3-2c5db9040330\",\"type\":\"Grid\"},{\"attributes\":{\"active_drag\":\"auto\",\"active_inspect\":\"auto\",\"active_scroll\":\"auto\",\"active_tap\":\"auto\",\"tools\":[{\"id\":\"634d0d2c-b728-4a4c-98a9-7061d11c0866\",\"type\":\"PanTool\"},{\"id\":\"3971a9d2-0ba1-4d77-82f1-a41033bd1091\",\"type\":\"WheelZoomTool\"},{\"id\":\"c073f1b9-d56e-41f6-8478-38407de1a44d\",\"type\":\"BoxZoomTool\"},{\"id\":\"e38efde4-c57f-4a05-bf3e-b4e27ab55730\",\"type\":\"SaveTool\"},{\"id\":\"f23122f6-ef0d-4dd5-bd57-aedbb34776ce\",\"type\":\"ResetTool\"},{\"id\":\"6e83afd7-2801-4a92-9c4a-2c57ccbff827\",\"type\":\"HelpTool\"}]},\"id\":\"e6cd4ec5-c447-4380-84f9-dc1113eda338\",\"type\":\"Toolbar\"},{\"attributes\":{},\"id\":\"1d55a7cd-478e-4a8f-98d0-b765312e5538\",\"type\":\"PanTool\"},{\"attributes\":{},\"id\":\"fa811ab2-5e36-4b1d-9cc2-d43dcf8260d9\",\"type\":\"CategoricalScale\"},{\"attributes\":{},\"id\":\"7f163780-6706-4e4e-bb71-89d0fc59702a\",\"type\":\"SaveTool\"},{\"attributes\":{},\"id\":\"e38efde4-c57f-4a05-bf3e-b4e27ab55730\",\"type\":\"SaveTool\"},{\"attributes\":{},\"id\":\"d857614b-fead-4935-bd54-016584acf1ee\",\"type\":\"ResetTool\"},{\"attributes\":{\"axis_label\":\"flux (W m-2)\",\"formatter\":{\"id\":\"70cc4927-ef3d-4fb8-9840-cef87647552e\",\"type\":\"BasicTickFormatter\"},\"plot\":{\"id\":\"40af3450-d097-4b70-9802-68f942adfb0f\",\"subtype\":\"Figure\",\"type\":\"Plot\"},\"ticker\":{\"id\":\"e2a7506d-09a2-45e7-a36b-1efe288bd0f5\",\"type\":\"BasicTicker\"}},\"id\":\"2c00b545-7cbb-4e74-add3-5cd20e8bb9ac\",\"type\":\"LinearAxis\"},{\"attributes\":{\"bottom_units\":\"screen\",\"fill_alpha\":{\"value\":0.5},\"fill_color\":{\"value\":\"lightgrey\"},\"left_units\":\"screen\",\"level\":\"overlay\",\"line_alpha\":{\"value\":1.0},\"line_color\":{\"value\":\"black\"},\"line_dash\":[4,4],\"line_width\":{\"value\":2},\"plot\":null,\"render_mode\":\"css\",\"right_units\":\"screen\",\"top_units\":\"screen\"},\"id\":\"6af9347f-c94a-4b1b-9c89-f0c395bd791f\",\"type\":\"BoxAnnotation\"},{\"attributes\":{\"callback\":null},\"id\":\"496d9abb-d87d-4a9b-9188-935c1abb6d9e\",\"type\":\"DataRange1d\"},{\"attributes\":{},\"id\":\"8b838b3e-86f3-4c5b-8c86-ad7137d0351f\",\"type\":\"LinearScale\"},{\"attributes\":{\"plot\":null,\"text\":\"SFC flux. CLIRAD - CRD.\"},\"id\":\"d6c3cdfc-c74d-478a-a9a5-addda0cb965b\",\"type\":\"Title\"},{\"attributes\":{\"plot\":null,\"text\":\"Atmosphere heating. CLIRAD - CRD.\"},\"id\":\"163e872e-89b7-4798-8a6a-0715545db896\",\"type\":\"Title\"},{\"attributes\":{\"fill_color\":{\"value\":\"#1f77b4\"},\"line_color\":{\"value\":\"#1f77b4\"},\"top\":{\"field\":\"flux\"},\"width\":{\"value\":0.9},\"x\":{\"field\":\"band\"}},\"id\":\"960016e4-d137-419f-9110-7931b2dc76f9\",\"type\":\"VBar\"},{\"attributes\":{\"bottom_units\":\"screen\",\"fill_alpha\":{\"value\":0.5},\"fill_color\":{\"value\":\"lightgrey\"},\"left_units\":\"screen\",\"level\":\"overlay\",\"line_alpha\":{\"value\":1.0},\"line_color\":{\"value\":\"black\"},\"line_dash\":[4,4],\"line_width\":{\"value\":2},\"plot\":null,\"render_mode\":\"css\",\"right_units\":\"screen\",\"top_units\":\"screen\"},\"id\":\"0d14c2d4-b660-4a92-bce5-a7f7f2f50dfc\",\"type\":\"BoxAnnotation\"},{\"attributes\":{},\"id\":\"c47453ee-0872-4793-a56c-3f020b8ab45d\",\"type\":\"CategoricalTicker\"},{\"attributes\":{\"below\":[{\"id\":\"0e8f1cd8-af31-42af-a1fb-33607125172e\",\"type\":\"CategoricalAxis\"}],\"left\":[{\"id\":\"2c00b545-7cbb-4e74-add3-5cd20e8bb9ac\",\"type\":\"LinearAxis\"}],\"plot_height\":300,\"plot_width\":300,\"renderers\":[{\"id\":\"0e8f1cd8-af31-42af-a1fb-33607125172e\",\"type\":\"CategoricalAxis\"},{\"id\":\"d11806c5-0ba2-404e-a7a0-46bb3a59d251\",\"type\":\"Grid\"},{\"id\":\"2c00b545-7cbb-4e74-add3-5cd20e8bb9ac\",\"type\":\"LinearAxis\"},{\"id\":\"de6ef59b-76b6-437b-b5c3-2c5db9040330\",\"type\":\"Grid\"},{\"id\":\"fb1ac843-eb49-43c4-bac3-d9c85bd35ea3\",\"type\":\"BoxAnnotation\"},{\"id\":\"b20d3b94-b315-4c55-9876-2fd1dfe355b3\",\"type\":\"GlyphRenderer\"}],\"title\":{\"id\":\"163e872e-89b7-4798-8a6a-0715545db896\",\"type\":\"Title\"},\"toolbar\":{\"id\":\"fae70c11-2d48-48a7-8ea6-5b3bb7428a9e\",\"type\":\"Toolbar\"},\"toolbar_location\":null,\"x_range\":{\"id\":\"fdaa572f-8682-4d5d-ae0d-ce88230dcb65\",\"type\":\"FactorRange\"},\"x_scale\":{\"id\":\"c2815b71-b347-4cac-bdf0-4a69952402cf\",\"type\":\"CategoricalScale\"},\"y_range\":{\"id\":\"4a24c67b-41a7-4f81-9010-c179593e825c\",\"type\":\"DataRange1d\"},\"y_scale\":{\"id\":\"2abf05b0-1def-4176-861f-afe17f45d017\",\"type\":\"LinearScale\"}},\"id\":\"40af3450-d097-4b70-9802-68f942adfb0f\",\"subtype\":\"Figure\",\"type\":\"Plot\"},{\"attributes\":{\"below\":[{\"id\":\"1e54f900-f345-4cd3-a526-dee6746fa496\",\"type\":\"CategoricalAxis\"}],\"left\":[{\"id\":\"210e5449-c93a-462b-8491-454892fddda9\",\"type\":\"LinearAxis\"}],\"plot_height\":300,\"plot_width\":300,\"renderers\":[{\"id\":\"1e54f900-f345-4cd3-a526-dee6746fa496\",\"type\":\"CategoricalAxis\"},{\"id\":\"0ae1666a-1cf8-4b82-98cc-bfaeef2ce172\",\"type\":\"Grid\"},{\"id\":\"210e5449-c93a-462b-8491-454892fddda9\",\"type\":\"LinearAxis\"},{\"id\":\"35b85813-9d35-41d0-b721-1b8ab9cf6199\",\"type\":\"Grid\"},{\"id\":\"0d14c2d4-b660-4a92-bce5-a7f7f2f50dfc\",\"type\":\"BoxAnnotation\"},{\"id\":\"4789d9c5-119a-4673-a634-9d269a8bed46\",\"type\":\"GlyphRenderer\"}],\"title\":{\"id\":\"7d2383c8-37ad-48e3-bc92-665f52a3b5ed\",\"type\":\"Title\"},\"toolbar\":{\"id\":\"e6cd4ec5-c447-4380-84f9-dc1113eda338\",\"type\":\"Toolbar\"},\"toolbar_location\":null,\"x_range\":{\"id\":\"aaf42bef-6a98-46d6-9386-b7cd27b7165a\",\"type\":\"FactorRange\"},\"x_scale\":{\"id\":\"fa811ab2-5e36-4b1d-9cc2-d43dcf8260d9\",\"type\":\"CategoricalScale\"},\"y_range\":{\"id\":\"496d9abb-d87d-4a9b-9188-935c1abb6d9e\",\"type\":\"DataRange1d\"},\"y_scale\":{\"id\":\"e5ddd986-4544-4e9a-bb31-bc20cb079bff\",\"type\":\"LinearScale\"}},\"id\":\"e01c31bd-9f35-4f84-a121-29ba9c47d9f3\",\"subtype\":\"Figure\",\"type\":\"Plot\"},{\"attributes\":{},\"id\":\"3acee4b1-971b-4b81-bfee-51cc5b13bc43\",\"type\":\"CategoricalScale\"},{\"attributes\":{},\"id\":\"e0d99ec6-80a3-45d0-a5bf-2a297702f7c0\",\"type\":\"CategoricalTickFormatter\"},{\"attributes\":{},\"id\":\"f5c675e0-8aac-4235-94c6-28702df71c1d\",\"type\":\"UnionRenderers\"},{\"attributes\":{\"callback\":null,\"factors\":[\"1\",\"2\",\"3\",\"4\",\"5\",\"6\",\"7\",\"8\",\"9\",\"10\",\"11\"]},\"id\":\"fdaa572f-8682-4d5d-ae0d-ce88230dcb65\",\"type\":\"FactorRange\"},{\"attributes\":{\"callback\":null,\"data\":{\"band\":[\"1\",\"2\",\"3\",\"4\",\"5\",\"6\",\"7\",\"8\",\"9\",\"10\",\"11\"],\"flux\":{\"__ndarray__\":\"APnkm0xgyD8AykAC0kC1vwBoiKcNPYi/QAlOvzwL0T+AnbZGBOPOvwDPfw9eu8K/QFfMCG8P1z8AHAbzV8ikP4AaiwFtBsi/QFf5r71gvj+ADKqylNGtPw==\",\"dtype\":\"float64\",\"shape\":[11]}},\"selected\":{\"id\":\"523e8991-f5ea-4c1a-bfa6-0d54fe3f5a08\",\"type\":\"Selection\"},\"selection_policy\":{\"id\":\"682d40a0-d1b5-4e49-a986-8789d6671963\",\"type\":\"UnionRenderers\"}},\"id\":\"410e68ff-b21c-4476-9f50-90be1cb0e8e9\",\"type\":\"ColumnDataSource\"},{\"attributes\":{\"fill_color\":{\"value\":\"#1f77b4\"},\"line_color\":{\"value\":\"#1f77b4\"},\"top\":{\"field\":\"flux\"},\"width\":{\"value\":0.9},\"x\":{\"field\":\"band\"}},\"id\":\"e27ebfa0-6584-4e40-88a7-99e68c4a34cf\",\"type\":\"VBar\"},{\"attributes\":{\"bottom_units\":\"screen\",\"fill_alpha\":{\"value\":0.5},\"fill_color\":{\"value\":\"lightgrey\"},\"left_units\":\"screen\",\"level\":\"overlay\",\"line_alpha\":{\"value\":1.0},\"line_color\":{\"value\":\"black\"},\"line_dash\":[4,4],\"line_width\":{\"value\":2},\"plot\":null,\"render_mode\":\"css\",\"right_units\":\"screen\",\"top_units\":\"screen\"},\"id\":\"fb1ac843-eb49-43c4-bac3-d9c85bd35ea3\",\"type\":\"BoxAnnotation\"},{\"attributes\":{\"active_drag\":\"auto\",\"active_inspect\":\"auto\",\"active_scroll\":\"auto\",\"active_tap\":\"auto\",\"tools\":[{\"id\":\"cbbcb5e7-115a-403f-8287-2ee0719b2c2c\",\"type\":\"PanTool\"},{\"id\":\"2f9f1808-0e56-4b89-bf0d-3646e212b8ec\",\"type\":\"WheelZoomTool\"},{\"id\":\"5cf7bfa7-bca6-4d11-b615-04e0f05dab3d\",\"type\":\"BoxZoomTool\"},{\"id\":\"fb904b86-3a39-4ed9-af70-d2313b919f2e\",\"type\":\"SaveTool\"},{\"id\":\"d857614b-fead-4935-bd54-016584acf1ee\",\"type\":\"ResetTool\"},{\"id\":\"1e662db9-dea4-42fb-8bf9-b0163904f1eb\",\"type\":\"HelpTool\"}]},\"id\":\"f247baf0-95fc-4852-b836-6c91aa6dd248\",\"type\":\"Toolbar\"},{\"attributes\":{},\"id\":\"634d0d2c-b728-4a4c-98a9-7061d11c0866\",\"type\":\"PanTool\"},{\"attributes\":{\"data_source\":{\"id\":\"27cc7142-2cc4-47cd-b8ce-34e2ef54542c\",\"type\":\"ColumnDataSource\"},\"glyph\":{\"id\":\"23e583bc-5cb6-438b-80fe-a38f0dc3009b\",\"type\":\"VBar\"},\"hover_glyph\":null,\"muted_glyph\":null,\"nonselection_glyph\":{\"id\":\"f02c97e8-e071-48b6-8dc1-f750d4c1ac69\",\"type\":\"VBar\"},\"selection_glyph\":null,\"view\":{\"id\":\"adc1d8a4-beab-4db5-b211-90f8db90e5a1\",\"type\":\"CDSView\"}},\"id\":\"fcaf3f5c-b975-453e-ba14-a19e7853657f\",\"type\":\"GlyphRenderer\"},{\"attributes\":{\"data_source\":{\"id\":\"410e68ff-b21c-4476-9f50-90be1cb0e8e9\",\"type\":\"ColumnDataSource\"},\"glyph\":{\"id\":\"960016e4-d137-419f-9110-7931b2dc76f9\",\"type\":\"VBar\"},\"hover_glyph\":null,\"muted_glyph\":null,\"nonselection_glyph\":{\"id\":\"93b23cc2-de9f-4057-9bef-6e2959b516d2\",\"type\":\"VBar\"},\"selection_glyph\":null,\"view\":{\"id\":\"726efbf6-0c8f-41ea-b7f5-5c09076c7b50\",\"type\":\"CDSView\"}},\"id\":\"b20d3b94-b315-4c55-9876-2fd1dfe355b3\",\"type\":\"GlyphRenderer\"},{\"attributes\":{},\"id\":\"f23122f6-ef0d-4dd5-bd57-aedbb34776ce\",\"type\":\"ResetTool\"},{\"attributes\":{\"source\":{\"id\":\"27cc7142-2cc4-47cd-b8ce-34e2ef54542c\",\"type\":\"ColumnDataSource\"}},\"id\":\"adc1d8a4-beab-4db5-b211-90f8db90e5a1\",\"type\":\"CDSView\"},{\"attributes\":{\"dimension\":1,\"plot\":{\"id\":\"e01c31bd-9f35-4f84-a121-29ba9c47d9f3\",\"subtype\":\"Figure\",\"type\":\"Plot\"},\"ticker\":{\"id\":\"9217c803-5faf-4990-9193-3d5821983d77\",\"type\":\"BasicTicker\"}},\"id\":\"35b85813-9d35-41d0-b721-1b8ab9cf6199\",\"type\":\"Grid\"},{\"attributes\":{},\"id\":\"cbbcb5e7-115a-403f-8287-2ee0719b2c2c\",\"type\":\"PanTool\"},{\"attributes\":{},\"id\":\"ed01e307-4856-4882-973f-b7acbe9ead52\",\"type\":\"Selection\"},{\"attributes\":{\"callback\":null,\"factors\":[\"1\",\"2\",\"3\",\"4\",\"5\",\"6\",\"7\",\"8\",\"9\",\"10\",\"11\"]},\"id\":\"aaf42bef-6a98-46d6-9386-b7cd27b7165a\",\"type\":\"FactorRange\"},{\"attributes\":{\"axis_label\":\"flux (W m-2)\",\"formatter\":{\"id\":\"df9a9fae-76b0-47e7-b093-107280637f33\",\"type\":\"BasicTickFormatter\"},\"plot\":{\"id\":\"0ecebd00-a7cf-4dce-8870-9b493adf90a3\",\"subtype\":\"Figure\",\"type\":\"Plot\"},\"ticker\":{\"id\":\"d6f646af-3d22-4b1b-95bc-d1191b721797\",\"type\":\"BasicTicker\"}},\"id\":\"6fd35c16-3801-4cfe-915f-1a8c87aef391\",\"type\":\"LinearAxis\"},{\"attributes\":{\"plot\":{\"id\":\"40af3450-d097-4b70-9802-68f942adfb0f\",\"subtype\":\"Figure\",\"type\":\"Plot\"},\"ticker\":{\"id\":\"c47453ee-0872-4793-a56c-3f020b8ab45d\",\"type\":\"CategoricalTicker\"}},\"id\":\"d11806c5-0ba2-404e-a7a0-46bb3a59d251\",\"type\":\"Grid\"},{\"attributes\":{\"data_source\":{\"id\":\"b2d2a4f8-7dd3-49fe-b48c-d3d24d516611\",\"type\":\"ColumnDataSource\"},\"glyph\":{\"id\":\"e27ebfa0-6584-4e40-88a7-99e68c4a34cf\",\"type\":\"VBar\"},\"hover_glyph\":null,\"muted_glyph\":null,\"nonselection_glyph\":{\"id\":\"b453e275-ea39-4725-b37e-ba16ab2e4b11\",\"type\":\"VBar\"},\"selection_glyph\":null,\"view\":{\"id\":\"222caea5-6345-4ced-9e90-0c3a113a8c04\",\"type\":\"CDSView\"}},\"id\":\"4789d9c5-119a-4673-a634-9d269a8bed46\",\"type\":\"GlyphRenderer\"},{\"attributes\":{\"fill_color\":{\"value\":\"#1f77b4\"},\"line_color\":{\"value\":\"#1f77b4\"},\"top\":{\"field\":\"flux\"},\"width\":{\"value\":0.9},\"x\":{\"field\":\"band\"}},\"id\":\"23e583bc-5cb6-438b-80fe-a38f0dc3009b\",\"type\":\"VBar\"},{\"attributes\":{},\"id\":\"b3a50727-ecb3-4b27-800b-73b8ad4fd5df\",\"type\":\"ResetTool\"},{\"attributes\":{},\"id\":\"9217c803-5faf-4990-9193-3d5821983d77\",\"type\":\"BasicTicker\"},{\"attributes\":{\"children\":[{\"id\":\"0e4ec8a1-4f21-449d-adac-635416e2c2b9\",\"type\":\"ToolbarBox\"},{\"id\":\"739136c8-ab34-40bc-9a33-22b062aec6ef\",\"type\":\"Column\"}]},\"id\":\"0351d0df-b137-461d-9c71-d5149022a544\",\"type\":\"Column\"},{\"attributes\":{},\"id\":\"df9a9fae-76b0-47e7-b093-107280637f33\",\"type\":\"BasicTickFormatter\"},{\"attributes\":{\"tools\":[{\"id\":\"634d0d2c-b728-4a4c-98a9-7061d11c0866\",\"type\":\"PanTool\"},{\"id\":\"3971a9d2-0ba1-4d77-82f1-a41033bd1091\",\"type\":\"WheelZoomTool\"},{\"id\":\"c073f1b9-d56e-41f6-8478-38407de1a44d\",\"type\":\"BoxZoomTool\"},{\"id\":\"e38efde4-c57f-4a05-bf3e-b4e27ab55730\",\"type\":\"SaveTool\"},{\"id\":\"f23122f6-ef0d-4dd5-bd57-aedbb34776ce\",\"type\":\"ResetTool\"},{\"id\":\"6e83afd7-2801-4a92-9c4a-2c57ccbff827\",\"type\":\"HelpTool\"},{\"id\":\"cbbcb5e7-115a-403f-8287-2ee0719b2c2c\",\"type\":\"PanTool\"},{\"id\":\"2f9f1808-0e56-4b89-bf0d-3646e212b8ec\",\"type\":\"WheelZoomTool\"},{\"id\":\"5cf7bfa7-bca6-4d11-b615-04e0f05dab3d\",\"type\":\"BoxZoomTool\"},{\"id\":\"fb904b86-3a39-4ed9-af70-d2313b919f2e\",\"type\":\"SaveTool\"},{\"id\":\"d857614b-fead-4935-bd54-016584acf1ee\",\"type\":\"ResetTool\"},{\"id\":\"1e662db9-dea4-42fb-8bf9-b0163904f1eb\",\"type\":\"HelpTool\"},{\"id\":\"1d55a7cd-478e-4a8f-98d0-b765312e5538\",\"type\":\"PanTool\"},{\"id\":\"c35fd6b2-81c9-4fa0-8782-a045b5a662e2\",\"type\":\"WheelZoomTool\"},{\"id\":\"dfe3714d-3322-44e4-ba38-b27c8ed42437\",\"type\":\"BoxZoomTool\"},{\"id\":\"7f163780-6706-4e4e-bb71-89d0fc59702a\",\"type\":\"SaveTool\"},{\"id\":\"b3a50727-ecb3-4b27-800b-73b8ad4fd5df\",\"type\":\"ResetTool\"},{\"id\":\"c7c0b4c0-81a7-4b97-ba9b-b227c292af20\",\"type\":\"HelpTool\"}]},\"id\":\"d3a827ab-42e6-4fa6-9889-19c25eda51d7\",\"type\":\"ProxyToolbar\"},{\"attributes\":{},\"id\":\"e419ca01-274a-4fea-bad6-dc5df0afe049\",\"type\":\"CategoricalTicker\"},{\"attributes\":{\"source\":{\"id\":\"410e68ff-b21c-4476-9f50-90be1cb0e8e9\",\"type\":\"ColumnDataSource\"}},\"id\":\"726efbf6-0c8f-41ea-b7f5-5c09076c7b50\",\"type\":\"CDSView\"},{\"attributes\":{\"plot\":{\"id\":\"e01c31bd-9f35-4f84-a121-29ba9c47d9f3\",\"subtype\":\"Figure\",\"type\":\"Plot\"},\"ticker\":{\"id\":\"89e45915-e958-4c7a-84ed-58ac8c48e6e1\",\"type\":\"CategoricalTicker\"}},\"id\":\"0ae1666a-1cf8-4b82-98cc-bfaeef2ce172\",\"type\":\"Grid\"},{\"attributes\":{},\"id\":\"41ff3b03-cc54-4bad-84f3-b34c75687b53\",\"type\":\"BasicTickFormatter\"},{\"attributes\":{},\"id\":\"15ede696-89c2-4aaf-960c-5da4f8e2950b\",\"type\":\"CategoricalTickFormatter\"},{\"attributes\":{\"overlay\":{\"id\":\"0d14c2d4-b660-4a92-bce5-a7f7f2f50dfc\",\"type\":\"BoxAnnotation\"}},\"id\":\"c073f1b9-d56e-41f6-8478-38407de1a44d\",\"type\":\"BoxZoomTool\"},{\"attributes\":{\"fill_alpha\":{\"value\":0.1},\"fill_color\":{\"value\":\"#1f77b4\"},\"line_alpha\":{\"value\":0.1},\"line_color\":{\"value\":\"#1f77b4\"},\"top\":{\"field\":\"flux\"},\"width\":{\"value\":0.9},\"x\":{\"field\":\"band\"}},\"id\":\"f02c97e8-e071-48b6-8dc1-f750d4c1ac69\",\"type\":\"VBar\"},{\"attributes\":{\"axis_label\":\"flux (W m-2)\",\"formatter\":{\"id\":\"41ff3b03-cc54-4bad-84f3-b34c75687b53\",\"type\":\"BasicTickFormatter\"},\"plot\":{\"id\":\"e01c31bd-9f35-4f84-a121-29ba9c47d9f3\",\"subtype\":\"Figure\",\"type\":\"Plot\"},\"ticker\":{\"id\":\"9217c803-5faf-4990-9193-3d5821983d77\",\"type\":\"BasicTicker\"}},\"id\":\"210e5449-c93a-462b-8491-454892fddda9\",\"type\":\"LinearAxis\"},{\"attributes\":{\"below\":[{\"id\":\"6f98eb1a-9e5f-4444-9288-2a2f70b3e4ef\",\"type\":\"CategoricalAxis\"}],\"left\":[{\"id\":\"6fd35c16-3801-4cfe-915f-1a8c87aef391\",\"type\":\"LinearAxis\"}],\"plot_height\":300,\"plot_width\":300,\"renderers\":[{\"id\":\"6f98eb1a-9e5f-4444-9288-2a2f70b3e4ef\",\"type\":\"CategoricalAxis\"},{\"id\":\"b18e6958-50c5-4a36-96ad-44aa0e6ee9c2\",\"type\":\"Grid\"},{\"id\":\"6fd35c16-3801-4cfe-915f-1a8c87aef391\",\"type\":\"LinearAxis\"},{\"id\":\"8f52ce42-432f-45cd-b4e1-fcf1a82edc51\",\"type\":\"Grid\"},{\"id\":\"6af9347f-c94a-4b1b-9c89-f0c395bd791f\",\"type\":\"BoxAnnotation\"},{\"id\":\"fcaf3f5c-b975-453e-ba14-a19e7853657f\",\"type\":\"GlyphRenderer\"}],\"title\":{\"id\":\"d6c3cdfc-c74d-478a-a9a5-addda0cb965b\",\"type\":\"Title\"},\"toolbar\":{\"id\":\"f247baf0-95fc-4852-b836-6c91aa6dd248\",\"type\":\"Toolbar\"},\"toolbar_location\":null,\"x_range\":{\"id\":\"cb4e1eb6-9d2f-4d63-b8c0-4cc85a4e0bdb\",\"type\":\"FactorRange\"},\"x_scale\":{\"id\":\"3acee4b1-971b-4b81-bfee-51cc5b13bc43\",\"type\":\"CategoricalScale\"},\"y_range\":{\"id\":\"d7f4f207-8fe4-4f04-9831-593ec35d0c57\",\"type\":\"DataRange1d\"},\"y_scale\":{\"id\":\"8b838b3e-86f3-4c5b-8c86-ad7137d0351f\",\"type\":\"LinearScale\"}},\"id\":\"0ecebd00-a7cf-4dce-8870-9b493adf90a3\",\"subtype\":\"Figure\",\"type\":\"Plot\"},{\"attributes\":{},\"id\":\"70cc4927-ef3d-4fb8-9840-cef87647552e\",\"type\":\"BasicTickFormatter\"},{\"attributes\":{\"children\":[{\"id\":\"f5c976f2-42c4-4f09-a19c-50b6bde1f424\",\"type\":\"Row\"}]},\"id\":\"739136c8-ab34-40bc-9a33-22b062aec6ef\",\"type\":\"Column\"},{\"attributes\":{},\"id\":\"d6f646af-3d22-4b1b-95bc-d1191b721797\",\"type\":\"BasicTicker\"},{\"attributes\":{},\"id\":\"f68e3f1e-cbf8-4198-8611-943e7afd23b6\",\"type\":\"Selection\"},{\"attributes\":{},\"id\":\"523e8991-f5ea-4c1a-bfa6-0d54fe3f5a08\",\"type\":\"Selection\"},{\"attributes\":{},\"id\":\"d91f12dc-a165-45a8-ba56-a9eaba80e460\",\"type\":\"CategoricalTickFormatter\"},{\"attributes\":{\"axis_label\":\"spectral band\",\"formatter\":{\"id\":\"e0d99ec6-80a3-45d0-a5bf-2a297702f7c0\",\"type\":\"CategoricalTickFormatter\"},\"plot\":{\"id\":\"40af3450-d097-4b70-9802-68f942adfb0f\",\"subtype\":\"Figure\",\"type\":\"Plot\"},\"ticker\":{\"id\":\"c47453ee-0872-4793-a56c-3f020b8ab45d\",\"type\":\"CategoricalTicker\"}},\"id\":\"0e8f1cd8-af31-42af-a1fb-33607125172e\",\"type\":\"CategoricalAxis\"},{\"attributes\":{},\"id\":\"e2a7506d-09a2-45e7-a36b-1efe288bd0f5\",\"type\":\"BasicTicker\"},{\"attributes\":{},\"id\":\"0bc60ff8-ae94-4edf-a9de-30e123a5b57d\",\"type\":\"UnionRenderers\"},{\"attributes\":{},\"id\":\"3971a9d2-0ba1-4d77-82f1-a41033bd1091\",\"type\":\"WheelZoomTool\"},{\"attributes\":{\"callback\":null},\"id\":\"4a24c67b-41a7-4f81-9010-c179593e825c\",\"type\":\"DataRange1d\"},{\"attributes\":{},\"id\":\"682d40a0-d1b5-4e49-a986-8789d6671963\",\"type\":\"UnionRenderers\"},{\"attributes\":{\"callback\":null,\"factors\":[\"1\",\"2\",\"3\",\"4\",\"5\",\"6\",\"7\",\"8\",\"9\",\"10\",\"11\"]},\"id\":\"cb4e1eb6-9d2f-4d63-b8c0-4cc85a4e0bdb\",\"type\":\"FactorRange\"},{\"attributes\":{\"fill_alpha\":{\"value\":0.1},\"fill_color\":{\"value\":\"#1f77b4\"},\"line_alpha\":{\"value\":0.1},\"line_color\":{\"value\":\"#1f77b4\"},\"top\":{\"field\":\"flux\"},\"width\":{\"value\":0.9},\"x\":{\"field\":\"band\"}},\"id\":\"93b23cc2-de9f-4057-9bef-6e2959b516d2\",\"type\":\"VBar\"},{\"attributes\":{\"dimension\":1,\"plot\":{\"id\":\"0ecebd00-a7cf-4dce-8870-9b493adf90a3\",\"subtype\":\"Figure\",\"type\":\"Plot\"},\"ticker\":{\"id\":\"d6f646af-3d22-4b1b-95bc-d1191b721797\",\"type\":\"BasicTicker\"}},\"id\":\"8f52ce42-432f-45cd-b4e1-fcf1a82edc51\",\"type\":\"Grid\"},{\"attributes\":{},\"id\":\"2f9f1808-0e56-4b89-bf0d-3646e212b8ec\",\"type\":\"WheelZoomTool\"},{\"attributes\":{},\"id\":\"fb904b86-3a39-4ed9-af70-d2313b919f2e\",\"type\":\"SaveTool\"},{\"attributes\":{\"callback\":null,\"data\":{\"band\":[\"1\",\"2\",\"3\",\"4\",\"5\",\"6\",\"7\",\"8\",\"9\",\"10\",\"11\"],\"flux\":{\"__ndarray__\":\"AJQxPsxeyD+AJAuYwK3SP8D4LxAEyNO/AP5HpkOn0z/AxW6fVWbQPwBgYFYo0rG/QP28qUiF2D8AoaF/gou5vwB8MCk+PpG/YL6fGi/dwD9Asujnl9KwPw==\",\"dtype\":\"float64\",\"shape\":[11]}},\"selected\":{\"id\":\"ed01e307-4856-4882-973f-b7acbe9ead52\",\"type\":\"Selection\"},\"selection_policy\":{\"id\":\"f5c675e0-8aac-4235-94c6-28702df71c1d\",\"type\":\"UnionRenderers\"}},\"id\":\"b2d2a4f8-7dd3-49fe-b48c-d3d24d516611\",\"type\":\"ColumnDataSource\"},{\"attributes\":{\"active_drag\":\"auto\",\"active_inspect\":\"auto\",\"active_scroll\":\"auto\",\"active_tap\":\"auto\",\"tools\":[{\"id\":\"1d55a7cd-478e-4a8f-98d0-b765312e5538\",\"type\":\"PanTool\"},{\"id\":\"c35fd6b2-81c9-4fa0-8782-a045b5a662e2\",\"type\":\"WheelZoomTool\"},{\"id\":\"dfe3714d-3322-44e4-ba38-b27c8ed42437\",\"type\":\"BoxZoomTool\"},{\"id\":\"7f163780-6706-4e4e-bb71-89d0fc59702a\",\"type\":\"SaveTool\"},{\"id\":\"b3a50727-ecb3-4b27-800b-73b8ad4fd5df\",\"type\":\"ResetTool\"},{\"id\":\"c7c0b4c0-81a7-4b97-ba9b-b227c292af20\",\"type\":\"HelpTool\"}]},\"id\":\"fae70c11-2d48-48a7-8ea6-5b3bb7428a9e\",\"type\":\"Toolbar\"},{\"attributes\":{},\"id\":\"6e83afd7-2801-4a92-9c4a-2c57ccbff827\",\"type\":\"HelpTool\"},{\"attributes\":{\"plot\":null,\"text\":\"TOA flux. CLIRAD - CRD.\"},\"id\":\"7d2383c8-37ad-48e3-bc92-665f52a3b5ed\",\"type\":\"Title\"},{\"attributes\":{},\"id\":\"c35fd6b2-81c9-4fa0-8782-a045b5a662e2\",\"type\":\"WheelZoomTool\"},{\"attributes\":{},\"id\":\"89e45915-e958-4c7a-84ed-58ac8c48e6e1\",\"type\":\"CategoricalTicker\"},{\"attributes\":{},\"id\":\"2abf05b0-1def-4176-861f-afe17f45d017\",\"type\":\"LinearScale\"},{\"attributes\":{},\"id\":\"e5ddd986-4544-4e9a-bb31-bc20cb079bff\",\"type\":\"LinearScale\"},{\"attributes\":{\"plot\":{\"id\":\"0ecebd00-a7cf-4dce-8870-9b493adf90a3\",\"subtype\":\"Figure\",\"type\":\"Plot\"},\"ticker\":{\"id\":\"e419ca01-274a-4fea-bad6-dc5df0afe049\",\"type\":\"CategoricalTicker\"}},\"id\":\"b18e6958-50c5-4a36-96ad-44aa0e6ee9c2\",\"type\":\"Grid\"},{\"attributes\":{},\"id\":\"1e662db9-dea4-42fb-8bf9-b0163904f1eb\",\"type\":\"HelpTool\"},{\"attributes\":{\"overlay\":{\"id\":\"6af9347f-c94a-4b1b-9c89-f0c395bd791f\",\"type\":\"BoxAnnotation\"}},\"id\":\"5cf7bfa7-bca6-4d11-b615-04e0f05dab3d\",\"type\":\"BoxZoomTool\"},{\"attributes\":{\"callback\":null},\"id\":\"d7f4f207-8fe4-4f04-9831-593ec35d0c57\",\"type\":\"DataRange1d\"},{\"attributes\":{\"source\":{\"id\":\"b2d2a4f8-7dd3-49fe-b48c-d3d24d516611\",\"type\":\"ColumnDataSource\"}},\"id\":\"222caea5-6345-4ced-9e90-0c3a113a8c04\",\"type\":\"CDSView\"},{\"attributes\":{},\"id\":\"c7c0b4c0-81a7-4b97-ba9b-b227c292af20\",\"type\":\"HelpTool\"},{\"attributes\":{\"axis_label\":\"spectral band\",\"formatter\":{\"id\":\"d91f12dc-a165-45a8-ba56-a9eaba80e460\",\"type\":\"CategoricalTickFormatter\"},\"plot\":{\"id\":\"e01c31bd-9f35-4f84-a121-29ba9c47d9f3\",\"subtype\":\"Figure\",\"type\":\"Plot\"},\"ticker\":{\"id\":\"89e45915-e958-4c7a-84ed-58ac8c48e6e1\",\"type\":\"CategoricalTicker\"}},\"id\":\"1e54f900-f345-4cd3-a526-dee6746fa496\",\"type\":\"CategoricalAxis\"},{\"attributes\":{\"children\":[{\"id\":\"e01c31bd-9f35-4f84-a121-29ba9c47d9f3\",\"subtype\":\"Figure\",\"type\":\"Plot\"},{\"id\":\"0ecebd00-a7cf-4dce-8870-9b493adf90a3\",\"subtype\":\"Figure\",\"type\":\"Plot\"},{\"id\":\"40af3450-d097-4b70-9802-68f942adfb0f\",\"subtype\":\"Figure\",\"type\":\"Plot\"}]},\"id\":\"f5c976f2-42c4-4f09-a19c-50b6bde1f424\",\"type\":\"Row\"},{\"attributes\":{\"callback\":null,\"data\":{\"band\":[\"1\",\"2\",\"3\",\"4\",\"5\",\"6\",\"7\",\"8\",\"9\",\"10\",\"11\"],\"flux\":{\"__ndarray__\":\"AAAAOsyXB78A0clS6/3XP4CReeQPBtO/AGDshJfgpD9AXJAty9ffPwAXfD/apLM/AI2iGGpelz9ABJTh0/fBv4C3lPPF3sU/ALA8D+7Oij8A8GJhiJx+Pw==\",\"dtype\":\"float64\",\"shape\":[11]}},\"selected\":{\"id\":\"f68e3f1e-cbf8-4198-8611-943e7afd23b6\",\"type\":\"Selection\"},\"selection_policy\":{\"id\":\"0bc60ff8-ae94-4edf-a9de-30e123a5b57d\",\"type\":\"UnionRenderers\"}},\"id\":\"27cc7142-2cc4-47cd-b8ce-34e2ef54542c\",\"type\":\"ColumnDataSource\"},{\"attributes\":{\"overlay\":{\"id\":\"fb1ac843-eb49-43c4-bac3-d9c85bd35ea3\",\"type\":\"BoxAnnotation\"}},\"id\":\"dfe3714d-3322-44e4-ba38-b27c8ed42437\",\"type\":\"BoxZoomTool\"}],\"root_ids\":[\"0351d0df-b137-461d-9c71-d5149022a544\"]},\"title\":\"Bokeh Application\",\"version\":\"0.12.16\"}};\n",
       "  var render_items = [{\"docid\":\"d136d219-b554-4984-91a6-4d2f17d8455e\",\"elementid\":\"8fb58750-22ca-4cff-90ef-e4067353c4e4\",\"modelid\":\"0351d0df-b137-461d-9c71-d5149022a544\"}];\n",
       "  root.Bokeh.embed.embed_items_notebook(docs_json, render_items);\n",
       "\n",
       "  }\n",
       "  if (root.Bokeh !== undefined) {\n",
       "    embed_document(root);\n",
       "  } else {\n",
       "    var attempts = 0;\n",
       "    var timer = setInterval(function(root) {\n",
       "      if (root.Bokeh !== undefined) {\n",
       "        embed_document(root);\n",
       "        clearInterval(timer);\n",
       "      }\n",
       "      attempts++;\n",
       "      if (attempts > 100) {\n",
       "        console.log(\"Bokeh: ERROR: Unable to run BokehJS code because BokehJS library is missing\")\n",
       "        clearInterval(timer);\n",
       "      }\n",
       "    }, 10, root)\n",
       "  }\n",
       "})(window);"
      ],
      "application/vnd.bokehjs_exec.v0+json": ""
     },
     "metadata": {
      "application/vnd.bokehjs_exec.v0+json": {
       "id": "0351d0df-b137-461d-9c71-d5149022a544"
      }
     },
     "output_type": "display_data"
    },
    {
     "data": {
      "text/markdown": [
       "*FIGURE.* Difference between CLIRAD and CRD in TOA, SFC and net atmosphere flux, in each spectral band."
      ],
      "text/plain": [
       "<IPython.core.display.Markdown object>"
      ]
     },
     "metadata": {},
     "output_type": "display_data"
    },
    {
     "data": {
      "text/html": [
       "<div>\n",
       "<style scoped>\n",
       "    .dataframe tbody tr th:only-of-type {\n",
       "        vertical-align: middle;\n",
       "    }\n",
       "\n",
       "    .dataframe tbody tr th {\n",
       "        vertical-align: top;\n",
       "    }\n",
       "\n",
       "    .dataframe thead th {\n",
       "        text-align: right;\n",
       "    }\n",
       "</style>\n",
       "<table border=\"1\" class=\"dataframe\">\n",
       "  <thead>\n",
       "    <tr style=\"text-align: right;\">\n",
       "      <th></th>\n",
       "      <th>OLR flux</th>\n",
       "      <th>SFC flux</th>\n",
       "      <th>ATM heating</th>\n",
       "    </tr>\n",
       "    <tr>\n",
       "      <th>Sum over bands</th>\n",
       "      <th></th>\n",
       "      <th></th>\n",
       "      <th></th>\n",
       "    </tr>\n",
       "  </thead>\n",
       "  <tbody>\n",
       "    <tr>\n",
       "      <th>old CLIRAD - CRD</th>\n",
       "      <td>0.09</td>\n",
       "      <td>1.54</td>\n",
       "      <td>-1.31</td>\n",
       "    </tr>\n",
       "    <tr>\n",
       "      <th>CLIRAD - CRD</th>\n",
       "      <td>1.13</td>\n",
       "      <td>0.77</td>\n",
       "      <td>0.36</td>\n",
       "    </tr>\n",
       "    <tr>\n",
       "      <th>CRD</th>\n",
       "      <td>-290.39</td>\n",
       "      <td>308.14</td>\n",
       "      <td>-174.89</td>\n",
       "    </tr>\n",
       "  </tbody>\n",
       "</table>\n",
       "</div>"
      ],
      "text/plain": [
       "                  OLR flux  SFC flux  ATM heating\n",
       "Sum over bands                                   \n",
       "old CLIRAD - CRD      0.09      1.54        -1.31\n",
       "CLIRAD - CRD          1.13      0.77         0.36\n",
       "CRD                -290.39    308.14      -174.89"
      ]
     },
     "metadata": {},
     "output_type": "display_data"
    },
    {
     "data": {
      "text/markdown": [
       "*TABLE.* Difference between CLIRAD and CRD in TOA, SFC and net atmosphere flux, over all spectral bands. CRD's TOA, SFC and net atmosphere flux, over all spectral bands."
      ],
      "text/plain": [
       "<IPython.core.display.Markdown object>"
      ]
     },
     "metadata": {},
     "output_type": "display_data"
    },
    {
     "data": {
      "text/html": [
       "<a id=\"Cooling_rates._saw.\"></a>"
      ],
      "text/plain": [
       "<IPython.core.display.HTML object>"
      ]
     },
     "metadata": {},
     "output_type": "display_data"
    },
    {
     "data": {
      "text/markdown": [
       "# Cooling rates. saw."
      ],
      "text/plain": [
       "<IPython.core.display.Markdown object>"
      ]
     },
     "metadata": {},
     "output_type": "display_data"
    },
    {
     "data": {
      "text/html": [
       "\n",
       "<div class=\"bk-root\">\n",
       "    <div class=\"bk-plotdiv\" id=\"7d1a13bc-33f9-45fb-9c14-12c8aef5760a\"></div>\n",
       "</div>"
      ]
     },
     "metadata": {},
     "output_type": "display_data"
    },
    {
     "data": {
      "application/javascript": [
       "(function(root) {\n",
       "  function embed_document(root) {\n",
       "    \n",
       "  var docs_json = {\"73c14a6d-5587-4466-a782-f073a5908304\":{\"roots\":{\"references\":[{\"attributes\":{},\"id\":\"090bb467-b663-4b0c-8a92-fafe8e6a7d1e\",\"type\":\"SaveTool\"},{\"attributes\":{\"children\":[{\"id\":\"7acffcd3-ee6b-4f3b-a316-65cb59e42637\",\"type\":\"ToolbarBox\"},{\"id\":\"be6ff5ae-08b3-45d0-bef1-dbb69bbdebcb\",\"type\":\"Column\"}]},\"id\":\"dceb53de-dc1d-4d36-8876-0307e75b12a8\",\"type\":\"Column\"},{\"attributes\":{\"active_drag\":\"auto\",\"active_inspect\":\"auto\",\"active_scroll\":\"auto\",\"active_tap\":\"auto\",\"tools\":[{\"id\":\"b90279b5-eac7-406e-bd58-a7ff19329714\",\"type\":\"PanTool\"},{\"id\":\"0387f28b-f3eb-46dc-a37f-271a616bd252\",\"type\":\"WheelZoomTool\"},{\"id\":\"0d051b97-679e-4e1d-a3ff-1866555944f9\",\"type\":\"BoxZoomTool\"},{\"id\":\"090bb467-b663-4b0c-8a92-fafe8e6a7d1e\",\"type\":\"SaveTool\"},{\"id\":\"c3fdb12d-59b7-4ffc-a824-0d6da7444384\",\"type\":\"ResetTool\"},{\"id\":\"852875f9-37b4-478d-ba23-a2d7fda8dfa4\",\"type\":\"HelpTool\"}]},\"id\":\"e538308c-2b56-49aa-8853-f9c3c8da4045\",\"type\":\"Toolbar\"},{\"attributes\":{\"plot\":null,\"text\":\"\"},\"id\":\"37fa342f-15fd-4ca7-aa77-892f26a29282\",\"type\":\"Title\"},{\"attributes\":{\"plot\":{\"id\":\"39adfa79-34e0-4b08-b2e4-fb991fc82d7e\",\"subtype\":\"Figure\",\"type\":\"Plot\"},\"ticker\":{\"id\":\"16226086-f8bc-4773-8096-e402e628c432\",\"type\":\"BasicTicker\"}},\"id\":\"756887a2-cb5a-4cda-b5d6-90c117f765e2\",\"type\":\"Grid\"},{\"attributes\":{},\"id\":\"25d330a9-c50a-44cb-9324-fafec1542843\",\"type\":\"BasicTickFormatter\"},{\"attributes\":{\"callback\":null,\"data\":{\"x\":{\"__ndarray__\":\"4L4jQHkeSED6bEliUZ1BQEG5/fnNOEFAKaX75oDvP0BWtxGLZf47QEsBa/cjdTdAvpCanOxvM0BYkA5Wr84wQIaHIyjeAS9AWp5++qLLLUCOWP4+iNUsQIddP4fJsitAhHeHs/zHKkAAB4lz66QpQIBdaVIOBihADcFUlg/LJkDo1fBny+8lQPL0MCipBiVA/84lcpgkJEApc9ZyQNQjQFMPZMd7HyVApFTwGHN5JECiczDrJ6YgQIMFIMndFRpAWmxD+VRMFECehYkcClIPQB2zlZqXGwlAIicg3vv1BEAGRP5PTWYCQIa2J73/EABAtVgNVxp3+z96irxnuyH1P+z/ko9ZivE/8q9rrax48T8tVZkJt73vPzFr4ZTTdek/Y+P3Lsmk5D+JZQIP8jfhP53wbNVCPeE/V9r0twyd4T9DlFgp+vHhP/iVNYK86+A/h8f9pSCQ3j8zN7uAz3/aPzUby1lUT9I/z5vtWyznzz/hqXiSS5baP3NjmyzXAuM/QKsa7/xC6z/T98vpfA/yPxGBa71eYPU/YSnZQumF9z8JuAhnaWv4P5zURQ1fa/g/QpS5890++D8Ha55Ocvb3P+zBlxcWi/c/l+WA4Bf69j8VkMl1GUb2PyPAsbNdn/U/5W9Xcy3b9D9bev/iwwf0P01MJIz3L/M/36lmcLll8j/8BvWPL73xPwQRsLU6SvE/tjXQYsMs8T90lDwEeXHxP0x+0CL3tvE/XMHCi7Z58T/lnyM2e7fvP+J+EQLjkeo/gh+1xxvB5T/c50HRZjvhP9t0xwybG9c/\",\"dtype\":\"float64\",\"shape\":[75]},\"y\":{\"__ndarray__\":\"GhExyth1ND/Sv8nbtpRIP2vylNV0PVE/aTum7souWD/At0SJ8fVgPw3Iuahxymc/MSNhhJWvcD/bTfBN02d3P2zb5nxnaoA/CD5h5MAGhz8NmeH1TyaQP+zrCsc9p5Y/LbKd76fGnz/bLW5ISEmmPww9YvTcQq8/JV2OstnstT8Er5Y7M8G+P0c+r3jqkcU/5h99k6ZBzj88bCIzFzjVP4enV8oyxN0//yH99nXg5D8qOpLLf0jtP5kqGJXUifQ/c9cS8kHP/D+/DpwzojQEQIEmwoanVwxA4lgXt9HgE0BSSZ2AJuIbQAMJih9jjiNA5q4l5INuK0AwTKYKRj0zQNv5fmq8/DpAaCJseHrtQkB/+zpwzoxKQM3MzMzMeFJAZmZmZmZqWEAAAAAAAFxeQM3MzMzMJmJAmpmZmZkfZUBmZmZmZhhoQDMzMzMzEWtAAAAAAAAKbkBmZmZmZoFwQM3MzMzM/XFAMzMzMzN6c0CamZmZmfZ0QAAAAAAAc3ZAZmZmZmbvd0DNzMzMzGt5QDMzMzMz6HpAmpmZmZlkfEAAAAAAAOF9QGZmZmZmXX9AZmZmZuZsgECamZmZGSuBQM3MzMxM6YFAAAAAAICngkAzMzMzs2WDQGZmZmbmI4RAmpmZmRnihEDNzMzMTKCFQAAAAACAXoZAMzMzM7Mch0BmZmZm5tqHQJqZmZkZmYhAzczMzExXiUAAAAAAgBWKQDMzMzOz04pAZmZmZuaRi0CamZmZGVCMQM3MzMxMDo1AAAAAAIDMjUAzMzMzs4qOQGZmZmbmSI9A\",\"dtype\":\"float64\",\"shape\":[75]}},\"selected\":{\"id\":\"dc696358-ae92-41a4-bf56-855862143fd2\",\"type\":\"Selection\"},\"selection_policy\":{\"id\":\"27f6c55e-4dbb-4765-8de0-58db2bf08349\",\"type\":\"UnionRenderers\"}},\"id\":\"1baad8fc-c01d-4d94-9bcd-408eaa838684\",\"type\":\"ColumnDataSource\"},{\"attributes\":{\"source\":{\"id\":\"81ed7a9e-466c-4fc1-8bee-0d52b543ff3c\",\"type\":\"ColumnDataSource\"}},\"id\":\"2ed7286b-6323-4900-ad19-ccea1d3ae9dc\",\"type\":\"CDSView\"},{\"attributes\":{\"line_alpha\":0.6,\"line_color\":\"#e41a1c\",\"line_dash\":[6],\"line_width\":5,\"x\":{\"field\":\"x\"},\"y\":{\"field\":\"y\"}},\"id\":\"60d1b5f7-5e69-49b4-8a76-445574f3af25\",\"type\":\"Line\"},{\"attributes\":{},\"id\":\"5a45185a-d83b-4059-8f06-15e455c65ba7\",\"type\":\"Selection\"},{\"attributes\":{\"source\":{\"id\":\"5f3206a8-65a5-4050-9de7-211afa3e31c6\",\"type\":\"ColumnDataSource\"}},\"id\":\"449143ba-1664-471f-b361-dc8fa05df29c\",\"type\":\"CDSView\"},{\"attributes\":{\"line_alpha\":0.6,\"line_color\":\"#e41a1c\",\"line_dash\":[6],\"line_width\":5,\"x\":{\"field\":\"x\"},\"y\":{\"field\":\"y\"}},\"id\":\"5cb3a9c5-1119-492a-88cd-c2df36fe5a21\",\"type\":\"Line\"},{\"attributes\":{\"ticker\":null},\"id\":\"49f0889f-9ca3-4baa-90a9-54ce4cd87fd9\",\"type\":\"LogTickFormatter\"},{\"attributes\":{},\"id\":\"99742a04-fba0-4afb-a4d5-fb9f5374857e\",\"type\":\"Selection\"},{\"attributes\":{},\"id\":\"8bf3f448-e1ea-4c70-b27c-872b6655701c\",\"type\":\"BasicTickFormatter\"},{\"attributes\":{},\"id\":\"b9a4f1e8-3a84-4269-b6a6-c79a910de13e\",\"type\":\"BasicTicker\"},{\"attributes\":{\"callback\":null,\"end\":16.43616965691257,\"start\":0.38067245441832914},\"id\":\"563ecea8-fc0d-4815-b1ea-539eebb8d287\",\"type\":\"Range1d\"},{\"attributes\":{},\"id\":\"b90279b5-eac7-406e-bd58-a7ff19329714\",\"type\":\"PanTool\"},{\"attributes\":{\"dimension\":1,\"plot\":{\"id\":\"39adfa79-34e0-4b08-b2e4-fb991fc82d7e\",\"subtype\":\"Figure\",\"type\":\"Plot\"},\"ticker\":{\"id\":\"b9a4f1e8-3a84-4269-b6a6-c79a910de13e\",\"type\":\"BasicTicker\"}},\"id\":\"8f39ddc3-51fe-44ce-800a-87318e436ccb\",\"type\":\"Grid\"},{\"attributes\":{\"data_source\":{\"id\":\"5f3206a8-65a5-4050-9de7-211afa3e31c6\",\"type\":\"ColumnDataSource\"},\"glyph\":{\"id\":\"53803535-5827-4e75-bdd8-d5abccf45b23\",\"type\":\"Circle\"},\"hover_glyph\":null,\"muted_glyph\":null,\"nonselection_glyph\":{\"id\":\"69f137e3-a8b5-4674-a12c-882a9b18abec\",\"type\":\"Circle\"},\"selection_glyph\":null,\"view\":{\"id\":\"449143ba-1664-471f-b361-dc8fa05df29c\",\"type\":\"CDSView\"}},\"id\":\"455b2681-e172-4e35-a009-49268e69ad95\",\"type\":\"GlyphRenderer\"},{\"attributes\":{},\"id\":\"16226086-f8bc-4773-8096-e402e628c432\",\"type\":\"BasicTicker\"},{\"attributes\":{\"callback\":null,\"data\":{\"x\":{\"__ndarray__\":\"0CYBcvU5UkCik9zf2GVBQF1VoNfLZ0BAVLxhiVXTPUDD1Wu1wJM6QFJyB025jjdAU6Aw5+b/NECYe1uuDfgyQB6bYtVTbTFAPxYSAF1HMEA00pYVm9QuQLolHbMzgC1AntlwirGsLECv+G9SjE4rQJH6ZLBp0ShAsLZQyPd/JkDyjgyf2PwkQLgyNGsrJyRAA13QbJD6I0C8hy0ilI4kQOVTXCEgcSZAovOGvZSGJUBVc/ZmUOIgQOf/6GHAyRlAcE8fAOBSFEDRur1U//gPQGFD9ZbokghAQsqHuSqSA0C91ci3W0UBQCtRQfvz7/4/kh8pntyB+j9t1/n+4TX1P773MAUjFfI/RgzR+CI28T8hBW8WHK7uPzVKjJfU8uk/0FPt4/z65T/wVYqzMPDhPz7K9C5CXuE/8+hSn9hY4T/9PPCkR6rhP1XsIC599OA/66X1nBCX3z/YbRM56QjcPz4dkSQc/dM/S7Wb8Fq00T+/yQdmX0vcP7TrGf476eM/WqNPJoWO7D9qOH1bcwDzP2bw+R5DQ/Y/RLSuQOQp+D8+aif8yAz5P0Wv6eBKRfk/0i2+IN4R+T/ik8QNFZr4PyS5UD5j/Pc/yJ68zXRG9z/2CHPL54H2P59SOhwKtPU/npkP8dfg9D8NlmVcdQz0P80ugRvuOvM/byxiAHN18j9USVZie8nxP5l9lNXYSPE/OB+F0UYP8T8Y7dsUCTHxP3EBgTHPcPE/bfx15p8S8T8FT+xkGtTuP6mdG7rkxuk/pboqTkHX5D/CrN8qGYngP7R4ZaL+htU/\",\"dtype\":\"float64\",\"shape\":[75]},\"y\":{\"__ndarray__\":\"GhExyth1ND/Sv8nbtpRIP2vylNV0PVE/aTum7souWD/At0SJ8fVgPw3Iuahxymc/MSNhhJWvcD/bTfBN02d3P2zb5nxnaoA/CD5h5MAGhz8NmeH1TyaQP+zrCsc9p5Y/LbKd76fGnz/bLW5ISEmmPww9YvTcQq8/JV2OstnstT8Er5Y7M8G+P0c+r3jqkcU/5h99k6ZBzj88bCIzFzjVP4enV8oyxN0//yH99nXg5D8qOpLLf0jtP5kqGJXUifQ/c9cS8kHP/D+/DpwzojQEQIEmwoanVwxA4lgXt9HgE0BSSZ2AJuIbQAMJih9jjiNA5q4l5INuK0AwTKYKRj0zQNv5fmq8/DpAaCJseHrtQkB/+zpwzoxKQM3MzMzMeFJAZmZmZmZqWEAAAAAAAFxeQM3MzMzMJmJAmpmZmZkfZUBmZmZmZhhoQDMzMzMzEWtAAAAAAAAKbkBmZmZmZoFwQM3MzMzM/XFAMzMzMzN6c0CamZmZmfZ0QAAAAAAAc3ZAZmZmZmbvd0DNzMzMzGt5QDMzMzMz6HpAmpmZmZlkfEAAAAAAAOF9QGZmZmZmXX9AZmZmZuZsgECamZmZGSuBQM3MzMxM6YFAAAAAAICngkAzMzMzs2WDQGZmZmbmI4RAmpmZmRnihEDNzMzMTKCFQAAAAACAXoZAMzMzM7Mch0BmZmZm5tqHQJqZmZkZmYhAzczMzExXiUAAAAAAgBWKQDMzMzOz04pAZmZmZuaRi0CamZmZGVCMQM3MzMxMDo1AAAAAAIDMjUAzMzMzs4qOQGZmZmbmSI9A\",\"dtype\":\"float64\",\"shape\":[75]}},\"selected\":{\"id\":\"7c0e0ba2-c3da-4298-b7d7-5d253e92d155\",\"type\":\"Selection\"},\"selection_policy\":{\"id\":\"e2e22f09-f082-48fa-9a37-6909e48c54b8\",\"type\":\"UnionRenderers\"}},\"id\":\"a0b3c833-fe64-4ba2-82a5-a0d1d8b4f652\",\"type\":\"ColumnDataSource\"},{\"attributes\":{},\"id\":\"c3fdb12d-59b7-4ffc-a824-0d6da7444384\",\"type\":\"ResetTool\"},{\"attributes\":{},\"id\":\"4f02c2da-2f87-41ff-85f9-42f820ecfdb4\",\"type\":\"PanTool\"},{\"attributes\":{},\"id\":\"0387f28b-f3eb-46dc-a37f-271a616bd252\",\"type\":\"WheelZoomTool\"},{\"attributes\":{\"line_alpha\":0.1,\"line_color\":\"#1f77b4\",\"line_width\":1.5,\"x\":{\"field\":\"x\"},\"y\":{\"field\":\"y\"}},\"id\":\"71ff531f-7182-4187-9639-b15b12020ac1\",\"type\":\"Line\"},{\"attributes\":{\"data_source\":{\"id\":\"1baad8fc-c01d-4d94-9bcd-408eaa838684\",\"type\":\"ColumnDataSource\"},\"glyph\":{\"id\":\"60d1b5f7-5e69-49b4-8a76-445574f3af25\",\"type\":\"Line\"},\"hover_glyph\":null,\"muted_glyph\":null,\"nonselection_glyph\":{\"id\":\"c7107261-8fbc-4f43-aa9f-556f0be88943\",\"type\":\"Line\"},\"selection_glyph\":null,\"view\":{\"id\":\"7fefedfa-f5ce-4b88-b4bc-7cd17cc6a729\",\"type\":\"CDSView\"}},\"id\":\"8cfaf0a5-13f2-4add-8a05-ca2c1fade92b\",\"type\":\"GlyphRenderer\"},{\"attributes\":{},\"id\":\"5cf74886-1728-4bea-a53c-0fe850806120\",\"type\":\"UnionRenderers\"},{\"attributes\":{},\"id\":\"e40be370-8e5a-46f7-8da5-ba89e3c4fed6\",\"type\":\"BasicTickFormatter\"},{\"attributes\":{\"source\":{\"id\":\"6875d499-570a-4e15-be86-ed85a5be12ae\",\"type\":\"ColumnDataSource\"}},\"id\":\"65eeb2e5-836e-4a09-838a-746cfa0a4f9b\",\"type\":\"CDSView\"},{\"attributes\":{\"callback\":null,\"data\":{\"x\":{\"__ndarray__\":\"0CYBcvU5UkCik9zf2GVBQF1VoNfLZ0BAVLxhiVXTPUDD1Wu1wJM6QFJyB025jjdAU6Aw5+b/NECYe1uuDfgyQB6bYtVTbTFAPxYSAF1HMEA00pYVm9QuQLolHbMzgC1AntlwirGsLECv+G9SjE4rQJH6ZLBp0ShAsLZQyPd/JkDyjgyf2PwkQLgyNGsrJyRAA13QbJD6I0C8hy0ilI4kQOVTXCEgcSZAovOGvZSGJUBVc/ZmUOIgQOf/6GHAyRlAcE8fAOBSFEDRur1U//gPQGFD9ZbokghAQsqHuSqSA0C91ci3W0UBQCtRQfvz7/4/kh8pntyB+j9t1/n+4TX1P773MAUjFfI/RgzR+CI28T8hBW8WHK7uPzVKjJfU8uk/0FPt4/z65T/wVYqzMPDhPz7K9C5CXuE/8+hSn9hY4T/9PPCkR6rhP1XsIC599OA/66X1nBCX3z/YbRM56QjcPz4dkSQc/dM/S7Wb8Fq00T+/yQdmX0vcP7TrGf476eM/WqNPJoWO7D9qOH1bcwDzP2bw+R5DQ/Y/RLSuQOQp+D8+aif8yAz5P0Wv6eBKRfk/0i2+IN4R+T/ik8QNFZr4PyS5UD5j/Pc/yJ68zXRG9z/2CHPL54H2P59SOhwKtPU/npkP8dfg9D8NlmVcdQz0P80ugRvuOvM/byxiAHN18j9USVZie8nxP5l9lNXYSPE/OB+F0UYP8T8Y7dsUCTHxP3EBgTHPcPE/bfx15p8S8T8FT+xkGtTuP6mdG7rkxuk/pboqTkHX5D/CrN8qGYngP7R4ZaL+htU/\",\"dtype\":\"float64\",\"shape\":[75]},\"y\":{\"__ndarray__\":\"GhExyth1ND/Sv8nbtpRIP2vylNV0PVE/aTum7souWD/At0SJ8fVgPw3Iuahxymc/MSNhhJWvcD/bTfBN02d3P2zb5nxnaoA/CD5h5MAGhz8NmeH1TyaQP+zrCsc9p5Y/LbKd76fGnz/bLW5ISEmmPww9YvTcQq8/JV2OstnstT8Er5Y7M8G+P0c+r3jqkcU/5h99k6ZBzj88bCIzFzjVP4enV8oyxN0//yH99nXg5D8qOpLLf0jtP5kqGJXUifQ/c9cS8kHP/D+/DpwzojQEQIEmwoanVwxA4lgXt9HgE0BSSZ2AJuIbQAMJih9jjiNA5q4l5INuK0AwTKYKRj0zQNv5fmq8/DpAaCJseHrtQkB/+zpwzoxKQM3MzMzMeFJAZmZmZmZqWEAAAAAAAFxeQM3MzMzMJmJAmpmZmZkfZUBmZmZmZhhoQDMzMzMzEWtAAAAAAAAKbkBmZmZmZoFwQM3MzMzM/XFAMzMzMzN6c0CamZmZmfZ0QAAAAAAAc3ZAZmZmZmbvd0DNzMzMzGt5QDMzMzMz6HpAmpmZmZlkfEAAAAAAAOF9QGZmZmZmXX9AZmZmZuZsgECamZmZGSuBQM3MzMxM6YFAAAAAAICngkAzMzMzs2WDQGZmZmbmI4RAmpmZmRnihEDNzMzMTKCFQAAAAACAXoZAMzMzM7Mch0BmZmZm5tqHQJqZmZkZmYhAzczMzExXiUAAAAAAgBWKQDMzMzOz04pAZmZmZuaRi0CamZmZGVCMQM3MzMxMDo1AAAAAAIDMjUAzMzMzs4qOQGZmZmbmSI9A\",\"dtype\":\"float64\",\"shape\":[75]}},\"selected\":{\"id\":\"0f80b36e-7361-48e3-a255-820ae5738f47\",\"type\":\"Selection\"},\"selection_policy\":{\"id\":\"5cf74886-1728-4bea-a53c-0fe850806120\",\"type\":\"UnionRenderers\"}},\"id\":\"5f3206a8-65a5-4050-9de7-211afa3e31c6\",\"type\":\"ColumnDataSource\"},{\"attributes\":{},\"id\":\"7c0e0ba2-c3da-4298-b7d7-5d253e92d155\",\"type\":\"Selection\"},{\"attributes\":{},\"id\":\"1df2142a-456f-4a98-b5b5-c979adaf9534\",\"type\":\"UnionRenderers\"},{\"attributes\":{\"ticker\":null},\"id\":\"9551d579-0151-45b5-b75c-a8188278a9b3\",\"type\":\"LogTickFormatter\"},{\"attributes\":{},\"id\":\"0bb15f81-33d7-4f11-8ab1-668612e710d0\",\"type\":\"BasicTickFormatter\"},{\"attributes\":{\"above\":[{\"id\":\"459fff93-3a4e-4c05-a85e-bfd15b72e5f8\",\"type\":\"Legend\"}],\"below\":[{\"id\":\"b6057d37-d111-4874-bb9b-20377a41ccce\",\"type\":\"LinearAxis\"}],\"left\":[{\"id\":\"7a9ece50-d3fd-40d0-9c56-7fac0582d931\",\"type\":\"LogAxis\"}],\"plot_width\":300,\"renderers\":[{\"id\":\"b6057d37-d111-4874-bb9b-20377a41ccce\",\"type\":\"LinearAxis\"},{\"id\":\"8d774ec8-00de-4d8f-a4fe-73561288cade\",\"type\":\"Grid\"},{\"id\":\"7a9ece50-d3fd-40d0-9c56-7fac0582d931\",\"type\":\"LogAxis\"},{\"id\":\"057f8d96-639a-4ddc-8690-a91ca7c34dd9\",\"type\":\"Grid\"},{\"id\":\"b7bcc2e3-301e-4c0e-9948-a75c6f4fde29\",\"type\":\"BoxAnnotation\"},{\"id\":\"9555cbd5-7baa-4bdc-90b8-6304ea4ea319\",\"type\":\"GlyphRenderer\"},{\"id\":\"9fc2d34b-b463-4350-919f-8b2002f9e3a2\",\"type\":\"GlyphRenderer\"},{\"id\":\"459fff93-3a4e-4c05-a85e-bfd15b72e5f8\",\"type\":\"Legend\"}],\"title\":{\"id\":\"e18a223f-29f4-4031-adf4-76bb7de0a339\",\"type\":\"Title\"},\"toolbar\":{\"id\":\"39b0d2e4-9b9a-4ac1-80b9-18c4a1c97536\",\"type\":\"Toolbar\"},\"toolbar_location\":null,\"x_range\":{\"id\":\"fd016105-214e-43af-b7f6-aae909dce89b\",\"type\":\"Range1d\"},\"x_scale\":{\"id\":\"2a614db7-698d-4240-ac62-06f321ed25fd\",\"type\":\"LinearScale\"},\"y_range\":{\"id\":\"961d6428-60d9-4016-a478-d5ddeb60b50f\",\"type\":\"Range1d\"},\"y_scale\":{\"id\":\"fefe9dc2-0635-4b85-8035-2c27201c96f0\",\"type\":\"LogScale\"}},\"id\":\"f1b88e7c-1bf8-41a6-abf1-7e7e981abf53\",\"subtype\":\"Figure\",\"type\":\"Plot\"},{\"attributes\":{\"axis_label\":\"pressure [mb]\",\"formatter\":{\"id\":\"25d330a9-c50a-44cb-9324-fafec1542843\",\"type\":\"BasicTickFormatter\"},\"plot\":{\"id\":\"39adfa79-34e0-4b08-b2e4-fb991fc82d7e\",\"subtype\":\"Figure\",\"type\":\"Plot\"},\"ticker\":{\"id\":\"b9a4f1e8-3a84-4269-b6a6-c79a910de13e\",\"type\":\"BasicTicker\"}},\"id\":\"c6f6f717-3f30-4f79-a683-c36a96ad5dd1\",\"type\":\"LinearAxis\"},{\"attributes\":{},\"id\":\"cb4389a1-7e41-4a38-8288-23250627b5e3\",\"type\":\"LinearScale\"},{\"attributes\":{\"dimension\":1,\"plot\":{\"id\":\"853de034-3351-4b71-80a6-be5b1047f0cb\",\"subtype\":\"Figure\",\"type\":\"Plot\"},\"ticker\":{\"id\":\"7e57a283-9015-4b40-8787-b96206e45f0f\",\"type\":\"LogTicker\"}},\"id\":\"4a36490a-4ce7-43d1-af28-4ee844340062\",\"type\":\"Grid\"},{\"attributes\":{\"callback\":null,\"end\":0.01,\"start\":1020},\"id\":\"155eb9b5-ca59-42ab-8a58-b7f8b244ae38\",\"type\":\"Range1d\"},{\"attributes\":{\"above\":[{\"id\":\"ada99626-a6fc-4810-9cce-445aa7f7fde7\",\"type\":\"Legend\"}],\"below\":[{\"id\":\"99eeea1f-af8a-4f8f-b2c8-70366ab2cc3f\",\"type\":\"LinearAxis\"}],\"left\":[{\"id\":\"7e3007fc-222a-4358-ae7d-57b1c19d35af\",\"type\":\"LogAxis\"}],\"plot_width\":300,\"renderers\":[{\"id\":\"99eeea1f-af8a-4f8f-b2c8-70366ab2cc3f\",\"type\":\"LinearAxis\"},{\"id\":\"1614f438-de94-4163-87ed-df81683ad090\",\"type\":\"Grid\"},{\"id\":\"7e3007fc-222a-4358-ae7d-57b1c19d35af\",\"type\":\"LogAxis\"},{\"id\":\"4a36490a-4ce7-43d1-af28-4ee844340062\",\"type\":\"Grid\"},{\"id\":\"5131a8d4-632f-4cea-af07-b8bc69104967\",\"type\":\"BoxAnnotation\"},{\"id\":\"7d24bd0f-66ce-4c93-89bd-ddb91715bad2\",\"type\":\"GlyphRenderer\"},{\"id\":\"7729473c-30b3-4446-93ba-44a6a9cdb3c2\",\"type\":\"GlyphRenderer\"},{\"id\":\"321330e2-31ad-47aa-ab27-44b386894887\",\"type\":\"GlyphRenderer\"},{\"id\":\"ada99626-a6fc-4810-9cce-445aa7f7fde7\",\"type\":\"Legend\"}],\"title\":{\"id\":\"37fa342f-15fd-4ca7-aa77-892f26a29282\",\"type\":\"Title\"},\"toolbar\":{\"id\":\"e538308c-2b56-49aa-8853-f9c3c8da4045\",\"type\":\"Toolbar\"},\"toolbar_location\":null,\"x_range\":{\"id\":\"563ecea8-fc0d-4815-b1ea-539eebb8d287\",\"type\":\"Range1d\"},\"x_scale\":{\"id\":\"cb4389a1-7e41-4a38-8288-23250627b5e3\",\"type\":\"LinearScale\"},\"y_range\":{\"id\":\"155eb9b5-ca59-42ab-8a58-b7f8b244ae38\",\"type\":\"Range1d\"},\"y_scale\":{\"id\":\"3fa2cd62-290c-4c8d-8ddc-a76e6b7eb27b\",\"type\":\"LogScale\"}},\"id\":\"853de034-3351-4b71-80a6-be5b1047f0cb\",\"subtype\":\"Figure\",\"type\":\"Plot\"},{\"attributes\":{\"label\":{\"value\":\"CRD\"},\"renderers\":[{\"id\":\"455b2681-e172-4e35-a009-49268e69ad95\",\"type\":\"GlyphRenderer\"},{\"id\":\"9795788f-ba0e-4983-91d9-827577226120\",\"type\":\"GlyphRenderer\"}]},\"id\":\"351eb627-8169-4e9b-bf5e-6cb935393584\",\"type\":\"LegendItem\"},{\"attributes\":{\"callback\":null,\"end\":1.59271886053327,\"start\":0.23594060091972996},\"id\":\"55570b9d-c48e-411f-b570-4bccc43a7ae2\",\"type\":\"Range1d\"},{\"attributes\":{\"callback\":null,\"end\":0.01,\"start\":1020},\"id\":\"961d6428-60d9-4016-a478-d5ddeb60b50f\",\"type\":\"Range1d\"},{\"attributes\":{},\"id\":\"136e2688-ccf7-41b7-b468-4fac1112acf2\",\"type\":\"LinearScale\"},{\"attributes\":{},\"id\":\"e11b98f5-29f9-423e-877f-170079f0ca78\",\"type\":\"UnionRenderers\"},{\"attributes\":{\"callback\":null,\"end\":0.493063986214751,\"start\":-1.3995904550577503},\"id\":\"fd016105-214e-43af-b7f6-aae909dce89b\",\"type\":\"Range1d\"},{\"attributes\":{},\"id\":\"3fa2cd62-290c-4c8d-8ddc-a76e6b7eb27b\",\"type\":\"LogScale\"},{\"attributes\":{\"children\":[{\"id\":\"39adfa79-34e0-4b08-b2e4-fb991fc82d7e\",\"subtype\":\"Figure\",\"type\":\"Plot\"},{\"id\":\"853de034-3351-4b71-80a6-be5b1047f0cb\",\"subtype\":\"Figure\",\"type\":\"Plot\"},{\"id\":\"f1b88e7c-1bf8-41a6-abf1-7e7e981abf53\",\"subtype\":\"Figure\",\"type\":\"Plot\"}]},\"id\":\"b6a55eb8-cd18-4556-9376-782960f934a6\",\"type\":\"Row\"},{\"attributes\":{\"plot\":null,\"text\":\"\"},\"id\":\"1fce64af-da17-4cc5-aeb3-c9285249d2ad\",\"type\":\"Title\"},{\"attributes\":{\"active_drag\":\"auto\",\"active_inspect\":\"auto\",\"active_scroll\":\"auto\",\"active_tap\":\"auto\",\"tools\":[{\"id\":\"4f02c2da-2f87-41ff-85f9-42f820ecfdb4\",\"type\":\"PanTool\"},{\"id\":\"90987a60-7bd4-4dc2-8e60-0ff14fcfc893\",\"type\":\"WheelZoomTool\"},{\"id\":\"29bce567-6c83-4814-ab5c-be0579bcbc76\",\"type\":\"BoxZoomTool\"},{\"id\":\"e312ed2f-aaa8-416c-acbd-25b4af284e59\",\"type\":\"SaveTool\"},{\"id\":\"96599afa-c15c-4297-8098-fb41febb7599\",\"type\":\"ResetTool\"},{\"id\":\"093da1d7-6958-4959-9111-7386317e3bed\",\"type\":\"HelpTool\"}]},\"id\":\"75535f13-7b2c-4b05-830f-e9d78d35399d\",\"type\":\"Toolbar\"},{\"attributes\":{},\"id\":\"72e398fd-8f6b-4429-983d-a0c49acc264f\",\"type\":\"Selection\"},{\"attributes\":{},\"id\":\"852875f9-37b4-478d-ba23-a2d7fda8dfa4\",\"type\":\"HelpTool\"},{\"attributes\":{\"overlay\":{\"id\":\"8a725e30-5417-4fc8-9ae4-a6b68df24671\",\"type\":\"BoxAnnotation\"}},\"id\":\"29bce567-6c83-4814-ab5c-be0579bcbc76\",\"type\":\"BoxZoomTool\"},{\"attributes\":{\"source\":{\"id\":\"ab13f01d-4e22-4298-bd27-553cec6d9cf9\",\"type\":\"ColumnDataSource\"}},\"id\":\"e5daae54-5a9b-4493-9d33-75bb97c27967\",\"type\":\"CDSView\"},{\"attributes\":{\"label\":{\"value\":\"CRD\"},\"renderers\":[{\"id\":\"7729473c-30b3-4446-93ba-44a6a9cdb3c2\",\"type\":\"GlyphRenderer\"},{\"id\":\"321330e2-31ad-47aa-ab27-44b386894887\",\"type\":\"GlyphRenderer\"}]},\"id\":\"3ecff99b-fc77-4967-b499-989a2acfc5b5\",\"type\":\"LegendItem\"},{\"attributes\":{\"num_minor_ticks\":10},\"id\":\"7e57a283-9015-4b40-8787-b96206e45f0f\",\"type\":\"LogTicker\"},{\"attributes\":{\"above\":[{\"id\":\"3f99e26d-04cc-4147-bf19-54c5b6c311e5\",\"type\":\"Legend\"}],\"below\":[{\"id\":\"7df73e21-3d3d-4a72-b17f-79453e25a8e4\",\"type\":\"LinearAxis\"}],\"left\":[{\"id\":\"c6f6f717-3f30-4f79-a683-c36a96ad5dd1\",\"type\":\"LinearAxis\"}],\"plot_width\":300,\"renderers\":[{\"id\":\"7df73e21-3d3d-4a72-b17f-79453e25a8e4\",\"type\":\"LinearAxis\"},{\"id\":\"756887a2-cb5a-4cda-b5d6-90c117f765e2\",\"type\":\"Grid\"},{\"id\":\"c6f6f717-3f30-4f79-a683-c36a96ad5dd1\",\"type\":\"LinearAxis\"},{\"id\":\"8f39ddc3-51fe-44ce-800a-87318e436ccb\",\"type\":\"Grid\"},{\"id\":\"8a725e30-5417-4fc8-9ae4-a6b68df24671\",\"type\":\"BoxAnnotation\"},{\"id\":\"8cfaf0a5-13f2-4add-8a05-ca2c1fade92b\",\"type\":\"GlyphRenderer\"},{\"id\":\"455b2681-e172-4e35-a009-49268e69ad95\",\"type\":\"GlyphRenderer\"},{\"id\":\"9795788f-ba0e-4983-91d9-827577226120\",\"type\":\"GlyphRenderer\"},{\"id\":\"3f99e26d-04cc-4147-bf19-54c5b6c311e5\",\"type\":\"Legend\"}],\"title\":{\"id\":\"1fce64af-da17-4cc5-aeb3-c9285249d2ad\",\"type\":\"Title\"},\"toolbar\":{\"id\":\"75535f13-7b2c-4b05-830f-e9d78d35399d\",\"type\":\"Toolbar\"},\"toolbar_location\":null,\"x_range\":{\"id\":\"55570b9d-c48e-411f-b570-4bccc43a7ae2\",\"type\":\"Range1d\"},\"x_scale\":{\"id\":\"136e2688-ccf7-41b7-b468-4fac1112acf2\",\"type\":\"LinearScale\"},\"y_range\":{\"id\":\"45555bd3-184a-44dd-87ce-dc905aa60688\",\"type\":\"Range1d\"},\"y_scale\":{\"id\":\"4bfe28c1-c6ed-46d0-8cd1-2c4bb2ef7ae7\",\"type\":\"LinearScale\"}},\"id\":\"39adfa79-34e0-4b08-b2e4-fb991fc82d7e\",\"subtype\":\"Figure\",\"type\":\"Plot\"},{\"attributes\":{\"data_source\":{\"id\":\"a0b3c833-fe64-4ba2-82a5-a0d1d8b4f652\",\"type\":\"ColumnDataSource\"},\"glyph\":{\"id\":\"cba0d901-98bc-445f-8acf-5809b5a7a917\",\"type\":\"Line\"},\"hover_glyph\":null,\"muted_glyph\":null,\"nonselection_glyph\":{\"id\":\"71ff531f-7182-4187-9639-b15b12020ac1\",\"type\":\"Line\"},\"selection_glyph\":null,\"view\":{\"id\":\"4b2a7e3e-5b23-4883-8cff-2f36cab7b9d5\",\"type\":\"CDSView\"}},\"id\":\"9795788f-ba0e-4983-91d9-827577226120\",\"type\":\"GlyphRenderer\"},{\"attributes\":{\"source\":{\"id\":\"09c348f8-6f9b-4b7c-9f31-1dc6441fcb72\",\"type\":\"ColumnDataSource\"}},\"id\":\"5cca93d9-0703-40eb-a409-43c2ff4986c1\",\"type\":\"CDSView\"},{\"attributes\":{},\"id\":\"7efe9900-666b-4b23-9e3b-9573844c8200\",\"type\":\"UnionRenderers\"},{\"attributes\":{\"label\":{\"value\":\"CLIRAD\"},\"renderers\":[{\"id\":\"8cfaf0a5-13f2-4add-8a05-ca2c1fade92b\",\"type\":\"GlyphRenderer\"}]},\"id\":\"70c1f7e0-f1ee-44ec-bfc7-23b7cc0343ab\",\"type\":\"LegendItem\"},{\"attributes\":{\"plot\":null,\"text\":\"\"},\"id\":\"e18a223f-29f4-4031-adf4-76bb7de0a339\",\"type\":\"Title\"},{\"attributes\":{\"source\":{\"id\":\"1baad8fc-c01d-4d94-9bcd-408eaa838684\",\"type\":\"ColumnDataSource\"}},\"id\":\"7fefedfa-f5ce-4b88-b4bc-7cd17cc6a729\",\"type\":\"CDSView\"},{\"attributes\":{},\"id\":\"27f6c55e-4dbb-4765-8de0-58db2bf08349\",\"type\":\"UnionRenderers\"},{\"attributes\":{\"line_alpha\":0.1,\"line_color\":\"#1f77b4\",\"line_dash\":[6],\"line_width\":5,\"x\":{\"field\":\"x\"},\"y\":{\"field\":\"y\"}},\"id\":\"0ee52f04-7e3a-4fc3-b6b5-68b23fe87365\",\"type\":\"Line\"},{\"attributes\":{\"toolbar\":{\"id\":\"dd2c2ba1-fc46-4085-9be5-7d4c24fc2922\",\"type\":\"ProxyToolbar\"},\"toolbar_location\":\"above\"},\"id\":\"7acffcd3-ee6b-4f3b-a316-65cb59e42637\",\"type\":\"ToolbarBox\"},{\"attributes\":{\"data_source\":{\"id\":\"ab13f01d-4e22-4298-bd27-553cec6d9cf9\",\"type\":\"ColumnDataSource\"},\"glyph\":{\"id\":\"3fc9d7b5-cd59-41f7-b1cf-b87a76d6f6a1\",\"type\":\"Line\"},\"hover_glyph\":null,\"muted_glyph\":null,\"nonselection_glyph\":{\"id\":\"d620dbaf-6bf9-460e-8b9c-179e33b44c5d\",\"type\":\"Line\"},\"selection_glyph\":null,\"view\":{\"id\":\"e5daae54-5a9b-4493-9d33-75bb97c27967\",\"type\":\"CDSView\"}},\"id\":\"9fc2d34b-b463-4350-919f-8b2002f9e3a2\",\"type\":\"GlyphRenderer\"},{\"attributes\":{\"plot\":{\"id\":\"853de034-3351-4b71-80a6-be5b1047f0cb\",\"subtype\":\"Figure\",\"type\":\"Plot\"},\"ticker\":{\"id\":\"f715629b-3a18-4c89-95a3-a040959b59f6\",\"type\":\"BasicTicker\"}},\"id\":\"1614f438-de94-4163-87ed-df81683ad090\",\"type\":\"Grid\"},{\"attributes\":{\"data_source\":{\"id\":\"09c348f8-6f9b-4b7c-9f31-1dc6441fcb72\",\"type\":\"ColumnDataSource\"},\"glyph\":{\"id\":\"5cb3a9c5-1119-492a-88cd-c2df36fe5a21\",\"type\":\"Line\"},\"hover_glyph\":null,\"muted_glyph\":null,\"nonselection_glyph\":{\"id\":\"0ee52f04-7e3a-4fc3-b6b5-68b23fe87365\",\"type\":\"Line\"},\"selection_glyph\":null,\"view\":{\"id\":\"5cca93d9-0703-40eb-a409-43c2ff4986c1\",\"type\":\"CDSView\"}},\"id\":\"7d24bd0f-66ce-4c93-89bd-ddb91715bad2\",\"type\":\"GlyphRenderer\"},{\"attributes\":{\"tools\":[{\"id\":\"4f02c2da-2f87-41ff-85f9-42f820ecfdb4\",\"type\":\"PanTool\"},{\"id\":\"90987a60-7bd4-4dc2-8e60-0ff14fcfc893\",\"type\":\"WheelZoomTool\"},{\"id\":\"29bce567-6c83-4814-ab5c-be0579bcbc76\",\"type\":\"BoxZoomTool\"},{\"id\":\"e312ed2f-aaa8-416c-acbd-25b4af284e59\",\"type\":\"SaveTool\"},{\"id\":\"96599afa-c15c-4297-8098-fb41febb7599\",\"type\":\"ResetTool\"},{\"id\":\"093da1d7-6958-4959-9111-7386317e3bed\",\"type\":\"HelpTool\"},{\"id\":\"b90279b5-eac7-406e-bd58-a7ff19329714\",\"type\":\"PanTool\"},{\"id\":\"0387f28b-f3eb-46dc-a37f-271a616bd252\",\"type\":\"WheelZoomTool\"},{\"id\":\"0d051b97-679e-4e1d-a3ff-1866555944f9\",\"type\":\"BoxZoomTool\"},{\"id\":\"090bb467-b663-4b0c-8a92-fafe8e6a7d1e\",\"type\":\"SaveTool\"},{\"id\":\"c3fdb12d-59b7-4ffc-a824-0d6da7444384\",\"type\":\"ResetTool\"},{\"id\":\"852875f9-37b4-478d-ba23-a2d7fda8dfa4\",\"type\":\"HelpTool\"},{\"id\":\"2d03965b-6905-4e83-81c8-23da5acdc2e1\",\"type\":\"PanTool\"},{\"id\":\"1090a8d3-dd6c-4ff9-962a-950e25ca4e7d\",\"type\":\"WheelZoomTool\"},{\"id\":\"7570896a-465b-4f28-bd13-ce1c2ceba511\",\"type\":\"BoxZoomTool\"},{\"id\":\"641f7806-aaf2-4c5a-91a8-04061a30a546\",\"type\":\"SaveTool\"},{\"id\":\"31ef4c93-6dba-4a43-9e93-6ae7387a7769\",\"type\":\"ResetTool\"},{\"id\":\"76afa5db-ee42-402e-b3d4-2a2e26381351\",\"type\":\"HelpTool\"}]},\"id\":\"dd2c2ba1-fc46-4085-9be5-7d4c24fc2922\",\"type\":\"ProxyToolbar\"},{\"attributes\":{},\"id\":\"0f80b36e-7361-48e3-a255-820ae5738f47\",\"type\":\"Selection\"},{\"attributes\":{},\"id\":\"4bfe28c1-c6ed-46d0-8cd1-2c4bb2ef7ae7\",\"type\":\"LinearScale\"},{\"attributes\":{\"line_alpha\":0.1,\"line_color\":\"#1f77b4\",\"line_dash\":[6],\"line_width\":5,\"x\":{\"field\":\"x\"},\"y\":{\"field\":\"y\"}},\"id\":\"c7107261-8fbc-4f43-aa9f-556f0be88943\",\"type\":\"Line\"},{\"attributes\":{\"data_source\":{\"id\":\"81ed7a9e-466c-4fc1-8bee-0d52b543ff3c\",\"type\":\"ColumnDataSource\"},\"glyph\":{\"id\":\"2561a390-3784-404b-aad9-62c485e88eb0\",\"type\":\"Circle\"},\"hover_glyph\":null,\"muted_glyph\":null,\"nonselection_glyph\":{\"id\":\"de72074d-70ce-4045-b9bd-529adbb90935\",\"type\":\"Circle\"},\"selection_glyph\":null,\"view\":{\"id\":\"2ed7286b-6323-4900-ad19-ccea1d3ae9dc\",\"type\":\"CDSView\"}},\"id\":\"9555cbd5-7baa-4bdc-90b8-6304ea4ea319\",\"type\":\"GlyphRenderer\"},{\"attributes\":{},\"id\":\"dc696358-ae92-41a4-bf56-855862143fd2\",\"type\":\"Selection\"},{\"attributes\":{\"axis_label\":\"cooling rate [K/day]\",\"formatter\":{\"id\":\"8bf3f448-e1ea-4c70-b27c-872b6655701c\",\"type\":\"BasicTickFormatter\"},\"plot\":{\"id\":\"39adfa79-34e0-4b08-b2e4-fb991fc82d7e\",\"subtype\":\"Figure\",\"type\":\"Plot\"},\"ticker\":{\"id\":\"16226086-f8bc-4773-8096-e402e628c432\",\"type\":\"BasicTicker\"}},\"id\":\"7df73e21-3d3d-4a72-b17f-79453e25a8e4\",\"type\":\"LinearAxis\"},{\"attributes\":{\"callback\":null,\"data\":{\"x\":{\"__ndarray__\":\"4L4jQHkeSED6bEliUZ1BQEG5/fnNOEFAKaX75oDvP0BWtxGLZf47QEsBa/cjdTdAvpCanOxvM0BYkA5Wr84wQIaHIyjeAS9AWp5++qLLLUCOWP4+iNUsQIddP4fJsitAhHeHs/zHKkAAB4lz66QpQIBdaVIOBihADcFUlg/LJkDo1fBny+8lQPL0MCipBiVA/84lcpgkJEApc9ZyQNQjQFMPZMd7HyVApFTwGHN5JECiczDrJ6YgQIMFIMndFRpAWmxD+VRMFECehYkcClIPQB2zlZqXGwlAIicg3vv1BEAGRP5PTWYCQIa2J73/EABAtVgNVxp3+z96irxnuyH1P+z/ko9ZivE/8q9rrax48T8tVZkJt73vPzFr4ZTTdek/Y+P3Lsmk5D+JZQIP8jfhP53wbNVCPeE/V9r0twyd4T9DlFgp+vHhP/iVNYK86+A/h8f9pSCQ3j8zN7uAz3/aPzUby1lUT9I/z5vtWyznzz/hqXiSS5baP3NjmyzXAuM/QKsa7/xC6z/T98vpfA/yPxGBa71eYPU/YSnZQumF9z8JuAhnaWv4P5zURQ1fa/g/QpS5890++D8Ha55Ocvb3P+zBlxcWi/c/l+WA4Bf69j8VkMl1GUb2PyPAsbNdn/U/5W9Xcy3b9D9bev/iwwf0P01MJIz3L/M/36lmcLll8j/8BvWPL73xPwQRsLU6SvE/tjXQYsMs8T90lDwEeXHxP0x+0CL3tvE/XMHCi7Z58T/lnyM2e7fvP+J+EQLjkeo/gh+1xxvB5T/c50HRZjvhP9t0xwybG9c/\",\"dtype\":\"float64\",\"shape\":[75]},\"y\":{\"__ndarray__\":\"GhExyth1ND/Sv8nbtpRIP2vylNV0PVE/aTum7souWD/At0SJ8fVgPw3Iuahxymc/MSNhhJWvcD/bTfBN02d3P2zb5nxnaoA/CD5h5MAGhz8NmeH1TyaQP+zrCsc9p5Y/LbKd76fGnz/bLW5ISEmmPww9YvTcQq8/JV2OstnstT8Er5Y7M8G+P0c+r3jqkcU/5h99k6ZBzj88bCIzFzjVP4enV8oyxN0//yH99nXg5D8qOpLLf0jtP5kqGJXUifQ/c9cS8kHP/D+/DpwzojQEQIEmwoanVwxA4lgXt9HgE0BSSZ2AJuIbQAMJih9jjiNA5q4l5INuK0AwTKYKRj0zQNv5fmq8/DpAaCJseHrtQkB/+zpwzoxKQM3MzMzMeFJAZmZmZmZqWEAAAAAAAFxeQM3MzMzMJmJAmpmZmZkfZUBmZmZmZhhoQDMzMzMzEWtAAAAAAAAKbkBmZmZmZoFwQM3MzMzM/XFAMzMzMzN6c0CamZmZmfZ0QAAAAAAAc3ZAZmZmZmbvd0DNzMzMzGt5QDMzMzMz6HpAmpmZmZlkfEAAAAAAAOF9QGZmZmZmXX9AZmZmZuZsgECamZmZGSuBQM3MzMxM6YFAAAAAAICngkAzMzMzs2WDQGZmZmbmI4RAmpmZmRnihEDNzMzMTKCFQAAAAACAXoZAMzMzM7Mch0BmZmZm5tqHQJqZmZkZmYhAzczMzExXiUAAAAAAgBWKQDMzMzOz04pAZmZmZuaRi0CamZmZGVCMQM3MzMxMDo1AAAAAAIDMjUAzMzMzs4qOQGZmZmbmSI9A\",\"dtype\":\"float64\",\"shape\":[75]}},\"selected\":{\"id\":\"47dfafcd-629d-4579-b426-a15615880e43\",\"type\":\"Selection\"},\"selection_policy\":{\"id\":\"9b7e70fa-1846-4d00-8226-4d2df5d788d6\",\"type\":\"UnionRenderers\"}},\"id\":\"09c348f8-6f9b-4b7c-9f31-1dc6441fcb72\",\"type\":\"ColumnDataSource\"},{\"attributes\":{\"active_drag\":\"auto\",\"active_inspect\":\"auto\",\"active_scroll\":\"auto\",\"active_tap\":\"auto\",\"tools\":[{\"id\":\"2d03965b-6905-4e83-81c8-23da5acdc2e1\",\"type\":\"PanTool\"},{\"id\":\"1090a8d3-dd6c-4ff9-962a-950e25ca4e7d\",\"type\":\"WheelZoomTool\"},{\"id\":\"7570896a-465b-4f28-bd13-ce1c2ceba511\",\"type\":\"BoxZoomTool\"},{\"id\":\"641f7806-aaf2-4c5a-91a8-04061a30a546\",\"type\":\"SaveTool\"},{\"id\":\"31ef4c93-6dba-4a43-9e93-6ae7387a7769\",\"type\":\"ResetTool\"},{\"id\":\"76afa5db-ee42-402e-b3d4-2a2e26381351\",\"type\":\"HelpTool\"}]},\"id\":\"39b0d2e4-9b9a-4ac1-80b9-18c4a1c97536\",\"type\":\"Toolbar\"},{\"attributes\":{\"line_color\":\"#4daf4a\",\"line_width\":1.5,\"x\":{\"field\":\"x\"},\"y\":{\"field\":\"y\"}},\"id\":\"cba0d901-98bc-445f-8acf-5809b5a7a917\",\"type\":\"Line\"},{\"attributes\":{},\"id\":\"819c006c-6684-4e4e-a498-9456501f7503\",\"type\":\"UnionRenderers\"},{\"attributes\":{\"label\":{\"value\":\"CLIRAD\"},\"renderers\":[{\"id\":\"7d24bd0f-66ce-4c93-89bd-ddb91715bad2\",\"type\":\"GlyphRenderer\"}]},\"id\":\"d54af1a8-0a21-4be0-a21f-ab6f45bdb9d5\",\"type\":\"LegendItem\"},{\"attributes\":{},\"id\":\"e2e22f09-f082-48fa-9a37-6909e48c54b8\",\"type\":\"UnionRenderers\"},{\"attributes\":{\"fill_alpha\":{\"value\":0.7},\"fill_color\":{\"value\":\"#4daf4a\"},\"line_alpha\":{\"value\":0.7},\"line_color\":{\"value\":\"#4daf4a\"},\"x\":{\"field\":\"x\"},\"y\":{\"field\":\"y\"}},\"id\":\"53803535-5827-4e75-bdd8-d5abccf45b23\",\"type\":\"Circle\"},{\"attributes\":{\"items\":[{\"id\":\"d54af1a8-0a21-4be0-a21f-ab6f45bdb9d5\",\"type\":\"LegendItem\"},{\"id\":\"3ecff99b-fc77-4967-b499-989a2acfc5b5\",\"type\":\"LegendItem\"}],\"label_text_font_size\":{\"value\":\"8pt\"},\"location\":\"top_center\",\"orientation\":\"horizontal\",\"plot\":{\"id\":\"853de034-3351-4b71-80a6-be5b1047f0cb\",\"subtype\":\"Figure\",\"type\":\"Plot\"}},\"id\":\"ada99626-a6fc-4810-9cce-445aa7f7fde7\",\"type\":\"Legend\"},{\"attributes\":{\"axis_label\":\"cooling rate [K/day]\",\"formatter\":{\"id\":\"e40be370-8e5a-46f7-8da5-ba89e3c4fed6\",\"type\":\"BasicTickFormatter\"},\"plot\":{\"id\":\"853de034-3351-4b71-80a6-be5b1047f0cb\",\"subtype\":\"Figure\",\"type\":\"Plot\"},\"ticker\":{\"id\":\"f715629b-3a18-4c89-95a3-a040959b59f6\",\"type\":\"BasicTicker\"}},\"id\":\"99eeea1f-af8a-4f8f-b2c8-70366ab2cc3f\",\"type\":\"LinearAxis\"},{\"attributes\":{\"source\":{\"id\":\"a0b3c833-fe64-4ba2-82a5-a0d1d8b4f652\",\"type\":\"ColumnDataSource\"}},\"id\":\"4b2a7e3e-5b23-4883-8cff-2f36cab7b9d5\",\"type\":\"CDSView\"},{\"attributes\":{\"label\":{\"value\":\"CLIRAD - CRD\"},\"renderers\":[{\"id\":\"9555cbd5-7baa-4bdc-90b8-6304ea4ea319\",\"type\":\"GlyphRenderer\"},{\"id\":\"9fc2d34b-b463-4350-919f-8b2002f9e3a2\",\"type\":\"GlyphRenderer\"}]},\"id\":\"a9fde12d-8502-4a99-a949-9b4408379604\",\"type\":\"LegendItem\"},{\"attributes\":{},\"id\":\"f715629b-3a18-4c89-95a3-a040959b59f6\",\"type\":\"BasicTicker\"},{\"attributes\":{},\"id\":\"98c2b696-8c7e-4f49-9ceb-6cc34da06cb7\",\"type\":\"Selection\"},{\"attributes\":{\"children\":[{\"id\":\"b6a55eb8-cd18-4556-9376-782960f934a6\",\"type\":\"Row\"}]},\"id\":\"be6ff5ae-08b3-45d0-bef1-dbb69bbdebcb\",\"type\":\"Column\"},{\"attributes\":{\"overlay\":{\"id\":\"5131a8d4-632f-4cea-af07-b8bc69104967\",\"type\":\"BoxAnnotation\"}},\"id\":\"0d051b97-679e-4e1d-a3ff-1866555944f9\",\"type\":\"BoxZoomTool\"},{\"attributes\":{\"axis_label\":\"pressure [mb]\",\"formatter\":{\"id\":\"9551d579-0151-45b5-b75c-a8188278a9b3\",\"type\":\"LogTickFormatter\"},\"plot\":{\"id\":\"853de034-3351-4b71-80a6-be5b1047f0cb\",\"subtype\":\"Figure\",\"type\":\"Plot\"},\"ticker\":{\"id\":\"7e57a283-9015-4b40-8787-b96206e45f0f\",\"type\":\"LogTicker\"}},\"id\":\"7e3007fc-222a-4358-ae7d-57b1c19d35af\",\"type\":\"LogAxis\"},{\"attributes\":{\"line_alpha\":0.1,\"line_color\":\"#1f77b4\",\"line_width\":1.5,\"x\":{\"field\":\"x\"},\"y\":{\"field\":\"y\"}},\"id\":\"d620dbaf-6bf9-460e-8b9c-179e33b44c5d\",\"type\":\"Line\"},{\"attributes\":{\"bottom_units\":\"screen\",\"fill_alpha\":{\"value\":0.5},\"fill_color\":{\"value\":\"lightgrey\"},\"left_units\":\"screen\",\"level\":\"overlay\",\"line_alpha\":{\"value\":1.0},\"line_color\":{\"value\":\"black\"},\"line_dash\":[4,4],\"line_width\":{\"value\":2},\"plot\":null,\"render_mode\":\"css\",\"right_units\":\"screen\",\"top_units\":\"screen\"},\"id\":\"5131a8d4-632f-4cea-af07-b8bc69104967\",\"type\":\"BoxAnnotation\"},{\"attributes\":{\"fill_alpha\":{\"value\":0.1},\"fill_color\":{\"value\":\"#1f77b4\"},\"line_alpha\":{\"value\":0.1},\"line_color\":{\"value\":\"#1f77b4\"},\"x\":{\"field\":\"x\"},\"y\":{\"field\":\"y\"}},\"id\":\"69f137e3-a8b5-4674-a12c-882a9b18abec\",\"type\":\"Circle\"},{\"attributes\":{\"line_color\":\"#4daf4a\",\"line_width\":1.5,\"x\":{\"field\":\"x\"},\"y\":{\"field\":\"y\"}},\"id\":\"cd68c529-5078-434a-a6eb-5b7de52a1449\",\"type\":\"Line\"},{\"attributes\":{\"fill_alpha\":{\"value\":0.7},\"fill_color\":{\"value\":\"#984ea3\"},\"line_alpha\":{\"value\":0.7},\"line_color\":{\"value\":\"#984ea3\"},\"x\":{\"field\":\"x\"},\"y\":{\"field\":\"y\"}},\"id\":\"2561a390-3784-404b-aad9-62c485e88eb0\",\"type\":\"Circle\"},{\"attributes\":{\"source\":{\"id\":\"64180054-65af-4622-a9b6-1db1a2813a85\",\"type\":\"ColumnDataSource\"}},\"id\":\"d66d0a1c-7578-4027-b63a-d2d2c80391fd\",\"type\":\"CDSView\"},{\"attributes\":{},\"id\":\"093da1d7-6958-4959-9111-7386317e3bed\",\"type\":\"HelpTool\"},{\"attributes\":{\"fill_alpha\":{\"value\":0.1},\"fill_color\":{\"value\":\"#1f77b4\"},\"line_alpha\":{\"value\":0.1},\"line_color\":{\"value\":\"#1f77b4\"},\"x\":{\"field\":\"x\"},\"y\":{\"field\":\"y\"}},\"id\":\"7b7f5e47-f06b-431a-bb2d-237d6a7aa182\",\"type\":\"Circle\"},{\"attributes\":{\"bottom_units\":\"screen\",\"fill_alpha\":{\"value\":0.5},\"fill_color\":{\"value\":\"lightgrey\"},\"left_units\":\"screen\",\"level\":\"overlay\",\"line_alpha\":{\"value\":1.0},\"line_color\":{\"value\":\"black\"},\"line_dash\":[4,4],\"line_width\":{\"value\":2},\"plot\":null,\"render_mode\":\"css\",\"right_units\":\"screen\",\"top_units\":\"screen\"},\"id\":\"8a725e30-5417-4fc8-9ae4-a6b68df24671\",\"type\":\"BoxAnnotation\"},{\"attributes\":{\"items\":[{\"id\":\"a9fde12d-8502-4a99-a949-9b4408379604\",\"type\":\"LegendItem\"}],\"label_text_font_size\":{\"value\":\"8pt\"},\"location\":\"top_center\",\"orientation\":\"horizontal\",\"plot\":{\"id\":\"f1b88e7c-1bf8-41a6-abf1-7e7e981abf53\",\"subtype\":\"Figure\",\"type\":\"Plot\"}},\"id\":\"459fff93-3a4e-4c05-a85e-bfd15b72e5f8\",\"type\":\"Legend\"},{\"attributes\":{\"line_alpha\":0.8,\"line_color\":\"#984ea3\",\"line_width\":1.5,\"x\":{\"field\":\"x\"},\"y\":{\"field\":\"y\"}},\"id\":\"3fc9d7b5-cd59-41f7-b1cf-b87a76d6f6a1\",\"type\":\"Line\"},{\"attributes\":{\"callback\":null,\"end\":0.01,\"start\":1020},\"id\":\"45555bd3-184a-44dd-87ce-dc905aa60688\",\"type\":\"Range1d\"},{\"attributes\":{\"fill_alpha\":{\"value\":0.7},\"fill_color\":{\"value\":\"#4daf4a\"},\"line_alpha\":{\"value\":0.7},\"line_color\":{\"value\":\"#4daf4a\"},\"x\":{\"field\":\"x\"},\"y\":{\"field\":\"y\"}},\"id\":\"0738778e-addc-44a3-944a-6802552ebb46\",\"type\":\"Circle\"},{\"attributes\":{},\"id\":\"e312ed2f-aaa8-416c-acbd-25b4af284e59\",\"type\":\"SaveTool\"},{\"attributes\":{},\"id\":\"31ef4c93-6dba-4a43-9e93-6ae7387a7769\",\"type\":\"ResetTool\"},{\"attributes\":{},\"id\":\"641f7806-aaf2-4c5a-91a8-04061a30a546\",\"type\":\"SaveTool\"},{\"attributes\":{},\"id\":\"5d40a98f-aae2-4ad7-a551-7960bdeff33e\",\"type\":\"BasicTicker\"},{\"attributes\":{\"bottom_units\":\"screen\",\"fill_alpha\":{\"value\":0.5},\"fill_color\":{\"value\":\"lightgrey\"},\"left_units\":\"screen\",\"level\":\"overlay\",\"line_alpha\":{\"value\":1.0},\"line_color\":{\"value\":\"black\"},\"line_dash\":[4,4],\"line_width\":{\"value\":2},\"plot\":null,\"render_mode\":\"css\",\"right_units\":\"screen\",\"top_units\":\"screen\"},\"id\":\"b7bcc2e3-301e-4c0e-9948-a75c6f4fde29\",\"type\":\"BoxAnnotation\"},{\"attributes\":{},\"id\":\"fefe9dc2-0635-4b85-8035-2c27201c96f0\",\"type\":\"LogScale\"},{\"attributes\":{},\"id\":\"2d03965b-6905-4e83-81c8-23da5acdc2e1\",\"type\":\"PanTool\"},{\"attributes\":{\"line_alpha\":0.1,\"line_color\":\"#1f77b4\",\"line_width\":1.5,\"x\":{\"field\":\"x\"},\"y\":{\"field\":\"y\"}},\"id\":\"35e02511-6d5f-4ce0-b44e-2f344bc1519d\",\"type\":\"Line\"},{\"attributes\":{\"fill_alpha\":{\"value\":0.1},\"fill_color\":{\"value\":\"#1f77b4\"},\"line_alpha\":{\"value\":0.1},\"line_color\":{\"value\":\"#1f77b4\"},\"x\":{\"field\":\"x\"},\"y\":{\"field\":\"y\"}},\"id\":\"de72074d-70ce-4045-b9bd-529adbb90935\",\"type\":\"Circle\"},{\"attributes\":{},\"id\":\"76afa5db-ee42-402e-b3d4-2a2e26381351\",\"type\":\"HelpTool\"},{\"attributes\":{\"overlay\":{\"id\":\"b7bcc2e3-301e-4c0e-9948-a75c6f4fde29\",\"type\":\"BoxAnnotation\"}},\"id\":\"7570896a-465b-4f28-bd13-ce1c2ceba511\",\"type\":\"BoxZoomTool\"},{\"attributes\":{\"axis_label\":\"pressure [mb]\",\"formatter\":{\"id\":\"49f0889f-9ca3-4baa-90a9-54ce4cd87fd9\",\"type\":\"LogTickFormatter\"},\"plot\":{\"id\":\"f1b88e7c-1bf8-41a6-abf1-7e7e981abf53\",\"subtype\":\"Figure\",\"type\":\"Plot\"},\"ticker\":{\"id\":\"a21edec6-e5d1-4d12-97de-3c2aa06a6ce0\",\"type\":\"LogTicker\"}},\"id\":\"7a9ece50-d3fd-40d0-9c56-7fac0582d931\",\"type\":\"LogAxis\"},{\"attributes\":{},\"id\":\"1090a8d3-dd6c-4ff9-962a-950e25ca4e7d\",\"type\":\"WheelZoomTool\"},{\"attributes\":{\"data_source\":{\"id\":\"64180054-65af-4622-a9b6-1db1a2813a85\",\"type\":\"ColumnDataSource\"},\"glyph\":{\"id\":\"0738778e-addc-44a3-944a-6802552ebb46\",\"type\":\"Circle\"},\"hover_glyph\":null,\"muted_glyph\":null,\"nonselection_glyph\":{\"id\":\"7b7f5e47-f06b-431a-bb2d-237d6a7aa182\",\"type\":\"Circle\"},\"selection_glyph\":null,\"view\":{\"id\":\"d66d0a1c-7578-4027-b63a-d2d2c80391fd\",\"type\":\"CDSView\"}},\"id\":\"7729473c-30b3-4446-93ba-44a6a9cdb3c2\",\"type\":\"GlyphRenderer\"},{\"attributes\":{},\"id\":\"90987a60-7bd4-4dc2-8e60-0ff14fcfc893\",\"type\":\"WheelZoomTool\"},{\"attributes\":{\"callback\":null,\"data\":{\"x\":{\"__ndarray__\":\"0CYBcvU5UkCik9zf2GVBQF1VoNfLZ0BAVLxhiVXTPUDD1Wu1wJM6QFJyB025jjdAU6Aw5+b/NECYe1uuDfgyQB6bYtVTbTFAPxYSAF1HMEA00pYVm9QuQLolHbMzgC1AntlwirGsLECv+G9SjE4rQJH6ZLBp0ShAsLZQyPd/JkDyjgyf2PwkQLgyNGsrJyRAA13QbJD6I0C8hy0ilI4kQOVTXCEgcSZAovOGvZSGJUBVc/ZmUOIgQOf/6GHAyRlAcE8fAOBSFEDRur1U//gPQGFD9ZbokghAQsqHuSqSA0C91ci3W0UBQCtRQfvz7/4/kh8pntyB+j9t1/n+4TX1P773MAUjFfI/RgzR+CI28T8hBW8WHK7uPzVKjJfU8uk/0FPt4/z65T/wVYqzMPDhPz7K9C5CXuE/8+hSn9hY4T/9PPCkR6rhP1XsIC599OA/66X1nBCX3z/YbRM56QjcPz4dkSQc/dM/S7Wb8Fq00T+/yQdmX0vcP7TrGf476eM/WqNPJoWO7D9qOH1bcwDzP2bw+R5DQ/Y/RLSuQOQp+D8+aif8yAz5P0Wv6eBKRfk/0i2+IN4R+T/ik8QNFZr4PyS5UD5j/Pc/yJ68zXRG9z/2CHPL54H2P59SOhwKtPU/npkP8dfg9D8NlmVcdQz0P80ugRvuOvM/byxiAHN18j9USVZie8nxP5l9lNXYSPE/OB+F0UYP8T8Y7dsUCTHxP3EBgTHPcPE/bfx15p8S8T8FT+xkGtTuP6mdG7rkxuk/pboqTkHX5D/CrN8qGYngP7R4ZaL+htU/\",\"dtype\":\"float64\",\"shape\":[75]},\"y\":{\"__ndarray__\":\"GhExyth1ND/Sv8nbtpRIP2vylNV0PVE/aTum7souWD/At0SJ8fVgPw3Iuahxymc/MSNhhJWvcD/bTfBN02d3P2zb5nxnaoA/CD5h5MAGhz8NmeH1TyaQP+zrCsc9p5Y/LbKd76fGnz/bLW5ISEmmPww9YvTcQq8/JV2OstnstT8Er5Y7M8G+P0c+r3jqkcU/5h99k6ZBzj88bCIzFzjVP4enV8oyxN0//yH99nXg5D8qOpLLf0jtP5kqGJXUifQ/c9cS8kHP/D+/DpwzojQEQIEmwoanVwxA4lgXt9HgE0BSSZ2AJuIbQAMJih9jjiNA5q4l5INuK0AwTKYKRj0zQNv5fmq8/DpAaCJseHrtQkB/+zpwzoxKQM3MzMzMeFJAZmZmZmZqWEAAAAAAAFxeQM3MzMzMJmJAmpmZmZkfZUBmZmZmZhhoQDMzMzMzEWtAAAAAAAAKbkBmZmZmZoFwQM3MzMzM/XFAMzMzMzN6c0CamZmZmfZ0QAAAAAAAc3ZAZmZmZmbvd0DNzMzMzGt5QDMzMzMz6HpAmpmZmZlkfEAAAAAAAOF9QGZmZmZmXX9AZmZmZuZsgECamZmZGSuBQM3MzMxM6YFAAAAAAICngkAzMzMzs2WDQGZmZmbmI4RAmpmZmRnihEDNzMzMTKCFQAAAAACAXoZAMzMzM7Mch0BmZmZm5tqHQJqZmZkZmYhAzczMzExXiUAAAAAAgBWKQDMzMzOz04pAZmZmZuaRi0CamZmZGVCMQM3MzMxMDo1AAAAAAIDMjUAzMzMzs4qOQGZmZmbmSI9A\",\"dtype\":\"float64\",\"shape\":[75]}},\"selected\":{\"id\":\"98c2b696-8c7e-4f49-9ceb-6cc34da06cb7\",\"type\":\"Selection\"},\"selection_policy\":{\"id\":\"e11b98f5-29f9-423e-877f-170079f0ca78\",\"type\":\"UnionRenderers\"}},\"id\":\"64180054-65af-4622-a9b6-1db1a2813a85\",\"type\":\"ColumnDataSource\"},{\"attributes\":{\"num_minor_ticks\":10},\"id\":\"a21edec6-e5d1-4d12-97de-3c2aa06a6ce0\",\"type\":\"LogTicker\"},{\"attributes\":{},\"id\":\"47dfafcd-629d-4579-b426-a15615880e43\",\"type\":\"Selection\"},{\"attributes\":{\"axis_label\":\"cooling rate [K/day]\",\"formatter\":{\"id\":\"0bb15f81-33d7-4f11-8ab1-668612e710d0\",\"type\":\"BasicTickFormatter\"},\"plot\":{\"id\":\"f1b88e7c-1bf8-41a6-abf1-7e7e981abf53\",\"subtype\":\"Figure\",\"type\":\"Plot\"},\"ticker\":{\"id\":\"5d40a98f-aae2-4ad7-a551-7960bdeff33e\",\"type\":\"BasicTicker\"}},\"id\":\"b6057d37-d111-4874-bb9b-20377a41ccce\",\"type\":\"LinearAxis\"},{\"attributes\":{},\"id\":\"2a614db7-698d-4240-ac62-06f321ed25fd\",\"type\":\"LinearScale\"},{\"attributes\":{\"callback\":null,\"data\":{\"x\":{\"__ndarray__\":\"gx29R+OqOMDWq2w2QbzbP5N8rEtEIPo/qEbP7FrhAEAsGV5aTar2P9AHcZxVlbm/LPlgqaT/+L/2WWfC8koBwI11DRVMxv6/L3EsLbgY9r9LmodpLfHvvx2D3L2i1uy/uSGWbk1L7r/2Gm/uDZrqvz2ic79ra9m/7pYCgfPFwj+h3ogcWV7eP0hHmJ+379s/ev64qgIEtT9UkuLqdUrXvxtJhJ9FGuW/0O9pSRrS4L9o2f/iPRS+v0pmwc1ZB7M/LFmMbxsser9epoYGp960v4j3DXTgFbE/8c2FSRI9xj+V5FaDGQ/CPyO+4fC3ILM/TCSHHLenrj+/9Uw9lyZ0vyj6vrMuWaG/6eqoJm2ikD/OAKUyr/mgP4nBt6pAQI+/vQZXTztjpb/YDP6Q1AeXv6PR7MOsf3C/zFh8KAYNgT/D0RUaoeyBP5i3rNZXgVG/guZ9b/9ukL9naoOFm5GYv48gYKx83Jq/FHZOKkwMnL/j/fE4PVGbv2UI0S+azJy/m4FPc4O4pL/AEig2zh6uv5rqzTGMXKy/gVyxul9/pL9iRtaj8iukvx9Ve3R6Pau/8TGToAVgqr9gG8XkV3Skv1DOPa5JU5y/RkzuTjsXk7+lcLzUKueNv8R7kohorHS/IN2m4PapVr+8zm6Y5cVSv0ICxbke7WW/tB0F9x9zb78Ir4TCpJdovwC/NrkBHjY/pH4WS5F8fT9+1ynY+xuQP3I231P8iZE/oTsxU6nFmT8UHOomGmycPwgnvP7IX5k/ZptMMU87nT82Y0fMtEmWP3LCH6bGSZk/\",\"dtype\":\"float64\",\"shape\":[75]},\"y\":{\"__ndarray__\":\"GhExyth1ND/Sv8nbtpRIP2vylNV0PVE/aTum7souWD/At0SJ8fVgPw3Iuahxymc/MSNhhJWvcD/bTfBN02d3P2zb5nxnaoA/CD5h5MAGhz8NmeH1TyaQP+zrCsc9p5Y/LbKd76fGnz/bLW5ISEmmPww9YvTcQq8/JV2OstnstT8Er5Y7M8G+P0c+r3jqkcU/5h99k6ZBzj88bCIzFzjVP4enV8oyxN0//yH99nXg5D8qOpLLf0jtP5kqGJXUifQ/c9cS8kHP/D+/DpwzojQEQIEmwoanVwxA4lgXt9HgE0BSSZ2AJuIbQAMJih9jjiNA5q4l5INuK0AwTKYKRj0zQNv5fmq8/DpAaCJseHrtQkB/+zpwzoxKQM3MzMzMeFJAZmZmZmZqWEAAAAAAAFxeQM3MzMzMJmJAmpmZmZkfZUBmZmZmZhhoQDMzMzMzEWtAAAAAAAAKbkBmZmZmZoFwQM3MzMzM/XFAMzMzMzN6c0CamZmZmfZ0QAAAAAAAc3ZAZmZmZmbvd0DNzMzMzGt5QDMzMzMz6HpAmpmZmZlkfEAAAAAAAOF9QGZmZmZmXX9AZmZmZuZsgECamZmZGSuBQM3MzMxM6YFAAAAAAICngkAzMzMzs2WDQGZmZmbmI4RAmpmZmRnihEDNzMzMTKCFQAAAAACAXoZAMzMzM7Mch0BmZmZm5tqHQJqZmZkZmYhAzczMzExXiUAAAAAAgBWKQDMzMzOz04pAZmZmZuaRi0CamZmZGVCMQM3MzMxMDo1AAAAAAIDMjUAzMzMzs4qOQGZmZmbmSI9A\",\"dtype\":\"float64\",\"shape\":[75]}},\"selected\":{\"id\":\"72e398fd-8f6b-4429-983d-a0c49acc264f\",\"type\":\"Selection\"},\"selection_policy\":{\"id\":\"7efe9900-666b-4b23-9e3b-9573844c8200\",\"type\":\"UnionRenderers\"}},\"id\":\"81ed7a9e-466c-4fc1-8bee-0d52b543ff3c\",\"type\":\"ColumnDataSource\"},{\"attributes\":{},\"id\":\"96599afa-c15c-4297-8098-fb41febb7599\",\"type\":\"ResetTool\"},{\"attributes\":{\"data_source\":{\"id\":\"6875d499-570a-4e15-be86-ed85a5be12ae\",\"type\":\"ColumnDataSource\"},\"glyph\":{\"id\":\"cd68c529-5078-434a-a6eb-5b7de52a1449\",\"type\":\"Line\"},\"hover_glyph\":null,\"muted_glyph\":null,\"nonselection_glyph\":{\"id\":\"35e02511-6d5f-4ce0-b44e-2f344bc1519d\",\"type\":\"Line\"},\"selection_glyph\":null,\"view\":{\"id\":\"65eeb2e5-836e-4a09-838a-746cfa0a4f9b\",\"type\":\"CDSView\"}},\"id\":\"321330e2-31ad-47aa-ab27-44b386894887\",\"type\":\"GlyphRenderer\"},{\"attributes\":{\"callback\":null,\"data\":{\"x\":{\"__ndarray__\":\"0CYBcvU5UkCik9zf2GVBQF1VoNfLZ0BAVLxhiVXTPUDD1Wu1wJM6QFJyB025jjdAU6Aw5+b/NECYe1uuDfgyQB6bYtVTbTFAPxYSAF1HMEA00pYVm9QuQLolHbMzgC1AntlwirGsLECv+G9SjE4rQJH6ZLBp0ShAsLZQyPd/JkDyjgyf2PwkQLgyNGsrJyRAA13QbJD6I0C8hy0ilI4kQOVTXCEgcSZAovOGvZSGJUBVc/ZmUOIgQOf/6GHAyRlAcE8fAOBSFEDRur1U//gPQGFD9ZbokghAQsqHuSqSA0C91ci3W0UBQCtRQfvz7/4/kh8pntyB+j9t1/n+4TX1P773MAUjFfI/RgzR+CI28T8hBW8WHK7uPzVKjJfU8uk/0FPt4/z65T/wVYqzMPDhPz7K9C5CXuE/8+hSn9hY4T/9PPCkR6rhP1XsIC599OA/66X1nBCX3z/YbRM56QjcPz4dkSQc/dM/S7Wb8Fq00T+/yQdmX0vcP7TrGf476eM/WqNPJoWO7D9qOH1bcwDzP2bw+R5DQ/Y/RLSuQOQp+D8+aif8yAz5P0Wv6eBKRfk/0i2+IN4R+T/ik8QNFZr4PyS5UD5j/Pc/yJ68zXRG9z/2CHPL54H2P59SOhwKtPU/npkP8dfg9D8NlmVcdQz0P80ugRvuOvM/byxiAHN18j9USVZie8nxP5l9lNXYSPE/OB+F0UYP8T8Y7dsUCTHxP3EBgTHPcPE/bfx15p8S8T8FT+xkGtTuP6mdG7rkxuk/pboqTkHX5D/CrN8qGYngP7R4ZaL+htU/\",\"dtype\":\"float64\",\"shape\":[75]},\"y\":{\"__ndarray__\":\"GhExyth1ND/Sv8nbtpRIP2vylNV0PVE/aTum7souWD/At0SJ8fVgPw3Iuahxymc/MSNhhJWvcD/bTfBN02d3P2zb5nxnaoA/CD5h5MAGhz8NmeH1TyaQP+zrCsc9p5Y/LbKd76fGnz/bLW5ISEmmPww9YvTcQq8/JV2OstnstT8Er5Y7M8G+P0c+r3jqkcU/5h99k6ZBzj88bCIzFzjVP4enV8oyxN0//yH99nXg5D8qOpLLf0jtP5kqGJXUifQ/c9cS8kHP/D+/DpwzojQEQIEmwoanVwxA4lgXt9HgE0BSSZ2AJuIbQAMJih9jjiNA5q4l5INuK0AwTKYKRj0zQNv5fmq8/DpAaCJseHrtQkB/+zpwzoxKQM3MzMzMeFJAZmZmZmZqWEAAAAAAAFxeQM3MzMzMJmJAmpmZmZkfZUBmZmZmZhhoQDMzMzMzEWtAAAAAAAAKbkBmZmZmZoFwQM3MzMzM/XFAMzMzMzN6c0CamZmZmfZ0QAAAAAAAc3ZAZmZmZmbvd0DNzMzMzGt5QDMzMzMz6HpAmpmZmZlkfEAAAAAAAOF9QGZmZmZmXX9AZmZmZuZsgECamZmZGSuBQM3MzMxM6YFAAAAAAICngkAzMzMzs2WDQGZmZmbmI4RAmpmZmRnihEDNzMzMTKCFQAAAAACAXoZAMzMzM7Mch0BmZmZm5tqHQJqZmZkZmYhAzczMzExXiUAAAAAAgBWKQDMzMzOz04pAZmZmZuaRi0CamZmZGVCMQM3MzMxMDo1AAAAAAIDMjUAzMzMzs4qOQGZmZmbmSI9A\",\"dtype\":\"float64\",\"shape\":[75]}},\"selected\":{\"id\":\"99742a04-fba0-4afb-a4d5-fb9f5374857e\",\"type\":\"Selection\"},\"selection_policy\":{\"id\":\"819c006c-6684-4e4e-a498-9456501f7503\",\"type\":\"UnionRenderers\"}},\"id\":\"6875d499-570a-4e15-be86-ed85a5be12ae\",\"type\":\"ColumnDataSource\"},{\"attributes\":{\"callback\":null,\"data\":{\"x\":{\"__ndarray__\":\"gx29R+OqOMDWq2w2QbzbP5N8rEtEIPo/qEbP7FrhAEAsGV5aTar2P9AHcZxVlbm/LPlgqaT/+L/2WWfC8koBwI11DRVMxv6/L3EsLbgY9r9LmodpLfHvvx2D3L2i1uy/uSGWbk1L7r/2Gm/uDZrqvz2ic79ra9m/7pYCgfPFwj+h3ogcWV7eP0hHmJ+379s/ev64qgIEtT9UkuLqdUrXvxtJhJ9FGuW/0O9pSRrS4L9o2f/iPRS+v0pmwc1ZB7M/LFmMbxsser9epoYGp960v4j3DXTgFbE/8c2FSRI9xj+V5FaDGQ/CPyO+4fC3ILM/TCSHHLenrj+/9Uw9lyZ0vyj6vrMuWaG/6eqoJm2ikD/OAKUyr/mgP4nBt6pAQI+/vQZXTztjpb/YDP6Q1AeXv6PR7MOsf3C/zFh8KAYNgT/D0RUaoeyBP5i3rNZXgVG/guZ9b/9ukL9naoOFm5GYv48gYKx83Jq/FHZOKkwMnL/j/fE4PVGbv2UI0S+azJy/m4FPc4O4pL/AEig2zh6uv5rqzTGMXKy/gVyxul9/pL9iRtaj8iukvx9Ve3R6Pau/8TGToAVgqr9gG8XkV3Skv1DOPa5JU5y/RkzuTjsXk7+lcLzUKueNv8R7kohorHS/IN2m4PapVr+8zm6Y5cVSv0ICxbke7WW/tB0F9x9zb78Ir4TCpJdovwC/NrkBHjY/pH4WS5F8fT9+1ynY+xuQP3I231P8iZE/oTsxU6nFmT8UHOomGmycPwgnvP7IX5k/ZptMMU87nT82Y0fMtEmWP3LCH6bGSZk/\",\"dtype\":\"float64\",\"shape\":[75]},\"y\":{\"__ndarray__\":\"GhExyth1ND/Sv8nbtpRIP2vylNV0PVE/aTum7souWD/At0SJ8fVgPw3Iuahxymc/MSNhhJWvcD/bTfBN02d3P2zb5nxnaoA/CD5h5MAGhz8NmeH1TyaQP+zrCsc9p5Y/LbKd76fGnz/bLW5ISEmmPww9YvTcQq8/JV2OstnstT8Er5Y7M8G+P0c+r3jqkcU/5h99k6ZBzj88bCIzFzjVP4enV8oyxN0//yH99nXg5D8qOpLLf0jtP5kqGJXUifQ/c9cS8kHP/D+/DpwzojQEQIEmwoanVwxA4lgXt9HgE0BSSZ2AJuIbQAMJih9jjiNA5q4l5INuK0AwTKYKRj0zQNv5fmq8/DpAaCJseHrtQkB/+zpwzoxKQM3MzMzMeFJAZmZmZmZqWEAAAAAAAFxeQM3MzMzMJmJAmpmZmZkfZUBmZmZmZhhoQDMzMzMzEWtAAAAAAAAKbkBmZmZmZoFwQM3MzMzM/XFAMzMzMzN6c0CamZmZmfZ0QAAAAAAAc3ZAZmZmZmbvd0DNzMzMzGt5QDMzMzMz6HpAmpmZmZlkfEAAAAAAAOF9QGZmZmZmXX9AZmZmZuZsgECamZmZGSuBQM3MzMxM6YFAAAAAAICngkAzMzMzs2WDQGZmZmbmI4RAmpmZmRnihEDNzMzMTKCFQAAAAACAXoZAMzMzM7Mch0BmZmZm5tqHQJqZmZkZmYhAzczMzExXiUAAAAAAgBWKQDMzMzOz04pAZmZmZuaRi0CamZmZGVCMQM3MzMxMDo1AAAAAAIDMjUAzMzMzs4qOQGZmZmbmSI9A\",\"dtype\":\"float64\",\"shape\":[75]}},\"selected\":{\"id\":\"5a45185a-d83b-4059-8f06-15e455c65ba7\",\"type\":\"Selection\"},\"selection_policy\":{\"id\":\"1df2142a-456f-4a98-b5b5-c979adaf9534\",\"type\":\"UnionRenderers\"}},\"id\":\"ab13f01d-4e22-4298-bd27-553cec6d9cf9\",\"type\":\"ColumnDataSource\"},{\"attributes\":{\"plot\":{\"id\":\"f1b88e7c-1bf8-41a6-abf1-7e7e981abf53\",\"subtype\":\"Figure\",\"type\":\"Plot\"},\"ticker\":{\"id\":\"5d40a98f-aae2-4ad7-a551-7960bdeff33e\",\"type\":\"BasicTicker\"}},\"id\":\"8d774ec8-00de-4d8f-a4fe-73561288cade\",\"type\":\"Grid\"},{\"attributes\":{},\"id\":\"9b7e70fa-1846-4d00-8226-4d2df5d788d6\",\"type\":\"UnionRenderers\"},{\"attributes\":{\"items\":[{\"id\":\"70c1f7e0-f1ee-44ec-bfc7-23b7cc0343ab\",\"type\":\"LegendItem\"},{\"id\":\"351eb627-8169-4e9b-bf5e-6cb935393584\",\"type\":\"LegendItem\"}],\"label_text_font_size\":{\"value\":\"8pt\"},\"location\":\"top_center\",\"orientation\":\"horizontal\",\"plot\":{\"id\":\"39adfa79-34e0-4b08-b2e4-fb991fc82d7e\",\"subtype\":\"Figure\",\"type\":\"Plot\"}},\"id\":\"3f99e26d-04cc-4147-bf19-54c5b6c311e5\",\"type\":\"Legend\"},{\"attributes\":{\"dimension\":1,\"plot\":{\"id\":\"f1b88e7c-1bf8-41a6-abf1-7e7e981abf53\",\"subtype\":\"Figure\",\"type\":\"Plot\"},\"ticker\":{\"id\":\"a21edec6-e5d1-4d12-97de-3c2aa06a6ce0\",\"type\":\"LogTicker\"}},\"id\":\"057f8d96-639a-4ddc-8690-a91ca7c34dd9\",\"type\":\"Grid\"}],\"root_ids\":[\"dceb53de-dc1d-4d36-8876-0307e75b12a8\"]},\"title\":\"Bokeh Application\",\"version\":\"0.12.16\"}};\n",
       "  var render_items = [{\"docid\":\"73c14a6d-5587-4466-a782-f073a5908304\",\"elementid\":\"7d1a13bc-33f9-45fb-9c14-12c8aef5760a\",\"modelid\":\"dceb53de-dc1d-4d36-8876-0307e75b12a8\"}];\n",
       "  root.Bokeh.embed.embed_items_notebook(docs_json, render_items);\n",
       "\n",
       "  }\n",
       "  if (root.Bokeh !== undefined) {\n",
       "    embed_document(root);\n",
       "  } else {\n",
       "    var attempts = 0;\n",
       "    var timer = setInterval(function(root) {\n",
       "      if (root.Bokeh !== undefined) {\n",
       "        embed_document(root);\n",
       "        clearInterval(timer);\n",
       "      }\n",
       "      attempts++;\n",
       "      if (attempts > 100) {\n",
       "        console.log(\"Bokeh: ERROR: Unable to run BokehJS code because BokehJS library is missing\")\n",
       "        clearInterval(timer);\n",
       "      }\n",
       "    }, 10, root)\n",
       "  }\n",
       "})(window);"
      ],
      "application/vnd.bokehjs_exec.v0+json": ""
     },
     "metadata": {
      "application/vnd.bokehjs_exec.v0+json": {
       "id": "dceb53de-dc1d-4d36-8876-0307e75b12a8"
      }
     },
     "output_type": "display_data"
    },
    {
     "data": {
      "text/markdown": [
       "*FIGURE.* Cooling rates & difference."
      ],
      "text/plain": [
       "<IPython.core.display.Markdown object>"
      ]
     },
     "metadata": {},
     "output_type": "display_data"
    },
    {
     "data": {
      "text/html": [
       "<a id=\"Fluxes._saw.\"></a>"
      ],
      "text/plain": [
       "<IPython.core.display.HTML object>"
      ]
     },
     "metadata": {},
     "output_type": "display_data"
    },
    {
     "data": {
      "text/markdown": [
       "# Fluxes. saw."
      ],
      "text/plain": [
       "<IPython.core.display.Markdown object>"
      ]
     },
     "metadata": {},
     "output_type": "display_data"
    },
    {
     "data": {
      "text/html": [
       "\n",
       "<div class=\"bk-root\">\n",
       "    <div class=\"bk-plotdiv\" id=\"29761a0e-2471-4355-9236-93f98a1c3688\"></div>\n",
       "</div>"
      ]
     },
     "metadata": {},
     "output_type": "display_data"
    },
    {
     "data": {
      "application/javascript": [
       "(function(root) {\n",
       "  function embed_document(root) {\n",
       "    \n",
       "  var docs_json = {\"875333a9-4b0f-4a34-887d-aec02a794ced\":{\"roots\":{\"references\":[{\"attributes\":{\"children\":[{\"id\":\"238ca3ff-4d13-4dbe-9411-b3305be44e42\",\"subtype\":\"Figure\",\"type\":\"Plot\"},{\"id\":\"4ca10429-55f6-4179-82b0-43b533406855\",\"subtype\":\"Figure\",\"type\":\"Plot\"},{\"id\":\"4a16d73a-aa80-4967-9b90-87e9ae70ebeb\",\"subtype\":\"Figure\",\"type\":\"Plot\"}]},\"id\":\"91520d71-1dee-49a6-b4c2-1d115a7b82be\",\"type\":\"Row\"},{\"attributes\":{},\"id\":\"fe24cc57-1747-4142-8875-0f6f65998796\",\"type\":\"HelpTool\"},{\"attributes\":{},\"id\":\"2fcecf53-9962-499c-8b55-45176f355145\",\"type\":\"Selection\"},{\"attributes\":{\"axis_label\":\"flux (W m-2)\",\"formatter\":{\"id\":\"928892e0-c5c4-419d-9b8d-69638457ef5a\",\"type\":\"BasicTickFormatter\"},\"plot\":{\"id\":\"4ca10429-55f6-4179-82b0-43b533406855\",\"subtype\":\"Figure\",\"type\":\"Plot\"},\"ticker\":{\"id\":\"1ac86716-6f9b-4ca5-b1e3-9fff4f09622f\",\"type\":\"BasicTicker\"}},\"id\":\"13fdf63b-ddb6-40e6-a1bf-f407b5b1efc1\",\"type\":\"LinearAxis\"},{\"attributes\":{},\"id\":\"c04b5bf3-fc36-46b3-91e6-53844de39e8b\",\"type\":\"BasicTickFormatter\"},{\"attributes\":{},\"id\":\"928892e0-c5c4-419d-9b8d-69638457ef5a\",\"type\":\"BasicTickFormatter\"},{\"attributes\":{\"overlay\":{\"id\":\"f77a3143-b842-417e-a557-e2f3035cf646\",\"type\":\"BoxAnnotation\"}},\"id\":\"352a1be1-7f44-437f-8af1-ccfcc763a4bf\",\"type\":\"BoxZoomTool\"},{\"attributes\":{\"source\":{\"id\":\"f88070eb-8641-4ad1-93cb-df8dafa18b36\",\"type\":\"ColumnDataSource\"}},\"id\":\"a7945f5c-567e-4ed4-8319-aaa055b0222e\",\"type\":\"CDSView\"},{\"attributes\":{\"plot\":{\"id\":\"4ca10429-55f6-4179-82b0-43b533406855\",\"subtype\":\"Figure\",\"type\":\"Plot\"},\"ticker\":{\"id\":\"eb8fe1e6-4cd1-4cb4-ae29-de7a694cf297\",\"type\":\"CategoricalTicker\"}},\"id\":\"a1c8f1e0-da13-4e14-8839-3322d04ebd73\",\"type\":\"Grid\"},{\"attributes\":{},\"id\":\"a08f6e55-78c3-46e3-84a6-499a02dbaed9\",\"type\":\"LinearScale\"},{\"attributes\":{\"fill_color\":{\"value\":\"#1f77b4\"},\"line_color\":{\"value\":\"#1f77b4\"},\"top\":{\"field\":\"flux\"},\"width\":{\"value\":0.9},\"x\":{\"field\":\"band\"}},\"id\":\"83babab9-7b5b-423e-a386-f0e8cef72313\",\"type\":\"VBar\"},{\"attributes\":{\"callback\":null,\"factors\":[\"1\",\"2\",\"3\",\"4\",\"5\",\"6\",\"7\",\"8\",\"9\",\"10\",\"11\"]},\"id\":\"4dee8851-78ec-4f64-b1b0-d553545274f5\",\"type\":\"FactorRange\"},{\"attributes\":{},\"id\":\"c77600dd-0e80-452a-83a1-b72225a1fe0a\",\"type\":\"PanTool\"},{\"attributes\":{\"axis_label\":\"spectral band\",\"formatter\":{\"id\":\"f0c28ef1-ec9d-4ef4-8575-b996714fdb99\",\"type\":\"CategoricalTickFormatter\"},\"plot\":{\"id\":\"4ca10429-55f6-4179-82b0-43b533406855\",\"subtype\":\"Figure\",\"type\":\"Plot\"},\"ticker\":{\"id\":\"eb8fe1e6-4cd1-4cb4-ae29-de7a694cf297\",\"type\":\"CategoricalTicker\"}},\"id\":\"6393a85c-3472-4099-90d5-bd1bd838f303\",\"type\":\"CategoricalAxis\"},{\"attributes\":{\"dimension\":1,\"plot\":{\"id\":\"238ca3ff-4d13-4dbe-9411-b3305be44e42\",\"subtype\":\"Figure\",\"type\":\"Plot\"},\"ticker\":{\"id\":\"f9d141e6-5e3f-42ad-a059-afbb1942ce03\",\"type\":\"BasicTicker\"}},\"id\":\"8b258a84-6ace-4658-86ab-4dbb9be00f07\",\"type\":\"Grid\"},{\"attributes\":{\"below\":[{\"id\":\"65330114-d55b-4a71-b2da-33bfa736f68f\",\"type\":\"CategoricalAxis\"}],\"left\":[{\"id\":\"f814e8ee-9b79-4531-8030-a960929ac017\",\"type\":\"LinearAxis\"}],\"plot_height\":300,\"plot_width\":300,\"renderers\":[{\"id\":\"65330114-d55b-4a71-b2da-33bfa736f68f\",\"type\":\"CategoricalAxis\"},{\"id\":\"5a1cb145-5077-458c-b281-7b9dd8bef707\",\"type\":\"Grid\"},{\"id\":\"f814e8ee-9b79-4531-8030-a960929ac017\",\"type\":\"LinearAxis\"},{\"id\":\"ab121e5c-402c-4c8f-9559-4a2165d320cc\",\"type\":\"Grid\"},{\"id\":\"f77a3143-b842-417e-a557-e2f3035cf646\",\"type\":\"BoxAnnotation\"},{\"id\":\"a5cf367e-bb37-4783-9225-f2b8830fcadd\",\"type\":\"GlyphRenderer\"}],\"title\":{\"id\":\"89b390f2-95e8-4c76-a156-0e6dc3ee219e\",\"type\":\"Title\"},\"toolbar\":{\"id\":\"b7969424-94f3-4632-bead-1ca924e6ef76\",\"type\":\"Toolbar\"},\"toolbar_location\":null,\"x_range\":{\"id\":\"4dee8851-78ec-4f64-b1b0-d553545274f5\",\"type\":\"FactorRange\"},\"x_scale\":{\"id\":\"b7a0cd62-ea84-48df-8072-249d7e49398a\",\"type\":\"CategoricalScale\"},\"y_range\":{\"id\":\"f9eea828-4b82-4b5c-bf47-45e9e3fded78\",\"type\":\"DataRange1d\"},\"y_scale\":{\"id\":\"a08f6e55-78c3-46e3-84a6-499a02dbaed9\",\"type\":\"LinearScale\"}},\"id\":\"4a16d73a-aa80-4967-9b90-87e9ae70ebeb\",\"subtype\":\"Figure\",\"type\":\"Plot\"},{\"attributes\":{\"active_drag\":\"auto\",\"active_inspect\":\"auto\",\"active_scroll\":\"auto\",\"active_tap\":\"auto\",\"tools\":[{\"id\":\"c77600dd-0e80-452a-83a1-b72225a1fe0a\",\"type\":\"PanTool\"},{\"id\":\"98b30199-b4ee-4698-bb5a-2c5efc37722c\",\"type\":\"WheelZoomTool\"},{\"id\":\"352a1be1-7f44-437f-8af1-ccfcc763a4bf\",\"type\":\"BoxZoomTool\"},{\"id\":\"b342326e-017b-4f1b-a5d7-db67654733a4\",\"type\":\"SaveTool\"},{\"id\":\"7a67d665-cae1-405a-afe4-a0091cd626ac\",\"type\":\"ResetTool\"},{\"id\":\"fe24cc57-1747-4142-8875-0f6f65998796\",\"type\":\"HelpTool\"}]},\"id\":\"b7969424-94f3-4632-bead-1ca924e6ef76\",\"type\":\"Toolbar\"},{\"attributes\":{},\"id\":\"9d597113-51e4-4846-9a60-2cafada741d2\",\"type\":\"WheelZoomTool\"},{\"attributes\":{\"bottom_units\":\"screen\",\"fill_alpha\":{\"value\":0.5},\"fill_color\":{\"value\":\"lightgrey\"},\"left_units\":\"screen\",\"level\":\"overlay\",\"line_alpha\":{\"value\":1.0},\"line_color\":{\"value\":\"black\"},\"line_dash\":[4,4],\"line_width\":{\"value\":2},\"plot\":null,\"render_mode\":\"css\",\"right_units\":\"screen\",\"top_units\":\"screen\"},\"id\":\"d98c6f70-4059-4117-9578-9ab222f4ab74\",\"type\":\"BoxAnnotation\"},{\"attributes\":{},\"id\":\"dc20da0f-7c59-4cb3-96cd-6dd37b8d88c2\",\"type\":\"HelpTool\"},{\"attributes\":{},\"id\":\"f0c28ef1-ec9d-4ef4-8575-b996714fdb99\",\"type\":\"CategoricalTickFormatter\"},{\"attributes\":{\"children\":[{\"id\":\"76c82cca-9d94-414d-ae46-40dec0f250e5\",\"type\":\"ToolbarBox\"},{\"id\":\"22cef80f-2997-4116-a8bf-399d6e0896d5\",\"type\":\"Column\"}]},\"id\":\"bdde5367-1511-47ed-acec-05f07ba00b27\",\"type\":\"Column\"},{\"attributes\":{},\"id\":\"336cdf13-2f2e-4027-b9f3-bfe274800b76\",\"type\":\"CategoricalScale\"},{\"attributes\":{\"axis_label\":\"spectral band\",\"formatter\":{\"id\":\"859414bc-7c00-4731-ab32-d52cf510e9de\",\"type\":\"CategoricalTickFormatter\"},\"plot\":{\"id\":\"4a16d73a-aa80-4967-9b90-87e9ae70ebeb\",\"subtype\":\"Figure\",\"type\":\"Plot\"},\"ticker\":{\"id\":\"4de94c58-2d3a-49e7-abba-9e893708b38c\",\"type\":\"CategoricalTicker\"}},\"id\":\"65330114-d55b-4a71-b2da-33bfa736f68f\",\"type\":\"CategoricalAxis\"},{\"attributes\":{\"tools\":[{\"id\":\"6152b34e-e613-4a63-9d2e-f9602bcb9e09\",\"type\":\"PanTool\"},{\"id\":\"dd98655b-079b-4111-8a90-dc3cf71b95af\",\"type\":\"WheelZoomTool\"},{\"id\":\"6aa5bd69-c8ce-4632-aca9-67a524c7eebc\",\"type\":\"BoxZoomTool\"},{\"id\":\"78fbb672-02a9-449b-9c57-d879047a2ac4\",\"type\":\"SaveTool\"},{\"id\":\"8c519a67-2ed3-426c-a924-64f9cf932ef8\",\"type\":\"ResetTool\"},{\"id\":\"dc20da0f-7c59-4cb3-96cd-6dd37b8d88c2\",\"type\":\"HelpTool\"},{\"id\":\"de25cb17-55fa-4d1e-a165-b2bcfd3ce70b\",\"type\":\"PanTool\"},{\"id\":\"9d597113-51e4-4846-9a60-2cafada741d2\",\"type\":\"WheelZoomTool\"},{\"id\":\"a9494ce4-7bd4-4461-84ac-b53ead14f4ee\",\"type\":\"BoxZoomTool\"},{\"id\":\"45947011-6280-4943-927e-7273d258132d\",\"type\":\"SaveTool\"},{\"id\":\"3d081321-6c21-49fd-b6e4-760622f4c6ae\",\"type\":\"ResetTool\"},{\"id\":\"8e31d58b-099f-49bb-940d-9ddde2643f80\",\"type\":\"HelpTool\"},{\"id\":\"c77600dd-0e80-452a-83a1-b72225a1fe0a\",\"type\":\"PanTool\"},{\"id\":\"98b30199-b4ee-4698-bb5a-2c5efc37722c\",\"type\":\"WheelZoomTool\"},{\"id\":\"352a1be1-7f44-437f-8af1-ccfcc763a4bf\",\"type\":\"BoxZoomTool\"},{\"id\":\"b342326e-017b-4f1b-a5d7-db67654733a4\",\"type\":\"SaveTool\"},{\"id\":\"7a67d665-cae1-405a-afe4-a0091cd626ac\",\"type\":\"ResetTool\"},{\"id\":\"fe24cc57-1747-4142-8875-0f6f65998796\",\"type\":\"HelpTool\"}]},\"id\":\"9a7a164c-55a5-4f60-86f3-8e60c3646b66\",\"type\":\"ProxyToolbar\"},{\"attributes\":{},\"id\":\"3d081321-6c21-49fd-b6e4-760622f4c6ae\",\"type\":\"ResetTool\"},{\"attributes\":{},\"id\":\"138f4b27-5c4b-4ab5-8af2-ed4ee808c987\",\"type\":\"LinearScale\"},{\"attributes\":{},\"id\":\"7fa7f0a6-56cb-4bbd-9d7b-40ec5ca609c6\",\"type\":\"BasicTicker\"},{\"attributes\":{},\"id\":\"cd466da6-a764-4d94-a196-9e28e02c855d\",\"type\":\"CategoricalScale\"},{\"attributes\":{\"axis_label\":\"flux (W m-2)\",\"formatter\":{\"id\":\"5f2de615-8cc1-488f-875a-c9a42505f489\",\"type\":\"BasicTickFormatter\"},\"plot\":{\"id\":\"238ca3ff-4d13-4dbe-9411-b3305be44e42\",\"subtype\":\"Figure\",\"type\":\"Plot\"},\"ticker\":{\"id\":\"f9d141e6-5e3f-42ad-a059-afbb1942ce03\",\"type\":\"BasicTicker\"}},\"id\":\"c522cc6b-7bb2-4b6a-87d0-7c247aaf58c6\",\"type\":\"LinearAxis\"},{\"attributes\":{},\"id\":\"eb8fe1e6-4cd1-4cb4-ae29-de7a694cf297\",\"type\":\"CategoricalTicker\"},{\"attributes\":{\"fill_color\":{\"value\":\"#1f77b4\"},\"line_color\":{\"value\":\"#1f77b4\"},\"top\":{\"field\":\"flux\"},\"width\":{\"value\":0.9},\"x\":{\"field\":\"band\"}},\"id\":\"b2a9ab22-8069-4db4-9088-c132eda54994\",\"type\":\"VBar\"},{\"attributes\":{},\"id\":\"8e31d58b-099f-49bb-940d-9ddde2643f80\",\"type\":\"HelpTool\"},{\"attributes\":{},\"id\":\"f9d141e6-5e3f-42ad-a059-afbb1942ce03\",\"type\":\"BasicTicker\"},{\"attributes\":{\"below\":[{\"id\":\"6393a85c-3472-4099-90d5-bd1bd838f303\",\"type\":\"CategoricalAxis\"}],\"left\":[{\"id\":\"13fdf63b-ddb6-40e6-a1bf-f407b5b1efc1\",\"type\":\"LinearAxis\"}],\"plot_height\":300,\"plot_width\":300,\"renderers\":[{\"id\":\"6393a85c-3472-4099-90d5-bd1bd838f303\",\"type\":\"CategoricalAxis\"},{\"id\":\"a1c8f1e0-da13-4e14-8839-3322d04ebd73\",\"type\":\"Grid\"},{\"id\":\"13fdf63b-ddb6-40e6-a1bf-f407b5b1efc1\",\"type\":\"LinearAxis\"},{\"id\":\"f50fd804-83bf-42a1-98b9-ca0712e9aee6\",\"type\":\"Grid\"},{\"id\":\"d98c6f70-4059-4117-9578-9ab222f4ab74\",\"type\":\"BoxAnnotation\"},{\"id\":\"2a0f836e-87d4-499e-b48f-2eacf0fa91a6\",\"type\":\"GlyphRenderer\"}],\"title\":{\"id\":\"f84b4a06-fd0a-4b4e-8e7e-5da417a9aee1\",\"type\":\"Title\"},\"toolbar\":{\"id\":\"cd2f4be9-d1b0-4852-af30-71d6c6ac4821\",\"type\":\"Toolbar\"},\"toolbar_location\":null,\"x_range\":{\"id\":\"a0b0060d-6459-4151-a2a4-5062523545f1\",\"type\":\"FactorRange\"},\"x_scale\":{\"id\":\"336cdf13-2f2e-4027-b9f3-bfe274800b76\",\"type\":\"CategoricalScale\"},\"y_range\":{\"id\":\"6ebf7e31-9e38-4c04-a8dd-b6e0b8dfb67d\",\"type\":\"DataRange1d\"},\"y_scale\":{\"id\":\"138f4b27-5c4b-4ab5-8af2-ed4ee808c987\",\"type\":\"LinearScale\"}},\"id\":\"4ca10429-55f6-4179-82b0-43b533406855\",\"subtype\":\"Figure\",\"type\":\"Plot\"},{\"attributes\":{},\"id\":\"1ac86716-6f9b-4ca5-b1e3-9fff4f09622f\",\"type\":\"BasicTicker\"},{\"attributes\":{},\"id\":\"e9b4425a-aa14-4f1b-8643-936f5b43904e\",\"type\":\"CategoricalTicker\"},{\"attributes\":{\"callback\":null,\"data\":{\"band\":[\"1\",\"2\",\"3\",\"4\",\"5\",\"6\",\"7\",\"8\",\"9\",\"10\",\"11\"],\"flux\":{\"__ndarray__\":\"gEOHwJFAxz8A+NfyyvWyPwALzuDvF7O/AEd1OpD1wj8AowbTMHy4PwBw88ZJYY6/YBxcOuY80j8ABBxClZqNv4DcwqnFlqA/ACA2WDhJc79A+HdsulSTPw==\",\"dtype\":\"float64\",\"shape\":[11]}},\"selected\":{\"id\":\"e0fe4247-dcac-4ae1-bad3-2e3f61e8d1f9\",\"type\":\"Selection\"},\"selection_policy\":{\"id\":\"1aa4209e-633c-44c5-9579-5a085b6db28e\",\"type\":\"UnionRenderers\"}},\"id\":\"f88070eb-8641-4ad1-93cb-df8dafa18b36\",\"type\":\"ColumnDataSource\"},{\"attributes\":{},\"id\":\"de25cb17-55fa-4d1e-a165-b2bcfd3ce70b\",\"type\":\"PanTool\"},{\"attributes\":{\"callback\":null,\"data\":{\"band\":[\"1\",\"2\",\"3\",\"4\",\"5\",\"6\",\"7\",\"8\",\"9\",\"10\",\"11\"],\"flux\":{\"__ndarray__\":\"gEyKZtCWxz8Aq5Dyk2rKP6DFJX0QuNw/gGKVqmtvsz8A39J7dDS4vwCW32ky47U/wPOnjep0zD8AxjjazHywPwCB3mXQGo0/gJjl8uzgpL/AnbAnLoWPPw==\",\"dtype\":\"float64\",\"shape\":[11]}},\"selected\":{\"id\":\"2fcecf53-9962-499c-8b55-45176f355145\",\"type\":\"Selection\"},\"selection_policy\":{\"id\":\"50d649b2-3026-40fd-ba66-209edd7ae1f5\",\"type\":\"UnionRenderers\"}},\"id\":\"45c1c51e-c75e-409e-86f5-7c901c42a143\",\"type\":\"ColumnDataSource\"},{\"attributes\":{\"fill_alpha\":{\"value\":0.1},\"fill_color\":{\"value\":\"#1f77b4\"},\"line_alpha\":{\"value\":0.1},\"line_color\":{\"value\":\"#1f77b4\"},\"top\":{\"field\":\"flux\"},\"width\":{\"value\":0.9},\"x\":{\"field\":\"band\"}},\"id\":\"08cdc858-7247-4e88-86b4-4135373f2b0d\",\"type\":\"VBar\"},{\"attributes\":{\"source\":{\"id\":\"7c0c24c3-6d2d-48a6-b448-d9597bb9b56e\",\"type\":\"ColumnDataSource\"}},\"id\":\"dea9254f-1137-4b0d-97bd-b30e99c663fd\",\"type\":\"CDSView\"},{\"attributes\":{},\"id\":\"eccd622b-4fbc-4d9a-a862-bcf07d6073d6\",\"type\":\"LinearScale\"},{\"attributes\":{\"callback\":null,\"data\":{\"band\":[\"1\",\"2\",\"3\",\"4\",\"5\",\"6\",\"7\",\"8\",\"9\",\"10\",\"11\"],\"flux\":{\"__ndarray__\":\"AMCVXpuNZb8AVvMcke/Av0AnLzIBv+C/AG7F/rJ7sj+ADjgBPFjIP9B82pcir7m/wI+B4QEKsD/IHC8wbTC0vwAsnbQVoJI/AILMzqJ3oj8A4PI/lpFsPw==\",\"dtype\":\"float64\",\"shape\":[11]}},\"selected\":{\"id\":\"46f61f31-d507-4f80-bc49-81ca4ed0221b\",\"type\":\"Selection\"},\"selection_policy\":{\"id\":\"e8b0e199-564c-4854-ba53-f87ee9bb0d3a\",\"type\":\"UnionRenderers\"}},\"id\":\"7c0c24c3-6d2d-48a6-b448-d9597bb9b56e\",\"type\":\"ColumnDataSource\"},{\"attributes\":{\"plot\":null,\"text\":\"SFC flux. CLIRAD - CRD.\"},\"id\":\"f84b4a06-fd0a-4b4e-8e7e-5da417a9aee1\",\"type\":\"Title\"},{\"attributes\":{\"toolbar\":{\"id\":\"9a7a164c-55a5-4f60-86f3-8e60c3646b66\",\"type\":\"ProxyToolbar\"},\"toolbar_location\":\"above\"},\"id\":\"76c82cca-9d94-414d-ae46-40dec0f250e5\",\"type\":\"ToolbarBox\"},{\"attributes\":{},\"id\":\"b342326e-017b-4f1b-a5d7-db67654733a4\",\"type\":\"SaveTool\"},{\"attributes\":{},\"id\":\"e0fe4247-dcac-4ae1-bad3-2e3f61e8d1f9\",\"type\":\"Selection\"},{\"attributes\":{\"fill_color\":{\"value\":\"#1f77b4\"},\"line_color\":{\"value\":\"#1f77b4\"},\"top\":{\"field\":\"flux\"},\"width\":{\"value\":0.9},\"x\":{\"field\":\"band\"}},\"id\":\"be12d3aa-13d2-4f05-96c5-0321e12ffc4a\",\"type\":\"VBar\"},{\"attributes\":{\"below\":[{\"id\":\"0d5dd95d-7c72-4aff-98a5-ee105b1df932\",\"type\":\"CategoricalAxis\"}],\"left\":[{\"id\":\"c522cc6b-7bb2-4b6a-87d0-7c247aaf58c6\",\"type\":\"LinearAxis\"}],\"plot_height\":300,\"plot_width\":300,\"renderers\":[{\"id\":\"0d5dd95d-7c72-4aff-98a5-ee105b1df932\",\"type\":\"CategoricalAxis\"},{\"id\":\"447c0c7f-64c0-4bd9-85d6-9ee3ac4eb04a\",\"type\":\"Grid\"},{\"id\":\"c522cc6b-7bb2-4b6a-87d0-7c247aaf58c6\",\"type\":\"LinearAxis\"},{\"id\":\"8b258a84-6ace-4658-86ab-4dbb9be00f07\",\"type\":\"Grid\"},{\"id\":\"c4e21dbe-337c-4189-ac03-805f89cfe991\",\"type\":\"BoxAnnotation\"},{\"id\":\"28554e0f-b943-4695-bbbc-1a35d0d08df2\",\"type\":\"GlyphRenderer\"}],\"title\":{\"id\":\"7d051885-5821-4d05-a91c-c375df29bafd\",\"type\":\"Title\"},\"toolbar\":{\"id\":\"8134c517-f1da-40fa-b0c8-bc60831b3d54\",\"type\":\"Toolbar\"},\"toolbar_location\":null,\"x_range\":{\"id\":\"5a9217dd-fb6d-40a9-8123-96c7cd7856e1\",\"type\":\"FactorRange\"},\"x_scale\":{\"id\":\"cd466da6-a764-4d94-a196-9e28e02c855d\",\"type\":\"CategoricalScale\"},\"y_range\":{\"id\":\"a8b5a56d-4b98-4ae1-a6ad-671ad90494bd\",\"type\":\"DataRange1d\"},\"y_scale\":{\"id\":\"eccd622b-4fbc-4d9a-a862-bcf07d6073d6\",\"type\":\"LinearScale\"}},\"id\":\"238ca3ff-4d13-4dbe-9411-b3305be44e42\",\"subtype\":\"Figure\",\"type\":\"Plot\"},{\"attributes\":{\"data_source\":{\"id\":\"f88070eb-8641-4ad1-93cb-df8dafa18b36\",\"type\":\"ColumnDataSource\"},\"glyph\":{\"id\":\"be12d3aa-13d2-4f05-96c5-0321e12ffc4a\",\"type\":\"VBar\"},\"hover_glyph\":null,\"muted_glyph\":null,\"nonselection_glyph\":{\"id\":\"ce9ebcfd-5d31-41e9-962a-75ae7c1bed9d\",\"type\":\"VBar\"},\"selection_glyph\":null,\"view\":{\"id\":\"a7945f5c-567e-4ed4-8319-aaa055b0222e\",\"type\":\"CDSView\"}},\"id\":\"28554e0f-b943-4695-bbbc-1a35d0d08df2\",\"type\":\"GlyphRenderer\"},{\"attributes\":{\"plot\":null,\"text\":\"Atmosphere heating. CLIRAD - CRD.\"},\"id\":\"89b390f2-95e8-4c76-a156-0e6dc3ee219e\",\"type\":\"Title\"},{\"attributes\":{\"plot\":null,\"text\":\"TOA flux. CLIRAD - CRD.\"},\"id\":\"7d051885-5821-4d05-a91c-c375df29bafd\",\"type\":\"Title\"},{\"attributes\":{},\"id\":\"8c519a67-2ed3-426c-a924-64f9cf932ef8\",\"type\":\"ResetTool\"},{\"attributes\":{\"fill_alpha\":{\"value\":0.1},\"fill_color\":{\"value\":\"#1f77b4\"},\"line_alpha\":{\"value\":0.1},\"line_color\":{\"value\":\"#1f77b4\"},\"top\":{\"field\":\"flux\"},\"width\":{\"value\":0.9},\"x\":{\"field\":\"band\"}},\"id\":\"8ea33ebc-405d-47a4-93dd-39fac7e7d0e9\",\"type\":\"VBar\"},{\"attributes\":{\"callback\":null},\"id\":\"f9eea828-4b82-4b5c-bf47-45e9e3fded78\",\"type\":\"DataRange1d\"},{\"attributes\":{},\"id\":\"e8b0e199-564c-4854-ba53-f87ee9bb0d3a\",\"type\":\"UnionRenderers\"},{\"attributes\":{\"dimension\":1,\"plot\":{\"id\":\"4ca10429-55f6-4179-82b0-43b533406855\",\"subtype\":\"Figure\",\"type\":\"Plot\"},\"ticker\":{\"id\":\"1ac86716-6f9b-4ca5-b1e3-9fff4f09622f\",\"type\":\"BasicTicker\"}},\"id\":\"f50fd804-83bf-42a1-98b9-ca0712e9aee6\",\"type\":\"Grid\"},{\"attributes\":{\"callback\":null,\"factors\":[\"1\",\"2\",\"3\",\"4\",\"5\",\"6\",\"7\",\"8\",\"9\",\"10\",\"11\"]},\"id\":\"a0b0060d-6459-4151-a2a4-5062523545f1\",\"type\":\"FactorRange\"},{\"attributes\":{},\"id\":\"6152b34e-e613-4a63-9d2e-f9602bcb9e09\",\"type\":\"PanTool\"},{\"attributes\":{},\"id\":\"7a67d665-cae1-405a-afe4-a0091cd626ac\",\"type\":\"ResetTool\"},{\"attributes\":{\"plot\":{\"id\":\"4a16d73a-aa80-4967-9b90-87e9ae70ebeb\",\"subtype\":\"Figure\",\"type\":\"Plot\"},\"ticker\":{\"id\":\"4de94c58-2d3a-49e7-abba-9e893708b38c\",\"type\":\"CategoricalTicker\"}},\"id\":\"5a1cb145-5077-458c-b281-7b9dd8bef707\",\"type\":\"Grid\"},{\"attributes\":{\"overlay\":{\"id\":\"d98c6f70-4059-4117-9578-9ab222f4ab74\",\"type\":\"BoxAnnotation\"}},\"id\":\"a9494ce4-7bd4-4461-84ac-b53ead14f4ee\",\"type\":\"BoxZoomTool\"},{\"attributes\":{},\"id\":\"859414bc-7c00-4731-ab32-d52cf510e9de\",\"type\":\"CategoricalTickFormatter\"},{\"attributes\":{\"axis_label\":\"flux (W m-2)\",\"formatter\":{\"id\":\"c04b5bf3-fc36-46b3-91e6-53844de39e8b\",\"type\":\"BasicTickFormatter\"},\"plot\":{\"id\":\"4a16d73a-aa80-4967-9b90-87e9ae70ebeb\",\"subtype\":\"Figure\",\"type\":\"Plot\"},\"ticker\":{\"id\":\"7fa7f0a6-56cb-4bbd-9d7b-40ec5ca609c6\",\"type\":\"BasicTicker\"}},\"id\":\"f814e8ee-9b79-4531-8030-a960929ac017\",\"type\":\"LinearAxis\"},{\"attributes\":{},\"id\":\"dd98655b-079b-4111-8a90-dc3cf71b95af\",\"type\":\"WheelZoomTool\"},{\"attributes\":{},\"id\":\"4de94c58-2d3a-49e7-abba-9e893708b38c\",\"type\":\"CategoricalTicker\"},{\"attributes\":{},\"id\":\"78fbb672-02a9-449b-9c57-d879047a2ac4\",\"type\":\"SaveTool\"},{\"attributes\":{},\"id\":\"b7a0cd62-ea84-48df-8072-249d7e49398a\",\"type\":\"CategoricalScale\"},{\"attributes\":{},\"id\":\"98b30199-b4ee-4698-bb5a-2c5efc37722c\",\"type\":\"WheelZoomTool\"},{\"attributes\":{\"axis_label\":\"spectral band\",\"formatter\":{\"id\":\"d3e8c6bb-dbf1-47ac-93b8-7fd0cebfb3eb\",\"type\":\"CategoricalTickFormatter\"},\"plot\":{\"id\":\"238ca3ff-4d13-4dbe-9411-b3305be44e42\",\"subtype\":\"Figure\",\"type\":\"Plot\"},\"ticker\":{\"id\":\"e9b4425a-aa14-4f1b-8643-936f5b43904e\",\"type\":\"CategoricalTicker\"}},\"id\":\"0d5dd95d-7c72-4aff-98a5-ee105b1df932\",\"type\":\"CategoricalAxis\"},{\"attributes\":{},\"id\":\"1aa4209e-633c-44c5-9579-5a085b6db28e\",\"type\":\"UnionRenderers\"},{\"attributes\":{\"fill_alpha\":{\"value\":0.1},\"fill_color\":{\"value\":\"#1f77b4\"},\"line_alpha\":{\"value\":0.1},\"line_color\":{\"value\":\"#1f77b4\"},\"top\":{\"field\":\"flux\"},\"width\":{\"value\":0.9},\"x\":{\"field\":\"band\"}},\"id\":\"ce9ebcfd-5d31-41e9-962a-75ae7c1bed9d\",\"type\":\"VBar\"},{\"attributes\":{\"data_source\":{\"id\":\"45c1c51e-c75e-409e-86f5-7c901c42a143\",\"type\":\"ColumnDataSource\"},\"glyph\":{\"id\":\"83babab9-7b5b-423e-a386-f0e8cef72313\",\"type\":\"VBar\"},\"hover_glyph\":null,\"muted_glyph\":null,\"nonselection_glyph\":{\"id\":\"8ea33ebc-405d-47a4-93dd-39fac7e7d0e9\",\"type\":\"VBar\"},\"selection_glyph\":null,\"view\":{\"id\":\"fe81e318-3546-467f-aae2-95ad3ff0950f\",\"type\":\"CDSView\"}},\"id\":\"a5cf367e-bb37-4783-9225-f2b8830fcadd\",\"type\":\"GlyphRenderer\"},{\"attributes\":{\"callback\":null},\"id\":\"a8b5a56d-4b98-4ae1-a6ad-671ad90494bd\",\"type\":\"DataRange1d\"},{\"attributes\":{},\"id\":\"50d649b2-3026-40fd-ba66-209edd7ae1f5\",\"type\":\"UnionRenderers\"},{\"attributes\":{\"overlay\":{\"id\":\"c4e21dbe-337c-4189-ac03-805f89cfe991\",\"type\":\"BoxAnnotation\"}},\"id\":\"6aa5bd69-c8ce-4632-aca9-67a524c7eebc\",\"type\":\"BoxZoomTool\"},{\"attributes\":{\"callback\":null},\"id\":\"6ebf7e31-9e38-4c04-a8dd-b6e0b8dfb67d\",\"type\":\"DataRange1d\"},{\"attributes\":{\"dimension\":1,\"plot\":{\"id\":\"4a16d73a-aa80-4967-9b90-87e9ae70ebeb\",\"subtype\":\"Figure\",\"type\":\"Plot\"},\"ticker\":{\"id\":\"7fa7f0a6-56cb-4bbd-9d7b-40ec5ca609c6\",\"type\":\"BasicTicker\"}},\"id\":\"ab121e5c-402c-4c8f-9559-4a2165d320cc\",\"type\":\"Grid\"},{\"attributes\":{\"callback\":null,\"factors\":[\"1\",\"2\",\"3\",\"4\",\"5\",\"6\",\"7\",\"8\",\"9\",\"10\",\"11\"]},\"id\":\"5a9217dd-fb6d-40a9-8123-96c7cd7856e1\",\"type\":\"FactorRange\"},{\"attributes\":{},\"id\":\"5f2de615-8cc1-488f-875a-c9a42505f489\",\"type\":\"BasicTickFormatter\"},{\"attributes\":{\"source\":{\"id\":\"45c1c51e-c75e-409e-86f5-7c901c42a143\",\"type\":\"ColumnDataSource\"}},\"id\":\"fe81e318-3546-467f-aae2-95ad3ff0950f\",\"type\":\"CDSView\"},{\"attributes\":{\"active_drag\":\"auto\",\"active_inspect\":\"auto\",\"active_scroll\":\"auto\",\"active_tap\":\"auto\",\"tools\":[{\"id\":\"de25cb17-55fa-4d1e-a165-b2bcfd3ce70b\",\"type\":\"PanTool\"},{\"id\":\"9d597113-51e4-4846-9a60-2cafada741d2\",\"type\":\"WheelZoomTool\"},{\"id\":\"a9494ce4-7bd4-4461-84ac-b53ead14f4ee\",\"type\":\"BoxZoomTool\"},{\"id\":\"45947011-6280-4943-927e-7273d258132d\",\"type\":\"SaveTool\"},{\"id\":\"3d081321-6c21-49fd-b6e4-760622f4c6ae\",\"type\":\"ResetTool\"},{\"id\":\"8e31d58b-099f-49bb-940d-9ddde2643f80\",\"type\":\"HelpTool\"}]},\"id\":\"cd2f4be9-d1b0-4852-af30-71d6c6ac4821\",\"type\":\"Toolbar\"},{\"attributes\":{},\"id\":\"45947011-6280-4943-927e-7273d258132d\",\"type\":\"SaveTool\"},{\"attributes\":{\"bottom_units\":\"screen\",\"fill_alpha\":{\"value\":0.5},\"fill_color\":{\"value\":\"lightgrey\"},\"left_units\":\"screen\",\"level\":\"overlay\",\"line_alpha\":{\"value\":1.0},\"line_color\":{\"value\":\"black\"},\"line_dash\":[4,4],\"line_width\":{\"value\":2},\"plot\":null,\"render_mode\":\"css\",\"right_units\":\"screen\",\"top_units\":\"screen\"},\"id\":\"f77a3143-b842-417e-a557-e2f3035cf646\",\"type\":\"BoxAnnotation\"},{\"attributes\":{},\"id\":\"46f61f31-d507-4f80-bc49-81ca4ed0221b\",\"type\":\"Selection\"},{\"attributes\":{\"active_drag\":\"auto\",\"active_inspect\":\"auto\",\"active_scroll\":\"auto\",\"active_tap\":\"auto\",\"tools\":[{\"id\":\"6152b34e-e613-4a63-9d2e-f9602bcb9e09\",\"type\":\"PanTool\"},{\"id\":\"dd98655b-079b-4111-8a90-dc3cf71b95af\",\"type\":\"WheelZoomTool\"},{\"id\":\"6aa5bd69-c8ce-4632-aca9-67a524c7eebc\",\"type\":\"BoxZoomTool\"},{\"id\":\"78fbb672-02a9-449b-9c57-d879047a2ac4\",\"type\":\"SaveTool\"},{\"id\":\"8c519a67-2ed3-426c-a924-64f9cf932ef8\",\"type\":\"ResetTool\"},{\"id\":\"dc20da0f-7c59-4cb3-96cd-6dd37b8d88c2\",\"type\":\"HelpTool\"}]},\"id\":\"8134c517-f1da-40fa-b0c8-bc60831b3d54\",\"type\":\"Toolbar\"},{\"attributes\":{\"children\":[{\"id\":\"91520d71-1dee-49a6-b4c2-1d115a7b82be\",\"type\":\"Row\"}]},\"id\":\"22cef80f-2997-4116-a8bf-399d6e0896d5\",\"type\":\"Column\"},{\"attributes\":{\"bottom_units\":\"screen\",\"fill_alpha\":{\"value\":0.5},\"fill_color\":{\"value\":\"lightgrey\"},\"left_units\":\"screen\",\"level\":\"overlay\",\"line_alpha\":{\"value\":1.0},\"line_color\":{\"value\":\"black\"},\"line_dash\":[4,4],\"line_width\":{\"value\":2},\"plot\":null,\"render_mode\":\"css\",\"right_units\":\"screen\",\"top_units\":\"screen\"},\"id\":\"c4e21dbe-337c-4189-ac03-805f89cfe991\",\"type\":\"BoxAnnotation\"},{\"attributes\":{},\"id\":\"d3e8c6bb-dbf1-47ac-93b8-7fd0cebfb3eb\",\"type\":\"CategoricalTickFormatter\"},{\"attributes\":{\"plot\":{\"id\":\"238ca3ff-4d13-4dbe-9411-b3305be44e42\",\"subtype\":\"Figure\",\"type\":\"Plot\"},\"ticker\":{\"id\":\"e9b4425a-aa14-4f1b-8643-936f5b43904e\",\"type\":\"CategoricalTicker\"}},\"id\":\"447c0c7f-64c0-4bd9-85d6-9ee3ac4eb04a\",\"type\":\"Grid\"},{\"attributes\":{\"data_source\":{\"id\":\"7c0c24c3-6d2d-48a6-b448-d9597bb9b56e\",\"type\":\"ColumnDataSource\"},\"glyph\":{\"id\":\"b2a9ab22-8069-4db4-9088-c132eda54994\",\"type\":\"VBar\"},\"hover_glyph\":null,\"muted_glyph\":null,\"nonselection_glyph\":{\"id\":\"08cdc858-7247-4e88-86b4-4135373f2b0d\",\"type\":\"VBar\"},\"selection_glyph\":null,\"view\":{\"id\":\"dea9254f-1137-4b0d-97bd-b30e99c663fd\",\"type\":\"CDSView\"}},\"id\":\"2a0f836e-87d4-499e-b48f-2eacf0fa91a6\",\"type\":\"GlyphRenderer\"}],\"root_ids\":[\"bdde5367-1511-47ed-acec-05f07ba00b27\"]},\"title\":\"Bokeh Application\",\"version\":\"0.12.16\"}};\n",
       "  var render_items = [{\"docid\":\"875333a9-4b0f-4a34-887d-aec02a794ced\",\"elementid\":\"29761a0e-2471-4355-9236-93f98a1c3688\",\"modelid\":\"bdde5367-1511-47ed-acec-05f07ba00b27\"}];\n",
       "  root.Bokeh.embed.embed_items_notebook(docs_json, render_items);\n",
       "\n",
       "  }\n",
       "  if (root.Bokeh !== undefined) {\n",
       "    embed_document(root);\n",
       "  } else {\n",
       "    var attempts = 0;\n",
       "    var timer = setInterval(function(root) {\n",
       "      if (root.Bokeh !== undefined) {\n",
       "        embed_document(root);\n",
       "        clearInterval(timer);\n",
       "      }\n",
       "      attempts++;\n",
       "      if (attempts > 100) {\n",
       "        console.log(\"Bokeh: ERROR: Unable to run BokehJS code because BokehJS library is missing\")\n",
       "        clearInterval(timer);\n",
       "      }\n",
       "    }, 10, root)\n",
       "  }\n",
       "})(window);"
      ],
      "application/vnd.bokehjs_exec.v0+json": ""
     },
     "metadata": {
      "application/vnd.bokehjs_exec.v0+json": {
       "id": "bdde5367-1511-47ed-acec-05f07ba00b27"
      }
     },
     "output_type": "display_data"
    },
    {
     "data": {
      "text/markdown": [
       "*FIGURE.* Difference between CLIRAD and CRD in TOA, SFC and net atmosphere flux, in each spectral band."
      ],
      "text/plain": [
       "<IPython.core.display.Markdown object>"
      ]
     },
     "metadata": {},
     "output_type": "display_data"
    },
    {
     "data": {
      "text/html": [
       "<div>\n",
       "<style scoped>\n",
       "    .dataframe tbody tr th:only-of-type {\n",
       "        vertical-align: middle;\n",
       "    }\n",
       "\n",
       "    .dataframe tbody tr th {\n",
       "        vertical-align: top;\n",
       "    }\n",
       "\n",
       "    .dataframe thead th {\n",
       "        text-align: right;\n",
       "    }\n",
       "</style>\n",
       "<table border=\"1\" class=\"dataframe\">\n",
       "  <thead>\n",
       "    <tr style=\"text-align: right;\">\n",
       "      <th></th>\n",
       "      <th>OLR flux</th>\n",
       "      <th>SFC flux</th>\n",
       "      <th>ATM heating</th>\n",
       "    </tr>\n",
       "    <tr>\n",
       "      <th>Sum over bands</th>\n",
       "      <th></th>\n",
       "      <th></th>\n",
       "      <th></th>\n",
       "    </tr>\n",
       "  </thead>\n",
       "  <tbody>\n",
       "    <tr>\n",
       "      <th>CLIRAD - CRD</th>\n",
       "      <td>0.73</td>\n",
       "      <td>-0.45</td>\n",
       "      <td>1.18</td>\n",
       "    </tr>\n",
       "    <tr>\n",
       "      <th>CRD</th>\n",
       "      <td>-201.06</td>\n",
       "      <td>166.03</td>\n",
       "      <td>-119.67</td>\n",
       "    </tr>\n",
       "  </tbody>\n",
       "</table>\n",
       "</div>"
      ],
      "text/plain": [
       "                OLR flux  SFC flux  ATM heating\n",
       "Sum over bands                                 \n",
       "CLIRAD - CRD        0.73     -0.45         1.18\n",
       "CRD              -201.06    166.03      -119.67"
      ]
     },
     "metadata": {},
     "output_type": "display_data"
    },
    {
     "data": {
      "text/markdown": [
       "*TABLE.* Difference between CLIRAD and CRD in TOA, SFC and net atmosphere flux, over all spectral bands. CRD's TOA, SFC and net atmosphere flux, over all spectral bands."
      ],
      "text/plain": [
       "<IPython.core.display.Markdown object>"
      ]
     },
     "metadata": {},
     "output_type": "display_data"
    },
    {
     "data": {
      "text/html": [
       "<a id=\"Cooling_rates._trp.\"></a>"
      ],
      "text/plain": [
       "<IPython.core.display.HTML object>"
      ]
     },
     "metadata": {},
     "output_type": "display_data"
    },
    {
     "data": {
      "text/markdown": [
       "# Cooling rates. trp."
      ],
      "text/plain": [
       "<IPython.core.display.Markdown object>"
      ]
     },
     "metadata": {},
     "output_type": "display_data"
    },
    {
     "data": {
      "text/html": [
       "\n",
       "<div class=\"bk-root\">\n",
       "    <div class=\"bk-plotdiv\" id=\"27fab41c-93c1-4260-be32-7b979394f934\"></div>\n",
       "</div>"
      ]
     },
     "metadata": {},
     "output_type": "display_data"
    },
    {
     "data": {
      "application/javascript": [
       "(function(root) {\n",
       "  function embed_document(root) {\n",
       "    \n",
       "  var docs_json = {\"9a3e99a9-92a8-4362-8cd3-061cacf882bb\":{\"roots\":{\"references\":[{\"attributes\":{},\"id\":\"2544ff8c-fa8b-4dc0-b6de-1487849eac11\",\"type\":\"PanTool\"},{\"attributes\":{\"label\":{\"value\":\"CLIRAD\"},\"renderers\":[{\"id\":\"4754176e-2786-4658-88f9-3a081d773b7a\",\"type\":\"GlyphRenderer\"}]},\"id\":\"3c6a4c83-6e7c-4c78-a8a6-0b1565f84625\",\"type\":\"LegendItem\"},{\"attributes\":{\"label\":{\"value\":\"CRD\"},\"renderers\":[{\"id\":\"e8fdfc85-6caf-413f-87c0-cd356adbe6cd\",\"type\":\"GlyphRenderer\"},{\"id\":\"1cf06ba3-aad0-4607-9717-d17aad7495f9\",\"type\":\"GlyphRenderer\"}]},\"id\":\"3905cf78-d314-45dd-95ca-5621c37b4bb4\",\"type\":\"LegendItem\"},{\"attributes\":{\"line_alpha\":0.1,\"line_color\":\"#1f77b4\",\"line_width\":1.5,\"x\":{\"field\":\"x\"},\"y\":{\"field\":\"y\"}},\"id\":\"1f4125de-8a0a-4c17-8b3b-bf49413b7ad8\",\"type\":\"Line\"},{\"attributes\":{\"data_source\":{\"id\":\"dda32c67-82ac-420c-9985-2966875bd12f\",\"type\":\"ColumnDataSource\"},\"glyph\":{\"id\":\"15ec7120-066e-4ea8-96d4-c3b264c90e4c\",\"type\":\"Circle\"},\"hover_glyph\":null,\"muted_glyph\":null,\"nonselection_glyph\":{\"id\":\"74320b16-b182-4c26-8d3b-d06725b1bab8\",\"type\":\"Circle\"},\"selection_glyph\":null,\"view\":{\"id\":\"58c57c6a-4da9-482b-98ff-c66539f37174\",\"type\":\"CDSView\"}},\"id\":\"e8fdfc85-6caf-413f-87c0-cd356adbe6cd\",\"type\":\"GlyphRenderer\"},{\"attributes\":{\"line_alpha\":0.1,\"line_color\":\"#1f77b4\",\"line_width\":1.5,\"x\":{\"field\":\"x\"},\"y\":{\"field\":\"y\"}},\"id\":\"e09c3687-e5a7-4a54-8765-a95d1e825cfd\",\"type\":\"Line\"},{\"attributes\":{},\"id\":\"45d9e417-2409-4345-9ee8-af42db7f34f3\",\"type\":\"Selection\"},{\"attributes\":{\"above\":[{\"id\":\"1aacaea9-1f10-4b06-8be5-eafe5707e8e8\",\"type\":\"Legend\"}],\"below\":[{\"id\":\"a3baa906-2343-4a0f-ba2e-718f92179259\",\"type\":\"LinearAxis\"}],\"left\":[{\"id\":\"67aa9b93-5611-4ca3-b21e-b7304f15fcd6\",\"type\":\"LogAxis\"}],\"plot_width\":300,\"renderers\":[{\"id\":\"a3baa906-2343-4a0f-ba2e-718f92179259\",\"type\":\"LinearAxis\"},{\"id\":\"79c438d3-771c-4623-bc93-20b529594140\",\"type\":\"Grid\"},{\"id\":\"67aa9b93-5611-4ca3-b21e-b7304f15fcd6\",\"type\":\"LogAxis\"},{\"id\":\"f7cb5376-845e-48cf-855e-4aaf2a01af2e\",\"type\":\"Grid\"},{\"id\":\"86ac9b77-cdeb-4826-a837-5cc77dcdd431\",\"type\":\"BoxAnnotation\"},{\"id\":\"4754176e-2786-4658-88f9-3a081d773b7a\",\"type\":\"GlyphRenderer\"},{\"id\":\"6aeffd53-0e95-43f0-8d53-ba33afcb9da0\",\"type\":\"GlyphRenderer\"},{\"id\":\"a6b41bea-364f-4364-aa60-7e34d6443fcd\",\"type\":\"GlyphRenderer\"},{\"id\":\"1aacaea9-1f10-4b06-8be5-eafe5707e8e8\",\"type\":\"Legend\"}],\"title\":{\"id\":\"40466e8a-f1c4-4248-9cc7-cc3329b64e5b\",\"type\":\"Title\"},\"toolbar\":{\"id\":\"bce1040a-8c7e-4a46-a46b-402a8cad06a9\",\"type\":\"Toolbar\"},\"toolbar_location\":null,\"x_range\":{\"id\":\"fa6edcee-59eb-4eb5-98f4-deb9ab681c8a\",\"type\":\"Range1d\"},\"x_scale\":{\"id\":\"8db7f557-e67a-42e8-8b78-df1d31cac584\",\"type\":\"LinearScale\"},\"y_range\":{\"id\":\"969791c8-31d0-44df-902f-bbab9feba3bb\",\"type\":\"Range1d\"},\"y_scale\":{\"id\":\"4ccac4b0-c8ed-4a30-9c0c-d9a26e00bf53\",\"type\":\"LogScale\"}},\"id\":\"544c0fae-34b8-4d2e-9bf0-7a54f81a8da4\",\"subtype\":\"Figure\",\"type\":\"Plot\"},{\"attributes\":{\"plot\":{\"id\":\"6468f285-d84d-4453-882b-b7a84de7468a\",\"subtype\":\"Figure\",\"type\":\"Plot\"},\"ticker\":{\"id\":\"07eed76a-14fe-4b2d-b364-aa38761c6504\",\"type\":\"BasicTicker\"}},\"id\":\"068651f8-ee52-4e0a-ad7c-a2cf67045e99\",\"type\":\"Grid\"},{\"attributes\":{\"source\":{\"id\":\"dda32c67-82ac-420c-9985-2966875bd12f\",\"type\":\"ColumnDataSource\"}},\"id\":\"58c57c6a-4da9-482b-98ff-c66539f37174\",\"type\":\"CDSView\"},{\"attributes\":{\"label\":{\"value\":\"CLIRAD\"},\"renderers\":[{\"id\":\"7efc42f3-1b53-41c3-bb75-ab52a8c48617\",\"type\":\"GlyphRenderer\"}]},\"id\":\"6dcf7516-4f04-4f9f-88e3-9d0ef4f0fede\",\"type\":\"LegendItem\"},{\"attributes\":{\"overlay\":{\"id\":\"dd243eae-e599-4c09-b22c-c503d66abfb1\",\"type\":\"BoxAnnotation\"}},\"id\":\"b05afbc0-99fe-4321-a5cf-746ed6af3bbe\",\"type\":\"BoxZoomTool\"},{\"attributes\":{\"data_source\":{\"id\":\"ad3d94aa-f4b8-4cc2-9fce-d40940d7d264\",\"type\":\"ColumnDataSource\"},\"glyph\":{\"id\":\"2bfb128b-afa4-4541-9387-f48f706d8ba2\",\"type\":\"Line\"},\"hover_glyph\":null,\"muted_glyph\":null,\"nonselection_glyph\":{\"id\":\"1f4125de-8a0a-4c17-8b3b-bf49413b7ad8\",\"type\":\"Line\"},\"selection_glyph\":null,\"view\":{\"id\":\"5db61434-ada9-4cd3-979a-87cd8d457e89\",\"type\":\"CDSView\"}},\"id\":\"a6b41bea-364f-4364-aa60-7e34d6443fcd\",\"type\":\"GlyphRenderer\"},{\"attributes\":{\"data_source\":{\"id\":\"892d39d4-c13e-4b02-9a95-d929b5386ad5\",\"type\":\"ColumnDataSource\"},\"glyph\":{\"id\":\"8fdd6b3e-f132-418a-81cc-9d762923473b\",\"type\":\"Line\"},\"hover_glyph\":null,\"muted_glyph\":null,\"nonselection_glyph\":{\"id\":\"e09c3687-e5a7-4a54-8765-a95d1e825cfd\",\"type\":\"Line\"},\"selection_glyph\":null,\"view\":{\"id\":\"228422ac-be27-4ac0-9ece-eb16fc8ee5be\",\"type\":\"CDSView\"}},\"id\":\"e6317604-a5c9-44ba-a586-47cfef47b1db\",\"type\":\"GlyphRenderer\"},{\"attributes\":{\"source\":{\"id\":\"46c4e3fb-c5f4-4323-becc-c14686327a3d\",\"type\":\"ColumnDataSource\"}},\"id\":\"bcf0a73d-8bf5-4c7c-a33c-348b9286e082\",\"type\":\"CDSView\"},{\"attributes\":{\"data_source\":{\"id\":\"443c2f4d-e86b-434f-8dee-1d804a38ed46\",\"type\":\"ColumnDataSource\"},\"glyph\":{\"id\":\"2d4f358c-58ee-4d9e-914a-8fad54daaac9\",\"type\":\"Line\"},\"hover_glyph\":null,\"muted_glyph\":null,\"nonselection_glyph\":{\"id\":\"aaa9d04f-46af-4106-a6ad-8a8c50b6bc0d\",\"type\":\"Line\"},\"selection_glyph\":null,\"view\":{\"id\":\"151336c4-082d-4288-99fb-7305b12b7400\",\"type\":\"CDSView\"}},\"id\":\"7efc42f3-1b53-41c3-bb75-ab52a8c48617\",\"type\":\"GlyphRenderer\"},{\"attributes\":{\"axis_label\":\"pressure [mb]\",\"formatter\":{\"id\":\"103770e3-1150-4150-b70f-ac7e36767cb3\",\"type\":\"LogTickFormatter\"},\"plot\":{\"id\":\"544c0fae-34b8-4d2e-9bf0-7a54f81a8da4\",\"subtype\":\"Figure\",\"type\":\"Plot\"},\"ticker\":{\"id\":\"4c415927-0a4e-4ddf-a450-0c9a43d0f6be\",\"type\":\"LogTicker\"}},\"id\":\"67aa9b93-5611-4ca3-b21e-b7304f15fcd6\",\"type\":\"LogAxis\"},{\"attributes\":{\"line_color\":\"#4daf4a\",\"line_width\":1.5,\"x\":{\"field\":\"x\"},\"y\":{\"field\":\"y\"}},\"id\":\"46800dcb-fa70-4b23-9c03-4360c2a1d73f\",\"type\":\"Line\"},{\"attributes\":{\"callback\":null,\"end\":2.392793821310531,\"start\":-0.5512230232235301},\"id\":\"57010f25-c2ca-4c01-922f-cad015d57960\",\"type\":\"Range1d\"},{\"attributes\":{\"dimension\":1,\"plot\":{\"id\":\"544c0fae-34b8-4d2e-9bf0-7a54f81a8da4\",\"subtype\":\"Figure\",\"type\":\"Plot\"},\"ticker\":{\"id\":\"4c415927-0a4e-4ddf-a450-0c9a43d0f6be\",\"type\":\"LogTicker\"}},\"id\":\"f7cb5376-845e-48cf-855e-4aaf2a01af2e\",\"type\":\"Grid\"},{\"attributes\":{\"axis_label\":\"cooling rate [K/day]\",\"formatter\":{\"id\":\"5bc15359-b70b-445c-9c38-d5877137e34e\",\"type\":\"BasicTickFormatter\"},\"plot\":{\"id\":\"fc9ec20a-d432-4152-aa41-f189db7727e4\",\"subtype\":\"Figure\",\"type\":\"Plot\"},\"ticker\":{\"id\":\"e71ba30a-305c-4515-b4dc-d05043e531f5\",\"type\":\"BasicTicker\"}},\"id\":\"fb023569-9289-4027-89ce-df10054c7346\",\"type\":\"LinearAxis\"},{\"attributes\":{\"callback\":null,\"data\":{\"x\":{\"__ndarray__\":\"R/KIaN7AVEClCeJMyPNGQOvRhpxr30JAptxzhxx4PkA7SssMElA4QK6Bp3CyUDNAsVXpjES9LkBFhUV0+5coQMHYwqbbySNA6f09nM3nH0CaSd/3eYoZQDmgiAOW8BNAPYqARh3eDEBkm4vCgvr+P9D+5tWhQfY/P8DwKRnSAkBq38kb17ILQDT7IWuSsxFAUr2Rjm0FFkAinq3s9XgbQGCHwtYcqSFAG64kT303J0C7dRDneyooQD9JYrbK8yRA9S3bneHhIUAIymSuUMMcQIkHLe6VEBdAAau3cITREkA6CiNvkQIPQJU39ki7IQlAaAvwok1UA0BXLQiS4+L7P0xzDpJ2hPI/NNuPGMbJ5z91mUVYxqfSPxqwUPSxZca/G11peifD3L8QzNj5t2jTvwzOozTL360/SPJ4VI1VzD9KJ0nXEIncP8yDdlvHt+4/Et49nYLW9z++2teD4Jn+P+568eH/bwFALf5D9lmAAkCiZAicVOkCQPPT4jNKxwJAOjp3wTzBAUBSQsKNGisBQG4OmjqJwQBAJ3sZoHFuAEA5Ar0Sdi0AQGy4rw5+9f8/7W4nSrC3/z8mPr8zj4T/P4UYRHCQS/8/embVKYcF/z+5YXG+LLP+P/qb8BVUgf4/KvafTtyO/j/avAK1Ppv+PwJV9VVm2P0/JFtYlU/n/D9sN+q2fiX6Pw44e41PNPc/Opt+Z/wN9T+x3vcSW1vzP9ofvWQJlvI/8sciQQBW8j80sfkQa17yPzg5qng2r/I/Oh14WJBh8z+VZjnpctj0P6CcrSuCqQBA\",\"dtype\":\"float64\",\"shape\":[75]},\"y\":{\"__ndarray__\":\"GhExyth1ND/Sv8nbtpRIP2vylNV0PVE/aTum7souWD/At0SJ8fVgPw3Iuahxymc/MSNhhJWvcD/bTfBN02d3P2zb5nxnaoA/CD5h5MAGhz8NmeH1TyaQP+zrCsc9p5Y/LbKd76fGnz/bLW5ISEmmPww9YvTcQq8/JV2OstnstT8Er5Y7M8G+P0c+r3jqkcU/5h99k6ZBzj88bCIzFzjVP4enV8oyxN0//yH99nXg5D8qOpLLf0jtP5kqGJXUifQ/c9cS8kHP/D+/DpwzojQEQIEmwoanVwxA4lgXt9HgE0BSSZ2AJuIbQAMJih9jjiNA5q4l5INuK0AwTKYKRj0zQNv5fmq8/DpAaCJseHrtQkB/+zpwzoxKQM3MzMzMeFJAZmZmZmZqWEAAAAAAAFxeQM3MzMzMJmJAmpmZmZkfZUBmZmZmZhhoQDMzMzMzEWtAAAAAAAAKbkBmZmZmZoFwQM3MzMzM/XFAMzMzMzN6c0CamZmZmfZ0QAAAAAAAc3ZAZmZmZmbvd0DNzMzMzGt5QDMzMzMz6HpAmpmZmZlkfEAAAAAAAOF9QGZmZmZmXX9AZmZmZuZsgECamZmZGSuBQM3MzMxM6YFAAAAAAICngkAzMzMzs2WDQGZmZmbmI4RAmpmZmRnihEDNzMzMTKCFQAAAAACAXoZAMzMzM7Mch0BmZmZm5tqHQJqZmZkZmYhAzczMzExXiUAAAAAAgBWKQDMzMzOz04pAZmZmZuaRi0CamZmZGVCMQM3MzMxMDo1AAAAAAIDMjUAzMzMzs4qOQGZmZmbmSI9A\",\"dtype\":\"float64\",\"shape\":[75]}},\"selected\":{\"id\":\"6cd675d8-623c-4a9f-b8a6-9b38932ca756\",\"type\":\"Selection\"},\"selection_policy\":{\"id\":\"df82f014-8937-419f-8212-afc92990b5d1\",\"type\":\"UnionRenderers\"}},\"id\":\"ad3d94aa-f4b8-4cc2-9fce-d40940d7d264\",\"type\":\"ColumnDataSource\"},{\"attributes\":{},\"id\":\"0cddae4f-66db-4347-8707-4d4e3b5ce035\",\"type\":\"PanTool\"},{\"attributes\":{},\"id\":\"6ea468b8-c230-48c2-8938-9682573c1738\",\"type\":\"WheelZoomTool\"},{\"attributes\":{\"callback\":null,\"end\":0.21568485438714344,\"start\":-0.7854097886127447},\"id\":\"3107a176-459b-470c-a468-397fd82b7b0b\",\"type\":\"Range1d\"},{\"attributes\":{\"line_alpha\":0.1,\"line_color\":\"#1f77b4\",\"line_width\":1.5,\"x\":{\"field\":\"x\"},\"y\":{\"field\":\"y\"}},\"id\":\"82d6cbbb-c5cb-4986-a6fd-9800357c6173\",\"type\":\"Line\"},{\"attributes\":{\"dimension\":1,\"plot\":{\"id\":\"fc9ec20a-d432-4152-aa41-f189db7727e4\",\"subtype\":\"Figure\",\"type\":\"Plot\"},\"ticker\":{\"id\":\"d272af3d-055b-4185-ac77-520e2d66a7c8\",\"type\":\"BasicTicker\"}},\"id\":\"20545481-08f2-4eb1-9fcb-fa6caa42ad3f\",\"type\":\"Grid\"},{\"attributes\":{},\"id\":\"dbca4547-461a-4ea3-b748-f42d034b614a\",\"type\":\"ResetTool\"},{\"attributes\":{},\"id\":\"fede59bc-9216-4ce1-854f-0294b1a04968\",\"type\":\"SaveTool\"},{\"attributes\":{\"dimension\":1,\"plot\":{\"id\":\"6468f285-d84d-4453-882b-b7a84de7468a\",\"subtype\":\"Figure\",\"type\":\"Plot\"},\"ticker\":{\"id\":\"2e41c579-9164-4d5f-b288-2b58a865d2f6\",\"type\":\"LogTicker\"}},\"id\":\"88227885-350c-49ae-bf96-7a74251a9321\",\"type\":\"Grid\"},{\"attributes\":{\"source\":{\"id\":\"ad3d94aa-f4b8-4cc2-9fce-d40940d7d264\",\"type\":\"ColumnDataSource\"}},\"id\":\"5db61434-ada9-4cd3-979a-87cd8d457e89\",\"type\":\"CDSView\"},{\"attributes\":{},\"id\":\"3ef5037e-ac10-4a94-9ef3-a2cce9ce8134\",\"type\":\"LinearScale\"},{\"attributes\":{\"line_alpha\":0.1,\"line_color\":\"#1f77b4\",\"line_dash\":[6],\"line_width\":5,\"x\":{\"field\":\"x\"},\"y\":{\"field\":\"y\"}},\"id\":\"aaa9d04f-46af-4106-a6ad-8a8c50b6bc0d\",\"type\":\"Line\"},{\"attributes\":{},\"id\":\"83aa4683-6e36-4e37-973f-224163d6568d\",\"type\":\"HelpTool\"},{\"attributes\":{\"line_color\":\"#4daf4a\",\"line_width\":1.5,\"x\":{\"field\":\"x\"},\"y\":{\"field\":\"y\"}},\"id\":\"2bfb128b-afa4-4541-9387-f48f706d8ba2\",\"type\":\"Line\"},{\"attributes\":{\"axis_label\":\"cooling rate [K/day]\",\"formatter\":{\"id\":\"7757f030-007f-4bc6-8979-a5c003b18bc1\",\"type\":\"BasicTickFormatter\"},\"plot\":{\"id\":\"6468f285-d84d-4453-882b-b7a84de7468a\",\"subtype\":\"Figure\",\"type\":\"Plot\"},\"ticker\":{\"id\":\"07eed76a-14fe-4b2d-b364-aa38761c6504\",\"type\":\"BasicTicker\"}},\"id\":\"9e8d5c59-71bf-4050-a323-407c536cd0ec\",\"type\":\"LinearAxis\"},{\"attributes\":{\"above\":[{\"id\":\"ea8cbf25-39f4-40d1-938a-a22728be18a8\",\"type\":\"Legend\"}],\"below\":[{\"id\":\"fb023569-9289-4027-89ce-df10054c7346\",\"type\":\"LinearAxis\"}],\"left\":[{\"id\":\"085bd71c-887b-47e9-91df-4f2bb67b7d4a\",\"type\":\"LinearAxis\"}],\"plot_width\":300,\"renderers\":[{\"id\":\"fb023569-9289-4027-89ce-df10054c7346\",\"type\":\"LinearAxis\"},{\"id\":\"ba5b59db-b835-4b57-b13e-fe1b2da48722\",\"type\":\"Grid\"},{\"id\":\"085bd71c-887b-47e9-91df-4f2bb67b7d4a\",\"type\":\"LinearAxis\"},{\"id\":\"20545481-08f2-4eb1-9fcb-fa6caa42ad3f\",\"type\":\"Grid\"},{\"id\":\"dd243eae-e599-4c09-b22c-c503d66abfb1\",\"type\":\"BoxAnnotation\"},{\"id\":\"7efc42f3-1b53-41c3-bb75-ab52a8c48617\",\"type\":\"GlyphRenderer\"},{\"id\":\"e8fdfc85-6caf-413f-87c0-cd356adbe6cd\",\"type\":\"GlyphRenderer\"},{\"id\":\"1cf06ba3-aad0-4607-9717-d17aad7495f9\",\"type\":\"GlyphRenderer\"},{\"id\":\"ea8cbf25-39f4-40d1-938a-a22728be18a8\",\"type\":\"Legend\"}],\"title\":{\"id\":\"f0af0b3c-4823-482e-9791-fe25d46c0ccf\",\"type\":\"Title\"},\"toolbar\":{\"id\":\"9ca4a0d7-95e8-46f9-a2d6-cb9a24009806\",\"type\":\"Toolbar\"},\"toolbar_location\":null,\"x_range\":{\"id\":\"57010f25-c2ca-4c01-922f-cad015d57960\",\"type\":\"Range1d\"},\"x_scale\":{\"id\":\"7398f42c-c1b6-43f1-9cf4-8abf5b12dea3\",\"type\":\"LinearScale\"},\"y_range\":{\"id\":\"2eae6485-fda1-4eb3-967d-bf1dd30cc1f3\",\"type\":\"Range1d\"},\"y_scale\":{\"id\":\"b0bbdc71-775c-42e7-a892-7819d476d89c\",\"type\":\"LinearScale\"}},\"id\":\"fc9ec20a-d432-4152-aa41-f189db7727e4\",\"subtype\":\"Figure\",\"type\":\"Plot\"},{\"attributes\":{},\"id\":\"e71ba30a-305c-4515-b4dc-d05043e531f5\",\"type\":\"BasicTicker\"},{\"attributes\":{},\"id\":\"07eed76a-14fe-4b2d-b364-aa38761c6504\",\"type\":\"BasicTicker\"},{\"attributes\":{},\"id\":\"434d6cb3-5c16-4ad5-9d5b-068895bf5890\",\"type\":\"LogScale\"},{\"attributes\":{\"overlay\":{\"id\":\"86ac9b77-cdeb-4826-a837-5cc77dcdd431\",\"type\":\"BoxAnnotation\"}},\"id\":\"a818e981-e97c-420c-86d6-d5be8e6449a6\",\"type\":\"BoxZoomTool\"},{\"attributes\":{\"axis_label\":\"pressure [mb]\",\"formatter\":{\"id\":\"c06ed5ce-b979-41a5-8318-260ffdba6f43\",\"type\":\"BasicTickFormatter\"},\"plot\":{\"id\":\"fc9ec20a-d432-4152-aa41-f189db7727e4\",\"subtype\":\"Figure\",\"type\":\"Plot\"},\"ticker\":{\"id\":\"d272af3d-055b-4185-ac77-520e2d66a7c8\",\"type\":\"BasicTicker\"}},\"id\":\"085bd71c-887b-47e9-91df-4f2bb67b7d4a\",\"type\":\"LinearAxis\"},{\"attributes\":{},\"id\":\"b0bbdc71-775c-42e7-a892-7819d476d89c\",\"type\":\"LinearScale\"},{\"attributes\":{\"plot\":{\"id\":\"fc9ec20a-d432-4152-aa41-f189db7727e4\",\"subtype\":\"Figure\",\"type\":\"Plot\"},\"ticker\":{\"id\":\"e71ba30a-305c-4515-b4dc-d05043e531f5\",\"type\":\"BasicTicker\"}},\"id\":\"ba5b59db-b835-4b57-b13e-fe1b2da48722\",\"type\":\"Grid\"},{\"attributes\":{\"callback\":null,\"data\":{\"x\":{\"__ndarray__\":\"R/KIaN7AVEClCeJMyPNGQOvRhpxr30JAptxzhxx4PkA7SssMElA4QK6Bp3CyUDNAsVXpjES9LkBFhUV0+5coQMHYwqbbySNA6f09nM3nH0CaSd/3eYoZQDmgiAOW8BNAPYqARh3eDEBkm4vCgvr+P9D+5tWhQfY/P8DwKRnSAkBq38kb17ILQDT7IWuSsxFAUr2Rjm0FFkAinq3s9XgbQGCHwtYcqSFAG64kT303J0C7dRDneyooQD9JYrbK8yRA9S3bneHhIUAIymSuUMMcQIkHLe6VEBdAAau3cITREkA6CiNvkQIPQJU39ki7IQlAaAvwok1UA0BXLQiS4+L7P0xzDpJ2hPI/NNuPGMbJ5z91mUVYxqfSPxqwUPSxZca/G11peifD3L8QzNj5t2jTvwzOozTL360/SPJ4VI1VzD9KJ0nXEIncP8yDdlvHt+4/Et49nYLW9z++2teD4Jn+P+568eH/bwFALf5D9lmAAkCiZAicVOkCQPPT4jNKxwJAOjp3wTzBAUBSQsKNGisBQG4OmjqJwQBAJ3sZoHFuAEA5Ar0Sdi0AQGy4rw5+9f8/7W4nSrC3/z8mPr8zj4T/P4UYRHCQS/8/embVKYcF/z+5YXG+LLP+P/qb8BVUgf4/KvafTtyO/j/avAK1Ppv+PwJV9VVm2P0/JFtYlU/n/D9sN+q2fiX6Pw44e41PNPc/Opt+Z/wN9T+x3vcSW1vzP9ofvWQJlvI/8sciQQBW8j80sfkQa17yPzg5qng2r/I/Oh14WJBh8z+VZjnpctj0P6CcrSuCqQBA\",\"dtype\":\"float64\",\"shape\":[75]},\"y\":{\"__ndarray__\":\"GhExyth1ND/Sv8nbtpRIP2vylNV0PVE/aTum7souWD/At0SJ8fVgPw3Iuahxymc/MSNhhJWvcD/bTfBN02d3P2zb5nxnaoA/CD5h5MAGhz8NmeH1TyaQP+zrCsc9p5Y/LbKd76fGnz/bLW5ISEmmPww9YvTcQq8/JV2OstnstT8Er5Y7M8G+P0c+r3jqkcU/5h99k6ZBzj88bCIzFzjVP4enV8oyxN0//yH99nXg5D8qOpLLf0jtP5kqGJXUifQ/c9cS8kHP/D+/DpwzojQEQIEmwoanVwxA4lgXt9HgE0BSSZ2AJuIbQAMJih9jjiNA5q4l5INuK0AwTKYKRj0zQNv5fmq8/DpAaCJseHrtQkB/+zpwzoxKQM3MzMzMeFJAZmZmZmZqWEAAAAAAAFxeQM3MzMzMJmJAmpmZmZkfZUBmZmZmZhhoQDMzMzMzEWtAAAAAAAAKbkBmZmZmZoFwQM3MzMzM/XFAMzMzMzN6c0CamZmZmfZ0QAAAAAAAc3ZAZmZmZmbvd0DNzMzMzGt5QDMzMzMz6HpAmpmZmZlkfEAAAAAAAOF9QGZmZmZmXX9AZmZmZuZsgECamZmZGSuBQM3MzMxM6YFAAAAAAICngkAzMzMzs2WDQGZmZmbmI4RAmpmZmRnihEDNzMzMTKCFQAAAAACAXoZAMzMzM7Mch0BmZmZm5tqHQJqZmZkZmYhAzczMzExXiUAAAAAAgBWKQDMzMzOz04pAZmZmZuaRi0CamZmZGVCMQM3MzMxMDo1AAAAAAIDMjUAzMzMzs4qOQGZmZmbmSI9A\",\"dtype\":\"float64\",\"shape\":[75]}},\"selected\":{\"id\":\"455ba391-675f-4ff0-86dd-e62f43ef61d5\",\"type\":\"Selection\"},\"selection_policy\":{\"id\":\"6fb80aa4-2b86-490b-8cdc-8ae84e04066b\",\"type\":\"UnionRenderers\"}},\"id\":\"dda32c67-82ac-420c-9985-2966875bd12f\",\"type\":\"ColumnDataSource\"},{\"attributes\":{\"bottom_units\":\"screen\",\"fill_alpha\":{\"value\":0.5},\"fill_color\":{\"value\":\"lightgrey\"},\"left_units\":\"screen\",\"level\":\"overlay\",\"line_alpha\":{\"value\":1.0},\"line_color\":{\"value\":\"black\"},\"line_dash\":[4,4],\"line_width\":{\"value\":2},\"plot\":null,\"render_mode\":\"css\",\"right_units\":\"screen\",\"top_units\":\"screen\"},\"id\":\"86ac9b77-cdeb-4826-a837-5cc77dcdd431\",\"type\":\"BoxAnnotation\"},{\"attributes\":{\"active_drag\":\"auto\",\"active_inspect\":\"auto\",\"active_scroll\":\"auto\",\"active_tap\":\"auto\",\"tools\":[{\"id\":\"d7de3b41-6d30-4474-b480-2a646963995c\",\"type\":\"PanTool\"},{\"id\":\"58247e07-bc1e-4fe9-a9f1-e90bd7f7dc78\",\"type\":\"WheelZoomTool\"},{\"id\":\"0b9a4fdd-1040-4794-8f9d-72c626f0abab\",\"type\":\"BoxZoomTool\"},{\"id\":\"e474a204-3d3e-4162-9416-247f89e67d7a\",\"type\":\"SaveTool\"},{\"id\":\"46c00c25-c25d-4cc0-8f2d-858f3099e2d4\",\"type\":\"ResetTool\"},{\"id\":\"bc2cfab6-6b17-44b6-ade7-5a1950721f18\",\"type\":\"HelpTool\"}]},\"id\":\"36070632-6080-4a8f-9788-23e3e99440f5\",\"type\":\"Toolbar\"},{\"attributes\":{\"active_drag\":\"auto\",\"active_inspect\":\"auto\",\"active_scroll\":\"auto\",\"active_tap\":\"auto\",\"tools\":[{\"id\":\"2544ff8c-fa8b-4dc0-b6de-1487849eac11\",\"type\":\"PanTool\"},{\"id\":\"ce5a90bd-3f79-49ab-8eb3-f79efbed046c\",\"type\":\"WheelZoomTool\"},{\"id\":\"a818e981-e97c-420c-86d6-d5be8e6449a6\",\"type\":\"BoxZoomTool\"},{\"id\":\"5f135916-e2b5-4c52-86c2-d30e1ff34d0c\",\"type\":\"SaveTool\"},{\"id\":\"6cb2e731-5341-499b-9638-391a47ed405d\",\"type\":\"ResetTool\"},{\"id\":\"8926d5f3-8a58-4ca9-8742-ce79616404ea\",\"type\":\"HelpTool\"}]},\"id\":\"bce1040a-8c7e-4a46-a46b-402a8cad06a9\",\"type\":\"Toolbar\"},{\"attributes\":{\"callback\":null,\"data\":{\"x\":{\"__ndarray__\":\"R/KIaN7AVEClCeJMyPNGQOvRhpxr30JAptxzhxx4PkA7SssMElA4QK6Bp3CyUDNAsVXpjES9LkBFhUV0+5coQMHYwqbbySNA6f09nM3nH0CaSd/3eYoZQDmgiAOW8BNAPYqARh3eDEBkm4vCgvr+P9D+5tWhQfY/P8DwKRnSAkBq38kb17ILQDT7IWuSsxFAUr2Rjm0FFkAinq3s9XgbQGCHwtYcqSFAG64kT303J0C7dRDneyooQD9JYrbK8yRA9S3bneHhIUAIymSuUMMcQIkHLe6VEBdAAau3cITREkA6CiNvkQIPQJU39ki7IQlAaAvwok1UA0BXLQiS4+L7P0xzDpJ2hPI/NNuPGMbJ5z91mUVYxqfSPxqwUPSxZca/G11peifD3L8QzNj5t2jTvwzOozTL360/SPJ4VI1VzD9KJ0nXEIncP8yDdlvHt+4/Et49nYLW9z++2teD4Jn+P+568eH/bwFALf5D9lmAAkCiZAicVOkCQPPT4jNKxwJAOjp3wTzBAUBSQsKNGisBQG4OmjqJwQBAJ3sZoHFuAEA5Ar0Sdi0AQGy4rw5+9f8/7W4nSrC3/z8mPr8zj4T/P4UYRHCQS/8/embVKYcF/z+5YXG+LLP+P/qb8BVUgf4/KvafTtyO/j/avAK1Ppv+PwJV9VVm2P0/JFtYlU/n/D9sN+q2fiX6Pw44e41PNPc/Opt+Z/wN9T+x3vcSW1vzP9ofvWQJlvI/8sciQQBW8j80sfkQa17yPzg5qng2r/I/Oh14WJBh8z+VZjnpctj0P6CcrSuCqQBA\",\"dtype\":\"float64\",\"shape\":[75]},\"y\":{\"__ndarray__\":\"GhExyth1ND/Sv8nbtpRIP2vylNV0PVE/aTum7souWD/At0SJ8fVgPw3Iuahxymc/MSNhhJWvcD/bTfBN02d3P2zb5nxnaoA/CD5h5MAGhz8NmeH1TyaQP+zrCsc9p5Y/LbKd76fGnz/bLW5ISEmmPww9YvTcQq8/JV2OstnstT8Er5Y7M8G+P0c+r3jqkcU/5h99k6ZBzj88bCIzFzjVP4enV8oyxN0//yH99nXg5D8qOpLLf0jtP5kqGJXUifQ/c9cS8kHP/D+/DpwzojQEQIEmwoanVwxA4lgXt9HgE0BSSZ2AJuIbQAMJih9jjiNA5q4l5INuK0AwTKYKRj0zQNv5fmq8/DpAaCJseHrtQkB/+zpwzoxKQM3MzMzMeFJAZmZmZmZqWEAAAAAAAFxeQM3MzMzMJmJAmpmZmZkfZUBmZmZmZhhoQDMzMzMzEWtAAAAAAAAKbkBmZmZmZoFwQM3MzMzM/XFAMzMzMzN6c0CamZmZmfZ0QAAAAAAAc3ZAZmZmZmbvd0DNzMzMzGt5QDMzMzMz6HpAmpmZmZlkfEAAAAAAAOF9QGZmZmZmXX9AZmZmZuZsgECamZmZGSuBQM3MzMxM6YFAAAAAAICngkAzMzMzs2WDQGZmZmbmI4RAmpmZmRnihEDNzMzMTKCFQAAAAACAXoZAMzMzM7Mch0BmZmZm5tqHQJqZmZkZmYhAzczMzExXiUAAAAAAgBWKQDMzMzOz04pAZmZmZuaRi0CamZmZGVCMQM3MzMxMDo1AAAAAAIDMjUAzMzMzs4qOQGZmZmbmSI9A\",\"dtype\":\"float64\",\"shape\":[75]}},\"selected\":{\"id\":\"a778ee17-9902-49fb-b429-98e8423c049e\",\"type\":\"Selection\"},\"selection_policy\":{\"id\":\"28f1941a-1ed0-4aff-a3e9-8f82f62e5298\",\"type\":\"UnionRenderers\"}},\"id\":\"a110a22b-cbec-4046-b4ac-cfafaebf6412\",\"type\":\"ColumnDataSource\"},{\"attributes\":{\"source\":{\"id\":\"a110a22b-cbec-4046-b4ac-cfafaebf6412\",\"type\":\"ColumnDataSource\"}},\"id\":\"544eab0c-a966-4fc6-87a5-89e77f63a56e\",\"type\":\"CDSView\"},{\"attributes\":{\"axis_label\":\"pressure [mb]\",\"formatter\":{\"id\":\"a993837c-2df0-45ca-878f-f4d88cc8012e\",\"type\":\"LogTickFormatter\"},\"plot\":{\"id\":\"6468f285-d84d-4453-882b-b7a84de7468a\",\"subtype\":\"Figure\",\"type\":\"Plot\"},\"ticker\":{\"id\":\"2e41c579-9164-4d5f-b288-2b58a865d2f6\",\"type\":\"LogTicker\"}},\"id\":\"0a2d53d4-4eae-43eb-b850-f03ea985b251\",\"type\":\"LogAxis\"},{\"attributes\":{\"callback\":null,\"data\":{\"x\":{\"__ndarray__\":\"6kBaC+kmTUATjP9BdnhGQJoUeXK8okNAZUQwzURNQEAEj5fqepM5QLl+1x49DjNA43efxZ7pK0ABHf6oNS8lQIW5AWK0JiFAaabK/5fNHEAyXISrRLcXQLhNN77yfxJAY/e9HSXSCUB8+xcG+PL5P6pLyTCOJvM/i0x4r/5eAkD8V4r/onsMQNp2dA5ihhJAjxD0admZFkDgE916y+AaQLJCetQloiBAZaOqayPcJUAb0ShXCFgnQGyEuDs7viRAgmTZvHKnIUAClEoyywEcQAkdm20ZMhdA8gysFa2bE0BcOOVNLiAQQIz879cQqAlAyPW6c+3OA0BzaXsBDl37PysCPNeJb/E/jILOIe5x5z8YQesIFwXRP2SyxoCsgc+/M+Y/jiy34L+RpEhju97Vv7NXgwVTbqM/H19da/QOyT/EX3mph7faPx3hMCck7e0/fGMz9SNT9z8EggO7O1X+P8BazmePFgFAoKZTVnGaAUBkdb+J5EcCQG0ObMD2QwJA7XWMacwGAUAB5zG4mXAAQNamALvLQwBAb0qC+tIhAEBsekSqWQkAQJuKCfhZl/8/ie5h/5Fm/z9o4aaX/CH/P7EojDC8P/8/MbAQGwF0/z8tbD/1ZZf/P4ElyQbhmP8/Iadwgyh//z8CA3W7eC7/P/Skzep9+P0/np8rD6fz/D9ng/Ev4E76P94DPv+5vPc/8w+/gPXv9T+IdWIq6pf0P7+MIXnZ3fM/k7gtI5OJ8z/pXDnoGcbzP/Hj/p6qKPQ/BtgA0iLy9D/H1PquStb2Px6GT22CrQFA\",\"dtype\":\"float64\",\"shape\":[75]},\"y\":{\"__ndarray__\":\"GhExyth1ND/Sv8nbtpRIP2vylNV0PVE/aTum7souWD/At0SJ8fVgPw3Iuahxymc/MSNhhJWvcD/bTfBN02d3P2zb5nxnaoA/CD5h5MAGhz8NmeH1TyaQP+zrCsc9p5Y/LbKd76fGnz/bLW5ISEmmPww9YvTcQq8/JV2OstnstT8Er5Y7M8G+P0c+r3jqkcU/5h99k6ZBzj88bCIzFzjVP4enV8oyxN0//yH99nXg5D8qOpLLf0jtP5kqGJXUifQ/c9cS8kHP/D+/DpwzojQEQIEmwoanVwxA4lgXt9HgE0BSSZ2AJuIbQAMJih9jjiNA5q4l5INuK0AwTKYKRj0zQNv5fmq8/DpAaCJseHrtQkB/+zpwzoxKQM3MzMzMeFJAZmZmZmZqWEAAAAAAAFxeQM3MzMzMJmJAmpmZmZkfZUBmZmZmZhhoQDMzMzMzEWtAAAAAAAAKbkBmZmZmZoFwQM3MzMzM/XFAMzMzMzN6c0CamZmZmfZ0QAAAAAAAc3ZAZmZmZmbvd0DNzMzMzGt5QDMzMzMz6HpAmpmZmZlkfEAAAAAAAOF9QGZmZmZmXX9AZmZmZuZsgECamZmZGSuBQM3MzMxM6YFAAAAAAICngkAzMzMzs2WDQGZmZmbmI4RAmpmZmRnihEDNzMzMTKCFQAAAAACAXoZAMzMzM7Mch0BmZmZm5tqHQJqZmZkZmYhAzczMzExXiUAAAAAAgBWKQDMzMzOz04pAZmZmZuaRi0CamZmZGVCMQM3MzMxMDo1AAAAAAIDMjUAzMzMzs4qOQGZmZmbmSI9A\",\"dtype\":\"float64\",\"shape\":[75]}},\"selected\":{\"id\":\"b4a7f306-37a6-4ecd-b8c6-096f54fa9004\",\"type\":\"Selection\"},\"selection_policy\":{\"id\":\"9ed8ac2b-0345-4336-981b-a7f32b621bf0\",\"type\":\"UnionRenderers\"}},\"id\":\"d3fd338c-a123-44d4-b0df-a367d608f6da\",\"type\":\"ColumnDataSource\"},{\"attributes\":{\"num_minor_ticks\":10},\"id\":\"4c415927-0a4e-4ddf-a450-0c9a43d0f6be\",\"type\":\"LogTicker\"},{\"attributes\":{\"callback\":null,\"data\":{\"x\":{\"__ndarray__\":\"6kBaC+kmTUATjP9BdnhGQJoUeXK8okNAZUQwzURNQEAEj5fqepM5QLl+1x49DjNA43efxZ7pK0ABHf6oNS8lQIW5AWK0JiFAaabK/5fNHEAyXISrRLcXQLhNN77yfxJAY/e9HSXSCUB8+xcG+PL5P6pLyTCOJvM/i0x4r/5eAkD8V4r/onsMQNp2dA5ihhJAjxD0admZFkDgE916y+AaQLJCetQloiBAZaOqayPcJUAb0ShXCFgnQGyEuDs7viRAgmTZvHKnIUAClEoyywEcQAkdm20ZMhdA8gysFa2bE0BcOOVNLiAQQIz879cQqAlAyPW6c+3OA0BzaXsBDl37PysCPNeJb/E/jILOIe5x5z8YQesIFwXRP2SyxoCsgc+/M+Y/jiy34L+RpEhju97Vv7NXgwVTbqM/H19da/QOyT/EX3mph7faPx3hMCck7e0/fGMz9SNT9z8EggO7O1X+P8BazmePFgFAoKZTVnGaAUBkdb+J5EcCQG0ObMD2QwJA7XWMacwGAUAB5zG4mXAAQNamALvLQwBAb0qC+tIhAEBsekSqWQkAQJuKCfhZl/8/ie5h/5Fm/z9o4aaX/CH/P7EojDC8P/8/MbAQGwF0/z8tbD/1ZZf/P4ElyQbhmP8/Iadwgyh//z8CA3W7eC7/P/Skzep9+P0/np8rD6fz/D9ng/Ev4E76P94DPv+5vPc/8w+/gPXv9T+IdWIq6pf0P7+MIXnZ3fM/k7gtI5OJ8z/pXDnoGcbzP/Hj/p6qKPQ/BtgA0iLy9D/H1PquStb2Px6GT22CrQFA\",\"dtype\":\"float64\",\"shape\":[75]},\"y\":{\"__ndarray__\":\"GhExyth1ND/Sv8nbtpRIP2vylNV0PVE/aTum7souWD/At0SJ8fVgPw3Iuahxymc/MSNhhJWvcD/bTfBN02d3P2zb5nxnaoA/CD5h5MAGhz8NmeH1TyaQP+zrCsc9p5Y/LbKd76fGnz/bLW5ISEmmPww9YvTcQq8/JV2OstnstT8Er5Y7M8G+P0c+r3jqkcU/5h99k6ZBzj88bCIzFzjVP4enV8oyxN0//yH99nXg5D8qOpLLf0jtP5kqGJXUifQ/c9cS8kHP/D+/DpwzojQEQIEmwoanVwxA4lgXt9HgE0BSSZ2AJuIbQAMJih9jjiNA5q4l5INuK0AwTKYKRj0zQNv5fmq8/DpAaCJseHrtQkB/+zpwzoxKQM3MzMzMeFJAZmZmZmZqWEAAAAAAAFxeQM3MzMzMJmJAmpmZmZkfZUBmZmZmZhhoQDMzMzMzEWtAAAAAAAAKbkBmZmZmZoFwQM3MzMzM/XFAMzMzMzN6c0CamZmZmfZ0QAAAAAAAc3ZAZmZmZmbvd0DNzMzMzGt5QDMzMzMz6HpAmpmZmZlkfEAAAAAAAOF9QGZmZmZmXX9AZmZmZuZsgECamZmZGSuBQM3MzMxM6YFAAAAAAICngkAzMzMzs2WDQGZmZmbmI4RAmpmZmRnihEDNzMzMTKCFQAAAAACAXoZAMzMzM7Mch0BmZmZm5tqHQJqZmZkZmYhAzczMzExXiUAAAAAAgBWKQDMzMzOz04pAZmZmZuaRi0CamZmZGVCMQM3MzMxMDo1AAAAAAIDMjUAzMzMzs4qOQGZmZmbmSI9A\",\"dtype\":\"float64\",\"shape\":[75]}},\"selected\":{\"id\":\"903de93b-c7a6-4688-a04c-2bd2d2dc9da0\",\"type\":\"Selection\"},\"selection_policy\":{\"id\":\"d2a174f5-0c7d-4a34-9918-9219af0d1864\",\"type\":\"UnionRenderers\"}},\"id\":\"443c2f4d-e86b-434f-8dee-1d804a38ed46\",\"type\":\"ColumnDataSource\"},{\"attributes\":{\"bottom_units\":\"screen\",\"fill_alpha\":{\"value\":0.5},\"fill_color\":{\"value\":\"lightgrey\"},\"left_units\":\"screen\",\"level\":\"overlay\",\"line_alpha\":{\"value\":1.0},\"line_color\":{\"value\":\"black\"},\"line_dash\":[4,4],\"line_width\":{\"value\":2},\"plot\":null,\"render_mode\":\"css\",\"right_units\":\"screen\",\"top_units\":\"screen\"},\"id\":\"dd243eae-e599-4c09-b22c-c503d66abfb1\",\"type\":\"BoxAnnotation\"},{\"attributes\":{\"label\":{\"value\":\"CRD\"},\"renderers\":[{\"id\":\"6aeffd53-0e95-43f0-8d53-ba33afcb9da0\",\"type\":\"GlyphRenderer\"},{\"id\":\"a6b41bea-364f-4364-aa60-7e34d6443fcd\",\"type\":\"GlyphRenderer\"}]},\"id\":\"daead0e4-045d-44ad-8e2c-d1259ea2593f\",\"type\":\"LegendItem\"},{\"attributes\":{\"line_alpha\":0.6,\"line_color\":\"#e41a1c\",\"line_dash\":[6],\"line_width\":5,\"x\":{\"field\":\"x\"},\"y\":{\"field\":\"y\"}},\"id\":\"2d4f358c-58ee-4d9e-914a-8fad54daaac9\",\"type\":\"Line\"},{\"attributes\":{},\"id\":\"ce5a90bd-3f79-49ab-8eb3-f79efbed046c\",\"type\":\"WheelZoomTool\"},{\"attributes\":{\"callback\":null,\"end\":0.01,\"start\":1020},\"id\":\"2eae6485-fda1-4eb3-967d-bf1dd30cc1f3\",\"type\":\"Range1d\"},{\"attributes\":{\"items\":[{\"id\":\"1b7a7c2e-b320-4259-99cc-afce1c111e3a\",\"type\":\"LegendItem\"}],\"label_text_font_size\":{\"value\":\"8pt\"},\"location\":\"top_center\",\"orientation\":\"horizontal\",\"plot\":{\"id\":\"6468f285-d84d-4453-882b-b7a84de7468a\",\"subtype\":\"Figure\",\"type\":\"Plot\"}},\"id\":\"e185f2da-39ac-4c7d-bd85-b21409871319\",\"type\":\"Legend\"},{\"attributes\":{\"source\":{\"id\":\"443c2f4d-e86b-434f-8dee-1d804a38ed46\",\"type\":\"ColumnDataSource\"}},\"id\":\"151336c4-082d-4288-99fb-7305b12b7400\",\"type\":\"CDSView\"},{\"attributes\":{\"data_source\":{\"id\":\"a110a22b-cbec-4046-b4ac-cfafaebf6412\",\"type\":\"ColumnDataSource\"},\"glyph\":{\"id\":\"46800dcb-fa70-4b23-9c03-4360c2a1d73f\",\"type\":\"Line\"},\"hover_glyph\":null,\"muted_glyph\":null,\"nonselection_glyph\":{\"id\":\"82d6cbbb-c5cb-4986-a6fd-9800357c6173\",\"type\":\"Line\"},\"selection_glyph\":null,\"view\":{\"id\":\"544eab0c-a966-4fc6-87a5-89e77f63a56e\",\"type\":\"CDSView\"}},\"id\":\"1cf06ba3-aad0-4607-9717-d17aad7495f9\",\"type\":\"GlyphRenderer\"},{\"attributes\":{\"callback\":null,\"end\":0.01,\"start\":1020},\"id\":\"969791c8-31d0-44df-902f-bbab9feba3bb\",\"type\":\"Range1d\"},{\"attributes\":{\"above\":[{\"id\":\"e185f2da-39ac-4c7d-bd85-b21409871319\",\"type\":\"Legend\"}],\"below\":[{\"id\":\"9e8d5c59-71bf-4050-a323-407c536cd0ec\",\"type\":\"LinearAxis\"}],\"left\":[{\"id\":\"0a2d53d4-4eae-43eb-b850-f03ea985b251\",\"type\":\"LogAxis\"}],\"plot_width\":300,\"renderers\":[{\"id\":\"9e8d5c59-71bf-4050-a323-407c536cd0ec\",\"type\":\"LinearAxis\"},{\"id\":\"068651f8-ee52-4e0a-ad7c-a2cf67045e99\",\"type\":\"Grid\"},{\"id\":\"0a2d53d4-4eae-43eb-b850-f03ea985b251\",\"type\":\"LogAxis\"},{\"id\":\"88227885-350c-49ae-bf96-7a74251a9321\",\"type\":\"Grid\"},{\"id\":\"70dcb3c0-1d10-4a0e-9777-2a4652b353b9\",\"type\":\"BoxAnnotation\"},{\"id\":\"f3357d25-5262-41c8-9fee-2a9bc83e4e0f\",\"type\":\"GlyphRenderer\"},{\"id\":\"e6317604-a5c9-44ba-a586-47cfef47b1db\",\"type\":\"GlyphRenderer\"},{\"id\":\"e185f2da-39ac-4c7d-bd85-b21409871319\",\"type\":\"Legend\"}],\"title\":{\"id\":\"8486c7a2-ee8a-44b0-9883-3ce93a940c4c\",\"type\":\"Title\"},\"toolbar\":{\"id\":\"36070632-6080-4a8f-9788-23e3e99440f5\",\"type\":\"Toolbar\"},\"toolbar_location\":null,\"x_range\":{\"id\":\"3107a176-459b-470c-a468-397fd82b7b0b\",\"type\":\"Range1d\"},\"x_scale\":{\"id\":\"3ef5037e-ac10-4a94-9ef3-a2cce9ce8134\",\"type\":\"LinearScale\"},\"y_range\":{\"id\":\"18f44325-6ba5-4b31-b065-bbc94111b599\",\"type\":\"Range1d\"},\"y_scale\":{\"id\":\"434d6cb3-5c16-4ad5-9d5b-068895bf5890\",\"type\":\"LogScale\"}},\"id\":\"6468f285-d84d-4453-882b-b7a84de7468a\",\"subtype\":\"Figure\",\"type\":\"Plot\"},{\"attributes\":{\"fill_alpha\":{\"value\":0.7},\"fill_color\":{\"value\":\"#4daf4a\"},\"line_alpha\":{\"value\":0.7},\"line_color\":{\"value\":\"#4daf4a\"},\"x\":{\"field\":\"x\"},\"y\":{\"field\":\"y\"}},\"id\":\"15ec7120-066e-4ea8-96d4-c3b264c90e4c\",\"type\":\"Circle\"},{\"attributes\":{\"fill_alpha\":{\"value\":0.1},\"fill_color\":{\"value\":\"#1f77b4\"},\"line_alpha\":{\"value\":0.1},\"line_color\":{\"value\":\"#1f77b4\"},\"x\":{\"field\":\"x\"},\"y\":{\"field\":\"y\"}},\"id\":\"74320b16-b182-4c26-8d3b-d06725b1bab8\",\"type\":\"Circle\"},{\"attributes\":{},\"id\":\"d272af3d-055b-4185-ac77-520e2d66a7c8\",\"type\":\"BasicTicker\"},{\"attributes\":{\"num_minor_ticks\":10},\"id\":\"2e41c579-9164-4d5f-b288-2b58a865d2f6\",\"type\":\"LogTicker\"},{\"attributes\":{},\"id\":\"5f135916-e2b5-4c52-86c2-d30e1ff34d0c\",\"type\":\"SaveTool\"},{\"attributes\":{\"fill_alpha\":{\"value\":0.1},\"fill_color\":{\"value\":\"#1f77b4\"},\"line_alpha\":{\"value\":0.1},\"line_color\":{\"value\":\"#1f77b4\"},\"x\":{\"field\":\"x\"},\"y\":{\"field\":\"y\"}},\"id\":\"22b238c7-4039-42d4-80db-27cd3274b7a0\",\"type\":\"Circle\"},{\"attributes\":{},\"id\":\"6cd675d8-623c-4a9f-b8a6-9b38932ca756\",\"type\":\"Selection\"},{\"attributes\":{\"callback\":null,\"data\":{\"x\":{\"__ndarray__\":\"S0dvi6e1OMAwZJ+4gtTuv9BVSL4aavg/EGFll2gTAUB2TMTcjTb0Pym9AHRUndC/eu5OOi6d9r8TQjtaLkb7v9X5CCY6GfW/Abya46zR6L+M1q7FVDPdvykoFVU0Cte/zpYURsFf2L+df87xKh7UvzCZ7Sid2Mi/S+0cnp7GrL+ZEg94fBm5P3N0T2r0Wco/f2dKbHuNwj8zSBE6TgXDv/JKhCRwb+C/Q6ugN5615b8clPT8cU7avxRr4lS9x7q/87nkgHA3vb/GwEaDrzDIv/K/Cre/waA/MT6MnhRFyT8FaHbKstzDP9yeON+xyrA/8pe6MvSnrj8gfJgRsrqgvwUSJ63LTrG/NipWsP31hb/XhaX19Cqav5YE7Bj1N7K/Ib1ZiMassr8IxH5LG7Cjv6fsQF7w4pS/SJncSMc0mr+dePzckhidvyVWtIhmVJm/vVJPAdVroL/BLhY1MimRv2sLyIgeXKa/kPEK/hO9vL+05x1JAi60v8iw2G5uarC/nYlY/QpOt78RaguyGlC3v6/lWeZfb6+/Ki7MZakno78p50M8NA6Sv8R0i6kFiZe/IBlgsZJHlL+4LxcGp6SYv3Sn329/qGe/dm3STnyemz+XTsHZJoesP4GYiA3PeLE/0B4WmoYJrj85xUjOQGeiP+D5J2zKC4A/cPOIpvOuaD+i/aWDvLCEPx56WThODaE/EJcOKCM/rD9ebal28cizP1TORkYBfbQ/BwqvIC45sz9Wu/pz7Xq2P5yrSmVCl7c/uqyLmCcJuT834xZcfN2/P8+XHhoEQMA/\",\"dtype\":\"float64\",\"shape\":[75]},\"y\":{\"__ndarray__\":\"GhExyth1ND/Sv8nbtpRIP2vylNV0PVE/aTum7souWD/At0SJ8fVgPw3Iuahxymc/MSNhhJWvcD/bTfBN02d3P2zb5nxnaoA/CD5h5MAGhz8NmeH1TyaQP+zrCsc9p5Y/LbKd76fGnz/bLW5ISEmmPww9YvTcQq8/JV2OstnstT8Er5Y7M8G+P0c+r3jqkcU/5h99k6ZBzj88bCIzFzjVP4enV8oyxN0//yH99nXg5D8qOpLLf0jtP5kqGJXUifQ/c9cS8kHP/D+/DpwzojQEQIEmwoanVwxA4lgXt9HgE0BSSZ2AJuIbQAMJih9jjiNA5q4l5INuK0AwTKYKRj0zQNv5fmq8/DpAaCJseHrtQkB/+zpwzoxKQM3MzMzMeFJAZmZmZmZqWEAAAAAAAFxeQM3MzMzMJmJAmpmZmZkfZUBmZmZmZhhoQDMzMzMzEWtAAAAAAAAKbkBmZmZmZoFwQM3MzMzM/XFAMzMzMzN6c0CamZmZmfZ0QAAAAAAAc3ZAZmZmZmbvd0DNzMzMzGt5QDMzMzMz6HpAmpmZmZlkfEAAAAAAAOF9QGZmZmZmXX9AZmZmZuZsgECamZmZGSuBQM3MzMxM6YFAAAAAAICngkAzMzMzs2WDQGZmZmbmI4RAmpmZmRnihEDNzMzMTKCFQAAAAACAXoZAMzMzM7Mch0BmZmZm5tqHQJqZmZkZmYhAzczMzExXiUAAAAAAgBWKQDMzMzOz04pAZmZmZuaRi0CamZmZGVCMQM3MzMxMDo1AAAAAAIDMjUAzMzMzs4qOQGZmZmbmSI9A\",\"dtype\":\"float64\",\"shape\":[75]}},\"selected\":{\"id\":\"c6a4b530-146a-4bd0-bbce-9a7e23b2119b\",\"type\":\"Selection\"},\"selection_policy\":{\"id\":\"a5f13204-27cc-4a9b-a7ce-7c3c8daf182a\",\"type\":\"UnionRenderers\"}},\"id\":\"15865def-9a33-494b-97ef-201a5455b20f\",\"type\":\"ColumnDataSource\"},{\"attributes\":{},\"id\":\"8926d5f3-8a58-4ca9-8742-ce79616404ea\",\"type\":\"HelpTool\"},{\"attributes\":{\"children\":[{\"id\":\"d5169004-9d2f-43e9-8378-0d9f1ffe5b2e\",\"type\":\"ToolbarBox\"},{\"id\":\"bd5802ff-25ef-4912-a1b3-4ff4ce47e32f\",\"type\":\"Column\"}]},\"id\":\"4b71f8d8-fe8b-4773-bbd3-ce31e273d922\",\"type\":\"Column\"},{\"attributes\":{\"data_source\":{\"id\":\"46c4e3fb-c5f4-4323-becc-c14686327a3d\",\"type\":\"ColumnDataSource\"},\"glyph\":{\"id\":\"f6300481-3cc3-4543-a639-334b8bd7c72a\",\"type\":\"Circle\"},\"hover_glyph\":null,\"muted_glyph\":null,\"nonselection_glyph\":{\"id\":\"d3a088b6-1e4e-4a69-bba8-d0f072c58590\",\"type\":\"Circle\"},\"selection_glyph\":null,\"view\":{\"id\":\"bcf0a73d-8bf5-4c7c-a33c-348b9286e082\",\"type\":\"CDSView\"}},\"id\":\"6aeffd53-0e95-43f0-8d53-ba33afcb9da0\",\"type\":\"GlyphRenderer\"},{\"attributes\":{},\"id\":\"455ba391-675f-4ff0-86dd-e62f43ef61d5\",\"type\":\"Selection\"},{\"attributes\":{},\"id\":\"8db7f557-e67a-42e8-8b78-df1d31cac584\",\"type\":\"LinearScale\"},{\"attributes\":{\"line_alpha\":0.1,\"line_color\":\"#1f77b4\",\"line_dash\":[6],\"line_width\":5,\"x\":{\"field\":\"x\"},\"y\":{\"field\":\"y\"}},\"id\":\"be9dc44f-2f84-40d9-ae61-a0d86bc26104\",\"type\":\"Line\"},{\"attributes\":{\"label\":{\"value\":\"CLIRAD - CRD\"},\"renderers\":[{\"id\":\"f3357d25-5262-41c8-9fee-2a9bc83e4e0f\",\"type\":\"GlyphRenderer\"},{\"id\":\"e6317604-a5c9-44ba-a586-47cfef47b1db\",\"type\":\"GlyphRenderer\"}]},\"id\":\"1b7a7c2e-b320-4259-99cc-afce1c111e3a\",\"type\":\"LegendItem\"},{\"attributes\":{},\"id\":\"9ed8ac2b-0345-4336-981b-a7f32b621bf0\",\"type\":\"UnionRenderers\"},{\"attributes\":{},\"id\":\"58247e07-bc1e-4fe9-a9f1-e90bd7f7dc78\",\"type\":\"WheelZoomTool\"},{\"attributes\":{},\"id\":\"7757f030-007f-4bc6-8979-a5c003b18bc1\",\"type\":\"BasicTickFormatter\"},{\"attributes\":{\"source\":{\"id\":\"15865def-9a33-494b-97ef-201a5455b20f\",\"type\":\"ColumnDataSource\"}},\"id\":\"4bb01274-2d83-496f-8aa9-fafd929bd5cc\",\"type\":\"CDSView\"},{\"attributes\":{\"source\":{\"id\":\"892d39d4-c13e-4b02-9a95-d929b5386ad5\",\"type\":\"ColumnDataSource\"}},\"id\":\"228422ac-be27-4ac0-9ece-eb16fc8ee5be\",\"type\":\"CDSView\"},{\"attributes\":{\"plot\":null,\"text\":\"\"},\"id\":\"8486c7a2-ee8a-44b0-9883-3ce93a940c4c\",\"type\":\"Title\"},{\"attributes\":{},\"id\":\"c6a4b530-146a-4bd0-bbce-9a7e23b2119b\",\"type\":\"Selection\"},{\"attributes\":{\"items\":[{\"id\":\"6dcf7516-4f04-4f9f-88e3-9d0ef4f0fede\",\"type\":\"LegendItem\"},{\"id\":\"3905cf78-d314-45dd-95ca-5621c37b4bb4\",\"type\":\"LegendItem\"}],\"label_text_font_size\":{\"value\":\"8pt\"},\"location\":\"top_center\",\"orientation\":\"horizontal\",\"plot\":{\"id\":\"fc9ec20a-d432-4152-aa41-f189db7727e4\",\"subtype\":\"Figure\",\"type\":\"Plot\"}},\"id\":\"ea8cbf25-39f4-40d1-938a-a22728be18a8\",\"type\":\"Legend\"},{\"attributes\":{\"plot\":null,\"text\":\"\"},\"id\":\"40466e8a-f1c4-4248-9cc7-cc3329b64e5b\",\"type\":\"Title\"},{\"attributes\":{},\"id\":\"4ccac4b0-c8ed-4a30-9c0c-d9a26e00bf53\",\"type\":\"LogScale\"},{\"attributes\":{},\"id\":\"6cb2e731-5341-499b-9638-391a47ed405d\",\"type\":\"ResetTool\"},{\"attributes\":{},\"id\":\"46c00c25-c25d-4cc0-8f2d-858f3099e2d4\",\"type\":\"ResetTool\"},{\"attributes\":{},\"id\":\"5bc15359-b70b-445c-9c38-d5877137e34e\",\"type\":\"BasicTickFormatter\"},{\"attributes\":{\"children\":[{\"id\":\"fc9ec20a-d432-4152-aa41-f189db7727e4\",\"subtype\":\"Figure\",\"type\":\"Plot\"},{\"id\":\"544c0fae-34b8-4d2e-9bf0-7a54f81a8da4\",\"subtype\":\"Figure\",\"type\":\"Plot\"},{\"id\":\"6468f285-d84d-4453-882b-b7a84de7468a\",\"subtype\":\"Figure\",\"type\":\"Plot\"}]},\"id\":\"c70924dd-2274-4467-83ad-cdac3178da4c\",\"type\":\"Row\"},{\"attributes\":{},\"id\":\"d7de3b41-6d30-4474-b480-2a646963995c\",\"type\":\"PanTool\"},{\"attributes\":{},\"id\":\"d2a174f5-0c7d-4a34-9918-9219af0d1864\",\"type\":\"UnionRenderers\"},{\"attributes\":{\"plot\":null,\"text\":\"\"},\"id\":\"f0af0b3c-4823-482e-9791-fe25d46c0ccf\",\"type\":\"Title\"},{\"attributes\":{\"fill_alpha\":{\"value\":0.7},\"fill_color\":{\"value\":\"#984ea3\"},\"line_alpha\":{\"value\":0.7},\"line_color\":{\"value\":\"#984ea3\"},\"x\":{\"field\":\"x\"},\"y\":{\"field\":\"y\"}},\"id\":\"0e22a735-5bde-4600-bd10-4e34c306eedc\",\"type\":\"Circle\"},{\"attributes\":{\"callback\":null,\"data\":{\"x\":{\"__ndarray__\":\"S0dvi6e1OMAwZJ+4gtTuv9BVSL4aavg/EGFll2gTAUB2TMTcjTb0Pym9AHRUndC/eu5OOi6d9r8TQjtaLkb7v9X5CCY6GfW/Abya46zR6L+M1q7FVDPdvykoFVU0Cte/zpYURsFf2L+df87xKh7UvzCZ7Sid2Mi/S+0cnp7GrL+ZEg94fBm5P3N0T2r0Wco/f2dKbHuNwj8zSBE6TgXDv/JKhCRwb+C/Q6ugN5615b8clPT8cU7avxRr4lS9x7q/87nkgHA3vb/GwEaDrzDIv/K/Cre/waA/MT6MnhRFyT8FaHbKstzDP9yeON+xyrA/8pe6MvSnrj8gfJgRsrqgvwUSJ63LTrG/NipWsP31hb/XhaX19Cqav5YE7Bj1N7K/Ib1ZiMassr8IxH5LG7Cjv6fsQF7w4pS/SJncSMc0mr+dePzckhidvyVWtIhmVJm/vVJPAdVroL/BLhY1MimRv2sLyIgeXKa/kPEK/hO9vL+05x1JAi60v8iw2G5uarC/nYlY/QpOt78RaguyGlC3v6/lWeZfb6+/Ki7MZakno78p50M8NA6Sv8R0i6kFiZe/IBlgsZJHlL+4LxcGp6SYv3Sn329/qGe/dm3STnyemz+XTsHZJoesP4GYiA3PeLE/0B4WmoYJrj85xUjOQGeiP+D5J2zKC4A/cPOIpvOuaD+i/aWDvLCEPx56WThODaE/EJcOKCM/rD9ebal28cizP1TORkYBfbQ/BwqvIC45sz9Wu/pz7Xq2P5yrSmVCl7c/uqyLmCcJuT834xZcfN2/P8+XHhoEQMA/\",\"dtype\":\"float64\",\"shape\":[75]},\"y\":{\"__ndarray__\":\"GhExyth1ND/Sv8nbtpRIP2vylNV0PVE/aTum7souWD/At0SJ8fVgPw3Iuahxymc/MSNhhJWvcD/bTfBN02d3P2zb5nxnaoA/CD5h5MAGhz8NmeH1TyaQP+zrCsc9p5Y/LbKd76fGnz/bLW5ISEmmPww9YvTcQq8/JV2OstnstT8Er5Y7M8G+P0c+r3jqkcU/5h99k6ZBzj88bCIzFzjVP4enV8oyxN0//yH99nXg5D8qOpLLf0jtP5kqGJXUifQ/c9cS8kHP/D+/DpwzojQEQIEmwoanVwxA4lgXt9HgE0BSSZ2AJuIbQAMJih9jjiNA5q4l5INuK0AwTKYKRj0zQNv5fmq8/DpAaCJseHrtQkB/+zpwzoxKQM3MzMzMeFJAZmZmZmZqWEAAAAAAAFxeQM3MzMzMJmJAmpmZmZkfZUBmZmZmZhhoQDMzMzMzEWtAAAAAAAAKbkBmZmZmZoFwQM3MzMzM/XFAMzMzMzN6c0CamZmZmfZ0QAAAAAAAc3ZAZmZmZmbvd0DNzMzMzGt5QDMzMzMz6HpAmpmZmZlkfEAAAAAAAOF9QGZmZmZmXX9AZmZmZuZsgECamZmZGSuBQM3MzMxM6YFAAAAAAICngkAzMzMzs2WDQGZmZmbmI4RAmpmZmRnihEDNzMzMTKCFQAAAAACAXoZAMzMzM7Mch0BmZmZm5tqHQJqZmZkZmYhAzczMzExXiUAAAAAAgBWKQDMzMzOz04pAZmZmZuaRi0CamZmZGVCMQM3MzMxMDo1AAAAAAIDMjUAzMzMzs4qOQGZmZmbmSI9A\",\"dtype\":\"float64\",\"shape\":[75]}},\"selected\":{\"id\":\"1841ade5-5d42-4357-8505-ff56975f3483\",\"type\":\"Selection\"},\"selection_policy\":{\"id\":\"31e9dc7c-fe01-4028-920b-73a576f86a2b\",\"type\":\"UnionRenderers\"}},\"id\":\"892d39d4-c13e-4b02-9a95-d929b5386ad5\",\"type\":\"ColumnDataSource\"},{\"attributes\":{},\"id\":\"c06ed5ce-b979-41a5-8318-260ffdba6f43\",\"type\":\"BasicTickFormatter\"},{\"attributes\":{\"ticker\":null},\"id\":\"a993837c-2df0-45ca-878f-f4d88cc8012e\",\"type\":\"LogTickFormatter\"},{\"attributes\":{},\"id\":\"28f1941a-1ed0-4aff-a3e9-8f82f62e5298\",\"type\":\"UnionRenderers\"},{\"attributes\":{\"callback\":null,\"end\":0.01,\"start\":1020},\"id\":\"18f44325-6ba5-4b31-b065-bbc94111b599\",\"type\":\"Range1d\"},{\"attributes\":{},\"id\":\"903de93b-c7a6-4688-a04c-2bd2d2dc9da0\",\"type\":\"Selection\"},{\"attributes\":{\"line_alpha\":0.6,\"line_color\":\"#e41a1c\",\"line_dash\":[6],\"line_width\":5,\"x\":{\"field\":\"x\"},\"y\":{\"field\":\"y\"}},\"id\":\"3b0a0c0f-9ef0-47df-b22a-92d11af8b19a\",\"type\":\"Line\"},{\"attributes\":{},\"id\":\"a778ee17-9902-49fb-b429-98e8423c049e\",\"type\":\"Selection\"},{\"attributes\":{},\"id\":\"7398f42c-c1b6-43f1-9cf4-8abf5b12dea3\",\"type\":\"LinearScale\"},{\"attributes\":{},\"id\":\"a6394ffc-ebef-41e1-8ce8-b5b3af8deab4\",\"type\":\"BasicTicker\"},{\"attributes\":{},\"id\":\"df82f014-8937-419f-8212-afc92990b5d1\",\"type\":\"UnionRenderers\"},{\"attributes\":{\"fill_alpha\":{\"value\":0.7},\"fill_color\":{\"value\":\"#4daf4a\"},\"line_alpha\":{\"value\":0.7},\"line_color\":{\"value\":\"#4daf4a\"},\"x\":{\"field\":\"x\"},\"y\":{\"field\":\"y\"}},\"id\":\"f6300481-3cc3-4543-a639-334b8bd7c72a\",\"type\":\"Circle\"},{\"attributes\":{\"children\":[{\"id\":\"c70924dd-2274-4467-83ad-cdac3178da4c\",\"type\":\"Row\"}]},\"id\":\"bd5802ff-25ef-4912-a1b3-4ff4ce47e32f\",\"type\":\"Column\"},{\"attributes\":{\"callback\":null,\"data\":{\"x\":{\"__ndarray__\":\"R/KIaN7AVEClCeJMyPNGQOvRhpxr30JAptxzhxx4PkA7SssMElA4QK6Bp3CyUDNAsVXpjES9LkBFhUV0+5coQMHYwqbbySNA6f09nM3nH0CaSd/3eYoZQDmgiAOW8BNAPYqARh3eDEBkm4vCgvr+P9D+5tWhQfY/P8DwKRnSAkBq38kb17ILQDT7IWuSsxFAUr2Rjm0FFkAinq3s9XgbQGCHwtYcqSFAG64kT303J0C7dRDneyooQD9JYrbK8yRA9S3bneHhIUAIymSuUMMcQIkHLe6VEBdAAau3cITREkA6CiNvkQIPQJU39ki7IQlAaAvwok1UA0BXLQiS4+L7P0xzDpJ2hPI/NNuPGMbJ5z91mUVYxqfSPxqwUPSxZca/G11peifD3L8QzNj5t2jTvwzOozTL360/SPJ4VI1VzD9KJ0nXEIncP8yDdlvHt+4/Et49nYLW9z++2teD4Jn+P+568eH/bwFALf5D9lmAAkCiZAicVOkCQPPT4jNKxwJAOjp3wTzBAUBSQsKNGisBQG4OmjqJwQBAJ3sZoHFuAEA5Ar0Sdi0AQGy4rw5+9f8/7W4nSrC3/z8mPr8zj4T/P4UYRHCQS/8/embVKYcF/z+5YXG+LLP+P/qb8BVUgf4/KvafTtyO/j/avAK1Ppv+PwJV9VVm2P0/JFtYlU/n/D9sN+q2fiX6Pw44e41PNPc/Opt+Z/wN9T+x3vcSW1vzP9ofvWQJlvI/8sciQQBW8j80sfkQa17yPzg5qng2r/I/Oh14WJBh8z+VZjnpctj0P6CcrSuCqQBA\",\"dtype\":\"float64\",\"shape\":[75]},\"y\":{\"__ndarray__\":\"GhExyth1ND/Sv8nbtpRIP2vylNV0PVE/aTum7souWD/At0SJ8fVgPw3Iuahxymc/MSNhhJWvcD/bTfBN02d3P2zb5nxnaoA/CD5h5MAGhz8NmeH1TyaQP+zrCsc9p5Y/LbKd76fGnz/bLW5ISEmmPww9YvTcQq8/JV2OstnstT8Er5Y7M8G+P0c+r3jqkcU/5h99k6ZBzj88bCIzFzjVP4enV8oyxN0//yH99nXg5D8qOpLLf0jtP5kqGJXUifQ/c9cS8kHP/D+/DpwzojQEQIEmwoanVwxA4lgXt9HgE0BSSZ2AJuIbQAMJih9jjiNA5q4l5INuK0AwTKYKRj0zQNv5fmq8/DpAaCJseHrtQkB/+zpwzoxKQM3MzMzMeFJAZmZmZmZqWEAAAAAAAFxeQM3MzMzMJmJAmpmZmZkfZUBmZmZmZhhoQDMzMzMzEWtAAAAAAAAKbkBmZmZmZoFwQM3MzMzM/XFAMzMzMzN6c0CamZmZmfZ0QAAAAAAAc3ZAZmZmZmbvd0DNzMzMzGt5QDMzMzMz6HpAmpmZmZlkfEAAAAAAAOF9QGZmZmZmXX9AZmZmZuZsgECamZmZGSuBQM3MzMxM6YFAAAAAAICngkAzMzMzs2WDQGZmZmbmI4RAmpmZmRnihEDNzMzMTKCFQAAAAACAXoZAMzMzM7Mch0BmZmZm5tqHQJqZmZkZmYhAzczMzExXiUAAAAAAgBWKQDMzMzOz04pAZmZmZuaRi0CamZmZGVCMQM3MzMxMDo1AAAAAAIDMjUAzMzMzs4qOQGZmZmbmSI9A\",\"dtype\":\"float64\",\"shape\":[75]}},\"selected\":{\"id\":\"45d9e417-2409-4345-9ee8-af42db7f34f3\",\"type\":\"Selection\"},\"selection_policy\":{\"id\":\"73ffdcda-11a6-4346-8a2f-0b364ab87aa9\",\"type\":\"UnionRenderers\"}},\"id\":\"46c4e3fb-c5f4-4323-becc-c14686327a3d\",\"type\":\"ColumnDataSource\"},{\"attributes\":{\"line_alpha\":0.8,\"line_color\":\"#984ea3\",\"line_width\":1.5,\"x\":{\"field\":\"x\"},\"y\":{\"field\":\"y\"}},\"id\":\"8fdd6b3e-f132-418a-81cc-9d762923473b\",\"type\":\"Line\"},{\"attributes\":{\"overlay\":{\"id\":\"70dcb3c0-1d10-4a0e-9777-2a4652b353b9\",\"type\":\"BoxAnnotation\"}},\"id\":\"0b9a4fdd-1040-4794-8f9d-72c626f0abab\",\"type\":\"BoxZoomTool\"},{\"attributes\":{\"ticker\":null},\"id\":\"103770e3-1150-4150-b70f-ac7e36767cb3\",\"type\":\"LogTickFormatter\"},{\"attributes\":{},\"id\":\"bc2cfab6-6b17-44b6-ade7-5a1950721f18\",\"type\":\"HelpTool\"},{\"attributes\":{},\"id\":\"a5f13204-27cc-4a9b-a7ce-7c3c8daf182a\",\"type\":\"UnionRenderers\"},{\"attributes\":{\"active_drag\":\"auto\",\"active_inspect\":\"auto\",\"active_scroll\":\"auto\",\"active_tap\":\"auto\",\"tools\":[{\"id\":\"0cddae4f-66db-4347-8707-4d4e3b5ce035\",\"type\":\"PanTool\"},{\"id\":\"6ea468b8-c230-48c2-8938-9682573c1738\",\"type\":\"WheelZoomTool\"},{\"id\":\"b05afbc0-99fe-4321-a5cf-746ed6af3bbe\",\"type\":\"BoxZoomTool\"},{\"id\":\"fede59bc-9216-4ce1-854f-0294b1a04968\",\"type\":\"SaveTool\"},{\"id\":\"dbca4547-461a-4ea3-b748-f42d034b614a\",\"type\":\"ResetTool\"},{\"id\":\"83aa4683-6e36-4e37-973f-224163d6568d\",\"type\":\"HelpTool\"}]},\"id\":\"9ca4a0d7-95e8-46f9-a2d6-cb9a24009806\",\"type\":\"Toolbar\"},{\"attributes\":{\"toolbar\":{\"id\":\"f0102d40-cd0d-47a5-a689-43f0d15e0fff\",\"type\":\"ProxyToolbar\"},\"toolbar_location\":\"above\"},\"id\":\"d5169004-9d2f-43e9-8378-0d9f1ffe5b2e\",\"type\":\"ToolbarBox\"},{\"attributes\":{\"items\":[{\"id\":\"3c6a4c83-6e7c-4c78-a8a6-0b1565f84625\",\"type\":\"LegendItem\"},{\"id\":\"daead0e4-045d-44ad-8e2c-d1259ea2593f\",\"type\":\"LegendItem\"}],\"label_text_font_size\":{\"value\":\"8pt\"},\"location\":\"top_center\",\"orientation\":\"horizontal\",\"plot\":{\"id\":\"544c0fae-34b8-4d2e-9bf0-7a54f81a8da4\",\"subtype\":\"Figure\",\"type\":\"Plot\"}},\"id\":\"1aacaea9-1f10-4b06-8be5-eafe5707e8e8\",\"type\":\"Legend\"},{\"attributes\":{\"data_source\":{\"id\":\"15865def-9a33-494b-97ef-201a5455b20f\",\"type\":\"ColumnDataSource\"},\"glyph\":{\"id\":\"0e22a735-5bde-4600-bd10-4e34c306eedc\",\"type\":\"Circle\"},\"hover_glyph\":null,\"muted_glyph\":null,\"nonselection_glyph\":{\"id\":\"22b238c7-4039-42d4-80db-27cd3274b7a0\",\"type\":\"Circle\"},\"selection_glyph\":null,\"view\":{\"id\":\"4bb01274-2d83-496f-8aa9-fafd929bd5cc\",\"type\":\"CDSView\"}},\"id\":\"f3357d25-5262-41c8-9fee-2a9bc83e4e0f\",\"type\":\"GlyphRenderer\"},{\"attributes\":{\"plot\":{\"id\":\"544c0fae-34b8-4d2e-9bf0-7a54f81a8da4\",\"subtype\":\"Figure\",\"type\":\"Plot\"},\"ticker\":{\"id\":\"a6394ffc-ebef-41e1-8ce8-b5b3af8deab4\",\"type\":\"BasicTicker\"}},\"id\":\"79c438d3-771c-4623-bc93-20b529594140\",\"type\":\"Grid\"},{\"attributes\":{\"tools\":[{\"id\":\"0cddae4f-66db-4347-8707-4d4e3b5ce035\",\"type\":\"PanTool\"},{\"id\":\"6ea468b8-c230-48c2-8938-9682573c1738\",\"type\":\"WheelZoomTool\"},{\"id\":\"b05afbc0-99fe-4321-a5cf-746ed6af3bbe\",\"type\":\"BoxZoomTool\"},{\"id\":\"fede59bc-9216-4ce1-854f-0294b1a04968\",\"type\":\"SaveTool\"},{\"id\":\"dbca4547-461a-4ea3-b748-f42d034b614a\",\"type\":\"ResetTool\"},{\"id\":\"83aa4683-6e36-4e37-973f-224163d6568d\",\"type\":\"HelpTool\"},{\"id\":\"2544ff8c-fa8b-4dc0-b6de-1487849eac11\",\"type\":\"PanTool\"},{\"id\":\"ce5a90bd-3f79-49ab-8eb3-f79efbed046c\",\"type\":\"WheelZoomTool\"},{\"id\":\"a818e981-e97c-420c-86d6-d5be8e6449a6\",\"type\":\"BoxZoomTool\"},{\"id\":\"5f135916-e2b5-4c52-86c2-d30e1ff34d0c\",\"type\":\"SaveTool\"},{\"id\":\"6cb2e731-5341-499b-9638-391a47ed405d\",\"type\":\"ResetTool\"},{\"id\":\"8926d5f3-8a58-4ca9-8742-ce79616404ea\",\"type\":\"HelpTool\"},{\"id\":\"d7de3b41-6d30-4474-b480-2a646963995c\",\"type\":\"PanTool\"},{\"id\":\"58247e07-bc1e-4fe9-a9f1-e90bd7f7dc78\",\"type\":\"WheelZoomTool\"},{\"id\":\"0b9a4fdd-1040-4794-8f9d-72c626f0abab\",\"type\":\"BoxZoomTool\"},{\"id\":\"e474a204-3d3e-4162-9416-247f89e67d7a\",\"type\":\"SaveTool\"},{\"id\":\"46c00c25-c25d-4cc0-8f2d-858f3099e2d4\",\"type\":\"ResetTool\"},{\"id\":\"bc2cfab6-6b17-44b6-ade7-5a1950721f18\",\"type\":\"HelpTool\"}]},\"id\":\"f0102d40-cd0d-47a5-a689-43f0d15e0fff\",\"type\":\"ProxyToolbar\"},{\"attributes\":{\"source\":{\"id\":\"d3fd338c-a123-44d4-b0df-a367d608f6da\",\"type\":\"ColumnDataSource\"}},\"id\":\"9932e204-058e-422e-ada9-0e2bd371b807\",\"type\":\"CDSView\"},{\"attributes\":{\"bottom_units\":\"screen\",\"fill_alpha\":{\"value\":0.5},\"fill_color\":{\"value\":\"lightgrey\"},\"left_units\":\"screen\",\"level\":\"overlay\",\"line_alpha\":{\"value\":1.0},\"line_color\":{\"value\":\"black\"},\"line_dash\":[4,4],\"line_width\":{\"value\":2},\"plot\":null,\"render_mode\":\"css\",\"right_units\":\"screen\",\"top_units\":\"screen\"},\"id\":\"70dcb3c0-1d10-4a0e-9777-2a4652b353b9\",\"type\":\"BoxAnnotation\"},{\"attributes\":{},\"id\":\"73ffdcda-11a6-4346-8a2f-0b364ab87aa9\",\"type\":\"UnionRenderers\"},{\"attributes\":{},\"id\":\"1841ade5-5d42-4357-8505-ff56975f3483\",\"type\":\"Selection\"},{\"attributes\":{\"axis_label\":\"cooling rate [K/day]\",\"formatter\":{\"id\":\"a0cea582-2471-43dd-81a0-034d15d04974\",\"type\":\"BasicTickFormatter\"},\"plot\":{\"id\":\"544c0fae-34b8-4d2e-9bf0-7a54f81a8da4\",\"subtype\":\"Figure\",\"type\":\"Plot\"},\"ticker\":{\"id\":\"a6394ffc-ebef-41e1-8ce8-b5b3af8deab4\",\"type\":\"BasicTicker\"}},\"id\":\"a3baa906-2343-4a0f-ba2e-718f92179259\",\"type\":\"LinearAxis\"},{\"attributes\":{},\"id\":\"6fb80aa4-2b86-490b-8cdc-8ae84e04066b\",\"type\":\"UnionRenderers\"},{\"attributes\":{},\"id\":\"e474a204-3d3e-4162-9416-247f89e67d7a\",\"type\":\"SaveTool\"},{\"attributes\":{\"data_source\":{\"id\":\"d3fd338c-a123-44d4-b0df-a367d608f6da\",\"type\":\"ColumnDataSource\"},\"glyph\":{\"id\":\"3b0a0c0f-9ef0-47df-b22a-92d11af8b19a\",\"type\":\"Line\"},\"hover_glyph\":null,\"muted_glyph\":null,\"nonselection_glyph\":{\"id\":\"be9dc44f-2f84-40d9-ae61-a0d86bc26104\",\"type\":\"Line\"},\"selection_glyph\":null,\"view\":{\"id\":\"9932e204-058e-422e-ada9-0e2bd371b807\",\"type\":\"CDSView\"}},\"id\":\"4754176e-2786-4658-88f9-3a081d773b7a\",\"type\":\"GlyphRenderer\"},{\"attributes\":{},\"id\":\"a0cea582-2471-43dd-81a0-034d15d04974\",\"type\":\"BasicTickFormatter\"},{\"attributes\":{\"fill_alpha\":{\"value\":0.1},\"fill_color\":{\"value\":\"#1f77b4\"},\"line_alpha\":{\"value\":0.1},\"line_color\":{\"value\":\"#1f77b4\"},\"x\":{\"field\":\"x\"},\"y\":{\"field\":\"y\"}},\"id\":\"d3a088b6-1e4e-4a69-bba8-d0f072c58590\",\"type\":\"Circle\"},{\"attributes\":{},\"id\":\"31e9dc7c-fe01-4028-920b-73a576f86a2b\",\"type\":\"UnionRenderers\"},{\"attributes\":{},\"id\":\"b4a7f306-37a6-4ecd-b8c6-096f54fa9004\",\"type\":\"Selection\"},{\"attributes\":{\"callback\":null,\"end\":12.209029918427628,\"start\":-0.6484134796306301},\"id\":\"fa6edcee-59eb-4eb5-98f4-deb9ab681c8a\",\"type\":\"Range1d\"}],\"root_ids\":[\"4b71f8d8-fe8b-4773-bbd3-ce31e273d922\"]},\"title\":\"Bokeh Application\",\"version\":\"0.12.16\"}};\n",
       "  var render_items = [{\"docid\":\"9a3e99a9-92a8-4362-8cd3-061cacf882bb\",\"elementid\":\"27fab41c-93c1-4260-be32-7b979394f934\",\"modelid\":\"4b71f8d8-fe8b-4773-bbd3-ce31e273d922\"}];\n",
       "  root.Bokeh.embed.embed_items_notebook(docs_json, render_items);\n",
       "\n",
       "  }\n",
       "  if (root.Bokeh !== undefined) {\n",
       "    embed_document(root);\n",
       "  } else {\n",
       "    var attempts = 0;\n",
       "    var timer = setInterval(function(root) {\n",
       "      if (root.Bokeh !== undefined) {\n",
       "        embed_document(root);\n",
       "        clearInterval(timer);\n",
       "      }\n",
       "      attempts++;\n",
       "      if (attempts > 100) {\n",
       "        console.log(\"Bokeh: ERROR: Unable to run BokehJS code because BokehJS library is missing\")\n",
       "        clearInterval(timer);\n",
       "      }\n",
       "    }, 10, root)\n",
       "  }\n",
       "})(window);"
      ],
      "application/vnd.bokehjs_exec.v0+json": ""
     },
     "metadata": {
      "application/vnd.bokehjs_exec.v0+json": {
       "id": "4b71f8d8-fe8b-4773-bbd3-ce31e273d922"
      }
     },
     "output_type": "display_data"
    },
    {
     "data": {
      "text/markdown": [
       "*FIGURE.* Cooling rates & difference."
      ],
      "text/plain": [
       "<IPython.core.display.Markdown object>"
      ]
     },
     "metadata": {},
     "output_type": "display_data"
    },
    {
     "data": {
      "text/html": [
       "<a id=\"Fluxes._trp.\"></a>"
      ],
      "text/plain": [
       "<IPython.core.display.HTML object>"
      ]
     },
     "metadata": {},
     "output_type": "display_data"
    },
    {
     "data": {
      "text/markdown": [
       "# Fluxes. trp."
      ],
      "text/plain": [
       "<IPython.core.display.Markdown object>"
      ]
     },
     "metadata": {},
     "output_type": "display_data"
    },
    {
     "data": {
      "text/html": [
       "\n",
       "<div class=\"bk-root\">\n",
       "    <div class=\"bk-plotdiv\" id=\"f4028165-b3ac-4c37-ac52-df7219650321\"></div>\n",
       "</div>"
      ]
     },
     "metadata": {},
     "output_type": "display_data"
    },
    {
     "data": {
      "application/javascript": [
       "(function(root) {\n",
       "  function embed_document(root) {\n",
       "    \n",
       "  var docs_json = {\"4b0fef68-473b-48a9-92fd-204c89557898\":{\"roots\":{\"references\":[{\"attributes\":{\"callback\":null,\"factors\":[\"1\",\"2\",\"3\",\"4\",\"5\",\"6\",\"7\",\"8\",\"9\",\"10\",\"11\"]},\"id\":\"98743882-ab7e-4a2c-a706-a654c94a35a9\",\"type\":\"FactorRange\"},{\"attributes\":{},\"id\":\"458468eb-0f87-46f5-8764-5fa1921225c1\",\"type\":\"CategoricalTicker\"},{\"attributes\":{\"source\":{\"id\":\"0e4a9737-bcd6-4de0-840f-675100331262\",\"type\":\"ColumnDataSource\"}},\"id\":\"97e15f36-ed0b-444b-b0a1-747718e11f9b\",\"type\":\"CDSView\"},{\"attributes\":{\"source\":{\"id\":\"ed72ee65-7f07-45ab-815a-9f244d224b5c\",\"type\":\"ColumnDataSource\"}},\"id\":\"e230aaf5-dac6-4d0e-8196-0789b569fe0c\",\"type\":\"CDSView\"},{\"attributes\":{\"callback\":null},\"id\":\"8af7adb2-1095-4d12-818b-028a7db36070\",\"type\":\"DataRange1d\"},{\"attributes\":{\"dimension\":1,\"plot\":{\"id\":\"c094f69f-2a7c-46cb-ba9c-04f9bd217b3d\",\"subtype\":\"Figure\",\"type\":\"Plot\"},\"ticker\":{\"id\":\"76c9196c-10e1-45cb-bedd-49b0faaef80c\",\"type\":\"BasicTicker\"}},\"id\":\"3edbc1cd-8aeb-4efe-9cae-a80588a98e4c\",\"type\":\"Grid\"},{\"attributes\":{},\"id\":\"63f7d2f3-9fc2-4d81-b794-27d7c74972f8\",\"type\":\"BasicTicker\"},{\"attributes\":{\"axis_label\":\"spectral band\",\"formatter\":{\"id\":\"1b4ae5e7-2713-43fc-bcc0-b00b7bd6e629\",\"type\":\"CategoricalTickFormatter\"},\"plot\":{\"id\":\"c094f69f-2a7c-46cb-ba9c-04f9bd217b3d\",\"subtype\":\"Figure\",\"type\":\"Plot\"},\"ticker\":{\"id\":\"458468eb-0f87-46f5-8764-5fa1921225c1\",\"type\":\"CategoricalTicker\"}},\"id\":\"58ee2054-ea53-4cc2-9f5d-4848920cc202\",\"type\":\"CategoricalAxis\"},{\"attributes\":{\"fill_alpha\":{\"value\":0.1},\"fill_color\":{\"value\":\"#1f77b4\"},\"line_alpha\":{\"value\":0.1},\"line_color\":{\"value\":\"#1f77b4\"},\"top\":{\"field\":\"flux\"},\"width\":{\"value\":0.9},\"x\":{\"field\":\"band\"}},\"id\":\"0a0373ac-a1f8-468e-bb01-22d4ce0d32ab\",\"type\":\"VBar\"},{\"attributes\":{\"callback\":null,\"factors\":[\"1\",\"2\",\"3\",\"4\",\"5\",\"6\",\"7\",\"8\",\"9\",\"10\",\"11\"]},\"id\":\"4e4d3e79-6ec5-46a5-affb-f8eed5670192\",\"type\":\"FactorRange\"},{\"attributes\":{\"active_drag\":\"auto\",\"active_inspect\":\"auto\",\"active_scroll\":\"auto\",\"active_tap\":\"auto\",\"tools\":[{\"id\":\"47941dea-ae7c-410f-8b83-5c715970d5aa\",\"type\":\"PanTool\"},{\"id\":\"331cef1c-c882-4be6-9c17-eee85b61f2cd\",\"type\":\"WheelZoomTool\"},{\"id\":\"5a9ff546-d055-4a7c-a730-b5e8eb5b95fc\",\"type\":\"BoxZoomTool\"},{\"id\":\"1a972290-898a-4bf4-b9bc-4ce6f3434892\",\"type\":\"SaveTool\"},{\"id\":\"25a57995-5ed7-4704-b6a2-3d12e15e2c08\",\"type\":\"ResetTool\"},{\"id\":\"82b44a43-3648-4b3e-b652-df1a5b644be6\",\"type\":\"HelpTool\"}]},\"id\":\"1e1470ef-c39e-4995-bafa-f1f0afed0230\",\"type\":\"Toolbar\"},{\"attributes\":{\"axis_label\":\"spectral band\",\"formatter\":{\"id\":\"4564048f-f735-459f-b137-8c19c5c22c14\",\"type\":\"CategoricalTickFormatter\"},\"plot\":{\"id\":\"db8b3552-bacd-4cff-b9f3-eb6d68af6218\",\"subtype\":\"Figure\",\"type\":\"Plot\"},\"ticker\":{\"id\":\"17a9843c-4267-4b13-8f3a-9f5bfa4cad7e\",\"type\":\"CategoricalTicker\"}},\"id\":\"293a1b43-855c-4c44-a4df-a8c67fe75778\",\"type\":\"CategoricalAxis\"},{\"attributes\":{},\"id\":\"72c021e6-b8ea-4c82-be8b-17be2cd356da\",\"type\":\"UnionRenderers\"},{\"attributes\":{},\"id\":\"6738c3a7-e413-4c1f-99b0-e65587b15172\",\"type\":\"PanTool\"},{\"attributes\":{\"plot\":null,\"text\":\"Atmosphere heating. CLIRAD - CRD.\"},\"id\":\"08f64b19-cc5d-4daf-8f53-60c40b8a97d1\",\"type\":\"Title\"},{\"attributes\":{\"plot\":null,\"text\":\"TOA flux. CLIRAD - CRD.\"},\"id\":\"7ef02ee7-aa12-41be-a226-da9d5fe0191b\",\"type\":\"Title\"},{\"attributes\":{\"callback\":null,\"data\":{\"band\":[\"1\",\"2\",\"3\",\"4\",\"5\",\"6\",\"7\",\"8\",\"9\",\"10\",\"11\"],\"flux\":{\"__ndarray__\":\"AEqFLU38yj8AArHPEEyyPwDPCxx1Gbm/AHHqf5AX2D8g1uJTAIzSv4AiMqzijd+/gGt9kdCWxT+A6Xk3FhTAv0BACX36GdC/QDwUw91ywD8AcylTcYipPw==\",\"dtype\":\"float64\",\"shape\":[11]}},\"selected\":{\"id\":\"d54d375e-4b07-47f1-9b23-8c7e0db03bb8\",\"type\":\"Selection\"},\"selection_policy\":{\"id\":\"c94eb0f5-8555-44f6-942a-d2d6eaef3ec4\",\"type\":\"UnionRenderers\"}},\"id\":\"ed72ee65-7f07-45ab-815a-9f244d224b5c\",\"type\":\"ColumnDataSource\"},{\"attributes\":{\"axis_label\":\"flux (W m-2)\",\"formatter\":{\"id\":\"bd772b53-d441-4169-9ce2-8eac3717a09c\",\"type\":\"BasicTickFormatter\"},\"plot\":{\"id\":\"db8b3552-bacd-4cff-b9f3-eb6d68af6218\",\"subtype\":\"Figure\",\"type\":\"Plot\"},\"ticker\":{\"id\":\"63f7d2f3-9fc2-4d81-b794-27d7c74972f8\",\"type\":\"BasicTicker\"}},\"id\":\"a6ab9d99-6d7a-427f-99f8-c9f3382d8ba4\",\"type\":\"LinearAxis\"},{\"attributes\":{},\"id\":\"4f7b561f-188c-485d-a72a-8956cf4098bd\",\"type\":\"BasicTicker\"},{\"attributes\":{\"axis_label\":\"spectral band\",\"formatter\":{\"id\":\"f0d8789e-5779-43b2-a8e6-7ce2cbcf2518\",\"type\":\"CategoricalTickFormatter\"},\"plot\":{\"id\":\"30fdca6e-2f17-43c7-9bdd-9b3eeaeeab27\",\"subtype\":\"Figure\",\"type\":\"Plot\"},\"ticker\":{\"id\":\"0b861d51-c31c-4cb8-b909-c05c798a8b15\",\"type\":\"CategoricalTicker\"}},\"id\":\"a198cf30-b401-4016-a369-7c3b0ac6e85e\",\"type\":\"CategoricalAxis\"},{\"attributes\":{\"fill_alpha\":{\"value\":0.1},\"fill_color\":{\"value\":\"#1f77b4\"},\"line_alpha\":{\"value\":0.1},\"line_color\":{\"value\":\"#1f77b4\"},\"top\":{\"field\":\"flux\"},\"width\":{\"value\":0.9},\"x\":{\"field\":\"band\"}},\"id\":\"c853f639-1d3b-4b6a-a3c6-be0183b31f8a\",\"type\":\"VBar\"},{\"attributes\":{\"callback\":null,\"data\":{\"band\":[\"1\",\"2\",\"3\",\"4\",\"5\",\"6\",\"7\",\"8\",\"9\",\"10\",\"11\"],\"flux\":{\"__ndarray__\":\"ALvVc9L7yj8A+yZNg6LUP4D2Bl+YTNO/oBKe0OtP2j+AxvfFpSrUPwAo5bUSuqO/gOo9ldOezj8Aic4yi1C8vwCymNh8XJs/oJog6j4Awj/AhD79DBS9Pw==\",\"dtype\":\"float64\",\"shape\":[11]}},\"selected\":{\"id\":\"90f9d894-a5c9-4deb-8047-b19e4730510d\",\"type\":\"Selection\"},\"selection_policy\":{\"id\":\"31d2cefc-da6f-46ab-af21-58629d3fefb0\",\"type\":\"UnionRenderers\"}},\"id\":\"0524e39d-b0bd-4e56-87c4-896167f9e2d4\",\"type\":\"ColumnDataSource\"},{\"attributes\":{\"callback\":null},\"id\":\"df568c98-3a30-4463-bbe5-60e99cfe995d\",\"type\":\"DataRange1d\"},{\"attributes\":{\"callback\":null,\"data\":{\"band\":[\"1\",\"2\",\"3\",\"4\",\"5\",\"6\",\"7\",\"8\",\"9\",\"10\",\"11\"],\"flux\":{\"__ndarray__\":\"AADADkbs874Asf1kjA/QPwCJuDmVDMq/ABz/PuPCoT9AQswlVVvjP2B9dVWgFt0/ACGfockPsj8AMLyS5LmOP4CtS43Qz9E/AED5u3fUiD9ASCdc2U+wPw==\",\"dtype\":\"float64\",\"shape\":[11]}},\"selected\":{\"id\":\"d1c41903-423c-489c-be34-096f6db0beee\",\"type\":\"Selection\"},\"selection_policy\":{\"id\":\"72c021e6-b8ea-4c82-be8b-17be2cd356da\",\"type\":\"UnionRenderers\"}},\"id\":\"0e4a9737-bcd6-4de0-840f-675100331262\",\"type\":\"ColumnDataSource\"},{\"attributes\":{\"children\":[{\"id\":\"2c4d2382-0dc3-4460-a092-6da2a3c1ebb7\",\"type\":\"ToolbarBox\"},{\"id\":\"6ca52af5-ff22-475e-8ae8-d636467344d1\",\"type\":\"Column\"}]},\"id\":\"d6ab2659-ce5f-4e3b-9c07-7fae376e506c\",\"type\":\"Column\"},{\"attributes\":{\"plot\":null,\"text\":\"SFC flux. CLIRAD - CRD.\"},\"id\":\"a52c8195-464c-4473-9a1f-77121804736e\",\"type\":\"Title\"},{\"attributes\":{\"dimension\":1,\"plot\":{\"id\":\"db8b3552-bacd-4cff-b9f3-eb6d68af6218\",\"subtype\":\"Figure\",\"type\":\"Plot\"},\"ticker\":{\"id\":\"63f7d2f3-9fc2-4d81-b794-27d7c74972f8\",\"type\":\"BasicTicker\"}},\"id\":\"2b41af9e-d0ef-4a79-809f-130dbdeab4b3\",\"type\":\"Grid\"},{\"attributes\":{\"tools\":[{\"id\":\"0aeb3ddb-ec66-43cc-b257-cdd10b916d20\",\"type\":\"PanTool\"},{\"id\":\"08ab48cd-5f1c-43b9-85e0-632e1df1192f\",\"type\":\"WheelZoomTool\"},{\"id\":\"2016a11c-5307-48d2-94d8-ba1cb5c63971\",\"type\":\"BoxZoomTool\"},{\"id\":\"9e39ae92-5811-4d90-957f-22429c0bda7c\",\"type\":\"SaveTool\"},{\"id\":\"7e7fa5e6-7ae9-4cac-883a-c30c8ca005fe\",\"type\":\"ResetTool\"},{\"id\":\"3adce575-7c5a-4bfe-bccb-c0d763f17e0a\",\"type\":\"HelpTool\"},{\"id\":\"47941dea-ae7c-410f-8b83-5c715970d5aa\",\"type\":\"PanTool\"},{\"id\":\"331cef1c-c882-4be6-9c17-eee85b61f2cd\",\"type\":\"WheelZoomTool\"},{\"id\":\"5a9ff546-d055-4a7c-a730-b5e8eb5b95fc\",\"type\":\"BoxZoomTool\"},{\"id\":\"1a972290-898a-4bf4-b9bc-4ce6f3434892\",\"type\":\"SaveTool\"},{\"id\":\"25a57995-5ed7-4704-b6a2-3d12e15e2c08\",\"type\":\"ResetTool\"},{\"id\":\"82b44a43-3648-4b3e-b652-df1a5b644be6\",\"type\":\"HelpTool\"},{\"id\":\"6738c3a7-e413-4c1f-99b0-e65587b15172\",\"type\":\"PanTool\"},{\"id\":\"3a00b654-9dbf-420c-b43a-d7e4eb94cae8\",\"type\":\"WheelZoomTool\"},{\"id\":\"619d12d3-22c9-4176-a9d1-4b941880f156\",\"type\":\"BoxZoomTool\"},{\"id\":\"c9874d03-ec46-4f2f-9b68-ac3039419200\",\"type\":\"SaveTool\"},{\"id\":\"0a922be0-90dc-48ba-861c-8e2147796daf\",\"type\":\"ResetTool\"},{\"id\":\"1e86a3e4-2025-4783-a568-46eb4edf42af\",\"type\":\"HelpTool\"}]},\"id\":\"39505eeb-9f6e-48c2-a0bf-232c0e595901\",\"type\":\"ProxyToolbar\"},{\"attributes\":{\"plot\":{\"id\":\"c094f69f-2a7c-46cb-ba9c-04f9bd217b3d\",\"subtype\":\"Figure\",\"type\":\"Plot\"},\"ticker\":{\"id\":\"458468eb-0f87-46f5-8764-5fa1921225c1\",\"type\":\"CategoricalTicker\"}},\"id\":\"b37beaf6-afd7-42bf-b696-ce45ffd5ba98\",\"type\":\"Grid\"},{\"attributes\":{},\"id\":\"4564048f-f735-459f-b137-8c19c5c22c14\",\"type\":\"CategoricalTickFormatter\"},{\"attributes\":{\"callback\":null,\"factors\":[\"1\",\"2\",\"3\",\"4\",\"5\",\"6\",\"7\",\"8\",\"9\",\"10\",\"11\"]},\"id\":\"a9f5c571-c6c6-4494-bb26-6cdb569eb30d\",\"type\":\"FactorRange\"},{\"attributes\":{\"fill_color\":{\"value\":\"#1f77b4\"},\"line_color\":{\"value\":\"#1f77b4\"},\"top\":{\"field\":\"flux\"},\"width\":{\"value\":0.9},\"x\":{\"field\":\"band\"}},\"id\":\"f1c90c2d-4f39-4ab6-8b05-de400b240e49\",\"type\":\"VBar\"},{\"attributes\":{},\"id\":\"bd772b53-d441-4169-9ce2-8eac3717a09c\",\"type\":\"BasicTickFormatter\"},{\"attributes\":{},\"id\":\"31d2cefc-da6f-46ab-af21-58629d3fefb0\",\"type\":\"UnionRenderers\"},{\"attributes\":{},\"id\":\"0aeb3ddb-ec66-43cc-b257-cdd10b916d20\",\"type\":\"PanTool\"},{\"attributes\":{},\"id\":\"331cef1c-c882-4be6-9c17-eee85b61f2cd\",\"type\":\"WheelZoomTool\"},{\"attributes\":{},\"id\":\"cbae4a8e-b447-4ff3-9cfe-dd97ca221011\",\"type\":\"BasicTickFormatter\"},{\"attributes\":{\"dimension\":1,\"plot\":{\"id\":\"30fdca6e-2f17-43c7-9bdd-9b3eeaeeab27\",\"subtype\":\"Figure\",\"type\":\"Plot\"},\"ticker\":{\"id\":\"4f7b561f-188c-485d-a72a-8956cf4098bd\",\"type\":\"BasicTicker\"}},\"id\":\"267cc986-b7a5-4432-9f83-57f113ce30ce\",\"type\":\"Grid\"},{\"attributes\":{\"axis_label\":\"flux (W m-2)\",\"formatter\":{\"id\":\"cbae4a8e-b447-4ff3-9cfe-dd97ca221011\",\"type\":\"BasicTickFormatter\"},\"plot\":{\"id\":\"c094f69f-2a7c-46cb-ba9c-04f9bd217b3d\",\"subtype\":\"Figure\",\"type\":\"Plot\"},\"ticker\":{\"id\":\"76c9196c-10e1-45cb-bedd-49b0faaef80c\",\"type\":\"BasicTicker\"}},\"id\":\"46e67ec5-f703-4706-a5bb-047a35d46ac4\",\"type\":\"LinearAxis\"},{\"attributes\":{},\"id\":\"63927fb1-25db-4358-813b-32e18ac58589\",\"type\":\"CategoricalScale\"},{\"attributes\":{},\"id\":\"e9f1c6e1-650e-4791-80f4-3f213adc8ca3\",\"type\":\"BasicTickFormatter\"},{\"attributes\":{},\"id\":\"d1c41903-423c-489c-be34-096f6db0beee\",\"type\":\"Selection\"},{\"attributes\":{},\"id\":\"0ab75765-0ef7-486f-bd6e-0017383dc6e3\",\"type\":\"LinearScale\"},{\"attributes\":{},\"id\":\"3adce575-7c5a-4bfe-bccb-c0d763f17e0a\",\"type\":\"HelpTool\"},{\"attributes\":{\"fill_color\":{\"value\":\"#1f77b4\"},\"line_color\":{\"value\":\"#1f77b4\"},\"top\":{\"field\":\"flux\"},\"width\":{\"value\":0.9},\"x\":{\"field\":\"band\"}},\"id\":\"e6f5f665-1076-458c-b0f7-dfd9fa7e499d\",\"type\":\"VBar\"},{\"attributes\":{},\"id\":\"17a9843c-4267-4b13-8f3a-9f5bfa4cad7e\",\"type\":\"CategoricalTicker\"},{\"attributes\":{\"active_drag\":\"auto\",\"active_inspect\":\"auto\",\"active_scroll\":\"auto\",\"active_tap\":\"auto\",\"tools\":[{\"id\":\"6738c3a7-e413-4c1f-99b0-e65587b15172\",\"type\":\"PanTool\"},{\"id\":\"3a00b654-9dbf-420c-b43a-d7e4eb94cae8\",\"type\":\"WheelZoomTool\"},{\"id\":\"619d12d3-22c9-4176-a9d1-4b941880f156\",\"type\":\"BoxZoomTool\"},{\"id\":\"c9874d03-ec46-4f2f-9b68-ac3039419200\",\"type\":\"SaveTool\"},{\"id\":\"0a922be0-90dc-48ba-861c-8e2147796daf\",\"type\":\"ResetTool\"},{\"id\":\"1e86a3e4-2025-4783-a568-46eb4edf42af\",\"type\":\"HelpTool\"}]},\"id\":\"dddacc9d-8a32-43a6-99bc-1c820a5f8905\",\"type\":\"Toolbar\"},{\"attributes\":{},\"id\":\"d54d375e-4b07-47f1-9b23-8c7e0db03bb8\",\"type\":\"Selection\"},{\"attributes\":{},\"id\":\"c94eb0f5-8555-44f6-942a-d2d6eaef3ec4\",\"type\":\"UnionRenderers\"},{\"attributes\":{},\"id\":\"f0d8789e-5779-43b2-a8e6-7ce2cbcf2518\",\"type\":\"CategoricalTickFormatter\"},{\"attributes\":{\"children\":[{\"id\":\"56ca9e81-8411-4c44-9700-c9471ca5e4af\",\"type\":\"Row\"}]},\"id\":\"6ca52af5-ff22-475e-8ae8-d636467344d1\",\"type\":\"Column\"},{\"attributes\":{},\"id\":\"1a972290-898a-4bf4-b9bc-4ce6f3434892\",\"type\":\"SaveTool\"},{\"attributes\":{},\"id\":\"82b44a43-3648-4b3e-b652-df1a5b644be6\",\"type\":\"HelpTool\"},{\"attributes\":{\"callback\":null},\"id\":\"b07cd708-73d9-42b1-91a2-3860dd582dfe\",\"type\":\"DataRange1d\"},{\"attributes\":{},\"id\":\"1b4ae5e7-2713-43fc-bcc0-b00b7bd6e629\",\"type\":\"CategoricalTickFormatter\"},{\"attributes\":{\"children\":[{\"id\":\"db8b3552-bacd-4cff-b9f3-eb6d68af6218\",\"subtype\":\"Figure\",\"type\":\"Plot\"},{\"id\":\"30fdca6e-2f17-43c7-9bdd-9b3eeaeeab27\",\"subtype\":\"Figure\",\"type\":\"Plot\"},{\"id\":\"c094f69f-2a7c-46cb-ba9c-04f9bd217b3d\",\"subtype\":\"Figure\",\"type\":\"Plot\"}]},\"id\":\"56ca9e81-8411-4c44-9700-c9471ca5e4af\",\"type\":\"Row\"},{\"attributes\":{\"overlay\":{\"id\":\"3bb16bd9-d2b5-4611-845a-e3ab60443776\",\"type\":\"BoxAnnotation\"}},\"id\":\"619d12d3-22c9-4176-a9d1-4b941880f156\",\"type\":\"BoxZoomTool\"},{\"attributes\":{\"bottom_units\":\"screen\",\"fill_alpha\":{\"value\":0.5},\"fill_color\":{\"value\":\"lightgrey\"},\"left_units\":\"screen\",\"level\":\"overlay\",\"line_alpha\":{\"value\":1.0},\"line_color\":{\"value\":\"black\"},\"line_dash\":[4,4],\"line_width\":{\"value\":2},\"plot\":null,\"render_mode\":\"css\",\"right_units\":\"screen\",\"top_units\":\"screen\"},\"id\":\"af7af963-e6ee-4e84-a6e8-45aa73d6f87d\",\"type\":\"BoxAnnotation\"},{\"attributes\":{},\"id\":\"08ab48cd-5f1c-43b9-85e0-632e1df1192f\",\"type\":\"WheelZoomTool\"},{\"attributes\":{\"toolbar\":{\"id\":\"39505eeb-9f6e-48c2-a0bf-232c0e595901\",\"type\":\"ProxyToolbar\"},\"toolbar_location\":\"above\"},\"id\":\"2c4d2382-0dc3-4460-a092-6da2a3c1ebb7\",\"type\":\"ToolbarBox\"},{\"attributes\":{},\"id\":\"1525e1d4-ad23-40c7-8a06-3fa0ce0970fe\",\"type\":\"CategoricalScale\"},{\"attributes\":{},\"id\":\"1e86a3e4-2025-4783-a568-46eb4edf42af\",\"type\":\"HelpTool\"},{\"attributes\":{\"data_source\":{\"id\":\"0524e39d-b0bd-4e56-87c4-896167f9e2d4\",\"type\":\"ColumnDataSource\"},\"glyph\":{\"id\":\"f1c90c2d-4f39-4ab6-8b05-de400b240e49\",\"type\":\"VBar\"},\"hover_glyph\":null,\"muted_glyph\":null,\"nonselection_glyph\":{\"id\":\"c853f639-1d3b-4b6a-a3c6-be0183b31f8a\",\"type\":\"VBar\"},\"selection_glyph\":null,\"view\":{\"id\":\"a2bffba9-6141-4618-b8ef-95f64bb0045c\",\"type\":\"CDSView\"}},\"id\":\"06e47c07-5e79-4a2a-98db-e11dbe407dea\",\"type\":\"GlyphRenderer\"},{\"attributes\":{\"data_source\":{\"id\":\"0e4a9737-bcd6-4de0-840f-675100331262\",\"type\":\"ColumnDataSource\"},\"glyph\":{\"id\":\"effb6a1b-6cf8-4ca0-854d-372a7eab1c12\",\"type\":\"VBar\"},\"hover_glyph\":null,\"muted_glyph\":null,\"nonselection_glyph\":{\"id\":\"75472a76-c8b3-44ed-aae2-a9cb635d55c8\",\"type\":\"VBar\"},\"selection_glyph\":null,\"view\":{\"id\":\"97e15f36-ed0b-444b-b0a1-747718e11f9b\",\"type\":\"CDSView\"}},\"id\":\"25a36978-ff45-4193-9ae4-16fb28ee28be\",\"type\":\"GlyphRenderer\"},{\"attributes\":{},\"id\":\"25a57995-5ed7-4704-b6a2-3d12e15e2c08\",\"type\":\"ResetTool\"},{\"attributes\":{\"fill_color\":{\"value\":\"#1f77b4\"},\"line_color\":{\"value\":\"#1f77b4\"},\"top\":{\"field\":\"flux\"},\"width\":{\"value\":0.9},\"x\":{\"field\":\"band\"}},\"id\":\"effb6a1b-6cf8-4ca0-854d-372a7eab1c12\",\"type\":\"VBar\"},{\"attributes\":{\"plot\":{\"id\":\"30fdca6e-2f17-43c7-9bdd-9b3eeaeeab27\",\"subtype\":\"Figure\",\"type\":\"Plot\"},\"ticker\":{\"id\":\"0b861d51-c31c-4cb8-b909-c05c798a8b15\",\"type\":\"CategoricalTicker\"}},\"id\":\"2928d980-0761-4acd-8dde-6cf4d999d75b\",\"type\":\"Grid\"},{\"attributes\":{},\"id\":\"36d8b080-5839-49af-b091-e78ae224ce9f\",\"type\":\"CategoricalScale\"},{\"attributes\":{},\"id\":\"90f9d894-a5c9-4deb-8047-b19e4730510d\",\"type\":\"Selection\"},{\"attributes\":{},\"id\":\"2b07dd46-c01a-4122-88bb-bc8b990edc74\",\"type\":\"LinearScale\"},{\"attributes\":{\"data_source\":{\"id\":\"ed72ee65-7f07-45ab-815a-9f244d224b5c\",\"type\":\"ColumnDataSource\"},\"glyph\":{\"id\":\"e6f5f665-1076-458c-b0f7-dfd9fa7e499d\",\"type\":\"VBar\"},\"hover_glyph\":null,\"muted_glyph\":null,\"nonselection_glyph\":{\"id\":\"0a0373ac-a1f8-468e-bb01-22d4ce0d32ab\",\"type\":\"VBar\"},\"selection_glyph\":null,\"view\":{\"id\":\"e230aaf5-dac6-4d0e-8196-0789b569fe0c\",\"type\":\"CDSView\"}},\"id\":\"e5aee251-fd8d-4c52-93ea-043e6e415bd1\",\"type\":\"GlyphRenderer\"},{\"attributes\":{},\"id\":\"0b861d51-c31c-4cb8-b909-c05c798a8b15\",\"type\":\"CategoricalTicker\"},{\"attributes\":{\"overlay\":{\"id\":\"995d19cc-40fd-4e00-a280-d7ce0d909193\",\"type\":\"BoxAnnotation\"}},\"id\":\"2016a11c-5307-48d2-94d8-ba1cb5c63971\",\"type\":\"BoxZoomTool\"},{\"attributes\":{},\"id\":\"47941dea-ae7c-410f-8b83-5c715970d5aa\",\"type\":\"PanTool\"},{\"attributes\":{\"below\":[{\"id\":\"293a1b43-855c-4c44-a4df-a8c67fe75778\",\"type\":\"CategoricalAxis\"}],\"left\":[{\"id\":\"a6ab9d99-6d7a-427f-99f8-c9f3382d8ba4\",\"type\":\"LinearAxis\"}],\"plot_height\":300,\"plot_width\":300,\"renderers\":[{\"id\":\"293a1b43-855c-4c44-a4df-a8c67fe75778\",\"type\":\"CategoricalAxis\"},{\"id\":\"cbe6ef36-43c7-4e01-b393-48a575f7febc\",\"type\":\"Grid\"},{\"id\":\"a6ab9d99-6d7a-427f-99f8-c9f3382d8ba4\",\"type\":\"LinearAxis\"},{\"id\":\"2b41af9e-d0ef-4a79-809f-130dbdeab4b3\",\"type\":\"Grid\"},{\"id\":\"995d19cc-40fd-4e00-a280-d7ce0d909193\",\"type\":\"BoxAnnotation\"},{\"id\":\"06e47c07-5e79-4a2a-98db-e11dbe407dea\",\"type\":\"GlyphRenderer\"}],\"title\":{\"id\":\"7ef02ee7-aa12-41be-a226-da9d5fe0191b\",\"type\":\"Title\"},\"toolbar\":{\"id\":\"3c320e7a-858e-4417-93ad-482a26f0e139\",\"type\":\"Toolbar\"},\"toolbar_location\":null,\"x_range\":{\"id\":\"4e4d3e79-6ec5-46a5-affb-f8eed5670192\",\"type\":\"FactorRange\"},\"x_scale\":{\"id\":\"36d8b080-5839-49af-b091-e78ae224ce9f\",\"type\":\"CategoricalScale\"},\"y_range\":{\"id\":\"8af7adb2-1095-4d12-818b-028a7db36070\",\"type\":\"DataRange1d\"},\"y_scale\":{\"id\":\"2b07dd46-c01a-4122-88bb-bc8b990edc74\",\"type\":\"LinearScale\"}},\"id\":\"db8b3552-bacd-4cff-b9f3-eb6d68af6218\",\"subtype\":\"Figure\",\"type\":\"Plot\"},{\"attributes\":{\"bottom_units\":\"screen\",\"fill_alpha\":{\"value\":0.5},\"fill_color\":{\"value\":\"lightgrey\"},\"left_units\":\"screen\",\"level\":\"overlay\",\"line_alpha\":{\"value\":1.0},\"line_color\":{\"value\":\"black\"},\"line_dash\":[4,4],\"line_width\":{\"value\":2},\"plot\":null,\"render_mode\":\"css\",\"right_units\":\"screen\",\"top_units\":\"screen\"},\"id\":\"3bb16bd9-d2b5-4611-845a-e3ab60443776\",\"type\":\"BoxAnnotation\"},{\"attributes\":{},\"id\":\"9e39ae92-5811-4d90-957f-22429c0bda7c\",\"type\":\"SaveTool\"},{\"attributes\":{\"bottom_units\":\"screen\",\"fill_alpha\":{\"value\":0.5},\"fill_color\":{\"value\":\"lightgrey\"},\"left_units\":\"screen\",\"level\":\"overlay\",\"line_alpha\":{\"value\":1.0},\"line_color\":{\"value\":\"black\"},\"line_dash\":[4,4],\"line_width\":{\"value\":2},\"plot\":null,\"render_mode\":\"css\",\"right_units\":\"screen\",\"top_units\":\"screen\"},\"id\":\"995d19cc-40fd-4e00-a280-d7ce0d909193\",\"type\":\"BoxAnnotation\"},{\"attributes\":{},\"id\":\"0a922be0-90dc-48ba-861c-8e2147796daf\",\"type\":\"ResetTool\"},{\"attributes\":{\"axis_label\":\"flux (W m-2)\",\"formatter\":{\"id\":\"e9f1c6e1-650e-4791-80f4-3f213adc8ca3\",\"type\":\"BasicTickFormatter\"},\"plot\":{\"id\":\"30fdca6e-2f17-43c7-9bdd-9b3eeaeeab27\",\"subtype\":\"Figure\",\"type\":\"Plot\"},\"ticker\":{\"id\":\"4f7b561f-188c-485d-a72a-8956cf4098bd\",\"type\":\"BasicTicker\"}},\"id\":\"d97dca9a-be1e-448f-bc83-7f61b6124590\",\"type\":\"LinearAxis\"},{\"attributes\":{},\"id\":\"7e7fa5e6-7ae9-4cac-883a-c30c8ca005fe\",\"type\":\"ResetTool\"},{\"attributes\":{\"fill_alpha\":{\"value\":0.1},\"fill_color\":{\"value\":\"#1f77b4\"},\"line_alpha\":{\"value\":0.1},\"line_color\":{\"value\":\"#1f77b4\"},\"top\":{\"field\":\"flux\"},\"width\":{\"value\":0.9},\"x\":{\"field\":\"band\"}},\"id\":\"75472a76-c8b3-44ed-aae2-a9cb635d55c8\",\"type\":\"VBar\"},{\"attributes\":{},\"id\":\"c9874d03-ec46-4f2f-9b68-ac3039419200\",\"type\":\"SaveTool\"},{\"attributes\":{\"active_drag\":\"auto\",\"active_inspect\":\"auto\",\"active_scroll\":\"auto\",\"active_tap\":\"auto\",\"tools\":[{\"id\":\"0aeb3ddb-ec66-43cc-b257-cdd10b916d20\",\"type\":\"PanTool\"},{\"id\":\"08ab48cd-5f1c-43b9-85e0-632e1df1192f\",\"type\":\"WheelZoomTool\"},{\"id\":\"2016a11c-5307-48d2-94d8-ba1cb5c63971\",\"type\":\"BoxZoomTool\"},{\"id\":\"9e39ae92-5811-4d90-957f-22429c0bda7c\",\"type\":\"SaveTool\"},{\"id\":\"7e7fa5e6-7ae9-4cac-883a-c30c8ca005fe\",\"type\":\"ResetTool\"},{\"id\":\"3adce575-7c5a-4bfe-bccb-c0d763f17e0a\",\"type\":\"HelpTool\"}]},\"id\":\"3c320e7a-858e-4417-93ad-482a26f0e139\",\"type\":\"Toolbar\"},{\"attributes\":{\"below\":[{\"id\":\"58ee2054-ea53-4cc2-9f5d-4848920cc202\",\"type\":\"CategoricalAxis\"}],\"left\":[{\"id\":\"46e67ec5-f703-4706-a5bb-047a35d46ac4\",\"type\":\"LinearAxis\"}],\"plot_height\":300,\"plot_width\":300,\"renderers\":[{\"id\":\"58ee2054-ea53-4cc2-9f5d-4848920cc202\",\"type\":\"CategoricalAxis\"},{\"id\":\"b37beaf6-afd7-42bf-b696-ce45ffd5ba98\",\"type\":\"Grid\"},{\"id\":\"46e67ec5-f703-4706-a5bb-047a35d46ac4\",\"type\":\"LinearAxis\"},{\"id\":\"3edbc1cd-8aeb-4efe-9cae-a80588a98e4c\",\"type\":\"Grid\"},{\"id\":\"3bb16bd9-d2b5-4611-845a-e3ab60443776\",\"type\":\"BoxAnnotation\"},{\"id\":\"e5aee251-fd8d-4c52-93ea-043e6e415bd1\",\"type\":\"GlyphRenderer\"}],\"title\":{\"id\":\"08f64b19-cc5d-4daf-8f53-60c40b8a97d1\",\"type\":\"Title\"},\"toolbar\":{\"id\":\"dddacc9d-8a32-43a6-99bc-1c820a5f8905\",\"type\":\"Toolbar\"},\"toolbar_location\":null,\"x_range\":{\"id\":\"a9f5c571-c6c6-4494-bb26-6cdb569eb30d\",\"type\":\"FactorRange\"},\"x_scale\":{\"id\":\"1525e1d4-ad23-40c7-8a06-3fa0ce0970fe\",\"type\":\"CategoricalScale\"},\"y_range\":{\"id\":\"b07cd708-73d9-42b1-91a2-3860dd582dfe\",\"type\":\"DataRange1d\"},\"y_scale\":{\"id\":\"0ab75765-0ef7-486f-bd6e-0017383dc6e3\",\"type\":\"LinearScale\"}},\"id\":\"c094f69f-2a7c-46cb-ba9c-04f9bd217b3d\",\"subtype\":\"Figure\",\"type\":\"Plot\"},{\"attributes\":{},\"id\":\"3a00b654-9dbf-420c-b43a-d7e4eb94cae8\",\"type\":\"WheelZoomTool\"},{\"attributes\":{\"source\":{\"id\":\"0524e39d-b0bd-4e56-87c4-896167f9e2d4\",\"type\":\"ColumnDataSource\"}},\"id\":\"a2bffba9-6141-4618-b8ef-95f64bb0045c\",\"type\":\"CDSView\"},{\"attributes\":{\"plot\":{\"id\":\"db8b3552-bacd-4cff-b9f3-eb6d68af6218\",\"subtype\":\"Figure\",\"type\":\"Plot\"},\"ticker\":{\"id\":\"17a9843c-4267-4b13-8f3a-9f5bfa4cad7e\",\"type\":\"CategoricalTicker\"}},\"id\":\"cbe6ef36-43c7-4e01-b393-48a575f7febc\",\"type\":\"Grid\"},{\"attributes\":{\"overlay\":{\"id\":\"af7af963-e6ee-4e84-a6e8-45aa73d6f87d\",\"type\":\"BoxAnnotation\"}},\"id\":\"5a9ff546-d055-4a7c-a730-b5e8eb5b95fc\",\"type\":\"BoxZoomTool\"},{\"attributes\":{},\"id\":\"76c9196c-10e1-45cb-bedd-49b0faaef80c\",\"type\":\"BasicTicker\"},{\"attributes\":{\"below\":[{\"id\":\"a198cf30-b401-4016-a369-7c3b0ac6e85e\",\"type\":\"CategoricalAxis\"}],\"left\":[{\"id\":\"d97dca9a-be1e-448f-bc83-7f61b6124590\",\"type\":\"LinearAxis\"}],\"plot_height\":300,\"plot_width\":300,\"renderers\":[{\"id\":\"a198cf30-b401-4016-a369-7c3b0ac6e85e\",\"type\":\"CategoricalAxis\"},{\"id\":\"2928d980-0761-4acd-8dde-6cf4d999d75b\",\"type\":\"Grid\"},{\"id\":\"d97dca9a-be1e-448f-bc83-7f61b6124590\",\"type\":\"LinearAxis\"},{\"id\":\"267cc986-b7a5-4432-9f83-57f113ce30ce\",\"type\":\"Grid\"},{\"id\":\"af7af963-e6ee-4e84-a6e8-45aa73d6f87d\",\"type\":\"BoxAnnotation\"},{\"id\":\"25a36978-ff45-4193-9ae4-16fb28ee28be\",\"type\":\"GlyphRenderer\"}],\"title\":{\"id\":\"a52c8195-464c-4473-9a1f-77121804736e\",\"type\":\"Title\"},\"toolbar\":{\"id\":\"1e1470ef-c39e-4995-bafa-f1f0afed0230\",\"type\":\"Toolbar\"},\"toolbar_location\":null,\"x_range\":{\"id\":\"98743882-ab7e-4a2c-a706-a654c94a35a9\",\"type\":\"FactorRange\"},\"x_scale\":{\"id\":\"63927fb1-25db-4358-813b-32e18ac58589\",\"type\":\"CategoricalScale\"},\"y_range\":{\"id\":\"df568c98-3a30-4463-bbe5-60e99cfe995d\",\"type\":\"DataRange1d\"},\"y_scale\":{\"id\":\"3ef34cee-c55e-4b4c-82dc-4fdcf9201732\",\"type\":\"LinearScale\"}},\"id\":\"30fdca6e-2f17-43c7-9bdd-9b3eeaeeab27\",\"subtype\":\"Figure\",\"type\":\"Plot\"},{\"attributes\":{},\"id\":\"3ef34cee-c55e-4b4c-82dc-4fdcf9201732\",\"type\":\"LinearScale\"}],\"root_ids\":[\"d6ab2659-ce5f-4e3b-9c07-7fae376e506c\"]},\"title\":\"Bokeh Application\",\"version\":\"0.12.16\"}};\n",
       "  var render_items = [{\"docid\":\"4b0fef68-473b-48a9-92fd-204c89557898\",\"elementid\":\"f4028165-b3ac-4c37-ac52-df7219650321\",\"modelid\":\"d6ab2659-ce5f-4e3b-9c07-7fae376e506c\"}];\n",
       "  root.Bokeh.embed.embed_items_notebook(docs_json, render_items);\n",
       "\n",
       "  }\n",
       "  if (root.Bokeh !== undefined) {\n",
       "    embed_document(root);\n",
       "  } else {\n",
       "    var attempts = 0;\n",
       "    var timer = setInterval(function(root) {\n",
       "      if (root.Bokeh !== undefined) {\n",
       "        embed_document(root);\n",
       "        clearInterval(timer);\n",
       "      }\n",
       "      attempts++;\n",
       "      if (attempts > 100) {\n",
       "        console.log(\"Bokeh: ERROR: Unable to run BokehJS code because BokehJS library is missing\")\n",
       "        clearInterval(timer);\n",
       "      }\n",
       "    }, 10, root)\n",
       "  }\n",
       "})(window);"
      ],
      "application/vnd.bokehjs_exec.v0+json": ""
     },
     "metadata": {
      "application/vnd.bokehjs_exec.v0+json": {
       "id": "d6ab2659-ce5f-4e3b-9c07-7fae376e506c"
      }
     },
     "output_type": "display_data"
    },
    {
     "data": {
      "text/markdown": [
       "*FIGURE.* Difference between CLIRAD and CRD in TOA, SFC and net atmosphere flux, in each spectral band."
      ],
      "text/plain": [
       "<IPython.core.display.Markdown object>"
      ]
     },
     "metadata": {},
     "output_type": "display_data"
    },
    {
     "data": {
      "text/html": [
       "<div>\n",
       "<style scoped>\n",
       "    .dataframe tbody tr th:only-of-type {\n",
       "        vertical-align: middle;\n",
       "    }\n",
       "\n",
       "    .dataframe tbody tr th {\n",
       "        vertical-align: top;\n",
       "    }\n",
       "\n",
       "    .dataframe thead th {\n",
       "        text-align: right;\n",
       "    }\n",
       "</style>\n",
       "<table border=\"1\" class=\"dataframe\">\n",
       "  <thead>\n",
       "    <tr style=\"text-align: right;\">\n",
       "      <th></th>\n",
       "      <th>OLR flux</th>\n",
       "      <th>SFC flux</th>\n",
       "      <th>ATM heating</th>\n",
       "    </tr>\n",
       "    <tr>\n",
       "      <th>Sum over bands</th>\n",
       "      <th></th>\n",
       "      <th></th>\n",
       "      <th></th>\n",
       "    </tr>\n",
       "  </thead>\n",
       "  <tbody>\n",
       "    <tr>\n",
       "      <th>CLIRAD - CRD</th>\n",
       "      <td>1.33</td>\n",
       "      <td>1.58</td>\n",
       "      <td>-0.25</td>\n",
       "    </tr>\n",
       "    <tr>\n",
       "      <th>CRD</th>\n",
       "      <td>-303.40</td>\n",
       "      <td>337.24</td>\n",
       "      <td>-181.37</td>\n",
       "    </tr>\n",
       "  </tbody>\n",
       "</table>\n",
       "</div>"
      ],
      "text/plain": [
       "                OLR flux  SFC flux  ATM heating\n",
       "Sum over bands                                 \n",
       "CLIRAD - CRD        1.33      1.58        -0.25\n",
       "CRD              -303.40    337.24      -181.37"
      ]
     },
     "metadata": {},
     "output_type": "display_data"
    },
    {
     "data": {
      "text/markdown": [
       "*TABLE.* Difference between CLIRAD and CRD in TOA, SFC and net atmosphere flux, over all spectral bands. CRD's TOA, SFC and net atmosphere flux, over all spectral bands."
      ],
      "text/plain": [
       "<IPython.core.display.Markdown object>"
      ]
     },
     "metadata": {},
     "output_type": "display_data"
    },
    {
     "data": {
      "text/html": [
       "Download: <a href=\"./results_atm_cliradsinglerun-Copy2.xlsx\">results_atm_cliradsinglerun-Copy2.xlsx</a>"
      ],
      "text/plain": [
       "<IPython.core.display.HTML object>"
      ]
     },
     "metadata": {},
     "output_type": "display_data"
    }
   ],
   "source": [
    "def script():\n",
    "    \n",
    "    d_atm = {'mls': 'mid-latitude summer',\n",
    "             'saw': 'sub-arctic winter',\n",
    "             'trp': 'tropical'}\n",
    "    \n",
    "    title = ('## Results over entire range of molecules'\n",
    "             ' and spectral bands')\n",
    "    \n",
    "    s_makeup = 'Makeup of atmosphere.'\n",
    "    s_atmpro = '# {}'\n",
    "    s_cool = 'Cooling rates. {}.'\n",
    "    s_flux = 'Fluxes. {}.'\n",
    "    \n",
    "    atmpros = ['mls', 'saw', 'trp']\n",
    "    \n",
    "    # TOC\n",
    "    show_markdown(title)\n",
    "    show_markdown('### Table of Contents')\n",
    "    show_html(climahtml.getHTML_hrefanchor(s_makeup))\n",
    "    for atmpro in atmpros:\n",
    "        show_markdown('**' + d_atm[atmpro] + '**')\n",
    "        show_html(climahtml.getHTML_hrefanchor(s_cool.format(atmpro)))\n",
    "        show_html(climahtml.getHTML_hrefanchor(s_flux.format(atmpro)))\n",
    "\n",
    "        \n",
    "    # Atmosphere makeup\n",
    "    show_html(climahtml.getHTML_idanchor(s_makeup))\n",
    "    show_markdown(climahtml.getMarkdown_sectitle(s_makeup))\n",
    "    show_makeup()\n",
    "#    show_grey_makeup()\n",
    "        \n",
    "    for atmpro in atmpros:\n",
    "        show_html(climahtml.getHTML_idanchor(s_cool.format(atmpro)))\n",
    "        show_markdown(\n",
    "            climahtml.getMarkdown_sectitle(s_cool.format(atmpro)))\n",
    "        show_cool(atmpro=atmpro)\n",
    "        show_html(climahtml.getHTML_idanchor(s_flux.format(atmpro)))\n",
    "        show_markdown(\n",
    "            climahtml.getMarkdown_sectitle(s_flux.format(atmpro)))\n",
    "        show_hist_flux(atmpro=atmpro)\n",
    "        show_tb_flux(atmpro=atmpro)\n",
    "    \n",
    "    script_tofile()\n",
    "    \n",
    "script()  "
   ]
  },
  {
   "cell_type": "code",
   "execution_count": null,
   "metadata": {
    "collapsed": true
   },
   "outputs": [],
   "source": []
  },
  {
   "cell_type": "code",
   "execution_count": 129,
   "metadata": {},
   "outputs": [
    {
     "data": {
      "text/html": [
       "<script>\n",
       "code_show=true; \n",
       "function code_toggle() {\n",
       " if (code_show){\n",
       " $('div.input').hide();\n",
       " } else {\n",
       " $('div.input').show();\n",
       " }\n",
       " code_show = !code_show\n",
       "} \n",
       "$( document ).ready(code_toggle);\n",
       "</script>\n",
       "<form action=\"javascript:code_toggle()\"><input type=\"submit\" value=\"Click here to toggle on/off the raw code.\"></form>"
      ],
      "text/plain": [
       "<IPython.core.display.HTML object>"
      ]
     },
     "execution_count": 129,
     "metadata": {},
     "output_type": "execute_result"
    }
   ],
   "source": [
    "display.HTML('''<script>\n",
    "code_show=true; \n",
    "function code_toggle() {\n",
    " if (code_show){\n",
    " $('div.input').hide();\n",
    " } else {\n",
    " $('div.input').show();\n",
    " }\n",
    " code_show = !code_show\n",
    "} \n",
    "$( document ).ready(code_toggle);\n",
    "</script>\n",
    "<form action=\"javascript:code_toggle()\"><input type=\"submit\" value=\"Click here to toggle on/off the raw code.\"></form>''')"
   ]
  },
  {
   "cell_type": "code",
   "execution_count": null,
   "metadata": {
    "collapsed": true
   },
   "outputs": [],
   "source": []
  }
 ],
 "metadata": {
  "kernelspec": {
   "display_name": "Python 3",
   "language": "python",
   "name": "python3"
  },
  "language_info": {
   "codemirror_mode": {
    "name": "ipython",
    "version": 3
   },
   "file_extension": ".py",
   "mimetype": "text/x-python",
   "name": "python",
   "nbconvert_exporter": "python",
   "pygments_lexer": "ipython3",
   "version": "3.6.1"
  }
 },
 "nbformat": 4,
 "nbformat_minor": 2
}
