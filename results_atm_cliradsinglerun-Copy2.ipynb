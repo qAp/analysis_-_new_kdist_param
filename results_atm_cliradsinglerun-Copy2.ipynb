{
 "cells": [
  {
   "cell_type": "code",
   "execution_count": 349,
   "metadata": {
    "collapsed": true
   },
   "outputs": [],
   "source": [
    "%reload_ext autoreload\n",
    "%autoreload 2\n",
    "\n",
    "import os\n",
    "import io\n",
    "import ast\n",
    "import json\n",
    "import importlib \n",
    "import itertools\n",
    "import collections\n",
    "import pprint\n",
    "\n",
    "import pymongo\n",
    "\n",
    "from bokeh.io import output_notebook, show\n",
    "from bokeh.layouts import gridplot\n",
    "from bokeh.plotting import figure\n",
    "from bokeh.models import Range1d, Legend, ColumnDataSource, FactorRange\n",
    "from bokeh.palettes import all_palettes\n",
    "from bokeh.transform import factor_cmap\n",
    "\n",
    "import matplotlib\n",
    "import matplotlib.pyplot as plt\n",
    "import numpy as np\n",
    "import pandas as pd\n",
    "import xarray as xr\n",
    "\n",
    "from climatools.atm.absorbers import *\n",
    "\n",
    "import climatools.lblnew.bestfit_params as bestfits\n",
    "from climatools.lblnew import setup_bestfit, setup_overlap\n",
    "import climatools.lblnew.pipeline as pipe_lblnew\n",
    "\n",
    "from climatools.cliradlw.utils import *\n",
    "import climatools.cliradlw.setup as setup_cliradlw\n",
    "import climatools.cliradlw.pipeline as pipe_cliradlw\n",
    "from climatools.cliradlw.dataset import *\n",
    "\n",
    "import climatools.html.html as climahtml\n",
    "from climatools.lblnew.dataio import *\n",
    "from climatools.plot.plot import *\n",
    "\n",
    "from IPython import display"
   ]
  },
  {
   "cell_type": "code",
   "execution_count": 350,
   "metadata": {
    "scrolled": true
   },
   "outputs": [
    {
     "data": {
      "text/html": [
       "\n",
       "    <div class=\"bk-root\">\n",
       "        <a href=\"https://bokeh.pydata.org\" target=\"_blank\" class=\"bk-logo bk-logo-small bk-logo-notebook\"></a>\n",
       "        <span id=\"41486034-7dcc-4bee-9c71-b5bc3156b8d5\">Loading BokehJS ...</span>\n",
       "    </div>"
      ]
     },
     "metadata": {},
     "output_type": "display_data"
    },
    {
     "data": {
      "application/javascript": [
       "\n",
       "(function(root) {\n",
       "  function now() {\n",
       "    return new Date();\n",
       "  }\n",
       "\n",
       "  var force = true;\n",
       "\n",
       "  if (typeof (root._bokeh_onload_callbacks) === \"undefined\" || force === true) {\n",
       "    root._bokeh_onload_callbacks = [];\n",
       "    root._bokeh_is_loading = undefined;\n",
       "  }\n",
       "\n",
       "  var JS_MIME_TYPE = 'application/javascript';\n",
       "  var HTML_MIME_TYPE = 'text/html';\n",
       "  var EXEC_MIME_TYPE = 'application/vnd.bokehjs_exec.v0+json';\n",
       "  var CLASS_NAME = 'output_bokeh rendered_html';\n",
       "\n",
       "  /**\n",
       "   * Render data to the DOM node\n",
       "   */\n",
       "  function render(props, node) {\n",
       "    var script = document.createElement(\"script\");\n",
       "    node.appendChild(script);\n",
       "  }\n",
       "\n",
       "  /**\n",
       "   * Handle when an output is cleared or removed\n",
       "   */\n",
       "  function handleClearOutput(event, handle) {\n",
       "    var cell = handle.cell;\n",
       "\n",
       "    var id = cell.output_area._bokeh_element_id;\n",
       "    var server_id = cell.output_area._bokeh_server_id;\n",
       "    // Clean up Bokeh references\n",
       "    if (id !== undefined) {\n",
       "      Bokeh.index[id].model.document.clear();\n",
       "      delete Bokeh.index[id];\n",
       "    }\n",
       "\n",
       "    if (server_id !== undefined) {\n",
       "      // Clean up Bokeh references\n",
       "      var cmd = \"from bokeh.io.state import curstate; print(curstate().uuid_to_server['\" + server_id + \"'].get_sessions()[0].document.roots[0]._id)\";\n",
       "      cell.notebook.kernel.execute(cmd, {\n",
       "        iopub: {\n",
       "          output: function(msg) {\n",
       "            var element_id = msg.content.text.trim();\n",
       "            Bokeh.index[element_id].model.document.clear();\n",
       "            delete Bokeh.index[element_id];\n",
       "          }\n",
       "        }\n",
       "      });\n",
       "      // Destroy server and session\n",
       "      var cmd = \"import bokeh.io.notebook as ion; ion.destroy_server('\" + server_id + \"')\";\n",
       "      cell.notebook.kernel.execute(cmd);\n",
       "    }\n",
       "  }\n",
       "\n",
       "  /**\n",
       "   * Handle when a new output is added\n",
       "   */\n",
       "  function handleAddOutput(event, handle) {\n",
       "    var output_area = handle.output_area;\n",
       "    var output = handle.output;\n",
       "\n",
       "    // limit handleAddOutput to display_data with EXEC_MIME_TYPE content only\n",
       "    if ((output.output_type != \"display_data\") || (!output.data.hasOwnProperty(EXEC_MIME_TYPE))) {\n",
       "      return\n",
       "    }\n",
       "\n",
       "    var toinsert = output_area.element.find(\".\" + CLASS_NAME.split(' ')[0]);\n",
       "\n",
       "    if (output.metadata[EXEC_MIME_TYPE][\"id\"] !== undefined) {\n",
       "      toinsert[toinsert.length - 1].firstChild.textContent = output.data[JS_MIME_TYPE];\n",
       "      // store reference to embed id on output_area\n",
       "      output_area._bokeh_element_id = output.metadata[EXEC_MIME_TYPE][\"id\"];\n",
       "    }\n",
       "    if (output.metadata[EXEC_MIME_TYPE][\"server_id\"] !== undefined) {\n",
       "      var bk_div = document.createElement(\"div\");\n",
       "      bk_div.innerHTML = output.data[HTML_MIME_TYPE];\n",
       "      var script_attrs = bk_div.children[0].attributes;\n",
       "      for (var i = 0; i < script_attrs.length; i++) {\n",
       "        toinsert[toinsert.length - 1].firstChild.setAttribute(script_attrs[i].name, script_attrs[i].value);\n",
       "      }\n",
       "      // store reference to server id on output_area\n",
       "      output_area._bokeh_server_id = output.metadata[EXEC_MIME_TYPE][\"server_id\"];\n",
       "    }\n",
       "  }\n",
       "\n",
       "  function register_renderer(events, OutputArea) {\n",
       "\n",
       "    function append_mime(data, metadata, element) {\n",
       "      // create a DOM node to render to\n",
       "      var toinsert = this.create_output_subarea(\n",
       "        metadata,\n",
       "        CLASS_NAME,\n",
       "        EXEC_MIME_TYPE\n",
       "      );\n",
       "      this.keyboard_manager.register_events(toinsert);\n",
       "      // Render to node\n",
       "      var props = {data: data, metadata: metadata[EXEC_MIME_TYPE]};\n",
       "      render(props, toinsert[toinsert.length - 1]);\n",
       "      element.append(toinsert);\n",
       "      return toinsert\n",
       "    }\n",
       "\n",
       "    /* Handle when an output is cleared or removed */\n",
       "    events.on('clear_output.CodeCell', handleClearOutput);\n",
       "    events.on('delete.Cell', handleClearOutput);\n",
       "\n",
       "    /* Handle when a new output is added */\n",
       "    events.on('output_added.OutputArea', handleAddOutput);\n",
       "\n",
       "    /**\n",
       "     * Register the mime type and append_mime function with output_area\n",
       "     */\n",
       "    OutputArea.prototype.register_mime_type(EXEC_MIME_TYPE, append_mime, {\n",
       "      /* Is output safe? */\n",
       "      safe: true,\n",
       "      /* Index of renderer in `output_area.display_order` */\n",
       "      index: 0\n",
       "    });\n",
       "  }\n",
       "\n",
       "  // register the mime type if in Jupyter Notebook environment and previously unregistered\n",
       "  if (root.Jupyter !== undefined) {\n",
       "    var events = require('base/js/events');\n",
       "    var OutputArea = require('notebook/js/outputarea').OutputArea;\n",
       "\n",
       "    if (OutputArea.prototype.mime_types().indexOf(EXEC_MIME_TYPE) == -1) {\n",
       "      register_renderer(events, OutputArea);\n",
       "    }\n",
       "  }\n",
       "\n",
       "  \n",
       "  if (typeof (root._bokeh_timeout) === \"undefined\" || force === true) {\n",
       "    root._bokeh_timeout = Date.now() + 5000;\n",
       "    root._bokeh_failed_load = false;\n",
       "  }\n",
       "\n",
       "  var NB_LOAD_WARNING = {'data': {'text/html':\n",
       "     \"<div style='background-color: #fdd'>\\n\"+\n",
       "     \"<p>\\n\"+\n",
       "     \"BokehJS does not appear to have successfully loaded. If loading BokehJS from CDN, this \\n\"+\n",
       "     \"may be due to a slow or bad network connection. Possible fixes:\\n\"+\n",
       "     \"</p>\\n\"+\n",
       "     \"<ul>\\n\"+\n",
       "     \"<li>re-rerun `output_notebook()` to attempt to load from CDN again, or</li>\\n\"+\n",
       "     \"<li>use INLINE resources instead, as so:</li>\\n\"+\n",
       "     \"</ul>\\n\"+\n",
       "     \"<code>\\n\"+\n",
       "     \"from bokeh.resources import INLINE\\n\"+\n",
       "     \"output_notebook(resources=INLINE)\\n\"+\n",
       "     \"</code>\\n\"+\n",
       "     \"</div>\"}};\n",
       "\n",
       "  function display_loaded() {\n",
       "    var el = document.getElementById(\"41486034-7dcc-4bee-9c71-b5bc3156b8d5\");\n",
       "    if (el != null) {\n",
       "      el.textContent = \"BokehJS is loading...\";\n",
       "    }\n",
       "    if (root.Bokeh !== undefined) {\n",
       "      if (el != null) {\n",
       "        el.textContent = \"BokehJS \" + root.Bokeh.version + \" successfully loaded.\";\n",
       "      }\n",
       "    } else if (Date.now() < root._bokeh_timeout) {\n",
       "      setTimeout(display_loaded, 100)\n",
       "    }\n",
       "  }\n",
       "\n",
       "\n",
       "  function run_callbacks() {\n",
       "    try {\n",
       "      root._bokeh_onload_callbacks.forEach(function(callback) { callback() });\n",
       "    }\n",
       "    finally {\n",
       "      delete root._bokeh_onload_callbacks\n",
       "    }\n",
       "    console.info(\"Bokeh: all callbacks have finished\");\n",
       "  }\n",
       "\n",
       "  function load_libs(js_urls, callback) {\n",
       "    root._bokeh_onload_callbacks.push(callback);\n",
       "    if (root._bokeh_is_loading > 0) {\n",
       "      console.log(\"Bokeh: BokehJS is being loaded, scheduling callback at\", now());\n",
       "      return null;\n",
       "    }\n",
       "    if (js_urls == null || js_urls.length === 0) {\n",
       "      run_callbacks();\n",
       "      return null;\n",
       "    }\n",
       "    console.log(\"Bokeh: BokehJS not loaded, scheduling load and callback at\", now());\n",
       "    root._bokeh_is_loading = js_urls.length;\n",
       "    for (var i = 0; i < js_urls.length; i++) {\n",
       "      var url = js_urls[i];\n",
       "      var s = document.createElement('script');\n",
       "      s.src = url;\n",
       "      s.async = false;\n",
       "      s.onreadystatechange = s.onload = function() {\n",
       "        root._bokeh_is_loading--;\n",
       "        if (root._bokeh_is_loading === 0) {\n",
       "          console.log(\"Bokeh: all BokehJS libraries loaded\");\n",
       "          run_callbacks()\n",
       "        }\n",
       "      };\n",
       "      s.onerror = function() {\n",
       "        console.warn(\"failed to load library \" + url);\n",
       "      };\n",
       "      console.log(\"Bokeh: injecting script tag for BokehJS library: \", url);\n",
       "      document.getElementsByTagName(\"head\")[0].appendChild(s);\n",
       "    }\n",
       "  };var element = document.getElementById(\"41486034-7dcc-4bee-9c71-b5bc3156b8d5\");\n",
       "  if (element == null) {\n",
       "    console.log(\"Bokeh: ERROR: autoload.js configured with elementid '41486034-7dcc-4bee-9c71-b5bc3156b8d5' but no matching script tag was found. \")\n",
       "    return false;\n",
       "  }\n",
       "\n",
       "  var js_urls = [\"https://cdn.pydata.org/bokeh/release/bokeh-0.12.16.min.js\", \"https://cdn.pydata.org/bokeh/release/bokeh-widgets-0.12.16.min.js\", \"https://cdn.pydata.org/bokeh/release/bokeh-tables-0.12.16.min.js\", \"https://cdn.pydata.org/bokeh/release/bokeh-gl-0.12.16.min.js\"];\n",
       "\n",
       "  var inline_js = [\n",
       "    function(Bokeh) {\n",
       "      Bokeh.set_log_level(\"info\");\n",
       "    },\n",
       "    \n",
       "    function(Bokeh) {\n",
       "      \n",
       "    },\n",
       "    function(Bokeh) {\n",
       "      console.log(\"Bokeh: injecting CSS: https://cdn.pydata.org/bokeh/release/bokeh-0.12.16.min.css\");\n",
       "      Bokeh.embed.inject_css(\"https://cdn.pydata.org/bokeh/release/bokeh-0.12.16.min.css\");\n",
       "      console.log(\"Bokeh: injecting CSS: https://cdn.pydata.org/bokeh/release/bokeh-widgets-0.12.16.min.css\");\n",
       "      Bokeh.embed.inject_css(\"https://cdn.pydata.org/bokeh/release/bokeh-widgets-0.12.16.min.css\");\n",
       "      console.log(\"Bokeh: injecting CSS: https://cdn.pydata.org/bokeh/release/bokeh-tables-0.12.16.min.css\");\n",
       "      Bokeh.embed.inject_css(\"https://cdn.pydata.org/bokeh/release/bokeh-tables-0.12.16.min.css\");\n",
       "    }\n",
       "  ];\n",
       "\n",
       "  function run_inline_js() {\n",
       "    \n",
       "    if ((root.Bokeh !== undefined) || (force === true)) {\n",
       "      for (var i = 0; i < inline_js.length; i++) {\n",
       "        inline_js[i].call(root, root.Bokeh);\n",
       "      }if (force === true) {\n",
       "        display_loaded();\n",
       "      }} else if (Date.now() < root._bokeh_timeout) {\n",
       "      setTimeout(run_inline_js, 100);\n",
       "    } else if (!root._bokeh_failed_load) {\n",
       "      console.log(\"Bokeh: BokehJS failed to load within specified timeout.\");\n",
       "      root._bokeh_failed_load = true;\n",
       "    } else if (force !== true) {\n",
       "      var cell = $(document.getElementById(\"41486034-7dcc-4bee-9c71-b5bc3156b8d5\")).parents('.cell').data().cell;\n",
       "      cell.output_area.append_execute_result(NB_LOAD_WARNING)\n",
       "    }\n",
       "\n",
       "  }\n",
       "\n",
       "  if (root._bokeh_is_loading === 0) {\n",
       "    console.log(\"Bokeh: BokehJS loaded, going straight to plotting\");\n",
       "    run_inline_js();\n",
       "  } else {\n",
       "    load_libs(js_urls, function() {\n",
       "      console.log(\"Bokeh: BokehJS plotting callback run at\", now());\n",
       "      run_inline_js();\n",
       "    });\n",
       "  }\n",
       "}(window));"
      ],
      "application/vnd.bokehjs_load.v0+json": "\n(function(root) {\n  function now() {\n    return new Date();\n  }\n\n  var force = true;\n\n  if (typeof (root._bokeh_onload_callbacks) === \"undefined\" || force === true) {\n    root._bokeh_onload_callbacks = [];\n    root._bokeh_is_loading = undefined;\n  }\n\n  \n\n  \n  if (typeof (root._bokeh_timeout) === \"undefined\" || force === true) {\n    root._bokeh_timeout = Date.now() + 5000;\n    root._bokeh_failed_load = false;\n  }\n\n  var NB_LOAD_WARNING = {'data': {'text/html':\n     \"<div style='background-color: #fdd'>\\n\"+\n     \"<p>\\n\"+\n     \"BokehJS does not appear to have successfully loaded. If loading BokehJS from CDN, this \\n\"+\n     \"may be due to a slow or bad network connection. Possible fixes:\\n\"+\n     \"</p>\\n\"+\n     \"<ul>\\n\"+\n     \"<li>re-rerun `output_notebook()` to attempt to load from CDN again, or</li>\\n\"+\n     \"<li>use INLINE resources instead, as so:</li>\\n\"+\n     \"</ul>\\n\"+\n     \"<code>\\n\"+\n     \"from bokeh.resources import INLINE\\n\"+\n     \"output_notebook(resources=INLINE)\\n\"+\n     \"</code>\\n\"+\n     \"</div>\"}};\n\n  function display_loaded() {\n    var el = document.getElementById(\"41486034-7dcc-4bee-9c71-b5bc3156b8d5\");\n    if (el != null) {\n      el.textContent = \"BokehJS is loading...\";\n    }\n    if (root.Bokeh !== undefined) {\n      if (el != null) {\n        el.textContent = \"BokehJS \" + root.Bokeh.version + \" successfully loaded.\";\n      }\n    } else if (Date.now() < root._bokeh_timeout) {\n      setTimeout(display_loaded, 100)\n    }\n  }\n\n\n  function run_callbacks() {\n    try {\n      root._bokeh_onload_callbacks.forEach(function(callback) { callback() });\n    }\n    finally {\n      delete root._bokeh_onload_callbacks\n    }\n    console.info(\"Bokeh: all callbacks have finished\");\n  }\n\n  function load_libs(js_urls, callback) {\n    root._bokeh_onload_callbacks.push(callback);\n    if (root._bokeh_is_loading > 0) {\n      console.log(\"Bokeh: BokehJS is being loaded, scheduling callback at\", now());\n      return null;\n    }\n    if (js_urls == null || js_urls.length === 0) {\n      run_callbacks();\n      return null;\n    }\n    console.log(\"Bokeh: BokehJS not loaded, scheduling load and callback at\", now());\n    root._bokeh_is_loading = js_urls.length;\n    for (var i = 0; i < js_urls.length; i++) {\n      var url = js_urls[i];\n      var s = document.createElement('script');\n      s.src = url;\n      s.async = false;\n      s.onreadystatechange = s.onload = function() {\n        root._bokeh_is_loading--;\n        if (root._bokeh_is_loading === 0) {\n          console.log(\"Bokeh: all BokehJS libraries loaded\");\n          run_callbacks()\n        }\n      };\n      s.onerror = function() {\n        console.warn(\"failed to load library \" + url);\n      };\n      console.log(\"Bokeh: injecting script tag for BokehJS library: \", url);\n      document.getElementsByTagName(\"head\")[0].appendChild(s);\n    }\n  };var element = document.getElementById(\"41486034-7dcc-4bee-9c71-b5bc3156b8d5\");\n  if (element == null) {\n    console.log(\"Bokeh: ERROR: autoload.js configured with elementid '41486034-7dcc-4bee-9c71-b5bc3156b8d5' but no matching script tag was found. \")\n    return false;\n  }\n\n  var js_urls = [\"https://cdn.pydata.org/bokeh/release/bokeh-0.12.16.min.js\", \"https://cdn.pydata.org/bokeh/release/bokeh-widgets-0.12.16.min.js\", \"https://cdn.pydata.org/bokeh/release/bokeh-tables-0.12.16.min.js\", \"https://cdn.pydata.org/bokeh/release/bokeh-gl-0.12.16.min.js\"];\n\n  var inline_js = [\n    function(Bokeh) {\n      Bokeh.set_log_level(\"info\");\n    },\n    \n    function(Bokeh) {\n      \n    },\n    function(Bokeh) {\n      console.log(\"Bokeh: injecting CSS: https://cdn.pydata.org/bokeh/release/bokeh-0.12.16.min.css\");\n      Bokeh.embed.inject_css(\"https://cdn.pydata.org/bokeh/release/bokeh-0.12.16.min.css\");\n      console.log(\"Bokeh: injecting CSS: https://cdn.pydata.org/bokeh/release/bokeh-widgets-0.12.16.min.css\");\n      Bokeh.embed.inject_css(\"https://cdn.pydata.org/bokeh/release/bokeh-widgets-0.12.16.min.css\");\n      console.log(\"Bokeh: injecting CSS: https://cdn.pydata.org/bokeh/release/bokeh-tables-0.12.16.min.css\");\n      Bokeh.embed.inject_css(\"https://cdn.pydata.org/bokeh/release/bokeh-tables-0.12.16.min.css\");\n    }\n  ];\n\n  function run_inline_js() {\n    \n    if ((root.Bokeh !== undefined) || (force === true)) {\n      for (var i = 0; i < inline_js.length; i++) {\n        inline_js[i].call(root, root.Bokeh);\n      }if (force === true) {\n        display_loaded();\n      }} else if (Date.now() < root._bokeh_timeout) {\n      setTimeout(run_inline_js, 100);\n    } else if (!root._bokeh_failed_load) {\n      console.log(\"Bokeh: BokehJS failed to load within specified timeout.\");\n      root._bokeh_failed_load = true;\n    } else if (force !== true) {\n      var cell = $(document.getElementById(\"41486034-7dcc-4bee-9c71-b5bc3156b8d5\")).parents('.cell').data().cell;\n      cell.output_area.append_execute_result(NB_LOAD_WARNING)\n    }\n\n  }\n\n  if (root._bokeh_is_loading === 0) {\n    console.log(\"Bokeh: BokehJS loaded, going straight to plotting\");\n    run_inline_js();\n  } else {\n    load_libs(js_urls, function() {\n      console.log(\"Bokeh: BokehJS plotting callback run at\", now());\n      run_inline_js();\n    });\n  }\n}(window));"
     },
     "metadata": {},
     "output_type": "display_data"
    }
   ],
   "source": [
    "output_notebook()"
   ]
  },
  {
   "cell_type": "code",
   "execution_count": 351,
   "metadata": {
    "collapsed": true
   },
   "outputs": [],
   "source": [
    "ATMPRO = dict(mls=294, saw=257, trp=300)"
   ]
  },
  {
   "cell_type": "code",
   "execution_count": 352,
   "metadata": {
    "collapsed": true
   },
   "outputs": [],
   "source": [
    "COMMITNUMBER = '1013f91'"
   ]
  },
  {
   "cell_type": "code",
   "execution_count": 353,
   "metadata": {
    "collapsed": true
   },
   "outputs": [],
   "source": [
    "client = pymongo.MongoClient('localhost', 27017)"
   ]
  },
  {
   "cell_type": "code",
   "execution_count": 354,
   "metadata": {
    "collapsed": true
   },
   "outputs": [],
   "source": [
    "def show_html(s):\n",
    "    display.display(display.HTML(s))\n",
    "\n",
    "    \n",
    "def show_markdown(s):\n",
    "    display.display(display.Markdown(s))"
   ]
  },
  {
   "cell_type": "code",
   "execution_count": 355,
   "metadata": {
    "collapsed": true
   },
   "outputs": [],
   "source": [
    "def to_lblnewparam(param=None):\n",
    "    '''\n",
    "    Convert clirad's input parameter dictionary \n",
    "    into something like lblnew's.\n",
    "    '''\n",
    "    band = param['band'][0]\n",
    "    band = mapband_new2old()[band]\n",
    "    atmpro = param['atmpro']\n",
    "    tsfc = param['tsfc']\n",
    "    \n",
    "    p = {'band': band, \n",
    "         'atmpro': atmpro, 'tsfc': tsfc,\n",
    "         'dv': .001, 'nv': 1000}\n",
    "    \n",
    "    if len(param['molecule']) > 1: p['molecule'] = param['molecule']\n",
    "    else: \n",
    "        molecule, conc = list(param['molecule'].items())[0]\n",
    "        p['molecule'] = molecule\n",
    "        if conc == 'atmpro': p['conc'] = None\n",
    "        else: p['conc'] = conc\n",
    "    return p\n",
    "\n",
    "def make_query(param=None):\n",
    "    q = {}\n",
    "    for n, v in param.items():\n",
    "        if n == 'molecule' and type(v) == dict:\n",
    "            for mol, conc in v.items():\n",
    "                q[f'param.molecule.{mol}'] = conc\n",
    "        else:\n",
    "            q[f'param.{n}'] = v\n",
    "    return q"
   ]
  },
  {
   "cell_type": "code",
   "execution_count": 356,
   "metadata": {},
   "outputs": [],
   "source": [
    "def subparam_atm_clirad(atmpro='mls'):\n",
    "    commitnumber = COMMITNUMBER\n",
    "    atm = nongreys_byband()\n",
    "    band = list(atm.keys())\n",
    "    molecule = {mol: conc for _, molconcs in atm.items() \n",
    "                for mol, conc in molconcs.items()}\n",
    "    return dict(commitnumber=commitnumber,\n",
    "                band=band, molecule=molecule, \n",
    "                atmpro=atmpro, tsfc=ATMPRO[atmpro])\n",
    "\n",
    "def clirad_data_atm(params_atm=None):\n",
    "    for p in params_atm:\n",
    "        q = make_query(p)\n",
    "        r = client.cliradnew.lw.find_one(q)\n",
    "        fluxs, cools = [], []\n",
    "        if not r: print('No data found for', p['molecule'], p['band'])\n",
    "        else: \n",
    "            fluxs.append(load_output_file(io.StringIO(r['output_flux'])))\n",
    "            cools.append(load_output_file(io.StringIO(r['output_coolr'])))\n",
    "    return dict(flux=sum(fluxs), cool=sum(cools))"
   ]
  },
  {
   "cell_type": "code",
   "execution_count": 357,
   "metadata": {
    "scrolled": false
   },
   "outputs": [],
   "source": [
    "def load_lblnew_data(r):\n",
    "    '''\n",
    "    Loads a lblnew-bestfit mongodb document's fluxes and cooling rates.\n",
    "    '''\n",
    "    if 'ng_refs' in r['param']:\n",
    "        ns = {'ds_flux_crd': 'output_flux',\n",
    "              'ds_cool_crd': 'output_coolr',\n",
    "              'ds_flux_wgt': 'output_wfluxg',\n",
    "              'ds_cool_wgt': 'output_wcoolrg'}\n",
    "    else:\n",
    "        ns = {'ds_flux_crd': 'output_flux',\n",
    "              'ds_cool_crd': 'output_coolr',\n",
    "              'ds_flux_wgt': 'output_wflux',\n",
    "              'ds_cool_wgt': 'output_wcoolr'}\n",
    "    return {n: load_output_file(io.StringIO(r[s])) for n, s in ns.items()}\n",
    "\n",
    "def subparams_atm_lblnew(atmpro='mls'):\n",
    "    '''\n",
    "    Returns the list of {band, conc, molecule} dictionaries that\n",
    "    represent the model atmosphere.\n",
    "    '''  \n",
    "    atm = nongreys_byband()\n",
    "    subparams_clirad = [dict(band=[band], molecule=molconc,\n",
    "                             atmpro=atmpro, tsfc=ATMPRO[atmpro]) \n",
    "                        for band, molconc in atm.items()]\n",
    "    return [to_lblnewparam(p) for p in subparams_clirad]\n",
    "\n",
    "def crd_data_atm(params_atm=None):\n",
    "    '''\n",
    "    Returns Dataset containing CRD fluxes and cooling rates at\n",
    "    different pressures and spectral bands.\n",
    "    '''\n",
    "    results_atm = {}\n",
    "    for p in params_atm:\n",
    "        if isinstance(p['molecule'], dict): \n",
    "            collection = client.lblnew.overlap_lw\n",
    "        else: \n",
    "            collection = client.lblnew.bestfit_lw\n",
    "        \n",
    "        q = make_query(p)\n",
    "        r = collection.find_one(q)\n",
    "        if not r: print('No data found for', p['molecule'], p['band'])\n",
    "        else: results_atm[r['param']['band']] = load_lblnew_data(r)\n",
    "\n",
    "    bands = [mapband_old2new()[b] for b, _ in results_atm.items()]\n",
    "    fluxs = [d['ds_flux_crd'] for _, d in results_atm.items()]\n",
    "    cools = [d['ds_cool_crd'] for _, d in results_atm.items()]\n",
    "    \n",
    "    d = {}\n",
    "    d['flux'] = xr.concat(fluxs, dim=bands).rename({'concat_dim': 'band'})\n",
    "    d['cool'] = xr.concat(cools, dim=bands).rename({'concat_dim': 'band'})\n",
    "    return d"
   ]
  },
  {
   "cell_type": "code",
   "execution_count": 358,
   "metadata": {
    "collapsed": true
   },
   "outputs": [],
   "source": [
    "import rtmtools.clirad.sw.wrangle as cliradwrangle\n",
    "\n",
    "def oldclirad_data_atm():\n",
    "    '''\n",
    "    Load the OLD clirad's results. mls only.\n",
    "    '''\n",
    "    fpath = os.path.join('/chia_cluster/home/jackyu/radiation',\n",
    "                         'clirad-lw',\n",
    "                         'LW',\n",
    "                         'examples',\n",
    "                         'mls75_h2o_atmpro_co2_.0004_o3_atmpro_n2o_3.2e-7_ch4_1.8e-6_H2012',\n",
    "                         'OUTPUT_CLIRAD.dat')\n",
    "    \n",
    "    ds = cliradwrangle.load_OUTPUT_CLIRAD(readfrom=fpath)\n",
    "    \n",
    "    ds_cool = xr.Dataset()\n",
    "    ds_cool.coords['pressure'] = ('pressure', ds['layer_pressure'])\n",
    "    ds_cool.coords['band'] = ('band', ds['spectral_band'])\n",
    "    ds_cool['coolrg'] = (('band', 'pressure'), - ds['heating_rate'])\n",
    "    \n",
    "    ds_flux = xr.Dataset()\n",
    "    ds_flux.coords['pressure'] = ('pressure', ds['level_pressure'])\n",
    "    ds_flux.coords['band'] = ('band', ds['spectral_band'])\n",
    "    ds_flux['flug'] = (('band', 'pressure'), ds['flux_up'])\n",
    "    ds_flux['fldg'] = (('band', 'pressure'), ds['flux_down'])\n",
    "    ds_flux['fnetg'] = (('band', 'pressure'), ds['net_flux'])\n",
    "    \n",
    "    \n",
    "    d = {}\n",
    "    d['cool'] = ds_cool\n",
    "    d['flux'] = ds_flux\n",
    "    return d"
   ]
  },
  {
   "cell_type": "code",
   "execution_count": 359,
   "metadata": {
    "collapsed": true
   },
   "outputs": [],
   "source": [
    "def show_makeup():\n",
    "    df = pd.DataFrame()\n",
    "\n",
    "    for band, molecule in nongreys_byband().items():\n",
    "        for name, conc in molecule.items():\n",
    "            df.loc[name, band] = str(conc)\n",
    "\n",
    "    df = df.fillna(0)\n",
    "    df.columns.name = 'clirad band'\n",
    "    df.index.name = 'molecule'\n",
    "    \n",
    "    display.display(df)\n",
    "    \n",
    "    display.display(\n",
    "        display.Markdown('*TABLE.* Non-grey absorbers in the atmosphere.'))\n",
    "\n",
    "\n",
    "def show_grey_makeup():\n",
    "    df = pd.DataFrame()\n",
    "    \n",
    "    for band, molecule in greyabsorbers_by_band_atm().items():\n",
    "        if molecule == None:\n",
    "            pass\n",
    "        else:\n",
    "            for name, conc in molecule.items():\n",
    "                df.loc[name, band] = str(conc)\n",
    "                \n",
    "    df = df.fillna(0)\n",
    "    df.columns.name = 'clirad band'\n",
    "    df.index.name = 'absorber'\n",
    "    \n",
    "    display.display(df)\n",
    "    display.display(\n",
    "        display.Markdown('*TABLE.* Grey absorbers in the atmosphere.')\n",
    "    )"
   ]
  },
  {
   "cell_type": "code",
   "execution_count": 360,
   "metadata": {
    "collapsed": true
   },
   "outputs": [],
   "source": [
    "def fmt_cool(ds_in):\n",
    "    ds = ds_in.copy(deep=True)\n",
    "    dims = ['igg', 'g', 'i']\n",
    "    for dim in dims:\n",
    "        if dim in ds:\n",
    "            if ds[dim].shape == (1,): ds = ds.squeeze(dim).drop(dim)\n",
    "            elif ds[dim].shape == (): ds = ds.drop(dim)\n",
    "    if 'band' in ds.dims:\n",
    "        try:\n",
    "            ds = ds.squeeze('band')\n",
    "        except ValueError:\n",
    "            ds = ds.sum('band')     \n",
    "    return ds['coolrg']\n",
    "\n",
    "def nice_xlims(pltdata=None, prange=None):\n",
    "    \n",
    "    def get_slice(srs):\n",
    "        return srs.sel(pressure=slice(*prange))\n",
    "    \n",
    "    srss = [d['srs'] for d in pltdata]\n",
    "    vmin = min([get_slice(srs).min() for srs in srss])\n",
    "    vmax = max([get_slice(srs).max() for srs in srss])\n",
    "    dv = (vmax - vmin) * .01\n",
    "    return float(vmin - dv), float(vmax + dv)\n",
    "\n",
    "\n",
    "    \n",
    "def plt_cool_bokeh(pltdata=None, \n",
    "                   y_axis_type='linear', prange=(50, 1050)):\n",
    "    \n",
    "    ymin = 1e-2 \n",
    "    ymax = 1020\n",
    "    \n",
    "    p2 = figure(y_axis_type=y_axis_type, plot_width=300)\n",
    "    xmin, xmax = nice_xlims(pltdata, prange=prange)\n",
    "    \n",
    "    rs = []\n",
    "    for d in pltdata:\n",
    "        rd = []\n",
    "        if 'marker' in d:\n",
    "            r_mark = getattr(p2, d['marker'])(d['srs'].values, \n",
    "                        d['srs'].coords['pressure'].values,\n",
    "                        color=d['color'], alpha=.7)\n",
    "            rd.append(r_mark)\n",
    "        r_line = p2.line(d['srs'].values, \n",
    "                         d['srs'].coords['pressure'].values,\n",
    "                         color=d['color'], alpha=d['alpha'], \n",
    "                         line_width=d['line_width'], \n",
    "                         line_dash=d['line_dash'])\n",
    "        rd.append(r_line)\n",
    "      \n",
    "        rs.append(rd)\n",
    "        \n",
    "    p2.y_range = Range1d(ymax, ymin)  \n",
    "    p2.yaxis.axis_label = 'pressure [mb]'\n",
    "    \n",
    "    p2.x_range = Range1d(xmin, xmax)\n",
    "    p2.xaxis.axis_label = 'cooling rate [K/day]'\n",
    "    \n",
    "    items = [(d['label'], r) for r, d in zip(rs, pltdata)]\n",
    "    legend = Legend(items=items, location=(10, 0))\n",
    "    legend.label_text_font_size = '8pt'\n",
    "    p2.add_layout(legend, 'above')\n",
    "    p2.legend.orientation = 'horizontal'\n",
    "    p2.legend.location = 'top_center'\n",
    "    \n",
    "    return p2"
   ]
  },
  {
   "cell_type": "code",
   "execution_count": 361,
   "metadata": {
    "scrolled": false
   },
   "outputs": [],
   "source": [
    "def pltdata_cool(atmpro='mls'):\n",
    "    ds_clirad = clirad_data_atm(params_atm=[subparam_atm_clirad(atmpro=atmpro)])['cool']\n",
    "    ds_crd = crd_data_atm(params_atm=subparams_atm_lblnew(atmpro=atmpro))['cool']\n",
    "\n",
    "    colors = all_palettes['Set1'][4]\n",
    "    \n",
    "    data = [\n",
    "        {'label': 'CLIRAD',\n",
    "         'srs': fmt_cool(ds_clirad),\n",
    "         'line_dash': 'dashed', 'line_width': 5,\n",
    "         'color': colors[0], 'alpha': .6},\n",
    "        {'label': 'CRD',\n",
    "         'srs': fmt_cool(ds_crd),\n",
    "         'line_dash': 'solid', 'line_width': 1.5,\n",
    "         'marker': 'circle', 'marker_size': 5,\n",
    "         'color': colors[2], 'alpha': 1}\n",
    "    ]\n",
    "    \n",
    "    # include old CLIRAD's results for mls profile\n",
    "    if atmpro == 'mls':\n",
    "        d_oldclirad = oldclirad_data_atm()\n",
    "        ds_oldclirad = d_oldclirad['cool']        \n",
    "        data.append(\n",
    "            {'label': 'old CLIRAD (H2012)',\n",
    "             'srs': fmt_cool(ds_oldclirad),\n",
    "             'line_dash': 'solid', 'line_width': 1.5,\n",
    "             'marker': 'square', 'marker_size': 3,\n",
    "             'color': colors[3], 'alpha': .5})\n",
    "    return data\n",
    "\n",
    "\n",
    "def pltdata_cooldiff(atmpro='mls'):\n",
    "    ds_clirad = clirad_data_atm(params_atm=[subparam_atm_clirad(atmpro=atmpro)])['cool']\n",
    "    ds_crd = crd_data_atm(params_atm=subparams_atm_lblnew(atmpro=atmpro))['cool']    \n",
    "    \n",
    "    ds_diff = ds_clirad - ds_crd\n",
    "    \n",
    "    colors = all_palettes['Set1'][4]\n",
    "    \n",
    "    data = [\n",
    "        {'label': 'CLIRAD - CRD',\n",
    "         'srs': fmt_cool(ds_diff),\n",
    "         'line_dash': 'solid', 'line_width': 1.5, \n",
    "         'marker': 'circle', 'marker_size': 7,\n",
    "         'color': colors[3], 'alpha': .8}\n",
    "    ]\n",
    "    \n",
    "    # include old CLIRAD's results for mls profile\n",
    "    if atmpro == 'mls':\n",
    "        d_oldclirad = oldclirad_data_atm()\n",
    "        ds_oldclirad = d_oldclirad['cool']\n",
    "        ds_oldclirad.coords['pressure'] = ds_crd.coords['pressure']\n",
    "        ds_diff_old = ds_oldclirad.sum('band') - ds_crd.sum('band')\n",
    "        data.append(\n",
    "            {'label': 'old CLIRAD (H2012) - CRD',\n",
    "             'srs': fmt_cool(ds_diff_old),\n",
    "             'line_dash': 'dashed', 'line_width': 4,\n",
    "             'color': colors[1], 'alpha': .5}\n",
    "        )\n",
    "    return data\n",
    "\n",
    "\n",
    "def show_cool(atmpro='mls'):\n",
    "    data_cool = pltdata_cool(atmpro=atmpro)\n",
    "    p_cool_liny = plt_cool_bokeh(pltdata=data_cool)\n",
    "    p_cool_logy = plt_cool_bokeh(pltdata=data_cool, \n",
    "                                 y_axis_type='log',\n",
    "                                 prange=(.01, 200))\n",
    "    \n",
    "    data_cooldiff = pltdata_cooldiff(atmpro=atmpro)\n",
    "    p_cooldiff_logy = plt_cool_bokeh(pltdata=data_cooldiff,\n",
    "                                     y_axis_type='log',\n",
    "                                     prange=(.01, 200))\n",
    "    \n",
    "    everything = gridplot(p_cool_liny, p_cool_logy, \n",
    "                          p_cooldiff_logy,\n",
    "                          ncols=3)\n",
    "    show(everything)\n",
    "    display.display(\n",
    "        display.Markdown('*FIGURE.* Cooling rates & difference.'))\n",
    "    "
   ]
  },
  {
   "cell_type": "code",
   "execution_count": null,
   "metadata": {
    "collapsed": true
   },
   "outputs": [],
   "source": []
  },
  {
   "cell_type": "code",
   "execution_count": 362,
   "metadata": {
    "scrolled": false
   },
   "outputs": [],
   "source": [
    "def fmt_flux(ds_in):\n",
    "    ds = ds_in.copy(deep=True)\n",
    "    for dim in ['band', 'g']:\n",
    "        if dim in ds: ds = ds.sum(dim)\n",
    "        \n",
    "    for dim in ['i', 'igg', 'g']:\n",
    "        if dim in ds:\n",
    "            if ds[dim].shape == (1,): ds = ds.squeeze(dim).drop(dim)\n",
    "            elif ds[dim].shape == (): ds = ds.drop(dim)\n",
    "    return ds\n",
    "\n",
    "def hist_band_vs_flux(da, title='Title'):\n",
    "    da = da.sel(i=1)\n",
    "    bands = [str(b.values) for b in da['band']]\n",
    "    source = ColumnDataSource(data={'band': bands, 'flux': da.values})\n",
    "    p = figure(x_range=bands, title=title)\n",
    "    p.vbar(source=source, x='band', top='flux', width=.9)\n",
    "    p.yaxis.axis_label = 'flux (W m-2)'\n",
    "    p.xaxis.axis_label = 'spectral band'\n",
    "    return p\n",
    "\n",
    "def show_hist_flux(atmpro='mls'):\n",
    "    ds_crd = crd_data_atm(params_atm=subparams_atm_lblnew(atmpro=atmpro))['flux']\n",
    "    ds_clirad = clirad_data_atm(params_atm=[subparam_atm_clirad(atmpro=atmpro)])['flux']\n",
    "    \n",
    "    ip, varname = 0, 'flug'\n",
    "    da = (ds_clirad - ds_crd).isel(pressure=ip)[varname]\n",
    "    p_toa = hist_band_vs_flux(da, title='TOA flux. CLIRAD - CRD.')\n",
    "\n",
    "    ip, varname = -1, 'fldg'\n",
    "    da = (ds_clirad - ds_crd).isel(pressure=ip)[varname]\n",
    "    p_sfc = hist_band_vs_flux(da, title='SFC flux. CLIRAD - CRD.')    \n",
    "    \n",
    "    atm_crd = (ds_crd.isel(pressure=0) - ds_crd.isel(pressure=-1))['fnetg']\n",
    "    atm_clirad = (ds_clirad.isel(pressure=0) - ds_clirad.isel(pressure=-1))['fnetg']\n",
    "    da = atm_clirad - atm_crd\n",
    "    p_atm = hist_band_vs_flux(da, title='Atmosphere heating. CLIRAD - CRD.')\n",
    "\n",
    "    everything = gridplot(p_toa, p_sfc, p_atm, ncols=3, plot_width=300, plot_height=300)\n",
    "    \n",
    "    show(everything)\n",
    "    display.display(\n",
    "        display.Markdown('*FIGURE.* Difference between CLIRAD and CRD'\n",
    "          ' in TOA, SFC and net atmosphere flux,'\n",
    "          ' in each spectral band.'))\n",
    "\n",
    "def show_tb_flux(atmpro='mls'):\n",
    "    \n",
    "    def fmt(da_in):\n",
    "        da = da_in.copy(deep=True)\n",
    "        if 'igg' in da.dims:\n",
    "            da = da.sel(igg=1)\n",
    "            \n",
    "        if 'g' in da.dims:\n",
    "            da = da.sum('g')\n",
    "        \n",
    "        if 'band' in da.dims:\n",
    "            try:\n",
    "                da = da.squeeze('band')\n",
    "            except ValueError:\n",
    "                da = da.sum('band')\n",
    "                \n",
    "        return da\n",
    "    \n",
    "    ds_crd = crd_data_atm(params_atm=subparams_atm_lblnew(atmpro=atmpro))['flux']\n",
    "    olr_crd = ds_crd['flug'].isel(pressure=0)\n",
    "    sfc_crd = ds_crd['fldg'].isel(pressure=-1)\n",
    "    atm_crd = (ds_crd.isel(pressure=0) - ds_crd.isel(pressure=-1))['fnetg']\n",
    "    \n",
    "    ds_clirad = clirad_data_atm(params_atm=[subparam_atm_clirad(atmpro=atmpro)])['flux']\n",
    "    olr_clirad = ds_clirad['flug'].isel(pressure=0)\n",
    "    sfc_clirad = ds_clirad['fldg'].isel(pressure=-1)\n",
    "    atm_clirad = (ds_clirad.isel(pressure=0) - ds_clirad.isel(pressure=-1))['fnetg']\n",
    "  \n",
    "    if atmpro == 'mls':\n",
    "        ds_oldclirad = oldclirad_data_atm()['flux']\n",
    "        ds_oldclirad['pressure'] = ds_crd['pressure']\n",
    "        olr_oldclirad = ds_oldclirad['flug'].isel(pressure=0)\n",
    "        sfc_oldclirad = ds_oldclirad['fldg'].isel(pressure=-1)\n",
    "        atm_oldclirad = (ds_oldclirad.isel(pressure=0)\n",
    "                         - ds_oldclirad.isel(pressure=-1))['fnetg']\n",
    "        \n",
    "    df = pd.DataFrame()\n",
    "    df.index.name = 'Sum over bands'\n",
    "    \n",
    "    if atmpro == 'mls':\n",
    "        df.loc['old CLIRAD - CRD', 'OLR flux'] = (fmt(olr_oldclirad) - fmt(olr_crd)).values\n",
    "        df.loc['old CLIRAD - CRD', 'SFC flux'] = (fmt(sfc_oldclirad) - fmt(sfc_crd)).values\n",
    "        df.loc['old CLIRAD - CRD', 'ATM heating'] = (fmt(atm_oldclirad) - fmt(atm_crd)).values\n",
    "    \n",
    "    df.loc['CLIRAD - CRD', 'OLR flux'] = (fmt(olr_clirad) - fmt(olr_crd)).values\n",
    "    df.loc['CLIRAD - CRD', 'SFC flux'] = (fmt(sfc_clirad) - fmt(sfc_crd)).values\n",
    "    df.loc['CLIRAD - CRD', 'ATM heating'] = (fmt(atm_clirad) - fmt(atm_crd)).values\n",
    "\n",
    "    df.loc['CRD', 'OLR flux'] = fmt(olr_crd).values\n",
    "    df.loc['CRD', 'SFC flux'] = fmt(sfc_crd).values\n",
    "    df.loc['CRD', 'ATM heating'] = fmt(atm_crd).values\n",
    "        \n",
    "    df = df.astype('float').round(2)\n",
    "    \n",
    "    display.display(df)\n",
    "    display.display(\n",
    "        display.Markdown('*TABLE.* Difference between CLIRAD and CRD'\n",
    "          ' in TOA, SFC and net atmosphere flux,'\n",
    "          ' over all spectral bands. CRD\\'s'\n",
    "          ' TOA, SFC and net atmosphere flux,'\n",
    "          ' over all spectral bands.'))"
   ]
  },
  {
   "cell_type": "code",
   "execution_count": 363,
   "metadata": {
    "scrolled": false
   },
   "outputs": [
    {
     "data": {
      "text/markdown": [
       "## Results over entire range of molecules and spectral bands"
      ],
      "text/plain": [
       "<IPython.core.display.Markdown object>"
      ]
     },
     "metadata": {},
     "output_type": "display_data"
    },
    {
     "data": {
      "text/markdown": [
       "### Table of Contents"
      ],
      "text/plain": [
       "<IPython.core.display.Markdown object>"
      ]
     },
     "metadata": {},
     "output_type": "display_data"
    },
    {
     "data": {
      "text/html": [
       "<a href=\"#Makeup_of_atmosphere.\">Makeup of atmosphere.</a>"
      ],
      "text/plain": [
       "<IPython.core.display.HTML object>"
      ]
     },
     "metadata": {},
     "output_type": "display_data"
    },
    {
     "data": {
      "text/markdown": [
       "**mid-latitude summer**"
      ],
      "text/plain": [
       "<IPython.core.display.Markdown object>"
      ]
     },
     "metadata": {},
     "output_type": "display_data"
    },
    {
     "data": {
      "text/html": [
       "<a href=\"#Cooling_rates._mls.\">Cooling rates. mls.</a>"
      ],
      "text/plain": [
       "<IPython.core.display.HTML object>"
      ]
     },
     "metadata": {},
     "output_type": "display_data"
    },
    {
     "data": {
      "text/html": [
       "<a href=\"#Fluxes._mls.\">Fluxes. mls.</a>"
      ],
      "text/plain": [
       "<IPython.core.display.HTML object>"
      ]
     },
     "metadata": {},
     "output_type": "display_data"
    },
    {
     "data": {
      "text/markdown": [
       "**sub-arctic winter**"
      ],
      "text/plain": [
       "<IPython.core.display.Markdown object>"
      ]
     },
     "metadata": {},
     "output_type": "display_data"
    },
    {
     "data": {
      "text/html": [
       "<a href=\"#Cooling_rates._saw.\">Cooling rates. saw.</a>"
      ],
      "text/plain": [
       "<IPython.core.display.HTML object>"
      ]
     },
     "metadata": {},
     "output_type": "display_data"
    },
    {
     "data": {
      "text/html": [
       "<a href=\"#Fluxes._saw.\">Fluxes. saw.</a>"
      ],
      "text/plain": [
       "<IPython.core.display.HTML object>"
      ]
     },
     "metadata": {},
     "output_type": "display_data"
    },
    {
     "data": {
      "text/markdown": [
       "**tropical**"
      ],
      "text/plain": [
       "<IPython.core.display.Markdown object>"
      ]
     },
     "metadata": {},
     "output_type": "display_data"
    },
    {
     "data": {
      "text/html": [
       "<a href=\"#Cooling_rates._trp.\">Cooling rates. trp.</a>"
      ],
      "text/plain": [
       "<IPython.core.display.HTML object>"
      ]
     },
     "metadata": {},
     "output_type": "display_data"
    },
    {
     "data": {
      "text/html": [
       "<a href=\"#Fluxes._trp.\">Fluxes. trp.</a>"
      ],
      "text/plain": [
       "<IPython.core.display.HTML object>"
      ]
     },
     "metadata": {},
     "output_type": "display_data"
    },
    {
     "data": {
      "text/html": [
       "<a id=\"Makeup_of_atmosphere.\"></a>"
      ],
      "text/plain": [
       "<IPython.core.display.HTML object>"
      ]
     },
     "metadata": {},
     "output_type": "display_data"
    },
    {
     "data": {
      "text/markdown": [
       "# Makeup of atmosphere."
      ],
      "text/plain": [
       "<IPython.core.display.Markdown object>"
      ]
     },
     "metadata": {},
     "output_type": "display_data"
    },
    {
     "data": {
      "text/html": [
       "<div>\n",
       "<style scoped>\n",
       "    .dataframe tbody tr th:only-of-type {\n",
       "        vertical-align: middle;\n",
       "    }\n",
       "\n",
       "    .dataframe tbody tr th {\n",
       "        vertical-align: top;\n",
       "    }\n",
       "\n",
       "    .dataframe thead th {\n",
       "        text-align: right;\n",
       "    }\n",
       "</style>\n",
       "<table border=\"1\" class=\"dataframe\">\n",
       "  <thead>\n",
       "    <tr style=\"text-align: right;\">\n",
       "      <th>clirad band</th>\n",
       "      <th>1</th>\n",
       "      <th>2</th>\n",
       "      <th>3</th>\n",
       "      <th>4</th>\n",
       "      <th>5</th>\n",
       "      <th>6</th>\n",
       "      <th>7</th>\n",
       "      <th>8</th>\n",
       "      <th>9</th>\n",
       "      <th>10</th>\n",
       "      <th>11</th>\n",
       "    </tr>\n",
       "    <tr>\n",
       "      <th>molecule</th>\n",
       "      <th></th>\n",
       "      <th></th>\n",
       "      <th></th>\n",
       "      <th></th>\n",
       "      <th></th>\n",
       "      <th></th>\n",
       "      <th></th>\n",
       "      <th></th>\n",
       "      <th></th>\n",
       "      <th></th>\n",
       "      <th></th>\n",
       "    </tr>\n",
       "  </thead>\n",
       "  <tbody>\n",
       "    <tr>\n",
       "      <th>h2o</th>\n",
       "      <td>atmpro</td>\n",
       "      <td>atmpro</td>\n",
       "      <td>atmpro</td>\n",
       "      <td>atmpro</td>\n",
       "      <td>atmpro</td>\n",
       "      <td>atmpro</td>\n",
       "      <td>atmpro</td>\n",
       "      <td>atmpro</td>\n",
       "      <td>atmpro</td>\n",
       "      <td>atmpro</td>\n",
       "      <td>atmpro</td>\n",
       "    </tr>\n",
       "    <tr>\n",
       "      <th>co2</th>\n",
       "      <td>0</td>\n",
       "      <td>0</td>\n",
       "      <td>0.0004</td>\n",
       "      <td>0.0004</td>\n",
       "      <td>0.0004</td>\n",
       "      <td>0.0004</td>\n",
       "      <td>0.0004</td>\n",
       "      <td>0</td>\n",
       "      <td>0</td>\n",
       "      <td>0</td>\n",
       "      <td>0.0004</td>\n",
       "    </tr>\n",
       "    <tr>\n",
       "      <th>n2o</th>\n",
       "      <td>0</td>\n",
       "      <td>0</td>\n",
       "      <td>3.2e-07</td>\n",
       "      <td>0</td>\n",
       "      <td>0</td>\n",
       "      <td>0</td>\n",
       "      <td>0</td>\n",
       "      <td>0</td>\n",
       "      <td>3.2e-07</td>\n",
       "      <td>0</td>\n",
       "      <td>0</td>\n",
       "    </tr>\n",
       "    <tr>\n",
       "      <th>o3</th>\n",
       "      <td>0</td>\n",
       "      <td>0</td>\n",
       "      <td>0</td>\n",
       "      <td>0</td>\n",
       "      <td>0</td>\n",
       "      <td>0</td>\n",
       "      <td>atmpro</td>\n",
       "      <td>0</td>\n",
       "      <td>0</td>\n",
       "      <td>0</td>\n",
       "      <td>0</td>\n",
       "    </tr>\n",
       "    <tr>\n",
       "      <th>ch4</th>\n",
       "      <td>0</td>\n",
       "      <td>0</td>\n",
       "      <td>0</td>\n",
       "      <td>0</td>\n",
       "      <td>0</td>\n",
       "      <td>0</td>\n",
       "      <td>0</td>\n",
       "      <td>0</td>\n",
       "      <td>1.8e-06</td>\n",
       "      <td>0</td>\n",
       "      <td>0</td>\n",
       "    </tr>\n",
       "  </tbody>\n",
       "</table>\n",
       "</div>"
      ],
      "text/plain": [
       "clirad band      1       2        3       4       5       6       7       8   \\\n",
       "molecule                                                                       \n",
       "h2o          atmpro  atmpro   atmpro  atmpro  atmpro  atmpro  atmpro  atmpro   \n",
       "co2               0       0   0.0004  0.0004  0.0004  0.0004  0.0004       0   \n",
       "n2o               0       0  3.2e-07       0       0       0       0       0   \n",
       "o3                0       0        0       0       0       0  atmpro       0   \n",
       "ch4               0       0        0       0       0       0       0       0   \n",
       "\n",
       "clirad band       9       10      11  \n",
       "molecule                              \n",
       "h2o           atmpro  atmpro  atmpro  \n",
       "co2                0       0  0.0004  \n",
       "n2o          3.2e-07       0       0  \n",
       "o3                 0       0       0  \n",
       "ch4          1.8e-06       0       0  "
      ]
     },
     "metadata": {},
     "output_type": "display_data"
    },
    {
     "data": {
      "text/markdown": [
       "*TABLE.* Non-grey absorbers in the atmosphere."
      ],
      "text/plain": [
       "<IPython.core.display.Markdown object>"
      ]
     },
     "metadata": {},
     "output_type": "display_data"
    },
    {
     "data": {
      "text/html": [
       "<a id=\"Cooling_rates._mls.\"></a>"
      ],
      "text/plain": [
       "<IPython.core.display.HTML object>"
      ]
     },
     "metadata": {},
     "output_type": "display_data"
    },
    {
     "data": {
      "text/markdown": [
       "# Cooling rates. mls."
      ],
      "text/plain": [
       "<IPython.core.display.Markdown object>"
      ]
     },
     "metadata": {},
     "output_type": "display_data"
    },
    {
     "data": {
      "text/html": [
       "\n",
       "<div class=\"bk-root\">\n",
       "    <div class=\"bk-plotdiv\" id=\"e03d4e97-5a10-446a-bafe-25a4ee8a42a6\"></div>\n",
       "</div>"
      ]
     },
     "metadata": {},
     "output_type": "display_data"
    },
    {
     "data": {
      "application/javascript": [
       "(function(root) {\n",
       "  function embed_document(root) {\n",
       "    \n",
       "  var docs_json = {\"dea50654-881a-403f-9198-22c5681dbfb5\":{\"roots\":{\"references\":[{\"attributes\":{},\"id\":\"5262ad6a-801e-43c9-a4d0-009bbb12c1f3\",\"type\":\"PanTool\"},{\"attributes\":{\"callback\":null,\"data\":{\"x\":{\"__ndarray__\":\"cm1sTMT3VEDEyvjosEJHQOKI6DjzCUNArgQWV9awPkB9Lm8XG3M4QEz+Qv6iYzNA7eV8HaPLLkCX1QHyTpMoQFBmYSYetiNAUB04GtGpH0AmFyVE5j8ZQJca9QPGqBNALJP+OOHHDEBNxaf7QF8AQKtislomWuw/cW2dcO6A9T/uJJvfPu0EQIaQLTI/JQ1AxGiII+PmEkCJvfVeuCsYQD6ZBhGbHB9AXQw69DTYJEAsubcwKucqQNuT9D5OmipAJyi3szEJJUBlNebh5WkgQDDcPHBr2xlArtlANXuQFEBdJadFHckQQI2Avh0ZsQtAjYiwt1rsBUCL0SDoVBgAQK6C0nEEjvc/CggLSme58T9sXU2orFPnP0v0JYz9Gdg/vT38vxYczD9nBQTe6kHHP1IhkEXJwKo/8OZnhCVAub+xtVgCpmqzP6DUpY6g0+k/PKK3T1h4+D8RTDjQc1EAQG/dAQs7TwJAQt2eHpPLAEBWEh074x//PyCap9ZSGf4/rEzaTySm/T+7aXhHRmr9P688KeqeNP0/ruZ4EemD/D8olrZcn9T7P0+vNc9hW/s/i9VVL+4P+z+0NzC24uz6P8731Kza8vo/xFf4SHzq+z+gYyHpvHb8P68ROkiFevw/BAjYdCga/D8AUp8VbW77P3JrF/nKmvo/qCQeGfq++T/dplwHJfn4P2G4p+Uva/g/OzZ0RqMZ+D8dmn/iar73P/OuA7Ka8PY/gaaeQHGn9T9hkyjAH1L0P3aZGhdAU/M/n8VP/g7P8j+90HxHNvfyPwhNBtgrqvk/\",\"dtype\":\"float64\",\"shape\":[75]},\"y\":{\"__ndarray__\":\"GhExyth1ND/Sv8nbtpRIP2vylNV0PVE/aTum7souWD/At0SJ8fVgPw3Iuahxymc/MSNhhJWvcD/bTfBN02d3P2zb5nxnaoA/CD5h5MAGhz8NmeH1TyaQP+zrCsc9p5Y/LbKd76fGnz/bLW5ISEmmPww9YvTcQq8/JV2OstnstT8Er5Y7M8G+P0c+r3jqkcU/5h99k6ZBzj88bCIzFzjVP4enV8oyxN0//yH99nXg5D8qOpLLf0jtP5kqGJXUifQ/c9cS8kHP/D+/DpwzojQEQIEmwoanVwxA4lgXt9HgE0BSSZ2AJuIbQAMJih9jjiNA5q4l5INuK0AwTKYKRj0zQNv5fmq8/DpAaCJseHrtQkB/+zpwzoxKQM3MzMzMeFJAZmZmZmZqWEAAAAAAAFxeQM3MzMzMJmJAmpmZmZkfZUBmZmZmZhhoQDMzMzMzEWtAAAAAAAAKbkBmZmZmZoFwQM3MzMzM/XFAMzMzMzN6c0CamZmZmfZ0QAAAAAAAc3ZAZmZmZmbvd0DNzMzMzGt5QDMzMzMz6HpAmpmZmZlkfEAAAAAAAOF9QGZmZmZmXX9AZmZmZuZsgECamZmZGSuBQM3MzMxM6YFAAAAAAICngkAzMzMzs2WDQGZmZmbmI4RAmpmZmRnihEDNzMzMTKCFQAAAAACAXoZAMzMzM7Mch0BmZmZm5tqHQJqZmZkZmYhAzczMzExXiUAAAAAAgBWKQDMzMzOz04pAZmZmZuaRi0CamZmZGVCMQM3MzMxMDo1AAAAAAIDMjUAzMzMzs4qOQGZmZmbmSI9A\",\"dtype\":\"float64\",\"shape\":[75]}},\"selected\":{\"id\":\"a9696ba1-2680-4afe-86d1-3b2d5a97a080\",\"type\":\"Selection\"},\"selection_policy\":{\"id\":\"40583d94-91c6-4c19-a665-7d191999e746\",\"type\":\"UnionRenderers\"}},\"id\":\"6b7fd845-5f7b-45aa-a761-fe8e858c9089\",\"type\":\"ColumnDataSource\"},{\"attributes\":{\"line_alpha\":0.6,\"line_color\":\"#e41a1c\",\"line_dash\":[6],\"line_width\":5,\"x\":{\"field\":\"x\"},\"y\":{\"field\":\"y\"}},\"id\":\"13ffad13-0612-44d9-8603-d1ba9e48dbd4\",\"type\":\"Line\"},{\"attributes\":{\"source\":{\"id\":\"5c08cea4-be2c-4ae8-8b24-fab326c523f0\",\"type\":\"ColumnDataSource\"}},\"id\":\"df67857d-d85e-4252-a2fb-888ce1230abc\",\"type\":\"CDSView\"},{\"attributes\":{\"bottom_units\":\"screen\",\"fill_alpha\":{\"value\":0.5},\"fill_color\":{\"value\":\"lightgrey\"},\"left_units\":\"screen\",\"level\":\"overlay\",\"line_alpha\":{\"value\":1.0},\"line_color\":{\"value\":\"black\"},\"line_dash\":[4,4],\"line_width\":{\"value\":2},\"plot\":null,\"render_mode\":\"css\",\"right_units\":\"screen\",\"top_units\":\"screen\"},\"id\":\"c3966e38-de5d-4977-9a93-2b29d6bce85d\",\"type\":\"BoxAnnotation\"},{\"attributes\":{\"line_alpha\":0.1,\"line_color\":\"#1f77b4\",\"line_dash\":[6],\"line_width\":4,\"x\":{\"field\":\"x\"},\"y\":{\"field\":\"y\"}},\"id\":\"8e5a1ed5-e833-4274-b148-eec02ec82671\",\"type\":\"Line\"},{\"attributes\":{\"active_drag\":\"auto\",\"active_inspect\":\"auto\",\"active_scroll\":\"auto\",\"active_tap\":\"auto\",\"tools\":[{\"id\":\"5b1fdee3-69bf-4747-9f57-7991ca4243ee\",\"type\":\"PanTool\"},{\"id\":\"42f056a6-a880-40b6-ab69-cd83fe9aec0d\",\"type\":\"WheelZoomTool\"},{\"id\":\"eee26bd5-35a5-4e18-bcda-2516ae72e17b\",\"type\":\"BoxZoomTool\"},{\"id\":\"324370ab-c2a3-4198-9da1-189c9a91672c\",\"type\":\"SaveTool\"},{\"id\":\"876e13bc-6b50-485b-a1ec-d9f2d8b5acbe\",\"type\":\"ResetTool\"},{\"id\":\"79755a59-9882-4556-a5a5-06ad31dce849\",\"type\":\"HelpTool\"}]},\"id\":\"14b41a28-9029-408c-a6dd-9cc9c29c55c8\",\"type\":\"Toolbar\"},{\"attributes\":{},\"id\":\"168c054b-2959-4044-a080-6f47cdfde6b3\",\"type\":\"SaveTool\"},{\"attributes\":{\"line_alpha\":0.1,\"line_color\":\"#1f77b4\",\"line_dash\":[6],\"line_width\":5,\"x\":{\"field\":\"x\"},\"y\":{\"field\":\"y\"}},\"id\":\"60b2b31b-4d77-4f10-945a-84fb0a88c009\",\"type\":\"Line\"},{\"attributes\":{},\"id\":\"374c0270-9c93-4f7f-bdc2-5ff5e06471d3\",\"type\":\"ResetTool\"},{\"attributes\":{},\"id\":\"938d3b27-1c2b-4fa3-85a0-6d4ff84c4d01\",\"type\":\"WheelZoomTool\"},{\"attributes\":{},\"id\":\"54b7cd7f-7d93-4945-a77b-28ff4e5c36fc\",\"type\":\"SaveTool\"},{\"attributes\":{\"line_alpha\":0.1,\"line_color\":\"#1f77b4\",\"line_width\":1.5,\"x\":{\"field\":\"x\"},\"y\":{\"field\":\"y\"}},\"id\":\"0bd3c417-c599-4a1d-b112-1f4eacac295f\",\"type\":\"Line\"},{\"attributes\":{},\"id\":\"12faffb8-e8ea-40c8-a5a4-19054035b40e\",\"type\":\"HelpTool\"},{\"attributes\":{},\"id\":\"ae22fb40-276d-4add-9385-688ff442109d\",\"type\":\"ResetTool\"},{\"attributes\":{\"fill_alpha\":{\"value\":0.7},\"fill_color\":{\"value\":\"#984ea3\"},\"line_alpha\":{\"value\":0.7},\"line_color\":{\"value\":\"#984ea3\"},\"x\":{\"field\":\"x\"},\"y\":{\"field\":\"y\"}},\"id\":\"df9cbb08-2834-49fe-a69d-f5c902a5657e\",\"type\":\"Circle\"},{\"attributes\":{\"callback\":null,\"data\":{\"x\":{\"__ndarray__\":\"f4/ZiHBvTUBBtZ0vt7pGQG/fINbyy0NA0ajo+rFtQEBnDVKFn7o5QN3NivFcKTNAabSgY2PuK0B7hWUXvhYlQDx3CYxN8iBAfnWJavBXHECk3a5AKlsXQDOyYGKwNxJAHZ1V197ZCUBJkCI3QVr7P4M/exKR8OU/Ajm/zOnF9D8fwE2FbJgFQIqMToGNuQ5AlsKIL7yaE0DO7Jqv3tgXQO3K5wApaB1AWVZlhe2zI0DW0WHIGv0pQAkxhJVrIipA8iTl8GfOJEAjPetJ4hMgQE9BoH+NIBpASV7Hy1F2FUADwAhqxnQRQJjwl50iXQxA+iL5WPiKBkAltKk2mdr/PyZyy9df1/Y/u1Qqa6E48j95+UcQ7d/nP0JnUJIYxtM/1wsiMkwQwT92lYktlGnAP61qGo0owZk/Z/0TGbqCvb+uVUupIz+sP5VC1H0ssOg/ycFw9Uyz9z/ssMoMKSoAQGEZPzcyqAFATWXAqDEKAEAh1iL6bUL+P9gi4BmCD/0/x1rYn/hO/D9OqHoOOSH8P9pKBDuZQ/w/uG9sL4bb+z+Lyb/QD3T7P7369TPpE/s/lb7l8YHT+j8opgNAsqT6P0dOkJvUqfo/RwAjXhHG+z/XZlL5ja38PzwFoCGBLv0/fU6ZEVkx/T8m/V7HFnr8P4QnlD9IdPs/aP/heEc8+j87prZp7xn5P48FYqBGjfg/82a+l4Nf+D9jMgjrgDX4P2lOm8ca0/c/E1Ikvp+29j+1rnMBn4P1Pyo/ZCKJpPQ/GyZyNwMF9D92Gg/MT070P5rtBcT2+/o/\",\"dtype\":\"float64\",\"shape\":[75]},\"y\":{\"__ndarray__\":\"GhExyth1ND/Sv8nbtpRIP2vylNV0PVE/aTum7souWD/At0SJ8fVgPw3Iuahxymc/MSNhhJWvcD/bTfBN02d3P2zb5nxnaoA/CD5h5MAGhz8NmeH1TyaQP+zrCsc9p5Y/LbKd76fGnz/bLW5ISEmmPww9YvTcQq8/JV2OstnstT8Er5Y7M8G+P0c+r3jqkcU/5h99k6ZBzj88bCIzFzjVP4enV8oyxN0//yH99nXg5D8qOpLLf0jtP5kqGJXUifQ/c9cS8kHP/D+/DpwzojQEQIEmwoanVwxA4lgXt9HgE0BSSZ2AJuIbQAMJih9jjiNA5q4l5INuK0AwTKYKRj0zQNv5fmq8/DpAaCJseHrtQkB/+zpwzoxKQM3MzMzMeFJAZmZmZmZqWEAAAAAAAFxeQM3MzMzMJmJAmpmZmZkfZUBmZmZmZhhoQDMzMzMzEWtAAAAAAAAKbkBmZmZmZoFwQM3MzMzM/XFAMzMzMzN6c0CamZmZmfZ0QAAAAAAAc3ZAZmZmZmbvd0DNzMzMzGt5QDMzMzMz6HpAmpmZmZlkfEAAAAAAAOF9QGZmZmZmXX9AZmZmZuZsgECamZmZGSuBQM3MzMxM6YFAAAAAAICngkAzMzMzs2WDQGZmZmbmI4RAmpmZmRnihEDNzMzMTKCFQAAAAACAXoZAMzMzM7Mch0BmZmZm5tqHQJqZmZkZmYhAzczMzExXiUAAAAAAgBWKQDMzMzOz04pAZmZmZuaRi0CamZmZGVCMQM3MzMxMDo1AAAAAAIDMjUAzMzMzs4qOQGZmZmbmSI9A\",\"dtype\":\"float64\",\"shape\":[75]}},\"selected\":{\"id\":\"bf4fc8af-0df3-40a5-ac49-79c3db92afae\",\"type\":\"Selection\"},\"selection_policy\":{\"id\":\"f61205ee-fe99-4339-bbae-dc2fdd36534d\",\"type\":\"UnionRenderers\"}},\"id\":\"b26e32f6-f746-472a-a58b-28ab76d7c269\",\"type\":\"ColumnDataSource\"},{\"attributes\":{\"data_source\":{\"id\":\"dfd64599-4245-4f6d-8b30-3ceef4e1e8b0\",\"type\":\"ColumnDataSource\"},\"glyph\":{\"id\":\"df9cbb08-2834-49fe-a69d-f5c902a5657e\",\"type\":\"Circle\"},\"hover_glyph\":null,\"muted_glyph\":null,\"nonselection_glyph\":{\"id\":\"5b738771-b91a-40df-ab30-de4911464c68\",\"type\":\"Circle\"},\"selection_glyph\":null,\"view\":{\"id\":\"c7ee8e7f-6c68-4ed6-8243-e86ef5055e32\",\"type\":\"CDSView\"}},\"id\":\"69c730d3-f83b-4311-8ad3-bca30f622bac\",\"type\":\"GlyphRenderer\"},{\"attributes\":{\"line_color\":\"#4daf4a\",\"line_width\":1.5,\"x\":{\"field\":\"x\"},\"y\":{\"field\":\"y\"}},\"id\":\"f16e41c9-4445-43c5-88ac-688c64a58000\",\"type\":\"Line\"},{\"attributes\":{\"overlay\":{\"id\":\"bd85f3a3-0947-4c9b-b600-7ed44224fd93\",\"type\":\"BoxAnnotation\"}},\"id\":\"c4580e65-96ab-4205-aa1d-7620b0b8413a\",\"type\":\"BoxZoomTool\"},{\"attributes\":{},\"id\":\"d977ac2c-4e9b-4622-88da-90af38649319\",\"type\":\"LinearScale\"},{\"attributes\":{\"line_alpha\":0.5,\"line_color\":\"#377eb8\",\"line_dash\":[6],\"line_width\":4,\"x\":{\"field\":\"x\"},\"y\":{\"field\":\"y\"}},\"id\":\"077c2c08-3200-442d-8e20-f3498d43328f\",\"type\":\"Line\"},{\"attributes\":{\"plot\":{\"id\":\"55f896a0-2776-4c43-8828-23f9b48dc761\",\"subtype\":\"Figure\",\"type\":\"Plot\"},\"ticker\":{\"id\":\"3e97ad8c-78d4-462e-813d-b6b32c3ee88b\",\"type\":\"BasicTicker\"}},\"id\":\"839ce5f2-6b88-48e6-96d5-734c0f301a14\",\"type\":\"Grid\"},{\"attributes\":{},\"id\":\"80a11018-8b17-48fa-acb5-36d3593dbc56\",\"type\":\"PanTool\"},{\"attributes\":{\"items\":[{\"id\":\"47cbe287-779a-4805-95dc-dcee203d1568\",\"type\":\"LegendItem\"},{\"id\":\"6cce6295-f3d1-4341-a1fc-f25f10e38586\",\"type\":\"LegendItem\"},{\"id\":\"29b303d0-ee93-4a0d-8fc7-4c930e69b6c5\",\"type\":\"LegendItem\"}],\"label_text_font_size\":{\"value\":\"8pt\"},\"location\":\"top_center\",\"orientation\":\"horizontal\",\"plot\":{\"id\":\"55f896a0-2776-4c43-8828-23f9b48dc761\",\"subtype\":\"Figure\",\"type\":\"Plot\"}},\"id\":\"a5b5c413-6fc1-428e-a94b-edd5c586e631\",\"type\":\"Legend\"},{\"attributes\":{},\"id\":\"bf2ec11a-ec93-4a79-a32b-955cfda36c3b\",\"type\":\"Selection\"},{\"attributes\":{\"num_minor_ticks\":10},\"id\":\"19ec022e-f7fb-427a-b895-b11f0cae564f\",\"type\":\"LogTicker\"},{\"attributes\":{\"bottom_units\":\"screen\",\"fill_alpha\":{\"value\":0.5},\"fill_color\":{\"value\":\"lightgrey\"},\"left_units\":\"screen\",\"level\":\"overlay\",\"line_alpha\":{\"value\":1.0},\"line_color\":{\"value\":\"black\"},\"line_dash\":[4,4],\"line_width\":{\"value\":2},\"plot\":null,\"render_mode\":\"css\",\"right_units\":\"screen\",\"top_units\":\"screen\"},\"id\":\"bd85f3a3-0947-4c9b-b600-7ed44224fd93\",\"type\":\"BoxAnnotation\"},{\"attributes\":{\"label\":{\"value\":\"CLIRAD\"},\"renderers\":[{\"id\":\"9059dbd9-4dc1-4e42-8eb7-adcfc623d43b\",\"type\":\"GlyphRenderer\"}]},\"id\":\"8f9cbb7c-4a27-4c0b-aa32-39488ebbc82f\",\"type\":\"LegendItem\"},{\"attributes\":{},\"id\":\"a8fd60a3-e5e5-4429-bf69-87865b7300fb\",\"type\":\"UnionRenderers\"},{\"attributes\":{\"children\":[{\"id\":\"9ca4b483-4563-4258-8346-420cf6d2bb48\",\"type\":\"Row\"}]},\"id\":\"f9445ddf-860c-4e48-a160-5ac16e6eee8f\",\"type\":\"Column\"},{\"attributes\":{\"active_drag\":\"auto\",\"active_inspect\":\"auto\",\"active_scroll\":\"auto\",\"active_tap\":\"auto\",\"tools\":[{\"id\":\"80a11018-8b17-48fa-acb5-36d3593dbc56\",\"type\":\"PanTool\"},{\"id\":\"a7cb51f6-cf22-40c0-bf18-1745962b4a15\",\"type\":\"WheelZoomTool\"},{\"id\":\"1be993ff-36e1-4809-9f96-e70441fb10bd\",\"type\":\"BoxZoomTool\"},{\"id\":\"168c054b-2959-4044-a080-6f47cdfde6b3\",\"type\":\"SaveTool\"},{\"id\":\"374c0270-9c93-4f7f-bdc2-5ff5e06471d3\",\"type\":\"ResetTool\"},{\"id\":\"12faffb8-e8ea-40c8-a5a4-19054035b40e\",\"type\":\"HelpTool\"}]},\"id\":\"7a9cf8f5-552b-418e-bda8-56fcd4c42a78\",\"type\":\"Toolbar\"},{\"attributes\":{},\"id\":\"29a9b9bf-7d09-47e6-b67f-be966a9d6b12\",\"type\":\"LogScale\"},{\"attributes\":{},\"id\":\"30c08362-cbae-48b5-bcaf-fbaf76a16bdd\",\"type\":\"LinearScale\"},{\"attributes\":{},\"id\":\"e3cfd7ae-8199-45e7-869c-e709ae2d18cc\",\"type\":\"UnionRenderers\"},{\"attributes\":{\"callback\":null,\"data\":{\"x\":{\"__ndarray__\":\"x5b+HzAAOcBUsGIrN//wv5rRCqfzP/g/lWfa9WxUAUC87i3eRnj0P2k3GFwGI82/KIzhzv3p9r/dgOLUhuT7v5h4v9KEHva/lz51fQWP6r8MmGM3wEvevzuGRhlaEde/bbBHDRNw17866bMAA5HVv6SM3CBVpsm/z43Ge5Rgp78kZlO2tGW1P0jAD/LkRMk/mjoLgCF7xj9YL7TWa7a0vxDl7AEhR9u/QmBL7XZE4r+66rwK7UHdv520GFyq+M2/jJoBaeFkvb+mEL7+5YDFv8xH2diDSLE/UZPQ0NK6zD++VDOMJHXFP0sBLvsvgbU/rU0TKbTTsz+AvPtlJoSVvyQR4kCT1Ka/DCzTR4jOnz+RgVP/DIiRPyc0VueTT7G/zGO0G5UXtr/Cv+nBWmGrvw3YBf5pwJu/5lmwUlIKkb9iK8y2UCyVv7MgGQ1BN6K/Zg7cSGuhqL97ks22YaWTv6+BWHga4bS/if7Ouy4suL+uhkcfqK6rv3h0d8wLnbC/Th4fALtytb/0FtyP05C0v706nuS1IK6/nt6OQVwMpb+xJ7P94iOYv7Ik7c8m3pG/XHsLuB42jr+yYiSLHQySv2VhKlGEQZK/gL6ranU1gr8Tm4EYiGiLP2Bxvix7f6Y/qGcUzAlzsT9osvobm7qwP2qCl8+oL6s/W7D28FdTnz+Ar/8sMWWAP2CXJl1dC4E/wS2MUhR4kT8AEiYigsWdP+Tu87ICUKw/Urla2OfysD86tbEU9BezP0pbmrSQFLU/zwcmkkNfsz+emyRJmHG1PyEJ+r+uHLU/\",\"dtype\":\"float64\",\"shape\":[75]},\"y\":{\"__ndarray__\":\"GhExyth1ND/Sv8nbtpRIP2vylNV0PVE/aTum7souWD/At0SJ8fVgPw3Iuahxymc/MSNhhJWvcD/bTfBN02d3P2zb5nxnaoA/CD5h5MAGhz8NmeH1TyaQP+zrCsc9p5Y/LbKd76fGnz/bLW5ISEmmPww9YvTcQq8/JV2OstnstT8Er5Y7M8G+P0c+r3jqkcU/5h99k6ZBzj88bCIzFzjVP4enV8oyxN0//yH99nXg5D8qOpLLf0jtP5kqGJXUifQ/c9cS8kHP/D+/DpwzojQEQIEmwoanVwxA4lgXt9HgE0BSSZ2AJuIbQAMJih9jjiNA5q4l5INuK0AwTKYKRj0zQNv5fmq8/DpAaCJseHrtQkB/+zpwzoxKQM3MzMzMeFJAZmZmZmZqWEAAAAAAAFxeQM3MzMzMJmJAmpmZmZkfZUBmZmZmZhhoQDMzMzMzEWtAAAAAAAAKbkBmZmZmZoFwQM3MzMzM/XFAMzMzMzN6c0CamZmZmfZ0QAAAAAAAc3ZAZmZmZmbvd0DNzMzMzGt5QDMzMzMz6HpAmpmZmZlkfEAAAAAAAOF9QGZmZmZmXX9AZmZmZuZsgECamZmZGSuBQM3MzMxM6YFAAAAAAICngkAzMzMzs2WDQGZmZmbmI4RAmpmZmRnihEDNzMzMTKCFQAAAAACAXoZAMzMzM7Mch0BmZmZm5tqHQJqZmZkZmYhAzczMzExXiUAAAAAAgBWKQDMzMzOz04pAZmZmZuaRi0CamZmZGVCMQM3MzMxMDo1AAAAAAIDMjUAzMzMzs4qOQGZmZmbmSI9A\",\"dtype\":\"float64\",\"shape\":[75]}},\"selected\":{\"id\":\"b78d0611-451f-4d77-9230-f21a7f389bc3\",\"type\":\"Selection\"},\"selection_policy\":{\"id\":\"9a2de251-03a8-492d-9ce6-eadcb8ab37f0\",\"type\":\"UnionRenderers\"}},\"id\":\"dfd64599-4245-4f6d-8b30-3ceef4e1e8b0\",\"type\":\"ColumnDataSource\"},{\"attributes\":{\"above\":[{\"id\":\"a5b5c413-6fc1-428e-a94b-edd5c586e631\",\"type\":\"Legend\"}],\"below\":[{\"id\":\"596bb134-1929-4c25-9658-5e03f571dbe5\",\"type\":\"LinearAxis\"}],\"left\":[{\"id\":\"b14d7f81-719f-4976-af1c-8e75fd9856c9\",\"type\":\"LogAxis\"}],\"plot_width\":300,\"renderers\":[{\"id\":\"596bb134-1929-4c25-9658-5e03f571dbe5\",\"type\":\"LinearAxis\"},{\"id\":\"839ce5f2-6b88-48e6-96d5-734c0f301a14\",\"type\":\"Grid\"},{\"id\":\"b14d7f81-719f-4976-af1c-8e75fd9856c9\",\"type\":\"LogAxis\"},{\"id\":\"e772b138-2793-43f2-b1bb-edcbd23c3e74\",\"type\":\"Grid\"},{\"id\":\"c3966e38-de5d-4977-9a93-2b29d6bce85d\",\"type\":\"BoxAnnotation\"},{\"id\":\"0327ee87-c34e-43dd-9412-2c729f0012be\",\"type\":\"GlyphRenderer\"},{\"id\":\"f07b0f22-6d07-486b-9b43-710151238dd8\",\"type\":\"GlyphRenderer\"},{\"id\":\"f5992ac1-d83b-4830-8139-6e809d9c94fd\",\"type\":\"GlyphRenderer\"},{\"id\":\"16fad770-6a8d-49e9-a5b0-920ab2c387b2\",\"type\":\"GlyphRenderer\"},{\"id\":\"5ab94088-b6f1-4757-b5a0-351e5dde7e64\",\"type\":\"GlyphRenderer\"},{\"id\":\"a5b5c413-6fc1-428e-a94b-edd5c586e631\",\"type\":\"Legend\"}],\"title\":{\"id\":\"6e0a74c4-ec97-4f49-936e-d1d88ab1ed8c\",\"type\":\"Title\"},\"toolbar\":{\"id\":\"7a9cf8f5-552b-418e-bda8-56fcd4c42a78\",\"type\":\"Toolbar\"},\"toolbar_location\":null,\"x_range\":{\"id\":\"52494997-0198-4740-9543-6ed2b9251593\",\"type\":\"Range1d\"},\"x_scale\":{\"id\":\"d977ac2c-4e9b-4622-88da-90af38649319\",\"type\":\"LinearScale\"},\"y_range\":{\"id\":\"0f4ffabd-d4f4-460d-892e-b616621cff76\",\"type\":\"Range1d\"},\"y_scale\":{\"id\":\"29a9b9bf-7d09-47e6-b67f-be966a9d6b12\",\"type\":\"LogScale\"}},\"id\":\"55f896a0-2776-4c43-8828-23f9b48dc761\",\"subtype\":\"Figure\",\"type\":\"Plot\"},{\"attributes\":{\"axis_label\":\"cooling rate [K/day]\",\"formatter\":{\"id\":\"89fa7af7-4403-448c-b8cb-58dcf9f08743\",\"type\":\"BasicTickFormatter\"},\"plot\":{\"id\":\"55f896a0-2776-4c43-8828-23f9b48dc761\",\"subtype\":\"Figure\",\"type\":\"Plot\"},\"ticker\":{\"id\":\"3e97ad8c-78d4-462e-813d-b6b32c3ee88b\",\"type\":\"BasicTicker\"}},\"id\":\"596bb134-1929-4c25-9658-5e03f571dbe5\",\"type\":\"LinearAxis\"},{\"attributes\":{\"callback\":null,\"end\":0.01,\"start\":1020},\"id\":\"0f4ffabd-d4f4-460d-892e-b616621cff76\",\"type\":\"Range1d\"},{\"attributes\":{\"label\":{\"value\":\"CRD\"},\"renderers\":[{\"id\":\"b55504b9-5ef5-4ee5-abc0-84d5164bb8c6\",\"type\":\"GlyphRenderer\"},{\"id\":\"3e60a58b-48f2-4072-9f61-43d7be5f7622\",\"type\":\"GlyphRenderer\"}]},\"id\":\"734cfce0-22e4-4247-9098-acafb8b2a905\",\"type\":\"LegendItem\"},{\"attributes\":{\"label\":{\"value\":\"old CLIRAD (H2012)\"},\"renderers\":[{\"id\":\"9c11a2fc-6bdc-4531-a471-36014bf1d726\",\"type\":\"GlyphRenderer\"},{\"id\":\"2028758f-e5e6-4eb3-8a59-b8e88398a6e0\",\"type\":\"GlyphRenderer\"}]},\"id\":\"fce26ed0-736c-4e09-9806-63a572912d73\",\"type\":\"LegendItem\"},{\"attributes\":{\"data_source\":{\"id\":\"3a56a6b9-844e-4e10-8fb8-5694267a4262\",\"type\":\"ColumnDataSource\"},\"glyph\":{\"id\":\"e9bd7007-d99f-432f-bfb8-0bc50fce478b\",\"type\":\"Square\"},\"hover_glyph\":null,\"muted_glyph\":null,\"nonselection_glyph\":{\"id\":\"56a3561a-fb44-405c-bba9-fa1b5de866d7\",\"type\":\"Square\"},\"selection_glyph\":null,\"view\":{\"id\":\"751f8b9b-ef4c-48f1-911b-b27a4fca914e\",\"type\":\"CDSView\"}},\"id\":\"9c11a2fc-6bdc-4531-a471-36014bf1d726\",\"type\":\"GlyphRenderer\"},{\"attributes\":{\"dimension\":1,\"plot\":{\"id\":\"55f896a0-2776-4c43-8828-23f9b48dc761\",\"subtype\":\"Figure\",\"type\":\"Plot\"},\"ticker\":{\"id\":\"19ec022e-f7fb-427a-b895-b11f0cae564f\",\"type\":\"LogTicker\"}},\"id\":\"e772b138-2793-43f2-b1bb-edcbd23c3e74\",\"type\":\"Grid\"},{\"attributes\":{\"overlay\":{\"id\":\"c3966e38-de5d-4977-9a93-2b29d6bce85d\",\"type\":\"BoxAnnotation\"}},\"id\":\"1be993ff-36e1-4809-9f96-e70441fb10bd\",\"type\":\"BoxZoomTool\"},{\"attributes\":{},\"id\":\"70f7a2c5-92f3-4f39-8392-ecec45946ca5\",\"type\":\"Selection\"},{\"attributes\":{\"axis_label\":\"cooling rate [K/day]\",\"formatter\":{\"id\":\"89bce36b-92f5-4c58-b0bd-527b456fc8da\",\"type\":\"BasicTickFormatter\"},\"plot\":{\"id\":\"e1022e8b-a756-41d8-8b1c-668318ce8e43\",\"subtype\":\"Figure\",\"type\":\"Plot\"},\"ticker\":{\"id\":\"2842aeab-5314-430a-9cfa-e6bc98f8cc32\",\"type\":\"BasicTicker\"}},\"id\":\"6242a281-e593-44ec-bf08-3e1d34800230\",\"type\":\"LinearAxis\"},{\"attributes\":{\"line_alpha\":0.6,\"line_color\":\"#e41a1c\",\"line_dash\":[6],\"line_width\":5,\"x\":{\"field\":\"x\"},\"y\":{\"field\":\"y\"}},\"id\":\"d9ea30e0-e56f-423a-b699-c7ae6640a933\",\"type\":\"Line\"},{\"attributes\":{},\"id\":\"5f298b62-13f6-465e-88ee-9765b0e6993d\",\"type\":\"UnionRenderers\"},{\"attributes\":{\"items\":[{\"id\":\"8f9cbb7c-4a27-4c0b-aa32-39488ebbc82f\",\"type\":\"LegendItem\"},{\"id\":\"734cfce0-22e4-4247-9098-acafb8b2a905\",\"type\":\"LegendItem\"},{\"id\":\"fce26ed0-736c-4e09-9806-63a572912d73\",\"type\":\"LegendItem\"}],\"label_text_font_size\":{\"value\":\"8pt\"},\"location\":\"top_center\",\"orientation\":\"horizontal\",\"plot\":{\"id\":\"e1022e8b-a756-41d8-8b1c-668318ce8e43\",\"subtype\":\"Figure\",\"type\":\"Plot\"}},\"id\":\"6d0aa813-4106-43b1-a442-a996be3268f1\",\"type\":\"Legend\"},{\"attributes\":{\"data_source\":{\"id\":\"6b7fd845-5f7b-45aa-a761-fe8e858c9089\",\"type\":\"ColumnDataSource\"},\"glyph\":{\"id\":\"7ef6225a-35c0-4651-a91d-a3a888b9bfac\",\"type\":\"Circle\"},\"hover_glyph\":null,\"muted_glyph\":null,\"nonselection_glyph\":{\"id\":\"46c7f04a-a3d6-4d14-8a51-4c074b5f42bb\",\"type\":\"Circle\"},\"selection_glyph\":null,\"view\":{\"id\":\"12b4e418-f6cc-4642-821b-b3162f12679b\",\"type\":\"CDSView\"}},\"id\":\"b55504b9-5ef5-4ee5-abc0-84d5164bb8c6\",\"type\":\"GlyphRenderer\"},{\"attributes\":{},\"id\":\"3e97ad8c-78d4-462e-813d-b6b32c3ee88b\",\"type\":\"BasicTicker\"},{\"attributes\":{},\"id\":\"aad16cc3-f1b7-489f-baff-80e5f2f1cea4\",\"type\":\"HelpTool\"},{\"attributes\":{\"data_source\":{\"id\":\"5c08cea4-be2c-4ae8-8b24-fab326c523f0\",\"type\":\"ColumnDataSource\"},\"glyph\":{\"id\":\"d9ea30e0-e56f-423a-b699-c7ae6640a933\",\"type\":\"Line\"},\"hover_glyph\":null,\"muted_glyph\":null,\"nonselection_glyph\":{\"id\":\"e93fe86c-d2a6-4d0c-986f-5ed4915f43ff\",\"type\":\"Line\"},\"selection_glyph\":null,\"view\":{\"id\":\"df67857d-d85e-4252-a2fb-888ce1230abc\",\"type\":\"CDSView\"}},\"id\":\"9059dbd9-4dc1-4e42-8eb7-adcfc623d43b\",\"type\":\"GlyphRenderer\"},{\"attributes\":{},\"id\":\"2842aeab-5314-430a-9cfa-e6bc98f8cc32\",\"type\":\"BasicTicker\"},{\"attributes\":{},\"id\":\"a7cb51f6-cf22-40c0-bf18-1745962b4a15\",\"type\":\"WheelZoomTool\"},{\"attributes\":{\"callback\":null,\"end\":13.587161458933508,\"start\":-0.25094368234451},\"id\":\"52494997-0198-4740-9543-6ed2b9251593\",\"type\":\"Range1d\"},{\"attributes\":{},\"id\":\"ed6673e0-80f3-4049-b01b-7425067d7959\",\"type\":\"LinearScale\"},{\"attributes\":{\"axis_label\":\"pressure [mb]\",\"formatter\":{\"id\":\"66318b2e-c736-4ff8-ade7-787fd650df1d\",\"type\":\"LogTickFormatter\"},\"plot\":{\"id\":\"55f896a0-2776-4c43-8828-23f9b48dc761\",\"subtype\":\"Figure\",\"type\":\"Plot\"},\"ticker\":{\"id\":\"19ec022e-f7fb-427a-b895-b11f0cae564f\",\"type\":\"LogTicker\"}},\"id\":\"b14d7f81-719f-4976-af1c-8e75fd9856c9\",\"type\":\"LogAxis\"},{\"attributes\":{\"line_color\":\"#4daf4a\",\"line_width\":1.5,\"x\":{\"field\":\"x\"},\"y\":{\"field\":\"y\"}},\"id\":\"56a14d1c-2325-40fa-9945-30404604e0e3\",\"type\":\"Line\"},{\"attributes\":{\"callback\":null,\"data\":{\"x\":{\"__ndarray__\":\"cm1sTMT3VEDEyvjosEJHQOKI6DjzCUNArgQWV9awPkB9Lm8XG3M4QEz+Qv6iYzNA7eV8HaPLLkCX1QHyTpMoQFBmYSYetiNAUB04GtGpH0AmFyVE5j8ZQJca9QPGqBNALJP+OOHHDEBNxaf7QF8AQKtislomWuw/cW2dcO6A9T/uJJvfPu0EQIaQLTI/JQ1AxGiII+PmEkCJvfVeuCsYQD6ZBhGbHB9AXQw69DTYJEAsubcwKucqQNuT9D5OmipAJyi3szEJJUBlNebh5WkgQDDcPHBr2xlArtlANXuQFEBdJadFHckQQI2Avh0ZsQtAjYiwt1rsBUCL0SDoVBgAQK6C0nEEjvc/CggLSme58T9sXU2orFPnP0v0JYz9Gdg/vT38vxYczD9nBQTe6kHHP1IhkEXJwKo/8OZnhCVAub+xtVgCpmqzP6DUpY6g0+k/PKK3T1h4+D8RTDjQc1EAQG/dAQs7TwJAQt2eHpPLAEBWEh074x//PyCap9ZSGf4/rEzaTySm/T+7aXhHRmr9P688KeqeNP0/ruZ4EemD/D8olrZcn9T7P0+vNc9hW/s/i9VVL+4P+z+0NzC24uz6P8731Kza8vo/xFf4SHzq+z+gYyHpvHb8P68ROkiFevw/BAjYdCga/D8AUp8VbW77P3JrF/nKmvo/qCQeGfq++T/dplwHJfn4P2G4p+Uva/g/OzZ0RqMZ+D8dmn/iar73P/OuA7Ka8PY/gaaeQHGn9T9hkyjAH1L0P3aZGhdAU/M/n8VP/g7P8j+90HxHNvfyPwhNBtgrqvk/\",\"dtype\":\"float64\",\"shape\":[75]},\"y\":{\"__ndarray__\":\"GhExyth1ND/Sv8nbtpRIP2vylNV0PVE/aTum7souWD/At0SJ8fVgPw3Iuahxymc/MSNhhJWvcD/bTfBN02d3P2zb5nxnaoA/CD5h5MAGhz8NmeH1TyaQP+zrCsc9p5Y/LbKd76fGnz/bLW5ISEmmPww9YvTcQq8/JV2OstnstT8Er5Y7M8G+P0c+r3jqkcU/5h99k6ZBzj88bCIzFzjVP4enV8oyxN0//yH99nXg5D8qOpLLf0jtP5kqGJXUifQ/c9cS8kHP/D+/DpwzojQEQIEmwoanVwxA4lgXt9HgE0BSSZ2AJuIbQAMJih9jjiNA5q4l5INuK0AwTKYKRj0zQNv5fmq8/DpAaCJseHrtQkB/+zpwzoxKQM3MzMzMeFJAZmZmZmZqWEAAAAAAAFxeQM3MzMzMJmJAmpmZmZkfZUBmZmZmZhhoQDMzMzMzEWtAAAAAAAAKbkBmZmZmZoFwQM3MzMzM/XFAMzMzMzN6c0CamZmZmfZ0QAAAAAAAc3ZAZmZmZmbvd0DNzMzMzGt5QDMzMzMz6HpAmpmZmZlkfEAAAAAAAOF9QGZmZmZmXX9AZmZmZuZsgECamZmZGSuBQM3MzMxM6YFAAAAAAICngkAzMzMzs2WDQGZmZmbmI4RAmpmZmRnihEDNzMzMTKCFQAAAAACAXoZAMzMzM7Mch0BmZmZm5tqHQJqZmZkZmYhAzczMzExXiUAAAAAAgBWKQDMzMzOz04pAZmZmZuaRi0CamZmZGVCMQM3MzMxMDo1AAAAAAIDMjUAzMzMzs4qOQGZmZmbmSI9A\",\"dtype\":\"float64\",\"shape\":[75]}},\"selected\":{\"id\":\"5d1432ec-c7bc-49c3-91c2-7f928df99a26\",\"type\":\"Selection\"},\"selection_policy\":{\"id\":\"e3cfd7ae-8199-45e7-869c-e709ae2d18cc\",\"type\":\"UnionRenderers\"}},\"id\":\"6b628b91-3594-4d6d-8178-fc02da06ff64\",\"type\":\"ColumnDataSource\"},{\"attributes\":{\"children\":[{\"id\":\"e1022e8b-a756-41d8-8b1c-668318ce8e43\",\"subtype\":\"Figure\",\"type\":\"Plot\"},{\"id\":\"55f896a0-2776-4c43-8828-23f9b48dc761\",\"subtype\":\"Figure\",\"type\":\"Plot\"},{\"id\":\"f919f8e1-4ddd-4ce7-99e7-1cb7aa7eb7a1\",\"subtype\":\"Figure\",\"type\":\"Plot\"}]},\"id\":\"9ca4b483-4563-4258-8346-420cf6d2bb48\",\"type\":\"Row\"},{\"attributes\":{\"toolbar\":{\"id\":\"4e692c2f-33d5-4929-9262-c35ffd364974\",\"type\":\"ProxyToolbar\"},\"toolbar_location\":\"above\"},\"id\":\"db206f10-6c09-4077-8f7d-c2d451d0ee9d\",\"type\":\"ToolbarBox\"},{\"attributes\":{\"axis_label\":\"pressure [mb]\",\"formatter\":{\"id\":\"137f7c76-698e-4728-b2ed-69f74c857a6e\",\"type\":\"LogTickFormatter\"},\"plot\":{\"id\":\"f919f8e1-4ddd-4ce7-99e7-1cb7aa7eb7a1\",\"subtype\":\"Figure\",\"type\":\"Plot\"},\"ticker\":{\"id\":\"e251e26f-4555-493f-b5e5-3b05ac9b9370\",\"type\":\"LogTicker\"}},\"id\":\"47811455-c099-4342-a18c-5a1fdf35fb52\",\"type\":\"LogAxis\"},{\"attributes\":{\"label\":{\"value\":\"old CLIRAD (H2012)\"},\"renderers\":[{\"id\":\"16fad770-6a8d-49e9-a5b0-920ab2c387b2\",\"type\":\"GlyphRenderer\"},{\"id\":\"5ab94088-b6f1-4757-b5a0-351e5dde7e64\",\"type\":\"GlyphRenderer\"}]},\"id\":\"29b303d0-ee93-4a0d-8fc7-4c930e69b6c5\",\"type\":\"LegendItem\"},{\"attributes\":{\"callback\":null,\"data\":{\"x\":{\"__ndarray__\":\"f4/ZiHBvTUBBtZ0vt7pGQG/fINbyy0NA0ajo+rFtQEBnDVKFn7o5QN3NivFcKTNAabSgY2PuK0B7hWUXvhYlQDx3CYxN8iBAfnWJavBXHECk3a5AKlsXQDOyYGKwNxJAHZ1V197ZCUBJkCI3QVr7P4M/exKR8OU/Ajm/zOnF9D8fwE2FbJgFQIqMToGNuQ5AlsKIL7yaE0DO7Jqv3tgXQO3K5wApaB1AWVZlhe2zI0DW0WHIGv0pQAkxhJVrIipA8iTl8GfOJEAjPetJ4hMgQE9BoH+NIBpASV7Hy1F2FUADwAhqxnQRQJjwl50iXQxA+iL5WPiKBkAltKk2mdr/PyZyy9df1/Y/u1Qqa6E48j95+UcQ7d/nP0JnUJIYxtM/1wsiMkwQwT92lYktlGnAP61qGo0owZk/Z/0TGbqCvb+uVUupIz+sP5VC1H0ssOg/ycFw9Uyz9z/ssMoMKSoAQGEZPzcyqAFATWXAqDEKAEAh1iL6bUL+P9gi4BmCD/0/x1rYn/hO/D9OqHoOOSH8P9pKBDuZQ/w/uG9sL4bb+z+Lyb/QD3T7P7369TPpE/s/lb7l8YHT+j8opgNAsqT6P0dOkJvUqfo/RwAjXhHG+z/XZlL5ja38PzwFoCGBLv0/fU6ZEVkx/T8m/V7HFnr8P4QnlD9IdPs/aP/heEc8+j87prZp7xn5P48FYqBGjfg/82a+l4Nf+D9jMgjrgDX4P2lOm8ca0/c/E1Ikvp+29j+1rnMBn4P1Pyo/ZCKJpPQ/GyZyNwMF9D92Gg/MT070P5rtBcT2+/o/\",\"dtype\":\"float64\",\"shape\":[75]},\"y\":{\"__ndarray__\":\"GhExyth1ND/Sv8nbtpRIP2vylNV0PVE/aTum7souWD/At0SJ8fVgPw3Iuahxymc/MSNhhJWvcD/bTfBN02d3P2zb5nxnaoA/CD5h5MAGhz8NmeH1TyaQP+zrCsc9p5Y/LbKd76fGnz/bLW5ISEmmPww9YvTcQq8/JV2OstnstT8Er5Y7M8G+P0c+r3jqkcU/5h99k6ZBzj88bCIzFzjVP4enV8oyxN0//yH99nXg5D8qOpLLf0jtP5kqGJXUifQ/c9cS8kHP/D+/DpwzojQEQIEmwoanVwxA4lgXt9HgE0BSSZ2AJuIbQAMJih9jjiNA5q4l5INuK0AwTKYKRj0zQNv5fmq8/DpAaCJseHrtQkB/+zpwzoxKQM3MzMzMeFJAZmZmZmZqWEAAAAAAAFxeQM3MzMzMJmJAmpmZmZkfZUBmZmZmZhhoQDMzMzMzEWtAAAAAAAAKbkBmZmZmZoFwQM3MzMzM/XFAMzMzMzN6c0CamZmZmfZ0QAAAAAAAc3ZAZmZmZmbvd0DNzMzMzGt5QDMzMzMz6HpAmpmZmZlkfEAAAAAAAOF9QGZmZmZmXX9AZmZmZuZsgECamZmZGSuBQM3MzMxM6YFAAAAAAICngkAzMzMzs2WDQGZmZmbmI4RAmpmZmRnihEDNzMzMTKCFQAAAAACAXoZAMzMzM7Mch0BmZmZm5tqHQJqZmZkZmYhAzczMzExXiUAAAAAAgBWKQDMzMzOz04pAZmZmZuaRi0CamZmZGVCMQM3MzMxMDo1AAAAAAIDMjUAzMzMzs4qOQGZmZmbmSI9A\",\"dtype\":\"float64\",\"shape\":[75]}},\"selected\":{\"id\":\"d402648f-39fa-423d-9fd4-da64e8962bfc\",\"type\":\"Selection\"},\"selection_policy\":{\"id\":\"85e43e77-a77b-4f34-96fc-964aceef7587\",\"type\":\"UnionRenderers\"}},\"id\":\"5c08cea4-be2c-4ae8-8b24-fab326c523f0\",\"type\":\"ColumnDataSource\"},{\"attributes\":{\"callback\":null,\"end\":0.01,\"start\":1020},\"id\":\"7d6fbac2-0a4b-44a5-8bc6-4d06095bebe5\",\"type\":\"Range1d\"},{\"attributes\":{\"source\":{\"id\":\"dfd64599-4245-4f6d-8b30-3ceef4e1e8b0\",\"type\":\"ColumnDataSource\"}},\"id\":\"c7ee8e7f-6c68-4ed6-8243-e86ef5055e32\",\"type\":\"CDSView\"},{\"attributes\":{\"line_alpha\":0.1,\"line_color\":\"#1f77b4\",\"line_width\":1.5,\"x\":{\"field\":\"x\"},\"y\":{\"field\":\"y\"}},\"id\":\"96ed2f38-8458-40f1-aeb6-9734ac797a3e\",\"type\":\"Line\"},{\"attributes\":{\"line_alpha\":0.1,\"line_color\":\"#1f77b4\",\"line_width\":1.5,\"x\":{\"field\":\"x\"},\"y\":{\"field\":\"y\"}},\"id\":\"87aead25-1b3e-4d83-a23f-855e792bcb24\",\"type\":\"Line\"},{\"attributes\":{\"plot\":{\"id\":\"f919f8e1-4ddd-4ce7-99e7-1cb7aa7eb7a1\",\"subtype\":\"Figure\",\"type\":\"Plot\"},\"ticker\":{\"id\":\"7ab3d83b-6d26-4a6a-8c9b-d6aab06a2077\",\"type\":\"BasicTicker\"}},\"id\":\"6570da05-4c1e-486b-95f2-ce25faf6dc72\",\"type\":\"Grid\"},{\"attributes\":{\"source\":{\"id\":\"6b7fd845-5f7b-45aa-a761-fe8e858c9089\",\"type\":\"ColumnDataSource\"}},\"id\":\"12b4e418-f6cc-4642-821b-b3162f12679b\",\"type\":\"CDSView\"},{\"attributes\":{\"source\":{\"id\":\"5dd16492-1b11-41a5-94c6-b8fab0511abb\",\"type\":\"ColumnDataSource\"}},\"id\":\"f494357a-e28b-41c0-9584-73df00e137a1\",\"type\":\"CDSView\"},{\"attributes\":{\"children\":[{\"id\":\"db206f10-6c09-4077-8f7d-c2d451d0ee9d\",\"type\":\"ToolbarBox\"},{\"id\":\"f9445ddf-860c-4e48-a160-5ac16e6eee8f\",\"type\":\"Column\"}]},\"id\":\"f98d6246-40ac-4a8c-9fc6-0cc0580f819c\",\"type\":\"Column\"},{\"attributes\":{\"source\":{\"id\":\"3442c4d8-9c3d-4c25-bbde-ab79480a5a5b\",\"type\":\"ColumnDataSource\"}},\"id\":\"2c37a6ff-ec53-492c-83ab-69737dcae2a7\",\"type\":\"CDSView\"},{\"attributes\":{\"data_source\":{\"id\":\"5dd16492-1b11-41a5-94c6-b8fab0511abb\",\"type\":\"ColumnDataSource\"},\"glyph\":{\"id\":\"6044879e-c441-4934-b648-185e39100c8c\",\"type\":\"Square\"},\"hover_glyph\":null,\"muted_glyph\":null,\"nonselection_glyph\":{\"id\":\"619769bd-b0b6-4120-b013-52e8ef828790\",\"type\":\"Square\"},\"selection_glyph\":null,\"view\":{\"id\":\"f494357a-e28b-41c0-9584-73df00e137a1\",\"type\":\"CDSView\"}},\"id\":\"16fad770-6a8d-49e9-a5b0-920ab2c387b2\",\"type\":\"GlyphRenderer\"},{\"attributes\":{\"line_alpha\":0.8,\"line_color\":\"#984ea3\",\"line_width\":1.5,\"x\":{\"field\":\"x\"},\"y\":{\"field\":\"y\"}},\"id\":\"133aed9a-179d-49a9-a9ca-a01ea8c92c43\",\"type\":\"Line\"},{\"attributes\":{\"fill_alpha\":{\"value\":0.1},\"fill_color\":{\"value\":\"#1f77b4\"},\"line_alpha\":{\"value\":0.1},\"line_color\":{\"value\":\"#1f77b4\"},\"x\":{\"field\":\"x\"},\"y\":{\"field\":\"y\"}},\"id\":\"619769bd-b0b6-4120-b013-52e8ef828790\",\"type\":\"Square\"},{\"attributes\":{\"line_alpha\":0.5,\"line_color\":\"#984ea3\",\"line_width\":1.5,\"x\":{\"field\":\"x\"},\"y\":{\"field\":\"y\"}},\"id\":\"d4ae2918-c861-4cde-b4f8-786c0a21f1b3\",\"type\":\"Line\"},{\"attributes\":{\"callback\":null,\"data\":{\"x\":{\"__ndarray__\":\"x5b+HzAAOcBUsGIrN//wv5rRCqfzP/g/lWfa9WxUAUC87i3eRnj0P2k3GFwGI82/KIzhzv3p9r/dgOLUhuT7v5h4v9KEHva/lz51fQWP6r8MmGM3wEvevzuGRhlaEde/bbBHDRNw17866bMAA5HVv6SM3CBVpsm/z43Ge5Rgp78kZlO2tGW1P0jAD/LkRMk/mjoLgCF7xj9YL7TWa7a0vxDl7AEhR9u/QmBL7XZE4r+66rwK7UHdv520GFyq+M2/jJoBaeFkvb+mEL7+5YDFv8xH2diDSLE/UZPQ0NK6zD++VDOMJHXFP0sBLvsvgbU/rU0TKbTTsz+AvPtlJoSVvyQR4kCT1Ka/DCzTR4jOnz+RgVP/DIiRPyc0VueTT7G/zGO0G5UXtr/Cv+nBWmGrvw3YBf5pwJu/5lmwUlIKkb9iK8y2UCyVv7MgGQ1BN6K/Zg7cSGuhqL97ks22YaWTv6+BWHga4bS/if7Ouy4suL+uhkcfqK6rv3h0d8wLnbC/Th4fALtytb/0FtyP05C0v706nuS1IK6/nt6OQVwMpb+xJ7P94iOYv7Ik7c8m3pG/XHsLuB42jr+yYiSLHQySv2VhKlGEQZK/gL6ranU1gr8Tm4EYiGiLP2Bxvix7f6Y/qGcUzAlzsT9osvobm7qwP2qCl8+oL6s/W7D28FdTnz+Ar/8sMWWAP2CXJl1dC4E/wS2MUhR4kT8AEiYigsWdP+Tu87ICUKw/Urla2OfysD86tbEU9BezP0pbmrSQFLU/zwcmkkNfsz+emyRJmHG1PyEJ+r+uHLU/\",\"dtype\":\"float64\",\"shape\":[75]},\"y\":{\"__ndarray__\":\"GhExyth1ND/Sv8nbtpRIP2vylNV0PVE/aTum7souWD/At0SJ8fVgPw3Iuahxymc/MSNhhJWvcD/bTfBN02d3P2zb5nxnaoA/CD5h5MAGhz8NmeH1TyaQP+zrCsc9p5Y/LbKd76fGnz/bLW5ISEmmPww9YvTcQq8/JV2OstnstT8Er5Y7M8G+P0c+r3jqkcU/5h99k6ZBzj88bCIzFzjVP4enV8oyxN0//yH99nXg5D8qOpLLf0jtP5kqGJXUifQ/c9cS8kHP/D+/DpwzojQEQIEmwoanVwxA4lgXt9HgE0BSSZ2AJuIbQAMJih9jjiNA5q4l5INuK0AwTKYKRj0zQNv5fmq8/DpAaCJseHrtQkB/+zpwzoxKQM3MzMzMeFJAZmZmZmZqWEAAAAAAAFxeQM3MzMzMJmJAmpmZmZkfZUBmZmZmZhhoQDMzMzMzEWtAAAAAAAAKbkBmZmZmZoFwQM3MzMzM/XFAMzMzMzN6c0CamZmZmfZ0QAAAAAAAc3ZAZmZmZmbvd0DNzMzMzGt5QDMzMzMz6HpAmpmZmZlkfEAAAAAAAOF9QGZmZmZmXX9AZmZmZuZsgECamZmZGSuBQM3MzMxM6YFAAAAAAICngkAzMzMzs2WDQGZmZmbmI4RAmpmZmRnihEDNzMzMTKCFQAAAAACAXoZAMzMzM7Mch0BmZmZm5tqHQJqZmZkZmYhAzczMzExXiUAAAAAAgBWKQDMzMzOz04pAZmZmZuaRi0CamZmZGVCMQM3MzMxMDo1AAAAAAIDMjUAzMzMzs4qOQGZmZmbmSI9A\",\"dtype\":\"float64\",\"shape\":[75]}},\"selected\":{\"id\":\"3aaebfe3-bbf9-4ecd-b37b-b079b23940b0\",\"type\":\"Selection\"},\"selection_policy\":{\"id\":\"254be9ac-1c94-4425-b416-e2a75f443220\",\"type\":\"UnionRenderers\"}},\"id\":\"a889404f-24de-4035-baf3-752356e7da4f\",\"type\":\"ColumnDataSource\"},{\"attributes\":{\"data_source\":{\"id\":\"6b628b91-3594-4d6d-8178-fc02da06ff64\",\"type\":\"ColumnDataSource\"},\"glyph\":{\"id\":\"56a14d1c-2325-40fa-9945-30404604e0e3\",\"type\":\"Line\"},\"hover_glyph\":null,\"muted_glyph\":null,\"nonselection_glyph\":{\"id\":\"21820c06-e61c-4227-8564-781a9da02341\",\"type\":\"Line\"},\"selection_glyph\":null,\"view\":{\"id\":\"fefdd113-b980-4530-9243-215a01dfa674\",\"type\":\"CDSView\"}},\"id\":\"f5992ac1-d83b-4830-8139-6e809d9c94fd\",\"type\":\"GlyphRenderer\"},{\"attributes\":{\"callback\":null,\"data\":{\"x\":{\"__ndarray__\":\"MEr14GpmEsDQUQomvS0TwDCOLtAVRQnA0G4E7w1kFUBACG6K07rzP2DG3ETKaAVAQDSvE8+a1D9AWLw0a3bwP8B2CVgEGd6/cAEb8SXj5T+gXWifLPzZv1BIY1h4OdU/eFTeaCAF0r/QU/RFxYvAP0h4oPen7Ly/oKOQ+b0VoD/AKRbxqoK7vwA09+KM5nu/gBvKVo2Xv78gEqWWOp7Ov4BzIslj9ti/YApK0VUU37/wyd0OWm7ov0D75ws5Mua/4Ic6h4XW3r+Q48y885XWvwB/tLThVLC/IP++3wZjwr+A8gVsXEm9v8DQmm/daKO/gI3nfaiUkj+AQE7cYBOdv+BkMo6PXa2/AKoyxVLtcD/A4u/aVS+Av6A9GyNwb46/kNIdfcBUiz+AHIdAy8FcP3BuzJoOMok/bmce0np0pD8UEyzBK56QP8Beg9VHjZ+/QPKVd3D5n7+AD/jI4QOjv4DcwbQ4Uai/QG61+C87or8ASozDVZqev0D75C8ty6C/ANT1m/xjlb9Ar8iri82Xv0BrLlVYt5W/ABSboWSMa78Ahb8UGtelv0BWMP2VTZ2/AMWkubnjcr+ACh1oBKqKv0CiEj/MA5G/APDicuinMj/Ajj/XEoCaP4DwRGmfKYS/AAqIEFfOZj8gItboev6lP0AvBF6BP7c/IN1dRRBwqj9gCvj956WkP8BM5jLOU7A/kB8XOk4Itz8Qy8mloMS8P8Bl77ruFZ4/AHOrAh4hnz9A3sjPVdmmP/C+80esF7A/gAETBSmitD+gbg0US524P6C02mPse7E/\",\"dtype\":\"float64\",\"shape\":[75]},\"y\":{\"__ndarray__\":\"GhExyth1ND/Sv8nbtpRIP2vylNV0PVE/aTum7souWD/At0SJ8fVgPw3Iuahxymc/MSNhhJWvcD/bTfBN02d3P2zb5nxnaoA/CD5h5MAGhz8NmeH1TyaQP+zrCsc9p5Y/LbKd76fGnz/bLW5ISEmmPww9YvTcQq8/JV2OstnstT8Er5Y7M8G+P0c+r3jqkcU/5h99k6ZBzj88bCIzFzjVP4enV8oyxN0//yH99nXg5D8qOpLLf0jtP5kqGJXUifQ/c9cS8kHP/D+/DpwzojQEQIEmwoanVwxA4lgXt9HgE0BSSZ2AJuIbQAMJih9jjiNA5q4l5INuK0AwTKYKRj0zQNv5fmq8/DpAaCJseHrtQkB/+zpwzoxKQM3MzMzMeFJAZmZmZmZqWEAAAAAAAFxeQM3MzMzMJmJAmpmZmZkfZUBmZmZmZhhoQDMzMzMzEWtAAAAAAAAKbkBmZmZmZoFwQM3MzMzM/XFAMzMzMzN6c0CamZmZmfZ0QAAAAAAAc3ZAZmZmZmbvd0DNzMzMzGt5QDMzMzMz6HpAmpmZmZlkfEAAAAAAAOF9QGZmZmZmXX9AZmZmZuZsgECamZmZGSuBQM3MzMxM6YFAAAAAAICngkAzMzMzs2WDQGZmZmbmI4RAmpmZmRnihEDNzMzMTKCFQAAAAACAXoZAMzMzM7Mch0BmZmZm5tqHQJqZmZkZmYhAzczMzExXiUAAAAAAgBWKQDMzMzOz04pAZmZmZuaRi0CamZmZGVCMQM3MzMxMDo1AAAAAAIDMjUAzMzMzs4qOQGZmZmbmSI9A\",\"dtype\":\"float64\",\"shape\":[75]}},\"selected\":{\"id\":\"c751793c-74f7-460b-81c4-39c3d568ac40\",\"type\":\"Selection\"},\"selection_policy\":{\"id\":\"a14e19c8-798d-47e9-9cb5-8065498a4725\",\"type\":\"UnionRenderers\"}},\"id\":\"5c5d74e6-035d-4799-bc0b-e35b5916e75b\",\"type\":\"ColumnDataSource\"},{\"attributes\":{\"callback\":null,\"data\":{\"x\":{\"__ndarray__\":\"cm1sTMT3VEDEyvjosEJHQOKI6DjzCUNArgQWV9awPkB9Lm8XG3M4QEz+Qv6iYzNA7eV8HaPLLkCX1QHyTpMoQFBmYSYetiNAUB04GtGpH0AmFyVE5j8ZQJca9QPGqBNALJP+OOHHDEBNxaf7QF8AQKtislomWuw/cW2dcO6A9T/uJJvfPu0EQIaQLTI/JQ1AxGiII+PmEkCJvfVeuCsYQD6ZBhGbHB9AXQw69DTYJEAsubcwKucqQNuT9D5OmipAJyi3szEJJUBlNebh5WkgQDDcPHBr2xlArtlANXuQFEBdJadFHckQQI2Avh0ZsQtAjYiwt1rsBUCL0SDoVBgAQK6C0nEEjvc/CggLSme58T9sXU2orFPnP0v0JYz9Gdg/vT38vxYczD9nBQTe6kHHP1IhkEXJwKo/8OZnhCVAub+xtVgCpmqzP6DUpY6g0+k/PKK3T1h4+D8RTDjQc1EAQG/dAQs7TwJAQt2eHpPLAEBWEh074x//PyCap9ZSGf4/rEzaTySm/T+7aXhHRmr9P688KeqeNP0/ruZ4EemD/D8olrZcn9T7P0+vNc9hW/s/i9VVL+4P+z+0NzC24uz6P8731Kza8vo/xFf4SHzq+z+gYyHpvHb8P68ROkiFevw/BAjYdCga/D8AUp8VbW77P3JrF/nKmvo/qCQeGfq++T/dplwHJfn4P2G4p+Uva/g/OzZ0RqMZ+D8dmn/iar73P/OuA7Ka8PY/gaaeQHGn9T9hkyjAH1L0P3aZGhdAU/M/n8VP/g7P8j+90HxHNvfyPwhNBtgrqvk/\",\"dtype\":\"float64\",\"shape\":[75]},\"y\":{\"__ndarray__\":\"GhExyth1ND/Sv8nbtpRIP2vylNV0PVE/aTum7souWD/At0SJ8fVgPw3Iuahxymc/MSNhhJWvcD/bTfBN02d3P2zb5nxnaoA/CD5h5MAGhz8NmeH1TyaQP+zrCsc9p5Y/LbKd76fGnz/bLW5ISEmmPww9YvTcQq8/JV2OstnstT8Er5Y7M8G+P0c+r3jqkcU/5h99k6ZBzj88bCIzFzjVP4enV8oyxN0//yH99nXg5D8qOpLLf0jtP5kqGJXUifQ/c9cS8kHP/D+/DpwzojQEQIEmwoanVwxA4lgXt9HgE0BSSZ2AJuIbQAMJih9jjiNA5q4l5INuK0AwTKYKRj0zQNv5fmq8/DpAaCJseHrtQkB/+zpwzoxKQM3MzMzMeFJAZmZmZmZqWEAAAAAAAFxeQM3MzMzMJmJAmpmZmZkfZUBmZmZmZhhoQDMzMzMzEWtAAAAAAAAKbkBmZmZmZoFwQM3MzMzM/XFAMzMzMzN6c0CamZmZmfZ0QAAAAAAAc3ZAZmZmZmbvd0DNzMzMzGt5QDMzMzMz6HpAmpmZmZlkfEAAAAAAAOF9QGZmZmZmXX9AZmZmZuZsgECamZmZGSuBQM3MzMxM6YFAAAAAAICngkAzMzMzs2WDQGZmZmbmI4RAmpmZmRnihEDNzMzMTKCFQAAAAACAXoZAMzMzM7Mch0BmZmZm5tqHQJqZmZkZmYhAzczMzExXiUAAAAAAgBWKQDMzMzOz04pAZmZmZuaRi0CamZmZGVCMQM3MzMxMDo1AAAAAAIDMjUAzMzMzs4qOQGZmZmbmSI9A\",\"dtype\":\"float64\",\"shape\":[75]}},\"selected\":{\"id\":\"3a74585a-f695-43f6-9d1e-59d871fb352c\",\"type\":\"Selection\"},\"selection_policy\":{\"id\":\"11679b10-37dc-40db-9bff-e4d211736f23\",\"type\":\"UnionRenderers\"}},\"id\":\"3442c4d8-9c3d-4c25-bbde-ab79480a5a5b\",\"type\":\"ColumnDataSource\"},{\"attributes\":{\"tools\":[{\"id\":\"5262ad6a-801e-43c9-a4d0-009bbb12c1f3\",\"type\":\"PanTool\"},{\"id\":\"938d3b27-1c2b-4fa3-85a0-6d4ff84c4d01\",\"type\":\"WheelZoomTool\"},{\"id\":\"c4580e65-96ab-4205-aa1d-7620b0b8413a\",\"type\":\"BoxZoomTool\"},{\"id\":\"54b7cd7f-7d93-4945-a77b-28ff4e5c36fc\",\"type\":\"SaveTool\"},{\"id\":\"ae22fb40-276d-4add-9385-688ff442109d\",\"type\":\"ResetTool\"},{\"id\":\"aad16cc3-f1b7-489f-baff-80e5f2f1cea4\",\"type\":\"HelpTool\"},{\"id\":\"80a11018-8b17-48fa-acb5-36d3593dbc56\",\"type\":\"PanTool\"},{\"id\":\"a7cb51f6-cf22-40c0-bf18-1745962b4a15\",\"type\":\"WheelZoomTool\"},{\"id\":\"1be993ff-36e1-4809-9f96-e70441fb10bd\",\"type\":\"BoxZoomTool\"},{\"id\":\"168c054b-2959-4044-a080-6f47cdfde6b3\",\"type\":\"SaveTool\"},{\"id\":\"374c0270-9c93-4f7f-bdc2-5ff5e06471d3\",\"type\":\"ResetTool\"},{\"id\":\"12faffb8-e8ea-40c8-a5a4-19054035b40e\",\"type\":\"HelpTool\"},{\"id\":\"5b1fdee3-69bf-4747-9f57-7991ca4243ee\",\"type\":\"PanTool\"},{\"id\":\"42f056a6-a880-40b6-ab69-cd83fe9aec0d\",\"type\":\"WheelZoomTool\"},{\"id\":\"eee26bd5-35a5-4e18-bcda-2516ae72e17b\",\"type\":\"BoxZoomTool\"},{\"id\":\"324370ab-c2a3-4198-9da1-189c9a91672c\",\"type\":\"SaveTool\"},{\"id\":\"876e13bc-6b50-485b-a1ec-d9f2d8b5acbe\",\"type\":\"ResetTool\"},{\"id\":\"79755a59-9882-4556-a5a5-06ad31dce849\",\"type\":\"HelpTool\"}]},\"id\":\"4e692c2f-33d5-4929-9262-c35ffd364974\",\"type\":\"ProxyToolbar\"},{\"attributes\":{\"callback\":null,\"data\":{\"x\":{\"__ndarray__\":\"zxhdnl3RU0CKgDdE+dxEQP+f5duhdUFAMZBr6ewEQkABDxZQyK45QBiX3ka8EDZAj18alnlwL0CfYJlYHKIqQJoaoQNWxSJAv74t7BozIUBMkS56I6AXQBxPe4ld/BRAncjiKz2HCkCKCgdQ/WcBQKJTvluRvOg/jvJpYJwB9j+gcxKIKREEQOwUvOtLFw1AVkAt7oRoEkD4lECKxjYXQAZydNQ0jR1ACryvRZLfI0CN3MmPRGApQCcUNq4qNylA6FN9h30SJECRnP+HbGofQDQKaukXmhlAteFC/mL9E0CTDffT91MQQEoVAKh1YwtAqFesCIQRBkAUatBMXLz/P4fvYPUXo/Y/tDrQnFTK8T/hneFQ7xLnP14aDQuCJtc/5hrOx2LRzT+gE4V0bnvHP3eeIXamhrA/cmaxNtALrr92uqPyMJK3P6q5+U821+g/c0rZjXL49z/TaxRJZAUAQP3VLij27QFAiQe8XqaCAEAu4Q7keaX+P0ZyKG35kv0/XHVqXZRQ/T/+RskYEAv9PwKD1IjB3fw/JBko3yJ2/D8AmhCM5iX7P/btQHcr5vo/xjCcdQr9+j+f/V+tjrf6P0Wt2HvLrvo/84V/x6br+z/bYX40veD8P86HZwkyUvw/CUxgoI8l/D8RA+bsYB78P2au9w7DDvw/kRNJm3qS+j8wZ0xHVJ75Py0d1shscPk/NKgVKiiK+T/ONtzstIr5P4ps72zyaPc/TVSpuPUj9j9T2qZu6gj1P2XVmdu6VPQ/t/WgjjEZ9D+np734CoH0P1L4Q57qwfo/\",\"dtype\":\"float64\",\"shape\":[75]},\"y\":{\"__ndarray__\":\"hLndy31yND/6fmq8dJNIP8n9DkWBPlE/aDum7souWD/b4a/JGvVgP9f34SAhymc/ZvM4DOavcD+z0M5pFmh3PxuC4zJuaoA/xjcUPlsHhz8uHAjJAiaQP9ieWRKgppY/oI7HDFTGnz+a5h2n6EimPzS6g9iZQq8/IuAQqtTstT9SSZ2AJsK+P4nS3uALk8U/ih9j7lpCzj+ASL99HTjVP4enV8oyxN0/ACL99nXg5D9fmEwVjErtPyUGgZVDi/Q/AiuHFtnO/D9OYhBYOTQEQPHSTWIQWAxA4XoUrkfhE0D8qfHSTeIbQMh2vp8ajyNArkfhehRuK0Bcj8L1KDwzQFyPwvUo/DpAPgrXo3DtQkDNzMzMzIxKQClcj8L1eFJAKVyPwvVoWECamZmZmVleQGZmZmZmJmJAAAAAAAAgZUCamZmZmRloQJqZmZmZEWtAmpmZmZkJbkCamZmZmYFwQGZmZmZm/nFAZmZmZmZ6c0BmZmZmZvZ0QDQzMzMzc3ZAAAAAAADwd0AAAAAAAGx5QAAAAAAA6HpAzMzMzMxkfEDMzMzMzOB9QM3MzMzMXH9AzczMzMxsgEAzMzMzMyuBQDMzMzMz6YFAMzMzMzOngkCamZmZmWWDQAAAAAAAJIRAAAAAAADihEAAAAAAAKCFQGZmZmZmXoZAzczMzMwch0DNzMzMzNqHQM3MzMzMmIhAMzMzMzNXiUCamZmZmRWKQAAAAAAA1IpAAAAAAACSi0AAAAAAAFCMQGZmZmZmDo1AzczMzMzMjUDNzMzMzIqOQM3MzMzMSI9A\",\"dtype\":\"float64\",\"shape\":[75]}},\"selected\":{\"id\":\"70f7a2c5-92f3-4f39-8392-ecec45946ca5\",\"type\":\"Selection\"},\"selection_policy\":{\"id\":\"5f298b62-13f6-465e-88ee-9765b0e6993d\",\"type\":\"UnionRenderers\"}},\"id\":\"13ffb85b-d273-47a3-af5e-b6d2550a454c\",\"type\":\"ColumnDataSource\"},{\"attributes\":{\"label\":{\"value\":\"CLIRAD\"},\"renderers\":[{\"id\":\"0327ee87-c34e-43dd-9412-2c729f0012be\",\"type\":\"GlyphRenderer\"}]},\"id\":\"47cbe287-779a-4805-95dc-dcee203d1568\",\"type\":\"LegendItem\"},{\"attributes\":{\"active_drag\":\"auto\",\"active_inspect\":\"auto\",\"active_scroll\":\"auto\",\"active_tap\":\"auto\",\"tools\":[{\"id\":\"5262ad6a-801e-43c9-a4d0-009bbb12c1f3\",\"type\":\"PanTool\"},{\"id\":\"938d3b27-1c2b-4fa3-85a0-6d4ff84c4d01\",\"type\":\"WheelZoomTool\"},{\"id\":\"c4580e65-96ab-4205-aa1d-7620b0b8413a\",\"type\":\"BoxZoomTool\"},{\"id\":\"54b7cd7f-7d93-4945-a77b-28ff4e5c36fc\",\"type\":\"SaveTool\"},{\"id\":\"ae22fb40-276d-4add-9385-688ff442109d\",\"type\":\"ResetTool\"},{\"id\":\"aad16cc3-f1b7-489f-baff-80e5f2f1cea4\",\"type\":\"HelpTool\"}]},\"id\":\"22cce145-404f-4af8-a64c-aff7f622f414\",\"type\":\"Toolbar\"},{\"attributes\":{\"data_source\":{\"id\":\"a889404f-24de-4035-baf3-752356e7da4f\",\"type\":\"ColumnDataSource\"},\"glyph\":{\"id\":\"133aed9a-179d-49a9-a9ca-a01ea8c92c43\",\"type\":\"Line\"},\"hover_glyph\":null,\"muted_glyph\":null,\"nonselection_glyph\":{\"id\":\"96ed2f38-8458-40f1-aeb6-9734ac797a3e\",\"type\":\"Line\"},\"selection_glyph\":null,\"view\":{\"id\":\"15534699-b76e-43a4-b0fc-36d62b7e9268\",\"type\":\"CDSView\"}},\"id\":\"f55d7344-a349-4fb6-a514-e56dbc8d3e63\",\"type\":\"GlyphRenderer\"},{\"attributes\":{\"source\":{\"id\":\"13ffb85b-d273-47a3-af5e-b6d2550a454c\",\"type\":\"ColumnDataSource\"}},\"id\":\"f97d8b2e-1bf3-4b32-9b51-ccff67731ec4\",\"type\":\"CDSView\"},{\"attributes\":{\"fill_alpha\":{\"value\":0.7},\"fill_color\":{\"value\":\"#4daf4a\"},\"line_alpha\":{\"value\":0.7},\"line_color\":{\"value\":\"#4daf4a\"},\"x\":{\"field\":\"x\"},\"y\":{\"field\":\"y\"}},\"id\":\"a3a9810c-4b7a-44a7-8a78-a9cf1211947d\",\"type\":\"Circle\"},{\"attributes\":{\"fill_alpha\":{\"value\":0.1},\"fill_color\":{\"value\":\"#1f77b4\"},\"line_alpha\":{\"value\":0.1},\"line_color\":{\"value\":\"#1f77b4\"},\"x\":{\"field\":\"x\"},\"y\":{\"field\":\"y\"}},\"id\":\"46c7f04a-a3d6-4d14-8a51-4c074b5f42bb\",\"type\":\"Circle\"},{\"attributes\":{\"fill_alpha\":{\"value\":0.7},\"fill_color\":{\"value\":\"#984ea3\"},\"line_alpha\":{\"value\":0.7},\"line_color\":{\"value\":\"#984ea3\"},\"x\":{\"field\":\"x\"},\"y\":{\"field\":\"y\"}},\"id\":\"6044879e-c441-4934-b648-185e39100c8c\",\"type\":\"Square\"},{\"attributes\":{\"source\":{\"id\":\"6b628b91-3594-4d6d-8178-fc02da06ff64\",\"type\":\"ColumnDataSource\"}},\"id\":\"fefdd113-b980-4530-9243-215a01dfa674\",\"type\":\"CDSView\"},{\"attributes\":{\"line_alpha\":0.1,\"line_color\":\"#1f77b4\",\"line_width\":1.5,\"x\":{\"field\":\"x\"},\"y\":{\"field\":\"y\"}},\"id\":\"21820c06-e61c-4227-8564-781a9da02341\",\"type\":\"Line\"},{\"attributes\":{\"source\":{\"id\":\"a889404f-24de-4035-baf3-752356e7da4f\",\"type\":\"ColumnDataSource\"}},\"id\":\"15534699-b76e-43a4-b0fc-36d62b7e9268\",\"type\":\"CDSView\"},{\"attributes\":{},\"id\":\"a14e19c8-798d-47e9-9cb5-8065498a4725\",\"type\":\"UnionRenderers\"},{\"attributes\":{\"data_source\":{\"id\":\"13ffb85b-d273-47a3-af5e-b6d2550a454c\",\"type\":\"ColumnDataSource\"},\"glyph\":{\"id\":\"d4ae2918-c861-4cde-b4f8-786c0a21f1b3\",\"type\":\"Line\"},\"hover_glyph\":null,\"muted_glyph\":null,\"nonselection_glyph\":{\"id\":\"87aead25-1b3e-4d83-a23f-855e792bcb24\",\"type\":\"Line\"},\"selection_glyph\":null,\"view\":{\"id\":\"f97d8b2e-1bf3-4b32-9b51-ccff67731ec4\",\"type\":\"CDSView\"}},\"id\":\"5ab94088-b6f1-4757-b5a0-351e5dde7e64\",\"type\":\"GlyphRenderer\"},{\"attributes\":{\"fill_alpha\":{\"value\":0.1},\"fill_color\":{\"value\":\"#1f77b4\"},\"line_alpha\":{\"value\":0.1},\"line_color\":{\"value\":\"#1f77b4\"},\"x\":{\"field\":\"x\"},\"y\":{\"field\":\"y\"}},\"id\":\"b5506145-6915-427d-b6e2-650b16296d0d\",\"type\":\"Circle\"},{\"attributes\":{\"fill_alpha\":{\"value\":0.7},\"fill_color\":{\"value\":\"#4daf4a\"},\"line_alpha\":{\"value\":0.7},\"line_color\":{\"value\":\"#4daf4a\"},\"x\":{\"field\":\"x\"},\"y\":{\"field\":\"y\"}},\"id\":\"7ef6225a-35c0-4651-a91d-a3a888b9bfac\",\"type\":\"Circle\"},{\"attributes\":{\"source\":{\"id\":\"b26e32f6-f746-472a-a58b-28ab76d7c269\",\"type\":\"ColumnDataSource\"}},\"id\":\"734466bf-d13c-4362-ab4d-3198c30c0e78\",\"type\":\"CDSView\"},{\"attributes\":{},\"id\":\"7ab3d83b-6d26-4a6a-8c9b-d6aab06a2077\",\"type\":\"BasicTicker\"},{\"attributes\":{\"label\":{\"value\":\"CRD\"},\"renderers\":[{\"id\":\"f07b0f22-6d07-486b-9b43-710151238dd8\",\"type\":\"GlyphRenderer\"},{\"id\":\"f5992ac1-d83b-4830-8139-6e809d9c94fd\",\"type\":\"GlyphRenderer\"}]},\"id\":\"6cce6295-f3d1-4341-a1fc-f25f10e38586\",\"type\":\"LegendItem\"},{\"attributes\":{\"data_source\":{\"id\":\"b26e32f6-f746-472a-a58b-28ab76d7c269\",\"type\":\"ColumnDataSource\"},\"glyph\":{\"id\":\"13ffad13-0612-44d9-8603-d1ba9e48dbd4\",\"type\":\"Line\"},\"hover_glyph\":null,\"muted_glyph\":null,\"nonselection_glyph\":{\"id\":\"60b2b31b-4d77-4f10-945a-84fb0a88c009\",\"type\":\"Line\"},\"selection_glyph\":null,\"view\":{\"id\":\"734466bf-d13c-4362-ab4d-3198c30c0e78\",\"type\":\"CDSView\"}},\"id\":\"0327ee87-c34e-43dd-9412-2c729f0012be\",\"type\":\"GlyphRenderer\"},{\"attributes\":{\"above\":[{\"id\":\"6d0aa813-4106-43b1-a442-a996be3268f1\",\"type\":\"Legend\"}],\"below\":[{\"id\":\"6242a281-e593-44ec-bf08-3e1d34800230\",\"type\":\"LinearAxis\"}],\"left\":[{\"id\":\"d0c8baf7-0f73-4669-a4ae-17b45c6169fe\",\"type\":\"LinearAxis\"}],\"plot_width\":300,\"renderers\":[{\"id\":\"6242a281-e593-44ec-bf08-3e1d34800230\",\"type\":\"LinearAxis\"},{\"id\":\"700e3a46-0715-4b1f-934d-3ca1db80e23c\",\"type\":\"Grid\"},{\"id\":\"d0c8baf7-0f73-4669-a4ae-17b45c6169fe\",\"type\":\"LinearAxis\"},{\"id\":\"d0394640-c0e6-4a2d-a549-cb0a4c5609e8\",\"type\":\"Grid\"},{\"id\":\"bd85f3a3-0947-4c9b-b600-7ed44224fd93\",\"type\":\"BoxAnnotation\"},{\"id\":\"9059dbd9-4dc1-4e42-8eb7-adcfc623d43b\",\"type\":\"GlyphRenderer\"},{\"id\":\"b55504b9-5ef5-4ee5-abc0-84d5164bb8c6\",\"type\":\"GlyphRenderer\"},{\"id\":\"3e60a58b-48f2-4072-9f61-43d7be5f7622\",\"type\":\"GlyphRenderer\"},{\"id\":\"9c11a2fc-6bdc-4531-a471-36014bf1d726\",\"type\":\"GlyphRenderer\"},{\"id\":\"2028758f-e5e6-4eb3-8a59-b8e88398a6e0\",\"type\":\"GlyphRenderer\"},{\"id\":\"6d0aa813-4106-43b1-a442-a996be3268f1\",\"type\":\"Legend\"}],\"title\":{\"id\":\"af26a8ee-d5c4-4611-ae1a-1856e3ecbb41\",\"type\":\"Title\"},\"toolbar\":{\"id\":\"22cce145-404f-4af8-a64c-aff7f622f414\",\"type\":\"Toolbar\"},\"toolbar_location\":null,\"x_range\":{\"id\":\"00261bee-aebb-41ce-8c86-d19368cd9011\",\"type\":\"Range1d\"},\"x_scale\":{\"id\":\"30c08362-cbae-48b5-bcaf-fbaf76a16bdd\",\"type\":\"LinearScale\"},\"y_range\":{\"id\":\"7d6fbac2-0a4b-44a5-8bc6-4d06095bebe5\",\"type\":\"Range1d\"},\"y_scale\":{\"id\":\"ed6673e0-80f3-4049-b01b-7425067d7959\",\"type\":\"LinearScale\"}},\"id\":\"e1022e8b-a756-41d8-8b1c-668318ce8e43\",\"subtype\":\"Figure\",\"type\":\"Plot\"},{\"attributes\":{\"callback\":null,\"data\":{\"x\":{\"__ndarray__\":\"zxhdnl3RU0CKgDdE+dxEQP+f5duhdUFAMZBr6ewEQkABDxZQyK45QBiX3ka8EDZAj18alnlwL0CfYJlYHKIqQJoaoQNWxSJAv74t7BozIUBMkS56I6AXQBxPe4ld/BRAncjiKz2HCkCKCgdQ/WcBQKJTvluRvOg/jvJpYJwB9j+gcxKIKREEQOwUvOtLFw1AVkAt7oRoEkD4lECKxjYXQAZydNQ0jR1ACryvRZLfI0CN3MmPRGApQCcUNq4qNylA6FN9h30SJECRnP+HbGofQDQKaukXmhlAteFC/mL9E0CTDffT91MQQEoVAKh1YwtAqFesCIQRBkAUatBMXLz/P4fvYPUXo/Y/tDrQnFTK8T/hneFQ7xLnP14aDQuCJtc/5hrOx2LRzT+gE4V0bnvHP3eeIXamhrA/cmaxNtALrr92uqPyMJK3P6q5+U821+g/c0rZjXL49z/TaxRJZAUAQP3VLij27QFAiQe8XqaCAEAu4Q7keaX+P0ZyKG35kv0/XHVqXZRQ/T/+RskYEAv9PwKD1IjB3fw/JBko3yJ2/D8AmhCM5iX7P/btQHcr5vo/xjCcdQr9+j+f/V+tjrf6P0Wt2HvLrvo/84V/x6br+z/bYX40veD8P86HZwkyUvw/CUxgoI8l/D8RA+bsYB78P2au9w7DDvw/kRNJm3qS+j8wZ0xHVJ75Py0d1shscPk/NKgVKiiK+T/ONtzstIr5P4ps72zyaPc/TVSpuPUj9j9T2qZu6gj1P2XVmdu6VPQ/t/WgjjEZ9D+np734CoH0P1L4Q57qwfo/\",\"dtype\":\"float64\",\"shape\":[75]},\"y\":{\"__ndarray__\":\"hLndy31yND/6fmq8dJNIP8n9DkWBPlE/aDum7souWD/b4a/JGvVgP9f34SAhymc/ZvM4DOavcD+z0M5pFmh3PxuC4zJuaoA/xjcUPlsHhz8uHAjJAiaQP9ieWRKgppY/oI7HDFTGnz+a5h2n6EimPzS6g9iZQq8/IuAQqtTstT9SSZ2AJsK+P4nS3uALk8U/ih9j7lpCzj+ASL99HTjVP4enV8oyxN0/ACL99nXg5D9fmEwVjErtPyUGgZVDi/Q/AiuHFtnO/D9OYhBYOTQEQPHSTWIQWAxA4XoUrkfhE0D8qfHSTeIbQMh2vp8ajyNArkfhehRuK0Bcj8L1KDwzQFyPwvUo/DpAPgrXo3DtQkDNzMzMzIxKQClcj8L1eFJAKVyPwvVoWECamZmZmVleQGZmZmZmJmJAAAAAAAAgZUCamZmZmRloQJqZmZmZEWtAmpmZmZkJbkCamZmZmYFwQGZmZmZm/nFAZmZmZmZ6c0BmZmZmZvZ0QDQzMzMzc3ZAAAAAAADwd0AAAAAAAGx5QAAAAAAA6HpAzMzMzMxkfEDMzMzMzOB9QM3MzMzMXH9AzczMzMxsgEAzMzMzMyuBQDMzMzMz6YFAMzMzMzOngkCamZmZmWWDQAAAAAAAJIRAAAAAAADihEAAAAAAAKCFQGZmZmZmXoZAzczMzMwch0DNzMzMzNqHQM3MzMzMmIhAMzMzMzNXiUCamZmZmRWKQAAAAAAA1IpAAAAAAACSi0AAAAAAAFCMQGZmZmZmDo1AzczMzMzMjUDNzMzMzIqOQM3MzMzMSI9A\",\"dtype\":\"float64\",\"shape\":[75]}},\"selected\":{\"id\":\"bf2ec11a-ec93-4a79-a32b-955cfda36c3b\",\"type\":\"Selection\"},\"selection_policy\":{\"id\":\"a8fd60a3-e5e5-4429-bf69-87865b7300fb\",\"type\":\"UnionRenderers\"}},\"id\":\"5dd16492-1b11-41a5-94c6-b8fab0511abb\",\"type\":\"ColumnDataSource\"},{\"attributes\":{\"data_source\":{\"id\":\"3442c4d8-9c3d-4c25-bbde-ab79480a5a5b\",\"type\":\"ColumnDataSource\"},\"glyph\":{\"id\":\"a3a9810c-4b7a-44a7-8a78-a9cf1211947d\",\"type\":\"Circle\"},\"hover_glyph\":null,\"muted_glyph\":null,\"nonselection_glyph\":{\"id\":\"b5506145-6915-427d-b6e2-650b16296d0d\",\"type\":\"Circle\"},\"selection_glyph\":null,\"view\":{\"id\":\"2c37a6ff-ec53-492c-83ab-69737dcae2a7\",\"type\":\"CDSView\"}},\"id\":\"f07b0f22-6d07-486b-9b43-710151238dd8\",\"type\":\"GlyphRenderer\"},{\"attributes\":{},\"id\":\"9b8302eb-6ba0-4ec8-b9ad-e6c9ea4031fd\",\"type\":\"UnionRenderers\"},{\"attributes\":{},\"id\":\"79755a59-9882-4556-a5a5-06ad31dce849\",\"type\":\"HelpTool\"},{\"attributes\":{\"line_alpha\":0.1,\"line_color\":\"#1f77b4\",\"line_width\":1.5,\"x\":{\"field\":\"x\"},\"y\":{\"field\":\"y\"}},\"id\":\"a44ed32c-478d-4964-af3b-8d33c56b6482\",\"type\":\"Line\"},{\"attributes\":{\"plot\":null,\"text\":\"\"},\"id\":\"6e0a74c4-ec97-4f49-936e-d1d88ab1ed8c\",\"type\":\"Title\"},{\"attributes\":{\"label\":{\"value\":\"old CLIRAD (H2012) - CRD\"},\"renderers\":[{\"id\":\"490c2d96-e107-49de-879e-49c117722dca\",\"type\":\"GlyphRenderer\"}]},\"id\":\"af166bed-d46f-4e6e-b9cd-b0b90300ca98\",\"type\":\"LegendItem\"},{\"attributes\":{\"axis_label\":\"cooling rate [K/day]\",\"formatter\":{\"id\":\"365ac226-16ef-459d-87e6-efc103bc9a95\",\"type\":\"BasicTickFormatter\"},\"plot\":{\"id\":\"f919f8e1-4ddd-4ce7-99e7-1cb7aa7eb7a1\",\"subtype\":\"Figure\",\"type\":\"Plot\"},\"ticker\":{\"id\":\"7ab3d83b-6d26-4a6a-8c9b-d6aab06a2077\",\"type\":\"BasicTicker\"}},\"id\":\"1635a6ab-2eff-4ba7-aa7b-e96e122faf0b\",\"type\":\"LinearAxis\"},{\"attributes\":{\"axis_label\":\"pressure [mb]\",\"formatter\":{\"id\":\"23f04f8b-9876-4162-afc9-0eedca5e8ecc\",\"type\":\"BasicTickFormatter\"},\"plot\":{\"id\":\"e1022e8b-a756-41d8-8b1c-668318ce8e43\",\"subtype\":\"Figure\",\"type\":\"Plot\"},\"ticker\":{\"id\":\"d939d64d-8f38-4056-b9c8-8a8b7c67fb7c\",\"type\":\"BasicTicker\"}},\"id\":\"d0c8baf7-0f73-4669-a4ae-17b45c6169fe\",\"type\":\"LinearAxis\"},{\"attributes\":{\"data_source\":{\"id\":\"b0f2444e-2e4b-4812-9849-ddd116967998\",\"type\":\"ColumnDataSource\"},\"glyph\":{\"id\":\"f0fa12d3-8999-49ec-9831-a1f0671dce68\",\"type\":\"Line\"},\"hover_glyph\":null,\"muted_glyph\":null,\"nonselection_glyph\":{\"id\":\"a44ed32c-478d-4964-af3b-8d33c56b6482\",\"type\":\"Line\"},\"selection_glyph\":null,\"view\":{\"id\":\"831f4381-9529-444f-9002-29a339966f8f\",\"type\":\"CDSView\"}},\"id\":\"2028758f-e5e6-4eb3-8a59-b8e88398a6e0\",\"type\":\"GlyphRenderer\"},{\"attributes\":{\"num_minor_ticks\":10},\"id\":\"e251e26f-4555-493f-b5e5-3b05ac9b9370\",\"type\":\"LogTicker\"},{\"attributes\":{},\"id\":\"85e43e77-a77b-4f34-96fc-964aceef7587\",\"type\":\"UnionRenderers\"},{\"attributes\":{},\"id\":\"f61205ee-fe99-4339-bbae-dc2fdd36534d\",\"type\":\"UnionRenderers\"},{\"attributes\":{},\"id\":\"324370ab-c2a3-4198-9da1-189c9a91672c\",\"type\":\"SaveTool\"},{\"attributes\":{},\"id\":\"cae6751b-1b35-410e-9e2a-83f914dc1ee6\",\"type\":\"LinearScale\"},{\"attributes\":{},\"id\":\"049f30e1-ea17-4f26-b94b-c6a5e75f8c31\",\"type\":\"Selection\"},{\"attributes\":{\"above\":[{\"id\":\"e756c2c2-8c4e-41e1-a8df-8c8e2da83c3a\",\"type\":\"Legend\"}],\"below\":[{\"id\":\"1635a6ab-2eff-4ba7-aa7b-e96e122faf0b\",\"type\":\"LinearAxis\"}],\"left\":[{\"id\":\"47811455-c099-4342-a18c-5a1fdf35fb52\",\"type\":\"LogAxis\"}],\"plot_width\":300,\"renderers\":[{\"id\":\"1635a6ab-2eff-4ba7-aa7b-e96e122faf0b\",\"type\":\"LinearAxis\"},{\"id\":\"6570da05-4c1e-486b-95f2-ce25faf6dc72\",\"type\":\"Grid\"},{\"id\":\"47811455-c099-4342-a18c-5a1fdf35fb52\",\"type\":\"LogAxis\"},{\"id\":\"c4f331d4-79af-4761-baea-242611a46c47\",\"type\":\"Grid\"},{\"id\":\"8040e73d-7623-47f0-a9b8-6347c19feeb8\",\"type\":\"BoxAnnotation\"},{\"id\":\"69c730d3-f83b-4311-8ad3-bca30f622bac\",\"type\":\"GlyphRenderer\"},{\"id\":\"f55d7344-a349-4fb6-a514-e56dbc8d3e63\",\"type\":\"GlyphRenderer\"},{\"id\":\"490c2d96-e107-49de-879e-49c117722dca\",\"type\":\"GlyphRenderer\"},{\"id\":\"e756c2c2-8c4e-41e1-a8df-8c8e2da83c3a\",\"type\":\"Legend\"}],\"title\":{\"id\":\"d789400b-f48b-41a6-ad88-2585b19297ba\",\"type\":\"Title\"},\"toolbar\":{\"id\":\"14b41a28-9029-408c-a6dd-9cc9c29c55c8\",\"type\":\"Toolbar\"},\"toolbar_location\":null,\"x_range\":{\"id\":\"06824828-97ac-44fe-8ce6-b9123db17ba1\",\"type\":\"Range1d\"},\"x_scale\":{\"id\":\"cae6751b-1b35-410e-9e2a-83f914dc1ee6\",\"type\":\"LinearScale\"},\"y_range\":{\"id\":\"9680796f-ca41-4ca3-8758-6c4d39446a12\",\"type\":\"Range1d\"},\"y_scale\":{\"id\":\"b8ed1b27-f5ef-470d-af7e-7abade5631c4\",\"type\":\"LogScale\"}},\"id\":\"f919f8e1-4ddd-4ce7-99e7-1cb7aa7eb7a1\",\"subtype\":\"Figure\",\"type\":\"Plot\"},{\"attributes\":{\"ticker\":null},\"id\":\"137f7c76-698e-4728-b2ed-69f74c857a6e\",\"type\":\"LogTickFormatter\"},{\"attributes\":{},\"id\":\"365ac226-16ef-459d-87e6-efc103bc9a95\",\"type\":\"BasicTickFormatter\"},{\"attributes\":{\"line_alpha\":0.1,\"line_color\":\"#1f77b4\",\"line_dash\":[6],\"line_width\":5,\"x\":{\"field\":\"x\"},\"y\":{\"field\":\"y\"}},\"id\":\"e93fe86c-d2a6-4d0c-986f-5ed4915f43ff\",\"type\":\"Line\"},{\"attributes\":{\"fill_alpha\":{\"value\":0.1},\"fill_color\":{\"value\":\"#1f77b4\"},\"line_alpha\":{\"value\":0.1},\"line_color\":{\"value\":\"#1f77b4\"},\"x\":{\"field\":\"x\"},\"y\":{\"field\":\"y\"}},\"id\":\"56a3561a-fb44-405c-bba9-fa1b5de866d7\",\"type\":\"Square\"},{\"attributes\":{\"data_source\":{\"id\":\"3b9ab893-077d-43ee-8a65-c2d05b4d1c49\",\"type\":\"ColumnDataSource\"},\"glyph\":{\"id\":\"f16e41c9-4445-43c5-88ac-688c64a58000\",\"type\":\"Line\"},\"hover_glyph\":null,\"muted_glyph\":null,\"nonselection_glyph\":{\"id\":\"0bd3c417-c599-4a1d-b112-1f4eacac295f\",\"type\":\"Line\"},\"selection_glyph\":null,\"view\":{\"id\":\"ec97c43a-9cba-409a-9e1a-72ad441e2769\",\"type\":\"CDSView\"}},\"id\":\"3e60a58b-48f2-4072-9f61-43d7be5f7622\",\"type\":\"GlyphRenderer\"},{\"attributes\":{},\"id\":\"9a2de251-03a8-492d-9ce6-eadcb8ab37f0\",\"type\":\"UnionRenderers\"},{\"attributes\":{\"ticker\":null},\"id\":\"66318b2e-c736-4ff8-ade7-787fd650df1d\",\"type\":\"LogTickFormatter\"},{\"attributes\":{},\"id\":\"d939d64d-8f38-4056-b9c8-8a8b7c67fb7c\",\"type\":\"BasicTicker\"},{\"attributes\":{},\"id\":\"a9696ba1-2680-4afe-86d1-3b2d5a97a080\",\"type\":\"Selection\"},{\"attributes\":{},\"id\":\"5d1432ec-c7bc-49c3-91c2-7f928df99a26\",\"type\":\"Selection\"},{\"attributes\":{},\"id\":\"876e13bc-6b50-485b-a1ec-d9f2d8b5acbe\",\"type\":\"ResetTool\"},{\"attributes\":{\"fill_alpha\":{\"value\":0.1},\"fill_color\":{\"value\":\"#1f77b4\"},\"line_alpha\":{\"value\":0.1},\"line_color\":{\"value\":\"#1f77b4\"},\"x\":{\"field\":\"x\"},\"y\":{\"field\":\"y\"}},\"id\":\"5b738771-b91a-40df-ab30-de4911464c68\",\"type\":\"Circle\"},{\"attributes\":{\"label\":{\"value\":\"CLIRAD - CRD\"},\"renderers\":[{\"id\":\"69c730d3-f83b-4311-8ad3-bca30f622bac\",\"type\":\"GlyphRenderer\"},{\"id\":\"f55d7344-a349-4fb6-a514-e56dbc8d3e63\",\"type\":\"GlyphRenderer\"}]},\"id\":\"98022ec9-1120-4fee-98e7-c5035044ccb5\",\"type\":\"LegendItem\"},{\"attributes\":{\"source\":{\"id\":\"3b9ab893-077d-43ee-8a65-c2d05b4d1c49\",\"type\":\"ColumnDataSource\"}},\"id\":\"ec97c43a-9cba-409a-9e1a-72ad441e2769\",\"type\":\"CDSView\"},{\"attributes\":{},\"id\":\"475447c4-d253-47c4-9e4c-1d7514d00097\",\"type\":\"UnionRenderers\"},{\"attributes\":{},\"id\":\"3a74585a-f695-43f6-9d1e-59d871fb352c\",\"type\":\"Selection\"},{\"attributes\":{},\"id\":\"11679b10-37dc-40db-9bff-e4d211736f23\",\"type\":\"UnionRenderers\"},{\"attributes\":{\"overlay\":{\"id\":\"8040e73d-7623-47f0-a9b8-6347c19feeb8\",\"type\":\"BoxAnnotation\"}},\"id\":\"eee26bd5-35a5-4e18-bcda-2516ae72e17b\",\"type\":\"BoxZoomTool\"},{\"attributes\":{\"line_alpha\":0.5,\"line_color\":\"#984ea3\",\"line_width\":1.5,\"x\":{\"field\":\"x\"},\"y\":{\"field\":\"y\"}},\"id\":\"f0fa12d3-8999-49ec-9831-a1f0671dce68\",\"type\":\"Line\"},{\"attributes\":{\"callback\":null,\"end\":2.3127264625221104,\"start\":-0.13931561307310997},\"id\":\"00261bee-aebb-41ce-8c86-d19368cd9011\",\"type\":\"Range1d\"},{\"attributes\":{\"plot\":null,\"text\":\"\"},\"id\":\"d789400b-f48b-41a6-ad88-2585b19297ba\",\"type\":\"Title\"},{\"attributes\":{\"dimension\":1,\"plot\":{\"id\":\"e1022e8b-a756-41d8-8b1c-668318ce8e43\",\"subtype\":\"Figure\",\"type\":\"Plot\"},\"ticker\":{\"id\":\"d939d64d-8f38-4056-b9c8-8a8b7c67fb7c\",\"type\":\"BasicTicker\"}},\"id\":\"d0394640-c0e6-4a2d-a549-cb0a4c5609e8\",\"type\":\"Grid\"},{\"attributes\":{},\"id\":\"6810b642-2b97-43b0-b419-5607764b77c8\",\"type\":\"Selection\"},{\"attributes\":{\"data_source\":{\"id\":\"5c5d74e6-035d-4799-bc0b-e35b5916e75b\",\"type\":\"ColumnDataSource\"},\"glyph\":{\"id\":\"077c2c08-3200-442d-8e20-f3498d43328f\",\"type\":\"Line\"},\"hover_glyph\":null,\"muted_glyph\":null,\"nonselection_glyph\":{\"id\":\"8e5a1ed5-e833-4274-b148-eec02ec82671\",\"type\":\"Line\"},\"selection_glyph\":null,\"view\":{\"id\":\"06e0b25d-ae17-4388-a33a-f96db57cd6cc\",\"type\":\"CDSView\"}},\"id\":\"490c2d96-e107-49de-879e-49c117722dca\",\"type\":\"GlyphRenderer\"},{\"attributes\":{},\"id\":\"40583d94-91c6-4c19-a665-7d191999e746\",\"type\":\"UnionRenderers\"},{\"attributes\":{\"plot\":{\"id\":\"e1022e8b-a756-41d8-8b1c-668318ce8e43\",\"subtype\":\"Figure\",\"type\":\"Plot\"},\"ticker\":{\"id\":\"2842aeab-5314-430a-9cfa-e6bc98f8cc32\",\"type\":\"BasicTicker\"}},\"id\":\"700e3a46-0715-4b1f-934d-3ca1db80e23c\",\"type\":\"Grid\"},{\"attributes\":{\"source\":{\"id\":\"5c5d74e6-035d-4799-bc0b-e35b5916e75b\",\"type\":\"ColumnDataSource\"}},\"id\":\"06e0b25d-ae17-4388-a33a-f96db57cd6cc\",\"type\":\"CDSView\"},{\"attributes\":{\"plot\":null,\"text\":\"\"},\"id\":\"af26a8ee-d5c4-4611-ae1a-1856e3ecbb41\",\"type\":\"Title\"},{\"attributes\":{\"callback\":null,\"data\":{\"x\":{\"__ndarray__\":\"zxhdnl3RU0CKgDdE+dxEQP+f5duhdUFAMZBr6ewEQkABDxZQyK45QBiX3ka8EDZAj18alnlwL0CfYJlYHKIqQJoaoQNWxSJAv74t7BozIUBMkS56I6AXQBxPe4ld/BRAncjiKz2HCkCKCgdQ/WcBQKJTvluRvOg/jvJpYJwB9j+gcxKIKREEQOwUvOtLFw1AVkAt7oRoEkD4lECKxjYXQAZydNQ0jR1ACryvRZLfI0CN3MmPRGApQCcUNq4qNylA6FN9h30SJECRnP+HbGofQDQKaukXmhlAteFC/mL9E0CTDffT91MQQEoVAKh1YwtAqFesCIQRBkAUatBMXLz/P4fvYPUXo/Y/tDrQnFTK8T/hneFQ7xLnP14aDQuCJtc/5hrOx2LRzT+gE4V0bnvHP3eeIXamhrA/cmaxNtALrr92uqPyMJK3P6q5+U821+g/c0rZjXL49z/TaxRJZAUAQP3VLij27QFAiQe8XqaCAEAu4Q7keaX+P0ZyKG35kv0/XHVqXZRQ/T/+RskYEAv9PwKD1IjB3fw/JBko3yJ2/D8AmhCM5iX7P/btQHcr5vo/xjCcdQr9+j+f/V+tjrf6P0Wt2HvLrvo/84V/x6br+z/bYX40veD8P86HZwkyUvw/CUxgoI8l/D8RA+bsYB78P2au9w7DDvw/kRNJm3qS+j8wZ0xHVJ75Py0d1shscPk/NKgVKiiK+T/ONtzstIr5P4ps72zyaPc/TVSpuPUj9j9T2qZu6gj1P2XVmdu6VPQ/t/WgjjEZ9D+np734CoH0P1L4Q57qwfo/\",\"dtype\":\"float64\",\"shape\":[75]},\"y\":{\"__ndarray__\":\"hLndy31yND/6fmq8dJNIP8n9DkWBPlE/aDum7souWD/b4a/JGvVgP9f34SAhymc/ZvM4DOavcD+z0M5pFmh3PxuC4zJuaoA/xjcUPlsHhz8uHAjJAiaQP9ieWRKgppY/oI7HDFTGnz+a5h2n6EimPzS6g9iZQq8/IuAQqtTstT9SSZ2AJsK+P4nS3uALk8U/ih9j7lpCzj+ASL99HTjVP4enV8oyxN0/ACL99nXg5D9fmEwVjErtPyUGgZVDi/Q/AiuHFtnO/D9OYhBYOTQEQPHSTWIQWAxA4XoUrkfhE0D8qfHSTeIbQMh2vp8ajyNArkfhehRuK0Bcj8L1KDwzQFyPwvUo/DpAPgrXo3DtQkDNzMzMzIxKQClcj8L1eFJAKVyPwvVoWECamZmZmVleQGZmZmZmJmJAAAAAAAAgZUCamZmZmRloQJqZmZmZEWtAmpmZmZkJbkCamZmZmYFwQGZmZmZm/nFAZmZmZmZ6c0BmZmZmZvZ0QDQzMzMzc3ZAAAAAAADwd0AAAAAAAGx5QAAAAAAA6HpAzMzMzMxkfEDMzMzMzOB9QM3MzMzMXH9AzczMzMxsgEAzMzMzMyuBQDMzMzMz6YFAMzMzMzOngkCamZmZmWWDQAAAAAAAJIRAAAAAAADihEAAAAAAAKCFQGZmZmZmXoZAzczMzMwch0DNzMzMzNqHQM3MzMzMmIhAMzMzMzNXiUCamZmZmRWKQAAAAAAA1IpAAAAAAACSi0AAAAAAAFCMQGZmZmZmDo1AzczMzMzMjUDNzMzMzIqOQM3MzMzMSI9A\",\"dtype\":\"float64\",\"shape\":[75]}},\"selected\":{\"id\":\"6810b642-2b97-43b0-b419-5607764b77c8\",\"type\":\"Selection\"},\"selection_policy\":{\"id\":\"e7aad837-1eac-4f64-a9e9-9caa321d20e3\",\"type\":\"UnionRenderers\"}},\"id\":\"b0f2444e-2e4b-4812-9849-ddd116967998\",\"type\":\"ColumnDataSource\"},{\"attributes\":{},\"id\":\"bf4fc8af-0df3-40a5-ac49-79c3db92afae\",\"type\":\"Selection\"},{\"attributes\":{},\"id\":\"c751793c-74f7-460b-81c4-39c3d568ac40\",\"type\":\"Selection\"},{\"attributes\":{},\"id\":\"5b1fdee3-69bf-4747-9f57-7991ca4243ee\",\"type\":\"PanTool\"},{\"attributes\":{\"callback\":null,\"data\":{\"x\":{\"__ndarray__\":\"cm1sTMT3VEDEyvjosEJHQOKI6DjzCUNArgQWV9awPkB9Lm8XG3M4QEz+Qv6iYzNA7eV8HaPLLkCX1QHyTpMoQFBmYSYetiNAUB04GtGpH0AmFyVE5j8ZQJca9QPGqBNALJP+OOHHDEBNxaf7QF8AQKtislomWuw/cW2dcO6A9T/uJJvfPu0EQIaQLTI/JQ1AxGiII+PmEkCJvfVeuCsYQD6ZBhGbHB9AXQw69DTYJEAsubcwKucqQNuT9D5OmipAJyi3szEJJUBlNebh5WkgQDDcPHBr2xlArtlANXuQFEBdJadFHckQQI2Avh0ZsQtAjYiwt1rsBUCL0SDoVBgAQK6C0nEEjvc/CggLSme58T9sXU2orFPnP0v0JYz9Gdg/vT38vxYczD9nBQTe6kHHP1IhkEXJwKo/8OZnhCVAub+xtVgCpmqzP6DUpY6g0+k/PKK3T1h4+D8RTDjQc1EAQG/dAQs7TwJAQt2eHpPLAEBWEh074x//PyCap9ZSGf4/rEzaTySm/T+7aXhHRmr9P688KeqeNP0/ruZ4EemD/D8olrZcn9T7P0+vNc9hW/s/i9VVL+4P+z+0NzC24uz6P8731Kza8vo/xFf4SHzq+z+gYyHpvHb8P68ROkiFevw/BAjYdCga/D8AUp8VbW77P3JrF/nKmvo/qCQeGfq++T/dplwHJfn4P2G4p+Uva/g/OzZ0RqMZ+D8dmn/iar73P/OuA7Ka8PY/gaaeQHGn9T9hkyjAH1L0P3aZGhdAU/M/n8VP/g7P8j+90HxHNvfyPwhNBtgrqvk/\",\"dtype\":\"float64\",\"shape\":[75]},\"y\":{\"__ndarray__\":\"GhExyth1ND/Sv8nbtpRIP2vylNV0PVE/aTum7souWD/At0SJ8fVgPw3Iuahxymc/MSNhhJWvcD/bTfBN02d3P2zb5nxnaoA/CD5h5MAGhz8NmeH1TyaQP+zrCsc9p5Y/LbKd76fGnz/bLW5ISEmmPww9YvTcQq8/JV2OstnstT8Er5Y7M8G+P0c+r3jqkcU/5h99k6ZBzj88bCIzFzjVP4enV8oyxN0//yH99nXg5D8qOpLLf0jtP5kqGJXUifQ/c9cS8kHP/D+/DpwzojQEQIEmwoanVwxA4lgXt9HgE0BSSZ2AJuIbQAMJih9jjiNA5q4l5INuK0AwTKYKRj0zQNv5fmq8/DpAaCJseHrtQkB/+zpwzoxKQM3MzMzMeFJAZmZmZmZqWEAAAAAAAFxeQM3MzMzMJmJAmpmZmZkfZUBmZmZmZhhoQDMzMzMzEWtAAAAAAAAKbkBmZmZmZoFwQM3MzMzM/XFAMzMzMzN6c0CamZmZmfZ0QAAAAAAAc3ZAZmZmZmbvd0DNzMzMzGt5QDMzMzMz6HpAmpmZmZlkfEAAAAAAAOF9QGZmZmZmXX9AZmZmZuZsgECamZmZGSuBQM3MzMxM6YFAAAAAAICngkAzMzMzs2WDQGZmZmbmI4RAmpmZmRnihEDNzMzMTKCFQAAAAACAXoZAMzMzM7Mch0BmZmZm5tqHQJqZmZkZmYhAzczMzExXiUAAAAAAgBWKQDMzMzOz04pAZmZmZuaRi0CamZmZGVCMQM3MzMxMDo1AAAAAAIDMjUAzMzMzs4qOQGZmZmbmSI9A\",\"dtype\":\"float64\",\"shape\":[75]}},\"selected\":{\"id\":\"049f30e1-ea17-4f26-b94b-c6a5e75f8c31\",\"type\":\"Selection\"},\"selection_policy\":{\"id\":\"475447c4-d253-47c4-9e4c-1d7514d00097\",\"type\":\"UnionRenderers\"}},\"id\":\"3b9ab893-077d-43ee-8a65-c2d05b4d1c49\",\"type\":\"ColumnDataSource\"},{\"attributes\":{},\"id\":\"89fa7af7-4403-448c-b8cb-58dcf9f08743\",\"type\":\"BasicTickFormatter\"},{\"attributes\":{\"callback\":null,\"end\":0.01,\"start\":1020},\"id\":\"9680796f-ca41-4ca3-8758-6c4d39446a12\",\"type\":\"Range1d\"},{\"attributes\":{\"source\":{\"id\":\"b0f2444e-2e4b-4812-9849-ddd116967998\",\"type\":\"ColumnDataSource\"}},\"id\":\"831f4381-9529-444f-9002-29a339966f8f\",\"type\":\"CDSView\"},{\"attributes\":{\"callback\":null,\"end\":0.6991174202619594,\"start\":-0.8450980398126339},\"id\":\"06824828-97ac-44fe-8ce6-b9123db17ba1\",\"type\":\"Range1d\"},{\"attributes\":{},\"id\":\"b8ed1b27-f5ef-470d-af7e-7abade5631c4\",\"type\":\"LogScale\"},{\"attributes\":{\"items\":[{\"id\":\"98022ec9-1120-4fee-98e7-c5035044ccb5\",\"type\":\"LegendItem\"},{\"id\":\"af166bed-d46f-4e6e-b9cd-b0b90300ca98\",\"type\":\"LegendItem\"}],\"label_text_font_size\":{\"value\":\"8pt\"},\"location\":\"top_center\",\"orientation\":\"horizontal\",\"plot\":{\"id\":\"f919f8e1-4ddd-4ce7-99e7-1cb7aa7eb7a1\",\"subtype\":\"Figure\",\"type\":\"Plot\"}},\"id\":\"e756c2c2-8c4e-41e1-a8df-8c8e2da83c3a\",\"type\":\"Legend\"},{\"attributes\":{},\"id\":\"490eb487-4a8e-4588-a184-4a73b85752c4\",\"type\":\"Selection\"},{\"attributes\":{},\"id\":\"23f04f8b-9876-4162-afc9-0eedca5e8ecc\",\"type\":\"BasicTickFormatter\"},{\"attributes\":{\"source\":{\"id\":\"3a56a6b9-844e-4e10-8fb8-5694267a4262\",\"type\":\"ColumnDataSource\"}},\"id\":\"751f8b9b-ef4c-48f1-911b-b27a4fca914e\",\"type\":\"CDSView\"},{\"attributes\":{\"fill_alpha\":{\"value\":0.7},\"fill_color\":{\"value\":\"#984ea3\"},\"line_alpha\":{\"value\":0.7},\"line_color\":{\"value\":\"#984ea3\"},\"x\":{\"field\":\"x\"},\"y\":{\"field\":\"y\"}},\"id\":\"e9bd7007-d99f-432f-bfb8-0bc50fce478b\",\"type\":\"Square\"},{\"attributes\":{},\"id\":\"e7aad837-1eac-4f64-a9e9-9caa321d20e3\",\"type\":\"UnionRenderers\"},{\"attributes\":{},\"id\":\"254be9ac-1c94-4425-b416-e2a75f443220\",\"type\":\"UnionRenderers\"},{\"attributes\":{},\"id\":\"89bce36b-92f5-4c58-b0bd-527b456fc8da\",\"type\":\"BasicTickFormatter\"},{\"attributes\":{},\"id\":\"42f056a6-a880-40b6-ab69-cd83fe9aec0d\",\"type\":\"WheelZoomTool\"},{\"attributes\":{\"dimension\":1,\"plot\":{\"id\":\"f919f8e1-4ddd-4ce7-99e7-1cb7aa7eb7a1\",\"subtype\":\"Figure\",\"type\":\"Plot\"},\"ticker\":{\"id\":\"e251e26f-4555-493f-b5e5-3b05ac9b9370\",\"type\":\"LogTicker\"}},\"id\":\"c4f331d4-79af-4761-baea-242611a46c47\",\"type\":\"Grid\"},{\"attributes\":{\"bottom_units\":\"screen\",\"fill_alpha\":{\"value\":0.5},\"fill_color\":{\"value\":\"lightgrey\"},\"left_units\":\"screen\",\"level\":\"overlay\",\"line_alpha\":{\"value\":1.0},\"line_color\":{\"value\":\"black\"},\"line_dash\":[4,4],\"line_width\":{\"value\":2},\"plot\":null,\"render_mode\":\"css\",\"right_units\":\"screen\",\"top_units\":\"screen\"},\"id\":\"8040e73d-7623-47f0-a9b8-6347c19feeb8\",\"type\":\"BoxAnnotation\"},{\"attributes\":{},\"id\":\"b78d0611-451f-4d77-9230-f21a7f389bc3\",\"type\":\"Selection\"},{\"attributes\":{},\"id\":\"3aaebfe3-bbf9-4ecd-b37b-b079b23940b0\",\"type\":\"Selection\"},{\"attributes\":{\"callback\":null,\"data\":{\"x\":{\"__ndarray__\":\"zxhdnl3RU0CKgDdE+dxEQP+f5duhdUFAMZBr6ewEQkABDxZQyK45QBiX3ka8EDZAj18alnlwL0CfYJlYHKIqQJoaoQNWxSJAv74t7BozIUBMkS56I6AXQBxPe4ld/BRAncjiKz2HCkCKCgdQ/WcBQKJTvluRvOg/jvJpYJwB9j+gcxKIKREEQOwUvOtLFw1AVkAt7oRoEkD4lECKxjYXQAZydNQ0jR1ACryvRZLfI0CN3MmPRGApQCcUNq4qNylA6FN9h30SJECRnP+HbGofQDQKaukXmhlAteFC/mL9E0CTDffT91MQQEoVAKh1YwtAqFesCIQRBkAUatBMXLz/P4fvYPUXo/Y/tDrQnFTK8T/hneFQ7xLnP14aDQuCJtc/5hrOx2LRzT+gE4V0bnvHP3eeIXamhrA/cmaxNtALrr92uqPyMJK3P6q5+U821+g/c0rZjXL49z/TaxRJZAUAQP3VLij27QFAiQe8XqaCAEAu4Q7keaX+P0ZyKG35kv0/XHVqXZRQ/T/+RskYEAv9PwKD1IjB3fw/JBko3yJ2/D8AmhCM5iX7P/btQHcr5vo/xjCcdQr9+j+f/V+tjrf6P0Wt2HvLrvo/84V/x6br+z/bYX40veD8P86HZwkyUvw/CUxgoI8l/D8RA+bsYB78P2au9w7DDvw/kRNJm3qS+j8wZ0xHVJ75Py0d1shscPk/NKgVKiiK+T/ONtzstIr5P4ps72zyaPc/TVSpuPUj9j9T2qZu6gj1P2XVmdu6VPQ/t/WgjjEZ9D+np734CoH0P1L4Q57qwfo/\",\"dtype\":\"float64\",\"shape\":[75]},\"y\":{\"__ndarray__\":\"hLndy31yND/6fmq8dJNIP8n9DkWBPlE/aDum7souWD/b4a/JGvVgP9f34SAhymc/ZvM4DOavcD+z0M5pFmh3PxuC4zJuaoA/xjcUPlsHhz8uHAjJAiaQP9ieWRKgppY/oI7HDFTGnz+a5h2n6EimPzS6g9iZQq8/IuAQqtTstT9SSZ2AJsK+P4nS3uALk8U/ih9j7lpCzj+ASL99HTjVP4enV8oyxN0/ACL99nXg5D9fmEwVjErtPyUGgZVDi/Q/AiuHFtnO/D9OYhBYOTQEQPHSTWIQWAxA4XoUrkfhE0D8qfHSTeIbQMh2vp8ajyNArkfhehRuK0Bcj8L1KDwzQFyPwvUo/DpAPgrXo3DtQkDNzMzMzIxKQClcj8L1eFJAKVyPwvVoWECamZmZmVleQGZmZmZmJmJAAAAAAAAgZUCamZmZmRloQJqZmZmZEWtAmpmZmZkJbkCamZmZmYFwQGZmZmZm/nFAZmZmZmZ6c0BmZmZmZvZ0QDQzMzMzc3ZAAAAAAADwd0AAAAAAAGx5QAAAAAAA6HpAzMzMzMxkfEDMzMzMzOB9QM3MzMzMXH9AzczMzMxsgEAzMzMzMyuBQDMzMzMz6YFAMzMzMzOngkCamZmZmWWDQAAAAAAAJIRAAAAAAADihEAAAAAAAKCFQGZmZmZmXoZAzczMzMwch0DNzMzMzNqHQM3MzMzMmIhAMzMzMzNXiUCamZmZmRWKQAAAAAAA1IpAAAAAAACSi0AAAAAAAFCMQGZmZmZmDo1AzczMzMzMjUDNzMzMzIqOQM3MzMzMSI9A\",\"dtype\":\"float64\",\"shape\":[75]}},\"selected\":{\"id\":\"490eb487-4a8e-4588-a184-4a73b85752c4\",\"type\":\"Selection\"},\"selection_policy\":{\"id\":\"9b8302eb-6ba0-4ec8-b9ad-e6c9ea4031fd\",\"type\":\"UnionRenderers\"}},\"id\":\"3a56a6b9-844e-4e10-8fb8-5694267a4262\",\"type\":\"ColumnDataSource\"},{\"attributes\":{},\"id\":\"d402648f-39fa-423d-9fd4-da64e8962bfc\",\"type\":\"Selection\"}],\"root_ids\":[\"f98d6246-40ac-4a8c-9fc6-0cc0580f819c\"]},\"title\":\"Bokeh Application\",\"version\":\"0.12.16\"}};\n",
       "  var render_items = [{\"docid\":\"dea50654-881a-403f-9198-22c5681dbfb5\",\"elementid\":\"e03d4e97-5a10-446a-bafe-25a4ee8a42a6\",\"modelid\":\"f98d6246-40ac-4a8c-9fc6-0cc0580f819c\"}];\n",
       "  root.Bokeh.embed.embed_items_notebook(docs_json, render_items);\n",
       "\n",
       "  }\n",
       "  if (root.Bokeh !== undefined) {\n",
       "    embed_document(root);\n",
       "  } else {\n",
       "    var attempts = 0;\n",
       "    var timer = setInterval(function(root) {\n",
       "      if (root.Bokeh !== undefined) {\n",
       "        embed_document(root);\n",
       "        clearInterval(timer);\n",
       "      }\n",
       "      attempts++;\n",
       "      if (attempts > 100) {\n",
       "        console.log(\"Bokeh: ERROR: Unable to run BokehJS code because BokehJS library is missing\")\n",
       "        clearInterval(timer);\n",
       "      }\n",
       "    }, 10, root)\n",
       "  }\n",
       "})(window);"
      ],
      "application/vnd.bokehjs_exec.v0+json": ""
     },
     "metadata": {
      "application/vnd.bokehjs_exec.v0+json": {
       "id": "f98d6246-40ac-4a8c-9fc6-0cc0580f819c"
      }
     },
     "output_type": "display_data"
    },
    {
     "data": {
      "text/markdown": [
       "*FIGURE.* Cooling rates & difference."
      ],
      "text/plain": [
       "<IPython.core.display.Markdown object>"
      ]
     },
     "metadata": {},
     "output_type": "display_data"
    },
    {
     "data": {
      "text/html": [
       "<a id=\"Fluxes._mls.\"></a>"
      ],
      "text/plain": [
       "<IPython.core.display.HTML object>"
      ]
     },
     "metadata": {},
     "output_type": "display_data"
    },
    {
     "data": {
      "text/markdown": [
       "# Fluxes. mls."
      ],
      "text/plain": [
       "<IPython.core.display.Markdown object>"
      ]
     },
     "metadata": {},
     "output_type": "display_data"
    },
    {
     "data": {
      "text/html": [
       "\n",
       "<div class=\"bk-root\">\n",
       "    <div class=\"bk-plotdiv\" id=\"79a6636c-7436-4dc7-8808-2e50374f713d\"></div>\n",
       "</div>"
      ]
     },
     "metadata": {},
     "output_type": "display_data"
    },
    {
     "data": {
      "application/javascript": [
       "(function(root) {\n",
       "  function embed_document(root) {\n",
       "    \n",
       "  var docs_json = {\"a56f956d-12eb-4f0b-8280-65970dd2c329\":{\"roots\":{\"references\":[{\"attributes\":{\"below\":[{\"id\":\"88ec5933-0cd2-4bc2-98b3-2fac8215728c\",\"type\":\"CategoricalAxis\"}],\"left\":[{\"id\":\"f90b48a8-3c1e-464d-90c0-f119e8f1da08\",\"type\":\"LinearAxis\"}],\"plot_height\":300,\"plot_width\":300,\"renderers\":[{\"id\":\"88ec5933-0cd2-4bc2-98b3-2fac8215728c\",\"type\":\"CategoricalAxis\"},{\"id\":\"ade4bd02-5542-4818-a514-4d9b18b08524\",\"type\":\"Grid\"},{\"id\":\"f90b48a8-3c1e-464d-90c0-f119e8f1da08\",\"type\":\"LinearAxis\"},{\"id\":\"1fce42ce-7c22-4475-9c85-d3806cc6e75f\",\"type\":\"Grid\"},{\"id\":\"3280f047-d7ca-4b1f-830a-6c27d33a198b\",\"type\":\"BoxAnnotation\"},{\"id\":\"d812fce2-325e-4cb8-9ae4-21118e2e365c\",\"type\":\"GlyphRenderer\"}],\"title\":{\"id\":\"7dab8b81-3727-44dd-8c3a-172c90a5ed0c\",\"type\":\"Title\"},\"toolbar\":{\"id\":\"dd44f4de-43c3-490b-baf8-377dcbcc415c\",\"type\":\"Toolbar\"},\"toolbar_location\":null,\"x_range\":{\"id\":\"39916fd3-0b32-44f9-85cd-886f94d1e0cc\",\"type\":\"FactorRange\"},\"x_scale\":{\"id\":\"fd44dc36-751c-4a03-9a29-4f2a10a5d30c\",\"type\":\"CategoricalScale\"},\"y_range\":{\"id\":\"cb36758d-86a5-45af-9367-4d0d04f09547\",\"type\":\"DataRange1d\"},\"y_scale\":{\"id\":\"37e845ab-2bad-4c59-be13-1101f829182f\",\"type\":\"LinearScale\"}},\"id\":\"289290f3-ee40-426b-99ca-f39bb3274f1b\",\"subtype\":\"Figure\",\"type\":\"Plot\"},{\"attributes\":{\"callback\":null,\"data\":{\"band\":[\"1\",\"2\",\"3\",\"4\",\"5\",\"6\",\"7\",\"8\",\"9\",\"10\",\"11\"],\"flux\":{\"__ndarray__\":\"APnkm0xgyD8AykAC0kC1vwBoiKcNPYi/QAlOvzwL0T+AnbZGBOPOvwDPfw9eu8K/QFfMCG8P1z8AHAbzV8ikP4AaiwFtBsi/QFf5r71gvj+ADKqylNGtPw==\",\"dtype\":\"float64\",\"shape\":[11]}},\"selected\":{\"id\":\"3b30c0dd-e2ed-45f8-8ceb-e8ea7906afe5\",\"type\":\"Selection\"},\"selection_policy\":{\"id\":\"0c988d45-aabc-43a7-ad16-048a3ae1a77b\",\"type\":\"UnionRenderers\"}},\"id\":\"a051ed78-8a92-435b-bda9-09e72385fe7f\",\"type\":\"ColumnDataSource\"},{\"attributes\":{},\"id\":\"97493e28-b57d-46fd-950d-1b6bc8f9c711\",\"type\":\"UnionRenderers\"},{\"attributes\":{},\"id\":\"8dca894b-4f2f-441a-8498-399efd40c748\",\"type\":\"BasicTickFormatter\"},{\"attributes\":{},\"id\":\"c186c0f9-11af-4fd3-b8cb-dac1df4753ba\",\"type\":\"BasicTickFormatter\"},{\"attributes\":{},\"id\":\"fcd30b44-bc33-4156-aad4-ee90351a4bfa\",\"type\":\"Selection\"},{\"attributes\":{},\"id\":\"b95bac20-8305-4439-ab61-02a02c29e0d3\",\"type\":\"CategoricalScale\"},{\"attributes\":{\"axis_label\":\"flux (W m-2)\",\"formatter\":{\"id\":\"e37608b0-01cd-402c-981b-59d4621655cb\",\"type\":\"BasicTickFormatter\"},\"plot\":{\"id\":\"27734127-1743-4fad-8155-250f82a0bc95\",\"subtype\":\"Figure\",\"type\":\"Plot\"},\"ticker\":{\"id\":\"e583c240-d257-4faf-aa45-17288ee185a8\",\"type\":\"BasicTicker\"}},\"id\":\"e912b338-2d5a-4a03-b682-5994eab5271e\",\"type\":\"LinearAxis\"},{\"attributes\":{},\"id\":\"9742d302-7a8a-442e-9e4a-7d6cd3eb3548\",\"type\":\"HelpTool\"},{\"attributes\":{},\"id\":\"a7ba05cc-10ba-4076-b902-01c74c9afb72\",\"type\":\"SaveTool\"},{\"attributes\":{},\"id\":\"1b43d8b3-db98-4b8c-b186-ffb0054ee264\",\"type\":\"WheelZoomTool\"},{\"attributes\":{\"bottom_units\":\"screen\",\"fill_alpha\":{\"value\":0.5},\"fill_color\":{\"value\":\"lightgrey\"},\"left_units\":\"screen\",\"level\":\"overlay\",\"line_alpha\":{\"value\":1.0},\"line_color\":{\"value\":\"black\"},\"line_dash\":[4,4],\"line_width\":{\"value\":2},\"plot\":null,\"render_mode\":\"css\",\"right_units\":\"screen\",\"top_units\":\"screen\"},\"id\":\"3280f047-d7ca-4b1f-830a-6c27d33a198b\",\"type\":\"BoxAnnotation\"},{\"attributes\":{},\"id\":\"2613bb7c-513a-4aea-bcdf-b3e181672157\",\"type\":\"CategoricalTickFormatter\"},{\"attributes\":{\"fill_color\":{\"value\":\"#1f77b4\"},\"line_color\":{\"value\":\"#1f77b4\"},\"top\":{\"field\":\"flux\"},\"width\":{\"value\":0.9},\"x\":{\"field\":\"band\"}},\"id\":\"ce9954b7-2a51-41a1-b745-e6ec0b1e11d4\",\"type\":\"VBar\"},{\"attributes\":{\"plot\":null,\"text\":\"TOA flux. CLIRAD - CRD.\"},\"id\":\"f72f0c93-eb64-4d52-a4d5-dae578b3140b\",\"type\":\"Title\"},{\"attributes\":{\"source\":{\"id\":\"0fef6ed3-2582-4894-975d-dbec91818091\",\"type\":\"ColumnDataSource\"}},\"id\":\"70ca47d1-5db1-4cfe-a57e-7f32a49c787e\",\"type\":\"CDSView\"},{\"attributes\":{},\"id\":\"eaeaf289-d092-4f1f-a1be-75fcfe716fe2\",\"type\":\"BasicTicker\"},{\"attributes\":{},\"id\":\"8632d238-a089-4e7c-8c6a-73522fdfbf95\",\"type\":\"CategoricalTickFormatter\"},{\"attributes\":{\"overlay\":{\"id\":\"b69e238f-b88f-4e72-ad31-2b481f02e4aa\",\"type\":\"BoxAnnotation\"}},\"id\":\"66619849-eb2f-4c2e-8cc9-4c0e71f291c5\",\"type\":\"BoxZoomTool\"},{\"attributes\":{\"below\":[{\"id\":\"45cad1df-d54a-4fe9-aad6-70a8e14c2603\",\"type\":\"CategoricalAxis\"}],\"left\":[{\"id\":\"892a6092-f888-4fda-aece-2aaa9b6c31a1\",\"type\":\"LinearAxis\"}],\"plot_height\":300,\"plot_width\":300,\"renderers\":[{\"id\":\"45cad1df-d54a-4fe9-aad6-70a8e14c2603\",\"type\":\"CategoricalAxis\"},{\"id\":\"80c21e45-4f7f-4574-80c8-c484b24af5a8\",\"type\":\"Grid\"},{\"id\":\"892a6092-f888-4fda-aece-2aaa9b6c31a1\",\"type\":\"LinearAxis\"},{\"id\":\"f32af17a-45a9-4a72-b9ed-121b428b9095\",\"type\":\"Grid\"},{\"id\":\"93563b45-cd82-425f-8c0c-18f5b15de22e\",\"type\":\"BoxAnnotation\"},{\"id\":\"1898b1af-3275-4827-9ebc-75b6df330044\",\"type\":\"GlyphRenderer\"}],\"title\":{\"id\":\"f72f0c93-eb64-4d52-a4d5-dae578b3140b\",\"type\":\"Title\"},\"toolbar\":{\"id\":\"ad256b4c-494b-4dbe-800e-abf6c6e6b23d\",\"type\":\"Toolbar\"},\"toolbar_location\":null,\"x_range\":{\"id\":\"350a9d5b-92c1-4dc8-80a5-e97999d33282\",\"type\":\"FactorRange\"},\"x_scale\":{\"id\":\"b95bac20-8305-4439-ab61-02a02c29e0d3\",\"type\":\"CategoricalScale\"},\"y_range\":{\"id\":\"346286b9-b68b-4da2-8f90-4b834a82c344\",\"type\":\"DataRange1d\"},\"y_scale\":{\"id\":\"244bed75-fc01-4825-ba76-4a0843aeb070\",\"type\":\"LinearScale\"}},\"id\":\"0b67b344-b2b9-490c-bb0a-c93020c85581\",\"subtype\":\"Figure\",\"type\":\"Plot\"},{\"attributes\":{\"callback\":null},\"id\":\"346286b9-b68b-4da2-8f90-4b834a82c344\",\"type\":\"DataRange1d\"},{\"attributes\":{\"axis_label\":\"flux (W m-2)\",\"formatter\":{\"id\":\"8dca894b-4f2f-441a-8498-399efd40c748\",\"type\":\"BasicTickFormatter\"},\"plot\":{\"id\":\"289290f3-ee40-426b-99ca-f39bb3274f1b\",\"subtype\":\"Figure\",\"type\":\"Plot\"},\"ticker\":{\"id\":\"eaeaf289-d092-4f1f-a1be-75fcfe716fe2\",\"type\":\"BasicTicker\"}},\"id\":\"f90b48a8-3c1e-464d-90c0-f119e8f1da08\",\"type\":\"LinearAxis\"},{\"attributes\":{},\"id\":\"e583c240-d257-4faf-aa45-17288ee185a8\",\"type\":\"BasicTicker\"},{\"attributes\":{\"overlay\":{\"id\":\"93563b45-cd82-425f-8c0c-18f5b15de22e\",\"type\":\"BoxAnnotation\"}},\"id\":\"f28132ff-9b47-4609-8740-1b5926c6219d\",\"type\":\"BoxZoomTool\"},{\"attributes\":{\"active_drag\":\"auto\",\"active_inspect\":\"auto\",\"active_scroll\":\"auto\",\"active_tap\":\"auto\",\"tools\":[{\"id\":\"091afa32-55bc-4aa2-955f-db9e313808b2\",\"type\":\"PanTool\"},{\"id\":\"0bfee7b9-6a51-46e2-9a65-e1cde463f474\",\"type\":\"WheelZoomTool\"},{\"id\":\"f28132ff-9b47-4609-8740-1b5926c6219d\",\"type\":\"BoxZoomTool\"},{\"id\":\"a7ba05cc-10ba-4076-b902-01c74c9afb72\",\"type\":\"SaveTool\"},{\"id\":\"ee212478-83c0-4316-9d16-b052717b5d6c\",\"type\":\"ResetTool\"},{\"id\":\"8a0d0d39-c5d8-47a6-bcbc-77ec95e6267d\",\"type\":\"HelpTool\"}]},\"id\":\"ad256b4c-494b-4dbe-800e-abf6c6e6b23d\",\"type\":\"Toolbar\"},{\"attributes\":{},\"id\":\"b52334f2-a2b1-4797-9ef9-4328899a099e\",\"type\":\"CategoricalTicker\"},{\"attributes\":{},\"id\":\"d73c4a3b-9a2d-49c1-9e4b-16a4c0acf1c6\",\"type\":\"ResetTool\"},{\"attributes\":{\"callback\":null},\"id\":\"cb36758d-86a5-45af-9367-4d0d04f09547\",\"type\":\"DataRange1d\"},{\"attributes\":{},\"id\":\"f1f01846-f05c-4126-8e42-c1fb4ccd0c5c\",\"type\":\"CategoricalTicker\"},{\"attributes\":{},\"id\":\"b24d9ec1-01e2-495a-933d-90afb99679e1\",\"type\":\"UnionRenderers\"},{\"attributes\":{},\"id\":\"340cba8c-1bdd-4206-9564-529daee4c447\",\"type\":\"CategoricalTicker\"},{\"attributes\":{\"bottom_units\":\"screen\",\"fill_alpha\":{\"value\":0.5},\"fill_color\":{\"value\":\"lightgrey\"},\"left_units\":\"screen\",\"level\":\"overlay\",\"line_alpha\":{\"value\":1.0},\"line_color\":{\"value\":\"black\"},\"line_dash\":[4,4],\"line_width\":{\"value\":2},\"plot\":null,\"render_mode\":\"css\",\"right_units\":\"screen\",\"top_units\":\"screen\"},\"id\":\"b69e238f-b88f-4e72-ad31-2b481f02e4aa\",\"type\":\"BoxAnnotation\"},{\"attributes\":{\"children\":[{\"id\":\"c6a5750f-3d38-45da-9a76-a1c1e3d9aaf1\",\"type\":\"ToolbarBox\"},{\"id\":\"b84377cf-7b36-40ff-8742-079da2b27f69\",\"type\":\"Column\"}]},\"id\":\"0f57a19f-c9de-42cc-91b1-e973e34aa448\",\"type\":\"Column\"},{\"attributes\":{},\"id\":\"40695504-80e0-4e42-89e8-eadc9c782faf\",\"type\":\"CategoricalTickFormatter\"},{\"attributes\":{\"children\":[{\"id\":\"629e6cb0-6e28-42ca-bd68-cfd37cfa2b3a\",\"type\":\"Row\"}]},\"id\":\"b84377cf-7b36-40ff-8742-079da2b27f69\",\"type\":\"Column\"},{\"attributes\":{\"active_drag\":\"auto\",\"active_inspect\":\"auto\",\"active_scroll\":\"auto\",\"active_tap\":\"auto\",\"tools\":[{\"id\":\"ebc90d2e-2d25-40cd-ac0e-0134531668a0\",\"type\":\"PanTool\"},{\"id\":\"19af647a-eef8-4683-aca2-43cc3e50e9a8\",\"type\":\"WheelZoomTool\"},{\"id\":\"ac2b0eb3-9e1a-4be1-8b1a-f90474786a19\",\"type\":\"BoxZoomTool\"},{\"id\":\"1d87fb33-059f-4d1c-862c-467343e92f94\",\"type\":\"SaveTool\"},{\"id\":\"17762f16-f0c6-47f7-9086-00ba5a054ca9\",\"type\":\"ResetTool\"},{\"id\":\"0607ff4b-595e-4c94-afd3-bd338f3e4ddf\",\"type\":\"HelpTool\"}]},\"id\":\"dd44f4de-43c3-490b-baf8-377dcbcc415c\",\"type\":\"Toolbar\"},{\"attributes\":{\"source\":{\"id\":\"a051ed78-8a92-435b-bda9-09e72385fe7f\",\"type\":\"ColumnDataSource\"}},\"id\":\"9f0f662f-d90b-4914-a12e-612abd651d5b\",\"type\":\"CDSView\"},{\"attributes\":{\"below\":[{\"id\":\"80ccc3db-37b1-455f-853d-52c418d2dad4\",\"type\":\"CategoricalAxis\"}],\"left\":[{\"id\":\"e912b338-2d5a-4a03-b682-5994eab5271e\",\"type\":\"LinearAxis\"}],\"plot_height\":300,\"plot_width\":300,\"renderers\":[{\"id\":\"80ccc3db-37b1-455f-853d-52c418d2dad4\",\"type\":\"CategoricalAxis\"},{\"id\":\"c5f27d2b-3ec6-4af5-be20-7f0376814036\",\"type\":\"Grid\"},{\"id\":\"e912b338-2d5a-4a03-b682-5994eab5271e\",\"type\":\"LinearAxis\"},{\"id\":\"e17ec322-7c3c-4ee6-9272-4d58edd35861\",\"type\":\"Grid\"},{\"id\":\"b69e238f-b88f-4e72-ad31-2b481f02e4aa\",\"type\":\"BoxAnnotation\"},{\"id\":\"b2d0ba56-5dc2-4cab-b218-47c17248cb10\",\"type\":\"GlyphRenderer\"}],\"title\":{\"id\":\"d07782c4-5e55-4de1-9699-09a3fd8b47a5\",\"type\":\"Title\"},\"toolbar\":{\"id\":\"74af495d-8338-4c8a-92f1-bc0a07ae261a\",\"type\":\"Toolbar\"},\"toolbar_location\":null,\"x_range\":{\"id\":\"b09dc567-d275-4139-b7e1-0ebd73071a74\",\"type\":\"FactorRange\"},\"x_scale\":{\"id\":\"826201bb-2ca7-4975-bcc2-4fd7f309acf7\",\"type\":\"CategoricalScale\"},\"y_range\":{\"id\":\"edb69017-5719-41be-8547-7c583cb410eb\",\"type\":\"DataRange1d\"},\"y_scale\":{\"id\":\"41bf98ef-d1a6-4235-b6ac-36661347618a\",\"type\":\"LinearScale\"}},\"id\":\"27734127-1743-4fad-8155-250f82a0bc95\",\"subtype\":\"Figure\",\"type\":\"Plot\"},{\"attributes\":{},\"id\":\"3b30c0dd-e2ed-45f8-8ceb-e8ea7906afe5\",\"type\":\"Selection\"},{\"attributes\":{\"callback\":null,\"factors\":[\"1\",\"2\",\"3\",\"4\",\"5\",\"6\",\"7\",\"8\",\"9\",\"10\",\"11\"]},\"id\":\"350a9d5b-92c1-4dc8-80a5-e97999d33282\",\"type\":\"FactorRange\"},{\"attributes\":{},\"id\":\"cc7f45c2-d150-4725-a9bf-7d08841bb83f\",\"type\":\"Selection\"},{\"attributes\":{},\"id\":\"244bed75-fc01-4825-ba76-4a0843aeb070\",\"type\":\"LinearScale\"},{\"attributes\":{\"axis_label\":\"flux (W m-2)\",\"formatter\":{\"id\":\"c186c0f9-11af-4fd3-b8cb-dac1df4753ba\",\"type\":\"BasicTickFormatter\"},\"plot\":{\"id\":\"0b67b344-b2b9-490c-bb0a-c93020c85581\",\"subtype\":\"Figure\",\"type\":\"Plot\"},\"ticker\":{\"id\":\"4c40abed-0217-43d2-87b6-12791c897795\",\"type\":\"BasicTicker\"}},\"id\":\"892a6092-f888-4fda-aece-2aaa9b6c31a1\",\"type\":\"LinearAxis\"},{\"attributes\":{\"data_source\":{\"id\":\"e4c31f5b-a825-4797-bd13-00861f55341f\",\"type\":\"ColumnDataSource\"},\"glyph\":{\"id\":\"238b3f6d-d2ae-47e4-b026-65ff286f3a5e\",\"type\":\"VBar\"},\"hover_glyph\":null,\"muted_glyph\":null,\"nonselection_glyph\":{\"id\":\"e72771bc-2df5-4e64-99fb-638c041ad71e\",\"type\":\"VBar\"},\"selection_glyph\":null,\"view\":{\"id\":\"c0c61df8-a1c4-4138-9cef-cda136e5f234\",\"type\":\"CDSView\"}},\"id\":\"d812fce2-325e-4cb8-9ae4-21118e2e365c\",\"type\":\"GlyphRenderer\"},{\"attributes\":{\"plot\":null,\"text\":\"SFC flux. CLIRAD - CRD.\"},\"id\":\"7dab8b81-3727-44dd-8c3a-172c90a5ed0c\",\"type\":\"Title\"},{\"attributes\":{},\"id\":\"ebc90d2e-2d25-40cd-ac0e-0134531668a0\",\"type\":\"PanTool\"},{\"attributes\":{\"callback\":null,\"data\":{\"band\":[\"1\",\"2\",\"3\",\"4\",\"5\",\"6\",\"7\",\"8\",\"9\",\"10\",\"11\"],\"flux\":{\"__ndarray__\":\"AAAAOsyXB78A0clS6/3XP4CReeQPBtO/AGDshJfgpD9AXJAty9ffPwAXfD/apLM/AI2iGGpelz9ABJTh0/fBv4C3lPPF3sU/ALA8D+7Oij8A8GJhiJx+Pw==\",\"dtype\":\"float64\",\"shape\":[11]}},\"selected\":{\"id\":\"cc7f45c2-d150-4725-a9bf-7d08841bb83f\",\"type\":\"Selection\"},\"selection_policy\":{\"id\":\"b24d9ec1-01e2-495a-933d-90afb99679e1\",\"type\":\"UnionRenderers\"}},\"id\":\"e4c31f5b-a825-4797-bd13-00861f55341f\",\"type\":\"ColumnDataSource\"},{\"attributes\":{\"axis_label\":\"spectral band\",\"formatter\":{\"id\":\"8632d238-a089-4e7c-8c6a-73522fdfbf95\",\"type\":\"CategoricalTickFormatter\"},\"plot\":{\"id\":\"289290f3-ee40-426b-99ca-f39bb3274f1b\",\"subtype\":\"Figure\",\"type\":\"Plot\"},\"ticker\":{\"id\":\"b52334f2-a2b1-4797-9ef9-4328899a099e\",\"type\":\"CategoricalTicker\"}},\"id\":\"88ec5933-0cd2-4bc2-98b3-2fac8215728c\",\"type\":\"CategoricalAxis\"},{\"attributes\":{\"fill_alpha\":{\"value\":0.1},\"fill_color\":{\"value\":\"#1f77b4\"},\"line_alpha\":{\"value\":0.1},\"line_color\":{\"value\":\"#1f77b4\"},\"top\":{\"field\":\"flux\"},\"width\":{\"value\":0.9},\"x\":{\"field\":\"band\"}},\"id\":\"07c72d92-f07b-46ca-b998-18676012a149\",\"type\":\"VBar\"},{\"attributes\":{},\"id\":\"19af647a-eef8-4683-aca2-43cc3e50e9a8\",\"type\":\"WheelZoomTool\"},{\"attributes\":{\"children\":[{\"id\":\"0b67b344-b2b9-490c-bb0a-c93020c85581\",\"subtype\":\"Figure\",\"type\":\"Plot\"},{\"id\":\"289290f3-ee40-426b-99ca-f39bb3274f1b\",\"subtype\":\"Figure\",\"type\":\"Plot\"},{\"id\":\"27734127-1743-4fad-8155-250f82a0bc95\",\"subtype\":\"Figure\",\"type\":\"Plot\"}]},\"id\":\"629e6cb0-6e28-42ca-bd68-cfd37cfa2b3a\",\"type\":\"Row\"},{\"attributes\":{},\"id\":\"4c40abed-0217-43d2-87b6-12791c897795\",\"type\":\"BasicTicker\"},{\"attributes\":{\"axis_label\":\"spectral band\",\"formatter\":{\"id\":\"40695504-80e0-4e42-89e8-eadc9c782faf\",\"type\":\"CategoricalTickFormatter\"},\"plot\":{\"id\":\"27734127-1743-4fad-8155-250f82a0bc95\",\"subtype\":\"Figure\",\"type\":\"Plot\"},\"ticker\":{\"id\":\"340cba8c-1bdd-4206-9564-529daee4c447\",\"type\":\"CategoricalTicker\"}},\"id\":\"80ccc3db-37b1-455f-853d-52c418d2dad4\",\"type\":\"CategoricalAxis\"},{\"attributes\":{},\"id\":\"091afa32-55bc-4aa2-955f-db9e313808b2\",\"type\":\"PanTool\"},{\"attributes\":{},\"id\":\"826201bb-2ca7-4975-bcc2-4fd7f309acf7\",\"type\":\"CategoricalScale\"},{\"attributes\":{\"fill_color\":{\"value\":\"#1f77b4\"},\"line_color\":{\"value\":\"#1f77b4\"},\"top\":{\"field\":\"flux\"},\"width\":{\"value\":0.9},\"x\":{\"field\":\"band\"}},\"id\":\"e67447f1-ff4a-4577-aae0-cd1394db1885\",\"type\":\"VBar\"},{\"attributes\":{},\"id\":\"ee212478-83c0-4316-9d16-b052717b5d6c\",\"type\":\"ResetTool\"},{\"attributes\":{\"active_drag\":\"auto\",\"active_inspect\":\"auto\",\"active_scroll\":\"auto\",\"active_tap\":\"auto\",\"tools\":[{\"id\":\"add16119-6711-4044-9bad-cda173530049\",\"type\":\"PanTool\"},{\"id\":\"1b43d8b3-db98-4b8c-b186-ffb0054ee264\",\"type\":\"WheelZoomTool\"},{\"id\":\"66619849-eb2f-4c2e-8cc9-4c0e71f291c5\",\"type\":\"BoxZoomTool\"},{\"id\":\"b0764a10-5a46-4ea8-80d7-d0cb0124f86b\",\"type\":\"SaveTool\"},{\"id\":\"d73c4a3b-9a2d-49c1-9e4b-16a4c0acf1c6\",\"type\":\"ResetTool\"},{\"id\":\"9742d302-7a8a-442e-9e4a-7d6cd3eb3548\",\"type\":\"HelpTool\"}]},\"id\":\"74af495d-8338-4c8a-92f1-bc0a07ae261a\",\"type\":\"Toolbar\"},{\"attributes\":{\"callback\":null,\"factors\":[\"1\",\"2\",\"3\",\"4\",\"5\",\"6\",\"7\",\"8\",\"9\",\"10\",\"11\"]},\"id\":\"39916fd3-0b32-44f9-85cd-886f94d1e0cc\",\"type\":\"FactorRange\"},{\"attributes\":{\"plot\":{\"id\":\"289290f3-ee40-426b-99ca-f39bb3274f1b\",\"subtype\":\"Figure\",\"type\":\"Plot\"},\"ticker\":{\"id\":\"b52334f2-a2b1-4797-9ef9-4328899a099e\",\"type\":\"CategoricalTicker\"}},\"id\":\"ade4bd02-5542-4818-a514-4d9b18b08524\",\"type\":\"Grid\"},{\"attributes\":{\"callback\":null},\"id\":\"edb69017-5719-41be-8547-7c583cb410eb\",\"type\":\"DataRange1d\"},{\"attributes\":{\"data_source\":{\"id\":\"0fef6ed3-2582-4894-975d-dbec91818091\",\"type\":\"ColumnDataSource\"},\"glyph\":{\"id\":\"e67447f1-ff4a-4577-aae0-cd1394db1885\",\"type\":\"VBar\"},\"hover_glyph\":null,\"muted_glyph\":null,\"nonselection_glyph\":{\"id\":\"07c72d92-f07b-46ca-b998-18676012a149\",\"type\":\"VBar\"},\"selection_glyph\":null,\"view\":{\"id\":\"70ca47d1-5db1-4cfe-a57e-7f32a49c787e\",\"type\":\"CDSView\"}},\"id\":\"1898b1af-3275-4827-9ebc-75b6df330044\",\"type\":\"GlyphRenderer\"},{\"attributes\":{\"fill_alpha\":{\"value\":0.1},\"fill_color\":{\"value\":\"#1f77b4\"},\"line_alpha\":{\"value\":0.1},\"line_color\":{\"value\":\"#1f77b4\"},\"top\":{\"field\":\"flux\"},\"width\":{\"value\":0.9},\"x\":{\"field\":\"band\"}},\"id\":\"e72771bc-2df5-4e64-99fb-638c041ad71e\",\"type\":\"VBar\"},{\"attributes\":{},\"id\":\"b0764a10-5a46-4ea8-80d7-d0cb0124f86b\",\"type\":\"SaveTool\"},{\"attributes\":{},\"id\":\"37e845ab-2bad-4c59-be13-1101f829182f\",\"type\":\"LinearScale\"},{\"attributes\":{\"fill_alpha\":{\"value\":0.1},\"fill_color\":{\"value\":\"#1f77b4\"},\"line_alpha\":{\"value\":0.1},\"line_color\":{\"value\":\"#1f77b4\"},\"top\":{\"field\":\"flux\"},\"width\":{\"value\":0.9},\"x\":{\"field\":\"band\"}},\"id\":\"d5c5516a-dd58-4e48-a00a-9da5525df18c\",\"type\":\"VBar\"},{\"attributes\":{\"plot\":{\"id\":\"0b67b344-b2b9-490c-bb0a-c93020c85581\",\"subtype\":\"Figure\",\"type\":\"Plot\"},\"ticker\":{\"id\":\"f1f01846-f05c-4126-8e42-c1fb4ccd0c5c\",\"type\":\"CategoricalTicker\"}},\"id\":\"80c21e45-4f7f-4574-80c8-c484b24af5a8\",\"type\":\"Grid\"},{\"attributes\":{},\"id\":\"add16119-6711-4044-9bad-cda173530049\",\"type\":\"PanTool\"},{\"attributes\":{},\"id\":\"0607ff4b-595e-4c94-afd3-bd338f3e4ddf\",\"type\":\"HelpTool\"},{\"attributes\":{\"axis_label\":\"spectral band\",\"formatter\":{\"id\":\"2613bb7c-513a-4aea-bcdf-b3e181672157\",\"type\":\"CategoricalTickFormatter\"},\"plot\":{\"id\":\"0b67b344-b2b9-490c-bb0a-c93020c85581\",\"subtype\":\"Figure\",\"type\":\"Plot\"},\"ticker\":{\"id\":\"f1f01846-f05c-4126-8e42-c1fb4ccd0c5c\",\"type\":\"CategoricalTicker\"}},\"id\":\"45cad1df-d54a-4fe9-aad6-70a8e14c2603\",\"type\":\"CategoricalAxis\"},{\"attributes\":{\"tools\":[{\"id\":\"091afa32-55bc-4aa2-955f-db9e313808b2\",\"type\":\"PanTool\"},{\"id\":\"0bfee7b9-6a51-46e2-9a65-e1cde463f474\",\"type\":\"WheelZoomTool\"},{\"id\":\"f28132ff-9b47-4609-8740-1b5926c6219d\",\"type\":\"BoxZoomTool\"},{\"id\":\"a7ba05cc-10ba-4076-b902-01c74c9afb72\",\"type\":\"SaveTool\"},{\"id\":\"ee212478-83c0-4316-9d16-b052717b5d6c\",\"type\":\"ResetTool\"},{\"id\":\"8a0d0d39-c5d8-47a6-bcbc-77ec95e6267d\",\"type\":\"HelpTool\"},{\"id\":\"ebc90d2e-2d25-40cd-ac0e-0134531668a0\",\"type\":\"PanTool\"},{\"id\":\"19af647a-eef8-4683-aca2-43cc3e50e9a8\",\"type\":\"WheelZoomTool\"},{\"id\":\"ac2b0eb3-9e1a-4be1-8b1a-f90474786a19\",\"type\":\"BoxZoomTool\"},{\"id\":\"1d87fb33-059f-4d1c-862c-467343e92f94\",\"type\":\"SaveTool\"},{\"id\":\"17762f16-f0c6-47f7-9086-00ba5a054ca9\",\"type\":\"ResetTool\"},{\"id\":\"0607ff4b-595e-4c94-afd3-bd338f3e4ddf\",\"type\":\"HelpTool\"},{\"id\":\"add16119-6711-4044-9bad-cda173530049\",\"type\":\"PanTool\"},{\"id\":\"1b43d8b3-db98-4b8c-b186-ffb0054ee264\",\"type\":\"WheelZoomTool\"},{\"id\":\"66619849-eb2f-4c2e-8cc9-4c0e71f291c5\",\"type\":\"BoxZoomTool\"},{\"id\":\"b0764a10-5a46-4ea8-80d7-d0cb0124f86b\",\"type\":\"SaveTool\"},{\"id\":\"d73c4a3b-9a2d-49c1-9e4b-16a4c0acf1c6\",\"type\":\"ResetTool\"},{\"id\":\"9742d302-7a8a-442e-9e4a-7d6cd3eb3548\",\"type\":\"HelpTool\"}]},\"id\":\"f62b9cc1-924b-4ee0-8a12-0ec36e4b48eb\",\"type\":\"ProxyToolbar\"},{\"attributes\":{\"dimension\":1,\"plot\":{\"id\":\"27734127-1743-4fad-8155-250f82a0bc95\",\"subtype\":\"Figure\",\"type\":\"Plot\"},\"ticker\":{\"id\":\"e583c240-d257-4faf-aa45-17288ee185a8\",\"type\":\"BasicTicker\"}},\"id\":\"e17ec322-7c3c-4ee6-9272-4d58edd35861\",\"type\":\"Grid\"},{\"attributes\":{\"dimension\":1,\"plot\":{\"id\":\"289290f3-ee40-426b-99ca-f39bb3274f1b\",\"subtype\":\"Figure\",\"type\":\"Plot\"},\"ticker\":{\"id\":\"eaeaf289-d092-4f1f-a1be-75fcfe716fe2\",\"type\":\"BasicTicker\"}},\"id\":\"1fce42ce-7c22-4475-9c85-d3806cc6e75f\",\"type\":\"Grid\"},{\"attributes\":{\"plot\":null,\"text\":\"Atmosphere heating. CLIRAD - CRD.\"},\"id\":\"d07782c4-5e55-4de1-9699-09a3fd8b47a5\",\"type\":\"Title\"},{\"attributes\":{\"dimension\":1,\"plot\":{\"id\":\"0b67b344-b2b9-490c-bb0a-c93020c85581\",\"subtype\":\"Figure\",\"type\":\"Plot\"},\"ticker\":{\"id\":\"4c40abed-0217-43d2-87b6-12791c897795\",\"type\":\"BasicTicker\"}},\"id\":\"f32af17a-45a9-4a72-b9ed-121b428b9095\",\"type\":\"Grid\"},{\"attributes\":{\"data_source\":{\"id\":\"a051ed78-8a92-435b-bda9-09e72385fe7f\",\"type\":\"ColumnDataSource\"},\"glyph\":{\"id\":\"ce9954b7-2a51-41a1-b745-e6ec0b1e11d4\",\"type\":\"VBar\"},\"hover_glyph\":null,\"muted_glyph\":null,\"nonselection_glyph\":{\"id\":\"d5c5516a-dd58-4e48-a00a-9da5525df18c\",\"type\":\"VBar\"},\"selection_glyph\":null,\"view\":{\"id\":\"9f0f662f-d90b-4914-a12e-612abd651d5b\",\"type\":\"CDSView\"}},\"id\":\"b2d0ba56-5dc2-4cab-b218-47c17248cb10\",\"type\":\"GlyphRenderer\"},{\"attributes\":{},\"id\":\"1d87fb33-059f-4d1c-862c-467343e92f94\",\"type\":\"SaveTool\"},{\"attributes\":{\"fill_color\":{\"value\":\"#1f77b4\"},\"line_color\":{\"value\":\"#1f77b4\"},\"top\":{\"field\":\"flux\"},\"width\":{\"value\":0.9},\"x\":{\"field\":\"band\"}},\"id\":\"238b3f6d-d2ae-47e4-b026-65ff286f3a5e\",\"type\":\"VBar\"},{\"attributes\":{\"toolbar\":{\"id\":\"f62b9cc1-924b-4ee0-8a12-0ec36e4b48eb\",\"type\":\"ProxyToolbar\"},\"toolbar_location\":\"above\"},\"id\":\"c6a5750f-3d38-45da-9a76-a1c1e3d9aaf1\",\"type\":\"ToolbarBox\"},{\"attributes\":{},\"id\":\"fd44dc36-751c-4a03-9a29-4f2a10a5d30c\",\"type\":\"CategoricalScale\"},{\"attributes\":{\"callback\":null,\"factors\":[\"1\",\"2\",\"3\",\"4\",\"5\",\"6\",\"7\",\"8\",\"9\",\"10\",\"11\"]},\"id\":\"b09dc567-d275-4139-b7e1-0ebd73071a74\",\"type\":\"FactorRange\"},{\"attributes\":{\"overlay\":{\"id\":\"3280f047-d7ca-4b1f-830a-6c27d33a198b\",\"type\":\"BoxAnnotation\"}},\"id\":\"ac2b0eb3-9e1a-4be1-8b1a-f90474786a19\",\"type\":\"BoxZoomTool\"},{\"attributes\":{\"plot\":{\"id\":\"27734127-1743-4fad-8155-250f82a0bc95\",\"subtype\":\"Figure\",\"type\":\"Plot\"},\"ticker\":{\"id\":\"340cba8c-1bdd-4206-9564-529daee4c447\",\"type\":\"CategoricalTicker\"}},\"id\":\"c5f27d2b-3ec6-4af5-be20-7f0376814036\",\"type\":\"Grid\"},{\"attributes\":{},\"id\":\"17762f16-f0c6-47f7-9086-00ba5a054ca9\",\"type\":\"ResetTool\"},{\"attributes\":{\"callback\":null,\"data\":{\"band\":[\"1\",\"2\",\"3\",\"4\",\"5\",\"6\",\"7\",\"8\",\"9\",\"10\",\"11\"],\"flux\":{\"__ndarray__\":\"AJQxPsxeyD+AJAuYwK3SP8D4LxAEyNO/AP5HpkOn0z/AxW6fVWbQPwBgYFYo0rG/QP28qUiF2D8AoaF/gou5vwB8MCk+PpG/YL6fGi/dwD9Asujnl9KwPw==\",\"dtype\":\"float64\",\"shape\":[11]}},\"selected\":{\"id\":\"fcd30b44-bc33-4156-aad4-ee90351a4bfa\",\"type\":\"Selection\"},\"selection_policy\":{\"id\":\"97493e28-b57d-46fd-950d-1b6bc8f9c711\",\"type\":\"UnionRenderers\"}},\"id\":\"0fef6ed3-2582-4894-975d-dbec91818091\",\"type\":\"ColumnDataSource\"},{\"attributes\":{},\"id\":\"8a0d0d39-c5d8-47a6-bcbc-77ec95e6267d\",\"type\":\"HelpTool\"},{\"attributes\":{\"source\":{\"id\":\"e4c31f5b-a825-4797-bd13-00861f55341f\",\"type\":\"ColumnDataSource\"}},\"id\":\"c0c61df8-a1c4-4138-9cef-cda136e5f234\",\"type\":\"CDSView\"},{\"attributes\":{},\"id\":\"e37608b0-01cd-402c-981b-59d4621655cb\",\"type\":\"BasicTickFormatter\"},{\"attributes\":{},\"id\":\"0c988d45-aabc-43a7-ad16-048a3ae1a77b\",\"type\":\"UnionRenderers\"},{\"attributes\":{\"bottom_units\":\"screen\",\"fill_alpha\":{\"value\":0.5},\"fill_color\":{\"value\":\"lightgrey\"},\"left_units\":\"screen\",\"level\":\"overlay\",\"line_alpha\":{\"value\":1.0},\"line_color\":{\"value\":\"black\"},\"line_dash\":[4,4],\"line_width\":{\"value\":2},\"plot\":null,\"render_mode\":\"css\",\"right_units\":\"screen\",\"top_units\":\"screen\"},\"id\":\"93563b45-cd82-425f-8c0c-18f5b15de22e\",\"type\":\"BoxAnnotation\"},{\"attributes\":{},\"id\":\"41bf98ef-d1a6-4235-b6ac-36661347618a\",\"type\":\"LinearScale\"},{\"attributes\":{},\"id\":\"0bfee7b9-6a51-46e2-9a65-e1cde463f474\",\"type\":\"WheelZoomTool\"}],\"root_ids\":[\"0f57a19f-c9de-42cc-91b1-e973e34aa448\"]},\"title\":\"Bokeh Application\",\"version\":\"0.12.16\"}};\n",
       "  var render_items = [{\"docid\":\"a56f956d-12eb-4f0b-8280-65970dd2c329\",\"elementid\":\"79a6636c-7436-4dc7-8808-2e50374f713d\",\"modelid\":\"0f57a19f-c9de-42cc-91b1-e973e34aa448\"}];\n",
       "  root.Bokeh.embed.embed_items_notebook(docs_json, render_items);\n",
       "\n",
       "  }\n",
       "  if (root.Bokeh !== undefined) {\n",
       "    embed_document(root);\n",
       "  } else {\n",
       "    var attempts = 0;\n",
       "    var timer = setInterval(function(root) {\n",
       "      if (root.Bokeh !== undefined) {\n",
       "        embed_document(root);\n",
       "        clearInterval(timer);\n",
       "      }\n",
       "      attempts++;\n",
       "      if (attempts > 100) {\n",
       "        console.log(\"Bokeh: ERROR: Unable to run BokehJS code because BokehJS library is missing\")\n",
       "        clearInterval(timer);\n",
       "      }\n",
       "    }, 10, root)\n",
       "  }\n",
       "})(window);"
      ],
      "application/vnd.bokehjs_exec.v0+json": ""
     },
     "metadata": {
      "application/vnd.bokehjs_exec.v0+json": {
       "id": "0f57a19f-c9de-42cc-91b1-e973e34aa448"
      }
     },
     "output_type": "display_data"
    },
    {
     "data": {
      "text/markdown": [
       "*FIGURE.* Difference between CLIRAD and CRD in TOA, SFC and net atmosphere flux, in each spectral band."
      ],
      "text/plain": [
       "<IPython.core.display.Markdown object>"
      ]
     },
     "metadata": {},
     "output_type": "display_data"
    },
    {
     "data": {
      "text/html": [
       "<div>\n",
       "<style scoped>\n",
       "    .dataframe tbody tr th:only-of-type {\n",
       "        vertical-align: middle;\n",
       "    }\n",
       "\n",
       "    .dataframe tbody tr th {\n",
       "        vertical-align: top;\n",
       "    }\n",
       "\n",
       "    .dataframe thead th {\n",
       "        text-align: right;\n",
       "    }\n",
       "</style>\n",
       "<table border=\"1\" class=\"dataframe\">\n",
       "  <thead>\n",
       "    <tr style=\"text-align: right;\">\n",
       "      <th></th>\n",
       "      <th>OLR flux</th>\n",
       "      <th>SFC flux</th>\n",
       "      <th>ATM heating</th>\n",
       "    </tr>\n",
       "    <tr>\n",
       "      <th>Sum over bands</th>\n",
       "      <th></th>\n",
       "      <th></th>\n",
       "      <th></th>\n",
       "    </tr>\n",
       "  </thead>\n",
       "  <tbody>\n",
       "    <tr>\n",
       "      <th>old CLIRAD - CRD</th>\n",
       "      <td>0.09</td>\n",
       "      <td>1.54</td>\n",
       "      <td>-1.31</td>\n",
       "    </tr>\n",
       "    <tr>\n",
       "      <th>CLIRAD - CRD</th>\n",
       "      <td>1.13</td>\n",
       "      <td>0.77</td>\n",
       "      <td>0.36</td>\n",
       "    </tr>\n",
       "    <tr>\n",
       "      <th>CRD</th>\n",
       "      <td>-290.39</td>\n",
       "      <td>308.14</td>\n",
       "      <td>-174.89</td>\n",
       "    </tr>\n",
       "  </tbody>\n",
       "</table>\n",
       "</div>"
      ],
      "text/plain": [
       "                  OLR flux  SFC flux  ATM heating\n",
       "Sum over bands                                   \n",
       "old CLIRAD - CRD      0.09      1.54        -1.31\n",
       "CLIRAD - CRD          1.13      0.77         0.36\n",
       "CRD                -290.39    308.14      -174.89"
      ]
     },
     "metadata": {},
     "output_type": "display_data"
    },
    {
     "data": {
      "text/markdown": [
       "*TABLE.* Difference between CLIRAD and CRD in TOA, SFC and net atmosphere flux, over all spectral bands. CRD's TOA, SFC and net atmosphere flux, over all spectral bands."
      ],
      "text/plain": [
       "<IPython.core.display.Markdown object>"
      ]
     },
     "metadata": {},
     "output_type": "display_data"
    },
    {
     "data": {
      "text/html": [
       "<a id=\"Cooling_rates._saw.\"></a>"
      ],
      "text/plain": [
       "<IPython.core.display.HTML object>"
      ]
     },
     "metadata": {},
     "output_type": "display_data"
    },
    {
     "data": {
      "text/markdown": [
       "# Cooling rates. saw."
      ],
      "text/plain": [
       "<IPython.core.display.Markdown object>"
      ]
     },
     "metadata": {},
     "output_type": "display_data"
    },
    {
     "data": {
      "text/html": [
       "\n",
       "<div class=\"bk-root\">\n",
       "    <div class=\"bk-plotdiv\" id=\"5a08d8af-70a1-45bb-900f-cbbdc63d0583\"></div>\n",
       "</div>"
      ]
     },
     "metadata": {},
     "output_type": "display_data"
    },
    {
     "data": {
      "application/javascript": [
       "(function(root) {\n",
       "  function embed_document(root) {\n",
       "    \n",
       "  var docs_json = {\"cab5f531-d91d-4f86-8656-127e50c6c933\":{\"roots\":{\"references\":[{\"attributes\":{\"plot\":{\"id\":\"e924ebed-dda5-4e92-8232-1d54830fde9e\",\"subtype\":\"Figure\",\"type\":\"Plot\"},\"ticker\":{\"id\":\"b43769b7-93bf-4e7e-9d19-4ee7fcd7fbbf\",\"type\":\"BasicTicker\"}},\"id\":\"f40e9593-d71c-40ac-9b45-91df05446380\",\"type\":\"Grid\"},{\"attributes\":{},\"id\":\"d5485032-1f97-4c20-be8c-bd0d777e3456\",\"type\":\"WheelZoomTool\"},{\"attributes\":{\"callback\":null,\"data\":{\"x\":{\"__ndarray__\":\"4L4jQHkeSED6bEliUZ1BQEG5/fnNOEFAKaX75oDvP0BWtxGLZf47QEsBa/cjdTdAvpCanOxvM0BYkA5Wr84wQIaHIyjeAS9AWp5++qLLLUCOWP4+iNUsQIddP4fJsitAhHeHs/zHKkAAB4lz66QpQIBdaVIOBihADcFUlg/LJkDo1fBny+8lQPL0MCipBiVA/84lcpgkJEApc9ZyQNQjQFMPZMd7HyVApFTwGHN5JECiczDrJ6YgQIMFIMndFRpAWmxD+VRMFECehYkcClIPQB2zlZqXGwlAIicg3vv1BEAGRP5PTWYCQIa2J73/EABAtVgNVxp3+z96irxnuyH1P+z/ko9ZivE/8q9rrax48T8tVZkJt73vPzFr4ZTTdek/Y+P3Lsmk5D+JZQIP8jfhP53wbNVCPeE/V9r0twyd4T9DlFgp+vHhP/iVNYK86+A/h8f9pSCQ3j8zN7uAz3/aPzUby1lUT9I/z5vtWyznzz/hqXiSS5baP3NjmyzXAuM/QKsa7/xC6z/T98vpfA/yPxGBa71eYPU/YSnZQumF9z8JuAhnaWv4P5zURQ1fa/g/QpS5890++D8Ha55Ocvb3P+zBlxcWi/c/l+WA4Bf69j8VkMl1GUb2PyPAsbNdn/U/5W9Xcy3b9D9bev/iwwf0P01MJIz3L/M/36lmcLll8j/8BvWPL73xPwQRsLU6SvE/tjXQYsMs8T90lDwEeXHxP0x+0CL3tvE/XMHCi7Z58T/lnyM2e7fvP+J+EQLjkeo/gh+1xxvB5T/c50HRZjvhP9t0xwybG9c/\",\"dtype\":\"float64\",\"shape\":[75]},\"y\":{\"__ndarray__\":\"GhExyth1ND/Sv8nbtpRIP2vylNV0PVE/aTum7souWD/At0SJ8fVgPw3Iuahxymc/MSNhhJWvcD/bTfBN02d3P2zb5nxnaoA/CD5h5MAGhz8NmeH1TyaQP+zrCsc9p5Y/LbKd76fGnz/bLW5ISEmmPww9YvTcQq8/JV2OstnstT8Er5Y7M8G+P0c+r3jqkcU/5h99k6ZBzj88bCIzFzjVP4enV8oyxN0//yH99nXg5D8qOpLLf0jtP5kqGJXUifQ/c9cS8kHP/D+/DpwzojQEQIEmwoanVwxA4lgXt9HgE0BSSZ2AJuIbQAMJih9jjiNA5q4l5INuK0AwTKYKRj0zQNv5fmq8/DpAaCJseHrtQkB/+zpwzoxKQM3MzMzMeFJAZmZmZmZqWEAAAAAAAFxeQM3MzMzMJmJAmpmZmZkfZUBmZmZmZhhoQDMzMzMzEWtAAAAAAAAKbkBmZmZmZoFwQM3MzMzM/XFAMzMzMzN6c0CamZmZmfZ0QAAAAAAAc3ZAZmZmZmbvd0DNzMzMzGt5QDMzMzMz6HpAmpmZmZlkfEAAAAAAAOF9QGZmZmZmXX9AZmZmZuZsgECamZmZGSuBQM3MzMxM6YFAAAAAAICngkAzMzMzs2WDQGZmZmbmI4RAmpmZmRnihEDNzMzMTKCFQAAAAACAXoZAMzMzM7Mch0BmZmZm5tqHQJqZmZkZmYhAzczMzExXiUAAAAAAgBWKQDMzMzOz04pAZmZmZuaRi0CamZmZGVCMQM3MzMxMDo1AAAAAAIDMjUAzMzMzs4qOQGZmZmbmSI9A\",\"dtype\":\"float64\",\"shape\":[75]}},\"selected\":{\"id\":\"d8f2ed14-4a88-4469-8163-c32d64987cfe\",\"type\":\"Selection\"},\"selection_policy\":{\"id\":\"e64e220b-a60e-469b-9434-edb0c710049e\",\"type\":\"UnionRenderers\"}},\"id\":\"6162f73b-9901-40a3-af69-204fc32b0772\",\"type\":\"ColumnDataSource\"},{\"attributes\":{},\"id\":\"006c76f6-e0da-4e7e-a267-b4daaa50bb96\",\"type\":\"PanTool\"},{\"attributes\":{},\"id\":\"2ac50c8f-c1a2-4c52-b7c9-d860d1ff6e31\",\"type\":\"LinearScale\"},{\"attributes\":{\"fill_alpha\":{\"value\":0.1},\"fill_color\":{\"value\":\"#1f77b4\"},\"line_alpha\":{\"value\":0.1},\"line_color\":{\"value\":\"#1f77b4\"},\"x\":{\"field\":\"x\"},\"y\":{\"field\":\"y\"}},\"id\":\"213cf4fa-bd44-47c9-bff4-0095251aa03b\",\"type\":\"Circle\"},{\"attributes\":{\"axis_label\":\"cooling rate [K/day]\",\"formatter\":{\"id\":\"68cb7c33-bf43-4756-b89f-f81d5015b8e9\",\"type\":\"BasicTickFormatter\"},\"plot\":{\"id\":\"e924ebed-dda5-4e92-8232-1d54830fde9e\",\"subtype\":\"Figure\",\"type\":\"Plot\"},\"ticker\":{\"id\":\"b43769b7-93bf-4e7e-9d19-4ee7fcd7fbbf\",\"type\":\"BasicTicker\"}},\"id\":\"7df7e3a8-4846-4307-99f6-e53850a6e3d8\",\"type\":\"LinearAxis\"},{\"attributes\":{},\"id\":\"7424ac1b-4e62-4de5-ab91-d3cf428a96e0\",\"type\":\"ResetTool\"},{\"attributes\":{},\"id\":\"95b8ab11-3d33-4bda-89aa-593d16523044\",\"type\":\"HelpTool\"},{\"attributes\":{\"axis_label\":\"pressure [mb]\",\"formatter\":{\"id\":\"9fd5e811-a2a7-4757-800f-4806f9c78dde\",\"type\":\"LogTickFormatter\"},\"plot\":{\"id\":\"e924ebed-dda5-4e92-8232-1d54830fde9e\",\"subtype\":\"Figure\",\"type\":\"Plot\"},\"ticker\":{\"id\":\"0861fc0b-f232-4963-94f9-748f16b58381\",\"type\":\"LogTicker\"}},\"id\":\"1169f92c-7f14-4b87-8dd9-89f8c5da447e\",\"type\":\"LogAxis\"},{\"attributes\":{\"callback\":null,\"data\":{\"x\":{\"__ndarray__\":\"gx29R+OqOMDWq2w2QbzbP5N8rEtEIPo/qEbP7FrhAEAsGV5aTar2P9AHcZxVlbm/LPlgqaT/+L/2WWfC8koBwI11DRVMxv6/L3EsLbgY9r9LmodpLfHvvx2D3L2i1uy/uSGWbk1L7r/2Gm/uDZrqvz2ic79ra9m/7pYCgfPFwj+h3ogcWV7eP0hHmJ+379s/ev64qgIEtT9UkuLqdUrXvxtJhJ9FGuW/0O9pSRrS4L9o2f/iPRS+v0pmwc1ZB7M/LFmMbxsser9epoYGp960v4j3DXTgFbE/8c2FSRI9xj+V5FaDGQ/CPyO+4fC3ILM/TCSHHLenrj+/9Uw9lyZ0vyj6vrMuWaG/6eqoJm2ikD/OAKUyr/mgP4nBt6pAQI+/vQZXTztjpb/YDP6Q1AeXv6PR7MOsf3C/zFh8KAYNgT/D0RUaoeyBP5i3rNZXgVG/guZ9b/9ukL9naoOFm5GYv48gYKx83Jq/FHZOKkwMnL/j/fE4PVGbv2UI0S+azJy/m4FPc4O4pL/AEig2zh6uv5rqzTGMXKy/gVyxul9/pL9iRtaj8iukvx9Ve3R6Pau/8TGToAVgqr9gG8XkV3Skv1DOPa5JU5y/RkzuTjsXk7+lcLzUKueNv8R7kohorHS/IN2m4PapVr+8zm6Y5cVSv0ICxbke7WW/tB0F9x9zb78Ir4TCpJdovwC/NrkBHjY/pH4WS5F8fT9+1ynY+xuQP3I231P8iZE/oTsxU6nFmT8UHOomGmycPwgnvP7IX5k/ZptMMU87nT82Y0fMtEmWP3LCH6bGSZk/\",\"dtype\":\"float64\",\"shape\":[75]},\"y\":{\"__ndarray__\":\"GhExyth1ND/Sv8nbtpRIP2vylNV0PVE/aTum7souWD/At0SJ8fVgPw3Iuahxymc/MSNhhJWvcD/bTfBN02d3P2zb5nxnaoA/CD5h5MAGhz8NmeH1TyaQP+zrCsc9p5Y/LbKd76fGnz/bLW5ISEmmPww9YvTcQq8/JV2OstnstT8Er5Y7M8G+P0c+r3jqkcU/5h99k6ZBzj88bCIzFzjVP4enV8oyxN0//yH99nXg5D8qOpLLf0jtP5kqGJXUifQ/c9cS8kHP/D+/DpwzojQEQIEmwoanVwxA4lgXt9HgE0BSSZ2AJuIbQAMJih9jjiNA5q4l5INuK0AwTKYKRj0zQNv5fmq8/DpAaCJseHrtQkB/+zpwzoxKQM3MzMzMeFJAZmZmZmZqWEAAAAAAAFxeQM3MzMzMJmJAmpmZmZkfZUBmZmZmZhhoQDMzMzMzEWtAAAAAAAAKbkBmZmZmZoFwQM3MzMzM/XFAMzMzMzN6c0CamZmZmfZ0QAAAAAAAc3ZAZmZmZmbvd0DNzMzMzGt5QDMzMzMz6HpAmpmZmZlkfEAAAAAAAOF9QGZmZmZmXX9AZmZmZuZsgECamZmZGSuBQM3MzMxM6YFAAAAAAICngkAzMzMzs2WDQGZmZmbmI4RAmpmZmRnihEDNzMzMTKCFQAAAAACAXoZAMzMzM7Mch0BmZmZm5tqHQJqZmZkZmYhAzczMzExXiUAAAAAAgBWKQDMzMzOz04pAZmZmZuaRi0CamZmZGVCMQM3MzMxMDo1AAAAAAIDMjUAzMzMzs4qOQGZmZmbmSI9A\",\"dtype\":\"float64\",\"shape\":[75]}},\"selected\":{\"id\":\"0f234258-a116-4d16-84d8-b010ad6df515\",\"type\":\"Selection\"},\"selection_policy\":{\"id\":\"341207de-f5be-4de4-ba7e-f122c4b99d66\",\"type\":\"UnionRenderers\"}},\"id\":\"9513343c-6281-4e31-91ae-504a6b69aea2\",\"type\":\"ColumnDataSource\"},{\"attributes\":{\"line_alpha\":0.6,\"line_color\":\"#e41a1c\",\"line_dash\":[6],\"line_width\":5,\"x\":{\"field\":\"x\"},\"y\":{\"field\":\"y\"}},\"id\":\"0ab9c0cb-ea6c-4a1d-b116-a16aa3ae6d32\",\"type\":\"Line\"},{\"attributes\":{\"fill_alpha\":{\"value\":0.7},\"fill_color\":{\"value\":\"#984ea3\"},\"line_alpha\":{\"value\":0.7},\"line_color\":{\"value\":\"#984ea3\"},\"x\":{\"field\":\"x\"},\"y\":{\"field\":\"y\"}},\"id\":\"1a1fa4e0-e851-4fd4-8f24-d2723d90343c\",\"type\":\"Circle\"},{\"attributes\":{},\"id\":\"e64e220b-a60e-469b-9434-edb0c710049e\",\"type\":\"UnionRenderers\"},{\"attributes\":{\"label\":{\"value\":\"CRD\"},\"renderers\":[{\"id\":\"9d8c35ab-b1fd-483e-b2b8-f780789cac00\",\"type\":\"GlyphRenderer\"},{\"id\":\"3ee45a2f-aa2c-433c-a7e6-f4b767894721\",\"type\":\"GlyphRenderer\"}]},\"id\":\"3b23727b-d504-42f2-9b07-b4285e1b983a\",\"type\":\"LegendItem\"},{\"attributes\":{},\"id\":\"7e339bab-478a-45af-8fdf-29d18216f9e0\",\"type\":\"SaveTool\"},{\"attributes\":{},\"id\":\"b43769b7-93bf-4e7e-9d19-4ee7fcd7fbbf\",\"type\":\"BasicTicker\"},{\"attributes\":{\"bottom_units\":\"screen\",\"fill_alpha\":{\"value\":0.5},\"fill_color\":{\"value\":\"lightgrey\"},\"left_units\":\"screen\",\"level\":\"overlay\",\"line_alpha\":{\"value\":1.0},\"line_color\":{\"value\":\"black\"},\"line_dash\":[4,4],\"line_width\":{\"value\":2},\"plot\":null,\"render_mode\":\"css\",\"right_units\":\"screen\",\"top_units\":\"screen\"},\"id\":\"6ff5dab8-acf4-48ab-89a5-cb954af65a9e\",\"type\":\"BoxAnnotation\"},{\"attributes\":{\"line_alpha\":0.1,\"line_color\":\"#1f77b4\",\"line_dash\":[6],\"line_width\":5,\"x\":{\"field\":\"x\"},\"y\":{\"field\":\"y\"}},\"id\":\"448c8782-04eb-4554-8813-a905cc365cf6\",\"type\":\"Line\"},{\"attributes\":{},\"id\":\"d8f2ed14-4a88-4469-8163-c32d64987cfe\",\"type\":\"Selection\"},{\"attributes\":{},\"id\":\"806c3355-deb6-45d6-8d17-3a2501d4c921\",\"type\":\"LogScale\"},{\"attributes\":{\"overlay\":{\"id\":\"6ff5dab8-acf4-48ab-89a5-cb954af65a9e\",\"type\":\"BoxAnnotation\"}},\"id\":\"cf566b5a-5ca4-4ece-b25e-8109630bfadd\",\"type\":\"BoxZoomTool\"},{\"attributes\":{\"children\":[{\"id\":\"da8459b5-68a8-48a4-a155-01f2dbb6c882\",\"type\":\"Row\"}]},\"id\":\"3af23435-615c-48c1-b635-dfe5ed689736\",\"type\":\"Column\"},{\"attributes\":{},\"id\":\"6c3fe818-608e-47a3-b0f2-b11556615279\",\"type\":\"BasicTickFormatter\"},{\"attributes\":{\"plot\":null,\"text\":\"\"},\"id\":\"98defedb-8f34-4462-9e84-ce0cbe1d9b5f\",\"type\":\"Title\"},{\"attributes\":{},\"id\":\"1dfefa86-cdc7-4968-8f46-41a8c66f34fb\",\"type\":\"BasicTickFormatter\"},{\"attributes\":{\"fill_alpha\":{\"value\":0.7},\"fill_color\":{\"value\":\"#4daf4a\"},\"line_alpha\":{\"value\":0.7},\"line_color\":{\"value\":\"#4daf4a\"},\"x\":{\"field\":\"x\"},\"y\":{\"field\":\"y\"}},\"id\":\"af52cdb9-cdbb-46c7-b846-f7507d03bcd7\",\"type\":\"Circle\"},{\"attributes\":{\"source\":{\"id\":\"6162f73b-9901-40a3-af69-204fc32b0772\",\"type\":\"ColumnDataSource\"}},\"id\":\"255914c2-f3db-494c-ab8b-06078b0337db\",\"type\":\"CDSView\"},{\"attributes\":{},\"id\":\"ffa0b3d8-3fd5-48a5-9fc9-c9d2ab9f002d\",\"type\":\"UnionRenderers\"},{\"attributes\":{\"data_source\":{\"id\":\"6162f73b-9901-40a3-af69-204fc32b0772\",\"type\":\"ColumnDataSource\"},\"glyph\":{\"id\":\"7bbf0a82-7e51-4fb0-b6a4-ae5fd9a0c77c\",\"type\":\"Line\"},\"hover_glyph\":null,\"muted_glyph\":null,\"nonselection_glyph\":{\"id\":\"b6ee445c-b999-4320-b7a8-9102d17ec81c\",\"type\":\"Line\"},\"selection_glyph\":null,\"view\":{\"id\":\"255914c2-f3db-494c-ab8b-06078b0337db\",\"type\":\"CDSView\"}},\"id\":\"89bdc8da-9db6-4a24-b28d-084fb12f2eac\",\"type\":\"GlyphRenderer\"},{\"attributes\":{},\"id\":\"4a242162-32ed-4004-8b02-d34cf158cbd5\",\"type\":\"UnionRenderers\"},{\"attributes\":{\"label\":{\"value\":\"CLIRAD - CRD\"},\"renderers\":[{\"id\":\"863d96a4-38e2-4a64-bfaa-a10e20acfb8e\",\"type\":\"GlyphRenderer\"},{\"id\":\"bc7cb95e-9934-4715-ab6b-b9aa5ca0f5cb\",\"type\":\"GlyphRenderer\"}]},\"id\":\"a6592ac5-7c9a-4eb5-aa22-25ab8843ee15\",\"type\":\"LegendItem\"},{\"attributes\":{\"children\":[{\"id\":\"7c415586-4272-446c-b108-0bac289f88c7\",\"type\":\"ToolbarBox\"},{\"id\":\"3af23435-615c-48c1-b635-dfe5ed689736\",\"type\":\"Column\"}]},\"id\":\"311edbef-e8a8-47ec-9a2b-144aaae2d65a\",\"type\":\"Column\"},{\"attributes\":{},\"id\":\"30d88c9c-54b5-4a9e-a162-a5d635a884c1\",\"type\":\"Selection\"},{\"attributes\":{},\"id\":\"a065ca57-cead-4e52-8f92-321e81ce18ff\",\"type\":\"BasicTicker\"},{\"attributes\":{},\"id\":\"1e7dea6b-1a3b-4111-825c-c6ec086e58ab\",\"type\":\"WheelZoomTool\"},{\"attributes\":{\"plot\":null,\"text\":\"\"},\"id\":\"f869472c-ddd5-4b64-8280-ffad27e6cbad\",\"type\":\"Title\"},{\"attributes\":{\"num_minor_ticks\":10},\"id\":\"7dc95873-32ea-407e-ab84-82d0b29c401f\",\"type\":\"LogTicker\"},{\"attributes\":{},\"id\":\"af77fa0c-1e54-48a0-918a-efdcb9c0771f\",\"type\":\"Selection\"},{\"attributes\":{},\"id\":\"5c310e5b-963c-4a0c-bce1-6654022a605a\",\"type\":\"UnionRenderers\"},{\"attributes\":{\"callback\":null,\"end\":0.01,\"start\":1020},\"id\":\"af41630b-d4f1-4b65-b5e5-e3ec2f6812f6\",\"type\":\"Range1d\"},{\"attributes\":{},\"id\":\"6c93de82-1c7a-4fd7-b115-156791bd5c68\",\"type\":\"UnionRenderers\"},{\"attributes\":{},\"id\":\"fda0c752-9c78-4849-b2f2-f7f2dfc7ba04\",\"type\":\"PanTool\"},{\"attributes\":{\"axis_label\":\"pressure [mb]\",\"formatter\":{\"id\":\"c9b4c916-769c-4dff-8b8b-aed705ab3971\",\"type\":\"LogTickFormatter\"},\"plot\":{\"id\":\"7b816619-2a4d-4c57-90d1-3a5d3c17a3ed\",\"subtype\":\"Figure\",\"type\":\"Plot\"},\"ticker\":{\"id\":\"7dc95873-32ea-407e-ab84-82d0b29c401f\",\"type\":\"LogTicker\"}},\"id\":\"c746020d-8b8c-4a14-8efb-22768321b812\",\"type\":\"LogAxis\"},{\"attributes\":{},\"id\":\"10f0dbf5-6c67-427e-874c-41f0201b5d93\",\"type\":\"UnionRenderers\"},{\"attributes\":{\"tools\":[{\"id\":\"7536d0ae-f444-4eab-b0ea-74bab2448105\",\"type\":\"PanTool\"},{\"id\":\"b40247f6-51c5-4ad2-9492-ebf1c519d61b\",\"type\":\"WheelZoomTool\"},{\"id\":\"ca657d22-f185-42cd-99e9-6f5886526edd\",\"type\":\"BoxZoomTool\"},{\"id\":\"7f0c8f39-f53b-4457-8095-d95f2a4c0a3a\",\"type\":\"SaveTool\"},{\"id\":\"6ae8515b-a3c8-4bbe-a084-cdebe2859782\",\"type\":\"ResetTool\"},{\"id\":\"14b0a615-ef2a-4285-9644-3ac55f82c2f4\",\"type\":\"HelpTool\"},{\"id\":\"fda0c752-9c78-4849-b2f2-f7f2dfc7ba04\",\"type\":\"PanTool\"},{\"id\":\"1e7dea6b-1a3b-4111-825c-c6ec086e58ab\",\"type\":\"WheelZoomTool\"},{\"id\":\"f6944158-9cd9-44e9-a4da-480124446e97\",\"type\":\"BoxZoomTool\"},{\"id\":\"070e02af-64f7-4695-ad46-1aa4c99d5fe0\",\"type\":\"SaveTool\"},{\"id\":\"426d9327-79e4-42c1-bb3c-9565195bbb64\",\"type\":\"ResetTool\"},{\"id\":\"21799e6f-4da0-4e59-9913-114cb5e4519d\",\"type\":\"HelpTool\"},{\"id\":\"006c76f6-e0da-4e7e-a267-b4daaa50bb96\",\"type\":\"PanTool\"},{\"id\":\"d5485032-1f97-4c20-be8c-bd0d777e3456\",\"type\":\"WheelZoomTool\"},{\"id\":\"cf566b5a-5ca4-4ece-b25e-8109630bfadd\",\"type\":\"BoxZoomTool\"},{\"id\":\"7e339bab-478a-45af-8fdf-29d18216f9e0\",\"type\":\"SaveTool\"},{\"id\":\"7424ac1b-4e62-4de5-ab91-d3cf428a96e0\",\"type\":\"ResetTool\"},{\"id\":\"95b8ab11-3d33-4bda-89aa-593d16523044\",\"type\":\"HelpTool\"}]},\"id\":\"59398278-1618-4351-931d-ee79561d0268\",\"type\":\"ProxyToolbar\"},{\"attributes\":{\"plot\":{\"id\":\"7b816619-2a4d-4c57-90d1-3a5d3c17a3ed\",\"subtype\":\"Figure\",\"type\":\"Plot\"},\"ticker\":{\"id\":\"a065ca57-cead-4e52-8f92-321e81ce18ff\",\"type\":\"BasicTicker\"}},\"id\":\"7ada79ab-9ebe-47aa-8b75-15bf06e222c6\",\"type\":\"Grid\"},{\"attributes\":{\"data_source\":{\"id\":\"20e6d72a-9f08-4220-abe9-fc379591c038\",\"type\":\"ColumnDataSource\"},\"glyph\":{\"id\":\"95ab2384-ccc6-48de-b397-27216c938d8d\",\"type\":\"Line\"},\"hover_glyph\":null,\"muted_glyph\":null,\"nonselection_glyph\":{\"id\":\"30463b80-9138-4eb2-9cdb-01f497ccc7bb\",\"type\":\"Line\"},\"selection_glyph\":null,\"view\":{\"id\":\"03f09e25-f436-4a42-ae20-bbbd10a68240\",\"type\":\"CDSView\"}},\"id\":\"3ee45a2f-aa2c-433c-a7e6-f4b767894721\",\"type\":\"GlyphRenderer\"},{\"attributes\":{},\"id\":\"86eecfe9-3bc7-481f-b2f5-0b38a37fc521\",\"type\":\"Selection\"},{\"attributes\":{\"items\":[{\"id\":\"b3b4ae25-986d-42a4-97b5-2a4854df375f\",\"type\":\"LegendItem\"},{\"id\":\"3b23727b-d504-42f2-9b07-b4285e1b983a\",\"type\":\"LegendItem\"}],\"label_text_font_size\":{\"value\":\"8pt\"},\"location\":\"top_center\",\"orientation\":\"horizontal\",\"plot\":{\"id\":\"7b816619-2a4d-4c57-90d1-3a5d3c17a3ed\",\"subtype\":\"Figure\",\"type\":\"Plot\"}},\"id\":\"1bc8792f-7fdd-446f-b116-2dedca4de317\",\"type\":\"Legend\"},{\"attributes\":{\"ticker\":null},\"id\":\"c9b4c916-769c-4dff-8b8b-aed705ab3971\",\"type\":\"LogTickFormatter\"},{\"attributes\":{\"line_alpha\":0.1,\"line_color\":\"#1f77b4\",\"line_width\":1.5,\"x\":{\"field\":\"x\"},\"y\":{\"field\":\"y\"}},\"id\":\"30463b80-9138-4eb2-9cdb-01f497ccc7bb\",\"type\":\"Line\"},{\"attributes\":{\"callback\":null,\"data\":{\"x\":{\"__ndarray__\":\"0CYBcvU5UkCik9zf2GVBQF1VoNfLZ0BAVLxhiVXTPUDD1Wu1wJM6QFJyB025jjdAU6Aw5+b/NECYe1uuDfgyQB6bYtVTbTFAPxYSAF1HMEA00pYVm9QuQLolHbMzgC1AntlwirGsLECv+G9SjE4rQJH6ZLBp0ShAsLZQyPd/JkDyjgyf2PwkQLgyNGsrJyRAA13QbJD6I0C8hy0ilI4kQOVTXCEgcSZAovOGvZSGJUBVc/ZmUOIgQOf/6GHAyRlAcE8fAOBSFEDRur1U//gPQGFD9ZbokghAQsqHuSqSA0C91ci3W0UBQCtRQfvz7/4/kh8pntyB+j9t1/n+4TX1P773MAUjFfI/RgzR+CI28T8hBW8WHK7uPzVKjJfU8uk/0FPt4/z65T/wVYqzMPDhPz7K9C5CXuE/8+hSn9hY4T/9PPCkR6rhP1XsIC599OA/66X1nBCX3z/YbRM56QjcPz4dkSQc/dM/S7Wb8Fq00T+/yQdmX0vcP7TrGf476eM/WqNPJoWO7D9qOH1bcwDzP2bw+R5DQ/Y/RLSuQOQp+D8+aif8yAz5P0Wv6eBKRfk/0i2+IN4R+T/ik8QNFZr4PyS5UD5j/Pc/yJ68zXRG9z/2CHPL54H2P59SOhwKtPU/npkP8dfg9D8NlmVcdQz0P80ugRvuOvM/byxiAHN18j9USVZie8nxP5l9lNXYSPE/OB+F0UYP8T8Y7dsUCTHxP3EBgTHPcPE/bfx15p8S8T8FT+xkGtTuP6mdG7rkxuk/pboqTkHX5D/CrN8qGYngP7R4ZaL+htU/\",\"dtype\":\"float64\",\"shape\":[75]},\"y\":{\"__ndarray__\":\"GhExyth1ND/Sv8nbtpRIP2vylNV0PVE/aTum7souWD/At0SJ8fVgPw3Iuahxymc/MSNhhJWvcD/bTfBN02d3P2zb5nxnaoA/CD5h5MAGhz8NmeH1TyaQP+zrCsc9p5Y/LbKd76fGnz/bLW5ISEmmPww9YvTcQq8/JV2OstnstT8Er5Y7M8G+P0c+r3jqkcU/5h99k6ZBzj88bCIzFzjVP4enV8oyxN0//yH99nXg5D8qOpLLf0jtP5kqGJXUifQ/c9cS8kHP/D+/DpwzojQEQIEmwoanVwxA4lgXt9HgE0BSSZ2AJuIbQAMJih9jjiNA5q4l5INuK0AwTKYKRj0zQNv5fmq8/DpAaCJseHrtQkB/+zpwzoxKQM3MzMzMeFJAZmZmZmZqWEAAAAAAAFxeQM3MzMzMJmJAmpmZmZkfZUBmZmZmZhhoQDMzMzMzEWtAAAAAAAAKbkBmZmZmZoFwQM3MzMzM/XFAMzMzMzN6c0CamZmZmfZ0QAAAAAAAc3ZAZmZmZmbvd0DNzMzMzGt5QDMzMzMz6HpAmpmZmZlkfEAAAAAAAOF9QGZmZmZmXX9AZmZmZuZsgECamZmZGSuBQM3MzMxM6YFAAAAAAICngkAzMzMzs2WDQGZmZmbmI4RAmpmZmRnihEDNzMzMTKCFQAAAAACAXoZAMzMzM7Mch0BmZmZm5tqHQJqZmZkZmYhAzczMzExXiUAAAAAAgBWKQDMzMzOz04pAZmZmZuaRi0CamZmZGVCMQM3MzMxMDo1AAAAAAIDMjUAzMzMzs4qOQGZmZmbmSI9A\",\"dtype\":\"float64\",\"shape\":[75]}},\"selected\":{\"id\":\"30d88c9c-54b5-4a9e-a162-a5d635a884c1\",\"type\":\"Selection\"},\"selection_policy\":{\"id\":\"ffa0b3d8-3fd5-48a5-9fc9-c9d2ab9f002d\",\"type\":\"UnionRenderers\"}},\"id\":\"28379307-2fae-4ca3-93d7-a9719eefd8fa\",\"type\":\"ColumnDataSource\"},{\"attributes\":{},\"id\":\"341207de-f5be-4de4-ba7e-f122c4b99d66\",\"type\":\"UnionRenderers\"},{\"attributes\":{},\"id\":\"c887616a-885b-41f5-b5cd-c6e276546209\",\"type\":\"Selection\"},{\"attributes\":{\"toolbar\":{\"id\":\"59398278-1618-4351-931d-ee79561d0268\",\"type\":\"ProxyToolbar\"},\"toolbar_location\":\"above\"},\"id\":\"7c415586-4272-446c-b108-0bac289f88c7\",\"type\":\"ToolbarBox\"},{\"attributes\":{\"dimension\":1,\"plot\":{\"id\":\"7b816619-2a4d-4c57-90d1-3a5d3c17a3ed\",\"subtype\":\"Figure\",\"type\":\"Plot\"},\"ticker\":{\"id\":\"7dc95873-32ea-407e-ab84-82d0b29c401f\",\"type\":\"LogTicker\"}},\"id\":\"8588fd1f-5a98-4f86-8f49-cebadbcfb17f\",\"type\":\"Grid\"},{\"attributes\":{\"children\":[{\"id\":\"a5e09bf0-9c4e-4995-b2c2-210d1c504920\",\"subtype\":\"Figure\",\"type\":\"Plot\"},{\"id\":\"7b816619-2a4d-4c57-90d1-3a5d3c17a3ed\",\"subtype\":\"Figure\",\"type\":\"Plot\"},{\"id\":\"e924ebed-dda5-4e92-8232-1d54830fde9e\",\"subtype\":\"Figure\",\"type\":\"Plot\"}]},\"id\":\"da8459b5-68a8-48a4-a155-01f2dbb6c882\",\"type\":\"Row\"},{\"attributes\":{},\"id\":\"2206b0e3-2c9f-4ee1-b86f-b3b057b7e00c\",\"type\":\"Selection\"},{\"attributes\":{\"axis_label\":\"cooling rate [K/day]\",\"formatter\":{\"id\":\"d932b7ab-6bf1-44d6-9b8d-8a75e0ff7d5e\",\"type\":\"BasicTickFormatter\"},\"plot\":{\"id\":\"7b816619-2a4d-4c57-90d1-3a5d3c17a3ed\",\"subtype\":\"Figure\",\"type\":\"Plot\"},\"ticker\":{\"id\":\"a065ca57-cead-4e52-8f92-321e81ce18ff\",\"type\":\"BasicTicker\"}},\"id\":\"78abb54a-9dff-4bd8-9b8d-3883210ddb11\",\"type\":\"LinearAxis\"},{\"attributes\":{},\"id\":\"d932b7ab-6bf1-44d6-9b8d-8a75e0ff7d5e\",\"type\":\"BasicTickFormatter\"},{\"attributes\":{\"overlay\":{\"id\":\"ce4adc8e-739d-40b4-908f-a18382762e9e\",\"type\":\"BoxAnnotation\"}},\"id\":\"f6944158-9cd9-44e9-a4da-480124446e97\",\"type\":\"BoxZoomTool\"},{\"attributes\":{\"label\":{\"value\":\"CLIRAD\"},\"renderers\":[{\"id\":\"3aea6a55-0411-40de-8dbb-a2ca1f0bcd4d\",\"type\":\"GlyphRenderer\"}]},\"id\":\"207b02b8-1315-4ed0-bed6-487b9e113da0\",\"type\":\"LegendItem\"},{\"attributes\":{\"callback\":null,\"end\":16.43616965691257,\"start\":0.38067245441832914},\"id\":\"bd45c73a-eb16-4cad-a0ac-670e2f1d5ca3\",\"type\":\"Range1d\"},{\"attributes\":{\"callback\":null,\"data\":{\"x\":{\"__ndarray__\":\"4L4jQHkeSED6bEliUZ1BQEG5/fnNOEFAKaX75oDvP0BWtxGLZf47QEsBa/cjdTdAvpCanOxvM0BYkA5Wr84wQIaHIyjeAS9AWp5++qLLLUCOWP4+iNUsQIddP4fJsitAhHeHs/zHKkAAB4lz66QpQIBdaVIOBihADcFUlg/LJkDo1fBny+8lQPL0MCipBiVA/84lcpgkJEApc9ZyQNQjQFMPZMd7HyVApFTwGHN5JECiczDrJ6YgQIMFIMndFRpAWmxD+VRMFECehYkcClIPQB2zlZqXGwlAIicg3vv1BEAGRP5PTWYCQIa2J73/EABAtVgNVxp3+z96irxnuyH1P+z/ko9ZivE/8q9rrax48T8tVZkJt73vPzFr4ZTTdek/Y+P3Lsmk5D+JZQIP8jfhP53wbNVCPeE/V9r0twyd4T9DlFgp+vHhP/iVNYK86+A/h8f9pSCQ3j8zN7uAz3/aPzUby1lUT9I/z5vtWyznzz/hqXiSS5baP3NjmyzXAuM/QKsa7/xC6z/T98vpfA/yPxGBa71eYPU/YSnZQumF9z8JuAhnaWv4P5zURQ1fa/g/QpS5890++D8Ha55Ocvb3P+zBlxcWi/c/l+WA4Bf69j8VkMl1GUb2PyPAsbNdn/U/5W9Xcy3b9D9bev/iwwf0P01MJIz3L/M/36lmcLll8j/8BvWPL73xPwQRsLU6SvE/tjXQYsMs8T90lDwEeXHxP0x+0CL3tvE/XMHCi7Z58T/lnyM2e7fvP+J+EQLjkeo/gh+1xxvB5T/c50HRZjvhP9t0xwybG9c/\",\"dtype\":\"float64\",\"shape\":[75]},\"y\":{\"__ndarray__\":\"GhExyth1ND/Sv8nbtpRIP2vylNV0PVE/aTum7souWD/At0SJ8fVgPw3Iuahxymc/MSNhhJWvcD/bTfBN02d3P2zb5nxnaoA/CD5h5MAGhz8NmeH1TyaQP+zrCsc9p5Y/LbKd76fGnz/bLW5ISEmmPww9YvTcQq8/JV2OstnstT8Er5Y7M8G+P0c+r3jqkcU/5h99k6ZBzj88bCIzFzjVP4enV8oyxN0//yH99nXg5D8qOpLLf0jtP5kqGJXUifQ/c9cS8kHP/D+/DpwzojQEQIEmwoanVwxA4lgXt9HgE0BSSZ2AJuIbQAMJih9jjiNA5q4l5INuK0AwTKYKRj0zQNv5fmq8/DpAaCJseHrtQkB/+zpwzoxKQM3MzMzMeFJAZmZmZmZqWEAAAAAAAFxeQM3MzMzMJmJAmpmZmZkfZUBmZmZmZhhoQDMzMzMzEWtAAAAAAAAKbkBmZmZmZoFwQM3MzMzM/XFAMzMzMzN6c0CamZmZmfZ0QAAAAAAAc3ZAZmZmZmbvd0DNzMzMzGt5QDMzMzMz6HpAmpmZmZlkfEAAAAAAAOF9QGZmZmZmXX9AZmZmZuZsgECamZmZGSuBQM3MzMxM6YFAAAAAAICngkAzMzMzs2WDQGZmZmbmI4RAmpmZmRnihEDNzMzMTKCFQAAAAACAXoZAMzMzM7Mch0BmZmZm5tqHQJqZmZkZmYhAzczMzExXiUAAAAAAgBWKQDMzMzOz04pAZmZmZuaRi0CamZmZGVCMQM3MzMxMDo1AAAAAAIDMjUAzMzMzs4qOQGZmZmbmSI9A\",\"dtype\":\"float64\",\"shape\":[75]}},\"selected\":{\"id\":\"86eecfe9-3bc7-481f-b2f5-0b38a37fc521\",\"type\":\"Selection\"},\"selection_policy\":{\"id\":\"4a242162-32ed-4004-8b02-d34cf158cbd5\",\"type\":\"UnionRenderers\"}},\"id\":\"9293a698-9f2d-45b5-8984-c96813a00dd3\",\"type\":\"ColumnDataSource\"},{\"attributes\":{\"ticker\":null},\"id\":\"9fd5e811-a2a7-4757-800f-4806f9c78dde\",\"type\":\"LogTickFormatter\"},{\"attributes\":{\"line_alpha\":0.1,\"line_color\":\"#1f77b4\",\"line_dash\":[6],\"line_width\":5,\"x\":{\"field\":\"x\"},\"y\":{\"field\":\"y\"}},\"id\":\"b6ee445c-b999-4320-b7a8-9102d17ec81c\",\"type\":\"Line\"},{\"attributes\":{\"source\":{\"id\":\"28379307-2fae-4ca3-93d7-a9719eefd8fa\",\"type\":\"ColumnDataSource\"}},\"id\":\"f6423738-dc82-4269-8197-b9d831fb8b66\",\"type\":\"CDSView\"},{\"attributes\":{},\"id\":\"10db30cc-fac5-4a96-9a12-ff87659e290a\",\"type\":\"Selection\"},{\"attributes\":{\"fill_alpha\":{\"value\":0.1},\"fill_color\":{\"value\":\"#1f77b4\"},\"line_alpha\":{\"value\":0.1},\"line_color\":{\"value\":\"#1f77b4\"},\"x\":{\"field\":\"x\"},\"y\":{\"field\":\"y\"}},\"id\":\"e4ba064e-95fb-46f8-80c8-03cab0fbeddc\",\"type\":\"Circle\"},{\"attributes\":{\"data_source\":{\"id\":\"28379307-2fae-4ca3-93d7-a9719eefd8fa\",\"type\":\"ColumnDataSource\"},\"glyph\":{\"id\":\"af52cdb9-cdbb-46c7-b846-f7507d03bcd7\",\"type\":\"Circle\"},\"hover_glyph\":null,\"muted_glyph\":null,\"nonselection_glyph\":{\"id\":\"e4ba064e-95fb-46f8-80c8-03cab0fbeddc\",\"type\":\"Circle\"},\"selection_glyph\":null,\"view\":{\"id\":\"f6423738-dc82-4269-8197-b9d831fb8b66\",\"type\":\"CDSView\"}},\"id\":\"9d8c35ab-b1fd-483e-b2b8-f780789cac00\",\"type\":\"GlyphRenderer\"},{\"attributes\":{\"label\":{\"value\":\"CRD\"},\"renderers\":[{\"id\":\"cadec6ce-ece0-4442-82c4-9ec4b873d7ce\",\"type\":\"GlyphRenderer\"},{\"id\":\"a5bea6ef-06e7-49c5-a8eb-555cb5573554\",\"type\":\"GlyphRenderer\"}]},\"id\":\"686a55ba-505c-48a4-999b-cc870bd4f5cf\",\"type\":\"LegendItem\"},{\"attributes\":{\"above\":[{\"id\":\"e521da69-f5fd-4305-b88b-0dc6b750cc8f\",\"type\":\"Legend\"}],\"below\":[{\"id\":\"ef378c3c-57f7-48d0-8095-83f7bf71c025\",\"type\":\"LinearAxis\"}],\"left\":[{\"id\":\"b61ce2d2-c4c7-4f23-a55f-0531e2fc7ce4\",\"type\":\"LinearAxis\"}],\"plot_width\":300,\"renderers\":[{\"id\":\"ef378c3c-57f7-48d0-8095-83f7bf71c025\",\"type\":\"LinearAxis\"},{\"id\":\"f76b37f9-a60f-4f93-ab55-6ff886e1fe94\",\"type\":\"Grid\"},{\"id\":\"b61ce2d2-c4c7-4f23-a55f-0531e2fc7ce4\",\"type\":\"LinearAxis\"},{\"id\":\"6aeb5218-f121-418b-9f76-df9471bd1d68\",\"type\":\"Grid\"},{\"id\":\"90b28d40-0537-47e0-aec5-a52fe1738866\",\"type\":\"BoxAnnotation\"},{\"id\":\"3aea6a55-0411-40de-8dbb-a2ca1f0bcd4d\",\"type\":\"GlyphRenderer\"},{\"id\":\"cadec6ce-ece0-4442-82c4-9ec4b873d7ce\",\"type\":\"GlyphRenderer\"},{\"id\":\"a5bea6ef-06e7-49c5-a8eb-555cb5573554\",\"type\":\"GlyphRenderer\"},{\"id\":\"e521da69-f5fd-4305-b88b-0dc6b750cc8f\",\"type\":\"Legend\"}],\"title\":{\"id\":\"f869472c-ddd5-4b64-8280-ffad27e6cbad\",\"type\":\"Title\"},\"toolbar\":{\"id\":\"c64d26d6-675d-425a-87a2-cb800551a04c\",\"type\":\"Toolbar\"},\"toolbar_location\":null,\"x_range\":{\"id\":\"52fa87fe-dc76-4565-9f8a-4ee9b5c6bbef\",\"type\":\"Range1d\"},\"x_scale\":{\"id\":\"f938b5d2-2f1d-42d1-9b61-6ce02439a2a8\",\"type\":\"LinearScale\"},\"y_range\":{\"id\":\"69276d72-584e-4b01-bab3-3db2a639425e\",\"type\":\"Range1d\"},\"y_scale\":{\"id\":\"828d7e0e-1ca9-417e-b5b9-219f700f34e8\",\"type\":\"LinearScale\"}},\"id\":\"a5e09bf0-9c4e-4995-b2c2-210d1c504920\",\"subtype\":\"Figure\",\"type\":\"Plot\"},{\"attributes\":{\"line_color\":\"#4daf4a\",\"line_width\":1.5,\"x\":{\"field\":\"x\"},\"y\":{\"field\":\"y\"}},\"id\":\"95ab2384-ccc6-48de-b397-27216c938d8d\",\"type\":\"Line\"},{\"attributes\":{},\"id\":\"68cb7c33-bf43-4756-b89f-f81d5015b8e9\",\"type\":\"BasicTickFormatter\"},{\"attributes\":{},\"id\":\"4c34d15a-41e2-41a8-bd63-8316c53f535c\",\"type\":\"LogScale\"},{\"attributes\":{},\"id\":\"0f234258-a116-4d16-84d8-b010ad6df515\",\"type\":\"Selection\"},{\"attributes\":{\"plot\":null,\"text\":\"\"},\"id\":\"8ab9cf3e-77ed-4b9d-ad61-59cfc7678099\",\"type\":\"Title\"},{\"attributes\":{},\"id\":\"5ea609c3-d5a3-47fd-9c07-26c5df7d9c00\",\"type\":\"LinearScale\"},{\"attributes\":{\"callback\":null,\"data\":{\"x\":{\"__ndarray__\":\"0CYBcvU5UkCik9zf2GVBQF1VoNfLZ0BAVLxhiVXTPUDD1Wu1wJM6QFJyB025jjdAU6Aw5+b/NECYe1uuDfgyQB6bYtVTbTFAPxYSAF1HMEA00pYVm9QuQLolHbMzgC1AntlwirGsLECv+G9SjE4rQJH6ZLBp0ShAsLZQyPd/JkDyjgyf2PwkQLgyNGsrJyRAA13QbJD6I0C8hy0ilI4kQOVTXCEgcSZAovOGvZSGJUBVc/ZmUOIgQOf/6GHAyRlAcE8fAOBSFEDRur1U//gPQGFD9ZbokghAQsqHuSqSA0C91ci3W0UBQCtRQfvz7/4/kh8pntyB+j9t1/n+4TX1P773MAUjFfI/RgzR+CI28T8hBW8WHK7uPzVKjJfU8uk/0FPt4/z65T/wVYqzMPDhPz7K9C5CXuE/8+hSn9hY4T/9PPCkR6rhP1XsIC599OA/66X1nBCX3z/YbRM56QjcPz4dkSQc/dM/S7Wb8Fq00T+/yQdmX0vcP7TrGf476eM/WqNPJoWO7D9qOH1bcwDzP2bw+R5DQ/Y/RLSuQOQp+D8+aif8yAz5P0Wv6eBKRfk/0i2+IN4R+T/ik8QNFZr4PyS5UD5j/Pc/yJ68zXRG9z/2CHPL54H2P59SOhwKtPU/npkP8dfg9D8NlmVcdQz0P80ugRvuOvM/byxiAHN18j9USVZie8nxP5l9lNXYSPE/OB+F0UYP8T8Y7dsUCTHxP3EBgTHPcPE/bfx15p8S8T8FT+xkGtTuP6mdG7rkxuk/pboqTkHX5D/CrN8qGYngP7R4ZaL+htU/\",\"dtype\":\"float64\",\"shape\":[75]},\"y\":{\"__ndarray__\":\"GhExyth1ND/Sv8nbtpRIP2vylNV0PVE/aTum7souWD/At0SJ8fVgPw3Iuahxymc/MSNhhJWvcD/bTfBN02d3P2zb5nxnaoA/CD5h5MAGhz8NmeH1TyaQP+zrCsc9p5Y/LbKd76fGnz/bLW5ISEmmPww9YvTcQq8/JV2OstnstT8Er5Y7M8G+P0c+r3jqkcU/5h99k6ZBzj88bCIzFzjVP4enV8oyxN0//yH99nXg5D8qOpLLf0jtP5kqGJXUifQ/c9cS8kHP/D+/DpwzojQEQIEmwoanVwxA4lgXt9HgE0BSSZ2AJuIbQAMJih9jjiNA5q4l5INuK0AwTKYKRj0zQNv5fmq8/DpAaCJseHrtQkB/+zpwzoxKQM3MzMzMeFJAZmZmZmZqWEAAAAAAAFxeQM3MzMzMJmJAmpmZmZkfZUBmZmZmZhhoQDMzMzMzEWtAAAAAAAAKbkBmZmZmZoFwQM3MzMzM/XFAMzMzMzN6c0CamZmZmfZ0QAAAAAAAc3ZAZmZmZmbvd0DNzMzMzGt5QDMzMzMz6HpAmpmZmZlkfEAAAAAAAOF9QGZmZmZmXX9AZmZmZuZsgECamZmZGSuBQM3MzMxM6YFAAAAAAICngkAzMzMzs2WDQGZmZmbmI4RAmpmZmRnihEDNzMzMTKCFQAAAAACAXoZAMzMzM7Mch0BmZmZm5tqHQJqZmZkZmYhAzczMzExXiUAAAAAAgBWKQDMzMzOz04pAZmZmZuaRi0CamZmZGVCMQM3MzMxMDo1AAAAAAIDMjUAzMzMzs4qOQGZmZmbmSI9A\",\"dtype\":\"float64\",\"shape\":[75]}},\"selected\":{\"id\":\"10db30cc-fac5-4a96-9a12-ff87659e290a\",\"type\":\"Selection\"},\"selection_policy\":{\"id\":\"48bf3b42-1104-46bc-bdac-0029180ade04\",\"type\":\"UnionRenderers\"}},\"id\":\"20e6d72a-9f08-4220-abe9-fc379591c038\",\"type\":\"ColumnDataSource\"},{\"attributes\":{},\"id\":\"48bf3b42-1104-46bc-bdac-0029180ade04\",\"type\":\"UnionRenderers\"},{\"attributes\":{\"data_source\":{\"id\":\"9293a698-9f2d-45b5-8984-c96813a00dd3\",\"type\":\"ColumnDataSource\"},\"glyph\":{\"id\":\"0ab9c0cb-ea6c-4a1d-b116-a16aa3ae6d32\",\"type\":\"Line\"},\"hover_glyph\":null,\"muted_glyph\":null,\"nonselection_glyph\":{\"id\":\"448c8782-04eb-4554-8813-a905cc365cf6\",\"type\":\"Line\"},\"selection_glyph\":null,\"view\":{\"id\":\"41dc9a67-4676-42f0-b39f-d62adfd2517c\",\"type\":\"CDSView\"}},\"id\":\"3aea6a55-0411-40de-8dbb-a2ca1f0bcd4d\",\"type\":\"GlyphRenderer\"},{\"attributes\":{\"active_drag\":\"auto\",\"active_inspect\":\"auto\",\"active_scroll\":\"auto\",\"active_tap\":\"auto\",\"tools\":[{\"id\":\"006c76f6-e0da-4e7e-a267-b4daaa50bb96\",\"type\":\"PanTool\"},{\"id\":\"d5485032-1f97-4c20-be8c-bd0d777e3456\",\"type\":\"WheelZoomTool\"},{\"id\":\"cf566b5a-5ca4-4ece-b25e-8109630bfadd\",\"type\":\"BoxZoomTool\"},{\"id\":\"7e339bab-478a-45af-8fdf-29d18216f9e0\",\"type\":\"SaveTool\"},{\"id\":\"7424ac1b-4e62-4de5-ab91-d3cf428a96e0\",\"type\":\"ResetTool\"},{\"id\":\"95b8ab11-3d33-4bda-89aa-593d16523044\",\"type\":\"HelpTool\"}]},\"id\":\"e5f0bff7-5000-4ca8-af56-04f97910df70\",\"type\":\"Toolbar\"},{\"attributes\":{\"callback\":null,\"data\":{\"x\":{\"__ndarray__\":\"gx29R+OqOMDWq2w2QbzbP5N8rEtEIPo/qEbP7FrhAEAsGV5aTar2P9AHcZxVlbm/LPlgqaT/+L/2WWfC8koBwI11DRVMxv6/L3EsLbgY9r9LmodpLfHvvx2D3L2i1uy/uSGWbk1L7r/2Gm/uDZrqvz2ic79ra9m/7pYCgfPFwj+h3ogcWV7eP0hHmJ+379s/ev64qgIEtT9UkuLqdUrXvxtJhJ9FGuW/0O9pSRrS4L9o2f/iPRS+v0pmwc1ZB7M/LFmMbxsser9epoYGp960v4j3DXTgFbE/8c2FSRI9xj+V5FaDGQ/CPyO+4fC3ILM/TCSHHLenrj+/9Uw9lyZ0vyj6vrMuWaG/6eqoJm2ikD/OAKUyr/mgP4nBt6pAQI+/vQZXTztjpb/YDP6Q1AeXv6PR7MOsf3C/zFh8KAYNgT/D0RUaoeyBP5i3rNZXgVG/guZ9b/9ukL9naoOFm5GYv48gYKx83Jq/FHZOKkwMnL/j/fE4PVGbv2UI0S+azJy/m4FPc4O4pL/AEig2zh6uv5rqzTGMXKy/gVyxul9/pL9iRtaj8iukvx9Ve3R6Pau/8TGToAVgqr9gG8XkV3Skv1DOPa5JU5y/RkzuTjsXk7+lcLzUKueNv8R7kohorHS/IN2m4PapVr+8zm6Y5cVSv0ICxbke7WW/tB0F9x9zb78Ir4TCpJdovwC/NrkBHjY/pH4WS5F8fT9+1ynY+xuQP3I231P8iZE/oTsxU6nFmT8UHOomGmycPwgnvP7IX5k/ZptMMU87nT82Y0fMtEmWP3LCH6bGSZk/\",\"dtype\":\"float64\",\"shape\":[75]},\"y\":{\"__ndarray__\":\"GhExyth1ND/Sv8nbtpRIP2vylNV0PVE/aTum7souWD/At0SJ8fVgPw3Iuahxymc/MSNhhJWvcD/bTfBN02d3P2zb5nxnaoA/CD5h5MAGhz8NmeH1TyaQP+zrCsc9p5Y/LbKd76fGnz/bLW5ISEmmPww9YvTcQq8/JV2OstnstT8Er5Y7M8G+P0c+r3jqkcU/5h99k6ZBzj88bCIzFzjVP4enV8oyxN0//yH99nXg5D8qOpLLf0jtP5kqGJXUifQ/c9cS8kHP/D+/DpwzojQEQIEmwoanVwxA4lgXt9HgE0BSSZ2AJuIbQAMJih9jjiNA5q4l5INuK0AwTKYKRj0zQNv5fmq8/DpAaCJseHrtQkB/+zpwzoxKQM3MzMzMeFJAZmZmZmZqWEAAAAAAAFxeQM3MzMzMJmJAmpmZmZkfZUBmZmZmZhhoQDMzMzMzEWtAAAAAAAAKbkBmZmZmZoFwQM3MzMzM/XFAMzMzMzN6c0CamZmZmfZ0QAAAAAAAc3ZAZmZmZmbvd0DNzMzMzGt5QDMzMzMz6HpAmpmZmZlkfEAAAAAAAOF9QGZmZmZmXX9AZmZmZuZsgECamZmZGSuBQM3MzMxM6YFAAAAAAICngkAzMzMzs2WDQGZmZmbmI4RAmpmZmRnihEDNzMzMTKCFQAAAAACAXoZAMzMzM7Mch0BmZmZm5tqHQJqZmZkZmYhAzczMzExXiUAAAAAAgBWKQDMzMzOz04pAZmZmZuaRi0CamZmZGVCMQM3MzMxMDo1AAAAAAIDMjUAzMzMzs4qOQGZmZmbmSI9A\",\"dtype\":\"float64\",\"shape\":[75]}},\"selected\":{\"id\":\"af77fa0c-1e54-48a0-918a-efdcb9c0771f\",\"type\":\"Selection\"},\"selection_policy\":{\"id\":\"10f0dbf5-6c67-427e-874c-41f0201b5d93\",\"type\":\"UnionRenderers\"}},\"id\":\"0c2c2ab2-9eee-4225-99cc-c2c965f8a877\",\"type\":\"ColumnDataSource\"},{\"attributes\":{},\"id\":\"bca8de73-742b-4f75-8af6-281398905cdc\",\"type\":\"BasicTicker\"},{\"attributes\":{\"source\":{\"id\":\"9293a698-9f2d-45b5-8984-c96813a00dd3\",\"type\":\"ColumnDataSource\"}},\"id\":\"41dc9a67-4676-42f0-b39f-d62adfd2517c\",\"type\":\"CDSView\"},{\"attributes\":{\"fill_alpha\":{\"value\":0.1},\"fill_color\":{\"value\":\"#1f77b4\"},\"line_alpha\":{\"value\":0.1},\"line_color\":{\"value\":\"#1f77b4\"},\"x\":{\"field\":\"x\"},\"y\":{\"field\":\"y\"}},\"id\":\"fde7403b-c12a-47f5-b41d-08125fbb7cf9\",\"type\":\"Circle\"},{\"attributes\":{\"plot\":{\"id\":\"a5e09bf0-9c4e-4995-b2c2-210d1c504920\",\"subtype\":\"Figure\",\"type\":\"Plot\"},\"ticker\":{\"id\":\"bca8de73-742b-4f75-8af6-281398905cdc\",\"type\":\"BasicTicker\"}},\"id\":\"f76b37f9-a60f-4f93-ab55-6ff886e1fe94\",\"type\":\"Grid\"},{\"attributes\":{\"data_source\":{\"id\":\"0c2c2ab2-9eee-4225-99cc-c2c965f8a877\",\"type\":\"ColumnDataSource\"},\"glyph\":{\"id\":\"3ec802de-cae1-41d8-ada2-ce0f2d3e137b\",\"type\":\"Line\"},\"hover_glyph\":null,\"muted_glyph\":null,\"nonselection_glyph\":{\"id\":\"8ffa2209-ee25-4b7d-b7b2-efd85af1fe3d\",\"type\":\"Line\"},\"selection_glyph\":null,\"view\":{\"id\":\"3d2b7053-5b58-475d-94cc-267657a7ecb9\",\"type\":\"CDSView\"}},\"id\":\"bc7cb95e-9934-4715-ab6b-b9aa5ca0f5cb\",\"type\":\"GlyphRenderer\"},{\"attributes\":{\"source\":{\"id\":\"9a8d5b22-348d-4432-846e-55ac2d7bb9f3\",\"type\":\"ColumnDataSource\"}},\"id\":\"3ce4cc11-aff7-4800-8865-c1bdf5207db1\",\"type\":\"CDSView\"},{\"attributes\":{\"bottom_units\":\"screen\",\"fill_alpha\":{\"value\":0.5},\"fill_color\":{\"value\":\"lightgrey\"},\"left_units\":\"screen\",\"level\":\"overlay\",\"line_alpha\":{\"value\":1.0},\"line_color\":{\"value\":\"black\"},\"line_dash\":[4,4],\"line_width\":{\"value\":2},\"plot\":null,\"render_mode\":\"css\",\"right_units\":\"screen\",\"top_units\":\"screen\"},\"id\":\"ce4adc8e-739d-40b4-908f-a18382762e9e\",\"type\":\"BoxAnnotation\"},{\"attributes\":{},\"id\":\"b40247f6-51c5-4ad2-9492-ebf1c519d61b\",\"type\":\"WheelZoomTool\"},{\"attributes\":{\"source\":{\"id\":\"0c2c2ab2-9eee-4225-99cc-c2c965f8a877\",\"type\":\"ColumnDataSource\"}},\"id\":\"3d2b7053-5b58-475d-94cc-267657a7ecb9\",\"type\":\"CDSView\"},{\"attributes\":{},\"id\":\"7536d0ae-f444-4eab-b0ea-74bab2448105\",\"type\":\"PanTool\"},{\"attributes\":{\"data_source\":{\"id\":\"9a8d5b22-348d-4432-846e-55ac2d7bb9f3\",\"type\":\"ColumnDataSource\"},\"glyph\":{\"id\":\"f6365d8b-6bf7-41a1-bcfc-9b220069cecc\",\"type\":\"Line\"},\"hover_glyph\":null,\"muted_glyph\":null,\"nonselection_glyph\":{\"id\":\"4941bd71-0bad-4c18-ae3c-0d98feea1839\",\"type\":\"Line\"},\"selection_glyph\":null,\"view\":{\"id\":\"3ce4cc11-aff7-4800-8865-c1bdf5207db1\",\"type\":\"CDSView\"}},\"id\":\"a5bea6ef-06e7-49c5-a8eb-555cb5573554\",\"type\":\"GlyphRenderer\"},{\"attributes\":{\"line_alpha\":0.1,\"line_color\":\"#1f77b4\",\"line_width\":1.5,\"x\":{\"field\":\"x\"},\"y\":{\"field\":\"y\"}},\"id\":\"8ffa2209-ee25-4b7d-b7b2-efd85af1fe3d\",\"type\":\"Line\"},{\"attributes\":{},\"id\":\"f938b5d2-2f1d-42d1-9b61-6ce02439a2a8\",\"type\":\"LinearScale\"},{\"attributes\":{\"callback\":null,\"data\":{\"x\":{\"__ndarray__\":\"0CYBcvU5UkCik9zf2GVBQF1VoNfLZ0BAVLxhiVXTPUDD1Wu1wJM6QFJyB025jjdAU6Aw5+b/NECYe1uuDfgyQB6bYtVTbTFAPxYSAF1HMEA00pYVm9QuQLolHbMzgC1AntlwirGsLECv+G9SjE4rQJH6ZLBp0ShAsLZQyPd/JkDyjgyf2PwkQLgyNGsrJyRAA13QbJD6I0C8hy0ilI4kQOVTXCEgcSZAovOGvZSGJUBVc/ZmUOIgQOf/6GHAyRlAcE8fAOBSFEDRur1U//gPQGFD9ZbokghAQsqHuSqSA0C91ci3W0UBQCtRQfvz7/4/kh8pntyB+j9t1/n+4TX1P773MAUjFfI/RgzR+CI28T8hBW8WHK7uPzVKjJfU8uk/0FPt4/z65T/wVYqzMPDhPz7K9C5CXuE/8+hSn9hY4T/9PPCkR6rhP1XsIC599OA/66X1nBCX3z/YbRM56QjcPz4dkSQc/dM/S7Wb8Fq00T+/yQdmX0vcP7TrGf476eM/WqNPJoWO7D9qOH1bcwDzP2bw+R5DQ/Y/RLSuQOQp+D8+aif8yAz5P0Wv6eBKRfk/0i2+IN4R+T/ik8QNFZr4PyS5UD5j/Pc/yJ68zXRG9z/2CHPL54H2P59SOhwKtPU/npkP8dfg9D8NlmVcdQz0P80ugRvuOvM/byxiAHN18j9USVZie8nxP5l9lNXYSPE/OB+F0UYP8T8Y7dsUCTHxP3EBgTHPcPE/bfx15p8S8T8FT+xkGtTuP6mdG7rkxuk/pboqTkHX5D/CrN8qGYngP7R4ZaL+htU/\",\"dtype\":\"float64\",\"shape\":[75]},\"y\":{\"__ndarray__\":\"GhExyth1ND/Sv8nbtpRIP2vylNV0PVE/aTum7souWD/At0SJ8fVgPw3Iuahxymc/MSNhhJWvcD/bTfBN02d3P2zb5nxnaoA/CD5h5MAGhz8NmeH1TyaQP+zrCsc9p5Y/LbKd76fGnz/bLW5ISEmmPww9YvTcQq8/JV2OstnstT8Er5Y7M8G+P0c+r3jqkcU/5h99k6ZBzj88bCIzFzjVP4enV8oyxN0//yH99nXg5D8qOpLLf0jtP5kqGJXUifQ/c9cS8kHP/D+/DpwzojQEQIEmwoanVwxA4lgXt9HgE0BSSZ2AJuIbQAMJih9jjiNA5q4l5INuK0AwTKYKRj0zQNv5fmq8/DpAaCJseHrtQkB/+zpwzoxKQM3MzMzMeFJAZmZmZmZqWEAAAAAAAFxeQM3MzMzMJmJAmpmZmZkfZUBmZmZmZhhoQDMzMzMzEWtAAAAAAAAKbkBmZmZmZoFwQM3MzMzM/XFAMzMzMzN6c0CamZmZmfZ0QAAAAAAAc3ZAZmZmZmbvd0DNzMzMzGt5QDMzMzMz6HpAmpmZmZlkfEAAAAAAAOF9QGZmZmZmXX9AZmZmZuZsgECamZmZGSuBQM3MzMxM6YFAAAAAAICngkAzMzMzs2WDQGZmZmbmI4RAmpmZmRnihEDNzMzMTKCFQAAAAACAXoZAMzMzM7Mch0BmZmZm5tqHQJqZmZkZmYhAzczMzExXiUAAAAAAgBWKQDMzMzOz04pAZmZmZuaRi0CamZmZGVCMQM3MzMxMDo1AAAAAAIDMjUAzMzMzs4qOQGZmZmbmSI9A\",\"dtype\":\"float64\",\"shape\":[75]}},\"selected\":{\"id\":\"2206b0e3-2c9f-4ee1-b86f-b3b057b7e00c\",\"type\":\"Selection\"},\"selection_policy\":{\"id\":\"6c93de82-1c7a-4fd7-b115-156791bd5c68\",\"type\":\"UnionRenderers\"}},\"id\":\"165cdfee-96f0-4c4a-9052-247139bb5784\",\"type\":\"ColumnDataSource\"},{\"attributes\":{},\"id\":\"7f0c8f39-f53b-4457-8095-d95f2a4c0a3a\",\"type\":\"SaveTool\"},{\"attributes\":{\"bottom_units\":\"screen\",\"fill_alpha\":{\"value\":0.5},\"fill_color\":{\"value\":\"lightgrey\"},\"left_units\":\"screen\",\"level\":\"overlay\",\"line_alpha\":{\"value\":1.0},\"line_color\":{\"value\":\"black\"},\"line_dash\":[4,4],\"line_width\":{\"value\":2},\"plot\":null,\"render_mode\":\"css\",\"right_units\":\"screen\",\"top_units\":\"screen\"},\"id\":\"90b28d40-0537-47e0-aec5-a52fe1738866\",\"type\":\"BoxAnnotation\"},{\"attributes\":{\"data_source\":{\"id\":\"9513343c-6281-4e31-91ae-504a6b69aea2\",\"type\":\"ColumnDataSource\"},\"glyph\":{\"id\":\"1a1fa4e0-e851-4fd4-8f24-d2723d90343c\",\"type\":\"Circle\"},\"hover_glyph\":null,\"muted_glyph\":null,\"nonselection_glyph\":{\"id\":\"213cf4fa-bd44-47c9-bff4-0095251aa03b\",\"type\":\"Circle\"},\"selection_glyph\":null,\"view\":{\"id\":\"58cabf63-ee1b-4dac-8117-b2e026a95c86\",\"type\":\"CDSView\"}},\"id\":\"863d96a4-38e2-4a64-bfaa-a10e20acfb8e\",\"type\":\"GlyphRenderer\"},{\"attributes\":{\"callback\":null,\"end\":0.493063986214751,\"start\":-1.3995904550577503},\"id\":\"11c91a18-7651-4da1-b5db-f52cf382b3ff\",\"type\":\"Range1d\"},{\"attributes\":{\"overlay\":{\"id\":\"90b28d40-0537-47e0-aec5-a52fe1738866\",\"type\":\"BoxAnnotation\"}},\"id\":\"ca657d22-f185-42cd-99e9-6f5886526edd\",\"type\":\"BoxZoomTool\"},{\"attributes\":{},\"id\":\"21db3e5b-abbb-4553-b27b-5e834dd65c25\",\"type\":\"BasicTicker\"},{\"attributes\":{},\"id\":\"828d7e0e-1ca9-417e-b5b9-219f700f34e8\",\"type\":\"LinearScale\"},{\"attributes\":{\"axis_label\":\"pressure [mb]\",\"formatter\":{\"id\":\"1dfefa86-cdc7-4968-8f46-41a8c66f34fb\",\"type\":\"BasicTickFormatter\"},\"plot\":{\"id\":\"a5e09bf0-9c4e-4995-b2c2-210d1c504920\",\"subtype\":\"Figure\",\"type\":\"Plot\"},\"ticker\":{\"id\":\"21db3e5b-abbb-4553-b27b-5e834dd65c25\",\"type\":\"BasicTicker\"}},\"id\":\"b61ce2d2-c4c7-4f23-a55f-0531e2fc7ce4\",\"type\":\"LinearAxis\"},{\"attributes\":{\"items\":[{\"id\":\"207b02b8-1315-4ed0-bed6-487b9e113da0\",\"type\":\"LegendItem\"},{\"id\":\"686a55ba-505c-48a4-999b-cc870bd4f5cf\",\"type\":\"LegendItem\"}],\"label_text_font_size\":{\"value\":\"8pt\"},\"location\":\"top_center\",\"orientation\":\"horizontal\",\"plot\":{\"id\":\"a5e09bf0-9c4e-4995-b2c2-210d1c504920\",\"subtype\":\"Figure\",\"type\":\"Plot\"}},\"id\":\"e521da69-f5fd-4305-b88b-0dc6b750cc8f\",\"type\":\"Legend\"},{\"attributes\":{\"above\":[{\"id\":\"9dbb4b67-ae59-4832-a2ac-a59d5fba6bfc\",\"type\":\"Legend\"}],\"below\":[{\"id\":\"7df7e3a8-4846-4307-99f6-e53850a6e3d8\",\"type\":\"LinearAxis\"}],\"left\":[{\"id\":\"1169f92c-7f14-4b87-8dd9-89f8c5da447e\",\"type\":\"LogAxis\"}],\"plot_width\":300,\"renderers\":[{\"id\":\"7df7e3a8-4846-4307-99f6-e53850a6e3d8\",\"type\":\"LinearAxis\"},{\"id\":\"f40e9593-d71c-40ac-9b45-91df05446380\",\"type\":\"Grid\"},{\"id\":\"1169f92c-7f14-4b87-8dd9-89f8c5da447e\",\"type\":\"LogAxis\"},{\"id\":\"f058d3fa-b0cb-49ba-9458-335933b346e7\",\"type\":\"Grid\"},{\"id\":\"6ff5dab8-acf4-48ab-89a5-cb954af65a9e\",\"type\":\"BoxAnnotation\"},{\"id\":\"863d96a4-38e2-4a64-bfaa-a10e20acfb8e\",\"type\":\"GlyphRenderer\"},{\"id\":\"bc7cb95e-9934-4715-ab6b-b9aa5ca0f5cb\",\"type\":\"GlyphRenderer\"},{\"id\":\"9dbb4b67-ae59-4832-a2ac-a59d5fba6bfc\",\"type\":\"Legend\"}],\"title\":{\"id\":\"8ab9cf3e-77ed-4b9d-ad61-59cfc7678099\",\"type\":\"Title\"},\"toolbar\":{\"id\":\"e5f0bff7-5000-4ca8-af56-04f97910df70\",\"type\":\"Toolbar\"},\"toolbar_location\":null,\"x_range\":{\"id\":\"11c91a18-7651-4da1-b5db-f52cf382b3ff\",\"type\":\"Range1d\"},\"x_scale\":{\"id\":\"2ac50c8f-c1a2-4c52-b7c9-d860d1ff6e31\",\"type\":\"LinearScale\"},\"y_range\":{\"id\":\"57d4693e-2ebc-4b10-bc1a-aec634a49aa0\",\"type\":\"Range1d\"},\"y_scale\":{\"id\":\"806c3355-deb6-45d6-8d17-3a2501d4c921\",\"type\":\"LogScale\"}},\"id\":\"e924ebed-dda5-4e92-8232-1d54830fde9e\",\"subtype\":\"Figure\",\"type\":\"Plot\"},{\"attributes\":{\"callback\":null,\"end\":0.01,\"start\":1020},\"id\":\"57d4693e-2ebc-4b10-bc1a-aec634a49aa0\",\"type\":\"Range1d\"},{\"attributes\":{\"line_alpha\":0.1,\"line_color\":\"#1f77b4\",\"line_width\":1.5,\"x\":{\"field\":\"x\"},\"y\":{\"field\":\"y\"}},\"id\":\"4941bd71-0bad-4c18-ae3c-0d98feea1839\",\"type\":\"Line\"},{\"attributes\":{\"dimension\":1,\"plot\":{\"id\":\"a5e09bf0-9c4e-4995-b2c2-210d1c504920\",\"subtype\":\"Figure\",\"type\":\"Plot\"},\"ticker\":{\"id\":\"21db3e5b-abbb-4553-b27b-5e834dd65c25\",\"type\":\"BasicTicker\"}},\"id\":\"6aeb5218-f121-418b-9f76-df9471bd1d68\",\"type\":\"Grid\"},{\"attributes\":{\"source\":{\"id\":\"20e6d72a-9f08-4220-abe9-fc379591c038\",\"type\":\"ColumnDataSource\"}},\"id\":\"03f09e25-f436-4a42-ae20-bbbd10a68240\",\"type\":\"CDSView\"},{\"attributes\":{},\"id\":\"6ae8515b-a3c8-4bbe-a084-cdebe2859782\",\"type\":\"ResetTool\"},{\"attributes\":{\"active_drag\":\"auto\",\"active_inspect\":\"auto\",\"active_scroll\":\"auto\",\"active_tap\":\"auto\",\"tools\":[{\"id\":\"7536d0ae-f444-4eab-b0ea-74bab2448105\",\"type\":\"PanTool\"},{\"id\":\"b40247f6-51c5-4ad2-9492-ebf1c519d61b\",\"type\":\"WheelZoomTool\"},{\"id\":\"ca657d22-f185-42cd-99e9-6f5886526edd\",\"type\":\"BoxZoomTool\"},{\"id\":\"7f0c8f39-f53b-4457-8095-d95f2a4c0a3a\",\"type\":\"SaveTool\"},{\"id\":\"6ae8515b-a3c8-4bbe-a084-cdebe2859782\",\"type\":\"ResetTool\"},{\"id\":\"14b0a615-ef2a-4285-9644-3ac55f82c2f4\",\"type\":\"HelpTool\"}]},\"id\":\"c64d26d6-675d-425a-87a2-cb800551a04c\",\"type\":\"Toolbar\"},{\"attributes\":{},\"id\":\"14b0a615-ef2a-4285-9644-3ac55f82c2f4\",\"type\":\"HelpTool\"},{\"attributes\":{\"callback\":null,\"end\":0.01,\"start\":1020},\"id\":\"69276d72-584e-4b01-bab3-3db2a639425e\",\"type\":\"Range1d\"},{\"attributes\":{\"fill_alpha\":{\"value\":0.7},\"fill_color\":{\"value\":\"#4daf4a\"},\"line_alpha\":{\"value\":0.7},\"line_color\":{\"value\":\"#4daf4a\"},\"x\":{\"field\":\"x\"},\"y\":{\"field\":\"y\"}},\"id\":\"38730a46-fc6b-4d0f-995a-ee376ab11cbd\",\"type\":\"Circle\"},{\"attributes\":{\"dimension\":1,\"plot\":{\"id\":\"e924ebed-dda5-4e92-8232-1d54830fde9e\",\"subtype\":\"Figure\",\"type\":\"Plot\"},\"ticker\":{\"id\":\"0861fc0b-f232-4963-94f9-748f16b58381\",\"type\":\"LogTicker\"}},\"id\":\"f058d3fa-b0cb-49ba-9458-335933b346e7\",\"type\":\"Grid\"},{\"attributes\":{\"label\":{\"value\":\"CLIRAD\"},\"renderers\":[{\"id\":\"89bdc8da-9db6-4a24-b28d-084fb12f2eac\",\"type\":\"GlyphRenderer\"}]},\"id\":\"b3b4ae25-986d-42a4-97b5-2a4854df375f\",\"type\":\"LegendItem\"},{\"attributes\":{\"callback\":null,\"data\":{\"x\":{\"__ndarray__\":\"0CYBcvU5UkCik9zf2GVBQF1VoNfLZ0BAVLxhiVXTPUDD1Wu1wJM6QFJyB025jjdAU6Aw5+b/NECYe1uuDfgyQB6bYtVTbTFAPxYSAF1HMEA00pYVm9QuQLolHbMzgC1AntlwirGsLECv+G9SjE4rQJH6ZLBp0ShAsLZQyPd/JkDyjgyf2PwkQLgyNGsrJyRAA13QbJD6I0C8hy0ilI4kQOVTXCEgcSZAovOGvZSGJUBVc/ZmUOIgQOf/6GHAyRlAcE8fAOBSFEDRur1U//gPQGFD9ZbokghAQsqHuSqSA0C91ci3W0UBQCtRQfvz7/4/kh8pntyB+j9t1/n+4TX1P773MAUjFfI/RgzR+CI28T8hBW8WHK7uPzVKjJfU8uk/0FPt4/z65T/wVYqzMPDhPz7K9C5CXuE/8+hSn9hY4T/9PPCkR6rhP1XsIC599OA/66X1nBCX3z/YbRM56QjcPz4dkSQc/dM/S7Wb8Fq00T+/yQdmX0vcP7TrGf476eM/WqNPJoWO7D9qOH1bcwDzP2bw+R5DQ/Y/RLSuQOQp+D8+aif8yAz5P0Wv6eBKRfk/0i2+IN4R+T/ik8QNFZr4PyS5UD5j/Pc/yJ68zXRG9z/2CHPL54H2P59SOhwKtPU/npkP8dfg9D8NlmVcdQz0P80ugRvuOvM/byxiAHN18j9USVZie8nxP5l9lNXYSPE/OB+F0UYP8T8Y7dsUCTHxP3EBgTHPcPE/bfx15p8S8T8FT+xkGtTuP6mdG7rkxuk/pboqTkHX5D/CrN8qGYngP7R4ZaL+htU/\",\"dtype\":\"float64\",\"shape\":[75]},\"y\":{\"__ndarray__\":\"GhExyth1ND/Sv8nbtpRIP2vylNV0PVE/aTum7souWD/At0SJ8fVgPw3Iuahxymc/MSNhhJWvcD/bTfBN02d3P2zb5nxnaoA/CD5h5MAGhz8NmeH1TyaQP+zrCsc9p5Y/LbKd76fGnz/bLW5ISEmmPww9YvTcQq8/JV2OstnstT8Er5Y7M8G+P0c+r3jqkcU/5h99k6ZBzj88bCIzFzjVP4enV8oyxN0//yH99nXg5D8qOpLLf0jtP5kqGJXUifQ/c9cS8kHP/D+/DpwzojQEQIEmwoanVwxA4lgXt9HgE0BSSZ2AJuIbQAMJih9jjiNA5q4l5INuK0AwTKYKRj0zQNv5fmq8/DpAaCJseHrtQkB/+zpwzoxKQM3MzMzMeFJAZmZmZmZqWEAAAAAAAFxeQM3MzMzMJmJAmpmZmZkfZUBmZmZmZhhoQDMzMzMzEWtAAAAAAAAKbkBmZmZmZoFwQM3MzMzM/XFAMzMzMzN6c0CamZmZmfZ0QAAAAAAAc3ZAZmZmZmbvd0DNzMzMzGt5QDMzMzMz6HpAmpmZmZlkfEAAAAAAAOF9QGZmZmZmXX9AZmZmZuZsgECamZmZGSuBQM3MzMxM6YFAAAAAAICngkAzMzMzs2WDQGZmZmbmI4RAmpmZmRnihEDNzMzMTKCFQAAAAACAXoZAMzMzM7Mch0BmZmZm5tqHQJqZmZkZmYhAzczMzExXiUAAAAAAgBWKQDMzMzOz04pAZmZmZuaRi0CamZmZGVCMQM3MzMxMDo1AAAAAAIDMjUAzMzMzs4qOQGZmZmbmSI9A\",\"dtype\":\"float64\",\"shape\":[75]}},\"selected\":{\"id\":\"c887616a-885b-41f5-b5cd-c6e276546209\",\"type\":\"Selection\"},\"selection_policy\":{\"id\":\"5c310e5b-963c-4a0c-bce1-6654022a605a\",\"type\":\"UnionRenderers\"}},\"id\":\"9a8d5b22-348d-4432-846e-55ac2d7bb9f3\",\"type\":\"ColumnDataSource\"},{\"attributes\":{\"callback\":null,\"end\":1.59271886053327,\"start\":0.23594060091972996},\"id\":\"52fa87fe-dc76-4565-9f8a-4ee9b5c6bbef\",\"type\":\"Range1d\"},{\"attributes\":{\"line_alpha\":0.8,\"line_color\":\"#984ea3\",\"line_width\":1.5,\"x\":{\"field\":\"x\"},\"y\":{\"field\":\"y\"}},\"id\":\"3ec802de-cae1-41d8-ada2-ce0f2d3e137b\",\"type\":\"Line\"},{\"attributes\":{\"source\":{\"id\":\"165cdfee-96f0-4c4a-9052-247139bb5784\",\"type\":\"ColumnDataSource\"}},\"id\":\"14e9744f-dbe6-45f7-97f2-90cfa99120de\",\"type\":\"CDSView\"},{\"attributes\":{},\"id\":\"21799e6f-4da0-4e59-9913-114cb5e4519d\",\"type\":\"HelpTool\"},{\"attributes\":{},\"id\":\"426d9327-79e4-42c1-bb3c-9565195bbb64\",\"type\":\"ResetTool\"},{\"attributes\":{\"num_minor_ticks\":10},\"id\":\"0861fc0b-f232-4963-94f9-748f16b58381\",\"type\":\"LogTicker\"},{\"attributes\":{\"source\":{\"id\":\"9513343c-6281-4e31-91ae-504a6b69aea2\",\"type\":\"ColumnDataSource\"}},\"id\":\"58cabf63-ee1b-4dac-8117-b2e026a95c86\",\"type\":\"CDSView\"},{\"attributes\":{\"items\":[{\"id\":\"a6592ac5-7c9a-4eb5-aa22-25ab8843ee15\",\"type\":\"LegendItem\"}],\"label_text_font_size\":{\"value\":\"8pt\"},\"location\":\"top_center\",\"orientation\":\"horizontal\",\"plot\":{\"id\":\"e924ebed-dda5-4e92-8232-1d54830fde9e\",\"subtype\":\"Figure\",\"type\":\"Plot\"}},\"id\":\"9dbb4b67-ae59-4832-a2ac-a59d5fba6bfc\",\"type\":\"Legend\"},{\"attributes\":{\"line_color\":\"#4daf4a\",\"line_width\":1.5,\"x\":{\"field\":\"x\"},\"y\":{\"field\":\"y\"}},\"id\":\"f6365d8b-6bf7-41a1-bcfc-9b220069cecc\",\"type\":\"Line\"},{\"attributes\":{\"line_alpha\":0.6,\"line_color\":\"#e41a1c\",\"line_dash\":[6],\"line_width\":5,\"x\":{\"field\":\"x\"},\"y\":{\"field\":\"y\"}},\"id\":\"7bbf0a82-7e51-4fb0-b6a4-ae5fd9a0c77c\",\"type\":\"Line\"},{\"attributes\":{\"above\":[{\"id\":\"1bc8792f-7fdd-446f-b116-2dedca4de317\",\"type\":\"Legend\"}],\"below\":[{\"id\":\"78abb54a-9dff-4bd8-9b8d-3883210ddb11\",\"type\":\"LinearAxis\"}],\"left\":[{\"id\":\"c746020d-8b8c-4a14-8efb-22768321b812\",\"type\":\"LogAxis\"}],\"plot_width\":300,\"renderers\":[{\"id\":\"78abb54a-9dff-4bd8-9b8d-3883210ddb11\",\"type\":\"LinearAxis\"},{\"id\":\"7ada79ab-9ebe-47aa-8b75-15bf06e222c6\",\"type\":\"Grid\"},{\"id\":\"c746020d-8b8c-4a14-8efb-22768321b812\",\"type\":\"LogAxis\"},{\"id\":\"8588fd1f-5a98-4f86-8f49-cebadbcfb17f\",\"type\":\"Grid\"},{\"id\":\"ce4adc8e-739d-40b4-908f-a18382762e9e\",\"type\":\"BoxAnnotation\"},{\"id\":\"89bdc8da-9db6-4a24-b28d-084fb12f2eac\",\"type\":\"GlyphRenderer\"},{\"id\":\"9d8c35ab-b1fd-483e-b2b8-f780789cac00\",\"type\":\"GlyphRenderer\"},{\"id\":\"3ee45a2f-aa2c-433c-a7e6-f4b767894721\",\"type\":\"GlyphRenderer\"},{\"id\":\"1bc8792f-7fdd-446f-b116-2dedca4de317\",\"type\":\"Legend\"}],\"title\":{\"id\":\"98defedb-8f34-4462-9e84-ce0cbe1d9b5f\",\"type\":\"Title\"},\"toolbar\":{\"id\":\"2a70c871-beba-4a25-8757-f76459658c92\",\"type\":\"Toolbar\"},\"toolbar_location\":null,\"x_range\":{\"id\":\"bd45c73a-eb16-4cad-a0ac-670e2f1d5ca3\",\"type\":\"Range1d\"},\"x_scale\":{\"id\":\"5ea609c3-d5a3-47fd-9c07-26c5df7d9c00\",\"type\":\"LinearScale\"},\"y_range\":{\"id\":\"af41630b-d4f1-4b65-b5e5-e3ec2f6812f6\",\"type\":\"Range1d\"},\"y_scale\":{\"id\":\"4c34d15a-41e2-41a8-bd63-8316c53f535c\",\"type\":\"LogScale\"}},\"id\":\"7b816619-2a4d-4c57-90d1-3a5d3c17a3ed\",\"subtype\":\"Figure\",\"type\":\"Plot\"},{\"attributes\":{\"data_source\":{\"id\":\"165cdfee-96f0-4c4a-9052-247139bb5784\",\"type\":\"ColumnDataSource\"},\"glyph\":{\"id\":\"38730a46-fc6b-4d0f-995a-ee376ab11cbd\",\"type\":\"Circle\"},\"hover_glyph\":null,\"muted_glyph\":null,\"nonselection_glyph\":{\"id\":\"fde7403b-c12a-47f5-b41d-08125fbb7cf9\",\"type\":\"Circle\"},\"selection_glyph\":null,\"view\":{\"id\":\"14e9744f-dbe6-45f7-97f2-90cfa99120de\",\"type\":\"CDSView\"}},\"id\":\"cadec6ce-ece0-4442-82c4-9ec4b873d7ce\",\"type\":\"GlyphRenderer\"},{\"attributes\":{},\"id\":\"070e02af-64f7-4695-ad46-1aa4c99d5fe0\",\"type\":\"SaveTool\"},{\"attributes\":{\"active_drag\":\"auto\",\"active_inspect\":\"auto\",\"active_scroll\":\"auto\",\"active_tap\":\"auto\",\"tools\":[{\"id\":\"fda0c752-9c78-4849-b2f2-f7f2dfc7ba04\",\"type\":\"PanTool\"},{\"id\":\"1e7dea6b-1a3b-4111-825c-c6ec086e58ab\",\"type\":\"WheelZoomTool\"},{\"id\":\"f6944158-9cd9-44e9-a4da-480124446e97\",\"type\":\"BoxZoomTool\"},{\"id\":\"070e02af-64f7-4695-ad46-1aa4c99d5fe0\",\"type\":\"SaveTool\"},{\"id\":\"426d9327-79e4-42c1-bb3c-9565195bbb64\",\"type\":\"ResetTool\"},{\"id\":\"21799e6f-4da0-4e59-9913-114cb5e4519d\",\"type\":\"HelpTool\"}]},\"id\":\"2a70c871-beba-4a25-8757-f76459658c92\",\"type\":\"Toolbar\"},{\"attributes\":{\"axis_label\":\"cooling rate [K/day]\",\"formatter\":{\"id\":\"6c3fe818-608e-47a3-b0f2-b11556615279\",\"type\":\"BasicTickFormatter\"},\"plot\":{\"id\":\"a5e09bf0-9c4e-4995-b2c2-210d1c504920\",\"subtype\":\"Figure\",\"type\":\"Plot\"},\"ticker\":{\"id\":\"bca8de73-742b-4f75-8af6-281398905cdc\",\"type\":\"BasicTicker\"}},\"id\":\"ef378c3c-57f7-48d0-8095-83f7bf71c025\",\"type\":\"LinearAxis\"}],\"root_ids\":[\"311edbef-e8a8-47ec-9a2b-144aaae2d65a\"]},\"title\":\"Bokeh Application\",\"version\":\"0.12.16\"}};\n",
       "  var render_items = [{\"docid\":\"cab5f531-d91d-4f86-8656-127e50c6c933\",\"elementid\":\"5a08d8af-70a1-45bb-900f-cbbdc63d0583\",\"modelid\":\"311edbef-e8a8-47ec-9a2b-144aaae2d65a\"}];\n",
       "  root.Bokeh.embed.embed_items_notebook(docs_json, render_items);\n",
       "\n",
       "  }\n",
       "  if (root.Bokeh !== undefined) {\n",
       "    embed_document(root);\n",
       "  } else {\n",
       "    var attempts = 0;\n",
       "    var timer = setInterval(function(root) {\n",
       "      if (root.Bokeh !== undefined) {\n",
       "        embed_document(root);\n",
       "        clearInterval(timer);\n",
       "      }\n",
       "      attempts++;\n",
       "      if (attempts > 100) {\n",
       "        console.log(\"Bokeh: ERROR: Unable to run BokehJS code because BokehJS library is missing\")\n",
       "        clearInterval(timer);\n",
       "      }\n",
       "    }, 10, root)\n",
       "  }\n",
       "})(window);"
      ],
      "application/vnd.bokehjs_exec.v0+json": ""
     },
     "metadata": {
      "application/vnd.bokehjs_exec.v0+json": {
       "id": "311edbef-e8a8-47ec-9a2b-144aaae2d65a"
      }
     },
     "output_type": "display_data"
    },
    {
     "data": {
      "text/markdown": [
       "*FIGURE.* Cooling rates & difference."
      ],
      "text/plain": [
       "<IPython.core.display.Markdown object>"
      ]
     },
     "metadata": {},
     "output_type": "display_data"
    },
    {
     "data": {
      "text/html": [
       "<a id=\"Fluxes._saw.\"></a>"
      ],
      "text/plain": [
       "<IPython.core.display.HTML object>"
      ]
     },
     "metadata": {},
     "output_type": "display_data"
    },
    {
     "data": {
      "text/markdown": [
       "# Fluxes. saw."
      ],
      "text/plain": [
       "<IPython.core.display.Markdown object>"
      ]
     },
     "metadata": {},
     "output_type": "display_data"
    },
    {
     "data": {
      "text/html": [
       "\n",
       "<div class=\"bk-root\">\n",
       "    <div class=\"bk-plotdiv\" id=\"c2f87f4b-6ce2-4b1c-98c7-0d1cda9e15b6\"></div>\n",
       "</div>"
      ]
     },
     "metadata": {},
     "output_type": "display_data"
    },
    {
     "data": {
      "application/javascript": [
       "(function(root) {\n",
       "  function embed_document(root) {\n",
       "    \n",
       "  var docs_json = {\"796d8222-71d0-4f74-8697-ac44d0c5349c\":{\"roots\":{\"references\":[{\"attributes\":{\"callback\":null,\"data\":{\"band\":[\"1\",\"2\",\"3\",\"4\",\"5\",\"6\",\"7\",\"8\",\"9\",\"10\",\"11\"],\"flux\":{\"__ndarray__\":\"gEOHwJFAxz8A+NfyyvWyPwALzuDvF7O/AEd1OpD1wj8AowbTMHy4PwBw88ZJYY6/YBxcOuY80j8ABBxClZqNv4DcwqnFlqA/ACA2WDhJc79A+HdsulSTPw==\",\"dtype\":\"float64\",\"shape\":[11]}},\"selected\":{\"id\":\"d92d6898-eee1-4415-815d-034c1b31488c\",\"type\":\"Selection\"},\"selection_policy\":{\"id\":\"4fc24d3b-171b-45b6-b79a-a53c5c696fe1\",\"type\":\"UnionRenderers\"}},\"id\":\"b5df2652-4976-41c3-b203-409825a3a396\",\"type\":\"ColumnDataSource\"},{\"attributes\":{},\"id\":\"68bd34f2-84ed-41ad-958f-7d3960b88510\",\"type\":\"CategoricalTickFormatter\"},{\"attributes\":{\"axis_label\":\"flux (W m-2)\",\"formatter\":{\"id\":\"993c68e6-0509-4e2c-8a8e-7c11bcf4bb21\",\"type\":\"BasicTickFormatter\"},\"plot\":{\"id\":\"61621620-ba35-46e5-aa49-78355d03bfbb\",\"subtype\":\"Figure\",\"type\":\"Plot\"},\"ticker\":{\"id\":\"8894fb96-f71d-4aa9-9d7d-1e1891601865\",\"type\":\"BasicTicker\"}},\"id\":\"e1b5e1b6-8aee-419c-94a5-8a44de971c3a\",\"type\":\"LinearAxis\"},{\"attributes\":{},\"id\":\"d897ea6f-3f45-474b-9099-c7b7bebfaf92\",\"type\":\"LinearScale\"},{\"attributes\":{},\"id\":\"bba4b9d7-49a8-4208-8e3f-bb3ec20616c4\",\"type\":\"PanTool\"},{\"attributes\":{},\"id\":\"8894fb96-f71d-4aa9-9d7d-1e1891601865\",\"type\":\"BasicTicker\"},{\"attributes\":{\"callback\":null,\"data\":{\"band\":[\"1\",\"2\",\"3\",\"4\",\"5\",\"6\",\"7\",\"8\",\"9\",\"10\",\"11\"],\"flux\":{\"__ndarray__\":\"AMCVXpuNZb8AVvMcke/Av0AnLzIBv+C/AG7F/rJ7sj+ADjgBPFjIP9B82pcir7m/wI+B4QEKsD/IHC8wbTC0vwAsnbQVoJI/AILMzqJ3oj8A4PI/lpFsPw==\",\"dtype\":\"float64\",\"shape\":[11]}},\"selected\":{\"id\":\"e1726d02-4357-421a-8ee9-a1c51ac917a5\",\"type\":\"Selection\"},\"selection_policy\":{\"id\":\"45925afc-d302-4477-b97b-f272e3d8d849\",\"type\":\"UnionRenderers\"}},\"id\":\"7c8df1a2-647e-4590-9116-3dbddd18ce66\",\"type\":\"ColumnDataSource\"},{\"attributes\":{\"plot\":{\"id\":\"1b73f0cc-d69b-4960-acab-772648c4bb98\",\"subtype\":\"Figure\",\"type\":\"Plot\"},\"ticker\":{\"id\":\"b7991b44-ec8f-4697-9374-e726e666cb3f\",\"type\":\"CategoricalTicker\"}},\"id\":\"56948ea8-eb2a-4edb-a3aa-b31cebbe3e78\",\"type\":\"Grid\"},{\"attributes\":{\"bottom_units\":\"screen\",\"fill_alpha\":{\"value\":0.5},\"fill_color\":{\"value\":\"lightgrey\"},\"left_units\":\"screen\",\"level\":\"overlay\",\"line_alpha\":{\"value\":1.0},\"line_color\":{\"value\":\"black\"},\"line_dash\":[4,4],\"line_width\":{\"value\":2},\"plot\":null,\"render_mode\":\"css\",\"right_units\":\"screen\",\"top_units\":\"screen\"},\"id\":\"2f4301bb-3886-457d-b10b-6cd2d1cc2905\",\"type\":\"BoxAnnotation\"},{\"attributes\":{\"callback\":null},\"id\":\"03337ad2-aed1-4f38-adc2-d830fe6f39c5\",\"type\":\"DataRange1d\"},{\"attributes\":{},\"id\":\"b7991b44-ec8f-4697-9374-e726e666cb3f\",\"type\":\"CategoricalTicker\"},{\"attributes\":{\"axis_label\":\"spectral band\",\"formatter\":{\"id\":\"81a2225b-8c29-481a-9ca3-0ac3f7b8de91\",\"type\":\"CategoricalTickFormatter\"},\"plot\":{\"id\":\"644ba874-cde8-4f30-b90d-fb379a75edb4\",\"subtype\":\"Figure\",\"type\":\"Plot\"},\"ticker\":{\"id\":\"06fcd642-ad1c-4c93-8210-fa2a68a59129\",\"type\":\"CategoricalTicker\"}},\"id\":\"bcad2ff2-bfd3-438f-bdaa-794a366ed582\",\"type\":\"CategoricalAxis\"},{\"attributes\":{\"children\":[{\"id\":\"0a2a21e9-45a5-46ca-ac5f-2899d8941f03\",\"type\":\"Row\"}]},\"id\":\"13ad6602-2c90-4b55-b7ef-0517bf21422a\",\"type\":\"Column\"},{\"attributes\":{},\"id\":\"ca4d6b14-0e5a-4798-9327-c9db3569842d\",\"type\":\"CategoricalTicker\"},{\"attributes\":{},\"id\":\"33ba9b2e-3560-4e22-98f9-29635ef17085\",\"type\":\"ResetTool\"},{\"attributes\":{\"axis_label\":\"flux (W m-2)\",\"formatter\":{\"id\":\"00c6061f-1ca0-4123-9a58-f52c34cbfda2\",\"type\":\"BasicTickFormatter\"},\"plot\":{\"id\":\"1b73f0cc-d69b-4960-acab-772648c4bb98\",\"subtype\":\"Figure\",\"type\":\"Plot\"},\"ticker\":{\"id\":\"6602ebe1-c74b-4f0d-a15b-748aa7569d6d\",\"type\":\"BasicTicker\"}},\"id\":\"3cb08b8a-1c0d-43d1-95d2-290dd71ac348\",\"type\":\"LinearAxis\"},{\"attributes\":{\"dimension\":1,\"plot\":{\"id\":\"644ba874-cde8-4f30-b90d-fb379a75edb4\",\"subtype\":\"Figure\",\"type\":\"Plot\"},\"ticker\":{\"id\":\"4d8290c4-66e2-448f-b4c0-c11e970d6e94\",\"type\":\"BasicTicker\"}},\"id\":\"104a2bc8-ce6a-4b03-872c-2cdc74604a22\",\"type\":\"Grid\"},{\"attributes\":{\"data_source\":{\"id\":\"7c8df1a2-647e-4590-9116-3dbddd18ce66\",\"type\":\"ColumnDataSource\"},\"glyph\":{\"id\":\"c3a46e41-f61b-4f8a-9341-85e55d5fafe5\",\"type\":\"VBar\"},\"hover_glyph\":null,\"muted_glyph\":null,\"nonselection_glyph\":{\"id\":\"eae790d5-8da6-4e46-8bb9-510648bc70ff\",\"type\":\"VBar\"},\"selection_glyph\":null,\"view\":{\"id\":\"6b9e9800-c0c0-4fd0-aaad-a7a6e34e5c87\",\"type\":\"CDSView\"}},\"id\":\"00e50879-3b70-4d1f-81aa-a6271339eacd\",\"type\":\"GlyphRenderer\"},{\"attributes\":{\"overlay\":{\"id\":\"2f4301bb-3886-457d-b10b-6cd2d1cc2905\",\"type\":\"BoxAnnotation\"}},\"id\":\"d7bd3f52-de6c-4fae-bd1b-ecf273fb3537\",\"type\":\"BoxZoomTool\"},{\"attributes\":{},\"id\":\"3bd196b6-c99e-4e66-8742-e80b67d68160\",\"type\":\"CategoricalScale\"},{\"attributes\":{\"axis_label\":\"spectral band\",\"formatter\":{\"id\":\"68bd34f2-84ed-41ad-958f-7d3960b88510\",\"type\":\"CategoricalTickFormatter\"},\"plot\":{\"id\":\"1b73f0cc-d69b-4960-acab-772648c4bb98\",\"subtype\":\"Figure\",\"type\":\"Plot\"},\"ticker\":{\"id\":\"b7991b44-ec8f-4697-9374-e726e666cb3f\",\"type\":\"CategoricalTicker\"}},\"id\":\"92fe12d1-01f4-413d-b5e9-922f609fec67\",\"type\":\"CategoricalAxis\"},{\"attributes\":{\"axis_label\":\"flux (W m-2)\",\"formatter\":{\"id\":\"befbecab-53a5-4fcf-84d8-2525333fef7a\",\"type\":\"BasicTickFormatter\"},\"plot\":{\"id\":\"644ba874-cde8-4f30-b90d-fb379a75edb4\",\"subtype\":\"Figure\",\"type\":\"Plot\"},\"ticker\":{\"id\":\"4d8290c4-66e2-448f-b4c0-c11e970d6e94\",\"type\":\"BasicTicker\"}},\"id\":\"8b9ac354-e396-45e3-b182-742f36f0df8b\",\"type\":\"LinearAxis\"},{\"attributes\":{},\"id\":\"a7e2871f-b136-4d15-adcd-204bd1caec52\",\"type\":\"CategoricalScale\"},{\"attributes\":{},\"id\":\"88423fdf-8dd2-44df-8ebc-1add5f2d7b7a\",\"type\":\"WheelZoomTool\"},{\"attributes\":{},\"id\":\"4d8290c4-66e2-448f-b4c0-c11e970d6e94\",\"type\":\"BasicTicker\"},{\"attributes\":{\"plot\":{\"id\":\"644ba874-cde8-4f30-b90d-fb379a75edb4\",\"subtype\":\"Figure\",\"type\":\"Plot\"},\"ticker\":{\"id\":\"06fcd642-ad1c-4c93-8210-fa2a68a59129\",\"type\":\"CategoricalTicker\"}},\"id\":\"7003f7ad-8448-47da-ad82-21b28c8659bc\",\"type\":\"Grid\"},{\"attributes\":{\"axis_label\":\"spectral band\",\"formatter\":{\"id\":\"64056d4d-1ba8-4fe4-9b1f-8041ed28662a\",\"type\":\"CategoricalTickFormatter\"},\"plot\":{\"id\":\"61621620-ba35-46e5-aa49-78355d03bfbb\",\"subtype\":\"Figure\",\"type\":\"Plot\"},\"ticker\":{\"id\":\"ca4d6b14-0e5a-4798-9327-c9db3569842d\",\"type\":\"CategoricalTicker\"}},\"id\":\"615085d6-d3a9-44db-b421-cb1067e9e4c4\",\"type\":\"CategoricalAxis\"},{\"attributes\":{},\"id\":\"06fcd642-ad1c-4c93-8210-fa2a68a59129\",\"type\":\"CategoricalTicker\"},{\"attributes\":{\"plot\":{\"id\":\"61621620-ba35-46e5-aa49-78355d03bfbb\",\"subtype\":\"Figure\",\"type\":\"Plot\"},\"ticker\":{\"id\":\"ca4d6b14-0e5a-4798-9327-c9db3569842d\",\"type\":\"CategoricalTicker\"}},\"id\":\"00709975-b413-4d6d-bd75-b5224b89fdc7\",\"type\":\"Grid\"},{\"attributes\":{},\"id\":\"d4d71bed-ed68-4584-87db-e36a06fa3d37\",\"type\":\"SaveTool\"},{\"attributes\":{},\"id\":\"f6210844-e2c6-46ae-801f-d56033dabddc\",\"type\":\"SaveTool\"},{\"attributes\":{},\"id\":\"9c9b9d7b-df69-48d0-8ad0-c31d859b2adc\",\"type\":\"LinearScale\"},{\"attributes\":{\"source\":{\"id\":\"b5df2652-4976-41c3-b203-409825a3a396\",\"type\":\"ColumnDataSource\"}},\"id\":\"a1dcd3af-a8aa-4338-ace0-30c6cc82f7d4\",\"type\":\"CDSView\"},{\"attributes\":{\"fill_color\":{\"value\":\"#1f77b4\"},\"line_color\":{\"value\":\"#1f77b4\"},\"top\":{\"field\":\"flux\"},\"width\":{\"value\":0.9},\"x\":{\"field\":\"band\"}},\"id\":\"1f45ac04-967b-4853-8a83-17d8c04f7a6f\",\"type\":\"VBar\"},{\"attributes\":{\"children\":[{\"id\":\"61621620-ba35-46e5-aa49-78355d03bfbb\",\"subtype\":\"Figure\",\"type\":\"Plot\"},{\"id\":\"1b73f0cc-d69b-4960-acab-772648c4bb98\",\"subtype\":\"Figure\",\"type\":\"Plot\"},{\"id\":\"644ba874-cde8-4f30-b90d-fb379a75edb4\",\"subtype\":\"Figure\",\"type\":\"Plot\"}]},\"id\":\"0a2a21e9-45a5-46ca-ac5f-2899d8941f03\",\"type\":\"Row\"},{\"attributes\":{\"data_source\":{\"id\":\"b5df2652-4976-41c3-b203-409825a3a396\",\"type\":\"ColumnDataSource\"},\"glyph\":{\"id\":\"bdb3c77c-2511-441b-b651-0e57f0ed995f\",\"type\":\"VBar\"},\"hover_glyph\":null,\"muted_glyph\":null,\"nonselection_glyph\":{\"id\":\"123f4cb9-bfc8-4441-b7e4-661486e1b689\",\"type\":\"VBar\"},\"selection_glyph\":null,\"view\":{\"id\":\"a1dcd3af-a8aa-4338-ace0-30c6cc82f7d4\",\"type\":\"CDSView\"}},\"id\":\"8e9cb1da-3557-4556-b7ee-78893e62fd6e\",\"type\":\"GlyphRenderer\"},{\"attributes\":{\"fill_color\":{\"value\":\"#1f77b4\"},\"line_color\":{\"value\":\"#1f77b4\"},\"top\":{\"field\":\"flux\"},\"width\":{\"value\":0.9},\"x\":{\"field\":\"band\"}},\"id\":\"bdb3c77c-2511-441b-b651-0e57f0ed995f\",\"type\":\"VBar\"},{\"attributes\":{},\"id\":\"9eb46f43-d65d-4da2-9e0e-32e423e7ee09\",\"type\":\"HelpTool\"},{\"attributes\":{\"tools\":[{\"id\":\"6d59c7e5-1d3e-43e7-a66e-4a3e5d7f7d7d\",\"type\":\"PanTool\"},{\"id\":\"ec1055a0-79fb-419b-a105-d64a20b84258\",\"type\":\"WheelZoomTool\"},{\"id\":\"d0addfd5-38a6-4f61-943a-0d79237fd6e1\",\"type\":\"BoxZoomTool\"},{\"id\":\"f6210844-e2c6-46ae-801f-d56033dabddc\",\"type\":\"SaveTool\"},{\"id\":\"a938daa6-c2f7-4e43-9393-13a449271cef\",\"type\":\"ResetTool\"},{\"id\":\"b37a9281-49c5-4426-bc85-00b5d1161dfc\",\"type\":\"HelpTool\"},{\"id\":\"bba4b9d7-49a8-4208-8e3f-bb3ec20616c4\",\"type\":\"PanTool\"},{\"id\":\"88423fdf-8dd2-44df-8ebc-1add5f2d7b7a\",\"type\":\"WheelZoomTool\"},{\"id\":\"d7bd3f52-de6c-4fae-bd1b-ecf273fb3537\",\"type\":\"BoxZoomTool\"},{\"id\":\"d4d71bed-ed68-4584-87db-e36a06fa3d37\",\"type\":\"SaveTool\"},{\"id\":\"33ba9b2e-3560-4e22-98f9-29635ef17085\",\"type\":\"ResetTool\"},{\"id\":\"9eb46f43-d65d-4da2-9e0e-32e423e7ee09\",\"type\":\"HelpTool\"},{\"id\":\"b02fa6e9-a009-47c8-b9ec-aa688c206143\",\"type\":\"PanTool\"},{\"id\":\"fb7df5e7-9a45-4a3a-be52-0b26adcef339\",\"type\":\"WheelZoomTool\"},{\"id\":\"fed21d88-c149-401a-a0bc-509bf961fadd\",\"type\":\"BoxZoomTool\"},{\"id\":\"2c7d8229-69a0-44dc-83c0-234eaa93cdfd\",\"type\":\"SaveTool\"},{\"id\":\"631fc2ff-8999-418c-b0d5-12f6e031c3a0\",\"type\":\"ResetTool\"},{\"id\":\"90994b30-d333-4f3c-85d5-97c2b28152d7\",\"type\":\"HelpTool\"}]},\"id\":\"b65028dc-aff0-4146-8370-589e4027207c\",\"type\":\"ProxyToolbar\"},{\"attributes\":{},\"id\":\"993c68e6-0509-4e2c-8a8e-7c11bcf4bb21\",\"type\":\"BasicTickFormatter\"},{\"attributes\":{},\"id\":\"a938daa6-c2f7-4e43-9393-13a449271cef\",\"type\":\"ResetTool\"},{\"attributes\":{},\"id\":\"64056d4d-1ba8-4fe4-9b1f-8041ed28662a\",\"type\":\"CategoricalTickFormatter\"},{\"attributes\":{},\"id\":\"82318f99-0b4a-44ce-af2a-af30d16e9070\",\"type\":\"UnionRenderers\"},{\"attributes\":{\"fill_alpha\":{\"value\":0.1},\"fill_color\":{\"value\":\"#1f77b4\"},\"line_alpha\":{\"value\":0.1},\"line_color\":{\"value\":\"#1f77b4\"},\"top\":{\"field\":\"flux\"},\"width\":{\"value\":0.9},\"x\":{\"field\":\"band\"}},\"id\":\"123f4cb9-bfc8-4441-b7e4-661486e1b689\",\"type\":\"VBar\"},{\"attributes\":{},\"id\":\"b37a9281-49c5-4426-bc85-00b5d1161dfc\",\"type\":\"HelpTool\"},{\"attributes\":{\"bottom_units\":\"screen\",\"fill_alpha\":{\"value\":0.5},\"fill_color\":{\"value\":\"lightgrey\"},\"left_units\":\"screen\",\"level\":\"overlay\",\"line_alpha\":{\"value\":1.0},\"line_color\":{\"value\":\"black\"},\"line_dash\":[4,4],\"line_width\":{\"value\":2},\"plot\":null,\"render_mode\":\"css\",\"right_units\":\"screen\",\"top_units\":\"screen\"},\"id\":\"a7a9db4a-a6f1-4f54-b0ce-7b1f25332cb4\",\"type\":\"BoxAnnotation\"},{\"attributes\":{\"active_drag\":\"auto\",\"active_inspect\":\"auto\",\"active_scroll\":\"auto\",\"active_tap\":\"auto\",\"tools\":[{\"id\":\"b02fa6e9-a009-47c8-b9ec-aa688c206143\",\"type\":\"PanTool\"},{\"id\":\"fb7df5e7-9a45-4a3a-be52-0b26adcef339\",\"type\":\"WheelZoomTool\"},{\"id\":\"fed21d88-c149-401a-a0bc-509bf961fadd\",\"type\":\"BoxZoomTool\"},{\"id\":\"2c7d8229-69a0-44dc-83c0-234eaa93cdfd\",\"type\":\"SaveTool\"},{\"id\":\"631fc2ff-8999-418c-b0d5-12f6e031c3a0\",\"type\":\"ResetTool\"},{\"id\":\"90994b30-d333-4f3c-85d5-97c2b28152d7\",\"type\":\"HelpTool\"}]},\"id\":\"de092edc-3e9f-4895-b9c1-306391f39309\",\"type\":\"Toolbar\"},{\"attributes\":{},\"id\":\"90994b30-d333-4f3c-85d5-97c2b28152d7\",\"type\":\"HelpTool\"},{\"attributes\":{\"callback\":null},\"id\":\"fe0fe9f7-a791-467c-945b-56a69883f26e\",\"type\":\"DataRange1d\"},{\"attributes\":{},\"id\":\"6602ebe1-c74b-4f0d-a15b-748aa7569d6d\",\"type\":\"BasicTicker\"},{\"attributes\":{\"toolbar\":{\"id\":\"b65028dc-aff0-4146-8370-589e4027207c\",\"type\":\"ProxyToolbar\"},\"toolbar_location\":\"above\"},\"id\":\"ab44c765-36a0-4cd1-8bec-d07a429cb559\",\"type\":\"ToolbarBox\"},{\"attributes\":{\"dimension\":1,\"plot\":{\"id\":\"1b73f0cc-d69b-4960-acab-772648c4bb98\",\"subtype\":\"Figure\",\"type\":\"Plot\"},\"ticker\":{\"id\":\"6602ebe1-c74b-4f0d-a15b-748aa7569d6d\",\"type\":\"BasicTicker\"}},\"id\":\"adec996f-2e34-4f47-a3ce-be2fa99e2d24\",\"type\":\"Grid\"},{\"attributes\":{\"callback\":null,\"factors\":[\"1\",\"2\",\"3\",\"4\",\"5\",\"6\",\"7\",\"8\",\"9\",\"10\",\"11\"]},\"id\":\"bd70c412-ad39-461c-acd4-43df31f6bc2c\",\"type\":\"FactorRange\"},{\"attributes\":{\"source\":{\"id\":\"fcd93613-4775-4532-ae85-8904fc15157e\",\"type\":\"ColumnDataSource\"}},\"id\":\"7b68135e-4f83-4123-a7a4-3caf073bf247\",\"type\":\"CDSView\"},{\"attributes\":{\"active_drag\":\"auto\",\"active_inspect\":\"auto\",\"active_scroll\":\"auto\",\"active_tap\":\"auto\",\"tools\":[{\"id\":\"bba4b9d7-49a8-4208-8e3f-bb3ec20616c4\",\"type\":\"PanTool\"},{\"id\":\"88423fdf-8dd2-44df-8ebc-1add5f2d7b7a\",\"type\":\"WheelZoomTool\"},{\"id\":\"d7bd3f52-de6c-4fae-bd1b-ecf273fb3537\",\"type\":\"BoxZoomTool\"},{\"id\":\"d4d71bed-ed68-4584-87db-e36a06fa3d37\",\"type\":\"SaveTool\"},{\"id\":\"33ba9b2e-3560-4e22-98f9-29635ef17085\",\"type\":\"ResetTool\"},{\"id\":\"9eb46f43-d65d-4da2-9e0e-32e423e7ee09\",\"type\":\"HelpTool\"}]},\"id\":\"0f55d13b-5853-4be7-8736-7e7e518391a0\",\"type\":\"Toolbar\"},{\"attributes\":{},\"id\":\"811aa8fe-5ae5-47b3-9d1d-8a6282014f15\",\"type\":\"Selection\"},{\"attributes\":{\"below\":[{\"id\":\"92fe12d1-01f4-413d-b5e9-922f609fec67\",\"type\":\"CategoricalAxis\"}],\"left\":[{\"id\":\"3cb08b8a-1c0d-43d1-95d2-290dd71ac348\",\"type\":\"LinearAxis\"}],\"plot_height\":300,\"plot_width\":300,\"renderers\":[{\"id\":\"92fe12d1-01f4-413d-b5e9-922f609fec67\",\"type\":\"CategoricalAxis\"},{\"id\":\"56948ea8-eb2a-4edb-a3aa-b31cebbe3e78\",\"type\":\"Grid\"},{\"id\":\"3cb08b8a-1c0d-43d1-95d2-290dd71ac348\",\"type\":\"LinearAxis\"},{\"id\":\"adec996f-2e34-4f47-a3ce-be2fa99e2d24\",\"type\":\"Grid\"},{\"id\":\"2f4301bb-3886-457d-b10b-6cd2d1cc2905\",\"type\":\"BoxAnnotation\"},{\"id\":\"00e50879-3b70-4d1f-81aa-a6271339eacd\",\"type\":\"GlyphRenderer\"}],\"title\":{\"id\":\"888a0200-c1e8-4b2b-8a8c-5fc963fb0df5\",\"type\":\"Title\"},\"toolbar\":{\"id\":\"0f55d13b-5853-4be7-8736-7e7e518391a0\",\"type\":\"Toolbar\"},\"toolbar_location\":null,\"x_range\":{\"id\":\"bd70c412-ad39-461c-acd4-43df31f6bc2c\",\"type\":\"FactorRange\"},\"x_scale\":{\"id\":\"a7e2871f-b136-4d15-adcd-204bd1caec52\",\"type\":\"CategoricalScale\"},\"y_range\":{\"id\":\"1503f18f-b7c2-4e9b-aade-3d784977d44f\",\"type\":\"DataRange1d\"},\"y_scale\":{\"id\":\"29749af1-057e-4382-9d80-ebbdbc88bb23\",\"type\":\"LinearScale\"}},\"id\":\"1b73f0cc-d69b-4960-acab-772648c4bb98\",\"subtype\":\"Figure\",\"type\":\"Plot\"},{\"attributes\":{},\"id\":\"2c7d8229-69a0-44dc-83c0-234eaa93cdfd\",\"type\":\"SaveTool\"},{\"attributes\":{},\"id\":\"ec1055a0-79fb-419b-a105-d64a20b84258\",\"type\":\"WheelZoomTool\"},{\"attributes\":{\"below\":[{\"id\":\"615085d6-d3a9-44db-b421-cb1067e9e4c4\",\"type\":\"CategoricalAxis\"}],\"left\":[{\"id\":\"e1b5e1b6-8aee-419c-94a5-8a44de971c3a\",\"type\":\"LinearAxis\"}],\"plot_height\":300,\"plot_width\":300,\"renderers\":[{\"id\":\"615085d6-d3a9-44db-b421-cb1067e9e4c4\",\"type\":\"CategoricalAxis\"},{\"id\":\"00709975-b413-4d6d-bd75-b5224b89fdc7\",\"type\":\"Grid\"},{\"id\":\"e1b5e1b6-8aee-419c-94a5-8a44de971c3a\",\"type\":\"LinearAxis\"},{\"id\":\"fa198974-d579-40af-a990-c0a37b66e737\",\"type\":\"Grid\"},{\"id\":\"a7a9db4a-a6f1-4f54-b0ce-7b1f25332cb4\",\"type\":\"BoxAnnotation\"},{\"id\":\"8e9cb1da-3557-4556-b7ee-78893e62fd6e\",\"type\":\"GlyphRenderer\"}],\"title\":{\"id\":\"25ea78ff-d76d-494e-9cbd-74835bed1545\",\"type\":\"Title\"},\"toolbar\":{\"id\":\"922d7c67-47ba-4dda-9be6-0ff29c270650\",\"type\":\"Toolbar\"},\"toolbar_location\":null,\"x_range\":{\"id\":\"d22b15b9-98a0-436c-b443-296f0e014fd1\",\"type\":\"FactorRange\"},\"x_scale\":{\"id\":\"f24fac9b-cead-4888-a699-d327ba1feca1\",\"type\":\"CategoricalScale\"},\"y_range\":{\"id\":\"fe0fe9f7-a791-467c-945b-56a69883f26e\",\"type\":\"DataRange1d\"},\"y_scale\":{\"id\":\"9c9b9d7b-df69-48d0-8ad0-c31d859b2adc\",\"type\":\"LinearScale\"}},\"id\":\"61621620-ba35-46e5-aa49-78355d03bfbb\",\"subtype\":\"Figure\",\"type\":\"Plot\"},{\"attributes\":{},\"id\":\"29749af1-057e-4382-9d80-ebbdbc88bb23\",\"type\":\"LinearScale\"},{\"attributes\":{\"overlay\":{\"id\":\"0bbdef8a-72a2-4087-8e99-16a526744745\",\"type\":\"BoxAnnotation\"}},\"id\":\"fed21d88-c149-401a-a0bc-509bf961fadd\",\"type\":\"BoxZoomTool\"},{\"attributes\":{\"callback\":null,\"factors\":[\"1\",\"2\",\"3\",\"4\",\"5\",\"6\",\"7\",\"8\",\"9\",\"10\",\"11\"]},\"id\":\"9df26c30-e163-4351-8cdc-2c1b167eb4a6\",\"type\":\"FactorRange\"},{\"attributes\":{\"callback\":null,\"factors\":[\"1\",\"2\",\"3\",\"4\",\"5\",\"6\",\"7\",\"8\",\"9\",\"10\",\"11\"]},\"id\":\"d22b15b9-98a0-436c-b443-296f0e014fd1\",\"type\":\"FactorRange\"},{\"attributes\":{\"callback\":null},\"id\":\"1503f18f-b7c2-4e9b-aade-3d784977d44f\",\"type\":\"DataRange1d\"},{\"attributes\":{},\"id\":\"00c6061f-1ca0-4123-9a58-f52c34cbfda2\",\"type\":\"BasicTickFormatter\"},{\"attributes\":{},\"id\":\"fb7df5e7-9a45-4a3a-be52-0b26adcef339\",\"type\":\"WheelZoomTool\"},{\"attributes\":{\"bottom_units\":\"screen\",\"fill_alpha\":{\"value\":0.5},\"fill_color\":{\"value\":\"lightgrey\"},\"left_units\":\"screen\",\"level\":\"overlay\",\"line_alpha\":{\"value\":1.0},\"line_color\":{\"value\":\"black\"},\"line_dash\":[4,4],\"line_width\":{\"value\":2},\"plot\":null,\"render_mode\":\"css\",\"right_units\":\"screen\",\"top_units\":\"screen\"},\"id\":\"0bbdef8a-72a2-4087-8e99-16a526744745\",\"type\":\"BoxAnnotation\"},{\"attributes\":{},\"id\":\"631fc2ff-8999-418c-b0d5-12f6e031c3a0\",\"type\":\"ResetTool\"},{\"attributes\":{\"children\":[{\"id\":\"ab44c765-36a0-4cd1-8bec-d07a429cb559\",\"type\":\"ToolbarBox\"},{\"id\":\"13ad6602-2c90-4b55-b7ef-0517bf21422a\",\"type\":\"Column\"}]},\"id\":\"f5644630-135f-4bc4-85c5-4548d5587565\",\"type\":\"Column\"},{\"attributes\":{},\"id\":\"d92d6898-eee1-4415-815d-034c1b31488c\",\"type\":\"Selection\"},{\"attributes\":{\"active_drag\":\"auto\",\"active_inspect\":\"auto\",\"active_scroll\":\"auto\",\"active_tap\":\"auto\",\"tools\":[{\"id\":\"6d59c7e5-1d3e-43e7-a66e-4a3e5d7f7d7d\",\"type\":\"PanTool\"},{\"id\":\"ec1055a0-79fb-419b-a105-d64a20b84258\",\"type\":\"WheelZoomTool\"},{\"id\":\"d0addfd5-38a6-4f61-943a-0d79237fd6e1\",\"type\":\"BoxZoomTool\"},{\"id\":\"f6210844-e2c6-46ae-801f-d56033dabddc\",\"type\":\"SaveTool\"},{\"id\":\"a938daa6-c2f7-4e43-9393-13a449271cef\",\"type\":\"ResetTool\"},{\"id\":\"b37a9281-49c5-4426-bc85-00b5d1161dfc\",\"type\":\"HelpTool\"}]},\"id\":\"922d7c67-47ba-4dda-9be6-0ff29c270650\",\"type\":\"Toolbar\"},{\"attributes\":{\"plot\":null,\"text\":\"Atmosphere heating. CLIRAD - CRD.\"},\"id\":\"71a68e8c-faf6-495d-8411-911816e22413\",\"type\":\"Title\"},{\"attributes\":{\"fill_alpha\":{\"value\":0.1},\"fill_color\":{\"value\":\"#1f77b4\"},\"line_alpha\":{\"value\":0.1},\"line_color\":{\"value\":\"#1f77b4\"},\"top\":{\"field\":\"flux\"},\"width\":{\"value\":0.9},\"x\":{\"field\":\"band\"}},\"id\":\"565e32f4-aa69-45db-8072-fb5e609078ff\",\"type\":\"VBar\"},{\"attributes\":{},\"id\":\"81a2225b-8c29-481a-9ca3-0ac3f7b8de91\",\"type\":\"CategoricalTickFormatter\"},{\"attributes\":{\"overlay\":{\"id\":\"a7a9db4a-a6f1-4f54-b0ce-7b1f25332cb4\",\"type\":\"BoxAnnotation\"}},\"id\":\"d0addfd5-38a6-4f61-943a-0d79237fd6e1\",\"type\":\"BoxZoomTool\"},{\"attributes\":{\"plot\":null,\"text\":\"TOA flux. CLIRAD - CRD.\"},\"id\":\"25ea78ff-d76d-494e-9cbd-74835bed1545\",\"type\":\"Title\"},{\"attributes\":{},\"id\":\"f24fac9b-cead-4888-a699-d327ba1feca1\",\"type\":\"CategoricalScale\"},{\"attributes\":{\"source\":{\"id\":\"7c8df1a2-647e-4590-9116-3dbddd18ce66\",\"type\":\"ColumnDataSource\"}},\"id\":\"6b9e9800-c0c0-4fd0-aaad-a7a6e34e5c87\",\"type\":\"CDSView\"},{\"attributes\":{},\"id\":\"e1726d02-4357-421a-8ee9-a1c51ac917a5\",\"type\":\"Selection\"},{\"attributes\":{\"fill_color\":{\"value\":\"#1f77b4\"},\"line_color\":{\"value\":\"#1f77b4\"},\"top\":{\"field\":\"flux\"},\"width\":{\"value\":0.9},\"x\":{\"field\":\"band\"}},\"id\":\"c3a46e41-f61b-4f8a-9341-85e55d5fafe5\",\"type\":\"VBar\"},{\"attributes\":{\"callback\":null,\"data\":{\"band\":[\"1\",\"2\",\"3\",\"4\",\"5\",\"6\",\"7\",\"8\",\"9\",\"10\",\"11\"],\"flux\":{\"__ndarray__\":\"gEyKZtCWxz8Aq5Dyk2rKP6DFJX0QuNw/gGKVqmtvsz8A39J7dDS4vwCW32ky47U/wPOnjep0zD8AxjjazHywPwCB3mXQGo0/gJjl8uzgpL/AnbAnLoWPPw==\",\"dtype\":\"float64\",\"shape\":[11]}},\"selected\":{\"id\":\"811aa8fe-5ae5-47b3-9d1d-8a6282014f15\",\"type\":\"Selection\"},\"selection_policy\":{\"id\":\"82318f99-0b4a-44ce-af2a-af30d16e9070\",\"type\":\"UnionRenderers\"}},\"id\":\"fcd93613-4775-4532-ae85-8904fc15157e\",\"type\":\"ColumnDataSource\"},{\"attributes\":{\"plot\":null,\"text\":\"SFC flux. CLIRAD - CRD.\"},\"id\":\"888a0200-c1e8-4b2b-8a8c-5fc963fb0df5\",\"type\":\"Title\"},{\"attributes\":{},\"id\":\"befbecab-53a5-4fcf-84d8-2525333fef7a\",\"type\":\"BasicTickFormatter\"},{\"attributes\":{},\"id\":\"45925afc-d302-4477-b97b-f272e3d8d849\",\"type\":\"UnionRenderers\"},{\"attributes\":{\"below\":[{\"id\":\"bcad2ff2-bfd3-438f-bdaa-794a366ed582\",\"type\":\"CategoricalAxis\"}],\"left\":[{\"id\":\"8b9ac354-e396-45e3-b182-742f36f0df8b\",\"type\":\"LinearAxis\"}],\"plot_height\":300,\"plot_width\":300,\"renderers\":[{\"id\":\"bcad2ff2-bfd3-438f-bdaa-794a366ed582\",\"type\":\"CategoricalAxis\"},{\"id\":\"7003f7ad-8448-47da-ad82-21b28c8659bc\",\"type\":\"Grid\"},{\"id\":\"8b9ac354-e396-45e3-b182-742f36f0df8b\",\"type\":\"LinearAxis\"},{\"id\":\"104a2bc8-ce6a-4b03-872c-2cdc74604a22\",\"type\":\"Grid\"},{\"id\":\"0bbdef8a-72a2-4087-8e99-16a526744745\",\"type\":\"BoxAnnotation\"},{\"id\":\"6e944aef-b2d8-4559-ab2b-40174fa826c6\",\"type\":\"GlyphRenderer\"}],\"title\":{\"id\":\"71a68e8c-faf6-495d-8411-911816e22413\",\"type\":\"Title\"},\"toolbar\":{\"id\":\"de092edc-3e9f-4895-b9c1-306391f39309\",\"type\":\"Toolbar\"},\"toolbar_location\":null,\"x_range\":{\"id\":\"9df26c30-e163-4351-8cdc-2c1b167eb4a6\",\"type\":\"FactorRange\"},\"x_scale\":{\"id\":\"3bd196b6-c99e-4e66-8742-e80b67d68160\",\"type\":\"CategoricalScale\"},\"y_range\":{\"id\":\"03337ad2-aed1-4f38-adc2-d830fe6f39c5\",\"type\":\"DataRange1d\"},\"y_scale\":{\"id\":\"d897ea6f-3f45-474b-9099-c7b7bebfaf92\",\"type\":\"LinearScale\"}},\"id\":\"644ba874-cde8-4f30-b90d-fb379a75edb4\",\"subtype\":\"Figure\",\"type\":\"Plot\"},{\"attributes\":{},\"id\":\"6d59c7e5-1d3e-43e7-a66e-4a3e5d7f7d7d\",\"type\":\"PanTool\"},{\"attributes\":{\"fill_alpha\":{\"value\":0.1},\"fill_color\":{\"value\":\"#1f77b4\"},\"line_alpha\":{\"value\":0.1},\"line_color\":{\"value\":\"#1f77b4\"},\"top\":{\"field\":\"flux\"},\"width\":{\"value\":0.9},\"x\":{\"field\":\"band\"}},\"id\":\"eae790d5-8da6-4e46-8bb9-510648bc70ff\",\"type\":\"VBar\"},{\"attributes\":{},\"id\":\"4fc24d3b-171b-45b6-b79a-a53c5c696fe1\",\"type\":\"UnionRenderers\"},{\"attributes\":{},\"id\":\"b02fa6e9-a009-47c8-b9ec-aa688c206143\",\"type\":\"PanTool\"},{\"attributes\":{\"dimension\":1,\"plot\":{\"id\":\"61621620-ba35-46e5-aa49-78355d03bfbb\",\"subtype\":\"Figure\",\"type\":\"Plot\"},\"ticker\":{\"id\":\"8894fb96-f71d-4aa9-9d7d-1e1891601865\",\"type\":\"BasicTicker\"}},\"id\":\"fa198974-d579-40af-a990-c0a37b66e737\",\"type\":\"Grid\"},{\"attributes\":{\"data_source\":{\"id\":\"fcd93613-4775-4532-ae85-8904fc15157e\",\"type\":\"ColumnDataSource\"},\"glyph\":{\"id\":\"1f45ac04-967b-4853-8a83-17d8c04f7a6f\",\"type\":\"VBar\"},\"hover_glyph\":null,\"muted_glyph\":null,\"nonselection_glyph\":{\"id\":\"565e32f4-aa69-45db-8072-fb5e609078ff\",\"type\":\"VBar\"},\"selection_glyph\":null,\"view\":{\"id\":\"7b68135e-4f83-4123-a7a4-3caf073bf247\",\"type\":\"CDSView\"}},\"id\":\"6e944aef-b2d8-4559-ab2b-40174fa826c6\",\"type\":\"GlyphRenderer\"}],\"root_ids\":[\"f5644630-135f-4bc4-85c5-4548d5587565\"]},\"title\":\"Bokeh Application\",\"version\":\"0.12.16\"}};\n",
       "  var render_items = [{\"docid\":\"796d8222-71d0-4f74-8697-ac44d0c5349c\",\"elementid\":\"c2f87f4b-6ce2-4b1c-98c7-0d1cda9e15b6\",\"modelid\":\"f5644630-135f-4bc4-85c5-4548d5587565\"}];\n",
       "  root.Bokeh.embed.embed_items_notebook(docs_json, render_items);\n",
       "\n",
       "  }\n",
       "  if (root.Bokeh !== undefined) {\n",
       "    embed_document(root);\n",
       "  } else {\n",
       "    var attempts = 0;\n",
       "    var timer = setInterval(function(root) {\n",
       "      if (root.Bokeh !== undefined) {\n",
       "        embed_document(root);\n",
       "        clearInterval(timer);\n",
       "      }\n",
       "      attempts++;\n",
       "      if (attempts > 100) {\n",
       "        console.log(\"Bokeh: ERROR: Unable to run BokehJS code because BokehJS library is missing\")\n",
       "        clearInterval(timer);\n",
       "      }\n",
       "    }, 10, root)\n",
       "  }\n",
       "})(window);"
      ],
      "application/vnd.bokehjs_exec.v0+json": ""
     },
     "metadata": {
      "application/vnd.bokehjs_exec.v0+json": {
       "id": "f5644630-135f-4bc4-85c5-4548d5587565"
      }
     },
     "output_type": "display_data"
    },
    {
     "data": {
      "text/markdown": [
       "*FIGURE.* Difference between CLIRAD and CRD in TOA, SFC and net atmosphere flux, in each spectral band."
      ],
      "text/plain": [
       "<IPython.core.display.Markdown object>"
      ]
     },
     "metadata": {},
     "output_type": "display_data"
    },
    {
     "data": {
      "text/html": [
       "<div>\n",
       "<style scoped>\n",
       "    .dataframe tbody tr th:only-of-type {\n",
       "        vertical-align: middle;\n",
       "    }\n",
       "\n",
       "    .dataframe tbody tr th {\n",
       "        vertical-align: top;\n",
       "    }\n",
       "\n",
       "    .dataframe thead th {\n",
       "        text-align: right;\n",
       "    }\n",
       "</style>\n",
       "<table border=\"1\" class=\"dataframe\">\n",
       "  <thead>\n",
       "    <tr style=\"text-align: right;\">\n",
       "      <th></th>\n",
       "      <th>OLR flux</th>\n",
       "      <th>SFC flux</th>\n",
       "      <th>ATM heating</th>\n",
       "    </tr>\n",
       "    <tr>\n",
       "      <th>Sum over bands</th>\n",
       "      <th></th>\n",
       "      <th></th>\n",
       "      <th></th>\n",
       "    </tr>\n",
       "  </thead>\n",
       "  <tbody>\n",
       "    <tr>\n",
       "      <th>CLIRAD - CRD</th>\n",
       "      <td>0.73</td>\n",
       "      <td>-0.45</td>\n",
       "      <td>1.18</td>\n",
       "    </tr>\n",
       "    <tr>\n",
       "      <th>CRD</th>\n",
       "      <td>-201.06</td>\n",
       "      <td>166.03</td>\n",
       "      <td>-119.67</td>\n",
       "    </tr>\n",
       "  </tbody>\n",
       "</table>\n",
       "</div>"
      ],
      "text/plain": [
       "                OLR flux  SFC flux  ATM heating\n",
       "Sum over bands                                 \n",
       "CLIRAD - CRD        0.73     -0.45         1.18\n",
       "CRD              -201.06    166.03      -119.67"
      ]
     },
     "metadata": {},
     "output_type": "display_data"
    },
    {
     "data": {
      "text/markdown": [
       "*TABLE.* Difference between CLIRAD and CRD in TOA, SFC and net atmosphere flux, over all spectral bands. CRD's TOA, SFC and net atmosphere flux, over all spectral bands."
      ],
      "text/plain": [
       "<IPython.core.display.Markdown object>"
      ]
     },
     "metadata": {},
     "output_type": "display_data"
    },
    {
     "data": {
      "text/html": [
       "<a id=\"Cooling_rates._trp.\"></a>"
      ],
      "text/plain": [
       "<IPython.core.display.HTML object>"
      ]
     },
     "metadata": {},
     "output_type": "display_data"
    },
    {
     "data": {
      "text/markdown": [
       "# Cooling rates. trp."
      ],
      "text/plain": [
       "<IPython.core.display.Markdown object>"
      ]
     },
     "metadata": {},
     "output_type": "display_data"
    },
    {
     "data": {
      "text/html": [
       "\n",
       "<div class=\"bk-root\">\n",
       "    <div class=\"bk-plotdiv\" id=\"22b98c33-733a-4a0f-8482-f750eda07a6b\"></div>\n",
       "</div>"
      ]
     },
     "metadata": {},
     "output_type": "display_data"
    },
    {
     "data": {
      "application/javascript": [
       "(function(root) {\n",
       "  function embed_document(root) {\n",
       "    \n",
       "  var docs_json = {\"d0e15383-a8e1-4b30-9662-6664bcfd14ea\":{\"roots\":{\"references\":[{\"attributes\":{},\"id\":\"4a3e3085-bc0b-435e-b169-ee5c9709503e\",\"type\":\"WheelZoomTool\"},{\"attributes\":{},\"id\":\"c8e92fb2-81d0-4b3b-b6d6-98a11e503bef\",\"type\":\"SaveTool\"},{\"attributes\":{},\"id\":\"3e1702bb-73c3-4464-82fb-d9acca7543f3\",\"type\":\"ResetTool\"},{\"attributes\":{},\"id\":\"e6701d5c-33bb-4d53-8877-985bf85c9dbd\",\"type\":\"PanTool\"},{\"attributes\":{\"label\":{\"value\":\"CLIRAD\"},\"renderers\":[{\"id\":\"7fc01128-dba2-4903-8844-b9f3d92d7156\",\"type\":\"GlyphRenderer\"}]},\"id\":\"aafe3743-ec2d-4302-becb-93684030d544\",\"type\":\"LegendItem\"},{\"attributes\":{\"bottom_units\":\"screen\",\"fill_alpha\":{\"value\":0.5},\"fill_color\":{\"value\":\"lightgrey\"},\"left_units\":\"screen\",\"level\":\"overlay\",\"line_alpha\":{\"value\":1.0},\"line_color\":{\"value\":\"black\"},\"line_dash\":[4,4],\"line_width\":{\"value\":2},\"plot\":null,\"render_mode\":\"css\",\"right_units\":\"screen\",\"top_units\":\"screen\"},\"id\":\"dda5f4a2-0283-4910-b85d-d78ecb50f73a\",\"type\":\"BoxAnnotation\"},{\"attributes\":{\"overlay\":{\"id\":\"dda5f4a2-0283-4910-b85d-d78ecb50f73a\",\"type\":\"BoxAnnotation\"}},\"id\":\"d9c01706-79fa-4c58-b255-36656cb20989\",\"type\":\"BoxZoomTool\"},{\"attributes\":{},\"id\":\"64a49269-7c9f-40ef-a1c9-eb31ec2f6875\",\"type\":\"HelpTool\"},{\"attributes\":{\"data_source\":{\"id\":\"539a9b1d-4f4c-42e3-9099-192edad0aceb\",\"type\":\"ColumnDataSource\"},\"glyph\":{\"id\":\"ab220237-5984-4ce2-ba9d-7ba9f13e4b5e\",\"type\":\"Line\"},\"hover_glyph\":null,\"muted_glyph\":null,\"nonselection_glyph\":{\"id\":\"e2bec429-cbf9-4ff2-a487-e32256182f9c\",\"type\":\"Line\"},\"selection_glyph\":null,\"view\":{\"id\":\"c1c11f8a-d9c4-4d0a-8dad-b3ec47855a75\",\"type\":\"CDSView\"}},\"id\":\"4e3c1247-220a-4ded-a412-47b13f3ca3da\",\"type\":\"GlyphRenderer\"},{\"attributes\":{\"callback\":null,\"end\":0.01,\"start\":1020},\"id\":\"6695b492-1374-4638-a9a3-3ee1549afc60\",\"type\":\"Range1d\"},{\"attributes\":{\"line_alpha\":0.1,\"line_color\":\"#1f77b4\",\"line_width\":1.5,\"x\":{\"field\":\"x\"},\"y\":{\"field\":\"y\"}},\"id\":\"e2bec429-cbf9-4ff2-a487-e32256182f9c\",\"type\":\"Line\"},{\"attributes\":{},\"id\":\"9ac51bf6-02a6-4679-8c40-ef2c676e0464\",\"type\":\"UnionRenderers\"},{\"attributes\":{\"above\":[{\"id\":\"35e5b45f-ab7a-44f0-b9c5-cdccc212dd3d\",\"type\":\"Legend\"}],\"below\":[{\"id\":\"7326fe7c-564f-45de-ab9f-9f901fe790b4\",\"type\":\"LinearAxis\"}],\"left\":[{\"id\":\"a2dcc7f4-fe08-4b61-a48a-fabc48e06ca1\",\"type\":\"LogAxis\"}],\"plot_width\":300,\"renderers\":[{\"id\":\"7326fe7c-564f-45de-ab9f-9f901fe790b4\",\"type\":\"LinearAxis\"},{\"id\":\"9abdf356-aab4-4aeb-80d4-41a3a49558b4\",\"type\":\"Grid\"},{\"id\":\"a2dcc7f4-fe08-4b61-a48a-fabc48e06ca1\",\"type\":\"LogAxis\"},{\"id\":\"8a330947-e6f7-4116-9538-f1b010c09101\",\"type\":\"Grid\"},{\"id\":\"400ee4ed-e468-4fc2-a479-9ba013100ab1\",\"type\":\"BoxAnnotation\"},{\"id\":\"21e1ea6e-4ab3-4af3-bd68-fae7d472e141\",\"type\":\"GlyphRenderer\"},{\"id\":\"4e3c1247-220a-4ded-a412-47b13f3ca3da\",\"type\":\"GlyphRenderer\"},{\"id\":\"35e5b45f-ab7a-44f0-b9c5-cdccc212dd3d\",\"type\":\"Legend\"}],\"title\":{\"id\":\"47b9ae99-d725-45ce-abec-70f03823dfd6\",\"type\":\"Title\"},\"toolbar\":{\"id\":\"121db606-9869-407b-a94b-b85119f9ff5b\",\"type\":\"Toolbar\"},\"toolbar_location\":null,\"x_range\":{\"id\":\"0618e688-c274-4d83-826c-8d2c29b656e4\",\"type\":\"Range1d\"},\"x_scale\":{\"id\":\"abc247df-7891-425d-aaee-b3a6648b59fc\",\"type\":\"LinearScale\"},\"y_range\":{\"id\":\"75705f0a-a284-460e-b36c-c9d6187e50e4\",\"type\":\"Range1d\"},\"y_scale\":{\"id\":\"4d6c3be3-3d8f-4721-b0f8-e16b32f39b55\",\"type\":\"LogScale\"}},\"id\":\"c9e50fd7-6cd7-4bcf-a76d-ced5956f7728\",\"subtype\":\"Figure\",\"type\":\"Plot\"},{\"attributes\":{\"overlay\":{\"id\":\"400ee4ed-e468-4fc2-a479-9ba013100ab1\",\"type\":\"BoxAnnotation\"}},\"id\":\"aae9b286-d5e7-4a3d-a29e-528a38043c16\",\"type\":\"BoxZoomTool\"},{\"attributes\":{\"data_source\":{\"id\":\"23940d5a-93ef-4fa5-b34c-7e236f16ada8\",\"type\":\"ColumnDataSource\"},\"glyph\":{\"id\":\"fffec913-20e8-4d38-9274-4b052cdef8a7\",\"type\":\"Circle\"},\"hover_glyph\":null,\"muted_glyph\":null,\"nonselection_glyph\":{\"id\":\"1df4b4e1-e745-4f41-9bce-c00d400acabe\",\"type\":\"Circle\"},\"selection_glyph\":null,\"view\":{\"id\":\"819a23c9-fe50-47e1-9b34-98b547978c14\",\"type\":\"CDSView\"}},\"id\":\"246ad99f-924f-4403-be03-529d57fa6376\",\"type\":\"GlyphRenderer\"},{\"attributes\":{\"children\":[{\"id\":\"8dea5497-a386-41ec-8963-692da937b145\",\"type\":\"Row\"}]},\"id\":\"4d176f3a-3dd3-4bec-a60d-1b27b632b0d7\",\"type\":\"Column\"},{\"attributes\":{\"line_alpha\":0.1,\"line_color\":\"#1f77b4\",\"line_width\":1.5,\"x\":{\"field\":\"x\"},\"y\":{\"field\":\"y\"}},\"id\":\"62a62002-83fc-4394-93c1-7fb9ac431d18\",\"type\":\"Line\"},{\"attributes\":{\"line_color\":\"#4daf4a\",\"line_width\":1.5,\"x\":{\"field\":\"x\"},\"y\":{\"field\":\"y\"}},\"id\":\"026235fb-1448-4812-ab67-1bcb018dfbe0\",\"type\":\"Line\"},{\"attributes\":{\"source\":{\"id\":\"92746473-395a-4bc8-b935-e1959791cf81\",\"type\":\"ColumnDataSource\"}},\"id\":\"2cc2f575-b76a-4adc-9607-52f2cec221a8\",\"type\":\"CDSView\"},{\"attributes\":{\"source\":{\"id\":\"539a9b1d-4f4c-42e3-9099-192edad0aceb\",\"type\":\"ColumnDataSource\"}},\"id\":\"c1c11f8a-d9c4-4d0a-8dad-b3ec47855a75\",\"type\":\"CDSView\"},{\"attributes\":{\"bottom_units\":\"screen\",\"fill_alpha\":{\"value\":0.5},\"fill_color\":{\"value\":\"lightgrey\"},\"left_units\":\"screen\",\"level\":\"overlay\",\"line_alpha\":{\"value\":1.0},\"line_color\":{\"value\":\"black\"},\"line_dash\":[4,4],\"line_width\":{\"value\":2},\"plot\":null,\"render_mode\":\"css\",\"right_units\":\"screen\",\"top_units\":\"screen\"},\"id\":\"400ee4ed-e468-4fc2-a479-9ba013100ab1\",\"type\":\"BoxAnnotation\"},{\"attributes\":{\"source\":{\"id\":\"23940d5a-93ef-4fa5-b34c-7e236f16ada8\",\"type\":\"ColumnDataSource\"}},\"id\":\"819a23c9-fe50-47e1-9b34-98b547978c14\",\"type\":\"CDSView\"},{\"attributes\":{},\"id\":\"e31adda3-ec26-4073-b788-8a38a7a427db\",\"type\":\"UnionRenderers\"},{\"attributes\":{\"plot\":null,\"text\":\"\"},\"id\":\"20960c52-88e4-49e2-ba14-36e27bedade0\",\"type\":\"Title\"},{\"attributes\":{\"plot\":null,\"text\":\"\"},\"id\":\"a6c5b0d8-ea3f-44ce-a763-4050f950bcfe\",\"type\":\"Title\"},{\"attributes\":{},\"id\":\"3501ec5a-4fdc-494a-96d8-13ee3f832b00\",\"type\":\"BasicTicker\"},{\"attributes\":{\"callback\":null,\"data\":{\"x\":{\"__ndarray__\":\"R/KIaN7AVEClCeJMyPNGQOvRhpxr30JAptxzhxx4PkA7SssMElA4QK6Bp3CyUDNAsVXpjES9LkBFhUV0+5coQMHYwqbbySNA6f09nM3nH0CaSd/3eYoZQDmgiAOW8BNAPYqARh3eDEBkm4vCgvr+P9D+5tWhQfY/P8DwKRnSAkBq38kb17ILQDT7IWuSsxFAUr2Rjm0FFkAinq3s9XgbQGCHwtYcqSFAG64kT303J0C7dRDneyooQD9JYrbK8yRA9S3bneHhIUAIymSuUMMcQIkHLe6VEBdAAau3cITREkA6CiNvkQIPQJU39ki7IQlAaAvwok1UA0BXLQiS4+L7P0xzDpJ2hPI/NNuPGMbJ5z91mUVYxqfSPxqwUPSxZca/G11peifD3L8QzNj5t2jTvwzOozTL360/SPJ4VI1VzD9KJ0nXEIncP8yDdlvHt+4/Et49nYLW9z++2teD4Jn+P+568eH/bwFALf5D9lmAAkCiZAicVOkCQPPT4jNKxwJAOjp3wTzBAUBSQsKNGisBQG4OmjqJwQBAJ3sZoHFuAEA5Ar0Sdi0AQGy4rw5+9f8/7W4nSrC3/z8mPr8zj4T/P4UYRHCQS/8/embVKYcF/z+5YXG+LLP+P/qb8BVUgf4/KvafTtyO/j/avAK1Ppv+PwJV9VVm2P0/JFtYlU/n/D9sN+q2fiX6Pw44e41PNPc/Opt+Z/wN9T+x3vcSW1vzP9ofvWQJlvI/8sciQQBW8j80sfkQa17yPzg5qng2r/I/Oh14WJBh8z+VZjnpctj0P6CcrSuCqQBA\",\"dtype\":\"float64\",\"shape\":[75]},\"y\":{\"__ndarray__\":\"GhExyth1ND/Sv8nbtpRIP2vylNV0PVE/aTum7souWD/At0SJ8fVgPw3Iuahxymc/MSNhhJWvcD/bTfBN02d3P2zb5nxnaoA/CD5h5MAGhz8NmeH1TyaQP+zrCsc9p5Y/LbKd76fGnz/bLW5ISEmmPww9YvTcQq8/JV2OstnstT8Er5Y7M8G+P0c+r3jqkcU/5h99k6ZBzj88bCIzFzjVP4enV8oyxN0//yH99nXg5D8qOpLLf0jtP5kqGJXUifQ/c9cS8kHP/D+/DpwzojQEQIEmwoanVwxA4lgXt9HgE0BSSZ2AJuIbQAMJih9jjiNA5q4l5INuK0AwTKYKRj0zQNv5fmq8/DpAaCJseHrtQkB/+zpwzoxKQM3MzMzMeFJAZmZmZmZqWEAAAAAAAFxeQM3MzMzMJmJAmpmZmZkfZUBmZmZmZhhoQDMzMzMzEWtAAAAAAAAKbkBmZmZmZoFwQM3MzMzM/XFAMzMzMzN6c0CamZmZmfZ0QAAAAAAAc3ZAZmZmZmbvd0DNzMzMzGt5QDMzMzMz6HpAmpmZmZlkfEAAAAAAAOF9QGZmZmZmXX9AZmZmZuZsgECamZmZGSuBQM3MzMxM6YFAAAAAAICngkAzMzMzs2WDQGZmZmbmI4RAmpmZmRnihEDNzMzMTKCFQAAAAACAXoZAMzMzM7Mch0BmZmZm5tqHQJqZmZkZmYhAzczMzExXiUAAAAAAgBWKQDMzMzOz04pAZmZmZuaRi0CamZmZGVCMQM3MzMxMDo1AAAAAAIDMjUAzMzMzs4qOQGZmZmbmSI9A\",\"dtype\":\"float64\",\"shape\":[75]}},\"selected\":{\"id\":\"c9dad3a9-b769-4925-8bd6-adda5aefc1e4\",\"type\":\"Selection\"},\"selection_policy\":{\"id\":\"a558c788-7f5b-4380-8a5f-c87c0a82d1b4\",\"type\":\"UnionRenderers\"}},\"id\":\"36496129-1a21-4773-ba6b-ebb9ab87c683\",\"type\":\"ColumnDataSource\"},{\"attributes\":{},\"id\":\"efc74f6f-9cb4-4a86-9a03-c089330d2d97\",\"type\":\"HelpTool\"},{\"attributes\":{\"axis_label\":\"pressure [mb]\",\"formatter\":{\"id\":\"4fe7c580-4e02-4a3c-a26c-4ee96869781f\",\"type\":\"LogTickFormatter\"},\"plot\":{\"id\":\"a2dfe51c-4295-4f03-8314-3ff2941e86cf\",\"subtype\":\"Figure\",\"type\":\"Plot\"},\"ticker\":{\"id\":\"c86133e5-dd94-4ce2-b71e-c6fe761a567c\",\"type\":\"LogTicker\"}},\"id\":\"e1a12fdb-0780-497a-8f7c-d2a4f6a07a40\",\"type\":\"LogAxis\"},{\"attributes\":{\"items\":[{\"id\":\"aafe3743-ec2d-4302-becb-93684030d544\",\"type\":\"LegendItem\"},{\"id\":\"d8fa22e6-e988-4303-a3e6-0c41740fb516\",\"type\":\"LegendItem\"}],\"label_text_font_size\":{\"value\":\"8pt\"},\"location\":\"top_center\",\"orientation\":\"horizontal\",\"plot\":{\"id\":\"a2dfe51c-4295-4f03-8314-3ff2941e86cf\",\"subtype\":\"Figure\",\"type\":\"Plot\"}},\"id\":\"b58f649d-fdc9-4782-8622-2a2bab76d31f\",\"type\":\"Legend\"},{\"attributes\":{},\"id\":\"0a4505ee-876a-4f5b-bc27-f63e620d1772\",\"type\":\"ResetTool\"},{\"attributes\":{\"num_minor_ticks\":10},\"id\":\"d1fd25c0-77f0-413a-b047-8d1210630ecc\",\"type\":\"LogTicker\"},{\"attributes\":{},\"id\":\"a7207cef-8ebc-4eea-9a86-1b224d29e979\",\"type\":\"SaveTool\"},{\"attributes\":{},\"id\":\"bd1aab0a-a026-42a6-8ae4-82fc5e0fbadd\",\"type\":\"PanTool\"},{\"attributes\":{},\"id\":\"e719d9de-fa01-464b-afce-394d489ad74f\",\"type\":\"Selection\"},{\"attributes\":{\"active_drag\":\"auto\",\"active_inspect\":\"auto\",\"active_scroll\":\"auto\",\"active_tap\":\"auto\",\"tools\":[{\"id\":\"e6701d5c-33bb-4d53-8877-985bf85c9dbd\",\"type\":\"PanTool\"},{\"id\":\"4a3e3085-bc0b-435e-b169-ee5c9709503e\",\"type\":\"WheelZoomTool\"},{\"id\":\"d9c01706-79fa-4c58-b255-36656cb20989\",\"type\":\"BoxZoomTool\"},{\"id\":\"c8e92fb2-81d0-4b3b-b6d6-98a11e503bef\",\"type\":\"SaveTool\"},{\"id\":\"3e1702bb-73c3-4464-82fb-d9acca7543f3\",\"type\":\"ResetTool\"},{\"id\":\"64a49269-7c9f-40ef-a1c9-eb31ec2f6875\",\"type\":\"HelpTool\"}]},\"id\":\"7cf64c24-309f-4d9e-b31d-6e18b89591b5\",\"type\":\"Toolbar\"},{\"attributes\":{},\"id\":\"ab940e91-33e2-4aad-86ca-1e9ed2f99635\",\"type\":\"WheelZoomTool\"},{\"attributes\":{\"active_drag\":\"auto\",\"active_inspect\":\"auto\",\"active_scroll\":\"auto\",\"active_tap\":\"auto\",\"tools\":[{\"id\":\"f3723903-8bd2-44c1-b246-6a18e7d7a59b\",\"type\":\"PanTool\"},{\"id\":\"b5a0f9e9-ff47-4fde-b770-ccbe58998830\",\"type\":\"WheelZoomTool\"},{\"id\":\"af9ed121-44df-46a3-8d88-4237ebeba02c\",\"type\":\"BoxZoomTool\"},{\"id\":\"c0f1b30a-3cc2-455b-8018-3dcb79ec5389\",\"type\":\"SaveTool\"},{\"id\":\"bf16d824-bc79-440f-a034-b36d02da5b10\",\"type\":\"ResetTool\"},{\"id\":\"dc45045a-3b6e-48dc-816c-68764208f6c0\",\"type\":\"HelpTool\"}]},\"id\":\"26f42246-fd2c-468a-b988-ece436e075bf\",\"type\":\"Toolbar\"},{\"attributes\":{\"label\":{\"value\":\"CRD\"},\"renderers\":[{\"id\":\"e63ce4d8-ca5f-43b1-9f3a-05349d5e66ea\",\"type\":\"GlyphRenderer\"},{\"id\":\"fb71bb34-2d37-44ea-ac8a-cae34200a506\",\"type\":\"GlyphRenderer\"}]},\"id\":\"b7df7354-f417-4a66-b02f-a440ae9efa7d\",\"type\":\"LegendItem\"},{\"attributes\":{\"fill_alpha\":{\"value\":0.1},\"fill_color\":{\"value\":\"#1f77b4\"},\"line_alpha\":{\"value\":0.1},\"line_color\":{\"value\":\"#1f77b4\"},\"x\":{\"field\":\"x\"},\"y\":{\"field\":\"y\"}},\"id\":\"1df4b4e1-e745-4f41-9bce-c00d400acabe\",\"type\":\"Circle\"},{\"attributes\":{\"axis_label\":\"cooling rate [K/day]\",\"formatter\":{\"id\":\"a9263894-b28c-40ff-b279-bab2be8a4e74\",\"type\":\"BasicTickFormatter\"},\"plot\":{\"id\":\"a2dfe51c-4295-4f03-8314-3ff2941e86cf\",\"subtype\":\"Figure\",\"type\":\"Plot\"},\"ticker\":{\"id\":\"3501ec5a-4fdc-494a-96d8-13ee3f832b00\",\"type\":\"BasicTicker\"}},\"id\":\"e3a41ac2-593a-405c-b4b6-4e2aed9f0f41\",\"type\":\"LinearAxis\"},{\"attributes\":{},\"id\":\"a6566a3c-792e-4f9b-85e9-3bbade49e072\",\"type\":\"UnionRenderers\"},{\"attributes\":{\"callback\":null,\"end\":2.392793821310531,\"start\":-0.5512230232235301},\"id\":\"ab335dd4-f1a4-4385-a1e3-c9e8ae3240a6\",\"type\":\"Range1d\"},{\"attributes\":{\"children\":[{\"id\":\"ab694cb8-67ca-4d7c-8168-ba8b82b99137\",\"subtype\":\"Figure\",\"type\":\"Plot\"},{\"id\":\"a2dfe51c-4295-4f03-8314-3ff2941e86cf\",\"subtype\":\"Figure\",\"type\":\"Plot\"},{\"id\":\"c9e50fd7-6cd7-4bcf-a76d-ced5956f7728\",\"subtype\":\"Figure\",\"type\":\"Plot\"}]},\"id\":\"8dea5497-a386-41ec-8963-692da937b145\",\"type\":\"Row\"},{\"attributes\":{\"fill_alpha\":{\"value\":0.7},\"fill_color\":{\"value\":\"#4daf4a\"},\"line_alpha\":{\"value\":0.7},\"line_color\":{\"value\":\"#4daf4a\"},\"x\":{\"field\":\"x\"},\"y\":{\"field\":\"y\"}},\"id\":\"fffec913-20e8-4d38-9274-4b052cdef8a7\",\"type\":\"Circle\"},{\"attributes\":{\"source\":{\"id\":\"d96c3a59-04bd-42dd-b647-93e97fca5030\",\"type\":\"ColumnDataSource\"}},\"id\":\"4da901e6-db91-4f5e-aabb-0499c650927c\",\"type\":\"CDSView\"},{\"attributes\":{},\"id\":\"bd51cc85-f4f2-41f5-8625-0ae1031c1470\",\"type\":\"Selection\"},{\"attributes\":{\"plot\":{\"id\":\"a2dfe51c-4295-4f03-8314-3ff2941e86cf\",\"subtype\":\"Figure\",\"type\":\"Plot\"},\"ticker\":{\"id\":\"3501ec5a-4fdc-494a-96d8-13ee3f832b00\",\"type\":\"BasicTicker\"}},\"id\":\"7df85e0e-2b7e-46f4-9d8c-4159bf594dc4\",\"type\":\"Grid\"},{\"attributes\":{},\"id\":\"9e0a842d-9cd3-465d-ada6-181129171679\",\"type\":\"LinearScale\"},{\"attributes\":{\"label\":{\"value\":\"CLIRAD - CRD\"},\"renderers\":[{\"id\":\"21e1ea6e-4ab3-4af3-bd68-fae7d472e141\",\"type\":\"GlyphRenderer\"},{\"id\":\"4e3c1247-220a-4ded-a412-47b13f3ca3da\",\"type\":\"GlyphRenderer\"}]},\"id\":\"1802b083-12c2-49ff-adef-5a5a38e2143d\",\"type\":\"LegendItem\"},{\"attributes\":{\"data_source\":{\"id\":\"92746473-395a-4bc8-b935-e1959791cf81\",\"type\":\"ColumnDataSource\"},\"glyph\":{\"id\":\"026235fb-1448-4812-ab67-1bcb018dfbe0\",\"type\":\"Line\"},\"hover_glyph\":null,\"muted_glyph\":null,\"nonselection_glyph\":{\"id\":\"9f840944-d7c6-45c4-a308-69d7a845798e\",\"type\":\"Line\"},\"selection_glyph\":null,\"view\":{\"id\":\"2cc2f575-b76a-4adc-9607-52f2cec221a8\",\"type\":\"CDSView\"}},\"id\":\"fb71bb34-2d37-44ea-ac8a-cae34200a506\",\"type\":\"GlyphRenderer\"},{\"attributes\":{\"line_color\":\"#4daf4a\",\"line_width\":1.5,\"x\":{\"field\":\"x\"},\"y\":{\"field\":\"y\"}},\"id\":\"c14098b0-2f94-4238-9eb1-7152a0995a0e\",\"type\":\"Line\"},{\"attributes\":{\"data_source\":{\"id\":\"36496129-1a21-4773-ba6b-ebb9ab87c683\",\"type\":\"ColumnDataSource\"},\"glyph\":{\"id\":\"c14098b0-2f94-4238-9eb1-7152a0995a0e\",\"type\":\"Line\"},\"hover_glyph\":null,\"muted_glyph\":null,\"nonselection_glyph\":{\"id\":\"62a62002-83fc-4394-93c1-7fb9ac431d18\",\"type\":\"Line\"},\"selection_glyph\":null,\"view\":{\"id\":\"881a6c87-cd2b-453c-9fcd-cae6d46c1a2c\",\"type\":\"CDSView\"}},\"id\":\"21144914-8ac6-43d5-bc84-04e2d726ede9\",\"type\":\"GlyphRenderer\"},{\"attributes\":{\"callback\":null,\"end\":0.01,\"start\":1020},\"id\":\"75705f0a-a284-460e-b36c-c9d6187e50e4\",\"type\":\"Range1d\"},{\"attributes\":{\"dimension\":1,\"plot\":{\"id\":\"c9e50fd7-6cd7-4bcf-a76d-ced5956f7728\",\"subtype\":\"Figure\",\"type\":\"Plot\"},\"ticker\":{\"id\":\"d1fd25c0-77f0-413a-b047-8d1210630ecc\",\"type\":\"LogTicker\"}},\"id\":\"8a330947-e6f7-4116-9538-f1b010c09101\",\"type\":\"Grid\"},{\"attributes\":{\"line_alpha\":0.1,\"line_color\":\"#1f77b4\",\"line_width\":1.5,\"x\":{\"field\":\"x\"},\"y\":{\"field\":\"y\"}},\"id\":\"9f840944-d7c6-45c4-a308-69d7a845798e\",\"type\":\"Line\"},{\"attributes\":{},\"id\":\"dc607367-454e-4b6d-a047-aef401fde2c7\",\"type\":\"LogScale\"},{\"attributes\":{\"label\":{\"value\":\"CLIRAD\"},\"renderers\":[{\"id\":\"f2c5cb6c-b4a1-4afa-91e2-ba861a46a8ea\",\"type\":\"GlyphRenderer\"}]},\"id\":\"59103d53-afbb-41ab-8ff6-8c459f4f23f0\",\"type\":\"LegendItem\"},{\"attributes\":{},\"id\":\"562fb7fa-8aff-4c43-a16f-fc5a453a2a9e\",\"type\":\"UnionRenderers\"},{\"attributes\":{\"above\":[{\"id\":\"b58f649d-fdc9-4782-8622-2a2bab76d31f\",\"type\":\"Legend\"}],\"below\":[{\"id\":\"e3a41ac2-593a-405c-b4b6-4e2aed9f0f41\",\"type\":\"LinearAxis\"}],\"left\":[{\"id\":\"e1a12fdb-0780-497a-8f7c-d2a4f6a07a40\",\"type\":\"LogAxis\"}],\"plot_width\":300,\"renderers\":[{\"id\":\"e3a41ac2-593a-405c-b4b6-4e2aed9f0f41\",\"type\":\"LinearAxis\"},{\"id\":\"7df85e0e-2b7e-46f4-9d8c-4159bf594dc4\",\"type\":\"Grid\"},{\"id\":\"e1a12fdb-0780-497a-8f7c-d2a4f6a07a40\",\"type\":\"LogAxis\"},{\"id\":\"d8b38cda-1430-424f-bdfc-43782fcd4b58\",\"type\":\"Grid\"},{\"id\":\"dda5f4a2-0283-4910-b85d-d78ecb50f73a\",\"type\":\"BoxAnnotation\"},{\"id\":\"7fc01128-dba2-4903-8844-b9f3d92d7156\",\"type\":\"GlyphRenderer\"},{\"id\":\"246ad99f-924f-4403-be03-529d57fa6376\",\"type\":\"GlyphRenderer\"},{\"id\":\"21144914-8ac6-43d5-bc84-04e2d726ede9\",\"type\":\"GlyphRenderer\"},{\"id\":\"b58f649d-fdc9-4782-8622-2a2bab76d31f\",\"type\":\"Legend\"}],\"title\":{\"id\":\"20960c52-88e4-49e2-ba14-36e27bedade0\",\"type\":\"Title\"},\"toolbar\":{\"id\":\"7cf64c24-309f-4d9e-b31d-6e18b89591b5\",\"type\":\"Toolbar\"},\"toolbar_location\":null,\"x_range\":{\"id\":\"f23720a1-af3d-458e-8f6c-14a9fdaff09e\",\"type\":\"Range1d\"},\"x_scale\":{\"id\":\"9e0a842d-9cd3-465d-ada6-181129171679\",\"type\":\"LinearScale\"},\"y_range\":{\"id\":\"6695b492-1374-4638-a9a3-3ee1549afc60\",\"type\":\"Range1d\"},\"y_scale\":{\"id\":\"dc607367-454e-4b6d-a047-aef401fde2c7\",\"type\":\"LogScale\"}},\"id\":\"a2dfe51c-4295-4f03-8314-3ff2941e86cf\",\"subtype\":\"Figure\",\"type\":\"Plot\"},{\"attributes\":{},\"id\":\"f3723903-8bd2-44c1-b246-6a18e7d7a59b\",\"type\":\"PanTool\"},{\"attributes\":{\"data_source\":{\"id\":\"dd08ba2e-3899-4e1d-b19d-4d8b53056ea9\",\"type\":\"ColumnDataSource\"},\"glyph\":{\"id\":\"68184d44-f981-41cd-9899-c8b376a1be80\",\"type\":\"Line\"},\"hover_glyph\":null,\"muted_glyph\":null,\"nonselection_glyph\":{\"id\":\"064b7e59-5915-4c2f-8173-7320d5b0b3db\",\"type\":\"Line\"},\"selection_glyph\":null,\"view\":{\"id\":\"ee728c29-8ac0-4661-855d-f48d912c2a19\",\"type\":\"CDSView\"}},\"id\":\"f2c5cb6c-b4a1-4afa-91e2-ba861a46a8ea\",\"type\":\"GlyphRenderer\"},{\"attributes\":{\"axis_label\":\"pressure [mb]\",\"formatter\":{\"id\":\"45af5624-30fe-4c05-a9ef-e262edad4ee7\",\"type\":\"BasicTickFormatter\"},\"plot\":{\"id\":\"ab694cb8-67ca-4d7c-8168-ba8b82b99137\",\"subtype\":\"Figure\",\"type\":\"Plot\"},\"ticker\":{\"id\":\"5968b2e8-6370-4bbe-a5b0-08a42455daf2\",\"type\":\"BasicTicker\"}},\"id\":\"bd7473ab-11be-46a9-a014-6764cdbb5716\",\"type\":\"LinearAxis\"},{\"attributes\":{\"callback\":null,\"end\":0.01,\"start\":1020},\"id\":\"5f909fb0-6fff-47af-90fd-c0bc2e76f6a4\",\"type\":\"Range1d\"},{\"attributes\":{},\"id\":\"a6240105-3720-4e64-9549-88d09908ad2f\",\"type\":\"LinearScale\"},{\"attributes\":{\"data_source\":{\"id\":\"a1dfe1bc-d728-4cea-866d-296daf415898\",\"type\":\"ColumnDataSource\"},\"glyph\":{\"id\":\"1b57e721-8ad0-4750-999f-9beb19e31ade\",\"type\":\"Line\"},\"hover_glyph\":null,\"muted_glyph\":null,\"nonselection_glyph\":{\"id\":\"5756a9c3-7095-465c-b2d8-8e8e19ebbaf3\",\"type\":\"Line\"},\"selection_glyph\":null,\"view\":{\"id\":\"21b0f5c5-7ffc-495a-a3bd-4121480f4f79\",\"type\":\"CDSView\"}},\"id\":\"7fc01128-dba2-4903-8844-b9f3d92d7156\",\"type\":\"GlyphRenderer\"},{\"attributes\":{},\"id\":\"cd6dcfe4-ac0b-4ba2-b76e-166b792bbda4\",\"type\":\"Selection\"},{\"attributes\":{\"overlay\":{\"id\":\"129cb353-4d67-4fc3-9f9e-da56bd542c2b\",\"type\":\"BoxAnnotation\"}},\"id\":\"af9ed121-44df-46a3-8d88-4237ebeba02c\",\"type\":\"BoxZoomTool\"},{\"attributes\":{},\"id\":\"dc45045a-3b6e-48dc-816c-68764208f6c0\",\"type\":\"HelpTool\"},{\"attributes\":{\"callback\":null,\"data\":{\"x\":{\"__ndarray__\":\"S0dvi6e1OMAwZJ+4gtTuv9BVSL4aavg/EGFll2gTAUB2TMTcjTb0Pym9AHRUndC/eu5OOi6d9r8TQjtaLkb7v9X5CCY6GfW/Abya46zR6L+M1q7FVDPdvykoFVU0Cte/zpYURsFf2L+df87xKh7UvzCZ7Sid2Mi/S+0cnp7GrL+ZEg94fBm5P3N0T2r0Wco/f2dKbHuNwj8zSBE6TgXDv/JKhCRwb+C/Q6ugN5615b8clPT8cU7avxRr4lS9x7q/87nkgHA3vb/GwEaDrzDIv/K/Cre/waA/MT6MnhRFyT8FaHbKstzDP9yeON+xyrA/8pe6MvSnrj8gfJgRsrqgvwUSJ63LTrG/NipWsP31hb/XhaX19Cqav5YE7Bj1N7K/Ib1ZiMassr8IxH5LG7Cjv6fsQF7w4pS/SJncSMc0mr+dePzckhidvyVWtIhmVJm/vVJPAdVroL/BLhY1MimRv2sLyIgeXKa/kPEK/hO9vL+05x1JAi60v8iw2G5uarC/nYlY/QpOt78RaguyGlC3v6/lWeZfb6+/Ki7MZakno78p50M8NA6Sv8R0i6kFiZe/IBlgsZJHlL+4LxcGp6SYv3Sn329/qGe/dm3STnyemz+XTsHZJoesP4GYiA3PeLE/0B4WmoYJrj85xUjOQGeiP+D5J2zKC4A/cPOIpvOuaD+i/aWDvLCEPx56WThODaE/EJcOKCM/rD9ebal28cizP1TORkYBfbQ/BwqvIC45sz9Wu/pz7Xq2P5yrSmVCl7c/uqyLmCcJuT834xZcfN2/P8+XHhoEQMA/\",\"dtype\":\"float64\",\"shape\":[75]},\"y\":{\"__ndarray__\":\"GhExyth1ND/Sv8nbtpRIP2vylNV0PVE/aTum7souWD/At0SJ8fVgPw3Iuahxymc/MSNhhJWvcD/bTfBN02d3P2zb5nxnaoA/CD5h5MAGhz8NmeH1TyaQP+zrCsc9p5Y/LbKd76fGnz/bLW5ISEmmPww9YvTcQq8/JV2OstnstT8Er5Y7M8G+P0c+r3jqkcU/5h99k6ZBzj88bCIzFzjVP4enV8oyxN0//yH99nXg5D8qOpLLf0jtP5kqGJXUifQ/c9cS8kHP/D+/DpwzojQEQIEmwoanVwxA4lgXt9HgE0BSSZ2AJuIbQAMJih9jjiNA5q4l5INuK0AwTKYKRj0zQNv5fmq8/DpAaCJseHrtQkB/+zpwzoxKQM3MzMzMeFJAZmZmZmZqWEAAAAAAAFxeQM3MzMzMJmJAmpmZmZkfZUBmZmZmZhhoQDMzMzMzEWtAAAAAAAAKbkBmZmZmZoFwQM3MzMzM/XFAMzMzMzN6c0CamZmZmfZ0QAAAAAAAc3ZAZmZmZmbvd0DNzMzMzGt5QDMzMzMz6HpAmpmZmZlkfEAAAAAAAOF9QGZmZmZmXX9AZmZmZuZsgECamZmZGSuBQM3MzMxM6YFAAAAAAICngkAzMzMzs2WDQGZmZmbmI4RAmpmZmRnihEDNzMzMTKCFQAAAAACAXoZAMzMzM7Mch0BmZmZm5tqHQJqZmZkZmYhAzczMzExXiUAAAAAAgBWKQDMzMzOz04pAZmZmZuaRi0CamZmZGVCMQM3MzMxMDo1AAAAAAIDMjUAzMzMzs4qOQGZmZmbmSI9A\",\"dtype\":\"float64\",\"shape\":[75]}},\"selected\":{\"id\":\"2ea5bafe-a5a9-421c-b2a2-ee5d6045c1a7\",\"type\":\"Selection\"},\"selection_policy\":{\"id\":\"340564ef-4bc6-42ac-b442-354c9f3d70ae\",\"type\":\"UnionRenderers\"}},\"id\":\"da89aa22-9ffb-4c65-8b51-22355f936a05\",\"type\":\"ColumnDataSource\"},{\"attributes\":{},\"id\":\"c0f1b30a-3cc2-455b-8018-3dcb79ec5389\",\"type\":\"SaveTool\"},{\"attributes\":{\"source\":{\"id\":\"dd08ba2e-3899-4e1d-b19d-4d8b53056ea9\",\"type\":\"ColumnDataSource\"}},\"id\":\"ee728c29-8ac0-4661-855d-f48d912c2a19\",\"type\":\"CDSView\"},{\"attributes\":{\"active_drag\":\"auto\",\"active_inspect\":\"auto\",\"active_scroll\":\"auto\",\"active_tap\":\"auto\",\"tools\":[{\"id\":\"bd1aab0a-a026-42a6-8ae4-82fc5e0fbadd\",\"type\":\"PanTool\"},{\"id\":\"ab940e91-33e2-4aad-86ca-1e9ed2f99635\",\"type\":\"WheelZoomTool\"},{\"id\":\"aae9b286-d5e7-4a3d-a29e-528a38043c16\",\"type\":\"BoxZoomTool\"},{\"id\":\"a7207cef-8ebc-4eea-9a86-1b224d29e979\",\"type\":\"SaveTool\"},{\"id\":\"0a4505ee-876a-4f5b-bc27-f63e620d1772\",\"type\":\"ResetTool\"},{\"id\":\"efc74f6f-9cb4-4a86-9a03-c089330d2d97\",\"type\":\"HelpTool\"}]},\"id\":\"121db606-9869-407b-a94b-b85119f9ff5b\",\"type\":\"Toolbar\"},{\"attributes\":{\"items\":[{\"id\":\"59103d53-afbb-41ab-8ff6-8c459f4f23f0\",\"type\":\"LegendItem\"},{\"id\":\"b7df7354-f417-4a66-b02f-a440ae9efa7d\",\"type\":\"LegendItem\"}],\"label_text_font_size\":{\"value\":\"8pt\"},\"location\":\"top_center\",\"orientation\":\"horizontal\",\"plot\":{\"id\":\"ab694cb8-67ca-4d7c-8168-ba8b82b99137\",\"subtype\":\"Figure\",\"type\":\"Plot\"}},\"id\":\"5b73290e-74e4-4ccf-937e-0af2aff88fb9\",\"type\":\"Legend\"},{\"attributes\":{},\"id\":\"b5a0f9e9-ff47-4fde-b770-ccbe58998830\",\"type\":\"WheelZoomTool\"},{\"attributes\":{\"line_alpha\":0.1,\"line_color\":\"#1f77b4\",\"line_dash\":[6],\"line_width\":5,\"x\":{\"field\":\"x\"},\"y\":{\"field\":\"y\"}},\"id\":\"5756a9c3-7095-465c-b2d8-8e8e19ebbaf3\",\"type\":\"Line\"},{\"attributes\":{\"callback\":null,\"data\":{\"x\":{\"__ndarray__\":\"R/KIaN7AVEClCeJMyPNGQOvRhpxr30JAptxzhxx4PkA7SssMElA4QK6Bp3CyUDNAsVXpjES9LkBFhUV0+5coQMHYwqbbySNA6f09nM3nH0CaSd/3eYoZQDmgiAOW8BNAPYqARh3eDEBkm4vCgvr+P9D+5tWhQfY/P8DwKRnSAkBq38kb17ILQDT7IWuSsxFAUr2Rjm0FFkAinq3s9XgbQGCHwtYcqSFAG64kT303J0C7dRDneyooQD9JYrbK8yRA9S3bneHhIUAIymSuUMMcQIkHLe6VEBdAAau3cITREkA6CiNvkQIPQJU39ki7IQlAaAvwok1UA0BXLQiS4+L7P0xzDpJ2hPI/NNuPGMbJ5z91mUVYxqfSPxqwUPSxZca/G11peifD3L8QzNj5t2jTvwzOozTL360/SPJ4VI1VzD9KJ0nXEIncP8yDdlvHt+4/Et49nYLW9z++2teD4Jn+P+568eH/bwFALf5D9lmAAkCiZAicVOkCQPPT4jNKxwJAOjp3wTzBAUBSQsKNGisBQG4OmjqJwQBAJ3sZoHFuAEA5Ar0Sdi0AQGy4rw5+9f8/7W4nSrC3/z8mPr8zj4T/P4UYRHCQS/8/embVKYcF/z+5YXG+LLP+P/qb8BVUgf4/KvafTtyO/j/avAK1Ppv+PwJV9VVm2P0/JFtYlU/n/D9sN+q2fiX6Pw44e41PNPc/Opt+Z/wN9T+x3vcSW1vzP9ofvWQJlvI/8sciQQBW8j80sfkQa17yPzg5qng2r/I/Oh14WJBh8z+VZjnpctj0P6CcrSuCqQBA\",\"dtype\":\"float64\",\"shape\":[75]},\"y\":{\"__ndarray__\":\"GhExyth1ND/Sv8nbtpRIP2vylNV0PVE/aTum7souWD/At0SJ8fVgPw3Iuahxymc/MSNhhJWvcD/bTfBN02d3P2zb5nxnaoA/CD5h5MAGhz8NmeH1TyaQP+zrCsc9p5Y/LbKd76fGnz/bLW5ISEmmPww9YvTcQq8/JV2OstnstT8Er5Y7M8G+P0c+r3jqkcU/5h99k6ZBzj88bCIzFzjVP4enV8oyxN0//yH99nXg5D8qOpLLf0jtP5kqGJXUifQ/c9cS8kHP/D+/DpwzojQEQIEmwoanVwxA4lgXt9HgE0BSSZ2AJuIbQAMJih9jjiNA5q4l5INuK0AwTKYKRj0zQNv5fmq8/DpAaCJseHrtQkB/+zpwzoxKQM3MzMzMeFJAZmZmZmZqWEAAAAAAAFxeQM3MzMzMJmJAmpmZmZkfZUBmZmZmZhhoQDMzMzMzEWtAAAAAAAAKbkBmZmZmZoFwQM3MzMzM/XFAMzMzMzN6c0CamZmZmfZ0QAAAAAAAc3ZAZmZmZmbvd0DNzMzMzGt5QDMzMzMz6HpAmpmZmZlkfEAAAAAAAOF9QGZmZmZmXX9AZmZmZuZsgECamZmZGSuBQM3MzMxM6YFAAAAAAICngkAzMzMzs2WDQGZmZmbmI4RAmpmZmRnihEDNzMzMTKCFQAAAAACAXoZAMzMzM7Mch0BmZmZm5tqHQJqZmZkZmYhAzczMzExXiUAAAAAAgBWKQDMzMzOz04pAZmZmZuaRi0CamZmZGVCMQM3MzMxMDo1AAAAAAIDMjUAzMzMzs4qOQGZmZmbmSI9A\",\"dtype\":\"float64\",\"shape\":[75]}},\"selected\":{\"id\":\"bd51cc85-f4f2-41f5-8625-0ae1031c1470\",\"type\":\"Selection\"},\"selection_policy\":{\"id\":\"562fb7fa-8aff-4c43-a16f-fc5a453a2a9e\",\"type\":\"UnionRenderers\"}},\"id\":\"d96c3a59-04bd-42dd-b647-93e97fca5030\",\"type\":\"ColumnDataSource\"},{\"attributes\":{\"line_alpha\":0.1,\"line_color\":\"#1f77b4\",\"line_dash\":[6],\"line_width\":5,\"x\":{\"field\":\"x\"},\"y\":{\"field\":\"y\"}},\"id\":\"064b7e59-5915-4c2f-8173-7320d5b0b3db\",\"type\":\"Line\"},{\"attributes\":{},\"id\":\"bf16d824-bc79-440f-a034-b36d02da5b10\",\"type\":\"ResetTool\"},{\"attributes\":{\"dimension\":1,\"plot\":{\"id\":\"ab694cb8-67ca-4d7c-8168-ba8b82b99137\",\"subtype\":\"Figure\",\"type\":\"Plot\"},\"ticker\":{\"id\":\"5968b2e8-6370-4bbe-a5b0-08a42455daf2\",\"type\":\"BasicTicker\"}},\"id\":\"3cfe6870-6727-4641-a3d0-89ce17f0de99\",\"type\":\"Grid\"},{\"attributes\":{\"axis_label\":\"cooling rate [K/day]\",\"formatter\":{\"id\":\"9522364c-e89f-4469-8d95-4bf693b7771e\",\"type\":\"BasicTickFormatter\"},\"plot\":{\"id\":\"ab694cb8-67ca-4d7c-8168-ba8b82b99137\",\"subtype\":\"Figure\",\"type\":\"Plot\"},\"ticker\":{\"id\":\"78a85532-92f7-44ad-93b7-9ddf162db4d3\",\"type\":\"BasicTicker\"}},\"id\":\"636559b5-4d66-4c18-8214-4bbe462775f1\",\"type\":\"LinearAxis\"},{\"attributes\":{},\"id\":\"5968b2e8-6370-4bbe-a5b0-08a42455daf2\",\"type\":\"BasicTicker\"},{\"attributes\":{\"fill_alpha\":{\"value\":0.7},\"fill_color\":{\"value\":\"#4daf4a\"},\"line_alpha\":{\"value\":0.7},\"line_color\":{\"value\":\"#4daf4a\"},\"x\":{\"field\":\"x\"},\"y\":{\"field\":\"y\"}},\"id\":\"8e922490-3879-45d8-b106-bf41f1c1e4f5\",\"type\":\"Circle\"},{\"attributes\":{\"above\":[{\"id\":\"5b73290e-74e4-4ccf-937e-0af2aff88fb9\",\"type\":\"Legend\"}],\"below\":[{\"id\":\"636559b5-4d66-4c18-8214-4bbe462775f1\",\"type\":\"LinearAxis\"}],\"left\":[{\"id\":\"bd7473ab-11be-46a9-a014-6764cdbb5716\",\"type\":\"LinearAxis\"}],\"plot_width\":300,\"renderers\":[{\"id\":\"636559b5-4d66-4c18-8214-4bbe462775f1\",\"type\":\"LinearAxis\"},{\"id\":\"cd190dbd-57a8-49fb-ad6a-b6290b4ea6d3\",\"type\":\"Grid\"},{\"id\":\"bd7473ab-11be-46a9-a014-6764cdbb5716\",\"type\":\"LinearAxis\"},{\"id\":\"3cfe6870-6727-4641-a3d0-89ce17f0de99\",\"type\":\"Grid\"},{\"id\":\"129cb353-4d67-4fc3-9f9e-da56bd542c2b\",\"type\":\"BoxAnnotation\"},{\"id\":\"f2c5cb6c-b4a1-4afa-91e2-ba861a46a8ea\",\"type\":\"GlyphRenderer\"},{\"id\":\"e63ce4d8-ca5f-43b1-9f3a-05349d5e66ea\",\"type\":\"GlyphRenderer\"},{\"id\":\"fb71bb34-2d37-44ea-ac8a-cae34200a506\",\"type\":\"GlyphRenderer\"},{\"id\":\"5b73290e-74e4-4ccf-937e-0af2aff88fb9\",\"type\":\"Legend\"}],\"title\":{\"id\":\"a6c5b0d8-ea3f-44ce-a763-4050f950bcfe\",\"type\":\"Title\"},\"toolbar\":{\"id\":\"26f42246-fd2c-468a-b988-ece436e075bf\",\"type\":\"Toolbar\"},\"toolbar_location\":null,\"x_range\":{\"id\":\"ab335dd4-f1a4-4385-a1e3-c9e8ae3240a6\",\"type\":\"Range1d\"},\"x_scale\":{\"id\":\"a6240105-3720-4e64-9549-88d09908ad2f\",\"type\":\"LinearScale\"},\"y_range\":{\"id\":\"5f909fb0-6fff-47af-90fd-c0bc2e76f6a4\",\"type\":\"Range1d\"},\"y_scale\":{\"id\":\"36d4198d-c62d-4523-b8f4-95d11ad8e78d\",\"type\":\"LinearScale\"}},\"id\":\"ab694cb8-67ca-4d7c-8168-ba8b82b99137\",\"subtype\":\"Figure\",\"type\":\"Plot\"},{\"attributes\":{\"bottom_units\":\"screen\",\"fill_alpha\":{\"value\":0.5},\"fill_color\":{\"value\":\"lightgrey\"},\"left_units\":\"screen\",\"level\":\"overlay\",\"line_alpha\":{\"value\":1.0},\"line_color\":{\"value\":\"black\"},\"line_dash\":[4,4],\"line_width\":{\"value\":2},\"plot\":null,\"render_mode\":\"css\",\"right_units\":\"screen\",\"top_units\":\"screen\"},\"id\":\"129cb353-4d67-4fc3-9f9e-da56bd542c2b\",\"type\":\"BoxAnnotation\"},{\"attributes\":{},\"id\":\"78a85532-92f7-44ad-93b7-9ddf162db4d3\",\"type\":\"BasicTicker\"},{\"attributes\":{\"plot\":{\"id\":\"ab694cb8-67ca-4d7c-8168-ba8b82b99137\",\"subtype\":\"Figure\",\"type\":\"Plot\"},\"ticker\":{\"id\":\"78a85532-92f7-44ad-93b7-9ddf162db4d3\",\"type\":\"BasicTicker\"}},\"id\":\"cd190dbd-57a8-49fb-ad6a-b6290b4ea6d3\",\"type\":\"Grid\"},{\"attributes\":{},\"id\":\"36d4198d-c62d-4523-b8f4-95d11ad8e78d\",\"type\":\"LinearScale\"},{\"attributes\":{\"fill_alpha\":{\"value\":0.1},\"fill_color\":{\"value\":\"#1f77b4\"},\"line_alpha\":{\"value\":0.1},\"line_color\":{\"value\":\"#1f77b4\"},\"x\":{\"field\":\"x\"},\"y\":{\"field\":\"y\"}},\"id\":\"7c929030-80c4-4649-b15b-9519d5d13c4e\",\"type\":\"Circle\"},{\"attributes\":{\"line_alpha\":0.6,\"line_color\":\"#e41a1c\",\"line_dash\":[6],\"line_width\":5,\"x\":{\"field\":\"x\"},\"y\":{\"field\":\"y\"}},\"id\":\"68184d44-f981-41cd-9899-c8b376a1be80\",\"type\":\"Line\"},{\"attributes\":{\"callback\":null,\"data\":{\"x\":{\"__ndarray__\":\"6kBaC+kmTUATjP9BdnhGQJoUeXK8okNAZUQwzURNQEAEj5fqepM5QLl+1x49DjNA43efxZ7pK0ABHf6oNS8lQIW5AWK0JiFAaabK/5fNHEAyXISrRLcXQLhNN77yfxJAY/e9HSXSCUB8+xcG+PL5P6pLyTCOJvM/i0x4r/5eAkD8V4r/onsMQNp2dA5ihhJAjxD0admZFkDgE916y+AaQLJCetQloiBAZaOqayPcJUAb0ShXCFgnQGyEuDs7viRAgmTZvHKnIUAClEoyywEcQAkdm20ZMhdA8gysFa2bE0BcOOVNLiAQQIz879cQqAlAyPW6c+3OA0BzaXsBDl37PysCPNeJb/E/jILOIe5x5z8YQesIFwXRP2SyxoCsgc+/M+Y/jiy34L+RpEhju97Vv7NXgwVTbqM/H19da/QOyT/EX3mph7faPx3hMCck7e0/fGMz9SNT9z8EggO7O1X+P8BazmePFgFAoKZTVnGaAUBkdb+J5EcCQG0ObMD2QwJA7XWMacwGAUAB5zG4mXAAQNamALvLQwBAb0qC+tIhAEBsekSqWQkAQJuKCfhZl/8/ie5h/5Fm/z9o4aaX/CH/P7EojDC8P/8/MbAQGwF0/z8tbD/1ZZf/P4ElyQbhmP8/Iadwgyh//z8CA3W7eC7/P/Skzep9+P0/np8rD6fz/D9ng/Ev4E76P94DPv+5vPc/8w+/gPXv9T+IdWIq6pf0P7+MIXnZ3fM/k7gtI5OJ8z/pXDnoGcbzP/Hj/p6qKPQ/BtgA0iLy9D/H1PquStb2Px6GT22CrQFA\",\"dtype\":\"float64\",\"shape\":[75]},\"y\":{\"__ndarray__\":\"GhExyth1ND/Sv8nbtpRIP2vylNV0PVE/aTum7souWD/At0SJ8fVgPw3Iuahxymc/MSNhhJWvcD/bTfBN02d3P2zb5nxnaoA/CD5h5MAGhz8NmeH1TyaQP+zrCsc9p5Y/LbKd76fGnz/bLW5ISEmmPww9YvTcQq8/JV2OstnstT8Er5Y7M8G+P0c+r3jqkcU/5h99k6ZBzj88bCIzFzjVP4enV8oyxN0//yH99nXg5D8qOpLLf0jtP5kqGJXUifQ/c9cS8kHP/D+/DpwzojQEQIEmwoanVwxA4lgXt9HgE0BSSZ2AJuIbQAMJih9jjiNA5q4l5INuK0AwTKYKRj0zQNv5fmq8/DpAaCJseHrtQkB/+zpwzoxKQM3MzMzMeFJAZmZmZmZqWEAAAAAAAFxeQM3MzMzMJmJAmpmZmZkfZUBmZmZmZhhoQDMzMzMzEWtAAAAAAAAKbkBmZmZmZoFwQM3MzMzM/XFAMzMzMzN6c0CamZmZmfZ0QAAAAAAAc3ZAZmZmZmbvd0DNzMzMzGt5QDMzMzMz6HpAmpmZmZlkfEAAAAAAAOF9QGZmZmZmXX9AZmZmZuZsgECamZmZGSuBQM3MzMxM6YFAAAAAAICngkAzMzMzs2WDQGZmZmbmI4RAmpmZmRnihEDNzMzMTKCFQAAAAACAXoZAMzMzM7Mch0BmZmZm5tqHQJqZmZkZmYhAzczMzExXiUAAAAAAgBWKQDMzMzOz04pAZmZmZuaRi0CamZmZGVCMQM3MzMxMDo1AAAAAAIDMjUAzMzMzs4qOQGZmZmbmSI9A\",\"dtype\":\"float64\",\"shape\":[75]}},\"selected\":{\"id\":\"cd6dcfe4-ac0b-4ba2-b76e-166b792bbda4\",\"type\":\"Selection\"},\"selection_policy\":{\"id\":\"9ac51bf6-02a6-4679-8c40-ef2c676e0464\",\"type\":\"UnionRenderers\"}},\"id\":\"a1dfe1bc-d728-4cea-866d-296daf415898\",\"type\":\"ColumnDataSource\"},{\"attributes\":{},\"id\":\"622be087-e5c9-4a06-bf72-e8f545872d2b\",\"type\":\"UnionRenderers\"},{\"attributes\":{\"ticker\":null},\"id\":\"61867ad2-248a-4f3c-b826-6606c8c7c590\",\"type\":\"LogTickFormatter\"},{\"attributes\":{\"callback\":null,\"end\":12.209029918427628,\"start\":-0.6484134796306301},\"id\":\"f23720a1-af3d-458e-8f6c-14a9fdaff09e\",\"type\":\"Range1d\"},{\"attributes\":{},\"id\":\"8d1dafee-6a56-4146-b333-587b536dd776\",\"type\":\"Selection\"},{\"attributes\":{\"source\":{\"id\":\"da89aa22-9ffb-4c65-8b51-22355f936a05\",\"type\":\"ColumnDataSource\"}},\"id\":\"cfb4d376-07a9-410a-8e84-5b05dff7cfab\",\"type\":\"CDSView\"},{\"attributes\":{\"plot\":{\"id\":\"c9e50fd7-6cd7-4bcf-a76d-ced5956f7728\",\"subtype\":\"Figure\",\"type\":\"Plot\"},\"ticker\":{\"id\":\"c4e1d0e1-4463-4b83-a04f-406270103b3c\",\"type\":\"BasicTicker\"}},\"id\":\"9abdf356-aab4-4aeb-80d4-41a3a49558b4\",\"type\":\"Grid\"},{\"attributes\":{},\"id\":\"340564ef-4bc6-42ac-b442-354c9f3d70ae\",\"type\":\"UnionRenderers\"},{\"attributes\":{\"tools\":[{\"id\":\"f3723903-8bd2-44c1-b246-6a18e7d7a59b\",\"type\":\"PanTool\"},{\"id\":\"b5a0f9e9-ff47-4fde-b770-ccbe58998830\",\"type\":\"WheelZoomTool\"},{\"id\":\"af9ed121-44df-46a3-8d88-4237ebeba02c\",\"type\":\"BoxZoomTool\"},{\"id\":\"c0f1b30a-3cc2-455b-8018-3dcb79ec5389\",\"type\":\"SaveTool\"},{\"id\":\"bf16d824-bc79-440f-a034-b36d02da5b10\",\"type\":\"ResetTool\"},{\"id\":\"dc45045a-3b6e-48dc-816c-68764208f6c0\",\"type\":\"HelpTool\"},{\"id\":\"e6701d5c-33bb-4d53-8877-985bf85c9dbd\",\"type\":\"PanTool\"},{\"id\":\"4a3e3085-bc0b-435e-b169-ee5c9709503e\",\"type\":\"WheelZoomTool\"},{\"id\":\"d9c01706-79fa-4c58-b255-36656cb20989\",\"type\":\"BoxZoomTool\"},{\"id\":\"c8e92fb2-81d0-4b3b-b6d6-98a11e503bef\",\"type\":\"SaveTool\"},{\"id\":\"3e1702bb-73c3-4464-82fb-d9acca7543f3\",\"type\":\"ResetTool\"},{\"id\":\"64a49269-7c9f-40ef-a1c9-eb31ec2f6875\",\"type\":\"HelpTool\"},{\"id\":\"bd1aab0a-a026-42a6-8ae4-82fc5e0fbadd\",\"type\":\"PanTool\"},{\"id\":\"ab940e91-33e2-4aad-86ca-1e9ed2f99635\",\"type\":\"WheelZoomTool\"},{\"id\":\"aae9b286-d5e7-4a3d-a29e-528a38043c16\",\"type\":\"BoxZoomTool\"},{\"id\":\"a7207cef-8ebc-4eea-9a86-1b224d29e979\",\"type\":\"SaveTool\"},{\"id\":\"0a4505ee-876a-4f5b-bc27-f63e620d1772\",\"type\":\"ResetTool\"},{\"id\":\"efc74f6f-9cb4-4a86-9a03-c089330d2d97\",\"type\":\"HelpTool\"}]},\"id\":\"26c242f7-09cf-445b-8f50-5def94753593\",\"type\":\"ProxyToolbar\"},{\"attributes\":{\"label\":{\"value\":\"CRD\"},\"renderers\":[{\"id\":\"246ad99f-924f-4403-be03-529d57fa6376\",\"type\":\"GlyphRenderer\"},{\"id\":\"21144914-8ac6-43d5-bc84-04e2d726ede9\",\"type\":\"GlyphRenderer\"}]},\"id\":\"d8fa22e6-e988-4303-a3e6-0c41740fb516\",\"type\":\"LegendItem\"},{\"attributes\":{\"plot\":null,\"text\":\"\"},\"id\":\"47b9ae99-d725-45ce-abec-70f03823dfd6\",\"type\":\"Title\"},{\"attributes\":{},\"id\":\"c9dad3a9-b769-4925-8bd6-adda5aefc1e4\",\"type\":\"Selection\"},{\"attributes\":{\"axis_label\":\"pressure [mb]\",\"formatter\":{\"id\":\"61867ad2-248a-4f3c-b826-6606c8c7c590\",\"type\":\"LogTickFormatter\"},\"plot\":{\"id\":\"c9e50fd7-6cd7-4bcf-a76d-ced5956f7728\",\"subtype\":\"Figure\",\"type\":\"Plot\"},\"ticker\":{\"id\":\"d1fd25c0-77f0-413a-b047-8d1210630ecc\",\"type\":\"LogTicker\"}},\"id\":\"a2dcc7f4-fe08-4b61-a48a-fabc48e06ca1\",\"type\":\"LogAxis\"},{\"attributes\":{},\"id\":\"b71b542e-605f-4293-8990-6f39da210ce5\",\"type\":\"Selection\"},{\"attributes\":{\"callback\":null,\"data\":{\"x\":{\"__ndarray__\":\"S0dvi6e1OMAwZJ+4gtTuv9BVSL4aavg/EGFll2gTAUB2TMTcjTb0Pym9AHRUndC/eu5OOi6d9r8TQjtaLkb7v9X5CCY6GfW/Abya46zR6L+M1q7FVDPdvykoFVU0Cte/zpYURsFf2L+df87xKh7UvzCZ7Sid2Mi/S+0cnp7GrL+ZEg94fBm5P3N0T2r0Wco/f2dKbHuNwj8zSBE6TgXDv/JKhCRwb+C/Q6ugN5615b8clPT8cU7avxRr4lS9x7q/87nkgHA3vb/GwEaDrzDIv/K/Cre/waA/MT6MnhRFyT8FaHbKstzDP9yeON+xyrA/8pe6MvSnrj8gfJgRsrqgvwUSJ63LTrG/NipWsP31hb/XhaX19Cqav5YE7Bj1N7K/Ib1ZiMassr8IxH5LG7Cjv6fsQF7w4pS/SJncSMc0mr+dePzckhidvyVWtIhmVJm/vVJPAdVroL/BLhY1MimRv2sLyIgeXKa/kPEK/hO9vL+05x1JAi60v8iw2G5uarC/nYlY/QpOt78RaguyGlC3v6/lWeZfb6+/Ki7MZakno78p50M8NA6Sv8R0i6kFiZe/IBlgsZJHlL+4LxcGp6SYv3Sn329/qGe/dm3STnyemz+XTsHZJoesP4GYiA3PeLE/0B4WmoYJrj85xUjOQGeiP+D5J2zKC4A/cPOIpvOuaD+i/aWDvLCEPx56WThODaE/EJcOKCM/rD9ebal28cizP1TORkYBfbQ/BwqvIC45sz9Wu/pz7Xq2P5yrSmVCl7c/uqyLmCcJuT834xZcfN2/P8+XHhoEQMA/\",\"dtype\":\"float64\",\"shape\":[75]},\"y\":{\"__ndarray__\":\"GhExyth1ND/Sv8nbtpRIP2vylNV0PVE/aTum7souWD/At0SJ8fVgPw3Iuahxymc/MSNhhJWvcD/bTfBN02d3P2zb5nxnaoA/CD5h5MAGhz8NmeH1TyaQP+zrCsc9p5Y/LbKd76fGnz/bLW5ISEmmPww9YvTcQq8/JV2OstnstT8Er5Y7M8G+P0c+r3jqkcU/5h99k6ZBzj88bCIzFzjVP4enV8oyxN0//yH99nXg5D8qOpLLf0jtP5kqGJXUifQ/c9cS8kHP/D+/DpwzojQEQIEmwoanVwxA4lgXt9HgE0BSSZ2AJuIbQAMJih9jjiNA5q4l5INuK0AwTKYKRj0zQNv5fmq8/DpAaCJseHrtQkB/+zpwzoxKQM3MzMzMeFJAZmZmZmZqWEAAAAAAAFxeQM3MzMzMJmJAmpmZmZkfZUBmZmZmZhhoQDMzMzMzEWtAAAAAAAAKbkBmZmZmZoFwQM3MzMzM/XFAMzMzMzN6c0CamZmZmfZ0QAAAAAAAc3ZAZmZmZmbvd0DNzMzMzGt5QDMzMzMz6HpAmpmZmZlkfEAAAAAAAOF9QGZmZmZmXX9AZmZmZuZsgECamZmZGSuBQM3MzMxM6YFAAAAAAICngkAzMzMzs2WDQGZmZmbmI4RAmpmZmRnihEDNzMzMTKCFQAAAAACAXoZAMzMzM7Mch0BmZmZm5tqHQJqZmZkZmYhAzczMzExXiUAAAAAAgBWKQDMzMzOz04pAZmZmZuaRi0CamZmZGVCMQM3MzMxMDo1AAAAAAIDMjUAzMzMzs4qOQGZmZmbmSI9A\",\"dtype\":\"float64\",\"shape\":[75]}},\"selected\":{\"id\":\"b71b542e-605f-4293-8990-6f39da210ce5\",\"type\":\"Selection\"},\"selection_policy\":{\"id\":\"622be087-e5c9-4a06-bf72-e8f545872d2b\",\"type\":\"UnionRenderers\"}},\"id\":\"539a9b1d-4f4c-42e3-9099-192edad0aceb\",\"type\":\"ColumnDataSource\"},{\"attributes\":{\"source\":{\"id\":\"a1dfe1bc-d728-4cea-866d-296daf415898\",\"type\":\"ColumnDataSource\"}},\"id\":\"21b0f5c5-7ffc-495a-a3bd-4121480f4f79\",\"type\":\"CDSView\"},{\"attributes\":{},\"id\":\"9522364c-e89f-4469-8d95-4bf693b7771e\",\"type\":\"BasicTickFormatter\"},{\"attributes\":{\"num_minor_ticks\":10},\"id\":\"c86133e5-dd94-4ce2-b71e-c6fe761a567c\",\"type\":\"LogTicker\"},{\"attributes\":{},\"id\":\"abc247df-7891-425d-aaee-b3a6648b59fc\",\"type\":\"LinearScale\"},{\"attributes\":{\"data_source\":{\"id\":\"d96c3a59-04bd-42dd-b647-93e97fca5030\",\"type\":\"ColumnDataSource\"},\"glyph\":{\"id\":\"8e922490-3879-45d8-b106-bf41f1c1e4f5\",\"type\":\"Circle\"},\"hover_glyph\":null,\"muted_glyph\":null,\"nonselection_glyph\":{\"id\":\"7c929030-80c4-4649-b15b-9519d5d13c4e\",\"type\":\"Circle\"},\"selection_glyph\":null,\"view\":{\"id\":\"4da901e6-db91-4f5e-aabb-0499c650927c\",\"type\":\"CDSView\"}},\"id\":\"e63ce4d8-ca5f-43b1-9f3a-05349d5e66ea\",\"type\":\"GlyphRenderer\"},{\"attributes\":{},\"id\":\"a558c788-7f5b-4380-8a5f-c87c0a82d1b4\",\"type\":\"UnionRenderers\"},{\"attributes\":{},\"id\":\"2ea5bafe-a5a9-421c-b2a2-ee5d6045c1a7\",\"type\":\"Selection\"},{\"attributes\":{},\"id\":\"4d6c3be3-3d8f-4721-b0f8-e16b32f39b55\",\"type\":\"LogScale\"},{\"attributes\":{},\"id\":\"a9263894-b28c-40ff-b279-bab2be8a4e74\",\"type\":\"BasicTickFormatter\"},{\"attributes\":{},\"id\":\"0daa9eae-d0ab-4947-8fda-cbd9f7282c51\",\"type\":\"UnionRenderers\"},{\"attributes\":{\"callback\":null,\"data\":{\"x\":{\"__ndarray__\":\"R/KIaN7AVEClCeJMyPNGQOvRhpxr30JAptxzhxx4PkA7SssMElA4QK6Bp3CyUDNAsVXpjES9LkBFhUV0+5coQMHYwqbbySNA6f09nM3nH0CaSd/3eYoZQDmgiAOW8BNAPYqARh3eDEBkm4vCgvr+P9D+5tWhQfY/P8DwKRnSAkBq38kb17ILQDT7IWuSsxFAUr2Rjm0FFkAinq3s9XgbQGCHwtYcqSFAG64kT303J0C7dRDneyooQD9JYrbK8yRA9S3bneHhIUAIymSuUMMcQIkHLe6VEBdAAau3cITREkA6CiNvkQIPQJU39ki7IQlAaAvwok1UA0BXLQiS4+L7P0xzDpJ2hPI/NNuPGMbJ5z91mUVYxqfSPxqwUPSxZca/G11peifD3L8QzNj5t2jTvwzOozTL360/SPJ4VI1VzD9KJ0nXEIncP8yDdlvHt+4/Et49nYLW9z++2teD4Jn+P+568eH/bwFALf5D9lmAAkCiZAicVOkCQPPT4jNKxwJAOjp3wTzBAUBSQsKNGisBQG4OmjqJwQBAJ3sZoHFuAEA5Ar0Sdi0AQGy4rw5+9f8/7W4nSrC3/z8mPr8zj4T/P4UYRHCQS/8/embVKYcF/z+5YXG+LLP+P/qb8BVUgf4/KvafTtyO/j/avAK1Ppv+PwJV9VVm2P0/JFtYlU/n/D9sN+q2fiX6Pw44e41PNPc/Opt+Z/wN9T+x3vcSW1vzP9ofvWQJlvI/8sciQQBW8j80sfkQa17yPzg5qng2r/I/Oh14WJBh8z+VZjnpctj0P6CcrSuCqQBA\",\"dtype\":\"float64\",\"shape\":[75]},\"y\":{\"__ndarray__\":\"GhExyth1ND/Sv8nbtpRIP2vylNV0PVE/aTum7souWD/At0SJ8fVgPw3Iuahxymc/MSNhhJWvcD/bTfBN02d3P2zb5nxnaoA/CD5h5MAGhz8NmeH1TyaQP+zrCsc9p5Y/LbKd76fGnz/bLW5ISEmmPww9YvTcQq8/JV2OstnstT8Er5Y7M8G+P0c+r3jqkcU/5h99k6ZBzj88bCIzFzjVP4enV8oyxN0//yH99nXg5D8qOpLLf0jtP5kqGJXUifQ/c9cS8kHP/D+/DpwzojQEQIEmwoanVwxA4lgXt9HgE0BSSZ2AJuIbQAMJih9jjiNA5q4l5INuK0AwTKYKRj0zQNv5fmq8/DpAaCJseHrtQkB/+zpwzoxKQM3MzMzMeFJAZmZmZmZqWEAAAAAAAFxeQM3MzMzMJmJAmpmZmZkfZUBmZmZmZhhoQDMzMzMzEWtAAAAAAAAKbkBmZmZmZoFwQM3MzMzM/XFAMzMzMzN6c0CamZmZmfZ0QAAAAAAAc3ZAZmZmZmbvd0DNzMzMzGt5QDMzMzMz6HpAmpmZmZlkfEAAAAAAAOF9QGZmZmZmXX9AZmZmZuZsgECamZmZGSuBQM3MzMxM6YFAAAAAAICngkAzMzMzs2WDQGZmZmbmI4RAmpmZmRnihEDNzMzMTKCFQAAAAACAXoZAMzMzM7Mch0BmZmZm5tqHQJqZmZkZmYhAzczMzExXiUAAAAAAgBWKQDMzMzOz04pAZmZmZuaRi0CamZmZGVCMQM3MzMxMDo1AAAAAAIDMjUAzMzMzs4qOQGZmZmbmSI9A\",\"dtype\":\"float64\",\"shape\":[75]}},\"selected\":{\"id\":\"e719d9de-fa01-464b-afce-394d489ad74f\",\"type\":\"Selection\"},\"selection_policy\":{\"id\":\"a6566a3c-792e-4f9b-85e9-3bbade49e072\",\"type\":\"UnionRenderers\"}},\"id\":\"92746473-395a-4bc8-b935-e1959791cf81\",\"type\":\"ColumnDataSource\"},{\"attributes\":{\"axis_label\":\"cooling rate [K/day]\",\"formatter\":{\"id\":\"4ecda375-83fa-4687-9e6f-d5d8df8642c7\",\"type\":\"BasicTickFormatter\"},\"plot\":{\"id\":\"c9e50fd7-6cd7-4bcf-a76d-ced5956f7728\",\"subtype\":\"Figure\",\"type\":\"Plot\"},\"ticker\":{\"id\":\"c4e1d0e1-4463-4b83-a04f-406270103b3c\",\"type\":\"BasicTicker\"}},\"id\":\"7326fe7c-564f-45de-ab9f-9f901fe790b4\",\"type\":\"LinearAxis\"},{\"attributes\":{\"ticker\":null},\"id\":\"4fe7c580-4e02-4a3c-a26c-4ee96869781f\",\"type\":\"LogTickFormatter\"},{\"attributes\":{\"toolbar\":{\"id\":\"26c242f7-09cf-445b-8f50-5def94753593\",\"type\":\"ProxyToolbar\"},\"toolbar_location\":\"above\"},\"id\":\"7f57d60e-4a05-4bb8-a20a-ae15896e5dc6\",\"type\":\"ToolbarBox\"},{\"attributes\":{\"items\":[{\"id\":\"1802b083-12c2-49ff-adef-5a5a38e2143d\",\"type\":\"LegendItem\"}],\"label_text_font_size\":{\"value\":\"8pt\"},\"location\":\"top_center\",\"orientation\":\"horizontal\",\"plot\":{\"id\":\"c9e50fd7-6cd7-4bcf-a76d-ced5956f7728\",\"subtype\":\"Figure\",\"type\":\"Plot\"}},\"id\":\"35e5b45f-ab7a-44f0-b9c5-cdccc212dd3d\",\"type\":\"Legend\"},{\"attributes\":{\"callback\":null,\"data\":{\"x\":{\"__ndarray__\":\"R/KIaN7AVEClCeJMyPNGQOvRhpxr30JAptxzhxx4PkA7SssMElA4QK6Bp3CyUDNAsVXpjES9LkBFhUV0+5coQMHYwqbbySNA6f09nM3nH0CaSd/3eYoZQDmgiAOW8BNAPYqARh3eDEBkm4vCgvr+P9D+5tWhQfY/P8DwKRnSAkBq38kb17ILQDT7IWuSsxFAUr2Rjm0FFkAinq3s9XgbQGCHwtYcqSFAG64kT303J0C7dRDneyooQD9JYrbK8yRA9S3bneHhIUAIymSuUMMcQIkHLe6VEBdAAau3cITREkA6CiNvkQIPQJU39ki7IQlAaAvwok1UA0BXLQiS4+L7P0xzDpJ2hPI/NNuPGMbJ5z91mUVYxqfSPxqwUPSxZca/G11peifD3L8QzNj5t2jTvwzOozTL360/SPJ4VI1VzD9KJ0nXEIncP8yDdlvHt+4/Et49nYLW9z++2teD4Jn+P+568eH/bwFALf5D9lmAAkCiZAicVOkCQPPT4jNKxwJAOjp3wTzBAUBSQsKNGisBQG4OmjqJwQBAJ3sZoHFuAEA5Ar0Sdi0AQGy4rw5+9f8/7W4nSrC3/z8mPr8zj4T/P4UYRHCQS/8/embVKYcF/z+5YXG+LLP+P/qb8BVUgf4/KvafTtyO/j/avAK1Ppv+PwJV9VVm2P0/JFtYlU/n/D9sN+q2fiX6Pw44e41PNPc/Opt+Z/wN9T+x3vcSW1vzP9ofvWQJlvI/8sciQQBW8j80sfkQa17yPzg5qng2r/I/Oh14WJBh8z+VZjnpctj0P6CcrSuCqQBA\",\"dtype\":\"float64\",\"shape\":[75]},\"y\":{\"__ndarray__\":\"GhExyth1ND/Sv8nbtpRIP2vylNV0PVE/aTum7souWD/At0SJ8fVgPw3Iuahxymc/MSNhhJWvcD/bTfBN02d3P2zb5nxnaoA/CD5h5MAGhz8NmeH1TyaQP+zrCsc9p5Y/LbKd76fGnz/bLW5ISEmmPww9YvTcQq8/JV2OstnstT8Er5Y7M8G+P0c+r3jqkcU/5h99k6ZBzj88bCIzFzjVP4enV8oyxN0//yH99nXg5D8qOpLLf0jtP5kqGJXUifQ/c9cS8kHP/D+/DpwzojQEQIEmwoanVwxA4lgXt9HgE0BSSZ2AJuIbQAMJih9jjiNA5q4l5INuK0AwTKYKRj0zQNv5fmq8/DpAaCJseHrtQkB/+zpwzoxKQM3MzMzMeFJAZmZmZmZqWEAAAAAAAFxeQM3MzMzMJmJAmpmZmZkfZUBmZmZmZhhoQDMzMzMzEWtAAAAAAAAKbkBmZmZmZoFwQM3MzMzM/XFAMzMzMzN6c0CamZmZmfZ0QAAAAAAAc3ZAZmZmZmbvd0DNzMzMzGt5QDMzMzMz6HpAmpmZmZlkfEAAAAAAAOF9QGZmZmZmXX9AZmZmZuZsgECamZmZGSuBQM3MzMxM6YFAAAAAAICngkAzMzMzs2WDQGZmZmbmI4RAmpmZmRnihEDNzMzMTKCFQAAAAACAXoZAMzMzM7Mch0BmZmZm5tqHQJqZmZkZmYhAzczMzExXiUAAAAAAgBWKQDMzMzOz04pAZmZmZuaRi0CamZmZGVCMQM3MzMxMDo1AAAAAAIDMjUAzMzMzs4qOQGZmZmbmSI9A\",\"dtype\":\"float64\",\"shape\":[75]}},\"selected\":{\"id\":\"8d1dafee-6a56-4146-b333-587b536dd776\",\"type\":\"Selection\"},\"selection_policy\":{\"id\":\"0daa9eae-d0ab-4947-8fda-cbd9f7282c51\",\"type\":\"UnionRenderers\"}},\"id\":\"23940d5a-93ef-4fa5-b34c-7e236f16ada8\",\"type\":\"ColumnDataSource\"},{\"attributes\":{\"data_source\":{\"id\":\"da89aa22-9ffb-4c65-8b51-22355f936a05\",\"type\":\"ColumnDataSource\"},\"glyph\":{\"id\":\"9e671b1d-983b-40b6-ad66-80a4fb87702b\",\"type\":\"Circle\"},\"hover_glyph\":null,\"muted_glyph\":null,\"nonselection_glyph\":{\"id\":\"65f82b80-65ab-4dd9-97ac-dbe0963e5cb8\",\"type\":\"Circle\"},\"selection_glyph\":null,\"view\":{\"id\":\"cfb4d376-07a9-410a-8e84-5b05dff7cfab\",\"type\":\"CDSView\"}},\"id\":\"21e1ea6e-4ab3-4af3-bd68-fae7d472e141\",\"type\":\"GlyphRenderer\"},{\"attributes\":{},\"id\":\"45af5624-30fe-4c05-a9ef-e262edad4ee7\",\"type\":\"BasicTickFormatter\"},{\"attributes\":{\"children\":[{\"id\":\"7f57d60e-4a05-4bb8-a20a-ae15896e5dc6\",\"type\":\"ToolbarBox\"},{\"id\":\"4d176f3a-3dd3-4bec-a60d-1b27b632b0d7\",\"type\":\"Column\"}]},\"id\":\"bff4d492-6ff3-47f7-856f-9ea85812824d\",\"type\":\"Column\"},{\"attributes\":{\"fill_alpha\":{\"value\":0.7},\"fill_color\":{\"value\":\"#984ea3\"},\"line_alpha\":{\"value\":0.7},\"line_color\":{\"value\":\"#984ea3\"},\"x\":{\"field\":\"x\"},\"y\":{\"field\":\"y\"}},\"id\":\"9e671b1d-983b-40b6-ad66-80a4fb87702b\",\"type\":\"Circle\"},{\"attributes\":{\"callback\":null,\"end\":0.21568485438714344,\"start\":-0.7854097886127447},\"id\":\"0618e688-c274-4d83-826c-8d2c29b656e4\",\"type\":\"Range1d\"},{\"attributes\":{},\"id\":\"4ecda375-83fa-4687-9e6f-d5d8df8642c7\",\"type\":\"BasicTickFormatter\"},{\"attributes\":{\"callback\":null,\"data\":{\"x\":{\"__ndarray__\":\"6kBaC+kmTUATjP9BdnhGQJoUeXK8okNAZUQwzURNQEAEj5fqepM5QLl+1x49DjNA43efxZ7pK0ABHf6oNS8lQIW5AWK0JiFAaabK/5fNHEAyXISrRLcXQLhNN77yfxJAY/e9HSXSCUB8+xcG+PL5P6pLyTCOJvM/i0x4r/5eAkD8V4r/onsMQNp2dA5ihhJAjxD0admZFkDgE916y+AaQLJCetQloiBAZaOqayPcJUAb0ShXCFgnQGyEuDs7viRAgmTZvHKnIUAClEoyywEcQAkdm20ZMhdA8gysFa2bE0BcOOVNLiAQQIz879cQqAlAyPW6c+3OA0BzaXsBDl37PysCPNeJb/E/jILOIe5x5z8YQesIFwXRP2SyxoCsgc+/M+Y/jiy34L+RpEhju97Vv7NXgwVTbqM/H19da/QOyT/EX3mph7faPx3hMCck7e0/fGMz9SNT9z8EggO7O1X+P8BazmePFgFAoKZTVnGaAUBkdb+J5EcCQG0ObMD2QwJA7XWMacwGAUAB5zG4mXAAQNamALvLQwBAb0qC+tIhAEBsekSqWQkAQJuKCfhZl/8/ie5h/5Fm/z9o4aaX/CH/P7EojDC8P/8/MbAQGwF0/z8tbD/1ZZf/P4ElyQbhmP8/Iadwgyh//z8CA3W7eC7/P/Skzep9+P0/np8rD6fz/D9ng/Ev4E76P94DPv+5vPc/8w+/gPXv9T+IdWIq6pf0P7+MIXnZ3fM/k7gtI5OJ8z/pXDnoGcbzP/Hj/p6qKPQ/BtgA0iLy9D/H1PquStb2Px6GT22CrQFA\",\"dtype\":\"float64\",\"shape\":[75]},\"y\":{\"__ndarray__\":\"GhExyth1ND/Sv8nbtpRIP2vylNV0PVE/aTum7souWD/At0SJ8fVgPw3Iuahxymc/MSNhhJWvcD/bTfBN02d3P2zb5nxnaoA/CD5h5MAGhz8NmeH1TyaQP+zrCsc9p5Y/LbKd76fGnz/bLW5ISEmmPww9YvTcQq8/JV2OstnstT8Er5Y7M8G+P0c+r3jqkcU/5h99k6ZBzj88bCIzFzjVP4enV8oyxN0//yH99nXg5D8qOpLLf0jtP5kqGJXUifQ/c9cS8kHP/D+/DpwzojQEQIEmwoanVwxA4lgXt9HgE0BSSZ2AJuIbQAMJih9jjiNA5q4l5INuK0AwTKYKRj0zQNv5fmq8/DpAaCJseHrtQkB/+zpwzoxKQM3MzMzMeFJAZmZmZmZqWEAAAAAAAFxeQM3MzMzMJmJAmpmZmZkfZUBmZmZmZhhoQDMzMzMzEWtAAAAAAAAKbkBmZmZmZoFwQM3MzMzM/XFAMzMzMzN6c0CamZmZmfZ0QAAAAAAAc3ZAZmZmZmbvd0DNzMzMzGt5QDMzMzMz6HpAmpmZmZlkfEAAAAAAAOF9QGZmZmZmXX9AZmZmZuZsgECamZmZGSuBQM3MzMxM6YFAAAAAAICngkAzMzMzs2WDQGZmZmbmI4RAmpmZmRnihEDNzMzMTKCFQAAAAACAXoZAMzMzM7Mch0BmZmZm5tqHQJqZmZkZmYhAzczMzExXiUAAAAAAgBWKQDMzMzOz04pAZmZmZuaRi0CamZmZGVCMQM3MzMxMDo1AAAAAAIDMjUAzMzMzs4qOQGZmZmbmSI9A\",\"dtype\":\"float64\",\"shape\":[75]}},\"selected\":{\"id\":\"061af814-fa18-4bad-87c1-4245fa8e4781\",\"type\":\"Selection\"},\"selection_policy\":{\"id\":\"e31adda3-ec26-4073-b788-8a38a7a427db\",\"type\":\"UnionRenderers\"}},\"id\":\"dd08ba2e-3899-4e1d-b19d-4d8b53056ea9\",\"type\":\"ColumnDataSource\"},{\"attributes\":{\"dimension\":1,\"plot\":{\"id\":\"a2dfe51c-4295-4f03-8314-3ff2941e86cf\",\"subtype\":\"Figure\",\"type\":\"Plot\"},\"ticker\":{\"id\":\"c86133e5-dd94-4ce2-b71e-c6fe761a567c\",\"type\":\"LogTicker\"}},\"id\":\"d8b38cda-1430-424f-bdfc-43782fcd4b58\",\"type\":\"Grid\"},{\"attributes\":{},\"id\":\"c4e1d0e1-4463-4b83-a04f-406270103b3c\",\"type\":\"BasicTicker\"},{\"attributes\":{\"line_alpha\":0.6,\"line_color\":\"#e41a1c\",\"line_dash\":[6],\"line_width\":5,\"x\":{\"field\":\"x\"},\"y\":{\"field\":\"y\"}},\"id\":\"1b57e721-8ad0-4750-999f-9beb19e31ade\",\"type\":\"Line\"},{\"attributes\":{\"source\":{\"id\":\"36496129-1a21-4773-ba6b-ebb9ab87c683\",\"type\":\"ColumnDataSource\"}},\"id\":\"881a6c87-cd2b-453c-9fcd-cae6d46c1a2c\",\"type\":\"CDSView\"},{\"attributes\":{\"fill_alpha\":{\"value\":0.1},\"fill_color\":{\"value\":\"#1f77b4\"},\"line_alpha\":{\"value\":0.1},\"line_color\":{\"value\":\"#1f77b4\"},\"x\":{\"field\":\"x\"},\"y\":{\"field\":\"y\"}},\"id\":\"65f82b80-65ab-4dd9-97ac-dbe0963e5cb8\",\"type\":\"Circle\"},{\"attributes\":{\"line_alpha\":0.8,\"line_color\":\"#984ea3\",\"line_width\":1.5,\"x\":{\"field\":\"x\"},\"y\":{\"field\":\"y\"}},\"id\":\"ab220237-5984-4ce2-ba9d-7ba9f13e4b5e\",\"type\":\"Line\"},{\"attributes\":{},\"id\":\"061af814-fa18-4bad-87c1-4245fa8e4781\",\"type\":\"Selection\"}],\"root_ids\":[\"bff4d492-6ff3-47f7-856f-9ea85812824d\"]},\"title\":\"Bokeh Application\",\"version\":\"0.12.16\"}};\n",
       "  var render_items = [{\"docid\":\"d0e15383-a8e1-4b30-9662-6664bcfd14ea\",\"elementid\":\"22b98c33-733a-4a0f-8482-f750eda07a6b\",\"modelid\":\"bff4d492-6ff3-47f7-856f-9ea85812824d\"}];\n",
       "  root.Bokeh.embed.embed_items_notebook(docs_json, render_items);\n",
       "\n",
       "  }\n",
       "  if (root.Bokeh !== undefined) {\n",
       "    embed_document(root);\n",
       "  } else {\n",
       "    var attempts = 0;\n",
       "    var timer = setInterval(function(root) {\n",
       "      if (root.Bokeh !== undefined) {\n",
       "        embed_document(root);\n",
       "        clearInterval(timer);\n",
       "      }\n",
       "      attempts++;\n",
       "      if (attempts > 100) {\n",
       "        console.log(\"Bokeh: ERROR: Unable to run BokehJS code because BokehJS library is missing\")\n",
       "        clearInterval(timer);\n",
       "      }\n",
       "    }, 10, root)\n",
       "  }\n",
       "})(window);"
      ],
      "application/vnd.bokehjs_exec.v0+json": ""
     },
     "metadata": {
      "application/vnd.bokehjs_exec.v0+json": {
       "id": "bff4d492-6ff3-47f7-856f-9ea85812824d"
      }
     },
     "output_type": "display_data"
    },
    {
     "data": {
      "text/markdown": [
       "*FIGURE.* Cooling rates & difference."
      ],
      "text/plain": [
       "<IPython.core.display.Markdown object>"
      ]
     },
     "metadata": {},
     "output_type": "display_data"
    },
    {
     "data": {
      "text/html": [
       "<a id=\"Fluxes._trp.\"></a>"
      ],
      "text/plain": [
       "<IPython.core.display.HTML object>"
      ]
     },
     "metadata": {},
     "output_type": "display_data"
    },
    {
     "data": {
      "text/markdown": [
       "# Fluxes. trp."
      ],
      "text/plain": [
       "<IPython.core.display.Markdown object>"
      ]
     },
     "metadata": {},
     "output_type": "display_data"
    },
    {
     "data": {
      "text/html": [
       "\n",
       "<div class=\"bk-root\">\n",
       "    <div class=\"bk-plotdiv\" id=\"b7770e4d-b581-4d3c-81ee-8eba8f6a24a7\"></div>\n",
       "</div>"
      ]
     },
     "metadata": {},
     "output_type": "display_data"
    },
    {
     "data": {
      "application/javascript": [
       "(function(root) {\n",
       "  function embed_document(root) {\n",
       "    \n",
       "  var docs_json = {\"710b6956-d691-4f54-a3bc-8ad85617c595\":{\"roots\":{\"references\":[{\"attributes\":{\"axis_label\":\"flux (W m-2)\",\"formatter\":{\"id\":\"2f309519-e997-43f0-8823-b427c6bedcfa\",\"type\":\"BasicTickFormatter\"},\"plot\":{\"id\":\"9c29716c-9e09-433d-a03a-296d2ceeb89d\",\"subtype\":\"Figure\",\"type\":\"Plot\"},\"ticker\":{\"id\":\"367a132e-5a60-4417-9c9d-12bbbadb1ff1\",\"type\":\"BasicTicker\"}},\"id\":\"05117ffa-f30e-43ef-b49f-77c811b08f03\",\"type\":\"LinearAxis\"},{\"attributes\":{\"toolbar\":{\"id\":\"1afca6a2-1bb8-4445-b2bb-816bb602e8cc\",\"type\":\"ProxyToolbar\"},\"toolbar_location\":\"above\"},\"id\":\"10eddfe4-2948-4f0d-849b-2c26e1e43908\",\"type\":\"ToolbarBox\"},{\"attributes\":{},\"id\":\"7b114618-96ea-4d51-83fd-085bcff617ee\",\"type\":\"LinearScale\"},{\"attributes\":{\"fill_alpha\":{\"value\":0.1},\"fill_color\":{\"value\":\"#1f77b4\"},\"line_alpha\":{\"value\":0.1},\"line_color\":{\"value\":\"#1f77b4\"},\"top\":{\"field\":\"flux\"},\"width\":{\"value\":0.9},\"x\":{\"field\":\"band\"}},\"id\":\"169444c7-0721-44a5-a643-d6d3287f642d\",\"type\":\"VBar\"},{\"attributes\":{\"dimension\":1,\"plot\":{\"id\":\"cb1509d1-c088-4b96-8aaa-17b42f0a888e\",\"subtype\":\"Figure\",\"type\":\"Plot\"},\"ticker\":{\"id\":\"4276c7a5-07a5-462d-93c7-5f2aa9935ab6\",\"type\":\"BasicTicker\"}},\"id\":\"a1886134-fc71-4f40-aa42-aa9b9bc9096c\",\"type\":\"Grid\"},{\"attributes\":{},\"id\":\"696973ce-2729-4c02-ae79-d26376878d4e\",\"type\":\"CategoricalTickFormatter\"},{\"attributes\":{\"fill_alpha\":{\"value\":0.1},\"fill_color\":{\"value\":\"#1f77b4\"},\"line_alpha\":{\"value\":0.1},\"line_color\":{\"value\":\"#1f77b4\"},\"top\":{\"field\":\"flux\"},\"width\":{\"value\":0.9},\"x\":{\"field\":\"band\"}},\"id\":\"85db58b2-8a92-43bd-8285-fc16d19d3bec\",\"type\":\"VBar\"},{\"attributes\":{\"callback\":null,\"factors\":[\"1\",\"2\",\"3\",\"4\",\"5\",\"6\",\"7\",\"8\",\"9\",\"10\",\"11\"]},\"id\":\"674ec336-c4c7-4ef3-bdbc-48bfeba507b8\",\"type\":\"FactorRange\"},{\"attributes\":{\"axis_label\":\"flux (W m-2)\",\"formatter\":{\"id\":\"1a4dbe78-4a5b-4058-8051-96013deed305\",\"type\":\"BasicTickFormatter\"},\"plot\":{\"id\":\"cb1509d1-c088-4b96-8aaa-17b42f0a888e\",\"subtype\":\"Figure\",\"type\":\"Plot\"},\"ticker\":{\"id\":\"4276c7a5-07a5-462d-93c7-5f2aa9935ab6\",\"type\":\"BasicTicker\"}},\"id\":\"9a050cff-1951-4f88-b74c-6ed3fe6f4b57\",\"type\":\"LinearAxis\"},{\"attributes\":{},\"id\":\"2cdd7b55-63c5-4d64-bb67-db6d987d8cc8\",\"type\":\"BasicTickFormatter\"},{\"attributes\":{},\"id\":\"1a4dbe78-4a5b-4058-8051-96013deed305\",\"type\":\"BasicTickFormatter\"},{\"attributes\":{},\"id\":\"2317c2e4-4843-4b53-9375-e9259383f5c3\",\"type\":\"UnionRenderers\"},{\"attributes\":{\"bottom_units\":\"screen\",\"fill_alpha\":{\"value\":0.5},\"fill_color\":{\"value\":\"lightgrey\"},\"left_units\":\"screen\",\"level\":\"overlay\",\"line_alpha\":{\"value\":1.0},\"line_color\":{\"value\":\"black\"},\"line_dash\":[4,4],\"line_width\":{\"value\":2},\"plot\":null,\"render_mode\":\"css\",\"right_units\":\"screen\",\"top_units\":\"screen\"},\"id\":\"b04d3ba4-ab7a-43bf-911f-65681c7113c5\",\"type\":\"BoxAnnotation\"},{\"attributes\":{\"plot\":null,\"text\":\"Atmosphere heating. CLIRAD - CRD.\"},\"id\":\"27ead1bb-f760-473f-9681-aa309bbda8a5\",\"type\":\"Title\"},{\"attributes\":{\"data_source\":{\"id\":\"60e9cc85-aabe-4877-a889-4435863b1911\",\"type\":\"ColumnDataSource\"},\"glyph\":{\"id\":\"6c284b0e-48eb-4e51-bd38-ad551b22d71d\",\"type\":\"VBar\"},\"hover_glyph\":null,\"muted_glyph\":null,\"nonselection_glyph\":{\"id\":\"85db58b2-8a92-43bd-8285-fc16d19d3bec\",\"type\":\"VBar\"},\"selection_glyph\":null,\"view\":{\"id\":\"41633e5c-35c1-4dea-9cb0-cb4f88bc4ed8\",\"type\":\"CDSView\"}},\"id\":\"d07ef834-304c-483f-8de2-7306b200ecf6\",\"type\":\"GlyphRenderer\"},{\"attributes\":{},\"id\":\"cf7a7116-305c-4e8e-89e7-ba982c9dd2c1\",\"type\":\"Selection\"},{\"attributes\":{},\"id\":\"4406b82b-b5c6-46a7-8b38-f038270fa32c\",\"type\":\"PanTool\"},{\"attributes\":{},\"id\":\"1123c398-d18f-49ab-bf87-20cff8b13d24\",\"type\":\"CategoricalScale\"},{\"attributes\":{},\"id\":\"4276c7a5-07a5-462d-93c7-5f2aa9935ab6\",\"type\":\"BasicTicker\"},{\"attributes\":{},\"id\":\"d37f08dc-fcf1-4c05-bf66-803485a7f1e6\",\"type\":\"WheelZoomTool\"},{\"attributes\":{},\"id\":\"b8df4941-3019-4683-857b-c54b4300e868\",\"type\":\"ResetTool\"},{\"attributes\":{},\"id\":\"dbbeb5f0-0201-4b6b-a473-2580958031bc\",\"type\":\"CategoricalTicker\"},{\"attributes\":{},\"id\":\"512458f2-e3a1-4740-9346-f638a3932626\",\"type\":\"UnionRenderers\"},{\"attributes\":{},\"id\":\"dcc3ffb8-49fd-4b4e-aab8-cb1be5957aae\",\"type\":\"HelpTool\"},{\"attributes\":{\"plot\":{\"id\":\"cb1509d1-c088-4b96-8aaa-17b42f0a888e\",\"subtype\":\"Figure\",\"type\":\"Plot\"},\"ticker\":{\"id\":\"f3f8d2f0-d05c-467e-914c-762da40e1d86\",\"type\":\"CategoricalTicker\"}},\"id\":\"44393e84-26a8-4dee-acc0-5a36731a36e9\",\"type\":\"Grid\"},{\"attributes\":{},\"id\":\"d0a572fe-9bd1-4303-8658-0c5e894ae8a3\",\"type\":\"CategoricalTickFormatter\"},{\"attributes\":{\"active_drag\":\"auto\",\"active_inspect\":\"auto\",\"active_scroll\":\"auto\",\"active_tap\":\"auto\",\"tools\":[{\"id\":\"e246d721-51eb-46b6-b3ad-6e82e98a21bd\",\"type\":\"PanTool\"},{\"id\":\"922c32ec-0554-4836-8457-ed4c719ac1e9\",\"type\":\"WheelZoomTool\"},{\"id\":\"497b862e-781e-469a-a47e-fe2430a60a0c\",\"type\":\"BoxZoomTool\"},{\"id\":\"1e95590f-ceb8-4600-97b7-1a18be142888\",\"type\":\"SaveTool\"},{\"id\":\"7ec57936-557e-4a0c-817e-8ab1e1c0471b\",\"type\":\"ResetTool\"},{\"id\":\"dcc3ffb8-49fd-4b4e-aab8-cb1be5957aae\",\"type\":\"HelpTool\"}]},\"id\":\"3e2ee4d7-f4f1-4606-97e8-e892ad54cecd\",\"type\":\"Toolbar\"},{\"attributes\":{},\"id\":\"2f309519-e997-43f0-8823-b427c6bedcfa\",\"type\":\"BasicTickFormatter\"},{\"attributes\":{},\"id\":\"c4eb6186-36c1-42f1-940f-78ea8f49622c\",\"type\":\"SaveTool\"},{\"attributes\":{\"children\":[{\"id\":\"10eddfe4-2948-4f0d-849b-2c26e1e43908\",\"type\":\"ToolbarBox\"},{\"id\":\"b8bac6e8-84a3-447b-ae29-8677e61f9bd0\",\"type\":\"Column\"}]},\"id\":\"8f2eacfc-b67d-474b-b81c-c2ac870ee3e4\",\"type\":\"Column\"},{\"attributes\":{},\"id\":\"367a132e-5a60-4417-9c9d-12bbbadb1ff1\",\"type\":\"BasicTicker\"},{\"attributes\":{\"callback\":null,\"factors\":[\"1\",\"2\",\"3\",\"4\",\"5\",\"6\",\"7\",\"8\",\"9\",\"10\",\"11\"]},\"id\":\"8f590237-030e-4b4c-9542-431f94cfa0e2\",\"type\":\"FactorRange\"},{\"attributes\":{},\"id\":\"691f4053-b383-44e8-ba69-3428023cbd50\",\"type\":\"UnionRenderers\"},{\"attributes\":{},\"id\":\"1e95590f-ceb8-4600-97b7-1a18be142888\",\"type\":\"SaveTool\"},{\"attributes\":{},\"id\":\"f3f8d2f0-d05c-467e-914c-762da40e1d86\",\"type\":\"CategoricalTicker\"},{\"attributes\":{\"bottom_units\":\"screen\",\"fill_alpha\":{\"value\":0.5},\"fill_color\":{\"value\":\"lightgrey\"},\"left_units\":\"screen\",\"level\":\"overlay\",\"line_alpha\":{\"value\":1.0},\"line_color\":{\"value\":\"black\"},\"line_dash\":[4,4],\"line_width\":{\"value\":2},\"plot\":null,\"render_mode\":\"css\",\"right_units\":\"screen\",\"top_units\":\"screen\"},\"id\":\"2ebc74c3-065a-4169-9c97-06d9fa540042\",\"type\":\"BoxAnnotation\"},{\"attributes\":{\"callback\":null},\"id\":\"f89960e4-e7cc-45f9-a26c-be80273cbebc\",\"type\":\"DataRange1d\"},{\"attributes\":{\"children\":[{\"id\":\"b3363d84-cbcd-430a-acae-2b01e02e18de\",\"subtype\":\"Figure\",\"type\":\"Plot\"},{\"id\":\"cb1509d1-c088-4b96-8aaa-17b42f0a888e\",\"subtype\":\"Figure\",\"type\":\"Plot\"},{\"id\":\"9c29716c-9e09-433d-a03a-296d2ceeb89d\",\"subtype\":\"Figure\",\"type\":\"Plot\"}]},\"id\":\"d108cea8-ef0d-4a9d-a46c-876d432007da\",\"type\":\"Row\"},{\"attributes\":{\"fill_color\":{\"value\":\"#1f77b4\"},\"line_color\":{\"value\":\"#1f77b4\"},\"top\":{\"field\":\"flux\"},\"width\":{\"value\":0.9},\"x\":{\"field\":\"band\"}},\"id\":\"8aca31d4-d696-4e14-b528-21bed7701c4f\",\"type\":\"VBar\"},{\"attributes\":{\"plot\":{\"id\":\"9c29716c-9e09-433d-a03a-296d2ceeb89d\",\"subtype\":\"Figure\",\"type\":\"Plot\"},\"ticker\":{\"id\":\"dbbeb5f0-0201-4b6b-a473-2580958031bc\",\"type\":\"CategoricalTicker\"}},\"id\":\"c6d76a96-5d60-4e3d-aa32-430d31cee9d6\",\"type\":\"Grid\"},{\"attributes\":{},\"id\":\"e246d721-51eb-46b6-b3ad-6e82e98a21bd\",\"type\":\"PanTool\"},{\"attributes\":{\"tools\":[{\"id\":\"0ee21913-3eeb-4389-aebb-14549a457196\",\"type\":\"PanTool\"},{\"id\":\"0f78573f-1000-426a-8a4c-3c32044a5c29\",\"type\":\"WheelZoomTool\"},{\"id\":\"936ff5cc-9698-49cf-9f9e-8272f14e0387\",\"type\":\"BoxZoomTool\"},{\"id\":\"1c5a7eb6-5362-4502-9280-e32f5df686bd\",\"type\":\"SaveTool\"},{\"id\":\"93bd382b-c632-43e4-bb83-91b2e6b2bcfb\",\"type\":\"ResetTool\"},{\"id\":\"982e7377-5a1b-40e1-a218-7b73df80e532\",\"type\":\"HelpTool\"},{\"id\":\"e246d721-51eb-46b6-b3ad-6e82e98a21bd\",\"type\":\"PanTool\"},{\"id\":\"922c32ec-0554-4836-8457-ed4c719ac1e9\",\"type\":\"WheelZoomTool\"},{\"id\":\"497b862e-781e-469a-a47e-fe2430a60a0c\",\"type\":\"BoxZoomTool\"},{\"id\":\"1e95590f-ceb8-4600-97b7-1a18be142888\",\"type\":\"SaveTool\"},{\"id\":\"7ec57936-557e-4a0c-817e-8ab1e1c0471b\",\"type\":\"ResetTool\"},{\"id\":\"dcc3ffb8-49fd-4b4e-aab8-cb1be5957aae\",\"type\":\"HelpTool\"},{\"id\":\"4406b82b-b5c6-46a7-8b38-f038270fa32c\",\"type\":\"PanTool\"},{\"id\":\"d37f08dc-fcf1-4c05-bf66-803485a7f1e6\",\"type\":\"WheelZoomTool\"},{\"id\":\"047b63b3-ef7c-4598-874d-f7589d0d5f92\",\"type\":\"BoxZoomTool\"},{\"id\":\"c4eb6186-36c1-42f1-940f-78ea8f49622c\",\"type\":\"SaveTool\"},{\"id\":\"b8df4941-3019-4683-857b-c54b4300e868\",\"type\":\"ResetTool\"},{\"id\":\"c335bfd1-a1ec-4d5f-ae95-74025f0f4148\",\"type\":\"HelpTool\"}]},\"id\":\"1afca6a2-1bb8-4445-b2bb-816bb602e8cc\",\"type\":\"ProxyToolbar\"},{\"attributes\":{\"dimension\":1,\"plot\":{\"id\":\"9c29716c-9e09-433d-a03a-296d2ceeb89d\",\"subtype\":\"Figure\",\"type\":\"Plot\"},\"ticker\":{\"id\":\"367a132e-5a60-4417-9c9d-12bbbadb1ff1\",\"type\":\"BasicTicker\"}},\"id\":\"88f2778f-7236-482d-802d-a6c9ef28decf\",\"type\":\"Grid\"},{\"attributes\":{},\"id\":\"7ec57936-557e-4a0c-817e-8ab1e1c0471b\",\"type\":\"ResetTool\"},{\"attributes\":{},\"id\":\"3f38273a-fa6b-4825-aa16-f1bf702ac3b5\",\"type\":\"LinearScale\"},{\"attributes\":{},\"id\":\"c335bfd1-a1ec-4d5f-ae95-74025f0f4148\",\"type\":\"HelpTool\"},{\"attributes\":{},\"id\":\"813b806c-b73a-4f7a-bce5-63501aad5d8e\",\"type\":\"CategoricalScale\"},{\"attributes\":{\"axis_label\":\"spectral band\",\"formatter\":{\"id\":\"ea557be0-ed56-4aaf-9807-6476fa1da6c4\",\"type\":\"CategoricalTickFormatter\"},\"plot\":{\"id\":\"cb1509d1-c088-4b96-8aaa-17b42f0a888e\",\"subtype\":\"Figure\",\"type\":\"Plot\"},\"ticker\":{\"id\":\"f3f8d2f0-d05c-467e-914c-762da40e1d86\",\"type\":\"CategoricalTicker\"}},\"id\":\"cc1b01d7-5480-4827-b336-87253cae33db\",\"type\":\"CategoricalAxis\"},{\"attributes\":{\"callback\":null},\"id\":\"a4eeffcd-c321-42fe-a513-1858aa430f0b\",\"type\":\"DataRange1d\"},{\"attributes\":{},\"id\":\"f935ec78-49dc-43f0-9986-39b558158863\",\"type\":\"Selection\"},{\"attributes\":{\"below\":[{\"id\":\"3db870f9-bf53-401e-8f30-fc454a7c45e9\",\"type\":\"CategoricalAxis\"}],\"left\":[{\"id\":\"05117ffa-f30e-43ef-b49f-77c811b08f03\",\"type\":\"LinearAxis\"}],\"plot_height\":300,\"plot_width\":300,\"renderers\":[{\"id\":\"3db870f9-bf53-401e-8f30-fc454a7c45e9\",\"type\":\"CategoricalAxis\"},{\"id\":\"c6d76a96-5d60-4e3d-aa32-430d31cee9d6\",\"type\":\"Grid\"},{\"id\":\"05117ffa-f30e-43ef-b49f-77c811b08f03\",\"type\":\"LinearAxis\"},{\"id\":\"88f2778f-7236-482d-802d-a6c9ef28decf\",\"type\":\"Grid\"},{\"id\":\"2ebc74c3-065a-4169-9c97-06d9fa540042\",\"type\":\"BoxAnnotation\"},{\"id\":\"d07ef834-304c-483f-8de2-7306b200ecf6\",\"type\":\"GlyphRenderer\"}],\"title\":{\"id\":\"27ead1bb-f760-473f-9681-aa309bbda8a5\",\"type\":\"Title\"},\"toolbar\":{\"id\":\"ec8aed86-d369-4387-8e53-4319e5de5635\",\"type\":\"Toolbar\"},\"toolbar_location\":null,\"x_range\":{\"id\":\"8f590237-030e-4b4c-9542-431f94cfa0e2\",\"type\":\"FactorRange\"},\"x_scale\":{\"id\":\"1123c398-d18f-49ab-bf87-20cff8b13d24\",\"type\":\"CategoricalScale\"},\"y_range\":{\"id\":\"a4eeffcd-c321-42fe-a513-1858aa430f0b\",\"type\":\"DataRange1d\"},\"y_scale\":{\"id\":\"3f38273a-fa6b-4825-aa16-f1bf702ac3b5\",\"type\":\"LinearScale\"}},\"id\":\"9c29716c-9e09-433d-a03a-296d2ceeb89d\",\"subtype\":\"Figure\",\"type\":\"Plot\"},{\"attributes\":{\"overlay\":{\"id\":\"b04d3ba4-ab7a-43bf-911f-65681c7113c5\",\"type\":\"BoxAnnotation\"}},\"id\":\"497b862e-781e-469a-a47e-fe2430a60a0c\",\"type\":\"BoxZoomTool\"},{\"attributes\":{\"source\":{\"id\":\"60e9cc85-aabe-4877-a889-4435863b1911\",\"type\":\"ColumnDataSource\"}},\"id\":\"41633e5c-35c1-4dea-9cb0-cb4f88bc4ed8\",\"type\":\"CDSView\"},{\"attributes\":{\"fill_color\":{\"value\":\"#1f77b4\"},\"line_color\":{\"value\":\"#1f77b4\"},\"top\":{\"field\":\"flux\"},\"width\":{\"value\":0.9},\"x\":{\"field\":\"band\"}},\"id\":\"6c284b0e-48eb-4e51-bd38-ad551b22d71d\",\"type\":\"VBar\"},{\"attributes\":{\"axis_label\":\"spectral band\",\"formatter\":{\"id\":\"696973ce-2729-4c02-ae79-d26376878d4e\",\"type\":\"CategoricalTickFormatter\"},\"plot\":{\"id\":\"9c29716c-9e09-433d-a03a-296d2ceeb89d\",\"subtype\":\"Figure\",\"type\":\"Plot\"},\"ticker\":{\"id\":\"dbbeb5f0-0201-4b6b-a473-2580958031bc\",\"type\":\"CategoricalTicker\"}},\"id\":\"3db870f9-bf53-401e-8f30-fc454a7c45e9\",\"type\":\"CategoricalAxis\"},{\"attributes\":{\"active_drag\":\"auto\",\"active_inspect\":\"auto\",\"active_scroll\":\"auto\",\"active_tap\":\"auto\",\"tools\":[{\"id\":\"4406b82b-b5c6-46a7-8b38-f038270fa32c\",\"type\":\"PanTool\"},{\"id\":\"d37f08dc-fcf1-4c05-bf66-803485a7f1e6\",\"type\":\"WheelZoomTool\"},{\"id\":\"047b63b3-ef7c-4598-874d-f7589d0d5f92\",\"type\":\"BoxZoomTool\"},{\"id\":\"c4eb6186-36c1-42f1-940f-78ea8f49622c\",\"type\":\"SaveTool\"},{\"id\":\"b8df4941-3019-4683-857b-c54b4300e868\",\"type\":\"ResetTool\"},{\"id\":\"c335bfd1-a1ec-4d5f-ae95-74025f0f4148\",\"type\":\"HelpTool\"}]},\"id\":\"ec8aed86-d369-4387-8e53-4319e5de5635\",\"type\":\"Toolbar\"},{\"attributes\":{\"source\":{\"id\":\"6bcf0e14-a3a3-44e1-bccf-aa7249d90ff7\",\"type\":\"ColumnDataSource\"}},\"id\":\"93c9eb7c-5ca9-48aa-bc39-d096fd9ddc99\",\"type\":\"CDSView\"},{\"attributes\":{},\"id\":\"922c32ec-0554-4836-8457-ed4c719ac1e9\",\"type\":\"WheelZoomTool\"},{\"attributes\":{\"overlay\":{\"id\":\"2ebc74c3-065a-4169-9c97-06d9fa540042\",\"type\":\"BoxAnnotation\"}},\"id\":\"047b63b3-ef7c-4598-874d-f7589d0d5f92\",\"type\":\"BoxZoomTool\"},{\"attributes\":{\"callback\":null,\"data\":{\"band\":[\"1\",\"2\",\"3\",\"4\",\"5\",\"6\",\"7\",\"8\",\"9\",\"10\",\"11\"],\"flux\":{\"__ndarray__\":\"AEqFLU38yj8AArHPEEyyPwDPCxx1Gbm/AHHqf5AX2D8g1uJTAIzSv4AiMqzijd+/gGt9kdCWxT+A6Xk3FhTAv0BACX36GdC/QDwUw91ywD8AcylTcYipPw==\",\"dtype\":\"float64\",\"shape\":[11]}},\"selected\":{\"id\":\"f935ec78-49dc-43f0-9986-39b558158863\",\"type\":\"Selection\"},\"selection_policy\":{\"id\":\"2317c2e4-4843-4b53-9375-e9259383f5c3\",\"type\":\"UnionRenderers\"}},\"id\":\"60e9cc85-aabe-4877-a889-4435863b1911\",\"type\":\"ColumnDataSource\"},{\"attributes\":{\"data_source\":{\"id\":\"6bcf0e14-a3a3-44e1-bccf-aa7249d90ff7\",\"type\":\"ColumnDataSource\"},\"glyph\":{\"id\":\"8aca31d4-d696-4e14-b528-21bed7701c4f\",\"type\":\"VBar\"},\"hover_glyph\":null,\"muted_glyph\":null,\"nonselection_glyph\":{\"id\":\"169444c7-0721-44a5-a643-d6d3287f642d\",\"type\":\"VBar\"},\"selection_glyph\":null,\"view\":{\"id\":\"93c9eb7c-5ca9-48aa-bc39-d096fd9ddc99\",\"type\":\"CDSView\"}},\"id\":\"b6f87f64-3e3b-4c87-86d8-be8a8b77c6b6\",\"type\":\"GlyphRenderer\"},{\"attributes\":{\"below\":[{\"id\":\"cc1b01d7-5480-4827-b336-87253cae33db\",\"type\":\"CategoricalAxis\"}],\"left\":[{\"id\":\"9a050cff-1951-4f88-b74c-6ed3fe6f4b57\",\"type\":\"LinearAxis\"}],\"plot_height\":300,\"plot_width\":300,\"renderers\":[{\"id\":\"cc1b01d7-5480-4827-b336-87253cae33db\",\"type\":\"CategoricalAxis\"},{\"id\":\"44393e84-26a8-4dee-acc0-5a36731a36e9\",\"type\":\"Grid\"},{\"id\":\"9a050cff-1951-4f88-b74c-6ed3fe6f4b57\",\"type\":\"LinearAxis\"},{\"id\":\"a1886134-fc71-4f40-aa42-aa9b9bc9096c\",\"type\":\"Grid\"},{\"id\":\"b04d3ba4-ab7a-43bf-911f-65681c7113c5\",\"type\":\"BoxAnnotation\"},{\"id\":\"b6f87f64-3e3b-4c87-86d8-be8a8b77c6b6\",\"type\":\"GlyphRenderer\"}],\"title\":{\"id\":\"3ddfd84d-0a2d-4e0b-8e1f-d14c70d1692f\",\"type\":\"Title\"},\"toolbar\":{\"id\":\"3e2ee4d7-f4f1-4606-97e8-e892ad54cecd\",\"type\":\"Toolbar\"},\"toolbar_location\":null,\"x_range\":{\"id\":\"674ec336-c4c7-4ef3-bdbc-48bfeba507b8\",\"type\":\"FactorRange\"},\"x_scale\":{\"id\":\"813b806c-b73a-4f7a-bce5-63501aad5d8e\",\"type\":\"CategoricalScale\"},\"y_range\":{\"id\":\"f89960e4-e7cc-45f9-a26c-be80273cbebc\",\"type\":\"DataRange1d\"},\"y_scale\":{\"id\":\"7b114618-96ea-4d51-83fd-085bcff617ee\",\"type\":\"LinearScale\"}},\"id\":\"cb1509d1-c088-4b96-8aaa-17b42f0a888e\",\"subtype\":\"Figure\",\"type\":\"Plot\"},{\"attributes\":{\"plot\":null,\"text\":\"SFC flux. CLIRAD - CRD.\"},\"id\":\"3ddfd84d-0a2d-4e0b-8e1f-d14c70d1692f\",\"type\":\"Title\"},{\"attributes\":{\"axis_label\":\"spectral band\",\"formatter\":{\"id\":\"d0a572fe-9bd1-4303-8658-0c5e894ae8a3\",\"type\":\"CategoricalTickFormatter\"},\"plot\":{\"id\":\"b3363d84-cbcd-430a-acae-2b01e02e18de\",\"subtype\":\"Figure\",\"type\":\"Plot\"},\"ticker\":{\"id\":\"3ca3a98e-86b0-4f44-9d72-8fd73843ac58\",\"type\":\"CategoricalTicker\"}},\"id\":\"b5805b1a-ccc3-41a4-85b7-a56ca19481a3\",\"type\":\"CategoricalAxis\"},{\"attributes\":{},\"id\":\"ea557be0-ed56-4aaf-9807-6476fa1da6c4\",\"type\":\"CategoricalTickFormatter\"},{\"attributes\":{\"callback\":null},\"id\":\"68994f71-4d5d-484d-8aae-42c6fc79ec72\",\"type\":\"DataRange1d\"},{\"attributes\":{\"fill_alpha\":{\"value\":0.1},\"fill_color\":{\"value\":\"#1f77b4\"},\"line_alpha\":{\"value\":0.1},\"line_color\":{\"value\":\"#1f77b4\"},\"top\":{\"field\":\"flux\"},\"width\":{\"value\":0.9},\"x\":{\"field\":\"band\"}},\"id\":\"b2cb0111-5634-410a-8b2f-c679794b691c\",\"type\":\"VBar\"},{\"attributes\":{},\"id\":\"3ca3a98e-86b0-4f44-9d72-8fd73843ac58\",\"type\":\"CategoricalTicker\"},{\"attributes\":{},\"id\":\"24dc4f43-9f07-4c37-8c5f-c2623ce69383\",\"type\":\"BasicTicker\"},{\"attributes\":{\"bottom_units\":\"screen\",\"fill_alpha\":{\"value\":0.5},\"fill_color\":{\"value\":\"lightgrey\"},\"left_units\":\"screen\",\"level\":\"overlay\",\"line_alpha\":{\"value\":1.0},\"line_color\":{\"value\":\"black\"},\"line_dash\":[4,4],\"line_width\":{\"value\":2},\"plot\":null,\"render_mode\":\"css\",\"right_units\":\"screen\",\"top_units\":\"screen\"},\"id\":\"37993660-fd73-4539-a796-b5f0b2321f99\",\"type\":\"BoxAnnotation\"},{\"attributes\":{\"plot\":null,\"text\":\"TOA flux. CLIRAD - CRD.\"},\"id\":\"27688c83-ae3e-40a1-836b-942c14fd830e\",\"type\":\"Title\"},{\"attributes\":{},\"id\":\"42bd6883-0338-4703-9302-4ed634c2ce10\",\"type\":\"Selection\"},{\"attributes\":{},\"id\":\"982e7377-5a1b-40e1-a218-7b73df80e532\",\"type\":\"HelpTool\"},{\"attributes\":{},\"id\":\"93bd382b-c632-43e4-bb83-91b2e6b2bcfb\",\"type\":\"ResetTool\"},{\"attributes\":{},\"id\":\"7a723472-5997-4e4f-8d56-1d4daec28624\",\"type\":\"LinearScale\"},{\"attributes\":{\"axis_label\":\"flux (W m-2)\",\"formatter\":{\"id\":\"2cdd7b55-63c5-4d64-bb67-db6d987d8cc8\",\"type\":\"BasicTickFormatter\"},\"plot\":{\"id\":\"b3363d84-cbcd-430a-acae-2b01e02e18de\",\"subtype\":\"Figure\",\"type\":\"Plot\"},\"ticker\":{\"id\":\"24dc4f43-9f07-4c37-8c5f-c2623ce69383\",\"type\":\"BasicTicker\"}},\"id\":\"4ab0f862-35f0-4c74-95bc-b510ed419673\",\"type\":\"LinearAxis\"},{\"attributes\":{\"children\":[{\"id\":\"d108cea8-ef0d-4a9d-a46c-876d432007da\",\"type\":\"Row\"}]},\"id\":\"b8bac6e8-84a3-447b-ae29-8677e61f9bd0\",\"type\":\"Column\"},{\"attributes\":{\"dimension\":1,\"plot\":{\"id\":\"b3363d84-cbcd-430a-acae-2b01e02e18de\",\"subtype\":\"Figure\",\"type\":\"Plot\"},\"ticker\":{\"id\":\"24dc4f43-9f07-4c37-8c5f-c2623ce69383\",\"type\":\"BasicTicker\"}},\"id\":\"5ff6e4ce-bdef-496b-9076-b01a0b337a65\",\"type\":\"Grid\"},{\"attributes\":{},\"id\":\"1c5a7eb6-5362-4502-9280-e32f5df686bd\",\"type\":\"SaveTool\"},{\"attributes\":{\"fill_color\":{\"value\":\"#1f77b4\"},\"line_color\":{\"value\":\"#1f77b4\"},\"top\":{\"field\":\"flux\"},\"width\":{\"value\":0.9},\"x\":{\"field\":\"band\"}},\"id\":\"fd4c81a9-37ba-4fa5-b15e-bbf0bf1104e8\",\"type\":\"VBar\"},{\"attributes\":{},\"id\":\"0f78573f-1000-426a-8a4c-3c32044a5c29\",\"type\":\"WheelZoomTool\"},{\"attributes\":{\"callback\":null,\"data\":{\"band\":[\"1\",\"2\",\"3\",\"4\",\"5\",\"6\",\"7\",\"8\",\"9\",\"10\",\"11\"],\"flux\":{\"__ndarray__\":\"ALvVc9L7yj8A+yZNg6LUP4D2Bl+YTNO/oBKe0OtP2j+AxvfFpSrUPwAo5bUSuqO/gOo9ldOezj8Aic4yi1C8vwCymNh8XJs/oJog6j4Awj/AhD79DBS9Pw==\",\"dtype\":\"float64\",\"shape\":[11]}},\"selected\":{\"id\":\"cf7a7116-305c-4e8e-89e7-ba982c9dd2c1\",\"type\":\"Selection\"},\"selection_policy\":{\"id\":\"691f4053-b383-44e8-ba69-3428023cbd50\",\"type\":\"UnionRenderers\"}},\"id\":\"03f33dc1-1fc7-4d47-bba7-bf8071a9d398\",\"type\":\"ColumnDataSource\"},{\"attributes\":{},\"id\":\"8957b22b-bd84-4be0-85f1-27aa078b9a07\",\"type\":\"CategoricalScale\"},{\"attributes\":{},\"id\":\"0ee21913-3eeb-4389-aebb-14549a457196\",\"type\":\"PanTool\"},{\"attributes\":{\"active_drag\":\"auto\",\"active_inspect\":\"auto\",\"active_scroll\":\"auto\",\"active_tap\":\"auto\",\"tools\":[{\"id\":\"0ee21913-3eeb-4389-aebb-14549a457196\",\"type\":\"PanTool\"},{\"id\":\"0f78573f-1000-426a-8a4c-3c32044a5c29\",\"type\":\"WheelZoomTool\"},{\"id\":\"936ff5cc-9698-49cf-9f9e-8272f14e0387\",\"type\":\"BoxZoomTool\"},{\"id\":\"1c5a7eb6-5362-4502-9280-e32f5df686bd\",\"type\":\"SaveTool\"},{\"id\":\"93bd382b-c632-43e4-bb83-91b2e6b2bcfb\",\"type\":\"ResetTool\"},{\"id\":\"982e7377-5a1b-40e1-a218-7b73df80e532\",\"type\":\"HelpTool\"}]},\"id\":\"d3f420d5-0d3d-4bc5-b8cc-595717c99138\",\"type\":\"Toolbar\"},{\"attributes\":{\"plot\":{\"id\":\"b3363d84-cbcd-430a-acae-2b01e02e18de\",\"subtype\":\"Figure\",\"type\":\"Plot\"},\"ticker\":{\"id\":\"3ca3a98e-86b0-4f44-9d72-8fd73843ac58\",\"type\":\"CategoricalTicker\"}},\"id\":\"d594a70b-837c-4b8f-9936-0e2eb54749cf\",\"type\":\"Grid\"},{\"attributes\":{\"overlay\":{\"id\":\"37993660-fd73-4539-a796-b5f0b2321f99\",\"type\":\"BoxAnnotation\"}},\"id\":\"936ff5cc-9698-49cf-9f9e-8272f14e0387\",\"type\":\"BoxZoomTool\"},{\"attributes\":{\"callback\":null,\"factors\":[\"1\",\"2\",\"3\",\"4\",\"5\",\"6\",\"7\",\"8\",\"9\",\"10\",\"11\"]},\"id\":\"205188b9-b63a-4b06-9637-af6b668ec715\",\"type\":\"FactorRange\"},{\"attributes\":{\"below\":[{\"id\":\"b5805b1a-ccc3-41a4-85b7-a56ca19481a3\",\"type\":\"CategoricalAxis\"}],\"left\":[{\"id\":\"4ab0f862-35f0-4c74-95bc-b510ed419673\",\"type\":\"LinearAxis\"}],\"plot_height\":300,\"plot_width\":300,\"renderers\":[{\"id\":\"b5805b1a-ccc3-41a4-85b7-a56ca19481a3\",\"type\":\"CategoricalAxis\"},{\"id\":\"d594a70b-837c-4b8f-9936-0e2eb54749cf\",\"type\":\"Grid\"},{\"id\":\"4ab0f862-35f0-4c74-95bc-b510ed419673\",\"type\":\"LinearAxis\"},{\"id\":\"5ff6e4ce-bdef-496b-9076-b01a0b337a65\",\"type\":\"Grid\"},{\"id\":\"37993660-fd73-4539-a796-b5f0b2321f99\",\"type\":\"BoxAnnotation\"},{\"id\":\"1fc51658-e5ae-4311-abce-3532e187748d\",\"type\":\"GlyphRenderer\"}],\"title\":{\"id\":\"27688c83-ae3e-40a1-836b-942c14fd830e\",\"type\":\"Title\"},\"toolbar\":{\"id\":\"d3f420d5-0d3d-4bc5-b8cc-595717c99138\",\"type\":\"Toolbar\"},\"toolbar_location\":null,\"x_range\":{\"id\":\"205188b9-b63a-4b06-9637-af6b668ec715\",\"type\":\"FactorRange\"},\"x_scale\":{\"id\":\"8957b22b-bd84-4be0-85f1-27aa078b9a07\",\"type\":\"CategoricalScale\"},\"y_range\":{\"id\":\"68994f71-4d5d-484d-8aae-42c6fc79ec72\",\"type\":\"DataRange1d\"},\"y_scale\":{\"id\":\"7a723472-5997-4e4f-8d56-1d4daec28624\",\"type\":\"LinearScale\"}},\"id\":\"b3363d84-cbcd-430a-acae-2b01e02e18de\",\"subtype\":\"Figure\",\"type\":\"Plot\"},{\"attributes\":{\"data_source\":{\"id\":\"03f33dc1-1fc7-4d47-bba7-bf8071a9d398\",\"type\":\"ColumnDataSource\"},\"glyph\":{\"id\":\"fd4c81a9-37ba-4fa5-b15e-bbf0bf1104e8\",\"type\":\"VBar\"},\"hover_glyph\":null,\"muted_glyph\":null,\"nonselection_glyph\":{\"id\":\"b2cb0111-5634-410a-8b2f-c679794b691c\",\"type\":\"VBar\"},\"selection_glyph\":null,\"view\":{\"id\":\"9ce0cc49-b9f0-4e5b-80b2-e7977a39ca85\",\"type\":\"CDSView\"}},\"id\":\"1fc51658-e5ae-4311-abce-3532e187748d\",\"type\":\"GlyphRenderer\"},{\"attributes\":{\"source\":{\"id\":\"03f33dc1-1fc7-4d47-bba7-bf8071a9d398\",\"type\":\"ColumnDataSource\"}},\"id\":\"9ce0cc49-b9f0-4e5b-80b2-e7977a39ca85\",\"type\":\"CDSView\"},{\"attributes\":{\"callback\":null,\"data\":{\"band\":[\"1\",\"2\",\"3\",\"4\",\"5\",\"6\",\"7\",\"8\",\"9\",\"10\",\"11\"],\"flux\":{\"__ndarray__\":\"AADADkbs874Asf1kjA/QPwCJuDmVDMq/ABz/PuPCoT9AQswlVVvjP2B9dVWgFt0/ACGfockPsj8AMLyS5LmOP4CtS43Qz9E/AED5u3fUiD9ASCdc2U+wPw==\",\"dtype\":\"float64\",\"shape\":[11]}},\"selected\":{\"id\":\"42bd6883-0338-4703-9302-4ed634c2ce10\",\"type\":\"Selection\"},\"selection_policy\":{\"id\":\"512458f2-e3a1-4740-9346-f638a3932626\",\"type\":\"UnionRenderers\"}},\"id\":\"6bcf0e14-a3a3-44e1-bccf-aa7249d90ff7\",\"type\":\"ColumnDataSource\"}],\"root_ids\":[\"8f2eacfc-b67d-474b-b81c-c2ac870ee3e4\"]},\"title\":\"Bokeh Application\",\"version\":\"0.12.16\"}};\n",
       "  var render_items = [{\"docid\":\"710b6956-d691-4f54-a3bc-8ad85617c595\",\"elementid\":\"b7770e4d-b581-4d3c-81ee-8eba8f6a24a7\",\"modelid\":\"8f2eacfc-b67d-474b-b81c-c2ac870ee3e4\"}];\n",
       "  root.Bokeh.embed.embed_items_notebook(docs_json, render_items);\n",
       "\n",
       "  }\n",
       "  if (root.Bokeh !== undefined) {\n",
       "    embed_document(root);\n",
       "  } else {\n",
       "    var attempts = 0;\n",
       "    var timer = setInterval(function(root) {\n",
       "      if (root.Bokeh !== undefined) {\n",
       "        embed_document(root);\n",
       "        clearInterval(timer);\n",
       "      }\n",
       "      attempts++;\n",
       "      if (attempts > 100) {\n",
       "        console.log(\"Bokeh: ERROR: Unable to run BokehJS code because BokehJS library is missing\")\n",
       "        clearInterval(timer);\n",
       "      }\n",
       "    }, 10, root)\n",
       "  }\n",
       "})(window);"
      ],
      "application/vnd.bokehjs_exec.v0+json": ""
     },
     "metadata": {
      "application/vnd.bokehjs_exec.v0+json": {
       "id": "8f2eacfc-b67d-474b-b81c-c2ac870ee3e4"
      }
     },
     "output_type": "display_data"
    },
    {
     "data": {
      "text/markdown": [
       "*FIGURE.* Difference between CLIRAD and CRD in TOA, SFC and net atmosphere flux, in each spectral band."
      ],
      "text/plain": [
       "<IPython.core.display.Markdown object>"
      ]
     },
     "metadata": {},
     "output_type": "display_data"
    },
    {
     "data": {
      "text/html": [
       "<div>\n",
       "<style scoped>\n",
       "    .dataframe tbody tr th:only-of-type {\n",
       "        vertical-align: middle;\n",
       "    }\n",
       "\n",
       "    .dataframe tbody tr th {\n",
       "        vertical-align: top;\n",
       "    }\n",
       "\n",
       "    .dataframe thead th {\n",
       "        text-align: right;\n",
       "    }\n",
       "</style>\n",
       "<table border=\"1\" class=\"dataframe\">\n",
       "  <thead>\n",
       "    <tr style=\"text-align: right;\">\n",
       "      <th></th>\n",
       "      <th>OLR flux</th>\n",
       "      <th>SFC flux</th>\n",
       "      <th>ATM heating</th>\n",
       "    </tr>\n",
       "    <tr>\n",
       "      <th>Sum over bands</th>\n",
       "      <th></th>\n",
       "      <th></th>\n",
       "      <th></th>\n",
       "    </tr>\n",
       "  </thead>\n",
       "  <tbody>\n",
       "    <tr>\n",
       "      <th>CLIRAD - CRD</th>\n",
       "      <td>1.33</td>\n",
       "      <td>1.58</td>\n",
       "      <td>-0.25</td>\n",
       "    </tr>\n",
       "    <tr>\n",
       "      <th>CRD</th>\n",
       "      <td>-303.40</td>\n",
       "      <td>337.24</td>\n",
       "      <td>-181.37</td>\n",
       "    </tr>\n",
       "  </tbody>\n",
       "</table>\n",
       "</div>"
      ],
      "text/plain": [
       "                OLR flux  SFC flux  ATM heating\n",
       "Sum over bands                                 \n",
       "CLIRAD - CRD        1.33      1.58        -0.25\n",
       "CRD              -303.40    337.24      -181.37"
      ]
     },
     "metadata": {},
     "output_type": "display_data"
    },
    {
     "data": {
      "text/markdown": [
       "*TABLE.* Difference between CLIRAD and CRD in TOA, SFC and net atmosphere flux, over all spectral bands. CRD's TOA, SFC and net atmosphere flux, over all spectral bands."
      ],
      "text/plain": [
       "<IPython.core.display.Markdown object>"
      ]
     },
     "metadata": {},
     "output_type": "display_data"
    }
   ],
   "source": [
    "def script():\n",
    "    \n",
    "    d_atm = {'mls': 'mid-latitude summer',\n",
    "             'saw': 'sub-arctic winter',\n",
    "             'trp': 'tropical'}\n",
    "    \n",
    "    title = ('## Results over entire range of molecules'\n",
    "             ' and spectral bands')\n",
    "    \n",
    "    s_makeup = 'Makeup of atmosphere.'\n",
    "    s_atmpro = '# {}'\n",
    "    s_cool = 'Cooling rates. {}.'\n",
    "    s_flux = 'Fluxes. {}.'\n",
    "    \n",
    "    atmpros = ['mls', 'saw', 'trp']\n",
    "    \n",
    "    # TOC\n",
    "    show_markdown(title)\n",
    "    show_markdown('### Table of Contents')\n",
    "    show_html(climahtml.getHTML_hrefanchor(s_makeup))\n",
    "    for atmpro in atmpros:\n",
    "        show_markdown('**' + d_atm[atmpro] + '**')\n",
    "        show_html(climahtml.getHTML_hrefanchor(s_cool.format(atmpro)))\n",
    "        show_html(climahtml.getHTML_hrefanchor(s_flux.format(atmpro)))\n",
    "\n",
    "        \n",
    "    # Atmosphere makeup\n",
    "    show_html(climahtml.getHTML_idanchor(s_makeup))\n",
    "    show_markdown(climahtml.getMarkdown_sectitle(s_makeup))\n",
    "    show_makeup()\n",
    "#    show_grey_makeup()\n",
    "        \n",
    "    for atmpro in atmpros:\n",
    "        show_html(climahtml.getHTML_idanchor(s_cool.format(atmpro)))\n",
    "        show_markdown(\n",
    "            climahtml.getMarkdown_sectitle(s_cool.format(atmpro)))\n",
    "        show_cool(atmpro=atmpro)\n",
    "        show_html(climahtml.getHTML_idanchor(s_flux.format(atmpro)))\n",
    "        show_markdown(\n",
    "            climahtml.getMarkdown_sectitle(s_flux.format(atmpro)))\n",
    "        show_hist_flux(atmpro=atmpro)\n",
    "        show_tb_flux(atmpro=atmpro)\n",
    "    \n",
    "    \n",
    "script()  "
   ]
  },
  {
   "cell_type": "code",
   "execution_count": null,
   "metadata": {
    "collapsed": true
   },
   "outputs": [],
   "source": []
  },
  {
   "cell_type": "code",
   "execution_count": 364,
   "metadata": {},
   "outputs": [
    {
     "data": {
      "text/html": [
       "<script>\n",
       "code_show=true; \n",
       "function code_toggle() {\n",
       " if (code_show){\n",
       " $('div.input').hide();\n",
       " } else {\n",
       " $('div.input').show();\n",
       " }\n",
       " code_show = !code_show\n",
       "} \n",
       "$( document ).ready(code_toggle);\n",
       "</script>\n",
       "<form action=\"javascript:code_toggle()\"><input type=\"submit\" value=\"Click here to toggle on/off the raw code.\"></form>"
      ],
      "text/plain": [
       "<IPython.core.display.HTML object>"
      ]
     },
     "execution_count": 364,
     "metadata": {},
     "output_type": "execute_result"
    }
   ],
   "source": [
    "display.HTML('''<script>\n",
    "code_show=true; \n",
    "function code_toggle() {\n",
    " if (code_show){\n",
    " $('div.input').hide();\n",
    " } else {\n",
    " $('div.input').show();\n",
    " }\n",
    " code_show = !code_show\n",
    "} \n",
    "$( document ).ready(code_toggle);\n",
    "</script>\n",
    "<form action=\"javascript:code_toggle()\"><input type=\"submit\" value=\"Click here to toggle on/off the raw code.\"></form>''')"
   ]
  },
  {
   "cell_type": "code",
   "execution_count": null,
   "metadata": {
    "collapsed": true
   },
   "outputs": [],
   "source": []
  }
 ],
 "metadata": {
  "kernelspec": {
   "display_name": "Python 3",
   "language": "python",
   "name": "python3"
  },
  "language_info": {
   "codemirror_mode": {
    "name": "ipython",
    "version": 3
   },
   "file_extension": ".py",
   "mimetype": "text/x-python",
   "name": "python",
   "nbconvert_exporter": "python",
   "pygments_lexer": "ipython3",
   "version": "3.6.1"
  }
 },
 "nbformat": 4,
 "nbformat_minor": 2
}
