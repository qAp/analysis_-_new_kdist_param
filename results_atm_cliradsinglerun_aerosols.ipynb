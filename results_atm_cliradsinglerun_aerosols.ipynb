{
 "cells": [
  {
   "cell_type": "code",
   "execution_count": 29,
   "metadata": {
    "collapsed": true
   },
   "outputs": [],
   "source": [
    "import os\n",
    "import ast\n",
    "import json\n",
    "import importlib \n",
    "import itertools\n",
    "import collections\n",
    "import pprint\n",
    "\n",
    "from bokeh.io import output_notebook, show\n",
    "from bokeh.layouts import gridplot\n",
    "from bokeh.plotting import figure\n",
    "from bokeh.models import Range1d, Legend, ColumnDataSource, FactorRange\n",
    "from bokeh.palettes import all_palettes\n",
    "from bokeh.transform import factor_cmap\n",
    "\n",
    "import matplotlib\n",
    "import matplotlib.pyplot as plt\n",
    "import numpy as np\n",
    "import pandas as pd\n",
    "import xarray as xr\n",
    "\n",
    "\n",
    "import climatools.lblnew.bestfit_params as bestfits\n",
    "from climatools.lblnew import setup_bestfit, setup_overlap\n",
    "import climatools.lblnew.pipeline as pipe_lblnew\n",
    "import climatools.cliradlw.setup as setup_cliradlw\n",
    "import climatools.cliradlw.pipeline as pipe_cliradlw\n",
    "\n",
    "import climatools.html.html as climahtml\n",
    "from climatools.lblnew.dataio import *\n",
    "from climatools.plot.plot import *\n",
    "\n",
    "\n",
    "from IPython import display\n",
    "\n",
    "#importlib.reload(bestfits)\n",
    "#importlib.reload(setup_bestfit)\n",
    "#importlib.reload(setup_overlap)\n",
    "#importlib.reload(pipe_lblnew)\n",
    "#importlib.reload(setup_cliradlw)\n",
    "#importlib.reload(pipe_cliradlw)"
   ]
  },
  {
   "cell_type": "code",
   "execution_count": 30,
   "metadata": {
    "scrolled": true
   },
   "outputs": [
    {
     "data": {
      "text/html": [
       "\n",
       "    <div class=\"bk-root\">\n",
       "        <a href=\"https://bokeh.pydata.org\" target=\"_blank\" class=\"bk-logo bk-logo-small bk-logo-notebook\"></a>\n",
       "        <span id=\"f81be7c9-71e3-49b8-8e62-5315a7a90861\">Loading BokehJS ...</span>\n",
       "    </div>"
      ]
     },
     "metadata": {},
     "output_type": "display_data"
    },
    {
     "data": {
      "application/javascript": [
       "\n",
       "(function(root) {\n",
       "  function now() {\n",
       "    return new Date();\n",
       "  }\n",
       "\n",
       "  var force = true;\n",
       "\n",
       "  if (typeof (root._bokeh_onload_callbacks) === \"undefined\" || force === true) {\n",
       "    root._bokeh_onload_callbacks = [];\n",
       "    root._bokeh_is_loading = undefined;\n",
       "  }\n",
       "\n",
       "  var JS_MIME_TYPE = 'application/javascript';\n",
       "  var HTML_MIME_TYPE = 'text/html';\n",
       "  var EXEC_MIME_TYPE = 'application/vnd.bokehjs_exec.v0+json';\n",
       "  var CLASS_NAME = 'output_bokeh rendered_html';\n",
       "\n",
       "  /**\n",
       "   * Render data to the DOM node\n",
       "   */\n",
       "  function render(props, node) {\n",
       "    var script = document.createElement(\"script\");\n",
       "    node.appendChild(script);\n",
       "  }\n",
       "\n",
       "  /**\n",
       "   * Handle when an output is cleared or removed\n",
       "   */\n",
       "  function handleClearOutput(event, handle) {\n",
       "    var cell = handle.cell;\n",
       "\n",
       "    var id = cell.output_area._bokeh_element_id;\n",
       "    var server_id = cell.output_area._bokeh_server_id;\n",
       "    // Clean up Bokeh references\n",
       "    if (id !== undefined) {\n",
       "      Bokeh.index[id].model.document.clear();\n",
       "      delete Bokeh.index[id];\n",
       "    }\n",
       "\n",
       "    if (server_id !== undefined) {\n",
       "      // Clean up Bokeh references\n",
       "      var cmd = \"from bokeh.io.state import curstate; print(curstate().uuid_to_server['\" + server_id + \"'].get_sessions()[0].document.roots[0]._id)\";\n",
       "      cell.notebook.kernel.execute(cmd, {\n",
       "        iopub: {\n",
       "          output: function(msg) {\n",
       "            var element_id = msg.content.text.trim();\n",
       "            Bokeh.index[element_id].model.document.clear();\n",
       "            delete Bokeh.index[element_id];\n",
       "          }\n",
       "        }\n",
       "      });\n",
       "      // Destroy server and session\n",
       "      var cmd = \"import bokeh.io.notebook as ion; ion.destroy_server('\" + server_id + \"')\";\n",
       "      cell.notebook.kernel.execute(cmd);\n",
       "    }\n",
       "  }\n",
       "\n",
       "  /**\n",
       "   * Handle when a new output is added\n",
       "   */\n",
       "  function handleAddOutput(event, handle) {\n",
       "    var output_area = handle.output_area;\n",
       "    var output = handle.output;\n",
       "\n",
       "    // limit handleAddOutput to display_data with EXEC_MIME_TYPE content only\n",
       "    if ((output.output_type != \"display_data\") || (!output.data.hasOwnProperty(EXEC_MIME_TYPE))) {\n",
       "      return\n",
       "    }\n",
       "\n",
       "    var toinsert = output_area.element.find(\".\" + CLASS_NAME.split(' ')[0]);\n",
       "\n",
       "    if (output.metadata[EXEC_MIME_TYPE][\"id\"] !== undefined) {\n",
       "      toinsert[toinsert.length - 1].firstChild.textContent = output.data[JS_MIME_TYPE];\n",
       "      // store reference to embed id on output_area\n",
       "      output_area._bokeh_element_id = output.metadata[EXEC_MIME_TYPE][\"id\"];\n",
       "    }\n",
       "    if (output.metadata[EXEC_MIME_TYPE][\"server_id\"] !== undefined) {\n",
       "      var bk_div = document.createElement(\"div\");\n",
       "      bk_div.innerHTML = output.data[HTML_MIME_TYPE];\n",
       "      var script_attrs = bk_div.children[0].attributes;\n",
       "      for (var i = 0; i < script_attrs.length; i++) {\n",
       "        toinsert[toinsert.length - 1].firstChild.setAttribute(script_attrs[i].name, script_attrs[i].value);\n",
       "      }\n",
       "      // store reference to server id on output_area\n",
       "      output_area._bokeh_server_id = output.metadata[EXEC_MIME_TYPE][\"server_id\"];\n",
       "    }\n",
       "  }\n",
       "\n",
       "  function register_renderer(events, OutputArea) {\n",
       "\n",
       "    function append_mime(data, metadata, element) {\n",
       "      // create a DOM node to render to\n",
       "      var toinsert = this.create_output_subarea(\n",
       "        metadata,\n",
       "        CLASS_NAME,\n",
       "        EXEC_MIME_TYPE\n",
       "      );\n",
       "      this.keyboard_manager.register_events(toinsert);\n",
       "      // Render to node\n",
       "      var props = {data: data, metadata: metadata[EXEC_MIME_TYPE]};\n",
       "      render(props, toinsert[toinsert.length - 1]);\n",
       "      element.append(toinsert);\n",
       "      return toinsert\n",
       "    }\n",
       "\n",
       "    /* Handle when an output is cleared or removed */\n",
       "    events.on('clear_output.CodeCell', handleClearOutput);\n",
       "    events.on('delete.Cell', handleClearOutput);\n",
       "\n",
       "    /* Handle when a new output is added */\n",
       "    events.on('output_added.OutputArea', handleAddOutput);\n",
       "\n",
       "    /**\n",
       "     * Register the mime type and append_mime function with output_area\n",
       "     */\n",
       "    OutputArea.prototype.register_mime_type(EXEC_MIME_TYPE, append_mime, {\n",
       "      /* Is output safe? */\n",
       "      safe: true,\n",
       "      /* Index of renderer in `output_area.display_order` */\n",
       "      index: 0\n",
       "    });\n",
       "  }\n",
       "\n",
       "  // register the mime type if in Jupyter Notebook environment and previously unregistered\n",
       "  if (root.Jupyter !== undefined) {\n",
       "    var events = require('base/js/events');\n",
       "    var OutputArea = require('notebook/js/outputarea').OutputArea;\n",
       "\n",
       "    if (OutputArea.prototype.mime_types().indexOf(EXEC_MIME_TYPE) == -1) {\n",
       "      register_renderer(events, OutputArea);\n",
       "    }\n",
       "  }\n",
       "\n",
       "  \n",
       "  if (typeof (root._bokeh_timeout) === \"undefined\" || force === true) {\n",
       "    root._bokeh_timeout = Date.now() + 5000;\n",
       "    root._bokeh_failed_load = false;\n",
       "  }\n",
       "\n",
       "  var NB_LOAD_WARNING = {'data': {'text/html':\n",
       "     \"<div style='background-color: #fdd'>\\n\"+\n",
       "     \"<p>\\n\"+\n",
       "     \"BokehJS does not appear to have successfully loaded. If loading BokehJS from CDN, this \\n\"+\n",
       "     \"may be due to a slow or bad network connection. Possible fixes:\\n\"+\n",
       "     \"</p>\\n\"+\n",
       "     \"<ul>\\n\"+\n",
       "     \"<li>re-rerun `output_notebook()` to attempt to load from CDN again, or</li>\\n\"+\n",
       "     \"<li>use INLINE resources instead, as so:</li>\\n\"+\n",
       "     \"</ul>\\n\"+\n",
       "     \"<code>\\n\"+\n",
       "     \"from bokeh.resources import INLINE\\n\"+\n",
       "     \"output_notebook(resources=INLINE)\\n\"+\n",
       "     \"</code>\\n\"+\n",
       "     \"</div>\"}};\n",
       "\n",
       "  function display_loaded() {\n",
       "    var el = document.getElementById(\"f81be7c9-71e3-49b8-8e62-5315a7a90861\");\n",
       "    if (el != null) {\n",
       "      el.textContent = \"BokehJS is loading...\";\n",
       "    }\n",
       "    if (root.Bokeh !== undefined) {\n",
       "      if (el != null) {\n",
       "        el.textContent = \"BokehJS \" + root.Bokeh.version + \" successfully loaded.\";\n",
       "      }\n",
       "    } else if (Date.now() < root._bokeh_timeout) {\n",
       "      setTimeout(display_loaded, 100)\n",
       "    }\n",
       "  }\n",
       "\n",
       "\n",
       "  function run_callbacks() {\n",
       "    try {\n",
       "      root._bokeh_onload_callbacks.forEach(function(callback) { callback() });\n",
       "    }\n",
       "    finally {\n",
       "      delete root._bokeh_onload_callbacks\n",
       "    }\n",
       "    console.info(\"Bokeh: all callbacks have finished\");\n",
       "  }\n",
       "\n",
       "  function load_libs(js_urls, callback) {\n",
       "    root._bokeh_onload_callbacks.push(callback);\n",
       "    if (root._bokeh_is_loading > 0) {\n",
       "      console.log(\"Bokeh: BokehJS is being loaded, scheduling callback at\", now());\n",
       "      return null;\n",
       "    }\n",
       "    if (js_urls == null || js_urls.length === 0) {\n",
       "      run_callbacks();\n",
       "      return null;\n",
       "    }\n",
       "    console.log(\"Bokeh: BokehJS not loaded, scheduling load and callback at\", now());\n",
       "    root._bokeh_is_loading = js_urls.length;\n",
       "    for (var i = 0; i < js_urls.length; i++) {\n",
       "      var url = js_urls[i];\n",
       "      var s = document.createElement('script');\n",
       "      s.src = url;\n",
       "      s.async = false;\n",
       "      s.onreadystatechange = s.onload = function() {\n",
       "        root._bokeh_is_loading--;\n",
       "        if (root._bokeh_is_loading === 0) {\n",
       "          console.log(\"Bokeh: all BokehJS libraries loaded\");\n",
       "          run_callbacks()\n",
       "        }\n",
       "      };\n",
       "      s.onerror = function() {\n",
       "        console.warn(\"failed to load library \" + url);\n",
       "      };\n",
       "      console.log(\"Bokeh: injecting script tag for BokehJS library: \", url);\n",
       "      document.getElementsByTagName(\"head\")[0].appendChild(s);\n",
       "    }\n",
       "  };var element = document.getElementById(\"f81be7c9-71e3-49b8-8e62-5315a7a90861\");\n",
       "  if (element == null) {\n",
       "    console.log(\"Bokeh: ERROR: autoload.js configured with elementid 'f81be7c9-71e3-49b8-8e62-5315a7a90861' but no matching script tag was found. \")\n",
       "    return false;\n",
       "  }\n",
       "\n",
       "  var js_urls = [\"https://cdn.pydata.org/bokeh/release/bokeh-0.12.16.min.js\", \"https://cdn.pydata.org/bokeh/release/bokeh-widgets-0.12.16.min.js\", \"https://cdn.pydata.org/bokeh/release/bokeh-tables-0.12.16.min.js\", \"https://cdn.pydata.org/bokeh/release/bokeh-gl-0.12.16.min.js\"];\n",
       "\n",
       "  var inline_js = [\n",
       "    function(Bokeh) {\n",
       "      Bokeh.set_log_level(\"info\");\n",
       "    },\n",
       "    \n",
       "    function(Bokeh) {\n",
       "      \n",
       "    },\n",
       "    function(Bokeh) {\n",
       "      console.log(\"Bokeh: injecting CSS: https://cdn.pydata.org/bokeh/release/bokeh-0.12.16.min.css\");\n",
       "      Bokeh.embed.inject_css(\"https://cdn.pydata.org/bokeh/release/bokeh-0.12.16.min.css\");\n",
       "      console.log(\"Bokeh: injecting CSS: https://cdn.pydata.org/bokeh/release/bokeh-widgets-0.12.16.min.css\");\n",
       "      Bokeh.embed.inject_css(\"https://cdn.pydata.org/bokeh/release/bokeh-widgets-0.12.16.min.css\");\n",
       "      console.log(\"Bokeh: injecting CSS: https://cdn.pydata.org/bokeh/release/bokeh-tables-0.12.16.min.css\");\n",
       "      Bokeh.embed.inject_css(\"https://cdn.pydata.org/bokeh/release/bokeh-tables-0.12.16.min.css\");\n",
       "    }\n",
       "  ];\n",
       "\n",
       "  function run_inline_js() {\n",
       "    \n",
       "    if ((root.Bokeh !== undefined) || (force === true)) {\n",
       "      for (var i = 0; i < inline_js.length; i++) {\n",
       "        inline_js[i].call(root, root.Bokeh);\n",
       "      }if (force === true) {\n",
       "        display_loaded();\n",
       "      }} else if (Date.now() < root._bokeh_timeout) {\n",
       "      setTimeout(run_inline_js, 100);\n",
       "    } else if (!root._bokeh_failed_load) {\n",
       "      console.log(\"Bokeh: BokehJS failed to load within specified timeout.\");\n",
       "      root._bokeh_failed_load = true;\n",
       "    } else if (force !== true) {\n",
       "      var cell = $(document.getElementById(\"f81be7c9-71e3-49b8-8e62-5315a7a90861\")).parents('.cell').data().cell;\n",
       "      cell.output_area.append_execute_result(NB_LOAD_WARNING)\n",
       "    }\n",
       "\n",
       "  }\n",
       "\n",
       "  if (root._bokeh_is_loading === 0) {\n",
       "    console.log(\"Bokeh: BokehJS loaded, going straight to plotting\");\n",
       "    run_inline_js();\n",
       "  } else {\n",
       "    load_libs(js_urls, function() {\n",
       "      console.log(\"Bokeh: BokehJS plotting callback run at\", now());\n",
       "      run_inline_js();\n",
       "    });\n",
       "  }\n",
       "}(window));"
      ],
      "application/vnd.bokehjs_load.v0+json": "\n(function(root) {\n  function now() {\n    return new Date();\n  }\n\n  var force = true;\n\n  if (typeof (root._bokeh_onload_callbacks) === \"undefined\" || force === true) {\n    root._bokeh_onload_callbacks = [];\n    root._bokeh_is_loading = undefined;\n  }\n\n  \n\n  \n  if (typeof (root._bokeh_timeout) === \"undefined\" || force === true) {\n    root._bokeh_timeout = Date.now() + 5000;\n    root._bokeh_failed_load = false;\n  }\n\n  var NB_LOAD_WARNING = {'data': {'text/html':\n     \"<div style='background-color: #fdd'>\\n\"+\n     \"<p>\\n\"+\n     \"BokehJS does not appear to have successfully loaded. If loading BokehJS from CDN, this \\n\"+\n     \"may be due to a slow or bad network connection. Possible fixes:\\n\"+\n     \"</p>\\n\"+\n     \"<ul>\\n\"+\n     \"<li>re-rerun `output_notebook()` to attempt to load from CDN again, or</li>\\n\"+\n     \"<li>use INLINE resources instead, as so:</li>\\n\"+\n     \"</ul>\\n\"+\n     \"<code>\\n\"+\n     \"from bokeh.resources import INLINE\\n\"+\n     \"output_notebook(resources=INLINE)\\n\"+\n     \"</code>\\n\"+\n     \"</div>\"}};\n\n  function display_loaded() {\n    var el = document.getElementById(\"f81be7c9-71e3-49b8-8e62-5315a7a90861\");\n    if (el != null) {\n      el.textContent = \"BokehJS is loading...\";\n    }\n    if (root.Bokeh !== undefined) {\n      if (el != null) {\n        el.textContent = \"BokehJS \" + root.Bokeh.version + \" successfully loaded.\";\n      }\n    } else if (Date.now() < root._bokeh_timeout) {\n      setTimeout(display_loaded, 100)\n    }\n  }\n\n\n  function run_callbacks() {\n    try {\n      root._bokeh_onload_callbacks.forEach(function(callback) { callback() });\n    }\n    finally {\n      delete root._bokeh_onload_callbacks\n    }\n    console.info(\"Bokeh: all callbacks have finished\");\n  }\n\n  function load_libs(js_urls, callback) {\n    root._bokeh_onload_callbacks.push(callback);\n    if (root._bokeh_is_loading > 0) {\n      console.log(\"Bokeh: BokehJS is being loaded, scheduling callback at\", now());\n      return null;\n    }\n    if (js_urls == null || js_urls.length === 0) {\n      run_callbacks();\n      return null;\n    }\n    console.log(\"Bokeh: BokehJS not loaded, scheduling load and callback at\", now());\n    root._bokeh_is_loading = js_urls.length;\n    for (var i = 0; i < js_urls.length; i++) {\n      var url = js_urls[i];\n      var s = document.createElement('script');\n      s.src = url;\n      s.async = false;\n      s.onreadystatechange = s.onload = function() {\n        root._bokeh_is_loading--;\n        if (root._bokeh_is_loading === 0) {\n          console.log(\"Bokeh: all BokehJS libraries loaded\");\n          run_callbacks()\n        }\n      };\n      s.onerror = function() {\n        console.warn(\"failed to load library \" + url);\n      };\n      console.log(\"Bokeh: injecting script tag for BokehJS library: \", url);\n      document.getElementsByTagName(\"head\")[0].appendChild(s);\n    }\n  };var element = document.getElementById(\"f81be7c9-71e3-49b8-8e62-5315a7a90861\");\n  if (element == null) {\n    console.log(\"Bokeh: ERROR: autoload.js configured with elementid 'f81be7c9-71e3-49b8-8e62-5315a7a90861' but no matching script tag was found. \")\n    return false;\n  }\n\n  var js_urls = [\"https://cdn.pydata.org/bokeh/release/bokeh-0.12.16.min.js\", \"https://cdn.pydata.org/bokeh/release/bokeh-widgets-0.12.16.min.js\", \"https://cdn.pydata.org/bokeh/release/bokeh-tables-0.12.16.min.js\", \"https://cdn.pydata.org/bokeh/release/bokeh-gl-0.12.16.min.js\"];\n\n  var inline_js = [\n    function(Bokeh) {\n      Bokeh.set_log_level(\"info\");\n    },\n    \n    function(Bokeh) {\n      \n    },\n    function(Bokeh) {\n      console.log(\"Bokeh: injecting CSS: https://cdn.pydata.org/bokeh/release/bokeh-0.12.16.min.css\");\n      Bokeh.embed.inject_css(\"https://cdn.pydata.org/bokeh/release/bokeh-0.12.16.min.css\");\n      console.log(\"Bokeh: injecting CSS: https://cdn.pydata.org/bokeh/release/bokeh-widgets-0.12.16.min.css\");\n      Bokeh.embed.inject_css(\"https://cdn.pydata.org/bokeh/release/bokeh-widgets-0.12.16.min.css\");\n      console.log(\"Bokeh: injecting CSS: https://cdn.pydata.org/bokeh/release/bokeh-tables-0.12.16.min.css\");\n      Bokeh.embed.inject_css(\"https://cdn.pydata.org/bokeh/release/bokeh-tables-0.12.16.min.css\");\n    }\n  ];\n\n  function run_inline_js() {\n    \n    if ((root.Bokeh !== undefined) || (force === true)) {\n      for (var i = 0; i < inline_js.length; i++) {\n        inline_js[i].call(root, root.Bokeh);\n      }if (force === true) {\n        display_loaded();\n      }} else if (Date.now() < root._bokeh_timeout) {\n      setTimeout(run_inline_js, 100);\n    } else if (!root._bokeh_failed_load) {\n      console.log(\"Bokeh: BokehJS failed to load within specified timeout.\");\n      root._bokeh_failed_load = true;\n    } else if (force !== true) {\n      var cell = $(document.getElementById(\"f81be7c9-71e3-49b8-8e62-5315a7a90861\")).parents('.cell').data().cell;\n      cell.output_area.append_execute_result(NB_LOAD_WARNING)\n    }\n\n  }\n\n  if (root._bokeh_is_loading === 0) {\n    console.log(\"Bokeh: BokehJS loaded, going straight to plotting\");\n    run_inline_js();\n  } else {\n    load_libs(js_urls, function() {\n      console.log(\"Bokeh: BokehJS plotting callback run at\", now());\n      run_inline_js();\n    });\n  }\n}(window));"
     },
     "metadata": {},
     "output_type": "display_data"
    }
   ],
   "source": [
    "output_notebook()"
   ]
  },
  {
   "cell_type": "code",
   "execution_count": 31,
   "metadata": {
    "collapsed": true
   },
   "outputs": [],
   "source": [
    "'''\n",
    "Get the clirad-lw and lblnew `param`s for all spectral bands.  \n",
    "These are returned by functions `clirad_params_atm` and\n",
    "`lblnew_params_atm`, respectively.\n",
    "'''\n",
    "\n",
    "def molecules_byband_atm():\n",
    "    return {1: {'h2o': 'atmpro'},\n",
    "            2: {'h2o': 'atmpro'}, \n",
    "            3: {'co2': 0.0004, 'h2o': 'atmpro', 'n2o': 3.2e-07},\n",
    "            4: {'co2': 0.0004, 'h2o': 'atmpro'},\n",
    "            5: {'co2': 0.0004, 'h2o': 'atmpro'},\n",
    "            6: {'co2': 0.0004, 'h2o': 'atmpro'},\n",
    "            7: {'co2': 0.0004, 'h2o': 'atmpro', 'o3': 'atmpro'},\n",
    "            8: {'h2o': 'atmpro'},\n",
    "            9: {'ch4': 1.8e-06, 'h2o': 'atmpro', 'n2o': 3.2e-07},\n",
    "            10: {'h2o': 'atmpro'},\n",
    "            11: {'co2': 0.0004, 'h2o': 'atmpro'}}\n",
    "\n",
    "\n",
    "def greyabsorbers_by_band_atm():\n",
    "    return {1: {'con': 'atmpro'},\n",
    "            2: {'con': 'atmpro'},\n",
    "            3: {'con': 'atmpro'},\n",
    "            4: {'con': 'atmpro'},\n",
    "            5: {'con': 'atmpro'},\n",
    "            6: {'con': 'atmpro'}, \n",
    "            7: {'con': 'atmpro'},\n",
    "            8: {'con': 'atmpro', 'n2o': 3.2e-7}, \n",
    "            9: {'con': 'atmpro'}, \n",
    "            10: None,\n",
    "            11: None}\n",
    "\n",
    "\n",
    "def clirad_params_atm(atmpro='mls'):\n",
    "    d = {}\n",
    "    for band, molecule in molecules_byband_atm().items():\n",
    "        for param in setup_cliradlw.test_cases():\n",
    "            if [band] == param['band'] and molecule == param['molecule']:\n",
    "                param['atmpro'] = atmpro\n",
    "                d[band] = param\n",
    "                break                \n",
    "    return d\n",
    "\n",
    "\n",
    "def clirad_params_atm_singlerun(atmpro='mls'):\n",
    "    '''\n",
    "    Returns param of clirad-lw run that is equivalent to the total\n",
    "    of all the runs listed in molecules_byband_atm().  In order\n",
    "    for the output to be compatible with clirad_data_atm(), it will\n",
    "    be a list.\n",
    "    '''\n",
    "    param0 = {'band': [1, 2, 3, 4, 5, 6, 7, 8, 9, 10, 11],\n",
    "              'commitnumber': '1723552',\n",
    "              'molecule': {'ch4': 1.8e-06,\n",
    "                           'co2': 0.0004,\n",
    "                           'h2o': 'atmpro',\n",
    "                           'n2o': 3.2e-07,\n",
    "                           'o3': 'atmpro'}}\n",
    "    \n",
    "    d_atmpros = {'mls': 294, 'saw': 257, 'trp': 300}\n",
    "    \n",
    "    param = param0.copy()\n",
    "    param['atmpro'] = atmpro\n",
    "    param['tsfc'] = d_atmpros[atmpro]\n",
    "    \n",
    "    d = {}\n",
    "    d['all'] = param\n",
    "    return d\n",
    "\n",
    "\n",
    "def analysis_dirs_atm(atmpro='mls'):\n",
    "    params = clirad_params_atm(atmpro=atmpro)\n",
    "    return {band: pipe_cliradlw.get_analysis_dir(param=param,\n",
    "                                                 setup=setup_cliradlw) \n",
    "            for band, param in params.items()}\n",
    "\n",
    "\n",
    "def lblnew_params_atm(atmpro='mls'):\n",
    "    dirs = analysis_dirs_atm(atmpro=atmpro)\n",
    "    \n",
    "    d = {}\n",
    "    for band, dirname in dirs.items():\n",
    "        with open(os.path.join(dirname, 'param.py'), \n",
    "                  mode='r', encoding='utf-8') as f:\n",
    "            _, l = f.readlines()\n",
    "        \n",
    "        s = l.split('=')[1].strip()\n",
    "        d[band] = ast.literal_eval(s)\n",
    "        \n",
    "    return d\n"
   ]
  },
  {
   "cell_type": "code",
   "execution_count": 32,
   "metadata": {
    "collapsed": true
   },
   "outputs": [],
   "source": [
    "def db_getdir():\n",
    "    atmpro = 'mls'\n",
    "    params = clirad_params_atm_singlerun(atmpro=atmpro)\n",
    "    param = params['all']\n",
    "    \n",
    "    fdir = pipe_cliradlw.get_fortran_dir(param=param, \n",
    "                                         setup=setup_cliradlw)\n",
    "    return fdir\n",
    "\n",
    "\n",
    "def db_ktable():\n",
    "    fdir = db_getdir()    \n",
    "    fpath = os.path.join(fdir, 'ktable.dat')\n",
    "    \n",
    "    df = pd.read_csv(fpath, sep=r'\\s+')\n",
    "    df = df.set_index(['band', 'mid', 'il', 'it', 'g'])\n",
    "    ds = xr.Dataset.from_dataframe(df)\n",
    "    return ds\n",
    "\n",
    "\n",
    "def db_ng_dgs():\n",
    "    fdir = db_getdir()\n",
    "    fpath = os.path.join(fdir, 'ng_dgs.dat')\n",
    "    \n",
    "    df = pd.read_csv(fpath, sep=r'\\s+')\n",
    "    df = df.set_index(['band', 'mid', 'g'])\n",
    "    ds = xr.Dataset.from_dataframe(df)\n",
    "    return ds\n"
   ]
  },
  {
   "cell_type": "code",
   "execution_count": 33,
   "metadata": {
    "collapsed": true
   },
   "outputs": [],
   "source": [
    "def show_makeup():\n",
    "    df = pd.DataFrame()\n",
    "\n",
    "    for band, molecule in molecules_byband_atm().items():\n",
    "        for name, conc in molecule.items():\n",
    "            df.loc[name, band] = str(conc)\n",
    "\n",
    "    df = df.fillna(0)\n",
    "    df.columns.name = 'clirad band'\n",
    "    df.index.name = 'molecule'\n",
    "    \n",
    "    display.display(df)\n",
    "    \n",
    "    display.display(\n",
    "        display.Markdown('*TABLE.* Non-grey absorbers in the atmosphere.'))\n",
    "\n",
    "\n",
    "def show_grey_makeup():\n",
    "    df = pd.DataFrame()\n",
    "    \n",
    "    for band, molecule in greyabsorbers_by_band_atm().items():\n",
    "        if molecule == None:\n",
    "            pass\n",
    "        else:\n",
    "            for name, conc in molecule.items():\n",
    "                df.loc[name, band] = str(conc)\n",
    "                \n",
    "    df = df.fillna(0)\n",
    "    df.columns.name = 'clirad band'\n",
    "    df.index.name = 'absorber'\n",
    "    \n",
    "    display.display(df)\n",
    "    display.display(\n",
    "        display.Markdown('*TABLE.* Grey absorbers in the atmosphere.')\n",
    "    )"
   ]
  },
  {
   "cell_type": "code",
   "execution_count": 34,
   "metadata": {
    "collapsed": true
   },
   "outputs": [],
   "source": [
    "def load_output_file(path_csv):\n",
    "    '''\n",
    "    Load lblnew output .csv file to xarray.Dataset\n",
    "    \n",
    "    Parameters\n",
    "    ----------\n",
    "    path_csv: str\n",
    "              Path to the .csv file to be loaded.\n",
    "    ds: xarray.Dataset\n",
    "        Data in the input file in the form of an xarray.Dataset.\n",
    "    '''\n",
    "    toindex = ['band', 'pressure', 'igg', 'g']    \n",
    "    df = pd.read_csv(path_csv, sep=r'\\s+')\n",
    "    df = df.set_index([i for i in toindex if i in df.columns])\n",
    "    df = df.rename(columns={'sfu': 'flug',\n",
    "                            'sfd': 'fldg',\n",
    "                            'fnet': 'fnetg',\n",
    "                            'coolr': 'coolrg'})\n",
    "    ds = xr.Dataset.from_dataframe(df)\n",
    "\n",
    "    for l in ('level', 'layer'):\n",
    "        if l in ds.data_vars:\n",
    "            if len(ds[l].dims) > 1:\n",
    "                surface = {d: 0 for d in ds.dims if d != 'pressure'}\n",
    "                coord_level = ds[l][surface]\n",
    "                ds.coords[l] = ('pressure', coord_level)\n",
    "            else:\n",
    "                ds.coords[l] = ('pressure', ds[l])\n",
    "    \n",
    "    return ds"
   ]
  },
  {
   "cell_type": "code",
   "execution_count": 35,
   "metadata": {
    "collapsed": true
   },
   "outputs": [],
   "source": [
    "def lblnew_setup(param=None):\n",
    "    if 'ng_refs' in param:\n",
    "        return {'setup': setup_bestfit,\n",
    "                'fname_flux_crd': 'output_flux.dat',\n",
    "                'fname_cool_crd': 'output_coolr.dat',\n",
    "                'fname_flux_wgt': 'output_wfluxg.dat',\n",
    "                'fname_cool_wgt': 'output_wcoolrg.dat'}\n",
    "    else:\n",
    "        return {'setup': setup_overlap,\n",
    "                'fname_flux_crd': 'output_flux.dat',\n",
    "                'fname_cool_crd': 'output_coolr.dat',\n",
    "                'fname_flux_wgt': 'output_wflux.dat',\n",
    "                'fname_cool_wgt': 'output_wcoolr.dat'}\n",
    "\n",
    "    \n",
    "def load_lblnew_data(param):\n",
    "    \n",
    "    fname_dsname = [('fname_flux_crd', 'ds_flux_crd'),\n",
    "                    ('fname_cool_crd', 'ds_cool_crd'),\n",
    "                    ('fname_flux_wgt', 'ds_flux_wgt'),\n",
    "                    ('fname_cool_wgt', 'ds_cool_wgt')]\n",
    "    \n",
    "    d = lblnew_setup(param)\n",
    "    dir_fortran = pipe_lblnew.get_dir_case(param, setup=d['setup'])\n",
    "    \n",
    "    data_dict = {}\n",
    "    for fname, dsname in fname_dsname:\n",
    "        fpath = os.path.join(dir_fortran, d[fname])\n",
    "        data_dict[dsname] = load_output_file(fpath)\n",
    "    return data_dict"
   ]
  },
  {
   "cell_type": "code",
   "execution_count": 36,
   "metadata": {
    "collapsed": true
   },
   "outputs": [],
   "source": [
    "def crd_data_atm(params_atm):\n",
    "    '''\n",
    "    Parameters\n",
    "    ----------\n",
    "    \n",
    "    params_atm: dict\n",
    "                Parameter dictionary for each band.\n",
    "                \n",
    "    d: dict\n",
    "       'flux': xr.Dataset. [pressure, band]\n",
    "               Fluxes.\n",
    "       'cool': xr.Dataset. [pressure, band]\n",
    "               Cooling rate.\n",
    "    \n",
    "    '''\n",
    "    \n",
    "    results_atm = {band: load_lblnew_data(param) \n",
    "                   for band, param in params_atm.items()}\n",
    "    \n",
    "    bands = [band for band, _ in params_atm.items()]\n",
    "    fluxs = [d['ds_flux_crd'] for _, d in results_atm.items()]\n",
    "    cools = [d['ds_cool_crd'] for _, d in results_atm.items()]\n",
    "    \n",
    "    d = {}\n",
    "    d['flux'] = xr.concat(fluxs, dim=bands).rename({'concat_dim': 'band'})\n",
    "    d['cool'] = xr.concat(cools, dim=bands).rename({'concat_dim': 'band'})\n",
    "    return d        \n",
    "        \n",
    "        \n",
    "\n",
    "def clirad_data_atm(params_atm):\n",
    "    \n",
    "    dirnames = [pipe_cliradlw.get_fortran_dir(param,\n",
    "                                              setup=setup_cliradlw)\n",
    "                for _, param in params_atm.items()]\n",
    "    \n",
    "    fpaths_flux = [os.path.join(n, 'output_flux.dat') for n in dirnames]\n",
    "    fpaths_cool = [os.path.join(n, 'output_coolr.dat') for n in dirnames]\n",
    "    \n",
    "    fluxs = [load_output_file(p) for p in fpaths_flux]    \n",
    "    cools = [load_output_file(p) for p in fpaths_cool]\n",
    "    \n",
    "    d = {}\n",
    "    d['flux'] = sum(fluxs)\n",
    "    d['cool'] = sum(cools)\n",
    "    return d\n",
    "\n"
   ]
  },
  {
   "cell_type": "code",
   "execution_count": 37,
   "metadata": {
    "collapsed": true
   },
   "outputs": [],
   "source": [
    "\n",
    "\n",
    "import rtmtools.clirad.sw.wrangle as cliradwrangle\n",
    "\n",
    "import importlib\n",
    "importlib.reload(cliradwrangle)\n",
    "\n",
    "def oldclirad_data_atm():\n",
    "    '''\n",
    "    Load the OLD clirad's results. mls only.\n",
    "    '''\n",
    "    fpath = os.path.join('/chia_cluster/home/jackyu/radiation',\n",
    "                         'clirad-lw',\n",
    "                         'LW',\n",
    "                         'examples',\n",
    "                         'mls75_h2o_atmpro_co2_.0004_o3_atmpro_n2o_3.2e-7_ch4_1.8e-6_H2012',\n",
    "                         'OUTPUT_CLIRAD.dat')\n",
    "    \n",
    "    ds = cliradwrangle.load_OUTPUT_CLIRAD(readfrom=fpath)\n",
    "    \n",
    "    ds_cool = xr.Dataset()\n",
    "    ds_cool.coords['pressure'] = ('pressure', ds['layer_pressure'])\n",
    "    ds_cool.coords['band'] = ('band', ds['spectral_band'])\n",
    "    ds_cool['coolrg'] = (('band', 'pressure'), - ds['heating_rate'])\n",
    "    \n",
    "    ds_flux = xr.Dataset()\n",
    "    ds_flux.coords['pressure'] = ('pressure', ds['level_pressure'])\n",
    "    ds_flux.coords['band'] = ('band', ds['spectral_band'])\n",
    "    ds_flux['flug'] = (('band', 'pressure'), ds['flux_up'])\n",
    "    ds_flux['fldg'] = (('band', 'pressure'), ds['flux_down'])\n",
    "    ds_flux['fnetg'] = (('band', 'pressure'), ds['net_flux'])\n",
    "    \n",
    "    \n",
    "    d = {}\n",
    "    d['cool'] = ds_cool\n",
    "    d['flux'] = ds_flux\n",
    "    return d\n"
   ]
  },
  {
   "cell_type": "code",
   "execution_count": 38,
   "metadata": {
    "collapsed": true
   },
   "outputs": [],
   "source": [
    "def fmt_cool(ds_in):\n",
    "    ds = ds_in.copy(deep=True)\n",
    "    if 'igg' in ds.dims:\n",
    "        ds = ds.sel(igg=1)\n",
    "\n",
    "    if 'g' in ds.dims:\n",
    "        ds = ds.sum('g')\n",
    "            \n",
    "    if 'band' in ds.dims:\n",
    "        try:\n",
    "            ds = ds.squeeze('band')\n",
    "        except ValueError:\n",
    "            ds = ds.sum('band')\n",
    "                \n",
    "    return ds['coolrg']\n",
    "\n",
    "\n",
    "\n",
    "def nice_xlims(pltdata=None, prange=None):\n",
    "    \n",
    "    def get_slice(srs):\n",
    "        return srs.sel(pressure=slice(*prange))\n",
    "    \n",
    "    srss = [d['srs'] for d in pltdata]\n",
    "    vmin = min([get_slice(srs).min() for srs in srss])\n",
    "    vmax = max([get_slice(srs).max() for srs in srss])\n",
    "    dv = (vmax - vmin) * .01\n",
    "    return float(vmin - dv), float(vmax + dv)\n",
    "\n",
    "\n",
    "    \n",
    "def plt_cool_bokeh(pltdata=None, \n",
    "                   y_axis_type='linear', prange=(50, 1050)):\n",
    "    \n",
    "    ymin = 1e-2 \n",
    "    ymax = 1020\n",
    "    \n",
    "    p2 = figure(y_axis_type=y_axis_type, plot_width=300)\n",
    "    xmin, xmax = nice_xlims(pltdata, prange=prange)\n",
    "    \n",
    "    rs = []\n",
    "    for d in pltdata:\n",
    "        rd = []\n",
    "        if 'marker' in d:\n",
    "            r_mark = getattr(p2, d['marker'])(d['srs'].values, \n",
    "                        d['srs'].coords['pressure'].values,\n",
    "                        color=d['color'], alpha=.7)\n",
    "            rd.append(r_mark)\n",
    "        r_line = p2.line(d['srs'].values, \n",
    "                         d['srs'].coords['pressure'].values,\n",
    "                         color=d['color'], alpha=d['alpha'], \n",
    "                         line_width=d['line_width'], \n",
    "                         line_dash=d['line_dash'])\n",
    "        rd.append(r_line)\n",
    "      \n",
    "        rs.append(rd)\n",
    "        \n",
    "    p2.y_range = Range1d(ymax, ymin)  \n",
    "    p2.yaxis.axis_label = 'pressure [mb]'\n",
    "    \n",
    "    p2.x_range = Range1d(xmin, xmax)\n",
    "    p2.xaxis.axis_label = 'cooling rate [K/day]'\n",
    "    \n",
    "    items = [(d['label'], r) for r, d in zip(rs, pltdata)]\n",
    "    legend = Legend(items=items, location=(10, 0))\n",
    "    legend.label_text_font_size = '8pt'\n",
    "    p2.add_layout(legend, 'above')\n",
    "    p2.legend.orientation = 'horizontal'\n",
    "    p2.legend.location = 'top_center'\n",
    "    \n",
    "    return p2"
   ]
  },
  {
   "cell_type": "code",
   "execution_count": 39,
   "metadata": {
    "collapsed": true
   },
   "outputs": [],
   "source": [
    "def pltdata_cool(atmpro='mls'):\n",
    "    \n",
    "    d_clirad_singlerun = clirad_data_atm(\n",
    "        clirad_params_atm_singlerun(atmpro=atmpro))\n",
    "    d_clirad = clirad_data_atm(clirad_params_atm(atmpro=atmpro))\n",
    "    d_crd = crd_data_atm(lblnew_params_atm(atmpro=atmpro))\n",
    "\n",
    "    ds_clirad_singlerun = d_clirad_singlerun['cool']\n",
    "    ds_clirad = d_clirad['cool']\n",
    "    ds_crd = d_crd['cool']\n",
    "\n",
    "    colors = all_palettes['Set1'][4]\n",
    "    \n",
    "    data = [\n",
    "        {'label': 'CLIRAD (single-run)',\n",
    "        'srs': fmt_cool(ds_clirad_singlerun),\n",
    "        'line_dash': 'dashed', 'line_width': 5,\n",
    "        'color': colors[1], 'alpha': .6},\n",
    "        {'label': 'CRD',\n",
    "         'srs': fmt_cool(ds_crd),\n",
    "         'line_dash': 'solid', 'line_width': 1.5,\n",
    "         'marker': 'circle', 'marker_size': 5,\n",
    "         'color': colors[2], 'alpha': 1}\n",
    "    ]\n",
    "#        {'label': 'CLIRAD',\n",
    "#         'srs': fmt_cool(ds_clirad),\n",
    "#         'line_dash': 'dashed', 'line_width': 5,\n",
    "#         'color': colors[0], 'alpha': .6}\n",
    "        \n",
    "\n",
    "    \n",
    "    # include old CLIRAD's results for mls profile\n",
    "    if atmpro == 'mls':\n",
    "        d_oldclirad = oldclirad_data_atm()\n",
    "        ds_oldclirad = d_oldclirad['cool']        \n",
    "        data.append(\n",
    "            {'label': 'old CLIRAD (H2012)',\n",
    "             'srs': fmt_cool(ds_oldclirad),\n",
    "             'line_dash': 'solid', 'line_width': 1.5,\n",
    "             'marker': 'square', 'marker_size': 3,\n",
    "             'color': colors[3], 'alpha': .5})\n",
    "    return data\n",
    "\n",
    "\n",
    "def pltdata_cooldiff(atmpro='mls'):\n",
    "    \n",
    "    d_clirad_singlerun = clirad_data_atm(\n",
    "        clirad_params_atm_singlerun(atmpro=atmpro))\n",
    "    d_clirad = clirad_data_atm(clirad_params_atm(atmpro=atmpro))\n",
    "    d_crd = crd_data_atm(lblnew_params_atm(atmpro=atmpro))\n",
    "    \n",
    "    ds_clirad_singlerun = d_clirad_singlerun['cool']\n",
    "    ds_clirad = d_clirad['cool']\n",
    "    ds_crd = d_crd['cool']\n",
    "    \n",
    "    ds_diff = ds_clirad_singlerun - ds_crd\n",
    "    \n",
    "    colors = all_palettes['Set1'][4]\n",
    "    \n",
    "    data = [\n",
    "        {'label': 'CLIRAD (single-run) - CRD',\n",
    "         'srs': fmt_cool(ds_diff),\n",
    "         'line_dash': 'solid', 'line_width': 1.5, \n",
    "         'marker': 'circle', 'marker_size': 7,\n",
    "         'color': colors[3], 'alpha': .8}\n",
    "    ]\n",
    "    \n",
    "    # include old CLIRAD's results for mls profile\n",
    "    if atmpro == 'mls':\n",
    "        d_oldclirad = oldclirad_data_atm()\n",
    "        ds_oldclirad = d_oldclirad['cool']\n",
    "        ds_oldclirad.coords['pressure'] = ds_crd.coords['pressure']\n",
    "        ds_diff_old = ds_oldclirad.sum('band') - ds_crd.sum('band')\n",
    "        data.append(\n",
    "            {'label': 'old CLIRAD (H2012) - CRD',\n",
    "             'srs': fmt_cool(ds_diff_old),\n",
    "             'line_dash': 'dashed', 'line_width': 4,\n",
    "             'color': colors[1], 'alpha': .5}\n",
    "        )\n",
    "    return data\n",
    "\n",
    "\n",
    "def show_cool(atmpro='mls'):\n",
    "    \n",
    "    data_cool = pltdata_cool(atmpro=atmpro)\n",
    "    p_cool_liny = plt_cool_bokeh(pltdata=data_cool)\n",
    "    p_cool_logy = plt_cool_bokeh(pltdata=data_cool, \n",
    "                                 y_axis_type='log',\n",
    "                                 prange=(.01, 200))\n",
    "    \n",
    "    data_cooldiff = pltdata_cooldiff(atmpro=atmpro)\n",
    "    p_cooldiff_logy = plt_cool_bokeh(pltdata=data_cooldiff,\n",
    "                                     y_axis_type='log',\n",
    "                                     prange=(.01, 200))\n",
    "    \n",
    "    everything = gridplot(p_cool_liny, p_cool_logy, \n",
    "                          p_cooldiff_logy,\n",
    "                          ncols=3)\n",
    "    show(everything)\n",
    "    display.display(\n",
    "        display.Markdown('*FIGURE.* Cooling rates & difference.'))\n",
    "\n",
    "\n",
    "    "
   ]
  },
  {
   "cell_type": "code",
   "execution_count": null,
   "metadata": {
    "collapsed": true
   },
   "outputs": [],
   "source": []
  },
  {
   "cell_type": "code",
   "execution_count": 40,
   "metadata": {
    "collapsed": true,
    "scrolled": false
   },
   "outputs": [],
   "source": [
    "\n",
    "\n",
    "def hist_band_vs_flux(da, title='Title'):\n",
    "       \n",
    "    bands = [str(b.values) for b in da['band']]\n",
    "\n",
    "    source = ColumnDataSource(\n",
    "        data={'band': bands, 'flux': da.values})\n",
    "\n",
    "    p = figure(x_range=bands, title=title)\n",
    "    p.vbar(source=source, x='band', top='flux', width=.9)\n",
    "\n",
    "    p.yaxis.axis_label = 'flux (W m-2)'\n",
    "    p.xaxis.axis_label = 'spectral band'\n",
    "    \n",
    "    return p\n",
    "\n",
    "\n",
    "def show_hist_flux(atmpro='mls'):\n",
    "    ds_crd = crd_data_atm(lblnew_params_atm(atmpro=atmpro))['flux']\n",
    "    ds_clirad = clirad_data_atm(\n",
    "        clirad_params_atm(atmpro=atmpro))['flux']\n",
    "    ds_clirad_singlerun = clirad_data_atm(\n",
    "        clirad_params_atm_singlerun(atmpro=atmpro))['flux']\n",
    "    \n",
    "    ip, varname = 0, 'flug'\n",
    "    da = (ds_clirad_singlerun - ds_crd).isel(pressure=ip)[varname]\n",
    "    p_toa = hist_band_vs_flux(da, \n",
    "        title='TOA flux. CLIRAD (single-run) - CRD.')\n",
    "\n",
    "    ip, varname = -1, 'fldg'\n",
    "    da = (ds_clirad_singlerun - ds_crd).isel(pressure=ip)[varname]\n",
    "    p_sfc = hist_band_vs_flux(da, \n",
    "        title='SFC flux. CLIRAD (single-run) - CRD.')    \n",
    "    \n",
    "    atm_crd = (ds_crd.isel(pressure=0) \n",
    "               - ds_crd.isel(pressure=-1))['fnetg']\n",
    "    atm_clirad_singlerun = (ds_clirad_singlerun.isel(pressure=0) \n",
    "                  - ds_clirad_singlerun.isel(pressure=-1))['fnetg']\n",
    "    da = atm_clirad_singlerun - atm_crd\n",
    "    p_atm = hist_band_vs_flux(da, \n",
    "        title='Atmosphere heating. CLIRAD (single-run) - CRD.')\n",
    "\n",
    "    everything = gridplot(p_toa, p_sfc, p_atm, ncols=3, \n",
    "                          plot_width=300, plot_height=300)\n",
    "    \n",
    "    show(everything)\n",
    "    display.display(\n",
    "        display.Markdown('*FIGURE.* Difference between CLIRAD and CRD'\n",
    "          ' in TOA, SFC and net atmosphere flux,'\n",
    "          ' in each spectral band.'))\n",
    "\n",
    "\n",
    "    \n",
    "def show_tb_flux(atmpro='mls'):\n",
    "    \n",
    "    def fmt(da_in):\n",
    "        da = da_in.copy(deep=True)\n",
    "        if 'igg' in da.dims:\n",
    "            da = da.sel(igg=1)\n",
    "            \n",
    "        if 'g' in da.dims:\n",
    "            da = da.sum('g')\n",
    "        \n",
    "        if 'band' in da.dims:\n",
    "            try:\n",
    "                da = da.squeeze('band')\n",
    "            except ValueError:\n",
    "                da = da.sum('band')\n",
    "                \n",
    "        return da\n",
    "    \n",
    "    ds_crd = crd_data_atm(lblnew_params_atm(atmpro=atmpro))['flux']\n",
    "    olr_crd = ds_crd['flug'].isel(pressure=0)\n",
    "    sfc_crd = ds_crd['fldg'].isel(pressure=-1)\n",
    "    atm_crd = (ds_crd.isel(pressure=0)\n",
    "               - ds_crd.isel(pressure=-1))['fnetg']\n",
    "    \n",
    "    ds_clirad = clirad_data_atm(\n",
    "        clirad_params_atm(atmpro=atmpro))['flux']\n",
    "    olr_clirad = ds_clirad['flug'].isel(pressure=0)\n",
    "    sfc_clirad = ds_clirad['fldg'].isel(pressure=-1)\n",
    "    atm_clirad = (ds_clirad.isel(pressure=0)\n",
    "                  - ds_clirad.isel(pressure=-1))['fnetg']\n",
    "\n",
    "    ds_clirad_singlerun = clirad_data_atm(\n",
    "        clirad_params_atm_singlerun(atmpro=atmpro))['flux']\n",
    "    olr_clirad_singlerun = ds_clirad_singlerun['flug'].isel(pressure=0)\n",
    "    sfc_clirad_singlerun = ds_clirad_singlerun['fldg'].isel(pressure=-1)\n",
    "    atm_clirad_singlerun = (ds_clirad_singlerun.isel(pressure=0)\n",
    "                  - ds_clirad_singlerun.isel(pressure=-1))['fnetg']\n",
    "    \n",
    "    if atmpro == 'mls':\n",
    "        ds_oldclirad = oldclirad_data_atm()['flux']\n",
    "        ds_oldclirad['pressure'] = ds_crd['pressure']\n",
    "        olr_oldclirad = ds_oldclirad['flug'].isel(pressure=0)\n",
    "        sfc_oldclirad = ds_oldclirad['fldg'].isel(pressure=-1)\n",
    "        atm_oldclirad = (ds_oldclirad.isel(pressure=0)\n",
    "                         - ds_oldclirad.isel(pressure=-1))['fnetg']\n",
    "        \n",
    "    \n",
    "    \n",
    "    df = pd.DataFrame()\n",
    "    df.index.name = 'Sum over bands'\n",
    "    \n",
    "    if atmpro == 'mls':\n",
    "        df.loc['old CLIRAD - CRD', \n",
    "               'OLR flux'] = (fmt(olr_oldclirad)\n",
    "                              - fmt(olr_crd)).values\n",
    "        df.loc['old CLIRAD - CRD', \n",
    "               'SFC flux'] = (fmt(sfc_oldclirad)\n",
    "                              - fmt(sfc_crd)).values\n",
    "        df.loc['old CLIRAD - CRD', \n",
    "               'ATM heating'] = (fmt(atm_oldclirad)\n",
    "                                 - fmt(atm_crd)).values\n",
    "    \n",
    "    df.loc['CLIRAD (single-run) - CRD', \n",
    "           'OLR flux'] = (fmt(olr_clirad_singlerun) \n",
    "                          - fmt(olr_crd)).values\n",
    "    df.loc['CLIRAD (single-run) - CRD', \n",
    "           'SFC flux'] = (fmt(sfc_clirad_singlerun) \n",
    "                          - fmt(sfc_crd)).values\n",
    "    df.loc['CLIRAD (single-run) - CRD', \n",
    "           'ATM heating'] = (fmt(atm_clirad_singlerun) \n",
    "                             - fmt(atm_crd)).values\n",
    "\n",
    "    df.loc['CRD', 'OLR flux'] = fmt(olr_crd).values\n",
    "    df.loc['CRD', 'SFC flux'] = fmt(sfc_crd).values\n",
    "    df.loc['CRD', 'ATM heating'] = fmt(atm_crd).values\n",
    "        \n",
    "    df = df.astype('float').round(2)\n",
    "    \n",
    "    display.display(df)\n",
    "    display.display(\n",
    "        display.Markdown('*TABLE.* Difference between CLIRAD and CRD'\n",
    "          ' in TOA, SFC and net atmosphere flux,'\n",
    "          ' over all spectral bands. CRD\\'s'\n",
    "          ' TOA, SFC and net atmosphere flux,'\n",
    "          ' over all spectral bands.'))\n"
   ]
  },
  {
   "cell_type": "code",
   "execution_count": 41,
   "metadata": {
    "scrolled": false
   },
   "outputs": [
    {
     "data": {
      "text/markdown": [
       "## Results over entire range of molecules and spectral bands"
      ],
      "text/plain": [
       "<IPython.core.display.Markdown object>"
      ]
     },
     "metadata": {},
     "output_type": "display_data"
    },
    {
     "data": {
      "text/markdown": [
       "### Table of Contents"
      ],
      "text/plain": [
       "<IPython.core.display.Markdown object>"
      ]
     },
     "metadata": {},
     "output_type": "display_data"
    },
    {
     "data": {
      "text/html": [
       "<a href=\"#Makeup_of_atmosphere.\">Makeup of atmosphere.</a>"
      ],
      "text/plain": [
       "<IPython.core.display.HTML object>"
      ]
     },
     "metadata": {},
     "output_type": "display_data"
    },
    {
     "data": {
      "text/markdown": [
       "**mid-latitude summer**"
      ],
      "text/plain": [
       "<IPython.core.display.Markdown object>"
      ]
     },
     "metadata": {},
     "output_type": "display_data"
    },
    {
     "data": {
      "text/html": [
       "<a href=\"#Cooling_rates._mls.\">Cooling rates. mls.</a>"
      ],
      "text/plain": [
       "<IPython.core.display.HTML object>"
      ]
     },
     "metadata": {},
     "output_type": "display_data"
    },
    {
     "data": {
      "text/html": [
       "<a href=\"#Fluxes._mls.\">Fluxes. mls.</a>"
      ],
      "text/plain": [
       "<IPython.core.display.HTML object>"
      ]
     },
     "metadata": {},
     "output_type": "display_data"
    },
    {
     "data": {
      "text/markdown": [
       "**sub-arctic winter**"
      ],
      "text/plain": [
       "<IPython.core.display.Markdown object>"
      ]
     },
     "metadata": {},
     "output_type": "display_data"
    },
    {
     "data": {
      "text/html": [
       "<a href=\"#Cooling_rates._saw.\">Cooling rates. saw.</a>"
      ],
      "text/plain": [
       "<IPython.core.display.HTML object>"
      ]
     },
     "metadata": {},
     "output_type": "display_data"
    },
    {
     "data": {
      "text/html": [
       "<a href=\"#Fluxes._saw.\">Fluxes. saw.</a>"
      ],
      "text/plain": [
       "<IPython.core.display.HTML object>"
      ]
     },
     "metadata": {},
     "output_type": "display_data"
    },
    {
     "data": {
      "text/markdown": [
       "**tropical**"
      ],
      "text/plain": [
       "<IPython.core.display.Markdown object>"
      ]
     },
     "metadata": {},
     "output_type": "display_data"
    },
    {
     "data": {
      "text/html": [
       "<a href=\"#Cooling_rates._trp.\">Cooling rates. trp.</a>"
      ],
      "text/plain": [
       "<IPython.core.display.HTML object>"
      ]
     },
     "metadata": {},
     "output_type": "display_data"
    },
    {
     "data": {
      "text/html": [
       "<a href=\"#Fluxes._trp.\">Fluxes. trp.</a>"
      ],
      "text/plain": [
       "<IPython.core.display.HTML object>"
      ]
     },
     "metadata": {},
     "output_type": "display_data"
    },
    {
     "data": {
      "text/html": [
       "<a id=\"Makeup_of_atmosphere.\"></a>"
      ],
      "text/plain": [
       "<IPython.core.display.HTML object>"
      ]
     },
     "metadata": {},
     "output_type": "display_data"
    },
    {
     "data": {
      "text/markdown": [
       "# Makeup of atmosphere."
      ],
      "text/plain": [
       "<IPython.core.display.Markdown object>"
      ]
     },
     "metadata": {},
     "output_type": "display_data"
    },
    {
     "data": {
      "text/html": [
       "<div>\n",
       "<style scoped>\n",
       "    .dataframe tbody tr th:only-of-type {\n",
       "        vertical-align: middle;\n",
       "    }\n",
       "\n",
       "    .dataframe tbody tr th {\n",
       "        vertical-align: top;\n",
       "    }\n",
       "\n",
       "    .dataframe thead th {\n",
       "        text-align: right;\n",
       "    }\n",
       "</style>\n",
       "<table border=\"1\" class=\"dataframe\">\n",
       "  <thead>\n",
       "    <tr style=\"text-align: right;\">\n",
       "      <th>clirad band</th>\n",
       "      <th>1</th>\n",
       "      <th>2</th>\n",
       "      <th>3</th>\n",
       "      <th>4</th>\n",
       "      <th>5</th>\n",
       "      <th>6</th>\n",
       "      <th>7</th>\n",
       "      <th>8</th>\n",
       "      <th>9</th>\n",
       "      <th>10</th>\n",
       "      <th>11</th>\n",
       "    </tr>\n",
       "    <tr>\n",
       "      <th>molecule</th>\n",
       "      <th></th>\n",
       "      <th></th>\n",
       "      <th></th>\n",
       "      <th></th>\n",
       "      <th></th>\n",
       "      <th></th>\n",
       "      <th></th>\n",
       "      <th></th>\n",
       "      <th></th>\n",
       "      <th></th>\n",
       "      <th></th>\n",
       "    </tr>\n",
       "  </thead>\n",
       "  <tbody>\n",
       "    <tr>\n",
       "      <th>h2o</th>\n",
       "      <td>atmpro</td>\n",
       "      <td>atmpro</td>\n",
       "      <td>atmpro</td>\n",
       "      <td>atmpro</td>\n",
       "      <td>atmpro</td>\n",
       "      <td>atmpro</td>\n",
       "      <td>atmpro</td>\n",
       "      <td>atmpro</td>\n",
       "      <td>atmpro</td>\n",
       "      <td>atmpro</td>\n",
       "      <td>atmpro</td>\n",
       "    </tr>\n",
       "    <tr>\n",
       "      <th>co2</th>\n",
       "      <td>0</td>\n",
       "      <td>0</td>\n",
       "      <td>0.0004</td>\n",
       "      <td>0.0004</td>\n",
       "      <td>0.0004</td>\n",
       "      <td>0.0004</td>\n",
       "      <td>0.0004</td>\n",
       "      <td>0</td>\n",
       "      <td>0</td>\n",
       "      <td>0</td>\n",
       "      <td>0.0004</td>\n",
       "    </tr>\n",
       "    <tr>\n",
       "      <th>n2o</th>\n",
       "      <td>0</td>\n",
       "      <td>0</td>\n",
       "      <td>3.2e-07</td>\n",
       "      <td>0</td>\n",
       "      <td>0</td>\n",
       "      <td>0</td>\n",
       "      <td>0</td>\n",
       "      <td>0</td>\n",
       "      <td>3.2e-07</td>\n",
       "      <td>0</td>\n",
       "      <td>0</td>\n",
       "    </tr>\n",
       "    <tr>\n",
       "      <th>o3</th>\n",
       "      <td>0</td>\n",
       "      <td>0</td>\n",
       "      <td>0</td>\n",
       "      <td>0</td>\n",
       "      <td>0</td>\n",
       "      <td>0</td>\n",
       "      <td>atmpro</td>\n",
       "      <td>0</td>\n",
       "      <td>0</td>\n",
       "      <td>0</td>\n",
       "      <td>0</td>\n",
       "    </tr>\n",
       "    <tr>\n",
       "      <th>ch4</th>\n",
       "      <td>0</td>\n",
       "      <td>0</td>\n",
       "      <td>0</td>\n",
       "      <td>0</td>\n",
       "      <td>0</td>\n",
       "      <td>0</td>\n",
       "      <td>0</td>\n",
       "      <td>0</td>\n",
       "      <td>1.8e-06</td>\n",
       "      <td>0</td>\n",
       "      <td>0</td>\n",
       "    </tr>\n",
       "  </tbody>\n",
       "</table>\n",
       "</div>"
      ],
      "text/plain": [
       "clirad band      1       2        3       4       5       6       7       8   \\\n",
       "molecule                                                                       \n",
       "h2o          atmpro  atmpro   atmpro  atmpro  atmpro  atmpro  atmpro  atmpro   \n",
       "co2               0       0   0.0004  0.0004  0.0004  0.0004  0.0004       0   \n",
       "n2o               0       0  3.2e-07       0       0       0       0       0   \n",
       "o3                0       0        0       0       0       0  atmpro       0   \n",
       "ch4               0       0        0       0       0       0       0       0   \n",
       "\n",
       "clirad band       9       10      11  \n",
       "molecule                              \n",
       "h2o           atmpro  atmpro  atmpro  \n",
       "co2                0       0  0.0004  \n",
       "n2o          3.2e-07       0       0  \n",
       "o3                 0       0       0  \n",
       "ch4          1.8e-06       0       0  "
      ]
     },
     "metadata": {},
     "output_type": "display_data"
    },
    {
     "data": {
      "text/markdown": [
       "*TABLE.* Non-grey absorbers in the atmosphere."
      ],
      "text/plain": [
       "<IPython.core.display.Markdown object>"
      ]
     },
     "metadata": {},
     "output_type": "display_data"
    },
    {
     "data": {
      "text/html": [
       "<div>\n",
       "<style scoped>\n",
       "    .dataframe tbody tr th:only-of-type {\n",
       "        vertical-align: middle;\n",
       "    }\n",
       "\n",
       "    .dataframe tbody tr th {\n",
       "        vertical-align: top;\n",
       "    }\n",
       "\n",
       "    .dataframe thead th {\n",
       "        text-align: right;\n",
       "    }\n",
       "</style>\n",
       "<table border=\"1\" class=\"dataframe\">\n",
       "  <thead>\n",
       "    <tr style=\"text-align: right;\">\n",
       "      <th>clirad band</th>\n",
       "      <th>1</th>\n",
       "      <th>2</th>\n",
       "      <th>3</th>\n",
       "      <th>4</th>\n",
       "      <th>5</th>\n",
       "      <th>6</th>\n",
       "      <th>7</th>\n",
       "      <th>8</th>\n",
       "      <th>9</th>\n",
       "    </tr>\n",
       "    <tr>\n",
       "      <th>absorber</th>\n",
       "      <th></th>\n",
       "      <th></th>\n",
       "      <th></th>\n",
       "      <th></th>\n",
       "      <th></th>\n",
       "      <th></th>\n",
       "      <th></th>\n",
       "      <th></th>\n",
       "      <th></th>\n",
       "    </tr>\n",
       "  </thead>\n",
       "  <tbody>\n",
       "    <tr>\n",
       "      <th>con</th>\n",
       "      <td>atmpro</td>\n",
       "      <td>atmpro</td>\n",
       "      <td>atmpro</td>\n",
       "      <td>atmpro</td>\n",
       "      <td>atmpro</td>\n",
       "      <td>atmpro</td>\n",
       "      <td>atmpro</td>\n",
       "      <td>atmpro</td>\n",
       "      <td>atmpro</td>\n",
       "    </tr>\n",
       "    <tr>\n",
       "      <th>n2o</th>\n",
       "      <td>0</td>\n",
       "      <td>0</td>\n",
       "      <td>0</td>\n",
       "      <td>0</td>\n",
       "      <td>0</td>\n",
       "      <td>0</td>\n",
       "      <td>0</td>\n",
       "      <td>3.2e-07</td>\n",
       "      <td>0</td>\n",
       "    </tr>\n",
       "  </tbody>\n",
       "</table>\n",
       "</div>"
      ],
      "text/plain": [
       "clirad band       1       2       3       4       5       6       7        8  \\\n",
       "absorber                                                                       \n",
       "con          atmpro  atmpro  atmpro  atmpro  atmpro  atmpro  atmpro   atmpro   \n",
       "n2o               0       0       0       0       0       0       0  3.2e-07   \n",
       "\n",
       "clirad band       9  \n",
       "absorber             \n",
       "con          atmpro  \n",
       "n2o               0  "
      ]
     },
     "metadata": {},
     "output_type": "display_data"
    },
    {
     "data": {
      "text/markdown": [
       "*TABLE.* Grey absorbers in the atmosphere."
      ],
      "text/plain": [
       "<IPython.core.display.Markdown object>"
      ]
     },
     "metadata": {},
     "output_type": "display_data"
    },
    {
     "data": {
      "text/html": [
       "<a id=\"Cooling_rates._mls.\"></a>"
      ],
      "text/plain": [
       "<IPython.core.display.HTML object>"
      ]
     },
     "metadata": {},
     "output_type": "display_data"
    },
    {
     "data": {
      "text/markdown": [
       "# Cooling rates. mls."
      ],
      "text/plain": [
       "<IPython.core.display.Markdown object>"
      ]
     },
     "metadata": {},
     "output_type": "display_data"
    },
    {
     "data": {
      "text/html": [
       "\n",
       "<div class=\"bk-root\">\n",
       "    <div class=\"bk-plotdiv\" id=\"c8a06136-cfce-40fd-84e6-ebeccd0cf51a\"></div>\n",
       "</div>"
      ]
     },
     "metadata": {},
     "output_type": "display_data"
    },
    {
     "data": {
      "application/javascript": [
       "(function(root) {\n",
       "  function embed_document(root) {\n",
       "    \n",
       "  var docs_json = {\"bf830ae5-12ed-4923-b588-ea99671ebc0f\":{\"roots\":{\"references\":[{\"attributes\":{\"data_source\":{\"id\":\"23f004d7-cc04-4ace-b06f-c1f31fc3f325\",\"type\":\"ColumnDataSource\"},\"glyph\":{\"id\":\"c355a186-3808-4f4f-9cb4-09a17d6439a2\",\"type\":\"Circle\"},\"hover_glyph\":null,\"muted_glyph\":null,\"nonselection_glyph\":{\"id\":\"10256cf4-74fd-4507-89cb-6cc774353f86\",\"type\":\"Circle\"},\"selection_glyph\":null,\"view\":{\"id\":\"2a63c194-4de3-4ea6-90c2-bdbdb059f4a3\",\"type\":\"CDSView\"}},\"id\":\"a67a1f1d-6562-4d29-af82-e8af8912276f\",\"type\":\"GlyphRenderer\"},{\"attributes\":{},\"id\":\"43a4df15-a540-4cac-a726-6f37e0680cfb\",\"type\":\"UnionRenderers\"},{\"attributes\":{\"plot\":null,\"text\":\"\"},\"id\":\"bc71e8ab-626d-445d-8188-157868413e52\",\"type\":\"Title\"},{\"attributes\":{},\"id\":\"15cab9ea-e888-4095-8897-44fe54ca7f6d\",\"type\":\"Selection\"},{\"attributes\":{\"fill_alpha\":{\"value\":0.1},\"fill_color\":{\"value\":\"#1f77b4\"},\"line_alpha\":{\"value\":0.1},\"line_color\":{\"value\":\"#1f77b4\"},\"x\":{\"field\":\"x\"},\"y\":{\"field\":\"y\"}},\"id\":\"10256cf4-74fd-4507-89cb-6cc774353f86\",\"type\":\"Circle\"},{\"attributes\":{},\"id\":\"5c5a0317-ab18-4a47-ac41-36120cca4f7c\",\"type\":\"SaveTool\"},{\"attributes\":{\"callback\":null,\"data\":{\"x\":{\"__ndarray__\":\"zhhdnl3RU0CKgDdE+dxEQP6f5duhdUFAMJBr6ewEQkAADxZQyK45QBmX3ka8EDZAjl8alnlwL0CeYJlYHKIqQJoaoQNWxSJAwL4t7BozIUBMkS56I6AXQBxPe4ld/BRAnMjiKz2HCkCJCgdQ/WcBQKJTvluRvOg/j/JpYJwB9j+fcxKIKREEQOwUvOtLFw1AV0At7oRoEkD5lECKxjYXQAdydNQ0jR1ACbyvRZLfI0CO3MmPRGApQCcUNq4qNylA6VN9h30SJECRnP+HbGofQDQKaukXmhlAteFC/mL9E0CTDffT91MQQEkVAKh1YwtAqFesCIQRBkATatBMXLz/P4fvYPUXo/Y/tDrQnFTK8T/fneFQ7xLnP14aDQuCJtc/5BrOx2LRzT+fE4V0bnvHP3ueIXamhrA/cWaxNtALrr92uqPyMJK3P6q5+U821+g/ckrZjXL49z/TaxRJZAUAQPzVLij27QFAige8XqaCAEAv4Q7keaX+P0VyKG35kv0/XHVqXZRQ/T/+RskYEAv9PwKD1IjB3fw/JBko3yJ2/D//mRCM5iX7P/btQHcr5vo/xTCcdQr9+j+f/V+tjrf6P0Wt2HvLrvo/9IV/x6br+z/bYX40veD8P8+HZwkyUvw/CkxgoI8l/D8QA+bsYB78P2eu9w7DDvw/khNJm3qS+j8vZ0xHVJ75Py0d1shscPk/NKgVKiiK+T/NNtzstIr5P4ps72zyaPc/TlSpuPUj9j9S2qZu6gj1P2XVmdu6VPQ/t/WgjjEZ9D+np734CoH0P1P4Q57qwfo/\",\"dtype\":\"float64\",\"shape\":[75]},\"y\":{\"__ndarray__\":\"hLndy31yND/6fmq8dJNIP8n9DkWBPlE/aDum7souWD/b4a/JGvVgP9f34SAhymc/ZvM4DOavcD+z0M5pFmh3PxuC4zJuaoA/xjcUPlsHhz8uHAjJAiaQP9ieWRKgppY/oI7HDFTGnz+a5h2n6EimPzS6g9iZQq8/IuAQqtTstT9SSZ2AJsK+P4nS3uALk8U/ih9j7lpCzj+ASL99HTjVP4enV8oyxN0/ACL99nXg5D9fmEwVjErtPyUGgZVDi/Q/AiuHFtnO/D9OYhBYOTQEQPHSTWIQWAxA4XoUrkfhE0D8qfHSTeIbQMh2vp8ajyNArkfhehRuK0Bcj8L1KDwzQFyPwvUo/DpAPgrXo3DtQkDNzMzMzIxKQClcj8L1eFJAKVyPwvVoWECamZmZmVleQGZmZmZmJmJAAAAAAAAgZUCamZmZmRloQJqZmZmZEWtAmpmZmZkJbkCamZmZmYFwQGZmZmZm/nFAZmZmZmZ6c0BmZmZmZvZ0QDQzMzMzc3ZAAAAAAADwd0AAAAAAAGx5QAAAAAAA6HpAzMzMzMxkfEDMzMzMzOB9QM3MzMzMXH9AzczMzMxsgEAzMzMzMyuBQDMzMzMz6YFAMzMzMzOngkCamZmZmWWDQAAAAAAAJIRAAAAAAADihEAAAAAAAKCFQGZmZmZmXoZAzczMzMwch0DNzMzMzNqHQM3MzMzMmIhAMzMzMzNXiUCamZmZmRWKQAAAAAAA1IpAAAAAAACSi0AAAAAAAFCMQGZmZmZmDo1AzczMzMzMjUDNzMzMzIqOQM3MzMzMSI9A\",\"dtype\":\"float64\",\"shape\":[75]}},\"selected\":{\"id\":\"4aa4e705-9a55-462f-a282-64fc0531ef63\",\"type\":\"Selection\"},\"selection_policy\":{\"id\":\"19c5a1a9-ede0-447e-b5ac-80e392829865\",\"type\":\"UnionRenderers\"}},\"id\":\"3ee3c63f-c96d-4414-9ece-f371fda83cc2\",\"type\":\"ColumnDataSource\"},{\"attributes\":{\"data_source\":{\"id\":\"49fff7f0-8bf5-43b8-a988-3ab0b69423b8\",\"type\":\"ColumnDataSource\"},\"glyph\":{\"id\":\"e11487b5-5f63-4a8a-bfc9-899450f6a72f\",\"type\":\"Line\"},\"hover_glyph\":null,\"muted_glyph\":null,\"nonselection_glyph\":{\"id\":\"b62fe09c-48ee-470b-8f1f-54d476f5a34f\",\"type\":\"Line\"},\"selection_glyph\":null,\"view\":{\"id\":\"6fc6cf62-1544-43c4-9c30-30970dbe1bc0\",\"type\":\"CDSView\"}},\"id\":\"8f5b5f1d-35c2-4a35-962d-207737758f40\",\"type\":\"GlyphRenderer\"},{\"attributes\":{},\"id\":\"fbf5641a-795c-4f61-9403-7e34a50abe1d\",\"type\":\"PanTool\"},{\"attributes\":{},\"id\":\"235f40eb-96fa-4f17-8821-1b50effa6b0e\",\"type\":\"Selection\"},{\"attributes\":{\"toolbar\":{\"id\":\"5a723e25-626b-4091-a636-0b3c4ce8a8bc\",\"type\":\"ProxyToolbar\"},\"toolbar_location\":\"above\"},\"id\":\"e7fe44cd-fd88-41bc-8f9f-ca581d4ad60f\",\"type\":\"ToolbarBox\"},{\"attributes\":{\"plot\":null,\"text\":\"\"},\"id\":\"8bea9e25-9d20-4f22-9492-e854169e7070\",\"type\":\"Title\"},{\"attributes\":{},\"id\":\"e606381e-023d-48ed-81cd-ef4370d55dae\",\"type\":\"UnionRenderers\"},{\"attributes\":{},\"id\":\"001a5bd0-b059-447c-ab7c-36cc8e04aa77\",\"type\":\"WheelZoomTool\"},{\"attributes\":{},\"id\":\"4c95acbd-e81c-4a8a-9105-5f56da081d47\",\"type\":\"PanTool\"},{\"attributes\":{\"items\":[{\"id\":\"9cdb67c6-c8e3-4910-ae0d-db6f54dfc268\",\"type\":\"LegendItem\"},{\"id\":\"e7e5815b-5047-43e9-a84f-56f5a2287a38\",\"type\":\"LegendItem\"}],\"label_text_font_size\":{\"value\":\"8pt\"},\"location\":\"top_center\",\"orientation\":\"horizontal\",\"plot\":{\"id\":\"a50c5349-9f61-4f82-a964-16a5985ec78c\",\"subtype\":\"Figure\",\"type\":\"Plot\"}},\"id\":\"6318ee96-623a-44a3-9400-bc132ec47959\",\"type\":\"Legend\"},{\"attributes\":{\"line_color\":\"#4daf4a\",\"line_width\":1.5,\"x\":{\"field\":\"x\"},\"y\":{\"field\":\"y\"}},\"id\":\"e11487b5-5f63-4a8a-bfc9-899450f6a72f\",\"type\":\"Line\"},{\"attributes\":{\"label\":{\"value\":\"CRD\"},\"renderers\":[{\"id\":\"a67a1f1d-6562-4d29-af82-e8af8912276f\",\"type\":\"GlyphRenderer\"},{\"id\":\"8f5b5f1d-35c2-4a35-962d-207737758f40\",\"type\":\"GlyphRenderer\"}]},\"id\":\"2e5c8a1b-ef21-4c83-b250-dd8453048bad\",\"type\":\"LegendItem\"},{\"attributes\":{},\"id\":\"d557c13f-539e-4d56-9ea2-290e7ddf3eb2\",\"type\":\"Selection\"},{\"attributes\":{\"active_drag\":\"auto\",\"active_inspect\":\"auto\",\"active_scroll\":\"auto\",\"active_tap\":\"auto\",\"tools\":[{\"id\":\"4c95acbd-e81c-4a8a-9105-5f56da081d47\",\"type\":\"PanTool\"},{\"id\":\"724c09f6-de76-4217-9840-2c825cec7160\",\"type\":\"WheelZoomTool\"},{\"id\":\"2801a1e3-210a-4092-b3fc-ac0615d8224f\",\"type\":\"BoxZoomTool\"},{\"id\":\"5c5a0317-ab18-4a47-ac41-36120cca4f7c\",\"type\":\"SaveTool\"},{\"id\":\"c5f79885-2123-4a2c-9f97-14d3e01a8195\",\"type\":\"ResetTool\"},{\"id\":\"0ab37176-8fec-4bcb-bc8c-fdeed1385407\",\"type\":\"HelpTool\"}]},\"id\":\"64689603-7a19-4951-ba7f-d536d3c9c066\",\"type\":\"Toolbar\"},{\"attributes\":{},\"id\":\"d452b6c4-da56-4022-aeb2-868cac93ab63\",\"type\":\"BasicTickFormatter\"},{\"attributes\":{},\"id\":\"19c5a1a9-ede0-447e-b5ac-80e392829865\",\"type\":\"UnionRenderers\"},{\"attributes\":{\"overlay\":{\"id\":\"443c7eff-1a3c-4c35-8b29-9ec32616d59b\",\"type\":\"BoxAnnotation\"}},\"id\":\"982ec87a-c854-43b0-932d-44ef0c6b6ed1\",\"type\":\"BoxZoomTool\"},{\"attributes\":{\"fill_alpha\":{\"value\":0.1},\"fill_color\":{\"value\":\"#1f77b4\"},\"line_alpha\":{\"value\":0.1},\"line_color\":{\"value\":\"#1f77b4\"},\"x\":{\"field\":\"x\"},\"y\":{\"field\":\"y\"}},\"id\":\"7275ef8d-0a2b-4f3c-8049-503bedcbf529\",\"type\":\"Circle\"},{\"attributes\":{},\"id\":\"c5f79885-2123-4a2c-9f97-14d3e01a8195\",\"type\":\"ResetTool\"},{\"attributes\":{\"overlay\":{\"id\":\"8dfdb60a-1069-4b77-b74d-8851d409a8b6\",\"type\":\"BoxAnnotation\"}},\"id\":\"2801a1e3-210a-4092-b3fc-ac0615d8224f\",\"type\":\"BoxZoomTool\"},{\"attributes\":{\"callback\":null,\"end\":13.587990068193777,\"start\":-0.33463321763178},\"id\":\"44c58636-9622-4180-a9e2-7068a356d29a\",\"type\":\"Range1d\"},{\"attributes\":{\"source\":{\"id\":\"122ac072-3413-4786-bbf1-c756154f3efa\",\"type\":\"ColumnDataSource\"}},\"id\":\"0c4a5de3-c3b5-4ee6-986b-1c96a91de808\",\"type\":\"CDSView\"},{\"attributes\":{},\"id\":\"724c09f6-de76-4217-9840-2c825cec7160\",\"type\":\"WheelZoomTool\"},{\"attributes\":{},\"id\":\"642504b8-c271-4897-81e4-37a748fad2ed\",\"type\":\"Selection\"},{\"attributes\":{},\"id\":\"ddc481d2-c149-4d1c-9dd0-a59c38f0ff3a\",\"type\":\"UnionRenderers\"},{\"attributes\":{\"line_alpha\":0.1,\"line_color\":\"#1f77b4\",\"line_width\":1.5,\"x\":{\"field\":\"x\"},\"y\":{\"field\":\"y\"}},\"id\":\"b62fe09c-48ee-470b-8f1f-54d476f5a34f\",\"type\":\"Line\"},{\"attributes\":{\"label\":{\"value\":\"CLIRAD (single-run)\"},\"renderers\":[{\"id\":\"a54f34b0-9c1d-4de1-9996-bd9a51c482c4\",\"type\":\"GlyphRenderer\"}]},\"id\":\"5b7c0373-b601-4fff-b222-f552e3b4bcca\",\"type\":\"LegendItem\"},{\"attributes\":{},\"id\":\"19a1670f-608d-4aa1-b926-8cbed2643575\",\"type\":\"UnionRenderers\"},{\"attributes\":{\"active_drag\":\"auto\",\"active_inspect\":\"auto\",\"active_scroll\":\"auto\",\"active_tap\":\"auto\",\"tools\":[{\"id\":\"fbf5641a-795c-4f61-9403-7e34a50abe1d\",\"type\":\"PanTool\"},{\"id\":\"001a5bd0-b059-447c-ab7c-36cc8e04aa77\",\"type\":\"WheelZoomTool\"},{\"id\":\"982ec87a-c854-43b0-932d-44ef0c6b6ed1\",\"type\":\"BoxZoomTool\"},{\"id\":\"860b822e-39c8-4c94-ab0b-1e39ecdb59d4\",\"type\":\"SaveTool\"},{\"id\":\"d391e45a-3a54-460a-9afb-0dc97a8f4c2a\",\"type\":\"ResetTool\"},{\"id\":\"c4bb458f-1961-43f1-8e07-3b1d315e2227\",\"type\":\"HelpTool\"}]},\"id\":\"16bbb2a8-31c3-4d31-a06a-7d1fe39f4657\",\"type\":\"Toolbar\"},{\"attributes\":{\"fill_alpha\":{\"value\":0.7},\"fill_color\":{\"value\":\"#984ea3\"},\"line_alpha\":{\"value\":0.7},\"line_color\":{\"value\":\"#984ea3\"},\"x\":{\"field\":\"x\"},\"y\":{\"field\":\"y\"}},\"id\":\"261b0c50-c186-462c-a1c0-8575a2a29535\",\"type\":\"Circle\"},{\"attributes\":{\"source\":{\"id\":\"23f004d7-cc04-4ace-b06f-c1f31fc3f325\",\"type\":\"ColumnDataSource\"}},\"id\":\"2a63c194-4de3-4ea6-90c2-bdbdb059f4a3\",\"type\":\"CDSView\"},{\"attributes\":{\"callback\":null,\"data\":{\"x\":{\"__ndarray__\":\"cm1sTMT3VEDEyvjosEJHQOKI6DjzCUNArgQWV9awPkB9Lm8XG3M4QEz+Qv6iYzNA7eV8HaPLLkCX1QHyTpMoQFBmYSYetiNAUB04GtGpH0AmFyVE5j8ZQJca9QPGqBNALJP+OOHHDEBNxaf7QF8AQKtislomWuw/cW2dcO6A9T/uJJvfPu0EQIaQLTI/JQ1AxGiII+PmEkCJvfVeuCsYQD6ZBhGbHB9AXQw69DTYJEAsubcwKucqQNuT9D5OmipAJyi3szEJJUBlNebh5WkgQDDcPHBr2xlArtlANXuQFEBdJadFHckQQI2Avh0ZsQtAjYiwt1rsBUCL0SDoVBgAQK6C0nEEjvc/CggLSme58T9sXU2orFPnP0v0JYz9Gdg/vT38vxYczD9nBQTe6kHHP1IhkEXJwKo/8OZnhCVAub+xtVgCpmqzP6DUpY6g0+k/PKK3T1h4+D8RTDjQc1EAQG/dAQs7TwJAQt2eHpPLAEBWEh074x//PyCap9ZSGf4/rEzaTySm/T+7aXhHRmr9P688KeqeNP0/ruZ4EemD/D8olrZcn9T7P0+vNc9hW/s/i9VVL+4P+z+0NzC24uz6P8731Kza8vo/xFf4SHzq+z+gYyHpvHb8P68ROkiFevw/BAjYdCga/D8AUp8VbW77P3JrF/nKmvo/qCQeGfq++T/dplwHJfn4P2G4p+Uva/g/OzZ0RqMZ+D8dmn/iar73P/OuA7Ka8PY/gaaeQHGn9T9hkyjAH1L0P3aZGhdAU/M/n8VP/g7P8j+90HxHNvfyPwhNBtgrqvk/\",\"dtype\":\"float64\",\"shape\":[75]},\"y\":{\"__ndarray__\":\"GhExyth1ND/Sv8nbtpRIP2vylNV0PVE/aTum7souWD/At0SJ8fVgPw3Iuahxymc/MSNhhJWvcD/bTfBN02d3P2zb5nxnaoA/CD5h5MAGhz8NmeH1TyaQP+zrCsc9p5Y/LbKd76fGnz/bLW5ISEmmPww9YvTcQq8/JV2OstnstT8Er5Y7M8G+P0c+r3jqkcU/5h99k6ZBzj88bCIzFzjVP4enV8oyxN0//yH99nXg5D8qOpLLf0jtP5kqGJXUifQ/c9cS8kHP/D+/DpwzojQEQIEmwoanVwxA4lgXt9HgE0BSSZ2AJuIbQAMJih9jjiNA5q4l5INuK0AwTKYKRj0zQNv5fmq8/DpAaCJseHrtQkB/+zpwzoxKQM3MzMzMeFJAZmZmZmZqWEAAAAAAAFxeQM3MzMzMJmJAmpmZmZkfZUBmZmZmZhhoQDMzMzMzEWtAAAAAAAAKbkBmZmZmZoFwQM3MzMzM/XFAMzMzMzN6c0CamZmZmfZ0QAAAAAAAc3ZAZmZmZmbvd0DNzMzMzGt5QDMzMzMz6HpAmpmZmZlkfEAAAAAAAOF9QGZmZmZmXX9AZmZmZuZsgECamZmZGSuBQM3MzMxM6YFAAAAAAICngkAzMzMzs2WDQGZmZmbmI4RAmpmZmRnihEDNzMzMTKCFQAAAAACAXoZAMzMzM7Mch0BmZmZm5tqHQJqZmZkZmYhAzczMzExXiUAAAAAAgBWKQDMzMzOz04pAZmZmZuaRi0CamZmZGVCMQM3MzMxMDo1AAAAAAIDMjUAzMzMzs4qOQGZmZmbmSI9A\",\"dtype\":\"float64\",\"shape\":[75]}},\"selected\":{\"id\":\"235f40eb-96fa-4f17-8821-1b50effa6b0e\",\"type\":\"Selection\"},\"selection_policy\":{\"id\":\"ddc481d2-c149-4d1c-9dd0-a59c38f0ff3a\",\"type\":\"UnionRenderers\"}},\"id\":\"49fff7f0-8bf5-43b8-a988-3ab0b69423b8\",\"type\":\"ColumnDataSource\"},{\"attributes\":{\"fill_alpha\":{\"value\":0.7},\"fill_color\":{\"value\":\"#4daf4a\"},\"line_alpha\":{\"value\":0.7},\"line_color\":{\"value\":\"#4daf4a\"},\"x\":{\"field\":\"x\"},\"y\":{\"field\":\"y\"}},\"id\":\"c355a186-3808-4f4f-9cb4-09a17d6439a2\",\"type\":\"Circle\"},{\"attributes\":{\"tools\":[{\"id\":\"4059dcf9-e79a-4611-8e18-b843d906de34\",\"type\":\"PanTool\"},{\"id\":\"e709807f-47fa-4fd4-b793-87ce4f438cd0\",\"type\":\"WheelZoomTool\"},{\"id\":\"28d130cc-d065-4078-ae08-02ffd4c17f11\",\"type\":\"BoxZoomTool\"},{\"id\":\"0719e9ea-9f06-490a-a631-b9be808fc1ed\",\"type\":\"SaveTool\"},{\"id\":\"fa78fe8f-68ad-47e1-8fcb-17db8259f9fb\",\"type\":\"ResetTool\"},{\"id\":\"fef5846d-b0a1-4d9f-825f-e630d154c005\",\"type\":\"HelpTool\"},{\"id\":\"4c95acbd-e81c-4a8a-9105-5f56da081d47\",\"type\":\"PanTool\"},{\"id\":\"724c09f6-de76-4217-9840-2c825cec7160\",\"type\":\"WheelZoomTool\"},{\"id\":\"2801a1e3-210a-4092-b3fc-ac0615d8224f\",\"type\":\"BoxZoomTool\"},{\"id\":\"5c5a0317-ab18-4a47-ac41-36120cca4f7c\",\"type\":\"SaveTool\"},{\"id\":\"c5f79885-2123-4a2c-9f97-14d3e01a8195\",\"type\":\"ResetTool\"},{\"id\":\"0ab37176-8fec-4bcb-bc8c-fdeed1385407\",\"type\":\"HelpTool\"},{\"id\":\"fbf5641a-795c-4f61-9403-7e34a50abe1d\",\"type\":\"PanTool\"},{\"id\":\"001a5bd0-b059-447c-ab7c-36cc8e04aa77\",\"type\":\"WheelZoomTool\"},{\"id\":\"982ec87a-c854-43b0-932d-44ef0c6b6ed1\",\"type\":\"BoxZoomTool\"},{\"id\":\"860b822e-39c8-4c94-ab0b-1e39ecdb59d4\",\"type\":\"SaveTool\"},{\"id\":\"d391e45a-3a54-460a-9afb-0dc97a8f4c2a\",\"type\":\"ResetTool\"},{\"id\":\"c4bb458f-1961-43f1-8e07-3b1d315e2227\",\"type\":\"HelpTool\"}]},\"id\":\"5a723e25-626b-4091-a636-0b3c4ce8a8bc\",\"type\":\"ProxyToolbar\"},{\"attributes\":{\"items\":[{\"id\":\"9667506e-6e25-4837-a608-5761da967225\",\"type\":\"LegendItem\"},{\"id\":\"d83850e5-a4ba-4091-b2ca-83565f13534f\",\"type\":\"LegendItem\"},{\"id\":\"9b83d831-bf74-4855-aaf1-51cb5912d1ee\",\"type\":\"LegendItem\"}],\"label_text_font_size\":{\"value\":\"8pt\"},\"location\":\"top_center\",\"orientation\":\"horizontal\",\"plot\":{\"id\":\"ec7ad56e-20b4-46d5-b6c7-1499d2d0cd7e\",\"subtype\":\"Figure\",\"type\":\"Plot\"}},\"id\":\"e492e84d-c6f1-4f6c-8870-397c68d26675\",\"type\":\"Legend\"},{\"attributes\":{},\"id\":\"4aa4e705-9a55-462f-a282-64fc0531ef63\",\"type\":\"Selection\"},{\"attributes\":{\"children\":[{\"id\":\"e7fe44cd-fd88-41bc-8f9f-ca581d4ad60f\",\"type\":\"ToolbarBox\"},{\"id\":\"6282076d-b00d-48ec-886a-a892dcb457f9\",\"type\":\"Column\"}]},\"id\":\"7a8e7997-29c5-4899-8325-141dd3de23bb\",\"type\":\"Column\"},{\"attributes\":{\"callback\":null,\"end\":0.01,\"start\":1020},\"id\":\"6ea05073-bc7e-489b-b235-2a7645a8d25b\",\"type\":\"Range1d\"},{\"attributes\":{\"data_source\":{\"id\":\"122ac072-3413-4786-bbf1-c756154f3efa\",\"type\":\"ColumnDataSource\"},\"glyph\":{\"id\":\"937c98c4-5430-4f28-a5ab-7a8a035cdc19\",\"type\":\"Line\"},\"hover_glyph\":null,\"muted_glyph\":null,\"nonselection_glyph\":{\"id\":\"9a5fb6e8-efcc-405e-b0a5-9dd15ba2bccb\",\"type\":\"Line\"},\"selection_glyph\":null,\"view\":{\"id\":\"0c4a5de3-c3b5-4ee6-986b-1c96a91de808\",\"type\":\"CDSView\"}},\"id\":\"8f7ae310-5c48-48bd-a4f5-f416d37fbb8e\",\"type\":\"GlyphRenderer\"},{\"attributes\":{\"line_alpha\":0.6,\"line_color\":\"#377eb8\",\"line_dash\":[6],\"line_width\":5,\"x\":{\"field\":\"x\"},\"y\":{\"field\":\"y\"}},\"id\":\"937c98c4-5430-4f28-a5ab-7a8a035cdc19\",\"type\":\"Line\"},{\"attributes\":{\"children\":[{\"id\":\"12aa30bd-a8ef-4440-958b-f9ccbb0307a6\",\"subtype\":\"Figure\",\"type\":\"Plot\"},{\"id\":\"ec7ad56e-20b4-46d5-b6c7-1499d2d0cd7e\",\"subtype\":\"Figure\",\"type\":\"Plot\"},{\"id\":\"a50c5349-9f61-4f82-a964-16a5985ec78c\",\"subtype\":\"Figure\",\"type\":\"Plot\"}]},\"id\":\"73fd5c33-d3ce-4224-88b2-7ee324c91291\",\"type\":\"Row\"},{\"attributes\":{\"callback\":null,\"data\":{\"x\":{\"__ndarray__\":\"cm1sTMT3VEDEyvjosEJHQOKI6DjzCUNArgQWV9awPkB9Lm8XG3M4QEz+Qv6iYzNA7eV8HaPLLkCX1QHyTpMoQFBmYSYetiNAUB04GtGpH0AmFyVE5j8ZQJca9QPGqBNALJP+OOHHDEBNxaf7QF8AQKtislomWuw/cW2dcO6A9T/uJJvfPu0EQIaQLTI/JQ1AxGiII+PmEkCJvfVeuCsYQD6ZBhGbHB9AXQw69DTYJEAsubcwKucqQNuT9D5OmipAJyi3szEJJUBlNebh5WkgQDDcPHBr2xlArtlANXuQFEBdJadFHckQQI2Avh0ZsQtAjYiwt1rsBUCL0SDoVBgAQK6C0nEEjvc/CggLSme58T9sXU2orFPnP0v0JYz9Gdg/vT38vxYczD9nBQTe6kHHP1IhkEXJwKo/8OZnhCVAub+xtVgCpmqzP6DUpY6g0+k/PKK3T1h4+D8RTDjQc1EAQG/dAQs7TwJAQt2eHpPLAEBWEh074x//PyCap9ZSGf4/rEzaTySm/T+7aXhHRmr9P688KeqeNP0/ruZ4EemD/D8olrZcn9T7P0+vNc9hW/s/i9VVL+4P+z+0NzC24uz6P8731Kza8vo/xFf4SHzq+z+gYyHpvHb8P68ROkiFevw/BAjYdCga/D8AUp8VbW77P3JrF/nKmvo/qCQeGfq++T/dplwHJfn4P2G4p+Uva/g/OzZ0RqMZ+D8dmn/iar73P/OuA7Ka8PY/gaaeQHGn9T9hkyjAH1L0P3aZGhdAU/M/n8VP/g7P8j+90HxHNvfyPwhNBtgrqvk/\",\"dtype\":\"float64\",\"shape\":[75]},\"y\":{\"__ndarray__\":\"GhExyth1ND/Sv8nbtpRIP2vylNV0PVE/aTum7souWD/At0SJ8fVgPw3Iuahxymc/MSNhhJWvcD/bTfBN02d3P2zb5nxnaoA/CD5h5MAGhz8NmeH1TyaQP+zrCsc9p5Y/LbKd76fGnz/bLW5ISEmmPww9YvTcQq8/JV2OstnstT8Er5Y7M8G+P0c+r3jqkcU/5h99k6ZBzj88bCIzFzjVP4enV8oyxN0//yH99nXg5D8qOpLLf0jtP5kqGJXUifQ/c9cS8kHP/D+/DpwzojQEQIEmwoanVwxA4lgXt9HgE0BSSZ2AJuIbQAMJih9jjiNA5q4l5INuK0AwTKYKRj0zQNv5fmq8/DpAaCJseHrtQkB/+zpwzoxKQM3MzMzMeFJAZmZmZmZqWEAAAAAAAFxeQM3MzMzMJmJAmpmZmZkfZUBmZmZmZhhoQDMzMzMzEWtAAAAAAAAKbkBmZmZmZoFwQM3MzMzM/XFAMzMzMzN6c0CamZmZmfZ0QAAAAAAAc3ZAZmZmZmbvd0DNzMzMzGt5QDMzMzMz6HpAmpmZmZlkfEAAAAAAAOF9QGZmZmZmXX9AZmZmZuZsgECamZmZGSuBQM3MzMxM6YFAAAAAAICngkAzMzMzs2WDQGZmZmbmI4RAmpmZmRnihEDNzMzMTKCFQAAAAACAXoZAMzMzM7Mch0BmZmZm5tqHQJqZmZkZmYhAzczMzExXiUAAAAAAgBWKQDMzMzOz04pAZmZmZuaRi0CamZmZGVCMQM3MzMxMDo1AAAAAAIDMjUAzMzMzs4qOQGZmZmbmSI9A\",\"dtype\":\"float64\",\"shape\":[75]}},\"selected\":{\"id\":\"d557c13f-539e-4d56-9ea2-290e7ddf3eb2\",\"type\":\"Selection\"},\"selection_policy\":{\"id\":\"19a1670f-608d-4aa1-b926-8cbed2643575\",\"type\":\"UnionRenderers\"}},\"id\":\"23f004d7-cc04-4ace-b06f-c1f31fc3f325\",\"type\":\"ColumnDataSource\"},{\"attributes\":{\"callback\":null,\"data\":{\"x\":{\"__ndarray__\":\"N+1ApqHYRUAPXe4S8RdDQKin3reS40FArsgSags/QEDHg+QHVEA8QJvReqlRPTdA0QHela7pMUAfcGDMzOUpQNjJGlPlGiJAuYcYiF80GkD7LZFu3d0UQDiptMurthFAv5CmRxtNDUAuquoVBZYDQGUN8egX9vU/8inneqWO+j/ga0IOlzIFQINk8XGvDgtAngO+y4DgEECn6kWJXxcWQOcZDp6//R1AExnAvxnVJEDsD1+9TMwqQIu0yDva+ylAwQUlV89OJEAlPmMpvUcgQGozQY5LZBtA+GbW1fQFFkBNa6Xs4ygRQIwPypF24QtASqHKR3EJCECPMqjDj8wCQBPVMTAZB/o/C4hlFjNH8T+kL/Fenn3nP5QX/kyZ7ts/8sh5/TobzT/NEIlbxE7AP25FfG0p4KK/Uns94Ixcyb/sQshTmnqDv1BLVDvLw+c/dXd1cUV/9z/vF52CQBcAQCXGZogWmAFAohB+JBAHAEDV7qjpEET+P305CsyeIv0/rm7FMExr/D/+q9o8bTz8PzZQwv4CWPw/Qh0npPTu+z95SbNI0XP7Py/QFvqDCPs/l4I3YRC++j/IQ+lPPoj6P0flW6VYhvo/m3IK1YKc+z8PvF+nhn38P2Szwqvn//w/+URl5xf//D9sMMaknF/8P+ZAVkHaSPs/Lr/nkcwY+j8TsZGu1QL5P2RQFktEcfg/mwZekKFB+D8TWW7gQz74P1bkCgFWvfc/7TR0TzlL+T//JxXKzwD4Pz4UtGkmAPc/3CeVIlF29j9DIil9M5r2PwnVsicUOf0/\",\"dtype\":\"float64\",\"shape\":[75]},\"y\":{\"__ndarray__\":\"GhExyth1ND/Sv8nbtpRIP2vylNV0PVE/aTum7souWD/At0SJ8fVgPw3Iuahxymc/MSNhhJWvcD/bTfBN02d3P2zb5nxnaoA/CD5h5MAGhz8NmeH1TyaQP+zrCsc9p5Y/LbKd76fGnz/bLW5ISEmmPww9YvTcQq8/JV2OstnstT8Er5Y7M8G+P0c+r3jqkcU/5h99k6ZBzj88bCIzFzjVP4enV8oyxN0//yH99nXg5D8qOpLLf0jtP5kqGJXUifQ/c9cS8kHP/D+/DpwzojQEQIEmwoanVwxA4lgXt9HgE0BSSZ2AJuIbQAMJih9jjiNA5q4l5INuK0AwTKYKRj0zQNv5fmq8/DpAaCJseHrtQkB/+zpwzoxKQM3MzMzMeFJAZmZmZmZqWEAAAAAAAFxeQM3MzMzMJmJAmpmZmZkfZUBmZmZmZhhoQDMzMzMzEWtAAAAAAAAKbkBmZmZmZoFwQM3MzMzM/XFAMzMzMzN6c0CamZmZmfZ0QAAAAAAAc3ZAZmZmZmbvd0DNzMzMzGt5QDMzMzMz6HpAmpmZmZlkfEAAAAAAAOF9QGZmZmZmXX9AZmZmZuZsgECamZmZGSuBQM3MzMxM6YFAAAAAAICngkAzMzMzs2WDQGZmZmbmI4RAmpmZmRnihEDNzMzMTKCFQAAAAACAXoZAMzMzM7Mch0BmZmZm5tqHQJqZmZkZmYhAzczMzExXiUAAAAAAgBWKQDMzMzOz04pAZmZmZuaRi0CamZmZGVCMQM3MzMxMDo1AAAAAAIDMjUAzMzMzs4qOQGZmZmbmSI9A\",\"dtype\":\"float64\",\"shape\":[75]}},\"selected\":{\"id\":\"15cab9ea-e888-4095-8897-44fe54ca7f6d\",\"type\":\"Selection\"},\"selection_policy\":{\"id\":\"c0b6d275-d4b4-4016-8bf0-ff05bc230bd0\",\"type\":\"UnionRenderers\"}},\"id\":\"f8fbdcbc-d0a7-4894-9e3b-f9118a2e6729\",\"type\":\"ColumnDataSource\"},{\"attributes\":{\"source\":{\"id\":\"49fff7f0-8bf5-43b8-a988-3ab0b69423b8\",\"type\":\"ColumnDataSource\"}},\"id\":\"6fc6cf62-1544-43c4-9c30-30970dbe1bc0\",\"type\":\"CDSView\"},{\"attributes\":{},\"id\":\"4059dcf9-e79a-4611-8e18-b843d906de34\",\"type\":\"PanTool\"},{\"attributes\":{\"children\":[{\"id\":\"73fd5c33-d3ce-4224-88b2-7ee324c91291\",\"type\":\"Row\"}]},\"id\":\"6282076d-b00d-48ec-886a-a892dcb457f9\",\"type\":\"Column\"},{\"attributes\":{},\"id\":\"406d6482-4b1d-4b7d-935f-0ec703221424\",\"type\":\"UnionRenderers\"},{\"attributes\":{\"line_alpha\":0.5,\"line_color\":\"#984ea3\",\"line_width\":1.5,\"x\":{\"field\":\"x\"},\"y\":{\"field\":\"y\"}},\"id\":\"11e46b5a-172d-4e3d-8b85-e1d63e51c63d\",\"type\":\"Line\"},{\"attributes\":{\"line_alpha\":0.1,\"line_color\":\"#1f77b4\",\"line_width\":1.5,\"x\":{\"field\":\"x\"},\"y\":{\"field\":\"y\"}},\"id\":\"cc4bb634-2e6c-48d3-a601-57e16cd85c17\",\"type\":\"Line\"},{\"attributes\":{\"data_source\":{\"id\":\"04ab3f19-51be-4ec6-816f-dba339f13204\",\"type\":\"ColumnDataSource\"},\"glyph\":{\"id\":\"261b0c50-c186-462c-a1c0-8575a2a29535\",\"type\":\"Circle\"},\"hover_glyph\":null,\"muted_glyph\":null,\"nonselection_glyph\":{\"id\":\"7275ef8d-0a2b-4f3c-8049-503bedcbf529\",\"type\":\"Circle\"},\"selection_glyph\":null,\"view\":{\"id\":\"35bf2f9c-2bbe-4211-b134-f0777a713981\",\"type\":\"CDSView\"}},\"id\":\"25196142-9296-4ef8-a248-2f014e1b5663\",\"type\":\"GlyphRenderer\"},{\"attributes\":{\"fill_alpha\":{\"value\":0.7},\"fill_color\":{\"value\":\"#4daf4a\"},\"line_alpha\":{\"value\":0.7},\"line_color\":{\"value\":\"#4daf4a\"},\"x\":{\"field\":\"x\"},\"y\":{\"field\":\"y\"}},\"id\":\"e61ec695-d1f2-4fb2-b444-77371bcdde94\",\"type\":\"Circle\"},{\"attributes\":{\"data_source\":{\"id\":\"aa51ff53-8e24-46ff-843e-26e13a659ae5\",\"type\":\"ColumnDataSource\"},\"glyph\":{\"id\":\"bb465e38-3465-4fb0-9ae1-94981a93206d\",\"type\":\"Square\"},\"hover_glyph\":null,\"muted_glyph\":null,\"nonselection_glyph\":{\"id\":\"b9d0c7a5-8928-44c8-ae68-2d658fb8bfa7\",\"type\":\"Square\"},\"selection_glyph\":null,\"view\":{\"id\":\"b0d996c6-2ba7-411b-b928-9ec8f570e52b\",\"type\":\"CDSView\"}},\"id\":\"fbdfe88c-0cd8-4aa2-af29-86556ad025cd\",\"type\":\"GlyphRenderer\"},{\"attributes\":{\"source\":{\"id\":\"5a9ca700-ac6b-4a5e-95e2-0d456b25b88b\",\"type\":\"ColumnDataSource\"}},\"id\":\"361adaec-faad-4fdc-9ced-49e3d2028098\",\"type\":\"CDSView\"},{\"attributes\":{\"callback\":null,\"data\":{\"x\":{\"__ndarray__\":\"q+2X8uYWRMDNtilY/6ogwL8TnhAIZgLA3cr40AfU/D9NqqqDx2kOQHmavll1zQ5A0Xb8OOgeBEBzqOml3SflP37HaTSNs+m/XFZ+SMbV9b+kpE9WI4jxv9EVB4SjId+/jrL/1EGnsD8LJxfSILbZP0NwX+4SJN8/AvImKdw21D9svNGpC1ahPxVg4QF+tNC/KSlTvhIz4L8Zl36txqLgv2X1hy+37dG/IF+az6PZeL/nQalYc92qv+zpe2WAztO/rkxEkktM17/UoHtBXBSxv6JzReABjtg/sNRYCZpX1z8ofJG/qfG3P5x/xwW6Lpg/6sXQgLTo0D8eCDvc1qHVPx2T+vKlyMM/qv9f6QyNnL+5G+lR2/h0P00awQbepK4/Fmaxr4fkfz9q0usJmsyrv2Yzhll50La/sg8TPPR4ub8LvtFM+dm1v4hKjJqqfrC/9lhFyFsir7/hEJrNphmdv0LpYlOQ5La/4JMZRF+QuL8/cIQuSnqrv2QUrFOB1q6/3N9N8YGts78E3NupkN2yv+6O3Wx9k6u/US05qo2eor9xK9MAhTOYvwLIt0d1t5S/3LyUh3N3lL+B+ryRGSmZv++hRN6BIJu/oEp5+1x+k784vmH5+CZbP742FHFMrKA/gp6nUe6drD+izdvk8SWuP5+u2gfpwaU/taFmMp50lj8AchRqTmFjPzAPYLqVUVg/HDDo9CT/gz96va97P/afP5Gs5uBpl6k/f3OsdkAezT/spGRPgHXNPzbWy5QyZ80/6xErIhE6zT8rjGKt6RfNPwJAZH1Cd8w/\",\"dtype\":\"float64\",\"shape\":[75]},\"y\":{\"__ndarray__\":\"GhExyth1ND/Sv8nbtpRIP2vylNV0PVE/aTum7souWD/At0SJ8fVgPw3Iuahxymc/MSNhhJWvcD/bTfBN02d3P2zb5nxnaoA/CD5h5MAGhz8NmeH1TyaQP+zrCsc9p5Y/LbKd76fGnz/bLW5ISEmmPww9YvTcQq8/JV2OstnstT8Er5Y7M8G+P0c+r3jqkcU/5h99k6ZBzj88bCIzFzjVP4enV8oyxN0//yH99nXg5D8qOpLLf0jtP5kqGJXUifQ/c9cS8kHP/D+/DpwzojQEQIEmwoanVwxA4lgXt9HgE0BSSZ2AJuIbQAMJih9jjiNA5q4l5INuK0AwTKYKRj0zQNv5fmq8/DpAaCJseHrtQkB/+zpwzoxKQM3MzMzMeFJAZmZmZmZqWEAAAAAAAFxeQM3MzMzMJmJAmpmZmZkfZUBmZmZmZhhoQDMzMzMzEWtAAAAAAAAKbkBmZmZmZoFwQM3MzMzM/XFAMzMzMzN6c0CamZmZmfZ0QAAAAAAAc3ZAZmZmZmbvd0DNzMzMzGt5QDMzMzMz6HpAmpmZmZlkfEAAAAAAAOF9QGZmZmZmXX9AZmZmZuZsgECamZmZGSuBQM3MzMxM6YFAAAAAAICngkAzMzMzs2WDQGZmZmbmI4RAmpmZmRnihEDNzMzMTKCFQAAAAACAXoZAMzMzM7Mch0BmZmZm5tqHQJqZmZkZmYhAzczMzExXiUAAAAAAgBWKQDMzMzOz04pAZmZmZuaRi0CamZmZGVCMQM3MzMxMDo1AAAAAAIDMjUAzMzMzs4qOQGZmZmbmSI9A\",\"dtype\":\"float64\",\"shape\":[75]}},\"selected\":{\"id\":\"5cc28820-a328-4862-8d91-da7df5e1c321\",\"type\":\"Selection\"},\"selection_policy\":{\"id\":\"4c5ecc7e-2f50-4fcf-871d-2dd3f415d6ed\",\"type\":\"UnionRenderers\"}},\"id\":\"c6a8625d-7a26-41b1-9ebf-d086f29ac47e\",\"type\":\"ColumnDataSource\"},{\"attributes\":{\"label\":{\"value\":\"old CLIRAD (H2012)\"},\"renderers\":[{\"id\":\"1e85bb12-4b45-4ac1-adf7-b7c63d6169bf\",\"type\":\"GlyphRenderer\"},{\"id\":\"002d0534-7f25-4639-a0c4-0bde2fd8d5f4\",\"type\":\"GlyphRenderer\"}]},\"id\":\"9476eab8-7e26-488d-ab52-e3a2e587ceeb\",\"type\":\"LegendItem\"},{\"attributes\":{\"ticker\":null},\"id\":\"cb012e93-a519-4504-bc40-e765744787cd\",\"type\":\"LogTickFormatter\"},{\"attributes\":{\"line_color\":\"#4daf4a\",\"line_width\":1.5,\"x\":{\"field\":\"x\"},\"y\":{\"field\":\"y\"}},\"id\":\"39f7da0f-4288-48de-a0e7-22abbdeedfa8\",\"type\":\"Line\"},{\"attributes\":{\"source\":{\"id\":\"c6a8625d-7a26-41b1-9ebf-d086f29ac47e\",\"type\":\"ColumnDataSource\"}},\"id\":\"56776308-7a3a-4c1d-b701-a101412cac64\",\"type\":\"CDSView\"},{\"attributes\":{\"line_alpha\":0.1,\"line_color\":\"#1f77b4\",\"line_width\":1.5,\"x\":{\"field\":\"x\"},\"y\":{\"field\":\"y\"}},\"id\":\"ba2db4ea-6a9a-44aa-af28-00e4e972ff7f\",\"type\":\"Line\"},{\"attributes\":{},\"id\":\"5cc28820-a328-4862-8d91-da7df5e1c321\",\"type\":\"Selection\"},{\"attributes\":{\"callback\":null,\"end\":0.01,\"start\":1020},\"id\":\"0c3a4b5e-74eb-4c91-9d4e-47255b21b668\",\"type\":\"Range1d\"},{\"attributes\":{},\"id\":\"4c5ecc7e-2f50-4fcf-871d-2dd3f415d6ed\",\"type\":\"UnionRenderers\"},{\"attributes\":{},\"id\":\"0719e9ea-9f06-490a-a631-b9be808fc1ed\",\"type\":\"SaveTool\"},{\"attributes\":{},\"id\":\"cb464569-4210-4db0-9ec0-902b58eb02d2\",\"type\":\"BasicTickFormatter\"},{\"attributes\":{\"overlay\":{\"id\":\"90bb3be3-c0bc-470c-bcc7-09e105907df5\",\"type\":\"BoxAnnotation\"}},\"id\":\"28d130cc-d065-4078-ae08-02ffd4c17f11\",\"type\":\"BoxZoomTool\"},{\"attributes\":{\"source\":{\"id\":\"d97effac-7c80-4483-93b0-12d4fb3b1ac9\",\"type\":\"ColumnDataSource\"}},\"id\":\"a5381991-4c23-444b-a824-502450f391eb\",\"type\":\"CDSView\"},{\"attributes\":{\"line_alpha\":0.5,\"line_color\":\"#377eb8\",\"line_dash\":[6],\"line_width\":4,\"x\":{\"field\":\"x\"},\"y\":{\"field\":\"y\"}},\"id\":\"d222464c-c3ab-49dc-b50c-faf657f33e12\",\"type\":\"Line\"},{\"attributes\":{\"fill_alpha\":{\"value\":0.1},\"fill_color\":{\"value\":\"#1f77b4\"},\"line_alpha\":{\"value\":0.1},\"line_color\":{\"value\":\"#1f77b4\"},\"x\":{\"field\":\"x\"},\"y\":{\"field\":\"y\"}},\"id\":\"b9d0c7a5-8928-44c8-ae68-2d658fb8bfa7\",\"type\":\"Square\"},{\"attributes\":{},\"id\":\"82f4dd51-8df0-41a3-be5a-17d4e43e95e1\",\"type\":\"LinearScale\"},{\"attributes\":{\"fill_alpha\":{\"value\":0.1},\"fill_color\":{\"value\":\"#1f77b4\"},\"line_alpha\":{\"value\":0.1},\"line_color\":{\"value\":\"#1f77b4\"},\"x\":{\"field\":\"x\"},\"y\":{\"field\":\"y\"}},\"id\":\"a5d6821b-eb61-4237-9386-adf8c81b2536\",\"type\":\"Circle\"},{\"attributes\":{\"label\":{\"value\":\"CLIRAD (single-run) - CRD\"},\"renderers\":[{\"id\":\"25196142-9296-4ef8-a248-2f014e1b5663\",\"type\":\"GlyphRenderer\"},{\"id\":\"24cf27dd-4484-4e96-8ee4-1d89ffda5c6d\",\"type\":\"GlyphRenderer\"}]},\"id\":\"9cdb67c6-c8e3-4910-ae0d-db6f54dfc268\",\"type\":\"LegendItem\"},{\"attributes\":{},\"id\":\"56edd4b0-aed6-4835-9c98-04912148c1b2\",\"type\":\"LogScale\"},{\"attributes\":{\"source\":{\"id\":\"aa51ff53-8e24-46ff-843e-26e13a659ae5\",\"type\":\"ColumnDataSource\"}},\"id\":\"b0d996c6-2ba7-411b-b928-9ec8f570e52b\",\"type\":\"CDSView\"},{\"attributes\":{\"label\":{\"value\":\"old CLIRAD (H2012) - CRD\"},\"renderers\":[{\"id\":\"123586d3-2e86-4f81-bf82-10de654e9892\",\"type\":\"GlyphRenderer\"}]},\"id\":\"e7e5815b-5047-43e9-a84f-56f5a2287a38\",\"type\":\"LegendItem\"},{\"attributes\":{\"callback\":null,\"data\":{\"x\":{\"__ndarray__\":\"cm1sTMT3VEDEyvjosEJHQOKI6DjzCUNArgQWV9awPkB9Lm8XG3M4QEz+Qv6iYzNA7eV8HaPLLkCX1QHyTpMoQFBmYSYetiNAUB04GtGpH0AmFyVE5j8ZQJca9QPGqBNALJP+OOHHDEBNxaf7QF8AQKtislomWuw/cW2dcO6A9T/uJJvfPu0EQIaQLTI/JQ1AxGiII+PmEkCJvfVeuCsYQD6ZBhGbHB9AXQw69DTYJEAsubcwKucqQNuT9D5OmipAJyi3szEJJUBlNebh5WkgQDDcPHBr2xlArtlANXuQFEBdJadFHckQQI2Avh0ZsQtAjYiwt1rsBUCL0SDoVBgAQK6C0nEEjvc/CggLSme58T9sXU2orFPnP0v0JYz9Gdg/vT38vxYczD9nBQTe6kHHP1IhkEXJwKo/8OZnhCVAub+xtVgCpmqzP6DUpY6g0+k/PKK3T1h4+D8RTDjQc1EAQG/dAQs7TwJAQt2eHpPLAEBWEh074x//PyCap9ZSGf4/rEzaTySm/T+7aXhHRmr9P688KeqeNP0/ruZ4EemD/D8olrZcn9T7P0+vNc9hW/s/i9VVL+4P+z+0NzC24uz6P8731Kza8vo/xFf4SHzq+z+gYyHpvHb8P68ROkiFevw/BAjYdCga/D8AUp8VbW77P3JrF/nKmvo/qCQeGfq++T/dplwHJfn4P2G4p+Uva/g/OzZ0RqMZ+D8dmn/iar73P/OuA7Ka8PY/gaaeQHGn9T9hkyjAH1L0P3aZGhdAU/M/n8VP/g7P8j+90HxHNvfyPwhNBtgrqvk/\",\"dtype\":\"float64\",\"shape\":[75]},\"y\":{\"__ndarray__\":\"GhExyth1ND/Sv8nbtpRIP2vylNV0PVE/aTum7souWD/At0SJ8fVgPw3Iuahxymc/MSNhhJWvcD/bTfBN02d3P2zb5nxnaoA/CD5h5MAGhz8NmeH1TyaQP+zrCsc9p5Y/LbKd76fGnz/bLW5ISEmmPww9YvTcQq8/JV2OstnstT8Er5Y7M8G+P0c+r3jqkcU/5h99k6ZBzj88bCIzFzjVP4enV8oyxN0//yH99nXg5D8qOpLLf0jtP5kqGJXUifQ/c9cS8kHP/D+/DpwzojQEQIEmwoanVwxA4lgXt9HgE0BSSZ2AJuIbQAMJih9jjiNA5q4l5INuK0AwTKYKRj0zQNv5fmq8/DpAaCJseHrtQkB/+zpwzoxKQM3MzMzMeFJAZmZmZmZqWEAAAAAAAFxeQM3MzMzMJmJAmpmZmZkfZUBmZmZmZhhoQDMzMzMzEWtAAAAAAAAKbkBmZmZmZoFwQM3MzMzM/XFAMzMzMzN6c0CamZmZmfZ0QAAAAAAAc3ZAZmZmZmbvd0DNzMzMzGt5QDMzMzMz6HpAmpmZmZlkfEAAAAAAAOF9QGZmZmZmXX9AZmZmZuZsgECamZmZGSuBQM3MzMxM6YFAAAAAAICngkAzMzMzs2WDQGZmZmbmI4RAmpmZmRnihEDNzMzMTKCFQAAAAACAXoZAMzMzM7Mch0BmZmZm5tqHQJqZmZkZmYhAzczMzExXiUAAAAAAgBWKQDMzMzOz04pAZmZmZuaRi0CamZmZGVCMQM3MzMxMDo1AAAAAAIDMjUAzMzMzs4qOQGZmZmbmSI9A\",\"dtype\":\"float64\",\"shape\":[75]}},\"selected\":{\"id\":\"12cf5c19-ed42-4dce-ad87-869a38f22b9a\",\"type\":\"Selection\"},\"selection_policy\":{\"id\":\"d2c8ef67-c3e6-4011-9c09-9cf89eafcaec\",\"type\":\"UnionRenderers\"}},\"id\":\"65253a29-b1d9-4ae5-9ebc-fe8826a8c39c\",\"type\":\"ColumnDataSource\"},{\"attributes\":{\"line_alpha\":0.1,\"line_color\":\"#1f77b4\",\"line_width\":1.5,\"x\":{\"field\":\"x\"},\"y\":{\"field\":\"y\"}},\"id\":\"4f759ea4-ff96-4411-a59c-433c8354c61c\",\"type\":\"Line\"},{\"attributes\":{\"plot\":null,\"text\":\"\"},\"id\":\"3d72c1b8-617a-4099-b9e7-d4130ee99a36\",\"type\":\"Title\"},{\"attributes\":{\"callback\":null,\"data\":{\"x\":{\"__ndarray__\":\"zhhdnl3RU0CKgDdE+dxEQP6f5duhdUFAMJBr6ewEQkAADxZQyK45QBmX3ka8EDZAjl8alnlwL0CeYJlYHKIqQJoaoQNWxSJAwL4t7BozIUBMkS56I6AXQBxPe4ld/BRAnMjiKz2HCkCJCgdQ/WcBQKJTvluRvOg/j/JpYJwB9j+fcxKIKREEQOwUvOtLFw1AV0At7oRoEkD5lECKxjYXQAdydNQ0jR1ACbyvRZLfI0CO3MmPRGApQCcUNq4qNylA6VN9h30SJECRnP+HbGofQDQKaukXmhlAteFC/mL9E0CTDffT91MQQEkVAKh1YwtAqFesCIQRBkATatBMXLz/P4fvYPUXo/Y/tDrQnFTK8T/fneFQ7xLnP14aDQuCJtc/5BrOx2LRzT+fE4V0bnvHP3ueIXamhrA/cWaxNtALrr92uqPyMJK3P6q5+U821+g/ckrZjXL49z/TaxRJZAUAQPzVLij27QFAige8XqaCAEAv4Q7keaX+P0VyKG35kv0/XHVqXZRQ/T/+RskYEAv9PwKD1IjB3fw/JBko3yJ2/D//mRCM5iX7P/btQHcr5vo/xTCcdQr9+j+f/V+tjrf6P0Wt2HvLrvo/9IV/x6br+z/bYX40veD8P8+HZwkyUvw/CkxgoI8l/D8QA+bsYB78P2eu9w7DDvw/khNJm3qS+j8vZ0xHVJ75Py0d1shscPk/NKgVKiiK+T/NNtzstIr5P4ps72zyaPc/TlSpuPUj9j9S2qZu6gj1P2XVmdu6VPQ/t/WgjjEZ9D+np734CoH0P1P4Q57qwfo/\",\"dtype\":\"float64\",\"shape\":[75]},\"y\":{\"__ndarray__\":\"hLndy31yND/6fmq8dJNIP8n9DkWBPlE/aDum7souWD/b4a/JGvVgP9f34SAhymc/ZvM4DOavcD+z0M5pFmh3PxuC4zJuaoA/xjcUPlsHhz8uHAjJAiaQP9ieWRKgppY/oI7HDFTGnz+a5h2n6EimPzS6g9iZQq8/IuAQqtTstT9SSZ2AJsK+P4nS3uALk8U/ih9j7lpCzj+ASL99HTjVP4enV8oyxN0/ACL99nXg5D9fmEwVjErtPyUGgZVDi/Q/AiuHFtnO/D9OYhBYOTQEQPHSTWIQWAxA4XoUrkfhE0D8qfHSTeIbQMh2vp8ajyNArkfhehRuK0Bcj8L1KDwzQFyPwvUo/DpAPgrXo3DtQkDNzMzMzIxKQClcj8L1eFJAKVyPwvVoWECamZmZmVleQGZmZmZmJmJAAAAAAAAgZUCamZmZmRloQJqZmZmZEWtAmpmZmZkJbkCamZmZmYFwQGZmZmZm/nFAZmZmZmZ6c0BmZmZmZvZ0QDQzMzMzc3ZAAAAAAADwd0AAAAAAAGx5QAAAAAAA6HpAzMzMzMxkfEDMzMzMzOB9QM3MzMzMXH9AzczMzMxsgEAzMzMzMyuBQDMzMzMz6YFAMzMzMzOngkCamZmZmWWDQAAAAAAAJIRAAAAAAADihEAAAAAAAKCFQGZmZmZmXoZAzczMzMwch0DNzMzMzNqHQM3MzMzMmIhAMzMzMzNXiUCamZmZmRWKQAAAAAAA1IpAAAAAAACSi0AAAAAAAFCMQGZmZmZmDo1AzczMzMzMjUDNzMzMzIqOQM3MzMzMSI9A\",\"dtype\":\"float64\",\"shape\":[75]}},\"selected\":{\"id\":\"a31bcdab-fc3d-4766-b021-6e223f761714\",\"type\":\"Selection\"},\"selection_policy\":{\"id\":\"43a4df15-a540-4cac-a726-6f37e0680cfb\",\"type\":\"UnionRenderers\"}},\"id\":\"d97effac-7c80-4483-93b0-12d4fb3b1ac9\",\"type\":\"ColumnDataSource\"},{\"attributes\":{\"callback\":null,\"data\":{\"x\":{\"__ndarray__\":\"QEr14GpmEsDQUQomvS0TwECOLtAVRQnAyG4E7w1kFUAwCG6K07rzP2jG3ETKaAVAIDSvE8+a1D84WLw0a3bwP8B2CVgEGd6/gAEb8SXj5T+gXWifLPzZv1BIY1h4OdU/gFTeaCAF0r/AU/RFxYvAP0h4oPen7Ly/wKOQ+b0VoD/gKRbxqoK7vwA09+KM5nu/QBvKVo2Xv78AEqWWOp7Ov3BzIslj9ti/gApK0VUU37/gyd0OWm7ov0D75ws5Mua/wIc6h4XW3r+Q48y885XWvwB/tLThVLC/IP++3wZjwr+A8gVsXEm9vwDRmm/daKO/gI3nfaiUkj/AQE7cYBOdv+BkMo6PXa2/AKoyxVLtcD9A4+/aVS+Av6A9GyNwb46/cNIdfcBUiz8AHIdAy8FcP5BuzJoOMok/b2ce0np0pD8UEyzBK56QP8Beg9VHjZ+/gPKVd3D5n7+AD/jI4QOjv8DcwbQ4Uai/AG61+C87or/ASYzDVZqev2D75C8ty6C/ANT1m/xjlb9Ar8iri82Xv0BrLlVYt5W/ABSboWSMa78ghb8UGtelv0BWMP2VTZ2/AMakubnjcr+ACh1oBKqKv0CiEj/MA5G/AADjcuinMj/Ajj/XEoCaPwDwRGmfKYS/AAyIEFfOZj8AItboev6lP1AvBF6BP7c/QN1dRRBwqj9ACvj956WkP8BM5jLOU7A/kB8XOk4Itz8Ay8mloMS8P8Bl77ruFZ4/QHOrAh4hnz8g3sjPVdmmP/C+80esF7A/gAETBSmitD+gbg0US524P7C02mPse7E/\",\"dtype\":\"float64\",\"shape\":[75]},\"y\":{\"__ndarray__\":\"GhExyth1ND/Sv8nbtpRIP2vylNV0PVE/aTum7souWD/At0SJ8fVgPw3Iuahxymc/MSNhhJWvcD/bTfBN02d3P2zb5nxnaoA/CD5h5MAGhz8NmeH1TyaQP+zrCsc9p5Y/LbKd76fGnz/bLW5ISEmmPww9YvTcQq8/JV2OstnstT8Er5Y7M8G+P0c+r3jqkcU/5h99k6ZBzj88bCIzFzjVP4enV8oyxN0//yH99nXg5D8qOpLLf0jtP5kqGJXUifQ/c9cS8kHP/D+/DpwzojQEQIEmwoanVwxA4lgXt9HgE0BSSZ2AJuIbQAMJih9jjiNA5q4l5INuK0AwTKYKRj0zQNv5fmq8/DpAaCJseHrtQkB/+zpwzoxKQM3MzMzMeFJAZmZmZmZqWEAAAAAAAFxeQM3MzMzMJmJAmpmZmZkfZUBmZmZmZhhoQDMzMzMzEWtAAAAAAAAKbkBmZmZmZoFwQM3MzMzM/XFAMzMzMzN6c0CamZmZmfZ0QAAAAAAAc3ZAZmZmZmbvd0DNzMzMzGt5QDMzMzMz6HpAmpmZmZlkfEAAAAAAAOF9QGZmZmZmXX9AZmZmZuZsgECamZmZGSuBQM3MzMxM6YFAAAAAAICngkAzMzMzs2WDQGZmZmbmI4RAmpmZmRnihEDNzMzMTKCFQAAAAACAXoZAMzMzM7Mch0BmZmZm5tqHQJqZmZkZmYhAzczMzExXiUAAAAAAgBWKQDMzMzOz04pAZmZmZuaRi0CamZmZGVCMQM3MzMxMDo1AAAAAAIDMjUAzMzMzs4qOQGZmZmbmSI9A\",\"dtype\":\"float64\",\"shape\":[75]}},\"selected\":{\"id\":\"5eb0475c-2b21-4f2c-b983-1b2a5b240593\",\"type\":\"Selection\"},\"selection_policy\":{\"id\":\"ad26fa43-eaf4-40ac-8f90-6252a6ff7024\",\"type\":\"UnionRenderers\"}},\"id\":\"5a9ca700-ac6b-4a5e-95e2-0d456b25b88b\",\"type\":\"ColumnDataSource\"},{\"attributes\":{},\"id\":\"a31bcdab-fc3d-4766-b021-6e223f761714\",\"type\":\"Selection\"},{\"attributes\":{\"line_alpha\":0.8,\"line_color\":\"#984ea3\",\"line_width\":1.5,\"x\":{\"field\":\"x\"},\"y\":{\"field\":\"y\"}},\"id\":\"e62504ef-c9f3-4227-9074-d73545d237a2\",\"type\":\"Line\"},{\"attributes\":{\"data_source\":{\"id\":\"65253a29-b1d9-4ae5-9ebc-fe8826a8c39c\",\"type\":\"ColumnDataSource\"},\"glyph\":{\"id\":\"e61ec695-d1f2-4fb2-b444-77371bcdde94\",\"type\":\"Circle\"},\"hover_glyph\":null,\"muted_glyph\":null,\"nonselection_glyph\":{\"id\":\"a5d6821b-eb61-4237-9386-adf8c81b2536\",\"type\":\"Circle\"},\"selection_glyph\":null,\"view\":{\"id\":\"62716737-c680-42e7-ba44-e9e5b36e162c\",\"type\":\"CDSView\"}},\"id\":\"82ace2cd-b22b-4c4b-b45e-3b3c7727a4bb\",\"type\":\"GlyphRenderer\"},{\"attributes\":{\"line_alpha\":0.1,\"line_color\":\"#1f77b4\",\"line_dash\":[6],\"line_width\":4,\"x\":{\"field\":\"x\"},\"y\":{\"field\":\"y\"}},\"id\":\"be14acbd-b307-44c0-bcf9-ca676984044e\",\"type\":\"Line\"},{\"attributes\":{\"data_source\":{\"id\":\"6af2fc67-de9f-46c2-892d-0d8836f11336\",\"type\":\"ColumnDataSource\"},\"glyph\":{\"id\":\"39f7da0f-4288-48de-a0e7-22abbdeedfa8\",\"type\":\"Line\"},\"hover_glyph\":null,\"muted_glyph\":null,\"nonselection_glyph\":{\"id\":\"cc4bb634-2e6c-48d3-a601-57e16cd85c17\",\"type\":\"Line\"},\"selection_glyph\":null,\"view\":{\"id\":\"427556ae-4a5e-46b3-a6f2-fa672d87934e\",\"type\":\"CDSView\"}},\"id\":\"16a86294-2e41-4ad7-9ea8-fdff1481a8ab\",\"type\":\"GlyphRenderer\"},{\"attributes\":{},\"id\":\"e709807f-47fa-4fd4-b793-87ce4f438cd0\",\"type\":\"WheelZoomTool\"},{\"attributes\":{\"callback\":null,\"data\":{\"x\":{\"__ndarray__\":\"cm1sTMT3VEDEyvjosEJHQOKI6DjzCUNArgQWV9awPkB9Lm8XG3M4QEz+Qv6iYzNA7eV8HaPLLkCX1QHyTpMoQFBmYSYetiNAUB04GtGpH0AmFyVE5j8ZQJca9QPGqBNALJP+OOHHDEBNxaf7QF8AQKtislomWuw/cW2dcO6A9T/uJJvfPu0EQIaQLTI/JQ1AxGiII+PmEkCJvfVeuCsYQD6ZBhGbHB9AXQw69DTYJEAsubcwKucqQNuT9D5OmipAJyi3szEJJUBlNebh5WkgQDDcPHBr2xlArtlANXuQFEBdJadFHckQQI2Avh0ZsQtAjYiwt1rsBUCL0SDoVBgAQK6C0nEEjvc/CggLSme58T9sXU2orFPnP0v0JYz9Gdg/vT38vxYczD9nBQTe6kHHP1IhkEXJwKo/8OZnhCVAub+xtVgCpmqzP6DUpY6g0+k/PKK3T1h4+D8RTDjQc1EAQG/dAQs7TwJAQt2eHpPLAEBWEh074x//PyCap9ZSGf4/rEzaTySm/T+7aXhHRmr9P688KeqeNP0/ruZ4EemD/D8olrZcn9T7P0+vNc9hW/s/i9VVL+4P+z+0NzC24uz6P8731Kza8vo/xFf4SHzq+z+gYyHpvHb8P68ROkiFevw/BAjYdCga/D8AUp8VbW77P3JrF/nKmvo/qCQeGfq++T/dplwHJfn4P2G4p+Uva/g/OzZ0RqMZ+D8dmn/iar73P/OuA7Ka8PY/gaaeQHGn9T9hkyjAH1L0P3aZGhdAU/M/n8VP/g7P8j+90HxHNvfyPwhNBtgrqvk/\",\"dtype\":\"float64\",\"shape\":[75]},\"y\":{\"__ndarray__\":\"GhExyth1ND/Sv8nbtpRIP2vylNV0PVE/aTum7souWD/At0SJ8fVgPw3Iuahxymc/MSNhhJWvcD/bTfBN02d3P2zb5nxnaoA/CD5h5MAGhz8NmeH1TyaQP+zrCsc9p5Y/LbKd76fGnz/bLW5ISEmmPww9YvTcQq8/JV2OstnstT8Er5Y7M8G+P0c+r3jqkcU/5h99k6ZBzj88bCIzFzjVP4enV8oyxN0//yH99nXg5D8qOpLLf0jtP5kqGJXUifQ/c9cS8kHP/D+/DpwzojQEQIEmwoanVwxA4lgXt9HgE0BSSZ2AJuIbQAMJih9jjiNA5q4l5INuK0AwTKYKRj0zQNv5fmq8/DpAaCJseHrtQkB/+zpwzoxKQM3MzMzMeFJAZmZmZmZqWEAAAAAAAFxeQM3MzMzMJmJAmpmZmZkfZUBmZmZmZhhoQDMzMzMzEWtAAAAAAAAKbkBmZmZmZoFwQM3MzMzM/XFAMzMzMzN6c0CamZmZmfZ0QAAAAAAAc3ZAZmZmZmbvd0DNzMzMzGt5QDMzMzMz6HpAmpmZmZlkfEAAAAAAAOF9QGZmZmZmXX9AZmZmZuZsgECamZmZGSuBQM3MzMxM6YFAAAAAAICngkAzMzMzs2WDQGZmZmbmI4RAmpmZmRnihEDNzMzMTKCFQAAAAACAXoZAMzMzM7Mch0BmZmZm5tqHQJqZmZkZmYhAzczMzExXiUAAAAAAgBWKQDMzMzOz04pAZmZmZuaRi0CamZmZGVCMQM3MzMxMDo1AAAAAAIDMjUAzMzMzs4qOQGZmZmbmSI9A\",\"dtype\":\"float64\",\"shape\":[75]}},\"selected\":{\"id\":\"dd186cdc-3d26-417b-ae88-35288df24b5d\",\"type\":\"Selection\"},\"selection_policy\":{\"id\":\"8866222e-2748-4a90-8d2f-aeefaaf615f9\",\"type\":\"UnionRenderers\"}},\"id\":\"6af2fc67-de9f-46c2-892d-0d8836f11336\",\"type\":\"ColumnDataSource\"},{\"attributes\":{},\"id\":\"c0b6d275-d4b4-4016-8bf0-ff05bc230bd0\",\"type\":\"UnionRenderers\"},{\"attributes\":{},\"id\":\"6b57dfbc-697f-4894-8272-6f9fb9805686\",\"type\":\"UnionRenderers\"},{\"attributes\":{\"callback\":null,\"data\":{\"x\":{\"__ndarray__\":\"zhhdnl3RU0CKgDdE+dxEQP6f5duhdUFAMJBr6ewEQkAADxZQyK45QBmX3ka8EDZAjl8alnlwL0CeYJlYHKIqQJoaoQNWxSJAwL4t7BozIUBMkS56I6AXQBxPe4ld/BRAnMjiKz2HCkCJCgdQ/WcBQKJTvluRvOg/j/JpYJwB9j+fcxKIKREEQOwUvOtLFw1AV0At7oRoEkD5lECKxjYXQAdydNQ0jR1ACbyvRZLfI0CO3MmPRGApQCcUNq4qNylA6VN9h30SJECRnP+HbGofQDQKaukXmhlAteFC/mL9E0CTDffT91MQQEkVAKh1YwtAqFesCIQRBkATatBMXLz/P4fvYPUXo/Y/tDrQnFTK8T/fneFQ7xLnP14aDQuCJtc/5BrOx2LRzT+fE4V0bnvHP3ueIXamhrA/cWaxNtALrr92uqPyMJK3P6q5+U821+g/ckrZjXL49z/TaxRJZAUAQPzVLij27QFAige8XqaCAEAv4Q7keaX+P0VyKG35kv0/XHVqXZRQ/T/+RskYEAv9PwKD1IjB3fw/JBko3yJ2/D//mRCM5iX7P/btQHcr5vo/xTCcdQr9+j+f/V+tjrf6P0Wt2HvLrvo/9IV/x6br+z/bYX40veD8P8+HZwkyUvw/CkxgoI8l/D8QA+bsYB78P2eu9w7DDvw/khNJm3qS+j8vZ0xHVJ75Py0d1shscPk/NKgVKiiK+T/NNtzstIr5P4ps72zyaPc/TlSpuPUj9j9S2qZu6gj1P2XVmdu6VPQ/t/WgjjEZ9D+np734CoH0P1P4Q57qwfo/\",\"dtype\":\"float64\",\"shape\":[75]},\"y\":{\"__ndarray__\":\"hLndy31yND/6fmq8dJNIP8n9DkWBPlE/aDum7souWD/b4a/JGvVgP9f34SAhymc/ZvM4DOavcD+z0M5pFmh3PxuC4zJuaoA/xjcUPlsHhz8uHAjJAiaQP9ieWRKgppY/oI7HDFTGnz+a5h2n6EimPzS6g9iZQq8/IuAQqtTstT9SSZ2AJsK+P4nS3uALk8U/ih9j7lpCzj+ASL99HTjVP4enV8oyxN0/ACL99nXg5D9fmEwVjErtPyUGgZVDi/Q/AiuHFtnO/D9OYhBYOTQEQPHSTWIQWAxA4XoUrkfhE0D8qfHSTeIbQMh2vp8ajyNArkfhehRuK0Bcj8L1KDwzQFyPwvUo/DpAPgrXo3DtQkDNzMzMzIxKQClcj8L1eFJAKVyPwvVoWECamZmZmVleQGZmZmZmJmJAAAAAAAAgZUCamZmZmRloQJqZmZmZEWtAmpmZmZkJbkCamZmZmYFwQGZmZmZm/nFAZmZmZmZ6c0BmZmZmZvZ0QDQzMzMzc3ZAAAAAAADwd0AAAAAAAGx5QAAAAAAA6HpAzMzMzMxkfEDMzMzMzOB9QM3MzMzMXH9AzczMzMxsgEAzMzMzMyuBQDMzMzMz6YFAMzMzMzOngkCamZmZmWWDQAAAAAAAJIRAAAAAAADihEAAAAAAAKCFQGZmZmZmXoZAzczMzMwch0DNzMzMzNqHQM3MzMzMmIhAMzMzMzNXiUCamZmZmRWKQAAAAAAA1IpAAAAAAACSi0AAAAAAAFCMQGZmZmZmDo1AzczMzMzMjUDNzMzMzIqOQM3MzMzMSI9A\",\"dtype\":\"float64\",\"shape\":[75]}},\"selected\":{\"id\":\"28ca5c3c-ce38-453d-84b3-8dbcdcb98006\",\"type\":\"Selection\"},\"selection_policy\":{\"id\":\"6b57dfbc-697f-4894-8272-6f9fb9805686\",\"type\":\"UnionRenderers\"}},\"id\":\"aa51ff53-8e24-46ff-843e-26e13a659ae5\",\"type\":\"ColumnDataSource\"},{\"attributes\":{\"data_source\":{\"id\":\"d97effac-7c80-4483-93b0-12d4fb3b1ac9\",\"type\":\"ColumnDataSource\"},\"glyph\":{\"id\":\"81937bfe-4f4e-4a76-9404-c96a4959bf0c\",\"type\":\"Line\"},\"hover_glyph\":null,\"muted_glyph\":null,\"nonselection_glyph\":{\"id\":\"4f759ea4-ff96-4411-a59c-433c8354c61c\",\"type\":\"Line\"},\"selection_glyph\":null,\"view\":{\"id\":\"a5381991-4c23-444b-a824-502450f391eb\",\"type\":\"CDSView\"}},\"id\":\"2d63e7c7-a4b5-470c-b199-356c8d483fa9\",\"type\":\"GlyphRenderer\"},{\"attributes\":{\"data_source\":{\"id\":\"c6a8625d-7a26-41b1-9ebf-d086f29ac47e\",\"type\":\"ColumnDataSource\"},\"glyph\":{\"id\":\"e62504ef-c9f3-4227-9074-d73545d237a2\",\"type\":\"Line\"},\"hover_glyph\":null,\"muted_glyph\":null,\"nonselection_glyph\":{\"id\":\"ba2db4ea-6a9a-44aa-af28-00e4e972ff7f\",\"type\":\"Line\"},\"selection_glyph\":null,\"view\":{\"id\":\"56776308-7a3a-4c1d-b701-a101412cac64\",\"type\":\"CDSView\"}},\"id\":\"24cf27dd-4484-4e96-8ee4-1d89ffda5c6d\",\"type\":\"GlyphRenderer\"},{\"attributes\":{\"line_alpha\":0.5,\"line_color\":\"#984ea3\",\"line_width\":1.5,\"x\":{\"field\":\"x\"},\"y\":{\"field\":\"y\"}},\"id\":\"81937bfe-4f4e-4a76-9404-c96a4959bf0c\",\"type\":\"Line\"},{\"attributes\":{\"bottom_units\":\"screen\",\"fill_alpha\":{\"value\":0.5},\"fill_color\":{\"value\":\"lightgrey\"},\"left_units\":\"screen\",\"level\":\"overlay\",\"line_alpha\":{\"value\":1.0},\"line_color\":{\"value\":\"black\"},\"line_dash\":[4,4],\"line_width\":{\"value\":2},\"plot\":null,\"render_mode\":\"css\",\"right_units\":\"screen\",\"top_units\":\"screen\"},\"id\":\"90bb3be3-c0bc-470c-bcc7-09e105907df5\",\"type\":\"BoxAnnotation\"},{\"attributes\":{\"source\":{\"id\":\"65253a29-b1d9-4ae5-9ebc-fe8826a8c39c\",\"type\":\"ColumnDataSource\"}},\"id\":\"62716737-c680-42e7-ba44-e9e5b36e162c\",\"type\":\"CDSView\"},{\"attributes\":{\"source\":{\"id\":\"04ab3f19-51be-4ec6-816f-dba339f13204\",\"type\":\"ColumnDataSource\"}},\"id\":\"35bf2f9c-2bbe-4211-b134-f0777a713981\",\"type\":\"CDSView\"},{\"attributes\":{\"fill_alpha\":{\"value\":0.7},\"fill_color\":{\"value\":\"#984ea3\"},\"line_alpha\":{\"value\":0.7},\"line_color\":{\"value\":\"#984ea3\"},\"x\":{\"field\":\"x\"},\"y\":{\"field\":\"y\"}},\"id\":\"bb465e38-3465-4fb0-9ae1-94981a93206d\",\"type\":\"Square\"},{\"attributes\":{},\"id\":\"fef5846d-b0a1-4d9f-825f-e630d154c005\",\"type\":\"HelpTool\"},{\"attributes\":{},\"id\":\"fa78fe8f-68ad-47e1-8fcb-17db8259f9fb\",\"type\":\"ResetTool\"},{\"attributes\":{},\"id\":\"860b822e-39c8-4c94-ab0b-1e39ecdb59d4\",\"type\":\"SaveTool\"},{\"attributes\":{\"label\":{\"value\":\"old CLIRAD (H2012)\"},\"renderers\":[{\"id\":\"fbdfe88c-0cd8-4aa2-af29-86556ad025cd\",\"type\":\"GlyphRenderer\"},{\"id\":\"2d63e7c7-a4b5-470c-b199-356c8d483fa9\",\"type\":\"GlyphRenderer\"}]},\"id\":\"9b83d831-bf74-4855-aaf1-51cb5912d1ee\",\"type\":\"LegendItem\"},{\"attributes\":{\"source\":{\"id\":\"6af2fc67-de9f-46c2-892d-0d8836f11336\",\"type\":\"ColumnDataSource\"}},\"id\":\"427556ae-4a5e-46b3-a6f2-fa672d87934e\",\"type\":\"CDSView\"},{\"attributes\":{\"label\":{\"value\":\"CRD\"},\"renderers\":[{\"id\":\"82ace2cd-b22b-4c4b-b45e-3b3c7727a4bb\",\"type\":\"GlyphRenderer\"},{\"id\":\"16a86294-2e41-4ad7-9ea8-fdff1481a8ab\",\"type\":\"GlyphRenderer\"}]},\"id\":\"d83850e5-a4ba-4091-b2ca-83565f13534f\",\"type\":\"LegendItem\"},{\"attributes\":{\"above\":[{\"id\":\"e492e84d-c6f1-4f6c-8870-397c68d26675\",\"type\":\"Legend\"}],\"below\":[{\"id\":\"c31486a0-3a7e-49e0-ae4b-55a2095161eb\",\"type\":\"LinearAxis\"}],\"left\":[{\"id\":\"6847557c-aada-4ad0-9444-fceb39788236\",\"type\":\"LogAxis\"}],\"plot_width\":300,\"renderers\":[{\"id\":\"c31486a0-3a7e-49e0-ae4b-55a2095161eb\",\"type\":\"LinearAxis\"},{\"id\":\"a8b4ef31-ba2c-42c8-82d5-9eed87cedbb2\",\"type\":\"Grid\"},{\"id\":\"6847557c-aada-4ad0-9444-fceb39788236\",\"type\":\"LogAxis\"},{\"id\":\"42f0e8b9-e02a-416e-9fb4-a1ed3be7aa7e\",\"type\":\"Grid\"},{\"id\":\"8dfdb60a-1069-4b77-b74d-8851d409a8b6\",\"type\":\"BoxAnnotation\"},{\"id\":\"8f7ae310-5c48-48bd-a4f5-f416d37fbb8e\",\"type\":\"GlyphRenderer\"},{\"id\":\"82ace2cd-b22b-4c4b-b45e-3b3c7727a4bb\",\"type\":\"GlyphRenderer\"},{\"id\":\"16a86294-2e41-4ad7-9ea8-fdff1481a8ab\",\"type\":\"GlyphRenderer\"},{\"id\":\"fbdfe88c-0cd8-4aa2-af29-86556ad025cd\",\"type\":\"GlyphRenderer\"},{\"id\":\"2d63e7c7-a4b5-470c-b199-356c8d483fa9\",\"type\":\"GlyphRenderer\"},{\"id\":\"e492e84d-c6f1-4f6c-8870-397c68d26675\",\"type\":\"Legend\"}],\"title\":{\"id\":\"bc71e8ab-626d-445d-8188-157868413e52\",\"type\":\"Title\"},\"toolbar\":{\"id\":\"64689603-7a19-4951-ba7f-d536d3c9c066\",\"type\":\"Toolbar\"},\"toolbar_location\":null,\"x_range\":{\"id\":\"44c58636-9622-4180-a9e2-7068a356d29a\",\"type\":\"Range1d\"},\"x_scale\":{\"id\":\"42f9ccc0-f012-401a-81e1-ed97254912f1\",\"type\":\"LinearScale\"},\"y_range\":{\"id\":\"0c3a4b5e-74eb-4c91-9d4e-47255b21b668\",\"type\":\"Range1d\"},\"y_scale\":{\"id\":\"dcc2423e-c749-44f6-ade2-d401e07d746a\",\"type\":\"LogScale\"}},\"id\":\"ec7ad56e-20b4-46d5-b6c7-1499d2d0cd7e\",\"subtype\":\"Figure\",\"type\":\"Plot\"},{\"attributes\":{\"label\":{\"value\":\"CLIRAD (single-run)\"},\"renderers\":[{\"id\":\"8f7ae310-5c48-48bd-a4f5-f416d37fbb8e\",\"type\":\"GlyphRenderer\"}]},\"id\":\"9667506e-6e25-4837-a608-5761da967225\",\"type\":\"LegendItem\"},{\"attributes\":{},\"id\":\"d391e45a-3a54-460a-9afb-0dc97a8f4c2a\",\"type\":\"ResetTool\"},{\"attributes\":{\"data_source\":{\"id\":\"5a9ca700-ac6b-4a5e-95e2-0d456b25b88b\",\"type\":\"ColumnDataSource\"},\"glyph\":{\"id\":\"d222464c-c3ab-49dc-b50c-faf657f33e12\",\"type\":\"Line\"},\"hover_glyph\":null,\"muted_glyph\":null,\"nonselection_glyph\":{\"id\":\"be14acbd-b307-44c0-bcf9-ca676984044e\",\"type\":\"Line\"},\"selection_glyph\":null,\"view\":{\"id\":\"361adaec-faad-4fdc-9ced-49e3d2028098\",\"type\":\"CDSView\"}},\"id\":\"123586d3-2e86-4f81-bf82-10de654e9892\",\"type\":\"GlyphRenderer\"},{\"attributes\":{\"bottom_units\":\"screen\",\"fill_alpha\":{\"value\":0.5},\"fill_color\":{\"value\":\"lightgrey\"},\"left_units\":\"screen\",\"level\":\"overlay\",\"line_alpha\":{\"value\":1.0},\"line_color\":{\"value\":\"black\"},\"line_dash\":[4,4],\"line_width\":{\"value\":2},\"plot\":null,\"render_mode\":\"css\",\"right_units\":\"screen\",\"top_units\":\"screen\"},\"id\":\"443c7eff-1a3c-4c35-8b29-9ec32616d59b\",\"type\":\"BoxAnnotation\"},{\"attributes\":{\"callback\":null,\"end\":2.3135550717823805,\"start\":-0.22300514836038007},\"id\":\"93524b48-b84e-4520-9019-65f2303c3d43\",\"type\":\"Range1d\"},{\"attributes\":{},\"id\":\"c4bb458f-1961-43f1-8e07-3b1d315e2227\",\"type\":\"HelpTool\"},{\"attributes\":{},\"id\":\"0b0357c1-4ee8-4033-b4c8-85630c131bc1\",\"type\":\"BasicTickFormatter\"},{\"attributes\":{},\"id\":\"c8a24f18-abf6-4c66-bbc9-0fa5077e98e4\",\"type\":\"BasicTicker\"},{\"attributes\":{\"source\":{\"id\":\"f8fbdcbc-d0a7-4894-9e3b-f9118a2e6729\",\"type\":\"ColumnDataSource\"}},\"id\":\"0c6478f2-1485-4330-ba72-252d978cad7e\",\"type\":\"CDSView\"},{\"attributes\":{\"active_drag\":\"auto\",\"active_inspect\":\"auto\",\"active_scroll\":\"auto\",\"active_tap\":\"auto\",\"tools\":[{\"id\":\"4059dcf9-e79a-4611-8e18-b843d906de34\",\"type\":\"PanTool\"},{\"id\":\"e709807f-47fa-4fd4-b793-87ce4f438cd0\",\"type\":\"WheelZoomTool\"},{\"id\":\"28d130cc-d065-4078-ae08-02ffd4c17f11\",\"type\":\"BoxZoomTool\"},{\"id\":\"0719e9ea-9f06-490a-a631-b9be808fc1ed\",\"type\":\"SaveTool\"},{\"id\":\"fa78fe8f-68ad-47e1-8fcb-17db8259f9fb\",\"type\":\"ResetTool\"},{\"id\":\"fef5846d-b0a1-4d9f-825f-e630d154c005\",\"type\":\"HelpTool\"}]},\"id\":\"a7fbcb11-aafb-4a54-ac0f-9324e93020b7\",\"type\":\"Toolbar\"},{\"attributes\":{\"items\":[{\"id\":\"5b7c0373-b601-4fff-b222-f552e3b4bcca\",\"type\":\"LegendItem\"},{\"id\":\"2e5c8a1b-ef21-4c83-b250-dd8453048bad\",\"type\":\"LegendItem\"},{\"id\":\"9476eab8-7e26-488d-ab52-e3a2e587ceeb\",\"type\":\"LegendItem\"}],\"label_text_font_size\":{\"value\":\"8pt\"},\"location\":\"top_center\",\"orientation\":\"horizontal\",\"plot\":{\"id\":\"12aa30bd-a8ef-4440-958b-f9ccbb0307a6\",\"subtype\":\"Figure\",\"type\":\"Plot\"}},\"id\":\"bc96cdfb-1d81-4a74-9371-f1618d67214c\",\"type\":\"Legend\"},{\"attributes\":{\"axis_label\":\"cooling rate [K/day]\",\"formatter\":{\"id\":\"cb464569-4210-4db0-9ec0-902b58eb02d2\",\"type\":\"BasicTickFormatter\"},\"plot\":{\"id\":\"12aa30bd-a8ef-4440-958b-f9ccbb0307a6\",\"subtype\":\"Figure\",\"type\":\"Plot\"},\"ticker\":{\"id\":\"c8a24f18-abf6-4c66-bbc9-0fa5077e98e4\",\"type\":\"BasicTicker\"}},\"id\":\"55386b2f-8406-4f97-b3b9-ae67ba637716\",\"type\":\"LinearAxis\"},{\"attributes\":{},\"id\":\"f0be1598-4988-418d-ac81-9db5d0315675\",\"type\":\"LinearScale\"},{\"attributes\":{\"data_source\":{\"id\":\"f8fbdcbc-d0a7-4894-9e3b-f9118a2e6729\",\"type\":\"ColumnDataSource\"},\"glyph\":{\"id\":\"9163d117-c22d-448a-b384-15866ba01a04\",\"type\":\"Line\"},\"hover_glyph\":null,\"muted_glyph\":null,\"nonselection_glyph\":{\"id\":\"490b9d24-f3ef-4306-92ab-d2a451346390\",\"type\":\"Line\"},\"selection_glyph\":null,\"view\":{\"id\":\"0c6478f2-1485-4330-ba72-252d978cad7e\",\"type\":\"CDSView\"}},\"id\":\"a54f34b0-9c1d-4de1-9996-bd9a51c482c4\",\"type\":\"GlyphRenderer\"},{\"attributes\":{},\"id\":\"567577a7-8b90-4708-b7e7-484cfe742066\",\"type\":\"LinearScale\"},{\"attributes\":{\"plot\":{\"id\":\"12aa30bd-a8ef-4440-958b-f9ccbb0307a6\",\"subtype\":\"Figure\",\"type\":\"Plot\"},\"ticker\":{\"id\":\"c8a24f18-abf6-4c66-bbc9-0fa5077e98e4\",\"type\":\"BasicTicker\"}},\"id\":\"363f5786-966b-4362-83a6-2f116df0ccbc\",\"type\":\"Grid\"},{\"attributes\":{\"callback\":null,\"end\":0.01,\"start\":1020},\"id\":\"04d4be59-10a3-40ac-9a95-32232bf565a3\",\"type\":\"Range1d\"},{\"attributes\":{\"source\":{\"id\":\"3ee3c63f-c96d-4414-9ece-f371fda83cc2\",\"type\":\"ColumnDataSource\"}},\"id\":\"9f22bbb5-716d-46ca-949e-17b8c98474c2\",\"type\":\"CDSView\"},{\"attributes\":{},\"id\":\"0ab37176-8fec-4bcb-bc8c-fdeed1385407\",\"type\":\"HelpTool\"},{\"attributes\":{},\"id\":\"907a4948-bf84-4110-a806-cece076dc552\",\"type\":\"BasicTicker\"},{\"attributes\":{\"above\":[{\"id\":\"6318ee96-623a-44a3-9400-bc132ec47959\",\"type\":\"Legend\"}],\"below\":[{\"id\":\"2d5dbe20-5744-4829-a784-c0278b27f219\",\"type\":\"LinearAxis\"}],\"left\":[{\"id\":\"55a1950a-d88b-4e4e-bf08-68f3da7ea5cd\",\"type\":\"LogAxis\"}],\"plot_width\":300,\"renderers\":[{\"id\":\"2d5dbe20-5744-4829-a784-c0278b27f219\",\"type\":\"LinearAxis\"},{\"id\":\"6a49b1df-c374-44be-bcb9-7091e7011a2d\",\"type\":\"Grid\"},{\"id\":\"55a1950a-d88b-4e4e-bf08-68f3da7ea5cd\",\"type\":\"LogAxis\"},{\"id\":\"40a3a7b6-7ba0-4dbd-84b6-d2e18b12fe0d\",\"type\":\"Grid\"},{\"id\":\"443c7eff-1a3c-4c35-8b29-9ec32616d59b\",\"type\":\"BoxAnnotation\"},{\"id\":\"25196142-9296-4ef8-a248-2f014e1b5663\",\"type\":\"GlyphRenderer\"},{\"id\":\"24cf27dd-4484-4e96-8ee4-1d89ffda5c6d\",\"type\":\"GlyphRenderer\"},{\"id\":\"123586d3-2e86-4f81-bf82-10de654e9892\",\"type\":\"GlyphRenderer\"},{\"id\":\"6318ee96-623a-44a3-9400-bc132ec47959\",\"type\":\"Legend\"}],\"title\":{\"id\":\"8bea9e25-9d20-4f22-9492-e854169e7070\",\"type\":\"Title\"},\"toolbar\":{\"id\":\"16bbb2a8-31c3-4d31-a06a-7d1fe39f4657\",\"type\":\"Toolbar\"},\"toolbar_location\":null,\"x_range\":{\"id\":\"291d0a60-ba98-404f-8c0a-0daf632818a9\",\"type\":\"Range1d\"},\"x_scale\":{\"id\":\"82f4dd51-8df0-41a3-be5a-17d4e43e95e1\",\"type\":\"LinearScale\"},\"y_range\":{\"id\":\"04d4be59-10a3-40ac-9a95-32232bf565a3\",\"type\":\"Range1d\"},\"y_scale\":{\"id\":\"56edd4b0-aed6-4835-9c98-04912148c1b2\",\"type\":\"LogScale\"}},\"id\":\"a50c5349-9f61-4f82-a964-16a5985ec78c\",\"subtype\":\"Figure\",\"type\":\"Plot\"},{\"attributes\":{\"axis_label\":\"pressure [mb]\",\"formatter\":{\"id\":\"cb012e93-a519-4504-bc40-e765744787cd\",\"type\":\"LogTickFormatter\"},\"plot\":{\"id\":\"a50c5349-9f61-4f82-a964-16a5985ec78c\",\"subtype\":\"Figure\",\"type\":\"Plot\"},\"ticker\":{\"id\":\"a78d3a05-acc2-4ff9-8d6f-ea47e19d2e16\",\"type\":\"LogTicker\"}},\"id\":\"55a1950a-d88b-4e4e-bf08-68f3da7ea5cd\",\"type\":\"LogAxis\"},{\"attributes\":{},\"id\":\"d2c8ef67-c3e6-4011-9c09-9cf89eafcaec\",\"type\":\"UnionRenderers\"},{\"attributes\":{\"callback\":null,\"end\":0.7044647440433812,\"start\":-1.3851777417360536},\"id\":\"291d0a60-ba98-404f-8c0a-0daf632818a9\",\"type\":\"Range1d\"},{\"attributes\":{\"callback\":null,\"data\":{\"x\":{\"__ndarray__\":\"q+2X8uYWRMDNtilY/6ogwL8TnhAIZgLA3cr40AfU/D9NqqqDx2kOQHmavll1zQ5A0Xb8OOgeBEBzqOml3SflP37HaTSNs+m/XFZ+SMbV9b+kpE9WI4jxv9EVB4SjId+/jrL/1EGnsD8LJxfSILbZP0NwX+4SJN8/AvImKdw21D9svNGpC1ahPxVg4QF+tNC/KSlTvhIz4L8Zl36txqLgv2X1hy+37dG/IF+az6PZeL/nQalYc92qv+zpe2WAztO/rkxEkktM17/UoHtBXBSxv6JzReABjtg/sNRYCZpX1z8ofJG/qfG3P5x/xwW6Lpg/6sXQgLTo0D8eCDvc1qHVPx2T+vKlyMM/qv9f6QyNnL+5G+lR2/h0P00awQbepK4/Fmaxr4fkfz9q0usJmsyrv2Yzhll50La/sg8TPPR4ub8LvtFM+dm1v4hKjJqqfrC/9lhFyFsir7/hEJrNphmdv0LpYlOQ5La/4JMZRF+QuL8/cIQuSnqrv2QUrFOB1q6/3N9N8YGts78E3NupkN2yv+6O3Wx9k6u/US05qo2eor9xK9MAhTOYvwLIt0d1t5S/3LyUh3N3lL+B+ryRGSmZv++hRN6BIJu/oEp5+1x+k784vmH5+CZbP742FHFMrKA/gp6nUe6drD+izdvk8SWuP5+u2gfpwaU/taFmMp50lj8AchRqTmFjPzAPYLqVUVg/HDDo9CT/gz96va97P/afP5Gs5uBpl6k/f3OsdkAezT/spGRPgHXNPzbWy5QyZ80/6xErIhE6zT8rjGKt6RfNPwJAZH1Cd8w/\",\"dtype\":\"float64\",\"shape\":[75]},\"y\":{\"__ndarray__\":\"GhExyth1ND/Sv8nbtpRIP2vylNV0PVE/aTum7souWD/At0SJ8fVgPw3Iuahxymc/MSNhhJWvcD/bTfBN02d3P2zb5nxnaoA/CD5h5MAGhz8NmeH1TyaQP+zrCsc9p5Y/LbKd76fGnz/bLW5ISEmmPww9YvTcQq8/JV2OstnstT8Er5Y7M8G+P0c+r3jqkcU/5h99k6ZBzj88bCIzFzjVP4enV8oyxN0//yH99nXg5D8qOpLLf0jtP5kqGJXUifQ/c9cS8kHP/D+/DpwzojQEQIEmwoanVwxA4lgXt9HgE0BSSZ2AJuIbQAMJih9jjiNA5q4l5INuK0AwTKYKRj0zQNv5fmq8/DpAaCJseHrtQkB/+zpwzoxKQM3MzMzMeFJAZmZmZmZqWEAAAAAAAFxeQM3MzMzMJmJAmpmZmZkfZUBmZmZmZhhoQDMzMzMzEWtAAAAAAAAKbkBmZmZmZoFwQM3MzMzM/XFAMzMzMzN6c0CamZmZmfZ0QAAAAAAAc3ZAZmZmZmbvd0DNzMzMzGt5QDMzMzMz6HpAmpmZmZlkfEAAAAAAAOF9QGZmZmZmXX9AZmZmZuZsgECamZmZGSuBQM3MzMxM6YFAAAAAAICngkAzMzMzs2WDQGZmZmbmI4RAmpmZmRnihEDNzMzMTKCFQAAAAACAXoZAMzMzM7Mch0BmZmZm5tqHQJqZmZkZmYhAzczMzExXiUAAAAAAgBWKQDMzMzOz04pAZmZmZuaRi0CamZmZGVCMQM3MzMxMDo1AAAAAAIDMjUAzMzMzs4qOQGZmZmbmSI9A\",\"dtype\":\"float64\",\"shape\":[75]}},\"selected\":{\"id\":\"2bc3c8e1-df71-4ec6-8074-5a0e086dde88\",\"type\":\"Selection\"},\"selection_policy\":{\"id\":\"406d6482-4b1d-4b7d-935f-0ec703221424\",\"type\":\"UnionRenderers\"}},\"id\":\"04ab3f19-51be-4ec6-816f-dba339f13204\",\"type\":\"ColumnDataSource\"},{\"attributes\":{\"plot\":{\"id\":\"a50c5349-9f61-4f82-a964-16a5985ec78c\",\"subtype\":\"Figure\",\"type\":\"Plot\"},\"ticker\":{\"id\":\"31a18571-434c-40b2-8307-615ea671d91e\",\"type\":\"BasicTicker\"}},\"id\":\"6a49b1df-c374-44be-bcb9-7091e7011a2d\",\"type\":\"Grid\"},{\"attributes\":{\"axis_label\":\"cooling rate [K/day]\",\"formatter\":{\"id\":\"4e80800c-8f80-4a3f-96c9-7d1181cd4b09\",\"type\":\"BasicTickFormatter\"},\"plot\":{\"id\":\"ec7ad56e-20b4-46d5-b6c7-1499d2d0cd7e\",\"subtype\":\"Figure\",\"type\":\"Plot\"},\"ticker\":{\"id\":\"907a4948-bf84-4110-a806-cece076dc552\",\"type\":\"BasicTicker\"}},\"id\":\"c31486a0-3a7e-49e0-ae4b-55a2095161eb\",\"type\":\"LinearAxis\"},{\"attributes\":{\"fill_alpha\":{\"value\":0.1},\"fill_color\":{\"value\":\"#1f77b4\"},\"line_alpha\":{\"value\":0.1},\"line_color\":{\"value\":\"#1f77b4\"},\"x\":{\"field\":\"x\"},\"y\":{\"field\":\"y\"}},\"id\":\"d4b14148-77e8-4dcb-8a7a-8c3b78333805\",\"type\":\"Square\"},{\"attributes\":{},\"id\":\"2bc3c8e1-df71-4ec6-8074-5a0e086dde88\",\"type\":\"Selection\"},{\"attributes\":{},\"id\":\"913512a5-dab8-4a75-b54c-905ab03b64a6\",\"type\":\"Selection\"},{\"attributes\":{},\"id\":\"28ca5c3c-ce38-453d-84b3-8dbcdcb98006\",\"type\":\"Selection\"},{\"attributes\":{},\"id\":\"42f9ccc0-f012-401a-81e1-ed97254912f1\",\"type\":\"LinearScale\"},{\"attributes\":{},\"id\":\"ad26fa43-eaf4-40ac-8f90-6252a6ff7024\",\"type\":\"UnionRenderers\"},{\"attributes\":{\"line_alpha\":0.1,\"line_color\":\"#1f77b4\",\"line_dash\":[6],\"line_width\":5,\"x\":{\"field\":\"x\"},\"y\":{\"field\":\"y\"}},\"id\":\"490b9d24-f3ef-4306-92ab-d2a451346390\",\"type\":\"Line\"},{\"attributes\":{},\"id\":\"5eb0475c-2b21-4f2c-b983-1b2a5b240593\",\"type\":\"Selection\"},{\"attributes\":{\"data_source\":{\"id\":\"814d89d5-1f22-4d9c-9ee0-b01cb516a282\",\"type\":\"ColumnDataSource\"},\"glyph\":{\"id\":\"11e46b5a-172d-4e3d-8b85-e1d63e51c63d\",\"type\":\"Line\"},\"hover_glyph\":null,\"muted_glyph\":null,\"nonselection_glyph\":{\"id\":\"07be66a5-39dc-4fc0-bd09-01361d62a30b\",\"type\":\"Line\"},\"selection_glyph\":null,\"view\":{\"id\":\"290e2ccc-89f5-4937-9d38-ead4d59ac78b\",\"type\":\"CDSView\"}},\"id\":\"002d0534-7f25-4639-a0c4-0bde2fd8d5f4\",\"type\":\"GlyphRenderer\"},{\"attributes\":{\"dimension\":1,\"plot\":{\"id\":\"a50c5349-9f61-4f82-a964-16a5985ec78c\",\"subtype\":\"Figure\",\"type\":\"Plot\"},\"ticker\":{\"id\":\"a78d3a05-acc2-4ff9-8d6f-ea47e19d2e16\",\"type\":\"LogTicker\"}},\"id\":\"40a3a7b6-7ba0-4dbd-84b6-d2e18b12fe0d\",\"type\":\"Grid\"},{\"attributes\":{\"line_alpha\":0.6,\"line_color\":\"#377eb8\",\"line_dash\":[6],\"line_width\":5,\"x\":{\"field\":\"x\"},\"y\":{\"field\":\"y\"}},\"id\":\"9163d117-c22d-448a-b384-15866ba01a04\",\"type\":\"Line\"},{\"attributes\":{\"callback\":null,\"data\":{\"x\":{\"__ndarray__\":\"N+1ApqHYRUAPXe4S8RdDQKin3reS40FArsgSags/QEDHg+QHVEA8QJvReqlRPTdA0QHela7pMUAfcGDMzOUpQNjJGlPlGiJAuYcYiF80GkD7LZFu3d0UQDiptMurthFAv5CmRxtNDUAuquoVBZYDQGUN8egX9vU/8inneqWO+j/ga0IOlzIFQINk8XGvDgtAngO+y4DgEECn6kWJXxcWQOcZDp6//R1AExnAvxnVJEDsD1+9TMwqQIu0yDva+ylAwQUlV89OJEAlPmMpvUcgQGozQY5LZBtA+GbW1fQFFkBNa6Xs4ygRQIwPypF24QtASqHKR3EJCECPMqjDj8wCQBPVMTAZB/o/C4hlFjNH8T+kL/Fenn3nP5QX/kyZ7ts/8sh5/TobzT/NEIlbxE7AP25FfG0p4KK/Uns94Ixcyb/sQshTmnqDv1BLVDvLw+c/dXd1cUV/9z/vF52CQBcAQCXGZogWmAFAohB+JBAHAEDV7qjpEET+P305CsyeIv0/rm7FMExr/D/+q9o8bTz8PzZQwv4CWPw/Qh0npPTu+z95SbNI0XP7Py/QFvqDCPs/l4I3YRC++j/IQ+lPPoj6P0flW6VYhvo/m3IK1YKc+z8PvF+nhn38P2Szwqvn//w/+URl5xf//D9sMMaknF/8P+ZAVkHaSPs/Lr/nkcwY+j8TsZGu1QL5P2RQFktEcfg/mwZekKFB+D8TWW7gQz74P1bkCgFWvfc/7TR0TzlL+T//JxXKzwD4Pz4UtGkmAPc/3CeVIlF29j9DIil9M5r2PwnVsicUOf0/\",\"dtype\":\"float64\",\"shape\":[75]},\"y\":{\"__ndarray__\":\"GhExyth1ND/Sv8nbtpRIP2vylNV0PVE/aTum7souWD/At0SJ8fVgPw3Iuahxymc/MSNhhJWvcD/bTfBN02d3P2zb5nxnaoA/CD5h5MAGhz8NmeH1TyaQP+zrCsc9p5Y/LbKd76fGnz/bLW5ISEmmPww9YvTcQq8/JV2OstnstT8Er5Y7M8G+P0c+r3jqkcU/5h99k6ZBzj88bCIzFzjVP4enV8oyxN0//yH99nXg5D8qOpLLf0jtP5kqGJXUifQ/c9cS8kHP/D+/DpwzojQEQIEmwoanVwxA4lgXt9HgE0BSSZ2AJuIbQAMJih9jjiNA5q4l5INuK0AwTKYKRj0zQNv5fmq8/DpAaCJseHrtQkB/+zpwzoxKQM3MzMzMeFJAZmZmZmZqWEAAAAAAAFxeQM3MzMzMJmJAmpmZmZkfZUBmZmZmZhhoQDMzMzMzEWtAAAAAAAAKbkBmZmZmZoFwQM3MzMzM/XFAMzMzMzN6c0CamZmZmfZ0QAAAAAAAc3ZAZmZmZmbvd0DNzMzMzGt5QDMzMzMz6HpAmpmZmZlkfEAAAAAAAOF9QGZmZmZmXX9AZmZmZuZsgECamZmZGSuBQM3MzMxM6YFAAAAAAICngkAzMzMzs2WDQGZmZmbmI4RAmpmZmRnihEDNzMzMTKCFQAAAAACAXoZAMzMzM7Mch0BmZmZm5tqHQJqZmZkZmYhAzczMzExXiUAAAAAAgBWKQDMzMzOz04pAZmZmZuaRi0CamZmZGVCMQM3MzMxMDo1AAAAAAIDMjUAzMzMzs4qOQGZmZmbmSI9A\",\"dtype\":\"float64\",\"shape\":[75]}},\"selected\":{\"id\":\"913512a5-dab8-4a75-b54c-905ab03b64a6\",\"type\":\"Selection\"},\"selection_policy\":{\"id\":\"62c389db-0d8c-4fe6-a3e3-1221360ba3b9\",\"type\":\"UnionRenderers\"}},\"id\":\"122ac072-3413-4786-bbf1-c756154f3efa\",\"type\":\"ColumnDataSource\"},{\"attributes\":{\"callback\":null,\"data\":{\"x\":{\"__ndarray__\":\"zhhdnl3RU0CKgDdE+dxEQP6f5duhdUFAMJBr6ewEQkAADxZQyK45QBmX3ka8EDZAjl8alnlwL0CeYJlYHKIqQJoaoQNWxSJAwL4t7BozIUBMkS56I6AXQBxPe4ld/BRAnMjiKz2HCkCJCgdQ/WcBQKJTvluRvOg/j/JpYJwB9j+fcxKIKREEQOwUvOtLFw1AV0At7oRoEkD5lECKxjYXQAdydNQ0jR1ACbyvRZLfI0CO3MmPRGApQCcUNq4qNylA6VN9h30SJECRnP+HbGofQDQKaukXmhlAteFC/mL9E0CTDffT91MQQEkVAKh1YwtAqFesCIQRBkATatBMXLz/P4fvYPUXo/Y/tDrQnFTK8T/fneFQ7xLnP14aDQuCJtc/5BrOx2LRzT+fE4V0bnvHP3ueIXamhrA/cWaxNtALrr92uqPyMJK3P6q5+U821+g/ckrZjXL49z/TaxRJZAUAQPzVLij27QFAige8XqaCAEAv4Q7keaX+P0VyKG35kv0/XHVqXZRQ/T/+RskYEAv9PwKD1IjB3fw/JBko3yJ2/D//mRCM5iX7P/btQHcr5vo/xTCcdQr9+j+f/V+tjrf6P0Wt2HvLrvo/9IV/x6br+z/bYX40veD8P8+HZwkyUvw/CkxgoI8l/D8QA+bsYB78P2eu9w7DDvw/khNJm3qS+j8vZ0xHVJ75Py0d1shscPk/NKgVKiiK+T/NNtzstIr5P4ps72zyaPc/TlSpuPUj9j9S2qZu6gj1P2XVmdu6VPQ/t/WgjjEZ9D+np734CoH0P1P4Q57qwfo/\",\"dtype\":\"float64\",\"shape\":[75]},\"y\":{\"__ndarray__\":\"hLndy31yND/6fmq8dJNIP8n9DkWBPlE/aDum7souWD/b4a/JGvVgP9f34SAhymc/ZvM4DOavcD+z0M5pFmh3PxuC4zJuaoA/xjcUPlsHhz8uHAjJAiaQP9ieWRKgppY/oI7HDFTGnz+a5h2n6EimPzS6g9iZQq8/IuAQqtTstT9SSZ2AJsK+P4nS3uALk8U/ih9j7lpCzj+ASL99HTjVP4enV8oyxN0/ACL99nXg5D9fmEwVjErtPyUGgZVDi/Q/AiuHFtnO/D9OYhBYOTQEQPHSTWIQWAxA4XoUrkfhE0D8qfHSTeIbQMh2vp8ajyNArkfhehRuK0Bcj8L1KDwzQFyPwvUo/DpAPgrXo3DtQkDNzMzMzIxKQClcj8L1eFJAKVyPwvVoWECamZmZmVleQGZmZmZmJmJAAAAAAAAgZUCamZmZmRloQJqZmZmZEWtAmpmZmZkJbkCamZmZmYFwQGZmZmZm/nFAZmZmZmZ6c0BmZmZmZvZ0QDQzMzMzc3ZAAAAAAADwd0AAAAAAAGx5QAAAAAAA6HpAzMzMzMxkfEDMzMzMzOB9QM3MzMzMXH9AzczMzMxsgEAzMzMzMyuBQDMzMzMz6YFAMzMzMzOngkCamZmZmWWDQAAAAAAAJIRAAAAAAADihEAAAAAAAKCFQGZmZmZmXoZAzczMzMwch0DNzMzMzNqHQM3MzMzMmIhAMzMzMzNXiUCamZmZmRWKQAAAAAAA1IpAAAAAAACSi0AAAAAAAFCMQGZmZmZmDo1AzczMzMzMjUDNzMzMzIqOQM3MzMzMSI9A\",\"dtype\":\"float64\",\"shape\":[75]}},\"selected\":{\"id\":\"642504b8-c271-4897-81e4-37a748fad2ed\",\"type\":\"Selection\"},\"selection_policy\":{\"id\":\"e606381e-023d-48ed-81cd-ef4370d55dae\",\"type\":\"UnionRenderers\"}},\"id\":\"814d89d5-1f22-4d9c-9ee0-b01cb516a282\",\"type\":\"ColumnDataSource\"},{\"attributes\":{\"above\":[{\"id\":\"bc96cdfb-1d81-4a74-9371-f1618d67214c\",\"type\":\"Legend\"}],\"below\":[{\"id\":\"55386b2f-8406-4f97-b3b9-ae67ba637716\",\"type\":\"LinearAxis\"}],\"left\":[{\"id\":\"e670620c-9cff-4a93-a84d-e26542d73b7b\",\"type\":\"LinearAxis\"}],\"plot_width\":300,\"renderers\":[{\"id\":\"55386b2f-8406-4f97-b3b9-ae67ba637716\",\"type\":\"LinearAxis\"},{\"id\":\"363f5786-966b-4362-83a6-2f116df0ccbc\",\"type\":\"Grid\"},{\"id\":\"e670620c-9cff-4a93-a84d-e26542d73b7b\",\"type\":\"LinearAxis\"},{\"id\":\"554e1346-a558-4ba7-9b37-37c6a2f50c25\",\"type\":\"Grid\"},{\"id\":\"90bb3be3-c0bc-470c-bcc7-09e105907df5\",\"type\":\"BoxAnnotation\"},{\"id\":\"a54f34b0-9c1d-4de1-9996-bd9a51c482c4\",\"type\":\"GlyphRenderer\"},{\"id\":\"a67a1f1d-6562-4d29-af82-e8af8912276f\",\"type\":\"GlyphRenderer\"},{\"id\":\"8f5b5f1d-35c2-4a35-962d-207737758f40\",\"type\":\"GlyphRenderer\"},{\"id\":\"1e85bb12-4b45-4ac1-adf7-b7c63d6169bf\",\"type\":\"GlyphRenderer\"},{\"id\":\"002d0534-7f25-4639-a0c4-0bde2fd8d5f4\",\"type\":\"GlyphRenderer\"},{\"id\":\"bc96cdfb-1d81-4a74-9371-f1618d67214c\",\"type\":\"Legend\"}],\"title\":{\"id\":\"3d72c1b8-617a-4099-b9e7-d4130ee99a36\",\"type\":\"Title\"},\"toolbar\":{\"id\":\"a7fbcb11-aafb-4a54-ac0f-9324e93020b7\",\"type\":\"Toolbar\"},\"toolbar_location\":null,\"x_range\":{\"id\":\"93524b48-b84e-4520-9019-65f2303c3d43\",\"type\":\"Range1d\"},\"x_scale\":{\"id\":\"f0be1598-4988-418d-ac81-9db5d0315675\",\"type\":\"LinearScale\"},\"y_range\":{\"id\":\"6ea05073-bc7e-489b-b235-2a7645a8d25b\",\"type\":\"Range1d\"},\"y_scale\":{\"id\":\"567577a7-8b90-4708-b7e7-484cfe742066\",\"type\":\"LinearScale\"}},\"id\":\"12aa30bd-a8ef-4440-958b-f9ccbb0307a6\",\"subtype\":\"Figure\",\"type\":\"Plot\"},{\"attributes\":{\"axis_label\":\"cooling rate [K/day]\",\"formatter\":{\"id\":\"d452b6c4-da56-4022-aeb2-868cac93ab63\",\"type\":\"BasicTickFormatter\"},\"plot\":{\"id\":\"a50c5349-9f61-4f82-a964-16a5985ec78c\",\"subtype\":\"Figure\",\"type\":\"Plot\"},\"ticker\":{\"id\":\"31a18571-434c-40b2-8307-615ea671d91e\",\"type\":\"BasicTicker\"}},\"id\":\"2d5dbe20-5744-4829-a784-c0278b27f219\",\"type\":\"LinearAxis\"},{\"attributes\":{\"dimension\":1,\"plot\":{\"id\":\"12aa30bd-a8ef-4440-958b-f9ccbb0307a6\",\"subtype\":\"Figure\",\"type\":\"Plot\"},\"ticker\":{\"id\":\"681cdb8b-7ba0-4174-89f9-c37ab509c7cb\",\"type\":\"BasicTicker\"}},\"id\":\"554e1346-a558-4ba7-9b37-37c6a2f50c25\",\"type\":\"Grid\"},{\"attributes\":{},\"id\":\"dcc2423e-c749-44f6-ade2-d401e07d746a\",\"type\":\"LogScale\"},{\"attributes\":{},\"id\":\"31a18571-434c-40b2-8307-615ea671d91e\",\"type\":\"BasicTicker\"},{\"attributes\":{\"bottom_units\":\"screen\",\"fill_alpha\":{\"value\":0.5},\"fill_color\":{\"value\":\"lightgrey\"},\"left_units\":\"screen\",\"level\":\"overlay\",\"line_alpha\":{\"value\":1.0},\"line_color\":{\"value\":\"black\"},\"line_dash\":[4,4],\"line_width\":{\"value\":2},\"plot\":null,\"render_mode\":\"css\",\"right_units\":\"screen\",\"top_units\":\"screen\"},\"id\":\"8dfdb60a-1069-4b77-b74d-8851d409a8b6\",\"type\":\"BoxAnnotation\"},{\"attributes\":{},\"id\":\"8866222e-2748-4a90-8d2f-aeefaaf615f9\",\"type\":\"UnionRenderers\"},{\"attributes\":{},\"id\":\"4e80800c-8f80-4a3f-96c9-7d1181cd4b09\",\"type\":\"BasicTickFormatter\"},{\"attributes\":{},\"id\":\"dd186cdc-3d26-417b-ae88-35288df24b5d\",\"type\":\"Selection\"},{\"attributes\":{},\"id\":\"681cdb8b-7ba0-4174-89f9-c37ab509c7cb\",\"type\":\"BasicTicker\"},{\"attributes\":{\"axis_label\":\"pressure [mb]\",\"formatter\":{\"id\":\"70226728-f74d-436c-b7e9-425d905a71c3\",\"type\":\"LogTickFormatter\"},\"plot\":{\"id\":\"ec7ad56e-20b4-46d5-b6c7-1499d2d0cd7e\",\"subtype\":\"Figure\",\"type\":\"Plot\"},\"ticker\":{\"id\":\"2f347f9c-9fd9-4a2c-b2c5-2b5583ad7fb0\",\"type\":\"LogTicker\"}},\"id\":\"6847557c-aada-4ad0-9444-fceb39788236\",\"type\":\"LogAxis\"},{\"attributes\":{\"num_minor_ticks\":10},\"id\":\"2f347f9c-9fd9-4a2c-b2c5-2b5583ad7fb0\",\"type\":\"LogTicker\"},{\"attributes\":{\"line_alpha\":0.1,\"line_color\":\"#1f77b4\",\"line_width\":1.5,\"x\":{\"field\":\"x\"},\"y\":{\"field\":\"y\"}},\"id\":\"07be66a5-39dc-4fc0-bd09-01361d62a30b\",\"type\":\"Line\"},{\"attributes\":{\"num_minor_ticks\":10},\"id\":\"a78d3a05-acc2-4ff9-8d6f-ea47e19d2e16\",\"type\":\"LogTicker\"},{\"attributes\":{\"plot\":{\"id\":\"ec7ad56e-20b4-46d5-b6c7-1499d2d0cd7e\",\"subtype\":\"Figure\",\"type\":\"Plot\"},\"ticker\":{\"id\":\"907a4948-bf84-4110-a806-cece076dc552\",\"type\":\"BasicTicker\"}},\"id\":\"a8b4ef31-ba2c-42c8-82d5-9eed87cedbb2\",\"type\":\"Grid\"},{\"attributes\":{\"dimension\":1,\"plot\":{\"id\":\"ec7ad56e-20b4-46d5-b6c7-1499d2d0cd7e\",\"subtype\":\"Figure\",\"type\":\"Plot\"},\"ticker\":{\"id\":\"2f347f9c-9fd9-4a2c-b2c5-2b5583ad7fb0\",\"type\":\"LogTicker\"}},\"id\":\"42f0e8b9-e02a-416e-9fb4-a1ed3be7aa7e\",\"type\":\"Grid\"},{\"attributes\":{\"data_source\":{\"id\":\"3ee3c63f-c96d-4414-9ece-f371fda83cc2\",\"type\":\"ColumnDataSource\"},\"glyph\":{\"id\":\"0ca49764-83df-496b-ba9c-7428bb5baf8b\",\"type\":\"Square\"},\"hover_glyph\":null,\"muted_glyph\":null,\"nonselection_glyph\":{\"id\":\"d4b14148-77e8-4dcb-8a7a-8c3b78333805\",\"type\":\"Square\"},\"selection_glyph\":null,\"view\":{\"id\":\"9f22bbb5-716d-46ca-949e-17b8c98474c2\",\"type\":\"CDSView\"}},\"id\":\"1e85bb12-4b45-4ac1-adf7-b7c63d6169bf\",\"type\":\"GlyphRenderer\"},{\"attributes\":{},\"id\":\"12cf5c19-ed42-4dce-ad87-869a38f22b9a\",\"type\":\"Selection\"},{\"attributes\":{\"fill_alpha\":{\"value\":0.7},\"fill_color\":{\"value\":\"#984ea3\"},\"line_alpha\":{\"value\":0.7},\"line_color\":{\"value\":\"#984ea3\"},\"x\":{\"field\":\"x\"},\"y\":{\"field\":\"y\"}},\"id\":\"0ca49764-83df-496b-ba9c-7428bb5baf8b\",\"type\":\"Square\"},{\"attributes\":{\"ticker\":null},\"id\":\"70226728-f74d-436c-b7e9-425d905a71c3\",\"type\":\"LogTickFormatter\"},{\"attributes\":{\"line_alpha\":0.1,\"line_color\":\"#1f77b4\",\"line_dash\":[6],\"line_width\":5,\"x\":{\"field\":\"x\"},\"y\":{\"field\":\"y\"}},\"id\":\"9a5fb6e8-efcc-405e-b0a5-9dd15ba2bccb\",\"type\":\"Line\"},{\"attributes\":{},\"id\":\"62c389db-0d8c-4fe6-a3e3-1221360ba3b9\",\"type\":\"UnionRenderers\"},{\"attributes\":{\"source\":{\"id\":\"814d89d5-1f22-4d9c-9ee0-b01cb516a282\",\"type\":\"ColumnDataSource\"}},\"id\":\"290e2ccc-89f5-4937-9d38-ead4d59ac78b\",\"type\":\"CDSView\"},{\"attributes\":{\"axis_label\":\"pressure [mb]\",\"formatter\":{\"id\":\"0b0357c1-4ee8-4033-b4c8-85630c131bc1\",\"type\":\"BasicTickFormatter\"},\"plot\":{\"id\":\"12aa30bd-a8ef-4440-958b-f9ccbb0307a6\",\"subtype\":\"Figure\",\"type\":\"Plot\"},\"ticker\":{\"id\":\"681cdb8b-7ba0-4174-89f9-c37ab509c7cb\",\"type\":\"BasicTicker\"}},\"id\":\"e670620c-9cff-4a93-a84d-e26542d73b7b\",\"type\":\"LinearAxis\"}],\"root_ids\":[\"7a8e7997-29c5-4899-8325-141dd3de23bb\"]},\"title\":\"Bokeh Application\",\"version\":\"0.12.16\"}};\n",
       "  var render_items = [{\"docid\":\"bf830ae5-12ed-4923-b588-ea99671ebc0f\",\"elementid\":\"c8a06136-cfce-40fd-84e6-ebeccd0cf51a\",\"modelid\":\"7a8e7997-29c5-4899-8325-141dd3de23bb\"}];\n",
       "  root.Bokeh.embed.embed_items_notebook(docs_json, render_items);\n",
       "\n",
       "  }\n",
       "  if (root.Bokeh !== undefined) {\n",
       "    embed_document(root);\n",
       "  } else {\n",
       "    var attempts = 0;\n",
       "    var timer = setInterval(function(root) {\n",
       "      if (root.Bokeh !== undefined) {\n",
       "        embed_document(root);\n",
       "        clearInterval(timer);\n",
       "      }\n",
       "      attempts++;\n",
       "      if (attempts > 100) {\n",
       "        console.log(\"Bokeh: ERROR: Unable to run BokehJS code because BokehJS library is missing\")\n",
       "        clearInterval(timer);\n",
       "      }\n",
       "    }, 10, root)\n",
       "  }\n",
       "})(window);"
      ],
      "application/vnd.bokehjs_exec.v0+json": ""
     },
     "metadata": {
      "application/vnd.bokehjs_exec.v0+json": {
       "id": "7a8e7997-29c5-4899-8325-141dd3de23bb"
      }
     },
     "output_type": "display_data"
    },
    {
     "data": {
      "text/markdown": [
       "*FIGURE.* Cooling rates & difference."
      ],
      "text/plain": [
       "<IPython.core.display.Markdown object>"
      ]
     },
     "metadata": {},
     "output_type": "display_data"
    },
    {
     "data": {
      "text/html": [
       "<a id=\"Fluxes._mls.\"></a>"
      ],
      "text/plain": [
       "<IPython.core.display.HTML object>"
      ]
     },
     "metadata": {},
     "output_type": "display_data"
    },
    {
     "data": {
      "text/markdown": [
       "# Fluxes. mls."
      ],
      "text/plain": [
       "<IPython.core.display.Markdown object>"
      ]
     },
     "metadata": {},
     "output_type": "display_data"
    },
    {
     "data": {
      "text/html": [
       "\n",
       "<div class=\"bk-root\">\n",
       "    <div class=\"bk-plotdiv\" id=\"df7407f5-4266-4fd4-90d8-a7b839dc6b28\"></div>\n",
       "</div>"
      ]
     },
     "metadata": {},
     "output_type": "display_data"
    },
    {
     "data": {
      "application/javascript": [
       "(function(root) {\n",
       "  function embed_document(root) {\n",
       "    \n",
       "  var docs_json = {\"4e478418-1cfa-4067-8ba7-adfa6953d20c\":{\"roots\":{\"references\":[{\"attributes\":{\"callback\":null},\"id\":\"14a46518-3077-48fb-80f0-fb34121fe206\",\"type\":\"DataRange1d\"},{\"attributes\":{},\"id\":\"5ec9ead1-0f2a-4dd6-9f3b-47ac00a8e17b\",\"type\":\"BasicTicker\"},{\"attributes\":{\"callback\":null,\"factors\":[\"1\",\"2\",\"3\",\"4\",\"5\",\"6\",\"7\",\"8\",\"9\",\"10\",\"11\"]},\"id\":\"d27fdcc6-1670-45e5-a71a-b3f5bd0f935b\",\"type\":\"FactorRange\"},{\"attributes\":{\"dimension\":1,\"plot\":{\"id\":\"b55d4e3e-aca6-4e9b-9cc3-5e55f87ccd73\",\"subtype\":\"Figure\",\"type\":\"Plot\"},\"ticker\":{\"id\":\"c3367c56-aaf5-4c41-9b80-a3e237b0001d\",\"type\":\"BasicTicker\"}},\"id\":\"6d3802e3-40fa-415b-8e3f-5829988f9d9d\",\"type\":\"Grid\"},{\"attributes\":{\"data_source\":{\"id\":\"24030444-5d7d-4ac5-92a7-411c4647980b\",\"type\":\"ColumnDataSource\"},\"glyph\":{\"id\":\"51d3aa3c-9e27-49e7-944c-1707bcbea346\",\"type\":\"VBar\"},\"hover_glyph\":null,\"muted_glyph\":null,\"nonselection_glyph\":{\"id\":\"2770ebda-dcc1-490d-9bf4-e90877fe2127\",\"type\":\"VBar\"},\"selection_glyph\":null,\"view\":{\"id\":\"1346b979-b3df-4260-a732-4ac9cfc68e44\",\"type\":\"CDSView\"}},\"id\":\"9ccfbc27-8cb0-4ffd-9cc6-012a7ec36e3c\",\"type\":\"GlyphRenderer\"},{\"attributes\":{},\"id\":\"76c95f42-334c-4eee-9cfd-fb3bc7d09fb1\",\"type\":\"CategoricalTicker\"},{\"attributes\":{\"tools\":[{\"id\":\"d0fdf9de-2542-42f4-a0a8-ea5d4cf9fa8e\",\"type\":\"PanTool\"},{\"id\":\"2158a7d1-95b8-4959-91d9-692c2568f615\",\"type\":\"WheelZoomTool\"},{\"id\":\"e8e73d2c-b8ca-42fe-b297-9c5b47556cab\",\"type\":\"BoxZoomTool\"},{\"id\":\"f8131f4e-4e98-4e59-8f60-87e89cb8893f\",\"type\":\"SaveTool\"},{\"id\":\"ca4dbf5a-7e9d-4a5f-be75-75f3ecd2d513\",\"type\":\"ResetTool\"},{\"id\":\"71d65668-3944-47e8-94f4-8d206295a6bd\",\"type\":\"HelpTool\"},{\"id\":\"4af2215d-4289-4a35-bd8e-8d3f7611505c\",\"type\":\"PanTool\"},{\"id\":\"2457e766-aa6d-42e7-b956-72a4a9c49447\",\"type\":\"WheelZoomTool\"},{\"id\":\"acafc66b-93c1-46f0-b5db-a8d7e7b2fe3f\",\"type\":\"BoxZoomTool\"},{\"id\":\"8ad89870-7020-4c69-b3fa-9ca02ed7ec26\",\"type\":\"SaveTool\"},{\"id\":\"40a5ce16-2283-4b51-9293-ee254c5d775e\",\"type\":\"ResetTool\"},{\"id\":\"4e042b98-e10a-448b-961f-96a69677bf21\",\"type\":\"HelpTool\"},{\"id\":\"5b23049e-d8d9-4bcb-91f2-a8e2501ad543\",\"type\":\"PanTool\"},{\"id\":\"b9ed0a81-3fce-410b-95ec-0e556e13db6b\",\"type\":\"WheelZoomTool\"},{\"id\":\"c53cce32-9444-4fee-96ba-60706d72979e\",\"type\":\"BoxZoomTool\"},{\"id\":\"bd4fd772-aeed-4191-86b4-7359fadc82ce\",\"type\":\"SaveTool\"},{\"id\":\"11f4ac1a-615c-4901-b2b3-3dbed193668f\",\"type\":\"ResetTool\"},{\"id\":\"9acc9eaf-553b-4b8d-a05c-de53db10bced\",\"type\":\"HelpTool\"}]},\"id\":\"f3298ac4-22e4-4f32-afda-581c3dc0eca8\",\"type\":\"ProxyToolbar\"},{\"attributes\":{},\"id\":\"bc2faf6e-4361-490e-ae3b-79c8b01934b4\",\"type\":\"CategoricalScale\"},{\"attributes\":{},\"id\":\"b85c745b-d972-40b0-aab5-804a59f2cb30\",\"type\":\"BasicTickFormatter\"},{\"attributes\":{},\"id\":\"1f70f805-c127-4f4a-8da0-a8cbc889af3b\",\"type\":\"CategoricalTickFormatter\"},{\"attributes\":{},\"id\":\"2457e766-aa6d-42e7-b956-72a4a9c49447\",\"type\":\"WheelZoomTool\"},{\"attributes\":{\"axis_label\":\"spectral band\",\"formatter\":{\"id\":\"f2de29c8-0953-4426-9300-fbdd64c6aca4\",\"type\":\"CategoricalTickFormatter\"},\"plot\":{\"id\":\"8adb8fa3-7fad-453e-ab96-c73c43b3f68c\",\"subtype\":\"Figure\",\"type\":\"Plot\"},\"ticker\":{\"id\":\"76c95f42-334c-4eee-9cfd-fb3bc7d09fb1\",\"type\":\"CategoricalTicker\"}},\"id\":\"797e9e88-016d-404d-b468-389d42d564be\",\"type\":\"CategoricalAxis\"},{\"attributes\":{\"plot\":{\"id\":\"8adb8fa3-7fad-453e-ab96-c73c43b3f68c\",\"subtype\":\"Figure\",\"type\":\"Plot\"},\"ticker\":{\"id\":\"76c95f42-334c-4eee-9cfd-fb3bc7d09fb1\",\"type\":\"CategoricalTicker\"}},\"id\":\"8eef8093-aa7c-47b0-85dd-07ee44882980\",\"type\":\"Grid\"},{\"attributes\":{},\"id\":\"5b23049e-d8d9-4bcb-91f2-a8e2501ad543\",\"type\":\"PanTool\"},{\"attributes\":{\"bottom_units\":\"screen\",\"fill_alpha\":{\"value\":0.5},\"fill_color\":{\"value\":\"lightgrey\"},\"left_units\":\"screen\",\"level\":\"overlay\",\"line_alpha\":{\"value\":1.0},\"line_color\":{\"value\":\"black\"},\"line_dash\":[4,4],\"line_width\":{\"value\":2},\"plot\":null,\"render_mode\":\"css\",\"right_units\":\"screen\",\"top_units\":\"screen\"},\"id\":\"30590adf-9d8f-4e3c-8875-fe24ec120aef\",\"type\":\"BoxAnnotation\"},{\"attributes\":{\"data_source\":{\"id\":\"d598eb88-ff85-40f8-86f0-44128411c9ac\",\"type\":\"ColumnDataSource\"},\"glyph\":{\"id\":\"e18bf03d-e3d4-482c-bc63-dc640d7417f0\",\"type\":\"VBar\"},\"hover_glyph\":null,\"muted_glyph\":null,\"nonselection_glyph\":{\"id\":\"93d1f123-b49a-41c4-a314-5cd12236c20b\",\"type\":\"VBar\"},\"selection_glyph\":null,\"view\":{\"id\":\"8aba6657-d778-4b03-9ea6-279529a2c93e\",\"type\":\"CDSView\"}},\"id\":\"79c44a82-3676-4178-9a7c-fdbdf6276b8f\",\"type\":\"GlyphRenderer\"},{\"attributes\":{},\"id\":\"2db36f81-1191-4abf-8cbd-102209bbb812\",\"type\":\"UnionRenderers\"},{\"attributes\":{},\"id\":\"74fc25c3-679f-4dec-b4ac-f5681dd38ba8\",\"type\":\"UnionRenderers\"},{\"attributes\":{\"children\":[{\"id\":\"b47ec7a7-677b-4c5b-92f6-acf0025082ed\",\"subtype\":\"Figure\",\"type\":\"Plot\"},{\"id\":\"b55d4e3e-aca6-4e9b-9cc3-5e55f87ccd73\",\"subtype\":\"Figure\",\"type\":\"Plot\"},{\"id\":\"8adb8fa3-7fad-453e-ab96-c73c43b3f68c\",\"subtype\":\"Figure\",\"type\":\"Plot\"}]},\"id\":\"407d7748-44d3-4abb-a041-1744fbf90723\",\"type\":\"Row\"},{\"attributes\":{},\"id\":\"4e042b98-e10a-448b-961f-96a69677bf21\",\"type\":\"HelpTool\"},{\"attributes\":{},\"id\":\"40a5ce16-2283-4b51-9293-ee254c5d775e\",\"type\":\"ResetTool\"},{\"attributes\":{\"callback\":null,\"data\":{\"band\":[\"1\",\"2\",\"3\",\"4\",\"5\",\"6\",\"7\",\"8\",\"9\",\"10\",\"11\"],\"flux\":{\"__ndarray__\":\"AEILCRhdyD+Ae7q6Y7HSPwA2donqrdO/gGStodRe0z/AIAa69gXRPwDwR1Fn7pG/QGB0eXO42T8AE587wf6zvwBQMGMK1oi/4P24/fLJwD8AGmzqPCqyPw==\",\"dtype\":\"float64\",\"shape\":[11]}},\"selected\":{\"id\":\"0a05c450-258d-4a0b-9d2b-eaa389ded8ef\",\"type\":\"Selection\"},\"selection_policy\":{\"id\":\"2db36f81-1191-4abf-8cbd-102209bbb812\",\"type\":\"UnionRenderers\"}},\"id\":\"9f03afeb-d6dc-4fac-89a2-b02f95041125\",\"type\":\"ColumnDataSource\"},{\"attributes\":{\"fill_alpha\":{\"value\":0.1},\"fill_color\":{\"value\":\"#1f77b4\"},\"line_alpha\":{\"value\":0.1},\"line_color\":{\"value\":\"#1f77b4\"},\"top\":{\"field\":\"flux\"},\"width\":{\"value\":0.9},\"x\":{\"field\":\"band\"}},\"id\":\"93d1f123-b49a-41c4-a314-5cd12236c20b\",\"type\":\"VBar\"},{\"attributes\":{\"toolbar\":{\"id\":\"f3298ac4-22e4-4f32-afda-581c3dc0eca8\",\"type\":\"ProxyToolbar\"},\"toolbar_location\":\"above\"},\"id\":\"aa4dc372-bad5-49ef-aabe-a6538a470034\",\"type\":\"ToolbarBox\"},{\"attributes\":{},\"id\":\"9acc9eaf-553b-4b8d-a05c-de53db10bced\",\"type\":\"HelpTool\"},{\"attributes\":{\"source\":{\"id\":\"24030444-5d7d-4ac5-92a7-411c4647980b\",\"type\":\"ColumnDataSource\"}},\"id\":\"1346b979-b3df-4260-a732-4ac9cfc68e44\",\"type\":\"CDSView\"},{\"attributes\":{},\"id\":\"781f5385-99a5-4b52-b05f-038f1879ee29\",\"type\":\"Selection\"},{\"attributes\":{},\"id\":\"4af2215d-4289-4a35-bd8e-8d3f7611505c\",\"type\":\"PanTool\"},{\"attributes\":{\"fill_alpha\":{\"value\":0.1},\"fill_color\":{\"value\":\"#1f77b4\"},\"line_alpha\":{\"value\":0.1},\"line_color\":{\"value\":\"#1f77b4\"},\"top\":{\"field\":\"flux\"},\"width\":{\"value\":0.9},\"x\":{\"field\":\"band\"}},\"id\":\"2770ebda-dcc1-490d-9bf4-e90877fe2127\",\"type\":\"VBar\"},{\"attributes\":{},\"id\":\"79f2248c-fcf3-4f32-b476-4ef2aa56c281\",\"type\":\"LinearScale\"},{\"attributes\":{},\"id\":\"9d21cfc6-bf85-4891-b0ef-a0c5823fa49a\",\"type\":\"CategoricalTickFormatter\"},{\"attributes\":{},\"id\":\"0a05c450-258d-4a0b-9d2b-eaa389ded8ef\",\"type\":\"Selection\"},{\"attributes\":{},\"id\":\"3ce3ddc0-3992-4803-941f-afe6dcfa8f44\",\"type\":\"UnionRenderers\"},{\"attributes\":{\"overlay\":{\"id\":\"8a4ad298-74f9-4572-b19c-46bff7aac8a8\",\"type\":\"BoxAnnotation\"}},\"id\":\"acafc66b-93c1-46f0-b5db-a8d7e7b2fe3f\",\"type\":\"BoxZoomTool\"},{\"attributes\":{\"callback\":null,\"data\":{\"band\":[\"1\",\"2\",\"3\",\"4\",\"5\",\"6\",\"7\",\"8\",\"9\",\"10\",\"11\"],\"flux\":{\"__ndarray__\":\"AAAAAyUF9r4ASSno9pLYP4AfYoOFk9C/AAYU6ukjsD+g3H2Oj5boP0D9sVqq/PU/6Ny/aEVK4z+wbIvXYXHRP4AvZ7Yr9M8/ACj1LAjljT9A9Df8yXOwPw==\",\"dtype\":\"float64\",\"shape\":[11]}},\"selected\":{\"id\":\"781f5385-99a5-4b52-b05f-038f1879ee29\",\"type\":\"Selection\"},\"selection_policy\":{\"id\":\"3ce3ddc0-3992-4803-941f-afe6dcfa8f44\",\"type\":\"UnionRenderers\"}},\"id\":\"d598eb88-ff85-40f8-86f0-44128411c9ac\",\"type\":\"ColumnDataSource\"},{\"attributes\":{},\"id\":\"bd4fd772-aeed-4191-86b4-7359fadc82ce\",\"type\":\"SaveTool\"},{\"attributes\":{},\"id\":\"d5f7c7b3-e7ee-4806-9f13-4802092e5ef6\",\"type\":\"Selection\"},{\"attributes\":{\"source\":{\"id\":\"d598eb88-ff85-40f8-86f0-44128411c9ac\",\"type\":\"ColumnDataSource\"}},\"id\":\"8aba6657-d778-4b03-9ea6-279529a2c93e\",\"type\":\"CDSView\"},{\"attributes\":{\"overlay\":{\"id\":\"30590adf-9d8f-4e3c-8875-fe24ec120aef\",\"type\":\"BoxAnnotation\"}},\"id\":\"c53cce32-9444-4fee-96ba-60706d72979e\",\"type\":\"BoxZoomTool\"},{\"attributes\":{\"axis_label\":\"flux (W m-2)\",\"formatter\":{\"id\":\"33afb7ba-faf9-4dee-a118-909f90e86eea\",\"type\":\"BasicTickFormatter\"},\"plot\":{\"id\":\"8adb8fa3-7fad-453e-ab96-c73c43b3f68c\",\"subtype\":\"Figure\",\"type\":\"Plot\"},\"ticker\":{\"id\":\"5ec9ead1-0f2a-4dd6-9f3b-47ac00a8e17b\",\"type\":\"BasicTicker\"}},\"id\":\"a3ed4f6e-458f-4cfe-8e3a-d3fb9c1a07c2\",\"type\":\"LinearAxis\"},{\"attributes\":{},\"id\":\"33afb7ba-faf9-4dee-a118-909f90e86eea\",\"type\":\"BasicTickFormatter\"},{\"attributes\":{},\"id\":\"b9ed0a81-3fce-410b-95ec-0e556e13db6b\",\"type\":\"WheelZoomTool\"},{\"attributes\":{\"fill_color\":{\"value\":\"#1f77b4\"},\"line_color\":{\"value\":\"#1f77b4\"},\"top\":{\"field\":\"flux\"},\"width\":{\"value\":0.9},\"x\":{\"field\":\"band\"}},\"id\":\"51d3aa3c-9e27-49e7-944c-1707bcbea346\",\"type\":\"VBar\"},{\"attributes\":{},\"id\":\"11f4ac1a-615c-4901-b2b3-3dbed193668f\",\"type\":\"ResetTool\"},{\"attributes\":{\"dimension\":1,\"plot\":{\"id\":\"8adb8fa3-7fad-453e-ab96-c73c43b3f68c\",\"subtype\":\"Figure\",\"type\":\"Plot\"},\"ticker\":{\"id\":\"5ec9ead1-0f2a-4dd6-9f3b-47ac00a8e17b\",\"type\":\"BasicTicker\"}},\"id\":\"15012b24-f3fb-46c8-8f03-d1cd750afeba\",\"type\":\"Grid\"},{\"attributes\":{\"active_drag\":\"auto\",\"active_inspect\":\"auto\",\"active_scroll\":\"auto\",\"active_tap\":\"auto\",\"tools\":[{\"id\":\"5b23049e-d8d9-4bcb-91f2-a8e2501ad543\",\"type\":\"PanTool\"},{\"id\":\"b9ed0a81-3fce-410b-95ec-0e556e13db6b\",\"type\":\"WheelZoomTool\"},{\"id\":\"c53cce32-9444-4fee-96ba-60706d72979e\",\"type\":\"BoxZoomTool\"},{\"id\":\"bd4fd772-aeed-4191-86b4-7359fadc82ce\",\"type\":\"SaveTool\"},{\"id\":\"11f4ac1a-615c-4901-b2b3-3dbed193668f\",\"type\":\"ResetTool\"},{\"id\":\"9acc9eaf-553b-4b8d-a05c-de53db10bced\",\"type\":\"HelpTool\"}]},\"id\":\"07f35b3d-c61f-44b8-a70a-114d4f555d44\",\"type\":\"Toolbar\"},{\"attributes\":{},\"id\":\"8ad89870-7020-4c69-b3fa-9ca02ed7ec26\",\"type\":\"SaveTool\"},{\"attributes\":{\"children\":[{\"id\":\"aa4dc372-bad5-49ef-aabe-a6538a470034\",\"type\":\"ToolbarBox\"},{\"id\":\"13905fcf-15d9-4276-aa2d-2ba4f98decfa\",\"type\":\"Column\"}]},\"id\":\"f39cd933-85f5-4709-b533-3eccc8638d96\",\"type\":\"Column\"},{\"attributes\":{},\"id\":\"a04a71e6-b014-4d38-b957-440ead0a16cc\",\"type\":\"BasicTickFormatter\"},{\"attributes\":{\"children\":[{\"id\":\"407d7748-44d3-4abb-a041-1744fbf90723\",\"type\":\"Row\"}]},\"id\":\"13905fcf-15d9-4276-aa2d-2ba4f98decfa\",\"type\":\"Column\"},{\"attributes\":{},\"id\":\"3024458e-b548-44f5-b601-1fbef0c1eab6\",\"type\":\"LinearScale\"},{\"attributes\":{\"below\":[{\"id\":\"797e9e88-016d-404d-b468-389d42d564be\",\"type\":\"CategoricalAxis\"}],\"left\":[{\"id\":\"a3ed4f6e-458f-4cfe-8e3a-d3fb9c1a07c2\",\"type\":\"LinearAxis\"}],\"plot_height\":300,\"plot_width\":300,\"renderers\":[{\"id\":\"797e9e88-016d-404d-b468-389d42d564be\",\"type\":\"CategoricalAxis\"},{\"id\":\"8eef8093-aa7c-47b0-85dd-07ee44882980\",\"type\":\"Grid\"},{\"id\":\"a3ed4f6e-458f-4cfe-8e3a-d3fb9c1a07c2\",\"type\":\"LinearAxis\"},{\"id\":\"15012b24-f3fb-46c8-8f03-d1cd750afeba\",\"type\":\"Grid\"},{\"id\":\"30590adf-9d8f-4e3c-8875-fe24ec120aef\",\"type\":\"BoxAnnotation\"},{\"id\":\"9ccfbc27-8cb0-4ffd-9cc6-012a7ec36e3c\",\"type\":\"GlyphRenderer\"}],\"title\":{\"id\":\"8ac7dbb9-6328-47c4-96d8-134787a04e79\",\"type\":\"Title\"},\"toolbar\":{\"id\":\"07f35b3d-c61f-44b8-a70a-114d4f555d44\",\"type\":\"Toolbar\"},\"toolbar_location\":null,\"x_range\":{\"id\":\"d27fdcc6-1670-45e5-a71a-b3f5bd0f935b\",\"type\":\"FactorRange\"},\"x_scale\":{\"id\":\"bc2faf6e-4361-490e-ae3b-79c8b01934b4\",\"type\":\"CategoricalScale\"},\"y_range\":{\"id\":\"14a46518-3077-48fb-80f0-fb34121fe206\",\"type\":\"DataRange1d\"},\"y_scale\":{\"id\":\"79f2248c-fcf3-4f32-b476-4ef2aa56c281\",\"type\":\"LinearScale\"}},\"id\":\"8adb8fa3-7fad-453e-ab96-c73c43b3f68c\",\"subtype\":\"Figure\",\"type\":\"Plot\"},{\"attributes\":{},\"id\":\"2158a7d1-95b8-4959-91d9-692c2568f615\",\"type\":\"WheelZoomTool\"},{\"attributes\":{\"callback\":null,\"factors\":[\"1\",\"2\",\"3\",\"4\",\"5\",\"6\",\"7\",\"8\",\"9\",\"10\",\"11\"]},\"id\":\"8f98a72e-8670-477d-b91a-f462bee908b6\",\"type\":\"FactorRange\"},{\"attributes\":{\"callback\":null,\"factors\":[\"1\",\"2\",\"3\",\"4\",\"5\",\"6\",\"7\",\"8\",\"9\",\"10\",\"11\"]},\"id\":\"9e7b43fd-85ed-4ef6-adf0-782b4b8e4a52\",\"type\":\"FactorRange\"},{\"attributes\":{\"plot\":null,\"text\":\"Atmosphere heating. CLIRAD (single-run) - CRD.\"},\"id\":\"8ac7dbb9-6328-47c4-96d8-134787a04e79\",\"type\":\"Title\"},{\"attributes\":{},\"id\":\"d0fdf9de-2542-42f4-a0a8-ea5d4cf9fa8e\",\"type\":\"PanTool\"},{\"attributes\":{\"axis_label\":\"spectral band\",\"formatter\":{\"id\":\"1f70f805-c127-4f4a-8da0-a8cbc889af3b\",\"type\":\"CategoricalTickFormatter\"},\"plot\":{\"id\":\"b47ec7a7-677b-4c5b-92f6-acf0025082ed\",\"subtype\":\"Figure\",\"type\":\"Plot\"},\"ticker\":{\"id\":\"dfd9d438-012c-400e-a689-cb433253d1c2\",\"type\":\"CategoricalTicker\"}},\"id\":\"e298c883-4728-4790-a2eb-6609affc8ef7\",\"type\":\"CategoricalAxis\"},{\"attributes\":{\"callback\":null},\"id\":\"d1276161-8731-4bed-a629-2e57da1c7621\",\"type\":\"DataRange1d\"},{\"attributes\":{\"source\":{\"id\":\"9f03afeb-d6dc-4fac-89a2-b02f95041125\",\"type\":\"ColumnDataSource\"}},\"id\":\"74a48284-f7f3-428a-b96a-6dad477af7b4\",\"type\":\"CDSView\"},{\"attributes\":{\"fill_color\":{\"value\":\"#1f77b4\"},\"line_color\":{\"value\":\"#1f77b4\"},\"top\":{\"field\":\"flux\"},\"width\":{\"value\":0.9},\"x\":{\"field\":\"band\"}},\"id\":\"e18bf03d-e3d4-482c-bc63-dc640d7417f0\",\"type\":\"VBar\"},{\"attributes\":{},\"id\":\"f2de29c8-0953-4426-9300-fbdd64c6aca4\",\"type\":\"CategoricalTickFormatter\"},{\"attributes\":{\"below\":[{\"id\":\"b728aea4-9e30-4879-9a46-7396f973b8fe\",\"type\":\"CategoricalAxis\"}],\"left\":[{\"id\":\"8361177c-4e99-4a03-bd1c-68676ae854e7\",\"type\":\"LinearAxis\"}],\"plot_height\":300,\"plot_width\":300,\"renderers\":[{\"id\":\"b728aea4-9e30-4879-9a46-7396f973b8fe\",\"type\":\"CategoricalAxis\"},{\"id\":\"b8ea102c-26c3-452b-a355-81488b4cb949\",\"type\":\"Grid\"},{\"id\":\"8361177c-4e99-4a03-bd1c-68676ae854e7\",\"type\":\"LinearAxis\"},{\"id\":\"6d3802e3-40fa-415b-8e3f-5829988f9d9d\",\"type\":\"Grid\"},{\"id\":\"8a4ad298-74f9-4572-b19c-46bff7aac8a8\",\"type\":\"BoxAnnotation\"},{\"id\":\"79c44a82-3676-4178-9a7c-fdbdf6276b8f\",\"type\":\"GlyphRenderer\"}],\"title\":{\"id\":\"3a88d8a7-7c7f-4cd2-af6b-c42eced2e009\",\"type\":\"Title\"},\"toolbar\":{\"id\":\"37e083b7-8b00-4180-b13a-e4caec468414\",\"type\":\"Toolbar\"},\"toolbar_location\":null,\"x_range\":{\"id\":\"8f98a72e-8670-477d-b91a-f462bee908b6\",\"type\":\"FactorRange\"},\"x_scale\":{\"id\":\"4e31c14e-21e9-4580-8932-76c69c1edc0b\",\"type\":\"CategoricalScale\"},\"y_range\":{\"id\":\"fefa2ac6-e036-46fc-b530-f6525e3c6466\",\"type\":\"DataRange1d\"},\"y_scale\":{\"id\":\"3024458e-b548-44f5-b601-1fbef0c1eab6\",\"type\":\"LinearScale\"}},\"id\":\"b55d4e3e-aca6-4e9b-9cc3-5e55f87ccd73\",\"subtype\":\"Figure\",\"type\":\"Plot\"},{\"attributes\":{},\"id\":\"395961ad-6c20-4d56-9881-6a4c3b839d5d\",\"type\":\"LinearScale\"},{\"attributes\":{},\"id\":\"dfd9d438-012c-400e-a689-cb433253d1c2\",\"type\":\"CategoricalTicker\"},{\"attributes\":{\"bottom_units\":\"screen\",\"fill_alpha\":{\"value\":0.5},\"fill_color\":{\"value\":\"lightgrey\"},\"left_units\":\"screen\",\"level\":\"overlay\",\"line_alpha\":{\"value\":1.0},\"line_color\":{\"value\":\"black\"},\"line_dash\":[4,4],\"line_width\":{\"value\":2},\"plot\":null,\"render_mode\":\"css\",\"right_units\":\"screen\",\"top_units\":\"screen\"},\"id\":\"66a48431-0c3e-4bef-bf48-c8ad362fcdc8\",\"type\":\"BoxAnnotation\"},{\"attributes\":{\"fill_color\":{\"value\":\"#1f77b4\"},\"line_color\":{\"value\":\"#1f77b4\"},\"top\":{\"field\":\"flux\"},\"width\":{\"value\":0.9},\"x\":{\"field\":\"band\"}},\"id\":\"e1b0f63c-fd16-49b6-9903-bcd8385b2f59\",\"type\":\"VBar\"},{\"attributes\":{\"active_drag\":\"auto\",\"active_inspect\":\"auto\",\"active_scroll\":\"auto\",\"active_tap\":\"auto\",\"tools\":[{\"id\":\"4af2215d-4289-4a35-bd8e-8d3f7611505c\",\"type\":\"PanTool\"},{\"id\":\"2457e766-aa6d-42e7-b956-72a4a9c49447\",\"type\":\"WheelZoomTool\"},{\"id\":\"acafc66b-93c1-46f0-b5db-a8d7e7b2fe3f\",\"type\":\"BoxZoomTool\"},{\"id\":\"8ad89870-7020-4c69-b3fa-9ca02ed7ec26\",\"type\":\"SaveTool\"},{\"id\":\"40a5ce16-2283-4b51-9293-ee254c5d775e\",\"type\":\"ResetTool\"},{\"id\":\"4e042b98-e10a-448b-961f-96a69677bf21\",\"type\":\"HelpTool\"}]},\"id\":\"37e083b7-8b00-4180-b13a-e4caec468414\",\"type\":\"Toolbar\"},{\"attributes\":{},\"id\":\"ca4dbf5a-7e9d-4a5f-be75-75f3ecd2d513\",\"type\":\"ResetTool\"},{\"attributes\":{},\"id\":\"b6d99857-00bf-4a20-a57e-6afb02237888\",\"type\":\"CategoricalScale\"},{\"attributes\":{\"data_source\":{\"id\":\"9f03afeb-d6dc-4fac-89a2-b02f95041125\",\"type\":\"ColumnDataSource\"},\"glyph\":{\"id\":\"e1b0f63c-fd16-49b6-9903-bcd8385b2f59\",\"type\":\"VBar\"},\"hover_glyph\":null,\"muted_glyph\":null,\"nonselection_glyph\":{\"id\":\"66f371c7-10a4-4ca2-b9b6-d407b1f8083c\",\"type\":\"VBar\"},\"selection_glyph\":null,\"view\":{\"id\":\"74a48284-f7f3-428a-b96a-6dad477af7b4\",\"type\":\"CDSView\"}},\"id\":\"def12594-544e-4ec3-86e1-9dafd2e4d289\",\"type\":\"GlyphRenderer\"},{\"attributes\":{},\"id\":\"71d65668-3944-47e8-94f4-8d206295a6bd\",\"type\":\"HelpTool\"},{\"attributes\":{},\"id\":\"db67b523-81b5-4a28-85e2-f3042823e594\",\"type\":\"BasicTicker\"},{\"attributes\":{\"fill_alpha\":{\"value\":0.1},\"fill_color\":{\"value\":\"#1f77b4\"},\"line_alpha\":{\"value\":0.1},\"line_color\":{\"value\":\"#1f77b4\"},\"top\":{\"field\":\"flux\"},\"width\":{\"value\":0.9},\"x\":{\"field\":\"band\"}},\"id\":\"66f371c7-10a4-4ca2-b9b6-d407b1f8083c\",\"type\":\"VBar\"},{\"attributes\":{\"callback\":null},\"id\":\"fefa2ac6-e036-46fc-b530-f6525e3c6466\",\"type\":\"DataRange1d\"},{\"attributes\":{\"axis_label\":\"spectral band\",\"formatter\":{\"id\":\"9d21cfc6-bf85-4891-b0ef-a0c5823fa49a\",\"type\":\"CategoricalTickFormatter\"},\"plot\":{\"id\":\"b55d4e3e-aca6-4e9b-9cc3-5e55f87ccd73\",\"subtype\":\"Figure\",\"type\":\"Plot\"},\"ticker\":{\"id\":\"9e8998e3-47d3-4d44-8bda-1306393b788c\",\"type\":\"CategoricalTicker\"}},\"id\":\"b728aea4-9e30-4879-9a46-7396f973b8fe\",\"type\":\"CategoricalAxis\"},{\"attributes\":{},\"id\":\"c3367c56-aaf5-4c41-9b80-a3e237b0001d\",\"type\":\"BasicTicker\"},{\"attributes\":{},\"id\":\"f8131f4e-4e98-4e59-8f60-87e89cb8893f\",\"type\":\"SaveTool\"},{\"attributes\":{\"plot\":{\"id\":\"b47ec7a7-677b-4c5b-92f6-acf0025082ed\",\"subtype\":\"Figure\",\"type\":\"Plot\"},\"ticker\":{\"id\":\"dfd9d438-012c-400e-a689-cb433253d1c2\",\"type\":\"CategoricalTicker\"}},\"id\":\"0e0705f9-03dd-4dc8-94d6-a73a2f7e854b\",\"type\":\"Grid\"},{\"attributes\":{\"axis_label\":\"flux (W m-2)\",\"formatter\":{\"id\":\"a04a71e6-b014-4d38-b957-440ead0a16cc\",\"type\":\"BasicTickFormatter\"},\"plot\":{\"id\":\"b47ec7a7-677b-4c5b-92f6-acf0025082ed\",\"subtype\":\"Figure\",\"type\":\"Plot\"},\"ticker\":{\"id\":\"db67b523-81b5-4a28-85e2-f3042823e594\",\"type\":\"BasicTicker\"}},\"id\":\"4dbdc9af-6936-49ec-bb1c-d8bb1719c36a\",\"type\":\"LinearAxis\"},{\"attributes\":{\"axis_label\":\"flux (W m-2)\",\"formatter\":{\"id\":\"b85c745b-d972-40b0-aab5-804a59f2cb30\",\"type\":\"BasicTickFormatter\"},\"plot\":{\"id\":\"b55d4e3e-aca6-4e9b-9cc3-5e55f87ccd73\",\"subtype\":\"Figure\",\"type\":\"Plot\"},\"ticker\":{\"id\":\"c3367c56-aaf5-4c41-9b80-a3e237b0001d\",\"type\":\"BasicTicker\"}},\"id\":\"8361177c-4e99-4a03-bd1c-68676ae854e7\",\"type\":\"LinearAxis\"},{\"attributes\":{},\"id\":\"4e31c14e-21e9-4580-8932-76c69c1edc0b\",\"type\":\"CategoricalScale\"},{\"attributes\":{\"callback\":null,\"data\":{\"band\":[\"1\",\"2\",\"3\",\"4\",\"5\",\"6\",\"7\",\"8\",\"9\",\"10\",\"11\"],\"flux\":{\"__ndarray__\":\"AIMde81dyD8ANj1aYoa3vwCOyk3U0qi/AE9HGdSrzj+QqBd8mhPgv2AnEeFfRPa/gINkARO4yb+AuhEWFXHWv0AaNiW0wNC/wA4R1HzXvT8AjGpb3mZ7Pw==\",\"dtype\":\"float64\",\"shape\":[11]}},\"selected\":{\"id\":\"d5f7c7b3-e7ee-4806-9f13-4802092e5ef6\",\"type\":\"Selection\"},\"selection_policy\":{\"id\":\"74fc25c3-679f-4dec-b4ac-f5681dd38ba8\",\"type\":\"UnionRenderers\"}},\"id\":\"24030444-5d7d-4ac5-92a7-411c4647980b\",\"type\":\"ColumnDataSource\"},{\"attributes\":{\"below\":[{\"id\":\"e298c883-4728-4790-a2eb-6609affc8ef7\",\"type\":\"CategoricalAxis\"}],\"left\":[{\"id\":\"4dbdc9af-6936-49ec-bb1c-d8bb1719c36a\",\"type\":\"LinearAxis\"}],\"plot_height\":300,\"plot_width\":300,\"renderers\":[{\"id\":\"e298c883-4728-4790-a2eb-6609affc8ef7\",\"type\":\"CategoricalAxis\"},{\"id\":\"0e0705f9-03dd-4dc8-94d6-a73a2f7e854b\",\"type\":\"Grid\"},{\"id\":\"4dbdc9af-6936-49ec-bb1c-d8bb1719c36a\",\"type\":\"LinearAxis\"},{\"id\":\"4c8076cd-a1b7-4acd-849d-1589cec22d82\",\"type\":\"Grid\"},{\"id\":\"66a48431-0c3e-4bef-bf48-c8ad362fcdc8\",\"type\":\"BoxAnnotation\"},{\"id\":\"def12594-544e-4ec3-86e1-9dafd2e4d289\",\"type\":\"GlyphRenderer\"}],\"title\":{\"id\":\"653a39f0-34f0-44ab-b77a-c32bb7ca2885\",\"type\":\"Title\"},\"toolbar\":{\"id\":\"4ee08e40-a942-4110-b178-23c5644255b1\",\"type\":\"Toolbar\"},\"toolbar_location\":null,\"x_range\":{\"id\":\"9e7b43fd-85ed-4ef6-adf0-782b4b8e4a52\",\"type\":\"FactorRange\"},\"x_scale\":{\"id\":\"b6d99857-00bf-4a20-a57e-6afb02237888\",\"type\":\"CategoricalScale\"},\"y_range\":{\"id\":\"d1276161-8731-4bed-a629-2e57da1c7621\",\"type\":\"DataRange1d\"},\"y_scale\":{\"id\":\"395961ad-6c20-4d56-9881-6a4c3b839d5d\",\"type\":\"LinearScale\"}},\"id\":\"b47ec7a7-677b-4c5b-92f6-acf0025082ed\",\"subtype\":\"Figure\",\"type\":\"Plot\"},{\"attributes\":{\"dimension\":1,\"plot\":{\"id\":\"b47ec7a7-677b-4c5b-92f6-acf0025082ed\",\"subtype\":\"Figure\",\"type\":\"Plot\"},\"ticker\":{\"id\":\"db67b523-81b5-4a28-85e2-f3042823e594\",\"type\":\"BasicTicker\"}},\"id\":\"4c8076cd-a1b7-4acd-849d-1589cec22d82\",\"type\":\"Grid\"},{\"attributes\":{\"plot\":{\"id\":\"b55d4e3e-aca6-4e9b-9cc3-5e55f87ccd73\",\"subtype\":\"Figure\",\"type\":\"Plot\"},\"ticker\":{\"id\":\"9e8998e3-47d3-4d44-8bda-1306393b788c\",\"type\":\"CategoricalTicker\"}},\"id\":\"b8ea102c-26c3-452b-a355-81488b4cb949\",\"type\":\"Grid\"},{\"attributes\":{\"overlay\":{\"id\":\"66a48431-0c3e-4bef-bf48-c8ad362fcdc8\",\"type\":\"BoxAnnotation\"}},\"id\":\"e8e73d2c-b8ca-42fe-b297-9c5b47556cab\",\"type\":\"BoxZoomTool\"},{\"attributes\":{\"active_drag\":\"auto\",\"active_inspect\":\"auto\",\"active_scroll\":\"auto\",\"active_tap\":\"auto\",\"tools\":[{\"id\":\"d0fdf9de-2542-42f4-a0a8-ea5d4cf9fa8e\",\"type\":\"PanTool\"},{\"id\":\"2158a7d1-95b8-4959-91d9-692c2568f615\",\"type\":\"WheelZoomTool\"},{\"id\":\"e8e73d2c-b8ca-42fe-b297-9c5b47556cab\",\"type\":\"BoxZoomTool\"},{\"id\":\"f8131f4e-4e98-4e59-8f60-87e89cb8893f\",\"type\":\"SaveTool\"},{\"id\":\"ca4dbf5a-7e9d-4a5f-be75-75f3ecd2d513\",\"type\":\"ResetTool\"},{\"id\":\"71d65668-3944-47e8-94f4-8d206295a6bd\",\"type\":\"HelpTool\"}]},\"id\":\"4ee08e40-a942-4110-b178-23c5644255b1\",\"type\":\"Toolbar\"},{\"attributes\":{},\"id\":\"9e8998e3-47d3-4d44-8bda-1306393b788c\",\"type\":\"CategoricalTicker\"},{\"attributes\":{\"bottom_units\":\"screen\",\"fill_alpha\":{\"value\":0.5},\"fill_color\":{\"value\":\"lightgrey\"},\"left_units\":\"screen\",\"level\":\"overlay\",\"line_alpha\":{\"value\":1.0},\"line_color\":{\"value\":\"black\"},\"line_dash\":[4,4],\"line_width\":{\"value\":2},\"plot\":null,\"render_mode\":\"css\",\"right_units\":\"screen\",\"top_units\":\"screen\"},\"id\":\"8a4ad298-74f9-4572-b19c-46bff7aac8a8\",\"type\":\"BoxAnnotation\"},{\"attributes\":{\"plot\":null,\"text\":\"SFC flux. CLIRAD (single-run) - CRD.\"},\"id\":\"3a88d8a7-7c7f-4cd2-af6b-c42eced2e009\",\"type\":\"Title\"},{\"attributes\":{\"plot\":null,\"text\":\"TOA flux. CLIRAD (single-run) - CRD.\"},\"id\":\"653a39f0-34f0-44ab-b77a-c32bb7ca2885\",\"type\":\"Title\"}],\"root_ids\":[\"f39cd933-85f5-4709-b533-3eccc8638d96\"]},\"title\":\"Bokeh Application\",\"version\":\"0.12.16\"}};\n",
       "  var render_items = [{\"docid\":\"4e478418-1cfa-4067-8ba7-adfa6953d20c\",\"elementid\":\"df7407f5-4266-4fd4-90d8-a7b839dc6b28\",\"modelid\":\"f39cd933-85f5-4709-b533-3eccc8638d96\"}];\n",
       "  root.Bokeh.embed.embed_items_notebook(docs_json, render_items);\n",
       "\n",
       "  }\n",
       "  if (root.Bokeh !== undefined) {\n",
       "    embed_document(root);\n",
       "  } else {\n",
       "    var attempts = 0;\n",
       "    var timer = setInterval(function(root) {\n",
       "      if (root.Bokeh !== undefined) {\n",
       "        embed_document(root);\n",
       "        clearInterval(timer);\n",
       "      }\n",
       "      attempts++;\n",
       "      if (attempts > 100) {\n",
       "        console.log(\"Bokeh: ERROR: Unable to run BokehJS code because BokehJS library is missing\")\n",
       "        clearInterval(timer);\n",
       "      }\n",
       "    }, 10, root)\n",
       "  }\n",
       "})(window);"
      ],
      "application/vnd.bokehjs_exec.v0+json": ""
     },
     "metadata": {
      "application/vnd.bokehjs_exec.v0+json": {
       "id": "f39cd933-85f5-4709-b533-3eccc8638d96"
      }
     },
     "output_type": "display_data"
    },
    {
     "data": {
      "text/markdown": [
       "*FIGURE.* Difference between CLIRAD and CRD in TOA, SFC and net atmosphere flux, in each spectral band."
      ],
      "text/plain": [
       "<IPython.core.display.Markdown object>"
      ]
     },
     "metadata": {},
     "output_type": "display_data"
    },
    {
     "data": {
      "text/html": [
       "<div>\n",
       "<style scoped>\n",
       "    .dataframe tbody tr th:only-of-type {\n",
       "        vertical-align: middle;\n",
       "    }\n",
       "\n",
       "    .dataframe tbody tr th {\n",
       "        vertical-align: top;\n",
       "    }\n",
       "\n",
       "    .dataframe thead th {\n",
       "        text-align: right;\n",
       "    }\n",
       "</style>\n",
       "<table border=\"1\" class=\"dataframe\">\n",
       "  <thead>\n",
       "    <tr style=\"text-align: right;\">\n",
       "      <th></th>\n",
       "      <th>OLR flux</th>\n",
       "      <th>SFC flux</th>\n",
       "      <th>ATM heating</th>\n",
       "    </tr>\n",
       "    <tr>\n",
       "      <th>Sum over bands</th>\n",
       "      <th></th>\n",
       "      <th></th>\n",
       "      <th></th>\n",
       "    </tr>\n",
       "  </thead>\n",
       "  <tbody>\n",
       "    <tr>\n",
       "      <th>old CLIRAD - CRD</th>\n",
       "      <td>0.09</td>\n",
       "      <td>1.54</td>\n",
       "      <td>-1.31</td>\n",
       "    </tr>\n",
       "    <tr>\n",
       "      <th>CLIRAD (single-run) - CRD</th>\n",
       "      <td>1.24</td>\n",
       "      <td>3.53</td>\n",
       "      <td>-2.29</td>\n",
       "    </tr>\n",
       "    <tr>\n",
       "      <th>CRD</th>\n",
       "      <td>-290.39</td>\n",
       "      <td>308.14</td>\n",
       "      <td>-174.89</td>\n",
       "    </tr>\n",
       "  </tbody>\n",
       "</table>\n",
       "</div>"
      ],
      "text/plain": [
       "                           OLR flux  SFC flux  ATM heating\n",
       "Sum over bands                                            \n",
       "old CLIRAD - CRD               0.09      1.54        -1.31\n",
       "CLIRAD (single-run) - CRD      1.24      3.53        -2.29\n",
       "CRD                         -290.39    308.14      -174.89"
      ]
     },
     "metadata": {},
     "output_type": "display_data"
    },
    {
     "data": {
      "text/markdown": [
       "*TABLE.* Difference between CLIRAD and CRD in TOA, SFC and net atmosphere flux, over all spectral bands. CRD's TOA, SFC and net atmosphere flux, over all spectral bands."
      ],
      "text/plain": [
       "<IPython.core.display.Markdown object>"
      ]
     },
     "metadata": {},
     "output_type": "display_data"
    },
    {
     "data": {
      "text/html": [
       "<a id=\"Cooling_rates._saw.\"></a>"
      ],
      "text/plain": [
       "<IPython.core.display.HTML object>"
      ]
     },
     "metadata": {},
     "output_type": "display_data"
    },
    {
     "data": {
      "text/markdown": [
       "# Cooling rates. saw."
      ],
      "text/plain": [
       "<IPython.core.display.Markdown object>"
      ]
     },
     "metadata": {},
     "output_type": "display_data"
    },
    {
     "data": {
      "text/html": [
       "\n",
       "<div class=\"bk-root\">\n",
       "    <div class=\"bk-plotdiv\" id=\"dc2e09a6-de78-42cf-aa20-d239aca51472\"></div>\n",
       "</div>"
      ]
     },
     "metadata": {},
     "output_type": "display_data"
    },
    {
     "data": {
      "application/javascript": [
       "(function(root) {\n",
       "  function embed_document(root) {\n",
       "    \n",
       "  var docs_json = {\"7103269b-28b3-499d-bac5-928612f5275d\":{\"roots\":{\"references\":[{\"attributes\":{\"bottom_units\":\"screen\",\"fill_alpha\":{\"value\":0.5},\"fill_color\":{\"value\":\"lightgrey\"},\"left_units\":\"screen\",\"level\":\"overlay\",\"line_alpha\":{\"value\":1.0},\"line_color\":{\"value\":\"black\"},\"line_dash\":[4,4],\"line_width\":{\"value\":2},\"plot\":null,\"render_mode\":\"css\",\"right_units\":\"screen\",\"top_units\":\"screen\"},\"id\":\"44829553-a3a8-4275-a282-d5cb8a20c477\",\"type\":\"BoxAnnotation\"},{\"attributes\":{},\"id\":\"dff98bc6-9b30-440c-8347-6b47860e5cbd\",\"type\":\"SaveTool\"},{\"attributes\":{\"axis_label\":\"pressure [mb]\",\"formatter\":{\"id\":\"16a3119c-de71-4c56-a355-635f5d08badd\",\"type\":\"BasicTickFormatter\"},\"plot\":{\"id\":\"76eac6ce-dfcb-41b0-96cc-90ef3559fe55\",\"subtype\":\"Figure\",\"type\":\"Plot\"},\"ticker\":{\"id\":\"49fb4bf3-925f-414b-838d-2a1aea4b5ccf\",\"type\":\"BasicTicker\"}},\"id\":\"c5399d8b-fc04-4c69-802d-914c4a690d0e\",\"type\":\"LinearAxis\"},{\"attributes\":{},\"id\":\"178de8ed-bd01-4225-99c0-42a1729500be\",\"type\":\"BasicTicker\"},{\"attributes\":{\"callback\":null,\"data\":{\"x\":{\"__ndarray__\":\"0CYBcvU5UkCik9zf2GVBQF1VoNfLZ0BAVLxhiVXTPUDD1Wu1wJM6QFJyB025jjdAU6Aw5+b/NECYe1uuDfgyQB6bYtVTbTFAPxYSAF1HMEA00pYVm9QuQLolHbMzgC1AntlwirGsLECv+G9SjE4rQJH6ZLBp0ShAsLZQyPd/JkDyjgyf2PwkQLgyNGsrJyRAA13QbJD6I0C8hy0ilI4kQOVTXCEgcSZAovOGvZSGJUBVc/ZmUOIgQOf/6GHAyRlAcE8fAOBSFEDRur1U//gPQGFD9ZbokghAQsqHuSqSA0C91ci3W0UBQCtRQfvz7/4/kh8pntyB+j9t1/n+4TX1P773MAUjFfI/RgzR+CI28T8hBW8WHK7uPzVKjJfU8uk/0FPt4/z65T/wVYqzMPDhPz7K9C5CXuE/8+hSn9hY4T/9PPCkR6rhP1XsIC599OA/66X1nBCX3z/YbRM56QjcPz4dkSQc/dM/S7Wb8Fq00T+/yQdmX0vcP7TrGf476eM/WqNPJoWO7D9qOH1bcwDzP2bw+R5DQ/Y/RLSuQOQp+D8+aif8yAz5P0Wv6eBKRfk/0i2+IN4R+T/ik8QNFZr4PyS5UD5j/Pc/yJ68zXRG9z/2CHPL54H2P59SOhwKtPU/npkP8dfg9D8NlmVcdQz0P80ugRvuOvM/byxiAHN18j9USVZie8nxP5l9lNXYSPE/OB+F0UYP8T8Y7dsUCTHxP3EBgTHPcPE/bfx15p8S8T8FT+xkGtTuP6mdG7rkxuk/pboqTkHX5D/CrN8qGYngP7R4ZaL+htU/\",\"dtype\":\"float64\",\"shape\":[75]},\"y\":{\"__ndarray__\":\"GhExyth1ND/Sv8nbtpRIP2vylNV0PVE/aTum7souWD/At0SJ8fVgPw3Iuahxymc/MSNhhJWvcD/bTfBN02d3P2zb5nxnaoA/CD5h5MAGhz8NmeH1TyaQP+zrCsc9p5Y/LbKd76fGnz/bLW5ISEmmPww9YvTcQq8/JV2OstnstT8Er5Y7M8G+P0c+r3jqkcU/5h99k6ZBzj88bCIzFzjVP4enV8oyxN0//yH99nXg5D8qOpLLf0jtP5kqGJXUifQ/c9cS8kHP/D+/DpwzojQEQIEmwoanVwxA4lgXt9HgE0BSSZ2AJuIbQAMJih9jjiNA5q4l5INuK0AwTKYKRj0zQNv5fmq8/DpAaCJseHrtQkB/+zpwzoxKQM3MzMzMeFJAZmZmZmZqWEAAAAAAAFxeQM3MzMzMJmJAmpmZmZkfZUBmZmZmZhhoQDMzMzMzEWtAAAAAAAAKbkBmZmZmZoFwQM3MzMzM/XFAMzMzMzN6c0CamZmZmfZ0QAAAAAAAc3ZAZmZmZmbvd0DNzMzMzGt5QDMzMzMz6HpAmpmZmZlkfEAAAAAAAOF9QGZmZmZmXX9AZmZmZuZsgECamZmZGSuBQM3MzMxM6YFAAAAAAICngkAzMzMzs2WDQGZmZmbmI4RAmpmZmRnihEDNzMzMTKCFQAAAAACAXoZAMzMzM7Mch0BmZmZm5tqHQJqZmZkZmYhAzczMzExXiUAAAAAAgBWKQDMzMzOz04pAZmZmZuaRi0CamZmZGVCMQM3MzMxMDo1AAAAAAIDMjUAzMzMzs4qOQGZmZmbmSI9A\",\"dtype\":\"float64\",\"shape\":[75]}},\"selected\":{\"id\":\"d5ec9da8-acce-4058-bc5c-dd13ddf28e33\",\"type\":\"Selection\"},\"selection_policy\":{\"id\":\"ee2e0c7f-55c6-44cf-ac3e-9d9f93d94238\",\"type\":\"UnionRenderers\"}},\"id\":\"a865ec46-6ea7-4045-8bd7-64bef058c7d4\",\"type\":\"ColumnDataSource\"},{\"attributes\":{\"line_alpha\":0.8,\"line_color\":\"#984ea3\",\"line_width\":1.5,\"x\":{\"field\":\"x\"},\"y\":{\"field\":\"y\"}},\"id\":\"7e265e98-d9db-4b61-b7b1-513dd590d5fd\",\"type\":\"Line\"},{\"attributes\":{},\"id\":\"aeedfbd6-7029-4311-864e-c1395f481b48\",\"type\":\"SaveTool\"},{\"attributes\":{\"plot\":{\"id\":\"76eac6ce-dfcb-41b0-96cc-90ef3559fe55\",\"subtype\":\"Figure\",\"type\":\"Plot\"},\"ticker\":{\"id\":\"178de8ed-bd01-4225-99c0-42a1729500be\",\"type\":\"BasicTicker\"}},\"id\":\"3568d927-db70-4e95-9473-51df673fb34e\",\"type\":\"Grid\"},{\"attributes\":{},\"id\":\"1b9e7e7a-4a96-482e-b58d-291882b7a22e\",\"type\":\"Selection\"},{\"attributes\":{},\"id\":\"c63fb631-08fd-4789-aa64-1d8b7a59008a\",\"type\":\"ResetTool\"},{\"attributes\":{\"axis_label\":\"cooling rate [K/day]\",\"formatter\":{\"id\":\"12037afe-4f0b-4010-af9e-1c7b743927f5\",\"type\":\"BasicTickFormatter\"},\"plot\":{\"id\":\"76eac6ce-dfcb-41b0-96cc-90ef3559fe55\",\"subtype\":\"Figure\",\"type\":\"Plot\"},\"ticker\":{\"id\":\"178de8ed-bd01-4225-99c0-42a1729500be\",\"type\":\"BasicTicker\"}},\"id\":\"7f583747-14bb-499c-91c0-a8d5874dbd93\",\"type\":\"LinearAxis\"},{\"attributes\":{\"fill_alpha\":{\"value\":0.1},\"fill_color\":{\"value\":\"#1f77b4\"},\"line_alpha\":{\"value\":0.1},\"line_color\":{\"value\":\"#1f77b4\"},\"x\":{\"field\":\"x\"},\"y\":{\"field\":\"y\"}},\"id\":\"a6802683-8fb6-43a0-a96d-c12fd830dd2e\",\"type\":\"Circle\"},{\"attributes\":{\"callback\":null,\"data\":{\"x\":{\"__ndarray__\":\"+DIYzSfeQ8ADSyc6JvYYwLTQYDfqpAPA+O9NsLUe8j+ndYjj8ZsLQAF2sowZ2g9AWJ7jTizLBkBzJnliSDrrP4ckTQqmmu2/yIn9Xbll+r/JDtlCfBv0vzBtL7R6y9S/S0z/YzCq4D9RXHsTOubuP0LadZl6Ae0/dkdbHzgO2T8gP4OVa97Qv6dKvimeXuW/b5f1lFZy5b89MnadIX3avxDzPaQG4cG/QZDrasUbsj8qxYtq7i7BP9oYbF5hAbq/0B2QLF9yzb8woeBAjRqhvzE6QhliW9E/2dtVmWDw0T9iy9OmZy68P3XlwRgMmKA/6OXDpjhDxD/NCvR1tBTNP0tccmf80MA/kR+5P9Bjd7/+eIVwnghnP3pZTI32QrM/tZBOmvsjqD8gW4ODHuaYv3qCLJpbsrO/EnzuYOkStr8oGm8gFrOyv9/c1pAIzay/ofPvAbSOpb8B/UhJYXeav6yCnM7sxpC/hpUy0XwXhr9Mn53DEuFBv0aNEOOb1HS/0eQ2hbZkm78yaLzNbqeqvxJj7zybiKq/qUS6gZ7Jor+WR8ckxmOjv355VJ2o16q/eLAPjvieqr89svGCvmulv0MouvGYyJ+/WZBD+ONzmL+7AAA18s+Tv6Kofz3cVoq/51drxdN7hL9dlz8bDACCvw8QIqqL84S/KORqulcTh7+htJlELhGFv6wZW7a8DHy/UHC3pGLcT7/+hXsOcK18Py2/jCKe/ok/RvRFJAX0xT+a4gwmR3/FP8ROYJHSucQ/f+cCHNykwz9+Ocqw96rCP8VuhrjFnsE/\",\"dtype\":\"float64\",\"shape\":[75]},\"y\":{\"__ndarray__\":\"GhExyth1ND/Sv8nbtpRIP2vylNV0PVE/aTum7souWD/At0SJ8fVgPw3Iuahxymc/MSNhhJWvcD/bTfBN02d3P2zb5nxnaoA/CD5h5MAGhz8NmeH1TyaQP+zrCsc9p5Y/LbKd76fGnz/bLW5ISEmmPww9YvTcQq8/JV2OstnstT8Er5Y7M8G+P0c+r3jqkcU/5h99k6ZBzj88bCIzFzjVP4enV8oyxN0//yH99nXg5D8qOpLLf0jtP5kqGJXUifQ/c9cS8kHP/D+/DpwzojQEQIEmwoanVwxA4lgXt9HgE0BSSZ2AJuIbQAMJih9jjiNA5q4l5INuK0AwTKYKRj0zQNv5fmq8/DpAaCJseHrtQkB/+zpwzoxKQM3MzMzMeFJAZmZmZmZqWEAAAAAAAFxeQM3MzMzMJmJAmpmZmZkfZUBmZmZmZhhoQDMzMzMzEWtAAAAAAAAKbkBmZmZmZoFwQM3MzMzM/XFAMzMzMzN6c0CamZmZmfZ0QAAAAAAAc3ZAZmZmZmbvd0DNzMzMzGt5QDMzMzMz6HpAmpmZmZlkfEAAAAAAAOF9QGZmZmZmXX9AZmZmZuZsgECamZmZGSuBQM3MzMxM6YFAAAAAAICngkAzMzMzs2WDQGZmZmbmI4RAmpmZmRnihEDNzMzMTKCFQAAAAACAXoZAMzMzM7Mch0BmZmZm5tqHQJqZmZkZmYhAzczMzExXiUAAAAAAgBWKQDMzMzOz04pAZmZmZuaRi0CamZmZGVCMQM3MzMxMDo1AAAAAAIDMjUAzMzMzs4qOQGZmZmbmSI9A\",\"dtype\":\"float64\",\"shape\":[75]}},\"selected\":{\"id\":\"1d7f3ee0-d64d-4342-912f-909103e55d55\",\"type\":\"Selection\"},\"selection_policy\":{\"id\":\"c673a436-cd86-478b-b89c-4f973facc4ae\",\"type\":\"UnionRenderers\"}},\"id\":\"daefe531-d30a-43a2-99b3-d8d1ed8bec50\",\"type\":\"ColumnDataSource\"},{\"attributes\":{\"callback\":null,\"end\":1.59255282378488,\"start\":0.2527103125071201},\"id\":\"feb05d99-8289-421d-a267-acae93a046ee\",\"type\":\"Range1d\"},{\"attributes\":{},\"id\":\"f83cf657-df20-4d65-9e25-8c4bc3ec9dc4\",\"type\":\"WheelZoomTool\"},{\"attributes\":{\"data_source\":{\"id\":\"c0bf90a0-2777-40f7-9e46-c31a3ecab549\",\"type\":\"ColumnDataSource\"},\"glyph\":{\"id\":\"4fb0fe0f-9c78-4b8b-81ee-c16fcddd5cd1\",\"type\":\"Circle\"},\"hover_glyph\":null,\"muted_glyph\":null,\"nonselection_glyph\":{\"id\":\"a6802683-8fb6-43a0-a96d-c12fd830dd2e\",\"type\":\"Circle\"},\"selection_glyph\":null,\"view\":{\"id\":\"3bed5fa9-8b7d-4479-9b03-23dbe63cbd10\",\"type\":\"CDSView\"}},\"id\":\"c3722579-7647-4ba4-a1c1-1308ee05f914\",\"type\":\"GlyphRenderer\"},{\"attributes\":{\"data_source\":{\"id\":\"daefe531-d30a-43a2-99b3-d8d1ed8bec50\",\"type\":\"ColumnDataSource\"},\"glyph\":{\"id\":\"7e265e98-d9db-4b61-b7b1-513dd590d5fd\",\"type\":\"Line\"},\"hover_glyph\":null,\"muted_glyph\":null,\"nonselection_glyph\":{\"id\":\"b472fe8f-7aec-4be4-b272-c51d5372c171\",\"type\":\"Line\"},\"selection_glyph\":null,\"view\":{\"id\":\"d9667c17-052d-4213-8d00-844daf2185dd\",\"type\":\"CDSView\"}},\"id\":\"fd6ef6fd-873e-4395-b962-242e8aeb2e99\",\"type\":\"GlyphRenderer\"},{\"attributes\":{\"overlay\":{\"id\":\"44829553-a3a8-4275-a282-d5cb8a20c477\",\"type\":\"BoxAnnotation\"}},\"id\":\"fde589d8-84da-4c91-b2a1-c6752c635a3b\",\"type\":\"BoxZoomTool\"},{\"attributes\":{\"ticker\":null},\"id\":\"c628eb01-b533-4809-82ec-10653349a699\",\"type\":\"LogTickFormatter\"},{\"attributes\":{},\"id\":\"49fb4bf3-925f-414b-838d-2a1aea4b5ccf\",\"type\":\"BasicTicker\"},{\"attributes\":{},\"id\":\"16980109-83a0-44ad-831b-653cdf71e9c6\",\"type\":\"UnionRenderers\"},{\"attributes\":{},\"id\":\"33ab2422-aaa9-4e01-87a1-403ad171ee5d\",\"type\":\"HelpTool\"},{\"attributes\":{\"source\":{\"id\":\"38d01d5f-e911-402e-90bb-6697c010ad41\",\"type\":\"ColumnDataSource\"}},\"id\":\"66568ca0-89f7-4280-b054-0df598261fad\",\"type\":\"CDSView\"},{\"attributes\":{\"fill_alpha\":{\"value\":0.7},\"fill_color\":{\"value\":\"#984ea3\"},\"line_alpha\":{\"value\":0.7},\"line_color\":{\"value\":\"#984ea3\"},\"x\":{\"field\":\"x\"},\"y\":{\"field\":\"y\"}},\"id\":\"4fb0fe0f-9c78-4b8b-81ee-c16fcddd5cd1\",\"type\":\"Circle\"},{\"attributes\":{\"source\":{\"id\":\"c0bf90a0-2777-40f7-9e46-c31a3ecab549\",\"type\":\"ColumnDataSource\"}},\"id\":\"3bed5fa9-8b7d-4479-9b03-23dbe63cbd10\",\"type\":\"CDSView\"},{\"attributes\":{},\"id\":\"8b4e8767-a6cd-4e81-b3df-2e1e44538329\",\"type\":\"LinearScale\"},{\"attributes\":{\"callback\":null,\"end\":16.436991755685575,\"start\":0.29764047834442},\"id\":\"1b06af05-110a-4993-9dab-d7fe7f7db7a4\",\"type\":\"Range1d\"},{\"attributes\":{\"children\":[{\"id\":\"76eac6ce-dfcb-41b0-96cc-90ef3559fe55\",\"subtype\":\"Figure\",\"type\":\"Plot\"},{\"id\":\"d639e424-e2c1-440e-acc0-f93907c32823\",\"subtype\":\"Figure\",\"type\":\"Plot\"},{\"id\":\"b42aeb71-4020-4b2c-a7b2-aa1f1d57780b\",\"subtype\":\"Figure\",\"type\":\"Plot\"}]},\"id\":\"4304fdb0-9c7d-45ba-8d04-d180944b12d9\",\"type\":\"Row\"},{\"attributes\":{\"callback\":null,\"data\":{\"x\":{\"__ndarray__\":\"0CYBcvU5UkCik9zf2GVBQF1VoNfLZ0BAVLxhiVXTPUDD1Wu1wJM6QFJyB025jjdAU6Aw5+b/NECYe1uuDfgyQB6bYtVTbTFAPxYSAF1HMEA00pYVm9QuQLolHbMzgC1AntlwirGsLECv+G9SjE4rQJH6ZLBp0ShAsLZQyPd/JkDyjgyf2PwkQLgyNGsrJyRAA13QbJD6I0C8hy0ilI4kQOVTXCEgcSZAovOGvZSGJUBVc/ZmUOIgQOf/6GHAyRlAcE8fAOBSFEDRur1U//gPQGFD9ZbokghAQsqHuSqSA0C91ci3W0UBQCtRQfvz7/4/kh8pntyB+j9t1/n+4TX1P773MAUjFfI/RgzR+CI28T8hBW8WHK7uPzVKjJfU8uk/0FPt4/z65T/wVYqzMPDhPz7K9C5CXuE/8+hSn9hY4T/9PPCkR6rhP1XsIC599OA/66X1nBCX3z/YbRM56QjcPz4dkSQc/dM/S7Wb8Fq00T+/yQdmX0vcP7TrGf476eM/WqNPJoWO7D9qOH1bcwDzP2bw+R5DQ/Y/RLSuQOQp+D8+aif8yAz5P0Wv6eBKRfk/0i2+IN4R+T/ik8QNFZr4PyS5UD5j/Pc/yJ68zXRG9z/2CHPL54H2P59SOhwKtPU/npkP8dfg9D8NlmVcdQz0P80ugRvuOvM/byxiAHN18j9USVZie8nxP5l9lNXYSPE/OB+F0UYP8T8Y7dsUCTHxP3EBgTHPcPE/bfx15p8S8T8FT+xkGtTuP6mdG7rkxuk/pboqTkHX5D/CrN8qGYngP7R4ZaL+htU/\",\"dtype\":\"float64\",\"shape\":[75]},\"y\":{\"__ndarray__\":\"GhExyth1ND/Sv8nbtpRIP2vylNV0PVE/aTum7souWD/At0SJ8fVgPw3Iuahxymc/MSNhhJWvcD/bTfBN02d3P2zb5nxnaoA/CD5h5MAGhz8NmeH1TyaQP+zrCsc9p5Y/LbKd76fGnz/bLW5ISEmmPww9YvTcQq8/JV2OstnstT8Er5Y7M8G+P0c+r3jqkcU/5h99k6ZBzj88bCIzFzjVP4enV8oyxN0//yH99nXg5D8qOpLLf0jtP5kqGJXUifQ/c9cS8kHP/D+/DpwzojQEQIEmwoanVwxA4lgXt9HgE0BSSZ2AJuIbQAMJih9jjiNA5q4l5INuK0AwTKYKRj0zQNv5fmq8/DpAaCJseHrtQkB/+zpwzoxKQM3MzMzMeFJAZmZmZmZqWEAAAAAAAFxeQM3MzMzMJmJAmpmZmZkfZUBmZmZmZhhoQDMzMzMzEWtAAAAAAAAKbkBmZmZmZoFwQM3MzMzM/XFAMzMzMzN6c0CamZmZmfZ0QAAAAAAAc3ZAZmZmZmbvd0DNzMzMzGt5QDMzMzMz6HpAmpmZmZlkfEAAAAAAAOF9QGZmZmZmXX9AZmZmZuZsgECamZmZGSuBQM3MzMxM6YFAAAAAAICngkAzMzMzs2WDQGZmZmbmI4RAmpmZmRnihEDNzMzMTKCFQAAAAACAXoZAMzMzM7Mch0BmZmZm5tqHQJqZmZkZmYhAzczMzExXiUAAAAAAgBWKQDMzMzOz04pAZmZmZuaRi0CamZmZGVCMQM3MzMxMDo1AAAAAAIDMjUAzMzMzs4qOQGZmZmbmSI9A\",\"dtype\":\"float64\",\"shape\":[75]}},\"selected\":{\"id\":\"db27f793-5b4b-4efa-9d5d-afdaf2a9a18a\",\"type\":\"Selection\"},\"selection_policy\":{\"id\":\"72082897-999a-4956-9074-5ef221fc914c\",\"type\":\"UnionRenderers\"}},\"id\":\"4a97adbc-688b-482e-b3d3-b71258cbded8\",\"type\":\"ColumnDataSource\"},{\"attributes\":{\"line_color\":\"#4daf4a\",\"line_width\":1.5,\"x\":{\"field\":\"x\"},\"y\":{\"field\":\"y\"}},\"id\":\"2af826ce-483c-4f0b-b8ee-a28f3cddd349\",\"type\":\"Line\"},{\"attributes\":{\"source\":{\"id\":\"8930eacf-a3b4-4645-9b58-b1397962e6ab\",\"type\":\"ColumnDataSource\"}},\"id\":\"e2b43513-40fc-4d2f-9d80-7698946084c5\",\"type\":\"CDSView\"},{\"attributes\":{},\"id\":\"21de352f-0c39-4685-8d53-0b73ceb12e42\",\"type\":\"PanTool\"},{\"attributes\":{\"label\":{\"value\":\"CRD\"},\"renderers\":[{\"id\":\"4ea70b99-e0d7-4c01-a35e-4cfb9506d961\",\"type\":\"GlyphRenderer\"},{\"id\":\"599012fc-9be5-402c-8948-48466e423f8a\",\"type\":\"GlyphRenderer\"}]},\"id\":\"c633f90b-f755-40b7-8dd5-a7dc7aa90878\",\"type\":\"LegendItem\"},{\"attributes\":{\"callback\":null,\"end\":0.01,\"start\":1020},\"id\":\"5d061dbe-9feb-49f6-9e4f-986657c7e128\",\"type\":\"Range1d\"},{\"attributes\":{\"source\":{\"id\":\"daefe531-d30a-43a2-99b3-d8d1ed8bec50\",\"type\":\"ColumnDataSource\"}},\"id\":\"d9667c17-052d-4213-8d00-844daf2185dd\",\"type\":\"CDSView\"},{\"attributes\":{},\"id\":\"1448154c-0c67-4fa8-b112-08789d88e34c\",\"type\":\"Selection\"},{\"attributes\":{\"tools\":[{\"id\":\"21de352f-0c39-4685-8d53-0b73ceb12e42\",\"type\":\"PanTool\"},{\"id\":\"f83cf657-df20-4d65-9e25-8c4bc3ec9dc4\",\"type\":\"WheelZoomTool\"},{\"id\":\"fde589d8-84da-4c91-b2a1-c6752c635a3b\",\"type\":\"BoxZoomTool\"},{\"id\":\"aeedfbd6-7029-4311-864e-c1395f481b48\",\"type\":\"SaveTool\"},{\"id\":\"c63fb631-08fd-4789-aa64-1d8b7a59008a\",\"type\":\"ResetTool\"},{\"id\":\"33ab2422-aaa9-4e01-87a1-403ad171ee5d\",\"type\":\"HelpTool\"},{\"id\":\"4d8546c9-ceaf-45d4-add7-4bb1b166e0c3\",\"type\":\"PanTool\"},{\"id\":\"5080d615-3acf-4d58-a04f-b1d132298578\",\"type\":\"WheelZoomTool\"},{\"id\":\"613c29af-988d-45a3-b975-cbbb89f9563a\",\"type\":\"BoxZoomTool\"},{\"id\":\"3d2011d7-9d52-427a-9759-37e14b8236f6\",\"type\":\"SaveTool\"},{\"id\":\"feaf72d2-e7e8-4a78-82c9-91a8c3af09da\",\"type\":\"ResetTool\"},{\"id\":\"f8b25a49-e151-48f4-8a3d-3f37973f64d8\",\"type\":\"HelpTool\"},{\"id\":\"c9994091-a74e-45b7-a827-4b314978ec4b\",\"type\":\"PanTool\"},{\"id\":\"5c05900c-1e06-43af-b91b-90458d2b6dda\",\"type\":\"WheelZoomTool\"},{\"id\":\"ab940919-220f-41e6-b370-b63a7b418aae\",\"type\":\"BoxZoomTool\"},{\"id\":\"dff98bc6-9b30-440c-8347-6b47860e5cbd\",\"type\":\"SaveTool\"},{\"id\":\"85b829d1-7d66-4a25-ba2f-a7994c3aad51\",\"type\":\"ResetTool\"},{\"id\":\"3c4007cd-9ad5-41ee-b002-ecc1ed136796\",\"type\":\"HelpTool\"}]},\"id\":\"a29feaf8-b00b-43a8-ae2e-d9d7fcf4c722\",\"type\":\"ProxyToolbar\"},{\"attributes\":{\"callback\":null,\"data\":{\"x\":{\"__ndarray__\":\"0CYBcvU5UkCik9zf2GVBQF1VoNfLZ0BAVLxhiVXTPUDD1Wu1wJM6QFJyB025jjdAU6Aw5+b/NECYe1uuDfgyQB6bYtVTbTFAPxYSAF1HMEA00pYVm9QuQLolHbMzgC1AntlwirGsLECv+G9SjE4rQJH6ZLBp0ShAsLZQyPd/JkDyjgyf2PwkQLgyNGsrJyRAA13QbJD6I0C8hy0ilI4kQOVTXCEgcSZAovOGvZSGJUBVc/ZmUOIgQOf/6GHAyRlAcE8fAOBSFEDRur1U//gPQGFD9ZbokghAQsqHuSqSA0C91ci3W0UBQCtRQfvz7/4/kh8pntyB+j9t1/n+4TX1P773MAUjFfI/RgzR+CI28T8hBW8WHK7uPzVKjJfU8uk/0FPt4/z65T/wVYqzMPDhPz7K9C5CXuE/8+hSn9hY4T/9PPCkR6rhP1XsIC599OA/66X1nBCX3z/YbRM56QjcPz4dkSQc/dM/S7Wb8Fq00T+/yQdmX0vcP7TrGf476eM/WqNPJoWO7D9qOH1bcwDzP2bw+R5DQ/Y/RLSuQOQp+D8+aif8yAz5P0Wv6eBKRfk/0i2+IN4R+T/ik8QNFZr4PyS5UD5j/Pc/yJ68zXRG9z/2CHPL54H2P59SOhwKtPU/npkP8dfg9D8NlmVcdQz0P80ugRvuOvM/byxiAHN18j9USVZie8nxP5l9lNXYSPE/OB+F0UYP8T8Y7dsUCTHxP3EBgTHPcPE/bfx15p8S8T8FT+xkGtTuP6mdG7rkxuk/pboqTkHX5D/CrN8qGYngP7R4ZaL+htU/\",\"dtype\":\"float64\",\"shape\":[75]},\"y\":{\"__ndarray__\":\"GhExyth1ND/Sv8nbtpRIP2vylNV0PVE/aTum7souWD/At0SJ8fVgPw3Iuahxymc/MSNhhJWvcD/bTfBN02d3P2zb5nxnaoA/CD5h5MAGhz8NmeH1TyaQP+zrCsc9p5Y/LbKd76fGnz/bLW5ISEmmPww9YvTcQq8/JV2OstnstT8Er5Y7M8G+P0c+r3jqkcU/5h99k6ZBzj88bCIzFzjVP4enV8oyxN0//yH99nXg5D8qOpLLf0jtP5kqGJXUifQ/c9cS8kHP/D+/DpwzojQEQIEmwoanVwxA4lgXt9HgE0BSSZ2AJuIbQAMJih9jjiNA5q4l5INuK0AwTKYKRj0zQNv5fmq8/DpAaCJseHrtQkB/+zpwzoxKQM3MzMzMeFJAZmZmZmZqWEAAAAAAAFxeQM3MzMzMJmJAmpmZmZkfZUBmZmZmZhhoQDMzMzMzEWtAAAAAAAAKbkBmZmZmZoFwQM3MzMzM/XFAMzMzMzN6c0CamZmZmfZ0QAAAAAAAc3ZAZmZmZmbvd0DNzMzMzGt5QDMzMzMz6HpAmpmZmZlkfEAAAAAAAOF9QGZmZmZmXX9AZmZmZuZsgECamZmZGSuBQM3MzMxM6YFAAAAAAICngkAzMzMzs2WDQGZmZmbmI4RAmpmZmRnihEDNzMzMTKCFQAAAAACAXoZAMzMzM7Mch0BmZmZm5tqHQJqZmZkZmYhAzczMzExXiUAAAAAAgBWKQDMzMzOz04pAZmZmZuaRi0CamZmZGVCMQM3MzMxMDo1AAAAAAIDMjUAzMzMzs4qOQGZmZmbmSI9A\",\"dtype\":\"float64\",\"shape\":[75]}},\"selected\":{\"id\":\"5f410d9f-5701-4b68-ae80-391b61f3d2a9\",\"type\":\"Selection\"},\"selection_policy\":{\"id\":\"797b5894-cf97-42bf-96ae-9df8c9bb4a55\",\"type\":\"UnionRenderers\"}},\"id\":\"8930eacf-a3b4-4645-9b58-b1397962e6ab\",\"type\":\"ColumnDataSource\"},{\"attributes\":{\"children\":[{\"id\":\"1b0fe65c-31ab-42c4-b28e-5fba120c77d1\",\"type\":\"ToolbarBox\"},{\"id\":\"cef62f64-dfbf-44e3-85b1-1328c53ffddb\",\"type\":\"Column\"}]},\"id\":\"61aa58ea-73c1-4ae8-99d3-f3c47306ad6a\",\"type\":\"Column\"},{\"attributes\":{\"data_source\":{\"id\":\"8930eacf-a3b4-4645-9b58-b1397962e6ab\",\"type\":\"ColumnDataSource\"},\"glyph\":{\"id\":\"2af826ce-483c-4f0b-b8ee-a28f3cddd349\",\"type\":\"Line\"},\"hover_glyph\":null,\"muted_glyph\":null,\"nonselection_glyph\":{\"id\":\"e04e9175-3c4c-480f-ab69-6d885c87d0a6\",\"type\":\"Line\"},\"selection_glyph\":null,\"view\":{\"id\":\"e2b43513-40fc-4d2f-9d80-7698946084c5\",\"type\":\"CDSView\"}},\"id\":\"599012fc-9be5-402c-8948-48466e423f8a\",\"type\":\"GlyphRenderer\"},{\"attributes\":{},\"id\":\"12037afe-4f0b-4010-af9e-1c7b743927f5\",\"type\":\"BasicTickFormatter\"},{\"attributes\":{\"label\":{\"value\":\"CLIRAD (single-run) - CRD\"},\"renderers\":[{\"id\":\"c3722579-7647-4ba4-a1c1-1308ee05f914\",\"type\":\"GlyphRenderer\"},{\"id\":\"fd6ef6fd-873e-4395-b962-242e8aeb2e99\",\"type\":\"GlyphRenderer\"}]},\"id\":\"7b396673-0817-45d8-9481-19dcd6dca68d\",\"type\":\"LegendItem\"},{\"attributes\":{\"line_alpha\":0.1,\"line_color\":\"#1f77b4\",\"line_dash\":[6],\"line_width\":5,\"x\":{\"field\":\"x\"},\"y\":{\"field\":\"y\"}},\"id\":\"45cbe161-22a6-4f3b-b746-168ebd299463\",\"type\":\"Line\"},{\"attributes\":{\"data_source\":{\"id\":\"4a97adbc-688b-482e-b3d3-b71258cbded8\",\"type\":\"ColumnDataSource\"},\"glyph\":{\"id\":\"c41fe84d-1f24-484e-a48e-f6b31c515ec7\",\"type\":\"Circle\"},\"hover_glyph\":null,\"muted_glyph\":null,\"nonselection_glyph\":{\"id\":\"322516e2-f6d1-4c04-839c-c5510c947cfa\",\"type\":\"Circle\"},\"selection_glyph\":null,\"view\":{\"id\":\"389fe19c-d882-4665-9f4a-69ac4bdc78cf\",\"type\":\"CDSView\"}},\"id\":\"4ea70b99-e0d7-4c01-a35e-4cfb9506d961\",\"type\":\"GlyphRenderer\"},{\"attributes\":{},\"id\":\"16a3119c-de71-4c56-a355-635f5d08badd\",\"type\":\"BasicTickFormatter\"},{\"attributes\":{\"data_source\":{\"id\":\"be573237-f5a9-4a2d-8dcf-624d17d6a7be\",\"type\":\"ColumnDataSource\"},\"glyph\":{\"id\":\"36ce4114-c559-42f9-90ee-79e4d15c226b\",\"type\":\"Line\"},\"hover_glyph\":null,\"muted_glyph\":null,\"nonselection_glyph\":{\"id\":\"45cbe161-22a6-4f3b-b746-168ebd299463\",\"type\":\"Line\"},\"selection_glyph\":null,\"view\":{\"id\":\"42677ade-bd48-41aa-9111-4f8050dd237c\",\"type\":\"CDSView\"}},\"id\":\"52b2f4b4-ff09-4cdf-a7ad-e34e9cd1f6aa\",\"type\":\"GlyphRenderer\"},{\"attributes\":{\"line_alpha\":0.1,\"line_color\":\"#1f77b4\",\"line_width\":1.5,\"x\":{\"field\":\"x\"},\"y\":{\"field\":\"y\"}},\"id\":\"b472fe8f-7aec-4be4-b272-c51d5372c171\",\"type\":\"Line\"},{\"attributes\":{\"source\":{\"id\":\"be573237-f5a9-4a2d-8dcf-624d17d6a7be\",\"type\":\"ColumnDataSource\"}},\"id\":\"42677ade-bd48-41aa-9111-4f8050dd237c\",\"type\":\"CDSView\"},{\"attributes\":{\"toolbar\":{\"id\":\"a29feaf8-b00b-43a8-ae2e-d9d7fcf4c722\",\"type\":\"ProxyToolbar\"},\"toolbar_location\":\"above\"},\"id\":\"1b0fe65c-31ab-42c4-b28e-5fba120c77d1\",\"type\":\"ToolbarBox\"},{\"attributes\":{},\"id\":\"85b829d1-7d66-4a25-ba2f-a7994c3aad51\",\"type\":\"ResetTool\"},{\"attributes\":{\"plot\":null,\"text\":\"\"},\"id\":\"14e8d676-dbbf-4d78-82bd-67a19893c376\",\"type\":\"Title\"},{\"attributes\":{\"fill_alpha\":{\"value\":0.1},\"fill_color\":{\"value\":\"#1f77b4\"},\"line_alpha\":{\"value\":0.1},\"line_color\":{\"value\":\"#1f77b4\"},\"x\":{\"field\":\"x\"},\"y\":{\"field\":\"y\"}},\"id\":\"322516e2-f6d1-4c04-839c-c5510c947cfa\",\"type\":\"Circle\"},{\"attributes\":{\"source\":{\"id\":\"4a97adbc-688b-482e-b3d3-b71258cbded8\",\"type\":\"ColumnDataSource\"}},\"id\":\"389fe19c-d882-4665-9f4a-69ac4bdc78cf\",\"type\":\"CDSView\"},{\"attributes\":{\"line_alpha\":0.1,\"line_color\":\"#1f77b4\",\"line_width\":1.5,\"x\":{\"field\":\"x\"},\"y\":{\"field\":\"y\"}},\"id\":\"e04e9175-3c4c-480f-ab69-6d885c87d0a6\",\"type\":\"Line\"},{\"attributes\":{\"fill_alpha\":{\"value\":0.7},\"fill_color\":{\"value\":\"#4daf4a\"},\"line_alpha\":{\"value\":0.7},\"line_color\":{\"value\":\"#4daf4a\"},\"x\":{\"field\":\"x\"},\"y\":{\"field\":\"y\"}},\"id\":\"c41fe84d-1f24-484e-a48e-f6b31c515ec7\",\"type\":\"Circle\"},{\"attributes\":{\"bottom_units\":\"screen\",\"fill_alpha\":{\"value\":0.5},\"fill_color\":{\"value\":\"lightgrey\"},\"left_units\":\"screen\",\"level\":\"overlay\",\"line_alpha\":{\"value\":1.0},\"line_color\":{\"value\":\"black\"},\"line_dash\":[4,4],\"line_width\":{\"value\":2},\"plot\":null,\"render_mode\":\"css\",\"right_units\":\"screen\",\"top_units\":\"screen\"},\"id\":\"4490d10f-c553-4c10-8bd2-c75acfea3a6f\",\"type\":\"BoxAnnotation\"},{\"attributes\":{},\"id\":\"5c05900c-1e06-43af-b91b-90458d2b6dda\",\"type\":\"WheelZoomTool\"},{\"attributes\":{\"line_alpha\":0.6,\"line_color\":\"#377eb8\",\"line_dash\":[6],\"line_width\":5,\"x\":{\"field\":\"x\"},\"y\":{\"field\":\"y\"}},\"id\":\"36ce4114-c559-42f9-90ee-79e4d15c226b\",\"type\":\"Line\"},{\"attributes\":{\"active_drag\":\"auto\",\"active_inspect\":\"auto\",\"active_scroll\":\"auto\",\"active_tap\":\"auto\",\"tools\":[{\"id\":\"21de352f-0c39-4685-8d53-0b73ceb12e42\",\"type\":\"PanTool\"},{\"id\":\"f83cf657-df20-4d65-9e25-8c4bc3ec9dc4\",\"type\":\"WheelZoomTool\"},{\"id\":\"fde589d8-84da-4c91-b2a1-c6752c635a3b\",\"type\":\"BoxZoomTool\"},{\"id\":\"aeedfbd6-7029-4311-864e-c1395f481b48\",\"type\":\"SaveTool\"},{\"id\":\"c63fb631-08fd-4789-aa64-1d8b7a59008a\",\"type\":\"ResetTool\"},{\"id\":\"33ab2422-aaa9-4e01-87a1-403ad171ee5d\",\"type\":\"HelpTool\"}]},\"id\":\"d2b468ac-a11a-48d5-85ae-cc4102cac44b\",\"type\":\"Toolbar\"},{\"attributes\":{\"active_drag\":\"auto\",\"active_inspect\":\"auto\",\"active_scroll\":\"auto\",\"active_tap\":\"auto\",\"tools\":[{\"id\":\"c9994091-a74e-45b7-a827-4b314978ec4b\",\"type\":\"PanTool\"},{\"id\":\"5c05900c-1e06-43af-b91b-90458d2b6dda\",\"type\":\"WheelZoomTool\"},{\"id\":\"ab940919-220f-41e6-b370-b63a7b418aae\",\"type\":\"BoxZoomTool\"},{\"id\":\"dff98bc6-9b30-440c-8347-6b47860e5cbd\",\"type\":\"SaveTool\"},{\"id\":\"85b829d1-7d66-4a25-ba2f-a7994c3aad51\",\"type\":\"ResetTool\"},{\"id\":\"3c4007cd-9ad5-41ee-b002-ecc1ed136796\",\"type\":\"HelpTool\"}]},\"id\":\"ce45ebcd-3f6a-406a-aca9-d5a3988b8f58\",\"type\":\"Toolbar\"},{\"attributes\":{\"children\":[{\"id\":\"4304fdb0-9c7d-45ba-8d04-d180944b12d9\",\"type\":\"Row\"}]},\"id\":\"cef62f64-dfbf-44e3-85b1-1328c53ffddb\",\"type\":\"Column\"},{\"attributes\":{},\"id\":\"c9994091-a74e-45b7-a827-4b314978ec4b\",\"type\":\"PanTool\"},{\"attributes\":{},\"id\":\"3c4007cd-9ad5-41ee-b002-ecc1ed136796\",\"type\":\"HelpTool\"},{\"attributes\":{\"bottom_units\":\"screen\",\"fill_alpha\":{\"value\":0.5},\"fill_color\":{\"value\":\"lightgrey\"},\"left_units\":\"screen\",\"level\":\"overlay\",\"line_alpha\":{\"value\":1.0},\"line_color\":{\"value\":\"black\"},\"line_dash\":[4,4],\"line_width\":{\"value\":2},\"plot\":null,\"render_mode\":\"css\",\"right_units\":\"screen\",\"top_units\":\"screen\"},\"id\":\"fb975b59-22e4-402d-aa36-49ee9752c088\",\"type\":\"BoxAnnotation\"},{\"attributes\":{},\"id\":\"f8b25a49-e151-48f4-8a3d-3f37973f64d8\",\"type\":\"HelpTool\"},{\"attributes\":{},\"id\":\"27021d42-c0a1-4d47-962e-fd9b5d5d0d0c\",\"type\":\"LinearScale\"},{\"attributes\":{},\"id\":\"eeee2a56-1bdf-4057-ac78-3056edafe76f\",\"type\":\"LinearScale\"},{\"attributes\":{},\"id\":\"db27f793-5b4b-4efa-9d5d-afdaf2a9a18a\",\"type\":\"Selection\"},{\"attributes\":{\"callback\":null,\"data\":{\"x\":{\"__ndarray__\":\"rBrqFsOVQECFVC8xKI48QKKQVGj6Wj5AUptm5ED1PkB35NzxPgc+QBPBnX78iTtAHhQNcUzZN0DMRG/x39EzQPgxEKV+gDBARntk1AJCLUBZsDuNK1EsQE+qe93X2SxAZM6wkFS3LUB1rqfz7zwtQDZY/FmBoSpA65BLiWlIJ0D7dGBC5XUkQA1OmIhB0SJAjAOBA2ujIkAq1kEVq7ojQBtcywacKSZAwspcSMyqJUBroqAgDCchQIVPb9y6YRlAgs66Bk1nE0BMOLoflbQPQKWKHdpUvgpAvoWyzDbQBUAYdP/0ziYCQFdgB1y0dP8/UZwBs0MK/T/JWLiNeNj4P0dDH5JCL/Q/J1ORKL8e8T+Zit+0JMXuP2bVNWkzW+w/2jySnTx95z8VO26//yjhP95zXnftz90/4jJq5vYs3T9us8TByafePw/9JkpZT94/eKe3HDrl3D8H3n4kc2HaPxFVp1et8NI/oCASCp8D0T/w+qXcbkLcP5vKU8aSv+M/M+wlcl+z6z8oVQ/lNyvyP051EkX+bvU/IOKgTJeT9z8AMAHLqnH4P3kL/5uNbvg/TrBNXOY8+D9PBq0Zt+73P4PQidpAffc/hpDbPaXk9j/yCJ8CqDL2P0xTv2Ncf/U/7sKESeC39D/gFi9EdejzP63qLAQHEfM/plbtUExH8j/qFc0FWZ/xP38i3hjMLPE/SogwRUsL8T+daOqEtk3xP/Aaxm3MpPE/9rr+iiDR8z/WwzcX9hnyP1yxc15Z9e4/hXQrVXjA6T8iOxIX1zPlPxawqH5hVt4/\",\"dtype\":\"float64\",\"shape\":[75]},\"y\":{\"__ndarray__\":\"GhExyth1ND/Sv8nbtpRIP2vylNV0PVE/aTum7souWD/At0SJ8fVgPw3Iuahxymc/MSNhhJWvcD/bTfBN02d3P2zb5nxnaoA/CD5h5MAGhz8NmeH1TyaQP+zrCsc9p5Y/LbKd76fGnz/bLW5ISEmmPww9YvTcQq8/JV2OstnstT8Er5Y7M8G+P0c+r3jqkcU/5h99k6ZBzj88bCIzFzjVP4enV8oyxN0//yH99nXg5D8qOpLLf0jtP5kqGJXUifQ/c9cS8kHP/D+/DpwzojQEQIEmwoanVwxA4lgXt9HgE0BSSZ2AJuIbQAMJih9jjiNA5q4l5INuK0AwTKYKRj0zQNv5fmq8/DpAaCJseHrtQkB/+zpwzoxKQM3MzMzMeFJAZmZmZmZqWEAAAAAAAFxeQM3MzMzMJmJAmpmZmZkfZUBmZmZmZhhoQDMzMzMzEWtAAAAAAAAKbkBmZmZmZoFwQM3MzMzM/XFAMzMzMzN6c0CamZmZmfZ0QAAAAAAAc3ZAZmZmZmbvd0DNzMzMzGt5QDMzMzMz6HpAmpmZmZlkfEAAAAAAAOF9QGZmZmZmXX9AZmZmZuZsgECamZmZGSuBQM3MzMxM6YFAAAAAAICngkAzMzMzs2WDQGZmZmbmI4RAmpmZmRnihEDNzMzMTKCFQAAAAACAXoZAMzMzM7Mch0BmZmZm5tqHQJqZmZkZmYhAzczMzExXiUAAAAAAgBWKQDMzMzOz04pAZmZmZuaRi0CamZmZGVCMQM3MzMxMDo1AAAAAAIDMjUAzMzMzs4qOQGZmZmbmSI9A\",\"dtype\":\"float64\",\"shape\":[75]}},\"selected\":{\"id\":\"1b9e7e7a-4a96-482e-b58d-291882b7a22e\",\"type\":\"Selection\"},\"selection_policy\":{\"id\":\"16980109-83a0-44ad-831b-653cdf71e9c6\",\"type\":\"UnionRenderers\"}},\"id\":\"be573237-f5a9-4a2d-8dcf-624d17d6a7be\",\"type\":\"ColumnDataSource\"},{\"attributes\":{},\"id\":\"b0dbba0b-498f-4872-a057-e904c41a519a\",\"type\":\"BasicTickFormatter\"},{\"attributes\":{\"overlay\":{\"id\":\"4490d10f-c553-4c10-8bd2-c75acfea3a6f\",\"type\":\"BoxAnnotation\"}},\"id\":\"ab940919-220f-41e6-b370-b63a7b418aae\",\"type\":\"BoxZoomTool\"},{\"attributes\":{\"items\":[{\"id\":\"7b396673-0817-45d8-9481-19dcd6dca68d\",\"type\":\"LegendItem\"}],\"label_text_font_size\":{\"value\":\"8pt\"},\"location\":\"top_center\",\"orientation\":\"horizontal\",\"plot\":{\"id\":\"b42aeb71-4020-4b2c-a7b2-aa1f1d57780b\",\"subtype\":\"Figure\",\"type\":\"Plot\"}},\"id\":\"67dc6371-c0c3-4cc0-9d0e-2ac748be9d2e\",\"type\":\"Legend\"},{\"attributes\":{\"items\":[{\"id\":\"c87e46eb-05f0-43ad-835a-0c97eceb41e5\",\"type\":\"LegendItem\"},{\"id\":\"eb8990e8-227e-42a4-8648-782c8ba75931\",\"type\":\"LegendItem\"}],\"label_text_font_size\":{\"value\":\"8pt\"},\"location\":\"top_center\",\"orientation\":\"horizontal\",\"plot\":{\"id\":\"76eac6ce-dfcb-41b0-96cc-90ef3559fe55\",\"subtype\":\"Figure\",\"type\":\"Plot\"}},\"id\":\"5b149c7f-d3d4-411c-84d3-780fab320b68\",\"type\":\"Legend\"},{\"attributes\":{\"above\":[{\"id\":\"5b149c7f-d3d4-411c-84d3-780fab320b68\",\"type\":\"Legend\"}],\"below\":[{\"id\":\"7f583747-14bb-499c-91c0-a8d5874dbd93\",\"type\":\"LinearAxis\"}],\"left\":[{\"id\":\"c5399d8b-fc04-4c69-802d-914c4a690d0e\",\"type\":\"LinearAxis\"}],\"plot_width\":300,\"renderers\":[{\"id\":\"7f583747-14bb-499c-91c0-a8d5874dbd93\",\"type\":\"LinearAxis\"},{\"id\":\"3568d927-db70-4e95-9473-51df673fb34e\",\"type\":\"Grid\"},{\"id\":\"c5399d8b-fc04-4c69-802d-914c4a690d0e\",\"type\":\"LinearAxis\"},{\"id\":\"99446a07-f70d-43c5-87a9-bf0a40cab992\",\"type\":\"Grid\"},{\"id\":\"44829553-a3a8-4275-a282-d5cb8a20c477\",\"type\":\"BoxAnnotation\"},{\"id\":\"5c4ff41f-143a-48a7-9829-d47f75d2ce88\",\"type\":\"GlyphRenderer\"},{\"id\":\"c6356466-d468-4e1f-a53c-96e43c5f5db1\",\"type\":\"GlyphRenderer\"},{\"id\":\"bfa84273-b350-4ed0-bd3f-c9268d1ac702\",\"type\":\"GlyphRenderer\"},{\"id\":\"5b149c7f-d3d4-411c-84d3-780fab320b68\",\"type\":\"Legend\"}],\"title\":{\"id\":\"14e8d676-dbbf-4d78-82bd-67a19893c376\",\"type\":\"Title\"},\"toolbar\":{\"id\":\"d2b468ac-a11a-48d5-85ae-cc4102cac44b\",\"type\":\"Toolbar\"},\"toolbar_location\":null,\"x_range\":{\"id\":\"feb05d99-8289-421d-a267-acae93a046ee\",\"type\":\"Range1d\"},\"x_scale\":{\"id\":\"eeee2a56-1bdf-4057-ac78-3056edafe76f\",\"type\":\"LinearScale\"},\"y_range\":{\"id\":\"5d061dbe-9feb-49f6-9e4f-986657c7e128\",\"type\":\"Range1d\"},\"y_scale\":{\"id\":\"27021d42-c0a1-4d47-962e-fd9b5d5d0d0c\",\"type\":\"LinearScale\"}},\"id\":\"76eac6ce-dfcb-41b0-96cc-90ef3559fe55\",\"subtype\":\"Figure\",\"type\":\"Plot\"},{\"attributes\":{},\"id\":\"c673a436-cd86-478b-b89c-4f973facc4ae\",\"type\":\"UnionRenderers\"},{\"attributes\":{},\"id\":\"1d7f3ee0-d64d-4342-912f-909103e55d55\",\"type\":\"Selection\"},{\"attributes\":{},\"id\":\"0f663b95-9b34-4d87-947c-c4d8c4aea9ea\",\"type\":\"LogScale\"},{\"attributes\":{\"ticker\":null},\"id\":\"19b76e3b-f269-47ee-a30b-2ecb699f1eaa\",\"type\":\"LogTickFormatter\"},{\"attributes\":{\"num_minor_ticks\":10},\"id\":\"e60739d1-2507-4758-ba66-f81b9fdc3ea5\",\"type\":\"LogTicker\"},{\"attributes\":{\"callback\":null,\"data\":{\"x\":{\"__ndarray__\":\"+DIYzSfeQ8ADSyc6JvYYwLTQYDfqpAPA+O9NsLUe8j+ndYjj8ZsLQAF2sowZ2g9AWJ7jTizLBkBzJnliSDrrP4ckTQqmmu2/yIn9Xbll+r/JDtlCfBv0vzBtL7R6y9S/S0z/YzCq4D9RXHsTOubuP0LadZl6Ae0/dkdbHzgO2T8gP4OVa97Qv6dKvimeXuW/b5f1lFZy5b89MnadIX3avxDzPaQG4cG/QZDrasUbsj8qxYtq7i7BP9oYbF5hAbq/0B2QLF9yzb8woeBAjRqhvzE6QhliW9E/2dtVmWDw0T9iy9OmZy68P3XlwRgMmKA/6OXDpjhDxD/NCvR1tBTNP0tccmf80MA/kR+5P9Bjd7/+eIVwnghnP3pZTI32QrM/tZBOmvsjqD8gW4ODHuaYv3qCLJpbsrO/EnzuYOkStr8oGm8gFrOyv9/c1pAIzay/ofPvAbSOpb8B/UhJYXeav6yCnM7sxpC/hpUy0XwXhr9Mn53DEuFBv0aNEOOb1HS/0eQ2hbZkm78yaLzNbqeqvxJj7zybiKq/qUS6gZ7Jor+WR8ckxmOjv355VJ2o16q/eLAPjvieqr89svGCvmulv0MouvGYyJ+/WZBD+ONzmL+7AAA18s+Tv6Kofz3cVoq/51drxdN7hL9dlz8bDACCvw8QIqqL84S/KORqulcTh7+htJlELhGFv6wZW7a8DHy/UHC3pGLcT7/+hXsOcK18Py2/jCKe/ok/RvRFJAX0xT+a4gwmR3/FP8ROYJHSucQ/f+cCHNykwz9+Ocqw96rCP8VuhrjFnsE/\",\"dtype\":\"float64\",\"shape\":[75]},\"y\":{\"__ndarray__\":\"GhExyth1ND/Sv8nbtpRIP2vylNV0PVE/aTum7souWD/At0SJ8fVgPw3Iuahxymc/MSNhhJWvcD/bTfBN02d3P2zb5nxnaoA/CD5h5MAGhz8NmeH1TyaQP+zrCsc9p5Y/LbKd76fGnz/bLW5ISEmmPww9YvTcQq8/JV2OstnstT8Er5Y7M8G+P0c+r3jqkcU/5h99k6ZBzj88bCIzFzjVP4enV8oyxN0//yH99nXg5D8qOpLLf0jtP5kqGJXUifQ/c9cS8kHP/D+/DpwzojQEQIEmwoanVwxA4lgXt9HgE0BSSZ2AJuIbQAMJih9jjiNA5q4l5INuK0AwTKYKRj0zQNv5fmq8/DpAaCJseHrtQkB/+zpwzoxKQM3MzMzMeFJAZmZmZmZqWEAAAAAAAFxeQM3MzMzMJmJAmpmZmZkfZUBmZmZmZhhoQDMzMzMzEWtAAAAAAAAKbkBmZmZmZoFwQM3MzMzM/XFAMzMzMzN6c0CamZmZmfZ0QAAAAAAAc3ZAZmZmZmbvd0DNzMzMzGt5QDMzMzMz6HpAmpmZmZlkfEAAAAAAAOF9QGZmZmZmXX9AZmZmZuZsgECamZmZGSuBQM3MzMxM6YFAAAAAAICngkAzMzMzs2WDQGZmZmbmI4RAmpmZmRnihEDNzMzMTKCFQAAAAACAXoZAMzMzM7Mch0BmZmZm5tqHQJqZmZkZmYhAzczMzExXiUAAAAAAgBWKQDMzMzOz04pAZmZmZuaRi0CamZmZGVCMQM3MzMxMDo1AAAAAAIDMjUAzMzMzs4qOQGZmZmbmSI9A\",\"dtype\":\"float64\",\"shape\":[75]}},\"selected\":{\"id\":\"2672815f-a5f7-4179-b777-3586aa7abdd4\",\"type\":\"Selection\"},\"selection_policy\":{\"id\":\"4b68aa98-083f-45a0-bd88-903cf60dfa02\",\"type\":\"UnionRenderers\"}},\"id\":\"c0bf90a0-2777-40f7-9e46-c31a3ecab549\",\"type\":\"ColumnDataSource\"},{\"attributes\":{},\"id\":\"2672815f-a5f7-4179-b777-3586aa7abdd4\",\"type\":\"Selection\"},{\"attributes\":{},\"id\":\"bb40819b-ac4c-444e-83c5-0cbfd8f6d8db\",\"type\":\"UnionRenderers\"},{\"attributes\":{},\"id\":\"4bd92fa2-db14-46c6-b597-5dfa0a509b69\",\"type\":\"UnionRenderers\"},{\"attributes\":{},\"id\":\"9c9031eb-0186-4c1e-abae-4a223a78e082\",\"type\":\"LogScale\"},{\"attributes\":{},\"id\":\"4d8546c9-ceaf-45d4-add7-4bb1b166e0c3\",\"type\":\"PanTool\"},{\"attributes\":{\"callback\":null,\"end\":0.01,\"start\":1020},\"id\":\"174b5264-5491-4453-b78a-8bde362f7acc\",\"type\":\"Range1d\"},{\"attributes\":{},\"id\":\"138e6930-56d2-4233-9cc5-b80b6b4b1cda\",\"type\":\"LinearScale\"},{\"attributes\":{},\"id\":\"197d4a03-1c61-4172-b38b-2586aa713501\",\"type\":\"BasicTicker\"},{\"attributes\":{},\"id\":\"2c97c134-2a7b-45e0-8cf7-06a832a815b4\",\"type\":\"BasicTicker\"},{\"attributes\":{\"source\":{\"id\":\"a865ec46-6ea7-4045-8bd7-64bef058c7d4\",\"type\":\"ColumnDataSource\"}},\"id\":\"69dcdb82-a9e8-4af4-981a-89737fec24da\",\"type\":\"CDSView\"},{\"attributes\":{\"num_minor_ticks\":10},\"id\":\"d12cba55-7cc1-4a3e-872f-3ae5c5947c5d\",\"type\":\"LogTicker\"},{\"attributes\":{\"callback\":null,\"data\":{\"x\":{\"__ndarray__\":\"0CYBcvU5UkCik9zf2GVBQF1VoNfLZ0BAVLxhiVXTPUDD1Wu1wJM6QFJyB025jjdAU6Aw5+b/NECYe1uuDfgyQB6bYtVTbTFAPxYSAF1HMEA00pYVm9QuQLolHbMzgC1AntlwirGsLECv+G9SjE4rQJH6ZLBp0ShAsLZQyPd/JkDyjgyf2PwkQLgyNGsrJyRAA13QbJD6I0C8hy0ilI4kQOVTXCEgcSZAovOGvZSGJUBVc/ZmUOIgQOf/6GHAyRlAcE8fAOBSFEDRur1U//gPQGFD9ZbokghAQsqHuSqSA0C91ci3W0UBQCtRQfvz7/4/kh8pntyB+j9t1/n+4TX1P773MAUjFfI/RgzR+CI28T8hBW8WHK7uPzVKjJfU8uk/0FPt4/z65T/wVYqzMPDhPz7K9C5CXuE/8+hSn9hY4T/9PPCkR6rhP1XsIC599OA/66X1nBCX3z/YbRM56QjcPz4dkSQc/dM/S7Wb8Fq00T+/yQdmX0vcP7TrGf476eM/WqNPJoWO7D9qOH1bcwDzP2bw+R5DQ/Y/RLSuQOQp+D8+aif8yAz5P0Wv6eBKRfk/0i2+IN4R+T/ik8QNFZr4PyS5UD5j/Pc/yJ68zXRG9z/2CHPL54H2P59SOhwKtPU/npkP8dfg9D8NlmVcdQz0P80ugRvuOvM/byxiAHN18j9USVZie8nxP5l9lNXYSPE/OB+F0UYP8T8Y7dsUCTHxP3EBgTHPcPE/bfx15p8S8T8FT+xkGtTuP6mdG7rkxuk/pboqTkHX5D/CrN8qGYngP7R4ZaL+htU/\",\"dtype\":\"float64\",\"shape\":[75]},\"y\":{\"__ndarray__\":\"GhExyth1ND/Sv8nbtpRIP2vylNV0PVE/aTum7souWD/At0SJ8fVgPw3Iuahxymc/MSNhhJWvcD/bTfBN02d3P2zb5nxnaoA/CD5h5MAGhz8NmeH1TyaQP+zrCsc9p5Y/LbKd76fGnz/bLW5ISEmmPww9YvTcQq8/JV2OstnstT8Er5Y7M8G+P0c+r3jqkcU/5h99k6ZBzj88bCIzFzjVP4enV8oyxN0//yH99nXg5D8qOpLLf0jtP5kqGJXUifQ/c9cS8kHP/D+/DpwzojQEQIEmwoanVwxA4lgXt9HgE0BSSZ2AJuIbQAMJih9jjiNA5q4l5INuK0AwTKYKRj0zQNv5fmq8/DpAaCJseHrtQkB/+zpwzoxKQM3MzMzMeFJAZmZmZmZqWEAAAAAAAFxeQM3MzMzMJmJAmpmZmZkfZUBmZmZmZhhoQDMzMzMzEWtAAAAAAAAKbkBmZmZmZoFwQM3MzMzM/XFAMzMzMzN6c0CamZmZmfZ0QAAAAAAAc3ZAZmZmZmbvd0DNzMzMzGt5QDMzMzMz6HpAmpmZmZlkfEAAAAAAAOF9QGZmZmZmXX9AZmZmZuZsgECamZmZGSuBQM3MzMxM6YFAAAAAAICngkAzMzMzs2WDQGZmZmbmI4RAmpmZmRnihEDNzMzMTKCFQAAAAACAXoZAMzMzM7Mch0BmZmZm5tqHQJqZmZkZmYhAzczMzExXiUAAAAAAgBWKQDMzMzOz04pAZmZmZuaRi0CamZmZGVCMQM3MzMxMDo1AAAAAAIDMjUAzMzMzs4qOQGZmZmbmSI9A\",\"dtype\":\"float64\",\"shape\":[75]}},\"selected\":{\"id\":\"240b28d2-8ef5-49a0-9343-04951e8bd6ac\",\"type\":\"Selection\"},\"selection_policy\":{\"id\":\"bb40819b-ac4c-444e-83c5-0cbfd8f6d8db\",\"type\":\"UnionRenderers\"}},\"id\":\"38d01d5f-e911-402e-90bb-6697c010ad41\",\"type\":\"ColumnDataSource\"},{\"attributes\":{\"dimension\":1,\"plot\":{\"id\":\"d639e424-e2c1-440e-acc0-f93907c32823\",\"subtype\":\"Figure\",\"type\":\"Plot\"},\"ticker\":{\"id\":\"e60739d1-2507-4758-ba66-f81b9fdc3ea5\",\"type\":\"LogTicker\"}},\"id\":\"c92a3893-4665-4cc8-8871-b06c1c1bcc18\",\"type\":\"Grid\"},{\"attributes\":{},\"id\":\"d5ec9da8-acce-4058-bc5c-dd13ddf28e33\",\"type\":\"Selection\"},{\"attributes\":{\"overlay\":{\"id\":\"fb975b59-22e4-402d-aa36-49ee9752c088\",\"type\":\"BoxAnnotation\"}},\"id\":\"613c29af-988d-45a3-b975-cbbb89f9563a\",\"type\":\"BoxZoomTool\"},{\"attributes\":{\"fill_alpha\":{\"value\":0.7},\"fill_color\":{\"value\":\"#4daf4a\"},\"line_alpha\":{\"value\":0.7},\"line_color\":{\"value\":\"#4daf4a\"},\"x\":{\"field\":\"x\"},\"y\":{\"field\":\"y\"}},\"id\":\"12e23830-6c92-457b-8e7d-5bc32f6bf781\",\"type\":\"Circle\"},{\"attributes\":{},\"id\":\"240b28d2-8ef5-49a0-9343-04951e8bd6ac\",\"type\":\"Selection\"},{\"attributes\":{\"data_source\":{\"id\":\"a865ec46-6ea7-4045-8bd7-64bef058c7d4\",\"type\":\"ColumnDataSource\"},\"glyph\":{\"id\":\"8c4f23d4-8f09-4ff9-adbc-ff9a64d20b0c\",\"type\":\"Line\"},\"hover_glyph\":null,\"muted_glyph\":null,\"nonselection_glyph\":{\"id\":\"a5b555b8-b6fe-4487-a821-1d1a4a73e414\",\"type\":\"Line\"},\"selection_glyph\":null,\"view\":{\"id\":\"69dcdb82-a9e8-4af4-981a-89737fec24da\",\"type\":\"CDSView\"}},\"id\":\"bfa84273-b350-4ed0-bd3f-c9268d1ac702\",\"type\":\"GlyphRenderer\"},{\"attributes\":{\"plot\":null,\"text\":\"\"},\"id\":\"7bf0284d-b213-40a2-80da-10577695c656\",\"type\":\"Title\"},{\"attributes\":{\"axis_label\":\"pressure [mb]\",\"formatter\":{\"id\":\"c628eb01-b533-4809-82ec-10653349a699\",\"type\":\"LogTickFormatter\"},\"plot\":{\"id\":\"d639e424-e2c1-440e-acc0-f93907c32823\",\"subtype\":\"Figure\",\"type\":\"Plot\"},\"ticker\":{\"id\":\"e60739d1-2507-4758-ba66-f81b9fdc3ea5\",\"type\":\"LogTicker\"}},\"id\":\"5d994b76-1a54-4cb3-947a-476d6a16ea98\",\"type\":\"LogAxis\"},{\"attributes\":{\"above\":[{\"id\":\"67dc6371-c0c3-4cc0-9d0e-2ac748be9d2e\",\"type\":\"Legend\"}],\"below\":[{\"id\":\"2184224e-c7c1-4bfe-b16f-b55e80fab559\",\"type\":\"LinearAxis\"}],\"left\":[{\"id\":\"3a630bd8-00fa-4c47-84f4-713c111e6991\",\"type\":\"LogAxis\"}],\"plot_width\":300,\"renderers\":[{\"id\":\"2184224e-c7c1-4bfe-b16f-b55e80fab559\",\"type\":\"LinearAxis\"},{\"id\":\"983d3501-c03a-4163-bfc1-d60ae0ad99ec\",\"type\":\"Grid\"},{\"id\":\"3a630bd8-00fa-4c47-84f4-713c111e6991\",\"type\":\"LogAxis\"},{\"id\":\"8aac093d-48d3-4992-8d29-a64e822859e3\",\"type\":\"Grid\"},{\"id\":\"4490d10f-c553-4c10-8bd2-c75acfea3a6f\",\"type\":\"BoxAnnotation\"},{\"id\":\"c3722579-7647-4ba4-a1c1-1308ee05f914\",\"type\":\"GlyphRenderer\"},{\"id\":\"fd6ef6fd-873e-4395-b962-242e8aeb2e99\",\"type\":\"GlyphRenderer\"},{\"id\":\"67dc6371-c0c3-4cc0-9d0e-2ac748be9d2e\",\"type\":\"Legend\"}],\"title\":{\"id\":\"7bf0284d-b213-40a2-80da-10577695c656\",\"type\":\"Title\"},\"toolbar\":{\"id\":\"ce45ebcd-3f6a-406a-aca9-d5a3988b8f58\",\"type\":\"Toolbar\"},\"toolbar_location\":null,\"x_range\":{\"id\":\"16dc8ca8-720c-4941-8f16-46dcb0150314\",\"type\":\"Range1d\"},\"x_scale\":{\"id\":\"8b4e8767-a6cd-4e81-b3df-2e1e44538329\",\"type\":\"LinearScale\"},\"y_range\":{\"id\":\"174b5264-5491-4453-b78a-8bde362f7acc\",\"type\":\"Range1d\"},\"y_scale\":{\"id\":\"0f663b95-9b34-4d87-947c-c4d8c4aea9ea\",\"type\":\"LogScale\"}},\"id\":\"b42aeb71-4020-4b2c-a7b2-aa1f1d57780b\",\"subtype\":\"Figure\",\"type\":\"Plot\"},{\"attributes\":{\"callback\":null,\"end\":0.01,\"start\":1020},\"id\":\"aaf90107-ade2-4469-b959-473e13d95dc0\",\"type\":\"Range1d\"},{\"attributes\":{},\"id\":\"72082897-999a-4956-9074-5ef221fc914c\",\"type\":\"UnionRenderers\"},{\"attributes\":{\"callback\":null,\"end\":0.9917582531953302,\"start\":-1.6759893714923295},\"id\":\"16dc8ca8-720c-4941-8f16-46dcb0150314\",\"type\":\"Range1d\"},{\"attributes\":{},\"id\":\"797b5894-cf97-42bf-96ae-9df8c9bb4a55\",\"type\":\"UnionRenderers\"},{\"attributes\":{\"fill_alpha\":{\"value\":0.1},\"fill_color\":{\"value\":\"#1f77b4\"},\"line_alpha\":{\"value\":0.1},\"line_color\":{\"value\":\"#1f77b4\"},\"x\":{\"field\":\"x\"},\"y\":{\"field\":\"y\"}},\"id\":\"feed77bc-a3b3-4d3b-a04e-59943a9cefb2\",\"type\":\"Circle\"},{\"attributes\":{},\"id\":\"ee2e0c7f-55c6-44cf-ac3e-9d9f93d94238\",\"type\":\"UnionRenderers\"},{\"attributes\":{\"line_alpha\":0.1,\"line_color\":\"#1f77b4\",\"line_dash\":[6],\"line_width\":5,\"x\":{\"field\":\"x\"},\"y\":{\"field\":\"y\"}},\"id\":\"e45b3acf-820b-4a8f-b3ff-d11178b975b0\",\"type\":\"Line\"},{\"attributes\":{\"above\":[{\"id\":\"fe33a4f7-76b7-4c6d-b0e9-0b77c9634878\",\"type\":\"Legend\"}],\"below\":[{\"id\":\"21bfa84e-87fc-4423-bb37-5fcc1211b21b\",\"type\":\"LinearAxis\"}],\"left\":[{\"id\":\"5d994b76-1a54-4cb3-947a-476d6a16ea98\",\"type\":\"LogAxis\"}],\"plot_width\":300,\"renderers\":[{\"id\":\"21bfa84e-87fc-4423-bb37-5fcc1211b21b\",\"type\":\"LinearAxis\"},{\"id\":\"29a454a1-0aaa-4f3c-8aa0-3be3c0d691d5\",\"type\":\"Grid\"},{\"id\":\"5d994b76-1a54-4cb3-947a-476d6a16ea98\",\"type\":\"LogAxis\"},{\"id\":\"c92a3893-4665-4cc8-8871-b06c1c1bcc18\",\"type\":\"Grid\"},{\"id\":\"fb975b59-22e4-402d-aa36-49ee9752c088\",\"type\":\"BoxAnnotation\"},{\"id\":\"52b2f4b4-ff09-4cdf-a7ad-e34e9cd1f6aa\",\"type\":\"GlyphRenderer\"},{\"id\":\"4ea70b99-e0d7-4c01-a35e-4cfb9506d961\",\"type\":\"GlyphRenderer\"},{\"id\":\"599012fc-9be5-402c-8948-48466e423f8a\",\"type\":\"GlyphRenderer\"},{\"id\":\"fe33a4f7-76b7-4c6d-b0e9-0b77c9634878\",\"type\":\"Legend\"}],\"title\":{\"id\":\"d5236f51-ae2c-4109-b498-8e7a50bea407\",\"type\":\"Title\"},\"toolbar\":{\"id\":\"b6ad1978-4551-4e88-90a5-733ef3b3e863\",\"type\":\"Toolbar\"},\"toolbar_location\":null,\"x_range\":{\"id\":\"1b06af05-110a-4993-9dab-d7fe7f7db7a4\",\"type\":\"Range1d\"},\"x_scale\":{\"id\":\"138e6930-56d2-4233-9cc5-b80b6b4b1cda\",\"type\":\"LinearScale\"},\"y_range\":{\"id\":\"aaf90107-ade2-4469-b959-473e13d95dc0\",\"type\":\"Range1d\"},\"y_scale\":{\"id\":\"9c9031eb-0186-4c1e-abae-4a223a78e082\",\"type\":\"LogScale\"}},\"id\":\"d639e424-e2c1-440e-acc0-f93907c32823\",\"subtype\":\"Figure\",\"type\":\"Plot\"},{\"attributes\":{\"plot\":{\"id\":\"d639e424-e2c1-440e-acc0-f93907c32823\",\"subtype\":\"Figure\",\"type\":\"Plot\"},\"ticker\":{\"id\":\"197d4a03-1c61-4172-b38b-2586aa713501\",\"type\":\"BasicTicker\"}},\"id\":\"29a454a1-0aaa-4f3c-8aa0-3be3c0d691d5\",\"type\":\"Grid\"},{\"attributes\":{\"plot\":{\"id\":\"b42aeb71-4020-4b2c-a7b2-aa1f1d57780b\",\"subtype\":\"Figure\",\"type\":\"Plot\"},\"ticker\":{\"id\":\"2c97c134-2a7b-45e0-8cf7-06a832a815b4\",\"type\":\"BasicTicker\"}},\"id\":\"983d3501-c03a-4163-bfc1-d60ae0ad99ec\",\"type\":\"Grid\"},{\"attributes\":{},\"id\":\"13f8e0eb-b0aa-427f-8b79-26c2b19b30d3\",\"type\":\"BasicTickFormatter\"},{\"attributes\":{\"dimension\":1,\"plot\":{\"id\":\"b42aeb71-4020-4b2c-a7b2-aa1f1d57780b\",\"subtype\":\"Figure\",\"type\":\"Plot\"},\"ticker\":{\"id\":\"d12cba55-7cc1-4a3e-872f-3ae5c5947c5d\",\"type\":\"LogTicker\"}},\"id\":\"8aac093d-48d3-4992-8d29-a64e822859e3\",\"type\":\"Grid\"},{\"attributes\":{\"line_color\":\"#4daf4a\",\"line_width\":1.5,\"x\":{\"field\":\"x\"},\"y\":{\"field\":\"y\"}},\"id\":\"8c4f23d4-8f09-4ff9-adbc-ff9a64d20b0c\",\"type\":\"Line\"},{\"attributes\":{\"label\":{\"value\":\"CLIRAD (single-run)\"},\"renderers\":[{\"id\":\"52b2f4b4-ff09-4cdf-a7ad-e34e9cd1f6aa\",\"type\":\"GlyphRenderer\"}]},\"id\":\"6011ebd5-dbc5-4d0a-945b-7cbf9021baa2\",\"type\":\"LegendItem\"},{\"attributes\":{\"label\":{\"value\":\"CRD\"},\"renderers\":[{\"id\":\"c6356466-d468-4e1f-a53c-96e43c5f5db1\",\"type\":\"GlyphRenderer\"},{\"id\":\"bfa84273-b350-4ed0-bd3f-c9268d1ac702\",\"type\":\"GlyphRenderer\"}]},\"id\":\"eb8990e8-227e-42a4-8648-782c8ba75931\",\"type\":\"LegendItem\"},{\"attributes\":{\"callback\":null,\"data\":{\"x\":{\"__ndarray__\":\"rBrqFsOVQECFVC8xKI48QKKQVGj6Wj5AUptm5ED1PkB35NzxPgc+QBPBnX78iTtAHhQNcUzZN0DMRG/x39EzQPgxEKV+gDBARntk1AJCLUBZsDuNK1EsQE+qe93X2SxAZM6wkFS3LUB1rqfz7zwtQDZY/FmBoSpA65BLiWlIJ0D7dGBC5XUkQA1OmIhB0SJAjAOBA2ujIkAq1kEVq7ojQBtcywacKSZAwspcSMyqJUBroqAgDCchQIVPb9y6YRlAgs66Bk1nE0BMOLoflbQPQKWKHdpUvgpAvoWyzDbQBUAYdP/0ziYCQFdgB1y0dP8/UZwBs0MK/T/JWLiNeNj4P0dDH5JCL/Q/J1ORKL8e8T+Zit+0JMXuP2bVNWkzW+w/2jySnTx95z8VO26//yjhP95zXnftz90/4jJq5vYs3T9us8TByafePw/9JkpZT94/eKe3HDrl3D8H3n4kc2HaPxFVp1et8NI/oCASCp8D0T/w+qXcbkLcP5vKU8aSv+M/M+wlcl+z6z8oVQ/lNyvyP051EkX+bvU/IOKgTJeT9z8AMAHLqnH4P3kL/5uNbvg/TrBNXOY8+D9PBq0Zt+73P4PQidpAffc/hpDbPaXk9j/yCJ8CqDL2P0xTv2Ncf/U/7sKESeC39D/gFi9EdejzP63qLAQHEfM/plbtUExH8j/qFc0FWZ/xP38i3hjMLPE/SogwRUsL8T+daOqEtk3xP/Aaxm3MpPE/9rr+iiDR8z/WwzcX9hnyP1yxc15Z9e4/hXQrVXjA6T8iOxIX1zPlPxawqH5hVt4/\",\"dtype\":\"float64\",\"shape\":[75]},\"y\":{\"__ndarray__\":\"GhExyth1ND/Sv8nbtpRIP2vylNV0PVE/aTum7souWD/At0SJ8fVgPw3Iuahxymc/MSNhhJWvcD/bTfBN02d3P2zb5nxnaoA/CD5h5MAGhz8NmeH1TyaQP+zrCsc9p5Y/LbKd76fGnz/bLW5ISEmmPww9YvTcQq8/JV2OstnstT8Er5Y7M8G+P0c+r3jqkcU/5h99k6ZBzj88bCIzFzjVP4enV8oyxN0//yH99nXg5D8qOpLLf0jtP5kqGJXUifQ/c9cS8kHP/D+/DpwzojQEQIEmwoanVwxA4lgXt9HgE0BSSZ2AJuIbQAMJih9jjiNA5q4l5INuK0AwTKYKRj0zQNv5fmq8/DpAaCJseHrtQkB/+zpwzoxKQM3MzMzMeFJAZmZmZmZqWEAAAAAAAFxeQM3MzMzMJmJAmpmZmZkfZUBmZmZmZhhoQDMzMzMzEWtAAAAAAAAKbkBmZmZmZoFwQM3MzMzM/XFAMzMzMzN6c0CamZmZmfZ0QAAAAAAAc3ZAZmZmZmbvd0DNzMzMzGt5QDMzMzMz6HpAmpmZmZlkfEAAAAAAAOF9QGZmZmZmXX9AZmZmZuZsgECamZmZGSuBQM3MzMxM6YFAAAAAAICngkAzMzMzs2WDQGZmZmbmI4RAmpmZmRnihEDNzMzMTKCFQAAAAACAXoZAMzMzM7Mch0BmZmZm5tqHQJqZmZkZmYhAzczMzExXiUAAAAAAgBWKQDMzMzOz04pAZmZmZuaRi0CamZmZGVCMQM3MzMxMDo1AAAAAAIDMjUAzMzMzs4qOQGZmZmbmSI9A\",\"dtype\":\"float64\",\"shape\":[75]}},\"selected\":{\"id\":\"1448154c-0c67-4fa8-b112-08789d88e34c\",\"type\":\"Selection\"},\"selection_policy\":{\"id\":\"4bd92fa2-db14-46c6-b597-5dfa0a509b69\",\"type\":\"UnionRenderers\"}},\"id\":\"e35aac08-cfb2-457f-80be-3fe5ff00a744\",\"type\":\"ColumnDataSource\"},{\"attributes\":{\"axis_label\":\"cooling rate [K/day]\",\"formatter\":{\"id\":\"b0dbba0b-498f-4872-a057-e904c41a519a\",\"type\":\"BasicTickFormatter\"},\"plot\":{\"id\":\"d639e424-e2c1-440e-acc0-f93907c32823\",\"subtype\":\"Figure\",\"type\":\"Plot\"},\"ticker\":{\"id\":\"197d4a03-1c61-4172-b38b-2586aa713501\",\"type\":\"BasicTicker\"}},\"id\":\"21bfa84e-87fc-4423-bb37-5fcc1211b21b\",\"type\":\"LinearAxis\"},{\"attributes\":{\"label\":{\"value\":\"CLIRAD (single-run)\"},\"renderers\":[{\"id\":\"5c4ff41f-143a-48a7-9829-d47f75d2ce88\",\"type\":\"GlyphRenderer\"}]},\"id\":\"c87e46eb-05f0-43ad-835a-0c97eceb41e5\",\"type\":\"LegendItem\"},{\"attributes\":{\"items\":[{\"id\":\"6011ebd5-dbc5-4d0a-945b-7cbf9021baa2\",\"type\":\"LegendItem\"},{\"id\":\"c633f90b-f755-40b7-8dd5-a7dc7aa90878\",\"type\":\"LegendItem\"}],\"label_text_font_size\":{\"value\":\"8pt\"},\"location\":\"top_center\",\"orientation\":\"horizontal\",\"plot\":{\"id\":\"d639e424-e2c1-440e-acc0-f93907c32823\",\"subtype\":\"Figure\",\"type\":\"Plot\"}},\"id\":\"fe33a4f7-76b7-4c6d-b0e9-0b77c9634878\",\"type\":\"Legend\"},{\"attributes\":{},\"id\":\"4b68aa98-083f-45a0-bd88-903cf60dfa02\",\"type\":\"UnionRenderers\"},{\"attributes\":{\"line_alpha\":0.1,\"line_color\":\"#1f77b4\",\"line_width\":1.5,\"x\":{\"field\":\"x\"},\"y\":{\"field\":\"y\"}},\"id\":\"a5b555b8-b6fe-4487-a821-1d1a4a73e414\",\"type\":\"Line\"},{\"attributes\":{\"line_alpha\":0.6,\"line_color\":\"#377eb8\",\"line_dash\":[6],\"line_width\":5,\"x\":{\"field\":\"x\"},\"y\":{\"field\":\"y\"}},\"id\":\"389c1e71-58f5-40cb-b059-d52531c99742\",\"type\":\"Line\"},{\"attributes\":{\"source\":{\"id\":\"e35aac08-cfb2-457f-80be-3fe5ff00a744\",\"type\":\"ColumnDataSource\"}},\"id\":\"9ae9810e-f3fa-4a26-bd59-4d9dfd281b67\",\"type\":\"CDSView\"},{\"attributes\":{},\"id\":\"3d2011d7-9d52-427a-9759-37e14b8236f6\",\"type\":\"SaveTool\"},{\"attributes\":{\"axis_label\":\"cooling rate [K/day]\",\"formatter\":{\"id\":\"13f8e0eb-b0aa-427f-8b79-26c2b19b30d3\",\"type\":\"BasicTickFormatter\"},\"plot\":{\"id\":\"b42aeb71-4020-4b2c-a7b2-aa1f1d57780b\",\"subtype\":\"Figure\",\"type\":\"Plot\"},\"ticker\":{\"id\":\"2c97c134-2a7b-45e0-8cf7-06a832a815b4\",\"type\":\"BasicTicker\"}},\"id\":\"2184224e-c7c1-4bfe-b16f-b55e80fab559\",\"type\":\"LinearAxis\"},{\"attributes\":{\"data_source\":{\"id\":\"38d01d5f-e911-402e-90bb-6697c010ad41\",\"type\":\"ColumnDataSource\"},\"glyph\":{\"id\":\"12e23830-6c92-457b-8e7d-5bc32f6bf781\",\"type\":\"Circle\"},\"hover_glyph\":null,\"muted_glyph\":null,\"nonselection_glyph\":{\"id\":\"feed77bc-a3b3-4d3b-a04e-59943a9cefb2\",\"type\":\"Circle\"},\"selection_glyph\":null,\"view\":{\"id\":\"66568ca0-89f7-4280-b054-0df598261fad\",\"type\":\"CDSView\"}},\"id\":\"c6356466-d468-4e1f-a53c-96e43c5f5db1\",\"type\":\"GlyphRenderer\"},{\"attributes\":{\"dimension\":1,\"plot\":{\"id\":\"76eac6ce-dfcb-41b0-96cc-90ef3559fe55\",\"subtype\":\"Figure\",\"type\":\"Plot\"},\"ticker\":{\"id\":\"49fb4bf3-925f-414b-838d-2a1aea4b5ccf\",\"type\":\"BasicTicker\"}},\"id\":\"99446a07-f70d-43c5-87a9-bf0a40cab992\",\"type\":\"Grid\"},{\"attributes\":{\"data_source\":{\"id\":\"e35aac08-cfb2-457f-80be-3fe5ff00a744\",\"type\":\"ColumnDataSource\"},\"glyph\":{\"id\":\"389c1e71-58f5-40cb-b059-d52531c99742\",\"type\":\"Line\"},\"hover_glyph\":null,\"muted_glyph\":null,\"nonselection_glyph\":{\"id\":\"e45b3acf-820b-4a8f-b3ff-d11178b975b0\",\"type\":\"Line\"},\"selection_glyph\":null,\"view\":{\"id\":\"9ae9810e-f3fa-4a26-bd59-4d9dfd281b67\",\"type\":\"CDSView\"}},\"id\":\"5c4ff41f-143a-48a7-9829-d47f75d2ce88\",\"type\":\"GlyphRenderer\"},{\"attributes\":{\"plot\":null,\"text\":\"\"},\"id\":\"d5236f51-ae2c-4109-b498-8e7a50bea407\",\"type\":\"Title\"},{\"attributes\":{\"axis_label\":\"pressure [mb]\",\"formatter\":{\"id\":\"19b76e3b-f269-47ee-a30b-2ecb699f1eaa\",\"type\":\"LogTickFormatter\"},\"plot\":{\"id\":\"b42aeb71-4020-4b2c-a7b2-aa1f1d57780b\",\"subtype\":\"Figure\",\"type\":\"Plot\"},\"ticker\":{\"id\":\"d12cba55-7cc1-4a3e-872f-3ae5c5947c5d\",\"type\":\"LogTicker\"}},\"id\":\"3a630bd8-00fa-4c47-84f4-713c111e6991\",\"type\":\"LogAxis\"},{\"attributes\":{},\"id\":\"5080d615-3acf-4d58-a04f-b1d132298578\",\"type\":\"WheelZoomTool\"},{\"attributes\":{\"active_drag\":\"auto\",\"active_inspect\":\"auto\",\"active_scroll\":\"auto\",\"active_tap\":\"auto\",\"tools\":[{\"id\":\"4d8546c9-ceaf-45d4-add7-4bb1b166e0c3\",\"type\":\"PanTool\"},{\"id\":\"5080d615-3acf-4d58-a04f-b1d132298578\",\"type\":\"WheelZoomTool\"},{\"id\":\"613c29af-988d-45a3-b975-cbbb89f9563a\",\"type\":\"BoxZoomTool\"},{\"id\":\"3d2011d7-9d52-427a-9759-37e14b8236f6\",\"type\":\"SaveTool\"},{\"id\":\"feaf72d2-e7e8-4a78-82c9-91a8c3af09da\",\"type\":\"ResetTool\"},{\"id\":\"f8b25a49-e151-48f4-8a3d-3f37973f64d8\",\"type\":\"HelpTool\"}]},\"id\":\"b6ad1978-4551-4e88-90a5-733ef3b3e863\",\"type\":\"Toolbar\"},{\"attributes\":{},\"id\":\"5f410d9f-5701-4b68-ae80-391b61f3d2a9\",\"type\":\"Selection\"},{\"attributes\":{},\"id\":\"feaf72d2-e7e8-4a78-82c9-91a8c3af09da\",\"type\":\"ResetTool\"}],\"root_ids\":[\"61aa58ea-73c1-4ae8-99d3-f3c47306ad6a\"]},\"title\":\"Bokeh Application\",\"version\":\"0.12.16\"}};\n",
       "  var render_items = [{\"docid\":\"7103269b-28b3-499d-bac5-928612f5275d\",\"elementid\":\"dc2e09a6-de78-42cf-aa20-d239aca51472\",\"modelid\":\"61aa58ea-73c1-4ae8-99d3-f3c47306ad6a\"}];\n",
       "  root.Bokeh.embed.embed_items_notebook(docs_json, render_items);\n",
       "\n",
       "  }\n",
       "  if (root.Bokeh !== undefined) {\n",
       "    embed_document(root);\n",
       "  } else {\n",
       "    var attempts = 0;\n",
       "    var timer = setInterval(function(root) {\n",
       "      if (root.Bokeh !== undefined) {\n",
       "        embed_document(root);\n",
       "        clearInterval(timer);\n",
       "      }\n",
       "      attempts++;\n",
       "      if (attempts > 100) {\n",
       "        console.log(\"Bokeh: ERROR: Unable to run BokehJS code because BokehJS library is missing\")\n",
       "        clearInterval(timer);\n",
       "      }\n",
       "    }, 10, root)\n",
       "  }\n",
       "})(window);"
      ],
      "application/vnd.bokehjs_exec.v0+json": ""
     },
     "metadata": {
      "application/vnd.bokehjs_exec.v0+json": {
       "id": "61aa58ea-73c1-4ae8-99d3-f3c47306ad6a"
      }
     },
     "output_type": "display_data"
    },
    {
     "data": {
      "text/markdown": [
       "*FIGURE.* Cooling rates & difference."
      ],
      "text/plain": [
       "<IPython.core.display.Markdown object>"
      ]
     },
     "metadata": {},
     "output_type": "display_data"
    },
    {
     "data": {
      "text/html": [
       "<a id=\"Fluxes._saw.\"></a>"
      ],
      "text/plain": [
       "<IPython.core.display.HTML object>"
      ]
     },
     "metadata": {},
     "output_type": "display_data"
    },
    {
     "data": {
      "text/markdown": [
       "# Fluxes. saw."
      ],
      "text/plain": [
       "<IPython.core.display.Markdown object>"
      ]
     },
     "metadata": {},
     "output_type": "display_data"
    },
    {
     "data": {
      "text/html": [
       "\n",
       "<div class=\"bk-root\">\n",
       "    <div class=\"bk-plotdiv\" id=\"4f6542cf-4a70-4e4a-aae9-26963c809783\"></div>\n",
       "</div>"
      ]
     },
     "metadata": {},
     "output_type": "display_data"
    },
    {
     "data": {
      "application/javascript": [
       "(function(root) {\n",
       "  function embed_document(root) {\n",
       "    \n",
       "  var docs_json = {\"08190883-ae38-4161-b2d2-a0415d4db1b8\":{\"roots\":{\"references\":[{\"attributes\":{\"axis_label\":\"flux (W m-2)\",\"formatter\":{\"id\":\"afef3617-f3dc-4462-8c84-50132004f837\",\"type\":\"BasicTickFormatter\"},\"plot\":{\"id\":\"0a89fb2c-5fd1-49e7-a367-2d772576accb\",\"subtype\":\"Figure\",\"type\":\"Plot\"},\"ticker\":{\"id\":\"0ee00f27-6af0-4a81-80a2-c8b4fc275480\",\"type\":\"BasicTicker\"}},\"id\":\"62f3e1b2-48c8-40ea-b35c-ccfb4e4690e7\",\"type\":\"LinearAxis\"},{\"attributes\":{\"axis_label\":\"spectral band\",\"formatter\":{\"id\":\"ad0351b8-8e1d-4227-9131-233dd73fc45b\",\"type\":\"CategoricalTickFormatter\"},\"plot\":{\"id\":\"38192eff-f485-4a35-bbee-f8c753819a4e\",\"subtype\":\"Figure\",\"type\":\"Plot\"},\"ticker\":{\"id\":\"20ae1387-e67a-4060-bcbc-25aac6329caa\",\"type\":\"CategoricalTicker\"}},\"id\":\"dc1ebea6-3290-4db0-94b3-4bd422c62809\",\"type\":\"CategoricalAxis\"},{\"attributes\":{},\"id\":\"ff44ef59-c8ee-4a4f-ad70-d176b20afc6e\",\"type\":\"LinearScale\"},{\"attributes\":{\"plot\":null,\"text\":\"SFC flux. CLIRAD (single-run) - CRD.\"},\"id\":\"42936d43-6ae0-44c0-83ad-cc590aae862e\",\"type\":\"Title\"},{\"attributes\":{\"fill_color\":{\"value\":\"#1f77b4\"},\"line_color\":{\"value\":\"#1f77b4\"},\"top\":{\"field\":\"flux\"},\"width\":{\"value\":0.9},\"x\":{\"field\":\"band\"}},\"id\":\"f7590d60-5e42-4f27-a871-b4daded22a3e\",\"type\":\"VBar\"},{\"attributes\":{},\"id\":\"c222fca6-61e5-4105-8e56-7ddc15676430\",\"type\":\"ResetTool\"},{\"attributes\":{},\"id\":\"8e4e3979-f81c-478f-85c5-0222586ed942\",\"type\":\"ResetTool\"},{\"attributes\":{\"active_drag\":\"auto\",\"active_inspect\":\"auto\",\"active_scroll\":\"auto\",\"active_tap\":\"auto\",\"tools\":[{\"id\":\"4906ae73-5e9a-47d9-98c6-b75a6d890e87\",\"type\":\"PanTool\"},{\"id\":\"3c1a1a5d-eedc-4eb5-a93b-c68bf6b9fb5b\",\"type\":\"WheelZoomTool\"},{\"id\":\"8f68e988-9ede-424d-bef4-f693d1bdca08\",\"type\":\"BoxZoomTool\"},{\"id\":\"f05e9c51-4619-43a6-a0bf-82fb329b6d55\",\"type\":\"SaveTool\"},{\"id\":\"2ac829d3-ceaf-466a-a972-652981a29c84\",\"type\":\"ResetTool\"},{\"id\":\"1082f65e-d818-43a6-92a8-baa7455f32ff\",\"type\":\"HelpTool\"}]},\"id\":\"340c7b51-e067-458e-a273-c6a6a806c2b0\",\"type\":\"Toolbar\"},{\"attributes\":{\"fill_color\":{\"value\":\"#1f77b4\"},\"line_color\":{\"value\":\"#1f77b4\"},\"top\":{\"field\":\"flux\"},\"width\":{\"value\":0.9},\"x\":{\"field\":\"band\"}},\"id\":\"cb1af86d-ca5e-4732-9650-3c2eafdcc737\",\"type\":\"VBar\"},{\"attributes\":{\"axis_label\":\"spectral band\",\"formatter\":{\"id\":\"51f712e7-5cba-45f7-9de7-db9e406540f1\",\"type\":\"CategoricalTickFormatter\"},\"plot\":{\"id\":\"85d41477-3bf1-4957-9f85-a967a9ce7ae1\",\"subtype\":\"Figure\",\"type\":\"Plot\"},\"ticker\":{\"id\":\"ae02155a-2054-444f-9a99-2eb8e0573a20\",\"type\":\"CategoricalTicker\"}},\"id\":\"63f0b02f-0a15-4afc-9d98-b94e8a5d65eb\",\"type\":\"CategoricalAxis\"},{\"attributes\":{\"plot\":null,\"text\":\"Atmosphere heating. CLIRAD (single-run) - CRD.\"},\"id\":\"183e1259-ba6f-4788-8698-8ed38d573654\",\"type\":\"Title\"},{\"attributes\":{\"tools\":[{\"id\":\"72697fdf-7dcd-473c-aa32-9b6e9811fbe3\",\"type\":\"PanTool\"},{\"id\":\"e9ee2f6a-e7b9-45a6-91c0-2f20aad6d1ee\",\"type\":\"WheelZoomTool\"},{\"id\":\"e5ab96b3-1bd8-4ece-855e-5a528e0e175c\",\"type\":\"BoxZoomTool\"},{\"id\":\"f313ad9c-8e99-4b39-b86e-85f446f3cfb9\",\"type\":\"SaveTool\"},{\"id\":\"8e4e3979-f81c-478f-85c5-0222586ed942\",\"type\":\"ResetTool\"},{\"id\":\"7251e3b2-961f-4a23-b2d6-acc1fc7a0b03\",\"type\":\"HelpTool\"},{\"id\":\"ec08f819-6ba5-4810-b4cd-3048ac9378b1\",\"type\":\"PanTool\"},{\"id\":\"7eb5f474-6ee6-49fd-92b3-734aeeef92d4\",\"type\":\"WheelZoomTool\"},{\"id\":\"df0b85e1-359f-49b5-b656-8a1630b89b54\",\"type\":\"BoxZoomTool\"},{\"id\":\"450bf89a-f83e-482a-ad69-78b01d348e14\",\"type\":\"SaveTool\"},{\"id\":\"c222fca6-61e5-4105-8e56-7ddc15676430\",\"type\":\"ResetTool\"},{\"id\":\"0fd01ef9-bc68-46a6-8ac8-054801487150\",\"type\":\"HelpTool\"},{\"id\":\"4906ae73-5e9a-47d9-98c6-b75a6d890e87\",\"type\":\"PanTool\"},{\"id\":\"3c1a1a5d-eedc-4eb5-a93b-c68bf6b9fb5b\",\"type\":\"WheelZoomTool\"},{\"id\":\"8f68e988-9ede-424d-bef4-f693d1bdca08\",\"type\":\"BoxZoomTool\"},{\"id\":\"f05e9c51-4619-43a6-a0bf-82fb329b6d55\",\"type\":\"SaveTool\"},{\"id\":\"2ac829d3-ceaf-466a-a972-652981a29c84\",\"type\":\"ResetTool\"},{\"id\":\"1082f65e-d818-43a6-92a8-baa7455f32ff\",\"type\":\"HelpTool\"}]},\"id\":\"620a63f4-1d2f-42b6-bf38-16c813590410\",\"type\":\"ProxyToolbar\"},{\"attributes\":{\"axis_label\":\"flux (W m-2)\",\"formatter\":{\"id\":\"406b0d68-7b37-4fd8-ba82-b8b232969f53\",\"type\":\"BasicTickFormatter\"},\"plot\":{\"id\":\"85d41477-3bf1-4957-9f85-a967a9ce7ae1\",\"subtype\":\"Figure\",\"type\":\"Plot\"},\"ticker\":{\"id\":\"5f365403-baa9-4ffd-9db1-6742812ba4cb\",\"type\":\"BasicTicker\"}},\"id\":\"a1bf10e8-a8ba-4c8c-a003-5fbc5b8ff60f\",\"type\":\"LinearAxis\"},{\"attributes\":{},\"id\":\"0ee00f27-6af0-4a81-80a2-c8b4fc275480\",\"type\":\"BasicTicker\"},{\"attributes\":{},\"id\":\"7eb5f474-6ee6-49fd-92b3-734aeeef92d4\",\"type\":\"WheelZoomTool\"},{\"attributes\":{},\"id\":\"450bf89a-f83e-482a-ad69-78b01d348e14\",\"type\":\"SaveTool\"},{\"attributes\":{},\"id\":\"4ecdad71-cfe2-4a1d-b153-66945d657d91\",\"type\":\"BasicTickFormatter\"},{\"attributes\":{},\"id\":\"8664cd9e-a4bf-497b-bab9-d2acbf639fbf\",\"type\":\"CategoricalTicker\"},{\"attributes\":{},\"id\":\"b0244ca0-071a-4660-b8a1-d0888901cc6f\",\"type\":\"LinearScale\"},{\"attributes\":{\"callback\":null},\"id\":\"e2d644c8-5544-4a13-aaf7-14f9a1a642d5\",\"type\":\"DataRange1d\"},{\"attributes\":{\"dimension\":1,\"plot\":{\"id\":\"38192eff-f485-4a35-bbee-f8c753819a4e\",\"subtype\":\"Figure\",\"type\":\"Plot\"},\"ticker\":{\"id\":\"2d2f6789-1e64-4177-b5ea-ca4faee16d53\",\"type\":\"BasicTicker\"}},\"id\":\"0ecfca3e-c713-413f-b419-3813942b5fd8\",\"type\":\"Grid\"},{\"attributes\":{\"plot\":{\"id\":\"0a89fb2c-5fd1-49e7-a367-2d772576accb\",\"subtype\":\"Figure\",\"type\":\"Plot\"},\"ticker\":{\"id\":\"8664cd9e-a4bf-497b-bab9-d2acbf639fbf\",\"type\":\"CategoricalTicker\"}},\"id\":\"c68b96c6-0853-487c-9419-d17e88d04519\",\"type\":\"Grid\"},{\"attributes\":{},\"id\":\"f313ad9c-8e99-4b39-b86e-85f446f3cfb9\",\"type\":\"SaveTool\"},{\"attributes\":{},\"id\":\"3c1a1a5d-eedc-4eb5-a93b-c68bf6b9fb5b\",\"type\":\"WheelZoomTool\"},{\"attributes\":{},\"id\":\"e9ee2f6a-e7b9-45a6-91c0-2f20aad6d1ee\",\"type\":\"WheelZoomTool\"},{\"attributes\":{},\"id\":\"afef3617-f3dc-4462-8c84-50132004f837\",\"type\":\"BasicTickFormatter\"},{\"attributes\":{},\"id\":\"72697fdf-7dcd-473c-aa32-9b6e9811fbe3\",\"type\":\"PanTool\"},{\"attributes\":{},\"id\":\"7251e3b2-961f-4a23-b2d6-acc1fc7a0b03\",\"type\":\"HelpTool\"},{\"attributes\":{},\"id\":\"7ce5754e-1da0-4cd5-ab7e-be67033b077b\",\"type\":\"UnionRenderers\"},{\"attributes\":{\"bottom_units\":\"screen\",\"fill_alpha\":{\"value\":0.5},\"fill_color\":{\"value\":\"lightgrey\"},\"left_units\":\"screen\",\"level\":\"overlay\",\"line_alpha\":{\"value\":1.0},\"line_color\":{\"value\":\"black\"},\"line_dash\":[4,4],\"line_width\":{\"value\":2},\"plot\":null,\"render_mode\":\"css\",\"right_units\":\"screen\",\"top_units\":\"screen\"},\"id\":\"7fa0e98b-4394-4031-8893-278b9f446330\",\"type\":\"BoxAnnotation\"},{\"attributes\":{\"bottom_units\":\"screen\",\"fill_alpha\":{\"value\":0.5},\"fill_color\":{\"value\":\"lightgrey\"},\"left_units\":\"screen\",\"level\":\"overlay\",\"line_alpha\":{\"value\":1.0},\"line_color\":{\"value\":\"black\"},\"line_dash\":[4,4],\"line_width\":{\"value\":2},\"plot\":null,\"render_mode\":\"css\",\"right_units\":\"screen\",\"top_units\":\"screen\"},\"id\":\"4828f471-e59a-439c-88fd-cb9f02c65aba\",\"type\":\"BoxAnnotation\"},{\"attributes\":{\"callback\":null,\"factors\":[\"1\",\"2\",\"3\",\"4\",\"5\",\"6\",\"7\",\"8\",\"9\",\"10\",\"11\"]},\"id\":\"beb75729-845f-43b6-867f-bc747dd2858b\",\"type\":\"FactorRange\"},{\"attributes\":{\"below\":[{\"id\":\"75f91adc-f347-467e-b0d4-ea6417ba1e19\",\"type\":\"CategoricalAxis\"}],\"left\":[{\"id\":\"62f3e1b2-48c8-40ea-b35c-ccfb4e4690e7\",\"type\":\"LinearAxis\"}],\"plot_height\":300,\"plot_width\":300,\"renderers\":[{\"id\":\"75f91adc-f347-467e-b0d4-ea6417ba1e19\",\"type\":\"CategoricalAxis\"},{\"id\":\"c68b96c6-0853-487c-9419-d17e88d04519\",\"type\":\"Grid\"},{\"id\":\"62f3e1b2-48c8-40ea-b35c-ccfb4e4690e7\",\"type\":\"LinearAxis\"},{\"id\":\"45355b86-161c-4683-8f9a-9a66f4d493fd\",\"type\":\"Grid\"},{\"id\":\"4828f471-e59a-439c-88fd-cb9f02c65aba\",\"type\":\"BoxAnnotation\"},{\"id\":\"13c170a7-7aba-4490-b07c-c772fcfa189d\",\"type\":\"GlyphRenderer\"}],\"title\":{\"id\":\"183e1259-ba6f-4788-8698-8ed38d573654\",\"type\":\"Title\"},\"toolbar\":{\"id\":\"340c7b51-e067-458e-a273-c6a6a806c2b0\",\"type\":\"Toolbar\"},\"toolbar_location\":null,\"x_range\":{\"id\":\"6809e8e2-623a-421d-bc7f-70d48b17b7a8\",\"type\":\"FactorRange\"},\"x_scale\":{\"id\":\"70d368c4-c2f6-48a4-8224-e1f2ae71f9e3\",\"type\":\"CategoricalScale\"},\"y_range\":{\"id\":\"097775de-9b45-4fb1-b3ee-5f0ff995dd81\",\"type\":\"DataRange1d\"},\"y_scale\":{\"id\":\"ff44ef59-c8ee-4a4f-ad70-d176b20afc6e\",\"type\":\"LinearScale\"}},\"id\":\"0a89fb2c-5fd1-49e7-a367-2d772576accb\",\"subtype\":\"Figure\",\"type\":\"Plot\"},{\"attributes\":{\"callback\":null,\"factors\":[\"1\",\"2\",\"3\",\"4\",\"5\",\"6\",\"7\",\"8\",\"9\",\"10\",\"11\"]},\"id\":\"6809e8e2-623a-421d-bc7f-70d48b17b7a8\",\"type\":\"FactorRange\"},{\"attributes\":{},\"id\":\"1f80a106-24cb-40b4-a6f4-2b72d81000fe\",\"type\":\"UnionRenderers\"},{\"attributes\":{},\"id\":\"70d368c4-c2f6-48a4-8224-e1f2ae71f9e3\",\"type\":\"CategoricalScale\"},{\"attributes\":{\"children\":[{\"id\":\"38192eff-f485-4a35-bbee-f8c753819a4e\",\"subtype\":\"Figure\",\"type\":\"Plot\"},{\"id\":\"85d41477-3bf1-4957-9f85-a967a9ce7ae1\",\"subtype\":\"Figure\",\"type\":\"Plot\"},{\"id\":\"0a89fb2c-5fd1-49e7-a367-2d772576accb\",\"subtype\":\"Figure\",\"type\":\"Plot\"}]},\"id\":\"a58adaec-de3f-41d7-a433-d4585edcc929\",\"type\":\"Row\"},{\"attributes\":{\"axis_label\":\"flux (W m-2)\",\"formatter\":{\"id\":\"4ecdad71-cfe2-4a1d-b153-66945d657d91\",\"type\":\"BasicTickFormatter\"},\"plot\":{\"id\":\"38192eff-f485-4a35-bbee-f8c753819a4e\",\"subtype\":\"Figure\",\"type\":\"Plot\"},\"ticker\":{\"id\":\"2d2f6789-1e64-4177-b5ea-ca4faee16d53\",\"type\":\"BasicTicker\"}},\"id\":\"245165c3-f2c1-4c21-b957-6d0d288a8941\",\"type\":\"LinearAxis\"},{\"attributes\":{},\"id\":\"746ee735-8be1-4cc2-bb2d-c3baa0836fb5\",\"type\":\"Selection\"},{\"attributes\":{\"source\":{\"id\":\"7fbf1b32-9051-4bfb-ae21-ab209ab3ef80\",\"type\":\"ColumnDataSource\"}},\"id\":\"da85f64b-36c5-478d-8a01-3cb5f5f769c7\",\"type\":\"CDSView\"},{\"attributes\":{},\"id\":\"ed9d4bb8-d3ed-4612-9fc8-8459a299ec07\",\"type\":\"UnionRenderers\"},{\"attributes\":{\"overlay\":{\"id\":\"f8294f6f-b6b3-4ede-96ac-c641c637bb4b\",\"type\":\"BoxAnnotation\"}},\"id\":\"df0b85e1-359f-49b5-b656-8a1630b89b54\",\"type\":\"BoxZoomTool\"},{\"attributes\":{\"plot\":{\"id\":\"38192eff-f485-4a35-bbee-f8c753819a4e\",\"subtype\":\"Figure\",\"type\":\"Plot\"},\"ticker\":{\"id\":\"20ae1387-e67a-4060-bcbc-25aac6329caa\",\"type\":\"CategoricalTicker\"}},\"id\":\"09952ce4-e132-48cd-9f47-31dd3689ba39\",\"type\":\"Grid\"},{\"attributes\":{},\"id\":\"b0f90007-9807-4519-a190-5c77cabed428\",\"type\":\"Selection\"},{\"attributes\":{\"axis_label\":\"spectral band\",\"formatter\":{\"id\":\"1da98892-1958-496b-9377-7d7b6f3ab9b6\",\"type\":\"CategoricalTickFormatter\"},\"plot\":{\"id\":\"0a89fb2c-5fd1-49e7-a367-2d772576accb\",\"subtype\":\"Figure\",\"type\":\"Plot\"},\"ticker\":{\"id\":\"8664cd9e-a4bf-497b-bab9-d2acbf639fbf\",\"type\":\"CategoricalTicker\"}},\"id\":\"75f91adc-f347-467e-b0d4-ea6417ba1e19\",\"type\":\"CategoricalAxis\"},{\"attributes\":{\"children\":[{\"id\":\"d593c964-5ba1-4b03-a6fe-91342027bef4\",\"type\":\"ToolbarBox\"},{\"id\":\"572b26a2-e25e-4649-ad70-511235945288\",\"type\":\"Column\"}]},\"id\":\"3a61df53-aa29-437b-b5b1-388c886324f5\",\"type\":\"Column\"},{\"attributes\":{},\"id\":\"51f712e7-5cba-45f7-9de7-db9e406540f1\",\"type\":\"CategoricalTickFormatter\"},{\"attributes\":{\"toolbar\":{\"id\":\"620a63f4-1d2f-42b6-bf38-16c813590410\",\"type\":\"ProxyToolbar\"},\"toolbar_location\":\"above\"},\"id\":\"d593c964-5ba1-4b03-a6fe-91342027bef4\",\"type\":\"ToolbarBox\"},{\"attributes\":{\"children\":[{\"id\":\"a58adaec-de3f-41d7-a433-d4585edcc929\",\"type\":\"Row\"}]},\"id\":\"572b26a2-e25e-4649-ad70-511235945288\",\"type\":\"Column\"},{\"attributes\":{},\"id\":\"2d2f6789-1e64-4177-b5ea-ca4faee16d53\",\"type\":\"BasicTicker\"},{\"attributes\":{\"source\":{\"id\":\"15d8fe22-d13c-497e-ac42-ef8ae2e5c983\",\"type\":\"ColumnDataSource\"}},\"id\":\"b091dd75-4e38-4a24-ba3c-4d1fa6a6f8e0\",\"type\":\"CDSView\"},{\"attributes\":{},\"id\":\"2f35c187-c7e7-447c-99fc-e040a7a0657e\",\"type\":\"CategoricalScale\"},{\"attributes\":{},\"id\":\"ad0351b8-8e1d-4227-9131-233dd73fc45b\",\"type\":\"CategoricalTickFormatter\"},{\"attributes\":{\"data_source\":{\"id\":\"635fe7d8-ff7d-4276-bbbc-a594348121a1\",\"type\":\"ColumnDataSource\"},\"glyph\":{\"id\":\"f7590d60-5e42-4f27-a871-b4daded22a3e\",\"type\":\"VBar\"},\"hover_glyph\":null,\"muted_glyph\":null,\"nonselection_glyph\":{\"id\":\"284dc87b-8257-4a2e-8fe2-fb2107be59f8\",\"type\":\"VBar\"},\"selection_glyph\":null,\"view\":{\"id\":\"77651f81-aae8-42a6-8414-5188598864e9\",\"type\":\"CDSView\"}},\"id\":\"13c170a7-7aba-4490-b07c-c772fcfa189d\",\"type\":\"GlyphRenderer\"},{\"attributes\":{\"active_drag\":\"auto\",\"active_inspect\":\"auto\",\"active_scroll\":\"auto\",\"active_tap\":\"auto\",\"tools\":[{\"id\":\"ec08f819-6ba5-4810-b4cd-3048ac9378b1\",\"type\":\"PanTool\"},{\"id\":\"7eb5f474-6ee6-49fd-92b3-734aeeef92d4\",\"type\":\"WheelZoomTool\"},{\"id\":\"df0b85e1-359f-49b5-b656-8a1630b89b54\",\"type\":\"BoxZoomTool\"},{\"id\":\"450bf89a-f83e-482a-ad69-78b01d348e14\",\"type\":\"SaveTool\"},{\"id\":\"c222fca6-61e5-4105-8e56-7ddc15676430\",\"type\":\"ResetTool\"},{\"id\":\"0fd01ef9-bc68-46a6-8ac8-054801487150\",\"type\":\"HelpTool\"}]},\"id\":\"93bc5ffc-61ff-40a4-b77c-8ec303cff745\",\"type\":\"Toolbar\"},{\"attributes\":{},\"id\":\"20ae1387-e67a-4060-bcbc-25aac6329caa\",\"type\":\"CategoricalTicker\"},{\"attributes\":{\"fill_alpha\":{\"value\":0.1},\"fill_color\":{\"value\":\"#1f77b4\"},\"line_alpha\":{\"value\":0.1},\"line_color\":{\"value\":\"#1f77b4\"},\"top\":{\"field\":\"flux\"},\"width\":{\"value\":0.9},\"x\":{\"field\":\"band\"}},\"id\":\"284dc87b-8257-4a2e-8fe2-fb2107be59f8\",\"type\":\"VBar\"},{\"attributes\":{},\"id\":\"84206e43-45bb-4f4e-9bbb-ea9caa14817c\",\"type\":\"Selection\"},{\"attributes\":{},\"id\":\"5f365403-baa9-4ffd-9db1-6742812ba4cb\",\"type\":\"BasicTicker\"},{\"attributes\":{\"overlay\":{\"id\":\"7fa0e98b-4394-4031-8893-278b9f446330\",\"type\":\"BoxAnnotation\"}},\"id\":\"e5ab96b3-1bd8-4ece-855e-5a528e0e175c\",\"type\":\"BoxZoomTool\"},{\"attributes\":{\"source\":{\"id\":\"635fe7d8-ff7d-4276-bbbc-a594348121a1\",\"type\":\"ColumnDataSource\"}},\"id\":\"77651f81-aae8-42a6-8414-5188598864e9\",\"type\":\"CDSView\"},{\"attributes\":{\"data_source\":{\"id\":\"7fbf1b32-9051-4bfb-ae21-ab209ab3ef80\",\"type\":\"ColumnDataSource\"},\"glyph\":{\"id\":\"f5033cbf-a56e-403d-93a3-87406b401d44\",\"type\":\"VBar\"},\"hover_glyph\":null,\"muted_glyph\":null,\"nonselection_glyph\":{\"id\":\"de87627d-f9fc-4e24-ad57-91a90b99c99a\",\"type\":\"VBar\"},\"selection_glyph\":null,\"view\":{\"id\":\"da85f64b-36c5-478d-8a01-3cb5f5f769c7\",\"type\":\"CDSView\"}},\"id\":\"97e265b5-0740-4412-ab60-ff1f2e6b7b1b\",\"type\":\"GlyphRenderer\"},{\"attributes\":{},\"id\":\"a32da8a8-5836-4557-b8a0-d449a900dff6\",\"type\":\"LinearScale\"},{\"attributes\":{\"overlay\":{\"id\":\"4828f471-e59a-439c-88fd-cb9f02c65aba\",\"type\":\"BoxAnnotation\"}},\"id\":\"8f68e988-9ede-424d-bef4-f693d1bdca08\",\"type\":\"BoxZoomTool\"},{\"attributes\":{},\"id\":\"f05e9c51-4619-43a6-a0bf-82fb329b6d55\",\"type\":\"SaveTool\"},{\"attributes\":{},\"id\":\"406b0d68-7b37-4fd8-ba82-b8b232969f53\",\"type\":\"BasicTickFormatter\"},{\"attributes\":{\"fill_alpha\":{\"value\":0.1},\"fill_color\":{\"value\":\"#1f77b4\"},\"line_alpha\":{\"value\":0.1},\"line_color\":{\"value\":\"#1f77b4\"},\"top\":{\"field\":\"flux\"},\"width\":{\"value\":0.9},\"x\":{\"field\":\"band\"}},\"id\":\"7de55af3-77bb-4673-9962-ae06aa7545ec\",\"type\":\"VBar\"},{\"attributes\":{\"plot\":{\"id\":\"85d41477-3bf1-4957-9f85-a967a9ce7ae1\",\"subtype\":\"Figure\",\"type\":\"Plot\"},\"ticker\":{\"id\":\"ae02155a-2054-444f-9a99-2eb8e0573a20\",\"type\":\"CategoricalTicker\"}},\"id\":\"4a525fe8-2fd2-4a2e-b3db-70c145231414\",\"type\":\"Grid\"},{\"attributes\":{},\"id\":\"ec08f819-6ba5-4810-b4cd-3048ac9378b1\",\"type\":\"PanTool\"},{\"attributes\":{},\"id\":\"0fd01ef9-bc68-46a6-8ac8-054801487150\",\"type\":\"HelpTool\"},{\"attributes\":{},\"id\":\"4906ae73-5e9a-47d9-98c6-b75a6d890e87\",\"type\":\"PanTool\"},{\"attributes\":{\"dimension\":1,\"plot\":{\"id\":\"0a89fb2c-5fd1-49e7-a367-2d772576accb\",\"subtype\":\"Figure\",\"type\":\"Plot\"},\"ticker\":{\"id\":\"0ee00f27-6af0-4a81-80a2-c8b4fc275480\",\"type\":\"BasicTicker\"}},\"id\":\"45355b86-161c-4683-8f9a-9a66f4d493fd\",\"type\":\"Grid\"},{\"attributes\":{\"fill_color\":{\"value\":\"#1f77b4\"},\"line_color\":{\"value\":\"#1f77b4\"},\"top\":{\"field\":\"flux\"},\"width\":{\"value\":0.9},\"x\":{\"field\":\"band\"}},\"id\":\"f5033cbf-a56e-403d-93a3-87406b401d44\",\"type\":\"VBar\"},{\"attributes\":{\"dimension\":1,\"plot\":{\"id\":\"85d41477-3bf1-4957-9f85-a967a9ce7ae1\",\"subtype\":\"Figure\",\"type\":\"Plot\"},\"ticker\":{\"id\":\"5f365403-baa9-4ffd-9db1-6742812ba4cb\",\"type\":\"BasicTicker\"}},\"id\":\"08bfd9d9-7280-4415-8f7b-63dc80ae4475\",\"type\":\"Grid\"},{\"attributes\":{\"callback\":null},\"id\":\"097775de-9b45-4fb1-b3ee-5f0ff995dd81\",\"type\":\"DataRange1d\"},{\"attributes\":{\"callback\":null,\"data\":{\"band\":[\"1\",\"2\",\"3\",\"4\",\"5\",\"6\",\"7\",\"8\",\"9\",\"10\",\"11\"],\"flux\":{\"__ndarray__\":\"AGUcfpKWxz8ADNP3GoKrvwC58ThWc9E/gCPUtqgpxj/AKyixEMLWvyDeA3Rfzui/AHCZ02Uxub9A/vVlxGDJv2DmlUYnprK/AGut5jsjp78A4LOe7+GBvw==\",\"dtype\":\"float64\",\"shape\":[11]}},\"selected\":{\"id\":\"84206e43-45bb-4f4e-9bbb-ea9caa14817c\",\"type\":\"Selection\"},\"selection_policy\":{\"id\":\"ed9d4bb8-d3ed-4612-9fc8-8459a299ec07\",\"type\":\"UnionRenderers\"}},\"id\":\"635fe7d8-ff7d-4276-bbbc-a594348121a1\",\"type\":\"ColumnDataSource\"},{\"attributes\":{},\"id\":\"1082f65e-d818-43a6-92a8-baa7455f32ff\",\"type\":\"HelpTool\"},{\"attributes\":{},\"id\":\"ae02155a-2054-444f-9a99-2eb8e0573a20\",\"type\":\"CategoricalTicker\"},{\"attributes\":{},\"id\":\"2ac829d3-ceaf-466a-a972-652981a29c84\",\"type\":\"ResetTool\"},{\"attributes\":{\"fill_alpha\":{\"value\":0.1},\"fill_color\":{\"value\":\"#1f77b4\"},\"line_alpha\":{\"value\":0.1},\"line_color\":{\"value\":\"#1f77b4\"},\"top\":{\"field\":\"flux\"},\"width\":{\"value\":0.9},\"x\":{\"field\":\"band\"}},\"id\":\"de87627d-f9fc-4e24-ad57-91a90b99c99a\",\"type\":\"VBar\"},{\"attributes\":{\"callback\":null},\"id\":\"d9c6f349-a6d8-4374-9527-e9aa78ef5e0c\",\"type\":\"DataRange1d\"},{\"attributes\":{\"plot\":null,\"text\":\"TOA flux. CLIRAD (single-run) - CRD.\"},\"id\":\"8e5d77d6-9c98-4f03-8a5e-d7f40301cd08\",\"type\":\"Title\"},{\"attributes\":{},\"id\":\"3bfb80d3-f56a-41bf-b165-ed6d8c6f0554\",\"type\":\"CategoricalScale\"},{\"attributes\":{\"below\":[{\"id\":\"63f0b02f-0a15-4afc-9d98-b94e8a5d65eb\",\"type\":\"CategoricalAxis\"}],\"left\":[{\"id\":\"a1bf10e8-a8ba-4c8c-a003-5fbc5b8ff60f\",\"type\":\"LinearAxis\"}],\"plot_height\":300,\"plot_width\":300,\"renderers\":[{\"id\":\"63f0b02f-0a15-4afc-9d98-b94e8a5d65eb\",\"type\":\"CategoricalAxis\"},{\"id\":\"4a525fe8-2fd2-4a2e-b3db-70c145231414\",\"type\":\"Grid\"},{\"id\":\"a1bf10e8-a8ba-4c8c-a003-5fbc5b8ff60f\",\"type\":\"LinearAxis\"},{\"id\":\"08bfd9d9-7280-4415-8f7b-63dc80ae4475\",\"type\":\"Grid\"},{\"id\":\"f8294f6f-b6b3-4ede-96ac-c641c637bb4b\",\"type\":\"BoxAnnotation\"},{\"id\":\"865aa895-ffdd-49ea-92ba-168c781b1a20\",\"type\":\"GlyphRenderer\"}],\"title\":{\"id\":\"42936d43-6ae0-44c0-83ad-cc590aae862e\",\"type\":\"Title\"},\"toolbar\":{\"id\":\"93bc5ffc-61ff-40a4-b77c-8ec303cff745\",\"type\":\"Toolbar\"},\"toolbar_location\":null,\"x_range\":{\"id\":\"beb75729-845f-43b6-867f-bc747dd2858b\",\"type\":\"FactorRange\"},\"x_scale\":{\"id\":\"2f35c187-c7e7-447c-99fc-e040a7a0657e\",\"type\":\"CategoricalScale\"},\"y_range\":{\"id\":\"e2d644c8-5544-4a13-aaf7-14f9a1a642d5\",\"type\":\"DataRange1d\"},\"y_scale\":{\"id\":\"a32da8a8-5836-4557-b8a0-d449a900dff6\",\"type\":\"LinearScale\"}},\"id\":\"85d41477-3bf1-4957-9f85-a967a9ce7ae1\",\"subtype\":\"Figure\",\"type\":\"Plot\"},{\"attributes\":{\"bottom_units\":\"screen\",\"fill_alpha\":{\"value\":0.5},\"fill_color\":{\"value\":\"lightgrey\"},\"left_units\":\"screen\",\"level\":\"overlay\",\"line_alpha\":{\"value\":1.0},\"line_color\":{\"value\":\"black\"},\"line_dash\":[4,4],\"line_width\":{\"value\":2},\"plot\":null,\"render_mode\":\"css\",\"right_units\":\"screen\",\"top_units\":\"screen\"},\"id\":\"f8294f6f-b6b3-4ede-96ac-c641c637bb4b\",\"type\":\"BoxAnnotation\"},{\"attributes\":{\"callback\":null,\"factors\":[\"1\",\"2\",\"3\",\"4\",\"5\",\"6\",\"7\",\"8\",\"9\",\"10\",\"11\"]},\"id\":\"dca12fd9-ac0a-411c-aa5e-5a8f3e81fc7c\",\"type\":\"FactorRange\"},{\"attributes\":{\"callback\":null,\"data\":{\"band\":[\"1\",\"2\",\"3\",\"4\",\"5\",\"6\",\"7\",\"8\",\"9\",\"10\",\"11\"],\"flux\":{\"__ndarray__\":\"gGLUtfY+xz8AxKpBmNuxPwB4DfrS27O/gApHkEqx0D8AemtgqwS3PwD4HcNjP6O/wGyQSUbO0T8ALPuuCP6XvwAIGW36WJ4/AHQYgtIGdr8AjON2HsuRPw==\",\"dtype\":\"float64\",\"shape\":[11]}},\"selected\":{\"id\":\"b0f90007-9807-4519-a190-5c77cabed428\",\"type\":\"Selection\"},\"selection_policy\":{\"id\":\"7ce5754e-1da0-4cd5-ab7e-be67033b077b\",\"type\":\"UnionRenderers\"}},\"id\":\"7fbf1b32-9051-4bfb-ae21-ab209ab3ef80\",\"type\":\"ColumnDataSource\"},{\"attributes\":{\"data_source\":{\"id\":\"15d8fe22-d13c-497e-ac42-ef8ae2e5c983\",\"type\":\"ColumnDataSource\"},\"glyph\":{\"id\":\"cb1af86d-ca5e-4732-9650-3c2eafdcc737\",\"type\":\"VBar\"},\"hover_glyph\":null,\"muted_glyph\":null,\"nonselection_glyph\":{\"id\":\"7de55af3-77bb-4673-9962-ae06aa7545ec\",\"type\":\"VBar\"},\"selection_glyph\":null,\"view\":{\"id\":\"b091dd75-4e38-4a24-ba3c-4d1fa6a6f8e0\",\"type\":\"CDSView\"}},\"id\":\"865aa895-ffdd-49ea-92ba-168c781b1a20\",\"type\":\"GlyphRenderer\"},{\"attributes\":{\"callback\":null,\"data\":{\"band\":[\"1\",\"2\",\"3\",\"4\",\"5\",\"6\",\"7\",\"8\",\"9\",\"10\",\"11\"],\"flux\":{\"__ndarray__\":\"AIC5NH7hZb8ALHsS2Jy/P4BweEFEata/AOSkMO9xtj8gsSg2MIPcPz4QDxdvmuc/gODPla0a2D/gmKdr1GDGPwDV3YZiPLo/AAr6Cz1ipD+gLpy1JbyaPw==\",\"dtype\":\"float64\",\"shape\":[11]}},\"selected\":{\"id\":\"746ee735-8be1-4cc2-bb2d-c3baa0836fb5\",\"type\":\"Selection\"},\"selection_policy\":{\"id\":\"1f80a106-24cb-40b4-a6f4-2b72d81000fe\",\"type\":\"UnionRenderers\"}},\"id\":\"15d8fe22-d13c-497e-ac42-ef8ae2e5c983\",\"type\":\"ColumnDataSource\"},{\"attributes\":{\"below\":[{\"id\":\"dc1ebea6-3290-4db0-94b3-4bd422c62809\",\"type\":\"CategoricalAxis\"}],\"left\":[{\"id\":\"245165c3-f2c1-4c21-b957-6d0d288a8941\",\"type\":\"LinearAxis\"}],\"plot_height\":300,\"plot_width\":300,\"renderers\":[{\"id\":\"dc1ebea6-3290-4db0-94b3-4bd422c62809\",\"type\":\"CategoricalAxis\"},{\"id\":\"09952ce4-e132-48cd-9f47-31dd3689ba39\",\"type\":\"Grid\"},{\"id\":\"245165c3-f2c1-4c21-b957-6d0d288a8941\",\"type\":\"LinearAxis\"},{\"id\":\"0ecfca3e-c713-413f-b419-3813942b5fd8\",\"type\":\"Grid\"},{\"id\":\"7fa0e98b-4394-4031-8893-278b9f446330\",\"type\":\"BoxAnnotation\"},{\"id\":\"97e265b5-0740-4412-ab60-ff1f2e6b7b1b\",\"type\":\"GlyphRenderer\"}],\"title\":{\"id\":\"8e5d77d6-9c98-4f03-8a5e-d7f40301cd08\",\"type\":\"Title\"},\"toolbar\":{\"id\":\"df4d79a8-9f65-475f-8d75-4848b3d519bf\",\"type\":\"Toolbar\"},\"toolbar_location\":null,\"x_range\":{\"id\":\"dca12fd9-ac0a-411c-aa5e-5a8f3e81fc7c\",\"type\":\"FactorRange\"},\"x_scale\":{\"id\":\"3bfb80d3-f56a-41bf-b165-ed6d8c6f0554\",\"type\":\"CategoricalScale\"},\"y_range\":{\"id\":\"d9c6f349-a6d8-4374-9527-e9aa78ef5e0c\",\"type\":\"DataRange1d\"},\"y_scale\":{\"id\":\"b0244ca0-071a-4660-b8a1-d0888901cc6f\",\"type\":\"LinearScale\"}},\"id\":\"38192eff-f485-4a35-bbee-f8c753819a4e\",\"subtype\":\"Figure\",\"type\":\"Plot\"},{\"attributes\":{\"active_drag\":\"auto\",\"active_inspect\":\"auto\",\"active_scroll\":\"auto\",\"active_tap\":\"auto\",\"tools\":[{\"id\":\"72697fdf-7dcd-473c-aa32-9b6e9811fbe3\",\"type\":\"PanTool\"},{\"id\":\"e9ee2f6a-e7b9-45a6-91c0-2f20aad6d1ee\",\"type\":\"WheelZoomTool\"},{\"id\":\"e5ab96b3-1bd8-4ece-855e-5a528e0e175c\",\"type\":\"BoxZoomTool\"},{\"id\":\"f313ad9c-8e99-4b39-b86e-85f446f3cfb9\",\"type\":\"SaveTool\"},{\"id\":\"8e4e3979-f81c-478f-85c5-0222586ed942\",\"type\":\"ResetTool\"},{\"id\":\"7251e3b2-961f-4a23-b2d6-acc1fc7a0b03\",\"type\":\"HelpTool\"}]},\"id\":\"df4d79a8-9f65-475f-8d75-4848b3d519bf\",\"type\":\"Toolbar\"},{\"attributes\":{},\"id\":\"1da98892-1958-496b-9377-7d7b6f3ab9b6\",\"type\":\"CategoricalTickFormatter\"}],\"root_ids\":[\"3a61df53-aa29-437b-b5b1-388c886324f5\"]},\"title\":\"Bokeh Application\",\"version\":\"0.12.16\"}};\n",
       "  var render_items = [{\"docid\":\"08190883-ae38-4161-b2d2-a0415d4db1b8\",\"elementid\":\"4f6542cf-4a70-4e4a-aae9-26963c809783\",\"modelid\":\"3a61df53-aa29-437b-b5b1-388c886324f5\"}];\n",
       "  root.Bokeh.embed.embed_items_notebook(docs_json, render_items);\n",
       "\n",
       "  }\n",
       "  if (root.Bokeh !== undefined) {\n",
       "    embed_document(root);\n",
       "  } else {\n",
       "    var attempts = 0;\n",
       "    var timer = setInterval(function(root) {\n",
       "      if (root.Bokeh !== undefined) {\n",
       "        embed_document(root);\n",
       "        clearInterval(timer);\n",
       "      }\n",
       "      attempts++;\n",
       "      if (attempts > 100) {\n",
       "        console.log(\"Bokeh: ERROR: Unable to run BokehJS code because BokehJS library is missing\")\n",
       "        clearInterval(timer);\n",
       "      }\n",
       "    }, 10, root)\n",
       "  }\n",
       "})(window);"
      ],
      "application/vnd.bokehjs_exec.v0+json": ""
     },
     "metadata": {
      "application/vnd.bokehjs_exec.v0+json": {
       "id": "3a61df53-aa29-437b-b5b1-388c886324f5"
      }
     },
     "output_type": "display_data"
    },
    {
     "data": {
      "text/markdown": [
       "*FIGURE.* Difference between CLIRAD and CRD in TOA, SFC and net atmosphere flux, in each spectral band."
      ],
      "text/plain": [
       "<IPython.core.display.Markdown object>"
      ]
     },
     "metadata": {},
     "output_type": "display_data"
    },
    {
     "data": {
      "text/html": [
       "<div>\n",
       "<style scoped>\n",
       "    .dataframe tbody tr th:only-of-type {\n",
       "        vertical-align: middle;\n",
       "    }\n",
       "\n",
       "    .dataframe tbody tr th {\n",
       "        vertical-align: top;\n",
       "    }\n",
       "\n",
       "    .dataframe thead th {\n",
       "        text-align: right;\n",
       "    }\n",
       "</style>\n",
       "<table border=\"1\" class=\"dataframe\">\n",
       "  <thead>\n",
       "    <tr style=\"text-align: right;\">\n",
       "      <th></th>\n",
       "      <th>OLR flux</th>\n",
       "      <th>SFC flux</th>\n",
       "      <th>ATM heating</th>\n",
       "    </tr>\n",
       "    <tr>\n",
       "      <th>Sum over bands</th>\n",
       "      <th></th>\n",
       "      <th></th>\n",
       "      <th></th>\n",
       "    </tr>\n",
       "  </thead>\n",
       "  <tbody>\n",
       "    <tr>\n",
       "      <th>CLIRAD (single-run) - CRD</th>\n",
       "      <td>0.78</td>\n",
       "      <td>1.76</td>\n",
       "      <td>-0.98</td>\n",
       "    </tr>\n",
       "    <tr>\n",
       "      <th>CRD</th>\n",
       "      <td>-201.06</td>\n",
       "      <td>166.03</td>\n",
       "      <td>-119.67</td>\n",
       "    </tr>\n",
       "  </tbody>\n",
       "</table>\n",
       "</div>"
      ],
      "text/plain": [
       "                           OLR flux  SFC flux  ATM heating\n",
       "Sum over bands                                            \n",
       "CLIRAD (single-run) - CRD      0.78      1.76        -0.98\n",
       "CRD                         -201.06    166.03      -119.67"
      ]
     },
     "metadata": {},
     "output_type": "display_data"
    },
    {
     "data": {
      "text/markdown": [
       "*TABLE.* Difference between CLIRAD and CRD in TOA, SFC and net atmosphere flux, over all spectral bands. CRD's TOA, SFC and net atmosphere flux, over all spectral bands."
      ],
      "text/plain": [
       "<IPython.core.display.Markdown object>"
      ]
     },
     "metadata": {},
     "output_type": "display_data"
    },
    {
     "data": {
      "text/html": [
       "<a id=\"Cooling_rates._trp.\"></a>"
      ],
      "text/plain": [
       "<IPython.core.display.HTML object>"
      ]
     },
     "metadata": {},
     "output_type": "display_data"
    },
    {
     "data": {
      "text/markdown": [
       "# Cooling rates. trp."
      ],
      "text/plain": [
       "<IPython.core.display.Markdown object>"
      ]
     },
     "metadata": {},
     "output_type": "display_data"
    },
    {
     "data": {
      "text/html": [
       "\n",
       "<div class=\"bk-root\">\n",
       "    <div class=\"bk-plotdiv\" id=\"88dcb0e2-5d00-4a0c-8f89-187d50581b15\"></div>\n",
       "</div>"
      ]
     },
     "metadata": {},
     "output_type": "display_data"
    },
    {
     "data": {
      "application/javascript": [
       "(function(root) {\n",
       "  function embed_document(root) {\n",
       "    \n",
       "  var docs_json = {\"3fb84e0f-e79a-4595-9f2c-0875827dec1d\":{\"roots\":{\"references\":[{\"attributes\":{\"axis_label\":\"pressure [mb]\",\"formatter\":{\"id\":\"22c5918a-2b6b-4767-b8fb-3796e86c433d\",\"type\":\"LogTickFormatter\"},\"plot\":{\"id\":\"5b46b483-ff83-4fc6-886b-3d4bcdc31798\",\"subtype\":\"Figure\",\"type\":\"Plot\"},\"ticker\":{\"id\":\"d877045a-b67b-415a-8c8e-454fb24679e6\",\"type\":\"LogTicker\"}},\"id\":\"2a421d77-5f52-48cf-a514-c2989112915b\",\"type\":\"LogAxis\"},{\"attributes\":{\"fill_alpha\":{\"value\":0.7},\"fill_color\":{\"value\":\"#4daf4a\"},\"line_alpha\":{\"value\":0.7},\"line_color\":{\"value\":\"#4daf4a\"},\"x\":{\"field\":\"x\"},\"y\":{\"field\":\"y\"}},\"id\":\"20c7c60a-2906-4317-8790-30962055d1af\",\"type\":\"Circle\"},{\"attributes\":{\"line_alpha\":0.1,\"line_color\":\"#1f77b4\",\"line_width\":1.5,\"x\":{\"field\":\"x\"},\"y\":{\"field\":\"y\"}},\"id\":\"aea278bb-9e5d-4a87-8ddd-64e03b1511dc\",\"type\":\"Line\"},{\"attributes\":{\"data_source\":{\"id\":\"d2bd90df-4504-4e24-b44c-7ec56c4a2e25\",\"type\":\"ColumnDataSource\"},\"glyph\":{\"id\":\"fd8dd4ea-c3ac-4ac1-b3d6-d7d8ca79f981\",\"type\":\"Circle\"},\"hover_glyph\":null,\"muted_glyph\":null,\"nonselection_glyph\":{\"id\":\"3a353ddd-3678-4820-a6d8-26c388def269\",\"type\":\"Circle\"},\"selection_glyph\":null,\"view\":{\"id\":\"65630bde-2bb5-4610-9c8b-5ec72820d7b5\",\"type\":\"CDSView\"}},\"id\":\"1e1a7ec3-b9d1-4ffc-9b5b-cef019300dc4\",\"type\":\"GlyphRenderer\"},{\"attributes\":{\"data_source\":{\"id\":\"4241e94e-0917-4330-92fa-960b0706436d\",\"type\":\"ColumnDataSource\"},\"glyph\":{\"id\":\"db3c31c0-32e3-426b-9e46-be0e356dc6ed\",\"type\":\"Line\"},\"hover_glyph\":null,\"muted_glyph\":null,\"nonselection_glyph\":{\"id\":\"aea278bb-9e5d-4a87-8ddd-64e03b1511dc\",\"type\":\"Line\"},\"selection_glyph\":null,\"view\":{\"id\":\"2ca9ebe9-abe5-4819-aab9-683d74961979\",\"type\":\"CDSView\"}},\"id\":\"4bcf6eae-adac-4148-87b8-29b443fe99ed\",\"type\":\"GlyphRenderer\"},{\"attributes\":{\"line_alpha\":0.1,\"line_color\":\"#1f77b4\",\"line_width\":1.5,\"x\":{\"field\":\"x\"},\"y\":{\"field\":\"y\"}},\"id\":\"ad883ee6-2bf0-4b43-b977-d5c136c6b2b5\",\"type\":\"Line\"},{\"attributes\":{\"callback\":null,\"end\":2.3923448158934004,\"start\":-0.5058734760934},\"id\":\"ade11c0c-c6b6-4d2f-95e5-610b4318c13d\",\"type\":\"Range1d\"},{\"attributes\":{\"callback\":null,\"end\":12.208580913010499,\"start\":-0.6030639325004999},\"id\":\"9616461d-3402-45e5-88da-0ab8c6e4e0aa\",\"type\":\"Range1d\"},{\"attributes\":{\"data_source\":{\"id\":\"a33e56a5-6b75-47e3-a647-9a7fe54c548b\",\"type\":\"ColumnDataSource\"},\"glyph\":{\"id\":\"64b7d86e-ef70-4957-a85e-0f18a37201a0\",\"type\":\"Line\"},\"hover_glyph\":null,\"muted_glyph\":null,\"nonselection_glyph\":{\"id\":\"ad883ee6-2bf0-4b43-b977-d5c136c6b2b5\",\"type\":\"Line\"},\"selection_glyph\":null,\"view\":{\"id\":\"70afcc23-1cdb-4dc3-aaec-643d1498d086\",\"type\":\"CDSView\"}},\"id\":\"06b1d295-684f-43a9-9d1d-ef8bfec8f2e4\",\"type\":\"GlyphRenderer\"},{\"attributes\":{\"num_minor_ticks\":10},\"id\":\"d877045a-b67b-415a-8c8e-454fb24679e6\",\"type\":\"LogTicker\"},{\"attributes\":{\"overlay\":{\"id\":\"e346ee25-dc76-46ed-bdca-5edb6577787e\",\"type\":\"BoxAnnotation\"}},\"id\":\"37ad72bf-6ecb-4448-adfc-ab61ca049d85\",\"type\":\"BoxZoomTool\"},{\"attributes\":{},\"id\":\"d733c6ba-1061-4a94-a696-7ed6133d541d\",\"type\":\"PanTool\"},{\"attributes\":{\"above\":[{\"id\":\"cc58bce3-0a44-464b-8b8b-0f09fbf5e38d\",\"type\":\"Legend\"}],\"below\":[{\"id\":\"c04bd035-6273-46ee-bdd0-30f615290150\",\"type\":\"LinearAxis\"}],\"left\":[{\"id\":\"2a421d77-5f52-48cf-a514-c2989112915b\",\"type\":\"LogAxis\"}],\"plot_width\":300,\"renderers\":[{\"id\":\"c04bd035-6273-46ee-bdd0-30f615290150\",\"type\":\"LinearAxis\"},{\"id\":\"b57e1d96-8495-4f8d-9f0a-a58410a04467\",\"type\":\"Grid\"},{\"id\":\"2a421d77-5f52-48cf-a514-c2989112915b\",\"type\":\"LogAxis\"},{\"id\":\"6b496d66-1f71-4a4c-ac99-a59219527b52\",\"type\":\"Grid\"},{\"id\":\"96c3bab3-f359-4748-975f-d7180276c350\",\"type\":\"BoxAnnotation\"},{\"id\":\"13beec08-bf0c-4b83-b4c0-3fb4654ae05c\",\"type\":\"GlyphRenderer\"},{\"id\":\"06b1d295-684f-43a9-9d1d-ef8bfec8f2e4\",\"type\":\"GlyphRenderer\"},{\"id\":\"cc58bce3-0a44-464b-8b8b-0f09fbf5e38d\",\"type\":\"Legend\"}],\"title\":{\"id\":\"cca7f1b2-ea5f-43b8-81b3-670486a9e297\",\"type\":\"Title\"},\"toolbar\":{\"id\":\"4908653b-efea-4ae4-a8f7-6a078d58dc5f\",\"type\":\"Toolbar\"},\"toolbar_location\":null,\"x_range\":{\"id\":\"bfc2be0e-0487-408b-bc36-61261bc7b2b7\",\"type\":\"Range1d\"},\"x_scale\":{\"id\":\"d1e111d6-7303-4460-9941-0785ae037311\",\"type\":\"LinearScale\"},\"y_range\":{\"id\":\"02ab9caa-5e12-4855-b329-23f31bd2f4b7\",\"type\":\"Range1d\"},\"y_scale\":{\"id\":\"b3fb0cba-58d7-46f4-ba63-22d410840691\",\"type\":\"LogScale\"}},\"id\":\"5b46b483-ff83-4fc6-886b-3d4bcdc31798\",\"subtype\":\"Figure\",\"type\":\"Plot\"},{\"attributes\":{\"line_alpha\":0.1,\"line_color\":\"#1f77b4\",\"line_width\":1.5,\"x\":{\"field\":\"x\"},\"y\":{\"field\":\"y\"}},\"id\":\"d964cb36-1ea9-4f17-8463-28f29c192fa8\",\"type\":\"Line\"},{\"attributes\":{\"bottom_units\":\"screen\",\"fill_alpha\":{\"value\":0.5},\"fill_color\":{\"value\":\"lightgrey\"},\"left_units\":\"screen\",\"level\":\"overlay\",\"line_alpha\":{\"value\":1.0},\"line_color\":{\"value\":\"black\"},\"line_dash\":[4,4],\"line_width\":{\"value\":2},\"plot\":null,\"render_mode\":\"css\",\"right_units\":\"screen\",\"top_units\":\"screen\"},\"id\":\"af522fc0-163c-48b2-a90b-d89088690942\",\"type\":\"BoxAnnotation\"},{\"attributes\":{},\"id\":\"3a855be9-9235-4c3c-bfa1-935115124593\",\"type\":\"WheelZoomTool\"},{\"attributes\":{\"source\":{\"id\":\"d5ce13a7-82fc-4660-9059-2f47968ef77c\",\"type\":\"ColumnDataSource\"}},\"id\":\"bbc545ce-0246-4f7d-8f89-f226dbe27dba\",\"type\":\"CDSView\"},{\"attributes\":{\"callback\":null,\"data\":{\"x\":{\"__ndarray__\":\"KuCC2K78Q8C6Stk+DYMgwJaAIAKDsQLAixXjO00j/D+xawG4yi8OQDhf76oUzw5AROq8tudTBEAfk/AHRs7mP4fjg1IWFui/Az0G76cp9b/TCJlVET3xv2WsLTeGpt6/Nul621jZtj9Z2IbJT5/dPxiTqY0CUOE/7nBnvGXR1j+OIkfeHyWyPwonWY/MaNG/uGJwFjA34b9q0UdlZ07hvw31UcUdmtO/NhBfOHNuur8zWxTQhtWgvzSfVyIQvMu/cAOXzI9E179iZJusDBG7v4yirg7ZktQ/QgO3ymy21T+y8T77o8G4P6vzXUPLpIs/kkCGBaaRzj8N0F0xMlHUPxq0XoSQhsE/lumYQcdqq7+tUZVAaruZv2o5TLk2s6M/bGp7yLG4nL9ymdG/C9qyv7Rl7uduxq6/CNYdYhHoq794ZYlUfMWuvw+y21XFua+/VtVi3VG1sb9v+Sxns0Kov4bN24+heLC/7bi+jDxpv7/zr/HpOjS0v8rO25dqla6/2V1kXjBLtb8xRZIkOTW1vxzetZFzgKy/oiM1pZSDn7+IkfR0TWmUv9xYTIK1/pW/7xxFF8nXnb8ODkvddwefv74MrRhuPI6/08BxOkUejz9aMKgE/k+mP6bf262Ss6w/Xvo/NrLzpz+dZANgcXWYPyBYS++FQ0s/sLgn+SWjeb/4ms7Qq4FuP9eBc2s2dJs/agvI2v/5rD9eFD3wMdiyP147eQ1yx7M/ZT1EOOlDzj/VzePAF0jOP9bryqlMcc4/DobzNZEQ0D+RJKkJOe/QP/nFbYAOPdE/\",\"dtype\":\"float64\",\"shape\":[75]},\"y\":{\"__ndarray__\":\"GhExyth1ND/Sv8nbtpRIP2vylNV0PVE/aTum7souWD/At0SJ8fVgPw3Iuahxymc/MSNhhJWvcD/bTfBN02d3P2zb5nxnaoA/CD5h5MAGhz8NmeH1TyaQP+zrCsc9p5Y/LbKd76fGnz/bLW5ISEmmPww9YvTcQq8/JV2OstnstT8Er5Y7M8G+P0c+r3jqkcU/5h99k6ZBzj88bCIzFzjVP4enV8oyxN0//yH99nXg5D8qOpLLf0jtP5kqGJXUifQ/c9cS8kHP/D+/DpwzojQEQIEmwoanVwxA4lgXt9HgE0BSSZ2AJuIbQAMJih9jjiNA5q4l5INuK0AwTKYKRj0zQNv5fmq8/DpAaCJseHrtQkB/+zpwzoxKQM3MzMzMeFJAZmZmZmZqWEAAAAAAAFxeQM3MzMzMJmJAmpmZmZkfZUBmZmZmZhhoQDMzMzMzEWtAAAAAAAAKbkBmZmZmZoFwQM3MzMzM/XFAMzMzMzN6c0CamZmZmfZ0QAAAAAAAc3ZAZmZmZmbvd0DNzMzMzGt5QDMzMzMz6HpAmpmZmZlkfEAAAAAAAOF9QGZmZmZmXX9AZmZmZuZsgECamZmZGSuBQM3MzMxM6YFAAAAAAICngkAzMzMzs2WDQGZmZmbmI4RAmpmZmRnihEDNzMzMTKCFQAAAAACAXoZAMzMzM7Mch0BmZmZm5tqHQJqZmZkZmYhAzczMzExXiUAAAAAAgBWKQDMzMzOz04pAZmZmZuaRi0CamZmZGVCMQM3MzMxMDo1AAAAAAIDMjUAzMzMzs4qOQGZmZmbmSI9A\",\"dtype\":\"float64\",\"shape\":[75]}},\"selected\":{\"id\":\"a2eac6d2-5611-4ec9-9fbf-48a6f56e613b\",\"type\":\"Selection\"},\"selection_policy\":{\"id\":\"25d7bd3f-94db-4f8c-854b-d4f02eec2f4a\",\"type\":\"UnionRenderers\"}},\"id\":\"b7c9aa0c-7843-4089-a039-53dcd5bedec9\",\"type\":\"ColumnDataSource\"},{\"attributes\":{\"callback\":null,\"end\":0.01,\"start\":1020},\"id\":\"02ab9caa-5e12-4855-b329-23f31bd2f4b7\",\"type\":\"Range1d\"},{\"attributes\":{\"active_drag\":\"auto\",\"active_inspect\":\"auto\",\"active_scroll\":\"auto\",\"active_tap\":\"auto\",\"tools\":[{\"id\":\"d733c6ba-1061-4a94-a696-7ed6133d541d\",\"type\":\"PanTool\"},{\"id\":\"3a855be9-9235-4c3c-bfa1-935115124593\",\"type\":\"WheelZoomTool\"},{\"id\":\"6588d0d6-af71-438e-884b-f0d9b4937b50\",\"type\":\"BoxZoomTool\"},{\"id\":\"d48c310a-3186-4e89-acf9-a37305d91347\",\"type\":\"SaveTool\"},{\"id\":\"a53df64d-86f6-4daa-8d56-f8e45740125a\",\"type\":\"ResetTool\"},{\"id\":\"cbf203ac-387d-4d9f-854a-640633e90cbc\",\"type\":\"HelpTool\"}]},\"id\":\"4908653b-efea-4ae4-a8f7-6a078d58dc5f\",\"type\":\"Toolbar\"},{\"attributes\":{\"dimension\":1,\"plot\":{\"id\":\"80b479de-5676-49dd-b04f-8641943e0360\",\"subtype\":\"Figure\",\"type\":\"Plot\"},\"ticker\":{\"id\":\"8173996c-39ac-405d-9b7f-fade0103b0fa\",\"type\":\"LogTicker\"}},\"id\":\"724c56ee-8d2c-4629-8e6c-23fec9b8572a\",\"type\":\"Grid\"},{\"attributes\":{\"plot\":{\"id\":\"5b46b483-ff83-4fc6-886b-3d4bcdc31798\",\"subtype\":\"Figure\",\"type\":\"Plot\"},\"ticker\":{\"id\":\"5fef0e88-e678-4e79-9184-1096d982b289\",\"type\":\"BasicTicker\"}},\"id\":\"b57e1d96-8495-4f8d-9f0a-a58410a04467\",\"type\":\"Grid\"},{\"attributes\":{\"line_alpha\":0.6,\"line_color\":\"#377eb8\",\"line_dash\":[6],\"line_width\":5,\"x\":{\"field\":\"x\"},\"y\":{\"field\":\"y\"}},\"id\":\"0b4cb2f4-d8ee-4494-9eec-d5a0cf27dec1\",\"type\":\"Line\"},{\"attributes\":{\"data_source\":{\"id\":\"d5ce13a7-82fc-4660-9059-2f47968ef77c\",\"type\":\"ColumnDataSource\"},\"glyph\":{\"id\":\"0bc31737-8896-4025-a046-729626e2181f\",\"type\":\"Line\"},\"hover_glyph\":null,\"muted_glyph\":null,\"nonselection_glyph\":{\"id\":\"d964cb36-1ea9-4f17-8463-28f29c192fa8\",\"type\":\"Line\"},\"selection_glyph\":null,\"view\":{\"id\":\"bbc545ce-0246-4f7d-8f89-f226dbe27dba\",\"type\":\"CDSView\"}},\"id\":\"bf094769-0bc9-41b2-8ff5-6ad8e32e13c7\",\"type\":\"GlyphRenderer\"},{\"attributes\":{\"bottom_units\":\"screen\",\"fill_alpha\":{\"value\":0.5},\"fill_color\":{\"value\":\"lightgrey\"},\"left_units\":\"screen\",\"level\":\"overlay\",\"line_alpha\":{\"value\":1.0},\"line_color\":{\"value\":\"black\"},\"line_dash\":[4,4],\"line_width\":{\"value\":2},\"plot\":null,\"render_mode\":\"css\",\"right_units\":\"screen\",\"top_units\":\"screen\"},\"id\":\"96c3bab3-f359-4748-975f-d7180276c350\",\"type\":\"BoxAnnotation\"},{\"attributes\":{\"callback\":null,\"data\":{\"x\":{\"__ndarray__\":\"KuCC2K78Q8C6Stk+DYMgwJaAIAKDsQLAixXjO00j/D+xawG4yi8OQDhf76oUzw5AROq8tudTBEAfk/AHRs7mP4fjg1IWFui/Az0G76cp9b/TCJlVET3xv2WsLTeGpt6/Nul621jZtj9Z2IbJT5/dPxiTqY0CUOE/7nBnvGXR1j+OIkfeHyWyPwonWY/MaNG/uGJwFjA34b9q0UdlZ07hvw31UcUdmtO/NhBfOHNuur8zWxTQhtWgvzSfVyIQvMu/cAOXzI9E179iZJusDBG7v4yirg7ZktQ/QgO3ymy21T+y8T77o8G4P6vzXUPLpIs/kkCGBaaRzj8N0F0xMlHUPxq0XoSQhsE/lumYQcdqq7+tUZVAaruZv2o5TLk2s6M/bGp7yLG4nL9ymdG/C9qyv7Rl7uduxq6/CNYdYhHoq794ZYlUfMWuvw+y21XFua+/VtVi3VG1sb9v+Sxns0Kov4bN24+heLC/7bi+jDxpv7/zr/HpOjS0v8rO25dqla6/2V1kXjBLtb8xRZIkOTW1vxzetZFzgKy/oiM1pZSDn7+IkfR0TWmUv9xYTIK1/pW/7xxFF8nXnb8ODkvddwefv74MrRhuPI6/08BxOkUejz9aMKgE/k+mP6bf262Ss6w/Xvo/NrLzpz+dZANgcXWYPyBYS++FQ0s/sLgn+SWjeb/4ms7Qq4FuP9eBc2s2dJs/agvI2v/5rD9eFD3wMdiyP147eQ1yx7M/ZT1EOOlDzj/VzePAF0jOP9bryqlMcc4/DobzNZEQ0D+RJKkJOe/QP/nFbYAOPdE/\",\"dtype\":\"float64\",\"shape\":[75]},\"y\":{\"__ndarray__\":\"GhExyth1ND/Sv8nbtpRIP2vylNV0PVE/aTum7souWD/At0SJ8fVgPw3Iuahxymc/MSNhhJWvcD/bTfBN02d3P2zb5nxnaoA/CD5h5MAGhz8NmeH1TyaQP+zrCsc9p5Y/LbKd76fGnz/bLW5ISEmmPww9YvTcQq8/JV2OstnstT8Er5Y7M8G+P0c+r3jqkcU/5h99k6ZBzj88bCIzFzjVP4enV8oyxN0//yH99nXg5D8qOpLLf0jtP5kqGJXUifQ/c9cS8kHP/D+/DpwzojQEQIEmwoanVwxA4lgXt9HgE0BSSZ2AJuIbQAMJih9jjiNA5q4l5INuK0AwTKYKRj0zQNv5fmq8/DpAaCJseHrtQkB/+zpwzoxKQM3MzMzMeFJAZmZmZmZqWEAAAAAAAFxeQM3MzMzMJmJAmpmZmZkfZUBmZmZmZhhoQDMzMzMzEWtAAAAAAAAKbkBmZmZmZoFwQM3MzMzM/XFAMzMzMzN6c0CamZmZmfZ0QAAAAAAAc3ZAZmZmZmbvd0DNzMzMzGt5QDMzMzMz6HpAmpmZmZlkfEAAAAAAAOF9QGZmZmZmXX9AZmZmZuZsgECamZmZGSuBQM3MzMxM6YFAAAAAAICngkAzMzMzs2WDQGZmZmbmI4RAmpmZmRnihEDNzMzMTKCFQAAAAACAXoZAMzMzM7Mch0BmZmZm5tqHQJqZmZkZmYhAzczMzExXiUAAAAAAgBWKQDMzMzOz04pAZmZmZuaRi0CamZmZGVCMQM3MzMxMDo1AAAAAAIDMjUAzMzMzs4qOQGZmZmbmSI9A\",\"dtype\":\"float64\",\"shape\":[75]}},\"selected\":{\"id\":\"a6a79d6e-472b-4783-8d49-e0883eea9c83\",\"type\":\"Selection\"},\"selection_policy\":{\"id\":\"8b73d657-1889-4738-a48d-9137f3d2fc7a\",\"type\":\"UnionRenderers\"}},\"id\":\"a33e56a5-6b75-47e3-a647-9a7fe54c548b\",\"type\":\"ColumnDataSource\"},{\"attributes\":{},\"id\":\"ff7bc7dc-69bf-4a74-9c94-1a5a1b1ccbf7\",\"type\":\"WheelZoomTool\"},{\"attributes\":{},\"id\":\"6f5c1d82-6546-444d-b30a-791475dbe008\",\"type\":\"ResetTool\"},{\"attributes\":{},\"id\":\"91fda169-0f16-45d8-8877-1106ffe2f112\",\"type\":\"SaveTool\"},{\"attributes\":{\"dimension\":1,\"plot\":{\"id\":\"5b46b483-ff83-4fc6-886b-3d4bcdc31798\",\"subtype\":\"Figure\",\"type\":\"Plot\"},\"ticker\":{\"id\":\"d877045a-b67b-415a-8c8e-454fb24679e6\",\"type\":\"LogTicker\"}},\"id\":\"6b496d66-1f71-4a4c-ac99-a59219527b52\",\"type\":\"Grid\"},{\"attributes\":{},\"id\":\"520710d5-23ac-4db9-abb6-eb4a8352f302\",\"type\":\"ResetTool\"},{\"attributes\":{},\"id\":\"57a2cc76-3fc3-418d-a377-7147e4e050b5\",\"type\":\"LinearScale\"},{\"attributes\":{},\"id\":\"b843b669-1c60-4d0f-89aa-6baa9301c69e\",\"type\":\"UnionRenderers\"},{\"attributes\":{},\"id\":\"d48c310a-3186-4e89-acf9-a37305d91347\",\"type\":\"SaveTool\"},{\"attributes\":{\"fill_alpha\":{\"value\":0.7},\"fill_color\":{\"value\":\"#4daf4a\"},\"line_alpha\":{\"value\":0.7},\"line_color\":{\"value\":\"#4daf4a\"},\"x\":{\"field\":\"x\"},\"y\":{\"field\":\"y\"}},\"id\":\"fd8dd4ea-c3ac-4ac1-b3d6-d7d8ca79f981\",\"type\":\"Circle\"},{\"attributes\":{\"items\":[{\"id\":\"9ffa7649-6c2b-4098-881e-4c5a442783bb\",\"type\":\"LegendItem\"},{\"id\":\"58bbbfdc-84c6-4dc7-8521-0d1d17287fcc\",\"type\":\"LegendItem\"}],\"label_text_font_size\":{\"value\":\"8pt\"},\"location\":\"top_center\",\"orientation\":\"horizontal\",\"plot\":{\"id\":\"80b479de-5676-49dd-b04f-8641943e0360\",\"subtype\":\"Figure\",\"type\":\"Plot\"}},\"id\":\"c74967ba-a200-4206-ba36-9daa98bf821b\",\"type\":\"Legend\"},{\"attributes\":{\"callback\":null,\"data\":{\"x\":{\"__ndarray__\":\"R/KIaN7AVEClCeJMyPNGQOvRhpxr30JAptxzhxx4PkA7SssMElA4QK6Bp3CyUDNAsVXpjES9LkBFhUV0+5coQMHYwqbbySNA6f09nM3nH0CaSd/3eYoZQDmgiAOW8BNAPYqARh3eDEBkm4vCgvr+P9D+5tWhQfY/P8DwKRnSAkBq38kb17ILQDT7IWuSsxFAUr2Rjm0FFkAinq3s9XgbQGCHwtYcqSFAG64kT303J0C7dRDneyooQD9JYrbK8yRA9S3bneHhIUAIymSuUMMcQIkHLe6VEBdAAau3cITREkA6CiNvkQIPQJU39ki7IQlAaAvwok1UA0BXLQiS4+L7P0xzDpJ2hPI/NNuPGMbJ5z91mUVYxqfSPxqwUPSxZca/G11peifD3L8QzNj5t2jTvwzOozTL360/SPJ4VI1VzD9KJ0nXEIncP8yDdlvHt+4/Et49nYLW9z++2teD4Jn+P+568eH/bwFALf5D9lmAAkCiZAicVOkCQPPT4jNKxwJAOjp3wTzBAUBSQsKNGisBQG4OmjqJwQBAJ3sZoHFuAEA5Ar0Sdi0AQGy4rw5+9f8/7W4nSrC3/z8mPr8zj4T/P4UYRHCQS/8/embVKYcF/z+5YXG+LLP+P/qb8BVUgf4/KvafTtyO/j/avAK1Ppv+PwJV9VVm2P0/JFtYlU/n/D9sN+q2fiX6Pw44e41PNPc/Opt+Z/wN9T+x3vcSW1vzP9ofvWQJlvI/8sciQQBW8j80sfkQa17yPzg5qng2r/I/Oh14WJBh8z+VZjnpctj0P6CcrSuCqQBA\",\"dtype\":\"float64\",\"shape\":[75]},\"y\":{\"__ndarray__\":\"GhExyth1ND/Sv8nbtpRIP2vylNV0PVE/aTum7souWD/At0SJ8fVgPw3Iuahxymc/MSNhhJWvcD/bTfBN02d3P2zb5nxnaoA/CD5h5MAGhz8NmeH1TyaQP+zrCsc9p5Y/LbKd76fGnz/bLW5ISEmmPww9YvTcQq8/JV2OstnstT8Er5Y7M8G+P0c+r3jqkcU/5h99k6ZBzj88bCIzFzjVP4enV8oyxN0//yH99nXg5D8qOpLLf0jtP5kqGJXUifQ/c9cS8kHP/D+/DpwzojQEQIEmwoanVwxA4lgXt9HgE0BSSZ2AJuIbQAMJih9jjiNA5q4l5INuK0AwTKYKRj0zQNv5fmq8/DpAaCJseHrtQkB/+zpwzoxKQM3MzMzMeFJAZmZmZmZqWEAAAAAAAFxeQM3MzMzMJmJAmpmZmZkfZUBmZmZmZhhoQDMzMzMzEWtAAAAAAAAKbkBmZmZmZoFwQM3MzMzM/XFAMzMzMzN6c0CamZmZmfZ0QAAAAAAAc3ZAZmZmZmbvd0DNzMzMzGt5QDMzMzMz6HpAmpmZmZlkfEAAAAAAAOF9QGZmZmZmXX9AZmZmZuZsgECamZmZGSuBQM3MzMxM6YFAAAAAAICngkAzMzMzs2WDQGZmZmbmI4RAmpmZmRnihEDNzMzMTKCFQAAAAACAXoZAMzMzM7Mch0BmZmZm5tqHQJqZmZkZmYhAzczMzExXiUAAAAAAgBWKQDMzMzOz04pAZmZmZuaRi0CamZmZGVCMQM3MzMxMDo1AAAAAAIDMjUAzMzMzs4qOQGZmZmbmSI9A\",\"dtype\":\"float64\",\"shape\":[75]}},\"selected\":{\"id\":\"4f0571b1-d4e9-4fd4-8433-13fea9d41ba2\",\"type\":\"Selection\"},\"selection_policy\":{\"id\":\"a765fd29-0bf8-498d-91e1-2e6c2ae75109\",\"type\":\"UnionRenderers\"}},\"id\":\"d5ce13a7-82fc-4660-9059-2f47968ef77c\",\"type\":\"ColumnDataSource\"},{\"attributes\":{\"callback\":null,\"data\":{\"x\":{\"__ndarray__\":\"ZQSP+A2FRUD4tiv9BNNCQOLJZGxTtEFAAAeZrSgdQECzd8tjCxY8QJRtBQaVKjdAIkhMPR/pMUB2jsTU3wQqQIeamkF6SCJAq258oGOdGkBnB3miNTsVQHTFFaAtBhJAiWFcDeiUDUC9qHZaKzEDQF3Iuxyj6f4/XK594UWsBUB9GLwaAEQMQMZoLKIFnRBA+7DDi4feE0D0owQAKU8ZQLf3l+hLDCFA+++zaKACJ0BhYUBgphkoQMXq2HXahCRA2nV2H70nIUB2XLJ7DFccQLPxF3/DWRhANRtjPessFEDGAf2OnsgPQIiVORRgPQlAcm9IA2g9BUCs0C8PmHsAQM9JmqJItfQ/m0x2pBkT5j9aRDy0DwzRP8Ch/UXkeMG/wxPxlrKO3r9tMs3pOh/Yvwz1Uml21Fy/xnzx+4hbxT+c+rdMYbDYP6vIGAYrvOw/vrBnfy279j/zcp7oytf9P4GcctU67ABAZgjeERCFAUAh17jEskcCQLhkg4n0TAJATReEPuMWAUApsJ3EcIEAQPU2U2yHTwBA3xDPdmovAEAXGdN3owQAQAmHpjiDnf8/elrKJVFA/z/uEUpUcQj/P2u+EpQXD/8//ElKtMND/z88o5aurGX/P/Z6X6vwZv8//vVR4HlO/z9tyoJ6FP3+P2o+s8bO2/0/bDNfb6zN/D+6ntKMvzT6PxUGKWcgovc/ldtUZsz19T/3r/sx3oj0P4+zlIWA0vM/n08raH0e9j/wKhYJbif2P7OW4w1gffY/vv70pbRl9z+5r6MrQRT5P19Vu/sj0QJA\",\"dtype\":\"float64\",\"shape\":[75]},\"y\":{\"__ndarray__\":\"GhExyth1ND/Sv8nbtpRIP2vylNV0PVE/aTum7souWD/At0SJ8fVgPw3Iuahxymc/MSNhhJWvcD/bTfBN02d3P2zb5nxnaoA/CD5h5MAGhz8NmeH1TyaQP+zrCsc9p5Y/LbKd76fGnz/bLW5ISEmmPww9YvTcQq8/JV2OstnstT8Er5Y7M8G+P0c+r3jqkcU/5h99k6ZBzj88bCIzFzjVP4enV8oyxN0//yH99nXg5D8qOpLLf0jtP5kqGJXUifQ/c9cS8kHP/D+/DpwzojQEQIEmwoanVwxA4lgXt9HgE0BSSZ2AJuIbQAMJih9jjiNA5q4l5INuK0AwTKYKRj0zQNv5fmq8/DpAaCJseHrtQkB/+zpwzoxKQM3MzMzMeFJAZmZmZmZqWEAAAAAAAFxeQM3MzMzMJmJAmpmZmZkfZUBmZmZmZhhoQDMzMzMzEWtAAAAAAAAKbkBmZmZmZoFwQM3MzMzM/XFAMzMzMzN6c0CamZmZmfZ0QAAAAAAAc3ZAZmZmZmbvd0DNzMzMzGt5QDMzMzMz6HpAmpmZmZlkfEAAAAAAAOF9QGZmZmZmXX9AZmZmZuZsgECamZmZGSuBQM3MzMxM6YFAAAAAAICngkAzMzMzs2WDQGZmZmbmI4RAmpmZmRnihEDNzMzMTKCFQAAAAACAXoZAMzMzM7Mch0BmZmZm5tqHQJqZmZkZmYhAzczMzExXiUAAAAAAgBWKQDMzMzOz04pAZmZmZuaRi0CamZmZGVCMQM3MzMxMDo1AAAAAAIDMjUAzMzMzs4qOQGZmZmbmSI9A\",\"dtype\":\"float64\",\"shape\":[75]}},\"selected\":{\"id\":\"11cbab63-05e3-4137-a0f6-0ab58643c6e5\",\"type\":\"Selection\"},\"selection_policy\":{\"id\":\"b843b669-1c60-4d0f-89aa-6baa9301c69e\",\"type\":\"UnionRenderers\"}},\"id\":\"33e98036-e221-42ab-8e91-ea2ff0cfa16b\",\"type\":\"ColumnDataSource\"},{\"attributes\":{\"source\":{\"id\":\"d2bd90df-4504-4e24-b44c-7ec56c4a2e25\",\"type\":\"ColumnDataSource\"}},\"id\":\"65630bde-2bb5-4610-9c8b-5ec72820d7b5\",\"type\":\"CDSView\"},{\"attributes\":{\"data_source\":{\"id\":\"359e0cc9-1ac7-4796-86bf-50522359067d\",\"type\":\"ColumnDataSource\"},\"glyph\":{\"id\":\"20c7c60a-2906-4317-8790-30962055d1af\",\"type\":\"Circle\"},\"hover_glyph\":null,\"muted_glyph\":null,\"nonselection_glyph\":{\"id\":\"04d7e864-f531-45a4-809f-fea472ff1104\",\"type\":\"Circle\"},\"selection_glyph\":null,\"view\":{\"id\":\"443d46b5-386f-4c88-8620-3a620134b92c\",\"type\":\"CDSView\"}},\"id\":\"2afd81c5-53ae-494b-acf7-ea7b50d3258b\",\"type\":\"GlyphRenderer\"},{\"attributes\":{},\"id\":\"cbf203ac-387d-4d9f-854a-640633e90cbc\",\"type\":\"HelpTool\"},{\"attributes\":{},\"id\":\"a53df64d-86f6-4daa-8d56-f8e45740125a\",\"type\":\"ResetTool\"},{\"attributes\":{},\"id\":\"2732908a-ddb2-40b0-bbbb-f2da42373cc1\",\"type\":\"HelpTool\"},{\"attributes\":{\"bottom_units\":\"screen\",\"fill_alpha\":{\"value\":0.5},\"fill_color\":{\"value\":\"lightgrey\"},\"left_units\":\"screen\",\"level\":\"overlay\",\"line_alpha\":{\"value\":1.0},\"line_color\":{\"value\":\"black\"},\"line_dash\":[4,4],\"line_width\":{\"value\":2},\"plot\":null,\"render_mode\":\"css\",\"right_units\":\"screen\",\"top_units\":\"screen\"},\"id\":\"e346ee25-dc76-46ed-bdca-5edb6577787e\",\"type\":\"BoxAnnotation\"},{\"attributes\":{\"fill_alpha\":{\"value\":0.1},\"fill_color\":{\"value\":\"#1f77b4\"},\"line_alpha\":{\"value\":0.1},\"line_color\":{\"value\":\"#1f77b4\"},\"x\":{\"field\":\"x\"},\"y\":{\"field\":\"y\"}},\"id\":\"3a353ddd-3678-4820-a6d8-26c388def269\",\"type\":\"Circle\"},{\"attributes\":{},\"id\":\"efcc05b1-f5fd-4e4c-8499-140aad11715c\",\"type\":\"PanTool\"},{\"attributes\":{\"callback\":null,\"data\":{\"x\":{\"__ndarray__\":\"R/KIaN7AVEClCeJMyPNGQOvRhpxr30JAptxzhxx4PkA7SssMElA4QK6Bp3CyUDNAsVXpjES9LkBFhUV0+5coQMHYwqbbySNA6f09nM3nH0CaSd/3eYoZQDmgiAOW8BNAPYqARh3eDEBkm4vCgvr+P9D+5tWhQfY/P8DwKRnSAkBq38kb17ILQDT7IWuSsxFAUr2Rjm0FFkAinq3s9XgbQGCHwtYcqSFAG64kT303J0C7dRDneyooQD9JYrbK8yRA9S3bneHhIUAIymSuUMMcQIkHLe6VEBdAAau3cITREkA6CiNvkQIPQJU39ki7IQlAaAvwok1UA0BXLQiS4+L7P0xzDpJ2hPI/NNuPGMbJ5z91mUVYxqfSPxqwUPSxZca/G11peifD3L8QzNj5t2jTvwzOozTL360/SPJ4VI1VzD9KJ0nXEIncP8yDdlvHt+4/Et49nYLW9z++2teD4Jn+P+568eH/bwFALf5D9lmAAkCiZAicVOkCQPPT4jNKxwJAOjp3wTzBAUBSQsKNGisBQG4OmjqJwQBAJ3sZoHFuAEA5Ar0Sdi0AQGy4rw5+9f8/7W4nSrC3/z8mPr8zj4T/P4UYRHCQS/8/embVKYcF/z+5YXG+LLP+P/qb8BVUgf4/KvafTtyO/j/avAK1Ppv+PwJV9VVm2P0/JFtYlU/n/D9sN+q2fiX6Pw44e41PNPc/Opt+Z/wN9T+x3vcSW1vzP9ofvWQJlvI/8sciQQBW8j80sfkQa17yPzg5qng2r/I/Oh14WJBh8z+VZjnpctj0P6CcrSuCqQBA\",\"dtype\":\"float64\",\"shape\":[75]},\"y\":{\"__ndarray__\":\"GhExyth1ND/Sv8nbtpRIP2vylNV0PVE/aTum7souWD/At0SJ8fVgPw3Iuahxymc/MSNhhJWvcD/bTfBN02d3P2zb5nxnaoA/CD5h5MAGhz8NmeH1TyaQP+zrCsc9p5Y/LbKd76fGnz/bLW5ISEmmPww9YvTcQq8/JV2OstnstT8Er5Y7M8G+P0c+r3jqkcU/5h99k6ZBzj88bCIzFzjVP4enV8oyxN0//yH99nXg5D8qOpLLf0jtP5kqGJXUifQ/c9cS8kHP/D+/DpwzojQEQIEmwoanVwxA4lgXt9HgE0BSSZ2AJuIbQAMJih9jjiNA5q4l5INuK0AwTKYKRj0zQNv5fmq8/DpAaCJseHrtQkB/+zpwzoxKQM3MzMzMeFJAZmZmZmZqWEAAAAAAAFxeQM3MzMzMJmJAmpmZmZkfZUBmZmZmZhhoQDMzMzMzEWtAAAAAAAAKbkBmZmZmZoFwQM3MzMzM/XFAMzMzMzN6c0CamZmZmfZ0QAAAAAAAc3ZAZmZmZmbvd0DNzMzMzGt5QDMzMzMz6HpAmpmZmZlkfEAAAAAAAOF9QGZmZmZmXX9AZmZmZuZsgECamZmZGSuBQM3MzMxM6YFAAAAAAICngkAzMzMzs2WDQGZmZmbmI4RAmpmZmRnihEDNzMzMTKCFQAAAAACAXoZAMzMzM7Mch0BmZmZm5tqHQJqZmZkZmYhAzczMzExXiUAAAAAAgBWKQDMzMzOz04pAZmZmZuaRi0CamZmZGVCMQM3MzMxMDo1AAAAAAIDMjUAzMzMzs4qOQGZmZmbmSI9A\",\"dtype\":\"float64\",\"shape\":[75]}},\"selected\":{\"id\":\"674f2666-0678-410e-b5ad-a623a1e50a1a\",\"type\":\"Selection\"},\"selection_policy\":{\"id\":\"89ee72d2-765e-4c50-87c3-12be15673010\",\"type\":\"UnionRenderers\"}},\"id\":\"4241e94e-0917-4330-92fa-960b0706436d\",\"type\":\"ColumnDataSource\"},{\"attributes\":{},\"id\":\"11cbab63-05e3-4137-a0f6-0ab58643c6e5\",\"type\":\"Selection\"},{\"attributes\":{\"items\":[{\"id\":\"c704fc58-e4ad-4d29-95f1-a14a8807c0ff\",\"type\":\"LegendItem\"},{\"id\":\"77fe165b-0ac7-4596-a09e-2ad22d942f21\",\"type\":\"LegendItem\"}],\"label_text_font_size\":{\"value\":\"8pt\"},\"location\":\"top_center\",\"orientation\":\"horizontal\",\"plot\":{\"id\":\"b2c8a02b-d4c6-484f-9eb1-fa5238f9f7a2\",\"subtype\":\"Figure\",\"type\":\"Plot\"}},\"id\":\"a884efbe-0234-4116-9329-910d3a8b55e4\",\"type\":\"Legend\"},{\"attributes\":{\"fill_alpha\":{\"value\":0.1},\"fill_color\":{\"value\":\"#1f77b4\"},\"line_alpha\":{\"value\":0.1},\"line_color\":{\"value\":\"#1f77b4\"},\"x\":{\"field\":\"x\"},\"y\":{\"field\":\"y\"}},\"id\":\"04d7e864-f531-45a4-809f-fea472ff1104\",\"type\":\"Circle\"},{\"attributes\":{\"line_alpha\":0.8,\"line_color\":\"#984ea3\",\"line_width\":1.5,\"x\":{\"field\":\"x\"},\"y\":{\"field\":\"y\"}},\"id\":\"64b7d86e-ef70-4957-a85e-0f18a37201a0\",\"type\":\"Line\"},{\"attributes\":{\"data_source\":{\"id\":\"b7c9aa0c-7843-4089-a039-53dcd5bedec9\",\"type\":\"ColumnDataSource\"},\"glyph\":{\"id\":\"ab82c8ac-95e6-4146-8bb3-55ff0c4baf20\",\"type\":\"Circle\"},\"hover_glyph\":null,\"muted_glyph\":null,\"nonselection_glyph\":{\"id\":\"99481656-4406-40c4-a6bd-aba5140f4715\",\"type\":\"Circle\"},\"selection_glyph\":null,\"view\":{\"id\":\"7a4e4b73-2dd7-4bee-89bf-ad48b382280e\",\"type\":\"CDSView\"}},\"id\":\"13beec08-bf0c-4b83-b4c0-3fb4654ae05c\",\"type\":\"GlyphRenderer\"},{\"attributes\":{\"line_color\":\"#4daf4a\",\"line_width\":1.5,\"x\":{\"field\":\"x\"},\"y\":{\"field\":\"y\"}},\"id\":\"db3c31c0-32e3-426b-9e46-be0e356dc6ed\",\"type\":\"Line\"},{\"attributes\":{\"source\":{\"id\":\"4241e94e-0917-4330-92fa-960b0706436d\",\"type\":\"ColumnDataSource\"}},\"id\":\"2ca9ebe9-abe5-4819-aab9-683d74961979\",\"type\":\"CDSView\"},{\"attributes\":{\"callback\":null,\"data\":{\"x\":{\"__ndarray__\":\"R/KIaN7AVEClCeJMyPNGQOvRhpxr30JAptxzhxx4PkA7SssMElA4QK6Bp3CyUDNAsVXpjES9LkBFhUV0+5coQMHYwqbbySNA6f09nM3nH0CaSd/3eYoZQDmgiAOW8BNAPYqARh3eDEBkm4vCgvr+P9D+5tWhQfY/P8DwKRnSAkBq38kb17ILQDT7IWuSsxFAUr2Rjm0FFkAinq3s9XgbQGCHwtYcqSFAG64kT303J0C7dRDneyooQD9JYrbK8yRA9S3bneHhIUAIymSuUMMcQIkHLe6VEBdAAau3cITREkA6CiNvkQIPQJU39ki7IQlAaAvwok1UA0BXLQiS4+L7P0xzDpJ2hPI/NNuPGMbJ5z91mUVYxqfSPxqwUPSxZca/G11peifD3L8QzNj5t2jTvwzOozTL360/SPJ4VI1VzD9KJ0nXEIncP8yDdlvHt+4/Et49nYLW9z++2teD4Jn+P+568eH/bwFALf5D9lmAAkCiZAicVOkCQPPT4jNKxwJAOjp3wTzBAUBSQsKNGisBQG4OmjqJwQBAJ3sZoHFuAEA5Ar0Sdi0AQGy4rw5+9f8/7W4nSrC3/z8mPr8zj4T/P4UYRHCQS/8/embVKYcF/z+5YXG+LLP+P/qb8BVUgf4/KvafTtyO/j/avAK1Ppv+PwJV9VVm2P0/JFtYlU/n/D9sN+q2fiX6Pw44e41PNPc/Opt+Z/wN9T+x3vcSW1vzP9ofvWQJlvI/8sciQQBW8j80sfkQa17yPzg5qng2r/I/Oh14WJBh8z+VZjnpctj0P6CcrSuCqQBA\",\"dtype\":\"float64\",\"shape\":[75]},\"y\":{\"__ndarray__\":\"GhExyth1ND/Sv8nbtpRIP2vylNV0PVE/aTum7souWD/At0SJ8fVgPw3Iuahxymc/MSNhhJWvcD/bTfBN02d3P2zb5nxnaoA/CD5h5MAGhz8NmeH1TyaQP+zrCsc9p5Y/LbKd76fGnz/bLW5ISEmmPww9YvTcQq8/JV2OstnstT8Er5Y7M8G+P0c+r3jqkcU/5h99k6ZBzj88bCIzFzjVP4enV8oyxN0//yH99nXg5D8qOpLLf0jtP5kqGJXUifQ/c9cS8kHP/D+/DpwzojQEQIEmwoanVwxA4lgXt9HgE0BSSZ2AJuIbQAMJih9jjiNA5q4l5INuK0AwTKYKRj0zQNv5fmq8/DpAaCJseHrtQkB/+zpwzoxKQM3MzMzMeFJAZmZmZmZqWEAAAAAAAFxeQM3MzMzMJmJAmpmZmZkfZUBmZmZmZhhoQDMzMzMzEWtAAAAAAAAKbkBmZmZmZoFwQM3MzMzM/XFAMzMzMzN6c0CamZmZmfZ0QAAAAAAAc3ZAZmZmZmbvd0DNzMzMzGt5QDMzMzMz6HpAmpmZmZlkfEAAAAAAAOF9QGZmZmZmXX9AZmZmZuZsgECamZmZGSuBQM3MzMxM6YFAAAAAAICngkAzMzMzs2WDQGZmZmbmI4RAmpmZmRnihEDNzMzMTKCFQAAAAACAXoZAMzMzM7Mch0BmZmZm5tqHQJqZmZkZmYhAzczMzExXiUAAAAAAgBWKQDMzMzOz04pAZmZmZuaRi0CamZmZGVCMQM3MzMxMDo1AAAAAAIDMjUAzMzMzs4qOQGZmZmbmSI9A\",\"dtype\":\"float64\",\"shape\":[75]}},\"selected\":{\"id\":\"8535999d-489c-430f-a315-e7881eb6e0ba\",\"type\":\"Selection\"},\"selection_policy\":{\"id\":\"2a98e7d0-07e0-45b3-a6c9-82b1af6a4cf9\",\"type\":\"UnionRenderers\"}},\"id\":\"359e0cc9-1ac7-4796-86bf-50522359067d\",\"type\":\"ColumnDataSource\"},{\"attributes\":{},\"id\":\"35903bfd-4a02-401d-9d4b-2031c146b422\",\"type\":\"HelpTool\"},{\"attributes\":{\"source\":{\"id\":\"359e0cc9-1ac7-4796-86bf-50522359067d\",\"type\":\"ColumnDataSource\"}},\"id\":\"443d46b5-386f-4c88-8620-3a620134b92c\",\"type\":\"CDSView\"},{\"attributes\":{\"data_source\":{\"id\":\"33e98036-e221-42ab-8e91-ea2ff0cfa16b\",\"type\":\"ColumnDataSource\"},\"glyph\":{\"id\":\"0b4cb2f4-d8ee-4494-9eec-d5a0cf27dec1\",\"type\":\"Line\"},\"hover_glyph\":null,\"muted_glyph\":null,\"nonselection_glyph\":{\"id\":\"2c2b0dea-f5e0-451f-8742-6db83f3769fc\",\"type\":\"Line\"},\"selection_glyph\":null,\"view\":{\"id\":\"697cb75b-1e44-45d5-ae24-328b3f3c706c\",\"type\":\"CDSView\"}},\"id\":\"bec1a6b7-ff2e-4a1c-8d2a-780202095b52\",\"type\":\"GlyphRenderer\"},{\"attributes\":{\"source\":{\"id\":\"b7c9aa0c-7843-4089-a039-53dcd5bedec9\",\"type\":\"ColumnDataSource\"}},\"id\":\"7a4e4b73-2dd7-4bee-89bf-ad48b382280e\",\"type\":\"CDSView\"},{\"attributes\":{\"line_color\":\"#4daf4a\",\"line_width\":1.5,\"x\":{\"field\":\"x\"},\"y\":{\"field\":\"y\"}},\"id\":\"0bc31737-8896-4025-a046-729626e2181f\",\"type\":\"Line\"},{\"attributes\":{\"source\":{\"id\":\"33e98036-e221-42ab-8e91-ea2ff0cfa16b\",\"type\":\"ColumnDataSource\"}},\"id\":\"697cb75b-1e44-45d5-ae24-328b3f3c706c\",\"type\":\"CDSView\"},{\"attributes\":{\"overlay\":{\"id\":\"96c3bab3-f359-4748-975f-d7180276c350\",\"type\":\"BoxAnnotation\"}},\"id\":\"6588d0d6-af71-438e-884b-f0d9b4937b50\",\"type\":\"BoxZoomTool\"},{\"attributes\":{},\"id\":\"a3aec03d-f618-473a-8c60-f0da70284399\",\"type\":\"PanTool\"},{\"attributes\":{\"dimension\":1,\"plot\":{\"id\":\"b2c8a02b-d4c6-484f-9eb1-fa5238f9f7a2\",\"subtype\":\"Figure\",\"type\":\"Plot\"},\"ticker\":{\"id\":\"b85f51ba-b3cd-45a1-aede-6e13a6198cb3\",\"type\":\"BasicTicker\"}},\"id\":\"9c54a298-c2bc-4d06-8066-c5a83340954d\",\"type\":\"Grid\"},{\"attributes\":{\"source\":{\"id\":\"1e314862-e59f-485e-851a-0e9ebd06e59f\",\"type\":\"ColumnDataSource\"}},\"id\":\"d005e882-22fb-4b33-96e7-1f96522afa89\",\"type\":\"CDSView\"},{\"attributes\":{\"axis_label\":\"pressure [mb]\",\"formatter\":{\"id\":\"1df2c3dd-8e54-4237-82ea-c0f9381e2b7b\",\"type\":\"BasicTickFormatter\"},\"plot\":{\"id\":\"b2c8a02b-d4c6-484f-9eb1-fa5238f9f7a2\",\"subtype\":\"Figure\",\"type\":\"Plot\"},\"ticker\":{\"id\":\"b85f51ba-b3cd-45a1-aede-6e13a6198cb3\",\"type\":\"BasicTicker\"}},\"id\":\"a34f662b-c75c-4877-8109-14eb6116d32f\",\"type\":\"LinearAxis\"},{\"attributes\":{},\"id\":\"b85f51ba-b3cd-45a1-aede-6e13a6198cb3\",\"type\":\"BasicTicker\"},{\"attributes\":{},\"id\":\"5fef0e88-e678-4e79-9184-1096d982b289\",\"type\":\"BasicTicker\"},{\"attributes\":{\"plot\":{\"id\":\"b2c8a02b-d4c6-484f-9eb1-fa5238f9f7a2\",\"subtype\":\"Figure\",\"type\":\"Plot\"},\"ticker\":{\"id\":\"ae6cc250-c46f-4bd8-b710-b8052835e36c\",\"type\":\"BasicTicker\"}},\"id\":\"aca9d40a-a5df-474a-bfbb-01f88cc60ac9\",\"type\":\"Grid\"},{\"attributes\":{\"callback\":null,\"data\":{\"x\":{\"__ndarray__\":\"R/KIaN7AVEClCeJMyPNGQOvRhpxr30JAptxzhxx4PkA7SssMElA4QK6Bp3CyUDNAsVXpjES9LkBFhUV0+5coQMHYwqbbySNA6f09nM3nH0CaSd/3eYoZQDmgiAOW8BNAPYqARh3eDEBkm4vCgvr+P9D+5tWhQfY/P8DwKRnSAkBq38kb17ILQDT7IWuSsxFAUr2Rjm0FFkAinq3s9XgbQGCHwtYcqSFAG64kT303J0C7dRDneyooQD9JYrbK8yRA9S3bneHhIUAIymSuUMMcQIkHLe6VEBdAAau3cITREkA6CiNvkQIPQJU39ki7IQlAaAvwok1UA0BXLQiS4+L7P0xzDpJ2hPI/NNuPGMbJ5z91mUVYxqfSPxqwUPSxZca/G11peifD3L8QzNj5t2jTvwzOozTL360/SPJ4VI1VzD9KJ0nXEIncP8yDdlvHt+4/Et49nYLW9z++2teD4Jn+P+568eH/bwFALf5D9lmAAkCiZAicVOkCQPPT4jNKxwJAOjp3wTzBAUBSQsKNGisBQG4OmjqJwQBAJ3sZoHFuAEA5Ar0Sdi0AQGy4rw5+9f8/7W4nSrC3/z8mPr8zj4T/P4UYRHCQS/8/embVKYcF/z+5YXG+LLP+P/qb8BVUgf4/KvafTtyO/j/avAK1Ppv+PwJV9VVm2P0/JFtYlU/n/D9sN+q2fiX6Pw44e41PNPc/Opt+Z/wN9T+x3vcSW1vzP9ofvWQJlvI/8sciQQBW8j80sfkQa17yPzg5qng2r/I/Oh14WJBh8z+VZjnpctj0P6CcrSuCqQBA\",\"dtype\":\"float64\",\"shape\":[75]},\"y\":{\"__ndarray__\":\"GhExyth1ND/Sv8nbtpRIP2vylNV0PVE/aTum7souWD/At0SJ8fVgPw3Iuahxymc/MSNhhJWvcD/bTfBN02d3P2zb5nxnaoA/CD5h5MAGhz8NmeH1TyaQP+zrCsc9p5Y/LbKd76fGnz/bLW5ISEmmPww9YvTcQq8/JV2OstnstT8Er5Y7M8G+P0c+r3jqkcU/5h99k6ZBzj88bCIzFzjVP4enV8oyxN0//yH99nXg5D8qOpLLf0jtP5kqGJXUifQ/c9cS8kHP/D+/DpwzojQEQIEmwoanVwxA4lgXt9HgE0BSSZ2AJuIbQAMJih9jjiNA5q4l5INuK0AwTKYKRj0zQNv5fmq8/DpAaCJseHrtQkB/+zpwzoxKQM3MzMzMeFJAZmZmZmZqWEAAAAAAAFxeQM3MzMzMJmJAmpmZmZkfZUBmZmZmZhhoQDMzMzMzEWtAAAAAAAAKbkBmZmZmZoFwQM3MzMzM/XFAMzMzMzN6c0CamZmZmfZ0QAAAAAAAc3ZAZmZmZmbvd0DNzMzMzGt5QDMzMzMz6HpAmpmZmZlkfEAAAAAAAOF9QGZmZmZmXX9AZmZmZuZsgECamZmZGSuBQM3MzMxM6YFAAAAAAICngkAzMzMzs2WDQGZmZmbmI4RAmpmZmRnihEDNzMzMTKCFQAAAAACAXoZAMzMzM7Mch0BmZmZm5tqHQJqZmZkZmYhAzczMzExXiUAAAAAAgBWKQDMzMzOz04pAZmZmZuaRi0CamZmZGVCMQM3MzMxMDo1AAAAAAIDMjUAzMzMzs4qOQGZmZmbmSI9A\",\"dtype\":\"float64\",\"shape\":[75]}},\"selected\":{\"id\":\"bad51860-04f8-4eac-af6e-826c2bf76190\",\"type\":\"Selection\"},\"selection_policy\":{\"id\":\"df4f8251-8ecb-4372-b10d-8af4cc720d8e\",\"type\":\"UnionRenderers\"}},\"id\":\"d2bd90df-4504-4e24-b44c-7ec56c4a2e25\",\"type\":\"ColumnDataSource\"},{\"attributes\":{},\"id\":\"b3fb0cba-58d7-46f4-ba63-22d410840691\",\"type\":\"LogScale\"},{\"attributes\":{\"fill_alpha\":{\"value\":0.1},\"fill_color\":{\"value\":\"#1f77b4\"},\"line_alpha\":{\"value\":0.1},\"line_color\":{\"value\":\"#1f77b4\"},\"x\":{\"field\":\"x\"},\"y\":{\"field\":\"y\"}},\"id\":\"99481656-4406-40c4-a6bd-aba5140f4715\",\"type\":\"Circle\"},{\"attributes\":{\"data_source\":{\"id\":\"1e314862-e59f-485e-851a-0e9ebd06e59f\",\"type\":\"ColumnDataSource\"},\"glyph\":{\"id\":\"339cf38e-6e00-4ed9-9d5c-5320d024fc5b\",\"type\":\"Line\"},\"hover_glyph\":null,\"muted_glyph\":null,\"nonselection_glyph\":{\"id\":\"4ff4b654-587d-4270-8a0c-d298f2c0e9b4\",\"type\":\"Line\"},\"selection_glyph\":null,\"view\":{\"id\":\"d005e882-22fb-4b33-96e7-1f96522afa89\",\"type\":\"CDSView\"}},\"id\":\"439a2af2-9a58-4b3a-a96c-f5f0a677c5b4\",\"type\":\"GlyphRenderer\"},{\"attributes\":{},\"id\":\"ae6cc250-c46f-4bd8-b710-b8052835e36c\",\"type\":\"BasicTicker\"},{\"attributes\":{\"fill_alpha\":{\"value\":0.7},\"fill_color\":{\"value\":\"#984ea3\"},\"line_alpha\":{\"value\":0.7},\"line_color\":{\"value\":\"#984ea3\"},\"x\":{\"field\":\"x\"},\"y\":{\"field\":\"y\"}},\"id\":\"ab82c8ac-95e6-4146-8bb3-55ff0c4baf20\",\"type\":\"Circle\"},{\"attributes\":{},\"id\":\"d1e111d6-7303-4460-9941-0785ae037311\",\"type\":\"LinearScale\"},{\"attributes\":{\"items\":[{\"id\":\"8847ea48-f441-4632-a336-a5ce71ee2c1f\",\"type\":\"LegendItem\"}],\"label_text_font_size\":{\"value\":\"8pt\"},\"location\":\"top_center\",\"orientation\":\"horizontal\",\"plot\":{\"id\":\"5b46b483-ff83-4fc6-886b-3d4bcdc31798\",\"subtype\":\"Figure\",\"type\":\"Plot\"}},\"id\":\"cc58bce3-0a44-464b-8b8b-0f09fbf5e38d\",\"type\":\"Legend\"},{\"attributes\":{},\"id\":\"274cbc7b-13b4-40a3-9385-8878b261e5b3\",\"type\":\"WheelZoomTool\"},{\"attributes\":{\"axis_label\":\"cooling rate [K/day]\",\"formatter\":{\"id\":\"7fcf7e50-44cb-43d8-a9a9-4a5e8d28affd\",\"type\":\"BasicTickFormatter\"},\"plot\":{\"id\":\"5b46b483-ff83-4fc6-886b-3d4bcdc31798\",\"subtype\":\"Figure\",\"type\":\"Plot\"},\"ticker\":{\"id\":\"5fef0e88-e678-4e79-9184-1096d982b289\",\"type\":\"BasicTicker\"}},\"id\":\"c04bd035-6273-46ee-bdd0-30f615290150\",\"type\":\"LinearAxis\"},{\"attributes\":{\"callback\":null,\"end\":0.01,\"start\":1020},\"id\":\"91e643de-4885-47b1-886b-150b052c5aa4\",\"type\":\"Range1d\"},{\"attributes\":{\"callback\":null,\"end\":0.559653710163221,\"start\":-1.3413067872931217},\"id\":\"bfc2be0e-0487-408b-bc36-61261bc7b2b7\",\"type\":\"Range1d\"},{\"attributes\":{\"label\":{\"value\":\"CLIRAD (single-run)\"},\"renderers\":[{\"id\":\"bec1a6b7-ff2e-4a1c-8d2a-780202095b52\",\"type\":\"GlyphRenderer\"}]},\"id\":\"9ffa7649-6c2b-4098-881e-4c5a442783bb\",\"type\":\"LegendItem\"},{\"attributes\":{\"ticker\":null},\"id\":\"64a6b5c7-7ab0-4166-acc5-236f32179175\",\"type\":\"LogTickFormatter\"},{\"attributes\":{\"plot\":null,\"text\":\"\"},\"id\":\"cca7f1b2-ea5f-43b8-81b3-670486a9e297\",\"type\":\"Title\"},{\"attributes\":{},\"id\":\"2a98e7d0-07e0-45b3-a6c9-82b1af6a4cf9\",\"type\":\"UnionRenderers\"},{\"attributes\":{},\"id\":\"a765fd29-0bf8-498d-91e1-2e6c2ae75109\",\"type\":\"UnionRenderers\"},{\"attributes\":{},\"id\":\"a6a79d6e-472b-4783-8d49-e0883eea9c83\",\"type\":\"Selection\"},{\"attributes\":{\"children\":[{\"id\":\"5dfa0298-b7af-473c-8d55-c599c12b10c7\",\"type\":\"ToolbarBox\"},{\"id\":\"7c3fdb07-3ac8-40e4-8a97-4a3bb3efc6fc\",\"type\":\"Column\"}]},\"id\":\"d4c2d5a9-4d2b-414d-b0f5-d9c3cf69ebba\",\"type\":\"Column\"},{\"attributes\":{\"children\":[{\"id\":\"f9fe4658-7b92-4a56-bb6e-fdc11cf6781c\",\"type\":\"Row\"}]},\"id\":\"7c3fdb07-3ac8-40e4-8a97-4a3bb3efc6fc\",\"type\":\"Column\"},{\"attributes\":{},\"id\":\"8535999d-489c-430f-a315-e7881eb6e0ba\",\"type\":\"Selection\"},{\"attributes\":{},\"id\":\"674f2666-0678-410e-b5ad-a623a1e50a1a\",\"type\":\"Selection\"},{\"attributes\":{},\"id\":\"7fcf7e50-44cb-43d8-a9a9-4a5e8d28affd\",\"type\":\"BasicTickFormatter\"},{\"attributes\":{\"plot\":{\"id\":\"80b479de-5676-49dd-b04f-8641943e0360\",\"subtype\":\"Figure\",\"type\":\"Plot\"},\"ticker\":{\"id\":\"e08bf350-a899-4d5c-946a-3e1576efebdc\",\"type\":\"BasicTicker\"}},\"id\":\"d9ae6521-4991-4067-8605-9b5ebd51c876\",\"type\":\"Grid\"},{\"attributes\":{\"overlay\":{\"id\":\"af522fc0-163c-48b2-a90b-d89088690942\",\"type\":\"BoxAnnotation\"}},\"id\":\"74575e12-8ff1-464e-b9b9-b000cb1b0533\",\"type\":\"BoxZoomTool\"},{\"attributes\":{},\"id\":\"d715277c-caad-40b6-a171-fd41af7b2594\",\"type\":\"BasicTickFormatter\"},{\"attributes\":{},\"id\":\"81401264-3117-4988-b714-93bc35c978eb\",\"type\":\"UnionRenderers\"},{\"attributes\":{},\"id\":\"2bb80730-d4ce-4531-87ab-c3b0bcaf2a3c\",\"type\":\"Selection\"},{\"attributes\":{\"label\":{\"value\":\"CLIRAD (single-run) - CRD\"},\"renderers\":[{\"id\":\"13beec08-bf0c-4b83-b4c0-3fb4654ae05c\",\"type\":\"GlyphRenderer\"},{\"id\":\"06b1d295-684f-43a9-9d1d-ef8bfec8f2e4\",\"type\":\"GlyphRenderer\"}]},\"id\":\"8847ea48-f441-4632-a336-a5ce71ee2c1f\",\"type\":\"LegendItem\"},{\"attributes\":{},\"id\":\"8b73d657-1889-4738-a48d-9137f3d2fc7a\",\"type\":\"UnionRenderers\"},{\"attributes\":{\"plot\":null,\"text\":\"\"},\"id\":\"81e2b165-3f24-403f-8125-90d12afb6233\",\"type\":\"Title\"},{\"attributes\":{},\"id\":\"4f0571b1-d4e9-4fd4-8433-13fea9d41ba2\",\"type\":\"Selection\"},{\"attributes\":{},\"id\":\"25d7bd3f-94db-4f8c-854b-d4f02eec2f4a\",\"type\":\"UnionRenderers\"},{\"attributes\":{\"toolbar\":{\"id\":\"a220f688-fb0f-49e5-8309-51fb9cf93d66\",\"type\":\"ProxyToolbar\"},\"toolbar_location\":\"above\"},\"id\":\"5dfa0298-b7af-473c-8d55-c599c12b10c7\",\"type\":\"ToolbarBox\"},{\"attributes\":{},\"id\":\"bad51860-04f8-4eac-af6e-826c2bf76190\",\"type\":\"Selection\"},{\"attributes\":{\"children\":[{\"id\":\"b2c8a02b-d4c6-484f-9eb1-fa5238f9f7a2\",\"subtype\":\"Figure\",\"type\":\"Plot\"},{\"id\":\"80b479de-5676-49dd-b04f-8641943e0360\",\"subtype\":\"Figure\",\"type\":\"Plot\"},{\"id\":\"5b46b483-ff83-4fc6-886b-3d4bcdc31798\",\"subtype\":\"Figure\",\"type\":\"Plot\"}]},\"id\":\"f9fe4658-7b92-4a56-bb6e-fdc11cf6781c\",\"type\":\"Row\"},{\"attributes\":{\"plot\":null,\"text\":\"\"},\"id\":\"ce355314-d2dc-4335-a486-b052b3b3342c\",\"type\":\"Title\"},{\"attributes\":{},\"id\":\"a2eac6d2-5611-4ec9-9fbf-48a6f56e613b\",\"type\":\"Selection\"},{\"attributes\":{\"source\":{\"id\":\"a33e56a5-6b75-47e3-a647-9a7fe54c548b\",\"type\":\"ColumnDataSource\"}},\"id\":\"70afcc23-1cdb-4dc3-aaec-643d1498d086\",\"type\":\"CDSView\"},{\"attributes\":{\"label\":{\"value\":\"CRD\"},\"renderers\":[{\"id\":\"2afd81c5-53ae-494b-acf7-ea7b50d3258b\",\"type\":\"GlyphRenderer\"},{\"id\":\"4bcf6eae-adac-4148-87b8-29b443fe99ed\",\"type\":\"GlyphRenderer\"}]},\"id\":\"58bbbfdc-84c6-4dc7-8521-0d1d17287fcc\",\"type\":\"LegendItem\"},{\"attributes\":{},\"id\":\"3d2461db-699f-4b80-8566-c3a2a342a919\",\"type\":\"BasicTickFormatter\"},{\"attributes\":{},\"id\":\"7f2db573-d661-437c-9791-30650196d4fc\",\"type\":\"SaveTool\"},{\"attributes\":{},\"id\":\"89ee72d2-765e-4c50-87c3-12be15673010\",\"type\":\"UnionRenderers\"},{\"attributes\":{\"tools\":[{\"id\":\"a3aec03d-f618-473a-8c60-f0da70284399\",\"type\":\"PanTool\"},{\"id\":\"274cbc7b-13b4-40a3-9385-8878b261e5b3\",\"type\":\"WheelZoomTool\"},{\"id\":\"74575e12-8ff1-464e-b9b9-b000cb1b0533\",\"type\":\"BoxZoomTool\"},{\"id\":\"7f2db573-d661-437c-9791-30650196d4fc\",\"type\":\"SaveTool\"},{\"id\":\"520710d5-23ac-4db9-abb6-eb4a8352f302\",\"type\":\"ResetTool\"},{\"id\":\"2732908a-ddb2-40b0-bbbb-f2da42373cc1\",\"type\":\"HelpTool\"},{\"id\":\"efcc05b1-f5fd-4e4c-8499-140aad11715c\",\"type\":\"PanTool\"},{\"id\":\"ff7bc7dc-69bf-4a74-9c94-1a5a1b1ccbf7\",\"type\":\"WheelZoomTool\"},{\"id\":\"37ad72bf-6ecb-4448-adfc-ab61ca049d85\",\"type\":\"BoxZoomTool\"},{\"id\":\"91fda169-0f16-45d8-8877-1106ffe2f112\",\"type\":\"SaveTool\"},{\"id\":\"6f5c1d82-6546-444d-b30a-791475dbe008\",\"type\":\"ResetTool\"},{\"id\":\"35903bfd-4a02-401d-9d4b-2031c146b422\",\"type\":\"HelpTool\"},{\"id\":\"d733c6ba-1061-4a94-a696-7ed6133d541d\",\"type\":\"PanTool\"},{\"id\":\"3a855be9-9235-4c3c-bfa1-935115124593\",\"type\":\"WheelZoomTool\"},{\"id\":\"6588d0d6-af71-438e-884b-f0d9b4937b50\",\"type\":\"BoxZoomTool\"},{\"id\":\"d48c310a-3186-4e89-acf9-a37305d91347\",\"type\":\"SaveTool\"},{\"id\":\"a53df64d-86f6-4daa-8d56-f8e45740125a\",\"type\":\"ResetTool\"},{\"id\":\"cbf203ac-387d-4d9f-854a-640633e90cbc\",\"type\":\"HelpTool\"}]},\"id\":\"a220f688-fb0f-49e5-8309-51fb9cf93d66\",\"type\":\"ProxyToolbar\"},{\"attributes\":{},\"id\":\"df4f8251-8ecb-4372-b10d-8af4cc720d8e\",\"type\":\"UnionRenderers\"},{\"attributes\":{},\"id\":\"1df2c3dd-8e54-4237-82ea-c0f9381e2b7b\",\"type\":\"BasicTickFormatter\"},{\"attributes\":{\"ticker\":null},\"id\":\"22c5918a-2b6b-4767-b8fb-3796e86c433d\",\"type\":\"LogTickFormatter\"},{\"attributes\":{},\"id\":\"e08bf350-a899-4d5c-946a-3e1576efebdc\",\"type\":\"BasicTicker\"},{\"attributes\":{\"num_minor_ticks\":10},\"id\":\"8173996c-39ac-405d-9b7f-fade0103b0fa\",\"type\":\"LogTicker\"},{\"attributes\":{\"line_alpha\":0.6,\"line_color\":\"#377eb8\",\"line_dash\":[6],\"line_width\":5,\"x\":{\"field\":\"x\"},\"y\":{\"field\":\"y\"}},\"id\":\"339cf38e-6e00-4ed9-9d5c-5320d024fc5b\",\"type\":\"Line\"},{\"attributes\":{},\"id\":\"f2a18aed-f198-4d41-9a77-2dd8672c7c7d\",\"type\":\"LinearScale\"},{\"attributes\":{\"line_alpha\":0.1,\"line_color\":\"#1f77b4\",\"line_dash\":[6],\"line_width\":5,\"x\":{\"field\":\"x\"},\"y\":{\"field\":\"y\"}},\"id\":\"4ff4b654-587d-4270-8a0c-d298f2c0e9b4\",\"type\":\"Line\"},{\"attributes\":{\"line_alpha\":0.1,\"line_color\":\"#1f77b4\",\"line_dash\":[6],\"line_width\":5,\"x\":{\"field\":\"x\"},\"y\":{\"field\":\"y\"}},\"id\":\"2c2b0dea-f5e0-451f-8742-6db83f3769fc\",\"type\":\"Line\"},{\"attributes\":{\"axis_label\":\"pressure [mb]\",\"formatter\":{\"id\":\"64a6b5c7-7ab0-4166-acc5-236f32179175\",\"type\":\"LogTickFormatter\"},\"plot\":{\"id\":\"80b479de-5676-49dd-b04f-8641943e0360\",\"subtype\":\"Figure\",\"type\":\"Plot\"},\"ticker\":{\"id\":\"8173996c-39ac-405d-9b7f-fade0103b0fa\",\"type\":\"LogTicker\"}},\"id\":\"f84cf0c0-2124-4934-8866-154a266724bc\",\"type\":\"LogAxis\"},{\"attributes\":{\"label\":{\"value\":\"CLIRAD (single-run)\"},\"renderers\":[{\"id\":\"439a2af2-9a58-4b3a-a96c-f5f0a677c5b4\",\"type\":\"GlyphRenderer\"}]},\"id\":\"c704fc58-e4ad-4d29-95f1-a14a8807c0ff\",\"type\":\"LegendItem\"},{\"attributes\":{\"callback\":null,\"end\":0.01,\"start\":1020},\"id\":\"2be3392e-b2ab-4600-bbcb-b991d20290eb\",\"type\":\"Range1d\"},{\"attributes\":{\"above\":[{\"id\":\"a884efbe-0234-4116-9329-910d3a8b55e4\",\"type\":\"Legend\"}],\"below\":[{\"id\":\"080e490f-75b2-4a6b-896a-fad2f727b385\",\"type\":\"LinearAxis\"}],\"left\":[{\"id\":\"a34f662b-c75c-4877-8109-14eb6116d32f\",\"type\":\"LinearAxis\"}],\"plot_width\":300,\"renderers\":[{\"id\":\"080e490f-75b2-4a6b-896a-fad2f727b385\",\"type\":\"LinearAxis\"},{\"id\":\"aca9d40a-a5df-474a-bfbb-01f88cc60ac9\",\"type\":\"Grid\"},{\"id\":\"a34f662b-c75c-4877-8109-14eb6116d32f\",\"type\":\"LinearAxis\"},{\"id\":\"9c54a298-c2bc-4d06-8066-c5a83340954d\",\"type\":\"Grid\"},{\"id\":\"af522fc0-163c-48b2-a90b-d89088690942\",\"type\":\"BoxAnnotation\"},{\"id\":\"439a2af2-9a58-4b3a-a96c-f5f0a677c5b4\",\"type\":\"GlyphRenderer\"},{\"id\":\"1e1a7ec3-b9d1-4ffc-9b5b-cef019300dc4\",\"type\":\"GlyphRenderer\"},{\"id\":\"bf094769-0bc9-41b2-8ff5-6ad8e32e13c7\",\"type\":\"GlyphRenderer\"},{\"id\":\"a884efbe-0234-4116-9329-910d3a8b55e4\",\"type\":\"Legend\"}],\"title\":{\"id\":\"81e2b165-3f24-403f-8125-90d12afb6233\",\"type\":\"Title\"},\"toolbar\":{\"id\":\"fe291a65-84fd-4260-8949-60fc435a92ff\",\"type\":\"Toolbar\"},\"toolbar_location\":null,\"x_range\":{\"id\":\"ade11c0c-c6b6-4d2f-95e5-610b4318c13d\",\"type\":\"Range1d\"},\"x_scale\":{\"id\":\"57a2cc76-3fc3-418d-a377-7147e4e050b5\",\"type\":\"LinearScale\"},\"y_range\":{\"id\":\"91e643de-4885-47b1-886b-150b052c5aa4\",\"type\":\"Range1d\"},\"y_scale\":{\"id\":\"f2a18aed-f198-4d41-9a77-2dd8672c7c7d\",\"type\":\"LinearScale\"}},\"id\":\"b2c8a02b-d4c6-484f-9eb1-fa5238f9f7a2\",\"subtype\":\"Figure\",\"type\":\"Plot\"},{\"attributes\":{\"callback\":null,\"data\":{\"x\":{\"__ndarray__\":\"ZQSP+A2FRUD4tiv9BNNCQOLJZGxTtEFAAAeZrSgdQECzd8tjCxY8QJRtBQaVKjdAIkhMPR/pMUB2jsTU3wQqQIeamkF6SCJAq258oGOdGkBnB3miNTsVQHTFFaAtBhJAiWFcDeiUDUC9qHZaKzEDQF3Iuxyj6f4/XK594UWsBUB9GLwaAEQMQMZoLKIFnRBA+7DDi4feE0D0owQAKU8ZQLf3l+hLDCFA+++zaKACJ0BhYUBgphkoQMXq2HXahCRA2nV2H70nIUB2XLJ7DFccQLPxF3/DWRhANRtjPessFEDGAf2OnsgPQIiVORRgPQlAcm9IA2g9BUCs0C8PmHsAQM9JmqJItfQ/m0x2pBkT5j9aRDy0DwzRP8Ch/UXkeMG/wxPxlrKO3r9tMs3pOh/Yvwz1Uml21Fy/xnzx+4hbxT+c+rdMYbDYP6vIGAYrvOw/vrBnfy279j/zcp7oytf9P4GcctU67ABAZgjeERCFAUAh17jEskcCQLhkg4n0TAJATReEPuMWAUApsJ3EcIEAQPU2U2yHTwBA3xDPdmovAEAXGdN3owQAQAmHpjiDnf8/elrKJVFA/z/uEUpUcQj/P2u+EpQXD/8//ElKtMND/z88o5aurGX/P/Z6X6vwZv8//vVR4HlO/z9tyoJ6FP3+P2o+s8bO2/0/bDNfb6zN/D+6ntKMvzT6PxUGKWcgovc/ldtUZsz19T/3r/sx3oj0P4+zlIWA0vM/n08raH0e9j/wKhYJbif2P7OW4w1gffY/vv70pbRl9z+5r6MrQRT5P19Vu/sj0QJA\",\"dtype\":\"float64\",\"shape\":[75]},\"y\":{\"__ndarray__\":\"GhExyth1ND/Sv8nbtpRIP2vylNV0PVE/aTum7souWD/At0SJ8fVgPw3Iuahxymc/MSNhhJWvcD/bTfBN02d3P2zb5nxnaoA/CD5h5MAGhz8NmeH1TyaQP+zrCsc9p5Y/LbKd76fGnz/bLW5ISEmmPww9YvTcQq8/JV2OstnstT8Er5Y7M8G+P0c+r3jqkcU/5h99k6ZBzj88bCIzFzjVP4enV8oyxN0//yH99nXg5D8qOpLLf0jtP5kqGJXUifQ/c9cS8kHP/D+/DpwzojQEQIEmwoanVwxA4lgXt9HgE0BSSZ2AJuIbQAMJih9jjiNA5q4l5INuK0AwTKYKRj0zQNv5fmq8/DpAaCJseHrtQkB/+zpwzoxKQM3MzMzMeFJAZmZmZmZqWEAAAAAAAFxeQM3MzMzMJmJAmpmZmZkfZUBmZmZmZhhoQDMzMzMzEWtAAAAAAAAKbkBmZmZmZoFwQM3MzMzM/XFAMzMzMzN6c0CamZmZmfZ0QAAAAAAAc3ZAZmZmZmbvd0DNzMzMzGt5QDMzMzMz6HpAmpmZmZlkfEAAAAAAAOF9QGZmZmZmXX9AZmZmZuZsgECamZmZGSuBQM3MzMxM6YFAAAAAAICngkAzMzMzs2WDQGZmZmbmI4RAmpmZmRnihEDNzMzMTKCFQAAAAACAXoZAMzMzM7Mch0BmZmZm5tqHQJqZmZkZmYhAzczMzExXiUAAAAAAgBWKQDMzMzOz04pAZmZmZuaRi0CamZmZGVCMQM3MzMxMDo1AAAAAAIDMjUAzMzMzs4qOQGZmZmbmSI9A\",\"dtype\":\"float64\",\"shape\":[75]}},\"selected\":{\"id\":\"2bb80730-d4ce-4531-87ab-c3b0bcaf2a3c\",\"type\":\"Selection\"},\"selection_policy\":{\"id\":\"81401264-3117-4988-b714-93bc35c978eb\",\"type\":\"UnionRenderers\"}},\"id\":\"1e314862-e59f-485e-851a-0e9ebd06e59f\",\"type\":\"ColumnDataSource\"},{\"attributes\":{\"label\":{\"value\":\"CRD\"},\"renderers\":[{\"id\":\"1e1a7ec3-b9d1-4ffc-9b5b-cef019300dc4\",\"type\":\"GlyphRenderer\"},{\"id\":\"bf094769-0bc9-41b2-8ff5-6ad8e32e13c7\",\"type\":\"GlyphRenderer\"}]},\"id\":\"77fe165b-0ac7-4596-a09e-2ad22d942f21\",\"type\":\"LegendItem\"},{\"attributes\":{\"axis_label\":\"cooling rate [K/day]\",\"formatter\":{\"id\":\"3d2461db-699f-4b80-8566-c3a2a342a919\",\"type\":\"BasicTickFormatter\"},\"plot\":{\"id\":\"b2c8a02b-d4c6-484f-9eb1-fa5238f9f7a2\",\"subtype\":\"Figure\",\"type\":\"Plot\"},\"ticker\":{\"id\":\"ae6cc250-c46f-4bd8-b710-b8052835e36c\",\"type\":\"BasicTicker\"}},\"id\":\"080e490f-75b2-4a6b-896a-fad2f727b385\",\"type\":\"LinearAxis\"},{\"attributes\":{\"active_drag\":\"auto\",\"active_inspect\":\"auto\",\"active_scroll\":\"auto\",\"active_tap\":\"auto\",\"tools\":[{\"id\":\"efcc05b1-f5fd-4e4c-8499-140aad11715c\",\"type\":\"PanTool\"},{\"id\":\"ff7bc7dc-69bf-4a74-9c94-1a5a1b1ccbf7\",\"type\":\"WheelZoomTool\"},{\"id\":\"37ad72bf-6ecb-4448-adfc-ab61ca049d85\",\"type\":\"BoxZoomTool\"},{\"id\":\"91fda169-0f16-45d8-8877-1106ffe2f112\",\"type\":\"SaveTool\"},{\"id\":\"6f5c1d82-6546-444d-b30a-791475dbe008\",\"type\":\"ResetTool\"},{\"id\":\"35903bfd-4a02-401d-9d4b-2031c146b422\",\"type\":\"HelpTool\"}]},\"id\":\"69e63e8a-a0fb-4edf-a1a4-8e816e75a4d6\",\"type\":\"Toolbar\"},{\"attributes\":{},\"id\":\"b72f8dd3-02c6-4b34-9494-e4c86e618ce0\",\"type\":\"LinearScale\"},{\"attributes\":{},\"id\":\"f3b95d0c-11e3-4e53-8238-3e610a58119e\",\"type\":\"LogScale\"},{\"attributes\":{\"active_drag\":\"auto\",\"active_inspect\":\"auto\",\"active_scroll\":\"auto\",\"active_tap\":\"auto\",\"tools\":[{\"id\":\"a3aec03d-f618-473a-8c60-f0da70284399\",\"type\":\"PanTool\"},{\"id\":\"274cbc7b-13b4-40a3-9385-8878b261e5b3\",\"type\":\"WheelZoomTool\"},{\"id\":\"74575e12-8ff1-464e-b9b9-b000cb1b0533\",\"type\":\"BoxZoomTool\"},{\"id\":\"7f2db573-d661-437c-9791-30650196d4fc\",\"type\":\"SaveTool\"},{\"id\":\"520710d5-23ac-4db9-abb6-eb4a8352f302\",\"type\":\"ResetTool\"},{\"id\":\"2732908a-ddb2-40b0-bbbb-f2da42373cc1\",\"type\":\"HelpTool\"}]},\"id\":\"fe291a65-84fd-4260-8949-60fc435a92ff\",\"type\":\"Toolbar\"},{\"attributes\":{\"above\":[{\"id\":\"c74967ba-a200-4206-ba36-9daa98bf821b\",\"type\":\"Legend\"}],\"below\":[{\"id\":\"fcf531c3-0b39-4ca7-8fb5-8b98d5717ab8\",\"type\":\"LinearAxis\"}],\"left\":[{\"id\":\"f84cf0c0-2124-4934-8866-154a266724bc\",\"type\":\"LogAxis\"}],\"plot_width\":300,\"renderers\":[{\"id\":\"fcf531c3-0b39-4ca7-8fb5-8b98d5717ab8\",\"type\":\"LinearAxis\"},{\"id\":\"d9ae6521-4991-4067-8605-9b5ebd51c876\",\"type\":\"Grid\"},{\"id\":\"f84cf0c0-2124-4934-8866-154a266724bc\",\"type\":\"LogAxis\"},{\"id\":\"724c56ee-8d2c-4629-8e6c-23fec9b8572a\",\"type\":\"Grid\"},{\"id\":\"e346ee25-dc76-46ed-bdca-5edb6577787e\",\"type\":\"BoxAnnotation\"},{\"id\":\"bec1a6b7-ff2e-4a1c-8d2a-780202095b52\",\"type\":\"GlyphRenderer\"},{\"id\":\"2afd81c5-53ae-494b-acf7-ea7b50d3258b\",\"type\":\"GlyphRenderer\"},{\"id\":\"4bcf6eae-adac-4148-87b8-29b443fe99ed\",\"type\":\"GlyphRenderer\"},{\"id\":\"c74967ba-a200-4206-ba36-9daa98bf821b\",\"type\":\"Legend\"}],\"title\":{\"id\":\"ce355314-d2dc-4335-a486-b052b3b3342c\",\"type\":\"Title\"},\"toolbar\":{\"id\":\"69e63e8a-a0fb-4edf-a1a4-8e816e75a4d6\",\"type\":\"Toolbar\"},\"toolbar_location\":null,\"x_range\":{\"id\":\"9616461d-3402-45e5-88da-0ab8c6e4e0aa\",\"type\":\"Range1d\"},\"x_scale\":{\"id\":\"b72f8dd3-02c6-4b34-9494-e4c86e618ce0\",\"type\":\"LinearScale\"},\"y_range\":{\"id\":\"2be3392e-b2ab-4600-bbcb-b991d20290eb\",\"type\":\"Range1d\"},\"y_scale\":{\"id\":\"f3b95d0c-11e3-4e53-8238-3e610a58119e\",\"type\":\"LogScale\"}},\"id\":\"80b479de-5676-49dd-b04f-8641943e0360\",\"subtype\":\"Figure\",\"type\":\"Plot\"},{\"attributes\":{\"axis_label\":\"cooling rate [K/day]\",\"formatter\":{\"id\":\"d715277c-caad-40b6-a171-fd41af7b2594\",\"type\":\"BasicTickFormatter\"},\"plot\":{\"id\":\"80b479de-5676-49dd-b04f-8641943e0360\",\"subtype\":\"Figure\",\"type\":\"Plot\"},\"ticker\":{\"id\":\"e08bf350-a899-4d5c-946a-3e1576efebdc\",\"type\":\"BasicTicker\"}},\"id\":\"fcf531c3-0b39-4ca7-8fb5-8b98d5717ab8\",\"type\":\"LinearAxis\"}],\"root_ids\":[\"d4c2d5a9-4d2b-414d-b0f5-d9c3cf69ebba\"]},\"title\":\"Bokeh Application\",\"version\":\"0.12.16\"}};\n",
       "  var render_items = [{\"docid\":\"3fb84e0f-e79a-4595-9f2c-0875827dec1d\",\"elementid\":\"88dcb0e2-5d00-4a0c-8f89-187d50581b15\",\"modelid\":\"d4c2d5a9-4d2b-414d-b0f5-d9c3cf69ebba\"}];\n",
       "  root.Bokeh.embed.embed_items_notebook(docs_json, render_items);\n",
       "\n",
       "  }\n",
       "  if (root.Bokeh !== undefined) {\n",
       "    embed_document(root);\n",
       "  } else {\n",
       "    var attempts = 0;\n",
       "    var timer = setInterval(function(root) {\n",
       "      if (root.Bokeh !== undefined) {\n",
       "        embed_document(root);\n",
       "        clearInterval(timer);\n",
       "      }\n",
       "      attempts++;\n",
       "      if (attempts > 100) {\n",
       "        console.log(\"Bokeh: ERROR: Unable to run BokehJS code because BokehJS library is missing\")\n",
       "        clearInterval(timer);\n",
       "      }\n",
       "    }, 10, root)\n",
       "  }\n",
       "})(window);"
      ],
      "application/vnd.bokehjs_exec.v0+json": ""
     },
     "metadata": {
      "application/vnd.bokehjs_exec.v0+json": {
       "id": "d4c2d5a9-4d2b-414d-b0f5-d9c3cf69ebba"
      }
     },
     "output_type": "display_data"
    },
    {
     "data": {
      "text/markdown": [
       "*FIGURE.* Cooling rates & difference."
      ],
      "text/plain": [
       "<IPython.core.display.Markdown object>"
      ]
     },
     "metadata": {},
     "output_type": "display_data"
    },
    {
     "data": {
      "text/html": [
       "<a id=\"Fluxes._trp.\"></a>"
      ],
      "text/plain": [
       "<IPython.core.display.HTML object>"
      ]
     },
     "metadata": {},
     "output_type": "display_data"
    },
    {
     "data": {
      "text/markdown": [
       "# Fluxes. trp."
      ],
      "text/plain": [
       "<IPython.core.display.Markdown object>"
      ]
     },
     "metadata": {},
     "output_type": "display_data"
    },
    {
     "data": {
      "text/html": [
       "\n",
       "<div class=\"bk-root\">\n",
       "    <div class=\"bk-plotdiv\" id=\"41ae0775-37aa-4ecf-9a29-767ed5ecf085\"></div>\n",
       "</div>"
      ]
     },
     "metadata": {},
     "output_type": "display_data"
    },
    {
     "data": {
      "application/javascript": [
       "(function(root) {\n",
       "  function embed_document(root) {\n",
       "    \n",
       "  var docs_json = {\"ab3359c8-0506-43f6-b61d-1a5198dbf6c5\":{\"roots\":{\"references\":[{\"attributes\":{\"plot\":{\"id\":\"b1280517-f702-4f4f-8053-7fb71313e16f\",\"subtype\":\"Figure\",\"type\":\"Plot\"},\"ticker\":{\"id\":\"ddd53ed8-dbcb-452f-8c43-4a899cf57330\",\"type\":\"CategoricalTicker\"}},\"id\":\"d691b5ab-1120-4648-82ca-00956e701cc4\",\"type\":\"Grid\"},{\"attributes\":{\"plot\":{\"id\":\"61eda659-7fb7-4a26-8583-1cf831c4d878\",\"subtype\":\"Figure\",\"type\":\"Plot\"},\"ticker\":{\"id\":\"d93e8a59-d92f-4167-a7b4-3216c460a0e3\",\"type\":\"CategoricalTicker\"}},\"id\":\"c87f88c0-3421-43cf-bfd4-d57c5e43755f\",\"type\":\"Grid\"},{\"attributes\":{},\"id\":\"1e2c3720-9121-4be8-b629-8b0e101b7430\",\"type\":\"CategoricalTickFormatter\"},{\"attributes\":{\"callback\":null,\"factors\":[\"1\",\"2\",\"3\",\"4\",\"5\",\"6\",\"7\",\"8\",\"9\",\"10\",\"11\"]},\"id\":\"b835ab4f-1752-4ed7-96dc-497a5d89978c\",\"type\":\"FactorRange\"},{\"attributes\":{},\"id\":\"05c2bdb6-8de0-465d-94f8-c9b6747b11a9\",\"type\":\"HelpTool\"},{\"attributes\":{\"axis_label\":\"spectral band\",\"formatter\":{\"id\":\"1e2c3720-9121-4be8-b629-8b0e101b7430\",\"type\":\"CategoricalTickFormatter\"},\"plot\":{\"id\":\"b1280517-f702-4f4f-8053-7fb71313e16f\",\"subtype\":\"Figure\",\"type\":\"Plot\"},\"ticker\":{\"id\":\"ddd53ed8-dbcb-452f-8c43-4a899cf57330\",\"type\":\"CategoricalTicker\"}},\"id\":\"3a63a2ab-243c-41c3-9d7d-5a73767dc51a\",\"type\":\"CategoricalAxis\"},{\"attributes\":{\"data_source\":{\"id\":\"1f7a557e-2a25-4ee0-ba0a-f4aeab12aaaa\",\"type\":\"ColumnDataSource\"},\"glyph\":{\"id\":\"5983442b-d64a-49a7-b76a-0829e5c6d02e\",\"type\":\"VBar\"},\"hover_glyph\":null,\"muted_glyph\":null,\"nonselection_glyph\":{\"id\":\"f4ae7870-49ba-4b47-9cfb-2629d55fcab1\",\"type\":\"VBar\"},\"selection_glyph\":null,\"view\":{\"id\":\"bcfe49b1-b6a0-47f5-9de5-f979ecfb18f7\",\"type\":\"CDSView\"}},\"id\":\"20594071-bc83-4b65-afb7-805eef62c2df\",\"type\":\"GlyphRenderer\"},{\"attributes\":{},\"id\":\"61adc111-fd5d-45f5-976d-ef7a3adc8f68\",\"type\":\"CategoricalScale\"},{\"attributes\":{},\"id\":\"09db5117-25d8-4de5-adaf-76abf64f141f\",\"type\":\"UnionRenderers\"},{\"attributes\":{},\"id\":\"ddd53ed8-dbcb-452f-8c43-4a899cf57330\",\"type\":\"CategoricalTicker\"},{\"attributes\":{\"plot\":null,\"text\":\"TOA flux. CLIRAD (single-run) - CRD.\"},\"id\":\"8ce6c5aa-ce04-4f6a-9a60-b6b8ed679c34\",\"type\":\"Title\"},{\"attributes\":{\"callback\":null},\"id\":\"f56a48ea-0ed1-4900-b6a7-b47abf4e0762\",\"type\":\"DataRange1d\"},{\"attributes\":{},\"id\":\"8fa98890-d5a0-4c8d-8115-fd4b102ca1be\",\"type\":\"BasicTicker\"},{\"attributes\":{},\"id\":\"e456dd7f-2505-4eaf-8af6-fc8554c58887\",\"type\":\"CategoricalTickFormatter\"},{\"attributes\":{\"overlay\":{\"id\":\"06a7c64d-dc10-429c-95fb-02440955d80c\",\"type\":\"BoxAnnotation\"}},\"id\":\"daf742e2-90f3-4217-a0f7-441c5dc46047\",\"type\":\"BoxZoomTool\"},{\"attributes\":{},\"id\":\"0088c0e2-faba-4e45-9755-d89716909404\",\"type\":\"CategoricalScale\"},{\"attributes\":{\"fill_alpha\":{\"value\":0.1},\"fill_color\":{\"value\":\"#1f77b4\"},\"line_alpha\":{\"value\":0.1},\"line_color\":{\"value\":\"#1f77b4\"},\"top\":{\"field\":\"flux\"},\"width\":{\"value\":0.9},\"x\":{\"field\":\"band\"}},\"id\":\"2a5fd015-98dc-4b3e-a551-96653c476f9d\",\"type\":\"VBar\"},{\"attributes\":{},\"id\":\"61d8018f-0842-46a3-9dda-8711a9823a27\",\"type\":\"BasicTicker\"},{\"attributes\":{},\"id\":\"d93e8a59-d92f-4167-a7b4-3216c460a0e3\",\"type\":\"CategoricalTicker\"},{\"attributes\":{\"active_drag\":\"auto\",\"active_inspect\":\"auto\",\"active_scroll\":\"auto\",\"active_tap\":\"auto\",\"tools\":[{\"id\":\"a90a514c-98a8-42c8-afa7-a9235b5f4fb0\",\"type\":\"PanTool\"},{\"id\":\"4d90b009-5e5d-458a-8495-781a36272f60\",\"type\":\"WheelZoomTool\"},{\"id\":\"daf742e2-90f3-4217-a0f7-441c5dc46047\",\"type\":\"BoxZoomTool\"},{\"id\":\"623c2e34-e11a-4874-9493-bd975c90ee4f\",\"type\":\"SaveTool\"},{\"id\":\"375c5c19-7e38-42bd-b735-a0c392f371aa\",\"type\":\"ResetTool\"},{\"id\":\"05c2bdb6-8de0-465d-94f8-c9b6747b11a9\",\"type\":\"HelpTool\"}]},\"id\":\"551fe930-c6a0-4e7b-b76a-8254a828bcb7\",\"type\":\"Toolbar\"},{\"attributes\":{\"dimension\":1,\"plot\":{\"id\":\"61eda659-7fb7-4a26-8583-1cf831c4d878\",\"subtype\":\"Figure\",\"type\":\"Plot\"},\"ticker\":{\"id\":\"61d8018f-0842-46a3-9dda-8711a9823a27\",\"type\":\"BasicTicker\"}},\"id\":\"ace58211-d244-41dc-b9ff-21b954d1cf3c\",\"type\":\"Grid\"},{\"attributes\":{\"dimension\":1,\"plot\":{\"id\":\"8f98bee3-ffaa-428a-9920-a33921509fc7\",\"subtype\":\"Figure\",\"type\":\"Plot\"},\"ticker\":{\"id\":\"50f1c8b7-8eea-4cb3-9720-80d286834a5d\",\"type\":\"BasicTicker\"}},\"id\":\"90002f36-72d1-4409-9cc0-9e7617d55197\",\"type\":\"Grid\"},{\"attributes\":{\"children\":[{\"id\":\"b1280517-f702-4f4f-8053-7fb71313e16f\",\"subtype\":\"Figure\",\"type\":\"Plot\"},{\"id\":\"8f98bee3-ffaa-428a-9920-a33921509fc7\",\"subtype\":\"Figure\",\"type\":\"Plot\"},{\"id\":\"61eda659-7fb7-4a26-8583-1cf831c4d878\",\"subtype\":\"Figure\",\"type\":\"Plot\"}]},\"id\":\"a290ebb6-0e7c-4677-9f72-9d20ec6ca7d2\",\"type\":\"Row\"},{\"attributes\":{\"tools\":[{\"id\":\"0a9cb74f-a62d-4856-b5f1-13976848f8cc\",\"type\":\"PanTool\"},{\"id\":\"55f92b96-a731-4d0a-9397-53c775b2802a\",\"type\":\"WheelZoomTool\"},{\"id\":\"3f54365a-7fcc-4108-a5e2-a9bfaf8341b4\",\"type\":\"BoxZoomTool\"},{\"id\":\"d3382023-163c-4bb0-baab-8550ea025d35\",\"type\":\"SaveTool\"},{\"id\":\"ce607615-19fc-4400-88a1-d3cf5cf38a53\",\"type\":\"ResetTool\"},{\"id\":\"7523d4b0-6283-4d75-a8e7-34ec33eacc43\",\"type\":\"HelpTool\"},{\"id\":\"9d205e96-cfb4-4219-b6e4-74bd95374ce7\",\"type\":\"PanTool\"},{\"id\":\"ede41a2e-ad3e-4769-98ff-a337edc35034\",\"type\":\"WheelZoomTool\"},{\"id\":\"03bf9018-c258-4677-a8f4-3730d1ab3e71\",\"type\":\"BoxZoomTool\"},{\"id\":\"ab2f748e-9caf-40be-adcd-23f6630e8819\",\"type\":\"SaveTool\"},{\"id\":\"cb6c125b-60bd-412d-bc59-d7bf1fa7ea0c\",\"type\":\"ResetTool\"},{\"id\":\"ef6e9ba3-c9cb-4a5a-914f-e98238547fd8\",\"type\":\"HelpTool\"},{\"id\":\"a90a514c-98a8-42c8-afa7-a9235b5f4fb0\",\"type\":\"PanTool\"},{\"id\":\"4d90b009-5e5d-458a-8495-781a36272f60\",\"type\":\"WheelZoomTool\"},{\"id\":\"daf742e2-90f3-4217-a0f7-441c5dc46047\",\"type\":\"BoxZoomTool\"},{\"id\":\"623c2e34-e11a-4874-9493-bd975c90ee4f\",\"type\":\"SaveTool\"},{\"id\":\"375c5c19-7e38-42bd-b735-a0c392f371aa\",\"type\":\"ResetTool\"},{\"id\":\"05c2bdb6-8de0-465d-94f8-c9b6747b11a9\",\"type\":\"HelpTool\"}]},\"id\":\"2f918227-bab7-4264-81a4-6f82483b089c\",\"type\":\"ProxyToolbar\"},{\"attributes\":{\"below\":[{\"id\":\"3a63a2ab-243c-41c3-9d7d-5a73767dc51a\",\"type\":\"CategoricalAxis\"}],\"left\":[{\"id\":\"6920fee3-5dc5-4df8-ab84-df72bd6337f4\",\"type\":\"LinearAxis\"}],\"plot_height\":300,\"plot_width\":300,\"renderers\":[{\"id\":\"3a63a2ab-243c-41c3-9d7d-5a73767dc51a\",\"type\":\"CategoricalAxis\"},{\"id\":\"d691b5ab-1120-4648-82ca-00956e701cc4\",\"type\":\"Grid\"},{\"id\":\"6920fee3-5dc5-4df8-ab84-df72bd6337f4\",\"type\":\"LinearAxis\"},{\"id\":\"4230db52-46d7-4ce2-b096-84912760d521\",\"type\":\"Grid\"},{\"id\":\"8e77188a-ff0a-4f22-8644-1dd67063b461\",\"type\":\"BoxAnnotation\"},{\"id\":\"3ce9576b-9e22-4960-8391-9408a828916d\",\"type\":\"GlyphRenderer\"}],\"title\":{\"id\":\"8ce6c5aa-ce04-4f6a-9a60-b6b8ed679c34\",\"type\":\"Title\"},\"toolbar\":{\"id\":\"42fbf797-110b-462f-99c1-036a95f4d0e9\",\"type\":\"Toolbar\"},\"toolbar_location\":null,\"x_range\":{\"id\":\"c9dfe0d4-0e56-4a55-be16-201bea0b12f9\",\"type\":\"FactorRange\"},\"x_scale\":{\"id\":\"6950cb3a-9a7c-4209-a6dd-3551f5cc0fbf\",\"type\":\"CategoricalScale\"},\"y_range\":{\"id\":\"4449f4db-e8e6-442e-9366-1f3765f4ae1b\",\"type\":\"DataRange1d\"},\"y_scale\":{\"id\":\"0200f9df-7d2d-4616-bfac-88a658586695\",\"type\":\"LinearScale\"}},\"id\":\"b1280517-f702-4f4f-8053-7fb71313e16f\",\"subtype\":\"Figure\",\"type\":\"Plot\"},{\"attributes\":{\"axis_label\":\"spectral band\",\"formatter\":{\"id\":\"1ebacc22-b446-4199-aff9-d5807867d978\",\"type\":\"CategoricalTickFormatter\"},\"plot\":{\"id\":\"61eda659-7fb7-4a26-8583-1cf831c4d878\",\"subtype\":\"Figure\",\"type\":\"Plot\"},\"ticker\":{\"id\":\"d93e8a59-d92f-4167-a7b4-3216c460a0e3\",\"type\":\"CategoricalTicker\"}},\"id\":\"6ca28cd9-7ca1-4bcb-b5f7-7953946040a5\",\"type\":\"CategoricalAxis\"},{\"attributes\":{\"plot\":null,\"text\":\"Atmosphere heating. CLIRAD (single-run) - CRD.\"},\"id\":\"27f5bb85-4e08-4f18-b8e4-a07aef8c347d\",\"type\":\"Title\"},{\"attributes\":{\"source\":{\"id\":\"e71b622f-19d4-4360-bf04-01068d106897\",\"type\":\"ColumnDataSource\"}},\"id\":\"36e38d34-c6b5-4ad6-83c0-aa6145d5246a\",\"type\":\"CDSView\"},{\"attributes\":{\"callback\":null},\"id\":\"4449f4db-e8e6-442e-9366-1f3765f4ae1b\",\"type\":\"DataRange1d\"},{\"attributes\":{},\"id\":\"2445b09e-c325-4e45-a824-6776ef35f76d\",\"type\":\"UnionRenderers\"},{\"attributes\":{},\"id\":\"ef6e9ba3-c9cb-4a5a-914f-e98238547fd8\",\"type\":\"HelpTool\"},{\"attributes\":{\"below\":[{\"id\":\"6ca28cd9-7ca1-4bcb-b5f7-7953946040a5\",\"type\":\"CategoricalAxis\"}],\"left\":[{\"id\":\"18852371-5028-4425-b029-68a4176b00b6\",\"type\":\"LinearAxis\"}],\"plot_height\":300,\"plot_width\":300,\"renderers\":[{\"id\":\"6ca28cd9-7ca1-4bcb-b5f7-7953946040a5\",\"type\":\"CategoricalAxis\"},{\"id\":\"c87f88c0-3421-43cf-bfd4-d57c5e43755f\",\"type\":\"Grid\"},{\"id\":\"18852371-5028-4425-b029-68a4176b00b6\",\"type\":\"LinearAxis\"},{\"id\":\"ace58211-d244-41dc-b9ff-21b954d1cf3c\",\"type\":\"Grid\"},{\"id\":\"06a7c64d-dc10-429c-95fb-02440955d80c\",\"type\":\"BoxAnnotation\"},{\"id\":\"5abb7072-b692-4069-be9a-11dae808c4ca\",\"type\":\"GlyphRenderer\"}],\"title\":{\"id\":\"27f5bb85-4e08-4f18-b8e4-a07aef8c347d\",\"type\":\"Title\"},\"toolbar\":{\"id\":\"551fe930-c6a0-4e7b-b76a-8254a828bcb7\",\"type\":\"Toolbar\"},\"toolbar_location\":null,\"x_range\":{\"id\":\"b835ab4f-1752-4ed7-96dc-497a5d89978c\",\"type\":\"FactorRange\"},\"x_scale\":{\"id\":\"61adc111-fd5d-45f5-976d-ef7a3adc8f68\",\"type\":\"CategoricalScale\"},\"y_range\":{\"id\":\"f56a48ea-0ed1-4900-b6a7-b47abf4e0762\",\"type\":\"DataRange1d\"},\"y_scale\":{\"id\":\"d28f5260-bc28-441b-90cd-77e8ad2310c9\",\"type\":\"LinearScale\"}},\"id\":\"61eda659-7fb7-4a26-8583-1cf831c4d878\",\"subtype\":\"Figure\",\"type\":\"Plot\"},{\"attributes\":{\"fill_color\":{\"value\":\"#1f77b4\"},\"line_color\":{\"value\":\"#1f77b4\"},\"top\":{\"field\":\"flux\"},\"width\":{\"value\":0.9},\"x\":{\"field\":\"band\"}},\"id\":\"b038e6ad-2e42-451d-b6b3-36a78feab757\",\"type\":\"VBar\"},{\"attributes\":{\"bottom_units\":\"screen\",\"fill_alpha\":{\"value\":0.5},\"fill_color\":{\"value\":\"lightgrey\"},\"left_units\":\"screen\",\"level\":\"overlay\",\"line_alpha\":{\"value\":1.0},\"line_color\":{\"value\":\"black\"},\"line_dash\":[4,4],\"line_width\":{\"value\":2},\"plot\":null,\"render_mode\":\"css\",\"right_units\":\"screen\",\"top_units\":\"screen\"},\"id\":\"9e87b127-8db7-4722-8f7e-43b400ab7808\",\"type\":\"BoxAnnotation\"},{\"attributes\":{},\"id\":\"623c2e34-e11a-4874-9493-bd975c90ee4f\",\"type\":\"SaveTool\"},{\"attributes\":{\"bottom_units\":\"screen\",\"fill_alpha\":{\"value\":0.5},\"fill_color\":{\"value\":\"lightgrey\"},\"left_units\":\"screen\",\"level\":\"overlay\",\"line_alpha\":{\"value\":1.0},\"line_color\":{\"value\":\"black\"},\"line_dash\":[4,4],\"line_width\":{\"value\":2},\"plot\":null,\"render_mode\":\"css\",\"right_units\":\"screen\",\"top_units\":\"screen\"},\"id\":\"06a7c64d-dc10-429c-95fb-02440955d80c\",\"type\":\"BoxAnnotation\"},{\"attributes\":{\"bottom_units\":\"screen\",\"fill_alpha\":{\"value\":0.5},\"fill_color\":{\"value\":\"lightgrey\"},\"left_units\":\"screen\",\"level\":\"overlay\",\"line_alpha\":{\"value\":1.0},\"line_color\":{\"value\":\"black\"},\"line_dash\":[4,4],\"line_width\":{\"value\":2},\"plot\":null,\"render_mode\":\"css\",\"right_units\":\"screen\",\"top_units\":\"screen\"},\"id\":\"8e77188a-ff0a-4f22-8644-1dd67063b461\",\"type\":\"BoxAnnotation\"},{\"attributes\":{\"active_drag\":\"auto\",\"active_inspect\":\"auto\",\"active_scroll\":\"auto\",\"active_tap\":\"auto\",\"tools\":[{\"id\":\"0a9cb74f-a62d-4856-b5f1-13976848f8cc\",\"type\":\"PanTool\"},{\"id\":\"55f92b96-a731-4d0a-9397-53c775b2802a\",\"type\":\"WheelZoomTool\"},{\"id\":\"3f54365a-7fcc-4108-a5e2-a9bfaf8341b4\",\"type\":\"BoxZoomTool\"},{\"id\":\"d3382023-163c-4bb0-baab-8550ea025d35\",\"type\":\"SaveTool\"},{\"id\":\"ce607615-19fc-4400-88a1-d3cf5cf38a53\",\"type\":\"ResetTool\"},{\"id\":\"7523d4b0-6283-4d75-a8e7-34ec33eacc43\",\"type\":\"HelpTool\"}]},\"id\":\"42fbf797-110b-462f-99c1-036a95f4d0e9\",\"type\":\"Toolbar\"},{\"attributes\":{\"overlay\":{\"id\":\"9e87b127-8db7-4722-8f7e-43b400ab7808\",\"type\":\"BoxAnnotation\"}},\"id\":\"03bf9018-c258-4677-a8f4-3730d1ab3e71\",\"type\":\"BoxZoomTool\"},{\"attributes\":{},\"id\":\"cf27a1eb-01f6-4f68-8726-ba968e25347d\",\"type\":\"CategoricalTicker\"},{\"attributes\":{\"fill_color\":{\"value\":\"#1f77b4\"},\"line_color\":{\"value\":\"#1f77b4\"},\"top\":{\"field\":\"flux\"},\"width\":{\"value\":0.9},\"x\":{\"field\":\"band\"}},\"id\":\"7e215fbd-40cd-4348-87ea-800342251284\",\"type\":\"VBar\"},{\"attributes\":{\"callback\":null,\"data\":{\"band\":[\"1\",\"2\",\"3\",\"4\",\"5\",\"6\",\"7\",\"8\",\"9\",\"10\",\"11\"],\"flux\":{\"__ndarray__\":\"AMHG9e/6yj+Aj4r/O6LUP0CGcw0zNNO/wKT4+ITs4T/ALLRzmgXVPwCwDKoNTqQ/gAGh9fBl0T8AmpFB7iK0vwCyLJj4o6A/gIZphCPtwT+AhigVQyi/Pw==\",\"dtype\":\"float64\",\"shape\":[11]}},\"selected\":{\"id\":\"dd5d3ed9-10df-4dd3-bfcb-c83a667013c8\",\"type\":\"Selection\"},\"selection_policy\":{\"id\":\"09db5117-25d8-4de5-adaf-76abf64f141f\",\"type\":\"UnionRenderers\"}},\"id\":\"5cc72957-aafe-4b8c-a4e6-c3c89efdc49e\",\"type\":\"ColumnDataSource\"},{\"attributes\":{},\"id\":\"729c46ce-780b-42dc-9921-edb33d6fb58d\",\"type\":\"UnionRenderers\"},{\"attributes\":{\"callback\":null,\"factors\":[\"1\",\"2\",\"3\",\"4\",\"5\",\"6\",\"7\",\"8\",\"9\",\"10\",\"11\"]},\"id\":\"c9dfe0d4-0e56-4a55-be16-201bea0b12f9\",\"type\":\"FactorRange\"},{\"attributes\":{},\"id\":\"6cb87ecf-0f66-4d78-8ca6-816360517822\",\"type\":\"LinearScale\"},{\"attributes\":{},\"id\":\"d28f5260-bc28-441b-90cd-77e8ad2310c9\",\"type\":\"LinearScale\"},{\"attributes\":{},\"id\":\"50f1c8b7-8eea-4cb3-9720-80d286834a5d\",\"type\":\"BasicTicker\"},{\"attributes\":{},\"id\":\"6950cb3a-9a7c-4209-a6dd-3551f5cc0fbf\",\"type\":\"CategoricalScale\"},{\"attributes\":{\"callback\":null},\"id\":\"b5b053e3-2667-4300-b12d-491627c70adf\",\"type\":\"DataRange1d\"},{\"attributes\":{},\"id\":\"ab2f748e-9caf-40be-adcd-23f6630e8819\",\"type\":\"SaveTool\"},{\"attributes\":{\"children\":[{\"id\":\"a290ebb6-0e7c-4677-9f72-9d20ec6ca7d2\",\"type\":\"Row\"}]},\"id\":\"86d8231a-2f73-4046-b9c0-7e441cc1688d\",\"type\":\"Column\"},{\"attributes\":{},\"id\":\"7523d4b0-6283-4d75-a8e7-34ec33eacc43\",\"type\":\"HelpTool\"},{\"attributes\":{},\"id\":\"cb6c125b-60bd-412d-bc59-d7bf1fa7ea0c\",\"type\":\"ResetTool\"},{\"attributes\":{\"axis_label\":\"flux (W m-2)\",\"formatter\":{\"id\":\"120b3f62-34eb-4f6a-b660-5a31c44f4a4f\",\"type\":\"BasicTickFormatter\"},\"plot\":{\"id\":\"b1280517-f702-4f4f-8053-7fb71313e16f\",\"subtype\":\"Figure\",\"type\":\"Plot\"},\"ticker\":{\"id\":\"8fa98890-d5a0-4c8d-8115-fd4b102ca1be\",\"type\":\"BasicTicker\"}},\"id\":\"6920fee3-5dc5-4df8-ab84-df72bd6337f4\",\"type\":\"LinearAxis\"},{\"attributes\":{\"data_source\":{\"id\":\"5cc72957-aafe-4b8c-a4e6-c3c89efdc49e\",\"type\":\"ColumnDataSource\"},\"glyph\":{\"id\":\"b038e6ad-2e42-451d-b6b3-36a78feab757\",\"type\":\"VBar\"},\"hover_glyph\":null,\"muted_glyph\":null,\"nonselection_glyph\":{\"id\":\"bbe7b3ad-91ef-4dd8-a6c7-3a6a27550480\",\"type\":\"VBar\"},\"selection_glyph\":null,\"view\":{\"id\":\"b2f18670-c5c2-4334-b0d5-876ccd87b02e\",\"type\":\"CDSView\"}},\"id\":\"3ce9576b-9e22-4960-8391-9408a828916d\",\"type\":\"GlyphRenderer\"},{\"attributes\":{\"plot\":{\"id\":\"8f98bee3-ffaa-428a-9920-a33921509fc7\",\"subtype\":\"Figure\",\"type\":\"Plot\"},\"ticker\":{\"id\":\"cf27a1eb-01f6-4f68-8726-ba968e25347d\",\"type\":\"CategoricalTicker\"}},\"id\":\"1bf785b3-29bc-4001-ba63-21f996cf4890\",\"type\":\"Grid\"},{\"attributes\":{},\"id\":\"dd5d3ed9-10df-4dd3-bfcb-c83a667013c8\",\"type\":\"Selection\"},{\"attributes\":{},\"id\":\"ede41a2e-ad3e-4769-98ff-a337edc35034\",\"type\":\"WheelZoomTool\"},{\"attributes\":{\"axis_label\":\"flux (W m-2)\",\"formatter\":{\"id\":\"f8968109-c019-4622-97e4-5a2019d0f77e\",\"type\":\"BasicTickFormatter\"},\"plot\":{\"id\":\"61eda659-7fb7-4a26-8583-1cf831c4d878\",\"subtype\":\"Figure\",\"type\":\"Plot\"},\"ticker\":{\"id\":\"61d8018f-0842-46a3-9dda-8711a9823a27\",\"type\":\"BasicTicker\"}},\"id\":\"18852371-5028-4425-b029-68a4176b00b6\",\"type\":\"LinearAxis\"},{\"attributes\":{\"dimension\":1,\"plot\":{\"id\":\"b1280517-f702-4f4f-8053-7fb71313e16f\",\"subtype\":\"Figure\",\"type\":\"Plot\"},\"ticker\":{\"id\":\"8fa98890-d5a0-4c8d-8115-fd4b102ca1be\",\"type\":\"BasicTicker\"}},\"id\":\"4230db52-46d7-4ce2-b096-84912760d521\",\"type\":\"Grid\"},{\"attributes\":{\"axis_label\":\"flux (W m-2)\",\"formatter\":{\"id\":\"ba0eb12b-1285-4eaf-9302-42893f94f41c\",\"type\":\"BasicTickFormatter\"},\"plot\":{\"id\":\"8f98bee3-ffaa-428a-9920-a33921509fc7\",\"subtype\":\"Figure\",\"type\":\"Plot\"},\"ticker\":{\"id\":\"50f1c8b7-8eea-4cb3-9720-80d286834a5d\",\"type\":\"BasicTicker\"}},\"id\":\"cda3c570-48e0-481d-bde3-47cd193c244e\",\"type\":\"LinearAxis\"},{\"attributes\":{\"fill_alpha\":{\"value\":0.1},\"fill_color\":{\"value\":\"#1f77b4\"},\"line_alpha\":{\"value\":0.1},\"line_color\":{\"value\":\"#1f77b4\"},\"top\":{\"field\":\"flux\"},\"width\":{\"value\":0.9},\"x\":{\"field\":\"band\"}},\"id\":\"f4ae7870-49ba-4b47-9cfb-2629d55fcab1\",\"type\":\"VBar\"},{\"attributes\":{\"data_source\":{\"id\":\"e71b622f-19d4-4360-bf04-01068d106897\",\"type\":\"ColumnDataSource\"},\"glyph\":{\"id\":\"7e215fbd-40cd-4348-87ea-800342251284\",\"type\":\"VBar\"},\"hover_glyph\":null,\"muted_glyph\":null,\"nonselection_glyph\":{\"id\":\"2a5fd015-98dc-4b3e-a551-96653c476f9d\",\"type\":\"VBar\"},\"selection_glyph\":null,\"view\":{\"id\":\"36e38d34-c6b5-4ad6-83c0-aa6145d5246a\",\"type\":\"CDSView\"}},\"id\":\"5abb7072-b692-4069-be9a-11dae808c4ca\",\"type\":\"GlyphRenderer\"},{\"attributes\":{\"toolbar\":{\"id\":\"2f918227-bab7-4264-81a4-6f82483b089c\",\"type\":\"ProxyToolbar\"},\"toolbar_location\":\"above\"},\"id\":\"547d0092-918a-436d-baff-52ebb9e0b967\",\"type\":\"ToolbarBox\"},{\"attributes\":{},\"id\":\"120b3f62-34eb-4f6a-b660-5a31c44f4a4f\",\"type\":\"BasicTickFormatter\"},{\"attributes\":{},\"id\":\"375c5c19-7e38-42bd-b735-a0c392f371aa\",\"type\":\"ResetTool\"},{\"attributes\":{},\"id\":\"4d90b009-5e5d-458a-8495-781a36272f60\",\"type\":\"WheelZoomTool\"},{\"attributes\":{\"children\":[{\"id\":\"547d0092-918a-436d-baff-52ebb9e0b967\",\"type\":\"ToolbarBox\"},{\"id\":\"86d8231a-2f73-4046-b9c0-7e441cc1688d\",\"type\":\"Column\"}]},\"id\":\"233aa53d-c3c2-4d9b-80a1-497a9b98b2a4\",\"type\":\"Column\"},{\"attributes\":{},\"id\":\"0200f9df-7d2d-4616-bfac-88a658586695\",\"type\":\"LinearScale\"},{\"attributes\":{},\"id\":\"9d205e96-cfb4-4219-b6e4-74bd95374ce7\",\"type\":\"PanTool\"},{\"attributes\":{},\"id\":\"a90a514c-98a8-42c8-afa7-a9235b5f4fb0\",\"type\":\"PanTool\"},{\"attributes\":{\"axis_label\":\"spectral band\",\"formatter\":{\"id\":\"e456dd7f-2505-4eaf-8af6-fc8554c58887\",\"type\":\"CategoricalTickFormatter\"},\"plot\":{\"id\":\"8f98bee3-ffaa-428a-9920-a33921509fc7\",\"subtype\":\"Figure\",\"type\":\"Plot\"},\"ticker\":{\"id\":\"cf27a1eb-01f6-4f68-8726-ba968e25347d\",\"type\":\"CategoricalTicker\"}},\"id\":\"934fbedb-b496-4f85-b89d-b53eaf55395a\",\"type\":\"CategoricalAxis\"},{\"attributes\":{},\"id\":\"ba0eb12b-1285-4eaf-9302-42893f94f41c\",\"type\":\"BasicTickFormatter\"},{\"attributes\":{},\"id\":\"6829ce55-141e-4bb5-8ecf-31951e5fa7e2\",\"type\":\"Selection\"},{\"attributes\":{},\"id\":\"1ebacc22-b446-4199-aff9-d5807867d978\",\"type\":\"CategoricalTickFormatter\"},{\"attributes\":{},\"id\":\"53e7d0b1-3622-4209-a1f4-118fd15fed53\",\"type\":\"Selection\"},{\"attributes\":{},\"id\":\"d3382023-163c-4bb0-baab-8550ea025d35\",\"type\":\"SaveTool\"},{\"attributes\":{\"callback\":null,\"data\":{\"band\":[\"1\",\"2\",\"3\",\"4\",\"5\",\"6\",\"7\",\"8\",\"9\",\"10\",\"11\"],\"flux\":{\"__ndarray__\":\"AID6S2L7yj8A4gB+tqOxPwABDBUtir6/4M66qfX83z9gJsPxfAbhvwBQjCyZ4/u/ACDT2jS227/AYKjDCjfgvwB7sxcbBNS/4M+c1BtewD8AIFyJ5Ttdvw==\",\"dtype\":\"float64\",\"shape\":[11]}},\"selected\":{\"id\":\"53e7d0b1-3622-4209-a1f4-118fd15fed53\",\"type\":\"Selection\"},\"selection_policy\":{\"id\":\"729c46ce-780b-42dc-9921-edb33d6fb58d\",\"type\":\"UnionRenderers\"}},\"id\":\"e71b622f-19d4-4360-bf04-01068d106897\",\"type\":\"ColumnDataSource\"},{\"attributes\":{\"callback\":null,\"factors\":[\"1\",\"2\",\"3\",\"4\",\"5\",\"6\",\"7\",\"8\",\"9\",\"10\",\"11\"]},\"id\":\"d4276aff-725e-4113-9f14-b1d797bbe9ce\",\"type\":\"FactorRange\"},{\"attributes\":{\"source\":{\"id\":\"5cc72957-aafe-4b8c-a4e6-c3c89efdc49e\",\"type\":\"ColumnDataSource\"}},\"id\":\"b2f18670-c5c2-4334-b0d5-876ccd87b02e\",\"type\":\"CDSView\"},{\"attributes\":{\"callback\":null,\"data\":{\"band\":[\"1\",\"2\",\"3\",\"4\",\"5\",\"6\",\"7\",\"8\",\"9\",\"10\",\"11\"],\"flux\":{\"__ndarray__\":\"AADADkbs874AZqTeUznQPwC4kEdwI8e/ABhPPdLgrj/AMHxETInrP4AvTKYKhvw/AF4cSw6O5j/gche8Q2XbP4DzcW2oGNY/AGDknq7uiD8AdMuzN52/Pw==\",\"dtype\":\"float64\",\"shape\":[11]}},\"selected\":{\"id\":\"6829ce55-141e-4bb5-8ecf-31951e5fa7e2\",\"type\":\"Selection\"},\"selection_policy\":{\"id\":\"2445b09e-c325-4e45-a824-6776ef35f76d\",\"type\":\"UnionRenderers\"}},\"id\":\"1f7a557e-2a25-4ee0-ba0a-f4aeab12aaaa\",\"type\":\"ColumnDataSource\"},{\"attributes\":{\"plot\":null,\"text\":\"SFC flux. CLIRAD (single-run) - CRD.\"},\"id\":\"23560fd1-b339-49b8-963a-d6152443858e\",\"type\":\"Title\"},{\"attributes\":{\"active_drag\":\"auto\",\"active_inspect\":\"auto\",\"active_scroll\":\"auto\",\"active_tap\":\"auto\",\"tools\":[{\"id\":\"9d205e96-cfb4-4219-b6e4-74bd95374ce7\",\"type\":\"PanTool\"},{\"id\":\"ede41a2e-ad3e-4769-98ff-a337edc35034\",\"type\":\"WheelZoomTool\"},{\"id\":\"03bf9018-c258-4677-a8f4-3730d1ab3e71\",\"type\":\"BoxZoomTool\"},{\"id\":\"ab2f748e-9caf-40be-adcd-23f6630e8819\",\"type\":\"SaveTool\"},{\"id\":\"cb6c125b-60bd-412d-bc59-d7bf1fa7ea0c\",\"type\":\"ResetTool\"},{\"id\":\"ef6e9ba3-c9cb-4a5a-914f-e98238547fd8\",\"type\":\"HelpTool\"}]},\"id\":\"8b55534c-0856-4d0a-849e-e9fc6510e26b\",\"type\":\"Toolbar\"},{\"attributes\":{\"below\":[{\"id\":\"934fbedb-b496-4f85-b89d-b53eaf55395a\",\"type\":\"CategoricalAxis\"}],\"left\":[{\"id\":\"cda3c570-48e0-481d-bde3-47cd193c244e\",\"type\":\"LinearAxis\"}],\"plot_height\":300,\"plot_width\":300,\"renderers\":[{\"id\":\"934fbedb-b496-4f85-b89d-b53eaf55395a\",\"type\":\"CategoricalAxis\"},{\"id\":\"1bf785b3-29bc-4001-ba63-21f996cf4890\",\"type\":\"Grid\"},{\"id\":\"cda3c570-48e0-481d-bde3-47cd193c244e\",\"type\":\"LinearAxis\"},{\"id\":\"90002f36-72d1-4409-9cc0-9e7617d55197\",\"type\":\"Grid\"},{\"id\":\"9e87b127-8db7-4722-8f7e-43b400ab7808\",\"type\":\"BoxAnnotation\"},{\"id\":\"20594071-bc83-4b65-afb7-805eef62c2df\",\"type\":\"GlyphRenderer\"}],\"title\":{\"id\":\"23560fd1-b339-49b8-963a-d6152443858e\",\"type\":\"Title\"},\"toolbar\":{\"id\":\"8b55534c-0856-4d0a-849e-e9fc6510e26b\",\"type\":\"Toolbar\"},\"toolbar_location\":null,\"x_range\":{\"id\":\"d4276aff-725e-4113-9f14-b1d797bbe9ce\",\"type\":\"FactorRange\"},\"x_scale\":{\"id\":\"0088c0e2-faba-4e45-9755-d89716909404\",\"type\":\"CategoricalScale\"},\"y_range\":{\"id\":\"b5b053e3-2667-4300-b12d-491627c70adf\",\"type\":\"DataRange1d\"},\"y_scale\":{\"id\":\"6cb87ecf-0f66-4d78-8ca6-816360517822\",\"type\":\"LinearScale\"}},\"id\":\"8f98bee3-ffaa-428a-9920-a33921509fc7\",\"subtype\":\"Figure\",\"type\":\"Plot\"},{\"attributes\":{},\"id\":\"f8968109-c019-4622-97e4-5a2019d0f77e\",\"type\":\"BasicTickFormatter\"},{\"attributes\":{\"source\":{\"id\":\"1f7a557e-2a25-4ee0-ba0a-f4aeab12aaaa\",\"type\":\"ColumnDataSource\"}},\"id\":\"bcfe49b1-b6a0-47f5-9de5-f979ecfb18f7\",\"type\":\"CDSView\"},{\"attributes\":{\"fill_color\":{\"value\":\"#1f77b4\"},\"line_color\":{\"value\":\"#1f77b4\"},\"top\":{\"field\":\"flux\"},\"width\":{\"value\":0.9},\"x\":{\"field\":\"band\"}},\"id\":\"5983442b-d64a-49a7-b76a-0829e5c6d02e\",\"type\":\"VBar\"},{\"attributes\":{},\"id\":\"55f92b96-a731-4d0a-9397-53c775b2802a\",\"type\":\"WheelZoomTool\"},{\"attributes\":{},\"id\":\"ce607615-19fc-4400-88a1-d3cf5cf38a53\",\"type\":\"ResetTool\"},{\"attributes\":{},\"id\":\"0a9cb74f-a62d-4856-b5f1-13976848f8cc\",\"type\":\"PanTool\"},{\"attributes\":{\"overlay\":{\"id\":\"8e77188a-ff0a-4f22-8644-1dd67063b461\",\"type\":\"BoxAnnotation\"}},\"id\":\"3f54365a-7fcc-4108-a5e2-a9bfaf8341b4\",\"type\":\"BoxZoomTool\"},{\"attributes\":{\"fill_alpha\":{\"value\":0.1},\"fill_color\":{\"value\":\"#1f77b4\"},\"line_alpha\":{\"value\":0.1},\"line_color\":{\"value\":\"#1f77b4\"},\"top\":{\"field\":\"flux\"},\"width\":{\"value\":0.9},\"x\":{\"field\":\"band\"}},\"id\":\"bbe7b3ad-91ef-4dd8-a6c7-3a6a27550480\",\"type\":\"VBar\"}],\"root_ids\":[\"233aa53d-c3c2-4d9b-80a1-497a9b98b2a4\"]},\"title\":\"Bokeh Application\",\"version\":\"0.12.16\"}};\n",
       "  var render_items = [{\"docid\":\"ab3359c8-0506-43f6-b61d-1a5198dbf6c5\",\"elementid\":\"41ae0775-37aa-4ecf-9a29-767ed5ecf085\",\"modelid\":\"233aa53d-c3c2-4d9b-80a1-497a9b98b2a4\"}];\n",
       "  root.Bokeh.embed.embed_items_notebook(docs_json, render_items);\n",
       "\n",
       "  }\n",
       "  if (root.Bokeh !== undefined) {\n",
       "    embed_document(root);\n",
       "  } else {\n",
       "    var attempts = 0;\n",
       "    var timer = setInterval(function(root) {\n",
       "      if (root.Bokeh !== undefined) {\n",
       "        embed_document(root);\n",
       "        clearInterval(timer);\n",
       "      }\n",
       "      attempts++;\n",
       "      if (attempts > 100) {\n",
       "        console.log(\"Bokeh: ERROR: Unable to run BokehJS code because BokehJS library is missing\")\n",
       "        clearInterval(timer);\n",
       "      }\n",
       "    }, 10, root)\n",
       "  }\n",
       "})(window);"
      ],
      "application/vnd.bokehjs_exec.v0+json": ""
     },
     "metadata": {
      "application/vnd.bokehjs_exec.v0+json": {
       "id": "233aa53d-c3c2-4d9b-80a1-497a9b98b2a4"
      }
     },
     "output_type": "display_data"
    },
    {
     "data": {
      "text/markdown": [
       "*FIGURE.* Difference between CLIRAD and CRD in TOA, SFC and net atmosphere flux, in each spectral band."
      ],
      "text/plain": [
       "<IPython.core.display.Markdown object>"
      ]
     },
     "metadata": {},
     "output_type": "display_data"
    },
    {
     "data": {
      "text/html": [
       "<div>\n",
       "<style scoped>\n",
       "    .dataframe tbody tr th:only-of-type {\n",
       "        vertical-align: middle;\n",
       "    }\n",
       "\n",
       "    .dataframe tbody tr th {\n",
       "        vertical-align: top;\n",
       "    }\n",
       "\n",
       "    .dataframe thead th {\n",
       "        text-align: right;\n",
       "    }\n",
       "</style>\n",
       "<table border=\"1\" class=\"dataframe\">\n",
       "  <thead>\n",
       "    <tr style=\"text-align: right;\">\n",
       "      <th></th>\n",
       "      <th>OLR flux</th>\n",
       "      <th>SFC flux</th>\n",
       "      <th>ATM heating</th>\n",
       "    </tr>\n",
       "    <tr>\n",
       "      <th>Sum over bands</th>\n",
       "      <th></th>\n",
       "      <th></th>\n",
       "      <th></th>\n",
       "    </tr>\n",
       "  </thead>\n",
       "  <tbody>\n",
       "    <tr>\n",
       "      <th>CLIRAD (single-run) - CRD</th>\n",
       "      <td>1.65</td>\n",
       "      <td>4.39</td>\n",
       "      <td>-2.74</td>\n",
       "    </tr>\n",
       "    <tr>\n",
       "      <th>CRD</th>\n",
       "      <td>-303.40</td>\n",
       "      <td>337.24</td>\n",
       "      <td>-181.37</td>\n",
       "    </tr>\n",
       "  </tbody>\n",
       "</table>\n",
       "</div>"
      ],
      "text/plain": [
       "                           OLR flux  SFC flux  ATM heating\n",
       "Sum over bands                                            \n",
       "CLIRAD (single-run) - CRD      1.65      4.39        -2.74\n",
       "CRD                         -303.40    337.24      -181.37"
      ]
     },
     "metadata": {},
     "output_type": "display_data"
    },
    {
     "data": {
      "text/markdown": [
       "*TABLE.* Difference between CLIRAD and CRD in TOA, SFC and net atmosphere flux, over all spectral bands. CRD's TOA, SFC and net atmosphere flux, over all spectral bands."
      ],
      "text/plain": [
       "<IPython.core.display.Markdown object>"
      ]
     },
     "metadata": {},
     "output_type": "display_data"
    }
   ],
   "source": [
    "def show_html(s):\n",
    "    display.display(display.HTML(s))\n",
    "\n",
    "    \n",
    "def show_markdown(s):\n",
    "    display.display(display.Markdown(s))\n",
    "\n",
    "\n",
    "def script():\n",
    "    \n",
    "    d_atm = {'mls': 'mid-latitude summer',\n",
    "             'saw': 'sub-arctic winter',\n",
    "             'trp': 'tropical'}\n",
    "    \n",
    "    title = ('## Results over entire range of molecules'\n",
    "             ' and spectral bands')\n",
    "    \n",
    "    s_makeup = 'Makeup of atmosphere.'\n",
    "    s_atmpro = '# {}'\n",
    "    s_cool = 'Cooling rates. {}.'\n",
    "    s_flux = 'Fluxes. {}.'\n",
    "    \n",
    "    atmpros = ['mls', 'saw', 'trp']\n",
    "    \n",
    "    # TOC\n",
    "    show_markdown(title)\n",
    "    show_markdown('### Table of Contents')\n",
    "    show_html(climahtml.getHTML_hrefanchor(s_makeup))\n",
    "    for atmpro in atmpros:\n",
    "        show_markdown('**' + d_atm[atmpro] + '**')\n",
    "        show_html(climahtml.getHTML_hrefanchor(s_cool.format(atmpro)))\n",
    "        show_html(climahtml.getHTML_hrefanchor(s_flux.format(atmpro)))\n",
    "\n",
    "        \n",
    "    # Atmosphere makeup\n",
    "    show_html(climahtml.getHTML_idanchor(s_makeup))\n",
    "    show_markdown(climahtml.getMarkdown_sectitle(s_makeup))\n",
    "    show_makeup()\n",
    "    show_grey_makeup()\n",
    "        \n",
    "    for atmpro in atmpros:\n",
    "        show_html(climahtml.getHTML_idanchor(s_cool.format(atmpro)))\n",
    "        show_markdown(\n",
    "            climahtml.getMarkdown_sectitle(s_cool.format(atmpro)))\n",
    "        show_cool(atmpro=atmpro)\n",
    "        show_html(climahtml.getHTML_idanchor(s_flux.format(atmpro)))\n",
    "        show_markdown(\n",
    "            climahtml.getMarkdown_sectitle(s_flux.format(atmpro)))\n",
    "        show_hist_flux(atmpro=atmpro)\n",
    "        show_tb_flux(atmpro=atmpro)\n",
    "    \n",
    "    \n",
    "script()  "
   ]
  },
  {
   "cell_type": "code",
   "execution_count": null,
   "metadata": {
    "collapsed": true
   },
   "outputs": [],
   "source": []
  },
  {
   "cell_type": "code",
   "execution_count": 42,
   "metadata": {},
   "outputs": [
    {
     "data": {
      "text/html": [
       "<script>\n",
       "code_show=true; \n",
       "function code_toggle() {\n",
       " if (code_show){\n",
       " $('div.input').hide();\n",
       " } else {\n",
       " $('div.input').show();\n",
       " }\n",
       " code_show = !code_show\n",
       "} \n",
       "$( document ).ready(code_toggle);\n",
       "</script>\n",
       "<form action=\"javascript:code_toggle()\"><input type=\"submit\" value=\"Click here to toggle on/off the raw code.\"></form>"
      ],
      "text/plain": [
       "<IPython.core.display.HTML object>"
      ]
     },
     "execution_count": 42,
     "metadata": {},
     "output_type": "execute_result"
    }
   ],
   "source": [
    "display.HTML('''<script>\n",
    "code_show=true; \n",
    "function code_toggle() {\n",
    " if (code_show){\n",
    " $('div.input').hide();\n",
    " } else {\n",
    " $('div.input').show();\n",
    " }\n",
    " code_show = !code_show\n",
    "} \n",
    "$( document ).ready(code_toggle);\n",
    "</script>\n",
    "<form action=\"javascript:code_toggle()\"><input type=\"submit\" value=\"Click here to toggle on/off the raw code.\"></form>''')"
   ]
  },
  {
   "cell_type": "code",
   "execution_count": null,
   "metadata": {
    "collapsed": true
   },
   "outputs": [],
   "source": []
  }
 ],
 "metadata": {
  "kernelspec": {
   "display_name": "Python 3",
   "language": "python",
   "name": "python3"
  },
  "language_info": {
   "codemirror_mode": {
    "name": "ipython",
    "version": 3
   },
   "file_extension": ".py",
   "mimetype": "text/x-python",
   "name": "python",
   "nbconvert_exporter": "python",
   "pygments_lexer": "ipython3",
   "version": "3.6.1"
  }
 },
 "nbformat": 4,
 "nbformat_minor": 2
}
