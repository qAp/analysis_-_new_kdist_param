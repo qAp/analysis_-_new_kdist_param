{
 "cells": [
  {
   "cell_type": "code",
   "execution_count": 455,
   "metadata": {
    "collapsed": true
   },
   "outputs": [],
   "source": [
    "import os\n",
    "import ast\n",
    "import json\n",
    "import importlib \n",
    "import itertools\n",
    "import collections\n",
    "import pprint\n",
    "\n",
    "from bokeh.io import output_notebook, show\n",
    "from bokeh.layouts import gridplot\n",
    "from bokeh.plotting import figure\n",
    "from bokeh.models import Range1d, Legend, ColumnDataSource, FactorRange\n",
    "from bokeh.palettes import all_palettes\n",
    "from bokeh.transform import factor_cmap\n",
    "\n",
    "import matplotlib\n",
    "import matplotlib.pyplot as plt\n",
    "import numpy as np\n",
    "import pandas as pd\n",
    "import xarray as xr\n",
    "\n",
    "\n",
    "import climatools.lblnew.bestfit_params as bestfits\n",
    "from climatools.lblnew import setup_bestfit, setup_overlap\n",
    "import climatools.lblnew.pipeline as pipe_lblnew\n",
    "import climatools.cliradlw.setup as setup_cliradlw\n",
    "import climatools.cliradlw.pipeline as pipe_cliradlw\n",
    "\n",
    "import climatools.html.html as climahtml\n",
    "from climatools.lblnew.dataio import *\n",
    "from climatools.plot.plot import *\n",
    "\n",
    "\n",
    "from IPython import display\n",
    "\n",
    "#importlib.reload(bestfits)\n",
    "#importlib.reload(setup_bestfit)\n",
    "#importlib.reload(setup_overlap)\n",
    "#importlib.reload(pipe_lblnew)\n",
    "#importlib.reload(setup_cliradlw)\n",
    "#importlib.reload(pipe_cliradlw)"
   ]
  },
  {
   "cell_type": "code",
   "execution_count": 456,
   "metadata": {
    "scrolled": true
   },
   "outputs": [
    {
     "data": {
      "text/html": [
       "\n",
       "    <div class=\"bk-root\">\n",
       "        <a href=\"https://bokeh.pydata.org\" target=\"_blank\" class=\"bk-logo bk-logo-small bk-logo-notebook\"></a>\n",
       "        <span id=\"915107ea-d3e8-4bb3-97b7-8a3827754ee1\">Loading BokehJS ...</span>\n",
       "    </div>"
      ]
     },
     "metadata": {},
     "output_type": "display_data"
    },
    {
     "data": {
      "application/javascript": [
       "\n",
       "(function(root) {\n",
       "  function now() {\n",
       "    return new Date();\n",
       "  }\n",
       "\n",
       "  var force = true;\n",
       "\n",
       "  if (typeof (root._bokeh_onload_callbacks) === \"undefined\" || force === true) {\n",
       "    root._bokeh_onload_callbacks = [];\n",
       "    root._bokeh_is_loading = undefined;\n",
       "  }\n",
       "\n",
       "  var JS_MIME_TYPE = 'application/javascript';\n",
       "  var HTML_MIME_TYPE = 'text/html';\n",
       "  var EXEC_MIME_TYPE = 'application/vnd.bokehjs_exec.v0+json';\n",
       "  var CLASS_NAME = 'output_bokeh rendered_html';\n",
       "\n",
       "  /**\n",
       "   * Render data to the DOM node\n",
       "   */\n",
       "  function render(props, node) {\n",
       "    var script = document.createElement(\"script\");\n",
       "    node.appendChild(script);\n",
       "  }\n",
       "\n",
       "  /**\n",
       "   * Handle when an output is cleared or removed\n",
       "   */\n",
       "  function handleClearOutput(event, handle) {\n",
       "    var cell = handle.cell;\n",
       "\n",
       "    var id = cell.output_area._bokeh_element_id;\n",
       "    var server_id = cell.output_area._bokeh_server_id;\n",
       "    // Clean up Bokeh references\n",
       "    if (id !== undefined) {\n",
       "      Bokeh.index[id].model.document.clear();\n",
       "      delete Bokeh.index[id];\n",
       "    }\n",
       "\n",
       "    if (server_id !== undefined) {\n",
       "      // Clean up Bokeh references\n",
       "      var cmd = \"from bokeh.io.state import curstate; print(curstate().uuid_to_server['\" + server_id + \"'].get_sessions()[0].document.roots[0]._id)\";\n",
       "      cell.notebook.kernel.execute(cmd, {\n",
       "        iopub: {\n",
       "          output: function(msg) {\n",
       "            var element_id = msg.content.text.trim();\n",
       "            Bokeh.index[element_id].model.document.clear();\n",
       "            delete Bokeh.index[element_id];\n",
       "          }\n",
       "        }\n",
       "      });\n",
       "      // Destroy server and session\n",
       "      var cmd = \"import bokeh.io.notebook as ion; ion.destroy_server('\" + server_id + \"')\";\n",
       "      cell.notebook.kernel.execute(cmd);\n",
       "    }\n",
       "  }\n",
       "\n",
       "  /**\n",
       "   * Handle when a new output is added\n",
       "   */\n",
       "  function handleAddOutput(event, handle) {\n",
       "    var output_area = handle.output_area;\n",
       "    var output = handle.output;\n",
       "\n",
       "    // limit handleAddOutput to display_data with EXEC_MIME_TYPE content only\n",
       "    if ((output.output_type != \"display_data\") || (!output.data.hasOwnProperty(EXEC_MIME_TYPE))) {\n",
       "      return\n",
       "    }\n",
       "\n",
       "    var toinsert = output_area.element.find(\".\" + CLASS_NAME.split(' ')[0]);\n",
       "\n",
       "    if (output.metadata[EXEC_MIME_TYPE][\"id\"] !== undefined) {\n",
       "      toinsert[toinsert.length - 1].firstChild.textContent = output.data[JS_MIME_TYPE];\n",
       "      // store reference to embed id on output_area\n",
       "      output_area._bokeh_element_id = output.metadata[EXEC_MIME_TYPE][\"id\"];\n",
       "    }\n",
       "    if (output.metadata[EXEC_MIME_TYPE][\"server_id\"] !== undefined) {\n",
       "      var bk_div = document.createElement(\"div\");\n",
       "      bk_div.innerHTML = output.data[HTML_MIME_TYPE];\n",
       "      var script_attrs = bk_div.children[0].attributes;\n",
       "      for (var i = 0; i < script_attrs.length; i++) {\n",
       "        toinsert[toinsert.length - 1].firstChild.setAttribute(script_attrs[i].name, script_attrs[i].value);\n",
       "      }\n",
       "      // store reference to server id on output_area\n",
       "      output_area._bokeh_server_id = output.metadata[EXEC_MIME_TYPE][\"server_id\"];\n",
       "    }\n",
       "  }\n",
       "\n",
       "  function register_renderer(events, OutputArea) {\n",
       "\n",
       "    function append_mime(data, metadata, element) {\n",
       "      // create a DOM node to render to\n",
       "      var toinsert = this.create_output_subarea(\n",
       "        metadata,\n",
       "        CLASS_NAME,\n",
       "        EXEC_MIME_TYPE\n",
       "      );\n",
       "      this.keyboard_manager.register_events(toinsert);\n",
       "      // Render to node\n",
       "      var props = {data: data, metadata: metadata[EXEC_MIME_TYPE]};\n",
       "      render(props, toinsert[toinsert.length - 1]);\n",
       "      element.append(toinsert);\n",
       "      return toinsert\n",
       "    }\n",
       "\n",
       "    /* Handle when an output is cleared or removed */\n",
       "    events.on('clear_output.CodeCell', handleClearOutput);\n",
       "    events.on('delete.Cell', handleClearOutput);\n",
       "\n",
       "    /* Handle when a new output is added */\n",
       "    events.on('output_added.OutputArea', handleAddOutput);\n",
       "\n",
       "    /**\n",
       "     * Register the mime type and append_mime function with output_area\n",
       "     */\n",
       "    OutputArea.prototype.register_mime_type(EXEC_MIME_TYPE, append_mime, {\n",
       "      /* Is output safe? */\n",
       "      safe: true,\n",
       "      /* Index of renderer in `output_area.display_order` */\n",
       "      index: 0\n",
       "    });\n",
       "  }\n",
       "\n",
       "  // register the mime type if in Jupyter Notebook environment and previously unregistered\n",
       "  if (root.Jupyter !== undefined) {\n",
       "    var events = require('base/js/events');\n",
       "    var OutputArea = require('notebook/js/outputarea').OutputArea;\n",
       "\n",
       "    if (OutputArea.prototype.mime_types().indexOf(EXEC_MIME_TYPE) == -1) {\n",
       "      register_renderer(events, OutputArea);\n",
       "    }\n",
       "  }\n",
       "\n",
       "  \n",
       "  if (typeof (root._bokeh_timeout) === \"undefined\" || force === true) {\n",
       "    root._bokeh_timeout = Date.now() + 5000;\n",
       "    root._bokeh_failed_load = false;\n",
       "  }\n",
       "\n",
       "  var NB_LOAD_WARNING = {'data': {'text/html':\n",
       "     \"<div style='background-color: #fdd'>\\n\"+\n",
       "     \"<p>\\n\"+\n",
       "     \"BokehJS does not appear to have successfully loaded. If loading BokehJS from CDN, this \\n\"+\n",
       "     \"may be due to a slow or bad network connection. Possible fixes:\\n\"+\n",
       "     \"</p>\\n\"+\n",
       "     \"<ul>\\n\"+\n",
       "     \"<li>re-rerun `output_notebook()` to attempt to load from CDN again, or</li>\\n\"+\n",
       "     \"<li>use INLINE resources instead, as so:</li>\\n\"+\n",
       "     \"</ul>\\n\"+\n",
       "     \"<code>\\n\"+\n",
       "     \"from bokeh.resources import INLINE\\n\"+\n",
       "     \"output_notebook(resources=INLINE)\\n\"+\n",
       "     \"</code>\\n\"+\n",
       "     \"</div>\"}};\n",
       "\n",
       "  function display_loaded() {\n",
       "    var el = document.getElementById(\"915107ea-d3e8-4bb3-97b7-8a3827754ee1\");\n",
       "    if (el != null) {\n",
       "      el.textContent = \"BokehJS is loading...\";\n",
       "    }\n",
       "    if (root.Bokeh !== undefined) {\n",
       "      if (el != null) {\n",
       "        el.textContent = \"BokehJS \" + root.Bokeh.version + \" successfully loaded.\";\n",
       "      }\n",
       "    } else if (Date.now() < root._bokeh_timeout) {\n",
       "      setTimeout(display_loaded, 100)\n",
       "    }\n",
       "  }\n",
       "\n",
       "\n",
       "  function run_callbacks() {\n",
       "    try {\n",
       "      root._bokeh_onload_callbacks.forEach(function(callback) { callback() });\n",
       "    }\n",
       "    finally {\n",
       "      delete root._bokeh_onload_callbacks\n",
       "    }\n",
       "    console.info(\"Bokeh: all callbacks have finished\");\n",
       "  }\n",
       "\n",
       "  function load_libs(js_urls, callback) {\n",
       "    root._bokeh_onload_callbacks.push(callback);\n",
       "    if (root._bokeh_is_loading > 0) {\n",
       "      console.log(\"Bokeh: BokehJS is being loaded, scheduling callback at\", now());\n",
       "      return null;\n",
       "    }\n",
       "    if (js_urls == null || js_urls.length === 0) {\n",
       "      run_callbacks();\n",
       "      return null;\n",
       "    }\n",
       "    console.log(\"Bokeh: BokehJS not loaded, scheduling load and callback at\", now());\n",
       "    root._bokeh_is_loading = js_urls.length;\n",
       "    for (var i = 0; i < js_urls.length; i++) {\n",
       "      var url = js_urls[i];\n",
       "      var s = document.createElement('script');\n",
       "      s.src = url;\n",
       "      s.async = false;\n",
       "      s.onreadystatechange = s.onload = function() {\n",
       "        root._bokeh_is_loading--;\n",
       "        if (root._bokeh_is_loading === 0) {\n",
       "          console.log(\"Bokeh: all BokehJS libraries loaded\");\n",
       "          run_callbacks()\n",
       "        }\n",
       "      };\n",
       "      s.onerror = function() {\n",
       "        console.warn(\"failed to load library \" + url);\n",
       "      };\n",
       "      console.log(\"Bokeh: injecting script tag for BokehJS library: \", url);\n",
       "      document.getElementsByTagName(\"head\")[0].appendChild(s);\n",
       "    }\n",
       "  };var element = document.getElementById(\"915107ea-d3e8-4bb3-97b7-8a3827754ee1\");\n",
       "  if (element == null) {\n",
       "    console.log(\"Bokeh: ERROR: autoload.js configured with elementid '915107ea-d3e8-4bb3-97b7-8a3827754ee1' but no matching script tag was found. \")\n",
       "    return false;\n",
       "  }\n",
       "\n",
       "  var js_urls = [\"https://cdn.pydata.org/bokeh/release/bokeh-0.12.16.min.js\", \"https://cdn.pydata.org/bokeh/release/bokeh-widgets-0.12.16.min.js\", \"https://cdn.pydata.org/bokeh/release/bokeh-tables-0.12.16.min.js\", \"https://cdn.pydata.org/bokeh/release/bokeh-gl-0.12.16.min.js\"];\n",
       "\n",
       "  var inline_js = [\n",
       "    function(Bokeh) {\n",
       "      Bokeh.set_log_level(\"info\");\n",
       "    },\n",
       "    \n",
       "    function(Bokeh) {\n",
       "      \n",
       "    },\n",
       "    function(Bokeh) {\n",
       "      console.log(\"Bokeh: injecting CSS: https://cdn.pydata.org/bokeh/release/bokeh-0.12.16.min.css\");\n",
       "      Bokeh.embed.inject_css(\"https://cdn.pydata.org/bokeh/release/bokeh-0.12.16.min.css\");\n",
       "      console.log(\"Bokeh: injecting CSS: https://cdn.pydata.org/bokeh/release/bokeh-widgets-0.12.16.min.css\");\n",
       "      Bokeh.embed.inject_css(\"https://cdn.pydata.org/bokeh/release/bokeh-widgets-0.12.16.min.css\");\n",
       "      console.log(\"Bokeh: injecting CSS: https://cdn.pydata.org/bokeh/release/bokeh-tables-0.12.16.min.css\");\n",
       "      Bokeh.embed.inject_css(\"https://cdn.pydata.org/bokeh/release/bokeh-tables-0.12.16.min.css\");\n",
       "    }\n",
       "  ];\n",
       "\n",
       "  function run_inline_js() {\n",
       "    \n",
       "    if ((root.Bokeh !== undefined) || (force === true)) {\n",
       "      for (var i = 0; i < inline_js.length; i++) {\n",
       "        inline_js[i].call(root, root.Bokeh);\n",
       "      }if (force === true) {\n",
       "        display_loaded();\n",
       "      }} else if (Date.now() < root._bokeh_timeout) {\n",
       "      setTimeout(run_inline_js, 100);\n",
       "    } else if (!root._bokeh_failed_load) {\n",
       "      console.log(\"Bokeh: BokehJS failed to load within specified timeout.\");\n",
       "      root._bokeh_failed_load = true;\n",
       "    } else if (force !== true) {\n",
       "      var cell = $(document.getElementById(\"915107ea-d3e8-4bb3-97b7-8a3827754ee1\")).parents('.cell').data().cell;\n",
       "      cell.output_area.append_execute_result(NB_LOAD_WARNING)\n",
       "    }\n",
       "\n",
       "  }\n",
       "\n",
       "  if (root._bokeh_is_loading === 0) {\n",
       "    console.log(\"Bokeh: BokehJS loaded, going straight to plotting\");\n",
       "    run_inline_js();\n",
       "  } else {\n",
       "    load_libs(js_urls, function() {\n",
       "      console.log(\"Bokeh: BokehJS plotting callback run at\", now());\n",
       "      run_inline_js();\n",
       "    });\n",
       "  }\n",
       "}(window));"
      ],
      "application/vnd.bokehjs_load.v0+json": "\n(function(root) {\n  function now() {\n    return new Date();\n  }\n\n  var force = true;\n\n  if (typeof (root._bokeh_onload_callbacks) === \"undefined\" || force === true) {\n    root._bokeh_onload_callbacks = [];\n    root._bokeh_is_loading = undefined;\n  }\n\n  \n\n  \n  if (typeof (root._bokeh_timeout) === \"undefined\" || force === true) {\n    root._bokeh_timeout = Date.now() + 5000;\n    root._bokeh_failed_load = false;\n  }\n\n  var NB_LOAD_WARNING = {'data': {'text/html':\n     \"<div style='background-color: #fdd'>\\n\"+\n     \"<p>\\n\"+\n     \"BokehJS does not appear to have successfully loaded. If loading BokehJS from CDN, this \\n\"+\n     \"may be due to a slow or bad network connection. Possible fixes:\\n\"+\n     \"</p>\\n\"+\n     \"<ul>\\n\"+\n     \"<li>re-rerun `output_notebook()` to attempt to load from CDN again, or</li>\\n\"+\n     \"<li>use INLINE resources instead, as so:</li>\\n\"+\n     \"</ul>\\n\"+\n     \"<code>\\n\"+\n     \"from bokeh.resources import INLINE\\n\"+\n     \"output_notebook(resources=INLINE)\\n\"+\n     \"</code>\\n\"+\n     \"</div>\"}};\n\n  function display_loaded() {\n    var el = document.getElementById(\"915107ea-d3e8-4bb3-97b7-8a3827754ee1\");\n    if (el != null) {\n      el.textContent = \"BokehJS is loading...\";\n    }\n    if (root.Bokeh !== undefined) {\n      if (el != null) {\n        el.textContent = \"BokehJS \" + root.Bokeh.version + \" successfully loaded.\";\n      }\n    } else if (Date.now() < root._bokeh_timeout) {\n      setTimeout(display_loaded, 100)\n    }\n  }\n\n\n  function run_callbacks() {\n    try {\n      root._bokeh_onload_callbacks.forEach(function(callback) { callback() });\n    }\n    finally {\n      delete root._bokeh_onload_callbacks\n    }\n    console.info(\"Bokeh: all callbacks have finished\");\n  }\n\n  function load_libs(js_urls, callback) {\n    root._bokeh_onload_callbacks.push(callback);\n    if (root._bokeh_is_loading > 0) {\n      console.log(\"Bokeh: BokehJS is being loaded, scheduling callback at\", now());\n      return null;\n    }\n    if (js_urls == null || js_urls.length === 0) {\n      run_callbacks();\n      return null;\n    }\n    console.log(\"Bokeh: BokehJS not loaded, scheduling load and callback at\", now());\n    root._bokeh_is_loading = js_urls.length;\n    for (var i = 0; i < js_urls.length; i++) {\n      var url = js_urls[i];\n      var s = document.createElement('script');\n      s.src = url;\n      s.async = false;\n      s.onreadystatechange = s.onload = function() {\n        root._bokeh_is_loading--;\n        if (root._bokeh_is_loading === 0) {\n          console.log(\"Bokeh: all BokehJS libraries loaded\");\n          run_callbacks()\n        }\n      };\n      s.onerror = function() {\n        console.warn(\"failed to load library \" + url);\n      };\n      console.log(\"Bokeh: injecting script tag for BokehJS library: \", url);\n      document.getElementsByTagName(\"head\")[0].appendChild(s);\n    }\n  };var element = document.getElementById(\"915107ea-d3e8-4bb3-97b7-8a3827754ee1\");\n  if (element == null) {\n    console.log(\"Bokeh: ERROR: autoload.js configured with elementid '915107ea-d3e8-4bb3-97b7-8a3827754ee1' but no matching script tag was found. \")\n    return false;\n  }\n\n  var js_urls = [\"https://cdn.pydata.org/bokeh/release/bokeh-0.12.16.min.js\", \"https://cdn.pydata.org/bokeh/release/bokeh-widgets-0.12.16.min.js\", \"https://cdn.pydata.org/bokeh/release/bokeh-tables-0.12.16.min.js\", \"https://cdn.pydata.org/bokeh/release/bokeh-gl-0.12.16.min.js\"];\n\n  var inline_js = [\n    function(Bokeh) {\n      Bokeh.set_log_level(\"info\");\n    },\n    \n    function(Bokeh) {\n      \n    },\n    function(Bokeh) {\n      console.log(\"Bokeh: injecting CSS: https://cdn.pydata.org/bokeh/release/bokeh-0.12.16.min.css\");\n      Bokeh.embed.inject_css(\"https://cdn.pydata.org/bokeh/release/bokeh-0.12.16.min.css\");\n      console.log(\"Bokeh: injecting CSS: https://cdn.pydata.org/bokeh/release/bokeh-widgets-0.12.16.min.css\");\n      Bokeh.embed.inject_css(\"https://cdn.pydata.org/bokeh/release/bokeh-widgets-0.12.16.min.css\");\n      console.log(\"Bokeh: injecting CSS: https://cdn.pydata.org/bokeh/release/bokeh-tables-0.12.16.min.css\");\n      Bokeh.embed.inject_css(\"https://cdn.pydata.org/bokeh/release/bokeh-tables-0.12.16.min.css\");\n    }\n  ];\n\n  function run_inline_js() {\n    \n    if ((root.Bokeh !== undefined) || (force === true)) {\n      for (var i = 0; i < inline_js.length; i++) {\n        inline_js[i].call(root, root.Bokeh);\n      }if (force === true) {\n        display_loaded();\n      }} else if (Date.now() < root._bokeh_timeout) {\n      setTimeout(run_inline_js, 100);\n    } else if (!root._bokeh_failed_load) {\n      console.log(\"Bokeh: BokehJS failed to load within specified timeout.\");\n      root._bokeh_failed_load = true;\n    } else if (force !== true) {\n      var cell = $(document.getElementById(\"915107ea-d3e8-4bb3-97b7-8a3827754ee1\")).parents('.cell').data().cell;\n      cell.output_area.append_execute_result(NB_LOAD_WARNING)\n    }\n\n  }\n\n  if (root._bokeh_is_loading === 0) {\n    console.log(\"Bokeh: BokehJS loaded, going straight to plotting\");\n    run_inline_js();\n  } else {\n    load_libs(js_urls, function() {\n      console.log(\"Bokeh: BokehJS plotting callback run at\", now());\n      run_inline_js();\n    });\n  }\n}(window));"
     },
     "metadata": {},
     "output_type": "display_data"
    }
   ],
   "source": [
    "output_notebook()"
   ]
  },
  {
   "cell_type": "code",
   "execution_count": 457,
   "metadata": {
    "collapsed": true
   },
   "outputs": [],
   "source": [
    "'''\n",
    "Get the clirad-lw and lblnew `param`s for all spectral bands.  \n",
    "These are returned by functions `clirad_params_atm` and\n",
    "`lblnew_params_atm`, respectively.\n",
    "'''\n",
    "\n",
    "def molecules_byband_atm():\n",
    "    return {1: {'h2o': 'atmpro'},\n",
    "            2: {'h2o': 'atmpro'}, \n",
    "            3: {'co2': 0.0004, 'h2o': 'atmpro', 'n2o': 3.2e-07},\n",
    "            4: {'co2': 0.0004, 'h2o': 'atmpro'},\n",
    "            5: {'co2': 0.0004, 'h2o': 'atmpro'},\n",
    "            6: {'co2': 0.0004, 'h2o': 'atmpro'},\n",
    "            7: {'co2': 0.0004, 'h2o': 'atmpro', 'o3': 'atmpro'},\n",
    "            8: {'h2o': 'atmpro'},\n",
    "            9: {'ch4': 1.8e-06, 'h2o': 'atmpro', 'n2o': 3.2e-07},\n",
    "            10: {'h2o': 'atmpro'},\n",
    "            11: {'co2': 0.0004, 'h2o': 'atmpro'}}\n",
    "\n",
    "\n",
    "def greyabsorbers_by_band_atm():\n",
    "    return {1: None,\n",
    "            2: None,\n",
    "            3: None,\n",
    "            4: None,\n",
    "            5: None,\n",
    "            6: None, \n",
    "            7: None,\n",
    "            8: {'n2o': 3.2e-7}, \n",
    "            9: None, \n",
    "            10: None,\n",
    "            11: None}\n",
    "\n",
    "\n",
    "def clirad_params_atm(atmpro='mls'):\n",
    "    d = {}\n",
    "    for band, molecule in molecules_byband_atm().items():\n",
    "        for param in setup_cliradlw.test_cases():\n",
    "            if [band] == param['band'] and molecule == param['molecule']:\n",
    "                param['atmpro'] = atmpro\n",
    "                d[band] = param\n",
    "                break                \n",
    "    return d\n",
    "\n",
    "\n",
    "def clirad_params_atm_singlerun(atmpro='mls'):\n",
    "    '''\n",
    "    Returns param of clirad-lw run that is equivalent to the total\n",
    "    of all the runs listed in molecules_byband_atm().  In order\n",
    "    for the output to be compatible with clirad_data_atm(), it will\n",
    "    be a list.\n",
    "    '''\n",
    "    param0 = {'band': [1, 2, 3, 4, 5, 6, 7, 8, 9, 10, 11],\n",
    "              'commitnumber': 'dc44800',\n",
    "              'molecule': {'ch4': 1.8e-06,\n",
    "                           'co2': 0.0004,\n",
    "                           'h2o': 'atmpro',\n",
    "                           'n2o': 3.2e-07,\n",
    "                           'o3': 'atmpro'}}\n",
    "    \n",
    "    d_atmpros = {'mls': 294, 'saw': 257, 'trp': 300}\n",
    "    \n",
    "    param = param0.copy()\n",
    "    param['atmpro'] = atmpro\n",
    "    param['tsfc'] = d_atmpros[atmpro]\n",
    "    \n",
    "    d = {}\n",
    "    d['all'] = param\n",
    "    return d\n",
    "\n",
    "\n",
    "def analysis_dirs_atm(atmpro='mls'):\n",
    "    params = clirad_params_atm(atmpro=atmpro)\n",
    "    return {band: pipe_cliradlw.get_analysis_dir(param=param,\n",
    "                                                 setup=setup_cliradlw) \n",
    "            for band, param in params.items()}\n",
    "\n",
    "\n",
    "def lblnew_params_atm(atmpro='mls'):\n",
    "    dirs = analysis_dirs_atm(atmpro=atmpro)\n",
    "    \n",
    "    d = {}\n",
    "    for band, dirname in dirs.items():\n",
    "        with open(os.path.join(dirname, 'param.py'), \n",
    "                  mode='r', encoding='utf-8') as f:\n",
    "            _, l = f.readlines()\n",
    "        \n",
    "        s = l.split('=')[1].strip()\n",
    "        d[band] = ast.literal_eval(s)\n",
    "        \n",
    "    return d\n"
   ]
  },
  {
   "cell_type": "code",
   "execution_count": 458,
   "metadata": {
    "collapsed": true
   },
   "outputs": [],
   "source": [
    "def db_getdir():\n",
    "    atmpro = 'mls'\n",
    "    params = clirad_params_atm_singlerun(atmpro=atmpro)\n",
    "    param = params['all']\n",
    "    \n",
    "    fdir = pipe_cliradlw.get_fortran_dir(param=param, \n",
    "                                         setup=setup_cliradlw)\n",
    "    return fdir\n",
    "\n",
    "\n",
    "def db_ktable():\n",
    "    fdir = db_getdir()    \n",
    "    fpath = os.path.join(fdir, 'ktable.dat')\n",
    "    \n",
    "    df = pd.read_csv(fpath, sep=r'\\s+')\n",
    "    df = df.set_index(['band', 'mid', 'il', 'it', 'g'])\n",
    "    ds = xr.Dataset.from_dataframe(df)\n",
    "    return ds\n",
    "\n",
    "\n",
    "def db_ng_dgs():\n",
    "    fdir = db_getdir()\n",
    "    fpath = os.path.join(fdir, 'ng_dgs.dat')\n",
    "    \n",
    "    df = pd.read_csv(fpath, sep=r'\\s+')\n",
    "    df = df.set_index(['band', 'mid', 'g'])\n",
    "    ds = xr.Dataset.from_dataframe(df)\n",
    "    return ds\n"
   ]
  },
  {
   "cell_type": "code",
   "execution_count": 459,
   "metadata": {
    "collapsed": true
   },
   "outputs": [],
   "source": [
    "def show_makeup():\n",
    "    df = pd.DataFrame()\n",
    "\n",
    "    for band, molecule in molecules_byband_atm().items():\n",
    "        for name, conc in molecule.items():\n",
    "            df.loc[name, band] = str(conc)\n",
    "\n",
    "    df = df.fillna(0)\n",
    "    df.columns.name = 'clirad band'\n",
    "    df.index.name = 'molecule'\n",
    "    \n",
    "    display.display(df)\n",
    "    \n",
    "    display.display(\n",
    "        display.Markdown('*TABLE.* Non-grey absorbers in the atmosphere.'))\n",
    "\n",
    "\n",
    "def show_grey_makeup():\n",
    "    df = pd.DataFrame()\n",
    "    \n",
    "    for band, molecule in greyabsorbers_by_band_atm().items():\n",
    "        if molecule == None:\n",
    "            pass\n",
    "        else:\n",
    "            for name, conc in molecule.items():\n",
    "                df.loc[name, band] = str(conc)\n",
    "                \n",
    "    df = df.fillna(0)\n",
    "    df.columns.name = 'clirad band'\n",
    "    df.index.name = 'absorber'\n",
    "    \n",
    "    display.display(df)\n",
    "    display.display(\n",
    "        display.Markdown('*TABLE.* Grey absorbers in the atmosphere.')\n",
    "    )"
   ]
  },
  {
   "cell_type": "code",
   "execution_count": 460,
   "metadata": {
    "collapsed": true
   },
   "outputs": [],
   "source": [
    "def load_output_file(path_csv):\n",
    "    '''\n",
    "    Load lblnew output .csv file to xarray.Dataset\n",
    "    \n",
    "    Parameters\n",
    "    ----------\n",
    "    path_csv: str\n",
    "              Path to the .csv file to be loaded.\n",
    "    ds: xarray.Dataset\n",
    "        Data in the input file in the form of an xarray.Dataset.\n",
    "    '''\n",
    "    toindex = ['band', 'pressure', 'igg', 'g']    \n",
    "    df = pd.read_csv(path_csv, sep=r'\\s+')\n",
    "    df = df.set_index([i for i in toindex if i in df.columns])\n",
    "    df = df.rename(columns={'sfu': 'flug',\n",
    "                            'sfd': 'fldg',\n",
    "                            'fnet': 'fnetg',\n",
    "                            'coolr': 'coolrg'})\n",
    "    ds = xr.Dataset.from_dataframe(df)\n",
    "\n",
    "    for l in ('level', 'layer'):\n",
    "        if l in ds.data_vars:\n",
    "            if len(ds[l].dims) > 1:\n",
    "                surface = {d: 0 for d in ds.dims if d != 'pressure'}\n",
    "                coord_level = ds[l][surface]\n",
    "                ds.coords[l] = ('pressure', coord_level)\n",
    "            else:\n",
    "                ds.coords[l] = ('pressure', ds[l])\n",
    "    \n",
    "    return ds"
   ]
  },
  {
   "cell_type": "code",
   "execution_count": 461,
   "metadata": {
    "collapsed": true
   },
   "outputs": [],
   "source": [
    "def lblnew_setup(param=None):\n",
    "    if 'ng_refs' in param:\n",
    "        return {'setup': setup_bestfit,\n",
    "                'fname_flux_crd': 'output_flux.dat',\n",
    "                'fname_cool_crd': 'output_coolr.dat',\n",
    "                'fname_flux_wgt': 'output_wfluxg.dat',\n",
    "                'fname_cool_wgt': 'output_wcoolrg.dat'}\n",
    "    else:\n",
    "        return {'setup': setup_overlap,\n",
    "                'fname_flux_crd': 'output_flux.dat',\n",
    "                'fname_cool_crd': 'output_coolr.dat',\n",
    "                'fname_flux_wgt': 'output_wflux.dat',\n",
    "                'fname_cool_wgt': 'output_wcoolr.dat'}\n",
    "\n",
    "    \n",
    "def load_lblnew_data(param):\n",
    "    \n",
    "    fname_dsname = [('fname_flux_crd', 'ds_flux_crd'),\n",
    "                    ('fname_cool_crd', 'ds_cool_crd'),\n",
    "                    ('fname_flux_wgt', 'ds_flux_wgt'),\n",
    "                    ('fname_cool_wgt', 'ds_cool_wgt')]\n",
    "    \n",
    "    d = lblnew_setup(param)\n",
    "    dir_fortran = pipe_lblnew.get_dir_case(param, setup=d['setup'])\n",
    "    \n",
    "    data_dict = {}\n",
    "    for fname, dsname in fname_dsname:\n",
    "        fpath = os.path.join(dir_fortran, d[fname])\n",
    "        data_dict[dsname] = load_output_file(fpath)\n",
    "    return data_dict"
   ]
  },
  {
   "cell_type": "code",
   "execution_count": 462,
   "metadata": {
    "collapsed": true
   },
   "outputs": [],
   "source": [
    "def crd_data_atm(params_atm):\n",
    "    '''\n",
    "    Parameters\n",
    "    ----------\n",
    "    \n",
    "    params_atm: dict\n",
    "                Parameter dictionary for each band.\n",
    "                \n",
    "    d: dict\n",
    "       'flux': xr.Dataset. [pressure, band]\n",
    "               Fluxes.\n",
    "       'cool': xr.Dataset. [pressure, band]\n",
    "               Cooling rate.\n",
    "    \n",
    "    '''\n",
    "    \n",
    "    results_atm = {band: load_lblnew_data(param) \n",
    "                   for band, param in params_atm.items()}\n",
    "    \n",
    "    bands = [band for band, _ in params_atm.items()]\n",
    "    fluxs = [d['ds_flux_crd'] for _, d in results_atm.items()]\n",
    "    cools = [d['ds_cool_crd'] for _, d in results_atm.items()]\n",
    "    \n",
    "    d = {}\n",
    "    d['flux'] = xr.concat(fluxs, dim=bands).rename({'concat_dim': 'band'})\n",
    "    d['cool'] = xr.concat(cools, dim=bands).rename({'concat_dim': 'band'})\n",
    "    return d        \n",
    "        \n",
    "        \n",
    "\n",
    "def clirad_data_atm(params_atm):\n",
    "    \n",
    "    dirnames = [pipe_cliradlw.get_fortran_dir(param,\n",
    "                                              setup=setup_cliradlw)\n",
    "                for _, param in params_atm.items()]\n",
    "    \n",
    "    fpaths_flux = [os.path.join(n, 'output_flux.dat') for n in dirnames]\n",
    "    fpaths_cool = [os.path.join(n, 'output_coolr.dat') for n in dirnames]\n",
    "    \n",
    "    fluxs = [load_output_file(p) for p in fpaths_flux]    \n",
    "    cools = [load_output_file(p) for p in fpaths_cool]\n",
    "    \n",
    "    d = {}\n",
    "    d['flux'] = sum(fluxs)\n",
    "    d['cool'] = sum(cools)\n",
    "    return d\n",
    "\n"
   ]
  },
  {
   "cell_type": "code",
   "execution_count": 463,
   "metadata": {
    "collapsed": true
   },
   "outputs": [],
   "source": [
    "\n",
    "\n",
    "import rtmtools.clirad.sw.wrangle as cliradwrangle\n",
    "\n",
    "import importlib\n",
    "importlib.reload(cliradwrangle)\n",
    "\n",
    "def oldclirad_data_atm():\n",
    "    '''\n",
    "    Load the OLD clirad's results. mls only.\n",
    "    '''\n",
    "    fpath = os.path.join('/chia_cluster/home/jackyu/radiation',\n",
    "                         'clirad-lw',\n",
    "                         'LW',\n",
    "                         'examples',\n",
    "                         'mls75_h2o_atmpro_co2_.0004_o3_atmpro_n2o_3.2e-7_ch4_1.8e-6_H2012',\n",
    "                         'OUTPUT_CLIRAD.dat')\n",
    "    \n",
    "    ds = cliradwrangle.load_OUTPUT_CLIRAD(readfrom=fpath)\n",
    "    \n",
    "    ds_cool = xr.Dataset()\n",
    "    ds_cool.coords['pressure'] = ('pressure', ds['layer_pressure'])\n",
    "    ds_cool.coords['band'] = ('band', ds['spectral_band'])\n",
    "    ds_cool['coolrg'] = (('band', 'pressure'), - ds['heating_rate'])\n",
    "    \n",
    "    ds_flux = xr.Dataset()\n",
    "    ds_flux.coords['pressure'] = ('pressure', ds['level_pressure'])\n",
    "    ds_flux.coords['band'] = ('band', ds['spectral_band'])\n",
    "    ds_flux['flug'] = (('band', 'pressure'), ds['flux_up'])\n",
    "    ds_flux['fldg'] = (('band', 'pressure'), ds['flux_down'])\n",
    "    ds_flux['fnetg'] = (('band', 'pressure'), ds['net_flux'])\n",
    "    \n",
    "    \n",
    "    d = {}\n",
    "    d['cool'] = ds_cool\n",
    "    d['flux'] = ds_flux\n",
    "    return d\n"
   ]
  },
  {
   "cell_type": "code",
   "execution_count": 464,
   "metadata": {
    "collapsed": true
   },
   "outputs": [],
   "source": [
    "def fmt_cool(ds_in):\n",
    "    ds = ds_in.copy(deep=True)\n",
    "    if 'igg' in ds.dims:\n",
    "        ds = ds.sel(igg=1)\n",
    "\n",
    "    if 'g' in ds.dims:\n",
    "        ds = ds.sum('g')\n",
    "            \n",
    "    if 'band' in ds.dims:\n",
    "        try:\n",
    "            ds = ds.squeeze('band')\n",
    "        except ValueError:\n",
    "            ds = ds.sum('band')\n",
    "                \n",
    "    return ds['coolrg']\n",
    "\n",
    "\n",
    "\n",
    "def nice_xlims(pltdata=None, prange=None):\n",
    "    \n",
    "    def get_slice(srs):\n",
    "        return srs.sel(pressure=slice(*prange))\n",
    "    \n",
    "    srss = [d['srs'] for d in pltdata]\n",
    "    vmin = min([get_slice(srs).min() for srs in srss])\n",
    "    vmax = max([get_slice(srs).max() for srs in srss])\n",
    "    dv = (vmax - vmin) * .01\n",
    "    return float(vmin - dv), float(vmax + dv)\n",
    "\n",
    "\n",
    "    \n",
    "def plt_cool_bokeh(pltdata=None, \n",
    "                   y_axis_type='linear', prange=(50, 1050)):\n",
    "    \n",
    "    ymin = 1e-2 \n",
    "    ymax = 1020\n",
    "    \n",
    "    p2 = figure(y_axis_type=y_axis_type, plot_width=300)\n",
    "    xmin, xmax = nice_xlims(pltdata, prange=prange)\n",
    "    \n",
    "    rs = []\n",
    "    for d in pltdata:\n",
    "        rd = []\n",
    "        if 'marker' in d:\n",
    "            r_mark = getattr(p2, d['marker'])(d['srs'].values, \n",
    "                        d['srs'].coords['pressure'].values,\n",
    "                        color=d['color'], alpha=.7)\n",
    "            rd.append(r_mark)\n",
    "        r_line = p2.line(d['srs'].values, \n",
    "                         d['srs'].coords['pressure'].values,\n",
    "                         color=d['color'], alpha=d['alpha'], \n",
    "                         line_width=d['line_width'], \n",
    "                         line_dash=d['line_dash'])\n",
    "        rd.append(r_line)\n",
    "      \n",
    "        rs.append(rd)\n",
    "        \n",
    "    p2.y_range = Range1d(ymax, ymin)  \n",
    "    p2.yaxis.axis_label = 'pressure [mb]'\n",
    "    \n",
    "    p2.x_range = Range1d(xmin, xmax)\n",
    "    p2.xaxis.axis_label = 'cooling rate [K/day]'\n",
    "    \n",
    "    items = [(d['label'], r) for r, d in zip(rs, pltdata)]\n",
    "    legend = Legend(items=items, location=(10, 0))\n",
    "    legend.label_text_font_size = '8pt'\n",
    "    p2.add_layout(legend, 'above')\n",
    "    p2.legend.orientation = 'horizontal'\n",
    "    p2.legend.location = 'top_center'\n",
    "    \n",
    "    return p2"
   ]
  },
  {
   "cell_type": "code",
   "execution_count": 465,
   "metadata": {
    "collapsed": true
   },
   "outputs": [],
   "source": [
    "def pltdata_cool(atmpro='mls'):\n",
    "    \n",
    "    d_clirad_singlerun = clirad_data_atm(\n",
    "        clirad_params_atm_singlerun(atmpro=atmpro))\n",
    "    d_clirad = clirad_data_atm(clirad_params_atm(atmpro=atmpro))\n",
    "    d_crd = crd_data_atm(lblnew_params_atm(atmpro=atmpro))\n",
    "\n",
    "    ds_clirad_singlerun = d_clirad_singlerun['cool']\n",
    "    ds_clirad = d_clirad['cool']\n",
    "    ds_crd = d_crd['cool']\n",
    "\n",
    "    colors = all_palettes['Set1'][4]\n",
    "    \n",
    "    data = [\n",
    "        {'label': 'CLIRAD (single-run)',\n",
    "        'srs': fmt_cool(ds_clirad_singlerun),\n",
    "        'line_dash': 'dashed', 'line_width': 5,\n",
    "        'color': colors[1], 'alpha': .6},\n",
    "        {'label': 'CRD',\n",
    "         'srs': fmt_cool(ds_crd),\n",
    "         'line_dash': 'solid', 'line_width': 1.5,\n",
    "         'marker': 'circle', 'marker_size': 5,\n",
    "         'color': colors[2], 'alpha': 1}\n",
    "    ]\n",
    "#        {'label': 'CLIRAD',\n",
    "#         'srs': fmt_cool(ds_clirad),\n",
    "#         'line_dash': 'dashed', 'line_width': 5,\n",
    "#         'color': colors[0], 'alpha': .6}\n",
    "        \n",
    "\n",
    "    \n",
    "    # include old CLIRAD's results for mls profile\n",
    "    if atmpro == 'mls':\n",
    "        d_oldclirad = oldclirad_data_atm()\n",
    "        ds_oldclirad = d_oldclirad['cool']        \n",
    "        data.append(\n",
    "            {'label': 'old CLIRAD (H2012)',\n",
    "             'srs': fmt_cool(ds_oldclirad),\n",
    "             'line_dash': 'solid', 'line_width': 1.5,\n",
    "             'marker': 'square', 'marker_size': 3,\n",
    "             'color': colors[3], 'alpha': .5})\n",
    "    return data\n",
    "\n",
    "\n",
    "def pltdata_cooldiff(atmpro='mls'):\n",
    "    \n",
    "    d_clirad_singlerun = clirad_data_atm(\n",
    "        clirad_params_atm_singlerun(atmpro=atmpro))\n",
    "    d_clirad = clirad_data_atm(clirad_params_atm(atmpro=atmpro))\n",
    "    d_crd = crd_data_atm(lblnew_params_atm(atmpro=atmpro))\n",
    "    \n",
    "    ds_clirad_singlerun = d_clirad_singlerun['cool']\n",
    "    ds_clirad = d_clirad['cool']\n",
    "    ds_crd = d_crd['cool']\n",
    "    \n",
    "    ds_diff = ds_clirad_singlerun - ds_crd\n",
    "    \n",
    "    colors = all_palettes['Set1'][4]\n",
    "    \n",
    "    data = [\n",
    "        {'label': 'CLIRAD (single-run) - CRD',\n",
    "         'srs': fmt_cool(ds_diff),\n",
    "         'line_dash': 'solid', 'line_width': 1.5, \n",
    "         'marker': 'circle', 'marker_size': 7,\n",
    "         'color': colors[3], 'alpha': .8}\n",
    "    ]\n",
    "    \n",
    "    # include old CLIRAD's results for mls profile\n",
    "    if atmpro == 'mls':\n",
    "        d_oldclirad = oldclirad_data_atm()\n",
    "        ds_oldclirad = d_oldclirad['cool']\n",
    "        ds_oldclirad.coords['pressure'] = ds_crd.coords['pressure']\n",
    "        ds_diff_old = ds_oldclirad.sum('band') - ds_crd.sum('band')\n",
    "        data.append(\n",
    "            {'label': 'old CLIRAD (H2012) - CRD',\n",
    "             'srs': fmt_cool(ds_diff_old),\n",
    "             'line_dash': 'dashed', 'line_width': 4,\n",
    "             'color': colors[1], 'alpha': .5}\n",
    "        )\n",
    "    return data\n",
    "\n",
    "\n",
    "def show_cool(atmpro='mls'):\n",
    "    \n",
    "    data_cool = pltdata_cool(atmpro=atmpro)\n",
    "    p_cool_liny = plt_cool_bokeh(pltdata=data_cool)\n",
    "    p_cool_logy = plt_cool_bokeh(pltdata=data_cool, \n",
    "                                 y_axis_type='log',\n",
    "                                 prange=(.01, 200))\n",
    "    \n",
    "    data_cooldiff = pltdata_cooldiff(atmpro=atmpro)\n",
    "    p_cooldiff_logy = plt_cool_bokeh(pltdata=data_cooldiff,\n",
    "                                     y_axis_type='log',\n",
    "                                     prange=(.01, 200))\n",
    "    \n",
    "    everything = gridplot(p_cool_liny, p_cool_logy, \n",
    "                          p_cooldiff_logy,\n",
    "                          ncols=3)\n",
    "    show(everything)\n",
    "    display.display(\n",
    "        display.Markdown('*FIGURE.* Cooling rates & difference.'))\n",
    "\n",
    "\n",
    "    "
   ]
  },
  {
   "cell_type": "code",
   "execution_count": null,
   "metadata": {
    "collapsed": true
   },
   "outputs": [],
   "source": []
  },
  {
   "cell_type": "code",
   "execution_count": 466,
   "metadata": {
    "collapsed": true,
    "scrolled": false
   },
   "outputs": [],
   "source": [
    "\n",
    "\n",
    "def hist_band_vs_flux(da, title='Title'):\n",
    "       \n",
    "    bands = [str(b.values) for b in da['band']]\n",
    "\n",
    "    source = ColumnDataSource(\n",
    "        data={'band': bands, 'flux': da.values})\n",
    "\n",
    "    p = figure(x_range=bands, title=title)\n",
    "    p.vbar(source=source, x='band', top='flux', width=.9)\n",
    "\n",
    "    p.yaxis.axis_label = 'flux (W m-2)'\n",
    "    p.xaxis.axis_label = 'spectral band'\n",
    "    \n",
    "    return p\n",
    "\n",
    "\n",
    "def show_hist_flux(atmpro='mls'):\n",
    "    ds_crd = crd_data_atm(lblnew_params_atm(atmpro=atmpro))['flux']\n",
    "    ds_clirad = clirad_data_atm(\n",
    "        clirad_params_atm(atmpro=atmpro))['flux']\n",
    "    ds_clirad_singlerun = clirad_data_atm(\n",
    "        clirad_params_atm_singlerun(atmpro=atmpro))['flux']\n",
    "    \n",
    "    ip, varname = 0, 'flug'\n",
    "    da = (ds_clirad_singlerun - ds_crd).isel(pressure=ip)[varname]\n",
    "    p_toa = hist_band_vs_flux(da, \n",
    "        title='TOA flux. CLIRAD (single-run) - CRD.')\n",
    "\n",
    "    ip, varname = -1, 'fldg'\n",
    "    da = (ds_clirad_singlerun - ds_crd).isel(pressure=ip)[varname]\n",
    "    p_sfc = hist_band_vs_flux(da, \n",
    "        title='SFC flux. CLIRAD (single-run) - CRD.')    \n",
    "    \n",
    "    atm_crd = (ds_crd.isel(pressure=0) \n",
    "               - ds_crd.isel(pressure=-1))['fnetg']\n",
    "    atm_clirad_singlerun = (ds_clirad_singlerun.isel(pressure=0) \n",
    "                  - ds_clirad_singlerun.isel(pressure=-1))['fnetg']\n",
    "    da = atm_clirad_singlerun - atm_crd\n",
    "    p_atm = hist_band_vs_flux(da, \n",
    "        title='Atmosphere heating. CLIRAD (single-run) - CRD.')\n",
    "\n",
    "    everything = gridplot(p_toa, p_sfc, p_atm, ncols=3, \n",
    "                          plot_width=300, plot_height=300)\n",
    "    \n",
    "    show(everything)\n",
    "    display.display(\n",
    "        display.Markdown('*FIGURE.* Difference between CLIRAD and CRD'\n",
    "          ' in TOA, SFC and net atmosphere flux,'\n",
    "          ' in each spectral band.'))\n",
    "\n",
    "\n",
    "    \n",
    "def show_tb_flux(atmpro='mls'):\n",
    "    ds_crd = crd_data_atm(lblnew_params_atm(atmpro=atmpro))['flux']\n",
    "    olr_crd = ds_crd['flug'].isel(pressure=0)\n",
    "    sfc_crd = ds_crd['fldg'].isel(pressure=-1)\n",
    "    atm_crd = (ds_crd.isel(pressure=0)\n",
    "               - ds_crd.isel(pressure=-1))['fnetg']\n",
    "    \n",
    "    ds_clirad = clirad_data_atm(\n",
    "        clirad_params_atm(atmpro=atmpro))['flux']\n",
    "    olr_clirad = ds_clirad['flug'].isel(pressure=0)\n",
    "    sfc_clirad = ds_clirad['fldg'].isel(pressure=-1)\n",
    "    atm_clirad = (ds_clirad.isel(pressure=0)\n",
    "                  - ds_clirad.isel(pressure=-1))['fnetg']\n",
    "\n",
    "    ds_clirad_singlerun = clirad_data_atm(\n",
    "        clirad_params_atm_singlerun(atmpro=atmpro))['flux']\n",
    "    olr_clirad_singlerun = ds_clirad_singlerun['flug'].isel(pressure=0)\n",
    "    sfc_clirad_singlerun = ds_clirad_singlerun['fldg'].isel(pressure=-1)\n",
    "    atm_clirad_singlerun = (ds_clirad_singlerun.isel(pressure=0)\n",
    "                  - ds_clirad_singlerun.isel(pressure=-1))['fnetg']\n",
    "    \n",
    "    if atmpro == 'mls':\n",
    "        ds_oldclirad = oldclirad_data_atm()['flux']\n",
    "        ds_oldclirad['pressure'] = ds_crd['pressure']\n",
    "        olr_oldclirad = ds_oldclirad['flug'].isel(pressure=0)\n",
    "        sfc_oldclirad = ds_oldclirad['fldg'].isel(pressure=-1)\n",
    "        atm_oldclirad = (ds_oldclirad.isel(pressure=0)\n",
    "                         - ds_oldclirad.isel(pressure=-1))['fnetg']\n",
    "        \n",
    "    \n",
    "    \n",
    "    df = pd.DataFrame()\n",
    "    df.index.name = 'Sum over bands'\n",
    "    \n",
    "    if atmpro == 'mls':\n",
    "        df.loc['old CLIRAD - CRD', 'OLR flux'] = (olr_oldclirad.sum('band') - olr_crd.sum('band')).values\n",
    "        df.loc['old CLIRAD - CRD', 'SFC flux'] = (sfc_oldclirad.sum('band') - sfc_crd.sum('band')).values\n",
    "        df.loc['old CLIRAD - CRD', 'ATM heating'] = (atm_oldclirad.sum('band') - atm_crd.sum('band')).values\n",
    "    \n",
    "    df.loc['CLIRAD (single-run) - CRD', 'OLR flux'] = (olr_clirad_singlerun - olr_crd).sum('band').values\n",
    "    df.loc['CLIRAD (single-run) - CRD', 'SFC flux'] = (sfc_clirad_singlerun - sfc_crd).sum('band').values\n",
    "    df.loc['CLIRAD (single-run) - CRD', 'ATM heating'] = (atm_clirad_singlerun - atm_crd).sum('band').values\n",
    "\n",
    "    df.loc['CRD', 'OLR flux'] = olr_crd.sum('band').values\n",
    "    df.loc['CRD', 'SFC flux'] = sfc_crd.sum('band').values\n",
    "    df.loc['CRD', 'ATM heating'] = atm_crd.sum('band').values\n",
    "        \n",
    "    df = df.astype('float').round(2)\n",
    "    \n",
    "    display.display(df)\n",
    "    display.display(\n",
    "        display.Markdown('*TABLE.* Difference between CLIRAD and CRD'\n",
    "          ' in TOA, SFC and net atmosphere flux,'\n",
    "          ' over all spectral bands. CRD\\'s'\n",
    "          ' TOA, SFC and net atmosphere flux,'\n",
    "          ' over all spectral bands.'))\n"
   ]
  },
  {
   "cell_type": "code",
   "execution_count": 467,
   "metadata": {
    "scrolled": false
   },
   "outputs": [
    {
     "data": {
      "text/markdown": [
       "## Results over entire range of molecules and spectral bands"
      ],
      "text/plain": [
       "<IPython.core.display.Markdown object>"
      ]
     },
     "metadata": {},
     "output_type": "display_data"
    },
    {
     "data": {
      "text/markdown": [
       "### Table of Contents"
      ],
      "text/plain": [
       "<IPython.core.display.Markdown object>"
      ]
     },
     "metadata": {},
     "output_type": "display_data"
    },
    {
     "data": {
      "text/html": [
       "<a href=\"#Makeup_of_atmosphere.\">Makeup of atmosphere.</a>"
      ],
      "text/plain": [
       "<IPython.core.display.HTML object>"
      ]
     },
     "metadata": {},
     "output_type": "display_data"
    },
    {
     "data": {
      "text/markdown": [
       "**mid-latitude summer**"
      ],
      "text/plain": [
       "<IPython.core.display.Markdown object>"
      ]
     },
     "metadata": {},
     "output_type": "display_data"
    },
    {
     "data": {
      "text/html": [
       "<a href=\"#Cooling_rates._mls.\">Cooling rates. mls.</a>"
      ],
      "text/plain": [
       "<IPython.core.display.HTML object>"
      ]
     },
     "metadata": {},
     "output_type": "display_data"
    },
    {
     "data": {
      "text/html": [
       "<a href=\"#Fluxes._mls.\">Fluxes. mls.</a>"
      ],
      "text/plain": [
       "<IPython.core.display.HTML object>"
      ]
     },
     "metadata": {},
     "output_type": "display_data"
    },
    {
     "data": {
      "text/markdown": [
       "**sub-arctic winter**"
      ],
      "text/plain": [
       "<IPython.core.display.Markdown object>"
      ]
     },
     "metadata": {},
     "output_type": "display_data"
    },
    {
     "data": {
      "text/html": [
       "<a href=\"#Cooling_rates._saw.\">Cooling rates. saw.</a>"
      ],
      "text/plain": [
       "<IPython.core.display.HTML object>"
      ]
     },
     "metadata": {},
     "output_type": "display_data"
    },
    {
     "data": {
      "text/html": [
       "<a href=\"#Fluxes._saw.\">Fluxes. saw.</a>"
      ],
      "text/plain": [
       "<IPython.core.display.HTML object>"
      ]
     },
     "metadata": {},
     "output_type": "display_data"
    },
    {
     "data": {
      "text/markdown": [
       "**tropical**"
      ],
      "text/plain": [
       "<IPython.core.display.Markdown object>"
      ]
     },
     "metadata": {},
     "output_type": "display_data"
    },
    {
     "data": {
      "text/html": [
       "<a href=\"#Cooling_rates._trp.\">Cooling rates. trp.</a>"
      ],
      "text/plain": [
       "<IPython.core.display.HTML object>"
      ]
     },
     "metadata": {},
     "output_type": "display_data"
    },
    {
     "data": {
      "text/html": [
       "<a href=\"#Fluxes._trp.\">Fluxes. trp.</a>"
      ],
      "text/plain": [
       "<IPython.core.display.HTML object>"
      ]
     },
     "metadata": {},
     "output_type": "display_data"
    },
    {
     "data": {
      "text/html": [
       "<a id=\"Makeup_of_atmosphere.\"></a>"
      ],
      "text/plain": [
       "<IPython.core.display.HTML object>"
      ]
     },
     "metadata": {},
     "output_type": "display_data"
    },
    {
     "data": {
      "text/markdown": [
       "# Makeup of atmosphere."
      ],
      "text/plain": [
       "<IPython.core.display.Markdown object>"
      ]
     },
     "metadata": {},
     "output_type": "display_data"
    },
    {
     "data": {
      "text/html": [
       "<div>\n",
       "<style scoped>\n",
       "    .dataframe tbody tr th:only-of-type {\n",
       "        vertical-align: middle;\n",
       "    }\n",
       "\n",
       "    .dataframe tbody tr th {\n",
       "        vertical-align: top;\n",
       "    }\n",
       "\n",
       "    .dataframe thead th {\n",
       "        text-align: right;\n",
       "    }\n",
       "</style>\n",
       "<table border=\"1\" class=\"dataframe\">\n",
       "  <thead>\n",
       "    <tr style=\"text-align: right;\">\n",
       "      <th>clirad band</th>\n",
       "      <th>1</th>\n",
       "      <th>2</th>\n",
       "      <th>3</th>\n",
       "      <th>4</th>\n",
       "      <th>5</th>\n",
       "      <th>6</th>\n",
       "      <th>7</th>\n",
       "      <th>8</th>\n",
       "      <th>9</th>\n",
       "      <th>10</th>\n",
       "      <th>11</th>\n",
       "    </tr>\n",
       "    <tr>\n",
       "      <th>molecule</th>\n",
       "      <th></th>\n",
       "      <th></th>\n",
       "      <th></th>\n",
       "      <th></th>\n",
       "      <th></th>\n",
       "      <th></th>\n",
       "      <th></th>\n",
       "      <th></th>\n",
       "      <th></th>\n",
       "      <th></th>\n",
       "      <th></th>\n",
       "    </tr>\n",
       "  </thead>\n",
       "  <tbody>\n",
       "    <tr>\n",
       "      <th>h2o</th>\n",
       "      <td>atmpro</td>\n",
       "      <td>atmpro</td>\n",
       "      <td>atmpro</td>\n",
       "      <td>atmpro</td>\n",
       "      <td>atmpro</td>\n",
       "      <td>atmpro</td>\n",
       "      <td>atmpro</td>\n",
       "      <td>atmpro</td>\n",
       "      <td>atmpro</td>\n",
       "      <td>atmpro</td>\n",
       "      <td>atmpro</td>\n",
       "    </tr>\n",
       "    <tr>\n",
       "      <th>co2</th>\n",
       "      <td>0</td>\n",
       "      <td>0</td>\n",
       "      <td>0.0004</td>\n",
       "      <td>0.0004</td>\n",
       "      <td>0.0004</td>\n",
       "      <td>0.0004</td>\n",
       "      <td>0.0004</td>\n",
       "      <td>0</td>\n",
       "      <td>0</td>\n",
       "      <td>0</td>\n",
       "      <td>0.0004</td>\n",
       "    </tr>\n",
       "    <tr>\n",
       "      <th>n2o</th>\n",
       "      <td>0</td>\n",
       "      <td>0</td>\n",
       "      <td>3.2e-07</td>\n",
       "      <td>0</td>\n",
       "      <td>0</td>\n",
       "      <td>0</td>\n",
       "      <td>0</td>\n",
       "      <td>0</td>\n",
       "      <td>3.2e-07</td>\n",
       "      <td>0</td>\n",
       "      <td>0</td>\n",
       "    </tr>\n",
       "    <tr>\n",
       "      <th>o3</th>\n",
       "      <td>0</td>\n",
       "      <td>0</td>\n",
       "      <td>0</td>\n",
       "      <td>0</td>\n",
       "      <td>0</td>\n",
       "      <td>0</td>\n",
       "      <td>atmpro</td>\n",
       "      <td>0</td>\n",
       "      <td>0</td>\n",
       "      <td>0</td>\n",
       "      <td>0</td>\n",
       "    </tr>\n",
       "    <tr>\n",
       "      <th>ch4</th>\n",
       "      <td>0</td>\n",
       "      <td>0</td>\n",
       "      <td>0</td>\n",
       "      <td>0</td>\n",
       "      <td>0</td>\n",
       "      <td>0</td>\n",
       "      <td>0</td>\n",
       "      <td>0</td>\n",
       "      <td>1.8e-06</td>\n",
       "      <td>0</td>\n",
       "      <td>0</td>\n",
       "    </tr>\n",
       "  </tbody>\n",
       "</table>\n",
       "</div>"
      ],
      "text/plain": [
       "clirad band      1       2        3       4       5       6       7       8   \\\n",
       "molecule                                                                       \n",
       "h2o          atmpro  atmpro   atmpro  atmpro  atmpro  atmpro  atmpro  atmpro   \n",
       "co2               0       0   0.0004  0.0004  0.0004  0.0004  0.0004       0   \n",
       "n2o               0       0  3.2e-07       0       0       0       0       0   \n",
       "o3                0       0        0       0       0       0  atmpro       0   \n",
       "ch4               0       0        0       0       0       0       0       0   \n",
       "\n",
       "clirad band       9       10      11  \n",
       "molecule                              \n",
       "h2o           atmpro  atmpro  atmpro  \n",
       "co2                0       0  0.0004  \n",
       "n2o          3.2e-07       0       0  \n",
       "o3                 0       0       0  \n",
       "ch4          1.8e-06       0       0  "
      ]
     },
     "metadata": {},
     "output_type": "display_data"
    },
    {
     "data": {
      "text/markdown": [
       "*TABLE.* Non-grey absorbers in the atmosphere."
      ],
      "text/plain": [
       "<IPython.core.display.Markdown object>"
      ]
     },
     "metadata": {},
     "output_type": "display_data"
    },
    {
     "data": {
      "text/html": [
       "<div>\n",
       "<style scoped>\n",
       "    .dataframe tbody tr th:only-of-type {\n",
       "        vertical-align: middle;\n",
       "    }\n",
       "\n",
       "    .dataframe tbody tr th {\n",
       "        vertical-align: top;\n",
       "    }\n",
       "\n",
       "    .dataframe thead th {\n",
       "        text-align: right;\n",
       "    }\n",
       "</style>\n",
       "<table border=\"1\" class=\"dataframe\">\n",
       "  <thead>\n",
       "    <tr style=\"text-align: right;\">\n",
       "      <th>clirad band</th>\n",
       "      <th>8</th>\n",
       "    </tr>\n",
       "    <tr>\n",
       "      <th>absorber</th>\n",
       "      <th></th>\n",
       "    </tr>\n",
       "  </thead>\n",
       "  <tbody>\n",
       "    <tr>\n",
       "      <th>n2o</th>\n",
       "      <td>3.2e-07</td>\n",
       "    </tr>\n",
       "  </tbody>\n",
       "</table>\n",
       "</div>"
      ],
      "text/plain": [
       "clirad band        8\n",
       "absorber            \n",
       "n2o          3.2e-07"
      ]
     },
     "metadata": {},
     "output_type": "display_data"
    },
    {
     "data": {
      "text/markdown": [
       "*TABLE.* Grey absorbers in the atmosphere."
      ],
      "text/plain": [
       "<IPython.core.display.Markdown object>"
      ]
     },
     "metadata": {},
     "output_type": "display_data"
    },
    {
     "data": {
      "text/html": [
       "<a id=\"Cooling_rates._mls.\"></a>"
      ],
      "text/plain": [
       "<IPython.core.display.HTML object>"
      ]
     },
     "metadata": {},
     "output_type": "display_data"
    },
    {
     "data": {
      "text/markdown": [
       "# Cooling rates. mls."
      ],
      "text/plain": [
       "<IPython.core.display.Markdown object>"
      ]
     },
     "metadata": {},
     "output_type": "display_data"
    },
    {
     "data": {
      "text/html": [
       "\n",
       "<div class=\"bk-root\">\n",
       "    <div class=\"bk-plotdiv\" id=\"1ce7af2e-09ed-4c8f-8afc-a82a23258ff8\"></div>\n",
       "</div>"
      ]
     },
     "metadata": {},
     "output_type": "display_data"
    },
    {
     "data": {
      "application/javascript": [
       "(function(root) {\n",
       "  function embed_document(root) {\n",
       "    \n",
       "  var docs_json = {\"d1b6aa2a-9723-420e-b7bb-d27b358245ca\":{\"roots\":{\"references\":[{\"attributes\":{},\"id\":\"bd1119ed-5be2-4617-8740-721c0e596876\",\"type\":\"UnionRenderers\"},{\"attributes\":{},\"id\":\"9e9a58c2-e583-40b2-96ff-d6fb846bb5fb\",\"type\":\"UnionRenderers\"},{\"attributes\":{\"active_drag\":\"auto\",\"active_inspect\":\"auto\",\"active_scroll\":\"auto\",\"active_tap\":\"auto\",\"tools\":[{\"id\":\"c39a2de9-3801-4750-93ee-2397f6fc49a0\",\"type\":\"PanTool\"},{\"id\":\"0ac67f49-7edb-490f-bece-f6d47944f02c\",\"type\":\"WheelZoomTool\"},{\"id\":\"7874d515-f13b-48a6-a036-7e3ed76a2001\",\"type\":\"BoxZoomTool\"},{\"id\":\"c2857296-d281-4bcf-9566-86a4879518bb\",\"type\":\"SaveTool\"},{\"id\":\"e2b6a424-10cb-4f98-85fc-d2bf6a35f7f8\",\"type\":\"ResetTool\"},{\"id\":\"eb367f2a-87f1-4754-9aa7-24837a9cccb8\",\"type\":\"HelpTool\"}]},\"id\":\"56a7046f-c470-445f-bfe9-e42efb3b4dc7\",\"type\":\"Toolbar\"},{\"attributes\":{},\"id\":\"01174c2d-0ece-45cb-90ad-04b0236dbf29\",\"type\":\"Selection\"},{\"attributes\":{},\"id\":\"e4188455-8907-4de3-8011-ba9dbcacd9c1\",\"type\":\"UnionRenderers\"},{\"attributes\":{},\"id\":\"2eb1a384-ea5d-4e67-8d73-666a43c4be5b\",\"type\":\"Selection\"},{\"attributes\":{},\"id\":\"a2cfa8e5-f687-4afa-a548-d49ca0b48e1c\",\"type\":\"Selection\"},{\"attributes\":{},\"id\":\"12b85303-8bdc-4f25-af24-eb5394647d98\",\"type\":\"Selection\"},{\"attributes\":{\"children\":[{\"id\":\"61cb8c54-63ca-40c8-8781-b567c26ac787\",\"subtype\":\"Figure\",\"type\":\"Plot\"},{\"id\":\"704dd2c6-1006-4053-a09d-a65990f11082\",\"subtype\":\"Figure\",\"type\":\"Plot\"},{\"id\":\"b467c49a-a41b-41e3-a020-302c240953fa\",\"subtype\":\"Figure\",\"type\":\"Plot\"}]},\"id\":\"7ffa505b-04d6-4292-bd9e-91de764ad5ca\",\"type\":\"Row\"},{\"attributes\":{\"fill_alpha\":{\"value\":0.1},\"fill_color\":{\"value\":\"#1f77b4\"},\"line_alpha\":{\"value\":0.1},\"line_color\":{\"value\":\"#1f77b4\"},\"x\":{\"field\":\"x\"},\"y\":{\"field\":\"y\"}},\"id\":\"6f78c6e1-e868-470f-85e0-52449efa0e5e\",\"type\":\"Circle\"},{\"attributes\":{},\"id\":\"fef9920f-8108-4db7-911a-370dbc77523a\",\"type\":\"UnionRenderers\"},{\"attributes\":{\"ticker\":null},\"id\":\"9f60d7c3-3736-458b-ad6b-57dcd3572d99\",\"type\":\"LogTickFormatter\"},{\"attributes\":{},\"id\":\"c6685831-a88e-4692-a333-249336416cf2\",\"type\":\"UnionRenderers\"},{\"attributes\":{},\"id\":\"5e1f1aa1-b29b-4198-b46b-065c1ca3f627\",\"type\":\"SaveTool\"},{\"attributes\":{},\"id\":\"f6f57112-47ce-44e7-80ed-12a0d92c4486\",\"type\":\"LinearScale\"},{\"attributes\":{\"overlay\":{\"id\":\"e6249977-9d2b-4d7e-a4cb-8cc71bf51403\",\"type\":\"BoxAnnotation\"}},\"id\":\"8c614d54-e704-4462-9813-c4adead6b209\",\"type\":\"BoxZoomTool\"},{\"attributes\":{},\"id\":\"8646d82c-11e9-497a-82d6-329573dd9ed8\",\"type\":\"PanTool\"},{\"attributes\":{\"callback\":null,\"data\":{\"x\":{\"__ndarray__\":\"+pVe27XYRUDaBJtK0hdDQIvpp3iY40FAgiqiShE/QEAYMVH9X0A8QBKHQ9RdPTdAECai+rrpMUAmS6r95eUpQMBDHf/+GiJAmRb7spM0GkCH+6OWEt4UQChCr9LhthFApDIbxYhNDUA6szmDY5YDQE59UcGV9vU/Amtosy6P+j9KtiDBAzMFQAa3dI46DwtAoUPm5NfgEEA5rRX0yxcWQBKgnDpH/h1AliwFmoDVJEChBCPf/8wqQAjyM3+a/ClAqyRcxllPJECMYqN3JEggQInZ8wnoZBtAQb4QgWgGFkAN0tSXOCkRQHtc8mjt4QtA6TD6XrQJCEDpx4qnnswCQBB8qwDyBvo/1c1O5+FG8T/PQZDMkHznP34Ry11469s/87yOLeMPzT9dAL8axEXAP7LKaxcPA6O/hFG6H9Zlyb+6AOORtvyDv37exV9Mwuc/26S/zJ5+9z9h7Kbn8xYAQM9hJl7OlwFAcsXX1cgGAECk2ZYegkP+Px7HdxkPIv0/dVbdnblq/D/bpvVI1Tv8P7RNA5xkV/w/Ypo1pE3u+z+Pz4PPH3P7P0uRTjbEB/s/81cUoj+9+j9dB+9wWYf6P30+MUdbhfo/4mO/xGKb+z8iJ419O3z8P8WWKL9o/vw/1tivCVr9/D9fPQhnkl38Px2VeFByRvs/2wUs/fAV+j+/Tj+nZv/4P7gK57QVbfg/bNf7wmg8+D8CYaKfezf4P6mwO6XPs/c/ZiVb1YGk9j/P4lC1mXP1P5zsPn5xiPQ/6KdvStYQ9D+CGX1UHUT0P5g7OHoq7/o/\",\"dtype\":\"float64\",\"shape\":[75]},\"y\":{\"__ndarray__\":\"GhExyth1ND/Sv8nbtpRIP2vylNV0PVE/aTum7souWD/At0SJ8fVgPw3Iuahxymc/MSNhhJWvcD/bTfBN02d3P2zb5nxnaoA/CD5h5MAGhz8NmeH1TyaQP+zrCsc9p5Y/LbKd76fGnz/bLW5ISEmmPww9YvTcQq8/JV2OstnstT8Er5Y7M8G+P0c+r3jqkcU/5h99k6ZBzj88bCIzFzjVP4enV8oyxN0//yH99nXg5D8qOpLLf0jtP5kqGJXUifQ/c9cS8kHP/D+/DpwzojQEQIEmwoanVwxA4lgXt9HgE0BSSZ2AJuIbQAMJih9jjiNA5q4l5INuK0AwTKYKRj0zQNv5fmq8/DpAaCJseHrtQkB/+zpwzoxKQM3MzMzMeFJAZmZmZmZqWEAAAAAAAFxeQM3MzMzMJmJAmpmZmZkfZUBmZmZmZhhoQDMzMzMzEWtAAAAAAAAKbkBmZmZmZoFwQM3MzMzM/XFAMzMzMzN6c0CamZmZmfZ0QAAAAAAAc3ZAZmZmZmbvd0DNzMzMzGt5QDMzMzMz6HpAmpmZmZlkfEAAAAAAAOF9QGZmZmZmXX9AZmZmZuZsgECamZmZGSuBQM3MzMxM6YFAAAAAAICngkAzMzMzs2WDQGZmZmbmI4RAmpmZmRnihEDNzMzMTKCFQAAAAACAXoZAMzMzM7Mch0BmZmZm5tqHQJqZmZkZmYhAzczMzExXiUAAAAAAgBWKQDMzMzOz04pAZmZmZuaRi0CamZmZGVCMQM3MzMxMDo1AAAAAAIDMjUAzMzMzs4qOQGZmZmbmSI9A\",\"dtype\":\"float64\",\"shape\":[75]}},\"selected\":{\"id\":\"12b85303-8bdc-4f25-af24-eb5394647d98\",\"type\":\"Selection\"},\"selection_policy\":{\"id\":\"fef9920f-8108-4db7-911a-370dbc77523a\",\"type\":\"UnionRenderers\"}},\"id\":\"96447b2a-d01e-46b4-8f16-1cebf231a6e6\",\"type\":\"ColumnDataSource\"},{\"attributes\":{},\"id\":\"2f4be876-1732-4b99-a2d0-d87c196da90f\",\"type\":\"LogScale\"},{\"attributes\":{\"fill_alpha\":{\"value\":0.1},\"fill_color\":{\"value\":\"#1f77b4\"},\"line_alpha\":{\"value\":0.1},\"line_color\":{\"value\":\"#1f77b4\"},\"x\":{\"field\":\"x\"},\"y\":{\"field\":\"y\"}},\"id\":\"cefd77b8-403d-4e1e-9235-8ded8d81a064\",\"type\":\"Square\"},{\"attributes\":{},\"id\":\"e2b6a424-10cb-4f98-85fc-d2bf6a35f7f8\",\"type\":\"ResetTool\"},{\"attributes\":{},\"id\":\"4e41a8c0-fcbb-4a8d-9d9b-c460c352dc45\",\"type\":\"ResetTool\"},{\"attributes\":{\"callback\":null,\"end\":2.3135579056828304,\"start\":-0.22329137230583002},\"id\":\"6bcc2496-6198-46dc-b134-18c5fc043ee0\",\"type\":\"Range1d\"},{\"attributes\":{\"axis_label\":\"pressure [mb]\",\"formatter\":{\"id\":\"9f60d7c3-3736-458b-ad6b-57dcd3572d99\",\"type\":\"LogTickFormatter\"},\"plot\":{\"id\":\"704dd2c6-1006-4053-a09d-a65990f11082\",\"subtype\":\"Figure\",\"type\":\"Plot\"},\"ticker\":{\"id\":\"4e071192-8eba-4042-9bed-63bdd395c86e\",\"type\":\"LogTicker\"}},\"id\":\"68c2710e-fafa-47c8-8e49-62532cde9399\",\"type\":\"LogAxis\"},{\"attributes\":{\"fill_alpha\":{\"value\":0.7},\"fill_color\":{\"value\":\"#984ea3\"},\"line_alpha\":{\"value\":0.7},\"line_color\":{\"value\":\"#984ea3\"},\"x\":{\"field\":\"x\"},\"y\":{\"field\":\"y\"}},\"id\":\"d2b80324-fdfe-44d3-a779-e3ed58d8dd44\",\"type\":\"Circle\"},{\"attributes\":{\"fill_alpha\":{\"value\":0.7},\"fill_color\":{\"value\":\"#984ea3\"},\"line_alpha\":{\"value\":0.7},\"line_color\":{\"value\":\"#984ea3\"},\"x\":{\"field\":\"x\"},\"y\":{\"field\":\"y\"}},\"id\":\"d3c67e59-4416-4846-8cec-28d64ce5fda1\",\"type\":\"Square\"},{\"attributes\":{\"plot\":{\"id\":\"61cb8c54-63ca-40c8-8781-b567c26ac787\",\"subtype\":\"Figure\",\"type\":\"Plot\"},\"ticker\":{\"id\":\"819dca3e-be47-47c6-8c58-087673170d40\",\"type\":\"BasicTicker\"}},\"id\":\"ee048d99-ae17-4c19-a675-343e9d1a0626\",\"type\":\"Grid\"},{\"attributes\":{\"source\":{\"id\":\"b309e7e6-b60b-44a2-b6f4-d9255504f743\",\"type\":\"ColumnDataSource\"}},\"id\":\"a83c5452-6a78-4f08-ac09-ea48e7732bb3\",\"type\":\"CDSView\"},{\"attributes\":{\"line_alpha\":0.5,\"line_color\":\"#984ea3\",\"line_width\":1.5,\"x\":{\"field\":\"x\"},\"y\":{\"field\":\"y\"}},\"id\":\"eebd1597-d761-4148-90f7-27c71a44dfed\",\"type\":\"Line\"},{\"attributes\":{\"num_minor_ticks\":10},\"id\":\"4e071192-8eba-4042-9bed-63bdd395c86e\",\"type\":\"LogTicker\"},{\"attributes\":{\"callback\":null,\"data\":{\"x\":{\"__ndarray__\":\"cm1sTMT3VEDEyvjosEJHQOKI6DjzCUNArgQWV9awPkB9Lm8XG3M4QEz+Qv6iYzNA7eV8HaPLLkCX1QHyTpMoQFBmYSYetiNAUB04GtGpH0AmFyVE5j8ZQJca9QPGqBNALJP+OOHHDEBNxaf7QF8AQKtislomWuw/cW2dcO6A9T/uJJvfPu0EQIaQLTI/JQ1AxGiII+PmEkCJvfVeuCsYQD6ZBhGbHB9AXQw69DTYJEAsubcwKucqQNuT9D5OmipAJyi3szEJJUBlNebh5WkgQDDcPHBr2xlArtlANXuQFEBdJadFHckQQI2Avh0ZsQtAjYiwt1rsBUCL0SDoVBgAQK6C0nEEjvc/CggLSme58T9sXU2orFPnP0v0JYz9Gdg/vT38vxYczD9nBQTe6kHHP1IhkEXJwKo/8OZnhCVAub+xtVgCpmqzP6DUpY6g0+k/PKK3T1h4+D8RTDjQc1EAQG/dAQs7TwJAQt2eHpPLAEBWEh074x//PyCap9ZSGf4/rEzaTySm/T+7aXhHRmr9P688KeqeNP0/ruZ4EemD/D8olrZcn9T7P0+vNc9hW/s/i9VVL+4P+z+0NzC24uz6P8731Kza8vo/xFf4SHzq+z+gYyHpvHb8P68ROkiFevw/BAjYdCga/D8AUp8VbW77P3JrF/nKmvo/qCQeGfq++T/dplwHJfn4P2G4p+Uva/g/OzZ0RqMZ+D8dmn/iar73P/OuA7Ka8PY/gaaeQHGn9T9hkyjAH1L0P3aZGhdAU/M/n8VP/g7P8j+90HxHNvfyPwhNBtgrqvk/\",\"dtype\":\"float64\",\"shape\":[75]},\"y\":{\"__ndarray__\":\"GhExyth1ND/Sv8nbtpRIP2vylNV0PVE/aTum7souWD/At0SJ8fVgPw3Iuahxymc/MSNhhJWvcD/bTfBN02d3P2zb5nxnaoA/CD5h5MAGhz8NmeH1TyaQP+zrCsc9p5Y/LbKd76fGnz/bLW5ISEmmPww9YvTcQq8/JV2OstnstT8Er5Y7M8G+P0c+r3jqkcU/5h99k6ZBzj88bCIzFzjVP4enV8oyxN0//yH99nXg5D8qOpLLf0jtP5kqGJXUifQ/c9cS8kHP/D+/DpwzojQEQIEmwoanVwxA4lgXt9HgE0BSSZ2AJuIbQAMJih9jjiNA5q4l5INuK0AwTKYKRj0zQNv5fmq8/DpAaCJseHrtQkB/+zpwzoxKQM3MzMzMeFJAZmZmZmZqWEAAAAAAAFxeQM3MzMzMJmJAmpmZmZkfZUBmZmZmZhhoQDMzMzMzEWtAAAAAAAAKbkBmZmZmZoFwQM3MzMzM/XFAMzMzMzN6c0CamZmZmfZ0QAAAAAAAc3ZAZmZmZmbvd0DNzMzMzGt5QDMzMzMz6HpAmpmZmZlkfEAAAAAAAOF9QGZmZmZmXX9AZmZmZuZsgECamZmZGSuBQM3MzMxM6YFAAAAAAICngkAzMzMzs2WDQGZmZmbmI4RAmpmZmRnihEDNzMzMTKCFQAAAAACAXoZAMzMzM7Mch0BmZmZm5tqHQJqZmZkZmYhAzczMzExXiUAAAAAAgBWKQDMzMzOz04pAZmZmZuaRi0CamZmZGVCMQM3MzMxMDo1AAAAAAIDMjUAzMzMzs4qOQGZmZmbmSI9A\",\"dtype\":\"float64\",\"shape\":[75]}},\"selected\":{\"id\":\"6b0df9fe-218e-4f94-8031-6123f9897b4e\",\"type\":\"Selection\"},\"selection_policy\":{\"id\":\"015a3b8f-8f66-4fce-9b29-8490d2139bb9\",\"type\":\"UnionRenderers\"}},\"id\":\"319d5e52-b0f0-4cef-9aa7-693239715146\",\"type\":\"ColumnDataSource\"},{\"attributes\":{\"line_alpha\":0.1,\"line_color\":\"#1f77b4\",\"line_dash\":[6],\"line_width\":5,\"x\":{\"field\":\"x\"},\"y\":{\"field\":\"y\"}},\"id\":\"fdb29dce-5cac-4158-a80a-622e3bbf4af6\",\"type\":\"Line\"},{\"attributes\":{\"active_drag\":\"auto\",\"active_inspect\":\"auto\",\"active_scroll\":\"auto\",\"active_tap\":\"auto\",\"tools\":[{\"id\":\"8646d82c-11e9-497a-82d6-329573dd9ed8\",\"type\":\"PanTool\"},{\"id\":\"b2e692b1-1149-4fa5-bc18-8de826acef43\",\"type\":\"WheelZoomTool\"},{\"id\":\"8c614d54-e704-4462-9813-c4adead6b209\",\"type\":\"BoxZoomTool\"},{\"id\":\"5e1f1aa1-b29b-4198-b46b-065c1ca3f627\",\"type\":\"SaveTool\"},{\"id\":\"4e41a8c0-fcbb-4a8d-9d9b-c460c352dc45\",\"type\":\"ResetTool\"},{\"id\":\"1b8952d3-07a3-44d5-b65c-8691dc6d7a7e\",\"type\":\"HelpTool\"}]},\"id\":\"43f48dac-40b5-4da0-910b-bb9ae1e43bcf\",\"type\":\"Toolbar\"},{\"attributes\":{},\"id\":\"11fcdcfb-91b0-4571-9aaf-521ec6fc5787\",\"type\":\"LinearScale\"},{\"attributes\":{\"callback\":null,\"data\":{\"x\":{\"__ndarray__\":\"cm1sTMT3VEDEyvjosEJHQOKI6DjzCUNArgQWV9awPkB9Lm8XG3M4QEz+Qv6iYzNA7eV8HaPLLkCX1QHyTpMoQFBmYSYetiNAUB04GtGpH0AmFyVE5j8ZQJca9QPGqBNALJP+OOHHDEBNxaf7QF8AQKtislomWuw/cW2dcO6A9T/uJJvfPu0EQIaQLTI/JQ1AxGiII+PmEkCJvfVeuCsYQD6ZBhGbHB9AXQw69DTYJEAsubcwKucqQNuT9D5OmipAJyi3szEJJUBlNebh5WkgQDDcPHBr2xlArtlANXuQFEBdJadFHckQQI2Avh0ZsQtAjYiwt1rsBUCL0SDoVBgAQK6C0nEEjvc/CggLSme58T9sXU2orFPnP0v0JYz9Gdg/vT38vxYczD9nBQTe6kHHP1IhkEXJwKo/8OZnhCVAub+xtVgCpmqzP6DUpY6g0+k/PKK3T1h4+D8RTDjQc1EAQG/dAQs7TwJAQt2eHpPLAEBWEh074x//PyCap9ZSGf4/rEzaTySm/T+7aXhHRmr9P688KeqeNP0/ruZ4EemD/D8olrZcn9T7P0+vNc9hW/s/i9VVL+4P+z+0NzC24uz6P8731Kza8vo/xFf4SHzq+z+gYyHpvHb8P68ROkiFevw/BAjYdCga/D8AUp8VbW77P3JrF/nKmvo/qCQeGfq++T/dplwHJfn4P2G4p+Uva/g/OzZ0RqMZ+D8dmn/iar73P/OuA7Ka8PY/gaaeQHGn9T9hkyjAH1L0P3aZGhdAU/M/n8VP/g7P8j+90HxHNvfyPwhNBtgrqvk/\",\"dtype\":\"float64\",\"shape\":[75]},\"y\":{\"__ndarray__\":\"GhExyth1ND/Sv8nbtpRIP2vylNV0PVE/aTum7souWD/At0SJ8fVgPw3Iuahxymc/MSNhhJWvcD/bTfBN02d3P2zb5nxnaoA/CD5h5MAGhz8NmeH1TyaQP+zrCsc9p5Y/LbKd76fGnz/bLW5ISEmmPww9YvTcQq8/JV2OstnstT8Er5Y7M8G+P0c+r3jqkcU/5h99k6ZBzj88bCIzFzjVP4enV8oyxN0//yH99nXg5D8qOpLLf0jtP5kqGJXUifQ/c9cS8kHP/D+/DpwzojQEQIEmwoanVwxA4lgXt9HgE0BSSZ2AJuIbQAMJih9jjiNA5q4l5INuK0AwTKYKRj0zQNv5fmq8/DpAaCJseHrtQkB/+zpwzoxKQM3MzMzMeFJAZmZmZmZqWEAAAAAAAFxeQM3MzMzMJmJAmpmZmZkfZUBmZmZmZhhoQDMzMzMzEWtAAAAAAAAKbkBmZmZmZoFwQM3MzMzM/XFAMzMzMzN6c0CamZmZmfZ0QAAAAAAAc3ZAZmZmZmbvd0DNzMzMzGt5QDMzMzMz6HpAmpmZmZlkfEAAAAAAAOF9QGZmZmZmXX9AZmZmZuZsgECamZmZGSuBQM3MzMxM6YFAAAAAAICngkAzMzMzs2WDQGZmZmbmI4RAmpmZmRnihEDNzMzMTKCFQAAAAACAXoZAMzMzM7Mch0BmZmZm5tqHQJqZmZkZmYhAzczMzExXiUAAAAAAgBWKQDMzMzOz04pAZmZmZuaRi0CamZmZGVCMQM3MzMxMDo1AAAAAAIDMjUAzMzMzs4qOQGZmZmbmSI9A\",\"dtype\":\"float64\",\"shape\":[75]}},\"selected\":{\"id\":\"471d470d-e7de-4081-9d34-bf29aef2b40e\",\"type\":\"Selection\"},\"selection_policy\":{\"id\":\"bd1119ed-5be2-4617-8740-721c0e596876\",\"type\":\"UnionRenderers\"}},\"id\":\"60d308ea-43c4-4de6-b0c4-61fcdb5e39d3\",\"type\":\"ColumnDataSource\"},{\"attributes\":{\"label\":{\"value\":\"old CLIRAD (H2012)\"},\"renderers\":[{\"id\":\"8367cafe-032e-4467-8809-baaac571155c\",\"type\":\"GlyphRenderer\"},{\"id\":\"c4edb6dc-e554-4685-8fe0-05b90a9c7876\",\"type\":\"GlyphRenderer\"}]},\"id\":\"e5cbfbc5-84a0-4ce4-8be4-e70b4b8efea3\",\"type\":\"LegendItem\"},{\"attributes\":{\"source\":{\"id\":\"319d5e52-b0f0-4cef-9aa7-693239715146\",\"type\":\"ColumnDataSource\"}},\"id\":\"28b0d03a-0991-40e3-89bd-9b1191220787\",\"type\":\"CDSView\"},{\"attributes\":{\"data_source\":{\"id\":\"60d308ea-43c4-4de6-b0c4-61fcdb5e39d3\",\"type\":\"ColumnDataSource\"},\"glyph\":{\"id\":\"d7af1af9-a421-4fac-9b1c-45a7968320a1\",\"type\":\"Line\"},\"hover_glyph\":null,\"muted_glyph\":null,\"nonselection_glyph\":{\"id\":\"0fccf3f9-03c2-4c9e-8c87-7e6a9bb0e269\",\"type\":\"Line\"},\"selection_glyph\":null,\"view\":{\"id\":\"dad80399-bba8-4057-9af3-bbee678ac87c\",\"type\":\"CDSView\"}},\"id\":\"7ac0a4b0-b156-47d0-88e4-77db14d5a2e9\",\"type\":\"GlyphRenderer\"},{\"attributes\":{\"bottom_units\":\"screen\",\"fill_alpha\":{\"value\":0.5},\"fill_color\":{\"value\":\"lightgrey\"},\"left_units\":\"screen\",\"level\":\"overlay\",\"line_alpha\":{\"value\":1.0},\"line_color\":{\"value\":\"black\"},\"line_dash\":[4,4],\"line_width\":{\"value\":2},\"plot\":null,\"render_mode\":\"css\",\"right_units\":\"screen\",\"top_units\":\"screen\"},\"id\":\"0491fda2-5e15-4e66-8586-f8d76eccecd6\",\"type\":\"BoxAnnotation\"},{\"attributes\":{\"callback\":null,\"end\":13.587992902094227,\"start\":-0.33491944157722997},\"id\":\"05478de2-0200-4956-b2d4-4177acaac663\",\"type\":\"Range1d\"},{\"attributes\":{\"data_source\":{\"id\":\"319d5e52-b0f0-4cef-9aa7-693239715146\",\"type\":\"ColumnDataSource\"},\"glyph\":{\"id\":\"c011e01b-120b-414f-9e30-8dcebfc4b66a\",\"type\":\"Circle\"},\"hover_glyph\":null,\"muted_glyph\":null,\"nonselection_glyph\":{\"id\":\"2424b55f-bc48-4ae8-933f-f5bd4f79a529\",\"type\":\"Circle\"},\"selection_glyph\":null,\"view\":{\"id\":\"28b0d03a-0991-40e3-89bd-9b1191220787\",\"type\":\"CDSView\"}},\"id\":\"2e05b73d-e6e6-4a87-a0ba-5a4ceeb1fd8e\",\"type\":\"GlyphRenderer\"},{\"attributes\":{},\"id\":\"8816c5dd-91b1-4e7e-8aae-71c65e487ae7\",\"type\":\"Selection\"},{\"attributes\":{},\"id\":\"1b8952d3-07a3-44d5-b65c-8691dc6d7a7e\",\"type\":\"HelpTool\"},{\"attributes\":{},\"id\":\"644a132c-45bd-42fb-8c8a-e9d71ba72324\",\"type\":\"LinearScale\"},{\"attributes\":{\"plot\":{\"id\":\"704dd2c6-1006-4053-a09d-a65990f11082\",\"subtype\":\"Figure\",\"type\":\"Plot\"},\"ticker\":{\"id\":\"ffd3ae29-412e-4f0c-b703-eb88aa0b804b\",\"type\":\"BasicTicker\"}},\"id\":\"a7185068-d52d-4ddc-993d-eb31ce21d729\",\"type\":\"Grid\"},{\"attributes\":{\"label\":{\"value\":\"CLIRAD (single-run)\"},\"renderers\":[{\"id\":\"2f241199-18fb-4763-a9e8-0d463ce5bb57\",\"type\":\"GlyphRenderer\"}]},\"id\":\"a74eecf2-0257-4ba4-ab25-0ddcd510f5b3\",\"type\":\"LegendItem\"},{\"attributes\":{\"source\":{\"id\":\"60d308ea-43c4-4de6-b0c4-61fcdb5e39d3\",\"type\":\"ColumnDataSource\"}},\"id\":\"dad80399-bba8-4057-9af3-bbee678ac87c\",\"type\":\"CDSView\"},{\"attributes\":{},\"id\":\"ffd3ae29-412e-4f0c-b703-eb88aa0b804b\",\"type\":\"BasicTicker\"},{\"attributes\":{\"axis_label\":\"cooling rate [K/day]\",\"formatter\":{\"id\":\"7f1b26c3-1fa2-47ea-aaf2-2e5151491d45\",\"type\":\"BasicTickFormatter\"},\"plot\":{\"id\":\"704dd2c6-1006-4053-a09d-a65990f11082\",\"subtype\":\"Figure\",\"type\":\"Plot\"},\"ticker\":{\"id\":\"ffd3ae29-412e-4f0c-b703-eb88aa0b804b\",\"type\":\"BasicTicker\"}},\"id\":\"b347ec0e-9774-4230-81ea-c525f7f761d5\",\"type\":\"LinearAxis\"},{\"attributes\":{\"line_color\":\"#4daf4a\",\"line_width\":1.5,\"x\":{\"field\":\"x\"},\"y\":{\"field\":\"y\"}},\"id\":\"d7af1af9-a421-4fac-9b1c-45a7968320a1\",\"type\":\"Line\"},{\"attributes\":{},\"id\":\"eb367f2a-87f1-4754-9aa7-24837a9cccb8\",\"type\":\"HelpTool\"},{\"attributes\":{\"line_alpha\":0.6,\"line_color\":\"#377eb8\",\"line_dash\":[6],\"line_width\":5,\"x\":{\"field\":\"x\"},\"y\":{\"field\":\"y\"}},\"id\":\"a3e8751f-4524-4a3f-a6f1-348dc1551027\",\"type\":\"Line\"},{\"attributes\":{\"fill_alpha\":{\"value\":0.7},\"fill_color\":{\"value\":\"#4daf4a\"},\"line_alpha\":{\"value\":0.7},\"line_color\":{\"value\":\"#4daf4a\"},\"x\":{\"field\":\"x\"},\"y\":{\"field\":\"y\"}},\"id\":\"c011e01b-120b-414f-9e30-8dcebfc4b66a\",\"type\":\"Circle\"},{\"attributes\":{\"data_source\":{\"id\":\"8369fc1c-c50b-4958-9441-d9e05dd16cd0\",\"type\":\"ColumnDataSource\"},\"glyph\":{\"id\":\"a3e8751f-4524-4a3f-a6f1-348dc1551027\",\"type\":\"Line\"},\"hover_glyph\":null,\"muted_glyph\":null,\"nonselection_glyph\":{\"id\":\"4de60169-351a-4b88-bd9b-0089d60d63c4\",\"type\":\"Line\"},\"selection_glyph\":null,\"view\":{\"id\":\"351e576a-31fb-41b9-b907-a18ec8f8ac7d\",\"type\":\"CDSView\"}},\"id\":\"2f241199-18fb-4763-a9e8-0d463ce5bb57\",\"type\":\"GlyphRenderer\"},{\"attributes\":{\"bottom_units\":\"screen\",\"fill_alpha\":{\"value\":0.5},\"fill_color\":{\"value\":\"lightgrey\"},\"left_units\":\"screen\",\"level\":\"overlay\",\"line_alpha\":{\"value\":1.0},\"line_color\":{\"value\":\"black\"},\"line_dash\":[4,4],\"line_width\":{\"value\":2},\"plot\":null,\"render_mode\":\"css\",\"right_units\":\"screen\",\"top_units\":\"screen\"},\"id\":\"e6249977-9d2b-4d7e-a4cb-8cc71bf51403\",\"type\":\"BoxAnnotation\"},{\"attributes\":{},\"id\":\"7528d453-66d5-4b79-ac00-ac236bea6420\",\"type\":\"BasicTicker\"},{\"attributes\":{\"source\":{\"id\":\"8369fc1c-c50b-4958-9441-d9e05dd16cd0\",\"type\":\"ColumnDataSource\"}},\"id\":\"351e576a-31fb-41b9-b907-a18ec8f8ac7d\",\"type\":\"CDSView\"},{\"attributes\":{},\"id\":\"7f1b26c3-1fa2-47ea-aaf2-2e5151491d45\",\"type\":\"BasicTickFormatter\"},{\"attributes\":{\"line_alpha\":0.6,\"line_color\":\"#377eb8\",\"line_dash\":[6],\"line_width\":5,\"x\":{\"field\":\"x\"},\"y\":{\"field\":\"y\"}},\"id\":\"b9969ff6-6f7c-4617-99fd-0ea4813e898a\",\"type\":\"Line\"},{\"attributes\":{},\"id\":\"b2e692b1-1149-4fa5-bc18-8de826acef43\",\"type\":\"WheelZoomTool\"},{\"attributes\":{\"data_source\":{\"id\":\"96447b2a-d01e-46b4-8f16-1cebf231a6e6\",\"type\":\"ColumnDataSource\"},\"glyph\":{\"id\":\"b9969ff6-6f7c-4617-99fd-0ea4813e898a\",\"type\":\"Line\"},\"hover_glyph\":null,\"muted_glyph\":null,\"nonselection_glyph\":{\"id\":\"fdb29dce-5cac-4158-a80a-622e3bbf4af6\",\"type\":\"Line\"},\"selection_glyph\":null,\"view\":{\"id\":\"0275698b-f16f-46f4-b642-a644230ebb3d\",\"type\":\"CDSView\"}},\"id\":\"cc7ea07f-e3ae-4706-af35-1b8354382334\",\"type\":\"GlyphRenderer\"},{\"attributes\":{\"dimension\":1,\"plot\":{\"id\":\"704dd2c6-1006-4053-a09d-a65990f11082\",\"subtype\":\"Figure\",\"type\":\"Plot\"},\"ticker\":{\"id\":\"4e071192-8eba-4042-9bed-63bdd395c86e\",\"type\":\"LogTicker\"}},\"id\":\"6855f57e-076a-48a3-8832-5c8db19f19e1\",\"type\":\"Grid\"},{\"attributes\":{\"callback\":null,\"data\":{\"x\":{\"__ndarray__\":\"MXhf+wfXU0AZbvNjswdFQLQWsEQVdUFA5TlpnhT9QUB/x1dOYK05QImjxHmcEjZA9jYDSBB3L0AISPl4H6wqQBPuuwfAzyJAOcHprUZAIUB7WWpkesAXQJoT1Uq+ChVArO/8u0EXCkBgVNlshzgCQMeNQ+Nzu/I/POwv1Qzh+D9QxMRmcj8DQOrE7tC4mAxAQsLBRIlHEkAi4cPYoDEXQEeDpjRjzB1ASZ0GEfCuI0DVFj11sssnQOMiVKSMHyhAWRHvUxNoJEDo8cjD4g8gQLGGvR2NDRpAdpI3nV5oFECtyWH9Lp4QQIZQd9bvmwtAkshlnu1BBkBMysnQf1UAQHZJU/DYZ/c/HoEhV+G48T/rSm4vc/TmP3EgV4cD49g/xmy6+4w7zz+bEsjh3uDDPw5SRMRogKs/4GPKdPc1a78lazVXN1vCP/B84ODeUug/LOyxgXDV9z+/DBHyZAwAQAOIY+fy/QFAahF3XKCUAECV0GHvGsz+P+X4k4Nhvf0/RO/IqI98/T8rkW+v/zT9P59vGMDsAv0/zEX7plCY/D/E3siS8kj7P2yUMv+hDvs/RmrXDaYs+z+c9f5GCO36P58nVCbr7vo/Qus8hbcy/D+rD5hFMCf9P4t6dxofnPw/bRp4QYZ2/D/q8NNiN2b8P5YTVw9ESPw/l1Dy0X/K+j+WKih3ZdD5P2k8OYxHjvk/hceGh5N4+T8lpPahWSn5P6vJnePt4vY/UuhmxnXI9T8miFqdE+D0Pz7qfx5CR/Q/0khvq2US9D9LfVdHQGv0P9syeEmwYfg/\",\"dtype\":\"float64\",\"shape\":[75]},\"y\":{\"__ndarray__\":\"hLndy31yND/6fmq8dJNIP8n9DkWBPlE/aDum7souWD/b4a/JGvVgP9f34SAhymc/ZvM4DOavcD+z0M5pFmh3PxuC4zJuaoA/xjcUPlsHhz8uHAjJAiaQP9ieWRKgppY/oI7HDFTGnz+a5h2n6EimPzS6g9iZQq8/IuAQqtTstT9SSZ2AJsK+P4nS3uALk8U/ih9j7lpCzj+ASL99HTjVP4enV8oyxN0/ACL99nXg5D9fmEwVjErtPyUGgZVDi/Q/AiuHFtnO/D9OYhBYOTQEQPHSTWIQWAxA4XoUrkfhE0D8qfHSTeIbQMh2vp8ajyNArkfhehRuK0Bcj8L1KDwzQFyPwvUo/DpAPgrXo3DtQkDNzMzMzIxKQClcj8L1eFJAKVyPwvVoWECamZmZmVleQGZmZmZmJmJAAAAAAAAgZUCamZmZmRloQJqZmZmZEWtAmpmZmZkJbkCamZmZmYFwQGZmZmZm/nFAZmZmZmZ6c0BmZmZmZvZ0QDQzMzMzc3ZAAAAAAADwd0AAAAAAAGx5QAAAAAAA6HpAzMzMzMxkfEDMzMzMzOB9QM3MzMzMXH9AzczMzMxsgEAzMzMzMyuBQDMzMzMz6YFAMzMzMzOngkCamZmZmWWDQAAAAAAAJIRAAAAAAADihEAAAAAAAKCFQGZmZmZmXoZAzczMzMwch0DNzMzMzNqHQM3MzMzMmIhAMzMzMzNXiUCamZmZmRWKQAAAAAAA1IpAAAAAAACSi0AAAAAAAFCMQGZmZmZmDo1AzczMzMzMjUDNzMzMzIqOQM3MzMzMSI9A\",\"dtype\":\"float64\",\"shape\":[75]}},\"selected\":{\"id\":\"01174c2d-0ece-45cb-90ad-04b0236dbf29\",\"type\":\"Selection\"},\"selection_policy\":{\"id\":\"9e9a58c2-e583-40b2-96ff-d6fb846bb5fb\",\"type\":\"UnionRenderers\"}},\"id\":\"b309e7e6-b60b-44a2-b6f4-d9255504f743\",\"type\":\"ColumnDataSource\"},{\"attributes\":{\"line_alpha\":0.1,\"line_color\":\"#1f77b4\",\"line_dash\":[6],\"line_width\":5,\"x\":{\"field\":\"x\"},\"y\":{\"field\":\"y\"}},\"id\":\"4de60169-351a-4b88-bd9b-0089d60d63c4\",\"type\":\"Line\"},{\"attributes\":{\"items\":[{\"id\":\"2f273dee-a831-40b9-8f1c-7617badc6513\",\"type\":\"LegendItem\"},{\"id\":\"e03f897e-9a25-4920-be01-55216b8f447c\",\"type\":\"LegendItem\"},{\"id\":\"928c5db0-ab04-4c1a-9dcb-6964491e459e\",\"type\":\"LegendItem\"}],\"label_text_font_size\":{\"value\":\"8pt\"},\"location\":\"top_center\",\"orientation\":\"horizontal\",\"plot\":{\"id\":\"704dd2c6-1006-4053-a09d-a65990f11082\",\"subtype\":\"Figure\",\"type\":\"Plot\"}},\"id\":\"a22fbb25-1318-4260-a5cd-89e04798b13d\",\"type\":\"Legend\"},{\"attributes\":{\"source\":{\"id\":\"9be8f18e-6d46-4063-abc0-cc50b5fd33b0\",\"type\":\"ColumnDataSource\"}},\"id\":\"0b05a0a1-5ec8-4bfc-8bf0-1c3b6879ae9b\",\"type\":\"CDSView\"},{\"attributes\":{\"items\":[{\"id\":\"a74eecf2-0257-4ba4-ab25-0ddcd510f5b3\",\"type\":\"LegendItem\"},{\"id\":\"19d43e7f-1d31-4bbf-8354-55dc093afb07\",\"type\":\"LegendItem\"},{\"id\":\"e5cbfbc5-84a0-4ce4-8be4-e70b4b8efea3\",\"type\":\"LegendItem\"}],\"label_text_font_size\":{\"value\":\"8pt\"},\"location\":\"top_center\",\"orientation\":\"horizontal\",\"plot\":{\"id\":\"61cb8c54-63ca-40c8-8781-b567c26ac787\",\"subtype\":\"Figure\",\"type\":\"Plot\"}},\"id\":\"f62b05c4-ea45-49e1-8077-b02b0f2268b6\",\"type\":\"Legend\"},{\"attributes\":{\"line_alpha\":0.1,\"line_color\":\"#1f77b4\",\"line_width\":1.5,\"x\":{\"field\":\"x\"},\"y\":{\"field\":\"y\"}},\"id\":\"0fccf3f9-03c2-4c9e-8c87-7e6a9bb0e269\",\"type\":\"Line\"},{\"attributes\":{\"label\":{\"value\":\"CRD\"},\"renderers\":[{\"id\":\"2e05b73d-e6e6-4a87-a0ba-5a4ceeb1fd8e\",\"type\":\"GlyphRenderer\"},{\"id\":\"7ac0a4b0-b156-47d0-88e4-77db14d5a2e9\",\"type\":\"GlyphRenderer\"}]},\"id\":\"19d43e7f-1d31-4bbf-8354-55dc093afb07\",\"type\":\"LegendItem\"},{\"attributes\":{\"axis_label\":\"pressure [mb]\",\"formatter\":{\"id\":\"863bd0d2-b5ac-48c3-ac63-d8db2d8ba804\",\"type\":\"BasicTickFormatter\"},\"plot\":{\"id\":\"61cb8c54-63ca-40c8-8781-b567c26ac787\",\"subtype\":\"Figure\",\"type\":\"Plot\"},\"ticker\":{\"id\":\"7528d453-66d5-4b79-ac00-ac236bea6420\",\"type\":\"BasicTicker\"}},\"id\":\"e2586121-dc89-4e6a-8eac-7f5a753e5835\",\"type\":\"LinearAxis\"},{\"attributes\":{\"fill_alpha\":{\"value\":0.1},\"fill_color\":{\"value\":\"#1f77b4\"},\"line_alpha\":{\"value\":0.1},\"line_color\":{\"value\":\"#1f77b4\"},\"x\":{\"field\":\"x\"},\"y\":{\"field\":\"y\"}},\"id\":\"2424b55f-bc48-4ae8-933f-f5bd4f79a529\",\"type\":\"Circle\"},{\"attributes\":{\"data_source\":{\"id\":\"b309e7e6-b60b-44a2-b6f4-d9255504f743\",\"type\":\"ColumnDataSource\"},\"glyph\":{\"id\":\"d3c67e59-4416-4846-8cec-28d64ce5fda1\",\"type\":\"Square\"},\"hover_glyph\":null,\"muted_glyph\":null,\"nonselection_glyph\":{\"id\":\"cefd77b8-403d-4e1e-9235-8ded8d81a064\",\"type\":\"Square\"},\"selection_glyph\":null,\"view\":{\"id\":\"a83c5452-6a78-4f08-ac09-ea48e7732bb3\",\"type\":\"CDSView\"}},\"id\":\"8367cafe-032e-4467-8809-baaac571155c\",\"type\":\"GlyphRenderer\"},{\"attributes\":{\"data_source\":{\"id\":\"82c12573-fb93-4e88-8da8-e482ce4b43d7\",\"type\":\"ColumnDataSource\"},\"glyph\":{\"id\":\"de1bc8b0-38cd-4e33-a6bd-3d7dfc38041f\",\"type\":\"Square\"},\"hover_glyph\":null,\"muted_glyph\":null,\"nonselection_glyph\":{\"id\":\"0231f745-3a02-4500-9022-ca61b702afc5\",\"type\":\"Square\"},\"selection_glyph\":null,\"view\":{\"id\":\"b6b52ba6-3544-4de9-ac36-cc411d31a3f9\",\"type\":\"CDSView\"}},\"id\":\"55e8554f-e6f2-4850-9d10-e7afe67d62cd\",\"type\":\"GlyphRenderer\"},{\"attributes\":{\"line_color\":\"#4daf4a\",\"line_width\":1.5,\"x\":{\"field\":\"x\"},\"y\":{\"field\":\"y\"}},\"id\":\"1622c3ba-406c-4b1d-8a62-a881f6d64e85\",\"type\":\"Line\"},{\"attributes\":{\"fill_alpha\":{\"value\":0.1},\"fill_color\":{\"value\":\"#1f77b4\"},\"line_alpha\":{\"value\":0.1},\"line_color\":{\"value\":\"#1f77b4\"},\"x\":{\"field\":\"x\"},\"y\":{\"field\":\"y\"}},\"id\":\"311e0299-b909-4412-b25c-fb9096912836\",\"type\":\"Circle\"},{\"attributes\":{\"callback\":null,\"data\":{\"x\":{\"__ndarray__\":\"cm1sTMT3VEDEyvjosEJHQOKI6DjzCUNArgQWV9awPkB9Lm8XG3M4QEz+Qv6iYzNA7eV8HaPLLkCX1QHyTpMoQFBmYSYetiNAUB04GtGpH0AmFyVE5j8ZQJca9QPGqBNALJP+OOHHDEBNxaf7QF8AQKtislomWuw/cW2dcO6A9T/uJJvfPu0EQIaQLTI/JQ1AxGiII+PmEkCJvfVeuCsYQD6ZBhGbHB9AXQw69DTYJEAsubcwKucqQNuT9D5OmipAJyi3szEJJUBlNebh5WkgQDDcPHBr2xlArtlANXuQFEBdJadFHckQQI2Avh0ZsQtAjYiwt1rsBUCL0SDoVBgAQK6C0nEEjvc/CggLSme58T9sXU2orFPnP0v0JYz9Gdg/vT38vxYczD9nBQTe6kHHP1IhkEXJwKo/8OZnhCVAub+xtVgCpmqzP6DUpY6g0+k/PKK3T1h4+D8RTDjQc1EAQG/dAQs7TwJAQt2eHpPLAEBWEh074x//PyCap9ZSGf4/rEzaTySm/T+7aXhHRmr9P688KeqeNP0/ruZ4EemD/D8olrZcn9T7P0+vNc9hW/s/i9VVL+4P+z+0NzC24uz6P8731Kza8vo/xFf4SHzq+z+gYyHpvHb8P68ROkiFevw/BAjYdCga/D8AUp8VbW77P3JrF/nKmvo/qCQeGfq++T/dplwHJfn4P2G4p+Uva/g/OzZ0RqMZ+D8dmn/iar73P/OuA7Ka8PY/gaaeQHGn9T9hkyjAH1L0P3aZGhdAU/M/n8VP/g7P8j+90HxHNvfyPwhNBtgrqvk/\",\"dtype\":\"float64\",\"shape\":[75]},\"y\":{\"__ndarray__\":\"GhExyth1ND/Sv8nbtpRIP2vylNV0PVE/aTum7souWD/At0SJ8fVgPw3Iuahxymc/MSNhhJWvcD/bTfBN02d3P2zb5nxnaoA/CD5h5MAGhz8NmeH1TyaQP+zrCsc9p5Y/LbKd76fGnz/bLW5ISEmmPww9YvTcQq8/JV2OstnstT8Er5Y7M8G+P0c+r3jqkcU/5h99k6ZBzj88bCIzFzjVP4enV8oyxN0//yH99nXg5D8qOpLLf0jtP5kqGJXUifQ/c9cS8kHP/D+/DpwzojQEQIEmwoanVwxA4lgXt9HgE0BSSZ2AJuIbQAMJih9jjiNA5q4l5INuK0AwTKYKRj0zQNv5fmq8/DpAaCJseHrtQkB/+zpwzoxKQM3MzMzMeFJAZmZmZmZqWEAAAAAAAFxeQM3MzMzMJmJAmpmZmZkfZUBmZmZmZhhoQDMzMzMzEWtAAAAAAAAKbkBmZmZmZoFwQM3MzMzM/XFAMzMzMzN6c0CamZmZmfZ0QAAAAAAAc3ZAZmZmZmbvd0DNzMzMzGt5QDMzMzMz6HpAmpmZmZlkfEAAAAAAAOF9QGZmZmZmXX9AZmZmZuZsgECamZmZGSuBQM3MzMxM6YFAAAAAAICngkAzMzMzs2WDQGZmZmbmI4RAmpmZmRnihEDNzMzMTKCFQAAAAACAXoZAMzMzM7Mch0BmZmZm5tqHQJqZmZkZmYhAzczMzExXiUAAAAAAgBWKQDMzMzOz04pAZmZmZuaRi0CamZmZGVCMQM3MzMxMDo1AAAAAAIDMjUAzMzMzs4qOQGZmZmbmSI9A\",\"dtype\":\"float64\",\"shape\":[75]}},\"selected\":{\"id\":\"a12fd1a6-496f-4646-8ca5-12c0658936cc\",\"type\":\"Selection\"},\"selection_policy\":{\"id\":\"3d8c4b9e-fa20-447e-92ab-4dc5c1983262\",\"type\":\"UnionRenderers\"}},\"id\":\"b73fdcc4-1dda-4432-a7e1-f12408e6ffdd\",\"type\":\"ColumnDataSource\"},{\"attributes\":{\"callback\":null,\"end\":0.01,\"start\":1020},\"id\":\"d2333912-e073-460f-a6fd-83664789fddd\",\"type\":\"Range1d\"},{\"attributes\":{\"source\":{\"id\":\"4a418cac-4873-4870-a2de-e3a923f9dc61\",\"type\":\"ColumnDataSource\"}},\"id\":\"1477063c-4d8a-4e5c-ae37-cda007c296b7\",\"type\":\"CDSView\"},{\"attributes\":{\"line_alpha\":0.1,\"line_color\":\"#1f77b4\",\"line_dash\":[6],\"line_width\":4,\"x\":{\"field\":\"x\"},\"y\":{\"field\":\"y\"}},\"id\":\"b653cc89-1b0a-4eec-877b-417d303f6a3b\",\"type\":\"Line\"},{\"attributes\":{\"line_alpha\":0.1,\"line_color\":\"#1f77b4\",\"line_width\":1.5,\"x\":{\"field\":\"x\"},\"y\":{\"field\":\"y\"}},\"id\":\"4482b59f-6749-4688-b4a7-22d8acc79f50\",\"type\":\"Line\"},{\"attributes\":{\"label\":{\"value\":\"CLIRAD (single-run)\"},\"renderers\":[{\"id\":\"cc7ea07f-e3ae-4706-af35-1b8354382334\",\"type\":\"GlyphRenderer\"}]},\"id\":\"2f273dee-a831-40b9-8f1c-7617badc6513\",\"type\":\"LegendItem\"},{\"attributes\":{\"source\":{\"id\":\"3817c864-b660-4584-89b5-34274d000006\",\"type\":\"ColumnDataSource\"}},\"id\":\"a4ea90bf-3033-4385-bc8d-8cab9d14e95e\",\"type\":\"CDSView\"},{\"attributes\":{\"callback\":null,\"end\":0.01,\"start\":1020},\"id\":\"60971da9-8848-4189-8924-0c57bb812240\",\"type\":\"Range1d\"},{\"attributes\":{\"line_alpha\":0.8,\"line_color\":\"#984ea3\",\"line_width\":1.5,\"x\":{\"field\":\"x\"},\"y\":{\"field\":\"y\"}},\"id\":\"5c78064c-0da8-48a1-ae24-1ae290fb4dbd\",\"type\":\"Line\"},{\"attributes\":{\"overlay\":{\"id\":\"0491fda2-5e15-4e66-8586-f8d76eccecd6\",\"type\":\"BoxAnnotation\"}},\"id\":\"7874d515-f13b-48a6-a036-7e3ed76a2001\",\"type\":\"BoxZoomTool\"},{\"attributes\":{\"callback\":null,\"data\":{\"x\":{\"__ndarray__\":\"cm1sTMT3VEDEyvjosEJHQOKI6DjzCUNArgQWV9awPkB9Lm8XG3M4QEz+Qv6iYzNA7eV8HaPLLkCX1QHyTpMoQFBmYSYetiNAUB04GtGpH0AmFyVE5j8ZQJca9QPGqBNALJP+OOHHDEBNxaf7QF8AQKtislomWuw/cW2dcO6A9T/uJJvfPu0EQIaQLTI/JQ1AxGiII+PmEkCJvfVeuCsYQD6ZBhGbHB9AXQw69DTYJEAsubcwKucqQNuT9D5OmipAJyi3szEJJUBlNebh5WkgQDDcPHBr2xlArtlANXuQFEBdJadFHckQQI2Avh0ZsQtAjYiwt1rsBUCL0SDoVBgAQK6C0nEEjvc/CggLSme58T9sXU2orFPnP0v0JYz9Gdg/vT38vxYczD9nBQTe6kHHP1IhkEXJwKo/8OZnhCVAub+xtVgCpmqzP6DUpY6g0+k/PKK3T1h4+D8RTDjQc1EAQG/dAQs7TwJAQt2eHpPLAEBWEh074x//PyCap9ZSGf4/rEzaTySm/T+7aXhHRmr9P688KeqeNP0/ruZ4EemD/D8olrZcn9T7P0+vNc9hW/s/i9VVL+4P+z+0NzC24uz6P8731Kza8vo/xFf4SHzq+z+gYyHpvHb8P68ROkiFevw/BAjYdCga/D8AUp8VbW77P3JrF/nKmvo/qCQeGfq++T/dplwHJfn4P2G4p+Uva/g/OzZ0RqMZ+D8dmn/iar73P/OuA7Ka8PY/gaaeQHGn9T9hkyjAH1L0P3aZGhdAU/M/n8VP/g7P8j+90HxHNvfyPwhNBtgrqvk/\",\"dtype\":\"float64\",\"shape\":[75]},\"y\":{\"__ndarray__\":\"GhExyth1ND/Sv8nbtpRIP2vylNV0PVE/aTum7souWD/At0SJ8fVgPw3Iuahxymc/MSNhhJWvcD/bTfBN02d3P2zb5nxnaoA/CD5h5MAGhz8NmeH1TyaQP+zrCsc9p5Y/LbKd76fGnz/bLW5ISEmmPww9YvTcQq8/JV2OstnstT8Er5Y7M8G+P0c+r3jqkcU/5h99k6ZBzj88bCIzFzjVP4enV8oyxN0//yH99nXg5D8qOpLLf0jtP5kqGJXUifQ/c9cS8kHP/D+/DpwzojQEQIEmwoanVwxA4lgXt9HgE0BSSZ2AJuIbQAMJih9jjiNA5q4l5INuK0AwTKYKRj0zQNv5fmq8/DpAaCJseHrtQkB/+zpwzoxKQM3MzMzMeFJAZmZmZmZqWEAAAAAAAFxeQM3MzMzMJmJAmpmZmZkfZUBmZmZmZhhoQDMzMzMzEWtAAAAAAAAKbkBmZmZmZoFwQM3MzMzM/XFAMzMzMzN6c0CamZmZmfZ0QAAAAAAAc3ZAZmZmZmbvd0DNzMzMzGt5QDMzMzMz6HpAmpmZmZlkfEAAAAAAAOF9QGZmZmZmXX9AZmZmZuZsgECamZmZGSuBQM3MzMxM6YFAAAAAAICngkAzMzMzs2WDQGZmZmbmI4RAmpmZmRnihEDNzMzMTKCFQAAAAACAXoZAMzMzM7Mch0BmZmZm5tqHQJqZmZkZmYhAzczMzExXiUAAAAAAgBWKQDMzMzOz04pAZmZmZuaRi0CamZmZGVCMQM3MzMxMDo1AAAAAAIDMjUAzMzMzs4qOQGZmZmbmSI9A\",\"dtype\":\"float64\",\"shape\":[75]}},\"selected\":{\"id\":\"2eb1a384-ea5d-4e67-8d73-666a43c4be5b\",\"type\":\"Selection\"},\"selection_policy\":{\"id\":\"c6685831-a88e-4692-a333-249336416cf2\",\"type\":\"UnionRenderers\"}},\"id\":\"4a418cac-4873-4870-a2de-e3a923f9dc61\",\"type\":\"ColumnDataSource\"},{\"attributes\":{\"line_alpha\":0.5,\"line_color\":\"#377eb8\",\"line_dash\":[6],\"line_width\":4,\"x\":{\"field\":\"x\"},\"y\":{\"field\":\"y\"}},\"id\":\"ea9bc037-4d3f-4790-a7bd-db0ca6752747\",\"type\":\"Line\"},{\"attributes\":{\"line_alpha\":0.5,\"line_color\":\"#984ea3\",\"line_width\":1.5,\"x\":{\"field\":\"x\"},\"y\":{\"field\":\"y\"}},\"id\":\"6d29b055-20ca-4a58-bca4-6fd1b55c67ee\",\"type\":\"Line\"},{\"attributes\":{\"above\":[{\"id\":\"a22fbb25-1318-4260-a5cd-89e04798b13d\",\"type\":\"Legend\"}],\"below\":[{\"id\":\"b347ec0e-9774-4230-81ea-c525f7f761d5\",\"type\":\"LinearAxis\"}],\"left\":[{\"id\":\"68c2710e-fafa-47c8-8e49-62532cde9399\",\"type\":\"LogAxis\"}],\"plot_width\":300,\"renderers\":[{\"id\":\"b347ec0e-9774-4230-81ea-c525f7f761d5\",\"type\":\"LinearAxis\"},{\"id\":\"a7185068-d52d-4ddc-993d-eb31ce21d729\",\"type\":\"Grid\"},{\"id\":\"68c2710e-fafa-47c8-8e49-62532cde9399\",\"type\":\"LogAxis\"},{\"id\":\"6855f57e-076a-48a3-8832-5c8db19f19e1\",\"type\":\"Grid\"},{\"id\":\"e6249977-9d2b-4d7e-a4cb-8cc71bf51403\",\"type\":\"BoxAnnotation\"},{\"id\":\"cc7ea07f-e3ae-4706-af35-1b8354382334\",\"type\":\"GlyphRenderer\"},{\"id\":\"7488b23f-6825-4bce-a9e2-6e87bff7f1c8\",\"type\":\"GlyphRenderer\"},{\"id\":\"1af60b17-93c6-4332-aec7-85178aa89d7d\",\"type\":\"GlyphRenderer\"},{\"id\":\"55e8554f-e6f2-4850-9d10-e7afe67d62cd\",\"type\":\"GlyphRenderer\"},{\"id\":\"eb73da22-3014-404f-8c41-64311986ab95\",\"type\":\"GlyphRenderer\"},{\"id\":\"a22fbb25-1318-4260-a5cd-89e04798b13d\",\"type\":\"Legend\"}],\"title\":{\"id\":\"d90a0d6d-2167-49d6-98b4-a7ced5970e88\",\"type\":\"Title\"},\"toolbar\":{\"id\":\"43f48dac-40b5-4da0-910b-bb9ae1e43bcf\",\"type\":\"Toolbar\"},\"toolbar_location\":null,\"x_range\":{\"id\":\"05478de2-0200-4956-b2d4-4177acaac663\",\"type\":\"Range1d\"},\"x_scale\":{\"id\":\"11fcdcfb-91b0-4571-9aaf-521ec6fc5787\",\"type\":\"LinearScale\"},\"y_range\":{\"id\":\"3ac8df31-8ea3-4e29-bc33-a3a726cd85a7\",\"type\":\"Range1d\"},\"y_scale\":{\"id\":\"2f4be876-1732-4b99-a2d0-d87c196da90f\",\"type\":\"LogScale\"}},\"id\":\"704dd2c6-1006-4053-a09d-a65990f11082\",\"subtype\":\"Figure\",\"type\":\"Plot\"},{\"attributes\":{},\"id\":\"a12fd1a6-496f-4646-8ca5-12c0658936cc\",\"type\":\"Selection\"},{\"attributes\":{\"fill_alpha\":{\"value\":0.7},\"fill_color\":{\"value\":\"#4daf4a\"},\"line_alpha\":{\"value\":0.7},\"line_color\":{\"value\":\"#4daf4a\"},\"x\":{\"field\":\"x\"},\"y\":{\"field\":\"y\"}},\"id\":\"33685718-b300-479d-8bfd-015136962bb5\",\"type\":\"Circle\"},{\"attributes\":{\"plot\":null,\"text\":\"\"},\"id\":\"d90a0d6d-2167-49d6-98b4-a7ced5970e88\",\"type\":\"Title\"},{\"attributes\":{\"source\":{\"id\":\"1dd9fdd5-ace0-4f85-8454-08b298332fec\",\"type\":\"ColumnDataSource\"}},\"id\":\"5a6cecf3-88f0-4fc0-9b2f-b00a737fb982\",\"type\":\"CDSView\"},{\"attributes\":{},\"id\":\"c2857296-d281-4bcf-9566-86a4879518bb\",\"type\":\"SaveTool\"},{\"attributes\":{\"data_source\":{\"id\":\"81ffe25c-222e-4bc5-bd1a-5429e03dfe86\",\"type\":\"ColumnDataSource\"},\"glyph\":{\"id\":\"ea9bc037-4d3f-4790-a7bd-db0ca6752747\",\"type\":\"Line\"},\"hover_glyph\":null,\"muted_glyph\":null,\"nonselection_glyph\":{\"id\":\"b653cc89-1b0a-4eec-877b-417d303f6a3b\",\"type\":\"Line\"},\"selection_glyph\":null,\"view\":{\"id\":\"460e0866-59fd-4bc6-b4c0-65cf7663cbaf\",\"type\":\"CDSView\"}},\"id\":\"c18431cb-b4e9-486f-8cd6-bdaacc0b3fdb\",\"type\":\"GlyphRenderer\"},{\"attributes\":{\"label\":{\"value\":\"CRD\"},\"renderers\":[{\"id\":\"7488b23f-6825-4bce-a9e2-6e87bff7f1c8\",\"type\":\"GlyphRenderer\"},{\"id\":\"1af60b17-93c6-4332-aec7-85178aa89d7d\",\"type\":\"GlyphRenderer\"}]},\"id\":\"e03f897e-9a25-4920-be01-55216b8f447c\",\"type\":\"LegendItem\"},{\"attributes\":{\"callback\":null,\"data\":{\"x\":{\"__ndarray__\":\"MXhf+wfXU0AZbvNjswdFQLQWsEQVdUFA5TlpnhT9QUB/x1dOYK05QImjxHmcEjZA9jYDSBB3L0AISPl4H6wqQBPuuwfAzyJAOcHprUZAIUB7WWpkesAXQJoT1Uq+ChVArO/8u0EXCkBgVNlshzgCQMeNQ+Nzu/I/POwv1Qzh+D9QxMRmcj8DQOrE7tC4mAxAQsLBRIlHEkAi4cPYoDEXQEeDpjRjzB1ASZ0GEfCuI0DVFj11sssnQOMiVKSMHyhAWRHvUxNoJEDo8cjD4g8gQLGGvR2NDRpAdpI3nV5oFECtyWH9Lp4QQIZQd9bvmwtAkshlnu1BBkBMysnQf1UAQHZJU/DYZ/c/HoEhV+G48T/rSm4vc/TmP3EgV4cD49g/xmy6+4w7zz+bEsjh3uDDPw5SRMRogKs/4GPKdPc1a78lazVXN1vCP/B84ODeUug/LOyxgXDV9z+/DBHyZAwAQAOIY+fy/QFAahF3XKCUAECV0GHvGsz+P+X4k4Nhvf0/RO/IqI98/T8rkW+v/zT9P59vGMDsAv0/zEX7plCY/D/E3siS8kj7P2yUMv+hDvs/RmrXDaYs+z+c9f5GCO36P58nVCbr7vo/Qus8hbcy/D+rD5hFMCf9P4t6dxofnPw/bRp4QYZ2/D/q8NNiN2b8P5YTVw9ESPw/l1Dy0X/K+j+WKih3ZdD5P2k8OYxHjvk/hceGh5N4+T8lpPahWSn5P6vJnePt4vY/UuhmxnXI9T8miFqdE+D0Pz7qfx5CR/Q/0khvq2US9D9LfVdHQGv0P9syeEmwYfg/\",\"dtype\":\"float64\",\"shape\":[75]},\"y\":{\"__ndarray__\":\"hLndy31yND/6fmq8dJNIP8n9DkWBPlE/aDum7souWD/b4a/JGvVgP9f34SAhymc/ZvM4DOavcD+z0M5pFmh3PxuC4zJuaoA/xjcUPlsHhz8uHAjJAiaQP9ieWRKgppY/oI7HDFTGnz+a5h2n6EimPzS6g9iZQq8/IuAQqtTstT9SSZ2AJsK+P4nS3uALk8U/ih9j7lpCzj+ASL99HTjVP4enV8oyxN0/ACL99nXg5D9fmEwVjErtPyUGgZVDi/Q/AiuHFtnO/D9OYhBYOTQEQPHSTWIQWAxA4XoUrkfhE0D8qfHSTeIbQMh2vp8ajyNArkfhehRuK0Bcj8L1KDwzQFyPwvUo/DpAPgrXo3DtQkDNzMzMzIxKQClcj8L1eFJAKVyPwvVoWECamZmZmVleQGZmZmZmJmJAAAAAAAAgZUCamZmZmRloQJqZmZmZEWtAmpmZmZkJbkCamZmZmYFwQGZmZmZm/nFAZmZmZmZ6c0BmZmZmZvZ0QDQzMzMzc3ZAAAAAAADwd0AAAAAAAGx5QAAAAAAA6HpAzMzMzMxkfEDMzMzMzOB9QM3MzMzMXH9AzczMzMxsgEAzMzMzMyuBQDMzMzMz6YFAMzMzMzOngkCamZmZmWWDQAAAAAAAJIRAAAAAAADihEAAAAAAAKCFQGZmZmZmXoZAzczMzMwch0DNzMzMzNqHQM3MzMzMmIhAMzMzMzNXiUCamZmZmRWKQAAAAAAA1IpAAAAAAACSi0AAAAAAAFCMQGZmZmZmDo1AzczMzMzMjUDNzMzMzIqOQM3MzMzMSI9A\",\"dtype\":\"float64\",\"shape\":[75]}},\"selected\":{\"id\":\"3d68a1de-aae8-4346-9d8c-e745f4e3860d\",\"type\":\"Selection\"},\"selection_policy\":{\"id\":\"6312da94-39a4-4d8b-a0a1-0d2cddb937b6\",\"type\":\"UnionRenderers\"}},\"id\":\"1dd9fdd5-ace0-4f85-8454-08b298332fec\",\"type\":\"ColumnDataSource\"},{\"attributes\":{\"source\":{\"id\":\"81ffe25c-222e-4bc5-bd1a-5429e03dfe86\",\"type\":\"ColumnDataSource\"}},\"id\":\"460e0866-59fd-4bc6-b4c0-65cf7663cbaf\",\"type\":\"CDSView\"},{\"attributes\":{\"callback\":null,\"data\":{\"x\":{\"__ndarray__\":\"MXhf+wfXU0AZbvNjswdFQLQWsEQVdUFA5TlpnhT9QUB/x1dOYK05QImjxHmcEjZA9jYDSBB3L0AISPl4H6wqQBPuuwfAzyJAOcHprUZAIUB7WWpkesAXQJoT1Uq+ChVArO/8u0EXCkBgVNlshzgCQMeNQ+Nzu/I/POwv1Qzh+D9QxMRmcj8DQOrE7tC4mAxAQsLBRIlHEkAi4cPYoDEXQEeDpjRjzB1ASZ0GEfCuI0DVFj11sssnQOMiVKSMHyhAWRHvUxNoJEDo8cjD4g8gQLGGvR2NDRpAdpI3nV5oFECtyWH9Lp4QQIZQd9bvmwtAkshlnu1BBkBMysnQf1UAQHZJU/DYZ/c/HoEhV+G48T/rSm4vc/TmP3EgV4cD49g/xmy6+4w7zz+bEsjh3uDDPw5SRMRogKs/4GPKdPc1a78lazVXN1vCP/B84ODeUug/LOyxgXDV9z+/DBHyZAwAQAOIY+fy/QFAahF3XKCUAECV0GHvGsz+P+X4k4Nhvf0/RO/IqI98/T8rkW+v/zT9P59vGMDsAv0/zEX7plCY/D/E3siS8kj7P2yUMv+hDvs/RmrXDaYs+z+c9f5GCO36P58nVCbr7vo/Qus8hbcy/D+rD5hFMCf9P4t6dxofnPw/bRp4QYZ2/D/q8NNiN2b8P5YTVw9ESPw/l1Dy0X/K+j+WKih3ZdD5P2k8OYxHjvk/hceGh5N4+T8lpPahWSn5P6vJnePt4vY/UuhmxnXI9T8miFqdE+D0Pz7qfx5CR/Q/0khvq2US9D9LfVdHQGv0P9syeEmwYfg/\",\"dtype\":\"float64\",\"shape\":[75]},\"y\":{\"__ndarray__\":\"hLndy31yND/6fmq8dJNIP8n9DkWBPlE/aDum7souWD/b4a/JGvVgP9f34SAhymc/ZvM4DOavcD+z0M5pFmh3PxuC4zJuaoA/xjcUPlsHhz8uHAjJAiaQP9ieWRKgppY/oI7HDFTGnz+a5h2n6EimPzS6g9iZQq8/IuAQqtTstT9SSZ2AJsK+P4nS3uALk8U/ih9j7lpCzj+ASL99HTjVP4enV8oyxN0/ACL99nXg5D9fmEwVjErtPyUGgZVDi/Q/AiuHFtnO/D9OYhBYOTQEQPHSTWIQWAxA4XoUrkfhE0D8qfHSTeIbQMh2vp8ajyNArkfhehRuK0Bcj8L1KDwzQFyPwvUo/DpAPgrXo3DtQkDNzMzMzIxKQClcj8L1eFJAKVyPwvVoWECamZmZmVleQGZmZmZmJmJAAAAAAAAgZUCamZmZmRloQJqZmZmZEWtAmpmZmZkJbkCamZmZmYFwQGZmZmZm/nFAZmZmZmZ6c0BmZmZmZvZ0QDQzMzMzc3ZAAAAAAADwd0AAAAAAAGx5QAAAAAAA6HpAzMzMzMxkfEDMzMzMzOB9QM3MzMzMXH9AzczMzMxsgEAzMzMzMyuBQDMzMzMz6YFAMzMzMzOngkCamZmZmWWDQAAAAAAAJIRAAAAAAADihEAAAAAAAKCFQGZmZmZmXoZAzczMzMwch0DNzMzMzNqHQM3MzMzMmIhAMzMzMzNXiUCamZmZmRWKQAAAAAAA1IpAAAAAAACSi0AAAAAAAFCMQGZmZmZmDo1AzczMzMzMjUDNzMzMzIqOQM3MzMzMSI9A\",\"dtype\":\"float64\",\"shape\":[75]}},\"selected\":{\"id\":\"8816c5dd-91b1-4e7e-8aae-71c65e487ae7\",\"type\":\"Selection\"},\"selection_policy\":{\"id\":\"9011267b-6b86-45f1-ad5a-841d9de4b520\",\"type\":\"UnionRenderers\"}},\"id\":\"82c12573-fb93-4e88-8da8-e482ce4b43d7\",\"type\":\"ColumnDataSource\"},{\"attributes\":{\"source\":{\"id\":\"f5e1aaf9-ea09-47f7-a8e6-6a6d7a3f0eee\",\"type\":\"ColumnDataSource\"}},\"id\":\"8e445532-392d-410e-9350-1e0998c25d90\",\"type\":\"CDSView\"},{\"attributes\":{\"line_alpha\":0.1,\"line_color\":\"#1f77b4\",\"line_width\":1.5,\"x\":{\"field\":\"x\"},\"y\":{\"field\":\"y\"}},\"id\":\"369cecc7-d40c-42d7-9661-02a4229bb459\",\"type\":\"Line\"},{\"attributes\":{},\"id\":\"3d8c4b9e-fa20-447e-92ab-4dc5c1983262\",\"type\":\"UnionRenderers\"},{\"attributes\":{\"source\":{\"id\":\"b73fdcc4-1dda-4432-a7e1-f12408e6ffdd\",\"type\":\"ColumnDataSource\"}},\"id\":\"46c79e43-4183-440f-bda5-d9ecd06e13c1\",\"type\":\"CDSView\"},{\"attributes\":{\"source\":{\"id\":\"96447b2a-d01e-46b4-8f16-1cebf231a6e6\",\"type\":\"ColumnDataSource\"}},\"id\":\"0275698b-f16f-46f4-b642-a644230ebb3d\",\"type\":\"CDSView\"},{\"attributes\":{\"callback\":null,\"data\":{\"x\":{\"__ndarray__\":\"50R6vdIWRMClF3d5eqsgwGz1CQSsZQLAawXl4sPU/D/aFBAvJ2oOQDBGBLDWzQ5AypgdX0sfBEDuWIe6cCnlP/UoQnTysem/3Br0nPXU9b90bgS2Tofxv9SGXRRDHt+/9O6Tg/G0sD9gb488FLnZP+Iv4U8KJt8/RPYrCwE51D++VmRhOHGhP/vLxh0lsNC/EykR9Vkw4L+IggBXY5/gv66Sn2Y95dG/4D7+ptGidb/2jLSUUSqqv1w6FPh3ttO/VG9gq/061784bWkhteCwv5jVb5vJl9g/Ikn+vNRe1z9WLGuL1Aa4P2D37Zklapg/4UJNOs3q0D/usk/7TaLVPw7Lx3Zsx8M/QY0Or1ihnL/7MHIhEnJ0P5rpKI3Wi64/suZPso15fj8mFBQNm/Crvwn2fS7s4ba/G7wMu4aLub/HFZXUPOq1vw6x/3ahirC//6v/XjA3r79l2K9I9D+dvxl0b5uV7ba/4vniGEmZuL+zFseQI4yrv0Bg+qV36K6/ZWPPH6u2s78PLizoD+eyv03fvcRJp6u/D4lpqG2zor/RpbFM41+Yv1aBxzlm55S/g2VfUKOrlL9IFUxQUWKZv1JU7mjZX5u/i/g8DmHGk79oDg6vUfpVP46i0N1ufKA/Qxr6mjJmrD8QbB0tquStP1I1JezqdKU/u0x4A7m9lT+wjJ+KfwZZP8BxJfXzXD4/9JfQQ75igT9mubFIL0SeP6k2AGeeZqg/ttyPlxKirz/k9oRSnxeyP10yRXIWU7M/oCT+wXQctD9DjATQcM60P/voHiPqT7Q/\",\"dtype\":\"float64\",\"shape\":[75]},\"y\":{\"__ndarray__\":\"GhExyth1ND/Sv8nbtpRIP2vylNV0PVE/aTum7souWD/At0SJ8fVgPw3Iuahxymc/MSNhhJWvcD/bTfBN02d3P2zb5nxnaoA/CD5h5MAGhz8NmeH1TyaQP+zrCsc9p5Y/LbKd76fGnz/bLW5ISEmmPww9YvTcQq8/JV2OstnstT8Er5Y7M8G+P0c+r3jqkcU/5h99k6ZBzj88bCIzFzjVP4enV8oyxN0//yH99nXg5D8qOpLLf0jtP5kqGJXUifQ/c9cS8kHP/D+/DpwzojQEQIEmwoanVwxA4lgXt9HgE0BSSZ2AJuIbQAMJih9jjiNA5q4l5INuK0AwTKYKRj0zQNv5fmq8/DpAaCJseHrtQkB/+zpwzoxKQM3MzMzMeFJAZmZmZmZqWEAAAAAAAFxeQM3MzMzMJmJAmpmZmZkfZUBmZmZmZhhoQDMzMzMzEWtAAAAAAAAKbkBmZmZmZoFwQM3MzMzM/XFAMzMzMzN6c0CamZmZmfZ0QAAAAAAAc3ZAZmZmZmbvd0DNzMzMzGt5QDMzMzMz6HpAmpmZmZlkfEAAAAAAAOF9QGZmZmZmXX9AZmZmZuZsgECamZmZGSuBQM3MzMxM6YFAAAAAAICngkAzMzMzs2WDQGZmZmbmI4RAmpmZmRnihEDNzMzMTKCFQAAAAACAXoZAMzMzM7Mch0BmZmZm5tqHQJqZmZkZmYhAzczMzExXiUAAAAAAgBWKQDMzMzOz04pAZmZmZuaRi0CamZmZGVCMQM3MzMxMDo1AAAAAAIDMjUAzMzMzs4qOQGZmZmbmSI9A\",\"dtype\":\"float64\",\"shape\":[75]}},\"selected\":{\"id\":\"e3c13a80-ca9c-43da-a0bf-48871e8e8ea0\",\"type\":\"Selection\"},\"selection_policy\":{\"id\":\"f10950a0-77b6-4100-a160-811a6badf8af\",\"type\":\"UnionRenderers\"}},\"id\":\"3817c864-b660-4584-89b5-34274d000006\",\"type\":\"ColumnDataSource\"},{\"attributes\":{\"label\":{\"value\":\"old CLIRAD (H2012)\"},\"renderers\":[{\"id\":\"55e8554f-e6f2-4850-9d10-e7afe67d62cd\",\"type\":\"GlyphRenderer\"},{\"id\":\"eb73da22-3014-404f-8c41-64311986ab95\",\"type\":\"GlyphRenderer\"}]},\"id\":\"928c5db0-ab04-4c1a-9dcb-6964491e459e\",\"type\":\"LegendItem\"},{\"attributes\":{\"source\":{\"id\":\"82c12573-fb93-4e88-8da8-e482ce4b43d7\",\"type\":\"ColumnDataSource\"}},\"id\":\"b6b52ba6-3544-4de9-ac36-cc411d31a3f9\",\"type\":\"CDSView\"},{\"attributes\":{\"num_minor_ticks\":10},\"id\":\"dcfc5188-15c0-4ae3-9904-c1e88bd9d824\",\"type\":\"LogTicker\"},{\"attributes\":{\"fill_alpha\":{\"value\":0.1},\"fill_color\":{\"value\":\"#1f77b4\"},\"line_alpha\":{\"value\":0.1},\"line_color\":{\"value\":\"#1f77b4\"},\"x\":{\"field\":\"x\"},\"y\":{\"field\":\"y\"}},\"id\":\"0231f745-3a02-4500-9022-ca61b702afc5\",\"type\":\"Square\"},{\"attributes\":{\"data_source\":{\"id\":\"b73fdcc4-1dda-4432-a7e1-f12408e6ffdd\",\"type\":\"ColumnDataSource\"},\"glyph\":{\"id\":\"1622c3ba-406c-4b1d-8a62-a881f6d64e85\",\"type\":\"Line\"},\"hover_glyph\":null,\"muted_glyph\":null,\"nonselection_glyph\":{\"id\":\"4482b59f-6749-4688-b4a7-22d8acc79f50\",\"type\":\"Line\"},\"selection_glyph\":null,\"view\":{\"id\":\"46c79e43-4183-440f-bda5-d9ecd06e13c1\",\"type\":\"CDSView\"}},\"id\":\"1af60b17-93c6-4332-aec7-85178aa89d7d\",\"type\":\"GlyphRenderer\"},{\"attributes\":{\"callback\":null,\"data\":{\"x\":{\"__ndarray__\":\"EFTPEMULEsBY5Soo7NcRwOAih0PfTQnAcLzxlkslFUAgkIluU6TzP+gpDdzLdwVAICHKUKVt1T+Ik7s3hMbwP6AHr9TDy9y/ECnbDOK15j+w2qv7vfbXvzCQ/22EH9Y/ABwN6PuE1b8w8RgTZ5TNP8ZxqdeCOdI/WPaTJPMAyz/gCWaNx9zKv4Bz2SfMkLG/QNDU2Dvrw7/gjDvG8ELPv3BfAcZ9A9W/QPE2M06U4r+4EtXbvdv4v8CHA9UM1vO/wNkC+csj1L9A31CHx4DGv4BAVcDWEKk/AJyjBEwOpL8A2K0iJHelvwAHMEdHKYW/QAFQrblkpT+AYHxUdJWePwCcnL/AFYO/AIDdMF2+IL9AoMQ3Xs6Hv8CEJWa/IIk/SHjx3bH7mD9glt/hXwibv4AXhtbv81c/0ZPByHVmuD+ZIBKsyEuxPwB7VdwaDKi/AMK2wPlcpL+A1M+Jt0OhvwBblecIUqS/AOzlE2F5m79AcNDuEvKUv8BO6MRU/Ja/ALSuiFPKhL8ASGwETKOKvwCIZggV2Yi/AB5fgpVndD+A7LY9mXWhv8C4xgD0L5O/ALuUgd63fD8AAPReZ8gCPwB4gQY0fE+/gN8kEc8Okj9ggdWOaw6mPwButB7pzIA/QJoEKHMXlz9A3ZOmSfmuP0CC+mOR17o/8L5CjVu4sD8gd3D5DeiqP4BAGGl6MbI/oBQpEQTvtT+AoHD36662PwCQysucWWu/gOgg5EKCgD+gmD6me76hPwAZquxAgK4/MDP40Wo1tD/gyKr9n0C3P9Ci4ei4h7S/\",\"dtype\":\"float64\",\"shape\":[75]},\"y\":{\"__ndarray__\":\"GhExyth1ND/Sv8nbtpRIP2vylNV0PVE/aTum7souWD/At0SJ8fVgPw3Iuahxymc/MSNhhJWvcD/bTfBN02d3P2zb5nxnaoA/CD5h5MAGhz8NmeH1TyaQP+zrCsc9p5Y/LbKd76fGnz/bLW5ISEmmPww9YvTcQq8/JV2OstnstT8Er5Y7M8G+P0c+r3jqkcU/5h99k6ZBzj88bCIzFzjVP4enV8oyxN0//yH99nXg5D8qOpLLf0jtP5kqGJXUifQ/c9cS8kHP/D+/DpwzojQEQIEmwoanVwxA4lgXt9HgE0BSSZ2AJuIbQAMJih9jjiNA5q4l5INuK0AwTKYKRj0zQNv5fmq8/DpAaCJseHrtQkB/+zpwzoxKQM3MzMzMeFJAZmZmZmZqWEAAAAAAAFxeQM3MzMzMJmJAmpmZmZkfZUBmZmZmZhhoQDMzMzMzEWtAAAAAAAAKbkBmZmZmZoFwQM3MzMzM/XFAMzMzMzN6c0CamZmZmfZ0QAAAAAAAc3ZAZmZmZmbvd0DNzMzMzGt5QDMzMzMz6HpAmpmZmZlkfEAAAAAAAOF9QGZmZmZmXX9AZmZmZuZsgECamZmZGSuBQM3MzMxM6YFAAAAAAICngkAzMzMzs2WDQGZmZmbmI4RAmpmZmRnihEDNzMzMTKCFQAAAAACAXoZAMzMzM7Mch0BmZmZm5tqHQJqZmZkZmYhAzczMzExXiUAAAAAAgBWKQDMzMzOz04pAZmZmZuaRi0CamZmZGVCMQM3MzMxMDo1AAAAAAIDMjUAzMzMzs4qOQGZmZmbmSI9A\",\"dtype\":\"float64\",\"shape\":[75]}},\"selected\":{\"id\":\"6f44b460-5342-45cc-a374-4708ea15a7ba\",\"type\":\"Selection\"},\"selection_policy\":{\"id\":\"ed31ed04-317c-451a-8db9-94f221a0ec02\",\"type\":\"UnionRenderers\"}},\"id\":\"81ffe25c-222e-4bc5-bd1a-5429e03dfe86\",\"type\":\"ColumnDataSource\"},{\"attributes\":{\"data_source\":{\"id\":\"1dd9fdd5-ace0-4f85-8454-08b298332fec\",\"type\":\"ColumnDataSource\"},\"glyph\":{\"id\":\"6d29b055-20ca-4a58-bca4-6fd1b55c67ee\",\"type\":\"Line\"},\"hover_glyph\":null,\"muted_glyph\":null,\"nonselection_glyph\":{\"id\":\"369cecc7-d40c-42d7-9661-02a4229bb459\",\"type\":\"Line\"},\"selection_glyph\":null,\"view\":{\"id\":\"5a6cecf3-88f0-4fc0-9b2f-b00a737fb982\",\"type\":\"CDSView\"}},\"id\":\"eb73da22-3014-404f-8c41-64311986ab95\",\"type\":\"GlyphRenderer\"},{\"attributes\":{\"data_source\":{\"id\":\"f5e1aaf9-ea09-47f7-a8e6-6a6d7a3f0eee\",\"type\":\"ColumnDataSource\"},\"glyph\":{\"id\":\"d2b80324-fdfe-44d3-a779-e3ed58d8dd44\",\"type\":\"Circle\"},\"hover_glyph\":null,\"muted_glyph\":null,\"nonselection_glyph\":{\"id\":\"6f78c6e1-e868-470f-85e0-52449efa0e5e\",\"type\":\"Circle\"},\"selection_glyph\":null,\"view\":{\"id\":\"8e445532-392d-410e-9350-1e0998c25d90\",\"type\":\"CDSView\"}},\"id\":\"df034069-3124-4347-875a-8176e4a66414\",\"type\":\"GlyphRenderer\"},{\"attributes\":{},\"id\":\"9011267b-6b86-45f1-ad5a-841d9de4b520\",\"type\":\"UnionRenderers\"},{\"attributes\":{},\"id\":\"0ac67f49-7edb-490f-bece-f6d47944f02c\",\"type\":\"WheelZoomTool\"},{\"attributes\":{\"fill_alpha\":{\"value\":0.7},\"fill_color\":{\"value\":\"#984ea3\"},\"line_alpha\":{\"value\":0.7},\"line_color\":{\"value\":\"#984ea3\"},\"x\":{\"field\":\"x\"},\"y\":{\"field\":\"y\"}},\"id\":\"de1bc8b0-38cd-4e33-a6bd-3d7dfc38041f\",\"type\":\"Square\"},{\"attributes\":{},\"id\":\"c39a2de9-3801-4750-93ee-2397f6fc49a0\",\"type\":\"PanTool\"},{\"attributes\":{\"data_source\":{\"id\":\"4a418cac-4873-4870-a2de-e3a923f9dc61\",\"type\":\"ColumnDataSource\"},\"glyph\":{\"id\":\"33685718-b300-479d-8bfd-015136962bb5\",\"type\":\"Circle\"},\"hover_glyph\":null,\"muted_glyph\":null,\"nonselection_glyph\":{\"id\":\"311e0299-b909-4412-b25c-fb9096912836\",\"type\":\"Circle\"},\"selection_glyph\":null,\"view\":{\"id\":\"1477063c-4d8a-4e5c-ae37-cda007c296b7\",\"type\":\"CDSView\"}},\"id\":\"7488b23f-6825-4bce-a9e2-6e87bff7f1c8\",\"type\":\"GlyphRenderer\"},{\"attributes\":{\"above\":[{\"id\":\"f62b05c4-ea45-49e1-8077-b02b0f2268b6\",\"type\":\"Legend\"}],\"below\":[{\"id\":\"03796a3e-3f19-4a14-b6df-c6a7406d2773\",\"type\":\"LinearAxis\"}],\"left\":[{\"id\":\"e2586121-dc89-4e6a-8eac-7f5a753e5835\",\"type\":\"LinearAxis\"}],\"plot_width\":300,\"renderers\":[{\"id\":\"03796a3e-3f19-4a14-b6df-c6a7406d2773\",\"type\":\"LinearAxis\"},{\"id\":\"ee048d99-ae17-4c19-a675-343e9d1a0626\",\"type\":\"Grid\"},{\"id\":\"e2586121-dc89-4e6a-8eac-7f5a753e5835\",\"type\":\"LinearAxis\"},{\"id\":\"12bf8fb0-bfd1-4676-945f-89b1cc7ed5be\",\"type\":\"Grid\"},{\"id\":\"0491fda2-5e15-4e66-8586-f8d76eccecd6\",\"type\":\"BoxAnnotation\"},{\"id\":\"2f241199-18fb-4763-a9e8-0d463ce5bb57\",\"type\":\"GlyphRenderer\"},{\"id\":\"2e05b73d-e6e6-4a87-a0ba-5a4ceeb1fd8e\",\"type\":\"GlyphRenderer\"},{\"id\":\"7ac0a4b0-b156-47d0-88e4-77db14d5a2e9\",\"type\":\"GlyphRenderer\"},{\"id\":\"8367cafe-032e-4467-8809-baaac571155c\",\"type\":\"GlyphRenderer\"},{\"id\":\"c4edb6dc-e554-4685-8fe0-05b90a9c7876\",\"type\":\"GlyphRenderer\"},{\"id\":\"f62b05c4-ea45-49e1-8077-b02b0f2268b6\",\"type\":\"Legend\"}],\"title\":{\"id\":\"2e2c44f4-36e8-4741-b1ed-552c82223611\",\"type\":\"Title\"},\"toolbar\":{\"id\":\"56a7046f-c470-445f-bfe9-e42efb3b4dc7\",\"type\":\"Toolbar\"},\"toolbar_location\":null,\"x_range\":{\"id\":\"6bcc2496-6198-46dc-b134-18c5fc043ee0\",\"type\":\"Range1d\"},\"x_scale\":{\"id\":\"644a132c-45bd-42fb-8c8a-e9d71ba72324\",\"type\":\"LinearScale\"},\"y_range\":{\"id\":\"d2333912-e073-460f-a6fd-83664789fddd\",\"type\":\"Range1d\"},\"y_scale\":{\"id\":\"f6f57112-47ce-44e7-80ed-12a0d92c4486\",\"type\":\"LinearScale\"}},\"id\":\"61cb8c54-63ca-40c8-8781-b567c26ac787\",\"subtype\":\"Figure\",\"type\":\"Plot\"},{\"attributes\":{\"axis_label\":\"pressure [mb]\",\"formatter\":{\"id\":\"c57da56d-02b7-48eb-89af-a7156920c570\",\"type\":\"LogTickFormatter\"},\"plot\":{\"id\":\"b467c49a-a41b-41e3-a020-302c240953fa\",\"subtype\":\"Figure\",\"type\":\"Plot\"},\"ticker\":{\"id\":\"dcfc5188-15c0-4ae3-9904-c1e88bd9d824\",\"type\":\"LogTicker\"}},\"id\":\"e2f48a4e-2025-4516-8473-0e95bff05afa\",\"type\":\"LogAxis\"},{\"attributes\":{\"callback\":null,\"data\":{\"x\":{\"__ndarray__\":\"+pVe27XYRUDaBJtK0hdDQIvpp3iY40FAgiqiShE/QEAYMVH9X0A8QBKHQ9RdPTdAECai+rrpMUAmS6r95eUpQMBDHf/+GiJAmRb7spM0GkCH+6OWEt4UQChCr9LhthFApDIbxYhNDUA6szmDY5YDQE59UcGV9vU/Amtosy6P+j9KtiDBAzMFQAa3dI46DwtAoUPm5NfgEEA5rRX0yxcWQBKgnDpH/h1AliwFmoDVJEChBCPf/8wqQAjyM3+a/ClAqyRcxllPJECMYqN3JEggQInZ8wnoZBtAQb4QgWgGFkAN0tSXOCkRQHtc8mjt4QtA6TD6XrQJCEDpx4qnnswCQBB8qwDyBvo/1c1O5+FG8T/PQZDMkHznP34Ry11469s/87yOLeMPzT9dAL8axEXAP7LKaxcPA6O/hFG6H9Zlyb+6AOORtvyDv37exV9Mwuc/26S/zJ5+9z9h7Kbn8xYAQM9hJl7OlwFAcsXX1cgGAECk2ZYegkP+Px7HdxkPIv0/dVbdnblq/D/bpvVI1Tv8P7RNA5xkV/w/Ypo1pE3u+z+Pz4PPH3P7P0uRTjbEB/s/81cUoj+9+j9dB+9wWYf6P30+MUdbhfo/4mO/xGKb+z8iJ419O3z8P8WWKL9o/vw/1tivCVr9/D9fPQhnkl38Px2VeFByRvs/2wUs/fAV+j+/Tj+nZv/4P7gK57QVbfg/bNf7wmg8+D8CYaKfezf4P6mwO6XPs/c/ZiVb1YGk9j/P4lC1mXP1P5zsPn5xiPQ/6KdvStYQ9D+CGX1UHUT0P5g7OHoq7/o/\",\"dtype\":\"float64\",\"shape\":[75]},\"y\":{\"__ndarray__\":\"GhExyth1ND/Sv8nbtpRIP2vylNV0PVE/aTum7souWD/At0SJ8fVgPw3Iuahxymc/MSNhhJWvcD/bTfBN02d3P2zb5nxnaoA/CD5h5MAGhz8NmeH1TyaQP+zrCsc9p5Y/LbKd76fGnz/bLW5ISEmmPww9YvTcQq8/JV2OstnstT8Er5Y7M8G+P0c+r3jqkcU/5h99k6ZBzj88bCIzFzjVP4enV8oyxN0//yH99nXg5D8qOpLLf0jtP5kqGJXUifQ/c9cS8kHP/D+/DpwzojQEQIEmwoanVwxA4lgXt9HgE0BSSZ2AJuIbQAMJih9jjiNA5q4l5INuK0AwTKYKRj0zQNv5fmq8/DpAaCJseHrtQkB/+zpwzoxKQM3MzMzMeFJAZmZmZmZqWEAAAAAAAFxeQM3MzMzMJmJAmpmZmZkfZUBmZmZmZhhoQDMzMzMzEWtAAAAAAAAKbkBmZmZmZoFwQM3MzMzM/XFAMzMzMzN6c0CamZmZmfZ0QAAAAAAAc3ZAZmZmZmbvd0DNzMzMzGt5QDMzMzMz6HpAmpmZmZlkfEAAAAAAAOF9QGZmZmZmXX9AZmZmZuZsgECamZmZGSuBQM3MzMxM6YFAAAAAAICngkAzMzMzs2WDQGZmZmbmI4RAmpmZmRnihEDNzMzMTKCFQAAAAACAXoZAMzMzM7Mch0BmZmZm5tqHQJqZmZkZmYhAzczMzExXiUAAAAAAgBWKQDMzMzOz04pAZmZmZuaRi0CamZmZGVCMQM3MzMxMDo1AAAAAAIDMjUAzMzMzs4qOQGZmZmbmSI9A\",\"dtype\":\"float64\",\"shape\":[75]}},\"selected\":{\"id\":\"5e5faea4-34ed-4a74-b521-cac4a3f8a824\",\"type\":\"Selection\"},\"selection_policy\":{\"id\":\"b6ee64e0-9ee5-4e7f-b3f3-3cd4fd2eca87\",\"type\":\"UnionRenderers\"}},\"id\":\"8369fc1c-c50b-4958-9441-d9e05dd16cd0\",\"type\":\"ColumnDataSource\"},{\"attributes\":{\"callback\":null,\"data\":{\"x\":{\"__ndarray__\":\"MXhf+wfXU0AZbvNjswdFQLQWsEQVdUFA5TlpnhT9QUB/x1dOYK05QImjxHmcEjZA9jYDSBB3L0AISPl4H6wqQBPuuwfAzyJAOcHprUZAIUB7WWpkesAXQJoT1Uq+ChVArO/8u0EXCkBgVNlshzgCQMeNQ+Nzu/I/POwv1Qzh+D9QxMRmcj8DQOrE7tC4mAxAQsLBRIlHEkAi4cPYoDEXQEeDpjRjzB1ASZ0GEfCuI0DVFj11sssnQOMiVKSMHyhAWRHvUxNoJEDo8cjD4g8gQLGGvR2NDRpAdpI3nV5oFECtyWH9Lp4QQIZQd9bvmwtAkshlnu1BBkBMysnQf1UAQHZJU/DYZ/c/HoEhV+G48T/rSm4vc/TmP3EgV4cD49g/xmy6+4w7zz+bEsjh3uDDPw5SRMRogKs/4GPKdPc1a78lazVXN1vCP/B84ODeUug/LOyxgXDV9z+/DBHyZAwAQAOIY+fy/QFAahF3XKCUAECV0GHvGsz+P+X4k4Nhvf0/RO/IqI98/T8rkW+v/zT9P59vGMDsAv0/zEX7plCY/D/E3siS8kj7P2yUMv+hDvs/RmrXDaYs+z+c9f5GCO36P58nVCbr7vo/Qus8hbcy/D+rD5hFMCf9P4t6dxofnPw/bRp4QYZ2/D/q8NNiN2b8P5YTVw9ESPw/l1Dy0X/K+j+WKih3ZdD5P2k8OYxHjvk/hceGh5N4+T8lpPahWSn5P6vJnePt4vY/UuhmxnXI9T8miFqdE+D0Pz7qfx5CR/Q/0khvq2US9D9LfVdHQGv0P9syeEmwYfg/\",\"dtype\":\"float64\",\"shape\":[75]},\"y\":{\"__ndarray__\":\"hLndy31yND/6fmq8dJNIP8n9DkWBPlE/aDum7souWD/b4a/JGvVgP9f34SAhymc/ZvM4DOavcD+z0M5pFmh3PxuC4zJuaoA/xjcUPlsHhz8uHAjJAiaQP9ieWRKgppY/oI7HDFTGnz+a5h2n6EimPzS6g9iZQq8/IuAQqtTstT9SSZ2AJsK+P4nS3uALk8U/ih9j7lpCzj+ASL99HTjVP4enV8oyxN0/ACL99nXg5D9fmEwVjErtPyUGgZVDi/Q/AiuHFtnO/D9OYhBYOTQEQPHSTWIQWAxA4XoUrkfhE0D8qfHSTeIbQMh2vp8ajyNArkfhehRuK0Bcj8L1KDwzQFyPwvUo/DpAPgrXo3DtQkDNzMzMzIxKQClcj8L1eFJAKVyPwvVoWECamZmZmVleQGZmZmZmJmJAAAAAAAAgZUCamZmZmRloQJqZmZmZEWtAmpmZmZkJbkCamZmZmYFwQGZmZmZm/nFAZmZmZmZ6c0BmZmZmZvZ0QDQzMzMzc3ZAAAAAAADwd0AAAAAAAGx5QAAAAAAA6HpAzMzMzMxkfEDMzMzMzOB9QM3MzMzMXH9AzczMzMxsgEAzMzMzMyuBQDMzMzMz6YFAMzMzMzOngkCamZmZmWWDQAAAAAAAJIRAAAAAAADihEAAAAAAAKCFQGZmZmZmXoZAzczMzMwch0DNzMzMzNqHQM3MzMzMmIhAMzMzMzNXiUCamZmZmRWKQAAAAAAA1IpAAAAAAACSi0AAAAAAAFCMQGZmZmZmDo1AzczMzMzMjUDNzMzMzIqOQM3MzMzMSI9A\",\"dtype\":\"float64\",\"shape\":[75]}},\"selected\":{\"id\":\"a2cfa8e5-f687-4afa-a548-d49ca0b48e1c\",\"type\":\"Selection\"},\"selection_policy\":{\"id\":\"e4188455-8907-4de3-8011-ba9dbcacd9c1\",\"type\":\"UnionRenderers\"}},\"id\":\"9be8f18e-6d46-4063-abc0-cc50b5fd33b0\",\"type\":\"ColumnDataSource\"},{\"attributes\":{},\"id\":\"6312da94-39a4-4d8b-a0a1-0d2cddb937b6\",\"type\":\"UnionRenderers\"},{\"attributes\":{},\"id\":\"ed31ed04-317c-451a-8db9-94f221a0ec02\",\"type\":\"UnionRenderers\"},{\"attributes\":{},\"id\":\"471d470d-e7de-4081-9d34-bf29aef2b40e\",\"type\":\"Selection\"},{\"attributes\":{\"dimension\":1,\"plot\":{\"id\":\"61cb8c54-63ca-40c8-8781-b567c26ac787\",\"subtype\":\"Figure\",\"type\":\"Plot\"},\"ticker\":{\"id\":\"7528d453-66d5-4b79-ac00-ac236bea6420\",\"type\":\"BasicTicker\"}},\"id\":\"12bf8fb0-bfd1-4676-945f-89b1cc7ed5be\",\"type\":\"Grid\"},{\"attributes\":{},\"id\":\"015a3b8f-8f66-4fce-9b29-8490d2139bb9\",\"type\":\"UnionRenderers\"},{\"attributes\":{},\"id\":\"e0ed8946-66a7-4d8c-b714-bb633205a505\",\"type\":\"WheelZoomTool\"},{\"attributes\":{},\"id\":\"173cd17a-6bdb-4963-952c-ba683f00ffa9\",\"type\":\"BasicTicker\"},{\"attributes\":{\"children\":[{\"id\":\"3b425fe1-dd8e-4928-a0ea-0d81764594db\",\"type\":\"ToolbarBox\"},{\"id\":\"46e2c6fc-a4dc-4777-8d52-03eacdc0ed49\",\"type\":\"Column\"}]},\"id\":\"3fa23b50-c996-4f01-8222-ce249c3a2553\",\"type\":\"Column\"},{\"attributes\":{},\"id\":\"4373e5fd-ebe2-4de1-a122-25e5f9334e68\",\"type\":\"UnionRenderers\"},{\"attributes\":{},\"id\":\"7d384121-f6ec-4712-8da5-179e6645b0e2\",\"type\":\"HelpTool\"},{\"attributes\":{\"axis_label\":\"cooling rate [K/day]\",\"formatter\":{\"id\":\"ddef1710-699c-43fc-8899-9c74c5afa7e0\",\"type\":\"BasicTickFormatter\"},\"plot\":{\"id\":\"61cb8c54-63ca-40c8-8781-b567c26ac787\",\"subtype\":\"Figure\",\"type\":\"Plot\"},\"ticker\":{\"id\":\"819dca3e-be47-47c6-8c58-087673170d40\",\"type\":\"BasicTicker\"}},\"id\":\"03796a3e-3f19-4a14-b6df-c6a7406d2773\",\"type\":\"LinearAxis\"},{\"attributes\":{\"callback\":null,\"end\":0.7323360194662635,\"start\":-1.576281364019664},\"id\":\"4daaf85f-0d0a-47f6-8978-6bcc7eeeb03c\",\"type\":\"Range1d\"},{\"attributes\":{\"line_alpha\":0.1,\"line_color\":\"#1f77b4\",\"line_width\":1.5,\"x\":{\"field\":\"x\"},\"y\":{\"field\":\"y\"}},\"id\":\"dcc1f0a9-878c-4836-8a3a-d2ba4a2f81a1\",\"type\":\"Line\"},{\"attributes\":{\"items\":[{\"id\":\"90e0c539-3225-4aaf-9603-47f92612ca7c\",\"type\":\"LegendItem\"},{\"id\":\"2224c6f7-2995-417c-b1da-ae0510d8a0de\",\"type\":\"LegendItem\"}],\"label_text_font_size\":{\"value\":\"8pt\"},\"location\":\"top_center\",\"orientation\":\"horizontal\",\"plot\":{\"id\":\"b467c49a-a41b-41e3-a020-302c240953fa\",\"subtype\":\"Figure\",\"type\":\"Plot\"}},\"id\":\"6ba1b49c-5f0b-4693-90e0-ebb94ed23a4e\",\"type\":\"Legend\"},{\"attributes\":{\"callback\":null,\"data\":{\"x\":{\"__ndarray__\":\"50R6vdIWRMClF3d5eqsgwGz1CQSsZQLAawXl4sPU/D/aFBAvJ2oOQDBGBLDWzQ5AypgdX0sfBEDuWIe6cCnlP/UoQnTysem/3Br0nPXU9b90bgS2Tofxv9SGXRRDHt+/9O6Tg/G0sD9gb488FLnZP+Iv4U8KJt8/RPYrCwE51D++VmRhOHGhP/vLxh0lsNC/EykR9Vkw4L+IggBXY5/gv66Sn2Y95dG/4D7+ptGidb/2jLSUUSqqv1w6FPh3ttO/VG9gq/061784bWkhteCwv5jVb5vJl9g/Ikn+vNRe1z9WLGuL1Aa4P2D37Zklapg/4UJNOs3q0D/usk/7TaLVPw7Lx3Zsx8M/QY0Or1ihnL/7MHIhEnJ0P5rpKI3Wi64/suZPso15fj8mFBQNm/Crvwn2fS7s4ba/G7wMu4aLub/HFZXUPOq1vw6x/3ahirC//6v/XjA3r79l2K9I9D+dvxl0b5uV7ba/4vniGEmZuL+zFseQI4yrv0Bg+qV36K6/ZWPPH6u2s78PLizoD+eyv03fvcRJp6u/D4lpqG2zor/RpbFM41+Yv1aBxzlm55S/g2VfUKOrlL9IFUxQUWKZv1JU7mjZX5u/i/g8DmHGk79oDg6vUfpVP46i0N1ufKA/Qxr6mjJmrD8QbB0tquStP1I1JezqdKU/u0x4A7m9lT+wjJ+KfwZZP8BxJfXzXD4/9JfQQ75igT9mubFIL0SeP6k2AGeeZqg/ttyPlxKirz/k9oRSnxeyP10yRXIWU7M/oCT+wXQctD9DjATQcM60P/voHiPqT7Q/\",\"dtype\":\"float64\",\"shape\":[75]},\"y\":{\"__ndarray__\":\"GhExyth1ND/Sv8nbtpRIP2vylNV0PVE/aTum7souWD/At0SJ8fVgPw3Iuahxymc/MSNhhJWvcD/bTfBN02d3P2zb5nxnaoA/CD5h5MAGhz8NmeH1TyaQP+zrCsc9p5Y/LbKd76fGnz/bLW5ISEmmPww9YvTcQq8/JV2OstnstT8Er5Y7M8G+P0c+r3jqkcU/5h99k6ZBzj88bCIzFzjVP4enV8oyxN0//yH99nXg5D8qOpLLf0jtP5kqGJXUifQ/c9cS8kHP/D+/DpwzojQEQIEmwoanVwxA4lgXt9HgE0BSSZ2AJuIbQAMJih9jjiNA5q4l5INuK0AwTKYKRj0zQNv5fmq8/DpAaCJseHrtQkB/+zpwzoxKQM3MzMzMeFJAZmZmZmZqWEAAAAAAAFxeQM3MzMzMJmJAmpmZmZkfZUBmZmZmZhhoQDMzMzMzEWtAAAAAAAAKbkBmZmZmZoFwQM3MzMzM/XFAMzMzMzN6c0CamZmZmfZ0QAAAAAAAc3ZAZmZmZmbvd0DNzMzMzGt5QDMzMzMz6HpAmpmZmZlkfEAAAAAAAOF9QGZmZmZmXX9AZmZmZuZsgECamZmZGSuBQM3MzMxM6YFAAAAAAICngkAzMzMzs2WDQGZmZmbmI4RAmpmZmRnihEDNzMzMTKCFQAAAAACAXoZAMzMzM7Mch0BmZmZm5tqHQJqZmZkZmYhAzczMzExXiUAAAAAAgBWKQDMzMzOz04pAZmZmZuaRi0CamZmZGVCMQM3MzMxMDo1AAAAAAIDMjUAzMzMzs4qOQGZmZmbmSI9A\",\"dtype\":\"float64\",\"shape\":[75]}},\"selected\":{\"id\":\"b424aabf-efe7-4e80-8653-c0d8f3730914\",\"type\":\"Selection\"},\"selection_policy\":{\"id\":\"4373e5fd-ebe2-4de1-a122-25e5f9334e68\",\"type\":\"UnionRenderers\"}},\"id\":\"f5e1aaf9-ea09-47f7-a8e6-6a6d7a3f0eee\",\"type\":\"ColumnDataSource\"},{\"attributes\":{\"label\":{\"value\":\"CLIRAD (single-run) - CRD\"},\"renderers\":[{\"id\":\"df034069-3124-4347-875a-8176e4a66414\",\"type\":\"GlyphRenderer\"},{\"id\":\"5026a11f-a5a1-4609-8fe0-45d1ad8a76ad\",\"type\":\"GlyphRenderer\"}]},\"id\":\"90e0c539-3225-4aaf-9603-47f92612ca7c\",\"type\":\"LegendItem\"},{\"attributes\":{},\"id\":\"95f39a8b-6b4c-4966-b899-c3925d939381\",\"type\":\"BasicTickFormatter\"},{\"attributes\":{\"axis_label\":\"cooling rate [K/day]\",\"formatter\":{\"id\":\"95f39a8b-6b4c-4966-b899-c3925d939381\",\"type\":\"BasicTickFormatter\"},\"plot\":{\"id\":\"b467c49a-a41b-41e3-a020-302c240953fa\",\"subtype\":\"Figure\",\"type\":\"Plot\"},\"ticker\":{\"id\":\"173cd17a-6bdb-4963-952c-ba683f00ffa9\",\"type\":\"BasicTicker\"}},\"id\":\"9ffa2659-869e-44ef-ad3c-456ba564305a\",\"type\":\"LinearAxis\"},{\"attributes\":{\"data_source\":{\"id\":\"3817c864-b660-4584-89b5-34274d000006\",\"type\":\"ColumnDataSource\"},\"glyph\":{\"id\":\"5c78064c-0da8-48a1-ae24-1ae290fb4dbd\",\"type\":\"Line\"},\"hover_glyph\":null,\"muted_glyph\":null,\"nonselection_glyph\":{\"id\":\"f1e54706-38e7-4218-8ec7-b035d89e7772\",\"type\":\"Line\"},\"selection_glyph\":null,\"view\":{\"id\":\"a4ea90bf-3033-4385-bc8d-8cab9d14e95e\",\"type\":\"CDSView\"}},\"id\":\"5026a11f-a5a1-4609-8fe0-45d1ad8a76ad\",\"type\":\"GlyphRenderer\"},{\"attributes\":{\"overlay\":{\"id\":\"a8c1c8f7-0e00-4e54-8038-ee34b4981758\",\"type\":\"BoxAnnotation\"}},\"id\":\"88edaf07-8468-4ba5-b968-30bd952538c5\",\"type\":\"BoxZoomTool\"},{\"attributes\":{},\"id\":\"edf7779e-d439-4545-9d08-15bf184477ab\",\"type\":\"SaveTool\"},{\"attributes\":{\"label\":{\"value\":\"old CLIRAD (H2012) - CRD\"},\"renderers\":[{\"id\":\"c18431cb-b4e9-486f-8cd6-bdaacc0b3fdb\",\"type\":\"GlyphRenderer\"}]},\"id\":\"2224c6f7-2995-417c-b1da-ae0510d8a0de\",\"type\":\"LegendItem\"},{\"attributes\":{},\"id\":\"96d611eb-5bb4-4bcc-a05f-18044763cfc5\",\"type\":\"LinearScale\"},{\"attributes\":{},\"id\":\"4cb27775-1545-404e-8c3a-49561a889b87\",\"type\":\"PanTool\"},{\"attributes\":{\"above\":[{\"id\":\"6ba1b49c-5f0b-4693-90e0-ebb94ed23a4e\",\"type\":\"Legend\"}],\"below\":[{\"id\":\"9ffa2659-869e-44ef-ad3c-456ba564305a\",\"type\":\"LinearAxis\"}],\"left\":[{\"id\":\"e2f48a4e-2025-4516-8473-0e95bff05afa\",\"type\":\"LogAxis\"}],\"plot_width\":300,\"renderers\":[{\"id\":\"9ffa2659-869e-44ef-ad3c-456ba564305a\",\"type\":\"LinearAxis\"},{\"id\":\"7b480d66-1a16-486a-9c57-9fc0607f6cda\",\"type\":\"Grid\"},{\"id\":\"e2f48a4e-2025-4516-8473-0e95bff05afa\",\"type\":\"LogAxis\"},{\"id\":\"5e9dde80-ce89-47cb-b00d-7394ae421f56\",\"type\":\"Grid\"},{\"id\":\"a8c1c8f7-0e00-4e54-8038-ee34b4981758\",\"type\":\"BoxAnnotation\"},{\"id\":\"df034069-3124-4347-875a-8176e4a66414\",\"type\":\"GlyphRenderer\"},{\"id\":\"5026a11f-a5a1-4609-8fe0-45d1ad8a76ad\",\"type\":\"GlyphRenderer\"},{\"id\":\"c18431cb-b4e9-486f-8cd6-bdaacc0b3fdb\",\"type\":\"GlyphRenderer\"},{\"id\":\"6ba1b49c-5f0b-4693-90e0-ebb94ed23a4e\",\"type\":\"Legend\"}],\"title\":{\"id\":\"9be7451a-cb34-42e4-a673-babcb18a04ed\",\"type\":\"Title\"},\"toolbar\":{\"id\":\"8c0e87a9-b304-42d2-93f5-ef5b65565eea\",\"type\":\"Toolbar\"},\"toolbar_location\":null,\"x_range\":{\"id\":\"4daaf85f-0d0a-47f6-8978-6bcc7eeeb03c\",\"type\":\"Range1d\"},\"x_scale\":{\"id\":\"96d611eb-5bb4-4bcc-a05f-18044763cfc5\",\"type\":\"LinearScale\"},\"y_range\":{\"id\":\"60971da9-8848-4189-8924-0c57bb812240\",\"type\":\"Range1d\"},\"y_scale\":{\"id\":\"316309eb-f8d2-411b-8582-e7cc676f8f86\",\"type\":\"LogScale\"}},\"id\":\"b467c49a-a41b-41e3-a020-302c240953fa\",\"subtype\":\"Figure\",\"type\":\"Plot\"},{\"attributes\":{\"tools\":[{\"id\":\"c39a2de9-3801-4750-93ee-2397f6fc49a0\",\"type\":\"PanTool\"},{\"id\":\"0ac67f49-7edb-490f-bece-f6d47944f02c\",\"type\":\"WheelZoomTool\"},{\"id\":\"7874d515-f13b-48a6-a036-7e3ed76a2001\",\"type\":\"BoxZoomTool\"},{\"id\":\"c2857296-d281-4bcf-9566-86a4879518bb\",\"type\":\"SaveTool\"},{\"id\":\"e2b6a424-10cb-4f98-85fc-d2bf6a35f7f8\",\"type\":\"ResetTool\"},{\"id\":\"eb367f2a-87f1-4754-9aa7-24837a9cccb8\",\"type\":\"HelpTool\"},{\"id\":\"8646d82c-11e9-497a-82d6-329573dd9ed8\",\"type\":\"PanTool\"},{\"id\":\"b2e692b1-1149-4fa5-bc18-8de826acef43\",\"type\":\"WheelZoomTool\"},{\"id\":\"8c614d54-e704-4462-9813-c4adead6b209\",\"type\":\"BoxZoomTool\"},{\"id\":\"5e1f1aa1-b29b-4198-b46b-065c1ca3f627\",\"type\":\"SaveTool\"},{\"id\":\"4e41a8c0-fcbb-4a8d-9d9b-c460c352dc45\",\"type\":\"ResetTool\"},{\"id\":\"1b8952d3-07a3-44d5-b65c-8691dc6d7a7e\",\"type\":\"HelpTool\"},{\"id\":\"4cb27775-1545-404e-8c3a-49561a889b87\",\"type\":\"PanTool\"},{\"id\":\"e0ed8946-66a7-4d8c-b714-bb633205a505\",\"type\":\"WheelZoomTool\"},{\"id\":\"88edaf07-8468-4ba5-b968-30bd952538c5\",\"type\":\"BoxZoomTool\"},{\"id\":\"edf7779e-d439-4545-9d08-15bf184477ab\",\"type\":\"SaveTool\"},{\"id\":\"0c2b7b03-a85b-483b-af36-a91fc629b68b\",\"type\":\"ResetTool\"},{\"id\":\"7d384121-f6ec-4712-8da5-179e6645b0e2\",\"type\":\"HelpTool\"}]},\"id\":\"8beb59bf-10f5-41d4-ac19-68a50c9b1b28\",\"type\":\"ProxyToolbar\"},{\"attributes\":{},\"id\":\"b424aabf-efe7-4e80-8653-c0d8f3730914\",\"type\":\"Selection\"},{\"attributes\":{},\"id\":\"e3c13a80-ca9c-43da-a0bf-48871e8e8ea0\",\"type\":\"Selection\"},{\"attributes\":{\"dimension\":1,\"plot\":{\"id\":\"b467c49a-a41b-41e3-a020-302c240953fa\",\"subtype\":\"Figure\",\"type\":\"Plot\"},\"ticker\":{\"id\":\"dcfc5188-15c0-4ae3-9904-c1e88bd9d824\",\"type\":\"LogTicker\"}},\"id\":\"5e9dde80-ce89-47cb-b00d-7394ae421f56\",\"type\":\"Grid\"},{\"attributes\":{},\"id\":\"6f44b460-5342-45cc-a374-4708ea15a7ba\",\"type\":\"Selection\"},{\"attributes\":{\"children\":[{\"id\":\"7ffa505b-04d6-4292-bd9e-91de764ad5ca\",\"type\":\"Row\"}]},\"id\":\"46e2c6fc-a4dc-4777-8d52-03eacdc0ed49\",\"type\":\"Column\"},{\"attributes\":{\"bottom_units\":\"screen\",\"fill_alpha\":{\"value\":0.5},\"fill_color\":{\"value\":\"lightgrey\"},\"left_units\":\"screen\",\"level\":\"overlay\",\"line_alpha\":{\"value\":1.0},\"line_color\":{\"value\":\"black\"},\"line_dash\":[4,4],\"line_width\":{\"value\":2},\"plot\":null,\"render_mode\":\"css\",\"right_units\":\"screen\",\"top_units\":\"screen\"},\"id\":\"a8c1c8f7-0e00-4e54-8038-ee34b4981758\",\"type\":\"BoxAnnotation\"},{\"attributes\":{},\"id\":\"ddef1710-699c-43fc-8899-9c74c5afa7e0\",\"type\":\"BasicTickFormatter\"},{\"attributes\":{\"ticker\":null},\"id\":\"c57da56d-02b7-48eb-89af-a7156920c570\",\"type\":\"LogTickFormatter\"},{\"attributes\":{\"plot\":{\"id\":\"b467c49a-a41b-41e3-a020-302c240953fa\",\"subtype\":\"Figure\",\"type\":\"Plot\"},\"ticker\":{\"id\":\"173cd17a-6bdb-4963-952c-ba683f00ffa9\",\"type\":\"BasicTicker\"}},\"id\":\"7b480d66-1a16-486a-9c57-9fc0607f6cda\",\"type\":\"Grid\"},{\"attributes\":{},\"id\":\"863bd0d2-b5ac-48c3-ac63-d8db2d8ba804\",\"type\":\"BasicTickFormatter\"},{\"attributes\":{\"data_source\":{\"id\":\"9be8f18e-6d46-4063-abc0-cc50b5fd33b0\",\"type\":\"ColumnDataSource\"},\"glyph\":{\"id\":\"eebd1597-d761-4148-90f7-27c71a44dfed\",\"type\":\"Line\"},\"hover_glyph\":null,\"muted_glyph\":null,\"nonselection_glyph\":{\"id\":\"dcc1f0a9-878c-4836-8a3a-d2ba4a2f81a1\",\"type\":\"Line\"},\"selection_glyph\":null,\"view\":{\"id\":\"0b05a0a1-5ec8-4bfc-8bf0-1c3b6879ae9b\",\"type\":\"CDSView\"}},\"id\":\"c4edb6dc-e554-4685-8fe0-05b90a9c7876\",\"type\":\"GlyphRenderer\"},{\"attributes\":{},\"id\":\"3d68a1de-aae8-4346-9d8c-e745f4e3860d\",\"type\":\"Selection\"},{\"attributes\":{},\"id\":\"0c2b7b03-a85b-483b-af36-a91fc629b68b\",\"type\":\"ResetTool\"},{\"attributes\":{},\"id\":\"6b0df9fe-218e-4f94-8031-6123f9897b4e\",\"type\":\"Selection\"},{\"attributes\":{},\"id\":\"316309eb-f8d2-411b-8582-e7cc676f8f86\",\"type\":\"LogScale\"},{\"attributes\":{},\"id\":\"b6ee64e0-9ee5-4e7f-b3f3-3cd4fd2eca87\",\"type\":\"UnionRenderers\"},{\"attributes\":{},\"id\":\"f10950a0-77b6-4100-a160-811a6badf8af\",\"type\":\"UnionRenderers\"},{\"attributes\":{\"toolbar\":{\"id\":\"8beb59bf-10f5-41d4-ac19-68a50c9b1b28\",\"type\":\"ProxyToolbar\"},\"toolbar_location\":\"above\"},\"id\":\"3b425fe1-dd8e-4928-a0ea-0d81764594db\",\"type\":\"ToolbarBox\"},{\"attributes\":{\"callback\":null,\"end\":0.01,\"start\":1020},\"id\":\"3ac8df31-8ea3-4e29-bc33-a3a726cd85a7\",\"type\":\"Range1d\"},{\"attributes\":{},\"id\":\"5e5faea4-34ed-4a74-b521-cac4a3f8a824\",\"type\":\"Selection\"},{\"attributes\":{\"active_drag\":\"auto\",\"active_inspect\":\"auto\",\"active_scroll\":\"auto\",\"active_tap\":\"auto\",\"tools\":[{\"id\":\"4cb27775-1545-404e-8c3a-49561a889b87\",\"type\":\"PanTool\"},{\"id\":\"e0ed8946-66a7-4d8c-b714-bb633205a505\",\"type\":\"WheelZoomTool\"},{\"id\":\"88edaf07-8468-4ba5-b968-30bd952538c5\",\"type\":\"BoxZoomTool\"},{\"id\":\"edf7779e-d439-4545-9d08-15bf184477ab\",\"type\":\"SaveTool\"},{\"id\":\"0c2b7b03-a85b-483b-af36-a91fc629b68b\",\"type\":\"ResetTool\"},{\"id\":\"7d384121-f6ec-4712-8da5-179e6645b0e2\",\"type\":\"HelpTool\"}]},\"id\":\"8c0e87a9-b304-42d2-93f5-ef5b65565eea\",\"type\":\"Toolbar\"},{\"attributes\":{},\"id\":\"819dca3e-be47-47c6-8c58-087673170d40\",\"type\":\"BasicTicker\"},{\"attributes\":{\"plot\":null,\"text\":\"\"},\"id\":\"2e2c44f4-36e8-4741-b1ed-552c82223611\",\"type\":\"Title\"},{\"attributes\":{\"line_alpha\":0.1,\"line_color\":\"#1f77b4\",\"line_width\":1.5,\"x\":{\"field\":\"x\"},\"y\":{\"field\":\"y\"}},\"id\":\"f1e54706-38e7-4218-8ec7-b035d89e7772\",\"type\":\"Line\"},{\"attributes\":{\"plot\":null,\"text\":\"\"},\"id\":\"9be7451a-cb34-42e4-a673-babcb18a04ed\",\"type\":\"Title\"}],\"root_ids\":[\"3fa23b50-c996-4f01-8222-ce249c3a2553\"]},\"title\":\"Bokeh Application\",\"version\":\"0.12.16\"}};\n",
       "  var render_items = [{\"docid\":\"d1b6aa2a-9723-420e-b7bb-d27b358245ca\",\"elementid\":\"1ce7af2e-09ed-4c8f-8afc-a82a23258ff8\",\"modelid\":\"3fa23b50-c996-4f01-8222-ce249c3a2553\"}];\n",
       "  root.Bokeh.embed.embed_items_notebook(docs_json, render_items);\n",
       "\n",
       "  }\n",
       "  if (root.Bokeh !== undefined) {\n",
       "    embed_document(root);\n",
       "  } else {\n",
       "    var attempts = 0;\n",
       "    var timer = setInterval(function(root) {\n",
       "      if (root.Bokeh !== undefined) {\n",
       "        embed_document(root);\n",
       "        clearInterval(timer);\n",
       "      }\n",
       "      attempts++;\n",
       "      if (attempts > 100) {\n",
       "        console.log(\"Bokeh: ERROR: Unable to run BokehJS code because BokehJS library is missing\")\n",
       "        clearInterval(timer);\n",
       "      }\n",
       "    }, 10, root)\n",
       "  }\n",
       "})(window);"
      ],
      "application/vnd.bokehjs_exec.v0+json": ""
     },
     "metadata": {
      "application/vnd.bokehjs_exec.v0+json": {
       "id": "3fa23b50-c996-4f01-8222-ce249c3a2553"
      }
     },
     "output_type": "display_data"
    },
    {
     "data": {
      "text/markdown": [
       "*FIGURE.* Cooling rates & difference."
      ],
      "text/plain": [
       "<IPython.core.display.Markdown object>"
      ]
     },
     "metadata": {},
     "output_type": "display_data"
    },
    {
     "data": {
      "text/html": [
       "<a id=\"Fluxes._mls.\"></a>"
      ],
      "text/plain": [
       "<IPython.core.display.HTML object>"
      ]
     },
     "metadata": {},
     "output_type": "display_data"
    },
    {
     "data": {
      "text/markdown": [
       "# Fluxes. mls."
      ],
      "text/plain": [
       "<IPython.core.display.Markdown object>"
      ]
     },
     "metadata": {},
     "output_type": "display_data"
    },
    {
     "data": {
      "text/html": [
       "\n",
       "<div class=\"bk-root\">\n",
       "    <div class=\"bk-plotdiv\" id=\"f7470f54-9e41-4648-a94a-12adb3ba0c2e\"></div>\n",
       "</div>"
      ]
     },
     "metadata": {},
     "output_type": "display_data"
    },
    {
     "data": {
      "application/javascript": [
       "(function(root) {\n",
       "  function embed_document(root) {\n",
       "    \n",
       "  var docs_json = {\"bebbabb6-4ea2-4c32-9647-5ed0f258c7ff\":{\"roots\":{\"references\":[{\"attributes\":{},\"id\":\"a05744fc-92a5-4f4e-b387-29ab1918b409\",\"type\":\"CategoricalScale\"},{\"attributes\":{\"children\":[{\"id\":\"dd6f279a-2927-4260-9218-22adb0945c96\",\"subtype\":\"Figure\",\"type\":\"Plot\"},{\"id\":\"3b75d15f-d3b3-4d3f-909f-b12f3d28b65a\",\"subtype\":\"Figure\",\"type\":\"Plot\"},{\"id\":\"d89f3485-bf8f-409f-8780-692347bc1995\",\"subtype\":\"Figure\",\"type\":\"Plot\"}]},\"id\":\"5a57c4fb-e09a-4bef-8bf7-c4650c0cca64\",\"type\":\"Row\"},{\"attributes\":{},\"id\":\"f2eba5e8-93b9-4bc9-86e0-dd6949b87ef8\",\"type\":\"CategoricalTicker\"},{\"attributes\":{},\"id\":\"1533d022-6cb1-46a2-bd08-6de5c820929a\",\"type\":\"WheelZoomTool\"},{\"attributes\":{\"below\":[{\"id\":\"024b0a56-90b3-4a0d-aea6-3ae22087e3dc\",\"type\":\"CategoricalAxis\"}],\"left\":[{\"id\":\"1cb471d4-bc0b-4b09-a05f-059679333c35\",\"type\":\"LinearAxis\"}],\"plot_height\":300,\"plot_width\":300,\"renderers\":[{\"id\":\"024b0a56-90b3-4a0d-aea6-3ae22087e3dc\",\"type\":\"CategoricalAxis\"},{\"id\":\"32267300-62c9-4972-9731-5bf4b8d571ad\",\"type\":\"Grid\"},{\"id\":\"1cb471d4-bc0b-4b09-a05f-059679333c35\",\"type\":\"LinearAxis\"},{\"id\":\"cb8cfa13-b1f7-4568-b72e-47088897dea6\",\"type\":\"Grid\"},{\"id\":\"6b45b49d-0909-4b6c-8709-9930930e4865\",\"type\":\"BoxAnnotation\"},{\"id\":\"53c491c1-2341-4739-86fb-7f70d8af639e\",\"type\":\"GlyphRenderer\"}],\"title\":{\"id\":\"3724ba33-b486-4797-9e14-67b4db54495a\",\"type\":\"Title\"},\"toolbar\":{\"id\":\"4662fd99-777b-4231-ad73-3b9216901774\",\"type\":\"Toolbar\"},\"toolbar_location\":null,\"x_range\":{\"id\":\"adff380a-4ca4-41c8-b9a5-e9f8163ca73c\",\"type\":\"FactorRange\"},\"x_scale\":{\"id\":\"a05744fc-92a5-4f4e-b387-29ab1918b409\",\"type\":\"CategoricalScale\"},\"y_range\":{\"id\":\"2969eb3e-1b8a-4534-b5a3-9f8702cb92d5\",\"type\":\"DataRange1d\"},\"y_scale\":{\"id\":\"a488ac03-bc64-4ff1-a3dd-a5668a7d18d2\",\"type\":\"LinearScale\"}},\"id\":\"d89f3485-bf8f-409f-8780-692347bc1995\",\"subtype\":\"Figure\",\"type\":\"Plot\"},{\"attributes\":{\"callback\":null},\"id\":\"df8cb636-1f76-4c75-b8d1-e8b8718dca63\",\"type\":\"DataRange1d\"},{\"attributes\":{\"tools\":[{\"id\":\"07a7501a-ad90-4609-a67c-0a9264eaeafb\",\"type\":\"PanTool\"},{\"id\":\"f5a4413d-6474-4efb-b7a2-7f0860064de7\",\"type\":\"WheelZoomTool\"},{\"id\":\"074b4e37-6755-46c8-8c88-72bbd5cc7aac\",\"type\":\"BoxZoomTool\"},{\"id\":\"1c9b36ee-0df6-4116-b022-3f2397466ca9\",\"type\":\"SaveTool\"},{\"id\":\"de3c2c31-f221-4e91-adce-12aeefc51e54\",\"type\":\"ResetTool\"},{\"id\":\"b8b4e535-3c0e-4a03-9e62-760d0b78ac91\",\"type\":\"HelpTool\"},{\"id\":\"aff95e0a-e1ca-4ad5-bac6-59f7fcc0a1ba\",\"type\":\"PanTool\"},{\"id\":\"1533d022-6cb1-46a2-bd08-6de5c820929a\",\"type\":\"WheelZoomTool\"},{\"id\":\"3fdab012-581d-4904-b686-2e8be3d189aa\",\"type\":\"BoxZoomTool\"},{\"id\":\"58c0f914-789b-4599-8b40-00cab3f11286\",\"type\":\"SaveTool\"},{\"id\":\"a76d8211-4f22-4d76-a776-ba8a0d9d98e0\",\"type\":\"ResetTool\"},{\"id\":\"d0ededdd-f75e-4899-9f0c-c1aea661e074\",\"type\":\"HelpTool\"},{\"id\":\"2c09b97c-63ea-4a61-8524-0c188334003b\",\"type\":\"PanTool\"},{\"id\":\"de274650-4ab8-43a8-949b-4b961cfb5030\",\"type\":\"WheelZoomTool\"},{\"id\":\"b896f79e-cd80-4704-b404-ec9ca805c4b6\",\"type\":\"BoxZoomTool\"},{\"id\":\"0d8a740a-5eda-49cc-8406-0ba443eb62cc\",\"type\":\"SaveTool\"},{\"id\":\"e31f7882-00c0-494d-9859-37c6f2042e44\",\"type\":\"ResetTool\"},{\"id\":\"9faef5d1-5219-4d70-b335-726424496cdd\",\"type\":\"HelpTool\"}]},\"id\":\"a036c2d1-5788-484e-ba34-ed2c38667fed\",\"type\":\"ProxyToolbar\"},{\"attributes\":{},\"id\":\"de274650-4ab8-43a8-949b-4b961cfb5030\",\"type\":\"WheelZoomTool\"},{\"attributes\":{\"plot\":{\"id\":\"d89f3485-bf8f-409f-8780-692347bc1995\",\"subtype\":\"Figure\",\"type\":\"Plot\"},\"ticker\":{\"id\":\"f2eba5e8-93b9-4bc9-86e0-dd6949b87ef8\",\"type\":\"CategoricalTicker\"}},\"id\":\"32267300-62c9-4972-9731-5bf4b8d571ad\",\"type\":\"Grid\"},{\"attributes\":{},\"id\":\"514840fa-7922-4589-af8b-948ef96b4474\",\"type\":\"BasicTicker\"},{\"attributes\":{\"active_drag\":\"auto\",\"active_inspect\":\"auto\",\"active_scroll\":\"auto\",\"active_tap\":\"auto\",\"tools\":[{\"id\":\"07a7501a-ad90-4609-a67c-0a9264eaeafb\",\"type\":\"PanTool\"},{\"id\":\"f5a4413d-6474-4efb-b7a2-7f0860064de7\",\"type\":\"WheelZoomTool\"},{\"id\":\"074b4e37-6755-46c8-8c88-72bbd5cc7aac\",\"type\":\"BoxZoomTool\"},{\"id\":\"1c9b36ee-0df6-4116-b022-3f2397466ca9\",\"type\":\"SaveTool\"},{\"id\":\"de3c2c31-f221-4e91-adce-12aeefc51e54\",\"type\":\"ResetTool\"},{\"id\":\"b8b4e535-3c0e-4a03-9e62-760d0b78ac91\",\"type\":\"HelpTool\"}]},\"id\":\"37f6a3d6-e2f8-48b5-a78a-c9540281411f\",\"type\":\"Toolbar\"},{\"attributes\":{\"overlay\":{\"id\":\"baa6ee5a-2d5d-4593-b675-b808cdf2e41f\",\"type\":\"BoxAnnotation\"}},\"id\":\"3fdab012-581d-4904-b686-2e8be3d189aa\",\"type\":\"BoxZoomTool\"},{\"attributes\":{},\"id\":\"e31f7882-00c0-494d-9859-37c6f2042e44\",\"type\":\"ResetTool\"},{\"attributes\":{\"active_drag\":\"auto\",\"active_inspect\":\"auto\",\"active_scroll\":\"auto\",\"active_tap\":\"auto\",\"tools\":[{\"id\":\"2c09b97c-63ea-4a61-8524-0c188334003b\",\"type\":\"PanTool\"},{\"id\":\"de274650-4ab8-43a8-949b-4b961cfb5030\",\"type\":\"WheelZoomTool\"},{\"id\":\"b896f79e-cd80-4704-b404-ec9ca805c4b6\",\"type\":\"BoxZoomTool\"},{\"id\":\"0d8a740a-5eda-49cc-8406-0ba443eb62cc\",\"type\":\"SaveTool\"},{\"id\":\"e31f7882-00c0-494d-9859-37c6f2042e44\",\"type\":\"ResetTool\"},{\"id\":\"9faef5d1-5219-4d70-b335-726424496cdd\",\"type\":\"HelpTool\"}]},\"id\":\"4662fd99-777b-4231-ad73-3b9216901774\",\"type\":\"Toolbar\"},{\"attributes\":{\"children\":[{\"id\":\"1c1b2907-10f5-4701-84d2-7619a2b0d551\",\"type\":\"ToolbarBox\"},{\"id\":\"ca7cb9e4-03d6-414b-a8a6-36f54c7c0a0d\",\"type\":\"Column\"}]},\"id\":\"16b44b9b-42b3-44ba-8474-6a410bcb7cb3\",\"type\":\"Column\"},{\"attributes\":{\"plot\":null,\"text\":\"Atmosphere heating. CLIRAD (single-run) - CRD.\"},\"id\":\"3724ba33-b486-4797-9e14-67b4db54495a\",\"type\":\"Title\"},{\"attributes\":{\"overlay\":{\"id\":\"6b45b49d-0909-4b6c-8709-9930930e4865\",\"type\":\"BoxAnnotation\"}},\"id\":\"b896f79e-cd80-4704-b404-ec9ca805c4b6\",\"type\":\"BoxZoomTool\"},{\"attributes\":{\"plot\":null,\"text\":\"TOA flux. CLIRAD (single-run) - CRD.\"},\"id\":\"39d1d9c6-3a30-4088-b7f0-3df566e85c00\",\"type\":\"Title\"},{\"attributes\":{\"callback\":null,\"factors\":[\"1\",\"2\",\"3\",\"4\",\"5\",\"6\",\"7\",\"8\",\"9\",\"10\",\"11\"]},\"id\":\"adff380a-4ca4-41c8-b9a5-e9f8163ca73c\",\"type\":\"FactorRange\"},{\"attributes\":{\"active_drag\":\"auto\",\"active_inspect\":\"auto\",\"active_scroll\":\"auto\",\"active_tap\":\"auto\",\"tools\":[{\"id\":\"aff95e0a-e1ca-4ad5-bac6-59f7fcc0a1ba\",\"type\":\"PanTool\"},{\"id\":\"1533d022-6cb1-46a2-bd08-6de5c820929a\",\"type\":\"WheelZoomTool\"},{\"id\":\"3fdab012-581d-4904-b686-2e8be3d189aa\",\"type\":\"BoxZoomTool\"},{\"id\":\"58c0f914-789b-4599-8b40-00cab3f11286\",\"type\":\"SaveTool\"},{\"id\":\"a76d8211-4f22-4d76-a776-ba8a0d9d98e0\",\"type\":\"ResetTool\"},{\"id\":\"d0ededdd-f75e-4899-9f0c-c1aea661e074\",\"type\":\"HelpTool\"}]},\"id\":\"dcd502ee-0dcd-4f23-8e3f-e4ff7efa91b7\",\"type\":\"Toolbar\"},{\"attributes\":{\"axis_label\":\"flux (W m-2)\",\"formatter\":{\"id\":\"f7761677-207a-4fda-9a63-cbcd316fadd2\",\"type\":\"BasicTickFormatter\"},\"plot\":{\"id\":\"3b75d15f-d3b3-4d3f-909f-b12f3d28b65a\",\"subtype\":\"Figure\",\"type\":\"Plot\"},\"ticker\":{\"id\":\"5a1d06d1-11a8-4c64-b4df-b6f23d5bc483\",\"type\":\"BasicTicker\"}},\"id\":\"98e79409-7d09-4d78-a6e3-c232f0031032\",\"type\":\"LinearAxis\"},{\"attributes\":{},\"id\":\"0b72d168-1e88-4c96-8892-c07d661835be\",\"type\":\"UnionRenderers\"},{\"attributes\":{},\"id\":\"0d8a740a-5eda-49cc-8406-0ba443eb62cc\",\"type\":\"SaveTool\"},{\"attributes\":{},\"id\":\"9faef5d1-5219-4d70-b335-726424496cdd\",\"type\":\"HelpTool\"},{\"attributes\":{\"toolbar\":{\"id\":\"a036c2d1-5788-484e-ba34-ed2c38667fed\",\"type\":\"ProxyToolbar\"},\"toolbar_location\":\"above\"},\"id\":\"1c1b2907-10f5-4701-84d2-7619a2b0d551\",\"type\":\"ToolbarBox\"},{\"attributes\":{\"axis_label\":\"spectral band\",\"formatter\":{\"id\":\"afc2099b-aedc-4de5-9616-dd85628978d6\",\"type\":\"CategoricalTickFormatter\"},\"plot\":{\"id\":\"d89f3485-bf8f-409f-8780-692347bc1995\",\"subtype\":\"Figure\",\"type\":\"Plot\"},\"ticker\":{\"id\":\"f2eba5e8-93b9-4bc9-86e0-dd6949b87ef8\",\"type\":\"CategoricalTicker\"}},\"id\":\"024b0a56-90b3-4a0d-aea6-3ae22087e3dc\",\"type\":\"CategoricalAxis\"},{\"attributes\":{\"bottom_units\":\"screen\",\"fill_alpha\":{\"value\":0.5},\"fill_color\":{\"value\":\"lightgrey\"},\"left_units\":\"screen\",\"level\":\"overlay\",\"line_alpha\":{\"value\":1.0},\"line_color\":{\"value\":\"black\"},\"line_dash\":[4,4],\"line_width\":{\"value\":2},\"plot\":null,\"render_mode\":\"css\",\"right_units\":\"screen\",\"top_units\":\"screen\"},\"id\":\"6b45b49d-0909-4b6c-8709-9930930e4865\",\"type\":\"BoxAnnotation\"},{\"attributes\":{},\"id\":\"1fb75f43-3147-42c5-a539-4c706e84de2c\",\"type\":\"CategoricalScale\"},{\"attributes\":{\"callback\":null,\"factors\":[\"1\",\"2\",\"3\",\"4\",\"5\",\"6\",\"7\",\"8\",\"9\",\"10\",\"11\"]},\"id\":\"da36ef6d-f315-48ef-a62b-0a45a15c9ba3\",\"type\":\"FactorRange\"},{\"attributes\":{\"fill_alpha\":{\"value\":0.1},\"fill_color\":{\"value\":\"#1f77b4\"},\"line_alpha\":{\"value\":0.1},\"line_color\":{\"value\":\"#1f77b4\"},\"top\":{\"field\":\"flux\"},\"width\":{\"value\":0.9},\"x\":{\"field\":\"band\"}},\"id\":\"caa13bec-f6a8-44e1-a294-d5b8f42b7286\",\"type\":\"VBar\"},{\"attributes\":{},\"id\":\"fa701a1b-fac3-494f-a39c-cf2976fd79d0\",\"type\":\"BasicTickFormatter\"},{\"attributes\":{\"source\":{\"id\":\"e618be80-8daa-451d-9b15-d48760161b63\",\"type\":\"ColumnDataSource\"}},\"id\":\"beb5152a-90e1-4392-a93c-258b67a7cc4e\",\"type\":\"CDSView\"},{\"attributes\":{\"plot\":{\"id\":\"3b75d15f-d3b3-4d3f-909f-b12f3d28b65a\",\"subtype\":\"Figure\",\"type\":\"Plot\"},\"ticker\":{\"id\":\"b7684c98-e3c6-4fac-92ff-6f779fce89a2\",\"type\":\"CategoricalTicker\"}},\"id\":\"2646d4a6-4720-4d5f-b260-2a5703489547\",\"type\":\"Grid\"},{\"attributes\":{\"callback\":null,\"factors\":[\"1\",\"2\",\"3\",\"4\",\"5\",\"6\",\"7\",\"8\",\"9\",\"10\",\"11\"]},\"id\":\"ce8adf05-777e-4a4d-b8e0-56982e25ddc5\",\"type\":\"FactorRange\"},{\"attributes\":{},\"id\":\"afc2099b-aedc-4de5-9616-dd85628978d6\",\"type\":\"CategoricalTickFormatter\"},{\"attributes\":{\"children\":[{\"id\":\"5a57c4fb-e09a-4bef-8bf7-c4650c0cca64\",\"type\":\"Row\"}]},\"id\":\"ca7cb9e4-03d6-414b-a8a6-36f54c7c0a0d\",\"type\":\"Column\"},{\"attributes\":{\"below\":[{\"id\":\"ea390466-eb76-4c4b-88fb-4dd386bcc88e\",\"type\":\"CategoricalAxis\"}],\"left\":[{\"id\":\"7887bb58-53d7-494b-83aa-cd0822dbf147\",\"type\":\"LinearAxis\"}],\"plot_height\":300,\"plot_width\":300,\"renderers\":[{\"id\":\"ea390466-eb76-4c4b-88fb-4dd386bcc88e\",\"type\":\"CategoricalAxis\"},{\"id\":\"e67091aa-4973-4d87-89ca-0b1bf7a1c803\",\"type\":\"Grid\"},{\"id\":\"7887bb58-53d7-494b-83aa-cd0822dbf147\",\"type\":\"LinearAxis\"},{\"id\":\"d0175e01-2057-438f-8e09-53d95d0a2115\",\"type\":\"Grid\"},{\"id\":\"9e64da9c-229d-4e3a-a61c-0a29103fd2ea\",\"type\":\"BoxAnnotation\"},{\"id\":\"e5b19aaa-8d3f-46ae-95dd-245adac97d31\",\"type\":\"GlyphRenderer\"}],\"title\":{\"id\":\"39d1d9c6-3a30-4088-b7f0-3df566e85c00\",\"type\":\"Title\"},\"toolbar\":{\"id\":\"37f6a3d6-e2f8-48b5-a78a-c9540281411f\",\"type\":\"Toolbar\"},\"toolbar_location\":null,\"x_range\":{\"id\":\"da36ef6d-f315-48ef-a62b-0a45a15c9ba3\",\"type\":\"FactorRange\"},\"x_scale\":{\"id\":\"1fb75f43-3147-42c5-a539-4c706e84de2c\",\"type\":\"CategoricalScale\"},\"y_range\":{\"id\":\"df8cb636-1f76-4c75-b8d1-e8b8718dca63\",\"type\":\"DataRange1d\"},\"y_scale\":{\"id\":\"17c2e9e1-c8e8-4eca-867f-7ccc91b716bb\",\"type\":\"LinearScale\"}},\"id\":\"dd6f279a-2927-4260-9218-22adb0945c96\",\"subtype\":\"Figure\",\"type\":\"Plot\"},{\"attributes\":{},\"id\":\"2c09b97c-63ea-4a61-8524-0c188334003b\",\"type\":\"PanTool\"},{\"attributes\":{},\"id\":\"aff95e0a-e1ca-4ad5-bac6-59f7fcc0a1ba\",\"type\":\"PanTool\"},{\"attributes\":{\"callback\":null},\"id\":\"2969eb3e-1b8a-4534-b5a3-9f8702cb92d5\",\"type\":\"DataRange1d\"},{\"attributes\":{},\"id\":\"07fcd18d-b4fb-4baf-8e96-5e3000403dbf\",\"type\":\"BasicTickFormatter\"},{\"attributes\":{\"dimension\":1,\"plot\":{\"id\":\"3b75d15f-d3b3-4d3f-909f-b12f3d28b65a\",\"subtype\":\"Figure\",\"type\":\"Plot\"},\"ticker\":{\"id\":\"5a1d06d1-11a8-4c64-b4df-b6f23d5bc483\",\"type\":\"BasicTicker\"}},\"id\":\"31b3c921-f6fb-4d0a-9051-170de6381cdd\",\"type\":\"Grid\"},{\"attributes\":{},\"id\":\"a488ac03-bc64-4ff1-a3dd-a5668a7d18d2\",\"type\":\"LinearScale\"},{\"attributes\":{},\"id\":\"c8742b8d-a068-416f-9766-cf68624f1b0d\",\"type\":\"CategoricalTickFormatter\"},{\"attributes\":{},\"id\":\"b5ad240a-d79d-4469-9c3c-e1b47d52aa0c\",\"type\":\"Selection\"},{\"attributes\":{\"callback\":null,\"data\":{\"band\":[\"1\",\"2\",\"3\",\"4\",\"5\",\"6\",\"7\",\"8\",\"9\",\"10\",\"11\"],\"flux\":{\"__ndarray__\":\"AAAAAyUF9r4AgsR29wDYPwC4H/DAANO/ANyul6YIsD+Ajh6/t+nfPwB0ImabwLM/ALE8WXvplz/AoBNCB13Av4A0KnCyDcY/AKBF71TAjT8AcGzRXW2APw==\",\"dtype\":\"float64\",\"shape\":[11]}},\"selected\":{\"id\":\"39d08a9a-0e85-4229-9091-9488f38f9e43\",\"type\":\"Selection\"},\"selection_policy\":{\"id\":\"0b72d168-1e88-4c96-8892-c07d661835be\",\"type\":\"UnionRenderers\"}},\"id\":\"e618be80-8daa-451d-9b15-d48760161b63\",\"type\":\"ColumnDataSource\"},{\"attributes\":{},\"id\":\"5e54c3e5-afa3-44f5-9dcb-df9bb6569fc7\",\"type\":\"Selection\"},{\"attributes\":{\"dimension\":1,\"plot\":{\"id\":\"d89f3485-bf8f-409f-8780-692347bc1995\",\"subtype\":\"Figure\",\"type\":\"Plot\"},\"ticker\":{\"id\":\"514840fa-7922-4589-af8b-948ef96b4474\",\"type\":\"BasicTicker\"}},\"id\":\"cb8cfa13-b1f7-4568-b72e-47088897dea6\",\"type\":\"Grid\"},{\"attributes\":{\"fill_color\":{\"value\":\"#1f77b4\"},\"line_color\":{\"value\":\"#1f77b4\"},\"top\":{\"field\":\"flux\"},\"width\":{\"value\":0.9},\"x\":{\"field\":\"band\"}},\"id\":\"eaeb8a6a-5031-47d7-84ee-28f22d6d0c2a\",\"type\":\"VBar\"},{\"attributes\":{\"callback\":null},\"id\":\"ba323a07-916f-4078-9eb9-91a387b8a46f\",\"type\":\"DataRange1d\"},{\"attributes\":{\"fill_color\":{\"value\":\"#1f77b4\"},\"line_color\":{\"value\":\"#1f77b4\"},\"top\":{\"field\":\"flux\"},\"width\":{\"value\":0.9},\"x\":{\"field\":\"band\"}},\"id\":\"baa85bab-6202-4650-aadd-fecf9dde77ad\",\"type\":\"VBar\"},{\"attributes\":{},\"id\":\"19c9d596-0715-4757-903c-ca717b3c99cf\",\"type\":\"LinearScale\"},{\"attributes\":{\"bottom_units\":\"screen\",\"fill_alpha\":{\"value\":0.5},\"fill_color\":{\"value\":\"lightgrey\"},\"left_units\":\"screen\",\"level\":\"overlay\",\"line_alpha\":{\"value\":1.0},\"line_color\":{\"value\":\"black\"},\"line_dash\":[4,4],\"line_width\":{\"value\":2},\"plot\":null,\"render_mode\":\"css\",\"right_units\":\"screen\",\"top_units\":\"screen\"},\"id\":\"baa6ee5a-2d5d-4593-b675-b808cdf2e41f\",\"type\":\"BoxAnnotation\"},{\"attributes\":{},\"id\":\"635d6b3d-fb2b-4a7f-b949-7695576543f9\",\"type\":\"UnionRenderers\"},{\"attributes\":{},\"id\":\"f7761677-207a-4fda-9a63-cbcd316fadd2\",\"type\":\"BasicTickFormatter\"},{\"attributes\":{},\"id\":\"eca03fb5-8f9d-4921-9078-66263ca98364\",\"type\":\"CategoricalTickFormatter\"},{\"attributes\":{\"source\":{\"id\":\"63ca90a8-2330-4729-aa78-702f41d87edb\",\"type\":\"ColumnDataSource\"}},\"id\":\"5bf1be0d-2c34-4aa0-afb3-ccf90335361a\",\"type\":\"CDSView\"},{\"attributes\":{},\"id\":\"39d08a9a-0e85-4229-9091-9488f38f9e43\",\"type\":\"Selection\"},{\"attributes\":{\"axis_label\":\"spectral band\",\"formatter\":{\"id\":\"eca03fb5-8f9d-4921-9078-66263ca98364\",\"type\":\"CategoricalTickFormatter\"},\"plot\":{\"id\":\"3b75d15f-d3b3-4d3f-909f-b12f3d28b65a\",\"subtype\":\"Figure\",\"type\":\"Plot\"},\"ticker\":{\"id\":\"b7684c98-e3c6-4fac-92ff-6f779fce89a2\",\"type\":\"CategoricalTicker\"}},\"id\":\"0671c728-4ba3-4d2b-9729-037b830d1c26\",\"type\":\"CategoricalAxis\"},{\"attributes\":{},\"id\":\"f136a02b-1eca-4b8f-ad16-e864694c5559\",\"type\":\"UnionRenderers\"},{\"attributes\":{\"axis_label\":\"flux (W m-2)\",\"formatter\":{\"id\":\"fa701a1b-fac3-494f-a39c-cf2976fd79d0\",\"type\":\"BasicTickFormatter\"},\"plot\":{\"id\":\"d89f3485-bf8f-409f-8780-692347bc1995\",\"subtype\":\"Figure\",\"type\":\"Plot\"},\"ticker\":{\"id\":\"514840fa-7922-4589-af8b-948ef96b4474\",\"type\":\"BasicTicker\"}},\"id\":\"1cb471d4-bc0b-4b09-a05f-059679333c35\",\"type\":\"LinearAxis\"},{\"attributes\":{},\"id\":\"967694f7-26ba-490e-835c-3325feead453\",\"type\":\"CategoricalScale\"},{\"attributes\":{\"data_source\":{\"id\":\"63ca90a8-2330-4729-aa78-702f41d87edb\",\"type\":\"ColumnDataSource\"},\"glyph\":{\"id\":\"baa85bab-6202-4650-aadd-fecf9dde77ad\",\"type\":\"VBar\"},\"hover_glyph\":null,\"muted_glyph\":null,\"nonselection_glyph\":{\"id\":\"caa13bec-f6a8-44e1-a294-d5b8f42b7286\",\"type\":\"VBar\"},\"selection_glyph\":null,\"view\":{\"id\":\"5bf1be0d-2c34-4aa0-afb3-ccf90335361a\",\"type\":\"CDSView\"}},\"id\":\"53c491c1-2341-4739-86fb-7f70d8af639e\",\"type\":\"GlyphRenderer\"},{\"attributes\":{},\"id\":\"b7684c98-e3c6-4fac-92ff-6f779fce89a2\",\"type\":\"CategoricalTicker\"},{\"attributes\":{},\"id\":\"5a1d06d1-11a8-4c64-b4df-b6f23d5bc483\",\"type\":\"BasicTicker\"},{\"attributes\":{\"fill_alpha\":{\"value\":0.1},\"fill_color\":{\"value\":\"#1f77b4\"},\"line_alpha\":{\"value\":0.1},\"line_color\":{\"value\":\"#1f77b4\"},\"top\":{\"field\":\"flux\"},\"width\":{\"value\":0.9},\"x\":{\"field\":\"band\"}},\"id\":\"e70ca0d4-d459-418b-8d06-0f18d58bceb7\",\"type\":\"VBar\"},{\"attributes\":{\"below\":[{\"id\":\"0671c728-4ba3-4d2b-9729-037b830d1c26\",\"type\":\"CategoricalAxis\"}],\"left\":[{\"id\":\"98e79409-7d09-4d78-a6e3-c232f0031032\",\"type\":\"LinearAxis\"}],\"plot_height\":300,\"plot_width\":300,\"renderers\":[{\"id\":\"0671c728-4ba3-4d2b-9729-037b830d1c26\",\"type\":\"CategoricalAxis\"},{\"id\":\"2646d4a6-4720-4d5f-b260-2a5703489547\",\"type\":\"Grid\"},{\"id\":\"98e79409-7d09-4d78-a6e3-c232f0031032\",\"type\":\"LinearAxis\"},{\"id\":\"31b3c921-f6fb-4d0a-9051-170de6381cdd\",\"type\":\"Grid\"},{\"id\":\"baa6ee5a-2d5d-4593-b675-b808cdf2e41f\",\"type\":\"BoxAnnotation\"},{\"id\":\"0074e5cb-1b1f-40cc-a654-ef62d1d2b68f\",\"type\":\"GlyphRenderer\"}],\"title\":{\"id\":\"9a6993d3-2044-4d19-8a77-37689b3aabd5\",\"type\":\"Title\"},\"toolbar\":{\"id\":\"dcd502ee-0dcd-4f23-8e3f-e4ff7efa91b7\",\"type\":\"Toolbar\"},\"toolbar_location\":null,\"x_range\":{\"id\":\"ce8adf05-777e-4a4d-b8e0-56982e25ddc5\",\"type\":\"FactorRange\"},\"x_scale\":{\"id\":\"967694f7-26ba-490e-835c-3325feead453\",\"type\":\"CategoricalScale\"},\"y_range\":{\"id\":\"ba323a07-916f-4078-9eb9-91a387b8a46f\",\"type\":\"DataRange1d\"},\"y_scale\":{\"id\":\"19c9d596-0715-4757-903c-ca717b3c99cf\",\"type\":\"LinearScale\"}},\"id\":\"3b75d15f-d3b3-4d3f-909f-b12f3d28b65a\",\"subtype\":\"Figure\",\"type\":\"Plot\"},{\"attributes\":{\"bottom_units\":\"screen\",\"fill_alpha\":{\"value\":0.5},\"fill_color\":{\"value\":\"lightgrey\"},\"left_units\":\"screen\",\"level\":\"overlay\",\"line_alpha\":{\"value\":1.0},\"line_color\":{\"value\":\"black\"},\"line_dash\":[4,4],\"line_width\":{\"value\":2},\"plot\":null,\"render_mode\":\"css\",\"right_units\":\"screen\",\"top_units\":\"screen\"},\"id\":\"9e64da9c-229d-4e3a-a61c-0a29103fd2ea\",\"type\":\"BoxAnnotation\"},{\"attributes\":{},\"id\":\"1c9b36ee-0df6-4116-b022-3f2397466ca9\",\"type\":\"SaveTool\"},{\"attributes\":{},\"id\":\"17c2e9e1-c8e8-4eca-867f-7ccc91b716bb\",\"type\":\"LinearScale\"},{\"attributes\":{},\"id\":\"58c0f914-789b-4599-8b40-00cab3f11286\",\"type\":\"SaveTool\"},{\"attributes\":{\"callback\":null,\"data\":{\"band\":[\"1\",\"2\",\"3\",\"4\",\"5\",\"6\",\"7\",\"8\",\"9\",\"10\",\"11\"],\"flux\":{\"__ndarray__\":\"AIMde81dyD8AYEI3wVi1vwBYNyirM4i/ANGnfnO5zj9A+KOoM/fOvwBuLCgMysK/AHAlOzYC1z8AVGggls2kP8BJ06BoHsi/QL8FwBXcvT8AZ1U6DnKtPw==\",\"dtype\":\"float64\",\"shape\":[11]}},\"selected\":{\"id\":\"5e54c3e5-afa3-44f5-9dcb-df9bb6569fc7\",\"type\":\"Selection\"},\"selection_policy\":{\"id\":\"635d6b3d-fb2b-4a7f-b949-7695576543f9\",\"type\":\"UnionRenderers\"}},\"id\":\"63ca90a8-2330-4729-aa78-702f41d87edb\",\"type\":\"ColumnDataSource\"},{\"attributes\":{\"fill_alpha\":{\"value\":0.1},\"fill_color\":{\"value\":\"#1f77b4\"},\"line_alpha\":{\"value\":0.1},\"line_color\":{\"value\":\"#1f77b4\"},\"top\":{\"field\":\"flux\"},\"width\":{\"value\":0.9},\"x\":{\"field\":\"band\"}},\"id\":\"e73f980a-98f1-4a79-bb03-bfc3d9e363f2\",\"type\":\"VBar\"},{\"attributes\":{\"source\":{\"id\":\"6c685695-40f7-4e19-af9a-26ae729a7ccf\",\"type\":\"ColumnDataSource\"}},\"id\":\"125d7ea1-a3a2-4329-8f48-2585b11970a3\",\"type\":\"CDSView\"},{\"attributes\":{},\"id\":\"826f0c60-488f-4e0b-94a0-06676afb9478\",\"type\":\"BasicTicker\"},{\"attributes\":{},\"id\":\"f5a4413d-6474-4efb-b7a2-7f0860064de7\",\"type\":\"WheelZoomTool\"},{\"attributes\":{},\"id\":\"07a7501a-ad90-4609-a67c-0a9264eaeafb\",\"type\":\"PanTool\"},{\"attributes\":{},\"id\":\"e70eb705-de03-4487-873c-0e5c3625ff65\",\"type\":\"CategoricalTicker\"},{\"attributes\":{},\"id\":\"a76d8211-4f22-4d76-a776-ba8a0d9d98e0\",\"type\":\"ResetTool\"},{\"attributes\":{\"plot\":{\"id\":\"dd6f279a-2927-4260-9218-22adb0945c96\",\"subtype\":\"Figure\",\"type\":\"Plot\"},\"ticker\":{\"id\":\"e70eb705-de03-4487-873c-0e5c3625ff65\",\"type\":\"CategoricalTicker\"}},\"id\":\"e67091aa-4973-4d87-89ca-0b1bf7a1c803\",\"type\":\"Grid\"},{\"attributes\":{\"callback\":null,\"data\":{\"band\":[\"1\",\"2\",\"3\",\"4\",\"5\",\"6\",\"7\",\"8\",\"9\",\"10\",\"11\"],\"flux\":{\"__ndarray__\":\"AEILCRhdyD+AzEHQ0arSP0DMe5xpwtO/gGStodRe0z/ASgaAKm7QPwBwl/2607G/QKz+CMOA2D8AuOo6VFO2vwC2wvS9hpC/YNQ5UPHJwD9AvtXft8awPw==\",\"dtype\":\"float64\",\"shape\":[11]}},\"selected\":{\"id\":\"b5ad240a-d79d-4469-9c3c-e1b47d52aa0c\",\"type\":\"Selection\"},\"selection_policy\":{\"id\":\"f136a02b-1eca-4b8f-ad16-e864694c5559\",\"type\":\"UnionRenderers\"}},\"id\":\"6c685695-40f7-4e19-af9a-26ae729a7ccf\",\"type\":\"ColumnDataSource\"},{\"attributes\":{},\"id\":\"b8b4e535-3c0e-4a03-9e62-760d0b78ac91\",\"type\":\"HelpTool\"},{\"attributes\":{\"data_source\":{\"id\":\"6c685695-40f7-4e19-af9a-26ae729a7ccf\",\"type\":\"ColumnDataSource\"},\"glyph\":{\"id\":\"b7a5c8ca-08c6-4d9e-997c-078807e08c5f\",\"type\":\"VBar\"},\"hover_glyph\":null,\"muted_glyph\":null,\"nonselection_glyph\":{\"id\":\"e73f980a-98f1-4a79-bb03-bfc3d9e363f2\",\"type\":\"VBar\"},\"selection_glyph\":null,\"view\":{\"id\":\"125d7ea1-a3a2-4329-8f48-2585b11970a3\",\"type\":\"CDSView\"}},\"id\":\"e5b19aaa-8d3f-46ae-95dd-245adac97d31\",\"type\":\"GlyphRenderer\"},{\"attributes\":{\"axis_label\":\"spectral band\",\"formatter\":{\"id\":\"c8742b8d-a068-416f-9766-cf68624f1b0d\",\"type\":\"CategoricalTickFormatter\"},\"plot\":{\"id\":\"dd6f279a-2927-4260-9218-22adb0945c96\",\"subtype\":\"Figure\",\"type\":\"Plot\"},\"ticker\":{\"id\":\"e70eb705-de03-4487-873c-0e5c3625ff65\",\"type\":\"CategoricalTicker\"}},\"id\":\"ea390466-eb76-4c4b-88fb-4dd386bcc88e\",\"type\":\"CategoricalAxis\"},{\"attributes\":{\"axis_label\":\"flux (W m-2)\",\"formatter\":{\"id\":\"07fcd18d-b4fb-4baf-8e96-5e3000403dbf\",\"type\":\"BasicTickFormatter\"},\"plot\":{\"id\":\"dd6f279a-2927-4260-9218-22adb0945c96\",\"subtype\":\"Figure\",\"type\":\"Plot\"},\"ticker\":{\"id\":\"826f0c60-488f-4e0b-94a0-06676afb9478\",\"type\":\"BasicTicker\"}},\"id\":\"7887bb58-53d7-494b-83aa-cd0822dbf147\",\"type\":\"LinearAxis\"},{\"attributes\":{\"overlay\":{\"id\":\"9e64da9c-229d-4e3a-a61c-0a29103fd2ea\",\"type\":\"BoxAnnotation\"}},\"id\":\"074b4e37-6755-46c8-8c88-72bbd5cc7aac\",\"type\":\"BoxZoomTool\"},{\"attributes\":{},\"id\":\"de3c2c31-f221-4e91-adce-12aeefc51e54\",\"type\":\"ResetTool\"},{\"attributes\":{\"fill_color\":{\"value\":\"#1f77b4\"},\"line_color\":{\"value\":\"#1f77b4\"},\"top\":{\"field\":\"flux\"},\"width\":{\"value\":0.9},\"x\":{\"field\":\"band\"}},\"id\":\"b7a5c8ca-08c6-4d9e-997c-078807e08c5f\",\"type\":\"VBar\"},{\"attributes\":{\"dimension\":1,\"plot\":{\"id\":\"dd6f279a-2927-4260-9218-22adb0945c96\",\"subtype\":\"Figure\",\"type\":\"Plot\"},\"ticker\":{\"id\":\"826f0c60-488f-4e0b-94a0-06676afb9478\",\"type\":\"BasicTicker\"}},\"id\":\"d0175e01-2057-438f-8e09-53d95d0a2115\",\"type\":\"Grid\"},{\"attributes\":{\"data_source\":{\"id\":\"e618be80-8daa-451d-9b15-d48760161b63\",\"type\":\"ColumnDataSource\"},\"glyph\":{\"id\":\"eaeb8a6a-5031-47d7-84ee-28f22d6d0c2a\",\"type\":\"VBar\"},\"hover_glyph\":null,\"muted_glyph\":null,\"nonselection_glyph\":{\"id\":\"e70ca0d4-d459-418b-8d06-0f18d58bceb7\",\"type\":\"VBar\"},\"selection_glyph\":null,\"view\":{\"id\":\"beb5152a-90e1-4392-a93c-258b67a7cc4e\",\"type\":\"CDSView\"}},\"id\":\"0074e5cb-1b1f-40cc-a654-ef62d1d2b68f\",\"type\":\"GlyphRenderer\"},{\"attributes\":{},\"id\":\"d0ededdd-f75e-4899-9f0c-c1aea661e074\",\"type\":\"HelpTool\"},{\"attributes\":{\"plot\":null,\"text\":\"SFC flux. CLIRAD (single-run) - CRD.\"},\"id\":\"9a6993d3-2044-4d19-8a77-37689b3aabd5\",\"type\":\"Title\"}],\"root_ids\":[\"16b44b9b-42b3-44ba-8474-6a410bcb7cb3\"]},\"title\":\"Bokeh Application\",\"version\":\"0.12.16\"}};\n",
       "  var render_items = [{\"docid\":\"bebbabb6-4ea2-4c32-9647-5ed0f258c7ff\",\"elementid\":\"f7470f54-9e41-4648-a94a-12adb3ba0c2e\",\"modelid\":\"16b44b9b-42b3-44ba-8474-6a410bcb7cb3\"}];\n",
       "  root.Bokeh.embed.embed_items_notebook(docs_json, render_items);\n",
       "\n",
       "  }\n",
       "  if (root.Bokeh !== undefined) {\n",
       "    embed_document(root);\n",
       "  } else {\n",
       "    var attempts = 0;\n",
       "    var timer = setInterval(function(root) {\n",
       "      if (root.Bokeh !== undefined) {\n",
       "        embed_document(root);\n",
       "        clearInterval(timer);\n",
       "      }\n",
       "      attempts++;\n",
       "      if (attempts > 100) {\n",
       "        console.log(\"Bokeh: ERROR: Unable to run BokehJS code because BokehJS library is missing\")\n",
       "        clearInterval(timer);\n",
       "      }\n",
       "    }, 10, root)\n",
       "  }\n",
       "})(window);"
      ],
      "application/vnd.bokehjs_exec.v0+json": ""
     },
     "metadata": {
      "application/vnd.bokehjs_exec.v0+json": {
       "id": "16b44b9b-42b3-44ba-8474-6a410bcb7cb3"
      }
     },
     "output_type": "display_data"
    },
    {
     "data": {
      "text/markdown": [
       "*FIGURE.* Difference between CLIRAD and CRD in TOA, SFC and net atmosphere flux, in each spectral band."
      ],
      "text/plain": [
       "<IPython.core.display.Markdown object>"
      ]
     },
     "metadata": {},
     "output_type": "display_data"
    },
    {
     "data": {
      "text/html": [
       "<div>\n",
       "<style scoped>\n",
       "    .dataframe tbody tr th:only-of-type {\n",
       "        vertical-align: middle;\n",
       "    }\n",
       "\n",
       "    .dataframe tbody tr th {\n",
       "        vertical-align: top;\n",
       "    }\n",
       "\n",
       "    .dataframe thead th {\n",
       "        text-align: right;\n",
       "    }\n",
       "</style>\n",
       "<table border=\"1\" class=\"dataframe\">\n",
       "  <thead>\n",
       "    <tr style=\"text-align: right;\">\n",
       "      <th></th>\n",
       "      <th>OLR flux</th>\n",
       "      <th>SFC flux</th>\n",
       "      <th>ATM heating</th>\n",
       "    </tr>\n",
       "    <tr>\n",
       "      <th>Sum over bands</th>\n",
       "      <th></th>\n",
       "      <th></th>\n",
       "      <th></th>\n",
       "    </tr>\n",
       "  </thead>\n",
       "  <tbody>\n",
       "    <tr>\n",
       "      <th>old CLIRAD - CRD</th>\n",
       "      <td>0.14</td>\n",
       "      <td>2.01</td>\n",
       "      <td>-1.73</td>\n",
       "    </tr>\n",
       "    <tr>\n",
       "      <th>CLIRAD (single-run) - CRD</th>\n",
       "      <td>1.14</td>\n",
       "      <td>0.81</td>\n",
       "      <td>0.33</td>\n",
       "    </tr>\n",
       "    <tr>\n",
       "      <th>CRD</th>\n",
       "      <td>-290.39</td>\n",
       "      <td>308.14</td>\n",
       "      <td>-174.89</td>\n",
       "    </tr>\n",
       "  </tbody>\n",
       "</table>\n",
       "</div>"
      ],
      "text/plain": [
       "                           OLR flux  SFC flux  ATM heating\n",
       "Sum over bands                                            \n",
       "old CLIRAD - CRD               0.14      2.01        -1.73\n",
       "CLIRAD (single-run) - CRD      1.14      0.81         0.33\n",
       "CRD                         -290.39    308.14      -174.89"
      ]
     },
     "metadata": {},
     "output_type": "display_data"
    },
    {
     "data": {
      "text/markdown": [
       "*TABLE.* Difference between CLIRAD and CRD in TOA, SFC and net atmosphere flux, over all spectral bands. CRD's TOA, SFC and net atmosphere flux, over all spectral bands."
      ],
      "text/plain": [
       "<IPython.core.display.Markdown object>"
      ]
     },
     "metadata": {},
     "output_type": "display_data"
    },
    {
     "data": {
      "text/html": [
       "<a id=\"Cooling_rates._saw.\"></a>"
      ],
      "text/plain": [
       "<IPython.core.display.HTML object>"
      ]
     },
     "metadata": {},
     "output_type": "display_data"
    },
    {
     "data": {
      "text/markdown": [
       "# Cooling rates. saw."
      ],
      "text/plain": [
       "<IPython.core.display.Markdown object>"
      ]
     },
     "metadata": {},
     "output_type": "display_data"
    },
    {
     "data": {
      "text/html": [
       "\n",
       "<div class=\"bk-root\">\n",
       "    <div class=\"bk-plotdiv\" id=\"da982ca2-634a-46cc-87ce-e404cc28452c\"></div>\n",
       "</div>"
      ]
     },
     "metadata": {},
     "output_type": "display_data"
    },
    {
     "data": {
      "application/javascript": [
       "(function(root) {\n",
       "  function embed_document(root) {\n",
       "    \n",
       "  var docs_json = {\"fdab6a28-b272-4381-abf1-3f15be52be83\":{\"roots\":{\"references\":[{\"attributes\":{\"data_source\":{\"id\":\"b37ac1f0-a271-41d4-8a01-69f1067a4292\",\"type\":\"ColumnDataSource\"},\"glyph\":{\"id\":\"d1093f41-dabb-414f-b41e-be6796271158\",\"type\":\"Circle\"},\"hover_glyph\":null,\"muted_glyph\":null,\"nonselection_glyph\":{\"id\":\"30925981-d454-41ec-bbc4-910751b9d0fb\",\"type\":\"Circle\"},\"selection_glyph\":null,\"view\":{\"id\":\"0aa28b4d-411d-452f-85d3-ca47d41c93a8\",\"type\":\"CDSView\"}},\"id\":\"8b563c14-ae43-4a10-a33c-2bef91a8476a\",\"type\":\"GlyphRenderer\"},{\"attributes\":{\"callback\":null,\"end\":1.5925525280725001,\"start\":0.2527401794575},\"id\":\"293ec9c7-868e-43bd-bdba-00002098e157\",\"type\":\"Range1d\"},{\"attributes\":{},\"id\":\"8562a122-7543-49dd-96a3-4975f67ff2a7\",\"type\":\"HelpTool\"},{\"attributes\":{},\"id\":\"8809b5d4-a5d6-4eb3-a696-1dcdd14a4a7b\",\"type\":\"SaveTool\"},{\"attributes\":{},\"id\":\"b1b407f1-e98c-473f-80e2-b46a70a2e759\",\"type\":\"ResetTool\"},{\"attributes\":{\"fill_alpha\":{\"value\":0.7},\"fill_color\":{\"value\":\"#4daf4a\"},\"line_alpha\":{\"value\":0.7},\"line_color\":{\"value\":\"#4daf4a\"},\"x\":{\"field\":\"x\"},\"y\":{\"field\":\"y\"}},\"id\":\"d1093f41-dabb-414f-b41e-be6796271158\",\"type\":\"Circle\"},{\"attributes\":{\"bottom_units\":\"screen\",\"fill_alpha\":{\"value\":0.5},\"fill_color\":{\"value\":\"lightgrey\"},\"left_units\":\"screen\",\"level\":\"overlay\",\"line_alpha\":{\"value\":1.0},\"line_color\":{\"value\":\"black\"},\"line_dash\":[4,4],\"line_width\":{\"value\":2},\"plot\":null,\"render_mode\":\"css\",\"right_units\":\"screen\",\"top_units\":\"screen\"},\"id\":\"fc487d80-4590-43ac-9961-29532c94821a\",\"type\":\"BoxAnnotation\"},{\"attributes\":{\"callback\":null,\"end\":0.01,\"start\":1020},\"id\":\"577b8692-4f6a-4aa6-9726-8ab51ddcb57c\",\"type\":\"Range1d\"},{\"attributes\":{\"above\":[{\"id\":\"8affec04-79eb-46cb-8418-a9dbdc72eb33\",\"type\":\"Legend\"}],\"below\":[{\"id\":\"5441ff8a-cb92-4ab1-9d1c-1900adc1a068\",\"type\":\"LinearAxis\"}],\"left\":[{\"id\":\"85b0ed3e-7d3e-44c3-aae1-cbd94f2b4763\",\"type\":\"LogAxis\"}],\"plot_width\":300,\"renderers\":[{\"id\":\"5441ff8a-cb92-4ab1-9d1c-1900adc1a068\",\"type\":\"LinearAxis\"},{\"id\":\"e9b009ee-35d3-4f34-94aa-87a24c19d39e\",\"type\":\"Grid\"},{\"id\":\"85b0ed3e-7d3e-44c3-aae1-cbd94f2b4763\",\"type\":\"LogAxis\"},{\"id\":\"ae45a403-44ca-40af-8563-6ea8b03760ca\",\"type\":\"Grid\"},{\"id\":\"fc487d80-4590-43ac-9961-29532c94821a\",\"type\":\"BoxAnnotation\"},{\"id\":\"b6260bfd-718f-492d-8ae0-531086b3c47a\",\"type\":\"GlyphRenderer\"},{\"id\":\"42a3e5bf-738d-497e-a3e2-7277840160cb\",\"type\":\"GlyphRenderer\"},{\"id\":\"8affec04-79eb-46cb-8418-a9dbdc72eb33\",\"type\":\"Legend\"}],\"title\":{\"id\":\"68209643-a323-470a-b786-490bc5e4ab0c\",\"type\":\"Title\"},\"toolbar\":{\"id\":\"6fe13b9c-96b7-4b90-ae78-9a0a5d08f886\",\"type\":\"Toolbar\"},\"toolbar_location\":null,\"x_range\":{\"id\":\"46b1fb34-8e92-4eff-8760-e59f7306de7a\",\"type\":\"Range1d\"},\"x_scale\":{\"id\":\"fd9a4ec6-c1b9-4bbd-9b39-00db112cb616\",\"type\":\"LinearScale\"},\"y_range\":{\"id\":\"577b8692-4f6a-4aa6-9726-8ab51ddcb57c\",\"type\":\"Range1d\"},\"y_scale\":{\"id\":\"fa145243-9ac1-439c-b6b4-1ad9c3dc608f\",\"type\":\"LogScale\"}},\"id\":\"5bda65f6-5a5a-41b6-8afd-2c562c314c50\",\"subtype\":\"Figure\",\"type\":\"Plot\"},{\"attributes\":{\"children\":[{\"id\":\"ea14c00a-af44-43ea-a55a-12f1ca14ae71\",\"subtype\":\"Figure\",\"type\":\"Plot\"},{\"id\":\"c5e4c31e-2023-42b0-a281-8086b062831c\",\"subtype\":\"Figure\",\"type\":\"Plot\"},{\"id\":\"5bda65f6-5a5a-41b6-8afd-2c562c314c50\",\"subtype\":\"Figure\",\"type\":\"Plot\"}]},\"id\":\"4643dde3-f0c5-44c8-9559-b997aa778b84\",\"type\":\"Row\"},{\"attributes\":{\"callback\":null,\"data\":{\"x\":{\"__ndarray__\":\"0CYBcvU5UkCik9zf2GVBQF1VoNfLZ0BAVLxhiVXTPUDD1Wu1wJM6QFJyB025jjdAU6Aw5+b/NECYe1uuDfgyQB6bYtVTbTFAPxYSAF1HMEA00pYVm9QuQLolHbMzgC1AntlwirGsLECv+G9SjE4rQJH6ZLBp0ShAsLZQyPd/JkDyjgyf2PwkQLgyNGsrJyRAA13QbJD6I0C8hy0ilI4kQOVTXCEgcSZAovOGvZSGJUBVc/ZmUOIgQOf/6GHAyRlAcE8fAOBSFEDRur1U//gPQGFD9ZbokghAQsqHuSqSA0C91ci3W0UBQCtRQfvz7/4/kh8pntyB+j9t1/n+4TX1P773MAUjFfI/RgzR+CI28T8hBW8WHK7uPzVKjJfU8uk/0FPt4/z65T/wVYqzMPDhPz7K9C5CXuE/8+hSn9hY4T/9PPCkR6rhP1XsIC599OA/66X1nBCX3z/YbRM56QjcPz4dkSQc/dM/S7Wb8Fq00T+/yQdmX0vcP7TrGf476eM/WqNPJoWO7D9qOH1bcwDzP2bw+R5DQ/Y/RLSuQOQp+D8+aif8yAz5P0Wv6eBKRfk/0i2+IN4R+T/ik8QNFZr4PyS5UD5j/Pc/yJ68zXRG9z/2CHPL54H2P59SOhwKtPU/npkP8dfg9D8NlmVcdQz0P80ugRvuOvM/byxiAHN18j9USVZie8nxP5l9lNXYSPE/OB+F0UYP8T8Y7dsUCTHxP3EBgTHPcPE/bfx15p8S8T8FT+xkGtTuP6mdG7rkxuk/pboqTkHX5D/CrN8qGYngP7R4ZaL+htU/\",\"dtype\":\"float64\",\"shape\":[75]},\"y\":{\"__ndarray__\":\"GhExyth1ND/Sv8nbtpRIP2vylNV0PVE/aTum7souWD/At0SJ8fVgPw3Iuahxymc/MSNhhJWvcD/bTfBN02d3P2zb5nxnaoA/CD5h5MAGhz8NmeH1TyaQP+zrCsc9p5Y/LbKd76fGnz/bLW5ISEmmPww9YvTcQq8/JV2OstnstT8Er5Y7M8G+P0c+r3jqkcU/5h99k6ZBzj88bCIzFzjVP4enV8oyxN0//yH99nXg5D8qOpLLf0jtP5kqGJXUifQ/c9cS8kHP/D+/DpwzojQEQIEmwoanVwxA4lgXt9HgE0BSSZ2AJuIbQAMJih9jjiNA5q4l5INuK0AwTKYKRj0zQNv5fmq8/DpAaCJseHrtQkB/+zpwzoxKQM3MzMzMeFJAZmZmZmZqWEAAAAAAAFxeQM3MzMzMJmJAmpmZmZkfZUBmZmZmZhhoQDMzMzMzEWtAAAAAAAAKbkBmZmZmZoFwQM3MzMzM/XFAMzMzMzN6c0CamZmZmfZ0QAAAAAAAc3ZAZmZmZmbvd0DNzMzMzGt5QDMzMzMz6HpAmpmZmZlkfEAAAAAAAOF9QGZmZmZmXX9AZmZmZuZsgECamZmZGSuBQM3MzMxM6YFAAAAAAICngkAzMzMzs2WDQGZmZmbmI4RAmpmZmRnihEDNzMzMTKCFQAAAAACAXoZAMzMzM7Mch0BmZmZm5tqHQJqZmZkZmYhAzczMzExXiUAAAAAAgBWKQDMzMzOz04pAZmZmZuaRi0CamZmZGVCMQM3MzMxMDo1AAAAAAIDMjUAzMzMzs4qOQGZmZmbmSI9A\",\"dtype\":\"float64\",\"shape\":[75]}},\"selected\":{\"id\":\"03334bab-9283-445b-acd8-24c0fe7949ba\",\"type\":\"Selection\"},\"selection_policy\":{\"id\":\"cfa82ae1-ebea-4c6a-86f6-203046120e0f\",\"type\":\"UnionRenderers\"}},\"id\":\"b37ac1f0-a271-41d4-8a01-69f1067a4292\",\"type\":\"ColumnDataSource\"},{\"attributes\":{\"plot\":null,\"text\":\"\"},\"id\":\"caba2a71-d1ae-4917-ae8f-8d90286c05df\",\"type\":\"Title\"},{\"attributes\":{\"source\":{\"id\":\"a67e3930-e63c-4b8d-9918-d87225753ea9\",\"type\":\"ColumnDataSource\"}},\"id\":\"1d6c3f6a-eb96-4f23-9576-b23384f9aaf2\",\"type\":\"CDSView\"},{\"attributes\":{\"line_alpha\":0.8,\"line_color\":\"#984ea3\",\"line_width\":1.5,\"x\":{\"field\":\"x\"},\"y\":{\"field\":\"y\"}},\"id\":\"fdf37a65-c23c-482f-a898-278ec7f15632\",\"type\":\"Line\"},{\"attributes\":{\"label\":{\"value\":\"CRD\"},\"renderers\":[{\"id\":\"f6db8591-45d1-4ffc-a7aa-1e4405ebbec0\",\"type\":\"GlyphRenderer\"},{\"id\":\"7e3769ab-a176-4ecb-bc9c-892df55bd27a\",\"type\":\"GlyphRenderer\"}]},\"id\":\"d8c8fa85-d534-4c1d-9a34-bf8f52026d36\",\"type\":\"LegendItem\"},{\"attributes\":{},\"id\":\"058499fe-2e6b-4547-bf8f-fbd17695797c\",\"type\":\"Selection\"},{\"attributes\":{\"line_alpha\":0.1,\"line_color\":\"#1f77b4\",\"line_dash\":[6],\"line_width\":5,\"x\":{\"field\":\"x\"},\"y\":{\"field\":\"y\"}},\"id\":\"ab6f1129-ebc5-47c4-8460-8da9d3cdcf91\",\"type\":\"Line\"},{\"attributes\":{},\"id\":\"1dd8a622-1475-490f-9650-efdffbb3f7dc\",\"type\":\"UnionRenderers\"},{\"attributes\":{\"children\":[{\"id\":\"4643dde3-f0c5-44c8-9559-b997aa778b84\",\"type\":\"Row\"}]},\"id\":\"0de511ec-2587-4457-b951-211499ade830\",\"type\":\"Column\"},{\"attributes\":{\"callback\":null,\"end\":0.01,\"start\":1020},\"id\":\"09f7ea04-7885-4d9f-961b-b367c355e6be\",\"type\":\"Range1d\"},{\"attributes\":{},\"id\":\"cfa82ae1-ebea-4c6a-86f6-203046120e0f\",\"type\":\"UnionRenderers\"},{\"attributes\":{\"fill_alpha\":{\"value\":0.1},\"fill_color\":{\"value\":\"#1f77b4\"},\"line_alpha\":{\"value\":0.1},\"line_color\":{\"value\":\"#1f77b4\"},\"x\":{\"field\":\"x\"},\"y\":{\"field\":\"y\"}},\"id\":\"a279a2a7-ce32-4761-8248-2891e4804986\",\"type\":\"Circle\"},{\"attributes\":{},\"id\":\"ba148916-5b1a-4222-968b-2e82cf156283\",\"type\":\"UnionRenderers\"},{\"attributes\":{},\"id\":\"b2905ebe-9778-4db4-b7e5-985b6970244d\",\"type\":\"UnionRenderers\"},{\"attributes\":{\"plot\":null,\"text\":\"\"},\"id\":\"68209643-a323-470a-b786-490bc5e4ab0c\",\"type\":\"Title\"},{\"attributes\":{},\"id\":\"27144f13-3025-46ab-b8c0-2d2f2c1cc395\",\"type\":\"BasicTicker\"},{\"attributes\":{\"children\":[{\"id\":\"43249a12-206d-4d5c-8f5d-97dfd1837342\",\"type\":\"ToolbarBox\"},{\"id\":\"0de511ec-2587-4457-b951-211499ade830\",\"type\":\"Column\"}]},\"id\":\"b4f0796c-5bb7-4ce0-9636-9da0f232ccad\",\"type\":\"Column\"},{\"attributes\":{},\"id\":\"06947b6f-28f3-4683-ad9e-bb2dc865a8b1\",\"type\":\"PanTool\"},{\"attributes\":{\"line_alpha\":0.1,\"line_color\":\"#1f77b4\",\"line_width\":1.5,\"x\":{\"field\":\"x\"},\"y\":{\"field\":\"y\"}},\"id\":\"9d559809-f683-4f5a-9df9-d6fbcdd200cc\",\"type\":\"Line\"},{\"attributes\":{\"ticker\":null},\"id\":\"389bce36-bf1d-4012-bb53-b6542a9f3c09\",\"type\":\"LogTickFormatter\"},{\"attributes\":{},\"id\":\"321d4784-9b32-4096-9c0f-fedbcbfb64c4\",\"type\":\"UnionRenderers\"},{\"attributes\":{\"data_source\":{\"id\":\"30f74f00-4de3-44fe-910b-bd71f3524352\",\"type\":\"ColumnDataSource\"},\"glyph\":{\"id\":\"fdf37a65-c23c-482f-a898-278ec7f15632\",\"type\":\"Line\"},\"hover_glyph\":null,\"muted_glyph\":null,\"nonselection_glyph\":{\"id\":\"9d559809-f683-4f5a-9df9-d6fbcdd200cc\",\"type\":\"Line\"},\"selection_glyph\":null,\"view\":{\"id\":\"55fd5fdc-b9ab-4f5d-9a28-e5f902957e17\",\"type\":\"CDSView\"}},\"id\":\"42a3e5bf-738d-497e-a3e2-7277840160cb\",\"type\":\"GlyphRenderer\"},{\"attributes\":{\"toolbar\":{\"id\":\"b40307ed-51c3-4b0f-8cc9-49b1c2a148fe\",\"type\":\"ProxyToolbar\"},\"toolbar_location\":\"above\"},\"id\":\"43249a12-206d-4d5c-8f5d-97dfd1837342\",\"type\":\"ToolbarBox\"},{\"attributes\":{\"above\":[{\"id\":\"e74f6bc8-73b6-4975-ad5b-b6705dc27917\",\"type\":\"Legend\"}],\"below\":[{\"id\":\"4f954ee5-12c2-4626-a2f3-498353174145\",\"type\":\"LinearAxis\"}],\"left\":[{\"id\":\"74e79e2d-1de8-4d5a-97ab-92473fafa7bd\",\"type\":\"LinearAxis\"}],\"plot_width\":300,\"renderers\":[{\"id\":\"4f954ee5-12c2-4626-a2f3-498353174145\",\"type\":\"LinearAxis\"},{\"id\":\"62e82059-d712-48d6-a0e8-3b463edee11e\",\"type\":\"Grid\"},{\"id\":\"74e79e2d-1de8-4d5a-97ab-92473fafa7bd\",\"type\":\"LinearAxis\"},{\"id\":\"7315ccba-8501-4dcf-963a-3aca6bb45d15\",\"type\":\"Grid\"},{\"id\":\"56aba895-f4f8-4540-82cc-b2e50a3142de\",\"type\":\"BoxAnnotation\"},{\"id\":\"1b141835-adf6-49bc-a002-c5a7a3cb1b80\",\"type\":\"GlyphRenderer\"},{\"id\":\"8b563c14-ae43-4a10-a33c-2bef91a8476a\",\"type\":\"GlyphRenderer\"},{\"id\":\"4532fbb1-fa6b-4d9b-9fa1-ee07982edbc4\",\"type\":\"GlyphRenderer\"},{\"id\":\"e74f6bc8-73b6-4975-ad5b-b6705dc27917\",\"type\":\"Legend\"}],\"title\":{\"id\":\"caba2a71-d1ae-4917-ae8f-8d90286c05df\",\"type\":\"Title\"},\"toolbar\":{\"id\":\"e09cc164-d94b-46b1-99c1-d7d4f38531ba\",\"type\":\"Toolbar\"},\"toolbar_location\":null,\"x_range\":{\"id\":\"293ec9c7-868e-43bd-bdba-00002098e157\",\"type\":\"Range1d\"},\"x_scale\":{\"id\":\"4c7a7d84-bb8e-446c-a5d0-27632ae5410e\",\"type\":\"LinearScale\"},\"y_range\":{\"id\":\"bf1f6bd8-61a6-4cec-a73c-a0fd095dbc52\",\"type\":\"Range1d\"},\"y_scale\":{\"id\":\"f425ca0e-7b4f-47a1-b23b-0b75c9fcedb9\",\"type\":\"LinearScale\"}},\"id\":\"ea14c00a-af44-43ea-a55a-12f1ca14ae71\",\"subtype\":\"Figure\",\"type\":\"Plot\"},{\"attributes\":{\"tools\":[{\"id\":\"3dc6040f-5e09-4dc1-a6d3-135b2fd7b0a0\",\"type\":\"PanTool\"},{\"id\":\"b6d5cedd-d72c-4b30-aaeb-cd0568692e3b\",\"type\":\"WheelZoomTool\"},{\"id\":\"a154b079-6e95-469b-97d7-1e47576c3591\",\"type\":\"BoxZoomTool\"},{\"id\":\"edaf2734-2971-40e4-a864-3d6a962477cc\",\"type\":\"SaveTool\"},{\"id\":\"3230ddd1-0f41-490d-bbfe-8024a674d875\",\"type\":\"ResetTool\"},{\"id\":\"efad7d5e-4fad-46d6-ab93-253b5f8af6a2\",\"type\":\"HelpTool\"},{\"id\":\"4bb1f959-8d1a-470c-95be-907291a6b092\",\"type\":\"PanTool\"},{\"id\":\"e3440a25-3063-49f9-9e61-ef66b172172a\",\"type\":\"WheelZoomTool\"},{\"id\":\"9872b393-92bb-4801-b287-34998a6dd441\",\"type\":\"BoxZoomTool\"},{\"id\":\"b50c1628-70e1-49fd-a9aa-b21353a10b1b\",\"type\":\"SaveTool\"},{\"id\":\"9dbcb0e1-462e-4f95-9e6d-cc32d7bb3445\",\"type\":\"ResetTool\"},{\"id\":\"9bdd54e5-3c8d-4261-a248-190bd8d6a105\",\"type\":\"HelpTool\"},{\"id\":\"06947b6f-28f3-4683-ad9e-bb2dc865a8b1\",\"type\":\"PanTool\"},{\"id\":\"36e7d21e-d1d1-4ab5-a7dc-2e69e0136a40\",\"type\":\"WheelZoomTool\"},{\"id\":\"810e98bd-dab0-491d-88c8-48fc58ebb517\",\"type\":\"BoxZoomTool\"},{\"id\":\"8809b5d4-a5d6-4eb3-a696-1dcdd14a4a7b\",\"type\":\"SaveTool\"},{\"id\":\"b1b407f1-e98c-473f-80e2-b46a70a2e759\",\"type\":\"ResetTool\"},{\"id\":\"8562a122-7543-49dd-96a3-4975f67ff2a7\",\"type\":\"HelpTool\"}]},\"id\":\"b40307ed-51c3-4b0f-8cc9-49b1c2a148fe\",\"type\":\"ProxyToolbar\"},{\"attributes\":{\"plot\":null,\"text\":\"\"},\"id\":\"990d1ae0-5dce-456b-a56e-bc33381f72ef\",\"type\":\"Title\"},{\"attributes\":{},\"id\":\"3631777c-bb73-4bd6-af2c-17c8b78d0465\",\"type\":\"Selection\"},{\"attributes\":{},\"id\":\"c50ff762-8b0d-4634-8ce0-2a9c2d8984fe\",\"type\":\"BasicTickFormatter\"},{\"attributes\":{\"overlay\":{\"id\":\"56aba895-f4f8-4540-82cc-b2e50a3142de\",\"type\":\"BoxAnnotation\"}},\"id\":\"a154b079-6e95-469b-97d7-1e47576c3591\",\"type\":\"BoxZoomTool\"},{\"attributes\":{\"items\":[{\"id\":\"a16e47e5-be38-474d-8d2f-5e2904c8b334\",\"type\":\"LegendItem\"},{\"id\":\"4aa39456-da11-41cd-82c6-5da23a18a524\",\"type\":\"LegendItem\"}],\"label_text_font_size\":{\"value\":\"8pt\"},\"location\":\"top_center\",\"orientation\":\"horizontal\",\"plot\":{\"id\":\"ea14c00a-af44-43ea-a55a-12f1ca14ae71\",\"subtype\":\"Figure\",\"type\":\"Plot\"}},\"id\":\"e74f6bc8-73b6-4975-ad5b-b6705dc27917\",\"type\":\"Legend\"},{\"attributes\":{},\"id\":\"d7ef2520-0a10-4537-a8c9-aadc6cda016f\",\"type\":\"UnionRenderers\"},{\"attributes\":{\"line_alpha\":0.6,\"line_color\":\"#377eb8\",\"line_dash\":[6],\"line_width\":5,\"x\":{\"field\":\"x\"},\"y\":{\"field\":\"y\"}},\"id\":\"bab0e097-8dda-4d24-bec1-f8445dff796a\",\"type\":\"Line\"},{\"attributes\":{\"fill_alpha\":{\"value\":0.7},\"fill_color\":{\"value\":\"#984ea3\"},\"line_alpha\":{\"value\":0.7},\"line_color\":{\"value\":\"#984ea3\"},\"x\":{\"field\":\"x\"},\"y\":{\"field\":\"y\"}},\"id\":\"0c4f1a20-e86b-4dfa-9827-f83e07df9f87\",\"type\":\"Circle\"},{\"attributes\":{},\"id\":\"69323b70-797a-4f4b-b827-ae7fef7f35c3\",\"type\":\"Selection\"},{\"attributes\":{\"axis_label\":\"cooling rate [K/day]\",\"formatter\":{\"id\":\"ab15d516-44ad-473e-b217-13595e4fbf3d\",\"type\":\"BasicTickFormatter\"},\"plot\":{\"id\":\"ea14c00a-af44-43ea-a55a-12f1ca14ae71\",\"subtype\":\"Figure\",\"type\":\"Plot\"},\"ticker\":{\"id\":\"27144f13-3025-46ab-b8c0-2d2f2c1cc395\",\"type\":\"BasicTicker\"}},\"id\":\"4f954ee5-12c2-4626-a2f3-498353174145\",\"type\":\"LinearAxis\"},{\"attributes\":{\"ticker\":null},\"id\":\"5f095a3f-3a3d-4c2d-aff5-82f7bdce58a1\",\"type\":\"LogTickFormatter\"},{\"attributes\":{},\"id\":\"36e7d21e-d1d1-4ab5-a7dc-2e69e0136a40\",\"type\":\"WheelZoomTool\"},{\"attributes\":{\"data_source\":{\"id\":\"72dffafb-0e3b-4d7b-8825-ab212453356b\",\"type\":\"ColumnDataSource\"},\"glyph\":{\"id\":\"bab0e097-8dda-4d24-bec1-f8445dff796a\",\"type\":\"Line\"},\"hover_glyph\":null,\"muted_glyph\":null,\"nonselection_glyph\":{\"id\":\"ab6f1129-ebc5-47c4-8460-8da9d3cdcf91\",\"type\":\"Line\"},\"selection_glyph\":null,\"view\":{\"id\":\"5043a7a4-3ee5-4594-8a42-8fef7002c4c6\",\"type\":\"CDSView\"}},\"id\":\"1b141835-adf6-49bc-a002-c5a7a3cb1b80\",\"type\":\"GlyphRenderer\"},{\"attributes\":{},\"id\":\"03334bab-9283-445b-acd8-24c0fe7949ba\",\"type\":\"Selection\"},{\"attributes\":{},\"id\":\"46e717ee-f26f-45e9-83a9-cca28fccb978\",\"type\":\"UnionRenderers\"},{\"attributes\":{},\"id\":\"60716ebb-cf16-4ab2-b08c-9be4d25a2458\",\"type\":\"BasicTickFormatter\"},{\"attributes\":{\"overlay\":{\"id\":\"fc487d80-4590-43ac-9961-29532c94821a\",\"type\":\"BoxAnnotation\"}},\"id\":\"810e98bd-dab0-491d-88c8-48fc58ebb517\",\"type\":\"BoxZoomTool\"},{\"attributes\":{},\"id\":\"291df04c-ab14-4f5c-8af9-a3f1c809a2e4\",\"type\":\"Selection\"},{\"attributes\":{\"callback\":null,\"end\":0.01,\"start\":1020},\"id\":\"bf1f6bd8-61a6-4cec-a73c-a0fd095dbc52\",\"type\":\"Range1d\"},{\"attributes\":{},\"id\":\"3fdc587c-38c0-4212-958e-aeb4109a675f\",\"type\":\"UnionRenderers\"},{\"attributes\":{\"callback\":null,\"data\":{\"x\":{\"__ndarray__\":\"0XZYQhPeQ8B0WxUULvcYwI2EcKGEpAPAlh5fYJYf8j+glAJhbZwLQLWVwWSh2g9AFhdIc8HLBkBg3X+F1jzrP4Snl+XZl+2/xpUFjjFk+r8vru0r0Bn0v3nq5v0qxNS/SagMf1Ku4D90VdqG3eruP2X+6xdZBu0/KfgVfksY2T9/eiWQ0NPQv2qkXacJWeW/6tFCVXhs5b8IfTBVmnDav15Z6oxvwMG/ku3M5Dhisj9uGtMClkrBP9/P1+Ae1bm/8v1+zz9fzb95wlmq5digv9v7ldwFYtE/T6oq5dn10T95vAvSCUO8P/IzafGWv6A/vXibZXJMxD/QfrUK4RzNPyPJifsq2cA/fgqrrlAydr+FBUdqe7RpPySVNnRYWbM/PTT91Lo7qD+z7980FbeYv8/HBFriprO/4SWx+AoHtr914o9Z/qeyv3OhHiLVuay/MR+AaCR+pb9S0Fbns1yav6gUdUHCt5C/sVoy1fsHhr8kYRRGqHBAv+Tvp3IGmHS/vNQEUSRVm7/xiZUnep+qv7wRw8xGgKq//jr08J/Aor8T/W3qplmjv06mdqApzKq/ipIcLNKRqr/FIhpdnVylv+glZ5uxpZ+/7ic415lLmL/ZFH0XlaGTvxqBoHEb7Im/lBovJ2kBhL8PA9p2U3OBvxiE7vHOUYS/PoD6885Yhr9j8Wc9mjiEvxwRGdtOEHq/oDnA2uu5Ob9QtLPYBJl/P348w+0z24s/5Arp3Czfkj+4jERjS2GWP6j+qCzXEpg/tRz7FjRtlz/d0YFhh1WXPwiz/HPrUpY/\",\"dtype\":\"float64\",\"shape\":[75]},\"y\":{\"__ndarray__\":\"GhExyth1ND/Sv8nbtpRIP2vylNV0PVE/aTum7souWD/At0SJ8fVgPw3Iuahxymc/MSNhhJWvcD/bTfBN02d3P2zb5nxnaoA/CD5h5MAGhz8NmeH1TyaQP+zrCsc9p5Y/LbKd76fGnz/bLW5ISEmmPww9YvTcQq8/JV2OstnstT8Er5Y7M8G+P0c+r3jqkcU/5h99k6ZBzj88bCIzFzjVP4enV8oyxN0//yH99nXg5D8qOpLLf0jtP5kqGJXUifQ/c9cS8kHP/D+/DpwzojQEQIEmwoanVwxA4lgXt9HgE0BSSZ2AJuIbQAMJih9jjiNA5q4l5INuK0AwTKYKRj0zQNv5fmq8/DpAaCJseHrtQkB/+zpwzoxKQM3MzMzMeFJAZmZmZmZqWEAAAAAAAFxeQM3MzMzMJmJAmpmZmZkfZUBmZmZmZhhoQDMzMzMzEWtAAAAAAAAKbkBmZmZmZoFwQM3MzMzM/XFAMzMzMzN6c0CamZmZmfZ0QAAAAAAAc3ZAZmZmZmbvd0DNzMzMzGt5QDMzMzMz6HpAmpmZmZlkfEAAAAAAAOF9QGZmZmZmXX9AZmZmZuZsgECamZmZGSuBQM3MzMxM6YFAAAAAAICngkAzMzMzs2WDQGZmZmbmI4RAmpmZmRnihEDNzMzMTKCFQAAAAACAXoZAMzMzM7Mch0BmZmZm5tqHQJqZmZkZmYhAzczMzExXiUAAAAAAgBWKQDMzMzOz04pAZmZmZuaRi0CamZmZGVCMQM3MzMxMDo1AAAAAAIDMjUAzMzMzs4qOQGZmZmbmSI9A\",\"dtype\":\"float64\",\"shape\":[75]}},\"selected\":{\"id\":\"69323b70-797a-4f4b-b827-ae7fef7f35c3\",\"type\":\"Selection\"},\"selection_policy\":{\"id\":\"46e717ee-f26f-45e9-83a9-cca28fccb978\",\"type\":\"UnionRenderers\"}},\"id\":\"30f74f00-4de3-44fe-910b-bd71f3524352\",\"type\":\"ColumnDataSource\"},{\"attributes\":{\"source\":{\"id\":\"72dffafb-0e3b-4d7b-8825-ab212453356b\",\"type\":\"ColumnDataSource\"}},\"id\":\"5043a7a4-3ee5-4594-8a42-8fef7002c4c6\",\"type\":\"CDSView\"},{\"attributes\":{\"items\":[{\"id\":\"78524bcd-462b-4d42-be42-7979fa9007b8\",\"type\":\"LegendItem\"},{\"id\":\"d8c8fa85-d534-4c1d-9a34-bf8f52026d36\",\"type\":\"LegendItem\"}],\"label_text_font_size\":{\"value\":\"8pt\"},\"location\":\"top_center\",\"orientation\":\"horizontal\",\"plot\":{\"id\":\"c5e4c31e-2023-42b0-a281-8086b062831c\",\"subtype\":\"Figure\",\"type\":\"Plot\"}},\"id\":\"2bcf9623-4bd9-416a-b3d4-8a040e39e104\",\"type\":\"Legend\"},{\"attributes\":{\"dimension\":1,\"plot\":{\"id\":\"c5e4c31e-2023-42b0-a281-8086b062831c\",\"subtype\":\"Figure\",\"type\":\"Plot\"},\"ticker\":{\"id\":\"ea583182-8fdf-4f85-bb80-d46eaf49d49b\",\"type\":\"LogTicker\"}},\"id\":\"899d95aa-d242-4cd2-8944-4d322e42bb1d\",\"type\":\"Grid\"},{\"attributes\":{},\"id\":\"4bb1f959-8d1a-470c-95be-907291a6b092\",\"type\":\"PanTool\"},{\"attributes\":{\"data_source\":{\"id\":\"67ac9fa5-ab56-4502-9612-a09120d26ffe\",\"type\":\"ColumnDataSource\"},\"glyph\":{\"id\":\"012f34e0-fece-4d06-88e7-55650ad8b649\",\"type\":\"Circle\"},\"hover_glyph\":null,\"muted_glyph\":null,\"nonselection_glyph\":{\"id\":\"5e3b4fa9-a765-422d-b99a-9728cd540f7f\",\"type\":\"Circle\"},\"selection_glyph\":null,\"view\":{\"id\":\"e77fa7d1-f80b-4a4b-a7e1-b65eca50e195\",\"type\":\"CDSView\"}},\"id\":\"f6db8591-45d1-4ffc-a7aa-1e4405ebbec0\",\"type\":\"GlyphRenderer\"},{\"attributes\":{\"label\":{\"value\":\"CLIRAD (single-run)\"},\"renderers\":[{\"id\":\"f33bc07d-3f73-4156-884b-f4f69fe0479b\",\"type\":\"GlyphRenderer\"}]},\"id\":\"78524bcd-462b-4d42-be42-7979fa9007b8\",\"type\":\"LegendItem\"},{\"attributes\":{\"overlay\":{\"id\":\"baf406be-2275-47bc-91bd-8c03e6504d92\",\"type\":\"BoxAnnotation\"}},\"id\":\"9872b393-92bb-4801-b287-34998a6dd441\",\"type\":\"BoxZoomTool\"},{\"attributes\":{\"line_alpha\":0.1,\"line_color\":\"#1f77b4\",\"line_width\":1.5,\"x\":{\"field\":\"x\"},\"y\":{\"field\":\"y\"}},\"id\":\"7bab2437-ff33-41f9-b9df-086f2a80333a\",\"type\":\"Line\"},{\"attributes\":{\"source\":{\"id\":\"b37ac1f0-a271-41d4-8a01-69f1067a4292\",\"type\":\"ColumnDataSource\"}},\"id\":\"0aa28b4d-411d-452f-85d3-ca47d41c93a8\",\"type\":\"CDSView\"},{\"attributes\":{\"num_minor_ticks\":10},\"id\":\"ea583182-8fdf-4f85-bb80-d46eaf49d49b\",\"type\":\"LogTicker\"},{\"attributes\":{\"label\":{\"value\":\"CLIRAD (single-run)\"},\"renderers\":[{\"id\":\"1b141835-adf6-49bc-a002-c5a7a3cb1b80\",\"type\":\"GlyphRenderer\"}]},\"id\":\"a16e47e5-be38-474d-8d2f-5e2904c8b334\",\"type\":\"LegendItem\"},{\"attributes\":{\"fill_alpha\":{\"value\":0.7},\"fill_color\":{\"value\":\"#4daf4a\"},\"line_alpha\":{\"value\":0.7},\"line_color\":{\"value\":\"#4daf4a\"},\"x\":{\"field\":\"x\"},\"y\":{\"field\":\"y\"}},\"id\":\"012f34e0-fece-4d06-88e7-55650ad8b649\",\"type\":\"Circle\"},{\"attributes\":{},\"id\":\"b6d5cedd-d72c-4b30-aaeb-cd0568692e3b\",\"type\":\"WheelZoomTool\"},{\"attributes\":{},\"id\":\"9dbcb0e1-462e-4f95-9e6d-cc32d7bb3445\",\"type\":\"ResetTool\"},{\"attributes\":{},\"id\":\"9bdd54e5-3c8d-4261-a248-190bd8d6a105\",\"type\":\"HelpTool\"},{\"attributes\":{\"data_source\":{\"id\":\"5adc0758-3bc1-4f38-b011-d44ab5deca1e\",\"type\":\"ColumnDataSource\"},\"glyph\":{\"id\":\"e998c417-cab4-4dbd-8276-986af8b786ae\",\"type\":\"Line\"},\"hover_glyph\":null,\"muted_glyph\":null,\"nonselection_glyph\":{\"id\":\"2419d104-d3be-4703-a803-36e8fe55710f\",\"type\":\"Line\"},\"selection_glyph\":null,\"view\":{\"id\":\"0202b01a-b4b8-4f25-b936-27ad7f3d82c7\",\"type\":\"CDSView\"}},\"id\":\"f33bc07d-3f73-4156-884b-f4f69fe0479b\",\"type\":\"GlyphRenderer\"},{\"attributes\":{\"line_alpha\":0.6,\"line_color\":\"#377eb8\",\"line_dash\":[6],\"line_width\":5,\"x\":{\"field\":\"x\"},\"y\":{\"field\":\"y\"}},\"id\":\"e998c417-cab4-4dbd-8276-986af8b786ae\",\"type\":\"Line\"},{\"attributes\":{\"line_color\":\"#4daf4a\",\"line_width\":1.5,\"x\":{\"field\":\"x\"},\"y\":{\"field\":\"y\"}},\"id\":\"ea849f75-7e31-4227-ac28-e1eee66e2c91\",\"type\":\"Line\"},{\"attributes\":{\"axis_label\":\"cooling rate [K/day]\",\"formatter\":{\"id\":\"60716ebb-cf16-4ab2-b08c-9be4d25a2458\",\"type\":\"BasicTickFormatter\"},\"plot\":{\"id\":\"c5e4c31e-2023-42b0-a281-8086b062831c\",\"subtype\":\"Figure\",\"type\":\"Plot\"},\"ticker\":{\"id\":\"71d831bd-5fd2-4985-903a-37fc05cd0a9b\",\"type\":\"BasicTicker\"}},\"id\":\"bbd163d9-4cc6-4850-8c4c-4b88d16a0d87\",\"type\":\"LinearAxis\"},{\"attributes\":{},\"id\":\"f425ca0e-7b4f-47a1-b23b-0b75c9fcedb9\",\"type\":\"LinearScale\"},{\"attributes\":{\"axis_label\":\"pressure [mb]\",\"formatter\":{\"id\":\"389bce36-bf1d-4012-bb53-b6542a9f3c09\",\"type\":\"LogTickFormatter\"},\"plot\":{\"id\":\"c5e4c31e-2023-42b0-a281-8086b062831c\",\"subtype\":\"Figure\",\"type\":\"Plot\"},\"ticker\":{\"id\":\"ea583182-8fdf-4f85-bb80-d46eaf49d49b\",\"type\":\"LogTicker\"}},\"id\":\"8d0e54aa-de83-4348-afde-c2166b8407f8\",\"type\":\"LogAxis\"},{\"attributes\":{},\"id\":\"71d831bd-5fd2-4985-903a-37fc05cd0a9b\",\"type\":\"BasicTicker\"},{\"attributes\":{},\"id\":\"e3440a25-3063-49f9-9e61-ef66b172172a\",\"type\":\"WheelZoomTool\"},{\"attributes\":{},\"id\":\"edaf2734-2971-40e4-a864-3d6a962477cc\",\"type\":\"SaveTool\"},{\"attributes\":{},\"id\":\"b50c1628-70e1-49fd-a9aa-b21353a10b1b\",\"type\":\"SaveTool\"},{\"attributes\":{\"source\":{\"id\":\"5adc0758-3bc1-4f38-b011-d44ab5deca1e\",\"type\":\"ColumnDataSource\"}},\"id\":\"0202b01a-b4b8-4f25-b936-27ad7f3d82c7\",\"type\":\"CDSView\"},{\"attributes\":{},\"id\":\"dfa7507f-97f5-4433-ac2e-e7731a86fb93\",\"type\":\"LinearScale\"},{\"attributes\":{\"plot\":{\"id\":\"c5e4c31e-2023-42b0-a281-8086b062831c\",\"subtype\":\"Figure\",\"type\":\"Plot\"},\"ticker\":{\"id\":\"71d831bd-5fd2-4985-903a-37fc05cd0a9b\",\"type\":\"BasicTicker\"}},\"id\":\"75401e59-c162-4dbb-960d-3640236c38f8\",\"type\":\"Grid\"},{\"attributes\":{},\"id\":\"a3315b7a-337b-4abd-9a86-023ad9d0e823\",\"type\":\"LogScale\"},{\"attributes\":{\"callback\":null,\"data\":{\"x\":{\"__ndarray__\":\"0CYBcvU5UkCik9zf2GVBQF1VoNfLZ0BAVLxhiVXTPUDD1Wu1wJM6QFJyB025jjdAU6Aw5+b/NECYe1uuDfgyQB6bYtVTbTFAPxYSAF1HMEA00pYVm9QuQLolHbMzgC1AntlwirGsLECv+G9SjE4rQJH6ZLBp0ShAsLZQyPd/JkDyjgyf2PwkQLgyNGsrJyRAA13QbJD6I0C8hy0ilI4kQOVTXCEgcSZAovOGvZSGJUBVc/ZmUOIgQOf/6GHAyRlAcE8fAOBSFEDRur1U//gPQGFD9ZbokghAQsqHuSqSA0C91ci3W0UBQCtRQfvz7/4/kh8pntyB+j9t1/n+4TX1P773MAUjFfI/RgzR+CI28T8hBW8WHK7uPzVKjJfU8uk/0FPt4/z65T/wVYqzMPDhPz7K9C5CXuE/8+hSn9hY4T/9PPCkR6rhP1XsIC599OA/66X1nBCX3z/YbRM56QjcPz4dkSQc/dM/S7Wb8Fq00T+/yQdmX0vcP7TrGf476eM/WqNPJoWO7D9qOH1bcwDzP2bw+R5DQ/Y/RLSuQOQp+D8+aif8yAz5P0Wv6eBKRfk/0i2+IN4R+T/ik8QNFZr4PyS5UD5j/Pc/yJ68zXRG9z/2CHPL54H2P59SOhwKtPU/npkP8dfg9D8NlmVcdQz0P80ugRvuOvM/byxiAHN18j9USVZie8nxP5l9lNXYSPE/OB+F0UYP8T8Y7dsUCTHxP3EBgTHPcPE/bfx15p8S8T8FT+xkGtTuP6mdG7rkxuk/pboqTkHX5D/CrN8qGYngP7R4ZaL+htU/\",\"dtype\":\"float64\",\"shape\":[75]},\"y\":{\"__ndarray__\":\"GhExyth1ND/Sv8nbtpRIP2vylNV0PVE/aTum7souWD/At0SJ8fVgPw3Iuahxymc/MSNhhJWvcD/bTfBN02d3P2zb5nxnaoA/CD5h5MAGhz8NmeH1TyaQP+zrCsc9p5Y/LbKd76fGnz/bLW5ISEmmPww9YvTcQq8/JV2OstnstT8Er5Y7M8G+P0c+r3jqkcU/5h99k6ZBzj88bCIzFzjVP4enV8oyxN0//yH99nXg5D8qOpLLf0jtP5kqGJXUifQ/c9cS8kHP/D+/DpwzojQEQIEmwoanVwxA4lgXt9HgE0BSSZ2AJuIbQAMJih9jjiNA5q4l5INuK0AwTKYKRj0zQNv5fmq8/DpAaCJseHrtQkB/+zpwzoxKQM3MzMzMeFJAZmZmZmZqWEAAAAAAAFxeQM3MzMzMJmJAmpmZmZkfZUBmZmZmZhhoQDMzMzMzEWtAAAAAAAAKbkBmZmZmZoFwQM3MzMzM/XFAMzMzMzN6c0CamZmZmfZ0QAAAAAAAc3ZAZmZmZmbvd0DNzMzMzGt5QDMzMzMz6HpAmpmZmZlkfEAAAAAAAOF9QGZmZmZmXX9AZmZmZuZsgECamZmZGSuBQM3MzMxM6YFAAAAAAICngkAzMzMzs2WDQGZmZmbmI4RAmpmZmRnihEDNzMzMTKCFQAAAAACAXoZAMzMzM7Mch0BmZmZm5tqHQJqZmZkZmYhAzczMzExXiUAAAAAAgBWKQDMzMzOz04pAZmZmZuaRi0CamZmZGVCMQM3MzMxMDo1AAAAAAIDMjUAzMzMzs4qOQGZmZmbmSI9A\",\"dtype\":\"float64\",\"shape\":[75]}},\"selected\":{\"id\":\"4375d7f4-92a3-49f5-a9b3-c5270d010dfe\",\"type\":\"Selection\"},\"selection_policy\":{\"id\":\"321d4784-9b32-4096-9c0f-fedbcbfb64c4\",\"type\":\"UnionRenderers\"}},\"id\":\"67ac9fa5-ab56-4502-9612-a09120d26ffe\",\"type\":\"ColumnDataSource\"},{\"attributes\":{\"label\":{\"value\":\"CRD\"},\"renderers\":[{\"id\":\"8b563c14-ae43-4a10-a33c-2bef91a8476a\",\"type\":\"GlyphRenderer\"},{\"id\":\"4532fbb1-fa6b-4d9b-9fa1-ee07982edbc4\",\"type\":\"GlyphRenderer\"}]},\"id\":\"4aa39456-da11-41cd-82c6-5da23a18a524\",\"type\":\"LegendItem\"},{\"attributes\":{},\"id\":\"41e0a4af-029f-4065-8d55-f5a275e0d1af\",\"type\":\"Selection\"},{\"attributes\":{\"callback\":null,\"data\":{\"x\":{\"__ndarray__\":\"0CYBcvU5UkCik9zf2GVBQF1VoNfLZ0BAVLxhiVXTPUDD1Wu1wJM6QFJyB025jjdAU6Aw5+b/NECYe1uuDfgyQB6bYtVTbTFAPxYSAF1HMEA00pYVm9QuQLolHbMzgC1AntlwirGsLECv+G9SjE4rQJH6ZLBp0ShAsLZQyPd/JkDyjgyf2PwkQLgyNGsrJyRAA13QbJD6I0C8hy0ilI4kQOVTXCEgcSZAovOGvZSGJUBVc/ZmUOIgQOf/6GHAyRlAcE8fAOBSFEDRur1U//gPQGFD9ZbokghAQsqHuSqSA0C91ci3W0UBQCtRQfvz7/4/kh8pntyB+j9t1/n+4TX1P773MAUjFfI/RgzR+CI28T8hBW8WHK7uPzVKjJfU8uk/0FPt4/z65T/wVYqzMPDhPz7K9C5CXuE/8+hSn9hY4T/9PPCkR6rhP1XsIC599OA/66X1nBCX3z/YbRM56QjcPz4dkSQc/dM/S7Wb8Fq00T+/yQdmX0vcP7TrGf476eM/WqNPJoWO7D9qOH1bcwDzP2bw+R5DQ/Y/RLSuQOQp+D8+aif8yAz5P0Wv6eBKRfk/0i2+IN4R+T/ik8QNFZr4PyS5UD5j/Pc/yJ68zXRG9z/2CHPL54H2P59SOhwKtPU/npkP8dfg9D8NlmVcdQz0P80ugRvuOvM/byxiAHN18j9USVZie8nxP5l9lNXYSPE/OB+F0UYP8T8Y7dsUCTHxP3EBgTHPcPE/bfx15p8S8T8FT+xkGtTuP6mdG7rkxuk/pboqTkHX5D/CrN8qGYngP7R4ZaL+htU/\",\"dtype\":\"float64\",\"shape\":[75]},\"y\":{\"__ndarray__\":\"GhExyth1ND/Sv8nbtpRIP2vylNV0PVE/aTum7souWD/At0SJ8fVgPw3Iuahxymc/MSNhhJWvcD/bTfBN02d3P2zb5nxnaoA/CD5h5MAGhz8NmeH1TyaQP+zrCsc9p5Y/LbKd76fGnz/bLW5ISEmmPww9YvTcQq8/JV2OstnstT8Er5Y7M8G+P0c+r3jqkcU/5h99k6ZBzj88bCIzFzjVP4enV8oyxN0//yH99nXg5D8qOpLLf0jtP5kqGJXUifQ/c9cS8kHP/D+/DpwzojQEQIEmwoanVwxA4lgXt9HgE0BSSZ2AJuIbQAMJih9jjiNA5q4l5INuK0AwTKYKRj0zQNv5fmq8/DpAaCJseHrtQkB/+zpwzoxKQM3MzMzMeFJAZmZmZmZqWEAAAAAAAFxeQM3MzMzMJmJAmpmZmZkfZUBmZmZmZhhoQDMzMzMzEWtAAAAAAAAKbkBmZmZmZoFwQM3MzMzM/XFAMzMzMzN6c0CamZmZmfZ0QAAAAAAAc3ZAZmZmZmbvd0DNzMzMzGt5QDMzMzMz6HpAmpmZmZlkfEAAAAAAAOF9QGZmZmZmXX9AZmZmZuZsgECamZmZGSuBQM3MzMxM6YFAAAAAAICngkAzMzMzs2WDQGZmZmbmI4RAmpmZmRnihEDNzMzMTKCFQAAAAACAXoZAMzMzM7Mch0BmZmZm5tqHQJqZmZkZmYhAzczMzExXiUAAAAAAgBWKQDMzMzOz04pAZmZmZuaRi0CamZmZGVCMQM3MzMxMDo1AAAAAAIDMjUAzMzMzs4qOQGZmZmbmSI9A\",\"dtype\":\"float64\",\"shape\":[75]}},\"selected\":{\"id\":\"291df04c-ab14-4f5c-8af9-a3f1c809a2e4\",\"type\":\"Selection\"},\"selection_policy\":{\"id\":\"3fdc587c-38c0-4212-958e-aeb4109a675f\",\"type\":\"UnionRenderers\"}},\"id\":\"f00e1e5a-c97d-402c-abb9-62e4b97a8fe6\",\"type\":\"ColumnDataSource\"},{\"attributes\":{\"callback\":null,\"data\":{\"x\":{\"__ndarray__\":\"0NapodeVQEBp0LM65o08QCiaEhsHWz5APq5n7071PkBXKIxhTgc+QAmln3kNijtAM6OZFV/ZN0CDeodi9NEzQOHdNQaVgDBAxXljzjNCLUBtHBkQYVEsQGbuLVsS2ixAJKRhspa3LUAGnt0qOj0tQHi640HPoSpAcWZBJLpIJ0AfY4saOnYkQHFYvtCa0SJA4y9858ijIkDTA4RPD7sjQIGqKGMeKiZAe41QL1mrJUDAvwG/eichQKugZeZrYhlAgVejAeZnE0DHUxS+m7UPQNsCiFIpvwpAjB8t9uXQBUCgM1kGdCcCQMyazLLwdf8/rI7c6moL/T9Jh1Agftn4P+IwomRIMPQ/PGEiqPAf8T8nTNmR0MfuP9scE6b/Xew/Eyc9kbh+5z9xVuMJeCrhP4diaMfL0t0/cIh5gO4v3T9cgXyzj6reP34E/re/Ud4/CKLlD0zn3D/VAJ76HWPaP/PLeQCg8dI/dCLyERsE0T+Ov+QRJ0PcP9SbNPELwOM/snzHA9yz6z8bjECKdyvyP9jXk+hAb/U/bRInQd+T9z9U+tPE+3H4PxP65ZPpbvg/PUldj089+D/NwtsiMO/3P4wc43fMffc/KL5fZkbl9j+jFBV3YTP2P54RV+UxgPU/aDvBHtW49D8H4ne1junzP8VRnX1KEvM/bTd6YsFI8j9xedstCqHxP4hkuYbILvE/M3PHMqsN8T/MoLQZolDxP+yHXJmFqPE/maDpmRxe8T9rcwbAJIfvP6DlgHN7h+o/jJPi7qqS5T9Su+tlxUPhP+JDpVkt7NY/\",\"dtype\":\"float64\",\"shape\":[75]},\"y\":{\"__ndarray__\":\"GhExyth1ND/Sv8nbtpRIP2vylNV0PVE/aTum7souWD/At0SJ8fVgPw3Iuahxymc/MSNhhJWvcD/bTfBN02d3P2zb5nxnaoA/CD5h5MAGhz8NmeH1TyaQP+zrCsc9p5Y/LbKd76fGnz/bLW5ISEmmPww9YvTcQq8/JV2OstnstT8Er5Y7M8G+P0c+r3jqkcU/5h99k6ZBzj88bCIzFzjVP4enV8oyxN0//yH99nXg5D8qOpLLf0jtP5kqGJXUifQ/c9cS8kHP/D+/DpwzojQEQIEmwoanVwxA4lgXt9HgE0BSSZ2AJuIbQAMJih9jjiNA5q4l5INuK0AwTKYKRj0zQNv5fmq8/DpAaCJseHrtQkB/+zpwzoxKQM3MzMzMeFJAZmZmZmZqWEAAAAAAAFxeQM3MzMzMJmJAmpmZmZkfZUBmZmZmZhhoQDMzMzMzEWtAAAAAAAAKbkBmZmZmZoFwQM3MzMzM/XFAMzMzMzN6c0CamZmZmfZ0QAAAAAAAc3ZAZmZmZmbvd0DNzMzMzGt5QDMzMzMz6HpAmpmZmZlkfEAAAAAAAOF9QGZmZmZmXX9AZmZmZuZsgECamZmZGSuBQM3MzMxM6YFAAAAAAICngkAzMzMzs2WDQGZmZmbmI4RAmpmZmRnihEDNzMzMTKCFQAAAAACAXoZAMzMzM7Mch0BmZmZm5tqHQJqZmZkZmYhAzczMzExXiUAAAAAAgBWKQDMzMzOz04pAZmZmZuaRi0CamZmZGVCMQM3MzMxMDo1AAAAAAIDMjUAzMzMzs4qOQGZmZmbmSI9A\",\"dtype\":\"float64\",\"shape\":[75]}},\"selected\":{\"id\":\"5caee111-13ae-4572-bc6d-e3d5d853730a\",\"type\":\"Selection\"},\"selection_policy\":{\"id\":\"ba148916-5b1a-4222-968b-2e82cf156283\",\"type\":\"UnionRenderers\"}},\"id\":\"72dffafb-0e3b-4d7b-8825-ab212453356b\",\"type\":\"ColumnDataSource\"},{\"attributes\":{\"bottom_units\":\"screen\",\"fill_alpha\":{\"value\":0.5},\"fill_color\":{\"value\":\"lightgrey\"},\"left_units\":\"screen\",\"level\":\"overlay\",\"line_alpha\":{\"value\":1.0},\"line_color\":{\"value\":\"black\"},\"line_dash\":[4,4],\"line_width\":{\"value\":2},\"plot\":null,\"render_mode\":\"css\",\"right_units\":\"screen\",\"top_units\":\"screen\"},\"id\":\"baf406be-2275-47bc-91bd-8c03e6504d92\",\"type\":\"BoxAnnotation\"},{\"attributes\":{\"data_source\":{\"id\":\"a67e3930-e63c-4b8d-9918-d87225753ea9\",\"type\":\"ColumnDataSource\"},\"glyph\":{\"id\":\"0c4f1a20-e86b-4dfa-9827-f83e07df9f87\",\"type\":\"Circle\"},\"hover_glyph\":null,\"muted_glyph\":null,\"nonselection_glyph\":{\"id\":\"a279a2a7-ce32-4761-8248-2891e4804986\",\"type\":\"Circle\"},\"selection_glyph\":null,\"view\":{\"id\":\"1d6c3f6a-eb96-4f23-9576-b23384f9aaf2\",\"type\":\"CDSView\"}},\"id\":\"b6260bfd-718f-492d-8ae0-531086b3c47a\",\"type\":\"GlyphRenderer\"},{\"attributes\":{\"fill_alpha\":{\"value\":0.1},\"fill_color\":{\"value\":\"#1f77b4\"},\"line_alpha\":{\"value\":0.1},\"line_color\":{\"value\":\"#1f77b4\"},\"x\":{\"field\":\"x\"},\"y\":{\"field\":\"y\"}},\"id\":\"5e3b4fa9-a765-422d-b99a-9728cd540f7f\",\"type\":\"Circle\"},{\"attributes\":{\"plot\":{\"id\":\"5bda65f6-5a5a-41b6-8afd-2c562c314c50\",\"subtype\":\"Figure\",\"type\":\"Plot\"},\"ticker\":{\"id\":\"fd173942-9bc9-4876-a848-a1a2f8a8f421\",\"type\":\"BasicTicker\"}},\"id\":\"e9b009ee-35d3-4f34-94aa-87a24c19d39e\",\"type\":\"Grid\"},{\"attributes\":{\"source\":{\"id\":\"bd614bb6-f873-4caf-9dc7-c86c906deacf\",\"type\":\"ColumnDataSource\"}},\"id\":\"ef2e50cc-be19-4510-afa5-a91282ea6a77\",\"type\":\"CDSView\"},{\"attributes\":{},\"id\":\"3230ddd1-0f41-490d-bbfe-8024a674d875\",\"type\":\"ResetTool\"},{\"attributes\":{\"num_minor_ticks\":10},\"id\":\"0f44e2e9-069e-4290-b5ba-86ae36eb4e79\",\"type\":\"LogTicker\"},{\"attributes\":{\"line_color\":\"#4daf4a\",\"line_width\":1.5,\"x\":{\"field\":\"x\"},\"y\":{\"field\":\"y\"}},\"id\":\"7960f417-d074-4d9c-87fd-8255ff07fea5\",\"type\":\"Line\"},{\"attributes\":{\"label\":{\"value\":\"CLIRAD (single-run) - CRD\"},\"renderers\":[{\"id\":\"b6260bfd-718f-492d-8ae0-531086b3c47a\",\"type\":\"GlyphRenderer\"},{\"id\":\"42a3e5bf-738d-497e-a3e2-7277840160cb\",\"type\":\"GlyphRenderer\"}]},\"id\":\"0c671e64-4010-4af2-8c19-0a7fc0b08cc6\",\"type\":\"LegendItem\"},{\"attributes\":{\"callback\":null,\"data\":{\"x\":{\"__ndarray__\":\"0NapodeVQEBp0LM65o08QCiaEhsHWz5APq5n7071PkBXKIxhTgc+QAmln3kNijtAM6OZFV/ZN0CDeodi9NEzQOHdNQaVgDBAxXljzjNCLUBtHBkQYVEsQGbuLVsS2ixAJKRhspa3LUAGnt0qOj0tQHi640HPoSpAcWZBJLpIJ0AfY4saOnYkQHFYvtCa0SJA4y9858ijIkDTA4RPD7sjQIGqKGMeKiZAe41QL1mrJUDAvwG/eichQKugZeZrYhlAgVejAeZnE0DHUxS+m7UPQNsCiFIpvwpAjB8t9uXQBUCgM1kGdCcCQMyazLLwdf8/rI7c6moL/T9Jh1Agftn4P+IwomRIMPQ/PGEiqPAf8T8nTNmR0MfuP9scE6b/Xew/Eyc9kbh+5z9xVuMJeCrhP4diaMfL0t0/cIh5gO4v3T9cgXyzj6reP34E/re/Ud4/CKLlD0zn3D/VAJ76HWPaP/PLeQCg8dI/dCLyERsE0T+Ov+QRJ0PcP9SbNPELwOM/snzHA9yz6z8bjECKdyvyP9jXk+hAb/U/bRInQd+T9z9U+tPE+3H4PxP65ZPpbvg/PUldj089+D/NwtsiMO/3P4wc43fMffc/KL5fZkbl9j+jFBV3YTP2P54RV+UxgPU/aDvBHtW49D8H4ne1junzP8VRnX1KEvM/bTd6YsFI8j9xedstCqHxP4hkuYbILvE/M3PHMqsN8T/MoLQZolDxP+yHXJmFqPE/maDpmRxe8T9rcwbAJIfvP6DlgHN7h+o/jJPi7qqS5T9Su+tlxUPhP+JDpVkt7NY/\",\"dtype\":\"float64\",\"shape\":[75]},\"y\":{\"__ndarray__\":\"GhExyth1ND/Sv8nbtpRIP2vylNV0PVE/aTum7souWD/At0SJ8fVgPw3Iuahxymc/MSNhhJWvcD/bTfBN02d3P2zb5nxnaoA/CD5h5MAGhz8NmeH1TyaQP+zrCsc9p5Y/LbKd76fGnz/bLW5ISEmmPww9YvTcQq8/JV2OstnstT8Er5Y7M8G+P0c+r3jqkcU/5h99k6ZBzj88bCIzFzjVP4enV8oyxN0//yH99nXg5D8qOpLLf0jtP5kqGJXUifQ/c9cS8kHP/D+/DpwzojQEQIEmwoanVwxA4lgXt9HgE0BSSZ2AJuIbQAMJih9jjiNA5q4l5INuK0AwTKYKRj0zQNv5fmq8/DpAaCJseHrtQkB/+zpwzoxKQM3MzMzMeFJAZmZmZmZqWEAAAAAAAFxeQM3MzMzMJmJAmpmZmZkfZUBmZmZmZhhoQDMzMzMzEWtAAAAAAAAKbkBmZmZmZoFwQM3MzMzM/XFAMzMzMzN6c0CamZmZmfZ0QAAAAAAAc3ZAZmZmZmbvd0DNzMzMzGt5QDMzMzMz6HpAmpmZmZlkfEAAAAAAAOF9QGZmZmZmXX9AZmZmZuZsgECamZmZGSuBQM3MzMxM6YFAAAAAAICngkAzMzMzs2WDQGZmZmbmI4RAmpmZmRnihEDNzMzMTKCFQAAAAACAXoZAMzMzM7Mch0BmZmZm5tqHQJqZmZkZmYhAzczMzExXiUAAAAAAgBWKQDMzMzOz04pAZmZmZuaRi0CamZmZGVCMQM3MzMxMDo1AAAAAAIDMjUAzMzMzs4qOQGZmZmbmSI9A\",\"dtype\":\"float64\",\"shape\":[75]}},\"selected\":{\"id\":\"41e0a4af-029f-4065-8d55-f5a275e0d1af\",\"type\":\"Selection\"},\"selection_policy\":{\"id\":\"1dd8a622-1475-490f-9650-efdffbb3f7dc\",\"type\":\"UnionRenderers\"}},\"id\":\"5adc0758-3bc1-4f38-b011-d44ab5deca1e\",\"type\":\"ColumnDataSource\"},{\"attributes\":{\"active_drag\":\"auto\",\"active_inspect\":\"auto\",\"active_scroll\":\"auto\",\"active_tap\":\"auto\",\"tools\":[{\"id\":\"4bb1f959-8d1a-470c-95be-907291a6b092\",\"type\":\"PanTool\"},{\"id\":\"e3440a25-3063-49f9-9e61-ef66b172172a\",\"type\":\"WheelZoomTool\"},{\"id\":\"9872b393-92bb-4801-b287-34998a6dd441\",\"type\":\"BoxZoomTool\"},{\"id\":\"b50c1628-70e1-49fd-a9aa-b21353a10b1b\",\"type\":\"SaveTool\"},{\"id\":\"9dbcb0e1-462e-4f95-9e6d-cc32d7bb3445\",\"type\":\"ResetTool\"},{\"id\":\"9bdd54e5-3c8d-4261-a248-190bd8d6a105\",\"type\":\"HelpTool\"}]},\"id\":\"987be81b-b21b-4591-9545-a6917f319494\",\"type\":\"Toolbar\"},{\"attributes\":{},\"id\":\"efad7d5e-4fad-46d6-ab93-253b5f8af6a2\",\"type\":\"HelpTool\"},{\"attributes\":{\"source\":{\"id\":\"30f74f00-4de3-44fe-910b-bd71f3524352\",\"type\":\"ColumnDataSource\"}},\"id\":\"55fd5fdc-b9ab-4f5d-9a28-e5f902957e17\",\"type\":\"CDSView\"},{\"attributes\":{\"callback\":null,\"end\":0.9923263993893404,\"start\":-1.6756176356833394},\"id\":\"46b1fb34-8e92-4eff-8760-e59f7306de7a\",\"type\":\"Range1d\"},{\"attributes\":{},\"id\":\"ab15d516-44ad-473e-b217-13595e4fbf3d\",\"type\":\"BasicTickFormatter\"},{\"attributes\":{},\"id\":\"60d4adb9-a0cd-461a-b4f8-80635b344ba4\",\"type\":\"BasicTicker\"},{\"attributes\":{\"bottom_units\":\"screen\",\"fill_alpha\":{\"value\":0.5},\"fill_color\":{\"value\":\"lightgrey\"},\"left_units\":\"screen\",\"level\":\"overlay\",\"line_alpha\":{\"value\":1.0},\"line_color\":{\"value\":\"black\"},\"line_dash\":[4,4],\"line_width\":{\"value\":2},\"plot\":null,\"render_mode\":\"css\",\"right_units\":\"screen\",\"top_units\":\"screen\"},\"id\":\"56aba895-f4f8-4540-82cc-b2e50a3142de\",\"type\":\"BoxAnnotation\"},{\"attributes\":{},\"id\":\"5caee111-13ae-4572-bc6d-e3d5d853730a\",\"type\":\"Selection\"},{\"attributes\":{},\"id\":\"4c7a7d84-bb8e-446c-a5d0-27632ae5410e\",\"type\":\"LinearScale\"},{\"attributes\":{\"axis_label\":\"pressure [mb]\",\"formatter\":{\"id\":\"5f095a3f-3a3d-4c2d-aff5-82f7bdce58a1\",\"type\":\"LogTickFormatter\"},\"plot\":{\"id\":\"5bda65f6-5a5a-41b6-8afd-2c562c314c50\",\"subtype\":\"Figure\",\"type\":\"Plot\"},\"ticker\":{\"id\":\"0f44e2e9-069e-4290-b5ba-86ae36eb4e79\",\"type\":\"LogTicker\"}},\"id\":\"85b0ed3e-7d3e-44c3-aae1-cbd94f2b4763\",\"type\":\"LogAxis\"},{\"attributes\":{\"plot\":{\"id\":\"ea14c00a-af44-43ea-a55a-12f1ca14ae71\",\"subtype\":\"Figure\",\"type\":\"Plot\"},\"ticker\":{\"id\":\"27144f13-3025-46ab-b8c0-2d2f2c1cc395\",\"type\":\"BasicTicker\"}},\"id\":\"62e82059-d712-48d6-a0e8-3b463edee11e\",\"type\":\"Grid\"},{\"attributes\":{\"callback\":null,\"data\":{\"x\":{\"__ndarray__\":\"0CYBcvU5UkCik9zf2GVBQF1VoNfLZ0BAVLxhiVXTPUDD1Wu1wJM6QFJyB025jjdAU6Aw5+b/NECYe1uuDfgyQB6bYtVTbTFAPxYSAF1HMEA00pYVm9QuQLolHbMzgC1AntlwirGsLECv+G9SjE4rQJH6ZLBp0ShAsLZQyPd/JkDyjgyf2PwkQLgyNGsrJyRAA13QbJD6I0C8hy0ilI4kQOVTXCEgcSZAovOGvZSGJUBVc/ZmUOIgQOf/6GHAyRlAcE8fAOBSFEDRur1U//gPQGFD9ZbokghAQsqHuSqSA0C91ci3W0UBQCtRQfvz7/4/kh8pntyB+j9t1/n+4TX1P773MAUjFfI/RgzR+CI28T8hBW8WHK7uPzVKjJfU8uk/0FPt4/z65T/wVYqzMPDhPz7K9C5CXuE/8+hSn9hY4T/9PPCkR6rhP1XsIC599OA/66X1nBCX3z/YbRM56QjcPz4dkSQc/dM/S7Wb8Fq00T+/yQdmX0vcP7TrGf476eM/WqNPJoWO7D9qOH1bcwDzP2bw+R5DQ/Y/RLSuQOQp+D8+aif8yAz5P0Wv6eBKRfk/0i2+IN4R+T/ik8QNFZr4PyS5UD5j/Pc/yJ68zXRG9z/2CHPL54H2P59SOhwKtPU/npkP8dfg9D8NlmVcdQz0P80ugRvuOvM/byxiAHN18j9USVZie8nxP5l9lNXYSPE/OB+F0UYP8T8Y7dsUCTHxP3EBgTHPcPE/bfx15p8S8T8FT+xkGtTuP6mdG7rkxuk/pboqTkHX5D/CrN8qGYngP7R4ZaL+htU/\",\"dtype\":\"float64\",\"shape\":[75]},\"y\":{\"__ndarray__\":\"GhExyth1ND/Sv8nbtpRIP2vylNV0PVE/aTum7souWD/At0SJ8fVgPw3Iuahxymc/MSNhhJWvcD/bTfBN02d3P2zb5nxnaoA/CD5h5MAGhz8NmeH1TyaQP+zrCsc9p5Y/LbKd76fGnz/bLW5ISEmmPww9YvTcQq8/JV2OstnstT8Er5Y7M8G+P0c+r3jqkcU/5h99k6ZBzj88bCIzFzjVP4enV8oyxN0//yH99nXg5D8qOpLLf0jtP5kqGJXUifQ/c9cS8kHP/D+/DpwzojQEQIEmwoanVwxA4lgXt9HgE0BSSZ2AJuIbQAMJih9jjiNA5q4l5INuK0AwTKYKRj0zQNv5fmq8/DpAaCJseHrtQkB/+zpwzoxKQM3MzMzMeFJAZmZmZmZqWEAAAAAAAFxeQM3MzMzMJmJAmpmZmZkfZUBmZmZmZhhoQDMzMzMzEWtAAAAAAAAKbkBmZmZmZoFwQM3MzMzM/XFAMzMzMzN6c0CamZmZmfZ0QAAAAAAAc3ZAZmZmZmbvd0DNzMzMzGt5QDMzMzMz6HpAmpmZmZlkfEAAAAAAAOF9QGZmZmZmXX9AZmZmZuZsgECamZmZGSuBQM3MzMxM6YFAAAAAAICngkAzMzMzs2WDQGZmZmbmI4RAmpmZmRnihEDNzMzMTKCFQAAAAACAXoZAMzMzM7Mch0BmZmZm5tqHQJqZmZkZmYhAzczMzExXiUAAAAAAgBWKQDMzMzOz04pAZmZmZuaRi0CamZmZGVCMQM3MzMxMDo1AAAAAAIDMjUAzMzMzs4qOQGZmZmbmSI9A\",\"dtype\":\"float64\",\"shape\":[75]}},\"selected\":{\"id\":\"3631777c-bb73-4bd6-af2c-17c8b78d0465\",\"type\":\"Selection\"},\"selection_policy\":{\"id\":\"b2905ebe-9778-4db4-b7e5-985b6970244d\",\"type\":\"UnionRenderers\"}},\"id\":\"bd614bb6-f873-4caf-9dc7-c86c906deacf\",\"type\":\"ColumnDataSource\"},{\"attributes\":{\"axis_label\":\"cooling rate [K/day]\",\"formatter\":{\"id\":\"c50ff762-8b0d-4634-8ce0-2a9c2d8984fe\",\"type\":\"BasicTickFormatter\"},\"plot\":{\"id\":\"5bda65f6-5a5a-41b6-8afd-2c562c314c50\",\"subtype\":\"Figure\",\"type\":\"Plot\"},\"ticker\":{\"id\":\"fd173942-9bc9-4876-a848-a1a2f8a8f421\",\"type\":\"BasicTicker\"}},\"id\":\"5441ff8a-cb92-4ab1-9d1c-1900adc1a068\",\"type\":\"LinearAxis\"},{\"attributes\":{\"callback\":null,\"end\":16.436989944653767,\"start\":0.2978233925572301},\"id\":\"ea272b00-bf89-49ce-a910-ca0109fbba7e\",\"type\":\"Range1d\"},{\"attributes\":{\"active_drag\":\"auto\",\"active_inspect\":\"auto\",\"active_scroll\":\"auto\",\"active_tap\":\"auto\",\"tools\":[{\"id\":\"06947b6f-28f3-4683-ad9e-bb2dc865a8b1\",\"type\":\"PanTool\"},{\"id\":\"36e7d21e-d1d1-4ab5-a7dc-2e69e0136a40\",\"type\":\"WheelZoomTool\"},{\"id\":\"810e98bd-dab0-491d-88c8-48fc58ebb517\",\"type\":\"BoxZoomTool\"},{\"id\":\"8809b5d4-a5d6-4eb3-a696-1dcdd14a4a7b\",\"type\":\"SaveTool\"},{\"id\":\"b1b407f1-e98c-473f-80e2-b46a70a2e759\",\"type\":\"ResetTool\"},{\"id\":\"8562a122-7543-49dd-96a3-4975f67ff2a7\",\"type\":\"HelpTool\"}]},\"id\":\"6fe13b9c-96b7-4b90-ae78-9a0a5d08f886\",\"type\":\"Toolbar\"},{\"attributes\":{},\"id\":\"fd9a4ec6-c1b9-4bbd-9b39-00db112cb616\",\"type\":\"LinearScale\"},{\"attributes\":{\"line_alpha\":0.1,\"line_color\":\"#1f77b4\",\"line_dash\":[6],\"line_width\":5,\"x\":{\"field\":\"x\"},\"y\":{\"field\":\"y\"}},\"id\":\"2419d104-d3be-4703-a803-36e8fe55710f\",\"type\":\"Line\"},{\"attributes\":{},\"id\":\"4e73925f-5c6a-4ca3-99d0-de4099abd927\",\"type\":\"BasicTickFormatter\"},{\"attributes\":{},\"id\":\"fa145243-9ac1-439c-b6b4-1ad9c3dc608f\",\"type\":\"LogScale\"},{\"attributes\":{},\"id\":\"fd173942-9bc9-4876-a848-a1a2f8a8f421\",\"type\":\"BasicTicker\"},{\"attributes\":{\"callback\":null,\"data\":{\"x\":{\"__ndarray__\":\"0XZYQhPeQ8B0WxUULvcYwI2EcKGEpAPAlh5fYJYf8j+glAJhbZwLQLWVwWSh2g9AFhdIc8HLBkBg3X+F1jzrP4Snl+XZl+2/xpUFjjFk+r8vru0r0Bn0v3nq5v0qxNS/SagMf1Ku4D90VdqG3eruP2X+6xdZBu0/KfgVfksY2T9/eiWQ0NPQv2qkXacJWeW/6tFCVXhs5b8IfTBVmnDav15Z6oxvwMG/ku3M5Dhisj9uGtMClkrBP9/P1+Ae1bm/8v1+zz9fzb95wlmq5digv9v7ldwFYtE/T6oq5dn10T95vAvSCUO8P/IzafGWv6A/vXibZXJMxD/QfrUK4RzNPyPJifsq2cA/fgqrrlAydr+FBUdqe7RpPySVNnRYWbM/PTT91Lo7qD+z7980FbeYv8/HBFriprO/4SWx+AoHtr914o9Z/qeyv3OhHiLVuay/MR+AaCR+pb9S0Fbns1yav6gUdUHCt5C/sVoy1fsHhr8kYRRGqHBAv+Tvp3IGmHS/vNQEUSRVm7/xiZUnep+qv7wRw8xGgKq//jr08J/Aor8T/W3qplmjv06mdqApzKq/ipIcLNKRqr/FIhpdnVylv+glZ5uxpZ+/7ic415lLmL/ZFH0XlaGTvxqBoHEb7Im/lBovJ2kBhL8PA9p2U3OBvxiE7vHOUYS/PoD6885Yhr9j8Wc9mjiEvxwRGdtOEHq/oDnA2uu5Ob9QtLPYBJl/P348w+0z24s/5Arp3Czfkj+4jERjS2GWP6j+qCzXEpg/tRz7FjRtlz/d0YFhh1WXPwiz/HPrUpY/\",\"dtype\":\"float64\",\"shape\":[75]},\"y\":{\"__ndarray__\":\"GhExyth1ND/Sv8nbtpRIP2vylNV0PVE/aTum7souWD/At0SJ8fVgPw3Iuahxymc/MSNhhJWvcD/bTfBN02d3P2zb5nxnaoA/CD5h5MAGhz8NmeH1TyaQP+zrCsc9p5Y/LbKd76fGnz/bLW5ISEmmPww9YvTcQq8/JV2OstnstT8Er5Y7M8G+P0c+r3jqkcU/5h99k6ZBzj88bCIzFzjVP4enV8oyxN0//yH99nXg5D8qOpLLf0jtP5kqGJXUifQ/c9cS8kHP/D+/DpwzojQEQIEmwoanVwxA4lgXt9HgE0BSSZ2AJuIbQAMJih9jjiNA5q4l5INuK0AwTKYKRj0zQNv5fmq8/DpAaCJseHrtQkB/+zpwzoxKQM3MzMzMeFJAZmZmZmZqWEAAAAAAAFxeQM3MzMzMJmJAmpmZmZkfZUBmZmZmZhhoQDMzMzMzEWtAAAAAAAAKbkBmZmZmZoFwQM3MzMzM/XFAMzMzMzN6c0CamZmZmfZ0QAAAAAAAc3ZAZmZmZmbvd0DNzMzMzGt5QDMzMzMz6HpAmpmZmZlkfEAAAAAAAOF9QGZmZmZmXX9AZmZmZuZsgECamZmZGSuBQM3MzMxM6YFAAAAAAICngkAzMzMzs2WDQGZmZmbmI4RAmpmZmRnihEDNzMzMTKCFQAAAAACAXoZAMzMzM7Mch0BmZmZm5tqHQJqZmZkZmYhAzczMzExXiUAAAAAAgBWKQDMzMzOz04pAZmZmZuaRi0CamZmZGVCMQM3MzMxMDo1AAAAAAIDMjUAzMzMzs4qOQGZmZmbmSI9A\",\"dtype\":\"float64\",\"shape\":[75]}},\"selected\":{\"id\":\"058499fe-2e6b-4547-bf8f-fbd17695797c\",\"type\":\"Selection\"},\"selection_policy\":{\"id\":\"d7ef2520-0a10-4537-a8c9-aadc6cda016f\",\"type\":\"UnionRenderers\"}},\"id\":\"a67e3930-e63c-4b8d-9918-d87225753ea9\",\"type\":\"ColumnDataSource\"},{\"attributes\":{\"above\":[{\"id\":\"2bcf9623-4bd9-416a-b3d4-8a040e39e104\",\"type\":\"Legend\"}],\"below\":[{\"id\":\"bbd163d9-4cc6-4850-8c4c-4b88d16a0d87\",\"type\":\"LinearAxis\"}],\"left\":[{\"id\":\"8d0e54aa-de83-4348-afde-c2166b8407f8\",\"type\":\"LogAxis\"}],\"plot_width\":300,\"renderers\":[{\"id\":\"bbd163d9-4cc6-4850-8c4c-4b88d16a0d87\",\"type\":\"LinearAxis\"},{\"id\":\"75401e59-c162-4dbb-960d-3640236c38f8\",\"type\":\"Grid\"},{\"id\":\"8d0e54aa-de83-4348-afde-c2166b8407f8\",\"type\":\"LogAxis\"},{\"id\":\"899d95aa-d242-4cd2-8944-4d322e42bb1d\",\"type\":\"Grid\"},{\"id\":\"baf406be-2275-47bc-91bd-8c03e6504d92\",\"type\":\"BoxAnnotation\"},{\"id\":\"f33bc07d-3f73-4156-884b-f4f69fe0479b\",\"type\":\"GlyphRenderer\"},{\"id\":\"f6db8591-45d1-4ffc-a7aa-1e4405ebbec0\",\"type\":\"GlyphRenderer\"},{\"id\":\"7e3769ab-a176-4ecb-bc9c-892df55bd27a\",\"type\":\"GlyphRenderer\"},{\"id\":\"2bcf9623-4bd9-416a-b3d4-8a040e39e104\",\"type\":\"Legend\"}],\"title\":{\"id\":\"990d1ae0-5dce-456b-a56e-bc33381f72ef\",\"type\":\"Title\"},\"toolbar\":{\"id\":\"987be81b-b21b-4591-9545-a6917f319494\",\"type\":\"Toolbar\"},\"toolbar_location\":null,\"x_range\":{\"id\":\"ea272b00-bf89-49ce-a910-ca0109fbba7e\",\"type\":\"Range1d\"},\"x_scale\":{\"id\":\"dfa7507f-97f5-4433-ac2e-e7731a86fb93\",\"type\":\"LinearScale\"},\"y_range\":{\"id\":\"09f7ea04-7885-4d9f-961b-b367c355e6be\",\"type\":\"Range1d\"},\"y_scale\":{\"id\":\"a3315b7a-337b-4abd-9a86-023ad9d0e823\",\"type\":\"LogScale\"}},\"id\":\"c5e4c31e-2023-42b0-a281-8086b062831c\",\"subtype\":\"Figure\",\"type\":\"Plot\"},{\"attributes\":{},\"id\":\"4375d7f4-92a3-49f5-a9b3-c5270d010dfe\",\"type\":\"Selection\"},{\"attributes\":{\"active_drag\":\"auto\",\"active_inspect\":\"auto\",\"active_scroll\":\"auto\",\"active_tap\":\"auto\",\"tools\":[{\"id\":\"3dc6040f-5e09-4dc1-a6d3-135b2fd7b0a0\",\"type\":\"PanTool\"},{\"id\":\"b6d5cedd-d72c-4b30-aaeb-cd0568692e3b\",\"type\":\"WheelZoomTool\"},{\"id\":\"a154b079-6e95-469b-97d7-1e47576c3591\",\"type\":\"BoxZoomTool\"},{\"id\":\"edaf2734-2971-40e4-a864-3d6a962477cc\",\"type\":\"SaveTool\"},{\"id\":\"3230ddd1-0f41-490d-bbfe-8024a674d875\",\"type\":\"ResetTool\"},{\"id\":\"efad7d5e-4fad-46d6-ab93-253b5f8af6a2\",\"type\":\"HelpTool\"}]},\"id\":\"e09cc164-d94b-46b1-99c1-d7d4f38531ba\",\"type\":\"Toolbar\"},{\"attributes\":{\"source\":{\"id\":\"67ac9fa5-ab56-4502-9612-a09120d26ffe\",\"type\":\"ColumnDataSource\"}},\"id\":\"e77fa7d1-f80b-4a4b-a7e1-b65eca50e195\",\"type\":\"CDSView\"},{\"attributes\":{\"data_source\":{\"id\":\"bd614bb6-f873-4caf-9dc7-c86c906deacf\",\"type\":\"ColumnDataSource\"},\"glyph\":{\"id\":\"7960f417-d074-4d9c-87fd-8255ff07fea5\",\"type\":\"Line\"},\"hover_glyph\":null,\"muted_glyph\":null,\"nonselection_glyph\":{\"id\":\"e612bd23-0435-495b-903f-a1e1ca1fd347\",\"type\":\"Line\"},\"selection_glyph\":null,\"view\":{\"id\":\"ef2e50cc-be19-4510-afa5-a91282ea6a77\",\"type\":\"CDSView\"}},\"id\":\"7e3769ab-a176-4ecb-bc9c-892df55bd27a\",\"type\":\"GlyphRenderer\"},{\"attributes\":{\"dimension\":1,\"plot\":{\"id\":\"5bda65f6-5a5a-41b6-8afd-2c562c314c50\",\"subtype\":\"Figure\",\"type\":\"Plot\"},\"ticker\":{\"id\":\"0f44e2e9-069e-4290-b5ba-86ae36eb4e79\",\"type\":\"LogTicker\"}},\"id\":\"ae45a403-44ca-40af-8563-6ea8b03760ca\",\"type\":\"Grid\"},{\"attributes\":{\"data_source\":{\"id\":\"f00e1e5a-c97d-402c-abb9-62e4b97a8fe6\",\"type\":\"ColumnDataSource\"},\"glyph\":{\"id\":\"ea849f75-7e31-4227-ac28-e1eee66e2c91\",\"type\":\"Line\"},\"hover_glyph\":null,\"muted_glyph\":null,\"nonselection_glyph\":{\"id\":\"7bab2437-ff33-41f9-b9df-086f2a80333a\",\"type\":\"Line\"},\"selection_glyph\":null,\"view\":{\"id\":\"8c0abace-264b-4b20-9ecc-c6d34f2a9378\",\"type\":\"CDSView\"}},\"id\":\"4532fbb1-fa6b-4d9b-9fa1-ee07982edbc4\",\"type\":\"GlyphRenderer\"},{\"attributes\":{\"axis_label\":\"pressure [mb]\",\"formatter\":{\"id\":\"4e73925f-5c6a-4ca3-99d0-de4099abd927\",\"type\":\"BasicTickFormatter\"},\"plot\":{\"id\":\"ea14c00a-af44-43ea-a55a-12f1ca14ae71\",\"subtype\":\"Figure\",\"type\":\"Plot\"},\"ticker\":{\"id\":\"60d4adb9-a0cd-461a-b4f8-80635b344ba4\",\"type\":\"BasicTicker\"}},\"id\":\"74e79e2d-1de8-4d5a-97ab-92473fafa7bd\",\"type\":\"LinearAxis\"},{\"attributes\":{\"items\":[{\"id\":\"0c671e64-4010-4af2-8c19-0a7fc0b08cc6\",\"type\":\"LegendItem\"}],\"label_text_font_size\":{\"value\":\"8pt\"},\"location\":\"top_center\",\"orientation\":\"horizontal\",\"plot\":{\"id\":\"5bda65f6-5a5a-41b6-8afd-2c562c314c50\",\"subtype\":\"Figure\",\"type\":\"Plot\"}},\"id\":\"8affec04-79eb-46cb-8418-a9dbdc72eb33\",\"type\":\"Legend\"},{\"attributes\":{\"line_alpha\":0.1,\"line_color\":\"#1f77b4\",\"line_width\":1.5,\"x\":{\"field\":\"x\"},\"y\":{\"field\":\"y\"}},\"id\":\"e612bd23-0435-495b-903f-a1e1ca1fd347\",\"type\":\"Line\"},{\"attributes\":{\"dimension\":1,\"plot\":{\"id\":\"ea14c00a-af44-43ea-a55a-12f1ca14ae71\",\"subtype\":\"Figure\",\"type\":\"Plot\"},\"ticker\":{\"id\":\"60d4adb9-a0cd-461a-b4f8-80635b344ba4\",\"type\":\"BasicTicker\"}},\"id\":\"7315ccba-8501-4dcf-963a-3aca6bb45d15\",\"type\":\"Grid\"},{\"attributes\":{},\"id\":\"3dc6040f-5e09-4dc1-a6d3-135b2fd7b0a0\",\"type\":\"PanTool\"},{\"attributes\":{\"fill_alpha\":{\"value\":0.1},\"fill_color\":{\"value\":\"#1f77b4\"},\"line_alpha\":{\"value\":0.1},\"line_color\":{\"value\":\"#1f77b4\"},\"x\":{\"field\":\"x\"},\"y\":{\"field\":\"y\"}},\"id\":\"30925981-d454-41ec-bbc4-910751b9d0fb\",\"type\":\"Circle\"},{\"attributes\":{\"source\":{\"id\":\"f00e1e5a-c97d-402c-abb9-62e4b97a8fe6\",\"type\":\"ColumnDataSource\"}},\"id\":\"8c0abace-264b-4b20-9ecc-c6d34f2a9378\",\"type\":\"CDSView\"}],\"root_ids\":[\"b4f0796c-5bb7-4ce0-9636-9da0f232ccad\"]},\"title\":\"Bokeh Application\",\"version\":\"0.12.16\"}};\n",
       "  var render_items = [{\"docid\":\"fdab6a28-b272-4381-abf1-3f15be52be83\",\"elementid\":\"da982ca2-634a-46cc-87ce-e404cc28452c\",\"modelid\":\"b4f0796c-5bb7-4ce0-9636-9da0f232ccad\"}];\n",
       "  root.Bokeh.embed.embed_items_notebook(docs_json, render_items);\n",
       "\n",
       "  }\n",
       "  if (root.Bokeh !== undefined) {\n",
       "    embed_document(root);\n",
       "  } else {\n",
       "    var attempts = 0;\n",
       "    var timer = setInterval(function(root) {\n",
       "      if (root.Bokeh !== undefined) {\n",
       "        embed_document(root);\n",
       "        clearInterval(timer);\n",
       "      }\n",
       "      attempts++;\n",
       "      if (attempts > 100) {\n",
       "        console.log(\"Bokeh: ERROR: Unable to run BokehJS code because BokehJS library is missing\")\n",
       "        clearInterval(timer);\n",
       "      }\n",
       "    }, 10, root)\n",
       "  }\n",
       "})(window);"
      ],
      "application/vnd.bokehjs_exec.v0+json": ""
     },
     "metadata": {
      "application/vnd.bokehjs_exec.v0+json": {
       "id": "b4f0796c-5bb7-4ce0-9636-9da0f232ccad"
      }
     },
     "output_type": "display_data"
    },
    {
     "data": {
      "text/markdown": [
       "*FIGURE.* Cooling rates & difference."
      ],
      "text/plain": [
       "<IPython.core.display.Markdown object>"
      ]
     },
     "metadata": {},
     "output_type": "display_data"
    },
    {
     "data": {
      "text/html": [
       "<a id=\"Fluxes._saw.\"></a>"
      ],
      "text/plain": [
       "<IPython.core.display.HTML object>"
      ]
     },
     "metadata": {},
     "output_type": "display_data"
    },
    {
     "data": {
      "text/markdown": [
       "# Fluxes. saw."
      ],
      "text/plain": [
       "<IPython.core.display.Markdown object>"
      ]
     },
     "metadata": {},
     "output_type": "display_data"
    },
    {
     "data": {
      "text/html": [
       "\n",
       "<div class=\"bk-root\">\n",
       "    <div class=\"bk-plotdiv\" id=\"00818961-6f05-4a5e-b6e7-f0fcf0b68a02\"></div>\n",
       "</div>"
      ]
     },
     "metadata": {},
     "output_type": "display_data"
    },
    {
     "data": {
      "application/javascript": [
       "(function(root) {\n",
       "  function embed_document(root) {\n",
       "    \n",
       "  var docs_json = {\"7e12567f-0d47-4c9f-b81b-8f972c184639\":{\"roots\":{\"references\":[{\"attributes\":{\"active_drag\":\"auto\",\"active_inspect\":\"auto\",\"active_scroll\":\"auto\",\"active_tap\":\"auto\",\"tools\":[{\"id\":\"a845e80b-808b-443a-856f-f891b8dd9dc7\",\"type\":\"PanTool\"},{\"id\":\"500df57d-f2ec-4284-b7e9-65d00800ec87\",\"type\":\"WheelZoomTool\"},{\"id\":\"a1e37bab-ce79-4f3d-ac22-36ced119e417\",\"type\":\"BoxZoomTool\"},{\"id\":\"7c02067b-cd58-4b67-a0df-10e5f7f490d7\",\"type\":\"SaveTool\"},{\"id\":\"b8f685ca-6d72-4a7e-9c26-d28d0891a021\",\"type\":\"ResetTool\"},{\"id\":\"48add7b2-2119-4fae-8b86-4f34784926d4\",\"type\":\"HelpTool\"}]},\"id\":\"881955d4-8b00-4ba1-980f-ebcb532e5c8e\",\"type\":\"Toolbar\"},{\"attributes\":{\"plot\":null,\"text\":\"SFC flux. CLIRAD (single-run) - CRD.\"},\"id\":\"ccc9ce79-6b27-4cf8-a1af-0b40fee86540\",\"type\":\"Title\"},{\"attributes\":{\"below\":[{\"id\":\"43c1a099-ca2e-4907-bb3b-1dfaf005dad4\",\"type\":\"CategoricalAxis\"}],\"left\":[{\"id\":\"88af7779-651c-48be-aaa0-0e3bf1b2ea93\",\"type\":\"LinearAxis\"}],\"plot_height\":300,\"plot_width\":300,\"renderers\":[{\"id\":\"43c1a099-ca2e-4907-bb3b-1dfaf005dad4\",\"type\":\"CategoricalAxis\"},{\"id\":\"a5047485-6a0e-4636-bac5-ea34a27c832f\",\"type\":\"Grid\"},{\"id\":\"88af7779-651c-48be-aaa0-0e3bf1b2ea93\",\"type\":\"LinearAxis\"},{\"id\":\"7f0af76b-ce5a-4b3e-b20b-9561540b17d5\",\"type\":\"Grid\"},{\"id\":\"68903d26-26fb-49ef-8b17-947527c48853\",\"type\":\"BoxAnnotation\"},{\"id\":\"a328ef0d-77a1-4b46-af58-93a9440271bb\",\"type\":\"GlyphRenderer\"}],\"title\":{\"id\":\"ccc9ce79-6b27-4cf8-a1af-0b40fee86540\",\"type\":\"Title\"},\"toolbar\":{\"id\":\"881955d4-8b00-4ba1-980f-ebcb532e5c8e\",\"type\":\"Toolbar\"},\"toolbar_location\":null,\"x_range\":{\"id\":\"95f6c522-a798-47c3-a9f5-1b9a6f5c9780\",\"type\":\"FactorRange\"},\"x_scale\":{\"id\":\"bf84c715-811b-42ee-952c-bbec2645b285\",\"type\":\"CategoricalScale\"},\"y_range\":{\"id\":\"8de2e040-f8b9-4212-bf39-3d07ee65589b\",\"type\":\"DataRange1d\"},\"y_scale\":{\"id\":\"cb585c09-563d-474e-ac37-372594697f45\",\"type\":\"LinearScale\"}},\"id\":\"396ae64f-3d2a-41ce-9f03-25053de36a4f\",\"subtype\":\"Figure\",\"type\":\"Plot\"},{\"attributes\":{},\"id\":\"adfbb977-4f8c-46d1-b47a-7a02f45a2157\",\"type\":\"BasicTicker\"},{\"attributes\":{},\"id\":\"5f73f016-6947-4670-baf6-905d53faa834\",\"type\":\"HelpTool\"},{\"attributes\":{\"axis_label\":\"spectral band\",\"formatter\":{\"id\":\"98b76d31-447e-442b-9b58-f8da0cd8e82c\",\"type\":\"CategoricalTickFormatter\"},\"plot\":{\"id\":\"eca3d36a-5785-40d7-994e-2e658aba4489\",\"subtype\":\"Figure\",\"type\":\"Plot\"},\"ticker\":{\"id\":\"2b55bab0-bead-4981-896b-211bc95d7fb7\",\"type\":\"CategoricalTicker\"}},\"id\":\"c753f437-910d-4b4a-8212-83cabd28012f\",\"type\":\"CategoricalAxis\"},{\"attributes\":{\"dimension\":1,\"plot\":{\"id\":\"da6e1aaf-9c75-47f6-9420-66dca66bb045\",\"subtype\":\"Figure\",\"type\":\"Plot\"},\"ticker\":{\"id\":\"adfbb977-4f8c-46d1-b47a-7a02f45a2157\",\"type\":\"BasicTicker\"}},\"id\":\"fa5b0e13-0709-44ca-89c3-b3989b42c840\",\"type\":\"Grid\"},{\"attributes\":{},\"id\":\"fe2c4eff-23ed-4db2-a0cd-e4a1df99987c\",\"type\":\"LinearScale\"},{\"attributes\":{},\"id\":\"bf84c715-811b-42ee-952c-bbec2645b285\",\"type\":\"CategoricalScale\"},{\"attributes\":{},\"id\":\"d2bf27ea-4d2f-4c53-b1a2-d165dc175b3b\",\"type\":\"SaveTool\"},{\"attributes\":{},\"id\":\"352f57c0-f0b6-401b-8135-be85a0e57865\",\"type\":\"WheelZoomTool\"},{\"attributes\":{\"plot\":null,\"text\":\"Atmosphere heating. CLIRAD (single-run) - CRD.\"},\"id\":\"8f930ecc-cf90-4cf3-a2b2-c3c8929eed72\",\"type\":\"Title\"},{\"attributes\":{\"axis_label\":\"spectral band\",\"formatter\":{\"id\":\"eb6bf591-3be0-4e57-84eb-e50b2aab095d\",\"type\":\"CategoricalTickFormatter\"},\"plot\":{\"id\":\"da6e1aaf-9c75-47f6-9420-66dca66bb045\",\"subtype\":\"Figure\",\"type\":\"Plot\"},\"ticker\":{\"id\":\"b191fe77-e548-4817-a8ac-a744be16c23e\",\"type\":\"CategoricalTicker\"}},\"id\":\"e45c76d6-9b31-4323-bb13-6c0b0ab3680a\",\"type\":\"CategoricalAxis\"},{\"attributes\":{\"fill_color\":{\"value\":\"#1f77b4\"},\"line_color\":{\"value\":\"#1f77b4\"},\"top\":{\"field\":\"flux\"},\"width\":{\"value\":0.9},\"x\":{\"field\":\"band\"}},\"id\":\"4a49759f-20be-4d5a-9ead-d31213bdf9ef\",\"type\":\"VBar\"},{\"attributes\":{\"overlay\":{\"id\":\"0c23a3fe-d575-4d20-b48d-aa7c75c4fbcf\",\"type\":\"BoxAnnotation\"}},\"id\":\"000e19f7-4474-46a9-b0ca-65eb859f111b\",\"type\":\"BoxZoomTool\"},{\"attributes\":{},\"id\":\"4c4e8436-9dfd-4034-ba74-62d0ea74ef7d\",\"type\":\"CategoricalTicker\"},{\"attributes\":{\"fill_alpha\":{\"value\":0.1},\"fill_color\":{\"value\":\"#1f77b4\"},\"line_alpha\":{\"value\":0.1},\"line_color\":{\"value\":\"#1f77b4\"},\"top\":{\"field\":\"flux\"},\"width\":{\"value\":0.9},\"x\":{\"field\":\"band\"}},\"id\":\"917dfe6d-4d34-4c24-9fcb-588359f5e631\",\"type\":\"VBar\"},{\"attributes\":{\"fill_alpha\":{\"value\":0.1},\"fill_color\":{\"value\":\"#1f77b4\"},\"line_alpha\":{\"value\":0.1},\"line_color\":{\"value\":\"#1f77b4\"},\"top\":{\"field\":\"flux\"},\"width\":{\"value\":0.9},\"x\":{\"field\":\"band\"}},\"id\":\"71d44564-f1fb-476e-a308-36c980208608\",\"type\":\"VBar\"},{\"attributes\":{\"callback\":null,\"data\":{\"band\":[\"1\",\"2\",\"3\",\"4\",\"5\",\"6\",\"7\",\"8\",\"9\",\"10\",\"11\"],\"flux\":{\"__ndarray__\":\"AEDdJAaBZb8Asg5HV+nAvwA2IEJcueC/AAeY+Q5+tj/A8wOyMnXIPyAWSPVCprm/QFhl8EEZsD9YJ4mAnmGyvwDdJRad0ZM/AJDEy9O5oj8Ad2DnQ6NtPw==\",\"dtype\":\"float64\",\"shape\":[11]}},\"selected\":{\"id\":\"f33d5235-923b-4aea-a103-c9de526079d0\",\"type\":\"Selection\"},\"selection_policy\":{\"id\":\"e11b7706-71d4-43c5-8ca4-f646708a9d93\",\"type\":\"UnionRenderers\"}},\"id\":\"5556485f-0e9a-4fac-874d-abfddd733426\",\"type\":\"ColumnDataSource\"},{\"attributes\":{},\"id\":\"b191fe77-e548-4817-a8ac-a744be16c23e\",\"type\":\"CategoricalTicker\"},{\"attributes\":{},\"id\":\"f33d5235-923b-4aea-a103-c9de526079d0\",\"type\":\"Selection\"},{\"attributes\":{\"tools\":[{\"id\":\"648baed8-c071-4da2-8d7c-b71d7c8eba51\",\"type\":\"PanTool\"},{\"id\":\"7b23c0c7-920f-41d4-9af6-f978feaa27bd\",\"type\":\"WheelZoomTool\"},{\"id\":\"000e19f7-4474-46a9-b0ca-65eb859f111b\",\"type\":\"BoxZoomTool\"},{\"id\":\"d2bf27ea-4d2f-4c53-b1a2-d165dc175b3b\",\"type\":\"SaveTool\"},{\"id\":\"ea5f2751-4521-4b05-882e-5d9f2407204f\",\"type\":\"ResetTool\"},{\"id\":\"5f73f016-6947-4670-baf6-905d53faa834\",\"type\":\"HelpTool\"},{\"id\":\"a845e80b-808b-443a-856f-f891b8dd9dc7\",\"type\":\"PanTool\"},{\"id\":\"500df57d-f2ec-4284-b7e9-65d00800ec87\",\"type\":\"WheelZoomTool\"},{\"id\":\"a1e37bab-ce79-4f3d-ac22-36ced119e417\",\"type\":\"BoxZoomTool\"},{\"id\":\"7c02067b-cd58-4b67-a0df-10e5f7f490d7\",\"type\":\"SaveTool\"},{\"id\":\"b8f685ca-6d72-4a7e-9c26-d28d0891a021\",\"type\":\"ResetTool\"},{\"id\":\"48add7b2-2119-4fae-8b86-4f34784926d4\",\"type\":\"HelpTool\"},{\"id\":\"e8c72bf8-bd90-4689-94ca-382b50aadd86\",\"type\":\"PanTool\"},{\"id\":\"352f57c0-f0b6-401b-8135-be85a0e57865\",\"type\":\"WheelZoomTool\"},{\"id\":\"27510b58-ddd1-4f13-bdd8-ef6381bfedaf\",\"type\":\"BoxZoomTool\"},{\"id\":\"ac3bd3b9-ba4f-48f6-80f9-92490ba72d68\",\"type\":\"SaveTool\"},{\"id\":\"4b52f322-5b8f-4cdc-89b4-026ba17b046a\",\"type\":\"ResetTool\"},{\"id\":\"4c59f534-421f-4e8e-b592-eaaacd551d65\",\"type\":\"HelpTool\"}]},\"id\":\"116ff49e-6d8a-4d8c-8373-c76239622434\",\"type\":\"ProxyToolbar\"},{\"attributes\":{\"plot\":null,\"text\":\"TOA flux. CLIRAD (single-run) - CRD.\"},\"id\":\"fd7050d9-fe1c-4410-9772-e72edf1d6000\",\"type\":\"Title\"},{\"attributes\":{\"fill_color\":{\"value\":\"#1f77b4\"},\"line_color\":{\"value\":\"#1f77b4\"},\"top\":{\"field\":\"flux\"},\"width\":{\"value\":0.9},\"x\":{\"field\":\"band\"}},\"id\":\"93086987-5a56-4cc4-a2e6-00a2337b3c71\",\"type\":\"VBar\"},{\"attributes\":{\"overlay\":{\"id\":\"9a3a375d-3251-4d76-b3fa-02a41f345071\",\"type\":\"BoxAnnotation\"}},\"id\":\"27510b58-ddd1-4f13-bdd8-ef6381bfedaf\",\"type\":\"BoxZoomTool\"},{\"attributes\":{\"axis_label\":\"flux (W m-2)\",\"formatter\":{\"id\":\"c12fff55-0ab4-4f3f-a2df-36e1b26f8bfa\",\"type\":\"BasicTickFormatter\"},\"plot\":{\"id\":\"eca3d36a-5785-40d7-994e-2e658aba4489\",\"subtype\":\"Figure\",\"type\":\"Plot\"},\"ticker\":{\"id\":\"3adf6de5-cec9-4157-b8ea-66b3470cd734\",\"type\":\"BasicTicker\"}},\"id\":\"04473e20-3dd3-4d9f-9454-6cb166ae5b25\",\"type\":\"LinearAxis\"},{\"attributes\":{\"fill_alpha\":{\"value\":0.1},\"fill_color\":{\"value\":\"#1f77b4\"},\"line_alpha\":{\"value\":0.1},\"line_color\":{\"value\":\"#1f77b4\"},\"top\":{\"field\":\"flux\"},\"width\":{\"value\":0.9},\"x\":{\"field\":\"band\"}},\"id\":\"deba6bbd-c556-4b30-9bfa-a49992a926ab\",\"type\":\"VBar\"},{\"attributes\":{},\"id\":\"4b52f322-5b8f-4cdc-89b4-026ba17b046a\",\"type\":\"ResetTool\"},{\"attributes\":{},\"id\":\"3fb832d8-5a06-4629-9aa9-85f65fbeaa05\",\"type\":\"CategoricalScale\"},{\"attributes\":{},\"id\":\"b8f685ca-6d72-4a7e-9c26-d28d0891a021\",\"type\":\"ResetTool\"},{\"attributes\":{\"bottom_units\":\"screen\",\"fill_alpha\":{\"value\":0.5},\"fill_color\":{\"value\":\"lightgrey\"},\"left_units\":\"screen\",\"level\":\"overlay\",\"line_alpha\":{\"value\":1.0},\"line_color\":{\"value\":\"black\"},\"line_dash\":[4,4],\"line_width\":{\"value\":2},\"plot\":null,\"render_mode\":\"css\",\"right_units\":\"screen\",\"top_units\":\"screen\"},\"id\":\"68903d26-26fb-49ef-8b17-947527c48853\",\"type\":\"BoxAnnotation\"},{\"attributes\":{\"source\":{\"id\":\"d118967e-d5d2-4179-a633-df47384aaffb\",\"type\":\"ColumnDataSource\"}},\"id\":\"51a43d6c-3ab9-4dca-9478-81bd440fe5f9\",\"type\":\"CDSView\"},{\"attributes\":{\"children\":[{\"id\":\"fe720aee-238d-4c3c-ad04-ed7e589f178b\",\"type\":\"ToolbarBox\"},{\"id\":\"d23cc594-615f-4f1a-822d-00a86c923b9e\",\"type\":\"Column\"}]},\"id\":\"f164cbbc-2a51-482a-9f94-74ac96ddb1a4\",\"type\":\"Column\"},{\"attributes\":{},\"id\":\"36e1841b-4ecc-4812-8612-be3f14b55248\",\"type\":\"BasicTicker\"},{\"attributes\":{},\"id\":\"822cb699-fa0b-455e-99c1-46d9a218701f\",\"type\":\"UnionRenderers\"},{\"attributes\":{},\"id\":\"4c59f534-421f-4e8e-b592-eaaacd551d65\",\"type\":\"HelpTool\"},{\"attributes\":{\"dimension\":1,\"plot\":{\"id\":\"396ae64f-3d2a-41ce-9f03-25053de36a4f\",\"subtype\":\"Figure\",\"type\":\"Plot\"},\"ticker\":{\"id\":\"36e1841b-4ecc-4812-8612-be3f14b55248\",\"type\":\"BasicTicker\"}},\"id\":\"7f0af76b-ce5a-4b3e-b20b-9561540b17d5\",\"type\":\"Grid\"},{\"attributes\":{\"axis_label\":\"spectral band\",\"formatter\":{\"id\":\"37e55ce7-a0da-4658-ab04-21d1b7064e53\",\"type\":\"CategoricalTickFormatter\"},\"plot\":{\"id\":\"396ae64f-3d2a-41ce-9f03-25053de36a4f\",\"subtype\":\"Figure\",\"type\":\"Plot\"},\"ticker\":{\"id\":\"4c4e8436-9dfd-4034-ba74-62d0ea74ef7d\",\"type\":\"CategoricalTicker\"}},\"id\":\"43c1a099-ca2e-4907-bb3b-1dfaf005dad4\",\"type\":\"CategoricalAxis\"},{\"attributes\":{\"below\":[{\"id\":\"c753f437-910d-4b4a-8212-83cabd28012f\",\"type\":\"CategoricalAxis\"}],\"left\":[{\"id\":\"04473e20-3dd3-4d9f-9454-6cb166ae5b25\",\"type\":\"LinearAxis\"}],\"plot_height\":300,\"plot_width\":300,\"renderers\":[{\"id\":\"c753f437-910d-4b4a-8212-83cabd28012f\",\"type\":\"CategoricalAxis\"},{\"id\":\"7855aba5-3e03-4a28-a776-acdb1a6b406c\",\"type\":\"Grid\"},{\"id\":\"04473e20-3dd3-4d9f-9454-6cb166ae5b25\",\"type\":\"LinearAxis\"},{\"id\":\"fca369eb-d9e8-4718-982e-f6501c545b8f\",\"type\":\"Grid\"},{\"id\":\"0c23a3fe-d575-4d20-b48d-aa7c75c4fbcf\",\"type\":\"BoxAnnotation\"},{\"id\":\"6e2ed099-9d89-4d15-af2e-6573d054c9b7\",\"type\":\"GlyphRenderer\"}],\"title\":{\"id\":\"fd7050d9-fe1c-4410-9772-e72edf1d6000\",\"type\":\"Title\"},\"toolbar\":{\"id\":\"eb90ffe6-6022-46e2-bd21-975e41fd8f6b\",\"type\":\"Toolbar\"},\"toolbar_location\":null,\"x_range\":{\"id\":\"b2668864-4d7e-4f31-9231-4dfe07252dae\",\"type\":\"FactorRange\"},\"x_scale\":{\"id\":\"3fb832d8-5a06-4629-9aa9-85f65fbeaa05\",\"type\":\"CategoricalScale\"},\"y_range\":{\"id\":\"8b4d2985-18bf-4d36-82a5-554258f6f7a1\",\"type\":\"DataRange1d\"},\"y_scale\":{\"id\":\"fe2c4eff-23ed-4db2-a0cd-e4a1df99987c\",\"type\":\"LinearScale\"}},\"id\":\"eca3d36a-5785-40d7-994e-2e658aba4489\",\"subtype\":\"Figure\",\"type\":\"Plot\"},{\"attributes\":{\"callback\":null,\"factors\":[\"1\",\"2\",\"3\",\"4\",\"5\",\"6\",\"7\",\"8\",\"9\",\"10\",\"11\"]},\"id\":\"95f6c522-a798-47c3-a9f5-1b9a6f5c9780\",\"type\":\"FactorRange\"},{\"attributes\":{\"dimension\":1,\"plot\":{\"id\":\"eca3d36a-5785-40d7-994e-2e658aba4489\",\"subtype\":\"Figure\",\"type\":\"Plot\"},\"ticker\":{\"id\":\"3adf6de5-cec9-4157-b8ea-66b3470cd734\",\"type\":\"BasicTicker\"}},\"id\":\"fca369eb-d9e8-4718-982e-f6501c545b8f\",\"type\":\"Grid\"},{\"attributes\":{},\"id\":\"f0e0f19a-3954-4b2a-a440-2f111a3f00b2\",\"type\":\"BasicTickFormatter\"},{\"attributes\":{},\"id\":\"e11b7706-71d4-43c5-8ca4-f646708a9d93\",\"type\":\"UnionRenderers\"},{\"attributes\":{\"plot\":{\"id\":\"396ae64f-3d2a-41ce-9f03-25053de36a4f\",\"subtype\":\"Figure\",\"type\":\"Plot\"},\"ticker\":{\"id\":\"4c4e8436-9dfd-4034-ba74-62d0ea74ef7d\",\"type\":\"CategoricalTicker\"}},\"id\":\"a5047485-6a0e-4636-bac5-ea34a27c832f\",\"type\":\"Grid\"},{\"attributes\":{\"callback\":null,\"factors\":[\"1\",\"2\",\"3\",\"4\",\"5\",\"6\",\"7\",\"8\",\"9\",\"10\",\"11\"]},\"id\":\"b2668864-4d7e-4f31-9231-4dfe07252dae\",\"type\":\"FactorRange\"},{\"attributes\":{\"axis_label\":\"flux (W m-2)\",\"formatter\":{\"id\":\"f0e0f19a-3954-4b2a-a440-2f111a3f00b2\",\"type\":\"BasicTickFormatter\"},\"plot\":{\"id\":\"da6e1aaf-9c75-47f6-9420-66dca66bb045\",\"subtype\":\"Figure\",\"type\":\"Plot\"},\"ticker\":{\"id\":\"adfbb977-4f8c-46d1-b47a-7a02f45a2157\",\"type\":\"BasicTicker\"}},\"id\":\"d1b93be5-8d9f-491a-8931-4f36e3a34a56\",\"type\":\"LinearAxis\"},{\"attributes\":{},\"id\":\"d033f454-d9ff-48fd-8ae5-5ff6661bae5a\",\"type\":\"UnionRenderers\"},{\"attributes\":{},\"id\":\"648baed8-c071-4da2-8d7c-b71d7c8eba51\",\"type\":\"PanTool\"},{\"attributes\":{},\"id\":\"e8c72bf8-bd90-4689-94ca-382b50aadd86\",\"type\":\"PanTool\"},{\"attributes\":{\"data_source\":{\"id\":\"5556485f-0e9a-4fac-874d-abfddd733426\",\"type\":\"ColumnDataSource\"},\"glyph\":{\"id\":\"93086987-5a56-4cc4-a2e6-00a2337b3c71\",\"type\":\"VBar\"},\"hover_glyph\":null,\"muted_glyph\":null,\"nonselection_glyph\":{\"id\":\"917dfe6d-4d34-4c24-9fcb-588359f5e631\",\"type\":\"VBar\"},\"selection_glyph\":null,\"view\":{\"id\":\"a949c8e6-bd21-44f0-a4f0-3d79b3a62187\",\"type\":\"CDSView\"}},\"id\":\"a328ef0d-77a1-4b46-af58-93a9440271bb\",\"type\":\"GlyphRenderer\"},{\"attributes\":{},\"id\":\"c12fff55-0ab4-4f3f-a2df-36e1b26f8bfa\",\"type\":\"BasicTickFormatter\"},{\"attributes\":{\"source\":{\"id\":\"60ba3894-1a16-4463-931e-2b47d6e35200\",\"type\":\"ColumnDataSource\"}},\"id\":\"f714e06a-1458-4085-be22-84425a96ac02\",\"type\":\"CDSView\"},{\"attributes\":{\"toolbar\":{\"id\":\"116ff49e-6d8a-4d8c-8373-c76239622434\",\"type\":\"ProxyToolbar\"},\"toolbar_location\":\"above\"},\"id\":\"fe720aee-238d-4c3c-ad04-ed7e589f178b\",\"type\":\"ToolbarBox\"},{\"attributes\":{},\"id\":\"3adf6de5-cec9-4157-b8ea-66b3470cd734\",\"type\":\"BasicTicker\"},{\"attributes\":{\"children\":[{\"id\":\"eca3d36a-5785-40d7-994e-2e658aba4489\",\"subtype\":\"Figure\",\"type\":\"Plot\"},{\"id\":\"396ae64f-3d2a-41ce-9f03-25053de36a4f\",\"subtype\":\"Figure\",\"type\":\"Plot\"},{\"id\":\"da6e1aaf-9c75-47f6-9420-66dca66bb045\",\"subtype\":\"Figure\",\"type\":\"Plot\"}]},\"id\":\"91fc692e-90e8-47f8-9e1a-39ecbc0a941c\",\"type\":\"Row\"},{\"attributes\":{\"plot\":{\"id\":\"eca3d36a-5785-40d7-994e-2e658aba4489\",\"subtype\":\"Figure\",\"type\":\"Plot\"},\"ticker\":{\"id\":\"2b55bab0-bead-4981-896b-211bc95d7fb7\",\"type\":\"CategoricalTicker\"}},\"id\":\"7855aba5-3e03-4a28-a776-acdb1a6b406c\",\"type\":\"Grid\"},{\"attributes\":{},\"id\":\"058b24f9-809c-45c0-9893-cd01ed65a775\",\"type\":\"Selection\"},{\"attributes\":{},\"id\":\"cb585c09-563d-474e-ac37-372594697f45\",\"type\":\"LinearScale\"},{\"attributes\":{},\"id\":\"2b55bab0-bead-4981-896b-211bc95d7fb7\",\"type\":\"CategoricalTicker\"},{\"attributes\":{},\"id\":\"7c02067b-cd58-4b67-a0df-10e5f7f490d7\",\"type\":\"SaveTool\"},{\"attributes\":{\"below\":[{\"id\":\"e45c76d6-9b31-4323-bb13-6c0b0ab3680a\",\"type\":\"CategoricalAxis\"}],\"left\":[{\"id\":\"d1b93be5-8d9f-491a-8931-4f36e3a34a56\",\"type\":\"LinearAxis\"}],\"plot_height\":300,\"plot_width\":300,\"renderers\":[{\"id\":\"e45c76d6-9b31-4323-bb13-6c0b0ab3680a\",\"type\":\"CategoricalAxis\"},{\"id\":\"45aaef25-d39f-4b1d-b845-e065ddbf0f75\",\"type\":\"Grid\"},{\"id\":\"d1b93be5-8d9f-491a-8931-4f36e3a34a56\",\"type\":\"LinearAxis\"},{\"id\":\"fa5b0e13-0709-44ca-89c3-b3989b42c840\",\"type\":\"Grid\"},{\"id\":\"9a3a375d-3251-4d76-b3fa-02a41f345071\",\"type\":\"BoxAnnotation\"},{\"id\":\"c5c22a00-b04a-42cf-8997-56dca6b140e5\",\"type\":\"GlyphRenderer\"}],\"title\":{\"id\":\"8f930ecc-cf90-4cf3-a2b2-c3c8929eed72\",\"type\":\"Title\"},\"toolbar\":{\"id\":\"cbaea2b7-9e99-43f8-ae67-e0b31b140295\",\"type\":\"Toolbar\"},\"toolbar_location\":null,\"x_range\":{\"id\":\"9a26a676-be13-4aee-891a-7e77a3391f68\",\"type\":\"FactorRange\"},\"x_scale\":{\"id\":\"02fd53d9-7feb-49cf-8bb5-d383316c49ad\",\"type\":\"CategoricalScale\"},\"y_range\":{\"id\":\"656d2c6d-55d9-47b3-acbd-f68250107857\",\"type\":\"DataRange1d\"},\"y_scale\":{\"id\":\"75500564-b186-4635-ab6b-40c2fe380667\",\"type\":\"LinearScale\"}},\"id\":\"da6e1aaf-9c75-47f6-9420-66dca66bb045\",\"subtype\":\"Figure\",\"type\":\"Plot\"},{\"attributes\":{},\"id\":\"37e55ce7-a0da-4658-ab04-21d1b7064e53\",\"type\":\"CategoricalTickFormatter\"},{\"attributes\":{\"axis_label\":\"flux (W m-2)\",\"formatter\":{\"id\":\"d9ea1c37-f508-406e-93e4-1600135d3bab\",\"type\":\"BasicTickFormatter\"},\"plot\":{\"id\":\"396ae64f-3d2a-41ce-9f03-25053de36a4f\",\"subtype\":\"Figure\",\"type\":\"Plot\"},\"ticker\":{\"id\":\"36e1841b-4ecc-4812-8612-be3f14b55248\",\"type\":\"BasicTicker\"}},\"id\":\"88af7779-651c-48be-aaa0-0e3bf1b2ea93\",\"type\":\"LinearAxis\"},{\"attributes\":{\"source\":{\"id\":\"5556485f-0e9a-4fac-874d-abfddd733426\",\"type\":\"ColumnDataSource\"}},\"id\":\"a949c8e6-bd21-44f0-a4f0-3d79b3a62187\",\"type\":\"CDSView\"},{\"attributes\":{\"children\":[{\"id\":\"91fc692e-90e8-47f8-9e1a-39ecbc0a941c\",\"type\":\"Row\"}]},\"id\":\"d23cc594-615f-4f1a-822d-00a86c923b9e\",\"type\":\"Column\"},{\"attributes\":{\"active_drag\":\"auto\",\"active_inspect\":\"auto\",\"active_scroll\":\"auto\",\"active_tap\":\"auto\",\"tools\":[{\"id\":\"e8c72bf8-bd90-4689-94ca-382b50aadd86\",\"type\":\"PanTool\"},{\"id\":\"352f57c0-f0b6-401b-8135-be85a0e57865\",\"type\":\"WheelZoomTool\"},{\"id\":\"27510b58-ddd1-4f13-bdd8-ef6381bfedaf\",\"type\":\"BoxZoomTool\"},{\"id\":\"ac3bd3b9-ba4f-48f6-80f9-92490ba72d68\",\"type\":\"SaveTool\"},{\"id\":\"4b52f322-5b8f-4cdc-89b4-026ba17b046a\",\"type\":\"ResetTool\"},{\"id\":\"4c59f534-421f-4e8e-b592-eaaacd551d65\",\"type\":\"HelpTool\"}]},\"id\":\"cbaea2b7-9e99-43f8-ae67-e0b31b140295\",\"type\":\"Toolbar\"},{\"attributes\":{\"callback\":null,\"data\":{\"band\":[\"1\",\"2\",\"3\",\"4\",\"5\",\"6\",\"7\",\"8\",\"9\",\"10\",\"11\"],\"flux\":{\"__ndarray__\":\"gGLUtfY+xz8ABgWlaOWyPwDVO9wODbO/gApHkEqx0D8Ans4VpYS4PwDQ+uk/a46/IIOj5NU50j8AYOogrweDv4BE2safqKA/AGgLdJJSdb+AbxLeeT2TPw==\",\"dtype\":\"float64\",\"shape\":[11]}},\"selected\":{\"id\":\"058b24f9-809c-45c0-9893-cd01ed65a775\",\"type\":\"Selection\"},\"selection_policy\":{\"id\":\"822cb699-fa0b-455e-99c1-46d9a218701f\",\"type\":\"UnionRenderers\"}},\"id\":\"d118967e-d5d2-4179-a633-df47384aaffb\",\"type\":\"ColumnDataSource\"},{\"attributes\":{},\"id\":\"500df57d-f2ec-4284-b7e9-65d00800ec87\",\"type\":\"WheelZoomTool\"},{\"attributes\":{\"data_source\":{\"id\":\"d118967e-d5d2-4179-a633-df47384aaffb\",\"type\":\"ColumnDataSource\"},\"glyph\":{\"id\":\"f4321be2-6f8a-4b42-adf1-f579758aa1ef\",\"type\":\"VBar\"},\"hover_glyph\":null,\"muted_glyph\":null,\"nonselection_glyph\":{\"id\":\"71d44564-f1fb-476e-a308-36c980208608\",\"type\":\"VBar\"},\"selection_glyph\":null,\"view\":{\"id\":\"51a43d6c-3ab9-4dca-9478-81bd440fe5f9\",\"type\":\"CDSView\"}},\"id\":\"6e2ed099-9d89-4d15-af2e-6573d054c9b7\",\"type\":\"GlyphRenderer\"},{\"attributes\":{\"callback\":null},\"id\":\"656d2c6d-55d9-47b3-acbd-f68250107857\",\"type\":\"DataRange1d\"},{\"attributes\":{\"callback\":null,\"data\":{\"band\":[\"1\",\"2\",\"3\",\"4\",\"5\",\"6\",\"7\",\"8\",\"9\",\"10\",\"11\"],\"flux\":{\"__ndarray__\":\"gOIKWg6Vxz8AZUNIJ1zKP8BwLN5+r9w/QMdlApwjxj+ArqKa7WW4vwBJ8fEJ2bU/gB6GVidnzD+A81FGXACwPwDBKhcq/4o/gEM6lz1kpb+AJgqhQRKPPw==\",\"dtype\":\"float64\",\"shape\":[11]}},\"selected\":{\"id\":\"42d2b58b-3177-4958-abec-99e5497e39ac\",\"type\":\"Selection\"},\"selection_policy\":{\"id\":\"d033f454-d9ff-48fd-8ae5-5ff6661bae5a\",\"type\":\"UnionRenderers\"}},\"id\":\"60ba3894-1a16-4463-931e-2b47d6e35200\",\"type\":\"ColumnDataSource\"},{\"attributes\":{},\"id\":\"d9ea1c37-f508-406e-93e4-1600135d3bab\",\"type\":\"BasicTickFormatter\"},{\"attributes\":{},\"id\":\"7b23c0c7-920f-41d4-9af6-f978feaa27bd\",\"type\":\"WheelZoomTool\"},{\"attributes\":{},\"id\":\"a845e80b-808b-443a-856f-f891b8dd9dc7\",\"type\":\"PanTool\"},{\"attributes\":{\"overlay\":{\"id\":\"68903d26-26fb-49ef-8b17-947527c48853\",\"type\":\"BoxAnnotation\"}},\"id\":\"a1e37bab-ce79-4f3d-ac22-36ced119e417\",\"type\":\"BoxZoomTool\"},{\"attributes\":{\"callback\":null},\"id\":\"8de2e040-f8b9-4212-bf39-3d07ee65589b\",\"type\":\"DataRange1d\"},{\"attributes\":{\"plot\":{\"id\":\"da6e1aaf-9c75-47f6-9420-66dca66bb045\",\"subtype\":\"Figure\",\"type\":\"Plot\"},\"ticker\":{\"id\":\"b191fe77-e548-4817-a8ac-a744be16c23e\",\"type\":\"CategoricalTicker\"}},\"id\":\"45aaef25-d39f-4b1d-b845-e065ddbf0f75\",\"type\":\"Grid\"},{\"attributes\":{},\"id\":\"42d2b58b-3177-4958-abec-99e5497e39ac\",\"type\":\"Selection\"},{\"attributes\":{\"bottom_units\":\"screen\",\"fill_alpha\":{\"value\":0.5},\"fill_color\":{\"value\":\"lightgrey\"},\"left_units\":\"screen\",\"level\":\"overlay\",\"line_alpha\":{\"value\":1.0},\"line_color\":{\"value\":\"black\"},\"line_dash\":[4,4],\"line_width\":{\"value\":2},\"plot\":null,\"render_mode\":\"css\",\"right_units\":\"screen\",\"top_units\":\"screen\"},\"id\":\"9a3a375d-3251-4d76-b3fa-02a41f345071\",\"type\":\"BoxAnnotation\"},{\"attributes\":{},\"id\":\"75500564-b186-4635-ab6b-40c2fe380667\",\"type\":\"LinearScale\"},{\"attributes\":{},\"id\":\"48add7b2-2119-4fae-8b86-4f34784926d4\",\"type\":\"HelpTool\"},{\"attributes\":{\"data_source\":{\"id\":\"60ba3894-1a16-4463-931e-2b47d6e35200\",\"type\":\"ColumnDataSource\"},\"glyph\":{\"id\":\"4a49759f-20be-4d5a-9ead-d31213bdf9ef\",\"type\":\"VBar\"},\"hover_glyph\":null,\"muted_glyph\":null,\"nonselection_glyph\":{\"id\":\"deba6bbd-c556-4b30-9bfa-a49992a926ab\",\"type\":\"VBar\"},\"selection_glyph\":null,\"view\":{\"id\":\"f714e06a-1458-4085-be22-84425a96ac02\",\"type\":\"CDSView\"}},\"id\":\"c5c22a00-b04a-42cf-8997-56dca6b140e5\",\"type\":\"GlyphRenderer\"},{\"attributes\":{\"callback\":null,\"factors\":[\"1\",\"2\",\"3\",\"4\",\"5\",\"6\",\"7\",\"8\",\"9\",\"10\",\"11\"]},\"id\":\"9a26a676-be13-4aee-891a-7e77a3391f68\",\"type\":\"FactorRange\"},{\"attributes\":{\"bottom_units\":\"screen\",\"fill_alpha\":{\"value\":0.5},\"fill_color\":{\"value\":\"lightgrey\"},\"left_units\":\"screen\",\"level\":\"overlay\",\"line_alpha\":{\"value\":1.0},\"line_color\":{\"value\":\"black\"},\"line_dash\":[4,4],\"line_width\":{\"value\":2},\"plot\":null,\"render_mode\":\"css\",\"right_units\":\"screen\",\"top_units\":\"screen\"},\"id\":\"0c23a3fe-d575-4d20-b48d-aa7c75c4fbcf\",\"type\":\"BoxAnnotation\"},{\"attributes\":{\"callback\":null},\"id\":\"8b4d2985-18bf-4d36-82a5-554258f6f7a1\",\"type\":\"DataRange1d\"},{\"attributes\":{},\"id\":\"ea5f2751-4521-4b05-882e-5d9f2407204f\",\"type\":\"ResetTool\"},{\"attributes\":{\"active_drag\":\"auto\",\"active_inspect\":\"auto\",\"active_scroll\":\"auto\",\"active_tap\":\"auto\",\"tools\":[{\"id\":\"648baed8-c071-4da2-8d7c-b71d7c8eba51\",\"type\":\"PanTool\"},{\"id\":\"7b23c0c7-920f-41d4-9af6-f978feaa27bd\",\"type\":\"WheelZoomTool\"},{\"id\":\"000e19f7-4474-46a9-b0ca-65eb859f111b\",\"type\":\"BoxZoomTool\"},{\"id\":\"d2bf27ea-4d2f-4c53-b1a2-d165dc175b3b\",\"type\":\"SaveTool\"},{\"id\":\"ea5f2751-4521-4b05-882e-5d9f2407204f\",\"type\":\"ResetTool\"},{\"id\":\"5f73f016-6947-4670-baf6-905d53faa834\",\"type\":\"HelpTool\"}]},\"id\":\"eb90ffe6-6022-46e2-bd21-975e41fd8f6b\",\"type\":\"Toolbar\"},{\"attributes\":{},\"id\":\"98b76d31-447e-442b-9b58-f8da0cd8e82c\",\"type\":\"CategoricalTickFormatter\"},{\"attributes\":{\"fill_color\":{\"value\":\"#1f77b4\"},\"line_color\":{\"value\":\"#1f77b4\"},\"top\":{\"field\":\"flux\"},\"width\":{\"value\":0.9},\"x\":{\"field\":\"band\"}},\"id\":\"f4321be2-6f8a-4b42-adf1-f579758aa1ef\",\"type\":\"VBar\"},{\"attributes\":{},\"id\":\"eb6bf591-3be0-4e57-84eb-e50b2aab095d\",\"type\":\"CategoricalTickFormatter\"},{\"attributes\":{},\"id\":\"02fd53d9-7feb-49cf-8bb5-d383316c49ad\",\"type\":\"CategoricalScale\"},{\"attributes\":{},\"id\":\"ac3bd3b9-ba4f-48f6-80f9-92490ba72d68\",\"type\":\"SaveTool\"}],\"root_ids\":[\"f164cbbc-2a51-482a-9f94-74ac96ddb1a4\"]},\"title\":\"Bokeh Application\",\"version\":\"0.12.16\"}};\n",
       "  var render_items = [{\"docid\":\"7e12567f-0d47-4c9f-b81b-8f972c184639\",\"elementid\":\"00818961-6f05-4a5e-b6e7-f0fcf0b68a02\",\"modelid\":\"f164cbbc-2a51-482a-9f94-74ac96ddb1a4\"}];\n",
       "  root.Bokeh.embed.embed_items_notebook(docs_json, render_items);\n",
       "\n",
       "  }\n",
       "  if (root.Bokeh !== undefined) {\n",
       "    embed_document(root);\n",
       "  } else {\n",
       "    var attempts = 0;\n",
       "    var timer = setInterval(function(root) {\n",
       "      if (root.Bokeh !== undefined) {\n",
       "        embed_document(root);\n",
       "        clearInterval(timer);\n",
       "      }\n",
       "      attempts++;\n",
       "      if (attempts > 100) {\n",
       "        console.log(\"Bokeh: ERROR: Unable to run BokehJS code because BokehJS library is missing\")\n",
       "        clearInterval(timer);\n",
       "      }\n",
       "    }, 10, root)\n",
       "  }\n",
       "})(window);"
      ],
      "application/vnd.bokehjs_exec.v0+json": ""
     },
     "metadata": {
      "application/vnd.bokehjs_exec.v0+json": {
       "id": "f164cbbc-2a51-482a-9f94-74ac96ddb1a4"
      }
     },
     "output_type": "display_data"
    },
    {
     "data": {
      "text/markdown": [
       "*FIGURE.* Difference between CLIRAD and CRD in TOA, SFC and net atmosphere flux, in each spectral band."
      ],
      "text/plain": [
       "<IPython.core.display.Markdown object>"
      ]
     },
     "metadata": {},
     "output_type": "display_data"
    },
    {
     "data": {
      "text/html": [
       "<div>\n",
       "<style scoped>\n",
       "    .dataframe tbody tr th:only-of-type {\n",
       "        vertical-align: middle;\n",
       "    }\n",
       "\n",
       "    .dataframe tbody tr th {\n",
       "        vertical-align: top;\n",
       "    }\n",
       "\n",
       "    .dataframe thead th {\n",
       "        text-align: right;\n",
       "    }\n",
       "</style>\n",
       "<table border=\"1\" class=\"dataframe\">\n",
       "  <thead>\n",
       "    <tr style=\"text-align: right;\">\n",
       "      <th></th>\n",
       "      <th>OLR flux</th>\n",
       "      <th>SFC flux</th>\n",
       "      <th>ATM heating</th>\n",
       "    </tr>\n",
       "    <tr>\n",
       "      <th>Sum over bands</th>\n",
       "      <th></th>\n",
       "      <th></th>\n",
       "      <th></th>\n",
       "    </tr>\n",
       "  </thead>\n",
       "  <tbody>\n",
       "    <tr>\n",
       "      <th>CLIRAD (single-run) - CRD</th>\n",
       "      <td>0.84</td>\n",
       "      <td>-0.43</td>\n",
       "      <td>1.27</td>\n",
       "    </tr>\n",
       "    <tr>\n",
       "      <th>CRD</th>\n",
       "      <td>-201.06</td>\n",
       "      <td>166.03</td>\n",
       "      <td>-119.67</td>\n",
       "    </tr>\n",
       "  </tbody>\n",
       "</table>\n",
       "</div>"
      ],
      "text/plain": [
       "                           OLR flux  SFC flux  ATM heating\n",
       "Sum over bands                                            \n",
       "CLIRAD (single-run) - CRD      0.84     -0.43         1.27\n",
       "CRD                         -201.06    166.03      -119.67"
      ]
     },
     "metadata": {},
     "output_type": "display_data"
    },
    {
     "data": {
      "text/markdown": [
       "*TABLE.* Difference between CLIRAD and CRD in TOA, SFC and net atmosphere flux, over all spectral bands. CRD's TOA, SFC and net atmosphere flux, over all spectral bands."
      ],
      "text/plain": [
       "<IPython.core.display.Markdown object>"
      ]
     },
     "metadata": {},
     "output_type": "display_data"
    },
    {
     "data": {
      "text/html": [
       "<a id=\"Cooling_rates._trp.\"></a>"
      ],
      "text/plain": [
       "<IPython.core.display.HTML object>"
      ]
     },
     "metadata": {},
     "output_type": "display_data"
    },
    {
     "data": {
      "text/markdown": [
       "# Cooling rates. trp."
      ],
      "text/plain": [
       "<IPython.core.display.Markdown object>"
      ]
     },
     "metadata": {},
     "output_type": "display_data"
    },
    {
     "data": {
      "text/html": [
       "\n",
       "<div class=\"bk-root\">\n",
       "    <div class=\"bk-plotdiv\" id=\"5d7b63b2-c482-420e-8ece-5d6df405afa6\"></div>\n",
       "</div>"
      ]
     },
     "metadata": {},
     "output_type": "display_data"
    },
    {
     "data": {
      "application/javascript": [
       "(function(root) {\n",
       "  function embed_document(root) {\n",
       "    \n",
       "  var docs_json = {\"ddd5adcc-e98c-441b-8cfb-d2e066b5cec9\":{\"roots\":{\"references\":[{\"attributes\":{\"callback\":null,\"data\":{\"x\":{\"__ndarray__\":\"R/KIaN7AVEClCeJMyPNGQOvRhpxr30JAptxzhxx4PkA7SssMElA4QK6Bp3CyUDNAsVXpjES9LkBFhUV0+5coQMHYwqbbySNA6f09nM3nH0CaSd/3eYoZQDmgiAOW8BNAPYqARh3eDEBkm4vCgvr+P9D+5tWhQfY/P8DwKRnSAkBq38kb17ILQDT7IWuSsxFAUr2Rjm0FFkAinq3s9XgbQGCHwtYcqSFAG64kT303J0C7dRDneyooQD9JYrbK8yRA9S3bneHhIUAIymSuUMMcQIkHLe6VEBdAAau3cITREkA6CiNvkQIPQJU39ki7IQlAaAvwok1UA0BXLQiS4+L7P0xzDpJ2hPI/NNuPGMbJ5z91mUVYxqfSPxqwUPSxZca/G11peifD3L8QzNj5t2jTvwzOozTL360/SPJ4VI1VzD9KJ0nXEIncP8yDdlvHt+4/Et49nYLW9z++2teD4Jn+P+568eH/bwFALf5D9lmAAkCiZAicVOkCQPPT4jNKxwJAOjp3wTzBAUBSQsKNGisBQG4OmjqJwQBAJ3sZoHFuAEA5Ar0Sdi0AQGy4rw5+9f8/7W4nSrC3/z8mPr8zj4T/P4UYRHCQS/8/embVKYcF/z+5YXG+LLP+P/qb8BVUgf4/KvafTtyO/j/avAK1Ppv+PwJV9VVm2P0/JFtYlU/n/D9sN+q2fiX6Pw44e41PNPc/Opt+Z/wN9T+x3vcSW1vzP9ofvWQJlvI/8sciQQBW8j80sfkQa17yPzg5qng2r/I/Oh14WJBh8z+VZjnpctj0P6CcrSuCqQBA\",\"dtype\":\"float64\",\"shape\":[75]},\"y\":{\"__ndarray__\":\"GhExyth1ND/Sv8nbtpRIP2vylNV0PVE/aTum7souWD/At0SJ8fVgPw3Iuahxymc/MSNhhJWvcD/bTfBN02d3P2zb5nxnaoA/CD5h5MAGhz8NmeH1TyaQP+zrCsc9p5Y/LbKd76fGnz/bLW5ISEmmPww9YvTcQq8/JV2OstnstT8Er5Y7M8G+P0c+r3jqkcU/5h99k6ZBzj88bCIzFzjVP4enV8oyxN0//yH99nXg5D8qOpLLf0jtP5kqGJXUifQ/c9cS8kHP/D+/DpwzojQEQIEmwoanVwxA4lgXt9HgE0BSSZ2AJuIbQAMJih9jjiNA5q4l5INuK0AwTKYKRj0zQNv5fmq8/DpAaCJseHrtQkB/+zpwzoxKQM3MzMzMeFJAZmZmZmZqWEAAAAAAAFxeQM3MzMzMJmJAmpmZmZkfZUBmZmZmZhhoQDMzMzMzEWtAAAAAAAAKbkBmZmZmZoFwQM3MzMzM/XFAMzMzMzN6c0CamZmZmfZ0QAAAAAAAc3ZAZmZmZmbvd0DNzMzMzGt5QDMzMzMz6HpAmpmZmZlkfEAAAAAAAOF9QGZmZmZmXX9AZmZmZuZsgECamZmZGSuBQM3MzMxM6YFAAAAAAICngkAzMzMzs2WDQGZmZmbmI4RAmpmZmRnihEDNzMzMTKCFQAAAAACAXoZAMzMzM7Mch0BmZmZm5tqHQJqZmZkZmYhAzczMzExXiUAAAAAAgBWKQDMzMzOz04pAZmZmZuaRi0CamZmZGVCMQM3MzMxMDo1AAAAAAIDMjUAzMzMzs4qOQGZmZmbmSI9A\",\"dtype\":\"float64\",\"shape\":[75]}},\"selected\":{\"id\":\"0933ece1-506a-4815-a05d-2be66e68390e\",\"type\":\"Selection\"},\"selection_policy\":{\"id\":\"7ebfde96-394e-4110-a396-bdd85403d6f9\",\"type\":\"UnionRenderers\"}},\"id\":\"a543e201-ffce-49c0-b171-76ccf67f6ad6\",\"type\":\"ColumnDataSource\"},{\"attributes\":{\"overlay\":{\"id\":\"29b5361b-406e-4af2-a7f1-ee3dcd1964c8\",\"type\":\"BoxAnnotation\"}},\"id\":\"686d22a7-3fe5-4f8a-9e1c-958c58db6596\",\"type\":\"BoxZoomTool\"},{\"attributes\":{},\"id\":\"9019b6c5-9167-4cb3-82fe-1a8c3357d39b\",\"type\":\"PanTool\"},{\"attributes\":{\"data_source\":{\"id\":\"4d60e026-2a47-4a65-b390-768ab0c0d4a1\",\"type\":\"ColumnDataSource\"},\"glyph\":{\"id\":\"985d562d-41d4-48e9-9f6f-e925b9f45392\",\"type\":\"Circle\"},\"hover_glyph\":null,\"muted_glyph\":null,\"nonselection_glyph\":{\"id\":\"d749b61a-b249-45d1-a13e-156cd7fa9af9\",\"type\":\"Circle\"},\"selection_glyph\":null,\"view\":{\"id\":\"9ffb83f4-1469-4365-af8f-7bf8dfba3ba4\",\"type\":\"CDSView\"}},\"id\":\"ea4fffef-91f6-4af2-aae8-284ad95a3919\",\"type\":\"GlyphRenderer\"},{\"attributes\":{},\"id\":\"e3ec8be8-680e-4cec-a578-442e873dc0fe\",\"type\":\"HelpTool\"},{\"attributes\":{\"fill_alpha\":{\"value\":0.1},\"fill_color\":{\"value\":\"#1f77b4\"},\"line_alpha\":{\"value\":0.1},\"line_color\":{\"value\":\"#1f77b4\"},\"x\":{\"field\":\"x\"},\"y\":{\"field\":\"y\"}},\"id\":\"5dc7f53b-8298-4f23-baac-e8041c02eb6a\",\"type\":\"Circle\"},{\"attributes\":{\"dimension\":1,\"plot\":{\"id\":\"67de23d9-02f4-4fce-9082-ae7bc47a45fd\",\"subtype\":\"Figure\",\"type\":\"Plot\"},\"ticker\":{\"id\":\"c5bd6e90-7c87-4794-b696-8670b90a12a7\",\"type\":\"BasicTicker\"}},\"id\":\"c6931f41-2591-4470-a810-d16a3c139edb\",\"type\":\"Grid\"},{\"attributes\":{\"data_source\":{\"id\":\"899385dd-bd9d-43b6-a1d5-ab4ee09625ec\",\"type\":\"ColumnDataSource\"},\"glyph\":{\"id\":\"520cf629-8183-475d-95a9-10032e4f5789\",\"type\":\"Circle\"},\"hover_glyph\":null,\"muted_glyph\":null,\"nonselection_glyph\":{\"id\":\"5dc7f53b-8298-4f23-baac-e8041c02eb6a\",\"type\":\"Circle\"},\"selection_glyph\":null,\"view\":{\"id\":\"790d79e2-c159-483b-bea5-e424a0ad87eb\",\"type\":\"CDSView\"}},\"id\":\"e36c8e11-9116-4c57-8e07-887a16602b23\",\"type\":\"GlyphRenderer\"},{\"attributes\":{},\"id\":\"ccbd6ca1-d807-4e66-82c4-80e236b8ed91\",\"type\":\"WheelZoomTool\"},{\"attributes\":{\"line_alpha\":0.1,\"line_color\":\"#1f77b4\",\"line_width\":1.5,\"x\":{\"field\":\"x\"},\"y\":{\"field\":\"y\"}},\"id\":\"83e52b8e-276c-4678-a8c0-28afe9ba40da\",\"type\":\"Line\"},{\"attributes\":{\"bottom_units\":\"screen\",\"fill_alpha\":{\"value\":0.5},\"fill_color\":{\"value\":\"lightgrey\"},\"left_units\":\"screen\",\"level\":\"overlay\",\"line_alpha\":{\"value\":1.0},\"line_color\":{\"value\":\"black\"},\"line_dash\":[4,4],\"line_width\":{\"value\":2},\"plot\":null,\"render_mode\":\"css\",\"right_units\":\"screen\",\"top_units\":\"screen\"},\"id\":\"29b5361b-406e-4af2-a7f1-ee3dcd1964c8\",\"type\":\"BoxAnnotation\"},{\"attributes\":{\"source\":{\"id\":\"899385dd-bd9d-43b6-a1d5-ab4ee09625ec\",\"type\":\"ColumnDataSource\"}},\"id\":\"790d79e2-c159-483b-bea5-e424a0ad87eb\",\"type\":\"CDSView\"},{\"attributes\":{\"source\":{\"id\":\"167a3a6c-44ef-49b5-a66e-7c5dd3c384f4\",\"type\":\"ColumnDataSource\"}},\"id\":\"4f13f624-ec01-47b5-99c4-081e3e6dece8\",\"type\":\"CDSView\"},{\"attributes\":{\"callback\":null,\"data\":{\"x\":{\"__ndarray__\":\"WXJIlZr8Q8DA1Bw/ioMgwAAVlBgosQLAONpY/QUk/D+nrcxzKDAOQAs88eRzzw5A/TWCSEhUBEBjHJijzs/mPyU5ehaIFOi/kz1ksd0o9b9psPgCRDzxvxJ0kFNFo96/UE+emULmtj8ATVF1tKHdP0J3EcviUOE/AK3HmNzT1j/5uXHxqzKyP3MPKDqlZNG/Zwqbuag04b/DYo6QVkvhv1CCF/a8kdO/6cGiJTIwur8eGacpMUagv1BURmIgoMu/bVC5/mc517/vz/0j/vW6v3JCGnVoltQ/poGVfau31T/CIxf+ubu4PwXtrELlBIs/R9R+bpaBzj+5iaF8REfUP6d+5lkmb8E/iVBkoc/Jq7/z/I6mEFyav8PWYD/1eqM/lNlBVK8Ynb9mkqU1Guqyv63aT2iX2q6/9UfNr8f6q791bhDXWteuvyAp31rlyq+/WurkDpe9sb+s9EUx+VKov2cI1IfFgLC/n8bIZIxxv78cwJjh4Dy0v/2tq/yjp66/MPPFNOtUtb+nVDMgwD+1vxDjQH9ol6y/Zp44cxK2n7+sFyvUTaGUvxDQo24XPZa/KPT0k+Ydnr9GZ8RXw1afv3sZNaFB8Y6/S/tJ4tBOjj+XeDuzPhSmP7Sd7IKbbqw/stXa/gykpz+1dZrABb2XPwAAcEEZV9o+pA13k7fafb8Aig9XAvVjP97vK7yuy5k/sA/KEbDqqz/nFiWuhCqyP8YNIDo42bI/5UZ60PHqsz903z4OxP20P4zPJC21F7Y/cnrnbJIauj/UXioZbCG+P5fqgicYwb8/\",\"dtype\":\"float64\",\"shape\":[75]},\"y\":{\"__ndarray__\":\"GhExyth1ND/Sv8nbtpRIP2vylNV0PVE/aTum7souWD/At0SJ8fVgPw3Iuahxymc/MSNhhJWvcD/bTfBN02d3P2zb5nxnaoA/CD5h5MAGhz8NmeH1TyaQP+zrCsc9p5Y/LbKd76fGnz/bLW5ISEmmPww9YvTcQq8/JV2OstnstT8Er5Y7M8G+P0c+r3jqkcU/5h99k6ZBzj88bCIzFzjVP4enV8oyxN0//yH99nXg5D8qOpLLf0jtP5kqGJXUifQ/c9cS8kHP/D+/DpwzojQEQIEmwoanVwxA4lgXt9HgE0BSSZ2AJuIbQAMJih9jjiNA5q4l5INuK0AwTKYKRj0zQNv5fmq8/DpAaCJseHrtQkB/+zpwzoxKQM3MzMzMeFJAZmZmZmZqWEAAAAAAAFxeQM3MzMzMJmJAmpmZmZkfZUBmZmZmZhhoQDMzMzMzEWtAAAAAAAAKbkBmZmZmZoFwQM3MzMzM/XFAMzMzMzN6c0CamZmZmfZ0QAAAAAAAc3ZAZmZmZmbvd0DNzMzMzGt5QDMzMzMz6HpAmpmZmZlkfEAAAAAAAOF9QGZmZmZmXX9AZmZmZuZsgECamZmZGSuBQM3MzMxM6YFAAAAAAICngkAzMzMzs2WDQGZmZmbmI4RAmpmZmRnihEDNzMzMTKCFQAAAAACAXoZAMzMzM7Mch0BmZmZm5tqHQJqZmZkZmYhAzczMzExXiUAAAAAAgBWKQDMzMzOz04pAZmZmZuaRi0CamZmZGVCMQM3MzMxMDo1AAAAAAIDMjUAzMzMzs4qOQGZmZmbmSI9A\",\"dtype\":\"float64\",\"shape\":[75]}},\"selected\":{\"id\":\"a21b63e1-ac16-4176-8a4c-57957515dc31\",\"type\":\"Selection\"},\"selection_policy\":{\"id\":\"14513c8e-a2db-4c9c-8b33-6c9235efdec4\",\"type\":\"UnionRenderers\"}},\"id\":\"4d60e026-2a47-4a65-b390-768ab0c0d4a1\",\"type\":\"ColumnDataSource\"},{\"attributes\":{\"callback\":null,\"data\":{\"x\":{\"__ndarray__\":\"R/KIaN7AVEClCeJMyPNGQOvRhpxr30JAptxzhxx4PkA7SssMElA4QK6Bp3CyUDNAsVXpjES9LkBFhUV0+5coQMHYwqbbySNA6f09nM3nH0CaSd/3eYoZQDmgiAOW8BNAPYqARh3eDEBkm4vCgvr+P9D+5tWhQfY/P8DwKRnSAkBq38kb17ILQDT7IWuSsxFAUr2Rjm0FFkAinq3s9XgbQGCHwtYcqSFAG64kT303J0C7dRDneyooQD9JYrbK8yRA9S3bneHhIUAIymSuUMMcQIkHLe6VEBdAAau3cITREkA6CiNvkQIPQJU39ki7IQlAaAvwok1UA0BXLQiS4+L7P0xzDpJ2hPI/NNuPGMbJ5z91mUVYxqfSPxqwUPSxZca/G11peifD3L8QzNj5t2jTvwzOozTL360/SPJ4VI1VzD9KJ0nXEIncP8yDdlvHt+4/Et49nYLW9z++2teD4Jn+P+568eH/bwFALf5D9lmAAkCiZAicVOkCQPPT4jNKxwJAOjp3wTzBAUBSQsKNGisBQG4OmjqJwQBAJ3sZoHFuAEA5Ar0Sdi0AQGy4rw5+9f8/7W4nSrC3/z8mPr8zj4T/P4UYRHCQS/8/embVKYcF/z+5YXG+LLP+P/qb8BVUgf4/KvafTtyO/j/avAK1Ppv+PwJV9VVm2P0/JFtYlU/n/D9sN+q2fiX6Pw44e41PNPc/Opt+Z/wN9T+x3vcSW1vzP9ofvWQJlvI/8sciQQBW8j80sfkQa17yPzg5qng2r/I/Oh14WJBh8z+VZjnpctj0P6CcrSuCqQBA\",\"dtype\":\"float64\",\"shape\":[75]},\"y\":{\"__ndarray__\":\"GhExyth1ND/Sv8nbtpRIP2vylNV0PVE/aTum7souWD/At0SJ8fVgPw3Iuahxymc/MSNhhJWvcD/bTfBN02d3P2zb5nxnaoA/CD5h5MAGhz8NmeH1TyaQP+zrCsc9p5Y/LbKd76fGnz/bLW5ISEmmPww9YvTcQq8/JV2OstnstT8Er5Y7M8G+P0c+r3jqkcU/5h99k6ZBzj88bCIzFzjVP4enV8oyxN0//yH99nXg5D8qOpLLf0jtP5kqGJXUifQ/c9cS8kHP/D+/DpwzojQEQIEmwoanVwxA4lgXt9HgE0BSSZ2AJuIbQAMJih9jjiNA5q4l5INuK0AwTKYKRj0zQNv5fmq8/DpAaCJseHrtQkB/+zpwzoxKQM3MzMzMeFJAZmZmZmZqWEAAAAAAAFxeQM3MzMzMJmJAmpmZmZkfZUBmZmZmZhhoQDMzMzMzEWtAAAAAAAAKbkBmZmZmZoFwQM3MzMzM/XFAMzMzMzN6c0CamZmZmfZ0QAAAAAAAc3ZAZmZmZmbvd0DNzMzMzGt5QDMzMzMz6HpAmpmZmZlkfEAAAAAAAOF9QGZmZmZmXX9AZmZmZuZsgECamZmZGSuBQM3MzMxM6YFAAAAAAICngkAzMzMzs2WDQGZmZmbmI4RAmpmZmRnihEDNzMzMTKCFQAAAAACAXoZAMzMzM7Mch0BmZmZm5tqHQJqZmZkZmYhAzczMzExXiUAAAAAAgBWKQDMzMzOz04pAZmZmZuaRi0CamZmZGVCMQM3MzMxMDo1AAAAAAIDMjUAzMzMzs4qOQGZmZmbmSI9A\",\"dtype\":\"float64\",\"shape\":[75]}},\"selected\":{\"id\":\"e4ae910a-8935-4f2e-ac92-16601c27f43b\",\"type\":\"Selection\"},\"selection_policy\":{\"id\":\"087b2ef4-5cb9-48e8-a980-8c11869e72ed\",\"type\":\"UnionRenderers\"}},\"id\":\"899385dd-bd9d-43b6-a1d5-ab4ee09625ec\",\"type\":\"ColumnDataSource\"},{\"attributes\":{},\"id\":\"93aa91fc-572a-45c5-b6b0-dddf7a0413e1\",\"type\":\"SaveTool\"},{\"attributes\":{},\"id\":\"40caa14a-9e9d-46a5-89c8-85a3d3cdd2d9\",\"type\":\"ResetTool\"},{\"attributes\":{\"items\":[{\"id\":\"5f333d87-c5c9-4768-afe0-07f2fbbbe993\",\"type\":\"LegendItem\"},{\"id\":\"b1bd0167-b195-44f4-8fa9-0ef55c7b343c\",\"type\":\"LegendItem\"}],\"label_text_font_size\":{\"value\":\"8pt\"},\"location\":\"top_center\",\"orientation\":\"horizontal\",\"plot\":{\"id\":\"e611c4ab-6a27-440b-9ce2-a9d01c7e5070\",\"subtype\":\"Figure\",\"type\":\"Plot\"}},\"id\":\"bfeed5f6-671b-45a2-ae89-ca2b29f8e99c\",\"type\":\"Legend\"},{\"attributes\":{\"data_source\":{\"id\":\"a543e201-ffce-49c0-b171-76ccf67f6ad6\",\"type\":\"ColumnDataSource\"},\"glyph\":{\"id\":\"cf95453d-6923-421b-a83a-a392da62f81e\",\"type\":\"Line\"},\"hover_glyph\":null,\"muted_glyph\":null,\"nonselection_glyph\":{\"id\":\"83e52b8e-276c-4678-a8c0-28afe9ba40da\",\"type\":\"Line\"},\"selection_glyph\":null,\"view\":{\"id\":\"4c6c2335-e54f-4a03-ab9d-dfed232cdd98\",\"type\":\"CDSView\"}},\"id\":\"118b90ca-fb1e-48a2-bf46-21d89b710782\",\"type\":\"GlyphRenderer\"},{\"attributes\":{\"callback\":null,\"end\":0.01,\"start\":1020},\"id\":\"5216218e-85db-4728-be18-794a0b20b8a0\",\"type\":\"Range1d\"},{\"attributes\":{\"line_color\":\"#4daf4a\",\"line_width\":1.5,\"x\":{\"field\":\"x\"},\"y\":{\"field\":\"y\"}},\"id\":\"cf95453d-6923-421b-a83a-a392da62f81e\",\"type\":\"Line\"},{\"attributes\":{\"fill_alpha\":{\"value\":0.7},\"fill_color\":{\"value\":\"#4daf4a\"},\"line_alpha\":{\"value\":0.7},\"line_color\":{\"value\":\"#4daf4a\"},\"x\":{\"field\":\"x\"},\"y\":{\"field\":\"y\"}},\"id\":\"520cf629-8183-475d-95a9-10032e4f5789\",\"type\":\"Circle\"},{\"attributes\":{\"callback\":null,\"data\":{\"x\":{\"__ndarray__\":\"R/KIaN7AVEClCeJMyPNGQOvRhpxr30JAptxzhxx4PkA7SssMElA4QK6Bp3CyUDNAsVXpjES9LkBFhUV0+5coQMHYwqbbySNA6f09nM3nH0CaSd/3eYoZQDmgiAOW8BNAPYqARh3eDEBkm4vCgvr+P9D+5tWhQfY/P8DwKRnSAkBq38kb17ILQDT7IWuSsxFAUr2Rjm0FFkAinq3s9XgbQGCHwtYcqSFAG64kT303J0C7dRDneyooQD9JYrbK8yRA9S3bneHhIUAIymSuUMMcQIkHLe6VEBdAAau3cITREkA6CiNvkQIPQJU39ki7IQlAaAvwok1UA0BXLQiS4+L7P0xzDpJ2hPI/NNuPGMbJ5z91mUVYxqfSPxqwUPSxZca/G11peifD3L8QzNj5t2jTvwzOozTL360/SPJ4VI1VzD9KJ0nXEIncP8yDdlvHt+4/Et49nYLW9z++2teD4Jn+P+568eH/bwFALf5D9lmAAkCiZAicVOkCQPPT4jNKxwJAOjp3wTzBAUBSQsKNGisBQG4OmjqJwQBAJ3sZoHFuAEA5Ar0Sdi0AQGy4rw5+9f8/7W4nSrC3/z8mPr8zj4T/P4UYRHCQS/8/embVKYcF/z+5YXG+LLP+P/qb8BVUgf4/KvafTtyO/j/avAK1Ppv+PwJV9VVm2P0/JFtYlU/n/D9sN+q2fiX6Pw44e41PNPc/Opt+Z/wN9T+x3vcSW1vzP9ofvWQJlvI/8sciQQBW8j80sfkQa17yPzg5qng2r/I/Oh14WJBh8z+VZjnpctj0P6CcrSuCqQBA\",\"dtype\":\"float64\",\"shape\":[75]},\"y\":{\"__ndarray__\":\"GhExyth1ND/Sv8nbtpRIP2vylNV0PVE/aTum7souWD/At0SJ8fVgPw3Iuahxymc/MSNhhJWvcD/bTfBN02d3P2zb5nxnaoA/CD5h5MAGhz8NmeH1TyaQP+zrCsc9p5Y/LbKd76fGnz/bLW5ISEmmPww9YvTcQq8/JV2OstnstT8Er5Y7M8G+P0c+r3jqkcU/5h99k6ZBzj88bCIzFzjVP4enV8oyxN0//yH99nXg5D8qOpLLf0jtP5kqGJXUifQ/c9cS8kHP/D+/DpwzojQEQIEmwoanVwxA4lgXt9HgE0BSSZ2AJuIbQAMJih9jjiNA5q4l5INuK0AwTKYKRj0zQNv5fmq8/DpAaCJseHrtQkB/+zpwzoxKQM3MzMzMeFJAZmZmZmZqWEAAAAAAAFxeQM3MzMzMJmJAmpmZmZkfZUBmZmZmZhhoQDMzMzMzEWtAAAAAAAAKbkBmZmZmZoFwQM3MzMzM/XFAMzMzMzN6c0CamZmZmfZ0QAAAAAAAc3ZAZmZmZmbvd0DNzMzMzGt5QDMzMzMz6HpAmpmZmZlkfEAAAAAAAOF9QGZmZmZmXX9AZmZmZuZsgECamZmZGSuBQM3MzMxM6YFAAAAAAICngkAzMzMzs2WDQGZmZmbmI4RAmpmZmRnihEDNzMzMTKCFQAAAAACAXoZAMzMzM7Mch0BmZmZm5tqHQJqZmZkZmYhAzczMzExXiUAAAAAAgBWKQDMzMzOz04pAZmZmZuaRi0CamZmZGVCMQM3MzMxMDo1AAAAAAIDMjUAzMzMzs4qOQGZmZmbmSI9A\",\"dtype\":\"float64\",\"shape\":[75]}},\"selected\":{\"id\":\"1b7ef66f-0c6d-4bd2-983d-b05e82f1e329\",\"type\":\"Selection\"},\"selection_policy\":{\"id\":\"9c8766df-26bd-4b70-b5b6-1e7922b4f942\",\"type\":\"UnionRenderers\"}},\"id\":\"c2b5fc33-11ef-46f8-98b1-212e95f412af\",\"type\":\"ColumnDataSource\"},{\"attributes\":{\"plot\":{\"id\":\"e611c4ab-6a27-440b-9ce2-a9d01c7e5070\",\"subtype\":\"Figure\",\"type\":\"Plot\"},\"ticker\":{\"id\":\"9e91621e-3bf3-4a5c-ac1a-df4911c796fc\",\"type\":\"BasicTicker\"}},\"id\":\"2e28b101-459a-469f-b5c7-0ce0b8889a50\",\"type\":\"Grid\"},{\"attributes\":{\"fill_alpha\":{\"value\":0.1},\"fill_color\":{\"value\":\"#1f77b4\"},\"line_alpha\":{\"value\":0.1},\"line_color\":{\"value\":\"#1f77b4\"},\"x\":{\"field\":\"x\"},\"y\":{\"field\":\"y\"}},\"id\":\"83322c25-86a7-4137-91ec-403c517fee9f\",\"type\":\"Circle\"},{\"attributes\":{\"overlay\":{\"id\":\"5cb5416c-7feb-492c-bb3c-a6ac46d5acfe\",\"type\":\"BoxAnnotation\"}},\"id\":\"89af506f-6f42-4e38-8cd0-b43b1390c5ea\",\"type\":\"BoxZoomTool\"},{\"attributes\":{\"source\":{\"id\":\"35461ee2-3ec3-449c-b2d7-b7ab980c22c7\",\"type\":\"ColumnDataSource\"}},\"id\":\"745b4f1a-0983-4ced-80b3-7f5d40fdf913\",\"type\":\"CDSView\"},{\"attributes\":{},\"id\":\"9c8766df-26bd-4b70-b5b6-1e7922b4f942\",\"type\":\"UnionRenderers\"},{\"attributes\":{\"items\":[{\"id\":\"27282128-48a7-4fea-b877-27e0e6a017ab\",\"type\":\"LegendItem\"}],\"label_text_font_size\":{\"value\":\"8pt\"},\"location\":\"top_center\",\"orientation\":\"horizontal\",\"plot\":{\"id\":\"53dbe194-cb97-47ae-9b53-2732bfedb4fe\",\"subtype\":\"Figure\",\"type\":\"Plot\"}},\"id\":\"53fa65b6-8b95-4d3b-93ef-28422db3d61a\",\"type\":\"Legend\"},{\"attributes\":{\"callback\":null,\"data\":{\"x\":{\"__ndarray__\":\"NnLJOyKFRUB21Bq95dJCQJyQ/RpZtEFAJbWkcy4dQEDy30QbFxY8QC6pRe2gKjdAmPGETyvpMUAJB39e+AQqQC81WyWTSCJAhe7kL5adGkCAHSH3aDsVQPmYT65hBhJAuXxNW0+VDUBS9+/vdzEDQHC6bzsT6v4/37UJvZSsBUA5bVV7bEQMQD56fxdInRBABlxed9jeE0DK0Zsai08ZQE3LEe+ODCFAmGjZ6hwDJ0Cizua1NRooQPAv2TRKhSRAcmPlXRYoIUDI0tS1eFccQLCrfnX8WRhAGwORKP8sFEBYwxM/b8gPQIHkOC7APAlArPjXCWc8BUDhR5hYWnoAQCFDS11bsvQ/KpZ5HikN5j+jqdxNBQLRP2l6eKT0hsG/tnqtb7KU3r+pMEKHPiPYv0KUgXWGWV+/TKCFaNtWxT98GWd8Ja7YPzqRyAUZu+w/bo9PLKm69j8Zq026SNf9P6rasrX56wBA97cdk82EAUChnvuUbUcCQDol8KOrTAJAoQrRZ5UWAUCsp8CMHIEAQOEKnZgrTwBA6gkzewUvAEAKrBR3MwQAQCwp9bCJnP8/HZvXrzg//z+JLGAmNAf/P1SuAe2tDf8/cfqZyyRC/z99PQu0zmP/P+cACPLIZP8/2cyWtvxL/z+wJgXMMvr+P1ylu+ts2P0/GOTE3XTJ/D8vvxU4eS/6P87na0h+m/c/t+sM6FHt9T8gMNpdA370P7UgX+icw/M/YGwqXq+U8z8sn91RR67zPzKGfMuxEPQ/4pRGfzkD9T+BDMyqibr2P/Wz6eyKpwFA\",\"dtype\":\"float64\",\"shape\":[75]},\"y\":{\"__ndarray__\":\"GhExyth1ND/Sv8nbtpRIP2vylNV0PVE/aTum7souWD/At0SJ8fVgPw3Iuahxymc/MSNhhJWvcD/bTfBN02d3P2zb5nxnaoA/CD5h5MAGhz8NmeH1TyaQP+zrCsc9p5Y/LbKd76fGnz/bLW5ISEmmPww9YvTcQq8/JV2OstnstT8Er5Y7M8G+P0c+r3jqkcU/5h99k6ZBzj88bCIzFzjVP4enV8oyxN0//yH99nXg5D8qOpLLf0jtP5kqGJXUifQ/c9cS8kHP/D+/DpwzojQEQIEmwoanVwxA4lgXt9HgE0BSSZ2AJuIbQAMJih9jjiNA5q4l5INuK0AwTKYKRj0zQNv5fmq8/DpAaCJseHrtQkB/+zpwzoxKQM3MzMzMeFJAZmZmZmZqWEAAAAAAAFxeQM3MzMzMJmJAmpmZmZkfZUBmZmZmZhhoQDMzMzMzEWtAAAAAAAAKbkBmZmZmZoFwQM3MzMzM/XFAMzMzMzN6c0CamZmZmfZ0QAAAAAAAc3ZAZmZmZmbvd0DNzMzMzGt5QDMzMzMz6HpAmpmZmZlkfEAAAAAAAOF9QGZmZmZmXX9AZmZmZuZsgECamZmZGSuBQM3MzMxM6YFAAAAAAICngkAzMzMzs2WDQGZmZmbmI4RAmpmZmRnihEDNzMzMTKCFQAAAAACAXoZAMzMzM7Mch0BmZmZm5tqHQJqZmZkZmYhAzczMzExXiUAAAAAAgBWKQDMzMzOz04pAZmZmZuaRi0CamZmZGVCMQM3MzMxMDo1AAAAAAIDMjUAzMzMzs4qOQGZmZmbmSI9A\",\"dtype\":\"float64\",\"shape\":[75]}},\"selected\":{\"id\":\"97dbe166-4dc4-4ba1-9994-07905c819aab\",\"type\":\"Selection\"},\"selection_policy\":{\"id\":\"7ef82c27-ebaa-4145-8d85-66743e7021ea\",\"type\":\"UnionRenderers\"}},\"id\":\"167a3a6c-44ef-49b5-a66e-7c5dd3c384f4\",\"type\":\"ColumnDataSource\"},{\"attributes\":{\"above\":[{\"id\":\"bfeed5f6-671b-45a2-ae89-ca2b29f8e99c\",\"type\":\"Legend\"}],\"below\":[{\"id\":\"b5aae82a-cf4c-44d3-828c-3e841fa2eed8\",\"type\":\"LinearAxis\"}],\"left\":[{\"id\":\"7769e4c2-98b0-4202-9f95-f7e18643d8c5\",\"type\":\"LogAxis\"}],\"plot_width\":300,\"renderers\":[{\"id\":\"b5aae82a-cf4c-44d3-828c-3e841fa2eed8\",\"type\":\"LinearAxis\"},{\"id\":\"2e28b101-459a-469f-b5c7-0ce0b8889a50\",\"type\":\"Grid\"},{\"id\":\"7769e4c2-98b0-4202-9f95-f7e18643d8c5\",\"type\":\"LogAxis\"},{\"id\":\"d7e7d9db-ee77-419a-b44f-525244da13c1\",\"type\":\"Grid\"},{\"id\":\"974358cc-d90d-4103-a2e0-398e904c4d5d\",\"type\":\"BoxAnnotation\"},{\"id\":\"ad21a407-e4ba-42b6-a024-4a593a2fdab5\",\"type\":\"GlyphRenderer\"},{\"id\":\"e36c8e11-9116-4c57-8e07-887a16602b23\",\"type\":\"GlyphRenderer\"},{\"id\":\"118b90ca-fb1e-48a2-bf46-21d89b710782\",\"type\":\"GlyphRenderer\"},{\"id\":\"bfeed5f6-671b-45a2-ae89-ca2b29f8e99c\",\"type\":\"Legend\"}],\"title\":{\"id\":\"367875c1-29c9-4e27-a7ff-b914add9d7d4\",\"type\":\"Title\"},\"toolbar\":{\"id\":\"1e7f8ff5-b6b3-49b0-90b7-13ea8f7fffec\",\"type\":\"Toolbar\"},\"toolbar_location\":null,\"x_range\":{\"id\":\"05eb22ee-c79c-4d49-a446-8cb6c6be495c\",\"type\":\"Range1d\"},\"x_scale\":{\"id\":\"260eb239-b6bf-42e0-942d-4b0ef466a068\",\"type\":\"LinearScale\"},\"y_range\":{\"id\":\"1494914a-15a3-4595-95cc-5833e49a3fc5\",\"type\":\"Range1d\"},\"y_scale\":{\"id\":\"fadfcc47-db69-420d-836a-9faf6d9c6ab8\",\"type\":\"LogScale\"}},\"id\":\"e611c4ab-6a27-440b-9ce2-a9d01c7e5070\",\"subtype\":\"Figure\",\"type\":\"Plot\"},{\"attributes\":{\"line_alpha\":0.6,\"line_color\":\"#377eb8\",\"line_dash\":[6],\"line_width\":5,\"x\":{\"field\":\"x\"},\"y\":{\"field\":\"y\"}},\"id\":\"6ca4a46b-f164-4d78-9789-5523f05a391c\",\"type\":\"Line\"},{\"attributes\":{},\"id\":\"9f1b2954-70fa-4aca-bf00-a96d69e9b9dd\",\"type\":\"BasicTicker\"},{\"attributes\":{\"axis_label\":\"pressure [mb]\",\"formatter\":{\"id\":\"bbd1f0b7-f0dc-425f-b086-872cd90b6b49\",\"type\":\"LogTickFormatter\"},\"plot\":{\"id\":\"53dbe194-cb97-47ae-9b53-2732bfedb4fe\",\"subtype\":\"Figure\",\"type\":\"Plot\"},\"ticker\":{\"id\":\"a6a14d03-2752-473c-9908-5dda648a9d48\",\"type\":\"LogTicker\"}},\"id\":\"3a75ba9a-ea77-403c-8f12-b41b9c22ee86\",\"type\":\"LogAxis\"},{\"attributes\":{\"axis_label\":\"pressure [mb]\",\"formatter\":{\"id\":\"7c2a01c1-f60c-41ca-abae-2602884fab17\",\"type\":\"LogTickFormatter\"},\"plot\":{\"id\":\"e611c4ab-6a27-440b-9ce2-a9d01c7e5070\",\"subtype\":\"Figure\",\"type\":\"Plot\"},\"ticker\":{\"id\":\"4104be9d-5ca2-42fd-b9d0-1a977f4e7eda\",\"type\":\"LogTicker\"}},\"id\":\"7769e4c2-98b0-4202-9f95-f7e18643d8c5\",\"type\":\"LogAxis\"},{\"attributes\":{},\"id\":\"1b7ef66f-0c6d-4bd2-983d-b05e82f1e329\",\"type\":\"Selection\"},{\"attributes\":{},\"id\":\"6b0a411a-1f3c-405d-8b2f-d111b621650d\",\"type\":\"HelpTool\"},{\"attributes\":{},\"id\":\"59905ef9-3252-4dd9-8882-f705bab946f7\",\"type\":\"LinearScale\"},{\"attributes\":{},\"id\":\"d366bd27-151a-4249-b94a-ffe0e6b4f786\",\"type\":\"WheelZoomTool\"},{\"attributes\":{},\"id\":\"7ef82c27-ebaa-4145-8d85-66743e7021ea\",\"type\":\"UnionRenderers\"},{\"attributes\":{\"source\":{\"id\":\"67b226c5-af0e-40d0-adfc-804b4dacdd75\",\"type\":\"ColumnDataSource\"}},\"id\":\"2481540a-f6dc-4736-8b79-3c765ee2af45\",\"type\":\"CDSView\"},{\"attributes\":{\"active_drag\":\"auto\",\"active_inspect\":\"auto\",\"active_scroll\":\"auto\",\"active_tap\":\"auto\",\"tools\":[{\"id\":\"9019b6c5-9167-4cb3-82fe-1a8c3357d39b\",\"type\":\"PanTool\"},{\"id\":\"ccbd6ca1-d807-4e66-82c4-80e236b8ed91\",\"type\":\"WheelZoomTool\"},{\"id\":\"686d22a7-3fe5-4f8a-9e1c-958c58db6596\",\"type\":\"BoxZoomTool\"},{\"id\":\"93aa91fc-572a-45c5-b6b0-dddf7a0413e1\",\"type\":\"SaveTool\"},{\"id\":\"40caa14a-9e9d-46a5-89c8-85a3d3cdd2d9\",\"type\":\"ResetTool\"},{\"id\":\"e3ec8be8-680e-4cec-a578-442e873dc0fe\",\"type\":\"HelpTool\"}]},\"id\":\"7eeb6d6b-6866-44ae-b023-75490c8dc245\",\"type\":\"Toolbar\"},{\"attributes\":{\"data_source\":{\"id\":\"167a3a6c-44ef-49b5-a66e-7c5dd3c384f4\",\"type\":\"ColumnDataSource\"},\"glyph\":{\"id\":\"6ca4a46b-f164-4d78-9789-5523f05a391c\",\"type\":\"Line\"},\"hover_glyph\":null,\"muted_glyph\":null,\"nonselection_glyph\":{\"id\":\"40e484b4-897d-4919-9785-9500df491d11\",\"type\":\"Line\"},\"selection_glyph\":null,\"view\":{\"id\":\"4f13f624-ec01-47b5-99c4-081e3e6dece8\",\"type\":\"CDSView\"}},\"id\":\"ad21a407-e4ba-42b6-a024-4a593a2fdab5\",\"type\":\"GlyphRenderer\"},{\"attributes\":{},\"id\":\"2e15538a-d6f7-4d61-9a97-850c362c2b9f\",\"type\":\"SaveTool\"},{\"attributes\":{\"ticker\":null},\"id\":\"7c2a01c1-f60c-41ca-abae-2602884fab17\",\"type\":\"LogTickFormatter\"},{\"attributes\":{\"dimension\":1,\"plot\":{\"id\":\"53dbe194-cb97-47ae-9b53-2732bfedb4fe\",\"subtype\":\"Figure\",\"type\":\"Plot\"},\"ticker\":{\"id\":\"a6a14d03-2752-473c-9908-5dda648a9d48\",\"type\":\"LogTicker\"}},\"id\":\"ca9ce282-ac99-40c3-8c04-937ccc97161e\",\"type\":\"Grid\"},{\"attributes\":{},\"id\":\"eb324cb7-c8ba-4a05-bc8e-7c309ce532d2\",\"type\":\"ResetTool\"},{\"attributes\":{\"source\":{\"id\":\"c2b5fc33-11ef-46f8-98b1-212e95f412af\",\"type\":\"ColumnDataSource\"}},\"id\":\"5057bff4-2726-459e-b9b5-7737fce7cb9f\",\"type\":\"CDSView\"},{\"attributes\":{\"dimension\":1,\"plot\":{\"id\":\"e611c4ab-6a27-440b-9ce2-a9d01c7e5070\",\"subtype\":\"Figure\",\"type\":\"Plot\"},\"ticker\":{\"id\":\"4104be9d-5ca2-42fd-b9d0-1a977f4e7eda\",\"type\":\"LogTicker\"}},\"id\":\"d7e7d9db-ee77-419a-b44f-525244da13c1\",\"type\":\"Grid\"},{\"attributes\":{\"num_minor_ticks\":10},\"id\":\"a6a14d03-2752-473c-9908-5dda648a9d48\",\"type\":\"LogTicker\"},{\"attributes\":{\"children\":[{\"id\":\"bfa71212-aa0d-47bc-93cd-ede566824858\",\"type\":\"Row\"}]},\"id\":\"f362c883-1a94-4431-afaa-cffede3ec656\",\"type\":\"Column\"},{\"attributes\":{\"plot\":{\"id\":\"53dbe194-cb97-47ae-9b53-2732bfedb4fe\",\"subtype\":\"Figure\",\"type\":\"Plot\"},\"ticker\":{\"id\":\"9f1b2954-70fa-4aca-bf00-a96d69e9b9dd\",\"type\":\"BasicTicker\"}},\"id\":\"72805591-d375-4ee1-b116-dfcb04ab3824\",\"type\":\"Grid\"},{\"attributes\":{\"line_alpha\":0.1,\"line_color\":\"#1f77b4\",\"line_dash\":[6],\"line_width\":5,\"x\":{\"field\":\"x\"},\"y\":{\"field\":\"y\"}},\"id\":\"40e484b4-897d-4919-9785-9500df491d11\",\"type\":\"Line\"},{\"attributes\":{},\"id\":\"d2fb0950-03ad-46d9-b52d-c29a3dedf691\",\"type\":\"LogScale\"},{\"attributes\":{\"num_minor_ticks\":10},\"id\":\"4104be9d-5ca2-42fd-b9d0-1a977f4e7eda\",\"type\":\"LogTicker\"},{\"attributes\":{},\"id\":\"9514b01a-8925-4a2b-9abb-bd51a94c8121\",\"type\":\"BasicTickFormatter\"},{\"attributes\":{},\"id\":\"a251103b-81a3-4257-8ffb-24cdc5b16605\",\"type\":\"UnionRenderers\"},{\"attributes\":{\"bottom_units\":\"screen\",\"fill_alpha\":{\"value\":0.5},\"fill_color\":{\"value\":\"lightgrey\"},\"left_units\":\"screen\",\"level\":\"overlay\",\"line_alpha\":{\"value\":1.0},\"line_color\":{\"value\":\"black\"},\"line_dash\":[4,4],\"line_width\":{\"value\":2},\"plot\":null,\"render_mode\":\"css\",\"right_units\":\"screen\",\"top_units\":\"screen\"},\"id\":\"5cb5416c-7feb-492c-bb3c-a6ac46d5acfe\",\"type\":\"BoxAnnotation\"},{\"attributes\":{\"axis_label\":\"cooling rate [K/day]\",\"formatter\":{\"id\":\"d3f8ad05-abac-4c9e-9d92-6b04f9b176ed\",\"type\":\"BasicTickFormatter\"},\"plot\":{\"id\":\"53dbe194-cb97-47ae-9b53-2732bfedb4fe\",\"subtype\":\"Figure\",\"type\":\"Plot\"},\"ticker\":{\"id\":\"9f1b2954-70fa-4aca-bf00-a96d69e9b9dd\",\"type\":\"BasicTicker\"}},\"id\":\"94bff53f-b0ae-4751-b6a7-ea9114ee0441\",\"type\":\"LinearAxis\"},{\"attributes\":{},\"id\":\"68990326-f704-49f4-b9c9-ff13cc895f15\",\"type\":\"Selection\"},{\"attributes\":{\"data_source\":{\"id\":\"35461ee2-3ec3-449c-b2d7-b7ab980c22c7\",\"type\":\"ColumnDataSource\"},\"glyph\":{\"id\":\"193d32ff-d861-431b-a086-322d9a97295b\",\"type\":\"Line\"},\"hover_glyph\":null,\"muted_glyph\":null,\"nonselection_glyph\":{\"id\":\"05277c08-e30a-4014-9cff-00c0e2a27bcf\",\"type\":\"Line\"},\"selection_glyph\":null,\"view\":{\"id\":\"745b4f1a-0983-4ced-80b3-7f5d40fdf913\",\"type\":\"CDSView\"}},\"id\":\"685f9e11-fa4f-46ca-b034-0c4e5f25b3b2\",\"type\":\"GlyphRenderer\"},{\"attributes\":{\"fill_alpha\":{\"value\":0.7},\"fill_color\":{\"value\":\"#4daf4a\"},\"line_alpha\":{\"value\":0.7},\"line_color\":{\"value\":\"#4daf4a\"},\"x\":{\"field\":\"x\"},\"y\":{\"field\":\"y\"}},\"id\":\"2f8ed63d-68a6-42bc-99d6-66a45558fa09\",\"type\":\"Circle\"},{\"attributes\":{},\"id\":\"e4ae910a-8935-4f2e-ac92-16601c27f43b\",\"type\":\"Selection\"},{\"attributes\":{\"source\":{\"id\":\"a543e201-ffce-49c0-b171-76ccf67f6ad6\",\"type\":\"ColumnDataSource\"}},\"id\":\"4c6c2335-e54f-4a03-ab9d-dfed232cdd98\",\"type\":\"CDSView\"},{\"attributes\":{\"plot\":null,\"text\":\"\"},\"id\":\"367875c1-29c9-4e27-a7ff-b914add9d7d4\",\"type\":\"Title\"},{\"attributes\":{\"source\":{\"id\":\"4d60e026-2a47-4a65-b390-768ab0c0d4a1\",\"type\":\"ColumnDataSource\"}},\"id\":\"9ffb83f4-1469-4365-af8f-7bf8dfba3ba4\",\"type\":\"CDSView\"},{\"attributes\":{\"plot\":null,\"text\":\"\"},\"id\":\"dfbc7971-30d1-4e08-b1b9-274ded780804\",\"type\":\"Title\"},{\"attributes\":{},\"id\":\"c5bd6e90-7c87-4794-b696-8670b90a12a7\",\"type\":\"BasicTicker\"},{\"attributes\":{\"data_source\":{\"id\":\"1b47a4fa-ec57-433f-8714-5320585be8ab\",\"type\":\"ColumnDataSource\"},\"glyph\":{\"id\":\"a055cc78-7e58-4cf4-af3e-8548748457d6\",\"type\":\"Line\"},\"hover_glyph\":null,\"muted_glyph\":null,\"nonselection_glyph\":{\"id\":\"1b49ed80-dcd4-4156-82b1-f4d803c94eaf\",\"type\":\"Line\"},\"selection_glyph\":null,\"view\":{\"id\":\"76a87bea-82ea-4313-a3f5-7ce55d41c63f\",\"type\":\"CDSView\"}},\"id\":\"37631231-a575-4832-9eab-56c447b905b0\",\"type\":\"GlyphRenderer\"},{\"attributes\":{\"source\":{\"id\":\"1b47a4fa-ec57-433f-8714-5320585be8ab\",\"type\":\"ColumnDataSource\"}},\"id\":\"76a87bea-82ea-4313-a3f5-7ce55d41c63f\",\"type\":\"CDSView\"},{\"attributes\":{\"callback\":null,\"end\":12.208584574754198,\"start\":-0.6034337686142},\"id\":\"05eb22ee-c79c-4d49-a446-8cb6c6be495c\",\"type\":\"Range1d\"},{\"attributes\":{\"axis_label\":\"cooling rate [K/day]\",\"formatter\":{\"id\":\"9514b01a-8925-4a2b-9abb-bd51a94c8121\",\"type\":\"BasicTickFormatter\"},\"plot\":{\"id\":\"e611c4ab-6a27-440b-9ce2-a9d01c7e5070\",\"subtype\":\"Figure\",\"type\":\"Plot\"},\"ticker\":{\"id\":\"9e91621e-3bf3-4a5c-ac1a-df4911c796fc\",\"type\":\"BasicTicker\"}},\"id\":\"b5aae82a-cf4c-44d3-828c-3e841fa2eed8\",\"type\":\"LinearAxis\"},{\"attributes\":{},\"id\":\"32258e73-d5f3-4915-9565-5a64692648c5\",\"type\":\"BasicTicker\"},{\"attributes\":{},\"id\":\"47c51bae-0bf2-44bc-855f-6fae3d1d5ad2\",\"type\":\"HelpTool\"},{\"attributes\":{\"callback\":null,\"end\":0.559759776604808,\"start\":-1.3411130560220081},\"id\":\"d7362cd8-3709-4772-9d40-28e6babc3d22\",\"type\":\"Range1d\"},{\"attributes\":{},\"id\":\"dd260ac5-b097-473b-9aa7-294c7c9f1adf\",\"type\":\"SaveTool\"},{\"attributes\":{\"active_drag\":\"auto\",\"active_inspect\":\"auto\",\"active_scroll\":\"auto\",\"active_tap\":\"auto\",\"tools\":[{\"id\":\"305ae942-b761-4412-9e50-7d0e07625be5\",\"type\":\"PanTool\"},{\"id\":\"d366bd27-151a-4249-b94a-ffe0e6b4f786\",\"type\":\"WheelZoomTool\"},{\"id\":\"89af506f-6f42-4e38-8cd0-b43b1390c5ea\",\"type\":\"BoxZoomTool\"},{\"id\":\"2e15538a-d6f7-4d61-9a97-850c362c2b9f\",\"type\":\"SaveTool\"},{\"id\":\"eb324cb7-c8ba-4a05-bc8e-7c309ce532d2\",\"type\":\"ResetTool\"},{\"id\":\"6b0a411a-1f3c-405d-8b2f-d111b621650d\",\"type\":\"HelpTool\"}]},\"id\":\"090a61ad-51f1-4ad5-9324-559d703e3253\",\"type\":\"Toolbar\"},{\"attributes\":{},\"id\":\"b417c70e-3d0d-4cf5-9373-b5a547a8c146\",\"type\":\"PanTool\"},{\"attributes\":{},\"id\":\"d84a5e1e-2886-4bf5-a8fd-7f7d7159e890\",\"type\":\"LinearScale\"},{\"attributes\":{\"above\":[{\"id\":\"ec1e29f1-910e-40c0-8ed3-13140fb89baf\",\"type\":\"Legend\"}],\"below\":[{\"id\":\"ec29e856-eca3-47fb-98c7-7a1efb44e942\",\"type\":\"LinearAxis\"}],\"left\":[{\"id\":\"a2769327-55aa-47dd-b1e5-d843184de7c3\",\"type\":\"LinearAxis\"}],\"plot_width\":300,\"renderers\":[{\"id\":\"ec29e856-eca3-47fb-98c7-7a1efb44e942\",\"type\":\"LinearAxis\"},{\"id\":\"a28253aa-106e-4531-86b1-82793101c538\",\"type\":\"Grid\"},{\"id\":\"a2769327-55aa-47dd-b1e5-d843184de7c3\",\"type\":\"LinearAxis\"},{\"id\":\"c6931f41-2591-4470-a810-d16a3c139edb\",\"type\":\"Grid\"},{\"id\":\"5cb5416c-7feb-492c-bb3c-a6ac46d5acfe\",\"type\":\"BoxAnnotation\"},{\"id\":\"685f9e11-fa4f-46ca-b034-0c4e5f25b3b2\",\"type\":\"GlyphRenderer\"},{\"id\":\"26b5c31f-b2d5-4dd3-bc93-90ee905f1bf4\",\"type\":\"GlyphRenderer\"},{\"id\":\"f7613bf0-32bb-41b0-9214-ecde620e5e92\",\"type\":\"GlyphRenderer\"},{\"id\":\"ec1e29f1-910e-40c0-8ed3-13140fb89baf\",\"type\":\"Legend\"}],\"title\":{\"id\":\"dfbc7971-30d1-4e08-b1b9-274ded780804\",\"type\":\"Title\"},\"toolbar\":{\"id\":\"090a61ad-51f1-4ad5-9324-559d703e3253\",\"type\":\"Toolbar\"},\"toolbar_location\":null,\"x_range\":{\"id\":\"7bcc95b2-07c1-43c9-bce3-ce7fb1f03574\",\"type\":\"Range1d\"},\"x_scale\":{\"id\":\"d84a5e1e-2886-4bf5-a8fd-7f7d7159e890\",\"type\":\"LinearScale\"},\"y_range\":{\"id\":\"5216218e-85db-4728-be18-794a0b20b8a0\",\"type\":\"Range1d\"},\"y_scale\":{\"id\":\"abfbdc07-6844-424f-9c1e-918abc0b8e84\",\"type\":\"LinearScale\"}},\"id\":\"67de23d9-02f4-4fce-9082-ae7bc47a45fd\",\"subtype\":\"Figure\",\"type\":\"Plot\"},{\"attributes\":{\"label\":{\"value\":\"CLIRAD (single-run) - CRD\"},\"renderers\":[{\"id\":\"ea4fffef-91f6-4af2-aae8-284ad95a3919\",\"type\":\"GlyphRenderer\"},{\"id\":\"37631231-a575-4832-9eab-56c447b905b0\",\"type\":\"GlyphRenderer\"}]},\"id\":\"27282128-48a7-4fea-b877-27e0e6a017ab\",\"type\":\"LegendItem\"},{\"attributes\":{\"overlay\":{\"id\":\"974358cc-d90d-4103-a2e0-398e904c4d5d\",\"type\":\"BoxAnnotation\"}},\"id\":\"9862eeb9-776d-4a54-b79c-8f9cb31d90a9\",\"type\":\"BoxZoomTool\"},{\"attributes\":{\"axis_label\":\"cooling rate [K/day]\",\"formatter\":{\"id\":\"0274d026-4897-4428-9fa3-2df18ab7af83\",\"type\":\"BasicTickFormatter\"},\"plot\":{\"id\":\"67de23d9-02f4-4fce-9082-ae7bc47a45fd\",\"subtype\":\"Figure\",\"type\":\"Plot\"},\"ticker\":{\"id\":\"32258e73-d5f3-4915-9565-5a64692648c5\",\"type\":\"BasicTicker\"}},\"id\":\"ec29e856-eca3-47fb-98c7-7a1efb44e942\",\"type\":\"LinearAxis\"},{\"attributes\":{},\"id\":\"abfbdc07-6844-424f-9c1e-918abc0b8e84\",\"type\":\"LinearScale\"},{\"attributes\":{\"data_source\":{\"id\":\"c2b5fc33-11ef-46f8-98b1-212e95f412af\",\"type\":\"ColumnDataSource\"},\"glyph\":{\"id\":\"2f8ed63d-68a6-42bc-99d6-66a45558fa09\",\"type\":\"Circle\"},\"hover_glyph\":null,\"muted_glyph\":null,\"nonselection_glyph\":{\"id\":\"83322c25-86a7-4137-91ec-403c517fee9f\",\"type\":\"Circle\"},\"selection_glyph\":null,\"view\":{\"id\":\"5057bff4-2726-459e-b9b5-7737fce7cb9f\",\"type\":\"CDSView\"}},\"id\":\"26b5c31f-b2d5-4dd3-bc93-90ee905f1bf4\",\"type\":\"GlyphRenderer\"},{\"attributes\":{\"items\":[{\"id\":\"a52281e3-2197-4b8e-bf43-ff0f8514e1df\",\"type\":\"LegendItem\"},{\"id\":\"6c74873a-da22-4220-be5d-08c74152053e\",\"type\":\"LegendItem\"}],\"label_text_font_size\":{\"value\":\"8pt\"},\"location\":\"top_center\",\"orientation\":\"horizontal\",\"plot\":{\"id\":\"67de23d9-02f4-4fce-9082-ae7bc47a45fd\",\"subtype\":\"Figure\",\"type\":\"Plot\"}},\"id\":\"ec1e29f1-910e-40c0-8ed3-13140fb89baf\",\"type\":\"Legend\"},{\"attributes\":{\"children\":[{\"id\":\"67de23d9-02f4-4fce-9082-ae7bc47a45fd\",\"subtype\":\"Figure\",\"type\":\"Plot\"},{\"id\":\"e611c4ab-6a27-440b-9ce2-a9d01c7e5070\",\"subtype\":\"Figure\",\"type\":\"Plot\"},{\"id\":\"53dbe194-cb97-47ae-9b53-2732bfedb4fe\",\"subtype\":\"Figure\",\"type\":\"Plot\"}]},\"id\":\"bfa71212-aa0d-47bc-93cd-ede566824858\",\"type\":\"Row\"},{\"attributes\":{\"bottom_units\":\"screen\",\"fill_alpha\":{\"value\":0.5},\"fill_color\":{\"value\":\"lightgrey\"},\"left_units\":\"screen\",\"level\":\"overlay\",\"line_alpha\":{\"value\":1.0},\"line_color\":{\"value\":\"black\"},\"line_dash\":[4,4],\"line_width\":{\"value\":2},\"plot\":null,\"render_mode\":\"css\",\"right_units\":\"screen\",\"top_units\":\"screen\"},\"id\":\"974358cc-d90d-4103-a2e0-398e904c4d5d\",\"type\":\"BoxAnnotation\"},{\"attributes\":{\"axis_label\":\"pressure [mb]\",\"formatter\":{\"id\":\"fc1a77a1-f11d-4f3a-bf9d-926f9e9505cf\",\"type\":\"BasicTickFormatter\"},\"plot\":{\"id\":\"67de23d9-02f4-4fce-9082-ae7bc47a45fd\",\"subtype\":\"Figure\",\"type\":\"Plot\"},\"ticker\":{\"id\":\"c5bd6e90-7c87-4794-b696-8670b90a12a7\",\"type\":\"BasicTicker\"}},\"id\":\"a2769327-55aa-47dd-b1e5-d843184de7c3\",\"type\":\"LinearAxis\"},{\"attributes\":{},\"id\":\"8fc8667e-7011-410a-b311-13bc971dbe5c\",\"type\":\"ResetTool\"},{\"attributes\":{\"plot\":{\"id\":\"67de23d9-02f4-4fce-9082-ae7bc47a45fd\",\"subtype\":\"Figure\",\"type\":\"Plot\"},\"ticker\":{\"id\":\"32258e73-d5f3-4915-9565-5a64692648c5\",\"type\":\"BasicTicker\"}},\"id\":\"a28253aa-106e-4531-86b1-82793101c538\",\"type\":\"Grid\"},{\"attributes\":{},\"id\":\"1d059488-1338-45b3-ac8b-95ef6ce24c3c\",\"type\":\"WheelZoomTool\"},{\"attributes\":{\"callback\":null,\"end\":2.3923484776371007,\"start\":-0.5062433122071001},\"id\":\"7bcc95b2-07c1-43c9-bce3-ce7fb1f03574\",\"type\":\"Range1d\"},{\"attributes\":{},\"id\":\"fadfcc47-db69-420d-836a-9faf6d9c6ab8\",\"type\":\"LogScale\"},{\"attributes\":{\"label\":{\"value\":\"CRD\"},\"renderers\":[{\"id\":\"e36c8e11-9116-4c57-8e07-887a16602b23\",\"type\":\"GlyphRenderer\"},{\"id\":\"118b90ca-fb1e-48a2-bf46-21d89b710782\",\"type\":\"GlyphRenderer\"}]},\"id\":\"b1bd0167-b195-44f4-8fa9-0ef55c7b343c\",\"type\":\"LegendItem\"},{\"attributes\":{},\"id\":\"305ae942-b761-4412-9e50-7d0e07625be5\",\"type\":\"PanTool\"},{\"attributes\":{\"label\":{\"value\":\"CLIRAD (single-run)\"},\"renderers\":[{\"id\":\"ad21a407-e4ba-42b6-a024-4a593a2fdab5\",\"type\":\"GlyphRenderer\"}]},\"id\":\"5f333d87-c5c9-4768-afe0-07f2fbbbe993\",\"type\":\"LegendItem\"},{\"attributes\":{\"label\":{\"value\":\"CLIRAD (single-run)\"},\"renderers\":[{\"id\":\"685f9e11-fa4f-46ca-b034-0c4e5f25b3b2\",\"type\":\"GlyphRenderer\"}]},\"id\":\"a52281e3-2197-4b8e-bf43-ff0f8514e1df\",\"type\":\"LegendItem\"},{\"attributes\":{\"children\":[{\"id\":\"8afea33f-77fa-4753-b13e-10ab572b3f58\",\"type\":\"ToolbarBox\"},{\"id\":\"f362c883-1a94-4431-afaa-cffede3ec656\",\"type\":\"Column\"}]},\"id\":\"238ef5ed-0798-4ff7-befc-73aaaa398543\",\"type\":\"Column\"},{\"attributes\":{},\"id\":\"7ebfde96-394e-4110-a396-bdd85403d6f9\",\"type\":\"UnionRenderers\"},{\"attributes\":{},\"id\":\"14513c8e-a2db-4c9c-8b33-6c9235efdec4\",\"type\":\"UnionRenderers\"},{\"attributes\":{\"line_alpha\":0.1,\"line_color\":\"#1f77b4\",\"line_dash\":[6],\"line_width\":5,\"x\":{\"field\":\"x\"},\"y\":{\"field\":\"y\"}},\"id\":\"05277c08-e30a-4014-9cff-00c0e2a27bcf\",\"type\":\"Line\"},{\"attributes\":{},\"id\":\"9e91621e-3bf3-4a5c-ac1a-df4911c796fc\",\"type\":\"BasicTicker\"},{\"attributes\":{},\"id\":\"56979743-461d-4e1b-87b4-32ae54505c0d\",\"type\":\"UnionRenderers\"},{\"attributes\":{\"callback\":null,\"data\":{\"x\":{\"__ndarray__\":\"WXJIlZr8Q8DA1Bw/ioMgwAAVlBgosQLAONpY/QUk/D+nrcxzKDAOQAs88eRzzw5A/TWCSEhUBEBjHJijzs/mPyU5ehaIFOi/kz1ksd0o9b9psPgCRDzxvxJ0kFNFo96/UE+emULmtj8ATVF1tKHdP0J3EcviUOE/AK3HmNzT1j/5uXHxqzKyP3MPKDqlZNG/Zwqbuag04b/DYo6QVkvhv1CCF/a8kdO/6cGiJTIwur8eGacpMUagv1BURmIgoMu/bVC5/mc517/vz/0j/vW6v3JCGnVoltQ/poGVfau31T/CIxf+ubu4PwXtrELlBIs/R9R+bpaBzj+5iaF8REfUP6d+5lkmb8E/iVBkoc/Jq7/z/I6mEFyav8PWYD/1eqM/lNlBVK8Ynb9mkqU1Guqyv63aT2iX2q6/9UfNr8f6q791bhDXWteuvyAp31rlyq+/WurkDpe9sb+s9EUx+VKov2cI1IfFgLC/n8bIZIxxv78cwJjh4Dy0v/2tq/yjp66/MPPFNOtUtb+nVDMgwD+1vxDjQH9ol6y/Zp44cxK2n7+sFyvUTaGUvxDQo24XPZa/KPT0k+Ydnr9GZ8RXw1afv3sZNaFB8Y6/S/tJ4tBOjj+XeDuzPhSmP7Sd7IKbbqw/stXa/gykpz+1dZrABb2XPwAAcEEZV9o+pA13k7fafb8Aig9XAvVjP97vK7yuy5k/sA/KEbDqqz/nFiWuhCqyP8YNIDo42bI/5UZ60PHqsz903z4OxP20P4zPJC21F7Y/cnrnbJIauj/UXioZbCG+P5fqgicYwb8/\",\"dtype\":\"float64\",\"shape\":[75]},\"y\":{\"__ndarray__\":\"GhExyth1ND/Sv8nbtpRIP2vylNV0PVE/aTum7souWD/At0SJ8fVgPw3Iuahxymc/MSNhhJWvcD/bTfBN02d3P2zb5nxnaoA/CD5h5MAGhz8NmeH1TyaQP+zrCsc9p5Y/LbKd76fGnz/bLW5ISEmmPww9YvTcQq8/JV2OstnstT8Er5Y7M8G+P0c+r3jqkcU/5h99k6ZBzj88bCIzFzjVP4enV8oyxN0//yH99nXg5D8qOpLLf0jtP5kqGJXUifQ/c9cS8kHP/D+/DpwzojQEQIEmwoanVwxA4lgXt9HgE0BSSZ2AJuIbQAMJih9jjiNA5q4l5INuK0AwTKYKRj0zQNv5fmq8/DpAaCJseHrtQkB/+zpwzoxKQM3MzMzMeFJAZmZmZmZqWEAAAAAAAFxeQM3MzMzMJmJAmpmZmZkfZUBmZmZmZhhoQDMzMzMzEWtAAAAAAAAKbkBmZmZmZoFwQM3MzMzM/XFAMzMzMzN6c0CamZmZmfZ0QAAAAAAAc3ZAZmZmZmbvd0DNzMzMzGt5QDMzMzMz6HpAmpmZmZlkfEAAAAAAAOF9QGZmZmZmXX9AZmZmZuZsgECamZmZGSuBQM3MzMxM6YFAAAAAAICngkAzMzMzs2WDQGZmZmbmI4RAmpmZmRnihEDNzMzMTKCFQAAAAACAXoZAMzMzM7Mch0BmZmZm5tqHQJqZmZkZmYhAzczMzExXiUAAAAAAgBWKQDMzMzOz04pAZmZmZuaRi0CamZmZGVCMQM3MzMxMDo1AAAAAAIDMjUAzMzMzs4qOQGZmZmbmSI9A\",\"dtype\":\"float64\",\"shape\":[75]}},\"selected\":{\"id\":\"b1e59748-91de-43e9-a5c1-266478332caa\",\"type\":\"Selection\"},\"selection_policy\":{\"id\":\"e7a100b6-d858-4f98-af19-313b25626b4b\",\"type\":\"UnionRenderers\"}},\"id\":\"1b47a4fa-ec57-433f-8714-5320585be8ab\",\"type\":\"ColumnDataSource\"},{\"attributes\":{\"fill_alpha\":{\"value\":0.1},\"fill_color\":{\"value\":\"#1f77b4\"},\"line_alpha\":{\"value\":0.1},\"line_color\":{\"value\":\"#1f77b4\"},\"x\":{\"field\":\"x\"},\"y\":{\"field\":\"y\"}},\"id\":\"d749b61a-b249-45d1-a13e-156cd7fa9af9\",\"type\":\"Circle\"},{\"attributes\":{\"toolbar\":{\"id\":\"458eaa47-2c96-48b5-81e2-2dca0ceaea08\",\"type\":\"ProxyToolbar\"},\"toolbar_location\":\"above\"},\"id\":\"8afea33f-77fa-4753-b13e-10ab572b3f58\",\"type\":\"ToolbarBox\"},{\"attributes\":{},\"id\":\"97dbe166-4dc4-4ba1-9994-07905c819aab\",\"type\":\"Selection\"},{\"attributes\":{\"above\":[{\"id\":\"53fa65b6-8b95-4d3b-93ef-28422db3d61a\",\"type\":\"Legend\"}],\"below\":[{\"id\":\"94bff53f-b0ae-4751-b6a7-ea9114ee0441\",\"type\":\"LinearAxis\"}],\"left\":[{\"id\":\"3a75ba9a-ea77-403c-8f12-b41b9c22ee86\",\"type\":\"LogAxis\"}],\"plot_width\":300,\"renderers\":[{\"id\":\"94bff53f-b0ae-4751-b6a7-ea9114ee0441\",\"type\":\"LinearAxis\"},{\"id\":\"72805591-d375-4ee1-b116-dfcb04ab3824\",\"type\":\"Grid\"},{\"id\":\"3a75ba9a-ea77-403c-8f12-b41b9c22ee86\",\"type\":\"LogAxis\"},{\"id\":\"ca9ce282-ac99-40c3-8c04-937ccc97161e\",\"type\":\"Grid\"},{\"id\":\"29b5361b-406e-4af2-a7f1-ee3dcd1964c8\",\"type\":\"BoxAnnotation\"},{\"id\":\"ea4fffef-91f6-4af2-aae8-284ad95a3919\",\"type\":\"GlyphRenderer\"},{\"id\":\"37631231-a575-4832-9eab-56c447b905b0\",\"type\":\"GlyphRenderer\"},{\"id\":\"53fa65b6-8b95-4d3b-93ef-28422db3d61a\",\"type\":\"Legend\"}],\"title\":{\"id\":\"829ab819-e773-4c7d-b120-7e279a99a6db\",\"type\":\"Title\"},\"toolbar\":{\"id\":\"7eeb6d6b-6866-44ae-b023-75490c8dc245\",\"type\":\"Toolbar\"},\"toolbar_location\":null,\"x_range\":{\"id\":\"d7362cd8-3709-4772-9d40-28e6babc3d22\",\"type\":\"Range1d\"},\"x_scale\":{\"id\":\"59905ef9-3252-4dd9-8882-f705bab946f7\",\"type\":\"LinearScale\"},\"y_range\":{\"id\":\"c8784a78-6281-414d-94de-b5a74496edd9\",\"type\":\"Range1d\"},\"y_scale\":{\"id\":\"d2fb0950-03ad-46d9-b52d-c29a3dedf691\",\"type\":\"LogScale\"}},\"id\":\"53dbe194-cb97-47ae-9b53-2732bfedb4fe\",\"subtype\":\"Figure\",\"type\":\"Plot\"},{\"attributes\":{\"line_alpha\":0.1,\"line_color\":\"#1f77b4\",\"line_width\":1.5,\"x\":{\"field\":\"x\"},\"y\":{\"field\":\"y\"}},\"id\":\"1b49ed80-dcd4-4156-82b1-f4d803c94eaf\",\"type\":\"Line\"},{\"attributes\":{},\"id\":\"b1e59748-91de-43e9-a5c1-266478332caa\",\"type\":\"Selection\"},{\"attributes\":{},\"id\":\"d3f8ad05-abac-4c9e-9d92-6b04f9b176ed\",\"type\":\"BasicTickFormatter\"},{\"attributes\":{\"label\":{\"value\":\"CRD\"},\"renderers\":[{\"id\":\"26b5c31f-b2d5-4dd3-bc93-90ee905f1bf4\",\"type\":\"GlyphRenderer\"},{\"id\":\"f7613bf0-32bb-41b0-9214-ecde620e5e92\",\"type\":\"GlyphRenderer\"}]},\"id\":\"6c74873a-da22-4220-be5d-08c74152053e\",\"type\":\"LegendItem\"},{\"attributes\":{\"ticker\":null},\"id\":\"bbd1f0b7-f0dc-425f-b086-872cd90b6b49\",\"type\":\"LogTickFormatter\"},{\"attributes\":{\"line_alpha\":0.1,\"line_color\":\"#1f77b4\",\"line_width\":1.5,\"x\":{\"field\":\"x\"},\"y\":{\"field\":\"y\"}},\"id\":\"c00b4965-1965-490a-b404-1ca546976875\",\"type\":\"Line\"},{\"attributes\":{},\"id\":\"e7a100b6-d858-4f98-af19-313b25626b4b\",\"type\":\"UnionRenderers\"},{\"attributes\":{\"plot\":null,\"text\":\"\"},\"id\":\"829ab819-e773-4c7d-b120-7e279a99a6db\",\"type\":\"Title\"},{\"attributes\":{\"callback\":null,\"data\":{\"x\":{\"__ndarray__\":\"NnLJOyKFRUB21Bq95dJCQJyQ/RpZtEFAJbWkcy4dQEDy30QbFxY8QC6pRe2gKjdAmPGETyvpMUAJB39e+AQqQC81WyWTSCJAhe7kL5adGkCAHSH3aDsVQPmYT65hBhJAuXxNW0+VDUBS9+/vdzEDQHC6bzsT6v4/37UJvZSsBUA5bVV7bEQMQD56fxdInRBABlxed9jeE0DK0Zsai08ZQE3LEe+ODCFAmGjZ6hwDJ0Cizua1NRooQPAv2TRKhSRAcmPlXRYoIUDI0tS1eFccQLCrfnX8WRhAGwORKP8sFEBYwxM/b8gPQIHkOC7APAlArPjXCWc8BUDhR5hYWnoAQCFDS11bsvQ/KpZ5HikN5j+jqdxNBQLRP2l6eKT0hsG/tnqtb7KU3r+pMEKHPiPYv0KUgXWGWV+/TKCFaNtWxT98GWd8Ja7YPzqRyAUZu+w/bo9PLKm69j8Zq026SNf9P6rasrX56wBA97cdk82EAUChnvuUbUcCQDol8KOrTAJAoQrRZ5UWAUCsp8CMHIEAQOEKnZgrTwBA6gkzewUvAEAKrBR3MwQAQCwp9bCJnP8/HZvXrzg//z+JLGAmNAf/P1SuAe2tDf8/cfqZyyRC/z99PQu0zmP/P+cACPLIZP8/2cyWtvxL/z+wJgXMMvr+P1ylu+ts2P0/GOTE3XTJ/D8vvxU4eS/6P87na0h+m/c/t+sM6FHt9T8gMNpdA370P7UgX+icw/M/YGwqXq+U8z8sn91RR67zPzKGfMuxEPQ/4pRGfzkD9T+BDMyqibr2P/Wz6eyKpwFA\",\"dtype\":\"float64\",\"shape\":[75]},\"y\":{\"__ndarray__\":\"GhExyth1ND/Sv8nbtpRIP2vylNV0PVE/aTum7souWD/At0SJ8fVgPw3Iuahxymc/MSNhhJWvcD/bTfBN02d3P2zb5nxnaoA/CD5h5MAGhz8NmeH1TyaQP+zrCsc9p5Y/LbKd76fGnz/bLW5ISEmmPww9YvTcQq8/JV2OstnstT8Er5Y7M8G+P0c+r3jqkcU/5h99k6ZBzj88bCIzFzjVP4enV8oyxN0//yH99nXg5D8qOpLLf0jtP5kqGJXUifQ/c9cS8kHP/D+/DpwzojQEQIEmwoanVwxA4lgXt9HgE0BSSZ2AJuIbQAMJih9jjiNA5q4l5INuK0AwTKYKRj0zQNv5fmq8/DpAaCJseHrtQkB/+zpwzoxKQM3MzMzMeFJAZmZmZmZqWEAAAAAAAFxeQM3MzMzMJmJAmpmZmZkfZUBmZmZmZhhoQDMzMzMzEWtAAAAAAAAKbkBmZmZmZoFwQM3MzMzM/XFAMzMzMzN6c0CamZmZmfZ0QAAAAAAAc3ZAZmZmZmbvd0DNzMzMzGt5QDMzMzMz6HpAmpmZmZlkfEAAAAAAAOF9QGZmZmZmXX9AZmZmZuZsgECamZmZGSuBQM3MzMxM6YFAAAAAAICngkAzMzMzs2WDQGZmZmbmI4RAmpmZmRnihEDNzMzMTKCFQAAAAACAXoZAMzMzM7Mch0BmZmZm5tqHQJqZmZkZmYhAzczMzExXiUAAAAAAgBWKQDMzMzOz04pAZmZmZuaRi0CamZmZGVCMQM3MzMxMDo1AAAAAAIDMjUAzMzMzs4qOQGZmZmbmSI9A\",\"dtype\":\"float64\",\"shape\":[75]}},\"selected\":{\"id\":\"da4521a5-7783-4625-80f6-98c42eeddb64\",\"type\":\"Selection\"},\"selection_policy\":{\"id\":\"56979743-461d-4e1b-87b4-32ae54505c0d\",\"type\":\"UnionRenderers\"}},\"id\":\"35461ee2-3ec3-449c-b2d7-b7ab980c22c7\",\"type\":\"ColumnDataSource\"},{\"attributes\":{\"fill_alpha\":{\"value\":0.7},\"fill_color\":{\"value\":\"#984ea3\"},\"line_alpha\":{\"value\":0.7},\"line_color\":{\"value\":\"#984ea3\"},\"x\":{\"field\":\"x\"},\"y\":{\"field\":\"y\"}},\"id\":\"985d562d-41d4-48e9-9f6f-e925b9f45392\",\"type\":\"Circle\"},{\"attributes\":{},\"id\":\"0933ece1-506a-4815-a05d-2be66e68390e\",\"type\":\"Selection\"},{\"attributes\":{\"line_color\":\"#4daf4a\",\"line_width\":1.5,\"x\":{\"field\":\"x\"},\"y\":{\"field\":\"y\"}},\"id\":\"5c7bb8d7-79fe-4ba8-8926-5b24c815f3b3\",\"type\":\"Line\"},{\"attributes\":{},\"id\":\"fc1a77a1-f11d-4f3a-bf9d-926f9e9505cf\",\"type\":\"BasicTickFormatter\"},{\"attributes\":{\"data_source\":{\"id\":\"67b226c5-af0e-40d0-adfc-804b4dacdd75\",\"type\":\"ColumnDataSource\"},\"glyph\":{\"id\":\"5c7bb8d7-79fe-4ba8-8926-5b24c815f3b3\",\"type\":\"Line\"},\"hover_glyph\":null,\"muted_glyph\":null,\"nonselection_glyph\":{\"id\":\"c00b4965-1965-490a-b404-1ca546976875\",\"type\":\"Line\"},\"selection_glyph\":null,\"view\":{\"id\":\"2481540a-f6dc-4736-8b79-3c765ee2af45\",\"type\":\"CDSView\"}},\"id\":\"f7613bf0-32bb-41b0-9214-ecde620e5e92\",\"type\":\"GlyphRenderer\"},{\"attributes\":{\"callback\":null,\"data\":{\"x\":{\"__ndarray__\":\"R/KIaN7AVEClCeJMyPNGQOvRhpxr30JAptxzhxx4PkA7SssMElA4QK6Bp3CyUDNAsVXpjES9LkBFhUV0+5coQMHYwqbbySNA6f09nM3nH0CaSd/3eYoZQDmgiAOW8BNAPYqARh3eDEBkm4vCgvr+P9D+5tWhQfY/P8DwKRnSAkBq38kb17ILQDT7IWuSsxFAUr2Rjm0FFkAinq3s9XgbQGCHwtYcqSFAG64kT303J0C7dRDneyooQD9JYrbK8yRA9S3bneHhIUAIymSuUMMcQIkHLe6VEBdAAau3cITREkA6CiNvkQIPQJU39ki7IQlAaAvwok1UA0BXLQiS4+L7P0xzDpJ2hPI/NNuPGMbJ5z91mUVYxqfSPxqwUPSxZca/G11peifD3L8QzNj5t2jTvwzOozTL360/SPJ4VI1VzD9KJ0nXEIncP8yDdlvHt+4/Et49nYLW9z++2teD4Jn+P+568eH/bwFALf5D9lmAAkCiZAicVOkCQPPT4jNKxwJAOjp3wTzBAUBSQsKNGisBQG4OmjqJwQBAJ3sZoHFuAEA5Ar0Sdi0AQGy4rw5+9f8/7W4nSrC3/z8mPr8zj4T/P4UYRHCQS/8/embVKYcF/z+5YXG+LLP+P/qb8BVUgf4/KvafTtyO/j/avAK1Ppv+PwJV9VVm2P0/JFtYlU/n/D9sN+q2fiX6Pw44e41PNPc/Opt+Z/wN9T+x3vcSW1vzP9ofvWQJlvI/8sciQQBW8j80sfkQa17yPzg5qng2r/I/Oh14WJBh8z+VZjnpctj0P6CcrSuCqQBA\",\"dtype\":\"float64\",\"shape\":[75]},\"y\":{\"__ndarray__\":\"GhExyth1ND/Sv8nbtpRIP2vylNV0PVE/aTum7souWD/At0SJ8fVgPw3Iuahxymc/MSNhhJWvcD/bTfBN02d3P2zb5nxnaoA/CD5h5MAGhz8NmeH1TyaQP+zrCsc9p5Y/LbKd76fGnz/bLW5ISEmmPww9YvTcQq8/JV2OstnstT8Er5Y7M8G+P0c+r3jqkcU/5h99k6ZBzj88bCIzFzjVP4enV8oyxN0//yH99nXg5D8qOpLLf0jtP5kqGJXUifQ/c9cS8kHP/D+/DpwzojQEQIEmwoanVwxA4lgXt9HgE0BSSZ2AJuIbQAMJih9jjiNA5q4l5INuK0AwTKYKRj0zQNv5fmq8/DpAaCJseHrtQkB/+zpwzoxKQM3MzMzMeFJAZmZmZmZqWEAAAAAAAFxeQM3MzMzMJmJAmpmZmZkfZUBmZmZmZhhoQDMzMzMzEWtAAAAAAAAKbkBmZmZmZoFwQM3MzMzM/XFAMzMzMzN6c0CamZmZmfZ0QAAAAAAAc3ZAZmZmZmbvd0DNzMzMzGt5QDMzMzMz6HpAmpmZmZlkfEAAAAAAAOF9QGZmZmZmXX9AZmZmZuZsgECamZmZGSuBQM3MzMxM6YFAAAAAAICngkAzMzMzs2WDQGZmZmbmI4RAmpmZmRnihEDNzMzMTKCFQAAAAACAXoZAMzMzM7Mch0BmZmZm5tqHQJqZmZkZmYhAzczMzExXiUAAAAAAgBWKQDMzMzOz04pAZmZmZuaRi0CamZmZGVCMQM3MzMxMDo1AAAAAAIDMjUAzMzMzs4qOQGZmZmbmSI9A\",\"dtype\":\"float64\",\"shape\":[75]}},\"selected\":{\"id\":\"68990326-f704-49f4-b9c9-ff13cc895f15\",\"type\":\"Selection\"},\"selection_policy\":{\"id\":\"a251103b-81a3-4257-8ffb-24cdc5b16605\",\"type\":\"UnionRenderers\"}},\"id\":\"67b226c5-af0e-40d0-adfc-804b4dacdd75\",\"type\":\"ColumnDataSource\"},{\"attributes\":{},\"id\":\"260eb239-b6bf-42e0-942d-4b0ef466a068\",\"type\":\"LinearScale\"},{\"attributes\":{\"callback\":null,\"end\":0.01,\"start\":1020},\"id\":\"c8784a78-6281-414d-94de-b5a74496edd9\",\"type\":\"Range1d\"},{\"attributes\":{},\"id\":\"da4521a5-7783-4625-80f6-98c42eeddb64\",\"type\":\"Selection\"},{\"attributes\":{},\"id\":\"0274d026-4897-4428-9fa3-2df18ab7af83\",\"type\":\"BasicTickFormatter\"},{\"attributes\":{\"line_alpha\":0.6,\"line_color\":\"#377eb8\",\"line_dash\":[6],\"line_width\":5,\"x\":{\"field\":\"x\"},\"y\":{\"field\":\"y\"}},\"id\":\"193d32ff-d861-431b-a086-322d9a97295b\",\"type\":\"Line\"},{\"attributes\":{\"tools\":[{\"id\":\"305ae942-b761-4412-9e50-7d0e07625be5\",\"type\":\"PanTool\"},{\"id\":\"d366bd27-151a-4249-b94a-ffe0e6b4f786\",\"type\":\"WheelZoomTool\"},{\"id\":\"89af506f-6f42-4e38-8cd0-b43b1390c5ea\",\"type\":\"BoxZoomTool\"},{\"id\":\"2e15538a-d6f7-4d61-9a97-850c362c2b9f\",\"type\":\"SaveTool\"},{\"id\":\"eb324cb7-c8ba-4a05-bc8e-7c309ce532d2\",\"type\":\"ResetTool\"},{\"id\":\"6b0a411a-1f3c-405d-8b2f-d111b621650d\",\"type\":\"HelpTool\"},{\"id\":\"b417c70e-3d0d-4cf5-9373-b5a547a8c146\",\"type\":\"PanTool\"},{\"id\":\"1d059488-1338-45b3-ac8b-95ef6ce24c3c\",\"type\":\"WheelZoomTool\"},{\"id\":\"9862eeb9-776d-4a54-b79c-8f9cb31d90a9\",\"type\":\"BoxZoomTool\"},{\"id\":\"dd260ac5-b097-473b-9aa7-294c7c9f1adf\",\"type\":\"SaveTool\"},{\"id\":\"8fc8667e-7011-410a-b311-13bc971dbe5c\",\"type\":\"ResetTool\"},{\"id\":\"47c51bae-0bf2-44bc-855f-6fae3d1d5ad2\",\"type\":\"HelpTool\"},{\"id\":\"9019b6c5-9167-4cb3-82fe-1a8c3357d39b\",\"type\":\"PanTool\"},{\"id\":\"ccbd6ca1-d807-4e66-82c4-80e236b8ed91\",\"type\":\"WheelZoomTool\"},{\"id\":\"686d22a7-3fe5-4f8a-9e1c-958c58db6596\",\"type\":\"BoxZoomTool\"},{\"id\":\"93aa91fc-572a-45c5-b6b0-dddf7a0413e1\",\"type\":\"SaveTool\"},{\"id\":\"40caa14a-9e9d-46a5-89c8-85a3d3cdd2d9\",\"type\":\"ResetTool\"},{\"id\":\"e3ec8be8-680e-4cec-a578-442e873dc0fe\",\"type\":\"HelpTool\"}]},\"id\":\"458eaa47-2c96-48b5-81e2-2dca0ceaea08\",\"type\":\"ProxyToolbar\"},{\"attributes\":{\"callback\":null,\"end\":0.01,\"start\":1020},\"id\":\"1494914a-15a3-4595-95cc-5833e49a3fc5\",\"type\":\"Range1d\"},{\"attributes\":{},\"id\":\"a21b63e1-ac16-4176-8a4c-57957515dc31\",\"type\":\"Selection\"},{\"attributes\":{\"line_alpha\":0.8,\"line_color\":\"#984ea3\",\"line_width\":1.5,\"x\":{\"field\":\"x\"},\"y\":{\"field\":\"y\"}},\"id\":\"a055cc78-7e58-4cf4-af3e-8548748457d6\",\"type\":\"Line\"},{\"attributes\":{},\"id\":\"087b2ef4-5cb9-48e8-a980-8c11869e72ed\",\"type\":\"UnionRenderers\"},{\"attributes\":{\"active_drag\":\"auto\",\"active_inspect\":\"auto\",\"active_scroll\":\"auto\",\"active_tap\":\"auto\",\"tools\":[{\"id\":\"b417c70e-3d0d-4cf5-9373-b5a547a8c146\",\"type\":\"PanTool\"},{\"id\":\"1d059488-1338-45b3-ac8b-95ef6ce24c3c\",\"type\":\"WheelZoomTool\"},{\"id\":\"9862eeb9-776d-4a54-b79c-8f9cb31d90a9\",\"type\":\"BoxZoomTool\"},{\"id\":\"dd260ac5-b097-473b-9aa7-294c7c9f1adf\",\"type\":\"SaveTool\"},{\"id\":\"8fc8667e-7011-410a-b311-13bc971dbe5c\",\"type\":\"ResetTool\"},{\"id\":\"47c51bae-0bf2-44bc-855f-6fae3d1d5ad2\",\"type\":\"HelpTool\"}]},\"id\":\"1e7f8ff5-b6b3-49b0-90b7-13ea8f7fffec\",\"type\":\"Toolbar\"}],\"root_ids\":[\"238ef5ed-0798-4ff7-befc-73aaaa398543\"]},\"title\":\"Bokeh Application\",\"version\":\"0.12.16\"}};\n",
       "  var render_items = [{\"docid\":\"ddd5adcc-e98c-441b-8cfb-d2e066b5cec9\",\"elementid\":\"5d7b63b2-c482-420e-8ece-5d6df405afa6\",\"modelid\":\"238ef5ed-0798-4ff7-befc-73aaaa398543\"}];\n",
       "  root.Bokeh.embed.embed_items_notebook(docs_json, render_items);\n",
       "\n",
       "  }\n",
       "  if (root.Bokeh !== undefined) {\n",
       "    embed_document(root);\n",
       "  } else {\n",
       "    var attempts = 0;\n",
       "    var timer = setInterval(function(root) {\n",
       "      if (root.Bokeh !== undefined) {\n",
       "        embed_document(root);\n",
       "        clearInterval(timer);\n",
       "      }\n",
       "      attempts++;\n",
       "      if (attempts > 100) {\n",
       "        console.log(\"Bokeh: ERROR: Unable to run BokehJS code because BokehJS library is missing\")\n",
       "        clearInterval(timer);\n",
       "      }\n",
       "    }, 10, root)\n",
       "  }\n",
       "})(window);"
      ],
      "application/vnd.bokehjs_exec.v0+json": ""
     },
     "metadata": {
      "application/vnd.bokehjs_exec.v0+json": {
       "id": "238ef5ed-0798-4ff7-befc-73aaaa398543"
      }
     },
     "output_type": "display_data"
    },
    {
     "data": {
      "text/markdown": [
       "*FIGURE.* Cooling rates & difference."
      ],
      "text/plain": [
       "<IPython.core.display.Markdown object>"
      ]
     },
     "metadata": {},
     "output_type": "display_data"
    },
    {
     "data": {
      "text/html": [
       "<a id=\"Fluxes._trp.\"></a>"
      ],
      "text/plain": [
       "<IPython.core.display.HTML object>"
      ]
     },
     "metadata": {},
     "output_type": "display_data"
    },
    {
     "data": {
      "text/markdown": [
       "# Fluxes. trp."
      ],
      "text/plain": [
       "<IPython.core.display.Markdown object>"
      ]
     },
     "metadata": {},
     "output_type": "display_data"
    },
    {
     "data": {
      "text/html": [
       "\n",
       "<div class=\"bk-root\">\n",
       "    <div class=\"bk-plotdiv\" id=\"afac08d8-c75d-4096-8598-fa42cc40140a\"></div>\n",
       "</div>"
      ]
     },
     "metadata": {},
     "output_type": "display_data"
    },
    {
     "data": {
      "application/javascript": [
       "(function(root) {\n",
       "  function embed_document(root) {\n",
       "    \n",
       "  var docs_json = {\"f6624bda-cb55-48b4-b14f-8d1b9fc96fc7\":{\"roots\":{\"references\":[{\"attributes\":{\"plot\":{\"id\":\"b5318b54-7d6f-4522-8e14-cb2d9da6dd9a\",\"subtype\":\"Figure\",\"type\":\"Plot\"},\"ticker\":{\"id\":\"99ab8dfe-472f-4f94-9978-f3047f161859\",\"type\":\"CategoricalTicker\"}},\"id\":\"818989cf-1e07-4bec-b396-7cf989fd10f0\",\"type\":\"Grid\"},{\"attributes\":{\"axis_label\":\"flux (W m-2)\",\"formatter\":{\"id\":\"ac832044-67c5-4160-92bb-c19957f77660\",\"type\":\"BasicTickFormatter\"},\"plot\":{\"id\":\"41435622-71d9-4063-8f43-95ca3d9bc223\",\"subtype\":\"Figure\",\"type\":\"Plot\"},\"ticker\":{\"id\":\"d4bfcef8-b059-4343-b603-fef2f4d57379\",\"type\":\"BasicTicker\"}},\"id\":\"a909d719-9eaa-43ed-b142-12bd1e2188d2\",\"type\":\"LinearAxis\"},{\"attributes\":{\"children\":[{\"id\":\"41435622-71d9-4063-8f43-95ca3d9bc223\",\"subtype\":\"Figure\",\"type\":\"Plot\"},{\"id\":\"975dce48-ea90-49c6-baed-b9c6df099b78\",\"subtype\":\"Figure\",\"type\":\"Plot\"},{\"id\":\"b5318b54-7d6f-4522-8e14-cb2d9da6dd9a\",\"subtype\":\"Figure\",\"type\":\"Plot\"}]},\"id\":\"ba1002f6-6c36-4110-86be-0774e9b8c7ff\",\"type\":\"Row\"},{\"attributes\":{\"axis_label\":\"spectral band\",\"formatter\":{\"id\":\"8a65f57d-cb5c-4c32-b6b8-363036669079\",\"type\":\"CategoricalTickFormatter\"},\"plot\":{\"id\":\"41435622-71d9-4063-8f43-95ca3d9bc223\",\"subtype\":\"Figure\",\"type\":\"Plot\"},\"ticker\":{\"id\":\"53623e2b-ca89-4567-813c-f80be3f4d130\",\"type\":\"CategoricalTicker\"}},\"id\":\"b4870acb-1f33-46c3-b716-e968ad4244a3\",\"type\":\"CategoricalAxis\"},{\"attributes\":{},\"id\":\"53623e2b-ca89-4567-813c-f80be3f4d130\",\"type\":\"CategoricalTicker\"},{\"attributes\":{\"source\":{\"id\":\"50fb6587-7157-4e0a-a487-61b4478dab7c\",\"type\":\"ColumnDataSource\"}},\"id\":\"67c50ba7-f8cd-4f2c-8920-4b5d18a80a83\",\"type\":\"CDSView\"},{\"attributes\":{},\"id\":\"99ab8dfe-472f-4f94-9978-f3047f161859\",\"type\":\"CategoricalTicker\"},{\"attributes\":{\"plot\":{\"id\":\"41435622-71d9-4063-8f43-95ca3d9bc223\",\"subtype\":\"Figure\",\"type\":\"Plot\"},\"ticker\":{\"id\":\"53623e2b-ca89-4567-813c-f80be3f4d130\",\"type\":\"CategoricalTicker\"}},\"id\":\"6d7f1ed4-b8bc-47a6-8223-b102dd39f4c8\",\"type\":\"Grid\"},{\"attributes\":{\"callback\":null},\"id\":\"b6e83575-25ff-4c4b-995d-80f9487226fc\",\"type\":\"DataRange1d\"},{\"attributes\":{\"fill_alpha\":{\"value\":0.1},\"fill_color\":{\"value\":\"#1f77b4\"},\"line_alpha\":{\"value\":0.1},\"line_color\":{\"value\":\"#1f77b4\"},\"top\":{\"field\":\"flux\"},\"width\":{\"value\":0.9},\"x\":{\"field\":\"band\"}},\"id\":\"81ebe0f9-5942-404e-bdf4-046eee15a2a8\",\"type\":\"VBar\"},{\"attributes\":{},\"id\":\"bea39143-63f8-445e-b0c5-5a9b87b44553\",\"type\":\"SaveTool\"},{\"attributes\":{\"source\":{\"id\":\"5b0db563-c263-4756-804d-428272228a5b\",\"type\":\"ColumnDataSource\"}},\"id\":\"3558d937-005e-4f21-a44c-22c40e6267ab\",\"type\":\"CDSView\"},{\"attributes\":{\"fill_color\":{\"value\":\"#1f77b4\"},\"line_color\":{\"value\":\"#1f77b4\"},\"top\":{\"field\":\"flux\"},\"width\":{\"value\":0.9},\"x\":{\"field\":\"band\"}},\"id\":\"a33cc5a9-55a1-41ab-99f0-c0fbd26424d2\",\"type\":\"VBar\"},{\"attributes\":{\"active_drag\":\"auto\",\"active_inspect\":\"auto\",\"active_scroll\":\"auto\",\"active_tap\":\"auto\",\"tools\":[{\"id\":\"923a070a-f214-4cdc-83ca-5c36264b53fc\",\"type\":\"PanTool\"},{\"id\":\"8603f24a-542e-4cd4-9578-44602f34c1ad\",\"type\":\"WheelZoomTool\"},{\"id\":\"24bdb297-3865-4226-9651-58301a21440c\",\"type\":\"BoxZoomTool\"},{\"id\":\"2dea8fd3-eed4-4754-b563-0f0b6f3b509d\",\"type\":\"SaveTool\"},{\"id\":\"4181ab8a-367d-4855-9da0-f3398b9bc714\",\"type\":\"ResetTool\"},{\"id\":\"b577eba4-6a98-4a13-81fb-7cb20c3f65d4\",\"type\":\"HelpTool\"}]},\"id\":\"37374aa4-3936-4b73-bc56-ad1505c6a686\",\"type\":\"Toolbar\"},{\"attributes\":{\"tools\":[{\"id\":\"923a070a-f214-4cdc-83ca-5c36264b53fc\",\"type\":\"PanTool\"},{\"id\":\"8603f24a-542e-4cd4-9578-44602f34c1ad\",\"type\":\"WheelZoomTool\"},{\"id\":\"24bdb297-3865-4226-9651-58301a21440c\",\"type\":\"BoxZoomTool\"},{\"id\":\"2dea8fd3-eed4-4754-b563-0f0b6f3b509d\",\"type\":\"SaveTool\"},{\"id\":\"4181ab8a-367d-4855-9da0-f3398b9bc714\",\"type\":\"ResetTool\"},{\"id\":\"b577eba4-6a98-4a13-81fb-7cb20c3f65d4\",\"type\":\"HelpTool\"},{\"id\":\"49598dda-61fe-4b0f-8050-2693f8bfe436\",\"type\":\"PanTool\"},{\"id\":\"094f70f7-27f1-41fc-bc82-cf8757962d88\",\"type\":\"WheelZoomTool\"},{\"id\":\"c3be0fac-b4ea-44c3-8229-a44c9f471765\",\"type\":\"BoxZoomTool\"},{\"id\":\"5148dca9-08eb-44e1-9bec-a66448ad1969\",\"type\":\"SaveTool\"},{\"id\":\"3dfa2656-dd3d-4065-aeac-1db65a6e37a2\",\"type\":\"ResetTool\"},{\"id\":\"8e3a9f67-eb63-4946-bcda-4fedab84df93\",\"type\":\"HelpTool\"},{\"id\":\"16e0df7a-dff3-4b51-a112-f2112b96b27a\",\"type\":\"PanTool\"},{\"id\":\"d7c3aa1b-3a97-44bc-8ce1-03cbb36b1428\",\"type\":\"WheelZoomTool\"},{\"id\":\"db47a68a-d1c6-4b62-a55c-3c68f9f8f875\",\"type\":\"BoxZoomTool\"},{\"id\":\"bea39143-63f8-445e-b0c5-5a9b87b44553\",\"type\":\"SaveTool\"},{\"id\":\"b996d75c-73d9-4f53-8dad-a9c67db5b69f\",\"type\":\"ResetTool\"},{\"id\":\"1a07a2bc-6646-4c3b-8379-b17c182e0a03\",\"type\":\"HelpTool\"}]},\"id\":\"ce40d255-9e39-4c8c-9dec-e0c78904849f\",\"type\":\"ProxyToolbar\"},{\"attributes\":{\"toolbar\":{\"id\":\"ce40d255-9e39-4c8c-9dec-e0c78904849f\",\"type\":\"ProxyToolbar\"},\"toolbar_location\":\"above\"},\"id\":\"978feacd-2743-40f5-b878-7bd61ac71c8f\",\"type\":\"ToolbarBox\"},{\"attributes\":{},\"id\":\"1a07a2bc-6646-4c3b-8379-b17c182e0a03\",\"type\":\"HelpTool\"},{\"attributes\":{\"dimension\":1,\"plot\":{\"id\":\"b5318b54-7d6f-4522-8e14-cb2d9da6dd9a\",\"subtype\":\"Figure\",\"type\":\"Plot\"},\"ticker\":{\"id\":\"5ea8a724-99c3-4d62-b4ec-ccc6a7915029\",\"type\":\"BasicTicker\"}},\"id\":\"58b98a17-39d1-483d-b9ec-77f297c7103e\",\"type\":\"Grid\"},{\"attributes\":{\"fill_alpha\":{\"value\":0.1},\"fill_color\":{\"value\":\"#1f77b4\"},\"line_alpha\":{\"value\":0.1},\"line_color\":{\"value\":\"#1f77b4\"},\"top\":{\"field\":\"flux\"},\"width\":{\"value\":0.9},\"x\":{\"field\":\"band\"}},\"id\":\"afe2bca8-d61e-4df3-86c9-75cc86034efd\",\"type\":\"VBar\"},{\"attributes\":{},\"id\":\"99fcaa01-ea1e-491c-92e7-ef933124c13f\",\"type\":\"Selection\"},{\"attributes\":{},\"id\":\"8e3a9f67-eb63-4946-bcda-4fedab84df93\",\"type\":\"HelpTool\"},{\"attributes\":{},\"id\":\"49598dda-61fe-4b0f-8050-2693f8bfe436\",\"type\":\"PanTool\"},{\"attributes\":{},\"id\":\"5915c51a-8038-48fb-9ce1-741f8588fb1a\",\"type\":\"CategoricalScale\"},{\"attributes\":{},\"id\":\"5ea8a724-99c3-4d62-b4ec-ccc6a7915029\",\"type\":\"BasicTicker\"},{\"attributes\":{},\"id\":\"8652a857-42d0-4128-9d49-78bcc3ac07ac\",\"type\":\"BasicTickFormatter\"},{\"attributes\":{\"children\":[{\"id\":\"ba1002f6-6c36-4110-86be-0774e9b8c7ff\",\"type\":\"Row\"}]},\"id\":\"30de7d21-a73c-490a-a0c3-01b577cacca2\",\"type\":\"Column\"},{\"attributes\":{},\"id\":\"5148dca9-08eb-44e1-9bec-a66448ad1969\",\"type\":\"SaveTool\"},{\"attributes\":{\"overlay\":{\"id\":\"6283728f-9902-45e1-9d13-46fc733e88c7\",\"type\":\"BoxAnnotation\"}},\"id\":\"c3be0fac-b4ea-44c3-8229-a44c9f471765\",\"type\":\"BoxZoomTool\"},{\"attributes\":{},\"id\":\"2764cb75-fe44-487e-be9e-61fa24504893\",\"type\":\"Selection\"},{\"attributes\":{\"axis_label\":\"flux (W m-2)\",\"formatter\":{\"id\":\"e412c912-7c9f-4e74-ac29-505c1d4760ae\",\"type\":\"BasicTickFormatter\"},\"plot\":{\"id\":\"b5318b54-7d6f-4522-8e14-cb2d9da6dd9a\",\"subtype\":\"Figure\",\"type\":\"Plot\"},\"ticker\":{\"id\":\"5ea8a724-99c3-4d62-b4ec-ccc6a7915029\",\"type\":\"BasicTicker\"}},\"id\":\"7504f0ac-9571-4e5d-8ff0-181ceb18434a\",\"type\":\"LinearAxis\"},{\"attributes\":{\"plot\":null,\"text\":\"TOA flux. CLIRAD (single-run) - CRD.\"},\"id\":\"e52cf748-2ecf-4071-b3a9-6a4859a67a71\",\"type\":\"Title\"},{\"attributes\":{\"bottom_units\":\"screen\",\"fill_alpha\":{\"value\":0.5},\"fill_color\":{\"value\":\"lightgrey\"},\"left_units\":\"screen\",\"level\":\"overlay\",\"line_alpha\":{\"value\":1.0},\"line_color\":{\"value\":\"black\"},\"line_dash\":[4,4],\"line_width\":{\"value\":2},\"plot\":null,\"render_mode\":\"css\",\"right_units\":\"screen\",\"top_units\":\"screen\"},\"id\":\"d5bb91ae-c89a-487d-a2c2-931870c8c075\",\"type\":\"BoxAnnotation\"},{\"attributes\":{},\"id\":\"ac832044-67c5-4160-92bb-c19957f77660\",\"type\":\"BasicTickFormatter\"},{\"attributes\":{},\"id\":\"e412c912-7c9f-4e74-ac29-505c1d4760ae\",\"type\":\"BasicTickFormatter\"},{\"attributes\":{},\"id\":\"3dfa2656-dd3d-4065-aeac-1db65a6e37a2\",\"type\":\"ResetTool\"},{\"attributes\":{\"dimension\":1,\"plot\":{\"id\":\"41435622-71d9-4063-8f43-95ca3d9bc223\",\"subtype\":\"Figure\",\"type\":\"Plot\"},\"ticker\":{\"id\":\"d4bfcef8-b059-4343-b603-fef2f4d57379\",\"type\":\"BasicTicker\"}},\"id\":\"a97c1e13-46db-4c09-a5aa-accc457f8186\",\"type\":\"Grid\"},{\"attributes\":{},\"id\":\"d0e43264-58b7-4384-8833-f3bb7a89427c\",\"type\":\"CategoricalTickFormatter\"},{\"attributes\":{},\"id\":\"16e0df7a-dff3-4b51-a112-f2112b96b27a\",\"type\":\"PanTool\"},{\"attributes\":{\"dimension\":1,\"plot\":{\"id\":\"975dce48-ea90-49c6-baed-b9c6df099b78\",\"subtype\":\"Figure\",\"type\":\"Plot\"},\"ticker\":{\"id\":\"8e407f6c-145b-4c91-b23c-02414bbe6b25\",\"type\":\"BasicTicker\"}},\"id\":\"32ddc152-1581-4d0e-a0f6-a126e6f96261\",\"type\":\"Grid\"},{\"attributes\":{\"callback\":null,\"factors\":[\"1\",\"2\",\"3\",\"4\",\"5\",\"6\",\"7\",\"8\",\"9\",\"10\",\"11\"]},\"id\":\"c6408085-3a28-47d2-abb9-a17276ac9f1b\",\"type\":\"FactorRange\"},{\"attributes\":{\"callback\":null,\"data\":{\"band\":[\"1\",\"2\",\"3\",\"4\",\"5\",\"6\",\"7\",\"8\",\"9\",\"10\",\"11\"],\"flux\":{\"__ndarray__\":\"AADADkbs874Ak+S5vg/QPwANMzSeCMq/ABTRr62frj8A8Z2Y9WLjP6As7j8yHd0/gB2NQ/0usj8ArmNccXGcP0Churn429E/AFDtmpDWiD8AO3arQl6wPw==\",\"dtype\":\"float64\",\"shape\":[11]}},\"selected\":{\"id\":\"2764cb75-fe44-487e-be9e-61fa24504893\",\"type\":\"Selection\"},\"selection_policy\":{\"id\":\"c6503b6b-cee5-4553-90ba-f22cd5ec096f\",\"type\":\"UnionRenderers\"}},\"id\":\"5b0db563-c263-4756-804d-428272228a5b\",\"type\":\"ColumnDataSource\"},{\"attributes\":{},\"id\":\"76b617e1-ba83-4a58-abdc-bce99d9273a0\",\"type\":\"UnionRenderers\"},{\"attributes\":{\"data_source\":{\"id\":\"50fb6587-7157-4e0a-a487-61b4478dab7c\",\"type\":\"ColumnDataSource\"},\"glyph\":{\"id\":\"2f3cec51-1ece-4cde-8d7a-06c02f56012a\",\"type\":\"VBar\"},\"hover_glyph\":null,\"muted_glyph\":null,\"nonselection_glyph\":{\"id\":\"81ebe0f9-5942-404e-bdf4-046eee15a2a8\",\"type\":\"VBar\"},\"selection_glyph\":null,\"view\":{\"id\":\"67c50ba7-f8cd-4f2c-8920-4b5d18a80a83\",\"type\":\"CDSView\"}},\"id\":\"cc279311-c82e-4499-b3c1-ae6a2a926d7e\",\"type\":\"GlyphRenderer\"},{\"attributes\":{\"overlay\":{\"id\":\"d5bb91ae-c89a-487d-a2c2-931870c8c075\",\"type\":\"BoxAnnotation\"}},\"id\":\"db47a68a-d1c6-4b62-a55c-3c68f9f8f875\",\"type\":\"BoxZoomTool\"},{\"attributes\":{},\"id\":\"8e407f6c-145b-4c91-b23c-02414bbe6b25\",\"type\":\"BasicTicker\"},{\"attributes\":{},\"id\":\"094f70f7-27f1-41fc-bc82-cf8757962d88\",\"type\":\"WheelZoomTool\"},{\"attributes\":{\"below\":[{\"id\":\"b4870acb-1f33-46c3-b716-e968ad4244a3\",\"type\":\"CategoricalAxis\"}],\"left\":[{\"id\":\"a909d719-9eaa-43ed-b142-12bd1e2188d2\",\"type\":\"LinearAxis\"}],\"plot_height\":300,\"plot_width\":300,\"renderers\":[{\"id\":\"b4870acb-1f33-46c3-b716-e968ad4244a3\",\"type\":\"CategoricalAxis\"},{\"id\":\"6d7f1ed4-b8bc-47a6-8223-b102dd39f4c8\",\"type\":\"Grid\"},{\"id\":\"a909d719-9eaa-43ed-b142-12bd1e2188d2\",\"type\":\"LinearAxis\"},{\"id\":\"a97c1e13-46db-4c09-a5aa-accc457f8186\",\"type\":\"Grid\"},{\"id\":\"bc4a81d7-73a0-4afb-b7a4-19c100c2ee39\",\"type\":\"BoxAnnotation\"},{\"id\":\"b4943fa8-bb7f-4ef1-9055-eb1c2f2209b9\",\"type\":\"GlyphRenderer\"}],\"title\":{\"id\":\"e52cf748-2ecf-4071-b3a9-6a4859a67a71\",\"type\":\"Title\"},\"toolbar\":{\"id\":\"37374aa4-3936-4b73-bc56-ad1505c6a686\",\"type\":\"Toolbar\"},\"toolbar_location\":null,\"x_range\":{\"id\":\"c6408085-3a28-47d2-abb9-a17276ac9f1b\",\"type\":\"FactorRange\"},\"x_scale\":{\"id\":\"5915c51a-8038-48fb-9ce1-741f8588fb1a\",\"type\":\"CategoricalScale\"},\"y_range\":{\"id\":\"b6e83575-25ff-4c4b-995d-80f9487226fc\",\"type\":\"DataRange1d\"},\"y_scale\":{\"id\":\"59ad0ebc-30fb-421d-a310-5e67108d481a\",\"type\":\"LinearScale\"}},\"id\":\"41435622-71d9-4063-8f43-95ca3d9bc223\",\"subtype\":\"Figure\",\"type\":\"Plot\"},{\"attributes\":{\"fill_color\":{\"value\":\"#1f77b4\"},\"line_color\":{\"value\":\"#1f77b4\"},\"top\":{\"field\":\"flux\"},\"width\":{\"value\":0.9},\"x\":{\"field\":\"band\"}},\"id\":\"2f3cec51-1ece-4cde-8d7a-06c02f56012a\",\"type\":\"VBar\"},{\"attributes\":{},\"id\":\"d7c3aa1b-3a97-44bc-8ce1-03cbb36b1428\",\"type\":\"WheelZoomTool\"},{\"attributes\":{},\"id\":\"29bfe0d6-d80f-4a6b-a270-31dc11effb0f\",\"type\":\"Selection\"},{\"attributes\":{},\"id\":\"8a65f57d-cb5c-4c32-b6b8-363036669079\",\"type\":\"CategoricalTickFormatter\"},{\"attributes\":{},\"id\":\"2dcec907-ec15-4d8d-803a-4acf441137f7\",\"type\":\"UnionRenderers\"},{\"attributes\":{},\"id\":\"59ad0ebc-30fb-421d-a310-5e67108d481a\",\"type\":\"LinearScale\"},{\"attributes\":{\"children\":[{\"id\":\"978feacd-2743-40f5-b878-7bd61ac71c8f\",\"type\":\"ToolbarBox\"},{\"id\":\"30de7d21-a73c-490a-a0c3-01b577cacca2\",\"type\":\"Column\"}]},\"id\":\"4ecbb5b8-f740-413a-a991-cf40fec88756\",\"type\":\"Column\"},{\"attributes\":{},\"id\":\"d4bfcef8-b059-4343-b603-fef2f4d57379\",\"type\":\"BasicTicker\"},{\"attributes\":{},\"id\":\"b996d75c-73d9-4f53-8dad-a9c67db5b69f\",\"type\":\"ResetTool\"},{\"attributes\":{},\"id\":\"c6503b6b-cee5-4553-90ba-f22cd5ec096f\",\"type\":\"UnionRenderers\"},{\"attributes\":{\"callback\":null,\"data\":{\"band\":[\"1\",\"2\",\"3\",\"4\",\"5\",\"6\",\"7\",\"8\",\"9\",\"10\",\"11\"],\"flux\":{\"__ndarray__\":\"AID6S2L7yj8AhLZzzD+yPwC8gsh9Brm/ABW46Y0C4D8gA5fHmpHSvwDp7GRwlN+/gOE/3UCBxT8Ao/yk2qe/v0C4FKEiGNC/wG+hI6BfwD9Ab6jOWVWpPw==\",\"dtype\":\"float64\",\"shape\":[11]}},\"selected\":{\"id\":\"29bfe0d6-d80f-4a6b-a270-31dc11effb0f\",\"type\":\"Selection\"},\"selection_policy\":{\"id\":\"76b617e1-ba83-4a58-abdc-bce99d9273a0\",\"type\":\"UnionRenderers\"}},\"id\":\"50fb6587-7157-4e0a-a487-61b4478dab7c\",\"type\":\"ColumnDataSource\"},{\"attributes\":{\"data_source\":{\"id\":\"190d2071-aa46-4a13-85aa-f8abd2413c7c\",\"type\":\"ColumnDataSource\"},\"glyph\":{\"id\":\"b3734f03-9eb0-45f1-9d12-7814ce40cbbc\",\"type\":\"VBar\"},\"hover_glyph\":null,\"muted_glyph\":null,\"nonselection_glyph\":{\"id\":\"856be17c-df52-452b-a000-1173f5bc730c\",\"type\":\"VBar\"},\"selection_glyph\":null,\"view\":{\"id\":\"77d5f672-572b-42e7-b615-b891ec19112b\",\"type\":\"CDSView\"}},\"id\":\"b4943fa8-bb7f-4ef1-9055-eb1c2f2209b9\",\"type\":\"GlyphRenderer\"},{\"attributes\":{\"callback\":null},\"id\":\"0f7c8cb6-b116-444f-94ab-c586972be2c0\",\"type\":\"DataRange1d\"},{\"attributes\":{},\"id\":\"ce1fc7be-b144-4738-a28f-6b810568379b\",\"type\":\"CategoricalTicker\"},{\"attributes\":{\"below\":[{\"id\":\"0a9713ae-dab6-4f3c-bffd-07f506417f59\",\"type\":\"CategoricalAxis\"}],\"left\":[{\"id\":\"86745a5e-9ac8-4535-b0e6-878ad5a6b6df\",\"type\":\"LinearAxis\"}],\"plot_height\":300,\"plot_width\":300,\"renderers\":[{\"id\":\"0a9713ae-dab6-4f3c-bffd-07f506417f59\",\"type\":\"CategoricalAxis\"},{\"id\":\"95754b5d-37e9-40db-bea5-e80ba43cb697\",\"type\":\"Grid\"},{\"id\":\"86745a5e-9ac8-4535-b0e6-878ad5a6b6df\",\"type\":\"LinearAxis\"},{\"id\":\"32ddc152-1581-4d0e-a0f6-a126e6f96261\",\"type\":\"Grid\"},{\"id\":\"6283728f-9902-45e1-9d13-46fc733e88c7\",\"type\":\"BoxAnnotation\"},{\"id\":\"2c9a22d1-96dd-483f-b19e-0aabdf625d0d\",\"type\":\"GlyphRenderer\"}],\"title\":{\"id\":\"462d4f07-a1a5-4fa7-bf94-f21039c686fa\",\"type\":\"Title\"},\"toolbar\":{\"id\":\"7df71187-6a5b-4da9-a5f0-6a39eb0676da\",\"type\":\"Toolbar\"},\"toolbar_location\":null,\"x_range\":{\"id\":\"4b24ca73-520e-4626-baa1-28191c2b44f3\",\"type\":\"FactorRange\"},\"x_scale\":{\"id\":\"b8536407-7764-4714-9d54-acba04f5b03c\",\"type\":\"CategoricalScale\"},\"y_range\":{\"id\":\"beeee494-5943-4529-ab06-c41cd80c28bd\",\"type\":\"DataRange1d\"},\"y_scale\":{\"id\":\"a6c4159e-10a7-4993-9199-baa55c6c64f8\",\"type\":\"LinearScale\"}},\"id\":\"975dce48-ea90-49c6-baed-b9c6df099b78\",\"subtype\":\"Figure\",\"type\":\"Plot\"},{\"attributes\":{},\"id\":\"a6c4159e-10a7-4993-9199-baa55c6c64f8\",\"type\":\"LinearScale\"},{\"attributes\":{},\"id\":\"2e0fcb89-1cc2-4c5b-80e1-b1a28809d28a\",\"type\":\"LinearScale\"},{\"attributes\":{\"overlay\":{\"id\":\"bc4a81d7-73a0-4afb-b7a4-19c100c2ee39\",\"type\":\"BoxAnnotation\"}},\"id\":\"24bdb297-3865-4226-9651-58301a21440c\",\"type\":\"BoxZoomTool\"},{\"attributes\":{\"active_drag\":\"auto\",\"active_inspect\":\"auto\",\"active_scroll\":\"auto\",\"active_tap\":\"auto\",\"tools\":[{\"id\":\"49598dda-61fe-4b0f-8050-2693f8bfe436\",\"type\":\"PanTool\"},{\"id\":\"094f70f7-27f1-41fc-bc82-cf8757962d88\",\"type\":\"WheelZoomTool\"},{\"id\":\"c3be0fac-b4ea-44c3-8229-a44c9f471765\",\"type\":\"BoxZoomTool\"},{\"id\":\"5148dca9-08eb-44e1-9bec-a66448ad1969\",\"type\":\"SaveTool\"},{\"id\":\"3dfa2656-dd3d-4065-aeac-1db65a6e37a2\",\"type\":\"ResetTool\"},{\"id\":\"8e3a9f67-eb63-4946-bcda-4fedab84df93\",\"type\":\"HelpTool\"}]},\"id\":\"7df71187-6a5b-4da9-a5f0-6a39eb0676da\",\"type\":\"Toolbar\"},{\"attributes\":{\"plot\":null,\"text\":\"Atmosphere heating. CLIRAD (single-run) - CRD.\"},\"id\":\"efa3c050-5d13-4e32-84c3-7c475b806669\",\"type\":\"Title\"},{\"attributes\":{},\"id\":\"923a070a-f214-4cdc-83ca-5c36264b53fc\",\"type\":\"PanTool\"},{\"attributes\":{},\"id\":\"2dea8fd3-eed4-4754-b563-0f0b6f3b509d\",\"type\":\"SaveTool\"},{\"attributes\":{\"source\":{\"id\":\"190d2071-aa46-4a13-85aa-f8abd2413c7c\",\"type\":\"ColumnDataSource\"}},\"id\":\"77d5f672-572b-42e7-b615-b891ec19112b\",\"type\":\"CDSView\"},{\"attributes\":{},\"id\":\"5eb3ebd0-abed-4efb-b6df-76c856adbea2\",\"type\":\"CategoricalTickFormatter\"},{\"attributes\":{\"axis_label\":\"spectral band\",\"formatter\":{\"id\":\"d0e43264-58b7-4384-8833-f3bb7a89427c\",\"type\":\"CategoricalTickFormatter\"},\"plot\":{\"id\":\"975dce48-ea90-49c6-baed-b9c6df099b78\",\"subtype\":\"Figure\",\"type\":\"Plot\"},\"ticker\":{\"id\":\"ce1fc7be-b144-4738-a28f-6b810568379b\",\"type\":\"CategoricalTicker\"}},\"id\":\"0a9713ae-dab6-4f3c-bffd-07f506417f59\",\"type\":\"CategoricalAxis\"},{\"attributes\":{},\"id\":\"b577eba4-6a98-4a13-81fb-7cb20c3f65d4\",\"type\":\"HelpTool\"},{\"attributes\":{\"axis_label\":\"flux (W m-2)\",\"formatter\":{\"id\":\"8652a857-42d0-4128-9d49-78bcc3ac07ac\",\"type\":\"BasicTickFormatter\"},\"plot\":{\"id\":\"975dce48-ea90-49c6-baed-b9c6df099b78\",\"subtype\":\"Figure\",\"type\":\"Plot\"},\"ticker\":{\"id\":\"8e407f6c-145b-4c91-b23c-02414bbe6b25\",\"type\":\"BasicTicker\"}},\"id\":\"86745a5e-9ac8-4535-b0e6-878ad5a6b6df\",\"type\":\"LinearAxis\"},{\"attributes\":{\"fill_alpha\":{\"value\":0.1},\"fill_color\":{\"value\":\"#1f77b4\"},\"line_alpha\":{\"value\":0.1},\"line_color\":{\"value\":\"#1f77b4\"},\"top\":{\"field\":\"flux\"},\"width\":{\"value\":0.9},\"x\":{\"field\":\"band\"}},\"id\":\"856be17c-df52-452b-a000-1173f5bc730c\",\"type\":\"VBar\"},{\"attributes\":{\"callback\":null,\"factors\":[\"1\",\"2\",\"3\",\"4\",\"5\",\"6\",\"7\",\"8\",\"9\",\"10\",\"11\"]},\"id\":\"4b24ca73-520e-4626-baa1-28191c2b44f3\",\"type\":\"FactorRange\"},{\"attributes\":{\"callback\":null,\"factors\":[\"1\",\"2\",\"3\",\"4\",\"5\",\"6\",\"7\",\"8\",\"9\",\"10\",\"11\"]},\"id\":\"02f72cba-a0b0-48a7-a2df-d93564fce057\",\"type\":\"FactorRange\"},{\"attributes\":{},\"id\":\"b8536407-7764-4714-9d54-acba04f5b03c\",\"type\":\"CategoricalScale\"},{\"attributes\":{\"plot\":{\"id\":\"975dce48-ea90-49c6-baed-b9c6df099b78\",\"subtype\":\"Figure\",\"type\":\"Plot\"},\"ticker\":{\"id\":\"ce1fc7be-b144-4738-a28f-6b810568379b\",\"type\":\"CategoricalTicker\"}},\"id\":\"95754b5d-37e9-40db-bea5-e80ba43cb697\",\"type\":\"Grid\"},{\"attributes\":{},\"id\":\"2e8f7602-67e8-4fce-886b-097f77a7d0ef\",\"type\":\"CategoricalScale\"},{\"attributes\":{\"bottom_units\":\"screen\",\"fill_alpha\":{\"value\":0.5},\"fill_color\":{\"value\":\"lightgrey\"},\"left_units\":\"screen\",\"level\":\"overlay\",\"line_alpha\":{\"value\":1.0},\"line_color\":{\"value\":\"black\"},\"line_dash\":[4,4],\"line_width\":{\"value\":2},\"plot\":null,\"render_mode\":\"css\",\"right_units\":\"screen\",\"top_units\":\"screen\"},\"id\":\"bc4a81d7-73a0-4afb-b7a4-19c100c2ee39\",\"type\":\"BoxAnnotation\"},{\"attributes\":{},\"id\":\"4181ab8a-367d-4855-9da0-f3398b9bc714\",\"type\":\"ResetTool\"},{\"attributes\":{\"bottom_units\":\"screen\",\"fill_alpha\":{\"value\":0.5},\"fill_color\":{\"value\":\"lightgrey\"},\"left_units\":\"screen\",\"level\":\"overlay\",\"line_alpha\":{\"value\":1.0},\"line_color\":{\"value\":\"black\"},\"line_dash\":[4,4],\"line_width\":{\"value\":2},\"plot\":null,\"render_mode\":\"css\",\"right_units\":\"screen\",\"top_units\":\"screen\"},\"id\":\"6283728f-9902-45e1-9d13-46fc733e88c7\",\"type\":\"BoxAnnotation\"},{\"attributes\":{\"plot\":null,\"text\":\"SFC flux. CLIRAD (single-run) - CRD.\"},\"id\":\"462d4f07-a1a5-4fa7-bf94-f21039c686fa\",\"type\":\"Title\"},{\"attributes\":{\"below\":[{\"id\":\"fe5f6517-a42d-49e5-a6a8-d11a00101815\",\"type\":\"CategoricalAxis\"}],\"left\":[{\"id\":\"7504f0ac-9571-4e5d-8ff0-181ceb18434a\",\"type\":\"LinearAxis\"}],\"plot_height\":300,\"plot_width\":300,\"renderers\":[{\"id\":\"fe5f6517-a42d-49e5-a6a8-d11a00101815\",\"type\":\"CategoricalAxis\"},{\"id\":\"818989cf-1e07-4bec-b396-7cf989fd10f0\",\"type\":\"Grid\"},{\"id\":\"7504f0ac-9571-4e5d-8ff0-181ceb18434a\",\"type\":\"LinearAxis\"},{\"id\":\"58b98a17-39d1-483d-b9ec-77f297c7103e\",\"type\":\"Grid\"},{\"id\":\"d5bb91ae-c89a-487d-a2c2-931870c8c075\",\"type\":\"BoxAnnotation\"},{\"id\":\"cc279311-c82e-4499-b3c1-ae6a2a926d7e\",\"type\":\"GlyphRenderer\"}],\"title\":{\"id\":\"efa3c050-5d13-4e32-84c3-7c475b806669\",\"type\":\"Title\"},\"toolbar\":{\"id\":\"feb58cc4-42a2-4d90-8c98-7a86e8908357\",\"type\":\"Toolbar\"},\"toolbar_location\":null,\"x_range\":{\"id\":\"02f72cba-a0b0-48a7-a2df-d93564fce057\",\"type\":\"FactorRange\"},\"x_scale\":{\"id\":\"2e8f7602-67e8-4fce-886b-097f77a7d0ef\",\"type\":\"CategoricalScale\"},\"y_range\":{\"id\":\"0f7c8cb6-b116-444f-94ab-c586972be2c0\",\"type\":\"DataRange1d\"},\"y_scale\":{\"id\":\"2e0fcb89-1cc2-4c5b-80e1-b1a28809d28a\",\"type\":\"LinearScale\"}},\"id\":\"b5318b54-7d6f-4522-8e14-cb2d9da6dd9a\",\"subtype\":\"Figure\",\"type\":\"Plot\"},{\"attributes\":{\"data_source\":{\"id\":\"5b0db563-c263-4756-804d-428272228a5b\",\"type\":\"ColumnDataSource\"},\"glyph\":{\"id\":\"a33cc5a9-55a1-41ab-99f0-c0fbd26424d2\",\"type\":\"VBar\"},\"hover_glyph\":null,\"muted_glyph\":null,\"nonselection_glyph\":{\"id\":\"afe2bca8-d61e-4df3-86c9-75cc86034efd\",\"type\":\"VBar\"},\"selection_glyph\":null,\"view\":{\"id\":\"3558d937-005e-4f21-a44c-22c40e6267ab\",\"type\":\"CDSView\"}},\"id\":\"2c9a22d1-96dd-483f-b19e-0aabdf625d0d\",\"type\":\"GlyphRenderer\"},{\"attributes\":{\"callback\":null,\"data\":{\"band\":[\"1\",\"2\",\"3\",\"4\",\"5\",\"6\",\"7\",\"8\",\"9\",\"10\",\"11\"],\"flux\":{\"__ndarray__\":\"AMHG9e/6yj8ARFVMpZ/UP8A1I4PcRdO/wKT4+ITs4T8A9+Y3TDTUPwDo9SfxuaO/gPm7d9SYzj8AxJEHIou4vwAu4dBbPJw/4PGprSLtwT+A9UyK6gi9Pw==\",\"dtype\":\"float64\",\"shape\":[11]}},\"selected\":{\"id\":\"99fcaa01-ea1e-491c-92e7-ef933124c13f\",\"type\":\"Selection\"},\"selection_policy\":{\"id\":\"2dcec907-ec15-4d8d-803a-4acf441137f7\",\"type\":\"UnionRenderers\"}},\"id\":\"190d2071-aa46-4a13-85aa-f8abd2413c7c\",\"type\":\"ColumnDataSource\"},{\"attributes\":{\"callback\":null},\"id\":\"beeee494-5943-4529-ab06-c41cd80c28bd\",\"type\":\"DataRange1d\"},{\"attributes\":{\"active_drag\":\"auto\",\"active_inspect\":\"auto\",\"active_scroll\":\"auto\",\"active_tap\":\"auto\",\"tools\":[{\"id\":\"16e0df7a-dff3-4b51-a112-f2112b96b27a\",\"type\":\"PanTool\"},{\"id\":\"d7c3aa1b-3a97-44bc-8ce1-03cbb36b1428\",\"type\":\"WheelZoomTool\"},{\"id\":\"db47a68a-d1c6-4b62-a55c-3c68f9f8f875\",\"type\":\"BoxZoomTool\"},{\"id\":\"bea39143-63f8-445e-b0c5-5a9b87b44553\",\"type\":\"SaveTool\"},{\"id\":\"b996d75c-73d9-4f53-8dad-a9c67db5b69f\",\"type\":\"ResetTool\"},{\"id\":\"1a07a2bc-6646-4c3b-8379-b17c182e0a03\",\"type\":\"HelpTool\"}]},\"id\":\"feb58cc4-42a2-4d90-8c98-7a86e8908357\",\"type\":\"Toolbar\"},{\"attributes\":{},\"id\":\"8603f24a-542e-4cd4-9578-44602f34c1ad\",\"type\":\"WheelZoomTool\"},{\"attributes\":{\"fill_color\":{\"value\":\"#1f77b4\"},\"line_color\":{\"value\":\"#1f77b4\"},\"top\":{\"field\":\"flux\"},\"width\":{\"value\":0.9},\"x\":{\"field\":\"band\"}},\"id\":\"b3734f03-9eb0-45f1-9d12-7814ce40cbbc\",\"type\":\"VBar\"},{\"attributes\":{\"axis_label\":\"spectral band\",\"formatter\":{\"id\":\"5eb3ebd0-abed-4efb-b6df-76c856adbea2\",\"type\":\"CategoricalTickFormatter\"},\"plot\":{\"id\":\"b5318b54-7d6f-4522-8e14-cb2d9da6dd9a\",\"subtype\":\"Figure\",\"type\":\"Plot\"},\"ticker\":{\"id\":\"99ab8dfe-472f-4f94-9978-f3047f161859\",\"type\":\"CategoricalTicker\"}},\"id\":\"fe5f6517-a42d-49e5-a6a8-d11a00101815\",\"type\":\"CategoricalAxis\"}],\"root_ids\":[\"4ecbb5b8-f740-413a-a991-cf40fec88756\"]},\"title\":\"Bokeh Application\",\"version\":\"0.12.16\"}};\n",
       "  var render_items = [{\"docid\":\"f6624bda-cb55-48b4-b14f-8d1b9fc96fc7\",\"elementid\":\"afac08d8-c75d-4096-8598-fa42cc40140a\",\"modelid\":\"4ecbb5b8-f740-413a-a991-cf40fec88756\"}];\n",
       "  root.Bokeh.embed.embed_items_notebook(docs_json, render_items);\n",
       "\n",
       "  }\n",
       "  if (root.Bokeh !== undefined) {\n",
       "    embed_document(root);\n",
       "  } else {\n",
       "    var attempts = 0;\n",
       "    var timer = setInterval(function(root) {\n",
       "      if (root.Bokeh !== undefined) {\n",
       "        embed_document(root);\n",
       "        clearInterval(timer);\n",
       "      }\n",
       "      attempts++;\n",
       "      if (attempts > 100) {\n",
       "        console.log(\"Bokeh: ERROR: Unable to run BokehJS code because BokehJS library is missing\")\n",
       "        clearInterval(timer);\n",
       "      }\n",
       "    }, 10, root)\n",
       "  }\n",
       "})(window);"
      ],
      "application/vnd.bokehjs_exec.v0+json": ""
     },
     "metadata": {
      "application/vnd.bokehjs_exec.v0+json": {
       "id": "4ecbb5b8-f740-413a-a991-cf40fec88756"
      }
     },
     "output_type": "display_data"
    },
    {
     "data": {
      "text/markdown": [
       "*FIGURE.* Difference between CLIRAD and CRD in TOA, SFC and net atmosphere flux, in each spectral band."
      ],
      "text/plain": [
       "<IPython.core.display.Markdown object>"
      ]
     },
     "metadata": {},
     "output_type": "display_data"
    },
    {
     "data": {
      "text/html": [
       "<div>\n",
       "<style scoped>\n",
       "    .dataframe tbody tr th:only-of-type {\n",
       "        vertical-align: middle;\n",
       "    }\n",
       "\n",
       "    .dataframe tbody tr th {\n",
       "        vertical-align: top;\n",
       "    }\n",
       "\n",
       "    .dataframe thead th {\n",
       "        text-align: right;\n",
       "    }\n",
       "</style>\n",
       "<table border=\"1\" class=\"dataframe\">\n",
       "  <thead>\n",
       "    <tr style=\"text-align: right;\">\n",
       "      <th></th>\n",
       "      <th>OLR flux</th>\n",
       "      <th>SFC flux</th>\n",
       "      <th>ATM heating</th>\n",
       "    </tr>\n",
       "    <tr>\n",
       "      <th>Sum over bands</th>\n",
       "      <th></th>\n",
       "      <th></th>\n",
       "      <th></th>\n",
       "    </tr>\n",
       "  </thead>\n",
       "  <tbody>\n",
       "    <tr>\n",
       "      <th>CLIRAD (single-run) - CRD</th>\n",
       "      <td>1.49</td>\n",
       "      <td>1.62</td>\n",
       "      <td>-0.13</td>\n",
       "    </tr>\n",
       "    <tr>\n",
       "      <th>CRD</th>\n",
       "      <td>-303.40</td>\n",
       "      <td>337.24</td>\n",
       "      <td>-181.37</td>\n",
       "    </tr>\n",
       "  </tbody>\n",
       "</table>\n",
       "</div>"
      ],
      "text/plain": [
       "                           OLR flux  SFC flux  ATM heating\n",
       "Sum over bands                                            \n",
       "CLIRAD (single-run) - CRD      1.49      1.62        -0.13\n",
       "CRD                         -303.40    337.24      -181.37"
      ]
     },
     "metadata": {},
     "output_type": "display_data"
    },
    {
     "data": {
      "text/markdown": [
       "*TABLE.* Difference between CLIRAD and CRD in TOA, SFC and net atmosphere flux, over all spectral bands. CRD's TOA, SFC and net atmosphere flux, over all spectral bands."
      ],
      "text/plain": [
       "<IPython.core.display.Markdown object>"
      ]
     },
     "metadata": {},
     "output_type": "display_data"
    }
   ],
   "source": [
    "def show_html(s):\n",
    "    display.display(display.HTML(s))\n",
    "\n",
    "    \n",
    "def show_markdown(s):\n",
    "    display.display(display.Markdown(s))\n",
    "\n",
    "\n",
    "def script():\n",
    "    \n",
    "    d_atm = {'mls': 'mid-latitude summer',\n",
    "             'saw': 'sub-arctic winter',\n",
    "             'trp': 'tropical'}\n",
    "    \n",
    "    title = ('## Results over entire range of molecules'\n",
    "             ' and spectral bands')\n",
    "    \n",
    "    s_makeup = 'Makeup of atmosphere.'\n",
    "    s_atmpro = '# {}'\n",
    "    s_cool = 'Cooling rates. {}.'\n",
    "    s_flux = 'Fluxes. {}.'\n",
    "    \n",
    "    atmpros = ['mls', 'saw', 'trp']\n",
    "    \n",
    "    # TOC\n",
    "    show_markdown(title)\n",
    "    show_markdown('### Table of Contents')\n",
    "    show_html(climahtml.getHTML_hrefanchor(s_makeup))\n",
    "    for atmpro in atmpros:\n",
    "        show_markdown('**' + d_atm[atmpro] + '**')\n",
    "        show_html(climahtml.getHTML_hrefanchor(s_cool.format(atmpro)))\n",
    "        show_html(climahtml.getHTML_hrefanchor(s_flux.format(atmpro)))\n",
    "\n",
    "        \n",
    "    # Atmosphere makeup\n",
    "    show_html(climahtml.getHTML_idanchor(s_makeup))\n",
    "    show_markdown(climahtml.getMarkdown_sectitle(s_makeup))\n",
    "    show_makeup()\n",
    "    show_grey_makeup()\n",
    "        \n",
    "    for atmpro in atmpros:\n",
    "        show_html(climahtml.getHTML_idanchor(s_cool.format(atmpro)))\n",
    "        show_markdown(\n",
    "            climahtml.getMarkdown_sectitle(s_cool.format(atmpro)))\n",
    "        show_cool(atmpro=atmpro)\n",
    "        show_html(climahtml.getHTML_idanchor(s_flux.format(atmpro)))\n",
    "        show_markdown(\n",
    "            climahtml.getMarkdown_sectitle(s_flux.format(atmpro)))\n",
    "        show_hist_flux(atmpro=atmpro)\n",
    "        show_tb_flux(atmpro=atmpro)\n",
    "    \n",
    "    \n",
    "script()  "
   ]
  },
  {
   "cell_type": "code",
   "execution_count": null,
   "metadata": {
    "collapsed": true
   },
   "outputs": [],
   "source": []
  },
  {
   "cell_type": "code",
   "execution_count": 468,
   "metadata": {},
   "outputs": [
    {
     "data": {
      "text/html": [
       "<script>\n",
       "code_show=true; \n",
       "function code_toggle() {\n",
       " if (code_show){\n",
       " $('div.input').hide();\n",
       " } else {\n",
       " $('div.input').show();\n",
       " }\n",
       " code_show = !code_show\n",
       "} \n",
       "$( document ).ready(code_toggle);\n",
       "</script>\n",
       "<form action=\"javascript:code_toggle()\"><input type=\"submit\" value=\"Click here to toggle on/off the raw code.\"></form>"
      ],
      "text/plain": [
       "<IPython.core.display.HTML object>"
      ]
     },
     "execution_count": 468,
     "metadata": {},
     "output_type": "execute_result"
    }
   ],
   "source": [
    "display.HTML('''<script>\n",
    "code_show=true; \n",
    "function code_toggle() {\n",
    " if (code_show){\n",
    " $('div.input').hide();\n",
    " } else {\n",
    " $('div.input').show();\n",
    " }\n",
    " code_show = !code_show\n",
    "} \n",
    "$( document ).ready(code_toggle);\n",
    "</script>\n",
    "<form action=\"javascript:code_toggle()\"><input type=\"submit\" value=\"Click here to toggle on/off the raw code.\"></form>''')"
   ]
  },
  {
   "cell_type": "code",
   "execution_count": null,
   "metadata": {
    "collapsed": true
   },
   "outputs": [],
   "source": []
  }
 ],
 "metadata": {
  "kernelspec": {
   "display_name": "Python 3",
   "language": "python",
   "name": "python3"
  },
  "language_info": {
   "codemirror_mode": {
    "name": "ipython",
    "version": 3
   },
   "file_extension": ".py",
   "mimetype": "text/x-python",
   "name": "python",
   "nbconvert_exporter": "python",
   "pygments_lexer": "ipython3",
   "version": "3.6.1"
  }
 },
 "nbformat": 4,
 "nbformat_minor": 2
}
