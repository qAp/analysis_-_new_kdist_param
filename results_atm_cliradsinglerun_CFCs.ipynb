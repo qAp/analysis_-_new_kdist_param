{
 "cells": [
  {
   "cell_type": "code",
   "execution_count": 70,
   "metadata": {
    "collapsed": true
   },
   "outputs": [],
   "source": [
    "import os\n",
    "import ast\n",
    "import json\n",
    "import importlib \n",
    "import itertools\n",
    "import collections\n",
    "import pprint\n",
    "\n",
    "from bokeh.io import output_notebook, show\n",
    "from bokeh.layouts import gridplot\n",
    "from bokeh.plotting import figure\n",
    "from bokeh.models import Range1d, Legend, ColumnDataSource, FactorRange\n",
    "from bokeh.palettes import all_palettes\n",
    "from bokeh.transform import factor_cmap\n",
    "\n",
    "import matplotlib\n",
    "import matplotlib.pyplot as plt\n",
    "import numpy as np\n",
    "import pandas as pd\n",
    "import xarray as xr\n",
    "\n",
    "\n",
    "import climatools.lblnew.bestfit_params as bestfits\n",
    "from climatools.lblnew import setup_bestfit, setup_overlap\n",
    "import climatools.lblnew.pipeline as pipe_lblnew\n",
    "import climatools.cliradlw.setup as setup_cliradlw\n",
    "import climatools.cliradlw.pipeline as pipe_cliradlw\n",
    "\n",
    "import climatools.html.html as climahtml\n",
    "from climatools.lblnew.dataio import *\n",
    "from climatools.plot.plot import *\n",
    "\n",
    "\n",
    "from IPython import display\n",
    "\n",
    "#importlib.reload(bestfits)\n",
    "#importlib.reload(setup_bestfit)\n",
    "#importlib.reload(setup_overlap)\n",
    "#importlib.reload(pipe_lblnew)\n",
    "#importlib.reload(setup_cliradlw)\n",
    "#importlib.reload(pipe_cliradlw)"
   ]
  },
  {
   "cell_type": "code",
   "execution_count": 71,
   "metadata": {
    "scrolled": true
   },
   "outputs": [
    {
     "data": {
      "text/html": [
       "\n",
       "    <div class=\"bk-root\">\n",
       "        <a href=\"https://bokeh.pydata.org\" target=\"_blank\" class=\"bk-logo bk-logo-small bk-logo-notebook\"></a>\n",
       "        <span id=\"d3cdf8e4-583a-4792-b667-a241977baee4\">Loading BokehJS ...</span>\n",
       "    </div>"
      ]
     },
     "metadata": {},
     "output_type": "display_data"
    },
    {
     "data": {
      "application/javascript": [
       "\n",
       "(function(root) {\n",
       "  function now() {\n",
       "    return new Date();\n",
       "  }\n",
       "\n",
       "  var force = true;\n",
       "\n",
       "  if (typeof (root._bokeh_onload_callbacks) === \"undefined\" || force === true) {\n",
       "    root._bokeh_onload_callbacks = [];\n",
       "    root._bokeh_is_loading = undefined;\n",
       "  }\n",
       "\n",
       "  var JS_MIME_TYPE = 'application/javascript';\n",
       "  var HTML_MIME_TYPE = 'text/html';\n",
       "  var EXEC_MIME_TYPE = 'application/vnd.bokehjs_exec.v0+json';\n",
       "  var CLASS_NAME = 'output_bokeh rendered_html';\n",
       "\n",
       "  /**\n",
       "   * Render data to the DOM node\n",
       "   */\n",
       "  function render(props, node) {\n",
       "    var script = document.createElement(\"script\");\n",
       "    node.appendChild(script);\n",
       "  }\n",
       "\n",
       "  /**\n",
       "   * Handle when an output is cleared or removed\n",
       "   */\n",
       "  function handleClearOutput(event, handle) {\n",
       "    var cell = handle.cell;\n",
       "\n",
       "    var id = cell.output_area._bokeh_element_id;\n",
       "    var server_id = cell.output_area._bokeh_server_id;\n",
       "    // Clean up Bokeh references\n",
       "    if (id !== undefined) {\n",
       "      Bokeh.index[id].model.document.clear();\n",
       "      delete Bokeh.index[id];\n",
       "    }\n",
       "\n",
       "    if (server_id !== undefined) {\n",
       "      // Clean up Bokeh references\n",
       "      var cmd = \"from bokeh.io.state import curstate; print(curstate().uuid_to_server['\" + server_id + \"'].get_sessions()[0].document.roots[0]._id)\";\n",
       "      cell.notebook.kernel.execute(cmd, {\n",
       "        iopub: {\n",
       "          output: function(msg) {\n",
       "            var element_id = msg.content.text.trim();\n",
       "            Bokeh.index[element_id].model.document.clear();\n",
       "            delete Bokeh.index[element_id];\n",
       "          }\n",
       "        }\n",
       "      });\n",
       "      // Destroy server and session\n",
       "      var cmd = \"import bokeh.io.notebook as ion; ion.destroy_server('\" + server_id + \"')\";\n",
       "      cell.notebook.kernel.execute(cmd);\n",
       "    }\n",
       "  }\n",
       "\n",
       "  /**\n",
       "   * Handle when a new output is added\n",
       "   */\n",
       "  function handleAddOutput(event, handle) {\n",
       "    var output_area = handle.output_area;\n",
       "    var output = handle.output;\n",
       "\n",
       "    // limit handleAddOutput to display_data with EXEC_MIME_TYPE content only\n",
       "    if ((output.output_type != \"display_data\") || (!output.data.hasOwnProperty(EXEC_MIME_TYPE))) {\n",
       "      return\n",
       "    }\n",
       "\n",
       "    var toinsert = output_area.element.find(\".\" + CLASS_NAME.split(' ')[0]);\n",
       "\n",
       "    if (output.metadata[EXEC_MIME_TYPE][\"id\"] !== undefined) {\n",
       "      toinsert[toinsert.length - 1].firstChild.textContent = output.data[JS_MIME_TYPE];\n",
       "      // store reference to embed id on output_area\n",
       "      output_area._bokeh_element_id = output.metadata[EXEC_MIME_TYPE][\"id\"];\n",
       "    }\n",
       "    if (output.metadata[EXEC_MIME_TYPE][\"server_id\"] !== undefined) {\n",
       "      var bk_div = document.createElement(\"div\");\n",
       "      bk_div.innerHTML = output.data[HTML_MIME_TYPE];\n",
       "      var script_attrs = bk_div.children[0].attributes;\n",
       "      for (var i = 0; i < script_attrs.length; i++) {\n",
       "        toinsert[toinsert.length - 1].firstChild.setAttribute(script_attrs[i].name, script_attrs[i].value);\n",
       "      }\n",
       "      // store reference to server id on output_area\n",
       "      output_area._bokeh_server_id = output.metadata[EXEC_MIME_TYPE][\"server_id\"];\n",
       "    }\n",
       "  }\n",
       "\n",
       "  function register_renderer(events, OutputArea) {\n",
       "\n",
       "    function append_mime(data, metadata, element) {\n",
       "      // create a DOM node to render to\n",
       "      var toinsert = this.create_output_subarea(\n",
       "        metadata,\n",
       "        CLASS_NAME,\n",
       "        EXEC_MIME_TYPE\n",
       "      );\n",
       "      this.keyboard_manager.register_events(toinsert);\n",
       "      // Render to node\n",
       "      var props = {data: data, metadata: metadata[EXEC_MIME_TYPE]};\n",
       "      render(props, toinsert[toinsert.length - 1]);\n",
       "      element.append(toinsert);\n",
       "      return toinsert\n",
       "    }\n",
       "\n",
       "    /* Handle when an output is cleared or removed */\n",
       "    events.on('clear_output.CodeCell', handleClearOutput);\n",
       "    events.on('delete.Cell', handleClearOutput);\n",
       "\n",
       "    /* Handle when a new output is added */\n",
       "    events.on('output_added.OutputArea', handleAddOutput);\n",
       "\n",
       "    /**\n",
       "     * Register the mime type and append_mime function with output_area\n",
       "     */\n",
       "    OutputArea.prototype.register_mime_type(EXEC_MIME_TYPE, append_mime, {\n",
       "      /* Is output safe? */\n",
       "      safe: true,\n",
       "      /* Index of renderer in `output_area.display_order` */\n",
       "      index: 0\n",
       "    });\n",
       "  }\n",
       "\n",
       "  // register the mime type if in Jupyter Notebook environment and previously unregistered\n",
       "  if (root.Jupyter !== undefined) {\n",
       "    var events = require('base/js/events');\n",
       "    var OutputArea = require('notebook/js/outputarea').OutputArea;\n",
       "\n",
       "    if (OutputArea.prototype.mime_types().indexOf(EXEC_MIME_TYPE) == -1) {\n",
       "      register_renderer(events, OutputArea);\n",
       "    }\n",
       "  }\n",
       "\n",
       "  \n",
       "  if (typeof (root._bokeh_timeout) === \"undefined\" || force === true) {\n",
       "    root._bokeh_timeout = Date.now() + 5000;\n",
       "    root._bokeh_failed_load = false;\n",
       "  }\n",
       "\n",
       "  var NB_LOAD_WARNING = {'data': {'text/html':\n",
       "     \"<div style='background-color: #fdd'>\\n\"+\n",
       "     \"<p>\\n\"+\n",
       "     \"BokehJS does not appear to have successfully loaded. If loading BokehJS from CDN, this \\n\"+\n",
       "     \"may be due to a slow or bad network connection. Possible fixes:\\n\"+\n",
       "     \"</p>\\n\"+\n",
       "     \"<ul>\\n\"+\n",
       "     \"<li>re-rerun `output_notebook()` to attempt to load from CDN again, or</li>\\n\"+\n",
       "     \"<li>use INLINE resources instead, as so:</li>\\n\"+\n",
       "     \"</ul>\\n\"+\n",
       "     \"<code>\\n\"+\n",
       "     \"from bokeh.resources import INLINE\\n\"+\n",
       "     \"output_notebook(resources=INLINE)\\n\"+\n",
       "     \"</code>\\n\"+\n",
       "     \"</div>\"}};\n",
       "\n",
       "  function display_loaded() {\n",
       "    var el = document.getElementById(\"d3cdf8e4-583a-4792-b667-a241977baee4\");\n",
       "    if (el != null) {\n",
       "      el.textContent = \"BokehJS is loading...\";\n",
       "    }\n",
       "    if (root.Bokeh !== undefined) {\n",
       "      if (el != null) {\n",
       "        el.textContent = \"BokehJS \" + root.Bokeh.version + \" successfully loaded.\";\n",
       "      }\n",
       "    } else if (Date.now() < root._bokeh_timeout) {\n",
       "      setTimeout(display_loaded, 100)\n",
       "    }\n",
       "  }\n",
       "\n",
       "\n",
       "  function run_callbacks() {\n",
       "    try {\n",
       "      root._bokeh_onload_callbacks.forEach(function(callback) { callback() });\n",
       "    }\n",
       "    finally {\n",
       "      delete root._bokeh_onload_callbacks\n",
       "    }\n",
       "    console.info(\"Bokeh: all callbacks have finished\");\n",
       "  }\n",
       "\n",
       "  function load_libs(js_urls, callback) {\n",
       "    root._bokeh_onload_callbacks.push(callback);\n",
       "    if (root._bokeh_is_loading > 0) {\n",
       "      console.log(\"Bokeh: BokehJS is being loaded, scheduling callback at\", now());\n",
       "      return null;\n",
       "    }\n",
       "    if (js_urls == null || js_urls.length === 0) {\n",
       "      run_callbacks();\n",
       "      return null;\n",
       "    }\n",
       "    console.log(\"Bokeh: BokehJS not loaded, scheduling load and callback at\", now());\n",
       "    root._bokeh_is_loading = js_urls.length;\n",
       "    for (var i = 0; i < js_urls.length; i++) {\n",
       "      var url = js_urls[i];\n",
       "      var s = document.createElement('script');\n",
       "      s.src = url;\n",
       "      s.async = false;\n",
       "      s.onreadystatechange = s.onload = function() {\n",
       "        root._bokeh_is_loading--;\n",
       "        if (root._bokeh_is_loading === 0) {\n",
       "          console.log(\"Bokeh: all BokehJS libraries loaded\");\n",
       "          run_callbacks()\n",
       "        }\n",
       "      };\n",
       "      s.onerror = function() {\n",
       "        console.warn(\"failed to load library \" + url);\n",
       "      };\n",
       "      console.log(\"Bokeh: injecting script tag for BokehJS library: \", url);\n",
       "      document.getElementsByTagName(\"head\")[0].appendChild(s);\n",
       "    }\n",
       "  };var element = document.getElementById(\"d3cdf8e4-583a-4792-b667-a241977baee4\");\n",
       "  if (element == null) {\n",
       "    console.log(\"Bokeh: ERROR: autoload.js configured with elementid 'd3cdf8e4-583a-4792-b667-a241977baee4' but no matching script tag was found. \")\n",
       "    return false;\n",
       "  }\n",
       "\n",
       "  var js_urls = [\"https://cdn.pydata.org/bokeh/release/bokeh-0.12.16.min.js\", \"https://cdn.pydata.org/bokeh/release/bokeh-widgets-0.12.16.min.js\", \"https://cdn.pydata.org/bokeh/release/bokeh-tables-0.12.16.min.js\", \"https://cdn.pydata.org/bokeh/release/bokeh-gl-0.12.16.min.js\"];\n",
       "\n",
       "  var inline_js = [\n",
       "    function(Bokeh) {\n",
       "      Bokeh.set_log_level(\"info\");\n",
       "    },\n",
       "    \n",
       "    function(Bokeh) {\n",
       "      \n",
       "    },\n",
       "    function(Bokeh) {\n",
       "      console.log(\"Bokeh: injecting CSS: https://cdn.pydata.org/bokeh/release/bokeh-0.12.16.min.css\");\n",
       "      Bokeh.embed.inject_css(\"https://cdn.pydata.org/bokeh/release/bokeh-0.12.16.min.css\");\n",
       "      console.log(\"Bokeh: injecting CSS: https://cdn.pydata.org/bokeh/release/bokeh-widgets-0.12.16.min.css\");\n",
       "      Bokeh.embed.inject_css(\"https://cdn.pydata.org/bokeh/release/bokeh-widgets-0.12.16.min.css\");\n",
       "      console.log(\"Bokeh: injecting CSS: https://cdn.pydata.org/bokeh/release/bokeh-tables-0.12.16.min.css\");\n",
       "      Bokeh.embed.inject_css(\"https://cdn.pydata.org/bokeh/release/bokeh-tables-0.12.16.min.css\");\n",
       "    }\n",
       "  ];\n",
       "\n",
       "  function run_inline_js() {\n",
       "    \n",
       "    if ((root.Bokeh !== undefined) || (force === true)) {\n",
       "      for (var i = 0; i < inline_js.length; i++) {\n",
       "        inline_js[i].call(root, root.Bokeh);\n",
       "      }if (force === true) {\n",
       "        display_loaded();\n",
       "      }} else if (Date.now() < root._bokeh_timeout) {\n",
       "      setTimeout(run_inline_js, 100);\n",
       "    } else if (!root._bokeh_failed_load) {\n",
       "      console.log(\"Bokeh: BokehJS failed to load within specified timeout.\");\n",
       "      root._bokeh_failed_load = true;\n",
       "    } else if (force !== true) {\n",
       "      var cell = $(document.getElementById(\"d3cdf8e4-583a-4792-b667-a241977baee4\")).parents('.cell').data().cell;\n",
       "      cell.output_area.append_execute_result(NB_LOAD_WARNING)\n",
       "    }\n",
       "\n",
       "  }\n",
       "\n",
       "  if (root._bokeh_is_loading === 0) {\n",
       "    console.log(\"Bokeh: BokehJS loaded, going straight to plotting\");\n",
       "    run_inline_js();\n",
       "  } else {\n",
       "    load_libs(js_urls, function() {\n",
       "      console.log(\"Bokeh: BokehJS plotting callback run at\", now());\n",
       "      run_inline_js();\n",
       "    });\n",
       "  }\n",
       "}(window));"
      ],
      "application/vnd.bokehjs_load.v0+json": "\n(function(root) {\n  function now() {\n    return new Date();\n  }\n\n  var force = true;\n\n  if (typeof (root._bokeh_onload_callbacks) === \"undefined\" || force === true) {\n    root._bokeh_onload_callbacks = [];\n    root._bokeh_is_loading = undefined;\n  }\n\n  \n\n  \n  if (typeof (root._bokeh_timeout) === \"undefined\" || force === true) {\n    root._bokeh_timeout = Date.now() + 5000;\n    root._bokeh_failed_load = false;\n  }\n\n  var NB_LOAD_WARNING = {'data': {'text/html':\n     \"<div style='background-color: #fdd'>\\n\"+\n     \"<p>\\n\"+\n     \"BokehJS does not appear to have successfully loaded. If loading BokehJS from CDN, this \\n\"+\n     \"may be due to a slow or bad network connection. Possible fixes:\\n\"+\n     \"</p>\\n\"+\n     \"<ul>\\n\"+\n     \"<li>re-rerun `output_notebook()` to attempt to load from CDN again, or</li>\\n\"+\n     \"<li>use INLINE resources instead, as so:</li>\\n\"+\n     \"</ul>\\n\"+\n     \"<code>\\n\"+\n     \"from bokeh.resources import INLINE\\n\"+\n     \"output_notebook(resources=INLINE)\\n\"+\n     \"</code>\\n\"+\n     \"</div>\"}};\n\n  function display_loaded() {\n    var el = document.getElementById(\"d3cdf8e4-583a-4792-b667-a241977baee4\");\n    if (el != null) {\n      el.textContent = \"BokehJS is loading...\";\n    }\n    if (root.Bokeh !== undefined) {\n      if (el != null) {\n        el.textContent = \"BokehJS \" + root.Bokeh.version + \" successfully loaded.\";\n      }\n    } else if (Date.now() < root._bokeh_timeout) {\n      setTimeout(display_loaded, 100)\n    }\n  }\n\n\n  function run_callbacks() {\n    try {\n      root._bokeh_onload_callbacks.forEach(function(callback) { callback() });\n    }\n    finally {\n      delete root._bokeh_onload_callbacks\n    }\n    console.info(\"Bokeh: all callbacks have finished\");\n  }\n\n  function load_libs(js_urls, callback) {\n    root._bokeh_onload_callbacks.push(callback);\n    if (root._bokeh_is_loading > 0) {\n      console.log(\"Bokeh: BokehJS is being loaded, scheduling callback at\", now());\n      return null;\n    }\n    if (js_urls == null || js_urls.length === 0) {\n      run_callbacks();\n      return null;\n    }\n    console.log(\"Bokeh: BokehJS not loaded, scheduling load and callback at\", now());\n    root._bokeh_is_loading = js_urls.length;\n    for (var i = 0; i < js_urls.length; i++) {\n      var url = js_urls[i];\n      var s = document.createElement('script');\n      s.src = url;\n      s.async = false;\n      s.onreadystatechange = s.onload = function() {\n        root._bokeh_is_loading--;\n        if (root._bokeh_is_loading === 0) {\n          console.log(\"Bokeh: all BokehJS libraries loaded\");\n          run_callbacks()\n        }\n      };\n      s.onerror = function() {\n        console.warn(\"failed to load library \" + url);\n      };\n      console.log(\"Bokeh: injecting script tag for BokehJS library: \", url);\n      document.getElementsByTagName(\"head\")[0].appendChild(s);\n    }\n  };var element = document.getElementById(\"d3cdf8e4-583a-4792-b667-a241977baee4\");\n  if (element == null) {\n    console.log(\"Bokeh: ERROR: autoload.js configured with elementid 'd3cdf8e4-583a-4792-b667-a241977baee4' but no matching script tag was found. \")\n    return false;\n  }\n\n  var js_urls = [\"https://cdn.pydata.org/bokeh/release/bokeh-0.12.16.min.js\", \"https://cdn.pydata.org/bokeh/release/bokeh-widgets-0.12.16.min.js\", \"https://cdn.pydata.org/bokeh/release/bokeh-tables-0.12.16.min.js\", \"https://cdn.pydata.org/bokeh/release/bokeh-gl-0.12.16.min.js\"];\n\n  var inline_js = [\n    function(Bokeh) {\n      Bokeh.set_log_level(\"info\");\n    },\n    \n    function(Bokeh) {\n      \n    },\n    function(Bokeh) {\n      console.log(\"Bokeh: injecting CSS: https://cdn.pydata.org/bokeh/release/bokeh-0.12.16.min.css\");\n      Bokeh.embed.inject_css(\"https://cdn.pydata.org/bokeh/release/bokeh-0.12.16.min.css\");\n      console.log(\"Bokeh: injecting CSS: https://cdn.pydata.org/bokeh/release/bokeh-widgets-0.12.16.min.css\");\n      Bokeh.embed.inject_css(\"https://cdn.pydata.org/bokeh/release/bokeh-widgets-0.12.16.min.css\");\n      console.log(\"Bokeh: injecting CSS: https://cdn.pydata.org/bokeh/release/bokeh-tables-0.12.16.min.css\");\n      Bokeh.embed.inject_css(\"https://cdn.pydata.org/bokeh/release/bokeh-tables-0.12.16.min.css\");\n    }\n  ];\n\n  function run_inline_js() {\n    \n    if ((root.Bokeh !== undefined) || (force === true)) {\n      for (var i = 0; i < inline_js.length; i++) {\n        inline_js[i].call(root, root.Bokeh);\n      }if (force === true) {\n        display_loaded();\n      }} else if (Date.now() < root._bokeh_timeout) {\n      setTimeout(run_inline_js, 100);\n    } else if (!root._bokeh_failed_load) {\n      console.log(\"Bokeh: BokehJS failed to load within specified timeout.\");\n      root._bokeh_failed_load = true;\n    } else if (force !== true) {\n      var cell = $(document.getElementById(\"d3cdf8e4-583a-4792-b667-a241977baee4\")).parents('.cell').data().cell;\n      cell.output_area.append_execute_result(NB_LOAD_WARNING)\n    }\n\n  }\n\n  if (root._bokeh_is_loading === 0) {\n    console.log(\"Bokeh: BokehJS loaded, going straight to plotting\");\n    run_inline_js();\n  } else {\n    load_libs(js_urls, function() {\n      console.log(\"Bokeh: BokehJS plotting callback run at\", now());\n      run_inline_js();\n    });\n  }\n}(window));"
     },
     "metadata": {},
     "output_type": "display_data"
    }
   ],
   "source": [
    "output_notebook()"
   ]
  },
  {
   "cell_type": "code",
   "execution_count": 72,
   "metadata": {
    "collapsed": true
   },
   "outputs": [],
   "source": [
    "'''\n",
    "Get the clirad-lw and lblnew `param`s for all spectral bands.  \n",
    "These are returned by functions `clirad_params_atm` and\n",
    "`lblnew_params_atm`, respectively.\n",
    "'''\n",
    "\n",
    "def molecules_byband_atm():\n",
    "    return {1: {'h2o': 'atmpro'},\n",
    "            2: {'h2o': 'atmpro'}, \n",
    "            3: {'co2': 0.0004, 'h2o': 'atmpro', 'n2o': 3.2e-07},\n",
    "            4: {'co2': 0.0004, 'h2o': 'atmpro'},\n",
    "            5: {'co2': 0.0004, 'h2o': 'atmpro'},\n",
    "            6: {'co2': 0.0004, 'h2o': 'atmpro'},\n",
    "            7: {'co2': 0.0004, 'h2o': 'atmpro', 'o3': 'atmpro'},\n",
    "            8: {'h2o': 'atmpro'},\n",
    "            9: {'ch4': 1.8e-06, 'h2o': 'atmpro', 'n2o': 3.2e-07},\n",
    "            10: {'h2o': 'atmpro'},\n",
    "            11: {'co2': 0.0004, 'h2o': 'atmpro'}}\n",
    "\n",
    "\n",
    "def greyabsorbers_by_band_atm():\n",
    "    return {1: {'con': 'atmpro'},\n",
    "            2: {'con': 'atmpro'},\n",
    "            3: {'con': 'atmpro'},\n",
    "            4: {'con': 'atmpro'},\n",
    "            5: {'con': 'atmpro'},\n",
    "            6: {'con': 'atmpro'}, \n",
    "            7: {'con': 'atmpro'},\n",
    "            8: {'con': 'atmpro', 'n2o': 3.2e-7}, \n",
    "            9: {'con': 'atmpro'}, \n",
    "            10: None,\n",
    "            11: None}\n",
    "\n",
    "\n",
    "def clirad_params_atm(atmpro='mls'):\n",
    "    d = {}\n",
    "    for band, molecule in molecules_byband_atm().items():\n",
    "        for param in setup_cliradlw.test_cases():\n",
    "            if [band] == param['band'] and molecule == param['molecule']:\n",
    "                param['atmpro'] = atmpro\n",
    "                d[band] = param\n",
    "                break                \n",
    "    return d\n",
    "\n",
    "\n",
    "def clirad_params_atm_singlerun(atmpro='mls'):\n",
    "    '''\n",
    "    Returns param of clirad-lw run that is equivalent to the total\n",
    "    of all the runs listed in molecules_byband_atm().  In order\n",
    "    for the output to be compatible with clirad_data_atm(), it will\n",
    "    be a list.\n",
    "    '''\n",
    "    param0 = {'band': [1, 2, 3, 4, 5, 6, 7, 8, 9, 10, 11],\n",
    "              'commitnumber': '4396034',\n",
    "              'molecule': {'ch4': 1.8e-06,\n",
    "                           'co2': 0.0004,\n",
    "                           'h2o': 'atmpro',\n",
    "                           'n2o': 3.2e-07,\n",
    "                           'o3': 'atmpro'}}\n",
    "    \n",
    "    d_atmpros = {'mls': 294, 'saw': 257, 'trp': 300}\n",
    "    \n",
    "    param = param0.copy()\n",
    "    param['atmpro'] = atmpro\n",
    "    param['tsfc'] = d_atmpros[atmpro]\n",
    "    \n",
    "    d = {}\n",
    "    d['all'] = param\n",
    "    return d\n",
    "\n",
    "\n",
    "def analysis_dirs_atm(atmpro='mls'):\n",
    "    params = clirad_params_atm(atmpro=atmpro)\n",
    "    return {band: pipe_cliradlw.get_analysis_dir(param=param,\n",
    "                                                 setup=setup_cliradlw) \n",
    "            for band, param in params.items()}\n",
    "\n",
    "\n",
    "def lblnew_params_atm(atmpro='mls'):\n",
    "    dirs = analysis_dirs_atm(atmpro=atmpro)\n",
    "    \n",
    "    d = {}\n",
    "    for band, dirname in dirs.items():\n",
    "        with open(os.path.join(dirname, 'param.py'), \n",
    "                  mode='r', encoding='utf-8') as f:\n",
    "            _, l = f.readlines()\n",
    "        \n",
    "        s = l.split('=')[1].strip()\n",
    "        d[band] = ast.literal_eval(s)\n",
    "        \n",
    "    return d\n"
   ]
  },
  {
   "cell_type": "code",
   "execution_count": 73,
   "metadata": {
    "collapsed": true
   },
   "outputs": [],
   "source": [
    "def db_getdir():\n",
    "    atmpro = 'mls'\n",
    "    params = clirad_params_atm_singlerun(atmpro=atmpro)\n",
    "    param = params['all']\n",
    "    \n",
    "    fdir = pipe_cliradlw.get_fortran_dir(param=param, \n",
    "                                         setup=setup_cliradlw)\n",
    "    return fdir\n",
    "\n",
    "\n",
    "def db_ktable():\n",
    "    fdir = db_getdir()    \n",
    "    fpath = os.path.join(fdir, 'ktable.dat')\n",
    "    \n",
    "    df = pd.read_csv(fpath, sep=r'\\s+')\n",
    "    df = df.set_index(['band', 'mid', 'il', 'it', 'g'])\n",
    "    ds = xr.Dataset.from_dataframe(df)\n",
    "    return ds\n",
    "\n",
    "\n",
    "def db_ng_dgs():\n",
    "    fdir = db_getdir()\n",
    "    fpath = os.path.join(fdir, 'ng_dgs.dat')\n",
    "    \n",
    "    df = pd.read_csv(fpath, sep=r'\\s+')\n",
    "    df = df.set_index(['band', 'mid', 'g'])\n",
    "    ds = xr.Dataset.from_dataframe(df)\n",
    "    return ds\n"
   ]
  },
  {
   "cell_type": "code",
   "execution_count": 74,
   "metadata": {
    "collapsed": true
   },
   "outputs": [],
   "source": [
    "def show_makeup():\n",
    "    df = pd.DataFrame()\n",
    "\n",
    "    for band, molecule in molecules_byband_atm().items():\n",
    "        for name, conc in molecule.items():\n",
    "            df.loc[name, band] = str(conc)\n",
    "\n",
    "    df = df.fillna(0)\n",
    "    df.columns.name = 'clirad band'\n",
    "    df.index.name = 'molecule'\n",
    "    \n",
    "    display.display(df)\n",
    "    \n",
    "    display.display(\n",
    "        display.Markdown('*TABLE.* Non-grey absorbers in the atmosphere.'))\n",
    "\n",
    "\n",
    "def show_grey_makeup():\n",
    "    df = pd.DataFrame()\n",
    "    \n",
    "    for band, molecule in greyabsorbers_by_band_atm().items():\n",
    "        if molecule == None:\n",
    "            pass\n",
    "        else:\n",
    "            for name, conc in molecule.items():\n",
    "                df.loc[name, band] = str(conc)\n",
    "                \n",
    "    df = df.fillna(0)\n",
    "    df.columns.name = 'clirad band'\n",
    "    df.index.name = 'absorber'\n",
    "    \n",
    "    display.display(df)\n",
    "    display.display(\n",
    "        display.Markdown('*TABLE.* Grey absorbers in the atmosphere.')\n",
    "    )"
   ]
  },
  {
   "cell_type": "code",
   "execution_count": 75,
   "metadata": {
    "collapsed": true
   },
   "outputs": [],
   "source": [
    "def load_output_file(path_csv):\n",
    "    '''\n",
    "    Load lblnew output .csv file to xarray.Dataset\n",
    "    \n",
    "    Parameters\n",
    "    ----------\n",
    "    path_csv: str\n",
    "              Path to the .csv file to be loaded.\n",
    "    ds: xarray.Dataset\n",
    "        Data in the input file in the form of an xarray.Dataset.\n",
    "    '''\n",
    "    toindex = ['band', 'pressure', 'igg', 'g']    \n",
    "    df = pd.read_csv(path_csv, sep=r'\\s+')\n",
    "    df = df.set_index([i for i in toindex if i in df.columns])\n",
    "    df = df.rename(columns={'sfu': 'flug',\n",
    "                            'sfd': 'fldg',\n",
    "                            'fnet': 'fnetg',\n",
    "                            'coolr': 'coolrg'})\n",
    "    ds = xr.Dataset.from_dataframe(df)\n",
    "\n",
    "    for l in ('level', 'layer'):\n",
    "        if l in ds.data_vars:\n",
    "            if len(ds[l].dims) > 1:\n",
    "                surface = {d: 0 for d in ds.dims if d != 'pressure'}\n",
    "                coord_level = ds[l][surface]\n",
    "                ds.coords[l] = ('pressure', coord_level)\n",
    "            else:\n",
    "                ds.coords[l] = ('pressure', ds[l])\n",
    "    \n",
    "    return ds"
   ]
  },
  {
   "cell_type": "code",
   "execution_count": 76,
   "metadata": {
    "collapsed": true
   },
   "outputs": [],
   "source": [
    "def lblnew_setup(param=None):\n",
    "    if 'ng_refs' in param:\n",
    "        return {'setup': setup_bestfit,\n",
    "                'fname_flux_crd': 'output_flux.dat',\n",
    "                'fname_cool_crd': 'output_coolr.dat',\n",
    "                'fname_flux_wgt': 'output_wfluxg.dat',\n",
    "                'fname_cool_wgt': 'output_wcoolrg.dat'}\n",
    "    else:\n",
    "        return {'setup': setup_overlap,\n",
    "                'fname_flux_crd': 'output_flux.dat',\n",
    "                'fname_cool_crd': 'output_coolr.dat',\n",
    "                'fname_flux_wgt': 'output_wflux.dat',\n",
    "                'fname_cool_wgt': 'output_wcoolr.dat'}\n",
    "\n",
    "    \n",
    "def load_lblnew_data(param):\n",
    "    \n",
    "    fname_dsname = [('fname_flux_crd', 'ds_flux_crd'),\n",
    "                    ('fname_cool_crd', 'ds_cool_crd'),\n",
    "                    ('fname_flux_wgt', 'ds_flux_wgt'),\n",
    "                    ('fname_cool_wgt', 'ds_cool_wgt')]\n",
    "    \n",
    "    d = lblnew_setup(param)\n",
    "    dir_fortran = pipe_lblnew.get_dir_case(param, setup=d['setup'])\n",
    "    \n",
    "    data_dict = {}\n",
    "    for fname, dsname in fname_dsname:\n",
    "        fpath = os.path.join(dir_fortran, d[fname])\n",
    "        data_dict[dsname] = load_output_file(fpath)\n",
    "    return data_dict"
   ]
  },
  {
   "cell_type": "code",
   "execution_count": 77,
   "metadata": {
    "collapsed": true
   },
   "outputs": [],
   "source": [
    "def crd_data_atm(params_atm):\n",
    "    '''\n",
    "    Parameters\n",
    "    ----------\n",
    "    \n",
    "    params_atm: dict\n",
    "                Parameter dictionary for each band.\n",
    "                \n",
    "    d: dict\n",
    "       'flux': xr.Dataset. [pressure, band]\n",
    "               Fluxes.\n",
    "       'cool': xr.Dataset. [pressure, band]\n",
    "               Cooling rate.\n",
    "    \n",
    "    '''\n",
    "    \n",
    "    results_atm = {band: load_lblnew_data(param) \n",
    "                   for band, param in params_atm.items()}\n",
    "    \n",
    "    bands = [band for band, _ in params_atm.items()]\n",
    "    fluxs = [d['ds_flux_crd'] for _, d in results_atm.items()]\n",
    "    cools = [d['ds_cool_crd'] for _, d in results_atm.items()]\n",
    "    \n",
    "    d = {}\n",
    "    d['flux'] = xr.concat(fluxs, dim=bands).rename({'concat_dim': 'band'})\n",
    "    d['cool'] = xr.concat(cools, dim=bands).rename({'concat_dim': 'band'})\n",
    "    return d        \n",
    "        \n",
    "        \n",
    "\n",
    "def clirad_data_atm(params_atm):\n",
    "    \n",
    "    dirnames = [pipe_cliradlw.get_fortran_dir(param,\n",
    "                                              setup=setup_cliradlw)\n",
    "                for _, param in params_atm.items()]\n",
    "    \n",
    "    fpaths_flux = [os.path.join(n, 'output_flux.dat') for n in dirnames]\n",
    "    fpaths_cool = [os.path.join(n, 'output_coolr.dat') for n in dirnames]\n",
    "    \n",
    "    fluxs = [load_output_file(p) for p in fpaths_flux]    \n",
    "    cools = [load_output_file(p) for p in fpaths_cool]\n",
    "    \n",
    "    d = {}\n",
    "    d['flux'] = sum(fluxs)\n",
    "    d['cool'] = sum(cools)\n",
    "    return d\n",
    "\n"
   ]
  },
  {
   "cell_type": "code",
   "execution_count": 78,
   "metadata": {
    "collapsed": true
   },
   "outputs": [],
   "source": [
    "\n",
    "\n",
    "import rtmtools.clirad.sw.wrangle as cliradwrangle\n",
    "\n",
    "import importlib\n",
    "importlib.reload(cliradwrangle)\n",
    "\n",
    "def oldclirad_data_atm():\n",
    "    '''\n",
    "    Load the OLD clirad's results. mls only.\n",
    "    '''\n",
    "    fpath = os.path.join('/chia_cluster/home/jackyu/radiation',\n",
    "                         'clirad-lw',\n",
    "                         'LW',\n",
    "                         'examples',\n",
    "                         'mls75_h2o_atmpro_co2_.0004_o3_atmpro_n2o_3.2e-7_ch4_1.8e-6_H2012',\n",
    "                         'OUTPUT_CLIRAD.dat')\n",
    "    \n",
    "    ds = cliradwrangle.load_OUTPUT_CLIRAD(readfrom=fpath)\n",
    "    \n",
    "    ds_cool = xr.Dataset()\n",
    "    ds_cool.coords['pressure'] = ('pressure', ds['layer_pressure'])\n",
    "    ds_cool.coords['band'] = ('band', ds['spectral_band'])\n",
    "    ds_cool['coolrg'] = (('band', 'pressure'), - ds['heating_rate'])\n",
    "    \n",
    "    ds_flux = xr.Dataset()\n",
    "    ds_flux.coords['pressure'] = ('pressure', ds['level_pressure'])\n",
    "    ds_flux.coords['band'] = ('band', ds['spectral_band'])\n",
    "    ds_flux['flug'] = (('band', 'pressure'), ds['flux_up'])\n",
    "    ds_flux['fldg'] = (('band', 'pressure'), ds['flux_down'])\n",
    "    ds_flux['fnetg'] = (('band', 'pressure'), ds['net_flux'])\n",
    "    \n",
    "    \n",
    "    d = {}\n",
    "    d['cool'] = ds_cool\n",
    "    d['flux'] = ds_flux\n",
    "    return d\n"
   ]
  },
  {
   "cell_type": "code",
   "execution_count": 79,
   "metadata": {
    "collapsed": true
   },
   "outputs": [],
   "source": [
    "def fmt_cool(ds_in):\n",
    "    ds = ds_in.copy(deep=True)\n",
    "    if 'igg' in ds.dims:\n",
    "        ds = ds.sel(igg=1)\n",
    "\n",
    "    if 'g' in ds.dims:\n",
    "        ds = ds.sum('g')\n",
    "            \n",
    "    if 'band' in ds.dims:\n",
    "        try:\n",
    "            ds = ds.squeeze('band')\n",
    "        except ValueError:\n",
    "            ds = ds.sum('band')\n",
    "                \n",
    "    return ds['coolrg']\n",
    "\n",
    "\n",
    "\n",
    "def nice_xlims(pltdata=None, prange=None):\n",
    "    \n",
    "    def get_slice(srs):\n",
    "        return srs.sel(pressure=slice(*prange))\n",
    "    \n",
    "    srss = [d['srs'] for d in pltdata]\n",
    "    vmin = min([get_slice(srs).min() for srs in srss])\n",
    "    vmax = max([get_slice(srs).max() for srs in srss])\n",
    "    dv = (vmax - vmin) * .01\n",
    "    return float(vmin - dv), float(vmax + dv)\n",
    "\n",
    "\n",
    "    \n",
    "def plt_cool_bokeh(pltdata=None, \n",
    "                   y_axis_type='linear', prange=(50, 1050)):\n",
    "    \n",
    "    ymin = 1e-2 \n",
    "    ymax = 1020\n",
    "    \n",
    "    p2 = figure(y_axis_type=y_axis_type, plot_width=300)\n",
    "    xmin, xmax = nice_xlims(pltdata, prange=prange)\n",
    "    \n",
    "    rs = []\n",
    "    for d in pltdata:\n",
    "        rd = []\n",
    "        if 'marker' in d:\n",
    "            r_mark = getattr(p2, d['marker'])(d['srs'].values, \n",
    "                        d['srs'].coords['pressure'].values,\n",
    "                        color=d['color'], alpha=.7)\n",
    "            rd.append(r_mark)\n",
    "        r_line = p2.line(d['srs'].values, \n",
    "                         d['srs'].coords['pressure'].values,\n",
    "                         color=d['color'], alpha=d['alpha'], \n",
    "                         line_width=d['line_width'], \n",
    "                         line_dash=d['line_dash'])\n",
    "        rd.append(r_line)\n",
    "      \n",
    "        rs.append(rd)\n",
    "        \n",
    "    p2.y_range = Range1d(ymax, ymin)  \n",
    "    p2.yaxis.axis_label = 'pressure [mb]'\n",
    "    \n",
    "    p2.x_range = Range1d(xmin, xmax)\n",
    "    p2.xaxis.axis_label = 'cooling rate [K/day]'\n",
    "    \n",
    "    items = [(d['label'], r) for r, d in zip(rs, pltdata)]\n",
    "    legend = Legend(items=items, location=(10, 0))\n",
    "    legend.label_text_font_size = '8pt'\n",
    "    p2.add_layout(legend, 'above')\n",
    "    p2.legend.orientation = 'horizontal'\n",
    "    p2.legend.location = 'top_center'\n",
    "    \n",
    "    return p2"
   ]
  },
  {
   "cell_type": "code",
   "execution_count": 80,
   "metadata": {
    "collapsed": true
   },
   "outputs": [],
   "source": [
    "def pltdata_cool(atmpro='mls'):\n",
    "    \n",
    "    d_clirad_singlerun = clirad_data_atm(\n",
    "        clirad_params_atm_singlerun(atmpro=atmpro))\n",
    "    d_clirad = clirad_data_atm(clirad_params_atm(atmpro=atmpro))\n",
    "    d_crd = crd_data_atm(lblnew_params_atm(atmpro=atmpro))\n",
    "\n",
    "    ds_clirad_singlerun = d_clirad_singlerun['cool']\n",
    "    ds_clirad = d_clirad['cool']\n",
    "    ds_crd = d_crd['cool']\n",
    "\n",
    "    colors = all_palettes['Set1'][4]\n",
    "    \n",
    "    data = [\n",
    "        {'label': 'CLIRAD (single-run)',\n",
    "        'srs': fmt_cool(ds_clirad_singlerun),\n",
    "        'line_dash': 'dashed', 'line_width': 5,\n",
    "        'color': colors[1], 'alpha': .6},\n",
    "        {'label': 'CRD',\n",
    "         'srs': fmt_cool(ds_crd),\n",
    "         'line_dash': 'solid', 'line_width': 1.5,\n",
    "         'marker': 'circle', 'marker_size': 5,\n",
    "         'color': colors[2], 'alpha': 1}\n",
    "    ]\n",
    "#        {'label': 'CLIRAD',\n",
    "#         'srs': fmt_cool(ds_clirad),\n",
    "#         'line_dash': 'dashed', 'line_width': 5,\n",
    "#         'color': colors[0], 'alpha': .6}\n",
    "        \n",
    "\n",
    "    \n",
    "    # include old CLIRAD's results for mls profile\n",
    "    if atmpro == 'mls':\n",
    "        d_oldclirad = oldclirad_data_atm()\n",
    "        ds_oldclirad = d_oldclirad['cool']        \n",
    "        data.append(\n",
    "            {'label': 'old CLIRAD (H2012)',\n",
    "             'srs': fmt_cool(ds_oldclirad),\n",
    "             'line_dash': 'solid', 'line_width': 1.5,\n",
    "             'marker': 'square', 'marker_size': 3,\n",
    "             'color': colors[3], 'alpha': .5})\n",
    "    return data\n",
    "\n",
    "\n",
    "def pltdata_cooldiff(atmpro='mls'):\n",
    "    \n",
    "    d_clirad_singlerun = clirad_data_atm(\n",
    "        clirad_params_atm_singlerun(atmpro=atmpro))\n",
    "    d_clirad = clirad_data_atm(clirad_params_atm(atmpro=atmpro))\n",
    "    d_crd = crd_data_atm(lblnew_params_atm(atmpro=atmpro))\n",
    "    \n",
    "    ds_clirad_singlerun = d_clirad_singlerun['cool']\n",
    "    ds_clirad = d_clirad['cool']\n",
    "    ds_crd = d_crd['cool']\n",
    "    \n",
    "    ds_diff = ds_clirad_singlerun - ds_crd\n",
    "    \n",
    "    colors = all_palettes['Set1'][4]\n",
    "    \n",
    "    data = [\n",
    "        {'label': 'CLIRAD (single-run) - CRD',\n",
    "         'srs': fmt_cool(ds_diff),\n",
    "         'line_dash': 'solid', 'line_width': 1.5, \n",
    "         'marker': 'circle', 'marker_size': 7,\n",
    "         'color': colors[3], 'alpha': .8}\n",
    "    ]\n",
    "    \n",
    "    # include old CLIRAD's results for mls profile\n",
    "    if atmpro == 'mls':\n",
    "        d_oldclirad = oldclirad_data_atm()\n",
    "        ds_oldclirad = d_oldclirad['cool']\n",
    "        ds_oldclirad.coords['pressure'] = ds_crd.coords['pressure']\n",
    "        ds_diff_old = ds_oldclirad.sum('band') - ds_crd.sum('band')\n",
    "        data.append(\n",
    "            {'label': 'old CLIRAD (H2012) - CRD',\n",
    "             'srs': fmt_cool(ds_diff_old),\n",
    "             'line_dash': 'dashed', 'line_width': 4,\n",
    "             'color': colors[1], 'alpha': .5}\n",
    "        )\n",
    "    return data\n",
    "\n",
    "\n",
    "def show_cool(atmpro='mls'):\n",
    "    \n",
    "    data_cool = pltdata_cool(atmpro=atmpro)\n",
    "    p_cool_liny = plt_cool_bokeh(pltdata=data_cool)\n",
    "    p_cool_logy = plt_cool_bokeh(pltdata=data_cool, \n",
    "                                 y_axis_type='log',\n",
    "                                 prange=(.01, 200))\n",
    "    \n",
    "    data_cooldiff = pltdata_cooldiff(atmpro=atmpro)\n",
    "    p_cooldiff_logy = plt_cool_bokeh(pltdata=data_cooldiff,\n",
    "                                     y_axis_type='log',\n",
    "                                     prange=(.01, 200))\n",
    "    \n",
    "    everything = gridplot(p_cool_liny, p_cool_logy, \n",
    "                          p_cooldiff_logy,\n",
    "                          ncols=3)\n",
    "    show(everything)\n",
    "    display.display(\n",
    "        display.Markdown('*FIGURE.* Cooling rates & difference.'))\n",
    "\n",
    "\n",
    "    "
   ]
  },
  {
   "cell_type": "code",
   "execution_count": null,
   "metadata": {
    "collapsed": true
   },
   "outputs": [],
   "source": []
  },
  {
   "cell_type": "code",
   "execution_count": 81,
   "metadata": {
    "collapsed": true,
    "scrolled": false
   },
   "outputs": [],
   "source": [
    "\n",
    "\n",
    "def hist_band_vs_flux(da, title='Title'):\n",
    "       \n",
    "    bands = [str(b.values) for b in da['band']]\n",
    "\n",
    "    source = ColumnDataSource(\n",
    "        data={'band': bands, 'flux': da.values})\n",
    "\n",
    "    p = figure(x_range=bands, title=title)\n",
    "    p.vbar(source=source, x='band', top='flux', width=.9)\n",
    "\n",
    "    p.yaxis.axis_label = 'flux (W m-2)'\n",
    "    p.xaxis.axis_label = 'spectral band'\n",
    "    \n",
    "    return p\n",
    "\n",
    "\n",
    "def show_hist_flux(atmpro='mls'):\n",
    "    ds_crd = crd_data_atm(lblnew_params_atm(atmpro=atmpro))['flux']\n",
    "    ds_clirad = clirad_data_atm(\n",
    "        clirad_params_atm(atmpro=atmpro))['flux']\n",
    "    ds_clirad_singlerun = clirad_data_atm(\n",
    "        clirad_params_atm_singlerun(atmpro=atmpro))['flux']\n",
    "    \n",
    "    ip, varname = 0, 'flug'\n",
    "    da = (ds_clirad_singlerun - ds_crd).isel(pressure=ip)[varname]\n",
    "    p_toa = hist_band_vs_flux(da, \n",
    "        title='TOA flux. CLIRAD (single-run) - CRD.')\n",
    "\n",
    "    ip, varname = -1, 'fldg'\n",
    "    da = (ds_clirad_singlerun - ds_crd).isel(pressure=ip)[varname]\n",
    "    p_sfc = hist_band_vs_flux(da, \n",
    "        title='SFC flux. CLIRAD (single-run) - CRD.')    \n",
    "    \n",
    "    atm_crd = (ds_crd.isel(pressure=0) \n",
    "               - ds_crd.isel(pressure=-1))['fnetg']\n",
    "    atm_clirad_singlerun = (ds_clirad_singlerun.isel(pressure=0) \n",
    "                  - ds_clirad_singlerun.isel(pressure=-1))['fnetg']\n",
    "    da = atm_clirad_singlerun - atm_crd\n",
    "    p_atm = hist_band_vs_flux(da, \n",
    "        title='Atmosphere heating. CLIRAD (single-run) - CRD.')\n",
    "\n",
    "    everything = gridplot(p_toa, p_sfc, p_atm, ncols=3, \n",
    "                          plot_width=300, plot_height=300)\n",
    "    \n",
    "    show(everything)\n",
    "    display.display(\n",
    "        display.Markdown('*FIGURE.* Difference between CLIRAD and CRD'\n",
    "          ' in TOA, SFC and net atmosphere flux,'\n",
    "          ' in each spectral band.'))\n",
    "\n",
    "\n",
    "    \n",
    "def show_tb_flux(atmpro='mls'):\n",
    "    ds_crd = crd_data_atm(lblnew_params_atm(atmpro=atmpro))['flux']\n",
    "    olr_crd = ds_crd['flug'].isel(pressure=0)\n",
    "    sfc_crd = ds_crd['fldg'].isel(pressure=-1)\n",
    "    atm_crd = (ds_crd.isel(pressure=0)\n",
    "               - ds_crd.isel(pressure=-1))['fnetg']\n",
    "    \n",
    "    ds_clirad = clirad_data_atm(\n",
    "        clirad_params_atm(atmpro=atmpro))['flux']\n",
    "    olr_clirad = ds_clirad['flug'].isel(pressure=0)\n",
    "    sfc_clirad = ds_clirad['fldg'].isel(pressure=-1)\n",
    "    atm_clirad = (ds_clirad.isel(pressure=0)\n",
    "                  - ds_clirad.isel(pressure=-1))['fnetg']\n",
    "\n",
    "    ds_clirad_singlerun = clirad_data_atm(\n",
    "        clirad_params_atm_singlerun(atmpro=atmpro))['flux']\n",
    "    olr_clirad_singlerun = ds_clirad_singlerun['flug'].isel(pressure=0)\n",
    "    sfc_clirad_singlerun = ds_clirad_singlerun['fldg'].isel(pressure=-1)\n",
    "    atm_clirad_singlerun = (ds_clirad_singlerun.isel(pressure=0)\n",
    "                  - ds_clirad_singlerun.isel(pressure=-1))['fnetg']\n",
    "    \n",
    "    if atmpro == 'mls':\n",
    "        ds_oldclirad = oldclirad_data_atm()['flux']\n",
    "        ds_oldclirad['pressure'] = ds_crd['pressure']\n",
    "        olr_oldclirad = ds_oldclirad['flug'].isel(pressure=0)\n",
    "        sfc_oldclirad = ds_oldclirad['fldg'].isel(pressure=-1)\n",
    "        atm_oldclirad = (ds_oldclirad.isel(pressure=0)\n",
    "                         - ds_oldclirad.isel(pressure=-1))['fnetg']\n",
    "        \n",
    "    \n",
    "    \n",
    "    df = pd.DataFrame()\n",
    "    df.index.name = 'Sum over bands'\n",
    "    \n",
    "    if atmpro == 'mls':\n",
    "        df.loc['old CLIRAD - CRD', 'OLR flux'] = (olr_oldclirad.sum('band') - olr_crd.sum('band')).values\n",
    "        df.loc['old CLIRAD - CRD', 'SFC flux'] = (sfc_oldclirad.sum('band') - sfc_crd.sum('band')).values\n",
    "        df.loc['old CLIRAD - CRD', 'ATM heating'] = (atm_oldclirad.sum('band') - atm_crd.sum('band')).values\n",
    "    \n",
    "    df.loc['CLIRAD (single-run) - CRD', 'OLR flux'] = (olr_clirad_singlerun - olr_crd).sum('band').values\n",
    "    df.loc['CLIRAD (single-run) - CRD', 'SFC flux'] = (sfc_clirad_singlerun - sfc_crd).sum('band').values\n",
    "    df.loc['CLIRAD (single-run) - CRD', 'ATM heating'] = (atm_clirad_singlerun - atm_crd).sum('band').values\n",
    "\n",
    "    df.loc['CRD', 'OLR flux'] = olr_crd.sum('band').values\n",
    "    df.loc['CRD', 'SFC flux'] = sfc_crd.sum('band').values\n",
    "    df.loc['CRD', 'ATM heating'] = atm_crd.sum('band').values\n",
    "        \n",
    "    df = df.astype('float').round(2)\n",
    "    \n",
    "    display.display(df)\n",
    "    display.display(\n",
    "        display.Markdown('*TABLE.* Difference between CLIRAD and CRD'\n",
    "          ' in TOA, SFC and net atmosphere flux,'\n",
    "          ' over all spectral bands. CRD\\'s'\n",
    "          ' TOA, SFC and net atmosphere flux,'\n",
    "          ' over all spectral bands.'))\n"
   ]
  },
  {
   "cell_type": "code",
   "execution_count": 82,
   "metadata": {
    "scrolled": false
   },
   "outputs": [
    {
     "data": {
      "text/markdown": [
       "## Results over entire range of molecules and spectral bands"
      ],
      "text/plain": [
       "<IPython.core.display.Markdown object>"
      ]
     },
     "metadata": {},
     "output_type": "display_data"
    },
    {
     "data": {
      "text/markdown": [
       "### Table of Contents"
      ],
      "text/plain": [
       "<IPython.core.display.Markdown object>"
      ]
     },
     "metadata": {},
     "output_type": "display_data"
    },
    {
     "data": {
      "text/html": [
       "<a href=\"#Makeup_of_atmosphere.\">Makeup of atmosphere.</a>"
      ],
      "text/plain": [
       "<IPython.core.display.HTML object>"
      ]
     },
     "metadata": {},
     "output_type": "display_data"
    },
    {
     "data": {
      "text/markdown": [
       "**mid-latitude summer**"
      ],
      "text/plain": [
       "<IPython.core.display.Markdown object>"
      ]
     },
     "metadata": {},
     "output_type": "display_data"
    },
    {
     "data": {
      "text/html": [
       "<a href=\"#Cooling_rates._mls.\">Cooling rates. mls.</a>"
      ],
      "text/plain": [
       "<IPython.core.display.HTML object>"
      ]
     },
     "metadata": {},
     "output_type": "display_data"
    },
    {
     "data": {
      "text/html": [
       "<a href=\"#Fluxes._mls.\">Fluxes. mls.</a>"
      ],
      "text/plain": [
       "<IPython.core.display.HTML object>"
      ]
     },
     "metadata": {},
     "output_type": "display_data"
    },
    {
     "data": {
      "text/markdown": [
       "**sub-arctic winter**"
      ],
      "text/plain": [
       "<IPython.core.display.Markdown object>"
      ]
     },
     "metadata": {},
     "output_type": "display_data"
    },
    {
     "data": {
      "text/html": [
       "<a href=\"#Cooling_rates._saw.\">Cooling rates. saw.</a>"
      ],
      "text/plain": [
       "<IPython.core.display.HTML object>"
      ]
     },
     "metadata": {},
     "output_type": "display_data"
    },
    {
     "data": {
      "text/html": [
       "<a href=\"#Fluxes._saw.\">Fluxes. saw.</a>"
      ],
      "text/plain": [
       "<IPython.core.display.HTML object>"
      ]
     },
     "metadata": {},
     "output_type": "display_data"
    },
    {
     "data": {
      "text/markdown": [
       "**tropical**"
      ],
      "text/plain": [
       "<IPython.core.display.Markdown object>"
      ]
     },
     "metadata": {},
     "output_type": "display_data"
    },
    {
     "data": {
      "text/html": [
       "<a href=\"#Cooling_rates._trp.\">Cooling rates. trp.</a>"
      ],
      "text/plain": [
       "<IPython.core.display.HTML object>"
      ]
     },
     "metadata": {},
     "output_type": "display_data"
    },
    {
     "data": {
      "text/html": [
       "<a href=\"#Fluxes._trp.\">Fluxes. trp.</a>"
      ],
      "text/plain": [
       "<IPython.core.display.HTML object>"
      ]
     },
     "metadata": {},
     "output_type": "display_data"
    },
    {
     "data": {
      "text/html": [
       "<a id=\"Makeup_of_atmosphere.\"></a>"
      ],
      "text/plain": [
       "<IPython.core.display.HTML object>"
      ]
     },
     "metadata": {},
     "output_type": "display_data"
    },
    {
     "data": {
      "text/markdown": [
       "# Makeup of atmosphere."
      ],
      "text/plain": [
       "<IPython.core.display.Markdown object>"
      ]
     },
     "metadata": {},
     "output_type": "display_data"
    },
    {
     "data": {
      "text/html": [
       "<div>\n",
       "<style scoped>\n",
       "    .dataframe tbody tr th:only-of-type {\n",
       "        vertical-align: middle;\n",
       "    }\n",
       "\n",
       "    .dataframe tbody tr th {\n",
       "        vertical-align: top;\n",
       "    }\n",
       "\n",
       "    .dataframe thead th {\n",
       "        text-align: right;\n",
       "    }\n",
       "</style>\n",
       "<table border=\"1\" class=\"dataframe\">\n",
       "  <thead>\n",
       "    <tr style=\"text-align: right;\">\n",
       "      <th>clirad band</th>\n",
       "      <th>1</th>\n",
       "      <th>2</th>\n",
       "      <th>3</th>\n",
       "      <th>4</th>\n",
       "      <th>5</th>\n",
       "      <th>6</th>\n",
       "      <th>7</th>\n",
       "      <th>8</th>\n",
       "      <th>9</th>\n",
       "      <th>10</th>\n",
       "      <th>11</th>\n",
       "    </tr>\n",
       "    <tr>\n",
       "      <th>molecule</th>\n",
       "      <th></th>\n",
       "      <th></th>\n",
       "      <th></th>\n",
       "      <th></th>\n",
       "      <th></th>\n",
       "      <th></th>\n",
       "      <th></th>\n",
       "      <th></th>\n",
       "      <th></th>\n",
       "      <th></th>\n",
       "      <th></th>\n",
       "    </tr>\n",
       "  </thead>\n",
       "  <tbody>\n",
       "    <tr>\n",
       "      <th>h2o</th>\n",
       "      <td>atmpro</td>\n",
       "      <td>atmpro</td>\n",
       "      <td>atmpro</td>\n",
       "      <td>atmpro</td>\n",
       "      <td>atmpro</td>\n",
       "      <td>atmpro</td>\n",
       "      <td>atmpro</td>\n",
       "      <td>atmpro</td>\n",
       "      <td>atmpro</td>\n",
       "      <td>atmpro</td>\n",
       "      <td>atmpro</td>\n",
       "    </tr>\n",
       "    <tr>\n",
       "      <th>co2</th>\n",
       "      <td>0</td>\n",
       "      <td>0</td>\n",
       "      <td>0.0004</td>\n",
       "      <td>0.0004</td>\n",
       "      <td>0.0004</td>\n",
       "      <td>0.0004</td>\n",
       "      <td>0.0004</td>\n",
       "      <td>0</td>\n",
       "      <td>0</td>\n",
       "      <td>0</td>\n",
       "      <td>0.0004</td>\n",
       "    </tr>\n",
       "    <tr>\n",
       "      <th>n2o</th>\n",
       "      <td>0</td>\n",
       "      <td>0</td>\n",
       "      <td>3.2e-07</td>\n",
       "      <td>0</td>\n",
       "      <td>0</td>\n",
       "      <td>0</td>\n",
       "      <td>0</td>\n",
       "      <td>0</td>\n",
       "      <td>3.2e-07</td>\n",
       "      <td>0</td>\n",
       "      <td>0</td>\n",
       "    </tr>\n",
       "    <tr>\n",
       "      <th>o3</th>\n",
       "      <td>0</td>\n",
       "      <td>0</td>\n",
       "      <td>0</td>\n",
       "      <td>0</td>\n",
       "      <td>0</td>\n",
       "      <td>0</td>\n",
       "      <td>atmpro</td>\n",
       "      <td>0</td>\n",
       "      <td>0</td>\n",
       "      <td>0</td>\n",
       "      <td>0</td>\n",
       "    </tr>\n",
       "    <tr>\n",
       "      <th>ch4</th>\n",
       "      <td>0</td>\n",
       "      <td>0</td>\n",
       "      <td>0</td>\n",
       "      <td>0</td>\n",
       "      <td>0</td>\n",
       "      <td>0</td>\n",
       "      <td>0</td>\n",
       "      <td>0</td>\n",
       "      <td>1.8e-06</td>\n",
       "      <td>0</td>\n",
       "      <td>0</td>\n",
       "    </tr>\n",
       "  </tbody>\n",
       "</table>\n",
       "</div>"
      ],
      "text/plain": [
       "clirad band      1       2        3       4       5       6       7       8   \\\n",
       "molecule                                                                       \n",
       "h2o          atmpro  atmpro   atmpro  atmpro  atmpro  atmpro  atmpro  atmpro   \n",
       "co2               0       0   0.0004  0.0004  0.0004  0.0004  0.0004       0   \n",
       "n2o               0       0  3.2e-07       0       0       0       0       0   \n",
       "o3                0       0        0       0       0       0  atmpro       0   \n",
       "ch4               0       0        0       0       0       0       0       0   \n",
       "\n",
       "clirad band       9       10      11  \n",
       "molecule                              \n",
       "h2o           atmpro  atmpro  atmpro  \n",
       "co2                0       0  0.0004  \n",
       "n2o          3.2e-07       0       0  \n",
       "o3                 0       0       0  \n",
       "ch4          1.8e-06       0       0  "
      ]
     },
     "metadata": {},
     "output_type": "display_data"
    },
    {
     "data": {
      "text/markdown": [
       "*TABLE.* Non-grey absorbers in the atmosphere."
      ],
      "text/plain": [
       "<IPython.core.display.Markdown object>"
      ]
     },
     "metadata": {},
     "output_type": "display_data"
    },
    {
     "data": {
      "text/html": [
       "<a id=\"Cooling_rates._mls.\"></a>"
      ],
      "text/plain": [
       "<IPython.core.display.HTML object>"
      ]
     },
     "metadata": {},
     "output_type": "display_data"
    },
    {
     "data": {
      "text/markdown": [
       "# Cooling rates. mls."
      ],
      "text/plain": [
       "<IPython.core.display.Markdown object>"
      ]
     },
     "metadata": {},
     "output_type": "display_data"
    },
    {
     "data": {
      "text/html": [
       "\n",
       "<div class=\"bk-root\">\n",
       "    <div class=\"bk-plotdiv\" id=\"f013a089-6b80-4468-a705-cbc485846d4e\"></div>\n",
       "</div>"
      ]
     },
     "metadata": {},
     "output_type": "display_data"
    },
    {
     "data": {
      "application/javascript": [
       "(function(root) {\n",
       "  function embed_document(root) {\n",
       "    \n",
       "  var docs_json = {\"2405521c-2f1f-423a-8b71-26504bec0067\":{\"roots\":{\"references\":[{\"attributes\":{},\"id\":\"8840ecaf-a46b-402d-928f-af50974a5506\",\"type\":\"SaveTool\"},{\"attributes\":{\"ticker\":null},\"id\":\"d68b116a-7483-441a-905e-3c2a3b1c165e\",\"type\":\"LogTickFormatter\"},{\"attributes\":{},\"id\":\"8c18153a-d4c6-440b-aee5-59e96153a2c2\",\"type\":\"Selection\"},{\"attributes\":{},\"id\":\"b8db1f06-f908-44d1-8443-894f8d20ac20\",\"type\":\"Selection\"},{\"attributes\":{},\"id\":\"f34fdab3-ae5c-4643-9b07-718b7b74f399\",\"type\":\"ResetTool\"},{\"attributes\":{\"plot\":null,\"text\":\"\"},\"id\":\"d702ed68-4790-4447-a027-0968a0f1e020\",\"type\":\"Title\"},{\"attributes\":{\"line_alpha\":0.6,\"line_color\":\"#377eb8\",\"line_dash\":[6],\"line_width\":5,\"x\":{\"field\":\"x\"},\"y\":{\"field\":\"y\"}},\"id\":\"412f9337-a9da-454d-a20a-5375bc00984c\",\"type\":\"Line\"},{\"attributes\":{},\"id\":\"785e356c-63ec-4675-9f52-19f48dbdb7d7\",\"type\":\"LogScale\"},{\"attributes\":{\"axis_label\":\"pressure [mb]\",\"formatter\":{\"id\":\"d68b116a-7483-441a-905e-3c2a3b1c165e\",\"type\":\"LogTickFormatter\"},\"plot\":{\"id\":\"3fd5365f-9c63-4fdd-af1b-38eddbc03650\",\"subtype\":\"Figure\",\"type\":\"Plot\"},\"ticker\":{\"id\":\"6ff2ffe9-2a0c-4257-88d4-730c36293dd2\",\"type\":\"LogTicker\"}},\"id\":\"29fd3ae4-03e8-4662-9116-c6505bd813d1\",\"type\":\"LogAxis\"},{\"attributes\":{},\"id\":\"3b8d074c-a1a0-4eb1-aa57-8ad31045e6b9\",\"type\":\"Selection\"},{\"attributes\":{\"axis_label\":\"cooling rate [K/day]\",\"formatter\":{\"id\":\"83db513a-6658-4d96-a476-6e1e2e84f288\",\"type\":\"BasicTickFormatter\"},\"plot\":{\"id\":\"81f7bcf8-58e1-4bf2-a046-3de0eac62f17\",\"subtype\":\"Figure\",\"type\":\"Plot\"},\"ticker\":{\"id\":\"81de74be-9df6-49d4-91d2-a8c0bcacd0ab\",\"type\":\"BasicTicker\"}},\"id\":\"739c81fe-21f7-4bbb-b87c-617bc72c12d5\",\"type\":\"LinearAxis\"},{\"attributes\":{\"num_minor_ticks\":10},\"id\":\"6ff2ffe9-2a0c-4257-88d4-730c36293dd2\",\"type\":\"LogTicker\"},{\"attributes\":{\"callback\":null,\"data\":{\"x\":{\"__ndarray__\":\"fvf6414XRMC4pLau3awgwBHMuhJ1bQLAr4ujZUjF/D/jHEVXdWIOQCM/+Ogwxg5AossU0LEXBEAQ2nCvPAvlPzfnZxT0z+m/RLNMdtzj9b/kFq10G5bxv7LWhtEKWd+/VjOC8CiXrz/Dd1pNu3/ZP052BQBE794/AOTsebcG1D/GkKPaphKgP/+DfVJ009C/Z8G5/eU84L82HDMl4qXgv2w9OlAX5NG/eC3BzUrVcb8c3Mh6ZHipvyw33JuDoNO/hXtmuGYr17/Af5bWRc6wvyPOqYpSkdg/74mLVYRO1z+A/Ww5IaS3P/4s6YKYb5Y/LJ42REfF0D8XEreq73fVP0VYRaw1a8M/Y/tWGx+un78mif6PmeFePys0/Yh756w/uJs0z02ZcT8T2DTmQJqtv0XTeBwCube/MDMuw5hgur8O34xhVbi2v6wjXqPmS7G/Azu64TtLsL8Im3JHxrKfv7TZaRrRdre/qJlqS54Oub/fEsVFu06sv7u9IKj5gq+/oWlIY/Xvs78+HXgQlgyzvyUah/+Ly6u/6SWkp7qxor+7l2LasRKYv6qlreOlUpS/32lpaKfRk79AGX9xnUWYvwTjCOQeA5q/XqtQPqsukr+Eop85g3BpP/JIQb8IfaE/vSWi+1R+rT8bijRJohKvPzYr/000t6Y/OSutUPZnmD884BWu93VxP7hY6DizLGs/LDiBmG1vhz/757gG9a6gPzUhXaFM+ak/zJLcbj2bsD9uVL6fzuCyP4Pq51C0GbQ/pOQjgFfftD/pp5dbw4y1P+lnLJJdBrU/\",\"dtype\":\"float64\",\"shape\":[75]},\"y\":{\"__ndarray__\":\"GhExyth1ND/Sv8nbtpRIP2vylNV0PVE/aTum7souWD/At0SJ8fVgPw3Iuahxymc/MSNhhJWvcD/bTfBN02d3P2zb5nxnaoA/CD5h5MAGhz8NmeH1TyaQP+zrCsc9p5Y/LbKd76fGnz/bLW5ISEmmPww9YvTcQq8/JV2OstnstT8Er5Y7M8G+P0c+r3jqkcU/5h99k6ZBzj88bCIzFzjVP4enV8oyxN0//yH99nXg5D8qOpLLf0jtP5kqGJXUifQ/c9cS8kHP/D+/DpwzojQEQIEmwoanVwxA4lgXt9HgE0BSSZ2AJuIbQAMJih9jjiNA5q4l5INuK0AwTKYKRj0zQNv5fmq8/DpAaCJseHrtQkB/+zpwzoxKQM3MzMzMeFJAZmZmZmZqWEAAAAAAAFxeQM3MzMzMJmJAmpmZmZkfZUBmZmZmZhhoQDMzMzMzEWtAAAAAAAAKbkBmZmZmZoFwQM3MzMzM/XFAMzMzMzN6c0CamZmZmfZ0QAAAAAAAc3ZAZmZmZmbvd0DNzMzMzGt5QDMzMzMz6HpAmpmZmZlkfEAAAAAAAOF9QGZmZmZmXX9AZmZmZuZsgECamZmZGSuBQM3MzMxM6YFAAAAAAICngkAzMzMzs2WDQGZmZmbmI4RAmpmZmRnihEDNzMzMTKCFQAAAAACAXoZAMzMzM7Mch0BmZmZm5tqHQJqZmZkZmYhAzczMzExXiUAAAAAAgBWKQDMzMzOz04pAZmZmZuaRi0CamZmZGVCMQM3MzMxMDo1AAAAAAIDMjUAzMzMzs4qOQGZmZmbmSI9A\",\"dtype\":\"float64\",\"shape\":[75]}},\"selected\":{\"id\":\"3b8d074c-a1a0-4eb1-aa57-8ad31045e6b9\",\"type\":\"Selection\"},\"selection_policy\":{\"id\":\"b9f44c86-d5d6-4288-8817-ed378c43142f\",\"type\":\"UnionRenderers\"}},\"id\":\"0a62b347-dcd1-48c3-b7da-c583d4ab8465\",\"type\":\"ColumnDataSource\"},{\"attributes\":{\"callback\":null,\"end\":0.01,\"start\":1020},\"id\":\"b51ddd4f-fad2-43b3-a060-b80a3efe8665\",\"type\":\"Range1d\"},{\"attributes\":{\"fill_alpha\":{\"value\":0.7},\"fill_color\":{\"value\":\"#984ea3\"},\"line_alpha\":{\"value\":0.7},\"line_color\":{\"value\":\"#984ea3\"},\"x\":{\"field\":\"x\"},\"y\":{\"field\":\"y\"}},\"id\":\"ec1f75e1-7abf-44dd-bb90-a299d5b2b751\",\"type\":\"Circle\"},{\"attributes\":{\"toolbar\":{\"id\":\"efc13333-d8ba-40d7-a074-f41b9de52ac9\",\"type\":\"ProxyToolbar\"},\"toolbar_location\":\"above\"},\"id\":\"932763e2-0f57-45a5-9050-18458ebffa3a\",\"type\":\"ToolbarBox\"},{\"attributes\":{},\"id\":\"81de74be-9df6-49d4-91d2-a8c0bcacd0ab\",\"type\":\"BasicTicker\"},{\"attributes\":{},\"id\":\"6a79414b-b024-4ca6-83d4-92e6a58abf89\",\"type\":\"BasicTickFormatter\"},{\"attributes\":{},\"id\":\"0c0ca8f4-6f48-4a71-975f-3ea6e239750d\",\"type\":\"UnionRenderers\"},{\"attributes\":{},\"id\":\"b9f44c86-d5d6-4288-8817-ed378c43142f\",\"type\":\"UnionRenderers\"},{\"attributes\":{\"line_alpha\":0.1,\"line_color\":\"#1f77b4\",\"line_dash\":[6],\"line_width\":5,\"x\":{\"field\":\"x\"},\"y\":{\"field\":\"y\"}},\"id\":\"22a7dcc6-ac8d-4a02-8772-213539ae7340\",\"type\":\"Line\"},{\"attributes\":{\"tools\":[{\"id\":\"6d09f251-9d55-401e-a81d-a3650d96fa2d\",\"type\":\"PanTool\"},{\"id\":\"7a028c99-af12-4c51-9c82-9e451cd82f13\",\"type\":\"WheelZoomTool\"},{\"id\":\"25a91bc9-1a19-4b8c-928d-6c11c70b8cd6\",\"type\":\"BoxZoomTool\"},{\"id\":\"8840ecaf-a46b-402d-928f-af50974a5506\",\"type\":\"SaveTool\"},{\"id\":\"f34fdab3-ae5c-4643-9b07-718b7b74f399\",\"type\":\"ResetTool\"},{\"id\":\"2852d0f9-7b3d-4555-b215-9dfda5b7b546\",\"type\":\"HelpTool\"},{\"id\":\"cf32dc69-6977-4175-8e33-57f5996da591\",\"type\":\"PanTool\"},{\"id\":\"97664722-fc7e-42ca-b3ce-0075c42ea433\",\"type\":\"WheelZoomTool\"},{\"id\":\"7c1d5932-8153-47bb-a0e7-e3f1d3255531\",\"type\":\"BoxZoomTool\"},{\"id\":\"32263048-f728-407b-8e39-c64278d3233a\",\"type\":\"SaveTool\"},{\"id\":\"8a0f53c1-6450-4847-8f96-14ab2f447c00\",\"type\":\"ResetTool\"},{\"id\":\"20307c1f-8022-48d9-9e48-0ff30b25285f\",\"type\":\"HelpTool\"},{\"id\":\"34ecfc5b-af19-4fb1-b635-f430764d4d84\",\"type\":\"PanTool\"},{\"id\":\"7b28318b-76cb-47bf-a957-fe5c948adc6b\",\"type\":\"WheelZoomTool\"},{\"id\":\"b69dfb00-e921-47db-97e0-9d367bf83281\",\"type\":\"BoxZoomTool\"},{\"id\":\"2f22e6ea-5cb1-4cbd-bd72-d4f8abb2c45a\",\"type\":\"SaveTool\"},{\"id\":\"800e7e15-d509-49b7-a1ff-2b6f9b19cd8c\",\"type\":\"ResetTool\"},{\"id\":\"6f89affd-496e-44c8-b49c-2c0c5d6c7b27\",\"type\":\"HelpTool\"}]},\"id\":\"efc13333-d8ba-40d7-a074-f41b9de52ac9\",\"type\":\"ProxyToolbar\"},{\"attributes\":{\"axis_label\":\"pressure [mb]\",\"formatter\":{\"id\":\"73d17636-2cbe-42c0-9887-5bb93e3ed3f4\",\"type\":\"LogTickFormatter\"},\"plot\":{\"id\":\"81f7bcf8-58e1-4bf2-a046-3de0eac62f17\",\"subtype\":\"Figure\",\"type\":\"Plot\"},\"ticker\":{\"id\":\"7d2fc3a8-8708-4bec-8d3f-40ae53cdc15e\",\"type\":\"LogTicker\"}},\"id\":\"d8da598f-9035-43b5-82d8-6ad991a25bf0\",\"type\":\"LogAxis\"},{\"attributes\":{\"callback\":null,\"data\":{\"x\":{\"__ndarray__\":\"Y+PdtCnYRUCVIUt9eRdDQCDcvOcb40FAtB64bpU+QEAa0lfCaT88QDAGYhtpPDdAawzByMfoMUA54/i8AuQpQNvnGuUeGSJAf/Ck/NkwGkBr0flmX9oUQCut3FY1sxFA95vA3D1GDUBGFFNlOI8DQOqOWi3k6PU/caYYT5yC+j8yswV7iS0FQAbg3afQCgtAljDRY0bfEEADWk8a/BYWQGf1ApxZ/h1AOFTgSvrVJEBS8DzMsc0qQCKyFSJK/SlASvTzfdZPJEBnCDlWSUggQBF555iAZBtATpKZemMFFkBS2YzKrScRQOZSxE743QtAUlw3oAMFCEDOs3fdUscCQLgtWydr+/k/Haydza468T+xXBV1HWPnP9CaRf3stts/muJ1LuGozD/Hnu1Itba/Py2FYfM6saS/Dw3LI1/Qyb/2SqH5em2KvysQOrojquc/jP6bkaRz9z/bZqlDDhIAQKKOLoKEkwFAdIhDLB4DAEDC6e5gbT3+PzOUZgk7Hf0/Esal+SRn/D/o53DmfDn8P94DLYpCVvw/fcU7PFvu+z/IC02VVHT7P7r4pjcXCvs/4i+0kafA+j9OO2pAzIv6P0PURDHOivo/GBX/m8Gh+z9xM74qdYP8P/kbNI5tBv0/MRm1HBsG/T9Q9ugnAmf8P8tkh5uEUPs/Vdlg8pkg+j+8vAr/mgr5P4wsRD/GePg/rDilIYJI+D9cYbWK4kP4P/2XDhdlwPc/rW+MFyWx9j+oeCSqLID1Px4YKVzblPQ/6QNSdgQd9D88SzZ9AlD0P4YTKbGR+vo/\",\"dtype\":\"float64\",\"shape\":[75]},\"y\":{\"__ndarray__\":\"GhExyth1ND/Sv8nbtpRIP2vylNV0PVE/aTum7souWD/At0SJ8fVgPw3Iuahxymc/MSNhhJWvcD/bTfBN02d3P2zb5nxnaoA/CD5h5MAGhz8NmeH1TyaQP+zrCsc9p5Y/LbKd76fGnz/bLW5ISEmmPww9YvTcQq8/JV2OstnstT8Er5Y7M8G+P0c+r3jqkcU/5h99k6ZBzj88bCIzFzjVP4enV8oyxN0//yH99nXg5D8qOpLLf0jtP5kqGJXUifQ/c9cS8kHP/D+/DpwzojQEQIEmwoanVwxA4lgXt9HgE0BSSZ2AJuIbQAMJih9jjiNA5q4l5INuK0AwTKYKRj0zQNv5fmq8/DpAaCJseHrtQkB/+zpwzoxKQM3MzMzMeFJAZmZmZmZqWEAAAAAAAFxeQM3MzMzMJmJAmpmZmZkfZUBmZmZmZhhoQDMzMzMzEWtAAAAAAAAKbkBmZmZmZoFwQM3MzMzM/XFAMzMzMzN6c0CamZmZmfZ0QAAAAAAAc3ZAZmZmZmbvd0DNzMzMzGt5QDMzMzMz6HpAmpmZmZlkfEAAAAAAAOF9QGZmZmZmXX9AZmZmZuZsgECamZmZGSuBQM3MzMxM6YFAAAAAAICngkAzMzMzs2WDQGZmZmbmI4RAmpmZmRnihEDNzMzMTKCFQAAAAACAXoZAMzMzM7Mch0BmZmZm5tqHQJqZmZkZmYhAzczMzExXiUAAAAAAgBWKQDMzMzOz04pAZmZmZuaRi0CamZmZGVCMQM3MzMxMDo1AAAAAAIDMjUAzMzMzs4qOQGZmZmbmSI9A\",\"dtype\":\"float64\",\"shape\":[75]}},\"selected\":{\"id\":\"397f2ae9-ef50-4922-b298-5e17d9e8bb7d\",\"type\":\"Selection\"},\"selection_policy\":{\"id\":\"73a6333f-a411-419f-a424-0ae2fbd82240\",\"type\":\"UnionRenderers\"}},\"id\":\"cbb7edb7-c9e1-4bbf-bf9d-d611f768d28f\",\"type\":\"ColumnDataSource\"},{\"attributes\":{},\"id\":\"83db513a-6658-4d96-a476-6e1e2e84f288\",\"type\":\"BasicTickFormatter\"},{\"attributes\":{},\"id\":\"a6fea644-7b91-48a1-b37b-8cd57c22c5f7\",\"type\":\"UnionRenderers\"},{\"attributes\":{\"overlay\":{\"id\":\"875078a3-8a09-45e2-b64d-d3ba0a6c3c25\",\"type\":\"BoxAnnotation\"}},\"id\":\"25a91bc9-1a19-4b8c-928d-6c11c70b8cd6\",\"type\":\"BoxZoomTool\"},{\"attributes\":{\"children\":[{\"id\":\"932763e2-0f57-45a5-9050-18458ebffa3a\",\"type\":\"ToolbarBox\"},{\"id\":\"e885feca-9597-4a15-a168-141a3c9f13e5\",\"type\":\"Column\"}]},\"id\":\"5c1cd65a-3638-4b9b-a1a0-95c5b1e417d0\",\"type\":\"Column\"},{\"attributes\":{\"label\":{\"value\":\"old CLIRAD (H2012)\"},\"renderers\":[{\"id\":\"87cfef02-2f4a-4bc4-aa66-07f5500a1ffb\",\"type\":\"GlyphRenderer\"},{\"id\":\"a68965ef-6dde-428a-b368-56029aebbbdc\",\"type\":\"GlyphRenderer\"}]},\"id\":\"457e20eb-4a60-4808-8ce0-460b44805e83\",\"type\":\"LegendItem\"},{\"attributes\":{\"ticker\":null},\"id\":\"73d17636-2cbe-42c0-9887-5bb93e3ed3f4\",\"type\":\"LogTickFormatter\"},{\"attributes\":{\"dimension\":1,\"plot\":{\"id\":\"3fd5365f-9c63-4fdd-af1b-38eddbc03650\",\"subtype\":\"Figure\",\"type\":\"Plot\"},\"ticker\":{\"id\":\"6ff2ffe9-2a0c-4257-88d4-730c36293dd2\",\"type\":\"LogTicker\"}},\"id\":\"e1358c48-5baf-4d6b-b2ec-b2a268219a7c\",\"type\":\"Grid\"},{\"attributes\":{\"dimension\":1,\"plot\":{\"id\":\"81f7bcf8-58e1-4bf2-a046-3de0eac62f17\",\"subtype\":\"Figure\",\"type\":\"Plot\"},\"ticker\":{\"id\":\"7d2fc3a8-8708-4bec-8d3f-40ae53cdc15e\",\"type\":\"LogTicker\"}},\"id\":\"7e767077-c970-4d64-8bc8-5aeb35a0d838\",\"type\":\"Grid\"},{\"attributes\":{},\"id\":\"cf3aa819-377f-41b6-9359-97d491a86e66\",\"type\":\"Selection\"},{\"attributes\":{},\"id\":\"45b38f98-54f6-4ef4-8139-e2c98cc5804e\",\"type\":\"UnionRenderers\"},{\"attributes\":{\"num_minor_ticks\":10},\"id\":\"7d2fc3a8-8708-4bec-8d3f-40ae53cdc15e\",\"type\":\"LogTicker\"},{\"attributes\":{},\"id\":\"ae526e4f-9f3b-4b41-9946-f67d33905b54\",\"type\":\"LinearScale\"},{\"attributes\":{\"data_source\":{\"id\":\"d8734b69-551e-4a1f-9a4a-d04f528b66f6\",\"type\":\"ColumnDataSource\"},\"glyph\":{\"id\":\"6491008b-c0c6-4a35-bb45-0eec2c5c93cd\",\"type\":\"Line\"},\"hover_glyph\":null,\"muted_glyph\":null,\"nonselection_glyph\":{\"id\":\"82680be7-2771-4581-a6f1-f1b7f703c813\",\"type\":\"Line\"},\"selection_glyph\":null,\"view\":{\"id\":\"70f421c2-550c-4db1-9eb2-c1e78ce095e0\",\"type\":\"CDSView\"}},\"id\":\"ec5bbcc6-a4a7-434a-b5a2-2c4418f6f5dd\",\"type\":\"GlyphRenderer\"},{\"attributes\":{\"callback\":null,\"end\":0.01,\"start\":1020},\"id\":\"417ada46-04ae-4bf0-9e24-fcca969ebf67\",\"type\":\"Range1d\"},{\"attributes\":{},\"id\":\"a23ebb0a-6615-4ba3-a0e7-0467ff8d6128\",\"type\":\"Selection\"},{\"attributes\":{},\"id\":\"14e42179-a7d4-470c-94db-1e6aab9c9ef6\",\"type\":\"Selection\"},{\"attributes\":{\"data_source\":{\"id\":\"77d3bd66-b605-49f6-8edc-ab8b4779d4ca\",\"type\":\"ColumnDataSource\"},\"glyph\":{\"id\":\"27877dce-8362-4097-938a-08ec41e51b8d\",\"type\":\"Line\"},\"hover_glyph\":null,\"muted_glyph\":null,\"nonselection_glyph\":{\"id\":\"c28931b4-87b2-4ba6-bbc2-afd0cd3f7a68\",\"type\":\"Line\"},\"selection_glyph\":null,\"view\":{\"id\":\"9caaa635-ab9e-40b4-b14e-4f3a5c53f350\",\"type\":\"CDSView\"}},\"id\":\"100322b4-8d04-4176-9348-e67a21cecbbc\",\"type\":\"GlyphRenderer\"},{\"attributes\":{\"callback\":null,\"data\":{\"x\":{\"__ndarray__\":\"cm1sTMT3VEDEyvjosEJHQOKI6DjzCUNArgQWV9awPkB9Lm8XG3M4QEz+Qv6iYzNA7eV8HaPLLkCX1QHyTpMoQFBmYSYetiNAUB04GtGpH0AmFyVE5j8ZQJca9QPGqBNALJP+OOHHDEBNxaf7QF8AQKtislomWuw/cW2dcO6A9T/uJJvfPu0EQIaQLTI/JQ1AxGiII+PmEkCJvfVeuCsYQD6ZBhGbHB9AXQw69DTYJEAsubcwKucqQNuT9D5OmipAJyi3szEJJUBlNebh5WkgQDDcPHBr2xlArtlANXuQFEBdJadFHckQQI2Avh0ZsQtAjYiwt1rsBUCL0SDoVBgAQK6C0nEEjvc/CggLSme58T9sXU2orFPnP0v0JYz9Gdg/vT38vxYczD9nBQTe6kHHP1IhkEXJwKo/8OZnhCVAub+xtVgCpmqzP6DUpY6g0+k/PKK3T1h4+D8RTDjQc1EAQG/dAQs7TwJAQt2eHpPLAEBWEh074x//PyCap9ZSGf4/rEzaTySm/T+7aXhHRmr9P688KeqeNP0/ruZ4EemD/D8olrZcn9T7P0+vNc9hW/s/i9VVL+4P+z+0NzC24uz6P8731Kza8vo/xFf4SHzq+z+gYyHpvHb8P68ROkiFevw/BAjYdCga/D8AUp8VbW77P3JrF/nKmvo/qCQeGfq++T/dplwHJfn4P2G4p+Uva/g/OzZ0RqMZ+D8dmn/iar73P/OuA7Ka8PY/gaaeQHGn9T9hkyjAH1L0P3aZGhdAU/M/n8VP/g7P8j+90HxHNvfyPwhNBtgrqvk/\",\"dtype\":\"float64\",\"shape\":[75]},\"y\":{\"__ndarray__\":\"GhExyth1ND/Sv8nbtpRIP2vylNV0PVE/aTum7souWD/At0SJ8fVgPw3Iuahxymc/MSNhhJWvcD/bTfBN02d3P2zb5nxnaoA/CD5h5MAGhz8NmeH1TyaQP+zrCsc9p5Y/LbKd76fGnz/bLW5ISEmmPww9YvTcQq8/JV2OstnstT8Er5Y7M8G+P0c+r3jqkcU/5h99k6ZBzj88bCIzFzjVP4enV8oyxN0//yH99nXg5D8qOpLLf0jtP5kqGJXUifQ/c9cS8kHP/D+/DpwzojQEQIEmwoanVwxA4lgXt9HgE0BSSZ2AJuIbQAMJih9jjiNA5q4l5INuK0AwTKYKRj0zQNv5fmq8/DpAaCJseHrtQkB/+zpwzoxKQM3MzMzMeFJAZmZmZmZqWEAAAAAAAFxeQM3MzMzMJmJAmpmZmZkfZUBmZmZmZhhoQDMzMzMzEWtAAAAAAAAKbkBmZmZmZoFwQM3MzMzM/XFAMzMzMzN6c0CamZmZmfZ0QAAAAAAAc3ZAZmZmZmbvd0DNzMzMzGt5QDMzMzMz6HpAmpmZmZlkfEAAAAAAAOF9QGZmZmZmXX9AZmZmZuZsgECamZmZGSuBQM3MzMxM6YFAAAAAAICngkAzMzMzs2WDQGZmZmbmI4RAmpmZmRnihEDNzMzMTKCFQAAAAACAXoZAMzMzM7Mch0BmZmZm5tqHQJqZmZkZmYhAzczMzExXiUAAAAAAgBWKQDMzMzOz04pAZmZmZuaRi0CamZmZGVCMQM3MzMxMDo1AAAAAAIDMjUAzMzMzs4qOQGZmZmbmSI9A\",\"dtype\":\"float64\",\"shape\":[75]}},\"selected\":{\"id\":\"96004de0-0404-4129-a64b-6d2b73ac552d\",\"type\":\"Selection\"},\"selection_policy\":{\"id\":\"d70c447e-1497-4254-b1b9-24cbe61aca73\",\"type\":\"UnionRenderers\"}},\"id\":\"edc01ca9-e42a-4edd-9b1f-c28c54e73f16\",\"type\":\"ColumnDataSource\"},{\"attributes\":{\"line_alpha\":0.6,\"line_color\":\"#377eb8\",\"line_dash\":[6],\"line_width\":5,\"x\":{\"field\":\"x\"},\"y\":{\"field\":\"y\"}},\"id\":\"27877dce-8362-4097-938a-08ec41e51b8d\",\"type\":\"Line\"},{\"attributes\":{},\"id\":\"84fe6cd0-6b78-4b5d-ae3a-cdafe0900d28\",\"type\":\"UnionRenderers\"},{\"attributes\":{\"items\":[{\"id\":\"fe7442f2-fdd3-4452-b28b-f6ab08742359\",\"type\":\"LegendItem\"},{\"id\":\"df06af8d-7ffb-44f2-a22a-4b43da77d7b7\",\"type\":\"LegendItem\"},{\"id\":\"457e20eb-4a60-4808-8ce0-460b44805e83\",\"type\":\"LegendItem\"}],\"label_text_font_size\":{\"value\":\"8pt\"},\"location\":\"top_center\",\"orientation\":\"horizontal\",\"plot\":{\"id\":\"a883d9df-5f94-4959-a638-e10547df6891\",\"subtype\":\"Figure\",\"type\":\"Plot\"}},\"id\":\"da6ecca4-b279-4918-afb4-572ceb88d17f\",\"type\":\"Legend\"},{\"attributes\":{\"source\":{\"id\":\"d8734b69-551e-4a1f-9a4a-d04f528b66f6\",\"type\":\"ColumnDataSource\"}},\"id\":\"70f421c2-550c-4db1-9eb2-c1e78ce095e0\",\"type\":\"CDSView\"},{\"attributes\":{\"line_alpha\":0.5,\"line_color\":\"#984ea3\",\"line_width\":1.5,\"x\":{\"field\":\"x\"},\"y\":{\"field\":\"y\"}},\"id\":\"751a6654-ac4f-4d3c-9642-c6323fd72c95\",\"type\":\"Line\"},{\"attributes\":{},\"id\":\"73a6333f-a411-419f-a424-0ae2fbd82240\",\"type\":\"UnionRenderers\"},{\"attributes\":{\"plot\":null,\"text\":\"\"},\"id\":\"c2727e94-c5c7-4ed2-9802-7ad1e6f7eeeb\",\"type\":\"Title\"},{\"attributes\":{\"data_source\":{\"id\":\"f554211d-c0a2-4b5b-a9d7-c44a8a995d0b\",\"type\":\"ColumnDataSource\"},\"glyph\":{\"id\":\"9619c32b-3dc5-42e8-ac17-ee74f408419b\",\"type\":\"Square\"},\"hover_glyph\":null,\"muted_glyph\":null,\"nonselection_glyph\":{\"id\":\"36eaf88a-b39e-4986-83c2-db03094dedb1\",\"type\":\"Square\"},\"selection_glyph\":null,\"view\":{\"id\":\"86afdb71-2373-482f-88f7-20912aa3236e\",\"type\":\"CDSView\"}},\"id\":\"87cfef02-2f4a-4bc4-aa66-07f5500a1ffb\",\"type\":\"GlyphRenderer\"},{\"attributes\":{},\"id\":\"4604fd1d-5089-49d7-9023-5b5399ea4036\",\"type\":\"Selection\"},{\"attributes\":{\"fill_alpha\":{\"value\":0.7},\"fill_color\":{\"value\":\"#4daf4a\"},\"line_alpha\":{\"value\":0.7},\"line_color\":{\"value\":\"#4daf4a\"},\"x\":{\"field\":\"x\"},\"y\":{\"field\":\"y\"}},\"id\":\"5999bb27-19f3-4c76-aa3a-1e0c5e7b7f12\",\"type\":\"Circle\"},{\"attributes\":{\"callback\":null,\"data\":{\"x\":{\"__ndarray__\":\"Y+PdtCnYRUCVIUt9eRdDQCDcvOcb40FAtB64bpU+QEAa0lfCaT88QDAGYhtpPDdAawzByMfoMUA54/i8AuQpQNvnGuUeGSJAf/Ck/NkwGkBr0flmX9oUQCut3FY1sxFA95vA3D1GDUBGFFNlOI8DQOqOWi3k6PU/caYYT5yC+j8yswV7iS0FQAbg3afQCgtAljDRY0bfEEADWk8a/BYWQGf1ApxZ/h1AOFTgSvrVJEBS8DzMsc0qQCKyFSJK/SlASvTzfdZPJEBnCDlWSUggQBF555iAZBtATpKZemMFFkBS2YzKrScRQOZSxE743QtAUlw3oAMFCEDOs3fdUscCQLgtWydr+/k/Haydza468T+xXBV1HWPnP9CaRf3stts/muJ1LuGozD/Hnu1Itba/Py2FYfM6saS/Dw3LI1/Qyb/2SqH5em2KvysQOrojquc/jP6bkaRz9z/bZqlDDhIAQKKOLoKEkwFAdIhDLB4DAEDC6e5gbT3+PzOUZgk7Hf0/Esal+SRn/D/o53DmfDn8P94DLYpCVvw/fcU7PFvu+z/IC02VVHT7P7r4pjcXCvs/4i+0kafA+j9OO2pAzIv6P0PURDHOivo/GBX/m8Gh+z9xM74qdYP8P/kbNI5tBv0/MRm1HBsG/T9Q9ugnAmf8P8tkh5uEUPs/Vdlg8pkg+j+8vAr/mgr5P4wsRD/GePg/rDilIYJI+D9cYbWK4kP4P/2XDhdlwPc/rW+MFyWx9j+oeCSqLID1Px4YKVzblPQ/6QNSdgQd9D88SzZ9AlD0P4YTKbGR+vo/\",\"dtype\":\"float64\",\"shape\":[75]},\"y\":{\"__ndarray__\":\"GhExyth1ND/Sv8nbtpRIP2vylNV0PVE/aTum7souWD/At0SJ8fVgPw3Iuahxymc/MSNhhJWvcD/bTfBN02d3P2zb5nxnaoA/CD5h5MAGhz8NmeH1TyaQP+zrCsc9p5Y/LbKd76fGnz/bLW5ISEmmPww9YvTcQq8/JV2OstnstT8Er5Y7M8G+P0c+r3jqkcU/5h99k6ZBzj88bCIzFzjVP4enV8oyxN0//yH99nXg5D8qOpLLf0jtP5kqGJXUifQ/c9cS8kHP/D+/DpwzojQEQIEmwoanVwxA4lgXt9HgE0BSSZ2AJuIbQAMJih9jjiNA5q4l5INuK0AwTKYKRj0zQNv5fmq8/DpAaCJseHrtQkB/+zpwzoxKQM3MzMzMeFJAZmZmZmZqWEAAAAAAAFxeQM3MzMzMJmJAmpmZmZkfZUBmZmZmZhhoQDMzMzMzEWtAAAAAAAAKbkBmZmZmZoFwQM3MzMzM/XFAMzMzMzN6c0CamZmZmfZ0QAAAAAAAc3ZAZmZmZmbvd0DNzMzMzGt5QDMzMzMz6HpAmpmZmZlkfEAAAAAAAOF9QGZmZmZmXX9AZmZmZuZsgECamZmZGSuBQM3MzMxM6YFAAAAAAICngkAzMzMzs2WDQGZmZmbmI4RAmpmZmRnihEDNzMzMTKCFQAAAAACAXoZAMzMzM7Mch0BmZmZm5tqHQJqZmZkZmYhAzczMzExXiUAAAAAAgBWKQDMzMzOz04pAZmZmZuaRi0CamZmZGVCMQM3MzMxMDo1AAAAAAIDMjUAzMzMzs4qOQGZmZmbmSI9A\",\"dtype\":\"float64\",\"shape\":[75]}},\"selected\":{\"id\":\"1a8f0215-af1f-4135-9ba5-5afb93707064\",\"type\":\"Selection\"},\"selection_policy\":{\"id\":\"84fe6cd0-6b78-4b5d-ae3a-cdafe0900d28\",\"type\":\"UnionRenderers\"}},\"id\":\"77d3bd66-b605-49f6-8edc-ab8b4779d4ca\",\"type\":\"ColumnDataSource\"},{\"attributes\":{\"fill_alpha\":{\"value\":0.1},\"fill_color\":{\"value\":\"#1f77b4\"},\"line_alpha\":{\"value\":0.1},\"line_color\":{\"value\":\"#1f77b4\"},\"x\":{\"field\":\"x\"},\"y\":{\"field\":\"y\"}},\"id\":\"36eaf88a-b39e-4986-83c2-db03094dedb1\",\"type\":\"Square\"},{\"attributes\":{\"source\":{\"id\":\"07a0aa8d-4bba-4a73-a1af-872319f563ab\",\"type\":\"ColumnDataSource\"}},\"id\":\"e92ddf11-6a97-48ed-b5db-2304dac6eac7\",\"type\":\"CDSView\"},{\"attributes\":{\"above\":[{\"id\":\"7e9ae1bd-4b1d-4268-9f68-f864d2afc1d2\",\"type\":\"Legend\"}],\"below\":[{\"id\":\"739c81fe-21f7-4bbb-b87c-617bc72c12d5\",\"type\":\"LinearAxis\"}],\"left\":[{\"id\":\"d8da598f-9035-43b5-82d8-6ad991a25bf0\",\"type\":\"LogAxis\"}],\"plot_width\":300,\"renderers\":[{\"id\":\"739c81fe-21f7-4bbb-b87c-617bc72c12d5\",\"type\":\"LinearAxis\"},{\"id\":\"e7460d57-22d9-495a-bce7-ff012658e5cd\",\"type\":\"Grid\"},{\"id\":\"d8da598f-9035-43b5-82d8-6ad991a25bf0\",\"type\":\"LogAxis\"},{\"id\":\"7e767077-c970-4d64-8bc8-5aeb35a0d838\",\"type\":\"Grid\"},{\"id\":\"85d2b568-bcd9-4dcc-8d78-40f5a6091e6f\",\"type\":\"BoxAnnotation\"},{\"id\":\"100322b4-8d04-4176-9348-e67a21cecbbc\",\"type\":\"GlyphRenderer\"},{\"id\":\"9a1189a0-89b7-4bce-ba19-f9832aa9bf79\",\"type\":\"GlyphRenderer\"},{\"id\":\"729e81df-8a57-4191-b13c-09180c75c799\",\"type\":\"GlyphRenderer\"},{\"id\":\"03900218-9d6e-47eb-9ef4-e463f6955142\",\"type\":\"GlyphRenderer\"},{\"id\":\"edfbe665-b7c5-489a-a016-e916db1bf061\",\"type\":\"GlyphRenderer\"},{\"id\":\"7e9ae1bd-4b1d-4268-9f68-f864d2afc1d2\",\"type\":\"Legend\"}],\"title\":{\"id\":\"d702ed68-4790-4447-a027-0968a0f1e020\",\"type\":\"Title\"},\"toolbar\":{\"id\":\"e07d7ff6-8f0e-4c58-9852-56f2e657fd69\",\"type\":\"Toolbar\"},\"toolbar_location\":null,\"x_range\":{\"id\":\"3ea7e10f-ae9a-47e1-998b-158fbf279208\",\"type\":\"Range1d\"},\"x_scale\":{\"id\":\"9d64a606-e865-486e-995c-985c1a727631\",\"type\":\"LinearScale\"},\"y_range\":{\"id\":\"417ada46-04ae-4bf0-9e24-fcca969ebf67\",\"type\":\"Range1d\"},\"y_scale\":{\"id\":\"785e356c-63ec-4675-9f52-19f48dbdb7d7\",\"type\":\"LogScale\"}},\"id\":\"81f7bcf8-58e1-4bf2-a046-3de0eac62f17\",\"subtype\":\"Figure\",\"type\":\"Plot\"},{\"attributes\":{},\"id\":\"7aba97fc-0852-4dfa-af21-82dcbb427d3a\",\"type\":\"UnionRenderers\"},{\"attributes\":{\"callback\":null,\"data\":{\"x\":{\"__ndarray__\":\"cm1sTMT3VEDEyvjosEJHQOKI6DjzCUNArgQWV9awPkB9Lm8XG3M4QEz+Qv6iYzNA7eV8HaPLLkCX1QHyTpMoQFBmYSYetiNAUB04GtGpH0AmFyVE5j8ZQJca9QPGqBNALJP+OOHHDEBNxaf7QF8AQKtislomWuw/cW2dcO6A9T/uJJvfPu0EQIaQLTI/JQ1AxGiII+PmEkCJvfVeuCsYQD6ZBhGbHB9AXQw69DTYJEAsubcwKucqQNuT9D5OmipAJyi3szEJJUBlNebh5WkgQDDcPHBr2xlArtlANXuQFEBdJadFHckQQI2Avh0ZsQtAjYiwt1rsBUCL0SDoVBgAQK6C0nEEjvc/CggLSme58T9sXU2orFPnP0v0JYz9Gdg/vT38vxYczD9nBQTe6kHHP1IhkEXJwKo/8OZnhCVAub+xtVgCpmqzP6DUpY6g0+k/PKK3T1h4+D8RTDjQc1EAQG/dAQs7TwJAQt2eHpPLAEBWEh074x//PyCap9ZSGf4/rEzaTySm/T+7aXhHRmr9P688KeqeNP0/ruZ4EemD/D8olrZcn9T7P0+vNc9hW/s/i9VVL+4P+z+0NzC24uz6P8731Kza8vo/xFf4SHzq+z+gYyHpvHb8P68ROkiFevw/BAjYdCga/D8AUp8VbW77P3JrF/nKmvo/qCQeGfq++T/dplwHJfn4P2G4p+Uva/g/OzZ0RqMZ+D8dmn/iar73P/OuA7Ka8PY/gaaeQHGn9T9hkyjAH1L0P3aZGhdAU/M/n8VP/g7P8j+90HxHNvfyPwhNBtgrqvk/\",\"dtype\":\"float64\",\"shape\":[75]},\"y\":{\"__ndarray__\":\"GhExyth1ND/Sv8nbtpRIP2vylNV0PVE/aTum7souWD/At0SJ8fVgPw3Iuahxymc/MSNhhJWvcD/bTfBN02d3P2zb5nxnaoA/CD5h5MAGhz8NmeH1TyaQP+zrCsc9p5Y/LbKd76fGnz/bLW5ISEmmPww9YvTcQq8/JV2OstnstT8Er5Y7M8G+P0c+r3jqkcU/5h99k6ZBzj88bCIzFzjVP4enV8oyxN0//yH99nXg5D8qOpLLf0jtP5kqGJXUifQ/c9cS8kHP/D+/DpwzojQEQIEmwoanVwxA4lgXt9HgE0BSSZ2AJuIbQAMJih9jjiNA5q4l5INuK0AwTKYKRj0zQNv5fmq8/DpAaCJseHrtQkB/+zpwzoxKQM3MzMzMeFJAZmZmZmZqWEAAAAAAAFxeQM3MzMzMJmJAmpmZmZkfZUBmZmZmZhhoQDMzMzMzEWtAAAAAAAAKbkBmZmZmZoFwQM3MzMzM/XFAMzMzMzN6c0CamZmZmfZ0QAAAAAAAc3ZAZmZmZmbvd0DNzMzMzGt5QDMzMzMz6HpAmpmZmZlkfEAAAAAAAOF9QGZmZmZmXX9AZmZmZuZsgECamZmZGSuBQM3MzMxM6YFAAAAAAICngkAzMzMzs2WDQGZmZmbmI4RAmpmZmRnihEDNzMzMTKCFQAAAAACAXoZAMzMzM7Mch0BmZmZm5tqHQJqZmZkZmYhAzczMzExXiUAAAAAAgBWKQDMzMzOz04pAZmZmZuaRi0CamZmZGVCMQM3MzMxMDo1AAAAAAIDMjUAzMzMzs4qOQGZmZmbmSI9A\",\"dtype\":\"float64\",\"shape\":[75]}},\"selected\":{\"id\":\"b7d75cc1-3815-461a-8baa-6fdacde2fc22\",\"type\":\"Selection\"},\"selection_policy\":{\"id\":\"b0f1f95f-de5a-49be-8770-c70d9cd04889\",\"type\":\"UnionRenderers\"}},\"id\":\"d8734b69-551e-4a1f-9a4a-d04f528b66f6\",\"type\":\"ColumnDataSource\"},{\"attributes\":{},\"id\":\"1a8f0215-af1f-4135-9ba5-5afb93707064\",\"type\":\"Selection\"},{\"attributes\":{\"data_source\":{\"id\":\"edc01ca9-e42a-4edd-9b1f-c28c54e73f16\",\"type\":\"ColumnDataSource\"},\"glyph\":{\"id\":\"5999bb27-19f3-4c76-aa3a-1e0c5e7b7f12\",\"type\":\"Circle\"},\"hover_glyph\":null,\"muted_glyph\":null,\"nonselection_glyph\":{\"id\":\"5e8badbf-3255-4da8-bb6e-517ace0d689d\",\"type\":\"Circle\"},\"selection_glyph\":null,\"view\":{\"id\":\"75b652d1-e86d-4793-bafe-1b2d9deebc2a\",\"type\":\"CDSView\"}},\"id\":\"6999244b-3e64-4dec-8087-00e58358da36\",\"type\":\"GlyphRenderer\"},{\"attributes\":{\"data_source\":{\"id\":\"07a0aa8d-4bba-4a73-a1af-872319f563ab\",\"type\":\"ColumnDataSource\"},\"glyph\":{\"id\":\"751a6654-ac4f-4d3c-9642-c6323fd72c95\",\"type\":\"Line\"},\"hover_glyph\":null,\"muted_glyph\":null,\"nonselection_glyph\":{\"id\":\"e20d81d9-9784-4ab7-b00b-05ec6ba821a4\",\"type\":\"Line\"},\"selection_glyph\":null,\"view\":{\"id\":\"e92ddf11-6a97-48ed-b5db-2304dac6eac7\",\"type\":\"CDSView\"}},\"id\":\"a68965ef-6dde-428a-b368-56029aebbbdc\",\"type\":\"GlyphRenderer\"},{\"attributes\":{},\"id\":\"a1dc6987-5ee4-415c-89e4-210b50007c8f\",\"type\":\"UnionRenderers\"},{\"attributes\":{\"items\":[{\"id\":\"15e7d0b4-4737-463a-a011-9421149460e8\",\"type\":\"LegendItem\"},{\"id\":\"df68d0b5-e26f-4d32-ab4e-7a681f2690ba\",\"type\":\"LegendItem\"}],\"label_text_font_size\":{\"value\":\"8pt\"},\"location\":\"top_center\",\"orientation\":\"horizontal\",\"plot\":{\"id\":\"3fd5365f-9c63-4fdd-af1b-38eddbc03650\",\"subtype\":\"Figure\",\"type\":\"Plot\"}},\"id\":\"238da10c-6532-4956-8fa4-29d750fddc9c\",\"type\":\"Legend\"},{\"attributes\":{\"source\":{\"id\":\"cbb7edb7-c9e1-4bbf-bf9d-d611f768d28f\",\"type\":\"ColumnDataSource\"}},\"id\":\"6f749221-1cd3-41c0-af66-cc8510f65a4d\",\"type\":\"CDSView\"},{\"attributes\":{\"callback\":null,\"data\":{\"x\":{\"__ndarray__\":\"MXhf+wfXU0AZbvNjswdFQLQWsEQVdUFA5TlpnhT9QUB/x1dOYK05QImjxHmcEjZA9jYDSBB3L0AISPl4H6wqQBPuuwfAzyJAOcHprUZAIUB7WWpkesAXQJoT1Uq+ChVArO/8u0EXCkBgVNlshzgCQMeNQ+Nzu/I/POwv1Qzh+D9QxMRmcj8DQOrE7tC4mAxAQsLBRIlHEkAi4cPYoDEXQEeDpjRjzB1ASZ0GEfCuI0DVFj11sssnQOMiVKSMHyhAWRHvUxNoJEDo8cjD4g8gQLGGvR2NDRpAdpI3nV5oFECtyWH9Lp4QQIZQd9bvmwtAkshlnu1BBkBMysnQf1UAQHZJU/DYZ/c/HoEhV+G48T/rSm4vc/TmP3EgV4cD49g/xmy6+4w7zz+bEsjh3uDDPw5SRMRogKs/4GPKdPc1a78lazVXN1vCP/B84ODeUug/LOyxgXDV9z+/DBHyZAwAQAOIY+fy/QFAahF3XKCUAECV0GHvGsz+P+X4k4Nhvf0/RO/IqI98/T8rkW+v/zT9P59vGMDsAv0/zEX7plCY/D/E3siS8kj7P2yUMv+hDvs/RmrXDaYs+z+c9f5GCO36P58nVCbr7vo/Qus8hbcy/D+rD5hFMCf9P4t6dxofnPw/bRp4QYZ2/D/q8NNiN2b8P5YTVw9ESPw/l1Dy0X/K+j+WKih3ZdD5P2k8OYxHjvk/hceGh5N4+T8lpPahWSn5P6vJnePt4vY/UuhmxnXI9T8miFqdE+D0Pz7qfx5CR/Q/0khvq2US9D9LfVdHQGv0P9syeEmwYfg/\",\"dtype\":\"float64\",\"shape\":[75]},\"y\":{\"__ndarray__\":\"hLndy31yND/6fmq8dJNIP8n9DkWBPlE/aDum7souWD/b4a/JGvVgP9f34SAhymc/ZvM4DOavcD+z0M5pFmh3PxuC4zJuaoA/xjcUPlsHhz8uHAjJAiaQP9ieWRKgppY/oI7HDFTGnz+a5h2n6EimPzS6g9iZQq8/IuAQqtTstT9SSZ2AJsK+P4nS3uALk8U/ih9j7lpCzj+ASL99HTjVP4enV8oyxN0/ACL99nXg5D9fmEwVjErtPyUGgZVDi/Q/AiuHFtnO/D9OYhBYOTQEQPHSTWIQWAxA4XoUrkfhE0D8qfHSTeIbQMh2vp8ajyNArkfhehRuK0Bcj8L1KDwzQFyPwvUo/DpAPgrXo3DtQkDNzMzMzIxKQClcj8L1eFJAKVyPwvVoWECamZmZmVleQGZmZmZmJmJAAAAAAAAgZUCamZmZmRloQJqZmZmZEWtAmpmZmZkJbkCamZmZmYFwQGZmZmZm/nFAZmZmZmZ6c0BmZmZmZvZ0QDQzMzMzc3ZAAAAAAADwd0AAAAAAAGx5QAAAAAAA6HpAzMzMzMxkfEDMzMzMzOB9QM3MzMzMXH9AzczMzMxsgEAzMzMzMyuBQDMzMzMz6YFAMzMzMzOngkCamZmZmWWDQAAAAAAAJIRAAAAAAADihEAAAAAAAKCFQGZmZmZmXoZAzczMzMwch0DNzMzMzNqHQM3MzMzMmIhAMzMzMzNXiUCamZmZmRWKQAAAAAAA1IpAAAAAAACSi0AAAAAAAFCMQGZmZmZmDo1AzczMzMzMjUDNzMzMzIqOQM3MzMzMSI9A\",\"dtype\":\"float64\",\"shape\":[75]}},\"selected\":{\"id\":\"78acc134-4591-480c-8893-561aebd86ec1\",\"type\":\"Selection\"},\"selection_policy\":{\"id\":\"a6fea644-7b91-48a1-b37b-8cd57c22c5f7\",\"type\":\"UnionRenderers\"}},\"id\":\"07a0aa8d-4bba-4a73-a1af-872319f563ab\",\"type\":\"ColumnDataSource\"},{\"attributes\":{\"fill_alpha\":{\"value\":0.7},\"fill_color\":{\"value\":\"#984ea3\"},\"line_alpha\":{\"value\":0.7},\"line_color\":{\"value\":\"#984ea3\"},\"x\":{\"field\":\"x\"},\"y\":{\"field\":\"y\"}},\"id\":\"9619c32b-3dc5-42e8-ac17-ee74f408419b\",\"type\":\"Square\"},{\"attributes\":{\"line_alpha\":0.1,\"line_color\":\"#1f77b4\",\"line_width\":1.5,\"x\":{\"field\":\"x\"},\"y\":{\"field\":\"y\"}},\"id\":\"e20d81d9-9784-4ab7-b00b-05ec6ba821a4\",\"type\":\"Line\"},{\"attributes\":{},\"id\":\"96004de0-0404-4129-a64b-6d2b73ac552d\",\"type\":\"Selection\"},{\"attributes\":{\"line_alpha\":0.1,\"line_color\":\"#1f77b4\",\"line_dash\":[6],\"line_width\":5,\"x\":{\"field\":\"x\"},\"y\":{\"field\":\"y\"}},\"id\":\"c28931b4-87b2-4ba6-bbc2-afd0cd3f7a68\",\"type\":\"Line\"},{\"attributes\":{\"line_color\":\"#4daf4a\",\"line_width\":1.5,\"x\":{\"field\":\"x\"},\"y\":{\"field\":\"y\"}},\"id\":\"6491008b-c0c6-4a35-bb45-0eec2c5c93cd\",\"type\":\"Line\"},{\"attributes\":{},\"id\":\"f7c1e395-062b-4e99-829a-238043e1e4a6\",\"type\":\"UnionRenderers\"},{\"attributes\":{\"axis_label\":\"cooling rate [K/day]\",\"formatter\":{\"id\":\"6a79414b-b024-4ca6-83d4-92e6a58abf89\",\"type\":\"BasicTickFormatter\"},\"plot\":{\"id\":\"3fd5365f-9c63-4fdd-af1b-38eddbc03650\",\"subtype\":\"Figure\",\"type\":\"Plot\"},\"ticker\":{\"id\":\"b3e70739-686a-405e-9d11-c44b82f7cc05\",\"type\":\"BasicTicker\"}},\"id\":\"e0cea2c4-9198-4b0d-bf6c-4869b69dbbfe\",\"type\":\"LinearAxis\"},{\"attributes\":{\"data_source\":{\"id\":\"cbb7edb7-c9e1-4bbf-bf9d-d611f768d28f\",\"type\":\"ColumnDataSource\"},\"glyph\":{\"id\":\"412f9337-a9da-454d-a20a-5375bc00984c\",\"type\":\"Line\"},\"hover_glyph\":null,\"muted_glyph\":null,\"nonselection_glyph\":{\"id\":\"22a7dcc6-ac8d-4a02-8772-213539ae7340\",\"type\":\"Line\"},\"selection_glyph\":null,\"view\":{\"id\":\"6f749221-1cd3-41c0-af66-cc8510f65a4d\",\"type\":\"CDSView\"}},\"id\":\"88840caf-ed35-48f7-9c68-7098312f7d0b\",\"type\":\"GlyphRenderer\"},{\"attributes\":{},\"id\":\"2852d0f9-7b3d-4555-b215-9dfda5b7b546\",\"type\":\"HelpTool\"},{\"attributes\":{\"callback\":null,\"end\":0.7323360194662635,\"start\":-1.576281364019664},\"id\":\"731a95c3-79a3-4989-9860-2c40d8f64d7c\",\"type\":\"Range1d\"},{\"attributes\":{\"source\":{\"id\":\"edc01ca9-e42a-4edd-9b1f-c28c54e73f16\",\"type\":\"ColumnDataSource\"}},\"id\":\"75b652d1-e86d-4793-bafe-1b2d9deebc2a\",\"type\":\"CDSView\"},{\"attributes\":{},\"id\":\"34624972-1aff-489d-a35a-42a5ca1fdeff\",\"type\":\"LinearScale\"},{\"attributes\":{\"line_alpha\":0.1,\"line_color\":\"#1f77b4\",\"line_width\":1.5,\"x\":{\"field\":\"x\"},\"y\":{\"field\":\"y\"}},\"id\":\"82680be7-2771-4581-a6f1-f1b7f703c813\",\"type\":\"Line\"},{\"attributes\":{\"callback\":null,\"data\":{\"x\":{\"__ndarray__\":\"MXhf+wfXU0AZbvNjswdFQLQWsEQVdUFA5TlpnhT9QUB/x1dOYK05QImjxHmcEjZA9jYDSBB3L0AISPl4H6wqQBPuuwfAzyJAOcHprUZAIUB7WWpkesAXQJoT1Uq+ChVArO/8u0EXCkBgVNlshzgCQMeNQ+Nzu/I/POwv1Qzh+D9QxMRmcj8DQOrE7tC4mAxAQsLBRIlHEkAi4cPYoDEXQEeDpjRjzB1ASZ0GEfCuI0DVFj11sssnQOMiVKSMHyhAWRHvUxNoJEDo8cjD4g8gQLGGvR2NDRpAdpI3nV5oFECtyWH9Lp4QQIZQd9bvmwtAkshlnu1BBkBMysnQf1UAQHZJU/DYZ/c/HoEhV+G48T/rSm4vc/TmP3EgV4cD49g/xmy6+4w7zz+bEsjh3uDDPw5SRMRogKs/4GPKdPc1a78lazVXN1vCP/B84ODeUug/LOyxgXDV9z+/DBHyZAwAQAOIY+fy/QFAahF3XKCUAECV0GHvGsz+P+X4k4Nhvf0/RO/IqI98/T8rkW+v/zT9P59vGMDsAv0/zEX7plCY/D/E3siS8kj7P2yUMv+hDvs/RmrXDaYs+z+c9f5GCO36P58nVCbr7vo/Qus8hbcy/D+rD5hFMCf9P4t6dxofnPw/bRp4QYZ2/D/q8NNiN2b8P5YTVw9ESPw/l1Dy0X/K+j+WKih3ZdD5P2k8OYxHjvk/hceGh5N4+T8lpPahWSn5P6vJnePt4vY/UuhmxnXI9T8miFqdE+D0Pz7qfx5CR/Q/0khvq2US9D9LfVdHQGv0P9syeEmwYfg/\",\"dtype\":\"float64\",\"shape\":[75]},\"y\":{\"__ndarray__\":\"hLndy31yND/6fmq8dJNIP8n9DkWBPlE/aDum7souWD/b4a/JGvVgP9f34SAhymc/ZvM4DOavcD+z0M5pFmh3PxuC4zJuaoA/xjcUPlsHhz8uHAjJAiaQP9ieWRKgppY/oI7HDFTGnz+a5h2n6EimPzS6g9iZQq8/IuAQqtTstT9SSZ2AJsK+P4nS3uALk8U/ih9j7lpCzj+ASL99HTjVP4enV8oyxN0/ACL99nXg5D9fmEwVjErtPyUGgZVDi/Q/AiuHFtnO/D9OYhBYOTQEQPHSTWIQWAxA4XoUrkfhE0D8qfHSTeIbQMh2vp8ajyNArkfhehRuK0Bcj8L1KDwzQFyPwvUo/DpAPgrXo3DtQkDNzMzMzIxKQClcj8L1eFJAKVyPwvVoWECamZmZmVleQGZmZmZmJmJAAAAAAAAgZUCamZmZmRloQJqZmZmZEWtAmpmZmZkJbkCamZmZmYFwQGZmZmZm/nFAZmZmZmZ6c0BmZmZmZvZ0QDQzMzMzc3ZAAAAAAADwd0AAAAAAAGx5QAAAAAAA6HpAzMzMzMxkfEDMzMzMzOB9QM3MzMzMXH9AzczMzMxsgEAzMzMzMyuBQDMzMzMz6YFAMzMzMzOngkCamZmZmWWDQAAAAAAAJIRAAAAAAADihEAAAAAAAKCFQGZmZmZmXoZAzczMzMwch0DNzMzMzNqHQM3MzMzMmIhAMzMzMzNXiUCamZmZmRWKQAAAAAAA1IpAAAAAAACSi0AAAAAAAFCMQGZmZmZmDo1AzczMzMzMjUDNzMzMzIqOQM3MzMzMSI9A\",\"dtype\":\"float64\",\"shape\":[75]}},\"selected\":{\"id\":\"862220c4-7ad9-4fa8-9843-1a4682f67e82\",\"type\":\"Selection\"},\"selection_policy\":{\"id\":\"fad75414-a24c-4d19-b28b-ccd50680c19e\",\"type\":\"UnionRenderers\"}},\"id\":\"f554211d-c0a2-4b5b-a9d7-c44a8a995d0b\",\"type\":\"ColumnDataSource\"},{\"attributes\":{},\"id\":\"d70c447e-1497-4254-b1b9-24cbe61aca73\",\"type\":\"UnionRenderers\"},{\"attributes\":{\"bottom_units\":\"screen\",\"fill_alpha\":{\"value\":0.5},\"fill_color\":{\"value\":\"lightgrey\"},\"left_units\":\"screen\",\"level\":\"overlay\",\"line_alpha\":{\"value\":1.0},\"line_color\":{\"value\":\"black\"},\"line_dash\":[4,4],\"line_width\":{\"value\":2},\"plot\":null,\"render_mode\":\"css\",\"right_units\":\"screen\",\"top_units\":\"screen\"},\"id\":\"875078a3-8a09-45e2-b64d-d3ba0a6c3c25\",\"type\":\"BoxAnnotation\"},{\"attributes\":{},\"id\":\"22815af7-e9e0-4f3b-b0e1-e26a14588925\",\"type\":\"UnionRenderers\"},{\"attributes\":{\"above\":[{\"id\":\"da6ecca4-b279-4918-afb4-572ceb88d17f\",\"type\":\"Legend\"}],\"below\":[{\"id\":\"b04a882d-32ab-418e-8ebd-0501b43fb4ed\",\"type\":\"LinearAxis\"}],\"left\":[{\"id\":\"83e27795-50a3-4620-a33b-889adbc864cd\",\"type\":\"LinearAxis\"}],\"plot_width\":300,\"renderers\":[{\"id\":\"b04a882d-32ab-418e-8ebd-0501b43fb4ed\",\"type\":\"LinearAxis\"},{\"id\":\"7273279c-2866-4748-bf0a-a39274dcd102\",\"type\":\"Grid\"},{\"id\":\"83e27795-50a3-4620-a33b-889adbc864cd\",\"type\":\"LinearAxis\"},{\"id\":\"c59744fb-56e0-41f6-a16b-0fbad1bc178b\",\"type\":\"Grid\"},{\"id\":\"875078a3-8a09-45e2-b64d-d3ba0a6c3c25\",\"type\":\"BoxAnnotation\"},{\"id\":\"88840caf-ed35-48f7-9c68-7098312f7d0b\",\"type\":\"GlyphRenderer\"},{\"id\":\"6999244b-3e64-4dec-8087-00e58358da36\",\"type\":\"GlyphRenderer\"},{\"id\":\"ec5bbcc6-a4a7-434a-b5a2-2c4418f6f5dd\",\"type\":\"GlyphRenderer\"},{\"id\":\"87cfef02-2f4a-4bc4-aa66-07f5500a1ffb\",\"type\":\"GlyphRenderer\"},{\"id\":\"a68965ef-6dde-428a-b368-56029aebbbdc\",\"type\":\"GlyphRenderer\"},{\"id\":\"da6ecca4-b279-4918-afb4-572ceb88d17f\",\"type\":\"Legend\"}],\"title\":{\"id\":\"6de164d6-dd61-4bfd-9b32-1bf65ff70687\",\"type\":\"Title\"},\"toolbar\":{\"id\":\"de773e10-0a11-4df8-853c-7a399df0cc0c\",\"type\":\"Toolbar\"},\"toolbar_location\":null,\"x_range\":{\"id\":\"a37f6f97-909d-4a93-ac5f-5f9d339158b0\",\"type\":\"Range1d\"},\"x_scale\":{\"id\":\"ae526e4f-9f3b-4b41-9946-f67d33905b54\",\"type\":\"LinearScale\"},\"y_range\":{\"id\":\"0490950b-a50d-4f22-bb63-0c3bfa6983ed\",\"type\":\"Range1d\"},\"y_scale\":{\"id\":\"61a70883-4b72-4689-888f-c1a7095e573c\",\"type\":\"LinearScale\"}},\"id\":\"a883d9df-5f94-4959-a638-e10547df6891\",\"subtype\":\"Figure\",\"type\":\"Plot\"},{\"attributes\":{\"source\":{\"id\":\"f554211d-c0a2-4b5b-a9d7-c44a8a995d0b\",\"type\":\"ColumnDataSource\"}},\"id\":\"86afdb71-2373-482f-88f7-20912aa3236e\",\"type\":\"CDSView\"},{\"attributes\":{\"fill_alpha\":{\"value\":0.1},\"fill_color\":{\"value\":\"#1f77b4\"},\"line_alpha\":{\"value\":0.1},\"line_color\":{\"value\":\"#1f77b4\"},\"x\":{\"field\":\"x\"},\"y\":{\"field\":\"y\"}},\"id\":\"5e8badbf-3255-4da8-bb6e-517ace0d689d\",\"type\":\"Circle\"},{\"attributes\":{\"callback\":null,\"end\":2.3135904176513002,\"start\":-0.2265750811213},\"id\":\"a37f6f97-909d-4a93-ac5f-5f9d339158b0\",\"type\":\"Range1d\"},{\"attributes\":{\"overlay\":{\"id\":\"85d2b568-bcd9-4dcc-8d78-40f5a6091e6f\",\"type\":\"BoxAnnotation\"}},\"id\":\"7c1d5932-8153-47bb-a0e7-e3f1d3255531\",\"type\":\"BoxZoomTool\"},{\"attributes\":{\"active_drag\":\"auto\",\"active_inspect\":\"auto\",\"active_scroll\":\"auto\",\"active_tap\":\"auto\",\"tools\":[{\"id\":\"6d09f251-9d55-401e-a81d-a3650d96fa2d\",\"type\":\"PanTool\"},{\"id\":\"7a028c99-af12-4c51-9c82-9e451cd82f13\",\"type\":\"WheelZoomTool\"},{\"id\":\"25a91bc9-1a19-4b8c-928d-6c11c70b8cd6\",\"type\":\"BoxZoomTool\"},{\"id\":\"8840ecaf-a46b-402d-928f-af50974a5506\",\"type\":\"SaveTool\"},{\"id\":\"f34fdab3-ae5c-4643-9b07-718b7b74f399\",\"type\":\"ResetTool\"},{\"id\":\"2852d0f9-7b3d-4555-b215-9dfda5b7b546\",\"type\":\"HelpTool\"}]},\"id\":\"de773e10-0a11-4df8-853c-7a399df0cc0c\",\"type\":\"Toolbar\"},{\"attributes\":{\"callback\":null,\"end\":13.588025414062697,\"start\":-0.3382031503927},\"id\":\"3ea7e10f-ae9a-47e1-998b-158fbf279208\",\"type\":\"Range1d\"},{\"attributes\":{\"bottom_units\":\"screen\",\"fill_alpha\":{\"value\":0.5},\"fill_color\":{\"value\":\"lightgrey\"},\"left_units\":\"screen\",\"level\":\"overlay\",\"line_alpha\":{\"value\":1.0},\"line_color\":{\"value\":\"black\"},\"line_dash\":[4,4],\"line_width\":{\"value\":2},\"plot\":null,\"render_mode\":\"css\",\"right_units\":\"screen\",\"top_units\":\"screen\"},\"id\":\"85d2b568-bcd9-4dcc-8d78-40f5a6091e6f\",\"type\":\"BoxAnnotation\"},{\"attributes\":{},\"id\":\"9d64a606-e865-486e-995c-985c1a727631\",\"type\":\"LinearScale\"},{\"attributes\":{},\"id\":\"9d368a10-5853-4459-bca2-d2854a86df96\",\"type\":\"BasicTickFormatter\"},{\"attributes\":{},\"id\":\"cf32dc69-6977-4175-8e33-57f5996da591\",\"type\":\"PanTool\"},{\"attributes\":{\"active_drag\":\"auto\",\"active_inspect\":\"auto\",\"active_scroll\":\"auto\",\"active_tap\":\"auto\",\"tools\":[{\"id\":\"34ecfc5b-af19-4fb1-b635-f430764d4d84\",\"type\":\"PanTool\"},{\"id\":\"7b28318b-76cb-47bf-a957-fe5c948adc6b\",\"type\":\"WheelZoomTool\"},{\"id\":\"b69dfb00-e921-47db-97e0-9d367bf83281\",\"type\":\"BoxZoomTool\"},{\"id\":\"2f22e6ea-5cb1-4cbd-bd72-d4f8abb2c45a\",\"type\":\"SaveTool\"},{\"id\":\"800e7e15-d509-49b7-a1ff-2b6f9b19cd8c\",\"type\":\"ResetTool\"},{\"id\":\"6f89affd-496e-44c8-b49c-2c0c5d6c7b27\",\"type\":\"HelpTool\"}]},\"id\":\"90a806c9-3242-451c-9856-28470b4d0949\",\"type\":\"Toolbar\"},{\"attributes\":{},\"id\":\"5a059dfb-df37-4799-98e4-e9bb7ff20f31\",\"type\":\"LogScale\"},{\"attributes\":{},\"id\":\"b7d75cc1-3815-461a-8baa-6fdacde2fc22\",\"type\":\"Selection\"},{\"attributes\":{\"plot\":{\"id\":\"81f7bcf8-58e1-4bf2-a046-3de0eac62f17\",\"subtype\":\"Figure\",\"type\":\"Plot\"},\"ticker\":{\"id\":\"81de74be-9df6-49d4-91d2-a8c0bcacd0ab\",\"type\":\"BasicTicker\"}},\"id\":\"e7460d57-22d9-495a-bce7-ff012658e5cd\",\"type\":\"Grid\"},{\"attributes\":{\"plot\":{\"id\":\"3fd5365f-9c63-4fdd-af1b-38eddbc03650\",\"subtype\":\"Figure\",\"type\":\"Plot\"},\"ticker\":{\"id\":\"b3e70739-686a-405e-9d11-c44b82f7cc05\",\"type\":\"BasicTicker\"}},\"id\":\"567c7356-078a-491c-8dfd-41451b893388\",\"type\":\"Grid\"},{\"attributes\":{},\"id\":\"32263048-f728-407b-8e39-c64278d3233a\",\"type\":\"SaveTool\"},{\"attributes\":{\"label\":{\"value\":\"old CLIRAD (H2012) - CRD\"},\"renderers\":[{\"id\":\"b77a3fe7-d027-43f0-aab8-9ea3e5c6e4ae\",\"type\":\"GlyphRenderer\"}]},\"id\":\"df68d0b5-e26f-4d32-ab4e-7a681f2690ba\",\"type\":\"LegendItem\"},{\"attributes\":{},\"id\":\"b0f1f95f-de5a-49be-8770-c70d9cd04889\",\"type\":\"UnionRenderers\"},{\"attributes\":{},\"id\":\"fad75414-a24c-4d19-b28b-ccd50680c19e\",\"type\":\"UnionRenderers\"},{\"attributes\":{\"items\":[{\"id\":\"8c30d980-ab21-4a0b-b1fb-ea8f9e14b31e\",\"type\":\"LegendItem\"},{\"id\":\"6eb531c2-fb68-4ce0-8c21-643e380e92d1\",\"type\":\"LegendItem\"},{\"id\":\"d40a168e-3b51-4a07-8e81-d36a79cb7495\",\"type\":\"LegendItem\"}],\"label_text_font_size\":{\"value\":\"8pt\"},\"location\":\"top_center\",\"orientation\":\"horizontal\",\"plot\":{\"id\":\"81f7bcf8-58e1-4bf2-a046-3de0eac62f17\",\"subtype\":\"Figure\",\"type\":\"Plot\"}},\"id\":\"7e9ae1bd-4b1d-4268-9f68-f864d2afc1d2\",\"type\":\"Legend\"},{\"attributes\":{\"label\":{\"value\":\"CLIRAD (single-run) - CRD\"},\"renderers\":[{\"id\":\"c1faea4e-085b-41ff-a27a-4bf2bb21f92f\",\"type\":\"GlyphRenderer\"},{\"id\":\"ecf70c44-e24c-495f-b97b-d906c0ea9110\",\"type\":\"GlyphRenderer\"}]},\"id\":\"15e7d0b4-4737-463a-a011-9421149460e8\",\"type\":\"LegendItem\"},{\"attributes\":{},\"id\":\"61a70883-4b72-4689-888f-c1a7095e573c\",\"type\":\"LinearScale\"},{\"attributes\":{},\"id\":\"97664722-fc7e-42ca-b3ce-0075c42ea433\",\"type\":\"WheelZoomTool\"},{\"attributes\":{},\"id\":\"20307c1f-8022-48d9-9e48-0ff30b25285f\",\"type\":\"HelpTool\"},{\"attributes\":{},\"id\":\"b3e70739-686a-405e-9d11-c44b82f7cc05\",\"type\":\"BasicTicker\"},{\"attributes\":{},\"id\":\"8a0f53c1-6450-4847-8f96-14ab2f447c00\",\"type\":\"ResetTool\"},{\"attributes\":{\"data_source\":{\"id\":\"756fb019-b330-4b27-805a-5466a7a70c3c\",\"type\":\"ColumnDataSource\"},\"glyph\":{\"id\":\"0487512b-72a1-43bf-bcd0-da863e05a43d\",\"type\":\"Square\"},\"hover_glyph\":null,\"muted_glyph\":null,\"nonselection_glyph\":{\"id\":\"4a053a44-9d20-41bc-9a1a-f7d13d0facfc\",\"type\":\"Square\"},\"selection_glyph\":null,\"view\":{\"id\":\"5f020cd8-3f8b-4ab2-93a9-39e4911562c0\",\"type\":\"CDSView\"}},\"id\":\"03900218-9d6e-47eb-9ef4-e463f6955142\",\"type\":\"GlyphRenderer\"},{\"attributes\":{},\"id\":\"862220c4-7ad9-4fa8-9843-1a4682f67e82\",\"type\":\"Selection\"},{\"attributes\":{\"label\":{\"value\":\"old CLIRAD (H2012)\"},\"renderers\":[{\"id\":\"03900218-9d6e-47eb-9ef4-e463f6955142\",\"type\":\"GlyphRenderer\"},{\"id\":\"edfbe665-b7c5-489a-a016-e916db1bf061\",\"type\":\"GlyphRenderer\"}]},\"id\":\"d40a168e-3b51-4a07-8e81-d36a79cb7495\",\"type\":\"LegendItem\"},{\"attributes\":{\"overlay\":{\"id\":\"85d2ecb6-2210-476b-8a59-1b8cc7413086\",\"type\":\"BoxAnnotation\"}},\"id\":\"b69dfb00-e921-47db-97e0-9d367bf83281\",\"type\":\"BoxZoomTool\"},{\"attributes\":{},\"id\":\"df1cf8b7-a7a3-4ba8-a555-d5c9c0edf78b\",\"type\":\"BasicTicker\"},{\"attributes\":{\"line_color\":\"#4daf4a\",\"line_width\":1.5,\"x\":{\"field\":\"x\"},\"y\":{\"field\":\"y\"}},\"id\":\"c398c714-4a77-4b70-add2-21614ecf380c\",\"type\":\"Line\"},{\"attributes\":{\"children\":[{\"id\":\"ad5577c1-62cd-4940-bd28-855cf5e01a93\",\"type\":\"Row\"}]},\"id\":\"e885feca-9597-4a15-a168-141a3c9f13e5\",\"type\":\"Column\"},{\"attributes\":{\"source\":{\"id\":\"756fb019-b330-4b27-805a-5466a7a70c3c\",\"type\":\"ColumnDataSource\"}},\"id\":\"5f020cd8-3f8b-4ab2-93a9-39e4911562c0\",\"type\":\"CDSView\"},{\"attributes\":{\"source\":{\"id\":\"37b61e05-3596-47e4-91d0-ed96f6f40b73\",\"type\":\"ColumnDataSource\"}},\"id\":\"f09ba8fe-3698-4f94-8015-28b9cfaa4dbf\",\"type\":\"CDSView\"},{\"attributes\":{\"source\":{\"id\":\"77d3bd66-b605-49f6-8edc-ab8b4779d4ca\",\"type\":\"ColumnDataSource\"}},\"id\":\"9caaa635-ab9e-40b4-b14e-4f3a5c53f350\",\"type\":\"CDSView\"},{\"attributes\":{},\"id\":\"78acc134-4591-480c-8893-561aebd86ec1\",\"type\":\"Selection\"},{\"attributes\":{\"bottom_units\":\"screen\",\"fill_alpha\":{\"value\":0.5},\"fill_color\":{\"value\":\"lightgrey\"},\"left_units\":\"screen\",\"level\":\"overlay\",\"line_alpha\":{\"value\":1.0},\"line_color\":{\"value\":\"black\"},\"line_dash\":[4,4],\"line_width\":{\"value\":2},\"plot\":null,\"render_mode\":\"css\",\"right_units\":\"screen\",\"top_units\":\"screen\"},\"id\":\"85d2ecb6-2210-476b-8a59-1b8cc7413086\",\"type\":\"BoxAnnotation\"},{\"attributes\":{\"line_alpha\":0.1,\"line_color\":\"#1f77b4\",\"line_dash\":[6],\"line_width\":4,\"x\":{\"field\":\"x\"},\"y\":{\"field\":\"y\"}},\"id\":\"a5ad8214-54d9-4828-b4f3-03e333c6bbb8\",\"type\":\"Line\"},{\"attributes\":{},\"id\":\"34ecfc5b-af19-4fb1-b635-f430764d4d84\",\"type\":\"PanTool\"},{\"attributes\":{\"line_alpha\":0.8,\"line_color\":\"#984ea3\",\"line_width\":1.5,\"x\":{\"field\":\"x\"},\"y\":{\"field\":\"y\"}},\"id\":\"a369493c-4bf4-4eb8-b8b8-a2d5ac8cb661\",\"type\":\"Line\"},{\"attributes\":{},\"id\":\"6f89affd-496e-44c8-b49c-2c0c5d6c7b27\",\"type\":\"HelpTool\"},{\"attributes\":{\"plot\":{\"id\":\"a883d9df-5f94-4959-a638-e10547df6891\",\"subtype\":\"Figure\",\"type\":\"Plot\"},\"ticker\":{\"id\":\"df1cf8b7-a7a3-4ba8-a555-d5c9c0edf78b\",\"type\":\"BasicTicker\"}},\"id\":\"7273279c-2866-4748-bf0a-a39274dcd102\",\"type\":\"Grid\"},{\"attributes\":{\"callback\":null,\"data\":{\"x\":{\"__ndarray__\":\"fvf6414XRMC4pLau3awgwBHMuhJ1bQLAr4ujZUjF/D/jHEVXdWIOQCM/+Ogwxg5AossU0LEXBEAQ2nCvPAvlPzfnZxT0z+m/RLNMdtzj9b/kFq10G5bxv7LWhtEKWd+/VjOC8CiXrz/Dd1pNu3/ZP052BQBE794/AOTsebcG1D/GkKPaphKgP/+DfVJ009C/Z8G5/eU84L82HDMl4qXgv2w9OlAX5NG/eC3BzUrVcb8c3Mh6ZHipvyw33JuDoNO/hXtmuGYr17/Af5bWRc6wvyPOqYpSkdg/74mLVYRO1z+A/Ww5IaS3P/4s6YKYb5Y/LJ42REfF0D8XEreq73fVP0VYRaw1a8M/Y/tWGx+un78mif6PmeFePys0/Yh756w/uJs0z02ZcT8T2DTmQJqtv0XTeBwCube/MDMuw5hgur8O34xhVbi2v6wjXqPmS7G/Azu64TtLsL8Im3JHxrKfv7TZaRrRdre/qJlqS54Oub/fEsVFu06sv7u9IKj5gq+/oWlIY/Xvs78+HXgQlgyzvyUah/+Ly6u/6SWkp7qxor+7l2LasRKYv6qlreOlUpS/32lpaKfRk79AGX9xnUWYvwTjCOQeA5q/XqtQPqsukr+Eop85g3BpP/JIQb8IfaE/vSWi+1R+rT8bijRJohKvPzYr/000t6Y/OSutUPZnmD884BWu93VxP7hY6DizLGs/LDiBmG1vhz/757gG9a6gPzUhXaFM+ak/zJLcbj2bsD9uVL6fzuCyP4Pq51C0GbQ/pOQjgFfftD/pp5dbw4y1P+lnLJJdBrU/\",\"dtype\":\"float64\",\"shape\":[75]},\"y\":{\"__ndarray__\":\"GhExyth1ND/Sv8nbtpRIP2vylNV0PVE/aTum7souWD/At0SJ8fVgPw3Iuahxymc/MSNhhJWvcD/bTfBN02d3P2zb5nxnaoA/CD5h5MAGhz8NmeH1TyaQP+zrCsc9p5Y/LbKd76fGnz/bLW5ISEmmPww9YvTcQq8/JV2OstnstT8Er5Y7M8G+P0c+r3jqkcU/5h99k6ZBzj88bCIzFzjVP4enV8oyxN0//yH99nXg5D8qOpLLf0jtP5kqGJXUifQ/c9cS8kHP/D+/DpwzojQEQIEmwoanVwxA4lgXt9HgE0BSSZ2AJuIbQAMJih9jjiNA5q4l5INuK0AwTKYKRj0zQNv5fmq8/DpAaCJseHrtQkB/+zpwzoxKQM3MzMzMeFJAZmZmZmZqWEAAAAAAAFxeQM3MzMzMJmJAmpmZmZkfZUBmZmZmZhhoQDMzMzMzEWtAAAAAAAAKbkBmZmZmZoFwQM3MzMzM/XFAMzMzMzN6c0CamZmZmfZ0QAAAAAAAc3ZAZmZmZmbvd0DNzMzMzGt5QDMzMzMz6HpAmpmZmZlkfEAAAAAAAOF9QGZmZmZmXX9AZmZmZuZsgECamZmZGSuBQM3MzMxM6YFAAAAAAICngkAzMzMzs2WDQGZmZmbmI4RAmpmZmRnihEDNzMzMTKCFQAAAAACAXoZAMzMzM7Mch0BmZmZm5tqHQJqZmZkZmYhAzczMzExXiUAAAAAAgBWKQDMzMzOz04pAZmZmZuaRi0CamZmZGVCMQM3MzMxMDo1AAAAAAIDMjUAzMzMzs4qOQGZmZmbmSI9A\",\"dtype\":\"float64\",\"shape\":[75]}},\"selected\":{\"id\":\"b8db1f06-f908-44d1-8443-894f8d20ac20\",\"type\":\"Selection\"},\"selection_policy\":{\"id\":\"45b38f98-54f6-4ef4-8139-e2c98cc5804e\",\"type\":\"UnionRenderers\"}},\"id\":\"3311d136-76e2-4c6b-bde6-36e606f1a4c3\",\"type\":\"ColumnDataSource\"},{\"attributes\":{\"data_source\":{\"id\":\"7e28f2b7-71cb-43f2-ab00-0a90c66f06b3\",\"type\":\"ColumnDataSource\"},\"glyph\":{\"id\":\"a97b3f27-f549-4044-8d55-94f6cb25e1d3\",\"type\":\"Line\"},\"hover_glyph\":null,\"muted_glyph\":null,\"nonselection_glyph\":{\"id\":\"e2b6924d-b351-4fa3-a3b7-aa9a81770898\",\"type\":\"Line\"},\"selection_glyph\":null,\"view\":{\"id\":\"5b4246a3-880f-4889-8a7d-96fdf35e5ae5\",\"type\":\"CDSView\"}},\"id\":\"edfbe665-b7c5-489a-a016-e916db1bf061\",\"type\":\"GlyphRenderer\"},{\"attributes\":{\"line_alpha\":0.1,\"line_color\":\"#1f77b4\",\"line_width\":1.5,\"x\":{\"field\":\"x\"},\"y\":{\"field\":\"y\"}},\"id\":\"e2b6924d-b351-4fa3-a3b7-aa9a81770898\",\"type\":\"Line\"},{\"attributes\":{\"data_source\":{\"id\":\"0a62b347-dcd1-48c3-b7da-c583d4ab8465\",\"type\":\"ColumnDataSource\"},\"glyph\":{\"id\":\"ec1f75e1-7abf-44dd-bb90-a299d5b2b751\",\"type\":\"Circle\"},\"hover_glyph\":null,\"muted_glyph\":null,\"nonselection_glyph\":{\"id\":\"76687381-e36f-4ead-a872-e1f0c06ea201\",\"type\":\"Circle\"},\"selection_glyph\":null,\"view\":{\"id\":\"7669f763-b7c8-4196-b6f5-82ccd3a90e20\",\"type\":\"CDSView\"}},\"id\":\"c1faea4e-085b-41ff-a27a-4bf2bb21f92f\",\"type\":\"GlyphRenderer\"},{\"attributes\":{},\"id\":\"9c065ff5-de48-40da-a99e-f494b84d04d2\",\"type\":\"BasicTicker\"},{\"attributes\":{\"fill_alpha\":{\"value\":0.1},\"fill_color\":{\"value\":\"#1f77b4\"},\"line_alpha\":{\"value\":0.1},\"line_color\":{\"value\":\"#1f77b4\"},\"x\":{\"field\":\"x\"},\"y\":{\"field\":\"y\"}},\"id\":\"cedf4124-ad06-40c7-9e98-3c6586202386\",\"type\":\"Circle\"},{\"attributes\":{\"axis_label\":\"cooling rate [K/day]\",\"formatter\":{\"id\":\"9d368a10-5853-4459-bca2-d2854a86df96\",\"type\":\"BasicTickFormatter\"},\"plot\":{\"id\":\"a883d9df-5f94-4959-a638-e10547df6891\",\"subtype\":\"Figure\",\"type\":\"Plot\"},\"ticker\":{\"id\":\"df1cf8b7-a7a3-4ba8-a555-d5c9c0edf78b\",\"type\":\"BasicTicker\"}},\"id\":\"b04a882d-32ab-418e-8ebd-0501b43fb4ed\",\"type\":\"LinearAxis\"},{\"attributes\":{\"line_alpha\":0.1,\"line_color\":\"#1f77b4\",\"line_width\":1.5,\"x\":{\"field\":\"x\"},\"y\":{\"field\":\"y\"}},\"id\":\"7664055a-8c9d-43e7-85ea-a9ac81cecf4b\",\"type\":\"Line\"},{\"attributes\":{\"callback\":null,\"data\":{\"x\":{\"__ndarray__\":\"MXhf+wfXU0AZbvNjswdFQLQWsEQVdUFA5TlpnhT9QUB/x1dOYK05QImjxHmcEjZA9jYDSBB3L0AISPl4H6wqQBPuuwfAzyJAOcHprUZAIUB7WWpkesAXQJoT1Uq+ChVArO/8u0EXCkBgVNlshzgCQMeNQ+Nzu/I/POwv1Qzh+D9QxMRmcj8DQOrE7tC4mAxAQsLBRIlHEkAi4cPYoDEXQEeDpjRjzB1ASZ0GEfCuI0DVFj11sssnQOMiVKSMHyhAWRHvUxNoJEDo8cjD4g8gQLGGvR2NDRpAdpI3nV5oFECtyWH9Lp4QQIZQd9bvmwtAkshlnu1BBkBMysnQf1UAQHZJU/DYZ/c/HoEhV+G48T/rSm4vc/TmP3EgV4cD49g/xmy6+4w7zz+bEsjh3uDDPw5SRMRogKs/4GPKdPc1a78lazVXN1vCP/B84ODeUug/LOyxgXDV9z+/DBHyZAwAQAOIY+fy/QFAahF3XKCUAECV0GHvGsz+P+X4k4Nhvf0/RO/IqI98/T8rkW+v/zT9P59vGMDsAv0/zEX7plCY/D/E3siS8kj7P2yUMv+hDvs/RmrXDaYs+z+c9f5GCO36P58nVCbr7vo/Qus8hbcy/D+rD5hFMCf9P4t6dxofnPw/bRp4QYZ2/D/q8NNiN2b8P5YTVw9ESPw/l1Dy0X/K+j+WKih3ZdD5P2k8OYxHjvk/hceGh5N4+T8lpPahWSn5P6vJnePt4vY/UuhmxnXI9T8miFqdE+D0Pz7qfx5CR/Q/0khvq2US9D9LfVdHQGv0P9syeEmwYfg/\",\"dtype\":\"float64\",\"shape\":[75]},\"y\":{\"__ndarray__\":\"hLndy31yND/6fmq8dJNIP8n9DkWBPlE/aDum7souWD/b4a/JGvVgP9f34SAhymc/ZvM4DOavcD+z0M5pFmh3PxuC4zJuaoA/xjcUPlsHhz8uHAjJAiaQP9ieWRKgppY/oI7HDFTGnz+a5h2n6EimPzS6g9iZQq8/IuAQqtTstT9SSZ2AJsK+P4nS3uALk8U/ih9j7lpCzj+ASL99HTjVP4enV8oyxN0/ACL99nXg5D9fmEwVjErtPyUGgZVDi/Q/AiuHFtnO/D9OYhBYOTQEQPHSTWIQWAxA4XoUrkfhE0D8qfHSTeIbQMh2vp8ajyNArkfhehRuK0Bcj8L1KDwzQFyPwvUo/DpAPgrXo3DtQkDNzMzMzIxKQClcj8L1eFJAKVyPwvVoWECamZmZmVleQGZmZmZmJmJAAAAAAAAgZUCamZmZmRloQJqZmZmZEWtAmpmZmZkJbkCamZmZmYFwQGZmZmZm/nFAZmZmZmZ6c0BmZmZmZvZ0QDQzMzMzc3ZAAAAAAADwd0AAAAAAAGx5QAAAAAAA6HpAzMzMzMxkfEDMzMzMzOB9QM3MzMzMXH9AzczMzMxsgEAzMzMzMyuBQDMzMzMz6YFAMzMzMzOngkCamZmZmWWDQAAAAAAAJIRAAAAAAADihEAAAAAAAKCFQGZmZmZmXoZAzczMzMwch0DNzMzMzNqHQM3MzMzMmIhAMzMzMzNXiUCamZmZmRWKQAAAAAAA1IpAAAAAAACSi0AAAAAAAFCMQGZmZmZmDo1AzczMzMzMjUDNzMzMzIqOQM3MzMzMSI9A\",\"dtype\":\"float64\",\"shape\":[75]}},\"selected\":{\"id\":\"cf3aa819-377f-41b6-9359-97d491a86e66\",\"type\":\"Selection\"},\"selection_policy\":{\"id\":\"7aba97fc-0852-4dfa-af21-82dcbb427d3a\",\"type\":\"UnionRenderers\"}},\"id\":\"7e28f2b7-71cb-43f2-ab00-0a90c66f06b3\",\"type\":\"ColumnDataSource\"},{\"attributes\":{\"data_source\":{\"id\":\"d96326b1-4041-4727-9717-a9b26d54a8bc\",\"type\":\"ColumnDataSource\"},\"glyph\":{\"id\":\"c398c714-4a77-4b70-add2-21614ecf380c\",\"type\":\"Line\"},\"hover_glyph\":null,\"muted_glyph\":null,\"nonselection_glyph\":{\"id\":\"75b0a683-67cf-4bec-9ba4-230a2ef44b63\",\"type\":\"Line\"},\"selection_glyph\":null,\"view\":{\"id\":\"a4ffecf6-e8fd-455a-b087-0cf5b19c0f15\",\"type\":\"CDSView\"}},\"id\":\"729e81df-8a57-4191-b13c-09180c75c799\",\"type\":\"GlyphRenderer\"},{\"attributes\":{},\"id\":\"2f22e6ea-5cb1-4cbd-bd72-d4f8abb2c45a\",\"type\":\"SaveTool\"},{\"attributes\":{\"source\":{\"id\":\"d96326b1-4041-4727-9717-a9b26d54a8bc\",\"type\":\"ColumnDataSource\"}},\"id\":\"a4ffecf6-e8fd-455a-b087-0cf5b19c0f15\",\"type\":\"CDSView\"},{\"attributes\":{\"source\":{\"id\":\"0a62b347-dcd1-48c3-b7da-c583d4ab8465\",\"type\":\"ColumnDataSource\"}},\"id\":\"7669f763-b7c8-4196-b6f5-82ccd3a90e20\",\"type\":\"CDSView\"},{\"attributes\":{\"children\":[{\"id\":\"a883d9df-5f94-4959-a638-e10547df6891\",\"subtype\":\"Figure\",\"type\":\"Plot\"},{\"id\":\"81f7bcf8-58e1-4bf2-a046-3de0eac62f17\",\"subtype\":\"Figure\",\"type\":\"Plot\"},{\"id\":\"3fd5365f-9c63-4fdd-af1b-38eddbc03650\",\"subtype\":\"Figure\",\"type\":\"Plot\"}]},\"id\":\"ad5577c1-62cd-4940-bd28-855cf5e01a93\",\"type\":\"Row\"},{\"attributes\":{\"callback\":null,\"data\":{\"x\":{\"__ndarray__\":\"cm1sTMT3VEDEyvjosEJHQOKI6DjzCUNArgQWV9awPkB9Lm8XG3M4QEz+Qv6iYzNA7eV8HaPLLkCX1QHyTpMoQFBmYSYetiNAUB04GtGpH0AmFyVE5j8ZQJca9QPGqBNALJP+OOHHDEBNxaf7QF8AQKtislomWuw/cW2dcO6A9T/uJJvfPu0EQIaQLTI/JQ1AxGiII+PmEkCJvfVeuCsYQD6ZBhGbHB9AXQw69DTYJEAsubcwKucqQNuT9D5OmipAJyi3szEJJUBlNebh5WkgQDDcPHBr2xlArtlANXuQFEBdJadFHckQQI2Avh0ZsQtAjYiwt1rsBUCL0SDoVBgAQK6C0nEEjvc/CggLSme58T9sXU2orFPnP0v0JYz9Gdg/vT38vxYczD9nBQTe6kHHP1IhkEXJwKo/8OZnhCVAub+xtVgCpmqzP6DUpY6g0+k/PKK3T1h4+D8RTDjQc1EAQG/dAQs7TwJAQt2eHpPLAEBWEh074x//PyCap9ZSGf4/rEzaTySm/T+7aXhHRmr9P688KeqeNP0/ruZ4EemD/D8olrZcn9T7P0+vNc9hW/s/i9VVL+4P+z+0NzC24uz6P8731Kza8vo/xFf4SHzq+z+gYyHpvHb8P68ROkiFevw/BAjYdCga/D8AUp8VbW77P3JrF/nKmvo/qCQeGfq++T/dplwHJfn4P2G4p+Uva/g/OzZ0RqMZ+D8dmn/iar73P/OuA7Ka8PY/gaaeQHGn9T9hkyjAH1L0P3aZGhdAU/M/n8VP/g7P8j+90HxHNvfyPwhNBtgrqvk/\",\"dtype\":\"float64\",\"shape\":[75]},\"y\":{\"__ndarray__\":\"GhExyth1ND/Sv8nbtpRIP2vylNV0PVE/aTum7souWD/At0SJ8fVgPw3Iuahxymc/MSNhhJWvcD/bTfBN02d3P2zb5nxnaoA/CD5h5MAGhz8NmeH1TyaQP+zrCsc9p5Y/LbKd76fGnz/bLW5ISEmmPww9YvTcQq8/JV2OstnstT8Er5Y7M8G+P0c+r3jqkcU/5h99k6ZBzj88bCIzFzjVP4enV8oyxN0//yH99nXg5D8qOpLLf0jtP5kqGJXUifQ/c9cS8kHP/D+/DpwzojQEQIEmwoanVwxA4lgXt9HgE0BSSZ2AJuIbQAMJih9jjiNA5q4l5INuK0AwTKYKRj0zQNv5fmq8/DpAaCJseHrtQkB/+zpwzoxKQM3MzMzMeFJAZmZmZmZqWEAAAAAAAFxeQM3MzMzMJmJAmpmZmZkfZUBmZmZmZhhoQDMzMzMzEWtAAAAAAAAKbkBmZmZmZoFwQM3MzMzM/XFAMzMzMzN6c0CamZmZmfZ0QAAAAAAAc3ZAZmZmZmbvd0DNzMzMzGt5QDMzMzMz6HpAmpmZmZlkfEAAAAAAAOF9QGZmZmZmXX9AZmZmZuZsgECamZmZGSuBQM3MzMxM6YFAAAAAAICngkAzMzMzs2WDQGZmZmbmI4RAmpmZmRnihEDNzMzMTKCFQAAAAACAXoZAMzMzM7Mch0BmZmZm5tqHQJqZmZkZmYhAzczMzExXiUAAAAAAgBWKQDMzMzOz04pAZmZmZuaRi0CamZmZGVCMQM3MzMxMDo1AAAAAAIDMjUAzMzMzs4qOQGZmZmbmSI9A\",\"dtype\":\"float64\",\"shape\":[75]}},\"selected\":{\"id\":\"14e42179-a7d4-470c-94db-1e6aab9c9ef6\",\"type\":\"Selection\"},\"selection_policy\":{\"id\":\"22815af7-e9e0-4f3b-b0e1-e26a14588925\",\"type\":\"UnionRenderers\"}},\"id\":\"4336ed7a-27ee-4cda-9c3b-c7ab55433f67\",\"type\":\"ColumnDataSource\"},{\"attributes\":{\"source\":{\"id\":\"3311d136-76e2-4c6b-bde6-36e606f1a4c3\",\"type\":\"ColumnDataSource\"}},\"id\":\"4d26d5a1-f98f-4282-9027-fb1ea2e58292\",\"type\":\"CDSView\"},{\"attributes\":{\"plot\":null,\"text\":\"\"},\"id\":\"6de164d6-dd61-4bfd-9b32-1bf65ff70687\",\"type\":\"Title\"},{\"attributes\":{\"fill_alpha\":{\"value\":0.7},\"fill_color\":{\"value\":\"#984ea3\"},\"line_alpha\":{\"value\":0.7},\"line_color\":{\"value\":\"#984ea3\"},\"x\":{\"field\":\"x\"},\"y\":{\"field\":\"y\"}},\"id\":\"0487512b-72a1-43bf-bcd0-da863e05a43d\",\"type\":\"Square\"},{\"attributes\":{\"source\":{\"id\":\"4336ed7a-27ee-4cda-9c3b-c7ab55433f67\",\"type\":\"ColumnDataSource\"}},\"id\":\"6e8e86f3-5a65-4533-9d2d-124d87d3c879\",\"type\":\"CDSView\"},{\"attributes\":{\"label\":{\"value\":\"CLIRAD (single-run)\"},\"renderers\":[{\"id\":\"100322b4-8d04-4176-9348-e67a21cecbbc\",\"type\":\"GlyphRenderer\"}]},\"id\":\"8c30d980-ab21-4a0b-b1fb-ea8f9e14b31e\",\"type\":\"LegendItem\"},{\"attributes\":{\"fill_alpha\":{\"value\":0.7},\"fill_color\":{\"value\":\"#4daf4a\"},\"line_alpha\":{\"value\":0.7},\"line_color\":{\"value\":\"#4daf4a\"},\"x\":{\"field\":\"x\"},\"y\":{\"field\":\"y\"}},\"id\":\"a6d53604-f3e6-4a85-867c-1cf4cc40178d\",\"type\":\"Circle\"},{\"attributes\":{\"dimension\":1,\"plot\":{\"id\":\"a883d9df-5f94-4959-a638-e10547df6891\",\"subtype\":\"Figure\",\"type\":\"Plot\"},\"ticker\":{\"id\":\"9c065ff5-de48-40da-a99e-f494b84d04d2\",\"type\":\"BasicTicker\"}},\"id\":\"c59744fb-56e0-41f6-a16b-0fbad1bc178b\",\"type\":\"Grid\"},{\"attributes\":{\"line_alpha\":0.5,\"line_color\":\"#984ea3\",\"line_width\":1.5,\"x\":{\"field\":\"x\"},\"y\":{\"field\":\"y\"}},\"id\":\"a97b3f27-f549-4044-8d55-94f6cb25e1d3\",\"type\":\"Line\"},{\"attributes\":{},\"id\":\"18b037a1-51a9-4b75-9b5e-f759cc1f50ad\",\"type\":\"BasicTickFormatter\"},{\"attributes\":{\"axis_label\":\"pressure [mb]\",\"formatter\":{\"id\":\"18b037a1-51a9-4b75-9b5e-f759cc1f50ad\",\"type\":\"BasicTickFormatter\"},\"plot\":{\"id\":\"a883d9df-5f94-4959-a638-e10547df6891\",\"subtype\":\"Figure\",\"type\":\"Plot\"},\"ticker\":{\"id\":\"9c065ff5-de48-40da-a99e-f494b84d04d2\",\"type\":\"BasicTicker\"}},\"id\":\"83e27795-50a3-4620-a33b-889adbc864cd\",\"type\":\"LinearAxis\"},{\"attributes\":{\"label\":{\"value\":\"CLIRAD (single-run)\"},\"renderers\":[{\"id\":\"88840caf-ed35-48f7-9c68-7098312f7d0b\",\"type\":\"GlyphRenderer\"}]},\"id\":\"fe7442f2-fdd3-4452-b28b-f6ab08742359\",\"type\":\"LegendItem\"},{\"attributes\":{\"fill_alpha\":{\"value\":0.1},\"fill_color\":{\"value\":\"#1f77b4\"},\"line_alpha\":{\"value\":0.1},\"line_color\":{\"value\":\"#1f77b4\"},\"x\":{\"field\":\"x\"},\"y\":{\"field\":\"y\"}},\"id\":\"4a053a44-9d20-41bc-9a1a-f7d13d0facfc\",\"type\":\"Square\"},{\"attributes\":{},\"id\":\"397f2ae9-ef50-4922-b298-5e17d9e8bb7d\",\"type\":\"Selection\"},{\"attributes\":{\"data_source\":{\"id\":\"3311d136-76e2-4c6b-bde6-36e606f1a4c3\",\"type\":\"ColumnDataSource\"},\"glyph\":{\"id\":\"a369493c-4bf4-4eb8-b8b8-a2d5ac8cb661\",\"type\":\"Line\"},\"hover_glyph\":null,\"muted_glyph\":null,\"nonselection_glyph\":{\"id\":\"7664055a-8c9d-43e7-85ea-a9ac81cecf4b\",\"type\":\"Line\"},\"selection_glyph\":null,\"view\":{\"id\":\"4d26d5a1-f98f-4282-9027-fb1ea2e58292\",\"type\":\"CDSView\"}},\"id\":\"ecf70c44-e24c-495f-b97b-d906c0ea9110\",\"type\":\"GlyphRenderer\"},{\"attributes\":{\"active_drag\":\"auto\",\"active_inspect\":\"auto\",\"active_scroll\":\"auto\",\"active_tap\":\"auto\",\"tools\":[{\"id\":\"cf32dc69-6977-4175-8e33-57f5996da591\",\"type\":\"PanTool\"},{\"id\":\"97664722-fc7e-42ca-b3ce-0075c42ea433\",\"type\":\"WheelZoomTool\"},{\"id\":\"7c1d5932-8153-47bb-a0e7-e3f1d3255531\",\"type\":\"BoxZoomTool\"},{\"id\":\"32263048-f728-407b-8e39-c64278d3233a\",\"type\":\"SaveTool\"},{\"id\":\"8a0f53c1-6450-4847-8f96-14ab2f447c00\",\"type\":\"ResetTool\"},{\"id\":\"20307c1f-8022-48d9-9e48-0ff30b25285f\",\"type\":\"HelpTool\"}]},\"id\":\"e07d7ff6-8f0e-4c58-9852-56f2e657fd69\",\"type\":\"Toolbar\"},{\"attributes\":{\"line_alpha\":0.5,\"line_color\":\"#377eb8\",\"line_dash\":[6],\"line_width\":4,\"x\":{\"field\":\"x\"},\"y\":{\"field\":\"y\"}},\"id\":\"91ee4bc5-f544-421d-b09e-cf98a7b7cbdd\",\"type\":\"Line\"},{\"attributes\":{\"label\":{\"value\":\"CRD\"},\"renderers\":[{\"id\":\"9a1189a0-89b7-4bce-ba19-f9832aa9bf79\",\"type\":\"GlyphRenderer\"},{\"id\":\"729e81df-8a57-4191-b13c-09180c75c799\",\"type\":\"GlyphRenderer\"}]},\"id\":\"6eb531c2-fb68-4ce0-8c21-643e380e92d1\",\"type\":\"LegendItem\"},{\"attributes\":{\"callback\":null,\"data\":{\"x\":{\"__ndarray__\":\"MXhf+wfXU0AZbvNjswdFQLQWsEQVdUFA5TlpnhT9QUB/x1dOYK05QImjxHmcEjZA9jYDSBB3L0AISPl4H6wqQBPuuwfAzyJAOcHprUZAIUB7WWpkesAXQJoT1Uq+ChVArO/8u0EXCkBgVNlshzgCQMeNQ+Nzu/I/POwv1Qzh+D9QxMRmcj8DQOrE7tC4mAxAQsLBRIlHEkAi4cPYoDEXQEeDpjRjzB1ASZ0GEfCuI0DVFj11sssnQOMiVKSMHyhAWRHvUxNoJEDo8cjD4g8gQLGGvR2NDRpAdpI3nV5oFECtyWH9Lp4QQIZQd9bvmwtAkshlnu1BBkBMysnQf1UAQHZJU/DYZ/c/HoEhV+G48T/rSm4vc/TmP3EgV4cD49g/xmy6+4w7zz+bEsjh3uDDPw5SRMRogKs/4GPKdPc1a78lazVXN1vCP/B84ODeUug/LOyxgXDV9z+/DBHyZAwAQAOIY+fy/QFAahF3XKCUAECV0GHvGsz+P+X4k4Nhvf0/RO/IqI98/T8rkW+v/zT9P59vGMDsAv0/zEX7plCY/D/E3siS8kj7P2yUMv+hDvs/RmrXDaYs+z+c9f5GCO36P58nVCbr7vo/Qus8hbcy/D+rD5hFMCf9P4t6dxofnPw/bRp4QYZ2/D/q8NNiN2b8P5YTVw9ESPw/l1Dy0X/K+j+WKih3ZdD5P2k8OYxHjvk/hceGh5N4+T8lpPahWSn5P6vJnePt4vY/UuhmxnXI9T8miFqdE+D0Pz7qfx5CR/Q/0khvq2US9D9LfVdHQGv0P9syeEmwYfg/\",\"dtype\":\"float64\",\"shape\":[75]},\"y\":{\"__ndarray__\":\"hLndy31yND/6fmq8dJNIP8n9DkWBPlE/aDum7souWD/b4a/JGvVgP9f34SAhymc/ZvM4DOavcD+z0M5pFmh3PxuC4zJuaoA/xjcUPlsHhz8uHAjJAiaQP9ieWRKgppY/oI7HDFTGnz+a5h2n6EimPzS6g9iZQq8/IuAQqtTstT9SSZ2AJsK+P4nS3uALk8U/ih9j7lpCzj+ASL99HTjVP4enV8oyxN0/ACL99nXg5D9fmEwVjErtPyUGgZVDi/Q/AiuHFtnO/D9OYhBYOTQEQPHSTWIQWAxA4XoUrkfhE0D8qfHSTeIbQMh2vp8ajyNArkfhehRuK0Bcj8L1KDwzQFyPwvUo/DpAPgrXo3DtQkDNzMzMzIxKQClcj8L1eFJAKVyPwvVoWECamZmZmVleQGZmZmZmJmJAAAAAAAAgZUCamZmZmRloQJqZmZmZEWtAmpmZmZkJbkCamZmZmYFwQGZmZmZm/nFAZmZmZmZ6c0BmZmZmZvZ0QDQzMzMzc3ZAAAAAAADwd0AAAAAAAGx5QAAAAAAA6HpAzMzMzMxkfEDMzMzMzOB9QM3MzMzMXH9AzczMzMxsgEAzMzMzMyuBQDMzMzMz6YFAMzMzMzOngkCamZmZmWWDQAAAAAAAJIRAAAAAAADihEAAAAAAAKCFQGZmZmZmXoZAzczMzMwch0DNzMzMzNqHQM3MzMzMmIhAMzMzMzNXiUCamZmZmRWKQAAAAAAA1IpAAAAAAACSi0AAAAAAAFCMQGZmZmZmDo1AzczMzMzMjUDNzMzMzIqOQM3MzMzMSI9A\",\"dtype\":\"float64\",\"shape\":[75]}},\"selected\":{\"id\":\"a23ebb0a-6615-4ba3-a0e7-0467ff8d6128\",\"type\":\"Selection\"},\"selection_policy\":{\"id\":\"a1dc6987-5ee4-415c-89e4-210b50007c8f\",\"type\":\"UnionRenderers\"}},\"id\":\"756fb019-b330-4b27-805a-5466a7a70c3c\",\"type\":\"ColumnDataSource\"},{\"attributes\":{\"label\":{\"value\":\"CRD\"},\"renderers\":[{\"id\":\"6999244b-3e64-4dec-8087-00e58358da36\",\"type\":\"GlyphRenderer\"},{\"id\":\"ec5bbcc6-a4a7-434a-b5a2-2c4418f6f5dd\",\"type\":\"GlyphRenderer\"}]},\"id\":\"df06af8d-7ffb-44f2-a22a-4b43da77d7b7\",\"type\":\"LegendItem\"},{\"attributes\":{\"callback\":null,\"data\":{\"x\":{\"__ndarray__\":\"EFTPEMULEsBY5Soo7NcRwOAih0PfTQnAcLzxlkslFUAgkIluU6TzP+gpDdzLdwVAICHKUKVt1T+Ik7s3hMbwP6AHr9TDy9y/ECnbDOK15j+w2qv7vfbXvzCQ/22EH9Y/ABwN6PuE1b8w8RgTZ5TNP8ZxqdeCOdI/WPaTJPMAyz/gCWaNx9zKv4Bz2SfMkLG/QNDU2Dvrw7/gjDvG8ELPv3BfAcZ9A9W/QPE2M06U4r+4EtXbvdv4v8CHA9UM1vO/wNkC+csj1L9A31CHx4DGv4BAVcDWEKk/AJyjBEwOpL8A2K0iJHelvwAHMEdHKYW/QAFQrblkpT+AYHxUdJWePwCcnL/AFYO/AIDdMF2+IL9AoMQ3Xs6Hv8CEJWa/IIk/SHjx3bH7mD9glt/hXwibv4AXhtbv81c/0ZPByHVmuD+ZIBKsyEuxPwB7VdwaDKi/AMK2wPlcpL+A1M+Jt0OhvwBblecIUqS/AOzlE2F5m79AcNDuEvKUv8BO6MRU/Ja/ALSuiFPKhL8ASGwETKOKvwCIZggV2Yi/AB5fgpVndD+A7LY9mXWhv8C4xgD0L5O/ALuUgd63fD8AAPReZ8gCPwB4gQY0fE+/gN8kEc8Okj9ggdWOaw6mPwButB7pzIA/QJoEKHMXlz9A3ZOmSfmuP0CC+mOR17o/8L5CjVu4sD8gd3D5DeiqP4BAGGl6MbI/oBQpEQTvtT+AoHD36662PwCQysucWWu/gOgg5EKCgD+gmD6me76hPwAZquxAgK4/MDP40Wo1tD/gyKr9n0C3P9Ci4ei4h7S/\",\"dtype\":\"float64\",\"shape\":[75]},\"y\":{\"__ndarray__\":\"GhExyth1ND/Sv8nbtpRIP2vylNV0PVE/aTum7souWD/At0SJ8fVgPw3Iuahxymc/MSNhhJWvcD/bTfBN02d3P2zb5nxnaoA/CD5h5MAGhz8NmeH1TyaQP+zrCsc9p5Y/LbKd76fGnz/bLW5ISEmmPww9YvTcQq8/JV2OstnstT8Er5Y7M8G+P0c+r3jqkcU/5h99k6ZBzj88bCIzFzjVP4enV8oyxN0//yH99nXg5D8qOpLLf0jtP5kqGJXUifQ/c9cS8kHP/D+/DpwzojQEQIEmwoanVwxA4lgXt9HgE0BSSZ2AJuIbQAMJih9jjiNA5q4l5INuK0AwTKYKRj0zQNv5fmq8/DpAaCJseHrtQkB/+zpwzoxKQM3MzMzMeFJAZmZmZmZqWEAAAAAAAFxeQM3MzMzMJmJAmpmZmZkfZUBmZmZmZhhoQDMzMzMzEWtAAAAAAAAKbkBmZmZmZoFwQM3MzMzM/XFAMzMzMzN6c0CamZmZmfZ0QAAAAAAAc3ZAZmZmZmbvd0DNzMzMzGt5QDMzMzMz6HpAmpmZmZlkfEAAAAAAAOF9QGZmZmZmXX9AZmZmZuZsgECamZmZGSuBQM3MzMxM6YFAAAAAAICngkAzMzMzs2WDQGZmZmbmI4RAmpmZmRnihEDNzMzMTKCFQAAAAACAXoZAMzMzM7Mch0BmZmZm5tqHQJqZmZkZmYhAzczMzExXiUAAAAAAgBWKQDMzMzOz04pAZmZmZuaRi0CamZmZGVCMQM3MzMxMDo1AAAAAAIDMjUAzMzMzs4qOQGZmZmbmSI9A\",\"dtype\":\"float64\",\"shape\":[75]}},\"selected\":{\"id\":\"8c18153a-d4c6-440b-aee5-59e96153a2c2\",\"type\":\"Selection\"},\"selection_policy\":{\"id\":\"0c0ca8f4-6f48-4a71-975f-3ea6e239750d\",\"type\":\"UnionRenderers\"}},\"id\":\"37b61e05-3596-47e4-91d0-ed96f6f40b73\",\"type\":\"ColumnDataSource\"},{\"attributes\":{\"fill_alpha\":{\"value\":0.1},\"fill_color\":{\"value\":\"#1f77b4\"},\"line_alpha\":{\"value\":0.1},\"line_color\":{\"value\":\"#1f77b4\"},\"x\":{\"field\":\"x\"},\"y\":{\"field\":\"y\"}},\"id\":\"76687381-e36f-4ead-a872-e1f0c06ea201\",\"type\":\"Circle\"},{\"attributes\":{},\"id\":\"6d09f251-9d55-401e-a81d-a3650d96fa2d\",\"type\":\"PanTool\"},{\"attributes\":{\"data_source\":{\"id\":\"37b61e05-3596-47e4-91d0-ed96f6f40b73\",\"type\":\"ColumnDataSource\"},\"glyph\":{\"id\":\"91ee4bc5-f544-421d-b09e-cf98a7b7cbdd\",\"type\":\"Line\"},\"hover_glyph\":null,\"muted_glyph\":null,\"nonselection_glyph\":{\"id\":\"a5ad8214-54d9-4828-b4f3-03e333c6bbb8\",\"type\":\"Line\"},\"selection_glyph\":null,\"view\":{\"id\":\"f09ba8fe-3698-4f94-8015-28b9cfaa4dbf\",\"type\":\"CDSView\"}},\"id\":\"b77a3fe7-d027-43f0-aab8-9ea3e5c6e4ae\",\"type\":\"GlyphRenderer\"},{\"attributes\":{\"data_source\":{\"id\":\"4336ed7a-27ee-4cda-9c3b-c7ab55433f67\",\"type\":\"ColumnDataSource\"},\"glyph\":{\"id\":\"a6d53604-f3e6-4a85-867c-1cf4cc40178d\",\"type\":\"Circle\"},\"hover_glyph\":null,\"muted_glyph\":null,\"nonselection_glyph\":{\"id\":\"cedf4124-ad06-40c7-9e98-3c6586202386\",\"type\":\"Circle\"},\"selection_glyph\":null,\"view\":{\"id\":\"6e8e86f3-5a65-4533-9d2d-124d87d3c879\",\"type\":\"CDSView\"}},\"id\":\"9a1189a0-89b7-4bce-ba19-f9832aa9bf79\",\"type\":\"GlyphRenderer\"},{\"attributes\":{},\"id\":\"7a028c99-af12-4c51-9c82-9e451cd82f13\",\"type\":\"WheelZoomTool\"},{\"attributes\":{\"above\":[{\"id\":\"238da10c-6532-4956-8fa4-29d750fddc9c\",\"type\":\"Legend\"}],\"below\":[{\"id\":\"e0cea2c4-9198-4b0d-bf6c-4869b69dbbfe\",\"type\":\"LinearAxis\"}],\"left\":[{\"id\":\"29fd3ae4-03e8-4662-9116-c6505bd813d1\",\"type\":\"LogAxis\"}],\"plot_width\":300,\"renderers\":[{\"id\":\"e0cea2c4-9198-4b0d-bf6c-4869b69dbbfe\",\"type\":\"LinearAxis\"},{\"id\":\"567c7356-078a-491c-8dfd-41451b893388\",\"type\":\"Grid\"},{\"id\":\"29fd3ae4-03e8-4662-9116-c6505bd813d1\",\"type\":\"LogAxis\"},{\"id\":\"e1358c48-5baf-4d6b-b2ec-b2a268219a7c\",\"type\":\"Grid\"},{\"id\":\"85d2ecb6-2210-476b-8a59-1b8cc7413086\",\"type\":\"BoxAnnotation\"},{\"id\":\"c1faea4e-085b-41ff-a27a-4bf2bb21f92f\",\"type\":\"GlyphRenderer\"},{\"id\":\"ecf70c44-e24c-495f-b97b-d906c0ea9110\",\"type\":\"GlyphRenderer\"},{\"id\":\"b77a3fe7-d027-43f0-aab8-9ea3e5c6e4ae\",\"type\":\"GlyphRenderer\"},{\"id\":\"238da10c-6532-4956-8fa4-29d750fddc9c\",\"type\":\"Legend\"}],\"title\":{\"id\":\"c2727e94-c5c7-4ed2-9802-7ad1e6f7eeeb\",\"type\":\"Title\"},\"toolbar\":{\"id\":\"90a806c9-3242-451c-9856-28470b4d0949\",\"type\":\"Toolbar\"},\"toolbar_location\":null,\"x_range\":{\"id\":\"731a95c3-79a3-4989-9860-2c40d8f64d7c\",\"type\":\"Range1d\"},\"x_scale\":{\"id\":\"34624972-1aff-489d-a35a-42a5ca1fdeff\",\"type\":\"LinearScale\"},\"y_range\":{\"id\":\"b51ddd4f-fad2-43b3-a060-b80a3efe8665\",\"type\":\"Range1d\"},\"y_scale\":{\"id\":\"5a059dfb-df37-4799-98e4-e9bb7ff20f31\",\"type\":\"LogScale\"}},\"id\":\"3fd5365f-9c63-4fdd-af1b-38eddbc03650\",\"subtype\":\"Figure\",\"type\":\"Plot\"},{\"attributes\":{\"callback\":null,\"end\":0.01,\"start\":1020},\"id\":\"0490950b-a50d-4f22-bb63-0c3bfa6983ed\",\"type\":\"Range1d\"},{\"attributes\":{\"callback\":null,\"data\":{\"x\":{\"__ndarray__\":\"cm1sTMT3VEDEyvjosEJHQOKI6DjzCUNArgQWV9awPkB9Lm8XG3M4QEz+Qv6iYzNA7eV8HaPLLkCX1QHyTpMoQFBmYSYetiNAUB04GtGpH0AmFyVE5j8ZQJca9QPGqBNALJP+OOHHDEBNxaf7QF8AQKtislomWuw/cW2dcO6A9T/uJJvfPu0EQIaQLTI/JQ1AxGiII+PmEkCJvfVeuCsYQD6ZBhGbHB9AXQw69DTYJEAsubcwKucqQNuT9D5OmipAJyi3szEJJUBlNebh5WkgQDDcPHBr2xlArtlANXuQFEBdJadFHckQQI2Avh0ZsQtAjYiwt1rsBUCL0SDoVBgAQK6C0nEEjvc/CggLSme58T9sXU2orFPnP0v0JYz9Gdg/vT38vxYczD9nBQTe6kHHP1IhkEXJwKo/8OZnhCVAub+xtVgCpmqzP6DUpY6g0+k/PKK3T1h4+D8RTDjQc1EAQG/dAQs7TwJAQt2eHpPLAEBWEh074x//PyCap9ZSGf4/rEzaTySm/T+7aXhHRmr9P688KeqeNP0/ruZ4EemD/D8olrZcn9T7P0+vNc9hW/s/i9VVL+4P+z+0NzC24uz6P8731Kza8vo/xFf4SHzq+z+gYyHpvHb8P68ROkiFevw/BAjYdCga/D8AUp8VbW77P3JrF/nKmvo/qCQeGfq++T/dplwHJfn4P2G4p+Uva/g/OzZ0RqMZ+D8dmn/iar73P/OuA7Ka8PY/gaaeQHGn9T9hkyjAH1L0P3aZGhdAU/M/n8VP/g7P8j+90HxHNvfyPwhNBtgrqvk/\",\"dtype\":\"float64\",\"shape\":[75]},\"y\":{\"__ndarray__\":\"GhExyth1ND/Sv8nbtpRIP2vylNV0PVE/aTum7souWD/At0SJ8fVgPw3Iuahxymc/MSNhhJWvcD/bTfBN02d3P2zb5nxnaoA/CD5h5MAGhz8NmeH1TyaQP+zrCsc9p5Y/LbKd76fGnz/bLW5ISEmmPww9YvTcQq8/JV2OstnstT8Er5Y7M8G+P0c+r3jqkcU/5h99k6ZBzj88bCIzFzjVP4enV8oyxN0//yH99nXg5D8qOpLLf0jtP5kqGJXUifQ/c9cS8kHP/D+/DpwzojQEQIEmwoanVwxA4lgXt9HgE0BSSZ2AJuIbQAMJih9jjiNA5q4l5INuK0AwTKYKRj0zQNv5fmq8/DpAaCJseHrtQkB/+zpwzoxKQM3MzMzMeFJAZmZmZmZqWEAAAAAAAFxeQM3MzMzMJmJAmpmZmZkfZUBmZmZmZhhoQDMzMzMzEWtAAAAAAAAKbkBmZmZmZoFwQM3MzMzM/XFAMzMzMzN6c0CamZmZmfZ0QAAAAAAAc3ZAZmZmZmbvd0DNzMzMzGt5QDMzMzMz6HpAmpmZmZlkfEAAAAAAAOF9QGZmZmZmXX9AZmZmZuZsgECamZmZGSuBQM3MzMxM6YFAAAAAAICngkAzMzMzs2WDQGZmZmbmI4RAmpmZmRnihEDNzMzMTKCFQAAAAACAXoZAMzMzM7Mch0BmZmZm5tqHQJqZmZkZmYhAzczMzExXiUAAAAAAgBWKQDMzMzOz04pAZmZmZuaRi0CamZmZGVCMQM3MzMxMDo1AAAAAAIDMjUAzMzMzs4qOQGZmZmbmSI9A\",\"dtype\":\"float64\",\"shape\":[75]}},\"selected\":{\"id\":\"4604fd1d-5089-49d7-9023-5b5399ea4036\",\"type\":\"Selection\"},\"selection_policy\":{\"id\":\"f7c1e395-062b-4e99-829a-238043e1e4a6\",\"type\":\"UnionRenderers\"}},\"id\":\"d96326b1-4041-4727-9717-a9b26d54a8bc\",\"type\":\"ColumnDataSource\"},{\"attributes\":{},\"id\":\"800e7e15-d509-49b7-a1ff-2b6f9b19cd8c\",\"type\":\"ResetTool\"},{\"attributes\":{\"line_alpha\":0.1,\"line_color\":\"#1f77b4\",\"line_width\":1.5,\"x\":{\"field\":\"x\"},\"y\":{\"field\":\"y\"}},\"id\":\"75b0a683-67cf-4bec-9ba4-230a2ef44b63\",\"type\":\"Line\"},{\"attributes\":{},\"id\":\"7b28318b-76cb-47bf-a957-fe5c948adc6b\",\"type\":\"WheelZoomTool\"},{\"attributes\":{\"source\":{\"id\":\"7e28f2b7-71cb-43f2-ab00-0a90c66f06b3\",\"type\":\"ColumnDataSource\"}},\"id\":\"5b4246a3-880f-4889-8a7d-96fdf35e5ae5\",\"type\":\"CDSView\"}],\"root_ids\":[\"5c1cd65a-3638-4b9b-a1a0-95c5b1e417d0\"]},\"title\":\"Bokeh Application\",\"version\":\"0.12.16\"}};\n",
       "  var render_items = [{\"docid\":\"2405521c-2f1f-423a-8b71-26504bec0067\",\"elementid\":\"f013a089-6b80-4468-a705-cbc485846d4e\",\"modelid\":\"5c1cd65a-3638-4b9b-a1a0-95c5b1e417d0\"}];\n",
       "  root.Bokeh.embed.embed_items_notebook(docs_json, render_items);\n",
       "\n",
       "  }\n",
       "  if (root.Bokeh !== undefined) {\n",
       "    embed_document(root);\n",
       "  } else {\n",
       "    var attempts = 0;\n",
       "    var timer = setInterval(function(root) {\n",
       "      if (root.Bokeh !== undefined) {\n",
       "        embed_document(root);\n",
       "        clearInterval(timer);\n",
       "      }\n",
       "      attempts++;\n",
       "      if (attempts > 100) {\n",
       "        console.log(\"Bokeh: ERROR: Unable to run BokehJS code because BokehJS library is missing\")\n",
       "        clearInterval(timer);\n",
       "      }\n",
       "    }, 10, root)\n",
       "  }\n",
       "})(window);"
      ],
      "application/vnd.bokehjs_exec.v0+json": ""
     },
     "metadata": {
      "application/vnd.bokehjs_exec.v0+json": {
       "id": "5c1cd65a-3638-4b9b-a1a0-95c5b1e417d0"
      }
     },
     "output_type": "display_data"
    },
    {
     "data": {
      "text/markdown": [
       "*FIGURE.* Cooling rates & difference."
      ],
      "text/plain": [
       "<IPython.core.display.Markdown object>"
      ]
     },
     "metadata": {},
     "output_type": "display_data"
    },
    {
     "data": {
      "text/html": [
       "<a id=\"Fluxes._mls.\"></a>"
      ],
      "text/plain": [
       "<IPython.core.display.HTML object>"
      ]
     },
     "metadata": {},
     "output_type": "display_data"
    },
    {
     "data": {
      "text/markdown": [
       "# Fluxes. mls."
      ],
      "text/plain": [
       "<IPython.core.display.Markdown object>"
      ]
     },
     "metadata": {},
     "output_type": "display_data"
    },
    {
     "data": {
      "text/html": [
       "\n",
       "<div class=\"bk-root\">\n",
       "    <div class=\"bk-plotdiv\" id=\"9085a45f-554c-4da9-a004-2b8cf5e7be65\"></div>\n",
       "</div>"
      ]
     },
     "metadata": {},
     "output_type": "display_data"
    },
    {
     "data": {
      "application/javascript": [
       "(function(root) {\n",
       "  function embed_document(root) {\n",
       "    \n",
       "  var docs_json = {\"504feee2-53a1-45d0-9f36-ca82b6a992c4\":{\"roots\":{\"references\":[{\"attributes\":{\"plot\":{\"id\":\"e2053e3d-e117-4e37-b224-feb9567e8f6d\",\"subtype\":\"Figure\",\"type\":\"Plot\"},\"ticker\":{\"id\":\"87d41b0c-9901-4a7b-832e-5821efc2fa56\",\"type\":\"CategoricalTicker\"}},\"id\":\"a3bed655-958d-49f7-8547-4dddf0464412\",\"type\":\"Grid\"},{\"attributes\":{},\"id\":\"a9bd8dd5-9d22-4683-b657-dbaec9830969\",\"type\":\"ResetTool\"},{\"attributes\":{\"callback\":null,\"data\":{\"band\":[\"1\",\"2\",\"3\",\"4\",\"5\",\"6\",\"7\",\"8\",\"9\",\"10\",\"11\"],\"flux\":{\"__ndarray__\":\"AIMde81dyD8AYEI3wVi1vwBYNyirM4i/ANGnfnO5zj9A+KOoM/fOvwCbDflnBse/QOxLNh5s1j8A4J7nTxutP8BJ06BoHsi/QL8FwBXcvT8AZ1U6DnKtPw==\",\"dtype\":\"float64\",\"shape\":[11]}},\"selected\":{\"id\":\"a88ea0dc-c7e4-4d93-b6c1-53e3451d425f\",\"type\":\"Selection\"},\"selection_policy\":{\"id\":\"e5713f7d-4f2e-4514-8dbf-c28c64e2d251\",\"type\":\"UnionRenderers\"}},\"id\":\"e9e63ace-edaf-4f8d-bd2d-d82cfd22188c\",\"type\":\"ColumnDataSource\"},{\"attributes\":{\"fill_color\":{\"value\":\"#1f77b4\"},\"line_color\":{\"value\":\"#1f77b4\"},\"top\":{\"field\":\"flux\"},\"width\":{\"value\":0.9},\"x\":{\"field\":\"band\"}},\"id\":\"af509617-9a74-4e1f-9e57-24e67d9a0839\",\"type\":\"VBar\"},{\"attributes\":{},\"id\":\"87d41b0c-9901-4a7b-832e-5821efc2fa56\",\"type\":\"CategoricalTicker\"},{\"attributes\":{},\"id\":\"e7ec193b-aa05-4230-9fc0-224cac31a374\",\"type\":\"WheelZoomTool\"},{\"attributes\":{},\"id\":\"c603b8e9-7ee9-4ba1-9da0-b1a7adde8acb\",\"type\":\"CategoricalScale\"},{\"attributes\":{},\"id\":\"5aac866e-6126-47d4-b2ea-aeeaa022d39f\",\"type\":\"PanTool\"},{\"attributes\":{\"axis_label\":\"flux (W m-2)\",\"formatter\":{\"id\":\"73c3a03a-60bb-4d8e-abf7-3cde006de70c\",\"type\":\"BasicTickFormatter\"},\"plot\":{\"id\":\"e2053e3d-e117-4e37-b224-feb9567e8f6d\",\"subtype\":\"Figure\",\"type\":\"Plot\"},\"ticker\":{\"id\":\"6f746d9d-1582-4135-92d5-50482f0f5c4d\",\"type\":\"BasicTicker\"}},\"id\":\"1f631ba0-9c77-4ba2-8a7f-85ffa11bbebf\",\"type\":\"LinearAxis\"},{\"attributes\":{\"callback\":null},\"id\":\"025959b5-08bd-455d-b7e7-87e47481befd\",\"type\":\"DataRange1d\"},{\"attributes\":{\"overlay\":{\"id\":\"81f38889-f6c7-418f-96cd-fbe9e2882b06\",\"type\":\"BoxAnnotation\"}},\"id\":\"82c1f09d-5757-498d-adae-5bf468b683f1\",\"type\":\"BoxZoomTool\"},{\"attributes\":{\"callback\":null,\"factors\":[\"1\",\"2\",\"3\",\"4\",\"5\",\"6\",\"7\",\"8\",\"9\",\"10\",\"11\"]},\"id\":\"51e9a57a-15c0-4789-8446-015f7f408b3b\",\"type\":\"FactorRange\"},{\"attributes\":{\"data_source\":{\"id\":\"603e3d5e-ef45-421a-bec5-89da87affa9d\",\"type\":\"ColumnDataSource\"},\"glyph\":{\"id\":\"af509617-9a74-4e1f-9e57-24e67d9a0839\",\"type\":\"VBar\"},\"hover_glyph\":null,\"muted_glyph\":null,\"nonselection_glyph\":{\"id\":\"19f5e716-5158-4306-9b50-e370c4b0f08d\",\"type\":\"VBar\"},\"selection_glyph\":null,\"view\":{\"id\":\"a085cf04-db4b-4628-b09c-55412b7f33a8\",\"type\":\"CDSView\"}},\"id\":\"b2d22a99-f498-4c62-a29d-ceabe57e1043\",\"type\":\"GlyphRenderer\"},{\"attributes\":{},\"id\":\"6f746d9d-1582-4135-92d5-50482f0f5c4d\",\"type\":\"BasicTicker\"},{\"attributes\":{},\"id\":\"878d9771-4b2c-4c48-b14e-3276bff25b30\",\"type\":\"SaveTool\"},{\"attributes\":{},\"id\":\"b41cec0a-f00c-4e58-9cf2-d1b98f65e739\",\"type\":\"LinearScale\"},{\"attributes\":{\"fill_alpha\":{\"value\":0.1},\"fill_color\":{\"value\":\"#1f77b4\"},\"line_alpha\":{\"value\":0.1},\"line_color\":{\"value\":\"#1f77b4\"},\"top\":{\"field\":\"flux\"},\"width\":{\"value\":0.9},\"x\":{\"field\":\"band\"}},\"id\":\"19f5e716-5158-4306-9b50-e370c4b0f08d\",\"type\":\"VBar\"},{\"attributes\":{\"active_drag\":\"auto\",\"active_inspect\":\"auto\",\"active_scroll\":\"auto\",\"active_tap\":\"auto\",\"tools\":[{\"id\":\"5aac866e-6126-47d4-b2ea-aeeaa022d39f\",\"type\":\"PanTool\"},{\"id\":\"e7ec193b-aa05-4230-9fc0-224cac31a374\",\"type\":\"WheelZoomTool\"},{\"id\":\"82c1f09d-5757-498d-adae-5bf468b683f1\",\"type\":\"BoxZoomTool\"},{\"id\":\"878d9771-4b2c-4c48-b14e-3276bff25b30\",\"type\":\"SaveTool\"},{\"id\":\"a9bd8dd5-9d22-4683-b657-dbaec9830969\",\"type\":\"ResetTool\"},{\"id\":\"0d8e0667-4d08-4abe-a2e5-1e3e57c2018e\",\"type\":\"HelpTool\"}]},\"id\":\"fc3cb452-5210-4518-9b11-200b6bfbf07e\",\"type\":\"Toolbar\"},{\"attributes\":{\"axis_label\":\"spectral band\",\"formatter\":{\"id\":\"1961f114-d804-4469-ac25-0a186fa106ce\",\"type\":\"CategoricalTickFormatter\"},\"plot\":{\"id\":\"e2053e3d-e117-4e37-b224-feb9567e8f6d\",\"subtype\":\"Figure\",\"type\":\"Plot\"},\"ticker\":{\"id\":\"87d41b0c-9901-4a7b-832e-5821efc2fa56\",\"type\":\"CategoricalTicker\"}},\"id\":\"248bf0c2-ba78-4448-b234-34f7ec4395d5\",\"type\":\"CategoricalAxis\"},{\"attributes\":{\"dimension\":1,\"plot\":{\"id\":\"e2053e3d-e117-4e37-b224-feb9567e8f6d\",\"subtype\":\"Figure\",\"type\":\"Plot\"},\"ticker\":{\"id\":\"6f746d9d-1582-4135-92d5-50482f0f5c4d\",\"type\":\"BasicTicker\"}},\"id\":\"88b5cf88-eb6c-4d21-bafa-7e60cf6b4294\",\"type\":\"Grid\"},{\"attributes\":{\"source\":{\"id\":\"603e3d5e-ef45-421a-bec5-89da87affa9d\",\"type\":\"ColumnDataSource\"}},\"id\":\"a085cf04-db4b-4628-b09c-55412b7f33a8\",\"type\":\"CDSView\"},{\"attributes\":{\"dimension\":1,\"plot\":{\"id\":\"b246ea10-4a14-4867-b8c6-c9406e9c950e\",\"subtype\":\"Figure\",\"type\":\"Plot\"},\"ticker\":{\"id\":\"db2e048c-3b93-4154-bf69-4a678bb21dcc\",\"type\":\"BasicTicker\"}},\"id\":\"93a01fdd-fa5f-4ae1-9331-dbe9abac8fe2\",\"type\":\"Grid\"},{\"attributes\":{\"below\":[{\"id\":\"248bf0c2-ba78-4448-b234-34f7ec4395d5\",\"type\":\"CategoricalAxis\"}],\"left\":[{\"id\":\"1f631ba0-9c77-4ba2-8a7f-85ffa11bbebf\",\"type\":\"LinearAxis\"}],\"plot_height\":300,\"plot_width\":300,\"renderers\":[{\"id\":\"248bf0c2-ba78-4448-b234-34f7ec4395d5\",\"type\":\"CategoricalAxis\"},{\"id\":\"a3bed655-958d-49f7-8547-4dddf0464412\",\"type\":\"Grid\"},{\"id\":\"1f631ba0-9c77-4ba2-8a7f-85ffa11bbebf\",\"type\":\"LinearAxis\"},{\"id\":\"88b5cf88-eb6c-4d21-bafa-7e60cf6b4294\",\"type\":\"Grid\"},{\"id\":\"81f38889-f6c7-418f-96cd-fbe9e2882b06\",\"type\":\"BoxAnnotation\"},{\"id\":\"b2d22a99-f498-4c62-a29d-ceabe57e1043\",\"type\":\"GlyphRenderer\"}],\"title\":{\"id\":\"9623d4ea-a81e-41d3-941f-ece6f8dc766d\",\"type\":\"Title\"},\"toolbar\":{\"id\":\"fc3cb452-5210-4518-9b11-200b6bfbf07e\",\"type\":\"Toolbar\"},\"toolbar_location\":null,\"x_range\":{\"id\":\"51e9a57a-15c0-4789-8446-015f7f408b3b\",\"type\":\"FactorRange\"},\"x_scale\":{\"id\":\"c603b8e9-7ee9-4ba1-9da0-b1a7adde8acb\",\"type\":\"CategoricalScale\"},\"y_range\":{\"id\":\"025959b5-08bd-455d-b7e7-87e47481befd\",\"type\":\"DataRange1d\"},\"y_scale\":{\"id\":\"b41cec0a-f00c-4e58-9cf2-d1b98f65e739\",\"type\":\"LinearScale\"}},\"id\":\"e2053e3d-e117-4e37-b224-feb9567e8f6d\",\"subtype\":\"Figure\",\"type\":\"Plot\"},{\"attributes\":{\"plot\":{\"id\":\"b8c13191-64a7-44c2-b389-8991737a6958\",\"subtype\":\"Figure\",\"type\":\"Plot\"},\"ticker\":{\"id\":\"35177e1f-57e4-4daa-a7a7-d8ca2da2a746\",\"type\":\"CategoricalTicker\"}},\"id\":\"b0c72cb0-5916-4a18-84d5-6d5d7822cfe5\",\"type\":\"Grid\"},{\"attributes\":{},\"id\":\"b841396f-17cb-4e82-bcb9-676c9cb83612\",\"type\":\"Selection\"},{\"attributes\":{},\"id\":\"35bde8dc-a7ba-4d93-a187-ad34a6446a4e\",\"type\":\"WheelZoomTool\"},{\"attributes\":{},\"id\":\"efd20d34-6e43-4370-ac9c-03361b24b8f6\",\"type\":\"SaveTool\"},{\"attributes\":{\"plot\":null,\"text\":\"Atmosphere heating. CLIRAD (single-run) - CRD.\"},\"id\":\"d494182b-7253-4822-8f5b-181914757033\",\"type\":\"Title\"},{\"attributes\":{},\"id\":\"78a7235c-dca7-4596-b467-ba594d351686\",\"type\":\"CategoricalScale\"},{\"attributes\":{\"data_source\":{\"id\":\"efea1807-49fa-4a26-ba43-f1a7a13e4a95\",\"type\":\"ColumnDataSource\"},\"glyph\":{\"id\":\"8966444a-bcfe-44af-8323-61b1f581c4b6\",\"type\":\"VBar\"},\"hover_glyph\":null,\"muted_glyph\":null,\"nonselection_glyph\":{\"id\":\"617eeb8b-d9f5-4737-8bb4-e38b0eb4b120\",\"type\":\"VBar\"},\"selection_glyph\":null,\"view\":{\"id\":\"ccde2088-6f80-4aa4-96f2-a67eb0e1a9a2\",\"type\":\"CDSView\"}},\"id\":\"f3077941-7bc0-45d6-a1f0-aab7290cabdb\",\"type\":\"GlyphRenderer\"},{\"attributes\":{},\"id\":\"e5713f7d-4f2e-4514-8dbf-c28c64e2d251\",\"type\":\"UnionRenderers\"},{\"attributes\":{},\"id\":\"1961f114-d804-4469-ac25-0a186fa106ce\",\"type\":\"CategoricalTickFormatter\"},{\"attributes\":{},\"id\":\"e6ac4ccb-63b2-4f55-bd23-b4fe33b11eb5\",\"type\":\"CategoricalTickFormatter\"},{\"attributes\":{\"overlay\":{\"id\":\"a7c164f7-470f-449c-b87d-5dda29a5c7ee\",\"type\":\"BoxAnnotation\"}},\"id\":\"116ca278-bf65-45bb-b898-72136c0aebfe\",\"type\":\"BoxZoomTool\"},{\"attributes\":{\"active_drag\":\"auto\",\"active_inspect\":\"auto\",\"active_scroll\":\"auto\",\"active_tap\":\"auto\",\"tools\":[{\"id\":\"391e722d-2e56-4c60-97c2-c807816ae70d\",\"type\":\"PanTool\"},{\"id\":\"35bde8dc-a7ba-4d93-a187-ad34a6446a4e\",\"type\":\"WheelZoomTool\"},{\"id\":\"116ca278-bf65-45bb-b898-72136c0aebfe\",\"type\":\"BoxZoomTool\"},{\"id\":\"efd20d34-6e43-4370-ac9c-03361b24b8f6\",\"type\":\"SaveTool\"},{\"id\":\"8089a354-8fff-4d96-b5c6-ada6d0f1958b\",\"type\":\"ResetTool\"},{\"id\":\"9c841b48-fa81-4aa2-ae34-9ce75cdd89cb\",\"type\":\"HelpTool\"}]},\"id\":\"4e3e40b8-6fba-41d8-94ec-22eac49f7650\",\"type\":\"Toolbar\"},{\"attributes\":{\"children\":[{\"id\":\"4a30a73a-5ab5-4b5a-9685-e0d94fc14518\",\"type\":\"ToolbarBox\"},{\"id\":\"65ef6d87-e8d3-4c4c-bbe0-07a68e65d2c6\",\"type\":\"Column\"}]},\"id\":\"3e30a53a-625a-4255-82ca-48e68352346f\",\"type\":\"Column\"},{\"attributes\":{\"dimension\":1,\"plot\":{\"id\":\"b8c13191-64a7-44c2-b389-8991737a6958\",\"subtype\":\"Figure\",\"type\":\"Plot\"},\"ticker\":{\"id\":\"33fabb22-d568-480c-bc56-2aa46b07175b\",\"type\":\"BasicTicker\"}},\"id\":\"bc050805-6b7c-4825-acd7-59c6193c1b1b\",\"type\":\"Grid\"},{\"attributes\":{\"source\":{\"id\":\"e9e63ace-edaf-4f8d-bd2d-d82cfd22188c\",\"type\":\"ColumnDataSource\"}},\"id\":\"658799cd-ffef-48a0-becb-5403ab0b6fe6\",\"type\":\"CDSView\"},{\"attributes\":{},\"id\":\"e3c4aeba-62c1-4644-ba3a-e41950a40deb\",\"type\":\"CategoricalTickFormatter\"},{\"attributes\":{\"fill_color\":{\"value\":\"#1f77b4\"},\"line_color\":{\"value\":\"#1f77b4\"},\"top\":{\"field\":\"flux\"},\"width\":{\"value\":0.9},\"x\":{\"field\":\"band\"}},\"id\":\"0896015a-9d7c-4264-9533-817c12a8d939\",\"type\":\"VBar\"},{\"attributes\":{},\"id\":\"1fddb370-3f92-42aa-804b-9fc83c2fdc00\",\"type\":\"UnionRenderers\"},{\"attributes\":{},\"id\":\"d03285fa-552e-4ca2-9b28-38f37f3cd093\",\"type\":\"Selection\"},{\"attributes\":{},\"id\":\"a88ea0dc-c7e4-4d93-b6c1-53e3451d425f\",\"type\":\"Selection\"},{\"attributes\":{},\"id\":\"0d8e0667-4d08-4abe-a2e5-1e3e57c2018e\",\"type\":\"HelpTool\"},{\"attributes\":{\"children\":[{\"id\":\"338a0cea-c76c-4ddf-a05d-126a827e4f73\",\"type\":\"Row\"}]},\"id\":\"65ef6d87-e8d3-4c4c-bbe0-07a68e65d2c6\",\"type\":\"Column\"},{\"attributes\":{},\"id\":\"9c841b48-fa81-4aa2-ae34-9ce75cdd89cb\",\"type\":\"HelpTool\"},{\"attributes\":{\"active_drag\":\"auto\",\"active_inspect\":\"auto\",\"active_scroll\":\"auto\",\"active_tap\":\"auto\",\"tools\":[{\"id\":\"e61118d1-92f1-485d-9b0f-96ba6330f926\",\"type\":\"PanTool\"},{\"id\":\"e8daea57-673c-4b40-8310-9ad5bac2e070\",\"type\":\"WheelZoomTool\"},{\"id\":\"6dc00787-06c4-41fa-b75e-a26d379f288a\",\"type\":\"BoxZoomTool\"},{\"id\":\"29c86a35-ecb7-4644-b9bc-c17b0cf37568\",\"type\":\"SaveTool\"},{\"id\":\"dd5b1089-26e2-4f7d-b175-41f06b14206c\",\"type\":\"ResetTool\"},{\"id\":\"0ad6f8aa-769e-4749-8258-8fce47625a7b\",\"type\":\"HelpTool\"}]},\"id\":\"dc240b7d-84af-4066-ace1-c8caaa2c3294\",\"type\":\"Toolbar\"},{\"attributes\":{\"below\":[{\"id\":\"e9fae3b6-fc1f-4d91-94ed-0c3eb826d227\",\"type\":\"CategoricalAxis\"}],\"left\":[{\"id\":\"110d3645-a45a-4571-80e4-e901dd7deb93\",\"type\":\"LinearAxis\"}],\"plot_height\":300,\"plot_width\":300,\"renderers\":[{\"id\":\"e9fae3b6-fc1f-4d91-94ed-0c3eb826d227\",\"type\":\"CategoricalAxis\"},{\"id\":\"fec121a4-b0f5-4d85-af3a-ee411b42b6ff\",\"type\":\"Grid\"},{\"id\":\"110d3645-a45a-4571-80e4-e901dd7deb93\",\"type\":\"LinearAxis\"},{\"id\":\"93a01fdd-fa5f-4ae1-9331-dbe9abac8fe2\",\"type\":\"Grid\"},{\"id\":\"a7c164f7-470f-449c-b87d-5dda29a5c7ee\",\"type\":\"BoxAnnotation\"},{\"id\":\"7f0e8dd4-010f-4fe1-b362-c816b3243a24\",\"type\":\"GlyphRenderer\"}],\"title\":{\"id\":\"d494182b-7253-4822-8f5b-181914757033\",\"type\":\"Title\"},\"toolbar\":{\"id\":\"4e3e40b8-6fba-41d8-94ec-22eac49f7650\",\"type\":\"Toolbar\"},\"toolbar_location\":null,\"x_range\":{\"id\":\"89a055ce-5f02-4157-bfb9-fa94271409d4\",\"type\":\"FactorRange\"},\"x_scale\":{\"id\":\"16faa253-94eb-4287-9faf-f7459c233a1e\",\"type\":\"CategoricalScale\"},\"y_range\":{\"id\":\"22c6b02e-b9d8-4664-88e9-e193d704f7d4\",\"type\":\"DataRange1d\"},\"y_scale\":{\"id\":\"7fca003c-4384-4a36-8cb8-47f5ae548f64\",\"type\":\"LinearScale\"}},\"id\":\"b246ea10-4a14-4867-b8c6-c9406e9c950e\",\"subtype\":\"Figure\",\"type\":\"Plot\"},{\"attributes\":{\"data_source\":{\"id\":\"e9e63ace-edaf-4f8d-bd2d-d82cfd22188c\",\"type\":\"ColumnDataSource\"},\"glyph\":{\"id\":\"0896015a-9d7c-4264-9533-817c12a8d939\",\"type\":\"VBar\"},\"hover_glyph\":null,\"muted_glyph\":null,\"nonselection_glyph\":{\"id\":\"8f2f0a5c-7628-4824-8831-17cb845e9a4a\",\"type\":\"VBar\"},\"selection_glyph\":null,\"view\":{\"id\":\"658799cd-ffef-48a0-becb-5403ab0b6fe6\",\"type\":\"CDSView\"}},\"id\":\"7f0e8dd4-010f-4fe1-b362-c816b3243a24\",\"type\":\"GlyphRenderer\"},{\"attributes\":{\"fill_alpha\":{\"value\":0.1},\"fill_color\":{\"value\":\"#1f77b4\"},\"line_alpha\":{\"value\":0.1},\"line_color\":{\"value\":\"#1f77b4\"},\"top\":{\"field\":\"flux\"},\"width\":{\"value\":0.9},\"x\":{\"field\":\"band\"}},\"id\":\"617eeb8b-d9f5-4737-8bb4-e38b0eb4b120\",\"type\":\"VBar\"},{\"attributes\":{\"axis_label\":\"spectral band\",\"formatter\":{\"id\":\"e6ac4ccb-63b2-4f55-bd23-b4fe33b11eb5\",\"type\":\"CategoricalTickFormatter\"},\"plot\":{\"id\":\"b8c13191-64a7-44c2-b389-8991737a6958\",\"subtype\":\"Figure\",\"type\":\"Plot\"},\"ticker\":{\"id\":\"35177e1f-57e4-4daa-a7a7-d8ca2da2a746\",\"type\":\"CategoricalTicker\"}},\"id\":\"75063fc3-5790-4ecb-878c-8ac8b1c80a74\",\"type\":\"CategoricalAxis\"},{\"attributes\":{},\"id\":\"0ad6f8aa-769e-4749-8258-8fce47625a7b\",\"type\":\"HelpTool\"},{\"attributes\":{},\"id\":\"7fca003c-4384-4a36-8cb8-47f5ae548f64\",\"type\":\"LinearScale\"},{\"attributes\":{},\"id\":\"73c3a03a-60bb-4d8e-abf7-3cde006de70c\",\"type\":\"BasicTickFormatter\"},{\"attributes\":{},\"id\":\"36b20132-3ed1-4226-bc61-b0cbad8f383e\",\"type\":\"LinearScale\"},{\"attributes\":{\"source\":{\"id\":\"efea1807-49fa-4a26-ba43-f1a7a13e4a95\",\"type\":\"ColumnDataSource\"}},\"id\":\"ccde2088-6f80-4aa4-96f2-a67eb0e1a9a2\",\"type\":\"CDSView\"},{\"attributes\":{\"callback\":null,\"factors\":[\"1\",\"2\",\"3\",\"4\",\"5\",\"6\",\"7\",\"8\",\"9\",\"10\",\"11\"]},\"id\":\"89a055ce-5f02-4157-bfb9-fa94271409d4\",\"type\":\"FactorRange\"},{\"attributes\":{\"callback\":null},\"id\":\"031f206e-a980-42f5-a5f5-f6b47d172712\",\"type\":\"DataRange1d\"},{\"attributes\":{},\"id\":\"e8daea57-673c-4b40-8310-9ad5bac2e070\",\"type\":\"WheelZoomTool\"},{\"attributes\":{},\"id\":\"391e722d-2e56-4c60-97c2-c807816ae70d\",\"type\":\"PanTool\"},{\"attributes\":{\"below\":[{\"id\":\"75063fc3-5790-4ecb-878c-8ac8b1c80a74\",\"type\":\"CategoricalAxis\"}],\"left\":[{\"id\":\"70e56352-2baf-47b8-be75-17db4c4fda13\",\"type\":\"LinearAxis\"}],\"plot_height\":300,\"plot_width\":300,\"renderers\":[{\"id\":\"75063fc3-5790-4ecb-878c-8ac8b1c80a74\",\"type\":\"CategoricalAxis\"},{\"id\":\"b0c72cb0-5916-4a18-84d5-6d5d7822cfe5\",\"type\":\"Grid\"},{\"id\":\"70e56352-2baf-47b8-be75-17db4c4fda13\",\"type\":\"LinearAxis\"},{\"id\":\"bc050805-6b7c-4825-acd7-59c6193c1b1b\",\"type\":\"Grid\"},{\"id\":\"b1c3510c-487c-4954-bd3f-94ddd2fa4623\",\"type\":\"BoxAnnotation\"},{\"id\":\"f3077941-7bc0-45d6-a1f0-aab7290cabdb\",\"type\":\"GlyphRenderer\"}],\"title\":{\"id\":\"18b6f3ff-504c-4aef-9a75-29eeaa41b598\",\"type\":\"Title\"},\"toolbar\":{\"id\":\"dc240b7d-84af-4066-ace1-c8caaa2c3294\",\"type\":\"Toolbar\"},\"toolbar_location\":null,\"x_range\":{\"id\":\"61f691b7-d0ec-41ee-818b-9db63b18b6de\",\"type\":\"FactorRange\"},\"x_scale\":{\"id\":\"78a7235c-dca7-4596-b467-ba594d351686\",\"type\":\"CategoricalScale\"},\"y_range\":{\"id\":\"031f206e-a980-42f5-a5f5-f6b47d172712\",\"type\":\"DataRange1d\"},\"y_scale\":{\"id\":\"36b20132-3ed1-4226-bc61-b0cbad8f383e\",\"type\":\"LinearScale\"}},\"id\":\"b8c13191-64a7-44c2-b389-8991737a6958\",\"subtype\":\"Figure\",\"type\":\"Plot\"},{\"attributes\":{\"callback\":null,\"factors\":[\"1\",\"2\",\"3\",\"4\",\"5\",\"6\",\"7\",\"8\",\"9\",\"10\",\"11\"]},\"id\":\"61f691b7-d0ec-41ee-818b-9db63b18b6de\",\"type\":\"FactorRange\"},{\"attributes\":{\"plot\":null,\"text\":\"SFC flux. CLIRAD (single-run) - CRD.\"},\"id\":\"18b6f3ff-504c-4aef-9a75-29eeaa41b598\",\"type\":\"Title\"},{\"attributes\":{},\"id\":\"07eda4ee-c899-43bb-8bc7-12ba32f7cc4a\",\"type\":\"BasicTickFormatter\"},{\"attributes\":{},\"id\":\"51f9a8f8-b96c-43a4-92ba-fa82e241bfcb\",\"type\":\"CategoricalTicker\"},{\"attributes\":{\"bottom_units\":\"screen\",\"fill_alpha\":{\"value\":0.5},\"fill_color\":{\"value\":\"lightgrey\"},\"left_units\":\"screen\",\"level\":\"overlay\",\"line_alpha\":{\"value\":1.0},\"line_color\":{\"value\":\"black\"},\"line_dash\":[4,4],\"line_width\":{\"value\":2},\"plot\":null,\"render_mode\":\"css\",\"right_units\":\"screen\",\"top_units\":\"screen\"},\"id\":\"b1c3510c-487c-4954-bd3f-94ddd2fa4623\",\"type\":\"BoxAnnotation\"},{\"attributes\":{},\"id\":\"16faa253-94eb-4287-9faf-f7459c233a1e\",\"type\":\"CategoricalScale\"},{\"attributes\":{\"axis_label\":\"flux (W m-2)\",\"formatter\":{\"id\":\"07eda4ee-c899-43bb-8bc7-12ba32f7cc4a\",\"type\":\"BasicTickFormatter\"},\"plot\":{\"id\":\"b246ea10-4a14-4867-b8c6-c9406e9c950e\",\"subtype\":\"Figure\",\"type\":\"Plot\"},\"ticker\":{\"id\":\"db2e048c-3b93-4154-bf69-4a678bb21dcc\",\"type\":\"BasicTicker\"}},\"id\":\"110d3645-a45a-4571-80e4-e901dd7deb93\",\"type\":\"LinearAxis\"},{\"attributes\":{\"bottom_units\":\"screen\",\"fill_alpha\":{\"value\":0.5},\"fill_color\":{\"value\":\"lightgrey\"},\"left_units\":\"screen\",\"level\":\"overlay\",\"line_alpha\":{\"value\":1.0},\"line_color\":{\"value\":\"black\"},\"line_dash\":[4,4],\"line_width\":{\"value\":2},\"plot\":null,\"render_mode\":\"css\",\"right_units\":\"screen\",\"top_units\":\"screen\"},\"id\":\"a7c164f7-470f-449c-b87d-5dda29a5c7ee\",\"type\":\"BoxAnnotation\"},{\"attributes\":{\"axis_label\":\"spectral band\",\"formatter\":{\"id\":\"e3c4aeba-62c1-4644-ba3a-e41950a40deb\",\"type\":\"CategoricalTickFormatter\"},\"plot\":{\"id\":\"b246ea10-4a14-4867-b8c6-c9406e9c950e\",\"subtype\":\"Figure\",\"type\":\"Plot\"},\"ticker\":{\"id\":\"51f9a8f8-b96c-43a4-92ba-fa82e241bfcb\",\"type\":\"CategoricalTicker\"}},\"id\":\"e9fae3b6-fc1f-4d91-94ed-0c3eb826d227\",\"type\":\"CategoricalAxis\"},{\"attributes\":{},\"id\":\"95e6e305-af24-4f61-b446-b1f341204b20\",\"type\":\"UnionRenderers\"},{\"attributes\":{},\"id\":\"e61118d1-92f1-485d-9b0f-96ba6330f926\",\"type\":\"PanTool\"},{\"attributes\":{\"plot\":null,\"text\":\"TOA flux. CLIRAD (single-run) - CRD.\"},\"id\":\"9623d4ea-a81e-41d3-941f-ece6f8dc766d\",\"type\":\"Title\"},{\"attributes\":{\"tools\":[{\"id\":\"5aac866e-6126-47d4-b2ea-aeeaa022d39f\",\"type\":\"PanTool\"},{\"id\":\"e7ec193b-aa05-4230-9fc0-224cac31a374\",\"type\":\"WheelZoomTool\"},{\"id\":\"82c1f09d-5757-498d-adae-5bf468b683f1\",\"type\":\"BoxZoomTool\"},{\"id\":\"878d9771-4b2c-4c48-b14e-3276bff25b30\",\"type\":\"SaveTool\"},{\"id\":\"a9bd8dd5-9d22-4683-b657-dbaec9830969\",\"type\":\"ResetTool\"},{\"id\":\"0d8e0667-4d08-4abe-a2e5-1e3e57c2018e\",\"type\":\"HelpTool\"},{\"id\":\"e61118d1-92f1-485d-9b0f-96ba6330f926\",\"type\":\"PanTool\"},{\"id\":\"e8daea57-673c-4b40-8310-9ad5bac2e070\",\"type\":\"WheelZoomTool\"},{\"id\":\"6dc00787-06c4-41fa-b75e-a26d379f288a\",\"type\":\"BoxZoomTool\"},{\"id\":\"29c86a35-ecb7-4644-b9bc-c17b0cf37568\",\"type\":\"SaveTool\"},{\"id\":\"dd5b1089-26e2-4f7d-b175-41f06b14206c\",\"type\":\"ResetTool\"},{\"id\":\"0ad6f8aa-769e-4749-8258-8fce47625a7b\",\"type\":\"HelpTool\"},{\"id\":\"391e722d-2e56-4c60-97c2-c807816ae70d\",\"type\":\"PanTool\"},{\"id\":\"35bde8dc-a7ba-4d93-a187-ad34a6446a4e\",\"type\":\"WheelZoomTool\"},{\"id\":\"116ca278-bf65-45bb-b898-72136c0aebfe\",\"type\":\"BoxZoomTool\"},{\"id\":\"efd20d34-6e43-4370-ac9c-03361b24b8f6\",\"type\":\"SaveTool\"},{\"id\":\"8089a354-8fff-4d96-b5c6-ada6d0f1958b\",\"type\":\"ResetTool\"},{\"id\":\"9c841b48-fa81-4aa2-ae34-9ce75cdd89cb\",\"type\":\"HelpTool\"}]},\"id\":\"899de301-6f65-4838-a8bb-6eb33897c7b0\",\"type\":\"ProxyToolbar\"},{\"attributes\":{\"fill_alpha\":{\"value\":0.1},\"fill_color\":{\"value\":\"#1f77b4\"},\"line_alpha\":{\"value\":0.1},\"line_color\":{\"value\":\"#1f77b4\"},\"top\":{\"field\":\"flux\"},\"width\":{\"value\":0.9},\"x\":{\"field\":\"band\"}},\"id\":\"8f2f0a5c-7628-4824-8831-17cb845e9a4a\",\"type\":\"VBar\"},{\"attributes\":{},\"id\":\"33fabb22-d568-480c-bc56-2aa46b07175b\",\"type\":\"BasicTicker\"},{\"attributes\":{},\"id\":\"dd5b1089-26e2-4f7d-b175-41f06b14206c\",\"type\":\"ResetTool\"},{\"attributes\":{\"children\":[{\"id\":\"e2053e3d-e117-4e37-b224-feb9567e8f6d\",\"subtype\":\"Figure\",\"type\":\"Plot\"},{\"id\":\"b8c13191-64a7-44c2-b389-8991737a6958\",\"subtype\":\"Figure\",\"type\":\"Plot\"},{\"id\":\"b246ea10-4a14-4867-b8c6-c9406e9c950e\",\"subtype\":\"Figure\",\"type\":\"Plot\"}]},\"id\":\"338a0cea-c76c-4ddf-a05d-126a827e4f73\",\"type\":\"Row\"},{\"attributes\":{\"axis_label\":\"flux (W m-2)\",\"formatter\":{\"id\":\"c117257a-cd19-4716-ac8d-33449289ccaa\",\"type\":\"BasicTickFormatter\"},\"plot\":{\"id\":\"b8c13191-64a7-44c2-b389-8991737a6958\",\"subtype\":\"Figure\",\"type\":\"Plot\"},\"ticker\":{\"id\":\"33fabb22-d568-480c-bc56-2aa46b07175b\",\"type\":\"BasicTicker\"}},\"id\":\"70e56352-2baf-47b8-be75-17db4c4fda13\",\"type\":\"LinearAxis\"},{\"attributes\":{},\"id\":\"8089a354-8fff-4d96-b5c6-ada6d0f1958b\",\"type\":\"ResetTool\"},{\"attributes\":{\"toolbar\":{\"id\":\"899de301-6f65-4838-a8bb-6eb33897c7b0\",\"type\":\"ProxyToolbar\"},\"toolbar_location\":\"above\"},\"id\":\"4a30a73a-5ab5-4b5a-9685-e0d94fc14518\",\"type\":\"ToolbarBox\"},{\"attributes\":{\"bottom_units\":\"screen\",\"fill_alpha\":{\"value\":0.5},\"fill_color\":{\"value\":\"lightgrey\"},\"left_units\":\"screen\",\"level\":\"overlay\",\"line_alpha\":{\"value\":1.0},\"line_color\":{\"value\":\"black\"},\"line_dash\":[4,4],\"line_width\":{\"value\":2},\"plot\":null,\"render_mode\":\"css\",\"right_units\":\"screen\",\"top_units\":\"screen\"},\"id\":\"81f38889-f6c7-418f-96cd-fbe9e2882b06\",\"type\":\"BoxAnnotation\"},{\"attributes\":{},\"id\":\"35177e1f-57e4-4daa-a7a7-d8ca2da2a746\",\"type\":\"CategoricalTicker\"},{\"attributes\":{\"callback\":null,\"data\":{\"band\":[\"1\",\"2\",\"3\",\"4\",\"5\",\"6\",\"7\",\"8\",\"9\",\"10\",\"11\"],\"flux\":{\"__ndarray__\":\"AEILCRhdyD+AzEHQ0arSP0DMe5xpwtO/gGStodRe0z/ASgaAKm7QPwCwnSgJiaQ/QHfWbrvQ2T8AmpguxOqnPwC2wvS9hpC/YNQ5UPHJwD9AvtXft8awPw==\",\"dtype\":\"float64\",\"shape\":[11]}},\"selected\":{\"id\":\"d03285fa-552e-4ca2-9b28-38f37f3cd093\",\"type\":\"Selection\"},\"selection_policy\":{\"id\":\"1fddb370-3f92-42aa-804b-9fc83c2fdc00\",\"type\":\"UnionRenderers\"}},\"id\":\"603e3d5e-ef45-421a-bec5-89da87affa9d\",\"type\":\"ColumnDataSource\"},{\"attributes\":{\"plot\":{\"id\":\"b246ea10-4a14-4867-b8c6-c9406e9c950e\",\"subtype\":\"Figure\",\"type\":\"Plot\"},\"ticker\":{\"id\":\"51f9a8f8-b96c-43a4-92ba-fa82e241bfcb\",\"type\":\"CategoricalTicker\"}},\"id\":\"fec121a4-b0f5-4d85-af3a-ee411b42b6ff\",\"type\":\"Grid\"},{\"attributes\":{},\"id\":\"c117257a-cd19-4716-ac8d-33449289ccaa\",\"type\":\"BasicTickFormatter\"},{\"attributes\":{\"fill_color\":{\"value\":\"#1f77b4\"},\"line_color\":{\"value\":\"#1f77b4\"},\"top\":{\"field\":\"flux\"},\"width\":{\"value\":0.9},\"x\":{\"field\":\"band\"}},\"id\":\"8966444a-bcfe-44af-8323-61b1f581c4b6\",\"type\":\"VBar\"},{\"attributes\":{},\"id\":\"29c86a35-ecb7-4644-b9bc-c17b0cf37568\",\"type\":\"SaveTool\"},{\"attributes\":{},\"id\":\"db2e048c-3b93-4154-bf69-4a678bb21dcc\",\"type\":\"BasicTicker\"},{\"attributes\":{\"callback\":null,\"data\":{\"band\":[\"1\",\"2\",\"3\",\"4\",\"5\",\"6\",\"7\",\"8\",\"9\",\"10\",\"11\"],\"flux\":{\"__ndarray__\":\"AAAAAyUF9r4AgsR29wDYPwC4H/DAANO/ANyul6YIsD+Ajh6/t+nfP8AaoDTUKMw/ACInXUQlqz8AgCYMFMKEv4A0KnCyDcY/AKBF71TAjT8AcGzRXW2APw==\",\"dtype\":\"float64\",\"shape\":[11]}},\"selected\":{\"id\":\"b841396f-17cb-4e82-bcb9-676c9cb83612\",\"type\":\"Selection\"},\"selection_policy\":{\"id\":\"95e6e305-af24-4f61-b446-b1f341204b20\",\"type\":\"UnionRenderers\"}},\"id\":\"efea1807-49fa-4a26-ba43-f1a7a13e4a95\",\"type\":\"ColumnDataSource\"},{\"attributes\":{\"callback\":null},\"id\":\"22c6b02e-b9d8-4664-88e9-e193d704f7d4\",\"type\":\"DataRange1d\"},{\"attributes\":{\"overlay\":{\"id\":\"b1c3510c-487c-4954-bd3f-94ddd2fa4623\",\"type\":\"BoxAnnotation\"}},\"id\":\"6dc00787-06c4-41fa-b75e-a26d379f288a\",\"type\":\"BoxZoomTool\"}],\"root_ids\":[\"3e30a53a-625a-4255-82ca-48e68352346f\"]},\"title\":\"Bokeh Application\",\"version\":\"0.12.16\"}};\n",
       "  var render_items = [{\"docid\":\"504feee2-53a1-45d0-9f36-ca82b6a992c4\",\"elementid\":\"9085a45f-554c-4da9-a004-2b8cf5e7be65\",\"modelid\":\"3e30a53a-625a-4255-82ca-48e68352346f\"}];\n",
       "  root.Bokeh.embed.embed_items_notebook(docs_json, render_items);\n",
       "\n",
       "  }\n",
       "  if (root.Bokeh !== undefined) {\n",
       "    embed_document(root);\n",
       "  } else {\n",
       "    var attempts = 0;\n",
       "    var timer = setInterval(function(root) {\n",
       "      if (root.Bokeh !== undefined) {\n",
       "        embed_document(root);\n",
       "        clearInterval(timer);\n",
       "      }\n",
       "      attempts++;\n",
       "      if (attempts > 100) {\n",
       "        console.log(\"Bokeh: ERROR: Unable to run BokehJS code because BokehJS library is missing\")\n",
       "        clearInterval(timer);\n",
       "      }\n",
       "    }, 10, root)\n",
       "  }\n",
       "})(window);"
      ],
      "application/vnd.bokehjs_exec.v0+json": ""
     },
     "metadata": {
      "application/vnd.bokehjs_exec.v0+json": {
       "id": "3e30a53a-625a-4255-82ca-48e68352346f"
      }
     },
     "output_type": "display_data"
    },
    {
     "data": {
      "text/markdown": [
       "*FIGURE.* Difference between CLIRAD and CRD in TOA, SFC and net atmosphere flux, in each spectral band."
      ],
      "text/plain": [
       "<IPython.core.display.Markdown object>"
      ]
     },
     "metadata": {},
     "output_type": "display_data"
    },
    {
     "data": {
      "text/html": [
       "<div>\n",
       "<style scoped>\n",
       "    .dataframe tbody tr th:only-of-type {\n",
       "        vertical-align: middle;\n",
       "    }\n",
       "\n",
       "    .dataframe tbody tr th {\n",
       "        vertical-align: top;\n",
       "    }\n",
       "\n",
       "    .dataframe thead th {\n",
       "        text-align: right;\n",
       "    }\n",
       "</style>\n",
       "<table border=\"1\" class=\"dataframe\">\n",
       "  <thead>\n",
       "    <tr style=\"text-align: right;\">\n",
       "      <th></th>\n",
       "      <th>OLR flux</th>\n",
       "      <th>SFC flux</th>\n",
       "      <th>ATM heating</th>\n",
       "    </tr>\n",
       "    <tr>\n",
       "      <th>Sum over bands</th>\n",
       "      <th></th>\n",
       "      <th></th>\n",
       "      <th></th>\n",
       "    </tr>\n",
       "  </thead>\n",
       "  <tbody>\n",
       "    <tr>\n",
       "      <th>old CLIRAD - CRD</th>\n",
       "      <td>0.14</td>\n",
       "      <td>2.01</td>\n",
       "      <td>-1.73</td>\n",
       "    </tr>\n",
       "    <tr>\n",
       "      <th>CLIRAD (single-run) - CRD</th>\n",
       "      <td>1.40</td>\n",
       "      <td>1.10</td>\n",
       "      <td>0.31</td>\n",
       "    </tr>\n",
       "    <tr>\n",
       "      <th>CRD</th>\n",
       "      <td>-290.39</td>\n",
       "      <td>308.14</td>\n",
       "      <td>-174.89</td>\n",
       "    </tr>\n",
       "  </tbody>\n",
       "</table>\n",
       "</div>"
      ],
      "text/plain": [
       "                           OLR flux  SFC flux  ATM heating\n",
       "Sum over bands                                            \n",
       "old CLIRAD - CRD               0.14      2.01        -1.73\n",
       "CLIRAD (single-run) - CRD      1.40      1.10         0.31\n",
       "CRD                         -290.39    308.14      -174.89"
      ]
     },
     "metadata": {},
     "output_type": "display_data"
    },
    {
     "data": {
      "text/markdown": [
       "*TABLE.* Difference between CLIRAD and CRD in TOA, SFC and net atmosphere flux, over all spectral bands. CRD's TOA, SFC and net atmosphere flux, over all spectral bands."
      ],
      "text/plain": [
       "<IPython.core.display.Markdown object>"
      ]
     },
     "metadata": {},
     "output_type": "display_data"
    },
    {
     "data": {
      "text/html": [
       "<a id=\"Cooling_rates._saw.\"></a>"
      ],
      "text/plain": [
       "<IPython.core.display.HTML object>"
      ]
     },
     "metadata": {},
     "output_type": "display_data"
    },
    {
     "data": {
      "text/markdown": [
       "# Cooling rates. saw."
      ],
      "text/plain": [
       "<IPython.core.display.Markdown object>"
      ]
     },
     "metadata": {},
     "output_type": "display_data"
    },
    {
     "data": {
      "text/html": [
       "\n",
       "<div class=\"bk-root\">\n",
       "    <div class=\"bk-plotdiv\" id=\"76348001-29bb-4897-9074-4540815879dd\"></div>\n",
       "</div>"
      ]
     },
     "metadata": {},
     "output_type": "display_data"
    },
    {
     "data": {
      "application/javascript": [
       "(function(root) {\n",
       "  function embed_document(root) {\n",
       "    \n",
       "  var docs_json = {\"b0f12f54-1187-41d5-a04b-3a5a1a87a0ca\":{\"roots\":{\"references\":[{\"attributes\":{},\"id\":\"9f752834-3a60-4dcd-aff0-ae8fc0363867\",\"type\":\"Selection\"},{\"attributes\":{\"source\":{\"id\":\"10cb416e-fa58-469b-abb4-75e1a3af37c9\",\"type\":\"ColumnDataSource\"}},\"id\":\"e55a88b8-781b-411d-b7d0-de8b16d01d14\",\"type\":\"CDSView\"},{\"attributes\":{},\"id\":\"56ca3311-48ee-4307-943d-14226120b4e4\",\"type\":\"Selection\"},{\"attributes\":{\"data_source\":{\"id\":\"afed01a9-46bd-47aa-9570-e83efdb9d5f1\",\"type\":\"ColumnDataSource\"},\"glyph\":{\"id\":\"cece890f-c3ea-417f-b08e-5dd448e0fbbd\",\"type\":\"Line\"},\"hover_glyph\":null,\"muted_glyph\":null,\"nonselection_glyph\":{\"id\":\"5edf74c8-f6db-45e5-9db6-245942dd7c56\",\"type\":\"Line\"},\"selection_glyph\":null,\"view\":{\"id\":\"370570fb-2628-4ac9-a4ea-512050706f45\",\"type\":\"CDSView\"}},\"id\":\"970d5f18-2311-4769-bed9-1f8053bc74b9\",\"type\":\"GlyphRenderer\"},{\"attributes\":{},\"id\":\"0c14e0c6-5230-43f0-93e0-12e996507513\",\"type\":\"UnionRenderers\"},{\"attributes\":{\"data_source\":{\"id\":\"3e6e082a-dff0-40b6-8028-4ff48ef619ce\",\"type\":\"ColumnDataSource\"},\"glyph\":{\"id\":\"1e21067b-6c9a-40b4-97c4-df933db87d01\",\"type\":\"Line\"},\"hover_glyph\":null,\"muted_glyph\":null,\"nonselection_glyph\":{\"id\":\"61b86f0a-048a-4b4f-be0f-dbf0ae08f0a6\",\"type\":\"Line\"},\"selection_glyph\":null,\"view\":{\"id\":\"5d7b4e67-3c9c-445f-a917-4bc58a4fda47\",\"type\":\"CDSView\"}},\"id\":\"048c7bc3-950b-42f9-b344-d0e23a32a29a\",\"type\":\"GlyphRenderer\"},{\"attributes\":{},\"id\":\"01cf5a2a-5094-457f-bc13-5737f8557996\",\"type\":\"UnionRenderers\"},{\"attributes\":{\"plot\":null,\"text\":\"\"},\"id\":\"45b72559-dc89-46df-91cd-640011c49f78\",\"type\":\"Title\"},{\"attributes\":{\"items\":[{\"id\":\"7da85a42-4772-4b79-9b63-28e7f665d590\",\"type\":\"LegendItem\"},{\"id\":\"7799a360-3a2e-43a1-82c0-dd14ef29786e\",\"type\":\"LegendItem\"}],\"label_text_font_size\":{\"value\":\"8pt\"},\"location\":\"top_center\",\"orientation\":\"horizontal\",\"plot\":{\"id\":\"634e0fe6-c6e4-470a-96e3-7f81d24b192d\",\"subtype\":\"Figure\",\"type\":\"Plot\"}},\"id\":\"7b876756-833d-4e1e-8b41-108ad2195b59\",\"type\":\"Legend\"},{\"attributes\":{\"line_alpha\":0.1,\"line_color\":\"#1f77b4\",\"line_width\":1.5,\"x\":{\"field\":\"x\"},\"y\":{\"field\":\"y\"}},\"id\":\"c45d0a99-daef-44a5-ab86-cf95e41723ed\",\"type\":\"Line\"},{\"attributes\":{\"plot\":null,\"text\":\"\"},\"id\":\"f403399e-2153-418b-9e34-e33a90135320\",\"type\":\"Title\"},{\"attributes\":{},\"id\":\"11e96e8f-adc5-4637-9081-e1443c17ae90\",\"type\":\"LogScale\"},{\"attributes\":{\"fill_alpha\":{\"value\":0.7},\"fill_color\":{\"value\":\"#984ea3\"},\"line_alpha\":{\"value\":0.7},\"line_color\":{\"value\":\"#984ea3\"},\"x\":{\"field\":\"x\"},\"y\":{\"field\":\"y\"}},\"id\":\"7010353e-2c78-4ebd-b0ab-3c22d89e7f5e\",\"type\":\"Circle\"},{\"attributes\":{\"above\":[{\"id\":\"dabb14ee-3d2c-443f-8f40-2a40f6564d81\",\"type\":\"Legend\"}],\"below\":[{\"id\":\"6a3bece2-47e4-4d3c-b18e-11c7bd9c97d9\",\"type\":\"LinearAxis\"}],\"left\":[{\"id\":\"26d4adf6-617f-43c9-85aa-85478e887d66\",\"type\":\"LinearAxis\"}],\"plot_width\":300,\"renderers\":[{\"id\":\"6a3bece2-47e4-4d3c-b18e-11c7bd9c97d9\",\"type\":\"LinearAxis\"},{\"id\":\"b15906db-71c0-41e2-a904-5f13e7da994b\",\"type\":\"Grid\"},{\"id\":\"26d4adf6-617f-43c9-85aa-85478e887d66\",\"type\":\"LinearAxis\"},{\"id\":\"83d56da6-1392-438e-971c-0533d1355373\",\"type\":\"Grid\"},{\"id\":\"6f1573da-5416-4f95-8d1e-3a6ae6e39806\",\"type\":\"BoxAnnotation\"},{\"id\":\"970d5f18-2311-4769-bed9-1f8053bc74b9\",\"type\":\"GlyphRenderer\"},{\"id\":\"b0f0c16e-6be8-43dc-8306-a325ea1c40cc\",\"type\":\"GlyphRenderer\"},{\"id\":\"e05671a8-ea4b-4306-a36f-d58a7f9edba6\",\"type\":\"GlyphRenderer\"},{\"id\":\"dabb14ee-3d2c-443f-8f40-2a40f6564d81\",\"type\":\"Legend\"}],\"title\":{\"id\":\"f403399e-2153-418b-9e34-e33a90135320\",\"type\":\"Title\"},\"toolbar\":{\"id\":\"67001313-b7d0-4386-ab11-68f2ab958280\",\"type\":\"Toolbar\"},\"toolbar_location\":null,\"x_range\":{\"id\":\"c06bd83a-35a2-4490-aed8-7f7408e16e93\",\"type\":\"Range1d\"},\"x_scale\":{\"id\":\"7d8a9899-47c0-48ee-bf3d-0d6c235c18e2\",\"type\":\"LinearScale\"},\"y_range\":{\"id\":\"3d6d2d65-950f-450e-b245-e27e8e50aaed\",\"type\":\"Range1d\"},\"y_scale\":{\"id\":\"f9f66c5a-3b5e-4633-9e7b-fb6224e5fbc7\",\"type\":\"LinearScale\"}},\"id\":\"45f363c0-caa1-47b6-a134-a37f079d2ccb\",\"subtype\":\"Figure\",\"type\":\"Plot\"},{\"attributes\":{\"plot\":{\"id\":\"45f363c0-caa1-47b6-a134-a37f079d2ccb\",\"subtype\":\"Figure\",\"type\":\"Plot\"},\"ticker\":{\"id\":\"ce825088-a908-46b9-ac6a-855a2d88ae11\",\"type\":\"BasicTicker\"}},\"id\":\"b15906db-71c0-41e2-a904-5f13e7da994b\",\"type\":\"Grid\"},{\"attributes\":{},\"id\":\"59412722-67d1-4b30-9d17-a6a98fb361e5\",\"type\":\"UnionRenderers\"},{\"attributes\":{},\"id\":\"9cb8e2d8-7b7d-4c73-ac15-52dd051e1c90\",\"type\":\"BasicTickFormatter\"},{\"attributes\":{\"callback\":null,\"data\":{\"x\":{\"__ndarray__\":\"0CYBcvU5UkCik9zf2GVBQF1VoNfLZ0BAVLxhiVXTPUDD1Wu1wJM6QFJyB025jjdAU6Aw5+b/NECYe1uuDfgyQB6bYtVTbTFAPxYSAF1HMEA00pYVm9QuQLolHbMzgC1AntlwirGsLECv+G9SjE4rQJH6ZLBp0ShAsLZQyPd/JkDyjgyf2PwkQLgyNGsrJyRAA13QbJD6I0C8hy0ilI4kQOVTXCEgcSZAovOGvZSGJUBVc/ZmUOIgQOf/6GHAyRlAcE8fAOBSFEDRur1U//gPQGFD9ZbokghAQsqHuSqSA0C91ci3W0UBQCtRQfvz7/4/kh8pntyB+j9t1/n+4TX1P773MAUjFfI/RgzR+CI28T8hBW8WHK7uPzVKjJfU8uk/0FPt4/z65T/wVYqzMPDhPz7K9C5CXuE/8+hSn9hY4T/9PPCkR6rhP1XsIC599OA/66X1nBCX3z/YbRM56QjcPz4dkSQc/dM/S7Wb8Fq00T+/yQdmX0vcP7TrGf476eM/WqNPJoWO7D9qOH1bcwDzP2bw+R5DQ/Y/RLSuQOQp+D8+aif8yAz5P0Wv6eBKRfk/0i2+IN4R+T/ik8QNFZr4PyS5UD5j/Pc/yJ68zXRG9z/2CHPL54H2P59SOhwKtPU/npkP8dfg9D8NlmVcdQz0P80ugRvuOvM/byxiAHN18j9USVZie8nxP5l9lNXYSPE/OB+F0UYP8T8Y7dsUCTHxP3EBgTHPcPE/bfx15p8S8T8FT+xkGtTuP6mdG7rkxuk/pboqTkHX5D/CrN8qGYngP7R4ZaL+htU/\",\"dtype\":\"float64\",\"shape\":[75]},\"y\":{\"__ndarray__\":\"GhExyth1ND/Sv8nbtpRIP2vylNV0PVE/aTum7souWD/At0SJ8fVgPw3Iuahxymc/MSNhhJWvcD/bTfBN02d3P2zb5nxnaoA/CD5h5MAGhz8NmeH1TyaQP+zrCsc9p5Y/LbKd76fGnz/bLW5ISEmmPww9YvTcQq8/JV2OstnstT8Er5Y7M8G+P0c+r3jqkcU/5h99k6ZBzj88bCIzFzjVP4enV8oyxN0//yH99nXg5D8qOpLLf0jtP5kqGJXUifQ/c9cS8kHP/D+/DpwzojQEQIEmwoanVwxA4lgXt9HgE0BSSZ2AJuIbQAMJih9jjiNA5q4l5INuK0AwTKYKRj0zQNv5fmq8/DpAaCJseHrtQkB/+zpwzoxKQM3MzMzMeFJAZmZmZmZqWEAAAAAAAFxeQM3MzMzMJmJAmpmZmZkfZUBmZmZmZhhoQDMzMzMzEWtAAAAAAAAKbkBmZmZmZoFwQM3MzMzM/XFAMzMzMzN6c0CamZmZmfZ0QAAAAAAAc3ZAZmZmZmbvd0DNzMzMzGt5QDMzMzMz6HpAmpmZmZlkfEAAAAAAAOF9QGZmZmZmXX9AZmZmZuZsgECamZmZGSuBQM3MzMxM6YFAAAAAAICngkAzMzMzs2WDQGZmZmbmI4RAmpmZmRnihEDNzMzMTKCFQAAAAACAXoZAMzMzM7Mch0BmZmZm5tqHQJqZmZkZmYhAzczMzExXiUAAAAAAgBWKQDMzMzOz04pAZmZmZuaRi0CamZmZGVCMQM3MzMxMDo1AAAAAAIDMjUAzMzMzs4qOQGZmZmbmSI9A\",\"dtype\":\"float64\",\"shape\":[75]}},\"selected\":{\"id\":\"93186ee4-fc78-4b46-b281-5dcce4038725\",\"type\":\"Selection\"},\"selection_policy\":{\"id\":\"01cf5a2a-5094-457f-bc13-5737f8557996\",\"type\":\"UnionRenderers\"}},\"id\":\"10cb416e-fa58-469b-abb4-75e1a3af37c9\",\"type\":\"ColumnDataSource\"},{\"attributes\":{\"line_alpha\":0.1,\"line_color\":\"#1f77b4\",\"line_dash\":[6],\"line_width\":5,\"x\":{\"field\":\"x\"},\"y\":{\"field\":\"y\"}},\"id\":\"5edf74c8-f6db-45e5-9db6-245942dd7c56\",\"type\":\"Line\"},{\"attributes\":{\"line_color\":\"#4daf4a\",\"line_width\":1.5,\"x\":{\"field\":\"x\"},\"y\":{\"field\":\"y\"}},\"id\":\"9c17871e-9c00-4ec5-90cd-c5d3a1f3d5a4\",\"type\":\"Line\"},{\"attributes\":{\"fill_alpha\":{\"value\":0.7},\"fill_color\":{\"value\":\"#4daf4a\"},\"line_alpha\":{\"value\":0.7},\"line_color\":{\"value\":\"#4daf4a\"},\"x\":{\"field\":\"x\"},\"y\":{\"field\":\"y\"}},\"id\":\"ae94eb39-fdf1-491e-888e-5533fd75d0cb\",\"type\":\"Circle\"},{\"attributes\":{\"callback\":null,\"end\":1.5925594630414002,\"start\":0.25203974759860004},\"id\":\"c06bd83a-35a2-4490-aed8-7f7408e16e93\",\"type\":\"Range1d\"},{\"attributes\":{\"source\":{\"id\":\"afed01a9-46bd-47aa-9570-e83efdb9d5f1\",\"type\":\"ColumnDataSource\"}},\"id\":\"370570fb-2628-4ac9-a4ea-512050706f45\",\"type\":\"CDSView\"},{\"attributes\":{\"source\":{\"id\":\"849ff2a1-88cb-469c-8708-a0313413b782\",\"type\":\"ColumnDataSource\"}},\"id\":\"09415619-e2c1-415d-857c-409ae3cd1d9c\",\"type\":\"CDSView\"},{\"attributes\":{\"source\":{\"id\":\"b73be0db-783c-4206-9dbd-0a3bb0ba3e14\",\"type\":\"ColumnDataSource\"}},\"id\":\"315c29c6-0efb-4b62-ab0c-8b7e5f5280e5\",\"type\":\"CDSView\"},{\"attributes\":{\"line_alpha\":0.6,\"line_color\":\"#377eb8\",\"line_dash\":[6],\"line_width\":5,\"x\":{\"field\":\"x\"},\"y\":{\"field\":\"y\"}},\"id\":\"cece890f-c3ea-417f-b08e-5dd448e0fbbd\",\"type\":\"Line\"},{\"attributes\":{\"callback\":null,\"data\":{\"x\":{\"__ndarray__\":\"LH/vCEneQ8ArI4EQH/cYwFgairqSpgPALfnVjwQc8j9Gxyuj75oLQF/jZn502Q9A+AtFsevKBkA5iZV59jrrPwGnyxwnmO2/alkkGoBj+r9j7qkNNxj0v29QG/XoudS/u2fKC1214D8OiGMbqvPuP0Q3vKDGEO0/VoK50y0w2T8hOidU+bjQv/jOoLsVSuW/JiMG2O1b5b92pVRMbEzav0Kq3PhVeMG/EKEMNszisj86LYg+r33BP/2saiJbkbm/oMW4/gtOzb8XGxz9G86gv08UdRF2XdE/U14vo87s0T9DaPuChhG8P+P4trRaSaA/xRiZNmYrxD9MREBh9vnMPx0dxJMStsA/o0fvBf50er8ExyjTzKVhPxNXIsYrHrM//K84hu3ipz93bKokFmWZv017s6Sq0rO/KpRVorMztr+Xt3tbU9ayv0UYnWltGq2/xFb55wXipb/ORtChISmbvyUp6XrGf5G//WflaJNzh792G2CE94tRv0WzL2K4Nna/QRnewpqJm796yuGlmZ+qvxPwGUojZqq/Mhf4timMor+ULjuTDQujvy6HAo/DY6q/msZvyCQQqr+UZA4aYsKkv7GoWgj7QZ6/D5iEuOe6lr/6j+LIdeaRv+rkDe2xJoa/59xWGdbkf7+W6fwaXEF6v60HGKm1gX+/JDXsZYaOgb+s/wTU6XJ+v0hUsjukYW+/1PWC7Eg3Yj9MM3Jy1EyFPyNTzq+XupA/UCI/q2SxlT9AUkiIqzCZPx7hYL062Jo/eUgCmU0jmj+roTM+ivmZP3xbZjW+5pg/\",\"dtype\":\"float64\",\"shape\":[75]},\"y\":{\"__ndarray__\":\"GhExyth1ND/Sv8nbtpRIP2vylNV0PVE/aTum7souWD/At0SJ8fVgPw3Iuahxymc/MSNhhJWvcD/bTfBN02d3P2zb5nxnaoA/CD5h5MAGhz8NmeH1TyaQP+zrCsc9p5Y/LbKd76fGnz/bLW5ISEmmPww9YvTcQq8/JV2OstnstT8Er5Y7M8G+P0c+r3jqkcU/5h99k6ZBzj88bCIzFzjVP4enV8oyxN0//yH99nXg5D8qOpLLf0jtP5kqGJXUifQ/c9cS8kHP/D+/DpwzojQEQIEmwoanVwxA4lgXt9HgE0BSSZ2AJuIbQAMJih9jjiNA5q4l5INuK0AwTKYKRj0zQNv5fmq8/DpAaCJseHrtQkB/+zpwzoxKQM3MzMzMeFJAZmZmZmZqWEAAAAAAAFxeQM3MzMzMJmJAmpmZmZkfZUBmZmZmZhhoQDMzMzMzEWtAAAAAAAAKbkBmZmZmZoFwQM3MzMzM/XFAMzMzMzN6c0CamZmZmfZ0QAAAAAAAc3ZAZmZmZmbvd0DNzMzMzGt5QDMzMzMz6HpAmpmZmZlkfEAAAAAAAOF9QGZmZmZmXX9AZmZmZuZsgECamZmZGSuBQM3MzMxM6YFAAAAAAICngkAzMzMzs2WDQGZmZmbmI4RAmpmZmRnihEDNzMzMTKCFQAAAAACAXoZAMzMzM7Mch0BmZmZm5tqHQJqZmZkZmYhAzczMzExXiUAAAAAAgBWKQDMzMzOz04pAZmZmZuaRi0CamZmZGVCMQM3MzMxMDo1AAAAAAIDMjUAzMzMzs4qOQGZmZmbmSI9A\",\"dtype\":\"float64\",\"shape\":[75]}},\"selected\":{\"id\":\"b7a61e99-1be5-4a8b-ba6e-ec79872ffee2\",\"type\":\"Selection\"},\"selection_policy\":{\"id\":\"c9ce08a9-48c4-404b-be26-dda6472b2404\",\"type\":\"UnionRenderers\"}},\"id\":\"849ff2a1-88cb-469c-8708-a0313413b782\",\"type\":\"ColumnDataSource\"},{\"attributes\":{\"callback\":null,\"data\":{\"x\":{\"__ndarray__\":\"0CYBcvU5UkCik9zf2GVBQF1VoNfLZ0BAVLxhiVXTPUDD1Wu1wJM6QFJyB025jjdAU6Aw5+b/NECYe1uuDfgyQB6bYtVTbTFAPxYSAF1HMEA00pYVm9QuQLolHbMzgC1AntlwirGsLECv+G9SjE4rQJH6ZLBp0ShAsLZQyPd/JkDyjgyf2PwkQLgyNGsrJyRAA13QbJD6I0C8hy0ilI4kQOVTXCEgcSZAovOGvZSGJUBVc/ZmUOIgQOf/6GHAyRlAcE8fAOBSFEDRur1U//gPQGFD9ZbokghAQsqHuSqSA0C91ci3W0UBQCtRQfvz7/4/kh8pntyB+j9t1/n+4TX1P773MAUjFfI/RgzR+CI28T8hBW8WHK7uPzVKjJfU8uk/0FPt4/z65T/wVYqzMPDhPz7K9C5CXuE/8+hSn9hY4T/9PPCkR6rhP1XsIC599OA/66X1nBCX3z/YbRM56QjcPz4dkSQc/dM/S7Wb8Fq00T+/yQdmX0vcP7TrGf476eM/WqNPJoWO7D9qOH1bcwDzP2bw+R5DQ/Y/RLSuQOQp+D8+aif8yAz5P0Wv6eBKRfk/0i2+IN4R+T/ik8QNFZr4PyS5UD5j/Pc/yJ68zXRG9z/2CHPL54H2P59SOhwKtPU/npkP8dfg9D8NlmVcdQz0P80ugRvuOvM/byxiAHN18j9USVZie8nxP5l9lNXYSPE/OB+F0UYP8T8Y7dsUCTHxP3EBgTHPcPE/bfx15p8S8T8FT+xkGtTuP6mdG7rkxuk/pboqTkHX5D/CrN8qGYngP7R4ZaL+htU/\",\"dtype\":\"float64\",\"shape\":[75]},\"y\":{\"__ndarray__\":\"GhExyth1ND/Sv8nbtpRIP2vylNV0PVE/aTum7souWD/At0SJ8fVgPw3Iuahxymc/MSNhhJWvcD/bTfBN02d3P2zb5nxnaoA/CD5h5MAGhz8NmeH1TyaQP+zrCsc9p5Y/LbKd76fGnz/bLW5ISEmmPww9YvTcQq8/JV2OstnstT8Er5Y7M8G+P0c+r3jqkcU/5h99k6ZBzj88bCIzFzjVP4enV8oyxN0//yH99nXg5D8qOpLLf0jtP5kqGJXUifQ/c9cS8kHP/D+/DpwzojQEQIEmwoanVwxA4lgXt9HgE0BSSZ2AJuIbQAMJih9jjiNA5q4l5INuK0AwTKYKRj0zQNv5fmq8/DpAaCJseHrtQkB/+zpwzoxKQM3MzMzMeFJAZmZmZmZqWEAAAAAAAFxeQM3MzMzMJmJAmpmZmZkfZUBmZmZmZhhoQDMzMzMzEWtAAAAAAAAKbkBmZmZmZoFwQM3MzMzM/XFAMzMzMzN6c0CamZmZmfZ0QAAAAAAAc3ZAZmZmZmbvd0DNzMzMzGt5QDMzMzMz6HpAmpmZmZlkfEAAAAAAAOF9QGZmZmZmXX9AZmZmZuZsgECamZmZGSuBQM3MzMxM6YFAAAAAAICngkAzMzMzs2WDQGZmZmbmI4RAmpmZmRnihEDNzMzMTKCFQAAAAACAXoZAMzMzM7Mch0BmZmZm5tqHQJqZmZkZmYhAzczMzExXiUAAAAAAgBWKQDMzMzOz04pAZmZmZuaRi0CamZmZGVCMQM3MzMxMDo1AAAAAAIDMjUAzMzMzs4qOQGZmZmbmSI9A\",\"dtype\":\"float64\",\"shape\":[75]}},\"selected\":{\"id\":\"9f752834-3a60-4dcd-aff0-ae8fc0363867\",\"type\":\"Selection\"},\"selection_policy\":{\"id\":\"59412722-67d1-4b30-9d17-a6a98fb361e5\",\"type\":\"UnionRenderers\"}},\"id\":\"b73be0db-783c-4206-9dbd-0a3bb0ba3e14\",\"type\":\"ColumnDataSource\"},{\"attributes\":{\"callback\":null,\"data\":{\"x\":{\"__ndarray__\":\"LH/vCEneQ8ArI4EQH/cYwFgairqSpgPALfnVjwQc8j9Gxyuj75oLQF/jZn502Q9A+AtFsevKBkA5iZV59jrrPwGnyxwnmO2/alkkGoBj+r9j7qkNNxj0v29QG/XoudS/u2fKC1214D8OiGMbqvPuP0Q3vKDGEO0/VoK50y0w2T8hOidU+bjQv/jOoLsVSuW/JiMG2O1b5b92pVRMbEzav0Kq3PhVeMG/EKEMNszisj86LYg+r33BP/2saiJbkbm/oMW4/gtOzb8XGxz9G86gv08UdRF2XdE/U14vo87s0T9DaPuChhG8P+P4trRaSaA/xRiZNmYrxD9MREBh9vnMPx0dxJMStsA/o0fvBf50er8ExyjTzKVhPxNXIsYrHrM//K84hu3ipz93bKokFmWZv017s6Sq0rO/KpRVorMztr+Xt3tbU9ayv0UYnWltGq2/xFb55wXipb/ORtChISmbvyUp6XrGf5G//WflaJNzh792G2CE94tRv0WzL2K4Nna/QRnewpqJm796yuGlmZ+qvxPwGUojZqq/Mhf4timMor+ULjuTDQujvy6HAo/DY6q/msZvyCQQqr+UZA4aYsKkv7GoWgj7QZ6/D5iEuOe6lr/6j+LIdeaRv+rkDe2xJoa/59xWGdbkf7+W6fwaXEF6v60HGKm1gX+/JDXsZYaOgb+s/wTU6XJ+v0hUsjukYW+/1PWC7Eg3Yj9MM3Jy1EyFPyNTzq+XupA/UCI/q2SxlT9AUkiIqzCZPx7hYL062Jo/eUgCmU0jmj+roTM+ivmZP3xbZjW+5pg/\",\"dtype\":\"float64\",\"shape\":[75]},\"y\":{\"__ndarray__\":\"GhExyth1ND/Sv8nbtpRIP2vylNV0PVE/aTum7souWD/At0SJ8fVgPw3Iuahxymc/MSNhhJWvcD/bTfBN02d3P2zb5nxnaoA/CD5h5MAGhz8NmeH1TyaQP+zrCsc9p5Y/LbKd76fGnz/bLW5ISEmmPww9YvTcQq8/JV2OstnstT8Er5Y7M8G+P0c+r3jqkcU/5h99k6ZBzj88bCIzFzjVP4enV8oyxN0//yH99nXg5D8qOpLLf0jtP5kqGJXUifQ/c9cS8kHP/D+/DpwzojQEQIEmwoanVwxA4lgXt9HgE0BSSZ2AJuIbQAMJih9jjiNA5q4l5INuK0AwTKYKRj0zQNv5fmq8/DpAaCJseHrtQkB/+zpwzoxKQM3MzMzMeFJAZmZmZmZqWEAAAAAAAFxeQM3MzMzMJmJAmpmZmZkfZUBmZmZmZhhoQDMzMzMzEWtAAAAAAAAKbkBmZmZmZoFwQM3MzMzM/XFAMzMzMzN6c0CamZmZmfZ0QAAAAAAAc3ZAZmZmZmbvd0DNzMzMzGt5QDMzMzMz6HpAmpmZmZlkfEAAAAAAAOF9QGZmZmZmXX9AZmZmZuZsgECamZmZGSuBQM3MzMxM6YFAAAAAAICngkAzMzMzs2WDQGZmZmbmI4RAmpmZmRnihEDNzMzMTKCFQAAAAACAXoZAMzMzM7Mch0BmZmZm5tqHQJqZmZkZmYhAzczMzExXiUAAAAAAgBWKQDMzMzOz04pAZmZmZuaRi0CamZmZGVCMQM3MzMxMDo1AAAAAAIDMjUAzMzMzs4qOQGZmZmbmSI9A\",\"dtype\":\"float64\",\"shape\":[75]}},\"selected\":{\"id\":\"7a584b81-d924-4080-9e61-94bf9ef1cf14\",\"type\":\"Selection\"},\"selection_policy\":{\"id\":\"d9044d82-3e02-4672-ae7a-2c0d9ce80d17\",\"type\":\"UnionRenderers\"}},\"id\":\"febf70fb-fc69-48a4-8aff-0e66c789b12f\",\"type\":\"ColumnDataSource\"},{\"attributes\":{\"data_source\":{\"id\":\"b73be0db-783c-4206-9dbd-0a3bb0ba3e14\",\"type\":\"ColumnDataSource\"},\"glyph\":{\"id\":\"9c17871e-9c00-4ec5-90cd-c5d3a1f3d5a4\",\"type\":\"Line\"},\"hover_glyph\":null,\"muted_glyph\":null,\"nonselection_glyph\":{\"id\":\"c45d0a99-daef-44a5-ab86-cf95e41723ed\",\"type\":\"Line\"},\"selection_glyph\":null,\"view\":{\"id\":\"315c29c6-0efb-4b62-ab0c-8b7e5f5280e5\",\"type\":\"CDSView\"}},\"id\":\"e05671a8-ea4b-4306-a36f-d58a7f9edba6\",\"type\":\"GlyphRenderer\"},{\"attributes\":{},\"id\":\"4a5ac703-09dd-4cba-ae5f-d2ecc014dc05\",\"type\":\"Selection\"},{\"attributes\":{\"axis_label\":\"pressure [mb]\",\"formatter\":{\"id\":\"c7473bc7-8fb8-4ca5-8198-ccb297e2873c\",\"type\":\"BasicTickFormatter\"},\"plot\":{\"id\":\"45f363c0-caa1-47b6-a134-a37f079d2ccb\",\"subtype\":\"Figure\",\"type\":\"Plot\"},\"ticker\":{\"id\":\"ce64f335-fd4a-4a56-826f-59ba85e64693\",\"type\":\"BasicTicker\"}},\"id\":\"26d4adf6-617f-43c9-85aa-85478e887d66\",\"type\":\"LinearAxis\"},{\"attributes\":{},\"id\":\"93186ee4-fc78-4b46-b281-5dcce4038725\",\"type\":\"Selection\"},{\"attributes\":{\"data_source\":{\"id\":\"10cb416e-fa58-469b-abb4-75e1a3af37c9\",\"type\":\"ColumnDataSource\"},\"glyph\":{\"id\":\"ae94eb39-fdf1-491e-888e-5533fd75d0cb\",\"type\":\"Circle\"},\"hover_glyph\":null,\"muted_glyph\":null,\"nonselection_glyph\":{\"id\":\"40ff1240-7e00-4bf4-a472-8c43cfede38d\",\"type\":\"Circle\"},\"selection_glyph\":null,\"view\":{\"id\":\"e55a88b8-781b-411d-b7d0-de8b16d01d14\",\"type\":\"CDSView\"}},\"id\":\"b0f0c16e-6be8-43dc-8306-a325ea1c40cc\",\"type\":\"GlyphRenderer\"},{\"attributes\":{\"line_alpha\":0.8,\"line_color\":\"#984ea3\",\"line_width\":1.5,\"x\":{\"field\":\"x\"},\"y\":{\"field\":\"y\"}},\"id\":\"c68e4301-9839-4bcb-b112-ce4710e8f9d8\",\"type\":\"Line\"},{\"attributes\":{\"callback\":null,\"data\":{\"x\":{\"__ndarray__\":\"d84S26GVQEB63pj76Y08QG9n71fFWj5A5xtf0hX1PkCsTtGpHgc+QL9O1NzniTtA0EFZXUTZN0DhJyhi5dEzQOU9fJySgDBAUKHf/ElCLUBnlOEzlFEsQDZLdGtk2ixAHIAtWwe4LUAvMSb0xj0tQAe+cBp2oipAw4LuNnlJJ0AjVWvUEHckQMkleg+K0iJA0PpPj9GkIkCQ4sq/MLwjQD3heMk+KyZA4gzzVVqsJUALlPAjRyghQDVVX/V6YxlARIkpoG9oE0BlSsnkxrUPQOrlI1mXvgpADLbtjcTPBUD+sODr5yUCQPMI59A+cv8/rEL8ZEkH/T/53yHLINX4P2F7qVflK/Q/AB3L+q0b8T/pLULjwb/uPxqVUBCaVuw/zt5QvCt55z+LAmUCCCXhP6a1vLTZx90/3WwQVsQk3T8TjAFz+p7eP6Q1Dq+sRd4/F3v238/a3D9tafYeV1baP6yK4rwf5dI/CopUVb740D+iaYNu0zncP02MVY3OvOM/jrI4UDiy6z8YKk6OdivyP+UgqQQScPU/jPP28oKV9z/JkI2PcHT4PwybccQscvg/nK96+lxB+D++IPT8AfT3P4BOL1Jbg/c/aIzaLonr9j+2fk/0TTr2P9Y2YLi8h/U/wEL2GvPA9D8jmUoANPLzP8UW2GVsG/M/A1SW81VS8j9URIJ4CKvxP2+kdgMoOfE/smD7dWIY8T9+0cC9olvxP786QJC5s/E/9/gieWVp8T+XkS7Bn53vP7SkBpCmneo/6szyuluo5T/QSdF85VjhP2neu4VqFdc/\",\"dtype\":\"float64\",\"shape\":[75]},\"y\":{\"__ndarray__\":\"GhExyth1ND/Sv8nbtpRIP2vylNV0PVE/aTum7souWD/At0SJ8fVgPw3Iuahxymc/MSNhhJWvcD/bTfBN02d3P2zb5nxnaoA/CD5h5MAGhz8NmeH1TyaQP+zrCsc9p5Y/LbKd76fGnz/bLW5ISEmmPww9YvTcQq8/JV2OstnstT8Er5Y7M8G+P0c+r3jqkcU/5h99k6ZBzj88bCIzFzjVP4enV8oyxN0//yH99nXg5D8qOpLLf0jtP5kqGJXUifQ/c9cS8kHP/D+/DpwzojQEQIEmwoanVwxA4lgXt9HgE0BSSZ2AJuIbQAMJih9jjiNA5q4l5INuK0AwTKYKRj0zQNv5fmq8/DpAaCJseHrtQkB/+zpwzoxKQM3MzMzMeFJAZmZmZmZqWEAAAAAAAFxeQM3MzMzMJmJAmpmZmZkfZUBmZmZmZhhoQDMzMzMzEWtAAAAAAAAKbkBmZmZmZoFwQM3MzMzM/XFAMzMzMzN6c0CamZmZmfZ0QAAAAAAAc3ZAZmZmZmbvd0DNzMzMzGt5QDMzMzMz6HpAmpmZmZlkfEAAAAAAAOF9QGZmZmZmXX9AZmZmZuZsgECamZmZGSuBQM3MzMxM6YFAAAAAAICngkAzMzMzs2WDQGZmZmbmI4RAmpmZmRnihEDNzMzMTKCFQAAAAACAXoZAMzMzM7Mch0BmZmZm5tqHQJqZmZkZmYhAzczMzExXiUAAAAAAgBWKQDMzMzOz04pAZmZmZuaRi0CamZmZGVCMQM3MzMxMDo1AAAAAAIDMjUAzMzMzs4qOQGZmZmbmSI9A\",\"dtype\":\"float64\",\"shape\":[75]}},\"selected\":{\"id\":\"4a5ac703-09dd-4cba-ae5f-d2ecc014dc05\",\"type\":\"Selection\"},\"selection_policy\":{\"id\":\"0c14e0c6-5230-43f0-93e0-12e996507513\",\"type\":\"UnionRenderers\"}},\"id\":\"afed01a9-46bd-47aa-9570-e83efdb9d5f1\",\"type\":\"ColumnDataSource\"},{\"attributes\":{\"ticker\":null},\"id\":\"b11ba4ad-eaa1-42f3-a154-2862ce14c843\",\"type\":\"LogTickFormatter\"},{\"attributes\":{\"label\":{\"value\":\"CLIRAD (single-run) - CRD\"},\"renderers\":[{\"id\":\"5fd100b5-c588-4722-877b-82b5b6a22207\",\"type\":\"GlyphRenderer\"},{\"id\":\"70370339-3518-4ebb-b96f-d356a740d6a1\",\"type\":\"GlyphRenderer\"}]},\"id\":\"b5bfa91e-2f04-4414-aee6-4747f095cf09\",\"type\":\"LegendItem\"},{\"attributes\":{\"callback\":null,\"end\":0.9934095621584402,\"start\":-1.6754574524624393},\"id\":\"92c950bd-1889-4132-af06-bb30b74ed9af\",\"type\":\"Range1d\"},{\"attributes\":{\"callback\":null,\"end\":0.01,\"start\":1020},\"id\":\"3d6d2d65-950f-450e-b245-e27e8e50aaed\",\"type\":\"Range1d\"},{\"attributes\":{},\"id\":\"ce64f335-fd4a-4a56-826f-59ba85e64693\",\"type\":\"BasicTicker\"},{\"attributes\":{\"fill_alpha\":{\"value\":0.1},\"fill_color\":{\"value\":\"#1f77b4\"},\"line_alpha\":{\"value\":0.1},\"line_color\":{\"value\":\"#1f77b4\"},\"x\":{\"field\":\"x\"},\"y\":{\"field\":\"y\"}},\"id\":\"40ff1240-7e00-4bf4-a472-8c43cfede38d\",\"type\":\"Circle\"},{\"attributes\":{\"axis_label\":\"cooling rate [K/day]\",\"formatter\":{\"id\":\"945cefd9-498e-4bb7-90f6-b5f39504a172\",\"type\":\"BasicTickFormatter\"},\"plot\":{\"id\":\"634e0fe6-c6e4-470a-96e3-7f81d24b192d\",\"subtype\":\"Figure\",\"type\":\"Plot\"},\"ticker\":{\"id\":\"c6d2b672-03f6-4b14-8b6f-800524327de8\",\"type\":\"BasicTicker\"}},\"id\":\"1171e03f-669a-4434-8519-aabc30347472\",\"type\":\"LinearAxis\"},{\"attributes\":{\"callback\":null,\"data\":{\"x\":{\"__ndarray__\":\"0CYBcvU5UkCik9zf2GVBQF1VoNfLZ0BAVLxhiVXTPUDD1Wu1wJM6QFJyB025jjdAU6Aw5+b/NECYe1uuDfgyQB6bYtVTbTFAPxYSAF1HMEA00pYVm9QuQLolHbMzgC1AntlwirGsLECv+G9SjE4rQJH6ZLBp0ShAsLZQyPd/JkDyjgyf2PwkQLgyNGsrJyRAA13QbJD6I0C8hy0ilI4kQOVTXCEgcSZAovOGvZSGJUBVc/ZmUOIgQOf/6GHAyRlAcE8fAOBSFEDRur1U//gPQGFD9ZbokghAQsqHuSqSA0C91ci3W0UBQCtRQfvz7/4/kh8pntyB+j9t1/n+4TX1P773MAUjFfI/RgzR+CI28T8hBW8WHK7uPzVKjJfU8uk/0FPt4/z65T/wVYqzMPDhPz7K9C5CXuE/8+hSn9hY4T/9PPCkR6rhP1XsIC599OA/66X1nBCX3z/YbRM56QjcPz4dkSQc/dM/S7Wb8Fq00T+/yQdmX0vcP7TrGf476eM/WqNPJoWO7D9qOH1bcwDzP2bw+R5DQ/Y/RLSuQOQp+D8+aif8yAz5P0Wv6eBKRfk/0i2+IN4R+T/ik8QNFZr4PyS5UD5j/Pc/yJ68zXRG9z/2CHPL54H2P59SOhwKtPU/npkP8dfg9D8NlmVcdQz0P80ugRvuOvM/byxiAHN18j9USVZie8nxP5l9lNXYSPE/OB+F0UYP8T8Y7dsUCTHxP3EBgTHPcPE/bfx15p8S8T8FT+xkGtTuP6mdG7rkxuk/pboqTkHX5D/CrN8qGYngP7R4ZaL+htU/\",\"dtype\":\"float64\",\"shape\":[75]},\"y\":{\"__ndarray__\":\"GhExyth1ND/Sv8nbtpRIP2vylNV0PVE/aTum7souWD/At0SJ8fVgPw3Iuahxymc/MSNhhJWvcD/bTfBN02d3P2zb5nxnaoA/CD5h5MAGhz8NmeH1TyaQP+zrCsc9p5Y/LbKd76fGnz/bLW5ISEmmPww9YvTcQq8/JV2OstnstT8Er5Y7M8G+P0c+r3jqkcU/5h99k6ZBzj88bCIzFzjVP4enV8oyxN0//yH99nXg5D8qOpLLf0jtP5kqGJXUifQ/c9cS8kHP/D+/DpwzojQEQIEmwoanVwxA4lgXt9HgE0BSSZ2AJuIbQAMJih9jjiNA5q4l5INuK0AwTKYKRj0zQNv5fmq8/DpAaCJseHrtQkB/+zpwzoxKQM3MzMzMeFJAZmZmZmZqWEAAAAAAAFxeQM3MzMzMJmJAmpmZmZkfZUBmZmZmZhhoQDMzMzMzEWtAAAAAAAAKbkBmZmZmZoFwQM3MzMzM/XFAMzMzMzN6c0CamZmZmfZ0QAAAAAAAc3ZAZmZmZmbvd0DNzMzMzGt5QDMzMzMz6HpAmpmZmZlkfEAAAAAAAOF9QGZmZmZmXX9AZmZmZuZsgECamZmZGSuBQM3MzMxM6YFAAAAAAICngkAzMzMzs2WDQGZmZmbmI4RAmpmZmRnihEDNzMzMTKCFQAAAAACAXoZAMzMzM7Mch0BmZmZm5tqHQJqZmZkZmYhAzczMzExXiUAAAAAAgBWKQDMzMzOz04pAZmZmZuaRi0CamZmZGVCMQM3MzMxMDo1AAAAAAIDMjUAzMzMzs4qOQGZmZmbmSI9A\",\"dtype\":\"float64\",\"shape\":[75]}},\"selected\":{\"id\":\"5bf2176b-b015-4dfd-805b-5651a49e6274\",\"type\":\"Selection\"},\"selection_policy\":{\"id\":\"8636a136-a8a2-4b55-b4c3-b81bffaa369b\",\"type\":\"UnionRenderers\"}},\"id\":\"7d2c9b84-e806-4756-a9eb-05137dd3414f\",\"type\":\"ColumnDataSource\"},{\"attributes\":{\"source\":{\"id\":\"7d2c9b84-e806-4756-a9eb-05137dd3414f\",\"type\":\"ColumnDataSource\"}},\"id\":\"180a021a-06df-478b-a010-b6c298fd2e58\",\"type\":\"CDSView\"},{\"attributes\":{},\"id\":\"ea75be81-4dbf-4723-8bcb-1436df866648\",\"type\":\"UnionRenderers\"},{\"attributes\":{},\"id\":\"8636a136-a8a2-4b55-b4c3-b81bffaa369b\",\"type\":\"UnionRenderers\"},{\"attributes\":{\"plot\":null,\"text\":\"\"},\"id\":\"40aa88f6-b76f-4d58-921d-55f0b9bdf193\",\"type\":\"Title\"},{\"attributes\":{\"active_drag\":\"auto\",\"active_inspect\":\"auto\",\"active_scroll\":\"auto\",\"active_tap\":\"auto\",\"tools\":[{\"id\":\"31bde894-9c62-4e46-8bf8-0fec9f13ec0b\",\"type\":\"PanTool\"},{\"id\":\"20a8f4a1-6d76-4632-90b9-8b2834da9808\",\"type\":\"WheelZoomTool\"},{\"id\":\"80901190-d486-4868-a7f4-7d249d7f1e25\",\"type\":\"BoxZoomTool\"},{\"id\":\"c181bad7-0e18-4a7a-bd51-938e63f325eb\",\"type\":\"SaveTool\"},{\"id\":\"a2efdf87-0c23-4d35-81bd-954f4891b558\",\"type\":\"ResetTool\"},{\"id\":\"6c46af96-f549-4047-a8a1-cbd7dd56aa56\",\"type\":\"HelpTool\"}]},\"id\":\"f3d74bd8-8cb7-483d-b385-b001df2e5641\",\"type\":\"Toolbar\"},{\"attributes\":{\"callback\":null,\"end\":0.01,\"start\":1020},\"id\":\"a3627148-be85-4806-ab16-22c8afa84842\",\"type\":\"Range1d\"},{\"attributes\":{},\"id\":\"7a584b81-d924-4080-9e61-94bf9ef1cf14\",\"type\":\"Selection\"},{\"attributes\":{\"fill_alpha\":{\"value\":0.1},\"fill_color\":{\"value\":\"#1f77b4\"},\"line_alpha\":{\"value\":0.1},\"line_color\":{\"value\":\"#1f77b4\"},\"x\":{\"field\":\"x\"},\"y\":{\"field\":\"y\"}},\"id\":\"02b29983-666f-4f4a-a415-0f3c1b3c1908\",\"type\":\"Circle\"},{\"attributes\":{\"data_source\":{\"id\":\"7d2c9b84-e806-4756-a9eb-05137dd3414f\",\"type\":\"ColumnDataSource\"},\"glyph\":{\"id\":\"6d29b1ae-c671-457c-9798-0fa456297be2\",\"type\":\"Circle\"},\"hover_glyph\":null,\"muted_glyph\":null,\"nonselection_glyph\":{\"id\":\"7b1c50be-c804-428a-8776-70e9ca7fcf66\",\"type\":\"Circle\"},\"selection_glyph\":null,\"view\":{\"id\":\"180a021a-06df-478b-a010-b6c298fd2e58\",\"type\":\"CDSView\"}},\"id\":\"5d07d062-80f9-47f4-94d4-43d6e6942816\",\"type\":\"GlyphRenderer\"},{\"attributes\":{},\"id\":\"c1e59b1c-e78c-4108-9262-e7982da86e1d\",\"type\":\"SaveTool\"},{\"attributes\":{},\"id\":\"c9ce08a9-48c4-404b-be26-dda6472b2404\",\"type\":\"UnionRenderers\"},{\"attributes\":{},\"id\":\"52e9571c-b4d4-4fe5-94cd-f6eb52bf976a\",\"type\":\"SaveTool\"},{\"attributes\":{\"label\":{\"value\":\"CRD\"},\"renderers\":[{\"id\":\"5d07d062-80f9-47f4-94d4-43d6e6942816\",\"type\":\"GlyphRenderer\"},{\"id\":\"0e3db940-1700-438e-942b-67f9e12fa5d9\",\"type\":\"GlyphRenderer\"}]},\"id\":\"7799a360-3a2e-43a1-82c0-dd14ef29786e\",\"type\":\"LegendItem\"},{\"attributes\":{\"tools\":[{\"id\":\"d4c3e715-2086-4482-9178-9f850c0fbae7\",\"type\":\"PanTool\"},{\"id\":\"0d81bd37-7a87-4134-84a0-6502ec8e592a\",\"type\":\"WheelZoomTool\"},{\"id\":\"c84d066f-3b47-4e71-a22c-5c10e04cc7c4\",\"type\":\"BoxZoomTool\"},{\"id\":\"c1e59b1c-e78c-4108-9262-e7982da86e1d\",\"type\":\"SaveTool\"},{\"id\":\"0428bd6c-aae6-4368-a023-a54f823b339d\",\"type\":\"ResetTool\"},{\"id\":\"a15cc9a0-1935-43d5-85e8-728419d0a56f\",\"type\":\"HelpTool\"},{\"id\":\"2160ed00-8ad1-4c97-b97b-9670b4e4e0e4\",\"type\":\"PanTool\"},{\"id\":\"cc3996c9-7c97-43a8-b382-fd3a5be5045f\",\"type\":\"WheelZoomTool\"},{\"id\":\"feb1ee91-c5f2-469d-894f-9b1155e9c222\",\"type\":\"BoxZoomTool\"},{\"id\":\"52e9571c-b4d4-4fe5-94cd-f6eb52bf976a\",\"type\":\"SaveTool\"},{\"id\":\"bb864ee1-07fc-45e1-9570-1d4fcca68981\",\"type\":\"ResetTool\"},{\"id\":\"38afb2f7-c4a0-4c36-bd74-8d6e5d93fea5\",\"type\":\"HelpTool\"},{\"id\":\"31bde894-9c62-4e46-8bf8-0fec9f13ec0b\",\"type\":\"PanTool\"},{\"id\":\"20a8f4a1-6d76-4632-90b9-8b2834da9808\",\"type\":\"WheelZoomTool\"},{\"id\":\"80901190-d486-4868-a7f4-7d249d7f1e25\",\"type\":\"BoxZoomTool\"},{\"id\":\"c181bad7-0e18-4a7a-bd51-938e63f325eb\",\"type\":\"SaveTool\"},{\"id\":\"a2efdf87-0c23-4d35-81bd-954f4891b558\",\"type\":\"ResetTool\"},{\"id\":\"6c46af96-f549-4047-a8a1-cbd7dd56aa56\",\"type\":\"HelpTool\"}]},\"id\":\"cd8bc494-ba5c-46c7-b4d5-4806c7b8ece6\",\"type\":\"ProxyToolbar\"},{\"attributes\":{\"fill_alpha\":{\"value\":0.7},\"fill_color\":{\"value\":\"#4daf4a\"},\"line_alpha\":{\"value\":0.7},\"line_color\":{\"value\":\"#4daf4a\"},\"x\":{\"field\":\"x\"},\"y\":{\"field\":\"y\"}},\"id\":\"6d29b1ae-c671-457c-9798-0fa456297be2\",\"type\":\"Circle\"},{\"attributes\":{},\"id\":\"d9044d82-3e02-4672-ae7a-2c0d9ce80d17\",\"type\":\"UnionRenderers\"},{\"attributes\":{},\"id\":\"cc3996c9-7c97-43a8-b382-fd3a5be5045f\",\"type\":\"WheelZoomTool\"},{\"attributes\":{\"line_color\":\"#4daf4a\",\"line_width\":1.5,\"x\":{\"field\":\"x\"},\"y\":{\"field\":\"y\"}},\"id\":\"afc0ce86-7ddc-405c-a788-11fe683d9b84\",\"type\":\"Line\"},{\"attributes\":{},\"id\":\"ba9269f7-b1b6-400a-81ce-dfbd062f5ef5\",\"type\":\"Selection\"},{\"attributes\":{\"line_alpha\":0.1,\"line_color\":\"#1f77b4\",\"line_width\":1.5,\"x\":{\"field\":\"x\"},\"y\":{\"field\":\"y\"}},\"id\":\"d54890f7-9b66-43ef-bd6c-c6ddc244aa3d\",\"type\":\"Line\"},{\"attributes\":{\"overlay\":{\"id\":\"6f1573da-5416-4f95-8d1e-3a6ae6e39806\",\"type\":\"BoxAnnotation\"}},\"id\":\"c84d066f-3b47-4e71-a22c-5c10e04cc7c4\",\"type\":\"BoxZoomTool\"},{\"attributes\":{\"overlay\":{\"id\":\"9ef47be7-debc-49dc-996b-7178740aba58\",\"type\":\"BoxAnnotation\"}},\"id\":\"feb1ee91-c5f2-469d-894f-9b1155e9c222\",\"type\":\"BoxZoomTool\"},{\"attributes\":{\"data_source\":{\"id\":\"50715a53-49b3-4469-95ad-3879f1c65c7a\",\"type\":\"ColumnDataSource\"},\"glyph\":{\"id\":\"afc0ce86-7ddc-405c-a788-11fe683d9b84\",\"type\":\"Line\"},\"hover_glyph\":null,\"muted_glyph\":null,\"nonselection_glyph\":{\"id\":\"d54890f7-9b66-43ef-bd6c-c6ddc244aa3d\",\"type\":\"Line\"},\"selection_glyph\":null,\"view\":{\"id\":\"90ec7cb8-02f5-43da-b5b5-eecf4f1b6bbd\",\"type\":\"CDSView\"}},\"id\":\"0e3db940-1700-438e-942b-67f9e12fa5d9\",\"type\":\"GlyphRenderer\"},{\"attributes\":{},\"id\":\"0428bd6c-aae6-4368-a023-a54f823b339d\",\"type\":\"ResetTool\"},{\"attributes\":{},\"id\":\"2160ed00-8ad1-4c97-b97b-9670b4e4e0e4\",\"type\":\"PanTool\"},{\"attributes\":{\"callback\":null,\"data\":{\"x\":{\"__ndarray__\":\"0CYBcvU5UkCik9zf2GVBQF1VoNfLZ0BAVLxhiVXTPUDD1Wu1wJM6QFJyB025jjdAU6Aw5+b/NECYe1uuDfgyQB6bYtVTbTFAPxYSAF1HMEA00pYVm9QuQLolHbMzgC1AntlwirGsLECv+G9SjE4rQJH6ZLBp0ShAsLZQyPd/JkDyjgyf2PwkQLgyNGsrJyRAA13QbJD6I0C8hy0ilI4kQOVTXCEgcSZAovOGvZSGJUBVc/ZmUOIgQOf/6GHAyRlAcE8fAOBSFEDRur1U//gPQGFD9ZbokghAQsqHuSqSA0C91ci3W0UBQCtRQfvz7/4/kh8pntyB+j9t1/n+4TX1P773MAUjFfI/RgzR+CI28T8hBW8WHK7uPzVKjJfU8uk/0FPt4/z65T/wVYqzMPDhPz7K9C5CXuE/8+hSn9hY4T/9PPCkR6rhP1XsIC599OA/66X1nBCX3z/YbRM56QjcPz4dkSQc/dM/S7Wb8Fq00T+/yQdmX0vcP7TrGf476eM/WqNPJoWO7D9qOH1bcwDzP2bw+R5DQ/Y/RLSuQOQp+D8+aif8yAz5P0Wv6eBKRfk/0i2+IN4R+T/ik8QNFZr4PyS5UD5j/Pc/yJ68zXRG9z/2CHPL54H2P59SOhwKtPU/npkP8dfg9D8NlmVcdQz0P80ugRvuOvM/byxiAHN18j9USVZie8nxP5l9lNXYSPE/OB+F0UYP8T8Y7dsUCTHxP3EBgTHPcPE/bfx15p8S8T8FT+xkGtTuP6mdG7rkxuk/pboqTkHX5D/CrN8qGYngP7R4ZaL+htU/\",\"dtype\":\"float64\",\"shape\":[75]},\"y\":{\"__ndarray__\":\"GhExyth1ND/Sv8nbtpRIP2vylNV0PVE/aTum7souWD/At0SJ8fVgPw3Iuahxymc/MSNhhJWvcD/bTfBN02d3P2zb5nxnaoA/CD5h5MAGhz8NmeH1TyaQP+zrCsc9p5Y/LbKd76fGnz/bLW5ISEmmPww9YvTcQq8/JV2OstnstT8Er5Y7M8G+P0c+r3jqkcU/5h99k6ZBzj88bCIzFzjVP4enV8oyxN0//yH99nXg5D8qOpLLf0jtP5kqGJXUifQ/c9cS8kHP/D+/DpwzojQEQIEmwoanVwxA4lgXt9HgE0BSSZ2AJuIbQAMJih9jjiNA5q4l5INuK0AwTKYKRj0zQNv5fmq8/DpAaCJseHrtQkB/+zpwzoxKQM3MzMzMeFJAZmZmZmZqWEAAAAAAAFxeQM3MzMzMJmJAmpmZmZkfZUBmZmZmZhhoQDMzMzMzEWtAAAAAAAAKbkBmZmZmZoFwQM3MzMzM/XFAMzMzMzN6c0CamZmZmfZ0QAAAAAAAc3ZAZmZmZmbvd0DNzMzMzGt5QDMzMzMz6HpAmpmZmZlkfEAAAAAAAOF9QGZmZmZmXX9AZmZmZuZsgECamZmZGSuBQM3MzMxM6YFAAAAAAICngkAzMzMzs2WDQGZmZmbmI4RAmpmZmRnihEDNzMzMTKCFQAAAAACAXoZAMzMzM7Mch0BmZmZm5tqHQJqZmZkZmYhAzczMzExXiUAAAAAAgBWKQDMzMzOz04pAZmZmZuaRi0CamZmZGVCMQM3MzMxMDo1AAAAAAIDMjUAzMzMzs4qOQGZmZmbmSI9A\",\"dtype\":\"float64\",\"shape\":[75]}},\"selected\":{\"id\":\"ba9269f7-b1b6-400a-81ce-dfbd062f5ef5\",\"type\":\"Selection\"},\"selection_policy\":{\"id\":\"ea75be81-4dbf-4723-8bcb-1436df866648\",\"type\":\"UnionRenderers\"}},\"id\":\"50715a53-49b3-4469-95ad-3879f1c65c7a\",\"type\":\"ColumnDataSource\"},{\"attributes\":{},\"id\":\"b7a61e99-1be5-4a8b-ba6e-ec79872ffee2\",\"type\":\"Selection\"},{\"attributes\":{\"source\":{\"id\":\"3e6e082a-dff0-40b6-8028-4ff48ef619ce\",\"type\":\"ColumnDataSource\"}},\"id\":\"5d7b4e67-3c9c-445f-a917-4bc58a4fda47\",\"type\":\"CDSView\"},{\"attributes\":{\"fill_alpha\":{\"value\":0.1},\"fill_color\":{\"value\":\"#1f77b4\"},\"line_alpha\":{\"value\":0.1},\"line_color\":{\"value\":\"#1f77b4\"},\"x\":{\"field\":\"x\"},\"y\":{\"field\":\"y\"}},\"id\":\"7b1c50be-c804-428a-8776-70e9ca7fcf66\",\"type\":\"Circle\"},{\"attributes\":{\"toolbar\":{\"id\":\"cd8bc494-ba5c-46c7-b4d5-4806c7b8ece6\",\"type\":\"ProxyToolbar\"},\"toolbar_location\":\"above\"},\"id\":\"7a02e689-03af-40db-acd6-c82c386de94d\",\"type\":\"ToolbarBox\"},{\"attributes\":{\"children\":[{\"id\":\"7a02e689-03af-40db-acd6-c82c386de94d\",\"type\":\"ToolbarBox\"},{\"id\":\"f9f3ed82-4d35-4d42-b92c-49908d4a3d5c\",\"type\":\"Column\"}]},\"id\":\"8f937aea-31a6-46d6-8752-8b1d1b79ed99\",\"type\":\"Column\"},{\"attributes\":{\"above\":[{\"id\":\"ccfe0e06-35a9-47d9-9c82-c10dc2756e48\",\"type\":\"Legend\"}],\"below\":[{\"id\":\"d6e00380-cc79-4b77-adc5-6ce81a65b736\",\"type\":\"LinearAxis\"}],\"left\":[{\"id\":\"270aecdd-fb76-429c-9ea4-b38ed50de626\",\"type\":\"LogAxis\"}],\"plot_width\":300,\"renderers\":[{\"id\":\"d6e00380-cc79-4b77-adc5-6ce81a65b736\",\"type\":\"LinearAxis\"},{\"id\":\"42fbc6c6-5ee1-4846-b607-39954a4803de\",\"type\":\"Grid\"},{\"id\":\"270aecdd-fb76-429c-9ea4-b38ed50de626\",\"type\":\"LogAxis\"},{\"id\":\"5eefd1c0-6ed4-41e8-bfd1-bf2841c7e218\",\"type\":\"Grid\"},{\"id\":\"ac1865fa-cb3e-4e67-a24e-5dd954dc855f\",\"type\":\"BoxAnnotation\"},{\"id\":\"5fd100b5-c588-4722-877b-82b5b6a22207\",\"type\":\"GlyphRenderer\"},{\"id\":\"70370339-3518-4ebb-b96f-d356a740d6a1\",\"type\":\"GlyphRenderer\"},{\"id\":\"ccfe0e06-35a9-47d9-9c82-c10dc2756e48\",\"type\":\"Legend\"}],\"title\":{\"id\":\"40aa88f6-b76f-4d58-921d-55f0b9bdf193\",\"type\":\"Title\"},\"toolbar\":{\"id\":\"f3d74bd8-8cb7-483d-b385-b001df2e5641\",\"type\":\"Toolbar\"},\"toolbar_location\":null,\"x_range\":{\"id\":\"92c950bd-1889-4132-af06-bb30b74ed9af\",\"type\":\"Range1d\"},\"x_scale\":{\"id\":\"fe2a85b2-2b08-4c48-9ac6-455b81350916\",\"type\":\"LinearScale\"},\"y_range\":{\"id\":\"a3627148-be85-4806-ab16-22c8afa84842\",\"type\":\"Range1d\"},\"y_scale\":{\"id\":\"f7f93a72-23d5-468e-8df5-5c31c899d74f\",\"type\":\"LogScale\"}},\"id\":\"57794f6e-77f7-438f-8dc2-28eee7f17368\",\"subtype\":\"Figure\",\"type\":\"Plot\"},{\"attributes\":{\"children\":[{\"id\":\"45f363c0-caa1-47b6-a134-a37f079d2ccb\",\"subtype\":\"Figure\",\"type\":\"Plot\"},{\"id\":\"634e0fe6-c6e4-470a-96e3-7f81d24b192d\",\"subtype\":\"Figure\",\"type\":\"Plot\"},{\"id\":\"57794f6e-77f7-438f-8dc2-28eee7f17368\",\"subtype\":\"Figure\",\"type\":\"Plot\"}]},\"id\":\"d336acb5-63cf-45c8-8278-529e26d97216\",\"type\":\"Row\"},{\"attributes\":{\"callback\":null,\"data\":{\"x\":{\"__ndarray__\":\"d84S26GVQEB63pj76Y08QG9n71fFWj5A5xtf0hX1PkCsTtGpHgc+QL9O1NzniTtA0EFZXUTZN0DhJyhi5dEzQOU9fJySgDBAUKHf/ElCLUBnlOEzlFEsQDZLdGtk2ixAHIAtWwe4LUAvMSb0xj0tQAe+cBp2oipAw4LuNnlJJ0AjVWvUEHckQMkleg+K0iJA0PpPj9GkIkCQ4sq/MLwjQD3heMk+KyZA4gzzVVqsJUALlPAjRyghQDVVX/V6YxlARIkpoG9oE0BlSsnkxrUPQOrlI1mXvgpADLbtjcTPBUD+sODr5yUCQPMI59A+cv8/rEL8ZEkH/T/53yHLINX4P2F7qVflK/Q/AB3L+q0b8T/pLULjwb/uPxqVUBCaVuw/zt5QvCt55z+LAmUCCCXhP6a1vLTZx90/3WwQVsQk3T8TjAFz+p7eP6Q1Dq+sRd4/F3v238/a3D9tafYeV1baP6yK4rwf5dI/CopUVb740D+iaYNu0zncP02MVY3OvOM/jrI4UDiy6z8YKk6OdivyP+UgqQQScPU/jPP28oKV9z/JkI2PcHT4PwybccQscvg/nK96+lxB+D++IPT8AfT3P4BOL1Jbg/c/aIzaLonr9j+2fk/0TTr2P9Y2YLi8h/U/wEL2GvPA9D8jmUoANPLzP8UW2GVsG/M/A1SW81VS8j9URIJ4CKvxP2+kdgMoOfE/smD7dWIY8T9+0cC9olvxP786QJC5s/E/9/gieWVp8T+XkS7Bn53vP7SkBpCmneo/6szyuluo5T/QSdF85VjhP2neu4VqFdc/\",\"dtype\":\"float64\",\"shape\":[75]},\"y\":{\"__ndarray__\":\"GhExyth1ND/Sv8nbtpRIP2vylNV0PVE/aTum7souWD/At0SJ8fVgPw3Iuahxymc/MSNhhJWvcD/bTfBN02d3P2zb5nxnaoA/CD5h5MAGhz8NmeH1TyaQP+zrCsc9p5Y/LbKd76fGnz/bLW5ISEmmPww9YvTcQq8/JV2OstnstT8Er5Y7M8G+P0c+r3jqkcU/5h99k6ZBzj88bCIzFzjVP4enV8oyxN0//yH99nXg5D8qOpLLf0jtP5kqGJXUifQ/c9cS8kHP/D+/DpwzojQEQIEmwoanVwxA4lgXt9HgE0BSSZ2AJuIbQAMJih9jjiNA5q4l5INuK0AwTKYKRj0zQNv5fmq8/DpAaCJseHrtQkB/+zpwzoxKQM3MzMzMeFJAZmZmZmZqWEAAAAAAAFxeQM3MzMzMJmJAmpmZmZkfZUBmZmZmZhhoQDMzMzMzEWtAAAAAAAAKbkBmZmZmZoFwQM3MzMzM/XFAMzMzMzN6c0CamZmZmfZ0QAAAAAAAc3ZAZmZmZmbvd0DNzMzMzGt5QDMzMzMz6HpAmpmZmZlkfEAAAAAAAOF9QGZmZmZmXX9AZmZmZuZsgECamZmZGSuBQM3MzMxM6YFAAAAAAICngkAzMzMzs2WDQGZmZmbmI4RAmpmZmRnihEDNzMzMTKCFQAAAAACAXoZAMzMzM7Mch0BmZmZm5tqHQJqZmZkZmYhAzczMzExXiUAAAAAAgBWKQDMzMzOz04pAZmZmZuaRi0CamZmZGVCMQM3MzMxMDo1AAAAAAIDMjUAzMzMzs4qOQGZmZmbmSI9A\",\"dtype\":\"float64\",\"shape\":[75]}},\"selected\":{\"id\":\"56ca3311-48ee-4307-943d-14226120b4e4\",\"type\":\"Selection\"},\"selection_policy\":{\"id\":\"c9407c1c-6a0a-4f84-89fb-e1229559ac4c\",\"type\":\"UnionRenderers\"}},\"id\":\"3e6e082a-dff0-40b6-8028-4ff48ef619ce\",\"type\":\"ColumnDataSource\"},{\"attributes\":{\"source\":{\"id\":\"febf70fb-fc69-48a4-8aff-0e66c789b12f\",\"type\":\"ColumnDataSource\"}},\"id\":\"ccc93f1b-48a7-4c1c-966c-93142d52ebac\",\"type\":\"CDSView\"},{\"attributes\":{\"source\":{\"id\":\"50715a53-49b3-4469-95ad-3879f1c65c7a\",\"type\":\"ColumnDataSource\"}},\"id\":\"90ec7cb8-02f5-43da-b5b5-eecf4f1b6bbd\",\"type\":\"CDSView\"},{\"attributes\":{\"children\":[{\"id\":\"d336acb5-63cf-45c8-8278-529e26d97216\",\"type\":\"Row\"}]},\"id\":\"f9f3ed82-4d35-4d42-b92c-49908d4a3d5c\",\"type\":\"Column\"},{\"attributes\":{\"axis_label\":\"pressure [mb]\",\"formatter\":{\"id\":\"b11ba4ad-eaa1-42f3-a154-2862ce14c843\",\"type\":\"LogTickFormatter\"},\"plot\":{\"id\":\"634e0fe6-c6e4-470a-96e3-7f81d24b192d\",\"subtype\":\"Figure\",\"type\":\"Plot\"},\"ticker\":{\"id\":\"1b35d4cf-b8b4-413d-96f3-ce04fe82f5cd\",\"type\":\"LogTicker\"}},\"id\":\"3c05c0f5-f254-4e7a-878b-2e260e6a0ecb\",\"type\":\"LogAxis\"},{\"attributes\":{\"data_source\":{\"id\":\"febf70fb-fc69-48a4-8aff-0e66c789b12f\",\"type\":\"ColumnDataSource\"},\"glyph\":{\"id\":\"c68e4301-9839-4bcb-b112-ce4710e8f9d8\",\"type\":\"Line\"},\"hover_glyph\":null,\"muted_glyph\":null,\"nonselection_glyph\":{\"id\":\"aba01f72-9126-4348-875b-a0966f9a46c8\",\"type\":\"Line\"},\"selection_glyph\":null,\"view\":{\"id\":\"ccc93f1b-48a7-4c1c-966c-93142d52ebac\",\"type\":\"CDSView\"}},\"id\":\"70370339-3518-4ebb-b96f-d356a740d6a1\",\"type\":\"GlyphRenderer\"},{\"attributes\":{},\"id\":\"945cefd9-498e-4bb7-90f6-b5f39504a172\",\"type\":\"BasicTickFormatter\"},{\"attributes\":{\"dimension\":1,\"plot\":{\"id\":\"45f363c0-caa1-47b6-a134-a37f079d2ccb\",\"subtype\":\"Figure\",\"type\":\"Plot\"},\"ticker\":{\"id\":\"ce64f335-fd4a-4a56-826f-59ba85e64693\",\"type\":\"BasicTicker\"}},\"id\":\"83d56da6-1392-438e-971c-0533d1355373\",\"type\":\"Grid\"},{\"attributes\":{\"callback\":null,\"end\":0.01,\"start\":1020},\"id\":\"e6956a64-4137-4fdc-99b9-ae6382138d04\",\"type\":\"Range1d\"},{\"attributes\":{\"plot\":{\"id\":\"634e0fe6-c6e4-470a-96e3-7f81d24b192d\",\"subtype\":\"Figure\",\"type\":\"Plot\"},\"ticker\":{\"id\":\"c6d2b672-03f6-4b14-8b6f-800524327de8\",\"type\":\"BasicTicker\"}},\"id\":\"9d5044ee-5f34-42e7-94dd-d18501b59541\",\"type\":\"Grid\"},{\"attributes\":{\"line_alpha\":0.1,\"line_color\":\"#1f77b4\",\"line_width\":1.5,\"x\":{\"field\":\"x\"},\"y\":{\"field\":\"y\"}},\"id\":\"aba01f72-9126-4348-875b-a0966f9a46c8\",\"type\":\"Line\"},{\"attributes\":{\"num_minor_ticks\":10},\"id\":\"1b35d4cf-b8b4-413d-96f3-ce04fe82f5cd\",\"type\":\"LogTicker\"},{\"attributes\":{},\"id\":\"38afb2f7-c4a0-4c36-bd74-8d6e5d93fea5\",\"type\":\"HelpTool\"},{\"attributes\":{\"dimension\":1,\"plot\":{\"id\":\"634e0fe6-c6e4-470a-96e3-7f81d24b192d\",\"subtype\":\"Figure\",\"type\":\"Plot\"},\"ticker\":{\"id\":\"1b35d4cf-b8b4-413d-96f3-ce04fe82f5cd\",\"type\":\"LogTicker\"}},\"id\":\"5b3ca529-102f-413e-bac9-2b13d3c103f9\",\"type\":\"Grid\"},{\"attributes\":{},\"id\":\"bb864ee1-07fc-45e1-9570-1d4fcca68981\",\"type\":\"ResetTool\"},{\"attributes\":{},\"id\":\"c6d2b672-03f6-4b14-8b6f-800524327de8\",\"type\":\"BasicTicker\"},{\"attributes\":{},\"id\":\"fe2a85b2-2b08-4c48-9ac6-455b81350916\",\"type\":\"LinearScale\"},{\"attributes\":{\"items\":[{\"id\":\"e0d5037c-9d3b-489d-bf70-2b5b83f89a2c\",\"type\":\"LegendItem\"},{\"id\":\"408fbc6f-c58a-4f59-b8ae-b6b6a8cadd78\",\"type\":\"LegendItem\"}],\"label_text_font_size\":{\"value\":\"8pt\"},\"location\":\"top_center\",\"orientation\":\"horizontal\",\"plot\":{\"id\":\"45f363c0-caa1-47b6-a134-a37f079d2ccb\",\"subtype\":\"Figure\",\"type\":\"Plot\"}},\"id\":\"dabb14ee-3d2c-443f-8f40-2a40f6564d81\",\"type\":\"Legend\"},{\"attributes\":{\"axis_label\":\"pressure [mb]\",\"formatter\":{\"id\":\"c34d80fb-e800-4c49-b0d5-da9717a4d81f\",\"type\":\"LogTickFormatter\"},\"plot\":{\"id\":\"57794f6e-77f7-438f-8dc2-28eee7f17368\",\"subtype\":\"Figure\",\"type\":\"Plot\"},\"ticker\":{\"id\":\"b4d8fff7-9a70-411b-8f06-c3521dba5b50\",\"type\":\"LogTicker\"}},\"id\":\"270aecdd-fb76-429c-9ea4-b38ed50de626\",\"type\":\"LogAxis\"},{\"attributes\":{\"data_source\":{\"id\":\"849ff2a1-88cb-469c-8708-a0313413b782\",\"type\":\"ColumnDataSource\"},\"glyph\":{\"id\":\"7010353e-2c78-4ebd-b0ab-3c22d89e7f5e\",\"type\":\"Circle\"},\"hover_glyph\":null,\"muted_glyph\":null,\"nonselection_glyph\":{\"id\":\"02b29983-666f-4f4a-a415-0f3c1b3c1908\",\"type\":\"Circle\"},\"selection_glyph\":null,\"view\":{\"id\":\"09415619-e2c1-415d-857c-409ae3cd1d9c\",\"type\":\"CDSView\"}},\"id\":\"5fd100b5-c588-4722-877b-82b5b6a22207\",\"type\":\"GlyphRenderer\"},{\"attributes\":{},\"id\":\"ce825088-a908-46b9-ac6a-855a2d88ae11\",\"type\":\"BasicTicker\"},{\"attributes\":{},\"id\":\"5bf2176b-b015-4dfd-805b-5651a49e6274\",\"type\":\"Selection\"},{\"attributes\":{\"items\":[{\"id\":\"b5bfa91e-2f04-4414-aee6-4747f095cf09\",\"type\":\"LegendItem\"}],\"label_text_font_size\":{\"value\":\"8pt\"},\"location\":\"top_center\",\"orientation\":\"horizontal\",\"plot\":{\"id\":\"57794f6e-77f7-438f-8dc2-28eee7f17368\",\"subtype\":\"Figure\",\"type\":\"Plot\"}},\"id\":\"ccfe0e06-35a9-47d9-9c82-c10dc2756e48\",\"type\":\"Legend\"},{\"attributes\":{\"label\":{\"value\":\"CLIRAD (single-run)\"},\"renderers\":[{\"id\":\"048c7bc3-950b-42f9-b344-d0e23a32a29a\",\"type\":\"GlyphRenderer\"}]},\"id\":\"7da85a42-4772-4b79-9b63-28e7f665d590\",\"type\":\"LegendItem\"},{\"attributes\":{\"ticker\":null},\"id\":\"c34d80fb-e800-4c49-b0d5-da9717a4d81f\",\"type\":\"LogTickFormatter\"},{\"attributes\":{},\"id\":\"d4c3e715-2086-4482-9178-9f850c0fbae7\",\"type\":\"PanTool\"},{\"attributes\":{},\"id\":\"0d81bd37-7a87-4134-84a0-6502ec8e592a\",\"type\":\"WheelZoomTool\"},{\"attributes\":{},\"id\":\"31bde894-9c62-4e46-8bf8-0fec9f13ec0b\",\"type\":\"PanTool\"},{\"attributes\":{\"bottom_units\":\"screen\",\"fill_alpha\":{\"value\":0.5},\"fill_color\":{\"value\":\"lightgrey\"},\"left_units\":\"screen\",\"level\":\"overlay\",\"line_alpha\":{\"value\":1.0},\"line_color\":{\"value\":\"black\"},\"line_dash\":[4,4],\"line_width\":{\"value\":2},\"plot\":null,\"render_mode\":\"css\",\"right_units\":\"screen\",\"top_units\":\"screen\"},\"id\":\"6f1573da-5416-4f95-8d1e-3a6ae6e39806\",\"type\":\"BoxAnnotation\"},{\"attributes\":{\"axis_label\":\"cooling rate [K/day]\",\"formatter\":{\"id\":\"9cb8e2d8-7b7d-4c73-ac15-52dd051e1c90\",\"type\":\"BasicTickFormatter\"},\"plot\":{\"id\":\"45f363c0-caa1-47b6-a134-a37f079d2ccb\",\"subtype\":\"Figure\",\"type\":\"Plot\"},\"ticker\":{\"id\":\"ce825088-a908-46b9-ac6a-855a2d88ae11\",\"type\":\"BasicTicker\"}},\"id\":\"6a3bece2-47e4-4d3c-b18e-11c7bd9c97d9\",\"type\":\"LinearAxis\"},{\"attributes\":{},\"id\":\"20a8f4a1-6d76-4632-90b9-8b2834da9808\",\"type\":\"WheelZoomTool\"},{\"attributes\":{},\"id\":\"c181bad7-0e18-4a7a-bd51-938e63f325eb\",\"type\":\"SaveTool\"},{\"attributes\":{},\"id\":\"7d8a9899-47c0-48ee-bf3d-0d6c235c18e2\",\"type\":\"LinearScale\"},{\"attributes\":{\"axis_label\":\"cooling rate [K/day]\",\"formatter\":{\"id\":\"9d7bed1f-8ef6-40f6-8225-f7acab189886\",\"type\":\"BasicTickFormatter\"},\"plot\":{\"id\":\"57794f6e-77f7-438f-8dc2-28eee7f17368\",\"subtype\":\"Figure\",\"type\":\"Plot\"},\"ticker\":{\"id\":\"e779f47e-7d81-4b7a-964e-24fdf6dbeb5a\",\"type\":\"BasicTicker\"}},\"id\":\"d6e00380-cc79-4b77-adc5-6ce81a65b736\",\"type\":\"LinearAxis\"},{\"attributes\":{},\"id\":\"e779f47e-7d81-4b7a-964e-24fdf6dbeb5a\",\"type\":\"BasicTicker\"},{\"attributes\":{},\"id\":\"f9f66c5a-3b5e-4633-9e7b-fb6224e5fbc7\",\"type\":\"LinearScale\"},{\"attributes\":{\"bottom_units\":\"screen\",\"fill_alpha\":{\"value\":0.5},\"fill_color\":{\"value\":\"lightgrey\"},\"left_units\":\"screen\",\"level\":\"overlay\",\"line_alpha\":{\"value\":1.0},\"line_color\":{\"value\":\"black\"},\"line_dash\":[4,4],\"line_width\":{\"value\":2},\"plot\":null,\"render_mode\":\"css\",\"right_units\":\"screen\",\"top_units\":\"screen\"},\"id\":\"ac1865fa-cb3e-4e67-a24e-5dd954dc855f\",\"type\":\"BoxAnnotation\"},{\"attributes\":{\"label\":{\"value\":\"CRD\"},\"renderers\":[{\"id\":\"b0f0c16e-6be8-43dc-8306-a325ea1c40cc\",\"type\":\"GlyphRenderer\"},{\"id\":\"e05671a8-ea4b-4306-a36f-d58a7f9edba6\",\"type\":\"GlyphRenderer\"}]},\"id\":\"408fbc6f-c58a-4f59-b8ae-b6b6a8cadd78\",\"type\":\"LegendItem\"},{\"attributes\":{\"callback\":null,\"end\":16.436996759051738,\"start\":0.29713513836226},\"id\":\"3469be00-7231-4fbe-a187-39e19e98d0e2\",\"type\":\"Range1d\"},{\"attributes\":{\"active_drag\":\"auto\",\"active_inspect\":\"auto\",\"active_scroll\":\"auto\",\"active_tap\":\"auto\",\"tools\":[{\"id\":\"2160ed00-8ad1-4c97-b97b-9670b4e4e0e4\",\"type\":\"PanTool\"},{\"id\":\"cc3996c9-7c97-43a8-b382-fd3a5be5045f\",\"type\":\"WheelZoomTool\"},{\"id\":\"feb1ee91-c5f2-469d-894f-9b1155e9c222\",\"type\":\"BoxZoomTool\"},{\"id\":\"52e9571c-b4d4-4fe5-94cd-f6eb52bf976a\",\"type\":\"SaveTool\"},{\"id\":\"bb864ee1-07fc-45e1-9570-1d4fcca68981\",\"type\":\"ResetTool\"},{\"id\":\"38afb2f7-c4a0-4c36-bd74-8d6e5d93fea5\",\"type\":\"HelpTool\"}]},\"id\":\"a6321e6f-6e59-4005-ab44-823292403479\",\"type\":\"Toolbar\"},{\"attributes\":{},\"id\":\"6c46af96-f549-4047-a8a1-cbd7dd56aa56\",\"type\":\"HelpTool\"},{\"attributes\":{\"line_alpha\":0.1,\"line_color\":\"#1f77b4\",\"line_dash\":[6],\"line_width\":5,\"x\":{\"field\":\"x\"},\"y\":{\"field\":\"y\"}},\"id\":\"61b86f0a-048a-4b4f-be0f-dbf0ae08f0a6\",\"type\":\"Line\"},{\"attributes\":{},\"id\":\"f7f93a72-23d5-468e-8df5-5c31c899d74f\",\"type\":\"LogScale\"},{\"attributes\":{},\"id\":\"b032f310-cc52-46c5-aff2-71fcf3998dc0\",\"type\":\"LinearScale\"},{\"attributes\":{\"label\":{\"value\":\"CLIRAD (single-run)\"},\"renderers\":[{\"id\":\"970d5f18-2311-4769-bed9-1f8053bc74b9\",\"type\":\"GlyphRenderer\"}]},\"id\":\"e0d5037c-9d3b-489d-bf70-2b5b83f89a2c\",\"type\":\"LegendItem\"},{\"attributes\":{\"overlay\":{\"id\":\"ac1865fa-cb3e-4e67-a24e-5dd954dc855f\",\"type\":\"BoxAnnotation\"}},\"id\":\"80901190-d486-4868-a7f4-7d249d7f1e25\",\"type\":\"BoxZoomTool\"},{\"attributes\":{},\"id\":\"9d7bed1f-8ef6-40f6-8225-f7acab189886\",\"type\":\"BasicTickFormatter\"},{\"attributes\":{\"active_drag\":\"auto\",\"active_inspect\":\"auto\",\"active_scroll\":\"auto\",\"active_tap\":\"auto\",\"tools\":[{\"id\":\"d4c3e715-2086-4482-9178-9f850c0fbae7\",\"type\":\"PanTool\"},{\"id\":\"0d81bd37-7a87-4134-84a0-6502ec8e592a\",\"type\":\"WheelZoomTool\"},{\"id\":\"c84d066f-3b47-4e71-a22c-5c10e04cc7c4\",\"type\":\"BoxZoomTool\"},{\"id\":\"c1e59b1c-e78c-4108-9262-e7982da86e1d\",\"type\":\"SaveTool\"},{\"id\":\"0428bd6c-aae6-4368-a023-a54f823b339d\",\"type\":\"ResetTool\"},{\"id\":\"a15cc9a0-1935-43d5-85e8-728419d0a56f\",\"type\":\"HelpTool\"}]},\"id\":\"67001313-b7d0-4386-ab11-68f2ab958280\",\"type\":\"Toolbar\"},{\"attributes\":{\"line_alpha\":0.6,\"line_color\":\"#377eb8\",\"line_dash\":[6],\"line_width\":5,\"x\":{\"field\":\"x\"},\"y\":{\"field\":\"y\"}},\"id\":\"1e21067b-6c9a-40b4-97c4-df933db87d01\",\"type\":\"Line\"},{\"attributes\":{},\"id\":\"a15cc9a0-1935-43d5-85e8-728419d0a56f\",\"type\":\"HelpTool\"},{\"attributes\":{\"dimension\":1,\"plot\":{\"id\":\"57794f6e-77f7-438f-8dc2-28eee7f17368\",\"subtype\":\"Figure\",\"type\":\"Plot\"},\"ticker\":{\"id\":\"b4d8fff7-9a70-411b-8f06-c3521dba5b50\",\"type\":\"LogTicker\"}},\"id\":\"5eefd1c0-6ed4-41e8-bfd1-bf2841c7e218\",\"type\":\"Grid\"},{\"attributes\":{\"plot\":{\"id\":\"57794f6e-77f7-438f-8dc2-28eee7f17368\",\"subtype\":\"Figure\",\"type\":\"Plot\"},\"ticker\":{\"id\":\"e779f47e-7d81-4b7a-964e-24fdf6dbeb5a\",\"type\":\"BasicTicker\"}},\"id\":\"42fbc6c6-5ee1-4846-b607-39954a4803de\",\"type\":\"Grid\"},{\"attributes\":{\"above\":[{\"id\":\"7b876756-833d-4e1e-8b41-108ad2195b59\",\"type\":\"Legend\"}],\"below\":[{\"id\":\"1171e03f-669a-4434-8519-aabc30347472\",\"type\":\"LinearAxis\"}],\"left\":[{\"id\":\"3c05c0f5-f254-4e7a-878b-2e260e6a0ecb\",\"type\":\"LogAxis\"}],\"plot_width\":300,\"renderers\":[{\"id\":\"1171e03f-669a-4434-8519-aabc30347472\",\"type\":\"LinearAxis\"},{\"id\":\"9d5044ee-5f34-42e7-94dd-d18501b59541\",\"type\":\"Grid\"},{\"id\":\"3c05c0f5-f254-4e7a-878b-2e260e6a0ecb\",\"type\":\"LogAxis\"},{\"id\":\"5b3ca529-102f-413e-bac9-2b13d3c103f9\",\"type\":\"Grid\"},{\"id\":\"9ef47be7-debc-49dc-996b-7178740aba58\",\"type\":\"BoxAnnotation\"},{\"id\":\"048c7bc3-950b-42f9-b344-d0e23a32a29a\",\"type\":\"GlyphRenderer\"},{\"id\":\"5d07d062-80f9-47f4-94d4-43d6e6942816\",\"type\":\"GlyphRenderer\"},{\"id\":\"0e3db940-1700-438e-942b-67f9e12fa5d9\",\"type\":\"GlyphRenderer\"},{\"id\":\"7b876756-833d-4e1e-8b41-108ad2195b59\",\"type\":\"Legend\"}],\"title\":{\"id\":\"45b72559-dc89-46df-91cd-640011c49f78\",\"type\":\"Title\"},\"toolbar\":{\"id\":\"a6321e6f-6e59-4005-ab44-823292403479\",\"type\":\"Toolbar\"},\"toolbar_location\":null,\"x_range\":{\"id\":\"3469be00-7231-4fbe-a187-39e19e98d0e2\",\"type\":\"Range1d\"},\"x_scale\":{\"id\":\"b032f310-cc52-46c5-aff2-71fcf3998dc0\",\"type\":\"LinearScale\"},\"y_range\":{\"id\":\"e6956a64-4137-4fdc-99b9-ae6382138d04\",\"type\":\"Range1d\"},\"y_scale\":{\"id\":\"11e96e8f-adc5-4637-9081-e1443c17ae90\",\"type\":\"LogScale\"}},\"id\":\"634e0fe6-c6e4-470a-96e3-7f81d24b192d\",\"subtype\":\"Figure\",\"type\":\"Plot\"},{\"attributes\":{\"num_minor_ticks\":10},\"id\":\"b4d8fff7-9a70-411b-8f06-c3521dba5b50\",\"type\":\"LogTicker\"},{\"attributes\":{},\"id\":\"a2efdf87-0c23-4d35-81bd-954f4891b558\",\"type\":\"ResetTool\"},{\"attributes\":{},\"id\":\"c9407c1c-6a0a-4f84-89fb-e1229559ac4c\",\"type\":\"UnionRenderers\"},{\"attributes\":{\"bottom_units\":\"screen\",\"fill_alpha\":{\"value\":0.5},\"fill_color\":{\"value\":\"lightgrey\"},\"left_units\":\"screen\",\"level\":\"overlay\",\"line_alpha\":{\"value\":1.0},\"line_color\":{\"value\":\"black\"},\"line_dash\":[4,4],\"line_width\":{\"value\":2},\"plot\":null,\"render_mode\":\"css\",\"right_units\":\"screen\",\"top_units\":\"screen\"},\"id\":\"9ef47be7-debc-49dc-996b-7178740aba58\",\"type\":\"BoxAnnotation\"},{\"attributes\":{},\"id\":\"c7473bc7-8fb8-4ca5-8198-ccb297e2873c\",\"type\":\"BasicTickFormatter\"}],\"root_ids\":[\"8f937aea-31a6-46d6-8752-8b1d1b79ed99\"]},\"title\":\"Bokeh Application\",\"version\":\"0.12.16\"}};\n",
       "  var render_items = [{\"docid\":\"b0f12f54-1187-41d5-a04b-3a5a1a87a0ca\",\"elementid\":\"76348001-29bb-4897-9074-4540815879dd\",\"modelid\":\"8f937aea-31a6-46d6-8752-8b1d1b79ed99\"}];\n",
       "  root.Bokeh.embed.embed_items_notebook(docs_json, render_items);\n",
       "\n",
       "  }\n",
       "  if (root.Bokeh !== undefined) {\n",
       "    embed_document(root);\n",
       "  } else {\n",
       "    var attempts = 0;\n",
       "    var timer = setInterval(function(root) {\n",
       "      if (root.Bokeh !== undefined) {\n",
       "        embed_document(root);\n",
       "        clearInterval(timer);\n",
       "      }\n",
       "      attempts++;\n",
       "      if (attempts > 100) {\n",
       "        console.log(\"Bokeh: ERROR: Unable to run BokehJS code because BokehJS library is missing\")\n",
       "        clearInterval(timer);\n",
       "      }\n",
       "    }, 10, root)\n",
       "  }\n",
       "})(window);"
      ],
      "application/vnd.bokehjs_exec.v0+json": ""
     },
     "metadata": {
      "application/vnd.bokehjs_exec.v0+json": {
       "id": "8f937aea-31a6-46d6-8752-8b1d1b79ed99"
      }
     },
     "output_type": "display_data"
    },
    {
     "data": {
      "text/markdown": [
       "*FIGURE.* Cooling rates & difference."
      ],
      "text/plain": [
       "<IPython.core.display.Markdown object>"
      ]
     },
     "metadata": {},
     "output_type": "display_data"
    },
    {
     "data": {
      "text/html": [
       "<a id=\"Fluxes._saw.\"></a>"
      ],
      "text/plain": [
       "<IPython.core.display.HTML object>"
      ]
     },
     "metadata": {},
     "output_type": "display_data"
    },
    {
     "data": {
      "text/markdown": [
       "# Fluxes. saw."
      ],
      "text/plain": [
       "<IPython.core.display.Markdown object>"
      ]
     },
     "metadata": {},
     "output_type": "display_data"
    },
    {
     "data": {
      "text/html": [
       "\n",
       "<div class=\"bk-root\">\n",
       "    <div class=\"bk-plotdiv\" id=\"5dda28f1-c141-4461-848d-1c0a8decc14f\"></div>\n",
       "</div>"
      ]
     },
     "metadata": {},
     "output_type": "display_data"
    },
    {
     "data": {
      "application/javascript": [
       "(function(root) {\n",
       "  function embed_document(root) {\n",
       "    \n",
       "  var docs_json = {\"b0a6c924-a752-4843-b49a-a5dc08fcf2fc\":{\"roots\":{\"references\":[{\"attributes\":{},\"id\":\"4ee8634d-8d47-40f4-b271-88b5bcd0c6f7\",\"type\":\"CategoricalScale\"},{\"attributes\":{},\"id\":\"58a473ca-aa63-4eaf-adf0-a34d50eea7a4\",\"type\":\"LinearScale\"},{\"attributes\":{\"overlay\":{\"id\":\"a17fc4e6-69b8-46fb-8c50-2f6fb18c87a8\",\"type\":\"BoxAnnotation\"}},\"id\":\"9d84a97a-bb11-411e-b03e-b497fe6b8f58\",\"type\":\"BoxZoomTool\"},{\"attributes\":{},\"id\":\"9215d1e8-579d-45f1-87de-9b98451d74c6\",\"type\":\"ResetTool\"},{\"attributes\":{},\"id\":\"0a94f952-bb21-4cea-aa70-58c780f2065a\",\"type\":\"WheelZoomTool\"},{\"attributes\":{},\"id\":\"25d4fcc5-69b6-41cc-a4c8-581a93c12a5c\",\"type\":\"CategoricalTicker\"},{\"attributes\":{},\"id\":\"f57000ec-902f-44a0-a628-191603e43d40\",\"type\":\"SaveTool\"},{\"attributes\":{},\"id\":\"86bd796d-2b8a-4dce-9aff-3f72c25ca7ba\",\"type\":\"BasicTicker\"},{\"attributes\":{\"axis_label\":\"flux (W m-2)\",\"formatter\":{\"id\":\"a41dc26c-bc28-437f-b63b-06a23bbe3007\",\"type\":\"BasicTickFormatter\"},\"plot\":{\"id\":\"39ff007e-b0c0-4e6d-9d41-6435ce8eefc5\",\"subtype\":\"Figure\",\"type\":\"Plot\"},\"ticker\":{\"id\":\"86bd796d-2b8a-4dce-9aff-3f72c25ca7ba\",\"type\":\"BasicTicker\"}},\"id\":\"6c49e249-9a7a-4441-be0f-98c3a14ab1e1\",\"type\":\"LinearAxis\"},{\"attributes\":{},\"id\":\"8481326c-c606-4edb-a191-2cbaf82741c1\",\"type\":\"PanTool\"},{\"attributes\":{},\"id\":\"90767ca9-8e7d-4016-ab2a-7994a19f6186\",\"type\":\"CategoricalScale\"},{\"attributes\":{\"data_source\":{\"id\":\"b3e79d03-bbe1-4b54-a712-2d7ddf96bcb7\",\"type\":\"ColumnDataSource\"},\"glyph\":{\"id\":\"854f24df-8de6-46c2-840d-eaa103f722f9\",\"type\":\"VBar\"},\"hover_glyph\":null,\"muted_glyph\":null,\"nonselection_glyph\":{\"id\":\"7cfed8bd-5107-4815-adb7-c3909731b577\",\"type\":\"VBar\"},\"selection_glyph\":null,\"view\":{\"id\":\"6fa7c292-8d90-432b-99bf-3101854eea60\",\"type\":\"CDSView\"}},\"id\":\"8af3c810-ebdb-4c31-862f-83606629d3d1\",\"type\":\"GlyphRenderer\"},{\"attributes\":{\"plot\":null,\"text\":\"TOA flux. CLIRAD (single-run) - CRD.\"},\"id\":\"1b3e8b2c-6f7b-4ccc-9f56-7db79eca9610\",\"type\":\"Title\"},{\"attributes\":{},\"id\":\"a6b2486f-3092-4c8b-990e-5a0a87739712\",\"type\":\"HelpTool\"},{\"attributes\":{\"fill_alpha\":{\"value\":0.1},\"fill_color\":{\"value\":\"#1f77b4\"},\"line_alpha\":{\"value\":0.1},\"line_color\":{\"value\":\"#1f77b4\"},\"top\":{\"field\":\"flux\"},\"width\":{\"value\":0.9},\"x\":{\"field\":\"band\"}},\"id\":\"097a2820-8421-4a9c-b11f-b367c630722a\",\"type\":\"VBar\"},{\"attributes\":{},\"id\":\"df23cb7e-648a-49b1-a73e-51bd378d77f7\",\"type\":\"WheelZoomTool\"},{\"attributes\":{\"data_source\":{\"id\":\"74944f1a-4637-46ad-a889-6268e80a3349\",\"type\":\"ColumnDataSource\"},\"glyph\":{\"id\":\"c99f0cac-5590-4d96-8dfd-ff29f34bf663\",\"type\":\"VBar\"},\"hover_glyph\":null,\"muted_glyph\":null,\"nonselection_glyph\":{\"id\":\"097a2820-8421-4a9c-b11f-b367c630722a\",\"type\":\"VBar\"},\"selection_glyph\":null,\"view\":{\"id\":\"36e876c2-e88a-491f-840a-6eb9beac769d\",\"type\":\"CDSView\"}},\"id\":\"4d15acef-486d-4413-9d84-5fef31895215\",\"type\":\"GlyphRenderer\"},{\"attributes\":{\"bottom_units\":\"screen\",\"fill_alpha\":{\"value\":0.5},\"fill_color\":{\"value\":\"lightgrey\"},\"left_units\":\"screen\",\"level\":\"overlay\",\"line_alpha\":{\"value\":1.0},\"line_color\":{\"value\":\"black\"},\"line_dash\":[4,4],\"line_width\":{\"value\":2},\"plot\":null,\"render_mode\":\"css\",\"right_units\":\"screen\",\"top_units\":\"screen\"},\"id\":\"a17fc4e6-69b8-46fb-8c50-2f6fb18c87a8\",\"type\":\"BoxAnnotation\"},{\"attributes\":{\"active_drag\":\"auto\",\"active_inspect\":\"auto\",\"active_scroll\":\"auto\",\"active_tap\":\"auto\",\"tools\":[{\"id\":\"8481326c-c606-4edb-a191-2cbaf82741c1\",\"type\":\"PanTool\"},{\"id\":\"df23cb7e-648a-49b1-a73e-51bd378d77f7\",\"type\":\"WheelZoomTool\"},{\"id\":\"f8118ac7-10de-4f2b-b483-6a6a4ac70130\",\"type\":\"BoxZoomTool\"},{\"id\":\"f57000ec-902f-44a0-a628-191603e43d40\",\"type\":\"SaveTool\"},{\"id\":\"5038f23e-51ff-4678-ba3a-1858c18380fb\",\"type\":\"ResetTool\"},{\"id\":\"a0a69f29-5709-4f74-a90f-d73b173ba0fe\",\"type\":\"HelpTool\"}]},\"id\":\"0500559b-f1f9-49d4-a3ba-d55c8b170edf\",\"type\":\"Toolbar\"},{\"attributes\":{\"callback\":null,\"factors\":[\"1\",\"2\",\"3\",\"4\",\"5\",\"6\",\"7\",\"8\",\"9\",\"10\",\"11\"]},\"id\":\"202dbf86-f3e7-4865-b1a7-af17c6c436c9\",\"type\":\"FactorRange\"},{\"attributes\":{\"axis_label\":\"spectral band\",\"formatter\":{\"id\":\"24665bb8-b0ff-43cb-b948-4405d6f74b44\",\"type\":\"CategoricalTickFormatter\"},\"plot\":{\"id\":\"39ff007e-b0c0-4e6d-9d41-6435ce8eefc5\",\"subtype\":\"Figure\",\"type\":\"Plot\"},\"ticker\":{\"id\":\"25d4fcc5-69b6-41cc-a4c8-581a93c12a5c\",\"type\":\"CategoricalTicker\"}},\"id\":\"dc3db7f0-0480-4089-89f4-3e4fc95759fd\",\"type\":\"CategoricalAxis\"},{\"attributes\":{},\"id\":\"6fd18223-3d06-4bfe-906e-43538d6b2525\",\"type\":\"PanTool\"},{\"attributes\":{},\"id\":\"bd09cc0d-f196-492e-9dc4-a7179582b35c\",\"type\":\"SaveTool\"},{\"attributes\":{\"fill_color\":{\"value\":\"#1f77b4\"},\"line_color\":{\"value\":\"#1f77b4\"},\"top\":{\"field\":\"flux\"},\"width\":{\"value\":0.9},\"x\":{\"field\":\"band\"}},\"id\":\"c99f0cac-5590-4d96-8dfd-ff29f34bf663\",\"type\":\"VBar\"},{\"attributes\":{\"below\":[{\"id\":\"dc3db7f0-0480-4089-89f4-3e4fc95759fd\",\"type\":\"CategoricalAxis\"}],\"left\":[{\"id\":\"6c49e249-9a7a-4441-be0f-98c3a14ab1e1\",\"type\":\"LinearAxis\"}],\"plot_height\":300,\"plot_width\":300,\"renderers\":[{\"id\":\"dc3db7f0-0480-4089-89f4-3e4fc95759fd\",\"type\":\"CategoricalAxis\"},{\"id\":\"b9202abe-1aee-44ca-9cbe-cc77548c1d38\",\"type\":\"Grid\"},{\"id\":\"6c49e249-9a7a-4441-be0f-98c3a14ab1e1\",\"type\":\"LinearAxis\"},{\"id\":\"161caeef-e070-4c88-b169-d66268bee096\",\"type\":\"Grid\"},{\"id\":\"c9f51643-0796-488e-9b82-c3af064b7f43\",\"type\":\"BoxAnnotation\"},{\"id\":\"4d15acef-486d-4413-9d84-5fef31895215\",\"type\":\"GlyphRenderer\"}],\"title\":{\"id\":\"1b3e8b2c-6f7b-4ccc-9f56-7db79eca9610\",\"type\":\"Title\"},\"toolbar\":{\"id\":\"0500559b-f1f9-49d4-a3ba-d55c8b170edf\",\"type\":\"Toolbar\"},\"toolbar_location\":null,\"x_range\":{\"id\":\"202dbf86-f3e7-4865-b1a7-af17c6c436c9\",\"type\":\"FactorRange\"},\"x_scale\":{\"id\":\"4ee8634d-8d47-40f4-b271-88b5bcd0c6f7\",\"type\":\"CategoricalScale\"},\"y_range\":{\"id\":\"19f41fb7-c60e-4edc-a3bb-24fae2fd0456\",\"type\":\"DataRange1d\"},\"y_scale\":{\"id\":\"2670fc40-546d-4c17-bc2b-a4fb21a4a75e\",\"type\":\"LinearScale\"}},\"id\":\"39ff007e-b0c0-4e6d-9d41-6435ce8eefc5\",\"subtype\":\"Figure\",\"type\":\"Plot\"},{\"attributes\":{\"plot\":{\"id\":\"39ff007e-b0c0-4e6d-9d41-6435ce8eefc5\",\"subtype\":\"Figure\",\"type\":\"Plot\"},\"ticker\":{\"id\":\"25d4fcc5-69b6-41cc-a4c8-581a93c12a5c\",\"type\":\"CategoricalTicker\"}},\"id\":\"b9202abe-1aee-44ca-9cbe-cc77548c1d38\",\"type\":\"Grid\"},{\"attributes\":{\"source\":{\"id\":\"74944f1a-4637-46ad-a889-6268e80a3349\",\"type\":\"ColumnDataSource\"}},\"id\":\"36e876c2-e88a-491f-840a-6eb9beac769d\",\"type\":\"CDSView\"},{\"attributes\":{\"callback\":null},\"id\":\"19f41fb7-c60e-4edc-a3bb-24fae2fd0456\",\"type\":\"DataRange1d\"},{\"attributes\":{\"dimension\":1,\"plot\":{\"id\":\"39ff007e-b0c0-4e6d-9d41-6435ce8eefc5\",\"subtype\":\"Figure\",\"type\":\"Plot\"},\"ticker\":{\"id\":\"86bd796d-2b8a-4dce-9aff-3f72c25ca7ba\",\"type\":\"BasicTicker\"}},\"id\":\"161caeef-e070-4c88-b169-d66268bee096\",\"type\":\"Grid\"},{\"attributes\":{},\"id\":\"2670fc40-546d-4c17-bc2b-a4fb21a4a75e\",\"type\":\"LinearScale\"},{\"attributes\":{\"overlay\":{\"id\":\"c9f51643-0796-488e-9b82-c3af064b7f43\",\"type\":\"BoxAnnotation\"}},\"id\":\"f8118ac7-10de-4f2b-b483-6a6a4ac70130\",\"type\":\"BoxZoomTool\"},{\"attributes\":{\"toolbar\":{\"id\":\"1a191409-869d-44cb-8e2a-8174439f649f\",\"type\":\"ProxyToolbar\"},\"toolbar_location\":\"above\"},\"id\":\"517e1f48-fa27-4e65-9727-a8ec503f5b54\",\"type\":\"ToolbarBox\"},{\"attributes\":{\"plot\":null,\"text\":\"SFC flux. CLIRAD (single-run) - CRD.\"},\"id\":\"c1683f32-d4d1-474d-a315-8651112a862a\",\"type\":\"Title\"},{\"attributes\":{\"dimension\":1,\"plot\":{\"id\":\"1e1e2373-3fd5-4101-a51c-f93375ea9cfe\",\"subtype\":\"Figure\",\"type\":\"Plot\"},\"ticker\":{\"id\":\"89ee92ab-bdf9-4c1c-816d-87ef13861da0\",\"type\":\"BasicTicker\"}},\"id\":\"760cb6dc-48dc-4354-b031-4fea3a7d13be\",\"type\":\"Grid\"},{\"attributes\":{\"callback\":null},\"id\":\"e487a0f8-2c8e-459a-98bd-74da60513ac6\",\"type\":\"DataRange1d\"},{\"attributes\":{\"bottom_units\":\"screen\",\"fill_alpha\":{\"value\":0.5},\"fill_color\":{\"value\":\"lightgrey\"},\"left_units\":\"screen\",\"level\":\"overlay\",\"line_alpha\":{\"value\":1.0},\"line_color\":{\"value\":\"black\"},\"line_dash\":[4,4],\"line_width\":{\"value\":2},\"plot\":null,\"render_mode\":\"css\",\"right_units\":\"screen\",\"top_units\":\"screen\"},\"id\":\"c9f51643-0796-488e-9b82-c3af064b7f43\",\"type\":\"BoxAnnotation\"},{\"attributes\":{},\"id\":\"5038f23e-51ff-4678-ba3a-1858c18380fb\",\"type\":\"ResetTool\"},{\"attributes\":{},\"id\":\"6897718c-a6d6-47ba-a9ab-81fc53bed601\",\"type\":\"UnionRenderers\"},{\"attributes\":{},\"id\":\"289c15b7-235f-4382-88dc-41ec1cbc5813\",\"type\":\"BasicTicker\"},{\"attributes\":{\"source\":{\"id\":\"2c738c58-0a3d-44d9-a2ba-938b91f8bb7f\",\"type\":\"ColumnDataSource\"}},\"id\":\"1cb10342-c263-400a-9bce-a9ef69275834\",\"type\":\"CDSView\"},{\"attributes\":{},\"id\":\"a0a69f29-5709-4f74-a90f-d73b173ba0fe\",\"type\":\"HelpTool\"},{\"attributes\":{},\"id\":\"7a1d1195-a195-4eec-bf11-7d3c988452ec\",\"type\":\"HelpTool\"},{\"attributes\":{\"active_drag\":\"auto\",\"active_inspect\":\"auto\",\"active_scroll\":\"auto\",\"active_tap\":\"auto\",\"tools\":[{\"id\":\"6fd18223-3d06-4bfe-906e-43538d6b2525\",\"type\":\"PanTool\"},{\"id\":\"0a94f952-bb21-4cea-aa70-58c780f2065a\",\"type\":\"WheelZoomTool\"},{\"id\":\"9d84a97a-bb11-411e-b03e-b497fe6b8f58\",\"type\":\"BoxZoomTool\"},{\"id\":\"bd09cc0d-f196-492e-9dc4-a7179582b35c\",\"type\":\"SaveTool\"},{\"id\":\"9215d1e8-579d-45f1-87de-9b98451d74c6\",\"type\":\"ResetTool\"},{\"id\":\"a6b2486f-3092-4c8b-990e-5a0a87739712\",\"type\":\"HelpTool\"}]},\"id\":\"02cdd2c3-ea24-40f6-a0b9-6024442c18a3\",\"type\":\"Toolbar\"},{\"attributes\":{\"below\":[{\"id\":\"ca7f3a7a-85ff-47b5-91ed-160606e5e347\",\"type\":\"CategoricalAxis\"}],\"left\":[{\"id\":\"675a436e-0d73-40b4-91a8-0cb967b670b4\",\"type\":\"LinearAxis\"}],\"plot_height\":300,\"plot_width\":300,\"renderers\":[{\"id\":\"ca7f3a7a-85ff-47b5-91ed-160606e5e347\",\"type\":\"CategoricalAxis\"},{\"id\":\"3e702c5f-15ed-4677-9304-a17f115c27a0\",\"type\":\"Grid\"},{\"id\":\"675a436e-0d73-40b4-91a8-0cb967b670b4\",\"type\":\"LinearAxis\"},{\"id\":\"60c6449e-a0ef-4c0f-ab1c-ec82450df6f8\",\"type\":\"Grid\"},{\"id\":\"a17fc4e6-69b8-46fb-8c50-2f6fb18c87a8\",\"type\":\"BoxAnnotation\"},{\"id\":\"8af3c810-ebdb-4c31-862f-83606629d3d1\",\"type\":\"GlyphRenderer\"}],\"title\":{\"id\":\"c1683f32-d4d1-474d-a315-8651112a862a\",\"type\":\"Title\"},\"toolbar\":{\"id\":\"02cdd2c3-ea24-40f6-a0b9-6024442c18a3\",\"type\":\"Toolbar\"},\"toolbar_location\":null,\"x_range\":{\"id\":\"0c1205a4-852d-4ee5-bf04-18125929d271\",\"type\":\"FactorRange\"},\"x_scale\":{\"id\":\"023ebb30-4ba3-4fa4-a364-6ceaaf65c835\",\"type\":\"CategoricalScale\"},\"y_range\":{\"id\":\"e487a0f8-2c8e-459a-98bd-74da60513ac6\",\"type\":\"DataRange1d\"},\"y_scale\":{\"id\":\"87325044-e2d6-4f08-b077-a1c63c8f2e25\",\"type\":\"LinearScale\"}},\"id\":\"cb8c9235-b945-4bb7-a907-99b1da219305\",\"subtype\":\"Figure\",\"type\":\"Plot\"},{\"attributes\":{\"below\":[{\"id\":\"be70b7d8-1a3f-4ada-b8e5-0862a6065006\",\"type\":\"CategoricalAxis\"}],\"left\":[{\"id\":\"7c85725d-2970-4d24-8a9b-39bccf191094\",\"type\":\"LinearAxis\"}],\"plot_height\":300,\"plot_width\":300,\"renderers\":[{\"id\":\"be70b7d8-1a3f-4ada-b8e5-0862a6065006\",\"type\":\"CategoricalAxis\"},{\"id\":\"8d380f76-c4e9-47c7-adbc-faaf44b4a141\",\"type\":\"Grid\"},{\"id\":\"7c85725d-2970-4d24-8a9b-39bccf191094\",\"type\":\"LinearAxis\"},{\"id\":\"760cb6dc-48dc-4354-b031-4fea3a7d13be\",\"type\":\"Grid\"},{\"id\":\"a54808fd-6593-4c70-8466-6e394bc4a8e6\",\"type\":\"BoxAnnotation\"},{\"id\":\"7cef1432-d8bf-431c-be7b-25067ca2abe3\",\"type\":\"GlyphRenderer\"}],\"title\":{\"id\":\"122b9156-538f-4696-a810-ed0c24ed0749\",\"type\":\"Title\"},\"toolbar\":{\"id\":\"dddfd003-9085-4039-80aa-c002c72ffba3\",\"type\":\"Toolbar\"},\"toolbar_location\":null,\"x_range\":{\"id\":\"62d5321f-cc8a-4457-b871-7ef6eb62eeee\",\"type\":\"FactorRange\"},\"x_scale\":{\"id\":\"90767ca9-8e7d-4016-ab2a-7994a19f6186\",\"type\":\"CategoricalScale\"},\"y_range\":{\"id\":\"ca1d0a84-40c9-4cd8-b9aa-58db0e5413a8\",\"type\":\"DataRange1d\"},\"y_scale\":{\"id\":\"58a473ca-aa63-4eaf-adf0-a34d50eea7a4\",\"type\":\"LinearScale\"}},\"id\":\"1e1e2373-3fd5-4101-a51c-f93375ea9cfe\",\"subtype\":\"Figure\",\"type\":\"Plot\"},{\"attributes\":{},\"id\":\"c5dcb368-6a69-413d-85c5-b950f83943cf\",\"type\":\"WheelZoomTool\"},{\"attributes\":{\"active_drag\":\"auto\",\"active_inspect\":\"auto\",\"active_scroll\":\"auto\",\"active_tap\":\"auto\",\"tools\":[{\"id\":\"1a7e7a70-50d5-4467-a3e1-b91e49db99bb\",\"type\":\"PanTool\"},{\"id\":\"c5dcb368-6a69-413d-85c5-b950f83943cf\",\"type\":\"WheelZoomTool\"},{\"id\":\"b685b576-d3c2-40f5-83a5-2f028145fa34\",\"type\":\"BoxZoomTool\"},{\"id\":\"ec91a10b-37d9-452a-b1c7-1df0cb1a5243\",\"type\":\"SaveTool\"},{\"id\":\"752c566f-04e4-4400-89b0-b6acc54abb45\",\"type\":\"ResetTool\"},{\"id\":\"7a1d1195-a195-4eec-bf11-7d3c988452ec\",\"type\":\"HelpTool\"}]},\"id\":\"dddfd003-9085-4039-80aa-c002c72ffba3\",\"type\":\"Toolbar\"},{\"attributes\":{},\"id\":\"4c01989b-5794-4f09-8c5d-bae1bfcd3bed\",\"type\":\"Selection\"},{\"attributes\":{\"bottom_units\":\"screen\",\"fill_alpha\":{\"value\":0.5},\"fill_color\":{\"value\":\"lightgrey\"},\"left_units\":\"screen\",\"level\":\"overlay\",\"line_alpha\":{\"value\":1.0},\"line_color\":{\"value\":\"black\"},\"line_dash\":[4,4],\"line_width\":{\"value\":2},\"plot\":null,\"render_mode\":\"css\",\"right_units\":\"screen\",\"top_units\":\"screen\"},\"id\":\"a54808fd-6593-4c70-8466-6e394bc4a8e6\",\"type\":\"BoxAnnotation\"},{\"attributes\":{\"plot\":{\"id\":\"cb8c9235-b945-4bb7-a907-99b1da219305\",\"subtype\":\"Figure\",\"type\":\"Plot\"},\"ticker\":{\"id\":\"9772715e-f62c-484f-9113-fd5f563c0599\",\"type\":\"CategoricalTicker\"}},\"id\":\"3e702c5f-15ed-4677-9304-a17f115c27a0\",\"type\":\"Grid\"},{\"attributes\":{},\"id\":\"7f629720-4c58-48ba-bbf2-f530bc5e7150\",\"type\":\"BasicTickFormatter\"},{\"attributes\":{\"axis_label\":\"flux (W m-2)\",\"formatter\":{\"id\":\"0715805d-e35a-4b59-ab3b-d81b8289d39e\",\"type\":\"BasicTickFormatter\"},\"plot\":{\"id\":\"cb8c9235-b945-4bb7-a907-99b1da219305\",\"subtype\":\"Figure\",\"type\":\"Plot\"},\"ticker\":{\"id\":\"289c15b7-235f-4382-88dc-41ec1cbc5813\",\"type\":\"BasicTicker\"}},\"id\":\"675a436e-0d73-40b4-91a8-0cb967b670b4\",\"type\":\"LinearAxis\"},{\"attributes\":{},\"id\":\"35b75c93-5ddb-4db9-95d9-d80a6e82fb70\",\"type\":\"CategoricalTickFormatter\"},{\"attributes\":{},\"id\":\"6b450fc9-c480-450f-bb99-f03a4ea5ba33\",\"type\":\"Selection\"},{\"attributes\":{},\"id\":\"752c566f-04e4-4400-89b0-b6acc54abb45\",\"type\":\"ResetTool\"},{\"attributes\":{},\"id\":\"023ebb30-4ba3-4fa4-a364-6ceaaf65c835\",\"type\":\"CategoricalScale\"},{\"attributes\":{\"callback\":null,\"data\":{\"band\":[\"1\",\"2\",\"3\",\"4\",\"5\",\"6\",\"7\",\"8\",\"9\",\"10\",\"11\"],\"flux\":{\"__ndarray__\":\"gGLUtfY+xz8ABgWlaOWyPwDVO9wODbO/gApHkEqx0D8Ans4VpYS4PwA49uy5TJ0/QEZcABql0j8AVb5nJEKjP4BE2safqKA/AGgLdJJSdb+AbxLeeT2TPw==\",\"dtype\":\"float64\",\"shape\":[11]}},\"selected\":{\"id\":\"d01077ef-a458-4858-9f0f-120b8c9c55cd\",\"type\":\"Selection\"},\"selection_policy\":{\"id\":\"86cb470e-97cf-4f50-9649-f4b4a50cb4dc\",\"type\":\"UnionRenderers\"}},\"id\":\"74944f1a-4637-46ad-a889-6268e80a3349\",\"type\":\"ColumnDataSource\"},{\"attributes\":{},\"id\":\"432bec51-fb7b-44fc-8669-112f4c9f0c82\",\"type\":\"UnionRenderers\"},{\"attributes\":{},\"id\":\"87325044-e2d6-4f08-b077-a1c63c8f2e25\",\"type\":\"LinearScale\"},{\"attributes\":{\"fill_color\":{\"value\":\"#1f77b4\"},\"line_color\":{\"value\":\"#1f77b4\"},\"top\":{\"field\":\"flux\"},\"width\":{\"value\":0.9},\"x\":{\"field\":\"band\"}},\"id\":\"e6fcf15d-fc48-494d-9184-61b9944e3501\",\"type\":\"VBar\"},{\"attributes\":{\"callback\":null,\"factors\":[\"1\",\"2\",\"3\",\"4\",\"5\",\"6\",\"7\",\"8\",\"9\",\"10\",\"11\"]},\"id\":\"62d5321f-cc8a-4457-b871-7ef6eb62eeee\",\"type\":\"FactorRange\"},{\"attributes\":{},\"id\":\"89ee92ab-bdf9-4c1c-816d-87ef13861da0\",\"type\":\"BasicTicker\"},{\"attributes\":{\"axis_label\":\"spectral band\",\"formatter\":{\"id\":\"d73592a6-b799-424a-b790-ff939c5fe4b6\",\"type\":\"CategoricalTickFormatter\"},\"plot\":{\"id\":\"1e1e2373-3fd5-4101-a51c-f93375ea9cfe\",\"subtype\":\"Figure\",\"type\":\"Plot\"},\"ticker\":{\"id\":\"452d4483-0488-4af8-9705-fadd8722d5f4\",\"type\":\"CategoricalTicker\"}},\"id\":\"be70b7d8-1a3f-4ada-b8e5-0862a6065006\",\"type\":\"CategoricalAxis\"},{\"attributes\":{\"callback\":null},\"id\":\"ca1d0a84-40c9-4cd8-b9aa-58db0e5413a8\",\"type\":\"DataRange1d\"},{\"attributes\":{\"source\":{\"id\":\"b3e79d03-bbe1-4b54-a712-2d7ddf96bcb7\",\"type\":\"ColumnDataSource\"}},\"id\":\"6fa7c292-8d90-432b-99bf-3101854eea60\",\"type\":\"CDSView\"},{\"attributes\":{},\"id\":\"ec91a10b-37d9-452a-b1c7-1df0cb1a5243\",\"type\":\"SaveTool\"},{\"attributes\":{\"axis_label\":\"flux (W m-2)\",\"formatter\":{\"id\":\"7f629720-4c58-48ba-bbf2-f530bc5e7150\",\"type\":\"BasicTickFormatter\"},\"plot\":{\"id\":\"1e1e2373-3fd5-4101-a51c-f93375ea9cfe\",\"subtype\":\"Figure\",\"type\":\"Plot\"},\"ticker\":{\"id\":\"89ee92ab-bdf9-4c1c-816d-87ef13861da0\",\"type\":\"BasicTicker\"}},\"id\":\"7c85725d-2970-4d24-8a9b-39bccf191094\",\"type\":\"LinearAxis\"},{\"attributes\":{\"dimension\":1,\"plot\":{\"id\":\"cb8c9235-b945-4bb7-a907-99b1da219305\",\"subtype\":\"Figure\",\"type\":\"Plot\"},\"ticker\":{\"id\":\"289c15b7-235f-4382-88dc-41ec1cbc5813\",\"type\":\"BasicTicker\"}},\"id\":\"60c6449e-a0ef-4c0f-ab1c-ec82450df6f8\",\"type\":\"Grid\"},{\"attributes\":{},\"id\":\"24665bb8-b0ff-43cb-b948-4405d6f74b44\",\"type\":\"CategoricalTickFormatter\"},{\"attributes\":{},\"id\":\"1a7e7a70-50d5-4467-a3e1-b91e49db99bb\",\"type\":\"PanTool\"},{\"attributes\":{\"callback\":null,\"factors\":[\"1\",\"2\",\"3\",\"4\",\"5\",\"6\",\"7\",\"8\",\"9\",\"10\",\"11\"]},\"id\":\"0c1205a4-852d-4ee5-bf04-18125929d271\",\"type\":\"FactorRange\"},{\"attributes\":{},\"id\":\"d01077ef-a458-4858-9f0f-120b8c9c55cd\",\"type\":\"Selection\"},{\"attributes\":{},\"id\":\"452d4483-0488-4af8-9705-fadd8722d5f4\",\"type\":\"CategoricalTicker\"},{\"attributes\":{\"overlay\":{\"id\":\"a54808fd-6593-4c70-8466-6e394bc4a8e6\",\"type\":\"BoxAnnotation\"}},\"id\":\"b685b576-d3c2-40f5-83a5-2f028145fa34\",\"type\":\"BoxZoomTool\"},{\"attributes\":{\"fill_alpha\":{\"value\":0.1},\"fill_color\":{\"value\":\"#1f77b4\"},\"line_alpha\":{\"value\":0.1},\"line_color\":{\"value\":\"#1f77b4\"},\"top\":{\"field\":\"flux\"},\"width\":{\"value\":0.9},\"x\":{\"field\":\"band\"}},\"id\":\"7cfed8bd-5107-4815-adb7-c3909731b577\",\"type\":\"VBar\"},{\"attributes\":{\"data_source\":{\"id\":\"2c738c58-0a3d-44d9-a2ba-938b91f8bb7f\",\"type\":\"ColumnDataSource\"},\"glyph\":{\"id\":\"e6fcf15d-fc48-494d-9184-61b9944e3501\",\"type\":\"VBar\"},\"hover_glyph\":null,\"muted_glyph\":null,\"nonselection_glyph\":{\"id\":\"aa0ef3ea-cab0-40a1-b599-d25c5cfb6b5b\",\"type\":\"VBar\"},\"selection_glyph\":null,\"view\":{\"id\":\"1cb10342-c263-400a-9bce-a9ef69275834\",\"type\":\"CDSView\"}},\"id\":\"7cef1432-d8bf-431c-be7b-25067ca2abe3\",\"type\":\"GlyphRenderer\"},{\"attributes\":{\"tools\":[{\"id\":\"8481326c-c606-4edb-a191-2cbaf82741c1\",\"type\":\"PanTool\"},{\"id\":\"df23cb7e-648a-49b1-a73e-51bd378d77f7\",\"type\":\"WheelZoomTool\"},{\"id\":\"f8118ac7-10de-4f2b-b483-6a6a4ac70130\",\"type\":\"BoxZoomTool\"},{\"id\":\"f57000ec-902f-44a0-a628-191603e43d40\",\"type\":\"SaveTool\"},{\"id\":\"5038f23e-51ff-4678-ba3a-1858c18380fb\",\"type\":\"ResetTool\"},{\"id\":\"a0a69f29-5709-4f74-a90f-d73b173ba0fe\",\"type\":\"HelpTool\"},{\"id\":\"6fd18223-3d06-4bfe-906e-43538d6b2525\",\"type\":\"PanTool\"},{\"id\":\"0a94f952-bb21-4cea-aa70-58c780f2065a\",\"type\":\"WheelZoomTool\"},{\"id\":\"9d84a97a-bb11-411e-b03e-b497fe6b8f58\",\"type\":\"BoxZoomTool\"},{\"id\":\"bd09cc0d-f196-492e-9dc4-a7179582b35c\",\"type\":\"SaveTool\"},{\"id\":\"9215d1e8-579d-45f1-87de-9b98451d74c6\",\"type\":\"ResetTool\"},{\"id\":\"a6b2486f-3092-4c8b-990e-5a0a87739712\",\"type\":\"HelpTool\"},{\"id\":\"1a7e7a70-50d5-4467-a3e1-b91e49db99bb\",\"type\":\"PanTool\"},{\"id\":\"c5dcb368-6a69-413d-85c5-b950f83943cf\",\"type\":\"WheelZoomTool\"},{\"id\":\"b685b576-d3c2-40f5-83a5-2f028145fa34\",\"type\":\"BoxZoomTool\"},{\"id\":\"ec91a10b-37d9-452a-b1c7-1df0cb1a5243\",\"type\":\"SaveTool\"},{\"id\":\"752c566f-04e4-4400-89b0-b6acc54abb45\",\"type\":\"ResetTool\"},{\"id\":\"7a1d1195-a195-4eec-bf11-7d3c988452ec\",\"type\":\"HelpTool\"}]},\"id\":\"1a191409-869d-44cb-8e2a-8174439f649f\",\"type\":\"ProxyToolbar\"},{\"attributes\":{},\"id\":\"86cb470e-97cf-4f50-9649-f4b4a50cb4dc\",\"type\":\"UnionRenderers\"},{\"attributes\":{},\"id\":\"a41dc26c-bc28-437f-b63b-06a23bbe3007\",\"type\":\"BasicTickFormatter\"},{\"attributes\":{},\"id\":\"9772715e-f62c-484f-9113-fd5f563c0599\",\"type\":\"CategoricalTicker\"},{\"attributes\":{\"plot\":null,\"text\":\"Atmosphere heating. CLIRAD (single-run) - CRD.\"},\"id\":\"122b9156-538f-4696-a810-ed0c24ed0749\",\"type\":\"Title\"},{\"attributes\":{\"plot\":{\"id\":\"1e1e2373-3fd5-4101-a51c-f93375ea9cfe\",\"subtype\":\"Figure\",\"type\":\"Plot\"},\"ticker\":{\"id\":\"452d4483-0488-4af8-9705-fadd8722d5f4\",\"type\":\"CategoricalTicker\"}},\"id\":\"8d380f76-c4e9-47c7-adbc-faaf44b4a141\",\"type\":\"Grid\"},{\"attributes\":{\"children\":[{\"id\":\"517e1f48-fa27-4e65-9727-a8ec503f5b54\",\"type\":\"ToolbarBox\"},{\"id\":\"9eb50721-c6be-4f42-bc3d-eac5637e6fc1\",\"type\":\"Column\"}]},\"id\":\"e608e22d-6f7a-4b04-b8d1-27c69d3fe624\",\"type\":\"Column\"},{\"attributes\":{\"children\":[{\"id\":\"39ff007e-b0c0-4e6d-9d41-6435ce8eefc5\",\"subtype\":\"Figure\",\"type\":\"Plot\"},{\"id\":\"cb8c9235-b945-4bb7-a907-99b1da219305\",\"subtype\":\"Figure\",\"type\":\"Plot\"},{\"id\":\"1e1e2373-3fd5-4101-a51c-f93375ea9cfe\",\"subtype\":\"Figure\",\"type\":\"Plot\"}]},\"id\":\"8a042d5e-3cbf-435a-8379-f78d87b7e2fc\",\"type\":\"Row\"},{\"attributes\":{\"fill_color\":{\"value\":\"#1f77b4\"},\"line_color\":{\"value\":\"#1f77b4\"},\"top\":{\"field\":\"flux\"},\"width\":{\"value\":0.9},\"x\":{\"field\":\"band\"}},\"id\":\"854f24df-8de6-46c2-840d-eaa103f722f9\",\"type\":\"VBar\"},{\"attributes\":{\"children\":[{\"id\":\"8a042d5e-3cbf-435a-8379-f78d87b7e2fc\",\"type\":\"Row\"}]},\"id\":\"9eb50721-c6be-4f42-bc3d-eac5637e6fc1\",\"type\":\"Column\"},{\"attributes\":{},\"id\":\"0715805d-e35a-4b59-ab3b-d81b8289d39e\",\"type\":\"BasicTickFormatter\"},{\"attributes\":{\"fill_alpha\":{\"value\":0.1},\"fill_color\":{\"value\":\"#1f77b4\"},\"line_alpha\":{\"value\":0.1},\"line_color\":{\"value\":\"#1f77b4\"},\"top\":{\"field\":\"flux\"},\"width\":{\"value\":0.9},\"x\":{\"field\":\"band\"}},\"id\":\"aa0ef3ea-cab0-40a1-b599-d25c5cfb6b5b\",\"type\":\"VBar\"},{\"attributes\":{\"callback\":null,\"data\":{\"band\":[\"1\",\"2\",\"3\",\"4\",\"5\",\"6\",\"7\",\"8\",\"9\",\"10\",\"11\"],\"flux\":{\"__ndarray__\":\"AEDdJAaBZb8Asg5HV+nAvwA2IEJcueC/AAeY+Q5+tj/A8wOyMnXIPwBgdGmyNSG/QE+BgkGItD/Axmeyf56GPwDdJRad0ZM/AJDEy9O5oj8Ad2DnQ6NtPw==\",\"dtype\":\"float64\",\"shape\":[11]}},\"selected\":{\"id\":\"4c01989b-5794-4f09-8c5d-bae1bfcd3bed\",\"type\":\"Selection\"},\"selection_policy\":{\"id\":\"432bec51-fb7b-44fc-8669-112f4c9f0c82\",\"type\":\"UnionRenderers\"}},\"id\":\"b3e79d03-bbe1-4b54-a712-2d7ddf96bcb7\",\"type\":\"ColumnDataSource\"},{\"attributes\":{},\"id\":\"d73592a6-b799-424a-b790-ff939c5fe4b6\",\"type\":\"CategoricalTickFormatter\"},{\"attributes\":{\"callback\":null,\"data\":{\"band\":[\"1\",\"2\",\"3\",\"4\",\"5\",\"6\",\"7\",\"8\",\"9\",\"10\",\"11\"],\"flux\":{\"__ndarray__\":\"gOIKWg6Vxz8AZUNIJ1zKP8BwLN5+r9w/QMdlApwjxj+ArqKa7WW4vwA0TZ8dcJ0/AOuqQC0Gyz8AUAQnkTObPwDBKhcq/4o/gEM6lz1kpb+AJgqhQRKPPw==\",\"dtype\":\"float64\",\"shape\":[11]}},\"selected\":{\"id\":\"6b450fc9-c480-450f-bb99-f03a4ea5ba33\",\"type\":\"Selection\"},\"selection_policy\":{\"id\":\"6897718c-a6d6-47ba-a9ab-81fc53bed601\",\"type\":\"UnionRenderers\"}},\"id\":\"2c738c58-0a3d-44d9-a2ba-938b91f8bb7f\",\"type\":\"ColumnDataSource\"},{\"attributes\":{\"axis_label\":\"spectral band\",\"formatter\":{\"id\":\"35b75c93-5ddb-4db9-95d9-d80a6e82fb70\",\"type\":\"CategoricalTickFormatter\"},\"plot\":{\"id\":\"cb8c9235-b945-4bb7-a907-99b1da219305\",\"subtype\":\"Figure\",\"type\":\"Plot\"},\"ticker\":{\"id\":\"9772715e-f62c-484f-9113-fd5f563c0599\",\"type\":\"CategoricalTicker\"}},\"id\":\"ca7f3a7a-85ff-47b5-91ed-160606e5e347\",\"type\":\"CategoricalAxis\"}],\"root_ids\":[\"e608e22d-6f7a-4b04-b8d1-27c69d3fe624\"]},\"title\":\"Bokeh Application\",\"version\":\"0.12.16\"}};\n",
       "  var render_items = [{\"docid\":\"b0a6c924-a752-4843-b49a-a5dc08fcf2fc\",\"elementid\":\"5dda28f1-c141-4461-848d-1c0a8decc14f\",\"modelid\":\"e608e22d-6f7a-4b04-b8d1-27c69d3fe624\"}];\n",
       "  root.Bokeh.embed.embed_items_notebook(docs_json, render_items);\n",
       "\n",
       "  }\n",
       "  if (root.Bokeh !== undefined) {\n",
       "    embed_document(root);\n",
       "  } else {\n",
       "    var attempts = 0;\n",
       "    var timer = setInterval(function(root) {\n",
       "      if (root.Bokeh !== undefined) {\n",
       "        embed_document(root);\n",
       "        clearInterval(timer);\n",
       "      }\n",
       "      attempts++;\n",
       "      if (attempts > 100) {\n",
       "        console.log(\"Bokeh: ERROR: Unable to run BokehJS code because BokehJS library is missing\")\n",
       "        clearInterval(timer);\n",
       "      }\n",
       "    }, 10, root)\n",
       "  }\n",
       "})(window);"
      ],
      "application/vnd.bokehjs_exec.v0+json": ""
     },
     "metadata": {
      "application/vnd.bokehjs_exec.v0+json": {
       "id": "e608e22d-6f7a-4b04-b8d1-27c69d3fe624"
      }
     },
     "output_type": "display_data"
    },
    {
     "data": {
      "text/markdown": [
       "*FIGURE.* Difference between CLIRAD and CRD in TOA, SFC and net atmosphere flux, in each spectral band."
      ],
      "text/plain": [
       "<IPython.core.display.Markdown object>"
      ]
     },
     "metadata": {},
     "output_type": "display_data"
    },
    {
     "data": {
      "text/html": [
       "<div>\n",
       "<style scoped>\n",
       "    .dataframe tbody tr th:only-of-type {\n",
       "        vertical-align: middle;\n",
       "    }\n",
       "\n",
       "    .dataframe tbody tr th {\n",
       "        vertical-align: top;\n",
       "    }\n",
       "\n",
       "    .dataframe thead th {\n",
       "        text-align: right;\n",
       "    }\n",
       "</style>\n",
       "<table border=\"1\" class=\"dataframe\">\n",
       "  <thead>\n",
       "    <tr style=\"text-align: right;\">\n",
       "      <th></th>\n",
       "      <th>OLR flux</th>\n",
       "      <th>SFC flux</th>\n",
       "      <th>ATM heating</th>\n",
       "    </tr>\n",
       "    <tr>\n",
       "      <th>Sum over bands</th>\n",
       "      <th></th>\n",
       "      <th></th>\n",
       "      <th></th>\n",
       "    </tr>\n",
       "  </thead>\n",
       "  <tbody>\n",
       "    <tr>\n",
       "      <th>CLIRAD (single-run) - CRD</th>\n",
       "      <td>0.94</td>\n",
       "      <td>-0.23</td>\n",
       "      <td>1.17</td>\n",
       "    </tr>\n",
       "    <tr>\n",
       "      <th>CRD</th>\n",
       "      <td>-201.06</td>\n",
       "      <td>166.03</td>\n",
       "      <td>-119.67</td>\n",
       "    </tr>\n",
       "  </tbody>\n",
       "</table>\n",
       "</div>"
      ],
      "text/plain": [
       "                           OLR flux  SFC flux  ATM heating\n",
       "Sum over bands                                            \n",
       "CLIRAD (single-run) - CRD      0.94     -0.23         1.17\n",
       "CRD                         -201.06    166.03      -119.67"
      ]
     },
     "metadata": {},
     "output_type": "display_data"
    },
    {
     "data": {
      "text/markdown": [
       "*TABLE.* Difference between CLIRAD and CRD in TOA, SFC and net atmosphere flux, over all spectral bands. CRD's TOA, SFC and net atmosphere flux, over all spectral bands."
      ],
      "text/plain": [
       "<IPython.core.display.Markdown object>"
      ]
     },
     "metadata": {},
     "output_type": "display_data"
    },
    {
     "data": {
      "text/html": [
       "<a id=\"Cooling_rates._trp.\"></a>"
      ],
      "text/plain": [
       "<IPython.core.display.HTML object>"
      ]
     },
     "metadata": {},
     "output_type": "display_data"
    },
    {
     "data": {
      "text/markdown": [
       "# Cooling rates. trp."
      ],
      "text/plain": [
       "<IPython.core.display.Markdown object>"
      ]
     },
     "metadata": {},
     "output_type": "display_data"
    },
    {
     "data": {
      "text/html": [
       "\n",
       "<div class=\"bk-root\">\n",
       "    <div class=\"bk-plotdiv\" id=\"04ba69de-ed19-4901-a5b4-2c970f59d1cb\"></div>\n",
       "</div>"
      ]
     },
     "metadata": {},
     "output_type": "display_data"
    },
    {
     "data": {
      "application/javascript": [
       "(function(root) {\n",
       "  function embed_document(root) {\n",
       "    \n",
       "  var docs_json = {\"65ae037e-9ddf-4c1b-a2e3-1bbaf5abcf5c\":{\"roots\":{\"references\":[{\"attributes\":{\"children\":[{\"id\":\"25de81b3-70cf-41d9-96b4-7439249981e3\",\"type\":\"ToolbarBox\"},{\"id\":\"30f7f3d4-c1e9-454d-8346-98ecf0d86b1a\",\"type\":\"Column\"}]},\"id\":\"4440ba0a-ade8-4556-8f2b-267fd894b8b2\",\"type\":\"Column\"},{\"attributes\":{\"above\":[{\"id\":\"ad9228db-7fd0-458a-b45e-da00b06ce39d\",\"type\":\"Legend\"}],\"below\":[{\"id\":\"ba1d46cb-d783-46d4-a501-f778c3825b48\",\"type\":\"LinearAxis\"}],\"left\":[{\"id\":\"06a19d17-a817-4489-9a4d-9d2944b0ea54\",\"type\":\"LogAxis\"}],\"plot_width\":300,\"renderers\":[{\"id\":\"ba1d46cb-d783-46d4-a501-f778c3825b48\",\"type\":\"LinearAxis\"},{\"id\":\"3ecf3862-2ee3-4e96-9575-e919293390b4\",\"type\":\"Grid\"},{\"id\":\"06a19d17-a817-4489-9a4d-9d2944b0ea54\",\"type\":\"LogAxis\"},{\"id\":\"d9a94a66-79b1-4b6c-99de-65b5de032f4c\",\"type\":\"Grid\"},{\"id\":\"a2ac7561-a9b4-43a5-9e89-3338d6340a82\",\"type\":\"BoxAnnotation\"},{\"id\":\"2807fe96-91d8-4fdd-8a09-d888cfe348f6\",\"type\":\"GlyphRenderer\"},{\"id\":\"cc692c99-e15e-49ff-92ba-92dc6017f242\",\"type\":\"GlyphRenderer\"},{\"id\":\"ad9228db-7fd0-458a-b45e-da00b06ce39d\",\"type\":\"Legend\"}],\"title\":{\"id\":\"70a9b122-c711-42f6-b0bf-78a3a6a6675a\",\"type\":\"Title\"},\"toolbar\":{\"id\":\"b2e4fb8a-a5e2-4512-8968-775a490a54aa\",\"type\":\"Toolbar\"},\"toolbar_location\":null,\"x_range\":{\"id\":\"874baf2c-2d80-4762-beeb-99d7a84e6a4f\",\"type\":\"Range1d\"},\"x_scale\":{\"id\":\"6afcb72d-53d8-4bd4-81c0-17aeb1a3da04\",\"type\":\"LinearScale\"},\"y_range\":{\"id\":\"ef511506-4766-4e2d-9437-0629eb200d5e\",\"type\":\"Range1d\"},\"y_scale\":{\"id\":\"d5bcf92c-df9c-4bbe-84b2-bdf8ba52ca17\",\"type\":\"LogScale\"}},\"id\":\"722a7277-bd77-41e2-9b88-fe0757a15458\",\"subtype\":\"Figure\",\"type\":\"Plot\"},{\"attributes\":{\"dimension\":1,\"plot\":{\"id\":\"daf161ae-36fb-4e63-9cfc-7355de056391\",\"subtype\":\"Figure\",\"type\":\"Plot\"},\"ticker\":{\"id\":\"a378df2e-462f-48a1-84fe-a9145c0aa1e9\",\"type\":\"BasicTicker\"}},\"id\":\"5e3b8fc8-bf1a-4760-b56c-05ada35834bc\",\"type\":\"Grid\"},{\"attributes\":{},\"id\":\"001e71c7-ee02-43af-ad10-2a442f6caa52\",\"type\":\"BasicTicker\"},{\"attributes\":{},\"id\":\"a378df2e-462f-48a1-84fe-a9145c0aa1e9\",\"type\":\"BasicTicker\"},{\"attributes\":{},\"id\":\"65718f1b-1b1e-4191-92df-539521aaf135\",\"type\":\"Selection\"},{\"attributes\":{\"plot\":{\"id\":\"daf161ae-36fb-4e63-9cfc-7355de056391\",\"subtype\":\"Figure\",\"type\":\"Plot\"},\"ticker\":{\"id\":\"aebee026-9c75-4939-b4ad-222e7f06bbf6\",\"type\":\"BasicTicker\"}},\"id\":\"e04e055d-8f29-4f8d-9701-a8168cdece9d\",\"type\":\"Grid\"},{\"attributes\":{},\"id\":\"787ccbfb-08f9-455c-b865-5871c5c23f9b\",\"type\":\"Selection\"},{\"attributes\":{},\"id\":\"94285c89-7b79-45f8-ab21-479e221a3e83\",\"type\":\"SaveTool\"},{\"attributes\":{\"source\":{\"id\":\"eec9d5fd-b635-4c8b-8100-15d450e8e003\",\"type\":\"ColumnDataSource\"}},\"id\":\"118e49a9-9ddf-49b8-aa14-3530b294c1ce\",\"type\":\"CDSView\"},{\"attributes\":{},\"id\":\"0f35a177-5ab0-40eb-a93d-ac7956693bc2\",\"type\":\"WheelZoomTool\"},{\"attributes\":{\"callback\":null,\"end\":0.01,\"start\":1020},\"id\":\"ef511506-4766-4e2d-9437-0629eb200d5e\",\"type\":\"Range1d\"},{\"attributes\":{\"overlay\":{\"id\":\"79c8fa04-c6a6-4560-be42-9fe1dbef2885\",\"type\":\"BoxAnnotation\"}},\"id\":\"73e76d6f-979c-48ac-8647-954a631a7803\",\"type\":\"BoxZoomTool\"},{\"attributes\":{\"callback\":null,\"end\":0.01,\"start\":1020},\"id\":\"61c106d5-1f32-4558-b837-ae3ca40c630e\",\"type\":\"Range1d\"},{\"attributes\":{\"items\":[{\"id\":\"d1c1074e-7f13-4a2a-a5da-7b36200670ad\",\"type\":\"LegendItem\"},{\"id\":\"4d8f9938-ee84-41e0-95a8-b22fb9a37cc2\",\"type\":\"LegendItem\"}],\"label_text_font_size\":{\"value\":\"8pt\"},\"location\":\"top_center\",\"orientation\":\"horizontal\",\"plot\":{\"id\":\"daf161ae-36fb-4e63-9cfc-7355de056391\",\"subtype\":\"Figure\",\"type\":\"Plot\"}},\"id\":\"c53d37b6-3a5b-4292-9158-f0b7c24531b0\",\"type\":\"Legend\"},{\"attributes\":{\"data_source\":{\"id\":\"eec9d5fd-b635-4c8b-8100-15d450e8e003\",\"type\":\"ColumnDataSource\"},\"glyph\":{\"id\":\"a489f3f6-1bce-4f42-8976-a55e425b93da\",\"type\":\"Circle\"},\"hover_glyph\":null,\"muted_glyph\":null,\"nonselection_glyph\":{\"id\":\"142294dc-abca-465c-9ab1-2d1de7956684\",\"type\":\"Circle\"},\"selection_glyph\":null,\"view\":{\"id\":\"118e49a9-9ddf-49b8-aa14-3530b294c1ce\",\"type\":\"CDSView\"}},\"id\":\"93aa8998-1081-4939-8b43-1d6f465ff159\",\"type\":\"GlyphRenderer\"},{\"attributes\":{\"bottom_units\":\"screen\",\"fill_alpha\":{\"value\":0.5},\"fill_color\":{\"value\":\"lightgrey\"},\"left_units\":\"screen\",\"level\":\"overlay\",\"line_alpha\":{\"value\":1.0},\"line_color\":{\"value\":\"black\"},\"line_dash\":[4,4],\"line_width\":{\"value\":2},\"plot\":null,\"render_mode\":\"css\",\"right_units\":\"screen\",\"top_units\":\"screen\"},\"id\":\"79c8fa04-c6a6-4560-be42-9fe1dbef2885\",\"type\":\"BoxAnnotation\"},{\"attributes\":{\"bottom_units\":\"screen\",\"fill_alpha\":{\"value\":0.5},\"fill_color\":{\"value\":\"lightgrey\"},\"left_units\":\"screen\",\"level\":\"overlay\",\"line_alpha\":{\"value\":1.0},\"line_color\":{\"value\":\"black\"},\"line_dash\":[4,4],\"line_width\":{\"value\":2},\"plot\":null,\"render_mode\":\"css\",\"right_units\":\"screen\",\"top_units\":\"screen\"},\"id\":\"a2ac7561-a9b4-43a5-9e89-3338d6340a82\",\"type\":\"BoxAnnotation\"},{\"attributes\":{},\"id\":\"6afcb72d-53d8-4bd4-81c0-17aeb1a3da04\",\"type\":\"LinearScale\"},{\"attributes\":{},\"id\":\"a8faed1f-dfad-492d-ab12-c9f5769d047e\",\"type\":\"PanTool\"},{\"attributes\":{\"plot\":{\"id\":\"722a7277-bd77-41e2-9b88-fe0757a15458\",\"subtype\":\"Figure\",\"type\":\"Plot\"},\"ticker\":{\"id\":\"001e71c7-ee02-43af-ad10-2a442f6caa52\",\"type\":\"BasicTicker\"}},\"id\":\"3ecf3862-2ee3-4e96-9575-e919293390b4\",\"type\":\"Grid\"},{\"attributes\":{\"callback\":null,\"data\":{\"x\":{\"__ndarray__\":\"R/KIaN7AVEClCeJMyPNGQOvRhpxr30JAptxzhxx4PkA7SssMElA4QK6Bp3CyUDNAsVXpjES9LkBFhUV0+5coQMHYwqbbySNA6f09nM3nH0CaSd/3eYoZQDmgiAOW8BNAPYqARh3eDEBkm4vCgvr+P9D+5tWhQfY/P8DwKRnSAkBq38kb17ILQDT7IWuSsxFAUr2Rjm0FFkAinq3s9XgbQGCHwtYcqSFAG64kT303J0C7dRDneyooQD9JYrbK8yRA9S3bneHhIUAIymSuUMMcQIkHLe6VEBdAAau3cITREkA6CiNvkQIPQJU39ki7IQlAaAvwok1UA0BXLQiS4+L7P0xzDpJ2hPI/NNuPGMbJ5z91mUVYxqfSPxqwUPSxZca/G11peifD3L8QzNj5t2jTvwzOozTL360/SPJ4VI1VzD9KJ0nXEIncP8yDdlvHt+4/Et49nYLW9z++2teD4Jn+P+568eH/bwFALf5D9lmAAkCiZAicVOkCQPPT4jNKxwJAOjp3wTzBAUBSQsKNGisBQG4OmjqJwQBAJ3sZoHFuAEA5Ar0Sdi0AQGy4rw5+9f8/7W4nSrC3/z8mPr8zj4T/P4UYRHCQS/8/embVKYcF/z+5YXG+LLP+P/qb8BVUgf4/KvafTtyO/j/avAK1Ppv+PwJV9VVm2P0/JFtYlU/n/D9sN+q2fiX6Pw44e41PNPc/Opt+Z/wN9T+x3vcSW1vzP9ofvWQJlvI/8sciQQBW8j80sfkQa17yPzg5qng2r/I/Oh14WJBh8z+VZjnpctj0P6CcrSuCqQBA\",\"dtype\":\"float64\",\"shape\":[75]},\"y\":{\"__ndarray__\":\"GhExyth1ND/Sv8nbtpRIP2vylNV0PVE/aTum7souWD/At0SJ8fVgPw3Iuahxymc/MSNhhJWvcD/bTfBN02d3P2zb5nxnaoA/CD5h5MAGhz8NmeH1TyaQP+zrCsc9p5Y/LbKd76fGnz/bLW5ISEmmPww9YvTcQq8/JV2OstnstT8Er5Y7M8G+P0c+r3jqkcU/5h99k6ZBzj88bCIzFzjVP4enV8oyxN0//yH99nXg5D8qOpLLf0jtP5kqGJXUifQ/c9cS8kHP/D+/DpwzojQEQIEmwoanVwxA4lgXt9HgE0BSSZ2AJuIbQAMJih9jjiNA5q4l5INuK0AwTKYKRj0zQNv5fmq8/DpAaCJseHrtQkB/+zpwzoxKQM3MzMzMeFJAZmZmZmZqWEAAAAAAAFxeQM3MzMzMJmJAmpmZmZkfZUBmZmZmZhhoQDMzMzMzEWtAAAAAAAAKbkBmZmZmZoFwQM3MzMzM/XFAMzMzMzN6c0CamZmZmfZ0QAAAAAAAc3ZAZmZmZmbvd0DNzMzMzGt5QDMzMzMz6HpAmpmZmZlkfEAAAAAAAOF9QGZmZmZmXX9AZmZmZuZsgECamZmZGSuBQM3MzMxM6YFAAAAAAICngkAzMzMzs2WDQGZmZmbmI4RAmpmZmRnihEDNzMzMTKCFQAAAAACAXoZAMzMzM7Mch0BmZmZm5tqHQJqZmZkZmYhAzczMzExXiUAAAAAAgBWKQDMzMzOz04pAZmZmZuaRi0CamZmZGVCMQM3MzMxMDo1AAAAAAIDMjUAzMzMzs4qOQGZmZmbmSI9A\",\"dtype\":\"float64\",\"shape\":[75]}},\"selected\":{\"id\":\"97e8f901-15ea-4b98-a51e-6cf80c5898a6\",\"type\":\"Selection\"},\"selection_policy\":{\"id\":\"77425029-54bc-49d2-88a3-76fe8719fbe4\",\"type\":\"UnionRenderers\"}},\"id\":\"eec9d5fd-b635-4c8b-8100-15d450e8e003\",\"type\":\"ColumnDataSource\"},{\"attributes\":{\"children\":[{\"id\":\"e8b11f7e-8f8a-4400-ad4d-75ecfd352524\",\"type\":\"Row\"}]},\"id\":\"30f7f3d4-c1e9-454d-8346-98ecf0d86b1a\",\"type\":\"Column\"},{\"attributes\":{\"axis_label\":\"pressure [mb]\",\"formatter\":{\"id\":\"7c4ab2ae-7d9d-42a2-a560-3d82a845d50c\",\"type\":\"BasicTickFormatter\"},\"plot\":{\"id\":\"daf161ae-36fb-4e63-9cfc-7355de056391\",\"subtype\":\"Figure\",\"type\":\"Plot\"},\"ticker\":{\"id\":\"a378df2e-462f-48a1-84fe-a9145c0aa1e9\",\"type\":\"BasicTicker\"}},\"id\":\"10a5f3b8-da60-4a33-b007-d7331b433f7b\",\"type\":\"LinearAxis\"},{\"attributes\":{\"callback\":null,\"end\":0.01,\"start\":1020},\"id\":\"b91f6f3d-e821-4100-a00f-efebc09b7fa0\",\"type\":\"Range1d\"},{\"attributes\":{},\"id\":\"1860528f-520b-4b7e-a43a-c482abf50af7\",\"type\":\"ResetTool\"},{\"attributes\":{},\"id\":\"dcdc89ce-1b04-4dd6-b226-4f40667f947d\",\"type\":\"HelpTool\"},{\"attributes\":{\"active_drag\":\"auto\",\"active_inspect\":\"auto\",\"active_scroll\":\"auto\",\"active_tap\":\"auto\",\"tools\":[{\"id\":\"761f4c27-b366-467d-b82c-eef7ca350be6\",\"type\":\"PanTool\"},{\"id\":\"41b27ac3-0d9c-4222-b542-23f8fda50b6f\",\"type\":\"WheelZoomTool\"},{\"id\":\"a1db0183-a960-40c0-ad4d-f27ef659d4f2\",\"type\":\"BoxZoomTool\"},{\"id\":\"d6a9f4bd-cc93-43c3-a2bc-533f649f9cb9\",\"type\":\"SaveTool\"},{\"id\":\"bcdc66ac-07b0-4712-95b5-5f198fc42c5d\",\"type\":\"ResetTool\"},{\"id\":\"0c534277-7aca-4b67-964e-453eb53fd22f\",\"type\":\"HelpTool\"}]},\"id\":\"b2e4fb8a-a5e2-4512-8968-775a490a54aa\",\"type\":\"Toolbar\"},{\"attributes\":{\"fill_alpha\":{\"value\":0.7},\"fill_color\":{\"value\":\"#4daf4a\"},\"line_alpha\":{\"value\":0.7},\"line_color\":{\"value\":\"#4daf4a\"},\"x\":{\"field\":\"x\"},\"y\":{\"field\":\"y\"}},\"id\":\"a489f3f6-1bce-4f42-8976-a55e425b93da\",\"type\":\"Circle\"},{\"attributes\":{},\"id\":\"c35cfe0f-f3d3-4d83-8538-14b455d7c04f\",\"type\":\"UnionRenderers\"},{\"attributes\":{\"callback\":null,\"end\":2.3923930774147006,\"start\":-0.5107478897447001},\"id\":\"45c970f3-b1a7-4b27-9d65-6e9068e713cc\",\"type\":\"Range1d\"},{\"attributes\":{\"fill_alpha\":{\"value\":0.1},\"fill_color\":{\"value\":\"#1f77b4\"},\"line_alpha\":{\"value\":0.1},\"line_color\":{\"value\":\"#1f77b4\"},\"x\":{\"field\":\"x\"},\"y\":{\"field\":\"y\"}},\"id\":\"142294dc-abca-465c-9ab1-2d1de7956684\",\"type\":\"Circle\"},{\"attributes\":{},\"id\":\"2ade7a70-9d35-4fab-8088-fb4d9ff140ca\",\"type\":\"UnionRenderers\"},{\"attributes\":{\"tools\":[{\"id\":\"a8faed1f-dfad-492d-ab12-c9f5769d047e\",\"type\":\"PanTool\"},{\"id\":\"0f35a177-5ab0-40eb-a93d-ac7956693bc2\",\"type\":\"WheelZoomTool\"},{\"id\":\"73e76d6f-979c-48ac-8647-954a631a7803\",\"type\":\"BoxZoomTool\"},{\"id\":\"94285c89-7b79-45f8-ab21-479e221a3e83\",\"type\":\"SaveTool\"},{\"id\":\"1860528f-520b-4b7e-a43a-c482abf50af7\",\"type\":\"ResetTool\"},{\"id\":\"dcdc89ce-1b04-4dd6-b226-4f40667f947d\",\"type\":\"HelpTool\"},{\"id\":\"3ae3c495-2f95-4881-8efc-9d5347a2d0f0\",\"type\":\"PanTool\"},{\"id\":\"c0569fac-ed43-47bb-90c1-b05d4ab4c1e6\",\"type\":\"WheelZoomTool\"},{\"id\":\"44583c4b-a1e3-4854-b2b5-4aa70084fd0a\",\"type\":\"BoxZoomTool\"},{\"id\":\"50c6aab0-e5ee-4ac6-b0a1-05f388b5513a\",\"type\":\"SaveTool\"},{\"id\":\"1b3fca8d-a9fc-46ae-b8c2-c42926e99859\",\"type\":\"ResetTool\"},{\"id\":\"ccf80fd1-6c9f-498c-8168-8eb5d688c77c\",\"type\":\"HelpTool\"},{\"id\":\"761f4c27-b366-467d-b82c-eef7ca350be6\",\"type\":\"PanTool\"},{\"id\":\"41b27ac3-0d9c-4222-b542-23f8fda50b6f\",\"type\":\"WheelZoomTool\"},{\"id\":\"a1db0183-a960-40c0-ad4d-f27ef659d4f2\",\"type\":\"BoxZoomTool\"},{\"id\":\"d6a9f4bd-cc93-43c3-a2bc-533f649f9cb9\",\"type\":\"SaveTool\"},{\"id\":\"bcdc66ac-07b0-4712-95b5-5f198fc42c5d\",\"type\":\"ResetTool\"},{\"id\":\"0c534277-7aca-4b67-964e-453eb53fd22f\",\"type\":\"HelpTool\"}]},\"id\":\"01a74f21-2885-4f44-b2a5-ae7f51c1a4b5\",\"type\":\"ProxyToolbar\"},{\"attributes\":{},\"id\":\"aebee026-9c75-4939-b4ad-222e7f06bbf6\",\"type\":\"BasicTicker\"},{\"attributes\":{\"label\":{\"value\":\"CLIRAD (single-run)\"},\"renderers\":[{\"id\":\"547dd76b-5bba-46b3-9514-6befbd97ff05\",\"type\":\"GlyphRenderer\"}]},\"id\":\"097bd626-608a-4a39-826e-d5a515e3e405\",\"type\":\"LegendItem\"},{\"attributes\":{\"toolbar\":{\"id\":\"01a74f21-2885-4f44-b2a5-ae7f51c1a4b5\",\"type\":\"ProxyToolbar\"},\"toolbar_location\":\"above\"},\"id\":\"25de81b3-70cf-41d9-96b4-7439249981e3\",\"type\":\"ToolbarBox\"},{\"attributes\":{\"callback\":null,\"data\":{\"x\":{\"__ndarray__\":\"Ozb+XIaERUCQgwDMfdJCQF/i+RjNs0FAuH6kPaMcQEB41n5UAhU8QCY7FtCNKTdAsFIQ5xnoMUCY+HIB2QIqQHfWzVF3RiJA0dqItWWZGkC+8+vNPzcVQFgLJwJAAhJA3qSdrx2NDUDMmdnddikDQNYG7tLb2v4/bEa9UJalBUCpTcBZSD4MQHmZLGi9mhBAUCZ7ge3cE0D/3i5OW04ZQI75bypcDCFA8A0yhywDJ0BUqPCnXhooQA8gT0FlhSRAsJ4X5/onIUA5zQiJxlYcQA1nNGbFWBhAdnhSaUorFED1Ioz/OMQPQMJ5WdjxNwlA8noOrRA3BUBujaLjd3QAQNs9b7OipfQ/tumcLlPx5T8jl5PQVcPQP2gUgVdzE8K/OSpV8MTd3r8OInEFj2zYv2iQvJ2Denm//SGQ7IXSxD/dcAZIr3DYP/A4d8rSnuw/QcwJScut9j+1GXgNucv9P0yQSEPc5gBAmMQDyFyAAUCI2cOOqkMCQB6NykWWSQJAmYz2Pi0UAUDcYUBjYH8AQI7f0qcZTgBAaHKvYJsuAEAXLO1UbgQAQKbk80ZBnv8/zoNhHylC/z/adMXCUAv/P5B3bGjoEv8/P+TrOm1I/z+4X+ehFGv/PzfrzVT6bP8/TS8dsgJV/z+XINRZ7gP/P0Lrjcy24v0/FELSavLT/D/OdrrnCDr6PyAWy28Lpvc/F5d0ndD39T+SaTBuo4j0P6lfgjNizvM/pN4as4if8z+lNqP1H7nzP5IPSrR1G/Q/P2osVtYN9T/a8JtJ8sT2P8K3IMN5rAFA\",\"dtype\":\"float64\",\"shape\":[75]},\"y\":{\"__ndarray__\":\"GhExyth1ND/Sv8nbtpRIP2vylNV0PVE/aTum7souWD/At0SJ8fVgPw3Iuahxymc/MSNhhJWvcD/bTfBN02d3P2zb5nxnaoA/CD5h5MAGhz8NmeH1TyaQP+zrCsc9p5Y/LbKd76fGnz/bLW5ISEmmPww9YvTcQq8/JV2OstnstT8Er5Y7M8G+P0c+r3jqkcU/5h99k6ZBzj88bCIzFzjVP4enV8oyxN0//yH99nXg5D8qOpLLf0jtP5kqGJXUifQ/c9cS8kHP/D+/DpwzojQEQIEmwoanVwxA4lgXt9HgE0BSSZ2AJuIbQAMJih9jjiNA5q4l5INuK0AwTKYKRj0zQNv5fmq8/DpAaCJseHrtQkB/+zpwzoxKQM3MzMzMeFJAZmZmZmZqWEAAAAAAAFxeQM3MzMzMJmJAmpmZmZkfZUBmZmZmZhhoQDMzMzMzEWtAAAAAAAAKbkBmZmZmZoFwQM3MzMzM/XFAMzMzMzN6c0CamZmZmfZ0QAAAAAAAc3ZAZmZmZmbvd0DNzMzMzGt5QDMzMzMz6HpAmpmZmZlkfEAAAAAAAOF9QGZmZmZmXX9AZmZmZuZsgECamZmZGSuBQM3MzMxM6YFAAAAAAICngkAzMzMzs2WDQGZmZmbmI4RAmpmZmRnihEDNzMzMTKCFQAAAAACAXoZAMzMzM7Mch0BmZmZm5tqHQJqZmZkZmYhAzczMzExXiUAAAAAAgBWKQDMzMzOz04pAZmZmZuaRi0CamZmZGVCMQM3MzMxMDo1AAAAAAIDMjUAzMzMzs4qOQGZmZmbmSI9A\",\"dtype\":\"float64\",\"shape\":[75]}},\"selected\":{\"id\":\"c285dc29-1aac-4491-b679-19afa80e1d80\",\"type\":\"Selection\"},\"selection_policy\":{\"id\":\"f3db5573-9ad0-4268-a63a-6778c1babb48\",\"type\":\"UnionRenderers\"}},\"id\":\"1c2efc16-fa05-42bb-a850-06d7ffbbb37f\",\"type\":\"ColumnDataSource\"},{\"attributes\":{\"overlay\":{\"id\":\"06a0a8ea-8df9-4a7e-8781-e96f5c0a827c\",\"type\":\"BoxAnnotation\"}},\"id\":\"44583c4b-a1e3-4854-b2b5-4aa70084fd0a\",\"type\":\"BoxZoomTool\"},{\"attributes\":{\"line_alpha\":0.6,\"line_color\":\"#377eb8\",\"line_dash\":[6],\"line_width\":5,\"x\":{\"field\":\"x\"},\"y\":{\"field\":\"y\"}},\"id\":\"1e9cfbac-1f74-4a31-bc26-97c5efa68bfa\",\"type\":\"Line\"},{\"attributes\":{},\"id\":\"f3db5573-9ad0-4268-a63a-6778c1babb48\",\"type\":\"UnionRenderers\"},{\"attributes\":{},\"id\":\"3ae3c495-2f95-4881-8efc-9d5347a2d0f0\",\"type\":\"PanTool\"},{\"attributes\":{},\"id\":\"1b3fca8d-a9fc-46ae-b8c2-c42926e99859\",\"type\":\"ResetTool\"},{\"attributes\":{\"above\":[{\"id\":\"c53d37b6-3a5b-4292-9158-f0b7c24531b0\",\"type\":\"Legend\"}],\"below\":[{\"id\":\"aa7d091f-7f98-4f2c-98ef-a048112781a3\",\"type\":\"LinearAxis\"}],\"left\":[{\"id\":\"10a5f3b8-da60-4a33-b007-d7331b433f7b\",\"type\":\"LinearAxis\"}],\"plot_width\":300,\"renderers\":[{\"id\":\"aa7d091f-7f98-4f2c-98ef-a048112781a3\",\"type\":\"LinearAxis\"},{\"id\":\"e04e055d-8f29-4f8d-9701-a8168cdece9d\",\"type\":\"Grid\"},{\"id\":\"10a5f3b8-da60-4a33-b007-d7331b433f7b\",\"type\":\"LinearAxis\"},{\"id\":\"5e3b8fc8-bf1a-4760-b56c-05ada35834bc\",\"type\":\"Grid\"},{\"id\":\"79c8fa04-c6a6-4560-be42-9fe1dbef2885\",\"type\":\"BoxAnnotation\"},{\"id\":\"11146c03-9887-4729-a1c0-868825222495\",\"type\":\"GlyphRenderer\"},{\"id\":\"93aa8998-1081-4939-8b43-1d6f465ff159\",\"type\":\"GlyphRenderer\"},{\"id\":\"6705b2e2-6fc1-4dc5-8bbe-ad1eaaaa7acd\",\"type\":\"GlyphRenderer\"},{\"id\":\"c53d37b6-3a5b-4292-9158-f0b7c24531b0\",\"type\":\"Legend\"}],\"title\":{\"id\":\"4940faea-c1ea-41ef-9437-29621ca4e076\",\"type\":\"Title\"},\"toolbar\":{\"id\":\"842fbc29-4548-48e7-b684-5e38974bbd93\",\"type\":\"Toolbar\"},\"toolbar_location\":null,\"x_range\":{\"id\":\"45c970f3-b1a7-4b27-9d65-6e9068e713cc\",\"type\":\"Range1d\"},\"x_scale\":{\"id\":\"0def896e-1421-467f-970d-93eb5a604c2e\",\"type\":\"LinearScale\"},\"y_range\":{\"id\":\"61c106d5-1f32-4558-b837-ae3ca40c630e\",\"type\":\"Range1d\"},\"y_scale\":{\"id\":\"59d74ec0-7d92-4aa3-b9fd-517c0a5e5cd8\",\"type\":\"LinearScale\"}},\"id\":\"daf161ae-36fb-4e63-9cfc-7355de056391\",\"subtype\":\"Figure\",\"type\":\"Plot\"},{\"attributes\":{\"bottom_units\":\"screen\",\"fill_alpha\":{\"value\":0.5},\"fill_color\":{\"value\":\"lightgrey\"},\"left_units\":\"screen\",\"level\":\"overlay\",\"line_alpha\":{\"value\":1.0},\"line_color\":{\"value\":\"black\"},\"line_dash\":[4,4],\"line_width\":{\"value\":2},\"plot\":null,\"render_mode\":\"css\",\"right_units\":\"screen\",\"top_units\":\"screen\"},\"id\":\"06a0a8ea-8df9-4a7e-8781-e96f5c0a827c\",\"type\":\"BoxAnnotation\"},{\"attributes\":{},\"id\":\"d5bcf92c-df9c-4bbe-84b2-bdf8ba52ca17\",\"type\":\"LogScale\"},{\"attributes\":{\"callback\":null,\"data\":{\"x\":{\"__ndarray__\":\"Ozb+XIaERUCQgwDMfdJCQF/i+RjNs0FAuH6kPaMcQEB41n5UAhU8QCY7FtCNKTdAsFIQ5xnoMUCY+HIB2QIqQHfWzVF3RiJA0dqItWWZGkC+8+vNPzcVQFgLJwJAAhJA3qSdrx2NDUDMmdnddikDQNYG7tLb2v4/bEa9UJalBUCpTcBZSD4MQHmZLGi9mhBAUCZ7ge3cE0D/3i5OW04ZQI75bypcDCFA8A0yhywDJ0BUqPCnXhooQA8gT0FlhSRAsJ4X5/onIUA5zQiJxlYcQA1nNGbFWBhAdnhSaUorFED1Ioz/OMQPQMJ5WdjxNwlA8noOrRA3BUBujaLjd3QAQNs9b7OipfQ/tumcLlPx5T8jl5PQVcPQP2gUgVdzE8K/OSpV8MTd3r8OInEFj2zYv2iQvJ2Denm//SGQ7IXSxD/dcAZIr3DYP/A4d8rSnuw/QcwJScut9j+1GXgNucv9P0yQSEPc5gBAmMQDyFyAAUCI2cOOqkMCQB6NykWWSQJAmYz2Pi0UAUDcYUBjYH8AQI7f0qcZTgBAaHKvYJsuAEAXLO1UbgQAQKbk80ZBnv8/zoNhHylC/z/adMXCUAv/P5B3bGjoEv8/P+TrOm1I/z+4X+ehFGv/PzfrzVT6bP8/TS8dsgJV/z+XINRZ7gP/P0Lrjcy24v0/FELSavLT/D/OdrrnCDr6PyAWy28Lpvc/F5d0ndD39T+SaTBuo4j0P6lfgjNizvM/pN4as4if8z+lNqP1H7nzP5IPSrR1G/Q/P2osVtYN9T/a8JtJ8sT2P8K3IMN5rAFA\",\"dtype\":\"float64\",\"shape\":[75]},\"y\":{\"__ndarray__\":\"GhExyth1ND/Sv8nbtpRIP2vylNV0PVE/aTum7souWD/At0SJ8fVgPw3Iuahxymc/MSNhhJWvcD/bTfBN02d3P2zb5nxnaoA/CD5h5MAGhz8NmeH1TyaQP+zrCsc9p5Y/LbKd76fGnz/bLW5ISEmmPww9YvTcQq8/JV2OstnstT8Er5Y7M8G+P0c+r3jqkcU/5h99k6ZBzj88bCIzFzjVP4enV8oyxN0//yH99nXg5D8qOpLLf0jtP5kqGJXUifQ/c9cS8kHP/D+/DpwzojQEQIEmwoanVwxA4lgXt9HgE0BSSZ2AJuIbQAMJih9jjiNA5q4l5INuK0AwTKYKRj0zQNv5fmq8/DpAaCJseHrtQkB/+zpwzoxKQM3MzMzMeFJAZmZmZmZqWEAAAAAAAFxeQM3MzMzMJmJAmpmZmZkfZUBmZmZmZhhoQDMzMzMzEWtAAAAAAAAKbkBmZmZmZoFwQM3MzMzM/XFAMzMzMzN6c0CamZmZmfZ0QAAAAAAAc3ZAZmZmZmbvd0DNzMzMzGt5QDMzMzMz6HpAmpmZmZlkfEAAAAAAAOF9QGZmZmZmXX9AZmZmZuZsgECamZmZGSuBQM3MzMxM6YFAAAAAAICngkAzMzMzs2WDQGZmZmbmI4RAmpmZmRnihEDNzMzMTKCFQAAAAACAXoZAMzMzM7Mch0BmZmZm5tqHQJqZmZkZmYhAzczMzExXiUAAAAAAgBWKQDMzMzOz04pAZmZmZuaRi0CamZmZGVCMQM3MzMxMDo1AAAAAAIDMjUAzMzMzs4qOQGZmZmbmSI9A\",\"dtype\":\"float64\",\"shape\":[75]}},\"selected\":{\"id\":\"3b44c4af-4668-4f19-aca6-aa659fac0ed3\",\"type\":\"Selection\"},\"selection_policy\":{\"id\":\"2b6771ea-43b8-41d6-a726-fec4c1b98ec3\",\"type\":\"UnionRenderers\"}},\"id\":\"bec1fb60-de7e-4d25-8042-dd93440f1daf\",\"type\":\"ColumnDataSource\"},{\"attributes\":{},\"id\":\"ccf80fd1-6c9f-498c-8168-8eb5d688c77c\",\"type\":\"HelpTool\"},{\"attributes\":{},\"id\":\"50c6aab0-e5ee-4ac6-b0a1-05f388b5513a\",\"type\":\"SaveTool\"},{\"attributes\":{\"active_drag\":\"auto\",\"active_inspect\":\"auto\",\"active_scroll\":\"auto\",\"active_tap\":\"auto\",\"tools\":[{\"id\":\"a8faed1f-dfad-492d-ab12-c9f5769d047e\",\"type\":\"PanTool\"},{\"id\":\"0f35a177-5ab0-40eb-a93d-ac7956693bc2\",\"type\":\"WheelZoomTool\"},{\"id\":\"73e76d6f-979c-48ac-8647-954a631a7803\",\"type\":\"BoxZoomTool\"},{\"id\":\"94285c89-7b79-45f8-ab21-479e221a3e83\",\"type\":\"SaveTool\"},{\"id\":\"1860528f-520b-4b7e-a43a-c482abf50af7\",\"type\":\"ResetTool\"},{\"id\":\"dcdc89ce-1b04-4dd6-b226-4f40667f947d\",\"type\":\"HelpTool\"}]},\"id\":\"842fbc29-4548-48e7-b684-5e38974bbd93\",\"type\":\"Toolbar\"},{\"attributes\":{},\"id\":\"97e8f901-15ea-4b98-a51e-6cf80c5898a6\",\"type\":\"Selection\"},{\"attributes\":{\"axis_label\":\"cooling rate [K/day]\",\"formatter\":{\"id\":\"66dfbafb-d5e1-4e24-a48a-66d2087e4515\",\"type\":\"BasicTickFormatter\"},\"plot\":{\"id\":\"722a7277-bd77-41e2-9b88-fe0757a15458\",\"subtype\":\"Figure\",\"type\":\"Plot\"},\"ticker\":{\"id\":\"001e71c7-ee02-43af-ad10-2a442f6caa52\",\"type\":\"BasicTicker\"}},\"id\":\"ba1d46cb-d783-46d4-a501-f778c3825b48\",\"type\":\"LinearAxis\"},{\"attributes\":{\"source\":{\"id\":\"1c2efc16-fa05-42bb-a850-06d7ffbbb37f\",\"type\":\"ColumnDataSource\"}},\"id\":\"0949d30a-19c3-47f6-a536-754f0bc2c96d\",\"type\":\"CDSView\"},{\"attributes\":{\"line_alpha\":0.1,\"line_color\":\"#1f77b4\",\"line_dash\":[6],\"line_width\":5,\"x\":{\"field\":\"x\"},\"y\":{\"field\":\"y\"}},\"id\":\"2936d423-aba4-4bf3-8a43-71aa3272d32e\",\"type\":\"Line\"},{\"attributes\":{},\"id\":\"c0569fac-ed43-47bb-90c1-b05d4ab4c1e6\",\"type\":\"WheelZoomTool\"},{\"attributes\":{},\"id\":\"ea64cd5d-ecc6-49ac-9086-96c6ce108d4d\",\"type\":\"UnionRenderers\"},{\"attributes\":{\"data_source\":{\"id\":\"1c2efc16-fa05-42bb-a850-06d7ffbbb37f\",\"type\":\"ColumnDataSource\"},\"glyph\":{\"id\":\"b64580b9-d8e8-425e-9749-24af821b08bc\",\"type\":\"Line\"},\"hover_glyph\":null,\"muted_glyph\":null,\"nonselection_glyph\":{\"id\":\"2936d423-aba4-4bf3-8a43-71aa3272d32e\",\"type\":\"Line\"},\"selection_glyph\":null,\"view\":{\"id\":\"0949d30a-19c3-47f6-a536-754f0bc2c96d\",\"type\":\"CDSView\"}},\"id\":\"11146c03-9887-4729-a1c0-868825222495\",\"type\":\"GlyphRenderer\"},{\"attributes\":{},\"id\":\"452c441f-97dc-414b-a3c7-6058b69cced2\",\"type\":\"BasicTickFormatter\"},{\"attributes\":{\"children\":[{\"id\":\"daf161ae-36fb-4e63-9cfc-7355de056391\",\"subtype\":\"Figure\",\"type\":\"Plot\"},{\"id\":\"5c299bdf-5cbc-4c1c-abb4-4a04160a30f8\",\"subtype\":\"Figure\",\"type\":\"Plot\"},{\"id\":\"722a7277-bd77-41e2-9b88-fe0757a15458\",\"subtype\":\"Figure\",\"type\":\"Plot\"}]},\"id\":\"e8b11f7e-8f8a-4400-ad4d-75ecfd352524\",\"type\":\"Row\"},{\"attributes\":{\"line_alpha\":0.6,\"line_color\":\"#377eb8\",\"line_dash\":[6],\"line_width\":5,\"x\":{\"field\":\"x\"},\"y\":{\"field\":\"y\"}},\"id\":\"b64580b9-d8e8-425e-9749-24af821b08bc\",\"type\":\"Line\"},{\"attributes\":{\"ticker\":null},\"id\":\"e8e3625b-4f37-40c8-8d87-6cbc56533cca\",\"type\":\"LogTickFormatter\"},{\"attributes\":{},\"id\":\"e6eee5d8-2490-451f-b32a-8f2ae5ac56f1\",\"type\":\"Selection\"},{\"attributes\":{},\"id\":\"77425029-54bc-49d2-88a3-76fe8719fbe4\",\"type\":\"UnionRenderers\"},{\"attributes\":{\"ticker\":null},\"id\":\"0e79df7d-97ea-4a53-8b42-52f88eced0f1\",\"type\":\"LogTickFormatter\"},{\"attributes\":{\"plot\":null,\"text\":\"\"},\"id\":\"4940faea-c1ea-41ef-9437-29621ca4e076\",\"type\":\"Title\"},{\"attributes\":{},\"id\":\"82406214-4bbb-42a4-bed4-50487f4fc924\",\"type\":\"Selection\"},{\"attributes\":{\"source\":{\"id\":\"93e25ef0-6f48-48aa-b97e-9c0c0ee2693f\",\"type\":\"ColumnDataSource\"}},\"id\":\"0272830f-126f-4f55-8847-e5f2c1ed10d4\",\"type\":\"CDSView\"},{\"attributes\":{},\"id\":\"0876be9f-0694-4ccc-9946-25465a3cbec4\",\"type\":\"BasicTickFormatter\"},{\"attributes\":{},\"id\":\"3a60d91a-0a56-40af-80d7-a01552db12d0\",\"type\":\"UnionRenderers\"},{\"attributes\":{\"plot\":null,\"text\":\"\"},\"id\":\"70a9b122-c711-42f6-b0bf-78a3a6a6675a\",\"type\":\"Title\"},{\"attributes\":{\"label\":{\"value\":\"CLIRAD (single-run) - CRD\"},\"renderers\":[{\"id\":\"2807fe96-91d8-4fdd-8a09-d888cfe348f6\",\"type\":\"GlyphRenderer\"},{\"id\":\"cc692c99-e15e-49ff-92ba-92dc6017f242\",\"type\":\"GlyphRenderer\"}]},\"id\":\"6940daaa-e337-4fb1-898d-f2e9ae197d73\",\"type\":\"LegendItem\"},{\"attributes\":{},\"id\":\"66dfbafb-d5e1-4e24-a48a-66d2087e4515\",\"type\":\"BasicTickFormatter\"},{\"attributes\":{},\"id\":\"d63d2213-cd8f-4ec4-b41e-b73baca9ddf7\",\"type\":\"UnionRenderers\"},{\"attributes\":{},\"id\":\"c285dc29-1aac-4491-b679-19afa80e1d80\",\"type\":\"Selection\"},{\"attributes\":{},\"id\":\"5071c4d9-0a37-4c7b-a4d9-545229dd4092\",\"type\":\"Selection\"},{\"attributes\":{\"plot\":null,\"text\":\"\"},\"id\":\"1d520c81-010c-4ad5-80cb-c345d901be85\",\"type\":\"Title\"},{\"attributes\":{\"callback\":null,\"data\":{\"x\":{\"__ndarray__\":\"R/KIaN7AVEClCeJMyPNGQOvRhpxr30JAptxzhxx4PkA7SssMElA4QK6Bp3CyUDNAsVXpjES9LkBFhUV0+5coQMHYwqbbySNA6f09nM3nH0CaSd/3eYoZQDmgiAOW8BNAPYqARh3eDEBkm4vCgvr+P9D+5tWhQfY/P8DwKRnSAkBq38kb17ILQDT7IWuSsxFAUr2Rjm0FFkAinq3s9XgbQGCHwtYcqSFAG64kT303J0C7dRDneyooQD9JYrbK8yRA9S3bneHhIUAIymSuUMMcQIkHLe6VEBdAAau3cITREkA6CiNvkQIPQJU39ki7IQlAaAvwok1UA0BXLQiS4+L7P0xzDpJ2hPI/NNuPGMbJ5z91mUVYxqfSPxqwUPSxZca/G11peifD3L8QzNj5t2jTvwzOozTL360/SPJ4VI1VzD9KJ0nXEIncP8yDdlvHt+4/Et49nYLW9z++2teD4Jn+P+568eH/bwFALf5D9lmAAkCiZAicVOkCQPPT4jNKxwJAOjp3wTzBAUBSQsKNGisBQG4OmjqJwQBAJ3sZoHFuAEA5Ar0Sdi0AQGy4rw5+9f8/7W4nSrC3/z8mPr8zj4T/P4UYRHCQS/8/embVKYcF/z+5YXG+LLP+P/qb8BVUgf4/KvafTtyO/j/avAK1Ppv+PwJV9VVm2P0/JFtYlU/n/D9sN+q2fiX6Pw44e41PNPc/Opt+Z/wN9T+x3vcSW1vzP9ofvWQJlvI/8sciQQBW8j80sfkQa17yPzg5qng2r/I/Oh14WJBh8z+VZjnpctj0P6CcrSuCqQBA\",\"dtype\":\"float64\",\"shape\":[75]},\"y\":{\"__ndarray__\":\"GhExyth1ND/Sv8nbtpRIP2vylNV0PVE/aTum7souWD/At0SJ8fVgPw3Iuahxymc/MSNhhJWvcD/bTfBN02d3P2zb5nxnaoA/CD5h5MAGhz8NmeH1TyaQP+zrCsc9p5Y/LbKd76fGnz/bLW5ISEmmPww9YvTcQq8/JV2OstnstT8Er5Y7M8G+P0c+r3jqkcU/5h99k6ZBzj88bCIzFzjVP4enV8oyxN0//yH99nXg5D8qOpLLf0jtP5kqGJXUifQ/c9cS8kHP/D+/DpwzojQEQIEmwoanVwxA4lgXt9HgE0BSSZ2AJuIbQAMJih9jjiNA5q4l5INuK0AwTKYKRj0zQNv5fmq8/DpAaCJseHrtQkB/+zpwzoxKQM3MzMzMeFJAZmZmZmZqWEAAAAAAAFxeQM3MzMzMJmJAmpmZmZkfZUBmZmZmZhhoQDMzMzMzEWtAAAAAAAAKbkBmZmZmZoFwQM3MzMzM/XFAMzMzMzN6c0CamZmZmfZ0QAAAAAAAc3ZAZmZmZmbvd0DNzMzMzGt5QDMzMzMz6HpAmpmZmZlkfEAAAAAAAOF9QGZmZmZmXX9AZmZmZuZsgECamZmZGSuBQM3MzMxM6YFAAAAAAICngkAzMzMzs2WDQGZmZmbmI4RAmpmZmRnihEDNzMzMTKCFQAAAAACAXoZAMzMzM7Mch0BmZmZm5tqHQJqZmZkZmYhAzczMzExXiUAAAAAAgBWKQDMzMzOz04pAZmZmZuaRi0CamZmZGVCMQM3MzMxMDo1AAAAAAIDMjUAzMzMzs4qOQGZmZmbmSI9A\",\"dtype\":\"float64\",\"shape\":[75]}},\"selected\":{\"id\":\"5071c4d9-0a37-4c7b-a4d9-545229dd4092\",\"type\":\"Selection\"},\"selection_policy\":{\"id\":\"d63d2213-cd8f-4ec4-b41e-b73baca9ddf7\",\"type\":\"UnionRenderers\"}},\"id\":\"93e25ef0-6f48-48aa-b97e-9c0c0ee2693f\",\"type\":\"ColumnDataSource\"},{\"attributes\":{\"callback\":null,\"data\":{\"x\":{\"__ndarray__\":\"R/KIaN7AVEClCeJMyPNGQOvRhpxr30JAptxzhxx4PkA7SssMElA4QK6Bp3CyUDNAsVXpjES9LkBFhUV0+5coQMHYwqbbySNA6f09nM3nH0CaSd/3eYoZQDmgiAOW8BNAPYqARh3eDEBkm4vCgvr+P9D+5tWhQfY/P8DwKRnSAkBq38kb17ILQDT7IWuSsxFAUr2Rjm0FFkAinq3s9XgbQGCHwtYcqSFAG64kT303J0C7dRDneyooQD9JYrbK8yRA9S3bneHhIUAIymSuUMMcQIkHLe6VEBdAAau3cITREkA6CiNvkQIPQJU39ki7IQlAaAvwok1UA0BXLQiS4+L7P0xzDpJ2hPI/NNuPGMbJ5z91mUVYxqfSPxqwUPSxZca/G11peifD3L8QzNj5t2jTvwzOozTL360/SPJ4VI1VzD9KJ0nXEIncP8yDdlvHt+4/Et49nYLW9z++2teD4Jn+P+568eH/bwFALf5D9lmAAkCiZAicVOkCQPPT4jNKxwJAOjp3wTzBAUBSQsKNGisBQG4OmjqJwQBAJ3sZoHFuAEA5Ar0Sdi0AQGy4rw5+9f8/7W4nSrC3/z8mPr8zj4T/P4UYRHCQS/8/embVKYcF/z+5YXG+LLP+P/qb8BVUgf4/KvafTtyO/j/avAK1Ppv+PwJV9VVm2P0/JFtYlU/n/D9sN+q2fiX6Pw44e41PNPc/Opt+Z/wN9T+x3vcSW1vzP9ofvWQJlvI/8sciQQBW8j80sfkQa17yPzg5qng2r/I/Oh14WJBh8z+VZjnpctj0P6CcrSuCqQBA\",\"dtype\":\"float64\",\"shape\":[75]},\"y\":{\"__ndarray__\":\"GhExyth1ND/Sv8nbtpRIP2vylNV0PVE/aTum7souWD/At0SJ8fVgPw3Iuahxymc/MSNhhJWvcD/bTfBN02d3P2zb5nxnaoA/CD5h5MAGhz8NmeH1TyaQP+zrCsc9p5Y/LbKd76fGnz/bLW5ISEmmPww9YvTcQq8/JV2OstnstT8Er5Y7M8G+P0c+r3jqkcU/5h99k6ZBzj88bCIzFzjVP4enV8oyxN0//yH99nXg5D8qOpLLf0jtP5kqGJXUifQ/c9cS8kHP/D+/DpwzojQEQIEmwoanVwxA4lgXt9HgE0BSSZ2AJuIbQAMJih9jjiNA5q4l5INuK0AwTKYKRj0zQNv5fmq8/DpAaCJseHrtQkB/+zpwzoxKQM3MzMzMeFJAZmZmZmZqWEAAAAAAAFxeQM3MzMzMJmJAmpmZmZkfZUBmZmZmZhhoQDMzMzMzEWtAAAAAAAAKbkBmZmZmZoFwQM3MzMzM/XFAMzMzMzN6c0CamZmZmfZ0QAAAAAAAc3ZAZmZmZmbvd0DNzMzMzGt5QDMzMzMz6HpAmpmZmZlkfEAAAAAAAOF9QGZmZmZmXX9AZmZmZuZsgECamZmZGSuBQM3MzMxM6YFAAAAAAICngkAzMzMzs2WDQGZmZmbmI4RAmpmZmRnihEDNzMzMTKCFQAAAAACAXoZAMzMzM7Mch0BmZmZm5tqHQJqZmZkZmYhAzczMzExXiUAAAAAAgBWKQDMzMzOz04pAZmZmZuaRi0CamZmZGVCMQM3MzMxMDo1AAAAAAIDMjUAzMzMzs4qOQGZmZmbmSI9A\",\"dtype\":\"float64\",\"shape\":[75]}},\"selected\":{\"id\":\"e6eee5d8-2490-451f-b32a-8f2ae5ac56f1\",\"type\":\"Selection\"},\"selection_policy\":{\"id\":\"ea64cd5d-ecc6-49ac-9086-96c6ce108d4d\",\"type\":\"UnionRenderers\"}},\"id\":\"ca2e6ce3-35bd-4350-a9e4-dfbe4705155f\",\"type\":\"ColumnDataSource\"},{\"attributes\":{\"line_alpha\":0.8,\"line_color\":\"#984ea3\",\"line_width\":1.5,\"x\":{\"field\":\"x\"},\"y\":{\"field\":\"y\"}},\"id\":\"8c2f4c19-b967-458c-bac8-8ae5f62aaafb\",\"type\":\"Line\"},{\"attributes\":{\"axis_label\":\"pressure [mb]\",\"formatter\":{\"id\":\"0e79df7d-97ea-4a53-8b42-52f88eced0f1\",\"type\":\"LogTickFormatter\"},\"plot\":{\"id\":\"722a7277-bd77-41e2-9b88-fe0757a15458\",\"subtype\":\"Figure\",\"type\":\"Plot\"},\"ticker\":{\"id\":\"965a3016-bc57-4e99-810c-2b8b6b5b5050\",\"type\":\"LogTicker\"}},\"id\":\"06a19d17-a817-4489-9a4d-9d2944b0ea54\",\"type\":\"LogAxis\"},{\"attributes\":{\"source\":{\"id\":\"973e5593-97ac-40d6-a2b2-fc2e3670abb8\",\"type\":\"ColumnDataSource\"}},\"id\":\"eb3d201a-3f40-4456-bdd4-d563fc894694\",\"type\":\"CDSView\"},{\"attributes\":{\"line_color\":\"#4daf4a\",\"line_width\":1.5,\"x\":{\"field\":\"x\"},\"y\":{\"field\":\"y\"}},\"id\":\"4fc66752-13a2-4927-a6ab-f5d94fa6b359\",\"type\":\"Line\"},{\"attributes\":{\"data_source\":{\"id\":\"bec1fb60-de7e-4d25-8042-dd93440f1daf\",\"type\":\"ColumnDataSource\"},\"glyph\":{\"id\":\"1e9cfbac-1f74-4a31-bc26-97c5efa68bfa\",\"type\":\"Line\"},\"hover_glyph\":null,\"muted_glyph\":null,\"nonselection_glyph\":{\"id\":\"395acc82-5112-49a3-849e-14879bd762ce\",\"type\":\"Line\"},\"selection_glyph\":null,\"view\":{\"id\":\"04d3d0d4-7d08-42e0-887b-776dc4a2cee1\",\"type\":\"CDSView\"}},\"id\":\"547dd76b-5bba-46b3-9514-6befbd97ff05\",\"type\":\"GlyphRenderer\"},{\"attributes\":{\"callback\":null,\"end\":0.5560485881047079,\"start\":-1.3452079970719086},\"id\":\"874baf2c-2d80-4762-beeb-99d7a84e6a4f\",\"type\":\"Range1d\"},{\"attributes\":{\"label\":{\"value\":\"CRD\"},\"renderers\":[{\"id\":\"a6fccb3b-ea9f-49fc-bfbf-ce7361914567\",\"type\":\"GlyphRenderer\"},{\"id\":\"4e849ecf-70d6-4d0f-b958-2d8795cbf56b\",\"type\":\"GlyphRenderer\"}]},\"id\":\"471735f8-0eef-441a-bf02-b6269c691a5d\",\"type\":\"LegendItem\"},{\"attributes\":{\"plot\":{\"id\":\"5c299bdf-5cbc-4c1c-abb4-4a04160a30f8\",\"subtype\":\"Figure\",\"type\":\"Plot\"},\"ticker\":{\"id\":\"ccddc6ae-5b2a-4752-9e28-def833983868\",\"type\":\"BasicTicker\"}},\"id\":\"404f7f99-3f9b-4e4d-8713-01d348b9ad1f\",\"type\":\"Grid\"},{\"attributes\":{\"source\":{\"id\":\"1f74fbc6-bbd0-4aff-8784-f10cbd0a1c37\",\"type\":\"ColumnDataSource\"}},\"id\":\"03ef3d14-0d5a-410f-b7fe-3b7fc99e8b08\",\"type\":\"CDSView\"},{\"attributes\":{\"line_color\":\"#4daf4a\",\"line_width\":1.5,\"x\":{\"field\":\"x\"},\"y\":{\"field\":\"y\"}},\"id\":\"e93d76a6-c814-484f-8569-6a0ad7a13495\",\"type\":\"Line\"},{\"attributes\":{},\"id\":\"e3d6d75a-e700-4d35-b551-df7b63f4271f\",\"type\":\"LinearScale\"},{\"attributes\":{\"dimension\":1,\"plot\":{\"id\":\"5c299bdf-5cbc-4c1c-abb4-4a04160a30f8\",\"subtype\":\"Figure\",\"type\":\"Plot\"},\"ticker\":{\"id\":\"7fdebdc8-a344-469f-b309-8de2dfd617ff\",\"type\":\"LogTicker\"}},\"id\":\"c7d7427c-4fed-4777-86e5-f67d7d9b13d0\",\"type\":\"Grid\"},{\"attributes\":{\"items\":[{\"id\":\"6940daaa-e337-4fb1-898d-f2e9ae197d73\",\"type\":\"LegendItem\"}],\"label_text_font_size\":{\"value\":\"8pt\"},\"location\":\"top_center\",\"orientation\":\"horizontal\",\"plot\":{\"id\":\"722a7277-bd77-41e2-9b88-fe0757a15458\",\"subtype\":\"Figure\",\"type\":\"Plot\"}},\"id\":\"ad9228db-7fd0-458a-b45e-da00b06ce39d\",\"type\":\"Legend\"},{\"attributes\":{},\"id\":\"bcdc66ac-07b0-4712-95b5-5f198fc42c5d\",\"type\":\"ResetTool\"},{\"attributes\":{\"label\":{\"value\":\"CLIRAD (single-run)\"},\"renderers\":[{\"id\":\"11146c03-9887-4729-a1c0-868825222495\",\"type\":\"GlyphRenderer\"}]},\"id\":\"d1c1074e-7f13-4a2a-a5da-7b36200670ad\",\"type\":\"LegendItem\"},{\"attributes\":{},\"id\":\"0c534277-7aca-4b67-964e-453eb53fd22f\",\"type\":\"HelpTool\"},{\"attributes\":{\"axis_label\":\"cooling rate [K/day]\",\"formatter\":{\"id\":\"0876be9f-0694-4ccc-9946-25465a3cbec4\",\"type\":\"BasicTickFormatter\"},\"plot\":{\"id\":\"daf161ae-36fb-4e63-9cfc-7355de056391\",\"subtype\":\"Figure\",\"type\":\"Plot\"},\"ticker\":{\"id\":\"aebee026-9c75-4939-b4ad-222e7f06bbf6\",\"type\":\"BasicTicker\"}},\"id\":\"aa7d091f-7f98-4f2c-98ef-a048112781a3\",\"type\":\"LinearAxis\"},{\"attributes\":{\"above\":[{\"id\":\"750229c6-5182-4fb1-ab77-c2f3e1dce38c\",\"type\":\"Legend\"}],\"below\":[{\"id\":\"d2e1f4ab-bfae-4c53-8e22-2d92eb62d52a\",\"type\":\"LinearAxis\"}],\"left\":[{\"id\":\"7c9ad6eb-34bc-4ba5-ad0c-ec73b1706e6d\",\"type\":\"LogAxis\"}],\"plot_width\":300,\"renderers\":[{\"id\":\"d2e1f4ab-bfae-4c53-8e22-2d92eb62d52a\",\"type\":\"LinearAxis\"},{\"id\":\"404f7f99-3f9b-4e4d-8713-01d348b9ad1f\",\"type\":\"Grid\"},{\"id\":\"7c9ad6eb-34bc-4ba5-ad0c-ec73b1706e6d\",\"type\":\"LogAxis\"},{\"id\":\"c7d7427c-4fed-4777-86e5-f67d7d9b13d0\",\"type\":\"Grid\"},{\"id\":\"06a0a8ea-8df9-4a7e-8781-e96f5c0a827c\",\"type\":\"BoxAnnotation\"},{\"id\":\"547dd76b-5bba-46b3-9514-6befbd97ff05\",\"type\":\"GlyphRenderer\"},{\"id\":\"a6fccb3b-ea9f-49fc-bfbf-ce7361914567\",\"type\":\"GlyphRenderer\"},{\"id\":\"4e849ecf-70d6-4d0f-b958-2d8795cbf56b\",\"type\":\"GlyphRenderer\"},{\"id\":\"750229c6-5182-4fb1-ab77-c2f3e1dce38c\",\"type\":\"Legend\"}],\"title\":{\"id\":\"1d520c81-010c-4ad5-80cb-c345d901be85\",\"type\":\"Title\"},\"toolbar\":{\"id\":\"8c18f3b3-d9ed-4366-b21e-094f5e8d4a8d\",\"type\":\"Toolbar\"},\"toolbar_location\":null,\"x_range\":{\"id\":\"b9437a1d-eb4c-42d0-aaed-9908786a4874\",\"type\":\"Range1d\"},\"x_scale\":{\"id\":\"e3d6d75a-e700-4d35-b551-df7b63f4271f\",\"type\":\"LinearScale\"},\"y_range\":{\"id\":\"b91f6f3d-e821-4100-a00f-efebc09b7fa0\",\"type\":\"Range1d\"},\"y_scale\":{\"id\":\"1c3b699d-4cd9-487c-a24b-d40cf2b350a1\",\"type\":\"LogScale\"}},\"id\":\"5c299bdf-5cbc-4c1c-abb4-4a04160a30f8\",\"subtype\":\"Figure\",\"type\":\"Plot\"},{\"attributes\":{\"num_minor_ticks\":10},\"id\":\"965a3016-bc57-4e99-810c-2b8b6b5b5050\",\"type\":\"LogTicker\"},{\"attributes\":{\"source\":{\"id\":\"bec1fb60-de7e-4d25-8042-dd93440f1daf\",\"type\":\"ColumnDataSource\"}},\"id\":\"04d3d0d4-7d08-42e0-887b-776dc4a2cee1\",\"type\":\"CDSView\"},{\"attributes\":{\"callback\":null,\"end\":12.208629174531797,\"start\":-0.6079383461518},\"id\":\"b9437a1d-eb4c-42d0-aaed-9908786a4874\",\"type\":\"Range1d\"},{\"attributes\":{\"overlay\":{\"id\":\"a2ac7561-a9b4-43a5-9e89-3338d6340a82\",\"type\":\"BoxAnnotation\"}},\"id\":\"a1db0183-a960-40c0-ad4d-f27ef659d4f2\",\"type\":\"BoxZoomTool\"},{\"attributes\":{},\"id\":\"0def896e-1421-467f-970d-93eb5a604c2e\",\"type\":\"LinearScale\"},{\"attributes\":{\"label\":{\"value\":\"CRD\"},\"renderers\":[{\"id\":\"93aa8998-1081-4939-8b43-1d6f465ff159\",\"type\":\"GlyphRenderer\"},{\"id\":\"6705b2e2-6fc1-4dc5-8bbe-ad1eaaaa7acd\",\"type\":\"GlyphRenderer\"}]},\"id\":\"4d8f9938-ee84-41e0-95a8-b22fb9a37cc2\",\"type\":\"LegendItem\"},{\"attributes\":{\"fill_alpha\":{\"value\":0.7},\"fill_color\":{\"value\":\"#4daf4a\"},\"line_alpha\":{\"value\":0.7},\"line_color\":{\"value\":\"#4daf4a\"},\"x\":{\"field\":\"x\"},\"y\":{\"field\":\"y\"}},\"id\":\"58ce105d-7cb8-43ae-9fac-5f4c93734960\",\"type\":\"Circle\"},{\"attributes\":{\"active_drag\":\"auto\",\"active_inspect\":\"auto\",\"active_scroll\":\"auto\",\"active_tap\":\"auto\",\"tools\":[{\"id\":\"3ae3c495-2f95-4881-8efc-9d5347a2d0f0\",\"type\":\"PanTool\"},{\"id\":\"c0569fac-ed43-47bb-90c1-b05d4ab4c1e6\",\"type\":\"WheelZoomTool\"},{\"id\":\"44583c4b-a1e3-4854-b2b5-4aa70084fd0a\",\"type\":\"BoxZoomTool\"},{\"id\":\"50c6aab0-e5ee-4ac6-b0a1-05f388b5513a\",\"type\":\"SaveTool\"},{\"id\":\"1b3fca8d-a9fc-46ae-b8c2-c42926e99859\",\"type\":\"ResetTool\"},{\"id\":\"ccf80fd1-6c9f-498c-8168-8eb5d688c77c\",\"type\":\"HelpTool\"}]},\"id\":\"8c18f3b3-d9ed-4366-b21e-094f5e8d4a8d\",\"type\":\"Toolbar\"},{\"attributes\":{\"axis_label\":\"cooling rate [K/day]\",\"formatter\":{\"id\":\"452c441f-97dc-414b-a3c7-6058b69cced2\",\"type\":\"BasicTickFormatter\"},\"plot\":{\"id\":\"5c299bdf-5cbc-4c1c-abb4-4a04160a30f8\",\"subtype\":\"Figure\",\"type\":\"Plot\"},\"ticker\":{\"id\":\"ccddc6ae-5b2a-4752-9e28-def833983868\",\"type\":\"BasicTicker\"}},\"id\":\"d2e1f4ab-bfae-4c53-8e22-2d92eb62d52a\",\"type\":\"LinearAxis\"},{\"attributes\":{\"source\":{\"id\":\"ca2e6ce3-35bd-4350-a9e4-dfbe4705155f\",\"type\":\"ColumnDataSource\"}},\"id\":\"a37e99df-5823-4cc7-affd-33378efb3ea4\",\"type\":\"CDSView\"},{\"attributes\":{\"data_source\":{\"id\":\"65003a95-6777-4e6d-b3a6-40bd62c5f4ac\",\"type\":\"ColumnDataSource\"},\"glyph\":{\"id\":\"8c2f4c19-b967-458c-bac8-8ae5f62aaafb\",\"type\":\"Line\"},\"hover_glyph\":null,\"muted_glyph\":null,\"nonselection_glyph\":{\"id\":\"e17782e6-3df8-40be-95c6-b5f22b1d18ae\",\"type\":\"Line\"},\"selection_glyph\":null,\"view\":{\"id\":\"92c2b242-d77e-42f0-8958-13e0c7d6c5bd\",\"type\":\"CDSView\"}},\"id\":\"cc692c99-e15e-49ff-92ba-92dc6017f242\",\"type\":\"GlyphRenderer\"},{\"attributes\":{\"data_source\":{\"id\":\"ca2e6ce3-35bd-4350-a9e4-dfbe4705155f\",\"type\":\"ColumnDataSource\"},\"glyph\":{\"id\":\"4fc66752-13a2-4927-a6ab-f5d94fa6b359\",\"type\":\"Line\"},\"hover_glyph\":null,\"muted_glyph\":null,\"nonselection_glyph\":{\"id\":\"ebf8091d-61fe-4b7c-a312-21f345906cd9\",\"type\":\"Line\"},\"selection_glyph\":null,\"view\":{\"id\":\"a37e99df-5823-4cc7-affd-33378efb3ea4\",\"type\":\"CDSView\"}},\"id\":\"6705b2e2-6fc1-4dc5-8bbe-ad1eaaaa7acd\",\"type\":\"GlyphRenderer\"},{\"attributes\":{\"source\":{\"id\":\"65003a95-6777-4e6d-b3a6-40bd62c5f4ac\",\"type\":\"ColumnDataSource\"}},\"id\":\"92c2b242-d77e-42f0-8958-13e0c7d6c5bd\",\"type\":\"CDSView\"},{\"attributes\":{\"data_source\":{\"id\":\"973e5593-97ac-40d6-a2b2-fc2e3670abb8\",\"type\":\"ColumnDataSource\"},\"glyph\":{\"id\":\"82391cb3-32d2-40ae-a482-6f9f988db894\",\"type\":\"Circle\"},\"hover_glyph\":null,\"muted_glyph\":null,\"nonselection_glyph\":{\"id\":\"d4c5a6ee-67b3-49d6-8785-324fae06f880\",\"type\":\"Circle\"},\"selection_glyph\":null,\"view\":{\"id\":\"eb3d201a-3f40-4456-bdd4-d563fc894694\",\"type\":\"CDSView\"}},\"id\":\"2807fe96-91d8-4fdd-8a09-d888cfe348f6\",\"type\":\"GlyphRenderer\"},{\"attributes\":{},\"id\":\"3b44c4af-4668-4f19-aca6-aa659fac0ed3\",\"type\":\"Selection\"},{\"attributes\":{\"callback\":null,\"data\":{\"x\":{\"__ndarray__\":\"Va4TdDb9Q8BYGIYDKoUgwM74zjjouQLAyQxSPZ8S/D/aYZw9gicOQMnLdfvaxg5AuT7dBL1LBEBjNdfS2K3mP50kUE9FNui/Y4zUmp859b9xV82n6EzxvyBOGRZg5d6/+FOjIw3gtT/WYJ7kq2HdPwoQDvpzMuE/bDFkNumb1j/0x82+J26xP8QbVi9QjdG/Fbi0aABE4b8b+fXz1FThv0S6UYoVmNO/thVQ+WMour9taM0fPx2gv29MykRdmcu/kOhx2NY8179/M/9WiSK7v0j4dYD3gtQ/T9esiV+c1T+DFyMN8jS4P9ctQmOPNoY/rvjmoTAszj8ktvPUMBjUP4FUBgthCcE/xxcvny6Hrb8AJSB7CEeev8BuPnP6SKE/4Wher+vUoL/8V2EuXA+0vwuwLdSNh7C/LEGjnx0Mrr+x2Qo9hmGwv+ZW+oekx7C/IB1BQ3WLsr8+IfjL7sSpvxhUHdVzJLG/fTIHyKX/v781Y5GoQbW0vyW1EYb7bK+/U7QVUPChtb+RDjxQRXe1v7C3y7Hk26y/iF8EtR/rn79MEevn3oOUv6jx9O4xz5W/5Md6scphnb8eU3I+nE+ev8d70OsDVIy/aHGfRYS5kD8GwL9u/PymP/LnqdvHdK0/MiSnb8zEqD+V71g06SuaP0CELDHtoGQ/RBIZhipdc7+wYz/QMIp0P4KE95P4bpw/qnu/voY6rT8SroizhdSyPwz9U+yMhbM/HGuBH4eYtD8IV5hKTqu1P45l/bnzw7Y/ONBE21/Euj9opCgG9se+PyCyMXd5L8A/\",\"dtype\":\"float64\",\"shape\":[75]},\"y\":{\"__ndarray__\":\"GhExyth1ND/Sv8nbtpRIP2vylNV0PVE/aTum7souWD/At0SJ8fVgPw3Iuahxymc/MSNhhJWvcD/bTfBN02d3P2zb5nxnaoA/CD5h5MAGhz8NmeH1TyaQP+zrCsc9p5Y/LbKd76fGnz/bLW5ISEmmPww9YvTcQq8/JV2OstnstT8Er5Y7M8G+P0c+r3jqkcU/5h99k6ZBzj88bCIzFzjVP4enV8oyxN0//yH99nXg5D8qOpLLf0jtP5kqGJXUifQ/c9cS8kHP/D+/DpwzojQEQIEmwoanVwxA4lgXt9HgE0BSSZ2AJuIbQAMJih9jjiNA5q4l5INuK0AwTKYKRj0zQNv5fmq8/DpAaCJseHrtQkB/+zpwzoxKQM3MzMzMeFJAZmZmZmZqWEAAAAAAAFxeQM3MzMzMJmJAmpmZmZkfZUBmZmZmZhhoQDMzMzMzEWtAAAAAAAAKbkBmZmZmZoFwQM3MzMzM/XFAMzMzMzN6c0CamZmZmfZ0QAAAAAAAc3ZAZmZmZmbvd0DNzMzMzGt5QDMzMzMz6HpAmpmZmZlkfEAAAAAAAOF9QGZmZmZmXX9AZmZmZuZsgECamZmZGSuBQM3MzMxM6YFAAAAAAICngkAzMzMzs2WDQGZmZmbmI4RAmpmZmRnihEDNzMzMTKCFQAAAAACAXoZAMzMzM7Mch0BmZmZm5tqHQJqZmZkZmYhAzczMzExXiUAAAAAAgBWKQDMzMzOz04pAZmZmZuaRi0CamZmZGVCMQM3MzMxMDo1AAAAAAIDMjUAzMzMzs4qOQGZmZmbmSI9A\",\"dtype\":\"float64\",\"shape\":[75]}},\"selected\":{\"id\":\"787ccbfb-08f9-455c-b865-5871c5c23f9b\",\"type\":\"Selection\"},\"selection_policy\":{\"id\":\"c35cfe0f-f3d3-4d83-8538-14b455d7c04f\",\"type\":\"UnionRenderers\"}},\"id\":\"973e5593-97ac-40d6-a2b2-fc2e3670abb8\",\"type\":\"ColumnDataSource\"},{\"attributes\":{},\"id\":\"41b27ac3-0d9c-4222-b542-23f8fda50b6f\",\"type\":\"WheelZoomTool\"},{\"attributes\":{\"data_source\":{\"id\":\"1f74fbc6-bbd0-4aff-8784-f10cbd0a1c37\",\"type\":\"ColumnDataSource\"},\"glyph\":{\"id\":\"58ce105d-7cb8-43ae-9fac-5f4c93734960\",\"type\":\"Circle\"},\"hover_glyph\":null,\"muted_glyph\":null,\"nonselection_glyph\":{\"id\":\"a0688fac-7970-4b6c-86d3-38387904d716\",\"type\":\"Circle\"},\"selection_glyph\":null,\"view\":{\"id\":\"03ef3d14-0d5a-410f-b7fe-3b7fc99e8b08\",\"type\":\"CDSView\"}},\"id\":\"a6fccb3b-ea9f-49fc-bfbf-ce7361914567\",\"type\":\"GlyphRenderer\"},{\"attributes\":{},\"id\":\"d6a9f4bd-cc93-43c3-a2bc-533f649f9cb9\",\"type\":\"SaveTool\"},{\"attributes\":{},\"id\":\"ccddc6ae-5b2a-4752-9e28-def833983868\",\"type\":\"BasicTicker\"},{\"attributes\":{},\"id\":\"1c3b699d-4cd9-487c-a24b-d40cf2b350a1\",\"type\":\"LogScale\"},{\"attributes\":{\"data_source\":{\"id\":\"93e25ef0-6f48-48aa-b97e-9c0c0ee2693f\",\"type\":\"ColumnDataSource\"},\"glyph\":{\"id\":\"e93d76a6-c814-484f-8569-6a0ad7a13495\",\"type\":\"Line\"},\"hover_glyph\":null,\"muted_glyph\":null,\"nonselection_glyph\":{\"id\":\"75777f09-0c1a-4668-bb18-8a142e819bbb\",\"type\":\"Line\"},\"selection_glyph\":null,\"view\":{\"id\":\"0272830f-126f-4f55-8847-e5f2c1ed10d4\",\"type\":\"CDSView\"}},\"id\":\"4e849ecf-70d6-4d0f-b958-2d8795cbf56b\",\"type\":\"GlyphRenderer\"},{\"attributes\":{\"callback\":null,\"data\":{\"x\":{\"__ndarray__\":\"Va4TdDb9Q8BYGIYDKoUgwM74zjjouQLAyQxSPZ8S/D/aYZw9gicOQMnLdfvaxg5AuT7dBL1LBEBjNdfS2K3mP50kUE9FNui/Y4zUmp859b9xV82n6EzxvyBOGRZg5d6/+FOjIw3gtT/WYJ7kq2HdPwoQDvpzMuE/bDFkNumb1j/0x82+J26xP8QbVi9QjdG/Fbi0aABE4b8b+fXz1FThv0S6UYoVmNO/thVQ+WMour9taM0fPx2gv29MykRdmcu/kOhx2NY8179/M/9WiSK7v0j4dYD3gtQ/T9esiV+c1T+DFyMN8jS4P9ctQmOPNoY/rvjmoTAszj8ktvPUMBjUP4FUBgthCcE/xxcvny6Hrb8AJSB7CEeev8BuPnP6SKE/4Wher+vUoL/8V2EuXA+0vwuwLdSNh7C/LEGjnx0Mrr+x2Qo9hmGwv+ZW+oekx7C/IB1BQ3WLsr8+IfjL7sSpvxhUHdVzJLG/fTIHyKX/v781Y5GoQbW0vyW1EYb7bK+/U7QVUPChtb+RDjxQRXe1v7C3y7Hk26y/iF8EtR/rn79MEevn3oOUv6jx9O4xz5W/5Md6scphnb8eU3I+nE+ev8d70OsDVIy/aHGfRYS5kD8GwL9u/PymP/LnqdvHdK0/MiSnb8zEqD+V71g06SuaP0CELDHtoGQ/RBIZhipdc7+wYz/QMIp0P4KE95P4bpw/qnu/voY6rT8SroizhdSyPwz9U+yMhbM/HGuBH4eYtD8IV5hKTqu1P45l/bnzw7Y/ONBE21/Euj9opCgG9se+PyCyMXd5L8A/\",\"dtype\":\"float64\",\"shape\":[75]},\"y\":{\"__ndarray__\":\"GhExyth1ND/Sv8nbtpRIP2vylNV0PVE/aTum7souWD/At0SJ8fVgPw3Iuahxymc/MSNhhJWvcD/bTfBN02d3P2zb5nxnaoA/CD5h5MAGhz8NmeH1TyaQP+zrCsc9p5Y/LbKd76fGnz/bLW5ISEmmPww9YvTcQq8/JV2OstnstT8Er5Y7M8G+P0c+r3jqkcU/5h99k6ZBzj88bCIzFzjVP4enV8oyxN0//yH99nXg5D8qOpLLf0jtP5kqGJXUifQ/c9cS8kHP/D+/DpwzojQEQIEmwoanVwxA4lgXt9HgE0BSSZ2AJuIbQAMJih9jjiNA5q4l5INuK0AwTKYKRj0zQNv5fmq8/DpAaCJseHrtQkB/+zpwzoxKQM3MzMzMeFJAZmZmZmZqWEAAAAAAAFxeQM3MzMzMJmJAmpmZmZkfZUBmZmZmZhhoQDMzMzMzEWtAAAAAAAAKbkBmZmZmZoFwQM3MzMzM/XFAMzMzMzN6c0CamZmZmfZ0QAAAAAAAc3ZAZmZmZmbvd0DNzMzMzGt5QDMzMzMz6HpAmpmZmZlkfEAAAAAAAOF9QGZmZmZmXX9AZmZmZuZsgECamZmZGSuBQM3MzMxM6YFAAAAAAICngkAzMzMzs2WDQGZmZmbmI4RAmpmZmRnihEDNzMzMTKCFQAAAAACAXoZAMzMzM7Mch0BmZmZm5tqHQJqZmZkZmYhAzczMzExXiUAAAAAAgBWKQDMzMzOz04pAZmZmZuaRi0CamZmZGVCMQM3MzMxMDo1AAAAAAIDMjUAzMzMzs4qOQGZmZmbmSI9A\",\"dtype\":\"float64\",\"shape\":[75]}},\"selected\":{\"id\":\"65718f1b-1b1e-4191-92df-539521aaf135\",\"type\":\"Selection\"},\"selection_policy\":{\"id\":\"2ade7a70-9d35-4fab-8088-fb4d9ff140ca\",\"type\":\"UnionRenderers\"}},\"id\":\"65003a95-6777-4e6d-b3a6-40bd62c5f4ac\",\"type\":\"ColumnDataSource\"},{\"attributes\":{\"line_alpha\":0.1,\"line_color\":\"#1f77b4\",\"line_dash\":[6],\"line_width\":5,\"x\":{\"field\":\"x\"},\"y\":{\"field\":\"y\"}},\"id\":\"395acc82-5112-49a3-849e-14879bd762ce\",\"type\":\"Line\"},{\"attributes\":{},\"id\":\"59d74ec0-7d92-4aa3-b9fd-517c0a5e5cd8\",\"type\":\"LinearScale\"},{\"attributes\":{\"callback\":null,\"data\":{\"x\":{\"__ndarray__\":\"R/KIaN7AVEClCeJMyPNGQOvRhpxr30JAptxzhxx4PkA7SssMElA4QK6Bp3CyUDNAsVXpjES9LkBFhUV0+5coQMHYwqbbySNA6f09nM3nH0CaSd/3eYoZQDmgiAOW8BNAPYqARh3eDEBkm4vCgvr+P9D+5tWhQfY/P8DwKRnSAkBq38kb17ILQDT7IWuSsxFAUr2Rjm0FFkAinq3s9XgbQGCHwtYcqSFAG64kT303J0C7dRDneyooQD9JYrbK8yRA9S3bneHhIUAIymSuUMMcQIkHLe6VEBdAAau3cITREkA6CiNvkQIPQJU39ki7IQlAaAvwok1UA0BXLQiS4+L7P0xzDpJ2hPI/NNuPGMbJ5z91mUVYxqfSPxqwUPSxZca/G11peifD3L8QzNj5t2jTvwzOozTL360/SPJ4VI1VzD9KJ0nXEIncP8yDdlvHt+4/Et49nYLW9z++2teD4Jn+P+568eH/bwFALf5D9lmAAkCiZAicVOkCQPPT4jNKxwJAOjp3wTzBAUBSQsKNGisBQG4OmjqJwQBAJ3sZoHFuAEA5Ar0Sdi0AQGy4rw5+9f8/7W4nSrC3/z8mPr8zj4T/P4UYRHCQS/8/embVKYcF/z+5YXG+LLP+P/qb8BVUgf4/KvafTtyO/j/avAK1Ppv+PwJV9VVm2P0/JFtYlU/n/D9sN+q2fiX6Pw44e41PNPc/Opt+Z/wN9T+x3vcSW1vzP9ofvWQJlvI/8sciQQBW8j80sfkQa17yPzg5qng2r/I/Oh14WJBh8z+VZjnpctj0P6CcrSuCqQBA\",\"dtype\":\"float64\",\"shape\":[75]},\"y\":{\"__ndarray__\":\"GhExyth1ND/Sv8nbtpRIP2vylNV0PVE/aTum7souWD/At0SJ8fVgPw3Iuahxymc/MSNhhJWvcD/bTfBN02d3P2zb5nxnaoA/CD5h5MAGhz8NmeH1TyaQP+zrCsc9p5Y/LbKd76fGnz/bLW5ISEmmPww9YvTcQq8/JV2OstnstT8Er5Y7M8G+P0c+r3jqkcU/5h99k6ZBzj88bCIzFzjVP4enV8oyxN0//yH99nXg5D8qOpLLf0jtP5kqGJXUifQ/c9cS8kHP/D+/DpwzojQEQIEmwoanVwxA4lgXt9HgE0BSSZ2AJuIbQAMJih9jjiNA5q4l5INuK0AwTKYKRj0zQNv5fmq8/DpAaCJseHrtQkB/+zpwzoxKQM3MzMzMeFJAZmZmZmZqWEAAAAAAAFxeQM3MzMzMJmJAmpmZmZkfZUBmZmZmZhhoQDMzMzMzEWtAAAAAAAAKbkBmZmZmZoFwQM3MzMzM/XFAMzMzMzN6c0CamZmZmfZ0QAAAAAAAc3ZAZmZmZmbvd0DNzMzMzGt5QDMzMzMz6HpAmpmZmZlkfEAAAAAAAOF9QGZmZmZmXX9AZmZmZuZsgECamZmZGSuBQM3MzMxM6YFAAAAAAICngkAzMzMzs2WDQGZmZmbmI4RAmpmZmRnihEDNzMzMTKCFQAAAAACAXoZAMzMzM7Mch0BmZmZm5tqHQJqZmZkZmYhAzczMzExXiUAAAAAAgBWKQDMzMzOz04pAZmZmZuaRi0CamZmZGVCMQM3MzMxMDo1AAAAAAIDMjUAzMzMzs4qOQGZmZmbmSI9A\",\"dtype\":\"float64\",\"shape\":[75]}},\"selected\":{\"id\":\"82406214-4bbb-42a4-bed4-50487f4fc924\",\"type\":\"Selection\"},\"selection_policy\":{\"id\":\"3a60d91a-0a56-40af-80d7-a01552db12d0\",\"type\":\"UnionRenderers\"}},\"id\":\"1f74fbc6-bbd0-4aff-8784-f10cbd0a1c37\",\"type\":\"ColumnDataSource\"},{\"attributes\":{\"fill_alpha\":{\"value\":0.7},\"fill_color\":{\"value\":\"#984ea3\"},\"line_alpha\":{\"value\":0.7},\"line_color\":{\"value\":\"#984ea3\"},\"x\":{\"field\":\"x\"},\"y\":{\"field\":\"y\"}},\"id\":\"82391cb3-32d2-40ae-a482-6f9f988db894\",\"type\":\"Circle\"},{\"attributes\":{\"line_alpha\":0.1,\"line_color\":\"#1f77b4\",\"line_width\":1.5,\"x\":{\"field\":\"x\"},\"y\":{\"field\":\"y\"}},\"id\":\"ebf8091d-61fe-4b7c-a312-21f345906cd9\",\"type\":\"Line\"},{\"attributes\":{\"fill_alpha\":{\"value\":0.1},\"fill_color\":{\"value\":\"#1f77b4\"},\"line_alpha\":{\"value\":0.1},\"line_color\":{\"value\":\"#1f77b4\"},\"x\":{\"field\":\"x\"},\"y\":{\"field\":\"y\"}},\"id\":\"d4c5a6ee-67b3-49d6-8785-324fae06f880\",\"type\":\"Circle\"},{\"attributes\":{},\"id\":\"2b6771ea-43b8-41d6-a726-fec4c1b98ec3\",\"type\":\"UnionRenderers\"},{\"attributes\":{\"num_minor_ticks\":10},\"id\":\"7fdebdc8-a344-469f-b309-8de2dfd617ff\",\"type\":\"LogTicker\"},{\"attributes\":{\"line_alpha\":0.1,\"line_color\":\"#1f77b4\",\"line_width\":1.5,\"x\":{\"field\":\"x\"},\"y\":{\"field\":\"y\"}},\"id\":\"75777f09-0c1a-4668-bb18-8a142e819bbb\",\"type\":\"Line\"},{\"attributes\":{\"items\":[{\"id\":\"097bd626-608a-4a39-826e-d5a515e3e405\",\"type\":\"LegendItem\"},{\"id\":\"471735f8-0eef-441a-bf02-b6269c691a5d\",\"type\":\"LegendItem\"}],\"label_text_font_size\":{\"value\":\"8pt\"},\"location\":\"top_center\",\"orientation\":\"horizontal\",\"plot\":{\"id\":\"5c299bdf-5cbc-4c1c-abb4-4a04160a30f8\",\"subtype\":\"Figure\",\"type\":\"Plot\"}},\"id\":\"750229c6-5182-4fb1-ab77-c2f3e1dce38c\",\"type\":\"Legend\"},{\"attributes\":{\"axis_label\":\"pressure [mb]\",\"formatter\":{\"id\":\"e8e3625b-4f37-40c8-8d87-6cbc56533cca\",\"type\":\"LogTickFormatter\"},\"plot\":{\"id\":\"5c299bdf-5cbc-4c1c-abb4-4a04160a30f8\",\"subtype\":\"Figure\",\"type\":\"Plot\"},\"ticker\":{\"id\":\"7fdebdc8-a344-469f-b309-8de2dfd617ff\",\"type\":\"LogTicker\"}},\"id\":\"7c9ad6eb-34bc-4ba5-ad0c-ec73b1706e6d\",\"type\":\"LogAxis\"},{\"attributes\":{\"dimension\":1,\"plot\":{\"id\":\"722a7277-bd77-41e2-9b88-fe0757a15458\",\"subtype\":\"Figure\",\"type\":\"Plot\"},\"ticker\":{\"id\":\"965a3016-bc57-4e99-810c-2b8b6b5b5050\",\"type\":\"LogTicker\"}},\"id\":\"d9a94a66-79b1-4b6c-99de-65b5de032f4c\",\"type\":\"Grid\"},{\"attributes\":{\"line_alpha\":0.1,\"line_color\":\"#1f77b4\",\"line_width\":1.5,\"x\":{\"field\":\"x\"},\"y\":{\"field\":\"y\"}},\"id\":\"e17782e6-3df8-40be-95c6-b5f22b1d18ae\",\"type\":\"Line\"},{\"attributes\":{},\"id\":\"761f4c27-b366-467d-b82c-eef7ca350be6\",\"type\":\"PanTool\"},{\"attributes\":{},\"id\":\"7c4ab2ae-7d9d-42a2-a560-3d82a845d50c\",\"type\":\"BasicTickFormatter\"},{\"attributes\":{\"fill_alpha\":{\"value\":0.1},\"fill_color\":{\"value\":\"#1f77b4\"},\"line_alpha\":{\"value\":0.1},\"line_color\":{\"value\":\"#1f77b4\"},\"x\":{\"field\":\"x\"},\"y\":{\"field\":\"y\"}},\"id\":\"a0688fac-7970-4b6c-86d3-38387904d716\",\"type\":\"Circle\"}],\"root_ids\":[\"4440ba0a-ade8-4556-8f2b-267fd894b8b2\"]},\"title\":\"Bokeh Application\",\"version\":\"0.12.16\"}};\n",
       "  var render_items = [{\"docid\":\"65ae037e-9ddf-4c1b-a2e3-1bbaf5abcf5c\",\"elementid\":\"04ba69de-ed19-4901-a5b4-2c970f59d1cb\",\"modelid\":\"4440ba0a-ade8-4556-8f2b-267fd894b8b2\"}];\n",
       "  root.Bokeh.embed.embed_items_notebook(docs_json, render_items);\n",
       "\n",
       "  }\n",
       "  if (root.Bokeh !== undefined) {\n",
       "    embed_document(root);\n",
       "  } else {\n",
       "    var attempts = 0;\n",
       "    var timer = setInterval(function(root) {\n",
       "      if (root.Bokeh !== undefined) {\n",
       "        embed_document(root);\n",
       "        clearInterval(timer);\n",
       "      }\n",
       "      attempts++;\n",
       "      if (attempts > 100) {\n",
       "        console.log(\"Bokeh: ERROR: Unable to run BokehJS code because BokehJS library is missing\")\n",
       "        clearInterval(timer);\n",
       "      }\n",
       "    }, 10, root)\n",
       "  }\n",
       "})(window);"
      ],
      "application/vnd.bokehjs_exec.v0+json": ""
     },
     "metadata": {
      "application/vnd.bokehjs_exec.v0+json": {
       "id": "4440ba0a-ade8-4556-8f2b-267fd894b8b2"
      }
     },
     "output_type": "display_data"
    },
    {
     "data": {
      "text/markdown": [
       "*FIGURE.* Cooling rates & difference."
      ],
      "text/plain": [
       "<IPython.core.display.Markdown object>"
      ]
     },
     "metadata": {},
     "output_type": "display_data"
    },
    {
     "data": {
      "text/html": [
       "<a id=\"Fluxes._trp.\"></a>"
      ],
      "text/plain": [
       "<IPython.core.display.HTML object>"
      ]
     },
     "metadata": {},
     "output_type": "display_data"
    },
    {
     "data": {
      "text/markdown": [
       "# Fluxes. trp."
      ],
      "text/plain": [
       "<IPython.core.display.Markdown object>"
      ]
     },
     "metadata": {},
     "output_type": "display_data"
    },
    {
     "data": {
      "text/html": [
       "\n",
       "<div class=\"bk-root\">\n",
       "    <div class=\"bk-plotdiv\" id=\"9cbe4c36-d2b3-4863-8fc1-440a431f340a\"></div>\n",
       "</div>"
      ]
     },
     "metadata": {},
     "output_type": "display_data"
    },
    {
     "data": {
      "application/javascript": [
       "(function(root) {\n",
       "  function embed_document(root) {\n",
       "    \n",
       "  var docs_json = {\"30d8b770-7375-487a-98ed-037afc82dfb5\":{\"roots\":{\"references\":[{\"attributes\":{\"callback\":null,\"data\":{\"band\":[\"1\",\"2\",\"3\",\"4\",\"5\",\"6\",\"7\",\"8\",\"9\",\"10\",\"11\"],\"flux\":{\"__ndarray__\":\"AADADkbs874Ak+S5vg/QPwANMzSeCMq/ABTRr62frj8A8Z2Y9WLjP3B8tDhjGOM/QIgcbPtouj/AapPUU/XBP0Churn429E/AFDtmpDWiD8AO3arQl6wPw==\",\"dtype\":\"float64\",\"shape\":[11]}},\"selected\":{\"id\":\"89bab821-403c-481a-8983-d3caa010a4ad\",\"type\":\"Selection\"},\"selection_policy\":{\"id\":\"470cb7a2-421a-4037-be00-61130229e958\",\"type\":\"UnionRenderers\"}},\"id\":\"3d242a08-51cf-49da-8af3-97074a146fbe\",\"type\":\"ColumnDataSource\"},{\"attributes\":{\"callback\":null,\"factors\":[\"1\",\"2\",\"3\",\"4\",\"5\",\"6\",\"7\",\"8\",\"9\",\"10\",\"11\"]},\"id\":\"0f568093-2b63-4a27-ae39-4a042e917874\",\"type\":\"FactorRange\"},{\"attributes\":{\"active_drag\":\"auto\",\"active_inspect\":\"auto\",\"active_scroll\":\"auto\",\"active_tap\":\"auto\",\"tools\":[{\"id\":\"dcc6e210-d076-483b-a3bf-9a0df601cddc\",\"type\":\"PanTool\"},{\"id\":\"92b20e2a-085f-4786-8e8d-d99014e0bc53\",\"type\":\"WheelZoomTool\"},{\"id\":\"db3971fd-3adc-48f4-8808-9acea453c9de\",\"type\":\"BoxZoomTool\"},{\"id\":\"1a7b6bda-c19a-4d1b-8ec6-afbba6247ffb\",\"type\":\"SaveTool\"},{\"id\":\"f7276e37-7325-4363-9815-9a295005354a\",\"type\":\"ResetTool\"},{\"id\":\"4dcb893e-927c-4e7a-90bd-8e62d8629f98\",\"type\":\"HelpTool\"}]},\"id\":\"4b8e5ee4-189b-4513-a999-57438db383cc\",\"type\":\"Toolbar\"},{\"attributes\":{},\"id\":\"02a3a599-908c-4644-9960-160adfdae944\",\"type\":\"CategoricalTickFormatter\"},{\"attributes\":{},\"id\":\"a3e3066a-647e-43df-9deb-c3198d35ca3c\",\"type\":\"CategoricalScale\"},{\"attributes\":{\"plot\":null,\"text\":\"Atmosphere heating. CLIRAD (single-run) - CRD.\"},\"id\":\"40958047-59e5-428d-81ec-16130621532c\",\"type\":\"Title\"},{\"attributes\":{\"axis_label\":\"flux (W m-2)\",\"formatter\":{\"id\":\"946c46b7-4529-44b7-bba8-87960ffb09cc\",\"type\":\"BasicTickFormatter\"},\"plot\":{\"id\":\"dd29298e-46d9-4b4a-b0da-1cfa3068a504\",\"subtype\":\"Figure\",\"type\":\"Plot\"},\"ticker\":{\"id\":\"349ea98d-d052-46fe-8d64-d3f030a9f8fb\",\"type\":\"BasicTicker\"}},\"id\":\"f94bbef1-209f-49e4-a9fd-27a486a01ad4\",\"type\":\"LinearAxis\"},{\"attributes\":{\"callback\":null},\"id\":\"e24e782f-ee22-4014-b234-97f8fa1fe4c3\",\"type\":\"DataRange1d\"},{\"attributes\":{},\"id\":\"9f8e7b29-5226-47a9-bda8-956cd8cd2573\",\"type\":\"LinearScale\"},{\"attributes\":{\"plot\":{\"id\":\"dd29298e-46d9-4b4a-b0da-1cfa3068a504\",\"subtype\":\"Figure\",\"type\":\"Plot\"},\"ticker\":{\"id\":\"b7b0d1ea-8d9e-4a30-a60b-1a93ad7b351e\",\"type\":\"CategoricalTicker\"}},\"id\":\"6bbb0e9c-46cb-40e1-91be-7ec3e08c695a\",\"type\":\"Grid\"},{\"attributes\":{\"axis_label\":\"spectral band\",\"formatter\":{\"id\":\"123a8e59-8a3c-46a4-9677-ba67d6a1febd\",\"type\":\"CategoricalTickFormatter\"},\"plot\":{\"id\":\"dd29298e-46d9-4b4a-b0da-1cfa3068a504\",\"subtype\":\"Figure\",\"type\":\"Plot\"},\"ticker\":{\"id\":\"b7b0d1ea-8d9e-4a30-a60b-1a93ad7b351e\",\"type\":\"CategoricalTicker\"}},\"id\":\"c32fdd4c-ff41-4233-91d1-c96cabb38dc4\",\"type\":\"CategoricalAxis\"},{\"attributes\":{},\"id\":\"b7b0d1ea-8d9e-4a30-a60b-1a93ad7b351e\",\"type\":\"CategoricalTicker\"},{\"attributes\":{\"fill_color\":{\"value\":\"#1f77b4\"},\"line_color\":{\"value\":\"#1f77b4\"},\"top\":{\"field\":\"flux\"},\"width\":{\"value\":0.9},\"x\":{\"field\":\"band\"}},\"id\":\"4d665c02-5ec0-4809-abfd-a0b6c9e94c16\",\"type\":\"VBar\"},{\"attributes\":{},\"id\":\"349ea98d-d052-46fe-8d64-d3f030a9f8fb\",\"type\":\"BasicTicker\"},{\"attributes\":{\"dimension\":1,\"plot\":{\"id\":\"dd29298e-46d9-4b4a-b0da-1cfa3068a504\",\"subtype\":\"Figure\",\"type\":\"Plot\"},\"ticker\":{\"id\":\"349ea98d-d052-46fe-8d64-d3f030a9f8fb\",\"type\":\"BasicTicker\"}},\"id\":\"de45a833-3e71-4d86-9631-1e5b7efb5653\",\"type\":\"Grid\"},{\"attributes\":{\"fill_alpha\":{\"value\":0.1},\"fill_color\":{\"value\":\"#1f77b4\"},\"line_alpha\":{\"value\":0.1},\"line_color\":{\"value\":\"#1f77b4\"},\"top\":{\"field\":\"flux\"},\"width\":{\"value\":0.9},\"x\":{\"field\":\"band\"}},\"id\":\"0fa6f90b-8529-4f48-8cf9-7591ce0ec69c\",\"type\":\"VBar\"},{\"attributes\":{\"children\":[{\"id\":\"d8946a6e-758c-4dad-93d5-2e352a0ed966\",\"subtype\":\"Figure\",\"type\":\"Plot\"},{\"id\":\"658fb305-a902-46ca-8fb8-b355eda69311\",\"subtype\":\"Figure\",\"type\":\"Plot\"},{\"id\":\"dd29298e-46d9-4b4a-b0da-1cfa3068a504\",\"subtype\":\"Figure\",\"type\":\"Plot\"}]},\"id\":\"38b47a01-ae6c-4744-bcf2-ba1e26e635b1\",\"type\":\"Row\"},{\"attributes\":{\"below\":[{\"id\":\"c32fdd4c-ff41-4233-91d1-c96cabb38dc4\",\"type\":\"CategoricalAxis\"}],\"left\":[{\"id\":\"f94bbef1-209f-49e4-a9fd-27a486a01ad4\",\"type\":\"LinearAxis\"}],\"plot_height\":300,\"plot_width\":300,\"renderers\":[{\"id\":\"c32fdd4c-ff41-4233-91d1-c96cabb38dc4\",\"type\":\"CategoricalAxis\"},{\"id\":\"6bbb0e9c-46cb-40e1-91be-7ec3e08c695a\",\"type\":\"Grid\"},{\"id\":\"f94bbef1-209f-49e4-a9fd-27a486a01ad4\",\"type\":\"LinearAxis\"},{\"id\":\"de45a833-3e71-4d86-9631-1e5b7efb5653\",\"type\":\"Grid\"},{\"id\":\"6b3f9390-1a57-423c-bbbb-1ae0b35e4597\",\"type\":\"BoxAnnotation\"},{\"id\":\"f0a8ef11-0dbb-4529-994c-2ed50ba95588\",\"type\":\"GlyphRenderer\"}],\"title\":{\"id\":\"40958047-59e5-428d-81ec-16130621532c\",\"type\":\"Title\"},\"toolbar\":{\"id\":\"4b8e5ee4-189b-4513-a999-57438db383cc\",\"type\":\"Toolbar\"},\"toolbar_location\":null,\"x_range\":{\"id\":\"0f568093-2b63-4a27-ae39-4a042e917874\",\"type\":\"FactorRange\"},\"x_scale\":{\"id\":\"a3e3066a-647e-43df-9deb-c3198d35ca3c\",\"type\":\"CategoricalScale\"},\"y_range\":{\"id\":\"e24e782f-ee22-4014-b234-97f8fa1fe4c3\",\"type\":\"DataRange1d\"},\"y_scale\":{\"id\":\"9f8e7b29-5226-47a9-bda8-956cd8cd2573\",\"type\":\"LinearScale\"}},\"id\":\"dd29298e-46d9-4b4a-b0da-1cfa3068a504\",\"subtype\":\"Figure\",\"type\":\"Plot\"},{\"attributes\":{},\"id\":\"8a916d9c-631d-4b1f-bb54-9e0f7c0e7709\",\"type\":\"Selection\"},{\"attributes\":{\"bottom_units\":\"screen\",\"fill_alpha\":{\"value\":0.5},\"fill_color\":{\"value\":\"lightgrey\"},\"left_units\":\"screen\",\"level\":\"overlay\",\"line_alpha\":{\"value\":1.0},\"line_color\":{\"value\":\"black\"},\"line_dash\":[4,4],\"line_width\":{\"value\":2},\"plot\":null,\"render_mode\":\"css\",\"right_units\":\"screen\",\"top_units\":\"screen\"},\"id\":\"6b3f9390-1a57-423c-bbbb-1ae0b35e4597\",\"type\":\"BoxAnnotation\"},{\"attributes\":{},\"id\":\"dcc6e210-d076-483b-a3bf-9a0df601cddc\",\"type\":\"PanTool\"},{\"attributes\":{\"data_source\":{\"id\":\"fd4d8485-0fbc-4ddf-adee-b1f720c63cb2\",\"type\":\"ColumnDataSource\"},\"glyph\":{\"id\":\"4d665c02-5ec0-4809-abfd-a0b6c9e94c16\",\"type\":\"VBar\"},\"hover_glyph\":null,\"muted_glyph\":null,\"nonselection_glyph\":{\"id\":\"0fa6f90b-8529-4f48-8cf9-7591ce0ec69c\",\"type\":\"VBar\"},\"selection_glyph\":null,\"view\":{\"id\":\"f19dd1a6-9932-4604-9d80-676f87426fc5\",\"type\":\"CDSView\"}},\"id\":\"f0a8ef11-0dbb-4529-994c-2ed50ba95588\",\"type\":\"GlyphRenderer\"},{\"attributes\":{},\"id\":\"92b20e2a-085f-4786-8e8d-d99014e0bc53\",\"type\":\"WheelZoomTool\"},{\"attributes\":{\"overlay\":{\"id\":\"6b3f9390-1a57-423c-bbbb-1ae0b35e4597\",\"type\":\"BoxAnnotation\"}},\"id\":\"db3971fd-3adc-48f4-8808-9acea453c9de\",\"type\":\"BoxZoomTool\"},{\"attributes\":{},\"id\":\"1a7b6bda-c19a-4d1b-8ec6-afbba6247ffb\",\"type\":\"SaveTool\"},{\"attributes\":{},\"id\":\"f7276e37-7325-4363-9815-9a295005354a\",\"type\":\"ResetTool\"},{\"attributes\":{},\"id\":\"4dcb893e-927c-4e7a-90bd-8e62d8629f98\",\"type\":\"HelpTool\"},{\"attributes\":{},\"id\":\"840abbea-d00e-454c-b0f7-00ad3884efd2\",\"type\":\"Selection\"},{\"attributes\":{},\"id\":\"c914980e-10a0-4a4b-97b2-79e9a7654000\",\"type\":\"BasicTickFormatter\"},{\"attributes\":{\"source\":{\"id\":\"fd4d8485-0fbc-4ddf-adee-b1f720c63cb2\",\"type\":\"ColumnDataSource\"}},\"id\":\"f19dd1a6-9932-4604-9d80-676f87426fc5\",\"type\":\"CDSView\"},{\"attributes\":{\"children\":[{\"id\":\"38b47a01-ae6c-4744-bcf2-ba1e26e635b1\",\"type\":\"Row\"}]},\"id\":\"e5ea3e14-cf07-4b2a-8068-b17d0cf996f9\",\"type\":\"Column\"},{\"attributes\":{},\"id\":\"1a6cba94-178d-407f-820f-0f6a250f16df\",\"type\":\"UnionRenderers\"},{\"attributes\":{},\"id\":\"d2c68120-b20c-4d43-be2d-ba9408e863be\",\"type\":\"BasicTickFormatter\"},{\"attributes\":{\"toolbar\":{\"id\":\"e5b5c048-d8fd-4b80-bb0e-7e32416604f4\",\"type\":\"ProxyToolbar\"},\"toolbar_location\":\"above\"},\"id\":\"b30dc123-dcbe-4d48-a626-66a348f222dd\",\"type\":\"ToolbarBox\"},{\"attributes\":{},\"id\":\"a817ea97-3cae-4e29-8947-e6f279267d37\",\"type\":\"CategoricalTickFormatter\"},{\"attributes\":{},\"id\":\"89bab821-403c-481a-8983-d3caa010a4ad\",\"type\":\"Selection\"},{\"attributes\":{},\"id\":\"470cb7a2-421a-4037-be00-61130229e958\",\"type\":\"UnionRenderers\"},{\"attributes\":{},\"id\":\"75a9a2d3-9107-4baa-8af2-48986030a451\",\"type\":\"UnionRenderers\"},{\"attributes\":{},\"id\":\"946c46b7-4529-44b7-bba8-87960ffb09cc\",\"type\":\"BasicTickFormatter\"},{\"attributes\":{\"children\":[{\"id\":\"b30dc123-dcbe-4d48-a626-66a348f222dd\",\"type\":\"ToolbarBox\"},{\"id\":\"e5ea3e14-cf07-4b2a-8068-b17d0cf996f9\",\"type\":\"Column\"}]},\"id\":\"0ae44975-d488-4e66-b1d3-7a3752893840\",\"type\":\"Column\"},{\"attributes\":{\"tools\":[{\"id\":\"652173d4-2b76-4afc-ac70-958e917d589f\",\"type\":\"PanTool\"},{\"id\":\"b8008d3c-f2a9-41aa-b582-d33f32249971\",\"type\":\"WheelZoomTool\"},{\"id\":\"f8ec7253-4b9b-4d17-b77d-2bc903cddce2\",\"type\":\"BoxZoomTool\"},{\"id\":\"e0dbbd01-c0e6-45cb-9343-4ecbaf00c949\",\"type\":\"SaveTool\"},{\"id\":\"291b3b37-f9d4-4e80-bb23-000d16d2ecca\",\"type\":\"ResetTool\"},{\"id\":\"cf7539fe-1aea-41c2-8eb1-e0fcb2035a58\",\"type\":\"HelpTool\"},{\"id\":\"b8a39c96-8a34-42da-bbbe-adec2f97d3c0\",\"type\":\"PanTool\"},{\"id\":\"36f7247d-3e17-4640-a22f-d42507740d75\",\"type\":\"WheelZoomTool\"},{\"id\":\"e32d3c1c-0995-4e7f-8fb9-b1e76d4f8d74\",\"type\":\"BoxZoomTool\"},{\"id\":\"45211cfa-dfd4-4ae4-9dda-2700628d8157\",\"type\":\"SaveTool\"},{\"id\":\"b22cb5ea-4d22-445a-8832-383eebf78e3a\",\"type\":\"ResetTool\"},{\"id\":\"ec5ffb8e-e343-42d5-8758-e4c9190fdeeb\",\"type\":\"HelpTool\"},{\"id\":\"dcc6e210-d076-483b-a3bf-9a0df601cddc\",\"type\":\"PanTool\"},{\"id\":\"92b20e2a-085f-4786-8e8d-d99014e0bc53\",\"type\":\"WheelZoomTool\"},{\"id\":\"db3971fd-3adc-48f4-8808-9acea453c9de\",\"type\":\"BoxZoomTool\"},{\"id\":\"1a7b6bda-c19a-4d1b-8ec6-afbba6247ffb\",\"type\":\"SaveTool\"},{\"id\":\"f7276e37-7325-4363-9815-9a295005354a\",\"type\":\"ResetTool\"},{\"id\":\"4dcb893e-927c-4e7a-90bd-8e62d8629f98\",\"type\":\"HelpTool\"}]},\"id\":\"e5b5c048-d8fd-4b80-bb0e-7e32416604f4\",\"type\":\"ProxyToolbar\"},{\"attributes\":{},\"id\":\"e0dbbd01-c0e6-45cb-9343-4ecbaf00c949\",\"type\":\"SaveTool\"},{\"attributes\":{},\"id\":\"1b16429c-77d7-4683-91eb-3430bfec0127\",\"type\":\"CategoricalTicker\"},{\"attributes\":{},\"id\":\"b8a39c96-8a34-42da-bbbe-adec2f97d3c0\",\"type\":\"PanTool\"},{\"attributes\":{\"fill_color\":{\"value\":\"#1f77b4\"},\"line_color\":{\"value\":\"#1f77b4\"},\"top\":{\"field\":\"flux\"},\"width\":{\"value\":0.9},\"x\":{\"field\":\"band\"}},\"id\":\"98bf8af2-f0a7-4c46-af20-6a6772898c52\",\"type\":\"VBar\"},{\"attributes\":{\"source\":{\"id\":\"3d242a08-51cf-49da-8af3-97074a146fbe\",\"type\":\"ColumnDataSource\"}},\"id\":\"927d4943-c339-4d1b-a624-48215c1659cb\",\"type\":\"CDSView\"},{\"attributes\":{\"callback\":null,\"factors\":[\"1\",\"2\",\"3\",\"4\",\"5\",\"6\",\"7\",\"8\",\"9\",\"10\",\"11\"]},\"id\":\"1174ff2d-310d-42b4-9cb9-0c04ae6fadca\",\"type\":\"FactorRange\"},{\"attributes\":{\"fill_alpha\":{\"value\":0.1},\"fill_color\":{\"value\":\"#1f77b4\"},\"line_alpha\":{\"value\":0.1},\"line_color\":{\"value\":\"#1f77b4\"},\"top\":{\"field\":\"flux\"},\"width\":{\"value\":0.9},\"x\":{\"field\":\"band\"}},\"id\":\"99d12079-c9ba-4118-b704-ffbccd984d7d\",\"type\":\"VBar\"},{\"attributes\":{\"axis_label\":\"flux (W m-2)\",\"formatter\":{\"id\":\"c914980e-10a0-4a4b-97b2-79e9a7654000\",\"type\":\"BasicTickFormatter\"},\"plot\":{\"id\":\"d8946a6e-758c-4dad-93d5-2e352a0ed966\",\"subtype\":\"Figure\",\"type\":\"Plot\"},\"ticker\":{\"id\":\"c2bb3df8-bcd2-42d9-a17b-eca61f83bc34\",\"type\":\"BasicTicker\"}},\"id\":\"1a99a26f-1d22-4396-9953-4ab7bfd32cdc\",\"type\":\"LinearAxis\"},{\"attributes\":{\"dimension\":1,\"plot\":{\"id\":\"d8946a6e-758c-4dad-93d5-2e352a0ed966\",\"subtype\":\"Figure\",\"type\":\"Plot\"},\"ticker\":{\"id\":\"c2bb3df8-bcd2-42d9-a17b-eca61f83bc34\",\"type\":\"BasicTicker\"}},\"id\":\"4605f831-3594-464c-894a-172aeaede5b2\",\"type\":\"Grid\"},{\"attributes\":{\"axis_label\":\"spectral band\",\"formatter\":{\"id\":\"02a3a599-908c-4644-9960-160adfdae944\",\"type\":\"CategoricalTickFormatter\"},\"plot\":{\"id\":\"d8946a6e-758c-4dad-93d5-2e352a0ed966\",\"subtype\":\"Figure\",\"type\":\"Plot\"},\"ticker\":{\"id\":\"5708e01c-499b-40d5-923f-ac3322f2a31e\",\"type\":\"CategoricalTicker\"}},\"id\":\"c6ea4309-d2bc-485e-913e-57db49cc97e2\",\"type\":\"CategoricalAxis\"},{\"attributes\":{\"data_source\":{\"id\":\"e321f8f2-356b-4476-9651-920f43b16d46\",\"type\":\"ColumnDataSource\"},\"glyph\":{\"id\":\"c8f2476f-b07c-4044-abab-751f016143c9\",\"type\":\"VBar\"},\"hover_glyph\":null,\"muted_glyph\":null,\"nonselection_glyph\":{\"id\":\"d32defa6-de31-4d4e-acef-622cf732ed94\",\"type\":\"VBar\"},\"selection_glyph\":null,\"view\":{\"id\":\"6e803896-a0f9-4fe9-8f1d-b5a423a7bda1\",\"type\":\"CDSView\"}},\"id\":\"c87bc56b-4916-4ca7-a9b2-5dcbbfc757a0\",\"type\":\"GlyphRenderer\"},{\"attributes\":{\"dimension\":1,\"plot\":{\"id\":\"658fb305-a902-46ca-8fb8-b355eda69311\",\"subtype\":\"Figure\",\"type\":\"Plot\"},\"ticker\":{\"id\":\"0664ebd2-0472-4841-adea-cb41bbd84cc6\",\"type\":\"BasicTicker\"}},\"id\":\"eb7a6356-5a6d-40d3-bb05-b024182fd639\",\"type\":\"Grid\"},{\"attributes\":{\"plot\":{\"id\":\"658fb305-a902-46ca-8fb8-b355eda69311\",\"subtype\":\"Figure\",\"type\":\"Plot\"},\"ticker\":{\"id\":\"1b16429c-77d7-4683-91eb-3430bfec0127\",\"type\":\"CategoricalTicker\"}},\"id\":\"b387c298-53e9-40a3-a407-69741314afb1\",\"type\":\"Grid\"},{\"attributes\":{},\"id\":\"123a8e59-8a3c-46a4-9677-ba67d6a1febd\",\"type\":\"CategoricalTickFormatter\"},{\"attributes\":{},\"id\":\"47b58970-0c91-4f25-9ce0-8b5b10b01ff8\",\"type\":\"CategoricalScale\"},{\"attributes\":{\"plot\":null,\"text\":\"SFC flux. CLIRAD (single-run) - CRD.\"},\"id\":\"ad8a393b-7824-4426-af19-04a3805dfc37\",\"type\":\"Title\"},{\"attributes\":{},\"id\":\"cf7539fe-1aea-41c2-8eb1-e0fcb2035a58\",\"type\":\"HelpTool\"},{\"attributes\":{\"active_drag\":\"auto\",\"active_inspect\":\"auto\",\"active_scroll\":\"auto\",\"active_tap\":\"auto\",\"tools\":[{\"id\":\"b8a39c96-8a34-42da-bbbe-adec2f97d3c0\",\"type\":\"PanTool\"},{\"id\":\"36f7247d-3e17-4640-a22f-d42507740d75\",\"type\":\"WheelZoomTool\"},{\"id\":\"e32d3c1c-0995-4e7f-8fb9-b1e76d4f8d74\",\"type\":\"BoxZoomTool\"},{\"id\":\"45211cfa-dfd4-4ae4-9dda-2700628d8157\",\"type\":\"SaveTool\"},{\"id\":\"b22cb5ea-4d22-445a-8832-383eebf78e3a\",\"type\":\"ResetTool\"},{\"id\":\"ec5ffb8e-e343-42d5-8758-e4c9190fdeeb\",\"type\":\"HelpTool\"}]},\"id\":\"d3efd7cf-f362-4904-a63a-d343afef3633\",\"type\":\"Toolbar\"},{\"attributes\":{\"plot\":null,\"text\":\"TOA flux. CLIRAD (single-run) - CRD.\"},\"id\":\"307de848-1bac-4f24-be59-0e32389a6ad3\",\"type\":\"Title\"},{\"attributes\":{},\"id\":\"0664ebd2-0472-4841-adea-cb41bbd84cc6\",\"type\":\"BasicTicker\"},{\"attributes\":{},\"id\":\"b8008d3c-f2a9-41aa-b582-d33f32249971\",\"type\":\"WheelZoomTool\"},{\"attributes\":{\"axis_label\":\"spectral band\",\"formatter\":{\"id\":\"a817ea97-3cae-4e29-8947-e6f279267d37\",\"type\":\"CategoricalTickFormatter\"},\"plot\":{\"id\":\"658fb305-a902-46ca-8fb8-b355eda69311\",\"subtype\":\"Figure\",\"type\":\"Plot\"},\"ticker\":{\"id\":\"1b16429c-77d7-4683-91eb-3430bfec0127\",\"type\":\"CategoricalTicker\"}},\"id\":\"2e66f07b-adeb-4929-b54b-da76b3d9271b\",\"type\":\"CategoricalAxis\"},{\"attributes\":{},\"id\":\"ec5ffb8e-e343-42d5-8758-e4c9190fdeeb\",\"type\":\"HelpTool\"},{\"attributes\":{\"callback\":null},\"id\":\"4087c27e-b535-4556-8469-a07515ef643a\",\"type\":\"DataRange1d\"},{\"attributes\":{\"fill_color\":{\"value\":\"#1f77b4\"},\"line_color\":{\"value\":\"#1f77b4\"},\"top\":{\"field\":\"flux\"},\"width\":{\"value\":0.9},\"x\":{\"field\":\"band\"}},\"id\":\"c8f2476f-b07c-4044-abab-751f016143c9\",\"type\":\"VBar\"},{\"attributes\":{},\"id\":\"652173d4-2b76-4afc-ac70-958e917d589f\",\"type\":\"PanTool\"},{\"attributes\":{},\"id\":\"36f7247d-3e17-4640-a22f-d42507740d75\",\"type\":\"WheelZoomTool\"},{\"attributes\":{\"callback\":null,\"data\":{\"band\":[\"1\",\"2\",\"3\",\"4\",\"5\",\"6\",\"7\",\"8\",\"9\",\"10\",\"11\"],\"flux\":{\"__ndarray__\":\"AMHG9e/6yj8ARFVMpZ/UP8A1I4PcRdO/wKT4+ITs4T8A9+Y3TDTUPwCADYgQV7Y/QM8Tz9kC0T8A5N2RsdqsPwAu4dBbPJw/4PGprSLtwT+A9UyK6gi9Pw==\",\"dtype\":\"float64\",\"shape\":[11]}},\"selected\":{\"id\":\"840abbea-d00e-454c-b0f7-00ad3884efd2\",\"type\":\"Selection\"},\"selection_policy\":{\"id\":\"1a6cba94-178d-407f-820f-0f6a250f16df\",\"type\":\"UnionRenderers\"}},\"id\":\"e321f8f2-356b-4476-9651-920f43b16d46\",\"type\":\"ColumnDataSource\"},{\"attributes\":{\"below\":[{\"id\":\"c6ea4309-d2bc-485e-913e-57db49cc97e2\",\"type\":\"CategoricalAxis\"}],\"left\":[{\"id\":\"1a99a26f-1d22-4396-9953-4ab7bfd32cdc\",\"type\":\"LinearAxis\"}],\"plot_height\":300,\"plot_width\":300,\"renderers\":[{\"id\":\"c6ea4309-d2bc-485e-913e-57db49cc97e2\",\"type\":\"CategoricalAxis\"},{\"id\":\"32fc4f61-1d0e-4fbd-a044-43cef21298fb\",\"type\":\"Grid\"},{\"id\":\"1a99a26f-1d22-4396-9953-4ab7bfd32cdc\",\"type\":\"LinearAxis\"},{\"id\":\"4605f831-3594-464c-894a-172aeaede5b2\",\"type\":\"Grid\"},{\"id\":\"9881684f-bc1e-4162-ad15-408e08425764\",\"type\":\"BoxAnnotation\"},{\"id\":\"c87bc56b-4916-4ca7-a9b2-5dcbbfc757a0\",\"type\":\"GlyphRenderer\"}],\"title\":{\"id\":\"307de848-1bac-4f24-be59-0e32389a6ad3\",\"type\":\"Title\"},\"toolbar\":{\"id\":\"230cb5f2-6e5d-4237-ae84-8b2aca442c21\",\"type\":\"Toolbar\"},\"toolbar_location\":null,\"x_range\":{\"id\":\"1174ff2d-310d-42b4-9cb9-0c04ae6fadca\",\"type\":\"FactorRange\"},\"x_scale\":{\"id\":\"47b58970-0c91-4f25-9ce0-8b5b10b01ff8\",\"type\":\"CategoricalScale\"},\"y_range\":{\"id\":\"4087c27e-b535-4556-8469-a07515ef643a\",\"type\":\"DataRange1d\"},\"y_scale\":{\"id\":\"d88dfb65-8d37-4e17-9e53-a0cec6d61de4\",\"type\":\"LinearScale\"}},\"id\":\"d8946a6e-758c-4dad-93d5-2e352a0ed966\",\"subtype\":\"Figure\",\"type\":\"Plot\"},{\"attributes\":{},\"id\":\"b22cb5ea-4d22-445a-8832-383eebf78e3a\",\"type\":\"ResetTool\"},{\"attributes\":{\"plot\":{\"id\":\"d8946a6e-758c-4dad-93d5-2e352a0ed966\",\"subtype\":\"Figure\",\"type\":\"Plot\"},\"ticker\":{\"id\":\"5708e01c-499b-40d5-923f-ac3322f2a31e\",\"type\":\"CategoricalTicker\"}},\"id\":\"32fc4f61-1d0e-4fbd-a044-43cef21298fb\",\"type\":\"Grid\"},{\"attributes\":{\"callback\":null,\"data\":{\"band\":[\"1\",\"2\",\"3\",\"4\",\"5\",\"6\",\"7\",\"8\",\"9\",\"10\",\"11\"],\"flux\":{\"__ndarray__\":\"AID6S2L7yj8AhLZzzD+yPwC8gsh9Brm/ABW46Y0C4D8gA5fHmpHSv4DMsieBTeC/gDukGCDRxD8AK4iBrn21v0C4FKEiGNC/wG+hI6BfwD9Ab6jOWVWpPw==\",\"dtype\":\"float64\",\"shape\":[11]}},\"selected\":{\"id\":\"8a916d9c-631d-4b1f-bb54-9e0f7c0e7709\",\"type\":\"Selection\"},\"selection_policy\":{\"id\":\"75a9a2d3-9107-4baa-8af2-48986030a451\",\"type\":\"UnionRenderers\"}},\"id\":\"fd4d8485-0fbc-4ddf-adee-b1f720c63cb2\",\"type\":\"ColumnDataSource\"},{\"attributes\":{\"bottom_units\":\"screen\",\"fill_alpha\":{\"value\":0.5},\"fill_color\":{\"value\":\"lightgrey\"},\"left_units\":\"screen\",\"level\":\"overlay\",\"line_alpha\":{\"value\":1.0},\"line_color\":{\"value\":\"black\"},\"line_dash\":[4,4],\"line_width\":{\"value\":2},\"plot\":null,\"render_mode\":\"css\",\"right_units\":\"screen\",\"top_units\":\"screen\"},\"id\":\"9881684f-bc1e-4162-ad15-408e08425764\",\"type\":\"BoxAnnotation\"},{\"attributes\":{\"below\":[{\"id\":\"2e66f07b-adeb-4929-b54b-da76b3d9271b\",\"type\":\"CategoricalAxis\"}],\"left\":[{\"id\":\"8d4775ad-571b-495f-a1c0-cd8384cf2df0\",\"type\":\"LinearAxis\"}],\"plot_height\":300,\"plot_width\":300,\"renderers\":[{\"id\":\"2e66f07b-adeb-4929-b54b-da76b3d9271b\",\"type\":\"CategoricalAxis\"},{\"id\":\"b387c298-53e9-40a3-a407-69741314afb1\",\"type\":\"Grid\"},{\"id\":\"8d4775ad-571b-495f-a1c0-cd8384cf2df0\",\"type\":\"LinearAxis\"},{\"id\":\"eb7a6356-5a6d-40d3-bb05-b024182fd639\",\"type\":\"Grid\"},{\"id\":\"18eace40-e237-4e46-a0b6-2d40f5ea2209\",\"type\":\"BoxAnnotation\"},{\"id\":\"99f5052a-bc33-4a76-a7ad-8e727450eae8\",\"type\":\"GlyphRenderer\"}],\"title\":{\"id\":\"ad8a393b-7824-4426-af19-04a3805dfc37\",\"type\":\"Title\"},\"toolbar\":{\"id\":\"d3efd7cf-f362-4904-a63a-d343afef3633\",\"type\":\"Toolbar\"},\"toolbar_location\":null,\"x_range\":{\"id\":\"4300a920-768c-4864-8bee-921d7af9fed2\",\"type\":\"FactorRange\"},\"x_scale\":{\"id\":\"0dc17af3-8b29-4b60-8944-ab3fa2171377\",\"type\":\"CategoricalScale\"},\"y_range\":{\"id\":\"c78885cc-e12b-41b8-835b-5a89d167d3b1\",\"type\":\"DataRange1d\"},\"y_scale\":{\"id\":\"e5016c4c-c2dd-46d3-b58a-dcce3e522174\",\"type\":\"LinearScale\"}},\"id\":\"658fb305-a902-46ca-8fb8-b355eda69311\",\"subtype\":\"Figure\",\"type\":\"Plot\"},{\"attributes\":{},\"id\":\"d88dfb65-8d37-4e17-9e53-a0cec6d61de4\",\"type\":\"LinearScale\"},{\"attributes\":{\"source\":{\"id\":\"e321f8f2-356b-4476-9651-920f43b16d46\",\"type\":\"ColumnDataSource\"}},\"id\":\"6e803896-a0f9-4fe9-8f1d-b5a423a7bda1\",\"type\":\"CDSView\"},{\"attributes\":{},\"id\":\"45211cfa-dfd4-4ae4-9dda-2700628d8157\",\"type\":\"SaveTool\"},{\"attributes\":{\"active_drag\":\"auto\",\"active_inspect\":\"auto\",\"active_scroll\":\"auto\",\"active_tap\":\"auto\",\"tools\":[{\"id\":\"652173d4-2b76-4afc-ac70-958e917d589f\",\"type\":\"PanTool\"},{\"id\":\"b8008d3c-f2a9-41aa-b582-d33f32249971\",\"type\":\"WheelZoomTool\"},{\"id\":\"f8ec7253-4b9b-4d17-b77d-2bc903cddce2\",\"type\":\"BoxZoomTool\"},{\"id\":\"e0dbbd01-c0e6-45cb-9343-4ecbaf00c949\",\"type\":\"SaveTool\"},{\"id\":\"291b3b37-f9d4-4e80-bb23-000d16d2ecca\",\"type\":\"ResetTool\"},{\"id\":\"cf7539fe-1aea-41c2-8eb1-e0fcb2035a58\",\"type\":\"HelpTool\"}]},\"id\":\"230cb5f2-6e5d-4237-ae84-8b2aca442c21\",\"type\":\"Toolbar\"},{\"attributes\":{\"data_source\":{\"id\":\"3d242a08-51cf-49da-8af3-97074a146fbe\",\"type\":\"ColumnDataSource\"},\"glyph\":{\"id\":\"98bf8af2-f0a7-4c46-af20-6a6772898c52\",\"type\":\"VBar\"},\"hover_glyph\":null,\"muted_glyph\":null,\"nonselection_glyph\":{\"id\":\"99d12079-c9ba-4118-b704-ffbccd984d7d\",\"type\":\"VBar\"},\"selection_glyph\":null,\"view\":{\"id\":\"927d4943-c339-4d1b-a624-48215c1659cb\",\"type\":\"CDSView\"}},\"id\":\"99f5052a-bc33-4a76-a7ad-8e727450eae8\",\"type\":\"GlyphRenderer\"},{\"attributes\":{\"fill_alpha\":{\"value\":0.1},\"fill_color\":{\"value\":\"#1f77b4\"},\"line_alpha\":{\"value\":0.1},\"line_color\":{\"value\":\"#1f77b4\"},\"top\":{\"field\":\"flux\"},\"width\":{\"value\":0.9},\"x\":{\"field\":\"band\"}},\"id\":\"d32defa6-de31-4d4e-acef-622cf732ed94\",\"type\":\"VBar\"},{\"attributes\":{\"bottom_units\":\"screen\",\"fill_alpha\":{\"value\":0.5},\"fill_color\":{\"value\":\"lightgrey\"},\"left_units\":\"screen\",\"level\":\"overlay\",\"line_alpha\":{\"value\":1.0},\"line_color\":{\"value\":\"black\"},\"line_dash\":[4,4],\"line_width\":{\"value\":2},\"plot\":null,\"render_mode\":\"css\",\"right_units\":\"screen\",\"top_units\":\"screen\"},\"id\":\"18eace40-e237-4e46-a0b6-2d40f5ea2209\",\"type\":\"BoxAnnotation\"},{\"attributes\":{\"callback\":null,\"factors\":[\"1\",\"2\",\"3\",\"4\",\"5\",\"6\",\"7\",\"8\",\"9\",\"10\",\"11\"]},\"id\":\"4300a920-768c-4864-8bee-921d7af9fed2\",\"type\":\"FactorRange\"},{\"attributes\":{},\"id\":\"291b3b37-f9d4-4e80-bb23-000d16d2ecca\",\"type\":\"ResetTool\"},{\"attributes\":{\"overlay\":{\"id\":\"9881684f-bc1e-4162-ad15-408e08425764\",\"type\":\"BoxAnnotation\"}},\"id\":\"f8ec7253-4b9b-4d17-b77d-2bc903cddce2\",\"type\":\"BoxZoomTool\"},{\"attributes\":{},\"id\":\"c2bb3df8-bcd2-42d9-a17b-eca61f83bc34\",\"type\":\"BasicTicker\"},{\"attributes\":{},\"id\":\"0dc17af3-8b29-4b60-8944-ab3fa2171377\",\"type\":\"CategoricalScale\"},{\"attributes\":{},\"id\":\"5708e01c-499b-40d5-923f-ac3322f2a31e\",\"type\":\"CategoricalTicker\"},{\"attributes\":{\"overlay\":{\"id\":\"18eace40-e237-4e46-a0b6-2d40f5ea2209\",\"type\":\"BoxAnnotation\"}},\"id\":\"e32d3c1c-0995-4e7f-8fb9-b1e76d4f8d74\",\"type\":\"BoxZoomTool\"},{\"attributes\":{\"callback\":null},\"id\":\"c78885cc-e12b-41b8-835b-5a89d167d3b1\",\"type\":\"DataRange1d\"},{\"attributes\":{},\"id\":\"e5016c4c-c2dd-46d3-b58a-dcce3e522174\",\"type\":\"LinearScale\"},{\"attributes\":{\"axis_label\":\"flux (W m-2)\",\"formatter\":{\"id\":\"d2c68120-b20c-4d43-be2d-ba9408e863be\",\"type\":\"BasicTickFormatter\"},\"plot\":{\"id\":\"658fb305-a902-46ca-8fb8-b355eda69311\",\"subtype\":\"Figure\",\"type\":\"Plot\"},\"ticker\":{\"id\":\"0664ebd2-0472-4841-adea-cb41bbd84cc6\",\"type\":\"BasicTicker\"}},\"id\":\"8d4775ad-571b-495f-a1c0-cd8384cf2df0\",\"type\":\"LinearAxis\"}],\"root_ids\":[\"0ae44975-d488-4e66-b1d3-7a3752893840\"]},\"title\":\"Bokeh Application\",\"version\":\"0.12.16\"}};\n",
       "  var render_items = [{\"docid\":\"30d8b770-7375-487a-98ed-037afc82dfb5\",\"elementid\":\"9cbe4c36-d2b3-4863-8fc1-440a431f340a\",\"modelid\":\"0ae44975-d488-4e66-b1d3-7a3752893840\"}];\n",
       "  root.Bokeh.embed.embed_items_notebook(docs_json, render_items);\n",
       "\n",
       "  }\n",
       "  if (root.Bokeh !== undefined) {\n",
       "    embed_document(root);\n",
       "  } else {\n",
       "    var attempts = 0;\n",
       "    var timer = setInterval(function(root) {\n",
       "      if (root.Bokeh !== undefined) {\n",
       "        embed_document(root);\n",
       "        clearInterval(timer);\n",
       "      }\n",
       "      attempts++;\n",
       "      if (attempts > 100) {\n",
       "        console.log(\"Bokeh: ERROR: Unable to run BokehJS code because BokehJS library is missing\")\n",
       "        clearInterval(timer);\n",
       "      }\n",
       "    }, 10, root)\n",
       "  }\n",
       "})(window);"
      ],
      "application/vnd.bokehjs_exec.v0+json": ""
     },
     "metadata": {
      "application/vnd.bokehjs_exec.v0+json": {
       "id": "0ae44975-d488-4e66-b1d3-7a3752893840"
      }
     },
     "output_type": "display_data"
    },
    {
     "data": {
      "text/markdown": [
       "*FIGURE.* Difference between CLIRAD and CRD in TOA, SFC and net atmosphere flux, in each spectral band."
      ],
      "text/plain": [
       "<IPython.core.display.Markdown object>"
      ]
     },
     "metadata": {},
     "output_type": "display_data"
    },
    {
     "data": {
      "text/html": [
       "<div>\n",
       "<style scoped>\n",
       "    .dataframe tbody tr th:only-of-type {\n",
       "        vertical-align: middle;\n",
       "    }\n",
       "\n",
       "    .dataframe tbody tr th {\n",
       "        vertical-align: top;\n",
       "    }\n",
       "\n",
       "    .dataframe thead th {\n",
       "        text-align: right;\n",
       "    }\n",
       "</style>\n",
       "<table border=\"1\" class=\"dataframe\">\n",
       "  <thead>\n",
       "    <tr style=\"text-align: right;\">\n",
       "      <th></th>\n",
       "      <th>OLR flux</th>\n",
       "      <th>SFC flux</th>\n",
       "      <th>ATM heating</th>\n",
       "    </tr>\n",
       "    <tr>\n",
       "      <th>Sum over bands</th>\n",
       "      <th></th>\n",
       "      <th></th>\n",
       "      <th></th>\n",
       "    </tr>\n",
       "  </thead>\n",
       "  <tbody>\n",
       "    <tr>\n",
       "      <th>CLIRAD (single-run) - CRD</th>\n",
       "      <td>1.8</td>\n",
       "      <td>1.91</td>\n",
       "      <td>-0.11</td>\n",
       "    </tr>\n",
       "    <tr>\n",
       "      <th>CRD</th>\n",
       "      <td>-303.4</td>\n",
       "      <td>337.24</td>\n",
       "      <td>-181.37</td>\n",
       "    </tr>\n",
       "  </tbody>\n",
       "</table>\n",
       "</div>"
      ],
      "text/plain": [
       "                           OLR flux  SFC flux  ATM heating\n",
       "Sum over bands                                            \n",
       "CLIRAD (single-run) - CRD       1.8      1.91        -0.11\n",
       "CRD                          -303.4    337.24      -181.37"
      ]
     },
     "metadata": {},
     "output_type": "display_data"
    },
    {
     "data": {
      "text/markdown": [
       "*TABLE.* Difference between CLIRAD and CRD in TOA, SFC and net atmosphere flux, over all spectral bands. CRD's TOA, SFC and net atmosphere flux, over all spectral bands."
      ],
      "text/plain": [
       "<IPython.core.display.Markdown object>"
      ]
     },
     "metadata": {},
     "output_type": "display_data"
    }
   ],
   "source": [
    "def show_html(s):\n",
    "    display.display(display.HTML(s))\n",
    "\n",
    "    \n",
    "def show_markdown(s):\n",
    "    display.display(display.Markdown(s))\n",
    "\n",
    "\n",
    "def script():\n",
    "    \n",
    "    d_atm = {'mls': 'mid-latitude summer',\n",
    "             'saw': 'sub-arctic winter',\n",
    "             'trp': 'tropical'}\n",
    "    \n",
    "    title = ('## Results over entire range of molecules'\n",
    "             ' and spectral bands')\n",
    "    \n",
    "    s_makeup = 'Makeup of atmosphere.'\n",
    "    s_atmpro = '# {}'\n",
    "    s_cool = 'Cooling rates. {}.'\n",
    "    s_flux = 'Fluxes. {}.'\n",
    "    \n",
    "    atmpros = ['mls', 'saw', 'trp']\n",
    "    \n",
    "    # TOC\n",
    "    show_markdown(title)\n",
    "    show_markdown('### Table of Contents')\n",
    "    show_html(climahtml.getHTML_hrefanchor(s_makeup))\n",
    "    for atmpro in atmpros:\n",
    "        show_markdown('**' + d_atm[atmpro] + '**')\n",
    "        show_html(climahtml.getHTML_hrefanchor(s_cool.format(atmpro)))\n",
    "        show_html(climahtml.getHTML_hrefanchor(s_flux.format(atmpro)))\n",
    "\n",
    "        \n",
    "    # Atmosphere makeup\n",
    "    show_html(climahtml.getHTML_idanchor(s_makeup))\n",
    "    show_markdown(climahtml.getMarkdown_sectitle(s_makeup))\n",
    "    show_makeup()\n",
    "        \n",
    "    for atmpro in atmpros:\n",
    "        show_html(climahtml.getHTML_idanchor(s_cool.format(atmpro)))\n",
    "        show_markdown(\n",
    "            climahtml.getMarkdown_sectitle(s_cool.format(atmpro)))\n",
    "        show_cool(atmpro=atmpro)\n",
    "        show_html(climahtml.getHTML_idanchor(s_flux.format(atmpro)))\n",
    "        show_markdown(\n",
    "            climahtml.getMarkdown_sectitle(s_flux.format(atmpro)))\n",
    "        show_hist_flux(atmpro=atmpro)\n",
    "        show_tb_flux(atmpro=atmpro)\n",
    "    \n",
    "    \n",
    "script()  "
   ]
  },
  {
   "cell_type": "code",
   "execution_count": null,
   "metadata": {
    "collapsed": true
   },
   "outputs": [],
   "source": []
  },
  {
   "cell_type": "code",
   "execution_count": 83,
   "metadata": {},
   "outputs": [
    {
     "data": {
      "text/html": [
       "<script>\n",
       "code_show=true; \n",
       "function code_toggle() {\n",
       " if (code_show){\n",
       " $('div.input').hide();\n",
       " } else {\n",
       " $('div.input').show();\n",
       " }\n",
       " code_show = !code_show\n",
       "} \n",
       "$( document ).ready(code_toggle);\n",
       "</script>\n",
       "<form action=\"javascript:code_toggle()\"><input type=\"submit\" value=\"Click here to toggle on/off the raw code.\"></form>"
      ],
      "text/plain": [
       "<IPython.core.display.HTML object>"
      ]
     },
     "execution_count": 83,
     "metadata": {},
     "output_type": "execute_result"
    }
   ],
   "source": [
    "display.HTML('''<script>\n",
    "code_show=true; \n",
    "function code_toggle() {\n",
    " if (code_show){\n",
    " $('div.input').hide();\n",
    " } else {\n",
    " $('div.input').show();\n",
    " }\n",
    " code_show = !code_show\n",
    "} \n",
    "$( document ).ready(code_toggle);\n",
    "</script>\n",
    "<form action=\"javascript:code_toggle()\"><input type=\"submit\" value=\"Click here to toggle on/off the raw code.\"></form>''')"
   ]
  },
  {
   "cell_type": "code",
   "execution_count": null,
   "metadata": {
    "collapsed": true
   },
   "outputs": [],
   "source": []
  }
 ],
 "metadata": {
  "kernelspec": {
   "display_name": "Python 3",
   "language": "python",
   "name": "python3"
  },
  "language_info": {
   "codemirror_mode": {
    "name": "ipython",
    "version": 3
   },
   "file_extension": ".py",
   "mimetype": "text/x-python",
   "name": "python",
   "nbconvert_exporter": "python",
   "pygments_lexer": "ipython3",
   "version": "3.6.1"
  }
 },
 "nbformat": 4,
 "nbformat_minor": 2
}
