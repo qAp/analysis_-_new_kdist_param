{
 "cells": [
  {
   "cell_type": "code",
   "execution_count": 277,
   "metadata": {
    "collapsed": true
   },
   "outputs": [],
   "source": [
    "import os\n",
    "import ast\n",
    "import json\n",
    "import importlib \n",
    "import itertools\n",
    "import collections\n",
    "import pprint\n",
    "\n",
    "from bokeh.io import output_notebook, show\n",
    "from bokeh.layouts import gridplot\n",
    "from bokeh.plotting import figure\n",
    "from bokeh.models import Range1d, Legend, ColumnDataSource, FactorRange\n",
    "from bokeh.palettes import all_palettes\n",
    "from bokeh.transform import factor_cmap\n",
    "\n",
    "import matplotlib\n",
    "import matplotlib.pyplot as plt\n",
    "import numpy as np\n",
    "import pandas as pd\n",
    "import xarray as xr\n",
    "\n",
    "\n",
    "import climatools.lblnew.bestfit_params as bestfits\n",
    "from climatools.lblnew import setup_bestfit, setup_overlap\n",
    "import climatools.lblnew.pipeline as pipe_lblnew\n",
    "import climatools.cliradlw.setup as setup_cliradlw\n",
    "import climatools.cliradlw.pipeline as pipe_cliradlw\n",
    "\n",
    "import climatools.html.html as climahtml\n",
    "from climatools.lblnew.dataio import *\n",
    "from climatools.plot.plot import *\n",
    "\n",
    "\n",
    "from IPython import display\n",
    "\n",
    "#importlib.reload(bestfits)\n",
    "#importlib.reload(setup_bestfit)\n",
    "#importlib.reload(setup_overlap)\n",
    "#importlib.reload(pipe_lblnew)\n",
    "#importlib.reload(setup_cliradlw)\n",
    "#importlib.reload(pipe_cliradlw)"
   ]
  },
  {
   "cell_type": "code",
   "execution_count": 278,
   "metadata": {},
   "outputs": [
    {
     "data": {
      "text/html": [
       "\n",
       "    <div class=\"bk-root\">\n",
       "        <a href=\"https://bokeh.pydata.org\" target=\"_blank\" class=\"bk-logo bk-logo-small bk-logo-notebook\"></a>\n",
       "        <span id=\"ba05e169-2c07-4817-8cae-62f37fbd3932\">Loading BokehJS ...</span>\n",
       "    </div>"
      ]
     },
     "metadata": {},
     "output_type": "display_data"
    },
    {
     "data": {
      "application/javascript": [
       "\n",
       "(function(root) {\n",
       "  function now() {\n",
       "    return new Date();\n",
       "  }\n",
       "\n",
       "  var force = true;\n",
       "\n",
       "  if (typeof (root._bokeh_onload_callbacks) === \"undefined\" || force === true) {\n",
       "    root._bokeh_onload_callbacks = [];\n",
       "    root._bokeh_is_loading = undefined;\n",
       "  }\n",
       "\n",
       "  var JS_MIME_TYPE = 'application/javascript';\n",
       "  var HTML_MIME_TYPE = 'text/html';\n",
       "  var EXEC_MIME_TYPE = 'application/vnd.bokehjs_exec.v0+json';\n",
       "  var CLASS_NAME = 'output_bokeh rendered_html';\n",
       "\n",
       "  /**\n",
       "   * Render data to the DOM node\n",
       "   */\n",
       "  function render(props, node) {\n",
       "    var script = document.createElement(\"script\");\n",
       "    node.appendChild(script);\n",
       "  }\n",
       "\n",
       "  /**\n",
       "   * Handle when an output is cleared or removed\n",
       "   */\n",
       "  function handleClearOutput(event, handle) {\n",
       "    var cell = handle.cell;\n",
       "\n",
       "    var id = cell.output_area._bokeh_element_id;\n",
       "    var server_id = cell.output_area._bokeh_server_id;\n",
       "    // Clean up Bokeh references\n",
       "    if (id !== undefined) {\n",
       "      Bokeh.index[id].model.document.clear();\n",
       "      delete Bokeh.index[id];\n",
       "    }\n",
       "\n",
       "    if (server_id !== undefined) {\n",
       "      // Clean up Bokeh references\n",
       "      var cmd = \"from bokeh.io.state import curstate; print(curstate().uuid_to_server['\" + server_id + \"'].get_sessions()[0].document.roots[0]._id)\";\n",
       "      cell.notebook.kernel.execute(cmd, {\n",
       "        iopub: {\n",
       "          output: function(msg) {\n",
       "            var element_id = msg.content.text.trim();\n",
       "            Bokeh.index[element_id].model.document.clear();\n",
       "            delete Bokeh.index[element_id];\n",
       "          }\n",
       "        }\n",
       "      });\n",
       "      // Destroy server and session\n",
       "      var cmd = \"import bokeh.io.notebook as ion; ion.destroy_server('\" + server_id + \"')\";\n",
       "      cell.notebook.kernel.execute(cmd);\n",
       "    }\n",
       "  }\n",
       "\n",
       "  /**\n",
       "   * Handle when a new output is added\n",
       "   */\n",
       "  function handleAddOutput(event, handle) {\n",
       "    var output_area = handle.output_area;\n",
       "    var output = handle.output;\n",
       "\n",
       "    // limit handleAddOutput to display_data with EXEC_MIME_TYPE content only\n",
       "    if ((output.output_type != \"display_data\") || (!output.data.hasOwnProperty(EXEC_MIME_TYPE))) {\n",
       "      return\n",
       "    }\n",
       "\n",
       "    var toinsert = output_area.element.find(\".\" + CLASS_NAME.split(' ')[0]);\n",
       "\n",
       "    if (output.metadata[EXEC_MIME_TYPE][\"id\"] !== undefined) {\n",
       "      toinsert[toinsert.length - 1].firstChild.textContent = output.data[JS_MIME_TYPE];\n",
       "      // store reference to embed id on output_area\n",
       "      output_area._bokeh_element_id = output.metadata[EXEC_MIME_TYPE][\"id\"];\n",
       "    }\n",
       "    if (output.metadata[EXEC_MIME_TYPE][\"server_id\"] !== undefined) {\n",
       "      var bk_div = document.createElement(\"div\");\n",
       "      bk_div.innerHTML = output.data[HTML_MIME_TYPE];\n",
       "      var script_attrs = bk_div.children[0].attributes;\n",
       "      for (var i = 0; i < script_attrs.length; i++) {\n",
       "        toinsert[toinsert.length - 1].firstChild.setAttribute(script_attrs[i].name, script_attrs[i].value);\n",
       "      }\n",
       "      // store reference to server id on output_area\n",
       "      output_area._bokeh_server_id = output.metadata[EXEC_MIME_TYPE][\"server_id\"];\n",
       "    }\n",
       "  }\n",
       "\n",
       "  function register_renderer(events, OutputArea) {\n",
       "\n",
       "    function append_mime(data, metadata, element) {\n",
       "      // create a DOM node to render to\n",
       "      var toinsert = this.create_output_subarea(\n",
       "        metadata,\n",
       "        CLASS_NAME,\n",
       "        EXEC_MIME_TYPE\n",
       "      );\n",
       "      this.keyboard_manager.register_events(toinsert);\n",
       "      // Render to node\n",
       "      var props = {data: data, metadata: metadata[EXEC_MIME_TYPE]};\n",
       "      render(props, toinsert[toinsert.length - 1]);\n",
       "      element.append(toinsert);\n",
       "      return toinsert\n",
       "    }\n",
       "\n",
       "    /* Handle when an output is cleared or removed */\n",
       "    events.on('clear_output.CodeCell', handleClearOutput);\n",
       "    events.on('delete.Cell', handleClearOutput);\n",
       "\n",
       "    /* Handle when a new output is added */\n",
       "    events.on('output_added.OutputArea', handleAddOutput);\n",
       "\n",
       "    /**\n",
       "     * Register the mime type and append_mime function with output_area\n",
       "     */\n",
       "    OutputArea.prototype.register_mime_type(EXEC_MIME_TYPE, append_mime, {\n",
       "      /* Is output safe? */\n",
       "      safe: true,\n",
       "      /* Index of renderer in `output_area.display_order` */\n",
       "      index: 0\n",
       "    });\n",
       "  }\n",
       "\n",
       "  // register the mime type if in Jupyter Notebook environment and previously unregistered\n",
       "  if (root.Jupyter !== undefined) {\n",
       "    var events = require('base/js/events');\n",
       "    var OutputArea = require('notebook/js/outputarea').OutputArea;\n",
       "\n",
       "    if (OutputArea.prototype.mime_types().indexOf(EXEC_MIME_TYPE) == -1) {\n",
       "      register_renderer(events, OutputArea);\n",
       "    }\n",
       "  }\n",
       "\n",
       "  \n",
       "  if (typeof (root._bokeh_timeout) === \"undefined\" || force === true) {\n",
       "    root._bokeh_timeout = Date.now() + 5000;\n",
       "    root._bokeh_failed_load = false;\n",
       "  }\n",
       "\n",
       "  var NB_LOAD_WARNING = {'data': {'text/html':\n",
       "     \"<div style='background-color: #fdd'>\\n\"+\n",
       "     \"<p>\\n\"+\n",
       "     \"BokehJS does not appear to have successfully loaded. If loading BokehJS from CDN, this \\n\"+\n",
       "     \"may be due to a slow or bad network connection. Possible fixes:\\n\"+\n",
       "     \"</p>\\n\"+\n",
       "     \"<ul>\\n\"+\n",
       "     \"<li>re-rerun `output_notebook()` to attempt to load from CDN again, or</li>\\n\"+\n",
       "     \"<li>use INLINE resources instead, as so:</li>\\n\"+\n",
       "     \"</ul>\\n\"+\n",
       "     \"<code>\\n\"+\n",
       "     \"from bokeh.resources import INLINE\\n\"+\n",
       "     \"output_notebook(resources=INLINE)\\n\"+\n",
       "     \"</code>\\n\"+\n",
       "     \"</div>\"}};\n",
       "\n",
       "  function display_loaded() {\n",
       "    var el = document.getElementById(\"ba05e169-2c07-4817-8cae-62f37fbd3932\");\n",
       "    if (el != null) {\n",
       "      el.textContent = \"BokehJS is loading...\";\n",
       "    }\n",
       "    if (root.Bokeh !== undefined) {\n",
       "      if (el != null) {\n",
       "        el.textContent = \"BokehJS \" + root.Bokeh.version + \" successfully loaded.\";\n",
       "      }\n",
       "    } else if (Date.now() < root._bokeh_timeout) {\n",
       "      setTimeout(display_loaded, 100)\n",
       "    }\n",
       "  }\n",
       "\n",
       "\n",
       "  function run_callbacks() {\n",
       "    try {\n",
       "      root._bokeh_onload_callbacks.forEach(function(callback) { callback() });\n",
       "    }\n",
       "    finally {\n",
       "      delete root._bokeh_onload_callbacks\n",
       "    }\n",
       "    console.info(\"Bokeh: all callbacks have finished\");\n",
       "  }\n",
       "\n",
       "  function load_libs(js_urls, callback) {\n",
       "    root._bokeh_onload_callbacks.push(callback);\n",
       "    if (root._bokeh_is_loading > 0) {\n",
       "      console.log(\"Bokeh: BokehJS is being loaded, scheduling callback at\", now());\n",
       "      return null;\n",
       "    }\n",
       "    if (js_urls == null || js_urls.length === 0) {\n",
       "      run_callbacks();\n",
       "      return null;\n",
       "    }\n",
       "    console.log(\"Bokeh: BokehJS not loaded, scheduling load and callback at\", now());\n",
       "    root._bokeh_is_loading = js_urls.length;\n",
       "    for (var i = 0; i < js_urls.length; i++) {\n",
       "      var url = js_urls[i];\n",
       "      var s = document.createElement('script');\n",
       "      s.src = url;\n",
       "      s.async = false;\n",
       "      s.onreadystatechange = s.onload = function() {\n",
       "        root._bokeh_is_loading--;\n",
       "        if (root._bokeh_is_loading === 0) {\n",
       "          console.log(\"Bokeh: all BokehJS libraries loaded\");\n",
       "          run_callbacks()\n",
       "        }\n",
       "      };\n",
       "      s.onerror = function() {\n",
       "        console.warn(\"failed to load library \" + url);\n",
       "      };\n",
       "      console.log(\"Bokeh: injecting script tag for BokehJS library: \", url);\n",
       "      document.getElementsByTagName(\"head\")[0].appendChild(s);\n",
       "    }\n",
       "  };var element = document.getElementById(\"ba05e169-2c07-4817-8cae-62f37fbd3932\");\n",
       "  if (element == null) {\n",
       "    console.log(\"Bokeh: ERROR: autoload.js configured with elementid 'ba05e169-2c07-4817-8cae-62f37fbd3932' but no matching script tag was found. \")\n",
       "    return false;\n",
       "  }\n",
       "\n",
       "  var js_urls = [\"https://cdn.pydata.org/bokeh/release/bokeh-0.12.16.min.js\", \"https://cdn.pydata.org/bokeh/release/bokeh-widgets-0.12.16.min.js\", \"https://cdn.pydata.org/bokeh/release/bokeh-tables-0.12.16.min.js\", \"https://cdn.pydata.org/bokeh/release/bokeh-gl-0.12.16.min.js\"];\n",
       "\n",
       "  var inline_js = [\n",
       "    function(Bokeh) {\n",
       "      Bokeh.set_log_level(\"info\");\n",
       "    },\n",
       "    \n",
       "    function(Bokeh) {\n",
       "      \n",
       "    },\n",
       "    function(Bokeh) {\n",
       "      console.log(\"Bokeh: injecting CSS: https://cdn.pydata.org/bokeh/release/bokeh-0.12.16.min.css\");\n",
       "      Bokeh.embed.inject_css(\"https://cdn.pydata.org/bokeh/release/bokeh-0.12.16.min.css\");\n",
       "      console.log(\"Bokeh: injecting CSS: https://cdn.pydata.org/bokeh/release/bokeh-widgets-0.12.16.min.css\");\n",
       "      Bokeh.embed.inject_css(\"https://cdn.pydata.org/bokeh/release/bokeh-widgets-0.12.16.min.css\");\n",
       "      console.log(\"Bokeh: injecting CSS: https://cdn.pydata.org/bokeh/release/bokeh-tables-0.12.16.min.css\");\n",
       "      Bokeh.embed.inject_css(\"https://cdn.pydata.org/bokeh/release/bokeh-tables-0.12.16.min.css\");\n",
       "    }\n",
       "  ];\n",
       "\n",
       "  function run_inline_js() {\n",
       "    \n",
       "    if ((root.Bokeh !== undefined) || (force === true)) {\n",
       "      for (var i = 0; i < inline_js.length; i++) {\n",
       "        inline_js[i].call(root, root.Bokeh);\n",
       "      }if (force === true) {\n",
       "        display_loaded();\n",
       "      }} else if (Date.now() < root._bokeh_timeout) {\n",
       "      setTimeout(run_inline_js, 100);\n",
       "    } else if (!root._bokeh_failed_load) {\n",
       "      console.log(\"Bokeh: BokehJS failed to load within specified timeout.\");\n",
       "      root._bokeh_failed_load = true;\n",
       "    } else if (force !== true) {\n",
       "      var cell = $(document.getElementById(\"ba05e169-2c07-4817-8cae-62f37fbd3932\")).parents('.cell').data().cell;\n",
       "      cell.output_area.append_execute_result(NB_LOAD_WARNING)\n",
       "    }\n",
       "\n",
       "  }\n",
       "\n",
       "  if (root._bokeh_is_loading === 0) {\n",
       "    console.log(\"Bokeh: BokehJS loaded, going straight to plotting\");\n",
       "    run_inline_js();\n",
       "  } else {\n",
       "    load_libs(js_urls, function() {\n",
       "      console.log(\"Bokeh: BokehJS plotting callback run at\", now());\n",
       "      run_inline_js();\n",
       "    });\n",
       "  }\n",
       "}(window));"
      ],
      "application/vnd.bokehjs_load.v0+json": "\n(function(root) {\n  function now() {\n    return new Date();\n  }\n\n  var force = true;\n\n  if (typeof (root._bokeh_onload_callbacks) === \"undefined\" || force === true) {\n    root._bokeh_onload_callbacks = [];\n    root._bokeh_is_loading = undefined;\n  }\n\n  \n\n  \n  if (typeof (root._bokeh_timeout) === \"undefined\" || force === true) {\n    root._bokeh_timeout = Date.now() + 5000;\n    root._bokeh_failed_load = false;\n  }\n\n  var NB_LOAD_WARNING = {'data': {'text/html':\n     \"<div style='background-color: #fdd'>\\n\"+\n     \"<p>\\n\"+\n     \"BokehJS does not appear to have successfully loaded. If loading BokehJS from CDN, this \\n\"+\n     \"may be due to a slow or bad network connection. Possible fixes:\\n\"+\n     \"</p>\\n\"+\n     \"<ul>\\n\"+\n     \"<li>re-rerun `output_notebook()` to attempt to load from CDN again, or</li>\\n\"+\n     \"<li>use INLINE resources instead, as so:</li>\\n\"+\n     \"</ul>\\n\"+\n     \"<code>\\n\"+\n     \"from bokeh.resources import INLINE\\n\"+\n     \"output_notebook(resources=INLINE)\\n\"+\n     \"</code>\\n\"+\n     \"</div>\"}};\n\n  function display_loaded() {\n    var el = document.getElementById(\"ba05e169-2c07-4817-8cae-62f37fbd3932\");\n    if (el != null) {\n      el.textContent = \"BokehJS is loading...\";\n    }\n    if (root.Bokeh !== undefined) {\n      if (el != null) {\n        el.textContent = \"BokehJS \" + root.Bokeh.version + \" successfully loaded.\";\n      }\n    } else if (Date.now() < root._bokeh_timeout) {\n      setTimeout(display_loaded, 100)\n    }\n  }\n\n\n  function run_callbacks() {\n    try {\n      root._bokeh_onload_callbacks.forEach(function(callback) { callback() });\n    }\n    finally {\n      delete root._bokeh_onload_callbacks\n    }\n    console.info(\"Bokeh: all callbacks have finished\");\n  }\n\n  function load_libs(js_urls, callback) {\n    root._bokeh_onload_callbacks.push(callback);\n    if (root._bokeh_is_loading > 0) {\n      console.log(\"Bokeh: BokehJS is being loaded, scheduling callback at\", now());\n      return null;\n    }\n    if (js_urls == null || js_urls.length === 0) {\n      run_callbacks();\n      return null;\n    }\n    console.log(\"Bokeh: BokehJS not loaded, scheduling load and callback at\", now());\n    root._bokeh_is_loading = js_urls.length;\n    for (var i = 0; i < js_urls.length; i++) {\n      var url = js_urls[i];\n      var s = document.createElement('script');\n      s.src = url;\n      s.async = false;\n      s.onreadystatechange = s.onload = function() {\n        root._bokeh_is_loading--;\n        if (root._bokeh_is_loading === 0) {\n          console.log(\"Bokeh: all BokehJS libraries loaded\");\n          run_callbacks()\n        }\n      };\n      s.onerror = function() {\n        console.warn(\"failed to load library \" + url);\n      };\n      console.log(\"Bokeh: injecting script tag for BokehJS library: \", url);\n      document.getElementsByTagName(\"head\")[0].appendChild(s);\n    }\n  };var element = document.getElementById(\"ba05e169-2c07-4817-8cae-62f37fbd3932\");\n  if (element == null) {\n    console.log(\"Bokeh: ERROR: autoload.js configured with elementid 'ba05e169-2c07-4817-8cae-62f37fbd3932' but no matching script tag was found. \")\n    return false;\n  }\n\n  var js_urls = [\"https://cdn.pydata.org/bokeh/release/bokeh-0.12.16.min.js\", \"https://cdn.pydata.org/bokeh/release/bokeh-widgets-0.12.16.min.js\", \"https://cdn.pydata.org/bokeh/release/bokeh-tables-0.12.16.min.js\", \"https://cdn.pydata.org/bokeh/release/bokeh-gl-0.12.16.min.js\"];\n\n  var inline_js = [\n    function(Bokeh) {\n      Bokeh.set_log_level(\"info\");\n    },\n    \n    function(Bokeh) {\n      \n    },\n    function(Bokeh) {\n      console.log(\"Bokeh: injecting CSS: https://cdn.pydata.org/bokeh/release/bokeh-0.12.16.min.css\");\n      Bokeh.embed.inject_css(\"https://cdn.pydata.org/bokeh/release/bokeh-0.12.16.min.css\");\n      console.log(\"Bokeh: injecting CSS: https://cdn.pydata.org/bokeh/release/bokeh-widgets-0.12.16.min.css\");\n      Bokeh.embed.inject_css(\"https://cdn.pydata.org/bokeh/release/bokeh-widgets-0.12.16.min.css\");\n      console.log(\"Bokeh: injecting CSS: https://cdn.pydata.org/bokeh/release/bokeh-tables-0.12.16.min.css\");\n      Bokeh.embed.inject_css(\"https://cdn.pydata.org/bokeh/release/bokeh-tables-0.12.16.min.css\");\n    }\n  ];\n\n  function run_inline_js() {\n    \n    if ((root.Bokeh !== undefined) || (force === true)) {\n      for (var i = 0; i < inline_js.length; i++) {\n        inline_js[i].call(root, root.Bokeh);\n      }if (force === true) {\n        display_loaded();\n      }} else if (Date.now() < root._bokeh_timeout) {\n      setTimeout(run_inline_js, 100);\n    } else if (!root._bokeh_failed_load) {\n      console.log(\"Bokeh: BokehJS failed to load within specified timeout.\");\n      root._bokeh_failed_load = true;\n    } else if (force !== true) {\n      var cell = $(document.getElementById(\"ba05e169-2c07-4817-8cae-62f37fbd3932\")).parents('.cell').data().cell;\n      cell.output_area.append_execute_result(NB_LOAD_WARNING)\n    }\n\n  }\n\n  if (root._bokeh_is_loading === 0) {\n    console.log(\"Bokeh: BokehJS loaded, going straight to plotting\");\n    run_inline_js();\n  } else {\n    load_libs(js_urls, function() {\n      console.log(\"Bokeh: BokehJS plotting callback run at\", now());\n      run_inline_js();\n    });\n  }\n}(window));"
     },
     "metadata": {},
     "output_type": "display_data"
    }
   ],
   "source": [
    "output_notebook()"
   ]
  },
  {
   "cell_type": "code",
   "execution_count": 279,
   "metadata": {
    "collapsed": true
   },
   "outputs": [],
   "source": [
    "'''\n",
    "Get the clirad-lw and lblnew `param`s for all spectral bands.  \n",
    "These are returned by functions `clirad_params_atm` and\n",
    "`lblnew_params_atm`, respectively.\n",
    "'''\n",
    "\n",
    "def molecules_byband_atm():\n",
    "    return {1: {'h2o': 'atmpro'},\n",
    "            2: {'h2o': 'atmpro'}, \n",
    "            3: {'co2': 0.0004, 'h2o': 'atmpro', 'n2o': 3.2e-07},\n",
    "            4: {'co2': 0.0004, 'h2o': 'atmpro'},\n",
    "            5: {'co2': 0.0004, 'h2o': 'atmpro'},\n",
    "            6: {'co2': 0.0004, 'h2o': 'atmpro'},\n",
    "            7: {'co2': 0.0004, 'h2o': 'atmpro', 'o3': 'atmpro'},\n",
    "            8: {'h2o': 'atmpro'},\n",
    "            9: {'ch4': 1.8e-06, 'h2o': 'atmpro', 'n2o': 3.2e-07},\n",
    "            10: {'h2o': 'atmpro'},\n",
    "            11: {'co2': 0.0004, 'h2o': 'atmpro'}}\n",
    "\n",
    "\n",
    "def clirad_params_atm(atmpro='mls'):\n",
    "    d = {}\n",
    "    for band, molecule in molecules_byband_atm().items():\n",
    "        for param in setup_cliradlw.test_cases():\n",
    "            if [band] == param['band'] and molecule == param['molecule']:\n",
    "                param['atmpro'] = atmpro\n",
    "                d[band] = param\n",
    "                break                \n",
    "    return d\n",
    "\n",
    "\n",
    "def clirad_params_atm_singlerun(atmpro='mls'):\n",
    "    '''\n",
    "    Returns param of clirad-lw run that is equivalent to the total\n",
    "    of all the runs listed in molecules_byband_atm().  In order\n",
    "    for the output to be compatible with clirad_data_atm(), it will\n",
    "    be a list.\n",
    "    '''\n",
    "    param0 = {'band': [1, 2, 3, 4, 5, 6, 7, 8, 9, 10, 11],\n",
    "              'commitnumber': 'e4a1d1a_x',\n",
    "              'molecule': {'ch4': 1.8e-06,\n",
    "                           'co2': 0.0004,\n",
    "                           'h2o': 'atmpro',\n",
    "                           'n2o': 3.2e-07,\n",
    "                           'o3': 'atmpro'}}\n",
    "    \n",
    "    d_atmpros = {'mls': 294, 'saw': 257, 'trp': 300}\n",
    "    \n",
    "    param = param0.copy()\n",
    "    param['atmpro'] = atmpro\n",
    "    param['tsfc'] = d_atmpros[atmpro]\n",
    "    \n",
    "    params = [param]\n",
    "    return params\n",
    "\n",
    "\n",
    "def analysis_dirs_atm(atmpro='mls'):\n",
    "    params = clirad_params_atm(atmpro=atmpro)\n",
    "    return {band: pipe_cliradlw.get_analysis_dir(param=param,\n",
    "                                                 setup=setup_cliradlw) \n",
    "            for band, param in params.items()}\n",
    "\n",
    "\n",
    "def lblnew_params_atm(atmpro='mls'):\n",
    "    dirs = analysis_dirs_atm(atmpro=atmpro)\n",
    "    \n",
    "    d = {}\n",
    "    for band, dirname in dirs.items():\n",
    "        with open(os.path.join(dirname, 'param.py'), \n",
    "                  mode='r', encoding='utf-8') as f:\n",
    "            _, l = f.readlines()\n",
    "        \n",
    "        s = l.split('=')[1].strip()\n",
    "        d[band] = ast.literal_eval(s)\n",
    "        \n",
    "    return d\n"
   ]
  },
  {
   "cell_type": "code",
   "execution_count": 280,
   "metadata": {
    "collapsed": true
   },
   "outputs": [],
   "source": [
    "def show_makeup():\n",
    "    df = pd.DataFrame()\n",
    "\n",
    "    for band, molecule in molecules_byband_atm().items():\n",
    "        for name, conc in molecule.items():\n",
    "            df.loc[name, band] = str(conc)\n",
    "\n",
    "    df = df.fillna(0)\n",
    "    df.columns.name = 'clirad band'\n",
    "    df.index.name = 'molecule'\n",
    "    \n",
    "    display.display(df)\n",
    "    \n",
    "    display.display(\n",
    "        display.Markdown('*TABLE.* The makeup of the atmosphere.'))\n",
    "\n"
   ]
  },
  {
   "cell_type": "code",
   "execution_count": 281,
   "metadata": {
    "collapsed": true
   },
   "outputs": [],
   "source": [
    "def load_output_file(path_csv):\n",
    "    '''\n",
    "    Load lblnew output .csv file to xarray.Dataset\n",
    "    \n",
    "    Parameters\n",
    "    ----------\n",
    "    path_csv: str\n",
    "              Path to the .csv file to be loaded.\n",
    "    ds: xarray.Dataset\n",
    "        Data in the input file in the form of an xarray.Dataset.\n",
    "    '''\n",
    "    toindex = ['band', 'pressure', 'igg', 'g']    \n",
    "    df = pd.read_csv(path_csv, sep=r'\\s+')\n",
    "    df = df.set_index([i for i in toindex if i in df.columns])\n",
    "    df = df.rename(columns={'sfu': 'flug',\n",
    "                            'sfd': 'fldg',\n",
    "                            'fnet': 'fnetg',\n",
    "                            'coolr': 'coolrg'})\n",
    "    ds = xr.Dataset.from_dataframe(df)\n",
    "\n",
    "    for l in ('level', 'layer'):\n",
    "        if l in ds.data_vars:\n",
    "            if len(ds[l].dims) > 1:\n",
    "                surface = {d: 0 for d in ds.dims if d != 'pressure'}\n",
    "                coord_level = ds[l][surface]\n",
    "                ds.coords[l] = ('pressure', coord_level)\n",
    "            else:\n",
    "                ds.coords[l] = ('pressure', ds[l])\n",
    "    \n",
    "    return ds"
   ]
  },
  {
   "cell_type": "code",
   "execution_count": 282,
   "metadata": {
    "collapsed": true
   },
   "outputs": [],
   "source": [
    "def lblnew_setup(param=None):\n",
    "    if 'ng_refs' in param:\n",
    "        return {'setup': setup_bestfit,\n",
    "                'fname_flux_crd': 'output_flux.dat',\n",
    "                'fname_cool_crd': 'output_coolr.dat',\n",
    "                'fname_flux_wgt': 'output_wfluxg.dat',\n",
    "                'fname_cool_wgt': 'output_wcoolrg.dat'}\n",
    "    else:\n",
    "        return {'setup': setup_overlap,\n",
    "                'fname_flux_crd': 'output_flux.dat',\n",
    "                'fname_cool_crd': 'output_coolr.dat',\n",
    "                'fname_flux_wgt': 'output_wflux.dat',\n",
    "                'fname_cool_wgt': 'output_wcoolr.dat'}\n",
    "\n",
    "    \n",
    "def load_lblnew_data(param):\n",
    "    \n",
    "    fname_dsname = [('fname_flux_crd', 'ds_flux_crd'),\n",
    "                    ('fname_cool_crd', 'ds_cool_crd'),\n",
    "                    ('fname_flux_wgt', 'ds_flux_wgt'),\n",
    "                    ('fname_cool_wgt', 'ds_cool_wgt')]\n",
    "    \n",
    "    d = lblnew_setup(param)\n",
    "    dir_fortran = pipe_lblnew.get_dir_case(param, setup=d['setup'])\n",
    "    \n",
    "    data_dict = {}\n",
    "    for fname, dsname in fname_dsname:\n",
    "        fpath = os.path.join(dir_fortran, d[fname])\n",
    "        data_dict[dsname] = load_output_file(fpath)\n",
    "    return data_dict"
   ]
  },
  {
   "cell_type": "code",
   "execution_count": 283,
   "metadata": {
    "collapsed": true
   },
   "outputs": [],
   "source": [
    "def crd_data_atm(params_atm):\n",
    "    '''\n",
    "    Parameters\n",
    "    ----------\n",
    "    \n",
    "    params_atm: dict\n",
    "                Parameter dictionary for each band.\n",
    "                \n",
    "    d: dict\n",
    "       'flux': xr.Dataset. [pressure, band]\n",
    "               Fluxes.\n",
    "       'cool': xr.Dataset. [pressure, band]\n",
    "               Cooling rate.\n",
    "    \n",
    "    '''\n",
    "    \n",
    "    results_atm = {band: load_lblnew_data(param) \n",
    "                   for band, param in params_atm.items()}\n",
    "    \n",
    "    bands = [band for band, _ in params_atm.items()]\n",
    "    fluxs = [d['ds_flux_crd'] for _, d in results_atm.items()]\n",
    "    cools = [d['ds_cool_crd'] for _, d in results_atm.items()]\n",
    "    \n",
    "    d = {}\n",
    "    d['flux'] = xr.concat(fluxs, dim=bands).rename({'concat_dim': 'band'})\n",
    "    d['cool'] = xr.concat(cools, dim=bands).rename({'concat_dim': 'band'})\n",
    "    return d        \n",
    "        \n",
    "        \n",
    "\n",
    "def clirad_data_atm(params_atm):\n",
    "    \n",
    "    dirnames = [pipe_cliradlw.get_fortran_dir(param,\n",
    "                                              setup=setup_cliradlw)\n",
    "                for _, param in params_atm.items()]\n",
    "    \n",
    "    fpaths_flux = [os.path.join(n, 'output_flux.dat') for n in dirnames]\n",
    "    fpaths_cool = [os.path.join(n, 'output_coolr.dat') for n in dirnames]\n",
    "    \n",
    "    fluxs = [load_output_file(p) for p in fpaths_flux]    \n",
    "    cools = [load_output_file(p) for p in fpaths_cool]\n",
    "    \n",
    "    d = {}\n",
    "    d['flux'] = sum(fluxs)\n",
    "    d['cool'] = sum(cools)\n",
    "    return d\n",
    "\n"
   ]
  },
  {
   "cell_type": "code",
   "execution_count": 284,
   "metadata": {
    "collapsed": true
   },
   "outputs": [],
   "source": [
    "\n",
    "\n",
    "import rtmtools.clirad.sw.wrangle as cliradwrangle\n",
    "\n",
    "import importlib\n",
    "importlib.reload(cliradwrangle)\n",
    "\n",
    "def oldclirad_data_atm():\n",
    "    '''\n",
    "    Load the OLD clirad's results. mls only.\n",
    "    '''\n",
    "    fpath = os.path.join('/chia_cluster/home/jackyu/radiation',\n",
    "                         'clirad-lw',\n",
    "                         'LW',\n",
    "                         'examples',\n",
    "                         'mls75_h2o_atmpro_co2_.0004_o3_atmpro_n2o_3.2e-7_ch4_1.8e-6_H2012',\n",
    "                         'OUTPUT_CLIRAD.dat')\n",
    "    \n",
    "    ds = cliradwrangle.load_OUTPUT_CLIRAD(readfrom=fpath)\n",
    "    \n",
    "    ds_cool = xr.Dataset()\n",
    "    ds_cool.coords['pressure'] = ('pressure', ds['layer_pressure'])\n",
    "    ds_cool.coords['band'] = ('band', ds['spectral_band'])\n",
    "    ds_cool['coolrg'] = (('band', 'pressure'), - ds['heating_rate'])\n",
    "    \n",
    "    ds_flux = xr.Dataset()\n",
    "    ds_flux.coords['pressure'] = ('pressure', ds['level_pressure'])\n",
    "    ds_flux.coords['band'] = ('band', ds['spectral_band'])\n",
    "    ds_flux['flug'] = (('band', 'pressure'), ds['flux_up'])\n",
    "    ds_flux['fldg'] = (('band', 'pressure'), ds['flux_down'])\n",
    "    ds_flux['fnetg'] = (('band', 'pressure'), ds['net_flux'])\n",
    "    \n",
    "    \n",
    "    d = {}\n",
    "    d['cool'] = ds_cool\n",
    "    d['flux'] = ds_flux\n",
    "    return d\n"
   ]
  },
  {
   "cell_type": "code",
   "execution_count": 285,
   "metadata": {
    "collapsed": true
   },
   "outputs": [],
   "source": [
    "def fmt_cool(ds_in):\n",
    "    ds = ds_in.copy(deep=True)\n",
    "    if 'igg' in ds.dims:\n",
    "        ds = ds.sel(igg=1)\n",
    "\n",
    "    if 'g' in ds.dims:\n",
    "        ds = ds.sum('g')\n",
    "            \n",
    "    if 'band' in ds.dims:\n",
    "        try:\n",
    "            ds = ds.squeeze('band')\n",
    "        except ValueError:\n",
    "            ds = ds.sum('band')\n",
    "                \n",
    "    return ds['coolrg']\n",
    "\n",
    "\n",
    "\n",
    "def nice_xlims(pltdata=None, prange=None):\n",
    "    \n",
    "    def get_slice(srs):\n",
    "        return srs.sel(pressure=slice(*prange))\n",
    "    \n",
    "    srss = [d['srs'] for d in pltdata]\n",
    "    vmin = min([get_slice(srs).min() for srs in srss])\n",
    "    vmax = max([get_slice(srs).max() for srs in srss])\n",
    "    dv = (vmax - vmin) * .01\n",
    "    return float(vmin - dv), float(vmax + dv)\n",
    "\n",
    "\n",
    "    \n",
    "def plt_cool_bokeh(pltdata=None, \n",
    "                   y_axis_type='linear', prange=(50, 1050)):\n",
    "    \n",
    "    ymin = 1e-2 \n",
    "    ymax = 1020\n",
    "    \n",
    "    p2 = figure(y_axis_type=y_axis_type, plot_width=300)\n",
    "    xmin, xmax = nice_xlims(pltdata, prange=prange)\n",
    "    \n",
    "    rs = []\n",
    "    for d in pltdata:\n",
    "        rd = []\n",
    "        if 'marker' in d:\n",
    "            r_mark = getattr(p2, d['marker'])(d['srs'].values, \n",
    "                        d['srs'].coords['pressure'].values,\n",
    "                        color=d['color'], alpha=.7)\n",
    "            rd.append(r_mark)\n",
    "        r_line = p2.line(d['srs'].values, \n",
    "                         d['srs'].coords['pressure'].values,\n",
    "                         color=d['color'], alpha=d['alpha'], \n",
    "                         line_width=d['line_width'], \n",
    "                         line_dash=d['line_dash'])\n",
    "        rd.append(r_line)\n",
    "      \n",
    "        rs.append(rd)\n",
    "        \n",
    "    p2.y_range = Range1d(ymax, ymin)  \n",
    "    p2.yaxis.axis_label = 'pressure [mb]'\n",
    "    \n",
    "    p2.x_range = Range1d(xmin, xmax)\n",
    "    p2.xaxis.axis_label = 'cooling rate [K/day]'\n",
    "    \n",
    "    items = [(d['label'], r) for r, d in zip(rs, pltdata)]\n",
    "    legend = Legend(items=items, location=(10, 0))\n",
    "    legend.label_text_font_size = '8pt'\n",
    "    p2.add_layout(legend, 'above')\n",
    "    p2.legend.orientation = 'horizontal'\n",
    "    p2.legend.location = 'top_center'\n",
    "    \n",
    "    return p2"
   ]
  },
  {
   "cell_type": "code",
   "execution_count": 286,
   "metadata": {
    "collapsed": true
   },
   "outputs": [],
   "source": [
    "def pltdata_cool(atmpro='mls'):\n",
    "    \n",
    "    d_clirad = clirad_data_atm(clirad_params_atm(atmpro=atmpro))\n",
    "    d_crd = crd_data_atm(lblnew_params_atm(atmpro=atmpro))\n",
    "\n",
    "    ds_clirad = d_clirad['cool']\n",
    "    ds_crd = d_crd['cool']\n",
    "\n",
    "    colors = all_palettes['Set1'][4]\n",
    "    \n",
    "    data = [\n",
    "        {'label': 'CLIRAD',\n",
    "         'srs': fmt_cool(ds_clirad),\n",
    "         'line_dash': 'dashed', 'line_width': 5,\n",
    "         'color': colors[0], 'alpha': .6},\n",
    "        {'label': 'CRD',\n",
    "         'srs': fmt_cool(ds_crd),\n",
    "         'line_dash': 'solid', 'line_width': 1.5,\n",
    "         'marker': 'circle', 'marker_size': 5,\n",
    "         'color': colors[2], 'alpha': 1}\n",
    "    ]\n",
    "    \n",
    "    # include old CLIRAD's results for mls profile\n",
    "    if atmpro == 'mls':\n",
    "        d_oldclirad = oldclirad_data_atm()\n",
    "        ds_oldclirad = d_oldclirad['cool']        \n",
    "        data.append(\n",
    "            {'label': 'old CLIRAD (H2012)',\n",
    "             'srs': fmt_cool(ds_oldclirad),\n",
    "             'line_dash': 'solid', 'line_width': 1.5,\n",
    "             'marker': 'square', 'marker_size': 3,\n",
    "             'color': colors[1], 'alpha': .5})\n",
    "    return data\n",
    "\n",
    "\n",
    "def pltdata_cooldiff(atmpro='mls'):\n",
    "    \n",
    "    d_clirad = clirad_data_atm(clirad_params_atm(atmpro=atmpro))\n",
    "    d_crd = crd_data_atm(lblnew_params_atm(atmpro=atmpro))\n",
    "    \n",
    "    ds_clirad = d_clirad['cool']\n",
    "    ds_crd = d_crd['cool']\n",
    "    \n",
    "    ds_diff = ds_clirad - ds_crd\n",
    "    \n",
    "    colors = all_palettes['Set1'][4]\n",
    "    \n",
    "    data = [\n",
    "        {'label': 'CLIRAD - CRD',\n",
    "         'srs': fmt_cool(ds_diff),\n",
    "         'line_dash': 'solid', 'line_width': 1.5, \n",
    "         'marker': 'circle', 'marker_size': 7,\n",
    "         'color': colors[3], 'alpha': .8}\n",
    "    ]\n",
    "    \n",
    "    # include old CLIRAD's results for mls profile\n",
    "    if atmpro == 'mls':\n",
    "        d_oldclirad = oldclirad_data_atm()\n",
    "        ds_oldclirad = d_oldclirad['cool']\n",
    "        ds_oldclirad.coords['pressure'] = ds_crd.coords['pressure']\n",
    "        ds_diff_old = ds_oldclirad.sum('band') - ds_crd.sum('band')\n",
    "        data.append(\n",
    "            {'label': 'old CLIRAD (H2012) - CRD',\n",
    "             'srs': fmt_cool(ds_diff_old),\n",
    "             'line_dash': 'dashed', 'line_width': 4,\n",
    "             'color': colors[1], 'alpha': .5}\n",
    "        )\n",
    "    return data\n",
    "\n",
    "\n",
    "def show_cool(atmpro='mls'):\n",
    "    \n",
    "    data_cool = pltdata_cool(atmpro=atmpro)\n",
    "    p_cool_liny = plt_cool_bokeh(pltdata=data_cool)\n",
    "    p_cool_logy = plt_cool_bokeh(pltdata=data_cool, \n",
    "                                 y_axis_type='log',\n",
    "                                 prange=(.01, 200))\n",
    "    \n",
    "    data_cooldiff = pltdata_cooldiff(atmpro=atmpro)\n",
    "    p_cooldiff_logy = plt_cool_bokeh(pltdata=data_cooldiff,\n",
    "                                     y_axis_type='log',\n",
    "                                     prange=(.01, 200))\n",
    "    \n",
    "    everything = gridplot(p_cool_liny, p_cool_logy, \n",
    "                          p_cooldiff_logy,\n",
    "                          ncols=3)\n",
    "    show(everything)\n",
    "    display.display(\n",
    "        display.Markdown('*FIGURE.* Cooling rates & difference.'))\n",
    "\n",
    "\n",
    "    "
   ]
  },
  {
   "cell_type": "code",
   "execution_count": null,
   "metadata": {
    "collapsed": true
   },
   "outputs": [],
   "source": []
  },
  {
   "cell_type": "code",
   "execution_count": 287,
   "metadata": {
    "collapsed": true,
    "scrolled": false
   },
   "outputs": [],
   "source": [
    "\n",
    "\n",
    "def hist_band_vs_flux(da, title='Title'):\n",
    "       \n",
    "    bands = [str(b.values) for b in da['band']]\n",
    "\n",
    "    source = ColumnDataSource(\n",
    "        data={'band': bands, 'flux': da.values})\n",
    "\n",
    "    p = figure(x_range=bands, title=title)\n",
    "    p.vbar(source=source, x='band', top='flux', width=.9)\n",
    "\n",
    "    p.yaxis.axis_label = 'flux (W m-2)'\n",
    "    p.xaxis.axis_label = 'spectral band'\n",
    "    \n",
    "    return p\n",
    "\n",
    "\n",
    "def show_hist_flux(atmpro='mls'):\n",
    "    ds_crd = crd_data_atm(lblnew_params_atm(atmpro=atmpro))['flux']\n",
    "    ds_clirad = clirad_data_atm(\n",
    "        clirad_params_atm(atmpro=atmpro))['flux']\n",
    "    \n",
    "    ip, varname = 0, 'flug'\n",
    "    da = (ds_clirad - ds_crd).isel(pressure=ip)[varname]\n",
    "    p_toa = hist_band_vs_flux(da, title='TOA flux. CLIRAD - CRD.')\n",
    "\n",
    "    ip, varname = -1, 'fldg'\n",
    "    da = (ds_clirad - ds_crd).isel(pressure=ip)[varname]\n",
    "    p_sfc = hist_band_vs_flux(da, title='SFC flux. CLIRAD - CRD.')    \n",
    "    \n",
    "    atm_crd = (ds_crd.isel(pressure=0) \n",
    "               - ds_crd.isel(pressure=-1))['fnetg']\n",
    "    atm_clirad = (ds_clirad.isel(pressure=0) \n",
    "                  - ds_clirad.isel(pressure=-1))['fnetg']\n",
    "    da = atm_clirad - atm_crd\n",
    "    p_atm = hist_band_vs_flux(da, \n",
    "                              title='Atmosphere heating. CLIRAD - CRD.')\n",
    "\n",
    "    everything = gridplot(p_toa, p_sfc, p_atm, ncols=3, \n",
    "                          plot_width=300, plot_height=300)\n",
    "    \n",
    "    show(everything)\n",
    "    display.display(\n",
    "        display.Markdown('*FIGURE.* Difference between CLIRAD and CRD'\n",
    "          ' in TOA, SFC and net atmosphere flux,'\n",
    "          ' in each spectral band.'))\n",
    "\n",
    "\n",
    "    \n",
    "def show_tb_flux(atmpro='mls'):\n",
    "    ds_crd = crd_data_atm(lblnew_params_atm(atmpro=atmpro))['flux']\n",
    "    olr_crd = ds_crd['flug'].isel(pressure=0)\n",
    "    sfc_crd = ds_crd['fldg'].isel(pressure=-1)\n",
    "    atm_crd = (ds_crd.isel(pressure=0)\n",
    "               - ds_crd.isel(pressure=-1))['fnetg']\n",
    "    \n",
    "    ds_clirad = clirad_data_atm(\n",
    "        clirad_params_atm(atmpro=atmpro))['flux']\n",
    "    olr_clirad = ds_clirad['flug'].isel(pressure=0)\n",
    "    sfc_clirad = ds_clirad['fldg'].isel(pressure=-1)\n",
    "    atm_clirad = (ds_clirad.isel(pressure=0)\n",
    "                  - ds_clirad.isel(pressure=-1))['fnetg']\n",
    "    \n",
    "    if atmpro == 'mls':\n",
    "        ds_oldclirad = oldclirad_data_atm()['flux']\n",
    "        ds_oldclirad['pressure'] = ds_crd['pressure']\n",
    "        olr_oldclirad = ds_oldclirad['flug'].isel(pressure=0)\n",
    "        sfc_oldclirad = ds_oldclirad['fldg'].isel(pressure=-1)\n",
    "        atm_oldclirad = (ds_oldclirad.isel(pressure=0)\n",
    "                         - ds_oldclirad.isel(pressure=-1))['fnetg']\n",
    "        \n",
    "    \n",
    "    \n",
    "    df = pd.DataFrame()\n",
    "    df.index.name = 'Sum over bands'\n",
    "    \n",
    "    if atmpro == 'mls':\n",
    "        df.loc['old CLIRAD - CRD', 'OLR flux'] = (olr_oldclirad.sum('band') - olr_crd.sum('band')).values\n",
    "        df.loc['old CLIRAD - CRD', 'SFC flux'] = (sfc_oldclirad.sum('band') - sfc_crd.sum('band')).values\n",
    "        df.loc['old CLIRAD - CRD', 'ATM heating'] = (atm_oldclirad.sum('band') - atm_crd.sum('band')).values\n",
    "    \n",
    "    df.loc['CLIRAD - CRD', 'OLR flux'] = (olr_clirad - olr_crd).sum('band').values\n",
    "    df.loc['CLIRAD - CRD', 'SFC flux'] = (sfc_clirad - sfc_crd).sum('band').values\n",
    "    df.loc['CLIRAD - CRD', 'ATM heating'] = (atm_clirad - atm_crd).sum('band').values\n",
    "\n",
    "    df.loc['CRD', 'OLR flux'] = olr_crd.sum('band').values\n",
    "    df.loc['CRD', 'SFC flux'] = sfc_crd.sum('band').values\n",
    "    df.loc['CRD', 'ATM heating'] = atm_crd.sum('band').values\n",
    "        \n",
    "    df = df.astype('float').round(2)\n",
    "    \n",
    "    display.display(df)\n",
    "    display.display(\n",
    "        display.Markdown('*TABLE.* Difference between CLIRAD and CRD'\n",
    "          ' in TOA, SFC and net atmosphere flux,'\n",
    "          ' over all spectral bands. CRD\\'s'\n",
    "          ' TOA, SFC and net atmosphere flux,'\n",
    "          ' over all spectral bands.'))\n"
   ]
  },
  {
   "cell_type": "code",
   "execution_count": 288,
   "metadata": {
    "scrolled": false
   },
   "outputs": [
    {
     "data": {
      "text/markdown": [
       "## Results over entire range of molecules and spectral bands"
      ],
      "text/plain": [
       "<IPython.core.display.Markdown object>"
      ]
     },
     "metadata": {},
     "output_type": "display_data"
    },
    {
     "data": {
      "text/markdown": [
       "### Table of Contents"
      ],
      "text/plain": [
       "<IPython.core.display.Markdown object>"
      ]
     },
     "metadata": {},
     "output_type": "display_data"
    },
    {
     "data": {
      "text/html": [
       "<a href=\"#Makeup_of_atmosphere.\">Makeup of atmosphere.</a>"
      ],
      "text/plain": [
       "<IPython.core.display.HTML object>"
      ]
     },
     "metadata": {},
     "output_type": "display_data"
    },
    {
     "data": {
      "text/markdown": [
       "**mid-latitude summer**"
      ],
      "text/plain": [
       "<IPython.core.display.Markdown object>"
      ]
     },
     "metadata": {},
     "output_type": "display_data"
    },
    {
     "data": {
      "text/html": [
       "<a href=\"#Cooling_rates._mls.\">Cooling rates. mls.</a>"
      ],
      "text/plain": [
       "<IPython.core.display.HTML object>"
      ]
     },
     "metadata": {},
     "output_type": "display_data"
    },
    {
     "data": {
      "text/html": [
       "<a href=\"#Fluxes._mls.\">Fluxes. mls.</a>"
      ],
      "text/plain": [
       "<IPython.core.display.HTML object>"
      ]
     },
     "metadata": {},
     "output_type": "display_data"
    },
    {
     "data": {
      "text/markdown": [
       "**sub-arctic winter**"
      ],
      "text/plain": [
       "<IPython.core.display.Markdown object>"
      ]
     },
     "metadata": {},
     "output_type": "display_data"
    },
    {
     "data": {
      "text/html": [
       "<a href=\"#Cooling_rates._saw.\">Cooling rates. saw.</a>"
      ],
      "text/plain": [
       "<IPython.core.display.HTML object>"
      ]
     },
     "metadata": {},
     "output_type": "display_data"
    },
    {
     "data": {
      "text/html": [
       "<a href=\"#Fluxes._saw.\">Fluxes. saw.</a>"
      ],
      "text/plain": [
       "<IPython.core.display.HTML object>"
      ]
     },
     "metadata": {},
     "output_type": "display_data"
    },
    {
     "data": {
      "text/markdown": [
       "**tropical**"
      ],
      "text/plain": [
       "<IPython.core.display.Markdown object>"
      ]
     },
     "metadata": {},
     "output_type": "display_data"
    },
    {
     "data": {
      "text/html": [
       "<a href=\"#Cooling_rates._trp.\">Cooling rates. trp.</a>"
      ],
      "text/plain": [
       "<IPython.core.display.HTML object>"
      ]
     },
     "metadata": {},
     "output_type": "display_data"
    },
    {
     "data": {
      "text/html": [
       "<a href=\"#Fluxes._trp.\">Fluxes. trp.</a>"
      ],
      "text/plain": [
       "<IPython.core.display.HTML object>"
      ]
     },
     "metadata": {},
     "output_type": "display_data"
    },
    {
     "data": {
      "text/html": [
       "<a id=\"Makeup_of_atmosphere.\"></a>"
      ],
      "text/plain": [
       "<IPython.core.display.HTML object>"
      ]
     },
     "metadata": {},
     "output_type": "display_data"
    },
    {
     "data": {
      "text/markdown": [
       "# Makeup of atmosphere."
      ],
      "text/plain": [
       "<IPython.core.display.Markdown object>"
      ]
     },
     "metadata": {},
     "output_type": "display_data"
    },
    {
     "data": {
      "text/html": [
       "<div>\n",
       "<style scoped>\n",
       "    .dataframe tbody tr th:only-of-type {\n",
       "        vertical-align: middle;\n",
       "    }\n",
       "\n",
       "    .dataframe tbody tr th {\n",
       "        vertical-align: top;\n",
       "    }\n",
       "\n",
       "    .dataframe thead th {\n",
       "        text-align: right;\n",
       "    }\n",
       "</style>\n",
       "<table border=\"1\" class=\"dataframe\">\n",
       "  <thead>\n",
       "    <tr style=\"text-align: right;\">\n",
       "      <th>clirad band</th>\n",
       "      <th>1</th>\n",
       "      <th>2</th>\n",
       "      <th>3</th>\n",
       "      <th>4</th>\n",
       "      <th>5</th>\n",
       "      <th>6</th>\n",
       "      <th>7</th>\n",
       "      <th>8</th>\n",
       "      <th>9</th>\n",
       "      <th>10</th>\n",
       "      <th>11</th>\n",
       "    </tr>\n",
       "    <tr>\n",
       "      <th>molecule</th>\n",
       "      <th></th>\n",
       "      <th></th>\n",
       "      <th></th>\n",
       "      <th></th>\n",
       "      <th></th>\n",
       "      <th></th>\n",
       "      <th></th>\n",
       "      <th></th>\n",
       "      <th></th>\n",
       "      <th></th>\n",
       "      <th></th>\n",
       "    </tr>\n",
       "  </thead>\n",
       "  <tbody>\n",
       "    <tr>\n",
       "      <th>h2o</th>\n",
       "      <td>atmpro</td>\n",
       "      <td>atmpro</td>\n",
       "      <td>atmpro</td>\n",
       "      <td>atmpro</td>\n",
       "      <td>atmpro</td>\n",
       "      <td>atmpro</td>\n",
       "      <td>atmpro</td>\n",
       "      <td>atmpro</td>\n",
       "      <td>atmpro</td>\n",
       "      <td>atmpro</td>\n",
       "      <td>atmpro</td>\n",
       "    </tr>\n",
       "    <tr>\n",
       "      <th>co2</th>\n",
       "      <td>0</td>\n",
       "      <td>0</td>\n",
       "      <td>0.0004</td>\n",
       "      <td>0.0004</td>\n",
       "      <td>0.0004</td>\n",
       "      <td>0.0004</td>\n",
       "      <td>0.0004</td>\n",
       "      <td>0</td>\n",
       "      <td>0</td>\n",
       "      <td>0</td>\n",
       "      <td>0.0004</td>\n",
       "    </tr>\n",
       "    <tr>\n",
       "      <th>n2o</th>\n",
       "      <td>0</td>\n",
       "      <td>0</td>\n",
       "      <td>3.2e-07</td>\n",
       "      <td>0</td>\n",
       "      <td>0</td>\n",
       "      <td>0</td>\n",
       "      <td>0</td>\n",
       "      <td>0</td>\n",
       "      <td>3.2e-07</td>\n",
       "      <td>0</td>\n",
       "      <td>0</td>\n",
       "    </tr>\n",
       "    <tr>\n",
       "      <th>o3</th>\n",
       "      <td>0</td>\n",
       "      <td>0</td>\n",
       "      <td>0</td>\n",
       "      <td>0</td>\n",
       "      <td>0</td>\n",
       "      <td>0</td>\n",
       "      <td>atmpro</td>\n",
       "      <td>0</td>\n",
       "      <td>0</td>\n",
       "      <td>0</td>\n",
       "      <td>0</td>\n",
       "    </tr>\n",
       "    <tr>\n",
       "      <th>ch4</th>\n",
       "      <td>0</td>\n",
       "      <td>0</td>\n",
       "      <td>0</td>\n",
       "      <td>0</td>\n",
       "      <td>0</td>\n",
       "      <td>0</td>\n",
       "      <td>0</td>\n",
       "      <td>0</td>\n",
       "      <td>1.8e-06</td>\n",
       "      <td>0</td>\n",
       "      <td>0</td>\n",
       "    </tr>\n",
       "  </tbody>\n",
       "</table>\n",
       "</div>"
      ],
      "text/plain": [
       "clirad band      1       2        3       4       5       6       7       8   \\\n",
       "molecule                                                                       \n",
       "h2o          atmpro  atmpro   atmpro  atmpro  atmpro  atmpro  atmpro  atmpro   \n",
       "co2               0       0   0.0004  0.0004  0.0004  0.0004  0.0004       0   \n",
       "n2o               0       0  3.2e-07       0       0       0       0       0   \n",
       "o3                0       0        0       0       0       0  atmpro       0   \n",
       "ch4               0       0        0       0       0       0       0       0   \n",
       "\n",
       "clirad band       9       10      11  \n",
       "molecule                              \n",
       "h2o           atmpro  atmpro  atmpro  \n",
       "co2                0       0  0.0004  \n",
       "n2o          3.2e-07       0       0  \n",
       "o3                 0       0       0  \n",
       "ch4          1.8e-06       0       0  "
      ]
     },
     "metadata": {},
     "output_type": "display_data"
    },
    {
     "data": {
      "text/markdown": [
       "*TABLE.* The makeup of the atmosphere."
      ],
      "text/plain": [
       "<IPython.core.display.Markdown object>"
      ]
     },
     "metadata": {},
     "output_type": "display_data"
    },
    {
     "data": {
      "text/html": [
       "<a id=\"Cooling_rates._mls.\"></a>"
      ],
      "text/plain": [
       "<IPython.core.display.HTML object>"
      ]
     },
     "metadata": {},
     "output_type": "display_data"
    },
    {
     "data": {
      "text/markdown": [
       "# Cooling rates. mls."
      ],
      "text/plain": [
       "<IPython.core.display.Markdown object>"
      ]
     },
     "metadata": {},
     "output_type": "display_data"
    },
    {
     "data": {
      "text/html": [
       "\n",
       "<div class=\"bk-root\">\n",
       "    <div class=\"bk-plotdiv\" id=\"1e5b4827-c79d-4491-9e19-4ec10ab09ba0\"></div>\n",
       "</div>"
      ]
     },
     "metadata": {},
     "output_type": "display_data"
    },
    {
     "data": {
      "application/javascript": [
       "(function(root) {\n",
       "  function embed_document(root) {\n",
       "    \n",
       "  var docs_json = {\"6f52771f-35d1-4ada-88f0-85873e85a924\":{\"roots\":{\"references\":[{\"attributes\":{\"line_alpha\":0.1,\"line_color\":\"#1f77b4\",\"line_width\":1.5,\"x\":{\"field\":\"x\"},\"y\":{\"field\":\"y\"}},\"id\":\"dfcbc0d2-85fc-44af-aed7-c8f5bce17920\",\"type\":\"Line\"},{\"attributes\":{\"fill_alpha\":{\"value\":0.1},\"fill_color\":{\"value\":\"#1f77b4\"},\"line_alpha\":{\"value\":0.1},\"line_color\":{\"value\":\"#1f77b4\"},\"x\":{\"field\":\"x\"},\"y\":{\"field\":\"y\"}},\"id\":\"7f93047e-4e6d-4173-82d1-f16add13b00f\",\"type\":\"Square\"},{\"attributes\":{\"num_minor_ticks\":10},\"id\":\"bb3884a5-68fd-4dfb-ae17-620067252740\",\"type\":\"LogTicker\"},{\"attributes\":{\"overlay\":{\"id\":\"3f2b026e-bc86-4784-afba-dd083088b383\",\"type\":\"BoxAnnotation\"}},\"id\":\"89542836-8ed5-493a-b3c8-697e6ae49000\",\"type\":\"BoxZoomTool\"},{\"attributes\":{\"bottom_units\":\"screen\",\"fill_alpha\":{\"value\":0.5},\"fill_color\":{\"value\":\"lightgrey\"},\"left_units\":\"screen\",\"level\":\"overlay\",\"line_alpha\":{\"value\":1.0},\"line_color\":{\"value\":\"black\"},\"line_dash\":[4,4],\"line_width\":{\"value\":2},\"plot\":null,\"render_mode\":\"css\",\"right_units\":\"screen\",\"top_units\":\"screen\"},\"id\":\"3f2b026e-bc86-4784-afba-dd083088b383\",\"type\":\"BoxAnnotation\"},{\"attributes\":{\"line_alpha\":0.6,\"line_color\":\"#e41a1c\",\"line_dash\":[6],\"line_width\":5,\"x\":{\"field\":\"x\"},\"y\":{\"field\":\"y\"}},\"id\":\"5fd73114-c161-43df-a7f8-566e88bbcf29\",\"type\":\"Line\"},{\"attributes\":{},\"id\":\"9d75f39f-21bd-47cc-9dad-a81291314973\",\"type\":\"PanTool\"},{\"attributes\":{\"plot\":null,\"text\":\"\"},\"id\":\"f4d2d8ec-3250-4924-87f1-1d41e68ee413\",\"type\":\"Title\"},{\"attributes\":{\"source\":{\"id\":\"1661b4fb-68ee-4a34-8661-01b7cfbde8f6\",\"type\":\"ColumnDataSource\"}},\"id\":\"dd1fa6d4-6a80-413b-afdf-ef251a769cee\",\"type\":\"CDSView\"},{\"attributes\":{},\"id\":\"5f58fd0b-a640-4afa-8aed-2e533748d887\",\"type\":\"UnionRenderers\"},{\"attributes\":{\"axis_label\":\"pressure [mb]\",\"formatter\":{\"id\":\"910a473a-1b0a-49b7-b5a4-71cd8ccfc408\",\"type\":\"LogTickFormatter\"},\"plot\":{\"id\":\"d368cf78-8715-4aad-9729-787c3712f3c7\",\"subtype\":\"Figure\",\"type\":\"Plot\"},\"ticker\":{\"id\":\"bb3884a5-68fd-4dfb-ae17-620067252740\",\"type\":\"LogTicker\"}},\"id\":\"ba2b871a-3b53-4293-a1fb-8bfedc7d4bb5\",\"type\":\"LogAxis\"},{\"attributes\":{\"plot\":null,\"text\":\"\"},\"id\":\"ab39c447-682f-4d53-a1fe-f9d9011f81de\",\"type\":\"Title\"},{\"attributes\":{},\"id\":\"db7e6f5e-9fd2-48d6-aaf4-371333231120\",\"type\":\"ResetTool\"},{\"attributes\":{},\"id\":\"8c2dd5cc-6b41-4265-98da-06aa00289308\",\"type\":\"Selection\"},{\"attributes\":{\"ticker\":null},\"id\":\"910a473a-1b0a-49b7-b5a4-71cd8ccfc408\",\"type\":\"LogTickFormatter\"},{\"attributes\":{},\"id\":\"f54e8756-e91d-4885-986c-0e712bce60ec\",\"type\":\"Selection\"},{\"attributes\":{\"callback\":null,\"end\":0.01,\"start\":1020},\"id\":\"ddd1d701-3afd-4f9e-9d21-3e22595245a3\",\"type\":\"Range1d\"},{\"attributes\":{},\"id\":\"2eed481f-bb00-4a19-8c7b-618947133ad1\",\"type\":\"BasicTickFormatter\"},{\"attributes\":{\"ticker\":null},\"id\":\"63269de6-3c30-4cbd-874a-1601059312fa\",\"type\":\"LogTickFormatter\"},{\"attributes\":{},\"id\":\"1f37dfe6-9f80-45d6-a4f5-5a1d6712123c\",\"type\":\"WheelZoomTool\"},{\"attributes\":{\"above\":[{\"id\":\"245b6a31-ba6e-4b6e-bc37-8ff4e589628d\",\"type\":\"Legend\"}],\"below\":[{\"id\":\"4058599a-d149-4778-b837-c45afd141e1c\",\"type\":\"LinearAxis\"}],\"left\":[{\"id\":\"9eb60af0-f5f9-4684-8b3f-d0235812d582\",\"type\":\"LogAxis\"}],\"plot_width\":300,\"renderers\":[{\"id\":\"4058599a-d149-4778-b837-c45afd141e1c\",\"type\":\"LinearAxis\"},{\"id\":\"ff882da9-1c54-49f1-b093-7f7666a7470a\",\"type\":\"Grid\"},{\"id\":\"9eb60af0-f5f9-4684-8b3f-d0235812d582\",\"type\":\"LogAxis\"},{\"id\":\"f662f78f-5a04-47c7-862d-db1d0f956e35\",\"type\":\"Grid\"},{\"id\":\"8f29b5bc-7f76-4ab1-889a-e454c222d24d\",\"type\":\"BoxAnnotation\"},{\"id\":\"27d1e006-bc40-42e3-8531-a53cdec746f4\",\"type\":\"GlyphRenderer\"},{\"id\":\"252e9db9-3599-4327-a3e4-34b2ac32d9eb\",\"type\":\"GlyphRenderer\"},{\"id\":\"daed064b-00e8-4dfb-b8a5-9ee3cb008532\",\"type\":\"GlyphRenderer\"},{\"id\":\"245b6a31-ba6e-4b6e-bc37-8ff4e589628d\",\"type\":\"Legend\"}],\"title\":{\"id\":\"ab39c447-682f-4d53-a1fe-f9d9011f81de\",\"type\":\"Title\"},\"toolbar\":{\"id\":\"3303d317-c36e-4898-a24c-3d92d4f7d32d\",\"type\":\"Toolbar\"},\"toolbar_location\":null,\"x_range\":{\"id\":\"2ccbfd13-951b-405d-92ba-eca3dbba4e43\",\"type\":\"Range1d\"},\"x_scale\":{\"id\":\"9dbf930c-187f-436b-81a7-a4da74b9e3e0\",\"type\":\"LinearScale\"},\"y_range\":{\"id\":\"87b3a942-cee0-4d56-ae19-5f820682d287\",\"type\":\"Range1d\"},\"y_scale\":{\"id\":\"ae4517e8-7883-4217-8401-5cc77b1dacf8\",\"type\":\"LogScale\"}},\"id\":\"332c68da-652c-4500-9dd3-9c35d1d94553\",\"subtype\":\"Figure\",\"type\":\"Plot\"},{\"attributes\":{\"callback\":null,\"data\":{\"x\":{\"__ndarray__\":\"Ay4WgzmiRUAzdH4xyelCQI/4CCUPukFAmDQrpSkbQEAzbNWwowU8QFVgF/XlEDdAoDiHgYPLMUABmdymgcIpQGLYd07xCSJArfSs310nGkAWc9HvWtkUQOusy4pytBFAJqIBIKFJDUB2OQnHDJMDQMl96Kg58fU/43VcVuWK+j82Bjz+TzEFQNyoIwf3DQtAy+LYYlLgEEBpIj3ZQhcWQG2pjOCj/R1Af3bvKgrVJEABDCYXO8wqQEzO0e7F+ylAYXLSO7hOJEAgnb4nokcgQNoX8+gOZBtA1Mo1E7QFFkBNX8S4nigRQOo4z07g4AtAipA4vs4ICEB/nUqZ58sCQFWembm6Bfo/xtoM8LVF8T+FTjDicHrnPwW0NlGD6Ns/djxG7dEQzT/kgWfK0UXAP04e7p6uAKO/U8LMJsVjyb/9SNhTfdyDv6yHiyRvwuc/YH/Q96J+9z8fz8lq9RYAQHNa8arPlwFA6C5g8skGAEDf2G6Pg0P+Pzx05xsQIv0/aqvhULpq/D9/cRIK1jv8P0N2gFVlV/w/l8yGPE/u+z8PyvyTInP7P5+BCjLJB/s/712TDke9+j855FpFY4f6P7S7Qdxnhfo/BEctRHOb+z/jcb7JUHz8P62m1jeD/vw/Kl5ga3r9/D8lrYwPuV38Pz+eRmufRvs/QIGudyMW+j/FXLa7nv/4P2WVJw9Rbfg/CejmZKc8+D+aZMjXvDf4PwzcqrkWtPc/y2300tGk9j+PCzl883P1P+ux3ZfUiPQ/9dhElUIR9D9+kji0k0T0P9hVz+l87/o/\",\"dtype\":\"float64\",\"shape\":[75]},\"y\":{\"__ndarray__\":\"S/O/Q+51ND/Sv8nbtpRIP2vylNV0PVE/aTum7souWD/At0SJ8fVgPw3Iuahxymc/MSNhhJWvcD/bTfBN02d3P2zb5nxnaoA/CD5h5MAGhz8NmeH1TyaQP+zrCsc9p5Y/LbKd76fGnz/bLW5ISEmmPww9YvTcQq8/JV2OstnstT8Er5Y7M8G+P0c+r3jqkcU/5h99k6ZBzj88bCIzFzjVP4enV8oyxN0//yH99nXg5D8qOpLLf0jtP5kqGJXUifQ/c9cS8kHP/D+/DpwzojQEQIEmwoanVwxA4lgXt9HgE0BSSZ2AJuIbQAMJih9jjiNA5q4l5INuK0AwTKYKRj0zQNv5fmq8/DpAaCJseHrtQkB/+zpwzoxKQM3MzMzMeFJAZmZmZmZqWEAAAAAAAFxeQM3MzMzMJmJAmpmZmZkfZUBmZmZmZhhoQDMzMzMzEWtAAAAAAAAKbkBmZmZmZoFwQM3MzMzM/XFAMzMzMzN6c0CamZmZmfZ0QAAAAAAAc3ZAZmZmZmbvd0DNzMzMzGt5QDMzMzMz6HpAmpmZmZlkfEAAAAAAAOF9QGZmZmZmXX9AZmZmZuZsgECamZmZGSuBQM3MzMxM6YFAAAAAAICngkAzMzMzs2WDQGZmZmbmI4RAmpmZmRnihEDNzMzMTKCFQAAAAACAXoZAMzMzM7Mch0BmZmZm5tqHQJqZmZkZmYhAzczMzExXiUAAAAAAgBWKQDMzMzOz04pAZmZmZuaRi0CamZmZGVCMQM3MzMxMDo1AAAAAAIDMjUAzMzMzs4qOQGZmZmbmSI9A\",\"dtype\":\"float64\",\"shape\":[75]}},\"selected\":{\"id\":\"3edce6ed-f770-4e98-abce-549c775340d7\",\"type\":\"Selection\"},\"selection_policy\":{\"id\":\"853a9fe0-595b-4f57-bc0c-4a21c29d9943\",\"type\":\"UnionRenderers\"}},\"id\":\"089e8435-3599-4476-80b0-df82f571873a\",\"type\":\"ColumnDataSource\"},{\"attributes\":{},\"id\":\"6ca7679e-7abc-47f3-a4fc-ae3c4eb58a6d\",\"type\":\"UnionRenderers\"},{\"attributes\":{\"dimension\":1,\"plot\":{\"id\":\"d368cf78-8715-4aad-9729-787c3712f3c7\",\"subtype\":\"Figure\",\"type\":\"Plot\"},\"ticker\":{\"id\":\"bb3884a5-68fd-4dfb-ae17-620067252740\",\"type\":\"LogTicker\"}},\"id\":\"b079c0a8-eea1-49ca-99b5-9af8d0376e79\",\"type\":\"Grid\"},{\"attributes\":{\"callback\":null,\"data\":{\"x\":{\"__ndarray__\":\"MXhf+wfXU0AZbvNjswdFQLQWsEQVdUFA5TlpnhT9QUB/x1dOYK05QImjxHmcEjZA9jYDSBB3L0AISPl4H6wqQBPuuwfAzyJAOcHprUZAIUB7WWpkesAXQJoT1Uq+ChVArO/8u0EXCkBgVNlshzgCQMeNQ+Nzu/I/POwv1Qzh+D9QxMRmcj8DQOrE7tC4mAxAQsLBRIlHEkAi4cPYoDEXQEeDpjRjzB1ASZ0GEfCuI0DVFj11sssnQOMiVKSMHyhAWRHvUxNoJEDo8cjD4g8gQLGGvR2NDRpAdpI3nV5oFECtyWH9Lp4QQIZQd9bvmwtAkshlnu1BBkBMysnQf1UAQHZJU/DYZ/c/HoEhV+G48T/rSm4vc/TmP3EgV4cD49g/xmy6+4w7zz+bEsjh3uDDPw5SRMRogKs/4GPKdPc1a78lazVXN1vCP/B84ODeUug/LOyxgXDV9z+/DBHyZAwAQAOIY+fy/QFAahF3XKCUAECV0GHvGsz+P+X4k4Nhvf0/RO/IqI98/T8rkW+v/zT9P59vGMDsAv0/zEX7plCY/D/E3siS8kj7P2yUMv+hDvs/RmrXDaYs+z+c9f5GCO36P58nVCbr7vo/Qus8hbcy/D+rD5hFMCf9P4t6dxofnPw/bRp4QYZ2/D/q8NNiN2b8P5YTVw9ESPw/l1Dy0X/K+j+WKih3ZdD5P2k8OYxHjvk/hceGh5N4+T8lpPahWSn5P6vJnePt4vY/UuhmxnXI9T8miFqdE+D0Pz7qfx5CR/Q/0khvq2US9D9LfVdHQGv0P9syeEmwYfg/\",\"dtype\":\"float64\",\"shape\":[75]},\"y\":{\"__ndarray__\":\"hLndy31yND/6fmq8dJNIP8n9DkWBPlE/aDum7souWD/b4a/JGvVgP9f34SAhymc/ZvM4DOavcD+z0M5pFmh3PxuC4zJuaoA/xjcUPlsHhz8uHAjJAiaQP9ieWRKgppY/oI7HDFTGnz+a5h2n6EimPzS6g9iZQq8/IuAQqtTstT9SSZ2AJsK+P4nS3uALk8U/ih9j7lpCzj+ASL99HTjVP4enV8oyxN0/ACL99nXg5D9fmEwVjErtPyUGgZVDi/Q/AiuHFtnO/D9OYhBYOTQEQPHSTWIQWAxA4XoUrkfhE0D8qfHSTeIbQMh2vp8ajyNArkfhehRuK0Bcj8L1KDwzQFyPwvUo/DpAPgrXo3DtQkDNzMzMzIxKQClcj8L1eFJAKVyPwvVoWECamZmZmVleQGZmZmZmJmJAAAAAAAAgZUCamZmZmRloQJqZmZmZEWtAmpmZmZkJbkCamZmZmYFwQGZmZmZm/nFAZmZmZmZ6c0BmZmZmZvZ0QDQzMzMzc3ZAAAAAAADwd0AAAAAAAGx5QAAAAAAA6HpAzMzMzMxkfEDMzMzMzOB9QM3MzMzMXH9AzczMzMxsgEAzMzMzMyuBQDMzMzMz6YFAMzMzMzOngkCamZmZmWWDQAAAAAAAJIRAAAAAAADihEAAAAAAAKCFQGZmZmZmXoZAzczMzMwch0DNzMzMzNqHQM3MzMzMmIhAMzMzMzNXiUCamZmZmRWKQAAAAAAA1IpAAAAAAACSi0AAAAAAAFCMQGZmZmZmDo1AzczMzMzMjUDNzMzMzIqOQM3MzMzMSI9A\",\"dtype\":\"float64\",\"shape\":[75]}},\"selected\":{\"id\":\"8c2dd5cc-6b41-4265-98da-06aa00289308\",\"type\":\"Selection\"},\"selection_policy\":{\"id\":\"3dffd6e5-4f2a-4ace-a166-7df93e90ca25\",\"type\":\"UnionRenderers\"}},\"id\":\"0f86c2ff-d166-48b0-bfec-60e8a9513cb2\",\"type\":\"ColumnDataSource\"},{\"attributes\":{},\"id\":\"d978fbc0-b5d7-405e-a0fb-7523c29758f5\",\"type\":\"Selection\"},{\"attributes\":{\"line_alpha\":0.5,\"line_color\":\"#377eb8\",\"line_width\":1.5,\"x\":{\"field\":\"x\"},\"y\":{\"field\":\"y\"}},\"id\":\"f480a792-9337-4e0d-8653-762430790193\",\"type\":\"Line\"},{\"attributes\":{},\"id\":\"a387a43d-7f24-4cf9-8a04-2003d1a5a48d\",\"type\":\"Selection\"},{\"attributes\":{\"data_source\":{\"id\":\"0f86c2ff-d166-48b0-bfec-60e8a9513cb2\",\"type\":\"ColumnDataSource\"},\"glyph\":{\"id\":\"f480a792-9337-4e0d-8653-762430790193\",\"type\":\"Line\"},\"hover_glyph\":null,\"muted_glyph\":null,\"nonselection_glyph\":{\"id\":\"dfcbc0d2-85fc-44af-aed7-c8f5bce17920\",\"type\":\"Line\"},\"selection_glyph\":null,\"view\":{\"id\":\"0506398e-f653-4869-b3c9-97cdab3631f0\",\"type\":\"CDSView\"}},\"id\":\"d4a38865-7f73-47d0-aa04-330935e56647\",\"type\":\"GlyphRenderer\"},{\"attributes\":{},\"id\":\"d2cd5933-e006-44fd-8002-a4c2ee01e59e\",\"type\":\"SaveTool\"},{\"attributes\":{},\"id\":\"9eec2ccd-39b5-43d9-9101-daae1fe6cd1f\",\"type\":\"ResetTool\"},{\"attributes\":{},\"id\":\"9dbf930c-187f-436b-81a7-a4da74b9e3e0\",\"type\":\"LinearScale\"},{\"attributes\":{},\"id\":\"8c21f6b2-f420-4cf9-9034-68babc4552a2\",\"type\":\"Selection\"},{\"attributes\":{},\"id\":\"9a2a97ea-4832-430e-b95a-a3383aad3855\",\"type\":\"Selection\"},{\"attributes\":{},\"id\":\"68ccdb83-d722-4de6-bdeb-be433f11d669\",\"type\":\"PanTool\"},{\"attributes\":{},\"id\":\"f6c0ac06-294b-474c-b93b-409079335c1c\",\"type\":\"UnionRenderers\"},{\"attributes\":{\"children\":[{\"id\":\"8a072a27-f0bc-40dd-9554-af7a21c5b0fa\",\"type\":\"Row\"}]},\"id\":\"b8ea7f30-434c-4ce1-becf-7c09c0736916\",\"type\":\"Column\"},{\"attributes\":{\"line_alpha\":0.1,\"line_color\":\"#1f77b4\",\"line_dash\":[6],\"line_width\":5,\"x\":{\"field\":\"x\"},\"y\":{\"field\":\"y\"}},\"id\":\"17ccb0d6-50b5-4abe-9ab7-47210899e7ba\",\"type\":\"Line\"},{\"attributes\":{},\"id\":\"e3b0dfa4-af85-4a33-a7c2-ea1c444ab324\",\"type\":\"UnionRenderers\"},{\"attributes\":{},\"id\":\"b08b1786-8196-43d8-b0fa-69a9ae9270d1\",\"type\":\"SaveTool\"},{\"attributes\":{\"children\":[{\"id\":\"d5d27fe0-0a11-4a87-9b64-97295adb798e\",\"subtype\":\"Figure\",\"type\":\"Plot\"},{\"id\":\"d368cf78-8715-4aad-9729-787c3712f3c7\",\"subtype\":\"Figure\",\"type\":\"Plot\"},{\"id\":\"332c68da-652c-4500-9dd3-9c35d1d94553\",\"subtype\":\"Figure\",\"type\":\"Plot\"}]},\"id\":\"8a072a27-f0bc-40dd-9554-af7a21c5b0fa\",\"type\":\"Row\"},{\"attributes\":{\"bottom_units\":\"screen\",\"fill_alpha\":{\"value\":0.5},\"fill_color\":{\"value\":\"lightgrey\"},\"left_units\":\"screen\",\"level\":\"overlay\",\"line_alpha\":{\"value\":1.0},\"line_color\":{\"value\":\"black\"},\"line_dash\":[4,4],\"line_width\":{\"value\":2},\"plot\":null,\"render_mode\":\"css\",\"right_units\":\"screen\",\"top_units\":\"screen\"},\"id\":\"cd575cba-8e74-499f-8bbc-1451130f85fe\",\"type\":\"BoxAnnotation\"},{\"attributes\":{},\"id\":\"37286402-c20c-4667-bee9-58196f661106\",\"type\":\"WheelZoomTool\"},{\"attributes\":{},\"id\":\"82a5aeb4-94da-4d96-bca2-3aa3ab81197b\",\"type\":\"Selection\"},{\"attributes\":{},\"id\":\"312d41ed-96f2-490f-b0b1-c01109b1438e\",\"type\":\"Selection\"},{\"attributes\":{},\"id\":\"2397027f-72c1-49f8-b0b0-71faf591e18f\",\"type\":\"HelpTool\"},{\"attributes\":{},\"id\":\"050e1ad9-9c5d-4a84-a526-d7169e2b686c\",\"type\":\"HelpTool\"},{\"attributes\":{\"axis_label\":\"cooling rate [K/day]\",\"formatter\":{\"id\":\"78b71055-6ae5-4fbc-97a0-fcf10af7cf2c\",\"type\":\"BasicTickFormatter\"},\"plot\":{\"id\":\"332c68da-652c-4500-9dd3-9c35d1d94553\",\"subtype\":\"Figure\",\"type\":\"Plot\"},\"ticker\":{\"id\":\"fd4d3153-a21c-47f8-91cb-521adaab4d48\",\"type\":\"BasicTicker\"}},\"id\":\"4058599a-d149-4778-b837-c45afd141e1c\",\"type\":\"LinearAxis\"},{\"attributes\":{\"fill_alpha\":{\"value\":0.7},\"fill_color\":{\"value\":\"#984ea3\"},\"line_alpha\":{\"value\":0.7},\"line_color\":{\"value\":\"#984ea3\"},\"x\":{\"field\":\"x\"},\"y\":{\"field\":\"y\"}},\"id\":\"be009266-d4b2-4ac9-920e-edfb4bb46d9e\",\"type\":\"Circle\"},{\"attributes\":{\"source\":{\"id\":\"0f86c2ff-d166-48b0-bfec-60e8a9513cb2\",\"type\":\"ColumnDataSource\"}},\"id\":\"0506398e-f653-4869-b3c9-97cdab3631f0\",\"type\":\"CDSView\"},{\"attributes\":{},\"id\":\"24d8168b-cf58-416d-ad56-6297d63c301a\",\"type\":\"UnionRenderers\"},{\"attributes\":{},\"id\":\"78b71055-6ae5-4fbc-97a0-fcf10af7cf2c\",\"type\":\"BasicTickFormatter\"},{\"attributes\":{},\"id\":\"2be8a09f-85cb-46a8-bd2d-0d66c1697e0c\",\"type\":\"UnionRenderers\"},{\"attributes\":{\"toolbar\":{\"id\":\"ddfee47d-11ba-4d87-874e-ca2c446a5754\",\"type\":\"ProxyToolbar\"},\"toolbar_location\":\"above\"},\"id\":\"697d5906-2013-4d04-9769-283e0d391fdb\",\"type\":\"ToolbarBox\"},{\"attributes\":{\"line_alpha\":0.6,\"line_color\":\"#e41a1c\",\"line_dash\":[6],\"line_width\":5,\"x\":{\"field\":\"x\"},\"y\":{\"field\":\"y\"}},\"id\":\"b4a17f32-0411-4fa0-b14c-e30d1a51dcc9\",\"type\":\"Line\"},{\"attributes\":{},\"id\":\"f3564a21-008e-4fa7-8ca4-1fe1466712ab\",\"type\":\"UnionRenderers\"},{\"attributes\":{},\"id\":\"82243e1a-8b77-4d66-9ab5-680612b9971f\",\"type\":\"UnionRenderers\"},{\"attributes\":{\"overlay\":{\"id\":\"cd575cba-8e74-499f-8bbc-1451130f85fe\",\"type\":\"BoxAnnotation\"}},\"id\":\"8304f1c0-9c47-49de-9ccd-ce65b5bdbe38\",\"type\":\"BoxZoomTool\"},{\"attributes\":{},\"id\":\"81cb19c2-fc9f-472d-a9a8-0715db877ec7\",\"type\":\"Selection\"},{\"attributes\":{\"callback\":null,\"end\":0.01,\"start\":1020},\"id\":\"87b3a942-cee0-4d56-ae19-5f820682d287\",\"type\":\"Range1d\"},{\"attributes\":{\"fill_alpha\":{\"value\":0.7},\"fill_color\":{\"value\":\"#377eb8\"},\"line_alpha\":{\"value\":0.7},\"line_color\":{\"value\":\"#377eb8\"},\"x\":{\"field\":\"x\"},\"y\":{\"field\":\"y\"}},\"id\":\"14a774b9-95b5-4c2b-a0e6-c0b464f21dd5\",\"type\":\"Square\"},{\"attributes\":{},\"id\":\"cba3575b-c14b-406c-9f5a-4830eaa59e9c\",\"type\":\"PanTool\"},{\"attributes\":{},\"id\":\"2e7b193b-7e55-4046-9a24-3cc06b04db60\",\"type\":\"Selection\"},{\"attributes\":{},\"id\":\"3dffd6e5-4f2a-4ace-a166-7df93e90ca25\",\"type\":\"UnionRenderers\"},{\"attributes\":{},\"id\":\"ecfc75fb-0643-4072-821e-3b2252b3a953\",\"type\":\"SaveTool\"},{\"attributes\":{\"callback\":null,\"data\":{\"x\":{\"__ndarray__\":\"Ay4WgzmiRUAzdH4xyelCQI/4CCUPukFAmDQrpSkbQEAzbNWwowU8QFVgF/XlEDdAoDiHgYPLMUABmdymgcIpQGLYd07xCSJArfSs310nGkAWc9HvWtkUQOusy4pytBFAJqIBIKFJDUB2OQnHDJMDQMl96Kg58fU/43VcVuWK+j82Bjz+TzEFQNyoIwf3DQtAy+LYYlLgEEBpIj3ZQhcWQG2pjOCj/R1Af3bvKgrVJEABDCYXO8wqQEzO0e7F+ylAYXLSO7hOJEAgnb4nokcgQNoX8+gOZBtA1Mo1E7QFFkBNX8S4nigRQOo4z07g4AtAipA4vs4ICEB/nUqZ58sCQFWembm6Bfo/xtoM8LVF8T+FTjDicHrnPwW0NlGD6Ns/djxG7dEQzT/kgWfK0UXAP04e7p6uAKO/U8LMJsVjyb/9SNhTfdyDv6yHiyRvwuc/YH/Q96J+9z8fz8lq9RYAQHNa8arPlwFA6C5g8skGAEDf2G6Pg0P+Pzx05xsQIv0/aqvhULpq/D9/cRIK1jv8P0N2gFVlV/w/l8yGPE/u+z8PyvyTInP7P5+BCjLJB/s/712TDke9+j855FpFY4f6P7S7Qdxnhfo/BEctRHOb+z/jcb7JUHz8P62m1jeD/vw/Kl5ga3r9/D8lrYwPuV38Pz+eRmufRvs/QIGudyMW+j/FXLa7nv/4P2WVJw9Rbfg/CejmZKc8+D+aZMjXvDf4PwzcqrkWtPc/y2300tGk9j+PCzl883P1P+ux3ZfUiPQ/9dhElUIR9D9+kji0k0T0P9hVz+l87/o/\",\"dtype\":\"float64\",\"shape\":[75]},\"y\":{\"__ndarray__\":\"S/O/Q+51ND/Sv8nbtpRIP2vylNV0PVE/aTum7souWD/At0SJ8fVgPw3Iuahxymc/MSNhhJWvcD/bTfBN02d3P2zb5nxnaoA/CD5h5MAGhz8NmeH1TyaQP+zrCsc9p5Y/LbKd76fGnz/bLW5ISEmmPww9YvTcQq8/JV2OstnstT8Er5Y7M8G+P0c+r3jqkcU/5h99k6ZBzj88bCIzFzjVP4enV8oyxN0//yH99nXg5D8qOpLLf0jtP5kqGJXUifQ/c9cS8kHP/D+/DpwzojQEQIEmwoanVwxA4lgXt9HgE0BSSZ2AJuIbQAMJih9jjiNA5q4l5INuK0AwTKYKRj0zQNv5fmq8/DpAaCJseHrtQkB/+zpwzoxKQM3MzMzMeFJAZmZmZmZqWEAAAAAAAFxeQM3MzMzMJmJAmpmZmZkfZUBmZmZmZhhoQDMzMzMzEWtAAAAAAAAKbkBmZmZmZoFwQM3MzMzM/XFAMzMzMzN6c0CamZmZmfZ0QAAAAAAAc3ZAZmZmZmbvd0DNzMzMzGt5QDMzMzMz6HpAmpmZmZlkfEAAAAAAAOF9QGZmZmZmXX9AZmZmZuZsgECamZmZGSuBQM3MzMxM6YFAAAAAAICngkAzMzMzs2WDQGZmZmbmI4RAmpmZmRnihEDNzMzMTKCFQAAAAACAXoZAMzMzM7Mch0BmZmZm5tqHQJqZmZkZmYhAzczMzExXiUAAAAAAgBWKQDMzMzOz04pAZmZmZuaRi0CamZmZGVCMQM3MzMxMDo1AAAAAAIDMjUAzMzMzs4qOQGZmZmbmSI9A\",\"dtype\":\"float64\",\"shape\":[75]}},\"selected\":{\"id\":\"d978fbc0-b5d7-405e-a0fb-7523c29758f5\",\"type\":\"Selection\"},\"selection_policy\":{\"id\":\"24d8168b-cf58-416d-ad56-6297d63c301a\",\"type\":\"UnionRenderers\"}},\"id\":\"26dc87f9-9f86-4e9b-bec6-ce77d84f5aa8\",\"type\":\"ColumnDataSource\"},{\"attributes\":{\"data_source\":{\"id\":\"089e8435-3599-4476-80b0-df82f571873a\",\"type\":\"ColumnDataSource\"},\"glyph\":{\"id\":\"5fd73114-c161-43df-a7f8-566e88bbcf29\",\"type\":\"Line\"},\"hover_glyph\":null,\"muted_glyph\":null,\"nonselection_glyph\":{\"id\":\"17ccb0d6-50b5-4abe-9ab7-47210899e7ba\",\"type\":\"Line\"},\"selection_glyph\":null,\"view\":{\"id\":\"d32bb1d2-049e-4a34-a712-b662e9260e88\",\"type\":\"CDSView\"}},\"id\":\"bb480d6c-5f81-4957-8fb7-17946ead7817\",\"type\":\"GlyphRenderer\"},{\"attributes\":{\"num_minor_ticks\":10},\"id\":\"01d1c066-f6ea-4b7a-9844-a7d6ff65197a\",\"type\":\"LogTicker\"},{\"attributes\":{\"callback\":null,\"data\":{\"x\":{\"__ndarray__\":\"MXhf+wfXU0AZbvNjswdFQLQWsEQVdUFA5TlpnhT9QUB/x1dOYK05QImjxHmcEjZA9jYDSBB3L0AISPl4H6wqQBPuuwfAzyJAOcHprUZAIUB7WWpkesAXQJoT1Uq+ChVArO/8u0EXCkBgVNlshzgCQMeNQ+Nzu/I/POwv1Qzh+D9QxMRmcj8DQOrE7tC4mAxAQsLBRIlHEkAi4cPYoDEXQEeDpjRjzB1ASZ0GEfCuI0DVFj11sssnQOMiVKSMHyhAWRHvUxNoJEDo8cjD4g8gQLGGvR2NDRpAdpI3nV5oFECtyWH9Lp4QQIZQd9bvmwtAkshlnu1BBkBMysnQf1UAQHZJU/DYZ/c/HoEhV+G48T/rSm4vc/TmP3EgV4cD49g/xmy6+4w7zz+bEsjh3uDDPw5SRMRogKs/4GPKdPc1a78lazVXN1vCP/B84ODeUug/LOyxgXDV9z+/DBHyZAwAQAOIY+fy/QFAahF3XKCUAECV0GHvGsz+P+X4k4Nhvf0/RO/IqI98/T8rkW+v/zT9P59vGMDsAv0/zEX7plCY/D/E3siS8kj7P2yUMv+hDvs/RmrXDaYs+z+c9f5GCO36P58nVCbr7vo/Qus8hbcy/D+rD5hFMCf9P4t6dxofnPw/bRp4QYZ2/D/q8NNiN2b8P5YTVw9ESPw/l1Dy0X/K+j+WKih3ZdD5P2k8OYxHjvk/hceGh5N4+T8lpPahWSn5P6vJnePt4vY/UuhmxnXI9T8miFqdE+D0Pz7qfx5CR/Q/0khvq2US9D9LfVdHQGv0P9syeEmwYfg/\",\"dtype\":\"float64\",\"shape\":[75]},\"y\":{\"__ndarray__\":\"hLndy31yND/6fmq8dJNIP8n9DkWBPlE/aDum7souWD/b4a/JGvVgP9f34SAhymc/ZvM4DOavcD+z0M5pFmh3PxuC4zJuaoA/xjcUPlsHhz8uHAjJAiaQP9ieWRKgppY/oI7HDFTGnz+a5h2n6EimPzS6g9iZQq8/IuAQqtTstT9SSZ2AJsK+P4nS3uALk8U/ih9j7lpCzj+ASL99HTjVP4enV8oyxN0/ACL99nXg5D9fmEwVjErtPyUGgZVDi/Q/AiuHFtnO/D9OYhBYOTQEQPHSTWIQWAxA4XoUrkfhE0D8qfHSTeIbQMh2vp8ajyNArkfhehRuK0Bcj8L1KDwzQFyPwvUo/DpAPgrXo3DtQkDNzMzMzIxKQClcj8L1eFJAKVyPwvVoWECamZmZmVleQGZmZmZmJmJAAAAAAAAgZUCamZmZmRloQJqZmZmZEWtAmpmZmZkJbkCamZmZmYFwQGZmZmZm/nFAZmZmZmZ6c0BmZmZmZvZ0QDQzMzMzc3ZAAAAAAADwd0AAAAAAAGx5QAAAAAAA6HpAzMzMzMxkfEDMzMzMzOB9QM3MzMzMXH9AzczMzMxsgEAzMzMzMyuBQDMzMzMz6YFAMzMzMzOngkCamZmZmWWDQAAAAAAAJIRAAAAAAADihEAAAAAAAKCFQGZmZmZmXoZAzczMzMwch0DNzMzMzNqHQM3MzMzMmIhAMzMzMzNXiUCamZmZmRWKQAAAAAAA1IpAAAAAAACSi0AAAAAAAFCMQGZmZmZmDo1AzczMzMzMjUDNzMzMzIqOQM3MzMzMSI9A\",\"dtype\":\"float64\",\"shape\":[75]}},\"selected\":{\"id\":\"2e7b193b-7e55-4046-9a24-3cc06b04db60\",\"type\":\"Selection\"},\"selection_policy\":{\"id\":\"e620771e-c6fb-49cf-b2e7-75d21d9fd954\",\"type\":\"UnionRenderers\"}},\"id\":\"1661b4fb-68ee-4a34-8661-01b7cfbde8f6\",\"type\":\"ColumnDataSource\"},{\"attributes\":{},\"id\":\"f1f6475d-f763-4d46-a111-d48e7e6f086c\",\"type\":\"UnionRenderers\"},{\"attributes\":{\"callback\":null,\"data\":{\"x\":{\"__ndarray__\":\"cm1sTMT3VEDEyvjosEJHQOKI6DjzCUNArgQWV9awPkB9Lm8XG3M4QEz+Qv6iYzNA7eV8HaPLLkCX1QHyTpMoQFBmYSYetiNAUB04GtGpH0AmFyVE5j8ZQJca9QPGqBNALJP+OOHHDEBNxaf7QF8AQKtislomWuw/cW2dcO6A9T/uJJvfPu0EQIaQLTI/JQ1AxGiII+PmEkCJvfVeuCsYQD6ZBhGbHB9AXQw69DTYJEAsubcwKucqQNuT9D5OmipAJyi3szEJJUBlNebh5WkgQDDcPHBr2xlArtlANXuQFEBdJadFHckQQI2Avh0ZsQtAjYiwt1rsBUCL0SDoVBgAQK6C0nEEjvc/CggLSme58T9sXU2orFPnP0v0JYz9Gdg/vT38vxYczD9nBQTe6kHHP1IhkEXJwKo/8OZnhCVAub+xtVgCpmqzP6DUpY6g0+k/PKK3T1h4+D8RTDjQc1EAQG/dAQs7TwJAQt2eHpPLAEBWEh074x//PyCap9ZSGf4/rEzaTySm/T+7aXhHRmr9P688KeqeNP0/ruZ4EemD/D8olrZcn9T7P0+vNc9hW/s/i9VVL+4P+z+0NzC24uz6P8731Kza8vo/xFf4SHzq+z+gYyHpvHb8P68ROkiFevw/BAjYdCga/D8AUp8VbW77P3JrF/nKmvo/qCQeGfq++T/dplwHJfn4P2G4p+Uva/g/OzZ0RqMZ+D8dmn/iar73P/OuA7Ka8PY/gaaeQHGn9T9hkyjAH1L0P3aZGhdAU/M/n8VP/g7P8j+90HxHNvfyPwhNBtgrqvk/\",\"dtype\":\"float64\",\"shape\":[75]},\"y\":{\"__ndarray__\":\"GhExyth1ND/Sv8nbtpRIP2vylNV0PVE/aTum7souWD/At0SJ8fVgPw3Iuahxymc/MSNhhJWvcD/bTfBN02d3P2zb5nxnaoA/CD5h5MAGhz8NmeH1TyaQP+zrCsc9p5Y/LbKd76fGnz/bLW5ISEmmPww9YvTcQq8/JV2OstnstT8Er5Y7M8G+P0c+r3jqkcU/5h99k6ZBzj88bCIzFzjVP4enV8oyxN0//yH99nXg5D8qOpLLf0jtP5kqGJXUifQ/c9cS8kHP/D+/DpwzojQEQIEmwoanVwxA4lgXt9HgE0BSSZ2AJuIbQAMJih9jjiNA5q4l5INuK0AwTKYKRj0zQNv5fmq8/DpAaCJseHrtQkB/+zpwzoxKQM3MzMzMeFJAZmZmZmZqWEAAAAAAAFxeQM3MzMzMJmJAmpmZmZkfZUBmZmZmZhhoQDMzMzMzEWtAAAAAAAAKbkBmZmZmZoFwQM3MzMzM/XFAMzMzMzN6c0CamZmZmfZ0QAAAAAAAc3ZAZmZmZmbvd0DNzMzMzGt5QDMzMzMz6HpAmpmZmZlkfEAAAAAAAOF9QGZmZmZmXX9AZmZmZuZsgECamZmZGSuBQM3MzMxM6YFAAAAAAICngkAzMzMzs2WDQGZmZmbmI4RAmpmZmRnihEDNzMzMTKCFQAAAAACAXoZAMzMzM7Mch0BmZmZm5tqHQJqZmZkZmYhAzczMzExXiUAAAAAAgBWKQDMzMzOz04pAZmZmZuaRi0CamZmZGVCMQM3MzMxMDo1AAAAAAIDMjUAzMzMzs4qOQGZmZmbmSI9A\",\"dtype\":\"float64\",\"shape\":[75]}},\"selected\":{\"id\":\"a61180da-6ed9-43ec-a788-029595a84323\",\"type\":\"Selection\"},\"selection_policy\":{\"id\":\"44b00d53-c429-4834-9790-158115cde58f\",\"type\":\"UnionRenderers\"}},\"id\":\"34506afd-c6ca-4025-8d7f-0ead8c1a8e0f\",\"type\":\"ColumnDataSource\"},{\"attributes\":{\"data_source\":{\"id\":\"1661b4fb-68ee-4a34-8661-01b7cfbde8f6\",\"type\":\"ColumnDataSource\"},\"glyph\":{\"id\":\"14a774b9-95b5-4c2b-a0e6-c0b464f21dd5\",\"type\":\"Square\"},\"hover_glyph\":null,\"muted_glyph\":null,\"nonselection_glyph\":{\"id\":\"7f93047e-4e6d-4173-82d1-f16add13b00f\",\"type\":\"Square\"},\"selection_glyph\":null,\"view\":{\"id\":\"dd1fa6d4-6a80-413b-afdf-ef251a769cee\",\"type\":\"CDSView\"}},\"id\":\"e598af3f-02cf-4d08-9b82-b1613c855136\",\"type\":\"GlyphRenderer\"},{\"attributes\":{},\"id\":\"853a9fe0-595b-4f57-bc0c-4a21c29d9943\",\"type\":\"UnionRenderers\"},{\"attributes\":{\"source\":{\"id\":\"34506afd-c6ca-4025-8d7f-0ead8c1a8e0f\",\"type\":\"ColumnDataSource\"}},\"id\":\"455b3dcd-476d-4e78-9e4f-11ab47e6a1cd\",\"type\":\"CDSView\"},{\"attributes\":{},\"id\":\"8a0541d5-e9bd-4362-9d3d-d9301ac172c8\",\"type\":\"WheelZoomTool\"},{\"attributes\":{\"above\":[{\"id\":\"f392c065-1af7-4fc0-8deb-65ab44d85cf9\",\"type\":\"Legend\"}],\"below\":[{\"id\":\"011a4498-08a2-4db0-b363-8540e3b6225e\",\"type\":\"LinearAxis\"}],\"left\":[{\"id\":\"ae88e8b9-5292-459a-af7c-81f8a7deed22\",\"type\":\"LinearAxis\"}],\"plot_width\":300,\"renderers\":[{\"id\":\"011a4498-08a2-4db0-b363-8540e3b6225e\",\"type\":\"LinearAxis\"},{\"id\":\"01984db5-c99c-4c0a-ace1-aab432003e79\",\"type\":\"Grid\"},{\"id\":\"ae88e8b9-5292-459a-af7c-81f8a7deed22\",\"type\":\"LinearAxis\"},{\"id\":\"2335d899-79fa-4df1-b551-e25b9214ce4b\",\"type\":\"Grid\"},{\"id\":\"cd575cba-8e74-499f-8bbc-1451130f85fe\",\"type\":\"BoxAnnotation\"},{\"id\":\"bb480d6c-5f81-4957-8fb7-17946ead7817\",\"type\":\"GlyphRenderer\"},{\"id\":\"fbf41d46-6568-4fcd-b96c-cd0a3e903fda\",\"type\":\"GlyphRenderer\"},{\"id\":\"4eeb2ddb-5e7f-4336-b764-862547460908\",\"type\":\"GlyphRenderer\"},{\"id\":\"e598af3f-02cf-4d08-9b82-b1613c855136\",\"type\":\"GlyphRenderer\"},{\"id\":\"d4a38865-7f73-47d0-aa04-330935e56647\",\"type\":\"GlyphRenderer\"},{\"id\":\"f392c065-1af7-4fc0-8deb-65ab44d85cf9\",\"type\":\"Legend\"}],\"title\":{\"id\":\"b8c676f1-d27d-4fc6-862e-0c54b8c40c65\",\"type\":\"Title\"},\"toolbar\":{\"id\":\"db49c72b-17ba-45e2-bc64-ff56c0b051f1\",\"type\":\"Toolbar\"},\"toolbar_location\":null,\"x_range\":{\"id\":\"4d6d79ac-9075-4cc0-a19d-ead12e9070e0\",\"type\":\"Range1d\"},\"x_scale\":{\"id\":\"10b6064f-95c8-41e1-917e-0d6373c5e296\",\"type\":\"LinearScale\"},\"y_range\":{\"id\":\"ddd1d701-3afd-4f9e-9d21-3e22595245a3\",\"type\":\"Range1d\"},\"y_scale\":{\"id\":\"5a7f70f1-cc33-4033-bbdf-0c5815a617d2\",\"type\":\"LinearScale\"}},\"id\":\"d5d27fe0-0a11-4a87-9b64-97295adb798e\",\"subtype\":\"Figure\",\"type\":\"Plot\"},{\"attributes\":{\"label\":{\"value\":\"old CLIRAD (H2012)\"},\"renderers\":[{\"id\":\"8e91ad80-4f43-4645-8368-78a4c7f767ae\",\"type\":\"GlyphRenderer\"},{\"id\":\"d136556a-6b7d-466b-b0fc-58aa1eef711f\",\"type\":\"GlyphRenderer\"}]},\"id\":\"63538a44-328b-4ac0-a0b1-cc6c08e0d73f\",\"type\":\"LegendItem\"},{\"attributes\":{\"line_alpha\":0.1,\"line_color\":\"#1f77b4\",\"line_dash\":[6],\"line_width\":5,\"x\":{\"field\":\"x\"},\"y\":{\"field\":\"y\"}},\"id\":\"d5f2a5f1-8b4b-47ca-aa70-addea54cde15\",\"type\":\"Line\"},{\"attributes\":{\"source\":{\"id\":\"09cbc4ed-06a3-40ab-99be-231e7870ecd6\",\"type\":\"ColumnDataSource\"}},\"id\":\"9ca4b46a-c3ef-47d9-ad21-474218668339\",\"type\":\"CDSView\"},{\"attributes\":{\"items\":[{\"id\":\"196575dd-6e72-4c76-adf6-bfda4b8fdb8c\",\"type\":\"LegendItem\"},{\"id\":\"61ce3f78-8ba5-4e9f-b25c-5cb5a40129c5\",\"type\":\"LegendItem\"}],\"label_text_font_size\":{\"value\":\"8pt\"},\"location\":\"top_center\",\"orientation\":\"horizontal\",\"plot\":{\"id\":\"332c68da-652c-4500-9dd3-9c35d1d94553\",\"subtype\":\"Figure\",\"type\":\"Plot\"}},\"id\":\"245b6a31-ba6e-4b6e-bc37-8ff4e589628d\",\"type\":\"Legend\"},{\"attributes\":{\"dimension\":1,\"plot\":{\"id\":\"332c68da-652c-4500-9dd3-9c35d1d94553\",\"subtype\":\"Figure\",\"type\":\"Plot\"},\"ticker\":{\"id\":\"01d1c066-f6ea-4b7a-9844-a7d6ff65197a\",\"type\":\"LogTicker\"}},\"id\":\"f662f78f-5a04-47c7-862d-db1d0f956e35\",\"type\":\"Grid\"},{\"attributes\":{\"overlay\":{\"id\":\"8f29b5bc-7f76-4ab1-889a-e454c222d24d\",\"type\":\"BoxAnnotation\"}},\"id\":\"622e9bd3-4195-4fd2-a91e-3c7907be2d5f\",\"type\":\"BoxZoomTool\"},{\"attributes\":{\"plot\":{\"id\":\"332c68da-652c-4500-9dd3-9c35d1d94553\",\"subtype\":\"Figure\",\"type\":\"Plot\"},\"ticker\":{\"id\":\"fd4d3153-a21c-47f8-91cb-521adaab4d48\",\"type\":\"BasicTicker\"}},\"id\":\"ff882da9-1c54-49f1-b093-7f7666a7470a\",\"type\":\"Grid\"},{\"attributes\":{\"callback\":null,\"end\":0.7323360194662635,\"start\":-1.576281364019664},\"id\":\"2ccbfd13-951b-405d-92ba-eca3dbba4e43\",\"type\":\"Range1d\"},{\"attributes\":{\"source\":{\"id\":\"089e8435-3599-4476-80b0-df82f571873a\",\"type\":\"ColumnDataSource\"}},\"id\":\"d32bb1d2-049e-4a34-a712-b662e9260e88\",\"type\":\"CDSView\"},{\"attributes\":{},\"id\":\"3edce6ed-f770-4e98-abce-549c775340d7\",\"type\":\"Selection\"},{\"attributes\":{\"axis_label\":\"pressure [mb]\",\"formatter\":{\"id\":\"63269de6-3c30-4cbd-874a-1601059312fa\",\"type\":\"LogTickFormatter\"},\"plot\":{\"id\":\"332c68da-652c-4500-9dd3-9c35d1d94553\",\"subtype\":\"Figure\",\"type\":\"Plot\"},\"ticker\":{\"id\":\"01d1c066-f6ea-4b7a-9844-a7d6ff65197a\",\"type\":\"LogTicker\"}},\"id\":\"9eb60af0-f5f9-4684-8b3f-d0235812d582\",\"type\":\"LogAxis\"},{\"attributes\":{\"label\":{\"value\":\"CRD\"},\"renderers\":[{\"id\":\"d1af4f16-b14b-4412-9706-b624e0ed608c\",\"type\":\"GlyphRenderer\"},{\"id\":\"b151501e-c5de-42f5-833b-e67b141c4143\",\"type\":\"GlyphRenderer\"}]},\"id\":\"768bebb5-1c79-45b2-ab40-1dcb5950cbf3\",\"type\":\"LegendItem\"},{\"attributes\":{\"callback\":null,\"data\":{\"x\":{\"__ndarray__\":\"Plrp3Z5jIcBKBfk9Qf4EwAhIBjTPV/g/re0xy0SUDEBKEKO2F2oNQEotRpaPLQNAtDasTSvz4j/Y3ph+zcLqv4miLOrMCfa/OZBOUS2a8b+Z2paSN0Xfv1rfYeD8N7A/VKELW16e2T/SMT3umRDfP8gh/JbbJ9Q/51E4qEcEoT9WPU9YQbrQv7cvfAWGNOC/FNnELayj4L8H/Z4Hc+/RvyD2rlRKVnm/oiytkRnvqr/asVgECtHTv8S4lvwuT9e/lyLME90hsb+NumOLN4rYP2kST9+NU9c/ZHxOx1zgtz+8LlyImOOXP/M/QDSg49A/o19OiZWc1T8r3Tg+sr3DPwNRi39W7Jy/pot48Rxicz/M/YUoLnSuP9PWP6lll34/EA5yTmTwq7/VHz/yu+C2v7idMclkh7m/zr7TrDXmtb+tZ9JQi4mwv8Fb5PyqNq+/RXg+tzI/nb9kXxACbO22vyPL1Yclmbi/Ni/HdfWLq7+VvARYV+iuvywUiu+ftrO/2INf1gPnsr90zRiVMqerv/ZCQ546s6K/UwZzLjJfmL8ZbMtKJ+aUvwLnnTDIqZS/eN5UNdxfmb8dBs8ktFybvzkwxDJBwpO/qA45dIJPVj+1n5LzvX+gP9DECtE+aqw/zGSrPX/prT+uWeZFjnqlPxImF6RXypU/0KnXZtHmWT8AGej+SwlBPzTnWDkPgoE/Lp8yUn1Unj87o+X0gG+oP3LpuEoSrK8/6IIHwTsdsj9OhzEMSFmzP2c1UW85I7Q/Hxy8y9bVtD8HjZAcEVW0Pw==\",\"dtype\":\"float64\",\"shape\":[74]},\"y\":{\"__ndarray__\":\"0r/J27aUSD9r8pTVdD1RP2k7pu7KLlg/wLdEifH1YD8NyLmoccpnPzEjYYSVr3A/203wTdNndz9s2+Z8Z2qAPwg+YeTABoc/DZnh9U8mkD/s6wrHPaeWPy2yne+nxp8/2y1uSEhJpj8MPWL03EKvPyVdjrLZ7LU/BK+WOzPBvj9HPq946pHFP+YffZOmQc4/PGwiMxc41T+Hp1fKMsTdP/8h/fZ14OQ/KjqSy39I7T+ZKhiV1In0P3PXEvJBz/w/vw6cM6I0BECBJsKGp1cMQOJYF7fR4BNAUkmdgCbiG0ADCYofY44jQOauJeSDbitAMEymCkY9M0Db+X5qvPw6QGgibHh67UJAf/s6cM6MSkDNzMzMzHhSQGZmZmZmalhAAAAAAABcXkDNzMzMzCZiQJqZmZmZH2VAZmZmZmYYaEAzMzMzMxFrQAAAAAAACm5AZmZmZmaBcEDNzMzMzP1xQDMzMzMzenNAmpmZmZn2dEAAAAAAAHN2QGZmZmZm73dAzczMzMxreUAzMzMzM+h6QJqZmZmZZHxAAAAAAADhfUBmZmZmZl1/QGZmZmbmbIBAmpmZmRkrgUDNzMzMTOmBQAAAAACAp4JAMzMzM7Nlg0BmZmZm5iOEQJqZmZkZ4oRAzczMzEyghUAAAAAAgF6GQDMzMzOzHIdAZmZmZubah0CamZmZGZmIQM3MzMxMV4lAAAAAAIAVikAzMzMzs9OKQGZmZmbmkYtAmpmZmRlQjEDNzMzMTA6NQAAAAACAzI1AMzMzM7OKjkBmZmZm5kiPQA==\",\"dtype\":\"float64\",\"shape\":[74]}},\"selected\":{\"id\":\"312d41ed-96f2-490f-b0b1-c01109b1438e\",\"type\":\"Selection\"},\"selection_policy\":{\"id\":\"82243e1a-8b77-4d66-9ab5-680612b9971f\",\"type\":\"UnionRenderers\"}},\"id\":\"5c951e3d-879d-40d5-ad29-d9123a33ca17\",\"type\":\"ColumnDataSource\"},{\"attributes\":{\"fill_alpha\":{\"value\":0.7},\"fill_color\":{\"value\":\"#4daf4a\"},\"line_alpha\":{\"value\":0.7},\"line_color\":{\"value\":\"#4daf4a\"},\"x\":{\"field\":\"x\"},\"y\":{\"field\":\"y\"}},\"id\":\"92e0686b-628c-409b-aa65-a1a9419637f8\",\"type\":\"Circle\"},{\"attributes\":{\"callback\":null,\"data\":{\"x\":{\"__ndarray__\":\"cm1sTMT3VEDEyvjosEJHQOKI6DjzCUNArgQWV9awPkB9Lm8XG3M4QEz+Qv6iYzNA7eV8HaPLLkCX1QHyTpMoQFBmYSYetiNAUB04GtGpH0AmFyVE5j8ZQJca9QPGqBNALJP+OOHHDEBNxaf7QF8AQKtislomWuw/cW2dcO6A9T/uJJvfPu0EQIaQLTI/JQ1AxGiII+PmEkCJvfVeuCsYQD6ZBhGbHB9AXQw69DTYJEAsubcwKucqQNuT9D5OmipAJyi3szEJJUBlNebh5WkgQDDcPHBr2xlArtlANXuQFEBdJadFHckQQI2Avh0ZsQtAjYiwt1rsBUCL0SDoVBgAQK6C0nEEjvc/CggLSme58T9sXU2orFPnP0v0JYz9Gdg/vT38vxYczD9nBQTe6kHHP1IhkEXJwKo/8OZnhCVAub+xtVgCpmqzP6DUpY6g0+k/PKK3T1h4+D8RTDjQc1EAQG/dAQs7TwJAQt2eHpPLAEBWEh074x//PyCap9ZSGf4/rEzaTySm/T+7aXhHRmr9P688KeqeNP0/ruZ4EemD/D8olrZcn9T7P0+vNc9hW/s/i9VVL+4P+z+0NzC24uz6P8731Kza8vo/xFf4SHzq+z+gYyHpvHb8P68ROkiFevw/BAjYdCga/D8AUp8VbW77P3JrF/nKmvo/qCQeGfq++T/dplwHJfn4P2G4p+Uva/g/OzZ0RqMZ+D8dmn/iar73P/OuA7Ka8PY/gaaeQHGn9T9hkyjAH1L0P3aZGhdAU/M/n8VP/g7P8j+90HxHNvfyPwhNBtgrqvk/\",\"dtype\":\"float64\",\"shape\":[75]},\"y\":{\"__ndarray__\":\"GhExyth1ND/Sv8nbtpRIP2vylNV0PVE/aTum7souWD/At0SJ8fVgPw3Iuahxymc/MSNhhJWvcD/bTfBN02d3P2zb5nxnaoA/CD5h5MAGhz8NmeH1TyaQP+zrCsc9p5Y/LbKd76fGnz/bLW5ISEmmPww9YvTcQq8/JV2OstnstT8Er5Y7M8G+P0c+r3jqkcU/5h99k6ZBzj88bCIzFzjVP4enV8oyxN0//yH99nXg5D8qOpLLf0jtP5kqGJXUifQ/c9cS8kHP/D+/DpwzojQEQIEmwoanVwxA4lgXt9HgE0BSSZ2AJuIbQAMJih9jjiNA5q4l5INuK0AwTKYKRj0zQNv5fmq8/DpAaCJseHrtQkB/+zpwzoxKQM3MzMzMeFJAZmZmZmZqWEAAAAAAAFxeQM3MzMzMJmJAmpmZmZkfZUBmZmZmZhhoQDMzMzMzEWtAAAAAAAAKbkBmZmZmZoFwQM3MzMzM/XFAMzMzMzN6c0CamZmZmfZ0QAAAAAAAc3ZAZmZmZmbvd0DNzMzMzGt5QDMzMzMz6HpAmpmZmZlkfEAAAAAAAOF9QGZmZmZmXX9AZmZmZuZsgECamZmZGSuBQM3MzMxM6YFAAAAAAICngkAzMzMzs2WDQGZmZmbmI4RAmpmZmRnihEDNzMzMTKCFQAAAAACAXoZAMzMzM7Mch0BmZmZm5tqHQJqZmZkZmYhAzczMzExXiUAAAAAAgBWKQDMzMzOz04pAZmZmZuaRi0CamZmZGVCMQM3MzMxMDo1AAAAAAIDMjUAzMzMzs4qOQGZmZmbmSI9A\",\"dtype\":\"float64\",\"shape\":[75]}},\"selected\":{\"id\":\"81cb19c2-fc9f-472d-a9a8-0715db877ec7\",\"type\":\"Selection\"},\"selection_policy\":{\"id\":\"f1f6475d-f763-4d46-a111-d48e7e6f086c\",\"type\":\"UnionRenderers\"}},\"id\":\"09cbc4ed-06a3-40ab-99be-231e7870ecd6\",\"type\":\"ColumnDataSource\"},{\"attributes\":{\"label\":{\"value\":\"CLIRAD\"},\"renderers\":[{\"id\":\"16471388-6bda-434f-bc41-cb9969513e89\",\"type\":\"GlyphRenderer\"}]},\"id\":\"d0603972-5247-4b34-8c01-1312c200510a\",\"type\":\"LegendItem\"},{\"attributes\":{},\"id\":\"e620771e-c6fb-49cf-b2e7-75d21d9fd954\",\"type\":\"UnionRenderers\"},{\"attributes\":{\"fill_alpha\":{\"value\":0.1},\"fill_color\":{\"value\":\"#1f77b4\"},\"line_alpha\":{\"value\":0.1},\"line_color\":{\"value\":\"#1f77b4\"},\"x\":{\"field\":\"x\"},\"y\":{\"field\":\"y\"}},\"id\":\"5cb83d00-8cfc-4127-95d0-a15da020e9e1\",\"type\":\"Circle\"},{\"attributes\":{},\"id\":\"fd4d3153-a21c-47f8-91cb-521adaab4d48\",\"type\":\"BasicTicker\"},{\"attributes\":{\"data_source\":{\"id\":\"34506afd-c6ca-4025-8d7f-0ead8c1a8e0f\",\"type\":\"ColumnDataSource\"},\"glyph\":{\"id\":\"92e0686b-628c-409b-aa65-a1a9419637f8\",\"type\":\"Circle\"},\"hover_glyph\":null,\"muted_glyph\":null,\"nonselection_glyph\":{\"id\":\"5cb83d00-8cfc-4127-95d0-a15da020e9e1\",\"type\":\"Circle\"},\"selection_glyph\":null,\"view\":{\"id\":\"455b3dcd-476d-4e78-9e4f-11ab47e6a1cd\",\"type\":\"CDSView\"}},\"id\":\"fbf41d46-6568-4fcd-b96c-cd0a3e903fda\",\"type\":\"GlyphRenderer\"},{\"attributes\":{\"line_alpha\":0.1,\"line_color\":\"#1f77b4\",\"line_dash\":[6],\"line_width\":4,\"x\":{\"field\":\"x\"},\"y\":{\"field\":\"y\"}},\"id\":\"928bf108-49af-4b19-a21c-22f486084210\",\"type\":\"Line\"},{\"attributes\":{\"line_alpha\":0.8,\"line_color\":\"#984ea3\",\"line_width\":1.5,\"x\":{\"field\":\"x\"},\"y\":{\"field\":\"y\"}},\"id\":\"75e45be3-9d4f-4139-a003-79f5a1f5fc1e\",\"type\":\"Line\"},{\"attributes\":{\"callback\":null,\"data\":{\"x\":{\"__ndarray__\":\"MXhf+wfXU0AZbvNjswdFQLQWsEQVdUFA5TlpnhT9QUB/x1dOYK05QImjxHmcEjZA9jYDSBB3L0AISPl4H6wqQBPuuwfAzyJAOcHprUZAIUB7WWpkesAXQJoT1Uq+ChVArO/8u0EXCkBgVNlshzgCQMeNQ+Nzu/I/POwv1Qzh+D9QxMRmcj8DQOrE7tC4mAxAQsLBRIlHEkAi4cPYoDEXQEeDpjRjzB1ASZ0GEfCuI0DVFj11sssnQOMiVKSMHyhAWRHvUxNoJEDo8cjD4g8gQLGGvR2NDRpAdpI3nV5oFECtyWH9Lp4QQIZQd9bvmwtAkshlnu1BBkBMysnQf1UAQHZJU/DYZ/c/HoEhV+G48T/rSm4vc/TmP3EgV4cD49g/xmy6+4w7zz+bEsjh3uDDPw5SRMRogKs/4GPKdPc1a78lazVXN1vCP/B84ODeUug/LOyxgXDV9z+/DBHyZAwAQAOIY+fy/QFAahF3XKCUAECV0GHvGsz+P+X4k4Nhvf0/RO/IqI98/T8rkW+v/zT9P59vGMDsAv0/zEX7plCY/D/E3siS8kj7P2yUMv+hDvs/RmrXDaYs+z+c9f5GCO36P58nVCbr7vo/Qus8hbcy/D+rD5hFMCf9P4t6dxofnPw/bRp4QYZ2/D/q8NNiN2b8P5YTVw9ESPw/l1Dy0X/K+j+WKih3ZdD5P2k8OYxHjvk/hceGh5N4+T8lpPahWSn5P6vJnePt4vY/UuhmxnXI9T8miFqdE+D0Pz7qfx5CR/Q/0khvq2US9D9LfVdHQGv0P9syeEmwYfg/\",\"dtype\":\"float64\",\"shape\":[75]},\"y\":{\"__ndarray__\":\"hLndy31yND/6fmq8dJNIP8n9DkWBPlE/aDum7souWD/b4a/JGvVgP9f34SAhymc/ZvM4DOavcD+z0M5pFmh3PxuC4zJuaoA/xjcUPlsHhz8uHAjJAiaQP9ieWRKgppY/oI7HDFTGnz+a5h2n6EimPzS6g9iZQq8/IuAQqtTstT9SSZ2AJsK+P4nS3uALk8U/ih9j7lpCzj+ASL99HTjVP4enV8oyxN0/ACL99nXg5D9fmEwVjErtPyUGgZVDi/Q/AiuHFtnO/D9OYhBYOTQEQPHSTWIQWAxA4XoUrkfhE0D8qfHSTeIbQMh2vp8ajyNArkfhehRuK0Bcj8L1KDwzQFyPwvUo/DpAPgrXo3DtQkDNzMzMzIxKQClcj8L1eFJAKVyPwvVoWECamZmZmVleQGZmZmZmJmJAAAAAAAAgZUCamZmZmRloQJqZmZmZEWtAmpmZmZkJbkCamZmZmYFwQGZmZmZm/nFAZmZmZmZ6c0BmZmZmZvZ0QDQzMzMzc3ZAAAAAAADwd0AAAAAAAGx5QAAAAAAA6HpAzMzMzMxkfEDMzMzMzOB9QM3MzMzMXH9AzczMzMxsgEAzMzMzMyuBQDMzMzMz6YFAMzMzMzOngkCamZmZmWWDQAAAAAAAJIRAAAAAAADihEAAAAAAAKCFQGZmZmZmXoZAzczMzMwch0DNzMzMzNqHQM3MzMzMmIhAMzMzMzNXiUCamZmZmRWKQAAAAAAA1IpAAAAAAACSi0AAAAAAAFCMQGZmZmZmDo1AzczMzMzMjUDNzMzMzIqOQM3MzMzMSI9A\",\"dtype\":\"float64\",\"shape\":[75]}},\"selected\":{\"id\":\"f54e8756-e91d-4885-986c-0e712bce60ec\",\"type\":\"Selection\"},\"selection_policy\":{\"id\":\"f6c0ac06-294b-474c-b93b-409079335c1c\",\"type\":\"UnionRenderers\"}},\"id\":\"405acebd-0760-42db-8f70-0cf96b9e7755\",\"type\":\"ColumnDataSource\"},{\"attributes\":{\"source\":{\"id\":\"30d5b061-e39f-4b34-9e1f-0b21f95a8f6e\",\"type\":\"ColumnDataSource\"}},\"id\":\"b1375126-337e-4a62-823d-49eea0b997ca\",\"type\":\"CDSView\"},{\"attributes\":{\"callback\":null,\"data\":{\"x\":{\"__ndarray__\":\"cm1sTMT3VEDEyvjosEJHQOKI6DjzCUNArgQWV9awPkB9Lm8XG3M4QEz+Qv6iYzNA7eV8HaPLLkCX1QHyTpMoQFBmYSYetiNAUB04GtGpH0AmFyVE5j8ZQJca9QPGqBNALJP+OOHHDEBNxaf7QF8AQKtislomWuw/cW2dcO6A9T/uJJvfPu0EQIaQLTI/JQ1AxGiII+PmEkCJvfVeuCsYQD6ZBhGbHB9AXQw69DTYJEAsubcwKucqQNuT9D5OmipAJyi3szEJJUBlNebh5WkgQDDcPHBr2xlArtlANXuQFEBdJadFHckQQI2Avh0ZsQtAjYiwt1rsBUCL0SDoVBgAQK6C0nEEjvc/CggLSme58T9sXU2orFPnP0v0JYz9Gdg/vT38vxYczD9nBQTe6kHHP1IhkEXJwKo/8OZnhCVAub+xtVgCpmqzP6DUpY6g0+k/PKK3T1h4+D8RTDjQc1EAQG/dAQs7TwJAQt2eHpPLAEBWEh074x//PyCap9ZSGf4/rEzaTySm/T+7aXhHRmr9P688KeqeNP0/ruZ4EemD/D8olrZcn9T7P0+vNc9hW/s/i9VVL+4P+z+0NzC24uz6P8731Kza8vo/xFf4SHzq+z+gYyHpvHb8P68ROkiFevw/BAjYdCga/D8AUp8VbW77P3JrF/nKmvo/qCQeGfq++T/dplwHJfn4P2G4p+Uva/g/OzZ0RqMZ+D8dmn/iar73P/OuA7Ka8PY/gaaeQHGn9T9hkyjAH1L0P3aZGhdAU/M/n8VP/g7P8j+90HxHNvfyPwhNBtgrqvk/\",\"dtype\":\"float64\",\"shape\":[75]},\"y\":{\"__ndarray__\":\"GhExyth1ND/Sv8nbtpRIP2vylNV0PVE/aTum7souWD/At0SJ8fVgPw3Iuahxymc/MSNhhJWvcD/bTfBN02d3P2zb5nxnaoA/CD5h5MAGhz8NmeH1TyaQP+zrCsc9p5Y/LbKd76fGnz/bLW5ISEmmPww9YvTcQq8/JV2OstnstT8Er5Y7M8G+P0c+r3jqkcU/5h99k6ZBzj88bCIzFzjVP4enV8oyxN0//yH99nXg5D8qOpLLf0jtP5kqGJXUifQ/c9cS8kHP/D+/DpwzojQEQIEmwoanVwxA4lgXt9HgE0BSSZ2AJuIbQAMJih9jjiNA5q4l5INuK0AwTKYKRj0zQNv5fmq8/DpAaCJseHrtQkB/+zpwzoxKQM3MzMzMeFJAZmZmZmZqWEAAAAAAAFxeQM3MzMzMJmJAmpmZmZkfZUBmZmZmZhhoQDMzMzMzEWtAAAAAAAAKbkBmZmZmZoFwQM3MzMzM/XFAMzMzMzN6c0CamZmZmfZ0QAAAAAAAc3ZAZmZmZmbvd0DNzMzMzGt5QDMzMzMz6HpAmpmZmZlkfEAAAAAAAOF9QGZmZmZmXX9AZmZmZuZsgECamZmZGSuBQM3MzMxM6YFAAAAAAICngkAzMzMzs2WDQGZmZmbmI4RAmpmZmRnihEDNzMzMTKCFQAAAAACAXoZAMzMzM7Mch0BmZmZm5tqHQJqZmZkZmYhAzczMzExXiUAAAAAAgBWKQDMzMzOz04pAZmZmZuaRi0CamZmZGVCMQM3MzMxMDo1AAAAAAIDMjUAzMzMzs4qOQGZmZmbmSI9A\",\"dtype\":\"float64\",\"shape\":[75]}},\"selected\":{\"id\":\"2e8c0714-ea0a-49ed-af07-df742175db68\",\"type\":\"Selection\"},\"selection_policy\":{\"id\":\"e3b0dfa4-af85-4a33-a7c2-ea1c444ab324\",\"type\":\"UnionRenderers\"}},\"id\":\"9ce1f624-fb52-4fb4-b13b-5f85032827a3\",\"type\":\"ColumnDataSource\"},{\"attributes\":{\"fill_alpha\":{\"value\":0.1},\"fill_color\":{\"value\":\"#1f77b4\"},\"line_alpha\":{\"value\":0.1},\"line_color\":{\"value\":\"#1f77b4\"},\"x\":{\"field\":\"x\"},\"y\":{\"field\":\"y\"}},\"id\":\"b39f2910-aa35-4ca7-9b3c-8f8aebc4d225\",\"type\":\"Square\"},{\"attributes\":{\"plot\":null,\"text\":\"\"},\"id\":\"b8c676f1-d27d-4fc6-862e-0c54b8c40c65\",\"type\":\"Title\"},{\"attributes\":{\"source\":{\"id\":\"405acebd-0760-42db-8f70-0cf96b9e7755\",\"type\":\"ColumnDataSource\"}},\"id\":\"f16d9f2b-9164-425a-8fb5-20043c7d24d9\",\"type\":\"CDSView\"},{\"attributes\":{\"axis_label\":\"pressure [mb]\",\"formatter\":{\"id\":\"bf68f879-eadd-4140-8b10-51dcbf436634\",\"type\":\"BasicTickFormatter\"},\"plot\":{\"id\":\"d5d27fe0-0a11-4a87-9b64-97295adb798e\",\"subtype\":\"Figure\",\"type\":\"Plot\"},\"ticker\":{\"id\":\"07389a5e-c1cb-465e-9273-3aa484807eeb\",\"type\":\"BasicTicker\"}},\"id\":\"ae88e8b9-5292-459a-af7c-81f8a7deed22\",\"type\":\"LinearAxis\"},{\"attributes\":{\"label\":{\"value\":\"CLIRAD - CRD\"},\"renderers\":[{\"id\":\"27d1e006-bc40-42e3-8531-a53cdec746f4\",\"type\":\"GlyphRenderer\"},{\"id\":\"252e9db9-3599-4327-a3e4-34b2ac32d9eb\",\"type\":\"GlyphRenderer\"}]},\"id\":\"196575dd-6e72-4c76-adf6-bfda4b8fdb8c\",\"type\":\"LegendItem\"},{\"attributes\":{\"source\":{\"id\":\"5c951e3d-879d-40d5-ad29-d9123a33ca17\",\"type\":\"ColumnDataSource\"}},\"id\":\"af5291ae-51b5-40e8-80d2-b0d22c55aef6\",\"type\":\"CDSView\"},{\"attributes\":{},\"id\":\"ae4517e8-7883-4217-8401-5cc77b1dacf8\",\"type\":\"LogScale\"},{\"attributes\":{},\"id\":\"bf68f879-eadd-4140-8b10-51dcbf436634\",\"type\":\"BasicTickFormatter\"},{\"attributes\":{\"fill_alpha\":{\"value\":0.7},\"fill_color\":{\"value\":\"#377eb8\"},\"line_alpha\":{\"value\":0.7},\"line_color\":{\"value\":\"#377eb8\"},\"x\":{\"field\":\"x\"},\"y\":{\"field\":\"y\"}},\"id\":\"5478ba3d-f2b2-47b7-b065-e18d6c748784\",\"type\":\"Square\"},{\"attributes\":{\"line_alpha\":0.1,\"line_color\":\"#1f77b4\",\"line_width\":1.5,\"x\":{\"field\":\"x\"},\"y\":{\"field\":\"y\"}},\"id\":\"eb7386f6-0fc1-4933-9093-8b088ccbf86a\",\"type\":\"Line\"},{\"attributes\":{\"axis_label\":\"cooling rate [K/day]\",\"formatter\":{\"id\":\"be6f31e2-d423-4314-940d-ac961d70fe27\",\"type\":\"BasicTickFormatter\"},\"plot\":{\"id\":\"d5d27fe0-0a11-4a87-9b64-97295adb798e\",\"subtype\":\"Figure\",\"type\":\"Plot\"},\"ticker\":{\"id\":\"bc6d8a74-7fb5-466c-a35b-40bbed0be97a\",\"type\":\"BasicTicker\"}},\"id\":\"011a4498-08a2-4db0-b363-8540e3b6225e\",\"type\":\"LinearAxis\"},{\"attributes\":{\"callback\":null,\"data\":{\"x\":{\"__ndarray__\":\"MXhf+wfXU0AZbvNjswdFQLQWsEQVdUFA5TlpnhT9QUB/x1dOYK05QImjxHmcEjZA9jYDSBB3L0AISPl4H6wqQBPuuwfAzyJAOcHprUZAIUB7WWpkesAXQJoT1Uq+ChVArO/8u0EXCkBgVNlshzgCQMeNQ+Nzu/I/POwv1Qzh+D9QxMRmcj8DQOrE7tC4mAxAQsLBRIlHEkAi4cPYoDEXQEeDpjRjzB1ASZ0GEfCuI0DVFj11sssnQOMiVKSMHyhAWRHvUxNoJEDo8cjD4g8gQLGGvR2NDRpAdpI3nV5oFECtyWH9Lp4QQIZQd9bvmwtAkshlnu1BBkBMysnQf1UAQHZJU/DYZ/c/HoEhV+G48T/rSm4vc/TmP3EgV4cD49g/xmy6+4w7zz+bEsjh3uDDPw5SRMRogKs/4GPKdPc1a78lazVXN1vCP/B84ODeUug/LOyxgXDV9z+/DBHyZAwAQAOIY+fy/QFAahF3XKCUAECV0GHvGsz+P+X4k4Nhvf0/RO/IqI98/T8rkW+v/zT9P59vGMDsAv0/zEX7plCY/D/E3siS8kj7P2yUMv+hDvs/RmrXDaYs+z+c9f5GCO36P58nVCbr7vo/Qus8hbcy/D+rD5hFMCf9P4t6dxofnPw/bRp4QYZ2/D/q8NNiN2b8P5YTVw9ESPw/l1Dy0X/K+j+WKih3ZdD5P2k8OYxHjvk/hceGh5N4+T8lpPahWSn5P6vJnePt4vY/UuhmxnXI9T8miFqdE+D0Pz7qfx5CR/Q/0khvq2US9D9LfVdHQGv0P9syeEmwYfg/\",\"dtype\":\"float64\",\"shape\":[75]},\"y\":{\"__ndarray__\":\"hLndy31yND/6fmq8dJNIP8n9DkWBPlE/aDum7souWD/b4a/JGvVgP9f34SAhymc/ZvM4DOavcD+z0M5pFmh3PxuC4zJuaoA/xjcUPlsHhz8uHAjJAiaQP9ieWRKgppY/oI7HDFTGnz+a5h2n6EimPzS6g9iZQq8/IuAQqtTstT9SSZ2AJsK+P4nS3uALk8U/ih9j7lpCzj+ASL99HTjVP4enV8oyxN0/ACL99nXg5D9fmEwVjErtPyUGgZVDi/Q/AiuHFtnO/D9OYhBYOTQEQPHSTWIQWAxA4XoUrkfhE0D8qfHSTeIbQMh2vp8ajyNArkfhehRuK0Bcj8L1KDwzQFyPwvUo/DpAPgrXo3DtQkDNzMzMzIxKQClcj8L1eFJAKVyPwvVoWECamZmZmVleQGZmZmZmJmJAAAAAAAAgZUCamZmZmRloQJqZmZmZEWtAmpmZmZkJbkCamZmZmYFwQGZmZmZm/nFAZmZmZmZ6c0BmZmZmZvZ0QDQzMzMzc3ZAAAAAAADwd0AAAAAAAGx5QAAAAAAA6HpAzMzMzMxkfEDMzMzMzOB9QM3MzMzMXH9AzczMzMxsgEAzMzMzMyuBQDMzMzMz6YFAMzMzMzOngkCamZmZmWWDQAAAAAAAJIRAAAAAAADihEAAAAAAAKCFQGZmZmZmXoZAzczMzMwch0DNzMzMzNqHQM3MzMzMmIhAMzMzMzNXiUCamZmZmRWKQAAAAAAA1IpAAAAAAACSi0AAAAAAAFCMQGZmZmZmDo1AzczMzMzMjUDNzMzMzIqOQM3MzMzMSI9A\",\"dtype\":\"float64\",\"shape\":[75]}},\"selected\":{\"id\":\"82a5aeb4-94da-4d96-bca2-3aa3ab81197b\",\"type\":\"Selection\"},\"selection_policy\":{\"id\":\"5f58fd0b-a640-4afa-8aed-2e533748d887\",\"type\":\"UnionRenderers\"}},\"id\":\"5b65d7f3-57b5-4688-b9eb-7c83fcb38edc\",\"type\":\"ColumnDataSource\"},{\"attributes\":{\"fill_alpha\":{\"value\":0.7},\"fill_color\":{\"value\":\"#4daf4a\"},\"line_alpha\":{\"value\":0.7},\"line_color\":{\"value\":\"#4daf4a\"},\"x\":{\"field\":\"x\"},\"y\":{\"field\":\"y\"}},\"id\":\"6f536147-05ca-47ae-a436-268ed94c7b70\",\"type\":\"Circle\"},{\"attributes\":{\"data_source\":{\"id\":\"5c951e3d-879d-40d5-ad29-d9123a33ca17\",\"type\":\"ColumnDataSource\"},\"glyph\":{\"id\":\"be009266-d4b2-4ac9-920e-edfb4bb46d9e\",\"type\":\"Circle\"},\"hover_glyph\":null,\"muted_glyph\":null,\"nonselection_glyph\":{\"id\":\"61d44c21-7e8e-46bb-8f49-ce4cd8d6cb74\",\"type\":\"Circle\"},\"selection_glyph\":null,\"view\":{\"id\":\"af5291ae-51b5-40e8-80d2-b0d22c55aef6\",\"type\":\"CDSView\"}},\"id\":\"27d1e006-bc40-42e3-8531-a53cdec746f4\",\"type\":\"GlyphRenderer\"},{\"attributes\":{\"source\":{\"id\":\"9ce1f624-fb52-4fb4-b13b-5f85032827a3\",\"type\":\"ColumnDataSource\"}},\"id\":\"80be326c-550f-4c36-9573-e9f263cd4841\",\"type\":\"CDSView\"},{\"attributes\":{\"data_source\":{\"id\":\"49471ccd-f545-408e-a4a2-57faf3ec5fd8\",\"type\":\"ColumnDataSource\"},\"glyph\":{\"id\":\"08f8070f-dc9c-494e-be95-ca1c7c2206b4\",\"type\":\"Line\"},\"hover_glyph\":null,\"muted_glyph\":null,\"nonselection_glyph\":{\"id\":\"9b725f9e-bfc0-4a45-947c-82e6103e4585\",\"type\":\"Line\"},\"selection_glyph\":null,\"view\":{\"id\":\"21884c45-58f2-43b9-a16c-d448e38f07a7\",\"type\":\"CDSView\"}},\"id\":\"b151501e-c5de-42f5-833b-e67b141c4143\",\"type\":\"GlyphRenderer\"},{\"attributes\":{\"line_alpha\":0.5,\"line_color\":\"#377eb8\",\"line_width\":1.5,\"x\":{\"field\":\"x\"},\"y\":{\"field\":\"y\"}},\"id\":\"479f45ca-3160-4de0-a60f-c474a4f79e2d\",\"type\":\"Line\"},{\"attributes\":{\"active_drag\":\"auto\",\"active_inspect\":\"auto\",\"active_scroll\":\"auto\",\"active_tap\":\"auto\",\"tools\":[{\"id\":\"cba3575b-c14b-406c-9f5a-4830eaa59e9c\",\"type\":\"PanTool\"},{\"id\":\"8a0541d5-e9bd-4362-9d3d-d9301ac172c8\",\"type\":\"WheelZoomTool\"},{\"id\":\"622e9bd3-4195-4fd2-a91e-3c7907be2d5f\",\"type\":\"BoxZoomTool\"},{\"id\":\"ecfc75fb-0643-4072-821e-3b2252b3a953\",\"type\":\"SaveTool\"},{\"id\":\"d869ffe9-6209-4976-b059-69189e10fee2\",\"type\":\"ResetTool\"},{\"id\":\"ab759f02-44ec-43e7-ae06-594fc046fa97\",\"type\":\"HelpTool\"}]},\"id\":\"3303d317-c36e-4898-a24c-3d92d4f7d32d\",\"type\":\"Toolbar\"},{\"attributes\":{\"callback\":null,\"data\":{\"x\":{\"__ndarray__\":\"cm1sTMT3VEDEyvjosEJHQOKI6DjzCUNArgQWV9awPkB9Lm8XG3M4QEz+Qv6iYzNA7eV8HaPLLkCX1QHyTpMoQFBmYSYetiNAUB04GtGpH0AmFyVE5j8ZQJca9QPGqBNALJP+OOHHDEBNxaf7QF8AQKtislomWuw/cW2dcO6A9T/uJJvfPu0EQIaQLTI/JQ1AxGiII+PmEkCJvfVeuCsYQD6ZBhGbHB9AXQw69DTYJEAsubcwKucqQNuT9D5OmipAJyi3szEJJUBlNebh5WkgQDDcPHBr2xlArtlANXuQFEBdJadFHckQQI2Avh0ZsQtAjYiwt1rsBUCL0SDoVBgAQK6C0nEEjvc/CggLSme58T9sXU2orFPnP0v0JYz9Gdg/vT38vxYczD9nBQTe6kHHP1IhkEXJwKo/8OZnhCVAub+xtVgCpmqzP6DUpY6g0+k/PKK3T1h4+D8RTDjQc1EAQG/dAQs7TwJAQt2eHpPLAEBWEh074x//PyCap9ZSGf4/rEzaTySm/T+7aXhHRmr9P688KeqeNP0/ruZ4EemD/D8olrZcn9T7P0+vNc9hW/s/i9VVL+4P+z+0NzC24uz6P8731Kza8vo/xFf4SHzq+z+gYyHpvHb8P68ROkiFevw/BAjYdCga/D8AUp8VbW77P3JrF/nKmvo/qCQeGfq++T/dplwHJfn4P2G4p+Uva/g/OzZ0RqMZ+D8dmn/iar73P/OuA7Ka8PY/gaaeQHGn9T9hkyjAH1L0P3aZGhdAU/M/n8VP/g7P8j+90HxHNvfyPwhNBtgrqvk/\",\"dtype\":\"float64\",\"shape\":[75]},\"y\":{\"__ndarray__\":\"GhExyth1ND/Sv8nbtpRIP2vylNV0PVE/aTum7souWD/At0SJ8fVgPw3Iuahxymc/MSNhhJWvcD/bTfBN02d3P2zb5nxnaoA/CD5h5MAGhz8NmeH1TyaQP+zrCsc9p5Y/LbKd76fGnz/bLW5ISEmmPww9YvTcQq8/JV2OstnstT8Er5Y7M8G+P0c+r3jqkcU/5h99k6ZBzj88bCIzFzjVP4enV8oyxN0//yH99nXg5D8qOpLLf0jtP5kqGJXUifQ/c9cS8kHP/D+/DpwzojQEQIEmwoanVwxA4lgXt9HgE0BSSZ2AJuIbQAMJih9jjiNA5q4l5INuK0AwTKYKRj0zQNv5fmq8/DpAaCJseHrtQkB/+zpwzoxKQM3MzMzMeFJAZmZmZmZqWEAAAAAAAFxeQM3MzMzMJmJAmpmZmZkfZUBmZmZmZhhoQDMzMzMzEWtAAAAAAAAKbkBmZmZmZoFwQM3MzMzM/XFAMzMzMzN6c0CamZmZmfZ0QAAAAAAAc3ZAZmZmZmbvd0DNzMzMzGt5QDMzMzMz6HpAmpmZmZlkfEAAAAAAAOF9QGZmZmZmXX9AZmZmZuZsgECamZmZGSuBQM3MzMxM6YFAAAAAAICngkAzMzMzs2WDQGZmZmbmI4RAmpmZmRnihEDNzMzMTKCFQAAAAACAXoZAMzMzM7Mch0BmZmZm5tqHQJqZmZkZmYhAzczMzExXiUAAAAAAgBWKQDMzMzOz04pAZmZmZuaRi0CamZmZGVCMQM3MzMxMDo1AAAAAAIDMjUAzMzMzs4qOQGZmZmbmSI9A\",\"dtype\":\"float64\",\"shape\":[75]}},\"selected\":{\"id\":\"8c21f6b2-f420-4cf9-9034-68babc4552a2\",\"type\":\"Selection\"},\"selection_policy\":{\"id\":\"6ca7679e-7abc-47f3-a4fc-ae3c4eb58a6d\",\"type\":\"UnionRenderers\"}},\"id\":\"49471ccd-f545-408e-a4a2-57faf3ec5fd8\",\"type\":\"ColumnDataSource\"},{\"attributes\":{\"label\":{\"value\":\"old CLIRAD (H2012) - CRD\"},\"renderers\":[{\"id\":\"daed064b-00e8-4dfb-b8a5-9ee3cb008532\",\"type\":\"GlyphRenderer\"}]},\"id\":\"61ce3f78-8ba5-4e9f-b25c-5cb5a40129c5\",\"type\":\"LegendItem\"},{\"attributes\":{\"data_source\":{\"id\":\"c482640b-763d-4ee3-bf89-dce0a8663754\",\"type\":\"ColumnDataSource\"},\"glyph\":{\"id\":\"75e45be3-9d4f-4139-a003-79f5a1f5fc1e\",\"type\":\"Line\"},\"hover_glyph\":null,\"muted_glyph\":null,\"nonselection_glyph\":{\"id\":\"4996083b-350f-4e7d-9725-054aeccbd733\",\"type\":\"Line\"},\"selection_glyph\":null,\"view\":{\"id\":\"d6a60d29-8e6b-48e4-9065-c1a879c380f9\",\"type\":\"CDSView\"}},\"id\":\"252e9db9-3599-4327-a3e4-34b2ac32d9eb\",\"type\":\"GlyphRenderer\"},{\"attributes\":{\"plot\":{\"id\":\"d5d27fe0-0a11-4a87-9b64-97295adb798e\",\"subtype\":\"Figure\",\"type\":\"Plot\"},\"ticker\":{\"id\":\"bc6d8a74-7fb5-466c-a35b-40bbed0be97a\",\"type\":\"BasicTicker\"}},\"id\":\"01984db5-c99c-4c0a-ace1-aab432003e79\",\"type\":\"Grid\"},{\"attributes\":{\"line_color\":\"#4daf4a\",\"line_width\":1.5,\"x\":{\"field\":\"x\"},\"y\":{\"field\":\"y\"}},\"id\":\"a6243aad-410c-4c7f-bea2-86b20f75db2f\",\"type\":\"Line\"},{\"attributes\":{\"data_source\":{\"id\":\"405acebd-0760-42db-8f70-0cf96b9e7755\",\"type\":\"ColumnDataSource\"},\"glyph\":{\"id\":\"479f45ca-3160-4de0-a60f-c474a4f79e2d\",\"type\":\"Line\"},\"hover_glyph\":null,\"muted_glyph\":null,\"nonselection_glyph\":{\"id\":\"eb7386f6-0fc1-4933-9093-8b088ccbf86a\",\"type\":\"Line\"},\"selection_glyph\":null,\"view\":{\"id\":\"f16d9f2b-9164-425a-8fb5-20043c7d24d9\",\"type\":\"CDSView\"}},\"id\":\"d136556a-6b7d-466b-b0fc-58aa1eef711f\",\"type\":\"GlyphRenderer\"},{\"attributes\":{\"fill_alpha\":{\"value\":0.1},\"fill_color\":{\"value\":\"#1f77b4\"},\"line_alpha\":{\"value\":0.1},\"line_color\":{\"value\":\"#1f77b4\"},\"x\":{\"field\":\"x\"},\"y\":{\"field\":\"y\"}},\"id\":\"11443d5f-1dea-437e-a33d-50cd09772923\",\"type\":\"Circle\"},{\"attributes\":{\"callback\":null,\"data\":{\"x\":{\"__ndarray__\":\"EFTPEMULEsBY5Soo7NcRwOAih0PfTQnAcLzxlkslFUAgkIluU6TzP+gpDdzLdwVAICHKUKVt1T+Ik7s3hMbwP6AHr9TDy9y/ECnbDOK15j+w2qv7vfbXvzCQ/22EH9Y/ABwN6PuE1b8w8RgTZ5TNP8ZxqdeCOdI/WPaTJPMAyz/gCWaNx9zKv4Bz2SfMkLG/QNDU2Dvrw7/gjDvG8ELPv3BfAcZ9A9W/QPE2M06U4r+4EtXbvdv4v8CHA9UM1vO/wNkC+csj1L9A31CHx4DGv4BAVcDWEKk/AJyjBEwOpL8A2K0iJHelvwAHMEdHKYW/QAFQrblkpT+AYHxUdJWePwCcnL/AFYO/AIDdMF2+IL9AoMQ3Xs6Hv8CEJWa/IIk/SHjx3bH7mD9glt/hXwibv4AXhtbv81c/0ZPByHVmuD+ZIBKsyEuxPwB7VdwaDKi/AMK2wPlcpL+A1M+Jt0OhvwBblecIUqS/AOzlE2F5m79AcNDuEvKUv8BO6MRU/Ja/ALSuiFPKhL8ASGwETKOKvwCIZggV2Yi/AB5fgpVndD+A7LY9mXWhv8C4xgD0L5O/ALuUgd63fD8AAPReZ8gCPwB4gQY0fE+/gN8kEc8Okj9ggdWOaw6mPwButB7pzIA/QJoEKHMXlz9A3ZOmSfmuP0CC+mOR17o/8L5CjVu4sD8gd3D5DeiqP4BAGGl6MbI/oBQpEQTvtT+AoHD36662PwCQysucWWu/gOgg5EKCgD+gmD6me76hPwAZquxAgK4/MDP40Wo1tD/gyKr9n0C3P9Ci4ei4h7S/\",\"dtype\":\"float64\",\"shape\":[75]},\"y\":{\"__ndarray__\":\"GhExyth1ND/Sv8nbtpRIP2vylNV0PVE/aTum7souWD/At0SJ8fVgPw3Iuahxymc/MSNhhJWvcD/bTfBN02d3P2zb5nxnaoA/CD5h5MAGhz8NmeH1TyaQP+zrCsc9p5Y/LbKd76fGnz/bLW5ISEmmPww9YvTcQq8/JV2OstnstT8Er5Y7M8G+P0c+r3jqkcU/5h99k6ZBzj88bCIzFzjVP4enV8oyxN0//yH99nXg5D8qOpLLf0jtP5kqGJXUifQ/c9cS8kHP/D+/DpwzojQEQIEmwoanVwxA4lgXt9HgE0BSSZ2AJuIbQAMJih9jjiNA5q4l5INuK0AwTKYKRj0zQNv5fmq8/DpAaCJseHrtQkB/+zpwzoxKQM3MzMzMeFJAZmZmZmZqWEAAAAAAAFxeQM3MzMzMJmJAmpmZmZkfZUBmZmZmZhhoQDMzMzMzEWtAAAAAAAAKbkBmZmZmZoFwQM3MzMzM/XFAMzMzMzN6c0CamZmZmfZ0QAAAAAAAc3ZAZmZmZmbvd0DNzMzMzGt5QDMzMzMz6HpAmpmZmZlkfEAAAAAAAOF9QGZmZmZmXX9AZmZmZuZsgECamZmZGSuBQM3MzMxM6YFAAAAAAICngkAzMzMzs2WDQGZmZmbmI4RAmpmZmRnihEDNzMzMTKCFQAAAAACAXoZAMzMzM7Mch0BmZmZm5tqHQJqZmZkZmYhAzczMzExXiUAAAAAAgBWKQDMzMzOz04pAZmZmZuaRi0CamZmZGVCMQM3MzMxMDo1AAAAAAIDMjUAzMzMzs4qOQGZmZmbmSI9A\",\"dtype\":\"float64\",\"shape\":[75]}},\"selected\":{\"id\":\"a387a43d-7f24-4cf9-8a04-2003d1a5a48d\",\"type\":\"Selection\"},\"selection_policy\":{\"id\":\"2be8a09f-85cb-46a8-bd2d-0d66c1697e0c\",\"type\":\"UnionRenderers\"}},\"id\":\"30d5b061-e39f-4b34-9e1f-0b21f95a8f6e\",\"type\":\"ColumnDataSource\"},{\"attributes\":{\"dimension\":1,\"plot\":{\"id\":\"d5d27fe0-0a11-4a87-9b64-97295adb798e\",\"subtype\":\"Figure\",\"type\":\"Plot\"},\"ticker\":{\"id\":\"07389a5e-c1cb-465e-9273-3aa484807eeb\",\"type\":\"BasicTicker\"}},\"id\":\"2335d899-79fa-4df1-b551-e25b9214ce4b\",\"type\":\"Grid\"},{\"attributes\":{\"data_source\":{\"id\":\"30d5b061-e39f-4b34-9e1f-0b21f95a8f6e\",\"type\":\"ColumnDataSource\"},\"glyph\":{\"id\":\"f40e6095-7d34-487a-ae12-2af3f2ae0e71\",\"type\":\"Line\"},\"hover_glyph\":null,\"muted_glyph\":null,\"nonselection_glyph\":{\"id\":\"928bf108-49af-4b19-a21c-22f486084210\",\"type\":\"Line\"},\"selection_glyph\":null,\"view\":{\"id\":\"b1375126-337e-4a62-823d-49eea0b997ca\",\"type\":\"CDSView\"}},\"id\":\"daed064b-00e8-4dfb-b8a5-9ee3cb008532\",\"type\":\"GlyphRenderer\"},{\"attributes\":{},\"id\":\"2e8c0714-ea0a-49ed-af07-df742175db68\",\"type\":\"Selection\"},{\"attributes\":{\"data_source\":{\"id\":\"9ce1f624-fb52-4fb4-b13b-5f85032827a3\",\"type\":\"ColumnDataSource\"},\"glyph\":{\"id\":\"6f536147-05ca-47ae-a436-268ed94c7b70\",\"type\":\"Circle\"},\"hover_glyph\":null,\"muted_glyph\":null,\"nonselection_glyph\":{\"id\":\"11443d5f-1dea-437e-a33d-50cd09772923\",\"type\":\"Circle\"},\"selection_glyph\":null,\"view\":{\"id\":\"80be326c-550f-4c36-9573-e9f263cd4841\",\"type\":\"CDSView\"}},\"id\":\"d1af4f16-b14b-4412-9706-b624e0ed608c\",\"type\":\"GlyphRenderer\"},{\"attributes\":{\"line_alpha\":0.1,\"line_color\":\"#1f77b4\",\"line_width\":1.5,\"x\":{\"field\":\"x\"},\"y\":{\"field\":\"y\"}},\"id\":\"4996083b-350f-4e7d-9725-054aeccbd733\",\"type\":\"Line\"},{\"attributes\":{},\"id\":\"a61180da-6ed9-43ec-a788-029595a84323\",\"type\":\"Selection\"},{\"attributes\":{\"tools\":[{\"id\":\"68ccdb83-d722-4de6-bdeb-be433f11d669\",\"type\":\"PanTool\"},{\"id\":\"1f37dfe6-9f80-45d6-a4f5-5a1d6712123c\",\"type\":\"WheelZoomTool\"},{\"id\":\"8304f1c0-9c47-49de-9ccd-ce65b5bdbe38\",\"type\":\"BoxZoomTool\"},{\"id\":\"d2cd5933-e006-44fd-8002-a4c2ee01e59e\",\"type\":\"SaveTool\"},{\"id\":\"9eec2ccd-39b5-43d9-9101-daae1fe6cd1f\",\"type\":\"ResetTool\"},{\"id\":\"050e1ad9-9c5d-4a84-a526-d7169e2b686c\",\"type\":\"HelpTool\"},{\"id\":\"9d75f39f-21bd-47cc-9dad-a81291314973\",\"type\":\"PanTool\"},{\"id\":\"37286402-c20c-4667-bee9-58196f661106\",\"type\":\"WheelZoomTool\"},{\"id\":\"89542836-8ed5-493a-b3c8-697e6ae49000\",\"type\":\"BoxZoomTool\"},{\"id\":\"b08b1786-8196-43d8-b0fa-69a9ae9270d1\",\"type\":\"SaveTool\"},{\"id\":\"db7e6f5e-9fd2-48d6-aaf4-371333231120\",\"type\":\"ResetTool\"},{\"id\":\"2397027f-72c1-49f8-b0b0-71faf591e18f\",\"type\":\"HelpTool\"},{\"id\":\"cba3575b-c14b-406c-9f5a-4830eaa59e9c\",\"type\":\"PanTool\"},{\"id\":\"8a0541d5-e9bd-4362-9d3d-d9301ac172c8\",\"type\":\"WheelZoomTool\"},{\"id\":\"622e9bd3-4195-4fd2-a91e-3c7907be2d5f\",\"type\":\"BoxZoomTool\"},{\"id\":\"ecfc75fb-0643-4072-821e-3b2252b3a953\",\"type\":\"SaveTool\"},{\"id\":\"d869ffe9-6209-4976-b059-69189e10fee2\",\"type\":\"ResetTool\"},{\"id\":\"ab759f02-44ec-43e7-ae06-594fc046fa97\",\"type\":\"HelpTool\"}]},\"id\":\"ddfee47d-11ba-4d87-874e-ca2c446a5754\",\"type\":\"ProxyToolbar\"},{\"attributes\":{\"source\":{\"id\":\"5b65d7f3-57b5-4688-b9eb-7c83fcb38edc\",\"type\":\"ColumnDataSource\"}},\"id\":\"a79f0ae0-7898-48ab-8097-0ac1eb7883f5\",\"type\":\"CDSView\"},{\"attributes\":{\"fill_alpha\":{\"value\":0.1},\"fill_color\":{\"value\":\"#1f77b4\"},\"line_alpha\":{\"value\":0.1},\"line_color\":{\"value\":\"#1f77b4\"},\"x\":{\"field\":\"x\"},\"y\":{\"field\":\"y\"}},\"id\":\"61d44c21-7e8e-46bb-8f49-ce4cd8d6cb74\",\"type\":\"Circle\"},{\"attributes\":{\"source\":{\"id\":\"26dc87f9-9f86-4e9b-bec6-ce77d84f5aa8\",\"type\":\"ColumnDataSource\"}},\"id\":\"ab1cf8cf-f90f-4486-adfc-1695aa7ddf95\",\"type\":\"CDSView\"},{\"attributes\":{},\"id\":\"bc6d8a74-7fb5-466c-a35b-40bbed0be97a\",\"type\":\"BasicTicker\"},{\"attributes\":{\"source\":{\"id\":\"c482640b-763d-4ee3-bf89-dce0a8663754\",\"type\":\"ColumnDataSource\"}},\"id\":\"d6a60d29-8e6b-48e4-9065-c1a879c380f9\",\"type\":\"CDSView\"},{\"attributes\":{},\"id\":\"44b00d53-c429-4834-9790-158115cde58f\",\"type\":\"UnionRenderers\"},{\"attributes\":{\"source\":{\"id\":\"49471ccd-f545-408e-a4a2-57faf3ec5fd8\",\"type\":\"ColumnDataSource\"}},\"id\":\"21884c45-58f2-43b9-a16c-d448e38f07a7\",\"type\":\"CDSView\"},{\"attributes\":{\"line_alpha\":0.5,\"line_color\":\"#377eb8\",\"line_dash\":[6],\"line_width\":4,\"x\":{\"field\":\"x\"},\"y\":{\"field\":\"y\"}},\"id\":\"f40e6095-7d34-487a-ae12-2af3f2ae0e71\",\"type\":\"Line\"},{\"attributes\":{\"line_alpha\":0.1,\"line_color\":\"#1f77b4\",\"line_width\":1.5,\"x\":{\"field\":\"x\"},\"y\":{\"field\":\"y\"}},\"id\":\"f5606256-d854-40ca-bc44-6710c8933245\",\"type\":\"Line\"},{\"attributes\":{\"data_source\":{\"id\":\"26dc87f9-9f86-4e9b-bec6-ce77d84f5aa8\",\"type\":\"ColumnDataSource\"},\"glyph\":{\"id\":\"b4a17f32-0411-4fa0-b14c-e30d1a51dcc9\",\"type\":\"Line\"},\"hover_glyph\":null,\"muted_glyph\":null,\"nonselection_glyph\":{\"id\":\"d5f2a5f1-8b4b-47ca-aa70-addea54cde15\",\"type\":\"Line\"},\"selection_glyph\":null,\"view\":{\"id\":\"ab1cf8cf-f90f-4486-adfc-1695aa7ddf95\",\"type\":\"CDSView\"}},\"id\":\"16471388-6bda-434f-bc41-cb9969513e89\",\"type\":\"GlyphRenderer\"},{\"attributes\":{\"line_color\":\"#4daf4a\",\"line_width\":1.5,\"x\":{\"field\":\"x\"},\"y\":{\"field\":\"y\"}},\"id\":\"08f8070f-dc9c-494e-be95-ca1c7c2206b4\",\"type\":\"Line\"},{\"attributes\":{\"data_source\":{\"id\":\"09cbc4ed-06a3-40ab-99be-231e7870ecd6\",\"type\":\"ColumnDataSource\"},\"glyph\":{\"id\":\"a6243aad-410c-4c7f-bea2-86b20f75db2f\",\"type\":\"Line\"},\"hover_glyph\":null,\"muted_glyph\":null,\"nonselection_glyph\":{\"id\":\"f5606256-d854-40ca-bc44-6710c8933245\",\"type\":\"Line\"},\"selection_glyph\":null,\"view\":{\"id\":\"9ca4b46a-c3ef-47d9-ad21-474218668339\",\"type\":\"CDSView\"}},\"id\":\"4eeb2ddb-5e7f-4336-b764-862547460908\",\"type\":\"GlyphRenderer\"},{\"attributes\":{\"callback\":null,\"data\":{\"x\":{\"__ndarray__\":\"Plrp3Z5jIcBKBfk9Qf4EwAhIBjTPV/g/re0xy0SUDEBKEKO2F2oNQEotRpaPLQNAtDasTSvz4j/Y3ph+zcLqv4miLOrMCfa/OZBOUS2a8b+Z2paSN0Xfv1rfYeD8N7A/VKELW16e2T/SMT3umRDfP8gh/JbbJ9Q/51E4qEcEoT9WPU9YQbrQv7cvfAWGNOC/FNnELayj4L8H/Z4Hc+/RvyD2rlRKVnm/oiytkRnvqr/asVgECtHTv8S4lvwuT9e/lyLME90hsb+NumOLN4rYP2kST9+NU9c/ZHxOx1zgtz+8LlyImOOXP/M/QDSg49A/o19OiZWc1T8r3Tg+sr3DPwNRi39W7Jy/pot48Rxicz/M/YUoLnSuP9PWP6lll34/EA5yTmTwq7/VHz/yu+C2v7idMclkh7m/zr7TrDXmtb+tZ9JQi4mwv8Fb5PyqNq+/RXg+tzI/nb9kXxACbO22vyPL1Yclmbi/Ni/HdfWLq7+VvARYV+iuvywUiu+ftrO/2INf1gPnsr90zRiVMqerv/ZCQ546s6K/UwZzLjJfmL8ZbMtKJ+aUvwLnnTDIqZS/eN5UNdxfmb8dBs8ktFybvzkwxDJBwpO/qA45dIJPVj+1n5LzvX+gP9DECtE+aqw/zGSrPX/prT+uWeZFjnqlPxImF6RXypU/0KnXZtHmWT8AGej+SwlBPzTnWDkPgoE/Lp8yUn1Unj87o+X0gG+oP3LpuEoSrK8/6IIHwTsdsj9OhzEMSFmzP2c1UW85I7Q/Hxy8y9bVtD8HjZAcEVW0Pw==\",\"dtype\":\"float64\",\"shape\":[74]},\"y\":{\"__ndarray__\":\"0r/J27aUSD9r8pTVdD1RP2k7pu7KLlg/wLdEifH1YD8NyLmoccpnPzEjYYSVr3A/203wTdNndz9s2+Z8Z2qAPwg+YeTABoc/DZnh9U8mkD/s6wrHPaeWPy2yne+nxp8/2y1uSEhJpj8MPWL03EKvPyVdjrLZ7LU/BK+WOzPBvj9HPq946pHFP+YffZOmQc4/PGwiMxc41T+Hp1fKMsTdP/8h/fZ14OQ/KjqSy39I7T+ZKhiV1In0P3PXEvJBz/w/vw6cM6I0BECBJsKGp1cMQOJYF7fR4BNAUkmdgCbiG0ADCYofY44jQOauJeSDbitAMEymCkY9M0Db+X5qvPw6QGgibHh67UJAf/s6cM6MSkDNzMzMzHhSQGZmZmZmalhAAAAAAABcXkDNzMzMzCZiQJqZmZmZH2VAZmZmZmYYaEAzMzMzMxFrQAAAAAAACm5AZmZmZmaBcEDNzMzMzP1xQDMzMzMzenNAmpmZmZn2dEAAAAAAAHN2QGZmZmZm73dAzczMzMxreUAzMzMzM+h6QJqZmZmZZHxAAAAAAADhfUBmZmZmZl1/QGZmZmbmbIBAmpmZmRkrgUDNzMzMTOmBQAAAAACAp4JAMzMzM7Nlg0BmZmZm5iOEQJqZmZkZ4oRAzczMzEyghUAAAAAAgF6GQDMzMzOzHIdAZmZmZubah0CamZmZGZmIQM3MzMxMV4lAAAAAAIAVikAzMzMzs9OKQGZmZmbmkYtAmpmZmRlQjEDNzMzMTA6NQAAAAACAzI1AMzMzM7OKjkBmZmZm5kiPQA==\",\"dtype\":\"float64\",\"shape\":[74]}},\"selected\":{\"id\":\"9a2a97ea-4832-430e-b95a-a3383aad3855\",\"type\":\"Selection\"},\"selection_policy\":{\"id\":\"f3564a21-008e-4fa7-8ca4-1fe1466712ab\",\"type\":\"UnionRenderers\"}},\"id\":\"c482640b-763d-4ee3-bf89-dce0a8663754\",\"type\":\"ColumnDataSource\"},{\"attributes\":{},\"id\":\"be6f31e2-d423-4314-940d-ac961d70fe27\",\"type\":\"BasicTickFormatter\"},{\"attributes\":{\"line_alpha\":0.1,\"line_color\":\"#1f77b4\",\"line_width\":1.5,\"x\":{\"field\":\"x\"},\"y\":{\"field\":\"y\"}},\"id\":\"9b725f9e-bfc0-4a45-947c-82e6103e4585\",\"type\":\"Line\"},{\"attributes\":{\"data_source\":{\"id\":\"5b65d7f3-57b5-4688-b9eb-7c83fcb38edc\",\"type\":\"ColumnDataSource\"},\"glyph\":{\"id\":\"5478ba3d-f2b2-47b7-b065-e18d6c748784\",\"type\":\"Square\"},\"hover_glyph\":null,\"muted_glyph\":null,\"nonselection_glyph\":{\"id\":\"b39f2910-aa35-4ca7-9b3c-8f8aebc4d225\",\"type\":\"Square\"},\"selection_glyph\":null,\"view\":{\"id\":\"a79f0ae0-7898-48ab-8097-0ac1eb7883f5\",\"type\":\"CDSView\"}},\"id\":\"8e91ad80-4f43-4645-8368-78a4c7f767ae\",\"type\":\"GlyphRenderer\"},{\"attributes\":{},\"id\":\"07389a5e-c1cb-465e-9273-3aa484807eeb\",\"type\":\"BasicTicker\"},{\"attributes\":{},\"id\":\"5a7f70f1-cc33-4033-bbdf-0c5815a617d2\",\"type\":\"LinearScale\"},{\"attributes\":{},\"id\":\"4bb5da61-dd43-4f53-9cba-2d5e60aba222\",\"type\":\"LogScale\"},{\"attributes\":{\"callback\":null,\"end\":0.01,\"start\":1020},\"id\":\"fe070f2f-b5ee-49de-8ad9-07ae854ad2d0\",\"type\":\"Range1d\"},{\"attributes\":{\"label\":{\"value\":\"CLIRAD\"},\"renderers\":[{\"id\":\"bb480d6c-5f81-4957-8fb7-17946ead7817\",\"type\":\"GlyphRenderer\"}]},\"id\":\"7015f2f3-f297-40c8-980e-600ff360a2ea\",\"type\":\"LegendItem\"},{\"attributes\":{\"axis_label\":\"cooling rate [K/day]\",\"formatter\":{\"id\":\"2eed481f-bb00-4a19-8c7b-618947133ad1\",\"type\":\"BasicTickFormatter\"},\"plot\":{\"id\":\"d368cf78-8715-4aad-9729-787c3712f3c7\",\"subtype\":\"Figure\",\"type\":\"Plot\"},\"ticker\":{\"id\":\"81d1b0a0-f477-413c-97d1-b377344913a5\",\"type\":\"BasicTicker\"}},\"id\":\"bd4f1353-98b6-4421-a1f5-81a4b3b7c253\",\"type\":\"LinearAxis\"},{\"attributes\":{\"plot\":{\"id\":\"d368cf78-8715-4aad-9729-787c3712f3c7\",\"subtype\":\"Figure\",\"type\":\"Plot\"},\"ticker\":{\"id\":\"81d1b0a0-f477-413c-97d1-b377344913a5\",\"type\":\"BasicTicker\"}},\"id\":\"1714e52d-05b9-4832-9482-a741077677be\",\"type\":\"Grid\"},{\"attributes\":{\"above\":[{\"id\":\"a85b29eb-91fb-46d9-b845-6d5dbe1d0eed\",\"type\":\"Legend\"}],\"below\":[{\"id\":\"bd4f1353-98b6-4421-a1f5-81a4b3b7c253\",\"type\":\"LinearAxis\"}],\"left\":[{\"id\":\"ba2b871a-3b53-4293-a1fb-8bfedc7d4bb5\",\"type\":\"LogAxis\"}],\"plot_width\":300,\"renderers\":[{\"id\":\"bd4f1353-98b6-4421-a1f5-81a4b3b7c253\",\"type\":\"LinearAxis\"},{\"id\":\"1714e52d-05b9-4832-9482-a741077677be\",\"type\":\"Grid\"},{\"id\":\"ba2b871a-3b53-4293-a1fb-8bfedc7d4bb5\",\"type\":\"LogAxis\"},{\"id\":\"b079c0a8-eea1-49ca-99b5-9af8d0376e79\",\"type\":\"Grid\"},{\"id\":\"3f2b026e-bc86-4784-afba-dd083088b383\",\"type\":\"BoxAnnotation\"},{\"id\":\"16471388-6bda-434f-bc41-cb9969513e89\",\"type\":\"GlyphRenderer\"},{\"id\":\"d1af4f16-b14b-4412-9706-b624e0ed608c\",\"type\":\"GlyphRenderer\"},{\"id\":\"b151501e-c5de-42f5-833b-e67b141c4143\",\"type\":\"GlyphRenderer\"},{\"id\":\"8e91ad80-4f43-4645-8368-78a4c7f767ae\",\"type\":\"GlyphRenderer\"},{\"id\":\"d136556a-6b7d-466b-b0fc-58aa1eef711f\",\"type\":\"GlyphRenderer\"},{\"id\":\"a85b29eb-91fb-46d9-b845-6d5dbe1d0eed\",\"type\":\"Legend\"}],\"title\":{\"id\":\"f4d2d8ec-3250-4924-87f1-1d41e68ee413\",\"type\":\"Title\"},\"toolbar\":{\"id\":\"37c77c6b-d13d-44e6-9b33-bb1245b7845c\",\"type\":\"Toolbar\"},\"toolbar_location\":null,\"x_range\":{\"id\":\"00782d3d-f401-4318-876c-40c1efc93585\",\"type\":\"Range1d\"},\"x_scale\":{\"id\":\"14fec5a8-3e20-4fdf-aec0-b75756711609\",\"type\":\"LinearScale\"},\"y_range\":{\"id\":\"fe070f2f-b5ee-49de-8ad9-07ae854ad2d0\",\"type\":\"Range1d\"},\"y_scale\":{\"id\":\"4bb5da61-dd43-4f53-9cba-2d5e60aba222\",\"type\":\"LogScale\"}},\"id\":\"d368cf78-8715-4aad-9729-787c3712f3c7\",\"subtype\":\"Figure\",\"type\":\"Plot\"},{\"attributes\":{},\"id\":\"ab759f02-44ec-43e7-ae06-594fc046fa97\",\"type\":\"HelpTool\"},{\"attributes\":{\"items\":[{\"id\":\"d0603972-5247-4b34-8c01-1312c200510a\",\"type\":\"LegendItem\"},{\"id\":\"768bebb5-1c79-45b2-ab40-1dcb5950cbf3\",\"type\":\"LegendItem\"},{\"id\":\"63538a44-328b-4ac0-a0b1-cc6c08e0d73f\",\"type\":\"LegendItem\"}],\"label_text_font_size\":{\"value\":\"8pt\"},\"location\":\"top_center\",\"orientation\":\"horizontal\",\"plot\":{\"id\":\"d368cf78-8715-4aad-9729-787c3712f3c7\",\"subtype\":\"Figure\",\"type\":\"Plot\"}},\"id\":\"a85b29eb-91fb-46d9-b845-6d5dbe1d0eed\",\"type\":\"Legend\"},{\"attributes\":{\"children\":[{\"id\":\"697d5906-2013-4d04-9769-283e0d391fdb\",\"type\":\"ToolbarBox\"},{\"id\":\"b8ea7f30-434c-4ce1-becf-7c09c0736916\",\"type\":\"Column\"}]},\"id\":\"3ef2cf3d-dd5f-450a-8308-dc2daae3193d\",\"type\":\"Column\"},{\"attributes\":{},\"id\":\"d869ffe9-6209-4976-b059-69189e10fee2\",\"type\":\"ResetTool\"},{\"attributes\":{},\"id\":\"81d1b0a0-f477-413c-97d1-b377344913a5\",\"type\":\"BasicTicker\"},{\"attributes\":{\"callback\":null,\"end\":2.3135572750986206,\"start\":-0.22322768330062},\"id\":\"4d6d79ac-9075-4cc0-a19d-ead12e9070e0\",\"type\":\"Range1d\"},{\"attributes\":{\"active_drag\":\"auto\",\"active_inspect\":\"auto\",\"active_scroll\":\"auto\",\"active_tap\":\"auto\",\"tools\":[{\"id\":\"68ccdb83-d722-4de6-bdeb-be433f11d669\",\"type\":\"PanTool\"},{\"id\":\"1f37dfe6-9f80-45d6-a4f5-5a1d6712123c\",\"type\":\"WheelZoomTool\"},{\"id\":\"8304f1c0-9c47-49de-9ccd-ce65b5bdbe38\",\"type\":\"BoxZoomTool\"},{\"id\":\"d2cd5933-e006-44fd-8002-a4c2ee01e59e\",\"type\":\"SaveTool\"},{\"id\":\"9eec2ccd-39b5-43d9-9101-daae1fe6cd1f\",\"type\":\"ResetTool\"},{\"id\":\"050e1ad9-9c5d-4a84-a526-d7169e2b686c\",\"type\":\"HelpTool\"}]},\"id\":\"db49c72b-17ba-45e2-bc64-ff56c0b051f1\",\"type\":\"Toolbar\"},{\"attributes\":{\"bottom_units\":\"screen\",\"fill_alpha\":{\"value\":0.5},\"fill_color\":{\"value\":\"lightgrey\"},\"left_units\":\"screen\",\"level\":\"overlay\",\"line_alpha\":{\"value\":1.0},\"line_color\":{\"value\":\"black\"},\"line_dash\":[4,4],\"line_width\":{\"value\":2},\"plot\":null,\"render_mode\":\"css\",\"right_units\":\"screen\",\"top_units\":\"screen\"},\"id\":\"8f29b5bc-7f76-4ab1-889a-e454c222d24d\",\"type\":\"BoxAnnotation\"},{\"attributes\":{\"callback\":null,\"end\":13.587992271510018,\"start\":-0.33485575257202},\"id\":\"00782d3d-f401-4318-876c-40c1efc93585\",\"type\":\"Range1d\"},{\"attributes\":{\"label\":{\"value\":\"old CLIRAD (H2012)\"},\"renderers\":[{\"id\":\"e598af3f-02cf-4d08-9b82-b1613c855136\",\"type\":\"GlyphRenderer\"},{\"id\":\"d4a38865-7f73-47d0-aa04-330935e56647\",\"type\":\"GlyphRenderer\"}]},\"id\":\"c039c779-4045-4d10-a6bc-e6abec479e01\",\"type\":\"LegendItem\"},{\"attributes\":{\"active_drag\":\"auto\",\"active_inspect\":\"auto\",\"active_scroll\":\"auto\",\"active_tap\":\"auto\",\"tools\":[{\"id\":\"9d75f39f-21bd-47cc-9dad-a81291314973\",\"type\":\"PanTool\"},{\"id\":\"37286402-c20c-4667-bee9-58196f661106\",\"type\":\"WheelZoomTool\"},{\"id\":\"89542836-8ed5-493a-b3c8-697e6ae49000\",\"type\":\"BoxZoomTool\"},{\"id\":\"b08b1786-8196-43d8-b0fa-69a9ae9270d1\",\"type\":\"SaveTool\"},{\"id\":\"db7e6f5e-9fd2-48d6-aaf4-371333231120\",\"type\":\"ResetTool\"},{\"id\":\"2397027f-72c1-49f8-b0b0-71faf591e18f\",\"type\":\"HelpTool\"}]},\"id\":\"37c77c6b-d13d-44e6-9b33-bb1245b7845c\",\"type\":\"Toolbar\"},{\"attributes\":{},\"id\":\"14fec5a8-3e20-4fdf-aec0-b75756711609\",\"type\":\"LinearScale\"},{\"attributes\":{\"items\":[{\"id\":\"7015f2f3-f297-40c8-980e-600ff360a2ea\",\"type\":\"LegendItem\"},{\"id\":\"b021bcfc-0f52-43c9-afdd-0c17e4fcbc00\",\"type\":\"LegendItem\"},{\"id\":\"c039c779-4045-4d10-a6bc-e6abec479e01\",\"type\":\"LegendItem\"}],\"label_text_font_size\":{\"value\":\"8pt\"},\"location\":\"top_center\",\"orientation\":\"horizontal\",\"plot\":{\"id\":\"d5d27fe0-0a11-4a87-9b64-97295adb798e\",\"subtype\":\"Figure\",\"type\":\"Plot\"}},\"id\":\"f392c065-1af7-4fc0-8deb-65ab44d85cf9\",\"type\":\"Legend\"},{\"attributes\":{\"label\":{\"value\":\"CRD\"},\"renderers\":[{\"id\":\"fbf41d46-6568-4fcd-b96c-cd0a3e903fda\",\"type\":\"GlyphRenderer\"},{\"id\":\"4eeb2ddb-5e7f-4336-b764-862547460908\",\"type\":\"GlyphRenderer\"}]},\"id\":\"b021bcfc-0f52-43c9-afdd-0c17e4fcbc00\",\"type\":\"LegendItem\"},{\"attributes\":{},\"id\":\"10b6064f-95c8-41e1-917e-0d6373c5e296\",\"type\":\"LinearScale\"}],\"root_ids\":[\"3ef2cf3d-dd5f-450a-8308-dc2daae3193d\"]},\"title\":\"Bokeh Application\",\"version\":\"0.12.16\"}};\n",
       "  var render_items = [{\"docid\":\"6f52771f-35d1-4ada-88f0-85873e85a924\",\"elementid\":\"1e5b4827-c79d-4491-9e19-4ec10ab09ba0\",\"modelid\":\"3ef2cf3d-dd5f-450a-8308-dc2daae3193d\"}];\n",
       "  root.Bokeh.embed.embed_items_notebook(docs_json, render_items);\n",
       "\n",
       "  }\n",
       "  if (root.Bokeh !== undefined) {\n",
       "    embed_document(root);\n",
       "  } else {\n",
       "    var attempts = 0;\n",
       "    var timer = setInterval(function(root) {\n",
       "      if (root.Bokeh !== undefined) {\n",
       "        embed_document(root);\n",
       "        clearInterval(timer);\n",
       "      }\n",
       "      attempts++;\n",
       "      if (attempts > 100) {\n",
       "        console.log(\"Bokeh: ERROR: Unable to run BokehJS code because BokehJS library is missing\")\n",
       "        clearInterval(timer);\n",
       "      }\n",
       "    }, 10, root)\n",
       "  }\n",
       "})(window);"
      ],
      "application/vnd.bokehjs_exec.v0+json": ""
     },
     "metadata": {
      "application/vnd.bokehjs_exec.v0+json": {
       "id": "3ef2cf3d-dd5f-450a-8308-dc2daae3193d"
      }
     },
     "output_type": "display_data"
    },
    {
     "data": {
      "text/markdown": [
       "*FIGURE.* Cooling rates & difference."
      ],
      "text/plain": [
       "<IPython.core.display.Markdown object>"
      ]
     },
     "metadata": {},
     "output_type": "display_data"
    },
    {
     "data": {
      "text/html": [
       "<a id=\"Fluxes._mls.\"></a>"
      ],
      "text/plain": [
       "<IPython.core.display.HTML object>"
      ]
     },
     "metadata": {},
     "output_type": "display_data"
    },
    {
     "data": {
      "text/markdown": [
       "# Fluxes. mls."
      ],
      "text/plain": [
       "<IPython.core.display.Markdown object>"
      ]
     },
     "metadata": {},
     "output_type": "display_data"
    },
    {
     "data": {
      "text/html": [
       "\n",
       "<div class=\"bk-root\">\n",
       "    <div class=\"bk-plotdiv\" id=\"cfe507cc-2aff-4599-8048-a8f29bfdf75c\"></div>\n",
       "</div>"
      ]
     },
     "metadata": {},
     "output_type": "display_data"
    },
    {
     "data": {
      "application/javascript": [
       "(function(root) {\n",
       "  function embed_document(root) {\n",
       "    \n",
       "  var docs_json = {\"a83a71e9-420c-4086-b681-588c71d01a32\":{\"roots\":{\"references\":[{\"attributes\":{\"axis_label\":\"spectral band\",\"formatter\":{\"id\":\"51ada846-c67d-4cae-8b9f-ebc34664111f\",\"type\":\"CategoricalTickFormatter\"},\"plot\":{\"id\":\"d89d582e-82f1-4869-a865-e020dfa4f7e9\",\"subtype\":\"Figure\",\"type\":\"Plot\"},\"ticker\":{\"id\":\"19fe8938-b116-466a-9339-ae7cfc755b97\",\"type\":\"CategoricalTicker\"}},\"id\":\"6d7ffe8a-3107-4781-90f0-36b78fda5922\",\"type\":\"CategoricalAxis\"},{\"attributes\":{},\"id\":\"a7dcb29a-73e4-42c5-ad05-7ebda2bbbd57\",\"type\":\"WheelZoomTool\"},{\"attributes\":{\"source\":{\"id\":\"206b1d6a-5dea-4ba4-98c0-219d9eaa8b58\",\"type\":\"ColumnDataSource\"}},\"id\":\"184bd8d5-978c-431c-8efe-761c1b6d3b9e\",\"type\":\"CDSView\"},{\"attributes\":{},\"id\":\"346a75a9-8148-45c4-9f5f-a055ab288cc5\",\"type\":\"CategoricalScale\"},{\"attributes\":{\"callback\":null,\"factors\":[\"1\",\"2\",\"3\",\"4\",\"5\",\"6\",\"7\",\"8\",\"9\",\"10\",\"11\"]},\"id\":\"70ab62ec-7845-4276-9c3f-d57c6f44f35f\",\"type\":\"FactorRange\"},{\"attributes\":{\"bottom_units\":\"screen\",\"fill_alpha\":{\"value\":0.5},\"fill_color\":{\"value\":\"lightgrey\"},\"left_units\":\"screen\",\"level\":\"overlay\",\"line_alpha\":{\"value\":1.0},\"line_color\":{\"value\":\"black\"},\"line_dash\":[4,4],\"line_width\":{\"value\":2},\"plot\":null,\"render_mode\":\"css\",\"right_units\":\"screen\",\"top_units\":\"screen\"},\"id\":\"891caf2e-f0c7-4c85-91de-74ba795ce8f9\",\"type\":\"BoxAnnotation\"},{\"attributes\":{\"callback\":null,\"data\":{\"band\":[\"1\",\"2\",\"3\",\"4\",\"5\",\"6\",\"7\",\"8\",\"9\",\"10\",\"11\"],\"flux\":{\"__ndarray__\":\"AAAAAyUF9r4AaoKo+wDYP4DPYb68ANO/ANyul6YIsD+Adtzwu+nfPwAyj/zBwLM/AIEU4cvplz+gE/5W/PDBvwAFptO6DcY/AKBF71TAjT8ApFGBk22APw==\",\"dtype\":\"float64\",\"shape\":[11]}},\"selected\":{\"id\":\"bd0a6db6-bbee-4bb3-a645-54e467e68847\",\"type\":\"Selection\"},\"selection_policy\":{\"id\":\"7adc74e2-580b-4b2e-bdcc-21d196749bd2\",\"type\":\"UnionRenderers\"}},\"id\":\"5ee5a4fb-b5ee-49cd-ba3b-6d6589c48a6a\",\"type\":\"ColumnDataSource\"},{\"attributes\":{},\"id\":\"12fd773b-b32f-4a03-94e4-e99151c4410d\",\"type\":\"HelpTool\"},{\"attributes\":{\"below\":[{\"id\":\"6d7ffe8a-3107-4781-90f0-36b78fda5922\",\"type\":\"CategoricalAxis\"}],\"left\":[{\"id\":\"33135a96-02a0-4631-8887-75877abda304\",\"type\":\"LinearAxis\"}],\"plot_height\":300,\"plot_width\":300,\"renderers\":[{\"id\":\"6d7ffe8a-3107-4781-90f0-36b78fda5922\",\"type\":\"CategoricalAxis\"},{\"id\":\"4bf76f81-30a7-438f-98c1-a91d318975d9\",\"type\":\"Grid\"},{\"id\":\"33135a96-02a0-4631-8887-75877abda304\",\"type\":\"LinearAxis\"},{\"id\":\"d7e98abf-5c0e-4c2e-b6f8-391df828bc5e\",\"type\":\"Grid\"},{\"id\":\"786dfbc5-7d3e-4df5-9c82-8903c728da8e\",\"type\":\"BoxAnnotation\"},{\"id\":\"ecc08906-1242-4ef6-b2eb-2bbac147c984\",\"type\":\"GlyphRenderer\"}],\"title\":{\"id\":\"51eac23f-f54f-49bb-8a4f-397347e991ec\",\"type\":\"Title\"},\"toolbar\":{\"id\":\"2ae90da0-477e-4c93-8e5b-145d401afe42\",\"type\":\"Toolbar\"},\"toolbar_location\":null,\"x_range\":{\"id\":\"70ab62ec-7845-4276-9c3f-d57c6f44f35f\",\"type\":\"FactorRange\"},\"x_scale\":{\"id\":\"346a75a9-8148-45c4-9f5f-a055ab288cc5\",\"type\":\"CategoricalScale\"},\"y_range\":{\"id\":\"cf9ba4d3-7623-4638-8cc2-739e9c583f4b\",\"type\":\"DataRange1d\"},\"y_scale\":{\"id\":\"ad9a4c8b-88a4-4922-b8ab-06089f47b175\",\"type\":\"LinearScale\"}},\"id\":\"d89d582e-82f1-4869-a865-e020dfa4f7e9\",\"subtype\":\"Figure\",\"type\":\"Plot\"},{\"attributes\":{},\"id\":\"81a748de-533f-44b8-bf64-20dca38f9e3f\",\"type\":\"BasicTicker\"},{\"attributes\":{\"source\":{\"id\":\"5ee5a4fb-b5ee-49cd-ba3b-6d6589c48a6a\",\"type\":\"ColumnDataSource\"}},\"id\":\"8343e0e7-bc1a-44f3-b775-3c51f9bfaa21\",\"type\":\"CDSView\"},{\"attributes\":{},\"id\":\"c7f09477-5ab2-4160-9ec8-deaba4af1d25\",\"type\":\"WheelZoomTool\"},{\"attributes\":{\"bottom_units\":\"screen\",\"fill_alpha\":{\"value\":0.5},\"fill_color\":{\"value\":\"lightgrey\"},\"left_units\":\"screen\",\"level\":\"overlay\",\"line_alpha\":{\"value\":1.0},\"line_color\":{\"value\":\"black\"},\"line_dash\":[4,4],\"line_width\":{\"value\":2},\"plot\":null,\"render_mode\":\"css\",\"right_units\":\"screen\",\"top_units\":\"screen\"},\"id\":\"786dfbc5-7d3e-4df5-9c82-8903c728da8e\",\"type\":\"BoxAnnotation\"},{\"attributes\":{\"plot\":{\"id\":\"d89d582e-82f1-4869-a865-e020dfa4f7e9\",\"subtype\":\"Figure\",\"type\":\"Plot\"},\"ticker\":{\"id\":\"19fe8938-b116-466a-9339-ae7cfc755b97\",\"type\":\"CategoricalTicker\"}},\"id\":\"4bf76f81-30a7-438f-98c1-a91d318975d9\",\"type\":\"Grid\"},{\"attributes\":{\"dimension\":1,\"plot\":{\"id\":\"d89d582e-82f1-4869-a865-e020dfa4f7e9\",\"subtype\":\"Figure\",\"type\":\"Plot\"},\"ticker\":{\"id\":\"81a748de-533f-44b8-bf64-20dca38f9e3f\",\"type\":\"BasicTicker\"}},\"id\":\"d7e98abf-5c0e-4c2e-b6f8-391df828bc5e\",\"type\":\"Grid\"},{\"attributes\":{\"data_source\":{\"id\":\"5ee5a4fb-b5ee-49cd-ba3b-6d6589c48a6a\",\"type\":\"ColumnDataSource\"},\"glyph\":{\"id\":\"b3d4166b-d5c8-4266-9f79-8b088b1642b2\",\"type\":\"VBar\"},\"hover_glyph\":null,\"muted_glyph\":null,\"nonselection_glyph\":{\"id\":\"f6275162-2121-4df7-89a4-bb1d92136dda\",\"type\":\"VBar\"},\"selection_glyph\":null,\"view\":{\"id\":\"8343e0e7-bc1a-44f3-b775-3c51f9bfaa21\",\"type\":\"CDSView\"}},\"id\":\"ecc08906-1242-4ef6-b2eb-2bbac147c984\",\"type\":\"GlyphRenderer\"},{\"attributes\":{\"axis_label\":\"flux (W m-2)\",\"formatter\":{\"id\":\"3939f794-40be-4712-ae17-01b7f0cb7121\",\"type\":\"BasicTickFormatter\"},\"plot\":{\"id\":\"d89d582e-82f1-4869-a865-e020dfa4f7e9\",\"subtype\":\"Figure\",\"type\":\"Plot\"},\"ticker\":{\"id\":\"81a748de-533f-44b8-bf64-20dca38f9e3f\",\"type\":\"BasicTicker\"}},\"id\":\"33135a96-02a0-4631-8887-75877abda304\",\"type\":\"LinearAxis\"},{\"attributes\":{\"callback\":null},\"id\":\"cf9ba4d3-7623-4638-8cc2-739e9c583f4b\",\"type\":\"DataRange1d\"},{\"attributes\":{},\"id\":\"cd0ab62c-d1d3-4b03-93c6-023d00d857d7\",\"type\":\"PanTool\"},{\"attributes\":{\"fill_color\":{\"value\":\"#1f77b4\"},\"line_color\":{\"value\":\"#1f77b4\"},\"top\":{\"field\":\"flux\"},\"width\":{\"value\":0.9},\"x\":{\"field\":\"band\"}},\"id\":\"931c1f6e-e626-4711-b175-20c037f9138d\",\"type\":\"VBar\"},{\"attributes\":{},\"id\":\"ad9a4c8b-88a4-4922-b8ab-06089f47b175\",\"type\":\"LinearScale\"},{\"attributes\":{},\"id\":\"b606570d-501f-4871-8b8a-f71fddf8171d\",\"type\":\"SaveTool\"},{\"attributes\":{\"fill_alpha\":{\"value\":0.1},\"fill_color\":{\"value\":\"#1f77b4\"},\"line_alpha\":{\"value\":0.1},\"line_color\":{\"value\":\"#1f77b4\"},\"top\":{\"field\":\"flux\"},\"width\":{\"value\":0.9},\"x\":{\"field\":\"band\"}},\"id\":\"f6275162-2121-4df7-89a4-bb1d92136dda\",\"type\":\"VBar\"},{\"attributes\":{},\"id\":\"1bf062af-4f59-42f7-996b-1fc32427e376\",\"type\":\"ResetTool\"},{\"attributes\":{\"active_drag\":\"auto\",\"active_inspect\":\"auto\",\"active_scroll\":\"auto\",\"active_tap\":\"auto\",\"tools\":[{\"id\":\"f9d09ab0-6eb7-48f8-92a5-89fd8ef43cb5\",\"type\":\"PanTool\"},{\"id\":\"a7dcb29a-73e4-42c5-ad05-7ebda2bbbd57\",\"type\":\"WheelZoomTool\"},{\"id\":\"f11066bd-e8e9-4c8d-8628-2baa6a449f73\",\"type\":\"BoxZoomTool\"},{\"id\":\"b606570d-501f-4871-8b8a-f71fddf8171d\",\"type\":\"SaveTool\"},{\"id\":\"1bf062af-4f59-42f7-996b-1fc32427e376\",\"type\":\"ResetTool\"},{\"id\":\"12fd773b-b32f-4a03-94e4-e99151c4410d\",\"type\":\"HelpTool\"}]},\"id\":\"2ae90da0-477e-4c93-8e5b-145d401afe42\",\"type\":\"Toolbar\"},{\"attributes\":{},\"id\":\"f8a40ff8-af3f-4676-b992-0a4b40dd8d8f\",\"type\":\"HelpTool\"},{\"attributes\":{},\"id\":\"19fe8938-b116-466a-9339-ae7cfc755b97\",\"type\":\"CategoricalTicker\"},{\"attributes\":{},\"id\":\"f9d09ab0-6eb7-48f8-92a5-89fd8ef43cb5\",\"type\":\"PanTool\"},{\"attributes\":{\"below\":[{\"id\":\"74890de0-b7b2-4776-93c6-5173c0144db1\",\"type\":\"CategoricalAxis\"}],\"left\":[{\"id\":\"d4d186f2-e829-4aed-aebc-66d92bc35453\",\"type\":\"LinearAxis\"}],\"plot_height\":300,\"plot_width\":300,\"renderers\":[{\"id\":\"74890de0-b7b2-4776-93c6-5173c0144db1\",\"type\":\"CategoricalAxis\"},{\"id\":\"853cbee0-72ad-486c-aeec-c384d134e948\",\"type\":\"Grid\"},{\"id\":\"d4d186f2-e829-4aed-aebc-66d92bc35453\",\"type\":\"LinearAxis\"},{\"id\":\"5a5f4d54-71d0-46cf-bc24-cbbb9b1bf806\",\"type\":\"Grid\"},{\"id\":\"cd973a91-36a9-4f01-b717-a2b1d2be1d08\",\"type\":\"BoxAnnotation\"},{\"id\":\"4ed72876-eb5d-4491-858d-c15ed5fe4616\",\"type\":\"GlyphRenderer\"}],\"title\":{\"id\":\"041b1bfa-2108-41e4-8b90-82b9821df4a4\",\"type\":\"Title\"},\"toolbar\":{\"id\":\"7cc68890-deef-469e-9276-8364e885aebf\",\"type\":\"Toolbar\"},\"toolbar_location\":null,\"x_range\":{\"id\":\"3c14acc6-485a-49b2-a909-8519782e62e7\",\"type\":\"FactorRange\"},\"x_scale\":{\"id\":\"d8e2b1b8-c2c7-4843-a65c-d93affa47d38\",\"type\":\"CategoricalScale\"},\"y_range\":{\"id\":\"e8d838d5-c94c-422c-8b26-5842b57c73e1\",\"type\":\"DataRange1d\"},\"y_scale\":{\"id\":\"162d9d7c-a37f-40d1-8eef-e72859527369\",\"type\":\"LinearScale\"}},\"id\":\"03a3d5c9-b02a-4130-98d6-00cdd1f5df1a\",\"subtype\":\"Figure\",\"type\":\"Plot\"},{\"attributes\":{\"overlay\":{\"id\":\"891caf2e-f0c7-4c85-91de-74ba795ce8f9\",\"type\":\"BoxAnnotation\"}},\"id\":\"93b468e3-dc82-4002-b1e3-04ed7a216356\",\"type\":\"BoxZoomTool\"},{\"attributes\":{\"fill_color\":{\"value\":\"#1f77b4\"},\"line_color\":{\"value\":\"#1f77b4\"},\"top\":{\"field\":\"flux\"},\"width\":{\"value\":0.9},\"x\":{\"field\":\"band\"}},\"id\":\"b3d4166b-d5c8-4266-9f79-8b088b1642b2\",\"type\":\"VBar\"},{\"attributes\":{\"data_source\":{\"id\":\"206b1d6a-5dea-4ba4-98c0-219d9eaa8b58\",\"type\":\"ColumnDataSource\"},\"glyph\":{\"id\":\"931c1f6e-e626-4711-b175-20c037f9138d\",\"type\":\"VBar\"},\"hover_glyph\":null,\"muted_glyph\":null,\"nonselection_glyph\":{\"id\":\"7bbd033b-d743-468c-9ba1-780d3b1471cb\",\"type\":\"VBar\"},\"selection_glyph\":null,\"view\":{\"id\":\"184bd8d5-978c-431c-8efe-761c1b6d3b9e\",\"type\":\"CDSView\"}},\"id\":\"1e3d29a5-03bb-4a9e-a6a0-fedb7499bd0e\",\"type\":\"GlyphRenderer\"},{\"attributes\":{},\"id\":\"d6fbecf8-7025-45dd-9aad-c64a29c8930d\",\"type\":\"ResetTool\"},{\"attributes\":{},\"id\":\"9008a445-5c85-4d90-991c-ef2f02694542\",\"type\":\"SaveTool\"},{\"attributes\":{\"overlay\":{\"id\":\"786dfbc5-7d3e-4df5-9c82-8903c728da8e\",\"type\":\"BoxAnnotation\"}},\"id\":\"f11066bd-e8e9-4c8d-8628-2baa6a449f73\",\"type\":\"BoxZoomTool\"},{\"attributes\":{},\"id\":\"91913f21-1964-4675-9527-4d91c3098d7d\",\"type\":\"PanTool\"},{\"attributes\":{\"dimension\":1,\"plot\":{\"id\":\"03a3d5c9-b02a-4130-98d6-00cdd1f5df1a\",\"subtype\":\"Figure\",\"type\":\"Plot\"},\"ticker\":{\"id\":\"2ae03c16-206d-4e40-b42f-1f0f5ddc88b0\",\"type\":\"BasicTicker\"}},\"id\":\"5a5f4d54-71d0-46cf-bc24-cbbb9b1bf806\",\"type\":\"Grid\"},{\"attributes\":{},\"id\":\"3939f794-40be-4712-ae17-01b7f0cb7121\",\"type\":\"BasicTickFormatter\"},{\"attributes\":{\"callback\":null,\"data\":{\"band\":[\"1\",\"2\",\"3\",\"4\",\"5\",\"6\",\"7\",\"8\",\"9\",\"10\",\"11\"],\"flux\":{\"__ndarray__\":\"AOIC0ChdyD+AEwg7xarSP8DjvWplwtO/QHBbW3he0z8AkszqHW7QPwASj8TL07G/wHx6bMuA2D8A6tK/JJW5vwAmamluhZC/QD96efDJwD9AKej2ksawPw==\",\"dtype\":\"float64\",\"shape\":[11]}},\"selected\":{\"id\":\"09e1bf26-7edf-4f54-b434-73860d62eff4\",\"type\":\"Selection\"},\"selection_policy\":{\"id\":\"a4dc1153-0386-4dad-86f0-8fc212c02cca\",\"type\":\"UnionRenderers\"}},\"id\":\"206b1d6a-5dea-4ba4-98c0-219d9eaa8b58\",\"type\":\"ColumnDataSource\"},{\"attributes\":{\"children\":[{\"id\":\"edc170d3-7007-4451-b9c4-cef16af22162\",\"type\":\"Row\"}]},\"id\":\"49aac7c4-b390-4362-86f9-606a1e2816f8\",\"type\":\"Column\"},{\"attributes\":{\"axis_label\":\"flux (W m-2)\",\"formatter\":{\"id\":\"f99196e7-4f7c-43e0-8ef9-5bd96cd30132\",\"type\":\"BasicTickFormatter\"},\"plot\":{\"id\":\"2b7f0294-014b-44e6-8d03-707b139994d3\",\"subtype\":\"Figure\",\"type\":\"Plot\"},\"ticker\":{\"id\":\"98fe4574-b5fe-4ba5-8749-cfb759f6a104\",\"type\":\"BasicTicker\"}},\"id\":\"e466e98c-55f1-4ee0-8509-0fc836764bd8\",\"type\":\"LinearAxis\"},{\"attributes\":{},\"id\":\"1f0ee1e0-f2f1-43b7-a629-dd6132f819fc\",\"type\":\"CategoricalTickFormatter\"},{\"attributes\":{},\"id\":\"a4dc1153-0386-4dad-86f0-8fc212c02cca\",\"type\":\"UnionRenderers\"},{\"attributes\":{\"active_drag\":\"auto\",\"active_inspect\":\"auto\",\"active_scroll\":\"auto\",\"active_tap\":\"auto\",\"tools\":[{\"id\":\"cd0ab62c-d1d3-4b03-93c6-023d00d857d7\",\"type\":\"PanTool\"},{\"id\":\"c7f09477-5ab2-4160-9ec8-deaba4af1d25\",\"type\":\"WheelZoomTool\"},{\"id\":\"93b468e3-dc82-4002-b1e3-04ed7a216356\",\"type\":\"BoxZoomTool\"},{\"id\":\"9008a445-5c85-4d90-991c-ef2f02694542\",\"type\":\"SaveTool\"},{\"id\":\"d6fbecf8-7025-45dd-9aad-c64a29c8930d\",\"type\":\"ResetTool\"},{\"id\":\"f8a40ff8-af3f-4676-b992-0a4b40dd8d8f\",\"type\":\"HelpTool\"}]},\"id\":\"a98c73af-7e75-4d5d-84a1-4e9e700940f8\",\"type\":\"Toolbar\"},{\"attributes\":{\"data_source\":{\"id\":\"468c209c-790b-4424-869e-ff5ba9471000\",\"type\":\"ColumnDataSource\"},\"glyph\":{\"id\":\"f03bb50c-d0fe-4dfc-8a1e-7da5acfa3949\",\"type\":\"VBar\"},\"hover_glyph\":null,\"muted_glyph\":null,\"nonselection_glyph\":{\"id\":\"e6859b93-0b05-4e1c-8c4b-0ce4f1896a48\",\"type\":\"VBar\"},\"selection_glyph\":null,\"view\":{\"id\":\"9f0a322b-075a-491b-995e-bc3b37cf1f95\",\"type\":\"CDSView\"}},\"id\":\"4ed72876-eb5d-4491-858d-c15ed5fe4616\",\"type\":\"GlyphRenderer\"},{\"attributes\":{\"callback\":null,\"data\":{\"band\":[\"1\",\"2\",\"3\",\"4\",\"5\",\"6\",\"7\",\"8\",\"9\",\"10\",\"11\"],\"flux\":{\"__ndarray__\":\"AFOZ3tVdyD8A2BIs7Vi1vwBYNyirM4i/AKplKWG/zj+AyB8MPPfOvwDgn1IlysK/gFjjbDoC1z8AYj4g0JmkP0B/ij56Hsi/QB6QnRrcvT9AQzegSnKtPw==\",\"dtype\":\"float64\",\"shape\":[11]}},\"selected\":{\"id\":\"18a41b9b-597c-4698-b3fa-5f3fadf5322f\",\"type\":\"Selection\"},\"selection_policy\":{\"id\":\"29c90c9e-fa7a-466f-8762-90ef8d6af165\",\"type\":\"UnionRenderers\"}},\"id\":\"468c209c-790b-4424-869e-ff5ba9471000\",\"type\":\"ColumnDataSource\"},{\"attributes\":{\"fill_color\":{\"value\":\"#1f77b4\"},\"line_color\":{\"value\":\"#1f77b4\"},\"top\":{\"field\":\"flux\"},\"width\":{\"value\":0.9},\"x\":{\"field\":\"band\"}},\"id\":\"f03bb50c-d0fe-4dfc-8a1e-7da5acfa3949\",\"type\":\"VBar\"},{\"attributes\":{\"plot\":null,\"text\":\"SFC flux. CLIRAD - CRD.\"},\"id\":\"51eac23f-f54f-49bb-8a4f-397347e991ec\",\"type\":\"Title\"},{\"attributes\":{\"axis_label\":\"spectral band\",\"formatter\":{\"id\":\"1f0ee1e0-f2f1-43b7-a629-dd6132f819fc\",\"type\":\"CategoricalTickFormatter\"},\"plot\":{\"id\":\"03a3d5c9-b02a-4130-98d6-00cdd1f5df1a\",\"subtype\":\"Figure\",\"type\":\"Plot\"},\"ticker\":{\"id\":\"6d7fc9e0-9f43-483d-a847-235557ea9ff3\",\"type\":\"CategoricalTicker\"}},\"id\":\"74890de0-b7b2-4776-93c6-5173c0144db1\",\"type\":\"CategoricalAxis\"},{\"attributes\":{\"active_drag\":\"auto\",\"active_inspect\":\"auto\",\"active_scroll\":\"auto\",\"active_tap\":\"auto\",\"tools\":[{\"id\":\"91913f21-1964-4675-9527-4d91c3098d7d\",\"type\":\"PanTool\"},{\"id\":\"39ba17c8-a337-474d-950b-b1c93b90e485\",\"type\":\"WheelZoomTool\"},{\"id\":\"08643f7d-0c8b-4411-a3c5-bf7aee015f9d\",\"type\":\"BoxZoomTool\"},{\"id\":\"dc2a5cc6-913a-4b3c-aebc-565624d13cf9\",\"type\":\"SaveTool\"},{\"id\":\"d3a943f6-9f13-478c-85e1-65779fe779c8\",\"type\":\"ResetTool\"},{\"id\":\"98ca13b7-c10b-4563-acc0-a420e0f197e0\",\"type\":\"HelpTool\"}]},\"id\":\"7cc68890-deef-469e-9276-8364e885aebf\",\"type\":\"Toolbar\"},{\"attributes\":{\"below\":[{\"id\":\"7aba4d1b-0946-4f1c-9e6c-6e53c15ffa26\",\"type\":\"CategoricalAxis\"}],\"left\":[{\"id\":\"e466e98c-55f1-4ee0-8509-0fc836764bd8\",\"type\":\"LinearAxis\"}],\"plot_height\":300,\"plot_width\":300,\"renderers\":[{\"id\":\"7aba4d1b-0946-4f1c-9e6c-6e53c15ffa26\",\"type\":\"CategoricalAxis\"},{\"id\":\"d8b1244f-ac34-4cd1-b679-ae32f4aea6c1\",\"type\":\"Grid\"},{\"id\":\"e466e98c-55f1-4ee0-8509-0fc836764bd8\",\"type\":\"LinearAxis\"},{\"id\":\"bb9eea17-618b-40ca-b850-a6db8eb1bfd4\",\"type\":\"Grid\"},{\"id\":\"891caf2e-f0c7-4c85-91de-74ba795ce8f9\",\"type\":\"BoxAnnotation\"},{\"id\":\"1e3d29a5-03bb-4a9e-a6a0-fedb7499bd0e\",\"type\":\"GlyphRenderer\"}],\"title\":{\"id\":\"438b7ae6-85f6-4a2e-bd93-33b4ec82e3a6\",\"type\":\"Title\"},\"toolbar\":{\"id\":\"a98c73af-7e75-4d5d-84a1-4e9e700940f8\",\"type\":\"Toolbar\"},\"toolbar_location\":null,\"x_range\":{\"id\":\"f15b7744-a759-4aac-a672-7e50652f9a76\",\"type\":\"FactorRange\"},\"x_scale\":{\"id\":\"1bfe72ee-4320-4c50-8334-ad1e76fb13b8\",\"type\":\"CategoricalScale\"},\"y_range\":{\"id\":\"aff13fcc-fe3f-495c-a6ed-5137499f3fa7\",\"type\":\"DataRange1d\"},\"y_scale\":{\"id\":\"e9894e75-2841-470b-9836-e00fb1e89743\",\"type\":\"LinearScale\"}},\"id\":\"2b7f0294-014b-44e6-8d03-707b139994d3\",\"subtype\":\"Figure\",\"type\":\"Plot\"},{\"attributes\":{},\"id\":\"51ada846-c67d-4cae-8b9f-ebc34664111f\",\"type\":\"CategoricalTickFormatter\"},{\"attributes\":{\"children\":[{\"id\":\"2b7f0294-014b-44e6-8d03-707b139994d3\",\"subtype\":\"Figure\",\"type\":\"Plot\"},{\"id\":\"d89d582e-82f1-4869-a865-e020dfa4f7e9\",\"subtype\":\"Figure\",\"type\":\"Plot\"},{\"id\":\"03a3d5c9-b02a-4130-98d6-00cdd1f5df1a\",\"subtype\":\"Figure\",\"type\":\"Plot\"}]},\"id\":\"edc170d3-7007-4451-b9c4-cef16af22162\",\"type\":\"Row\"},{\"attributes\":{},\"id\":\"e9894e75-2841-470b-9836-e00fb1e89743\",\"type\":\"LinearScale\"},{\"attributes\":{\"source\":{\"id\":\"468c209c-790b-4424-869e-ff5ba9471000\",\"type\":\"ColumnDataSource\"}},\"id\":\"9f0a322b-075a-491b-995e-bc3b37cf1f95\",\"type\":\"CDSView\"},{\"attributes\":{},\"id\":\"162d9d7c-a37f-40d1-8eef-e72859527369\",\"type\":\"LinearScale\"},{\"attributes\":{\"overlay\":{\"id\":\"cd973a91-36a9-4f01-b717-a2b1d2be1d08\",\"type\":\"BoxAnnotation\"}},\"id\":\"08643f7d-0c8b-4411-a3c5-bf7aee015f9d\",\"type\":\"BoxZoomTool\"},{\"attributes\":{},\"id\":\"bd0a6db6-bbee-4bb3-a645-54e467e68847\",\"type\":\"Selection\"},{\"attributes\":{\"toolbar\":{\"id\":\"1f31f86d-04d6-427e-b986-08c6c079f122\",\"type\":\"ProxyToolbar\"},\"toolbar_location\":\"above\"},\"id\":\"9b29aff8-7059-49e6-9f49-919f96a42817\",\"type\":\"ToolbarBox\"},{\"attributes\":{},\"id\":\"98ca13b7-c10b-4563-acc0-a420e0f197e0\",\"type\":\"HelpTool\"},{\"attributes\":{\"tools\":[{\"id\":\"cd0ab62c-d1d3-4b03-93c6-023d00d857d7\",\"type\":\"PanTool\"},{\"id\":\"c7f09477-5ab2-4160-9ec8-deaba4af1d25\",\"type\":\"WheelZoomTool\"},{\"id\":\"93b468e3-dc82-4002-b1e3-04ed7a216356\",\"type\":\"BoxZoomTool\"},{\"id\":\"9008a445-5c85-4d90-991c-ef2f02694542\",\"type\":\"SaveTool\"},{\"id\":\"d6fbecf8-7025-45dd-9aad-c64a29c8930d\",\"type\":\"ResetTool\"},{\"id\":\"f8a40ff8-af3f-4676-b992-0a4b40dd8d8f\",\"type\":\"HelpTool\"},{\"id\":\"f9d09ab0-6eb7-48f8-92a5-89fd8ef43cb5\",\"type\":\"PanTool\"},{\"id\":\"a7dcb29a-73e4-42c5-ad05-7ebda2bbbd57\",\"type\":\"WheelZoomTool\"},{\"id\":\"f11066bd-e8e9-4c8d-8628-2baa6a449f73\",\"type\":\"BoxZoomTool\"},{\"id\":\"b606570d-501f-4871-8b8a-f71fddf8171d\",\"type\":\"SaveTool\"},{\"id\":\"1bf062af-4f59-42f7-996b-1fc32427e376\",\"type\":\"ResetTool\"},{\"id\":\"12fd773b-b32f-4a03-94e4-e99151c4410d\",\"type\":\"HelpTool\"},{\"id\":\"91913f21-1964-4675-9527-4d91c3098d7d\",\"type\":\"PanTool\"},{\"id\":\"39ba17c8-a337-474d-950b-b1c93b90e485\",\"type\":\"WheelZoomTool\"},{\"id\":\"08643f7d-0c8b-4411-a3c5-bf7aee015f9d\",\"type\":\"BoxZoomTool\"},{\"id\":\"dc2a5cc6-913a-4b3c-aebc-565624d13cf9\",\"type\":\"SaveTool\"},{\"id\":\"d3a943f6-9f13-478c-85e1-65779fe779c8\",\"type\":\"ResetTool\"},{\"id\":\"98ca13b7-c10b-4563-acc0-a420e0f197e0\",\"type\":\"HelpTool\"}]},\"id\":\"1f31f86d-04d6-427e-b986-08c6c079f122\",\"type\":\"ProxyToolbar\"},{\"attributes\":{},\"id\":\"98fe4574-b5fe-4ba5-8749-cfb759f6a104\",\"type\":\"BasicTicker\"},{\"attributes\":{\"children\":[{\"id\":\"9b29aff8-7059-49e6-9f49-919f96a42817\",\"type\":\"ToolbarBox\"},{\"id\":\"49aac7c4-b390-4362-86f9-606a1e2816f8\",\"type\":\"Column\"}]},\"id\":\"469ee813-d050-43c7-831e-523ba04f2fef\",\"type\":\"Column\"},{\"attributes\":{},\"id\":\"09e1bf26-7edf-4f54-b434-73860d62eff4\",\"type\":\"Selection\"},{\"attributes\":{\"dimension\":1,\"plot\":{\"id\":\"2b7f0294-014b-44e6-8d03-707b139994d3\",\"subtype\":\"Figure\",\"type\":\"Plot\"},\"ticker\":{\"id\":\"98fe4574-b5fe-4ba5-8749-cfb759f6a104\",\"type\":\"BasicTicker\"}},\"id\":\"bb9eea17-618b-40ca-b850-a6db8eb1bfd4\",\"type\":\"Grid\"},{\"attributes\":{\"plot\":{\"id\":\"2b7f0294-014b-44e6-8d03-707b139994d3\",\"subtype\":\"Figure\",\"type\":\"Plot\"},\"ticker\":{\"id\":\"8fa8e8ed-09e6-4c5f-8e1a-6fa876f2dd58\",\"type\":\"CategoricalTicker\"}},\"id\":\"d8b1244f-ac34-4cd1-b679-ae32f4aea6c1\",\"type\":\"Grid\"},{\"attributes\":{},\"id\":\"29c90c9e-fa7a-466f-8762-90ef8d6af165\",\"type\":\"UnionRenderers\"},{\"attributes\":{\"callback\":null,\"factors\":[\"1\",\"2\",\"3\",\"4\",\"5\",\"6\",\"7\",\"8\",\"9\",\"10\",\"11\"]},\"id\":\"3c14acc6-485a-49b2-a909-8519782e62e7\",\"type\":\"FactorRange\"},{\"attributes\":{},\"id\":\"6d7fc9e0-9f43-483d-a847-235557ea9ff3\",\"type\":\"CategoricalTicker\"},{\"attributes\":{},\"id\":\"7adc74e2-580b-4b2e-bdcc-21d196749bd2\",\"type\":\"UnionRenderers\"},{\"attributes\":{},\"id\":\"8fa8e8ed-09e6-4c5f-8e1a-6fa876f2dd58\",\"type\":\"CategoricalTicker\"},{\"attributes\":{},\"id\":\"18a41b9b-597c-4698-b3fa-5f3fadf5322f\",\"type\":\"Selection\"},{\"attributes\":{},\"id\":\"d8e2b1b8-c2c7-4843-a65c-d93affa47d38\",\"type\":\"CategoricalScale\"},{\"attributes\":{\"fill_alpha\":{\"value\":0.1},\"fill_color\":{\"value\":\"#1f77b4\"},\"line_alpha\":{\"value\":0.1},\"line_color\":{\"value\":\"#1f77b4\"},\"top\":{\"field\":\"flux\"},\"width\":{\"value\":0.9},\"x\":{\"field\":\"band\"}},\"id\":\"7bbd033b-d743-468c-9ba1-780d3b1471cb\",\"type\":\"VBar\"},{\"attributes\":{},\"id\":\"2ae03c16-206d-4e40-b42f-1f0f5ddc88b0\",\"type\":\"BasicTicker\"},{\"attributes\":{\"bottom_units\":\"screen\",\"fill_alpha\":{\"value\":0.5},\"fill_color\":{\"value\":\"lightgrey\"},\"left_units\":\"screen\",\"level\":\"overlay\",\"line_alpha\":{\"value\":1.0},\"line_color\":{\"value\":\"black\"},\"line_dash\":[4,4],\"line_width\":{\"value\":2},\"plot\":null,\"render_mode\":\"css\",\"right_units\":\"screen\",\"top_units\":\"screen\"},\"id\":\"cd973a91-36a9-4f01-b717-a2b1d2be1d08\",\"type\":\"BoxAnnotation\"},{\"attributes\":{\"callback\":null},\"id\":\"aff13fcc-fe3f-495c-a6ed-5137499f3fa7\",\"type\":\"DataRange1d\"},{\"attributes\":{\"plot\":null,\"text\":\"Atmosphere heating. CLIRAD - CRD.\"},\"id\":\"041b1bfa-2108-41e4-8b90-82b9821df4a4\",\"type\":\"Title\"},{\"attributes\":{\"axis_label\":\"spectral band\",\"formatter\":{\"id\":\"c15918dd-b96e-4257-a4cc-80ee8ec86d32\",\"type\":\"CategoricalTickFormatter\"},\"plot\":{\"id\":\"2b7f0294-014b-44e6-8d03-707b139994d3\",\"subtype\":\"Figure\",\"type\":\"Plot\"},\"ticker\":{\"id\":\"8fa8e8ed-09e6-4c5f-8e1a-6fa876f2dd58\",\"type\":\"CategoricalTicker\"}},\"id\":\"7aba4d1b-0946-4f1c-9e6c-6e53c15ffa26\",\"type\":\"CategoricalAxis\"},{\"attributes\":{},\"id\":\"1bfe72ee-4320-4c50-8334-ad1e76fb13b8\",\"type\":\"CategoricalScale\"},{\"attributes\":{\"fill_alpha\":{\"value\":0.1},\"fill_color\":{\"value\":\"#1f77b4\"},\"line_alpha\":{\"value\":0.1},\"line_color\":{\"value\":\"#1f77b4\"},\"top\":{\"field\":\"flux\"},\"width\":{\"value\":0.9},\"x\":{\"field\":\"band\"}},\"id\":\"e6859b93-0b05-4e1c-8c4b-0ce4f1896a48\",\"type\":\"VBar\"},{\"attributes\":{\"callback\":null,\"factors\":[\"1\",\"2\",\"3\",\"4\",\"5\",\"6\",\"7\",\"8\",\"9\",\"10\",\"11\"]},\"id\":\"f15b7744-a759-4aac-a672-7e50652f9a76\",\"type\":\"FactorRange\"},{\"attributes\":{\"callback\":null},\"id\":\"e8d838d5-c94c-422c-8b26-5842b57c73e1\",\"type\":\"DataRange1d\"},{\"attributes\":{},\"id\":\"c15918dd-b96e-4257-a4cc-80ee8ec86d32\",\"type\":\"CategoricalTickFormatter\"},{\"attributes\":{},\"id\":\"dc2a5cc6-913a-4b3c-aebc-565624d13cf9\",\"type\":\"SaveTool\"},{\"attributes\":{},\"id\":\"d3a943f6-9f13-478c-85e1-65779fe779c8\",\"type\":\"ResetTool\"},{\"attributes\":{\"axis_label\":\"flux (W m-2)\",\"formatter\":{\"id\":\"e89e2e95-4691-4e34-9069-ea9896238d3b\",\"type\":\"BasicTickFormatter\"},\"plot\":{\"id\":\"03a3d5c9-b02a-4130-98d6-00cdd1f5df1a\",\"subtype\":\"Figure\",\"type\":\"Plot\"},\"ticker\":{\"id\":\"2ae03c16-206d-4e40-b42f-1f0f5ddc88b0\",\"type\":\"BasicTicker\"}},\"id\":\"d4d186f2-e829-4aed-aebc-66d92bc35453\",\"type\":\"LinearAxis\"},{\"attributes\":{\"plot\":{\"id\":\"03a3d5c9-b02a-4130-98d6-00cdd1f5df1a\",\"subtype\":\"Figure\",\"type\":\"Plot\"},\"ticker\":{\"id\":\"6d7fc9e0-9f43-483d-a847-235557ea9ff3\",\"type\":\"CategoricalTicker\"}},\"id\":\"853cbee0-72ad-486c-aeec-c384d134e948\",\"type\":\"Grid\"},{\"attributes\":{},\"id\":\"e89e2e95-4691-4e34-9069-ea9896238d3b\",\"type\":\"BasicTickFormatter\"},{\"attributes\":{},\"id\":\"39ba17c8-a337-474d-950b-b1c93b90e485\",\"type\":\"WheelZoomTool\"},{\"attributes\":{},\"id\":\"f99196e7-4f7c-43e0-8ef9-5bd96cd30132\",\"type\":\"BasicTickFormatter\"},{\"attributes\":{\"plot\":null,\"text\":\"TOA flux. CLIRAD - CRD.\"},\"id\":\"438b7ae6-85f6-4a2e-bd93-33b4ec82e3a6\",\"type\":\"Title\"}],\"root_ids\":[\"469ee813-d050-43c7-831e-523ba04f2fef\"]},\"title\":\"Bokeh Application\",\"version\":\"0.12.16\"}};\n",
       "  var render_items = [{\"docid\":\"a83a71e9-420c-4086-b681-588c71d01a32\",\"elementid\":\"cfe507cc-2aff-4599-8048-a8f29bfdf75c\",\"modelid\":\"469ee813-d050-43c7-831e-523ba04f2fef\"}];\n",
       "  root.Bokeh.embed.embed_items_notebook(docs_json, render_items);\n",
       "\n",
       "  }\n",
       "  if (root.Bokeh !== undefined) {\n",
       "    embed_document(root);\n",
       "  } else {\n",
       "    var attempts = 0;\n",
       "    var timer = setInterval(function(root) {\n",
       "      if (root.Bokeh !== undefined) {\n",
       "        embed_document(root);\n",
       "        clearInterval(timer);\n",
       "      }\n",
       "      attempts++;\n",
       "      if (attempts > 100) {\n",
       "        console.log(\"Bokeh: ERROR: Unable to run BokehJS code because BokehJS library is missing\")\n",
       "        clearInterval(timer);\n",
       "      }\n",
       "    }, 10, root)\n",
       "  }\n",
       "})(window);"
      ],
      "application/vnd.bokehjs_exec.v0+json": ""
     },
     "metadata": {
      "application/vnd.bokehjs_exec.v0+json": {
       "id": "469ee813-d050-43c7-831e-523ba04f2fef"
      }
     },
     "output_type": "display_data"
    },
    {
     "data": {
      "text/markdown": [
       "*FIGURE.* Difference between CLIRAD and CRD in TOA, SFC and net atmosphere flux, in each spectral band."
      ],
      "text/plain": [
       "<IPython.core.display.Markdown object>"
      ]
     },
     "metadata": {},
     "output_type": "display_data"
    },
    {
     "data": {
      "text/html": [
       "<div>\n",
       "<style scoped>\n",
       "    .dataframe tbody tr th:only-of-type {\n",
       "        vertical-align: middle;\n",
       "    }\n",
       "\n",
       "    .dataframe tbody tr th {\n",
       "        vertical-align: top;\n",
       "    }\n",
       "\n",
       "    .dataframe thead th {\n",
       "        text-align: right;\n",
       "    }\n",
       "</style>\n",
       "<table border=\"1\" class=\"dataframe\">\n",
       "  <thead>\n",
       "    <tr style=\"text-align: right;\">\n",
       "      <th></th>\n",
       "      <th>OLR flux</th>\n",
       "      <th>SFC flux</th>\n",
       "      <th>ATM heating</th>\n",
       "    </tr>\n",
       "    <tr>\n",
       "      <th>Sum over bands</th>\n",
       "      <th></th>\n",
       "      <th></th>\n",
       "      <th></th>\n",
       "    </tr>\n",
       "  </thead>\n",
       "  <tbody>\n",
       "    <tr>\n",
       "      <th>old CLIRAD - CRD</th>\n",
       "      <td>0.14</td>\n",
       "      <td>2.01</td>\n",
       "      <td>-1.73</td>\n",
       "    </tr>\n",
       "    <tr>\n",
       "      <th>CLIRAD - CRD</th>\n",
       "      <td>1.13</td>\n",
       "      <td>0.79</td>\n",
       "      <td>0.33</td>\n",
       "    </tr>\n",
       "    <tr>\n",
       "      <th>CRD</th>\n",
       "      <td>-290.39</td>\n",
       "      <td>308.14</td>\n",
       "      <td>-174.89</td>\n",
       "    </tr>\n",
       "  </tbody>\n",
       "</table>\n",
       "</div>"
      ],
      "text/plain": [
       "                  OLR flux  SFC flux  ATM heating\n",
       "Sum over bands                                   \n",
       "old CLIRAD - CRD      0.14      2.01        -1.73\n",
       "CLIRAD - CRD          1.13      0.79         0.33\n",
       "CRD                -290.39    308.14      -174.89"
      ]
     },
     "metadata": {},
     "output_type": "display_data"
    },
    {
     "data": {
      "text/markdown": [
       "*TABLE.* Difference between CLIRAD and CRD in TOA, SFC and net atmosphere flux, over all spectral bands. CRD's TOA, SFC and net atmosphere flux, over all spectral bands."
      ],
      "text/plain": [
       "<IPython.core.display.Markdown object>"
      ]
     },
     "metadata": {},
     "output_type": "display_data"
    },
    {
     "data": {
      "text/html": [
       "<a id=\"Cooling_rates._saw.\"></a>"
      ],
      "text/plain": [
       "<IPython.core.display.HTML object>"
      ]
     },
     "metadata": {},
     "output_type": "display_data"
    },
    {
     "data": {
      "text/markdown": [
       "# Cooling rates. saw."
      ],
      "text/plain": [
       "<IPython.core.display.Markdown object>"
      ]
     },
     "metadata": {},
     "output_type": "display_data"
    },
    {
     "data": {
      "text/html": [
       "\n",
       "<div class=\"bk-root\">\n",
       "    <div class=\"bk-plotdiv\" id=\"d96fbd86-f777-4eee-b70f-1532cb591a09\"></div>\n",
       "</div>"
      ]
     },
     "metadata": {},
     "output_type": "display_data"
    },
    {
     "data": {
      "application/javascript": [
       "(function(root) {\n",
       "  function embed_document(root) {\n",
       "    \n",
       "  var docs_json = {\"61e4a287-d973-49a8-a908-650e8815edd8\":{\"roots\":{\"references\":[{\"attributes\":{\"active_drag\":\"auto\",\"active_inspect\":\"auto\",\"active_scroll\":\"auto\",\"active_tap\":\"auto\",\"tools\":[{\"id\":\"92ec7552-9e76-432c-9041-52bd37d639f0\",\"type\":\"PanTool\"},{\"id\":\"cd0783b0-7de8-417f-bb82-cdfe2658d6b2\",\"type\":\"WheelZoomTool\"},{\"id\":\"06b2bed6-2ac2-47c4-a10e-b875d61cac7b\",\"type\":\"BoxZoomTool\"},{\"id\":\"19bc31b1-f76a-4e69-8fa7-f94b63119e0c\",\"type\":\"SaveTool\"},{\"id\":\"d4af19e9-2b21-4705-89f0-5b65ad8fb45d\",\"type\":\"ResetTool\"},{\"id\":\"7956f1e0-4509-41b0-b512-7aac1197d9c1\",\"type\":\"HelpTool\"}]},\"id\":\"c9ec431b-6b6d-4d28-9c23-e24c77502084\",\"type\":\"Toolbar\"},{\"attributes\":{},\"id\":\"fbb60004-eb60-4b00-85a7-305f15096db6\",\"type\":\"UnionRenderers\"},{\"attributes\":{},\"id\":\"4461e30d-2cab-4d36-97e2-ada830fa0e21\",\"type\":\"ResetTool\"},{\"attributes\":{\"source\":{\"id\":\"7cef9b96-86b3-41f9-8ffb-ea0f06b46a0e\",\"type\":\"ColumnDataSource\"}},\"id\":\"e5c3f851-69e5-4d5b-b57b-3b9d74c300de\",\"type\":\"CDSView\"},{\"attributes\":{\"children\":[{\"id\":\"0345b8a8-31a7-470f-898c-15ad0f705335\",\"subtype\":\"Figure\",\"type\":\"Plot\"},{\"id\":\"a3e603bb-62eb-4ae6-8c5a-bf39f2bd8b08\",\"subtype\":\"Figure\",\"type\":\"Plot\"},{\"id\":\"7c28c791-c3d5-45b7-a376-6858d8bbf7b8\",\"subtype\":\"Figure\",\"type\":\"Plot\"}]},\"id\":\"dc820264-b1f9-4293-9248-6431218790d7\",\"type\":\"Row\"},{\"attributes\":{\"fill_alpha\":{\"value\":0.7},\"fill_color\":{\"value\":\"#4daf4a\"},\"line_alpha\":{\"value\":0.7},\"line_color\":{\"value\":\"#4daf4a\"},\"x\":{\"field\":\"x\"},\"y\":{\"field\":\"y\"}},\"id\":\"278e8894-2bbb-48ee-b9ed-c25fa64c72e9\",\"type\":\"Circle\"},{\"attributes\":{\"source\":{\"id\":\"d469b07e-388e-4d6b-bf16-65da6451946e\",\"type\":\"ColumnDataSource\"}},\"id\":\"cbbb1031-5efc-4ca8-8413-06aa0cfdef02\",\"type\":\"CDSView\"},{\"attributes\":{\"callback\":null,\"data\":{\"x\":{\"__ndarray__\":\"0CYBcvU5UkCik9zf2GVBQF1VoNfLZ0BAVLxhiVXTPUDD1Wu1wJM6QFJyB025jjdAU6Aw5+b/NECYe1uuDfgyQB6bYtVTbTFAPxYSAF1HMEA00pYVm9QuQLolHbMzgC1AntlwirGsLECv+G9SjE4rQJH6ZLBp0ShAsLZQyPd/JkDyjgyf2PwkQLgyNGsrJyRAA13QbJD6I0C8hy0ilI4kQOVTXCEgcSZAovOGvZSGJUBVc/ZmUOIgQOf/6GHAyRlAcE8fAOBSFEDRur1U//gPQGFD9ZbokghAQsqHuSqSA0C91ci3W0UBQCtRQfvz7/4/kh8pntyB+j9t1/n+4TX1P773MAUjFfI/RgzR+CI28T8hBW8WHK7uPzVKjJfU8uk/0FPt4/z65T/wVYqzMPDhPz7K9C5CXuE/8+hSn9hY4T/9PPCkR6rhP1XsIC599OA/66X1nBCX3z/YbRM56QjcPz4dkSQc/dM/S7Wb8Fq00T+/yQdmX0vcP7TrGf476eM/WqNPJoWO7D9qOH1bcwDzP2bw+R5DQ/Y/RLSuQOQp+D8+aif8yAz5P0Wv6eBKRfk/0i2+IN4R+T/ik8QNFZr4PyS5UD5j/Pc/yJ68zXRG9z/2CHPL54H2P59SOhwKtPU/npkP8dfg9D8NlmVcdQz0P80ugRvuOvM/byxiAHN18j9USVZie8nxP5l9lNXYSPE/OB+F0UYP8T8Y7dsUCTHxP3EBgTHPcPE/bfx15p8S8T8FT+xkGtTuP6mdG7rkxuk/pboqTkHX5D/CrN8qGYngP7R4ZaL+htU/\",\"dtype\":\"float64\",\"shape\":[75]},\"y\":{\"__ndarray__\":\"GhExyth1ND/Sv8nbtpRIP2vylNV0PVE/aTum7souWD/At0SJ8fVgPw3Iuahxymc/MSNhhJWvcD/bTfBN02d3P2zb5nxnaoA/CD5h5MAGhz8NmeH1TyaQP+zrCsc9p5Y/LbKd76fGnz/bLW5ISEmmPww9YvTcQq8/JV2OstnstT8Er5Y7M8G+P0c+r3jqkcU/5h99k6ZBzj88bCIzFzjVP4enV8oyxN0//yH99nXg5D8qOpLLf0jtP5kqGJXUifQ/c9cS8kHP/D+/DpwzojQEQIEmwoanVwxA4lgXt9HgE0BSSZ2AJuIbQAMJih9jjiNA5q4l5INuK0AwTKYKRj0zQNv5fmq8/DpAaCJseHrtQkB/+zpwzoxKQM3MzMzMeFJAZmZmZmZqWEAAAAAAAFxeQM3MzMzMJmJAmpmZmZkfZUBmZmZmZhhoQDMzMzMzEWtAAAAAAAAKbkBmZmZmZoFwQM3MzMzM/XFAMzMzMzN6c0CamZmZmfZ0QAAAAAAAc3ZAZmZmZmbvd0DNzMzMzGt5QDMzMzMz6HpAmpmZmZlkfEAAAAAAAOF9QGZmZmZmXX9AZmZmZuZsgECamZmZGSuBQM3MzMxM6YFAAAAAAICngkAzMzMzs2WDQGZmZmbmI4RAmpmZmRnihEDNzMzMTKCFQAAAAACAXoZAMzMzM7Mch0BmZmZm5tqHQJqZmZkZmYhAzczMzExXiUAAAAAAgBWKQDMzMzOz04pAZmZmZuaRi0CamZmZGVCMQM3MzMxMDo1AAAAAAIDMjUAzMzMzs4qOQGZmZmbmSI9A\",\"dtype\":\"float64\",\"shape\":[75]}},\"selected\":{\"id\":\"509e7296-84f9-49c7-95ce-b17d7891fb96\",\"type\":\"Selection\"},\"selection_policy\":{\"id\":\"e871b3a3-f638-418b-aec3-2330439871f7\",\"type\":\"UnionRenderers\"}},\"id\":\"8d800e77-0e8d-48a9-affc-9157c287f740\",\"type\":\"ColumnDataSource\"},{\"attributes\":{\"data_source\":{\"id\":\"f3121f00-f186-41c1-9f7a-57c3a7f727c4\",\"type\":\"ColumnDataSource\"},\"glyph\":{\"id\":\"828bf18b-bc70-4fcb-80f0-2424dcc476dd\",\"type\":\"Line\"},\"hover_glyph\":null,\"muted_glyph\":null,\"nonselection_glyph\":{\"id\":\"8f6849bb-2ad9-49c6-94ab-6d9ca8b30b94\",\"type\":\"Line\"},\"selection_glyph\":null,\"view\":{\"id\":\"66d9d71d-fb78-4166-b80b-e2687407a60c\",\"type\":\"CDSView\"}},\"id\":\"b1c9a736-540d-4a88-b4b6-da9bb2c62ec4\",\"type\":\"GlyphRenderer\"},{\"attributes\":{\"callback\":null,\"data\":{\"x\":{\"__ndarray__\":\"K5c+YwNdQEBz2RxUvS08QH2TbA6SAz5A0GG8mz+pPkC0KOCx68g9QLpzV1PxWjtA53HiLL25N0DDfAko2b8zQOifa/MgeDBA309oR8M7LUD9XJSh204sQCXY/KaB2CxA8mLhlzy2LUCeUcvoCTwtQBkfgzTWoCpArRleMPpHJ0AxMbEMqHUkQPbHRVkn0SJAx7rpg2KjIkDnB7d+qbojQDg1ChWcKSZAcnQ9qs2qJUBAxWo/DychQAE+VtnEYRlAndcC9lpnE0DwfsG6tbQPQErc4Ud2vgpA23ZjnVfQBUD0BjCA7iYCQI+7a3DydP8/u3HquYUK/T+oM6S2xNj4PxAVECGeL/Q/gJmY8Swf8T9I0L1CKsbuP/qyFfZpXOw/rETYoZV+5z/d2r6JYyrhP71ufC7K0t0/6VMavO4v3T8UVwBxj6reP+rnwJm/Ud4/HQpIykzn3D//p4JRMGPaPy1Avroe8tI/7Nl5NdIE0T860AWQekPcPw3ovC4SwOM/sDFbHt6z6z/+/21GeCvyP4nshiZBb/U/B5sqgd+T9z/TTHWr+3H4P7VPeXXpbvg//XJhjU89+D+1VkQuMO/3PwUb13bMffc/cIOaVEbl9j+WCRrXYTP2P8ofPZoygPU/LBsnCte49D9DtMt4kenzPyS8l5xOEvM/8J+CzcZI8j/4/oiSEKHxP1yDFD7PLvE/1jbnFrEN8T9wPQrXo1DxP/jhafeAqPE/v16R+hNe8T8wlKzAGYfvPyrMTWR+h+o/kWaYyLiS5T9/QEUx10PhP2kfpXV/7NY/\",\"dtype\":\"float64\",\"shape\":[75]},\"y\":{\"__ndarray__\":\"S/O/Q+51ND/Sv8nbtpRIP2vylNV0PVE/aTum7souWD/At0SJ8fVgPw3Iuahxymc/MSNhhJWvcD/bTfBN02d3P2zb5nxnaoA/CD5h5MAGhz8NmeH1TyaQP+zrCsc9p5Y/LbKd76fGnz/bLW5ISEmmPww9YvTcQq8/JV2OstnstT8Er5Y7M8G+P0c+r3jqkcU/5h99k6ZBzj88bCIzFzjVP4enV8oyxN0//yH99nXg5D8qOpLLf0jtP5kqGJXUifQ/c9cS8kHP/D+/DpwzojQEQIEmwoanVwxA4lgXt9HgE0BSSZ2AJuIbQAMJih9jjiNA5q4l5INuK0AwTKYKRj0zQNv5fmq8/DpAaCJseHrtQkB/+zpwzoxKQM3MzMzMeFJAZmZmZmZqWEAAAAAAAFxeQM3MzMzMJmJAmpmZmZkfZUBmZmZmZhhoQDMzMzMzEWtAAAAAAAAKbkBmZmZmZoFwQM3MzMzM/XFAMzMzMzN6c0CamZmZmfZ0QAAAAAAAc3ZAZmZmZmbvd0DNzMzMzGt5QDMzMzMz6HpAmpmZmZlkfEAAAAAAAOF9QGZmZmZmXX9AZmZmZuZsgECamZmZGSuBQM3MzMxM6YFAAAAAAICngkAzMzMzs2WDQGZmZmbmI4RAmpmZmRnihEDNzMzMTKCFQAAAAACAXoZAMzMzM7Mch0BmZmZm5tqHQJqZmZkZmYhAzczMzExXiUAAAAAAgBWKQDMzMzOz04pAZmZmZuaRi0CamZmZGVCMQM3MzMxMDo1AAAAAAIDMjUAzMzMzs4qOQGZmZmbmSI9A\",\"dtype\":\"float64\",\"shape\":[75]}},\"selected\":{\"id\":\"f66d0811-f322-47dc-a1be-f03e09628399\",\"type\":\"Selection\"},\"selection_policy\":{\"id\":\"662a729f-d23c-4bf6-a715-c5b44853aad8\",\"type\":\"UnionRenderers\"}},\"id\":\"f3121f00-f186-41c1-9f7a-57c3a7f727c4\",\"type\":\"ColumnDataSource\"},{\"attributes\":{},\"id\":\"08b892a1-7ddf-458e-9345-41efe1b3611b\",\"type\":\"Selection\"},{\"attributes\":{\"line_alpha\":0.1,\"line_color\":\"#1f77b4\",\"line_width\":1.5,\"x\":{\"field\":\"x\"},\"y\":{\"field\":\"y\"}},\"id\":\"2d706678-bbfa-4e57-a682-489635b57d79\",\"type\":\"Line\"},{\"attributes\":{\"dimension\":1,\"plot\":{\"id\":\"7c28c791-c3d5-45b7-a376-6858d8bbf7b8\",\"subtype\":\"Figure\",\"type\":\"Plot\"},\"ticker\":{\"id\":\"58b1ddac-4249-49fc-8e6c-d0196dcd692d\",\"type\":\"LogTicker\"}},\"id\":\"405e072a-afb1-4783-916f-4789fe504823\",\"type\":\"Grid\"},{\"attributes\":{},\"id\":\"49be178f-4244-45d8-99a0-c08ed64e1e84\",\"type\":\"LogScale\"},{\"attributes\":{},\"id\":\"f66d0811-f322-47dc-a1be-f03e09628399\",\"type\":\"Selection\"},{\"attributes\":{},\"id\":\"c8066465-b580-4efd-b755-8f3717c021e7\",\"type\":\"BasicTicker\"},{\"attributes\":{\"bottom_units\":\"screen\",\"fill_alpha\":{\"value\":0.5},\"fill_color\":{\"value\":\"lightgrey\"},\"left_units\":\"screen\",\"level\":\"overlay\",\"line_alpha\":{\"value\":1.0},\"line_color\":{\"value\":\"black\"},\"line_dash\":[4,4],\"line_width\":{\"value\":2},\"plot\":null,\"render_mode\":\"css\",\"right_units\":\"screen\",\"top_units\":\"screen\"},\"id\":\"0d6ff4be-930f-42b8-80b6-f501b8063e96\",\"type\":\"BoxAnnotation\"},{\"attributes\":{\"data_source\":{\"id\":\"d469b07e-388e-4d6b-bf16-65da6451946e\",\"type\":\"ColumnDataSource\"},\"glyph\":{\"id\":\"278e8894-2bbb-48ee-b9ed-c25fa64c72e9\",\"type\":\"Circle\"},\"hover_glyph\":null,\"muted_glyph\":null,\"nonselection_glyph\":{\"id\":\"ed5626f5-cd00-47ce-996f-061608ba3190\",\"type\":\"Circle\"},\"selection_glyph\":null,\"view\":{\"id\":\"cbbb1031-5efc-4ca8-8413-06aa0cfdef02\",\"type\":\"CDSView\"}},\"id\":\"34c8ec93-7be5-4d5b-95e1-c3e34979500c\",\"type\":\"GlyphRenderer\"},{\"attributes\":{\"plot\":{\"id\":\"a3e603bb-62eb-4ae6-8c5a-bf39f2bd8b08\",\"subtype\":\"Figure\",\"type\":\"Plot\"},\"ticker\":{\"id\":\"c8066465-b580-4efd-b755-8f3717c021e7\",\"type\":\"BasicTicker\"}},\"id\":\"6b29fc6a-3a80-45df-b833-7507b577191e\",\"type\":\"Grid\"},{\"attributes\":{},\"id\":\"31f3a429-ee8b-446d-9031-43e143e8f4be\",\"type\":\"Selection\"},{\"attributes\":{},\"id\":\"5959d9d2-95b9-475c-8dba-b6eb4ca7d9c2\",\"type\":\"BasicTickFormatter\"},{\"attributes\":{\"fill_alpha\":{\"value\":0.7},\"fill_color\":{\"value\":\"#4daf4a\"},\"line_alpha\":{\"value\":0.7},\"line_color\":{\"value\":\"#4daf4a\"},\"x\":{\"field\":\"x\"},\"y\":{\"field\":\"y\"}},\"id\":\"6e9dbd41-76a3-4c95-b243-f15503f4fdf5\",\"type\":\"Circle\"},{\"attributes\":{\"data_source\":{\"id\":\"398f5732-c7a1-42fe-b39d-fa857d6782a1\",\"type\":\"ColumnDataSource\"},\"glyph\":{\"id\":\"19a12409-2c1e-41f4-8fc0-7752cbba1139\",\"type\":\"Circle\"},\"hover_glyph\":null,\"muted_glyph\":null,\"nonselection_glyph\":{\"id\":\"91009f92-f3ca-46bf-9ead-c9eb7dd379fc\",\"type\":\"Circle\"},\"selection_glyph\":null,\"view\":{\"id\":\"83899545-c603-413f-bfa7-39af2af29ba9\",\"type\":\"CDSView\"}},\"id\":\"55942e51-dd82-4357-a74f-96bf5e5da7e9\",\"type\":\"GlyphRenderer\"},{\"attributes\":{\"line_alpha\":0.1,\"line_color\":\"#1f77b4\",\"line_dash\":[6],\"line_width\":5,\"x\":{\"field\":\"x\"},\"y\":{\"field\":\"y\"}},\"id\":\"8f6849bb-2ad9-49c6-94ab-6d9ca8b30b94\",\"type\":\"Line\"},{\"attributes\":{\"fill_alpha\":{\"value\":0.1},\"fill_color\":{\"value\":\"#1f77b4\"},\"line_alpha\":{\"value\":0.1},\"line_color\":{\"value\":\"#1f77b4\"},\"x\":{\"field\":\"x\"},\"y\":{\"field\":\"y\"}},\"id\":\"ed5626f5-cd00-47ce-996f-061608ba3190\",\"type\":\"Circle\"},{\"attributes\":{\"data_source\":{\"id\":\"22d8470f-1836-4be7-94c1-18cd9f6cf7ed\",\"type\":\"ColumnDataSource\"},\"glyph\":{\"id\":\"7097647d-fb36-4945-a17d-ea0bc4cc5ca0\",\"type\":\"Line\"},\"hover_glyph\":null,\"muted_glyph\":null,\"nonselection_glyph\":{\"id\":\"86578aab-2c85-4f47-a0ef-55c59b2b15b9\",\"type\":\"Line\"},\"selection_glyph\":null,\"view\":{\"id\":\"2ad1ebcb-e9c6-4946-8237-24de7f1f0fa6\",\"type\":\"CDSView\"}},\"id\":\"ee39e8de-aab6-4ad9-9667-2d53e34b48bc\",\"type\":\"GlyphRenderer\"},{\"attributes\":{\"plot\":{\"id\":\"7c28c791-c3d5-45b7-a376-6858d8bbf7b8\",\"subtype\":\"Figure\",\"type\":\"Plot\"},\"ticker\":{\"id\":\"6199a787-daa5-403b-81d8-ad0a253a0a1e\",\"type\":\"BasicTicker\"}},\"id\":\"7279dac6-743f-4edd-9b01-53a09d819ead\",\"type\":\"Grid\"},{\"attributes\":{\"active_drag\":\"auto\",\"active_inspect\":\"auto\",\"active_scroll\":\"auto\",\"active_tap\":\"auto\",\"tools\":[{\"id\":\"0d1a9cbd-717f-4474-91d9-40ceb283d43a\",\"type\":\"PanTool\"},{\"id\":\"65d1d13a-a43c-442e-ba3f-de55cde2aba5\",\"type\":\"WheelZoomTool\"},{\"id\":\"7a926a06-0917-4147-ab57-61f1663ee0ec\",\"type\":\"BoxZoomTool\"},{\"id\":\"a58e582e-f03a-44bd-9535-140b73ec879c\",\"type\":\"SaveTool\"},{\"id\":\"4461e30d-2cab-4d36-97e2-ada830fa0e21\",\"type\":\"ResetTool\"},{\"id\":\"8557b2bb-3f58-419c-9116-962d968d7fad\",\"type\":\"HelpTool\"}]},\"id\":\"faf88d63-f809-4e1a-9651-fc7d351e3263\",\"type\":\"Toolbar\"},{\"attributes\":{\"num_minor_ticks\":10},\"id\":\"58b1ddac-4249-49fc-8e6c-d0196dcd692d\",\"type\":\"LogTicker\"},{\"attributes\":{\"source\":{\"id\":\"8d800e77-0e8d-48a9-affc-9157c287f740\",\"type\":\"ColumnDataSource\"}},\"id\":\"b33defed-5016-4ed5-b79a-aaf81e45c5fa\",\"type\":\"CDSView\"},{\"attributes\":{\"data_source\":{\"id\":\"7cef9b96-86b3-41f9-8ffb-ea0f06b46a0e\",\"type\":\"ColumnDataSource\"},\"glyph\":{\"id\":\"2594123e-e78a-48ce-bd97-8795a6dbdb7e\",\"type\":\"Line\"},\"hover_glyph\":null,\"muted_glyph\":null,\"nonselection_glyph\":{\"id\":\"cfc77980-5ce4-4234-9c9c-4efc2134c72e\",\"type\":\"Line\"},\"selection_glyph\":null,\"view\":{\"id\":\"e5c3f851-69e5-4d5b-b57b-3b9d74c300de\",\"type\":\"CDSView\"}},\"id\":\"81308c15-fd97-42c0-94e5-b3c9e37caa05\",\"type\":\"GlyphRenderer\"},{\"attributes\":{\"callback\":null,\"data\":{\"x\":{\"__ndarray__\":\"0CYBcvU5UkCik9zf2GVBQF1VoNfLZ0BAVLxhiVXTPUDD1Wu1wJM6QFJyB025jjdAU6Aw5+b/NECYe1uuDfgyQB6bYtVTbTFAPxYSAF1HMEA00pYVm9QuQLolHbMzgC1AntlwirGsLECv+G9SjE4rQJH6ZLBp0ShAsLZQyPd/JkDyjgyf2PwkQLgyNGsrJyRAA13QbJD6I0C8hy0ilI4kQOVTXCEgcSZAovOGvZSGJUBVc/ZmUOIgQOf/6GHAyRlAcE8fAOBSFEDRur1U//gPQGFD9ZbokghAQsqHuSqSA0C91ci3W0UBQCtRQfvz7/4/kh8pntyB+j9t1/n+4TX1P773MAUjFfI/RgzR+CI28T8hBW8WHK7uPzVKjJfU8uk/0FPt4/z65T/wVYqzMPDhPz7K9C5CXuE/8+hSn9hY4T/9PPCkR6rhP1XsIC599OA/66X1nBCX3z/YbRM56QjcPz4dkSQc/dM/S7Wb8Fq00T+/yQdmX0vcP7TrGf476eM/WqNPJoWO7D9qOH1bcwDzP2bw+R5DQ/Y/RLSuQOQp+D8+aif8yAz5P0Wv6eBKRfk/0i2+IN4R+T/ik8QNFZr4PyS5UD5j/Pc/yJ68zXRG9z/2CHPL54H2P59SOhwKtPU/npkP8dfg9D8NlmVcdQz0P80ugRvuOvM/byxiAHN18j9USVZie8nxP5l9lNXYSPE/OB+F0UYP8T8Y7dsUCTHxP3EBgTHPcPE/bfx15p8S8T8FT+xkGtTuP6mdG7rkxuk/pboqTkHX5D/CrN8qGYngP7R4ZaL+htU/\",\"dtype\":\"float64\",\"shape\":[75]},\"y\":{\"__ndarray__\":\"GhExyth1ND/Sv8nbtpRIP2vylNV0PVE/aTum7souWD/At0SJ8fVgPw3Iuahxymc/MSNhhJWvcD/bTfBN02d3P2zb5nxnaoA/CD5h5MAGhz8NmeH1TyaQP+zrCsc9p5Y/LbKd76fGnz/bLW5ISEmmPww9YvTcQq8/JV2OstnstT8Er5Y7M8G+P0c+r3jqkcU/5h99k6ZBzj88bCIzFzjVP4enV8oyxN0//yH99nXg5D8qOpLLf0jtP5kqGJXUifQ/c9cS8kHP/D+/DpwzojQEQIEmwoanVwxA4lgXt9HgE0BSSZ2AJuIbQAMJih9jjiNA5q4l5INuK0AwTKYKRj0zQNv5fmq8/DpAaCJseHrtQkB/+zpwzoxKQM3MzMzMeFJAZmZmZmZqWEAAAAAAAFxeQM3MzMzMJmJAmpmZmZkfZUBmZmZmZhhoQDMzMzMzEWtAAAAAAAAKbkBmZmZmZoFwQM3MzMzM/XFAMzMzMzN6c0CamZmZmfZ0QAAAAAAAc3ZAZmZmZmbvd0DNzMzMzGt5QDMzMzMz6HpAmpmZmZlkfEAAAAAAAOF9QGZmZmZmXX9AZmZmZuZsgECamZmZGSuBQM3MzMxM6YFAAAAAAICngkAzMzMzs2WDQGZmZmbmI4RAmpmZmRnihEDNzMzMTKCFQAAAAACAXoZAMzMzM7Mch0BmZmZm5tqHQJqZmZkZmYhAzczMzExXiUAAAAAAgBWKQDMzMzOz04pAZmZmZuaRi0CamZmZGVCMQM3MzMxMDo1AAAAAAIDMjUAzMzMzs4qOQGZmZmbmSI9A\",\"dtype\":\"float64\",\"shape\":[75]}},\"selected\":{\"id\":\"31f3a429-ee8b-446d-9031-43e143e8f4be\",\"type\":\"Selection\"},\"selection_policy\":{\"id\":\"e84c332d-5b41-4d60-9588-d39745e5cb91\",\"type\":\"UnionRenderers\"}},\"id\":\"d469b07e-388e-4d6b-bf16-65da6451946e\",\"type\":\"ColumnDataSource\"},{\"attributes\":{\"label\":{\"value\":\"CLIRAD\"},\"renderers\":[{\"id\":\"b1c9a736-540d-4a88-b4b6-da9bb2c62ec4\",\"type\":\"GlyphRenderer\"}]},\"id\":\"ee796776-0511-4541-92bf-8da038f22869\",\"type\":\"LegendItem\"},{\"attributes\":{},\"id\":\"05ec4a2e-39cf-4ade-a478-9447c34eaacc\",\"type\":\"LinearScale\"},{\"attributes\":{\"axis_label\":\"pressure [mb]\",\"formatter\":{\"id\":\"43a2b315-5fc8-49c4-9fdb-b56e22285ec0\",\"type\":\"LogTickFormatter\"},\"plot\":{\"id\":\"a3e603bb-62eb-4ae6-8c5a-bf39f2bd8b08\",\"subtype\":\"Figure\",\"type\":\"Plot\"},\"ticker\":{\"id\":\"5e5c8574-8a7e-4e6f-beb3-5c928f74613a\",\"type\":\"LogTicker\"}},\"id\":\"f484a409-163b-46f2-9dab-4431dcac563f\",\"type\":\"LogAxis\"},{\"attributes\":{\"line_alpha\":0.8,\"line_color\":\"#984ea3\",\"line_width\":1.5,\"x\":{\"field\":\"x\"},\"y\":{\"field\":\"y\"}},\"id\":\"2594123e-e78a-48ce-bd97-8795a6dbdb7e\",\"type\":\"Line\"},{\"attributes\":{\"callback\":null,\"data\":{\"x\":{\"__ndarray__\":\"0CYBcvU5UkCik9zf2GVBQF1VoNfLZ0BAVLxhiVXTPUDD1Wu1wJM6QFJyB025jjdAU6Aw5+b/NECYe1uuDfgyQB6bYtVTbTFAPxYSAF1HMEA00pYVm9QuQLolHbMzgC1AntlwirGsLECv+G9SjE4rQJH6ZLBp0ShAsLZQyPd/JkDyjgyf2PwkQLgyNGsrJyRAA13QbJD6I0C8hy0ilI4kQOVTXCEgcSZAovOGvZSGJUBVc/ZmUOIgQOf/6GHAyRlAcE8fAOBSFEDRur1U//gPQGFD9ZbokghAQsqHuSqSA0C91ci3W0UBQCtRQfvz7/4/kh8pntyB+j9t1/n+4TX1P773MAUjFfI/RgzR+CI28T8hBW8WHK7uPzVKjJfU8uk/0FPt4/z65T/wVYqzMPDhPz7K9C5CXuE/8+hSn9hY4T/9PPCkR6rhP1XsIC599OA/66X1nBCX3z/YbRM56QjcPz4dkSQc/dM/S7Wb8Fq00T+/yQdmX0vcP7TrGf476eM/WqNPJoWO7D9qOH1bcwDzP2bw+R5DQ/Y/RLSuQOQp+D8+aif8yAz5P0Wv6eBKRfk/0i2+IN4R+T/ik8QNFZr4PyS5UD5j/Pc/yJ68zXRG9z/2CHPL54H2P59SOhwKtPU/npkP8dfg9D8NlmVcdQz0P80ugRvuOvM/byxiAHN18j9USVZie8nxP5l9lNXYSPE/OB+F0UYP8T8Y7dsUCTHxP3EBgTHPcPE/bfx15p8S8T8FT+xkGtTuP6mdG7rkxuk/pboqTkHX5D/CrN8qGYngP7R4ZaL+htU/\",\"dtype\":\"float64\",\"shape\":[75]},\"y\":{\"__ndarray__\":\"GhExyth1ND/Sv8nbtpRIP2vylNV0PVE/aTum7souWD/At0SJ8fVgPw3Iuahxymc/MSNhhJWvcD/bTfBN02d3P2zb5nxnaoA/CD5h5MAGhz8NmeH1TyaQP+zrCsc9p5Y/LbKd76fGnz/bLW5ISEmmPww9YvTcQq8/JV2OstnstT8Er5Y7M8G+P0c+r3jqkcU/5h99k6ZBzj88bCIzFzjVP4enV8oyxN0//yH99nXg5D8qOpLLf0jtP5kqGJXUifQ/c9cS8kHP/D+/DpwzojQEQIEmwoanVwxA4lgXt9HgE0BSSZ2AJuIbQAMJih9jjiNA5q4l5INuK0AwTKYKRj0zQNv5fmq8/DpAaCJseHrtQkB/+zpwzoxKQM3MzMzMeFJAZmZmZmZqWEAAAAAAAFxeQM3MzMzMJmJAmpmZmZkfZUBmZmZmZhhoQDMzMzMzEWtAAAAAAAAKbkBmZmZmZoFwQM3MzMzM/XFAMzMzMzN6c0CamZmZmfZ0QAAAAAAAc3ZAZmZmZmbvd0DNzMzMzGt5QDMzMzMz6HpAmpmZmZlkfEAAAAAAAOF9QGZmZmZmXX9AZmZmZuZsgECamZmZGSuBQM3MzMxM6YFAAAAAAICngkAzMzMzs2WDQGZmZmbmI4RAmpmZmRnihEDNzMzMTKCFQAAAAACAXoZAMzMzM7Mch0BmZmZm5tqHQJqZmZkZmYhAzczMzExXiUAAAAAAgBWKQDMzMzOz04pAZmZmZuaRi0CamZmZGVCMQM3MzMxMDo1AAAAAAIDMjUAzMzMzs4qOQGZmZmbmSI9A\",\"dtype\":\"float64\",\"shape\":[75]}},\"selected\":{\"id\":\"eefe1a66-2351-4150-abd7-ca91cb389d06\",\"type\":\"Selection\"},\"selection_policy\":{\"id\":\"005b01c2-563d-416c-a3af-8b508966475c\",\"type\":\"UnionRenderers\"}},\"id\":\"f9e957f6-09d1-4235-96b1-1ef7279f2cc9\",\"type\":\"ColumnDataSource\"},{\"attributes\":{\"line_color\":\"#4daf4a\",\"line_width\":1.5,\"x\":{\"field\":\"x\"},\"y\":{\"field\":\"y\"}},\"id\":\"e6c3f6cc-4071-4c76-bd45-81dd084bddc4\",\"type\":\"Line\"},{\"attributes\":{},\"id\":\"8557b2bb-3f58-419c-9116-962d968d7fad\",\"type\":\"HelpTool\"},{\"attributes\":{},\"id\":\"6f6bab03-8160-4638-8ad5-ac19cf448278\",\"type\":\"UnionRenderers\"},{\"attributes\":{\"fill_alpha\":{\"value\":0.1},\"fill_color\":{\"value\":\"#1f77b4\"},\"line_alpha\":{\"value\":0.1},\"line_color\":{\"value\":\"#1f77b4\"},\"x\":{\"field\":\"x\"},\"y\":{\"field\":\"y\"}},\"id\":\"a8a33505-806c-4943-a890-5e277b2f8688\",\"type\":\"Circle\"},{\"attributes\":{},\"id\":\"0157577f-1c08-45c4-ac29-3dddd8df755c\",\"type\":\"LinearScale\"},{\"attributes\":{},\"id\":\"f6b8f02a-206c-498d-84da-5a3128edded2\",\"type\":\"LogScale\"},{\"attributes\":{\"source\":{\"id\":\"f3121f00-f186-41c1-9f7a-57c3a7f727c4\",\"type\":\"ColumnDataSource\"}},\"id\":\"66d9d71d-fb78-4166-b80b-e2687407a60c\",\"type\":\"CDSView\"},{\"attributes\":{},\"id\":\"4a6b472e-6141-41c2-994e-16819aeae5c9\",\"type\":\"UnionRenderers\"},{\"attributes\":{\"source\":{\"id\":\"22d8470f-1836-4be7-94c1-18cd9f6cf7ed\",\"type\":\"ColumnDataSource\"}},\"id\":\"2ad1ebcb-e9c6-4946-8237-24de7f1f0fa6\",\"type\":\"CDSView\"},{\"attributes\":{\"num_minor_ticks\":10},\"id\":\"5e5c8574-8a7e-4e6f-beb3-5c928f74613a\",\"type\":\"LogTicker\"},{\"attributes\":{\"source\":{\"id\":\"398f5732-c7a1-42fe-b39d-fa857d6782a1\",\"type\":\"ColumnDataSource\"}},\"id\":\"83899545-c603-413f-bfa7-39af2af29ba9\",\"type\":\"CDSView\"},{\"attributes\":{},\"id\":\"662a729f-d23c-4bf6-a715-c5b44853aad8\",\"type\":\"UnionRenderers\"},{\"attributes\":{\"items\":[{\"id\":\"ee796776-0511-4541-92bf-8da038f22869\",\"type\":\"LegendItem\"},{\"id\":\"9d0800f9-0df4-4701-8cd1-ec1535648647\",\"type\":\"LegendItem\"}],\"label_text_font_size\":{\"value\":\"8pt\"},\"location\":\"top_center\",\"orientation\":\"horizontal\",\"plot\":{\"id\":\"a3e603bb-62eb-4ae6-8c5a-bf39f2bd8b08\",\"subtype\":\"Figure\",\"type\":\"Plot\"}},\"id\":\"8a5fcaa9-3b4b-4765-9600-70d8e5e04914\",\"type\":\"Legend\"},{\"attributes\":{\"callback\":null,\"data\":{\"x\":{\"__ndarray__\":\"TTdxrtF3GsDZuaAGLWAGwLCvVEtCveo/lZei41epCUBCC4AywGEOQKWMji2yzgVAbiXANW/56D9QZt8+XKbuv/rk3sW1l/q/takToPst9L+YsgmEQfbUvzWVCNewmOA/7Y61ZdnX7j9ySOJByPbsP1pfrAFNANk/Q7hrSxLm0L8jrOYeQWDlv8Ajao7ecuW/kPrPblR92r8aq4cUA+HBv05oQFt2HLI/NXoUHbYvwT+eebAk4v65v2z6jkOhcM2/lvgOf2YSob9Mx2SHbVzRP8Rk3R5n8dE/5CbmDFkyvD+DTE2lzp+gPzORCt5IRcQ/vOFSvRUXzT+W6vje2NPAP6/IcjgH9na/RSfLTiwOaD8bRkv0qkyzP9UNr96LOag/PmJvOaW5mL/9lrS96Kazv/33LQoKB7a/iouAY/+nsr8HhgcU1rmsv33ebJUefqW/ol0MeY5bmr/x0C2d1q+Qv+NrO2QX8YW/tBXmB1iTP79E04Gu55R0vyE1jv7gVJu/Ww3noWKfqr9ye2AOP4Cqv5kng/CXwKK/K61DFqpZo7/98QtuLcyqv6pal2vSkaq/uqUH8Jtcpb+Wh2fesaWfv8XVhkieS5i/Tdg/Fn2hk7/mapn+wOuJv6Q3P3RzAIS/2+XwzPFxgb9rVLl0v0+EvwE/xm8ZVoa/US2l5mc1hL/iO/p/lwl6v0ATht6pWzm//llQLsKafz+eQ3D04tiLP+iU2AYF3ZI/RqUIeOtflj8M0EVGNROYP3N9tU3vbpc/bHeyzMBXlz9Za/ozDViWPw==\",\"dtype\":\"float64\",\"shape\":[74]},\"y\":{\"__ndarray__\":\"0r/J27aUSD9r8pTVdD1RP2k7pu7KLlg/wLdEifH1YD8NyLmoccpnPzEjYYSVr3A/203wTdNndz9s2+Z8Z2qAPwg+YeTABoc/DZnh9U8mkD/s6wrHPaeWPy2yne+nxp8/2y1uSEhJpj8MPWL03EKvPyVdjrLZ7LU/BK+WOzPBvj9HPq946pHFP+YffZOmQc4/PGwiMxc41T+Hp1fKMsTdP/8h/fZ14OQ/KjqSy39I7T+ZKhiV1In0P3PXEvJBz/w/vw6cM6I0BECBJsKGp1cMQOJYF7fR4BNAUkmdgCbiG0ADCYofY44jQOauJeSDbitAMEymCkY9M0Db+X5qvPw6QGgibHh67UJAf/s6cM6MSkDNzMzMzHhSQGZmZmZmalhAAAAAAABcXkDNzMzMzCZiQJqZmZmZH2VAZmZmZmYYaEAzMzMzMxFrQAAAAAAACm5AZmZmZmaBcEDNzMzMzP1xQDMzMzMzenNAmpmZmZn2dEAAAAAAAHN2QGZmZmZm73dAzczMzMxreUAzMzMzM+h6QJqZmZmZZHxAAAAAAADhfUBmZmZmZl1/QGZmZmbmbIBAmpmZmRkrgUDNzMzMTOmBQAAAAACAp4JAMzMzM7Nlg0BmZmZm5iOEQJqZmZkZ4oRAzczMzEyghUAAAAAAgF6GQDMzMzOzHIdAZmZmZubah0CamZmZGZmIQM3MzMxMV4lAAAAAAIAVikAzMzMzs9OKQGZmZmbmkYtAmpmZmRlQjEDNzMzMTA6NQAAAAACAzI1AMzMzM7OKjkBmZmZm5kiPQA==\",\"dtype\":\"float64\",\"shape\":[74]}},\"selected\":{\"id\":\"e1377f9f-5af0-4ea2-b550-793ff6316496\",\"type\":\"Selection\"},\"selection_policy\":{\"id\":\"dc5bc68f-9147-4c0a-8029-1d2affe64cb7\",\"type\":\"UnionRenderers\"}},\"id\":\"7cef9b96-86b3-41f9-8ffb-ea0f06b46a0e\",\"type\":\"ColumnDataSource\"},{\"attributes\":{\"callback\":null,\"end\":0.01,\"start\":1020},\"id\":\"e1069016-81cd-484e-8cbc-919890dc168e\",\"type\":\"Range1d\"},{\"attributes\":{\"data_source\":{\"id\":\"8d800e77-0e8d-48a9-affc-9157c287f740\",\"type\":\"ColumnDataSource\"},\"glyph\":{\"id\":\"6e9dbd41-76a3-4c95-b243-f15503f4fdf5\",\"type\":\"Circle\"},\"hover_glyph\":null,\"muted_glyph\":null,\"nonselection_glyph\":{\"id\":\"a8a33505-806c-4943-a890-5e277b2f8688\",\"type\":\"Circle\"},\"selection_glyph\":null,\"view\":{\"id\":\"b33defed-5016-4ed5-b79a-aaf81e45c5fa\",\"type\":\"CDSView\"}},\"id\":\"5cf966f0-ad22-4786-97b9-48d76c235e4d\",\"type\":\"GlyphRenderer\"},{\"attributes\":{\"line_color\":\"#4daf4a\",\"line_width\":1.5,\"x\":{\"field\":\"x\"},\"y\":{\"field\":\"y\"}},\"id\":\"cbe7cbf3-acd6-43f6-9b6b-8a989a8f341f\",\"type\":\"Line\"},{\"attributes\":{\"above\":[{\"id\":\"8a5fcaa9-3b4b-4765-9600-70d8e5e04914\",\"type\":\"Legend\"}],\"below\":[{\"id\":\"94d1a23f-846a-4901-a899-ed3ff681ca79\",\"type\":\"LinearAxis\"}],\"left\":[{\"id\":\"f484a409-163b-46f2-9dab-4431dcac563f\",\"type\":\"LogAxis\"}],\"plot_width\":300,\"renderers\":[{\"id\":\"94d1a23f-846a-4901-a899-ed3ff681ca79\",\"type\":\"LinearAxis\"},{\"id\":\"6b29fc6a-3a80-45df-b833-7507b577191e\",\"type\":\"Grid\"},{\"id\":\"f484a409-163b-46f2-9dab-4431dcac563f\",\"type\":\"LogAxis\"},{\"id\":\"ce26cb65-8edd-4a3c-9db3-9bdf87147623\",\"type\":\"Grid\"},{\"id\":\"0d6ff4be-930f-42b8-80b6-f501b8063e96\",\"type\":\"BoxAnnotation\"},{\"id\":\"b1c9a736-540d-4a88-b4b6-da9bb2c62ec4\",\"type\":\"GlyphRenderer\"},{\"id\":\"5cf966f0-ad22-4786-97b9-48d76c235e4d\",\"type\":\"GlyphRenderer\"},{\"id\":\"f3dd8714-40ac-4ca8-83a9-bf3a0727b4ad\",\"type\":\"GlyphRenderer\"},{\"id\":\"8a5fcaa9-3b4b-4765-9600-70d8e5e04914\",\"type\":\"Legend\"}],\"title\":{\"id\":\"e3dde600-0093-4c18-afd9-79f15617300e\",\"type\":\"Title\"},\"toolbar\":{\"id\":\"faf88d63-f809-4e1a-9651-fc7d351e3263\",\"type\":\"Toolbar\"},\"toolbar_location\":null,\"x_range\":{\"id\":\"d01864e8-8caa-4d0a-b33a-6ddd62d8362e\",\"type\":\"Range1d\"},\"x_scale\":{\"id\":\"05ec4a2e-39cf-4ade-a478-9447c34eaacc\",\"type\":\"LinearScale\"},\"y_range\":{\"id\":\"896e257d-01b1-4d5b-bb0a-248511482193\",\"type\":\"Range1d\"},\"y_scale\":{\"id\":\"49be178f-4244-45d8-99a0-c08ed64e1e84\",\"type\":\"LogScale\"}},\"id\":\"a3e603bb-62eb-4ae6-8c5a-bf39f2bd8b08\",\"subtype\":\"Figure\",\"type\":\"Plot\"},{\"attributes\":{\"fill_alpha\":{\"value\":0.1},\"fill_color\":{\"value\":\"#1f77b4\"},\"line_alpha\":{\"value\":0.1},\"line_color\":{\"value\":\"#1f77b4\"},\"x\":{\"field\":\"x\"},\"y\":{\"field\":\"y\"}},\"id\":\"91009f92-f3ca-46bf-9ead-c9eb7dd379fc\",\"type\":\"Circle\"},{\"attributes\":{\"source\":{\"id\":\"7243e179-7163-4baa-bdda-72095d67fc84\",\"type\":\"ColumnDataSource\"}},\"id\":\"2f19e148-609d-475e-80a2-a96c36f9c3f0\",\"type\":\"CDSView\"},{\"attributes\":{\"callback\":null,\"end\":0.9901076539675107,\"start\":-1.6882974602205094},\"id\":\"9222dc47-7786-4340-b8aa-ea33183a2ed2\",\"type\":\"Range1d\"},{\"attributes\":{\"label\":{\"value\":\"CLIRAD\"},\"renderers\":[{\"id\":\"ee39e8de-aab6-4ad9-9667-2d53e34b48bc\",\"type\":\"GlyphRenderer\"}]},\"id\":\"bfbc51ae-c968-4753-b207-4859a1ceb75f\",\"type\":\"LegendItem\"},{\"attributes\":{\"axis_label\":\"cooling rate [K/day]\",\"formatter\":{\"id\":\"61b8be58-1062-44d1-8295-6992835ab8cd\",\"type\":\"BasicTickFormatter\"},\"plot\":{\"id\":\"7c28c791-c3d5-45b7-a376-6858d8bbf7b8\",\"subtype\":\"Figure\",\"type\":\"Plot\"},\"ticker\":{\"id\":\"6199a787-daa5-403b-81d8-ad0a253a0a1e\",\"type\":\"BasicTicker\"}},\"id\":\"0cdd2fc1-f3bf-4980-b465-42d3d1c29561\",\"type\":\"LinearAxis\"},{\"attributes\":{\"ticker\":null},\"id\":\"1afc400f-4b39-4d10-b76b-239245fb5c1f\",\"type\":\"LogTickFormatter\"},{\"attributes\":{},\"id\":\"6199a787-daa5-403b-81d8-ad0a253a0a1e\",\"type\":\"BasicTicker\"},{\"attributes\":{\"axis_label\":\"cooling rate [K/day]\",\"formatter\":{\"id\":\"e890cc47-145e-413e-9b97-1c3b402a689a\",\"type\":\"BasicTickFormatter\"},\"plot\":{\"id\":\"a3e603bb-62eb-4ae6-8c5a-bf39f2bd8b08\",\"subtype\":\"Figure\",\"type\":\"Plot\"},\"ticker\":{\"id\":\"c8066465-b580-4efd-b755-8f3717c021e7\",\"type\":\"BasicTicker\"}},\"id\":\"94d1a23f-846a-4901-a899-ed3ff681ca79\",\"type\":\"LinearAxis\"},{\"attributes\":{\"data_source\":{\"id\":\"f9e957f6-09d1-4235-96b1-1ef7279f2cc9\",\"type\":\"ColumnDataSource\"},\"glyph\":{\"id\":\"e6c3f6cc-4071-4c76-bd45-81dd084bddc4\",\"type\":\"Line\"},\"hover_glyph\":null,\"muted_glyph\":null,\"nonselection_glyph\":{\"id\":\"7e5ba8b9-0fb4-4386-95a9-54dd0b032a76\",\"type\":\"Line\"},\"selection_glyph\":null,\"view\":{\"id\":\"bf4fd646-03f2-4133-b117-dda95bdf926c\",\"type\":\"CDSView\"}},\"id\":\"f3dd8714-40ac-4ca8-83a9-bf3a0727b4ad\",\"type\":\"GlyphRenderer\"},{\"attributes\":{\"plot\":null,\"text\":\"\"},\"id\":\"e3dde600-0093-4c18-afd9-79f15617300e\",\"type\":\"Title\"},{\"attributes\":{\"axis_label\":\"pressure [mb]\",\"formatter\":{\"id\":\"1afc400f-4b39-4d10-b76b-239245fb5c1f\",\"type\":\"LogTickFormatter\"},\"plot\":{\"id\":\"7c28c791-c3d5-45b7-a376-6858d8bbf7b8\",\"subtype\":\"Figure\",\"type\":\"Plot\"},\"ticker\":{\"id\":\"58b1ddac-4249-49fc-8e6c-d0196dcd692d\",\"type\":\"LogTicker\"}},\"id\":\"ba2dfadd-37bd-4e12-9ecc-4eb460de1603\",\"type\":\"LogAxis\"},{\"attributes\":{\"callback\":null,\"data\":{\"x\":{\"__ndarray__\":\"0CYBcvU5UkCik9zf2GVBQF1VoNfLZ0BAVLxhiVXTPUDD1Wu1wJM6QFJyB025jjdAU6Aw5+b/NECYe1uuDfgyQB6bYtVTbTFAPxYSAF1HMEA00pYVm9QuQLolHbMzgC1AntlwirGsLECv+G9SjE4rQJH6ZLBp0ShAsLZQyPd/JkDyjgyf2PwkQLgyNGsrJyRAA13QbJD6I0C8hy0ilI4kQOVTXCEgcSZAovOGvZSGJUBVc/ZmUOIgQOf/6GHAyRlAcE8fAOBSFEDRur1U//gPQGFD9ZbokghAQsqHuSqSA0C91ci3W0UBQCtRQfvz7/4/kh8pntyB+j9t1/n+4TX1P773MAUjFfI/RgzR+CI28T8hBW8WHK7uPzVKjJfU8uk/0FPt4/z65T/wVYqzMPDhPz7K9C5CXuE/8+hSn9hY4T/9PPCkR6rhP1XsIC599OA/66X1nBCX3z/YbRM56QjcPz4dkSQc/dM/S7Wb8Fq00T+/yQdmX0vcP7TrGf476eM/WqNPJoWO7D9qOH1bcwDzP2bw+R5DQ/Y/RLSuQOQp+D8+aif8yAz5P0Wv6eBKRfk/0i2+IN4R+T/ik8QNFZr4PyS5UD5j/Pc/yJ68zXRG9z/2CHPL54H2P59SOhwKtPU/npkP8dfg9D8NlmVcdQz0P80ugRvuOvM/byxiAHN18j9USVZie8nxP5l9lNXYSPE/OB+F0UYP8T8Y7dsUCTHxP3EBgTHPcPE/bfx15p8S8T8FT+xkGtTuP6mdG7rkxuk/pboqTkHX5D/CrN8qGYngP7R4ZaL+htU/\",\"dtype\":\"float64\",\"shape\":[75]},\"y\":{\"__ndarray__\":\"GhExyth1ND/Sv8nbtpRIP2vylNV0PVE/aTum7souWD/At0SJ8fVgPw3Iuahxymc/MSNhhJWvcD/bTfBN02d3P2zb5nxnaoA/CD5h5MAGhz8NmeH1TyaQP+zrCsc9p5Y/LbKd76fGnz/bLW5ISEmmPww9YvTcQq8/JV2OstnstT8Er5Y7M8G+P0c+r3jqkcU/5h99k6ZBzj88bCIzFzjVP4enV8oyxN0//yH99nXg5D8qOpLLf0jtP5kqGJXUifQ/c9cS8kHP/D+/DpwzojQEQIEmwoanVwxA4lgXt9HgE0BSSZ2AJuIbQAMJih9jjiNA5q4l5INuK0AwTKYKRj0zQNv5fmq8/DpAaCJseHrtQkB/+zpwzoxKQM3MzMzMeFJAZmZmZmZqWEAAAAAAAFxeQM3MzMzMJmJAmpmZmZkfZUBmZmZmZhhoQDMzMzMzEWtAAAAAAAAKbkBmZmZmZoFwQM3MzMzM/XFAMzMzMzN6c0CamZmZmfZ0QAAAAAAAc3ZAZmZmZmbvd0DNzMzMzGt5QDMzMzMz6HpAmpmZmZlkfEAAAAAAAOF9QGZmZmZmXX9AZmZmZuZsgECamZmZGSuBQM3MzMxM6YFAAAAAAICngkAzMzMzs2WDQGZmZmbmI4RAmpmZmRnihEDNzMzMTKCFQAAAAACAXoZAMzMzM7Mch0BmZmZm5tqHQJqZmZkZmYhAzczMzExXiUAAAAAAgBWKQDMzMzOz04pAZmZmZuaRi0CamZmZGVCMQM3MzMxMDo1AAAAAAIDMjUAzMzMzs4qOQGZmZmbmSI9A\",\"dtype\":\"float64\",\"shape\":[75]}},\"selected\":{\"id\":\"08b892a1-7ddf-458e-9345-41efe1b3611b\",\"type\":\"Selection\"},\"selection_policy\":{\"id\":\"fbb60004-eb60-4b00-85a7-305f15096db6\",\"type\":\"UnionRenderers\"}},\"id\":\"7243e179-7163-4baa-bdda-72095d67fc84\",\"type\":\"ColumnDataSource\"},{\"attributes\":{\"data_source\":{\"id\":\"7243e179-7163-4baa-bdda-72095d67fc84\",\"type\":\"ColumnDataSource\"},\"glyph\":{\"id\":\"cbe7cbf3-acd6-43f6-9b6b-8a989a8f341f\",\"type\":\"Line\"},\"hover_glyph\":null,\"muted_glyph\":null,\"nonselection_glyph\":{\"id\":\"2d706678-bbfa-4e57-a682-489635b57d79\",\"type\":\"Line\"},\"selection_glyph\":null,\"view\":{\"id\":\"2f19e148-609d-475e-80a2-a96c36f9c3f0\",\"type\":\"CDSView\"}},\"id\":\"c02f6e21-1019-446a-a389-93a2b2342fcb\",\"type\":\"GlyphRenderer\"},{\"attributes\":{\"line_alpha\":0.1,\"line_color\":\"#1f77b4\",\"line_width\":1.5,\"x\":{\"field\":\"x\"},\"y\":{\"field\":\"y\"}},\"id\":\"7e5ba8b9-0fb4-4386-95a9-54dd0b032a76\",\"type\":\"Line\"},{\"attributes\":{\"line_alpha\":0.1,\"line_color\":\"#1f77b4\",\"line_width\":1.5,\"x\":{\"field\":\"x\"},\"y\":{\"field\":\"y\"}},\"id\":\"cfc77980-5ce4-4234-9c9c-4efc2134c72e\",\"type\":\"Line\"},{\"attributes\":{\"items\":[{\"id\":\"cf3b41dc-b686-46b1-a42e-fbac68bcb2ed\",\"type\":\"LegendItem\"}],\"label_text_font_size\":{\"value\":\"8pt\"},\"location\":\"top_center\",\"orientation\":\"horizontal\",\"plot\":{\"id\":\"7c28c791-c3d5-45b7-a376-6858d8bbf7b8\",\"subtype\":\"Figure\",\"type\":\"Plot\"}},\"id\":\"d3186904-7097-4221-9a84-05a62f15dedf\",\"type\":\"Legend\"},{\"attributes\":{\"children\":[{\"id\":\"dc820264-b1f9-4293-9248-6431218790d7\",\"type\":\"Row\"}]},\"id\":\"0d36a329-992c-46c4-83f8-1ebc73fcc5d7\",\"type\":\"Column\"},{\"attributes\":{\"label\":{\"value\":\"CRD\"},\"renderers\":[{\"id\":\"34c8ec93-7be5-4d5b-95e1-c3e34979500c\",\"type\":\"GlyphRenderer\"},{\"id\":\"c02f6e21-1019-446a-a389-93a2b2342fcb\",\"type\":\"GlyphRenderer\"}]},\"id\":\"4730481f-f39f-4521-80e8-631605b067bb\",\"type\":\"LegendItem\"},{\"attributes\":{\"label\":{\"value\":\"CRD\"},\"renderers\":[{\"id\":\"5cf966f0-ad22-4786-97b9-48d76c235e4d\",\"type\":\"GlyphRenderer\"},{\"id\":\"f3dd8714-40ac-4ca8-83a9-bf3a0727b4ad\",\"type\":\"GlyphRenderer\"}]},\"id\":\"9d0800f9-0df4-4701-8cd1-ec1535648647\",\"type\":\"LegendItem\"},{\"attributes\":{},\"id\":\"a58e582e-f03a-44bd-9535-140b73ec879c\",\"type\":\"SaveTool\"},{\"attributes\":{},\"id\":\"19bc31b1-f76a-4e69-8fa7-f94b63119e0c\",\"type\":\"SaveTool\"},{\"attributes\":{\"items\":[{\"id\":\"bfbc51ae-c968-4753-b207-4859a1ceb75f\",\"type\":\"LegendItem\"},{\"id\":\"4730481f-f39f-4521-80e8-631605b067bb\",\"type\":\"LegendItem\"}],\"label_text_font_size\":{\"value\":\"8pt\"},\"location\":\"top_center\",\"orientation\":\"horizontal\",\"plot\":{\"id\":\"0345b8a8-31a7-470f-898c-15ad0f705335\",\"subtype\":\"Figure\",\"type\":\"Plot\"}},\"id\":\"5bc05566-5499-453a-aab6-66996156f4cd\",\"type\":\"Legend\"},{\"attributes\":{\"fill_alpha\":{\"value\":0.7},\"fill_color\":{\"value\":\"#984ea3\"},\"line_alpha\":{\"value\":0.7},\"line_color\":{\"value\":\"#984ea3\"},\"x\":{\"field\":\"x\"},\"y\":{\"field\":\"y\"}},\"id\":\"19a12409-2c1e-41f4-8fc0-7752cbba1139\",\"type\":\"Circle\"},{\"attributes\":{},\"id\":\"509e7296-84f9-49c7-95ce-b17d7891fb96\",\"type\":\"Selection\"},{\"attributes\":{},\"id\":\"cd0783b0-7de8-417f-bb82-cdfe2658d6b2\",\"type\":\"WheelZoomTool\"},{\"attributes\":{\"dimension\":1,\"plot\":{\"id\":\"0345b8a8-31a7-470f-898c-15ad0f705335\",\"subtype\":\"Figure\",\"type\":\"Plot\"},\"ticker\":{\"id\":\"523bacd6-5b0a-43ac-9007-c046378bfd66\",\"type\":\"BasicTicker\"}},\"id\":\"628f6a43-6c3f-4285-8bbc-730239e5c055\",\"type\":\"Grid\"},{\"attributes\":{\"overlay\":{\"id\":\"68efe4a5-95e3-420e-84bf-7e5e919f09a5\",\"type\":\"BoxAnnotation\"}},\"id\":\"06b2bed6-2ac2-47c4-a10e-b875d61cac7b\",\"type\":\"BoxZoomTool\"},{\"attributes\":{},\"id\":\"7956f1e0-4509-41b0-b512-7aac1197d9c1\",\"type\":\"HelpTool\"},{\"attributes\":{\"above\":[{\"id\":\"5bc05566-5499-453a-aab6-66996156f4cd\",\"type\":\"Legend\"}],\"below\":[{\"id\":\"b08f2cbb-61e6-4e98-9ab7-c6ca8f133a66\",\"type\":\"LinearAxis\"}],\"left\":[{\"id\":\"4d3d7ea7-f6aa-4af4-86f2-de5db104d397\",\"type\":\"LinearAxis\"}],\"plot_width\":300,\"renderers\":[{\"id\":\"b08f2cbb-61e6-4e98-9ab7-c6ca8f133a66\",\"type\":\"LinearAxis\"},{\"id\":\"d0eaf6b2-85fd-4fd1-996d-1e2b2c7b4a14\",\"type\":\"Grid\"},{\"id\":\"4d3d7ea7-f6aa-4af4-86f2-de5db104d397\",\"type\":\"LinearAxis\"},{\"id\":\"628f6a43-6c3f-4285-8bbc-730239e5c055\",\"type\":\"Grid\"},{\"id\":\"8cb28cc8-8b1f-4cd2-a8e7-1d76e5b8b09d\",\"type\":\"BoxAnnotation\"},{\"id\":\"ee39e8de-aab6-4ad9-9667-2d53e34b48bc\",\"type\":\"GlyphRenderer\"},{\"id\":\"34c8ec93-7be5-4d5b-95e1-c3e34979500c\",\"type\":\"GlyphRenderer\"},{\"id\":\"c02f6e21-1019-446a-a389-93a2b2342fcb\",\"type\":\"GlyphRenderer\"},{\"id\":\"5bc05566-5499-453a-aab6-66996156f4cd\",\"type\":\"Legend\"}],\"title\":{\"id\":\"5724e719-894d-4b15-83b8-ed89d7521d43\",\"type\":\"Title\"},\"toolbar\":{\"id\":\"e80cc826-1104-4758-a46b-96ea97e39c55\",\"type\":\"Toolbar\"},\"toolbar_location\":null,\"x_range\":{\"id\":\"910396bc-46f9-457c-81c9-b27d77ba99df\",\"type\":\"Range1d\"},\"x_scale\":{\"id\":\"6647add9-82f6-470e-8701-d8e0518a27f2\",\"type\":\"LinearScale\"},\"y_range\":{\"id\":\"e1069016-81cd-484e-8cbc-919890dc168e\",\"type\":\"Range1d\"},\"y_scale\":{\"id\":\"9b9d0811-2c1a-41e9-a017-8fecc34bb3d5\",\"type\":\"LinearScale\"}},\"id\":\"0345b8a8-31a7-470f-898c-15ad0f705335\",\"subtype\":\"Figure\",\"type\":\"Plot\"},{\"attributes\":{},\"id\":\"005b01c2-563d-416c-a3af-8b508966475c\",\"type\":\"UnionRenderers\"},{\"attributes\":{\"axis_label\":\"pressure [mb]\",\"formatter\":{\"id\":\"5959d9d2-95b9-475c-8dba-b6eb4ca7d9c2\",\"type\":\"BasicTickFormatter\"},\"plot\":{\"id\":\"0345b8a8-31a7-470f-898c-15ad0f705335\",\"subtype\":\"Figure\",\"type\":\"Plot\"},\"ticker\":{\"id\":\"523bacd6-5b0a-43ac-9007-c046378bfd66\",\"type\":\"BasicTicker\"}},\"id\":\"4d3d7ea7-f6aa-4af4-86f2-de5db104d397\",\"type\":\"LinearAxis\"},{\"attributes\":{},\"id\":\"eefe1a66-2351-4150-abd7-ca91cb389d06\",\"type\":\"Selection\"},{\"attributes\":{\"bottom_units\":\"screen\",\"fill_alpha\":{\"value\":0.5},\"fill_color\":{\"value\":\"lightgrey\"},\"left_units\":\"screen\",\"level\":\"overlay\",\"line_alpha\":{\"value\":1.0},\"line_color\":{\"value\":\"black\"},\"line_dash\":[4,4],\"line_width\":{\"value\":2},\"plot\":null,\"render_mode\":\"css\",\"right_units\":\"screen\",\"top_units\":\"screen\"},\"id\":\"68efe4a5-95e3-420e-84bf-7e5e919f09a5\",\"type\":\"BoxAnnotation\"},{\"attributes\":{},\"id\":\"e871b3a3-f638-418b-aec3-2330439871f7\",\"type\":\"UnionRenderers\"},{\"attributes\":{},\"id\":\"523bacd6-5b0a-43ac-9007-c046378bfd66\",\"type\":\"BasicTicker\"},{\"attributes\":{\"plot\":{\"id\":\"0345b8a8-31a7-470f-898c-15ad0f705335\",\"subtype\":\"Figure\",\"type\":\"Plot\"},\"ticker\":{\"id\":\"f3e8785b-8408-430d-b152-51444c0e6011\",\"type\":\"BasicTicker\"}},\"id\":\"d0eaf6b2-85fd-4fd1-996d-1e2b2c7b4a14\",\"type\":\"Grid\"},{\"attributes\":{},\"id\":\"61b8be58-1062-44d1-8295-6992835ab8cd\",\"type\":\"BasicTickFormatter\"},{\"attributes\":{\"overlay\":{\"id\":\"0d6ff4be-930f-42b8-80b6-f501b8063e96\",\"type\":\"BoxAnnotation\"}},\"id\":\"7a926a06-0917-4147-ab57-61f1663ee0ec\",\"type\":\"BoxZoomTool\"},{\"attributes\":{\"line_alpha\":0.6,\"line_color\":\"#e41a1c\",\"line_dash\":[6],\"line_width\":5,\"x\":{\"field\":\"x\"},\"y\":{\"field\":\"y\"}},\"id\":\"828bf18b-bc70-4fcb-80f0-2424dcc476dd\",\"type\":\"Line\"},{\"attributes\":{},\"id\":\"65d1d13a-a43c-442e-ba3f-de55cde2aba5\",\"type\":\"WheelZoomTool\"},{\"attributes\":{\"plot\":null,\"text\":\"\"},\"id\":\"18d19f68-b08b-4e41-ab25-eb453ef1115a\",\"type\":\"Title\"},{\"attributes\":{},\"id\":\"d4af19e9-2b21-4705-89f0-5b65ad8fb45d\",\"type\":\"ResetTool\"},{\"attributes\":{\"bottom_units\":\"screen\",\"fill_alpha\":{\"value\":0.5},\"fill_color\":{\"value\":\"lightgrey\"},\"left_units\":\"screen\",\"level\":\"overlay\",\"line_alpha\":{\"value\":1.0},\"line_color\":{\"value\":\"black\"},\"line_dash\":[4,4],\"line_width\":{\"value\":2},\"plot\":null,\"render_mode\":\"css\",\"right_units\":\"screen\",\"top_units\":\"screen\"},\"id\":\"8cb28cc8-8b1f-4cd2-a8e7-1d76e5b8b09d\",\"type\":\"BoxAnnotation\"},{\"attributes\":{},\"id\":\"0d1a9cbd-717f-4474-91d9-40ceb283d43a\",\"type\":\"PanTool\"},{\"attributes\":{},\"id\":\"92ec7552-9e76-432c-9041-52bd37d639f0\",\"type\":\"PanTool\"},{\"attributes\":{\"source\":{\"id\":\"f9e957f6-09d1-4235-96b1-1ef7279f2cc9\",\"type\":\"ColumnDataSource\"}},\"id\":\"bf4fd646-03f2-4133-b117-dda95bdf926c\",\"type\":\"CDSView\"},{\"attributes\":{\"callback\":null,\"data\":{\"x\":{\"__ndarray__\":\"TTdxrtF3GsDZuaAGLWAGwLCvVEtCveo/lZei41epCUBCC4AywGEOQKWMji2yzgVAbiXANW/56D9QZt8+XKbuv/rk3sW1l/q/takToPst9L+YsgmEQfbUvzWVCNewmOA/7Y61ZdnX7j9ySOJByPbsP1pfrAFNANk/Q7hrSxLm0L8jrOYeQWDlv8Ajao7ecuW/kPrPblR92r8aq4cUA+HBv05oQFt2HLI/NXoUHbYvwT+eebAk4v65v2z6jkOhcM2/lvgOf2YSob9Mx2SHbVzRP8Rk3R5n8dE/5CbmDFkyvD+DTE2lzp+gPzORCt5IRcQ/vOFSvRUXzT+W6vje2NPAP6/IcjgH9na/RSfLTiwOaD8bRkv0qkyzP9UNr96LOag/PmJvOaW5mL/9lrS96Kazv/33LQoKB7a/iouAY/+nsr8HhgcU1rmsv33ebJUefqW/ol0MeY5bmr/x0C2d1q+Qv+NrO2QX8YW/tBXmB1iTP79E04Gu55R0vyE1jv7gVJu/Ww3noWKfqr9ye2AOP4Cqv5kng/CXwKK/K61DFqpZo7/98QtuLcyqv6pal2vSkaq/uqUH8Jtcpb+Wh2fesaWfv8XVhkieS5i/Tdg/Fn2hk7/mapn+wOuJv6Q3P3RzAIS/2+XwzPFxgb9rVLl0v0+EvwE/xm8ZVoa/US2l5mc1hL/iO/p/lwl6v0ATht6pWzm//llQLsKafz+eQ3D04tiLP+iU2AYF3ZI/RqUIeOtflj8M0EVGNROYP3N9tU3vbpc/bHeyzMBXlz9Za/ozDViWPw==\",\"dtype\":\"float64\",\"shape\":[74]},\"y\":{\"__ndarray__\":\"0r/J27aUSD9r8pTVdD1RP2k7pu7KLlg/wLdEifH1YD8NyLmoccpnPzEjYYSVr3A/203wTdNndz9s2+Z8Z2qAPwg+YeTABoc/DZnh9U8mkD/s6wrHPaeWPy2yne+nxp8/2y1uSEhJpj8MPWL03EKvPyVdjrLZ7LU/BK+WOzPBvj9HPq946pHFP+YffZOmQc4/PGwiMxc41T+Hp1fKMsTdP/8h/fZ14OQ/KjqSy39I7T+ZKhiV1In0P3PXEvJBz/w/vw6cM6I0BECBJsKGp1cMQOJYF7fR4BNAUkmdgCbiG0ADCYofY44jQOauJeSDbitAMEymCkY9M0Db+X5qvPw6QGgibHh67UJAf/s6cM6MSkDNzMzMzHhSQGZmZmZmalhAAAAAAABcXkDNzMzMzCZiQJqZmZmZH2VAZmZmZmYYaEAzMzMzMxFrQAAAAAAACm5AZmZmZmaBcEDNzMzMzP1xQDMzMzMzenNAmpmZmZn2dEAAAAAAAHN2QGZmZmZm73dAzczMzMxreUAzMzMzM+h6QJqZmZmZZHxAAAAAAADhfUBmZmZmZl1/QGZmZmbmbIBAmpmZmRkrgUDNzMzMTOmBQAAAAACAp4JAMzMzM7Nlg0BmZmZm5iOEQJqZmZkZ4oRAzczMzEyghUAAAAAAgF6GQDMzMzOzHIdAZmZmZubah0CamZmZGZmIQM3MzMxMV4lAAAAAAIAVikAzMzMzs9OKQGZmZmbmkYtAmpmZmRlQjEDNzMzMTA6NQAAAAACAzI1AMzMzM7OKjkBmZmZm5kiPQA==\",\"dtype\":\"float64\",\"shape\":[74]}},\"selected\":{\"id\":\"ffaf1fc1-322d-4d59-9728-e57f97ab1854\",\"type\":\"Selection\"},\"selection_policy\":{\"id\":\"4a6b472e-6141-41c2-994e-16819aeae5c9\",\"type\":\"UnionRenderers\"}},\"id\":\"398f5732-c7a1-42fe-b39d-fa857d6782a1\",\"type\":\"ColumnDataSource\"},{\"attributes\":{\"callback\":null,\"end\":16.436989944098436,\"start\":0.2978234486455601},\"id\":\"d01864e8-8caa-4d0a-b33a-6ddd62d8362e\",\"type\":\"Range1d\"},{\"attributes\":{},\"id\":\"a897b993-53fa-45f6-bd4f-89ce79467225\",\"type\":\"BasicTickFormatter\"},{\"attributes\":{\"dimension\":1,\"plot\":{\"id\":\"a3e603bb-62eb-4ae6-8c5a-bf39f2bd8b08\",\"subtype\":\"Figure\",\"type\":\"Plot\"},\"ticker\":{\"id\":\"5e5c8574-8a7e-4e6f-beb3-5c928f74613a\",\"type\":\"LogTicker\"}},\"id\":\"ce26cb65-8edd-4a3c-9db3-9bdf87147623\",\"type\":\"Grid\"},{\"attributes\":{\"tools\":[{\"id\":\"25c6b9f5-735f-40ad-b4b3-5dc062259e0d\",\"type\":\"PanTool\"},{\"id\":\"bad33751-52b2-42a1-ac25-5e68bc519016\",\"type\":\"WheelZoomTool\"},{\"id\":\"b6627505-936c-4c1f-841e-58c0e3877a46\",\"type\":\"BoxZoomTool\"},{\"id\":\"cde67e1a-5d55-474c-a467-ba2f9afdf733\",\"type\":\"SaveTool\"},{\"id\":\"25af1d94-7d47-4f42-999e-e50e76beffce\",\"type\":\"ResetTool\"},{\"id\":\"829d3cb2-7eef-4ff2-a806-87f2b24e59a9\",\"type\":\"HelpTool\"},{\"id\":\"0d1a9cbd-717f-4474-91d9-40ceb283d43a\",\"type\":\"PanTool\"},{\"id\":\"65d1d13a-a43c-442e-ba3f-de55cde2aba5\",\"type\":\"WheelZoomTool\"},{\"id\":\"7a926a06-0917-4147-ab57-61f1663ee0ec\",\"type\":\"BoxZoomTool\"},{\"id\":\"a58e582e-f03a-44bd-9535-140b73ec879c\",\"type\":\"SaveTool\"},{\"id\":\"4461e30d-2cab-4d36-97e2-ada830fa0e21\",\"type\":\"ResetTool\"},{\"id\":\"8557b2bb-3f58-419c-9116-962d968d7fad\",\"type\":\"HelpTool\"},{\"id\":\"92ec7552-9e76-432c-9041-52bd37d639f0\",\"type\":\"PanTool\"},{\"id\":\"cd0783b0-7de8-417f-bb82-cdfe2658d6b2\",\"type\":\"WheelZoomTool\"},{\"id\":\"06b2bed6-2ac2-47c4-a10e-b875d61cac7b\",\"type\":\"BoxZoomTool\"},{\"id\":\"19bc31b1-f76a-4e69-8fa7-f94b63119e0c\",\"type\":\"SaveTool\"},{\"id\":\"d4af19e9-2b21-4705-89f0-5b65ad8fb45d\",\"type\":\"ResetTool\"},{\"id\":\"7956f1e0-4509-41b0-b512-7aac1197d9c1\",\"type\":\"HelpTool\"}]},\"id\":\"9058a844-3201-4b4c-93ec-3a16a1d29862\",\"type\":\"ProxyToolbar\"},{\"attributes\":{},\"id\":\"e84c332d-5b41-4d60-9588-d39745e5cb91\",\"type\":\"UnionRenderers\"},{\"attributes\":{\"children\":[{\"id\":\"c3fd23fb-5bc7-4d3c-b2f5-5ec38b48f365\",\"type\":\"ToolbarBox\"},{\"id\":\"0d36a329-992c-46c4-83f8-1ebc73fcc5d7\",\"type\":\"Column\"}]},\"id\":\"21721810-6e45-4bf9-bc99-e60d484545a8\",\"type\":\"Column\"},{\"attributes\":{},\"id\":\"dc5bc68f-9147-4c0a-8029-1d2affe64cb7\",\"type\":\"UnionRenderers\"},{\"attributes\":{},\"id\":\"e1377f9f-5af0-4ea2-b550-793ff6316496\",\"type\":\"Selection\"},{\"attributes\":{},\"id\":\"f3e8785b-8408-430d-b152-51444c0e6011\",\"type\":\"BasicTicker\"},{\"attributes\":{\"axis_label\":\"cooling rate [K/day]\",\"formatter\":{\"id\":\"a897b993-53fa-45f6-bd4f-89ce79467225\",\"type\":\"BasicTickFormatter\"},\"plot\":{\"id\":\"0345b8a8-31a7-470f-898c-15ad0f705335\",\"subtype\":\"Figure\",\"type\":\"Plot\"},\"ticker\":{\"id\":\"f3e8785b-8408-430d-b152-51444c0e6011\",\"type\":\"BasicTicker\"}},\"id\":\"b08f2cbb-61e6-4e98-9ab7-c6ca8f133a66\",\"type\":\"LinearAxis\"},{\"attributes\":{\"label\":{\"value\":\"CLIRAD - CRD\"},\"renderers\":[{\"id\":\"55942e51-dd82-4357-a74f-96bf5e5da7e9\",\"type\":\"GlyphRenderer\"},{\"id\":\"81308c15-fd97-42c0-94e5-b3c9e37caa05\",\"type\":\"GlyphRenderer\"}]},\"id\":\"cf3b41dc-b686-46b1-a42e-fbac68bcb2ed\",\"type\":\"LegendItem\"},{\"attributes\":{\"toolbar\":{\"id\":\"9058a844-3201-4b4c-93ec-3a16a1d29862\",\"type\":\"ProxyToolbar\"},\"toolbar_location\":\"above\"},\"id\":\"c3fd23fb-5bc7-4d3c-b2f5-5ec38b48f365\",\"type\":\"ToolbarBox\"},{\"attributes\":{},\"id\":\"591f95dc-3d90-4225-928c-52bab05a07ad\",\"type\":\"Selection\"},{\"attributes\":{},\"id\":\"ffaf1fc1-322d-4d59-9728-e57f97ab1854\",\"type\":\"Selection\"},{\"attributes\":{\"callback\":null,\"end\":0.01,\"start\":1020},\"id\":\"896e257d-01b1-4d5b-bb0a-248511482193\",\"type\":\"Range1d\"},{\"attributes\":{},\"id\":\"9b9d0811-2c1a-41e9-a017-8fecc34bb3d5\",\"type\":\"LinearScale\"},{\"attributes\":{\"callback\":null,\"data\":{\"x\":{\"__ndarray__\":\"K5c+YwNdQEBz2RxUvS08QH2TbA6SAz5A0GG8mz+pPkC0KOCx68g9QLpzV1PxWjtA53HiLL25N0DDfAko2b8zQOifa/MgeDBA309oR8M7LUD9XJSh204sQCXY/KaB2CxA8mLhlzy2LUCeUcvoCTwtQBkfgzTWoCpArRleMPpHJ0AxMbEMqHUkQPbHRVkn0SJAx7rpg2KjIkDnB7d+qbojQDg1ChWcKSZAcnQ9qs2qJUBAxWo/DychQAE+VtnEYRlAndcC9lpnE0DwfsG6tbQPQErc4Ud2vgpA23ZjnVfQBUD0BjCA7iYCQI+7a3DydP8/u3HquYUK/T+oM6S2xNj4PxAVECGeL/Q/gJmY8Swf8T9I0L1CKsbuP/qyFfZpXOw/rETYoZV+5z/d2r6JYyrhP71ufC7K0t0/6VMavO4v3T8UVwBxj6reP+rnwJm/Ud4/HQpIykzn3D//p4JRMGPaPy1Avroe8tI/7Nl5NdIE0T860AWQekPcPw3ovC4SwOM/sDFbHt6z6z/+/21GeCvyP4nshiZBb/U/B5sqgd+T9z/TTHWr+3H4P7VPeXXpbvg//XJhjU89+D+1VkQuMO/3PwUb13bMffc/cIOaVEbl9j+WCRrXYTP2P8ofPZoygPU/LBsnCte49D9DtMt4kenzPyS8l5xOEvM/8J+CzcZI8j/4/oiSEKHxP1yDFD7PLvE/1jbnFrEN8T9wPQrXo1DxP/jhafeAqPE/v16R+hNe8T8wlKzAGYfvPyrMTWR+h+o/kWaYyLiS5T9/QEUx10PhP2kfpXV/7NY/\",\"dtype\":\"float64\",\"shape\":[75]},\"y\":{\"__ndarray__\":\"S/O/Q+51ND/Sv8nbtpRIP2vylNV0PVE/aTum7souWD/At0SJ8fVgPw3Iuahxymc/MSNhhJWvcD/bTfBN02d3P2zb5nxnaoA/CD5h5MAGhz8NmeH1TyaQP+zrCsc9p5Y/LbKd76fGnz/bLW5ISEmmPww9YvTcQq8/JV2OstnstT8Er5Y7M8G+P0c+r3jqkcU/5h99k6ZBzj88bCIzFzjVP4enV8oyxN0//yH99nXg5D8qOpLLf0jtP5kqGJXUifQ/c9cS8kHP/D+/DpwzojQEQIEmwoanVwxA4lgXt9HgE0BSSZ2AJuIbQAMJih9jjiNA5q4l5INuK0AwTKYKRj0zQNv5fmq8/DpAaCJseHrtQkB/+zpwzoxKQM3MzMzMeFJAZmZmZmZqWEAAAAAAAFxeQM3MzMzMJmJAmpmZmZkfZUBmZmZmZhhoQDMzMzMzEWtAAAAAAAAKbkBmZmZmZoFwQM3MzMzM/XFAMzMzMzN6c0CamZmZmfZ0QAAAAAAAc3ZAZmZmZmbvd0DNzMzMzGt5QDMzMzMz6HpAmpmZmZlkfEAAAAAAAOF9QGZmZmZmXX9AZmZmZuZsgECamZmZGSuBQM3MzMxM6YFAAAAAAICngkAzMzMzs2WDQGZmZmbmI4RAmpmZmRnihEDNzMzMTKCFQAAAAACAXoZAMzMzM7Mch0BmZmZm5tqHQJqZmZkZmYhAzczMzExXiUAAAAAAgBWKQDMzMzOz04pAZmZmZuaRi0CamZmZGVCMQM3MzMxMDo1AAAAAAIDMjUAzMzMzs4qOQGZmZmbmSI9A\",\"dtype\":\"float64\",\"shape\":[75]}},\"selected\":{\"id\":\"591f95dc-3d90-4225-928c-52bab05a07ad\",\"type\":\"Selection\"},\"selection_policy\":{\"id\":\"6f6bab03-8160-4638-8ad5-ac19cf448278\",\"type\":\"UnionRenderers\"}},\"id\":\"22d8470f-1836-4be7-94c1-18cd9f6cf7ed\",\"type\":\"ColumnDataSource\"},{\"attributes\":{},\"id\":\"bad33751-52b2-42a1-ac25-5e68bc519016\",\"type\":\"WheelZoomTool\"},{\"attributes\":{\"overlay\":{\"id\":\"8cb28cc8-8b1f-4cd2-a8e7-1d76e5b8b09d\",\"type\":\"BoxAnnotation\"}},\"id\":\"b6627505-936c-4c1f-841e-58c0e3877a46\",\"type\":\"BoxZoomTool\"},{\"attributes\":{\"plot\":null,\"text\":\"\"},\"id\":\"5724e719-894d-4b15-83b8-ed89d7521d43\",\"type\":\"Title\"},{\"attributes\":{},\"id\":\"cde67e1a-5d55-474c-a467-ba2f9afdf733\",\"type\":\"SaveTool\"},{\"attributes\":{},\"id\":\"25c6b9f5-735f-40ad-b4b3-5dc062259e0d\",\"type\":\"PanTool\"},{\"attributes\":{\"active_drag\":\"auto\",\"active_inspect\":\"auto\",\"active_scroll\":\"auto\",\"active_tap\":\"auto\",\"tools\":[{\"id\":\"25c6b9f5-735f-40ad-b4b3-5dc062259e0d\",\"type\":\"PanTool\"},{\"id\":\"bad33751-52b2-42a1-ac25-5e68bc519016\",\"type\":\"WheelZoomTool\"},{\"id\":\"b6627505-936c-4c1f-841e-58c0e3877a46\",\"type\":\"BoxZoomTool\"},{\"id\":\"cde67e1a-5d55-474c-a467-ba2f9afdf733\",\"type\":\"SaveTool\"},{\"id\":\"25af1d94-7d47-4f42-999e-e50e76beffce\",\"type\":\"ResetTool\"},{\"id\":\"829d3cb2-7eef-4ff2-a806-87f2b24e59a9\",\"type\":\"HelpTool\"}]},\"id\":\"e80cc826-1104-4758-a46b-96ea97e39c55\",\"type\":\"Toolbar\"},{\"attributes\":{},\"id\":\"6647add9-82f6-470e-8701-d8e0518a27f2\",\"type\":\"LinearScale\"},{\"attributes\":{\"line_alpha\":0.6,\"line_color\":\"#e41a1c\",\"line_dash\":[6],\"line_width\":5,\"x\":{\"field\":\"x\"},\"y\":{\"field\":\"y\"}},\"id\":\"7097647d-fb36-4945-a17d-ea0bc4cc5ca0\",\"type\":\"Line\"},{\"attributes\":{},\"id\":\"25af1d94-7d47-4f42-999e-e50e76beffce\",\"type\":\"ResetTool\"},{\"attributes\":{},\"id\":\"e890cc47-145e-413e-9b97-1c3b402a689a\",\"type\":\"BasicTickFormatter\"},{\"attributes\":{\"callback\":null,\"end\":1.5925520914356002,\"start\":0.2527842797844001},\"id\":\"910396bc-46f9-457c-81c9-b27d77ba99df\",\"type\":\"Range1d\"},{\"attributes\":{\"line_alpha\":0.1,\"line_color\":\"#1f77b4\",\"line_dash\":[6],\"line_width\":5,\"x\":{\"field\":\"x\"},\"y\":{\"field\":\"y\"}},\"id\":\"86578aab-2c85-4f47-a0ef-55c59b2b15b9\",\"type\":\"Line\"},{\"attributes\":{\"ticker\":null},\"id\":\"43a2b315-5fc8-49c4-9fdb-b56e22285ec0\",\"type\":\"LogTickFormatter\"},{\"attributes\":{},\"id\":\"829d3cb2-7eef-4ff2-a806-87f2b24e59a9\",\"type\":\"HelpTool\"},{\"attributes\":{\"callback\":null,\"end\":0.01,\"start\":1020},\"id\":\"9bd98205-2ac2-4028-a66f-3e31241ee941\",\"type\":\"Range1d\"},{\"attributes\":{\"above\":[{\"id\":\"d3186904-7097-4221-9a84-05a62f15dedf\",\"type\":\"Legend\"}],\"below\":[{\"id\":\"0cdd2fc1-f3bf-4980-b465-42d3d1c29561\",\"type\":\"LinearAxis\"}],\"left\":[{\"id\":\"ba2dfadd-37bd-4e12-9ecc-4eb460de1603\",\"type\":\"LogAxis\"}],\"plot_width\":300,\"renderers\":[{\"id\":\"0cdd2fc1-f3bf-4980-b465-42d3d1c29561\",\"type\":\"LinearAxis\"},{\"id\":\"7279dac6-743f-4edd-9b01-53a09d819ead\",\"type\":\"Grid\"},{\"id\":\"ba2dfadd-37bd-4e12-9ecc-4eb460de1603\",\"type\":\"LogAxis\"},{\"id\":\"405e072a-afb1-4783-916f-4789fe504823\",\"type\":\"Grid\"},{\"id\":\"68efe4a5-95e3-420e-84bf-7e5e919f09a5\",\"type\":\"BoxAnnotation\"},{\"id\":\"55942e51-dd82-4357-a74f-96bf5e5da7e9\",\"type\":\"GlyphRenderer\"},{\"id\":\"81308c15-fd97-42c0-94e5-b3c9e37caa05\",\"type\":\"GlyphRenderer\"},{\"id\":\"d3186904-7097-4221-9a84-05a62f15dedf\",\"type\":\"Legend\"}],\"title\":{\"id\":\"18d19f68-b08b-4e41-ab25-eb453ef1115a\",\"type\":\"Title\"},\"toolbar\":{\"id\":\"c9ec431b-6b6d-4d28-9c23-e24c77502084\",\"type\":\"Toolbar\"},\"toolbar_location\":null,\"x_range\":{\"id\":\"9222dc47-7786-4340-b8aa-ea33183a2ed2\",\"type\":\"Range1d\"},\"x_scale\":{\"id\":\"0157577f-1c08-45c4-ac29-3dddd8df755c\",\"type\":\"LinearScale\"},\"y_range\":{\"id\":\"9bd98205-2ac2-4028-a66f-3e31241ee941\",\"type\":\"Range1d\"},\"y_scale\":{\"id\":\"f6b8f02a-206c-498d-84da-5a3128edded2\",\"type\":\"LogScale\"}},\"id\":\"7c28c791-c3d5-45b7-a376-6858d8bbf7b8\",\"subtype\":\"Figure\",\"type\":\"Plot\"}],\"root_ids\":[\"21721810-6e45-4bf9-bc99-e60d484545a8\"]},\"title\":\"Bokeh Application\",\"version\":\"0.12.16\"}};\n",
       "  var render_items = [{\"docid\":\"61e4a287-d973-49a8-a908-650e8815edd8\",\"elementid\":\"d96fbd86-f777-4eee-b70f-1532cb591a09\",\"modelid\":\"21721810-6e45-4bf9-bc99-e60d484545a8\"}];\n",
       "  root.Bokeh.embed.embed_items_notebook(docs_json, render_items);\n",
       "\n",
       "  }\n",
       "  if (root.Bokeh !== undefined) {\n",
       "    embed_document(root);\n",
       "  } else {\n",
       "    var attempts = 0;\n",
       "    var timer = setInterval(function(root) {\n",
       "      if (root.Bokeh !== undefined) {\n",
       "        embed_document(root);\n",
       "        clearInterval(timer);\n",
       "      }\n",
       "      attempts++;\n",
       "      if (attempts > 100) {\n",
       "        console.log(\"Bokeh: ERROR: Unable to run BokehJS code because BokehJS library is missing\")\n",
       "        clearInterval(timer);\n",
       "      }\n",
       "    }, 10, root)\n",
       "  }\n",
       "})(window);"
      ],
      "application/vnd.bokehjs_exec.v0+json": ""
     },
     "metadata": {
      "application/vnd.bokehjs_exec.v0+json": {
       "id": "21721810-6e45-4bf9-bc99-e60d484545a8"
      }
     },
     "output_type": "display_data"
    },
    {
     "data": {
      "text/markdown": [
       "*FIGURE.* Cooling rates & difference."
      ],
      "text/plain": [
       "<IPython.core.display.Markdown object>"
      ]
     },
     "metadata": {},
     "output_type": "display_data"
    },
    {
     "data": {
      "text/html": [
       "<a id=\"Fluxes._saw.\"></a>"
      ],
      "text/plain": [
       "<IPython.core.display.HTML object>"
      ]
     },
     "metadata": {},
     "output_type": "display_data"
    },
    {
     "data": {
      "text/markdown": [
       "# Fluxes. saw."
      ],
      "text/plain": [
       "<IPython.core.display.Markdown object>"
      ]
     },
     "metadata": {},
     "output_type": "display_data"
    },
    {
     "data": {
      "text/html": [
       "\n",
       "<div class=\"bk-root\">\n",
       "    <div class=\"bk-plotdiv\" id=\"b607aac9-995f-4017-9cd6-9d0653715388\"></div>\n",
       "</div>"
      ]
     },
     "metadata": {},
     "output_type": "display_data"
    },
    {
     "data": {
      "application/javascript": [
       "(function(root) {\n",
       "  function embed_document(root) {\n",
       "    \n",
       "  var docs_json = {\"e5c6aebc-8dca-4c12-abc5-1c9784447bdd\":{\"roots\":{\"references\":[{\"attributes\":{},\"id\":\"e92ff563-e106-45bf-94d1-e75f73729909\",\"type\":\"CategoricalTickFormatter\"},{\"attributes\":{\"below\":[{\"id\":\"90c1c037-88ff-4799-a1d7-2648ba04d83e\",\"type\":\"CategoricalAxis\"}],\"left\":[{\"id\":\"88fc3fc3-e9f0-43f4-b836-3730725b1008\",\"type\":\"LinearAxis\"}],\"plot_height\":300,\"plot_width\":300,\"renderers\":[{\"id\":\"90c1c037-88ff-4799-a1d7-2648ba04d83e\",\"type\":\"CategoricalAxis\"},{\"id\":\"d9b3624b-7c43-4836-b8a9-b7cfc81a0d98\",\"type\":\"Grid\"},{\"id\":\"88fc3fc3-e9f0-43f4-b836-3730725b1008\",\"type\":\"LinearAxis\"},{\"id\":\"d7b25bf0-30b2-4361-b415-f7f5386ad29f\",\"type\":\"Grid\"},{\"id\":\"fabe0e8f-27fb-4b63-96cf-35af1a8f0f7c\",\"type\":\"BoxAnnotation\"},{\"id\":\"0994610f-f7d5-432a-8e0a-cc024093b032\",\"type\":\"GlyphRenderer\"}],\"title\":{\"id\":\"528fd656-50b5-4f6c-9d6b-83c5004fb721\",\"type\":\"Title\"},\"toolbar\":{\"id\":\"46273fee-b560-4dcb-9310-66932883ada3\",\"type\":\"Toolbar\"},\"toolbar_location\":null,\"x_range\":{\"id\":\"5b243181-fd4e-40d5-b7cd-e9c31352f508\",\"type\":\"FactorRange\"},\"x_scale\":{\"id\":\"cebcb331-8528-45cb-af9c-cf958a3564eb\",\"type\":\"CategoricalScale\"},\"y_range\":{\"id\":\"2fd6f17e-6d2c-49cd-be46-475156c093c2\",\"type\":\"DataRange1d\"},\"y_scale\":{\"id\":\"fe349eb1-3e74-4dde-885d-a343a65c6aa8\",\"type\":\"LinearScale\"}},\"id\":\"552c3e89-01e6-44d9-95b5-ddf96eb06b6e\",\"subtype\":\"Figure\",\"type\":\"Plot\"},{\"attributes\":{\"fill_alpha\":{\"value\":0.1},\"fill_color\":{\"value\":\"#1f77b4\"},\"line_alpha\":{\"value\":0.1},\"line_color\":{\"value\":\"#1f77b4\"},\"top\":{\"field\":\"flux\"},\"width\":{\"value\":0.9},\"x\":{\"field\":\"band\"}},\"id\":\"6957d7d3-a9e1-4d05-bf63-b21b66d3fc2b\",\"type\":\"VBar\"},{\"attributes\":{\"plot\":null,\"text\":\"Atmosphere heating. CLIRAD - CRD.\"},\"id\":\"528fd656-50b5-4f6c-9d6b-83c5004fb721\",\"type\":\"Title\"},{\"attributes\":{\"axis_label\":\"flux (W m-2)\",\"formatter\":{\"id\":\"8654bca3-79e0-4bd7-8582-9f25299e399b\",\"type\":\"BasicTickFormatter\"},\"plot\":{\"id\":\"552c3e89-01e6-44d9-95b5-ddf96eb06b6e\",\"subtype\":\"Figure\",\"type\":\"Plot\"},\"ticker\":{\"id\":\"09a2b37c-b0bf-4169-8781-97577bc8cf3d\",\"type\":\"BasicTicker\"}},\"id\":\"88fc3fc3-e9f0-43f4-b836-3730725b1008\",\"type\":\"LinearAxis\"},{\"attributes\":{},\"id\":\"f894a8d3-0171-4d5e-bd97-2637db22211f\",\"type\":\"CategoricalTicker\"},{\"attributes\":{\"plot\":{\"id\":\"552c3e89-01e6-44d9-95b5-ddf96eb06b6e\",\"subtype\":\"Figure\",\"type\":\"Plot\"},\"ticker\":{\"id\":\"450e4541-c99f-400d-81a2-ac7d2c4e61ea\",\"type\":\"CategoricalTicker\"}},\"id\":\"d9b3624b-7c43-4836-b8a9-b7cfc81a0d98\",\"type\":\"Grid\"},{\"attributes\":{},\"id\":\"43d28398-9182-4833-b012-a6459cc8aa5e\",\"type\":\"UnionRenderers\"},{\"attributes\":{\"dimension\":1,\"plot\":{\"id\":\"552c3e89-01e6-44d9-95b5-ddf96eb06b6e\",\"subtype\":\"Figure\",\"type\":\"Plot\"},\"ticker\":{\"id\":\"09a2b37c-b0bf-4169-8781-97577bc8cf3d\",\"type\":\"BasicTicker\"}},\"id\":\"d7b25bf0-30b2-4361-b415-f7f5386ad29f\",\"type\":\"Grid\"},{\"attributes\":{},\"id\":\"a6ec2ae2-e2af-438e-ae61-297a72ced17b\",\"type\":\"HelpTool\"},{\"attributes\":{\"active_drag\":\"auto\",\"active_inspect\":\"auto\",\"active_scroll\":\"auto\",\"active_tap\":\"auto\",\"tools\":[{\"id\":\"d56a10e7-6b09-49e1-a276-5afd1ce0a65c\",\"type\":\"PanTool\"},{\"id\":\"4a83bd83-4233-420a-8ab4-68f17128c58b\",\"type\":\"WheelZoomTool\"},{\"id\":\"0d363b11-0304-40c9-b9b8-ccdece4ce758\",\"type\":\"BoxZoomTool\"},{\"id\":\"9c249338-a506-4531-85b0-4535d14a0925\",\"type\":\"SaveTool\"},{\"id\":\"1764f8c7-8f17-4638-b65b-0ba30eb12b98\",\"type\":\"ResetTool\"},{\"id\":\"6a98f11c-e6b7-4940-a361-5ffde1ff320e\",\"type\":\"HelpTool\"}]},\"id\":\"08c7f3c0-dc71-42d8-802c-963f6a5a6f4f\",\"type\":\"Toolbar\"},{\"attributes\":{\"axis_label\":\"spectral band\",\"formatter\":{\"id\":\"0e7a18f2-a34f-4332-abd9-eda63309dba3\",\"type\":\"CategoricalTickFormatter\"},\"plot\":{\"id\":\"089a0a1f-f335-4ac4-9809-e1751c37b3fc\",\"subtype\":\"Figure\",\"type\":\"Plot\"},\"ticker\":{\"id\":\"f894a8d3-0171-4d5e-bd97-2637db22211f\",\"type\":\"CategoricalTicker\"}},\"id\":\"53b5799a-3c0c-4f12-92f2-8a6809dc9ec5\",\"type\":\"CategoricalAxis\"},{\"attributes\":{\"callback\":null},\"id\":\"2fd6f17e-6d2c-49cd-be46-475156c093c2\",\"type\":\"DataRange1d\"},{\"attributes\":{\"plot\":{\"id\":\"089a0a1f-f335-4ac4-9809-e1751c37b3fc\",\"subtype\":\"Figure\",\"type\":\"Plot\"},\"ticker\":{\"id\":\"f894a8d3-0171-4d5e-bd97-2637db22211f\",\"type\":\"CategoricalTicker\"}},\"id\":\"dd4380f2-742c-4cc8-88a7-faca3ba7a6ce\",\"type\":\"Grid\"},{\"attributes\":{\"overlay\":{\"id\":\"170c4d91-12cd-4d78-a4e0-c3dd5ec92bf4\",\"type\":\"BoxAnnotation\"}},\"id\":\"0d363b11-0304-40c9-b9b8-ccdece4ce758\",\"type\":\"BoxZoomTool\"},{\"attributes\":{\"data_source\":{\"id\":\"4732cd6a-aea8-41bf-ae8f-3803802b0250\",\"type\":\"ColumnDataSource\"},\"glyph\":{\"id\":\"38121b99-6f47-4f47-949c-fe6967e80da1\",\"type\":\"VBar\"},\"hover_glyph\":null,\"muted_glyph\":null,\"nonselection_glyph\":{\"id\":\"6957d7d3-a9e1-4d05-bf63-b21b66d3fc2b\",\"type\":\"VBar\"},\"selection_glyph\":null,\"view\":{\"id\":\"714f4882-d26e-4aec-bdd1-38a51f5edabe\",\"type\":\"CDSView\"}},\"id\":\"0994610f-f7d5-432a-8e0a-cc024093b032\",\"type\":\"GlyphRenderer\"},{\"attributes\":{},\"id\":\"13ce6d9e-0822-46f2-870a-3da324b94670\",\"type\":\"LinearScale\"},{\"attributes\":{\"axis_label\":\"spectral band\",\"formatter\":{\"id\":\"f6fd0f34-ce38-4654-a457-a4b319413672\",\"type\":\"CategoricalTickFormatter\"},\"plot\":{\"id\":\"552c3e89-01e6-44d9-95b5-ddf96eb06b6e\",\"subtype\":\"Figure\",\"type\":\"Plot\"},\"ticker\":{\"id\":\"450e4541-c99f-400d-81a2-ac7d2c4e61ea\",\"type\":\"CategoricalTicker\"}},\"id\":\"90c1c037-88ff-4799-a1d7-2648ba04d83e\",\"type\":\"CategoricalAxis\"},{\"attributes\":{\"active_drag\":\"auto\",\"active_inspect\":\"auto\",\"active_scroll\":\"auto\",\"active_tap\":\"auto\",\"tools\":[{\"id\":\"fb5ca799-ba64-4271-8f11-0aab0b1ffeff\",\"type\":\"PanTool\"},{\"id\":\"324c2505-d804-4abc-9a72-ff81a61cd4bb\",\"type\":\"WheelZoomTool\"},{\"id\":\"c073e296-ff88-4a15-b0ac-26025153bfd7\",\"type\":\"BoxZoomTool\"},{\"id\":\"df9f6df7-65fd-49ae-8d1c-6e2941c93c3b\",\"type\":\"SaveTool\"},{\"id\":\"a7ee4144-5318-44c9-b602-0dd6d5d4ae20\",\"type\":\"ResetTool\"},{\"id\":\"a6ec2ae2-e2af-438e-ae61-297a72ced17b\",\"type\":\"HelpTool\"}]},\"id\":\"46273fee-b560-4dcb-9310-66932883ada3\",\"type\":\"Toolbar\"},{\"attributes\":{},\"id\":\"fe349eb1-3e74-4dde-885d-a343a65c6aa8\",\"type\":\"LinearScale\"},{\"attributes\":{},\"id\":\"df9f6df7-65fd-49ae-8d1c-6e2941c93c3b\",\"type\":\"SaveTool\"},{\"attributes\":{},\"id\":\"a7ee4144-5318-44c9-b602-0dd6d5d4ae20\",\"type\":\"ResetTool\"},{\"attributes\":{},\"id\":\"3ef411c7-2fad-40d9-9cc5-56e4d9ebbbf0\",\"type\":\"BasicTickFormatter\"},{\"attributes\":{\"children\":[{\"id\":\"f4f9f2f3-208c-4ac8-9cbf-d42ab1373717\",\"subtype\":\"Figure\",\"type\":\"Plot\"},{\"id\":\"089a0a1f-f335-4ac4-9809-e1751c37b3fc\",\"subtype\":\"Figure\",\"type\":\"Plot\"},{\"id\":\"552c3e89-01e6-44d9-95b5-ddf96eb06b6e\",\"subtype\":\"Figure\",\"type\":\"Plot\"}]},\"id\":\"60e24479-9c11-4e47-b222-be9afd6f6e98\",\"type\":\"Row\"},{\"attributes\":{\"bottom_units\":\"screen\",\"fill_alpha\":{\"value\":0.5},\"fill_color\":{\"value\":\"lightgrey\"},\"left_units\":\"screen\",\"level\":\"overlay\",\"line_alpha\":{\"value\":1.0},\"line_color\":{\"value\":\"black\"},\"line_dash\":[4,4],\"line_width\":{\"value\":2},\"plot\":null,\"render_mode\":\"css\",\"right_units\":\"screen\",\"top_units\":\"screen\"},\"id\":\"fabe0e8f-27fb-4b63-96cf-35af1a8f0f7c\",\"type\":\"BoxAnnotation\"},{\"attributes\":{\"callback\":null,\"factors\":[\"1\",\"2\",\"3\",\"4\",\"5\",\"6\",\"7\",\"8\",\"9\",\"10\",\"11\"]},\"id\":\"a0ca1e95-817d-4d99-aaac-6aa6465e8929\",\"type\":\"FactorRange\"},{\"attributes\":{},\"id\":\"09a2b37c-b0bf-4169-8781-97577bc8cf3d\",\"type\":\"BasicTicker\"},{\"attributes\":{\"fill_color\":{\"value\":\"#1f77b4\"},\"line_color\":{\"value\":\"#1f77b4\"},\"top\":{\"field\":\"flux\"},\"width\":{\"value\":0.9},\"x\":{\"field\":\"band\"}},\"id\":\"38121b99-6f47-4f47-949c-fe6967e80da1\",\"type\":\"VBar\"},{\"attributes\":{\"axis_label\":\"flux (W m-2)\",\"formatter\":{\"id\":\"b1536202-3e22-455c-89e6-ee327020ed28\",\"type\":\"BasicTickFormatter\"},\"plot\":{\"id\":\"089a0a1f-f335-4ac4-9809-e1751c37b3fc\",\"subtype\":\"Figure\",\"type\":\"Plot\"},\"ticker\":{\"id\":\"212ef048-e1ab-4037-8e11-a990150e1ae0\",\"type\":\"BasicTicker\"}},\"id\":\"43bbc3d0-16c7-435c-9a0f-ab5659f2842c\",\"type\":\"LinearAxis\"},{\"attributes\":{\"overlay\":{\"id\":\"fabe0e8f-27fb-4b63-96cf-35af1a8f0f7c\",\"type\":\"BoxAnnotation\"}},\"id\":\"c073e296-ff88-4a15-b0ac-26025153bfd7\",\"type\":\"BoxZoomTool\"},{\"attributes\":{},\"id\":\"324c2505-d804-4abc-9a72-ff81a61cd4bb\",\"type\":\"WheelZoomTool\"},{\"attributes\":{\"plot\":null,\"text\":\"TOA flux. CLIRAD - CRD.\"},\"id\":\"3af56a0f-213e-4f53-83fc-477a0ebcb511\",\"type\":\"Title\"},{\"attributes\":{\"source\":{\"id\":\"4732cd6a-aea8-41bf-ae8f-3803802b0250\",\"type\":\"ColumnDataSource\"}},\"id\":\"714f4882-d26e-4aec-bdd1-38a51f5edabe\",\"type\":\"CDSView\"},{\"attributes\":{},\"id\":\"35d8b9ea-7f4a-4a21-b57e-08fcf6b08eb7\",\"type\":\"CategoricalScale\"},{\"attributes\":{},\"id\":\"4e18304f-54b2-42ac-945b-06f12ddbbddb\",\"type\":\"Selection\"},{\"attributes\":{},\"id\":\"fb5ca799-ba64-4271-8f11-0aab0b1ffeff\",\"type\":\"PanTool\"},{\"attributes\":{\"children\":[{\"id\":\"60e24479-9c11-4e47-b222-be9afd6f6e98\",\"type\":\"Row\"}]},\"id\":\"858389fd-32e7-42a2-9a69-152b7835982b\",\"type\":\"Column\"},{\"attributes\":{},\"id\":\"450e4541-c99f-400d-81a2-ac7d2c4e61ea\",\"type\":\"CategoricalTicker\"},{\"attributes\":{},\"id\":\"cebcb331-8528-45cb-af9c-cf958a3564eb\",\"type\":\"CategoricalScale\"},{\"attributes\":{\"callback\":null,\"factors\":[\"1\",\"2\",\"3\",\"4\",\"5\",\"6\",\"7\",\"8\",\"9\",\"10\",\"11\"]},\"id\":\"5b243181-fd4e-40d5-b7cd-e9c31352f508\",\"type\":\"FactorRange\"},{\"attributes\":{},\"id\":\"ce4f8cfd-8b8d-4793-82b2-cf95c002abaf\",\"type\":\"UnionRenderers\"},{\"attributes\":{\"callback\":null},\"id\":\"c541cbc0-7b2b-4dae-9ab6-3e514330dc35\",\"type\":\"DataRange1d\"},{\"attributes\":{},\"id\":\"8654bca3-79e0-4bd7-8582-9f25299e399b\",\"type\":\"BasicTickFormatter\"},{\"attributes\":{\"plot\":null,\"text\":\"SFC flux. CLIRAD - CRD.\"},\"id\":\"04e8ac0e-55af-4422-8686-45c63dc8f691\",\"type\":\"Title\"},{\"attributes\":{\"callback\":null,\"factors\":[\"1\",\"2\",\"3\",\"4\",\"5\",\"6\",\"7\",\"8\",\"9\",\"10\",\"11\"]},\"id\":\"057e8402-6cf6-466b-9e57-4cf1f4b7cf31\",\"type\":\"FactorRange\"},{\"attributes\":{},\"id\":\"0e7a18f2-a34f-4332-abd9-eda63309dba3\",\"type\":\"CategoricalTickFormatter\"},{\"attributes\":{\"data_source\":{\"id\":\"899c2e96-466c-4187-800c-5ce0dd6d01ed\",\"type\":\"ColumnDataSource\"},\"glyph\":{\"id\":\"5289698d-e9f2-41f5-b8f4-6b49b1ebe402\",\"type\":\"VBar\"},\"hover_glyph\":null,\"muted_glyph\":null,\"nonselection_glyph\":{\"id\":\"b5fe4189-b1ff-4e2a-a749-d7fa9c0b8138\",\"type\":\"VBar\"},\"selection_glyph\":null,\"view\":{\"id\":\"bc432939-637c-460c-84dd-df7c250b4d65\",\"type\":\"CDSView\"}},\"id\":\"4fc6308f-f4b3-4d1d-9dfc-b8cea73c3984\",\"type\":\"GlyphRenderer\"},{\"attributes\":{\"callback\":null,\"data\":{\"band\":[\"1\",\"2\",\"3\",\"4\",\"5\",\"6\",\"7\",\"8\",\"9\",\"10\",\"11\"],\"flux\":{\"__ndarray__\":\"AEDdJAaBZb8Asg5HV+nAvyAq/1peueC/AAeY+Q5+tj+AoAVXL3XIP5BpRlBGprm/AILknUMZsD8gTuW8GC20vwApH4Kq0ZM/AJDEy9O5oj8AoYsCVKNtPw==\",\"dtype\":\"float64\",\"shape\":[11]}},\"selected\":{\"id\":\"34b2dff2-1872-4c01-8248-d89d506c35df\",\"type\":\"Selection\"},\"selection_policy\":{\"id\":\"565882aa-b7e9-4a28-a2b9-8aed5cc80817\",\"type\":\"UnionRenderers\"}},\"id\":\"48a7125f-a998-46e2-8388-3493ab85657c\",\"type\":\"ColumnDataSource\"},{\"attributes\":{},\"id\":\"4900c6a2-596a-4796-bcb1-4d62575864f1\",\"type\":\"BasicTicker\"},{\"attributes\":{\"source\":{\"id\":\"899c2e96-466c-4187-800c-5ce0dd6d01ed\",\"type\":\"ColumnDataSource\"}},\"id\":\"bc432939-637c-460c-84dd-df7c250b4d65\",\"type\":\"CDSView\"},{\"attributes\":{},\"id\":\"9c249338-a506-4531-85b0-4535d14a0925\",\"type\":\"SaveTool\"},{\"attributes\":{\"fill_alpha\":{\"value\":0.1},\"fill_color\":{\"value\":\"#1f77b4\"},\"line_alpha\":{\"value\":0.1},\"line_color\":{\"value\":\"#1f77b4\"},\"top\":{\"field\":\"flux\"},\"width\":{\"value\":0.9},\"x\":{\"field\":\"band\"}},\"id\":\"b5fe4189-b1ff-4e2a-a749-d7fa9c0b8138\",\"type\":\"VBar\"},{\"attributes\":{},\"id\":\"5fa2e016-bd2f-4b56-9759-5f938423d386\",\"type\":\"Selection\"},{\"attributes\":{\"bottom_units\":\"screen\",\"fill_alpha\":{\"value\":0.5},\"fill_color\":{\"value\":\"lightgrey\"},\"left_units\":\"screen\",\"level\":\"overlay\",\"line_alpha\":{\"value\":1.0},\"line_color\":{\"value\":\"black\"},\"line_dash\":[4,4],\"line_width\":{\"value\":2},\"plot\":null,\"render_mode\":\"css\",\"right_units\":\"screen\",\"top_units\":\"screen\"},\"id\":\"19ef38a9-6cc2-468c-806f-00695ad91335\",\"type\":\"BoxAnnotation\"},{\"attributes\":{},\"id\":\"72f2f2ec-c805-420f-8519-a113a2d0200a\",\"type\":\"SaveTool\"},{\"attributes\":{\"below\":[{\"id\":\"53b5799a-3c0c-4f12-92f2-8a6809dc9ec5\",\"type\":\"CategoricalAxis\"}],\"left\":[{\"id\":\"43bbc3d0-16c7-435c-9a0f-ab5659f2842c\",\"type\":\"LinearAxis\"}],\"plot_height\":300,\"plot_width\":300,\"renderers\":[{\"id\":\"53b5799a-3c0c-4f12-92f2-8a6809dc9ec5\",\"type\":\"CategoricalAxis\"},{\"id\":\"dd4380f2-742c-4cc8-88a7-faca3ba7a6ce\",\"type\":\"Grid\"},{\"id\":\"43bbc3d0-16c7-435c-9a0f-ab5659f2842c\",\"type\":\"LinearAxis\"},{\"id\":\"7577d3a2-2a4d-4d6f-9044-82564aa70b42\",\"type\":\"Grid\"},{\"id\":\"170c4d91-12cd-4d78-a4e0-c3dd5ec92bf4\",\"type\":\"BoxAnnotation\"},{\"id\":\"917b7e04-4a10-437f-858c-2b918942b2f8\",\"type\":\"GlyphRenderer\"}],\"title\":{\"id\":\"04e8ac0e-55af-4422-8686-45c63dc8f691\",\"type\":\"Title\"},\"toolbar\":{\"id\":\"08c7f3c0-dc71-42d8-802c-963f6a5a6f4f\",\"type\":\"Toolbar\"},\"toolbar_location\":null,\"x_range\":{\"id\":\"a0ca1e95-817d-4d99-aaac-6aa6465e8929\",\"type\":\"FactorRange\"},\"x_scale\":{\"id\":\"35d8b9ea-7f4a-4a21-b57e-08fcf6b08eb7\",\"type\":\"CategoricalScale\"},\"y_range\":{\"id\":\"c541cbc0-7b2b-4dae-9ab6-3e514330dc35\",\"type\":\"DataRange1d\"},\"y_scale\":{\"id\":\"13ce6d9e-0822-46f2-870a-3da324b94670\",\"type\":\"LinearScale\"}},\"id\":\"089a0a1f-f335-4ac4-9809-e1751c37b3fc\",\"subtype\":\"Figure\",\"type\":\"Plot\"},{\"attributes\":{},\"id\":\"212ef048-e1ab-4037-8e11-a990150e1ae0\",\"type\":\"BasicTicker\"},{\"attributes\":{},\"id\":\"f6fd0f34-ce38-4654-a457-a4b319413672\",\"type\":\"CategoricalTickFormatter\"},{\"attributes\":{\"data_source\":{\"id\":\"48a7125f-a998-46e2-8388-3493ab85657c\",\"type\":\"ColumnDataSource\"},\"glyph\":{\"id\":\"7dc5cc5e-0218-4f14-aedb-699c81c9af34\",\"type\":\"VBar\"},\"hover_glyph\":null,\"muted_glyph\":null,\"nonselection_glyph\":{\"id\":\"b41d44d6-3f14-4456-a384-c5a814c91af2\",\"type\":\"VBar\"},\"selection_glyph\":null,\"view\":{\"id\":\"3309c1ee-8c7b-4f08-ad0e-4ba0d8b23cbc\",\"type\":\"CDSView\"}},\"id\":\"917b7e04-4a10-437f-858c-2b918942b2f8\",\"type\":\"GlyphRenderer\"},{\"attributes\":{},\"id\":\"3eaad37c-50e9-4915-8a8f-c23a30219f47\",\"type\":\"ResetTool\"},{\"attributes\":{},\"id\":\"b1536202-3e22-455c-89e6-ee327020ed28\",\"type\":\"BasicTickFormatter\"},{\"attributes\":{\"toolbar\":{\"id\":\"d719d9e4-7502-4900-90a2-eeb1c2231072\",\"type\":\"ProxyToolbar\"},\"toolbar_location\":\"above\"},\"id\":\"3dd3ea48-45d0-4983-9d2a-a3d24432c717\",\"type\":\"ToolbarBox\"},{\"attributes\":{\"source\":{\"id\":\"48a7125f-a998-46e2-8388-3493ab85657c\",\"type\":\"ColumnDataSource\"}},\"id\":\"3309c1ee-8c7b-4f08-ad0e-4ba0d8b23cbc\",\"type\":\"CDSView\"},{\"attributes\":{\"tools\":[{\"id\":\"72c894d6-1478-4925-9411-cf87ffe0fb4a\",\"type\":\"PanTool\"},{\"id\":\"c94e45ab-eeee-460c-8f96-9126e25b0fd5\",\"type\":\"WheelZoomTool\"},{\"id\":\"985257fa-ec41-436d-96f1-5b115cf77f31\",\"type\":\"BoxZoomTool\"},{\"id\":\"72f2f2ec-c805-420f-8519-a113a2d0200a\",\"type\":\"SaveTool\"},{\"id\":\"3eaad37c-50e9-4915-8a8f-c23a30219f47\",\"type\":\"ResetTool\"},{\"id\":\"a8c42196-7815-46cf-aae0-dff271034080\",\"type\":\"HelpTool\"},{\"id\":\"d56a10e7-6b09-49e1-a276-5afd1ce0a65c\",\"type\":\"PanTool\"},{\"id\":\"4a83bd83-4233-420a-8ab4-68f17128c58b\",\"type\":\"WheelZoomTool\"},{\"id\":\"0d363b11-0304-40c9-b9b8-ccdece4ce758\",\"type\":\"BoxZoomTool\"},{\"id\":\"9c249338-a506-4531-85b0-4535d14a0925\",\"type\":\"SaveTool\"},{\"id\":\"1764f8c7-8f17-4638-b65b-0ba30eb12b98\",\"type\":\"ResetTool\"},{\"id\":\"6a98f11c-e6b7-4940-a361-5ffde1ff320e\",\"type\":\"HelpTool\"},{\"id\":\"fb5ca799-ba64-4271-8f11-0aab0b1ffeff\",\"type\":\"PanTool\"},{\"id\":\"324c2505-d804-4abc-9a72-ff81a61cd4bb\",\"type\":\"WheelZoomTool\"},{\"id\":\"c073e296-ff88-4a15-b0ac-26025153bfd7\",\"type\":\"BoxZoomTool\"},{\"id\":\"df9f6df7-65fd-49ae-8d1c-6e2941c93c3b\",\"type\":\"SaveTool\"},{\"id\":\"a7ee4144-5318-44c9-b602-0dd6d5d4ae20\",\"type\":\"ResetTool\"},{\"id\":\"a6ec2ae2-e2af-438e-ae61-297a72ced17b\",\"type\":\"HelpTool\"}]},\"id\":\"d719d9e4-7502-4900-90a2-eeb1c2231072\",\"type\":\"ProxyToolbar\"},{\"attributes\":{},\"id\":\"a8c42196-7815-46cf-aae0-dff271034080\",\"type\":\"HelpTool\"},{\"attributes\":{},\"id\":\"4a83bd83-4233-420a-8ab4-68f17128c58b\",\"type\":\"WheelZoomTool\"},{\"attributes\":{},\"id\":\"6a98f11c-e6b7-4940-a361-5ffde1ff320e\",\"type\":\"HelpTool\"},{\"attributes\":{\"axis_label\":\"spectral band\",\"formatter\":{\"id\":\"e92ff563-e106-45bf-94d1-e75f73729909\",\"type\":\"CategoricalTickFormatter\"},\"plot\":{\"id\":\"f4f9f2f3-208c-4ac8-9cbf-d42ab1373717\",\"subtype\":\"Figure\",\"type\":\"Plot\"},\"ticker\":{\"id\":\"2847a705-babf-4873-a591-a8d94b240d74\",\"type\":\"CategoricalTicker\"}},\"id\":\"e1a56f0b-5925-4571-9b07-5ed2169de170\",\"type\":\"CategoricalAxis\"},{\"attributes\":{\"callback\":null},\"id\":\"9dcdb896-fc70-4be9-9d48-574e56c89d68\",\"type\":\"DataRange1d\"},{\"attributes\":{\"dimension\":1,\"plot\":{\"id\":\"f4f9f2f3-208c-4ac8-9cbf-d42ab1373717\",\"subtype\":\"Figure\",\"type\":\"Plot\"},\"ticker\":{\"id\":\"4900c6a2-596a-4796-bcb1-4d62575864f1\",\"type\":\"BasicTicker\"}},\"id\":\"a41da2a2-63da-46ba-babb-9899d5866d1a\",\"type\":\"Grid\"},{\"attributes\":{},\"id\":\"565882aa-b7e9-4a28-a2b9-8aed5cc80817\",\"type\":\"UnionRenderers\"},{\"attributes\":{\"fill_color\":{\"value\":\"#1f77b4\"},\"line_color\":{\"value\":\"#1f77b4\"},\"top\":{\"field\":\"flux\"},\"width\":{\"value\":0.9},\"x\":{\"field\":\"band\"}},\"id\":\"7dc5cc5e-0218-4f14-aedb-699c81c9af34\",\"type\":\"VBar\"},{\"attributes\":{\"below\":[{\"id\":\"e1a56f0b-5925-4571-9b07-5ed2169de170\",\"type\":\"CategoricalAxis\"}],\"left\":[{\"id\":\"372db684-3de9-4d06-bfea-055c188c23cb\",\"type\":\"LinearAxis\"}],\"plot_height\":300,\"plot_width\":300,\"renderers\":[{\"id\":\"e1a56f0b-5925-4571-9b07-5ed2169de170\",\"type\":\"CategoricalAxis\"},{\"id\":\"edb1bab4-1153-418e-a42d-d595df5a8443\",\"type\":\"Grid\"},{\"id\":\"372db684-3de9-4d06-bfea-055c188c23cb\",\"type\":\"LinearAxis\"},{\"id\":\"a41da2a2-63da-46ba-babb-9899d5866d1a\",\"type\":\"Grid\"},{\"id\":\"19ef38a9-6cc2-468c-806f-00695ad91335\",\"type\":\"BoxAnnotation\"},{\"id\":\"4fc6308f-f4b3-4d1d-9dfc-b8cea73c3984\",\"type\":\"GlyphRenderer\"}],\"title\":{\"id\":\"3af56a0f-213e-4f53-83fc-477a0ebcb511\",\"type\":\"Title\"},\"toolbar\":{\"id\":\"442bea97-0ea4-4b6b-8449-f5d85b498547\",\"type\":\"Toolbar\"},\"toolbar_location\":null,\"x_range\":{\"id\":\"057e8402-6cf6-466b-9e57-4cf1f4b7cf31\",\"type\":\"FactorRange\"},\"x_scale\":{\"id\":\"ccf68ea3-2505-48c1-819e-5d732507d8d9\",\"type\":\"CategoricalScale\"},\"y_range\":{\"id\":\"9dcdb896-fc70-4be9-9d48-574e56c89d68\",\"type\":\"DataRange1d\"},\"y_scale\":{\"id\":\"fff05d10-f6bc-46b0-8369-60462fe9ca2d\",\"type\":\"LinearScale\"}},\"id\":\"f4f9f2f3-208c-4ac8-9cbf-d42ab1373717\",\"subtype\":\"Figure\",\"type\":\"Plot\"},{\"attributes\":{\"active_drag\":\"auto\",\"active_inspect\":\"auto\",\"active_scroll\":\"auto\",\"active_tap\":\"auto\",\"tools\":[{\"id\":\"72c894d6-1478-4925-9411-cf87ffe0fb4a\",\"type\":\"PanTool\"},{\"id\":\"c94e45ab-eeee-460c-8f96-9126e25b0fd5\",\"type\":\"WheelZoomTool\"},{\"id\":\"985257fa-ec41-436d-96f1-5b115cf77f31\",\"type\":\"BoxZoomTool\"},{\"id\":\"72f2f2ec-c805-420f-8519-a113a2d0200a\",\"type\":\"SaveTool\"},{\"id\":\"3eaad37c-50e9-4915-8a8f-c23a30219f47\",\"type\":\"ResetTool\"},{\"id\":\"a8c42196-7815-46cf-aae0-dff271034080\",\"type\":\"HelpTool\"}]},\"id\":\"442bea97-0ea4-4b6b-8449-f5d85b498547\",\"type\":\"Toolbar\"},{\"attributes\":{\"fill_color\":{\"value\":\"#1f77b4\"},\"line_color\":{\"value\":\"#1f77b4\"},\"top\":{\"field\":\"flux\"},\"width\":{\"value\":0.9},\"x\":{\"field\":\"band\"}},\"id\":\"5289698d-e9f2-41f5-b8f4-6b49b1ebe402\",\"type\":\"VBar\"},{\"attributes\":{},\"id\":\"ccf68ea3-2505-48c1-819e-5d732507d8d9\",\"type\":\"CategoricalScale\"},{\"attributes\":{\"dimension\":1,\"plot\":{\"id\":\"089a0a1f-f335-4ac4-9809-e1751c37b3fc\",\"subtype\":\"Figure\",\"type\":\"Plot\"},\"ticker\":{\"id\":\"212ef048-e1ab-4037-8e11-a990150e1ae0\",\"type\":\"BasicTicker\"}},\"id\":\"7577d3a2-2a4d-4d6f-9044-82564aa70b42\",\"type\":\"Grid\"},{\"attributes\":{},\"id\":\"34b2dff2-1872-4c01-8248-d89d506c35df\",\"type\":\"Selection\"},{\"attributes\":{\"children\":[{\"id\":\"3dd3ea48-45d0-4983-9d2a-a3d24432c717\",\"type\":\"ToolbarBox\"},{\"id\":\"858389fd-32e7-42a2-9a69-152b7835982b\",\"type\":\"Column\"}]},\"id\":\"e3d294d2-bce9-4911-90ca-0f2322b452b0\",\"type\":\"Column\"},{\"attributes\":{\"overlay\":{\"id\":\"19ef38a9-6cc2-468c-806f-00695ad91335\",\"type\":\"BoxAnnotation\"}},\"id\":\"985257fa-ec41-436d-96f1-5b115cf77f31\",\"type\":\"BoxZoomTool\"},{\"attributes\":{},\"id\":\"2847a705-babf-4873-a591-a8d94b240d74\",\"type\":\"CategoricalTicker\"},{\"attributes\":{},\"id\":\"d56a10e7-6b09-49e1-a276-5afd1ce0a65c\",\"type\":\"PanTool\"},{\"attributes\":{\"axis_label\":\"flux (W m-2)\",\"formatter\":{\"id\":\"3ef411c7-2fad-40d9-9cc5-56e4d9ebbbf0\",\"type\":\"BasicTickFormatter\"},\"plot\":{\"id\":\"f4f9f2f3-208c-4ac8-9cbf-d42ab1373717\",\"subtype\":\"Figure\",\"type\":\"Plot\"},\"ticker\":{\"id\":\"4900c6a2-596a-4796-bcb1-4d62575864f1\",\"type\":\"BasicTicker\"}},\"id\":\"372db684-3de9-4d06-bfea-055c188c23cb\",\"type\":\"LinearAxis\"},{\"attributes\":{},\"id\":\"1764f8c7-8f17-4638-b65b-0ba30eb12b98\",\"type\":\"ResetTool\"},{\"attributes\":{\"bottom_units\":\"screen\",\"fill_alpha\":{\"value\":0.5},\"fill_color\":{\"value\":\"lightgrey\"},\"left_units\":\"screen\",\"level\":\"overlay\",\"line_alpha\":{\"value\":1.0},\"line_color\":{\"value\":\"black\"},\"line_dash\":[4,4],\"line_width\":{\"value\":2},\"plot\":null,\"render_mode\":\"css\",\"right_units\":\"screen\",\"top_units\":\"screen\"},\"id\":\"170c4d91-12cd-4d78-a4e0-c3dd5ec92bf4\",\"type\":\"BoxAnnotation\"},{\"attributes\":{},\"id\":\"c94e45ab-eeee-460c-8f96-9126e25b0fd5\",\"type\":\"WheelZoomTool\"},{\"attributes\":{\"fill_alpha\":{\"value\":0.1},\"fill_color\":{\"value\":\"#1f77b4\"},\"line_alpha\":{\"value\":0.1},\"line_color\":{\"value\":\"#1f77b4\"},\"top\":{\"field\":\"flux\"},\"width\":{\"value\":0.9},\"x\":{\"field\":\"band\"}},\"id\":\"b41d44d6-3f14-4456-a384-c5a814c91af2\",\"type\":\"VBar\"},{\"attributes\":{},\"id\":\"fff05d10-f6bc-46b0-8369-60462fe9ca2d\",\"type\":\"LinearScale\"},{\"attributes\":{\"callback\":null,\"data\":{\"band\":[\"1\",\"2\",\"3\",\"4\",\"5\",\"6\",\"7\",\"8\",\"9\",\"10\",\"11\"],\"flux\":{\"__ndarray__\":\"AEIA0xaVxz8AmszTFFzKP6DtqeaDr9w/gKZD7rwpxj8ACKbk5mW4vwDq6Lga2bU/QL99HThnzD+AUnx8QnawPwCJRWf0/oo/gPCZrTtkpb8AT6VNchOPPw==\",\"dtype\":\"float64\",\"shape\":[11]}},\"selected\":{\"id\":\"5fa2e016-bd2f-4b56-9759-5f938423d386\",\"type\":\"Selection\"},\"selection_policy\":{\"id\":\"43d28398-9182-4833-b012-a6459cc8aa5e\",\"type\":\"UnionRenderers\"}},\"id\":\"4732cd6a-aea8-41bf-ae8f-3803802b0250\",\"type\":\"ColumnDataSource\"},{\"attributes\":{\"plot\":{\"id\":\"f4f9f2f3-208c-4ac8-9cbf-d42ab1373717\",\"subtype\":\"Figure\",\"type\":\"Plot\"},\"ticker\":{\"id\":\"2847a705-babf-4873-a591-a8d94b240d74\",\"type\":\"CategoricalTicker\"}},\"id\":\"edb1bab4-1153-418e-a42d-d595df5a8443\",\"type\":\"Grid\"},{\"attributes\":{},\"id\":\"72c894d6-1478-4925-9411-cf87ffe0fb4a\",\"type\":\"PanTool\"},{\"attributes\":{\"callback\":null,\"data\":{\"band\":[\"1\",\"2\",\"3\",\"4\",\"5\",\"6\",\"7\",\"8\",\"9\",\"10\",\"11\"],\"flux\":{\"__ndarray__\":\"ABU3bjE/xz8AZg3eV+WyPwARbjKqDLO/IP5+MVuy0D8AgbVq14S4PwDQ+uk/a46/YGthFto50j8AHErtRbSNv4DSeglfqaA/AMybHm9Ndb8AjgOvljuTPw==\",\"dtype\":\"float64\",\"shape\":[11]}},\"selected\":{\"id\":\"4e18304f-54b2-42ac-945b-06f12ddbbddb\",\"type\":\"Selection\"},\"selection_policy\":{\"id\":\"ce4f8cfd-8b8d-4793-82b2-cf95c002abaf\",\"type\":\"UnionRenderers\"}},\"id\":\"899c2e96-466c-4187-800c-5ce0dd6d01ed\",\"type\":\"ColumnDataSource\"}],\"root_ids\":[\"e3d294d2-bce9-4911-90ca-0f2322b452b0\"]},\"title\":\"Bokeh Application\",\"version\":\"0.12.16\"}};\n",
       "  var render_items = [{\"docid\":\"e5c6aebc-8dca-4c12-abc5-1c9784447bdd\",\"elementid\":\"b607aac9-995f-4017-9cd6-9d0653715388\",\"modelid\":\"e3d294d2-bce9-4911-90ca-0f2322b452b0\"}];\n",
       "  root.Bokeh.embed.embed_items_notebook(docs_json, render_items);\n",
       "\n",
       "  }\n",
       "  if (root.Bokeh !== undefined) {\n",
       "    embed_document(root);\n",
       "  } else {\n",
       "    var attempts = 0;\n",
       "    var timer = setInterval(function(root) {\n",
       "      if (root.Bokeh !== undefined) {\n",
       "        embed_document(root);\n",
       "        clearInterval(timer);\n",
       "      }\n",
       "      attempts++;\n",
       "      if (attempts > 100) {\n",
       "        console.log(\"Bokeh: ERROR: Unable to run BokehJS code because BokehJS library is missing\")\n",
       "        clearInterval(timer);\n",
       "      }\n",
       "    }, 10, root)\n",
       "  }\n",
       "})(window);"
      ],
      "application/vnd.bokehjs_exec.v0+json": ""
     },
     "metadata": {
      "application/vnd.bokehjs_exec.v0+json": {
       "id": "e3d294d2-bce9-4911-90ca-0f2322b452b0"
      }
     },
     "output_type": "display_data"
    },
    {
     "data": {
      "text/markdown": [
       "*FIGURE.* Difference between CLIRAD and CRD in TOA, SFC and net atmosphere flux, in each spectral band."
      ],
      "text/plain": [
       "<IPython.core.display.Markdown object>"
      ]
     },
     "metadata": {},
     "output_type": "display_data"
    },
    {
     "data": {
      "text/html": [
       "<div>\n",
       "<style scoped>\n",
       "    .dataframe tbody tr th:only-of-type {\n",
       "        vertical-align: middle;\n",
       "    }\n",
       "\n",
       "    .dataframe tbody tr th {\n",
       "        vertical-align: top;\n",
       "    }\n",
       "\n",
       "    .dataframe thead th {\n",
       "        text-align: right;\n",
       "    }\n",
       "</style>\n",
       "<table border=\"1\" class=\"dataframe\">\n",
       "  <thead>\n",
       "    <tr style=\"text-align: right;\">\n",
       "      <th></th>\n",
       "      <th>OLR flux</th>\n",
       "      <th>SFC flux</th>\n",
       "      <th>ATM heating</th>\n",
       "    </tr>\n",
       "    <tr>\n",
       "      <th>Sum over bands</th>\n",
       "      <th></th>\n",
       "      <th></th>\n",
       "      <th></th>\n",
       "    </tr>\n",
       "  </thead>\n",
       "  <tbody>\n",
       "    <tr>\n",
       "      <th>CLIRAD - CRD</th>\n",
       "      <td>0.84</td>\n",
       "      <td>-0.44</td>\n",
       "      <td>1.27</td>\n",
       "    </tr>\n",
       "    <tr>\n",
       "      <th>CRD</th>\n",
       "      <td>-201.06</td>\n",
       "      <td>166.03</td>\n",
       "      <td>-119.67</td>\n",
       "    </tr>\n",
       "  </tbody>\n",
       "</table>\n",
       "</div>"
      ],
      "text/plain": [
       "                OLR flux  SFC flux  ATM heating\n",
       "Sum over bands                                 \n",
       "CLIRAD - CRD        0.84     -0.44         1.27\n",
       "CRD              -201.06    166.03      -119.67"
      ]
     },
     "metadata": {},
     "output_type": "display_data"
    },
    {
     "data": {
      "text/markdown": [
       "*TABLE.* Difference between CLIRAD and CRD in TOA, SFC and net atmosphere flux, over all spectral bands. CRD's TOA, SFC and net atmosphere flux, over all spectral bands."
      ],
      "text/plain": [
       "<IPython.core.display.Markdown object>"
      ]
     },
     "metadata": {},
     "output_type": "display_data"
    },
    {
     "data": {
      "text/html": [
       "<a id=\"Cooling_rates._trp.\"></a>"
      ],
      "text/plain": [
       "<IPython.core.display.HTML object>"
      ]
     },
     "metadata": {},
     "output_type": "display_data"
    },
    {
     "data": {
      "text/markdown": [
       "# Cooling rates. trp."
      ],
      "text/plain": [
       "<IPython.core.display.Markdown object>"
      ]
     },
     "metadata": {},
     "output_type": "display_data"
    },
    {
     "data": {
      "text/html": [
       "\n",
       "<div class=\"bk-root\">\n",
       "    <div class=\"bk-plotdiv\" id=\"b8808fb3-0e6b-4013-9c64-70d72a056180\"></div>\n",
       "</div>"
      ]
     },
     "metadata": {},
     "output_type": "display_data"
    },
    {
     "data": {
      "application/javascript": [
       "(function(root) {\n",
       "  function embed_document(root) {\n",
       "    \n",
       "  var docs_json = {\"afd38d13-10c8-47bd-97bc-8a35efacfde4\":{\"roots\":{\"references\":[{\"attributes\":{},\"id\":\"1a39e6cd-3ed3-4912-945b-53ad390ac108\",\"type\":\"LinearScale\"},{\"attributes\":{},\"id\":\"e6d9e9e8-4643-477f-ba72-3d7bc8eb794c\",\"type\":\"LinearScale\"},{\"attributes\":{},\"id\":\"8ff140e6-5b53-4f63-ad13-9e9cb299972a\",\"type\":\"PanTool\"},{\"attributes\":{\"callback\":null,\"end\":12.208583274239547,\"start\":-0.60330241663455},\"id\":\"0ed2b8fe-57bf-477b-9c1a-a1e0ec0cf667\",\"type\":\"Range1d\"},{\"attributes\":{\"source\":{\"id\":\"75caceb9-1c6c-41d1-870b-957b4ac50667\",\"type\":\"ColumnDataSource\"}},\"id\":\"41259384-129d-4db3-82a0-b1b713a76793\",\"type\":\"CDSView\"},{\"attributes\":{},\"id\":\"1f7b2640-9ecc-41d8-a685-3f12b044e1c0\",\"type\":\"UnionRenderers\"},{\"attributes\":{\"dimension\":1,\"plot\":{\"id\":\"5ca56a38-2aba-412b-9477-115fedae692d\",\"subtype\":\"Figure\",\"type\":\"Plot\"},\"ticker\":{\"id\":\"14704337-4bb0-4bb8-be85-3ac6a9a96c1c\",\"type\":\"LogTicker\"}},\"id\":\"13e7163e-0658-46a1-929b-8fd41f3ba321\",\"type\":\"Grid\"},{\"attributes\":{},\"id\":\"df292292-d1f8-4700-a54a-7674b8f1b762\",\"type\":\"BasicTicker\"},{\"attributes\":{\"source\":{\"id\":\"1bbb1bd1-2c01-446c-9391-c7f922af4709\",\"type\":\"ColumnDataSource\"}},\"id\":\"9b352981-0e96-4100-be8f-447ab2348667\",\"type\":\"CDSView\"},{\"attributes\":{\"overlay\":{\"id\":\"b2d2078a-4ebf-46fd-8182-406493136e88\",\"type\":\"BoxAnnotation\"}},\"id\":\"43262697-c87a-4f2d-9a5c-333098f47a88\",\"type\":\"BoxZoomTool\"},{\"attributes\":{},\"id\":\"37bd9a0c-100c-4dea-a048-e4be7db8bf7a\",\"type\":\"UnionRenderers\"},{\"attributes\":{\"items\":[{\"id\":\"afbc1d7e-eb4d-4942-a37d-835657b93192\",\"type\":\"LegendItem\"},{\"id\":\"88dff541-9c0a-42cb-b97c-09a4da43cc1d\",\"type\":\"LegendItem\"}],\"label_text_font_size\":{\"value\":\"8pt\"},\"location\":\"top_center\",\"orientation\":\"horizontal\",\"plot\":{\"id\":\"ac963a01-691c-467c-b495-9d1350eb3ece\",\"subtype\":\"Figure\",\"type\":\"Plot\"}},\"id\":\"0703b9bd-d8c1-4f2c-b292-d2a0efa983a6\",\"type\":\"Legend\"},{\"attributes\":{},\"id\":\"72845bd3-2a19-40e1-8770-50dba5592097\",\"type\":\"WheelZoomTool\"},{\"attributes\":{},\"id\":\"a34013d7-3238-4970-8018-9b847f5f7820\",\"type\":\"BasicTickFormatter\"},{\"attributes\":{\"axis_label\":\"cooling rate [K/day]\",\"formatter\":{\"id\":\"a34013d7-3238-4970-8018-9b847f5f7820\",\"type\":\"BasicTickFormatter\"},\"plot\":{\"id\":\"5ca56a38-2aba-412b-9477-115fedae692d\",\"subtype\":\"Figure\",\"type\":\"Plot\"},\"ticker\":{\"id\":\"df292292-d1f8-4700-a54a-7674b8f1b762\",\"type\":\"BasicTicker\"}},\"id\":\"4b60d2fd-4530-4613-a7bb-119633efac8a\",\"type\":\"LinearAxis\"},{\"attributes\":{},\"id\":\"3933dc63-dfc0-4e23-a711-e7e87a9c6b5a\",\"type\":\"BasicTicker\"},{\"attributes\":{},\"id\":\"fc064bd1-db32-44ca-9e80-87d6c4a8ebe7\",\"type\":\"HelpTool\"},{\"attributes\":{\"plot\":null,\"text\":\"\"},\"id\":\"fcaa41e2-c968-4413-a37e-9dc3cdd199c7\",\"type\":\"Title\"},{\"attributes\":{},\"id\":\"baeb7b9f-2bf1-4d69-bf86-95f75c3ccde6\",\"type\":\"SaveTool\"},{\"attributes\":{},\"id\":\"74a92560-2677-44bc-a0ff-f870299efae2\",\"type\":\"BasicTicker\"},{\"attributes\":{\"fill_alpha\":{\"value\":0.7},\"fill_color\":{\"value\":\"#4daf4a\"},\"line_alpha\":{\"value\":0.7},\"line_color\":{\"value\":\"#4daf4a\"},\"x\":{\"field\":\"x\"},\"y\":{\"field\":\"y\"}},\"id\":\"e5e4c9b5-e84e-4b78-9d05-c4685d4e2f77\",\"type\":\"Circle\"},{\"attributes\":{\"axis_label\":\"pressure [mb]\",\"formatter\":{\"id\":\"1da82b57-d87b-411d-89d9-40675c06e1d2\",\"type\":\"LogTickFormatter\"},\"plot\":{\"id\":\"5ca56a38-2aba-412b-9477-115fedae692d\",\"subtype\":\"Figure\",\"type\":\"Plot\"},\"ticker\":{\"id\":\"14704337-4bb0-4bb8-be85-3ac6a9a96c1c\",\"type\":\"LogTicker\"}},\"id\":\"57fa8dad-46ac-4563-98ea-547f6be646ee\",\"type\":\"LogAxis\"},{\"attributes\":{\"axis_label\":\"pressure [mb]\",\"formatter\":{\"id\":\"2e9db4a1-b82b-493b-9745-cfe2db08607d\",\"type\":\"BasicTickFormatter\"},\"plot\":{\"id\":\"ac963a01-691c-467c-b495-9d1350eb3ece\",\"subtype\":\"Figure\",\"type\":\"Plot\"},\"ticker\":{\"id\":\"3933dc63-dfc0-4e23-a711-e7e87a9c6b5a\",\"type\":\"BasicTicker\"}},\"id\":\"db9cdbb6-ee0a-4464-9f47-2c65a04f63cb\",\"type\":\"LinearAxis\"},{\"attributes\":{},\"id\":\"8cddb8e8-ec8b-4a0f-b090-1de3996d1dd5\",\"type\":\"LinearScale\"},{\"attributes\":{},\"id\":\"4ffbb52a-b79c-46f4-9b83-51b8851c0306\",\"type\":\"UnionRenderers\"},{\"attributes\":{\"dimension\":1,\"plot\":{\"id\":\"ac963a01-691c-467c-b495-9d1350eb3ece\",\"subtype\":\"Figure\",\"type\":\"Plot\"},\"ticker\":{\"id\":\"3933dc63-dfc0-4e23-a711-e7e87a9c6b5a\",\"type\":\"BasicTicker\"}},\"id\":\"8b21ec43-5e4d-4817-b764-52bc96eb6918\",\"type\":\"Grid\"},{\"attributes\":{\"callback\":null,\"end\":2.3923471771224505,\"start\":-0.50611196022745},\"id\":\"e70ade4d-a75b-4907-9751-de52edc89b22\",\"type\":\"Range1d\"},{\"attributes\":{},\"id\":\"029b887a-8e60-44ac-ac4a-1ff0f023a483\",\"type\":\"ResetTool\"},{\"attributes\":{\"axis_label\":\"cooling rate [K/day]\",\"formatter\":{\"id\":\"ca050d98-f363-450b-afea-fffaa903b286\",\"type\":\"BasicTickFormatter\"},\"plot\":{\"id\":\"ac963a01-691c-467c-b495-9d1350eb3ece\",\"subtype\":\"Figure\",\"type\":\"Plot\"},\"ticker\":{\"id\":\"74a92560-2677-44bc-a0ff-f870299efae2\",\"type\":\"BasicTicker\"}},\"id\":\"65be34ec-7c92-4384-8d46-86118e9641b5\",\"type\":\"LinearAxis\"},{\"attributes\":{\"callback\":null,\"data\":{\"x\":{\"__ndarray__\":\"R/KIaN7AVEClCeJMyPNGQOvRhpxr30JAptxzhxx4PkA7SssMElA4QK6Bp3CyUDNAsVXpjES9LkBFhUV0+5coQMHYwqbbySNA6f09nM3nH0CaSd/3eYoZQDmgiAOW8BNAPYqARh3eDEBkm4vCgvr+P9D+5tWhQfY/P8DwKRnSAkBq38kb17ILQDT7IWuSsxFAUr2Rjm0FFkAinq3s9XgbQGCHwtYcqSFAG64kT303J0C7dRDneyooQD9JYrbK8yRA9S3bneHhIUAIymSuUMMcQIkHLe6VEBdAAau3cITREkA6CiNvkQIPQJU39ki7IQlAaAvwok1UA0BXLQiS4+L7P0xzDpJ2hPI/NNuPGMbJ5z91mUVYxqfSPxqwUPSxZca/G11peifD3L8QzNj5t2jTvwzOozTL360/SPJ4VI1VzD9KJ0nXEIncP8yDdlvHt+4/Et49nYLW9z++2teD4Jn+P+568eH/bwFALf5D9lmAAkCiZAicVOkCQPPT4jNKxwJAOjp3wTzBAUBSQsKNGisBQG4OmjqJwQBAJ3sZoHFuAEA5Ar0Sdi0AQGy4rw5+9f8/7W4nSrC3/z8mPr8zj4T/P4UYRHCQS/8/embVKYcF/z+5YXG+LLP+P/qb8BVUgf4/KvafTtyO/j/avAK1Ppv+PwJV9VVm2P0/JFtYlU/n/D9sN+q2fiX6Pw44e41PNPc/Opt+Z/wN9T+x3vcSW1vzP9ofvWQJlvI/8sciQQBW8j80sfkQa17yPzg5qng2r/I/Oh14WJBh8z+VZjnpctj0P6CcrSuCqQBA\",\"dtype\":\"float64\",\"shape\":[75]},\"y\":{\"__ndarray__\":\"GhExyth1ND/Sv8nbtpRIP2vylNV0PVE/aTum7souWD/At0SJ8fVgPw3Iuahxymc/MSNhhJWvcD/bTfBN02d3P2zb5nxnaoA/CD5h5MAGhz8NmeH1TyaQP+zrCsc9p5Y/LbKd76fGnz/bLW5ISEmmPww9YvTcQq8/JV2OstnstT8Er5Y7M8G+P0c+r3jqkcU/5h99k6ZBzj88bCIzFzjVP4enV8oyxN0//yH99nXg5D8qOpLLf0jtP5kqGJXUifQ/c9cS8kHP/D+/DpwzojQEQIEmwoanVwxA4lgXt9HgE0BSSZ2AJuIbQAMJih9jjiNA5q4l5INuK0AwTKYKRj0zQNv5fmq8/DpAaCJseHrtQkB/+zpwzoxKQM3MzMzMeFJAZmZmZmZqWEAAAAAAAFxeQM3MzMzMJmJAmpmZmZkfZUBmZmZmZhhoQDMzMzMzEWtAAAAAAAAKbkBmZmZmZoFwQM3MzMzM/XFAMzMzMzN6c0CamZmZmfZ0QAAAAAAAc3ZAZmZmZmbvd0DNzMzMzGt5QDMzMzMz6HpAmpmZmZlkfEAAAAAAAOF9QGZmZmZmXX9AZmZmZuZsgECamZmZGSuBQM3MzMxM6YFAAAAAAICngkAzMzMzs2WDQGZmZmbmI4RAmpmZmRnihEDNzMzMTKCFQAAAAACAXoZAMzMzM7Mch0BmZmZm5tqHQJqZmZkZmYhAzczMzExXiUAAAAAAgBWKQDMzMzOz04pAZmZmZuaRi0CamZmZGVCMQM3MzMxMDo1AAAAAAIDMjUAzMzMzs4qOQGZmZmbmSI9A\",\"dtype\":\"float64\",\"shape\":[75]}},\"selected\":{\"id\":\"8b1df728-417e-4b60-91d3-413facc9d9c6\",\"type\":\"Selection\"},\"selection_policy\":{\"id\":\"d20664f2-ee52-481b-9bd7-8555e15529cb\",\"type\":\"UnionRenderers\"}},\"id\":\"75caceb9-1c6c-41d1-870b-957b4ac50667\",\"type\":\"ColumnDataSource\"},{\"attributes\":{\"num_minor_ticks\":10},\"id\":\"14704337-4bb0-4bb8-be85-3ac6a9a96c1c\",\"type\":\"LogTicker\"},{\"attributes\":{\"source\":{\"id\":\"d0932962-dfcd-4fb6-ac25-f7699d8eae55\",\"type\":\"ColumnDataSource\"}},\"id\":\"13241902-edac-433a-8dd0-c6fffaba65f9\",\"type\":\"CDSView\"},{\"attributes\":{},\"id\":\"15146828-c9df-41b1-82de-5a7c8a8feaed\",\"type\":\"LogScale\"},{\"attributes\":{\"items\":[{\"id\":\"7e1633f2-5051-49a7-b9ef-d6e671ae6ca3\",\"type\":\"LegendItem\"}],\"label_text_font_size\":{\"value\":\"8pt\"},\"location\":\"top_center\",\"orientation\":\"horizontal\",\"plot\":{\"id\":\"5ca56a38-2aba-412b-9477-115fedae692d\",\"subtype\":\"Figure\",\"type\":\"Plot\"}},\"id\":\"fb260e59-5dcd-4660-8cf8-da7631a88c6e\",\"type\":\"Legend\"},{\"attributes\":{\"callback\":null,\"end\":0.55853184394948,\"start\":-1.3542128435934802},\"id\":\"277facaa-4601-4ffd-9940-38a575057686\",\"type\":\"Range1d\"},{\"attributes\":{\"callback\":null,\"end\":0.01,\"start\":1020},\"id\":\"9a637693-355c-4d57-9e17-844a1f96bb70\",\"type\":\"Range1d\"},{\"attributes\":{},\"id\":\"4c0d318f-77e7-4a06-aa35-fbdfcfa0a3a6\",\"type\":\"Selection\"},{\"attributes\":{\"fill_alpha\":{\"value\":0.1},\"fill_color\":{\"value\":\"#1f77b4\"},\"line_alpha\":{\"value\":0.1},\"line_color\":{\"value\":\"#1f77b4\"},\"x\":{\"field\":\"x\"},\"y\":{\"field\":\"y\"}},\"id\":\"af0e820d-6f09-4407-bb8d-c2555c6bd06d\",\"type\":\"Circle\"},{\"attributes\":{\"callback\":null,\"data\":{\"x\":{\"__ndarray__\":\"eh+s5yk9IcA/tAgfJ08FwPlkXZDRnfc/bXnIlZZWDEA+x9NjC2kNQIC1T1zgYANAIubiXAuW5D87A4TF5ibpv48iccULXvW/V80t0FxP8b+03TPX9srev9xFiXU0Z7Y/SjPNzuSG3T/QpPGK30XhP2NkLfabwdY/RMnk2qf5sT/+VKZbP2/RvxuceXMWOeG/lTKpouNP4b/6KlgVVZ3Tv1TY7gxrfbq/ZseUwVL4oL9kgCLVXMbLv7DKufbHSte/18Lhtysvu7+3BmgGWorUPwMVnIdErdU/+reGEt+XuD+6Io6PJA+KP/BnHjlzdM4/84FmIa1B1D9sWuv/gmXBP15sseAg76u/MAEWuK+Vmr9eN73VJXKjP2LxGbmX9py/z9glU1nksr8B8a5UQtmuvw2FWwXT+au/an22EJfWrr/hHeOgQcqvv+Q56uhWvbG/5P2nZ4BSqL9K9DVujoCwv6kcADhccb+/DxIx3rw8tL9AGAXMZKeuv5OSQJTCVLW/BQIDUYc/tb/1MWppzpasv42zeSqBtJ+/IYGVzj6flL+itMunpTqWv37hfR6pGp6/eNvm7rxSn7+8j5R7IeeOv265NxViW44/W8vOqw0Ypj8gTluB83KsP2ZQkBKaqKc/uBfjWQjGlz8Amh0To5MHP4AMpk0Uon2/cEhJxNmKZD9cTq4YG+KZP2zRXyQH96s/WfLyac4wsj/qrzeMsd+yP0OH+jzK8bM/yvvP8DUFtT/ELmnH7x+2P33lNzupI7o/WoDcLo4rvj9qUvTUq8e/Pw==\",\"dtype\":\"float64\",\"shape\":[74]},\"y\":{\"__ndarray__\":\"0r/J27aUSD9r8pTVdD1RP2k7pu7KLlg/wLdEifH1YD8NyLmoccpnPzEjYYSVr3A/203wTdNndz9s2+Z8Z2qAPwg+YeTABoc/DZnh9U8mkD/s6wrHPaeWPy2yne+nxp8/2y1uSEhJpj8MPWL03EKvPyVdjrLZ7LU/BK+WOzPBvj9HPq946pHFP+YffZOmQc4/PGwiMxc41T+Hp1fKMsTdP/8h/fZ14OQ/KjqSy39I7T+ZKhiV1In0P3PXEvJBz/w/vw6cM6I0BECBJsKGp1cMQOJYF7fR4BNAUkmdgCbiG0ADCYofY44jQOauJeSDbitAMEymCkY9M0Db+X5qvPw6QGgibHh67UJAf/s6cM6MSkDNzMzMzHhSQGZmZmZmalhAAAAAAABcXkDNzMzMzCZiQJqZmZmZH2VAZmZmZmYYaEAzMzMzMxFrQAAAAAAACm5AZmZmZmaBcEDNzMzMzP1xQDMzMzMzenNAmpmZmZn2dEAAAAAAAHN2QGZmZmZm73dAzczMzMxreUAzMzMzM+h6QJqZmZmZZHxAAAAAAADhfUBmZmZmZl1/QGZmZmbmbIBAmpmZmRkrgUDNzMzMTOmBQAAAAACAp4JAMzMzM7Nlg0BmZmZm5iOEQJqZmZkZ4oRAzczMzEyghUAAAAAAgF6GQDMzMzOzHIdAZmZmZubah0CamZmZGZmIQM3MzMxMV4lAAAAAAIAVikAzMzMzs9OKQGZmZmbmkYtAmpmZmRlQjEDNzMzMTA6NQAAAAACAzI1AMzMzM7OKjkBmZmZm5kiPQA==\",\"dtype\":\"float64\",\"shape\":[74]}},\"selected\":{\"id\":\"60625464-486a-4526-bf1d-7a0a54ff7978\",\"type\":\"Selection\"},\"selection_policy\":{\"id\":\"4a381664-aa4b-42ef-948f-b102d1cb1f81\",\"type\":\"UnionRenderers\"}},\"id\":\"41748083-66be-4e74-ab62-3af213847073\",\"type\":\"ColumnDataSource\"},{\"attributes\":{\"bottom_units\":\"screen\",\"fill_alpha\":{\"value\":0.5},\"fill_color\":{\"value\":\"lightgrey\"},\"left_units\":\"screen\",\"level\":\"overlay\",\"line_alpha\":{\"value\":1.0},\"line_color\":{\"value\":\"black\"},\"line_dash\":[4,4],\"line_width\":{\"value\":2},\"plot\":null,\"render_mode\":\"css\",\"right_units\":\"screen\",\"top_units\":\"screen\"},\"id\":\"b2d2078a-4ebf-46fd-8182-406493136e88\",\"type\":\"BoxAnnotation\"},{\"attributes\":{\"plot\":{\"id\":\"ac963a01-691c-467c-b495-9d1350eb3ece\",\"subtype\":\"Figure\",\"type\":\"Plot\"},\"ticker\":{\"id\":\"74a92560-2677-44bc-a0ff-f870299efae2\",\"type\":\"BasicTicker\"}},\"id\":\"d11e335c-96fa-4939-ab6b-2f1e6332b3e2\",\"type\":\"Grid\"},{\"attributes\":{\"plot\":{\"id\":\"5ca56a38-2aba-412b-9477-115fedae692d\",\"subtype\":\"Figure\",\"type\":\"Plot\"},\"ticker\":{\"id\":\"df292292-d1f8-4700-a54a-7674b8f1b762\",\"type\":\"BasicTicker\"}},\"id\":\"8afacdb8-eb11-4325-905e-b86fcb3f0f9f\",\"type\":\"Grid\"},{\"attributes\":{},\"id\":\"21a35325-c4e4-47e8-a190-38b50f8585d5\",\"type\":\"Selection\"},{\"attributes\":{\"above\":[{\"id\":\"3e7811dd-dd54-4b7b-85fe-a01a5990e571\",\"type\":\"Legend\"}],\"below\":[{\"id\":\"2aaa43e6-5f74-4e29-a255-43b38dd467bc\",\"type\":\"LinearAxis\"}],\"left\":[{\"id\":\"c3bc84f0-7a24-45f5-9393-f172f1660fd7\",\"type\":\"LogAxis\"}],\"plot_width\":300,\"renderers\":[{\"id\":\"2aaa43e6-5f74-4e29-a255-43b38dd467bc\",\"type\":\"LinearAxis\"},{\"id\":\"4e276ecc-7bbf-4451-8203-190470d5f563\",\"type\":\"Grid\"},{\"id\":\"c3bc84f0-7a24-45f5-9393-f172f1660fd7\",\"type\":\"LogAxis\"},{\"id\":\"ab95ec2f-c8be-4386-9a4c-d937ac750bea\",\"type\":\"Grid\"},{\"id\":\"d1f2d863-1a73-444a-bb66-3a48d55b1e2b\",\"type\":\"BoxAnnotation\"},{\"id\":\"4d43f2ac-e159-43a7-9928-dee1c0265cd2\",\"type\":\"GlyphRenderer\"},{\"id\":\"1385d8fc-3dff-4cc8-b3ea-784c7b575dbb\",\"type\":\"GlyphRenderer\"},{\"id\":\"b957d9bd-2479-48bd-81cd-c9f95fb30e68\",\"type\":\"GlyphRenderer\"},{\"id\":\"3e7811dd-dd54-4b7b-85fe-a01a5990e571\",\"type\":\"Legend\"}],\"title\":{\"id\":\"793839c4-a105-445e-9033-139e3a34a3c6\",\"type\":\"Title\"},\"toolbar\":{\"id\":\"70c3f25f-983b-40ba-b4c5-bb81deaabec0\",\"type\":\"Toolbar\"},\"toolbar_location\":null,\"x_range\":{\"id\":\"0ed2b8fe-57bf-477b-9c1a-a1e0ec0cf667\",\"type\":\"Range1d\"},\"x_scale\":{\"id\":\"b319d563-496f-4f94-a8cb-f0afca83c370\",\"type\":\"LinearScale\"},\"y_range\":{\"id\":\"20b3e362-2ca4-4be2-8795-33a5aff8b5cc\",\"type\":\"Range1d\"},\"y_scale\":{\"id\":\"0c6b153e-432a-48b7-bc23-1adb9339c5ed\",\"type\":\"LogScale\"}},\"id\":\"96aa125b-0072-45c8-bc69-6a6df6d43c17\",\"subtype\":\"Figure\",\"type\":\"Plot\"},{\"attributes\":{\"axis_label\":\"cooling rate [K/day]\",\"formatter\":{\"id\":\"5870fc15-f934-4a5b-ac04-f6a8b7843537\",\"type\":\"BasicTickFormatter\"},\"plot\":{\"id\":\"96aa125b-0072-45c8-bc69-6a6df6d43c17\",\"subtype\":\"Figure\",\"type\":\"Plot\"},\"ticker\":{\"id\":\"7b12c195-4b55-48ff-ad5f-2e6650c65b73\",\"type\":\"BasicTicker\"}},\"id\":\"2aaa43e6-5f74-4e29-a255-43b38dd467bc\",\"type\":\"LinearAxis\"},{\"attributes\":{\"data_source\":{\"id\":\"5918c809-a197-4f88-b67f-79ad6e7bbefc\",\"type\":\"ColumnDataSource\"},\"glyph\":{\"id\":\"873e8682-72e8-48ce-b05b-837bac5f3a99\",\"type\":\"Circle\"},\"hover_glyph\":null,\"muted_glyph\":null,\"nonselection_glyph\":{\"id\":\"954812e4-9f07-4989-9aaa-71a84d177f5d\",\"type\":\"Circle\"},\"selection_glyph\":null,\"view\":{\"id\":\"9ef8f8dc-54f6-452b-a920-6e23c0b0f1e4\",\"type\":\"CDSView\"}},\"id\":\"1385d8fc-3dff-4cc8-b3ea-784c7b575dbb\",\"type\":\"GlyphRenderer\"},{\"attributes\":{},\"id\":\"6f7c15b9-f86d-443a-88fe-0da41cb06646\",\"type\":\"PanTool\"},{\"attributes\":{\"line_alpha\":0.1,\"line_color\":\"#1f77b4\",\"line_width\":1.5,\"x\":{\"field\":\"x\"},\"y\":{\"field\":\"y\"}},\"id\":\"7c255952-225c-4c00-a718-2a2184e847a8\",\"type\":\"Line\"},{\"attributes\":{\"ticker\":null},\"id\":\"0965e156-c3dd-4824-b050-585770a004dc\",\"type\":\"LogTickFormatter\"},{\"attributes\":{\"callback\":null,\"data\":{\"x\":{\"__ndarray__\":\"kqvVCTJORUDGAffSfaRCQKZGlip5ikFA97J5oPnxP0BpWYTf5No7QJb6Id3T/TZAiqH+Ub7KMUCmsxMqXOEpQI6YajptNyJARrXhqkqQGkBE1tPDojYVQF9iFZbmAxJAbdQs6laRDUAcdB/7HS4DQDvRX5uR5P4/y2y2qEyqBUCzBaFapEIMQOWVZ3WenBBA0YkiwEreE0DPd1h4+U4ZQAjGFy4yDCFAatAKeYICJ0D04E6UgxkoQEC/DUOxhCRAn18lXosnIUD7QoX/k1YcQPSHk447WRhAU2wxuVgsFED5P7dnUMcPQLfFhW3KOwlA6PGB1pQ7BUDr5jBtp3kAQJjeC/ImsfQ/ccSECtQK5j9hOcRca/7QP0Fi4X4oicG/Mvz69ZCS3r9DQqJOziHYv/xeZAHkLl+/BREikxhXxT+cVzL1Pa7YP+5RaEEju+w/dDqvLq269j/QmpqATNf9P0zLf2776wBASP2DFM+EAUAQ3Ba1bkcCQJG/sqCsTAJApzXVrJYWAUBCKjpTHoEAQKZl9AAuTwBAwIfEnQgvAEA51x+VNwQAQJqJEHiTnP8/aHetpUU//z+4ogNARAf/P2XvTC3CDf8/7dX/7T1C/z8V2M8r7WP/P2p2+7HrZP8/rng0HyFM/z86SWrWVvr+Pzx7O32V2P0/GLUKga3J/D8RXMwjxC/6P0jx3fnXm/c/xpmhoLTt9T/XDZf5Z370P9iagH0ExPM/ZXDy5ByV8z/xsAZwvq7zPyTMIHU1EfQ/kpsr7MoD9T+bLifMK7v2PzM/VYq/pwFA\",\"dtype\":\"float64\",\"shape\":[75]},\"y\":{\"__ndarray__\":\"S/O/Q+51ND/Sv8nbtpRIP2vylNV0PVE/aTum7souWD/At0SJ8fVgPw3Iuahxymc/MSNhhJWvcD/bTfBN02d3P2zb5nxnaoA/CD5h5MAGhz8NmeH1TyaQP+zrCsc9p5Y/LbKd76fGnz/bLW5ISEmmPww9YvTcQq8/JV2OstnstT8Er5Y7M8G+P0c+r3jqkcU/5h99k6ZBzj88bCIzFzjVP4enV8oyxN0//yH99nXg5D8qOpLLf0jtP5kqGJXUifQ/c9cS8kHP/D+/DpwzojQEQIEmwoanVwxA4lgXt9HgE0BSSZ2AJuIbQAMJih9jjiNA5q4l5INuK0AwTKYKRj0zQNv5fmq8/DpAaCJseHrtQkB/+zpwzoxKQM3MzMzMeFJAZmZmZmZqWEAAAAAAAFxeQM3MzMzMJmJAmpmZmZkfZUBmZmZmZhhoQDMzMzMzEWtAAAAAAAAKbkBmZmZmZoFwQM3MzMzM/XFAMzMzMzN6c0CamZmZmfZ0QAAAAAAAc3ZAZmZmZmbvd0DNzMzMzGt5QDMzMzMz6HpAmpmZmZlkfEAAAAAAAOF9QGZmZmZmXX9AZmZmZuZsgECamZmZGSuBQM3MzMxM6YFAAAAAAICngkAzMzMzs2WDQGZmZmbmI4RAmpmZmRnihEDNzMzMTKCFQAAAAACAXoZAMzMzM7Mch0BmZmZm5tqHQJqZmZkZmYhAzczMzExXiUAAAAAAgBWKQDMzMzOz04pAZmZmZuaRi0CamZmZGVCMQM3MzMxMDo1AAAAAAIDMjUAzMzMzs4qOQGZmZmbmSI9A\",\"dtype\":\"float64\",\"shape\":[75]}},\"selected\":{\"id\":\"5d72759d-3bf5-4ca3-9631-76278b72abd3\",\"type\":\"Selection\"},\"selection_policy\":{\"id\":\"1f7b2640-9ecc-41d8-a685-3f12b044e1c0\",\"type\":\"UnionRenderers\"}},\"id\":\"1bbb1bd1-2c01-446c-9391-c7f922af4709\",\"type\":\"ColumnDataSource\"},{\"attributes\":{},\"id\":\"7b12c195-4b55-48ff-ad5f-2e6650c65b73\",\"type\":\"BasicTicker\"},{\"attributes\":{},\"id\":\"8076a09e-68a1-476a-8114-5653e5577210\",\"type\":\"Selection\"},{\"attributes\":{\"tools\":[{\"id\":\"8ff140e6-5b53-4f63-ad13-9e9cb299972a\",\"type\":\"PanTool\"},{\"id\":\"72845bd3-2a19-40e1-8770-50dba5592097\",\"type\":\"WheelZoomTool\"},{\"id\":\"43262697-c87a-4f2d-9a5c-333098f47a88\",\"type\":\"BoxZoomTool\"},{\"id\":\"baeb7b9f-2bf1-4d69-bf86-95f75c3ccde6\",\"type\":\"SaveTool\"},{\"id\":\"029b887a-8e60-44ac-ac4a-1ff0f023a483\",\"type\":\"ResetTool\"},{\"id\":\"fc064bd1-db32-44ca-9e80-87d6c4a8ebe7\",\"type\":\"HelpTool\"},{\"id\":\"6f7c15b9-f86d-443a-88fe-0da41cb06646\",\"type\":\"PanTool\"},{\"id\":\"50cd814b-0532-4a9e-a298-b93a6e4f453b\",\"type\":\"WheelZoomTool\"},{\"id\":\"ecd3ba30-85f0-4aa7-af24-78ba87584d27\",\"type\":\"BoxZoomTool\"},{\"id\":\"73011da2-5ebd-4e11-bba9-a20daa4c389a\",\"type\":\"SaveTool\"},{\"id\":\"85bd42e3-b7e4-4c16-b206-fd6c360fa042\",\"type\":\"ResetTool\"},{\"id\":\"ed63d42d-eb5b-4135-b485-8bf857b2d6c2\",\"type\":\"HelpTool\"},{\"id\":\"45760a7d-b0f4-43f7-8b81-5eb0a762183b\",\"type\":\"PanTool\"},{\"id\":\"004c2088-88d8-45af-8539-cc2929bfd09c\",\"type\":\"WheelZoomTool\"},{\"id\":\"90d5fcb8-d462-4cc4-ad41-24ee3fd5b8ea\",\"type\":\"BoxZoomTool\"},{\"id\":\"b04269cb-c853-4928-beeb-16f8ab689007\",\"type\":\"SaveTool\"},{\"id\":\"8239663a-0a29-4cb4-b26a-198be8c8759d\",\"type\":\"ResetTool\"},{\"id\":\"cbfbf47b-e450-4c2f-ba90-e9e87466c277\",\"type\":\"HelpTool\"}]},\"id\":\"5856c0ee-df2f-469d-b7b4-254caa6a1979\",\"type\":\"ProxyToolbar\"},{\"attributes\":{},\"id\":\"8b1df728-417e-4b60-91d3-413facc9d9c6\",\"type\":\"Selection\"},{\"attributes\":{\"line_color\":\"#4daf4a\",\"line_width\":1.5,\"x\":{\"field\":\"x\"},\"y\":{\"field\":\"y\"}},\"id\":\"c8f36d22-0367-457d-a3d9-531116f6d3f5\",\"type\":\"Line\"},{\"attributes\":{\"data_source\":{\"id\":\"75caceb9-1c6c-41d1-870b-957b4ac50667\",\"type\":\"ColumnDataSource\"},\"glyph\":{\"id\":\"e5e4c9b5-e84e-4b78-9d05-c4685d4e2f77\",\"type\":\"Circle\"},\"hover_glyph\":null,\"muted_glyph\":null,\"nonselection_glyph\":{\"id\":\"af0e820d-6f09-4407-bb8d-c2555c6bd06d\",\"type\":\"Circle\"},\"selection_glyph\":null,\"view\":{\"id\":\"41259384-129d-4db3-82a0-b1b713a76793\",\"type\":\"CDSView\"}},\"id\":\"6eba182a-b14f-4521-84b7-c7ea750df049\",\"type\":\"GlyphRenderer\"},{\"attributes\":{\"callback\":null,\"data\":{\"x\":{\"__ndarray__\":\"kqvVCTJORUDGAffSfaRCQKZGlip5ikFA97J5oPnxP0BpWYTf5No7QJb6Id3T/TZAiqH+Ub7KMUCmsxMqXOEpQI6YajptNyJARrXhqkqQGkBE1tPDojYVQF9iFZbmAxJAbdQs6laRDUAcdB/7HS4DQDvRX5uR5P4/y2y2qEyqBUCzBaFapEIMQOWVZ3WenBBA0YkiwEreE0DPd1h4+U4ZQAjGFy4yDCFAatAKeYICJ0D04E6UgxkoQEC/DUOxhCRAn18lXosnIUD7QoX/k1YcQPSHk447WRhAU2wxuVgsFED5P7dnUMcPQLfFhW3KOwlA6PGB1pQ7BUDr5jBtp3kAQJjeC/ImsfQ/ccSECtQK5j9hOcRca/7QP0Fi4X4oicG/Mvz69ZCS3r9DQqJOziHYv/xeZAHkLl+/BREikxhXxT+cVzL1Pa7YP+5RaEEju+w/dDqvLq269j/QmpqATNf9P0zLf2776wBASP2DFM+EAUAQ3Ba1bkcCQJG/sqCsTAJApzXVrJYWAUBCKjpTHoEAQKZl9AAuTwBAwIfEnQgvAEA51x+VNwQAQJqJEHiTnP8/aHetpUU//z+4ogNARAf/P2XvTC3CDf8/7dX/7T1C/z8V2M8r7WP/P2p2+7HrZP8/rng0HyFM/z86SWrWVvr+Pzx7O32V2P0/GLUKga3J/D8RXMwjxC/6P0jx3fnXm/c/xpmhoLTt9T/XDZf5Z370P9iagH0ExPM/ZXDy5ByV8z/xsAZwvq7zPyTMIHU1EfQ/kpsr7MoD9T+bLifMK7v2PzM/VYq/pwFA\",\"dtype\":\"float64\",\"shape\":[75]},\"y\":{\"__ndarray__\":\"S/O/Q+51ND/Sv8nbtpRIP2vylNV0PVE/aTum7souWD/At0SJ8fVgPw3Iuahxymc/MSNhhJWvcD/bTfBN02d3P2zb5nxnaoA/CD5h5MAGhz8NmeH1TyaQP+zrCsc9p5Y/LbKd76fGnz/bLW5ISEmmPww9YvTcQq8/JV2OstnstT8Er5Y7M8G+P0c+r3jqkcU/5h99k6ZBzj88bCIzFzjVP4enV8oyxN0//yH99nXg5D8qOpLLf0jtP5kqGJXUifQ/c9cS8kHP/D+/DpwzojQEQIEmwoanVwxA4lgXt9HgE0BSSZ2AJuIbQAMJih9jjiNA5q4l5INuK0AwTKYKRj0zQNv5fmq8/DpAaCJseHrtQkB/+zpwzoxKQM3MzMzMeFJAZmZmZmZqWEAAAAAAAFxeQM3MzMzMJmJAmpmZmZkfZUBmZmZmZhhoQDMzMzMzEWtAAAAAAAAKbkBmZmZmZoFwQM3MzMzM/XFAMzMzMzN6c0CamZmZmfZ0QAAAAAAAc3ZAZmZmZmbvd0DNzMzMzGt5QDMzMzMz6HpAmpmZmZlkfEAAAAAAAOF9QGZmZmZmXX9AZmZmZuZsgECamZmZGSuBQM3MzMxM6YFAAAAAAICngkAzMzMzs2WDQGZmZmbmI4RAmpmZmRnihEDNzMzMTKCFQAAAAACAXoZAMzMzM7Mch0BmZmZm5tqHQJqZmZkZmYhAzczMzExXiUAAAAAAgBWKQDMzMzOz04pAZmZmZuaRi0CamZmZGVCMQM3MzMxMDo1AAAAAAIDMjUAzMzMzs4qOQGZmZmbmSI9A\",\"dtype\":\"float64\",\"shape\":[75]}},\"selected\":{\"id\":\"6d7ae197-4ee6-4e94-b25f-6c7dfa9cc623\",\"type\":\"Selection\"},\"selection_policy\":{\"id\":\"318b385d-2ff5-45df-8ab9-38bdaff6f279\",\"type\":\"UnionRenderers\"}},\"id\":\"a7303f67-e8eb-4d8a-8a67-29b6fa53dcd3\",\"type\":\"ColumnDataSource\"},{\"attributes\":{\"label\":{\"value\":\"CLIRAD\"},\"renderers\":[{\"id\":\"8931c21a-7930-4185-a75c-22947eb8dfd5\",\"type\":\"GlyphRenderer\"}]},\"id\":\"afbc1d7e-eb4d-4942-a37d-835657b93192\",\"type\":\"LegendItem\"},{\"attributes\":{\"source\":{\"id\":\"5918c809-a197-4f88-b67f-79ad6e7bbefc\",\"type\":\"ColumnDataSource\"}},\"id\":\"9ef8f8dc-54f6-452b-a920-6e23c0b0f1e4\",\"type\":\"CDSView\"},{\"attributes\":{\"data_source\":{\"id\":\"44e74545-aca1-4476-b142-16b31a3126cb\",\"type\":\"ColumnDataSource\"},\"glyph\":{\"id\":\"c8f36d22-0367-457d-a3d9-531116f6d3f5\",\"type\":\"Line\"},\"hover_glyph\":null,\"muted_glyph\":null,\"nonselection_glyph\":{\"id\":\"7c255952-225c-4c00-a718-2a2184e847a8\",\"type\":\"Line\"},\"selection_glyph\":null,\"view\":{\"id\":\"74e98d9c-a72b-405a-b159-c6785759fd6f\",\"type\":\"CDSView\"}},\"id\":\"b957d9bd-2479-48bd-81cd-c9f95fb30e68\",\"type\":\"GlyphRenderer\"},{\"attributes\":{\"items\":[{\"id\":\"51204e07-6c7a-4414-b155-02193a454b9a\",\"type\":\"LegendItem\"},{\"id\":\"9c94892e-10bd-455d-9dfd-3b436f455aca\",\"type\":\"LegendItem\"}],\"label_text_font_size\":{\"value\":\"8pt\"},\"location\":\"top_center\",\"orientation\":\"horizontal\",\"plot\":{\"id\":\"96aa125b-0072-45c8-bc69-6a6df6d43c17\",\"subtype\":\"Figure\",\"type\":\"Plot\"}},\"id\":\"3e7811dd-dd54-4b7b-85fe-a01a5990e571\",\"type\":\"Legend\"},{\"attributes\":{},\"id\":\"5870fc15-f934-4a5b-ac04-f6a8b7843537\",\"type\":\"BasicTickFormatter\"},{\"attributes\":{},\"id\":\"73011da2-5ebd-4e11-bba9-a20daa4c389a\",\"type\":\"SaveTool\"},{\"attributes\":{},\"id\":\"6d7ae197-4ee6-4e94-b25f-6c7dfa9cc623\",\"type\":\"Selection\"},{\"attributes\":{\"active_drag\":\"auto\",\"active_inspect\":\"auto\",\"active_scroll\":\"auto\",\"active_tap\":\"auto\",\"tools\":[{\"id\":\"6f7c15b9-f86d-443a-88fe-0da41cb06646\",\"type\":\"PanTool\"},{\"id\":\"50cd814b-0532-4a9e-a298-b93a6e4f453b\",\"type\":\"WheelZoomTool\"},{\"id\":\"ecd3ba30-85f0-4aa7-af24-78ba87584d27\",\"type\":\"BoxZoomTool\"},{\"id\":\"73011da2-5ebd-4e11-bba9-a20daa4c389a\",\"type\":\"SaveTool\"},{\"id\":\"85bd42e3-b7e4-4c16-b206-fd6c360fa042\",\"type\":\"ResetTool\"},{\"id\":\"ed63d42d-eb5b-4135-b485-8bf857b2d6c2\",\"type\":\"HelpTool\"}]},\"id\":\"70c3f25f-983b-40ba-b4c5-bb81deaabec0\",\"type\":\"Toolbar\"},{\"attributes\":{\"line_alpha\":0.6,\"line_color\":\"#e41a1c\",\"line_dash\":[6],\"line_width\":5,\"x\":{\"field\":\"x\"},\"y\":{\"field\":\"y\"}},\"id\":\"c316bea9-8876-48df-aa3b-f6b4e033d02e\",\"type\":\"Line\"},{\"attributes\":{\"dimension\":1,\"plot\":{\"id\":\"96aa125b-0072-45c8-bc69-6a6df6d43c17\",\"subtype\":\"Figure\",\"type\":\"Plot\"},\"ticker\":{\"id\":\"4a0590e9-d74f-49fb-8a46-e0169a340a6b\",\"type\":\"LogTicker\"}},\"id\":\"ab95ec2f-c8be-4386-9a4c-d937ac750bea\",\"type\":\"Grid\"},{\"attributes\":{},\"id\":\"b319d563-496f-4f94-a8cb-f0afca83c370\",\"type\":\"LinearScale\"},{\"attributes\":{\"num_minor_ticks\":10},\"id\":\"4a0590e9-d74f-49fb-8a46-e0169a340a6b\",\"type\":\"LogTicker\"},{\"attributes\":{\"axis_label\":\"pressure [mb]\",\"formatter\":{\"id\":\"0965e156-c3dd-4824-b050-585770a004dc\",\"type\":\"LogTickFormatter\"},\"plot\":{\"id\":\"96aa125b-0072-45c8-bc69-6a6df6d43c17\",\"subtype\":\"Figure\",\"type\":\"Plot\"},\"ticker\":{\"id\":\"4a0590e9-d74f-49fb-8a46-e0169a340a6b\",\"type\":\"LogTicker\"}},\"id\":\"c3bc84f0-7a24-45f5-9393-f172f1660fd7\",\"type\":\"LogAxis\"},{\"attributes\":{\"data_source\":{\"id\":\"1bbb1bd1-2c01-446c-9391-c7f922af4709\",\"type\":\"ColumnDataSource\"},\"glyph\":{\"id\":\"c316bea9-8876-48df-aa3b-f6b4e033d02e\",\"type\":\"Line\"},\"hover_glyph\":null,\"muted_glyph\":null,\"nonselection_glyph\":{\"id\":\"cf954b6b-49f7-4640-acbc-89b06d65c398\",\"type\":\"Line\"},\"selection_glyph\":null,\"view\":{\"id\":\"9b352981-0e96-4100-be8f-447ab2348667\",\"type\":\"CDSView\"}},\"id\":\"8931c21a-7930-4185-a75c-22947eb8dfd5\",\"type\":\"GlyphRenderer\"},{\"attributes\":{\"callback\":null,\"data\":{\"x\":{\"__ndarray__\":\"R/KIaN7AVEClCeJMyPNGQOvRhpxr30JAptxzhxx4PkA7SssMElA4QK6Bp3CyUDNAsVXpjES9LkBFhUV0+5coQMHYwqbbySNA6f09nM3nH0CaSd/3eYoZQDmgiAOW8BNAPYqARh3eDEBkm4vCgvr+P9D+5tWhQfY/P8DwKRnSAkBq38kb17ILQDT7IWuSsxFAUr2Rjm0FFkAinq3s9XgbQGCHwtYcqSFAG64kT303J0C7dRDneyooQD9JYrbK8yRA9S3bneHhIUAIymSuUMMcQIkHLe6VEBdAAau3cITREkA6CiNvkQIPQJU39ki7IQlAaAvwok1UA0BXLQiS4+L7P0xzDpJ2hPI/NNuPGMbJ5z91mUVYxqfSPxqwUPSxZca/G11peifD3L8QzNj5t2jTvwzOozTL360/SPJ4VI1VzD9KJ0nXEIncP8yDdlvHt+4/Et49nYLW9z++2teD4Jn+P+568eH/bwFALf5D9lmAAkCiZAicVOkCQPPT4jNKxwJAOjp3wTzBAUBSQsKNGisBQG4OmjqJwQBAJ3sZoHFuAEA5Ar0Sdi0AQGy4rw5+9f8/7W4nSrC3/z8mPr8zj4T/P4UYRHCQS/8/embVKYcF/z+5YXG+LLP+P/qb8BVUgf4/KvafTtyO/j/avAK1Ppv+PwJV9VVm2P0/JFtYlU/n/D9sN+q2fiX6Pw44e41PNPc/Opt+Z/wN9T+x3vcSW1vzP9ofvWQJlvI/8sciQQBW8j80sfkQa17yPzg5qng2r/I/Oh14WJBh8z+VZjnpctj0P6CcrSuCqQBA\",\"dtype\":\"float64\",\"shape\":[75]},\"y\":{\"__ndarray__\":\"GhExyth1ND/Sv8nbtpRIP2vylNV0PVE/aTum7souWD/At0SJ8fVgPw3Iuahxymc/MSNhhJWvcD/bTfBN02d3P2zb5nxnaoA/CD5h5MAGhz8NmeH1TyaQP+zrCsc9p5Y/LbKd76fGnz/bLW5ISEmmPww9YvTcQq8/JV2OstnstT8Er5Y7M8G+P0c+r3jqkcU/5h99k6ZBzj88bCIzFzjVP4enV8oyxN0//yH99nXg5D8qOpLLf0jtP5kqGJXUifQ/c9cS8kHP/D+/DpwzojQEQIEmwoanVwxA4lgXt9HgE0BSSZ2AJuIbQAMJih9jjiNA5q4l5INuK0AwTKYKRj0zQNv5fmq8/DpAaCJseHrtQkB/+zpwzoxKQM3MzMzMeFJAZmZmZmZqWEAAAAAAAFxeQM3MzMzMJmJAmpmZmZkfZUBmZmZmZhhoQDMzMzMzEWtAAAAAAAAKbkBmZmZmZoFwQM3MzMzM/XFAMzMzMzN6c0CamZmZmfZ0QAAAAAAAc3ZAZmZmZmbvd0DNzMzMzGt5QDMzMzMz6HpAmpmZmZlkfEAAAAAAAOF9QGZmZmZmXX9AZmZmZuZsgECamZmZGSuBQM3MzMxM6YFAAAAAAICngkAzMzMzs2WDQGZmZmbmI4RAmpmZmRnihEDNzMzMTKCFQAAAAACAXoZAMzMzM7Mch0BmZmZm5tqHQJqZmZkZmYhAzczMzExXiUAAAAAAgBWKQDMzMzOz04pAZmZmZuaRi0CamZmZGVCMQM3MzMxMDo1AAAAAAIDMjUAzMzMzs4qOQGZmZmbmSI9A\",\"dtype\":\"float64\",\"shape\":[75]}},\"selected\":{\"id\":\"21a35325-c4e4-47e8-a190-38b50f8585d5\",\"type\":\"Selection\"},\"selection_policy\":{\"id\":\"37bd9a0c-100c-4dea-a048-e4be7db8bf7a\",\"type\":\"UnionRenderers\"}},\"id\":\"44e74545-aca1-4476-b142-16b31a3126cb\",\"type\":\"ColumnDataSource\"},{\"attributes\":{\"source\":{\"id\":\"a7303f67-e8eb-4d8a-8a67-29b6fa53dcd3\",\"type\":\"ColumnDataSource\"}},\"id\":\"f52e625f-b717-4480-8e30-6c120f8e4c37\",\"type\":\"CDSView\"},{\"attributes\":{\"ticker\":null},\"id\":\"1da82b57-d87b-411d-89d9-40675c06e1d2\",\"type\":\"LogTickFormatter\"},{\"attributes\":{\"toolbar\":{\"id\":\"5856c0ee-df2f-469d-b7b4-254caa6a1979\",\"type\":\"ProxyToolbar\"},\"toolbar_location\":\"above\"},\"id\":\"f8a7ac9a-64a7-4212-929b-ef4714410d3b\",\"type\":\"ToolbarBox\"},{\"attributes\":{\"callback\":null,\"end\":0.01,\"start\":1020},\"id\":\"20b3e362-2ca4-4be2-8795-33a5aff8b5cc\",\"type\":\"Range1d\"},{\"attributes\":{\"callback\":null,\"data\":{\"x\":{\"__ndarray__\":\"R/KIaN7AVEClCeJMyPNGQOvRhpxr30JAptxzhxx4PkA7SssMElA4QK6Bp3CyUDNAsVXpjES9LkBFhUV0+5coQMHYwqbbySNA6f09nM3nH0CaSd/3eYoZQDmgiAOW8BNAPYqARh3eDEBkm4vCgvr+P9D+5tWhQfY/P8DwKRnSAkBq38kb17ILQDT7IWuSsxFAUr2Rjm0FFkAinq3s9XgbQGCHwtYcqSFAG64kT303J0C7dRDneyooQD9JYrbK8yRA9S3bneHhIUAIymSuUMMcQIkHLe6VEBdAAau3cITREkA6CiNvkQIPQJU39ki7IQlAaAvwok1UA0BXLQiS4+L7P0xzDpJ2hPI/NNuPGMbJ5z91mUVYxqfSPxqwUPSxZca/G11peifD3L8QzNj5t2jTvwzOozTL360/SPJ4VI1VzD9KJ0nXEIncP8yDdlvHt+4/Et49nYLW9z++2teD4Jn+P+568eH/bwFALf5D9lmAAkCiZAicVOkCQPPT4jNKxwJAOjp3wTzBAUBSQsKNGisBQG4OmjqJwQBAJ3sZoHFuAEA5Ar0Sdi0AQGy4rw5+9f8/7W4nSrC3/z8mPr8zj4T/P4UYRHCQS/8/embVKYcF/z+5YXG+LLP+P/qb8BVUgf4/KvafTtyO/j/avAK1Ppv+PwJV9VVm2P0/JFtYlU/n/D9sN+q2fiX6Pw44e41PNPc/Opt+Z/wN9T+x3vcSW1vzP9ofvWQJlvI/8sciQQBW8j80sfkQa17yPzg5qng2r/I/Oh14WJBh8z+VZjnpctj0P6CcrSuCqQBA\",\"dtype\":\"float64\",\"shape\":[75]},\"y\":{\"__ndarray__\":\"GhExyth1ND/Sv8nbtpRIP2vylNV0PVE/aTum7souWD/At0SJ8fVgPw3Iuahxymc/MSNhhJWvcD/bTfBN02d3P2zb5nxnaoA/CD5h5MAGhz8NmeH1TyaQP+zrCsc9p5Y/LbKd76fGnz/bLW5ISEmmPww9YvTcQq8/JV2OstnstT8Er5Y7M8G+P0c+r3jqkcU/5h99k6ZBzj88bCIzFzjVP4enV8oyxN0//yH99nXg5D8qOpLLf0jtP5kqGJXUifQ/c9cS8kHP/D+/DpwzojQEQIEmwoanVwxA4lgXt9HgE0BSSZ2AJuIbQAMJih9jjiNA5q4l5INuK0AwTKYKRj0zQNv5fmq8/DpAaCJseHrtQkB/+zpwzoxKQM3MzMzMeFJAZmZmZmZqWEAAAAAAAFxeQM3MzMzMJmJAmpmZmZkfZUBmZmZmZhhoQDMzMzMzEWtAAAAAAAAKbkBmZmZmZoFwQM3MzMzM/XFAMzMzMzN6c0CamZmZmfZ0QAAAAAAAc3ZAZmZmZmbvd0DNzMzMzGt5QDMzMzMz6HpAmpmZmZlkfEAAAAAAAOF9QGZmZmZmXX9AZmZmZuZsgECamZmZGSuBQM3MzMxM6YFAAAAAAICngkAzMzMzs2WDQGZmZmbmI4RAmpmZmRnihEDNzMzMTKCFQAAAAACAXoZAMzMzM7Mch0BmZmZm5tqHQJqZmZkZmYhAzczMzExXiUAAAAAAgBWKQDMzMzOz04pAZmZmZuaRi0CamZmZGVCMQM3MzMxMDo1AAAAAAIDMjUAzMzMzs4qOQGZmZmbmSI9A\",\"dtype\":\"float64\",\"shape\":[75]}},\"selected\":{\"id\":\"4c0d318f-77e7-4a06-aa35-fbdfcfa0a3a6\",\"type\":\"Selection\"},\"selection_policy\":{\"id\":\"4ffbb52a-b79c-46f4-9b83-51b8851c0306\",\"type\":\"UnionRenderers\"}},\"id\":\"5918c809-a197-4f88-b67f-79ad6e7bbefc\",\"type\":\"ColumnDataSource\"},{\"attributes\":{},\"id\":\"33bbc105-ea13-4bf3-a5ec-d6cfa8990eff\",\"type\":\"UnionRenderers\"},{\"attributes\":{\"children\":[{\"id\":\"f8a7ac9a-64a7-4212-929b-ef4714410d3b\",\"type\":\"ToolbarBox\"},{\"id\":\"6b373055-70c2-4da9-95ea-d0fe932ed549\",\"type\":\"Column\"}]},\"id\":\"ec007fe5-e8d7-4911-b198-a2422f16312a\",\"type\":\"Column\"},{\"attributes\":{},\"id\":\"434dbfd4-ae8d-42eb-b42f-0e0c32e2864b\",\"type\":\"UnionRenderers\"},{\"attributes\":{\"label\":{\"value\":\"CRD\"},\"renderers\":[{\"id\":\"6eba182a-b14f-4521-84b7-c7ea750df049\",\"type\":\"GlyphRenderer\"},{\"id\":\"05d75a6d-296b-49f3-af0c-0c1768de57a8\",\"type\":\"GlyphRenderer\"}]},\"id\":\"88dff541-9c0a-42cb-b97c-09a4da43cc1d\",\"type\":\"LegendItem\"},{\"attributes\":{},\"id\":\"50cd814b-0532-4a9e-a298-b93a6e4f453b\",\"type\":\"WheelZoomTool\"},{\"attributes\":{\"active_drag\":\"auto\",\"active_inspect\":\"auto\",\"active_scroll\":\"auto\",\"active_tap\":\"auto\",\"tools\":[{\"id\":\"45760a7d-b0f4-43f7-8b81-5eb0a762183b\",\"type\":\"PanTool\"},{\"id\":\"004c2088-88d8-45af-8539-cc2929bfd09c\",\"type\":\"WheelZoomTool\"},{\"id\":\"90d5fcb8-d462-4cc4-ad41-24ee3fd5b8ea\",\"type\":\"BoxZoomTool\"},{\"id\":\"b04269cb-c853-4928-beeb-16f8ab689007\",\"type\":\"SaveTool\"},{\"id\":\"8239663a-0a29-4cb4-b26a-198be8c8759d\",\"type\":\"ResetTool\"},{\"id\":\"cbfbf47b-e450-4c2f-ba90-e9e87466c277\",\"type\":\"HelpTool\"}]},\"id\":\"a104eef6-c18f-4f2a-b01e-84dd943767b5\",\"type\":\"Toolbar\"},{\"attributes\":{},\"id\":\"60625464-486a-4526-bf1d-7a0a54ff7978\",\"type\":\"Selection\"},{\"attributes\":{},\"id\":\"85bd42e3-b7e4-4c16-b206-fd6c360fa042\",\"type\":\"ResetTool\"},{\"attributes\":{\"overlay\":{\"id\":\"d1f2d863-1a73-444a-bb66-3a48d55b1e2b\",\"type\":\"BoxAnnotation\"}},\"id\":\"ecd3ba30-85f0-4aa7-af24-78ba87584d27\",\"type\":\"BoxZoomTool\"},{\"attributes\":{\"plot\":null,\"text\":\"\"},\"id\":\"793839c4-a105-445e-9033-139e3a34a3c6\",\"type\":\"Title\"},{\"attributes\":{\"fill_alpha\":{\"value\":0.7},\"fill_color\":{\"value\":\"#4daf4a\"},\"line_alpha\":{\"value\":0.7},\"line_color\":{\"value\":\"#4daf4a\"},\"x\":{\"field\":\"x\"},\"y\":{\"field\":\"y\"}},\"id\":\"873e8682-72e8-48ce-b05b-837bac5f3a99\",\"type\":\"Circle\"},{\"attributes\":{\"callback\":null,\"end\":0.01,\"start\":1020},\"id\":\"d467600c-5dd6-4cdb-84e7-f0d9d4735fee\",\"type\":\"Range1d\"},{\"attributes\":{},\"id\":\"5dcf3537-ceae-4800-adfc-cb5b9776adc2\",\"type\":\"Selection\"},{\"attributes\":{},\"id\":\"4a381664-aa4b-42ef-948f-b102d1cb1f81\",\"type\":\"UnionRenderers\"},{\"attributes\":{\"above\":[{\"id\":\"0703b9bd-d8c1-4f2c-b292-d2a0efa983a6\",\"type\":\"Legend\"}],\"below\":[{\"id\":\"65be34ec-7c92-4384-8d46-86118e9641b5\",\"type\":\"LinearAxis\"}],\"left\":[{\"id\":\"db9cdbb6-ee0a-4464-9f47-2c65a04f63cb\",\"type\":\"LinearAxis\"}],\"plot_width\":300,\"renderers\":[{\"id\":\"65be34ec-7c92-4384-8d46-86118e9641b5\",\"type\":\"LinearAxis\"},{\"id\":\"d11e335c-96fa-4939-ab6b-2f1e6332b3e2\",\"type\":\"Grid\"},{\"id\":\"db9cdbb6-ee0a-4464-9f47-2c65a04f63cb\",\"type\":\"LinearAxis\"},{\"id\":\"8b21ec43-5e4d-4817-b764-52bc96eb6918\",\"type\":\"Grid\"},{\"id\":\"b2d2078a-4ebf-46fd-8182-406493136e88\",\"type\":\"BoxAnnotation\"},{\"id\":\"8931c21a-7930-4185-a75c-22947eb8dfd5\",\"type\":\"GlyphRenderer\"},{\"id\":\"6eba182a-b14f-4521-84b7-c7ea750df049\",\"type\":\"GlyphRenderer\"},{\"id\":\"05d75a6d-296b-49f3-af0c-0c1768de57a8\",\"type\":\"GlyphRenderer\"},{\"id\":\"0703b9bd-d8c1-4f2c-b292-d2a0efa983a6\",\"type\":\"Legend\"}],\"title\":{\"id\":\"9b68bbdb-bc8d-47cd-8b52-a2681a63490f\",\"type\":\"Title\"},\"toolbar\":{\"id\":\"f58b967f-eaa0-4f7e-8ecf-2abe94c64b20\",\"type\":\"Toolbar\"},\"toolbar_location\":null,\"x_range\":{\"id\":\"e70ade4d-a75b-4907-9751-de52edc89b22\",\"type\":\"Range1d\"},\"x_scale\":{\"id\":\"8cddb8e8-ec8b-4a0f-b090-1de3996d1dd5\",\"type\":\"LinearScale\"},\"y_range\":{\"id\":\"d467600c-5dd6-4cdb-84e7-f0d9d4735fee\",\"type\":\"Range1d\"},\"y_scale\":{\"id\":\"1a39e6cd-3ed3-4912-945b-53ad390ac108\",\"type\":\"LinearScale\"}},\"id\":\"ac963a01-691c-467c-b495-9d1350eb3ece\",\"subtype\":\"Figure\",\"type\":\"Plot\"},{\"attributes\":{\"label\":{\"value\":\"CRD\"},\"renderers\":[{\"id\":\"1385d8fc-3dff-4cc8-b3ea-784c7b575dbb\",\"type\":\"GlyphRenderer\"},{\"id\":\"b957d9bd-2479-48bd-81cd-c9f95fb30e68\",\"type\":\"GlyphRenderer\"}]},\"id\":\"9c94892e-10bd-455d-9dfd-3b436f455aca\",\"type\":\"LegendItem\"},{\"attributes\":{\"fill_alpha\":{\"value\":0.1},\"fill_color\":{\"value\":\"#1f77b4\"},\"line_alpha\":{\"value\":0.1},\"line_color\":{\"value\":\"#1f77b4\"},\"x\":{\"field\":\"x\"},\"y\":{\"field\":\"y\"}},\"id\":\"954812e4-9f07-4989-9aaa-71a84d177f5d\",\"type\":\"Circle\"},{\"attributes\":{\"plot\":{\"id\":\"96aa125b-0072-45c8-bc69-6a6df6d43c17\",\"subtype\":\"Figure\",\"type\":\"Plot\"},\"ticker\":{\"id\":\"7b12c195-4b55-48ff-ad5f-2e6650c65b73\",\"type\":\"BasicTicker\"}},\"id\":\"4e276ecc-7bbf-4451-8203-190470d5f563\",\"type\":\"Grid\"},{\"attributes\":{},\"id\":\"0c6b153e-432a-48b7-bc23-1adb9339c5ed\",\"type\":\"LogScale\"},{\"attributes\":{\"label\":{\"value\":\"CLIRAD\"},\"renderers\":[{\"id\":\"4d43f2ac-e159-43a7-9928-dee1c0265cd2\",\"type\":\"GlyphRenderer\"}]},\"id\":\"51204e07-6c7a-4414-b155-02193a454b9a\",\"type\":\"LegendItem\"},{\"attributes\":{\"source\":{\"id\":\"44e74545-aca1-4476-b142-16b31a3126cb\",\"type\":\"ColumnDataSource\"}},\"id\":\"74e98d9c-a72b-405a-b159-c6785759fd6f\",\"type\":\"CDSView\"},{\"attributes\":{\"callback\":null,\"data\":{\"x\":{\"__ndarray__\":\"R/KIaN7AVEClCeJMyPNGQOvRhpxr30JAptxzhxx4PkA7SssMElA4QK6Bp3CyUDNAsVXpjES9LkBFhUV0+5coQMHYwqbbySNA6f09nM3nH0CaSd/3eYoZQDmgiAOW8BNAPYqARh3eDEBkm4vCgvr+P9D+5tWhQfY/P8DwKRnSAkBq38kb17ILQDT7IWuSsxFAUr2Rjm0FFkAinq3s9XgbQGCHwtYcqSFAG64kT303J0C7dRDneyooQD9JYrbK8yRA9S3bneHhIUAIymSuUMMcQIkHLe6VEBdAAau3cITREkA6CiNvkQIPQJU39ki7IQlAaAvwok1UA0BXLQiS4+L7P0xzDpJ2hPI/NNuPGMbJ5z91mUVYxqfSPxqwUPSxZca/G11peifD3L8QzNj5t2jTvwzOozTL360/SPJ4VI1VzD9KJ0nXEIncP8yDdlvHt+4/Et49nYLW9z++2teD4Jn+P+568eH/bwFALf5D9lmAAkCiZAicVOkCQPPT4jNKxwJAOjp3wTzBAUBSQsKNGisBQG4OmjqJwQBAJ3sZoHFuAEA5Ar0Sdi0AQGy4rw5+9f8/7W4nSrC3/z8mPr8zj4T/P4UYRHCQS/8/embVKYcF/z+5YXG+LLP+P/qb8BVUgf4/KvafTtyO/j/avAK1Ppv+PwJV9VVm2P0/JFtYlU/n/D9sN+q2fiX6Pw44e41PNPc/Opt+Z/wN9T+x3vcSW1vzP9ofvWQJlvI/8sciQQBW8j80sfkQa17yPzg5qng2r/I/Oh14WJBh8z+VZjnpctj0P6CcrSuCqQBA\",\"dtype\":\"float64\",\"shape\":[75]},\"y\":{\"__ndarray__\":\"GhExyth1ND/Sv8nbtpRIP2vylNV0PVE/aTum7souWD/At0SJ8fVgPw3Iuahxymc/MSNhhJWvcD/bTfBN02d3P2zb5nxnaoA/CD5h5MAGhz8NmeH1TyaQP+zrCsc9p5Y/LbKd76fGnz/bLW5ISEmmPww9YvTcQq8/JV2OstnstT8Er5Y7M8G+P0c+r3jqkcU/5h99k6ZBzj88bCIzFzjVP4enV8oyxN0//yH99nXg5D8qOpLLf0jtP5kqGJXUifQ/c9cS8kHP/D+/DpwzojQEQIEmwoanVwxA4lgXt9HgE0BSSZ2AJuIbQAMJih9jjiNA5q4l5INuK0AwTKYKRj0zQNv5fmq8/DpAaCJseHrtQkB/+zpwzoxKQM3MzMzMeFJAZmZmZmZqWEAAAAAAAFxeQM3MzMzMJmJAmpmZmZkfZUBmZmZmZhhoQDMzMzMzEWtAAAAAAAAKbkBmZmZmZoFwQM3MzMzM/XFAMzMzMzN6c0CamZmZmfZ0QAAAAAAAc3ZAZmZmZmbvd0DNzMzMzGt5QDMzMzMz6HpAmpmZmZlkfEAAAAAAAOF9QGZmZmZmXX9AZmZmZuZsgECamZmZGSuBQM3MzMxM6YFAAAAAAICngkAzMzMzs2WDQGZmZmbmI4RAmpmZmRnihEDNzMzMTKCFQAAAAACAXoZAMzMzM7Mch0BmZmZm5tqHQJqZmZkZmYhAzczMzExXiUAAAAAAgBWKQDMzMzOz04pAZmZmZuaRi0CamZmZGVCMQM3MzMxMDo1AAAAAAIDMjUAzMzMzs4qOQGZmZmbmSI9A\",\"dtype\":\"float64\",\"shape\":[75]}},\"selected\":{\"id\":\"5dcf3537-ceae-4800-adfc-cb5b9776adc2\",\"type\":\"Selection\"},\"selection_policy\":{\"id\":\"434dbfd4-ae8d-42eb-b42f-0e0c32e2864b\",\"type\":\"UnionRenderers\"}},\"id\":\"d0932962-dfcd-4fb6-ac25-f7699d8eae55\",\"type\":\"ColumnDataSource\"},{\"attributes\":{},\"id\":\"318b385d-2ff5-45df-8ab9-38bdaff6f279\",\"type\":\"UnionRenderers\"},{\"attributes\":{\"data_source\":{\"id\":\"a7303f67-e8eb-4d8a-8a67-29b6fa53dcd3\",\"type\":\"ColumnDataSource\"},\"glyph\":{\"id\":\"bd0ff8e4-782b-44e3-b6ca-deb76a5b7654\",\"type\":\"Line\"},\"hover_glyph\":null,\"muted_glyph\":null,\"nonselection_glyph\":{\"id\":\"0fa38f3c-881c-448f-b7b1-a0367a9c1e65\",\"type\":\"Line\"},\"selection_glyph\":null,\"view\":{\"id\":\"f52e625f-b717-4480-8e30-6c120f8e4c37\",\"type\":\"CDSView\"}},\"id\":\"4d43f2ac-e159-43a7-9928-dee1c0265cd2\",\"type\":\"GlyphRenderer\"},{\"attributes\":{\"line_alpha\":0.6,\"line_color\":\"#e41a1c\",\"line_dash\":[6],\"line_width\":5,\"x\":{\"field\":\"x\"},\"y\":{\"field\":\"y\"}},\"id\":\"bd0ff8e4-782b-44e3-b6ca-deb76a5b7654\",\"type\":\"Line\"},{\"attributes\":{\"line_color\":\"#4daf4a\",\"line_width\":1.5,\"x\":{\"field\":\"x\"},\"y\":{\"field\":\"y\"}},\"id\":\"72d8f471-4dd7-4cd2-9b03-711877bc554d\",\"type\":\"Line\"},{\"attributes\":{\"data_source\":{\"id\":\"d0932962-dfcd-4fb6-ac25-f7699d8eae55\",\"type\":\"ColumnDataSource\"},\"glyph\":{\"id\":\"72d8f471-4dd7-4cd2-9b03-711877bc554d\",\"type\":\"Line\"},\"hover_glyph\":null,\"muted_glyph\":null,\"nonselection_glyph\":{\"id\":\"3f58f266-6fc7-47cf-a325-9e8f048dee2c\",\"type\":\"Line\"},\"selection_glyph\":null,\"view\":{\"id\":\"13241902-edac-433a-8dd0-c6fffaba65f9\",\"type\":\"CDSView\"}},\"id\":\"05d75a6d-296b-49f3-af0c-0c1768de57a8\",\"type\":\"GlyphRenderer\"},{\"attributes\":{\"above\":[{\"id\":\"fb260e59-5dcd-4660-8cf8-da7631a88c6e\",\"type\":\"Legend\"}],\"below\":[{\"id\":\"4b60d2fd-4530-4613-a7bb-119633efac8a\",\"type\":\"LinearAxis\"}],\"left\":[{\"id\":\"57fa8dad-46ac-4563-98ea-547f6be646ee\",\"type\":\"LogAxis\"}],\"plot_width\":300,\"renderers\":[{\"id\":\"4b60d2fd-4530-4613-a7bb-119633efac8a\",\"type\":\"LinearAxis\"},{\"id\":\"8afacdb8-eb11-4325-905e-b86fcb3f0f9f\",\"type\":\"Grid\"},{\"id\":\"57fa8dad-46ac-4563-98ea-547f6be646ee\",\"type\":\"LogAxis\"},{\"id\":\"13e7163e-0658-46a1-929b-8fd41f3ba321\",\"type\":\"Grid\"},{\"id\":\"aa438549-aec1-4714-aab0-f8f040460128\",\"type\":\"BoxAnnotation\"},{\"id\":\"2a85b4d2-e3cc-4669-abb8-893119163284\",\"type\":\"GlyphRenderer\"},{\"id\":\"23fff403-1b1b-4c65-8d5a-983b3b1e3bfb\",\"type\":\"GlyphRenderer\"},{\"id\":\"fb260e59-5dcd-4660-8cf8-da7631a88c6e\",\"type\":\"Legend\"}],\"title\":{\"id\":\"fcaa41e2-c968-4413-a37e-9dc3cdd199c7\",\"type\":\"Title\"},\"toolbar\":{\"id\":\"a104eef6-c18f-4f2a-b01e-84dd943767b5\",\"type\":\"Toolbar\"},\"toolbar_location\":null,\"x_range\":{\"id\":\"277facaa-4601-4ffd-9940-38a575057686\",\"type\":\"Range1d\"},\"x_scale\":{\"id\":\"e6d9e9e8-4643-477f-ba72-3d7bc8eb794c\",\"type\":\"LinearScale\"},\"y_range\":{\"id\":\"9a637693-355c-4d57-9e17-844a1f96bb70\",\"type\":\"Range1d\"},\"y_scale\":{\"id\":\"15146828-c9df-41b1-82de-5a7c8a8feaed\",\"type\":\"LogScale\"}},\"id\":\"5ca56a38-2aba-412b-9477-115fedae692d\",\"subtype\":\"Figure\",\"type\":\"Plot\"},{\"attributes\":{\"line_alpha\":0.1,\"line_color\":\"#1f77b4\",\"line_dash\":[6],\"line_width\":5,\"x\":{\"field\":\"x\"},\"y\":{\"field\":\"y\"}},\"id\":\"0fa38f3c-881c-448f-b7b1-a0367a9c1e65\",\"type\":\"Line\"},{\"attributes\":{\"active_drag\":\"auto\",\"active_inspect\":\"auto\",\"active_scroll\":\"auto\",\"active_tap\":\"auto\",\"tools\":[{\"id\":\"8ff140e6-5b53-4f63-ad13-9e9cb299972a\",\"type\":\"PanTool\"},{\"id\":\"72845bd3-2a19-40e1-8770-50dba5592097\",\"type\":\"WheelZoomTool\"},{\"id\":\"43262697-c87a-4f2d-9a5c-333098f47a88\",\"type\":\"BoxZoomTool\"},{\"id\":\"baeb7b9f-2bf1-4d69-bf86-95f75c3ccde6\",\"type\":\"SaveTool\"},{\"id\":\"029b887a-8e60-44ac-ac4a-1ff0f023a483\",\"type\":\"ResetTool\"},{\"id\":\"fc064bd1-db32-44ca-9e80-87d6c4a8ebe7\",\"type\":\"HelpTool\"}]},\"id\":\"f58b967f-eaa0-4f7e-8ecf-2abe94c64b20\",\"type\":\"Toolbar\"},{\"attributes\":{\"line_alpha\":0.1,\"line_color\":\"#1f77b4\",\"line_width\":1.5,\"x\":{\"field\":\"x\"},\"y\":{\"field\":\"y\"}},\"id\":\"3f58f266-6fc7-47cf-a325-9e8f048dee2c\",\"type\":\"Line\"},{\"attributes\":{},\"id\":\"8239663a-0a29-4cb4-b26a-198be8c8759d\",\"type\":\"ResetTool\"},{\"attributes\":{\"bottom_units\":\"screen\",\"fill_alpha\":{\"value\":0.5},\"fill_color\":{\"value\":\"lightgrey\"},\"left_units\":\"screen\",\"level\":\"overlay\",\"line_alpha\":{\"value\":1.0},\"line_color\":{\"value\":\"black\"},\"line_dash\":[4,4],\"line_width\":{\"value\":2},\"plot\":null,\"render_mode\":\"css\",\"right_units\":\"screen\",\"top_units\":\"screen\"},\"id\":\"aa438549-aec1-4714-aab0-f8f040460128\",\"type\":\"BoxAnnotation\"},{\"attributes\":{\"line_alpha\":0.8,\"line_color\":\"#984ea3\",\"line_width\":1.5,\"x\":{\"field\":\"x\"},\"y\":{\"field\":\"y\"}},\"id\":\"67ae9109-17d2-4fdf-a692-e4dd795bdb62\",\"type\":\"Line\"},{\"attributes\":{},\"id\":\"45760a7d-b0f4-43f7-8b81-5eb0a762183b\",\"type\":\"PanTool\"},{\"attributes\":{},\"id\":\"2e9db4a1-b82b-493b-9745-cfe2db08607d\",\"type\":\"BasicTickFormatter\"},{\"attributes\":{},\"id\":\"d20664f2-ee52-481b-9bd7-8555e15529cb\",\"type\":\"UnionRenderers\"},{\"attributes\":{\"children\":[{\"id\":\"ac963a01-691c-467c-b495-9d1350eb3ece\",\"subtype\":\"Figure\",\"type\":\"Plot\"},{\"id\":\"96aa125b-0072-45c8-bc69-6a6df6d43c17\",\"subtype\":\"Figure\",\"type\":\"Plot\"},{\"id\":\"5ca56a38-2aba-412b-9477-115fedae692d\",\"subtype\":\"Figure\",\"type\":\"Plot\"}]},\"id\":\"950d7226-863d-47d1-a8ef-94f72824bc73\",\"type\":\"Row\"},{\"attributes\":{},\"id\":\"cbfbf47b-e450-4c2f-ba90-e9e87466c277\",\"type\":\"HelpTool\"},{\"attributes\":{},\"id\":\"004c2088-88d8-45af-8539-cc2929bfd09c\",\"type\":\"WheelZoomTool\"},{\"attributes\":{\"source\":{\"id\":\"41748083-66be-4e74-ab62-3af213847073\",\"type\":\"ColumnDataSource\"}},\"id\":\"50b64ed7-6357-4ae1-8aa5-74f852476e13\",\"type\":\"CDSView\"},{\"attributes\":{\"callback\":null,\"data\":{\"x\":{\"__ndarray__\":\"eh+s5yk9IcA/tAgfJ08FwPlkXZDRnfc/bXnIlZZWDEA+x9NjC2kNQIC1T1zgYANAIubiXAuW5D87A4TF5ibpv48iccULXvW/V80t0FxP8b+03TPX9srev9xFiXU0Z7Y/SjPNzuSG3T/QpPGK30XhP2NkLfabwdY/RMnk2qf5sT/+VKZbP2/RvxuceXMWOeG/lTKpouNP4b/6KlgVVZ3Tv1TY7gxrfbq/ZseUwVL4oL9kgCLVXMbLv7DKufbHSte/18Lhtysvu7+3BmgGWorUPwMVnIdErdU/+reGEt+XuD+6Io6PJA+KP/BnHjlzdM4/84FmIa1B1D9sWuv/gmXBP15sseAg76u/MAEWuK+Vmr9eN73VJXKjP2LxGbmX9py/z9glU1nksr8B8a5UQtmuvw2FWwXT+au/an22EJfWrr/hHeOgQcqvv+Q56uhWvbG/5P2nZ4BSqL9K9DVujoCwv6kcADhccb+/DxIx3rw8tL9AGAXMZKeuv5OSQJTCVLW/BQIDUYc/tb/1MWppzpasv42zeSqBtJ+/IYGVzj6flL+itMunpTqWv37hfR6pGp6/eNvm7rxSn7+8j5R7IeeOv265NxViW44/W8vOqw0Ypj8gTluB83KsP2ZQkBKaqKc/uBfjWQjGlz8Amh0To5MHP4AMpk0Uon2/cEhJxNmKZD9cTq4YG+KZP2zRXyQH96s/WfLyac4wsj/qrzeMsd+yP0OH+jzK8bM/yvvP8DUFtT/ELmnH7x+2P33lNzupI7o/WoDcLo4rvj9qUvTUq8e/Pw==\",\"dtype\":\"float64\",\"shape\":[74]},\"y\":{\"__ndarray__\":\"0r/J27aUSD9r8pTVdD1RP2k7pu7KLlg/wLdEifH1YD8NyLmoccpnPzEjYYSVr3A/203wTdNndz9s2+Z8Z2qAPwg+YeTABoc/DZnh9U8mkD/s6wrHPaeWPy2yne+nxp8/2y1uSEhJpj8MPWL03EKvPyVdjrLZ7LU/BK+WOzPBvj9HPq946pHFP+YffZOmQc4/PGwiMxc41T+Hp1fKMsTdP/8h/fZ14OQ/KjqSy39I7T+ZKhiV1In0P3PXEvJBz/w/vw6cM6I0BECBJsKGp1cMQOJYF7fR4BNAUkmdgCbiG0ADCYofY44jQOauJeSDbitAMEymCkY9M0Db+X5qvPw6QGgibHh67UJAf/s6cM6MSkDNzMzMzHhSQGZmZmZmalhAAAAAAABcXkDNzMzMzCZiQJqZmZmZH2VAZmZmZmYYaEAzMzMzMxFrQAAAAAAACm5AZmZmZmaBcEDNzMzMzP1xQDMzMzMzenNAmpmZmZn2dEAAAAAAAHN2QGZmZmZm73dAzczMzMxreUAzMzMzM+h6QJqZmZmZZHxAAAAAAADhfUBmZmZmZl1/QGZmZmbmbIBAmpmZmRkrgUDNzMzMTOmBQAAAAACAp4JAMzMzM7Nlg0BmZmZm5iOEQJqZmZkZ4oRAzczMzEyghUAAAAAAgF6GQDMzMzOzHIdAZmZmZubah0CamZmZGZmIQM3MzMxMV4lAAAAAAIAVikAzMzMzs9OKQGZmZmbmkYtAmpmZmRlQjEDNzMzMTA6NQAAAAACAzI1AMzMzM7OKjkBmZmZm5kiPQA==\",\"dtype\":\"float64\",\"shape\":[74]}},\"selected\":{\"id\":\"8076a09e-68a1-476a-8114-5653e5577210\",\"type\":\"Selection\"},\"selection_policy\":{\"id\":\"33bbc105-ea13-4bf3-a5ec-d6cfa8990eff\",\"type\":\"UnionRenderers\"}},\"id\":\"d192b711-de6b-4be0-ba9b-d9a25d42c5f6\",\"type\":\"ColumnDataSource\"},{\"attributes\":{\"data_source\":{\"id\":\"d192b711-de6b-4be0-ba9b-d9a25d42c5f6\",\"type\":\"ColumnDataSource\"},\"glyph\":{\"id\":\"67ae9109-17d2-4fdf-a692-e4dd795bdb62\",\"type\":\"Line\"},\"hover_glyph\":null,\"muted_glyph\":null,\"nonselection_glyph\":{\"id\":\"bdd0a8b4-8297-472c-9a9c-b0f3dbc9bf0c\",\"type\":\"Line\"},\"selection_glyph\":null,\"view\":{\"id\":\"72b2da1f-d82a-4092-967d-b09dfa4ee4e5\",\"type\":\"CDSView\"}},\"id\":\"23fff403-1b1b-4c65-8d5a-983b3b1e3bfb\",\"type\":\"GlyphRenderer\"},{\"attributes\":{},\"id\":\"b04269cb-c853-4928-beeb-16f8ab689007\",\"type\":\"SaveTool\"},{\"attributes\":{},\"id\":\"ed63d42d-eb5b-4135-b485-8bf857b2d6c2\",\"type\":\"HelpTool\"},{\"attributes\":{},\"id\":\"ca050d98-f363-450b-afea-fffaa903b286\",\"type\":\"BasicTickFormatter\"},{\"attributes\":{\"source\":{\"id\":\"d192b711-de6b-4be0-ba9b-d9a25d42c5f6\",\"type\":\"ColumnDataSource\"}},\"id\":\"72b2da1f-d82a-4092-967d-b09dfa4ee4e5\",\"type\":\"CDSView\"},{\"attributes\":{\"overlay\":{\"id\":\"aa438549-aec1-4714-aab0-f8f040460128\",\"type\":\"BoxAnnotation\"}},\"id\":\"90d5fcb8-d462-4cc4-ad41-24ee3fd5b8ea\",\"type\":\"BoxZoomTool\"},{\"attributes\":{\"bottom_units\":\"screen\",\"fill_alpha\":{\"value\":0.5},\"fill_color\":{\"value\":\"lightgrey\"},\"left_units\":\"screen\",\"level\":\"overlay\",\"line_alpha\":{\"value\":1.0},\"line_color\":{\"value\":\"black\"},\"line_dash\":[4,4],\"line_width\":{\"value\":2},\"plot\":null,\"render_mode\":\"css\",\"right_units\":\"screen\",\"top_units\":\"screen\"},\"id\":\"d1f2d863-1a73-444a-bb66-3a48d55b1e2b\",\"type\":\"BoxAnnotation\"},{\"attributes\":{\"fill_alpha\":{\"value\":0.1},\"fill_color\":{\"value\":\"#1f77b4\"},\"line_alpha\":{\"value\":0.1},\"line_color\":{\"value\":\"#1f77b4\"},\"x\":{\"field\":\"x\"},\"y\":{\"field\":\"y\"}},\"id\":\"0dc58554-3bf7-4db0-b555-ea8d7a29ae2c\",\"type\":\"Circle\"},{\"attributes\":{\"children\":[{\"id\":\"950d7226-863d-47d1-a8ef-94f72824bc73\",\"type\":\"Row\"}]},\"id\":\"6b373055-70c2-4da9-95ea-d0fe932ed549\",\"type\":\"Column\"},{\"attributes\":{},\"id\":\"5d72759d-3bf5-4ca3-9631-76278b72abd3\",\"type\":\"Selection\"},{\"attributes\":{\"line_alpha\":0.1,\"line_color\":\"#1f77b4\",\"line_width\":1.5,\"x\":{\"field\":\"x\"},\"y\":{\"field\":\"y\"}},\"id\":\"bdd0a8b4-8297-472c-9a9c-b0f3dbc9bf0c\",\"type\":\"Line\"},{\"attributes\":{\"fill_alpha\":{\"value\":0.7},\"fill_color\":{\"value\":\"#984ea3\"},\"line_alpha\":{\"value\":0.7},\"line_color\":{\"value\":\"#984ea3\"},\"x\":{\"field\":\"x\"},\"y\":{\"field\":\"y\"}},\"id\":\"cbd1a510-6dcf-4e61-99bf-ae44f14fa021\",\"type\":\"Circle\"},{\"attributes\":{\"data_source\":{\"id\":\"41748083-66be-4e74-ab62-3af213847073\",\"type\":\"ColumnDataSource\"},\"glyph\":{\"id\":\"cbd1a510-6dcf-4e61-99bf-ae44f14fa021\",\"type\":\"Circle\"},\"hover_glyph\":null,\"muted_glyph\":null,\"nonselection_glyph\":{\"id\":\"0dc58554-3bf7-4db0-b555-ea8d7a29ae2c\",\"type\":\"Circle\"},\"selection_glyph\":null,\"view\":{\"id\":\"50b64ed7-6357-4ae1-8aa5-74f852476e13\",\"type\":\"CDSView\"}},\"id\":\"2a85b4d2-e3cc-4669-abb8-893119163284\",\"type\":\"GlyphRenderer\"},{\"attributes\":{\"label\":{\"value\":\"CLIRAD - CRD\"},\"renderers\":[{\"id\":\"2a85b4d2-e3cc-4669-abb8-893119163284\",\"type\":\"GlyphRenderer\"},{\"id\":\"23fff403-1b1b-4c65-8d5a-983b3b1e3bfb\",\"type\":\"GlyphRenderer\"}]},\"id\":\"7e1633f2-5051-49a7-b9ef-d6e671ae6ca3\",\"type\":\"LegendItem\"},{\"attributes\":{\"line_alpha\":0.1,\"line_color\":\"#1f77b4\",\"line_dash\":[6],\"line_width\":5,\"x\":{\"field\":\"x\"},\"y\":{\"field\":\"y\"}},\"id\":\"cf954b6b-49f7-4640-acbc-89b06d65c398\",\"type\":\"Line\"},{\"attributes\":{\"plot\":null,\"text\":\"\"},\"id\":\"9b68bbdb-bc8d-47cd-8b52-a2681a63490f\",\"type\":\"Title\"}],\"root_ids\":[\"ec007fe5-e8d7-4911-b198-a2422f16312a\"]},\"title\":\"Bokeh Application\",\"version\":\"0.12.16\"}};\n",
       "  var render_items = [{\"docid\":\"afd38d13-10c8-47bd-97bc-8a35efacfde4\",\"elementid\":\"b8808fb3-0e6b-4013-9c64-70d72a056180\",\"modelid\":\"ec007fe5-e8d7-4911-b198-a2422f16312a\"}];\n",
       "  root.Bokeh.embed.embed_items_notebook(docs_json, render_items);\n",
       "\n",
       "  }\n",
       "  if (root.Bokeh !== undefined) {\n",
       "    embed_document(root);\n",
       "  } else {\n",
       "    var attempts = 0;\n",
       "    var timer = setInterval(function(root) {\n",
       "      if (root.Bokeh !== undefined) {\n",
       "        embed_document(root);\n",
       "        clearInterval(timer);\n",
       "      }\n",
       "      attempts++;\n",
       "      if (attempts > 100) {\n",
       "        console.log(\"Bokeh: ERROR: Unable to run BokehJS code because BokehJS library is missing\")\n",
       "        clearInterval(timer);\n",
       "      }\n",
       "    }, 10, root)\n",
       "  }\n",
       "})(window);"
      ],
      "application/vnd.bokehjs_exec.v0+json": ""
     },
     "metadata": {
      "application/vnd.bokehjs_exec.v0+json": {
       "id": "ec007fe5-e8d7-4911-b198-a2422f16312a"
      }
     },
     "output_type": "display_data"
    },
    {
     "data": {
      "text/markdown": [
       "*FIGURE.* Cooling rates & difference."
      ],
      "text/plain": [
       "<IPython.core.display.Markdown object>"
      ]
     },
     "metadata": {},
     "output_type": "display_data"
    },
    {
     "data": {
      "text/html": [
       "<a id=\"Fluxes._trp.\"></a>"
      ],
      "text/plain": [
       "<IPython.core.display.HTML object>"
      ]
     },
     "metadata": {},
     "output_type": "display_data"
    },
    {
     "data": {
      "text/markdown": [
       "# Fluxes. trp."
      ],
      "text/plain": [
       "<IPython.core.display.Markdown object>"
      ]
     },
     "metadata": {},
     "output_type": "display_data"
    },
    {
     "data": {
      "text/html": [
       "\n",
       "<div class=\"bk-root\">\n",
       "    <div class=\"bk-plotdiv\" id=\"3c8a7f0a-c43c-4aca-b497-9d3237853dbb\"></div>\n",
       "</div>"
      ]
     },
     "metadata": {},
     "output_type": "display_data"
    },
    {
     "data": {
      "application/javascript": [
       "(function(root) {\n",
       "  function embed_document(root) {\n",
       "    \n",
       "  var docs_json = {\"3aae3f2b-5f81-4c73-9e26-d46522ea292a\":{\"roots\":{\"references\":[{\"attributes\":{},\"id\":\"7ecb7fa8-999a-44fe-aa67-d9f3f41ec1af\",\"type\":\"PanTool\"},{\"attributes\":{\"source\":{\"id\":\"5a88fcab-b4c2-4ea6-9493-d8f39b0659f0\",\"type\":\"ColumnDataSource\"}},\"id\":\"6d5d88e9-f2d0-49c3-87c4-148181a4890d\",\"type\":\"CDSView\"},{\"attributes\":{},\"id\":\"0ae25ec9-1168-4b15-8189-0457795c8934\",\"type\":\"LinearScale\"},{\"attributes\":{\"fill_alpha\":{\"value\":0.1},\"fill_color\":{\"value\":\"#1f77b4\"},\"line_alpha\":{\"value\":0.1},\"line_color\":{\"value\":\"#1f77b4\"},\"top\":{\"field\":\"flux\"},\"width\":{\"value\":0.9},\"x\":{\"field\":\"band\"}},\"id\":\"9996e6c2-b55a-40be-ae6b-58dd8d068616\",\"type\":\"VBar\"},{\"attributes\":{\"plot\":{\"id\":\"3bb6bcc5-79ac-42e3-870e-23ec7d13dedf\",\"subtype\":\"Figure\",\"type\":\"Plot\"},\"ticker\":{\"id\":\"324f477a-1037-4c37-bbc2-6bd2423b242a\",\"type\":\"CategoricalTicker\"}},\"id\":\"77b4bb78-00ed-4202-852d-cb6c71d4a9ed\",\"type\":\"Grid\"},{\"attributes\":{\"plot\":{\"id\":\"7b39430b-5b8a-4791-a43c-e918ea488c09\",\"subtype\":\"Figure\",\"type\":\"Plot\"},\"ticker\":{\"id\":\"557a7f7a-3d1f-45b3-ba05-fc87f822d8b0\",\"type\":\"CategoricalTicker\"}},\"id\":\"cf59998d-9744-4362-bcd4-0e0d747eb1b4\",\"type\":\"Grid\"},{\"attributes\":{},\"id\":\"785cae3a-fd8a-471d-9a4c-8c0acda01835\",\"type\":\"SaveTool\"},{\"attributes\":{\"axis_label\":\"flux (W m-2)\",\"formatter\":{\"id\":\"149543c1-f1a8-472b-b6a1-e4ab2ca4023f\",\"type\":\"BasicTickFormatter\"},\"plot\":{\"id\":\"3bb6bcc5-79ac-42e3-870e-23ec7d13dedf\",\"subtype\":\"Figure\",\"type\":\"Plot\"},\"ticker\":{\"id\":\"80bcef5a-54eb-48bd-9c3b-88b0b1c47c31\",\"type\":\"BasicTicker\"}},\"id\":\"2b828a8e-0ac9-4834-85e2-adef071142a0\",\"type\":\"LinearAxis\"},{\"attributes\":{},\"id\":\"3f99af67-0964-474b-9d61-afdee76a858b\",\"type\":\"WheelZoomTool\"},{\"attributes\":{},\"id\":\"cdd950b5-a6e1-40c7-b79e-706205d1e632\",\"type\":\"ResetTool\"},{\"attributes\":{\"bottom_units\":\"screen\",\"fill_alpha\":{\"value\":0.5},\"fill_color\":{\"value\":\"lightgrey\"},\"left_units\":\"screen\",\"level\":\"overlay\",\"line_alpha\":{\"value\":1.0},\"line_color\":{\"value\":\"black\"},\"line_dash\":[4,4],\"line_width\":{\"value\":2},\"plot\":null,\"render_mode\":\"css\",\"right_units\":\"screen\",\"top_units\":\"screen\"},\"id\":\"5a503f7d-dd62-4e87-bc78-fddc617f4758\",\"type\":\"BoxAnnotation\"},{\"attributes\":{},\"id\":\"812db276-bce2-4163-8e7b-dfc8a607fb42\",\"type\":\"ResetTool\"},{\"attributes\":{\"below\":[{\"id\":\"1758590b-f0f7-4ae1-81f5-4ce617553851\",\"type\":\"CategoricalAxis\"}],\"left\":[{\"id\":\"5492844b-6f37-45e5-a7fe-84582b7d22e9\",\"type\":\"LinearAxis\"}],\"plot_height\":300,\"plot_width\":300,\"renderers\":[{\"id\":\"1758590b-f0f7-4ae1-81f5-4ce617553851\",\"type\":\"CategoricalAxis\"},{\"id\":\"5260e0cf-efc1-4080-9c00-c7550040a92a\",\"type\":\"Grid\"},{\"id\":\"5492844b-6f37-45e5-a7fe-84582b7d22e9\",\"type\":\"LinearAxis\"},{\"id\":\"08c63483-cc36-4130-a787-47d46c453862\",\"type\":\"Grid\"},{\"id\":\"5a503f7d-dd62-4e87-bc78-fddc617f4758\",\"type\":\"BoxAnnotation\"},{\"id\":\"363a15d3-7e26-4976-b78a-f3929701f4c3\",\"type\":\"GlyphRenderer\"}],\"title\":{\"id\":\"00de6ef5-f1bd-41d1-9847-1953f7116203\",\"type\":\"Title\"},\"toolbar\":{\"id\":\"2047f8e3-ad14-4fd3-b1d8-7f7775e2e551\",\"type\":\"Toolbar\"},\"toolbar_location\":null,\"x_range\":{\"id\":\"3ee72176-9e53-40af-bcd2-6551412f3db3\",\"type\":\"FactorRange\"},\"x_scale\":{\"id\":\"d365c30f-b403-466a-afde-9ca94d1ec6f1\",\"type\":\"CategoricalScale\"},\"y_range\":{\"id\":\"82c8bf40-1cbf-4783-8a41-4d9163bacc4e\",\"type\":\"DataRange1d\"},\"y_scale\":{\"id\":\"f3a771d1-405a-4ac9-82ed-be93727e5a41\",\"type\":\"LinearScale\"}},\"id\":\"e6ef6d78-9d2f-4bb4-b844-73ee664fe732\",\"subtype\":\"Figure\",\"type\":\"Plot\"},{\"attributes\":{\"fill_alpha\":{\"value\":0.1},\"fill_color\":{\"value\":\"#1f77b4\"},\"line_alpha\":{\"value\":0.1},\"line_color\":{\"value\":\"#1f77b4\"},\"top\":{\"field\":\"flux\"},\"width\":{\"value\":0.9},\"x\":{\"field\":\"band\"}},\"id\":\"6d620dad-c828-4caf-9cf9-08b839fcef68\",\"type\":\"VBar\"},{\"attributes\":{\"axis_label\":\"spectral band\",\"formatter\":{\"id\":\"4c645fd3-5b5f-4b9e-adf1-df11361cb55c\",\"type\":\"CategoricalTickFormatter\"},\"plot\":{\"id\":\"3bb6bcc5-79ac-42e3-870e-23ec7d13dedf\",\"subtype\":\"Figure\",\"type\":\"Plot\"},\"ticker\":{\"id\":\"324f477a-1037-4c37-bbc2-6bd2423b242a\",\"type\":\"CategoricalTicker\"}},\"id\":\"4c7890ed-fcf8-4313-81d3-f9082405903e\",\"type\":\"CategoricalAxis\"},{\"attributes\":{},\"id\":\"324f477a-1037-4c37-bbc2-6bd2423b242a\",\"type\":\"CategoricalTicker\"},{\"attributes\":{\"children\":[{\"id\":\"e6ef6d78-9d2f-4bb4-b844-73ee664fe732\",\"subtype\":\"Figure\",\"type\":\"Plot\"},{\"id\":\"3bb6bcc5-79ac-42e3-870e-23ec7d13dedf\",\"subtype\":\"Figure\",\"type\":\"Plot\"},{\"id\":\"7b39430b-5b8a-4791-a43c-e918ea488c09\",\"subtype\":\"Figure\",\"type\":\"Plot\"}]},\"id\":\"40c642d9-5257-44f9-bbc4-45cb516d656b\",\"type\":\"Row\"},{\"attributes\":{\"below\":[{\"id\":\"b538b4bf-3773-4207-8c66-4492d778a49e\",\"type\":\"CategoricalAxis\"}],\"left\":[{\"id\":\"26a59a59-f1da-4f39-a8fd-d3654f0f93fc\",\"type\":\"LinearAxis\"}],\"plot_height\":300,\"plot_width\":300,\"renderers\":[{\"id\":\"b538b4bf-3773-4207-8c66-4492d778a49e\",\"type\":\"CategoricalAxis\"},{\"id\":\"cf59998d-9744-4362-bcd4-0e0d747eb1b4\",\"type\":\"Grid\"},{\"id\":\"26a59a59-f1da-4f39-a8fd-d3654f0f93fc\",\"type\":\"LinearAxis\"},{\"id\":\"1e6f594d-d82c-4ed0-8a23-871adb041c6b\",\"type\":\"Grid\"},{\"id\":\"54d3f9e6-e5fb-42e8-949c-e2fcac9ee21f\",\"type\":\"BoxAnnotation\"},{\"id\":\"0763c754-9f44-4ed4-944c-1b0c1dce4ae3\",\"type\":\"GlyphRenderer\"}],\"title\":{\"id\":\"38c9bead-49a9-425a-a325-b46b1ae99644\",\"type\":\"Title\"},\"toolbar\":{\"id\":\"84fde65f-0722-4e19-8ee5-4d4595bbfcd6\",\"type\":\"Toolbar\"},\"toolbar_location\":null,\"x_range\":{\"id\":\"72990098-8b13-4ab1-8a27-9f075845a00f\",\"type\":\"FactorRange\"},\"x_scale\":{\"id\":\"8825ffe9-e1b5-485e-a86e-a6f4f5e86f36\",\"type\":\"CategoricalScale\"},\"y_range\":{\"id\":\"e44bc85d-6cb5-42d1-8e18-579c320a17d7\",\"type\":\"DataRange1d\"},\"y_scale\":{\"id\":\"20937f0b-1430-4e94-af2d-599b6b7b1c60\",\"type\":\"LinearScale\"}},\"id\":\"7b39430b-5b8a-4791-a43c-e918ea488c09\",\"subtype\":\"Figure\",\"type\":\"Plot\"},{\"attributes\":{},\"id\":\"a3b7eca6-6e37-4585-9450-2d169534f9f3\",\"type\":\"CategoricalTickFormatter\"},{\"attributes\":{\"dimension\":1,\"plot\":{\"id\":\"7b39430b-5b8a-4791-a43c-e918ea488c09\",\"subtype\":\"Figure\",\"type\":\"Plot\"},\"ticker\":{\"id\":\"207088a7-6877-4a4f-a54d-29d1f4010bca\",\"type\":\"BasicTicker\"}},\"id\":\"1e6f594d-d82c-4ed0-8a23-871adb041c6b\",\"type\":\"Grid\"},{\"attributes\":{},\"id\":\"149543c1-f1a8-472b-b6a1-e4ab2ca4023f\",\"type\":\"BasicTickFormatter\"},{\"attributes\":{},\"id\":\"80bcef5a-54eb-48bd-9c3b-88b0b1c47c31\",\"type\":\"BasicTicker\"},{\"attributes\":{\"active_drag\":\"auto\",\"active_inspect\":\"auto\",\"active_scroll\":\"auto\",\"active_tap\":\"auto\",\"tools\":[{\"id\":\"7ecb7fa8-999a-44fe-aa67-d9f3f41ec1af\",\"type\":\"PanTool\"},{\"id\":\"3f99af67-0964-474b-9d61-afdee76a858b\",\"type\":\"WheelZoomTool\"},{\"id\":\"b942ae0b-abf3-4ded-a41a-65455a954b11\",\"type\":\"BoxZoomTool\"},{\"id\":\"785cae3a-fd8a-471d-9a4c-8c0acda01835\",\"type\":\"SaveTool\"},{\"id\":\"cdd950b5-a6e1-40c7-b79e-706205d1e632\",\"type\":\"ResetTool\"},{\"id\":\"174c315c-6978-433e-bee7-0715b7bb733d\",\"type\":\"HelpTool\"}]},\"id\":\"84fde65f-0722-4e19-8ee5-4d4595bbfcd6\",\"type\":\"Toolbar\"},{\"attributes\":{},\"id\":\"1bbe02a6-c489-4aa2-8820-8bf74ed2d60f\",\"type\":\"UnionRenderers\"},{\"attributes\":{},\"id\":\"9df45e08-e4c4-4f40-8917-a1a059a0a3c6\",\"type\":\"BasicTickFormatter\"},{\"attributes\":{\"children\":[{\"id\":\"e2ef1f31-2571-4d4d-9601-66151fd75d23\",\"type\":\"ToolbarBox\"},{\"id\":\"66266981-23e0-489a-9ec3-b51110c3df07\",\"type\":\"Column\"}]},\"id\":\"5f3c7fcb-a81d-423f-a81b-e4bfba351c3f\",\"type\":\"Column\"},{\"attributes\":{},\"id\":\"20937f0b-1430-4e94-af2d-599b6b7b1c60\",\"type\":\"LinearScale\"},{\"attributes\":{\"source\":{\"id\":\"eb4cc934-d10a-49de-867b-3878866f85f2\",\"type\":\"ColumnDataSource\"}},\"id\":\"a878a3a7-32c3-4e57-a7e6-d8df3fdeefc0\",\"type\":\"CDSView\"},{\"attributes\":{},\"id\":\"71fbd0d2-3464-4bf3-83ec-307d5fdae796\",\"type\":\"Selection\"},{\"attributes\":{},\"id\":\"afe4e643-a8c4-43c6-b80c-4553a63e31d7\",\"type\":\"CategoricalTickFormatter\"},{\"attributes\":{\"children\":[{\"id\":\"40c642d9-5257-44f9-bbc4-45cb516d656b\",\"type\":\"Row\"}]},\"id\":\"66266981-23e0-489a-9ec3-b51110c3df07\",\"type\":\"Column\"},{\"attributes\":{\"dimension\":1,\"plot\":{\"id\":\"3bb6bcc5-79ac-42e3-870e-23ec7d13dedf\",\"subtype\":\"Figure\",\"type\":\"Plot\"},\"ticker\":{\"id\":\"80bcef5a-54eb-48bd-9c3b-88b0b1c47c31\",\"type\":\"BasicTicker\"}},\"id\":\"29ee8849-9b29-43ea-b8bf-f4ca4ab14d74\",\"type\":\"Grid\"},{\"attributes\":{\"fill_color\":{\"value\":\"#1f77b4\"},\"line_color\":{\"value\":\"#1f77b4\"},\"top\":{\"field\":\"flux\"},\"width\":{\"value\":0.9},\"x\":{\"field\":\"band\"}},\"id\":\"e9d08957-082a-473f-9837-8ac59d066340\",\"type\":\"VBar\"},{\"attributes\":{\"data_source\":{\"id\":\"5a88fcab-b4c2-4ea6-9493-d8f39b0659f0\",\"type\":\"ColumnDataSource\"},\"glyph\":{\"id\":\"e9d08957-082a-473f-9837-8ac59d066340\",\"type\":\"VBar\"},\"hover_glyph\":null,\"muted_glyph\":null,\"nonselection_glyph\":{\"id\":\"6d620dad-c828-4caf-9cf9-08b839fcef68\",\"type\":\"VBar\"},\"selection_glyph\":null,\"view\":{\"id\":\"6d5d88e9-f2d0-49c3-87c4-148181a4890d\",\"type\":\"CDSView\"}},\"id\":\"ded4d2dc-ec1e-41d5-937f-eb14674dd176\",\"type\":\"GlyphRenderer\"},{\"attributes\":{},\"id\":\"8825ffe9-e1b5-485e-a86e-a6f4f5e86f36\",\"type\":\"CategoricalScale\"},{\"attributes\":{},\"id\":\"60684b30-84b1-46d7-91a0-f9f2ffc46499\",\"type\":\"WheelZoomTool\"},{\"attributes\":{\"dimension\":1,\"plot\":{\"id\":\"e6ef6d78-9d2f-4bb4-b844-73ee664fe732\",\"subtype\":\"Figure\",\"type\":\"Plot\"},\"ticker\":{\"id\":\"aa4294e1-eb9d-4ea0-9bdf-c84567b937d7\",\"type\":\"BasicTicker\"}},\"id\":\"08c63483-cc36-4130-a787-47d46c453862\",\"type\":\"Grid\"},{\"attributes\":{\"fill_alpha\":{\"value\":0.1},\"fill_color\":{\"value\":\"#1f77b4\"},\"line_alpha\":{\"value\":0.1},\"line_color\":{\"value\":\"#1f77b4\"},\"top\":{\"field\":\"flux\"},\"width\":{\"value\":0.9},\"x\":{\"field\":\"band\"}},\"id\":\"3759863e-9d6d-4b3d-a65d-be5cc0536ac1\",\"type\":\"VBar\"},{\"attributes\":{\"axis_label\":\"spectral band\",\"formatter\":{\"id\":\"afe4e643-a8c4-43c6-b80c-4553a63e31d7\",\"type\":\"CategoricalTickFormatter\"},\"plot\":{\"id\":\"7b39430b-5b8a-4791-a43c-e918ea488c09\",\"subtype\":\"Figure\",\"type\":\"Plot\"},\"ticker\":{\"id\":\"557a7f7a-3d1f-45b3-ba05-fc87f822d8b0\",\"type\":\"CategoricalTicker\"}},\"id\":\"b538b4bf-3773-4207-8c66-4492d778a49e\",\"type\":\"CategoricalAxis\"},{\"attributes\":{\"fill_color\":{\"value\":\"#1f77b4\"},\"line_color\":{\"value\":\"#1f77b4\"},\"top\":{\"field\":\"flux\"},\"width\":{\"value\":0.9},\"x\":{\"field\":\"band\"}},\"id\":\"4dddf9fd-446d-4710-a94a-dc8cedfdf42a\",\"type\":\"VBar\"},{\"attributes\":{},\"id\":\"4c645fd3-5b5f-4b9e-adf1-df11361cb55c\",\"type\":\"CategoricalTickFormatter\"},{\"attributes\":{},\"id\":\"569c6cf8-5570-4a74-ad84-b641109cfb85\",\"type\":\"Selection\"},{\"attributes\":{\"callback\":null},\"id\":\"e44bc85d-6cb5-42d1-8e18-579c320a17d7\",\"type\":\"DataRange1d\"},{\"attributes\":{\"overlay\":{\"id\":\"5a503f7d-dd62-4e87-bc78-fddc617f4758\",\"type\":\"BoxAnnotation\"}},\"id\":\"076dda7f-845e-4343-9549-068d9310f90f\",\"type\":\"BoxZoomTool\"},{\"attributes\":{},\"id\":\"174c315c-6978-433e-bee7-0715b7bb733d\",\"type\":\"HelpTool\"},{\"attributes\":{\"bottom_units\":\"screen\",\"fill_alpha\":{\"value\":0.5},\"fill_color\":{\"value\":\"lightgrey\"},\"left_units\":\"screen\",\"level\":\"overlay\",\"line_alpha\":{\"value\":1.0},\"line_color\":{\"value\":\"black\"},\"line_dash\":[4,4],\"line_width\":{\"value\":2},\"plot\":null,\"render_mode\":\"css\",\"right_units\":\"screen\",\"top_units\":\"screen\"},\"id\":\"54d3f9e6-e5fb-42e8-949c-e2fcac9ee21f\",\"type\":\"BoxAnnotation\"},{\"attributes\":{\"axis_label\":\"flux (W m-2)\",\"formatter\":{\"id\":\"9df45e08-e4c4-4f40-8917-a1a059a0a3c6\",\"type\":\"BasicTickFormatter\"},\"plot\":{\"id\":\"7b39430b-5b8a-4791-a43c-e918ea488c09\",\"subtype\":\"Figure\",\"type\":\"Plot\"},\"ticker\":{\"id\":\"207088a7-6877-4a4f-a54d-29d1f4010bca\",\"type\":\"BasicTicker\"}},\"id\":\"26a59a59-f1da-4f39-a8fd-d3654f0f93fc\",\"type\":\"LinearAxis\"},{\"attributes\":{},\"id\":\"72aa4d28-3f17-42bd-866b-ea328356fb5d\",\"type\":\"BasicTickFormatter\"},{\"attributes\":{\"plot\":null,\"text\":\"Atmosphere heating. CLIRAD - CRD.\"},\"id\":\"38c9bead-49a9-425a-a325-b46b1ae99644\",\"type\":\"Title\"},{\"attributes\":{\"source\":{\"id\":\"82c847ee-eb4a-474b-9983-90dc642388f7\",\"type\":\"ColumnDataSource\"}},\"id\":\"3ffb941a-05c4-47da-9843-dc6acaf65599\",\"type\":\"CDSView\"},{\"attributes\":{},\"id\":\"02564622-bd78-4d0a-abe9-aea1032f81bd\",\"type\":\"UnionRenderers\"},{\"attributes\":{},\"id\":\"4809e215-baab-45c2-8de2-816eabc04f0d\",\"type\":\"PanTool\"},{\"attributes\":{},\"id\":\"207088a7-6877-4a4f-a54d-29d1f4010bca\",\"type\":\"BasicTicker\"},{\"attributes\":{},\"id\":\"53aca26d-08fa-4f4a-a782-7099e2b537e8\",\"type\":\"HelpTool\"},{\"attributes\":{},\"id\":\"557a7f7a-3d1f-45b3-ba05-fc87f822d8b0\",\"type\":\"CategoricalTicker\"},{\"attributes\":{},\"id\":\"63df7e10-850a-448f-ac61-456cb360b416\",\"type\":\"UnionRenderers\"},{\"attributes\":{},\"id\":\"b7e72e99-99c1-453c-a910-76610741e809\",\"type\":\"SaveTool\"},{\"attributes\":{\"overlay\":{\"id\":\"54d3f9e6-e5fb-42e8-949c-e2fcac9ee21f\",\"type\":\"BoxAnnotation\"}},\"id\":\"b942ae0b-abf3-4ded-a41a-65455a954b11\",\"type\":\"BoxZoomTool\"},{\"attributes\":{\"callback\":null,\"factors\":[\"1\",\"2\",\"3\",\"4\",\"5\",\"6\",\"7\",\"8\",\"9\",\"10\",\"11\"]},\"id\":\"72990098-8b13-4ab1-8a27-9f075845a00f\",\"type\":\"FactorRange\"},{\"attributes\":{\"data_source\":{\"id\":\"82c847ee-eb4a-474b-9983-90dc642388f7\",\"type\":\"ColumnDataSource\"},\"glyph\":{\"id\":\"4dddf9fd-446d-4710-a94a-dc8cedfdf42a\",\"type\":\"VBar\"},\"hover_glyph\":null,\"muted_glyph\":null,\"nonselection_glyph\":{\"id\":\"3759863e-9d6d-4b3d-a65d-be5cc0536ac1\",\"type\":\"VBar\"},\"selection_glyph\":null,\"view\":{\"id\":\"3ffb941a-05c4-47da-9843-dc6acaf65599\",\"type\":\"CDSView\"}},\"id\":\"363a15d3-7e26-4976-b78a-f3929701f4c3\",\"type\":\"GlyphRenderer\"},{\"attributes\":{\"data_source\":{\"id\":\"eb4cc934-d10a-49de-867b-3878866f85f2\",\"type\":\"ColumnDataSource\"},\"glyph\":{\"id\":\"649fcb5f-6726-4894-9583-6b34a2efc726\",\"type\":\"VBar\"},\"hover_glyph\":null,\"muted_glyph\":null,\"nonselection_glyph\":{\"id\":\"9996e6c2-b55a-40be-ae6b-58dd8d068616\",\"type\":\"VBar\"},\"selection_glyph\":null,\"view\":{\"id\":\"a878a3a7-32c3-4e57-a7e6-d8df3fdeefc0\",\"type\":\"CDSView\"}},\"id\":\"0763c754-9f44-4ed4-944c-1b0c1dce4ae3\",\"type\":\"GlyphRenderer\"},{\"attributes\":{\"callback\":null,\"data\":{\"band\":[\"1\",\"2\",\"3\",\"4\",\"5\",\"6\",\"7\",\"8\",\"9\",\"10\",\"11\"],\"flux\":{\"__ndarray__\":\"AADADkbs874Ak+S5vg/QPwA9t9CVCMq/ABTRr62frj8g2VvK+WLjPwD9aaM6Hd0/gI4AbhYvsj8AsOtypfmOP4CJeOv829E/AFDtmpDWiD/ANHG8TF6wPw==\",\"dtype\":\"float64\",\"shape\":[11]}},\"selected\":{\"id\":\"569c6cf8-5570-4a74-ad84-b641109cfb85\",\"type\":\"Selection\"},\"selection_policy\":{\"id\":\"1bbe02a6-c489-4aa2-8820-8bf74ed2d60f\",\"type\":\"UnionRenderers\"}},\"id\":\"5a88fcab-b4c2-4ea6-9493-d8f39b0659f0\",\"type\":\"ColumnDataSource\"},{\"attributes\":{\"plot\":{\"id\":\"e6ef6d78-9d2f-4bb4-b844-73ee664fe732\",\"subtype\":\"Figure\",\"type\":\"Plot\"},\"ticker\":{\"id\":\"b9b4dddb-1ed0-4a05-8e0b-dbd570bbdd21\",\"type\":\"CategoricalTicker\"}},\"id\":\"5260e0cf-efc1-4080-9c00-c7550040a92a\",\"type\":\"Grid\"},{\"attributes\":{\"callback\":null,\"data\":{\"band\":[\"1\",\"2\",\"3\",\"4\",\"5\",\"6\",\"7\",\"8\",\"9\",\"10\",\"11\"],\"flux\":{\"__ndarray__\":\"AFB2r2r7yj8AbHBcpT+yPwCSAxt8Brm/QFQrXQsE4D9g0xIro5HSv4ChJvp8lN+/ALK7QEmBxT+AJjEIrBzAv8Dnr0YsGNC/YJ9mkqJfwD/ApI1+j1WpPw==\",\"dtype\":\"float64\",\"shape\":[11]}},\"selected\":{\"id\":\"bd02bb8a-a326-4f08-afeb-aa0ca9168a6d\",\"type\":\"Selection\"},\"selection_policy\":{\"id\":\"02564622-bd78-4d0a-abe9-aea1032f81bd\",\"type\":\"UnionRenderers\"}},\"id\":\"eb4cc934-d10a-49de-867b-3878866f85f2\",\"type\":\"ColumnDataSource\"},{\"attributes\":{\"plot\":null,\"text\":\"TOA flux. CLIRAD - CRD.\"},\"id\":\"00de6ef5-f1bd-41d1-9847-1953f7116203\",\"type\":\"Title\"},{\"attributes\":{\"active_drag\":\"auto\",\"active_inspect\":\"auto\",\"active_scroll\":\"auto\",\"active_tap\":\"auto\",\"tools\":[{\"id\":\"4809e215-baab-45c2-8de2-816eabc04f0d\",\"type\":\"PanTool\"},{\"id\":\"60684b30-84b1-46d7-91a0-f9f2ffc46499\",\"type\":\"WheelZoomTool\"},{\"id\":\"076dda7f-845e-4343-9549-068d9310f90f\",\"type\":\"BoxZoomTool\"},{\"id\":\"b7e72e99-99c1-453c-a910-76610741e809\",\"type\":\"SaveTool\"},{\"id\":\"812db276-bce2-4163-8e7b-dfc8a607fb42\",\"type\":\"ResetTool\"},{\"id\":\"53aca26d-08fa-4f4a-a782-7099e2b537e8\",\"type\":\"HelpTool\"}]},\"id\":\"2047f8e3-ad14-4fd3-b1d8-7f7775e2e551\",\"type\":\"Toolbar\"},{\"attributes\":{},\"id\":\"9afc980e-fb90-4f6d-b4eb-0c933510dab8\",\"type\":\"WheelZoomTool\"},{\"attributes\":{\"callback\":null,\"data\":{\"band\":[\"1\",\"2\",\"3\",\"4\",\"5\",\"6\",\"7\",\"8\",\"9\",\"10\",\"11\"],\"flux\":{\"__ndarray__\":\"AJJCWfj6yj8Ac9nonJ/UP4A1I4PcRdO/UGMJa2Ps4T/APq2iPzTUPwAo5bUSuqO/gPm7d9SYzj8ADTLJyFm8vwBAGHjuPZw/4IZphCPtwT/AuWLrvgi9Pw==\",\"dtype\":\"float64\",\"shape\":[11]}},\"selected\":{\"id\":\"71fbd0d2-3464-4bf3-83ec-307d5fdae796\",\"type\":\"Selection\"},\"selection_policy\":{\"id\":\"63df7e10-850a-448f-ac61-456cb360b416\",\"type\":\"UnionRenderers\"}},\"id\":\"82c847ee-eb4a-474b-9983-90dc642388f7\",\"type\":\"ColumnDataSource\"},{\"attributes\":{\"bottom_units\":\"screen\",\"fill_alpha\":{\"value\":0.5},\"fill_color\":{\"value\":\"lightgrey\"},\"left_units\":\"screen\",\"level\":\"overlay\",\"line_alpha\":{\"value\":1.0},\"line_color\":{\"value\":\"black\"},\"line_dash\":[4,4],\"line_width\":{\"value\":2},\"plot\":null,\"render_mode\":\"css\",\"right_units\":\"screen\",\"top_units\":\"screen\"},\"id\":\"2b8e1d5f-cc1b-441e-af22-e096a0288085\",\"type\":\"BoxAnnotation\"},{\"attributes\":{},\"id\":\"bd02bb8a-a326-4f08-afeb-aa0ca9168a6d\",\"type\":\"Selection\"},{\"attributes\":{},\"id\":\"e6ae333d-5a6a-454e-bff2-ac699b4a5f7d\",\"type\":\"HelpTool\"},{\"attributes\":{\"axis_label\":\"flux (W m-2)\",\"formatter\":{\"id\":\"72aa4d28-3f17-42bd-866b-ea328356fb5d\",\"type\":\"BasicTickFormatter\"},\"plot\":{\"id\":\"e6ef6d78-9d2f-4bb4-b844-73ee664fe732\",\"subtype\":\"Figure\",\"type\":\"Plot\"},\"ticker\":{\"id\":\"aa4294e1-eb9d-4ea0-9bdf-c84567b937d7\",\"type\":\"BasicTicker\"}},\"id\":\"5492844b-6f37-45e5-a7fe-84582b7d22e9\",\"type\":\"LinearAxis\"},{\"attributes\":{},\"id\":\"6e93e398-654a-4f26-9545-11c826ee028d\",\"type\":\"SaveTool\"},{\"attributes\":{},\"id\":\"aa4294e1-eb9d-4ea0-9bdf-c84567b937d7\",\"type\":\"BasicTicker\"},{\"attributes\":{\"active_drag\":\"auto\",\"active_inspect\":\"auto\",\"active_scroll\":\"auto\",\"active_tap\":\"auto\",\"tools\":[{\"id\":\"779968be-f7c1-4459-aa0f-c933e8f25802\",\"type\":\"PanTool\"},{\"id\":\"9afc980e-fb90-4f6d-b4eb-0c933510dab8\",\"type\":\"WheelZoomTool\"},{\"id\":\"5cdd5925-e06d-41eb-8ab5-81c4dc9a138e\",\"type\":\"BoxZoomTool\"},{\"id\":\"6e93e398-654a-4f26-9545-11c826ee028d\",\"type\":\"SaveTool\"},{\"id\":\"b84eb5c9-1d8d-4035-b924-e4f23bc291d9\",\"type\":\"ResetTool\"},{\"id\":\"e6ae333d-5a6a-454e-bff2-ac699b4a5f7d\",\"type\":\"HelpTool\"}]},\"id\":\"e6f531f8-b9f6-4844-930f-fe2d0dd2c127\",\"type\":\"Toolbar\"},{\"attributes\":{},\"id\":\"779968be-f7c1-4459-aa0f-c933e8f25802\",\"type\":\"PanTool\"},{\"attributes\":{\"below\":[{\"id\":\"4c7890ed-fcf8-4313-81d3-f9082405903e\",\"type\":\"CategoricalAxis\"}],\"left\":[{\"id\":\"2b828a8e-0ac9-4834-85e2-adef071142a0\",\"type\":\"LinearAxis\"}],\"plot_height\":300,\"plot_width\":300,\"renderers\":[{\"id\":\"4c7890ed-fcf8-4313-81d3-f9082405903e\",\"type\":\"CategoricalAxis\"},{\"id\":\"77b4bb78-00ed-4202-852d-cb6c71d4a9ed\",\"type\":\"Grid\"},{\"id\":\"2b828a8e-0ac9-4834-85e2-adef071142a0\",\"type\":\"LinearAxis\"},{\"id\":\"29ee8849-9b29-43ea-b8bf-f4ca4ab14d74\",\"type\":\"Grid\"},{\"id\":\"2b8e1d5f-cc1b-441e-af22-e096a0288085\",\"type\":\"BoxAnnotation\"},{\"id\":\"ded4d2dc-ec1e-41d5-937f-eb14674dd176\",\"type\":\"GlyphRenderer\"}],\"title\":{\"id\":\"533b9b5a-6706-4824-8ebd-e73e20579042\",\"type\":\"Title\"},\"toolbar\":{\"id\":\"e6f531f8-b9f6-4844-930f-fe2d0dd2c127\",\"type\":\"Toolbar\"},\"toolbar_location\":null,\"x_range\":{\"id\":\"d61ab832-0c7e-4b63-a35f-50f9e961313e\",\"type\":\"FactorRange\"},\"x_scale\":{\"id\":\"33d5fcc4-f7e2-4227-aaa9-923c87c64349\",\"type\":\"CategoricalScale\"},\"y_range\":{\"id\":\"421e5929-eec1-4be4-bd20-5d6c52b25b6f\",\"type\":\"DataRange1d\"},\"y_scale\":{\"id\":\"0ae25ec9-1168-4b15-8189-0457795c8934\",\"type\":\"LinearScale\"}},\"id\":\"3bb6bcc5-79ac-42e3-870e-23ec7d13dedf\",\"subtype\":\"Figure\",\"type\":\"Plot\"},{\"attributes\":{\"callback\":null,\"factors\":[\"1\",\"2\",\"3\",\"4\",\"5\",\"6\",\"7\",\"8\",\"9\",\"10\",\"11\"]},\"id\":\"3ee72176-9e53-40af-bcd2-6551412f3db3\",\"type\":\"FactorRange\"},{\"attributes\":{\"plot\":null,\"text\":\"SFC flux. CLIRAD - CRD.\"},\"id\":\"533b9b5a-6706-4824-8ebd-e73e20579042\",\"type\":\"Title\"},{\"attributes\":{\"toolbar\":{\"id\":\"83aba121-6986-44a3-a93e-c367ff2462ca\",\"type\":\"ProxyToolbar\"},\"toolbar_location\":\"above\"},\"id\":\"e2ef1f31-2571-4d4d-9601-66151fd75d23\",\"type\":\"ToolbarBox\"},{\"attributes\":{},\"id\":\"b9b4dddb-1ed0-4a05-8e0b-dbd570bbdd21\",\"type\":\"CategoricalTicker\"},{\"attributes\":{},\"id\":\"d365c30f-b403-466a-afde-9ca94d1ec6f1\",\"type\":\"CategoricalScale\"},{\"attributes\":{\"callback\":null,\"factors\":[\"1\",\"2\",\"3\",\"4\",\"5\",\"6\",\"7\",\"8\",\"9\",\"10\",\"11\"]},\"id\":\"d61ab832-0c7e-4b63-a35f-50f9e961313e\",\"type\":\"FactorRange\"},{\"attributes\":{\"fill_color\":{\"value\":\"#1f77b4\"},\"line_color\":{\"value\":\"#1f77b4\"},\"top\":{\"field\":\"flux\"},\"width\":{\"value\":0.9},\"x\":{\"field\":\"band\"}},\"id\":\"649fcb5f-6726-4894-9583-6b34a2efc726\",\"type\":\"VBar\"},{\"attributes\":{},\"id\":\"b84eb5c9-1d8d-4035-b924-e4f23bc291d9\",\"type\":\"ResetTool\"},{\"attributes\":{\"callback\":null},\"id\":\"421e5929-eec1-4be4-bd20-5d6c52b25b6f\",\"type\":\"DataRange1d\"},{\"attributes\":{\"callback\":null},\"id\":\"82c8bf40-1cbf-4783-8a41-4d9163bacc4e\",\"type\":\"DataRange1d\"},{\"attributes\":{\"overlay\":{\"id\":\"2b8e1d5f-cc1b-441e-af22-e096a0288085\",\"type\":\"BoxAnnotation\"}},\"id\":\"5cdd5925-e06d-41eb-8ab5-81c4dc9a138e\",\"type\":\"BoxZoomTool\"},{\"attributes\":{\"axis_label\":\"spectral band\",\"formatter\":{\"id\":\"a3b7eca6-6e37-4585-9450-2d169534f9f3\",\"type\":\"CategoricalTickFormatter\"},\"plot\":{\"id\":\"e6ef6d78-9d2f-4bb4-b844-73ee664fe732\",\"subtype\":\"Figure\",\"type\":\"Plot\"},\"ticker\":{\"id\":\"b9b4dddb-1ed0-4a05-8e0b-dbd570bbdd21\",\"type\":\"CategoricalTicker\"}},\"id\":\"1758590b-f0f7-4ae1-81f5-4ce617553851\",\"type\":\"CategoricalAxis\"},{\"attributes\":{},\"id\":\"f3a771d1-405a-4ac9-82ed-be93727e5a41\",\"type\":\"LinearScale\"},{\"attributes\":{\"tools\":[{\"id\":\"4809e215-baab-45c2-8de2-816eabc04f0d\",\"type\":\"PanTool\"},{\"id\":\"60684b30-84b1-46d7-91a0-f9f2ffc46499\",\"type\":\"WheelZoomTool\"},{\"id\":\"076dda7f-845e-4343-9549-068d9310f90f\",\"type\":\"BoxZoomTool\"},{\"id\":\"b7e72e99-99c1-453c-a910-76610741e809\",\"type\":\"SaveTool\"},{\"id\":\"812db276-bce2-4163-8e7b-dfc8a607fb42\",\"type\":\"ResetTool\"},{\"id\":\"53aca26d-08fa-4f4a-a782-7099e2b537e8\",\"type\":\"HelpTool\"},{\"id\":\"779968be-f7c1-4459-aa0f-c933e8f25802\",\"type\":\"PanTool\"},{\"id\":\"9afc980e-fb90-4f6d-b4eb-0c933510dab8\",\"type\":\"WheelZoomTool\"},{\"id\":\"5cdd5925-e06d-41eb-8ab5-81c4dc9a138e\",\"type\":\"BoxZoomTool\"},{\"id\":\"6e93e398-654a-4f26-9545-11c826ee028d\",\"type\":\"SaveTool\"},{\"id\":\"b84eb5c9-1d8d-4035-b924-e4f23bc291d9\",\"type\":\"ResetTool\"},{\"id\":\"e6ae333d-5a6a-454e-bff2-ac699b4a5f7d\",\"type\":\"HelpTool\"},{\"id\":\"7ecb7fa8-999a-44fe-aa67-d9f3f41ec1af\",\"type\":\"PanTool\"},{\"id\":\"3f99af67-0964-474b-9d61-afdee76a858b\",\"type\":\"WheelZoomTool\"},{\"id\":\"b942ae0b-abf3-4ded-a41a-65455a954b11\",\"type\":\"BoxZoomTool\"},{\"id\":\"785cae3a-fd8a-471d-9a4c-8c0acda01835\",\"type\":\"SaveTool\"},{\"id\":\"cdd950b5-a6e1-40c7-b79e-706205d1e632\",\"type\":\"ResetTool\"},{\"id\":\"174c315c-6978-433e-bee7-0715b7bb733d\",\"type\":\"HelpTool\"}]},\"id\":\"83aba121-6986-44a3-a93e-c367ff2462ca\",\"type\":\"ProxyToolbar\"},{\"attributes\":{},\"id\":\"33d5fcc4-f7e2-4227-aaa9-923c87c64349\",\"type\":\"CategoricalScale\"}],\"root_ids\":[\"5f3c7fcb-a81d-423f-a81b-e4bfba351c3f\"]},\"title\":\"Bokeh Application\",\"version\":\"0.12.16\"}};\n",
       "  var render_items = [{\"docid\":\"3aae3f2b-5f81-4c73-9e26-d46522ea292a\",\"elementid\":\"3c8a7f0a-c43c-4aca-b497-9d3237853dbb\",\"modelid\":\"5f3c7fcb-a81d-423f-a81b-e4bfba351c3f\"}];\n",
       "  root.Bokeh.embed.embed_items_notebook(docs_json, render_items);\n",
       "\n",
       "  }\n",
       "  if (root.Bokeh !== undefined) {\n",
       "    embed_document(root);\n",
       "  } else {\n",
       "    var attempts = 0;\n",
       "    var timer = setInterval(function(root) {\n",
       "      if (root.Bokeh !== undefined) {\n",
       "        embed_document(root);\n",
       "        clearInterval(timer);\n",
       "      }\n",
       "      attempts++;\n",
       "      if (attempts > 100) {\n",
       "        console.log(\"Bokeh: ERROR: Unable to run BokehJS code because BokehJS library is missing\")\n",
       "        clearInterval(timer);\n",
       "      }\n",
       "    }, 10, root)\n",
       "  }\n",
       "})(window);"
      ],
      "application/vnd.bokehjs_exec.v0+json": ""
     },
     "metadata": {
      "application/vnd.bokehjs_exec.v0+json": {
       "id": "5f3c7fcb-a81d-423f-a81b-e4bfba351c3f"
      }
     },
     "output_type": "display_data"
    },
    {
     "data": {
      "text/markdown": [
       "*FIGURE.* Difference between CLIRAD and CRD in TOA, SFC and net atmosphere flux, in each spectral band."
      ],
      "text/plain": [
       "<IPython.core.display.Markdown object>"
      ]
     },
     "metadata": {},
     "output_type": "display_data"
    },
    {
     "data": {
      "text/html": [
       "<div>\n",
       "<style scoped>\n",
       "    .dataframe tbody tr th:only-of-type {\n",
       "        vertical-align: middle;\n",
       "    }\n",
       "\n",
       "    .dataframe tbody tr th {\n",
       "        vertical-align: top;\n",
       "    }\n",
       "\n",
       "    .dataframe thead th {\n",
       "        text-align: right;\n",
       "    }\n",
       "</style>\n",
       "<table border=\"1\" class=\"dataframe\">\n",
       "  <thead>\n",
       "    <tr style=\"text-align: right;\">\n",
       "      <th></th>\n",
       "      <th>OLR flux</th>\n",
       "      <th>SFC flux</th>\n",
       "      <th>ATM heating</th>\n",
       "    </tr>\n",
       "    <tr>\n",
       "      <th>Sum over bands</th>\n",
       "      <th></th>\n",
       "      <th></th>\n",
       "      <th></th>\n",
       "    </tr>\n",
       "  </thead>\n",
       "  <tbody>\n",
       "    <tr>\n",
       "      <th>CLIRAD - CRD</th>\n",
       "      <td>1.48</td>\n",
       "      <td>1.61</td>\n",
       "      <td>-0.13</td>\n",
       "    </tr>\n",
       "    <tr>\n",
       "      <th>CRD</th>\n",
       "      <td>-303.40</td>\n",
       "      <td>337.24</td>\n",
       "      <td>-181.37</td>\n",
       "    </tr>\n",
       "  </tbody>\n",
       "</table>\n",
       "</div>"
      ],
      "text/plain": [
       "                OLR flux  SFC flux  ATM heating\n",
       "Sum over bands                                 \n",
       "CLIRAD - CRD        1.48      1.61        -0.13\n",
       "CRD              -303.40    337.24      -181.37"
      ]
     },
     "metadata": {},
     "output_type": "display_data"
    },
    {
     "data": {
      "text/markdown": [
       "*TABLE.* Difference between CLIRAD and CRD in TOA, SFC and net atmosphere flux, over all spectral bands. CRD's TOA, SFC and net atmosphere flux, over all spectral bands."
      ],
      "text/plain": [
       "<IPython.core.display.Markdown object>"
      ]
     },
     "metadata": {},
     "output_type": "display_data"
    }
   ],
   "source": [
    "def show_html(s):\n",
    "    display.display(display.HTML(s))\n",
    "\n",
    "    \n",
    "def show_markdown(s):\n",
    "    display.display(display.Markdown(s))\n",
    "\n",
    "\n",
    "def script():\n",
    "    \n",
    "    d_atm = {'mls': 'mid-latitude summer',\n",
    "             'saw': 'sub-arctic winter',\n",
    "             'trp': 'tropical'}\n",
    "    \n",
    "    title = ('## Results over entire range of molecules'\n",
    "             ' and spectral bands')\n",
    "    \n",
    "    s_makeup = 'Makeup of atmosphere.'\n",
    "    s_atmpro = '# {}'\n",
    "    s_cool = 'Cooling rates. {}.'\n",
    "    s_flux = 'Fluxes. {}.'\n",
    "    \n",
    "    atmpros = ['mls', 'saw', 'trp']\n",
    "    \n",
    "    # TOC\n",
    "    show_markdown(title)\n",
    "    show_markdown('### Table of Contents')\n",
    "    show_html(climahtml.getHTML_hrefanchor(s_makeup))\n",
    "    for atmpro in atmpros:\n",
    "        show_markdown('**' + d_atm[atmpro] + '**')\n",
    "        show_html(climahtml.getHTML_hrefanchor(s_cool.format(atmpro)))\n",
    "        show_html(climahtml.getHTML_hrefanchor(s_flux.format(atmpro)))\n",
    "\n",
    "        \n",
    "    # Atmosphere makeup\n",
    "    show_html(climahtml.getHTML_idanchor(s_makeup))\n",
    "    show_markdown(climahtml.getMarkdown_sectitle(s_makeup))\n",
    "    show_makeup()\n",
    "        \n",
    "    for atmpro in atmpros:\n",
    "        show_html(climahtml.getHTML_idanchor(s_cool.format(atmpro)))\n",
    "        show_markdown(\n",
    "            climahtml.getMarkdown_sectitle(s_cool.format(atmpro)))\n",
    "        show_cool(atmpro=atmpro)\n",
    "        show_html(climahtml.getHTML_idanchor(s_flux.format(atmpro)))\n",
    "        show_markdown(\n",
    "            climahtml.getMarkdown_sectitle(s_flux.format(atmpro)))\n",
    "        show_hist_flux(atmpro=atmpro)\n",
    "        show_tb_flux(atmpro=atmpro)\n",
    "    \n",
    "    \n",
    "script()  "
   ]
  },
  {
   "cell_type": "code",
   "execution_count": null,
   "metadata": {
    "collapsed": true
   },
   "outputs": [],
   "source": []
  },
  {
   "cell_type": "code",
   "execution_count": 289,
   "metadata": {},
   "outputs": [
    {
     "data": {
      "text/html": [
       "<script>\n",
       "code_show=true; \n",
       "function code_toggle() {\n",
       " if (code_show){\n",
       " $('div.input').hide();\n",
       " } else {\n",
       " $('div.input').show();\n",
       " }\n",
       " code_show = !code_show\n",
       "} \n",
       "$( document ).ready(code_toggle);\n",
       "</script>\n",
       "<form action=\"javascript:code_toggle()\"><input type=\"submit\" value=\"Click here to toggle on/off the raw code.\"></form>"
      ],
      "text/plain": [
       "<IPython.core.display.HTML object>"
      ]
     },
     "execution_count": 289,
     "metadata": {},
     "output_type": "execute_result"
    }
   ],
   "source": [
    "display.HTML('''<script>\n",
    "code_show=true; \n",
    "function code_toggle() {\n",
    " if (code_show){\n",
    " $('div.input').hide();\n",
    " } else {\n",
    " $('div.input').show();\n",
    " }\n",
    " code_show = !code_show\n",
    "} \n",
    "$( document ).ready(code_toggle);\n",
    "</script>\n",
    "<form action=\"javascript:code_toggle()\"><input type=\"submit\" value=\"Click here to toggle on/off the raw code.\"></form>''')"
   ]
  },
  {
   "cell_type": "code",
   "execution_count": null,
   "metadata": {
    "collapsed": true
   },
   "outputs": [],
   "source": []
  }
 ],
 "metadata": {
  "kernelspec": {
   "display_name": "Python 3",
   "language": "python",
   "name": "python3"
  },
  "language_info": {
   "codemirror_mode": {
    "name": "ipython",
    "version": 3
   },
   "file_extension": ".py",
   "mimetype": "text/x-python",
   "name": "python",
   "nbconvert_exporter": "python",
   "pygments_lexer": "ipython3",
   "version": "3.6.1"
  }
 },
 "nbformat": 4,
 "nbformat_minor": 2
}
