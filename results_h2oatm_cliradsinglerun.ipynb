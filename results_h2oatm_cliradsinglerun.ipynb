{
 "cells": [
  {
   "cell_type": "code",
   "execution_count": 1,
   "metadata": {
    "collapsed": true
   },
   "outputs": [],
   "source": [
    "%reload_ext autoreload\n",
    "%autoreload 2\n",
    "\n",
    "import os\n",
    "import io\n",
    "import ast\n",
    "import json\n",
    "import importlib \n",
    "import itertools\n",
    "import collections\n",
    "import pprint\n",
    "\n",
    "import pymongo\n",
    "\n",
    "from bokeh.io import output_notebook, show\n",
    "from bokeh.layouts import gridplot\n",
    "from bokeh.plotting import figure\n",
    "from bokeh.models import Range1d, Legend, ColumnDataSource, FactorRange\n",
    "from bokeh.palettes import all_palettes\n",
    "from bokeh.transform import factor_cmap\n",
    "\n",
    "import matplotlib\n",
    "import matplotlib.pyplot as plt\n",
    "import numpy as np\n",
    "import pandas as pd\n",
    "import xarray as xr\n",
    "\n",
    "from climatools.atm.absorbers import *\n",
    "\n",
    "import climatools.lblnew.bestfit_params as bestfits\n",
    "from climatools.lblnew import setup_bestfit, setup_overlap\n",
    "import climatools.lblnew.pipeline as pipe_lblnew\n",
    "\n",
    "from climatools.cliradlw.utils import *\n",
    "import climatools.cliradlw.setup as setup_cliradlw\n",
    "import climatools.cliradlw.pipeline as pipe_cliradlw\n",
    "from climatools.cliradlw.dataset import *\n",
    "\n",
    "import climatools.html.html as climahtml\n",
    "from climatools.lblnew.dataio import *\n",
    "from climatools.plot.plot import *\n",
    "\n",
    "from IPython import display"
   ]
  },
  {
   "cell_type": "code",
   "execution_count": 2,
   "metadata": {
    "scrolled": true
   },
   "outputs": [
    {
     "data": {
      "text/html": [
       "\n",
       "    <div class=\"bk-root\">\n",
       "        <a href=\"https://bokeh.pydata.org\" target=\"_blank\" class=\"bk-logo bk-logo-small bk-logo-notebook\"></a>\n",
       "        <span id=\"352f6889-9da5-4de9-b147-13b10eaaea77\">Loading BokehJS ...</span>\n",
       "    </div>"
      ]
     },
     "metadata": {},
     "output_type": "display_data"
    },
    {
     "data": {
      "application/javascript": [
       "\n",
       "(function(root) {\n",
       "  function now() {\n",
       "    return new Date();\n",
       "  }\n",
       "\n",
       "  var force = true;\n",
       "\n",
       "  if (typeof (root._bokeh_onload_callbacks) === \"undefined\" || force === true) {\n",
       "    root._bokeh_onload_callbacks = [];\n",
       "    root._bokeh_is_loading = undefined;\n",
       "  }\n",
       "\n",
       "  var JS_MIME_TYPE = 'application/javascript';\n",
       "  var HTML_MIME_TYPE = 'text/html';\n",
       "  var EXEC_MIME_TYPE = 'application/vnd.bokehjs_exec.v0+json';\n",
       "  var CLASS_NAME = 'output_bokeh rendered_html';\n",
       "\n",
       "  /**\n",
       "   * Render data to the DOM node\n",
       "   */\n",
       "  function render(props, node) {\n",
       "    var script = document.createElement(\"script\");\n",
       "    node.appendChild(script);\n",
       "  }\n",
       "\n",
       "  /**\n",
       "   * Handle when an output is cleared or removed\n",
       "   */\n",
       "  function handleClearOutput(event, handle) {\n",
       "    var cell = handle.cell;\n",
       "\n",
       "    var id = cell.output_area._bokeh_element_id;\n",
       "    var server_id = cell.output_area._bokeh_server_id;\n",
       "    // Clean up Bokeh references\n",
       "    if (id !== undefined) {\n",
       "      Bokeh.index[id].model.document.clear();\n",
       "      delete Bokeh.index[id];\n",
       "    }\n",
       "\n",
       "    if (server_id !== undefined) {\n",
       "      // Clean up Bokeh references\n",
       "      var cmd = \"from bokeh.io.state import curstate; print(curstate().uuid_to_server['\" + server_id + \"'].get_sessions()[0].document.roots[0]._id)\";\n",
       "      cell.notebook.kernel.execute(cmd, {\n",
       "        iopub: {\n",
       "          output: function(msg) {\n",
       "            var element_id = msg.content.text.trim();\n",
       "            Bokeh.index[element_id].model.document.clear();\n",
       "            delete Bokeh.index[element_id];\n",
       "          }\n",
       "        }\n",
       "      });\n",
       "      // Destroy server and session\n",
       "      var cmd = \"import bokeh.io.notebook as ion; ion.destroy_server('\" + server_id + \"')\";\n",
       "      cell.notebook.kernel.execute(cmd);\n",
       "    }\n",
       "  }\n",
       "\n",
       "  /**\n",
       "   * Handle when a new output is added\n",
       "   */\n",
       "  function handleAddOutput(event, handle) {\n",
       "    var output_area = handle.output_area;\n",
       "    var output = handle.output;\n",
       "\n",
       "    // limit handleAddOutput to display_data with EXEC_MIME_TYPE content only\n",
       "    if ((output.output_type != \"display_data\") || (!output.data.hasOwnProperty(EXEC_MIME_TYPE))) {\n",
       "      return\n",
       "    }\n",
       "\n",
       "    var toinsert = output_area.element.find(\".\" + CLASS_NAME.split(' ')[0]);\n",
       "\n",
       "    if (output.metadata[EXEC_MIME_TYPE][\"id\"] !== undefined) {\n",
       "      toinsert[toinsert.length - 1].firstChild.textContent = output.data[JS_MIME_TYPE];\n",
       "      // store reference to embed id on output_area\n",
       "      output_area._bokeh_element_id = output.metadata[EXEC_MIME_TYPE][\"id\"];\n",
       "    }\n",
       "    if (output.metadata[EXEC_MIME_TYPE][\"server_id\"] !== undefined) {\n",
       "      var bk_div = document.createElement(\"div\");\n",
       "      bk_div.innerHTML = output.data[HTML_MIME_TYPE];\n",
       "      var script_attrs = bk_div.children[0].attributes;\n",
       "      for (var i = 0; i < script_attrs.length; i++) {\n",
       "        toinsert[toinsert.length - 1].firstChild.setAttribute(script_attrs[i].name, script_attrs[i].value);\n",
       "      }\n",
       "      // store reference to server id on output_area\n",
       "      output_area._bokeh_server_id = output.metadata[EXEC_MIME_TYPE][\"server_id\"];\n",
       "    }\n",
       "  }\n",
       "\n",
       "  function register_renderer(events, OutputArea) {\n",
       "\n",
       "    function append_mime(data, metadata, element) {\n",
       "      // create a DOM node to render to\n",
       "      var toinsert = this.create_output_subarea(\n",
       "        metadata,\n",
       "        CLASS_NAME,\n",
       "        EXEC_MIME_TYPE\n",
       "      );\n",
       "      this.keyboard_manager.register_events(toinsert);\n",
       "      // Render to node\n",
       "      var props = {data: data, metadata: metadata[EXEC_MIME_TYPE]};\n",
       "      render(props, toinsert[toinsert.length - 1]);\n",
       "      element.append(toinsert);\n",
       "      return toinsert\n",
       "    }\n",
       "\n",
       "    /* Handle when an output is cleared or removed */\n",
       "    events.on('clear_output.CodeCell', handleClearOutput);\n",
       "    events.on('delete.Cell', handleClearOutput);\n",
       "\n",
       "    /* Handle when a new output is added */\n",
       "    events.on('output_added.OutputArea', handleAddOutput);\n",
       "\n",
       "    /**\n",
       "     * Register the mime type and append_mime function with output_area\n",
       "     */\n",
       "    OutputArea.prototype.register_mime_type(EXEC_MIME_TYPE, append_mime, {\n",
       "      /* Is output safe? */\n",
       "      safe: true,\n",
       "      /* Index of renderer in `output_area.display_order` */\n",
       "      index: 0\n",
       "    });\n",
       "  }\n",
       "\n",
       "  // register the mime type if in Jupyter Notebook environment and previously unregistered\n",
       "  if (root.Jupyter !== undefined) {\n",
       "    var events = require('base/js/events');\n",
       "    var OutputArea = require('notebook/js/outputarea').OutputArea;\n",
       "\n",
       "    if (OutputArea.prototype.mime_types().indexOf(EXEC_MIME_TYPE) == -1) {\n",
       "      register_renderer(events, OutputArea);\n",
       "    }\n",
       "  }\n",
       "\n",
       "  \n",
       "  if (typeof (root._bokeh_timeout) === \"undefined\" || force === true) {\n",
       "    root._bokeh_timeout = Date.now() + 5000;\n",
       "    root._bokeh_failed_load = false;\n",
       "  }\n",
       "\n",
       "  var NB_LOAD_WARNING = {'data': {'text/html':\n",
       "     \"<div style='background-color: #fdd'>\\n\"+\n",
       "     \"<p>\\n\"+\n",
       "     \"BokehJS does not appear to have successfully loaded. If loading BokehJS from CDN, this \\n\"+\n",
       "     \"may be due to a slow or bad network connection. Possible fixes:\\n\"+\n",
       "     \"</p>\\n\"+\n",
       "     \"<ul>\\n\"+\n",
       "     \"<li>re-rerun `output_notebook()` to attempt to load from CDN again, or</li>\\n\"+\n",
       "     \"<li>use INLINE resources instead, as so:</li>\\n\"+\n",
       "     \"</ul>\\n\"+\n",
       "     \"<code>\\n\"+\n",
       "     \"from bokeh.resources import INLINE\\n\"+\n",
       "     \"output_notebook(resources=INLINE)\\n\"+\n",
       "     \"</code>\\n\"+\n",
       "     \"</div>\"}};\n",
       "\n",
       "  function display_loaded() {\n",
       "    var el = document.getElementById(\"352f6889-9da5-4de9-b147-13b10eaaea77\");\n",
       "    if (el != null) {\n",
       "      el.textContent = \"BokehJS is loading...\";\n",
       "    }\n",
       "    if (root.Bokeh !== undefined) {\n",
       "      if (el != null) {\n",
       "        el.textContent = \"BokehJS \" + root.Bokeh.version + \" successfully loaded.\";\n",
       "      }\n",
       "    } else if (Date.now() < root._bokeh_timeout) {\n",
       "      setTimeout(display_loaded, 100)\n",
       "    }\n",
       "  }\n",
       "\n",
       "\n",
       "  function run_callbacks() {\n",
       "    try {\n",
       "      root._bokeh_onload_callbacks.forEach(function(callback) { callback() });\n",
       "    }\n",
       "    finally {\n",
       "      delete root._bokeh_onload_callbacks\n",
       "    }\n",
       "    console.info(\"Bokeh: all callbacks have finished\");\n",
       "  }\n",
       "\n",
       "  function load_libs(js_urls, callback) {\n",
       "    root._bokeh_onload_callbacks.push(callback);\n",
       "    if (root._bokeh_is_loading > 0) {\n",
       "      console.log(\"Bokeh: BokehJS is being loaded, scheduling callback at\", now());\n",
       "      return null;\n",
       "    }\n",
       "    if (js_urls == null || js_urls.length === 0) {\n",
       "      run_callbacks();\n",
       "      return null;\n",
       "    }\n",
       "    console.log(\"Bokeh: BokehJS not loaded, scheduling load and callback at\", now());\n",
       "    root._bokeh_is_loading = js_urls.length;\n",
       "    for (var i = 0; i < js_urls.length; i++) {\n",
       "      var url = js_urls[i];\n",
       "      var s = document.createElement('script');\n",
       "      s.src = url;\n",
       "      s.async = false;\n",
       "      s.onreadystatechange = s.onload = function() {\n",
       "        root._bokeh_is_loading--;\n",
       "        if (root._bokeh_is_loading === 0) {\n",
       "          console.log(\"Bokeh: all BokehJS libraries loaded\");\n",
       "          run_callbacks()\n",
       "        }\n",
       "      };\n",
       "      s.onerror = function() {\n",
       "        console.warn(\"failed to load library \" + url);\n",
       "      };\n",
       "      console.log(\"Bokeh: injecting script tag for BokehJS library: \", url);\n",
       "      document.getElementsByTagName(\"head\")[0].appendChild(s);\n",
       "    }\n",
       "  };var element = document.getElementById(\"352f6889-9da5-4de9-b147-13b10eaaea77\");\n",
       "  if (element == null) {\n",
       "    console.log(\"Bokeh: ERROR: autoload.js configured with elementid '352f6889-9da5-4de9-b147-13b10eaaea77' but no matching script tag was found. \")\n",
       "    return false;\n",
       "  }\n",
       "\n",
       "  var js_urls = [\"https://cdn.pydata.org/bokeh/release/bokeh-0.12.16.min.js\", \"https://cdn.pydata.org/bokeh/release/bokeh-widgets-0.12.16.min.js\", \"https://cdn.pydata.org/bokeh/release/bokeh-tables-0.12.16.min.js\", \"https://cdn.pydata.org/bokeh/release/bokeh-gl-0.12.16.min.js\"];\n",
       "\n",
       "  var inline_js = [\n",
       "    function(Bokeh) {\n",
       "      Bokeh.set_log_level(\"info\");\n",
       "    },\n",
       "    \n",
       "    function(Bokeh) {\n",
       "      \n",
       "    },\n",
       "    function(Bokeh) {\n",
       "      console.log(\"Bokeh: injecting CSS: https://cdn.pydata.org/bokeh/release/bokeh-0.12.16.min.css\");\n",
       "      Bokeh.embed.inject_css(\"https://cdn.pydata.org/bokeh/release/bokeh-0.12.16.min.css\");\n",
       "      console.log(\"Bokeh: injecting CSS: https://cdn.pydata.org/bokeh/release/bokeh-widgets-0.12.16.min.css\");\n",
       "      Bokeh.embed.inject_css(\"https://cdn.pydata.org/bokeh/release/bokeh-widgets-0.12.16.min.css\");\n",
       "      console.log(\"Bokeh: injecting CSS: https://cdn.pydata.org/bokeh/release/bokeh-tables-0.12.16.min.css\");\n",
       "      Bokeh.embed.inject_css(\"https://cdn.pydata.org/bokeh/release/bokeh-tables-0.12.16.min.css\");\n",
       "    }\n",
       "  ];\n",
       "\n",
       "  function run_inline_js() {\n",
       "    \n",
       "    if ((root.Bokeh !== undefined) || (force === true)) {\n",
       "      for (var i = 0; i < inline_js.length; i++) {\n",
       "        inline_js[i].call(root, root.Bokeh);\n",
       "      }if (force === true) {\n",
       "        display_loaded();\n",
       "      }} else if (Date.now() < root._bokeh_timeout) {\n",
       "      setTimeout(run_inline_js, 100);\n",
       "    } else if (!root._bokeh_failed_load) {\n",
       "      console.log(\"Bokeh: BokehJS failed to load within specified timeout.\");\n",
       "      root._bokeh_failed_load = true;\n",
       "    } else if (force !== true) {\n",
       "      var cell = $(document.getElementById(\"352f6889-9da5-4de9-b147-13b10eaaea77\")).parents('.cell').data().cell;\n",
       "      cell.output_area.append_execute_result(NB_LOAD_WARNING)\n",
       "    }\n",
       "\n",
       "  }\n",
       "\n",
       "  if (root._bokeh_is_loading === 0) {\n",
       "    console.log(\"Bokeh: BokehJS loaded, going straight to plotting\");\n",
       "    run_inline_js();\n",
       "  } else {\n",
       "    load_libs(js_urls, function() {\n",
       "      console.log(\"Bokeh: BokehJS plotting callback run at\", now());\n",
       "      run_inline_js();\n",
       "    });\n",
       "  }\n",
       "}(window));"
      ],
      "application/vnd.bokehjs_load.v0+json": "\n(function(root) {\n  function now() {\n    return new Date();\n  }\n\n  var force = true;\n\n  if (typeof (root._bokeh_onload_callbacks) === \"undefined\" || force === true) {\n    root._bokeh_onload_callbacks = [];\n    root._bokeh_is_loading = undefined;\n  }\n\n  \n\n  \n  if (typeof (root._bokeh_timeout) === \"undefined\" || force === true) {\n    root._bokeh_timeout = Date.now() + 5000;\n    root._bokeh_failed_load = false;\n  }\n\n  var NB_LOAD_WARNING = {'data': {'text/html':\n     \"<div style='background-color: #fdd'>\\n\"+\n     \"<p>\\n\"+\n     \"BokehJS does not appear to have successfully loaded. If loading BokehJS from CDN, this \\n\"+\n     \"may be due to a slow or bad network connection. Possible fixes:\\n\"+\n     \"</p>\\n\"+\n     \"<ul>\\n\"+\n     \"<li>re-rerun `output_notebook()` to attempt to load from CDN again, or</li>\\n\"+\n     \"<li>use INLINE resources instead, as so:</li>\\n\"+\n     \"</ul>\\n\"+\n     \"<code>\\n\"+\n     \"from bokeh.resources import INLINE\\n\"+\n     \"output_notebook(resources=INLINE)\\n\"+\n     \"</code>\\n\"+\n     \"</div>\"}};\n\n  function display_loaded() {\n    var el = document.getElementById(\"352f6889-9da5-4de9-b147-13b10eaaea77\");\n    if (el != null) {\n      el.textContent = \"BokehJS is loading...\";\n    }\n    if (root.Bokeh !== undefined) {\n      if (el != null) {\n        el.textContent = \"BokehJS \" + root.Bokeh.version + \" successfully loaded.\";\n      }\n    } else if (Date.now() < root._bokeh_timeout) {\n      setTimeout(display_loaded, 100)\n    }\n  }\n\n\n  function run_callbacks() {\n    try {\n      root._bokeh_onload_callbacks.forEach(function(callback) { callback() });\n    }\n    finally {\n      delete root._bokeh_onload_callbacks\n    }\n    console.info(\"Bokeh: all callbacks have finished\");\n  }\n\n  function load_libs(js_urls, callback) {\n    root._bokeh_onload_callbacks.push(callback);\n    if (root._bokeh_is_loading > 0) {\n      console.log(\"Bokeh: BokehJS is being loaded, scheduling callback at\", now());\n      return null;\n    }\n    if (js_urls == null || js_urls.length === 0) {\n      run_callbacks();\n      return null;\n    }\n    console.log(\"Bokeh: BokehJS not loaded, scheduling load and callback at\", now());\n    root._bokeh_is_loading = js_urls.length;\n    for (var i = 0; i < js_urls.length; i++) {\n      var url = js_urls[i];\n      var s = document.createElement('script');\n      s.src = url;\n      s.async = false;\n      s.onreadystatechange = s.onload = function() {\n        root._bokeh_is_loading--;\n        if (root._bokeh_is_loading === 0) {\n          console.log(\"Bokeh: all BokehJS libraries loaded\");\n          run_callbacks()\n        }\n      };\n      s.onerror = function() {\n        console.warn(\"failed to load library \" + url);\n      };\n      console.log(\"Bokeh: injecting script tag for BokehJS library: \", url);\n      document.getElementsByTagName(\"head\")[0].appendChild(s);\n    }\n  };var element = document.getElementById(\"352f6889-9da5-4de9-b147-13b10eaaea77\");\n  if (element == null) {\n    console.log(\"Bokeh: ERROR: autoload.js configured with elementid '352f6889-9da5-4de9-b147-13b10eaaea77' but no matching script tag was found. \")\n    return false;\n  }\n\n  var js_urls = [\"https://cdn.pydata.org/bokeh/release/bokeh-0.12.16.min.js\", \"https://cdn.pydata.org/bokeh/release/bokeh-widgets-0.12.16.min.js\", \"https://cdn.pydata.org/bokeh/release/bokeh-tables-0.12.16.min.js\", \"https://cdn.pydata.org/bokeh/release/bokeh-gl-0.12.16.min.js\"];\n\n  var inline_js = [\n    function(Bokeh) {\n      Bokeh.set_log_level(\"info\");\n    },\n    \n    function(Bokeh) {\n      \n    },\n    function(Bokeh) {\n      console.log(\"Bokeh: injecting CSS: https://cdn.pydata.org/bokeh/release/bokeh-0.12.16.min.css\");\n      Bokeh.embed.inject_css(\"https://cdn.pydata.org/bokeh/release/bokeh-0.12.16.min.css\");\n      console.log(\"Bokeh: injecting CSS: https://cdn.pydata.org/bokeh/release/bokeh-widgets-0.12.16.min.css\");\n      Bokeh.embed.inject_css(\"https://cdn.pydata.org/bokeh/release/bokeh-widgets-0.12.16.min.css\");\n      console.log(\"Bokeh: injecting CSS: https://cdn.pydata.org/bokeh/release/bokeh-tables-0.12.16.min.css\");\n      Bokeh.embed.inject_css(\"https://cdn.pydata.org/bokeh/release/bokeh-tables-0.12.16.min.css\");\n    }\n  ];\n\n  function run_inline_js() {\n    \n    if ((root.Bokeh !== undefined) || (force === true)) {\n      for (var i = 0; i < inline_js.length; i++) {\n        inline_js[i].call(root, root.Bokeh);\n      }if (force === true) {\n        display_loaded();\n      }} else if (Date.now() < root._bokeh_timeout) {\n      setTimeout(run_inline_js, 100);\n    } else if (!root._bokeh_failed_load) {\n      console.log(\"Bokeh: BokehJS failed to load within specified timeout.\");\n      root._bokeh_failed_load = true;\n    } else if (force !== true) {\n      var cell = $(document.getElementById(\"352f6889-9da5-4de9-b147-13b10eaaea77\")).parents('.cell').data().cell;\n      cell.output_area.append_execute_result(NB_LOAD_WARNING)\n    }\n\n  }\n\n  if (root._bokeh_is_loading === 0) {\n    console.log(\"Bokeh: BokehJS loaded, going straight to plotting\");\n    run_inline_js();\n  } else {\n    load_libs(js_urls, function() {\n      console.log(\"Bokeh: BokehJS plotting callback run at\", now());\n      run_inline_js();\n    });\n  }\n}(window));"
     },
     "metadata": {},
     "output_type": "display_data"
    }
   ],
   "source": [
    "output_notebook()"
   ]
  },
  {
   "cell_type": "code",
   "execution_count": 3,
   "metadata": {
    "collapsed": true
   },
   "outputs": [],
   "source": [
    "MOL = 'h2o'"
   ]
  },
  {
   "cell_type": "code",
   "execution_count": 4,
   "metadata": {
    "collapsed": true
   },
   "outputs": [],
   "source": [
    "ATMPRO = dict(mls=294, saw=257, trp=300)"
   ]
  },
  {
   "cell_type": "code",
   "execution_count": 5,
   "metadata": {
    "collapsed": true
   },
   "outputs": [],
   "source": [
    "COMMITNUMBER = '1013f91'"
   ]
  },
  {
   "cell_type": "code",
   "execution_count": 6,
   "metadata": {
    "collapsed": true
   },
   "outputs": [],
   "source": [
    "client = pymongo.MongoClient('localhost', 27017)"
   ]
  },
  {
   "cell_type": "code",
   "execution_count": 7,
   "metadata": {
    "collapsed": true
   },
   "outputs": [],
   "source": [
    "def show_html(s):\n",
    "    display.display(display.HTML(s))\n",
    "\n",
    "def show_markdown(s):\n",
    "    display.display(display.Markdown(s))"
   ]
  },
  {
   "cell_type": "code",
   "execution_count": 8,
   "metadata": {
    "collapsed": true
   },
   "outputs": [],
   "source": [
    "def to_lblnewparam(param=None):\n",
    "    '''\n",
    "    Convert clirad's input parameter dictionary \n",
    "    into something like lblnew's.\n",
    "    '''\n",
    "    band = param['band'][0]\n",
    "    band = mapband_new2old()[band]\n",
    "    atmpro = param['atmpro']\n",
    "    tsfc = param['tsfc']\n",
    "    \n",
    "    p = {'band': band, \n",
    "         'atmpro': atmpro, 'tsfc': tsfc,\n",
    "         'dv': .001, 'nv': 1000}\n",
    "    \n",
    "    if len(param['molecule']) > 1: p['molecule'] = param['molecule']\n",
    "    else: \n",
    "        molecule, conc = list(param['molecule'].items())[0]\n",
    "        p['molecule'] = molecule\n",
    "        if conc == 'atmpro': p['conc'] = None\n",
    "        else: p['conc'] = conc\n",
    "    return p\n",
    "\n",
    "def make_query(param=None):\n",
    "    molecules = {'h2o', 'co2', 'o3', 'n2o', 'ch4'}\n",
    "    q = {}\n",
    "    for n, v in param.items():\n",
    "        if n == 'molecule' and type(v) == dict:\n",
    "            for mol, conc in v.items():\n",
    "                q[f'param.molecule.{mol}'] = conc\n",
    "            for mol in molecules - set(v.keys()):\n",
    "                q[f'param.molecule.{mol}'] = {'$exists': 0}\n",
    "        else:\n",
    "            q[f'param.{n}'] = v\n",
    "    return q"
   ]
  },
  {
   "cell_type": "code",
   "execution_count": 9,
   "metadata": {
    "collapsed": true
   },
   "outputs": [],
   "source": [
    "def subparam_atm_clirad(atmpro='mls'):\n",
    "    commitnumber = COMMITNUMBER\n",
    "    atm = nongreys_byband()\n",
    "    band = [band for band, molconcs in atm.items() if MOL in molconcs]\n",
    "    molecule = {mol: conc for _, molconcs in atm.items() \n",
    "                for mol, conc in molconcs.items() if mol == MOL}\n",
    "    return dict(commitnumber=commitnumber,\n",
    "                band=band, molecule=molecule, \n",
    "                atmpro=atmpro, tsfc=ATMPRO[atmpro])\n",
    "\n",
    "def clirad_data_atm(params_atm=None):\n",
    "    for p in params_atm:\n",
    "        q = make_query(p)\n",
    "        r = client.cliradnew.lw.find_one(q)\n",
    "        fluxs, cools = [], []\n",
    "        if not r: print('No data found for', p['molecule'], p['band'])\n",
    "        else: \n",
    "            fluxs.append(load_output_file(io.StringIO(r['output_flux'])))\n",
    "            cools.append(load_output_file(io.StringIO(r['output_coolr'])))\n",
    "    return dict(flux=sum(fluxs), cool=sum(cools))"
   ]
  },
  {
   "cell_type": "code",
   "execution_count": 10,
   "metadata": {
    "collapsed": true,
    "scrolled": false
   },
   "outputs": [],
   "source": [
    "def load_lblnew_data(r):\n",
    "    '''\n",
    "    Loads a lblnew-bestfit mongodb document's fluxes and cooling rates.\n",
    "    '''\n",
    "    if 'ng_refs' in r['param']:\n",
    "        ns = {'ds_flux_crd': 'output_flux',\n",
    "              'ds_cool_crd': 'output_coolr',\n",
    "              'ds_flux_wgt': 'output_wfluxg',\n",
    "              'ds_cool_wgt': 'output_wcoolrg'}\n",
    "    else:\n",
    "        ns = {'ds_flux_crd': 'output_flux',\n",
    "              'ds_cool_crd': 'output_coolr',\n",
    "              'ds_flux_wgt': 'output_wflux',\n",
    "              'ds_cool_wgt': 'output_wcoolr'}\n",
    "    return {n: load_output_file(io.StringIO(r[s])) for n, s in ns.items()}\n",
    "\n",
    "def subparams_atm_lblnew(atmpro='mls'):\n",
    "    '''\n",
    "    Returns the list of {band, conc, molecule} dictionaries that\n",
    "    represent the model atmosphere.\n",
    "    '''  \n",
    "    atm = nongreys_byband()\n",
    "    subparams_clirad = [dict(band=[band], \n",
    "                             molecule={mol: conc for mol, conc in molconc.items() if mol == MOL},\n",
    "                             atmpro=atmpro, tsfc=ATMPRO[atmpro]) \n",
    "                        for band, molconc in atm.items() if MOL in molconc]\n",
    "    return [to_lblnewparam(p) for p in subparams_clirad]\n",
    "\n",
    "def crd_data_atm(params_atm=None):\n",
    "    '''\n",
    "    Returns Dataset containing CRD fluxes and cooling rates at\n",
    "    different pressures and spectral bands.\n",
    "    '''\n",
    "    results_atm = {}\n",
    "    for p in params_atm:\n",
    "        if isinstance(p['molecule'], dict): \n",
    "            collection = client.lblnew.overlap_lw\n",
    "        else: \n",
    "            collection = client.lblnew.bestfit_lw\n",
    "        \n",
    "        q = make_query(p)\n",
    "        r = collection.find_one(q)\n",
    "        if not r: print('No data found for', p['molecule'], p['band'])\n",
    "        else: results_atm[r['param']['band']] = load_lblnew_data(r)\n",
    "\n",
    "    bands = [mapband_old2new()[b] for b, _ in results_atm.items()]\n",
    "    fluxs = [d['ds_flux_crd'] for _, d in results_atm.items()]\n",
    "    cools = [d['ds_cool_crd'] for _, d in results_atm.items()]\n",
    "    \n",
    "    d = {}\n",
    "    d['flux'] = xr.concat(fluxs, dim=bands).rename({'concat_dim': 'band'})\n",
    "    d['cool'] = xr.concat(cools, dim=bands).rename({'concat_dim': 'band'})\n",
    "    return d"
   ]
  },
  {
   "cell_type": "code",
   "execution_count": 11,
   "metadata": {
    "collapsed": true
   },
   "outputs": [],
   "source": [
    "import rtmtools.clirad.sw.wrangle as cliradwrangle\n",
    "\n",
    "def oldclirad_data_atm():\n",
    "    '''\n",
    "    Load the OLD clirad's results. mls only.\n",
    "    '''\n",
    "    fpath = os.path.join('/chia_cluster/home/jackyu/radiation',\n",
    "                         'clirad-lw',\n",
    "                         'LW',\n",
    "                         'examples',\n",
    "                         'mls75_h2o_atmpro_co2_.0004_o3_atmpro_n2o_3.2e-7_ch4_1.8e-6_H2012',\n",
    "                         'OUTPUT_CLIRAD.dat')\n",
    "    \n",
    "    ds = cliradwrangle.load_OUTPUT_CLIRAD(readfrom=fpath)\n",
    "    \n",
    "    ds_cool = xr.Dataset()\n",
    "    ds_cool.coords['pressure'] = ('pressure', ds['layer_pressure'])\n",
    "    ds_cool.coords['band'] = ('band', ds['spectral_band'])\n",
    "    ds_cool['coolrg'] = (('band', 'pressure'), - ds['heating_rate'])\n",
    "    \n",
    "    ds_flux = xr.Dataset()\n",
    "    ds_flux.coords['pressure'] = ('pressure', ds['level_pressure'])\n",
    "    ds_flux.coords['band'] = ('band', ds['spectral_band'])\n",
    "    ds_flux['flug'] = (('band', 'pressure'), ds['flux_up'])\n",
    "    ds_flux['fldg'] = (('band', 'pressure'), ds['flux_down'])\n",
    "    ds_flux['fnetg'] = (('band', 'pressure'), ds['net_flux'])\n",
    "    \n",
    "    \n",
    "    d = {}\n",
    "    d['cool'] = ds_cool\n",
    "    d['flux'] = ds_flux\n",
    "    return d"
   ]
  },
  {
   "cell_type": "code",
   "execution_count": 12,
   "metadata": {
    "collapsed": true
   },
   "outputs": [],
   "source": [
    "def show_makeup():\n",
    "    df = pd.DataFrame()\n",
    "\n",
    "    for band, molecule in nongreys_byband().items():\n",
    "        for name, conc in molecule.items():\n",
    "            if name == MOL:\n",
    "                df.loc[name, band] = str(conc)\n",
    "\n",
    "    df = df.fillna(0)\n",
    "    df.columns.name = 'clirad band'\n",
    "    df.index.name = 'molecule'\n",
    "    \n",
    "    display.display(df)\n",
    "    \n",
    "    display.display(\n",
    "        display.Markdown('*TABLE.* Non-grey absorbers in the atmosphere.'))\n",
    "\n",
    "\n",
    "def show_grey_makeup():\n",
    "    df = pd.DataFrame()\n",
    "    \n",
    "    for band, molecule in greyabsorbers_by_band_atm().items():\n",
    "        if molecule == None:\n",
    "            pass\n",
    "        else:\n",
    "            for name, conc in molecule.items():\n",
    "                df.loc[name, band] = str(conc)\n",
    "                \n",
    "    df = df.fillna(0)\n",
    "    df.columns.name = 'clirad band'\n",
    "    df.index.name = 'absorber'\n",
    "    \n",
    "    display.display(df)\n",
    "    display.display(\n",
    "        display.Markdown('*TABLE.* Grey absorbers in the atmosphere.')\n",
    "    )"
   ]
  },
  {
   "cell_type": "code",
   "execution_count": 13,
   "metadata": {
    "collapsed": true
   },
   "outputs": [],
   "source": [
    "def fmt_cool(ds_in):\n",
    "    ds = ds_in.copy(deep=True)\n",
    "    dims = ['igg', 'g', 'i']\n",
    "    for dim in dims:\n",
    "        if dim in ds:\n",
    "            if ds[dim].shape == (1,): ds = ds.squeeze(dim).drop(dim)\n",
    "            elif ds[dim].shape == (): ds = ds.drop(dim)\n",
    "    if 'band' in ds.dims:\n",
    "        try:\n",
    "            ds = ds.squeeze('band')\n",
    "        except ValueError:\n",
    "            ds = ds.sum('band')     \n",
    "    return ds['coolrg']\n",
    "\n",
    "def nice_xlims(pltdata=None, prange=None):\n",
    "    \n",
    "    def get_slice(srs):\n",
    "        return srs.sel(pressure=slice(*prange))\n",
    "    \n",
    "    srss = [d['srs'] for d in pltdata]\n",
    "    vmin = min([get_slice(srs).min() for srs in srss])\n",
    "    vmax = max([get_slice(srs).max() for srs in srss])\n",
    "    dv = (vmax - vmin) * .01\n",
    "    return float(vmin - dv), float(vmax + dv)\n",
    " \n",
    "def plt_cool_bokeh(pltdata=None, \n",
    "                   y_axis_type='linear', prange=(50, 1050)):\n",
    "    \n",
    "    ymin = 1e-2 \n",
    "    ymax = 1020\n",
    "    \n",
    "    p2 = figure(y_axis_type=y_axis_type, plot_width=300)\n",
    "    xmin, xmax = nice_xlims(pltdata, prange=prange)\n",
    "    \n",
    "    rs = []\n",
    "    for d in pltdata:\n",
    "        rd = []\n",
    "        if 'marker' in d:\n",
    "            r_mark = getattr(p2, d['marker'])(d['srs'].values, \n",
    "                        d['srs'].coords['pressure'].values,\n",
    "                        color=d['color'], alpha=.7)\n",
    "            rd.append(r_mark)\n",
    "        r_line = p2.line(d['srs'].values, \n",
    "                         d['srs'].coords['pressure'].values,\n",
    "                         color=d['color'], alpha=d['alpha'], \n",
    "                         line_width=d['line_width'], \n",
    "                         line_dash=d['line_dash'])\n",
    "        rd.append(r_line)\n",
    "      \n",
    "        rs.append(rd)\n",
    "        \n",
    "    p2.y_range = Range1d(ymax, ymin)  \n",
    "    p2.yaxis.axis_label = 'pressure [mb]'\n",
    "    \n",
    "    p2.x_range = Range1d(xmin, xmax)\n",
    "    p2.xaxis.axis_label = 'cooling rate [K/day]'\n",
    "    \n",
    "    items = [(d['label'], r) for r, d in zip(rs, pltdata)]\n",
    "    legend = Legend(items=items, location=(10, 0))\n",
    "    legend.label_text_font_size = '8pt'\n",
    "    p2.add_layout(legend, 'above')\n",
    "    p2.legend.orientation = 'horizontal'\n",
    "    p2.legend.location = 'top_center'\n",
    "    \n",
    "    return p2"
   ]
  },
  {
   "cell_type": "code",
   "execution_count": 14,
   "metadata": {
    "collapsed": true,
    "scrolled": false
   },
   "outputs": [],
   "source": [
    "def pltdata_cool(atmpro='mls'):\n",
    "    ds_clirad = clirad_data_atm(params_atm=[subparam_atm_clirad(atmpro=atmpro)])['cool']\n",
    "    ds_crd = crd_data_atm(params_atm=subparams_atm_lblnew(atmpro=atmpro))['cool']\n",
    "\n",
    "    colors = all_palettes['Set1'][4]\n",
    "    \n",
    "    data = [\n",
    "        {'label': 'CLIRAD',\n",
    "         'srs': fmt_cool(ds_clirad),\n",
    "         'line_dash': 'dashed', 'line_width': 5,\n",
    "         'color': colors[0], 'alpha': .6},\n",
    "        {'label': 'CRD',\n",
    "         'srs': fmt_cool(ds_crd),\n",
    "         'line_dash': 'solid', 'line_width': 1.5,\n",
    "         'marker': 'circle', 'marker_size': 5,\n",
    "         'color': colors[2], 'alpha': 1}\n",
    "    ]\n",
    "    \n",
    "    # include old CLIRAD's results for mls profile\n",
    "#    if atmpro == 'mls':\n",
    "#        d_oldclirad = oldclirad_data_atm()\n",
    "#        ds_oldclirad = d_oldclirad['cool']        \n",
    "#        data.append(\n",
    "#            {'label': 'old CLIRAD (H2012)',\n",
    "#             'srs': fmt_cool(ds_oldclirad),\n",
    "#             'line_dash': 'solid', 'line_width': 1.5,\n",
    "#             'marker': 'square', 'marker_size': 3,\n",
    "#             'color': colors[3], 'alpha': .5})\n",
    "    return data\n",
    "\n",
    "\n",
    "def pltdata_cooldiff(atmpro='mls'):\n",
    "    ds_clirad = clirad_data_atm(params_atm=[subparam_atm_clirad(atmpro=atmpro)])['cool']\n",
    "    ds_crd = crd_data_atm(params_atm=subparams_atm_lblnew(atmpro=atmpro))['cool']    \n",
    "    \n",
    "    ds_diff = ds_clirad - ds_crd\n",
    "    \n",
    "    colors = all_palettes['Set1'][4]\n",
    "    \n",
    "    data = [\n",
    "        {'label': 'CLIRAD - CRD',\n",
    "         'srs': fmt_cool(ds_diff),\n",
    "         'line_dash': 'solid', 'line_width': 1.5, \n",
    "         'marker': 'circle', 'marker_size': 7,\n",
    "         'color': colors[3], 'alpha': .8}\n",
    "    ]\n",
    "    \n",
    "    # include old CLIRAD's results for mls profile\n",
    "#    if atmpro == 'mls':\n",
    "#        d_oldclirad = oldclirad_data_atm()\n",
    "#        ds_oldclirad = d_oldclirad['cool']\n",
    "#        ds_oldclirad.coords['pressure'] = ds_crd.coords['pressure']\n",
    "#        ds_diff_old = ds_oldclirad.sum('band') - ds_crd.sum('band')\n",
    "#        data.append(\n",
    "#            {'label': 'old CLIRAD (H2012) - CRD',\n",
    "#             'srs': fmt_cool(ds_diff_old),\n",
    "#             'line_dash': 'dashed', 'line_width': 4,\n",
    "#             'color': colors[1], 'alpha': .5}\n",
    "#        )\n",
    "    return data\n",
    "\n",
    "\n",
    "def show_cool(atmpro='mls'):\n",
    "    data_cool = pltdata_cool(atmpro=atmpro)\n",
    "    p_cool_liny = plt_cool_bokeh(pltdata=data_cool)\n",
    "    p_cool_logy = plt_cool_bokeh(pltdata=data_cool, \n",
    "                                 y_axis_type='log',\n",
    "                                 prange=(.01, 200))\n",
    "    \n",
    "    data_cooldiff = pltdata_cooldiff(atmpro=atmpro)\n",
    "    p_cooldiff_logy = plt_cool_bokeh(pltdata=data_cooldiff,\n",
    "                                     y_axis_type='log',\n",
    "                                     prange=(.01, 200))\n",
    "    \n",
    "    everything = gridplot(p_cool_liny, p_cool_logy, \n",
    "                          p_cooldiff_logy,\n",
    "                          ncols=3)\n",
    "    show(everything)\n",
    "    display.display(\n",
    "        display.Markdown('*FIGURE.* Cooling rates & difference.'))\n",
    "    "
   ]
  },
  {
   "cell_type": "code",
   "execution_count": 15,
   "metadata": {
    "collapsed": true,
    "scrolled": false
   },
   "outputs": [],
   "source": [
    "def fmt_flux(ds_in):\n",
    "    ds = ds_in.copy(deep=True)\n",
    "    for dim in ['band', 'g']:\n",
    "        if dim in ds: ds = ds.sum(dim)\n",
    "        \n",
    "    for dim in ['i', 'igg', 'g']:\n",
    "        if dim in ds:\n",
    "            if ds[dim].shape == (1,): ds = ds.squeeze(dim).drop(dim)\n",
    "            elif ds[dim].shape == (): ds = ds.drop(dim)\n",
    "    return ds\n",
    "\n",
    "def hist_band_vs_flux(da, title='Title'):\n",
    "    da = da.sel(i=1)\n",
    "    bands = [str(b.values) for b in da['band']]\n",
    "    source = ColumnDataSource(data={'band': bands, 'flux': da.values})\n",
    "    p = figure(x_range=bands, title=title)\n",
    "    p.vbar(source=source, x='band', top='flux', width=.9)\n",
    "    p.yaxis.axis_label = 'flux (W m-2)'\n",
    "    p.xaxis.axis_label = 'spectral band'\n",
    "    return p\n",
    "\n",
    "def show_hist_flux(atmpro='mls'):\n",
    "    ds_crd = crd_data_atm(params_atm=subparams_atm_lblnew(atmpro=atmpro))['flux']\n",
    "    ds_clirad = clirad_data_atm(params_atm=[subparam_atm_clirad(atmpro=atmpro)])['flux']\n",
    "    \n",
    "    ip, varname = 0, 'flug'\n",
    "    da = (ds_clirad - ds_crd).isel(pressure=ip)[varname]\n",
    "    p_toa = hist_band_vs_flux(da, title='TOA flux. CLIRAD - CRD.')\n",
    "\n",
    "    ip, varname = -1, 'fldg'\n",
    "    da = (ds_clirad - ds_crd).isel(pressure=ip)[varname]\n",
    "    p_sfc = hist_band_vs_flux(da, title='SFC flux. CLIRAD - CRD.')    \n",
    "    \n",
    "    atm_crd = (ds_crd.isel(pressure=0) - ds_crd.isel(pressure=-1))['fnetg']\n",
    "    atm_clirad = (ds_clirad.isel(pressure=0) - ds_clirad.isel(pressure=-1))['fnetg']\n",
    "    da = atm_clirad - atm_crd\n",
    "    p_atm = hist_band_vs_flux(da, title='Atmosphere heating. CLIRAD - CRD.')\n",
    "\n",
    "    everything = gridplot(p_toa, p_sfc, p_atm, ncols=3, plot_width=300, plot_height=300)\n",
    "    \n",
    "    show(everything)\n",
    "    display.display(\n",
    "        display.Markdown('*FIGURE.* Difference between CLIRAD and CRD'\n",
    "          ' in TOA, SFC and net atmosphere flux,'\n",
    "          ' in each spectral band.'))\n",
    "\n",
    "def show_tb_flux(atmpro='mls'):\n",
    "    \n",
    "    def fmt(da_in):\n",
    "        da = da_in.copy(deep=True)\n",
    "        if 'igg' in da.dims:\n",
    "            da = da.sel(igg=1)\n",
    "            \n",
    "        if 'g' in da.dims:\n",
    "            da = da.sum('g')\n",
    "        \n",
    "        if 'band' in da.dims:\n",
    "            try:\n",
    "                da = da.squeeze('band')\n",
    "            except ValueError:\n",
    "                da = da.sum('band')\n",
    "                \n",
    "        return da\n",
    "    \n",
    "    ds_crd = crd_data_atm(params_atm=subparams_atm_lblnew(atmpro=atmpro))['flux']\n",
    "    olr_crd = ds_crd['flug'].isel(pressure=0)\n",
    "    sfc_crd = ds_crd['fldg'].isel(pressure=-1)\n",
    "    atm_crd = (ds_crd.isel(pressure=0) - ds_crd.isel(pressure=-1))['fnetg']\n",
    "    \n",
    "    ds_clirad = clirad_data_atm(params_atm=[subparam_atm_clirad(atmpro=atmpro)])['flux']\n",
    "    olr_clirad = ds_clirad['flug'].isel(pressure=0)\n",
    "    sfc_clirad = ds_clirad['fldg'].isel(pressure=-1)\n",
    "    atm_clirad = (ds_clirad.isel(pressure=0) - ds_clirad.isel(pressure=-1))['fnetg']\n",
    "    \n",
    "#    if atmpro == 'mls':\n",
    "#        ds_oldclirad = oldclirad_data_atm()['flux']\n",
    "#        ds_oldclirad['pressure'] = ds_crd['pressure']\n",
    "#        olr_oldclirad = ds_oldclirad['flug'].isel(pressure=0)\n",
    "#        sfc_oldclirad = ds_oldclirad['fldg'].isel(pressure=-1)\n",
    "#        atm_oldclirad = (ds_oldclirad.isel(pressure=0)\n",
    "#                         - ds_oldclirad.isel(pressure=-1))['fnetg']\n",
    "        \n",
    "    df = pd.DataFrame()\n",
    "    df.index.name = 'Sum over bands'\n",
    "    \n",
    "#    if atmpro == 'mls':\n",
    "#        df.loc['old CLIRAD - CRD', 'OLR flux'] = (fmt(olr_oldclirad) - fmt(olr_crd)).values\n",
    "#        df.loc['old CLIRAD - CRD', 'SFC flux'] = (fmt(sfc_oldclirad) - fmt(sfc_crd)).values\n",
    "#        df.loc['old CLIRAD - CRD', 'ATM heating'] = (fmt(atm_oldclirad) - fmt(atm_crd)).values\n",
    "    \n",
    "    df.loc['CLIRAD - CRD', 'OLR flux'] = (fmt(olr_clirad) - fmt(olr_crd)).values\n",
    "    df.loc['CLIRAD - CRD', 'SFC flux'] = (fmt(sfc_clirad) - fmt(sfc_crd)).values\n",
    "    df.loc['CLIRAD - CRD', 'ATM heating'] = (fmt(atm_clirad) - fmt(atm_crd)).values\n",
    "\n",
    "    df.loc['CRD', 'OLR flux'] = fmt(olr_crd).values\n",
    "    df.loc['CRD', 'SFC flux'] = fmt(sfc_crd).values\n",
    "    df.loc['CRD', 'ATM heating'] = fmt(atm_crd).values\n",
    "        \n",
    "    df = df.astype('float').round(2)\n",
    "    \n",
    "    display.display(df)\n",
    "    display.display(\n",
    "        display.Markdown('*TABLE.* Difference between CLIRAD and CRD'\n",
    "          ' in TOA, SFC and net atmosphere flux,'\n",
    "          ' over all spectral bands. CRD\\'s'\n",
    "          ' TOA, SFC and net atmosphere flux,'\n",
    "          ' over all spectral bands.'))"
   ]
  },
  {
   "cell_type": "code",
   "execution_count": 16,
   "metadata": {
    "collapsed": true,
    "scrolled": true
   },
   "outputs": [],
   "source": [
    "def cool_tofile(atmpro=None):\n",
    "    dcli = clirad_data_atm(params_atm=[subparam_atm_clirad(atmpro=atmpro)])\n",
    "    dcrd = crd_data_atm(params_atm=subparams_atm_lblnew(atmpro=atmpro))\n",
    "    \n",
    "    dcli = dcli['cool'].sel(i=1).drop('i').sum('band')\n",
    "    dcrd = dcrd['cool'].sum('band')\n",
    "    \n",
    "    dcli = dcli['coolrg'].to_dataframe()\n",
    "    dcrd = dcrd['coolrg'].to_dataframe()\n",
    "    \n",
    "    dcli = dcli.set_index('layer', append=True)\n",
    "    dcrd = dcrd.set_index('layer', append=True)\n",
    "    \n",
    "    ddif = dcli - dcrd\n",
    "    \n",
    "    df = pd.concat([dcrd, dcli, ddif], axis=1, keys=['CRD', 'CLIRAD', 'CLIRAD - CRD'])\n",
    "    return df\n",
    "\n",
    "\n",
    "def flux_tofile(atmpro=None):\n",
    "    tropopauses = {'mls': 40, 'saw': 45, 'trp': 37}\n",
    "    ilevels = [0, tropopauses[atmpro], -1]\n",
    "    \n",
    "    dcli = clirad_data_atm(params_atm=[subparam_atm_clirad(atmpro=atmpro)])\n",
    "    dcrd = crd_data_atm(params_atm=subparams_atm_lblnew(atmpro=atmpro))\n",
    "    \n",
    "    dcli = dcli['flux'].sel(i=1).drop('i').sum('band').isel(pressure=ilevels)\n",
    "    dcrd = dcrd['flux'].sum('band').isel(pressure=ilevels)\n",
    "    \n",
    "    dcli = dcli.to_dataframe()\n",
    "    dcrd = dcrd.to_dataframe()\n",
    "    \n",
    "    dcli = dcli.set_index('level', append=True)\n",
    "    dcrd = dcrd.set_index('level', append=True)\n",
    "    \n",
    "    ddif = dcli - dcrd\n",
    "    \n",
    "    df = pd.concat([dcrd, dcli, ddif], axis=1, keys=['CRD', 'CLIRAD', 'CLIRAD - CRD'])\n",
    "    return df\n",
    "\n",
    "\n",
    "def script_tofile():\n",
    "    fname = f'results_{MOL}atm_cliradsinglerun.xlsx'\n",
    "    writer = pd.ExcelWriter(fname)\n",
    "    for atmpro in ('mls', 'saw', 'trp'):\n",
    "        dflux = flux_tofile(atmpro=atmpro)\n",
    "        dflux.to_excel(writer, f'flux {atmpro}')\n",
    "        \n",
    "        dcool = cool_tofile(atmpro=atmpro)\n",
    "        dcool.to_excel(writer, f'cool {atmpro}')\n",
    "        \n",
    "    html = f'Download: <a href=\"./{fname}\">{fname}</a>'\n",
    "    show_html(html)\n",
    "\n",
    "        "
   ]
  },
  {
   "cell_type": "code",
   "execution_count": 17,
   "metadata": {
    "scrolled": false
   },
   "outputs": [
    {
     "data": {
      "text/markdown": [
       "## Results over entire range of molecules and spectral bands"
      ],
      "text/plain": [
       "<IPython.core.display.Markdown object>"
      ]
     },
     "metadata": {},
     "output_type": "display_data"
    },
    {
     "data": {
      "text/markdown": [
       "### Table of Contents"
      ],
      "text/plain": [
       "<IPython.core.display.Markdown object>"
      ]
     },
     "metadata": {},
     "output_type": "display_data"
    },
    {
     "data": {
      "text/html": [
       "<a href=\"#Makeup_of_atmosphere.\">Makeup of atmosphere.</a>"
      ],
      "text/plain": [
       "<IPython.core.display.HTML object>"
      ]
     },
     "metadata": {},
     "output_type": "display_data"
    },
    {
     "data": {
      "text/markdown": [
       "**mid-latitude summer**"
      ],
      "text/plain": [
       "<IPython.core.display.Markdown object>"
      ]
     },
     "metadata": {},
     "output_type": "display_data"
    },
    {
     "data": {
      "text/html": [
       "<a href=\"#Cooling_rates._mls.\">Cooling rates. mls.</a>"
      ],
      "text/plain": [
       "<IPython.core.display.HTML object>"
      ]
     },
     "metadata": {},
     "output_type": "display_data"
    },
    {
     "data": {
      "text/html": [
       "<a href=\"#Fluxes._mls.\">Fluxes. mls.</a>"
      ],
      "text/plain": [
       "<IPython.core.display.HTML object>"
      ]
     },
     "metadata": {},
     "output_type": "display_data"
    },
    {
     "data": {
      "text/markdown": [
       "**sub-arctic winter**"
      ],
      "text/plain": [
       "<IPython.core.display.Markdown object>"
      ]
     },
     "metadata": {},
     "output_type": "display_data"
    },
    {
     "data": {
      "text/html": [
       "<a href=\"#Cooling_rates._saw.\">Cooling rates. saw.</a>"
      ],
      "text/plain": [
       "<IPython.core.display.HTML object>"
      ]
     },
     "metadata": {},
     "output_type": "display_data"
    },
    {
     "data": {
      "text/html": [
       "<a href=\"#Fluxes._saw.\">Fluxes. saw.</a>"
      ],
      "text/plain": [
       "<IPython.core.display.HTML object>"
      ]
     },
     "metadata": {},
     "output_type": "display_data"
    },
    {
     "data": {
      "text/markdown": [
       "**tropical**"
      ],
      "text/plain": [
       "<IPython.core.display.Markdown object>"
      ]
     },
     "metadata": {},
     "output_type": "display_data"
    },
    {
     "data": {
      "text/html": [
       "<a href=\"#Cooling_rates._trp.\">Cooling rates. trp.</a>"
      ],
      "text/plain": [
       "<IPython.core.display.HTML object>"
      ]
     },
     "metadata": {},
     "output_type": "display_data"
    },
    {
     "data": {
      "text/html": [
       "<a href=\"#Fluxes._trp.\">Fluxes. trp.</a>"
      ],
      "text/plain": [
       "<IPython.core.display.HTML object>"
      ]
     },
     "metadata": {},
     "output_type": "display_data"
    },
    {
     "data": {
      "text/html": [
       "<a id=\"Makeup_of_atmosphere.\"></a>"
      ],
      "text/plain": [
       "<IPython.core.display.HTML object>"
      ]
     },
     "metadata": {},
     "output_type": "display_data"
    },
    {
     "data": {
      "text/markdown": [
       "# Makeup of atmosphere."
      ],
      "text/plain": [
       "<IPython.core.display.Markdown object>"
      ]
     },
     "metadata": {},
     "output_type": "display_data"
    },
    {
     "data": {
      "text/html": [
       "<div>\n",
       "<style scoped>\n",
       "    .dataframe tbody tr th:only-of-type {\n",
       "        vertical-align: middle;\n",
       "    }\n",
       "\n",
       "    .dataframe tbody tr th {\n",
       "        vertical-align: top;\n",
       "    }\n",
       "\n",
       "    .dataframe thead th {\n",
       "        text-align: right;\n",
       "    }\n",
       "</style>\n",
       "<table border=\"1\" class=\"dataframe\">\n",
       "  <thead>\n",
       "    <tr style=\"text-align: right;\">\n",
       "      <th>clirad band</th>\n",
       "      <th>1</th>\n",
       "      <th>2</th>\n",
       "      <th>3</th>\n",
       "      <th>4</th>\n",
       "      <th>5</th>\n",
       "      <th>6</th>\n",
       "      <th>7</th>\n",
       "      <th>8</th>\n",
       "      <th>9</th>\n",
       "      <th>10</th>\n",
       "      <th>11</th>\n",
       "    </tr>\n",
       "    <tr>\n",
       "      <th>molecule</th>\n",
       "      <th></th>\n",
       "      <th></th>\n",
       "      <th></th>\n",
       "      <th></th>\n",
       "      <th></th>\n",
       "      <th></th>\n",
       "      <th></th>\n",
       "      <th></th>\n",
       "      <th></th>\n",
       "      <th></th>\n",
       "      <th></th>\n",
       "    </tr>\n",
       "  </thead>\n",
       "  <tbody>\n",
       "    <tr>\n",
       "      <th>h2o</th>\n",
       "      <td>atmpro</td>\n",
       "      <td>atmpro</td>\n",
       "      <td>atmpro</td>\n",
       "      <td>atmpro</td>\n",
       "      <td>atmpro</td>\n",
       "      <td>atmpro</td>\n",
       "      <td>atmpro</td>\n",
       "      <td>atmpro</td>\n",
       "      <td>atmpro</td>\n",
       "      <td>atmpro</td>\n",
       "      <td>atmpro</td>\n",
       "    </tr>\n",
       "  </tbody>\n",
       "</table>\n",
       "</div>"
      ],
      "text/plain": [
       "clirad band      1       2       3       4       5       6       7       8   \\\n",
       "molecule                                                                      \n",
       "h2o          atmpro  atmpro  atmpro  atmpro  atmpro  atmpro  atmpro  atmpro   \n",
       "\n",
       "clirad band      9       10      11  \n",
       "molecule                             \n",
       "h2o          atmpro  atmpro  atmpro  "
      ]
     },
     "metadata": {},
     "output_type": "display_data"
    },
    {
     "data": {
      "text/markdown": [
       "*TABLE.* Non-grey absorbers in the atmosphere."
      ],
      "text/plain": [
       "<IPython.core.display.Markdown object>"
      ]
     },
     "metadata": {},
     "output_type": "display_data"
    },
    {
     "data": {
      "text/html": [
       "<a id=\"Cooling_rates._mls.\"></a>"
      ],
      "text/plain": [
       "<IPython.core.display.HTML object>"
      ]
     },
     "metadata": {},
     "output_type": "display_data"
    },
    {
     "data": {
      "text/markdown": [
       "# Cooling rates. mls."
      ],
      "text/plain": [
       "<IPython.core.display.Markdown object>"
      ]
     },
     "metadata": {},
     "output_type": "display_data"
    },
    {
     "data": {
      "text/html": [
       "\n",
       "<div class=\"bk-root\">\n",
       "    <div class=\"bk-plotdiv\" id=\"0dfe04c8-eb7e-4490-baed-51f44d5a9aab\"></div>\n",
       "</div>"
      ]
     },
     "metadata": {},
     "output_type": "display_data"
    },
    {
     "data": {
      "application/javascript": [
       "(function(root) {\n",
       "  function embed_document(root) {\n",
       "    \n",
       "  var docs_json = {\"a837b8ba-ee43-4f21-b75f-9d73416dc6b0\":{\"roots\":{\"references\":[{\"attributes\":{\"bottom_units\":\"screen\",\"fill_alpha\":{\"value\":0.5},\"fill_color\":{\"value\":\"lightgrey\"},\"left_units\":\"screen\",\"level\":\"overlay\",\"line_alpha\":{\"value\":1.0},\"line_color\":{\"value\":\"black\"},\"line_dash\":[4,4],\"line_width\":{\"value\":2},\"plot\":null,\"render_mode\":\"css\",\"right_units\":\"screen\",\"top_units\":\"screen\"},\"id\":\"db84a42b-a1a7-4f48-930c-3b08ff5a971c\",\"type\":\"BoxAnnotation\"},{\"attributes\":{\"axis_label\":\"pressure [mb]\",\"formatter\":{\"id\":\"7d99dec2-f52b-4734-abe4-8ba50fe2adc8\",\"type\":\"BasicTickFormatter\"},\"plot\":{\"id\":\"5b9d991f-cb97-44e5-8310-0326df4ab3ff\",\"subtype\":\"Figure\",\"type\":\"Plot\"},\"ticker\":{\"id\":\"a0402c2c-eaf6-4b73-9813-4a9037feeb09\",\"type\":\"BasicTicker\"}},\"id\":\"22139bdc-28e7-4ef1-8ff9-fa1cf02c2e13\",\"type\":\"LinearAxis\"},{\"attributes\":{\"overlay\":{\"id\":\"db84a42b-a1a7-4f48-930c-3b08ff5a971c\",\"type\":\"BoxAnnotation\"}},\"id\":\"9ba2e3d2-49ea-4af6-b993-4a87148dd5de\",\"type\":\"BoxZoomTool\"},{\"attributes\":{\"active_drag\":\"auto\",\"active_inspect\":\"auto\",\"active_scroll\":\"auto\",\"active_tap\":\"auto\",\"tools\":[{\"id\":\"ae62b9ae-0873-4840-a753-b2e0dd3dfe92\",\"type\":\"PanTool\"},{\"id\":\"5c578688-4d6c-432a-8bc3-b55ac13221be\",\"type\":\"WheelZoomTool\"},{\"id\":\"df35fc12-464c-429e-aa58-67a78076344e\",\"type\":\"BoxZoomTool\"},{\"id\":\"69434e03-0d24-4228-ab4d-c6e97c173b6e\",\"type\":\"SaveTool\"},{\"id\":\"07bca5fc-99ab-4648-917d-4425b556a5e9\",\"type\":\"ResetTool\"},{\"id\":\"ccaa5e14-f5a1-4af9-8590-13a8cd564102\",\"type\":\"HelpTool\"}]},\"id\":\"8cdb7146-93fe-4d19-a360-480e3f2d9d21\",\"type\":\"Toolbar\"},{\"attributes\":{\"above\":[{\"id\":\"e80d3374-a601-49d8-848a-c3667275edc2\",\"type\":\"Legend\"}],\"below\":[{\"id\":\"ea8a5722-4a45-4c9a-8c59-05b9a6a24630\",\"type\":\"LinearAxis\"}],\"left\":[{\"id\":\"22139bdc-28e7-4ef1-8ff9-fa1cf02c2e13\",\"type\":\"LinearAxis\"}],\"plot_width\":300,\"renderers\":[{\"id\":\"ea8a5722-4a45-4c9a-8c59-05b9a6a24630\",\"type\":\"LinearAxis\"},{\"id\":\"3aa56570-70bf-49e5-b9a5-760f8d6906de\",\"type\":\"Grid\"},{\"id\":\"22139bdc-28e7-4ef1-8ff9-fa1cf02c2e13\",\"type\":\"LinearAxis\"},{\"id\":\"2a476db4-7f02-4321-a63a-928f698b44c3\",\"type\":\"Grid\"},{\"id\":\"e337162f-341c-4b9c-8b9c-b68721240bd9\",\"type\":\"BoxAnnotation\"},{\"id\":\"70f659a4-b065-486a-b15f-6a2acea9a888\",\"type\":\"GlyphRenderer\"},{\"id\":\"f5c67862-8207-4852-8f46-78be68ecb37b\",\"type\":\"GlyphRenderer\"},{\"id\":\"f0371589-6b7f-44a8-8bd9-f6b157819046\",\"type\":\"GlyphRenderer\"},{\"id\":\"e80d3374-a601-49d8-848a-c3667275edc2\",\"type\":\"Legend\"}],\"title\":{\"id\":\"1a858162-e5b6-48f1-8990-1b27afc34a5c\",\"type\":\"Title\"},\"toolbar\":{\"id\":\"a4a2a995-716c-4027-b846-cfc98b23885a\",\"type\":\"Toolbar\"},\"toolbar_location\":null,\"x_range\":{\"id\":\"e23ef3e4-e730-4956-8bfa-11415a02e82d\",\"type\":\"Range1d\"},\"x_scale\":{\"id\":\"b2aeffcd-3d24-498e-8a32-74a4581926e0\",\"type\":\"LinearScale\"},\"y_range\":{\"id\":\"e4ab443b-a8a5-4422-9dad-831417ded564\",\"type\":\"Range1d\"},\"y_scale\":{\"id\":\"603976f1-9d29-4dc3-801a-34a1a53571cc\",\"type\":\"LinearScale\"}},\"id\":\"5b9d991f-cb97-44e5-8310-0326df4ab3ff\",\"subtype\":\"Figure\",\"type\":\"Plot\"},{\"attributes\":{\"axis_label\":\"cooling rate [K/day]\",\"formatter\":{\"id\":\"fb1a3f43-d6a7-4cb8-bf48-0aaba22700ad\",\"type\":\"BasicTickFormatter\"},\"plot\":{\"id\":\"5fb8214e-b9bc-4253-8288-5c11ee8ff78f\",\"subtype\":\"Figure\",\"type\":\"Plot\"},\"ticker\":{\"id\":\"cbb0c322-8485-4c21-827c-deddbb88970a\",\"type\":\"BasicTicker\"}},\"id\":\"264d0381-f2c7-47ed-9152-57ddcfb09a02\",\"type\":\"LinearAxis\"},{\"attributes\":{},\"id\":\"aad24451-a62b-4f3e-96bb-c53782e2cb44\",\"type\":\"Selection\"},{\"attributes\":{\"dimension\":1,\"plot\":{\"id\":\"5fb8214e-b9bc-4253-8288-5c11ee8ff78f\",\"subtype\":\"Figure\",\"type\":\"Plot\"},\"ticker\":{\"id\":\"cf72d382-352c-48b2-a645-459269334a9e\",\"type\":\"LogTicker\"}},\"id\":\"b00f2256-6be0-4dca-a437-5756d758e763\",\"type\":\"Grid\"},{\"attributes\":{},\"id\":\"a7637f68-99f3-47fb-af3b-ee05969796c4\",\"type\":\"HelpTool\"},{\"attributes\":{\"bottom_units\":\"screen\",\"fill_alpha\":{\"value\":0.5},\"fill_color\":{\"value\":\"lightgrey\"},\"left_units\":\"screen\",\"level\":\"overlay\",\"line_alpha\":{\"value\":1.0},\"line_color\":{\"value\":\"black\"},\"line_dash\":[4,4],\"line_width\":{\"value\":2},\"plot\":null,\"render_mode\":\"css\",\"right_units\":\"screen\",\"top_units\":\"screen\"},\"id\":\"e337162f-341c-4b9c-8b9c-b68721240bd9\",\"type\":\"BoxAnnotation\"},{\"attributes\":{\"dimension\":1,\"plot\":{\"id\":\"fd4b8428-3a9b-44e4-b0e7-1c927578663e\",\"subtype\":\"Figure\",\"type\":\"Plot\"},\"ticker\":{\"id\":\"3b458952-a6b5-4bd3-b3ba-0d26270f6a15\",\"type\":\"LogTicker\"}},\"id\":\"152311ab-9dc0-4ddf-80b6-1d44c218692f\",\"type\":\"Grid\"},{\"attributes\":{\"num_minor_ticks\":10},\"id\":\"cf72d382-352c-48b2-a645-459269334a9e\",\"type\":\"LogTicker\"},{\"attributes\":{},\"id\":\"54135847-00ed-4728-922e-d03f27eddaa4\",\"type\":\"BasicTicker\"},{\"attributes\":{},\"id\":\"ac15a0e0-f259-4fee-bb8e-a3c64363716a\",\"type\":\"SaveTool\"},{\"attributes\":{},\"id\":\"5c578688-4d6c-432a-8bc3-b55ac13221be\",\"type\":\"WheelZoomTool\"},{\"attributes\":{},\"id\":\"566704ff-a594-4ecf-999b-1b01a1f186c1\",\"type\":\"PanTool\"},{\"attributes\":{},\"id\":\"a0402c2c-eaf6-4b73-9813-4a9037feeb09\",\"type\":\"BasicTicker\"},{\"attributes\":{\"plot\":{\"id\":\"5b9d991f-cb97-44e5-8310-0326df4ab3ff\",\"subtype\":\"Figure\",\"type\":\"Plot\"},\"ticker\":{\"id\":\"54135847-00ed-4728-922e-d03f27eddaa4\",\"type\":\"BasicTicker\"}},\"id\":\"3aa56570-70bf-49e5-b9a5-760f8d6906de\",\"type\":\"Grid\"},{\"attributes\":{\"callback\":null,\"end\":2.2491534333989662,\"start\":0.18638435712643403},\"id\":\"e23ef3e4-e730-4956-8bfa-11415a02e82d\",\"type\":\"Range1d\"},{\"attributes\":{},\"id\":\"b2683faa-4a42-4129-b6f0-9f15b9501488\",\"type\":\"UnionRenderers\"},{\"attributes\":{\"ticker\":null},\"id\":\"7237ee6e-7e9e-40fe-a419-da7bdf614ac6\",\"type\":\"LogTickFormatter\"},{\"attributes\":{\"callback\":null,\"end\":0.07676032501254197,\"start\":-0.231520417074742},\"id\":\"67b7f75d-2542-469c-aef2-fb6f0f800444\",\"type\":\"Range1d\"},{\"attributes\":{\"line_alpha\":0.6,\"line_color\":\"#e41a1c\",\"line_dash\":[6],\"line_width\":5,\"x\":{\"field\":\"x\"},\"y\":{\"field\":\"y\"}},\"id\":\"284ddf96-6558-4af7-a036-e673b1d8d31b\",\"type\":\"Line\"},{\"attributes\":{\"dimension\":1,\"plot\":{\"id\":\"5b9d991f-cb97-44e5-8310-0326df4ab3ff\",\"subtype\":\"Figure\",\"type\":\"Plot\"},\"ticker\":{\"id\":\"a0402c2c-eaf6-4b73-9813-4a9037feeb09\",\"type\":\"BasicTicker\"}},\"id\":\"2a476db4-7f02-4321-a63a-928f698b44c3\",\"type\":\"Grid\"},{\"attributes\":{},\"id\":\"26b67a8a-c793-4117-8408-b22df406a6ba\",\"type\":\"ResetTool\"},{\"attributes\":{\"axis_label\":\"cooling rate [K/day]\",\"formatter\":{\"id\":\"c8af7683-e905-4c12-b571-f1d924f70e00\",\"type\":\"BasicTickFormatter\"},\"plot\":{\"id\":\"5b9d991f-cb97-44e5-8310-0326df4ab3ff\",\"subtype\":\"Figure\",\"type\":\"Plot\"},\"ticker\":{\"id\":\"54135847-00ed-4728-922e-d03f27eddaa4\",\"type\":\"BasicTicker\"}},\"id\":\"ea8a5722-4a45-4c9a-8c59-05b9a6a24630\",\"type\":\"LinearAxis\"},{\"attributes\":{\"above\":[{\"id\":\"9921259c-c091-46d0-bdb0-b4c0dae43411\",\"type\":\"Legend\"}],\"below\":[{\"id\":\"264d0381-f2c7-47ed-9152-57ddcfb09a02\",\"type\":\"LinearAxis\"}],\"left\":[{\"id\":\"6fe323df-b905-478d-af26-061f7b7ea2d4\",\"type\":\"LogAxis\"}],\"plot_width\":300,\"renderers\":[{\"id\":\"264d0381-f2c7-47ed-9152-57ddcfb09a02\",\"type\":\"LinearAxis\"},{\"id\":\"b36ab799-18bc-4ab3-b95d-d1d99584964c\",\"type\":\"Grid\"},{\"id\":\"6fe323df-b905-478d-af26-061f7b7ea2d4\",\"type\":\"LogAxis\"},{\"id\":\"b00f2256-6be0-4dca-a437-5756d758e763\",\"type\":\"Grid\"},{\"id\":\"db84a42b-a1a7-4f48-930c-3b08ff5a971c\",\"type\":\"BoxAnnotation\"},{\"id\":\"6c134b82-ab23-4ce1-b9bf-55a94d960159\",\"type\":\"GlyphRenderer\"},{\"id\":\"f17973c9-3b5b-435d-ab98-5430d895c12a\",\"type\":\"GlyphRenderer\"},{\"id\":\"9921259c-c091-46d0-bdb0-b4c0dae43411\",\"type\":\"Legend\"}],\"title\":{\"id\":\"7c73713e-c876-4856-832a-485ffbac997d\",\"type\":\"Title\"},\"toolbar\":{\"id\":\"d695b26a-93d2-4388-83bb-5928244b0b5f\",\"type\":\"Toolbar\"},\"toolbar_location\":null,\"x_range\":{\"id\":\"67b7f75d-2542-469c-aef2-fb6f0f800444\",\"type\":\"Range1d\"},\"x_scale\":{\"id\":\"bdafac86-4ddc-462e-859b-bd9f7bdd1962\",\"type\":\"LinearScale\"},\"y_range\":{\"id\":\"bd28e7bc-41f3-4572-9c55-d582b45fcf9d\",\"type\":\"Range1d\"},\"y_scale\":{\"id\":\"e813f0f7-02c0-4cfd-8db0-6c68f2304ac8\",\"type\":\"LogScale\"}},\"id\":\"5fb8214e-b9bc-4253-8288-5c11ee8ff78f\",\"subtype\":\"Figure\",\"type\":\"Plot\"},{\"attributes\":{\"callback\":null,\"end\":0.01,\"start\":1020},\"id\":\"bd28e7bc-41f3-4572-9c55-d582b45fcf9d\",\"type\":\"Range1d\"},{\"attributes\":{\"plot\":{\"id\":\"5fb8214e-b9bc-4253-8288-5c11ee8ff78f\",\"subtype\":\"Figure\",\"type\":\"Plot\"},\"ticker\":{\"id\":\"cbb0c322-8485-4c21-827c-deddbb88970a\",\"type\":\"BasicTicker\"}},\"id\":\"b36ab799-18bc-4ab3-b95d-d1d99584964c\",\"type\":\"Grid\"},{\"attributes\":{\"overlay\":{\"id\":\"e337162f-341c-4b9c-8b9c-b68721240bd9\",\"type\":\"BoxAnnotation\"}},\"id\":\"e88ffb99-074d-4991-9903-333abfe3de21\",\"type\":\"BoxZoomTool\"},{\"attributes\":{},\"id\":\"6a330e03-8817-4440-a958-e2e8b80639bc\",\"type\":\"WheelZoomTool\"},{\"attributes\":{},\"id\":\"83f57c5a-75cd-468d-8135-1ce7af2d807c\",\"type\":\"Selection\"},{\"attributes\":{},\"id\":\"c11ccb3a-bce4-47d9-86b0-1501884ad0d4\",\"type\":\"UnionRenderers\"},{\"attributes\":{},\"id\":\"3b6fc01d-4ac0-46e4-a8d3-e20d4fe32bac\",\"type\":\"Selection\"},{\"attributes\":{\"active_drag\":\"auto\",\"active_inspect\":\"auto\",\"active_scroll\":\"auto\",\"active_tap\":\"auto\",\"tools\":[{\"id\":\"4dc07baa-abfb-42d3-8384-d617260107d6\",\"type\":\"PanTool\"},{\"id\":\"6a330e03-8817-4440-a958-e2e8b80639bc\",\"type\":\"WheelZoomTool\"},{\"id\":\"e88ffb99-074d-4991-9903-333abfe3de21\",\"type\":\"BoxZoomTool\"},{\"id\":\"ac15a0e0-f259-4fee-bb8e-a3c64363716a\",\"type\":\"SaveTool\"},{\"id\":\"26b67a8a-c793-4117-8408-b22df406a6ba\",\"type\":\"ResetTool\"},{\"id\":\"a7637f68-99f3-47fb-af3b-ee05969796c4\",\"type\":\"HelpTool\"}]},\"id\":\"a4a2a995-716c-4027-b846-cfc98b23885a\",\"type\":\"Toolbar\"},{\"attributes\":{},\"id\":\"6cd15f85-d4af-46c8-a2d9-6468a2c82d94\",\"type\":\"UnionRenderers\"},{\"attributes\":{\"callback\":null,\"data\":{\"x\":{\"__ndarray__\":\"MifBicXGDkDbDhwrOKwMQJsq7tzMpgtAk65sOekzCkAQdoOJvjoIQCapULRUtwVA9JyutT28AkD75SltqAL/P3Ah4AHOu/g/lFXGZXZt8z/4V4YW5Q7vP7BLZmxAiuk/D3nkeI/j5D9GlIN/N0TfPyy51bZ6GtY/K1XhAQmZ1D8MOeRwpU/YPwSRuVR+79w/UiJC9OeE4T+Fj6QL/CvlP9dHd/1bnOk/SFElIREq8D+bzbeRuBn0P+6YpMcmB/Q/PJm9QIaq8D9IWr42FJLrP8izsdLRh+c/hTMLU6vv4z8fwLS53HzhP2+SAtowNOA/nh3kElXV3T8iJUEhOZfaP+Pdc9jQt9g/Ko7su0gg1z/WQSz2WabUP/Cp1KgK19E/yxWyA4OCzz+Bx8IDvrTNP5BVWdSpY8s/te3TBh5yyj/bLy+te9rVP/W6MV0Ij+w/RGv/hS4/+D+jpG1q1hUAQMXTMVmFYQFAEOwk6x5I/z8QiTN0cz79P4CXG7lI8fs/a2c6PTcm+z/DSfl2IPj6PxbUSEUdJvs/o+I1kBDZ+j8Y2uODKp76Py41kqpMjfo/17wJAWK2+j/aUbtnLQX7PyxBKVhvlfs/F6rxQlmE/T+oqNhiwET/PxDDmgy/SgBAE1AVjd2wAEBjfwR1troAQE3Onv2gmgBAk1KYjOZgAED73pOAOSsAQOMtXWY0LABA11YZsUJKAEBD0Q5IWlcAQJCHfJ/DNwBAfk/BXPFq/z+/K4e4Zzn+P+7IByb/R/0/bhF68LGU/D96kDrTpr/8P8W+Z5tQLQFA\",\"dtype\":\"float64\",\"shape\":[75]},\"y\":{\"__ndarray__\":\"GhExyth1ND/Sv8nbtpRIP2vylNV0PVE/aTum7souWD/At0SJ8fVgPw3Iuahxymc/MSNhhJWvcD/bTfBN02d3P2zb5nxnaoA/CD5h5MAGhz8NmeH1TyaQP+zrCsc9p5Y/LbKd76fGnz/bLW5ISEmmPww9YvTcQq8/JV2OstnstT8Er5Y7M8G+P0c+r3jqkcU/5h99k6ZBzj88bCIzFzjVP4enV8oyxN0//yH99nXg5D8qOpLLf0jtP5kqGJXUifQ/c9cS8kHP/D+/DpwzojQEQIEmwoanVwxA4lgXt9HgE0BSSZ2AJuIbQAMJih9jjiNA5q4l5INuK0AwTKYKRj0zQNv5fmq8/DpAaCJseHrtQkB/+zpwzoxKQM3MzMzMeFJAZmZmZmZqWEAAAAAAAFxeQM3MzMzMJmJAmpmZmZkfZUBmZmZmZhhoQDMzMzMzEWtAAAAAAAAKbkBmZmZmZoFwQM3MzMzM/XFAMzMzMzN6c0CamZmZmfZ0QAAAAAAAc3ZAZmZmZmbvd0DNzMzMzGt5QDMzMzMz6HpAmpmZmZlkfEAAAAAAAOF9QGZmZmZmXX9AZmZmZuZsgECamZmZGSuBQM3MzMxM6YFAAAAAAICngkAzMzMzs2WDQGZmZmbmI4RAmpmZmRnihEDNzMzMTKCFQAAAAACAXoZAMzMzM7Mch0BmZmZm5tqHQJqZmZkZmYhAzczMzExXiUAAAAAAgBWKQDMzMzOz04pAZmZmZuaRi0CamZmZGVCMQM3MzMxMDo1AAAAAAIDMjUAzMzMzs4qOQGZmZmbmSI9A\",\"dtype\":\"float64\",\"shape\":[75]}},\"selected\":{\"id\":\"4a9cca9d-f1c1-4f05-b0bf-04e3e479ecc7\",\"type\":\"Selection\"},\"selection_policy\":{\"id\":\"59980928-8ccd-4856-aa63-e6ad212dd1a6\",\"type\":\"UnionRenderers\"}},\"id\":\"6f2fdb57-4d62-4065-bce5-e5378b8d9a20\",\"type\":\"ColumnDataSource\"},{\"attributes\":{\"items\":[{\"id\":\"944bfaf0-caea-490e-bef2-55e93bcdccf2\",\"type\":\"LegendItem\"},{\"id\":\"8761bc82-00d6-4815-bb4c-a372ee1545f4\",\"type\":\"LegendItem\"}],\"label_text_font_size\":{\"value\":\"8pt\"},\"location\":\"top_center\",\"orientation\":\"horizontal\",\"plot\":{\"id\":\"5b9d991f-cb97-44e5-8310-0326df4ab3ff\",\"subtype\":\"Figure\",\"type\":\"Plot\"}},\"id\":\"e80d3374-a601-49d8-848a-c3667275edc2\",\"type\":\"Legend\"},{\"attributes\":{},\"id\":\"cbb0c322-8485-4c21-827c-deddbb88970a\",\"type\":\"BasicTicker\"},{\"attributes\":{\"fill_alpha\":{\"value\":0.1},\"fill_color\":{\"value\":\"#1f77b4\"},\"line_alpha\":{\"value\":0.1},\"line_color\":{\"value\":\"#1f77b4\"},\"x\":{\"field\":\"x\"},\"y\":{\"field\":\"y\"}},\"id\":\"8897bda7-f8a6-4043-bd0f-06701f1d8635\",\"type\":\"Circle\"},{\"attributes\":{},\"id\":\"18f42020-352d-45aa-b33c-e285bcc707ce\",\"type\":\"Selection\"},{\"attributes\":{},\"id\":\"603976f1-9d29-4dc3-801a-34a1a53571cc\",\"type\":\"LinearScale\"},{\"attributes\":{\"plot\":null,\"text\":\"\"},\"id\":\"9c19199d-ece3-4198-9b5e-837b1c2c4ff9\",\"type\":\"Title\"},{\"attributes\":{\"items\":[{\"id\":\"25ec96fb-c29d-4488-b5ce-1b1a863a8240\",\"type\":\"LegendItem\"}],\"label_text_font_size\":{\"value\":\"8pt\"},\"location\":\"top_center\",\"orientation\":\"horizontal\",\"plot\":{\"id\":\"5fb8214e-b9bc-4253-8288-5c11ee8ff78f\",\"subtype\":\"Figure\",\"type\":\"Plot\"}},\"id\":\"9921259c-c091-46d0-bdb0-b4c0dae43411\",\"type\":\"Legend\"},{\"attributes\":{\"plot\":null,\"text\":\"\"},\"id\":\"7c73713e-c876-4856-832a-485ffbac997d\",\"type\":\"Title\"},{\"attributes\":{\"fill_alpha\":{\"value\":0.7},\"fill_color\":{\"value\":\"#4daf4a\"},\"line_alpha\":{\"value\":0.7},\"line_color\":{\"value\":\"#4daf4a\"},\"x\":{\"field\":\"x\"},\"y\":{\"field\":\"y\"}},\"id\":\"70cb5191-7689-4082-a063-5d2d9a9d4aac\",\"type\":\"Circle\"},{\"attributes\":{},\"id\":\"e9b561fa-0f7e-4ab3-9c4e-76ec941543d3\",\"type\":\"SaveTool\"},{\"attributes\":{},\"id\":\"b2aeffcd-3d24-498e-8a32-74a4581926e0\",\"type\":\"LinearScale\"},{\"attributes\":{\"active_drag\":\"auto\",\"active_inspect\":\"auto\",\"active_scroll\":\"auto\",\"active_tap\":\"auto\",\"tools\":[{\"id\":\"566704ff-a594-4ecf-999b-1b01a1f186c1\",\"type\":\"PanTool\"},{\"id\":\"6a37203f-5be0-4d48-b0f9-ca5752e620a4\",\"type\":\"WheelZoomTool\"},{\"id\":\"9ba2e3d2-49ea-4af6-b993-4a87148dd5de\",\"type\":\"BoxZoomTool\"},{\"id\":\"e9b561fa-0f7e-4ab3-9c4e-76ec941543d3\",\"type\":\"SaveTool\"},{\"id\":\"8ebe393b-d5e6-4230-91a8-b4189848c38d\",\"type\":\"ResetTool\"},{\"id\":\"c46b4c9e-e87f-4237-8c11-3a2730b59904\",\"type\":\"HelpTool\"}]},\"id\":\"d695b26a-93d2-4388-83bb-5928244b0b5f\",\"type\":\"Toolbar\"},{\"attributes\":{},\"id\":\"59980928-8ccd-4856-aa63-e6ad212dd1a6\",\"type\":\"UnionRenderers\"},{\"attributes\":{\"axis_label\":\"pressure [mb]\",\"formatter\":{\"id\":\"5646df63-43f1-4eab-97a9-f96e9a454191\",\"type\":\"LogTickFormatter\"},\"plot\":{\"id\":\"5fb8214e-b9bc-4253-8288-5c11ee8ff78f\",\"subtype\":\"Figure\",\"type\":\"Plot\"},\"ticker\":{\"id\":\"cf72d382-352c-48b2-a645-459269334a9e\",\"type\":\"LogTicker\"}},\"id\":\"6fe323df-b905-478d-af26-061f7b7ea2d4\",\"type\":\"LogAxis\"},{\"attributes\":{},\"id\":\"bacbfd66-906e-4efb-8ee1-ca4cd885701d\",\"type\":\"Selection\"},{\"attributes\":{\"ticker\":null},\"id\":\"5646df63-43f1-4eab-97a9-f96e9a454191\",\"type\":\"LogTickFormatter\"},{\"attributes\":{},\"id\":\"2ad13866-51a7-43c2-9634-99edd0282a5d\",\"type\":\"UnionRenderers\"},{\"attributes\":{},\"id\":\"6a37203f-5be0-4d48-b0f9-ca5752e620a4\",\"type\":\"WheelZoomTool\"},{\"attributes\":{},\"id\":\"4dc07baa-abfb-42d3-8384-d617260107d6\",\"type\":\"PanTool\"},{\"attributes\":{},\"id\":\"c46b4c9e-e87f-4237-8c11-3a2730b59904\",\"type\":\"HelpTool\"},{\"attributes\":{},\"id\":\"58a96f0d-1dd3-4df5-a316-0cce350beb81\",\"type\":\"BasicTickFormatter\"},{\"attributes\":{},\"id\":\"8ebe393b-d5e6-4230-91a8-b4189848c38d\",\"type\":\"ResetTool\"},{\"attributes\":{},\"id\":\"fb1a3f43-d6a7-4cb8-bf48-0aaba22700ad\",\"type\":\"BasicTickFormatter\"},{\"attributes\":{},\"id\":\"94bf03c5-42d6-4340-aca2-12d12787af9f\",\"type\":\"UnionRenderers\"},{\"attributes\":{},\"id\":\"c8af7683-e905-4c12-b571-f1d924f70e00\",\"type\":\"BasicTickFormatter\"},{\"attributes\":{\"source\":{\"id\":\"e804c828-e8f9-439b-916a-4e999a64fab2\",\"type\":\"ColumnDataSource\"}},\"id\":\"a8d48ae3-62f3-47e4-bbfe-c9f411d2ce6e\",\"type\":\"CDSView\"},{\"attributes\":{\"children\":[{\"id\":\"ef1cc75e-5624-4920-956c-33daac4c75f0\",\"type\":\"Row\"}]},\"id\":\"1d1dce07-58a5-481e-b1dd-f99d83afb27d\",\"type\":\"Column\"},{\"attributes\":{\"fill_alpha\":{\"value\":0.1},\"fill_color\":{\"value\":\"#1f77b4\"},\"line_alpha\":{\"value\":0.1},\"line_color\":{\"value\":\"#1f77b4\"},\"x\":{\"field\":\"x\"},\"y\":{\"field\":\"y\"}},\"id\":\"9e633ebd-6f56-4e94-91e2-30cf12435a24\",\"type\":\"Circle\"},{\"attributes\":{},\"id\":\"ae62b9ae-0873-4840-a753-b2e0dd3dfe92\",\"type\":\"PanTool\"},{\"attributes\":{\"data_source\":{\"id\":\"58e8460f-0aa2-4a04-886b-d63fdc5f8b9f\",\"type\":\"ColumnDataSource\"},\"glyph\":{\"id\":\"7033bc00-b74d-41d0-995e-9a07c993ecf3\",\"type\":\"Line\"},\"hover_glyph\":null,\"muted_glyph\":null,\"nonselection_glyph\":{\"id\":\"03e2d3ed-b0fa-474f-a246-4e3a051a862a\",\"type\":\"Line\"},\"selection_glyph\":null,\"view\":{\"id\":\"39b5c8ee-b370-4ed6-8b4d-5a1af21fbfa5\",\"type\":\"CDSView\"}},\"id\":\"f17973c9-3b5b-435d-ab98-5430d895c12a\",\"type\":\"GlyphRenderer\"},{\"attributes\":{\"line_alpha\":0.1,\"line_color\":\"#1f77b4\",\"line_dash\":[6],\"line_width\":5,\"x\":{\"field\":\"x\"},\"y\":{\"field\":\"y\"}},\"id\":\"250afaf5-d40b-4446-b0ca-52101285bd31\",\"type\":\"Line\"},{\"attributes\":{\"fill_alpha\":{\"value\":0.1},\"fill_color\":{\"value\":\"#1f77b4\"},\"line_alpha\":{\"value\":0.1},\"line_color\":{\"value\":\"#1f77b4\"},\"x\":{\"field\":\"x\"},\"y\":{\"field\":\"y\"}},\"id\":\"a12853d2-0ff2-41f7-9dab-f1bdc3ab360a\",\"type\":\"Circle\"},{\"attributes\":{\"label\":{\"value\":\"CRD\"},\"renderers\":[{\"id\":\"6c643bdb-5b32-4e38-b813-483da8d22f36\",\"type\":\"GlyphRenderer\"},{\"id\":\"7fa574f1-89b3-4a47-8eae-e35af11d6ed0\",\"type\":\"GlyphRenderer\"}]},\"id\":\"e29bc6f6-3c12-417e-8fd8-b86a1943ca16\",\"type\":\"LegendItem\"},{\"attributes\":{\"label\":{\"value\":\"CLIRAD\"},\"renderers\":[{\"id\":\"b76f6561-26ae-4e08-be64-9c876f90c443\",\"type\":\"GlyphRenderer\"}]},\"id\":\"bf9eabf7-7544-4681-97ca-27d5a6e4f5b2\",\"type\":\"LegendItem\"},{\"attributes\":{\"label\":{\"value\":\"CLIRAD - CRD\"},\"renderers\":[{\"id\":\"6c134b82-ab23-4ce1-b9bf-55a94d960159\",\"type\":\"GlyphRenderer\"},{\"id\":\"f17973c9-3b5b-435d-ab98-5430d895c12a\",\"type\":\"GlyphRenderer\"}]},\"id\":\"25ec96fb-c29d-4488-b5ce-1b1a863a8240\",\"type\":\"LegendItem\"},{\"attributes\":{},\"id\":\"39ad647c-5a87-4140-8284-696b8976bb8d\",\"type\":\"LinearScale\"},{\"attributes\":{\"callback\":null,\"end\":0.01,\"start\":1020},\"id\":\"333d7e8b-d7f1-4f96-bec8-f2affaa81591\",\"type\":\"Range1d\"},{\"attributes\":{\"callback\":null,\"end\":1.4550834448362864,\"start\":0.194246436221114},\"id\":\"018609f8-235a-4119-81d4-667f0c1e9e14\",\"type\":\"Range1d\"},{\"attributes\":{\"num_minor_ticks\":10},\"id\":\"3b458952-a6b5-4bd3-b3ba-0d26270f6a15\",\"type\":\"LogTicker\"},{\"attributes\":{\"line_alpha\":0.1,\"line_color\":\"#1f77b4\",\"line_width\":1.5,\"x\":{\"field\":\"x\"},\"y\":{\"field\":\"y\"}},\"id\":\"991e6806-659e-416c-b156-d6deea03f519\",\"type\":\"Line\"},{\"attributes\":{\"source\":{\"id\":\"8cdc21e0-7b1a-496c-b774-a0fa6fc26f67\",\"type\":\"ColumnDataSource\"}},\"id\":\"a338378f-e0fc-4cca-a2f7-2a4a9e4ebb8c\",\"type\":\"CDSView\"},{\"attributes\":{\"line_alpha\":0.1,\"line_color\":\"#1f77b4\",\"line_dash\":[6],\"line_width\":5,\"x\":{\"field\":\"x\"},\"y\":{\"field\":\"y\"}},\"id\":\"ff3746ee-61d2-4a79-a3bf-a1843005950e\",\"type\":\"Line\"},{\"attributes\":{\"label\":{\"value\":\"CLIRAD\"},\"renderers\":[{\"id\":\"70f659a4-b065-486a-b15f-6a2acea9a888\",\"type\":\"GlyphRenderer\"}]},\"id\":\"944bfaf0-caea-490e-bef2-55e93bcdccf2\",\"type\":\"LegendItem\"},{\"attributes\":{\"callback\":null,\"data\":{\"x\":{\"__ndarray__\":\"Qpcwz9gzGkC34KzIkEYUQAHtmZTPMRJAha2WoDoSEECB4woUW/YLQGFFeMJxAghAeX8nXOxgBEBfzC8M3BgBQBFpjVTpT/w/ltLc+WMV9z+vFsg3lnryP0DqwZOk4uw/bGCbYY295T8VJ4j4Y/fdPxn75x3EdtQ/cIR/72Xa1D+c9m0Ly4XaP4gAEcXfdt8/zinKnEBq4j9oTnSsZ8PlP3tcpdgpSuo/BAwHq9CT8D8WQ8hLiD30P5ITn5hiavM/0XoSyfz47j9eVqdxvnPpP9IBr9YwAOY/pL7NN66a4z/wGTFV6OPhP6aVetEJg+A/5PNTLYov3j/PCsmcChPbP/8CwZlVn9g/kxpBb0X61j+VxW/6CAjVPx0T1WuYrNI/WCa6rAIj0T8pEQFx+GfQP6wN7qx2E84/FdJOw72GzD9Oziywz+XWPwsgu8J3Pe0/x1nw+feu+D+7keKalwwAQIKVRlzZ1AFArQxG3sMrAEBZcC+sXqr9PyhCWK2Dhfw/Y5XWhaoK/D+tdaK2wdz7Pxpnzx5/y/s/gkGWIENN+z/blCNLg+b6P2L3Wt1czvo/6drC9Hf2+j8+W3JZX1X7P71OIVEM6/s/H3twSHm+/T8RgtcsbDX/P/qGo1otEABAfawTqcZPAEBvHUcji2IAQLhY/xZFWABAMJ3s5KA+AEC5xBCHDCIAQGMIJ3oFEQBAeMagDokNAEC1FF0Fm/T/P0tIwsNWVv8/3R1XMws5/j8lwAT8h/38PwweydWm/vs/iVKd+1tk+z/iGYWEbmL7P4H2L7gCcABA\",\"dtype\":\"float64\",\"shape\":[75]},\"y\":{\"__ndarray__\":\"GhExyth1ND/Sv8nbtpRIP2vylNV0PVE/aTum7souWD/At0SJ8fVgPw3Iuahxymc/MSNhhJWvcD/bTfBN02d3P2zb5nxnaoA/CD5h5MAGhz8NmeH1TyaQP+zrCsc9p5Y/LbKd76fGnz/bLW5ISEmmPww9YvTcQq8/JV2OstnstT8Er5Y7M8G+P0c+r3jqkcU/5h99k6ZBzj88bCIzFzjVP4enV8oyxN0//yH99nXg5D8qOpLLf0jtP5kqGJXUifQ/c9cS8kHP/D+/DpwzojQEQIEmwoanVwxA4lgXt9HgE0BSSZ2AJuIbQAMJih9jjiNA5q4l5INuK0AwTKYKRj0zQNv5fmq8/DpAaCJseHrtQkB/+zpwzoxKQM3MzMzMeFJAZmZmZmZqWEAAAAAAAFxeQM3MzMzMJmJAmpmZmZkfZUBmZmZmZhhoQDMzMzMzEWtAAAAAAAAKbkBmZmZmZoFwQM3MzMzM/XFAMzMzMzN6c0CamZmZmfZ0QAAAAAAAc3ZAZmZmZmbvd0DNzMzMzGt5QDMzMzMz6HpAmpmZmZlkfEAAAAAAAOF9QGZmZmZmXX9AZmZmZuZsgECamZmZGSuBQM3MzMxM6YFAAAAAAICngkAzMzMzs2WDQGZmZmbmI4RAmpmZmRnihEDNzMzMTKCFQAAAAACAXoZAMzMzM7Mch0BmZmZm5tqHQJqZmZkZmYhAzczMzExXiUAAAAAAgBWKQDMzMzOz04pAZmZmZuaRi0CamZmZGVCMQM3MzMxMDo1AAAAAAIDMjUAzMzMzs4qOQGZmZmbmSI9A\",\"dtype\":\"float64\",\"shape\":[75]}},\"selected\":{\"id\":\"18f42020-352d-45aa-b33c-e285bcc707ce\",\"type\":\"Selection\"},\"selection_policy\":{\"id\":\"c11ccb3a-bce4-47d9-86b0-1501884ad0d4\",\"type\":\"UnionRenderers\"}},\"id\":\"69d89f83-591f-4ec5-a63e-25d9b5da0419\",\"type\":\"ColumnDataSource\"},{\"attributes\":{\"children\":[{\"id\":\"5b9d991f-cb97-44e5-8310-0326df4ab3ff\",\"subtype\":\"Figure\",\"type\":\"Plot\"},{\"id\":\"fd4b8428-3a9b-44e4-b0e7-1c927578663e\",\"subtype\":\"Figure\",\"type\":\"Plot\"},{\"id\":\"5fb8214e-b9bc-4253-8288-5c11ee8ff78f\",\"subtype\":\"Figure\",\"type\":\"Plot\"}]},\"id\":\"ef1cc75e-5624-4920-956c-33daac4c75f0\",\"type\":\"Row\"},{\"attributes\":{\"overlay\":{\"id\":\"7aad09a7-1ee3-4cc6-940f-5f718b240afa\",\"type\":\"BoxAnnotation\"}},\"id\":\"df35fc12-464c-429e-aa58-67a78076344e\",\"type\":\"BoxZoomTool\"},{\"attributes\":{\"callback\":null,\"data\":{\"x\":{\"__ndarray__\":\"Qpcwz9gzGkC34KzIkEYUQAHtmZTPMRJAha2WoDoSEECB4woUW/YLQGFFeMJxAghAeX8nXOxgBEBfzC8M3BgBQBFpjVTpT/w/ltLc+WMV9z+vFsg3lnryP0DqwZOk4uw/bGCbYY295T8VJ4j4Y/fdPxn75x3EdtQ/cIR/72Xa1D+c9m0Ly4XaP4gAEcXfdt8/zinKnEBq4j9oTnSsZ8PlP3tcpdgpSuo/BAwHq9CT8D8WQ8hLiD30P5ITn5hiavM/0XoSyfz47j9eVqdxvnPpP9IBr9YwAOY/pL7NN66a4z/wGTFV6OPhP6aVetEJg+A/5PNTLYov3j/PCsmcChPbP/8CwZlVn9g/kxpBb0X61j+VxW/6CAjVPx0T1WuYrNI/WCa6rAIj0T8pEQFx+GfQP6wN7qx2E84/FdJOw72GzD9Oziywz+XWPwsgu8J3Pe0/x1nw+feu+D+7keKalwwAQIKVRlzZ1AFArQxG3sMrAEBZcC+sXqr9PyhCWK2Dhfw/Y5XWhaoK/D+tdaK2wdz7Pxpnzx5/y/s/gkGWIENN+z/blCNLg+b6P2L3Wt1czvo/6drC9Hf2+j8+W3JZX1X7P71OIVEM6/s/H3twSHm+/T8RgtcsbDX/P/qGo1otEABAfawTqcZPAEBvHUcji2IAQLhY/xZFWABAMJ3s5KA+AEC5xBCHDCIAQGMIJ3oFEQBAeMagDokNAEC1FF0Fm/T/P0tIwsNWVv8/3R1XMws5/j8lwAT8h/38PwweydWm/vs/iVKd+1tk+z/iGYWEbmL7P4H2L7gCcABA\",\"dtype\":\"float64\",\"shape\":[75]},\"y\":{\"__ndarray__\":\"GhExyth1ND/Sv8nbtpRIP2vylNV0PVE/aTum7souWD/At0SJ8fVgPw3Iuahxymc/MSNhhJWvcD/bTfBN02d3P2zb5nxnaoA/CD5h5MAGhz8NmeH1TyaQP+zrCsc9p5Y/LbKd76fGnz/bLW5ISEmmPww9YvTcQq8/JV2OstnstT8Er5Y7M8G+P0c+r3jqkcU/5h99k6ZBzj88bCIzFzjVP4enV8oyxN0//yH99nXg5D8qOpLLf0jtP5kqGJXUifQ/c9cS8kHP/D+/DpwzojQEQIEmwoanVwxA4lgXt9HgE0BSSZ2AJuIbQAMJih9jjiNA5q4l5INuK0AwTKYKRj0zQNv5fmq8/DpAaCJseHrtQkB/+zpwzoxKQM3MzMzMeFJAZmZmZmZqWEAAAAAAAFxeQM3MzMzMJmJAmpmZmZkfZUBmZmZmZhhoQDMzMzMzEWtAAAAAAAAKbkBmZmZmZoFwQM3MzMzM/XFAMzMzMzN6c0CamZmZmfZ0QAAAAAAAc3ZAZmZmZmbvd0DNzMzMzGt5QDMzMzMz6HpAmpmZmZlkfEAAAAAAAOF9QGZmZmZmXX9AZmZmZuZsgECamZmZGSuBQM3MzMxM6YFAAAAAAICngkAzMzMzs2WDQGZmZmbmI4RAmpmZmRnihEDNzMzMTKCFQAAAAACAXoZAMzMzM7Mch0BmZmZm5tqHQJqZmZkZmYhAzczMzExXiUAAAAAAgBWKQDMzMzOz04pAZmZmZuaRi0CamZmZGVCMQM3MzMxMDo1AAAAAAIDMjUAzMzMzs4qOQGZmZmbmSI9A\",\"dtype\":\"float64\",\"shape\":[75]}},\"selected\":{\"id\":\"3b6fc01d-4ac0-46e4-a8d3-e20d4fe32bac\",\"type\":\"Selection\"},\"selection_policy\":{\"id\":\"2ad13866-51a7-43c2-9634-99edd0282a5d\",\"type\":\"UnionRenderers\"}},\"id\":\"25aeed79-a5cc-41ef-96fd-dc6fd7ca6bfe\",\"type\":\"ColumnDataSource\"},{\"attributes\":{\"data_source\":{\"id\":\"e804c828-e8f9-439b-916a-4e999a64fab2\",\"type\":\"ColumnDataSource\"},\"glyph\":{\"id\":\"284ddf96-6558-4af7-a036-e673b1d8d31b\",\"type\":\"Line\"},\"hover_glyph\":null,\"muted_glyph\":null,\"nonselection_glyph\":{\"id\":\"250afaf5-d40b-4446-b0ca-52101285bd31\",\"type\":\"Line\"},\"selection_glyph\":null,\"view\":{\"id\":\"a8d48ae3-62f3-47e4-bbfe-c9f411d2ce6e\",\"type\":\"CDSView\"}},\"id\":\"70f659a4-b065-486a-b15f-6a2acea9a888\",\"type\":\"GlyphRenderer\"},{\"attributes\":{\"callback\":null,\"end\":0.01,\"start\":1020},\"id\":\"e4ab443b-a8a5-4422-9dad-831417ded564\",\"type\":\"Range1d\"},{\"attributes\":{\"source\":{\"id\":\"69d89f83-591f-4ec5-a63e-25d9b5da0419\",\"type\":\"ColumnDataSource\"}},\"id\":\"6b961a8d-606e-462f-a25f-58b5656eca45\",\"type\":\"CDSView\"},{\"attributes\":{},\"id\":\"81ad3772-376f-4212-a9c0-fef631c0de25\",\"type\":\"LogScale\"},{\"attributes\":{\"line_color\":\"#4daf4a\",\"line_width\":1.5,\"x\":{\"field\":\"x\"},\"y\":{\"field\":\"y\"}},\"id\":\"a6ee30e1-0568-47c9-a664-15b86476910c\",\"type\":\"Line\"},{\"attributes\":{\"source\":{\"id\":\"322472f4-61cc-4513-8689-4d1a4708b57c\",\"type\":\"ColumnDataSource\"}},\"id\":\"71f7d751-1e5c-4328-a320-47cdd59f4092\",\"type\":\"CDSView\"},{\"attributes\":{},\"id\":\"e813f0f7-02c0-4cfd-8db0-6c68f2304ac8\",\"type\":\"LogScale\"},{\"attributes\":{\"axis_label\":\"cooling rate [K/day]\",\"formatter\":{\"id\":\"58a96f0d-1dd3-4df5-a316-0cce350beb81\",\"type\":\"BasicTickFormatter\"},\"plot\":{\"id\":\"fd4b8428-3a9b-44e4-b0e7-1c927578663e\",\"subtype\":\"Figure\",\"type\":\"Plot\"},\"ticker\":{\"id\":\"c7561e88-9e19-43d2-90dc-8d5f270d17aa\",\"type\":\"BasicTicker\"}},\"id\":\"c7b89dea-41d0-4c9d-95f6-6430d8ca733c\",\"type\":\"LinearAxis\"},{\"attributes\":{},\"id\":\"7d99dec2-f52b-4734-abe4-8ba50fe2adc8\",\"type\":\"BasicTickFormatter\"},{\"attributes\":{\"data_source\":{\"id\":\"69d89f83-591f-4ec5-a63e-25d9b5da0419\",\"type\":\"ColumnDataSource\"},\"glyph\":{\"id\":\"59c95671-e2c9-4c50-ae06-8f6c84f38f12\",\"type\":\"Circle\"},\"hover_glyph\":null,\"muted_glyph\":null,\"nonselection_glyph\":{\"id\":\"9e633ebd-6f56-4e94-91e2-30cf12435a24\",\"type\":\"Circle\"},\"selection_glyph\":null,\"view\":{\"id\":\"6b961a8d-606e-462f-a25f-58b5656eca45\",\"type\":\"CDSView\"}},\"id\":\"6c643bdb-5b32-4e38-b813-483da8d22f36\",\"type\":\"GlyphRenderer\"},{\"attributes\":{\"data_source\":{\"id\":\"322472f4-61cc-4513-8689-4d1a4708b57c\",\"type\":\"ColumnDataSource\"},\"glyph\":{\"id\":\"7271d535-745a-4011-ae04-94a829ece15d\",\"type\":\"Line\"},\"hover_glyph\":null,\"muted_glyph\":null,\"nonselection_glyph\":{\"id\":\"a7065aa0-87ba-4e7b-a740-f53256e4f130\",\"type\":\"Line\"},\"selection_glyph\":null,\"view\":{\"id\":\"71f7d751-1e5c-4328-a320-47cdd59f4092\",\"type\":\"CDSView\"}},\"id\":\"f0371589-6b7f-44a8-8bd9-f6b157819046\",\"type\":\"GlyphRenderer\"},{\"attributes\":{\"above\":[{\"id\":\"a74f4fff-a26d-4c8b-9b49-e4334fc2d650\",\"type\":\"Legend\"}],\"below\":[{\"id\":\"c7b89dea-41d0-4c9d-95f6-6430d8ca733c\",\"type\":\"LinearAxis\"}],\"left\":[{\"id\":\"aece8390-be87-48ac-ac37-dfabba4086fa\",\"type\":\"LogAxis\"}],\"plot_width\":300,\"renderers\":[{\"id\":\"c7b89dea-41d0-4c9d-95f6-6430d8ca733c\",\"type\":\"LinearAxis\"},{\"id\":\"09a97010-6647-441f-a7a2-907b24193cea\",\"type\":\"Grid\"},{\"id\":\"aece8390-be87-48ac-ac37-dfabba4086fa\",\"type\":\"LogAxis\"},{\"id\":\"152311ab-9dc0-4ddf-80b6-1d44c218692f\",\"type\":\"Grid\"},{\"id\":\"7aad09a7-1ee3-4cc6-940f-5f718b240afa\",\"type\":\"BoxAnnotation\"},{\"id\":\"b76f6561-26ae-4e08-be64-9c876f90c443\",\"type\":\"GlyphRenderer\"},{\"id\":\"6c643bdb-5b32-4e38-b813-483da8d22f36\",\"type\":\"GlyphRenderer\"},{\"id\":\"7fa574f1-89b3-4a47-8eae-e35af11d6ed0\",\"type\":\"GlyphRenderer\"},{\"id\":\"a74f4fff-a26d-4c8b-9b49-e4334fc2d650\",\"type\":\"Legend\"}],\"title\":{\"id\":\"9c19199d-ece3-4198-9b5e-837b1c2c4ff9\",\"type\":\"Title\"},\"toolbar\":{\"id\":\"8cdb7146-93fe-4d19-a360-480e3f2d9d21\",\"type\":\"Toolbar\"},\"toolbar_location\":null,\"x_range\":{\"id\":\"018609f8-235a-4119-81d4-667f0c1e9e14\",\"type\":\"Range1d\"},\"x_scale\":{\"id\":\"39ad647c-5a87-4140-8284-696b8976bb8d\",\"type\":\"LinearScale\"},\"y_range\":{\"id\":\"333d7e8b-d7f1-4f96-bec8-f2affaa81591\",\"type\":\"Range1d\"},\"y_scale\":{\"id\":\"81ad3772-376f-4212-a9c0-fef631c0de25\",\"type\":\"LogScale\"}},\"id\":\"fd4b8428-3a9b-44e4-b0e7-1c927578663e\",\"subtype\":\"Figure\",\"type\":\"Plot\"},{\"attributes\":{\"line_alpha\":0.1,\"line_color\":\"#1f77b4\",\"line_width\":1.5,\"x\":{\"field\":\"x\"},\"y\":{\"field\":\"y\"}},\"id\":\"a7065aa0-87ba-4e7b-a740-f53256e4f130\",\"type\":\"Line\"},{\"attributes\":{\"line_alpha\":0.1,\"line_color\":\"#1f77b4\",\"line_width\":1.5,\"x\":{\"field\":\"x\"},\"y\":{\"field\":\"y\"}},\"id\":\"03e2d3ed-b0fa-474f-a246-4e3a051a862a\",\"type\":\"Line\"},{\"attributes\":{\"callback\":null,\"data\":{\"x\":{\"__ndarray__\":\"Qpcwz9gzGkC34KzIkEYUQAHtmZTPMRJAha2WoDoSEECB4woUW/YLQGFFeMJxAghAeX8nXOxgBEBfzC8M3BgBQBFpjVTpT/w/ltLc+WMV9z+vFsg3lnryP0DqwZOk4uw/bGCbYY295T8VJ4j4Y/fdPxn75x3EdtQ/cIR/72Xa1D+c9m0Ly4XaP4gAEcXfdt8/zinKnEBq4j9oTnSsZ8PlP3tcpdgpSuo/BAwHq9CT8D8WQ8hLiD30P5ITn5hiavM/0XoSyfz47j9eVqdxvnPpP9IBr9YwAOY/pL7NN66a4z/wGTFV6OPhP6aVetEJg+A/5PNTLYov3j/PCsmcChPbP/8CwZlVn9g/kxpBb0X61j+VxW/6CAjVPx0T1WuYrNI/WCa6rAIj0T8pEQFx+GfQP6wN7qx2E84/FdJOw72GzD9Oziywz+XWPwsgu8J3Pe0/x1nw+feu+D+7keKalwwAQIKVRlzZ1AFArQxG3sMrAEBZcC+sXqr9PyhCWK2Dhfw/Y5XWhaoK/D+tdaK2wdz7Pxpnzx5/y/s/gkGWIENN+z/blCNLg+b6P2L3Wt1czvo/6drC9Hf2+j8+W3JZX1X7P71OIVEM6/s/H3twSHm+/T8RgtcsbDX/P/qGo1otEABAfawTqcZPAEBvHUcji2IAQLhY/xZFWABAMJ3s5KA+AEC5xBCHDCIAQGMIJ3oFEQBAeMagDokNAEC1FF0Fm/T/P0tIwsNWVv8/3R1XMws5/j8lwAT8h/38PwweydWm/vs/iVKd+1tk+z/iGYWEbmL7P4H2L7gCcABA\",\"dtype\":\"float64\",\"shape\":[75]},\"y\":{\"__ndarray__\":\"GhExyth1ND/Sv8nbtpRIP2vylNV0PVE/aTum7souWD/At0SJ8fVgPw3Iuahxymc/MSNhhJWvcD/bTfBN02d3P2zb5nxnaoA/CD5h5MAGhz8NmeH1TyaQP+zrCsc9p5Y/LbKd76fGnz/bLW5ISEmmPww9YvTcQq8/JV2OstnstT8Er5Y7M8G+P0c+r3jqkcU/5h99k6ZBzj88bCIzFzjVP4enV8oyxN0//yH99nXg5D8qOpLLf0jtP5kqGJXUifQ/c9cS8kHP/D+/DpwzojQEQIEmwoanVwxA4lgXt9HgE0BSSZ2AJuIbQAMJih9jjiNA5q4l5INuK0AwTKYKRj0zQNv5fmq8/DpAaCJseHrtQkB/+zpwzoxKQM3MzMzMeFJAZmZmZmZqWEAAAAAAAFxeQM3MzMzMJmJAmpmZmZkfZUBmZmZmZhhoQDMzMzMzEWtAAAAAAAAKbkBmZmZmZoFwQM3MzMzM/XFAMzMzMzN6c0CamZmZmfZ0QAAAAAAAc3ZAZmZmZmbvd0DNzMzMzGt5QDMzMzMz6HpAmpmZmZlkfEAAAAAAAOF9QGZmZmZmXX9AZmZmZuZsgECamZmZGSuBQM3MzMxM6YFAAAAAAICngkAzMzMzs2WDQGZmZmbmI4RAmpmZmRnihEDNzMzMTKCFQAAAAACAXoZAMzMzM7Mch0BmZmZm5tqHQJqZmZkZmYhAzczMzExXiUAAAAAAgBWKQDMzMzOz04pAZmZmZuaRi0CamZmZGVCMQM3MzMxMDo1AAAAAAIDMjUAzMzMzs4qOQGZmZmbmSI9A\",\"dtype\":\"float64\",\"shape\":[75]}},\"selected\":{\"id\":\"bacbfd66-906e-4efb-8ee1-ca4cd885701d\",\"type\":\"Selection\"},\"selection_policy\":{\"id\":\"94bf03c5-42d6-4340-aca2-12d12787af9f\",\"type\":\"UnionRenderers\"}},\"id\":\"322472f4-61cc-4513-8689-4d1a4708b57c\",\"type\":\"ColumnDataSource\"},{\"attributes\":{\"source\":{\"id\":\"1a571bce-29b0-4426-9e12-029635fcc9e6\",\"type\":\"ColumnDataSource\"}},\"id\":\"db099d93-993d-4cab-9bd6-0c009f26aa81\",\"type\":\"CDSView\"},{\"attributes\":{\"data_source\":{\"id\":\"1a571bce-29b0-4426-9e12-029635fcc9e6\",\"type\":\"ColumnDataSource\"},\"glyph\":{\"id\":\"70cb5191-7689-4082-a063-5d2d9a9d4aac\",\"type\":\"Circle\"},\"hover_glyph\":null,\"muted_glyph\":null,\"nonselection_glyph\":{\"id\":\"8897bda7-f8a6-4043-bd0f-06701f1d8635\",\"type\":\"Circle\"},\"selection_glyph\":null,\"view\":{\"id\":\"db099d93-993d-4cab-9bd6-0c009f26aa81\",\"type\":\"CDSView\"}},\"id\":\"f5c67862-8207-4852-8f46-78be68ecb37b\",\"type\":\"GlyphRenderer\"},{\"attributes\":{\"line_color\":\"#4daf4a\",\"line_width\":1.5,\"x\":{\"field\":\"x\"},\"y\":{\"field\":\"y\"}},\"id\":\"7271d535-745a-4011-ae04-94a829ece15d\",\"type\":\"Line\"},{\"attributes\":{\"tools\":[{\"id\":\"4dc07baa-abfb-42d3-8384-d617260107d6\",\"type\":\"PanTool\"},{\"id\":\"6a330e03-8817-4440-a958-e2e8b80639bc\",\"type\":\"WheelZoomTool\"},{\"id\":\"e88ffb99-074d-4991-9903-333abfe3de21\",\"type\":\"BoxZoomTool\"},{\"id\":\"ac15a0e0-f259-4fee-bb8e-a3c64363716a\",\"type\":\"SaveTool\"},{\"id\":\"26b67a8a-c793-4117-8408-b22df406a6ba\",\"type\":\"ResetTool\"},{\"id\":\"a7637f68-99f3-47fb-af3b-ee05969796c4\",\"type\":\"HelpTool\"},{\"id\":\"ae62b9ae-0873-4840-a753-b2e0dd3dfe92\",\"type\":\"PanTool\"},{\"id\":\"5c578688-4d6c-432a-8bc3-b55ac13221be\",\"type\":\"WheelZoomTool\"},{\"id\":\"df35fc12-464c-429e-aa58-67a78076344e\",\"type\":\"BoxZoomTool\"},{\"id\":\"69434e03-0d24-4228-ab4d-c6e97c173b6e\",\"type\":\"SaveTool\"},{\"id\":\"07bca5fc-99ab-4648-917d-4425b556a5e9\",\"type\":\"ResetTool\"},{\"id\":\"ccaa5e14-f5a1-4af9-8590-13a8cd564102\",\"type\":\"HelpTool\"},{\"id\":\"566704ff-a594-4ecf-999b-1b01a1f186c1\",\"type\":\"PanTool\"},{\"id\":\"6a37203f-5be0-4d48-b0f9-ca5752e620a4\",\"type\":\"WheelZoomTool\"},{\"id\":\"9ba2e3d2-49ea-4af6-b993-4a87148dd5de\",\"type\":\"BoxZoomTool\"},{\"id\":\"e9b561fa-0f7e-4ab3-9c4e-76ec941543d3\",\"type\":\"SaveTool\"},{\"id\":\"8ebe393b-d5e6-4230-91a8-b4189848c38d\",\"type\":\"ResetTool\"},{\"id\":\"c46b4c9e-e87f-4237-8c11-3a2730b59904\",\"type\":\"HelpTool\"}]},\"id\":\"774112a7-6d5a-4cce-813f-e1cf0d3b42d2\",\"type\":\"ProxyToolbar\"},{\"attributes\":{\"callback\":null,\"data\":{\"x\":{\"__ndarray__\":\"Qpcwz9gzGkC34KzIkEYUQAHtmZTPMRJAha2WoDoSEECB4woUW/YLQGFFeMJxAghAeX8nXOxgBEBfzC8M3BgBQBFpjVTpT/w/ltLc+WMV9z+vFsg3lnryP0DqwZOk4uw/bGCbYY295T8VJ4j4Y/fdPxn75x3EdtQ/cIR/72Xa1D+c9m0Ly4XaP4gAEcXfdt8/zinKnEBq4j9oTnSsZ8PlP3tcpdgpSuo/BAwHq9CT8D8WQ8hLiD30P5ITn5hiavM/0XoSyfz47j9eVqdxvnPpP9IBr9YwAOY/pL7NN66a4z/wGTFV6OPhP6aVetEJg+A/5PNTLYov3j/PCsmcChPbP/8CwZlVn9g/kxpBb0X61j+VxW/6CAjVPx0T1WuYrNI/WCa6rAIj0T8pEQFx+GfQP6wN7qx2E84/FdJOw72GzD9Oziywz+XWPwsgu8J3Pe0/x1nw+feu+D+7keKalwwAQIKVRlzZ1AFArQxG3sMrAEBZcC+sXqr9PyhCWK2Dhfw/Y5XWhaoK/D+tdaK2wdz7Pxpnzx5/y/s/gkGWIENN+z/blCNLg+b6P2L3Wt1czvo/6drC9Hf2+j8+W3JZX1X7P71OIVEM6/s/H3twSHm+/T8RgtcsbDX/P/qGo1otEABAfawTqcZPAEBvHUcji2IAQLhY/xZFWABAMJ3s5KA+AEC5xBCHDCIAQGMIJ3oFEQBAeMagDokNAEC1FF0Fm/T/P0tIwsNWVv8/3R1XMws5/j8lwAT8h/38PwweydWm/vs/iVKd+1tk+z/iGYWEbmL7P4H2L7gCcABA\",\"dtype\":\"float64\",\"shape\":[75]},\"y\":{\"__ndarray__\":\"GhExyth1ND/Sv8nbtpRIP2vylNV0PVE/aTum7souWD/At0SJ8fVgPw3Iuahxymc/MSNhhJWvcD/bTfBN02d3P2zb5nxnaoA/CD5h5MAGhz8NmeH1TyaQP+zrCsc9p5Y/LbKd76fGnz/bLW5ISEmmPww9YvTcQq8/JV2OstnstT8Er5Y7M8G+P0c+r3jqkcU/5h99k6ZBzj88bCIzFzjVP4enV8oyxN0//yH99nXg5D8qOpLLf0jtP5kqGJXUifQ/c9cS8kHP/D+/DpwzojQEQIEmwoanVwxA4lgXt9HgE0BSSZ2AJuIbQAMJih9jjiNA5q4l5INuK0AwTKYKRj0zQNv5fmq8/DpAaCJseHrtQkB/+zpwzoxKQM3MzMzMeFJAZmZmZmZqWEAAAAAAAFxeQM3MzMzMJmJAmpmZmZkfZUBmZmZmZhhoQDMzMzMzEWtAAAAAAAAKbkBmZmZmZoFwQM3MzMzM/XFAMzMzMzN6c0CamZmZmfZ0QAAAAAAAc3ZAZmZmZmbvd0DNzMzMzGt5QDMzMzMz6HpAmpmZmZlkfEAAAAAAAOF9QGZmZmZmXX9AZmZmZuZsgECamZmZGSuBQM3MzMxM6YFAAAAAAICngkAzMzMzs2WDQGZmZmbmI4RAmpmZmRnihEDNzMzMTKCFQAAAAACAXoZAMzMzM7Mch0BmZmZm5tqHQJqZmZkZmYhAzczMzExXiUAAAAAAgBWKQDMzMzOz04pAZmZmZuaRi0CamZmZGVCMQM3MzMxMDo1AAAAAAIDMjUAzMzMzs4qOQGZmZmbmSI9A\",\"dtype\":\"float64\",\"shape\":[75]}},\"selected\":{\"id\":\"83f57c5a-75cd-468d-8135-1ce7af2d807c\",\"type\":\"Selection\"},\"selection_policy\":{\"id\":\"b2683faa-4a42-4129-b6f0-9f15b9501488\",\"type\":\"UnionRenderers\"}},\"id\":\"1a571bce-29b0-4426-9e12-029635fcc9e6\",\"type\":\"ColumnDataSource\"},{\"attributes\":{\"line_alpha\":0.6,\"line_color\":\"#e41a1c\",\"line_dash\":[6],\"line_width\":5,\"x\":{\"field\":\"x\"},\"y\":{\"field\":\"y\"}},\"id\":\"545d94b6-4454-48f4-a299-c14c4186c669\",\"type\":\"Line\"},{\"attributes\":{\"source\":{\"id\":\"6f2fdb57-4d62-4065-bce5-e5378b8d9a20\",\"type\":\"ColumnDataSource\"}},\"id\":\"ec4c4886-4394-4a68-877b-84c7ed7b810c\",\"type\":\"CDSView\"},{\"attributes\":{\"items\":[{\"id\":\"bf9eabf7-7544-4681-97ca-27d5a6e4f5b2\",\"type\":\"LegendItem\"},{\"id\":\"e29bc6f6-3c12-417e-8fd8-b86a1943ca16\",\"type\":\"LegendItem\"}],\"label_text_font_size\":{\"value\":\"8pt\"},\"location\":\"top_center\",\"orientation\":\"horizontal\",\"plot\":{\"id\":\"fd4b8428-3a9b-44e4-b0e7-1c927578663e\",\"subtype\":\"Figure\",\"type\":\"Plot\"}},\"id\":\"a74f4fff-a26d-4c8b-9b49-e4334fc2d650\",\"type\":\"Legend\"},{\"attributes\":{\"children\":[{\"id\":\"85777876-baa7-4c68-b405-8811404742c7\",\"type\":\"ToolbarBox\"},{\"id\":\"1d1dce07-58a5-481e-b1dd-f99d83afb27d\",\"type\":\"Column\"}]},\"id\":\"dd14ff27-d371-4fd4-a000-28280c503895\",\"type\":\"Column\"},{\"attributes\":{\"data_source\":{\"id\":\"8cdc21e0-7b1a-496c-b774-a0fa6fc26f67\",\"type\":\"ColumnDataSource\"},\"glyph\":{\"id\":\"79ec423c-b452-4ae7-8395-2b65d4d36bc4\",\"type\":\"Circle\"},\"hover_glyph\":null,\"muted_glyph\":null,\"nonselection_glyph\":{\"id\":\"a12853d2-0ff2-41f7-9dab-f1bdc3ab360a\",\"type\":\"Circle\"},\"selection_glyph\":null,\"view\":{\"id\":\"a338378f-e0fc-4cca-a2f7-2a4a9e4ebb8c\",\"type\":\"CDSView\"}},\"id\":\"6c134b82-ab23-4ce1-b9bf-55a94d960159\",\"type\":\"GlyphRenderer\"},{\"attributes\":{\"callback\":null,\"data\":{\"x\":{\"__ndarray__\":\"MifBicXGDkDbDhwrOKwMQJsq7tzMpgtAk65sOekzCkAQdoOJvjoIQCapULRUtwVA9JyutT28AkD75SltqAL/P3Ah4AHOu/g/lFXGZXZt8z/4V4YW5Q7vP7BLZmxAiuk/D3nkeI/j5D9GlIN/N0TfPyy51bZ6GtY/K1XhAQmZ1D8MOeRwpU/YPwSRuVR+79w/UiJC9OeE4T+Fj6QL/CvlP9dHd/1bnOk/SFElIREq8D+bzbeRuBn0P+6YpMcmB/Q/PJm9QIaq8D9IWr42FJLrP8izsdLRh+c/hTMLU6vv4z8fwLS53HzhP2+SAtowNOA/nh3kElXV3T8iJUEhOZfaP+Pdc9jQt9g/Ko7su0gg1z/WQSz2WabUP/Cp1KgK19E/yxWyA4OCzz+Bx8IDvrTNP5BVWdSpY8s/te3TBh5yyj/bLy+te9rVP/W6MV0Ij+w/RGv/hS4/+D+jpG1q1hUAQMXTMVmFYQFAEOwk6x5I/z8QiTN0cz79P4CXG7lI8fs/a2c6PTcm+z/DSfl2IPj6PxbUSEUdJvs/o+I1kBDZ+j8Y2uODKp76Py41kqpMjfo/17wJAWK2+j/aUbtnLQX7PyxBKVhvlfs/F6rxQlmE/T+oqNhiwET/PxDDmgy/SgBAE1AVjd2wAEBjfwR1troAQE3Onv2gmgBAk1KYjOZgAED73pOAOSsAQOMtXWY0LABA11YZsUJKAEBD0Q5IWlcAQJCHfJ/DNwBAfk/BXPFq/z+/K4e4Zzn+P+7IByb/R/0/bhF68LGU/D96kDrTpr/8P8W+Z5tQLQFA\",\"dtype\":\"float64\",\"shape\":[75]},\"y\":{\"__ndarray__\":\"GhExyth1ND/Sv8nbtpRIP2vylNV0PVE/aTum7souWD/At0SJ8fVgPw3Iuahxymc/MSNhhJWvcD/bTfBN02d3P2zb5nxnaoA/CD5h5MAGhz8NmeH1TyaQP+zrCsc9p5Y/LbKd76fGnz/bLW5ISEmmPww9YvTcQq8/JV2OstnstT8Er5Y7M8G+P0c+r3jqkcU/5h99k6ZBzj88bCIzFzjVP4enV8oyxN0//yH99nXg5D8qOpLLf0jtP5kqGJXUifQ/c9cS8kHP/D+/DpwzojQEQIEmwoanVwxA4lgXt9HgE0BSSZ2AJuIbQAMJih9jjiNA5q4l5INuK0AwTKYKRj0zQNv5fmq8/DpAaCJseHrtQkB/+zpwzoxKQM3MzMzMeFJAZmZmZmZqWEAAAAAAAFxeQM3MzMzMJmJAmpmZmZkfZUBmZmZmZhhoQDMzMzMzEWtAAAAAAAAKbkBmZmZmZoFwQM3MzMzM/XFAMzMzMzN6c0CamZmZmfZ0QAAAAAAAc3ZAZmZmZmbvd0DNzMzMzGt5QDMzMzMz6HpAmpmZmZlkfEAAAAAAAOF9QGZmZmZmXX9AZmZmZuZsgECamZmZGSuBQM3MzMxM6YFAAAAAAICngkAzMzMzs2WDQGZmZmbmI4RAmpmZmRnihEDNzMzMTKCFQAAAAACAXoZAMzMzM7Mch0BmZmZm5tqHQJqZmZkZmYhAzczMzExXiUAAAAAAgBWKQDMzMzOz04pAZmZmZuaRi0CamZmZGVCMQM3MzMxMDo1AAAAAAIDMjUAzMzMzs4qOQGZmZmbmSI9A\",\"dtype\":\"float64\",\"shape\":[75]}},\"selected\":{\"id\":\"aad24451-a62b-4f3e-96bb-c53782e2cb44\",\"type\":\"Selection\"},\"selection_policy\":{\"id\":\"6cd15f85-d4af-46c8-a2d9-6468a2c82d94\",\"type\":\"UnionRenderers\"}},\"id\":\"e804c828-e8f9-439b-916a-4e999a64fab2\",\"type\":\"ColumnDataSource\"},{\"attributes\":{\"source\":{\"id\":\"58e8460f-0aa2-4a04-886b-d63fdc5f8b9f\",\"type\":\"ColumnDataSource\"}},\"id\":\"39b5c8ee-b370-4ed6-8b4d-5a1af21fbfa5\",\"type\":\"CDSView\"},{\"attributes\":{\"fill_alpha\":{\"value\":0.7},\"fill_color\":{\"value\":\"#4daf4a\"},\"line_alpha\":{\"value\":0.7},\"line_color\":{\"value\":\"#4daf4a\"},\"x\":{\"field\":\"x\"},\"y\":{\"field\":\"y\"}},\"id\":\"59c95671-e2c9-4c50-ae06-8f6c84f38f12\",\"type\":\"Circle\"},{\"attributes\":{},\"id\":\"ebc85ed7-e789-48ce-956c-e9b4f504bbae\",\"type\":\"Selection\"},{\"attributes\":{\"toolbar\":{\"id\":\"774112a7-6d5a-4cce-813f-e1cf0d3b42d2\",\"type\":\"ProxyToolbar\"},\"toolbar_location\":\"above\"},\"id\":\"85777876-baa7-4c68-b405-8811404742c7\",\"type\":\"ToolbarBox\"},{\"attributes\":{\"fill_alpha\":{\"value\":0.7},\"fill_color\":{\"value\":\"#984ea3\"},\"line_alpha\":{\"value\":0.7},\"line_color\":{\"value\":\"#984ea3\"},\"x\":{\"field\":\"x\"},\"y\":{\"field\":\"y\"}},\"id\":\"79ec423c-b452-4ae7-8395-2b65d4d36bc4\",\"type\":\"Circle\"},{\"attributes\":{},\"id\":\"e52acbf8-fe76-4e44-abf1-306675869e19\",\"type\":\"UnionRenderers\"},{\"attributes\":{},\"id\":\"bdafac86-4ddc-462e-859b-bd9f7bdd1962\",\"type\":\"LinearScale\"},{\"attributes\":{},\"id\":\"ccaa5e14-f5a1-4af9-8590-13a8cd564102\",\"type\":\"HelpTool\"},{\"attributes\":{\"data_source\":{\"id\":\"25aeed79-a5cc-41ef-96fd-dc6fd7ca6bfe\",\"type\":\"ColumnDataSource\"},\"glyph\":{\"id\":\"a6ee30e1-0568-47c9-a664-15b86476910c\",\"type\":\"Line\"},\"hover_glyph\":null,\"muted_glyph\":null,\"nonselection_glyph\":{\"id\":\"991e6806-659e-416c-b156-d6deea03f519\",\"type\":\"Line\"},\"selection_glyph\":null,\"view\":{\"id\":\"8179492c-63a0-4102-b476-a40327eab3a7\",\"type\":\"CDSView\"}},\"id\":\"7fa574f1-89b3-4a47-8eae-e35af11d6ed0\",\"type\":\"GlyphRenderer\"},{\"attributes\":{},\"id\":\"c7561e88-9e19-43d2-90dc-8d5f270d17aa\",\"type\":\"BasicTicker\"},{\"attributes\":{\"bottom_units\":\"screen\",\"fill_alpha\":{\"value\":0.5},\"fill_color\":{\"value\":\"lightgrey\"},\"left_units\":\"screen\",\"level\":\"overlay\",\"line_alpha\":{\"value\":1.0},\"line_color\":{\"value\":\"black\"},\"line_dash\":[4,4],\"line_width\":{\"value\":2},\"plot\":null,\"render_mode\":\"css\",\"right_units\":\"screen\",\"top_units\":\"screen\"},\"id\":\"7aad09a7-1ee3-4cc6-940f-5f718b240afa\",\"type\":\"BoxAnnotation\"},{\"attributes\":{\"source\":{\"id\":\"25aeed79-a5cc-41ef-96fd-dc6fd7ca6bfe\",\"type\":\"ColumnDataSource\"}},\"id\":\"8179492c-63a0-4102-b476-a40327eab3a7\",\"type\":\"CDSView\"},{\"attributes\":{\"data_source\":{\"id\":\"6f2fdb57-4d62-4065-bce5-e5378b8d9a20\",\"type\":\"ColumnDataSource\"},\"glyph\":{\"id\":\"545d94b6-4454-48f4-a299-c14c4186c669\",\"type\":\"Line\"},\"hover_glyph\":null,\"muted_glyph\":null,\"nonselection_glyph\":{\"id\":\"ff3746ee-61d2-4a79-a3bf-a1843005950e\",\"type\":\"Line\"},\"selection_glyph\":null,\"view\":{\"id\":\"ec4c4886-4394-4a68-877b-84c7ed7b810c\",\"type\":\"CDSView\"}},\"id\":\"b76f6561-26ae-4e08-be64-9c876f90c443\",\"type\":\"GlyphRenderer\"},{\"attributes\":{},\"id\":\"07efaded-edcb-4419-ad89-1391b315fd4b\",\"type\":\"UnionRenderers\"},{\"attributes\":{\"axis_label\":\"pressure [mb]\",\"formatter\":{\"id\":\"7237ee6e-7e9e-40fe-a419-da7bdf614ac6\",\"type\":\"LogTickFormatter\"},\"plot\":{\"id\":\"fd4b8428-3a9b-44e4-b0e7-1c927578663e\",\"subtype\":\"Figure\",\"type\":\"Plot\"},\"ticker\":{\"id\":\"3b458952-a6b5-4bd3-b3ba-0d26270f6a15\",\"type\":\"LogTicker\"}},\"id\":\"aece8390-be87-48ac-ac37-dfabba4086fa\",\"type\":\"LogAxis\"},{\"attributes\":{\"callback\":null,\"data\":{\"x\":{\"__ndarray__\":\"UAegFOygBcAiZXvM0sH3v8lei5ikefG/2rECHzDC57+PaztU5Nzdv8rhPHHoWNK/PiiOZ+pKyr8Wlq1ZfXjJv/88apXaoMy//+ezoGw/zb+pVSdkHZnHv4n03Dohw7q/lOvcFr0/m79P07ZvOM2UP0bh245pO5o/vdGLZztXcL9m7E3ULLGhvxh8u4ILO6S/lO8AERWrnL823PcZdO2Sv3WUwmW7uZW/A69ueOJvmr8lvToI3eeBv56rsOCFmKM/RL1Fw33gsj9SH7gorvKwP2AfK8APeqg/0jhdz0Y/hT+LdBbf5sKJv8HNAN49toO/m5H1m0aNdr9za/nhXvR+vzHk2rI+e1g/58u5VaYBYz9a8OAQwWt4v54lDWC4sYq/KbcRrhIclr+d1vrxltmYv9rApcRmfpW/+yLX4/2kkL8359kvQLWQv9SiLLHszZW/QaE7/Fzym7930SUWn31yP0JvMMUA1ay/nNRyFo32sL+G0vn+zfqavwFVlYdeh6K/Ar+FE2mOrL81fSX1J5Ssv6xg0jA7rKS/7rcXGKQMnb/bsO7PMRaSv3uNMLIMRJC/tINH7nwFkL/yWMJtfAyUv7xkAz4+Z5W/HYRovwIQjb/wME0CbKhuP3YKnvvYSJ0/z+VoALlFqD+AfVhv1AqmP19l3af5lqA/cLHa1dMikT/shjQG81lyP0h/JTbsLos/ui9IPNFcnj/ruRFYMUOnP1htbLMHk7E/JhqjlmIesz+XuSbI+72zPyau6gOFlbQ/XO7LTV8Fsz9+aVfrhNO1P3AI+Wa8qbc/\",\"dtype\":\"float64\",\"shape\":[75]},\"y\":{\"__ndarray__\":\"GhExyth1ND/Sv8nbtpRIP2vylNV0PVE/aTum7souWD/At0SJ8fVgPw3Iuahxymc/MSNhhJWvcD/bTfBN02d3P2zb5nxnaoA/CD5h5MAGhz8NmeH1TyaQP+zrCsc9p5Y/LbKd76fGnz/bLW5ISEmmPww9YvTcQq8/JV2OstnstT8Er5Y7M8G+P0c+r3jqkcU/5h99k6ZBzj88bCIzFzjVP4enV8oyxN0//yH99nXg5D8qOpLLf0jtP5kqGJXUifQ/c9cS8kHP/D+/DpwzojQEQIEmwoanVwxA4lgXt9HgE0BSSZ2AJuIbQAMJih9jjiNA5q4l5INuK0AwTKYKRj0zQNv5fmq8/DpAaCJseHrtQkB/+zpwzoxKQM3MzMzMeFJAZmZmZmZqWEAAAAAAAFxeQM3MzMzMJmJAmpmZmZkfZUBmZmZmZhhoQDMzMzMzEWtAAAAAAAAKbkBmZmZmZoFwQM3MzMzM/XFAMzMzMzN6c0CamZmZmfZ0QAAAAAAAc3ZAZmZmZmbvd0DNzMzMzGt5QDMzMzMz6HpAmpmZmZlkfEAAAAAAAOF9QGZmZmZmXX9AZmZmZuZsgECamZmZGSuBQM3MzMxM6YFAAAAAAICngkAzMzMzs2WDQGZmZmbmI4RAmpmZmRnihEDNzMzMTKCFQAAAAACAXoZAMzMzM7Mch0BmZmZm5tqHQJqZmZkZmYhAzczMzExXiUAAAAAAgBWKQDMzMzOz04pAZmZmZuaRi0CamZmZGVCMQM3MzMxMDo1AAAAAAIDMjUAzMzMzs4qOQGZmZmbmSI9A\",\"dtype\":\"float64\",\"shape\":[75]}},\"selected\":{\"id\":\"ebc85ed7-e789-48ce-956c-e9b4f504bbae\",\"type\":\"Selection\"},\"selection_policy\":{\"id\":\"07efaded-edcb-4419-ad89-1391b315fd4b\",\"type\":\"UnionRenderers\"}},\"id\":\"58e8460f-0aa2-4a04-886b-d63fdc5f8b9f\",\"type\":\"ColumnDataSource\"},{\"attributes\":{},\"id\":\"f7455658-8daa-4afe-89a6-a44b76144f14\",\"type\":\"Selection\"},{\"attributes\":{\"plot\":{\"id\":\"fd4b8428-3a9b-44e4-b0e7-1c927578663e\",\"subtype\":\"Figure\",\"type\":\"Plot\"},\"ticker\":{\"id\":\"c7561e88-9e19-43d2-90dc-8d5f270d17aa\",\"type\":\"BasicTicker\"}},\"id\":\"09a97010-6647-441f-a7a2-907b24193cea\",\"type\":\"Grid\"},{\"attributes\":{\"label\":{\"value\":\"CRD\"},\"renderers\":[{\"id\":\"f5c67862-8207-4852-8f46-78be68ecb37b\",\"type\":\"GlyphRenderer\"},{\"id\":\"f0371589-6b7f-44a8-8bd9-f6b157819046\",\"type\":\"GlyphRenderer\"}]},\"id\":\"8761bc82-00d6-4815-bb4c-a372ee1545f4\",\"type\":\"LegendItem\"},{\"attributes\":{},\"id\":\"07bca5fc-99ab-4648-917d-4425b556a5e9\",\"type\":\"ResetTool\"},{\"attributes\":{},\"id\":\"69434e03-0d24-4228-ab4d-c6e97c173b6e\",\"type\":\"SaveTool\"},{\"attributes\":{},\"id\":\"4a9cca9d-f1c1-4f05-b0bf-04e3e479ecc7\",\"type\":\"Selection\"},{\"attributes\":{\"plot\":null,\"text\":\"\"},\"id\":\"1a858162-e5b6-48f1-8990-1b27afc34a5c\",\"type\":\"Title\"},{\"attributes\":{\"callback\":null,\"data\":{\"x\":{\"__ndarray__\":\"UAegFOygBcAiZXvM0sH3v8lei5ikefG/2rECHzDC57+PaztU5Nzdv8rhPHHoWNK/PiiOZ+pKyr8Wlq1ZfXjJv/88apXaoMy//+ezoGw/zb+pVSdkHZnHv4n03Dohw7q/lOvcFr0/m79P07ZvOM2UP0bh245pO5o/vdGLZztXcL9m7E3ULLGhvxh8u4ILO6S/lO8AERWrnL823PcZdO2Sv3WUwmW7uZW/A69ueOJvmr8lvToI3eeBv56rsOCFmKM/RL1Fw33gsj9SH7gorvKwP2AfK8APeqg/0jhdz0Y/hT+LdBbf5sKJv8HNAN49toO/m5H1m0aNdr9za/nhXvR+vzHk2rI+e1g/58u5VaYBYz9a8OAQwWt4v54lDWC4sYq/KbcRrhIclr+d1vrxltmYv9rApcRmfpW/+yLX4/2kkL8359kvQLWQv9SiLLHszZW/QaE7/Fzym7930SUWn31yP0JvMMUA1ay/nNRyFo32sL+G0vn+zfqavwFVlYdeh6K/Ar+FE2mOrL81fSX1J5Ssv6xg0jA7rKS/7rcXGKQMnb/bsO7PMRaSv3uNMLIMRJC/tINH7nwFkL/yWMJtfAyUv7xkAz4+Z5W/HYRovwIQjb/wME0CbKhuP3YKnvvYSJ0/z+VoALlFqD+AfVhv1AqmP19l3af5lqA/cLHa1dMikT/shjQG81lyP0h/JTbsLos/ui9IPNFcnj/ruRFYMUOnP1htbLMHk7E/JhqjlmIesz+XuSbI+72zPyau6gOFlbQ/XO7LTV8Fsz9+aVfrhNO1P3AI+Wa8qbc/\",\"dtype\":\"float64\",\"shape\":[75]},\"y\":{\"__ndarray__\":\"GhExyth1ND/Sv8nbtpRIP2vylNV0PVE/aTum7souWD/At0SJ8fVgPw3Iuahxymc/MSNhhJWvcD/bTfBN02d3P2zb5nxnaoA/CD5h5MAGhz8NmeH1TyaQP+zrCsc9p5Y/LbKd76fGnz/bLW5ISEmmPww9YvTcQq8/JV2OstnstT8Er5Y7M8G+P0c+r3jqkcU/5h99k6ZBzj88bCIzFzjVP4enV8oyxN0//yH99nXg5D8qOpLLf0jtP5kqGJXUifQ/c9cS8kHP/D+/DpwzojQEQIEmwoanVwxA4lgXt9HgE0BSSZ2AJuIbQAMJih9jjiNA5q4l5INuK0AwTKYKRj0zQNv5fmq8/DpAaCJseHrtQkB/+zpwzoxKQM3MzMzMeFJAZmZmZmZqWEAAAAAAAFxeQM3MzMzMJmJAmpmZmZkfZUBmZmZmZhhoQDMzMzMzEWtAAAAAAAAKbkBmZmZmZoFwQM3MzMzM/XFAMzMzMzN6c0CamZmZmfZ0QAAAAAAAc3ZAZmZmZmbvd0DNzMzMzGt5QDMzMzMz6HpAmpmZmZlkfEAAAAAAAOF9QGZmZmZmXX9AZmZmZuZsgECamZmZGSuBQM3MzMxM6YFAAAAAAICngkAzMzMzs2WDQGZmZmbmI4RAmpmZmRnihEDNzMzMTKCFQAAAAACAXoZAMzMzM7Mch0BmZmZm5tqHQJqZmZkZmYhAzczMzExXiUAAAAAAgBWKQDMzMzOz04pAZmZmZuaRi0CamZmZGVCMQM3MzMxMDo1AAAAAAIDMjUAzMzMzs4qOQGZmZmbmSI9A\",\"dtype\":\"float64\",\"shape\":[75]}},\"selected\":{\"id\":\"f7455658-8daa-4afe-89a6-a44b76144f14\",\"type\":\"Selection\"},\"selection_policy\":{\"id\":\"e52acbf8-fe76-4e44-abf1-306675869e19\",\"type\":\"UnionRenderers\"}},\"id\":\"8cdc21e0-7b1a-496c-b774-a0fa6fc26f67\",\"type\":\"ColumnDataSource\"},{\"attributes\":{\"line_alpha\":0.8,\"line_color\":\"#984ea3\",\"line_width\":1.5,\"x\":{\"field\":\"x\"},\"y\":{\"field\":\"y\"}},\"id\":\"7033bc00-b74d-41d0-995e-9a07c993ecf3\",\"type\":\"Line\"}],\"root_ids\":[\"dd14ff27-d371-4fd4-a000-28280c503895\"]},\"title\":\"Bokeh Application\",\"version\":\"0.12.16\"}};\n",
       "  var render_items = [{\"docid\":\"a837b8ba-ee43-4f21-b75f-9d73416dc6b0\",\"elementid\":\"0dfe04c8-eb7e-4490-baed-51f44d5a9aab\",\"modelid\":\"dd14ff27-d371-4fd4-a000-28280c503895\"}];\n",
       "  root.Bokeh.embed.embed_items_notebook(docs_json, render_items);\n",
       "\n",
       "  }\n",
       "  if (root.Bokeh !== undefined) {\n",
       "    embed_document(root);\n",
       "  } else {\n",
       "    var attempts = 0;\n",
       "    var timer = setInterval(function(root) {\n",
       "      if (root.Bokeh !== undefined) {\n",
       "        embed_document(root);\n",
       "        clearInterval(timer);\n",
       "      }\n",
       "      attempts++;\n",
       "      if (attempts > 100) {\n",
       "        console.log(\"Bokeh: ERROR: Unable to run BokehJS code because BokehJS library is missing\")\n",
       "        clearInterval(timer);\n",
       "      }\n",
       "    }, 10, root)\n",
       "  }\n",
       "})(window);"
      ],
      "application/vnd.bokehjs_exec.v0+json": ""
     },
     "metadata": {
      "application/vnd.bokehjs_exec.v0+json": {
       "id": "dd14ff27-d371-4fd4-a000-28280c503895"
      }
     },
     "output_type": "display_data"
    },
    {
     "data": {
      "text/markdown": [
       "*FIGURE.* Cooling rates & difference."
      ],
      "text/plain": [
       "<IPython.core.display.Markdown object>"
      ]
     },
     "metadata": {},
     "output_type": "display_data"
    },
    {
     "data": {
      "text/html": [
       "<a id=\"Fluxes._mls.\"></a>"
      ],
      "text/plain": [
       "<IPython.core.display.HTML object>"
      ]
     },
     "metadata": {},
     "output_type": "display_data"
    },
    {
     "data": {
      "text/markdown": [
       "# Fluxes. mls."
      ],
      "text/plain": [
       "<IPython.core.display.Markdown object>"
      ]
     },
     "metadata": {},
     "output_type": "display_data"
    },
    {
     "data": {
      "text/html": [
       "\n",
       "<div class=\"bk-root\">\n",
       "    <div class=\"bk-plotdiv\" id=\"4f5fa315-d3dd-4d44-9b4b-474fd567aa63\"></div>\n",
       "</div>"
      ]
     },
     "metadata": {},
     "output_type": "display_data"
    },
    {
     "data": {
      "application/javascript": [
       "(function(root) {\n",
       "  function embed_document(root) {\n",
       "    \n",
       "  var docs_json = {\"32746b76-9823-4c32-9831-32ce66a6bf2a\":{\"roots\":{\"references\":[{\"attributes\":{},\"id\":\"4bccbdaa-c190-4c6f-98b7-e36673916a2e\",\"type\":\"HelpTool\"},{\"attributes\":{},\"id\":\"8e11a89f-cd55-499d-9b97-4b8b8e646292\",\"type\":\"CategoricalTicker\"},{\"attributes\":{},\"id\":\"1bb8573e-0d36-4c57-aee0-4e38504f204d\",\"type\":\"Selection\"},{\"attributes\":{},\"id\":\"ca22225e-d8c4-40c6-8490-b83d0840c2d4\",\"type\":\"PanTool\"},{\"attributes\":{\"plot\":null,\"text\":\"TOA flux. CLIRAD - CRD.\"},\"id\":\"8a147d57-f5ef-4d5a-a215-d2888b73d840\",\"type\":\"Title\"},{\"attributes\":{},\"id\":\"d287df11-c20d-48a3-a887-5d26636fab7c\",\"type\":\"CategoricalScale\"},{\"attributes\":{},\"id\":\"53436dde-b0f5-44eb-a58c-2a8208eccc88\",\"type\":\"SaveTool\"},{\"attributes\":{},\"id\":\"fa709811-7225-4ef1-8b7f-c5b30a818336\",\"type\":\"HelpTool\"},{\"attributes\":{\"overlay\":{\"id\":\"451f070e-8389-462d-9a92-c38b125c5a55\",\"type\":\"BoxAnnotation\"}},\"id\":\"8d495a4b-7bbf-4242-9cdb-aa884a4c44ce\",\"type\":\"BoxZoomTool\"},{\"attributes\":{\"callback\":null,\"factors\":[\"1\",\"2\",\"3\",\"4\",\"5\",\"6\",\"7\",\"8\",\"9\",\"10\",\"11\"]},\"id\":\"cde1d162-9428-4961-a858-d326fff009d0\",\"type\":\"FactorRange\"},{\"attributes\":{},\"id\":\"5e9f84ab-11cc-4557-86f8-a1d209e91b6c\",\"type\":\"BasicTickFormatter\"},{\"attributes\":{\"data_source\":{\"id\":\"2bf31206-ae58-40b6-aeea-291bc0d17ba8\",\"type\":\"ColumnDataSource\"},\"glyph\":{\"id\":\"4088f3b6-fe32-437e-b499-f5e9408055a9\",\"type\":\"VBar\"},\"hover_glyph\":null,\"muted_glyph\":null,\"nonselection_glyph\":{\"id\":\"2234225a-6bff-4c81-ae55-f34d1c2abf50\",\"type\":\"VBar\"},\"selection_glyph\":null,\"view\":{\"id\":\"3e71ff8f-6528-492d-82a8-3bac76600a11\",\"type\":\"CDSView\"}},\"id\":\"357afd00-b8e2-4662-b674-2ac37748038e\",\"type\":\"GlyphRenderer\"},{\"attributes\":{},\"id\":\"e138791c-4990-4a6f-b459-82133de8d1dd\",\"type\":\"ResetTool\"},{\"attributes\":{\"axis_label\":\"flux (W m-2)\",\"formatter\":{\"id\":\"1caf4898-3c7e-4c55-86d4-089cfba3359d\",\"type\":\"BasicTickFormatter\"},\"plot\":{\"id\":\"216f5cc4-263c-4426-b3be-349af9d1cdec\",\"subtype\":\"Figure\",\"type\":\"Plot\"},\"ticker\":{\"id\":\"3ae1e5d4-9261-4ed8-a109-e1af47a06346\",\"type\":\"BasicTicker\"}},\"id\":\"e48958c5-2231-4118-9d2a-beba8c2bec3a\",\"type\":\"LinearAxis\"},{\"attributes\":{\"dimension\":1,\"plot\":{\"id\":\"682c7a06-bb42-4762-b078-678dd0ed1b43\",\"subtype\":\"Figure\",\"type\":\"Plot\"},\"ticker\":{\"id\":\"eacdea73-7e11-46b2-a302-ea1d80bfbf78\",\"type\":\"BasicTicker\"}},\"id\":\"1d9930c5-7636-437d-a3da-822545379941\",\"type\":\"Grid\"},{\"attributes\":{\"callback\":null,\"factors\":[\"1\",\"2\",\"3\",\"4\",\"5\",\"6\",\"7\",\"8\",\"9\",\"10\",\"11\"]},\"id\":\"ba728b9b-c199-425c-ab77-817683849047\",\"type\":\"FactorRange\"},{\"attributes\":{},\"id\":\"3ae1e5d4-9261-4ed8-a109-e1af47a06346\",\"type\":\"BasicTicker\"},{\"attributes\":{\"dimension\":1,\"plot\":{\"id\":\"c98f4761-88ba-4f32-aca9-ecb7795f114b\",\"subtype\":\"Figure\",\"type\":\"Plot\"},\"ticker\":{\"id\":\"9ec2391b-8cd6-4e64-858a-7b0e73e0fd5b\",\"type\":\"BasicTicker\"}},\"id\":\"961dda0b-9efc-4df6-bd8c-3315e0a6adc0\",\"type\":\"Grid\"},{\"attributes\":{\"data_source\":{\"id\":\"91de3821-470e-42cd-84db-ebe411cbdcdb\",\"type\":\"ColumnDataSource\"},\"glyph\":{\"id\":\"4e2c3ab1-fce7-484c-8004-370278ac1cc1\",\"type\":\"VBar\"},\"hover_glyph\":null,\"muted_glyph\":null,\"nonselection_glyph\":{\"id\":\"1dd180e8-5fa9-495b-a447-81205ad45677\",\"type\":\"VBar\"},\"selection_glyph\":null,\"view\":{\"id\":\"9a392d25-4e91-4a56-b526-b9141e932dd1\",\"type\":\"CDSView\"}},\"id\":\"fbe47df4-b74b-4dd5-af6f-dfe1d5e711ad\",\"type\":\"GlyphRenderer\"},{\"attributes\":{},\"id\":\"cdab2b1b-f42e-4c80-add7-0ea1d153c2a8\",\"type\":\"CategoricalTicker\"},{\"attributes\":{\"children\":[{\"id\":\"c69e1254-fedf-48af-b024-1998ce55d344\",\"type\":\"ToolbarBox\"},{\"id\":\"cf03ed11-55af-4a17-98e4-a0830133d853\",\"type\":\"Column\"}]},\"id\":\"12aa312d-1bd8-4e79-a400-58973739f23c\",\"type\":\"Column\"},{\"attributes\":{\"axis_label\":\"spectral band\",\"formatter\":{\"id\":\"825638ab-1081-48df-956a-5b55d74ff0ee\",\"type\":\"CategoricalTickFormatter\"},\"plot\":{\"id\":\"216f5cc4-263c-4426-b3be-349af9d1cdec\",\"subtype\":\"Figure\",\"type\":\"Plot\"},\"ticker\":{\"id\":\"dfeb823a-be7c-4f00-b659-12687c751736\",\"type\":\"CategoricalTicker\"}},\"id\":\"f7cb7715-88b5-4c98-b04d-c11d72f2a6af\",\"type\":\"CategoricalAxis\"},{\"attributes\":{\"active_drag\":\"auto\",\"active_inspect\":\"auto\",\"active_scroll\":\"auto\",\"active_tap\":\"auto\",\"tools\":[{\"id\":\"95d720d1-d157-4370-aff5-a72244becbda\",\"type\":\"PanTool\"},{\"id\":\"dfc8eed1-6f9a-4929-ac4f-bba12409644a\",\"type\":\"WheelZoomTool\"},{\"id\":\"8d495a4b-7bbf-4242-9cdb-aa884a4c44ce\",\"type\":\"BoxZoomTool\"},{\"id\":\"3f06efc8-6262-4d14-8c00-c206f7ff0c96\",\"type\":\"SaveTool\"},{\"id\":\"80b5b75c-0fec-4852-a259-8d46d144ce07\",\"type\":\"ResetTool\"},{\"id\":\"4bccbdaa-c190-4c6f-98b7-e36673916a2e\",\"type\":\"HelpTool\"}]},\"id\":\"5c38a72e-f96a-4939-8714-609bc9896295\",\"type\":\"Toolbar\"},{\"attributes\":{},\"id\":\"0f2fdd4c-8e5e-4e5d-afa9-0c4235a6ea9e\",\"type\":\"CategoricalTickFormatter\"},{\"attributes\":{},\"id\":\"aa9a0457-d585-4dca-9b81-6723adc62632\",\"type\":\"UnionRenderers\"},{\"attributes\":{\"below\":[{\"id\":\"81d2fddd-12f0-414b-89f8-1414df4e4e7e\",\"type\":\"CategoricalAxis\"}],\"left\":[{\"id\":\"96ac3238-aace-4c4b-846a-d111ae37c0f1\",\"type\":\"LinearAxis\"}],\"plot_height\":300,\"plot_width\":300,\"renderers\":[{\"id\":\"81d2fddd-12f0-414b-89f8-1414df4e4e7e\",\"type\":\"CategoricalAxis\"},{\"id\":\"c00912dc-6a01-4114-b867-c5d09158cce2\",\"type\":\"Grid\"},{\"id\":\"96ac3238-aace-4c4b-846a-d111ae37c0f1\",\"type\":\"LinearAxis\"},{\"id\":\"961dda0b-9efc-4df6-bd8c-3315e0a6adc0\",\"type\":\"Grid\"},{\"id\":\"88e30cd1-658e-4e22-8334-ae57df826eee\",\"type\":\"BoxAnnotation\"},{\"id\":\"357afd00-b8e2-4662-b674-2ac37748038e\",\"type\":\"GlyphRenderer\"}],\"title\":{\"id\":\"38970357-80fa-46e6-8e3f-cab9b13af625\",\"type\":\"Title\"},\"toolbar\":{\"id\":\"994c9a24-c654-4539-8c58-6cdee6254302\",\"type\":\"Toolbar\"},\"toolbar_location\":null,\"x_range\":{\"id\":\"ba728b9b-c199-425c-ab77-817683849047\",\"type\":\"FactorRange\"},\"x_scale\":{\"id\":\"d287df11-c20d-48a3-a887-5d26636fab7c\",\"type\":\"CategoricalScale\"},\"y_range\":{\"id\":\"f10c9a7c-dbfc-4f9b-8283-102346ceca81\",\"type\":\"DataRange1d\"},\"y_scale\":{\"id\":\"628e3fb6-a132-47ae-8ada-4d61ed856a96\",\"type\":\"LinearScale\"}},\"id\":\"c98f4761-88ba-4f32-aca9-ecb7795f114b\",\"subtype\":\"Figure\",\"type\":\"Plot\"},{\"attributes\":{},\"id\":\"80b5b75c-0fec-4852-a259-8d46d144ce07\",\"type\":\"ResetTool\"},{\"attributes\":{\"overlay\":{\"id\":\"88e30cd1-658e-4e22-8334-ae57df826eee\",\"type\":\"BoxAnnotation\"}},\"id\":\"8967a683-2469-43b2-93bb-5b295904ec72\",\"type\":\"BoxZoomTool\"},{\"attributes\":{\"bottom_units\":\"screen\",\"fill_alpha\":{\"value\":0.5},\"fill_color\":{\"value\":\"lightgrey\"},\"left_units\":\"screen\",\"level\":\"overlay\",\"line_alpha\":{\"value\":1.0},\"line_color\":{\"value\":\"black\"},\"line_dash\":[4,4],\"line_width\":{\"value\":2},\"plot\":null,\"render_mode\":\"css\",\"right_units\":\"screen\",\"top_units\":\"screen\"},\"id\":\"a3f037ab-e35d-4fc6-8f16-29c4dd5c3b69\",\"type\":\"BoxAnnotation\"},{\"attributes\":{\"plot\":{\"id\":\"c98f4761-88ba-4f32-aca9-ecb7795f114b\",\"subtype\":\"Figure\",\"type\":\"Plot\"},\"ticker\":{\"id\":\"8e11a89f-cd55-499d-9b97-4b8b8e646292\",\"type\":\"CategoricalTicker\"}},\"id\":\"c00912dc-6a01-4114-b867-c5d09158cce2\",\"type\":\"Grid\"},{\"attributes\":{},\"id\":\"25350906-4663-402e-9aff-dbc005a1d33b\",\"type\":\"WheelZoomTool\"},{\"attributes\":{\"bottom_units\":\"screen\",\"fill_alpha\":{\"value\":0.5},\"fill_color\":{\"value\":\"lightgrey\"},\"left_units\":\"screen\",\"level\":\"overlay\",\"line_alpha\":{\"value\":1.0},\"line_color\":{\"value\":\"black\"},\"line_dash\":[4,4],\"line_width\":{\"value\":2},\"plot\":null,\"render_mode\":\"css\",\"right_units\":\"screen\",\"top_units\":\"screen\"},\"id\":\"451f070e-8389-462d-9a92-c38b125c5a55\",\"type\":\"BoxAnnotation\"},{\"attributes\":{\"fill_color\":{\"value\":\"#1f77b4\"},\"line_color\":{\"value\":\"#1f77b4\"},\"top\":{\"field\":\"flux\"},\"width\":{\"value\":0.9},\"x\":{\"field\":\"band\"}},\"id\":\"4088f3b6-fe32-437e-b499-f5e9408055a9\",\"type\":\"VBar\"},{\"attributes\":{\"children\":[{\"id\":\"682c7a06-bb42-4762-b078-678dd0ed1b43\",\"subtype\":\"Figure\",\"type\":\"Plot\"},{\"id\":\"216f5cc4-263c-4426-b3be-349af9d1cdec\",\"subtype\":\"Figure\",\"type\":\"Plot\"},{\"id\":\"c98f4761-88ba-4f32-aca9-ecb7795f114b\",\"subtype\":\"Figure\",\"type\":\"Plot\"}]},\"id\":\"db6788fa-174c-4409-ae16-b04d83d71202\",\"type\":\"Row\"},{\"attributes\":{},\"id\":\"ada134c6-2db7-40e5-855c-2700e3f9c680\",\"type\":\"CategoricalScale\"},{\"attributes\":{},\"id\":\"17e186db-780a-4860-94e4-74d512f939be\",\"type\":\"Selection\"},{\"attributes\":{},\"id\":\"86d40fb9-99b8-45a8-9696-e40ca4d8fec2\",\"type\":\"BasicTickFormatter\"},{\"attributes\":{\"toolbar\":{\"id\":\"b5cfffbb-8a2f-4b76-bfbf-c26b91c78222\",\"type\":\"ProxyToolbar\"},\"toolbar_location\":\"above\"},\"id\":\"c69e1254-fedf-48af-b024-1998ce55d344\",\"type\":\"ToolbarBox\"},{\"attributes\":{\"source\":{\"id\":\"91de3821-470e-42cd-84db-ebe411cbdcdb\",\"type\":\"ColumnDataSource\"}},\"id\":\"9a392d25-4e91-4a56-b526-b9141e932dd1\",\"type\":\"CDSView\"},{\"attributes\":{},\"id\":\"dfeb823a-be7c-4f00-b659-12687c751736\",\"type\":\"CategoricalTicker\"},{\"attributes\":{},\"id\":\"747dcf7d-f44c-4730-b2c9-d7fc202b1f3f\",\"type\":\"PanTool\"},{\"attributes\":{},\"id\":\"825638ab-1081-48df-956a-5b55d74ff0ee\",\"type\":\"CategoricalTickFormatter\"},{\"attributes\":{},\"id\":\"9ec2391b-8cd6-4e64-858a-7b0e73e0fd5b\",\"type\":\"BasicTicker\"},{\"attributes\":{},\"id\":\"f47d02d2-b7d4-4597-b6ba-3e7338a7414f\",\"type\":\"UnionRenderers\"},{\"attributes\":{},\"id\":\"3f06efc8-6262-4d14-8c00-c206f7ff0c96\",\"type\":\"SaveTool\"},{\"attributes\":{\"axis_label\":\"flux (W m-2)\",\"formatter\":{\"id\":\"86d40fb9-99b8-45a8-9696-e40ca4d8fec2\",\"type\":\"BasicTickFormatter\"},\"plot\":{\"id\":\"c98f4761-88ba-4f32-aca9-ecb7795f114b\",\"subtype\":\"Figure\",\"type\":\"Plot\"},\"ticker\":{\"id\":\"9ec2391b-8cd6-4e64-858a-7b0e73e0fd5b\",\"type\":\"BasicTicker\"}},\"id\":\"96ac3238-aace-4c4b-846a-d111ae37c0f1\",\"type\":\"LinearAxis\"},{\"attributes\":{\"fill_alpha\":{\"value\":0.1},\"fill_color\":{\"value\":\"#1f77b4\"},\"line_alpha\":{\"value\":0.1},\"line_color\":{\"value\":\"#1f77b4\"},\"top\":{\"field\":\"flux\"},\"width\":{\"value\":0.9},\"x\":{\"field\":\"band\"}},\"id\":\"84583873-6c72-4702-9995-69ff08f320db\",\"type\":\"VBar\"},{\"attributes\":{\"callback\":null},\"id\":\"709a71fc-480d-48b6-9cff-9f2b2c1a756f\",\"type\":\"DataRange1d\"},{\"attributes\":{},\"id\":\"a824f048-7207-4fc9-8e9b-92b48e72eb9b\",\"type\":\"ResetTool\"},{\"attributes\":{\"plot\":{\"id\":\"682c7a06-bb42-4762-b078-678dd0ed1b43\",\"subtype\":\"Figure\",\"type\":\"Plot\"},\"ticker\":{\"id\":\"cdab2b1b-f42e-4c80-add7-0ea1d153c2a8\",\"type\":\"CategoricalTicker\"}},\"id\":\"364c8eba-c7ba-402e-8acd-edb38a508912\",\"type\":\"Grid\"},{\"attributes\":{\"callback\":null,\"data\":{\"band\":[\"1\",\"2\",\"3\",\"4\",\"5\",\"6\",\"7\",\"8\",\"9\",\"10\",\"11\"],\"flux\":{\"__ndarray__\":\"APnkm0xgyD8AykAC0kC1v2CPmsC+Z+C/gM9+pIgMzz+ACwQBMnTAvwBFfZI7bMC/AJCBH9Wwf78AHAbzV8ikP4Dbvkf99cW/QFf5r71gvj9gPcYmQ5+9vw==\",\"dtype\":\"float64\",\"shape\":[11]}},\"selected\":{\"id\":\"ddfd4e89-8daa-48b3-9710-ed2e5df8131d\",\"type\":\"Selection\"},\"selection_policy\":{\"id\":\"aa9a0457-d585-4dca-9b81-6723adc62632\",\"type\":\"UnionRenderers\"}},\"id\":\"2bf31206-ae58-40b6-aeea-291bc0d17ba8\",\"type\":\"ColumnDataSource\"},{\"attributes\":{\"bottom_units\":\"screen\",\"fill_alpha\":{\"value\":0.5},\"fill_color\":{\"value\":\"lightgrey\"},\"left_units\":\"screen\",\"level\":\"overlay\",\"line_alpha\":{\"value\":1.0},\"line_color\":{\"value\":\"black\"},\"line_dash\":[4,4],\"line_width\":{\"value\":2},\"plot\":null,\"render_mode\":\"css\",\"right_units\":\"screen\",\"top_units\":\"screen\"},\"id\":\"88e30cd1-658e-4e22-8334-ae57df826eee\",\"type\":\"BoxAnnotation\"},{\"attributes\":{\"callback\":null,\"factors\":[\"1\",\"2\",\"3\",\"4\",\"5\",\"6\",\"7\",\"8\",\"9\",\"10\",\"11\"]},\"id\":\"c2e8bef7-d936-4734-8cd8-01a532c62730\",\"type\":\"FactorRange\"},{\"attributes\":{\"active_drag\":\"auto\",\"active_inspect\":\"auto\",\"active_scroll\":\"auto\",\"active_tap\":\"auto\",\"tools\":[{\"id\":\"747dcf7d-f44c-4730-b2c9-d7fc202b1f3f\",\"type\":\"PanTool\"},{\"id\":\"25350906-4663-402e-9aff-dbc005a1d33b\",\"type\":\"WheelZoomTool\"},{\"id\":\"8967a683-2469-43b2-93bb-5b295904ec72\",\"type\":\"BoxZoomTool\"},{\"id\":\"8fd37f22-3e2c-4827-b5eb-b0f95203b577\",\"type\":\"SaveTool\"},{\"id\":\"e138791c-4990-4a6f-b459-82133de8d1dd\",\"type\":\"ResetTool\"},{\"id\":\"fa709811-7225-4ef1-8b7f-c5b30a818336\",\"type\":\"HelpTool\"}]},\"id\":\"994c9a24-c654-4539-8c58-6cdee6254302\",\"type\":\"Toolbar\"},{\"attributes\":{\"below\":[{\"id\":\"f7cb7715-88b5-4c98-b04d-c11d72f2a6af\",\"type\":\"CategoricalAxis\"}],\"left\":[{\"id\":\"e48958c5-2231-4118-9d2a-beba8c2bec3a\",\"type\":\"LinearAxis\"}],\"plot_height\":300,\"plot_width\":300,\"renderers\":[{\"id\":\"f7cb7715-88b5-4c98-b04d-c11d72f2a6af\",\"type\":\"CategoricalAxis\"},{\"id\":\"524930d9-cd31-4a90-8bc4-3b818839c8de\",\"type\":\"Grid\"},{\"id\":\"e48958c5-2231-4118-9d2a-beba8c2bec3a\",\"type\":\"LinearAxis\"},{\"id\":\"dc7c9869-4d2f-4792-9ca2-4cdd2c15eac4\",\"type\":\"Grid\"},{\"id\":\"451f070e-8389-462d-9a92-c38b125c5a55\",\"type\":\"BoxAnnotation\"},{\"id\":\"fbe47df4-b74b-4dd5-af6f-dfe1d5e711ad\",\"type\":\"GlyphRenderer\"}],\"title\":{\"id\":\"0c2ace9d-ca05-4b72-80f1-0e17a96f374c\",\"type\":\"Title\"},\"toolbar\":{\"id\":\"5c38a72e-f96a-4939-8714-609bc9896295\",\"type\":\"Toolbar\"},\"toolbar_location\":null,\"x_range\":{\"id\":\"c2e8bef7-d936-4734-8cd8-01a532c62730\",\"type\":\"FactorRange\"},\"x_scale\":{\"id\":\"ada134c6-2db7-40e5-855c-2700e3f9c680\",\"type\":\"CategoricalScale\"},\"y_range\":{\"id\":\"0e280df3-964f-450a-b76e-7b82ccdd3c7c\",\"type\":\"DataRange1d\"},\"y_scale\":{\"id\":\"0fc78d8b-f8a5-405c-bec7-41452acbf48d\",\"type\":\"LinearScale\"}},\"id\":\"216f5cc4-263c-4426-b3be-349af9d1cdec\",\"subtype\":\"Figure\",\"type\":\"Plot\"},{\"attributes\":{\"source\":{\"id\":\"2f35043b-c2c3-482f-aadb-090bd42af399\",\"type\":\"ColumnDataSource\"}},\"id\":\"f36b2353-635f-489f-82f3-dd249ae0196d\",\"type\":\"CDSView\"},{\"attributes\":{\"active_drag\":\"auto\",\"active_inspect\":\"auto\",\"active_scroll\":\"auto\",\"active_tap\":\"auto\",\"tools\":[{\"id\":\"ca22225e-d8c4-40c6-8490-b83d0840c2d4\",\"type\":\"PanTool\"},{\"id\":\"38eb31e8-a750-4110-bd56-f9b7a4c439dd\",\"type\":\"WheelZoomTool\"},{\"id\":\"dbdc8f48-b07c-45c4-8676-6c999b54feaf\",\"type\":\"BoxZoomTool\"},{\"id\":\"53436dde-b0f5-44eb-a58c-2a8208eccc88\",\"type\":\"SaveTool\"},{\"id\":\"a824f048-7207-4fc9-8e9b-92b48e72eb9b\",\"type\":\"ResetTool\"},{\"id\":\"777a40a4-a437-4cce-9683-d23c6c0e5200\",\"type\":\"HelpTool\"}]},\"id\":\"51f18518-0e2a-468f-9041-0ec2bdbd3ca8\",\"type\":\"Toolbar\"},{\"attributes\":{\"axis_label\":\"spectral band\",\"formatter\":{\"id\":\"82c31ac5-a7b2-4a53-98f4-7e6295b9c05d\",\"type\":\"CategoricalTickFormatter\"},\"plot\":{\"id\":\"c98f4761-88ba-4f32-aca9-ecb7795f114b\",\"subtype\":\"Figure\",\"type\":\"Plot\"},\"ticker\":{\"id\":\"8e11a89f-cd55-499d-9b97-4b8b8e646292\",\"type\":\"CategoricalTicker\"}},\"id\":\"81d2fddd-12f0-414b-89f8-1414df4e4e7e\",\"type\":\"CategoricalAxis\"},{\"attributes\":{\"plot\":null,\"text\":\"SFC flux. CLIRAD - CRD.\"},\"id\":\"0c2ace9d-ca05-4b72-80f1-0e17a96f374c\",\"type\":\"Title\"},{\"attributes\":{},\"id\":\"628e3fb6-a132-47ae-8ada-4d61ed856a96\",\"type\":\"LinearScale\"},{\"attributes\":{\"dimension\":1,\"plot\":{\"id\":\"216f5cc4-263c-4426-b3be-349af9d1cdec\",\"subtype\":\"Figure\",\"type\":\"Plot\"},\"ticker\":{\"id\":\"3ae1e5d4-9261-4ed8-a109-e1af47a06346\",\"type\":\"BasicTicker\"}},\"id\":\"dc7c9869-4d2f-4792-9ca2-4cdd2c15eac4\",\"type\":\"Grid\"},{\"attributes\":{\"fill_alpha\":{\"value\":0.1},\"fill_color\":{\"value\":\"#1f77b4\"},\"line_alpha\":{\"value\":0.1},\"line_color\":{\"value\":\"#1f77b4\"},\"top\":{\"field\":\"flux\"},\"width\":{\"value\":0.9},\"x\":{\"field\":\"band\"}},\"id\":\"2234225a-6bff-4c81-ae55-f34d1c2abf50\",\"type\":\"VBar\"},{\"attributes\":{\"children\":[{\"id\":\"db6788fa-174c-4409-ae16-b04d83d71202\",\"type\":\"Row\"}]},\"id\":\"cf03ed11-55af-4a17-98e4-a0830133d853\",\"type\":\"Column\"},{\"attributes\":{\"fill_color\":{\"value\":\"#1f77b4\"},\"line_color\":{\"value\":\"#1f77b4\"},\"top\":{\"field\":\"flux\"},\"width\":{\"value\":0.9},\"x\":{\"field\":\"band\"}},\"id\":\"ea3bbbc0-7e6f-45e7-8d3c-26ad839fd42a\",\"type\":\"VBar\"},{\"attributes\":{},\"id\":\"dfc8eed1-6f9a-4929-ac4f-bba12409644a\",\"type\":\"WheelZoomTool\"},{\"attributes\":{\"fill_alpha\":{\"value\":0.1},\"fill_color\":{\"value\":\"#1f77b4\"},\"line_alpha\":{\"value\":0.1},\"line_color\":{\"value\":\"#1f77b4\"},\"top\":{\"field\":\"flux\"},\"width\":{\"value\":0.9},\"x\":{\"field\":\"band\"}},\"id\":\"1dd180e8-5fa9-495b-a447-81205ad45677\",\"type\":\"VBar\"},{\"attributes\":{},\"id\":\"82c31ac5-a7b2-4a53-98f4-7e6295b9c05d\",\"type\":\"CategoricalTickFormatter\"},{\"attributes\":{},\"id\":\"ddfd4e89-8daa-48b3-9710-ed2e5df8131d\",\"type\":\"Selection\"},{\"attributes\":{\"overlay\":{\"id\":\"a3f037ab-e35d-4fc6-8f16-29c4dd5c3b69\",\"type\":\"BoxAnnotation\"}},\"id\":\"dbdc8f48-b07c-45c4-8676-6c999b54feaf\",\"type\":\"BoxZoomTool\"},{\"attributes\":{\"source\":{\"id\":\"2bf31206-ae58-40b6-aeea-291bc0d17ba8\",\"type\":\"ColumnDataSource\"}},\"id\":\"3e71ff8f-6528-492d-82a8-3bac76600a11\",\"type\":\"CDSView\"},{\"attributes\":{\"axis_label\":\"flux (W m-2)\",\"formatter\":{\"id\":\"5e9f84ab-11cc-4557-86f8-a1d209e91b6c\",\"type\":\"BasicTickFormatter\"},\"plot\":{\"id\":\"682c7a06-bb42-4762-b078-678dd0ed1b43\",\"subtype\":\"Figure\",\"type\":\"Plot\"},\"ticker\":{\"id\":\"eacdea73-7e11-46b2-a302-ea1d80bfbf78\",\"type\":\"BasicTicker\"}},\"id\":\"d33fcb87-c12c-435f-9f0d-c5ec1d994e58\",\"type\":\"LinearAxis\"},{\"attributes\":{\"plot\":null,\"text\":\"Atmosphere heating. CLIRAD - CRD.\"},\"id\":\"38970357-80fa-46e6-8e3f-cab9b13af625\",\"type\":\"Title\"},{\"attributes\":{},\"id\":\"95d720d1-d157-4370-aff5-a72244becbda\",\"type\":\"PanTool\"},{\"attributes\":{\"callback\":null},\"id\":\"f10c9a7c-dbfc-4f9b-8283-102346ceca81\",\"type\":\"DataRange1d\"},{\"attributes\":{\"below\":[{\"id\":\"2c2b12c9-c4e2-4a81-972a-002d306b7a05\",\"type\":\"CategoricalAxis\"}],\"left\":[{\"id\":\"d33fcb87-c12c-435f-9f0d-c5ec1d994e58\",\"type\":\"LinearAxis\"}],\"plot_height\":300,\"plot_width\":300,\"renderers\":[{\"id\":\"2c2b12c9-c4e2-4a81-972a-002d306b7a05\",\"type\":\"CategoricalAxis\"},{\"id\":\"364c8eba-c7ba-402e-8acd-edb38a508912\",\"type\":\"Grid\"},{\"id\":\"d33fcb87-c12c-435f-9f0d-c5ec1d994e58\",\"type\":\"LinearAxis\"},{\"id\":\"1d9930c5-7636-437d-a3da-822545379941\",\"type\":\"Grid\"},{\"id\":\"a3f037ab-e35d-4fc6-8f16-29c4dd5c3b69\",\"type\":\"BoxAnnotation\"},{\"id\":\"06f65627-9dd9-45ea-bea5-bb4935d10c87\",\"type\":\"GlyphRenderer\"}],\"title\":{\"id\":\"8a147d57-f5ef-4d5a-a215-d2888b73d840\",\"type\":\"Title\"},\"toolbar\":{\"id\":\"51f18518-0e2a-468f-9041-0ec2bdbd3ca8\",\"type\":\"Toolbar\"},\"toolbar_location\":null,\"x_range\":{\"id\":\"cde1d162-9428-4961-a858-d326fff009d0\",\"type\":\"FactorRange\"},\"x_scale\":{\"id\":\"2d09508d-3d2c-4f31-a319-173c8f89e9df\",\"type\":\"CategoricalScale\"},\"y_range\":{\"id\":\"709a71fc-480d-48b6-9cff-9f2b2c1a756f\",\"type\":\"DataRange1d\"},\"y_scale\":{\"id\":\"05db63f4-0f9e-4057-9280-e105d9c187ea\",\"type\":\"LinearScale\"}},\"id\":\"682c7a06-bb42-4762-b078-678dd0ed1b43\",\"subtype\":\"Figure\",\"type\":\"Plot\"},{\"attributes\":{},\"id\":\"0fc78d8b-f8a5-405c-bec7-41452acbf48d\",\"type\":\"LinearScale\"},{\"attributes\":{},\"id\":\"eacdea73-7e11-46b2-a302-ea1d80bfbf78\",\"type\":\"BasicTicker\"},{\"attributes\":{},\"id\":\"1caf4898-3c7e-4c55-86d4-089cfba3359d\",\"type\":\"BasicTickFormatter\"},{\"attributes\":{\"tools\":[{\"id\":\"ca22225e-d8c4-40c6-8490-b83d0840c2d4\",\"type\":\"PanTool\"},{\"id\":\"38eb31e8-a750-4110-bd56-f9b7a4c439dd\",\"type\":\"WheelZoomTool\"},{\"id\":\"dbdc8f48-b07c-45c4-8676-6c999b54feaf\",\"type\":\"BoxZoomTool\"},{\"id\":\"53436dde-b0f5-44eb-a58c-2a8208eccc88\",\"type\":\"SaveTool\"},{\"id\":\"a824f048-7207-4fc9-8e9b-92b48e72eb9b\",\"type\":\"ResetTool\"},{\"id\":\"777a40a4-a437-4cce-9683-d23c6c0e5200\",\"type\":\"HelpTool\"},{\"id\":\"95d720d1-d157-4370-aff5-a72244becbda\",\"type\":\"PanTool\"},{\"id\":\"dfc8eed1-6f9a-4929-ac4f-bba12409644a\",\"type\":\"WheelZoomTool\"},{\"id\":\"8d495a4b-7bbf-4242-9cdb-aa884a4c44ce\",\"type\":\"BoxZoomTool\"},{\"id\":\"3f06efc8-6262-4d14-8c00-c206f7ff0c96\",\"type\":\"SaveTool\"},{\"id\":\"80b5b75c-0fec-4852-a259-8d46d144ce07\",\"type\":\"ResetTool\"},{\"id\":\"4bccbdaa-c190-4c6f-98b7-e36673916a2e\",\"type\":\"HelpTool\"},{\"id\":\"747dcf7d-f44c-4730-b2c9-d7fc202b1f3f\",\"type\":\"PanTool\"},{\"id\":\"25350906-4663-402e-9aff-dbc005a1d33b\",\"type\":\"WheelZoomTool\"},{\"id\":\"8967a683-2469-43b2-93bb-5b295904ec72\",\"type\":\"BoxZoomTool\"},{\"id\":\"8fd37f22-3e2c-4827-b5eb-b0f95203b577\",\"type\":\"SaveTool\"},{\"id\":\"e138791c-4990-4a6f-b459-82133de8d1dd\",\"type\":\"ResetTool\"},{\"id\":\"fa709811-7225-4ef1-8b7f-c5b30a818336\",\"type\":\"HelpTool\"}]},\"id\":\"b5cfffbb-8a2f-4b76-bfbf-c26b91c78222\",\"type\":\"ProxyToolbar\"},{\"attributes\":{},\"id\":\"05db63f4-0f9e-4057-9280-e105d9c187ea\",\"type\":\"LinearScale\"},{\"attributes\":{\"callback\":null},\"id\":\"0e280df3-964f-450a-b76e-7b82ccdd3c7c\",\"type\":\"DataRange1d\"},{\"attributes\":{},\"id\":\"0905d887-52af-4c5f-b137-ed967cf740a3\",\"type\":\"UnionRenderers\"},{\"attributes\":{},\"id\":\"38eb31e8-a750-4110-bd56-f9b7a4c439dd\",\"type\":\"WheelZoomTool\"},{\"attributes\":{\"fill_color\":{\"value\":\"#1f77b4\"},\"line_color\":{\"value\":\"#1f77b4\"},\"top\":{\"field\":\"flux\"},\"width\":{\"value\":0.9},\"x\":{\"field\":\"band\"}},\"id\":\"4e2c3ab1-fce7-484c-8004-370278ac1cc1\",\"type\":\"VBar\"},{\"attributes\":{\"callback\":null,\"data\":{\"band\":[\"1\",\"2\",\"3\",\"4\",\"5\",\"6\",\"7\",\"8\",\"9\",\"10\",\"11\"],\"flux\":{\"__ndarray__\":\"AJQxPsxeyD+AJAuYwK3SPwDaxMn9Drm/AGJLj6Z6ur8APjc0ZaevvwBAy7p/LKS/AJbLRuf8pL8AoaF/gou5v0C4O2u3XdO/YL6fGi/dwD8AldV0PdHMPw==\",\"dtype\":\"float64\",\"shape\":[11]}},\"selected\":{\"id\":\"17e186db-780a-4860-94e4-74d512f939be\",\"type\":\"Selection\"},\"selection_policy\":{\"id\":\"0905d887-52af-4c5f-b137-ed967cf740a3\",\"type\":\"UnionRenderers\"}},\"id\":\"2f35043b-c2c3-482f-aadb-090bd42af399\",\"type\":\"ColumnDataSource\"},{\"attributes\":{},\"id\":\"8fd37f22-3e2c-4827-b5eb-b0f95203b577\",\"type\":\"SaveTool\"},{\"attributes\":{},\"id\":\"777a40a4-a437-4cce-9683-d23c6c0e5200\",\"type\":\"HelpTool\"},{\"attributes\":{\"axis_label\":\"spectral band\",\"formatter\":{\"id\":\"0f2fdd4c-8e5e-4e5d-afa9-0c4235a6ea9e\",\"type\":\"CategoricalTickFormatter\"},\"plot\":{\"id\":\"682c7a06-bb42-4762-b078-678dd0ed1b43\",\"subtype\":\"Figure\",\"type\":\"Plot\"},\"ticker\":{\"id\":\"cdab2b1b-f42e-4c80-add7-0ea1d153c2a8\",\"type\":\"CategoricalTicker\"}},\"id\":\"2c2b12c9-c4e2-4a81-972a-002d306b7a05\",\"type\":\"CategoricalAxis\"},{\"attributes\":{\"plot\":{\"id\":\"216f5cc4-263c-4426-b3be-349af9d1cdec\",\"subtype\":\"Figure\",\"type\":\"Plot\"},\"ticker\":{\"id\":\"dfeb823a-be7c-4f00-b659-12687c751736\",\"type\":\"CategoricalTicker\"}},\"id\":\"524930d9-cd31-4a90-8bc4-3b818839c8de\",\"type\":\"Grid\"},{\"attributes\":{\"callback\":null,\"data\":{\"band\":[\"1\",\"2\",\"3\",\"4\",\"5\",\"6\",\"7\",\"8\",\"9\",\"10\",\"11\"],\"flux\":{\"__ndarray__\":\"AAAAOsyXB78A0clS6/3XP4AjgJvFi9o/QHCWkuUk1r8AlgUTfxSxP0BD9LV4wrY/wKMS6F0Gob9ABJTh0/fBv4BrC89LxcC/ALA8D+7Oij+Q+vxBbtDVPw==\",\"dtype\":\"float64\",\"shape\":[11]}},\"selected\":{\"id\":\"1bb8573e-0d36-4c57-aee0-4e38504f204d\",\"type\":\"Selection\"},\"selection_policy\":{\"id\":\"f47d02d2-b7d4-4597-b6ba-3e7338a7414f\",\"type\":\"UnionRenderers\"}},\"id\":\"91de3821-470e-42cd-84db-ebe411cbdcdb\",\"type\":\"ColumnDataSource\"},{\"attributes\":{},\"id\":\"2d09508d-3d2c-4f31-a319-173c8f89e9df\",\"type\":\"CategoricalScale\"},{\"attributes\":{\"data_source\":{\"id\":\"2f35043b-c2c3-482f-aadb-090bd42af399\",\"type\":\"ColumnDataSource\"},\"glyph\":{\"id\":\"ea3bbbc0-7e6f-45e7-8d3c-26ad839fd42a\",\"type\":\"VBar\"},\"hover_glyph\":null,\"muted_glyph\":null,\"nonselection_glyph\":{\"id\":\"84583873-6c72-4702-9995-69ff08f320db\",\"type\":\"VBar\"},\"selection_glyph\":null,\"view\":{\"id\":\"f36b2353-635f-489f-82f3-dd249ae0196d\",\"type\":\"CDSView\"}},\"id\":\"06f65627-9dd9-45ea-bea5-bb4935d10c87\",\"type\":\"GlyphRenderer\"}],\"root_ids\":[\"12aa312d-1bd8-4e79-a400-58973739f23c\"]},\"title\":\"Bokeh Application\",\"version\":\"0.12.16\"}};\n",
       "  var render_items = [{\"docid\":\"32746b76-9823-4c32-9831-32ce66a6bf2a\",\"elementid\":\"4f5fa315-d3dd-4d44-9b4b-474fd567aa63\",\"modelid\":\"12aa312d-1bd8-4e79-a400-58973739f23c\"}];\n",
       "  root.Bokeh.embed.embed_items_notebook(docs_json, render_items);\n",
       "\n",
       "  }\n",
       "  if (root.Bokeh !== undefined) {\n",
       "    embed_document(root);\n",
       "  } else {\n",
       "    var attempts = 0;\n",
       "    var timer = setInterval(function(root) {\n",
       "      if (root.Bokeh !== undefined) {\n",
       "        embed_document(root);\n",
       "        clearInterval(timer);\n",
       "      }\n",
       "      attempts++;\n",
       "      if (attempts > 100) {\n",
       "        console.log(\"Bokeh: ERROR: Unable to run BokehJS code because BokehJS library is missing\")\n",
       "        clearInterval(timer);\n",
       "      }\n",
       "    }, 10, root)\n",
       "  }\n",
       "})(window);"
      ],
      "application/vnd.bokehjs_exec.v0+json": ""
     },
     "metadata": {
      "application/vnd.bokehjs_exec.v0+json": {
       "id": "12aa312d-1bd8-4e79-a400-58973739f23c"
      }
     },
     "output_type": "display_data"
    },
    {
     "data": {
      "text/markdown": [
       "*FIGURE.* Difference between CLIRAD and CRD in TOA, SFC and net atmosphere flux, in each spectral band."
      ],
      "text/plain": [
       "<IPython.core.display.Markdown object>"
      ]
     },
     "metadata": {},
     "output_type": "display_data"
    },
    {
     "data": {
      "text/html": [
       "<div>\n",
       "<style scoped>\n",
       "    .dataframe tbody tr th:only-of-type {\n",
       "        vertical-align: middle;\n",
       "    }\n",
       "\n",
       "    .dataframe tbody tr th {\n",
       "        vertical-align: top;\n",
       "    }\n",
       "\n",
       "    .dataframe thead th {\n",
       "        text-align: right;\n",
       "    }\n",
       "</style>\n",
       "<table border=\"1\" class=\"dataframe\">\n",
       "  <thead>\n",
       "    <tr style=\"text-align: right;\">\n",
       "      <th></th>\n",
       "      <th>OLR flux</th>\n",
       "      <th>SFC flux</th>\n",
       "      <th>ATM heating</th>\n",
       "    </tr>\n",
       "    <tr>\n",
       "      <th>Sum over bands</th>\n",
       "      <th></th>\n",
       "      <th></th>\n",
       "      <th></th>\n",
       "    </tr>\n",
       "  </thead>\n",
       "  <tbody>\n",
       "    <tr>\n",
       "      <th>CLIRAD - CRD</th>\n",
       "      <td>0.09</td>\n",
       "      <td>0.65</td>\n",
       "      <td>-0.56</td>\n",
       "    </tr>\n",
       "    <tr>\n",
       "      <th>CRD</th>\n",
       "      <td>-335.19</td>\n",
       "      <td>272.69</td>\n",
       "      <td>-184.24</td>\n",
       "    </tr>\n",
       "  </tbody>\n",
       "</table>\n",
       "</div>"
      ],
      "text/plain": [
       "                OLR flux  SFC flux  ATM heating\n",
       "Sum over bands                                 \n",
       "CLIRAD - CRD        0.09      0.65        -0.56\n",
       "CRD              -335.19    272.69      -184.24"
      ]
     },
     "metadata": {},
     "output_type": "display_data"
    },
    {
     "data": {
      "text/markdown": [
       "*TABLE.* Difference between CLIRAD and CRD in TOA, SFC and net atmosphere flux, over all spectral bands. CRD's TOA, SFC and net atmosphere flux, over all spectral bands."
      ],
      "text/plain": [
       "<IPython.core.display.Markdown object>"
      ]
     },
     "metadata": {},
     "output_type": "display_data"
    },
    {
     "data": {
      "text/html": [
       "<a id=\"Cooling_rates._saw.\"></a>"
      ],
      "text/plain": [
       "<IPython.core.display.HTML object>"
      ]
     },
     "metadata": {},
     "output_type": "display_data"
    },
    {
     "data": {
      "text/markdown": [
       "# Cooling rates. saw."
      ],
      "text/plain": [
       "<IPython.core.display.Markdown object>"
      ]
     },
     "metadata": {},
     "output_type": "display_data"
    },
    {
     "data": {
      "text/html": [
       "\n",
       "<div class=\"bk-root\">\n",
       "    <div class=\"bk-plotdiv\" id=\"661b5703-3284-467c-8e3f-71e936da5fe4\"></div>\n",
       "</div>"
      ]
     },
     "metadata": {},
     "output_type": "display_data"
    },
    {
     "data": {
      "application/javascript": [
       "(function(root) {\n",
       "  function embed_document(root) {\n",
       "    \n",
       "  var docs_json = {\"623a036d-c348-4a4b-adfb-5a8e925f5702\":{\"roots\":{\"references\":[{\"attributes\":{\"callback\":null,\"end\":0.05072143097377798,\"start\":-0.3437485487997783},\"id\":\"3f310642-7fc3-4ae1-9f33-82dcc20a9bde\",\"type\":\"Range1d\"},{\"attributes\":{},\"id\":\"0b9b3c8e-c80c-4ccd-8817-b134042da421\",\"type\":\"Selection\"},{\"attributes\":{},\"id\":\"283ffb2d-5e34-4193-85e8-1dcabeb22cac\",\"type\":\"Selection\"},{\"attributes\":{\"children\":[{\"id\":\"4e1c59f4-63da-45a6-8fa8-a16f802b3d0f\",\"type\":\"Row\"}]},\"id\":\"b6bb01cf-e260-44d1-a0ec-c5cb95b91e64\",\"type\":\"Column\"},{\"attributes\":{\"data_source\":{\"id\":\"fa6a0171-780f-4174-a8a1-b34ed27d9737\",\"type\":\"ColumnDataSource\"},\"glyph\":{\"id\":\"139f2892-e027-4f82-8554-bc97642f8ab5\",\"type\":\"Circle\"},\"hover_glyph\":null,\"muted_glyph\":null,\"nonselection_glyph\":{\"id\":\"3ede71b7-01b3-4bac-b410-91f1ebf3341f\",\"type\":\"Circle\"},\"selection_glyph\":null,\"view\":{\"id\":\"7963e163-a819-4a98-a367-4bb748d3da3e\",\"type\":\"CDSView\"}},\"id\":\"9d2e83ee-17f4-40d9-9642-548fa548df88\",\"type\":\"GlyphRenderer\"},{\"attributes\":{},\"id\":\"11e23264-4218-40f5-a25b-5fe23f22e308\",\"type\":\"UnionRenderers\"},{\"attributes\":{},\"id\":\"ae61e39d-070d-4220-8cfa-969e4a4c5ef2\",\"type\":\"Selection\"},{\"attributes\":{},\"id\":\"d773e229-2b20-4ebb-8f02-4f5f0263c198\",\"type\":\"UnionRenderers\"},{\"attributes\":{},\"id\":\"9104e340-3f3d-4f26-8cd6-c99df85f9164\",\"type\":\"BasicTickFormatter\"},{\"attributes\":{\"above\":[{\"id\":\"903ee5c5-5e4d-4652-8d69-e8dc1061106c\",\"type\":\"Legend\"}],\"below\":[{\"id\":\"deafb818-9f6e-4725-ae26-3e06ce59c9cd\",\"type\":\"LinearAxis\"}],\"left\":[{\"id\":\"40037a4e-3332-4747-bdeb-a5527dbb27d9\",\"type\":\"LogAxis\"}],\"plot_width\":300,\"renderers\":[{\"id\":\"deafb818-9f6e-4725-ae26-3e06ce59c9cd\",\"type\":\"LinearAxis\"},{\"id\":\"10c8f0b0-a6bd-477a-9f16-46d9f216556d\",\"type\":\"Grid\"},{\"id\":\"40037a4e-3332-4747-bdeb-a5527dbb27d9\",\"type\":\"LogAxis\"},{\"id\":\"f7e88971-e6d5-4740-8a05-09844894c887\",\"type\":\"Grid\"},{\"id\":\"d9dfd433-1213-4354-8411-dcd8bcfe427d\",\"type\":\"BoxAnnotation\"},{\"id\":\"1d900227-9e08-4f59-b377-da7d6159b76a\",\"type\":\"GlyphRenderer\"},{\"id\":\"c7e78f8d-7954-460c-a0a0-8acf1d205dc3\",\"type\":\"GlyphRenderer\"},{\"id\":\"903ee5c5-5e4d-4652-8d69-e8dc1061106c\",\"type\":\"Legend\"}],\"title\":{\"id\":\"34a51cde-5dae-45dc-8849-66c283b76313\",\"type\":\"Title\"},\"toolbar\":{\"id\":\"705e06e7-cff2-45ce-bea2-da4eab9a3b3e\",\"type\":\"Toolbar\"},\"toolbar_location\":null,\"x_range\":{\"id\":\"3f310642-7fc3-4ae1-9f33-82dcc20a9bde\",\"type\":\"Range1d\"},\"x_scale\":{\"id\":\"1e80fe55-e0ef-48fa-92c3-1d59796c4ea5\",\"type\":\"LinearScale\"},\"y_range\":{\"id\":\"f8f11915-33dd-4b8e-8b88-9a9297432764\",\"type\":\"Range1d\"},\"y_scale\":{\"id\":\"067fe2b9-2d41-4446-96c7-5ee193ab7f5c\",\"type\":\"LogScale\"}},\"id\":\"352be06b-08d0-4658-b179-5e0b07d2aa31\",\"subtype\":\"Figure\",\"type\":\"Plot\"},{\"attributes\":{},\"id\":\"3d9f4cff-1574-4b61-b70a-0b10e4972534\",\"type\":\"Selection\"},{\"attributes\":{},\"id\":\"8d4e3463-a18f-4642-bba1-dab9cbe6f87d\",\"type\":\"Selection\"},{\"attributes\":{\"active_drag\":\"auto\",\"active_inspect\":\"auto\",\"active_scroll\":\"auto\",\"active_tap\":\"auto\",\"tools\":[{\"id\":\"e4e05c8b-be5c-4f99-accb-640129c6c76d\",\"type\":\"PanTool\"},{\"id\":\"5882718f-367a-4177-a552-3ae4c11277ef\",\"type\":\"WheelZoomTool\"},{\"id\":\"35779613-33ef-4b79-9a7b-23a4970c8ccf\",\"type\":\"BoxZoomTool\"},{\"id\":\"e4f7f9bc-288c-405b-9f53-6a164b65779d\",\"type\":\"SaveTool\"},{\"id\":\"9bbb1495-f2d1-4558-b850-5f98e7685b57\",\"type\":\"ResetTool\"},{\"id\":\"c15d44c6-f40e-472f-a122-300eeabbb2e5\",\"type\":\"HelpTool\"}]},\"id\":\"b30693e2-86e9-4633-9a2a-2d588922f4e2\",\"type\":\"Toolbar\"},{\"attributes\":{\"data_source\":{\"id\":\"fd4cf74d-856a-46d0-b115-cfa523879f6a\",\"type\":\"ColumnDataSource\"},\"glyph\":{\"id\":\"4003eba5-9382-4ece-9f0b-64d0e574c454\",\"type\":\"Line\"},\"hover_glyph\":null,\"muted_glyph\":null,\"nonselection_glyph\":{\"id\":\"82a20a0c-6336-47a9-8e72-11a798b82eeb\",\"type\":\"Line\"},\"selection_glyph\":null,\"view\":{\"id\":\"26e102c2-db15-4988-8665-c3b77d9b436a\",\"type\":\"CDSView\"}},\"id\":\"4bf984f2-9361-4b55-857e-bbe822744a7c\",\"type\":\"GlyphRenderer\"},{\"attributes\":{\"line_alpha\":0.8,\"line_color\":\"#984ea3\",\"line_width\":1.5,\"x\":{\"field\":\"x\"},\"y\":{\"field\":\"y\"}},\"id\":\"760bf7d7-38ce-4b90-9719-e1594b922efb\",\"type\":\"Line\"},{\"attributes\":{},\"id\":\"daa0c91c-baf8-4080-ae20-d1c05e5f73cc\",\"type\":\"Selection\"},{\"attributes\":{},\"id\":\"bc768985-e550-4255-882c-f5f97f5a6e3a\",\"type\":\"UnionRenderers\"},{\"attributes\":{},\"id\":\"917e4312-5416-44c9-82f7-39d51351ee51\",\"type\":\"UnionRenderers\"},{\"attributes\":{\"data_source\":{\"id\":\"0b413b3b-a22b-4440-8a5b-53a156464fc1\",\"type\":\"ColumnDataSource\"},\"glyph\":{\"id\":\"a20b11fc-a725-4782-807d-5f339fbd5ff8\",\"type\":\"Line\"},\"hover_glyph\":null,\"muted_glyph\":null,\"nonselection_glyph\":{\"id\":\"4221522e-32e7-48b3-aa69-52f46151cf63\",\"type\":\"Line\"},\"selection_glyph\":null,\"view\":{\"id\":\"46003a66-d639-48fc-bfda-85db919f82eb\",\"type\":\"CDSView\"}},\"id\":\"4d40cecd-cba1-48a7-94ed-a3187b3d8d40\",\"type\":\"GlyphRenderer\"},{\"attributes\":{\"data_source\":{\"id\":\"8c79a091-9a82-41f1-ac03-f352cf293669\",\"type\":\"ColumnDataSource\"},\"glyph\":{\"id\":\"82340880-505e-4ef3-8f5b-dbe44b80c3ce\",\"type\":\"Circle\"},\"hover_glyph\":null,\"muted_glyph\":null,\"nonselection_glyph\":{\"id\":\"2fd920c0-1966-4162-bfda-701d6681c2d9\",\"type\":\"Circle\"},\"selection_glyph\":null,\"view\":{\"id\":\"2eb685d0-9d60-4c7a-bd86-b68a90d82a32\",\"type\":\"CDSView\"}},\"id\":\"1d900227-9e08-4f59-b377-da7d6159b76a\",\"type\":\"GlyphRenderer\"},{\"attributes\":{},\"id\":\"e786a10e-1a28-41ca-8490-be07215ed04e\",\"type\":\"SaveTool\"},{\"attributes\":{},\"id\":\"81367f89-a195-40fc-92f9-3214177401bd\",\"type\":\"UnionRenderers\"},{\"attributes\":{},\"id\":\"9cde2bc9-1fb2-40ca-8383-808b75e8055d\",\"type\":\"HelpTool\"},{\"attributes\":{\"line_alpha\":0.1,\"line_color\":\"#1f77b4\",\"line_width\":1.5,\"x\":{\"field\":\"x\"},\"y\":{\"field\":\"y\"}},\"id\":\"4221522e-32e7-48b3-aa69-52f46151cf63\",\"type\":\"Line\"},{\"attributes\":{\"bottom_units\":\"screen\",\"fill_alpha\":{\"value\":0.5},\"fill_color\":{\"value\":\"lightgrey\"},\"left_units\":\"screen\",\"level\":\"overlay\",\"line_alpha\":{\"value\":1.0},\"line_color\":{\"value\":\"black\"},\"line_dash\":[4,4],\"line_width\":{\"value\":2},\"plot\":null,\"render_mode\":\"css\",\"right_units\":\"screen\",\"top_units\":\"screen\"},\"id\":\"d9dfd433-1213-4354-8411-dcd8bcfe427d\",\"type\":\"BoxAnnotation\"},{\"attributes\":{\"plot\":null,\"text\":\"\"},\"id\":\"58632728-89e5-4d11-9bbd-a8718f1d4794\",\"type\":\"Title\"},{\"attributes\":{\"fill_alpha\":{\"value\":0.1},\"fill_color\":{\"value\":\"#1f77b4\"},\"line_alpha\":{\"value\":0.1},\"line_color\":{\"value\":\"#1f77b4\"},\"x\":{\"field\":\"x\"},\"y\":{\"field\":\"y\"}},\"id\":\"3ede71b7-01b3-4bac-b410-91f1ebf3341f\",\"type\":\"Circle\"},{\"attributes\":{\"callback\":null,\"data\":{\"x\":{\"__ndarray__\":\"7s/Q+z6VBMAs0X2L+Kn1v7Z0EEO8rfC/i8v014kV6L+uwtXZWYXgv5lDem5hC9e/s2dBAffj0r+lM7AtJkPTv+P5taW9WtW/er5lD53A1b/0adAAEVPSv7BZgBNeZsi/N+/kjXz9ub9mqMl8jBKqv1qVnVrFuKO/cqV+7yMCqL9EVb3hIK6pv6aCoK5luaG/idLkbetKkL8Ali+buRuLvyDusaUvHZ6/D2r0Qb/5n7/ez+R1Zzhwvx1R0x+5hp4/pzNf+0H9pz9Q6eKB9ieiPx8nPdproZU/F2F6Gw9Xdb9/xG2kPOaUv/jP6wGf6I6/hmIL8BBGhL9M/UIseqGJv4We1Uu19Xi/Rcr1ZrxlaL/37m7fgi17vyFCTd4GIYW/wjxLVZE+kr/gd64+cZmVvyOglWb9kZa/UzL9c91Ii79FT7v0Cal/v6l3uc08DIO/PIvsxMWnjL+wBEeoSCeKv5PHN2Tg1n2/WXaPsTXycL9kkbWYsodlv3mBaiCb7X+/QzMEk9xqmb93CHqdpd2nvxURrTrWF6e/fRDNkmpenr/Kq6gGNQefv7uzFWnW4aa/VXRvi+aOpr+2sB8QQzuhvxQQPaLVeZe/f4Fu8k6TkL9yYOdqj0WMv2G4TVHitX6/UET3ELuUdb8Ny+NgYxR4v2E0zDnK23+/WkFJSDasgr8OdCluWHOBv4VChig7Cne/yKOglZuzTD8+sxOmM+WBPypfU+i/NYY/tNjb9Iu8kT85bWT2MLaTPw9WacTx4JA/S8pcZ+OLkj8494c20weIP4iBGatD6Yo/\",\"dtype\":\"float64\",\"shape\":[75]},\"y\":{\"__ndarray__\":\"GhExyth1ND/Sv8nbtpRIP2vylNV0PVE/aTum7souWD/At0SJ8fVgPw3Iuahxymc/MSNhhJWvcD/bTfBN02d3P2zb5nxnaoA/CD5h5MAGhz8NmeH1TyaQP+zrCsc9p5Y/LbKd76fGnz/bLW5ISEmmPww9YvTcQq8/JV2OstnstT8Er5Y7M8G+P0c+r3jqkcU/5h99k6ZBzj88bCIzFzjVP4enV8oyxN0//yH99nXg5D8qOpLLf0jtP5kqGJXUifQ/c9cS8kHP/D+/DpwzojQEQIEmwoanVwxA4lgXt9HgE0BSSZ2AJuIbQAMJih9jjiNA5q4l5INuK0AwTKYKRj0zQNv5fmq8/DpAaCJseHrtQkB/+zpwzoxKQM3MzMzMeFJAZmZmZmZqWEAAAAAAAFxeQM3MzMzMJmJAmpmZmZkfZUBmZmZmZhhoQDMzMzMzEWtAAAAAAAAKbkBmZmZmZoFwQM3MzMzM/XFAMzMzMzN6c0CamZmZmfZ0QAAAAAAAc3ZAZmZmZmbvd0DNzMzMzGt5QDMzMzMz6HpAmpmZmZlkfEAAAAAAAOF9QGZmZmZmXX9AZmZmZuZsgECamZmZGSuBQM3MzMxM6YFAAAAAAICngkAzMzMzs2WDQGZmZmbmI4RAmpmZmRnihEDNzMzMTKCFQAAAAACAXoZAMzMzM7Mch0BmZmZm5tqHQJqZmZkZmYhAzczMzExXiUAAAAAAgBWKQDMzMzOz04pAZmZmZuaRi0CamZmZGVCMQM3MzMxMDo1AAAAAAIDMjUAzMzMzs4qOQGZmZmbmSI9A\",\"dtype\":\"float64\",\"shape\":[75]}},\"selected\":{\"id\":\"576e60ae-3d18-4d27-bce3-b118c0d24a7a\",\"type\":\"Selection\"},\"selection_policy\":{\"id\":\"81367f89-a195-40fc-92f9-3214177401bd\",\"type\":\"UnionRenderers\"}},\"id\":\"96e98872-229e-4070-9db0-268ffc357bc9\",\"type\":\"ColumnDataSource\"},{\"attributes\":{},\"id\":\"910f03f1-3de6-482c-b91c-2df0c537a3c8\",\"type\":\"ResetTool\"},{\"attributes\":{},\"id\":\"ccf1cc82-40c8-4c2a-bb2a-63e309548207\",\"type\":\"LinearScale\"},{\"attributes\":{\"source\":{\"id\":\"fd4cf74d-856a-46d0-b115-cfa523879f6a\",\"type\":\"ColumnDataSource\"}},\"id\":\"26e102c2-db15-4988-8665-c3b77d9b436a\",\"type\":\"CDSView\"},{\"attributes\":{\"plot\":null,\"text\":\"\"},\"id\":\"6364144c-e6f0-44a7-a142-cccc97b867e3\",\"type\":\"Title\"},{\"attributes\":{\"line_alpha\":0.1,\"line_color\":\"#1f77b4\",\"line_width\":1.5,\"x\":{\"field\":\"x\"},\"y\":{\"field\":\"y\"}},\"id\":\"69ae5cc9-c333-4bd0-aecd-338a7f02f694\",\"type\":\"Line\"},{\"attributes\":{\"callback\":null,\"data\":{\"x\":{\"__ndarray__\":\"JQlDbpi/F0ARoa3iSB0SQLb58FMdLxFAUslMJRUaEEBwVhuwcNkNQPb9+sjdbwtAcWwjKrcQCUA7f6UNqcoGQBbbIz1vpgRAlaWXRfusAkBo+/BO6OYAQBx8t8j5uv4/poHljZk6/D8Xj3NQbML5PypCBrw67vY/jSHrDhRj9D86EZvFeXjyP7fuTWWNFPE/vDY0c2428D81SRXcwvHvP3FLEG0to/A/oJgSSG0W7z/+0TwPGNjoP2q5QddsNOQ/eEV2bp5x4T8ferfBy/TeP+Ngi+85jNs/dD/YtN0e2T+KSC7oag7YP2LGl7pGM9c/mnbiOm341T+d976a62TUP1R37FyiqdM/KY0hB0v70z+f3JmV0yTUPwck5kakLNQ/d0+XckAU1D9WEGk1/KXTP6iTIx+kKtk/kVH5Dqls3T/Y1y7wL1zgP7+0U5Emf+A/euquv+Et4D+I/0tDiD/fP3lBk90kydw/JAsi2xpL3D+E4phFN2rgP2uA7dHjeuM/UxCtApn16j8cC54ae93xP5oIYv6w6fQ/ywEQu0ix9j+ZckJpVIX3P2YYtBKbufc/OxwRjK+J9z/sPuABMRz3P0lc8Nhnj/Y/bsKT1zfx9T+RVrKj9Uv1Pyatd72NpPQ/mk/SipP98z9/SkmaNVjzPwPEbunitPI/SQDVPGIY8j84/9FtgIvxP3ggLTRpGfE/gd0uyBbV8D/neRe/jsvwP/MxfYHpzPA/uGaRNuVU8D8chRLQvr7tP4JZe4FUeOk/Q7LOmExU5T8R2lhs/7HhPzKNqk8HTNo/\",\"dtype\":\"float64\",\"shape\":[75]},\"y\":{\"__ndarray__\":\"GhExyth1ND/Sv8nbtpRIP2vylNV0PVE/aTum7souWD/At0SJ8fVgPw3Iuahxymc/MSNhhJWvcD/bTfBN02d3P2zb5nxnaoA/CD5h5MAGhz8NmeH1TyaQP+zrCsc9p5Y/LbKd76fGnz/bLW5ISEmmPww9YvTcQq8/JV2OstnstT8Er5Y7M8G+P0c+r3jqkcU/5h99k6ZBzj88bCIzFzjVP4enV8oyxN0//yH99nXg5D8qOpLLf0jtP5kqGJXUifQ/c9cS8kHP/D+/DpwzojQEQIEmwoanVwxA4lgXt9HgE0BSSZ2AJuIbQAMJih9jjiNA5q4l5INuK0AwTKYKRj0zQNv5fmq8/DpAaCJseHrtQkB/+zpwzoxKQM3MzMzMeFJAZmZmZmZqWEAAAAAAAFxeQM3MzMzMJmJAmpmZmZkfZUBmZmZmZhhoQDMzMzMzEWtAAAAAAAAKbkBmZmZmZoFwQM3MzMzM/XFAMzMzMzN6c0CamZmZmfZ0QAAAAAAAc3ZAZmZmZmbvd0DNzMzMzGt5QDMzMzMz6HpAmpmZmZlkfEAAAAAAAOF9QGZmZmZmXX9AZmZmZuZsgECamZmZGSuBQM3MzMxM6YFAAAAAAICngkAzMzMzs2WDQGZmZmbmI4RAmpmZmRnihEDNzMzMTKCFQAAAAACAXoZAMzMzM7Mch0BmZmZm5tqHQJqZmZkZmYhAzczMzExXiUAAAAAAgBWKQDMzMzOz04pAZmZmZuaRi0CamZmZGVCMQM3MzMxMDo1AAAAAAIDMjUAzMzMzs4qOQGZmZmbmSI9A\",\"dtype\":\"float64\",\"shape\":[75]}},\"selected\":{\"id\":\"ab3e8874-e2fd-4789-9eff-e5985b707dfb\",\"type\":\"Selection\"},\"selection_policy\":{\"id\":\"11e23264-4218-40f5-a25b-5fe23f22e308\",\"type\":\"UnionRenderers\"}},\"id\":\"0b413b3b-a22b-4440-8a5b-53a156464fc1\",\"type\":\"ColumnDataSource\"},{\"attributes\":{\"line_color\":\"#4daf4a\",\"line_width\":1.5,\"x\":{\"field\":\"x\"},\"y\":{\"field\":\"y\"}},\"id\":\"a20b11fc-a725-4782-807d-5f339fbd5ff8\",\"type\":\"Line\"},{\"attributes\":{},\"id\":\"576e60ae-3d18-4d27-bce3-b118c0d24a7a\",\"type\":\"Selection\"},{\"attributes\":{\"plot\":{\"id\":\"7982d09e-3cc6-47ed-a678-473933234b9e\",\"subtype\":\"Figure\",\"type\":\"Plot\"},\"ticker\":{\"id\":\"68e789dd-45af-4286-b557-c0ac4055bfdc\",\"type\":\"BasicTicker\"}},\"id\":\"10a94df2-36f4-4ca7-b3d3-edf59d73f415\",\"type\":\"Grid\"},{\"attributes\":{\"dimension\":1,\"plot\":{\"id\":\"7982d09e-3cc6-47ed-a678-473933234b9e\",\"subtype\":\"Figure\",\"type\":\"Plot\"},\"ticker\":{\"id\":\"41e9d8fa-d1c6-4d22-8991-22d20e55d44d\",\"type\":\"BasicTicker\"}},\"id\":\"f921701c-b819-4380-9ac9-99ce27f02e0c\",\"type\":\"Grid\"},{\"attributes\":{\"ticker\":null},\"id\":\"6b5f95ad-3983-4356-90f7-473a14af967f\",\"type\":\"LogTickFormatter\"},{\"attributes\":{},\"id\":\"41e9d8fa-d1c6-4d22-8991-22d20e55d44d\",\"type\":\"BasicTicker\"},{\"attributes\":{},\"id\":\"22972c64-40b1-4b6b-a97e-f311fa9d474a\",\"type\":\"BasicTickFormatter\"},{\"attributes\":{},\"id\":\"e4e05c8b-be5c-4f99-accb-640129c6c76d\",\"type\":\"PanTool\"},{\"attributes\":{\"axis_label\":\"pressure [mb]\",\"formatter\":{\"id\":\"b2491c5a-5c27-48b2-bb92-2207dfea4e0f\",\"type\":\"BasicTickFormatter\"},\"plot\":{\"id\":\"7982d09e-3cc6-47ed-a678-473933234b9e\",\"subtype\":\"Figure\",\"type\":\"Plot\"},\"ticker\":{\"id\":\"41e9d8fa-d1c6-4d22-8991-22d20e55d44d\",\"type\":\"BasicTicker\"}},\"id\":\"24765ab3-ae7e-4bc8-8820-34eeae11f100\",\"type\":\"LinearAxis\"},{\"attributes\":{\"label\":{\"value\":\"CLIRAD\"},\"renderers\":[{\"id\":\"4bf984f2-9361-4b55-857e-bbe822744a7c\",\"type\":\"GlyphRenderer\"}]},\"id\":\"42c9d592-ddd6-4d0b-bdb3-bfbe567da791\",\"type\":\"LegendItem\"},{\"attributes\":{\"fill_alpha\":{\"value\":0.7},\"fill_color\":{\"value\":\"#4daf4a\"},\"line_alpha\":{\"value\":0.7},\"line_color\":{\"value\":\"#4daf4a\"},\"x\":{\"field\":\"x\"},\"y\":{\"field\":\"y\"}},\"id\":\"139f2892-e027-4f82-8554-bc97642f8ab5\",\"type\":\"Circle\"},{\"attributes\":{},\"id\":\"42e904f7-732e-4a3f-9f4a-74dd05ff583d\",\"type\":\"UnionRenderers\"},{\"attributes\":{\"label\":{\"value\":\"CRD\"},\"renderers\":[{\"id\":\"9d2e83ee-17f4-40d9-9642-548fa548df88\",\"type\":\"GlyphRenderer\"},{\"id\":\"4d40cecd-cba1-48a7-94ed-a3187b3d8d40\",\"type\":\"GlyphRenderer\"}]},\"id\":\"fdea9796-3ba4-4091-bf76-821a142e26e5\",\"type\":\"LegendItem\"},{\"attributes\":{\"source\":{\"id\":\"8c79a091-9a82-41f1-ac03-f352cf293669\",\"type\":\"ColumnDataSource\"}},\"id\":\"2eb685d0-9d60-4c7a-bd86-b68a90d82a32\",\"type\":\"CDSView\"},{\"attributes\":{\"axis_label\":\"cooling rate [K/day]\",\"formatter\":{\"id\":\"22972c64-40b1-4b6b-a97e-f311fa9d474a\",\"type\":\"BasicTickFormatter\"},\"plot\":{\"id\":\"7982d09e-3cc6-47ed-a678-473933234b9e\",\"subtype\":\"Figure\",\"type\":\"Plot\"},\"ticker\":{\"id\":\"68e789dd-45af-4286-b557-c0ac4055bfdc\",\"type\":\"BasicTicker\"}},\"id\":\"6fb9e4e5-3b30-4822-a002-2cea392261a6\",\"type\":\"LinearAxis\"},{\"attributes\":{},\"id\":\"86af93c3-9638-4a2a-bf1b-d70195321339\",\"type\":\"BasicTickFormatter\"},{\"attributes\":{\"plot\":null,\"text\":\"\"},\"id\":\"34a51cde-5dae-45dc-8849-66c283b76313\",\"type\":\"Title\"},{\"attributes\":{\"fill_alpha\":{\"value\":0.1},\"fill_color\":{\"value\":\"#1f77b4\"},\"line_alpha\":{\"value\":0.1},\"line_color\":{\"value\":\"#1f77b4\"},\"x\":{\"field\":\"x\"},\"y\":{\"field\":\"y\"}},\"id\":\"2fd920c0-1966-4162-bfda-701d6681c2d9\",\"type\":\"Circle\"},{\"attributes\":{\"data_source\":{\"id\":\"96e98872-229e-4070-9db0-268ffc357bc9\",\"type\":\"ColumnDataSource\"},\"glyph\":{\"id\":\"760bf7d7-38ce-4b90-9719-e1594b922efb\",\"type\":\"Line\"},\"hover_glyph\":null,\"muted_glyph\":null,\"nonselection_glyph\":{\"id\":\"69ae5cc9-c333-4bd0-aecd-338a7f02f694\",\"type\":\"Line\"},\"selection_glyph\":null,\"view\":{\"id\":\"dbe140dd-f100-4b1e-a83a-5f9c0360695d\",\"type\":\"CDSView\"}},\"id\":\"c7e78f8d-7954-460c-a0a0-8acf1d205dc3\",\"type\":\"GlyphRenderer\"},{\"attributes\":{\"source\":{\"id\":\"fa6a0171-780f-4174-a8a1-b34ed27d9737\",\"type\":\"ColumnDataSource\"}},\"id\":\"7963e163-a819-4a98-a367-4bb748d3da3e\",\"type\":\"CDSView\"},{\"attributes\":{\"callback\":null,\"data\":{\"x\":{\"__ndarray__\":\"XUK14PHpCkCGWZx/lWUJQBO5WYZcBwpAw1+c1McuCkDD5aU5GrgJQIG1K5txjghAez/7STi0BkDGeO9HRGIEQNobbYgX+wFAi9tVR8/p/z9T3K1dDDn9P+VwRwYurvs/sjIHxcGa+j/VQY3s1/H4P31VMZF0UPY/Yyxv7wKj8z+QJo2+CKvxP6Hq2DfChvA/5Eb5ioXq7z/diqj1U4XvP7mDea64KvA/T/UCTp8W7j9gCFFAp7foP/JTQKCiKOU/sjgsjnLx4j+j6/lI5ZzgP1UzL61Q5tw/71VqeIHJ2D9DbOcdB8DWP+FniMIBPNY/hhtiszxW1T+x31zJ35fTP9ogvYfLRdM/lqFTjn/K0z/kIByKHbjTP/e58w+cg9M/qptCXVfw0j/ZKH4hZUzSP6U5ukiEwdc//mdZI2KS3D85YUXc3RzgP+DOHJ71MuA/mXA2UYV23z9jxwn+TW7eP11iAlzJUdw/Sc1bBFIH3D/0LACTr1TgP2irrJsIO+M/uO4UHkIq6j/YOrLtjR7xPxOgjEzyMPQ/jM3EEM839j/pzyeVNwn3P8hqa1+MAvc/mKC1VzjV9j9lQV/pVpL2PwtoZ4KAMfY/aAjKm+qu9T/Rh9yEahP1P25fJtvXhfQ/VljBz/7n8z+2Zug2IUDzP8/3NB8HlfI/xm1E0Anz8T9OrPW8mWjxPzaaBPleAvE/l5GhO63Y8D9NoWMmWe/wP7LYTQFV+fA/HNZkZteb8D+GqMVXcFzuPzKkng9c/+k/lZgJtKvo5T/u+TK5HhLiPz9ZA21RI9s/\",\"dtype\":\"float64\",\"shape\":[75]},\"y\":{\"__ndarray__\":\"GhExyth1ND/Sv8nbtpRIP2vylNV0PVE/aTum7souWD/At0SJ8fVgPw3Iuahxymc/MSNhhJWvcD/bTfBN02d3P2zb5nxnaoA/CD5h5MAGhz8NmeH1TyaQP+zrCsc9p5Y/LbKd76fGnz/bLW5ISEmmPww9YvTcQq8/JV2OstnstT8Er5Y7M8G+P0c+r3jqkcU/5h99k6ZBzj88bCIzFzjVP4enV8oyxN0//yH99nXg5D8qOpLLf0jtP5kqGJXUifQ/c9cS8kHP/D+/DpwzojQEQIEmwoanVwxA4lgXt9HgE0BSSZ2AJuIbQAMJih9jjiNA5q4l5INuK0AwTKYKRj0zQNv5fmq8/DpAaCJseHrtQkB/+zpwzoxKQM3MzMzMeFJAZmZmZmZqWEAAAAAAAFxeQM3MzMzMJmJAmpmZmZkfZUBmZmZmZhhoQDMzMzMzEWtAAAAAAAAKbkBmZmZmZoFwQM3MzMzM/XFAMzMzMzN6c0CamZmZmfZ0QAAAAAAAc3ZAZmZmZmbvd0DNzMzMzGt5QDMzMzMz6HpAmpmZmZlkfEAAAAAAAOF9QGZmZmZmXX9AZmZmZuZsgECamZmZGSuBQM3MzMxM6YFAAAAAAICngkAzMzMzs2WDQGZmZmbmI4RAmpmZmRnihEDNzMzMTKCFQAAAAACAXoZAMzMzM7Mch0BmZmZm5tqHQJqZmZkZmYhAzczMzExXiUAAAAAAgBWKQDMzMzOz04pAZmZmZuaRi0CamZmZGVCMQM3MzMxMDo1AAAAAAIDMjUAzMzMzs4qOQGZmZmbmSI9A\",\"dtype\":\"float64\",\"shape\":[75]}},\"selected\":{\"id\":\"ae61e39d-070d-4220-8cfa-969e4a4c5ef2\",\"type\":\"Selection\"},\"selection_policy\":{\"id\":\"917e4312-5416-44c9-82f7-39d51351ee51\",\"type\":\"UnionRenderers\"}},\"id\":\"5474e808-dd54-449e-a358-513055a559e8\",\"type\":\"ColumnDataSource\"},{\"attributes\":{\"tools\":[{\"id\":\"e4e05c8b-be5c-4f99-accb-640129c6c76d\",\"type\":\"PanTool\"},{\"id\":\"5882718f-367a-4177-a552-3ae4c11277ef\",\"type\":\"WheelZoomTool\"},{\"id\":\"35779613-33ef-4b79-9a7b-23a4970c8ccf\",\"type\":\"BoxZoomTool\"},{\"id\":\"e4f7f9bc-288c-405b-9f53-6a164b65779d\",\"type\":\"SaveTool\"},{\"id\":\"9bbb1495-f2d1-4558-b850-5f98e7685b57\",\"type\":\"ResetTool\"},{\"id\":\"c15d44c6-f40e-472f-a122-300eeabbb2e5\",\"type\":\"HelpTool\"},{\"id\":\"fcbc2b02-12af-48c1-8686-4a7f5098e104\",\"type\":\"PanTool\"},{\"id\":\"678f2fc6-7798-4ce9-bcab-53d87a651793\",\"type\":\"WheelZoomTool\"},{\"id\":\"ba0a82c8-993c-4507-810c-2b51e83816d5\",\"type\":\"BoxZoomTool\"},{\"id\":\"233961c8-3472-4276-ab80-4cd104ab0d39\",\"type\":\"SaveTool\"},{\"id\":\"2f17d69d-a75e-4ee5-8941-14e5887ea5f5\",\"type\":\"ResetTool\"},{\"id\":\"c1a8d973-6201-4f40-8268-ada3f59bb115\",\"type\":\"HelpTool\"},{\"id\":\"544d7835-9b47-4c0d-ab5e-71ffc34343b0\",\"type\":\"PanTool\"},{\"id\":\"a6277079-51c4-4f53-8d79-3c6119c2b5ef\",\"type\":\"WheelZoomTool\"},{\"id\":\"103aaddc-bf13-4460-951c-cedd80f3d2b9\",\"type\":\"BoxZoomTool\"},{\"id\":\"e786a10e-1a28-41ca-8490-be07215ed04e\",\"type\":\"SaveTool\"},{\"id\":\"910f03f1-3de6-482c-b91c-2df0c537a3c8\",\"type\":\"ResetTool\"},{\"id\":\"9cde2bc9-1fb2-40ca-8383-808b75e8055d\",\"type\":\"HelpTool\"}]},\"id\":\"ad9a773a-ff00-4efc-8f07-e8ff0160aadc\",\"type\":\"ProxyToolbar\"},{\"attributes\":{},\"id\":\"b2491c5a-5c27-48b2-bb92-2207dfea4e0f\",\"type\":\"BasicTickFormatter\"},{\"attributes\":{\"callback\":null,\"end\":1.494782916034759,\"start\":0.273943772129341},\"id\":\"6b099a43-eff6-4dc4-8da7-d4e3499138ae\",\"type\":\"Range1d\"},{\"attributes\":{\"label\":{\"value\":\"CLIRAD - CRD\"},\"renderers\":[{\"id\":\"1d900227-9e08-4f59-b377-da7d6159b76a\",\"type\":\"GlyphRenderer\"},{\"id\":\"c7e78f8d-7954-460c-a0a0-8acf1d205dc3\",\"type\":\"GlyphRenderer\"}]},\"id\":\"70895c8b-840a-4e61-8e5e-9af37ebf869b\",\"type\":\"LegendItem\"},{\"attributes\":{},\"id\":\"02e12e9e-bdcf-4e1b-abf0-49af20d7c5a7\",\"type\":\"UnionRenderers\"},{\"attributes\":{\"source\":{\"id\":\"96e98872-229e-4070-9db0-268ffc357bc9\",\"type\":\"ColumnDataSource\"}},\"id\":\"dbe140dd-f100-4b1e-a83a-5f9c0360695d\",\"type\":\"CDSView\"},{\"attributes\":{\"callback\":null,\"data\":{\"x\":{\"__ndarray__\":\"JQlDbpi/F0ARoa3iSB0SQLb58FMdLxFAUslMJRUaEEBwVhuwcNkNQPb9+sjdbwtAcWwjKrcQCUA7f6UNqcoGQBbbIz1vpgRAlaWXRfusAkBo+/BO6OYAQBx8t8j5uv4/poHljZk6/D8Xj3NQbML5PypCBrw67vY/jSHrDhRj9D86EZvFeXjyP7fuTWWNFPE/vDY0c2428D81SRXcwvHvP3FLEG0to/A/oJgSSG0W7z/+0TwPGNjoP2q5QddsNOQ/eEV2bp5x4T8ferfBy/TeP+Ngi+85jNs/dD/YtN0e2T+KSC7oag7YP2LGl7pGM9c/mnbiOm341T+d976a62TUP1R37FyiqdM/KY0hB0v70z+f3JmV0yTUPwck5kakLNQ/d0+XckAU1D9WEGk1/KXTP6iTIx+kKtk/kVH5Dqls3T/Y1y7wL1zgP7+0U5Emf+A/euquv+Et4D+I/0tDiD/fP3lBk90kydw/JAsi2xpL3D+E4phFN2rgP2uA7dHjeuM/UxCtApn16j8cC54ae93xP5oIYv6w6fQ/ywEQu0ix9j+ZckJpVIX3P2YYtBKbufc/OxwRjK+J9z/sPuABMRz3P0lc8Nhnj/Y/bsKT1zfx9T+RVrKj9Uv1Pyatd72NpPQ/mk/SipP98z9/SkmaNVjzPwPEbunitPI/SQDVPGIY8j84/9FtgIvxP3ggLTRpGfE/gd0uyBbV8D/neRe/jsvwP/MxfYHpzPA/uGaRNuVU8D8chRLQvr7tP4JZe4FUeOk/Q7LOmExU5T8R2lhs/7HhPzKNqk8HTNo/\",\"dtype\":\"float64\",\"shape\":[75]},\"y\":{\"__ndarray__\":\"GhExyth1ND/Sv8nbtpRIP2vylNV0PVE/aTum7souWD/At0SJ8fVgPw3Iuahxymc/MSNhhJWvcD/bTfBN02d3P2zb5nxnaoA/CD5h5MAGhz8NmeH1TyaQP+zrCsc9p5Y/LbKd76fGnz/bLW5ISEmmPww9YvTcQq8/JV2OstnstT8Er5Y7M8G+P0c+r3jqkcU/5h99k6ZBzj88bCIzFzjVP4enV8oyxN0//yH99nXg5D8qOpLLf0jtP5kqGJXUifQ/c9cS8kHP/D+/DpwzojQEQIEmwoanVwxA4lgXt9HgE0BSSZ2AJuIbQAMJih9jjiNA5q4l5INuK0AwTKYKRj0zQNv5fmq8/DpAaCJseHrtQkB/+zpwzoxKQM3MzMzMeFJAZmZmZmZqWEAAAAAAAFxeQM3MzMzMJmJAmpmZmZkfZUBmZmZmZhhoQDMzMzMzEWtAAAAAAAAKbkBmZmZmZoFwQM3MzMzM/XFAMzMzMzN6c0CamZmZmfZ0QAAAAAAAc3ZAZmZmZmbvd0DNzMzMzGt5QDMzMzMz6HpAmpmZmZlkfEAAAAAAAOF9QGZmZmZmXX9AZmZmZuZsgECamZmZGSuBQM3MzMxM6YFAAAAAAICngkAzMzMzs2WDQGZmZmbmI4RAmpmZmRnihEDNzMzMTKCFQAAAAACAXoZAMzMzM7Mch0BmZmZm5tqHQJqZmZkZmYhAzczMzExXiUAAAAAAgBWKQDMzMzOz04pAZmZmZuaRi0CamZmZGVCMQM3MzMxMDo1AAAAAAIDMjUAzMzMzs4qOQGZmZmbmSI9A\",\"dtype\":\"float64\",\"shape\":[75]}},\"selected\":{\"id\":\"283ffb2d-5e34-4193-85e8-1dcabeb22cac\",\"type\":\"Selection\"},\"selection_policy\":{\"id\":\"42e904f7-732e-4a3f-9f4a-74dd05ff583d\",\"type\":\"UnionRenderers\"}},\"id\":\"fa6a0171-780f-4174-a8a1-b34ed27d9737\",\"type\":\"ColumnDataSource\"},{\"attributes\":{\"fill_alpha\":{\"value\":0.7},\"fill_color\":{\"value\":\"#984ea3\"},\"line_alpha\":{\"value\":0.7},\"line_color\":{\"value\":\"#984ea3\"},\"x\":{\"field\":\"x\"},\"y\":{\"field\":\"y\"}},\"id\":\"82340880-505e-4ef3-8f5b-dbe44b80c3ce\",\"type\":\"Circle\"},{\"attributes\":{\"children\":[{\"id\":\"2951d25a-174c-4a75-94d3-7d3e69160fb9\",\"type\":\"ToolbarBox\"},{\"id\":\"b6bb01cf-e260-44d1-a0ec-c5cb95b91e64\",\"type\":\"Column\"}]},\"id\":\"3a6b5b94-a20e-4079-b187-30aac1716426\",\"type\":\"Column\"},{\"attributes\":{\"callback\":null,\"end\":0.01,\"start\":1020},\"id\":\"79df104c-599c-4a64-85d7-bcd7026f932b\",\"type\":\"Range1d\"},{\"attributes\":{\"ticker\":null},\"id\":\"21e47335-7b4f-4797-95d3-c30184893452\",\"type\":\"LogTickFormatter\"},{\"attributes\":{\"toolbar\":{\"id\":\"ad9a773a-ff00-4efc-8f07-e8ff0160aadc\",\"type\":\"ProxyToolbar\"},\"toolbar_location\":\"above\"},\"id\":\"2951d25a-174c-4a75-94d3-7d3e69160fb9\",\"type\":\"ToolbarBox\"},{\"attributes\":{},\"id\":\"b7520db5-c1e8-47cd-8443-cd2c628e8df2\",\"type\":\"LinearScale\"},{\"attributes\":{\"children\":[{\"id\":\"7982d09e-3cc6-47ed-a678-473933234b9e\",\"subtype\":\"Figure\",\"type\":\"Plot\"},{\"id\":\"4da63f19-ab2a-45fb-9f0e-18ae6aef5fbd\",\"subtype\":\"Figure\",\"type\":\"Plot\"},{\"id\":\"352be06b-08d0-4658-b179-5e0b07d2aa31\",\"subtype\":\"Figure\",\"type\":\"Plot\"}]},\"id\":\"4e1c59f4-63da-45a6-8fa8-a16f802b3d0f\",\"type\":\"Row\"},{\"attributes\":{},\"id\":\"68e789dd-45af-4286-b557-c0ac4055bfdc\",\"type\":\"BasicTicker\"},{\"attributes\":{},\"id\":\"ab3e8874-e2fd-4789-9eff-e5985b707dfb\",\"type\":\"Selection\"},{\"attributes\":{\"items\":[{\"id\":\"8cde748f-0af3-4570-bbf4-21aef1c162af\",\"type\":\"LegendItem\"},{\"id\":\"9055a905-137f-48bd-aed8-e02a776f4359\",\"type\":\"LegendItem\"}],\"label_text_font_size\":{\"value\":\"8pt\"},\"location\":\"top_center\",\"orientation\":\"horizontal\",\"plot\":{\"id\":\"7982d09e-3cc6-47ed-a678-473933234b9e\",\"subtype\":\"Figure\",\"type\":\"Plot\"}},\"id\":\"9d8e320e-4eda-43a7-a51d-895003d7dbd2\",\"type\":\"Legend\"},{\"attributes\":{},\"id\":\"c15d44c6-f40e-472f-a122-300eeabbb2e5\",\"type\":\"HelpTool\"},{\"attributes\":{\"plot\":{\"id\":\"4da63f19-ab2a-45fb-9f0e-18ae6aef5fbd\",\"subtype\":\"Figure\",\"type\":\"Plot\"},\"ticker\":{\"id\":\"c9339107-259f-49b5-8073-c0aaace57a1f\",\"type\":\"BasicTicker\"}},\"id\":\"5f7fe8f7-64b2-4e6e-b014-57d2af87bb91\",\"type\":\"Grid\"},{\"attributes\":{\"axis_label\":\"cooling rate [K/day]\",\"formatter\":{\"id\":\"9104e340-3f3d-4f26-8cd6-c99df85f9164\",\"type\":\"BasicTickFormatter\"},\"plot\":{\"id\":\"352be06b-08d0-4658-b179-5e0b07d2aa31\",\"subtype\":\"Figure\",\"type\":\"Plot\"},\"ticker\":{\"id\":\"b6f3a30d-960e-45e7-95f5-1b00c28d7809\",\"type\":\"BasicTicker\"}},\"id\":\"deafb818-9f6e-4725-ae26-3e06ce59c9cd\",\"type\":\"LinearAxis\"},{\"attributes\":{\"overlay\":{\"id\":\"bb132915-a266-4d53-835e-d609a6ea4104\",\"type\":\"BoxAnnotation\"}},\"id\":\"35779613-33ef-4b79-9a7b-23a4970c8ccf\",\"type\":\"BoxZoomTool\"},{\"attributes\":{},\"id\":\"c9339107-259f-49b5-8073-c0aaace57a1f\",\"type\":\"BasicTicker\"},{\"attributes\":{\"num_minor_ticks\":10},\"id\":\"9cf1ecd0-7b7e-4170-8872-656bdb5fb218\",\"type\":\"LogTicker\"},{\"attributes\":{\"active_drag\":\"auto\",\"active_inspect\":\"auto\",\"active_scroll\":\"auto\",\"active_tap\":\"auto\",\"tools\":[{\"id\":\"fcbc2b02-12af-48c1-8686-4a7f5098e104\",\"type\":\"PanTool\"},{\"id\":\"678f2fc6-7798-4ce9-bcab-53d87a651793\",\"type\":\"WheelZoomTool\"},{\"id\":\"ba0a82c8-993c-4507-810c-2b51e83816d5\",\"type\":\"BoxZoomTool\"},{\"id\":\"233961c8-3472-4276-ab80-4cd104ab0d39\",\"type\":\"SaveTool\"},{\"id\":\"2f17d69d-a75e-4ee5-8941-14e5887ea5f5\",\"type\":\"ResetTool\"},{\"id\":\"c1a8d973-6201-4f40-8268-ada3f59bb115\",\"type\":\"HelpTool\"}]},\"id\":\"1717fb02-1d4c-4fd4-9e17-3347e0781375\",\"type\":\"Toolbar\"},{\"attributes\":{\"plot\":{\"id\":\"352be06b-08d0-4658-b179-5e0b07d2aa31\",\"subtype\":\"Figure\",\"type\":\"Plot\"},\"ticker\":{\"id\":\"b6f3a30d-960e-45e7-95f5-1b00c28d7809\",\"type\":\"BasicTicker\"}},\"id\":\"10c8f0b0-a6bd-477a-9f16-46d9f216556d\",\"type\":\"Grid\"},{\"attributes\":{\"line_alpha\":0.1,\"line_color\":\"#1f77b4\",\"line_dash\":[6],\"line_width\":5,\"x\":{\"field\":\"x\"},\"y\":{\"field\":\"y\"}},\"id\":\"82a20a0c-6336-47a9-8e72-11a798b82eeb\",\"type\":\"Line\"},{\"attributes\":{},\"id\":\"b6f3a30d-960e-45e7-95f5-1b00c28d7809\",\"type\":\"BasicTicker\"},{\"attributes\":{\"callback\":null,\"end\":0.01,\"start\":1020},\"id\":\"f8f11915-33dd-4b8e-8b88-9a9297432764\",\"type\":\"Range1d\"},{\"attributes\":{\"axis_label\":\"pressure [mb]\",\"formatter\":{\"id\":\"21e47335-7b4f-4797-95d3-c30184893452\",\"type\":\"LogTickFormatter\"},\"plot\":{\"id\":\"4da63f19-ab2a-45fb-9f0e-18ae6aef5fbd\",\"subtype\":\"Figure\",\"type\":\"Plot\"},\"ticker\":{\"id\":\"75c11586-18b1-468b-a5e1-fdab7d707f1a\",\"type\":\"LogTicker\"}},\"id\":\"e1e8be02-8303-42cd-a92a-e71aba2148b9\",\"type\":\"LogAxis\"},{\"attributes\":{\"axis_label\":\"pressure [mb]\",\"formatter\":{\"id\":\"6b5f95ad-3983-4356-90f7-473a14af967f\",\"type\":\"LogTickFormatter\"},\"plot\":{\"id\":\"352be06b-08d0-4658-b179-5e0b07d2aa31\",\"subtype\":\"Figure\",\"type\":\"Plot\"},\"ticker\":{\"id\":\"9cf1ecd0-7b7e-4170-8872-656bdb5fb218\",\"type\":\"LogTicker\"}},\"id\":\"40037a4e-3332-4747-bdeb-a5527dbb27d9\",\"type\":\"LogAxis\"},{\"attributes\":{\"overlay\":{\"id\":\"d9dfd433-1213-4354-8411-dcd8bcfe427d\",\"type\":\"BoxAnnotation\"}},\"id\":\"103aaddc-bf13-4460-951c-cedd80f3d2b9\",\"type\":\"BoxZoomTool\"},{\"attributes\":{\"line_alpha\":0.1,\"line_color\":\"#1f77b4\",\"line_dash\":[6],\"line_width\":5,\"x\":{\"field\":\"x\"},\"y\":{\"field\":\"y\"}},\"id\":\"3f5fd23c-afa5-4fed-a809-4ef0581a1b43\",\"type\":\"Line\"},{\"attributes\":{\"fill_alpha\":{\"value\":0.1},\"fill_color\":{\"value\":\"#1f77b4\"},\"line_alpha\":{\"value\":0.1},\"line_color\":{\"value\":\"#1f77b4\"},\"x\":{\"field\":\"x\"},\"y\":{\"field\":\"y\"}},\"id\":\"e5dd6e36-2671-4d9c-b36c-96c4c93869aa\",\"type\":\"Circle\"},{\"attributes\":{},\"id\":\"58c944e9-c14c-42da-9e6e-2f7726bb9731\",\"type\":\"LogScale\"},{\"attributes\":{\"fill_alpha\":{\"value\":0.7},\"fill_color\":{\"value\":\"#4daf4a\"},\"line_alpha\":{\"value\":0.7},\"line_color\":{\"value\":\"#4daf4a\"},\"x\":{\"field\":\"x\"},\"y\":{\"field\":\"y\"}},\"id\":\"78832cb6-ff14-49a9-9dba-25449d9dd457\",\"type\":\"Circle\"},{\"attributes\":{},\"id\":\"067fe2b9-2d41-4446-96c7-5ee193ab7f5c\",\"type\":\"LogScale\"},{\"attributes\":{\"source\":{\"id\":\"5474e808-dd54-449e-a358-513055a559e8\",\"type\":\"ColumnDataSource\"}},\"id\":\"fb70944d-d401-4c89-bd6e-fa2d99d0b9dc\",\"type\":\"CDSView\"},{\"attributes\":{},\"id\":\"9bbb1495-f2d1-4558-b850-5f98e7685b57\",\"type\":\"ResetTool\"},{\"attributes\":{},\"id\":\"678f2fc6-7798-4ce9-bcab-53d87a651793\",\"type\":\"WheelZoomTool\"},{\"attributes\":{\"label\":{\"value\":\"CRD\"},\"renderers\":[{\"id\":\"94d07ff5-a55e-4537-a814-d1dc2d8295aa\",\"type\":\"GlyphRenderer\"},{\"id\":\"0be9d575-1dc7-4df8-963d-89da8e7e1d53\",\"type\":\"GlyphRenderer\"}]},\"id\":\"9055a905-137f-48bd-aed8-e02a776f4359\",\"type\":\"LegendItem\"},{\"attributes\":{},\"id\":\"2f17d69d-a75e-4ee5-8941-14e5887ea5f5\",\"type\":\"ResetTool\"},{\"attributes\":{},\"id\":\"544d7835-9b47-4c0d-ab5e-71ffc34343b0\",\"type\":\"PanTool\"},{\"attributes\":{\"items\":[{\"id\":\"42c9d592-ddd6-4d0b-bdb3-bfbe567da791\",\"type\":\"LegendItem\"},{\"id\":\"fdea9796-3ba4-4091-bf76-821a142e26e5\",\"type\":\"LegendItem\"}],\"label_text_font_size\":{\"value\":\"8pt\"},\"location\":\"top_center\",\"orientation\":\"horizontal\",\"plot\":{\"id\":\"4da63f19-ab2a-45fb-9f0e-18ae6aef5fbd\",\"subtype\":\"Figure\",\"type\":\"Plot\"}},\"id\":\"84dd8f06-26a7-4b27-a093-236b48709c0e\",\"type\":\"Legend\"},{\"attributes\":{},\"id\":\"c1a8d973-6201-4f40-8268-ada3f59bb115\",\"type\":\"HelpTool\"},{\"attributes\":{},\"id\":\"acd2b6b8-c430-4597-8afe-02a88d0a8208\",\"type\":\"UnionRenderers\"},{\"attributes\":{\"line_color\":\"#4daf4a\",\"line_width\":1.5,\"x\":{\"field\":\"x\"},\"y\":{\"field\":\"y\"}},\"id\":\"284b58cb-5a59-4a58-9d0a-2832fa341148\",\"type\":\"Line\"},{\"attributes\":{\"source\":{\"id\":\"0020420c-35eb-46a3-9761-8396a09d3039\",\"type\":\"ColumnDataSource\"}},\"id\":\"94b56d83-52a6-42bd-b87e-b2b7e47096f5\",\"type\":\"CDSView\"},{\"attributes\":{\"dimension\":1,\"plot\":{\"id\":\"352be06b-08d0-4658-b179-5e0b07d2aa31\",\"subtype\":\"Figure\",\"type\":\"Plot\"},\"ticker\":{\"id\":\"9cf1ecd0-7b7e-4170-8872-656bdb5fb218\",\"type\":\"LogTicker\"}},\"id\":\"f7e88971-e6d5-4740-8a05-09844894c887\",\"type\":\"Grid\"},{\"attributes\":{},\"id\":\"e4f7f9bc-288c-405b-9f53-6a164b65779d\",\"type\":\"SaveTool\"},{\"attributes\":{\"source\":{\"id\":\"ddf4db67-ae0c-439a-9623-23df39fa3d7c\",\"type\":\"ColumnDataSource\"}},\"id\":\"d4a8b553-9b0d-46a9-be6a-24c339a83701\",\"type\":\"CDSView\"},{\"attributes\":{\"bottom_units\":\"screen\",\"fill_alpha\":{\"value\":0.5},\"fill_color\":{\"value\":\"lightgrey\"},\"left_units\":\"screen\",\"level\":\"overlay\",\"line_alpha\":{\"value\":1.0},\"line_color\":{\"value\":\"black\"},\"line_dash\":[4,4],\"line_width\":{\"value\":2},\"plot\":null,\"render_mode\":\"css\",\"right_units\":\"screen\",\"top_units\":\"screen\"},\"id\":\"68dbcef8-2896-4d6d-ae1f-d43ac7240503\",\"type\":\"BoxAnnotation\"},{\"attributes\":{\"line_alpha\":0.6,\"line_color\":\"#e41a1c\",\"line_dash\":[6],\"line_width\":5,\"x\":{\"field\":\"x\"},\"y\":{\"field\":\"y\"}},\"id\":\"6cc4f7c9-2760-4073-ab3f-56c46db910cc\",\"type\":\"Line\"},{\"attributes\":{},\"id\":\"fcbc2b02-12af-48c1-8686-4a7f5098e104\",\"type\":\"PanTool\"},{\"attributes\":{\"data_source\":{\"id\":\"ddf4db67-ae0c-439a-9623-23df39fa3d7c\",\"type\":\"ColumnDataSource\"},\"glyph\":{\"id\":\"284b58cb-5a59-4a58-9d0a-2832fa341148\",\"type\":\"Line\"},\"hover_glyph\":null,\"muted_glyph\":null,\"nonselection_glyph\":{\"id\":\"053ac136-7b6b-4ee8-a208-15eba17c126c\",\"type\":\"Line\"},\"selection_glyph\":null,\"view\":{\"id\":\"d4a8b553-9b0d-46a9-be6a-24c339a83701\",\"type\":\"CDSView\"}},\"id\":\"0be9d575-1dc7-4df8-963d-89da8e7e1d53\",\"type\":\"GlyphRenderer\"},{\"attributes\":{\"active_drag\":\"auto\",\"active_inspect\":\"auto\",\"active_scroll\":\"auto\",\"active_tap\":\"auto\",\"tools\":[{\"id\":\"544d7835-9b47-4c0d-ab5e-71ffc34343b0\",\"type\":\"PanTool\"},{\"id\":\"a6277079-51c4-4f53-8d79-3c6119c2b5ef\",\"type\":\"WheelZoomTool\"},{\"id\":\"103aaddc-bf13-4460-951c-cedd80f3d2b9\",\"type\":\"BoxZoomTool\"},{\"id\":\"e786a10e-1a28-41ca-8490-be07215ed04e\",\"type\":\"SaveTool\"},{\"id\":\"910f03f1-3de6-482c-b91c-2df0c537a3c8\",\"type\":\"ResetTool\"},{\"id\":\"9cde2bc9-1fb2-40ca-8383-808b75e8055d\",\"type\":\"HelpTool\"}]},\"id\":\"705e06e7-cff2-45ce-bea2-da4eab9a3b3e\",\"type\":\"Toolbar\"},{\"attributes\":{\"above\":[{\"id\":\"84dd8f06-26a7-4b27-a093-236b48709c0e\",\"type\":\"Legend\"}],\"below\":[{\"id\":\"90327603-2398-4f8a-b93d-8b5d10f74954\",\"type\":\"LinearAxis\"}],\"left\":[{\"id\":\"e1e8be02-8303-42cd-a92a-e71aba2148b9\",\"type\":\"LogAxis\"}],\"plot_width\":300,\"renderers\":[{\"id\":\"90327603-2398-4f8a-b93d-8b5d10f74954\",\"type\":\"LinearAxis\"},{\"id\":\"5f7fe8f7-64b2-4e6e-b014-57d2af87bb91\",\"type\":\"Grid\"},{\"id\":\"e1e8be02-8303-42cd-a92a-e71aba2148b9\",\"type\":\"LogAxis\"},{\"id\":\"38852a2f-5527-4e3f-abf1-84ce25459e75\",\"type\":\"Grid\"},{\"id\":\"68dbcef8-2896-4d6d-ae1f-d43ac7240503\",\"type\":\"BoxAnnotation\"},{\"id\":\"4bf984f2-9361-4b55-857e-bbe822744a7c\",\"type\":\"GlyphRenderer\"},{\"id\":\"9d2e83ee-17f4-40d9-9642-548fa548df88\",\"type\":\"GlyphRenderer\"},{\"id\":\"4d40cecd-cba1-48a7-94ed-a3187b3d8d40\",\"type\":\"GlyphRenderer\"},{\"id\":\"84dd8f06-26a7-4b27-a093-236b48709c0e\",\"type\":\"Legend\"}],\"title\":{\"id\":\"6364144c-e6f0-44a7-a142-cccc97b867e3\",\"type\":\"Title\"},\"toolbar\":{\"id\":\"1717fb02-1d4c-4fd4-9e17-3347e0781375\",\"type\":\"Toolbar\"},\"toolbar_location\":null,\"x_range\":{\"id\":\"592d3615-36a0-4b2a-820c-625704188f2b\",\"type\":\"Range1d\"},\"x_scale\":{\"id\":\"323691ed-5c34-4e47-b6d9-8271dc43fca2\",\"type\":\"LinearScale\"},\"y_range\":{\"id\":\"2eb9c1dc-763c-43a0-8253-d0cf57ffc55f\",\"type\":\"Range1d\"},\"y_scale\":{\"id\":\"58c944e9-c14c-42da-9e6e-2f7726bb9731\",\"type\":\"LogScale\"}},\"id\":\"4da63f19-ab2a-45fb-9f0e-18ae6aef5fbd\",\"subtype\":\"Figure\",\"type\":\"Plot\"},{\"attributes\":{\"line_alpha\":0.1,\"line_color\":\"#1f77b4\",\"line_width\":1.5,\"x\":{\"field\":\"x\"},\"y\":{\"field\":\"y\"}},\"id\":\"053ac136-7b6b-4ee8-a208-15eba17c126c\",\"type\":\"Line\"},{\"attributes\":{\"line_alpha\":0.6,\"line_color\":\"#e41a1c\",\"line_dash\":[6],\"line_width\":5,\"x\":{\"field\":\"x\"},\"y\":{\"field\":\"y\"}},\"id\":\"4003eba5-9382-4ece-9f0b-64d0e574c454\",\"type\":\"Line\"},{\"attributes\":{\"above\":[{\"id\":\"9d8e320e-4eda-43a7-a51d-895003d7dbd2\",\"type\":\"Legend\"}],\"below\":[{\"id\":\"6fb9e4e5-3b30-4822-a002-2cea392261a6\",\"type\":\"LinearAxis\"}],\"left\":[{\"id\":\"24765ab3-ae7e-4bc8-8820-34eeae11f100\",\"type\":\"LinearAxis\"}],\"plot_width\":300,\"renderers\":[{\"id\":\"6fb9e4e5-3b30-4822-a002-2cea392261a6\",\"type\":\"LinearAxis\"},{\"id\":\"10a94df2-36f4-4ca7-b3d3-edf59d73f415\",\"type\":\"Grid\"},{\"id\":\"24765ab3-ae7e-4bc8-8820-34eeae11f100\",\"type\":\"LinearAxis\"},{\"id\":\"f921701c-b819-4380-9ac9-99ce27f02e0c\",\"type\":\"Grid\"},{\"id\":\"bb132915-a266-4d53-835e-d609a6ea4104\",\"type\":\"BoxAnnotation\"},{\"id\":\"ea4973c0-12f2-43ce-8110-128446c2261f\",\"type\":\"GlyphRenderer\"},{\"id\":\"94d07ff5-a55e-4537-a814-d1dc2d8295aa\",\"type\":\"GlyphRenderer\"},{\"id\":\"0be9d575-1dc7-4df8-963d-89da8e7e1d53\",\"type\":\"GlyphRenderer\"},{\"id\":\"9d8e320e-4eda-43a7-a51d-895003d7dbd2\",\"type\":\"Legend\"}],\"title\":{\"id\":\"58632728-89e5-4d11-9bbd-a8718f1d4794\",\"type\":\"Title\"},\"toolbar\":{\"id\":\"b30693e2-86e9-4633-9a2a-2d588922f4e2\",\"type\":\"Toolbar\"},\"toolbar_location\":null,\"x_range\":{\"id\":\"6b099a43-eff6-4dc4-8da7-d4e3499138ae\",\"type\":\"Range1d\"},\"x_scale\":{\"id\":\"ccf1cc82-40c8-4c2a-bb2a-63e309548207\",\"type\":\"LinearScale\"},\"y_range\":{\"id\":\"79df104c-599c-4a64-85d7-bcd7026f932b\",\"type\":\"Range1d\"},\"y_scale\":{\"id\":\"b7520db5-c1e8-47cd-8443-cd2c628e8df2\",\"type\":\"LinearScale\"}},\"id\":\"7982d09e-3cc6-47ed-a678-473933234b9e\",\"subtype\":\"Figure\",\"type\":\"Plot\"},{\"attributes\":{\"dimension\":1,\"plot\":{\"id\":\"4da63f19-ab2a-45fb-9f0e-18ae6aef5fbd\",\"subtype\":\"Figure\",\"type\":\"Plot\"},\"ticker\":{\"id\":\"75c11586-18b1-468b-a5e1-fdab7d707f1a\",\"type\":\"LogTicker\"}},\"id\":\"38852a2f-5527-4e3f-abf1-84ce25459e75\",\"type\":\"Grid\"},{\"attributes\":{},\"id\":\"5882718f-367a-4177-a552-3ae4c11277ef\",\"type\":\"WheelZoomTool\"},{\"attributes\":{\"bottom_units\":\"screen\",\"fill_alpha\":{\"value\":0.5},\"fill_color\":{\"value\":\"lightgrey\"},\"left_units\":\"screen\",\"level\":\"overlay\",\"line_alpha\":{\"value\":1.0},\"line_color\":{\"value\":\"black\"},\"line_dash\":[4,4],\"line_width\":{\"value\":2},\"plot\":null,\"render_mode\":\"css\",\"right_units\":\"screen\",\"top_units\":\"screen\"},\"id\":\"bb132915-a266-4d53-835e-d609a6ea4104\",\"type\":\"BoxAnnotation\"},{\"attributes\":{\"num_minor_ticks\":10},\"id\":\"75c11586-18b1-468b-a5e1-fdab7d707f1a\",\"type\":\"LogTicker\"},{\"attributes\":{\"data_source\":{\"id\":\"0020420c-35eb-46a3-9761-8396a09d3039\",\"type\":\"ColumnDataSource\"},\"glyph\":{\"id\":\"78832cb6-ff14-49a9-9dba-25449d9dd457\",\"type\":\"Circle\"},\"hover_glyph\":null,\"muted_glyph\":null,\"nonselection_glyph\":{\"id\":\"e5dd6e36-2671-4d9c-b36c-96c4c93869aa\",\"type\":\"Circle\"},\"selection_glyph\":null,\"view\":{\"id\":\"94b56d83-52a6-42bd-b87e-b2b7e47096f5\",\"type\":\"CDSView\"}},\"id\":\"94d07ff5-a55e-4537-a814-d1dc2d8295aa\",\"type\":\"GlyphRenderer\"},{\"attributes\":{\"overlay\":{\"id\":\"68dbcef8-2896-4d6d-ae1f-d43ac7240503\",\"type\":\"BoxAnnotation\"}},\"id\":\"ba0a82c8-993c-4507-810c-2b51e83816d5\",\"type\":\"BoxZoomTool\"},{\"attributes\":{\"callback\":null,\"data\":{\"x\":{\"__ndarray__\":\"7s/Q+z6VBMAs0X2L+Kn1v7Z0EEO8rfC/i8v014kV6L+uwtXZWYXgv5lDem5hC9e/s2dBAffj0r+lM7AtJkPTv+P5taW9WtW/er5lD53A1b/0adAAEVPSv7BZgBNeZsi/N+/kjXz9ub9mqMl8jBKqv1qVnVrFuKO/cqV+7yMCqL9EVb3hIK6pv6aCoK5luaG/idLkbetKkL8Ali+buRuLvyDusaUvHZ6/D2r0Qb/5n7/ez+R1Zzhwvx1R0x+5hp4/pzNf+0H9pz9Q6eKB9ieiPx8nPdproZU/F2F6Gw9Xdb9/xG2kPOaUv/jP6wGf6I6/hmIL8BBGhL9M/UIseqGJv4We1Uu19Xi/Rcr1ZrxlaL/37m7fgi17vyFCTd4GIYW/wjxLVZE+kr/gd64+cZmVvyOglWb9kZa/UzL9c91Ii79FT7v0Cal/v6l3uc08DIO/PIvsxMWnjL+wBEeoSCeKv5PHN2Tg1n2/WXaPsTXycL9kkbWYsodlv3mBaiCb7X+/QzMEk9xqmb93CHqdpd2nvxURrTrWF6e/fRDNkmpenr/Kq6gGNQefv7uzFWnW4aa/VXRvi+aOpr+2sB8QQzuhvxQQPaLVeZe/f4Fu8k6TkL9yYOdqj0WMv2G4TVHitX6/UET3ELuUdb8Ny+NgYxR4v2E0zDnK23+/WkFJSDasgr8OdCluWHOBv4VChig7Cne/yKOglZuzTD8+sxOmM+WBPypfU+i/NYY/tNjb9Iu8kT85bWT2MLaTPw9WacTx4JA/S8pcZ+OLkj8494c20weIP4iBGatD6Yo/\",\"dtype\":\"float64\",\"shape\":[75]},\"y\":{\"__ndarray__\":\"GhExyth1ND/Sv8nbtpRIP2vylNV0PVE/aTum7souWD/At0SJ8fVgPw3Iuahxymc/MSNhhJWvcD/bTfBN02d3P2zb5nxnaoA/CD5h5MAGhz8NmeH1TyaQP+zrCsc9p5Y/LbKd76fGnz/bLW5ISEmmPww9YvTcQq8/JV2OstnstT8Er5Y7M8G+P0c+r3jqkcU/5h99k6ZBzj88bCIzFzjVP4enV8oyxN0//yH99nXg5D8qOpLLf0jtP5kqGJXUifQ/c9cS8kHP/D+/DpwzojQEQIEmwoanVwxA4lgXt9HgE0BSSZ2AJuIbQAMJih9jjiNA5q4l5INuK0AwTKYKRj0zQNv5fmq8/DpAaCJseHrtQkB/+zpwzoxKQM3MzMzMeFJAZmZmZmZqWEAAAAAAAFxeQM3MzMzMJmJAmpmZmZkfZUBmZmZmZhhoQDMzMzMzEWtAAAAAAAAKbkBmZmZmZoFwQM3MzMzM/XFAMzMzMzN6c0CamZmZmfZ0QAAAAAAAc3ZAZmZmZmbvd0DNzMzMzGt5QDMzMzMz6HpAmpmZmZlkfEAAAAAAAOF9QGZmZmZmXX9AZmZmZuZsgECamZmZGSuBQM3MzMxM6YFAAAAAAICngkAzMzMzs2WDQGZmZmbmI4RAmpmZmRnihEDNzMzMTKCFQAAAAACAXoZAMzMzM7Mch0BmZmZm5tqHQJqZmZkZmYhAzczMzExXiUAAAAAAgBWKQDMzMzOz04pAZmZmZuaRi0CamZmZGVCMQM3MzMxMDo1AAAAAAIDMjUAzMzMzs4qOQGZmZmbmSI9A\",\"dtype\":\"float64\",\"shape\":[75]}},\"selected\":{\"id\":\"0b9b3c8e-c80c-4ccd-8817-b134042da421\",\"type\":\"Selection\"},\"selection_policy\":{\"id\":\"d773e229-2b20-4ebb-8f02-4f5f0263c198\",\"type\":\"UnionRenderers\"}},\"id\":\"8c79a091-9a82-41f1-ac03-f352cf293669\",\"type\":\"ColumnDataSource\"},{\"attributes\":{\"callback\":null,\"end\":0.01,\"start\":1020},\"id\":\"2eb9c1dc-763c-43a0-8253-d0cf57ffc55f\",\"type\":\"Range1d\"},{\"attributes\":{},\"id\":\"a6277079-51c4-4f53-8d79-3c6119c2b5ef\",\"type\":\"WheelZoomTool\"},{\"attributes\":{\"items\":[{\"id\":\"70895c8b-840a-4e61-8e5e-9af37ebf869b\",\"type\":\"LegendItem\"}],\"label_text_font_size\":{\"value\":\"8pt\"},\"location\":\"top_center\",\"orientation\":\"horizontal\",\"plot\":{\"id\":\"352be06b-08d0-4658-b179-5e0b07d2aa31\",\"subtype\":\"Figure\",\"type\":\"Plot\"}},\"id\":\"903ee5c5-5e4d-4652-8d69-e8dc1061106c\",\"type\":\"Legend\"},{\"attributes\":{\"source\":{\"id\":\"0b413b3b-a22b-4440-8a5b-53a156464fc1\",\"type\":\"ColumnDataSource\"}},\"id\":\"46003a66-d639-48fc-bfda-85db919f82eb\",\"type\":\"CDSView\"},{\"attributes\":{\"label\":{\"value\":\"CLIRAD\"},\"renderers\":[{\"id\":\"ea4973c0-12f2-43ce-8110-128446c2261f\",\"type\":\"GlyphRenderer\"}]},\"id\":\"8cde748f-0af3-4570-bbf4-21aef1c162af\",\"type\":\"LegendItem\"},{\"attributes\":{\"callback\":null,\"data\":{\"x\":{\"__ndarray__\":\"XUK14PHpCkCGWZx/lWUJQBO5WYZcBwpAw1+c1McuCkDD5aU5GrgJQIG1K5txjghAez/7STi0BkDGeO9HRGIEQNobbYgX+wFAi9tVR8/p/z9T3K1dDDn9P+VwRwYurvs/sjIHxcGa+j/VQY3s1/H4P31VMZF0UPY/Yyxv7wKj8z+QJo2+CKvxP6Hq2DfChvA/5Eb5ioXq7z/diqj1U4XvP7mDea64KvA/T/UCTp8W7j9gCFFAp7foP/JTQKCiKOU/sjgsjnLx4j+j6/lI5ZzgP1UzL61Q5tw/71VqeIHJ2D9DbOcdB8DWP+FniMIBPNY/hhtiszxW1T+x31zJ35fTP9ogvYfLRdM/lqFTjn/K0z/kIByKHbjTP/e58w+cg9M/qptCXVfw0j/ZKH4hZUzSP6U5ukiEwdc//mdZI2KS3D85YUXc3RzgP+DOHJ71MuA/mXA2UYV23z9jxwn+TW7eP11iAlzJUdw/Sc1bBFIH3D/0LACTr1TgP2irrJsIO+M/uO4UHkIq6j/YOrLtjR7xPxOgjEzyMPQ/jM3EEM839j/pzyeVNwn3P8hqa1+MAvc/mKC1VzjV9j9lQV/pVpL2PwtoZ4KAMfY/aAjKm+qu9T/Rh9yEahP1P25fJtvXhfQ/VljBz/7n8z+2Zug2IUDzP8/3NB8HlfI/xm1E0Anz8T9OrPW8mWjxPzaaBPleAvE/l5GhO63Y8D9NoWMmWe/wP7LYTQFV+fA/HNZkZteb8D+GqMVXcFzuPzKkng9c/+k/lZgJtKvo5T/u+TK5HhLiPz9ZA21RI9s/\",\"dtype\":\"float64\",\"shape\":[75]},\"y\":{\"__ndarray__\":\"GhExyth1ND/Sv8nbtpRIP2vylNV0PVE/aTum7souWD/At0SJ8fVgPw3Iuahxymc/MSNhhJWvcD/bTfBN02d3P2zb5nxnaoA/CD5h5MAGhz8NmeH1TyaQP+zrCsc9p5Y/LbKd76fGnz/bLW5ISEmmPww9YvTcQq8/JV2OstnstT8Er5Y7M8G+P0c+r3jqkcU/5h99k6ZBzj88bCIzFzjVP4enV8oyxN0//yH99nXg5D8qOpLLf0jtP5kqGJXUifQ/c9cS8kHP/D+/DpwzojQEQIEmwoanVwxA4lgXt9HgE0BSSZ2AJuIbQAMJih9jjiNA5q4l5INuK0AwTKYKRj0zQNv5fmq8/DpAaCJseHrtQkB/+zpwzoxKQM3MzMzMeFJAZmZmZmZqWEAAAAAAAFxeQM3MzMzMJmJAmpmZmZkfZUBmZmZmZhhoQDMzMzMzEWtAAAAAAAAKbkBmZmZmZoFwQM3MzMzM/XFAMzMzMzN6c0CamZmZmfZ0QAAAAAAAc3ZAZmZmZmbvd0DNzMzMzGt5QDMzMzMz6HpAmpmZmZlkfEAAAAAAAOF9QGZmZmZmXX9AZmZmZuZsgECamZmZGSuBQM3MzMxM6YFAAAAAAICngkAzMzMzs2WDQGZmZmbmI4RAmpmZmRnihEDNzMzMTKCFQAAAAACAXoZAMzMzM7Mch0BmZmZm5tqHQJqZmZkZmYhAzczMzExXiUAAAAAAgBWKQDMzMzOz04pAZmZmZuaRi0CamZmZGVCMQM3MzMxMDo1AAAAAAIDMjUAzMzMzs4qOQGZmZmbmSI9A\",\"dtype\":\"float64\",\"shape\":[75]}},\"selected\":{\"id\":\"daa0c91c-baf8-4080-ae20-d1c05e5f73cc\",\"type\":\"Selection\"},\"selection_policy\":{\"id\":\"acd2b6b8-c430-4597-8afe-02a88d0a8208\",\"type\":\"UnionRenderers\"}},\"id\":\"fd4cf74d-856a-46d0-b115-cfa523879f6a\",\"type\":\"ColumnDataSource\"},{\"attributes\":{\"axis_label\":\"cooling rate [K/day]\",\"formatter\":{\"id\":\"86af93c3-9638-4a2a-bf1b-d70195321339\",\"type\":\"BasicTickFormatter\"},\"plot\":{\"id\":\"4da63f19-ab2a-45fb-9f0e-18ae6aef5fbd\",\"subtype\":\"Figure\",\"type\":\"Plot\"},\"ticker\":{\"id\":\"c9339107-259f-49b5-8073-c0aaace57a1f\",\"type\":\"BasicTicker\"}},\"id\":\"90327603-2398-4f8a-b93d-8b5d10f74954\",\"type\":\"LinearAxis\"},{\"attributes\":{\"callback\":null,\"end\":2.354949146557063,\"start\":0.26542727479743705},\"id\":\"592d3615-36a0-4b2a-820c-625704188f2b\",\"type\":\"Range1d\"},{\"attributes\":{\"data_source\":{\"id\":\"5474e808-dd54-449e-a358-513055a559e8\",\"type\":\"ColumnDataSource\"},\"glyph\":{\"id\":\"6cc4f7c9-2760-4073-ab3f-56c46db910cc\",\"type\":\"Line\"},\"hover_glyph\":null,\"muted_glyph\":null,\"nonselection_glyph\":{\"id\":\"3f5fd23c-afa5-4fed-a809-4ef0581a1b43\",\"type\":\"Line\"},\"selection_glyph\":null,\"view\":{\"id\":\"fb70944d-d401-4c89-bd6e-fa2d99d0b9dc\",\"type\":\"CDSView\"}},\"id\":\"ea4973c0-12f2-43ce-8110-128446c2261f\",\"type\":\"GlyphRenderer\"},{\"attributes\":{},\"id\":\"323691ed-5c34-4e47-b6d9-8271dc43fca2\",\"type\":\"LinearScale\"},{\"attributes\":{},\"id\":\"1e80fe55-e0ef-48fa-92c3-1d59796c4ea5\",\"type\":\"LinearScale\"},{\"attributes\":{\"callback\":null,\"data\":{\"x\":{\"__ndarray__\":\"JQlDbpi/F0ARoa3iSB0SQLb58FMdLxFAUslMJRUaEEBwVhuwcNkNQPb9+sjdbwtAcWwjKrcQCUA7f6UNqcoGQBbbIz1vpgRAlaWXRfusAkBo+/BO6OYAQBx8t8j5uv4/poHljZk6/D8Xj3NQbML5PypCBrw67vY/jSHrDhRj9D86EZvFeXjyP7fuTWWNFPE/vDY0c2428D81SRXcwvHvP3FLEG0to/A/oJgSSG0W7z/+0TwPGNjoP2q5QddsNOQ/eEV2bp5x4T8ferfBy/TeP+Ngi+85jNs/dD/YtN0e2T+KSC7oag7YP2LGl7pGM9c/mnbiOm341T+d976a62TUP1R37FyiqdM/KY0hB0v70z+f3JmV0yTUPwck5kakLNQ/d0+XckAU1D9WEGk1/KXTP6iTIx+kKtk/kVH5Dqls3T/Y1y7wL1zgP7+0U5Emf+A/euquv+Et4D+I/0tDiD/fP3lBk90kydw/JAsi2xpL3D+E4phFN2rgP2uA7dHjeuM/UxCtApn16j8cC54ae93xP5oIYv6w6fQ/ywEQu0ix9j+ZckJpVIX3P2YYtBKbufc/OxwRjK+J9z/sPuABMRz3P0lc8Nhnj/Y/bsKT1zfx9T+RVrKj9Uv1Pyatd72NpPQ/mk/SipP98z9/SkmaNVjzPwPEbunitPI/SQDVPGIY8j84/9FtgIvxP3ggLTRpGfE/gd0uyBbV8D/neRe/jsvwP/MxfYHpzPA/uGaRNuVU8D8chRLQvr7tP4JZe4FUeOk/Q7LOmExU5T8R2lhs/7HhPzKNqk8HTNo/\",\"dtype\":\"float64\",\"shape\":[75]},\"y\":{\"__ndarray__\":\"GhExyth1ND/Sv8nbtpRIP2vylNV0PVE/aTum7souWD/At0SJ8fVgPw3Iuahxymc/MSNhhJWvcD/bTfBN02d3P2zb5nxnaoA/CD5h5MAGhz8NmeH1TyaQP+zrCsc9p5Y/LbKd76fGnz/bLW5ISEmmPww9YvTcQq8/JV2OstnstT8Er5Y7M8G+P0c+r3jqkcU/5h99k6ZBzj88bCIzFzjVP4enV8oyxN0//yH99nXg5D8qOpLLf0jtP5kqGJXUifQ/c9cS8kHP/D+/DpwzojQEQIEmwoanVwxA4lgXt9HgE0BSSZ2AJuIbQAMJih9jjiNA5q4l5INuK0AwTKYKRj0zQNv5fmq8/DpAaCJseHrtQkB/+zpwzoxKQM3MzMzMeFJAZmZmZmZqWEAAAAAAAFxeQM3MzMzMJmJAmpmZmZkfZUBmZmZmZhhoQDMzMzMzEWtAAAAAAAAKbkBmZmZmZoFwQM3MzMzM/XFAMzMzMzN6c0CamZmZmfZ0QAAAAAAAc3ZAZmZmZmbvd0DNzMzMzGt5QDMzMzMz6HpAmpmZmZlkfEAAAAAAAOF9QGZmZmZmXX9AZmZmZuZsgECamZmZGSuBQM3MzMxM6YFAAAAAAICngkAzMzMzs2WDQGZmZmbmI4RAmpmZmRnihEDNzMzMTKCFQAAAAACAXoZAMzMzM7Mch0BmZmZm5tqHQJqZmZkZmYhAzczMzExXiUAAAAAAgBWKQDMzMzOz04pAZmZmZuaRi0CamZmZGVCMQM3MzMxMDo1AAAAAAIDMjUAzMzMzs4qOQGZmZmbmSI9A\",\"dtype\":\"float64\",\"shape\":[75]}},\"selected\":{\"id\":\"8d4e3463-a18f-4642-bba1-dab9cbe6f87d\",\"type\":\"Selection\"},\"selection_policy\":{\"id\":\"02e12e9e-bdcf-4e1b-abf0-49af20d7c5a7\",\"type\":\"UnionRenderers\"}},\"id\":\"0020420c-35eb-46a3-9761-8396a09d3039\",\"type\":\"ColumnDataSource\"},{\"attributes\":{},\"id\":\"233961c8-3472-4276-ab80-4cd104ab0d39\",\"type\":\"SaveTool\"},{\"attributes\":{\"callback\":null,\"data\":{\"x\":{\"__ndarray__\":\"JQlDbpi/F0ARoa3iSB0SQLb58FMdLxFAUslMJRUaEEBwVhuwcNkNQPb9+sjdbwtAcWwjKrcQCUA7f6UNqcoGQBbbIz1vpgRAlaWXRfusAkBo+/BO6OYAQBx8t8j5uv4/poHljZk6/D8Xj3NQbML5PypCBrw67vY/jSHrDhRj9D86EZvFeXjyP7fuTWWNFPE/vDY0c2428D81SRXcwvHvP3FLEG0to/A/oJgSSG0W7z/+0TwPGNjoP2q5QddsNOQ/eEV2bp5x4T8ferfBy/TeP+Ngi+85jNs/dD/YtN0e2T+KSC7oag7YP2LGl7pGM9c/mnbiOm341T+d976a62TUP1R37FyiqdM/KY0hB0v70z+f3JmV0yTUPwck5kakLNQ/d0+XckAU1D9WEGk1/KXTP6iTIx+kKtk/kVH5Dqls3T/Y1y7wL1zgP7+0U5Emf+A/euquv+Et4D+I/0tDiD/fP3lBk90kydw/JAsi2xpL3D+E4phFN2rgP2uA7dHjeuM/UxCtApn16j8cC54ae93xP5oIYv6w6fQ/ywEQu0ix9j+ZckJpVIX3P2YYtBKbufc/OxwRjK+J9z/sPuABMRz3P0lc8Nhnj/Y/bsKT1zfx9T+RVrKj9Uv1Pyatd72NpPQ/mk/SipP98z9/SkmaNVjzPwPEbunitPI/SQDVPGIY8j84/9FtgIvxP3ggLTRpGfE/gd0uyBbV8D/neRe/jsvwP/MxfYHpzPA/uGaRNuVU8D8chRLQvr7tP4JZe4FUeOk/Q7LOmExU5T8R2lhs/7HhPzKNqk8HTNo/\",\"dtype\":\"float64\",\"shape\":[75]},\"y\":{\"__ndarray__\":\"GhExyth1ND/Sv8nbtpRIP2vylNV0PVE/aTum7souWD/At0SJ8fVgPw3Iuahxymc/MSNhhJWvcD/bTfBN02d3P2zb5nxnaoA/CD5h5MAGhz8NmeH1TyaQP+zrCsc9p5Y/LbKd76fGnz/bLW5ISEmmPww9YvTcQq8/JV2OstnstT8Er5Y7M8G+P0c+r3jqkcU/5h99k6ZBzj88bCIzFzjVP4enV8oyxN0//yH99nXg5D8qOpLLf0jtP5kqGJXUifQ/c9cS8kHP/D+/DpwzojQEQIEmwoanVwxA4lgXt9HgE0BSSZ2AJuIbQAMJih9jjiNA5q4l5INuK0AwTKYKRj0zQNv5fmq8/DpAaCJseHrtQkB/+zpwzoxKQM3MzMzMeFJAZmZmZmZqWEAAAAAAAFxeQM3MzMzMJmJAmpmZmZkfZUBmZmZmZhhoQDMzMzMzEWtAAAAAAAAKbkBmZmZmZoFwQM3MzMzM/XFAMzMzMzN6c0CamZmZmfZ0QAAAAAAAc3ZAZmZmZmbvd0DNzMzMzGt5QDMzMzMz6HpAmpmZmZlkfEAAAAAAAOF9QGZmZmZmXX9AZmZmZuZsgECamZmZGSuBQM3MzMxM6YFAAAAAAICngkAzMzMzs2WDQGZmZmbmI4RAmpmZmRnihEDNzMzMTKCFQAAAAACAXoZAMzMzM7Mch0BmZmZm5tqHQJqZmZkZmYhAzczMzExXiUAAAAAAgBWKQDMzMzOz04pAZmZmZuaRi0CamZmZGVCMQM3MzMxMDo1AAAAAAIDMjUAzMzMzs4qOQGZmZmbmSI9A\",\"dtype\":\"float64\",\"shape\":[75]}},\"selected\":{\"id\":\"3d9f4cff-1574-4b61-b70a-0b10e4972534\",\"type\":\"Selection\"},\"selection_policy\":{\"id\":\"bc768985-e550-4255-882c-f5f97f5a6e3a\",\"type\":\"UnionRenderers\"}},\"id\":\"ddf4db67-ae0c-439a-9623-23df39fa3d7c\",\"type\":\"ColumnDataSource\"}],\"root_ids\":[\"3a6b5b94-a20e-4079-b187-30aac1716426\"]},\"title\":\"Bokeh Application\",\"version\":\"0.12.16\"}};\n",
       "  var render_items = [{\"docid\":\"623a036d-c348-4a4b-adfb-5a8e925f5702\",\"elementid\":\"661b5703-3284-467c-8e3f-71e936da5fe4\",\"modelid\":\"3a6b5b94-a20e-4079-b187-30aac1716426\"}];\n",
       "  root.Bokeh.embed.embed_items_notebook(docs_json, render_items);\n",
       "\n",
       "  }\n",
       "  if (root.Bokeh !== undefined) {\n",
       "    embed_document(root);\n",
       "  } else {\n",
       "    var attempts = 0;\n",
       "    var timer = setInterval(function(root) {\n",
       "      if (root.Bokeh !== undefined) {\n",
       "        embed_document(root);\n",
       "        clearInterval(timer);\n",
       "      }\n",
       "      attempts++;\n",
       "      if (attempts > 100) {\n",
       "        console.log(\"Bokeh: ERROR: Unable to run BokehJS code because BokehJS library is missing\")\n",
       "        clearInterval(timer);\n",
       "      }\n",
       "    }, 10, root)\n",
       "  }\n",
       "})(window);"
      ],
      "application/vnd.bokehjs_exec.v0+json": ""
     },
     "metadata": {
      "application/vnd.bokehjs_exec.v0+json": {
       "id": "3a6b5b94-a20e-4079-b187-30aac1716426"
      }
     },
     "output_type": "display_data"
    },
    {
     "data": {
      "text/markdown": [
       "*FIGURE.* Cooling rates & difference."
      ],
      "text/plain": [
       "<IPython.core.display.Markdown object>"
      ]
     },
     "metadata": {},
     "output_type": "display_data"
    },
    {
     "data": {
      "text/html": [
       "<a id=\"Fluxes._saw.\"></a>"
      ],
      "text/plain": [
       "<IPython.core.display.HTML object>"
      ]
     },
     "metadata": {},
     "output_type": "display_data"
    },
    {
     "data": {
      "text/markdown": [
       "# Fluxes. saw."
      ],
      "text/plain": [
       "<IPython.core.display.Markdown object>"
      ]
     },
     "metadata": {},
     "output_type": "display_data"
    },
    {
     "data": {
      "text/html": [
       "\n",
       "<div class=\"bk-root\">\n",
       "    <div class=\"bk-plotdiv\" id=\"7a82d26d-dbd3-40ef-88ca-777dc521ccad\"></div>\n",
       "</div>"
      ]
     },
     "metadata": {},
     "output_type": "display_data"
    },
    {
     "data": {
      "application/javascript": [
       "(function(root) {\n",
       "  function embed_document(root) {\n",
       "    \n",
       "  var docs_json = {\"970b5f67-6756-495e-b935-679f3abb6daa\":{\"roots\":{\"references\":[{\"attributes\":{},\"id\":\"2c042378-3a78-420b-a9cd-eb8a23c86b10\",\"type\":\"HelpTool\"},{\"attributes\":{\"source\":{\"id\":\"333ca020-c97a-44f6-a05e-2a915216a26f\",\"type\":\"ColumnDataSource\"}},\"id\":\"0c8a8bc9-43bd-48c3-8dd4-243f1ae61bef\",\"type\":\"CDSView\"},{\"attributes\":{\"callback\":null,\"data\":{\"band\":[\"1\",\"2\",\"3\",\"4\",\"5\",\"6\",\"7\",\"8\",\"9\",\"10\",\"11\"],\"flux\":{\"__ndarray__\":\"AMCVXpuNZb8AVvMcke/Av2Ac6ndha9a/cEnsfyX81r+Ai6NyE7W4v4gGUvc787W/SMlBItANm7/IHC8wbTC0v0BV203wTbu/AILMzqJ3oj9gINefJxKCPw==\",\"dtype\":\"float64\",\"shape\":[11]}},\"selected\":{\"id\":\"2f635d12-c13d-478d-bc5b-f6db0d8017ba\",\"type\":\"Selection\"},\"selection_policy\":{\"id\":\"00b58552-caf0-44b6-ac23-68b6ba2abcda\",\"type\":\"UnionRenderers\"}},\"id\":\"333ca020-c97a-44f6-a05e-2a915216a26f\",\"type\":\"ColumnDataSource\"},{\"attributes\":{\"fill_alpha\":{\"value\":0.1},\"fill_color\":{\"value\":\"#1f77b4\"},\"line_alpha\":{\"value\":0.1},\"line_color\":{\"value\":\"#1f77b4\"},\"top\":{\"field\":\"flux\"},\"width\":{\"value\":0.9},\"x\":{\"field\":\"band\"}},\"id\":\"8d70443b-91d8-47b4-979a-29409b2eb77c\",\"type\":\"VBar\"},{\"attributes\":{\"plot\":{\"id\":\"42e65a9e-3b98-4fef-8fdf-6fc5f4af4d4a\",\"subtype\":\"Figure\",\"type\":\"Plot\"},\"ticker\":{\"id\":\"d09d4e35-a4c1-4bfb-b06c-2d371eb865e7\",\"type\":\"CategoricalTicker\"}},\"id\":\"3086fb72-dd25-4f2a-8568-285be3185c73\",\"type\":\"Grid\"},{\"attributes\":{},\"id\":\"8930860c-f4bc-4d49-8c3b-eeed698dd06c\",\"type\":\"Selection\"},{\"attributes\":{\"callback\":null,\"factors\":[\"1\",\"2\",\"3\",\"4\",\"5\",\"6\",\"7\",\"8\",\"9\",\"10\",\"11\"]},\"id\":\"73963d0c-412d-47af-8abf-02e13075fddb\",\"type\":\"FactorRange\"},{\"attributes\":{\"active_drag\":\"auto\",\"active_inspect\":\"auto\",\"active_scroll\":\"auto\",\"active_tap\":\"auto\",\"tools\":[{\"id\":\"8d408ff3-5d39-4da8-b01e-b50549e70d03\",\"type\":\"PanTool\"},{\"id\":\"9655d799-772f-48ed-8883-bc77d153038b\",\"type\":\"WheelZoomTool\"},{\"id\":\"c573fbd6-57f8-4040-a840-61486c197811\",\"type\":\"BoxZoomTool\"},{\"id\":\"34cb78b0-6fe0-4082-b6cd-0aa41fffa11d\",\"type\":\"SaveTool\"},{\"id\":\"59a3231e-65f6-488f-99ec-9257933f6044\",\"type\":\"ResetTool\"},{\"id\":\"4f90f210-c928-47ce-b760-5838e6d04d29\",\"type\":\"HelpTool\"}]},\"id\":\"d11d3f53-f56e-4c4c-9ed5-35e32bb7187e\",\"type\":\"Toolbar\"},{\"attributes\":{\"axis_label\":\"spectral band\",\"formatter\":{\"id\":\"78086a16-308e-4b13-951b-4b2ff19393a5\",\"type\":\"CategoricalTickFormatter\"},\"plot\":{\"id\":\"04ba655e-d0b0-43a6-9d0f-9672f17ab9b4\",\"subtype\":\"Figure\",\"type\":\"Plot\"},\"ticker\":{\"id\":\"94b18864-cc65-4481-b1e0-2b6c353c3f8b\",\"type\":\"CategoricalTicker\"}},\"id\":\"34b16500-e50a-4fb3-ba67-84c1dcd139ea\",\"type\":\"CategoricalAxis\"},{\"attributes\":{\"bottom_units\":\"screen\",\"fill_alpha\":{\"value\":0.5},\"fill_color\":{\"value\":\"lightgrey\"},\"left_units\":\"screen\",\"level\":\"overlay\",\"line_alpha\":{\"value\":1.0},\"line_color\":{\"value\":\"black\"},\"line_dash\":[4,4],\"line_width\":{\"value\":2},\"plot\":null,\"render_mode\":\"css\",\"right_units\":\"screen\",\"top_units\":\"screen\"},\"id\":\"c5b2e9f6-a97f-4fa8-891f-805f0d70c0ce\",\"type\":\"BoxAnnotation\"},{\"attributes\":{\"callback\":null},\"id\":\"d441cfa0-5b0f-45ce-b916-3c2b4dd62f77\",\"type\":\"DataRange1d\"},{\"attributes\":{},\"id\":\"806c4ee2-5ef3-40a5-bf1f-1be17ea08414\",\"type\":\"LinearScale\"},{\"attributes\":{},\"id\":\"6270c608-c658-455d-9d3d-08cda53dd85b\",\"type\":\"BasicTickFormatter\"},{\"attributes\":{},\"id\":\"9655d799-772f-48ed-8883-bc77d153038b\",\"type\":\"WheelZoomTool\"},{\"attributes\":{\"dimension\":1,\"plot\":{\"id\":\"42e65a9e-3b98-4fef-8fdf-6fc5f4af4d4a\",\"subtype\":\"Figure\",\"type\":\"Plot\"},\"ticker\":{\"id\":\"60960230-2e23-4552-9bb5-436cf2bac2db\",\"type\":\"BasicTicker\"}},\"id\":\"531d6546-ac27-4f18-9db3-85eb3f6854ee\",\"type\":\"Grid\"},{\"attributes\":{\"dimension\":1,\"plot\":{\"id\":\"3c020211-0962-45f6-807a-467052dd691f\",\"subtype\":\"Figure\",\"type\":\"Plot\"},\"ticker\":{\"id\":\"0dd94aa3-361a-4e2a-8d16-2746527bbad5\",\"type\":\"BasicTicker\"}},\"id\":\"63f7d15e-951e-45f9-bd33-f74f8fddef1c\",\"type\":\"Grid\"},{\"attributes\":{},\"id\":\"34cb78b0-6fe0-4082-b6cd-0aa41fffa11d\",\"type\":\"SaveTool\"},{\"attributes\":{},\"id\":\"8d408ff3-5d39-4da8-b01e-b50549e70d03\",\"type\":\"PanTool\"},{\"attributes\":{},\"id\":\"f1bbc5cf-21e7-4011-b664-b21f67bfae78\",\"type\":\"SaveTool\"},{\"attributes\":{\"plot\":{\"id\":\"3c020211-0962-45f6-807a-467052dd691f\",\"subtype\":\"Figure\",\"type\":\"Plot\"},\"ticker\":{\"id\":\"ea0fe05c-e5cf-4849-8d2c-9ddb8a947e36\",\"type\":\"CategoricalTicker\"}},\"id\":\"f9b8fce3-fc93-429e-9313-d4cfe01fc4b6\",\"type\":\"Grid\"},{\"attributes\":{\"active_drag\":\"auto\",\"active_inspect\":\"auto\",\"active_scroll\":\"auto\",\"active_tap\":\"auto\",\"tools\":[{\"id\":\"9bab4090-2152-4940-9025-538c12fb116e\",\"type\":\"PanTool\"},{\"id\":\"192e26c0-94ed-4565-a366-9cadb221d314\",\"type\":\"WheelZoomTool\"},{\"id\":\"f219f870-c006-4d40-acff-9ed1dd221917\",\"type\":\"BoxZoomTool\"},{\"id\":\"f0f9e737-9d65-4f03-8a35-08f39aa8ee01\",\"type\":\"SaveTool\"},{\"id\":\"ddc8fd56-01b0-4b5d-8308-e3eb35511564\",\"type\":\"ResetTool\"},{\"id\":\"2c042378-3a78-420b-a9cd-eb8a23c86b10\",\"type\":\"HelpTool\"}]},\"id\":\"89f47e22-3ac6-41c8-94d5-f0f6ccf5c379\",\"type\":\"Toolbar\"},{\"attributes\":{\"below\":[{\"id\":\"34b16500-e50a-4fb3-ba67-84c1dcd139ea\",\"type\":\"CategoricalAxis\"}],\"left\":[{\"id\":\"38c732dc-0447-4b24-9895-9d7e9b7e2036\",\"type\":\"LinearAxis\"}],\"plot_height\":300,\"plot_width\":300,\"renderers\":[{\"id\":\"34b16500-e50a-4fb3-ba67-84c1dcd139ea\",\"type\":\"CategoricalAxis\"},{\"id\":\"5bdabe58-16b7-44ff-a06c-5f16f47ed0f0\",\"type\":\"Grid\"},{\"id\":\"38c732dc-0447-4b24-9895-9d7e9b7e2036\",\"type\":\"LinearAxis\"},{\"id\":\"af6e4c3b-cd5f-40e8-9585-44b8c43dbea7\",\"type\":\"Grid\"},{\"id\":\"173fd6be-a570-41c1-bf62-24155490c4ce\",\"type\":\"BoxAnnotation\"},{\"id\":\"74b5a37a-c8c1-43d1-9616-6b08c00154c6\",\"type\":\"GlyphRenderer\"}],\"title\":{\"id\":\"b2886ca2-2f19-40e1-a0b9-442a8c0701d8\",\"type\":\"Title\"},\"toolbar\":{\"id\":\"d11d3f53-f56e-4c4c-9ed5-35e32bb7187e\",\"type\":\"Toolbar\"},\"toolbar_location\":null,\"x_range\":{\"id\":\"f5c2fb64-f399-470a-be6f-905c7adf5349\",\"type\":\"FactorRange\"},\"x_scale\":{\"id\":\"bd97b5f7-f0ee-4ddd-bc2e-fedcbf2d8a6a\",\"type\":\"CategoricalScale\"},\"y_range\":{\"id\":\"d441cfa0-5b0f-45ce-b916-3c2b4dd62f77\",\"type\":\"DataRange1d\"},\"y_scale\":{\"id\":\"806c4ee2-5ef3-40a5-bf1f-1be17ea08414\",\"type\":\"LinearScale\"}},\"id\":\"04ba655e-d0b0-43a6-9d0f-9672f17ab9b4\",\"subtype\":\"Figure\",\"type\":\"Plot\"},{\"attributes\":{},\"id\":\"59a3231e-65f6-488f-99ec-9257933f6044\",\"type\":\"ResetTool\"},{\"attributes\":{\"source\":{\"id\":\"550d6b70-96b8-4e27-822d-2aea0de019b0\",\"type\":\"ColumnDataSource\"}},\"id\":\"5aaf2afe-f806-4379-88a6-1c3a239023fa\",\"type\":\"CDSView\"},{\"attributes\":{},\"id\":\"ea0fe05c-e5cf-4849-8d2c-9ddb8a947e36\",\"type\":\"CategoricalTicker\"},{\"attributes\":{},\"id\":\"1730a5a9-29ad-4aa7-b35a-1b49f8193e29\",\"type\":\"BasicTicker\"},{\"attributes\":{\"fill_color\":{\"value\":\"#1f77b4\"},\"line_color\":{\"value\":\"#1f77b4\"},\"top\":{\"field\":\"flux\"},\"width\":{\"value\":0.9},\"x\":{\"field\":\"band\"}},\"id\":\"8be1c1c1-75b7-4c42-be01-5da8c431e999\",\"type\":\"VBar\"},{\"attributes\":{},\"id\":\"3b1088c0-3520-49d4-aff1-7fcc84cdd66c\",\"type\":\"LinearScale\"},{\"attributes\":{\"dimension\":1,\"plot\":{\"id\":\"04ba655e-d0b0-43a6-9d0f-9672f17ab9b4\",\"subtype\":\"Figure\",\"type\":\"Plot\"},\"ticker\":{\"id\":\"1730a5a9-29ad-4aa7-b35a-1b49f8193e29\",\"type\":\"BasicTicker\"}},\"id\":\"af6e4c3b-cd5f-40e8-9585-44b8c43dbea7\",\"type\":\"Grid\"},{\"attributes\":{\"axis_label\":\"spectral band\",\"formatter\":{\"id\":\"d6eaa530-509e-4d45-8593-3b6177cef1a0\",\"type\":\"CategoricalTickFormatter\"},\"plot\":{\"id\":\"3c020211-0962-45f6-807a-467052dd691f\",\"subtype\":\"Figure\",\"type\":\"Plot\"},\"ticker\":{\"id\":\"ea0fe05c-e5cf-4849-8d2c-9ddb8a947e36\",\"type\":\"CategoricalTicker\"}},\"id\":\"2fb96095-ccdd-42bd-b344-70195db301ef\",\"type\":\"CategoricalAxis\"},{\"attributes\":{\"fill_alpha\":{\"value\":0.1},\"fill_color\":{\"value\":\"#1f77b4\"},\"line_alpha\":{\"value\":0.1},\"line_color\":{\"value\":\"#1f77b4\"},\"top\":{\"field\":\"flux\"},\"width\":{\"value\":0.9},\"x\":{\"field\":\"band\"}},\"id\":\"717befbc-dc48-4c03-a4d1-70b17a9d4360\",\"type\":\"VBar\"},{\"attributes\":{\"toolbar\":{\"id\":\"fcaf087d-5f0c-42c8-8d9a-2b822aa033f9\",\"type\":\"ProxyToolbar\"},\"toolbar_location\":\"above\"},\"id\":\"5fe957aa-572c-4332-8d8a-3f205e8aefdb\",\"type\":\"ToolbarBox\"},{\"attributes\":{\"plot\":{\"id\":\"04ba655e-d0b0-43a6-9d0f-9672f17ab9b4\",\"subtype\":\"Figure\",\"type\":\"Plot\"},\"ticker\":{\"id\":\"94b18864-cc65-4481-b1e0-2b6c353c3f8b\",\"type\":\"CategoricalTicker\"}},\"id\":\"5bdabe58-16b7-44ff-a06c-5f16f47ed0f0\",\"type\":\"Grid\"},{\"attributes\":{\"overlay\":{\"id\":\"68f304d7-b8c5-408d-8a4a-08cf74308fa6\",\"type\":\"BoxAnnotation\"}},\"id\":\"f219f870-c006-4d40-acff-9ed1dd221917\",\"type\":\"BoxZoomTool\"},{\"attributes\":{\"children\":[{\"id\":\"5fe957aa-572c-4332-8d8a-3f205e8aefdb\",\"type\":\"ToolbarBox\"},{\"id\":\"7c278af2-1fed-434a-a837-c4e6ffdeb178\",\"type\":\"Column\"}]},\"id\":\"a1f2faa9-143c-4069-8485-f473088324ad\",\"type\":\"Column\"},{\"attributes\":{},\"id\":\"ed7a2f05-8e47-45cc-b987-fb00ad6fbcbf\",\"type\":\"CategoricalTickFormatter\"},{\"attributes\":{\"callback\":null,\"factors\":[\"1\",\"2\",\"3\",\"4\",\"5\",\"6\",\"7\",\"8\",\"9\",\"10\",\"11\"]},\"id\":\"f5c2fb64-f399-470a-be6f-905c7adf5349\",\"type\":\"FactorRange\"},{\"attributes\":{},\"id\":\"bd97b5f7-f0ee-4ddd-bc2e-fedcbf2d8a6a\",\"type\":\"CategoricalScale\"},{\"attributes\":{},\"id\":\"a6db1242-daff-4dd3-bed4-7c7c65285184\",\"type\":\"CategoricalScale\"},{\"attributes\":{\"below\":[{\"id\":\"03276a50-1ce9-40e5-b4f6-4f9e8f7522c6\",\"type\":\"CategoricalAxis\"}],\"left\":[{\"id\":\"b4d7718e-bced-4883-b903-1f243c2fbe33\",\"type\":\"LinearAxis\"}],\"plot_height\":300,\"plot_width\":300,\"renderers\":[{\"id\":\"03276a50-1ce9-40e5-b4f6-4f9e8f7522c6\",\"type\":\"CategoricalAxis\"},{\"id\":\"3086fb72-dd25-4f2a-8568-285be3185c73\",\"type\":\"Grid\"},{\"id\":\"b4d7718e-bced-4883-b903-1f243c2fbe33\",\"type\":\"LinearAxis\"},{\"id\":\"531d6546-ac27-4f18-9db3-85eb3f6854ee\",\"type\":\"Grid\"},{\"id\":\"68f304d7-b8c5-408d-8a4a-08cf74308fa6\",\"type\":\"BoxAnnotation\"},{\"id\":\"0b5ac6f3-836e-489f-8be4-d4ffcd60eca7\",\"type\":\"GlyphRenderer\"}],\"title\":{\"id\":\"827ef8d2-ce58-4d59-96db-078ab44fe93e\",\"type\":\"Title\"},\"toolbar\":{\"id\":\"89f47e22-3ac6-41c8-94d5-f0f6ccf5c379\",\"type\":\"Toolbar\"},\"toolbar_location\":null,\"x_range\":{\"id\":\"027e460d-4473-49e7-aafe-f3c010b7fa78\",\"type\":\"FactorRange\"},\"x_scale\":{\"id\":\"a6db1242-daff-4dd3-bed4-7c7c65285184\",\"type\":\"CategoricalScale\"},\"y_range\":{\"id\":\"e419a535-e0a1-452d-9bdc-612987a7d146\",\"type\":\"DataRange1d\"},\"y_scale\":{\"id\":\"3b1088c0-3520-49d4-aff1-7fcc84cdd66c\",\"type\":\"LinearScale\"}},\"id\":\"42e65a9e-3b98-4fef-8fdf-6fc5f4af4d4a\",\"subtype\":\"Figure\",\"type\":\"Plot\"},{\"attributes\":{\"source\":{\"id\":\"e54eb4cb-ba9e-421e-9cc9-f0a479f41a24\",\"type\":\"ColumnDataSource\"}},\"id\":\"8c8929eb-377f-4a20-91c2-dd6b53a445c9\",\"type\":\"CDSView\"},{\"attributes\":{\"children\":[{\"id\":\"bbc63448-2a07-4691-b8dc-2d664e24329b\",\"type\":\"Row\"}]},\"id\":\"7c278af2-1fed-434a-a837-c4e6ffdeb178\",\"type\":\"Column\"},{\"attributes\":{},\"id\":\"0dd94aa3-361a-4e2a-8d16-2746527bbad5\",\"type\":\"BasicTicker\"},{\"attributes\":{},\"id\":\"4f90f210-c928-47ce-b760-5838e6d04d29\",\"type\":\"HelpTool\"},{\"attributes\":{},\"id\":\"ddc8fd56-01b0-4b5d-8308-e3eb35511564\",\"type\":\"ResetTool\"},{\"attributes\":{\"children\":[{\"id\":\"42e65a9e-3b98-4fef-8fdf-6fc5f4af4d4a\",\"subtype\":\"Figure\",\"type\":\"Plot\"},{\"id\":\"3c020211-0962-45f6-807a-467052dd691f\",\"subtype\":\"Figure\",\"type\":\"Plot\"},{\"id\":\"04ba655e-d0b0-43a6-9d0f-9672f17ab9b4\",\"subtype\":\"Figure\",\"type\":\"Plot\"}]},\"id\":\"bbc63448-2a07-4691-b8dc-2d664e24329b\",\"type\":\"Row\"},{\"attributes\":{\"callback\":null,\"data\":{\"band\":[\"1\",\"2\",\"3\",\"4\",\"5\",\"6\",\"7\",\"8\",\"9\",\"10\",\"11\"],\"flux\":{\"__ndarray__\":\"gEyKZtCWxz8Aq5Dyk2rKP0B7Ss6JPdE/gPmE7LyN1j8APdLgtra0PwDak8DmHLQ/AJr+7EeKmD8AxjjazHywPwAjWXZ3U6g/gJjl8uzgpL8A36+47px8vw==\",\"dtype\":\"float64\",\"shape\":[11]}},\"selected\":{\"id\":\"a4f37bb1-97f8-46ee-a4a4-60c51fef30a5\",\"type\":\"Selection\"},\"selection_policy\":{\"id\":\"f9cff602-f027-4b21-b6a5-208592f71a66\",\"type\":\"UnionRenderers\"}},\"id\":\"e54eb4cb-ba9e-421e-9cc9-f0a479f41a24\",\"type\":\"ColumnDataSource\"},{\"attributes\":{\"tools\":[{\"id\":\"9bab4090-2152-4940-9025-538c12fb116e\",\"type\":\"PanTool\"},{\"id\":\"192e26c0-94ed-4565-a366-9cadb221d314\",\"type\":\"WheelZoomTool\"},{\"id\":\"f219f870-c006-4d40-acff-9ed1dd221917\",\"type\":\"BoxZoomTool\"},{\"id\":\"f0f9e737-9d65-4f03-8a35-08f39aa8ee01\",\"type\":\"SaveTool\"},{\"id\":\"ddc8fd56-01b0-4b5d-8308-e3eb35511564\",\"type\":\"ResetTool\"},{\"id\":\"2c042378-3a78-420b-a9cd-eb8a23c86b10\",\"type\":\"HelpTool\"},{\"id\":\"509a9109-eabb-4be6-8b43-15138d82ce7a\",\"type\":\"PanTool\"},{\"id\":\"ed61371f-1eff-4167-9bfe-d1714ed89981\",\"type\":\"WheelZoomTool\"},{\"id\":\"6e6b2e23-a0a8-431d-95f0-1076cf5b3eae\",\"type\":\"BoxZoomTool\"},{\"id\":\"f1bbc5cf-21e7-4011-b664-b21f67bfae78\",\"type\":\"SaveTool\"},{\"id\":\"18640f5e-6f68-4c88-abc1-631418ef1aa8\",\"type\":\"ResetTool\"},{\"id\":\"d397f2bf-5381-4400-8f4f-2e580e3b4083\",\"type\":\"HelpTool\"},{\"id\":\"8d408ff3-5d39-4da8-b01e-b50549e70d03\",\"type\":\"PanTool\"},{\"id\":\"9655d799-772f-48ed-8883-bc77d153038b\",\"type\":\"WheelZoomTool\"},{\"id\":\"c573fbd6-57f8-4040-a840-61486c197811\",\"type\":\"BoxZoomTool\"},{\"id\":\"34cb78b0-6fe0-4082-b6cd-0aa41fffa11d\",\"type\":\"SaveTool\"},{\"id\":\"59a3231e-65f6-488f-99ec-9257933f6044\",\"type\":\"ResetTool\"},{\"id\":\"4f90f210-c928-47ce-b760-5838e6d04d29\",\"type\":\"HelpTool\"}]},\"id\":\"fcaf087d-5f0c-42c8-8d9a-2b822aa033f9\",\"type\":\"ProxyToolbar\"},{\"attributes\":{},\"id\":\"d397f2bf-5381-4400-8f4f-2e580e3b4083\",\"type\":\"HelpTool\"},{\"attributes\":{\"bottom_units\":\"screen\",\"fill_alpha\":{\"value\":0.5},\"fill_color\":{\"value\":\"lightgrey\"},\"left_units\":\"screen\",\"level\":\"overlay\",\"line_alpha\":{\"value\":1.0},\"line_color\":{\"value\":\"black\"},\"line_dash\":[4,4],\"line_width\":{\"value\":2},\"plot\":null,\"render_mode\":\"css\",\"right_units\":\"screen\",\"top_units\":\"screen\"},\"id\":\"68f304d7-b8c5-408d-8a4a-08cf74308fa6\",\"type\":\"BoxAnnotation\"},{\"attributes\":{\"axis_label\":\"flux (W m-2)\",\"formatter\":{\"id\":\"6270c608-c658-455d-9d3d-08cda53dd85b\",\"type\":\"BasicTickFormatter\"},\"plot\":{\"id\":\"3c020211-0962-45f6-807a-467052dd691f\",\"subtype\":\"Figure\",\"type\":\"Plot\"},\"ticker\":{\"id\":\"0dd94aa3-361a-4e2a-8d16-2746527bbad5\",\"type\":\"BasicTicker\"}},\"id\":\"0137a02a-4e7a-49cd-adf1-78432b49488b\",\"type\":\"LinearAxis\"},{\"attributes\":{\"axis_label\":\"flux (W m-2)\",\"formatter\":{\"id\":\"d4fbaeea-35f1-46d2-bff7-aa4f01f03db9\",\"type\":\"BasicTickFormatter\"},\"plot\":{\"id\":\"04ba655e-d0b0-43a6-9d0f-9672f17ab9b4\",\"subtype\":\"Figure\",\"type\":\"Plot\"},\"ticker\":{\"id\":\"1730a5a9-29ad-4aa7-b35a-1b49f8193e29\",\"type\":\"BasicTicker\"}},\"id\":\"38c732dc-0447-4b24-9895-9d7e9b7e2036\",\"type\":\"LinearAxis\"},{\"attributes\":{\"axis_label\":\"flux (W m-2)\",\"formatter\":{\"id\":\"9beab92f-8840-4432-bd2d-ce3bd1b581f9\",\"type\":\"BasicTickFormatter\"},\"plot\":{\"id\":\"42e65a9e-3b98-4fef-8fdf-6fc5f4af4d4a\",\"subtype\":\"Figure\",\"type\":\"Plot\"},\"ticker\":{\"id\":\"60960230-2e23-4552-9bb5-436cf2bac2db\",\"type\":\"BasicTicker\"}},\"id\":\"b4d7718e-bced-4883-b903-1f243c2fbe33\",\"type\":\"LinearAxis\"},{\"attributes\":{\"fill_color\":{\"value\":\"#1f77b4\"},\"line_color\":{\"value\":\"#1f77b4\"},\"top\":{\"field\":\"flux\"},\"width\":{\"value\":0.9},\"x\":{\"field\":\"band\"}},\"id\":\"80003a0a-2860-4136-9477-234f8969bd17\",\"type\":\"VBar\"},{\"attributes\":{},\"id\":\"6308ddfa-f0dd-4c75-9d5d-c7fb4bce7963\",\"type\":\"CategoricalScale\"},{\"attributes\":{},\"id\":\"d09d4e35-a4c1-4bfb-b06c-2d371eb865e7\",\"type\":\"CategoricalTicker\"},{\"attributes\":{\"data_source\":{\"id\":\"550d6b70-96b8-4e27-822d-2aea0de019b0\",\"type\":\"ColumnDataSource\"},\"glyph\":{\"id\":\"ed84e332-e2b6-45f6-b477-e0e55cb08d11\",\"type\":\"VBar\"},\"hover_glyph\":null,\"muted_glyph\":null,\"nonselection_glyph\":{\"id\":\"8d70443b-91d8-47b4-979a-29409b2eb77c\",\"type\":\"VBar\"},\"selection_glyph\":null,\"view\":{\"id\":\"5aaf2afe-f806-4379-88a6-1c3a239023fa\",\"type\":\"CDSView\"}},\"id\":\"0b5ac6f3-836e-489f-8be4-d4ffcd60eca7\",\"type\":\"GlyphRenderer\"},{\"attributes\":{\"fill_alpha\":{\"value\":0.1},\"fill_color\":{\"value\":\"#1f77b4\"},\"line_alpha\":{\"value\":0.1},\"line_color\":{\"value\":\"#1f77b4\"},\"top\":{\"field\":\"flux\"},\"width\":{\"value\":0.9},\"x\":{\"field\":\"band\"}},\"id\":\"5c6a8811-042b-4557-b958-efa7a3ed3466\",\"type\":\"VBar\"},{\"attributes\":{},\"id\":\"00b58552-caf0-44b6-ac23-68b6ba2abcda\",\"type\":\"UnionRenderers\"},{\"attributes\":{},\"id\":\"94b18864-cc65-4481-b1e0-2b6c353c3f8b\",\"type\":\"CategoricalTicker\"},{\"attributes\":{\"bottom_units\":\"screen\",\"fill_alpha\":{\"value\":0.5},\"fill_color\":{\"value\":\"lightgrey\"},\"left_units\":\"screen\",\"level\":\"overlay\",\"line_alpha\":{\"value\":1.0},\"line_color\":{\"value\":\"black\"},\"line_dash\":[4,4],\"line_width\":{\"value\":2},\"plot\":null,\"render_mode\":\"css\",\"right_units\":\"screen\",\"top_units\":\"screen\"},\"id\":\"173fd6be-a570-41c1-bf62-24155490c4ce\",\"type\":\"BoxAnnotation\"},{\"attributes\":{\"overlay\":{\"id\":\"173fd6be-a570-41c1-bf62-24155490c4ce\",\"type\":\"BoxAnnotation\"}},\"id\":\"c573fbd6-57f8-4040-a840-61486c197811\",\"type\":\"BoxZoomTool\"},{\"attributes\":{},\"id\":\"9bab4090-2152-4940-9025-538c12fb116e\",\"type\":\"PanTool\"},{\"attributes\":{},\"id\":\"d6eaa530-509e-4d45-8593-3b6177cef1a0\",\"type\":\"CategoricalTickFormatter\"},{\"attributes\":{},\"id\":\"f0f9e737-9d65-4f03-8a35-08f39aa8ee01\",\"type\":\"SaveTool\"},{\"attributes\":{},\"id\":\"40067c7d-fae8-4154-8fb4-f03a51e6e90f\",\"type\":\"UnionRenderers\"},{\"attributes\":{\"data_source\":{\"id\":\"e54eb4cb-ba9e-421e-9cc9-f0a479f41a24\",\"type\":\"ColumnDataSource\"},\"glyph\":{\"id\":\"80003a0a-2860-4136-9477-234f8969bd17\",\"type\":\"VBar\"},\"hover_glyph\":null,\"muted_glyph\":null,\"nonselection_glyph\":{\"id\":\"5c6a8811-042b-4557-b958-efa7a3ed3466\",\"type\":\"VBar\"},\"selection_glyph\":null,\"view\":{\"id\":\"8c8929eb-377f-4a20-91c2-dd6b53a445c9\",\"type\":\"CDSView\"}},\"id\":\"74b5a37a-c8c1-43d1-9616-6b08c00154c6\",\"type\":\"GlyphRenderer\"},{\"attributes\":{},\"id\":\"2f635d12-c13d-478d-bc5b-f6db0d8017ba\",\"type\":\"Selection\"},{\"attributes\":{\"below\":[{\"id\":\"2fb96095-ccdd-42bd-b344-70195db301ef\",\"type\":\"CategoricalAxis\"}],\"left\":[{\"id\":\"0137a02a-4e7a-49cd-adf1-78432b49488b\",\"type\":\"LinearAxis\"}],\"plot_height\":300,\"plot_width\":300,\"renderers\":[{\"id\":\"2fb96095-ccdd-42bd-b344-70195db301ef\",\"type\":\"CategoricalAxis\"},{\"id\":\"f9b8fce3-fc93-429e-9313-d4cfe01fc4b6\",\"type\":\"Grid\"},{\"id\":\"0137a02a-4e7a-49cd-adf1-78432b49488b\",\"type\":\"LinearAxis\"},{\"id\":\"63f7d15e-951e-45f9-bd33-f74f8fddef1c\",\"type\":\"Grid\"},{\"id\":\"c5b2e9f6-a97f-4fa8-891f-805f0d70c0ce\",\"type\":\"BoxAnnotation\"},{\"id\":\"06135602-e9cf-404f-ac9f-18ba0854b2f8\",\"type\":\"GlyphRenderer\"}],\"title\":{\"id\":\"5fdc36a6-0291-49af-9951-9948e687dc0b\",\"type\":\"Title\"},\"toolbar\":{\"id\":\"30075431-5b84-40f5-9fc7-5802450eceb3\",\"type\":\"Toolbar\"},\"toolbar_location\":null,\"x_range\":{\"id\":\"73963d0c-412d-47af-8abf-02e13075fddb\",\"type\":\"FactorRange\"},\"x_scale\":{\"id\":\"6308ddfa-f0dd-4c75-9d5d-c7fb4bce7963\",\"type\":\"CategoricalScale\"},\"y_range\":{\"id\":\"02fd54e2-345a-4cb1-bcfd-b54bb21a70ef\",\"type\":\"DataRange1d\"},\"y_scale\":{\"id\":\"d7a70cfc-5ce1-47e4-ac24-091672611513\",\"type\":\"LinearScale\"}},\"id\":\"3c020211-0962-45f6-807a-467052dd691f\",\"subtype\":\"Figure\",\"type\":\"Plot\"},{\"attributes\":{},\"id\":\"18640f5e-6f68-4c88-abc1-631418ef1aa8\",\"type\":\"ResetTool\"},{\"attributes\":{},\"id\":\"d4fbaeea-35f1-46d2-bff7-aa4f01f03db9\",\"type\":\"BasicTickFormatter\"},{\"attributes\":{\"plot\":null,\"text\":\"TOA flux. CLIRAD - CRD.\"},\"id\":\"827ef8d2-ce58-4d59-96db-078ab44fe93e\",\"type\":\"Title\"},{\"attributes\":{\"fill_color\":{\"value\":\"#1f77b4\"},\"line_color\":{\"value\":\"#1f77b4\"},\"top\":{\"field\":\"flux\"},\"width\":{\"value\":0.9},\"x\":{\"field\":\"band\"}},\"id\":\"ed84e332-e2b6-45f6-b477-e0e55cb08d11\",\"type\":\"VBar\"},{\"attributes\":{\"plot\":null,\"text\":\"SFC flux. CLIRAD - CRD.\"},\"id\":\"5fdc36a6-0291-49af-9951-9948e687dc0b\",\"type\":\"Title\"},{\"attributes\":{\"overlay\":{\"id\":\"c5b2e9f6-a97f-4fa8-891f-805f0d70c0ce\",\"type\":\"BoxAnnotation\"}},\"id\":\"6e6b2e23-a0a8-431d-95f0-1076cf5b3eae\",\"type\":\"BoxZoomTool\"},{\"attributes\":{\"callback\":null},\"id\":\"02fd54e2-345a-4cb1-bcfd-b54bb21a70ef\",\"type\":\"DataRange1d\"},{\"attributes\":{},\"id\":\"192e26c0-94ed-4565-a366-9cadb221d314\",\"type\":\"WheelZoomTool\"},{\"attributes\":{},\"id\":\"ed61371f-1eff-4167-9bfe-d1714ed89981\",\"type\":\"WheelZoomTool\"},{\"attributes\":{},\"id\":\"509a9109-eabb-4be6-8b43-15138d82ce7a\",\"type\":\"PanTool\"},{\"attributes\":{},\"id\":\"d7a70cfc-5ce1-47e4-ac24-091672611513\",\"type\":\"LinearScale\"},{\"attributes\":{},\"id\":\"9beab92f-8840-4432-bd2d-ce3bd1b581f9\",\"type\":\"BasicTickFormatter\"},{\"attributes\":{\"active_drag\":\"auto\",\"active_inspect\":\"auto\",\"active_scroll\":\"auto\",\"active_tap\":\"auto\",\"tools\":[{\"id\":\"509a9109-eabb-4be6-8b43-15138d82ce7a\",\"type\":\"PanTool\"},{\"id\":\"ed61371f-1eff-4167-9bfe-d1714ed89981\",\"type\":\"WheelZoomTool\"},{\"id\":\"6e6b2e23-a0a8-431d-95f0-1076cf5b3eae\",\"type\":\"BoxZoomTool\"},{\"id\":\"f1bbc5cf-21e7-4011-b664-b21f67bfae78\",\"type\":\"SaveTool\"},{\"id\":\"18640f5e-6f68-4c88-abc1-631418ef1aa8\",\"type\":\"ResetTool\"},{\"id\":\"d397f2bf-5381-4400-8f4f-2e580e3b4083\",\"type\":\"HelpTool\"}]},\"id\":\"30075431-5b84-40f5-9fc7-5802450eceb3\",\"type\":\"Toolbar\"},{\"attributes\":{\"data_source\":{\"id\":\"333ca020-c97a-44f6-a05e-2a915216a26f\",\"type\":\"ColumnDataSource\"},\"glyph\":{\"id\":\"8be1c1c1-75b7-4c42-be01-5da8c431e999\",\"type\":\"VBar\"},\"hover_glyph\":null,\"muted_glyph\":null,\"nonselection_glyph\":{\"id\":\"717befbc-dc48-4c03-a4d1-70b17a9d4360\",\"type\":\"VBar\"},\"selection_glyph\":null,\"view\":{\"id\":\"0c8a8bc9-43bd-48c3-8dd4-243f1ae61bef\",\"type\":\"CDSView\"}},\"id\":\"06135602-e9cf-404f-ac9f-18ba0854b2f8\",\"type\":\"GlyphRenderer\"},{\"attributes\":{\"plot\":null,\"text\":\"Atmosphere heating. CLIRAD - CRD.\"},\"id\":\"b2886ca2-2f19-40e1-a0b9-442a8c0701d8\",\"type\":\"Title\"},{\"attributes\":{},\"id\":\"60960230-2e23-4552-9bb5-436cf2bac2db\",\"type\":\"BasicTicker\"},{\"attributes\":{\"callback\":null},\"id\":\"e419a535-e0a1-452d-9bdc-612987a7d146\",\"type\":\"DataRange1d\"},{\"attributes\":{\"axis_label\":\"spectral band\",\"formatter\":{\"id\":\"ed7a2f05-8e47-45cc-b987-fb00ad6fbcbf\",\"type\":\"CategoricalTickFormatter\"},\"plot\":{\"id\":\"42e65a9e-3b98-4fef-8fdf-6fc5f4af4d4a\",\"subtype\":\"Figure\",\"type\":\"Plot\"},\"ticker\":{\"id\":\"d09d4e35-a4c1-4bfb-b06c-2d371eb865e7\",\"type\":\"CategoricalTicker\"}},\"id\":\"03276a50-1ce9-40e5-b4f6-4f9e8f7522c6\",\"type\":\"CategoricalAxis\"},{\"attributes\":{},\"id\":\"78086a16-308e-4b13-951b-4b2ff19393a5\",\"type\":\"CategoricalTickFormatter\"},{\"attributes\":{},\"id\":\"a4f37bb1-97f8-46ee-a4a4-60c51fef30a5\",\"type\":\"Selection\"},{\"attributes\":{\"callback\":null,\"factors\":[\"1\",\"2\",\"3\",\"4\",\"5\",\"6\",\"7\",\"8\",\"9\",\"10\",\"11\"]},\"id\":\"027e460d-4473-49e7-aafe-f3c010b7fa78\",\"type\":\"FactorRange\"},{\"attributes\":{},\"id\":\"f9cff602-f027-4b21-b6a5-208592f71a66\",\"type\":\"UnionRenderers\"},{\"attributes\":{\"callback\":null,\"data\":{\"band\":[\"1\",\"2\",\"3\",\"4\",\"5\",\"6\",\"7\",\"8\",\"9\",\"10\",\"11\"],\"flux\":{\"__ndarray__\":\"gEOHwJFAxz8A+NfyyvWyPwDGbTSAt7S/ADC5iVqae78AaBAf2PGPvwDg9pLGaH2/AHCis8wiZL8ABBxClZqNvwCNYhRfSK6/ACA2WDhJc78AuGG5ShxePw==\",\"dtype\":\"float64\",\"shape\":[11]}},\"selected\":{\"id\":\"8930860c-f4bc-4d49-8c3b-eeed698dd06c\",\"type\":\"Selection\"},\"selection_policy\":{\"id\":\"40067c7d-fae8-4154-8fb4-f03a51e6e90f\",\"type\":\"UnionRenderers\"}},\"id\":\"550d6b70-96b8-4e27-822d-2aea0de019b0\",\"type\":\"ColumnDataSource\"}],\"root_ids\":[\"a1f2faa9-143c-4069-8485-f473088324ad\"]},\"title\":\"Bokeh Application\",\"version\":\"0.12.16\"}};\n",
       "  var render_items = [{\"docid\":\"970b5f67-6756-495e-b935-679f3abb6daa\",\"elementid\":\"7a82d26d-dbd3-40ef-88ca-777dc521ccad\",\"modelid\":\"a1f2faa9-143c-4069-8485-f473088324ad\"}];\n",
       "  root.Bokeh.embed.embed_items_notebook(docs_json, render_items);\n",
       "\n",
       "  }\n",
       "  if (root.Bokeh !== undefined) {\n",
       "    embed_document(root);\n",
       "  } else {\n",
       "    var attempts = 0;\n",
       "    var timer = setInterval(function(root) {\n",
       "      if (root.Bokeh !== undefined) {\n",
       "        embed_document(root);\n",
       "        clearInterval(timer);\n",
       "      }\n",
       "      attempts++;\n",
       "      if (attempts > 100) {\n",
       "        console.log(\"Bokeh: ERROR: Unable to run BokehJS code because BokehJS library is missing\")\n",
       "        clearInterval(timer);\n",
       "      }\n",
       "    }, 10, root)\n",
       "  }\n",
       "})(window);"
      ],
      "application/vnd.bokehjs_exec.v0+json": ""
     },
     "metadata": {
      "application/vnd.bokehjs_exec.v0+json": {
       "id": "a1f2faa9-143c-4069-8485-f473088324ad"
      }
     },
     "output_type": "display_data"
    },
    {
     "data": {
      "text/markdown": [
       "*FIGURE.* Difference between CLIRAD and CRD in TOA, SFC and net atmosphere flux, in each spectral band."
      ],
      "text/plain": [
       "<IPython.core.display.Markdown object>"
      ]
     },
     "metadata": {},
     "output_type": "display_data"
    },
    {
     "data": {
      "text/html": [
       "<div>\n",
       "<style scoped>\n",
       "    .dataframe tbody tr th:only-of-type {\n",
       "        vertical-align: middle;\n",
       "    }\n",
       "\n",
       "    .dataframe tbody tr th {\n",
       "        vertical-align: top;\n",
       "    }\n",
       "\n",
       "    .dataframe thead th {\n",
       "        text-align: right;\n",
       "    }\n",
       "</style>\n",
       "<table border=\"1\" class=\"dataframe\">\n",
       "  <thead>\n",
       "    <tr style=\"text-align: right;\">\n",
       "      <th></th>\n",
       "      <th>OLR flux</th>\n",
       "      <th>SFC flux</th>\n",
       "      <th>ATM heating</th>\n",
       "    </tr>\n",
       "    <tr>\n",
       "      <th>Sum over bands</th>\n",
       "      <th></th>\n",
       "      <th></th>\n",
       "      <th></th>\n",
       "    </tr>\n",
       "  </thead>\n",
       "  <tbody>\n",
       "    <tr>\n",
       "      <th>CLIRAD - CRD</th>\n",
       "      <td>0.07</td>\n",
       "      <td>-1.19</td>\n",
       "      <td>1.26</td>\n",
       "    </tr>\n",
       "    <tr>\n",
       "      <th>CRD</th>\n",
       "      <td>-224.58</td>\n",
       "      <td>127.40</td>\n",
       "      <td>-104.56</td>\n",
       "    </tr>\n",
       "  </tbody>\n",
       "</table>\n",
       "</div>"
      ],
      "text/plain": [
       "                OLR flux  SFC flux  ATM heating\n",
       "Sum over bands                                 \n",
       "CLIRAD - CRD        0.07     -1.19         1.26\n",
       "CRD              -224.58    127.40      -104.56"
      ]
     },
     "metadata": {},
     "output_type": "display_data"
    },
    {
     "data": {
      "text/markdown": [
       "*TABLE.* Difference between CLIRAD and CRD in TOA, SFC and net atmosphere flux, over all spectral bands. CRD's TOA, SFC and net atmosphere flux, over all spectral bands."
      ],
      "text/plain": [
       "<IPython.core.display.Markdown object>"
      ]
     },
     "metadata": {},
     "output_type": "display_data"
    },
    {
     "data": {
      "text/html": [
       "<a id=\"Cooling_rates._trp.\"></a>"
      ],
      "text/plain": [
       "<IPython.core.display.HTML object>"
      ]
     },
     "metadata": {},
     "output_type": "display_data"
    },
    {
     "data": {
      "text/markdown": [
       "# Cooling rates. trp."
      ],
      "text/plain": [
       "<IPython.core.display.Markdown object>"
      ]
     },
     "metadata": {},
     "output_type": "display_data"
    },
    {
     "data": {
      "text/html": [
       "\n",
       "<div class=\"bk-root\">\n",
       "    <div class=\"bk-plotdiv\" id=\"57f00bc6-9024-4463-bc17-bb0182c7c4d4\"></div>\n",
       "</div>"
      ]
     },
     "metadata": {},
     "output_type": "display_data"
    },
    {
     "data": {
      "application/javascript": [
       "(function(root) {\n",
       "  function embed_document(root) {\n",
       "    \n",
       "  var docs_json = {\"473dff74-86ae-469e-bc9c-3b20ac707daf\":{\"roots\":{\"references\":[{\"attributes\":{},\"id\":\"f269318d-48ff-4ea8-b699-fd8f0d28ea06\",\"type\":\"WheelZoomTool\"},{\"attributes\":{\"axis_label\":\"cooling rate [K/day]\",\"formatter\":{\"id\":\"19de055c-dfd3-43bf-8e48-67b34f30d7fc\",\"type\":\"BasicTickFormatter\"},\"plot\":{\"id\":\"0eebc1b0-692c-435b-b9fb-1501d88240ba\",\"subtype\":\"Figure\",\"type\":\"Plot\"},\"ticker\":{\"id\":\"683ec5d0-a16b-4b02-82ae-69ea25389453\",\"type\":\"BasicTicker\"}},\"id\":\"3bbbb1c9-a6f5-49a2-8f9c-6330cd0d8d29\",\"type\":\"LinearAxis\"},{\"attributes\":{\"overlay\":{\"id\":\"00028339-f4f6-4a45-9c20-a4ea5817c4bb\",\"type\":\"BoxAnnotation\"}},\"id\":\"fe3eb58f-5271-4861-9aea-9445dcbcb42e\",\"type\":\"BoxZoomTool\"},{\"attributes\":{\"items\":[{\"id\":\"4ad5b81c-b199-4685-8389-4c6f9a37c4c7\",\"type\":\"LegendItem\"},{\"id\":\"51d1c903-7bd4-4f73-9449-e63cd01f5c48\",\"type\":\"LegendItem\"}],\"label_text_font_size\":{\"value\":\"8pt\"},\"location\":\"top_center\",\"orientation\":\"horizontal\",\"plot\":{\"id\":\"0eebc1b0-692c-435b-b9fb-1501d88240ba\",\"subtype\":\"Figure\",\"type\":\"Plot\"}},\"id\":\"0c919f2f-fc26-4b5a-880a-e60a8d0dbb55\",\"type\":\"Legend\"},{\"attributes\":{},\"id\":\"683ec5d0-a16b-4b02-82ae-69ea25389453\",\"type\":\"BasicTicker\"},{\"attributes\":{\"overlay\":{\"id\":\"8bc193e1-6cc1-4367-8506-1c9caa0a343d\",\"type\":\"BoxAnnotation\"}},\"id\":\"87c282e0-4c8d-45b8-bce1-06126564b95f\",\"type\":\"BoxZoomTool\"},{\"attributes\":{},\"id\":\"06d318f5-1428-44f6-a7e7-aa376c707d6e\",\"type\":\"WheelZoomTool\"},{\"attributes\":{},\"id\":\"501c7d73-6e15-432d-b385-95893c6e009f\",\"type\":\"PanTool\"},{\"attributes\":{},\"id\":\"ac4e651e-7897-4d9e-8686-445e22701e0b\",\"type\":\"HelpTool\"},{\"attributes\":{\"callback\":null,\"data\":{\"x\":{\"__ndarray__\":\"W2LS03H8CEAkcDN2aZ0HQOlaoL0cBAdAZR3GEYcWBkB2nSJW+MIEQOYsPqMZ/QJA3Om/KgbIAECea8RWIXv8P0OO86pMLPc/ozy3+lRI8j8FXGdJS8HsP6L+8WD5Iec/COwUHvbT4j+IkrTWNwfdP1mQXFp3aNg/Ol2qo6iF2T+NlE++yfLbP1V7CbR4E98/jT0AkZQG4j96SgszpHHlP5Uwrcx28+k/qe7Nubaj7z8Yzvds3DTwP+Evd4TIBO0/hJfrol8p6j8HsgwHoJjmP3rybxhz3eM/hOKLCFNw4T9cDl4iv7nePyPwinNvLdw/qVn6J/Rn2j/FvofQBAXYPxpmRktnGdY/lt2c3KdF1D/7H94udCDQPweAsVY7x8M/H1Ao2IoPsz+HYK9z2Ji1PwLViggr9cM/NO5nQ5CmzT9va0SQWarZPyBrtjHJJOw/jEdHojgC9j/pwr8Uw8n8P6jf6SWDRwBAYMR5fF/QAEA71X+oxI0BQFRpMyF5ngFAAVhBMYZzAED/SXB07uX/P5QZazh8vv8/flyi/fPE/z+Yr18wd/L/Py4qGIyH//8/ntC7Fsw0AEBtMc90tWwAQJSZg0bG0gBAD/XAae9DAUAwDX2XXagBQK2oEnwL+wFAZGATVZw/AkDCUl3Ay2wCQKedJb6WRAJA07aedxy0AkC6a17UNCgCQB/m7z/pVgFApFMO1tWYAEAgT1wp4yL/PzHLBcOFqP0/YSJtwRzW/D8+Owy/kMz8PxrTQHk6Hf0/SfBMiaD1/T+mHaHgDur/P6klwivuiAVA\",\"dtype\":\"float64\",\"shape\":[75]},\"y\":{\"__ndarray__\":\"GhExyth1ND/Sv8nbtpRIP2vylNV0PVE/aTum7souWD/At0SJ8fVgPw3Iuahxymc/MSNhhJWvcD/bTfBN02d3P2zb5nxnaoA/CD5h5MAGhz8NmeH1TyaQP+zrCsc9p5Y/LbKd76fGnz/bLW5ISEmmPww9YvTcQq8/JV2OstnstT8Er5Y7M8G+P0c+r3jqkcU/5h99k6ZBzj88bCIzFzjVP4enV8oyxN0//yH99nXg5D8qOpLLf0jtP5kqGJXUifQ/c9cS8kHP/D+/DpwzojQEQIEmwoanVwxA4lgXt9HgE0BSSZ2AJuIbQAMJih9jjiNA5q4l5INuK0AwTKYKRj0zQNv5fmq8/DpAaCJseHrtQkB/+zpwzoxKQM3MzMzMeFJAZmZmZmZqWEAAAAAAAFxeQM3MzMzMJmJAmpmZmZkfZUBmZmZmZhhoQDMzMzMzEWtAAAAAAAAKbkBmZmZmZoFwQM3MzMzM/XFAMzMzMzN6c0CamZmZmfZ0QAAAAAAAc3ZAZmZmZmbvd0DNzMzMzGt5QDMzMzMz6HpAmpmZmZlkfEAAAAAAAOF9QGZmZmZmXX9AZmZmZuZsgECamZmZGSuBQM3MzMxM6YFAAAAAAICngkAzMzMzs2WDQGZmZmbmI4RAmpmZmRnihEDNzMzMTKCFQAAAAACAXoZAMzMzM7Mch0BmZmZm5tqHQJqZmZkZmYhAzczMzExXiUAAAAAAgBWKQDMzMzOz04pAZmZmZuaRi0CamZmZGVCMQM3MzMxMDo1AAAAAAIDMjUAzMzMzs4qOQGZmZmbmSI9A\",\"dtype\":\"float64\",\"shape\":[75]}},\"selected\":{\"id\":\"5f958c27-3358-4c99-9050-94a8cdc89ccf\",\"type\":\"Selection\"},\"selection_policy\":{\"id\":\"fbb4121e-25bf-494b-bd1d-60d7fea04bfd\",\"type\":\"UnionRenderers\"}},\"id\":\"6c0f832a-ba09-49b9-9252-deb158a35b62\",\"type\":\"ColumnDataSource\"},{\"attributes\":{\"num_minor_ticks\":10},\"id\":\"8477e78c-afe1-43d0-bd65-de56fa73b739\",\"type\":\"LogTicker\"},{\"attributes\":{\"above\":[{\"id\":\"170d4444-4c5c-474c-80e5-4d5ff774f01d\",\"type\":\"Legend\"}],\"below\":[{\"id\":\"449ecd6a-bafd-4b85-9018-7a8fd5526abe\",\"type\":\"LinearAxis\"}],\"left\":[{\"id\":\"dfaecfda-95d3-49e7-ac12-e65137b8570c\",\"type\":\"LinearAxis\"}],\"plot_width\":300,\"renderers\":[{\"id\":\"449ecd6a-bafd-4b85-9018-7a8fd5526abe\",\"type\":\"LinearAxis\"},{\"id\":\"56176deb-642d-4ae2-b9d1-4016fdc9bbf6\",\"type\":\"Grid\"},{\"id\":\"dfaecfda-95d3-49e7-ac12-e65137b8570c\",\"type\":\"LinearAxis\"},{\"id\":\"6daea967-bac0-43a6-9f54-af35fc8d514d\",\"type\":\"Grid\"},{\"id\":\"3af2ee3b-89ab-474c-bfee-ddadcc8bc7ca\",\"type\":\"BoxAnnotation\"},{\"id\":\"93246ae6-855b-41d3-87c6-ff3e8a6475d2\",\"type\":\"GlyphRenderer\"},{\"id\":\"7de20ff0-aeb2-4743-b131-00986cede785\",\"type\":\"GlyphRenderer\"},{\"id\":\"67ca8913-57b7-4108-bdfa-3d8b51101237\",\"type\":\"GlyphRenderer\"},{\"id\":\"170d4444-4c5c-474c-80e5-4d5ff774f01d\",\"type\":\"Legend\"}],\"title\":{\"id\":\"e04fc0ba-c5fe-40ae-a25b-e83d8192308f\",\"type\":\"Title\"},\"toolbar\":{\"id\":\"e7b4c1a6-2ab2-4026-bca6-ceed986bdb94\",\"type\":\"Toolbar\"},\"toolbar_location\":null,\"x_range\":{\"id\":\"4b0ee100-e143-4bee-8bdc-94d4ac7435d6\",\"type\":\"Range1d\"},\"x_scale\":{\"id\":\"4f9f9941-afd5-4eff-9894-02a9865b30c0\",\"type\":\"LinearScale\"},\"y_range\":{\"id\":\"a0c48a6c-7963-48c5-b1be-ebb7e66da9db\",\"type\":\"Range1d\"},\"y_scale\":{\"id\":\"fb9a5ae7-3dd4-42b9-935d-cd33a5e766e8\",\"type\":\"LinearScale\"}},\"id\":\"5324121b-bef9-41a1-9b50-d0e45b786ecc\",\"subtype\":\"Figure\",\"type\":\"Plot\"},{\"attributes\":{},\"id\":\"23b50145-8094-47b4-ac71-df1741026aa1\",\"type\":\"ResetTool\"},{\"attributes\":{\"callback\":null,\"end\":0.01,\"start\":1020},\"id\":\"a0c48a6c-7963-48c5-b1be-ebb7e66da9db\",\"type\":\"Range1d\"},{\"attributes\":{},\"id\":\"26e8cf10-1e87-4335-8d55-f283ad549c68\",\"type\":\"WheelZoomTool\"},{\"attributes\":{\"axis_label\":\"pressure [mb]\",\"formatter\":{\"id\":\"ce865cdf-394b-4a35-9d4c-42ed354a345c\",\"type\":\"LogTickFormatter\"},\"plot\":{\"id\":\"0eebc1b0-692c-435b-b9fb-1501d88240ba\",\"subtype\":\"Figure\",\"type\":\"Plot\"},\"ticker\":{\"id\":\"8477e78c-afe1-43d0-bd65-de56fa73b739\",\"type\":\"LogTicker\"}},\"id\":\"563155d0-bf17-401b-83ab-b9897dbf6296\",\"type\":\"LogAxis\"},{\"attributes\":{},\"id\":\"869c7b63-5df1-4c87-af11-fa72e52b8349\",\"type\":\"SaveTool\"},{\"attributes\":{\"label\":{\"value\":\"CRD\"},\"renderers\":[{\"id\":\"e0883cca-504f-464b-be2e-b506695c9091\",\"type\":\"GlyphRenderer\"},{\"id\":\"21eea0ae-9520-4a76-b0de-7dfcafd26e51\",\"type\":\"GlyphRenderer\"}]},\"id\":\"51d1c903-7bd4-4f73-9449-e63cd01f5c48\",\"type\":\"LegendItem\"},{\"attributes\":{},\"id\":\"f3267e13-8b90-44f8-a529-3d40b9561fb6\",\"type\":\"HelpTool\"},{\"attributes\":{},\"id\":\"2105acfe-d433-40e6-81c5-1d66aaa555ae\",\"type\":\"LogScale\"},{\"attributes\":{\"overlay\":{\"id\":\"3af2ee3b-89ab-474c-bfee-ddadcc8bc7ca\",\"type\":\"BoxAnnotation\"}},\"id\":\"2a448955-1862-48e5-8e10-0b9e549d9285\",\"type\":\"BoxZoomTool\"},{\"attributes\":{\"callback\":null,\"end\":0.01,\"start\":1020},\"id\":\"729cbaf9-2b66-4e09-af53-3a17da050ad3\",\"type\":\"Range1d\"},{\"attributes\":{\"line_alpha\":0.1,\"line_color\":\"#1f77b4\",\"line_dash\":[6],\"line_width\":5,\"x\":{\"field\":\"x\"},\"y\":{\"field\":\"y\"}},\"id\":\"96743a91-6667-4841-962b-d599a7b7476e\",\"type\":\"Line\"},{\"attributes\":{\"axis_label\":\"cooling rate [K/day]\",\"formatter\":{\"id\":\"1b445aaf-11fe-4e70-bd08-792100cf2767\",\"type\":\"BasicTickFormatter\"},\"plot\":{\"id\":\"475a25c6-8941-45e5-aa58-645f0db0a8cd\",\"subtype\":\"Figure\",\"type\":\"Plot\"},\"ticker\":{\"id\":\"b9565cfb-6ae2-4f71-adbd-af51790ee1ec\",\"type\":\"BasicTicker\"}},\"id\":\"ecdc008b-0b71-4a9c-b72f-4ecabd0e79f3\",\"type\":\"LinearAxis\"},{\"attributes\":{\"above\":[{\"id\":\"ed6b30a8-7ac9-4f29-8f5b-c30433c77f46\",\"type\":\"Legend\"}],\"below\":[{\"id\":\"ecdc008b-0b71-4a9c-b72f-4ecabd0e79f3\",\"type\":\"LinearAxis\"}],\"left\":[{\"id\":\"4daf997d-4db9-464a-a18a-7c19bdb9540c\",\"type\":\"LogAxis\"}],\"plot_width\":300,\"renderers\":[{\"id\":\"ecdc008b-0b71-4a9c-b72f-4ecabd0e79f3\",\"type\":\"LinearAxis\"},{\"id\":\"71d4169d-f175-4e7a-a130-bc6f638655cb\",\"type\":\"Grid\"},{\"id\":\"4daf997d-4db9-464a-a18a-7c19bdb9540c\",\"type\":\"LogAxis\"},{\"id\":\"fed8790e-38fe-4d2e-b7d9-9a0fd7c3172f\",\"type\":\"Grid\"},{\"id\":\"00028339-f4f6-4a45-9c20-a4ea5817c4bb\",\"type\":\"BoxAnnotation\"},{\"id\":\"db921416-cd75-43ee-947e-86a828c86ebf\",\"type\":\"GlyphRenderer\"},{\"id\":\"e7a2937a-da7a-4171-be16-28ab9e31c228\",\"type\":\"GlyphRenderer\"},{\"id\":\"ed6b30a8-7ac9-4f29-8f5b-c30433c77f46\",\"type\":\"Legend\"}],\"title\":{\"id\":\"950ba09f-1d56-4bea-8522-59a4231043ed\",\"type\":\"Title\"},\"toolbar\":{\"id\":\"bbae44f5-be32-4d66-98ea-de867bc47ed4\",\"type\":\"Toolbar\"},\"toolbar_location\":null,\"x_range\":{\"id\":\"04103731-92a5-4298-8887-64fb0c912047\",\"type\":\"Range1d\"},\"x_scale\":{\"id\":\"a2a1cebe-dc0c-4660-a60e-b7cb0cb899ea\",\"type\":\"LinearScale\"},\"y_range\":{\"id\":\"729cbaf9-2b66-4e09-af53-3a17da050ad3\",\"type\":\"Range1d\"},\"y_scale\":{\"id\":\"900521ac-e0e7-4cbc-98b9-eacc4eb50790\",\"type\":\"LogScale\"}},\"id\":\"475a25c6-8941-45e5-aa58-645f0db0a8cd\",\"subtype\":\"Figure\",\"type\":\"Plot\"},{\"attributes\":{\"axis_label\":\"cooling rate [K/day]\",\"formatter\":{\"id\":\"7bf9e177-de09-4d07-b9f3-dc233b33f784\",\"type\":\"BasicTickFormatter\"},\"plot\":{\"id\":\"5324121b-bef9-41a1-9b50-d0e45b786ecc\",\"subtype\":\"Figure\",\"type\":\"Plot\"},\"ticker\":{\"id\":\"e733a860-e97a-446e-a5ab-6df429582e3d\",\"type\":\"BasicTicker\"}},\"id\":\"449ecd6a-bafd-4b85-9018-7a8fd5526abe\",\"type\":\"LinearAxis\"},{\"attributes\":{\"label\":{\"value\":\"CLIRAD\"},\"renderers\":[{\"id\":\"2e592802-aa8d-4222-8374-d7d2b4aaf470\",\"type\":\"GlyphRenderer\"}]},\"id\":\"4ad5b81c-b199-4685-8389-4c6f9a37c4c7\",\"type\":\"LegendItem\"},{\"attributes\":{},\"id\":\"b9565cfb-6ae2-4f71-adbd-af51790ee1ec\",\"type\":\"BasicTicker\"},{\"attributes\":{},\"id\":\"900521ac-e0e7-4cbc-98b9-eacc4eb50790\",\"type\":\"LogScale\"},{\"attributes\":{\"plot\":{\"id\":\"0eebc1b0-692c-435b-b9fb-1501d88240ba\",\"subtype\":\"Figure\",\"type\":\"Plot\"},\"ticker\":{\"id\":\"683ec5d0-a16b-4b02-82ae-69ea25389453\",\"type\":\"BasicTicker\"}},\"id\":\"3f42f7eb-08b8-455b-9472-b79b83fe5251\",\"type\":\"Grid\"},{\"attributes\":{\"callback\":null,\"end\":0.04950078643142298,\"start\":-0.19505247324532296},\"id\":\"04103731-92a5-4298-8887-64fb0c912047\",\"type\":\"Range1d\"},{\"attributes\":{\"callback\":null,\"end\":2.7180345711739498,\"start\":0.04828186143104997},\"id\":\"4b0ee100-e143-4bee-8bdc-94d4ac7435d6\",\"type\":\"Range1d\"},{\"attributes\":{\"axis_label\":\"pressure [mb]\",\"formatter\":{\"id\":\"437c96a1-3830-4122-89aa-cec2154433f2\",\"type\":\"LogTickFormatter\"},\"plot\":{\"id\":\"475a25c6-8941-45e5-aa58-645f0db0a8cd\",\"subtype\":\"Figure\",\"type\":\"Plot\"},\"ticker\":{\"id\":\"b4a705c4-0b37-433d-a62b-a44f13397ff1\",\"type\":\"LogTicker\"}},\"id\":\"4daf997d-4db9-464a-a18a-7c19bdb9540c\",\"type\":\"LogAxis\"},{\"attributes\":{},\"id\":\"fb9a5ae7-3dd4-42b9-935d-cd33a5e766e8\",\"type\":\"LinearScale\"},{\"attributes\":{\"plot\":{\"id\":\"475a25c6-8941-45e5-aa58-645f0db0a8cd\",\"subtype\":\"Figure\",\"type\":\"Plot\"},\"ticker\":{\"id\":\"b9565cfb-6ae2-4f71-adbd-af51790ee1ec\",\"type\":\"BasicTicker\"}},\"id\":\"71d4169d-f175-4e7a-a130-bc6f638655cb\",\"type\":\"Grid\"},{\"attributes\":{\"items\":[{\"id\":\"5fbbb904-da22-45c9-bc46-02b78791d030\",\"type\":\"LegendItem\"},{\"id\":\"6c9848c6-0c95-46ea-8715-1afe38bf5267\",\"type\":\"LegendItem\"}],\"label_text_font_size\":{\"value\":\"8pt\"},\"location\":\"top_center\",\"orientation\":\"horizontal\",\"plot\":{\"id\":\"5324121b-bef9-41a1-9b50-d0e45b786ecc\",\"subtype\":\"Figure\",\"type\":\"Plot\"}},\"id\":\"170d4444-4c5c-474c-80e5-4d5ff774f01d\",\"type\":\"Legend\"},{\"attributes\":{\"active_drag\":\"auto\",\"active_inspect\":\"auto\",\"active_scroll\":\"auto\",\"active_tap\":\"auto\",\"tools\":[{\"id\":\"668e0b75-23ee-45de-8f2a-7aaa0c794c1a\",\"type\":\"PanTool\"},{\"id\":\"06d318f5-1428-44f6-a7e7-aa376c707d6e\",\"type\":\"WheelZoomTool\"},{\"id\":\"fe3eb58f-5271-4861-9aea-9445dcbcb42e\",\"type\":\"BoxZoomTool\"},{\"id\":\"869c7b63-5df1-4c87-af11-fa72e52b8349\",\"type\":\"SaveTool\"},{\"id\":\"23b50145-8094-47b4-ac71-df1741026aa1\",\"type\":\"ResetTool\"},{\"id\":\"ac4e651e-7897-4d9e-8686-445e22701e0b\",\"type\":\"HelpTool\"}]},\"id\":\"bbae44f5-be32-4d66-98ea-de867bc47ed4\",\"type\":\"Toolbar\"},{\"attributes\":{},\"id\":\"668e0b75-23ee-45de-8f2a-7aaa0c794c1a\",\"type\":\"PanTool\"},{\"attributes\":{\"items\":[{\"id\":\"42e19abb-6b04-4580-9372-f05e1580364b\",\"type\":\"LegendItem\"}],\"label_text_font_size\":{\"value\":\"8pt\"},\"location\":\"top_center\",\"orientation\":\"horizontal\",\"plot\":{\"id\":\"475a25c6-8941-45e5-aa58-645f0db0a8cd\",\"subtype\":\"Figure\",\"type\":\"Plot\"}},\"id\":\"ed6b30a8-7ac9-4f29-8f5b-c30433c77f46\",\"type\":\"Legend\"},{\"attributes\":{\"bottom_units\":\"screen\",\"fill_alpha\":{\"value\":0.5},\"fill_color\":{\"value\":\"lightgrey\"},\"left_units\":\"screen\",\"level\":\"overlay\",\"line_alpha\":{\"value\":1.0},\"line_color\":{\"value\":\"black\"},\"line_dash\":[4,4],\"line_width\":{\"value\":2},\"plot\":null,\"render_mode\":\"css\",\"right_units\":\"screen\",\"top_units\":\"screen\"},\"id\":\"3af2ee3b-89ab-474c-bfee-ddadcc8bc7ca\",\"type\":\"BoxAnnotation\"},{\"attributes\":{},\"id\":\"5fc370b7-3f06-42aa-9fa8-b0a7765b5e6d\",\"type\":\"UnionRenderers\"},{\"attributes\":{\"dimension\":1,\"plot\":{\"id\":\"475a25c6-8941-45e5-aa58-645f0db0a8cd\",\"subtype\":\"Figure\",\"type\":\"Plot\"},\"ticker\":{\"id\":\"b4a705c4-0b37-433d-a62b-a44f13397ff1\",\"type\":\"LogTicker\"}},\"id\":\"fed8790e-38fe-4d2e-b7d9-9a0fd7c3172f\",\"type\":\"Grid\"},{\"attributes\":{\"num_minor_ticks\":10},\"id\":\"b4a705c4-0b37-433d-a62b-a44f13397ff1\",\"type\":\"LogTicker\"},{\"attributes\":{\"bottom_units\":\"screen\",\"fill_alpha\":{\"value\":0.5},\"fill_color\":{\"value\":\"lightgrey\"},\"left_units\":\"screen\",\"level\":\"overlay\",\"line_alpha\":{\"value\":1.0},\"line_color\":{\"value\":\"black\"},\"line_dash\":[4,4],\"line_width\":{\"value\":2},\"plot\":null,\"render_mode\":\"css\",\"right_units\":\"screen\",\"top_units\":\"screen\"},\"id\":\"00028339-f4f6-4a45-9c20-a4ea5817c4bb\",\"type\":\"BoxAnnotation\"},{\"attributes\":{\"dimension\":1,\"plot\":{\"id\":\"5324121b-bef9-41a1-9b50-d0e45b786ecc\",\"subtype\":\"Figure\",\"type\":\"Plot\"},\"ticker\":{\"id\":\"e95f6883-09eb-49e3-87f3-b79021359a24\",\"type\":\"BasicTicker\"}},\"id\":\"6daea967-bac0-43a6-9f54-af35fc8d514d\",\"type\":\"Grid\"},{\"attributes\":{},\"id\":\"3ae69232-076f-4252-8fe3-7149d47947d9\",\"type\":\"LinearScale\"},{\"attributes\":{\"callback\":null,\"data\":{\"x\":{\"__ndarray__\":\"wb2hiKDfAsDyLTVuMbj2vzRvNiw3gPG/Zpf3wMUd6b8IJWMezJ7gvwlDg0sBqtS/uZvYBPCIyr/aA9YA4GrFv4Z2P4bhkMa/sFraXuqoyL+jaSxEbPPGv1j223o6NsC/sbXDRT41rL/XvX2QXdFzP2Fs3oieWpY/zMbMIdT0N7+5eQDdY7mcv/gC2wbO2aS/J8b6MHQnor9oFyYpDAmYvzGvHosIXpa/MFp2SS6Rob/qW1exrxuUv6PApkQSBJE/dJbLXqYCqD9e1OxN6R2oP0xqCtP5FaM/cPr6xu3JiT8xrfjpFeyGv0XX+93q4Yy/J87HRSjter9l+JbHIImCv5W7mCMrbXK/GPRxuPSXUL8XPL+AE/h+v8nUqm05P42/IJMxNAYklb+4HU8PLjKYv92IbJs+mZe//vPTBxX+lb9sT8SwSa6Wv7kStBN9MpK/WfcKyCfslr9pv1cFwERZvw9maN5NcJa/lMDXGKy/tb83u1m1Eleov8LGpElPOaC/RN348ozmrb/cOBlQD9+vvwNyS8Whj6S/w6pVfVy/l7/F+LrgWWiGv06eKjw3z5K/JD1QqmIKkr9OlOC3H3yWv8aqUMLj0nW/nvYl/7mGkj/ZIGp54tSjP2bcyRccdKc/FuNmxSuhoj+TnQiMPOOTP5iRCyThqGA/pAYlDtHPgT+AnumUrKuaP6n/Tbwkq6o/uj2OFSYbsj94cZWK8VG1PxqU12POLrQ/DvVKgHKAsj/4StmfgXK2P8hH1sEF5rk/i2bh546pvj/czhCoZFvEP54P4/ZKp8Y/\",\"dtype\":\"float64\",\"shape\":[75]},\"y\":{\"__ndarray__\":\"GhExyth1ND/Sv8nbtpRIP2vylNV0PVE/aTum7souWD/At0SJ8fVgPw3Iuahxymc/MSNhhJWvcD/bTfBN02d3P2zb5nxnaoA/CD5h5MAGhz8NmeH1TyaQP+zrCsc9p5Y/LbKd76fGnz/bLW5ISEmmPww9YvTcQq8/JV2OstnstT8Er5Y7M8G+P0c+r3jqkcU/5h99k6ZBzj88bCIzFzjVP4enV8oyxN0//yH99nXg5D8qOpLLf0jtP5kqGJXUifQ/c9cS8kHP/D+/DpwzojQEQIEmwoanVwxA4lgXt9HgE0BSSZ2AJuIbQAMJih9jjiNA5q4l5INuK0AwTKYKRj0zQNv5fmq8/DpAaCJseHrtQkB/+zpwzoxKQM3MzMzMeFJAZmZmZmZqWEAAAAAAAFxeQM3MzMzMJmJAmpmZmZkfZUBmZmZmZhhoQDMzMzMzEWtAAAAAAAAKbkBmZmZmZoFwQM3MzMzM/XFAMzMzMzN6c0CamZmZmfZ0QAAAAAAAc3ZAZmZmZmbvd0DNzMzMzGt5QDMzMzMz6HpAmpmZmZlkfEAAAAAAAOF9QGZmZmZmXX9AZmZmZuZsgECamZmZGSuBQM3MzMxM6YFAAAAAAICngkAzMzMzs2WDQGZmZmbmI4RAmpmZmRnihEDNzMzMTKCFQAAAAACAXoZAMzMzM7Mch0BmZmZm5tqHQJqZmZkZmYhAzczMzExXiUAAAAAAgBWKQDMzMzOz04pAZmZmZuaRi0CamZmZGVCMQM3MzMxMDo1AAAAAAIDMjUAzMzMzs4qOQGZmZmbmSI9A\",\"dtype\":\"float64\",\"shape\":[75]}},\"selected\":{\"id\":\"97e21192-81ab-49c5-95ee-40594e89c731\",\"type\":\"Selection\"},\"selection_policy\":{\"id\":\"84e6c1b0-2129-4ce2-8d06-4bff731e06bf\",\"type\":\"UnionRenderers\"}},\"id\":\"7e87148a-6c29-4fad-8bb6-d710484daa57\",\"type\":\"ColumnDataSource\"},{\"attributes\":{},\"id\":\"e95f6883-09eb-49e3-87f3-b79021359a24\",\"type\":\"BasicTicker\"},{\"attributes\":{},\"id\":\"4f9f9941-afd5-4eff-9894-02a9865b30c0\",\"type\":\"LinearScale\"},{\"attributes\":{\"plot\":{\"id\":\"5324121b-bef9-41a1-9b50-d0e45b786ecc\",\"subtype\":\"Figure\",\"type\":\"Plot\"},\"ticker\":{\"id\":\"e733a860-e97a-446e-a5ab-6df429582e3d\",\"type\":\"BasicTicker\"}},\"id\":\"56176deb-642d-4ae2-b9d1-4016fdc9bbf6\",\"type\":\"Grid\"},{\"attributes\":{},\"id\":\"a2a1cebe-dc0c-4660-a60e-b7cb0cb899ea\",\"type\":\"LinearScale\"},{\"attributes\":{},\"id\":\"f8876a45-8310-49cd-a3ed-e9eeb308c252\",\"type\":\"ResetTool\"},{\"attributes\":{},\"id\":\"42af1c44-e735-49ef-99f1-923824955129\",\"type\":\"PanTool\"},{\"attributes\":{\"callback\":null,\"data\":{\"x\":{\"__ndarray__\":\"W2LS03H8CEAkcDN2aZ0HQOlaoL0cBAdAZR3GEYcWBkB2nSJW+MIEQOYsPqMZ/QJA3Om/KgbIAECea8RWIXv8P0OO86pMLPc/ozy3+lRI8j8FXGdJS8HsP6L+8WD5Iec/COwUHvbT4j+IkrTWNwfdP1mQXFp3aNg/Ol2qo6iF2T+NlE++yfLbP1V7CbR4E98/jT0AkZQG4j96SgszpHHlP5Uwrcx28+k/qe7Nubaj7z8Yzvds3DTwP+Evd4TIBO0/hJfrol8p6j8HsgwHoJjmP3rybxhz3eM/hOKLCFNw4T9cDl4iv7nePyPwinNvLdw/qVn6J/Rn2j/FvofQBAXYPxpmRktnGdY/lt2c3KdF1D/7H94udCDQPweAsVY7x8M/H1Ao2IoPsz+HYK9z2Ji1PwLViggr9cM/NO5nQ5CmzT9va0SQWarZPyBrtjHJJOw/jEdHojgC9j/pwr8Uw8n8P6jf6SWDRwBAYMR5fF/QAEA71X+oxI0BQFRpMyF5ngFAAVhBMYZzAED/SXB07uX/P5QZazh8vv8/flyi/fPE/z+Yr18wd/L/Py4qGIyH//8/ntC7Fsw0AEBtMc90tWwAQJSZg0bG0gBAD/XAae9DAUAwDX2XXagBQK2oEnwL+wFAZGATVZw/AkDCUl3Ay2wCQKedJb6WRAJA07aedxy0AkC6a17UNCgCQB/m7z/pVgFApFMO1tWYAEAgT1wp4yL/PzHLBcOFqP0/YSJtwRzW/D8+Owy/kMz8PxrTQHk6Hf0/SfBMiaD1/T+mHaHgDur/P6klwivuiAVA\",\"dtype\":\"float64\",\"shape\":[75]},\"y\":{\"__ndarray__\":\"GhExyth1ND/Sv8nbtpRIP2vylNV0PVE/aTum7souWD/At0SJ8fVgPw3Iuahxymc/MSNhhJWvcD/bTfBN02d3P2zb5nxnaoA/CD5h5MAGhz8NmeH1TyaQP+zrCsc9p5Y/LbKd76fGnz/bLW5ISEmmPww9YvTcQq8/JV2OstnstT8Er5Y7M8G+P0c+r3jqkcU/5h99k6ZBzj88bCIzFzjVP4enV8oyxN0//yH99nXg5D8qOpLLf0jtP5kqGJXUifQ/c9cS8kHP/D+/DpwzojQEQIEmwoanVwxA4lgXt9HgE0BSSZ2AJuIbQAMJih9jjiNA5q4l5INuK0AwTKYKRj0zQNv5fmq8/DpAaCJseHrtQkB/+zpwzoxKQM3MzMzMeFJAZmZmZmZqWEAAAAAAAFxeQM3MzMzMJmJAmpmZmZkfZUBmZmZmZhhoQDMzMzMzEWtAAAAAAAAKbkBmZmZmZoFwQM3MzMzM/XFAMzMzMzN6c0CamZmZmfZ0QAAAAAAAc3ZAZmZmZmbvd0DNzMzMzGt5QDMzMzMz6HpAmpmZmZlkfEAAAAAAAOF9QGZmZmZmXX9AZmZmZuZsgECamZmZGSuBQM3MzMxM6YFAAAAAAICngkAzMzMzs2WDQGZmZmbmI4RAmpmZmRnihEDNzMzMTKCFQAAAAACAXoZAMzMzM7Mch0BmZmZm5tqHQJqZmZkZmYhAzczMzExXiUAAAAAAgBWKQDMzMzOz04pAZmZmZuaRi0CamZmZGVCMQM3MzMxMDo1AAAAAAIDMjUAzMzMzs4qOQGZmZmbmSI9A\",\"dtype\":\"float64\",\"shape\":[75]}},\"selected\":{\"id\":\"414de53b-810f-4d80-9903-0ec151914eca\",\"type\":\"Selection\"},\"selection_policy\":{\"id\":\"5fc370b7-3f06-42aa-9fa8-b0a7765b5e6d\",\"type\":\"UnionRenderers\"}},\"id\":\"5dae6b9e-512a-4b26-8828-3aee893416e2\",\"type\":\"ColumnDataSource\"},{\"attributes\":{\"active_drag\":\"auto\",\"active_inspect\":\"auto\",\"active_scroll\":\"auto\",\"active_tap\":\"auto\",\"tools\":[{\"id\":\"501c7d73-6e15-432d-b385-95893c6e009f\",\"type\":\"PanTool\"},{\"id\":\"f269318d-48ff-4ea8-b699-fd8f0d28ea06\",\"type\":\"WheelZoomTool\"},{\"id\":\"2a448955-1862-48e5-8e10-0b9e549d9285\",\"type\":\"BoxZoomTool\"},{\"id\":\"6663e9d0-b720-4376-880e-e3f1cfd4517d\",\"type\":\"SaveTool\"},{\"id\":\"f8876a45-8310-49cd-a3ed-e9eeb308c252\",\"type\":\"ResetTool\"},{\"id\":\"f3267e13-8b90-44f8-a529-3d40b9561fb6\",\"type\":\"HelpTool\"}]},\"id\":\"e7b4c1a6-2ab2-4026-bca6-ceed986bdb94\",\"type\":\"Toolbar\"},{\"attributes\":{\"dimension\":1,\"plot\":{\"id\":\"0eebc1b0-692c-435b-b9fb-1501d88240ba\",\"subtype\":\"Figure\",\"type\":\"Plot\"},\"ticker\":{\"id\":\"8477e78c-afe1-43d0-bd65-de56fa73b739\",\"type\":\"LogTicker\"}},\"id\":\"dd0121b4-7b9c-419d-be82-8ce8aa091005\",\"type\":\"Grid\"},{\"attributes\":{\"axis_label\":\"pressure [mb]\",\"formatter\":{\"id\":\"c13cb10a-9a3f-4418-9a2c-9f06be1b5ebc\",\"type\":\"BasicTickFormatter\"},\"plot\":{\"id\":\"5324121b-bef9-41a1-9b50-d0e45b786ecc\",\"subtype\":\"Figure\",\"type\":\"Plot\"},\"ticker\":{\"id\":\"e95f6883-09eb-49e3-87f3-b79021359a24\",\"type\":\"BasicTicker\"}},\"id\":\"dfaecfda-95d3-49e7-ac12-e65137b8570c\",\"type\":\"LinearAxis\"},{\"attributes\":{\"line_alpha\":0.6,\"line_color\":\"#e41a1c\",\"line_dash\":[6],\"line_width\":5,\"x\":{\"field\":\"x\"},\"y\":{\"field\":\"y\"}},\"id\":\"9f380c4b-f65c-4935-969a-ac76b94d5dd3\",\"type\":\"Line\"},{\"attributes\":{},\"id\":\"e733a860-e97a-446e-a5ab-6df429582e3d\",\"type\":\"BasicTicker\"},{\"attributes\":{},\"id\":\"6663e9d0-b720-4376-880e-e3f1cfd4517d\",\"type\":\"SaveTool\"},{\"attributes\":{},\"id\":\"fd4b3146-5ce0-4683-8dc8-f51d24d55784\",\"type\":\"Selection\"},{\"attributes\":{},\"id\":\"19de055c-dfd3-43bf-8e48-67b34f30d7fc\",\"type\":\"BasicTickFormatter\"},{\"attributes\":{},\"id\":\"1b445aaf-11fe-4e70-bd08-792100cf2767\",\"type\":\"BasicTickFormatter\"},{\"attributes\":{\"fill_alpha\":{\"value\":0.7},\"fill_color\":{\"value\":\"#984ea3\"},\"line_alpha\":{\"value\":0.7},\"line_color\":{\"value\":\"#984ea3\"},\"x\":{\"field\":\"x\"},\"y\":{\"field\":\"y\"}},\"id\":\"a4e072ab-e92b-4519-9c82-ebacf69b1873\",\"type\":\"Circle\"},{\"attributes\":{},\"id\":\"a385f200-143f-46ed-900e-35fce3e19684\",\"type\":\"SaveTool\"},{\"attributes\":{\"line_alpha\":0.1,\"line_color\":\"#1f77b4\",\"line_width\":1.5,\"x\":{\"field\":\"x\"},\"y\":{\"field\":\"y\"}},\"id\":\"fd008df2-70c9-497a-b0cd-bbda5c503cf6\",\"type\":\"Line\"},{\"attributes\":{\"fill_alpha\":{\"value\":0.1},\"fill_color\":{\"value\":\"#1f77b4\"},\"line_alpha\":{\"value\":0.1},\"line_color\":{\"value\":\"#1f77b4\"},\"x\":{\"field\":\"x\"},\"y\":{\"field\":\"y\"}},\"id\":\"75ffc095-e044-49ec-a6b0-22dfb9aa2da0\",\"type\":\"Circle\"},{\"attributes\":{},\"id\":\"eeb81d7e-3406-4506-b3d0-10ce88006106\",\"type\":\"Selection\"},{\"attributes\":{},\"id\":\"5f958c27-3358-4c99-9050-94a8cdc89ccf\",\"type\":\"Selection\"},{\"attributes\":{\"active_drag\":\"auto\",\"active_inspect\":\"auto\",\"active_scroll\":\"auto\",\"active_tap\":\"auto\",\"tools\":[{\"id\":\"42af1c44-e735-49ef-99f1-923824955129\",\"type\":\"PanTool\"},{\"id\":\"26e8cf10-1e87-4335-8d55-f283ad549c68\",\"type\":\"WheelZoomTool\"},{\"id\":\"87c282e0-4c8d-45b8-bce1-06126564b95f\",\"type\":\"BoxZoomTool\"},{\"id\":\"a385f200-143f-46ed-900e-35fce3e19684\",\"type\":\"SaveTool\"},{\"id\":\"2bb4e524-7728-4bdd-9fca-bf2aca81e52e\",\"type\":\"ResetTool\"},{\"id\":\"415c17a0-8bf0-4ab3-a992-1ea8770d341f\",\"type\":\"HelpTool\"}]},\"id\":\"1da590fa-4b83-4050-8848-18c78454fefc\",\"type\":\"Toolbar\"},{\"attributes\":{},\"id\":\"2bb4e524-7728-4bdd-9fca-bf2aca81e52e\",\"type\":\"ResetTool\"},{\"attributes\":{\"line_alpha\":0.1,\"line_color\":\"#1f77b4\",\"line_width\":1.5,\"x\":{\"field\":\"x\"},\"y\":{\"field\":\"y\"}},\"id\":\"df488b4b-b6ae-44e7-a2c4-d558909e514a\",\"type\":\"Line\"},{\"attributes\":{},\"id\":\"f27e0c88-9a76-4682-b3aa-c5c15562090c\",\"type\":\"UnionRenderers\"},{\"attributes\":{\"children\":[{\"id\":\"5324121b-bef9-41a1-9b50-d0e45b786ecc\",\"subtype\":\"Figure\",\"type\":\"Plot\"},{\"id\":\"0eebc1b0-692c-435b-b9fb-1501d88240ba\",\"subtype\":\"Figure\",\"type\":\"Plot\"},{\"id\":\"475a25c6-8941-45e5-aa58-645f0db0a8cd\",\"subtype\":\"Figure\",\"type\":\"Plot\"}]},\"id\":\"866a4765-c43e-461b-b3e1-dbe6ca85f12b\",\"type\":\"Row\"},{\"attributes\":{\"data_source\":{\"id\":\"6c0f832a-ba09-49b9-9252-deb158a35b62\",\"type\":\"ColumnDataSource\"},\"glyph\":{\"id\":\"9f380c4b-f65c-4935-969a-ac76b94d5dd3\",\"type\":\"Line\"},\"hover_glyph\":null,\"muted_glyph\":null,\"nonselection_glyph\":{\"id\":\"96743a91-6667-4841-962b-d599a7b7476e\",\"type\":\"Line\"},\"selection_glyph\":null,\"view\":{\"id\":\"8641104e-6c77-4989-965f-ac42f72fb43c\",\"type\":\"CDSView\"}},\"id\":\"93246ae6-855b-41d3-87c6-ff3e8a6475d2\",\"type\":\"GlyphRenderer\"},{\"attributes\":{\"data_source\":{\"id\":\"2c9d80fc-6fe4-43da-b226-b8cfbbfd3a6d\",\"type\":\"ColumnDataSource\"},\"glyph\":{\"id\":\"def15a4f-bd4a-4a89-8f49-2d8dad92eeb8\",\"type\":\"Line\"},\"hover_glyph\":null,\"muted_glyph\":null,\"nonselection_glyph\":{\"id\":\"ec40660a-2459-4d8f-8f42-911ae64e20cf\",\"type\":\"Line\"},\"selection_glyph\":null,\"view\":{\"id\":\"bc327765-94f1-48d6-84ce-ae670358496f\",\"type\":\"CDSView\"}},\"id\":\"e7a2937a-da7a-4171-be16-28ab9e31c228\",\"type\":\"GlyphRenderer\"},{\"attributes\":{\"line_alpha\":0.8,\"line_color\":\"#984ea3\",\"line_width\":1.5,\"x\":{\"field\":\"x\"},\"y\":{\"field\":\"y\"}},\"id\":\"def15a4f-bd4a-4a89-8f49-2d8dad92eeb8\",\"type\":\"Line\"},{\"attributes\":{},\"id\":\"f2faf028-f745-4862-9637-2ce1413c4f20\",\"type\":\"UnionRenderers\"},{\"attributes\":{\"plot\":null,\"text\":\"\"},\"id\":\"e1606c09-6cbc-42e4-910c-840825d100de\",\"type\":\"Title\"},{\"attributes\":{\"callback\":null,\"data\":{\"x\":{\"__ndarray__\":\"DhA6LgnuFUCOA6cWwXwRQIaSu1M4xA9AQAMEgvhdDEC3Zrtdq+oIQEeVrsxZkgVAl3MNK5VwAkAWLN9WfSj/PxV9u9to/vk/+oeSRnJd9T82OzktEz/xPzr8qP+HL+s/YydxAkqX5D+Pm3Jg8rfcP46pznHNAtc/bNCy2KWL2T8pnB/8X77dP9htcjpZ1+A/7+kP1Asp4z80e1SU7DHmPxAmBhFnpuo/Jqoyz2Re8D+JK70rS4XwP9z5UfKnfOw/H97+PDWp6D/D5C1ywRblP9hLP3sTrOI/m/ZvUSsJ4T/F063RH3HfP93Oesp+FN0/4XgRyajT2j+IdsTWTZnYPwjJ1PcbY9Y/iU9V0T9W1D/sHOF8VJzQP1QtjO0um8U/6bQ0ZYxYuD/1J4P3Y6W7Pxxm+NtS6MY/WzYxcikz0D9lsFArPhXbP7MLVBpdtuw/aXNnQeld9j/WGMFEFND8P3WwpsFjdABAZYJA3Vx+AUAqPFXzIO8BQHD8WV5e3wFAdjsNZSDrAEDjiXh3c3IAQJO6SqN8MQBAk9nLt/gRAEDEkhDyow8AQFNqhDRiJQBAGHEQ3OBYAECV8j60rZkAQOjBZLiv3QBAIKnC9eEeAUCuZJcNClkBQDuBsws7nQFA1sT9pRf1AUCGQUVHBUUCQMOa3IVsQAJAzZGQpkyiAkB9mDR73fIBQCCu/qw87ABAt+FhpfwHAEAI+LIQxM39P/FRyNyYZfw/EHNomRWu+z+Opg6laGX7P51uIx3afvs/39nOmgcL/D/KA59Lol79P6/0U3x5HgRA\",\"dtype\":\"float64\",\"shape\":[75]},\"y\":{\"__ndarray__\":\"GhExyth1ND/Sv8nbtpRIP2vylNV0PVE/aTum7souWD/At0SJ8fVgPw3Iuahxymc/MSNhhJWvcD/bTfBN02d3P2zb5nxnaoA/CD5h5MAGhz8NmeH1TyaQP+zrCsc9p5Y/LbKd76fGnz/bLW5ISEmmPww9YvTcQq8/JV2OstnstT8Er5Y7M8G+P0c+r3jqkcU/5h99k6ZBzj88bCIzFzjVP4enV8oyxN0//yH99nXg5D8qOpLLf0jtP5kqGJXUifQ/c9cS8kHP/D+/DpwzojQEQIEmwoanVwxA4lgXt9HgE0BSSZ2AJuIbQAMJih9jjiNA5q4l5INuK0AwTKYKRj0zQNv5fmq8/DpAaCJseHrtQkB/+zpwzoxKQM3MzMzMeFJAZmZmZmZqWEAAAAAAAFxeQM3MzMzMJmJAmpmZmZkfZUBmZmZmZhhoQDMzMzMzEWtAAAAAAAAKbkBmZmZmZoFwQM3MzMzM/XFAMzMzMzN6c0CamZmZmfZ0QAAAAAAAc3ZAZmZmZmbvd0DNzMzMzGt5QDMzMzMz6HpAmpmZmZlkfEAAAAAAAOF9QGZmZmZmXX9AZmZmZuZsgECamZmZGSuBQM3MzMxM6YFAAAAAAICngkAzMzMzs2WDQGZmZmbmI4RAmpmZmRnihEDNzMzMTKCFQAAAAACAXoZAMzMzM7Mch0BmZmZm5tqHQJqZmZkZmYhAzczMzExXiUAAAAAAgBWKQDMzMzOz04pAZmZmZuaRi0CamZmZGVCMQM3MzMxMDo1AAAAAAIDMjUAzMzMzs4qOQGZmZmbmSI9A\",\"dtype\":\"float64\",\"shape\":[75]}},\"selected\":{\"id\":\"a296b580-b461-43b1-8954-a75beb720fc7\",\"type\":\"Selection\"},\"selection_policy\":{\"id\":\"7b159ef4-6e90-4baf-8486-973224bc346e\",\"type\":\"UnionRenderers\"}},\"id\":\"d7620bd4-ba4a-4a00-bdb1-a3fff6233618\",\"type\":\"ColumnDataSource\"},{\"attributes\":{\"ticker\":null},\"id\":\"437c96a1-3830-4122-89aa-cec2154433f2\",\"type\":\"LogTickFormatter\"},{\"attributes\":{\"callback\":null,\"data\":{\"x\":{\"__ndarray__\":\"DhA6LgnuFUCOA6cWwXwRQIaSu1M4xA9AQAMEgvhdDEC3Zrtdq+oIQEeVrsxZkgVAl3MNK5VwAkAWLN9WfSj/PxV9u9to/vk/+oeSRnJd9T82OzktEz/xPzr8qP+HL+s/YydxAkqX5D+Pm3Jg8rfcP46pznHNAtc/bNCy2KWL2T8pnB/8X77dP9htcjpZ1+A/7+kP1Asp4z80e1SU7DHmPxAmBhFnpuo/Jqoyz2Re8D+JK70rS4XwP9z5UfKnfOw/H97+PDWp6D/D5C1ywRblP9hLP3sTrOI/m/ZvUSsJ4T/F063RH3HfP93Oesp+FN0/4XgRyajT2j+IdsTWTZnYPwjJ1PcbY9Y/iU9V0T9W1D/sHOF8VJzQP1QtjO0um8U/6bQ0ZYxYuD/1J4P3Y6W7Pxxm+NtS6MY/WzYxcikz0D9lsFArPhXbP7MLVBpdtuw/aXNnQeld9j/WGMFEFND8P3WwpsFjdABAZYJA3Vx+AUAqPFXzIO8BQHD8WV5e3wFAdjsNZSDrAEDjiXh3c3IAQJO6SqN8MQBAk9nLt/gRAEDEkhDyow8AQFNqhDRiJQBAGHEQ3OBYAECV8j60rZkAQOjBZLiv3QBAIKnC9eEeAUCuZJcNClkBQDuBsws7nQFA1sT9pRf1AUCGQUVHBUUCQMOa3IVsQAJAzZGQpkyiAkB9mDR73fIBQCCu/qw87ABAt+FhpfwHAEAI+LIQxM39P/FRyNyYZfw/EHNomRWu+z+Opg6laGX7P51uIx3afvs/39nOmgcL/D/KA59Lol79P6/0U3x5HgRA\",\"dtype\":\"float64\",\"shape\":[75]},\"y\":{\"__ndarray__\":\"GhExyth1ND/Sv8nbtpRIP2vylNV0PVE/aTum7souWD/At0SJ8fVgPw3Iuahxymc/MSNhhJWvcD/bTfBN02d3P2zb5nxnaoA/CD5h5MAGhz8NmeH1TyaQP+zrCsc9p5Y/LbKd76fGnz/bLW5ISEmmPww9YvTcQq8/JV2OstnstT8Er5Y7M8G+P0c+r3jqkcU/5h99k6ZBzj88bCIzFzjVP4enV8oyxN0//yH99nXg5D8qOpLLf0jtP5kqGJXUifQ/c9cS8kHP/D+/DpwzojQEQIEmwoanVwxA4lgXt9HgE0BSSZ2AJuIbQAMJih9jjiNA5q4l5INuK0AwTKYKRj0zQNv5fmq8/DpAaCJseHrtQkB/+zpwzoxKQM3MzMzMeFJAZmZmZmZqWEAAAAAAAFxeQM3MzMzMJmJAmpmZmZkfZUBmZmZmZhhoQDMzMzMzEWtAAAAAAAAKbkBmZmZmZoFwQM3MzMzM/XFAMzMzMzN6c0CamZmZmfZ0QAAAAAAAc3ZAZmZmZmbvd0DNzMzMzGt5QDMzMzMz6HpAmpmZmZlkfEAAAAAAAOF9QGZmZmZmXX9AZmZmZuZsgECamZmZGSuBQM3MzMxM6YFAAAAAAICngkAzMzMzs2WDQGZmZmbmI4RAmpmZmRnihEDNzMzMTKCFQAAAAACAXoZAMzMzM7Mch0BmZmZm5tqHQJqZmZkZmYhAzczMzExXiUAAAAAAgBWKQDMzMzOz04pAZmZmZuaRi0CamZmZGVCMQM3MzMxMDo1AAAAAAIDMjUAzMzMzs4qOQGZmZmbmSI9A\",\"dtype\":\"float64\",\"shape\":[75]}},\"selected\":{\"id\":\"661e4ed8-8548-4e75-b297-e3707295758b\",\"type\":\"Selection\"},\"selection_policy\":{\"id\":\"f2faf028-f745-4862-9637-2ce1413c4f20\",\"type\":\"UnionRenderers\"}},\"id\":\"350d746a-a30b-4b99-9cd6-b99521f940e8\",\"type\":\"ColumnDataSource\"},{\"attributes\":{\"callback\":null,\"data\":{\"x\":{\"__ndarray__\":\"DhA6LgnuFUCOA6cWwXwRQIaSu1M4xA9AQAMEgvhdDEC3Zrtdq+oIQEeVrsxZkgVAl3MNK5VwAkAWLN9WfSj/PxV9u9to/vk/+oeSRnJd9T82OzktEz/xPzr8qP+HL+s/YydxAkqX5D+Pm3Jg8rfcP46pznHNAtc/bNCy2KWL2T8pnB/8X77dP9htcjpZ1+A/7+kP1Asp4z80e1SU7DHmPxAmBhFnpuo/Jqoyz2Re8D+JK70rS4XwP9z5UfKnfOw/H97+PDWp6D/D5C1ywRblP9hLP3sTrOI/m/ZvUSsJ4T/F063RH3HfP93Oesp+FN0/4XgRyajT2j+IdsTWTZnYPwjJ1PcbY9Y/iU9V0T9W1D/sHOF8VJzQP1QtjO0um8U/6bQ0ZYxYuD/1J4P3Y6W7Pxxm+NtS6MY/WzYxcikz0D9lsFArPhXbP7MLVBpdtuw/aXNnQeld9j/WGMFEFND8P3WwpsFjdABAZYJA3Vx+AUAqPFXzIO8BQHD8WV5e3wFAdjsNZSDrAEDjiXh3c3IAQJO6SqN8MQBAk9nLt/gRAEDEkhDyow8AQFNqhDRiJQBAGHEQ3OBYAECV8j60rZkAQOjBZLiv3QBAIKnC9eEeAUCuZJcNClkBQDuBsws7nQFA1sT9pRf1AUCGQUVHBUUCQMOa3IVsQAJAzZGQpkyiAkB9mDR73fIBQCCu/qw87ABAt+FhpfwHAEAI+LIQxM39P/FRyNyYZfw/EHNomRWu+z+Opg6laGX7P51uIx3afvs/39nOmgcL/D/KA59Lol79P6/0U3x5HgRA\",\"dtype\":\"float64\",\"shape\":[75]},\"y\":{\"__ndarray__\":\"GhExyth1ND/Sv8nbtpRIP2vylNV0PVE/aTum7souWD/At0SJ8fVgPw3Iuahxymc/MSNhhJWvcD/bTfBN02d3P2zb5nxnaoA/CD5h5MAGhz8NmeH1TyaQP+zrCsc9p5Y/LbKd76fGnz/bLW5ISEmmPww9YvTcQq8/JV2OstnstT8Er5Y7M8G+P0c+r3jqkcU/5h99k6ZBzj88bCIzFzjVP4enV8oyxN0//yH99nXg5D8qOpLLf0jtP5kqGJXUifQ/c9cS8kHP/D+/DpwzojQEQIEmwoanVwxA4lgXt9HgE0BSSZ2AJuIbQAMJih9jjiNA5q4l5INuK0AwTKYKRj0zQNv5fmq8/DpAaCJseHrtQkB/+zpwzoxKQM3MzMzMeFJAZmZmZmZqWEAAAAAAAFxeQM3MzMzMJmJAmpmZmZkfZUBmZmZmZhhoQDMzMzMzEWtAAAAAAAAKbkBmZmZmZoFwQM3MzMzM/XFAMzMzMzN6c0CamZmZmfZ0QAAAAAAAc3ZAZmZmZmbvd0DNzMzMzGt5QDMzMzMz6HpAmpmZmZlkfEAAAAAAAOF9QGZmZmZmXX9AZmZmZuZsgECamZmZGSuBQM3MzMxM6YFAAAAAAICngkAzMzMzs2WDQGZmZmbmI4RAmpmZmRnihEDNzMzMTKCFQAAAAACAXoZAMzMzM7Mch0BmZmZm5tqHQJqZmZkZmYhAzczMzExXiUAAAAAAgBWKQDMzMzOz04pAZmZmZuaRi0CamZmZGVCMQM3MzMxMDo1AAAAAAIDMjUAzMzMzs4qOQGZmZmbmSI9A\",\"dtype\":\"float64\",\"shape\":[75]}},\"selected\":{\"id\":\"6c846778-20f4-4a4c-93fd-352d5d322569\",\"type\":\"Selection\"},\"selection_policy\":{\"id\":\"f27e0c88-9a76-4682-b3aa-c5c15562090c\",\"type\":\"UnionRenderers\"}},\"id\":\"489fb635-ed0f-4140-8efc-772e01b873ba\",\"type\":\"ColumnDataSource\"},{\"attributes\":{\"data_source\":{\"id\":\"7e87148a-6c29-4fad-8bb6-d710484daa57\",\"type\":\"ColumnDataSource\"},\"glyph\":{\"id\":\"a4e072ab-e92b-4519-9c82-ebacf69b1873\",\"type\":\"Circle\"},\"hover_glyph\":null,\"muted_glyph\":null,\"nonselection_glyph\":{\"id\":\"6cbd2748-5d71-4f1f-9bd6-9d7c634d5b76\",\"type\":\"Circle\"},\"selection_glyph\":null,\"view\":{\"id\":\"2110be8a-1707-4534-b847-2c53e250f2cb\",\"type\":\"CDSView\"}},\"id\":\"db921416-cd75-43ee-947e-86a828c86ebf\",\"type\":\"GlyphRenderer\"},{\"attributes\":{\"line_alpha\":0.1,\"line_color\":\"#1f77b4\",\"line_dash\":[6],\"line_width\":5,\"x\":{\"field\":\"x\"},\"y\":{\"field\":\"y\"}},\"id\":\"bfcc98dd-617c-429c-8378-2b0f38a875aa\",\"type\":\"Line\"},{\"attributes\":{\"source\":{\"id\":\"d7620bd4-ba4a-4a00-bdb1-a3fff6233618\",\"type\":\"ColumnDataSource\"}},\"id\":\"d9a4d815-6bdd-40a1-8b71-d788f6c4b636\",\"type\":\"CDSView\"},{\"attributes\":{\"line_color\":\"#4daf4a\",\"line_width\":1.5,\"x\":{\"field\":\"x\"},\"y\":{\"field\":\"y\"}},\"id\":\"b17e2828-00a5-4901-bae7-7e3c9bd19f86\",\"type\":\"Line\"},{\"attributes\":{},\"id\":\"fbb4121e-25bf-494b-bd1d-60d7fea04bfd\",\"type\":\"UnionRenderers\"},{\"attributes\":{\"label\":{\"value\":\"CLIRAD - CRD\"},\"renderers\":[{\"id\":\"db921416-cd75-43ee-947e-86a828c86ebf\",\"type\":\"GlyphRenderer\"},{\"id\":\"e7a2937a-da7a-4171-be16-28ab9e31c228\",\"type\":\"GlyphRenderer\"}]},\"id\":\"42e19abb-6b04-4580-9372-f05e1580364b\",\"type\":\"LegendItem\"},{\"attributes\":{},\"id\":\"c13cb10a-9a3f-4418-9a2c-9f06be1b5ebc\",\"type\":\"BasicTickFormatter\"},{\"attributes\":{},\"id\":\"2253641f-b24d-4804-8ad3-69d7bbcd3c3c\",\"type\":\"UnionRenderers\"},{\"attributes\":{\"children\":[{\"id\":\"866a4765-c43e-461b-b3e1-dbe6ca85f12b\",\"type\":\"Row\"}]},\"id\":\"e196b6e7-d60a-432d-8d0c-703283b1656c\",\"type\":\"Column\"},{\"attributes\":{\"children\":[{\"id\":\"888423bc-b5ff-429c-9f14-6ad10aa2549f\",\"type\":\"ToolbarBox\"},{\"id\":\"e196b6e7-d60a-432d-8d0c-703283b1656c\",\"type\":\"Column\"}]},\"id\":\"e1c24109-f608-48c2-b42d-dce795cf8d1d\",\"type\":\"Column\"},{\"attributes\":{\"plot\":null,\"text\":\"\"},\"id\":\"e04fc0ba-c5fe-40ae-a25b-e83d8192308f\",\"type\":\"Title\"},{\"attributes\":{\"source\":{\"id\":\"489fb635-ed0f-4140-8efc-772e01b873ba\",\"type\":\"ColumnDataSource\"}},\"id\":\"cc0388af-22b2-4c99-a1b6-5a74abbab50e\",\"type\":\"CDSView\"},{\"attributes\":{\"tools\":[{\"id\":\"501c7d73-6e15-432d-b385-95893c6e009f\",\"type\":\"PanTool\"},{\"id\":\"f269318d-48ff-4ea8-b699-fd8f0d28ea06\",\"type\":\"WheelZoomTool\"},{\"id\":\"2a448955-1862-48e5-8e10-0b9e549d9285\",\"type\":\"BoxZoomTool\"},{\"id\":\"6663e9d0-b720-4376-880e-e3f1cfd4517d\",\"type\":\"SaveTool\"},{\"id\":\"f8876a45-8310-49cd-a3ed-e9eeb308c252\",\"type\":\"ResetTool\"},{\"id\":\"f3267e13-8b90-44f8-a529-3d40b9561fb6\",\"type\":\"HelpTool\"},{\"id\":\"42af1c44-e735-49ef-99f1-923824955129\",\"type\":\"PanTool\"},{\"id\":\"26e8cf10-1e87-4335-8d55-f283ad549c68\",\"type\":\"WheelZoomTool\"},{\"id\":\"87c282e0-4c8d-45b8-bce1-06126564b95f\",\"type\":\"BoxZoomTool\"},{\"id\":\"a385f200-143f-46ed-900e-35fce3e19684\",\"type\":\"SaveTool\"},{\"id\":\"2bb4e524-7728-4bdd-9fca-bf2aca81e52e\",\"type\":\"ResetTool\"},{\"id\":\"415c17a0-8bf0-4ab3-a992-1ea8770d341f\",\"type\":\"HelpTool\"},{\"id\":\"668e0b75-23ee-45de-8f2a-7aaa0c794c1a\",\"type\":\"PanTool\"},{\"id\":\"06d318f5-1428-44f6-a7e7-aa376c707d6e\",\"type\":\"WheelZoomTool\"},{\"id\":\"fe3eb58f-5271-4861-9aea-9445dcbcb42e\",\"type\":\"BoxZoomTool\"},{\"id\":\"869c7b63-5df1-4c87-af11-fa72e52b8349\",\"type\":\"SaveTool\"},{\"id\":\"23b50145-8094-47b4-ac71-df1741026aa1\",\"type\":\"ResetTool\"},{\"id\":\"ac4e651e-7897-4d9e-8686-445e22701e0b\",\"type\":\"HelpTool\"}]},\"id\":\"0988a241-9c10-4335-9b3f-549b162f4fc1\",\"type\":\"ProxyToolbar\"},{\"attributes\":{\"source\":{\"id\":\"7e87148a-6c29-4fad-8bb6-d710484daa57\",\"type\":\"ColumnDataSource\"}},\"id\":\"2110be8a-1707-4534-b847-2c53e250f2cb\",\"type\":\"CDSView\"},{\"attributes\":{\"source\":{\"id\":\"5dae6b9e-512a-4b26-8828-3aee893416e2\",\"type\":\"ColumnDataSource\"}},\"id\":\"ae4d947a-a731-409b-92aa-a4aa2dd053a5\",\"type\":\"CDSView\"},{\"attributes\":{\"fill_alpha\":{\"value\":0.1},\"fill_color\":{\"value\":\"#1f77b4\"},\"line_alpha\":{\"value\":0.1},\"line_color\":{\"value\":\"#1f77b4\"},\"x\":{\"field\":\"x\"},\"y\":{\"field\":\"y\"}},\"id\":\"ace4ddc2-8948-4aac-91f6-d783e1a81fb7\",\"type\":\"Circle\"},{\"attributes\":{\"data_source\":{\"id\":\"17a62aac-3e2e-401b-b39e-a5a07cb6c9a5\",\"type\":\"ColumnDataSource\"},\"glyph\":{\"id\":\"b17e2828-00a5-4901-bae7-7e3c9bd19f86\",\"type\":\"Line\"},\"hover_glyph\":null,\"muted_glyph\":null,\"nonselection_glyph\":{\"id\":\"fd008df2-70c9-497a-b0cd-bbda5c503cf6\",\"type\":\"Line\"},\"selection_glyph\":null,\"view\":{\"id\":\"7fee4308-0c17-4b46-bf7f-bcfa197b698c\",\"type\":\"CDSView\"}},\"id\":\"21eea0ae-9520-4a76-b0de-7dfcafd26e51\",\"type\":\"GlyphRenderer\"},{\"attributes\":{\"fill_alpha\":{\"value\":0.1},\"fill_color\":{\"value\":\"#1f77b4\"},\"line_alpha\":{\"value\":0.1},\"line_color\":{\"value\":\"#1f77b4\"},\"x\":{\"field\":\"x\"},\"y\":{\"field\":\"y\"}},\"id\":\"6cbd2748-5d71-4f1f-9bd6-9d7c634d5b76\",\"type\":\"Circle\"},{\"attributes\":{},\"id\":\"a296b580-b461-43b1-8954-a75beb720fc7\",\"type\":\"Selection\"},{\"attributes\":{\"fill_alpha\":{\"value\":0.7},\"fill_color\":{\"value\":\"#4daf4a\"},\"line_alpha\":{\"value\":0.7},\"line_color\":{\"value\":\"#4daf4a\"},\"x\":{\"field\":\"x\"},\"y\":{\"field\":\"y\"}},\"id\":\"b6d9d407-9211-4fdf-b9ae-73c602bce66d\",\"type\":\"Circle\"},{\"attributes\":{},\"id\":\"97e21192-81ab-49c5-95ee-40594e89c731\",\"type\":\"Selection\"},{\"attributes\":{\"ticker\":null},\"id\":\"ce865cdf-394b-4a35-9d4c-42ed354a345c\",\"type\":\"LogTickFormatter\"},{\"attributes\":{},\"id\":\"661e4ed8-8548-4e75-b297-e3707295758b\",\"type\":\"Selection\"},{\"attributes\":{},\"id\":\"414de53b-810f-4d80-9903-0ec151914eca\",\"type\":\"Selection\"},{\"attributes\":{\"toolbar\":{\"id\":\"0988a241-9c10-4335-9b3f-549b162f4fc1\",\"type\":\"ProxyToolbar\"},\"toolbar_location\":\"above\"},\"id\":\"888423bc-b5ff-429c-9f14-6ad10aa2549f\",\"type\":\"ToolbarBox\"},{\"attributes\":{\"above\":[{\"id\":\"0c919f2f-fc26-4b5a-880a-e60a8d0dbb55\",\"type\":\"Legend\"}],\"below\":[{\"id\":\"3bbbb1c9-a6f5-49a2-8f9c-6330cd0d8d29\",\"type\":\"LinearAxis\"}],\"left\":[{\"id\":\"563155d0-bf17-401b-83ab-b9897dbf6296\",\"type\":\"LogAxis\"}],\"plot_width\":300,\"renderers\":[{\"id\":\"3bbbb1c9-a6f5-49a2-8f9c-6330cd0d8d29\",\"type\":\"LinearAxis\"},{\"id\":\"3f42f7eb-08b8-455b-9472-b79b83fe5251\",\"type\":\"Grid\"},{\"id\":\"563155d0-bf17-401b-83ab-b9897dbf6296\",\"type\":\"LogAxis\"},{\"id\":\"dd0121b4-7b9c-419d-be82-8ce8aa091005\",\"type\":\"Grid\"},{\"id\":\"8bc193e1-6cc1-4367-8506-1c9caa0a343d\",\"type\":\"BoxAnnotation\"},{\"id\":\"2e592802-aa8d-4222-8374-d7d2b4aaf470\",\"type\":\"GlyphRenderer\"},{\"id\":\"e0883cca-504f-464b-be2e-b506695c9091\",\"type\":\"GlyphRenderer\"},{\"id\":\"21eea0ae-9520-4a76-b0de-7dfcafd26e51\",\"type\":\"GlyphRenderer\"},{\"id\":\"0c919f2f-fc26-4b5a-880a-e60a8d0dbb55\",\"type\":\"Legend\"}],\"title\":{\"id\":\"e1606c09-6cbc-42e4-910c-840825d100de\",\"type\":\"Title\"},\"toolbar\":{\"id\":\"1da590fa-4b83-4050-8848-18c78454fefc\",\"type\":\"Toolbar\"},\"toolbar_location\":null,\"x_range\":{\"id\":\"174cfd55-78e4-4093-a35b-8c0313ab83fb\",\"type\":\"Range1d\"},\"x_scale\":{\"id\":\"3ae69232-076f-4252-8fe3-7149d47947d9\",\"type\":\"LinearScale\"},\"y_range\":{\"id\":\"98bac652-301f-4550-8ee6-d373f62ebcc4\",\"type\":\"Range1d\"},\"y_scale\":{\"id\":\"2105acfe-d433-40e6-81c5-1d66aaa555ae\",\"type\":\"LogScale\"}},\"id\":\"0eebc1b0-692c-435b-b9fb-1501d88240ba\",\"subtype\":\"Figure\",\"type\":\"Plot\"},{\"attributes\":{\"source\":{\"id\":\"17a62aac-3e2e-401b-b39e-a5a07cb6c9a5\",\"type\":\"ColumnDataSource\"}},\"id\":\"7fee4308-0c17-4b46-bf7f-bcfa197b698c\",\"type\":\"CDSView\"},{\"attributes\":{\"data_source\":{\"id\":\"350d746a-a30b-4b99-9cd6-b99521f940e8\",\"type\":\"ColumnDataSource\"},\"glyph\":{\"id\":\"024b9557-682b-4dda-b288-2a6171b61122\",\"type\":\"Line\"},\"hover_glyph\":null,\"muted_glyph\":null,\"nonselection_glyph\":{\"id\":\"df488b4b-b6ae-44e7-a2c4-d558909e514a\",\"type\":\"Line\"},\"selection_glyph\":null,\"view\":{\"id\":\"5fc8456b-f33c-4b14-886e-6834ce30eeb2\",\"type\":\"CDSView\"}},\"id\":\"67ca8913-57b7-4108-bdfa-3d8b51101237\",\"type\":\"GlyphRenderer\"},{\"attributes\":{\"label\":{\"value\":\"CLIRAD\"},\"renderers\":[{\"id\":\"93246ae6-855b-41d3-87c6-ff3e8a6475d2\",\"type\":\"GlyphRenderer\"}]},\"id\":\"5fbbb904-da22-45c9-bc46-02b78791d030\",\"type\":\"LegendItem\"},{\"attributes\":{\"data_source\":{\"id\":\"489fb635-ed0f-4140-8efc-772e01b873ba\",\"type\":\"ColumnDataSource\"},\"glyph\":{\"id\":\"7934e6e4-bed0-4ed3-a476-8baddaa4aab3\",\"type\":\"Circle\"},\"hover_glyph\":null,\"muted_glyph\":null,\"nonselection_glyph\":{\"id\":\"75ffc095-e044-49ec-a6b0-22dfb9aa2da0\",\"type\":\"Circle\"},\"selection_glyph\":null,\"view\":{\"id\":\"cc0388af-22b2-4c99-a1b6-5a74abbab50e\",\"type\":\"CDSView\"}},\"id\":\"e0883cca-504f-464b-be2e-b506695c9091\",\"type\":\"GlyphRenderer\"},{\"attributes\":{\"line_color\":\"#4daf4a\",\"line_width\":1.5,\"x\":{\"field\":\"x\"},\"y\":{\"field\":\"y\"}},\"id\":\"024b9557-682b-4dda-b288-2a6171b61122\",\"type\":\"Line\"},{\"attributes\":{\"callback\":null,\"end\":0.01,\"start\":1020},\"id\":\"98bac652-301f-4550-8ee6-d373f62ebcc4\",\"type\":\"Range1d\"},{\"attributes\":{},\"id\":\"84e6c1b0-2129-4ce2-8d06-4bff731e06bf\",\"type\":\"UnionRenderers\"},{\"attributes\":{\"data_source\":{\"id\":\"d7620bd4-ba4a-4a00-bdb1-a3fff6233618\",\"type\":\"ColumnDataSource\"},\"glyph\":{\"id\":\"b6d9d407-9211-4fdf-b9ae-73c602bce66d\",\"type\":\"Circle\"},\"hover_glyph\":null,\"muted_glyph\":null,\"nonselection_glyph\":{\"id\":\"ace4ddc2-8948-4aac-91f6-d783e1a81fb7\",\"type\":\"Circle\"},\"selection_glyph\":null,\"view\":{\"id\":\"d9a4d815-6bdd-40a1-8b71-d788f6c4b636\",\"type\":\"CDSView\"}},\"id\":\"7de20ff0-aeb2-4743-b131-00986cede785\",\"type\":\"GlyphRenderer\"},{\"attributes\":{},\"id\":\"7bf9e177-de09-4d07-b9f3-dc233b33f784\",\"type\":\"BasicTickFormatter\"},{\"attributes\":{\"label\":{\"value\":\"CRD\"},\"renderers\":[{\"id\":\"7de20ff0-aeb2-4743-b131-00986cede785\",\"type\":\"GlyphRenderer\"},{\"id\":\"67ca8913-57b7-4108-bdfa-3d8b51101237\",\"type\":\"GlyphRenderer\"}]},\"id\":\"6c9848c6-0c95-46ea-8715-1afe38bf5267\",\"type\":\"LegendItem\"},{\"attributes\":{\"line_alpha\":0.6,\"line_color\":\"#e41a1c\",\"line_dash\":[6],\"line_width\":5,\"x\":{\"field\":\"x\"},\"y\":{\"field\":\"y\"}},\"id\":\"1db5227c-acef-4d8c-bc15-532fda30bfcc\",\"type\":\"Line\"},{\"attributes\":{\"callback\":null,\"end\":1.3479226414226473,\"start\":0.06184732608205297},\"id\":\"174cfd55-78e4-4093-a35b-8c0313ab83fb\",\"type\":\"Range1d\"},{\"attributes\":{},\"id\":\"6c846778-20f4-4a4c-93fd-352d5d322569\",\"type\":\"Selection\"},{\"attributes\":{},\"id\":\"74dd6e14-bb4a-4189-b1ea-9d23c171f29b\",\"type\":\"UnionRenderers\"},{\"attributes\":{},\"id\":\"7b159ef4-6e90-4baf-8486-973224bc346e\",\"type\":\"UnionRenderers\"},{\"attributes\":{},\"id\":\"415c17a0-8bf0-4ab3-a992-1ea8770d341f\",\"type\":\"HelpTool\"},{\"attributes\":{\"plot\":null,\"text\":\"\"},\"id\":\"950ba09f-1d56-4bea-8522-59a4231043ed\",\"type\":\"Title\"},{\"attributes\":{\"line_alpha\":0.1,\"line_color\":\"#1f77b4\",\"line_width\":1.5,\"x\":{\"field\":\"x\"},\"y\":{\"field\":\"y\"}},\"id\":\"ec40660a-2459-4d8f-8f42-911ae64e20cf\",\"type\":\"Line\"},{\"attributes\":{\"bottom_units\":\"screen\",\"fill_alpha\":{\"value\":0.5},\"fill_color\":{\"value\":\"lightgrey\"},\"left_units\":\"screen\",\"level\":\"overlay\",\"line_alpha\":{\"value\":1.0},\"line_color\":{\"value\":\"black\"},\"line_dash\":[4,4],\"line_width\":{\"value\":2},\"plot\":null,\"render_mode\":\"css\",\"right_units\":\"screen\",\"top_units\":\"screen\"},\"id\":\"8bc193e1-6cc1-4367-8506-1c9caa0a343d\",\"type\":\"BoxAnnotation\"},{\"attributes\":{\"fill_alpha\":{\"value\":0.7},\"fill_color\":{\"value\":\"#4daf4a\"},\"line_alpha\":{\"value\":0.7},\"line_color\":{\"value\":\"#4daf4a\"},\"x\":{\"field\":\"x\"},\"y\":{\"field\":\"y\"}},\"id\":\"7934e6e4-bed0-4ed3-a476-8baddaa4aab3\",\"type\":\"Circle\"},{\"attributes\":{\"callback\":null,\"data\":{\"x\":{\"__ndarray__\":\"wb2hiKDfAsDyLTVuMbj2vzRvNiw3gPG/Zpf3wMUd6b8IJWMezJ7gvwlDg0sBqtS/uZvYBPCIyr/aA9YA4GrFv4Z2P4bhkMa/sFraXuqoyL+jaSxEbPPGv1j223o6NsC/sbXDRT41rL/XvX2QXdFzP2Fs3oieWpY/zMbMIdT0N7+5eQDdY7mcv/gC2wbO2aS/J8b6MHQnor9oFyYpDAmYvzGvHosIXpa/MFp2SS6Rob/qW1exrxuUv6PApkQSBJE/dJbLXqYCqD9e1OxN6R2oP0xqCtP5FaM/cPr6xu3JiT8xrfjpFeyGv0XX+93q4Yy/J87HRSjter9l+JbHIImCv5W7mCMrbXK/GPRxuPSXUL8XPL+AE/h+v8nUqm05P42/IJMxNAYklb+4HU8PLjKYv92IbJs+mZe//vPTBxX+lb9sT8SwSa6Wv7kStBN9MpK/WfcKyCfslr9pv1cFwERZvw9maN5NcJa/lMDXGKy/tb83u1m1Eleov8LGpElPOaC/RN348ozmrb/cOBlQD9+vvwNyS8Whj6S/w6pVfVy/l7/F+LrgWWiGv06eKjw3z5K/JD1QqmIKkr9OlOC3H3yWv8aqUMLj0nW/nvYl/7mGkj/ZIGp54tSjP2bcyRccdKc/FuNmxSuhoj+TnQiMPOOTP5iRCyThqGA/pAYlDtHPgT+AnumUrKuaP6n/Tbwkq6o/uj2OFSYbsj94cZWK8VG1PxqU12POLrQ/DvVKgHKAsj/4StmfgXK2P8hH1sEF5rk/i2bh546pvj/czhCoZFvEP54P4/ZKp8Y/\",\"dtype\":\"float64\",\"shape\":[75]},\"y\":{\"__ndarray__\":\"GhExyth1ND/Sv8nbtpRIP2vylNV0PVE/aTum7souWD/At0SJ8fVgPw3Iuahxymc/MSNhhJWvcD/bTfBN02d3P2zb5nxnaoA/CD5h5MAGhz8NmeH1TyaQP+zrCsc9p5Y/LbKd76fGnz/bLW5ISEmmPww9YvTcQq8/JV2OstnstT8Er5Y7M8G+P0c+r3jqkcU/5h99k6ZBzj88bCIzFzjVP4enV8oyxN0//yH99nXg5D8qOpLLf0jtP5kqGJXUifQ/c9cS8kHP/D+/DpwzojQEQIEmwoanVwxA4lgXt9HgE0BSSZ2AJuIbQAMJih9jjiNA5q4l5INuK0AwTKYKRj0zQNv5fmq8/DpAaCJseHrtQkB/+zpwzoxKQM3MzMzMeFJAZmZmZmZqWEAAAAAAAFxeQM3MzMzMJmJAmpmZmZkfZUBmZmZmZhhoQDMzMzMzEWtAAAAAAAAKbkBmZmZmZoFwQM3MzMzM/XFAMzMzMzN6c0CamZmZmfZ0QAAAAAAAc3ZAZmZmZmbvd0DNzMzMzGt5QDMzMzMz6HpAmpmZmZlkfEAAAAAAAOF9QGZmZmZmXX9AZmZmZuZsgECamZmZGSuBQM3MzMxM6YFAAAAAAICngkAzMzMzs2WDQGZmZmbmI4RAmpmZmRnihEDNzMzMTKCFQAAAAACAXoZAMzMzM7Mch0BmZmZm5tqHQJqZmZkZmYhAzczMzExXiUAAAAAAgBWKQDMzMzOz04pAZmZmZuaRi0CamZmZGVCMQM3MzMxMDo1AAAAAAIDMjUAzMzMzs4qOQGZmZmbmSI9A\",\"dtype\":\"float64\",\"shape\":[75]}},\"selected\":{\"id\":\"eeb81d7e-3406-4506-b3d0-10ce88006106\",\"type\":\"Selection\"},\"selection_policy\":{\"id\":\"2253641f-b24d-4804-8ad3-69d7bbcd3c3c\",\"type\":\"UnionRenderers\"}},\"id\":\"2c9d80fc-6fe4-43da-b226-b8cfbbfd3a6d\",\"type\":\"ColumnDataSource\"},{\"attributes\":{\"source\":{\"id\":\"350d746a-a30b-4b99-9cd6-b99521f940e8\",\"type\":\"ColumnDataSource\"}},\"id\":\"5fc8456b-f33c-4b14-886e-6834ce30eeb2\",\"type\":\"CDSView\"},{\"attributes\":{\"source\":{\"id\":\"2c9d80fc-6fe4-43da-b226-b8cfbbfd3a6d\",\"type\":\"ColumnDataSource\"}},\"id\":\"bc327765-94f1-48d6-84ce-ae670358496f\",\"type\":\"CDSView\"},{\"attributes\":{\"callback\":null,\"data\":{\"x\":{\"__ndarray__\":\"DhA6LgnuFUCOA6cWwXwRQIaSu1M4xA9AQAMEgvhdDEC3Zrtdq+oIQEeVrsxZkgVAl3MNK5VwAkAWLN9WfSj/PxV9u9to/vk/+oeSRnJd9T82OzktEz/xPzr8qP+HL+s/YydxAkqX5D+Pm3Jg8rfcP46pznHNAtc/bNCy2KWL2T8pnB/8X77dP9htcjpZ1+A/7+kP1Asp4z80e1SU7DHmPxAmBhFnpuo/Jqoyz2Re8D+JK70rS4XwP9z5UfKnfOw/H97+PDWp6D/D5C1ywRblP9hLP3sTrOI/m/ZvUSsJ4T/F063RH3HfP93Oesp+FN0/4XgRyajT2j+IdsTWTZnYPwjJ1PcbY9Y/iU9V0T9W1D/sHOF8VJzQP1QtjO0um8U/6bQ0ZYxYuD/1J4P3Y6W7Pxxm+NtS6MY/WzYxcikz0D9lsFArPhXbP7MLVBpdtuw/aXNnQeld9j/WGMFEFND8P3WwpsFjdABAZYJA3Vx+AUAqPFXzIO8BQHD8WV5e3wFAdjsNZSDrAEDjiXh3c3IAQJO6SqN8MQBAk9nLt/gRAEDEkhDyow8AQFNqhDRiJQBAGHEQ3OBYAECV8j60rZkAQOjBZLiv3QBAIKnC9eEeAUCuZJcNClkBQDuBsws7nQFA1sT9pRf1AUCGQUVHBUUCQMOa3IVsQAJAzZGQpkyiAkB9mDR73fIBQCCu/qw87ABAt+FhpfwHAEAI+LIQxM39P/FRyNyYZfw/EHNomRWu+z+Opg6laGX7P51uIx3afvs/39nOmgcL/D/KA59Lol79P6/0U3x5HgRA\",\"dtype\":\"float64\",\"shape\":[75]},\"y\":{\"__ndarray__\":\"GhExyth1ND/Sv8nbtpRIP2vylNV0PVE/aTum7souWD/At0SJ8fVgPw3Iuahxymc/MSNhhJWvcD/bTfBN02d3P2zb5nxnaoA/CD5h5MAGhz8NmeH1TyaQP+zrCsc9p5Y/LbKd76fGnz/bLW5ISEmmPww9YvTcQq8/JV2OstnstT8Er5Y7M8G+P0c+r3jqkcU/5h99k6ZBzj88bCIzFzjVP4enV8oyxN0//yH99nXg5D8qOpLLf0jtP5kqGJXUifQ/c9cS8kHP/D+/DpwzojQEQIEmwoanVwxA4lgXt9HgE0BSSZ2AJuIbQAMJih9jjiNA5q4l5INuK0AwTKYKRj0zQNv5fmq8/DpAaCJseHrtQkB/+zpwzoxKQM3MzMzMeFJAZmZmZmZqWEAAAAAAAFxeQM3MzMzMJmJAmpmZmZkfZUBmZmZmZhhoQDMzMzMzEWtAAAAAAAAKbkBmZmZmZoFwQM3MzMzM/XFAMzMzMzN6c0CamZmZmfZ0QAAAAAAAc3ZAZmZmZmbvd0DNzMzMzGt5QDMzMzMz6HpAmpmZmZlkfEAAAAAAAOF9QGZmZmZmXX9AZmZmZuZsgECamZmZGSuBQM3MzMxM6YFAAAAAAICngkAzMzMzs2WDQGZmZmbmI4RAmpmZmRnihEDNzMzMTKCFQAAAAACAXoZAMzMzM7Mch0BmZmZm5tqHQJqZmZkZmYhAzczMzExXiUAAAAAAgBWKQDMzMzOz04pAZmZmZuaRi0CamZmZGVCMQM3MzMxMDo1AAAAAAIDMjUAzMzMzs4qOQGZmZmbmSI9A\",\"dtype\":\"float64\",\"shape\":[75]}},\"selected\":{\"id\":\"fd4b3146-5ce0-4683-8dc8-f51d24d55784\",\"type\":\"Selection\"},\"selection_policy\":{\"id\":\"74dd6e14-bb4a-4189-b1ea-9d23c171f29b\",\"type\":\"UnionRenderers\"}},\"id\":\"17a62aac-3e2e-401b-b39e-a5a07cb6c9a5\",\"type\":\"ColumnDataSource\"},{\"attributes\":{\"source\":{\"id\":\"6c0f832a-ba09-49b9-9252-deb158a35b62\",\"type\":\"ColumnDataSource\"}},\"id\":\"8641104e-6c77-4989-965f-ac42f72fb43c\",\"type\":\"CDSView\"},{\"attributes\":{\"data_source\":{\"id\":\"5dae6b9e-512a-4b26-8828-3aee893416e2\",\"type\":\"ColumnDataSource\"},\"glyph\":{\"id\":\"1db5227c-acef-4d8c-bc15-532fda30bfcc\",\"type\":\"Line\"},\"hover_glyph\":null,\"muted_glyph\":null,\"nonselection_glyph\":{\"id\":\"bfcc98dd-617c-429c-8378-2b0f38a875aa\",\"type\":\"Line\"},\"selection_glyph\":null,\"view\":{\"id\":\"ae4d947a-a731-409b-92aa-a4aa2dd053a5\",\"type\":\"CDSView\"}},\"id\":\"2e592802-aa8d-4222-8374-d7d2b4aaf470\",\"type\":\"GlyphRenderer\"}],\"root_ids\":[\"e1c24109-f608-48c2-b42d-dce795cf8d1d\"]},\"title\":\"Bokeh Application\",\"version\":\"0.12.16\"}};\n",
       "  var render_items = [{\"docid\":\"473dff74-86ae-469e-bc9c-3b20ac707daf\",\"elementid\":\"57f00bc6-9024-4463-bc17-bb0182c7c4d4\",\"modelid\":\"e1c24109-f608-48c2-b42d-dce795cf8d1d\"}];\n",
       "  root.Bokeh.embed.embed_items_notebook(docs_json, render_items);\n",
       "\n",
       "  }\n",
       "  if (root.Bokeh !== undefined) {\n",
       "    embed_document(root);\n",
       "  } else {\n",
       "    var attempts = 0;\n",
       "    var timer = setInterval(function(root) {\n",
       "      if (root.Bokeh !== undefined) {\n",
       "        embed_document(root);\n",
       "        clearInterval(timer);\n",
       "      }\n",
       "      attempts++;\n",
       "      if (attempts > 100) {\n",
       "        console.log(\"Bokeh: ERROR: Unable to run BokehJS code because BokehJS library is missing\")\n",
       "        clearInterval(timer);\n",
       "      }\n",
       "    }, 10, root)\n",
       "  }\n",
       "})(window);"
      ],
      "application/vnd.bokehjs_exec.v0+json": ""
     },
     "metadata": {
      "application/vnd.bokehjs_exec.v0+json": {
       "id": "e1c24109-f608-48c2-b42d-dce795cf8d1d"
      }
     },
     "output_type": "display_data"
    },
    {
     "data": {
      "text/markdown": [
       "*FIGURE.* Cooling rates & difference."
      ],
      "text/plain": [
       "<IPython.core.display.Markdown object>"
      ]
     },
     "metadata": {},
     "output_type": "display_data"
    },
    {
     "data": {
      "text/html": [
       "<a id=\"Fluxes._trp.\"></a>"
      ],
      "text/plain": [
       "<IPython.core.display.HTML object>"
      ]
     },
     "metadata": {},
     "output_type": "display_data"
    },
    {
     "data": {
      "text/markdown": [
       "# Fluxes. trp."
      ],
      "text/plain": [
       "<IPython.core.display.Markdown object>"
      ]
     },
     "metadata": {},
     "output_type": "display_data"
    },
    {
     "data": {
      "text/html": [
       "\n",
       "<div class=\"bk-root\">\n",
       "    <div class=\"bk-plotdiv\" id=\"33e2539b-8e8a-4c73-ba58-0717163a0324\"></div>\n",
       "</div>"
      ]
     },
     "metadata": {},
     "output_type": "display_data"
    },
    {
     "data": {
      "application/javascript": [
       "(function(root) {\n",
       "  function embed_document(root) {\n",
       "    \n",
       "  var docs_json = {\"a5b714e2-4645-4fde-992d-86ce69c41422\":{\"roots\":{\"references\":[{\"attributes\":{\"below\":[{\"id\":\"a4dc84c1-5d0b-4ccf-a5f0-ac830a2c20df\",\"type\":\"CategoricalAxis\"}],\"left\":[{\"id\":\"46c71662-8ced-46f8-9d78-8b1da9e90c5c\",\"type\":\"LinearAxis\"}],\"plot_height\":300,\"plot_width\":300,\"renderers\":[{\"id\":\"a4dc84c1-5d0b-4ccf-a5f0-ac830a2c20df\",\"type\":\"CategoricalAxis\"},{\"id\":\"a6256a05-59b4-4aac-822a-7e9a0c654bbd\",\"type\":\"Grid\"},{\"id\":\"46c71662-8ced-46f8-9d78-8b1da9e90c5c\",\"type\":\"LinearAxis\"},{\"id\":\"4ffd5266-4542-44d7-bb67-d5d2ff94ceb9\",\"type\":\"Grid\"},{\"id\":\"58c815df-9f9e-477f-a8fb-48b19cf2c11f\",\"type\":\"BoxAnnotation\"},{\"id\":\"5c065ea0-fae9-4175-8c69-ee246c3b7e7f\",\"type\":\"GlyphRenderer\"}],\"title\":{\"id\":\"6700443e-1747-4bba-b56f-55ca5aea4ede\",\"type\":\"Title\"},\"toolbar\":{\"id\":\"9d2f0102-be5c-4c03-a3d4-796260b7b2c8\",\"type\":\"Toolbar\"},\"toolbar_location\":null,\"x_range\":{\"id\":\"ce86ab74-1ef8-4f84-8337-b17de0af00ae\",\"type\":\"FactorRange\"},\"x_scale\":{\"id\":\"9f9d448b-3de7-4f70-b248-c8474b6010c1\",\"type\":\"CategoricalScale\"},\"y_range\":{\"id\":\"4b0a567a-3d6f-4eed-baf3-5f8f0ac69df0\",\"type\":\"DataRange1d\"},\"y_scale\":{\"id\":\"4e6a9021-7fb1-427c-807d-26f1da4e702f\",\"type\":\"LinearScale\"}},\"id\":\"ff659b8f-d625-41cd-8bd1-56506785929c\",\"subtype\":\"Figure\",\"type\":\"Plot\"},{\"attributes\":{},\"id\":\"db4c6a03-5112-4756-bbb3-74ec606d1f76\",\"type\":\"LinearScale\"},{\"attributes\":{},\"id\":\"caacea87-a4bf-4b46-ab00-dad3a1c55a3e\",\"type\":\"ResetTool\"},{\"attributes\":{\"callback\":null},\"id\":\"a2807b6a-64c6-483c-8beb-1b624cd57c39\",\"type\":\"DataRange1d\"},{\"attributes\":{\"children\":[{\"id\":\"2497690a-2594-4fa1-a172-726e5a985878\",\"type\":\"ToolbarBox\"},{\"id\":\"fb7bc39a-61d1-418b-a166-9b7d8bb071b7\",\"type\":\"Column\"}]},\"id\":\"3892c547-2f18-4daf-a868-fb731a44b59f\",\"type\":\"Column\"},{\"attributes\":{},\"id\":\"c2b3b281-2829-4d2b-a6e8-74b86aacf413\",\"type\":\"ResetTool\"},{\"attributes\":{},\"id\":\"16ce8af5-ea07-4d7a-ab88-9ce194b30612\",\"type\":\"PanTool\"},{\"attributes\":{},\"id\":\"f3881042-04bd-4c73-aa88-626e0e49120a\",\"type\":\"Selection\"},{\"attributes\":{\"toolbar\":{\"id\":\"e851191f-fe92-4e95-bb9f-8206dcdfd687\",\"type\":\"ProxyToolbar\"},\"toolbar_location\":\"above\"},\"id\":\"2497690a-2594-4fa1-a172-726e5a985878\",\"type\":\"ToolbarBox\"},{\"attributes\":{\"children\":[{\"id\":\"ef89163a-7ccf-4051-a66b-cabc27e618a7\",\"subtype\":\"Figure\",\"type\":\"Plot\"},{\"id\":\"323eaee6-5a03-4038-b899-ad5cceeedb76\",\"subtype\":\"Figure\",\"type\":\"Plot\"},{\"id\":\"ff659b8f-d625-41cd-8bd1-56506785929c\",\"subtype\":\"Figure\",\"type\":\"Plot\"}]},\"id\":\"9474d4d2-7504-4a01-81bb-9dcd14626db0\",\"type\":\"Row\"},{\"attributes\":{\"callback\":null,\"factors\":[\"1\",\"2\",\"3\",\"4\",\"5\",\"6\",\"7\",\"8\",\"9\",\"10\",\"11\"]},\"id\":\"316c29ad-127b-4c76-acd0-5fe4e2930e65\",\"type\":\"FactorRange\"},{\"attributes\":{},\"id\":\"0bb7733c-d74d-4a6b-8ae7-c57fb60cfc86\",\"type\":\"BasicTickFormatter\"},{\"attributes\":{\"overlay\":{\"id\":\"58c815df-9f9e-477f-a8fb-48b19cf2c11f\",\"type\":\"BoxAnnotation\"}},\"id\":\"742d3049-fbed-41e8-a951-51eda262f82d\",\"type\":\"BoxZoomTool\"},{\"attributes\":{\"axis_label\":\"spectral band\",\"formatter\":{\"id\":\"8cd43332-f7c7-41af-adec-5e9d607beac7\",\"type\":\"CategoricalTickFormatter\"},\"plot\":{\"id\":\"323eaee6-5a03-4038-b899-ad5cceeedb76\",\"subtype\":\"Figure\",\"type\":\"Plot\"},\"ticker\":{\"id\":\"4f107fba-24d9-4960-a7d8-0be79f590179\",\"type\":\"CategoricalTicker\"}},\"id\":\"5f6fa604-71be-43b5-88b2-7d2f0001cc17\",\"type\":\"CategoricalAxis\"},{\"attributes\":{\"data_source\":{\"id\":\"8e47b26a-83ef-4472-8a5c-69266514cb5d\",\"type\":\"ColumnDataSource\"},\"glyph\":{\"id\":\"071c0796-8fea-431d-af8e-b3751bb5e202\",\"type\":\"VBar\"},\"hover_glyph\":null,\"muted_glyph\":null,\"nonselection_glyph\":{\"id\":\"b8c586e8-9008-47d5-b4b7-c7a21d0b2982\",\"type\":\"VBar\"},\"selection_glyph\":null,\"view\":{\"id\":\"30090815-de85-43e4-93b7-506a8a2acc01\",\"type\":\"CDSView\"}},\"id\":\"5c065ea0-fae9-4175-8c69-ee246c3b7e7f\",\"type\":\"GlyphRenderer\"},{\"attributes\":{},\"id\":\"5804da49-4b71-418f-ae22-68cf66924f3e\",\"type\":\"PanTool\"},{\"attributes\":{},\"id\":\"189b0d37-e6cc-4d81-a371-7efd4bea09ff\",\"type\":\"BasicTicker\"},{\"attributes\":{},\"id\":\"4f107fba-24d9-4960-a7d8-0be79f590179\",\"type\":\"CategoricalTicker\"},{\"attributes\":{\"dimension\":1,\"plot\":{\"id\":\"ff659b8f-d625-41cd-8bd1-56506785929c\",\"subtype\":\"Figure\",\"type\":\"Plot\"},\"ticker\":{\"id\":\"189b0d37-e6cc-4d81-a371-7efd4bea09ff\",\"type\":\"BasicTicker\"}},\"id\":\"4ffd5266-4542-44d7-bb67-d5d2ff94ceb9\",\"type\":\"Grid\"},{\"attributes\":{},\"id\":\"c7338dae-c675-4a48-a2db-5afd4bd81d08\",\"type\":\"CategoricalScale\"},{\"attributes\":{},\"id\":\"719bb36f-dacc-41d0-8f65-ddfbfbb4ce81\",\"type\":\"BasicTickFormatter\"},{\"attributes\":{\"plot\":null,\"text\":\"Atmosphere heating. CLIRAD - CRD.\"},\"id\":\"6700443e-1747-4bba-b56f-55ca5aea4ede\",\"type\":\"Title\"},{\"attributes\":{},\"id\":\"c928cd0b-5cd7-4ffe-ab19-6d334aaf75fb\",\"type\":\"WheelZoomTool\"},{\"attributes\":{\"axis_label\":\"spectral band\",\"formatter\":{\"id\":\"50e6dc59-a491-41a3-b4c3-1c8ebe050773\",\"type\":\"CategoricalTickFormatter\"},\"plot\":{\"id\":\"ff659b8f-d625-41cd-8bd1-56506785929c\",\"subtype\":\"Figure\",\"type\":\"Plot\"},\"ticker\":{\"id\":\"a7f6b833-d844-4f66-85aa-bdf1f71be6b0\",\"type\":\"CategoricalTicker\"}},\"id\":\"a4dc84c1-5d0b-4ccf-a5f0-ac830a2c20df\",\"type\":\"CategoricalAxis\"},{\"attributes\":{},\"id\":\"a671aabe-f1c3-4242-b911-b163e95abc76\",\"type\":\"SaveTool\"},{\"attributes\":{},\"id\":\"7ba44836-745a-48ad-8b33-a2d2ab7d778a\",\"type\":\"CategoricalScale\"},{\"attributes\":{\"plot\":null,\"text\":\"SFC flux. CLIRAD - CRD.\"},\"id\":\"50d20214-edb8-4d59-aca9-3b4300ba3f59\",\"type\":\"Title\"},{\"attributes\":{\"below\":[{\"id\":\"5f6fa604-71be-43b5-88b2-7d2f0001cc17\",\"type\":\"CategoricalAxis\"}],\"left\":[{\"id\":\"6f696e3d-6fea-4618-9dae-71d01a5b301d\",\"type\":\"LinearAxis\"}],\"plot_height\":300,\"plot_width\":300,\"renderers\":[{\"id\":\"5f6fa604-71be-43b5-88b2-7d2f0001cc17\",\"type\":\"CategoricalAxis\"},{\"id\":\"b3a3bc1c-eb04-4164-9cbf-b185cc71e04c\",\"type\":\"Grid\"},{\"id\":\"6f696e3d-6fea-4618-9dae-71d01a5b301d\",\"type\":\"LinearAxis\"},{\"id\":\"d3ccb6cf-2b87-4bba-ba62-de2c7bc6ce02\",\"type\":\"Grid\"},{\"id\":\"3b2b1b10-f21e-438b-b127-092fc79e288b\",\"type\":\"BoxAnnotation\"},{\"id\":\"a8d6458b-c124-47f9-b9e2-06330590174f\",\"type\":\"GlyphRenderer\"}],\"title\":{\"id\":\"50d20214-edb8-4d59-aca9-3b4300ba3f59\",\"type\":\"Title\"},\"toolbar\":{\"id\":\"e1db7495-935b-4f4e-88d3-a610e3eb14a6\",\"type\":\"Toolbar\"},\"toolbar_location\":null,\"x_range\":{\"id\":\"316c29ad-127b-4c76-acd0-5fe4e2930e65\",\"type\":\"FactorRange\"},\"x_scale\":{\"id\":\"7ba44836-745a-48ad-8b33-a2d2ab7d778a\",\"type\":\"CategoricalScale\"},\"y_range\":{\"id\":\"a2c22ca0-6df6-4ecc-b5ce-65424824a828\",\"type\":\"DataRange1d\"},\"y_scale\":{\"id\":\"fb26ae68-3963-4616-ad6a-b8dcacbc11ce\",\"type\":\"LinearScale\"}},\"id\":\"323eaee6-5a03-4038-b899-ad5cceeedb76\",\"subtype\":\"Figure\",\"type\":\"Plot\"},{\"attributes\":{\"plot\":null,\"text\":\"TOA flux. CLIRAD - CRD.\"},\"id\":\"57de7c3d-6701-4093-98dd-ebc43d309df8\",\"type\":\"Title\"},{\"attributes\":{},\"id\":\"7e684e40-7b2a-4619-ba16-b4cd70830d08\",\"type\":\"BasicTicker\"},{\"attributes\":{},\"id\":\"4c543be2-87fd-4129-abeb-dfccbe1463c1\",\"type\":\"PanTool\"},{\"attributes\":{\"source\":{\"id\":\"314c3c56-5bf2-4167-9b0c-70fd13278b6d\",\"type\":\"ColumnDataSource\"}},\"id\":\"c1b0470f-083f-400e-9241-6580f1cac82a\",\"type\":\"CDSView\"},{\"attributes\":{\"bottom_units\":\"screen\",\"fill_alpha\":{\"value\":0.5},\"fill_color\":{\"value\":\"lightgrey\"},\"left_units\":\"screen\",\"level\":\"overlay\",\"line_alpha\":{\"value\":1.0},\"line_color\":{\"value\":\"black\"},\"line_dash\":[4,4],\"line_width\":{\"value\":2},\"plot\":null,\"render_mode\":\"css\",\"right_units\":\"screen\",\"top_units\":\"screen\"},\"id\":\"108186ee-350a-446d-be51-bb62749eb3df\",\"type\":\"BoxAnnotation\"},{\"attributes\":{},\"id\":\"50e6dc59-a491-41a3-b4c3-1c8ebe050773\",\"type\":\"CategoricalTickFormatter\"},{\"attributes\":{\"overlay\":{\"id\":\"108186ee-350a-446d-be51-bb62749eb3df\",\"type\":\"BoxAnnotation\"}},\"id\":\"bb8de8d9-915f-429b-9270-6c6efa5d7281\",\"type\":\"BoxZoomTool\"},{\"attributes\":{},\"id\":\"7a31256a-39a2-4801-b05a-6006c33ebde5\",\"type\":\"SaveTool\"},{\"attributes\":{\"dimension\":1,\"plot\":{\"id\":\"323eaee6-5a03-4038-b899-ad5cceeedb76\",\"subtype\":\"Figure\",\"type\":\"Plot\"},\"ticker\":{\"id\":\"7e684e40-7b2a-4619-ba16-b4cd70830d08\",\"type\":\"BasicTicker\"}},\"id\":\"d3ccb6cf-2b87-4bba-ba62-de2c7bc6ce02\",\"type\":\"Grid\"},{\"attributes\":{},\"id\":\"1d36e17b-4b99-4940-8601-30502f27f277\",\"type\":\"BasicTickFormatter\"},{\"attributes\":{},\"id\":\"a4910041-9fc3-4275-b819-5edf84347514\",\"type\":\"UnionRenderers\"},{\"attributes\":{\"children\":[{\"id\":\"9474d4d2-7504-4a01-81bb-9dcd14626db0\",\"type\":\"Row\"}]},\"id\":\"fb7bc39a-61d1-418b-a166-9b7d8bb071b7\",\"type\":\"Column\"},{\"attributes\":{},\"id\":\"e6997d92-d051-4d0c-b316-828edd6237d9\",\"type\":\"HelpTool\"},{\"attributes\":{\"below\":[{\"id\":\"dbab1ee8-2fa7-4965-8b16-771bad0b717f\",\"type\":\"CategoricalAxis\"}],\"left\":[{\"id\":\"6f343f17-2c3d-43ee-992f-a9e7a3e3525d\",\"type\":\"LinearAxis\"}],\"plot_height\":300,\"plot_width\":300,\"renderers\":[{\"id\":\"dbab1ee8-2fa7-4965-8b16-771bad0b717f\",\"type\":\"CategoricalAxis\"},{\"id\":\"c9b10bcc-7fdc-48b3-9f28-c49a701f0246\",\"type\":\"Grid\"},{\"id\":\"6f343f17-2c3d-43ee-992f-a9e7a3e3525d\",\"type\":\"LinearAxis\"},{\"id\":\"f160184c-4d61-49f2-b825-c0d863ff7f69\",\"type\":\"Grid\"},{\"id\":\"108186ee-350a-446d-be51-bb62749eb3df\",\"type\":\"BoxAnnotation\"},{\"id\":\"c0b9322e-c9a7-4db5-8bad-9f689e43ab1c\",\"type\":\"GlyphRenderer\"}],\"title\":{\"id\":\"57de7c3d-6701-4093-98dd-ebc43d309df8\",\"type\":\"Title\"},\"toolbar\":{\"id\":\"ea503172-e05d-485d-94e6-9037dc69d500\",\"type\":\"Toolbar\"},\"toolbar_location\":null,\"x_range\":{\"id\":\"28a65dc3-5259-4f84-a44a-3059a787b1da\",\"type\":\"FactorRange\"},\"x_scale\":{\"id\":\"c7338dae-c675-4a48-a2db-5afd4bd81d08\",\"type\":\"CategoricalScale\"},\"y_range\":{\"id\":\"a2807b6a-64c6-483c-8beb-1b624cd57c39\",\"type\":\"DataRange1d\"},\"y_scale\":{\"id\":\"db4c6a03-5112-4756-bbb3-74ec606d1f76\",\"type\":\"LinearScale\"}},\"id\":\"ef89163a-7ccf-4051-a66b-cabc27e618a7\",\"subtype\":\"Figure\",\"type\":\"Plot\"},{\"attributes\":{\"callback\":null,\"factors\":[\"1\",\"2\",\"3\",\"4\",\"5\",\"6\",\"7\",\"8\",\"9\",\"10\",\"11\"]},\"id\":\"ce86ab74-1ef8-4f84-8337-b17de0af00ae\",\"type\":\"FactorRange\"},{\"attributes\":{\"axis_label\":\"flux (W m-2)\",\"formatter\":{\"id\":\"1d36e17b-4b99-4940-8601-30502f27f277\",\"type\":\"BasicTickFormatter\"},\"plot\":{\"id\":\"323eaee6-5a03-4038-b899-ad5cceeedb76\",\"subtype\":\"Figure\",\"type\":\"Plot\"},\"ticker\":{\"id\":\"7e684e40-7b2a-4619-ba16-b4cd70830d08\",\"type\":\"BasicTicker\"}},\"id\":\"6f696e3d-6fea-4618-9dae-71d01a5b301d\",\"type\":\"LinearAxis\"},{\"attributes\":{\"bottom_units\":\"screen\",\"fill_alpha\":{\"value\":0.5},\"fill_color\":{\"value\":\"lightgrey\"},\"left_units\":\"screen\",\"level\":\"overlay\",\"line_alpha\":{\"value\":1.0},\"line_color\":{\"value\":\"black\"},\"line_dash\":[4,4],\"line_width\":{\"value\":2},\"plot\":null,\"render_mode\":\"css\",\"right_units\":\"screen\",\"top_units\":\"screen\"},\"id\":\"58c815df-9f9e-477f-a8fb-48b19cf2c11f\",\"type\":\"BoxAnnotation\"},{\"attributes\":{\"plot\":{\"id\":\"323eaee6-5a03-4038-b899-ad5cceeedb76\",\"subtype\":\"Figure\",\"type\":\"Plot\"},\"ticker\":{\"id\":\"4f107fba-24d9-4960-a7d8-0be79f590179\",\"type\":\"CategoricalTicker\"}},\"id\":\"b3a3bc1c-eb04-4164-9cbf-b185cc71e04c\",\"type\":\"Grid\"},{\"attributes\":{},\"id\":\"fb26ae68-3963-4616-ad6a-b8dcacbc11ce\",\"type\":\"LinearScale\"},{\"attributes\":{\"plot\":{\"id\":\"ff659b8f-d625-41cd-8bd1-56506785929c\",\"subtype\":\"Figure\",\"type\":\"Plot\"},\"ticker\":{\"id\":\"a7f6b833-d844-4f66-85aa-bdf1f71be6b0\",\"type\":\"CategoricalTicker\"}},\"id\":\"a6256a05-59b4-4aac-822a-7e9a0c654bbd\",\"type\":\"Grid\"},{\"attributes\":{\"active_drag\":\"auto\",\"active_inspect\":\"auto\",\"active_scroll\":\"auto\",\"active_tap\":\"auto\",\"tools\":[{\"id\":\"5804da49-4b71-418f-ae22-68cf66924f3e\",\"type\":\"PanTool\"},{\"id\":\"c928cd0b-5cd7-4ffe-ab19-6d334aaf75fb\",\"type\":\"WheelZoomTool\"},{\"id\":\"bb8de8d9-915f-429b-9270-6c6efa5d7281\",\"type\":\"BoxZoomTool\"},{\"id\":\"a671aabe-f1c3-4242-b911-b163e95abc76\",\"type\":\"SaveTool\"},{\"id\":\"caacea87-a4bf-4b46-ab00-dad3a1c55a3e\",\"type\":\"ResetTool\"},{\"id\":\"c5e96ad0-8707-4f1b-8877-80ea9e79eb2b\",\"type\":\"HelpTool\"}]},\"id\":\"ea503172-e05d-485d-94e6-9037dc69d500\",\"type\":\"Toolbar\"},{\"attributes\":{\"active_drag\":\"auto\",\"active_inspect\":\"auto\",\"active_scroll\":\"auto\",\"active_tap\":\"auto\",\"tools\":[{\"id\":\"4c543be2-87fd-4129-abeb-dfccbe1463c1\",\"type\":\"PanTool\"},{\"id\":\"740bd76e-1644-4b4b-9251-bcb4970fd249\",\"type\":\"WheelZoomTool\"},{\"id\":\"742d3049-fbed-41e8-a951-51eda262f82d\",\"type\":\"BoxZoomTool\"},{\"id\":\"427dd107-8b2c-4782-88cd-2a07808f5da8\",\"type\":\"SaveTool\"},{\"id\":\"c2b3b281-2829-4d2b-a6e8-74b86aacf413\",\"type\":\"ResetTool\"},{\"id\":\"e6997d92-d051-4d0c-b316-828edd6237d9\",\"type\":\"HelpTool\"}]},\"id\":\"9d2f0102-be5c-4c03-a3d4-796260b7b2c8\",\"type\":\"Toolbar\"},{\"attributes\":{\"data_source\":{\"id\":\"1bc8baf2-e454-4b79-88aa-485cc6d9419b\",\"type\":\"ColumnDataSource\"},\"glyph\":{\"id\":\"9e3bdf1f-fd3b-4efe-8eb3-6bc058e7a395\",\"type\":\"VBar\"},\"hover_glyph\":null,\"muted_glyph\":null,\"nonselection_glyph\":{\"id\":\"52a26019-ca7c-483c-9a0d-be02384a335e\",\"type\":\"VBar\"},\"selection_glyph\":null,\"view\":{\"id\":\"5803cd6c-44d5-40c0-bcec-c0939dff2473\",\"type\":\"CDSView\"}},\"id\":\"c0b9322e-c9a7-4db5-8bad-9f689e43ab1c\",\"type\":\"GlyphRenderer\"},{\"attributes\":{},\"id\":\"334efd1f-a021-4987-ac40-a14906a8ae56\",\"type\":\"Selection\"},{\"attributes\":{\"axis_label\":\"spectral band\",\"formatter\":{\"id\":\"6731f3bc-b7cc-4463-8ea7-4a9e510bbd17\",\"type\":\"CategoricalTickFormatter\"},\"plot\":{\"id\":\"ef89163a-7ccf-4051-a66b-cabc27e618a7\",\"subtype\":\"Figure\",\"type\":\"Plot\"},\"ticker\":{\"id\":\"a6ec871d-cbdd-4cb5-a419-46f9844fe946\",\"type\":\"CategoricalTicker\"}},\"id\":\"dbab1ee8-2fa7-4965-8b16-771bad0b717f\",\"type\":\"CategoricalAxis\"},{\"attributes\":{\"axis_label\":\"flux (W m-2)\",\"formatter\":{\"id\":\"0bb7733c-d74d-4a6b-8ae7-c57fb60cfc86\",\"type\":\"BasicTickFormatter\"},\"plot\":{\"id\":\"ef89163a-7ccf-4051-a66b-cabc27e618a7\",\"subtype\":\"Figure\",\"type\":\"Plot\"},\"ticker\":{\"id\":\"b21d64db-ede0-4ed4-8b5a-11ce9924444e\",\"type\":\"BasicTicker\"}},\"id\":\"6f343f17-2c3d-43ee-992f-a9e7a3e3525d\",\"type\":\"LinearAxis\"},{\"attributes\":{\"callback\":null},\"id\":\"4b0a567a-3d6f-4eed-baf3-5f8f0ac69df0\",\"type\":\"DataRange1d\"},{\"attributes\":{},\"id\":\"b21d64db-ede0-4ed4-8b5a-11ce9924444e\",\"type\":\"BasicTicker\"},{\"attributes\":{\"fill_color\":{\"value\":\"#1f77b4\"},\"line_color\":{\"value\":\"#1f77b4\"},\"top\":{\"field\":\"flux\"},\"width\":{\"value\":0.9},\"x\":{\"field\":\"band\"}},\"id\":\"63e877c1-3cd2-47e1-8a58-408d22fb5b95\",\"type\":\"VBar\"},{\"attributes\":{\"source\":{\"id\":\"1bc8baf2-e454-4b79-88aa-485cc6d9419b\",\"type\":\"ColumnDataSource\"}},\"id\":\"5803cd6c-44d5-40c0-bcec-c0939dff2473\",\"type\":\"CDSView\"},{\"attributes\":{},\"id\":\"c5e96ad0-8707-4f1b-8877-80ea9e79eb2b\",\"type\":\"HelpTool\"},{\"attributes\":{},\"id\":\"4e6a9021-7fb1-427c-807d-26f1da4e702f\",\"type\":\"LinearScale\"},{\"attributes\":{\"source\":{\"id\":\"8e47b26a-83ef-4472-8a5c-69266514cb5d\",\"type\":\"ColumnDataSource\"}},\"id\":\"30090815-de85-43e4-93b7-506a8a2acc01\",\"type\":\"CDSView\"},{\"attributes\":{\"tools\":[{\"id\":\"5804da49-4b71-418f-ae22-68cf66924f3e\",\"type\":\"PanTool\"},{\"id\":\"c928cd0b-5cd7-4ffe-ab19-6d334aaf75fb\",\"type\":\"WheelZoomTool\"},{\"id\":\"bb8de8d9-915f-429b-9270-6c6efa5d7281\",\"type\":\"BoxZoomTool\"},{\"id\":\"a671aabe-f1c3-4242-b911-b163e95abc76\",\"type\":\"SaveTool\"},{\"id\":\"caacea87-a4bf-4b46-ab00-dad3a1c55a3e\",\"type\":\"ResetTool\"},{\"id\":\"c5e96ad0-8707-4f1b-8877-80ea9e79eb2b\",\"type\":\"HelpTool\"},{\"id\":\"16ce8af5-ea07-4d7a-ab88-9ce194b30612\",\"type\":\"PanTool\"},{\"id\":\"d62b05c7-23dc-48b2-ba32-b832ee6878b7\",\"type\":\"WheelZoomTool\"},{\"id\":\"55796340-6463-4768-b739-ee51c49b71c2\",\"type\":\"BoxZoomTool\"},{\"id\":\"7a31256a-39a2-4801-b05a-6006c33ebde5\",\"type\":\"SaveTool\"},{\"id\":\"42497bf2-7a52-461a-b7d6-fdfaf018d5ae\",\"type\":\"ResetTool\"},{\"id\":\"ca1c7822-664d-4a4d-9423-b1cc2ac53b41\",\"type\":\"HelpTool\"},{\"id\":\"4c543be2-87fd-4129-abeb-dfccbe1463c1\",\"type\":\"PanTool\"},{\"id\":\"740bd76e-1644-4b4b-9251-bcb4970fd249\",\"type\":\"WheelZoomTool\"},{\"id\":\"742d3049-fbed-41e8-a951-51eda262f82d\",\"type\":\"BoxZoomTool\"},{\"id\":\"427dd107-8b2c-4782-88cd-2a07808f5da8\",\"type\":\"SaveTool\"},{\"id\":\"c2b3b281-2829-4d2b-a6e8-74b86aacf413\",\"type\":\"ResetTool\"},{\"id\":\"e6997d92-d051-4d0c-b316-828edd6237d9\",\"type\":\"HelpTool\"}]},\"id\":\"e851191f-fe92-4e95-bb9f-8206dcdfd687\",\"type\":\"ProxyToolbar\"},{\"attributes\":{\"active_drag\":\"auto\",\"active_inspect\":\"auto\",\"active_scroll\":\"auto\",\"active_tap\":\"auto\",\"tools\":[{\"id\":\"16ce8af5-ea07-4d7a-ab88-9ce194b30612\",\"type\":\"PanTool\"},{\"id\":\"d62b05c7-23dc-48b2-ba32-b832ee6878b7\",\"type\":\"WheelZoomTool\"},{\"id\":\"55796340-6463-4768-b739-ee51c49b71c2\",\"type\":\"BoxZoomTool\"},{\"id\":\"7a31256a-39a2-4801-b05a-6006c33ebde5\",\"type\":\"SaveTool\"},{\"id\":\"42497bf2-7a52-461a-b7d6-fdfaf018d5ae\",\"type\":\"ResetTool\"},{\"id\":\"ca1c7822-664d-4a4d-9423-b1cc2ac53b41\",\"type\":\"HelpTool\"}]},\"id\":\"e1db7495-935b-4f4e-88d3-a610e3eb14a6\",\"type\":\"Toolbar\"},{\"attributes\":{\"callback\":null,\"data\":{\"band\":[\"1\",\"2\",\"3\",\"4\",\"5\",\"6\",\"7\",\"8\",\"9\",\"10\",\"11\"],\"flux\":{\"__ndarray__\":\"AEqFLU38yj8AArHPEEyyP8B5/x8nzN2/AHKpSltcu79AxHk4genRvwA7NCxGXd6/AJTW3xKAv7+A6Xk3FhTAv0AtSVRe4dS/QDwUw91ywD+Ar782LFfDvw==\",\"dtype\":\"float64\",\"shape\":[11]}},\"selected\":{\"id\":\"334efd1f-a021-4987-ac40-a14906a8ae56\",\"type\":\"Selection\"},\"selection_policy\":{\"id\":\"a4910041-9fc3-4275-b819-5edf84347514\",\"type\":\"UnionRenderers\"}},\"id\":\"8e47b26a-83ef-4472-8a5c-69266514cb5d\",\"type\":\"ColumnDataSource\"},{\"attributes\":{},\"id\":\"8cd43332-f7c7-41af-adec-5e9d607beac7\",\"type\":\"CategoricalTickFormatter\"},{\"attributes\":{},\"id\":\"427dd107-8b2c-4782-88cd-2a07808f5da8\",\"type\":\"SaveTool\"},{\"attributes\":{},\"id\":\"d62b05c7-23dc-48b2-ba32-b832ee6878b7\",\"type\":\"WheelZoomTool\"},{\"attributes\":{\"plot\":{\"id\":\"ef89163a-7ccf-4051-a66b-cabc27e618a7\",\"subtype\":\"Figure\",\"type\":\"Plot\"},\"ticker\":{\"id\":\"a6ec871d-cbdd-4cb5-a419-46f9844fe946\",\"type\":\"CategoricalTicker\"}},\"id\":\"c9b10bcc-7fdc-48b3-9f28-c49a701f0246\",\"type\":\"Grid\"},{\"attributes\":{},\"id\":\"a6ec871d-cbdd-4cb5-a419-46f9844fe946\",\"type\":\"CategoricalTicker\"},{\"attributes\":{\"overlay\":{\"id\":\"3b2b1b10-f21e-438b-b127-092fc79e288b\",\"type\":\"BoxAnnotation\"}},\"id\":\"55796340-6463-4768-b739-ee51c49b71c2\",\"type\":\"BoxZoomTool\"},{\"attributes\":{\"dimension\":1,\"plot\":{\"id\":\"ef89163a-7ccf-4051-a66b-cabc27e618a7\",\"subtype\":\"Figure\",\"type\":\"Plot\"},\"ticker\":{\"id\":\"b21d64db-ede0-4ed4-8b5a-11ce9924444e\",\"type\":\"BasicTicker\"}},\"id\":\"f160184c-4d61-49f2-b825-c0d863ff7f69\",\"type\":\"Grid\"},{\"attributes\":{\"fill_alpha\":{\"value\":0.1},\"fill_color\":{\"value\":\"#1f77b4\"},\"line_alpha\":{\"value\":0.1},\"line_color\":{\"value\":\"#1f77b4\"},\"top\":{\"field\":\"flux\"},\"width\":{\"value\":0.9},\"x\":{\"field\":\"band\"}},\"id\":\"b8c586e8-9008-47d5-b4b7-c7a21d0b2982\",\"type\":\"VBar\"},{\"attributes\":{\"callback\":null},\"id\":\"a2c22ca0-6df6-4ecc-b5ce-65424824a828\",\"type\":\"DataRange1d\"},{\"attributes\":{\"bottom_units\":\"screen\",\"fill_alpha\":{\"value\":0.5},\"fill_color\":{\"value\":\"lightgrey\"},\"left_units\":\"screen\",\"level\":\"overlay\",\"line_alpha\":{\"value\":1.0},\"line_color\":{\"value\":\"black\"},\"line_dash\":[4,4],\"line_width\":{\"value\":2},\"plot\":null,\"render_mode\":\"css\",\"right_units\":\"screen\",\"top_units\":\"screen\"},\"id\":\"3b2b1b10-f21e-438b-b127-092fc79e288b\",\"type\":\"BoxAnnotation\"},{\"attributes\":{\"axis_label\":\"flux (W m-2)\",\"formatter\":{\"id\":\"719bb36f-dacc-41d0-8f65-ddfbfbb4ce81\",\"type\":\"BasicTickFormatter\"},\"plot\":{\"id\":\"ff659b8f-d625-41cd-8bd1-56506785929c\",\"subtype\":\"Figure\",\"type\":\"Plot\"},\"ticker\":{\"id\":\"189b0d37-e6cc-4d81-a371-7efd4bea09ff\",\"type\":\"BasicTicker\"}},\"id\":\"46c71662-8ced-46f8-9d78-8b1da9e90c5c\",\"type\":\"LinearAxis\"},{\"attributes\":{},\"id\":\"740bd76e-1644-4b4b-9251-bcb4970fd249\",\"type\":\"WheelZoomTool\"},{\"attributes\":{\"callback\":null,\"data\":{\"band\":[\"1\",\"2\",\"3\",\"4\",\"5\",\"6\",\"7\",\"8\",\"9\",\"10\",\"11\"],\"flux\":{\"__ndarray__\":\"AADADkbs874Asf1kjA/QPwBvgQTFj9k/AABmogipez8A8b2/QXvNP6AXmYBfI94/YKTpotdVtT8AMLyS5LmOPwBA0hkYeXk/AED5u3fUiD9YLG0nALXgPw==\",\"dtype\":\"float64\",\"shape\":[11]}},\"selected\":{\"id\":\"88441470-5382-4a5e-95be-cdb18de374ef\",\"type\":\"Selection\"},\"selection_policy\":{\"id\":\"869b4214-ea33-4d2e-a0f8-ee58c8da9a2b\",\"type\":\"UnionRenderers\"}},\"id\":\"314c3c56-5bf2-4167-9b0c-70fd13278b6d\",\"type\":\"ColumnDataSource\"},{\"attributes\":{\"fill_color\":{\"value\":\"#1f77b4\"},\"line_color\":{\"value\":\"#1f77b4\"},\"top\":{\"field\":\"flux\"},\"width\":{\"value\":0.9},\"x\":{\"field\":\"band\"}},\"id\":\"071c0796-8fea-431d-af8e-b3751bb5e202\",\"type\":\"VBar\"},{\"attributes\":{},\"id\":\"c08c7b69-f8f3-4336-8deb-3e1f87b4ba08\",\"type\":\"UnionRenderers\"},{\"attributes\":{},\"id\":\"42497bf2-7a52-461a-b7d6-fdfaf018d5ae\",\"type\":\"ResetTool\"},{\"attributes\":{\"data_source\":{\"id\":\"314c3c56-5bf2-4167-9b0c-70fd13278b6d\",\"type\":\"ColumnDataSource\"},\"glyph\":{\"id\":\"63e877c1-3cd2-47e1-8a58-408d22fb5b95\",\"type\":\"VBar\"},\"hover_glyph\":null,\"muted_glyph\":null,\"nonselection_glyph\":{\"id\":\"af66eada-ec7a-4c3d-b4a4-5a77108ef41e\",\"type\":\"VBar\"},\"selection_glyph\":null,\"view\":{\"id\":\"c1b0470f-083f-400e-9241-6580f1cac82a\",\"type\":\"CDSView\"}},\"id\":\"a8d6458b-c124-47f9-b9e2-06330590174f\",\"type\":\"GlyphRenderer\"},{\"attributes\":{},\"id\":\"a7f6b833-d844-4f66-85aa-bdf1f71be6b0\",\"type\":\"CategoricalTicker\"},{\"attributes\":{\"callback\":null,\"factors\":[\"1\",\"2\",\"3\",\"4\",\"5\",\"6\",\"7\",\"8\",\"9\",\"10\",\"11\"]},\"id\":\"28a65dc3-5259-4f84-a44a-3059a787b1da\",\"type\":\"FactorRange\"},{\"attributes\":{},\"id\":\"6731f3bc-b7cc-4463-8ea7-4a9e510bbd17\",\"type\":\"CategoricalTickFormatter\"},{\"attributes\":{\"fill_alpha\":{\"value\":0.1},\"fill_color\":{\"value\":\"#1f77b4\"},\"line_alpha\":{\"value\":0.1},\"line_color\":{\"value\":\"#1f77b4\"},\"top\":{\"field\":\"flux\"},\"width\":{\"value\":0.9},\"x\":{\"field\":\"band\"}},\"id\":\"af66eada-ec7a-4c3d-b4a4-5a77108ef41e\",\"type\":\"VBar\"},{\"attributes\":{},\"id\":\"88441470-5382-4a5e-95be-cdb18de374ef\",\"type\":\"Selection\"},{\"attributes\":{},\"id\":\"ca1c7822-664d-4a4d-9423-b1cc2ac53b41\",\"type\":\"HelpTool\"},{\"attributes\":{\"fill_alpha\":{\"value\":0.1},\"fill_color\":{\"value\":\"#1f77b4\"},\"line_alpha\":{\"value\":0.1},\"line_color\":{\"value\":\"#1f77b4\"},\"top\":{\"field\":\"flux\"},\"width\":{\"value\":0.9},\"x\":{\"field\":\"band\"}},\"id\":\"52a26019-ca7c-483c-9a0d-be02384a335e\",\"type\":\"VBar\"},{\"attributes\":{},\"id\":\"869b4214-ea33-4d2e-a0f8-ee58c8da9a2b\",\"type\":\"UnionRenderers\"},{\"attributes\":{\"fill_color\":{\"value\":\"#1f77b4\"},\"line_color\":{\"value\":\"#1f77b4\"},\"top\":{\"field\":\"flux\"},\"width\":{\"value\":0.9},\"x\":{\"field\":\"band\"}},\"id\":\"9e3bdf1f-fd3b-4efe-8eb3-6bc058e7a395\",\"type\":\"VBar\"},{\"attributes\":{\"callback\":null,\"data\":{\"band\":[\"1\",\"2\",\"3\",\"4\",\"5\",\"6\",\"7\",\"8\",\"9\",\"10\",\"11\"],\"flux\":{\"__ndarray__\":\"ALvVc9L7yj8A+yZNg6LUPwDYne488bC/ABSDwMqhub8AYNbEAl+pvwCAkc1V82y/ALD5uDZUpL8Aic4yi1C8v4BbWg2Je9S/oJog6j4Awj+gIVvxaL7XPw==\",\"dtype\":\"float64\",\"shape\":[11]}},\"selected\":{\"id\":\"f3881042-04bd-4c73-aa88-626e0e49120a\",\"type\":\"Selection\"},\"selection_policy\":{\"id\":\"c08c7b69-f8f3-4336-8deb-3e1f87b4ba08\",\"type\":\"UnionRenderers\"}},\"id\":\"1bc8baf2-e454-4b79-88aa-485cc6d9419b\",\"type\":\"ColumnDataSource\"},{\"attributes\":{},\"id\":\"9f9d448b-3de7-4f70-b248-c8474b6010c1\",\"type\":\"CategoricalScale\"}],\"root_ids\":[\"3892c547-2f18-4daf-a868-fb731a44b59f\"]},\"title\":\"Bokeh Application\",\"version\":\"0.12.16\"}};\n",
       "  var render_items = [{\"docid\":\"a5b714e2-4645-4fde-992d-86ce69c41422\",\"elementid\":\"33e2539b-8e8a-4c73-ba58-0717163a0324\",\"modelid\":\"3892c547-2f18-4daf-a868-fb731a44b59f\"}];\n",
       "  root.Bokeh.embed.embed_items_notebook(docs_json, render_items);\n",
       "\n",
       "  }\n",
       "  if (root.Bokeh !== undefined) {\n",
       "    embed_document(root);\n",
       "  } else {\n",
       "    var attempts = 0;\n",
       "    var timer = setInterval(function(root) {\n",
       "      if (root.Bokeh !== undefined) {\n",
       "        embed_document(root);\n",
       "        clearInterval(timer);\n",
       "      }\n",
       "      attempts++;\n",
       "      if (attempts > 100) {\n",
       "        console.log(\"Bokeh: ERROR: Unable to run BokehJS code because BokehJS library is missing\")\n",
       "        clearInterval(timer);\n",
       "      }\n",
       "    }, 10, root)\n",
       "  }\n",
       "})(window);"
      ],
      "application/vnd.bokehjs_exec.v0+json": ""
     },
     "metadata": {
      "application/vnd.bokehjs_exec.v0+json": {
       "id": "3892c547-2f18-4daf-a868-fb731a44b59f"
      }
     },
     "output_type": "display_data"
    },
    {
     "data": {
      "text/markdown": [
       "*FIGURE.* Difference between CLIRAD and CRD in TOA, SFC and net atmosphere flux, in each spectral band."
      ],
      "text/plain": [
       "<IPython.core.display.Markdown object>"
      ]
     },
     "metadata": {},
     "output_type": "display_data"
    },
    {
     "data": {
      "text/html": [
       "<div>\n",
       "<style scoped>\n",
       "    .dataframe tbody tr th:only-of-type {\n",
       "        vertical-align: middle;\n",
       "    }\n",
       "\n",
       "    .dataframe tbody tr th {\n",
       "        vertical-align: top;\n",
       "    }\n",
       "\n",
       "    .dataframe thead th {\n",
       "        text-align: right;\n",
       "    }\n",
       "</style>\n",
       "<table border=\"1\" class=\"dataframe\">\n",
       "  <thead>\n",
       "    <tr style=\"text-align: right;\">\n",
       "      <th></th>\n",
       "      <th>OLR flux</th>\n",
       "      <th>SFC flux</th>\n",
       "      <th>ATM heating</th>\n",
       "    </tr>\n",
       "    <tr>\n",
       "      <th>Sum over bands</th>\n",
       "      <th></th>\n",
       "      <th></th>\n",
       "      <th></th>\n",
       "    </tr>\n",
       "  </thead>\n",
       "  <tbody>\n",
       "    <tr>\n",
       "      <th>CLIRAD - CRD</th>\n",
       "      <td>0.36</td>\n",
       "      <td>2.00</td>\n",
       "      <td>-1.64</td>\n",
       "    </tr>\n",
       "    <tr>\n",
       "      <th>CRD</th>\n",
       "      <td>-351.98</td>\n",
       "      <td>305.47</td>\n",
       "      <td>-198.18</td>\n",
       "    </tr>\n",
       "  </tbody>\n",
       "</table>\n",
       "</div>"
      ],
      "text/plain": [
       "                OLR flux  SFC flux  ATM heating\n",
       "Sum over bands                                 \n",
       "CLIRAD - CRD        0.36      2.00        -1.64\n",
       "CRD              -351.98    305.47      -198.18"
      ]
     },
     "metadata": {},
     "output_type": "display_data"
    },
    {
     "data": {
      "text/markdown": [
       "*TABLE.* Difference between CLIRAD and CRD in TOA, SFC and net atmosphere flux, over all spectral bands. CRD's TOA, SFC and net atmosphere flux, over all spectral bands."
      ],
      "text/plain": [
       "<IPython.core.display.Markdown object>"
      ]
     },
     "metadata": {},
     "output_type": "display_data"
    },
    {
     "data": {
      "text/html": [
       "Download: <a href=\"./results_h2oatm_cliradsinglerun.xlsx\">results_h2oatm_cliradsinglerun.xlsx</a>"
      ],
      "text/plain": [
       "<IPython.core.display.HTML object>"
      ]
     },
     "metadata": {},
     "output_type": "display_data"
    }
   ],
   "source": [
    "def script():\n",
    "    \n",
    "    d_atm = {'mls': 'mid-latitude summer',\n",
    "             'saw': 'sub-arctic winter',\n",
    "             'trp': 'tropical'}\n",
    "    \n",
    "    title = ('## Results over entire range of molecules'\n",
    "             ' and spectral bands')\n",
    "    \n",
    "    s_makeup = 'Makeup of atmosphere.'\n",
    "    s_atmpro = '# {}'\n",
    "    s_cool = 'Cooling rates. {}.'\n",
    "    s_flux = 'Fluxes. {}.'\n",
    "    \n",
    "    atmpros = ['mls', 'saw', 'trp']\n",
    "    \n",
    "    # TOC\n",
    "    show_markdown(title)\n",
    "    show_markdown('### Table of Contents')\n",
    "    show_html(climahtml.getHTML_hrefanchor(s_makeup))\n",
    "    for atmpro in atmpros:\n",
    "        show_markdown('**' + d_atm[atmpro] + '**')\n",
    "        show_html(climahtml.getHTML_hrefanchor(s_cool.format(atmpro)))\n",
    "        show_html(climahtml.getHTML_hrefanchor(s_flux.format(atmpro)))\n",
    "\n",
    "        \n",
    "    # Atmosphere makeup\n",
    "    show_html(climahtml.getHTML_idanchor(s_makeup))\n",
    "    show_markdown(climahtml.getMarkdown_sectitle(s_makeup))\n",
    "    show_makeup()\n",
    "#    show_grey_makeup()\n",
    "        \n",
    "    for atmpro in atmpros:\n",
    "        show_html(climahtml.getHTML_idanchor(s_cool.format(atmpro)))\n",
    "        show_markdown(\n",
    "            climahtml.getMarkdown_sectitle(s_cool.format(atmpro)))\n",
    "        show_cool(atmpro=atmpro)\n",
    "        show_html(climahtml.getHTML_idanchor(s_flux.format(atmpro)))\n",
    "        show_markdown(\n",
    "            climahtml.getMarkdown_sectitle(s_flux.format(atmpro)))\n",
    "        show_hist_flux(atmpro=atmpro)\n",
    "        show_tb_flux(atmpro=atmpro)\n",
    "    \n",
    "    script_tofile()\n",
    "    \n",
    "script()  "
   ]
  },
  {
   "cell_type": "code",
   "execution_count": null,
   "metadata": {
    "collapsed": true
   },
   "outputs": [],
   "source": []
  },
  {
   "cell_type": "code",
   "execution_count": 18,
   "metadata": {},
   "outputs": [
    {
     "data": {
      "text/html": [
       "<script>\n",
       "code_show=true; \n",
       "function code_toggle() {\n",
       " if (code_show){\n",
       " $('div.input').hide();\n",
       " } else {\n",
       " $('div.input').show();\n",
       " }\n",
       " code_show = !code_show\n",
       "} \n",
       "$( document ).ready(code_toggle);\n",
       "</script>\n",
       "<form action=\"javascript:code_toggle()\"><input type=\"submit\" value=\"Click here to toggle on/off the raw code.\"></form>"
      ],
      "text/plain": [
       "<IPython.core.display.HTML object>"
      ]
     },
     "execution_count": 18,
     "metadata": {},
     "output_type": "execute_result"
    }
   ],
   "source": [
    "display.HTML('''<script>\n",
    "code_show=true; \n",
    "function code_toggle() {\n",
    " if (code_show){\n",
    " $('div.input').hide();\n",
    " } else {\n",
    " $('div.input').show();\n",
    " }\n",
    " code_show = !code_show\n",
    "} \n",
    "$( document ).ready(code_toggle);\n",
    "</script>\n",
    "<form action=\"javascript:code_toggle()\"><input type=\"submit\" value=\"Click here to toggle on/off the raw code.\"></form>''')"
   ]
  },
  {
   "cell_type": "code",
   "execution_count": null,
   "metadata": {
    "collapsed": true
   },
   "outputs": [],
   "source": []
  }
 ],
 "metadata": {
  "kernelspec": {
   "display_name": "Python 3",
   "language": "python",
   "name": "python3"
  },
  "language_info": {
   "codemirror_mode": {
    "name": "ipython",
    "version": 3
   },
   "file_extension": ".py",
   "mimetype": "text/x-python",
   "name": "python",
   "nbconvert_exporter": "python",
   "pygments_lexer": "ipython3",
   "version": "3.6.7"
  }
 },
 "nbformat": 4,
 "nbformat_minor": 2
}
