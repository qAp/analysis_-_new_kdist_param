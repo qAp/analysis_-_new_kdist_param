{
 "cells": [
  {
   "cell_type": "code",
   "execution_count": 1,
   "metadata": {
    "collapsed": true
   },
   "outputs": [],
   "source": [
    "%reload_ext autoreload\n",
    "%autoreload 2\n",
    "\n",
    "import os\n",
    "import io\n",
    "import ast\n",
    "import json\n",
    "import importlib \n",
    "import itertools\n",
    "import collections\n",
    "import pprint\n",
    "\n",
    "import pymongo\n",
    "\n",
    "from bokeh.io import output_notebook, show\n",
    "from bokeh.layouts import gridplot\n",
    "from bokeh.plotting import figure\n",
    "from bokeh.models import Range1d, Legend, ColumnDataSource, FactorRange\n",
    "from bokeh.palettes import all_palettes\n",
    "from bokeh.transform import factor_cmap\n",
    "\n",
    "import matplotlib\n",
    "import matplotlib.pyplot as plt\n",
    "import numpy as np\n",
    "import pandas as pd\n",
    "import xarray as xr\n",
    "\n",
    "from climatools.atm.absorbers import *\n",
    "\n",
    "import climatools.lblnew.bestfit_params as bestfits\n",
    "from climatools.lblnew import setup_bestfit, setup_overlap\n",
    "import climatools.lblnew.pipeline as pipe_lblnew\n",
    "\n",
    "from climatools.cliradlw.utils import *\n",
    "import climatools.cliradlw.setup as setup_cliradlw\n",
    "import climatools.cliradlw.pipeline as pipe_cliradlw\n",
    "from climatools.cliradlw.dataset import *\n",
    "\n",
    "import climatools.html.html as climahtml\n",
    "from climatools.lblnew.dataio import *\n",
    "from climatools.plot.plot import *\n",
    "\n",
    "from IPython import display"
   ]
  },
  {
   "cell_type": "code",
   "execution_count": 2,
   "metadata": {
    "scrolled": true
   },
   "outputs": [
    {
     "data": {
      "text/html": [
       "\n",
       "    <div class=\"bk-root\">\n",
       "        <a href=\"https://bokeh.pydata.org\" target=\"_blank\" class=\"bk-logo bk-logo-small bk-logo-notebook\"></a>\n",
       "        <span id=\"33a7785f-5593-4ec7-8e74-9a05ee76e2cb\">Loading BokehJS ...</span>\n",
       "    </div>"
      ]
     },
     "metadata": {},
     "output_type": "display_data"
    },
    {
     "data": {
      "application/javascript": [
       "\n",
       "(function(root) {\n",
       "  function now() {\n",
       "    return new Date();\n",
       "  }\n",
       "\n",
       "  var force = true;\n",
       "\n",
       "  if (typeof (root._bokeh_onload_callbacks) === \"undefined\" || force === true) {\n",
       "    root._bokeh_onload_callbacks = [];\n",
       "    root._bokeh_is_loading = undefined;\n",
       "  }\n",
       "\n",
       "  var JS_MIME_TYPE = 'application/javascript';\n",
       "  var HTML_MIME_TYPE = 'text/html';\n",
       "  var EXEC_MIME_TYPE = 'application/vnd.bokehjs_exec.v0+json';\n",
       "  var CLASS_NAME = 'output_bokeh rendered_html';\n",
       "\n",
       "  /**\n",
       "   * Render data to the DOM node\n",
       "   */\n",
       "  function render(props, node) {\n",
       "    var script = document.createElement(\"script\");\n",
       "    node.appendChild(script);\n",
       "  }\n",
       "\n",
       "  /**\n",
       "   * Handle when an output is cleared or removed\n",
       "   */\n",
       "  function handleClearOutput(event, handle) {\n",
       "    var cell = handle.cell;\n",
       "\n",
       "    var id = cell.output_area._bokeh_element_id;\n",
       "    var server_id = cell.output_area._bokeh_server_id;\n",
       "    // Clean up Bokeh references\n",
       "    if (id !== undefined) {\n",
       "      Bokeh.index[id].model.document.clear();\n",
       "      delete Bokeh.index[id];\n",
       "    }\n",
       "\n",
       "    if (server_id !== undefined) {\n",
       "      // Clean up Bokeh references\n",
       "      var cmd = \"from bokeh.io.state import curstate; print(curstate().uuid_to_server['\" + server_id + \"'].get_sessions()[0].document.roots[0]._id)\";\n",
       "      cell.notebook.kernel.execute(cmd, {\n",
       "        iopub: {\n",
       "          output: function(msg) {\n",
       "            var element_id = msg.content.text.trim();\n",
       "            Bokeh.index[element_id].model.document.clear();\n",
       "            delete Bokeh.index[element_id];\n",
       "          }\n",
       "        }\n",
       "      });\n",
       "      // Destroy server and session\n",
       "      var cmd = \"import bokeh.io.notebook as ion; ion.destroy_server('\" + server_id + \"')\";\n",
       "      cell.notebook.kernel.execute(cmd);\n",
       "    }\n",
       "  }\n",
       "\n",
       "  /**\n",
       "   * Handle when a new output is added\n",
       "   */\n",
       "  function handleAddOutput(event, handle) {\n",
       "    var output_area = handle.output_area;\n",
       "    var output = handle.output;\n",
       "\n",
       "    // limit handleAddOutput to display_data with EXEC_MIME_TYPE content only\n",
       "    if ((output.output_type != \"display_data\") || (!output.data.hasOwnProperty(EXEC_MIME_TYPE))) {\n",
       "      return\n",
       "    }\n",
       "\n",
       "    var toinsert = output_area.element.find(\".\" + CLASS_NAME.split(' ')[0]);\n",
       "\n",
       "    if (output.metadata[EXEC_MIME_TYPE][\"id\"] !== undefined) {\n",
       "      toinsert[toinsert.length - 1].firstChild.textContent = output.data[JS_MIME_TYPE];\n",
       "      // store reference to embed id on output_area\n",
       "      output_area._bokeh_element_id = output.metadata[EXEC_MIME_TYPE][\"id\"];\n",
       "    }\n",
       "    if (output.metadata[EXEC_MIME_TYPE][\"server_id\"] !== undefined) {\n",
       "      var bk_div = document.createElement(\"div\");\n",
       "      bk_div.innerHTML = output.data[HTML_MIME_TYPE];\n",
       "      var script_attrs = bk_div.children[0].attributes;\n",
       "      for (var i = 0; i < script_attrs.length; i++) {\n",
       "        toinsert[toinsert.length - 1].firstChild.setAttribute(script_attrs[i].name, script_attrs[i].value);\n",
       "      }\n",
       "      // store reference to server id on output_area\n",
       "      output_area._bokeh_server_id = output.metadata[EXEC_MIME_TYPE][\"server_id\"];\n",
       "    }\n",
       "  }\n",
       "\n",
       "  function register_renderer(events, OutputArea) {\n",
       "\n",
       "    function append_mime(data, metadata, element) {\n",
       "      // create a DOM node to render to\n",
       "      var toinsert = this.create_output_subarea(\n",
       "        metadata,\n",
       "        CLASS_NAME,\n",
       "        EXEC_MIME_TYPE\n",
       "      );\n",
       "      this.keyboard_manager.register_events(toinsert);\n",
       "      // Render to node\n",
       "      var props = {data: data, metadata: metadata[EXEC_MIME_TYPE]};\n",
       "      render(props, toinsert[toinsert.length - 1]);\n",
       "      element.append(toinsert);\n",
       "      return toinsert\n",
       "    }\n",
       "\n",
       "    /* Handle when an output is cleared or removed */\n",
       "    events.on('clear_output.CodeCell', handleClearOutput);\n",
       "    events.on('delete.Cell', handleClearOutput);\n",
       "\n",
       "    /* Handle when a new output is added */\n",
       "    events.on('output_added.OutputArea', handleAddOutput);\n",
       "\n",
       "    /**\n",
       "     * Register the mime type and append_mime function with output_area\n",
       "     */\n",
       "    OutputArea.prototype.register_mime_type(EXEC_MIME_TYPE, append_mime, {\n",
       "      /* Is output safe? */\n",
       "      safe: true,\n",
       "      /* Index of renderer in `output_area.display_order` */\n",
       "      index: 0\n",
       "    });\n",
       "  }\n",
       "\n",
       "  // register the mime type if in Jupyter Notebook environment and previously unregistered\n",
       "  if (root.Jupyter !== undefined) {\n",
       "    var events = require('base/js/events');\n",
       "    var OutputArea = require('notebook/js/outputarea').OutputArea;\n",
       "\n",
       "    if (OutputArea.prototype.mime_types().indexOf(EXEC_MIME_TYPE) == -1) {\n",
       "      register_renderer(events, OutputArea);\n",
       "    }\n",
       "  }\n",
       "\n",
       "  \n",
       "  if (typeof (root._bokeh_timeout) === \"undefined\" || force === true) {\n",
       "    root._bokeh_timeout = Date.now() + 5000;\n",
       "    root._bokeh_failed_load = false;\n",
       "  }\n",
       "\n",
       "  var NB_LOAD_WARNING = {'data': {'text/html':\n",
       "     \"<div style='background-color: #fdd'>\\n\"+\n",
       "     \"<p>\\n\"+\n",
       "     \"BokehJS does not appear to have successfully loaded. If loading BokehJS from CDN, this \\n\"+\n",
       "     \"may be due to a slow or bad network connection. Possible fixes:\\n\"+\n",
       "     \"</p>\\n\"+\n",
       "     \"<ul>\\n\"+\n",
       "     \"<li>re-rerun `output_notebook()` to attempt to load from CDN again, or</li>\\n\"+\n",
       "     \"<li>use INLINE resources instead, as so:</li>\\n\"+\n",
       "     \"</ul>\\n\"+\n",
       "     \"<code>\\n\"+\n",
       "     \"from bokeh.resources import INLINE\\n\"+\n",
       "     \"output_notebook(resources=INLINE)\\n\"+\n",
       "     \"</code>\\n\"+\n",
       "     \"</div>\"}};\n",
       "\n",
       "  function display_loaded() {\n",
       "    var el = document.getElementById(\"33a7785f-5593-4ec7-8e74-9a05ee76e2cb\");\n",
       "    if (el != null) {\n",
       "      el.textContent = \"BokehJS is loading...\";\n",
       "    }\n",
       "    if (root.Bokeh !== undefined) {\n",
       "      if (el != null) {\n",
       "        el.textContent = \"BokehJS \" + root.Bokeh.version + \" successfully loaded.\";\n",
       "      }\n",
       "    } else if (Date.now() < root._bokeh_timeout) {\n",
       "      setTimeout(display_loaded, 100)\n",
       "    }\n",
       "  }\n",
       "\n",
       "\n",
       "  function run_callbacks() {\n",
       "    try {\n",
       "      root._bokeh_onload_callbacks.forEach(function(callback) { callback() });\n",
       "    }\n",
       "    finally {\n",
       "      delete root._bokeh_onload_callbacks\n",
       "    }\n",
       "    console.info(\"Bokeh: all callbacks have finished\");\n",
       "  }\n",
       "\n",
       "  function load_libs(js_urls, callback) {\n",
       "    root._bokeh_onload_callbacks.push(callback);\n",
       "    if (root._bokeh_is_loading > 0) {\n",
       "      console.log(\"Bokeh: BokehJS is being loaded, scheduling callback at\", now());\n",
       "      return null;\n",
       "    }\n",
       "    if (js_urls == null || js_urls.length === 0) {\n",
       "      run_callbacks();\n",
       "      return null;\n",
       "    }\n",
       "    console.log(\"Bokeh: BokehJS not loaded, scheduling load and callback at\", now());\n",
       "    root._bokeh_is_loading = js_urls.length;\n",
       "    for (var i = 0; i < js_urls.length; i++) {\n",
       "      var url = js_urls[i];\n",
       "      var s = document.createElement('script');\n",
       "      s.src = url;\n",
       "      s.async = false;\n",
       "      s.onreadystatechange = s.onload = function() {\n",
       "        root._bokeh_is_loading--;\n",
       "        if (root._bokeh_is_loading === 0) {\n",
       "          console.log(\"Bokeh: all BokehJS libraries loaded\");\n",
       "          run_callbacks()\n",
       "        }\n",
       "      };\n",
       "      s.onerror = function() {\n",
       "        console.warn(\"failed to load library \" + url);\n",
       "      };\n",
       "      console.log(\"Bokeh: injecting script tag for BokehJS library: \", url);\n",
       "      document.getElementsByTagName(\"head\")[0].appendChild(s);\n",
       "    }\n",
       "  };var element = document.getElementById(\"33a7785f-5593-4ec7-8e74-9a05ee76e2cb\");\n",
       "  if (element == null) {\n",
       "    console.log(\"Bokeh: ERROR: autoload.js configured with elementid '33a7785f-5593-4ec7-8e74-9a05ee76e2cb' but no matching script tag was found. \")\n",
       "    return false;\n",
       "  }\n",
       "\n",
       "  var js_urls = [\"https://cdn.pydata.org/bokeh/release/bokeh-0.12.16.min.js\", \"https://cdn.pydata.org/bokeh/release/bokeh-widgets-0.12.16.min.js\", \"https://cdn.pydata.org/bokeh/release/bokeh-tables-0.12.16.min.js\", \"https://cdn.pydata.org/bokeh/release/bokeh-gl-0.12.16.min.js\"];\n",
       "\n",
       "  var inline_js = [\n",
       "    function(Bokeh) {\n",
       "      Bokeh.set_log_level(\"info\");\n",
       "    },\n",
       "    \n",
       "    function(Bokeh) {\n",
       "      \n",
       "    },\n",
       "    function(Bokeh) {\n",
       "      console.log(\"Bokeh: injecting CSS: https://cdn.pydata.org/bokeh/release/bokeh-0.12.16.min.css\");\n",
       "      Bokeh.embed.inject_css(\"https://cdn.pydata.org/bokeh/release/bokeh-0.12.16.min.css\");\n",
       "      console.log(\"Bokeh: injecting CSS: https://cdn.pydata.org/bokeh/release/bokeh-widgets-0.12.16.min.css\");\n",
       "      Bokeh.embed.inject_css(\"https://cdn.pydata.org/bokeh/release/bokeh-widgets-0.12.16.min.css\");\n",
       "      console.log(\"Bokeh: injecting CSS: https://cdn.pydata.org/bokeh/release/bokeh-tables-0.12.16.min.css\");\n",
       "      Bokeh.embed.inject_css(\"https://cdn.pydata.org/bokeh/release/bokeh-tables-0.12.16.min.css\");\n",
       "    }\n",
       "  ];\n",
       "\n",
       "  function run_inline_js() {\n",
       "    \n",
       "    if ((root.Bokeh !== undefined) || (force === true)) {\n",
       "      for (var i = 0; i < inline_js.length; i++) {\n",
       "        inline_js[i].call(root, root.Bokeh);\n",
       "      }if (force === true) {\n",
       "        display_loaded();\n",
       "      }} else if (Date.now() < root._bokeh_timeout) {\n",
       "      setTimeout(run_inline_js, 100);\n",
       "    } else if (!root._bokeh_failed_load) {\n",
       "      console.log(\"Bokeh: BokehJS failed to load within specified timeout.\");\n",
       "      root._bokeh_failed_load = true;\n",
       "    } else if (force !== true) {\n",
       "      var cell = $(document.getElementById(\"33a7785f-5593-4ec7-8e74-9a05ee76e2cb\")).parents('.cell').data().cell;\n",
       "      cell.output_area.append_execute_result(NB_LOAD_WARNING)\n",
       "    }\n",
       "\n",
       "  }\n",
       "\n",
       "  if (root._bokeh_is_loading === 0) {\n",
       "    console.log(\"Bokeh: BokehJS loaded, going straight to plotting\");\n",
       "    run_inline_js();\n",
       "  } else {\n",
       "    load_libs(js_urls, function() {\n",
       "      console.log(\"Bokeh: BokehJS plotting callback run at\", now());\n",
       "      run_inline_js();\n",
       "    });\n",
       "  }\n",
       "}(window));"
      ],
      "application/vnd.bokehjs_load.v0+json": "\n(function(root) {\n  function now() {\n    return new Date();\n  }\n\n  var force = true;\n\n  if (typeof (root._bokeh_onload_callbacks) === \"undefined\" || force === true) {\n    root._bokeh_onload_callbacks = [];\n    root._bokeh_is_loading = undefined;\n  }\n\n  \n\n  \n  if (typeof (root._bokeh_timeout) === \"undefined\" || force === true) {\n    root._bokeh_timeout = Date.now() + 5000;\n    root._bokeh_failed_load = false;\n  }\n\n  var NB_LOAD_WARNING = {'data': {'text/html':\n     \"<div style='background-color: #fdd'>\\n\"+\n     \"<p>\\n\"+\n     \"BokehJS does not appear to have successfully loaded. If loading BokehJS from CDN, this \\n\"+\n     \"may be due to a slow or bad network connection. Possible fixes:\\n\"+\n     \"</p>\\n\"+\n     \"<ul>\\n\"+\n     \"<li>re-rerun `output_notebook()` to attempt to load from CDN again, or</li>\\n\"+\n     \"<li>use INLINE resources instead, as so:</li>\\n\"+\n     \"</ul>\\n\"+\n     \"<code>\\n\"+\n     \"from bokeh.resources import INLINE\\n\"+\n     \"output_notebook(resources=INLINE)\\n\"+\n     \"</code>\\n\"+\n     \"</div>\"}};\n\n  function display_loaded() {\n    var el = document.getElementById(\"33a7785f-5593-4ec7-8e74-9a05ee76e2cb\");\n    if (el != null) {\n      el.textContent = \"BokehJS is loading...\";\n    }\n    if (root.Bokeh !== undefined) {\n      if (el != null) {\n        el.textContent = \"BokehJS \" + root.Bokeh.version + \" successfully loaded.\";\n      }\n    } else if (Date.now() < root._bokeh_timeout) {\n      setTimeout(display_loaded, 100)\n    }\n  }\n\n\n  function run_callbacks() {\n    try {\n      root._bokeh_onload_callbacks.forEach(function(callback) { callback() });\n    }\n    finally {\n      delete root._bokeh_onload_callbacks\n    }\n    console.info(\"Bokeh: all callbacks have finished\");\n  }\n\n  function load_libs(js_urls, callback) {\n    root._bokeh_onload_callbacks.push(callback);\n    if (root._bokeh_is_loading > 0) {\n      console.log(\"Bokeh: BokehJS is being loaded, scheduling callback at\", now());\n      return null;\n    }\n    if (js_urls == null || js_urls.length === 0) {\n      run_callbacks();\n      return null;\n    }\n    console.log(\"Bokeh: BokehJS not loaded, scheduling load and callback at\", now());\n    root._bokeh_is_loading = js_urls.length;\n    for (var i = 0; i < js_urls.length; i++) {\n      var url = js_urls[i];\n      var s = document.createElement('script');\n      s.src = url;\n      s.async = false;\n      s.onreadystatechange = s.onload = function() {\n        root._bokeh_is_loading--;\n        if (root._bokeh_is_loading === 0) {\n          console.log(\"Bokeh: all BokehJS libraries loaded\");\n          run_callbacks()\n        }\n      };\n      s.onerror = function() {\n        console.warn(\"failed to load library \" + url);\n      };\n      console.log(\"Bokeh: injecting script tag for BokehJS library: \", url);\n      document.getElementsByTagName(\"head\")[0].appendChild(s);\n    }\n  };var element = document.getElementById(\"33a7785f-5593-4ec7-8e74-9a05ee76e2cb\");\n  if (element == null) {\n    console.log(\"Bokeh: ERROR: autoload.js configured with elementid '33a7785f-5593-4ec7-8e74-9a05ee76e2cb' but no matching script tag was found. \")\n    return false;\n  }\n\n  var js_urls = [\"https://cdn.pydata.org/bokeh/release/bokeh-0.12.16.min.js\", \"https://cdn.pydata.org/bokeh/release/bokeh-widgets-0.12.16.min.js\", \"https://cdn.pydata.org/bokeh/release/bokeh-tables-0.12.16.min.js\", \"https://cdn.pydata.org/bokeh/release/bokeh-gl-0.12.16.min.js\"];\n\n  var inline_js = [\n    function(Bokeh) {\n      Bokeh.set_log_level(\"info\");\n    },\n    \n    function(Bokeh) {\n      \n    },\n    function(Bokeh) {\n      console.log(\"Bokeh: injecting CSS: https://cdn.pydata.org/bokeh/release/bokeh-0.12.16.min.css\");\n      Bokeh.embed.inject_css(\"https://cdn.pydata.org/bokeh/release/bokeh-0.12.16.min.css\");\n      console.log(\"Bokeh: injecting CSS: https://cdn.pydata.org/bokeh/release/bokeh-widgets-0.12.16.min.css\");\n      Bokeh.embed.inject_css(\"https://cdn.pydata.org/bokeh/release/bokeh-widgets-0.12.16.min.css\");\n      console.log(\"Bokeh: injecting CSS: https://cdn.pydata.org/bokeh/release/bokeh-tables-0.12.16.min.css\");\n      Bokeh.embed.inject_css(\"https://cdn.pydata.org/bokeh/release/bokeh-tables-0.12.16.min.css\");\n    }\n  ];\n\n  function run_inline_js() {\n    \n    if ((root.Bokeh !== undefined) || (force === true)) {\n      for (var i = 0; i < inline_js.length; i++) {\n        inline_js[i].call(root, root.Bokeh);\n      }if (force === true) {\n        display_loaded();\n      }} else if (Date.now() < root._bokeh_timeout) {\n      setTimeout(run_inline_js, 100);\n    } else if (!root._bokeh_failed_load) {\n      console.log(\"Bokeh: BokehJS failed to load within specified timeout.\");\n      root._bokeh_failed_load = true;\n    } else if (force !== true) {\n      var cell = $(document.getElementById(\"33a7785f-5593-4ec7-8e74-9a05ee76e2cb\")).parents('.cell').data().cell;\n      cell.output_area.append_execute_result(NB_LOAD_WARNING)\n    }\n\n  }\n\n  if (root._bokeh_is_loading === 0) {\n    console.log(\"Bokeh: BokehJS loaded, going straight to plotting\");\n    run_inline_js();\n  } else {\n    load_libs(js_urls, function() {\n      console.log(\"Bokeh: BokehJS plotting callback run at\", now());\n      run_inline_js();\n    });\n  }\n}(window));"
     },
     "metadata": {},
     "output_type": "display_data"
    }
   ],
   "source": [
    "output_notebook()"
   ]
  },
  {
   "cell_type": "code",
   "execution_count": 3,
   "metadata": {
    "collapsed": true
   },
   "outputs": [],
   "source": [
    "MOL = 'h2o'"
   ]
  },
  {
   "cell_type": "code",
   "execution_count": 4,
   "metadata": {
    "collapsed": true
   },
   "outputs": [],
   "source": [
    "ATMPRO = dict(mls=294, saw=257, trp=300)"
   ]
  },
  {
   "cell_type": "code",
   "execution_count": 5,
   "metadata": {
    "collapsed": true
   },
   "outputs": [],
   "source": [
    "COMMITNUMBER = '1013f91'"
   ]
  },
  {
   "cell_type": "code",
   "execution_count": 6,
   "metadata": {
    "collapsed": true
   },
   "outputs": [],
   "source": [
    "client = pymongo.MongoClient('localhost', 27017)"
   ]
  },
  {
   "cell_type": "code",
   "execution_count": 7,
   "metadata": {
    "collapsed": true
   },
   "outputs": [],
   "source": [
    "def show_html(s):\n",
    "    display.display(display.HTML(s))\n",
    "\n",
    "def show_markdown(s):\n",
    "    display.display(display.Markdown(s))"
   ]
  },
  {
   "cell_type": "code",
   "execution_count": 8,
   "metadata": {
    "collapsed": true
   },
   "outputs": [],
   "source": [
    "def to_lblnewparam(param=None):\n",
    "    '''\n",
    "    Convert clirad's input parameter dictionary \n",
    "    into something like lblnew's.\n",
    "    '''\n",
    "    band = param['band'][0]\n",
    "    band = mapband_new2old()[band]\n",
    "    atmpro = param['atmpro']\n",
    "    tsfc = param['tsfc']\n",
    "    \n",
    "    p = {'band': band, \n",
    "         'atmpro': atmpro, 'tsfc': tsfc,\n",
    "         'dv': .001, 'nv': 1000}\n",
    "    \n",
    "    if len(param['molecule']) > 1: p['molecule'] = param['molecule']\n",
    "    else: \n",
    "        molecule, conc = list(param['molecule'].items())[0]\n",
    "        p['molecule'] = molecule\n",
    "        if conc == 'atmpro': p['conc'] = None\n",
    "        else: p['conc'] = conc\n",
    "    return p\n",
    "\n",
    "def make_query(param=None):\n",
    "    molecules = {'h2o', 'co2', 'o3', 'n2o', 'ch4'}\n",
    "    q = {}\n",
    "    for n, v in param.items():\n",
    "        if n == 'molecule' and type(v) == dict:\n",
    "            for mol, conc in v.items():\n",
    "                q[f'param.molecule.{mol}'] = conc\n",
    "            for mol in molecules - set(v.keys()):\n",
    "                q[f'param.molecule.{mol}'] = {'$exists': 0}\n",
    "        else:\n",
    "            q[f'param.{n}'] = v\n",
    "    return q"
   ]
  },
  {
   "cell_type": "code",
   "execution_count": 9,
   "metadata": {
    "collapsed": true
   },
   "outputs": [],
   "source": [
    "def subparam_atm_clirad(atmpro='mls'):\n",
    "    commitnumber = COMMITNUMBER\n",
    "    atm = nongreys_byband()\n",
    "    band = list(atm.keys())\n",
    "    molecule = {mol: conc for _, molconcs in atm.items() \n",
    "                for mol, conc in molconcs.items() if mol == MOL}\n",
    "    return dict(commitnumber=commitnumber,\n",
    "                band=band, molecule=molecule, \n",
    "                atmpro=atmpro, tsfc=ATMPRO[atmpro])\n",
    "\n",
    "def clirad_data_atm(params_atm=None):\n",
    "    for p in params_atm:\n",
    "        q = make_query(p)\n",
    "        r = client.cliradnew.lw.find_one(q)\n",
    "        fluxs, cools = [], []\n",
    "        if not r: print('No data found for', p['molecule'], p['band'])\n",
    "        else: \n",
    "            fluxs.append(load_output_file(io.StringIO(r['output_flux'])))\n",
    "            cools.append(load_output_file(io.StringIO(r['output_coolr'])))\n",
    "    return dict(flux=sum(fluxs), cool=sum(cools))"
   ]
  },
  {
   "cell_type": "code",
   "execution_count": 10,
   "metadata": {
    "collapsed": true,
    "scrolled": false
   },
   "outputs": [],
   "source": [
    "def load_lblnew_data(r):\n",
    "    '''\n",
    "    Loads a lblnew-bestfit mongodb document's fluxes and cooling rates.\n",
    "    '''\n",
    "    if 'ng_refs' in r['param']:\n",
    "        ns = {'ds_flux_crd': 'output_flux',\n",
    "              'ds_cool_crd': 'output_coolr',\n",
    "              'ds_flux_wgt': 'output_wfluxg',\n",
    "              'ds_cool_wgt': 'output_wcoolrg'}\n",
    "    else:\n",
    "        ns = {'ds_flux_crd': 'output_flux',\n",
    "              'ds_cool_crd': 'output_coolr',\n",
    "              'ds_flux_wgt': 'output_wflux',\n",
    "              'ds_cool_wgt': 'output_wcoolr'}\n",
    "    return {n: load_output_file(io.StringIO(r[s])) for n, s in ns.items()}\n",
    "\n",
    "def subparams_atm_lblnew(atmpro='mls'):\n",
    "    '''\n",
    "    Returns the list of {band, conc, molecule} dictionaries that\n",
    "    represent the model atmosphere.\n",
    "    '''  \n",
    "    atm = nongreys_byband()\n",
    "    subparams_clirad = [dict(band=[band], \n",
    "                             molecule={mol: conc for mol, conc in molconc.items() if mol == MOL},\n",
    "                             atmpro=atmpro, tsfc=ATMPRO[atmpro]) \n",
    "                        for band, molconc in atm.items() if MOL in molconc]\n",
    "    return [to_lblnewparam(p) for p in subparams_clirad]\n",
    "\n",
    "def crd_data_atm(params_atm=None):\n",
    "    '''\n",
    "    Returns Dataset containing CRD fluxes and cooling rates at\n",
    "    different pressures and spectral bands.\n",
    "    '''\n",
    "    results_atm = {}\n",
    "    for p in params_atm:\n",
    "        if isinstance(p['molecule'], dict): \n",
    "            collection = client.lblnew.overlap_lw\n",
    "        else: \n",
    "            collection = client.lblnew.bestfit_lw\n",
    "        \n",
    "        q = make_query(p)\n",
    "        r = collection.find_one(q)\n",
    "        if not r: print('No data found for', p['molecule'], p['band'])\n",
    "        else: results_atm[r['param']['band']] = load_lblnew_data(r)\n",
    "\n",
    "    bands = [mapband_old2new()[b] for b, _ in results_atm.items()]\n",
    "    fluxs = [d['ds_flux_crd'] for _, d in results_atm.items()]\n",
    "    cools = [d['ds_cool_crd'] for _, d in results_atm.items()]\n",
    "    \n",
    "    d = {}\n",
    "    d['flux'] = xr.concat(fluxs, dim=bands).rename({'concat_dim': 'band'})\n",
    "    d['cool'] = xr.concat(cools, dim=bands).rename({'concat_dim': 'band'})\n",
    "    return d"
   ]
  },
  {
   "cell_type": "code",
   "execution_count": 11,
   "metadata": {
    "collapsed": true
   },
   "outputs": [],
   "source": [
    "import rtmtools.clirad.sw.wrangle as cliradwrangle\n",
    "\n",
    "def oldclirad_data_atm():\n",
    "    '''\n",
    "    Load the OLD clirad's results. mls only.\n",
    "    '''\n",
    "    fpath = os.path.join('/chia_cluster/home/jackyu/radiation',\n",
    "                         'clirad-lw',\n",
    "                         'LW',\n",
    "                         'examples',\n",
    "                         'mls75_h2o_atmpro_co2_.0004_o3_atmpro_n2o_3.2e-7_ch4_1.8e-6_H2012',\n",
    "                         'OUTPUT_CLIRAD.dat')\n",
    "    \n",
    "    ds = cliradwrangle.load_OUTPUT_CLIRAD(readfrom=fpath)\n",
    "    \n",
    "    ds_cool = xr.Dataset()\n",
    "    ds_cool.coords['pressure'] = ('pressure', ds['layer_pressure'])\n",
    "    ds_cool.coords['band'] = ('band', ds['spectral_band'])\n",
    "    ds_cool['coolrg'] = (('band', 'pressure'), - ds['heating_rate'])\n",
    "    \n",
    "    ds_flux = xr.Dataset()\n",
    "    ds_flux.coords['pressure'] = ('pressure', ds['level_pressure'])\n",
    "    ds_flux.coords['band'] = ('band', ds['spectral_band'])\n",
    "    ds_flux['flug'] = (('band', 'pressure'), ds['flux_up'])\n",
    "    ds_flux['fldg'] = (('band', 'pressure'), ds['flux_down'])\n",
    "    ds_flux['fnetg'] = (('band', 'pressure'), ds['net_flux'])\n",
    "    \n",
    "    \n",
    "    d = {}\n",
    "    d['cool'] = ds_cool\n",
    "    d['flux'] = ds_flux\n",
    "    return d"
   ]
  },
  {
   "cell_type": "code",
   "execution_count": 12,
   "metadata": {
    "collapsed": true
   },
   "outputs": [],
   "source": [
    "def show_makeup():\n",
    "    df = pd.DataFrame()\n",
    "\n",
    "    for band, molecule in nongreys_byband().items():\n",
    "        for name, conc in molecule.items():\n",
    "            if name == MOL:\n",
    "                df.loc[name, band] = str(conc)\n",
    "\n",
    "    df = df.fillna(0)\n",
    "    df.columns.name = 'clirad band'\n",
    "    df.index.name = 'molecule'\n",
    "    \n",
    "    display.display(df)\n",
    "    \n",
    "    display.display(\n",
    "        display.Markdown('*TABLE.* Non-grey absorbers in the atmosphere.'))\n",
    "\n",
    "\n",
    "def show_grey_makeup():\n",
    "    df = pd.DataFrame()\n",
    "    \n",
    "    for band, molecule in greyabsorbers_by_band_atm().items():\n",
    "        if molecule == None:\n",
    "            pass\n",
    "        else:\n",
    "            for name, conc in molecule.items():\n",
    "                df.loc[name, band] = str(conc)\n",
    "                \n",
    "    df = df.fillna(0)\n",
    "    df.columns.name = 'clirad band'\n",
    "    df.index.name = 'absorber'\n",
    "    \n",
    "    display.display(df)\n",
    "    display.display(\n",
    "        display.Markdown('*TABLE.* Grey absorbers in the atmosphere.')\n",
    "    )"
   ]
  },
  {
   "cell_type": "code",
   "execution_count": 13,
   "metadata": {
    "collapsed": true
   },
   "outputs": [],
   "source": [
    "def fmt_cool(ds_in):\n",
    "    ds = ds_in.copy(deep=True)\n",
    "    dims = ['igg', 'g', 'i']\n",
    "    for dim in dims:\n",
    "        if dim in ds:\n",
    "            if ds[dim].shape == (1,): ds = ds.squeeze(dim).drop(dim)\n",
    "            elif ds[dim].shape == (): ds = ds.drop(dim)\n",
    "    if 'band' in ds.dims:\n",
    "        try:\n",
    "            ds = ds.squeeze('band')\n",
    "        except ValueError:\n",
    "            ds = ds.sum('band')     \n",
    "    return ds['coolrg']\n",
    "\n",
    "def nice_xlims(pltdata=None, prange=None):\n",
    "    \n",
    "    def get_slice(srs):\n",
    "        return srs.sel(pressure=slice(*prange))\n",
    "    \n",
    "    srss = [d['srs'] for d in pltdata]\n",
    "    vmin = min([get_slice(srs).min() for srs in srss])\n",
    "    vmax = max([get_slice(srs).max() for srs in srss])\n",
    "    dv = (vmax - vmin) * .01\n",
    "    return float(vmin - dv), float(vmax + dv)\n",
    " \n",
    "def plt_cool_bokeh(pltdata=None, \n",
    "                   y_axis_type='linear', prange=(50, 1050)):\n",
    "    \n",
    "    ymin = 1e-2 \n",
    "    ymax = 1020\n",
    "    \n",
    "    p2 = figure(y_axis_type=y_axis_type, plot_width=300)\n",
    "    xmin, xmax = nice_xlims(pltdata, prange=prange)\n",
    "    \n",
    "    rs = []\n",
    "    for d in pltdata:\n",
    "        rd = []\n",
    "        if 'marker' in d:\n",
    "            r_mark = getattr(p2, d['marker'])(d['srs'].values, \n",
    "                        d['srs'].coords['pressure'].values,\n",
    "                        color=d['color'], alpha=.7)\n",
    "            rd.append(r_mark)\n",
    "        r_line = p2.line(d['srs'].values, \n",
    "                         d['srs'].coords['pressure'].values,\n",
    "                         color=d['color'], alpha=d['alpha'], \n",
    "                         line_width=d['line_width'], \n",
    "                         line_dash=d['line_dash'])\n",
    "        rd.append(r_line)\n",
    "      \n",
    "        rs.append(rd)\n",
    "        \n",
    "    p2.y_range = Range1d(ymax, ymin)  \n",
    "    p2.yaxis.axis_label = 'pressure [mb]'\n",
    "    \n",
    "    p2.x_range = Range1d(xmin, xmax)\n",
    "    p2.xaxis.axis_label = 'cooling rate [K/day]'\n",
    "    \n",
    "    items = [(d['label'], r) for r, d in zip(rs, pltdata)]\n",
    "    legend = Legend(items=items, location=(10, 0))\n",
    "    legend.label_text_font_size = '8pt'\n",
    "    p2.add_layout(legend, 'above')\n",
    "    p2.legend.orientation = 'horizontal'\n",
    "    p2.legend.location = 'top_center'\n",
    "    \n",
    "    return p2"
   ]
  },
  {
   "cell_type": "code",
   "execution_count": 14,
   "metadata": {
    "collapsed": true,
    "scrolled": false
   },
   "outputs": [],
   "source": [
    "def pltdata_cool(atmpro='mls'):\n",
    "    ds_clirad = clirad_data_atm(params_atm=[subparam_atm_clirad(atmpro=atmpro)])['cool']\n",
    "    ds_crd = crd_data_atm(params_atm=subparams_atm_lblnew(atmpro=atmpro))['cool']\n",
    "\n",
    "    colors = all_palettes['Set1'][4]\n",
    "    \n",
    "    data = [\n",
    "        {'label': 'CLIRAD',\n",
    "         'srs': fmt_cool(ds_clirad),\n",
    "         'line_dash': 'dashed', 'line_width': 5,\n",
    "         'color': colors[0], 'alpha': .6},\n",
    "        {'label': 'CRD',\n",
    "         'srs': fmt_cool(ds_crd),\n",
    "         'line_dash': 'solid', 'line_width': 1.5,\n",
    "         'marker': 'circle', 'marker_size': 5,\n",
    "         'color': colors[2], 'alpha': 1}\n",
    "    ]\n",
    "    \n",
    "    # include old CLIRAD's results for mls profile\n",
    "#    if atmpro == 'mls':\n",
    "#        d_oldclirad = oldclirad_data_atm()\n",
    "#        ds_oldclirad = d_oldclirad['cool']        \n",
    "#        data.append(\n",
    "#            {'label': 'old CLIRAD (H2012)',\n",
    "#             'srs': fmt_cool(ds_oldclirad),\n",
    "#             'line_dash': 'solid', 'line_width': 1.5,\n",
    "#             'marker': 'square', 'marker_size': 3,\n",
    "#             'color': colors[3], 'alpha': .5})\n",
    "    return data\n",
    "\n",
    "\n",
    "def pltdata_cooldiff(atmpro='mls'):\n",
    "    ds_clirad = clirad_data_atm(params_atm=[subparam_atm_clirad(atmpro=atmpro)])['cool']\n",
    "    ds_crd = crd_data_atm(params_atm=subparams_atm_lblnew(atmpro=atmpro))['cool']    \n",
    "    \n",
    "    ds_diff = ds_clirad - ds_crd\n",
    "    \n",
    "    colors = all_palettes['Set1'][4]\n",
    "    \n",
    "    data = [\n",
    "        {'label': 'CLIRAD - CRD',\n",
    "         'srs': fmt_cool(ds_diff),\n",
    "         'line_dash': 'solid', 'line_width': 1.5, \n",
    "         'marker': 'circle', 'marker_size': 7,\n",
    "         'color': colors[3], 'alpha': .8}\n",
    "    ]\n",
    "    \n",
    "    # include old CLIRAD's results for mls profile\n",
    "#    if atmpro == 'mls':\n",
    "#        d_oldclirad = oldclirad_data_atm()\n",
    "#        ds_oldclirad = d_oldclirad['cool']\n",
    "#        ds_oldclirad.coords['pressure'] = ds_crd.coords['pressure']\n",
    "#        ds_diff_old = ds_oldclirad.sum('band') - ds_crd.sum('band')\n",
    "#        data.append(\n",
    "#            {'label': 'old CLIRAD (H2012) - CRD',\n",
    "#             'srs': fmt_cool(ds_diff_old),\n",
    "#             'line_dash': 'dashed', 'line_width': 4,\n",
    "#             'color': colors[1], 'alpha': .5}\n",
    "#        )\n",
    "    return data\n",
    "\n",
    "\n",
    "def show_cool(atmpro='mls'):\n",
    "    data_cool = pltdata_cool(atmpro=atmpro)\n",
    "    p_cool_liny = plt_cool_bokeh(pltdata=data_cool)\n",
    "    p_cool_logy = plt_cool_bokeh(pltdata=data_cool, \n",
    "                                 y_axis_type='log',\n",
    "                                 prange=(.01, 200))\n",
    "    \n",
    "    data_cooldiff = pltdata_cooldiff(atmpro=atmpro)\n",
    "    p_cooldiff_logy = plt_cool_bokeh(pltdata=data_cooldiff,\n",
    "                                     y_axis_type='log',\n",
    "                                     prange=(.01, 200))\n",
    "    \n",
    "    everything = gridplot(p_cool_liny, p_cool_logy, \n",
    "                          p_cooldiff_logy,\n",
    "                          ncols=3)\n",
    "    show(everything)\n",
    "    display.display(\n",
    "        display.Markdown('*FIGURE.* Cooling rates & difference.'))\n",
    "    "
   ]
  },
  {
   "cell_type": "code",
   "execution_count": 15,
   "metadata": {
    "collapsed": true,
    "scrolled": false
   },
   "outputs": [],
   "source": [
    "def fmt_flux(ds_in):\n",
    "    ds = ds_in.copy(deep=True)\n",
    "    for dim in ['band', 'g']:\n",
    "        if dim in ds: ds = ds.sum(dim)\n",
    "        \n",
    "    for dim in ['i', 'igg', 'g']:\n",
    "        if dim in ds:\n",
    "            if ds[dim].shape == (1,): ds = ds.squeeze(dim).drop(dim)\n",
    "            elif ds[dim].shape == (): ds = ds.drop(dim)\n",
    "    return ds\n",
    "\n",
    "def hist_band_vs_flux(da, title='Title'):\n",
    "    da = da.sel(i=1)\n",
    "    bands = [str(b.values) for b in da['band']]\n",
    "    source = ColumnDataSource(data={'band': bands, 'flux': da.values})\n",
    "    p = figure(x_range=bands, title=title)\n",
    "    p.vbar(source=source, x='band', top='flux', width=.9)\n",
    "    p.yaxis.axis_label = 'flux (W m-2)'\n",
    "    p.xaxis.axis_label = 'spectral band'\n",
    "    return p\n",
    "\n",
    "def show_hist_flux(atmpro='mls'):\n",
    "    ds_crd = crd_data_atm(params_atm=subparams_atm_lblnew(atmpro=atmpro))['flux']\n",
    "    ds_clirad = clirad_data_atm(params_atm=[subparam_atm_clirad(atmpro=atmpro)])['flux']\n",
    "    \n",
    "    ip, varname = 0, 'flug'\n",
    "    da = (ds_clirad - ds_crd).isel(pressure=ip)[varname]\n",
    "    p_toa = hist_band_vs_flux(da, title='TOA flux. CLIRAD - CRD.')\n",
    "\n",
    "    ip, varname = -1, 'fldg'\n",
    "    da = (ds_clirad - ds_crd).isel(pressure=ip)[varname]\n",
    "    p_sfc = hist_band_vs_flux(da, title='SFC flux. CLIRAD - CRD.')    \n",
    "    \n",
    "    atm_crd = (ds_crd.isel(pressure=0) - ds_crd.isel(pressure=-1))['fnetg']\n",
    "    atm_clirad = (ds_clirad.isel(pressure=0) - ds_clirad.isel(pressure=-1))['fnetg']\n",
    "    da = atm_clirad - atm_crd\n",
    "    p_atm = hist_band_vs_flux(da, title='Atmosphere heating. CLIRAD - CRD.')\n",
    "\n",
    "    everything = gridplot(p_toa, p_sfc, p_atm, ncols=3, plot_width=300, plot_height=300)\n",
    "    \n",
    "    show(everything)\n",
    "    display.display(\n",
    "        display.Markdown('*FIGURE.* Difference between CLIRAD and CRD'\n",
    "          ' in TOA, SFC and net atmosphere flux,'\n",
    "          ' in each spectral band.'))\n",
    "\n",
    "def show_tb_flux(atmpro='mls'):\n",
    "    \n",
    "    def fmt(da_in):\n",
    "        da = da_in.copy(deep=True)\n",
    "        if 'igg' in da.dims:\n",
    "            da = da.sel(igg=1)\n",
    "            \n",
    "        if 'g' in da.dims:\n",
    "            da = da.sum('g')\n",
    "        \n",
    "        if 'band' in da.dims:\n",
    "            try:\n",
    "                da = da.squeeze('band')\n",
    "            except ValueError:\n",
    "                da = da.sum('band')\n",
    "                \n",
    "        return da\n",
    "    \n",
    "    ds_crd = crd_data_atm(params_atm=subparams_atm_lblnew(atmpro=atmpro))['flux']\n",
    "    olr_crd = ds_crd['flug'].isel(pressure=0)\n",
    "    sfc_crd = ds_crd['fldg'].isel(pressure=-1)\n",
    "    atm_crd = (ds_crd.isel(pressure=0) - ds_crd.isel(pressure=-1))['fnetg']\n",
    "    \n",
    "    ds_clirad = clirad_data_atm(params_atm=[subparam_atm_clirad(atmpro=atmpro)])['flux']\n",
    "    olr_clirad = ds_clirad['flug'].isel(pressure=0)\n",
    "    sfc_clirad = ds_clirad['fldg'].isel(pressure=-1)\n",
    "    atm_clirad = (ds_clirad.isel(pressure=0) - ds_clirad.isel(pressure=-1))['fnetg']\n",
    "    \n",
    "#    if atmpro == 'mls':\n",
    "#        ds_oldclirad = oldclirad_data_atm()['flux']\n",
    "#        ds_oldclirad['pressure'] = ds_crd['pressure']\n",
    "#        olr_oldclirad = ds_oldclirad['flug'].isel(pressure=0)\n",
    "#        sfc_oldclirad = ds_oldclirad['fldg'].isel(pressure=-1)\n",
    "#        atm_oldclirad = (ds_oldclirad.isel(pressure=0)\n",
    "#                         - ds_oldclirad.isel(pressure=-1))['fnetg']\n",
    "        \n",
    "    df = pd.DataFrame()\n",
    "    df.index.name = 'Sum over bands'\n",
    "    \n",
    "#    if atmpro == 'mls':\n",
    "#        df.loc['old CLIRAD - CRD', 'OLR flux'] = (fmt(olr_oldclirad) - fmt(olr_crd)).values\n",
    "#        df.loc['old CLIRAD - CRD', 'SFC flux'] = (fmt(sfc_oldclirad) - fmt(sfc_crd)).values\n",
    "#        df.loc['old CLIRAD - CRD', 'ATM heating'] = (fmt(atm_oldclirad) - fmt(atm_crd)).values\n",
    "    \n",
    "    df.loc['CLIRAD - CRD', 'OLR flux'] = (fmt(olr_clirad) - fmt(olr_crd)).values\n",
    "    df.loc['CLIRAD - CRD', 'SFC flux'] = (fmt(sfc_clirad) - fmt(sfc_crd)).values\n",
    "    df.loc['CLIRAD - CRD', 'ATM heating'] = (fmt(atm_clirad) - fmt(atm_crd)).values\n",
    "\n",
    "    df.loc['CRD', 'OLR flux'] = fmt(olr_crd).values\n",
    "    df.loc['CRD', 'SFC flux'] = fmt(sfc_crd).values\n",
    "    df.loc['CRD', 'ATM heating'] = fmt(atm_crd).values\n",
    "        \n",
    "    df = df.astype('float').round(2)\n",
    "    \n",
    "    display.display(df)\n",
    "    display.display(\n",
    "        display.Markdown('*TABLE.* Difference between CLIRAD and CRD'\n",
    "          ' in TOA, SFC and net atmosphere flux,'\n",
    "          ' over all spectral bands. CRD\\'s'\n",
    "          ' TOA, SFC and net atmosphere flux,'\n",
    "          ' over all spectral bands.'))"
   ]
  },
  {
   "cell_type": "code",
   "execution_count": 16,
   "metadata": {
    "collapsed": true,
    "scrolled": true
   },
   "outputs": [],
   "source": [
    "def cool_tofile(atmpro=None):\n",
    "    dcli = clirad_data_atm(params_atm=[subparam_atm_clirad(atmpro=atmpro)])\n",
    "    dcrd = crd_data_atm(params_atm=subparams_atm_lblnew(atmpro=atmpro))\n",
    "    \n",
    "    dcli = dcli['cool'].sel(i=1).drop('i').sum('band')\n",
    "    dcrd = dcrd['cool'].sum('band')\n",
    "    \n",
    "    dcli = dcli['coolrg'].to_dataframe()\n",
    "    dcrd = dcrd['coolrg'].to_dataframe()\n",
    "    \n",
    "    dcli = dcli.set_index('layer', append=True)\n",
    "    dcrd = dcrd.set_index('layer', append=True)\n",
    "    \n",
    "    ddif = dcli - dcrd\n",
    "    \n",
    "    df = pd.concat([dcrd, dcli, ddif], axis=1, keys=['CRD', 'CLIRAD', 'CLIRAD - CRD'])\n",
    "    return df\n",
    "\n",
    "\n",
    "def flux_tofile(atmpro=None):\n",
    "    tropopauses = {'mls': 40, 'saw': 45, 'trp': 37}\n",
    "    ilevels = [0, tropopauses[atmpro], -1]\n",
    "    \n",
    "    dcli = clirad_data_atm(params_atm=[subparam_atm_clirad(atmpro=atmpro)])\n",
    "    dcrd = crd_data_atm(params_atm=subparams_atm_lblnew(atmpro=atmpro))\n",
    "    \n",
    "    dcli = dcli['flux'].sel(i=1).drop('i').sum('band').isel(pressure=ilevels)\n",
    "    dcrd = dcrd['flux'].sum('band').isel(pressure=ilevels)\n",
    "    \n",
    "    dcli = dcli.to_dataframe()\n",
    "    dcrd = dcrd.to_dataframe()\n",
    "    \n",
    "    dcli = dcli.set_index('level', append=True)\n",
    "    dcrd = dcrd.set_index('level', append=True)\n",
    "    \n",
    "    ddif = dcli - dcrd\n",
    "    \n",
    "    df = pd.concat([dcrd, dcli, ddif], axis=1, keys=['CRD', 'CLIRAD', 'CLIRAD - CRD'])\n",
    "    return df\n",
    "\n",
    "\n",
    "def script_tofile():\n",
    "    fname = f'results_{MOL}atm_cliradsinglerun-Copy2.xlsx'\n",
    "    writer = pd.ExcelWriter(fname)\n",
    "    for atmpro in ('mls', 'saw', 'trp'):\n",
    "        dflux = flux_tofile(atmpro=atmpro)\n",
    "        dflux.to_excel(writer, f'flux {atmpro}')\n",
    "        \n",
    "        dcool = cool_tofile(atmpro=atmpro)\n",
    "        dcool.to_excel(writer, f'cool {atmpro}')\n",
    "        \n",
    "    html = f'Download: <a href=\"./{fname}\">{fname}</a>'\n",
    "    show_html(html)\n",
    "\n",
    "        "
   ]
  },
  {
   "cell_type": "code",
   "execution_count": 17,
   "metadata": {
    "scrolled": false
   },
   "outputs": [
    {
     "data": {
      "text/markdown": [
       "## Results over entire range of molecules and spectral bands"
      ],
      "text/plain": [
       "<IPython.core.display.Markdown object>"
      ]
     },
     "metadata": {},
     "output_type": "display_data"
    },
    {
     "data": {
      "text/markdown": [
       "### Table of Contents"
      ],
      "text/plain": [
       "<IPython.core.display.Markdown object>"
      ]
     },
     "metadata": {},
     "output_type": "display_data"
    },
    {
     "data": {
      "text/html": [
       "<a href=\"#Makeup_of_atmosphere.\">Makeup of atmosphere.</a>"
      ],
      "text/plain": [
       "<IPython.core.display.HTML object>"
      ]
     },
     "metadata": {},
     "output_type": "display_data"
    },
    {
     "data": {
      "text/markdown": [
       "**mid-latitude summer**"
      ],
      "text/plain": [
       "<IPython.core.display.Markdown object>"
      ]
     },
     "metadata": {},
     "output_type": "display_data"
    },
    {
     "data": {
      "text/html": [
       "<a href=\"#Cooling_rates._mls.\">Cooling rates. mls.</a>"
      ],
      "text/plain": [
       "<IPython.core.display.HTML object>"
      ]
     },
     "metadata": {},
     "output_type": "display_data"
    },
    {
     "data": {
      "text/html": [
       "<a href=\"#Fluxes._mls.\">Fluxes. mls.</a>"
      ],
      "text/plain": [
       "<IPython.core.display.HTML object>"
      ]
     },
     "metadata": {},
     "output_type": "display_data"
    },
    {
     "data": {
      "text/markdown": [
       "**sub-arctic winter**"
      ],
      "text/plain": [
       "<IPython.core.display.Markdown object>"
      ]
     },
     "metadata": {},
     "output_type": "display_data"
    },
    {
     "data": {
      "text/html": [
       "<a href=\"#Cooling_rates._saw.\">Cooling rates. saw.</a>"
      ],
      "text/plain": [
       "<IPython.core.display.HTML object>"
      ]
     },
     "metadata": {},
     "output_type": "display_data"
    },
    {
     "data": {
      "text/html": [
       "<a href=\"#Fluxes._saw.\">Fluxes. saw.</a>"
      ],
      "text/plain": [
       "<IPython.core.display.HTML object>"
      ]
     },
     "metadata": {},
     "output_type": "display_data"
    },
    {
     "data": {
      "text/markdown": [
       "**tropical**"
      ],
      "text/plain": [
       "<IPython.core.display.Markdown object>"
      ]
     },
     "metadata": {},
     "output_type": "display_data"
    },
    {
     "data": {
      "text/html": [
       "<a href=\"#Cooling_rates._trp.\">Cooling rates. trp.</a>"
      ],
      "text/plain": [
       "<IPython.core.display.HTML object>"
      ]
     },
     "metadata": {},
     "output_type": "display_data"
    },
    {
     "data": {
      "text/html": [
       "<a href=\"#Fluxes._trp.\">Fluxes. trp.</a>"
      ],
      "text/plain": [
       "<IPython.core.display.HTML object>"
      ]
     },
     "metadata": {},
     "output_type": "display_data"
    },
    {
     "data": {
      "text/html": [
       "<a id=\"Makeup_of_atmosphere.\"></a>"
      ],
      "text/plain": [
       "<IPython.core.display.HTML object>"
      ]
     },
     "metadata": {},
     "output_type": "display_data"
    },
    {
     "data": {
      "text/markdown": [
       "# Makeup of atmosphere."
      ],
      "text/plain": [
       "<IPython.core.display.Markdown object>"
      ]
     },
     "metadata": {},
     "output_type": "display_data"
    },
    {
     "data": {
      "text/html": [
       "<div>\n",
       "<style scoped>\n",
       "    .dataframe tbody tr th:only-of-type {\n",
       "        vertical-align: middle;\n",
       "    }\n",
       "\n",
       "    .dataframe tbody tr th {\n",
       "        vertical-align: top;\n",
       "    }\n",
       "\n",
       "    .dataframe thead th {\n",
       "        text-align: right;\n",
       "    }\n",
       "</style>\n",
       "<table border=\"1\" class=\"dataframe\">\n",
       "  <thead>\n",
       "    <tr style=\"text-align: right;\">\n",
       "      <th>clirad band</th>\n",
       "      <th>1</th>\n",
       "      <th>2</th>\n",
       "      <th>3</th>\n",
       "      <th>4</th>\n",
       "      <th>5</th>\n",
       "      <th>6</th>\n",
       "      <th>7</th>\n",
       "      <th>8</th>\n",
       "      <th>9</th>\n",
       "      <th>10</th>\n",
       "      <th>11</th>\n",
       "    </tr>\n",
       "    <tr>\n",
       "      <th>molecule</th>\n",
       "      <th></th>\n",
       "      <th></th>\n",
       "      <th></th>\n",
       "      <th></th>\n",
       "      <th></th>\n",
       "      <th></th>\n",
       "      <th></th>\n",
       "      <th></th>\n",
       "      <th></th>\n",
       "      <th></th>\n",
       "      <th></th>\n",
       "    </tr>\n",
       "  </thead>\n",
       "  <tbody>\n",
       "    <tr>\n",
       "      <th>h2o</th>\n",
       "      <td>atmpro</td>\n",
       "      <td>atmpro</td>\n",
       "      <td>atmpro</td>\n",
       "      <td>atmpro</td>\n",
       "      <td>atmpro</td>\n",
       "      <td>atmpro</td>\n",
       "      <td>atmpro</td>\n",
       "      <td>atmpro</td>\n",
       "      <td>atmpro</td>\n",
       "      <td>atmpro</td>\n",
       "      <td>atmpro</td>\n",
       "    </tr>\n",
       "  </tbody>\n",
       "</table>\n",
       "</div>"
      ],
      "text/plain": [
       "clirad band      1       2       3       4       5       6       7       8   \\\n",
       "molecule                                                                      \n",
       "h2o          atmpro  atmpro  atmpro  atmpro  atmpro  atmpro  atmpro  atmpro   \n",
       "\n",
       "clirad band      9       10      11  \n",
       "molecule                             \n",
       "h2o          atmpro  atmpro  atmpro  "
      ]
     },
     "metadata": {},
     "output_type": "display_data"
    },
    {
     "data": {
      "text/markdown": [
       "*TABLE.* Non-grey absorbers in the atmosphere."
      ],
      "text/plain": [
       "<IPython.core.display.Markdown object>"
      ]
     },
     "metadata": {},
     "output_type": "display_data"
    },
    {
     "data": {
      "text/html": [
       "<a id=\"Cooling_rates._mls.\"></a>"
      ],
      "text/plain": [
       "<IPython.core.display.HTML object>"
      ]
     },
     "metadata": {},
     "output_type": "display_data"
    },
    {
     "data": {
      "text/markdown": [
       "# Cooling rates. mls."
      ],
      "text/plain": [
       "<IPython.core.display.Markdown object>"
      ]
     },
     "metadata": {},
     "output_type": "display_data"
    },
    {
     "data": {
      "text/html": [
       "\n",
       "<div class=\"bk-root\">\n",
       "    <div class=\"bk-plotdiv\" id=\"988588db-f8c4-4fd7-80a3-25b715969c75\"></div>\n",
       "</div>"
      ]
     },
     "metadata": {},
     "output_type": "display_data"
    },
    {
     "data": {
      "application/javascript": [
       "(function(root) {\n",
       "  function embed_document(root) {\n",
       "    \n",
       "  var docs_json = {\"04614921-4810-4e20-b565-9d473a994031\":{\"roots\":{\"references\":[{\"attributes\":{\"line_alpha\":0.1,\"line_color\":\"#1f77b4\",\"line_dash\":[6],\"line_width\":5,\"x\":{\"field\":\"x\"},\"y\":{\"field\":\"y\"}},\"id\":\"2984940a-39ac-4f3c-98bd-8f115955855b\",\"type\":\"Line\"},{\"attributes\":{\"callback\":null,\"data\":{\"x\":{\"__ndarray__\":\"MifBicXGDkDbDhwrOKwMQJsq7tzMpgtAk65sOekzCkAQdoOJvjoIQCapULRUtwVA9JyutT28AkD75SltqAL/P3Ah4AHOu/g/lFXGZXZt8z/4V4YW5Q7vP7BLZmxAiuk/D3nkeI/j5D9GlIN/N0TfPyy51bZ6GtY/K1XhAQmZ1D8MOeRwpU/YPwSRuVR+79w/UiJC9OeE4T+Fj6QL/CvlP9dHd/1bnOk/SFElIREq8D+bzbeRuBn0P+6YpMcmB/Q/PJm9QIaq8D9IWr42FJLrP8izsdLRh+c/hTMLU6vv4z8fwLS53HzhP2+SAtowNOA/nh3kElXV3T8iJUEhOZfaP+Pdc9jQt9g/Ko7su0gg1z/WQSz2WabUP/Cp1KgK19E/yxWyA4OCzz+Bx8IDvrTNP5BVWdSpY8s/te3TBh5yyj/bLy+te9rVP/W6MV0Ij+w/RGv/hS4/+D+jpG1q1hUAQMXTMVmFYQFAEOwk6x5I/z8QiTN0cz79P4CXG7lI8fs/a2c6PTcm+z/DSfl2IPj6PxbUSEUdJvs/o+I1kBDZ+j8Y2uODKp76Py41kqpMjfo/17wJAWK2+j/aUbtnLQX7PyxBKVhvlfs/F6rxQlmE/T+oqNhiwET/PxDDmgy/SgBAE1AVjd2wAEBjfwR1troAQE3Onv2gmgBAk1KYjOZgAED73pOAOSsAQOMtXWY0LABA11YZsUJKAEBD0Q5IWlcAQJCHfJ/DNwBAfk/BXPFq/z+/K4e4Zzn+P+7IByb/R/0/bhF68LGU/D96kDrTpr/8P8W+Z5tQLQFA\",\"dtype\":\"float64\",\"shape\":[75]},\"y\":{\"__ndarray__\":\"GhExyth1ND/Sv8nbtpRIP2vylNV0PVE/aTum7souWD/At0SJ8fVgPw3Iuahxymc/MSNhhJWvcD/bTfBN02d3P2zb5nxnaoA/CD5h5MAGhz8NmeH1TyaQP+zrCsc9p5Y/LbKd76fGnz/bLW5ISEmmPww9YvTcQq8/JV2OstnstT8Er5Y7M8G+P0c+r3jqkcU/5h99k6ZBzj88bCIzFzjVP4enV8oyxN0//yH99nXg5D8qOpLLf0jtP5kqGJXUifQ/c9cS8kHP/D+/DpwzojQEQIEmwoanVwxA4lgXt9HgE0BSSZ2AJuIbQAMJih9jjiNA5q4l5INuK0AwTKYKRj0zQNv5fmq8/DpAaCJseHrtQkB/+zpwzoxKQM3MzMzMeFJAZmZmZmZqWEAAAAAAAFxeQM3MzMzMJmJAmpmZmZkfZUBmZmZmZhhoQDMzMzMzEWtAAAAAAAAKbkBmZmZmZoFwQM3MzMzM/XFAMzMzMzN6c0CamZmZmfZ0QAAAAAAAc3ZAZmZmZmbvd0DNzMzMzGt5QDMzMzMz6HpAmpmZmZlkfEAAAAAAAOF9QGZmZmZmXX9AZmZmZuZsgECamZmZGSuBQM3MzMxM6YFAAAAAAICngkAzMzMzs2WDQGZmZmbmI4RAmpmZmRnihEDNzMzMTKCFQAAAAACAXoZAMzMzM7Mch0BmZmZm5tqHQJqZmZkZmYhAzczMzExXiUAAAAAAgBWKQDMzMzOz04pAZmZmZuaRi0CamZmZGVCMQM3MzMxMDo1AAAAAAIDMjUAzMzMzs4qOQGZmZmbmSI9A\",\"dtype\":\"float64\",\"shape\":[75]}},\"selected\":{\"id\":\"f739e970-b380-4112-8ef2-c8187bd5282c\",\"type\":\"Selection\"},\"selection_policy\":{\"id\":\"9e0f38f8-e378-4117-894a-1d98a25bf6f0\",\"type\":\"UnionRenderers\"}},\"id\":\"e8497a3f-ddeb-46ac-b57a-58ad1f9e049c\",\"type\":\"ColumnDataSource\"},{\"attributes\":{\"line_alpha\":0.1,\"line_color\":\"#1f77b4\",\"line_width\":1.5,\"x\":{\"field\":\"x\"},\"y\":{\"field\":\"y\"}},\"id\":\"1393153e-66fa-4865-823c-9f2686279e01\",\"type\":\"Line\"},{\"attributes\":{\"ticker\":null},\"id\":\"517e185d-621d-49b3-8a18-122277392d48\",\"type\":\"LogTickFormatter\"},{\"attributes\":{\"children\":[{\"id\":\"54d3ac83-7ecc-4961-a3b9-88c6bbce8bca\",\"subtype\":\"Figure\",\"type\":\"Plot\"},{\"id\":\"b1b3e48e-11cc-45d9-9259-fb0e5ac86ecb\",\"subtype\":\"Figure\",\"type\":\"Plot\"},{\"id\":\"85b12f15-4815-48b4-959f-e4edfe610c6a\",\"subtype\":\"Figure\",\"type\":\"Plot\"}]},\"id\":\"175d0fe3-c7ec-4bed-9471-1472acc2b9a1\",\"type\":\"Row\"},{\"attributes\":{\"active_drag\":\"auto\",\"active_inspect\":\"auto\",\"active_scroll\":\"auto\",\"active_tap\":\"auto\",\"tools\":[{\"id\":\"4c682e2d-fe9b-4c3e-b06e-102fc3bac529\",\"type\":\"PanTool\"},{\"id\":\"28da3c94-884b-40e7-9725-3bcd46b7af7a\",\"type\":\"WheelZoomTool\"},{\"id\":\"a01e37b6-87ba-4855-a9f8-93d276a79436\",\"type\":\"BoxZoomTool\"},{\"id\":\"3887d4d3-bf73-4909-919e-b344223c14dc\",\"type\":\"SaveTool\"},{\"id\":\"2b9d747c-48fd-4030-9bad-fa1a01232afe\",\"type\":\"ResetTool\"},{\"id\":\"b026bcb2-edf4-4449-8685-05de7ed1031d\",\"type\":\"HelpTool\"}]},\"id\":\"ed36f3cb-e6b5-4f5c-a301-0b58d45e5d1b\",\"type\":\"Toolbar\"},{\"attributes\":{\"label\":{\"value\":\"CLIRAD\"},\"renderers\":[{\"id\":\"ced9905f-8b18-48d0-a119-5120b9912e65\",\"type\":\"GlyphRenderer\"}]},\"id\":\"34a342a4-d93e-4ee4-946d-d44f43a75236\",\"type\":\"LegendItem\"},{\"attributes\":{\"source\":{\"id\":\"c8ef260c-fe5f-4775-b654-31f9b1341824\",\"type\":\"ColumnDataSource\"}},\"id\":\"134d69dc-48fb-4718-8833-d4b3c7973f21\",\"type\":\"CDSView\"},{\"attributes\":{\"children\":[{\"id\":\"175d0fe3-c7ec-4bed-9471-1472acc2b9a1\",\"type\":\"Row\"}]},\"id\":\"3060c10c-b2d8-4f18-bdf9-a2ebd0f34810\",\"type\":\"Column\"},{\"attributes\":{\"items\":[{\"id\":\"17f45763-145d-49b0-a86a-a531c20b4520\",\"type\":\"LegendItem\"}],\"label_text_font_size\":{\"value\":\"8pt\"},\"location\":\"top_center\",\"orientation\":\"horizontal\",\"plot\":{\"id\":\"85b12f15-4815-48b4-959f-e4edfe610c6a\",\"subtype\":\"Figure\",\"type\":\"Plot\"}},\"id\":\"f40cb856-f051-453f-9eb3-b04228193f9f\",\"type\":\"Legend\"},{\"attributes\":{\"callback\":null,\"end\":0.07676032501254197,\"start\":-0.231520417074742},\"id\":\"f4ab186d-d849-4815-9338-d0412ef33bf3\",\"type\":\"Range1d\"},{\"attributes\":{\"line_alpha\":0.6,\"line_color\":\"#e41a1c\",\"line_dash\":[6],\"line_width\":5,\"x\":{\"field\":\"x\"},\"y\":{\"field\":\"y\"}},\"id\":\"0a02c972-4147-4515-9352-b4f2774dcb44\",\"type\":\"Line\"},{\"attributes\":{\"data_source\":{\"id\":\"c8ef260c-fe5f-4775-b654-31f9b1341824\",\"type\":\"ColumnDataSource\"},\"glyph\":{\"id\":\"8cacbf23-fa51-482b-8004-d837d2282af8\",\"type\":\"Line\"},\"hover_glyph\":null,\"muted_glyph\":null,\"nonselection_glyph\":{\"id\":\"1393153e-66fa-4865-823c-9f2686279e01\",\"type\":\"Line\"},\"selection_glyph\":null,\"view\":{\"id\":\"134d69dc-48fb-4718-8833-d4b3c7973f21\",\"type\":\"CDSView\"}},\"id\":\"101f5fa2-6e45-44fc-a63b-2f3c7b38f1ac\",\"type\":\"GlyphRenderer\"},{\"attributes\":{},\"id\":\"bf902e82-4a26-4587-bae5-bc21c26abbd4\",\"type\":\"HelpTool\"},{\"attributes\":{\"plot\":{\"id\":\"85b12f15-4815-48b4-959f-e4edfe610c6a\",\"subtype\":\"Figure\",\"type\":\"Plot\"},\"ticker\":{\"id\":\"480d77a2-60a1-4b41-8772-bc2ed158007c\",\"type\":\"BasicTicker\"}},\"id\":\"f2cf80df-f30d-47f0-84bd-497abafc4b19\",\"type\":\"Grid\"},{\"attributes\":{},\"id\":\"af309962-e0e7-4ffb-842a-19b1d0f34209\",\"type\":\"HelpTool\"},{\"attributes\":{},\"id\":\"7fbe38bb-fe03-439b-981b-1fc9a287cc7e\",\"type\":\"ResetTool\"},{\"attributes\":{\"axis_label\":\"cooling rate [K/day]\",\"formatter\":{\"id\":\"2e6f7a32-df4b-4127-8487-41c6f8f2367b\",\"type\":\"BasicTickFormatter\"},\"plot\":{\"id\":\"85b12f15-4815-48b4-959f-e4edfe610c6a\",\"subtype\":\"Figure\",\"type\":\"Plot\"},\"ticker\":{\"id\":\"480d77a2-60a1-4b41-8772-bc2ed158007c\",\"type\":\"BasicTicker\"}},\"id\":\"3d3c979f-5527-4dce-b85b-d810547416b9\",\"type\":\"LinearAxis\"},{\"attributes\":{\"callback\":null,\"data\":{\"x\":{\"__ndarray__\":\"UAegFOygBcAiZXvM0sH3v8lei5ikefG/2rECHzDC57+PaztU5Nzdv8rhPHHoWNK/PiiOZ+pKyr8Wlq1ZfXjJv/88apXaoMy//+ezoGw/zb+pVSdkHZnHv4n03Dohw7q/lOvcFr0/m79P07ZvOM2UP0bh245pO5o/vdGLZztXcL9m7E3ULLGhvxh8u4ILO6S/lO8AERWrnL823PcZdO2Sv3WUwmW7uZW/A69ueOJvmr8lvToI3eeBv56rsOCFmKM/RL1Fw33gsj9SH7gorvKwP2AfK8APeqg/0jhdz0Y/hT+LdBbf5sKJv8HNAN49toO/m5H1m0aNdr9za/nhXvR+vzHk2rI+e1g/58u5VaYBYz9a8OAQwWt4v54lDWC4sYq/KbcRrhIclr+d1vrxltmYv9rApcRmfpW/+yLX4/2kkL8359kvQLWQv9SiLLHszZW/QaE7/Fzym7930SUWn31yP0JvMMUA1ay/nNRyFo32sL+G0vn+zfqavwFVlYdeh6K/Ar+FE2mOrL81fSX1J5Ssv6xg0jA7rKS/7rcXGKQMnb/bsO7PMRaSv3uNMLIMRJC/tINH7nwFkL/yWMJtfAyUv7xkAz4+Z5W/HYRovwIQjb/wME0CbKhuP3YKnvvYSJ0/z+VoALlFqD+AfVhv1AqmP19l3af5lqA/cLHa1dMikT/shjQG81lyP0h/JTbsLos/ui9IPNFcnj/ruRFYMUOnP1htbLMHk7E/JhqjlmIesz+XuSbI+72zPyau6gOFlbQ/XO7LTV8Fsz9+aVfrhNO1P3AI+Wa8qbc/\",\"dtype\":\"float64\",\"shape\":[75]},\"y\":{\"__ndarray__\":\"GhExyth1ND/Sv8nbtpRIP2vylNV0PVE/aTum7souWD/At0SJ8fVgPw3Iuahxymc/MSNhhJWvcD/bTfBN02d3P2zb5nxnaoA/CD5h5MAGhz8NmeH1TyaQP+zrCsc9p5Y/LbKd76fGnz/bLW5ISEmmPww9YvTcQq8/JV2OstnstT8Er5Y7M8G+P0c+r3jqkcU/5h99k6ZBzj88bCIzFzjVP4enV8oyxN0//yH99nXg5D8qOpLLf0jtP5kqGJXUifQ/c9cS8kHP/D+/DpwzojQEQIEmwoanVwxA4lgXt9HgE0BSSZ2AJuIbQAMJih9jjiNA5q4l5INuK0AwTKYKRj0zQNv5fmq8/DpAaCJseHrtQkB/+zpwzoxKQM3MzMzMeFJAZmZmZmZqWEAAAAAAAFxeQM3MzMzMJmJAmpmZmZkfZUBmZmZmZhhoQDMzMzMzEWtAAAAAAAAKbkBmZmZmZoFwQM3MzMzM/XFAMzMzMzN6c0CamZmZmfZ0QAAAAAAAc3ZAZmZmZmbvd0DNzMzMzGt5QDMzMzMz6HpAmpmZmZlkfEAAAAAAAOF9QGZmZmZmXX9AZmZmZuZsgECamZmZGSuBQM3MzMxM6YFAAAAAAICngkAzMzMzs2WDQGZmZmbmI4RAmpmZmRnihEDNzMzMTKCFQAAAAACAXoZAMzMzM7Mch0BmZmZm5tqHQJqZmZkZmYhAzczMzExXiUAAAAAAgBWKQDMzMzOz04pAZmZmZuaRi0CamZmZGVCMQM3MzMxMDo1AAAAAAIDMjUAzMzMzs4qOQGZmZmbmSI9A\",\"dtype\":\"float64\",\"shape\":[75]}},\"selected\":{\"id\":\"a9a516f3-84e2-4b07-bca9-c3b746c8cb27\",\"type\":\"Selection\"},\"selection_policy\":{\"id\":\"e467748c-4dfc-4e2d-bcab-e082869418f5\",\"type\":\"UnionRenderers\"}},\"id\":\"e58e1a73-44d1-4799-878c-edfade8e81de\",\"type\":\"ColumnDataSource\"},{\"attributes\":{\"dimension\":1,\"plot\":{\"id\":\"85b12f15-4815-48b4-959f-e4edfe610c6a\",\"subtype\":\"Figure\",\"type\":\"Plot\"},\"ticker\":{\"id\":\"bf519239-e347-4a8c-b6c1-b3be11f90a2c\",\"type\":\"LogTicker\"}},\"id\":\"1d0fd359-08dc-43cc-b349-ab1218444098\",\"type\":\"Grid\"},{\"attributes\":{},\"id\":\"e68a594c-3824-4977-a4e2-9c3ebc21ff6a\",\"type\":\"SaveTool\"},{\"attributes\":{\"callback\":null,\"data\":{\"x\":{\"__ndarray__\":\"Qpcwz9gzGkC34KzIkEYUQAHtmZTPMRJAha2WoDoSEECB4woUW/YLQGFFeMJxAghAeX8nXOxgBEBfzC8M3BgBQBFpjVTpT/w/ltLc+WMV9z+vFsg3lnryP0DqwZOk4uw/bGCbYY295T8VJ4j4Y/fdPxn75x3EdtQ/cIR/72Xa1D+c9m0Ly4XaP4gAEcXfdt8/zinKnEBq4j9oTnSsZ8PlP3tcpdgpSuo/BAwHq9CT8D8WQ8hLiD30P5ITn5hiavM/0XoSyfz47j9eVqdxvnPpP9IBr9YwAOY/pL7NN66a4z/wGTFV6OPhP6aVetEJg+A/5PNTLYov3j/PCsmcChPbP/8CwZlVn9g/kxpBb0X61j+VxW/6CAjVPx0T1WuYrNI/WCa6rAIj0T8pEQFx+GfQP6wN7qx2E84/FdJOw72GzD9Oziywz+XWPwsgu8J3Pe0/x1nw+feu+D+7keKalwwAQIKVRlzZ1AFArQxG3sMrAEBZcC+sXqr9PyhCWK2Dhfw/Y5XWhaoK/D+tdaK2wdz7Pxpnzx5/y/s/gkGWIENN+z/blCNLg+b6P2L3Wt1czvo/6drC9Hf2+j8+W3JZX1X7P71OIVEM6/s/H3twSHm+/T8RgtcsbDX/P/qGo1otEABAfawTqcZPAEBvHUcji2IAQLhY/xZFWABAMJ3s5KA+AEC5xBCHDCIAQGMIJ3oFEQBAeMagDokNAEC1FF0Fm/T/P0tIwsNWVv8/3R1XMws5/j8lwAT8h/38PwweydWm/vs/iVKd+1tk+z/iGYWEbmL7P4H2L7gCcABA\",\"dtype\":\"float64\",\"shape\":[75]},\"y\":{\"__ndarray__\":\"GhExyth1ND/Sv8nbtpRIP2vylNV0PVE/aTum7souWD/At0SJ8fVgPw3Iuahxymc/MSNhhJWvcD/bTfBN02d3P2zb5nxnaoA/CD5h5MAGhz8NmeH1TyaQP+zrCsc9p5Y/LbKd76fGnz/bLW5ISEmmPww9YvTcQq8/JV2OstnstT8Er5Y7M8G+P0c+r3jqkcU/5h99k6ZBzj88bCIzFzjVP4enV8oyxN0//yH99nXg5D8qOpLLf0jtP5kqGJXUifQ/c9cS8kHP/D+/DpwzojQEQIEmwoanVwxA4lgXt9HgE0BSSZ2AJuIbQAMJih9jjiNA5q4l5INuK0AwTKYKRj0zQNv5fmq8/DpAaCJseHrtQkB/+zpwzoxKQM3MzMzMeFJAZmZmZmZqWEAAAAAAAFxeQM3MzMzMJmJAmpmZmZkfZUBmZmZmZhhoQDMzMzMzEWtAAAAAAAAKbkBmZmZmZoFwQM3MzMzM/XFAMzMzMzN6c0CamZmZmfZ0QAAAAAAAc3ZAZmZmZmbvd0DNzMzMzGt5QDMzMzMz6HpAmpmZmZlkfEAAAAAAAOF9QGZmZmZmXX9AZmZmZuZsgECamZmZGSuBQM3MzMxM6YFAAAAAAICngkAzMzMzs2WDQGZmZmbmI4RAmpmZmRnihEDNzMzMTKCFQAAAAACAXoZAMzMzM7Mch0BmZmZm5tqHQJqZmZkZmYhAzczMzExXiUAAAAAAgBWKQDMzMzOz04pAZmZmZuaRi0CamZmZGVCMQM3MzMxMDo1AAAAAAIDMjUAzMzMzs4qOQGZmZmbmSI9A\",\"dtype\":\"float64\",\"shape\":[75]}},\"selected\":{\"id\":\"05055f5e-d904-4899-a714-19968769d15d\",\"type\":\"Selection\"},\"selection_policy\":{\"id\":\"229b6c11-2371-421b-9185-6297882c9c8c\",\"type\":\"UnionRenderers\"}},\"id\":\"7f389ce1-3404-42d4-bdba-b14cd79a0832\",\"type\":\"ColumnDataSource\"},{\"attributes\":{\"overlay\":{\"id\":\"70eebcb5-0a08-4685-9926-5815be4720b9\",\"type\":\"BoxAnnotation\"}},\"id\":\"00330941-2a4c-40c1-b28a-97f00df8ecf5\",\"type\":\"BoxZoomTool\"},{\"attributes\":{},\"id\":\"1d56e29d-4fd9-4111-91f0-f75f6e573fdc\",\"type\":\"LinearScale\"},{\"attributes\":{},\"id\":\"4c682e2d-fe9b-4c3e-b06e-102fc3bac529\",\"type\":\"PanTool\"},{\"attributes\":{\"plot\":null,\"text\":\"\"},\"id\":\"c44498ef-da16-439d-af70-ddecd3a5fde7\",\"type\":\"Title\"},{\"attributes\":{\"bottom_units\":\"screen\",\"fill_alpha\":{\"value\":0.5},\"fill_color\":{\"value\":\"lightgrey\"},\"left_units\":\"screen\",\"level\":\"overlay\",\"line_alpha\":{\"value\":1.0},\"line_color\":{\"value\":\"black\"},\"line_dash\":[4,4],\"line_width\":{\"value\":2},\"plot\":null,\"render_mode\":\"css\",\"right_units\":\"screen\",\"top_units\":\"screen\"},\"id\":\"70eebcb5-0a08-4685-9926-5815be4720b9\",\"type\":\"BoxAnnotation\"},{\"attributes\":{},\"id\":\"95e7a3c6-4def-4bac-b0d6-13807ca99227\",\"type\":\"BasicTickFormatter\"},{\"attributes\":{\"axis_label\":\"pressure [mb]\",\"formatter\":{\"id\":\"517e185d-621d-49b3-8a18-122277392d48\",\"type\":\"LogTickFormatter\"},\"plot\":{\"id\":\"b1b3e48e-11cc-45d9-9259-fb0e5ac86ecb\",\"subtype\":\"Figure\",\"type\":\"Plot\"},\"ticker\":{\"id\":\"53dba0e2-8794-43e2-8fb0-4affb4c228c8\",\"type\":\"LogTicker\"}},\"id\":\"3d7fb353-e264-49e9-a110-153a029c5fc3\",\"type\":\"LogAxis\"},{\"attributes\":{\"label\":{\"value\":\"CLIRAD - CRD\"},\"renderers\":[{\"id\":\"009a823a-2ba3-4f4a-bb92-c6b6a4888523\",\"type\":\"GlyphRenderer\"},{\"id\":\"101f5fa2-6e45-44fc-a63b-2f3c7b38f1ac\",\"type\":\"GlyphRenderer\"}]},\"id\":\"17f45763-145d-49b0-a86a-a531c20b4520\",\"type\":\"LegendItem\"},{\"attributes\":{\"bottom_units\":\"screen\",\"fill_alpha\":{\"value\":0.5},\"fill_color\":{\"value\":\"lightgrey\"},\"left_units\":\"screen\",\"level\":\"overlay\",\"line_alpha\":{\"value\":1.0},\"line_color\":{\"value\":\"black\"},\"line_dash\":[4,4],\"line_width\":{\"value\":2},\"plot\":null,\"render_mode\":\"css\",\"right_units\":\"screen\",\"top_units\":\"screen\"},\"id\":\"daadc9db-d055-4511-953b-d723ec418617\",\"type\":\"BoxAnnotation\"},{\"attributes\":{},\"id\":\"a4d0c8a7-6392-468e-93bb-3d9d16faf0e6\",\"type\":\"LogScale\"},{\"attributes\":{\"source\":{\"id\":\"b5b2cdaa-9388-47d7-823b-45c374cd860c\",\"type\":\"ColumnDataSource\"}},\"id\":\"fd0e9ed8-6849-41a2-be45-5c5fdc44b687\",\"type\":\"CDSView\"},{\"attributes\":{\"axis_label\":\"cooling rate [K/day]\",\"formatter\":{\"id\":\"d4ff0392-5d8b-4d5a-955c-9785cfb2129e\",\"type\":\"BasicTickFormatter\"},\"plot\":{\"id\":\"54d3ac83-7ecc-4961-a3b9-88c6bbce8bca\",\"subtype\":\"Figure\",\"type\":\"Plot\"},\"ticker\":{\"id\":\"b8c889de-e90f-41e2-a0cb-a9f0b93e7fe3\",\"type\":\"BasicTicker\"}},\"id\":\"31c9d6cb-98b9-41c2-b641-02ba025683cb\",\"type\":\"LinearAxis\"},{\"attributes\":{},\"id\":\"d4ff0392-5d8b-4d5a-955c-9785cfb2129e\",\"type\":\"BasicTickFormatter\"},{\"attributes\":{\"fill_alpha\":{\"value\":0.7},\"fill_color\":{\"value\":\"#4daf4a\"},\"line_alpha\":{\"value\":0.7},\"line_color\":{\"value\":\"#4daf4a\"},\"x\":{\"field\":\"x\"},\"y\":{\"field\":\"y\"}},\"id\":\"dad7f14e-14a1-4e52-96f2-b43fc30db5e2\",\"type\":\"Circle\"},{\"attributes\":{},\"id\":\"4aa13bb0-001c-4ae8-abf7-7361dbac05bc\",\"type\":\"LogScale\"},{\"attributes\":{\"line_alpha\":0.6,\"line_color\":\"#e41a1c\",\"line_dash\":[6],\"line_width\":5,\"x\":{\"field\":\"x\"},\"y\":{\"field\":\"y\"}},\"id\":\"76a93cbb-3b19-4811-bb38-10f00daba9a8\",\"type\":\"Line\"},{\"attributes\":{\"fill_alpha\":{\"value\":0.7},\"fill_color\":{\"value\":\"#4daf4a\"},\"line_alpha\":{\"value\":0.7},\"line_color\":{\"value\":\"#4daf4a\"},\"x\":{\"field\":\"x\"},\"y\":{\"field\":\"y\"}},\"id\":\"b0ed8c4a-dabd-4c89-abc5-cc3ca35b2c35\",\"type\":\"Circle\"},{\"attributes\":{},\"id\":\"480d77a2-60a1-4b41-8772-bc2ed158007c\",\"type\":\"BasicTicker\"},{\"attributes\":{\"fill_alpha\":{\"value\":0.7},\"fill_color\":{\"value\":\"#984ea3\"},\"line_alpha\":{\"value\":0.7},\"line_color\":{\"value\":\"#984ea3\"},\"x\":{\"field\":\"x\"},\"y\":{\"field\":\"y\"}},\"id\":\"16b56ed9-c2ea-4832-823a-f3e734a5d749\",\"type\":\"Circle\"},{\"attributes\":{\"source\":{\"id\":\"e8497a3f-ddeb-46ac-b57a-58ad1f9e049c\",\"type\":\"ColumnDataSource\"}},\"id\":\"f3728acb-98d2-49ff-a93b-eade1db8ec98\",\"type\":\"CDSView\"},{\"attributes\":{\"callback\":null,\"data\":{\"x\":{\"__ndarray__\":\"MifBicXGDkDbDhwrOKwMQJsq7tzMpgtAk65sOekzCkAQdoOJvjoIQCapULRUtwVA9JyutT28AkD75SltqAL/P3Ah4AHOu/g/lFXGZXZt8z/4V4YW5Q7vP7BLZmxAiuk/D3nkeI/j5D9GlIN/N0TfPyy51bZ6GtY/K1XhAQmZ1D8MOeRwpU/YPwSRuVR+79w/UiJC9OeE4T+Fj6QL/CvlP9dHd/1bnOk/SFElIREq8D+bzbeRuBn0P+6YpMcmB/Q/PJm9QIaq8D9IWr42FJLrP8izsdLRh+c/hTMLU6vv4z8fwLS53HzhP2+SAtowNOA/nh3kElXV3T8iJUEhOZfaP+Pdc9jQt9g/Ko7su0gg1z/WQSz2WabUP/Cp1KgK19E/yxWyA4OCzz+Bx8IDvrTNP5BVWdSpY8s/te3TBh5yyj/bLy+te9rVP/W6MV0Ij+w/RGv/hS4/+D+jpG1q1hUAQMXTMVmFYQFAEOwk6x5I/z8QiTN0cz79P4CXG7lI8fs/a2c6PTcm+z/DSfl2IPj6PxbUSEUdJvs/o+I1kBDZ+j8Y2uODKp76Py41kqpMjfo/17wJAWK2+j/aUbtnLQX7PyxBKVhvlfs/F6rxQlmE/T+oqNhiwET/PxDDmgy/SgBAE1AVjd2wAEBjfwR1troAQE3Onv2gmgBAk1KYjOZgAED73pOAOSsAQOMtXWY0LABA11YZsUJKAEBD0Q5IWlcAQJCHfJ/DNwBAfk/BXPFq/z+/K4e4Zzn+P+7IByb/R/0/bhF68LGU/D96kDrTpr/8P8W+Z5tQLQFA\",\"dtype\":\"float64\",\"shape\":[75]},\"y\":{\"__ndarray__\":\"GhExyth1ND/Sv8nbtpRIP2vylNV0PVE/aTum7souWD/At0SJ8fVgPw3Iuahxymc/MSNhhJWvcD/bTfBN02d3P2zb5nxnaoA/CD5h5MAGhz8NmeH1TyaQP+zrCsc9p5Y/LbKd76fGnz/bLW5ISEmmPww9YvTcQq8/JV2OstnstT8Er5Y7M8G+P0c+r3jqkcU/5h99k6ZBzj88bCIzFzjVP4enV8oyxN0//yH99nXg5D8qOpLLf0jtP5kqGJXUifQ/c9cS8kHP/D+/DpwzojQEQIEmwoanVwxA4lgXt9HgE0BSSZ2AJuIbQAMJih9jjiNA5q4l5INuK0AwTKYKRj0zQNv5fmq8/DpAaCJseHrtQkB/+zpwzoxKQM3MzMzMeFJAZmZmZmZqWEAAAAAAAFxeQM3MzMzMJmJAmpmZmZkfZUBmZmZmZhhoQDMzMzMzEWtAAAAAAAAKbkBmZmZmZoFwQM3MzMzM/XFAMzMzMzN6c0CamZmZmfZ0QAAAAAAAc3ZAZmZmZmbvd0DNzMzMzGt5QDMzMzMz6HpAmpmZmZlkfEAAAAAAAOF9QGZmZmZmXX9AZmZmZuZsgECamZmZGSuBQM3MzMxM6YFAAAAAAICngkAzMzMzs2WDQGZmZmbmI4RAmpmZmRnihEDNzMzMTKCFQAAAAACAXoZAMzMzM7Mch0BmZmZm5tqHQJqZmZkZmYhAzczMzExXiUAAAAAAgBWKQDMzMzOz04pAZmZmZuaRi0CamZmZGVCMQM3MzMxMDo1AAAAAAIDMjUAzMzMzs4qOQGZmZmbmSI9A\",\"dtype\":\"float64\",\"shape\":[75]}},\"selected\":{\"id\":\"6444f412-b58d-482e-84b9-fee6d301d613\",\"type\":\"Selection\"},\"selection_policy\":{\"id\":\"556fae6d-394e-4aa1-b04b-abdfccb4cfc7\",\"type\":\"UnionRenderers\"}},\"id\":\"b5b2cdaa-9388-47d7-823b-45c374cd860c\",\"type\":\"ColumnDataSource\"},{\"attributes\":{\"callback\":null,\"data\":{\"x\":{\"__ndarray__\":\"Qpcwz9gzGkC34KzIkEYUQAHtmZTPMRJAha2WoDoSEECB4woUW/YLQGFFeMJxAghAeX8nXOxgBEBfzC8M3BgBQBFpjVTpT/w/ltLc+WMV9z+vFsg3lnryP0DqwZOk4uw/bGCbYY295T8VJ4j4Y/fdPxn75x3EdtQ/cIR/72Xa1D+c9m0Ly4XaP4gAEcXfdt8/zinKnEBq4j9oTnSsZ8PlP3tcpdgpSuo/BAwHq9CT8D8WQ8hLiD30P5ITn5hiavM/0XoSyfz47j9eVqdxvnPpP9IBr9YwAOY/pL7NN66a4z/wGTFV6OPhP6aVetEJg+A/5PNTLYov3j/PCsmcChPbP/8CwZlVn9g/kxpBb0X61j+VxW/6CAjVPx0T1WuYrNI/WCa6rAIj0T8pEQFx+GfQP6wN7qx2E84/FdJOw72GzD9Oziywz+XWPwsgu8J3Pe0/x1nw+feu+D+7keKalwwAQIKVRlzZ1AFArQxG3sMrAEBZcC+sXqr9PyhCWK2Dhfw/Y5XWhaoK/D+tdaK2wdz7Pxpnzx5/y/s/gkGWIENN+z/blCNLg+b6P2L3Wt1czvo/6drC9Hf2+j8+W3JZX1X7P71OIVEM6/s/H3twSHm+/T8RgtcsbDX/P/qGo1otEABAfawTqcZPAEBvHUcji2IAQLhY/xZFWABAMJ3s5KA+AEC5xBCHDCIAQGMIJ3oFEQBAeMagDokNAEC1FF0Fm/T/P0tIwsNWVv8/3R1XMws5/j8lwAT8h/38PwweydWm/vs/iVKd+1tk+z/iGYWEbmL7P4H2L7gCcABA\",\"dtype\":\"float64\",\"shape\":[75]},\"y\":{\"__ndarray__\":\"GhExyth1ND/Sv8nbtpRIP2vylNV0PVE/aTum7souWD/At0SJ8fVgPw3Iuahxymc/MSNhhJWvcD/bTfBN02d3P2zb5nxnaoA/CD5h5MAGhz8NmeH1TyaQP+zrCsc9p5Y/LbKd76fGnz/bLW5ISEmmPww9YvTcQq8/JV2OstnstT8Er5Y7M8G+P0c+r3jqkcU/5h99k6ZBzj88bCIzFzjVP4enV8oyxN0//yH99nXg5D8qOpLLf0jtP5kqGJXUifQ/c9cS8kHP/D+/DpwzojQEQIEmwoanVwxA4lgXt9HgE0BSSZ2AJuIbQAMJih9jjiNA5q4l5INuK0AwTKYKRj0zQNv5fmq8/DpAaCJseHrtQkB/+zpwzoxKQM3MzMzMeFJAZmZmZmZqWEAAAAAAAFxeQM3MzMzMJmJAmpmZmZkfZUBmZmZmZhhoQDMzMzMzEWtAAAAAAAAKbkBmZmZmZoFwQM3MzMzM/XFAMzMzMzN6c0CamZmZmfZ0QAAAAAAAc3ZAZmZmZmbvd0DNzMzMzGt5QDMzMzMz6HpAmpmZmZlkfEAAAAAAAOF9QGZmZmZmXX9AZmZmZuZsgECamZmZGSuBQM3MzMxM6YFAAAAAAICngkAzMzMzs2WDQGZmZmbmI4RAmpmZmRnihEDNzMzMTKCFQAAAAACAXoZAMzMzM7Mch0BmZmZm5tqHQJqZmZkZmYhAzczMzExXiUAAAAAAgBWKQDMzMzOz04pAZmZmZuaRi0CamZmZGVCMQM3MzMxMDo1AAAAAAIDMjUAzMzMzs4qOQGZmZmbmSI9A\",\"dtype\":\"float64\",\"shape\":[75]}},\"selected\":{\"id\":\"a0016451-f8dd-457a-b736-c4ba31e23b5d\",\"type\":\"Selection\"},\"selection_policy\":{\"id\":\"3e1c0bff-e1cc-4c38-950e-0247dc27b19a\",\"type\":\"UnionRenderers\"}},\"id\":\"cfa33deb-96ee-4c76-a985-000ae8054625\",\"type\":\"ColumnDataSource\"},{\"attributes\":{\"callback\":null,\"end\":2.2491534333989662,\"start\":0.18638435712643403},\"id\":\"233222fa-1051-4fd8-aa44-468a0ffa1f7f\",\"type\":\"Range1d\"},{\"attributes\":{\"line_alpha\":0.1,\"line_color\":\"#1f77b4\",\"line_width\":1.5,\"x\":{\"field\":\"x\"},\"y\":{\"field\":\"y\"}},\"id\":\"98b22081-afff-4fea-a2b9-af104f083ed2\",\"type\":\"Line\"},{\"attributes\":{\"active_drag\":\"auto\",\"active_inspect\":\"auto\",\"active_scroll\":\"auto\",\"active_tap\":\"auto\",\"tools\":[{\"id\":\"17b1ff36-8d54-4f5d-ade9-57fc4562dd3c\",\"type\":\"PanTool\"},{\"id\":\"1acbf70b-ee2e-41e1-b345-f37c0fdd68c9\",\"type\":\"WheelZoomTool\"},{\"id\":\"00330941-2a4c-40c1-b28a-97f00df8ecf5\",\"type\":\"BoxZoomTool\"},{\"id\":\"e68a594c-3824-4977-a4e2-9c3ebc21ff6a\",\"type\":\"SaveTool\"},{\"id\":\"7fbe38bb-fe03-439b-981b-1fc9a287cc7e\",\"type\":\"ResetTool\"},{\"id\":\"af309962-e0e7-4ffb-842a-19b1d0f34209\",\"type\":\"HelpTool\"}]},\"id\":\"59eb2959-702a-4817-b5b1-59ac446b897f\",\"type\":\"Toolbar\"},{\"attributes\":{\"num_minor_ticks\":10},\"id\":\"53dba0e2-8794-43e2-8fb0-4affb4c228c8\",\"type\":\"LogTicker\"},{\"attributes\":{\"data_source\":{\"id\":\"e8497a3f-ddeb-46ac-b57a-58ad1f9e049c\",\"type\":\"ColumnDataSource\"},\"glyph\":{\"id\":\"76a93cbb-3b19-4811-bb38-10f00daba9a8\",\"type\":\"Line\"},\"hover_glyph\":null,\"muted_glyph\":null,\"nonselection_glyph\":{\"id\":\"492529d1-4766-4729-a699-e6b747b4d4a0\",\"type\":\"Line\"},\"selection_glyph\":null,\"view\":{\"id\":\"f3728acb-98d2-49ff-a93b-eade1db8ec98\",\"type\":\"CDSView\"}},\"id\":\"ced9905f-8b18-48d0-a119-5120b9912e65\",\"type\":\"GlyphRenderer\"},{\"attributes\":{\"fill_alpha\":{\"value\":0.1},\"fill_color\":{\"value\":\"#1f77b4\"},\"line_alpha\":{\"value\":0.1},\"line_color\":{\"value\":\"#1f77b4\"},\"x\":{\"field\":\"x\"},\"y\":{\"field\":\"y\"}},\"id\":\"581cda0f-4e10-4ae3-a87c-ade24c9574b6\",\"type\":\"Circle\"},{\"attributes\":{\"overlay\":{\"id\":\"daadc9db-d055-4511-953b-d723ec418617\",\"type\":\"BoxAnnotation\"}},\"id\":\"a01e37b6-87ba-4855-a9f8-93d276a79436\",\"type\":\"BoxZoomTool\"},{\"attributes\":{\"callback\":null,\"end\":0.01,\"start\":1020},\"id\":\"e99e142a-be26-46b6-841e-9de032dcccf1\",\"type\":\"Range1d\"},{\"attributes\":{\"source\":{\"id\":\"cfa33deb-96ee-4c76-a985-000ae8054625\",\"type\":\"ColumnDataSource\"}},\"id\":\"513d174e-30a6-4e70-81fd-e2368a8d9415\",\"type\":\"CDSView\"},{\"attributes\":{},\"id\":\"fcb7d1d3-6432-4bba-b2b2-1138c3739b33\",\"type\":\"BasicTicker\"},{\"attributes\":{\"callback\":null,\"data\":{\"x\":{\"__ndarray__\":\"Qpcwz9gzGkC34KzIkEYUQAHtmZTPMRJAha2WoDoSEECB4woUW/YLQGFFeMJxAghAeX8nXOxgBEBfzC8M3BgBQBFpjVTpT/w/ltLc+WMV9z+vFsg3lnryP0DqwZOk4uw/bGCbYY295T8VJ4j4Y/fdPxn75x3EdtQ/cIR/72Xa1D+c9m0Ly4XaP4gAEcXfdt8/zinKnEBq4j9oTnSsZ8PlP3tcpdgpSuo/BAwHq9CT8D8WQ8hLiD30P5ITn5hiavM/0XoSyfz47j9eVqdxvnPpP9IBr9YwAOY/pL7NN66a4z/wGTFV6OPhP6aVetEJg+A/5PNTLYov3j/PCsmcChPbP/8CwZlVn9g/kxpBb0X61j+VxW/6CAjVPx0T1WuYrNI/WCa6rAIj0T8pEQFx+GfQP6wN7qx2E84/FdJOw72GzD9Oziywz+XWPwsgu8J3Pe0/x1nw+feu+D+7keKalwwAQIKVRlzZ1AFArQxG3sMrAEBZcC+sXqr9PyhCWK2Dhfw/Y5XWhaoK/D+tdaK2wdz7Pxpnzx5/y/s/gkGWIENN+z/blCNLg+b6P2L3Wt1czvo/6drC9Hf2+j8+W3JZX1X7P71OIVEM6/s/H3twSHm+/T8RgtcsbDX/P/qGo1otEABAfawTqcZPAEBvHUcji2IAQLhY/xZFWABAMJ3s5KA+AEC5xBCHDCIAQGMIJ3oFEQBAeMagDokNAEC1FF0Fm/T/P0tIwsNWVv8/3R1XMws5/j8lwAT8h/38PwweydWm/vs/iVKd+1tk+z/iGYWEbmL7P4H2L7gCcABA\",\"dtype\":\"float64\",\"shape\":[75]},\"y\":{\"__ndarray__\":\"GhExyth1ND/Sv8nbtpRIP2vylNV0PVE/aTum7souWD/At0SJ8fVgPw3Iuahxymc/MSNhhJWvcD/bTfBN02d3P2zb5nxnaoA/CD5h5MAGhz8NmeH1TyaQP+zrCsc9p5Y/LbKd76fGnz/bLW5ISEmmPww9YvTcQq8/JV2OstnstT8Er5Y7M8G+P0c+r3jqkcU/5h99k6ZBzj88bCIzFzjVP4enV8oyxN0//yH99nXg5D8qOpLLf0jtP5kqGJXUifQ/c9cS8kHP/D+/DpwzojQEQIEmwoanVwxA4lgXt9HgE0BSSZ2AJuIbQAMJih9jjiNA5q4l5INuK0AwTKYKRj0zQNv5fmq8/DpAaCJseHrtQkB/+zpwzoxKQM3MzMzMeFJAZmZmZmZqWEAAAAAAAFxeQM3MzMzMJmJAmpmZmZkfZUBmZmZmZhhoQDMzMzMzEWtAAAAAAAAKbkBmZmZmZoFwQM3MzMzM/XFAMzMzMzN6c0CamZmZmfZ0QAAAAAAAc3ZAZmZmZmbvd0DNzMzMzGt5QDMzMzMz6HpAmpmZmZlkfEAAAAAAAOF9QGZmZmZmXX9AZmZmZuZsgECamZmZGSuBQM3MzMxM6YFAAAAAAICngkAzMzMzs2WDQGZmZmbmI4RAmpmZmRnihEDNzMzMTKCFQAAAAACAXoZAMzMzM7Mch0BmZmZm5tqHQJqZmZkZmYhAzczMzExXiUAAAAAAgBWKQDMzMzOz04pAZmZmZuaRi0CamZmZGVCMQM3MzMxMDo1AAAAAAIDMjUAzMzMzs4qOQGZmZmbmSI9A\",\"dtype\":\"float64\",\"shape\":[75]}},\"selected\":{\"id\":\"1f78fdab-732a-474b-b866-9712001116f1\",\"type\":\"Selection\"},\"selection_policy\":{\"id\":\"8fce365b-c3d5-4b0d-ab0d-4b59bdbeb673\",\"type\":\"UnionRenderers\"}},\"id\":\"fc3c039d-4971-47c0-8d95-7cb21403deda\",\"type\":\"ColumnDataSource\"},{\"attributes\":{\"data_source\":{\"id\":\"fc3c039d-4971-47c0-8d95-7cb21403deda\",\"type\":\"ColumnDataSource\"},\"glyph\":{\"id\":\"ddb228f7-d369-416c-9e69-49f8f822d6d3\",\"type\":\"Line\"},\"hover_glyph\":null,\"muted_glyph\":null,\"nonselection_glyph\":{\"id\":\"98b22081-afff-4fea-a2b9-af104f083ed2\",\"type\":\"Line\"},\"selection_glyph\":null,\"view\":{\"id\":\"3474d86a-9e93-495a-a445-6fb95fa48767\",\"type\":\"CDSView\"}},\"id\":\"bf62db72-339f-46a6-9fb4-fdd4fc458f11\",\"type\":\"GlyphRenderer\"},{\"attributes\":{},\"id\":\"4275f40f-e0a3-40ea-ab25-691412a23ec1\",\"type\":\"LinearScale\"},{\"attributes\":{},\"id\":\"f39db9f4-ad64-498f-a7e5-c9919bdd1793\",\"type\":\"PanTool\"},{\"attributes\":{\"axis_label\":\"cooling rate [K/day]\",\"formatter\":{\"id\":\"5ab73854-100a-4445-83e9-5c4fca5e3cdc\",\"type\":\"BasicTickFormatter\"},\"plot\":{\"id\":\"b1b3e48e-11cc-45d9-9259-fb0e5ac86ecb\",\"subtype\":\"Figure\",\"type\":\"Plot\"},\"ticker\":{\"id\":\"fcb7d1d3-6432-4bba-b2b2-1138c3739b33\",\"type\":\"BasicTicker\"}},\"id\":\"3ed878ff-9354-4e52-852b-d474a0d4ab0d\",\"type\":\"LinearAxis\"},{\"attributes\":{\"data_source\":{\"id\":\"b5b2cdaa-9388-47d7-823b-45c374cd860c\",\"type\":\"ColumnDataSource\"},\"glyph\":{\"id\":\"0a02c972-4147-4515-9352-b4f2774dcb44\",\"type\":\"Line\"},\"hover_glyph\":null,\"muted_glyph\":null,\"nonselection_glyph\":{\"id\":\"2984940a-39ac-4f3c-98bd-8f115955855b\",\"type\":\"Line\"},\"selection_glyph\":null,\"view\":{\"id\":\"fd0e9ed8-6849-41a2-be45-5c5fdc44b687\",\"type\":\"CDSView\"}},\"id\":\"07eed6d7-acb4-4df0-9728-581f7189a478\",\"type\":\"GlyphRenderer\"},{\"attributes\":{\"line_color\":\"#4daf4a\",\"line_width\":1.5,\"x\":{\"field\":\"x\"},\"y\":{\"field\":\"y\"}},\"id\":\"ddb228f7-d369-416c-9e69-49f8f822d6d3\",\"type\":\"Line\"},{\"attributes\":{},\"id\":\"f739e970-b380-4112-8ef2-c8187bd5282c\",\"type\":\"Selection\"},{\"attributes\":{\"callback\":null,\"data\":{\"x\":{\"__ndarray__\":\"Qpcwz9gzGkC34KzIkEYUQAHtmZTPMRJAha2WoDoSEECB4woUW/YLQGFFeMJxAghAeX8nXOxgBEBfzC8M3BgBQBFpjVTpT/w/ltLc+WMV9z+vFsg3lnryP0DqwZOk4uw/bGCbYY295T8VJ4j4Y/fdPxn75x3EdtQ/cIR/72Xa1D+c9m0Ly4XaP4gAEcXfdt8/zinKnEBq4j9oTnSsZ8PlP3tcpdgpSuo/BAwHq9CT8D8WQ8hLiD30P5ITn5hiavM/0XoSyfz47j9eVqdxvnPpP9IBr9YwAOY/pL7NN66a4z/wGTFV6OPhP6aVetEJg+A/5PNTLYov3j/PCsmcChPbP/8CwZlVn9g/kxpBb0X61j+VxW/6CAjVPx0T1WuYrNI/WCa6rAIj0T8pEQFx+GfQP6wN7qx2E84/FdJOw72GzD9Oziywz+XWPwsgu8J3Pe0/x1nw+feu+D+7keKalwwAQIKVRlzZ1AFArQxG3sMrAEBZcC+sXqr9PyhCWK2Dhfw/Y5XWhaoK/D+tdaK2wdz7Pxpnzx5/y/s/gkGWIENN+z/blCNLg+b6P2L3Wt1czvo/6drC9Hf2+j8+W3JZX1X7P71OIVEM6/s/H3twSHm+/T8RgtcsbDX/P/qGo1otEABAfawTqcZPAEBvHUcji2IAQLhY/xZFWABAMJ3s5KA+AEC5xBCHDCIAQGMIJ3oFEQBAeMagDokNAEC1FF0Fm/T/P0tIwsNWVv8/3R1XMws5/j8lwAT8h/38PwweydWm/vs/iVKd+1tk+z/iGYWEbmL7P4H2L7gCcABA\",\"dtype\":\"float64\",\"shape\":[75]},\"y\":{\"__ndarray__\":\"GhExyth1ND/Sv8nbtpRIP2vylNV0PVE/aTum7souWD/At0SJ8fVgPw3Iuahxymc/MSNhhJWvcD/bTfBN02d3P2zb5nxnaoA/CD5h5MAGhz8NmeH1TyaQP+zrCsc9p5Y/LbKd76fGnz/bLW5ISEmmPww9YvTcQq8/JV2OstnstT8Er5Y7M8G+P0c+r3jqkcU/5h99k6ZBzj88bCIzFzjVP4enV8oyxN0//yH99nXg5D8qOpLLf0jtP5kqGJXUifQ/c9cS8kHP/D+/DpwzojQEQIEmwoanVwxA4lgXt9HgE0BSSZ2AJuIbQAMJih9jjiNA5q4l5INuK0AwTKYKRj0zQNv5fmq8/DpAaCJseHrtQkB/+zpwzoxKQM3MzMzMeFJAZmZmZmZqWEAAAAAAAFxeQM3MzMzMJmJAmpmZmZkfZUBmZmZmZhhoQDMzMzMzEWtAAAAAAAAKbkBmZmZmZoFwQM3MzMzM/XFAMzMzMzN6c0CamZmZmfZ0QAAAAAAAc3ZAZmZmZmbvd0DNzMzMzGt5QDMzMzMz6HpAmpmZmZlkfEAAAAAAAOF9QGZmZmZmXX9AZmZmZuZsgECamZmZGSuBQM3MzMxM6YFAAAAAAICngkAzMzMzs2WDQGZmZmbmI4RAmpmZmRnihEDNzMzMTKCFQAAAAACAXoZAMzMzM7Mch0BmZmZm5tqHQJqZmZkZmYhAzczMzExXiUAAAAAAgBWKQDMzMzOz04pAZmZmZuaRi0CamZmZGVCMQM3MzMxMDo1AAAAAAIDMjUAzMzMzs4qOQGZmZmbmSI9A\",\"dtype\":\"float64\",\"shape\":[75]}},\"selected\":{\"id\":\"313b50bf-8c15-42f7-b6e5-b40ebaef9274\",\"type\":\"Selection\"},\"selection_policy\":{\"id\":\"632790b2-46b0-4390-8cdc-aa7958ac1dce\",\"type\":\"UnionRenderers\"}},\"id\":\"f9486283-7969-4002-bf43-c3c441021800\",\"type\":\"ColumnDataSource\"},{\"attributes\":{\"fill_alpha\":{\"value\":0.1},\"fill_color\":{\"value\":\"#1f77b4\"},\"line_alpha\":{\"value\":0.1},\"line_color\":{\"value\":\"#1f77b4\"},\"x\":{\"field\":\"x\"},\"y\":{\"field\":\"y\"}},\"id\":\"c6cc35d4-a991-41b3-b207-f2cf35cdef7b\",\"type\":\"Circle\"},{\"attributes\":{},\"id\":\"17b1ff36-8d54-4f5d-ade9-57fc4562dd3c\",\"type\":\"PanTool\"},{\"attributes\":{},\"id\":\"d2f02b27-956e-4b16-8a8d-e32c6d88f066\",\"type\":\"WheelZoomTool\"},{\"attributes\":{\"data_source\":{\"id\":\"f9486283-7969-4002-bf43-c3c441021800\",\"type\":\"ColumnDataSource\"},\"glyph\":{\"id\":\"331deb25-2706-4d89-942c-e6b8c15296a4\",\"type\":\"Line\"},\"hover_glyph\":null,\"muted_glyph\":null,\"nonselection_glyph\":{\"id\":\"9d21ee66-a21b-4f7d-b34f-8d9f5a12b1dd\",\"type\":\"Line\"},\"selection_glyph\":null,\"view\":{\"id\":\"4981e90a-d983-48da-9c74-67c60d874c89\",\"type\":\"CDSView\"}},\"id\":\"e965080a-1aeb-4bf7-abea-15e892e2e133\",\"type\":\"GlyphRenderer\"},{\"attributes\":{},\"id\":\"1acbf70b-ee2e-41e1-b345-f37c0fdd68c9\",\"type\":\"WheelZoomTool\"},{\"attributes\":{\"data_source\":{\"id\":\"cfa33deb-96ee-4c76-a985-000ae8054625\",\"type\":\"ColumnDataSource\"},\"glyph\":{\"id\":\"b0ed8c4a-dabd-4c89-abc5-cc3ca35b2c35\",\"type\":\"Circle\"},\"hover_glyph\":null,\"muted_glyph\":null,\"nonselection_glyph\":{\"id\":\"c6cc35d4-a991-41b3-b207-f2cf35cdef7b\",\"type\":\"Circle\"},\"selection_glyph\":null,\"view\":{\"id\":\"513d174e-30a6-4e70-81fd-e2368a8d9415\",\"type\":\"CDSView\"}},\"id\":\"caedfcf7-76ee-4bb0-a5b0-02c26656cbe6\",\"type\":\"GlyphRenderer\"},{\"attributes\":{\"line_alpha\":0.1,\"line_color\":\"#1f77b4\",\"line_width\":1.5,\"x\":{\"field\":\"x\"},\"y\":{\"field\":\"y\"}},\"id\":\"9d21ee66-a21b-4f7d-b34f-8d9f5a12b1dd\",\"type\":\"Line\"},{\"attributes\":{\"label\":{\"value\":\"CRD\"},\"renderers\":[{\"id\":\"1733c50c-3e69-4994-ab74-918a2bb4c0f1\",\"type\":\"GlyphRenderer\"},{\"id\":\"e965080a-1aeb-4bf7-abea-15e892e2e133\",\"type\":\"GlyphRenderer\"}]},\"id\":\"cf9dc650-e274-4df5-a818-e9f30f8b3808\",\"type\":\"LegendItem\"},{\"attributes\":{\"line_color\":\"#4daf4a\",\"line_width\":1.5,\"x\":{\"field\":\"x\"},\"y\":{\"field\":\"y\"}},\"id\":\"331deb25-2706-4d89-942c-e6b8c15296a4\",\"type\":\"Line\"},{\"attributes\":{\"callback\":null,\"end\":0.01,\"start\":1020},\"id\":\"bb077de0-e788-41d4-a9c9-e8981a6e472e\",\"type\":\"Range1d\"},{\"attributes\":{},\"id\":\"9e0f38f8-e378-4117-894a-1d98a25bf6f0\",\"type\":\"UnionRenderers\"},{\"attributes\":{\"fill_alpha\":{\"value\":0.1},\"fill_color\":{\"value\":\"#1f77b4\"},\"line_alpha\":{\"value\":0.1},\"line_color\":{\"value\":\"#1f77b4\"},\"x\":{\"field\":\"x\"},\"y\":{\"field\":\"y\"}},\"id\":\"e5d3f9ee-859a-483c-ae1d-9c7f5b73c5cf\",\"type\":\"Circle\"},{\"attributes\":{},\"id\":\"556fae6d-394e-4aa1-b04b-abdfccb4cfc7\",\"type\":\"UnionRenderers\"},{\"attributes\":{\"data_source\":{\"id\":\"7f389ce1-3404-42d4-bdba-b14cd79a0832\",\"type\":\"ColumnDataSource\"},\"glyph\":{\"id\":\"dad7f14e-14a1-4e52-96f2-b43fc30db5e2\",\"type\":\"Circle\"},\"hover_glyph\":null,\"muted_glyph\":null,\"nonselection_glyph\":{\"id\":\"e5d3f9ee-859a-483c-ae1d-9c7f5b73c5cf\",\"type\":\"Circle\"},\"selection_glyph\":null,\"view\":{\"id\":\"1114725f-3b3c-4a25-a387-eb2296a29eba\",\"type\":\"CDSView\"}},\"id\":\"1733c50c-3e69-4994-ab74-918a2bb4c0f1\",\"type\":\"GlyphRenderer\"},{\"attributes\":{},\"id\":\"3e1c0bff-e1cc-4c38-950e-0247dc27b19a\",\"type\":\"UnionRenderers\"},{\"attributes\":{\"items\":[{\"id\":\"34a342a4-d93e-4ee4-946d-d44f43a75236\",\"type\":\"LegendItem\"},{\"id\":\"8ac4b10a-4d2f-456d-9255-470b5b260f6b\",\"type\":\"LegendItem\"}],\"label_text_font_size\":{\"value\":\"8pt\"},\"location\":\"top_center\",\"orientation\":\"horizontal\",\"plot\":{\"id\":\"b1b3e48e-11cc-45d9-9259-fb0e5ac86ecb\",\"subtype\":\"Figure\",\"type\":\"Plot\"}},\"id\":\"ff1d37f5-c410-4498-ba80-07010075115e\",\"type\":\"Legend\"},{\"attributes\":{\"overlay\":{\"id\":\"aefd26a7-55c8-4056-af49-91a04adb4777\",\"type\":\"BoxAnnotation\"}},\"id\":\"a4864484-666d-42bb-b81b-37fffd3e25bf\",\"type\":\"BoxZoomTool\"},{\"attributes\":{},\"id\":\"2e6f7a32-df4b-4127-8487-41c6f8f2367b\",\"type\":\"BasicTickFormatter\"},{\"attributes\":{\"line_alpha\":0.1,\"line_color\":\"#1f77b4\",\"line_dash\":[6],\"line_width\":5,\"x\":{\"field\":\"x\"},\"y\":{\"field\":\"y\"}},\"id\":\"492529d1-4766-4729-a699-e6b747b4d4a0\",\"type\":\"Line\"},{\"attributes\":{},\"id\":\"8fce365b-c3d5-4b0d-ab0d-4b59bdbeb673\",\"type\":\"UnionRenderers\"},{\"attributes\":{},\"id\":\"0b9326dd-2200-4d63-94df-b48405624770\",\"type\":\"SaveTool\"},{\"attributes\":{\"plot\":null,\"text\":\"\"},\"id\":\"88edb8cd-4732-44f1-a3dc-574e5397abb6\",\"type\":\"Title\"},{\"attributes\":{},\"id\":\"86713597-3c07-419b-bef5-d9986a222dfe\",\"type\":\"BasicTicker\"},{\"attributes\":{\"source\":{\"id\":\"fc3c039d-4971-47c0-8d95-7cb21403deda\",\"type\":\"ColumnDataSource\"}},\"id\":\"3474d86a-9e93-495a-a445-6fb95fa48767\",\"type\":\"CDSView\"},{\"attributes\":{},\"id\":\"632790b2-46b0-4390-8cdc-aa7958ac1dce\",\"type\":\"UnionRenderers\"},{\"attributes\":{},\"id\":\"6444f412-b58d-482e-84b9-fee6d301d613\",\"type\":\"Selection\"},{\"attributes\":{\"tools\":[{\"id\":\"17b1ff36-8d54-4f5d-ade9-57fc4562dd3c\",\"type\":\"PanTool\"},{\"id\":\"1acbf70b-ee2e-41e1-b345-f37c0fdd68c9\",\"type\":\"WheelZoomTool\"},{\"id\":\"00330941-2a4c-40c1-b28a-97f00df8ecf5\",\"type\":\"BoxZoomTool\"},{\"id\":\"e68a594c-3824-4977-a4e2-9c3ebc21ff6a\",\"type\":\"SaveTool\"},{\"id\":\"7fbe38bb-fe03-439b-981b-1fc9a287cc7e\",\"type\":\"ResetTool\"},{\"id\":\"af309962-e0e7-4ffb-842a-19b1d0f34209\",\"type\":\"HelpTool\"},{\"id\":\"4c682e2d-fe9b-4c3e-b06e-102fc3bac529\",\"type\":\"PanTool\"},{\"id\":\"28da3c94-884b-40e7-9725-3bcd46b7af7a\",\"type\":\"WheelZoomTool\"},{\"id\":\"a01e37b6-87ba-4855-a9f8-93d276a79436\",\"type\":\"BoxZoomTool\"},{\"id\":\"3887d4d3-bf73-4909-919e-b344223c14dc\",\"type\":\"SaveTool\"},{\"id\":\"2b9d747c-48fd-4030-9bad-fa1a01232afe\",\"type\":\"ResetTool\"},{\"id\":\"b026bcb2-edf4-4449-8685-05de7ed1031d\",\"type\":\"HelpTool\"},{\"id\":\"f39db9f4-ad64-498f-a7e5-c9919bdd1793\",\"type\":\"PanTool\"},{\"id\":\"d2f02b27-956e-4b16-8a8d-e32c6d88f066\",\"type\":\"WheelZoomTool\"},{\"id\":\"a4864484-666d-42bb-b81b-37fffd3e25bf\",\"type\":\"BoxZoomTool\"},{\"id\":\"0b9326dd-2200-4d63-94df-b48405624770\",\"type\":\"SaveTool\"},{\"id\":\"1230a2ad-cbe9-42af-a270-c335c9f2d7ae\",\"type\":\"ResetTool\"},{\"id\":\"bf902e82-4a26-4587-bae5-bc21c26abbd4\",\"type\":\"HelpTool\"}]},\"id\":\"6501db7f-97fd-46f9-8d71-460e0e914570\",\"type\":\"ProxyToolbar\"},{\"attributes\":{\"source\":{\"id\":\"7f389ce1-3404-42d4-bdba-b14cd79a0832\",\"type\":\"ColumnDataSource\"}},\"id\":\"1114725f-3b3c-4a25-a387-eb2296a29eba\",\"type\":\"CDSView\"},{\"attributes\":{\"bottom_units\":\"screen\",\"fill_alpha\":{\"value\":0.5},\"fill_color\":{\"value\":\"lightgrey\"},\"left_units\":\"screen\",\"level\":\"overlay\",\"line_alpha\":{\"value\":1.0},\"line_color\":{\"value\":\"black\"},\"line_dash\":[4,4],\"line_width\":{\"value\":2},\"plot\":null,\"render_mode\":\"css\",\"right_units\":\"screen\",\"top_units\":\"screen\"},\"id\":\"aefd26a7-55c8-4056-af49-91a04adb4777\",\"type\":\"BoxAnnotation\"},{\"attributes\":{\"active_drag\":\"auto\",\"active_inspect\":\"auto\",\"active_scroll\":\"auto\",\"active_tap\":\"auto\",\"tools\":[{\"id\":\"f39db9f4-ad64-498f-a7e5-c9919bdd1793\",\"type\":\"PanTool\"},{\"id\":\"d2f02b27-956e-4b16-8a8d-e32c6d88f066\",\"type\":\"WheelZoomTool\"},{\"id\":\"a4864484-666d-42bb-b81b-37fffd3e25bf\",\"type\":\"BoxZoomTool\"},{\"id\":\"0b9326dd-2200-4d63-94df-b48405624770\",\"type\":\"SaveTool\"},{\"id\":\"1230a2ad-cbe9-42af-a270-c335c9f2d7ae\",\"type\":\"ResetTool\"},{\"id\":\"bf902e82-4a26-4587-bae5-bc21c26abbd4\",\"type\":\"HelpTool\"}]},\"id\":\"9e2c01e7-12d8-4c6d-abfd-f05f83733024\",\"type\":\"Toolbar\"},{\"attributes\":{},\"id\":\"e467748c-4dfc-4e2d-bcab-e082869418f5\",\"type\":\"UnionRenderers\"},{\"attributes\":{},\"id\":\"2b9d747c-48fd-4030-9bad-fa1a01232afe\",\"type\":\"ResetTool\"},{\"attributes\":{\"above\":[{\"id\":\"f40cb856-f051-453f-9eb3-b04228193f9f\",\"type\":\"Legend\"}],\"below\":[{\"id\":\"3d3c979f-5527-4dce-b85b-d810547416b9\",\"type\":\"LinearAxis\"}],\"left\":[{\"id\":\"d07184e2-c36f-4209-aaa1-3ebe79eb7439\",\"type\":\"LogAxis\"}],\"plot_width\":300,\"renderers\":[{\"id\":\"3d3c979f-5527-4dce-b85b-d810547416b9\",\"type\":\"LinearAxis\"},{\"id\":\"f2cf80df-f30d-47f0-84bd-497abafc4b19\",\"type\":\"Grid\"},{\"id\":\"d07184e2-c36f-4209-aaa1-3ebe79eb7439\",\"type\":\"LogAxis\"},{\"id\":\"1d0fd359-08dc-43cc-b349-ab1218444098\",\"type\":\"Grid\"},{\"id\":\"aefd26a7-55c8-4056-af49-91a04adb4777\",\"type\":\"BoxAnnotation\"},{\"id\":\"009a823a-2ba3-4f4a-bb92-c6b6a4888523\",\"type\":\"GlyphRenderer\"},{\"id\":\"101f5fa2-6e45-44fc-a63b-2f3c7b38f1ac\",\"type\":\"GlyphRenderer\"},{\"id\":\"f40cb856-f051-453f-9eb3-b04228193f9f\",\"type\":\"Legend\"}],\"title\":{\"id\":\"88edb8cd-4732-44f1-a3dc-574e5397abb6\",\"type\":\"Title\"},\"toolbar\":{\"id\":\"9e2c01e7-12d8-4c6d-abfd-f05f83733024\",\"type\":\"Toolbar\"},\"toolbar_location\":null,\"x_range\":{\"id\":\"f4ab186d-d849-4815-9338-d0412ef33bf3\",\"type\":\"Range1d\"},\"x_scale\":{\"id\":\"4275f40f-e0a3-40ea-ab25-691412a23ec1\",\"type\":\"LinearScale\"},\"y_range\":{\"id\":\"2a842996-9ed8-4211-b48a-738e4d524f71\",\"type\":\"Range1d\"},\"y_scale\":{\"id\":\"a4d0c8a7-6392-468e-93bb-3d9d16faf0e6\",\"type\":\"LogScale\"}},\"id\":\"85b12f15-4815-48b4-959f-e4edfe610c6a\",\"subtype\":\"Figure\",\"type\":\"Plot\"},{\"attributes\":{\"axis_label\":\"pressure [mb]\",\"formatter\":{\"id\":\"95e7a3c6-4def-4bac-b0d6-13807ca99227\",\"type\":\"BasicTickFormatter\"},\"plot\":{\"id\":\"54d3ac83-7ecc-4961-a3b9-88c6bbce8bca\",\"subtype\":\"Figure\",\"type\":\"Plot\"},\"ticker\":{\"id\":\"86713597-3c07-419b-bef5-d9986a222dfe\",\"type\":\"BasicTicker\"}},\"id\":\"3f4f45b9-c714-4955-b34c-60254606fd54\",\"type\":\"LinearAxis\"},{\"attributes\":{\"plot\":{\"id\":\"54d3ac83-7ecc-4961-a3b9-88c6bbce8bca\",\"subtype\":\"Figure\",\"type\":\"Plot\"},\"ticker\":{\"id\":\"b8c889de-e90f-41e2-a0cb-a9f0b93e7fe3\",\"type\":\"BasicTicker\"}},\"id\":\"ae6015a8-fc78-4f2e-9268-7adbd10adb60\",\"type\":\"Grid\"},{\"attributes\":{\"source\":{\"id\":\"f9486283-7969-4002-bf43-c3c441021800\",\"type\":\"ColumnDataSource\"}},\"id\":\"4981e90a-d983-48da-9c74-67c60d874c89\",\"type\":\"CDSView\"},{\"attributes\":{},\"id\":\"313b50bf-8c15-42f7-b6e5-b40ebaef9274\",\"type\":\"Selection\"},{\"attributes\":{\"toolbar\":{\"id\":\"6501db7f-97fd-46f9-8d71-460e0e914570\",\"type\":\"ProxyToolbar\"},\"toolbar_location\":\"above\"},\"id\":\"c650e4a6-e8d9-496e-ba34-02626c8811f8\",\"type\":\"ToolbarBox\"},{\"attributes\":{\"items\":[{\"id\":\"7d614ab2-f7c4-41f7-bb5a-d2cbdfce3503\",\"type\":\"LegendItem\"},{\"id\":\"cf9dc650-e274-4df5-a818-e9f30f8b3808\",\"type\":\"LegendItem\"}],\"label_text_font_size\":{\"value\":\"8pt\"},\"location\":\"top_center\",\"orientation\":\"horizontal\",\"plot\":{\"id\":\"54d3ac83-7ecc-4961-a3b9-88c6bbce8bca\",\"subtype\":\"Figure\",\"type\":\"Plot\"}},\"id\":\"674ded5f-d4ef-454b-8dee-9134856fed65\",\"type\":\"Legend\"},{\"attributes\":{},\"id\":\"a0016451-f8dd-457a-b736-c4ba31e23b5d\",\"type\":\"Selection\"},{\"attributes\":{\"axis_label\":\"pressure [mb]\",\"formatter\":{\"id\":\"8d2c7671-8eca-49fc-9a2f-5554b7a949a1\",\"type\":\"LogTickFormatter\"},\"plot\":{\"id\":\"85b12f15-4815-48b4-959f-e4edfe610c6a\",\"subtype\":\"Figure\",\"type\":\"Plot\"},\"ticker\":{\"id\":\"bf519239-e347-4a8c-b6c1-b3be11f90a2c\",\"type\":\"LogTicker\"}},\"id\":\"d07184e2-c36f-4209-aaa1-3ebe79eb7439\",\"type\":\"LogAxis\"},{\"attributes\":{},\"id\":\"2a2df35f-cb27-4628-821c-3d1c9fca84d6\",\"type\":\"UnionRenderers\"},{\"attributes\":{},\"id\":\"442c801a-e050-4acb-86d0-1c005bcf94a8\",\"type\":\"LinearScale\"},{\"attributes\":{},\"id\":\"5543ad83-f01c-43ef-ad9a-1cf83ef560cf\",\"type\":\"LinearScale\"},{\"attributes\":{\"callback\":null,\"data\":{\"x\":{\"__ndarray__\":\"UAegFOygBcAiZXvM0sH3v8lei5ikefG/2rECHzDC57+PaztU5Nzdv8rhPHHoWNK/PiiOZ+pKyr8Wlq1ZfXjJv/88apXaoMy//+ezoGw/zb+pVSdkHZnHv4n03Dohw7q/lOvcFr0/m79P07ZvOM2UP0bh245pO5o/vdGLZztXcL9m7E3ULLGhvxh8u4ILO6S/lO8AERWrnL823PcZdO2Sv3WUwmW7uZW/A69ueOJvmr8lvToI3eeBv56rsOCFmKM/RL1Fw33gsj9SH7gorvKwP2AfK8APeqg/0jhdz0Y/hT+LdBbf5sKJv8HNAN49toO/m5H1m0aNdr9za/nhXvR+vzHk2rI+e1g/58u5VaYBYz9a8OAQwWt4v54lDWC4sYq/KbcRrhIclr+d1vrxltmYv9rApcRmfpW/+yLX4/2kkL8359kvQLWQv9SiLLHszZW/QaE7/Fzym7930SUWn31yP0JvMMUA1ay/nNRyFo32sL+G0vn+zfqavwFVlYdeh6K/Ar+FE2mOrL81fSX1J5Ssv6xg0jA7rKS/7rcXGKQMnb/bsO7PMRaSv3uNMLIMRJC/tINH7nwFkL/yWMJtfAyUv7xkAz4+Z5W/HYRovwIQjb/wME0CbKhuP3YKnvvYSJ0/z+VoALlFqD+AfVhv1AqmP19l3af5lqA/cLHa1dMikT/shjQG81lyP0h/JTbsLos/ui9IPNFcnj/ruRFYMUOnP1htbLMHk7E/JhqjlmIesz+XuSbI+72zPyau6gOFlbQ/XO7LTV8Fsz9+aVfrhNO1P3AI+Wa8qbc/\",\"dtype\":\"float64\",\"shape\":[75]},\"y\":{\"__ndarray__\":\"GhExyth1ND/Sv8nbtpRIP2vylNV0PVE/aTum7souWD/At0SJ8fVgPw3Iuahxymc/MSNhhJWvcD/bTfBN02d3P2zb5nxnaoA/CD5h5MAGhz8NmeH1TyaQP+zrCsc9p5Y/LbKd76fGnz/bLW5ISEmmPww9YvTcQq8/JV2OstnstT8Er5Y7M8G+P0c+r3jqkcU/5h99k6ZBzj88bCIzFzjVP4enV8oyxN0//yH99nXg5D8qOpLLf0jtP5kqGJXUifQ/c9cS8kHP/D+/DpwzojQEQIEmwoanVwxA4lgXt9HgE0BSSZ2AJuIbQAMJih9jjiNA5q4l5INuK0AwTKYKRj0zQNv5fmq8/DpAaCJseHrtQkB/+zpwzoxKQM3MzMzMeFJAZmZmZmZqWEAAAAAAAFxeQM3MzMzMJmJAmpmZmZkfZUBmZmZmZhhoQDMzMzMzEWtAAAAAAAAKbkBmZmZmZoFwQM3MzMzM/XFAMzMzMzN6c0CamZmZmfZ0QAAAAAAAc3ZAZmZmZmbvd0DNzMzMzGt5QDMzMzMz6HpAmpmZmZlkfEAAAAAAAOF9QGZmZmZmXX9AZmZmZuZsgECamZmZGSuBQM3MzMxM6YFAAAAAAICngkAzMzMzs2WDQGZmZmbmI4RAmpmZmRnihEDNzMzMTKCFQAAAAACAXoZAMzMzM7Mch0BmZmZm5tqHQJqZmZkZmYhAzczMzExXiUAAAAAAgBWKQDMzMzOz04pAZmZmZuaRi0CamZmZGVCMQM3MzMxMDo1AAAAAAIDMjUAzMzMzs4qOQGZmZmbmSI9A\",\"dtype\":\"float64\",\"shape\":[75]}},\"selected\":{\"id\":\"a049ca2a-e2ee-4371-b314-41baf74335da\",\"type\":\"Selection\"},\"selection_policy\":{\"id\":\"2a2df35f-cb27-4628-821c-3d1c9fca84d6\",\"type\":\"UnionRenderers\"}},\"id\":\"c8ef260c-fe5f-4775-b654-31f9b1341824\",\"type\":\"ColumnDataSource\"},{\"attributes\":{},\"id\":\"1f78fdab-732a-474b-b866-9712001116f1\",\"type\":\"Selection\"},{\"attributes\":{\"children\":[{\"id\":\"c650e4a6-e8d9-496e-ba34-02626c8811f8\",\"type\":\"ToolbarBox\"},{\"id\":\"3060c10c-b2d8-4f18-bdf9-a2ebd0f34810\",\"type\":\"Column\"}]},\"id\":\"bc8147d5-545f-40a1-b9ea-bb4d9141c18f\",\"type\":\"Column\"},{\"attributes\":{\"above\":[{\"id\":\"ff1d37f5-c410-4498-ba80-07010075115e\",\"type\":\"Legend\"}],\"below\":[{\"id\":\"3ed878ff-9354-4e52-852b-d474a0d4ab0d\",\"type\":\"LinearAxis\"}],\"left\":[{\"id\":\"3d7fb353-e264-49e9-a110-153a029c5fc3\",\"type\":\"LogAxis\"}],\"plot_width\":300,\"renderers\":[{\"id\":\"3ed878ff-9354-4e52-852b-d474a0d4ab0d\",\"type\":\"LinearAxis\"},{\"id\":\"5a7cd540-48c2-4ae8-bcd3-539f5b02d58a\",\"type\":\"Grid\"},{\"id\":\"3d7fb353-e264-49e9-a110-153a029c5fc3\",\"type\":\"LogAxis\"},{\"id\":\"34f2b710-8e45-4fe3-bf0b-7c334dfa51ab\",\"type\":\"Grid\"},{\"id\":\"daadc9db-d055-4511-953b-d723ec418617\",\"type\":\"BoxAnnotation\"},{\"id\":\"ced9905f-8b18-48d0-a119-5120b9912e65\",\"type\":\"GlyphRenderer\"},{\"id\":\"caedfcf7-76ee-4bb0-a5b0-02c26656cbe6\",\"type\":\"GlyphRenderer\"},{\"id\":\"bf62db72-339f-46a6-9fb4-fdd4fc458f11\",\"type\":\"GlyphRenderer\"},{\"id\":\"ff1d37f5-c410-4498-ba80-07010075115e\",\"type\":\"Legend\"}],\"title\":{\"id\":\"652a5d5a-a594-41ab-a64b-0aa4a5b224a2\",\"type\":\"Title\"},\"toolbar\":{\"id\":\"ed36f3cb-e6b5-4f5c-a301-0b58d45e5d1b\",\"type\":\"Toolbar\"},\"toolbar_location\":null,\"x_range\":{\"id\":\"23533e71-e485-4ec1-a96c-4376a03c9809\",\"type\":\"Range1d\"},\"x_scale\":{\"id\":\"5543ad83-f01c-43ef-ad9a-1cf83ef560cf\",\"type\":\"LinearScale\"},\"y_range\":{\"id\":\"e99e142a-be26-46b6-841e-9de032dcccf1\",\"type\":\"Range1d\"},\"y_scale\":{\"id\":\"4aa13bb0-001c-4ae8-abf7-7361dbac05bc\",\"type\":\"LogScale\"}},\"id\":\"b1b3e48e-11cc-45d9-9259-fb0e5ac86ecb\",\"subtype\":\"Figure\",\"type\":\"Plot\"},{\"attributes\":{\"callback\":null,\"end\":0.01,\"start\":1020},\"id\":\"2a842996-9ed8-4211-b48a-738e4d524f71\",\"type\":\"Range1d\"},{\"attributes\":{\"dimension\":1,\"plot\":{\"id\":\"b1b3e48e-11cc-45d9-9259-fb0e5ac86ecb\",\"subtype\":\"Figure\",\"type\":\"Plot\"},\"ticker\":{\"id\":\"53dba0e2-8794-43e2-8fb0-4affb4c228c8\",\"type\":\"LogTicker\"}},\"id\":\"34f2b710-8e45-4fe3-bf0b-7c334dfa51ab\",\"type\":\"Grid\"},{\"attributes\":{},\"id\":\"5ab73854-100a-4445-83e9-5c4fca5e3cdc\",\"type\":\"BasicTickFormatter\"},{\"attributes\":{\"line_alpha\":0.8,\"line_color\":\"#984ea3\",\"line_width\":1.5,\"x\":{\"field\":\"x\"},\"y\":{\"field\":\"y\"}},\"id\":\"8cacbf23-fa51-482b-8004-d837d2282af8\",\"type\":\"Line\"},{\"attributes\":{},\"id\":\"1230a2ad-cbe9-42af-a270-c335c9f2d7ae\",\"type\":\"ResetTool\"},{\"attributes\":{\"num_minor_ticks\":10},\"id\":\"bf519239-e347-4a8c-b6c1-b3be11f90a2c\",\"type\":\"LogTicker\"},{\"attributes\":{\"data_source\":{\"id\":\"e58e1a73-44d1-4799-878c-edfade8e81de\",\"type\":\"ColumnDataSource\"},\"glyph\":{\"id\":\"16b56ed9-c2ea-4832-823a-f3e734a5d749\",\"type\":\"Circle\"},\"hover_glyph\":null,\"muted_glyph\":null,\"nonselection_glyph\":{\"id\":\"581cda0f-4e10-4ae3-a87c-ade24c9574b6\",\"type\":\"Circle\"},\"selection_glyph\":null,\"view\":{\"id\":\"57419ba7-9688-470a-966d-8300a50d5f57\",\"type\":\"CDSView\"}},\"id\":\"009a823a-2ba3-4f4a-bb92-c6b6a4888523\",\"type\":\"GlyphRenderer\"},{\"attributes\":{\"label\":{\"value\":\"CRD\"},\"renderers\":[{\"id\":\"caedfcf7-76ee-4bb0-a5b0-02c26656cbe6\",\"type\":\"GlyphRenderer\"},{\"id\":\"bf62db72-339f-46a6-9fb4-fdd4fc458f11\",\"type\":\"GlyphRenderer\"}]},\"id\":\"8ac4b10a-4d2f-456d-9255-470b5b260f6b\",\"type\":\"LegendItem\"},{\"attributes\":{\"source\":{\"id\":\"e58e1a73-44d1-4799-878c-edfade8e81de\",\"type\":\"ColumnDataSource\"}},\"id\":\"57419ba7-9688-470a-966d-8300a50d5f57\",\"type\":\"CDSView\"},{\"attributes\":{},\"id\":\"229b6c11-2371-421b-9185-6297882c9c8c\",\"type\":\"UnionRenderers\"},{\"attributes\":{},\"id\":\"b8c889de-e90f-41e2-a0cb-a9f0b93e7fe3\",\"type\":\"BasicTicker\"},{\"attributes\":{},\"id\":\"3887d4d3-bf73-4909-919e-b344223c14dc\",\"type\":\"SaveTool\"},{\"attributes\":{\"plot\":{\"id\":\"b1b3e48e-11cc-45d9-9259-fb0e5ac86ecb\",\"subtype\":\"Figure\",\"type\":\"Plot\"},\"ticker\":{\"id\":\"fcb7d1d3-6432-4bba-b2b2-1138c3739b33\",\"type\":\"BasicTicker\"}},\"id\":\"5a7cd540-48c2-4ae8-bcd3-539f5b02d58a\",\"type\":\"Grid\"},{\"attributes\":{\"dimension\":1,\"plot\":{\"id\":\"54d3ac83-7ecc-4961-a3b9-88c6bbce8bca\",\"subtype\":\"Figure\",\"type\":\"Plot\"},\"ticker\":{\"id\":\"86713597-3c07-419b-bef5-d9986a222dfe\",\"type\":\"BasicTicker\"}},\"id\":\"6d26b7b3-1463-455f-b9b4-1c4f76712e6d\",\"type\":\"Grid\"},{\"attributes\":{},\"id\":\"a049ca2a-e2ee-4371-b314-41baf74335da\",\"type\":\"Selection\"},{\"attributes\":{},\"id\":\"b026bcb2-edf4-4449-8685-05de7ed1031d\",\"type\":\"HelpTool\"},{\"attributes\":{\"above\":[{\"id\":\"674ded5f-d4ef-454b-8dee-9134856fed65\",\"type\":\"Legend\"}],\"below\":[{\"id\":\"31c9d6cb-98b9-41c2-b641-02ba025683cb\",\"type\":\"LinearAxis\"}],\"left\":[{\"id\":\"3f4f45b9-c714-4955-b34c-60254606fd54\",\"type\":\"LinearAxis\"}],\"plot_width\":300,\"renderers\":[{\"id\":\"31c9d6cb-98b9-41c2-b641-02ba025683cb\",\"type\":\"LinearAxis\"},{\"id\":\"ae6015a8-fc78-4f2e-9268-7adbd10adb60\",\"type\":\"Grid\"},{\"id\":\"3f4f45b9-c714-4955-b34c-60254606fd54\",\"type\":\"LinearAxis\"},{\"id\":\"6d26b7b3-1463-455f-b9b4-1c4f76712e6d\",\"type\":\"Grid\"},{\"id\":\"70eebcb5-0a08-4685-9926-5815be4720b9\",\"type\":\"BoxAnnotation\"},{\"id\":\"07eed6d7-acb4-4df0-9728-581f7189a478\",\"type\":\"GlyphRenderer\"},{\"id\":\"1733c50c-3e69-4994-ab74-918a2bb4c0f1\",\"type\":\"GlyphRenderer\"},{\"id\":\"e965080a-1aeb-4bf7-abea-15e892e2e133\",\"type\":\"GlyphRenderer\"},{\"id\":\"674ded5f-d4ef-454b-8dee-9134856fed65\",\"type\":\"Legend\"}],\"title\":{\"id\":\"c44498ef-da16-439d-af70-ddecd3a5fde7\",\"type\":\"Title\"},\"toolbar\":{\"id\":\"59eb2959-702a-4817-b5b1-59ac446b897f\",\"type\":\"Toolbar\"},\"toolbar_location\":null,\"x_range\":{\"id\":\"233222fa-1051-4fd8-aa44-468a0ffa1f7f\",\"type\":\"Range1d\"},\"x_scale\":{\"id\":\"1d56e29d-4fd9-4111-91f0-f75f6e573fdc\",\"type\":\"LinearScale\"},\"y_range\":{\"id\":\"bb077de0-e788-41d4-a9c9-e8981a6e472e\",\"type\":\"Range1d\"},\"y_scale\":{\"id\":\"442c801a-e050-4acb-86d0-1c005bcf94a8\",\"type\":\"LinearScale\"}},\"id\":\"54d3ac83-7ecc-4961-a3b9-88c6bbce8bca\",\"subtype\":\"Figure\",\"type\":\"Plot\"},{\"attributes\":{},\"id\":\"a9a516f3-84e2-4b07-bca9-c3b746c8cb27\",\"type\":\"Selection\"},{\"attributes\":{\"ticker\":null},\"id\":\"8d2c7671-8eca-49fc-9a2f-5554b7a949a1\",\"type\":\"LogTickFormatter\"},{\"attributes\":{},\"id\":\"28da3c94-884b-40e7-9725-3bcd46b7af7a\",\"type\":\"WheelZoomTool\"},{\"attributes\":{\"label\":{\"value\":\"CLIRAD\"},\"renderers\":[{\"id\":\"07eed6d7-acb4-4df0-9728-581f7189a478\",\"type\":\"GlyphRenderer\"}]},\"id\":\"7d614ab2-f7c4-41f7-bb5a-d2cbdfce3503\",\"type\":\"LegendItem\"},{\"attributes\":{},\"id\":\"05055f5e-d904-4899-a714-19968769d15d\",\"type\":\"Selection\"},{\"attributes\":{\"plot\":null,\"text\":\"\"},\"id\":\"652a5d5a-a594-41ab-a64b-0aa4a5b224a2\",\"type\":\"Title\"},{\"attributes\":{\"callback\":null,\"end\":1.4550834448362864,\"start\":0.194246436221114},\"id\":\"23533e71-e485-4ec1-a96c-4376a03c9809\",\"type\":\"Range1d\"}],\"root_ids\":[\"bc8147d5-545f-40a1-b9ea-bb4d9141c18f\"]},\"title\":\"Bokeh Application\",\"version\":\"0.12.16\"}};\n",
       "  var render_items = [{\"docid\":\"04614921-4810-4e20-b565-9d473a994031\",\"elementid\":\"988588db-f8c4-4fd7-80a3-25b715969c75\",\"modelid\":\"bc8147d5-545f-40a1-b9ea-bb4d9141c18f\"}];\n",
       "  root.Bokeh.embed.embed_items_notebook(docs_json, render_items);\n",
       "\n",
       "  }\n",
       "  if (root.Bokeh !== undefined) {\n",
       "    embed_document(root);\n",
       "  } else {\n",
       "    var attempts = 0;\n",
       "    var timer = setInterval(function(root) {\n",
       "      if (root.Bokeh !== undefined) {\n",
       "        embed_document(root);\n",
       "        clearInterval(timer);\n",
       "      }\n",
       "      attempts++;\n",
       "      if (attempts > 100) {\n",
       "        console.log(\"Bokeh: ERROR: Unable to run BokehJS code because BokehJS library is missing\")\n",
       "        clearInterval(timer);\n",
       "      }\n",
       "    }, 10, root)\n",
       "  }\n",
       "})(window);"
      ],
      "application/vnd.bokehjs_exec.v0+json": ""
     },
     "metadata": {
      "application/vnd.bokehjs_exec.v0+json": {
       "id": "bc8147d5-545f-40a1-b9ea-bb4d9141c18f"
      }
     },
     "output_type": "display_data"
    },
    {
     "data": {
      "text/markdown": [
       "*FIGURE.* Cooling rates & difference."
      ],
      "text/plain": [
       "<IPython.core.display.Markdown object>"
      ]
     },
     "metadata": {},
     "output_type": "display_data"
    },
    {
     "data": {
      "text/html": [
       "<a id=\"Fluxes._mls.\"></a>"
      ],
      "text/plain": [
       "<IPython.core.display.HTML object>"
      ]
     },
     "metadata": {},
     "output_type": "display_data"
    },
    {
     "data": {
      "text/markdown": [
       "# Fluxes. mls."
      ],
      "text/plain": [
       "<IPython.core.display.Markdown object>"
      ]
     },
     "metadata": {},
     "output_type": "display_data"
    },
    {
     "data": {
      "text/html": [
       "\n",
       "<div class=\"bk-root\">\n",
       "    <div class=\"bk-plotdiv\" id=\"b55befd6-8132-4f27-83a7-2cae786571e4\"></div>\n",
       "</div>"
      ]
     },
     "metadata": {},
     "output_type": "display_data"
    },
    {
     "data": {
      "application/javascript": [
       "(function(root) {\n",
       "  function embed_document(root) {\n",
       "    \n",
       "  var docs_json = {\"5891bbea-e220-49d3-b6fc-5928bed9a9c8\":{\"roots\":{\"references\":[{\"attributes\":{\"dimension\":1,\"plot\":{\"id\":\"40265528-4819-4759-81b2-8d97bd772cfb\",\"subtype\":\"Figure\",\"type\":\"Plot\"},\"ticker\":{\"id\":\"89354115-e26d-48cd-864e-7e504ceeef27\",\"type\":\"BasicTicker\"}},\"id\":\"7c8fef31-7dc6-4c93-9412-04489a457ade\",\"type\":\"Grid\"},{\"attributes\":{},\"id\":\"95b06edf-cf92-48ad-b722-3cb24d33a05e\",\"type\":\"Selection\"},{\"attributes\":{},\"id\":\"ed802239-8f5f-40cc-8bf2-c093ad13e0a9\",\"type\":\"ResetTool\"},{\"attributes\":{},\"id\":\"2c22a753-b695-41c5-84ec-9fcf59454d6a\",\"type\":\"LinearScale\"},{\"attributes\":{\"data_source\":{\"id\":\"e3d50393-f66e-402a-a351-a18232e67a65\",\"type\":\"ColumnDataSource\"},\"glyph\":{\"id\":\"bba139a4-1658-4710-8e59-7b1b3e320273\",\"type\":\"VBar\"},\"hover_glyph\":null,\"muted_glyph\":null,\"nonselection_glyph\":{\"id\":\"bcc8aee5-6820-43dd-9093-60f7587fc366\",\"type\":\"VBar\"},\"selection_glyph\":null,\"view\":{\"id\":\"65ec12a5-3cdd-4e01-a93d-12fc197f125b\",\"type\":\"CDSView\"}},\"id\":\"33931c92-f19b-4c4b-8a5a-eec600d09b02\",\"type\":\"GlyphRenderer\"},{\"attributes\":{},\"id\":\"60419741-7115-478a-95d6-02bc1d5aae4f\",\"type\":\"BasicTickFormatter\"},{\"attributes\":{\"children\":[{\"id\":\"401b3a05-7bb5-4408-9332-426383c9ae5d\",\"subtype\":\"Figure\",\"type\":\"Plot\"},{\"id\":\"40265528-4819-4759-81b2-8d97bd772cfb\",\"subtype\":\"Figure\",\"type\":\"Plot\"},{\"id\":\"f8f84941-3414-403b-bef1-4bed8d8ee19e\",\"subtype\":\"Figure\",\"type\":\"Plot\"}]},\"id\":\"a8036c84-a25f-4c43-ae25-19e75e3536fa\",\"type\":\"Row\"},{\"attributes\":{\"callback\":null,\"data\":{\"band\":[\"1\",\"2\",\"3\",\"4\",\"5\",\"6\",\"7\",\"8\",\"9\",\"10\",\"11\"],\"flux\":{\"__ndarray__\":\"AJQxPsxeyD+AJAuYwK3SPwDaxMn9Drm/AGJLj6Z6ur8APjc0ZaevvwBAy7p/LKS/AJbLRuf8pL8AoaF/gou5v0C4O2u3XdO/YL6fGi/dwD8AldV0PdHMPw==\",\"dtype\":\"float64\",\"shape\":[11]}},\"selected\":{\"id\":\"95b06edf-cf92-48ad-b722-3cb24d33a05e\",\"type\":\"Selection\"},\"selection_policy\":{\"id\":\"dcf8663b-c94d-4d23-886a-5dfc755b66fc\",\"type\":\"UnionRenderers\"}},\"id\":\"662a8bf8-cbf5-4575-8962-079c07a5c9c4\",\"type\":\"ColumnDataSource\"},{\"attributes\":{\"fill_color\":{\"value\":\"#1f77b4\"},\"line_color\":{\"value\":\"#1f77b4\"},\"top\":{\"field\":\"flux\"},\"width\":{\"value\":0.9},\"x\":{\"field\":\"band\"}},\"id\":\"804462ad-44f1-490b-a631-281c2a6b0e0d\",\"type\":\"VBar\"},{\"attributes\":{\"tools\":[{\"id\":\"2f203f42-2e15-4b52-829e-fe38902965b9\",\"type\":\"PanTool\"},{\"id\":\"9a9d336f-4a9f-4a66-8dbc-065963dc07e9\",\"type\":\"WheelZoomTool\"},{\"id\":\"c54ef632-36f8-40f4-a3fd-8368e1f02b59\",\"type\":\"BoxZoomTool\"},{\"id\":\"737b67f0-2815-471e-8533-af147b82a9a9\",\"type\":\"SaveTool\"},{\"id\":\"011b3b56-7d0f-4b73-88f1-af304302cbdf\",\"type\":\"ResetTool\"},{\"id\":\"c134d466-e844-457f-b965-1242ccaca426\",\"type\":\"HelpTool\"},{\"id\":\"2b4ba209-9409-4c79-a64a-4705bd66885d\",\"type\":\"PanTool\"},{\"id\":\"8eafdbea-5699-4199-a8d2-9bf9c7a017d2\",\"type\":\"WheelZoomTool\"},{\"id\":\"9b405e78-1873-473d-bdbf-b25624690a5b\",\"type\":\"BoxZoomTool\"},{\"id\":\"223a7c28-360f-42a7-b02a-f2527a605aba\",\"type\":\"SaveTool\"},{\"id\":\"ed802239-8f5f-40cc-8bf2-c093ad13e0a9\",\"type\":\"ResetTool\"},{\"id\":\"478b57ad-0ee7-45c7-a75f-02044782c398\",\"type\":\"HelpTool\"},{\"id\":\"1e526953-af62-44ae-a89f-cfa3fcda492c\",\"type\":\"PanTool\"},{\"id\":\"00895ffb-6441-4270-b75f-e3e4e0ce3a1c\",\"type\":\"WheelZoomTool\"},{\"id\":\"a3b2be11-5050-465e-9695-5ba29abc2131\",\"type\":\"BoxZoomTool\"},{\"id\":\"798ee2e8-1937-4567-8a71-139775a25f3a\",\"type\":\"SaveTool\"},{\"id\":\"05f1e789-7767-47cd-84ee-b08df07f89d9\",\"type\":\"ResetTool\"},{\"id\":\"ed21e105-1ed3-4b13-b4c9-f0c64614fbad\",\"type\":\"HelpTool\"}]},\"id\":\"def94780-cec5-48e5-a218-4a41f443e17f\",\"type\":\"ProxyToolbar\"},{\"attributes\":{\"callback\":null,\"factors\":[\"1\",\"2\",\"3\",\"4\",\"5\",\"6\",\"7\",\"8\",\"9\",\"10\",\"11\"]},\"id\":\"b6958e6e-f3a6-4a7b-b8b4-a96adce347fc\",\"type\":\"FactorRange\"},{\"attributes\":{\"dimension\":1,\"plot\":{\"id\":\"f8f84941-3414-403b-bef1-4bed8d8ee19e\",\"subtype\":\"Figure\",\"type\":\"Plot\"},\"ticker\":{\"id\":\"96acb889-47d3-4c97-b1b8-3923831098b0\",\"type\":\"BasicTicker\"}},\"id\":\"b57714b6-ec06-4d9f-b17f-9819406a0a7e\",\"type\":\"Grid\"},{\"attributes\":{\"callback\":null},\"id\":\"ea039f2a-21b5-43b1-a416-f06367885b91\",\"type\":\"DataRange1d\"},{\"attributes\":{\"source\":{\"id\":\"e3d50393-f66e-402a-a351-a18232e67a65\",\"type\":\"ColumnDataSource\"}},\"id\":\"65ec12a5-3cdd-4e01-a93d-12fc197f125b\",\"type\":\"CDSView\"},{\"attributes\":{},\"id\":\"8d720942-92c8-4d46-bf3e-d15bda156acc\",\"type\":\"CategoricalTickFormatter\"},{\"attributes\":{\"callback\":null,\"factors\":[\"1\",\"2\",\"3\",\"4\",\"5\",\"6\",\"7\",\"8\",\"9\",\"10\",\"11\"]},\"id\":\"f3f488ff-9863-4371-9fb8-ebed0db2b304\",\"type\":\"FactorRange\"},{\"attributes\":{\"plot\":{\"id\":\"40265528-4819-4759-81b2-8d97bd772cfb\",\"subtype\":\"Figure\",\"type\":\"Plot\"},\"ticker\":{\"id\":\"41ceed76-b345-4e90-88d4-232f1b9371fa\",\"type\":\"CategoricalTicker\"}},\"id\":\"a1b489b3-d472-461b-9134-c2355733d9d7\",\"type\":\"Grid\"},{\"attributes\":{\"overlay\":{\"id\":\"6251e182-c29b-45bb-97b1-8b2cc4d58586\",\"type\":\"BoxAnnotation\"}},\"id\":\"a3b2be11-5050-465e-9695-5ba29abc2131\",\"type\":\"BoxZoomTool\"},{\"attributes\":{\"toolbar\":{\"id\":\"def94780-cec5-48e5-a218-4a41f443e17f\",\"type\":\"ProxyToolbar\"},\"toolbar_location\":\"above\"},\"id\":\"20785d4b-4c6d-4cf3-906d-8a4643367b7b\",\"type\":\"ToolbarBox\"},{\"attributes\":{},\"id\":\"8eafdbea-5699-4199-a8d2-9bf9c7a017d2\",\"type\":\"WheelZoomTool\"},{\"attributes\":{},\"id\":\"9ea69586-cd1f-4548-b90c-e97c20511a43\",\"type\":\"CategoricalTicker\"},{\"attributes\":{},\"id\":\"443382bd-fe7c-42a5-bead-3f4db5891191\",\"type\":\"Selection\"},{\"attributes\":{\"axis_label\":\"spectral band\",\"formatter\":{\"id\":\"346e3632-7c08-4974-997f-5d6cd5fa6706\",\"type\":\"CategoricalTickFormatter\"},\"plot\":{\"id\":\"f8f84941-3414-403b-bef1-4bed8d8ee19e\",\"subtype\":\"Figure\",\"type\":\"Plot\"},\"ticker\":{\"id\":\"14f4c08f-1a1f-4c44-b1fe-f9de234e656e\",\"type\":\"CategoricalTicker\"}},\"id\":\"d664c576-6214-4caa-ab73-a207facd36ab\",\"type\":\"CategoricalAxis\"},{\"attributes\":{\"axis_label\":\"flux (W m-2)\",\"formatter\":{\"id\":\"19f8945b-58e3-4088-b02b-7a709f6b3419\",\"type\":\"BasicTickFormatter\"},\"plot\":{\"id\":\"40265528-4819-4759-81b2-8d97bd772cfb\",\"subtype\":\"Figure\",\"type\":\"Plot\"},\"ticker\":{\"id\":\"89354115-e26d-48cd-864e-7e504ceeef27\",\"type\":\"BasicTicker\"}},\"id\":\"d9db32d1-aec1-4d7a-a949-dc941f0c9428\",\"type\":\"LinearAxis\"},{\"attributes\":{\"callback\":null,\"data\":{\"band\":[\"1\",\"2\",\"3\",\"4\",\"5\",\"6\",\"7\",\"8\",\"9\",\"10\",\"11\"],\"flux\":{\"__ndarray__\":\"AAAAOsyXB78A0clS6/3XP4AjgJvFi9o/QHCWkuUk1r8AlgUTfxSxP0BD9LV4wrY/wKMS6F0Gob9ABJTh0/fBv4BrC89LxcC/ALA8D+7Oij+Q+vxBbtDVPw==\",\"dtype\":\"float64\",\"shape\":[11]}},\"selected\":{\"id\":\"77448841-f31f-457f-afc7-1c09438c7284\",\"type\":\"Selection\"},\"selection_policy\":{\"id\":\"834e54a3-00fe-430d-9cee-400ab8f8592d\",\"type\":\"UnionRenderers\"}},\"id\":\"bbe5a6aa-ac5a-4187-9d40-167f2a7a6eb7\",\"type\":\"ColumnDataSource\"},{\"attributes\":{\"callback\":null},\"id\":\"cbd6bd38-c232-4745-a96e-44779c05f8e8\",\"type\":\"DataRange1d\"},{\"attributes\":{\"source\":{\"id\":\"bbe5a6aa-ac5a-4187-9d40-167f2a7a6eb7\",\"type\":\"ColumnDataSource\"}},\"id\":\"8f96700e-d18c-48c5-ac89-fd31b3eb155a\",\"type\":\"CDSView\"},{\"attributes\":{},\"id\":\"05f1e789-7767-47cd-84ee-b08df07f89d9\",\"type\":\"ResetTool\"},{\"attributes\":{\"below\":[{\"id\":\"d664c576-6214-4caa-ab73-a207facd36ab\",\"type\":\"CategoricalAxis\"}],\"left\":[{\"id\":\"b756e379-4d3a-458f-8540-5361adbcb694\",\"type\":\"LinearAxis\"}],\"plot_height\":300,\"plot_width\":300,\"renderers\":[{\"id\":\"d664c576-6214-4caa-ab73-a207facd36ab\",\"type\":\"CategoricalAxis\"},{\"id\":\"af61762f-1c21-48a2-bc32-a3373ff12ab5\",\"type\":\"Grid\"},{\"id\":\"b756e379-4d3a-458f-8540-5361adbcb694\",\"type\":\"LinearAxis\"},{\"id\":\"b57714b6-ec06-4d9f-b17f-9819406a0a7e\",\"type\":\"Grid\"},{\"id\":\"6251e182-c29b-45bb-97b1-8b2cc4d58586\",\"type\":\"BoxAnnotation\"},{\"id\":\"33931c92-f19b-4c4b-8a5a-eec600d09b02\",\"type\":\"GlyphRenderer\"}],\"title\":{\"id\":\"69c840d7-a804-43a4-ae39-5dfe07a8c22d\",\"type\":\"Title\"},\"toolbar\":{\"id\":\"aeca078e-22e4-4100-a31f-f39442e9d3c4\",\"type\":\"Toolbar\"},\"toolbar_location\":null,\"x_range\":{\"id\":\"b6958e6e-f3a6-4a7b-b8b4-a96adce347fc\",\"type\":\"FactorRange\"},\"x_scale\":{\"id\":\"d517be13-9bb1-421a-aa68-f968271db914\",\"type\":\"CategoricalScale\"},\"y_range\":{\"id\":\"cbd6bd38-c232-4745-a96e-44779c05f8e8\",\"type\":\"DataRange1d\"},\"y_scale\":{\"id\":\"e285eeca-63d5-4409-ac72-ad1be8810dc6\",\"type\":\"LinearScale\"}},\"id\":\"f8f84941-3414-403b-bef1-4bed8d8ee19e\",\"subtype\":\"Figure\",\"type\":\"Plot\"},{\"attributes\":{},\"id\":\"19f8945b-58e3-4088-b02b-7a709f6b3419\",\"type\":\"BasicTickFormatter\"},{\"attributes\":{},\"id\":\"9a9d336f-4a9f-4a66-8dbc-065963dc07e9\",\"type\":\"WheelZoomTool\"},{\"attributes\":{\"plot\":{\"id\":\"401b3a05-7bb5-4408-9332-426383c9ae5d\",\"subtype\":\"Figure\",\"type\":\"Plot\"},\"ticker\":{\"id\":\"9ea69586-cd1f-4548-b90c-e97c20511a43\",\"type\":\"CategoricalTicker\"}},\"id\":\"510ac2e5-1a7c-4443-8e19-1c13d1a2e6fc\",\"type\":\"Grid\"},{\"attributes\":{},\"id\":\"834e54a3-00fe-430d-9cee-400ab8f8592d\",\"type\":\"UnionRenderers\"},{\"attributes\":{},\"id\":\"89354115-e26d-48cd-864e-7e504ceeef27\",\"type\":\"BasicTicker\"},{\"attributes\":{\"fill_alpha\":{\"value\":0.1},\"fill_color\":{\"value\":\"#1f77b4\"},\"line_alpha\":{\"value\":0.1},\"line_color\":{\"value\":\"#1f77b4\"},\"top\":{\"field\":\"flux\"},\"width\":{\"value\":0.9},\"x\":{\"field\":\"band\"}},\"id\":\"79bb7da2-0ff1-4895-8781-c798373837e7\",\"type\":\"VBar\"},{\"attributes\":{\"plot\":null,\"text\":\"Atmosphere heating. CLIRAD - CRD.\"},\"id\":\"69c840d7-a804-43a4-ae39-5dfe07a8c22d\",\"type\":\"Title\"},{\"attributes\":{},\"id\":\"737b67f0-2815-471e-8533-af147b82a9a9\",\"type\":\"SaveTool\"},{\"attributes\":{\"active_drag\":\"auto\",\"active_inspect\":\"auto\",\"active_scroll\":\"auto\",\"active_tap\":\"auto\",\"tools\":[{\"id\":\"2f203f42-2e15-4b52-829e-fe38902965b9\",\"type\":\"PanTool\"},{\"id\":\"9a9d336f-4a9f-4a66-8dbc-065963dc07e9\",\"type\":\"WheelZoomTool\"},{\"id\":\"c54ef632-36f8-40f4-a3fd-8368e1f02b59\",\"type\":\"BoxZoomTool\"},{\"id\":\"737b67f0-2815-471e-8533-af147b82a9a9\",\"type\":\"SaveTool\"},{\"id\":\"011b3b56-7d0f-4b73-88f1-af304302cbdf\",\"type\":\"ResetTool\"},{\"id\":\"c134d466-e844-457f-b965-1242ccaca426\",\"type\":\"HelpTool\"}]},\"id\":\"29ca8a67-b4fe-40c9-a6f5-c38a9d458bb7\",\"type\":\"Toolbar\"},{\"attributes\":{},\"id\":\"77448841-f31f-457f-afc7-1c09438c7284\",\"type\":\"Selection\"},{\"attributes\":{\"callback\":null,\"data\":{\"band\":[\"1\",\"2\",\"3\",\"4\",\"5\",\"6\",\"7\",\"8\",\"9\",\"10\",\"11\"],\"flux\":{\"__ndarray__\":\"APnkm0xgyD8AykAC0kC1v2CPmsC+Z+C/gM9+pIgMzz+ACwQBMnTAvwBFfZI7bMC/AJCBH9Wwf78AHAbzV8ikP4Dbvkf99cW/QFf5r71gvj9gPcYmQ5+9vw==\",\"dtype\":\"float64\",\"shape\":[11]}},\"selected\":{\"id\":\"443382bd-fe7c-42a5-bead-3f4db5891191\",\"type\":\"Selection\"},\"selection_policy\":{\"id\":\"8c496c06-221d-4455-b92e-329332bc6783\",\"type\":\"UnionRenderers\"}},\"id\":\"e3d50393-f66e-402a-a351-a18232e67a65\",\"type\":\"ColumnDataSource\"},{\"attributes\":{},\"id\":\"14f4c08f-1a1f-4c44-b1fe-f9de234e656e\",\"type\":\"CategoricalTicker\"},{\"attributes\":{\"children\":[{\"id\":\"20785d4b-4c6d-4cf3-906d-8a4643367b7b\",\"type\":\"ToolbarBox\"},{\"id\":\"5b40d672-5d71-4213-afa1-e8614cc70233\",\"type\":\"Column\"}]},\"id\":\"699b8519-c554-4893-a305-54de81d38587\",\"type\":\"Column\"},{\"attributes\":{},\"id\":\"478b57ad-0ee7-45c7-a75f-02044782c398\",\"type\":\"HelpTool\"},{\"attributes\":{\"callback\":null,\"factors\":[\"1\",\"2\",\"3\",\"4\",\"5\",\"6\",\"7\",\"8\",\"9\",\"10\",\"11\"]},\"id\":\"2c69b791-df50-4a62-995c-64e0835971eb\",\"type\":\"FactorRange\"},{\"attributes\":{\"bottom_units\":\"screen\",\"fill_alpha\":{\"value\":0.5},\"fill_color\":{\"value\":\"lightgrey\"},\"left_units\":\"screen\",\"level\":\"overlay\",\"line_alpha\":{\"value\":1.0},\"line_color\":{\"value\":\"black\"},\"line_dash\":[4,4],\"line_width\":{\"value\":2},\"plot\":null,\"render_mode\":\"css\",\"right_units\":\"screen\",\"top_units\":\"screen\"},\"id\":\"80f95b5f-921f-4721-9ed5-2531b81ce1c7\",\"type\":\"BoxAnnotation\"},{\"attributes\":{\"source\":{\"id\":\"662a8bf8-cbf5-4575-8962-079c07a5c9c4\",\"type\":\"ColumnDataSource\"}},\"id\":\"792cd3f5-a151-4a7b-b095-95d047075645\",\"type\":\"CDSView\"},{\"attributes\":{},\"id\":\"98452c60-3270-49ef-920a-2d306c38e7b6\",\"type\":\"CategoricalTickFormatter\"},{\"attributes\":{},\"id\":\"96acb889-47d3-4c97-b1b8-3923831098b0\",\"type\":\"BasicTicker\"},{\"attributes\":{\"axis_label\":\"spectral band\",\"formatter\":{\"id\":\"98452c60-3270-49ef-920a-2d306c38e7b6\",\"type\":\"CategoricalTickFormatter\"},\"plot\":{\"id\":\"40265528-4819-4759-81b2-8d97bd772cfb\",\"subtype\":\"Figure\",\"type\":\"Plot\"},\"ticker\":{\"id\":\"41ceed76-b345-4e90-88d4-232f1b9371fa\",\"type\":\"CategoricalTicker\"}},\"id\":\"f6e9019d-4bc5-4a4e-b77a-812b2be15c44\",\"type\":\"CategoricalAxis\"},{\"attributes\":{\"fill_color\":{\"value\":\"#1f77b4\"},\"line_color\":{\"value\":\"#1f77b4\"},\"top\":{\"field\":\"flux\"},\"width\":{\"value\":0.9},\"x\":{\"field\":\"band\"}},\"id\":\"b7fef0c4-4c2f-4dc6-9597-bdba4e24a258\",\"type\":\"VBar\"},{\"attributes\":{},\"id\":\"d517be13-9bb1-421a-aa68-f968271db914\",\"type\":\"CategoricalScale\"},{\"attributes\":{\"bottom_units\":\"screen\",\"fill_alpha\":{\"value\":0.5},\"fill_color\":{\"value\":\"lightgrey\"},\"left_units\":\"screen\",\"level\":\"overlay\",\"line_alpha\":{\"value\":1.0},\"line_color\":{\"value\":\"black\"},\"line_dash\":[4,4],\"line_width\":{\"value\":2},\"plot\":null,\"render_mode\":\"css\",\"right_units\":\"screen\",\"top_units\":\"screen\"},\"id\":\"6251e182-c29b-45bb-97b1-8b2cc4d58586\",\"type\":\"BoxAnnotation\"},{\"attributes\":{\"fill_alpha\":{\"value\":0.1},\"fill_color\":{\"value\":\"#1f77b4\"},\"line_alpha\":{\"value\":0.1},\"line_color\":{\"value\":\"#1f77b4\"},\"top\":{\"field\":\"flux\"},\"width\":{\"value\":0.9},\"x\":{\"field\":\"band\"}},\"id\":\"51e06025-4e78-46e7-8651-1e746b953473\",\"type\":\"VBar\"},{\"attributes\":{\"active_drag\":\"auto\",\"active_inspect\":\"auto\",\"active_scroll\":\"auto\",\"active_tap\":\"auto\",\"tools\":[{\"id\":\"1e526953-af62-44ae-a89f-cfa3fcda492c\",\"type\":\"PanTool\"},{\"id\":\"00895ffb-6441-4270-b75f-e3e4e0ce3a1c\",\"type\":\"WheelZoomTool\"},{\"id\":\"a3b2be11-5050-465e-9695-5ba29abc2131\",\"type\":\"BoxZoomTool\"},{\"id\":\"798ee2e8-1937-4567-8a71-139775a25f3a\",\"type\":\"SaveTool\"},{\"id\":\"05f1e789-7767-47cd-84ee-b08df07f89d9\",\"type\":\"ResetTool\"},{\"id\":\"ed21e105-1ed3-4b13-b4c9-f0c64614fbad\",\"type\":\"HelpTool\"}]},\"id\":\"aeca078e-22e4-4100-a31f-f39442e9d3c4\",\"type\":\"Toolbar\"},{\"attributes\":{},\"id\":\"c134d466-e844-457f-b965-1242ccaca426\",\"type\":\"HelpTool\"},{\"attributes\":{\"data_source\":{\"id\":\"bbe5a6aa-ac5a-4187-9d40-167f2a7a6eb7\",\"type\":\"ColumnDataSource\"},\"glyph\":{\"id\":\"804462ad-44f1-490b-a631-281c2a6b0e0d\",\"type\":\"VBar\"},\"hover_glyph\":null,\"muted_glyph\":null,\"nonselection_glyph\":{\"id\":\"79bb7da2-0ff1-4895-8781-c798373837e7\",\"type\":\"VBar\"},\"selection_glyph\":null,\"view\":{\"id\":\"8f96700e-d18c-48c5-ac89-fd31b3eb155a\",\"type\":\"CDSView\"}},\"id\":\"fc451308-29a0-40ff-94f4-86639d203b7e\",\"type\":\"GlyphRenderer\"},{\"attributes\":{\"plot\":null,\"text\":\"SFC flux. CLIRAD - CRD.\"},\"id\":\"eb6199df-0013-4602-adcb-5a48ce8aa25e\",\"type\":\"Title\"},{\"attributes\":{\"plot\":{\"id\":\"f8f84941-3414-403b-bef1-4bed8d8ee19e\",\"subtype\":\"Figure\",\"type\":\"Plot\"},\"ticker\":{\"id\":\"14f4c08f-1a1f-4c44-b1fe-f9de234e656e\",\"type\":\"CategoricalTicker\"}},\"id\":\"af61762f-1c21-48a2-bc32-a3373ff12ab5\",\"type\":\"Grid\"},{\"attributes\":{},\"id\":\"f47983ae-9b27-4697-816d-c3f74e7a8313\",\"type\":\"BasicTickFormatter\"},{\"attributes\":{},\"id\":\"1e526953-af62-44ae-a89f-cfa3fcda492c\",\"type\":\"PanTool\"},{\"attributes\":{\"below\":[{\"id\":\"f6e9019d-4bc5-4a4e-b77a-812b2be15c44\",\"type\":\"CategoricalAxis\"}],\"left\":[{\"id\":\"d9db32d1-aec1-4d7a-a949-dc941f0c9428\",\"type\":\"LinearAxis\"}],\"plot_height\":300,\"plot_width\":300,\"renderers\":[{\"id\":\"f6e9019d-4bc5-4a4e-b77a-812b2be15c44\",\"type\":\"CategoricalAxis\"},{\"id\":\"a1b489b3-d472-461b-9134-c2355733d9d7\",\"type\":\"Grid\"},{\"id\":\"d9db32d1-aec1-4d7a-a949-dc941f0c9428\",\"type\":\"LinearAxis\"},{\"id\":\"7c8fef31-7dc6-4c93-9412-04489a457ade\",\"type\":\"Grid\"},{\"id\":\"80f95b5f-921f-4721-9ed5-2531b81ce1c7\",\"type\":\"BoxAnnotation\"},{\"id\":\"fc451308-29a0-40ff-94f4-86639d203b7e\",\"type\":\"GlyphRenderer\"}],\"title\":{\"id\":\"eb6199df-0013-4602-adcb-5a48ce8aa25e\",\"type\":\"Title\"},\"toolbar\":{\"id\":\"268a8340-b77b-48ac-8d08-0bc11723f27f\",\"type\":\"Toolbar\"},\"toolbar_location\":null,\"x_range\":{\"id\":\"2c69b791-df50-4a62-995c-64e0835971eb\",\"type\":\"FactorRange\"},\"x_scale\":{\"id\":\"08014b95-fa93-4753-b218-b28b8ca245ab\",\"type\":\"CategoricalScale\"},\"y_range\":{\"id\":\"e983697e-4b00-479d-a41c-a24fd7c3c2ac\",\"type\":\"DataRange1d\"},\"y_scale\":{\"id\":\"2c22a753-b695-41c5-84ec-9fcf59454d6a\",\"type\":\"LinearScale\"}},\"id\":\"40265528-4819-4759-81b2-8d97bd772cfb\",\"subtype\":\"Figure\",\"type\":\"Plot\"},{\"attributes\":{\"bottom_units\":\"screen\",\"fill_alpha\":{\"value\":0.5},\"fill_color\":{\"value\":\"lightgrey\"},\"left_units\":\"screen\",\"level\":\"overlay\",\"line_alpha\":{\"value\":1.0},\"line_color\":{\"value\":\"black\"},\"line_dash\":[4,4],\"line_width\":{\"value\":2},\"plot\":null,\"render_mode\":\"css\",\"right_units\":\"screen\",\"top_units\":\"screen\"},\"id\":\"7677259e-fda9-47c6-9b5a-b946128d796b\",\"type\":\"BoxAnnotation\"},{\"attributes\":{},\"id\":\"2d057a64-5a2b-42ee-bd53-dfc439009dce\",\"type\":\"BasicTicker\"},{\"attributes\":{},\"id\":\"41ceed76-b345-4e90-88d4-232f1b9371fa\",\"type\":\"CategoricalTicker\"},{\"attributes\":{\"callback\":null},\"id\":\"e983697e-4b00-479d-a41c-a24fd7c3c2ac\",\"type\":\"DataRange1d\"},{\"attributes\":{\"axis_label\":\"flux (W m-2)\",\"formatter\":{\"id\":\"60419741-7115-478a-95d6-02bc1d5aae4f\",\"type\":\"BasicTickFormatter\"},\"plot\":{\"id\":\"f8f84941-3414-403b-bef1-4bed8d8ee19e\",\"subtype\":\"Figure\",\"type\":\"Plot\"},\"ticker\":{\"id\":\"96acb889-47d3-4c97-b1b8-3923831098b0\",\"type\":\"BasicTicker\"}},\"id\":\"b756e379-4d3a-458f-8540-5361adbcb694\",\"type\":\"LinearAxis\"},{\"attributes\":{\"overlay\":{\"id\":\"80f95b5f-921f-4721-9ed5-2531b81ce1c7\",\"type\":\"BoxAnnotation\"}},\"id\":\"9b405e78-1873-473d-bdbf-b25624690a5b\",\"type\":\"BoxZoomTool\"},{\"attributes\":{\"dimension\":1,\"plot\":{\"id\":\"401b3a05-7bb5-4408-9332-426383c9ae5d\",\"subtype\":\"Figure\",\"type\":\"Plot\"},\"ticker\":{\"id\":\"2d057a64-5a2b-42ee-bd53-dfc439009dce\",\"type\":\"BasicTicker\"}},\"id\":\"4bcc7bd8-c5a9-4f66-94c2-42a413965daf\",\"type\":\"Grid\"},{\"attributes\":{\"below\":[{\"id\":\"46895e7c-9e7e-4b0d-9870-94258a9ca2d5\",\"type\":\"CategoricalAxis\"}],\"left\":[{\"id\":\"97a5f4fe-7dfa-4dcb-a719-90c333e30e3a\",\"type\":\"LinearAxis\"}],\"plot_height\":300,\"plot_width\":300,\"renderers\":[{\"id\":\"46895e7c-9e7e-4b0d-9870-94258a9ca2d5\",\"type\":\"CategoricalAxis\"},{\"id\":\"510ac2e5-1a7c-4443-8e19-1c13d1a2e6fc\",\"type\":\"Grid\"},{\"id\":\"97a5f4fe-7dfa-4dcb-a719-90c333e30e3a\",\"type\":\"LinearAxis\"},{\"id\":\"4bcc7bd8-c5a9-4f66-94c2-42a413965daf\",\"type\":\"Grid\"},{\"id\":\"7677259e-fda9-47c6-9b5a-b946128d796b\",\"type\":\"BoxAnnotation\"},{\"id\":\"a92c9e64-563d-442a-96d9-ece03213b93a\",\"type\":\"GlyphRenderer\"}],\"title\":{\"id\":\"d61f2049-1e7d-42e6-9df6-27f8ee754c61\",\"type\":\"Title\"},\"toolbar\":{\"id\":\"29ca8a67-b4fe-40c9-a6f5-c38a9d458bb7\",\"type\":\"Toolbar\"},\"toolbar_location\":null,\"x_range\":{\"id\":\"f3f488ff-9863-4371-9fb8-ebed0db2b304\",\"type\":\"FactorRange\"},\"x_scale\":{\"id\":\"b5c736b0-336d-411f-abcb-fc86b6c76d62\",\"type\":\"CategoricalScale\"},\"y_range\":{\"id\":\"ea039f2a-21b5-43b1-a416-f06367885b91\",\"type\":\"DataRange1d\"},\"y_scale\":{\"id\":\"05e9cdb1-4221-4475-8e93-651983d759fb\",\"type\":\"LinearScale\"}},\"id\":\"401b3a05-7bb5-4408-9332-426383c9ae5d\",\"subtype\":\"Figure\",\"type\":\"Plot\"},{\"attributes\":{},\"id\":\"05e9cdb1-4221-4475-8e93-651983d759fb\",\"type\":\"LinearScale\"},{\"attributes\":{},\"id\":\"08014b95-fa93-4753-b218-b28b8ca245ab\",\"type\":\"CategoricalScale\"},{\"attributes\":{},\"id\":\"b5c736b0-336d-411f-abcb-fc86b6c76d62\",\"type\":\"CategoricalScale\"},{\"attributes\":{},\"id\":\"2f203f42-2e15-4b52-829e-fe38902965b9\",\"type\":\"PanTool\"},{\"attributes\":{\"children\":[{\"id\":\"a8036c84-a25f-4c43-ae25-19e75e3536fa\",\"type\":\"Row\"}]},\"id\":\"5b40d672-5d71-4213-afa1-e8614cc70233\",\"type\":\"Column\"},{\"attributes\":{},\"id\":\"e285eeca-63d5-4409-ac72-ad1be8810dc6\",\"type\":\"LinearScale\"},{\"attributes\":{},\"id\":\"346e3632-7c08-4974-997f-5d6cd5fa6706\",\"type\":\"CategoricalTickFormatter\"},{\"attributes\":{},\"id\":\"798ee2e8-1937-4567-8a71-139775a25f3a\",\"type\":\"SaveTool\"},{\"attributes\":{\"active_drag\":\"auto\",\"active_inspect\":\"auto\",\"active_scroll\":\"auto\",\"active_tap\":\"auto\",\"tools\":[{\"id\":\"2b4ba209-9409-4c79-a64a-4705bd66885d\",\"type\":\"PanTool\"},{\"id\":\"8eafdbea-5699-4199-a8d2-9bf9c7a017d2\",\"type\":\"WheelZoomTool\"},{\"id\":\"9b405e78-1873-473d-bdbf-b25624690a5b\",\"type\":\"BoxZoomTool\"},{\"id\":\"223a7c28-360f-42a7-b02a-f2527a605aba\",\"type\":\"SaveTool\"},{\"id\":\"ed802239-8f5f-40cc-8bf2-c093ad13e0a9\",\"type\":\"ResetTool\"},{\"id\":\"478b57ad-0ee7-45c7-a75f-02044782c398\",\"type\":\"HelpTool\"}]},\"id\":\"268a8340-b77b-48ac-8d08-0bc11723f27f\",\"type\":\"Toolbar\"},{\"attributes\":{\"fill_color\":{\"value\":\"#1f77b4\"},\"line_color\":{\"value\":\"#1f77b4\"},\"top\":{\"field\":\"flux\"},\"width\":{\"value\":0.9},\"x\":{\"field\":\"band\"}},\"id\":\"bba139a4-1658-4710-8e59-7b1b3e320273\",\"type\":\"VBar\"},{\"attributes\":{\"overlay\":{\"id\":\"7677259e-fda9-47c6-9b5a-b946128d796b\",\"type\":\"BoxAnnotation\"}},\"id\":\"c54ef632-36f8-40f4-a3fd-8368e1f02b59\",\"type\":\"BoxZoomTool\"},{\"attributes\":{\"plot\":null,\"text\":\"TOA flux. CLIRAD - CRD.\"},\"id\":\"d61f2049-1e7d-42e6-9df6-27f8ee754c61\",\"type\":\"Title\"},{\"attributes\":{\"data_source\":{\"id\":\"662a8bf8-cbf5-4575-8962-079c07a5c9c4\",\"type\":\"ColumnDataSource\"},\"glyph\":{\"id\":\"b7fef0c4-4c2f-4dc6-9597-bdba4e24a258\",\"type\":\"VBar\"},\"hover_glyph\":null,\"muted_glyph\":null,\"nonselection_glyph\":{\"id\":\"51e06025-4e78-46e7-8651-1e746b953473\",\"type\":\"VBar\"},\"selection_glyph\":null,\"view\":{\"id\":\"792cd3f5-a151-4a7b-b095-95d047075645\",\"type\":\"CDSView\"}},\"id\":\"a92c9e64-563d-442a-96d9-ece03213b93a\",\"type\":\"GlyphRenderer\"},{\"attributes\":{},\"id\":\"8c496c06-221d-4455-b92e-329332bc6783\",\"type\":\"UnionRenderers\"},{\"attributes\":{},\"id\":\"ed21e105-1ed3-4b13-b4c9-f0c64614fbad\",\"type\":\"HelpTool\"},{\"attributes\":{},\"id\":\"00895ffb-6441-4270-b75f-e3e4e0ce3a1c\",\"type\":\"WheelZoomTool\"},{\"attributes\":{\"axis_label\":\"spectral band\",\"formatter\":{\"id\":\"8d720942-92c8-4d46-bf3e-d15bda156acc\",\"type\":\"CategoricalTickFormatter\"},\"plot\":{\"id\":\"401b3a05-7bb5-4408-9332-426383c9ae5d\",\"subtype\":\"Figure\",\"type\":\"Plot\"},\"ticker\":{\"id\":\"9ea69586-cd1f-4548-b90c-e97c20511a43\",\"type\":\"CategoricalTicker\"}},\"id\":\"46895e7c-9e7e-4b0d-9870-94258a9ca2d5\",\"type\":\"CategoricalAxis\"},{\"attributes\":{},\"id\":\"dcf8663b-c94d-4d23-886a-5dfc755b66fc\",\"type\":\"UnionRenderers\"},{\"attributes\":{},\"id\":\"223a7c28-360f-42a7-b02a-f2527a605aba\",\"type\":\"SaveTool\"},{\"attributes\":{},\"id\":\"2b4ba209-9409-4c79-a64a-4705bd66885d\",\"type\":\"PanTool\"},{\"attributes\":{\"fill_alpha\":{\"value\":0.1},\"fill_color\":{\"value\":\"#1f77b4\"},\"line_alpha\":{\"value\":0.1},\"line_color\":{\"value\":\"#1f77b4\"},\"top\":{\"field\":\"flux\"},\"width\":{\"value\":0.9},\"x\":{\"field\":\"band\"}},\"id\":\"bcc8aee5-6820-43dd-9093-60f7587fc366\",\"type\":\"VBar\"},{\"attributes\":{},\"id\":\"011b3b56-7d0f-4b73-88f1-af304302cbdf\",\"type\":\"ResetTool\"},{\"attributes\":{\"axis_label\":\"flux (W m-2)\",\"formatter\":{\"id\":\"f47983ae-9b27-4697-816d-c3f74e7a8313\",\"type\":\"BasicTickFormatter\"},\"plot\":{\"id\":\"401b3a05-7bb5-4408-9332-426383c9ae5d\",\"subtype\":\"Figure\",\"type\":\"Plot\"},\"ticker\":{\"id\":\"2d057a64-5a2b-42ee-bd53-dfc439009dce\",\"type\":\"BasicTicker\"}},\"id\":\"97a5f4fe-7dfa-4dcb-a719-90c333e30e3a\",\"type\":\"LinearAxis\"}],\"root_ids\":[\"699b8519-c554-4893-a305-54de81d38587\"]},\"title\":\"Bokeh Application\",\"version\":\"0.12.16\"}};\n",
       "  var render_items = [{\"docid\":\"5891bbea-e220-49d3-b6fc-5928bed9a9c8\",\"elementid\":\"b55befd6-8132-4f27-83a7-2cae786571e4\",\"modelid\":\"699b8519-c554-4893-a305-54de81d38587\"}];\n",
       "  root.Bokeh.embed.embed_items_notebook(docs_json, render_items);\n",
       "\n",
       "  }\n",
       "  if (root.Bokeh !== undefined) {\n",
       "    embed_document(root);\n",
       "  } else {\n",
       "    var attempts = 0;\n",
       "    var timer = setInterval(function(root) {\n",
       "      if (root.Bokeh !== undefined) {\n",
       "        embed_document(root);\n",
       "        clearInterval(timer);\n",
       "      }\n",
       "      attempts++;\n",
       "      if (attempts > 100) {\n",
       "        console.log(\"Bokeh: ERROR: Unable to run BokehJS code because BokehJS library is missing\")\n",
       "        clearInterval(timer);\n",
       "      }\n",
       "    }, 10, root)\n",
       "  }\n",
       "})(window);"
      ],
      "application/vnd.bokehjs_exec.v0+json": ""
     },
     "metadata": {
      "application/vnd.bokehjs_exec.v0+json": {
       "id": "699b8519-c554-4893-a305-54de81d38587"
      }
     },
     "output_type": "display_data"
    },
    {
     "data": {
      "text/markdown": [
       "*FIGURE.* Difference between CLIRAD and CRD in TOA, SFC and net atmosphere flux, in each spectral band."
      ],
      "text/plain": [
       "<IPython.core.display.Markdown object>"
      ]
     },
     "metadata": {},
     "output_type": "display_data"
    },
    {
     "data": {
      "text/html": [
       "<div>\n",
       "<style scoped>\n",
       "    .dataframe tbody tr th:only-of-type {\n",
       "        vertical-align: middle;\n",
       "    }\n",
       "\n",
       "    .dataframe tbody tr th {\n",
       "        vertical-align: top;\n",
       "    }\n",
       "\n",
       "    .dataframe thead th {\n",
       "        text-align: right;\n",
       "    }\n",
       "</style>\n",
       "<table border=\"1\" class=\"dataframe\">\n",
       "  <thead>\n",
       "    <tr style=\"text-align: right;\">\n",
       "      <th></th>\n",
       "      <th>OLR flux</th>\n",
       "      <th>SFC flux</th>\n",
       "      <th>ATM heating</th>\n",
       "    </tr>\n",
       "    <tr>\n",
       "      <th>Sum over bands</th>\n",
       "      <th></th>\n",
       "      <th></th>\n",
       "      <th></th>\n",
       "    </tr>\n",
       "  </thead>\n",
       "  <tbody>\n",
       "    <tr>\n",
       "      <th>CLIRAD - CRD</th>\n",
       "      <td>0.09</td>\n",
       "      <td>0.65</td>\n",
       "      <td>-0.56</td>\n",
       "    </tr>\n",
       "    <tr>\n",
       "      <th>CRD</th>\n",
       "      <td>-335.19</td>\n",
       "      <td>272.69</td>\n",
       "      <td>-184.24</td>\n",
       "    </tr>\n",
       "  </tbody>\n",
       "</table>\n",
       "</div>"
      ],
      "text/plain": [
       "                OLR flux  SFC flux  ATM heating\n",
       "Sum over bands                                 \n",
       "CLIRAD - CRD        0.09      0.65        -0.56\n",
       "CRD              -335.19    272.69      -184.24"
      ]
     },
     "metadata": {},
     "output_type": "display_data"
    },
    {
     "data": {
      "text/markdown": [
       "*TABLE.* Difference between CLIRAD and CRD in TOA, SFC and net atmosphere flux, over all spectral bands. CRD's TOA, SFC and net atmosphere flux, over all spectral bands."
      ],
      "text/plain": [
       "<IPython.core.display.Markdown object>"
      ]
     },
     "metadata": {},
     "output_type": "display_data"
    },
    {
     "data": {
      "text/html": [
       "<a id=\"Cooling_rates._saw.\"></a>"
      ],
      "text/plain": [
       "<IPython.core.display.HTML object>"
      ]
     },
     "metadata": {},
     "output_type": "display_data"
    },
    {
     "data": {
      "text/markdown": [
       "# Cooling rates. saw."
      ],
      "text/plain": [
       "<IPython.core.display.Markdown object>"
      ]
     },
     "metadata": {},
     "output_type": "display_data"
    },
    {
     "data": {
      "text/html": [
       "\n",
       "<div class=\"bk-root\">\n",
       "    <div class=\"bk-plotdiv\" id=\"4f612e89-9f64-4542-9a18-4a21c282476e\"></div>\n",
       "</div>"
      ]
     },
     "metadata": {},
     "output_type": "display_data"
    },
    {
     "data": {
      "application/javascript": [
       "(function(root) {\n",
       "  function embed_document(root) {\n",
       "    \n",
       "  var docs_json = {\"74124cc3-99e4-4f36-8069-30c1930da962\":{\"roots\":{\"references\":[{\"attributes\":{\"dimension\":1,\"plot\":{\"id\":\"9c9e7910-f378-419a-bcbf-ec2302cb5f80\",\"subtype\":\"Figure\",\"type\":\"Plot\"},\"ticker\":{\"id\":\"ad2202c7-1882-496b-b124-0c0c273aa208\",\"type\":\"LogTicker\"}},\"id\":\"f9c7a2e2-ba7f-4b00-ae72-4f37ae617fe2\",\"type\":\"Grid\"},{\"attributes\":{\"active_drag\":\"auto\",\"active_inspect\":\"auto\",\"active_scroll\":\"auto\",\"active_tap\":\"auto\",\"tools\":[{\"id\":\"fdd56237-9951-4837-9407-c572e4770f31\",\"type\":\"PanTool\"},{\"id\":\"a57df1e6-980b-46e4-9a69-160a50de7ea0\",\"type\":\"WheelZoomTool\"},{\"id\":\"ed2d1f80-16a5-4dd8-962b-b30e812d04ad\",\"type\":\"BoxZoomTool\"},{\"id\":\"2615280a-5346-432a-8254-c527e50e1ccc\",\"type\":\"SaveTool\"},{\"id\":\"efb02c6c-bbe7-4b25-bdee-d5ba28effeb1\",\"type\":\"ResetTool\"},{\"id\":\"bb6e5305-033a-4543-9f6c-55881ccfe62d\",\"type\":\"HelpTool\"}]},\"id\":\"77ca0d03-ebf2-44e2-9868-8409714c9ae2\",\"type\":\"Toolbar\"},{\"attributes\":{\"num_minor_ticks\":10},\"id\":\"ad2202c7-1882-496b-b124-0c0c273aa208\",\"type\":\"LogTicker\"},{\"attributes\":{\"callback\":null,\"end\":0.01,\"start\":1020},\"id\":\"c00e9436-b775-4962-a277-0c0d33908626\",\"type\":\"Range1d\"},{\"attributes\":{},\"id\":\"a57df1e6-980b-46e4-9a69-160a50de7ea0\",\"type\":\"WheelZoomTool\"},{\"attributes\":{},\"id\":\"2dffc96c-fd70-4c21-9484-3c05191adf45\",\"type\":\"BasicTicker\"},{\"attributes\":{\"axis_label\":\"pressure [mb]\",\"formatter\":{\"id\":\"c562bc75-03e4-4dae-a98f-12eb4483e70b\",\"type\":\"LogTickFormatter\"},\"plot\":{\"id\":\"9c9e7910-f378-419a-bcbf-ec2302cb5f80\",\"subtype\":\"Figure\",\"type\":\"Plot\"},\"ticker\":{\"id\":\"ad2202c7-1882-496b-b124-0c0c273aa208\",\"type\":\"LogTicker\"}},\"id\":\"31d9d074-104b-45c3-8e0e-c8e0c2e1fc58\",\"type\":\"LogAxis\"},{\"attributes\":{\"plot\":{\"id\":\"9c9e7910-f378-419a-bcbf-ec2302cb5f80\",\"subtype\":\"Figure\",\"type\":\"Plot\"},\"ticker\":{\"id\":\"2dffc96c-fd70-4c21-9484-3c05191adf45\",\"type\":\"BasicTicker\"}},\"id\":\"0280168e-559a-41d5-848e-da27d178481c\",\"type\":\"Grid\"},{\"attributes\":{\"line_alpha\":0.6,\"line_color\":\"#e41a1c\",\"line_dash\":[6],\"line_width\":5,\"x\":{\"field\":\"x\"},\"y\":{\"field\":\"y\"}},\"id\":\"5efb1413-687e-4e2a-bb9c-0a95b3724834\",\"type\":\"Line\"},{\"attributes\":{\"line_alpha\":0.1,\"line_color\":\"#1f77b4\",\"line_dash\":[6],\"line_width\":5,\"x\":{\"field\":\"x\"},\"y\":{\"field\":\"y\"}},\"id\":\"840c15f4-799b-4f27-8d3d-235e8a5daea8\",\"type\":\"Line\"},{\"attributes\":{},\"id\":\"b5b306d0-9015-4dbe-9459-d35f7751e7e3\",\"type\":\"UnionRenderers\"},{\"attributes\":{\"source\":{\"id\":\"f1a20539-9fdc-49d5-8302-b92e00fae3b8\",\"type\":\"ColumnDataSource\"}},\"id\":\"23b9636a-b19a-4a8d-b8bd-6173e944ffb0\",\"type\":\"CDSView\"},{\"attributes\":{\"line_alpha\":0.8,\"line_color\":\"#984ea3\",\"line_width\":1.5,\"x\":{\"field\":\"x\"},\"y\":{\"field\":\"y\"}},\"id\":\"7c38c2a0-24cc-48e7-8082-cd03985ee814\",\"type\":\"Line\"},{\"attributes\":{},\"id\":\"3cb97be2-6280-4c12-bfce-372bf51c1bd7\",\"type\":\"LogScale\"},{\"attributes\":{\"source\":{\"id\":\"1899fbaf-11ef-4e8f-9069-4800cdd10188\",\"type\":\"ColumnDataSource\"}},\"id\":\"4c6932ca-29cd-4639-af7c-5878433ee18d\",\"type\":\"CDSView\"},{\"attributes\":{},\"id\":\"8efc92ca-8109-48e4-9e10-e4a30f916a37\",\"type\":\"LinearScale\"},{\"attributes\":{},\"id\":\"fdd56237-9951-4837-9407-c572e4770f31\",\"type\":\"PanTool\"},{\"attributes\":{\"data_source\":{\"id\":\"f1a20539-9fdc-49d5-8302-b92e00fae3b8\",\"type\":\"ColumnDataSource\"},\"glyph\":{\"id\":\"5efb1413-687e-4e2a-bb9c-0a95b3724834\",\"type\":\"Line\"},\"hover_glyph\":null,\"muted_glyph\":null,\"nonselection_glyph\":{\"id\":\"840c15f4-799b-4f27-8d3d-235e8a5daea8\",\"type\":\"Line\"},\"selection_glyph\":null,\"view\":{\"id\":\"23b9636a-b19a-4a8d-b8bd-6173e944ffb0\",\"type\":\"CDSView\"}},\"id\":\"b33508e3-9b7c-48d6-b71d-05717786a197\",\"type\":\"GlyphRenderer\"},{\"attributes\":{\"callback\":null,\"end\":0.05072143097377798,\"start\":-0.3437485487997783},\"id\":\"e846893c-d7b4-4d98-aa67-540ebbf75999\",\"type\":\"Range1d\"},{\"attributes\":{\"axis_label\":\"cooling rate [K/day]\",\"formatter\":{\"id\":\"a7375953-ec68-497c-ae90-ac88bd9d774f\",\"type\":\"BasicTickFormatter\"},\"plot\":{\"id\":\"9c9e7910-f378-419a-bcbf-ec2302cb5f80\",\"subtype\":\"Figure\",\"type\":\"Plot\"},\"ticker\":{\"id\":\"2dffc96c-fd70-4c21-9484-3c05191adf45\",\"type\":\"BasicTicker\"}},\"id\":\"c5c84309-8e8a-45b0-b0bb-175673fce9c7\",\"type\":\"LinearAxis\"},{\"attributes\":{},\"id\":\"7d2a0451-2963-4091-b8e1-d54bcfe1d76f\",\"type\":\"WheelZoomTool\"},{\"attributes\":{},\"id\":\"f602cd24-4844-4086-ad69-686af43f29e6\",\"type\":\"WheelZoomTool\"},{\"attributes\":{\"axis_label\":\"pressure [mb]\",\"formatter\":{\"id\":\"58a7ef55-dc97-446d-b51d-a954e9ac6a0a\",\"type\":\"BasicTickFormatter\"},\"plot\":{\"id\":\"37b92f6b-0bb4-4e00-a0c0-0f22f6a76b9c\",\"subtype\":\"Figure\",\"type\":\"Plot\"},\"ticker\":{\"id\":\"f1015369-0e1f-4dc0-aec5-5a34783bbeeb\",\"type\":\"BasicTicker\"}},\"id\":\"190a342b-a9e2-4003-b10b-f6b72bbff6ac\",\"type\":\"LinearAxis\"},{\"attributes\":{},\"id\":\"56dd5266-ec5c-45b3-9657-e6e36204e6f1\",\"type\":\"SaveTool\"},{\"attributes\":{},\"id\":\"90e2d683-58d6-4b25-9c6e-0496f5d62206\",\"type\":\"PanTool\"},{\"attributes\":{},\"id\":\"2615280a-5346-432a-8254-c527e50e1ccc\",\"type\":\"SaveTool\"},{\"attributes\":{},\"id\":\"9b560be9-3e1c-4fe6-8845-1c2b63cda49a\",\"type\":\"Selection\"},{\"attributes\":{\"source\":{\"id\":\"2a6557ca-e6ee-4ef9-85b9-2e7d87a8c57e\",\"type\":\"ColumnDataSource\"}},\"id\":\"c51aaf0a-89b8-464d-9136-e0f9fe7e3b7b\",\"type\":\"CDSView\"},{\"attributes\":{},\"id\":\"b6d2e303-d0ab-451c-b6cb-b6109f207bb7\",\"type\":\"BasicTickFormatter\"},{\"attributes\":{},\"id\":\"ed87930e-88cb-4a40-be0a-bd836df970c5\",\"type\":\"HelpTool\"},{\"attributes\":{\"overlay\":{\"id\":\"c54a7a70-19ed-4e7f-896e-d1c0677932c4\",\"type\":\"BoxAnnotation\"}},\"id\":\"ed2d1f80-16a5-4dd8-962b-b30e812d04ad\",\"type\":\"BoxZoomTool\"},{\"attributes\":{},\"id\":\"a7375953-ec68-497c-ae90-ac88bd9d774f\",\"type\":\"BasicTickFormatter\"},{\"attributes\":{},\"id\":\"61945c77-e39e-4639-a7e4-2ea5cdc424c6\",\"type\":\"UnionRenderers\"},{\"attributes\":{\"plot\":{\"id\":\"37b92f6b-0bb4-4e00-a0c0-0f22f6a76b9c\",\"subtype\":\"Figure\",\"type\":\"Plot\"},\"ticker\":{\"id\":\"761e7558-e4c1-4b9e-a0f6-47aeae7d5a2d\",\"type\":\"BasicTicker\"}},\"id\":\"7c8d4fad-b071-44fb-a410-d3ba385c439a\",\"type\":\"Grid\"},{\"attributes\":{},\"id\":\"6e37def9-6f9c-4550-872d-7482da290710\",\"type\":\"Selection\"},{\"attributes\":{\"num_minor_ticks\":10},\"id\":\"8e6a10a2-fde2-4bd3-aea9-5a1ee709b970\",\"type\":\"LogTicker\"},{\"attributes\":{\"source\":{\"id\":\"17fd0ae2-a343-4a6e-844c-8492a9bb70b7\",\"type\":\"ColumnDataSource\"}},\"id\":\"8927da2b-892e-4954-b013-60e15d80eec9\",\"type\":\"CDSView\"},{\"attributes\":{},\"id\":\"1d8515e7-6247-42d7-9095-89a73f4ef33d\",\"type\":\"LinearScale\"},{\"attributes\":{},\"id\":\"6feb1f38-0c2d-486e-ac16-5929d3d2c454\",\"type\":\"Selection\"},{\"attributes\":{\"data_source\":{\"id\":\"2a6557ca-e6ee-4ef9-85b9-2e7d87a8c57e\",\"type\":\"ColumnDataSource\"},\"glyph\":{\"id\":\"5023c6c0-9174-44ae-91fa-da282e785131\",\"type\":\"Line\"},\"hover_glyph\":null,\"muted_glyph\":null,\"nonselection_glyph\":{\"id\":\"a49ca2a3-45ce-4e62-a0cd-a4deafb8cfad\",\"type\":\"Line\"},\"selection_glyph\":null,\"view\":{\"id\":\"c51aaf0a-89b8-464d-9136-e0f9fe7e3b7b\",\"type\":\"CDSView\"}},\"id\":\"c093ade5-3c68-4f81-9ca7-f45dc242d610\",\"type\":\"GlyphRenderer\"},{\"attributes\":{\"data_source\":{\"id\":\"887a7e48-b335-41a9-b005-a993e89f0ff6\",\"type\":\"ColumnDataSource\"},\"glyph\":{\"id\":\"6159a586-ca91-47da-b0e7-43bd9eed2d93\",\"type\":\"Circle\"},\"hover_glyph\":null,\"muted_glyph\":null,\"nonselection_glyph\":{\"id\":\"25c9b3e3-8a35-49c5-a721-7e7638c475ea\",\"type\":\"Circle\"},\"selection_glyph\":null,\"view\":{\"id\":\"b9d40d6c-31e5-44a3-a2e0-a1105b49a2ae\",\"type\":\"CDSView\"}},\"id\":\"49fee7d2-5fd1-458b-98a4-3a68d0fc73d0\",\"type\":\"GlyphRenderer\"},{\"attributes\":{},\"id\":\"423d5bc1-b948-4377-9834-c14bbdd7851e\",\"type\":\"UnionRenderers\"},{\"attributes\":{\"above\":[{\"id\":\"37202275-e2b3-4d30-befa-5fd07314a5bb\",\"type\":\"Legend\"}],\"below\":[{\"id\":\"b9dc80d5-c43b-42e4-ac3c-a1a8ee05ad4a\",\"type\":\"LinearAxis\"}],\"left\":[{\"id\":\"190a342b-a9e2-4003-b10b-f6b72bbff6ac\",\"type\":\"LinearAxis\"}],\"plot_width\":300,\"renderers\":[{\"id\":\"b9dc80d5-c43b-42e4-ac3c-a1a8ee05ad4a\",\"type\":\"LinearAxis\"},{\"id\":\"7c8d4fad-b071-44fb-a410-d3ba385c439a\",\"type\":\"Grid\"},{\"id\":\"190a342b-a9e2-4003-b10b-f6b72bbff6ac\",\"type\":\"LinearAxis\"},{\"id\":\"b09b90a8-d08d-4b4c-a9f3-884c1b818652\",\"type\":\"Grid\"},{\"id\":\"b4bb05b4-d619-4be1-ac13-19448ceee544\",\"type\":\"BoxAnnotation\"},{\"id\":\"c093ade5-3c68-4f81-9ca7-f45dc242d610\",\"type\":\"GlyphRenderer\"},{\"id\":\"d42832b0-df6e-4565-9f84-f8597c25d857\",\"type\":\"GlyphRenderer\"},{\"id\":\"f86e8061-1854-44c3-a9f2-5b8c64d6a852\",\"type\":\"GlyphRenderer\"},{\"id\":\"37202275-e2b3-4d30-befa-5fd07314a5bb\",\"type\":\"Legend\"}],\"title\":{\"id\":\"bdbc7eb0-531d-46fb-9128-039b16b8b012\",\"type\":\"Title\"},\"toolbar\":{\"id\":\"05ed7948-5b13-40cf-b439-e0e333e83703\",\"type\":\"Toolbar\"},\"toolbar_location\":null,\"x_range\":{\"id\":\"791878a7-7da4-4e35-a9fc-5ef2082b9bab\",\"type\":\"Range1d\"},\"x_scale\":{\"id\":\"21376a26-cc34-4ce0-a01b-530dab3c4ec7\",\"type\":\"LinearScale\"},\"y_range\":{\"id\":\"d6951701-3113-45ca-9acd-e6ed709731f6\",\"type\":\"Range1d\"},\"y_scale\":{\"id\":\"dd68f2d2-6383-402a-84f0-b5efd4d2e378\",\"type\":\"LinearScale\"}},\"id\":\"37b92f6b-0bb4-4e00-a0c0-0f22f6a76b9c\",\"subtype\":\"Figure\",\"type\":\"Plot\"},{\"attributes\":{},\"id\":\"51a2d7f3-b972-4cbb-8e0b-a43c52780f61\",\"type\":\"LogScale\"},{\"attributes\":{},\"id\":\"dd68f2d2-6383-402a-84f0-b5efd4d2e378\",\"type\":\"LinearScale\"},{\"attributes\":{\"children\":[{\"id\":\"6ba36943-9b34-41e3-8c71-3a59c9f9bd53\",\"type\":\"Row\"}]},\"id\":\"4bd2cf5b-25be-4853-81bc-5c72bb9e99bc\",\"type\":\"Column\"},{\"attributes\":{},\"id\":\"1da18107-f37e-4733-b0ca-94bc072f51e9\",\"type\":\"BasicTicker\"},{\"attributes\":{\"line_color\":\"#4daf4a\",\"line_width\":1.5,\"x\":{\"field\":\"x\"},\"y\":{\"field\":\"y\"}},\"id\":\"a2e071ae-df6e-4436-b362-4eee99259405\",\"type\":\"Line\"},{\"attributes\":{},\"id\":\"1c265e2b-3bb8-4d57-badc-b99817a1637a\",\"type\":\"ResetTool\"},{\"attributes\":{},\"id\":\"efb02c6c-bbe7-4b25-bdee-d5ba28effeb1\",\"type\":\"ResetTool\"},{\"attributes\":{\"line_alpha\":0.1,\"line_color\":\"#1f77b4\",\"line_width\":1.5,\"x\":{\"field\":\"x\"},\"y\":{\"field\":\"y\"}},\"id\":\"758a931f-d48d-484f-8ebd-3a93a05d7103\",\"type\":\"Line\"},{\"attributes\":{\"label\":{\"value\":\"CLIRAD - CRD\"},\"renderers\":[{\"id\":\"97ddfe7c-2acc-4429-a9d7-d3a481b9be57\",\"type\":\"GlyphRenderer\"},{\"id\":\"4e8b7951-acaf-481b-86a6-c7f552500589\",\"type\":\"GlyphRenderer\"}]},\"id\":\"f526453d-e2ec-4936-9dfc-26e4c56921be\",\"type\":\"LegendItem\"},{\"attributes\":{\"ticker\":null},\"id\":\"c33710f2-b88a-4a54-ab4c-f38aae1e2129\",\"type\":\"LogTickFormatter\"},{\"attributes\":{\"children\":[{\"id\":\"37b92f6b-0bb4-4e00-a0c0-0f22f6a76b9c\",\"subtype\":\"Figure\",\"type\":\"Plot\"},{\"id\":\"d41fafbd-a347-4a6f-83d3-3deadb840773\",\"subtype\":\"Figure\",\"type\":\"Plot\"},{\"id\":\"9c9e7910-f378-419a-bcbf-ec2302cb5f80\",\"subtype\":\"Figure\",\"type\":\"Plot\"}]},\"id\":\"6ba36943-9b34-41e3-8c71-3a59c9f9bd53\",\"type\":\"Row\"},{\"attributes\":{\"items\":[{\"id\":\"f526453d-e2ec-4936-9dfc-26e4c56921be\",\"type\":\"LegendItem\"}],\"label_text_font_size\":{\"value\":\"8pt\"},\"location\":\"top_center\",\"orientation\":\"horizontal\",\"plot\":{\"id\":\"9c9e7910-f378-419a-bcbf-ec2302cb5f80\",\"subtype\":\"Figure\",\"type\":\"Plot\"}},\"id\":\"fa42d520-9471-48ba-a775-b7ffbf6ea9e1\",\"type\":\"Legend\"},{\"attributes\":{},\"id\":\"761e7558-e4c1-4b9e-a0f6-47aeae7d5a2d\",\"type\":\"BasicTicker\"},{\"attributes\":{\"ticker\":null},\"id\":\"c562bc75-03e4-4dae-a98f-12eb4483e70b\",\"type\":\"LogTickFormatter\"},{\"attributes\":{\"data_source\":{\"id\":\"147052d4-a410-454a-85f1-8c7da7c114ea\",\"type\":\"ColumnDataSource\"},\"glyph\":{\"id\":\"131be717-d582-4695-b475-84efe318c493\",\"type\":\"Circle\"},\"hover_glyph\":null,\"muted_glyph\":null,\"nonselection_glyph\":{\"id\":\"601b7b54-7ed1-4390-b4a7-567630c65e39\",\"type\":\"Circle\"},\"selection_glyph\":null,\"view\":{\"id\":\"5f356df8-0959-4732-812b-09e9dfc49d8c\",\"type\":\"CDSView\"}},\"id\":\"d42832b0-df6e-4565-9f84-f8597c25d857\",\"type\":\"GlyphRenderer\"},{\"attributes\":{\"fill_alpha\":{\"value\":0.7},\"fill_color\":{\"value\":\"#984ea3\"},\"line_alpha\":{\"value\":0.7},\"line_color\":{\"value\":\"#984ea3\"},\"x\":{\"field\":\"x\"},\"y\":{\"field\":\"y\"}},\"id\":\"d4dbf477-071c-4811-805d-bf543cc94971\",\"type\":\"Circle\"},{\"attributes\":{\"overlay\":{\"id\":\"b4bb05b4-d619-4be1-ac13-19448ceee544\",\"type\":\"BoxAnnotation\"}},\"id\":\"08ed4e5d-1a86-4918-9cfa-9a17b899db4b\",\"type\":\"BoxZoomTool\"},{\"attributes\":{\"callback\":null,\"end\":2.354949146557063,\"start\":0.26542727479743705},\"id\":\"99e1660e-43aa-4aaf-9483-90fe60011d1e\",\"type\":\"Range1d\"},{\"attributes\":{\"line_alpha\":0.6,\"line_color\":\"#e41a1c\",\"line_dash\":[6],\"line_width\":5,\"x\":{\"field\":\"x\"},\"y\":{\"field\":\"y\"}},\"id\":\"5023c6c0-9174-44ae-91fa-da282e785131\",\"type\":\"Line\"},{\"attributes\":{\"line_alpha\":0.1,\"line_color\":\"#1f77b4\",\"line_width\":1.5,\"x\":{\"field\":\"x\"},\"y\":{\"field\":\"y\"}},\"id\":\"40db2b3e-f04c-4557-9167-7c2120f96e12\",\"type\":\"Line\"},{\"attributes\":{\"plot\":{\"id\":\"d41fafbd-a347-4a6f-83d3-3deadb840773\",\"subtype\":\"Figure\",\"type\":\"Plot\"},\"ticker\":{\"id\":\"1da18107-f37e-4733-b0ca-94bc072f51e9\",\"type\":\"BasicTicker\"}},\"id\":\"cfbeb3ea-c0ad-4d4c-bf7e-4270259ad33f\",\"type\":\"Grid\"},{\"attributes\":{\"callback\":null,\"data\":{\"x\":{\"__ndarray__\":\"XUK14PHpCkCGWZx/lWUJQBO5WYZcBwpAw1+c1McuCkDD5aU5GrgJQIG1K5txjghAez/7STi0BkDGeO9HRGIEQNobbYgX+wFAi9tVR8/p/z9T3K1dDDn9P+VwRwYurvs/sjIHxcGa+j/VQY3s1/H4P31VMZF0UPY/Yyxv7wKj8z+QJo2+CKvxP6Hq2DfChvA/5Eb5ioXq7z/diqj1U4XvP7mDea64KvA/T/UCTp8W7j9gCFFAp7foP/JTQKCiKOU/sjgsjnLx4j+j6/lI5ZzgP1UzL61Q5tw/71VqeIHJ2D9DbOcdB8DWP+FniMIBPNY/hhtiszxW1T+x31zJ35fTP9ogvYfLRdM/lqFTjn/K0z/kIByKHbjTP/e58w+cg9M/qptCXVfw0j/ZKH4hZUzSP6U5ukiEwdc//mdZI2KS3D85YUXc3RzgP+DOHJ71MuA/mXA2UYV23z9jxwn+TW7eP11iAlzJUdw/Sc1bBFIH3D/0LACTr1TgP2irrJsIO+M/uO4UHkIq6j/YOrLtjR7xPxOgjEzyMPQ/jM3EEM839j/pzyeVNwn3P8hqa1+MAvc/mKC1VzjV9j9lQV/pVpL2PwtoZ4KAMfY/aAjKm+qu9T/Rh9yEahP1P25fJtvXhfQ/VljBz/7n8z+2Zug2IUDzP8/3NB8HlfI/xm1E0Anz8T9OrPW8mWjxPzaaBPleAvE/l5GhO63Y8D9NoWMmWe/wP7LYTQFV+fA/HNZkZteb8D+GqMVXcFzuPzKkng9c/+k/lZgJtKvo5T/u+TK5HhLiPz9ZA21RI9s/\",\"dtype\":\"float64\",\"shape\":[75]},\"y\":{\"__ndarray__\":\"GhExyth1ND/Sv8nbtpRIP2vylNV0PVE/aTum7souWD/At0SJ8fVgPw3Iuahxymc/MSNhhJWvcD/bTfBN02d3P2zb5nxnaoA/CD5h5MAGhz8NmeH1TyaQP+zrCsc9p5Y/LbKd76fGnz/bLW5ISEmmPww9YvTcQq8/JV2OstnstT8Er5Y7M8G+P0c+r3jqkcU/5h99k6ZBzj88bCIzFzjVP4enV8oyxN0//yH99nXg5D8qOpLLf0jtP5kqGJXUifQ/c9cS8kHP/D+/DpwzojQEQIEmwoanVwxA4lgXt9HgE0BSSZ2AJuIbQAMJih9jjiNA5q4l5INuK0AwTKYKRj0zQNv5fmq8/DpAaCJseHrtQkB/+zpwzoxKQM3MzMzMeFJAZmZmZmZqWEAAAAAAAFxeQM3MzMzMJmJAmpmZmZkfZUBmZmZmZhhoQDMzMzMzEWtAAAAAAAAKbkBmZmZmZoFwQM3MzMzM/XFAMzMzMzN6c0CamZmZmfZ0QAAAAAAAc3ZAZmZmZmbvd0DNzMzMzGt5QDMzMzMz6HpAmpmZmZlkfEAAAAAAAOF9QGZmZmZmXX9AZmZmZuZsgECamZmZGSuBQM3MzMxM6YFAAAAAAICngkAzMzMzs2WDQGZmZmbmI4RAmpmZmRnihEDNzMzMTKCFQAAAAACAXoZAMzMzM7Mch0BmZmZm5tqHQJqZmZkZmYhAzczMzExXiUAAAAAAgBWKQDMzMzOz04pAZmZmZuaRi0CamZmZGVCMQM3MzMxMDo1AAAAAAIDMjUAzMzMzs4qOQGZmZmbmSI9A\",\"dtype\":\"float64\",\"shape\":[75]}},\"selected\":{\"id\":\"72a95c82-1ab4-4ea8-b890-db880696ae41\",\"type\":\"Selection\"},\"selection_policy\":{\"id\":\"b5b306d0-9015-4dbe-9459-d35f7751e7e3\",\"type\":\"UnionRenderers\"}},\"id\":\"f1a20539-9fdc-49d5-8302-b92e00fae3b8\",\"type\":\"ColumnDataSource\"},{\"attributes\":{\"line_alpha\":0.1,\"line_color\":\"#1f77b4\",\"line_width\":1.5,\"x\":{\"field\":\"x\"},\"y\":{\"field\":\"y\"}},\"id\":\"3e9206a5-f5d5-4bcb-8286-7dc895cd8eb8\",\"type\":\"Line\"},{\"attributes\":{\"label\":{\"value\":\"CLIRAD\"},\"renderers\":[{\"id\":\"c093ade5-3c68-4f81-9ca7-f45dc242d610\",\"type\":\"GlyphRenderer\"}]},\"id\":\"78d2ba11-2d4f-4095-b166-365ae44656a6\",\"type\":\"LegendItem\"},{\"attributes\":{},\"id\":\"58a7ef55-dc97-446d-b51d-a954e9ac6a0a\",\"type\":\"BasicTickFormatter\"},{\"attributes\":{\"callback\":null,\"data\":{\"x\":{\"__ndarray__\":\"JQlDbpi/F0ARoa3iSB0SQLb58FMdLxFAUslMJRUaEEBwVhuwcNkNQPb9+sjdbwtAcWwjKrcQCUA7f6UNqcoGQBbbIz1vpgRAlaWXRfusAkBo+/BO6OYAQBx8t8j5uv4/poHljZk6/D8Xj3NQbML5PypCBrw67vY/jSHrDhRj9D86EZvFeXjyP7fuTWWNFPE/vDY0c2428D81SRXcwvHvP3FLEG0to/A/oJgSSG0W7z/+0TwPGNjoP2q5QddsNOQ/eEV2bp5x4T8ferfBy/TeP+Ngi+85jNs/dD/YtN0e2T+KSC7oag7YP2LGl7pGM9c/mnbiOm341T+d976a62TUP1R37FyiqdM/KY0hB0v70z+f3JmV0yTUPwck5kakLNQ/d0+XckAU1D9WEGk1/KXTP6iTIx+kKtk/kVH5Dqls3T/Y1y7wL1zgP7+0U5Emf+A/euquv+Et4D+I/0tDiD/fP3lBk90kydw/JAsi2xpL3D+E4phFN2rgP2uA7dHjeuM/UxCtApn16j8cC54ae93xP5oIYv6w6fQ/ywEQu0ix9j+ZckJpVIX3P2YYtBKbufc/OxwRjK+J9z/sPuABMRz3P0lc8Nhnj/Y/bsKT1zfx9T+RVrKj9Uv1Pyatd72NpPQ/mk/SipP98z9/SkmaNVjzPwPEbunitPI/SQDVPGIY8j84/9FtgIvxP3ggLTRpGfE/gd0uyBbV8D/neRe/jsvwP/MxfYHpzPA/uGaRNuVU8D8chRLQvr7tP4JZe4FUeOk/Q7LOmExU5T8R2lhs/7HhPzKNqk8HTNo/\",\"dtype\":\"float64\",\"shape\":[75]},\"y\":{\"__ndarray__\":\"GhExyth1ND/Sv8nbtpRIP2vylNV0PVE/aTum7souWD/At0SJ8fVgPw3Iuahxymc/MSNhhJWvcD/bTfBN02d3P2zb5nxnaoA/CD5h5MAGhz8NmeH1TyaQP+zrCsc9p5Y/LbKd76fGnz/bLW5ISEmmPww9YvTcQq8/JV2OstnstT8Er5Y7M8G+P0c+r3jqkcU/5h99k6ZBzj88bCIzFzjVP4enV8oyxN0//yH99nXg5D8qOpLLf0jtP5kqGJXUifQ/c9cS8kHP/D+/DpwzojQEQIEmwoanVwxA4lgXt9HgE0BSSZ2AJuIbQAMJih9jjiNA5q4l5INuK0AwTKYKRj0zQNv5fmq8/DpAaCJseHrtQkB/+zpwzoxKQM3MzMzMeFJAZmZmZmZqWEAAAAAAAFxeQM3MzMzMJmJAmpmZmZkfZUBmZmZmZhhoQDMzMzMzEWtAAAAAAAAKbkBmZmZmZoFwQM3MzMzM/XFAMzMzMzN6c0CamZmZmfZ0QAAAAAAAc3ZAZmZmZmbvd0DNzMzMzGt5QDMzMzMz6HpAmpmZmZlkfEAAAAAAAOF9QGZmZmZmXX9AZmZmZuZsgECamZmZGSuBQM3MzMxM6YFAAAAAAICngkAzMzMzs2WDQGZmZmbmI4RAmpmZmRnihEDNzMzMTKCFQAAAAACAXoZAMzMzM7Mch0BmZmZm5tqHQJqZmZkZmYhAzczMzExXiUAAAAAAgBWKQDMzMzOz04pAZmZmZuaRi0CamZmZGVCMQM3MzMxMDo1AAAAAAIDMjUAzMzMzs4qOQGZmZmbmSI9A\",\"dtype\":\"float64\",\"shape\":[75]}},\"selected\":{\"id\":\"6874df72-d64b-4361-8354-9cdeb7b1cfe8\",\"type\":\"Selection\"},\"selection_policy\":{\"id\":\"460e61d8-30e7-428d-b5a3-592711d6c7f3\",\"type\":\"UnionRenderers\"}},\"id\":\"887a7e48-b335-41a9-b005-a993e89f0ff6\",\"type\":\"ColumnDataSource\"},{\"attributes\":{\"toolbar\":{\"id\":\"701ebe37-8f53-4f69-b1f7-34e0a989ab86\",\"type\":\"ProxyToolbar\"},\"toolbar_location\":\"above\"},\"id\":\"2f76e35b-1fc8-492c-8c00-ff70196b3eea\",\"type\":\"ToolbarBox\"},{\"attributes\":{},\"id\":\"72a95c82-1ab4-4ea8-b890-db880696ae41\",\"type\":\"Selection\"},{\"attributes\":{\"source\":{\"id\":\"c507ec17-bbfe-4fad-b217-913d8e7f5d24\",\"type\":\"ColumnDataSource\"}},\"id\":\"4392994b-ea36-483d-a89d-3f03b700719c\",\"type\":\"CDSView\"},{\"attributes\":{\"above\":[{\"id\":\"807ad2bb-b570-4086-9cab-0d91e12160d9\",\"type\":\"Legend\"}],\"below\":[{\"id\":\"7fd7b8c1-8da9-4ed6-ad4f-e4fe26671674\",\"type\":\"LinearAxis\"}],\"left\":[{\"id\":\"db223498-7359-4cdf-8241-256abf9eab4a\",\"type\":\"LogAxis\"}],\"plot_width\":300,\"renderers\":[{\"id\":\"7fd7b8c1-8da9-4ed6-ad4f-e4fe26671674\",\"type\":\"LinearAxis\"},{\"id\":\"cfbeb3ea-c0ad-4d4c-bf7e-4270259ad33f\",\"type\":\"Grid\"},{\"id\":\"db223498-7359-4cdf-8241-256abf9eab4a\",\"type\":\"LogAxis\"},{\"id\":\"fe77c604-b4f0-4e62-a2c6-a2854abdb577\",\"type\":\"Grid\"},{\"id\":\"0911fd57-08b4-4846-8671-338764c032de\",\"type\":\"BoxAnnotation\"},{\"id\":\"b33508e3-9b7c-48d6-b71d-05717786a197\",\"type\":\"GlyphRenderer\"},{\"id\":\"49fee7d2-5fd1-458b-98a4-3a68d0fc73d0\",\"type\":\"GlyphRenderer\"},{\"id\":\"8580752a-cd93-4553-87c0-cdb51fc77782\",\"type\":\"GlyphRenderer\"},{\"id\":\"807ad2bb-b570-4086-9cab-0d91e12160d9\",\"type\":\"Legend\"}],\"title\":{\"id\":\"42e848a7-18ee-4d38-a19e-6c6fc9f07b23\",\"type\":\"Title\"},\"toolbar\":{\"id\":\"03be9697-8d30-4b1b-83e6-0b257cd57aa1\",\"type\":\"Toolbar\"},\"toolbar_location\":null,\"x_range\":{\"id\":\"99e1660e-43aa-4aaf-9483-90fe60011d1e\",\"type\":\"Range1d\"},\"x_scale\":{\"id\":\"1d8515e7-6247-42d7-9095-89a73f4ef33d\",\"type\":\"LinearScale\"},\"y_range\":{\"id\":\"8f6c79a3-bfc9-4f8f-b186-9b5ff0c0cf04\",\"type\":\"Range1d\"},\"y_scale\":{\"id\":\"51a2d7f3-b972-4cbb-8e0b-a43c52780f61\",\"type\":\"LogScale\"}},\"id\":\"d41fafbd-a347-4a6f-83d3-3deadb840773\",\"subtype\":\"Figure\",\"type\":\"Plot\"},{\"attributes\":{},\"id\":\"c839b928-d3e2-4bf2-916a-39869a600499\",\"type\":\"SaveTool\"},{\"attributes\":{},\"id\":\"19720cc4-52ee-40b7-aa5b-e42722607f46\",\"type\":\"UnionRenderers\"},{\"attributes\":{\"axis_label\":\"cooling rate [K/day]\",\"formatter\":{\"id\":\"b6d2e303-d0ab-451c-b6cb-b6109f207bb7\",\"type\":\"BasicTickFormatter\"},\"plot\":{\"id\":\"d41fafbd-a347-4a6f-83d3-3deadb840773\",\"subtype\":\"Figure\",\"type\":\"Plot\"},\"ticker\":{\"id\":\"1da18107-f37e-4733-b0ca-94bc072f51e9\",\"type\":\"BasicTicker\"}},\"id\":\"7fd7b8c1-8da9-4ed6-ad4f-e4fe26671674\",\"type\":\"LinearAxis\"},{\"attributes\":{\"callback\":null,\"data\":{\"x\":{\"__ndarray__\":\"JQlDbpi/F0ARoa3iSB0SQLb58FMdLxFAUslMJRUaEEBwVhuwcNkNQPb9+sjdbwtAcWwjKrcQCUA7f6UNqcoGQBbbIz1vpgRAlaWXRfusAkBo+/BO6OYAQBx8t8j5uv4/poHljZk6/D8Xj3NQbML5PypCBrw67vY/jSHrDhRj9D86EZvFeXjyP7fuTWWNFPE/vDY0c2428D81SRXcwvHvP3FLEG0to/A/oJgSSG0W7z/+0TwPGNjoP2q5QddsNOQ/eEV2bp5x4T8ferfBy/TeP+Ngi+85jNs/dD/YtN0e2T+KSC7oag7YP2LGl7pGM9c/mnbiOm341T+d976a62TUP1R37FyiqdM/KY0hB0v70z+f3JmV0yTUPwck5kakLNQ/d0+XckAU1D9WEGk1/KXTP6iTIx+kKtk/kVH5Dqls3T/Y1y7wL1zgP7+0U5Emf+A/euquv+Et4D+I/0tDiD/fP3lBk90kydw/JAsi2xpL3D+E4phFN2rgP2uA7dHjeuM/UxCtApn16j8cC54ae93xP5oIYv6w6fQ/ywEQu0ix9j+ZckJpVIX3P2YYtBKbufc/OxwRjK+J9z/sPuABMRz3P0lc8Nhnj/Y/bsKT1zfx9T+RVrKj9Uv1Pyatd72NpPQ/mk/SipP98z9/SkmaNVjzPwPEbunitPI/SQDVPGIY8j84/9FtgIvxP3ggLTRpGfE/gd0uyBbV8D/neRe/jsvwP/MxfYHpzPA/uGaRNuVU8D8chRLQvr7tP4JZe4FUeOk/Q7LOmExU5T8R2lhs/7HhPzKNqk8HTNo/\",\"dtype\":\"float64\",\"shape\":[75]},\"y\":{\"__ndarray__\":\"GhExyth1ND/Sv8nbtpRIP2vylNV0PVE/aTum7souWD/At0SJ8fVgPw3Iuahxymc/MSNhhJWvcD/bTfBN02d3P2zb5nxnaoA/CD5h5MAGhz8NmeH1TyaQP+zrCsc9p5Y/LbKd76fGnz/bLW5ISEmmPww9YvTcQq8/JV2OstnstT8Er5Y7M8G+P0c+r3jqkcU/5h99k6ZBzj88bCIzFzjVP4enV8oyxN0//yH99nXg5D8qOpLLf0jtP5kqGJXUifQ/c9cS8kHP/D+/DpwzojQEQIEmwoanVwxA4lgXt9HgE0BSSZ2AJuIbQAMJih9jjiNA5q4l5INuK0AwTKYKRj0zQNv5fmq8/DpAaCJseHrtQkB/+zpwzoxKQM3MzMzMeFJAZmZmZmZqWEAAAAAAAFxeQM3MzMzMJmJAmpmZmZkfZUBmZmZmZhhoQDMzMzMzEWtAAAAAAAAKbkBmZmZmZoFwQM3MzMzM/XFAMzMzMzN6c0CamZmZmfZ0QAAAAAAAc3ZAZmZmZmbvd0DNzMzMzGt5QDMzMzMz6HpAmpmZmZlkfEAAAAAAAOF9QGZmZmZmXX9AZmZmZuZsgECamZmZGSuBQM3MzMxM6YFAAAAAAICngkAzMzMzs2WDQGZmZmbmI4RAmpmZmRnihEDNzMzMTKCFQAAAAACAXoZAMzMzM7Mch0BmZmZm5tqHQJqZmZkZmYhAzczMzExXiUAAAAAAgBWKQDMzMzOz04pAZmZmZuaRi0CamZmZGVCMQM3MzMxMDo1AAAAAAIDMjUAzMzMzs4qOQGZmZmbmSI9A\",\"dtype\":\"float64\",\"shape\":[75]}},\"selected\":{\"id\":\"46db9cc1-d788-413f-84a4-67576b9cdbeb\",\"type\":\"Selection\"},\"selection_policy\":{\"id\":\"16344e76-1563-4c45-9564-7c4561ce7041\",\"type\":\"UnionRenderers\"}},\"id\":\"17fd0ae2-a343-4a6e-844c-8492a9bb70b7\",\"type\":\"ColumnDataSource\"},{\"attributes\":{\"source\":{\"id\":\"1ffbc1c6-2807-4426-a890-684bbc157519\",\"type\":\"ColumnDataSource\"}},\"id\":\"25ccf4d1-186b-46b9-b858-913d4e7016aa\",\"type\":\"CDSView\"},{\"attributes\":{\"bottom_units\":\"screen\",\"fill_alpha\":{\"value\":0.5},\"fill_color\":{\"value\":\"lightgrey\"},\"left_units\":\"screen\",\"level\":\"overlay\",\"line_alpha\":{\"value\":1.0},\"line_color\":{\"value\":\"black\"},\"line_dash\":[4,4],\"line_width\":{\"value\":2},\"plot\":null,\"render_mode\":\"css\",\"right_units\":\"screen\",\"top_units\":\"screen\"},\"id\":\"0911fd57-08b4-4846-8671-338764c032de\",\"type\":\"BoxAnnotation\"},{\"attributes\":{},\"id\":\"21376a26-cc34-4ce0-a01b-530dab3c4ec7\",\"type\":\"LinearScale\"},{\"attributes\":{\"data_source\":{\"id\":\"1899fbaf-11ef-4e8f-9069-4800cdd10188\",\"type\":\"ColumnDataSource\"},\"glyph\":{\"id\":\"d4dbf477-071c-4811-805d-bf543cc94971\",\"type\":\"Circle\"},\"hover_glyph\":null,\"muted_glyph\":null,\"nonselection_glyph\":{\"id\":\"f1e03dda-7ee2-42a3-a447-05b32dd5f9f0\",\"type\":\"Circle\"},\"selection_glyph\":null,\"view\":{\"id\":\"4c6932ca-29cd-4639-af7c-5878433ee18d\",\"type\":\"CDSView\"}},\"id\":\"97ddfe7c-2acc-4429-a9d7-d3a481b9be57\",\"type\":\"GlyphRenderer\"},{\"attributes\":{},\"id\":\"36ff39ec-4c2e-4a55-9e29-7d0b18a142d6\",\"type\":\"HelpTool\"},{\"attributes\":{},\"id\":\"f1015369-0e1f-4dc0-aec5-5a34783bbeeb\",\"type\":\"BasicTicker\"},{\"attributes\":{\"axis_label\":\"cooling rate [K/day]\",\"formatter\":{\"id\":\"e6d76ffd-6943-4e59-a899-1fcc802e711e\",\"type\":\"BasicTickFormatter\"},\"plot\":{\"id\":\"37b92f6b-0bb4-4e00-a0c0-0f22f6a76b9c\",\"subtype\":\"Figure\",\"type\":\"Plot\"},\"ticker\":{\"id\":\"761e7558-e4c1-4b9e-a0f6-47aeae7d5a2d\",\"type\":\"BasicTicker\"}},\"id\":\"b9dc80d5-c43b-42e4-ac3c-a1a8ee05ad4a\",\"type\":\"LinearAxis\"},{\"attributes\":{\"label\":{\"value\":\"CRD\"},\"renderers\":[{\"id\":\"49fee7d2-5fd1-458b-98a4-3a68d0fc73d0\",\"type\":\"GlyphRenderer\"},{\"id\":\"8580752a-cd93-4553-87c0-cdb51fc77782\",\"type\":\"GlyphRenderer\"}]},\"id\":\"97146415-275b-4cae-9155-d376ea3d1a96\",\"type\":\"LegendItem\"},{\"attributes\":{},\"id\":\"6874df72-d64b-4361-8354-9cdeb7b1cfe8\",\"type\":\"Selection\"},{\"attributes\":{\"tools\":[{\"id\":\"a2baad9b-274d-46df-ad53-047803128806\",\"type\":\"PanTool\"},{\"id\":\"7d2a0451-2963-4091-b8e1-d54bcfe1d76f\",\"type\":\"WheelZoomTool\"},{\"id\":\"08ed4e5d-1a86-4918-9cfa-9a17b899db4b\",\"type\":\"BoxZoomTool\"},{\"id\":\"56dd5266-ec5c-45b3-9657-e6e36204e6f1\",\"type\":\"SaveTool\"},{\"id\":\"1c265e2b-3bb8-4d57-badc-b99817a1637a\",\"type\":\"ResetTool\"},{\"id\":\"36ff39ec-4c2e-4a55-9e29-7d0b18a142d6\",\"type\":\"HelpTool\"},{\"id\":\"90e2d683-58d6-4b25-9c6e-0496f5d62206\",\"type\":\"PanTool\"},{\"id\":\"f602cd24-4844-4086-ad69-686af43f29e6\",\"type\":\"WheelZoomTool\"},{\"id\":\"52a4855c-6ddc-439c-ac70-11051f57651c\",\"type\":\"BoxZoomTool\"},{\"id\":\"c839b928-d3e2-4bf2-916a-39869a600499\",\"type\":\"SaveTool\"},{\"id\":\"0ad82a6a-77f1-46ee-bccc-9979e0825dbd\",\"type\":\"ResetTool\"},{\"id\":\"ed87930e-88cb-4a40-be0a-bd836df970c5\",\"type\":\"HelpTool\"},{\"id\":\"fdd56237-9951-4837-9407-c572e4770f31\",\"type\":\"PanTool\"},{\"id\":\"a57df1e6-980b-46e4-9a69-160a50de7ea0\",\"type\":\"WheelZoomTool\"},{\"id\":\"ed2d1f80-16a5-4dd8-962b-b30e812d04ad\",\"type\":\"BoxZoomTool\"},{\"id\":\"2615280a-5346-432a-8254-c527e50e1ccc\",\"type\":\"SaveTool\"},{\"id\":\"efb02c6c-bbe7-4b25-bdee-d5ba28effeb1\",\"type\":\"ResetTool\"},{\"id\":\"bb6e5305-033a-4543-9f6c-55881ccfe62d\",\"type\":\"HelpTool\"}]},\"id\":\"701ebe37-8f53-4f69-b1f7-34e0a989ab86\",\"type\":\"ProxyToolbar\"},{\"attributes\":{\"plot\":null,\"text\":\"\"},\"id\":\"42e848a7-18ee-4d38-a19e-6c6fc9f07b23\",\"type\":\"Title\"},{\"attributes\":{\"bottom_units\":\"screen\",\"fill_alpha\":{\"value\":0.5},\"fill_color\":{\"value\":\"lightgrey\"},\"left_units\":\"screen\",\"level\":\"overlay\",\"line_alpha\":{\"value\":1.0},\"line_color\":{\"value\":\"black\"},\"line_dash\":[4,4],\"line_width\":{\"value\":2},\"plot\":null,\"render_mode\":\"css\",\"right_units\":\"screen\",\"top_units\":\"screen\"},\"id\":\"c54a7a70-19ed-4e7f-896e-d1c0677932c4\",\"type\":\"BoxAnnotation\"},{\"attributes\":{},\"id\":\"0ad82a6a-77f1-46ee-bccc-9979e0825dbd\",\"type\":\"ResetTool\"},{\"attributes\":{},\"id\":\"1f69db84-a078-468a-a2c0-83e9699883d2\",\"type\":\"UnionRenderers\"},{\"attributes\":{\"items\":[{\"id\":\"78d2ba11-2d4f-4095-b166-365ae44656a6\",\"type\":\"LegendItem\"},{\"id\":\"12872b37-4cee-4f04-88b6-1b6cd6c14089\",\"type\":\"LegendItem\"}],\"label_text_font_size\":{\"value\":\"8pt\"},\"location\":\"top_center\",\"orientation\":\"horizontal\",\"plot\":{\"id\":\"37b92f6b-0bb4-4e00-a0c0-0f22f6a76b9c\",\"subtype\":\"Figure\",\"type\":\"Plot\"}},\"id\":\"37202275-e2b3-4d30-befa-5fd07314a5bb\",\"type\":\"Legend\"},{\"attributes\":{\"data_source\":{\"id\":\"17fd0ae2-a343-4a6e-844c-8492a9bb70b7\",\"type\":\"ColumnDataSource\"},\"glyph\":{\"id\":\"a2e071ae-df6e-4436-b362-4eee99259405\",\"type\":\"Line\"},\"hover_glyph\":null,\"muted_glyph\":null,\"nonselection_glyph\":{\"id\":\"40db2b3e-f04c-4557-9167-7c2120f96e12\",\"type\":\"Line\"},\"selection_glyph\":null,\"view\":{\"id\":\"8927da2b-892e-4954-b013-60e15d80eec9\",\"type\":\"CDSView\"}},\"id\":\"8580752a-cd93-4553-87c0-cdb51fc77782\",\"type\":\"GlyphRenderer\"},{\"attributes\":{\"label\":{\"value\":\"CLIRAD\"},\"renderers\":[{\"id\":\"b33508e3-9b7c-48d6-b71d-05717786a197\",\"type\":\"GlyphRenderer\"}]},\"id\":\"c863b34b-7bbe-4f1b-bb49-cf6efb8e12dc\",\"type\":\"LegendItem\"},{\"attributes\":{\"fill_alpha\":{\"value\":0.7},\"fill_color\":{\"value\":\"#4daf4a\"},\"line_alpha\":{\"value\":0.7},\"line_color\":{\"value\":\"#4daf4a\"},\"x\":{\"field\":\"x\"},\"y\":{\"field\":\"y\"}},\"id\":\"6159a586-ca91-47da-b0e7-43bd9eed2d93\",\"type\":\"Circle\"},{\"attributes\":{},\"id\":\"df506d89-5db6-452f-b356-3ef77579b631\",\"type\":\"UnionRenderers\"},{\"attributes\":{\"callback\":null,\"data\":{\"x\":{\"__ndarray__\":\"XUK14PHpCkCGWZx/lWUJQBO5WYZcBwpAw1+c1McuCkDD5aU5GrgJQIG1K5txjghAez/7STi0BkDGeO9HRGIEQNobbYgX+wFAi9tVR8/p/z9T3K1dDDn9P+VwRwYurvs/sjIHxcGa+j/VQY3s1/H4P31VMZF0UPY/Yyxv7wKj8z+QJo2+CKvxP6Hq2DfChvA/5Eb5ioXq7z/diqj1U4XvP7mDea64KvA/T/UCTp8W7j9gCFFAp7foP/JTQKCiKOU/sjgsjnLx4j+j6/lI5ZzgP1UzL61Q5tw/71VqeIHJ2D9DbOcdB8DWP+FniMIBPNY/hhtiszxW1T+x31zJ35fTP9ogvYfLRdM/lqFTjn/K0z/kIByKHbjTP/e58w+cg9M/qptCXVfw0j/ZKH4hZUzSP6U5ukiEwdc//mdZI2KS3D85YUXc3RzgP+DOHJ71MuA/mXA2UYV23z9jxwn+TW7eP11iAlzJUdw/Sc1bBFIH3D/0LACTr1TgP2irrJsIO+M/uO4UHkIq6j/YOrLtjR7xPxOgjEzyMPQ/jM3EEM839j/pzyeVNwn3P8hqa1+MAvc/mKC1VzjV9j9lQV/pVpL2PwtoZ4KAMfY/aAjKm+qu9T/Rh9yEahP1P25fJtvXhfQ/VljBz/7n8z+2Zug2IUDzP8/3NB8HlfI/xm1E0Anz8T9OrPW8mWjxPzaaBPleAvE/l5GhO63Y8D9NoWMmWe/wP7LYTQFV+fA/HNZkZteb8D+GqMVXcFzuPzKkng9c/+k/lZgJtKvo5T/u+TK5HhLiPz9ZA21RI9s/\",\"dtype\":\"float64\",\"shape\":[75]},\"y\":{\"__ndarray__\":\"GhExyth1ND/Sv8nbtpRIP2vylNV0PVE/aTum7souWD/At0SJ8fVgPw3Iuahxymc/MSNhhJWvcD/bTfBN02d3P2zb5nxnaoA/CD5h5MAGhz8NmeH1TyaQP+zrCsc9p5Y/LbKd76fGnz/bLW5ISEmmPww9YvTcQq8/JV2OstnstT8Er5Y7M8G+P0c+r3jqkcU/5h99k6ZBzj88bCIzFzjVP4enV8oyxN0//yH99nXg5D8qOpLLf0jtP5kqGJXUifQ/c9cS8kHP/D+/DpwzojQEQIEmwoanVwxA4lgXt9HgE0BSSZ2AJuIbQAMJih9jjiNA5q4l5INuK0AwTKYKRj0zQNv5fmq8/DpAaCJseHrtQkB/+zpwzoxKQM3MzMzMeFJAZmZmZmZqWEAAAAAAAFxeQM3MzMzMJmJAmpmZmZkfZUBmZmZmZhhoQDMzMzMzEWtAAAAAAAAKbkBmZmZmZoFwQM3MzMzM/XFAMzMzMzN6c0CamZmZmfZ0QAAAAAAAc3ZAZmZmZmbvd0DNzMzMzGt5QDMzMzMz6HpAmpmZmZlkfEAAAAAAAOF9QGZmZmZmXX9AZmZmZuZsgECamZmZGSuBQM3MzMxM6YFAAAAAAICngkAzMzMzs2WDQGZmZmbmI4RAmpmZmRnihEDNzMzMTKCFQAAAAACAXoZAMzMzM7Mch0BmZmZm5tqHQJqZmZkZmYhAzczMzExXiUAAAAAAgBWKQDMzMzOz04pAZmZmZuaRi0CamZmZGVCMQM3MzMxMDo1AAAAAAIDMjUAzMzMzs4qOQGZmZmbmSI9A\",\"dtype\":\"float64\",\"shape\":[75]}},\"selected\":{\"id\":\"2aba228c-f7c2-43ab-b848-542f37f2971c\",\"type\":\"Selection\"},\"selection_policy\":{\"id\":\"61945c77-e39e-4639-a7e4-2ea5cdc424c6\",\"type\":\"UnionRenderers\"}},\"id\":\"2a6557ca-e6ee-4ef9-85b9-2e7d87a8c57e\",\"type\":\"ColumnDataSource\"},{\"attributes\":{\"callback\":null,\"data\":{\"x\":{\"__ndarray__\":\"7s/Q+z6VBMAs0X2L+Kn1v7Z0EEO8rfC/i8v014kV6L+uwtXZWYXgv5lDem5hC9e/s2dBAffj0r+lM7AtJkPTv+P5taW9WtW/er5lD53A1b/0adAAEVPSv7BZgBNeZsi/N+/kjXz9ub9mqMl8jBKqv1qVnVrFuKO/cqV+7yMCqL9EVb3hIK6pv6aCoK5luaG/idLkbetKkL8Ali+buRuLvyDusaUvHZ6/D2r0Qb/5n7/ez+R1Zzhwvx1R0x+5hp4/pzNf+0H9pz9Q6eKB9ieiPx8nPdproZU/F2F6Gw9Xdb9/xG2kPOaUv/jP6wGf6I6/hmIL8BBGhL9M/UIseqGJv4We1Uu19Xi/Rcr1ZrxlaL/37m7fgi17vyFCTd4GIYW/wjxLVZE+kr/gd64+cZmVvyOglWb9kZa/UzL9c91Ii79FT7v0Cal/v6l3uc08DIO/PIvsxMWnjL+wBEeoSCeKv5PHN2Tg1n2/WXaPsTXycL9kkbWYsodlv3mBaiCb7X+/QzMEk9xqmb93CHqdpd2nvxURrTrWF6e/fRDNkmpenr/Kq6gGNQefv7uzFWnW4aa/VXRvi+aOpr+2sB8QQzuhvxQQPaLVeZe/f4Fu8k6TkL9yYOdqj0WMv2G4TVHitX6/UET3ELuUdb8Ny+NgYxR4v2E0zDnK23+/WkFJSDasgr8OdCluWHOBv4VChig7Cne/yKOglZuzTD8+sxOmM+WBPypfU+i/NYY/tNjb9Iu8kT85bWT2MLaTPw9WacTx4JA/S8pcZ+OLkj8494c20weIP4iBGatD6Yo/\",\"dtype\":\"float64\",\"shape\":[75]},\"y\":{\"__ndarray__\":\"GhExyth1ND/Sv8nbtpRIP2vylNV0PVE/aTum7souWD/At0SJ8fVgPw3Iuahxymc/MSNhhJWvcD/bTfBN02d3P2zb5nxnaoA/CD5h5MAGhz8NmeH1TyaQP+zrCsc9p5Y/LbKd76fGnz/bLW5ISEmmPww9YvTcQq8/JV2OstnstT8Er5Y7M8G+P0c+r3jqkcU/5h99k6ZBzj88bCIzFzjVP4enV8oyxN0//yH99nXg5D8qOpLLf0jtP5kqGJXUifQ/c9cS8kHP/D+/DpwzojQEQIEmwoanVwxA4lgXt9HgE0BSSZ2AJuIbQAMJih9jjiNA5q4l5INuK0AwTKYKRj0zQNv5fmq8/DpAaCJseHrtQkB/+zpwzoxKQM3MzMzMeFJAZmZmZmZqWEAAAAAAAFxeQM3MzMzMJmJAmpmZmZkfZUBmZmZmZhhoQDMzMzMzEWtAAAAAAAAKbkBmZmZmZoFwQM3MzMzM/XFAMzMzMzN6c0CamZmZmfZ0QAAAAAAAc3ZAZmZmZmbvd0DNzMzMzGt5QDMzMzMz6HpAmpmZmZlkfEAAAAAAAOF9QGZmZmZmXX9AZmZmZuZsgECamZmZGSuBQM3MzMxM6YFAAAAAAICngkAzMzMzs2WDQGZmZmbmI4RAmpmZmRnihEDNzMzMTKCFQAAAAACAXoZAMzMzM7Mch0BmZmZm5tqHQJqZmZkZmYhAzczMzExXiUAAAAAAgBWKQDMzMzOz04pAZmZmZuaRi0CamZmZGVCMQM3MzMxMDo1AAAAAAIDMjUAzMzMzs4qOQGZmZmbmSI9A\",\"dtype\":\"float64\",\"shape\":[75]}},\"selected\":{\"id\":\"eba80c26-c6f6-47d0-924b-2328207ebd05\",\"type\":\"Selection\"},\"selection_policy\":{\"id\":\"423d5bc1-b948-4377-9834-c14bbdd7851e\",\"type\":\"UnionRenderers\"}},\"id\":\"1899fbaf-11ef-4e8f-9069-4800cdd10188\",\"type\":\"ColumnDataSource\"},{\"attributes\":{},\"id\":\"16344e76-1563-4c45-9564-7c4561ce7041\",\"type\":\"UnionRenderers\"},{\"attributes\":{\"callback\":null,\"end\":1.494782916034759,\"start\":0.273943772129341},\"id\":\"791878a7-7da4-4e35-a9fc-5ef2082b9bab\",\"type\":\"Range1d\"},{\"attributes\":{\"fill_alpha\":{\"value\":0.1},\"fill_color\":{\"value\":\"#1f77b4\"},\"line_alpha\":{\"value\":0.1},\"line_color\":{\"value\":\"#1f77b4\"},\"x\":{\"field\":\"x\"},\"y\":{\"field\":\"y\"}},\"id\":\"601b7b54-7ed1-4390-b4a7-567630c65e39\",\"type\":\"Circle\"},{\"attributes\":{\"active_drag\":\"auto\",\"active_inspect\":\"auto\",\"active_scroll\":\"auto\",\"active_tap\":\"auto\",\"tools\":[{\"id\":\"a2baad9b-274d-46df-ad53-047803128806\",\"type\":\"PanTool\"},{\"id\":\"7d2a0451-2963-4091-b8e1-d54bcfe1d76f\",\"type\":\"WheelZoomTool\"},{\"id\":\"08ed4e5d-1a86-4918-9cfa-9a17b899db4b\",\"type\":\"BoxZoomTool\"},{\"id\":\"56dd5266-ec5c-45b3-9657-e6e36204e6f1\",\"type\":\"SaveTool\"},{\"id\":\"1c265e2b-3bb8-4d57-badc-b99817a1637a\",\"type\":\"ResetTool\"},{\"id\":\"36ff39ec-4c2e-4a55-9e29-7d0b18a142d6\",\"type\":\"HelpTool\"}]},\"id\":\"05ed7948-5b13-40cf-b439-e0e333e83703\",\"type\":\"Toolbar\"},{\"attributes\":{\"plot\":null,\"text\":\"\"},\"id\":\"bdbc7eb0-531d-46fb-9128-039b16b8b012\",\"type\":\"Title\"},{\"attributes\":{\"line_color\":\"#4daf4a\",\"line_width\":1.5,\"x\":{\"field\":\"x\"},\"y\":{\"field\":\"y\"}},\"id\":\"6bf8ffe8-93b1-45d9-b0c8-ae9bb3138a67\",\"type\":\"Line\"},{\"attributes\":{\"active_drag\":\"auto\",\"active_inspect\":\"auto\",\"active_scroll\":\"auto\",\"active_tap\":\"auto\",\"tools\":[{\"id\":\"90e2d683-58d6-4b25-9c6e-0496f5d62206\",\"type\":\"PanTool\"},{\"id\":\"f602cd24-4844-4086-ad69-686af43f29e6\",\"type\":\"WheelZoomTool\"},{\"id\":\"52a4855c-6ddc-439c-ac70-11051f57651c\",\"type\":\"BoxZoomTool\"},{\"id\":\"c839b928-d3e2-4bf2-916a-39869a600499\",\"type\":\"SaveTool\"},{\"id\":\"0ad82a6a-77f1-46ee-bccc-9979e0825dbd\",\"type\":\"ResetTool\"},{\"id\":\"ed87930e-88cb-4a40-be0a-bd836df970c5\",\"type\":\"HelpTool\"}]},\"id\":\"03be9697-8d30-4b1b-83e6-0b257cd57aa1\",\"type\":\"Toolbar\"},{\"attributes\":{\"above\":[{\"id\":\"fa42d520-9471-48ba-a775-b7ffbf6ea9e1\",\"type\":\"Legend\"}],\"below\":[{\"id\":\"c5c84309-8e8a-45b0-b0bb-175673fce9c7\",\"type\":\"LinearAxis\"}],\"left\":[{\"id\":\"31d9d074-104b-45c3-8e0e-c8e0c2e1fc58\",\"type\":\"LogAxis\"}],\"plot_width\":300,\"renderers\":[{\"id\":\"c5c84309-8e8a-45b0-b0bb-175673fce9c7\",\"type\":\"LinearAxis\"},{\"id\":\"0280168e-559a-41d5-848e-da27d178481c\",\"type\":\"Grid\"},{\"id\":\"31d9d074-104b-45c3-8e0e-c8e0c2e1fc58\",\"type\":\"LogAxis\"},{\"id\":\"f9c7a2e2-ba7f-4b00-ae72-4f37ae617fe2\",\"type\":\"Grid\"},{\"id\":\"c54a7a70-19ed-4e7f-896e-d1c0677932c4\",\"type\":\"BoxAnnotation\"},{\"id\":\"97ddfe7c-2acc-4429-a9d7-d3a481b9be57\",\"type\":\"GlyphRenderer\"},{\"id\":\"4e8b7951-acaf-481b-86a6-c7f552500589\",\"type\":\"GlyphRenderer\"},{\"id\":\"fa42d520-9471-48ba-a775-b7ffbf6ea9e1\",\"type\":\"Legend\"}],\"title\":{\"id\":\"40726688-8fe9-4178-bb97-86c304654453\",\"type\":\"Title\"},\"toolbar\":{\"id\":\"77ca0d03-ebf2-44e2-9868-8409714c9ae2\",\"type\":\"Toolbar\"},\"toolbar_location\":null,\"x_range\":{\"id\":\"e846893c-d7b4-4d98-aa67-540ebbf75999\",\"type\":\"Range1d\"},\"x_scale\":{\"id\":\"8efc92ca-8109-48e4-9e10-e4a30f916a37\",\"type\":\"LinearScale\"},\"y_range\":{\"id\":\"c00e9436-b775-4962-a277-0c0d33908626\",\"type\":\"Range1d\"},\"y_scale\":{\"id\":\"3cb97be2-6280-4c12-bfce-372bf51c1bd7\",\"type\":\"LogScale\"}},\"id\":\"9c9e7910-f378-419a-bcbf-ec2302cb5f80\",\"subtype\":\"Figure\",\"type\":\"Plot\"},{\"attributes\":{\"data_source\":{\"id\":\"c507ec17-bbfe-4fad-b217-913d8e7f5d24\",\"type\":\"ColumnDataSource\"},\"glyph\":{\"id\":\"7c38c2a0-24cc-48e7-8082-cd03985ee814\",\"type\":\"Line\"},\"hover_glyph\":null,\"muted_glyph\":null,\"nonselection_glyph\":{\"id\":\"3e9206a5-f5d5-4bcb-8286-7dc895cd8eb8\",\"type\":\"Line\"},\"selection_glyph\":null,\"view\":{\"id\":\"4392994b-ea36-483d-a89d-3f03b700719c\",\"type\":\"CDSView\"}},\"id\":\"4e8b7951-acaf-481b-86a6-c7f552500589\",\"type\":\"GlyphRenderer\"},{\"attributes\":{\"plot\":null,\"text\":\"\"},\"id\":\"40726688-8fe9-4178-bb97-86c304654453\",\"type\":\"Title\"},{\"attributes\":{\"line_alpha\":0.1,\"line_color\":\"#1f77b4\",\"line_dash\":[6],\"line_width\":5,\"x\":{\"field\":\"x\"},\"y\":{\"field\":\"y\"}},\"id\":\"a49ca2a3-45ce-4e62-a0cd-a4deafb8cfad\",\"type\":\"Line\"},{\"attributes\":{\"callback\":null,\"data\":{\"x\":{\"__ndarray__\":\"JQlDbpi/F0ARoa3iSB0SQLb58FMdLxFAUslMJRUaEEBwVhuwcNkNQPb9+sjdbwtAcWwjKrcQCUA7f6UNqcoGQBbbIz1vpgRAlaWXRfusAkBo+/BO6OYAQBx8t8j5uv4/poHljZk6/D8Xj3NQbML5PypCBrw67vY/jSHrDhRj9D86EZvFeXjyP7fuTWWNFPE/vDY0c2428D81SRXcwvHvP3FLEG0to/A/oJgSSG0W7z/+0TwPGNjoP2q5QddsNOQ/eEV2bp5x4T8ferfBy/TeP+Ngi+85jNs/dD/YtN0e2T+KSC7oag7YP2LGl7pGM9c/mnbiOm341T+d976a62TUP1R37FyiqdM/KY0hB0v70z+f3JmV0yTUPwck5kakLNQ/d0+XckAU1D9WEGk1/KXTP6iTIx+kKtk/kVH5Dqls3T/Y1y7wL1zgP7+0U5Emf+A/euquv+Et4D+I/0tDiD/fP3lBk90kydw/JAsi2xpL3D+E4phFN2rgP2uA7dHjeuM/UxCtApn16j8cC54ae93xP5oIYv6w6fQ/ywEQu0ix9j+ZckJpVIX3P2YYtBKbufc/OxwRjK+J9z/sPuABMRz3P0lc8Nhnj/Y/bsKT1zfx9T+RVrKj9Uv1Pyatd72NpPQ/mk/SipP98z9/SkmaNVjzPwPEbunitPI/SQDVPGIY8j84/9FtgIvxP3ggLTRpGfE/gd0uyBbV8D/neRe/jsvwP/MxfYHpzPA/uGaRNuVU8D8chRLQvr7tP4JZe4FUeOk/Q7LOmExU5T8R2lhs/7HhPzKNqk8HTNo/\",\"dtype\":\"float64\",\"shape\":[75]},\"y\":{\"__ndarray__\":\"GhExyth1ND/Sv8nbtpRIP2vylNV0PVE/aTum7souWD/At0SJ8fVgPw3Iuahxymc/MSNhhJWvcD/bTfBN02d3P2zb5nxnaoA/CD5h5MAGhz8NmeH1TyaQP+zrCsc9p5Y/LbKd76fGnz/bLW5ISEmmPww9YvTcQq8/JV2OstnstT8Er5Y7M8G+P0c+r3jqkcU/5h99k6ZBzj88bCIzFzjVP4enV8oyxN0//yH99nXg5D8qOpLLf0jtP5kqGJXUifQ/c9cS8kHP/D+/DpwzojQEQIEmwoanVwxA4lgXt9HgE0BSSZ2AJuIbQAMJih9jjiNA5q4l5INuK0AwTKYKRj0zQNv5fmq8/DpAaCJseHrtQkB/+zpwzoxKQM3MzMzMeFJAZmZmZmZqWEAAAAAAAFxeQM3MzMzMJmJAmpmZmZkfZUBmZmZmZhhoQDMzMzMzEWtAAAAAAAAKbkBmZmZmZoFwQM3MzMzM/XFAMzMzMzN6c0CamZmZmfZ0QAAAAAAAc3ZAZmZmZmbvd0DNzMzMzGt5QDMzMzMz6HpAmpmZmZlkfEAAAAAAAOF9QGZmZmZmXX9AZmZmZuZsgECamZmZGSuBQM3MzMxM6YFAAAAAAICngkAzMzMzs2WDQGZmZmbmI4RAmpmZmRnihEDNzMzMTKCFQAAAAACAXoZAMzMzM7Mch0BmZmZm5tqHQJqZmZkZmYhAzczMzExXiUAAAAAAgBWKQDMzMzOz04pAZmZmZuaRi0CamZmZGVCMQM3MzMxMDo1AAAAAAIDMjUAzMzMzs4qOQGZmZmbmSI9A\",\"dtype\":\"float64\",\"shape\":[75]}},\"selected\":{\"id\":\"9b560be9-3e1c-4fe6-8845-1c2b63cda49a\",\"type\":\"Selection\"},\"selection_policy\":{\"id\":\"19720cc4-52ee-40b7-aa5b-e42722607f46\",\"type\":\"UnionRenderers\"}},\"id\":\"1ffbc1c6-2807-4426-a890-684bbc157519\",\"type\":\"ColumnDataSource\"},{\"attributes\":{\"fill_alpha\":{\"value\":0.7},\"fill_color\":{\"value\":\"#4daf4a\"},\"line_alpha\":{\"value\":0.7},\"line_color\":{\"value\":\"#4daf4a\"},\"x\":{\"field\":\"x\"},\"y\":{\"field\":\"y\"}},\"id\":\"131be717-d582-4695-b475-84efe318c493\",\"type\":\"Circle\"},{\"attributes\":{\"fill_alpha\":{\"value\":0.1},\"fill_color\":{\"value\":\"#1f77b4\"},\"line_alpha\":{\"value\":0.1},\"line_color\":{\"value\":\"#1f77b4\"},\"x\":{\"field\":\"x\"},\"y\":{\"field\":\"y\"}},\"id\":\"25c9b3e3-8a35-49c5-a721-7e7638c475ea\",\"type\":\"Circle\"},{\"attributes\":{\"source\":{\"id\":\"887a7e48-b335-41a9-b005-a993e89f0ff6\",\"type\":\"ColumnDataSource\"}},\"id\":\"b9d40d6c-31e5-44a3-a2e0-a1105b49a2ae\",\"type\":\"CDSView\"},{\"attributes\":{},\"id\":\"460e61d8-30e7-428d-b5a3-592711d6c7f3\",\"type\":\"UnionRenderers\"},{\"attributes\":{\"overlay\":{\"id\":\"0911fd57-08b4-4846-8671-338764c032de\",\"type\":\"BoxAnnotation\"}},\"id\":\"52a4855c-6ddc-439c-ac70-11051f57651c\",\"type\":\"BoxZoomTool\"},{\"attributes\":{\"callback\":null,\"end\":0.01,\"start\":1020},\"id\":\"8f6c79a3-bfc9-4f8f-b186-9b5ff0c0cf04\",\"type\":\"Range1d\"},{\"attributes\":{},\"id\":\"2aba228c-f7c2-43ab-b848-542f37f2971c\",\"type\":\"Selection\"},{\"attributes\":{\"callback\":null,\"data\":{\"x\":{\"__ndarray__\":\"JQlDbpi/F0ARoa3iSB0SQLb58FMdLxFAUslMJRUaEEBwVhuwcNkNQPb9+sjdbwtAcWwjKrcQCUA7f6UNqcoGQBbbIz1vpgRAlaWXRfusAkBo+/BO6OYAQBx8t8j5uv4/poHljZk6/D8Xj3NQbML5PypCBrw67vY/jSHrDhRj9D86EZvFeXjyP7fuTWWNFPE/vDY0c2428D81SRXcwvHvP3FLEG0to/A/oJgSSG0W7z/+0TwPGNjoP2q5QddsNOQ/eEV2bp5x4T8ferfBy/TeP+Ngi+85jNs/dD/YtN0e2T+KSC7oag7YP2LGl7pGM9c/mnbiOm341T+d976a62TUP1R37FyiqdM/KY0hB0v70z+f3JmV0yTUPwck5kakLNQ/d0+XckAU1D9WEGk1/KXTP6iTIx+kKtk/kVH5Dqls3T/Y1y7wL1zgP7+0U5Emf+A/euquv+Et4D+I/0tDiD/fP3lBk90kydw/JAsi2xpL3D+E4phFN2rgP2uA7dHjeuM/UxCtApn16j8cC54ae93xP5oIYv6w6fQ/ywEQu0ix9j+ZckJpVIX3P2YYtBKbufc/OxwRjK+J9z/sPuABMRz3P0lc8Nhnj/Y/bsKT1zfx9T+RVrKj9Uv1Pyatd72NpPQ/mk/SipP98z9/SkmaNVjzPwPEbunitPI/SQDVPGIY8j84/9FtgIvxP3ggLTRpGfE/gd0uyBbV8D/neRe/jsvwP/MxfYHpzPA/uGaRNuVU8D8chRLQvr7tP4JZe4FUeOk/Q7LOmExU5T8R2lhs/7HhPzKNqk8HTNo/\",\"dtype\":\"float64\",\"shape\":[75]},\"y\":{\"__ndarray__\":\"GhExyth1ND/Sv8nbtpRIP2vylNV0PVE/aTum7souWD/At0SJ8fVgPw3Iuahxymc/MSNhhJWvcD/bTfBN02d3P2zb5nxnaoA/CD5h5MAGhz8NmeH1TyaQP+zrCsc9p5Y/LbKd76fGnz/bLW5ISEmmPww9YvTcQq8/JV2OstnstT8Er5Y7M8G+P0c+r3jqkcU/5h99k6ZBzj88bCIzFzjVP4enV8oyxN0//yH99nXg5D8qOpLLf0jtP5kqGJXUifQ/c9cS8kHP/D+/DpwzojQEQIEmwoanVwxA4lgXt9HgE0BSSZ2AJuIbQAMJih9jjiNA5q4l5INuK0AwTKYKRj0zQNv5fmq8/DpAaCJseHrtQkB/+zpwzoxKQM3MzMzMeFJAZmZmZmZqWEAAAAAAAFxeQM3MzMzMJmJAmpmZmZkfZUBmZmZmZhhoQDMzMzMzEWtAAAAAAAAKbkBmZmZmZoFwQM3MzMzM/XFAMzMzMzN6c0CamZmZmfZ0QAAAAAAAc3ZAZmZmZmbvd0DNzMzMzGt5QDMzMzMz6HpAmpmZmZlkfEAAAAAAAOF9QGZmZmZmXX9AZmZmZuZsgECamZmZGSuBQM3MzMxM6YFAAAAAAICngkAzMzMzs2WDQGZmZmbmI4RAmpmZmRnihEDNzMzMTKCFQAAAAACAXoZAMzMzM7Mch0BmZmZm5tqHQJqZmZkZmYhAzczMzExXiUAAAAAAgBWKQDMzMzOz04pAZmZmZuaRi0CamZmZGVCMQM3MzMxMDo1AAAAAAIDMjUAzMzMzs4qOQGZmZmbmSI9A\",\"dtype\":\"float64\",\"shape\":[75]}},\"selected\":{\"id\":\"6feb1f38-0c2d-486e-ac16-5929d3d2c454\",\"type\":\"Selection\"},\"selection_policy\":{\"id\":\"df506d89-5db6-452f-b356-3ef77579b631\",\"type\":\"UnionRenderers\"}},\"id\":\"147052d4-a410-454a-85f1-8c7da7c114ea\",\"type\":\"ColumnDataSource\"},{\"attributes\":{},\"id\":\"eba80c26-c6f6-47d0-924b-2328207ebd05\",\"type\":\"Selection\"},{\"attributes\":{\"label\":{\"value\":\"CRD\"},\"renderers\":[{\"id\":\"d42832b0-df6e-4565-9f84-f8597c25d857\",\"type\":\"GlyphRenderer\"},{\"id\":\"f86e8061-1854-44c3-a9f2-5b8c64d6a852\",\"type\":\"GlyphRenderer\"}]},\"id\":\"12872b37-4cee-4f04-88b6-1b6cd6c14089\",\"type\":\"LegendItem\"},{\"attributes\":{\"callback\":null,\"data\":{\"x\":{\"__ndarray__\":\"7s/Q+z6VBMAs0X2L+Kn1v7Z0EEO8rfC/i8v014kV6L+uwtXZWYXgv5lDem5hC9e/s2dBAffj0r+lM7AtJkPTv+P5taW9WtW/er5lD53A1b/0adAAEVPSv7BZgBNeZsi/N+/kjXz9ub9mqMl8jBKqv1qVnVrFuKO/cqV+7yMCqL9EVb3hIK6pv6aCoK5luaG/idLkbetKkL8Ali+buRuLvyDusaUvHZ6/D2r0Qb/5n7/ez+R1Zzhwvx1R0x+5hp4/pzNf+0H9pz9Q6eKB9ieiPx8nPdproZU/F2F6Gw9Xdb9/xG2kPOaUv/jP6wGf6I6/hmIL8BBGhL9M/UIseqGJv4We1Uu19Xi/Rcr1ZrxlaL/37m7fgi17vyFCTd4GIYW/wjxLVZE+kr/gd64+cZmVvyOglWb9kZa/UzL9c91Ii79FT7v0Cal/v6l3uc08DIO/PIvsxMWnjL+wBEeoSCeKv5PHN2Tg1n2/WXaPsTXycL9kkbWYsodlv3mBaiCb7X+/QzMEk9xqmb93CHqdpd2nvxURrTrWF6e/fRDNkmpenr/Kq6gGNQefv7uzFWnW4aa/VXRvi+aOpr+2sB8QQzuhvxQQPaLVeZe/f4Fu8k6TkL9yYOdqj0WMv2G4TVHitX6/UET3ELuUdb8Ny+NgYxR4v2E0zDnK23+/WkFJSDasgr8OdCluWHOBv4VChig7Cne/yKOglZuzTD8+sxOmM+WBPypfU+i/NYY/tNjb9Iu8kT85bWT2MLaTPw9WacTx4JA/S8pcZ+OLkj8494c20weIP4iBGatD6Yo/\",\"dtype\":\"float64\",\"shape\":[75]},\"y\":{\"__ndarray__\":\"GhExyth1ND/Sv8nbtpRIP2vylNV0PVE/aTum7souWD/At0SJ8fVgPw3Iuahxymc/MSNhhJWvcD/bTfBN02d3P2zb5nxnaoA/CD5h5MAGhz8NmeH1TyaQP+zrCsc9p5Y/LbKd76fGnz/bLW5ISEmmPww9YvTcQq8/JV2OstnstT8Er5Y7M8G+P0c+r3jqkcU/5h99k6ZBzj88bCIzFzjVP4enV8oyxN0//yH99nXg5D8qOpLLf0jtP5kqGJXUifQ/c9cS8kHP/D+/DpwzojQEQIEmwoanVwxA4lgXt9HgE0BSSZ2AJuIbQAMJih9jjiNA5q4l5INuK0AwTKYKRj0zQNv5fmq8/DpAaCJseHrtQkB/+zpwzoxKQM3MzMzMeFJAZmZmZmZqWEAAAAAAAFxeQM3MzMzMJmJAmpmZmZkfZUBmZmZmZhhoQDMzMzMzEWtAAAAAAAAKbkBmZmZmZoFwQM3MzMzM/XFAMzMzMzN6c0CamZmZmfZ0QAAAAAAAc3ZAZmZmZmbvd0DNzMzMzGt5QDMzMzMz6HpAmpmZmZlkfEAAAAAAAOF9QGZmZmZmXX9AZmZmZuZsgECamZmZGSuBQM3MzMxM6YFAAAAAAICngkAzMzMzs2WDQGZmZmbmI4RAmpmZmRnihEDNzMzMTKCFQAAAAACAXoZAMzMzM7Mch0BmZmZm5tqHQJqZmZkZmYhAzczMzExXiUAAAAAAgBWKQDMzMzOz04pAZmZmZuaRi0CamZmZGVCMQM3MzMxMDo1AAAAAAIDMjUAzMzMzs4qOQGZmZmbmSI9A\",\"dtype\":\"float64\",\"shape\":[75]}},\"selected\":{\"id\":\"6e37def9-6f9c-4550-872d-7482da290710\",\"type\":\"Selection\"},\"selection_policy\":{\"id\":\"1f69db84-a078-468a-a2c0-83e9699883d2\",\"type\":\"UnionRenderers\"}},\"id\":\"c507ec17-bbfe-4fad-b217-913d8e7f5d24\",\"type\":\"ColumnDataSource\"},{\"attributes\":{},\"id\":\"a2baad9b-274d-46df-ad53-047803128806\",\"type\":\"PanTool\"},{\"attributes\":{\"data_source\":{\"id\":\"1ffbc1c6-2807-4426-a890-684bbc157519\",\"type\":\"ColumnDataSource\"},\"glyph\":{\"id\":\"6bf8ffe8-93b1-45d9-b0c8-ae9bb3138a67\",\"type\":\"Line\"},\"hover_glyph\":null,\"muted_glyph\":null,\"nonselection_glyph\":{\"id\":\"758a931f-d48d-484f-8ebd-3a93a05d7103\",\"type\":\"Line\"},\"selection_glyph\":null,\"view\":{\"id\":\"25ccf4d1-186b-46b9-b858-913d4e7016aa\",\"type\":\"CDSView\"}},\"id\":\"f86e8061-1854-44c3-a9f2-5b8c64d6a852\",\"type\":\"GlyphRenderer\"},{\"attributes\":{\"dimension\":1,\"plot\":{\"id\":\"37b92f6b-0bb4-4e00-a0c0-0f22f6a76b9c\",\"subtype\":\"Figure\",\"type\":\"Plot\"},\"ticker\":{\"id\":\"f1015369-0e1f-4dc0-aec5-5a34783bbeeb\",\"type\":\"BasicTicker\"}},\"id\":\"b09b90a8-d08d-4b4c-a9f3-884c1b818652\",\"type\":\"Grid\"},{\"attributes\":{},\"id\":\"46db9cc1-d788-413f-84a4-67576b9cdbeb\",\"type\":\"Selection\"},{\"attributes\":{},\"id\":\"bb6e5305-033a-4543-9f6c-55881ccfe62d\",\"type\":\"HelpTool\"},{\"attributes\":{\"bottom_units\":\"screen\",\"fill_alpha\":{\"value\":0.5},\"fill_color\":{\"value\":\"lightgrey\"},\"left_units\":\"screen\",\"level\":\"overlay\",\"line_alpha\":{\"value\":1.0},\"line_color\":{\"value\":\"black\"},\"line_dash\":[4,4],\"line_width\":{\"value\":2},\"plot\":null,\"render_mode\":\"css\",\"right_units\":\"screen\",\"top_units\":\"screen\"},\"id\":\"b4bb05b4-d619-4be1-ac13-19448ceee544\",\"type\":\"BoxAnnotation\"},{\"attributes\":{\"callback\":null,\"end\":0.01,\"start\":1020},\"id\":\"d6951701-3113-45ca-9acd-e6ed709731f6\",\"type\":\"Range1d\"},{\"attributes\":{\"dimension\":1,\"plot\":{\"id\":\"d41fafbd-a347-4a6f-83d3-3deadb840773\",\"subtype\":\"Figure\",\"type\":\"Plot\"},\"ticker\":{\"id\":\"8e6a10a2-fde2-4bd3-aea9-5a1ee709b970\",\"type\":\"LogTicker\"}},\"id\":\"fe77c604-b4f0-4e62-a2c6-a2854abdb577\",\"type\":\"Grid\"},{\"attributes\":{\"fill_alpha\":{\"value\":0.1},\"fill_color\":{\"value\":\"#1f77b4\"},\"line_alpha\":{\"value\":0.1},\"line_color\":{\"value\":\"#1f77b4\"},\"x\":{\"field\":\"x\"},\"y\":{\"field\":\"y\"}},\"id\":\"f1e03dda-7ee2-42a3-a447-05b32dd5f9f0\",\"type\":\"Circle\"},{\"attributes\":{\"children\":[{\"id\":\"2f76e35b-1fc8-492c-8c00-ff70196b3eea\",\"type\":\"ToolbarBox\"},{\"id\":\"4bd2cf5b-25be-4853-81bc-5c72bb9e99bc\",\"type\":\"Column\"}]},\"id\":\"37941ee3-c5cb-42dc-8d5a-2b088c1c3d5e\",\"type\":\"Column\"},{\"attributes\":{\"axis_label\":\"pressure [mb]\",\"formatter\":{\"id\":\"c33710f2-b88a-4a54-ab4c-f38aae1e2129\",\"type\":\"LogTickFormatter\"},\"plot\":{\"id\":\"d41fafbd-a347-4a6f-83d3-3deadb840773\",\"subtype\":\"Figure\",\"type\":\"Plot\"},\"ticker\":{\"id\":\"8e6a10a2-fde2-4bd3-aea9-5a1ee709b970\",\"type\":\"LogTicker\"}},\"id\":\"db223498-7359-4cdf-8241-256abf9eab4a\",\"type\":\"LogAxis\"},{\"attributes\":{},\"id\":\"e6d76ffd-6943-4e59-a899-1fcc802e711e\",\"type\":\"BasicTickFormatter\"},{\"attributes\":{\"items\":[{\"id\":\"c863b34b-7bbe-4f1b-bb49-cf6efb8e12dc\",\"type\":\"LegendItem\"},{\"id\":\"97146415-275b-4cae-9155-d376ea3d1a96\",\"type\":\"LegendItem\"}],\"label_text_font_size\":{\"value\":\"8pt\"},\"location\":\"top_center\",\"orientation\":\"horizontal\",\"plot\":{\"id\":\"d41fafbd-a347-4a6f-83d3-3deadb840773\",\"subtype\":\"Figure\",\"type\":\"Plot\"}},\"id\":\"807ad2bb-b570-4086-9cab-0d91e12160d9\",\"type\":\"Legend\"},{\"attributes\":{\"source\":{\"id\":\"147052d4-a410-454a-85f1-8c7da7c114ea\",\"type\":\"ColumnDataSource\"}},\"id\":\"5f356df8-0959-4732-812b-09e9dfc49d8c\",\"type\":\"CDSView\"}],\"root_ids\":[\"37941ee3-c5cb-42dc-8d5a-2b088c1c3d5e\"]},\"title\":\"Bokeh Application\",\"version\":\"0.12.16\"}};\n",
       "  var render_items = [{\"docid\":\"74124cc3-99e4-4f36-8069-30c1930da962\",\"elementid\":\"4f612e89-9f64-4542-9a18-4a21c282476e\",\"modelid\":\"37941ee3-c5cb-42dc-8d5a-2b088c1c3d5e\"}];\n",
       "  root.Bokeh.embed.embed_items_notebook(docs_json, render_items);\n",
       "\n",
       "  }\n",
       "  if (root.Bokeh !== undefined) {\n",
       "    embed_document(root);\n",
       "  } else {\n",
       "    var attempts = 0;\n",
       "    var timer = setInterval(function(root) {\n",
       "      if (root.Bokeh !== undefined) {\n",
       "        embed_document(root);\n",
       "        clearInterval(timer);\n",
       "      }\n",
       "      attempts++;\n",
       "      if (attempts > 100) {\n",
       "        console.log(\"Bokeh: ERROR: Unable to run BokehJS code because BokehJS library is missing\")\n",
       "        clearInterval(timer);\n",
       "      }\n",
       "    }, 10, root)\n",
       "  }\n",
       "})(window);"
      ],
      "application/vnd.bokehjs_exec.v0+json": ""
     },
     "metadata": {
      "application/vnd.bokehjs_exec.v0+json": {
       "id": "37941ee3-c5cb-42dc-8d5a-2b088c1c3d5e"
      }
     },
     "output_type": "display_data"
    },
    {
     "data": {
      "text/markdown": [
       "*FIGURE.* Cooling rates & difference."
      ],
      "text/plain": [
       "<IPython.core.display.Markdown object>"
      ]
     },
     "metadata": {},
     "output_type": "display_data"
    },
    {
     "data": {
      "text/html": [
       "<a id=\"Fluxes._saw.\"></a>"
      ],
      "text/plain": [
       "<IPython.core.display.HTML object>"
      ]
     },
     "metadata": {},
     "output_type": "display_data"
    },
    {
     "data": {
      "text/markdown": [
       "# Fluxes. saw."
      ],
      "text/plain": [
       "<IPython.core.display.Markdown object>"
      ]
     },
     "metadata": {},
     "output_type": "display_data"
    },
    {
     "data": {
      "text/html": [
       "\n",
       "<div class=\"bk-root\">\n",
       "    <div class=\"bk-plotdiv\" id=\"e30927d7-acc6-47c2-837d-bd55751b6164\"></div>\n",
       "</div>"
      ]
     },
     "metadata": {},
     "output_type": "display_data"
    },
    {
     "data": {
      "application/javascript": [
       "(function(root) {\n",
       "  function embed_document(root) {\n",
       "    \n",
       "  var docs_json = {\"83eba3c6-ea12-4033-9754-1bda7526cabe\":{\"roots\":{\"references\":[{\"attributes\":{},\"id\":\"d56c6958-6043-4bdc-bcb5-0dcf35dac9bd\",\"type\":\"PanTool\"},{\"attributes\":{},\"id\":\"524ede2a-6ae8-4587-9344-7eb859ee26f5\",\"type\":\"CategoricalScale\"},{\"attributes\":{\"plot\":null,\"text\":\"SFC flux. CLIRAD - CRD.\"},\"id\":\"9b6f42e7-5ddf-4089-bdae-edbb51dbfe54\",\"type\":\"Title\"},{\"attributes\":{\"callback\":null,\"data\":{\"band\":[\"1\",\"2\",\"3\",\"4\",\"5\",\"6\",\"7\",\"8\",\"9\",\"10\",\"11\"],\"flux\":{\"__ndarray__\":\"gEOHwJFAxz8A+NfyyvWyPwDGbTSAt7S/ADC5iVqae78AaBAf2PGPvwDg9pLGaH2/AHCis8wiZL8ABBxClZqNvwCNYhRfSK6/ACA2WDhJc78AuGG5ShxePw==\",\"dtype\":\"float64\",\"shape\":[11]}},\"selected\":{\"id\":\"f49775f7-e086-4a14-ad1f-c162f1973fbb\",\"type\":\"Selection\"},\"selection_policy\":{\"id\":\"edade88f-a269-49f2-ad48-9ee5b12159b9\",\"type\":\"UnionRenderers\"}},\"id\":\"667e7b3e-ded4-40bf-9d6c-dfecba865358\",\"type\":\"ColumnDataSource\"},{\"attributes\":{\"data_source\":{\"id\":\"89d0ad64-6859-4c29-990b-f7b98e9479e9\",\"type\":\"ColumnDataSource\"},\"glyph\":{\"id\":\"cd3d8b15-1ed4-49f2-b023-4532925dbec2\",\"type\":\"VBar\"},\"hover_glyph\":null,\"muted_glyph\":null,\"nonselection_glyph\":{\"id\":\"fa55478c-5bc2-4a5b-b053-0abc543b63fa\",\"type\":\"VBar\"},\"selection_glyph\":null,\"view\":{\"id\":\"152e2ebf-0963-4f7a-b302-e31d13131ac6\",\"type\":\"CDSView\"}},\"id\":\"c187c8a6-daef-4614-b6a6-85c18b7e729d\",\"type\":\"GlyphRenderer\"},{\"attributes\":{\"bottom_units\":\"screen\",\"fill_alpha\":{\"value\":0.5},\"fill_color\":{\"value\":\"lightgrey\"},\"left_units\":\"screen\",\"level\":\"overlay\",\"line_alpha\":{\"value\":1.0},\"line_color\":{\"value\":\"black\"},\"line_dash\":[4,4],\"line_width\":{\"value\":2},\"plot\":null,\"render_mode\":\"css\",\"right_units\":\"screen\",\"top_units\":\"screen\"},\"id\":\"82942a9b-8a1e-4352-96e5-6fb7e7badf40\",\"type\":\"BoxAnnotation\"},{\"attributes\":{},\"id\":\"85790ca0-655e-45b7-8c7a-0e83a2ad2659\",\"type\":\"CategoricalTicker\"},{\"attributes\":{\"callback\":null},\"id\":\"0e77761e-b1b6-4a58-8667-52e73d2ca26e\",\"type\":\"DataRange1d\"},{\"attributes\":{},\"id\":\"d28ba45f-b03a-4196-8fa4-59de2c843ed6\",\"type\":\"WheelZoomTool\"},{\"attributes\":{\"bottom_units\":\"screen\",\"fill_alpha\":{\"value\":0.5},\"fill_color\":{\"value\":\"lightgrey\"},\"left_units\":\"screen\",\"level\":\"overlay\",\"line_alpha\":{\"value\":1.0},\"line_color\":{\"value\":\"black\"},\"line_dash\":[4,4],\"line_width\":{\"value\":2},\"plot\":null,\"render_mode\":\"css\",\"right_units\":\"screen\",\"top_units\":\"screen\"},\"id\":\"8ca04096-a038-4b7c-80b9-521dc048e064\",\"type\":\"BoxAnnotation\"},{\"attributes\":{\"callback\":null,\"factors\":[\"1\",\"2\",\"3\",\"4\",\"5\",\"6\",\"7\",\"8\",\"9\",\"10\",\"11\"]},\"id\":\"5d24deb5-7636-48f4-806c-debc98bf26a1\",\"type\":\"FactorRange\"},{\"attributes\":{\"plot\":{\"id\":\"fd8e3386-921d-41a8-a986-0052839fd128\",\"subtype\":\"Figure\",\"type\":\"Plot\"},\"ticker\":{\"id\":\"b0726370-9e60-46c3-b5b3-75bb36b11636\",\"type\":\"CategoricalTicker\"}},\"id\":\"82256c55-9d47-4954-991c-03ee7fe3b3b1\",\"type\":\"Grid\"},{\"attributes\":{},\"id\":\"099ec0e0-6dc6-4da6-88c4-286b3793827b\",\"type\":\"HelpTool\"},{\"attributes\":{\"callback\":null,\"data\":{\"band\":[\"1\",\"2\",\"3\",\"4\",\"5\",\"6\",\"7\",\"8\",\"9\",\"10\",\"11\"],\"flux\":{\"__ndarray__\":\"AMCVXpuNZb8AVvMcke/Av2Ac6ndha9a/cEnsfyX81r+Ai6NyE7W4v4gGUvc787W/SMlBItANm7/IHC8wbTC0v0BV203wTbu/AILMzqJ3oj9gINefJxKCPw==\",\"dtype\":\"float64\",\"shape\":[11]}},\"selected\":{\"id\":\"88f57fe2-5969-4bea-847d-7ec77daec149\",\"type\":\"Selection\"},\"selection_policy\":{\"id\":\"cbdde536-feb4-42c7-86c7-c5eb4cc09509\",\"type\":\"UnionRenderers\"}},\"id\":\"89d0ad64-6859-4c29-990b-f7b98e9479e9\",\"type\":\"ColumnDataSource\"},{\"attributes\":{\"data_source\":{\"id\":\"44ddf344-b945-4df6-83f1-17762c5c8054\",\"type\":\"ColumnDataSource\"},\"glyph\":{\"id\":\"191d2b39-2336-43fa-8e22-e5757de38377\",\"type\":\"VBar\"},\"hover_glyph\":null,\"muted_glyph\":null,\"nonselection_glyph\":{\"id\":\"df99752a-1480-4b1a-bb2e-55883df9f16c\",\"type\":\"VBar\"},\"selection_glyph\":null,\"view\":{\"id\":\"6db1d032-4140-4bd3-9d5c-1491bd7ac6ae\",\"type\":\"CDSView\"}},\"id\":\"bf573635-5cb6-427e-b657-ab1c0dcee0ff\",\"type\":\"GlyphRenderer\"},{\"attributes\":{\"source\":{\"id\":\"667e7b3e-ded4-40bf-9d6c-dfecba865358\",\"type\":\"ColumnDataSource\"}},\"id\":\"213cb317-ebf5-43c6-97ea-648f39c87cc5\",\"type\":\"CDSView\"},{\"attributes\":{\"overlay\":{\"id\":\"8ca04096-a038-4b7c-80b9-521dc048e064\",\"type\":\"BoxAnnotation\"}},\"id\":\"a2bb96ec-7193-4c12-81b9-b0123494d59d\",\"type\":\"BoxZoomTool\"},{\"attributes\":{\"axis_label\":\"flux (W m-2)\",\"formatter\":{\"id\":\"8abbc8b1-9256-4c18-87c7-842b56836ead\",\"type\":\"BasicTickFormatter\"},\"plot\":{\"id\":\"3937718f-4a8a-4c71-97cc-b1a6fb395fc0\",\"subtype\":\"Figure\",\"type\":\"Plot\"},\"ticker\":{\"id\":\"95e91ead-1378-4ddc-9e77-ab98db883b98\",\"type\":\"BasicTicker\"}},\"id\":\"8cf4ae40-eb60-4fbf-b1f0-c159291f57ef\",\"type\":\"LinearAxis\"},{\"attributes\":{\"tools\":[{\"id\":\"d56c6958-6043-4bdc-bcb5-0dcf35dac9bd\",\"type\":\"PanTool\"},{\"id\":\"e8a8962b-7967-4a4a-b102-eff3d5c9667a\",\"type\":\"WheelZoomTool\"},{\"id\":\"b70faae9-a310-46cf-b56a-12c65ff02c17\",\"type\":\"BoxZoomTool\"},{\"id\":\"3f55d6de-6b38-4335-b2f0-770d7234ab50\",\"type\":\"SaveTool\"},{\"id\":\"07a696e6-86a3-4372-adca-35a6fd9ca54d\",\"type\":\"ResetTool\"},{\"id\":\"099ec0e0-6dc6-4da6-88c4-286b3793827b\",\"type\":\"HelpTool\"},{\"id\":\"964134ab-9510-4c7a-99c0-433bfbecac75\",\"type\":\"PanTool\"},{\"id\":\"d28ba45f-b03a-4196-8fa4-59de2c843ed6\",\"type\":\"WheelZoomTool\"},{\"id\":\"a2bb96ec-7193-4c12-81b9-b0123494d59d\",\"type\":\"BoxZoomTool\"},{\"id\":\"e65d178d-ef70-41ae-a9f1-7d6345bc7e28\",\"type\":\"SaveTool\"},{\"id\":\"164eb09e-087e-4b48-80cd-3399cf811eb3\",\"type\":\"ResetTool\"},{\"id\":\"d906a737-0fd6-40ae-9abc-43a1eff4187c\",\"type\":\"HelpTool\"},{\"id\":\"f4cd35b7-c2f7-4530-adfa-22ed29d50fb6\",\"type\":\"PanTool\"},{\"id\":\"2f84fdc9-e8e3-4a2c-90da-80e526b6427f\",\"type\":\"WheelZoomTool\"},{\"id\":\"8d570064-a1d5-4aa7-a210-0164c8efd16c\",\"type\":\"BoxZoomTool\"},{\"id\":\"a18573a7-eedb-4c66-8dc0-a8283d8dcaa6\",\"type\":\"SaveTool\"},{\"id\":\"bd4b944d-3290-4944-8b9b-675c198c7b5c\",\"type\":\"ResetTool\"},{\"id\":\"13c01a65-b92c-4456-972e-6da5e49a8de5\",\"type\":\"HelpTool\"}]},\"id\":\"e822d0ff-8b5b-4106-9ee2-cba451c3023c\",\"type\":\"ProxyToolbar\"},{\"attributes\":{\"data_source\":{\"id\":\"667e7b3e-ded4-40bf-9d6c-dfecba865358\",\"type\":\"ColumnDataSource\"},\"glyph\":{\"id\":\"f7fb579a-5acb-4054-9721-a8336383c595\",\"type\":\"VBar\"},\"hover_glyph\":null,\"muted_glyph\":null,\"nonselection_glyph\":{\"id\":\"e41cfee4-54d7-4ac9-a453-aa95b1a95c35\",\"type\":\"VBar\"},\"selection_glyph\":null,\"view\":{\"id\":\"213cb317-ebf5-43c6-97ea-648f39c87cc5\",\"type\":\"CDSView\"}},\"id\":\"5acdb0dd-30cf-4c09-a31d-8d996817d04d\",\"type\":\"GlyphRenderer\"},{\"attributes\":{\"dimension\":1,\"plot\":{\"id\":\"3937718f-4a8a-4c71-97cc-b1a6fb395fc0\",\"subtype\":\"Figure\",\"type\":\"Plot\"},\"ticker\":{\"id\":\"95e91ead-1378-4ddc-9e77-ab98db883b98\",\"type\":\"BasicTicker\"}},\"id\":\"856e5f35-516a-40ed-a643-3ac89f0ac5f3\",\"type\":\"Grid\"},{\"attributes\":{},\"id\":\"0255bad7-c251-48ae-814b-940f2a7986c6\",\"type\":\"LinearScale\"},{\"attributes\":{\"bottom_units\":\"screen\",\"fill_alpha\":{\"value\":0.5},\"fill_color\":{\"value\":\"lightgrey\"},\"left_units\":\"screen\",\"level\":\"overlay\",\"line_alpha\":{\"value\":1.0},\"line_color\":{\"value\":\"black\"},\"line_dash\":[4,4],\"line_width\":{\"value\":2},\"plot\":null,\"render_mode\":\"css\",\"right_units\":\"screen\",\"top_units\":\"screen\"},\"id\":\"28ec7e01-a26a-498e-8d45-1b3c404406de\",\"type\":\"BoxAnnotation\"},{\"attributes\":{},\"id\":\"662ef25c-af19-4225-89f5-a00e8b0f6bfb\",\"type\":\"UnionRenderers\"},{\"attributes\":{\"callback\":null,\"factors\":[\"1\",\"2\",\"3\",\"4\",\"5\",\"6\",\"7\",\"8\",\"9\",\"10\",\"11\"]},\"id\":\"b409d8cb-bbf6-40ed-bfc6-7678d355894d\",\"type\":\"FactorRange\"},{\"attributes\":{\"dimension\":1,\"plot\":{\"id\":\"16640e4b-d277-4e3a-b2ea-f5b2b98a6c91\",\"subtype\":\"Figure\",\"type\":\"Plot\"},\"ticker\":{\"id\":\"df7aa0aa-58fc-4fbc-be34-3afb52114ba8\",\"type\":\"BasicTicker\"}},\"id\":\"c47d6f48-704b-42ae-8c69-92bf9191681a\",\"type\":\"Grid\"},{\"attributes\":{},\"id\":\"dd115fb1-1af4-4e2b-80e6-a3ec0ae80bcc\",\"type\":\"BasicTicker\"},{\"attributes\":{\"source\":{\"id\":\"44ddf344-b945-4df6-83f1-17762c5c8054\",\"type\":\"ColumnDataSource\"}},\"id\":\"6db1d032-4140-4bd3-9d5c-1491bd7ac6ae\",\"type\":\"CDSView\"},{\"attributes\":{\"children\":[{\"id\":\"41c8320b-cc5a-46eb-8a93-e5f363cf5f37\",\"type\":\"Row\"}]},\"id\":\"db447a4b-a25d-45ca-b373-016c22aee207\",\"type\":\"Column\"},{\"attributes\":{\"fill_alpha\":{\"value\":0.1},\"fill_color\":{\"value\":\"#1f77b4\"},\"line_alpha\":{\"value\":0.1},\"line_color\":{\"value\":\"#1f77b4\"},\"top\":{\"field\":\"flux\"},\"width\":{\"value\":0.9},\"x\":{\"field\":\"band\"}},\"id\":\"df99752a-1480-4b1a-bb2e-55883df9f16c\",\"type\":\"VBar\"},{\"attributes\":{\"callback\":null,\"data\":{\"band\":[\"1\",\"2\",\"3\",\"4\",\"5\",\"6\",\"7\",\"8\",\"9\",\"10\",\"11\"],\"flux\":{\"__ndarray__\":\"gEyKZtCWxz8Aq5Dyk2rKP0B7Ss6JPdE/gPmE7LyN1j8APdLgtra0PwDak8DmHLQ/AJr+7EeKmD8AxjjazHywPwAjWXZ3U6g/gJjl8uzgpL8A36+47px8vw==\",\"dtype\":\"float64\",\"shape\":[11]}},\"selected\":{\"id\":\"e59bf37a-9508-4ac1-99f3-de07047418fa\",\"type\":\"Selection\"},\"selection_policy\":{\"id\":\"662ef25c-af19-4225-89f5-a00e8b0f6bfb\",\"type\":\"UnionRenderers\"}},\"id\":\"44ddf344-b945-4df6-83f1-17762c5c8054\",\"type\":\"ColumnDataSource\"},{\"attributes\":{},\"id\":\"e3c9bc51-d928-485d-978a-e557a2e27ee9\",\"type\":\"BasicTickFormatter\"},{\"attributes\":{\"plot\":null,\"text\":\"Atmosphere heating. CLIRAD - CRD.\"},\"id\":\"b26b024b-677c-426e-b910-72d11265634c\",\"type\":\"Title\"},{\"attributes\":{\"below\":[{\"id\":\"bd541f55-4a25-4501-b672-9f3f92067988\",\"type\":\"CategoricalAxis\"}],\"left\":[{\"id\":\"8cf4ae40-eb60-4fbf-b1f0-c159291f57ef\",\"type\":\"LinearAxis\"}],\"plot_height\":300,\"plot_width\":300,\"renderers\":[{\"id\":\"bd541f55-4a25-4501-b672-9f3f92067988\",\"type\":\"CategoricalAxis\"},{\"id\":\"a944f5c0-f359-4f54-8bf9-9b710cef6e96\",\"type\":\"Grid\"},{\"id\":\"8cf4ae40-eb60-4fbf-b1f0-c159291f57ef\",\"type\":\"LinearAxis\"},{\"id\":\"856e5f35-516a-40ed-a643-3ac89f0ac5f3\",\"type\":\"Grid\"},{\"id\":\"82942a9b-8a1e-4352-96e5-6fb7e7badf40\",\"type\":\"BoxAnnotation\"},{\"id\":\"bf573635-5cb6-427e-b657-ab1c0dcee0ff\",\"type\":\"GlyphRenderer\"}],\"title\":{\"id\":\"b26b024b-677c-426e-b910-72d11265634c\",\"type\":\"Title\"},\"toolbar\":{\"id\":\"4c9031f2-552b-4e98-b5cc-cfa289bdd3c9\",\"type\":\"Toolbar\"},\"toolbar_location\":null,\"x_range\":{\"id\":\"b409d8cb-bbf6-40ed-bfc6-7678d355894d\",\"type\":\"FactorRange\"},\"x_scale\":{\"id\":\"f7edcaa3-f990-4626-bb2b-43440b26e0ff\",\"type\":\"CategoricalScale\"},\"y_range\":{\"id\":\"0e77761e-b1b6-4a58-8667-52e73d2ca26e\",\"type\":\"DataRange1d\"},\"y_scale\":{\"id\":\"2d2a1158-8ded-45cc-9d87-ef494505a718\",\"type\":\"LinearScale\"}},\"id\":\"3937718f-4a8a-4c71-97cc-b1a6fb395fc0\",\"subtype\":\"Figure\",\"type\":\"Plot\"},{\"attributes\":{},\"id\":\"64566b7a-35f3-40b9-85e3-e94dc83b4e9d\",\"type\":\"CategoricalTicker\"},{\"attributes\":{},\"id\":\"f49775f7-e086-4a14-ad1f-c162f1973fbb\",\"type\":\"Selection\"},{\"attributes\":{\"overlay\":{\"id\":\"82942a9b-8a1e-4352-96e5-6fb7e7badf40\",\"type\":\"BoxAnnotation\"}},\"id\":\"8d570064-a1d5-4aa7-a210-0164c8efd16c\",\"type\":\"BoxZoomTool\"},{\"attributes\":{\"active_drag\":\"auto\",\"active_inspect\":\"auto\",\"active_scroll\":\"auto\",\"active_tap\":\"auto\",\"tools\":[{\"id\":\"964134ab-9510-4c7a-99c0-433bfbecac75\",\"type\":\"PanTool\"},{\"id\":\"d28ba45f-b03a-4196-8fa4-59de2c843ed6\",\"type\":\"WheelZoomTool\"},{\"id\":\"a2bb96ec-7193-4c12-81b9-b0123494d59d\",\"type\":\"BoxZoomTool\"},{\"id\":\"e65d178d-ef70-41ae-a9f1-7d6345bc7e28\",\"type\":\"SaveTool\"},{\"id\":\"164eb09e-087e-4b48-80cd-3399cf811eb3\",\"type\":\"ResetTool\"},{\"id\":\"d906a737-0fd6-40ae-9abc-43a1eff4187c\",\"type\":\"HelpTool\"}]},\"id\":\"1cf37e30-1741-4cca-b68a-d1a807577c0e\",\"type\":\"Toolbar\"},{\"attributes\":{\"axis_label\":\"flux (W m-2)\",\"formatter\":{\"id\":\"bede9970-788c-4b40-901c-12c8611d195a\",\"type\":\"BasicTickFormatter\"},\"plot\":{\"id\":\"fd8e3386-921d-41a8-a986-0052839fd128\",\"subtype\":\"Figure\",\"type\":\"Plot\"},\"ticker\":{\"id\":\"dd115fb1-1af4-4e2b-80e6-a3ec0ae80bcc\",\"type\":\"BasicTicker\"}},\"id\":\"a0443643-482b-4d60-b397-2ada12386116\",\"type\":\"LinearAxis\"},{\"attributes\":{},\"id\":\"c83f1f11-cdcd-42e8-a1df-e70b737b5b2d\",\"type\":\"CategoricalTickFormatter\"},{\"attributes\":{\"below\":[{\"id\":\"5809c1ad-7333-48c0-b474-f5424712b924\",\"type\":\"CategoricalAxis\"}],\"left\":[{\"id\":\"4bdbea84-ef92-4c4f-a0af-067de4fc462b\",\"type\":\"LinearAxis\"}],\"plot_height\":300,\"plot_width\":300,\"renderers\":[{\"id\":\"5809c1ad-7333-48c0-b474-f5424712b924\",\"type\":\"CategoricalAxis\"},{\"id\":\"7b51373b-4717-45e5-9a50-fa85c4cecad5\",\"type\":\"Grid\"},{\"id\":\"4bdbea84-ef92-4c4f-a0af-067de4fc462b\",\"type\":\"LinearAxis\"},{\"id\":\"c47d6f48-704b-42ae-8c69-92bf9191681a\",\"type\":\"Grid\"},{\"id\":\"28ec7e01-a26a-498e-8d45-1b3c404406de\",\"type\":\"BoxAnnotation\"},{\"id\":\"5acdb0dd-30cf-4c09-a31d-8d996817d04d\",\"type\":\"GlyphRenderer\"}],\"title\":{\"id\":\"3ad4f6c8-4490-492c-830f-550ae4f4029d\",\"type\":\"Title\"},\"toolbar\":{\"id\":\"de03518d-4f9d-43e0-a407-a9692f536cab\",\"type\":\"Toolbar\"},\"toolbar_location\":null,\"x_range\":{\"id\":\"5d24deb5-7636-48f4-806c-debc98bf26a1\",\"type\":\"FactorRange\"},\"x_scale\":{\"id\":\"524ede2a-6ae8-4587-9344-7eb859ee26f5\",\"type\":\"CategoricalScale\"},\"y_range\":{\"id\":\"905204cd-c72b-4ed9-8fa3-edf65766feb9\",\"type\":\"DataRange1d\"},\"y_scale\":{\"id\":\"d6a0f515-0837-4094-880d-ed90c4666dab\",\"type\":\"LinearScale\"}},\"id\":\"16640e4b-d277-4e3a-b2ea-f5b2b98a6c91\",\"subtype\":\"Figure\",\"type\":\"Plot\"},{\"attributes\":{},\"id\":\"07a696e6-86a3-4372-adca-35a6fd9ca54d\",\"type\":\"ResetTool\"},{\"attributes\":{},\"id\":\"8abbc8b1-9256-4c18-87c7-842b56836ead\",\"type\":\"BasicTickFormatter\"},{\"attributes\":{\"active_drag\":\"auto\",\"active_inspect\":\"auto\",\"active_scroll\":\"auto\",\"active_tap\":\"auto\",\"tools\":[{\"id\":\"d56c6958-6043-4bdc-bcb5-0dcf35dac9bd\",\"type\":\"PanTool\"},{\"id\":\"e8a8962b-7967-4a4a-b102-eff3d5c9667a\",\"type\":\"WheelZoomTool\"},{\"id\":\"b70faae9-a310-46cf-b56a-12c65ff02c17\",\"type\":\"BoxZoomTool\"},{\"id\":\"3f55d6de-6b38-4335-b2f0-770d7234ab50\",\"type\":\"SaveTool\"},{\"id\":\"07a696e6-86a3-4372-adca-35a6fd9ca54d\",\"type\":\"ResetTool\"},{\"id\":\"099ec0e0-6dc6-4da6-88c4-286b3793827b\",\"type\":\"HelpTool\"}]},\"id\":\"de03518d-4f9d-43e0-a407-a9692f536cab\",\"type\":\"Toolbar\"},{\"attributes\":{},\"id\":\"f7edcaa3-f990-4626-bb2b-43440b26e0ff\",\"type\":\"CategoricalScale\"},{\"attributes\":{\"overlay\":{\"id\":\"28ec7e01-a26a-498e-8d45-1b3c404406de\",\"type\":\"BoxAnnotation\"}},\"id\":\"b70faae9-a310-46cf-b56a-12c65ff02c17\",\"type\":\"BoxZoomTool\"},{\"attributes\":{\"dimension\":1,\"plot\":{\"id\":\"fd8e3386-921d-41a8-a986-0052839fd128\",\"subtype\":\"Figure\",\"type\":\"Plot\"},\"ticker\":{\"id\":\"dd115fb1-1af4-4e2b-80e6-a3ec0ae80bcc\",\"type\":\"BasicTicker\"}},\"id\":\"b4ad5050-ee45-48af-98cf-cf5add8638b1\",\"type\":\"Grid\"},{\"attributes\":{\"axis_label\":\"spectral band\",\"formatter\":{\"id\":\"c83f1f11-cdcd-42e8-a1df-e70b737b5b2d\",\"type\":\"CategoricalTickFormatter\"},\"plot\":{\"id\":\"3937718f-4a8a-4c71-97cc-b1a6fb395fc0\",\"subtype\":\"Figure\",\"type\":\"Plot\"},\"ticker\":{\"id\":\"85790ca0-655e-45b7-8c7a-0e83a2ad2659\",\"type\":\"CategoricalTicker\"}},\"id\":\"bd541f55-4a25-4501-b672-9f3f92067988\",\"type\":\"CategoricalAxis\"},{\"attributes\":{\"active_drag\":\"auto\",\"active_inspect\":\"auto\",\"active_scroll\":\"auto\",\"active_tap\":\"auto\",\"tools\":[{\"id\":\"f4cd35b7-c2f7-4530-adfa-22ed29d50fb6\",\"type\":\"PanTool\"},{\"id\":\"2f84fdc9-e8e3-4a2c-90da-80e526b6427f\",\"type\":\"WheelZoomTool\"},{\"id\":\"8d570064-a1d5-4aa7-a210-0164c8efd16c\",\"type\":\"BoxZoomTool\"},{\"id\":\"a18573a7-eedb-4c66-8dc0-a8283d8dcaa6\",\"type\":\"SaveTool\"},{\"id\":\"bd4b944d-3290-4944-8b9b-675c198c7b5c\",\"type\":\"ResetTool\"},{\"id\":\"13c01a65-b92c-4456-972e-6da5e49a8de5\",\"type\":\"HelpTool\"}]},\"id\":\"4c9031f2-552b-4e98-b5cc-cfa289bdd3c9\",\"type\":\"Toolbar\"},{\"attributes\":{},\"id\":\"edade88f-a269-49f2-ad48-9ee5b12159b9\",\"type\":\"UnionRenderers\"},{\"attributes\":{},\"id\":\"13c01a65-b92c-4456-972e-6da5e49a8de5\",\"type\":\"HelpTool\"},{\"attributes\":{\"fill_alpha\":{\"value\":0.1},\"fill_color\":{\"value\":\"#1f77b4\"},\"line_alpha\":{\"value\":0.1},\"line_color\":{\"value\":\"#1f77b4\"},\"top\":{\"field\":\"flux\"},\"width\":{\"value\":0.9},\"x\":{\"field\":\"band\"}},\"id\":\"fa55478c-5bc2-4a5b-b053-0abc543b63fa\",\"type\":\"VBar\"},{\"attributes\":{},\"id\":\"e1ecf141-9abb-4b79-bf28-bf6d6d8095c8\",\"type\":\"CategoricalScale\"},{\"attributes\":{\"children\":[{\"id\":\"16640e4b-d277-4e3a-b2ea-f5b2b98a6c91\",\"subtype\":\"Figure\",\"type\":\"Plot\"},{\"id\":\"fd8e3386-921d-41a8-a986-0052839fd128\",\"subtype\":\"Figure\",\"type\":\"Plot\"},{\"id\":\"3937718f-4a8a-4c71-97cc-b1a6fb395fc0\",\"subtype\":\"Figure\",\"type\":\"Plot\"}]},\"id\":\"41c8320b-cc5a-46eb-8a93-e5f363cf5f37\",\"type\":\"Row\"},{\"attributes\":{},\"id\":\"3f55d6de-6b38-4335-b2f0-770d7234ab50\",\"type\":\"SaveTool\"},{\"attributes\":{},\"id\":\"f4cd35b7-c2f7-4530-adfa-22ed29d50fb6\",\"type\":\"PanTool\"},{\"attributes\":{},\"id\":\"df7aa0aa-58fc-4fbc-be34-3afb52114ba8\",\"type\":\"BasicTicker\"},{\"attributes\":{},\"id\":\"6501aafc-ea1e-4d75-8821-6edd1e0bb833\",\"type\":\"CategoricalTickFormatter\"},{\"attributes\":{\"plot\":{\"id\":\"16640e4b-d277-4e3a-b2ea-f5b2b98a6c91\",\"subtype\":\"Figure\",\"type\":\"Plot\"},\"ticker\":{\"id\":\"64566b7a-35f3-40b9-85e3-e94dc83b4e9d\",\"type\":\"CategoricalTicker\"}},\"id\":\"7b51373b-4717-45e5-9a50-fa85c4cecad5\",\"type\":\"Grid\"},{\"attributes\":{\"toolbar\":{\"id\":\"e822d0ff-8b5b-4106-9ee2-cba451c3023c\",\"type\":\"ProxyToolbar\"},\"toolbar_location\":\"above\"},\"id\":\"275608f8-4c4e-41dc-8a86-dfa076f00a03\",\"type\":\"ToolbarBox\"},{\"attributes\":{},\"id\":\"d6a0f515-0837-4094-880d-ed90c4666dab\",\"type\":\"LinearScale\"},{\"attributes\":{},\"id\":\"46fbc79e-3151-465b-a4ef-13733ff5d772\",\"type\":\"CategoricalTickFormatter\"},{\"attributes\":{},\"id\":\"2f84fdc9-e8e3-4a2c-90da-80e526b6427f\",\"type\":\"WheelZoomTool\"},{\"attributes\":{},\"id\":\"e65d178d-ef70-41ae-a9f1-7d6345bc7e28\",\"type\":\"SaveTool\"},{\"attributes\":{\"callback\":null,\"factors\":[\"1\",\"2\",\"3\",\"4\",\"5\",\"6\",\"7\",\"8\",\"9\",\"10\",\"11\"]},\"id\":\"b6091e24-16db-4499-818f-b7d3ad9c3102\",\"type\":\"FactorRange\"},{\"attributes\":{\"callback\":null},\"id\":\"51473370-053a-4099-9fc6-6e462db5a759\",\"type\":\"DataRange1d\"},{\"attributes\":{},\"id\":\"bd4b944d-3290-4944-8b9b-675c198c7b5c\",\"type\":\"ResetTool\"},{\"attributes\":{\"plot\":null,\"text\":\"TOA flux. CLIRAD - CRD.\"},\"id\":\"3ad4f6c8-4490-492c-830f-550ae4f4029d\",\"type\":\"Title\"},{\"attributes\":{\"callback\":null},\"id\":\"905204cd-c72b-4ed9-8fa3-edf65766feb9\",\"type\":\"DataRange1d\"},{\"attributes\":{\"fill_color\":{\"value\":\"#1f77b4\"},\"line_color\":{\"value\":\"#1f77b4\"},\"top\":{\"field\":\"flux\"},\"width\":{\"value\":0.9},\"x\":{\"field\":\"band\"}},\"id\":\"cd3d8b15-1ed4-49f2-b023-4532925dbec2\",\"type\":\"VBar\"},{\"attributes\":{},\"id\":\"164eb09e-087e-4b48-80cd-3399cf811eb3\",\"type\":\"ResetTool\"},{\"attributes\":{\"fill_color\":{\"value\":\"#1f77b4\"},\"line_color\":{\"value\":\"#1f77b4\"},\"top\":{\"field\":\"flux\"},\"width\":{\"value\":0.9},\"x\":{\"field\":\"band\"}},\"id\":\"f7fb579a-5acb-4054-9721-a8336383c595\",\"type\":\"VBar\"},{\"attributes\":{\"axis_label\":\"spectral band\",\"formatter\":{\"id\":\"6501aafc-ea1e-4d75-8821-6edd1e0bb833\",\"type\":\"CategoricalTickFormatter\"},\"plot\":{\"id\":\"fd8e3386-921d-41a8-a986-0052839fd128\",\"subtype\":\"Figure\",\"type\":\"Plot\"},\"ticker\":{\"id\":\"b0726370-9e60-46c3-b5b3-75bb36b11636\",\"type\":\"CategoricalTicker\"}},\"id\":\"17e137be-7015-4a99-8615-0bb728cff1a9\",\"type\":\"CategoricalAxis\"},{\"attributes\":{},\"id\":\"e59bf37a-9508-4ac1-99f3-de07047418fa\",\"type\":\"Selection\"},{\"attributes\":{\"children\":[{\"id\":\"275608f8-4c4e-41dc-8a86-dfa076f00a03\",\"type\":\"ToolbarBox\"},{\"id\":\"db447a4b-a25d-45ca-b373-016c22aee207\",\"type\":\"Column\"}]},\"id\":\"b632d775-c83d-49f8-a6d1-48de5b7340b1\",\"type\":\"Column\"},{\"attributes\":{},\"id\":\"e8a8962b-7967-4a4a-b102-eff3d5c9667a\",\"type\":\"WheelZoomTool\"},{\"attributes\":{\"axis_label\":\"spectral band\",\"formatter\":{\"id\":\"46fbc79e-3151-465b-a4ef-13733ff5d772\",\"type\":\"CategoricalTickFormatter\"},\"plot\":{\"id\":\"16640e4b-d277-4e3a-b2ea-f5b2b98a6c91\",\"subtype\":\"Figure\",\"type\":\"Plot\"},\"ticker\":{\"id\":\"64566b7a-35f3-40b9-85e3-e94dc83b4e9d\",\"type\":\"CategoricalTicker\"}},\"id\":\"5809c1ad-7333-48c0-b474-f5424712b924\",\"type\":\"CategoricalAxis\"},{\"attributes\":{},\"id\":\"a18573a7-eedb-4c66-8dc0-a8283d8dcaa6\",\"type\":\"SaveTool\"},{\"attributes\":{\"below\":[{\"id\":\"17e137be-7015-4a99-8615-0bb728cff1a9\",\"type\":\"CategoricalAxis\"}],\"left\":[{\"id\":\"a0443643-482b-4d60-b397-2ada12386116\",\"type\":\"LinearAxis\"}],\"plot_height\":300,\"plot_width\":300,\"renderers\":[{\"id\":\"17e137be-7015-4a99-8615-0bb728cff1a9\",\"type\":\"CategoricalAxis\"},{\"id\":\"82256c55-9d47-4954-991c-03ee7fe3b3b1\",\"type\":\"Grid\"},{\"id\":\"a0443643-482b-4d60-b397-2ada12386116\",\"type\":\"LinearAxis\"},{\"id\":\"b4ad5050-ee45-48af-98cf-cf5add8638b1\",\"type\":\"Grid\"},{\"id\":\"8ca04096-a038-4b7c-80b9-521dc048e064\",\"type\":\"BoxAnnotation\"},{\"id\":\"c187c8a6-daef-4614-b6a6-85c18b7e729d\",\"type\":\"GlyphRenderer\"}],\"title\":{\"id\":\"9b6f42e7-5ddf-4089-bdae-edbb51dbfe54\",\"type\":\"Title\"},\"toolbar\":{\"id\":\"1cf37e30-1741-4cca-b68a-d1a807577c0e\",\"type\":\"Toolbar\"},\"toolbar_location\":null,\"x_range\":{\"id\":\"b6091e24-16db-4499-818f-b7d3ad9c3102\",\"type\":\"FactorRange\"},\"x_scale\":{\"id\":\"e1ecf141-9abb-4b79-bf28-bf6d6d8095c8\",\"type\":\"CategoricalScale\"},\"y_range\":{\"id\":\"51473370-053a-4099-9fc6-6e462db5a759\",\"type\":\"DataRange1d\"},\"y_scale\":{\"id\":\"0255bad7-c251-48ae-814b-940f2a7986c6\",\"type\":\"LinearScale\"}},\"id\":\"fd8e3386-921d-41a8-a986-0052839fd128\",\"subtype\":\"Figure\",\"type\":\"Plot\"},{\"attributes\":{\"fill_alpha\":{\"value\":0.1},\"fill_color\":{\"value\":\"#1f77b4\"},\"line_alpha\":{\"value\":0.1},\"line_color\":{\"value\":\"#1f77b4\"},\"top\":{\"field\":\"flux\"},\"width\":{\"value\":0.9},\"x\":{\"field\":\"band\"}},\"id\":\"e41cfee4-54d7-4ac9-a453-aa95b1a95c35\",\"type\":\"VBar\"},{\"attributes\":{},\"id\":\"bede9970-788c-4b40-901c-12c8611d195a\",\"type\":\"BasicTickFormatter\"},{\"attributes\":{},\"id\":\"964134ab-9510-4c7a-99c0-433bfbecac75\",\"type\":\"PanTool\"},{\"attributes\":{\"source\":{\"id\":\"89d0ad64-6859-4c29-990b-f7b98e9479e9\",\"type\":\"ColumnDataSource\"}},\"id\":\"152e2ebf-0963-4f7a-b302-e31d13131ac6\",\"type\":\"CDSView\"},{\"attributes\":{},\"id\":\"95e91ead-1378-4ddc-9e77-ab98db883b98\",\"type\":\"BasicTicker\"},{\"attributes\":{},\"id\":\"cbdde536-feb4-42c7-86c7-c5eb4cc09509\",\"type\":\"UnionRenderers\"},{\"attributes\":{},\"id\":\"88f57fe2-5969-4bea-847d-7ec77daec149\",\"type\":\"Selection\"},{\"attributes\":{},\"id\":\"b0726370-9e60-46c3-b5b3-75bb36b11636\",\"type\":\"CategoricalTicker\"},{\"attributes\":{\"axis_label\":\"flux (W m-2)\",\"formatter\":{\"id\":\"e3c9bc51-d928-485d-978a-e557a2e27ee9\",\"type\":\"BasicTickFormatter\"},\"plot\":{\"id\":\"16640e4b-d277-4e3a-b2ea-f5b2b98a6c91\",\"subtype\":\"Figure\",\"type\":\"Plot\"},\"ticker\":{\"id\":\"df7aa0aa-58fc-4fbc-be34-3afb52114ba8\",\"type\":\"BasicTicker\"}},\"id\":\"4bdbea84-ef92-4c4f-a0af-067de4fc462b\",\"type\":\"LinearAxis\"},{\"attributes\":{},\"id\":\"2d2a1158-8ded-45cc-9d87-ef494505a718\",\"type\":\"LinearScale\"},{\"attributes\":{},\"id\":\"d906a737-0fd6-40ae-9abc-43a1eff4187c\",\"type\":\"HelpTool\"},{\"attributes\":{\"fill_color\":{\"value\":\"#1f77b4\"},\"line_color\":{\"value\":\"#1f77b4\"},\"top\":{\"field\":\"flux\"},\"width\":{\"value\":0.9},\"x\":{\"field\":\"band\"}},\"id\":\"191d2b39-2336-43fa-8e22-e5757de38377\",\"type\":\"VBar\"},{\"attributes\":{\"plot\":{\"id\":\"3937718f-4a8a-4c71-97cc-b1a6fb395fc0\",\"subtype\":\"Figure\",\"type\":\"Plot\"},\"ticker\":{\"id\":\"85790ca0-655e-45b7-8c7a-0e83a2ad2659\",\"type\":\"CategoricalTicker\"}},\"id\":\"a944f5c0-f359-4f54-8bf9-9b710cef6e96\",\"type\":\"Grid\"}],\"root_ids\":[\"b632d775-c83d-49f8-a6d1-48de5b7340b1\"]},\"title\":\"Bokeh Application\",\"version\":\"0.12.16\"}};\n",
       "  var render_items = [{\"docid\":\"83eba3c6-ea12-4033-9754-1bda7526cabe\",\"elementid\":\"e30927d7-acc6-47c2-837d-bd55751b6164\",\"modelid\":\"b632d775-c83d-49f8-a6d1-48de5b7340b1\"}];\n",
       "  root.Bokeh.embed.embed_items_notebook(docs_json, render_items);\n",
       "\n",
       "  }\n",
       "  if (root.Bokeh !== undefined) {\n",
       "    embed_document(root);\n",
       "  } else {\n",
       "    var attempts = 0;\n",
       "    var timer = setInterval(function(root) {\n",
       "      if (root.Bokeh !== undefined) {\n",
       "        embed_document(root);\n",
       "        clearInterval(timer);\n",
       "      }\n",
       "      attempts++;\n",
       "      if (attempts > 100) {\n",
       "        console.log(\"Bokeh: ERROR: Unable to run BokehJS code because BokehJS library is missing\")\n",
       "        clearInterval(timer);\n",
       "      }\n",
       "    }, 10, root)\n",
       "  }\n",
       "})(window);"
      ],
      "application/vnd.bokehjs_exec.v0+json": ""
     },
     "metadata": {
      "application/vnd.bokehjs_exec.v0+json": {
       "id": "b632d775-c83d-49f8-a6d1-48de5b7340b1"
      }
     },
     "output_type": "display_data"
    },
    {
     "data": {
      "text/markdown": [
       "*FIGURE.* Difference between CLIRAD and CRD in TOA, SFC and net atmosphere flux, in each spectral band."
      ],
      "text/plain": [
       "<IPython.core.display.Markdown object>"
      ]
     },
     "metadata": {},
     "output_type": "display_data"
    },
    {
     "data": {
      "text/html": [
       "<div>\n",
       "<style scoped>\n",
       "    .dataframe tbody tr th:only-of-type {\n",
       "        vertical-align: middle;\n",
       "    }\n",
       "\n",
       "    .dataframe tbody tr th {\n",
       "        vertical-align: top;\n",
       "    }\n",
       "\n",
       "    .dataframe thead th {\n",
       "        text-align: right;\n",
       "    }\n",
       "</style>\n",
       "<table border=\"1\" class=\"dataframe\">\n",
       "  <thead>\n",
       "    <tr style=\"text-align: right;\">\n",
       "      <th></th>\n",
       "      <th>OLR flux</th>\n",
       "      <th>SFC flux</th>\n",
       "      <th>ATM heating</th>\n",
       "    </tr>\n",
       "    <tr>\n",
       "      <th>Sum over bands</th>\n",
       "      <th></th>\n",
       "      <th></th>\n",
       "      <th></th>\n",
       "    </tr>\n",
       "  </thead>\n",
       "  <tbody>\n",
       "    <tr>\n",
       "      <th>CLIRAD - CRD</th>\n",
       "      <td>0.07</td>\n",
       "      <td>-1.19</td>\n",
       "      <td>1.26</td>\n",
       "    </tr>\n",
       "    <tr>\n",
       "      <th>CRD</th>\n",
       "      <td>-224.58</td>\n",
       "      <td>127.40</td>\n",
       "      <td>-104.56</td>\n",
       "    </tr>\n",
       "  </tbody>\n",
       "</table>\n",
       "</div>"
      ],
      "text/plain": [
       "                OLR flux  SFC flux  ATM heating\n",
       "Sum over bands                                 \n",
       "CLIRAD - CRD        0.07     -1.19         1.26\n",
       "CRD              -224.58    127.40      -104.56"
      ]
     },
     "metadata": {},
     "output_type": "display_data"
    },
    {
     "data": {
      "text/markdown": [
       "*TABLE.* Difference between CLIRAD and CRD in TOA, SFC and net atmosphere flux, over all spectral bands. CRD's TOA, SFC and net atmosphere flux, over all spectral bands."
      ],
      "text/plain": [
       "<IPython.core.display.Markdown object>"
      ]
     },
     "metadata": {},
     "output_type": "display_data"
    },
    {
     "data": {
      "text/html": [
       "<a id=\"Cooling_rates._trp.\"></a>"
      ],
      "text/plain": [
       "<IPython.core.display.HTML object>"
      ]
     },
     "metadata": {},
     "output_type": "display_data"
    },
    {
     "data": {
      "text/markdown": [
       "# Cooling rates. trp."
      ],
      "text/plain": [
       "<IPython.core.display.Markdown object>"
      ]
     },
     "metadata": {},
     "output_type": "display_data"
    },
    {
     "data": {
      "text/html": [
       "\n",
       "<div class=\"bk-root\">\n",
       "    <div class=\"bk-plotdiv\" id=\"35950b00-bdee-4c33-962c-2409e0ac8710\"></div>\n",
       "</div>"
      ]
     },
     "metadata": {},
     "output_type": "display_data"
    },
    {
     "data": {
      "application/javascript": [
       "(function(root) {\n",
       "  function embed_document(root) {\n",
       "    \n",
       "  var docs_json = {\"b75f4803-1c5a-4cfd-911a-dcf2b4444d37\":{\"roots\":{\"references\":[{\"attributes\":{\"bottom_units\":\"screen\",\"fill_alpha\":{\"value\":0.5},\"fill_color\":{\"value\":\"lightgrey\"},\"left_units\":\"screen\",\"level\":\"overlay\",\"line_alpha\":{\"value\":1.0},\"line_color\":{\"value\":\"black\"},\"line_dash\":[4,4],\"line_width\":{\"value\":2},\"plot\":null,\"render_mode\":\"css\",\"right_units\":\"screen\",\"top_units\":\"screen\"},\"id\":\"2e5e2911-eb94-4274-91b8-5423714d55e3\",\"type\":\"BoxAnnotation\"},{\"attributes\":{},\"id\":\"0feed640-ba5c-4738-8bfe-e3c5a187bddf\",\"type\":\"SaveTool\"},{\"attributes\":{\"source\":{\"id\":\"f72c6aa8-976e-4c50-b526-ecd0ca7de152\",\"type\":\"ColumnDataSource\"}},\"id\":\"7400f1c6-a301-4ccd-af81-c3d954a24bb7\",\"type\":\"CDSView\"},{\"attributes\":{},\"id\":\"5666968f-4fe9-4f3d-8f4a-6c8722f23e3a\",\"type\":\"HelpTool\"},{\"attributes\":{\"axis_label\":\"pressure [mb]\",\"formatter\":{\"id\":\"dba1511e-8ce0-4e5f-bb23-8dba9a925475\",\"type\":\"LogTickFormatter\"},\"plot\":{\"id\":\"8acdd64e-edb3-43e9-9f0b-5414d0def679\",\"subtype\":\"Figure\",\"type\":\"Plot\"},\"ticker\":{\"id\":\"fe85b7f6-b413-4061-8c14-af9cb153f894\",\"type\":\"LogTicker\"}},\"id\":\"50347435-1b7e-4cab-9924-f1ee2668faa6\",\"type\":\"LogAxis\"},{\"attributes\":{},\"id\":\"9b084c07-5bef-49ed-b914-f0218f16e8f2\",\"type\":\"ResetTool\"},{\"attributes\":{\"callback\":null,\"data\":{\"x\":{\"__ndarray__\":\"W2LS03H8CEAkcDN2aZ0HQOlaoL0cBAdAZR3GEYcWBkB2nSJW+MIEQOYsPqMZ/QJA3Om/KgbIAECea8RWIXv8P0OO86pMLPc/ozy3+lRI8j8FXGdJS8HsP6L+8WD5Iec/COwUHvbT4j+IkrTWNwfdP1mQXFp3aNg/Ol2qo6iF2T+NlE++yfLbP1V7CbR4E98/jT0AkZQG4j96SgszpHHlP5Uwrcx28+k/qe7Nubaj7z8Yzvds3DTwP+Evd4TIBO0/hJfrol8p6j8HsgwHoJjmP3rybxhz3eM/hOKLCFNw4T9cDl4iv7nePyPwinNvLdw/qVn6J/Rn2j/FvofQBAXYPxpmRktnGdY/lt2c3KdF1D/7H94udCDQPweAsVY7x8M/H1Ao2IoPsz+HYK9z2Ji1PwLViggr9cM/NO5nQ5CmzT9va0SQWarZPyBrtjHJJOw/jEdHojgC9j/pwr8Uw8n8P6jf6SWDRwBAYMR5fF/QAEA71X+oxI0BQFRpMyF5ngFAAVhBMYZzAED/SXB07uX/P5QZazh8vv8/flyi/fPE/z+Yr18wd/L/Py4qGIyH//8/ntC7Fsw0AEBtMc90tWwAQJSZg0bG0gBAD/XAae9DAUAwDX2XXagBQK2oEnwL+wFAZGATVZw/AkDCUl3Ay2wCQKedJb6WRAJA07aedxy0AkC6a17UNCgCQB/m7z/pVgFApFMO1tWYAEAgT1wp4yL/PzHLBcOFqP0/YSJtwRzW/D8+Owy/kMz8PxrTQHk6Hf0/SfBMiaD1/T+mHaHgDur/P6klwivuiAVA\",\"dtype\":\"float64\",\"shape\":[75]},\"y\":{\"__ndarray__\":\"GhExyth1ND/Sv8nbtpRIP2vylNV0PVE/aTum7souWD/At0SJ8fVgPw3Iuahxymc/MSNhhJWvcD/bTfBN02d3P2zb5nxnaoA/CD5h5MAGhz8NmeH1TyaQP+zrCsc9p5Y/LbKd76fGnz/bLW5ISEmmPww9YvTcQq8/JV2OstnstT8Er5Y7M8G+P0c+r3jqkcU/5h99k6ZBzj88bCIzFzjVP4enV8oyxN0//yH99nXg5D8qOpLLf0jtP5kqGJXUifQ/c9cS8kHP/D+/DpwzojQEQIEmwoanVwxA4lgXt9HgE0BSSZ2AJuIbQAMJih9jjiNA5q4l5INuK0AwTKYKRj0zQNv5fmq8/DpAaCJseHrtQkB/+zpwzoxKQM3MzMzMeFJAZmZmZmZqWEAAAAAAAFxeQM3MzMzMJmJAmpmZmZkfZUBmZmZmZhhoQDMzMzMzEWtAAAAAAAAKbkBmZmZmZoFwQM3MzMzM/XFAMzMzMzN6c0CamZmZmfZ0QAAAAAAAc3ZAZmZmZmbvd0DNzMzMzGt5QDMzMzMz6HpAmpmZmZlkfEAAAAAAAOF9QGZmZmZmXX9AZmZmZuZsgECamZmZGSuBQM3MzMxM6YFAAAAAAICngkAzMzMzs2WDQGZmZmbmI4RAmpmZmRnihEDNzMzMTKCFQAAAAACAXoZAMzMzM7Mch0BmZmZm5tqHQJqZmZkZmYhAzczMzExXiUAAAAAAgBWKQDMzMzOz04pAZmZmZuaRi0CamZmZGVCMQM3MzMxMDo1AAAAAAIDMjUAzMzMzs4qOQGZmZmbmSI9A\",\"dtype\":\"float64\",\"shape\":[75]}},\"selected\":{\"id\":\"035e45c5-b39f-4e7d-ba1f-1680c5f0ede2\",\"type\":\"Selection\"},\"selection_policy\":{\"id\":\"ce381c4b-183a-4bbc-9a96-51a65cc25070\",\"type\":\"UnionRenderers\"}},\"id\":\"f72c6aa8-976e-4c50-b526-ecd0ca7de152\",\"type\":\"ColumnDataSource\"},{\"attributes\":{},\"id\":\"8639d1e0-7889-4ed6-832a-62409fce23e6\",\"type\":\"LinearScale\"},{\"attributes\":{},\"id\":\"a40f54f9-a8dd-4ab8-a076-1a46039489e9\",\"type\":\"Selection\"},{\"attributes\":{\"overlay\":{\"id\":\"f1953693-044c-4d57-acef-d81431f7ae5e\",\"type\":\"BoxAnnotation\"}},\"id\":\"9e094c23-598f-4119-a172-f9746fb0c20d\",\"type\":\"BoxZoomTool\"},{\"attributes\":{\"axis_label\":\"pressure [mb]\",\"formatter\":{\"id\":\"d994cf79-1627-41c4-8d99-8aec8d66d5c3\",\"type\":\"LogTickFormatter\"},\"plot\":{\"id\":\"b554ffd3-67b5-4066-8407-17896e1d5793\",\"subtype\":\"Figure\",\"type\":\"Plot\"},\"ticker\":{\"id\":\"272d8141-1e61-4286-b81e-ce62da119803\",\"type\":\"LogTicker\"}},\"id\":\"1fba9c8d-b066-4557-875f-c225e9c0add2\",\"type\":\"LogAxis\"},{\"attributes\":{\"label\":{\"value\":\"CRD\"},\"renderers\":[{\"id\":\"a54ab400-0a17-4be0-b1a5-ce4ae3ae9700\",\"type\":\"GlyphRenderer\"},{\"id\":\"0d2e8d97-1c7b-4dd4-925c-f2d7f53d1b1c\",\"type\":\"GlyphRenderer\"}]},\"id\":\"0aae216d-3d49-4e55-9744-5e00b7503513\",\"type\":\"LegendItem\"},{\"attributes\":{\"callback\":null,\"end\":0.01,\"start\":1020},\"id\":\"0df726ef-39c2-4d0e-b4b4-361cfe5ca81c\",\"type\":\"Range1d\"},{\"attributes\":{\"axis_label\":\"pressure [mb]\",\"formatter\":{\"id\":\"fb24092e-607e-4826-a106-9f55082e42a7\",\"type\":\"BasicTickFormatter\"},\"plot\":{\"id\":\"650a8e11-c604-49a1-88b5-688d9f37511a\",\"subtype\":\"Figure\",\"type\":\"Plot\"},\"ticker\":{\"id\":\"216ccbb3-be90-418b-bd14-b167bea0dcdb\",\"type\":\"BasicTicker\"}},\"id\":\"5031de1f-80c9-4d8f-8e69-e764764c6d7d\",\"type\":\"LinearAxis\"},{\"attributes\":{\"overlay\":{\"id\":\"2e5e2911-eb94-4274-91b8-5423714d55e3\",\"type\":\"BoxAnnotation\"}},\"id\":\"2ae90720-ebbd-4b3a-9425-b140d9489c2b\",\"type\":\"BoxZoomTool\"},{\"attributes\":{\"axis_label\":\"cooling rate [K/day]\",\"formatter\":{\"id\":\"bb02f5b1-1bc9-4e3e-8706-23e46ab31fed\",\"type\":\"BasicTickFormatter\"},\"plot\":{\"id\":\"650a8e11-c604-49a1-88b5-688d9f37511a\",\"subtype\":\"Figure\",\"type\":\"Plot\"},\"ticker\":{\"id\":\"8772fbb1-3e1e-41ad-9fb5-6a0b44db4f26\",\"type\":\"BasicTicker\"}},\"id\":\"95cf0cf6-ea05-4c48-a480-dc9be987bcfe\",\"type\":\"LinearAxis\"},{\"attributes\":{\"axis_label\":\"cooling rate [K/day]\",\"formatter\":{\"id\":\"724520d2-934c-45b2-b91d-7e3f8f74ba6f\",\"type\":\"BasicTickFormatter\"},\"plot\":{\"id\":\"b554ffd3-67b5-4066-8407-17896e1d5793\",\"subtype\":\"Figure\",\"type\":\"Plot\"},\"ticker\":{\"id\":\"156b2331-0f45-43e4-9c11-3e2a27fd0919\",\"type\":\"BasicTicker\"}},\"id\":\"9514a5e1-d2cb-4fd5-b721-9638052f12b1\",\"type\":\"LinearAxis\"},{\"attributes\":{},\"id\":\"c68abd21-3f3a-403a-bd19-830100ad4fe7\",\"type\":\"HelpTool\"},{\"attributes\":{\"plot\":{\"id\":\"650a8e11-c604-49a1-88b5-688d9f37511a\",\"subtype\":\"Figure\",\"type\":\"Plot\"},\"ticker\":{\"id\":\"8772fbb1-3e1e-41ad-9fb5-6a0b44db4f26\",\"type\":\"BasicTicker\"}},\"id\":\"f8d3bd6f-3a73-4f65-ad5d-dff88ed5b4be\",\"type\":\"Grid\"},{\"attributes\":{},\"id\":\"8772fbb1-3e1e-41ad-9fb5-6a0b44db4f26\",\"type\":\"BasicTicker\"},{\"attributes\":{\"plot\":{\"id\":\"b554ffd3-67b5-4066-8407-17896e1d5793\",\"subtype\":\"Figure\",\"type\":\"Plot\"},\"ticker\":{\"id\":\"156b2331-0f45-43e4-9c11-3e2a27fd0919\",\"type\":\"BasicTicker\"}},\"id\":\"1301aa1a-ad33-4228-9b0d-72d736c71163\",\"type\":\"Grid\"},{\"attributes\":{},\"id\":\"1e26bac1-f700-4f88-a1cd-ff4447c563eb\",\"type\":\"WheelZoomTool\"},{\"attributes\":{\"callback\":null,\"data\":{\"x\":{\"__ndarray__\":\"DhA6LgnuFUCOA6cWwXwRQIaSu1M4xA9AQAMEgvhdDEC3Zrtdq+oIQEeVrsxZkgVAl3MNK5VwAkAWLN9WfSj/PxV9u9to/vk/+oeSRnJd9T82OzktEz/xPzr8qP+HL+s/YydxAkqX5D+Pm3Jg8rfcP46pznHNAtc/bNCy2KWL2T8pnB/8X77dP9htcjpZ1+A/7+kP1Asp4z80e1SU7DHmPxAmBhFnpuo/Jqoyz2Re8D+JK70rS4XwP9z5UfKnfOw/H97+PDWp6D/D5C1ywRblP9hLP3sTrOI/m/ZvUSsJ4T/F063RH3HfP93Oesp+FN0/4XgRyajT2j+IdsTWTZnYPwjJ1PcbY9Y/iU9V0T9W1D/sHOF8VJzQP1QtjO0um8U/6bQ0ZYxYuD/1J4P3Y6W7Pxxm+NtS6MY/WzYxcikz0D9lsFArPhXbP7MLVBpdtuw/aXNnQeld9j/WGMFEFND8P3WwpsFjdABAZYJA3Vx+AUAqPFXzIO8BQHD8WV5e3wFAdjsNZSDrAEDjiXh3c3IAQJO6SqN8MQBAk9nLt/gRAEDEkhDyow8AQFNqhDRiJQBAGHEQ3OBYAECV8j60rZkAQOjBZLiv3QBAIKnC9eEeAUCuZJcNClkBQDuBsws7nQFA1sT9pRf1AUCGQUVHBUUCQMOa3IVsQAJAzZGQpkyiAkB9mDR73fIBQCCu/qw87ABAt+FhpfwHAEAI+LIQxM39P/FRyNyYZfw/EHNomRWu+z+Opg6laGX7P51uIx3afvs/39nOmgcL/D/KA59Lol79P6/0U3x5HgRA\",\"dtype\":\"float64\",\"shape\":[75]},\"y\":{\"__ndarray__\":\"GhExyth1ND/Sv8nbtpRIP2vylNV0PVE/aTum7souWD/At0SJ8fVgPw3Iuahxymc/MSNhhJWvcD/bTfBN02d3P2zb5nxnaoA/CD5h5MAGhz8NmeH1TyaQP+zrCsc9p5Y/LbKd76fGnz/bLW5ISEmmPww9YvTcQq8/JV2OstnstT8Er5Y7M8G+P0c+r3jqkcU/5h99k6ZBzj88bCIzFzjVP4enV8oyxN0//yH99nXg5D8qOpLLf0jtP5kqGJXUifQ/c9cS8kHP/D+/DpwzojQEQIEmwoanVwxA4lgXt9HgE0BSSZ2AJuIbQAMJih9jjiNA5q4l5INuK0AwTKYKRj0zQNv5fmq8/DpAaCJseHrtQkB/+zpwzoxKQM3MzMzMeFJAZmZmZmZqWEAAAAAAAFxeQM3MzMzMJmJAmpmZmZkfZUBmZmZmZhhoQDMzMzMzEWtAAAAAAAAKbkBmZmZmZoFwQM3MzMzM/XFAMzMzMzN6c0CamZmZmfZ0QAAAAAAAc3ZAZmZmZmbvd0DNzMzMzGt5QDMzMzMz6HpAmpmZmZlkfEAAAAAAAOF9QGZmZmZmXX9AZmZmZuZsgECamZmZGSuBQM3MzMxM6YFAAAAAAICngkAzMzMzs2WDQGZmZmbmI4RAmpmZmRnihEDNzMzMTKCFQAAAAACAXoZAMzMzM7Mch0BmZmZm5tqHQJqZmZkZmYhAzczMzExXiUAAAAAAgBWKQDMzMzOz04pAZmZmZuaRi0CamZmZGVCMQM3MzMxMDo1AAAAAAIDMjUAzMzMzs4qOQGZmZmbmSI9A\",\"dtype\":\"float64\",\"shape\":[75]}},\"selected\":{\"id\":\"8b8a97dc-668d-4aee-9651-5965da3aee64\",\"type\":\"Selection\"},\"selection_policy\":{\"id\":\"0b804c13-b918-483b-a30c-5999e446f908\",\"type\":\"UnionRenderers\"}},\"id\":\"78be9c18-81a3-4908-a477-ddd4aa716563\",\"type\":\"ColumnDataSource\"},{\"attributes\":{},\"id\":\"216ccbb3-be90-418b-bd14-b167bea0dcdb\",\"type\":\"BasicTicker\"},{\"attributes\":{},\"id\":\"bfa9c054-abe8-49b8-9594-25ea049ff222\",\"type\":\"PanTool\"},{\"attributes\":{},\"id\":\"0fd1b0e6-174f-4fe2-9b82-1c89ed82ab56\",\"type\":\"SaveTool\"},{\"attributes\":{},\"id\":\"111d188a-137b-4e07-9675-3d0efd27fbaa\",\"type\":\"PanTool\"},{\"attributes\":{},\"id\":\"f4e38c9b-f7ce-405f-9edf-726cbf79c6c6\",\"type\":\"LogScale\"},{\"attributes\":{\"line_alpha\":0.1,\"line_color\":\"#1f77b4\",\"line_dash\":[6],\"line_width\":5,\"x\":{\"field\":\"x\"},\"y\":{\"field\":\"y\"}},\"id\":\"3f134dd9-acf2-49f9-b15c-4724f3eef5a2\",\"type\":\"Line\"},{\"attributes\":{\"label\":{\"value\":\"CRD\"},\"renderers\":[{\"id\":\"3504c712-2118-4651-b520-eb768314c07f\",\"type\":\"GlyphRenderer\"},{\"id\":\"33d1e316-70c9-47f7-8eac-a1b6a535826e\",\"type\":\"GlyphRenderer\"}]},\"id\":\"b8e1b1ac-1b13-4d88-80ef-5e67705b810e\",\"type\":\"LegendItem\"},{\"attributes\":{\"active_drag\":\"auto\",\"active_inspect\":\"auto\",\"active_scroll\":\"auto\",\"active_tap\":\"auto\",\"tools\":[{\"id\":\"bfa9c054-abe8-49b8-9594-25ea049ff222\",\"type\":\"PanTool\"},{\"id\":\"0c844eab-b384-4b93-86e4-f008429d83e0\",\"type\":\"WheelZoomTool\"},{\"id\":\"2ae90720-ebbd-4b3a-9425-b140d9489c2b\",\"type\":\"BoxZoomTool\"},{\"id\":\"0feed640-ba5c-4738-8bfe-e3c5a187bddf\",\"type\":\"SaveTool\"},{\"id\":\"1360d17d-463e-4685-9eea-090a8027a933\",\"type\":\"ResetTool\"},{\"id\":\"c68abd21-3f3a-403a-bd19-830100ad4fe7\",\"type\":\"HelpTool\"}]},\"id\":\"32d20a5e-2cea-47a5-b1f6-09b56a1ec2d5\",\"type\":\"Toolbar\"},{\"attributes\":{\"callback\":null,\"end\":0.04950078643142298,\"start\":-0.19505247324532296},\"id\":\"ae9ff0dc-4455-464b-98b9-d59a88079fff\",\"type\":\"Range1d\"},{\"attributes\":{\"above\":[{\"id\":\"f07fa926-e436-4962-ad5b-fe33e3b9a566\",\"type\":\"Legend\"}],\"below\":[{\"id\":\"95cf0cf6-ea05-4c48-a480-dc9be987bcfe\",\"type\":\"LinearAxis\"}],\"left\":[{\"id\":\"5031de1f-80c9-4d8f-8e69-e764764c6d7d\",\"type\":\"LinearAxis\"}],\"plot_width\":300,\"renderers\":[{\"id\":\"95cf0cf6-ea05-4c48-a480-dc9be987bcfe\",\"type\":\"LinearAxis\"},{\"id\":\"f8d3bd6f-3a73-4f65-ad5d-dff88ed5b4be\",\"type\":\"Grid\"},{\"id\":\"5031de1f-80c9-4d8f-8e69-e764764c6d7d\",\"type\":\"LinearAxis\"},{\"id\":\"590668b0-ea0c-4871-a082-9336d8bf15fd\",\"type\":\"Grid\"},{\"id\":\"2e5e2911-eb94-4274-91b8-5423714d55e3\",\"type\":\"BoxAnnotation\"},{\"id\":\"89f4661d-0a4b-4cff-af22-e9199ecf61dc\",\"type\":\"GlyphRenderer\"},{\"id\":\"a54ab400-0a17-4be0-b1a5-ce4ae3ae9700\",\"type\":\"GlyphRenderer\"},{\"id\":\"0d2e8d97-1c7b-4dd4-925c-f2d7f53d1b1c\",\"type\":\"GlyphRenderer\"},{\"id\":\"f07fa926-e436-4962-ad5b-fe33e3b9a566\",\"type\":\"Legend\"}],\"title\":{\"id\":\"ea921109-ccaf-43fa-a16f-7c5b20382c7a\",\"type\":\"Title\"},\"toolbar\":{\"id\":\"32d20a5e-2cea-47a5-b1f6-09b56a1ec2d5\",\"type\":\"Toolbar\"},\"toolbar_location\":null,\"x_range\":{\"id\":\"bd27229c-7f8c-4a8b-b232-a82265624cbd\",\"type\":\"Range1d\"},\"x_scale\":{\"id\":\"5027b8a6-3bf7-4d37-8dd6-cf94392b9679\",\"type\":\"LinearScale\"},\"y_range\":{\"id\":\"d8ebb8f7-aff6-4737-b95c-6123830a1c68\",\"type\":\"Range1d\"},\"y_scale\":{\"id\":\"8639d1e0-7889-4ed6-832a-62409fce23e6\",\"type\":\"LinearScale\"}},\"id\":\"650a8e11-c604-49a1-88b5-688d9f37511a\",\"subtype\":\"Figure\",\"type\":\"Plot\"},{\"attributes\":{\"line_alpha\":0.6,\"line_color\":\"#e41a1c\",\"line_dash\":[6],\"line_width\":5,\"x\":{\"field\":\"x\"},\"y\":{\"field\":\"y\"}},\"id\":\"e70b93e5-c67a-4681-a540-213b280f3768\",\"type\":\"Line\"},{\"attributes\":{\"items\":[{\"id\":\"f6ee05c5-2baf-49c2-9443-16ed0b1e1c63\",\"type\":\"LegendItem\"},{\"id\":\"0aae216d-3d49-4e55-9744-5e00b7503513\",\"type\":\"LegendItem\"}],\"label_text_font_size\":{\"value\":\"8pt\"},\"location\":\"top_center\",\"orientation\":\"horizontal\",\"plot\":{\"id\":\"650a8e11-c604-49a1-88b5-688d9f37511a\",\"subtype\":\"Figure\",\"type\":\"Plot\"}},\"id\":\"f07fa926-e436-4962-ad5b-fe33e3b9a566\",\"type\":\"Legend\"},{\"attributes\":{},\"id\":\"5027b8a6-3bf7-4d37-8dd6-cf94392b9679\",\"type\":\"LinearScale\"},{\"attributes\":{\"callback\":null,\"end\":1.3479226414226473,\"start\":0.06184732608205297},\"id\":\"b670005e-a4a8-4351-953f-660627dc1513\",\"type\":\"Range1d\"},{\"attributes\":{\"data_source\":{\"id\":\"f72c6aa8-976e-4c50-b526-ecd0ca7de152\",\"type\":\"ColumnDataSource\"},\"glyph\":{\"id\":\"e70b93e5-c67a-4681-a540-213b280f3768\",\"type\":\"Line\"},\"hover_glyph\":null,\"muted_glyph\":null,\"nonselection_glyph\":{\"id\":\"3f134dd9-acf2-49f9-b15c-4724f3eef5a2\",\"type\":\"Line\"},\"selection_glyph\":null,\"view\":{\"id\":\"7400f1c6-a301-4ccd-af81-c3d954a24bb7\",\"type\":\"CDSView\"}},\"id\":\"89f4661d-0a4b-4cff-af22-e9199ecf61dc\",\"type\":\"GlyphRenderer\"},{\"attributes\":{\"dimension\":1,\"plot\":{\"id\":\"b554ffd3-67b5-4066-8407-17896e1d5793\",\"subtype\":\"Figure\",\"type\":\"Plot\"},\"ticker\":{\"id\":\"272d8141-1e61-4286-b81e-ce62da119803\",\"type\":\"LogTicker\"}},\"id\":\"5d9f012d-c6a1-4498-9ef7-457b43875d91\",\"type\":\"Grid\"},{\"attributes\":{\"bottom_units\":\"screen\",\"fill_alpha\":{\"value\":0.5},\"fill_color\":{\"value\":\"lightgrey\"},\"left_units\":\"screen\",\"level\":\"overlay\",\"line_alpha\":{\"value\":1.0},\"line_color\":{\"value\":\"black\"},\"line_dash\":[4,4],\"line_width\":{\"value\":2},\"plot\":null,\"render_mode\":\"css\",\"right_units\":\"screen\",\"top_units\":\"screen\"},\"id\":\"f1953693-044c-4d57-acef-d81431f7ae5e\",\"type\":\"BoxAnnotation\"},{\"attributes\":{\"callback\":null,\"end\":2.7180345711739498,\"start\":0.04828186143104997},\"id\":\"bd27229c-7f8c-4a8b-b232-a82265624cbd\",\"type\":\"Range1d\"},{\"attributes\":{},\"id\":\"156b2331-0f45-43e4-9c11-3e2a27fd0919\",\"type\":\"BasicTicker\"},{\"attributes\":{\"num_minor_ticks\":10},\"id\":\"fe85b7f6-b413-4061-8c14-af9cb153f894\",\"type\":\"LogTicker\"},{\"attributes\":{\"items\":[{\"id\":\"ca97e3fe-51b1-477a-b4cb-36c8405c978a\",\"type\":\"LegendItem\"}],\"label_text_font_size\":{\"value\":\"8pt\"},\"location\":\"top_center\",\"orientation\":\"horizontal\",\"plot\":{\"id\":\"b554ffd3-67b5-4066-8407-17896e1d5793\",\"subtype\":\"Figure\",\"type\":\"Plot\"}},\"id\":\"8533b4ff-7ff9-4a3e-8c70-4cae10a93303\",\"type\":\"Legend\"},{\"attributes\":{\"dimension\":1,\"plot\":{\"id\":\"650a8e11-c604-49a1-88b5-688d9f37511a\",\"subtype\":\"Figure\",\"type\":\"Plot\"},\"ticker\":{\"id\":\"216ccbb3-be90-418b-bd14-b167bea0dcdb\",\"type\":\"BasicTicker\"}},\"id\":\"590668b0-ea0c-4871-a082-9336d8bf15fd\",\"type\":\"Grid\"},{\"attributes\":{\"dimension\":1,\"plot\":{\"id\":\"8acdd64e-edb3-43e9-9f0b-5414d0def679\",\"subtype\":\"Figure\",\"type\":\"Plot\"},\"ticker\":{\"id\":\"fe85b7f6-b413-4061-8c14-af9cb153f894\",\"type\":\"LogTicker\"}},\"id\":\"3668d925-2650-44c7-8e58-b515e6fa0dca\",\"type\":\"Grid\"},{\"attributes\":{},\"id\":\"66e139ad-56dc-47ee-8a20-82550f6110b7\",\"type\":\"LogScale\"},{\"attributes\":{\"items\":[{\"id\":\"340efd81-587f-494d-82d5-d89418296990\",\"type\":\"LegendItem\"},{\"id\":\"b8e1b1ac-1b13-4d88-80ef-5e67705b810e\",\"type\":\"LegendItem\"}],\"label_text_font_size\":{\"value\":\"8pt\"},\"location\":\"top_center\",\"orientation\":\"horizontal\",\"plot\":{\"id\":\"8acdd64e-edb3-43e9-9f0b-5414d0def679\",\"subtype\":\"Figure\",\"type\":\"Plot\"}},\"id\":\"8e1357f9-facc-41bd-be6c-124865bee874\",\"type\":\"Legend\"},{\"attributes\":{\"plot\":{\"id\":\"8acdd64e-edb3-43e9-9f0b-5414d0def679\",\"subtype\":\"Figure\",\"type\":\"Plot\"},\"ticker\":{\"id\":\"0cf5ed5d-f958-4c39-ba58-6141245d74a1\",\"type\":\"BasicTicker\"}},\"id\":\"54674557-6afd-4d8a-bbd1-9d81e9fdddab\",\"type\":\"Grid\"},{\"attributes\":{},\"id\":\"0cf5ed5d-f958-4c39-ba58-6141245d74a1\",\"type\":\"BasicTicker\"},{\"attributes\":{\"num_minor_ticks\":10},\"id\":\"272d8141-1e61-4286-b81e-ce62da119803\",\"type\":\"LogTicker\"},{\"attributes\":{},\"id\":\"0c844eab-b384-4b93-86e4-f008429d83e0\",\"type\":\"WheelZoomTool\"},{\"attributes\":{},\"id\":\"f0117fa6-f8ea-459c-98f7-b2af8b1c656c\",\"type\":\"LinearScale\"},{\"attributes\":{\"label\":{\"value\":\"CLIRAD\"},\"renderers\":[{\"id\":\"89f4661d-0a4b-4cff-af22-e9199ecf61dc\",\"type\":\"GlyphRenderer\"}]},\"id\":\"f6ee05c5-2baf-49c2-9443-16ed0b1e1c63\",\"type\":\"LegendItem\"},{\"attributes\":{},\"id\":\"ca907933-e5c2-4bf8-b7f7-24c4892a3915\",\"type\":\"LinearScale\"},{\"attributes\":{\"axis_label\":\"cooling rate [K/day]\",\"formatter\":{\"id\":\"27dc0470-e062-418c-9661-56e080712567\",\"type\":\"BasicTickFormatter\"},\"plot\":{\"id\":\"8acdd64e-edb3-43e9-9f0b-5414d0def679\",\"subtype\":\"Figure\",\"type\":\"Plot\"},\"ticker\":{\"id\":\"0cf5ed5d-f958-4c39-ba58-6141245d74a1\",\"type\":\"BasicTicker\"}},\"id\":\"0fad13b8-de1c-4746-8fb4-24ffe1015afa\",\"type\":\"LinearAxis\"},{\"attributes\":{},\"id\":\"1360d17d-463e-4685-9eea-090a8027a933\",\"type\":\"ResetTool\"},{\"attributes\":{\"bottom_units\":\"screen\",\"fill_alpha\":{\"value\":0.5},\"fill_color\":{\"value\":\"lightgrey\"},\"left_units\":\"screen\",\"level\":\"overlay\",\"line_alpha\":{\"value\":1.0},\"line_color\":{\"value\":\"black\"},\"line_dash\":[4,4],\"line_width\":{\"value\":2},\"plot\":null,\"render_mode\":\"css\",\"right_units\":\"screen\",\"top_units\":\"screen\"},\"id\":\"c47b959e-c78c-453a-b1b2-b930d50cd178\",\"type\":\"BoxAnnotation\"},{\"attributes\":{},\"id\":\"035e45c5-b39f-4e7d-ba1f-1680c5f0ede2\",\"type\":\"Selection\"},{\"attributes\":{\"plot\":null,\"text\":\"\"},\"id\":\"e5a12200-95b6-4fea-b1b6-a04f200aa43d\",\"type\":\"Title\"},{\"attributes\":{\"label\":{\"value\":\"CLIRAD\"},\"renderers\":[{\"id\":\"0ce142cf-5472-4710-9933-a073a9bb3644\",\"type\":\"GlyphRenderer\"}]},\"id\":\"340efd81-587f-494d-82d5-d89418296990\",\"type\":\"LegendItem\"},{\"attributes\":{},\"id\":\"97e420c0-12a2-47f1-a3b6-5c2e22d6d2d1\",\"type\":\"UnionRenderers\"},{\"attributes\":{},\"id\":\"2624cce2-f122-4ef2-a90a-dfd84594859a\",\"type\":\"HelpTool\"},{\"attributes\":{\"data_source\":{\"id\":\"fd4c158d-8e91-462f-9014-da1e53cc2a69\",\"type\":\"ColumnDataSource\"},\"glyph\":{\"id\":\"103591b5-e7d7-43f0-86d3-aff279877c4c\",\"type\":\"Line\"},\"hover_glyph\":null,\"muted_glyph\":null,\"nonselection_glyph\":{\"id\":\"948acb88-8fa3-4251-89e7-a9021c945491\",\"type\":\"Line\"},\"selection_glyph\":null,\"view\":{\"id\":\"8740b1bb-783d-4010-8c8c-3521a9a08910\",\"type\":\"CDSView\"}},\"id\":\"0ce142cf-5472-4710-9933-a073a9bb3644\",\"type\":\"GlyphRenderer\"},{\"attributes\":{\"source\":{\"id\":\"0b52c0fe-50c8-4641-8edc-7119e5955c5c\",\"type\":\"ColumnDataSource\"}},\"id\":\"81b1c1f9-1ca4-4bbe-9e91-be91cde8f1b1\",\"type\":\"CDSView\"},{\"attributes\":{},\"id\":\"ce381c4b-183a-4bbc-9a96-51a65cc25070\",\"type\":\"UnionRenderers\"},{\"attributes\":{\"above\":[{\"id\":\"8e1357f9-facc-41bd-be6c-124865bee874\",\"type\":\"Legend\"}],\"below\":[{\"id\":\"0fad13b8-de1c-4746-8fb4-24ffe1015afa\",\"type\":\"LinearAxis\"}],\"left\":[{\"id\":\"50347435-1b7e-4cab-9924-f1ee2668faa6\",\"type\":\"LogAxis\"}],\"plot_width\":300,\"renderers\":[{\"id\":\"0fad13b8-de1c-4746-8fb4-24ffe1015afa\",\"type\":\"LinearAxis\"},{\"id\":\"54674557-6afd-4d8a-bbd1-9d81e9fdddab\",\"type\":\"Grid\"},{\"id\":\"50347435-1b7e-4cab-9924-f1ee2668faa6\",\"type\":\"LogAxis\"},{\"id\":\"3668d925-2650-44c7-8e58-b515e6fa0dca\",\"type\":\"Grid\"},{\"id\":\"c47b959e-c78c-453a-b1b2-b930d50cd178\",\"type\":\"BoxAnnotation\"},{\"id\":\"0ce142cf-5472-4710-9933-a073a9bb3644\",\"type\":\"GlyphRenderer\"},{\"id\":\"3504c712-2118-4651-b520-eb768314c07f\",\"type\":\"GlyphRenderer\"},{\"id\":\"33d1e316-70c9-47f7-8eac-a1b6a535826e\",\"type\":\"GlyphRenderer\"},{\"id\":\"8e1357f9-facc-41bd-be6c-124865bee874\",\"type\":\"Legend\"}],\"title\":{\"id\":\"e5a12200-95b6-4fea-b1b6-a04f200aa43d\",\"type\":\"Title\"},\"toolbar\":{\"id\":\"20183a65-070d-4f37-a34a-9b9687db3689\",\"type\":\"Toolbar\"},\"toolbar_location\":null,\"x_range\":{\"id\":\"b670005e-a4a8-4351-953f-660627dc1513\",\"type\":\"Range1d\"},\"x_scale\":{\"id\":\"f0117fa6-f8ea-459c-98f7-b2af8b1c656c\",\"type\":\"LinearScale\"},\"y_range\":{\"id\":\"6878ec21-7fed-46bc-a54e-e24a1427ae32\",\"type\":\"Range1d\"},\"y_scale\":{\"id\":\"66e139ad-56dc-47ee-8a20-82550f6110b7\",\"type\":\"LogScale\"}},\"id\":\"8acdd64e-edb3-43e9-9f0b-5414d0def679\",\"subtype\":\"Figure\",\"type\":\"Plot\"},{\"attributes\":{\"callback\":null,\"data\":{\"x\":{\"__ndarray__\":\"wb2hiKDfAsDyLTVuMbj2vzRvNiw3gPG/Zpf3wMUd6b8IJWMezJ7gvwlDg0sBqtS/uZvYBPCIyr/aA9YA4GrFv4Z2P4bhkMa/sFraXuqoyL+jaSxEbPPGv1j223o6NsC/sbXDRT41rL/XvX2QXdFzP2Fs3oieWpY/zMbMIdT0N7+5eQDdY7mcv/gC2wbO2aS/J8b6MHQnor9oFyYpDAmYvzGvHosIXpa/MFp2SS6Rob/qW1exrxuUv6PApkQSBJE/dJbLXqYCqD9e1OxN6R2oP0xqCtP5FaM/cPr6xu3JiT8xrfjpFeyGv0XX+93q4Yy/J87HRSjter9l+JbHIImCv5W7mCMrbXK/GPRxuPSXUL8XPL+AE/h+v8nUqm05P42/IJMxNAYklb+4HU8PLjKYv92IbJs+mZe//vPTBxX+lb9sT8SwSa6Wv7kStBN9MpK/WfcKyCfslr9pv1cFwERZvw9maN5NcJa/lMDXGKy/tb83u1m1Eleov8LGpElPOaC/RN348ozmrb/cOBlQD9+vvwNyS8Whj6S/w6pVfVy/l7/F+LrgWWiGv06eKjw3z5K/JD1QqmIKkr9OlOC3H3yWv8aqUMLj0nW/nvYl/7mGkj/ZIGp54tSjP2bcyRccdKc/FuNmxSuhoj+TnQiMPOOTP5iRCyThqGA/pAYlDtHPgT+AnumUrKuaP6n/Tbwkq6o/uj2OFSYbsj94cZWK8VG1PxqU12POLrQ/DvVKgHKAsj/4StmfgXK2P8hH1sEF5rk/i2bh546pvj/czhCoZFvEP54P4/ZKp8Y/\",\"dtype\":\"float64\",\"shape\":[75]},\"y\":{\"__ndarray__\":\"GhExyth1ND/Sv8nbtpRIP2vylNV0PVE/aTum7souWD/At0SJ8fVgPw3Iuahxymc/MSNhhJWvcD/bTfBN02d3P2zb5nxnaoA/CD5h5MAGhz8NmeH1TyaQP+zrCsc9p5Y/LbKd76fGnz/bLW5ISEmmPww9YvTcQq8/JV2OstnstT8Er5Y7M8G+P0c+r3jqkcU/5h99k6ZBzj88bCIzFzjVP4enV8oyxN0//yH99nXg5D8qOpLLf0jtP5kqGJXUifQ/c9cS8kHP/D+/DpwzojQEQIEmwoanVwxA4lgXt9HgE0BSSZ2AJuIbQAMJih9jjiNA5q4l5INuK0AwTKYKRj0zQNv5fmq8/DpAaCJseHrtQkB/+zpwzoxKQM3MzMzMeFJAZmZmZmZqWEAAAAAAAFxeQM3MzMzMJmJAmpmZmZkfZUBmZmZmZhhoQDMzMzMzEWtAAAAAAAAKbkBmZmZmZoFwQM3MzMzM/XFAMzMzMzN6c0CamZmZmfZ0QAAAAAAAc3ZAZmZmZmbvd0DNzMzMzGt5QDMzMzMz6HpAmpmZmZlkfEAAAAAAAOF9QGZmZmZmXX9AZmZmZuZsgECamZmZGSuBQM3MzMxM6YFAAAAAAICngkAzMzMzs2WDQGZmZmbmI4RAmpmZmRnihEDNzMzMTKCFQAAAAACAXoZAMzMzM7Mch0BmZmZm5tqHQJqZmZkZmYhAzczMzExXiUAAAAAAgBWKQDMzMzOz04pAZmZmZuaRi0CamZmZGVCMQM3MzMxMDo1AAAAAAIDMjUAzMzMzs4qOQGZmZmbmSI9A\",\"dtype\":\"float64\",\"shape\":[75]}},\"selected\":{\"id\":\"13cf6f14-3a57-4fcf-aa44-6f1b4c89b6b4\",\"type\":\"Selection\"},\"selection_policy\":{\"id\":\"21f3a142-f708-48de-a5f1-dde9727f8052\",\"type\":\"UnionRenderers\"}},\"id\":\"488a4965-b233-4bc3-9d86-e5198530f576\",\"type\":\"ColumnDataSource\"},{\"attributes\":{\"line_alpha\":0.6,\"line_color\":\"#e41a1c\",\"line_dash\":[6],\"line_width\":5,\"x\":{\"field\":\"x\"},\"y\":{\"field\":\"y\"}},\"id\":\"103591b5-e7d7-43f0-86d3-aff279877c4c\",\"type\":\"Line\"},{\"attributes\":{},\"id\":\"4a016da8-842f-4c0e-b04b-a9dc37f63b37\",\"type\":\"UnionRenderers\"},{\"attributes\":{},\"id\":\"473d7f6a-bc04-488f-99b3-9f4631f6bfb3\",\"type\":\"WheelZoomTool\"},{\"attributes\":{},\"id\":\"0a537657-f215-4f17-a150-f48de19af0b1\",\"type\":\"PanTool\"},{\"attributes\":{},\"id\":\"fb24092e-607e-4826-a106-9f55082e42a7\",\"type\":\"BasicTickFormatter\"},{\"attributes\":{\"fill_alpha\":{\"value\":0.7},\"fill_color\":{\"value\":\"#4daf4a\"},\"line_alpha\":{\"value\":0.7},\"line_color\":{\"value\":\"#4daf4a\"},\"x\":{\"field\":\"x\"},\"y\":{\"field\":\"y\"}},\"id\":\"9170914b-b1b0-48a2-a7b4-193bb2117cc1\",\"type\":\"Circle\"},{\"attributes\":{\"callback\":null,\"end\":0.01,\"start\":1020},\"id\":\"6878ec21-7fed-46bc-a54e-e24a1427ae32\",\"type\":\"Range1d\"},{\"attributes\":{},\"id\":\"a1fd852c-2741-496a-ba0b-b958b45d6448\",\"type\":\"SaveTool\"},{\"attributes\":{\"plot\":null,\"text\":\"\"},\"id\":\"7c30b76a-7ee9-44e1-a4b3-71502e8a8ebe\",\"type\":\"Title\"},{\"attributes\":{},\"id\":\"bb02f5b1-1bc9-4e3e-8706-23e46ab31fed\",\"type\":\"BasicTickFormatter\"},{\"attributes\":{\"callback\":null,\"end\":0.01,\"start\":1020},\"id\":\"d8ebb8f7-aff6-4737-b95c-6123830a1c68\",\"type\":\"Range1d\"},{\"attributes\":{\"callback\":null,\"data\":{\"x\":{\"__ndarray__\":\"DhA6LgnuFUCOA6cWwXwRQIaSu1M4xA9AQAMEgvhdDEC3Zrtdq+oIQEeVrsxZkgVAl3MNK5VwAkAWLN9WfSj/PxV9u9to/vk/+oeSRnJd9T82OzktEz/xPzr8qP+HL+s/YydxAkqX5D+Pm3Jg8rfcP46pznHNAtc/bNCy2KWL2T8pnB/8X77dP9htcjpZ1+A/7+kP1Asp4z80e1SU7DHmPxAmBhFnpuo/Jqoyz2Re8D+JK70rS4XwP9z5UfKnfOw/H97+PDWp6D/D5C1ywRblP9hLP3sTrOI/m/ZvUSsJ4T/F063RH3HfP93Oesp+FN0/4XgRyajT2j+IdsTWTZnYPwjJ1PcbY9Y/iU9V0T9W1D/sHOF8VJzQP1QtjO0um8U/6bQ0ZYxYuD/1J4P3Y6W7Pxxm+NtS6MY/WzYxcikz0D9lsFArPhXbP7MLVBpdtuw/aXNnQeld9j/WGMFEFND8P3WwpsFjdABAZYJA3Vx+AUAqPFXzIO8BQHD8WV5e3wFAdjsNZSDrAEDjiXh3c3IAQJO6SqN8MQBAk9nLt/gRAEDEkhDyow8AQFNqhDRiJQBAGHEQ3OBYAECV8j60rZkAQOjBZLiv3QBAIKnC9eEeAUCuZJcNClkBQDuBsws7nQFA1sT9pRf1AUCGQUVHBUUCQMOa3IVsQAJAzZGQpkyiAkB9mDR73fIBQCCu/qw87ABAt+FhpfwHAEAI+LIQxM39P/FRyNyYZfw/EHNomRWu+z+Opg6laGX7P51uIx3afvs/39nOmgcL/D/KA59Lol79P6/0U3x5HgRA\",\"dtype\":\"float64\",\"shape\":[75]},\"y\":{\"__ndarray__\":\"GhExyth1ND/Sv8nbtpRIP2vylNV0PVE/aTum7souWD/At0SJ8fVgPw3Iuahxymc/MSNhhJWvcD/bTfBN02d3P2zb5nxnaoA/CD5h5MAGhz8NmeH1TyaQP+zrCsc9p5Y/LbKd76fGnz/bLW5ISEmmPww9YvTcQq8/JV2OstnstT8Er5Y7M8G+P0c+r3jqkcU/5h99k6ZBzj88bCIzFzjVP4enV8oyxN0//yH99nXg5D8qOpLLf0jtP5kqGJXUifQ/c9cS8kHP/D+/DpwzojQEQIEmwoanVwxA4lgXt9HgE0BSSZ2AJuIbQAMJih9jjiNA5q4l5INuK0AwTKYKRj0zQNv5fmq8/DpAaCJseHrtQkB/+zpwzoxKQM3MzMzMeFJAZmZmZmZqWEAAAAAAAFxeQM3MzMzMJmJAmpmZmZkfZUBmZmZmZhhoQDMzMzMzEWtAAAAAAAAKbkBmZmZmZoFwQM3MzMzM/XFAMzMzMzN6c0CamZmZmfZ0QAAAAAAAc3ZAZmZmZmbvd0DNzMzMzGt5QDMzMzMz6HpAmpmZmZlkfEAAAAAAAOF9QGZmZmZmXX9AZmZmZuZsgECamZmZGSuBQM3MzMxM6YFAAAAAAICngkAzMzMzs2WDQGZmZmbmI4RAmpmZmRnihEDNzMzMTKCFQAAAAACAXoZAMzMzM7Mch0BmZmZm5tqHQJqZmZkZmYhAzczMzExXiUAAAAAAgBWKQDMzMzOz04pAZmZmZuaRi0CamZmZGVCMQM3MzMxMDo1AAAAAAIDMjUAzMzMzs4qOQGZmZmbmSI9A\",\"dtype\":\"float64\",\"shape\":[75]}},\"selected\":{\"id\":\"0dc5197c-30a3-41b5-9200-2c45f30ba385\",\"type\":\"Selection\"},\"selection_policy\":{\"id\":\"54b6b915-4542-4236-bf40-b780bb094062\",\"type\":\"UnionRenderers\"}},\"id\":\"ceae18c9-9e81-47d7-ba77-14e82823bf29\",\"type\":\"ColumnDataSource\"},{\"attributes\":{\"children\":[{\"id\":\"650a8e11-c604-49a1-88b5-688d9f37511a\",\"subtype\":\"Figure\",\"type\":\"Plot\"},{\"id\":\"8acdd64e-edb3-43e9-9f0b-5414d0def679\",\"subtype\":\"Figure\",\"type\":\"Plot\"},{\"id\":\"b554ffd3-67b5-4066-8407-17896e1d5793\",\"subtype\":\"Figure\",\"type\":\"Plot\"}]},\"id\":\"d7d7fd7f-454c-4142-9445-18cb3d9cd1db\",\"type\":\"Row\"},{\"attributes\":{},\"id\":\"401d11d5-31b8-4384-8576-5c9abdd03506\",\"type\":\"Selection\"},{\"attributes\":{\"source\":{\"id\":\"8ffa936f-e414-4f92-82eb-497d10442e32\",\"type\":\"ColumnDataSource\"}},\"id\":\"656443a5-014c-480f-ac81-9672c3948694\",\"type\":\"CDSView\"},{\"attributes\":{\"ticker\":null},\"id\":\"d994cf79-1627-41c4-8d99-8aec8d66d5c3\",\"type\":\"LogTickFormatter\"},{\"attributes\":{\"line_alpha\":0.8,\"line_color\":\"#984ea3\",\"line_width\":1.5,\"x\":{\"field\":\"x\"},\"y\":{\"field\":\"y\"}},\"id\":\"703a901a-6c99-4987-bcd2-8e3bbaa48ecb\",\"type\":\"Line\"},{\"attributes\":{\"overlay\":{\"id\":\"c47b959e-c78c-453a-b1b2-b930d50cd178\",\"type\":\"BoxAnnotation\"}},\"id\":\"f5f78727-67c7-4969-bef9-87b1c1d49565\",\"type\":\"BoxZoomTool\"},{\"attributes\":{\"active_drag\":\"auto\",\"active_inspect\":\"auto\",\"active_scroll\":\"auto\",\"active_tap\":\"auto\",\"tools\":[{\"id\":\"111d188a-137b-4e07-9675-3d0efd27fbaa\",\"type\":\"PanTool\"},{\"id\":\"1e26bac1-f700-4f88-a1cd-ff4447c563eb\",\"type\":\"WheelZoomTool\"},{\"id\":\"9e094c23-598f-4119-a172-f9746fb0c20d\",\"type\":\"BoxZoomTool\"},{\"id\":\"0fd1b0e6-174f-4fe2-9b82-1c89ed82ab56\",\"type\":\"SaveTool\"},{\"id\":\"9b084c07-5bef-49ed-b914-f0218f16e8f2\",\"type\":\"ResetTool\"},{\"id\":\"5666968f-4fe9-4f3d-8f4a-6c8722f23e3a\",\"type\":\"HelpTool\"}]},\"id\":\"7cbdfa77-ca4a-4443-b153-ab6f53b47eba\",\"type\":\"Toolbar\"},{\"attributes\":{},\"id\":\"724520d2-934c-45b2-b91d-7e3f8f74ba6f\",\"type\":\"BasicTickFormatter\"},{\"attributes\":{\"line_alpha\":0.1,\"line_color\":\"#1f77b4\",\"line_width\":1.5,\"x\":{\"field\":\"x\"},\"y\":{\"field\":\"y\"}},\"id\":\"9598be69-ebf6-4a95-89a9-cb1adc0f3473\",\"type\":\"Line\"},{\"attributes\":{\"data_source\":{\"id\":\"8ffa936f-e414-4f92-82eb-497d10442e32\",\"type\":\"ColumnDataSource\"},\"glyph\":{\"id\":\"e482482f-1ee6-4cae-9e83-94cbbce2bca7\",\"type\":\"Line\"},\"hover_glyph\":null,\"muted_glyph\":null,\"nonselection_glyph\":{\"id\":\"0441b804-5b07-4a25-84e7-49522db8460d\",\"type\":\"Line\"},\"selection_glyph\":null,\"view\":{\"id\":\"656443a5-014c-480f-ac81-9672c3948694\",\"type\":\"CDSView\"}},\"id\":\"33d1e316-70c9-47f7-8eac-a1b6a535826e\",\"type\":\"GlyphRenderer\"},{\"attributes\":{\"ticker\":null},\"id\":\"dba1511e-8ce0-4e5f-bb23-8dba9a925475\",\"type\":\"LogTickFormatter\"},{\"attributes\":{},\"id\":\"0b804c13-b918-483b-a30c-5999e446f908\",\"type\":\"UnionRenderers\"},{\"attributes\":{\"active_drag\":\"auto\",\"active_inspect\":\"auto\",\"active_scroll\":\"auto\",\"active_tap\":\"auto\",\"tools\":[{\"id\":\"0a537657-f215-4f17-a150-f48de19af0b1\",\"type\":\"PanTool\"},{\"id\":\"473d7f6a-bc04-488f-99b3-9f4631f6bfb3\",\"type\":\"WheelZoomTool\"},{\"id\":\"f5f78727-67c7-4969-bef9-87b1c1d49565\",\"type\":\"BoxZoomTool\"},{\"id\":\"a1fd852c-2741-496a-ba0b-b958b45d6448\",\"type\":\"SaveTool\"},{\"id\":\"d52e229b-6174-44c9-aabf-7ac2410c1c6f\",\"type\":\"ResetTool\"},{\"id\":\"2624cce2-f122-4ef2-a90a-dfd84594859a\",\"type\":\"HelpTool\"}]},\"id\":\"20183a65-070d-4f37-a34a-9b9687db3689\",\"type\":\"Toolbar\"},{\"attributes\":{\"data_source\":{\"id\":\"5481e138-cdeb-4a02-bba6-9e47097b08fc\",\"type\":\"ColumnDataSource\"},\"glyph\":{\"id\":\"703a901a-6c99-4987-bcd2-8e3bbaa48ecb\",\"type\":\"Line\"},\"hover_glyph\":null,\"muted_glyph\":null,\"nonselection_glyph\":{\"id\":\"9598be69-ebf6-4a95-89a9-cb1adc0f3473\",\"type\":\"Line\"},\"selection_glyph\":null,\"view\":{\"id\":\"a054d5fc-d82a-4719-8358-fbdaf330c360\",\"type\":\"CDSView\"}},\"id\":\"bba1fb19-8c2f-4f5f-87e1-2e2eb96cc5a0\",\"type\":\"GlyphRenderer\"},{\"attributes\":{\"callback\":null,\"data\":{\"x\":{\"__ndarray__\":\"W2LS03H8CEAkcDN2aZ0HQOlaoL0cBAdAZR3GEYcWBkB2nSJW+MIEQOYsPqMZ/QJA3Om/KgbIAECea8RWIXv8P0OO86pMLPc/ozy3+lRI8j8FXGdJS8HsP6L+8WD5Iec/COwUHvbT4j+IkrTWNwfdP1mQXFp3aNg/Ol2qo6iF2T+NlE++yfLbP1V7CbR4E98/jT0AkZQG4j96SgszpHHlP5Uwrcx28+k/qe7Nubaj7z8Yzvds3DTwP+Evd4TIBO0/hJfrol8p6j8HsgwHoJjmP3rybxhz3eM/hOKLCFNw4T9cDl4iv7nePyPwinNvLdw/qVn6J/Rn2j/FvofQBAXYPxpmRktnGdY/lt2c3KdF1D/7H94udCDQPweAsVY7x8M/H1Ao2IoPsz+HYK9z2Ji1PwLViggr9cM/NO5nQ5CmzT9va0SQWarZPyBrtjHJJOw/jEdHojgC9j/pwr8Uw8n8P6jf6SWDRwBAYMR5fF/QAEA71X+oxI0BQFRpMyF5ngFAAVhBMYZzAED/SXB07uX/P5QZazh8vv8/flyi/fPE/z+Yr18wd/L/Py4qGIyH//8/ntC7Fsw0AEBtMc90tWwAQJSZg0bG0gBAD/XAae9DAUAwDX2XXagBQK2oEnwL+wFAZGATVZw/AkDCUl3Ay2wCQKedJb6WRAJA07aedxy0AkC6a17UNCgCQB/m7z/pVgFApFMO1tWYAEAgT1wp4yL/PzHLBcOFqP0/YSJtwRzW/D8+Owy/kMz8PxrTQHk6Hf0/SfBMiaD1/T+mHaHgDur/P6klwivuiAVA\",\"dtype\":\"float64\",\"shape\":[75]},\"y\":{\"__ndarray__\":\"GhExyth1ND/Sv8nbtpRIP2vylNV0PVE/aTum7souWD/At0SJ8fVgPw3Iuahxymc/MSNhhJWvcD/bTfBN02d3P2zb5nxnaoA/CD5h5MAGhz8NmeH1TyaQP+zrCsc9p5Y/LbKd76fGnz/bLW5ISEmmPww9YvTcQq8/JV2OstnstT8Er5Y7M8G+P0c+r3jqkcU/5h99k6ZBzj88bCIzFzjVP4enV8oyxN0//yH99nXg5D8qOpLLf0jtP5kqGJXUifQ/c9cS8kHP/D+/DpwzojQEQIEmwoanVwxA4lgXt9HgE0BSSZ2AJuIbQAMJih9jjiNA5q4l5INuK0AwTKYKRj0zQNv5fmq8/DpAaCJseHrtQkB/+zpwzoxKQM3MzMzMeFJAZmZmZmZqWEAAAAAAAFxeQM3MzMzMJmJAmpmZmZkfZUBmZmZmZhhoQDMzMzMzEWtAAAAAAAAKbkBmZmZmZoFwQM3MzMzM/XFAMzMzMzN6c0CamZmZmfZ0QAAAAAAAc3ZAZmZmZmbvd0DNzMzMzGt5QDMzMzMz6HpAmpmZmZlkfEAAAAAAAOF9QGZmZmZmXX9AZmZmZuZsgECamZmZGSuBQM3MzMxM6YFAAAAAAICngkAzMzMzs2WDQGZmZmbmI4RAmpmZmRnihEDNzMzMTKCFQAAAAACAXoZAMzMzM7Mch0BmZmZm5tqHQJqZmZkZmYhAzczMzExXiUAAAAAAgBWKQDMzMzOz04pAZmZmZuaRi0CamZmZGVCMQM3MzMxMDo1AAAAAAIDMjUAzMzMzs4qOQGZmZmbmSI9A\",\"dtype\":\"float64\",\"shape\":[75]}},\"selected\":{\"id\":\"a40f54f9-a8dd-4ab8-a076-1a46039489e9\",\"type\":\"Selection\"},\"selection_policy\":{\"id\":\"7bdd85eb-95b3-439f-a73c-4ed918e0d70c\",\"type\":\"UnionRenderers\"}},\"id\":\"fd4c158d-8e91-462f-9014-da1e53cc2a69\",\"type\":\"ColumnDataSource\"},{\"attributes\":{\"line_alpha\":0.1,\"line_color\":\"#1f77b4\",\"line_width\":1.5,\"x\":{\"field\":\"x\"},\"y\":{\"field\":\"y\"}},\"id\":\"0441b804-5b07-4a25-84e7-49522db8460d\",\"type\":\"Line\"},{\"attributes\":{},\"id\":\"27dc0470-e062-418c-9661-56e080712567\",\"type\":\"BasicTickFormatter\"},{\"attributes\":{},\"id\":\"54b6b915-4542-4236-bf40-b780bb094062\",\"type\":\"UnionRenderers\"},{\"attributes\":{\"source\":{\"id\":\"78be9c18-81a3-4908-a477-ddd4aa716563\",\"type\":\"ColumnDataSource\"}},\"id\":\"37f550b4-ea0f-4820-8385-8a842d9ffd90\",\"type\":\"CDSView\"},{\"attributes\":{},\"id\":\"e3d042d1-2c4d-4566-8a9f-bbfd5515a0a8\",\"type\":\"Selection\"},{\"attributes\":{\"label\":{\"value\":\"CLIRAD - CRD\"},\"renderers\":[{\"id\":\"ae501504-0a2a-49c4-bc8f-49422a43a321\",\"type\":\"GlyphRenderer\"},{\"id\":\"bba1fb19-8c2f-4f5f-87e1-2e2eb96cc5a0\",\"type\":\"GlyphRenderer\"}]},\"id\":\"ca97e3fe-51b1-477a-b4cb-36c8405c978a\",\"type\":\"LegendItem\"},{\"attributes\":{},\"id\":\"0dc5197c-30a3-41b5-9200-2c45f30ba385\",\"type\":\"Selection\"},{\"attributes\":{\"source\":{\"id\":\"ceae18c9-9e81-47d7-ba77-14e82823bf29\",\"type\":\"ColumnDataSource\"}},\"id\":\"625049db-bc11-4e95-9de8-a8e8ebeca699\",\"type\":\"CDSView\"},{\"attributes\":{\"callback\":null,\"data\":{\"x\":{\"__ndarray__\":\"wb2hiKDfAsDyLTVuMbj2vzRvNiw3gPG/Zpf3wMUd6b8IJWMezJ7gvwlDg0sBqtS/uZvYBPCIyr/aA9YA4GrFv4Z2P4bhkMa/sFraXuqoyL+jaSxEbPPGv1j223o6NsC/sbXDRT41rL/XvX2QXdFzP2Fs3oieWpY/zMbMIdT0N7+5eQDdY7mcv/gC2wbO2aS/J8b6MHQnor9oFyYpDAmYvzGvHosIXpa/MFp2SS6Rob/qW1exrxuUv6PApkQSBJE/dJbLXqYCqD9e1OxN6R2oP0xqCtP5FaM/cPr6xu3JiT8xrfjpFeyGv0XX+93q4Yy/J87HRSjter9l+JbHIImCv5W7mCMrbXK/GPRxuPSXUL8XPL+AE/h+v8nUqm05P42/IJMxNAYklb+4HU8PLjKYv92IbJs+mZe//vPTBxX+lb9sT8SwSa6Wv7kStBN9MpK/WfcKyCfslr9pv1cFwERZvw9maN5NcJa/lMDXGKy/tb83u1m1Eleov8LGpElPOaC/RN348ozmrb/cOBlQD9+vvwNyS8Whj6S/w6pVfVy/l7/F+LrgWWiGv06eKjw3z5K/JD1QqmIKkr9OlOC3H3yWv8aqUMLj0nW/nvYl/7mGkj/ZIGp54tSjP2bcyRccdKc/FuNmxSuhoj+TnQiMPOOTP5iRCyThqGA/pAYlDtHPgT+AnumUrKuaP6n/Tbwkq6o/uj2OFSYbsj94cZWK8VG1PxqU12POLrQ/DvVKgHKAsj/4StmfgXK2P8hH1sEF5rk/i2bh546pvj/czhCoZFvEP54P4/ZKp8Y/\",\"dtype\":\"float64\",\"shape\":[75]},\"y\":{\"__ndarray__\":\"GhExyth1ND/Sv8nbtpRIP2vylNV0PVE/aTum7souWD/At0SJ8fVgPw3Iuahxymc/MSNhhJWvcD/bTfBN02d3P2zb5nxnaoA/CD5h5MAGhz8NmeH1TyaQP+zrCsc9p5Y/LbKd76fGnz/bLW5ISEmmPww9YvTcQq8/JV2OstnstT8Er5Y7M8G+P0c+r3jqkcU/5h99k6ZBzj88bCIzFzjVP4enV8oyxN0//yH99nXg5D8qOpLLf0jtP5kqGJXUifQ/c9cS8kHP/D+/DpwzojQEQIEmwoanVwxA4lgXt9HgE0BSSZ2AJuIbQAMJih9jjiNA5q4l5INuK0AwTKYKRj0zQNv5fmq8/DpAaCJseHrtQkB/+zpwzoxKQM3MzMzMeFJAZmZmZmZqWEAAAAAAAFxeQM3MzMzMJmJAmpmZmZkfZUBmZmZmZhhoQDMzMzMzEWtAAAAAAAAKbkBmZmZmZoFwQM3MzMzM/XFAMzMzMzN6c0CamZmZmfZ0QAAAAAAAc3ZAZmZmZmbvd0DNzMzMzGt5QDMzMzMz6HpAmpmZmZlkfEAAAAAAAOF9QGZmZmZmXX9AZmZmZuZsgECamZmZGSuBQM3MzMxM6YFAAAAAAICngkAzMzMzs2WDQGZmZmbmI4RAmpmZmRnihEDNzMzMTKCFQAAAAACAXoZAMzMzM7Mch0BmZmZm5tqHQJqZmZkZmYhAzczMzExXiUAAAAAAgBWKQDMzMzOz04pAZmZmZuaRi0CamZmZGVCMQM3MzMxMDo1AAAAAAIDMjUAzMzMzs4qOQGZmZmbmSI9A\",\"dtype\":\"float64\",\"shape\":[75]}},\"selected\":{\"id\":\"401d11d5-31b8-4384-8576-5c9abdd03506\",\"type\":\"Selection\"},\"selection_policy\":{\"id\":\"4ecb5dcb-da2f-4890-b6b1-51b8208eed64\",\"type\":\"UnionRenderers\"}},\"id\":\"5481e138-cdeb-4a02-bba6-9e47097b08fc\",\"type\":\"ColumnDataSource\"},{\"attributes\":{\"data_source\":{\"id\":\"0b52c0fe-50c8-4641-8edc-7119e5955c5c\",\"type\":\"ColumnDataSource\"},\"glyph\":{\"id\":\"0f6c3826-5a14-44c8-aa70-819cc9b378ec\",\"type\":\"Line\"},\"hover_glyph\":null,\"muted_glyph\":null,\"nonselection_glyph\":{\"id\":\"609308b2-fbc4-4309-8d71-acc96cdb98db\",\"type\":\"Line\"},\"selection_glyph\":null,\"view\":{\"id\":\"81b1c1f9-1ca4-4bbe-9e91-be91cde8f1b1\",\"type\":\"CDSView\"}},\"id\":\"0d2e8d97-1c7b-4dd4-925c-f2d7f53d1b1c\",\"type\":\"GlyphRenderer\"},{\"attributes\":{\"source\":{\"id\":\"5481e138-cdeb-4a02-bba6-9e47097b08fc\",\"type\":\"ColumnDataSource\"}},\"id\":\"a054d5fc-d82a-4719-8358-fbdaf330c360\",\"type\":\"CDSView\"},{\"attributes\":{},\"id\":\"13cf6f14-3a57-4fcf-aa44-6f1b4c89b6b4\",\"type\":\"Selection\"},{\"attributes\":{\"data_source\":{\"id\":\"ceae18c9-9e81-47d7-ba77-14e82823bf29\",\"type\":\"ColumnDataSource\"},\"glyph\":{\"id\":\"9170914b-b1b0-48a2-a7b4-193bb2117cc1\",\"type\":\"Circle\"},\"hover_glyph\":null,\"muted_glyph\":null,\"nonselection_glyph\":{\"id\":\"5458cf8f-24c2-43bb-bf9f-74c28d9216b4\",\"type\":\"Circle\"},\"selection_glyph\":null,\"view\":{\"id\":\"625049db-bc11-4e95-9de8-a8e8ebeca699\",\"type\":\"CDSView\"}},\"id\":\"3504c712-2118-4651-b520-eb768314c07f\",\"type\":\"GlyphRenderer\"},{\"attributes\":{\"fill_alpha\":{\"value\":0.1},\"fill_color\":{\"value\":\"#1f77b4\"},\"line_alpha\":{\"value\":0.1},\"line_color\":{\"value\":\"#1f77b4\"},\"x\":{\"field\":\"x\"},\"y\":{\"field\":\"y\"}},\"id\":\"7b041f86-a55e-4ab6-8a17-fb60d0d47a09\",\"type\":\"Circle\"},{\"attributes\":{\"source\":{\"id\":\"488a4965-b233-4bc3-9d86-e5198530f576\",\"type\":\"ColumnDataSource\"}},\"id\":\"e55bb6ae-69e2-42af-86c7-2dc15adac738\",\"type\":\"CDSView\"},{\"attributes\":{\"source\":{\"id\":\"fd4c158d-8e91-462f-9014-da1e53cc2a69\",\"type\":\"ColumnDataSource\"}},\"id\":\"8740b1bb-783d-4010-8c8c-3521a9a08910\",\"type\":\"CDSView\"},{\"attributes\":{\"data_source\":{\"id\":\"488a4965-b233-4bc3-9d86-e5198530f576\",\"type\":\"ColumnDataSource\"},\"glyph\":{\"id\":\"21fed8b7-a148-4d22-aeaf-54ac4791ba5c\",\"type\":\"Circle\"},\"hover_glyph\":null,\"muted_glyph\":null,\"nonselection_glyph\":{\"id\":\"7b041f86-a55e-4ab6-8a17-fb60d0d47a09\",\"type\":\"Circle\"},\"selection_glyph\":null,\"view\":{\"id\":\"e55bb6ae-69e2-42af-86c7-2dc15adac738\",\"type\":\"CDSView\"}},\"id\":\"ae501504-0a2a-49c4-bc8f-49422a43a321\",\"type\":\"GlyphRenderer\"},{\"attributes\":{},\"id\":\"8b8a97dc-668d-4aee-9651-5965da3aee64\",\"type\":\"Selection\"},{\"attributes\":{},\"id\":\"78ddc99b-3d8b-4611-8cbb-043570907b77\",\"type\":\"Selection\"},{\"attributes\":{\"line_color\":\"#4daf4a\",\"line_width\":1.5,\"x\":{\"field\":\"x\"},\"y\":{\"field\":\"y\"}},\"id\":\"0f6c3826-5a14-44c8-aa70-819cc9b378ec\",\"type\":\"Line\"},{\"attributes\":{\"tools\":[{\"id\":\"bfa9c054-abe8-49b8-9594-25ea049ff222\",\"type\":\"PanTool\"},{\"id\":\"0c844eab-b384-4b93-86e4-f008429d83e0\",\"type\":\"WheelZoomTool\"},{\"id\":\"2ae90720-ebbd-4b3a-9425-b140d9489c2b\",\"type\":\"BoxZoomTool\"},{\"id\":\"0feed640-ba5c-4738-8bfe-e3c5a187bddf\",\"type\":\"SaveTool\"},{\"id\":\"1360d17d-463e-4685-9eea-090a8027a933\",\"type\":\"ResetTool\"},{\"id\":\"c68abd21-3f3a-403a-bd19-830100ad4fe7\",\"type\":\"HelpTool\"},{\"id\":\"0a537657-f215-4f17-a150-f48de19af0b1\",\"type\":\"PanTool\"},{\"id\":\"473d7f6a-bc04-488f-99b3-9f4631f6bfb3\",\"type\":\"WheelZoomTool\"},{\"id\":\"f5f78727-67c7-4969-bef9-87b1c1d49565\",\"type\":\"BoxZoomTool\"},{\"id\":\"a1fd852c-2741-496a-ba0b-b958b45d6448\",\"type\":\"SaveTool\"},{\"id\":\"d52e229b-6174-44c9-aabf-7ac2410c1c6f\",\"type\":\"ResetTool\"},{\"id\":\"2624cce2-f122-4ef2-a90a-dfd84594859a\",\"type\":\"HelpTool\"},{\"id\":\"111d188a-137b-4e07-9675-3d0efd27fbaa\",\"type\":\"PanTool\"},{\"id\":\"1e26bac1-f700-4f88-a1cd-ff4447c563eb\",\"type\":\"WheelZoomTool\"},{\"id\":\"9e094c23-598f-4119-a172-f9746fb0c20d\",\"type\":\"BoxZoomTool\"},{\"id\":\"0fd1b0e6-174f-4fe2-9b82-1c89ed82ab56\",\"type\":\"SaveTool\"},{\"id\":\"9b084c07-5bef-49ed-b914-f0218f16e8f2\",\"type\":\"ResetTool\"},{\"id\":\"5666968f-4fe9-4f3d-8f4a-6c8722f23e3a\",\"type\":\"HelpTool\"}]},\"id\":\"1926d0a9-08a5-4b40-8bec-86486f98fd90\",\"type\":\"ProxyToolbar\"},{\"attributes\":{\"fill_alpha\":{\"value\":0.1},\"fill_color\":{\"value\":\"#1f77b4\"},\"line_alpha\":{\"value\":0.1},\"line_color\":{\"value\":\"#1f77b4\"},\"x\":{\"field\":\"x\"},\"y\":{\"field\":\"y\"}},\"id\":\"846fabfd-f9f1-4769-99d4-36a513d38dbe\",\"type\":\"Circle\"},{\"attributes\":{\"fill_alpha\":{\"value\":0.1},\"fill_color\":{\"value\":\"#1f77b4\"},\"line_alpha\":{\"value\":0.1},\"line_color\":{\"value\":\"#1f77b4\"},\"x\":{\"field\":\"x\"},\"y\":{\"field\":\"y\"}},\"id\":\"5458cf8f-24c2-43bb-bf9f-74c28d9216b4\",\"type\":\"Circle\"},{\"attributes\":{\"line_alpha\":0.1,\"line_color\":\"#1f77b4\",\"line_dash\":[6],\"line_width\":5,\"x\":{\"field\":\"x\"},\"y\":{\"field\":\"y\"}},\"id\":\"948acb88-8fa3-4251-89e7-a9021c945491\",\"type\":\"Line\"},{\"attributes\":{\"callback\":null,\"data\":{\"x\":{\"__ndarray__\":\"DhA6LgnuFUCOA6cWwXwRQIaSu1M4xA9AQAMEgvhdDEC3Zrtdq+oIQEeVrsxZkgVAl3MNK5VwAkAWLN9WfSj/PxV9u9to/vk/+oeSRnJd9T82OzktEz/xPzr8qP+HL+s/YydxAkqX5D+Pm3Jg8rfcP46pznHNAtc/bNCy2KWL2T8pnB/8X77dP9htcjpZ1+A/7+kP1Asp4z80e1SU7DHmPxAmBhFnpuo/Jqoyz2Re8D+JK70rS4XwP9z5UfKnfOw/H97+PDWp6D/D5C1ywRblP9hLP3sTrOI/m/ZvUSsJ4T/F063RH3HfP93Oesp+FN0/4XgRyajT2j+IdsTWTZnYPwjJ1PcbY9Y/iU9V0T9W1D/sHOF8VJzQP1QtjO0um8U/6bQ0ZYxYuD/1J4P3Y6W7Pxxm+NtS6MY/WzYxcikz0D9lsFArPhXbP7MLVBpdtuw/aXNnQeld9j/WGMFEFND8P3WwpsFjdABAZYJA3Vx+AUAqPFXzIO8BQHD8WV5e3wFAdjsNZSDrAEDjiXh3c3IAQJO6SqN8MQBAk9nLt/gRAEDEkhDyow8AQFNqhDRiJQBAGHEQ3OBYAECV8j60rZkAQOjBZLiv3QBAIKnC9eEeAUCuZJcNClkBQDuBsws7nQFA1sT9pRf1AUCGQUVHBUUCQMOa3IVsQAJAzZGQpkyiAkB9mDR73fIBQCCu/qw87ABAt+FhpfwHAEAI+LIQxM39P/FRyNyYZfw/EHNomRWu+z+Opg6laGX7P51uIx3afvs/39nOmgcL/D/KA59Lol79P6/0U3x5HgRA\",\"dtype\":\"float64\",\"shape\":[75]},\"y\":{\"__ndarray__\":\"GhExyth1ND/Sv8nbtpRIP2vylNV0PVE/aTum7souWD/At0SJ8fVgPw3Iuahxymc/MSNhhJWvcD/bTfBN02d3P2zb5nxnaoA/CD5h5MAGhz8NmeH1TyaQP+zrCsc9p5Y/LbKd76fGnz/bLW5ISEmmPww9YvTcQq8/JV2OstnstT8Er5Y7M8G+P0c+r3jqkcU/5h99k6ZBzj88bCIzFzjVP4enV8oyxN0//yH99nXg5D8qOpLLf0jtP5kqGJXUifQ/c9cS8kHP/D+/DpwzojQEQIEmwoanVwxA4lgXt9HgE0BSSZ2AJuIbQAMJih9jjiNA5q4l5INuK0AwTKYKRj0zQNv5fmq8/DpAaCJseHrtQkB/+zpwzoxKQM3MzMzMeFJAZmZmZmZqWEAAAAAAAFxeQM3MzMzMJmJAmpmZmZkfZUBmZmZmZhhoQDMzMzMzEWtAAAAAAAAKbkBmZmZmZoFwQM3MzMzM/XFAMzMzMzN6c0CamZmZmfZ0QAAAAAAAc3ZAZmZmZmbvd0DNzMzMzGt5QDMzMzMz6HpAmpmZmZlkfEAAAAAAAOF9QGZmZmZmXX9AZmZmZuZsgECamZmZGSuBQM3MzMxM6YFAAAAAAICngkAzMzMzs2WDQGZmZmbmI4RAmpmZmRnihEDNzMzMTKCFQAAAAACAXoZAMzMzM7Mch0BmZmZm5tqHQJqZmZkZmYhAzczMzExXiUAAAAAAgBWKQDMzMzOz04pAZmZmZuaRi0CamZmZGVCMQM3MzMxMDo1AAAAAAIDMjUAzMzMzs4qOQGZmZmbmSI9A\",\"dtype\":\"float64\",\"shape\":[75]}},\"selected\":{\"id\":\"78ddc99b-3d8b-4611-8cbb-043570907b77\",\"type\":\"Selection\"},\"selection_policy\":{\"id\":\"4a016da8-842f-4c0e-b04b-a9dc37f63b37\",\"type\":\"UnionRenderers\"}},\"id\":\"8ffa936f-e414-4f92-82eb-497d10442e32\",\"type\":\"ColumnDataSource\"},{\"attributes\":{},\"id\":\"4ecb5dcb-da2f-4890-b6b1-51b8208eed64\",\"type\":\"UnionRenderers\"},{\"attributes\":{},\"id\":\"d52e229b-6174-44c9-aabf-7ac2410c1c6f\",\"type\":\"ResetTool\"},{\"attributes\":{\"callback\":null,\"data\":{\"x\":{\"__ndarray__\":\"DhA6LgnuFUCOA6cWwXwRQIaSu1M4xA9AQAMEgvhdDEC3Zrtdq+oIQEeVrsxZkgVAl3MNK5VwAkAWLN9WfSj/PxV9u9to/vk/+oeSRnJd9T82OzktEz/xPzr8qP+HL+s/YydxAkqX5D+Pm3Jg8rfcP46pznHNAtc/bNCy2KWL2T8pnB/8X77dP9htcjpZ1+A/7+kP1Asp4z80e1SU7DHmPxAmBhFnpuo/Jqoyz2Re8D+JK70rS4XwP9z5UfKnfOw/H97+PDWp6D/D5C1ywRblP9hLP3sTrOI/m/ZvUSsJ4T/F063RH3HfP93Oesp+FN0/4XgRyajT2j+IdsTWTZnYPwjJ1PcbY9Y/iU9V0T9W1D/sHOF8VJzQP1QtjO0um8U/6bQ0ZYxYuD/1J4P3Y6W7Pxxm+NtS6MY/WzYxcikz0D9lsFArPhXbP7MLVBpdtuw/aXNnQeld9j/WGMFEFND8P3WwpsFjdABAZYJA3Vx+AUAqPFXzIO8BQHD8WV5e3wFAdjsNZSDrAEDjiXh3c3IAQJO6SqN8MQBAk9nLt/gRAEDEkhDyow8AQFNqhDRiJQBAGHEQ3OBYAECV8j60rZkAQOjBZLiv3QBAIKnC9eEeAUCuZJcNClkBQDuBsws7nQFA1sT9pRf1AUCGQUVHBUUCQMOa3IVsQAJAzZGQpkyiAkB9mDR73fIBQCCu/qw87ABAt+FhpfwHAEAI+LIQxM39P/FRyNyYZfw/EHNomRWu+z+Opg6laGX7P51uIx3afvs/39nOmgcL/D/KA59Lol79P6/0U3x5HgRA\",\"dtype\":\"float64\",\"shape\":[75]},\"y\":{\"__ndarray__\":\"GhExyth1ND/Sv8nbtpRIP2vylNV0PVE/aTum7souWD/At0SJ8fVgPw3Iuahxymc/MSNhhJWvcD/bTfBN02d3P2zb5nxnaoA/CD5h5MAGhz8NmeH1TyaQP+zrCsc9p5Y/LbKd76fGnz/bLW5ISEmmPww9YvTcQq8/JV2OstnstT8Er5Y7M8G+P0c+r3jqkcU/5h99k6ZBzj88bCIzFzjVP4enV8oyxN0//yH99nXg5D8qOpLLf0jtP5kqGJXUifQ/c9cS8kHP/D+/DpwzojQEQIEmwoanVwxA4lgXt9HgE0BSSZ2AJuIbQAMJih9jjiNA5q4l5INuK0AwTKYKRj0zQNv5fmq8/DpAaCJseHrtQkB/+zpwzoxKQM3MzMzMeFJAZmZmZmZqWEAAAAAAAFxeQM3MzMzMJmJAmpmZmZkfZUBmZmZmZhhoQDMzMzMzEWtAAAAAAAAKbkBmZmZmZoFwQM3MzMzM/XFAMzMzMzN6c0CamZmZmfZ0QAAAAAAAc3ZAZmZmZmbvd0DNzMzMzGt5QDMzMzMz6HpAmpmZmZlkfEAAAAAAAOF9QGZmZmZmXX9AZmZmZuZsgECamZmZGSuBQM3MzMxM6YFAAAAAAICngkAzMzMzs2WDQGZmZmbmI4RAmpmZmRnihEDNzMzMTKCFQAAAAACAXoZAMzMzM7Mch0BmZmZm5tqHQJqZmZkZmYhAzczMzExXiUAAAAAAgBWKQDMzMzOz04pAZmZmZuaRi0CamZmZGVCMQM3MzMxMDo1AAAAAAIDMjUAzMzMzs4qOQGZmZmbmSI9A\",\"dtype\":\"float64\",\"shape\":[75]}},\"selected\":{\"id\":\"e3d042d1-2c4d-4566-8a9f-bbfd5515a0a8\",\"type\":\"Selection\"},\"selection_policy\":{\"id\":\"97e420c0-12a2-47f1-a3b6-5c2e22d6d2d1\",\"type\":\"UnionRenderers\"}},\"id\":\"0b52c0fe-50c8-4641-8edc-7119e5955c5c\",\"type\":\"ColumnDataSource\"},{\"attributes\":{},\"id\":\"21f3a142-f708-48de-a5f1-dde9727f8052\",\"type\":\"UnionRenderers\"},{\"attributes\":{},\"id\":\"7bdd85eb-95b3-439f-a73c-4ed918e0d70c\",\"type\":\"UnionRenderers\"},{\"attributes\":{\"toolbar\":{\"id\":\"1926d0a9-08a5-4b40-8bec-86486f98fd90\",\"type\":\"ProxyToolbar\"},\"toolbar_location\":\"above\"},\"id\":\"4a62df4f-d7b2-476f-a354-691752bf99ed\",\"type\":\"ToolbarBox\"},{\"attributes\":{\"plot\":null,\"text\":\"\"},\"id\":\"ea921109-ccaf-43fa-a16f-7c5b20382c7a\",\"type\":\"Title\"},{\"attributes\":{\"children\":[{\"id\":\"d7d7fd7f-454c-4142-9445-18cb3d9cd1db\",\"type\":\"Row\"}]},\"id\":\"17e9429b-4bde-4b0b-ae28-7c0c09eea169\",\"type\":\"Column\"},{\"attributes\":{\"children\":[{\"id\":\"4a62df4f-d7b2-476f-a354-691752bf99ed\",\"type\":\"ToolbarBox\"},{\"id\":\"17e9429b-4bde-4b0b-ae28-7c0c09eea169\",\"type\":\"Column\"}]},\"id\":\"5c0ac7ff-0348-4a2d-abf5-0593ed12b0f3\",\"type\":\"Column\"},{\"attributes\":{\"line_alpha\":0.1,\"line_color\":\"#1f77b4\",\"line_width\":1.5,\"x\":{\"field\":\"x\"},\"y\":{\"field\":\"y\"}},\"id\":\"609308b2-fbc4-4309-8d71-acc96cdb98db\",\"type\":\"Line\"},{\"attributes\":{\"data_source\":{\"id\":\"78be9c18-81a3-4908-a477-ddd4aa716563\",\"type\":\"ColumnDataSource\"},\"glyph\":{\"id\":\"ea9bc432-2bd2-4f14-96ce-0635d57059a9\",\"type\":\"Circle\"},\"hover_glyph\":null,\"muted_glyph\":null,\"nonselection_glyph\":{\"id\":\"846fabfd-f9f1-4769-99d4-36a513d38dbe\",\"type\":\"Circle\"},\"selection_glyph\":null,\"view\":{\"id\":\"37f550b4-ea0f-4820-8385-8a842d9ffd90\",\"type\":\"CDSView\"}},\"id\":\"a54ab400-0a17-4be0-b1a5-ce4ae3ae9700\",\"type\":\"GlyphRenderer\"},{\"attributes\":{\"fill_alpha\":{\"value\":0.7},\"fill_color\":{\"value\":\"#984ea3\"},\"line_alpha\":{\"value\":0.7},\"line_color\":{\"value\":\"#984ea3\"},\"x\":{\"field\":\"x\"},\"y\":{\"field\":\"y\"}},\"id\":\"21fed8b7-a148-4d22-aeaf-54ac4791ba5c\",\"type\":\"Circle\"},{\"attributes\":{\"fill_alpha\":{\"value\":0.7},\"fill_color\":{\"value\":\"#4daf4a\"},\"line_alpha\":{\"value\":0.7},\"line_color\":{\"value\":\"#4daf4a\"},\"x\":{\"field\":\"x\"},\"y\":{\"field\":\"y\"}},\"id\":\"ea9bc432-2bd2-4f14-96ce-0635d57059a9\",\"type\":\"Circle\"},{\"attributes\":{\"line_color\":\"#4daf4a\",\"line_width\":1.5,\"x\":{\"field\":\"x\"},\"y\":{\"field\":\"y\"}},\"id\":\"e482482f-1ee6-4cae-9e83-94cbbce2bca7\",\"type\":\"Line\"},{\"attributes\":{\"above\":[{\"id\":\"8533b4ff-7ff9-4a3e-8c70-4cae10a93303\",\"type\":\"Legend\"}],\"below\":[{\"id\":\"9514a5e1-d2cb-4fd5-b721-9638052f12b1\",\"type\":\"LinearAxis\"}],\"left\":[{\"id\":\"1fba9c8d-b066-4557-875f-c225e9c0add2\",\"type\":\"LogAxis\"}],\"plot_width\":300,\"renderers\":[{\"id\":\"9514a5e1-d2cb-4fd5-b721-9638052f12b1\",\"type\":\"LinearAxis\"},{\"id\":\"1301aa1a-ad33-4228-9b0d-72d736c71163\",\"type\":\"Grid\"},{\"id\":\"1fba9c8d-b066-4557-875f-c225e9c0add2\",\"type\":\"LogAxis\"},{\"id\":\"5d9f012d-c6a1-4498-9ef7-457b43875d91\",\"type\":\"Grid\"},{\"id\":\"f1953693-044c-4d57-acef-d81431f7ae5e\",\"type\":\"BoxAnnotation\"},{\"id\":\"ae501504-0a2a-49c4-bc8f-49422a43a321\",\"type\":\"GlyphRenderer\"},{\"id\":\"bba1fb19-8c2f-4f5f-87e1-2e2eb96cc5a0\",\"type\":\"GlyphRenderer\"},{\"id\":\"8533b4ff-7ff9-4a3e-8c70-4cae10a93303\",\"type\":\"Legend\"}],\"title\":{\"id\":\"7c30b76a-7ee9-44e1-a4b3-71502e8a8ebe\",\"type\":\"Title\"},\"toolbar\":{\"id\":\"7cbdfa77-ca4a-4443-b153-ab6f53b47eba\",\"type\":\"Toolbar\"},\"toolbar_location\":null,\"x_range\":{\"id\":\"ae9ff0dc-4455-464b-98b9-d59a88079fff\",\"type\":\"Range1d\"},\"x_scale\":{\"id\":\"ca907933-e5c2-4bf8-b7f7-24c4892a3915\",\"type\":\"LinearScale\"},\"y_range\":{\"id\":\"0df726ef-39c2-4d0e-b4b4-361cfe5ca81c\",\"type\":\"Range1d\"},\"y_scale\":{\"id\":\"f4e38c9b-f7ce-405f-9edf-726cbf79c6c6\",\"type\":\"LogScale\"}},\"id\":\"b554ffd3-67b5-4066-8407-17896e1d5793\",\"subtype\":\"Figure\",\"type\":\"Plot\"}],\"root_ids\":[\"5c0ac7ff-0348-4a2d-abf5-0593ed12b0f3\"]},\"title\":\"Bokeh Application\",\"version\":\"0.12.16\"}};\n",
       "  var render_items = [{\"docid\":\"b75f4803-1c5a-4cfd-911a-dcf2b4444d37\",\"elementid\":\"35950b00-bdee-4c33-962c-2409e0ac8710\",\"modelid\":\"5c0ac7ff-0348-4a2d-abf5-0593ed12b0f3\"}];\n",
       "  root.Bokeh.embed.embed_items_notebook(docs_json, render_items);\n",
       "\n",
       "  }\n",
       "  if (root.Bokeh !== undefined) {\n",
       "    embed_document(root);\n",
       "  } else {\n",
       "    var attempts = 0;\n",
       "    var timer = setInterval(function(root) {\n",
       "      if (root.Bokeh !== undefined) {\n",
       "        embed_document(root);\n",
       "        clearInterval(timer);\n",
       "      }\n",
       "      attempts++;\n",
       "      if (attempts > 100) {\n",
       "        console.log(\"Bokeh: ERROR: Unable to run BokehJS code because BokehJS library is missing\")\n",
       "        clearInterval(timer);\n",
       "      }\n",
       "    }, 10, root)\n",
       "  }\n",
       "})(window);"
      ],
      "application/vnd.bokehjs_exec.v0+json": ""
     },
     "metadata": {
      "application/vnd.bokehjs_exec.v0+json": {
       "id": "5c0ac7ff-0348-4a2d-abf5-0593ed12b0f3"
      }
     },
     "output_type": "display_data"
    },
    {
     "data": {
      "text/markdown": [
       "*FIGURE.* Cooling rates & difference."
      ],
      "text/plain": [
       "<IPython.core.display.Markdown object>"
      ]
     },
     "metadata": {},
     "output_type": "display_data"
    },
    {
     "data": {
      "text/html": [
       "<a id=\"Fluxes._trp.\"></a>"
      ],
      "text/plain": [
       "<IPython.core.display.HTML object>"
      ]
     },
     "metadata": {},
     "output_type": "display_data"
    },
    {
     "data": {
      "text/markdown": [
       "# Fluxes. trp."
      ],
      "text/plain": [
       "<IPython.core.display.Markdown object>"
      ]
     },
     "metadata": {},
     "output_type": "display_data"
    },
    {
     "data": {
      "text/html": [
       "\n",
       "<div class=\"bk-root\">\n",
       "    <div class=\"bk-plotdiv\" id=\"14770dd7-303f-4222-907e-b8c424a008dc\"></div>\n",
       "</div>"
      ]
     },
     "metadata": {},
     "output_type": "display_data"
    },
    {
     "data": {
      "application/javascript": [
       "(function(root) {\n",
       "  function embed_document(root) {\n",
       "    \n",
       "  var docs_json = {\"5ad08552-13b4-4530-bc5f-89781403a4c1\":{\"roots\":{\"references\":[{\"attributes\":{},\"id\":\"0160bbd5-2f97-459d-86db-c0cb4daa89d0\",\"type\":\"PanTool\"},{\"attributes\":{},\"id\":\"546180fb-4c1c-4204-9d48-946b00e940fb\",\"type\":\"LinearScale\"},{\"attributes\":{},\"id\":\"27c2a86d-93da-425d-90bc-e68714b03f18\",\"type\":\"BasicTickFormatter\"},{\"attributes\":{\"dimension\":1,\"plot\":{\"id\":\"6cb83b20-e1d1-4057-b20f-7b271d3fa19d\",\"subtype\":\"Figure\",\"type\":\"Plot\"},\"ticker\":{\"id\":\"f8281b10-8ab5-40d1-9556-5a3462813b17\",\"type\":\"BasicTicker\"}},\"id\":\"6409991f-b668-48ea-adc9-6e22400eb0af\",\"type\":\"Grid\"},{\"attributes\":{\"dimension\":1,\"plot\":{\"id\":\"fb619754-1e4f-4a17-a473-864cd62c367c\",\"subtype\":\"Figure\",\"type\":\"Plot\"},\"ticker\":{\"id\":\"cfcc605d-cfff-4ce6-adb7-48bf25ecda39\",\"type\":\"BasicTicker\"}},\"id\":\"2b75e52f-d9ad-4226-8fea-cc62240bce66\",\"type\":\"Grid\"},{\"attributes\":{\"overlay\":{\"id\":\"0d869da5-a3fb-413c-8644-ec9a7aa4fcb2\",\"type\":\"BoxAnnotation\"}},\"id\":\"0c70977f-1704-4167-b01e-14011feac2d2\",\"type\":\"BoxZoomTool\"},{\"attributes\":{\"callback\":null,\"factors\":[\"1\",\"2\",\"3\",\"4\",\"5\",\"6\",\"7\",\"8\",\"9\",\"10\",\"11\"]},\"id\":\"066c6db3-1f07-4399-9757-d4af993f895e\",\"type\":\"FactorRange\"},{\"attributes\":{\"callback\":null},\"id\":\"ceb2bd43-18a3-4360-8646-b2646ad90543\",\"type\":\"DataRange1d\"},{\"attributes\":{\"plot\":{\"id\":\"fb619754-1e4f-4a17-a473-864cd62c367c\",\"subtype\":\"Figure\",\"type\":\"Plot\"},\"ticker\":{\"id\":\"c8ca0ff5-fcdd-4ccc-a326-2d846406c764\",\"type\":\"CategoricalTicker\"}},\"id\":\"4385d720-03df-4bbc-94cc-e53cfd2096a2\",\"type\":\"Grid\"},{\"attributes\":{},\"id\":\"40526ead-1443-408a-9c23-e3e3de3465c3\",\"type\":\"SaveTool\"},{\"attributes\":{\"tools\":[{\"id\":\"0160bbd5-2f97-459d-86db-c0cb4daa89d0\",\"type\":\"PanTool\"},{\"id\":\"fdd543d1-d2f3-427d-bbd8-4106f9b5c61a\",\"type\":\"WheelZoomTool\"},{\"id\":\"07859a89-e994-414d-85b2-f32faf2b206b\",\"type\":\"BoxZoomTool\"},{\"id\":\"40526ead-1443-408a-9c23-e3e3de3465c3\",\"type\":\"SaveTool\"},{\"id\":\"9a87eeda-1e41-42f5-a081-816e44e89372\",\"type\":\"ResetTool\"},{\"id\":\"c3020e20-a62d-42ea-b849-0a20eb8823a8\",\"type\":\"HelpTool\"},{\"id\":\"2ead9375-60dc-420e-b115-b09c94bc1a1e\",\"type\":\"PanTool\"},{\"id\":\"d51ccf47-b42a-4227-afee-d3ead3088c0e\",\"type\":\"WheelZoomTool\"},{\"id\":\"39d0354a-61a4-4b37-93b6-35ee5bf019b0\",\"type\":\"BoxZoomTool\"},{\"id\":\"3a4c1086-f8e1-4cb0-9c4a-c99c035ebe09\",\"type\":\"SaveTool\"},{\"id\":\"ef92d9c3-5e11-4d74-ab10-2ac9ba2e29d0\",\"type\":\"ResetTool\"},{\"id\":\"cf01e610-9f57-4a31-9fde-ee1cd92f0d60\",\"type\":\"HelpTool\"},{\"id\":\"d38b5032-ce28-432d-8796-b7e38310e3ec\",\"type\":\"PanTool\"},{\"id\":\"084a2765-aa09-4380-b523-0c0dfe684dc9\",\"type\":\"WheelZoomTool\"},{\"id\":\"0c70977f-1704-4167-b01e-14011feac2d2\",\"type\":\"BoxZoomTool\"},{\"id\":\"5783e1e1-0e10-40a3-b3c2-7ebeb58efc9a\",\"type\":\"SaveTool\"},{\"id\":\"57b267cf-3240-4563-8d5a-01de928fe746\",\"type\":\"ResetTool\"},{\"id\":\"01c0a241-6d1f-415d-bfbc-cdb452ae486b\",\"type\":\"HelpTool\"}]},\"id\":\"45758fbb-e7e1-472a-9951-2e7a9964365e\",\"type\":\"ProxyToolbar\"},{\"attributes\":{\"fill_alpha\":{\"value\":0.1},\"fill_color\":{\"value\":\"#1f77b4\"},\"line_alpha\":{\"value\":0.1},\"line_color\":{\"value\":\"#1f77b4\"},\"top\":{\"field\":\"flux\"},\"width\":{\"value\":0.9},\"x\":{\"field\":\"band\"}},\"id\":\"8c33b132-aa39-49a8-b7dd-784b6ade3ed5\",\"type\":\"VBar\"},{\"attributes\":{\"children\":[{\"id\":\"e7983b65-4bd3-438c-b610-98a96e85c286\",\"type\":\"Row\"}]},\"id\":\"19d8aa1e-6ef1-496f-b2f1-a96f11866afb\",\"type\":\"Column\"},{\"attributes\":{},\"id\":\"d38b5032-ce28-432d-8796-b7e38310e3ec\",\"type\":\"PanTool\"},{\"attributes\":{\"fill_color\":{\"value\":\"#1f77b4\"},\"line_color\":{\"value\":\"#1f77b4\"},\"top\":{\"field\":\"flux\"},\"width\":{\"value\":0.9},\"x\":{\"field\":\"band\"}},\"id\":\"3cabfd1d-37dd-4676-8b34-64c4d1d7ac52\",\"type\":\"VBar\"},{\"attributes\":{},\"id\":\"2ed2c4f6-750d-4e81-86a2-447ee882835f\",\"type\":\"CategoricalTickFormatter\"},{\"attributes\":{\"callback\":null,\"data\":{\"band\":[\"1\",\"2\",\"3\",\"4\",\"5\",\"6\",\"7\",\"8\",\"9\",\"10\",\"11\"],\"flux\":{\"__ndarray__\":\"AEqFLU38yj8AArHPEEyyP8B5/x8nzN2/AHKpSltcu79AxHk4genRvwA7NCxGXd6/AJTW3xKAv7+A6Xk3FhTAv0AtSVRe4dS/QDwUw91ywD+Ar782LFfDvw==\",\"dtype\":\"float64\",\"shape\":[11]}},\"selected\":{\"id\":\"d1d41551-7798-4efc-b09f-7fc649cb66c5\",\"type\":\"Selection\"},\"selection_policy\":{\"id\":\"590ad716-d15a-4e55-94af-4078e4d30bf7\",\"type\":\"UnionRenderers\"}},\"id\":\"f7b899fa-ca3f-40af-97dd-d22cb42f87bb\",\"type\":\"ColumnDataSource\"},{\"attributes\":{\"source\":{\"id\":\"f7b899fa-ca3f-40af-97dd-d22cb42f87bb\",\"type\":\"ColumnDataSource\"}},\"id\":\"9559e874-fc0f-4efc-857f-38262a9f0d29\",\"type\":\"CDSView\"},{\"attributes\":{\"overlay\":{\"id\":\"77e239fe-f98e-4078-b8a0-f9de947fcb10\",\"type\":\"BoxAnnotation\"}},\"id\":\"07859a89-e994-414d-85b2-f32faf2b206b\",\"type\":\"BoxZoomTool\"},{\"attributes\":{},\"id\":\"ef92d9c3-5e11-4d74-ab10-2ac9ba2e29d0\",\"type\":\"ResetTool\"},{\"attributes\":{\"axis_label\":\"flux (W m-2)\",\"formatter\":{\"id\":\"27c2a86d-93da-425d-90bc-e68714b03f18\",\"type\":\"BasicTickFormatter\"},\"plot\":{\"id\":\"fb619754-1e4f-4a17-a473-864cd62c367c\",\"subtype\":\"Figure\",\"type\":\"Plot\"},\"ticker\":{\"id\":\"cfcc605d-cfff-4ce6-adb7-48bf25ecda39\",\"type\":\"BasicTicker\"}},\"id\":\"77da62a8-2e06-49eb-9085-23f3005fbcaf\",\"type\":\"LinearAxis\"},{\"attributes\":{},\"id\":\"0ef6ca0e-393c-4450-8636-421b91f0de76\",\"type\":\"BasicTickFormatter\"},{\"attributes\":{\"active_drag\":\"auto\",\"active_inspect\":\"auto\",\"active_scroll\":\"auto\",\"active_tap\":\"auto\",\"tools\":[{\"id\":\"0160bbd5-2f97-459d-86db-c0cb4daa89d0\",\"type\":\"PanTool\"},{\"id\":\"fdd543d1-d2f3-427d-bbd8-4106f9b5c61a\",\"type\":\"WheelZoomTool\"},{\"id\":\"07859a89-e994-414d-85b2-f32faf2b206b\",\"type\":\"BoxZoomTool\"},{\"id\":\"40526ead-1443-408a-9c23-e3e3de3465c3\",\"type\":\"SaveTool\"},{\"id\":\"9a87eeda-1e41-42f5-a081-816e44e89372\",\"type\":\"ResetTool\"},{\"id\":\"c3020e20-a62d-42ea-b849-0a20eb8823a8\",\"type\":\"HelpTool\"}]},\"id\":\"cfd075a1-84f0-41d8-b8bd-0a93c7387a94\",\"type\":\"Toolbar\"},{\"attributes\":{},\"id\":\"9f5f4c0a-5657-4c1b-aae2-d94b82df8ec6\",\"type\":\"BasicTicker\"},{\"attributes\":{},\"id\":\"d1d41551-7798-4efc-b09f-7fc649cb66c5\",\"type\":\"Selection\"},{\"attributes\":{},\"id\":\"dc0add65-c8a5-4114-bf16-d1a66e9ff5f5\",\"type\":\"LinearScale\"},{\"attributes\":{\"plot\":{\"id\":\"6cb83b20-e1d1-4057-b20f-7b271d3fa19d\",\"subtype\":\"Figure\",\"type\":\"Plot\"},\"ticker\":{\"id\":\"6995b230-fbc4-419b-bfaf-3dcec0f69709\",\"type\":\"CategoricalTicker\"}},\"id\":\"8eb1dfd4-060a-47a1-9e3c-41402f755168\",\"type\":\"Grid\"},{\"attributes\":{\"below\":[{\"id\":\"e0d65821-2213-4a87-8727-ac81700949a1\",\"type\":\"CategoricalAxis\"}],\"left\":[{\"id\":\"77da62a8-2e06-49eb-9085-23f3005fbcaf\",\"type\":\"LinearAxis\"}],\"plot_height\":300,\"plot_width\":300,\"renderers\":[{\"id\":\"e0d65821-2213-4a87-8727-ac81700949a1\",\"type\":\"CategoricalAxis\"},{\"id\":\"4385d720-03df-4bbc-94cc-e53cfd2096a2\",\"type\":\"Grid\"},{\"id\":\"77da62a8-2e06-49eb-9085-23f3005fbcaf\",\"type\":\"LinearAxis\"},{\"id\":\"2b75e52f-d9ad-4226-8fea-cc62240bce66\",\"type\":\"Grid\"},{\"id\":\"f0e9d9ab-7b79-46b2-8f0a-eac93295bb9c\",\"type\":\"BoxAnnotation\"},{\"id\":\"7b0427ee-8837-4ae0-ad5d-2d15f350fe52\",\"type\":\"GlyphRenderer\"}],\"title\":{\"id\":\"254239e7-4ac3-4b96-96f0-6a644fe1ae55\",\"type\":\"Title\"},\"toolbar\":{\"id\":\"48fe36f0-08b0-418c-8cbf-bf70956d5219\",\"type\":\"Toolbar\"},\"toolbar_location\":null,\"x_range\":{\"id\":\"c42e142d-6c1f-4364-83cc-7248747cbc3a\",\"type\":\"FactorRange\"},\"x_scale\":{\"id\":\"40d97805-1cb9-4546-80a3-a64688cccc1f\",\"type\":\"CategoricalScale\"},\"y_range\":{\"id\":\"52e2bde8-a0da-47e4-a351-a1f7b224049f\",\"type\":\"DataRange1d\"},\"y_scale\":{\"id\":\"dc0add65-c8a5-4114-bf16-d1a66e9ff5f5\",\"type\":\"LinearScale\"}},\"id\":\"fb619754-1e4f-4a17-a473-864cd62c367c\",\"subtype\":\"Figure\",\"type\":\"Plot\"},{\"attributes\":{\"data_source\":{\"id\":\"f7b899fa-ca3f-40af-97dd-d22cb42f87bb\",\"type\":\"ColumnDataSource\"},\"glyph\":{\"id\":\"c750cc3d-34f4-49f8-9451-9f571d35c04a\",\"type\":\"VBar\"},\"hover_glyph\":null,\"muted_glyph\":null,\"nonselection_glyph\":{\"id\":\"99a0d049-94bc-49e4-9a38-9c75e28f747b\",\"type\":\"VBar\"},\"selection_glyph\":null,\"view\":{\"id\":\"9559e874-fc0f-4efc-857f-38262a9f0d29\",\"type\":\"CDSView\"}},\"id\":\"e9f9c958-b923-4e6b-9364-b058a74fdc5c\",\"type\":\"GlyphRenderer\"},{\"attributes\":{\"active_drag\":\"auto\",\"active_inspect\":\"auto\",\"active_scroll\":\"auto\",\"active_tap\":\"auto\",\"tools\":[{\"id\":\"d38b5032-ce28-432d-8796-b7e38310e3ec\",\"type\":\"PanTool\"},{\"id\":\"084a2765-aa09-4380-b523-0c0dfe684dc9\",\"type\":\"WheelZoomTool\"},{\"id\":\"0c70977f-1704-4167-b01e-14011feac2d2\",\"type\":\"BoxZoomTool\"},{\"id\":\"5783e1e1-0e10-40a3-b3c2-7ebeb58efc9a\",\"type\":\"SaveTool\"},{\"id\":\"57b267cf-3240-4563-8d5a-01de928fe746\",\"type\":\"ResetTool\"},{\"id\":\"01c0a241-6d1f-415d-bfbc-cdb452ae486b\",\"type\":\"HelpTool\"}]},\"id\":\"c8fa2bbb-3c59-4ec1-8213-505a97263bf0\",\"type\":\"Toolbar\"},{\"attributes\":{\"bottom_units\":\"screen\",\"fill_alpha\":{\"value\":0.5},\"fill_color\":{\"value\":\"lightgrey\"},\"left_units\":\"screen\",\"level\":\"overlay\",\"line_alpha\":{\"value\":1.0},\"line_color\":{\"value\":\"black\"},\"line_dash\":[4,4],\"line_width\":{\"value\":2},\"plot\":null,\"render_mode\":\"css\",\"right_units\":\"screen\",\"top_units\":\"screen\"},\"id\":\"77e239fe-f98e-4078-b8a0-f9de947fcb10\",\"type\":\"BoxAnnotation\"},{\"attributes\":{\"callback\":null,\"data\":{\"band\":[\"1\",\"2\",\"3\",\"4\",\"5\",\"6\",\"7\",\"8\",\"9\",\"10\",\"11\"],\"flux\":{\"__ndarray__\":\"AADADkbs874Asf1kjA/QPwBvgQTFj9k/AABmogipez8A8b2/QXvNP6AXmYBfI94/YKTpotdVtT8AMLyS5LmOPwBA0hkYeXk/AED5u3fUiD9YLG0nALXgPw==\",\"dtype\":\"float64\",\"shape\":[11]}},\"selected\":{\"id\":\"9fd8f37f-75d7-4140-a7e5-e2dc948ba0bc\",\"type\":\"Selection\"},\"selection_policy\":{\"id\":\"d3c6796e-992f-4d3e-aaf5-8f82cfa16ec6\",\"type\":\"UnionRenderers\"}},\"id\":\"62651e00-46fc-4d47-aaed-178a8f913e5b\",\"type\":\"ColumnDataSource\"},{\"attributes\":{\"plot\":null,\"text\":\"SFC flux. CLIRAD - CRD.\"},\"id\":\"254239e7-4ac3-4b96-96f0-6a644fe1ae55\",\"type\":\"Title\"},{\"attributes\":{\"active_drag\":\"auto\",\"active_inspect\":\"auto\",\"active_scroll\":\"auto\",\"active_tap\":\"auto\",\"tools\":[{\"id\":\"2ead9375-60dc-420e-b115-b09c94bc1a1e\",\"type\":\"PanTool\"},{\"id\":\"d51ccf47-b42a-4227-afee-d3ead3088c0e\",\"type\":\"WheelZoomTool\"},{\"id\":\"39d0354a-61a4-4b37-93b6-35ee5bf019b0\",\"type\":\"BoxZoomTool\"},{\"id\":\"3a4c1086-f8e1-4cb0-9c4a-c99c035ebe09\",\"type\":\"SaveTool\"},{\"id\":\"ef92d9c3-5e11-4d74-ab10-2ac9ba2e29d0\",\"type\":\"ResetTool\"},{\"id\":\"cf01e610-9f57-4a31-9fde-ee1cd92f0d60\",\"type\":\"HelpTool\"}]},\"id\":\"48fe36f0-08b0-418c-8cbf-bf70956d5219\",\"type\":\"Toolbar\"},{\"attributes\":{},\"id\":\"c424449c-b389-4226-a3e1-057c826baf46\",\"type\":\"Selection\"},{\"attributes\":{},\"id\":\"9fd8f37f-75d7-4140-a7e5-e2dc948ba0bc\",\"type\":\"Selection\"},{\"attributes\":{},\"id\":\"d3c6796e-992f-4d3e-aaf5-8f82cfa16ec6\",\"type\":\"UnionRenderers\"},{\"attributes\":{},\"id\":\"1afffbc4-675b-46a2-be3d-13818a23e316\",\"type\":\"CategoricalTickFormatter\"},{\"attributes\":{\"source\":{\"id\":\"62651e00-46fc-4d47-aaed-178a8f913e5b\",\"type\":\"ColumnDataSource\"}},\"id\":\"d3306a90-ad97-45a0-9efb-29c491efd4ca\",\"type\":\"CDSView\"},{\"attributes\":{},\"id\":\"6995b230-fbc4-419b-bfaf-3dcec0f69709\",\"type\":\"CategoricalTicker\"},{\"attributes\":{},\"id\":\"2ead9375-60dc-420e-b115-b09c94bc1a1e\",\"type\":\"PanTool\"},{\"attributes\":{\"bottom_units\":\"screen\",\"fill_alpha\":{\"value\":0.5},\"fill_color\":{\"value\":\"lightgrey\"},\"left_units\":\"screen\",\"level\":\"overlay\",\"line_alpha\":{\"value\":1.0},\"line_color\":{\"value\":\"black\"},\"line_dash\":[4,4],\"line_width\":{\"value\":2},\"plot\":null,\"render_mode\":\"css\",\"right_units\":\"screen\",\"top_units\":\"screen\"},\"id\":\"0d869da5-a3fb-413c-8644-ec9a7aa4fcb2\",\"type\":\"BoxAnnotation\"},{\"attributes\":{},\"id\":\"084a2765-aa09-4380-b523-0c0dfe684dc9\",\"type\":\"WheelZoomTool\"},{\"attributes\":{\"data_source\":{\"id\":\"0115e128-0034-4fa4-a09b-fd20d64f083f\",\"type\":\"ColumnDataSource\"},\"glyph\":{\"id\":\"97c0da38-17f4-44b4-a7d9-3b16ffef1423\",\"type\":\"VBar\"},\"hover_glyph\":null,\"muted_glyph\":null,\"nonselection_glyph\":{\"id\":\"8c33b132-aa39-49a8-b7dd-784b6ade3ed5\",\"type\":\"VBar\"},\"selection_glyph\":null,\"view\":{\"id\":\"ec331834-25dd-469e-97af-4ebeed112840\",\"type\":\"CDSView\"}},\"id\":\"9081fba8-e105-4438-9af2-b07999a56720\",\"type\":\"GlyphRenderer\"},{\"attributes\":{},\"id\":\"40d97805-1cb9-4546-80a3-a64688cccc1f\",\"type\":\"CategoricalScale\"},{\"attributes\":{\"fill_alpha\":{\"value\":0.1},\"fill_color\":{\"value\":\"#1f77b4\"},\"line_alpha\":{\"value\":0.1},\"line_color\":{\"value\":\"#1f77b4\"},\"top\":{\"field\":\"flux\"},\"width\":{\"value\":0.9},\"x\":{\"field\":\"band\"}},\"id\":\"f652bd11-163f-467f-82e3-1b4e6cbb575e\",\"type\":\"VBar\"},{\"attributes\":{\"fill_color\":{\"value\":\"#1f77b4\"},\"line_color\":{\"value\":\"#1f77b4\"},\"top\":{\"field\":\"flux\"},\"width\":{\"value\":0.9},\"x\":{\"field\":\"band\"}},\"id\":\"97c0da38-17f4-44b4-a7d9-3b16ffef1423\",\"type\":\"VBar\"},{\"attributes\":{},\"id\":\"57b267cf-3240-4563-8d5a-01de928fe746\",\"type\":\"ResetTool\"},{\"attributes\":{\"plot\":null,\"text\":\"TOA flux. CLIRAD - CRD.\"},\"id\":\"c0ffd991-0b73-4b6c-ad00-8723f7891bce\",\"type\":\"Title\"},{\"attributes\":{\"axis_label\":\"spectral band\",\"formatter\":{\"id\":\"2ed2c4f6-750d-4e81-86a2-447ee882835f\",\"type\":\"CategoricalTickFormatter\"},\"plot\":{\"id\":\"6cb83b20-e1d1-4057-b20f-7b271d3fa19d\",\"subtype\":\"Figure\",\"type\":\"Plot\"},\"ticker\":{\"id\":\"6995b230-fbc4-419b-bfaf-3dcec0f69709\",\"type\":\"CategoricalTicker\"}},\"id\":\"c2c8a06c-cbde-44ab-a063-3f46e91f771a\",\"type\":\"CategoricalAxis\"},{\"attributes\":{\"axis_label\":\"spectral band\",\"formatter\":{\"id\":\"1afffbc4-675b-46a2-be3d-13818a23e316\",\"type\":\"CategoricalTickFormatter\"},\"plot\":{\"id\":\"fb619754-1e4f-4a17-a473-864cd62c367c\",\"subtype\":\"Figure\",\"type\":\"Plot\"},\"ticker\":{\"id\":\"c8ca0ff5-fcdd-4ccc-a326-2d846406c764\",\"type\":\"CategoricalTicker\"}},\"id\":\"e0d65821-2213-4a87-8727-ac81700949a1\",\"type\":\"CategoricalAxis\"},{\"attributes\":{},\"id\":\"b7cbe806-a9b9-4b7a-9a15-e0e779b0e0cd\",\"type\":\"CategoricalTicker\"},{\"attributes\":{\"callback\":null,\"factors\":[\"1\",\"2\",\"3\",\"4\",\"5\",\"6\",\"7\",\"8\",\"9\",\"10\",\"11\"]},\"id\":\"f886ecf9-4bdf-4c8b-8b57-62fc26c2ebe2\",\"type\":\"FactorRange\"},{\"attributes\":{\"source\":{\"id\":\"0115e128-0034-4fa4-a09b-fd20d64f083f\",\"type\":\"ColumnDataSource\"}},\"id\":\"ec331834-25dd-469e-97af-4ebeed112840\",\"type\":\"CDSView\"},{\"attributes\":{\"below\":[{\"id\":\"196be12f-d839-47f7-884e-52bbefef27b1\",\"type\":\"CategoricalAxis\"}],\"left\":[{\"id\":\"5ed81d22-46c1-4086-82b3-3e5544a6d553\",\"type\":\"LinearAxis\"}],\"plot_height\":300,\"plot_width\":300,\"renderers\":[{\"id\":\"196be12f-d839-47f7-884e-52bbefef27b1\",\"type\":\"CategoricalAxis\"},{\"id\":\"a772c8d5-edae-470a-8786-6219cca6fd32\",\"type\":\"Grid\"},{\"id\":\"5ed81d22-46c1-4086-82b3-3e5544a6d553\",\"type\":\"LinearAxis\"},{\"id\":\"40d4d192-5488-42b5-9af1-139866737d3b\",\"type\":\"Grid\"},{\"id\":\"0d869da5-a3fb-413c-8644-ec9a7aa4fcb2\",\"type\":\"BoxAnnotation\"},{\"id\":\"e9f9c958-b923-4e6b-9364-b058a74fdc5c\",\"type\":\"GlyphRenderer\"}],\"title\":{\"id\":\"b86ae82c-ab16-40f6-a005-dafa4d1feddd\",\"type\":\"Title\"},\"toolbar\":{\"id\":\"c8fa2bbb-3c59-4ec1-8213-505a97263bf0\",\"type\":\"Toolbar\"},\"toolbar_location\":null,\"x_range\":{\"id\":\"066c6db3-1f07-4399-9757-d4af993f895e\",\"type\":\"FactorRange\"},\"x_scale\":{\"id\":\"28ed98fa-f2a5-43c6-bbda-2fb32e4d80d3\",\"type\":\"CategoricalScale\"},\"y_range\":{\"id\":\"e3d328a6-5cec-4540-b15d-e0fbbc36c418\",\"type\":\"DataRange1d\"},\"y_scale\":{\"id\":\"796e785a-2c48-4f18-bc01-8010e40ab458\",\"type\":\"LinearScale\"}},\"id\":\"c9f7959d-f47f-4e89-b573-958080cd4ea6\",\"subtype\":\"Figure\",\"type\":\"Plot\"},{\"attributes\":{\"axis_label\":\"flux (W m-2)\",\"formatter\":{\"id\":\"0ef6ca0e-393c-4450-8636-421b91f0de76\",\"type\":\"BasicTickFormatter\"},\"plot\":{\"id\":\"6cb83b20-e1d1-4057-b20f-7b271d3fa19d\",\"subtype\":\"Figure\",\"type\":\"Plot\"},\"ticker\":{\"id\":\"f8281b10-8ab5-40d1-9556-5a3462813b17\",\"type\":\"BasicTicker\"}},\"id\":\"14b59f58-43c0-4d39-ab9d-75af075a29ff\",\"type\":\"LinearAxis\"},{\"attributes\":{\"bottom_units\":\"screen\",\"fill_alpha\":{\"value\":0.5},\"fill_color\":{\"value\":\"lightgrey\"},\"left_units\":\"screen\",\"level\":\"overlay\",\"line_alpha\":{\"value\":1.0},\"line_color\":{\"value\":\"black\"},\"line_dash\":[4,4],\"line_width\":{\"value\":2},\"plot\":null,\"render_mode\":\"css\",\"right_units\":\"screen\",\"top_units\":\"screen\"},\"id\":\"f0e9d9ab-7b79-46b2-8f0a-eac93295bb9c\",\"type\":\"BoxAnnotation\"},{\"attributes\":{\"fill_color\":{\"value\":\"#1f77b4\"},\"line_color\":{\"value\":\"#1f77b4\"},\"top\":{\"field\":\"flux\"},\"width\":{\"value\":0.9},\"x\":{\"field\":\"band\"}},\"id\":\"c750cc3d-34f4-49f8-9451-9f571d35c04a\",\"type\":\"VBar\"},{\"attributes\":{},\"id\":\"796e785a-2c48-4f18-bc01-8010e40ab458\",\"type\":\"LinearScale\"},{\"attributes\":{},\"id\":\"7c40a8f5-21bf-4c7e-969c-f17155db8536\",\"type\":\"BasicTickFormatter\"},{\"attributes\":{\"overlay\":{\"id\":\"f0e9d9ab-7b79-46b2-8f0a-eac93295bb9c\",\"type\":\"BoxAnnotation\"}},\"id\":\"39d0354a-61a4-4b37-93b6-35ee5bf019b0\",\"type\":\"BoxZoomTool\"},{\"attributes\":{\"children\":[{\"id\":\"b1830118-2d1e-49de-bffe-ce129291466e\",\"type\":\"ToolbarBox\"},{\"id\":\"19d8aa1e-6ef1-496f-b2f1-a96f11866afb\",\"type\":\"Column\"}]},\"id\":\"ec452daa-3a10-42f4-8c3b-fc9ba0fb8790\",\"type\":\"Column\"},{\"attributes\":{\"callback\":null,\"data\":{\"band\":[\"1\",\"2\",\"3\",\"4\",\"5\",\"6\",\"7\",\"8\",\"9\",\"10\",\"11\"],\"flux\":{\"__ndarray__\":\"ALvVc9L7yj8A+yZNg6LUPwDYne488bC/ABSDwMqhub8AYNbEAl+pvwCAkc1V82y/ALD5uDZUpL8Aic4yi1C8v4BbWg2Je9S/oJog6j4Awj+gIVvxaL7XPw==\",\"dtype\":\"float64\",\"shape\":[11]}},\"selected\":{\"id\":\"c424449c-b389-4226-a3e1-057c826baf46\",\"type\":\"Selection\"},\"selection_policy\":{\"id\":\"660d35fb-f742-4d97-803d-a7ef696d00dd\",\"type\":\"UnionRenderers\"}},\"id\":\"0115e128-0034-4fa4-a09b-fd20d64f083f\",\"type\":\"ColumnDataSource\"},{\"attributes\":{},\"id\":\"c3020e20-a62d-42ea-b849-0a20eb8823a8\",\"type\":\"HelpTool\"},{\"attributes\":{\"toolbar\":{\"id\":\"45758fbb-e7e1-472a-9951-2e7a9964365e\",\"type\":\"ProxyToolbar\"},\"toolbar_location\":\"above\"},\"id\":\"b1830118-2d1e-49de-bffe-ce129291466e\",\"type\":\"ToolbarBox\"},{\"attributes\":{\"plot\":null,\"text\":\"Atmosphere heating. CLIRAD - CRD.\"},\"id\":\"b86ae82c-ab16-40f6-a005-dafa4d1feddd\",\"type\":\"Title\"},{\"attributes\":{},\"id\":\"c8ca0ff5-fcdd-4ccc-a326-2d846406c764\",\"type\":\"CategoricalTicker\"},{\"attributes\":{},\"id\":\"9a87eeda-1e41-42f5-a081-816e44e89372\",\"type\":\"ResetTool\"},{\"attributes\":{},\"id\":\"01c0a241-6d1f-415d-bfbc-cdb452ae486b\",\"type\":\"HelpTool\"},{\"attributes\":{\"data_source\":{\"id\":\"62651e00-46fc-4d47-aaed-178a8f913e5b\",\"type\":\"ColumnDataSource\"},\"glyph\":{\"id\":\"3cabfd1d-37dd-4676-8b34-64c4d1d7ac52\",\"type\":\"VBar\"},\"hover_glyph\":null,\"muted_glyph\":null,\"nonselection_glyph\":{\"id\":\"f652bd11-163f-467f-82e3-1b4e6cbb575e\",\"type\":\"VBar\"},\"selection_glyph\":null,\"view\":{\"id\":\"d3306a90-ad97-45a0-9efb-29c491efd4ca\",\"type\":\"CDSView\"}},\"id\":\"7b0427ee-8837-4ae0-ad5d-2d15f350fe52\",\"type\":\"GlyphRenderer\"},{\"attributes\":{},\"id\":\"8330ec39-b707-4375-b783-e74dc34341b5\",\"type\":\"CategoricalScale\"},{\"attributes\":{},\"id\":\"cfcc605d-cfff-4ce6-adb7-48bf25ecda39\",\"type\":\"BasicTicker\"},{\"attributes\":{},\"id\":\"590ad716-d15a-4e55-94af-4078e4d30bf7\",\"type\":\"UnionRenderers\"},{\"attributes\":{\"axis_label\":\"flux (W m-2)\",\"formatter\":{\"id\":\"7c40a8f5-21bf-4c7e-969c-f17155db8536\",\"type\":\"BasicTickFormatter\"},\"plot\":{\"id\":\"c9f7959d-f47f-4e89-b573-958080cd4ea6\",\"subtype\":\"Figure\",\"type\":\"Plot\"},\"ticker\":{\"id\":\"9f5f4c0a-5657-4c1b-aae2-d94b82df8ec6\",\"type\":\"BasicTicker\"}},\"id\":\"5ed81d22-46c1-4086-82b3-3e5544a6d553\",\"type\":\"LinearAxis\"},{\"attributes\":{\"plot\":{\"id\":\"c9f7959d-f47f-4e89-b573-958080cd4ea6\",\"subtype\":\"Figure\",\"type\":\"Plot\"},\"ticker\":{\"id\":\"b7cbe806-a9b9-4b7a-9a15-e0e779b0e0cd\",\"type\":\"CategoricalTicker\"}},\"id\":\"a772c8d5-edae-470a-8786-6219cca6fd32\",\"type\":\"Grid\"},{\"attributes\":{},\"id\":\"660d35fb-f742-4d97-803d-a7ef696d00dd\",\"type\":\"UnionRenderers\"},{\"attributes\":{},\"id\":\"3a4c1086-f8e1-4cb0-9c4a-c99c035ebe09\",\"type\":\"SaveTool\"},{\"attributes\":{},\"id\":\"9c405716-3e21-4ce1-90b6-5d4f094937cd\",\"type\":\"CategoricalTickFormatter\"},{\"attributes\":{},\"id\":\"28ed98fa-f2a5-43c6-bbda-2fb32e4d80d3\",\"type\":\"CategoricalScale\"},{\"attributes\":{\"children\":[{\"id\":\"6cb83b20-e1d1-4057-b20f-7b271d3fa19d\",\"subtype\":\"Figure\",\"type\":\"Plot\"},{\"id\":\"fb619754-1e4f-4a17-a473-864cd62c367c\",\"subtype\":\"Figure\",\"type\":\"Plot\"},{\"id\":\"c9f7959d-f47f-4e89-b573-958080cd4ea6\",\"subtype\":\"Figure\",\"type\":\"Plot\"}]},\"id\":\"e7983b65-4bd3-438c-b610-98a96e85c286\",\"type\":\"Row\"},{\"attributes\":{\"callback\":null},\"id\":\"52e2bde8-a0da-47e4-a351-a1f7b224049f\",\"type\":\"DataRange1d\"},{\"attributes\":{\"below\":[{\"id\":\"c2c8a06c-cbde-44ab-a063-3f46e91f771a\",\"type\":\"CategoricalAxis\"}],\"left\":[{\"id\":\"14b59f58-43c0-4d39-ab9d-75af075a29ff\",\"type\":\"LinearAxis\"}],\"plot_height\":300,\"plot_width\":300,\"renderers\":[{\"id\":\"c2c8a06c-cbde-44ab-a063-3f46e91f771a\",\"type\":\"CategoricalAxis\"},{\"id\":\"8eb1dfd4-060a-47a1-9e3c-41402f755168\",\"type\":\"Grid\"},{\"id\":\"14b59f58-43c0-4d39-ab9d-75af075a29ff\",\"type\":\"LinearAxis\"},{\"id\":\"6409991f-b668-48ea-adc9-6e22400eb0af\",\"type\":\"Grid\"},{\"id\":\"77e239fe-f98e-4078-b8a0-f9de947fcb10\",\"type\":\"BoxAnnotation\"},{\"id\":\"9081fba8-e105-4438-9af2-b07999a56720\",\"type\":\"GlyphRenderer\"}],\"title\":{\"id\":\"c0ffd991-0b73-4b6c-ad00-8723f7891bce\",\"type\":\"Title\"},\"toolbar\":{\"id\":\"cfd075a1-84f0-41d8-b8bd-0a93c7387a94\",\"type\":\"Toolbar\"},\"toolbar_location\":null,\"x_range\":{\"id\":\"f886ecf9-4bdf-4c8b-8b57-62fc26c2ebe2\",\"type\":\"FactorRange\"},\"x_scale\":{\"id\":\"8330ec39-b707-4375-b783-e74dc34341b5\",\"type\":\"CategoricalScale\"},\"y_range\":{\"id\":\"ceb2bd43-18a3-4360-8646-b2646ad90543\",\"type\":\"DataRange1d\"},\"y_scale\":{\"id\":\"546180fb-4c1c-4204-9d48-946b00e940fb\",\"type\":\"LinearScale\"}},\"id\":\"6cb83b20-e1d1-4057-b20f-7b271d3fa19d\",\"subtype\":\"Figure\",\"type\":\"Plot\"},{\"attributes\":{},\"id\":\"f8281b10-8ab5-40d1-9556-5a3462813b17\",\"type\":\"BasicTicker\"},{\"attributes\":{},\"id\":\"d51ccf47-b42a-4227-afee-d3ead3088c0e\",\"type\":\"WheelZoomTool\"},{\"attributes\":{\"fill_alpha\":{\"value\":0.1},\"fill_color\":{\"value\":\"#1f77b4\"},\"line_alpha\":{\"value\":0.1},\"line_color\":{\"value\":\"#1f77b4\"},\"top\":{\"field\":\"flux\"},\"width\":{\"value\":0.9},\"x\":{\"field\":\"band\"}},\"id\":\"99a0d049-94bc-49e4-9a38-9c75e28f747b\",\"type\":\"VBar\"},{\"attributes\":{\"axis_label\":\"spectral band\",\"formatter\":{\"id\":\"9c405716-3e21-4ce1-90b6-5d4f094937cd\",\"type\":\"CategoricalTickFormatter\"},\"plot\":{\"id\":\"c9f7959d-f47f-4e89-b573-958080cd4ea6\",\"subtype\":\"Figure\",\"type\":\"Plot\"},\"ticker\":{\"id\":\"b7cbe806-a9b9-4b7a-9a15-e0e779b0e0cd\",\"type\":\"CategoricalTicker\"}},\"id\":\"196be12f-d839-47f7-884e-52bbefef27b1\",\"type\":\"CategoricalAxis\"},{\"attributes\":{\"callback\":null},\"id\":\"e3d328a6-5cec-4540-b15d-e0fbbc36c418\",\"type\":\"DataRange1d\"},{\"attributes\":{},\"id\":\"fdd543d1-d2f3-427d-bbd8-4106f9b5c61a\",\"type\":\"WheelZoomTool\"},{\"attributes\":{},\"id\":\"cf01e610-9f57-4a31-9fde-ee1cd92f0d60\",\"type\":\"HelpTool\"},{\"attributes\":{\"callback\":null,\"factors\":[\"1\",\"2\",\"3\",\"4\",\"5\",\"6\",\"7\",\"8\",\"9\",\"10\",\"11\"]},\"id\":\"c42e142d-6c1f-4364-83cc-7248747cbc3a\",\"type\":\"FactorRange\"},{\"attributes\":{},\"id\":\"5783e1e1-0e10-40a3-b3c2-7ebeb58efc9a\",\"type\":\"SaveTool\"},{\"attributes\":{\"dimension\":1,\"plot\":{\"id\":\"c9f7959d-f47f-4e89-b573-958080cd4ea6\",\"subtype\":\"Figure\",\"type\":\"Plot\"},\"ticker\":{\"id\":\"9f5f4c0a-5657-4c1b-aae2-d94b82df8ec6\",\"type\":\"BasicTicker\"}},\"id\":\"40d4d192-5488-42b5-9af1-139866737d3b\",\"type\":\"Grid\"}],\"root_ids\":[\"ec452daa-3a10-42f4-8c3b-fc9ba0fb8790\"]},\"title\":\"Bokeh Application\",\"version\":\"0.12.16\"}};\n",
       "  var render_items = [{\"docid\":\"5ad08552-13b4-4530-bc5f-89781403a4c1\",\"elementid\":\"14770dd7-303f-4222-907e-b8c424a008dc\",\"modelid\":\"ec452daa-3a10-42f4-8c3b-fc9ba0fb8790\"}];\n",
       "  root.Bokeh.embed.embed_items_notebook(docs_json, render_items);\n",
       "\n",
       "  }\n",
       "  if (root.Bokeh !== undefined) {\n",
       "    embed_document(root);\n",
       "  } else {\n",
       "    var attempts = 0;\n",
       "    var timer = setInterval(function(root) {\n",
       "      if (root.Bokeh !== undefined) {\n",
       "        embed_document(root);\n",
       "        clearInterval(timer);\n",
       "      }\n",
       "      attempts++;\n",
       "      if (attempts > 100) {\n",
       "        console.log(\"Bokeh: ERROR: Unable to run BokehJS code because BokehJS library is missing\")\n",
       "        clearInterval(timer);\n",
       "      }\n",
       "    }, 10, root)\n",
       "  }\n",
       "})(window);"
      ],
      "application/vnd.bokehjs_exec.v0+json": ""
     },
     "metadata": {
      "application/vnd.bokehjs_exec.v0+json": {
       "id": "ec452daa-3a10-42f4-8c3b-fc9ba0fb8790"
      }
     },
     "output_type": "display_data"
    },
    {
     "data": {
      "text/markdown": [
       "*FIGURE.* Difference between CLIRAD and CRD in TOA, SFC and net atmosphere flux, in each spectral band."
      ],
      "text/plain": [
       "<IPython.core.display.Markdown object>"
      ]
     },
     "metadata": {},
     "output_type": "display_data"
    },
    {
     "data": {
      "text/html": [
       "<div>\n",
       "<style scoped>\n",
       "    .dataframe tbody tr th:only-of-type {\n",
       "        vertical-align: middle;\n",
       "    }\n",
       "\n",
       "    .dataframe tbody tr th {\n",
       "        vertical-align: top;\n",
       "    }\n",
       "\n",
       "    .dataframe thead th {\n",
       "        text-align: right;\n",
       "    }\n",
       "</style>\n",
       "<table border=\"1\" class=\"dataframe\">\n",
       "  <thead>\n",
       "    <tr style=\"text-align: right;\">\n",
       "      <th></th>\n",
       "      <th>OLR flux</th>\n",
       "      <th>SFC flux</th>\n",
       "      <th>ATM heating</th>\n",
       "    </tr>\n",
       "    <tr>\n",
       "      <th>Sum over bands</th>\n",
       "      <th></th>\n",
       "      <th></th>\n",
       "      <th></th>\n",
       "    </tr>\n",
       "  </thead>\n",
       "  <tbody>\n",
       "    <tr>\n",
       "      <th>CLIRAD - CRD</th>\n",
       "      <td>0.36</td>\n",
       "      <td>2.00</td>\n",
       "      <td>-1.64</td>\n",
       "    </tr>\n",
       "    <tr>\n",
       "      <th>CRD</th>\n",
       "      <td>-351.98</td>\n",
       "      <td>305.47</td>\n",
       "      <td>-198.18</td>\n",
       "    </tr>\n",
       "  </tbody>\n",
       "</table>\n",
       "</div>"
      ],
      "text/plain": [
       "                OLR flux  SFC flux  ATM heating\n",
       "Sum over bands                                 \n",
       "CLIRAD - CRD        0.36      2.00        -1.64\n",
       "CRD              -351.98    305.47      -198.18"
      ]
     },
     "metadata": {},
     "output_type": "display_data"
    },
    {
     "data": {
      "text/markdown": [
       "*TABLE.* Difference between CLIRAD and CRD in TOA, SFC and net atmosphere flux, over all spectral bands. CRD's TOA, SFC and net atmosphere flux, over all spectral bands."
      ],
      "text/plain": [
       "<IPython.core.display.Markdown object>"
      ]
     },
     "metadata": {},
     "output_type": "display_data"
    },
    {
     "data": {
      "text/html": [
       "Download: <a href=\"./results_h2oatm_cliradsinglerun-Copy2.xlsx\">results_h2oatm_cliradsinglerun-Copy2.xlsx</a>"
      ],
      "text/plain": [
       "<IPython.core.display.HTML object>"
      ]
     },
     "metadata": {},
     "output_type": "display_data"
    }
   ],
   "source": [
    "def script():\n",
    "    \n",
    "    d_atm = {'mls': 'mid-latitude summer',\n",
    "             'saw': 'sub-arctic winter',\n",
    "             'trp': 'tropical'}\n",
    "    \n",
    "    title = ('## Results over entire range of molecules'\n",
    "             ' and spectral bands')\n",
    "    \n",
    "    s_makeup = 'Makeup of atmosphere.'\n",
    "    s_atmpro = '# {}'\n",
    "    s_cool = 'Cooling rates. {}.'\n",
    "    s_flux = 'Fluxes. {}.'\n",
    "    \n",
    "    atmpros = ['mls', 'saw', 'trp']\n",
    "    \n",
    "    # TOC\n",
    "    show_markdown(title)\n",
    "    show_markdown('### Table of Contents')\n",
    "    show_html(climahtml.getHTML_hrefanchor(s_makeup))\n",
    "    for atmpro in atmpros:\n",
    "        show_markdown('**' + d_atm[atmpro] + '**')\n",
    "        show_html(climahtml.getHTML_hrefanchor(s_cool.format(atmpro)))\n",
    "        show_html(climahtml.getHTML_hrefanchor(s_flux.format(atmpro)))\n",
    "\n",
    "        \n",
    "    # Atmosphere makeup\n",
    "    show_html(climahtml.getHTML_idanchor(s_makeup))\n",
    "    show_markdown(climahtml.getMarkdown_sectitle(s_makeup))\n",
    "    show_makeup()\n",
    "#    show_grey_makeup()\n",
    "        \n",
    "    for atmpro in atmpros:\n",
    "        show_html(climahtml.getHTML_idanchor(s_cool.format(atmpro)))\n",
    "        show_markdown(\n",
    "            climahtml.getMarkdown_sectitle(s_cool.format(atmpro)))\n",
    "        show_cool(atmpro=atmpro)\n",
    "        show_html(climahtml.getHTML_idanchor(s_flux.format(atmpro)))\n",
    "        show_markdown(\n",
    "            climahtml.getMarkdown_sectitle(s_flux.format(atmpro)))\n",
    "        show_hist_flux(atmpro=atmpro)\n",
    "        show_tb_flux(atmpro=atmpro)\n",
    "    \n",
    "    script_tofile()\n",
    "    \n",
    "script()  "
   ]
  },
  {
   "cell_type": "code",
   "execution_count": null,
   "metadata": {
    "collapsed": true
   },
   "outputs": [],
   "source": []
  },
  {
   "cell_type": "code",
   "execution_count": 18,
   "metadata": {},
   "outputs": [
    {
     "data": {
      "text/html": [
       "<script>\n",
       "code_show=true; \n",
       "function code_toggle() {\n",
       " if (code_show){\n",
       " $('div.input').hide();\n",
       " } else {\n",
       " $('div.input').show();\n",
       " }\n",
       " code_show = !code_show\n",
       "} \n",
       "$( document ).ready(code_toggle);\n",
       "</script>\n",
       "<form action=\"javascript:code_toggle()\"><input type=\"submit\" value=\"Click here to toggle on/off the raw code.\"></form>"
      ],
      "text/plain": [
       "<IPython.core.display.HTML object>"
      ]
     },
     "execution_count": 18,
     "metadata": {},
     "output_type": "execute_result"
    }
   ],
   "source": [
    "display.HTML('''<script>\n",
    "code_show=true; \n",
    "function code_toggle() {\n",
    " if (code_show){\n",
    " $('div.input').hide();\n",
    " } else {\n",
    " $('div.input').show();\n",
    " }\n",
    " code_show = !code_show\n",
    "} \n",
    "$( document ).ready(code_toggle);\n",
    "</script>\n",
    "<form action=\"javascript:code_toggle()\"><input type=\"submit\" value=\"Click here to toggle on/off the raw code.\"></form>''')"
   ]
  },
  {
   "cell_type": "code",
   "execution_count": null,
   "metadata": {
    "collapsed": true
   },
   "outputs": [],
   "source": []
  }
 ],
 "metadata": {
  "kernelspec": {
   "display_name": "Python 3",
   "language": "python",
   "name": "python3"
  },
  "language_info": {
   "codemirror_mode": {
    "name": "ipython",
    "version": 3
   },
   "file_extension": ".py",
   "mimetype": "text/x-python",
   "name": "python",
   "nbconvert_exporter": "python",
   "pygments_lexer": "ipython3",
   "version": "3.6.7"
  }
 },
 "nbformat": 4,
 "nbformat_minor": 2
}
