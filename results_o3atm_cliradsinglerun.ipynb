{
 "cells": [
  {
   "cell_type": "code",
   "execution_count": 1,
   "metadata": {
    "collapsed": true
   },
   "outputs": [],
   "source": [
    "%reload_ext autoreload\n",
    "%autoreload 2\n",
    "\n",
    "import os\n",
    "import io\n",
    "import ast\n",
    "import json\n",
    "import importlib \n",
    "import itertools\n",
    "import collections\n",
    "import pprint\n",
    "\n",
    "import pymongo\n",
    "\n",
    "from bokeh.io import output_notebook, show\n",
    "from bokeh.layouts import gridplot\n",
    "from bokeh.plotting import figure\n",
    "from bokeh.models import Range1d, Legend, ColumnDataSource, FactorRange\n",
    "from bokeh.palettes import all_palettes\n",
    "from bokeh.transform import factor_cmap\n",
    "\n",
    "import matplotlib\n",
    "import matplotlib.pyplot as plt\n",
    "import numpy as np\n",
    "import pandas as pd\n",
    "import xarray as xr\n",
    "\n",
    "from climatools.atm.absorbers import *\n",
    "\n",
    "import climatools.lblnew.bestfit_params as bestfits\n",
    "from climatools.lblnew import setup_bestfit, setup_overlap\n",
    "import climatools.lblnew.pipeline as pipe_lblnew\n",
    "\n",
    "from climatools.cliradlw.utils import *\n",
    "import climatools.cliradlw.setup as setup_cliradlw\n",
    "import climatools.cliradlw.pipeline as pipe_cliradlw\n",
    "from climatools.cliradlw.dataset import *\n",
    "\n",
    "import climatools.html.html as climahtml\n",
    "from climatools.lblnew.dataio import *\n",
    "from climatools.plot.plot import *\n",
    "\n",
    "from IPython import display"
   ]
  },
  {
   "cell_type": "code",
   "execution_count": 2,
   "metadata": {
    "scrolled": true
   },
   "outputs": [
    {
     "data": {
      "text/html": [
       "\n",
       "    <div class=\"bk-root\">\n",
       "        <a href=\"https://bokeh.pydata.org\" target=\"_blank\" class=\"bk-logo bk-logo-small bk-logo-notebook\"></a>\n",
       "        <span id=\"bca66cb9-1d11-4d15-9d58-b3c6efbe1d30\">Loading BokehJS ...</span>\n",
       "    </div>"
      ]
     },
     "metadata": {},
     "output_type": "display_data"
    },
    {
     "data": {
      "application/javascript": [
       "\n",
       "(function(root) {\n",
       "  function now() {\n",
       "    return new Date();\n",
       "  }\n",
       "\n",
       "  var force = true;\n",
       "\n",
       "  if (typeof (root._bokeh_onload_callbacks) === \"undefined\" || force === true) {\n",
       "    root._bokeh_onload_callbacks = [];\n",
       "    root._bokeh_is_loading = undefined;\n",
       "  }\n",
       "\n",
       "  var JS_MIME_TYPE = 'application/javascript';\n",
       "  var HTML_MIME_TYPE = 'text/html';\n",
       "  var EXEC_MIME_TYPE = 'application/vnd.bokehjs_exec.v0+json';\n",
       "  var CLASS_NAME = 'output_bokeh rendered_html';\n",
       "\n",
       "  /**\n",
       "   * Render data to the DOM node\n",
       "   */\n",
       "  function render(props, node) {\n",
       "    var script = document.createElement(\"script\");\n",
       "    node.appendChild(script);\n",
       "  }\n",
       "\n",
       "  /**\n",
       "   * Handle when an output is cleared or removed\n",
       "   */\n",
       "  function handleClearOutput(event, handle) {\n",
       "    var cell = handle.cell;\n",
       "\n",
       "    var id = cell.output_area._bokeh_element_id;\n",
       "    var server_id = cell.output_area._bokeh_server_id;\n",
       "    // Clean up Bokeh references\n",
       "    if (id !== undefined) {\n",
       "      Bokeh.index[id].model.document.clear();\n",
       "      delete Bokeh.index[id];\n",
       "    }\n",
       "\n",
       "    if (server_id !== undefined) {\n",
       "      // Clean up Bokeh references\n",
       "      var cmd = \"from bokeh.io.state import curstate; print(curstate().uuid_to_server['\" + server_id + \"'].get_sessions()[0].document.roots[0]._id)\";\n",
       "      cell.notebook.kernel.execute(cmd, {\n",
       "        iopub: {\n",
       "          output: function(msg) {\n",
       "            var element_id = msg.content.text.trim();\n",
       "            Bokeh.index[element_id].model.document.clear();\n",
       "            delete Bokeh.index[element_id];\n",
       "          }\n",
       "        }\n",
       "      });\n",
       "      // Destroy server and session\n",
       "      var cmd = \"import bokeh.io.notebook as ion; ion.destroy_server('\" + server_id + \"')\";\n",
       "      cell.notebook.kernel.execute(cmd);\n",
       "    }\n",
       "  }\n",
       "\n",
       "  /**\n",
       "   * Handle when a new output is added\n",
       "   */\n",
       "  function handleAddOutput(event, handle) {\n",
       "    var output_area = handle.output_area;\n",
       "    var output = handle.output;\n",
       "\n",
       "    // limit handleAddOutput to display_data with EXEC_MIME_TYPE content only\n",
       "    if ((output.output_type != \"display_data\") || (!output.data.hasOwnProperty(EXEC_MIME_TYPE))) {\n",
       "      return\n",
       "    }\n",
       "\n",
       "    var toinsert = output_area.element.find(\".\" + CLASS_NAME.split(' ')[0]);\n",
       "\n",
       "    if (output.metadata[EXEC_MIME_TYPE][\"id\"] !== undefined) {\n",
       "      toinsert[toinsert.length - 1].firstChild.textContent = output.data[JS_MIME_TYPE];\n",
       "      // store reference to embed id on output_area\n",
       "      output_area._bokeh_element_id = output.metadata[EXEC_MIME_TYPE][\"id\"];\n",
       "    }\n",
       "    if (output.metadata[EXEC_MIME_TYPE][\"server_id\"] !== undefined) {\n",
       "      var bk_div = document.createElement(\"div\");\n",
       "      bk_div.innerHTML = output.data[HTML_MIME_TYPE];\n",
       "      var script_attrs = bk_div.children[0].attributes;\n",
       "      for (var i = 0; i < script_attrs.length; i++) {\n",
       "        toinsert[toinsert.length - 1].firstChild.setAttribute(script_attrs[i].name, script_attrs[i].value);\n",
       "      }\n",
       "      // store reference to server id on output_area\n",
       "      output_area._bokeh_server_id = output.metadata[EXEC_MIME_TYPE][\"server_id\"];\n",
       "    }\n",
       "  }\n",
       "\n",
       "  function register_renderer(events, OutputArea) {\n",
       "\n",
       "    function append_mime(data, metadata, element) {\n",
       "      // create a DOM node to render to\n",
       "      var toinsert = this.create_output_subarea(\n",
       "        metadata,\n",
       "        CLASS_NAME,\n",
       "        EXEC_MIME_TYPE\n",
       "      );\n",
       "      this.keyboard_manager.register_events(toinsert);\n",
       "      // Render to node\n",
       "      var props = {data: data, metadata: metadata[EXEC_MIME_TYPE]};\n",
       "      render(props, toinsert[toinsert.length - 1]);\n",
       "      element.append(toinsert);\n",
       "      return toinsert\n",
       "    }\n",
       "\n",
       "    /* Handle when an output is cleared or removed */\n",
       "    events.on('clear_output.CodeCell', handleClearOutput);\n",
       "    events.on('delete.Cell', handleClearOutput);\n",
       "\n",
       "    /* Handle when a new output is added */\n",
       "    events.on('output_added.OutputArea', handleAddOutput);\n",
       "\n",
       "    /**\n",
       "     * Register the mime type and append_mime function with output_area\n",
       "     */\n",
       "    OutputArea.prototype.register_mime_type(EXEC_MIME_TYPE, append_mime, {\n",
       "      /* Is output safe? */\n",
       "      safe: true,\n",
       "      /* Index of renderer in `output_area.display_order` */\n",
       "      index: 0\n",
       "    });\n",
       "  }\n",
       "\n",
       "  // register the mime type if in Jupyter Notebook environment and previously unregistered\n",
       "  if (root.Jupyter !== undefined) {\n",
       "    var events = require('base/js/events');\n",
       "    var OutputArea = require('notebook/js/outputarea').OutputArea;\n",
       "\n",
       "    if (OutputArea.prototype.mime_types().indexOf(EXEC_MIME_TYPE) == -1) {\n",
       "      register_renderer(events, OutputArea);\n",
       "    }\n",
       "  }\n",
       "\n",
       "  \n",
       "  if (typeof (root._bokeh_timeout) === \"undefined\" || force === true) {\n",
       "    root._bokeh_timeout = Date.now() + 5000;\n",
       "    root._bokeh_failed_load = false;\n",
       "  }\n",
       "\n",
       "  var NB_LOAD_WARNING = {'data': {'text/html':\n",
       "     \"<div style='background-color: #fdd'>\\n\"+\n",
       "     \"<p>\\n\"+\n",
       "     \"BokehJS does not appear to have successfully loaded. If loading BokehJS from CDN, this \\n\"+\n",
       "     \"may be due to a slow or bad network connection. Possible fixes:\\n\"+\n",
       "     \"</p>\\n\"+\n",
       "     \"<ul>\\n\"+\n",
       "     \"<li>re-rerun `output_notebook()` to attempt to load from CDN again, or</li>\\n\"+\n",
       "     \"<li>use INLINE resources instead, as so:</li>\\n\"+\n",
       "     \"</ul>\\n\"+\n",
       "     \"<code>\\n\"+\n",
       "     \"from bokeh.resources import INLINE\\n\"+\n",
       "     \"output_notebook(resources=INLINE)\\n\"+\n",
       "     \"</code>\\n\"+\n",
       "     \"</div>\"}};\n",
       "\n",
       "  function display_loaded() {\n",
       "    var el = document.getElementById(\"bca66cb9-1d11-4d15-9d58-b3c6efbe1d30\");\n",
       "    if (el != null) {\n",
       "      el.textContent = \"BokehJS is loading...\";\n",
       "    }\n",
       "    if (root.Bokeh !== undefined) {\n",
       "      if (el != null) {\n",
       "        el.textContent = \"BokehJS \" + root.Bokeh.version + \" successfully loaded.\";\n",
       "      }\n",
       "    } else if (Date.now() < root._bokeh_timeout) {\n",
       "      setTimeout(display_loaded, 100)\n",
       "    }\n",
       "  }\n",
       "\n",
       "\n",
       "  function run_callbacks() {\n",
       "    try {\n",
       "      root._bokeh_onload_callbacks.forEach(function(callback) { callback() });\n",
       "    }\n",
       "    finally {\n",
       "      delete root._bokeh_onload_callbacks\n",
       "    }\n",
       "    console.info(\"Bokeh: all callbacks have finished\");\n",
       "  }\n",
       "\n",
       "  function load_libs(js_urls, callback) {\n",
       "    root._bokeh_onload_callbacks.push(callback);\n",
       "    if (root._bokeh_is_loading > 0) {\n",
       "      console.log(\"Bokeh: BokehJS is being loaded, scheduling callback at\", now());\n",
       "      return null;\n",
       "    }\n",
       "    if (js_urls == null || js_urls.length === 0) {\n",
       "      run_callbacks();\n",
       "      return null;\n",
       "    }\n",
       "    console.log(\"Bokeh: BokehJS not loaded, scheduling load and callback at\", now());\n",
       "    root._bokeh_is_loading = js_urls.length;\n",
       "    for (var i = 0; i < js_urls.length; i++) {\n",
       "      var url = js_urls[i];\n",
       "      var s = document.createElement('script');\n",
       "      s.src = url;\n",
       "      s.async = false;\n",
       "      s.onreadystatechange = s.onload = function() {\n",
       "        root._bokeh_is_loading--;\n",
       "        if (root._bokeh_is_loading === 0) {\n",
       "          console.log(\"Bokeh: all BokehJS libraries loaded\");\n",
       "          run_callbacks()\n",
       "        }\n",
       "      };\n",
       "      s.onerror = function() {\n",
       "        console.warn(\"failed to load library \" + url);\n",
       "      };\n",
       "      console.log(\"Bokeh: injecting script tag for BokehJS library: \", url);\n",
       "      document.getElementsByTagName(\"head\")[0].appendChild(s);\n",
       "    }\n",
       "  };var element = document.getElementById(\"bca66cb9-1d11-4d15-9d58-b3c6efbe1d30\");\n",
       "  if (element == null) {\n",
       "    console.log(\"Bokeh: ERROR: autoload.js configured with elementid 'bca66cb9-1d11-4d15-9d58-b3c6efbe1d30' but no matching script tag was found. \")\n",
       "    return false;\n",
       "  }\n",
       "\n",
       "  var js_urls = [\"https://cdn.pydata.org/bokeh/release/bokeh-0.12.16.min.js\", \"https://cdn.pydata.org/bokeh/release/bokeh-widgets-0.12.16.min.js\", \"https://cdn.pydata.org/bokeh/release/bokeh-tables-0.12.16.min.js\", \"https://cdn.pydata.org/bokeh/release/bokeh-gl-0.12.16.min.js\"];\n",
       "\n",
       "  var inline_js = [\n",
       "    function(Bokeh) {\n",
       "      Bokeh.set_log_level(\"info\");\n",
       "    },\n",
       "    \n",
       "    function(Bokeh) {\n",
       "      \n",
       "    },\n",
       "    function(Bokeh) {\n",
       "      console.log(\"Bokeh: injecting CSS: https://cdn.pydata.org/bokeh/release/bokeh-0.12.16.min.css\");\n",
       "      Bokeh.embed.inject_css(\"https://cdn.pydata.org/bokeh/release/bokeh-0.12.16.min.css\");\n",
       "      console.log(\"Bokeh: injecting CSS: https://cdn.pydata.org/bokeh/release/bokeh-widgets-0.12.16.min.css\");\n",
       "      Bokeh.embed.inject_css(\"https://cdn.pydata.org/bokeh/release/bokeh-widgets-0.12.16.min.css\");\n",
       "      console.log(\"Bokeh: injecting CSS: https://cdn.pydata.org/bokeh/release/bokeh-tables-0.12.16.min.css\");\n",
       "      Bokeh.embed.inject_css(\"https://cdn.pydata.org/bokeh/release/bokeh-tables-0.12.16.min.css\");\n",
       "    }\n",
       "  ];\n",
       "\n",
       "  function run_inline_js() {\n",
       "    \n",
       "    if ((root.Bokeh !== undefined) || (force === true)) {\n",
       "      for (var i = 0; i < inline_js.length; i++) {\n",
       "        inline_js[i].call(root, root.Bokeh);\n",
       "      }if (force === true) {\n",
       "        display_loaded();\n",
       "      }} else if (Date.now() < root._bokeh_timeout) {\n",
       "      setTimeout(run_inline_js, 100);\n",
       "    } else if (!root._bokeh_failed_load) {\n",
       "      console.log(\"Bokeh: BokehJS failed to load within specified timeout.\");\n",
       "      root._bokeh_failed_load = true;\n",
       "    } else if (force !== true) {\n",
       "      var cell = $(document.getElementById(\"bca66cb9-1d11-4d15-9d58-b3c6efbe1d30\")).parents('.cell').data().cell;\n",
       "      cell.output_area.append_execute_result(NB_LOAD_WARNING)\n",
       "    }\n",
       "\n",
       "  }\n",
       "\n",
       "  if (root._bokeh_is_loading === 0) {\n",
       "    console.log(\"Bokeh: BokehJS loaded, going straight to plotting\");\n",
       "    run_inline_js();\n",
       "  } else {\n",
       "    load_libs(js_urls, function() {\n",
       "      console.log(\"Bokeh: BokehJS plotting callback run at\", now());\n",
       "      run_inline_js();\n",
       "    });\n",
       "  }\n",
       "}(window));"
      ],
      "application/vnd.bokehjs_load.v0+json": "\n(function(root) {\n  function now() {\n    return new Date();\n  }\n\n  var force = true;\n\n  if (typeof (root._bokeh_onload_callbacks) === \"undefined\" || force === true) {\n    root._bokeh_onload_callbacks = [];\n    root._bokeh_is_loading = undefined;\n  }\n\n  \n\n  \n  if (typeof (root._bokeh_timeout) === \"undefined\" || force === true) {\n    root._bokeh_timeout = Date.now() + 5000;\n    root._bokeh_failed_load = false;\n  }\n\n  var NB_LOAD_WARNING = {'data': {'text/html':\n     \"<div style='background-color: #fdd'>\\n\"+\n     \"<p>\\n\"+\n     \"BokehJS does not appear to have successfully loaded. If loading BokehJS from CDN, this \\n\"+\n     \"may be due to a slow or bad network connection. Possible fixes:\\n\"+\n     \"</p>\\n\"+\n     \"<ul>\\n\"+\n     \"<li>re-rerun `output_notebook()` to attempt to load from CDN again, or</li>\\n\"+\n     \"<li>use INLINE resources instead, as so:</li>\\n\"+\n     \"</ul>\\n\"+\n     \"<code>\\n\"+\n     \"from bokeh.resources import INLINE\\n\"+\n     \"output_notebook(resources=INLINE)\\n\"+\n     \"</code>\\n\"+\n     \"</div>\"}};\n\n  function display_loaded() {\n    var el = document.getElementById(\"bca66cb9-1d11-4d15-9d58-b3c6efbe1d30\");\n    if (el != null) {\n      el.textContent = \"BokehJS is loading...\";\n    }\n    if (root.Bokeh !== undefined) {\n      if (el != null) {\n        el.textContent = \"BokehJS \" + root.Bokeh.version + \" successfully loaded.\";\n      }\n    } else if (Date.now() < root._bokeh_timeout) {\n      setTimeout(display_loaded, 100)\n    }\n  }\n\n\n  function run_callbacks() {\n    try {\n      root._bokeh_onload_callbacks.forEach(function(callback) { callback() });\n    }\n    finally {\n      delete root._bokeh_onload_callbacks\n    }\n    console.info(\"Bokeh: all callbacks have finished\");\n  }\n\n  function load_libs(js_urls, callback) {\n    root._bokeh_onload_callbacks.push(callback);\n    if (root._bokeh_is_loading > 0) {\n      console.log(\"Bokeh: BokehJS is being loaded, scheduling callback at\", now());\n      return null;\n    }\n    if (js_urls == null || js_urls.length === 0) {\n      run_callbacks();\n      return null;\n    }\n    console.log(\"Bokeh: BokehJS not loaded, scheduling load and callback at\", now());\n    root._bokeh_is_loading = js_urls.length;\n    for (var i = 0; i < js_urls.length; i++) {\n      var url = js_urls[i];\n      var s = document.createElement('script');\n      s.src = url;\n      s.async = false;\n      s.onreadystatechange = s.onload = function() {\n        root._bokeh_is_loading--;\n        if (root._bokeh_is_loading === 0) {\n          console.log(\"Bokeh: all BokehJS libraries loaded\");\n          run_callbacks()\n        }\n      };\n      s.onerror = function() {\n        console.warn(\"failed to load library \" + url);\n      };\n      console.log(\"Bokeh: injecting script tag for BokehJS library: \", url);\n      document.getElementsByTagName(\"head\")[0].appendChild(s);\n    }\n  };var element = document.getElementById(\"bca66cb9-1d11-4d15-9d58-b3c6efbe1d30\");\n  if (element == null) {\n    console.log(\"Bokeh: ERROR: autoload.js configured with elementid 'bca66cb9-1d11-4d15-9d58-b3c6efbe1d30' but no matching script tag was found. \")\n    return false;\n  }\n\n  var js_urls = [\"https://cdn.pydata.org/bokeh/release/bokeh-0.12.16.min.js\", \"https://cdn.pydata.org/bokeh/release/bokeh-widgets-0.12.16.min.js\", \"https://cdn.pydata.org/bokeh/release/bokeh-tables-0.12.16.min.js\", \"https://cdn.pydata.org/bokeh/release/bokeh-gl-0.12.16.min.js\"];\n\n  var inline_js = [\n    function(Bokeh) {\n      Bokeh.set_log_level(\"info\");\n    },\n    \n    function(Bokeh) {\n      \n    },\n    function(Bokeh) {\n      console.log(\"Bokeh: injecting CSS: https://cdn.pydata.org/bokeh/release/bokeh-0.12.16.min.css\");\n      Bokeh.embed.inject_css(\"https://cdn.pydata.org/bokeh/release/bokeh-0.12.16.min.css\");\n      console.log(\"Bokeh: injecting CSS: https://cdn.pydata.org/bokeh/release/bokeh-widgets-0.12.16.min.css\");\n      Bokeh.embed.inject_css(\"https://cdn.pydata.org/bokeh/release/bokeh-widgets-0.12.16.min.css\");\n      console.log(\"Bokeh: injecting CSS: https://cdn.pydata.org/bokeh/release/bokeh-tables-0.12.16.min.css\");\n      Bokeh.embed.inject_css(\"https://cdn.pydata.org/bokeh/release/bokeh-tables-0.12.16.min.css\");\n    }\n  ];\n\n  function run_inline_js() {\n    \n    if ((root.Bokeh !== undefined) || (force === true)) {\n      for (var i = 0; i < inline_js.length; i++) {\n        inline_js[i].call(root, root.Bokeh);\n      }if (force === true) {\n        display_loaded();\n      }} else if (Date.now() < root._bokeh_timeout) {\n      setTimeout(run_inline_js, 100);\n    } else if (!root._bokeh_failed_load) {\n      console.log(\"Bokeh: BokehJS failed to load within specified timeout.\");\n      root._bokeh_failed_load = true;\n    } else if (force !== true) {\n      var cell = $(document.getElementById(\"bca66cb9-1d11-4d15-9d58-b3c6efbe1d30\")).parents('.cell').data().cell;\n      cell.output_area.append_execute_result(NB_LOAD_WARNING)\n    }\n\n  }\n\n  if (root._bokeh_is_loading === 0) {\n    console.log(\"Bokeh: BokehJS loaded, going straight to plotting\");\n    run_inline_js();\n  } else {\n    load_libs(js_urls, function() {\n      console.log(\"Bokeh: BokehJS plotting callback run at\", now());\n      run_inline_js();\n    });\n  }\n}(window));"
     },
     "metadata": {},
     "output_type": "display_data"
    }
   ],
   "source": [
    "output_notebook()"
   ]
  },
  {
   "cell_type": "code",
   "execution_count": 3,
   "metadata": {
    "collapsed": true
   },
   "outputs": [],
   "source": [
    "MOL = 'o3'"
   ]
  },
  {
   "cell_type": "code",
   "execution_count": 4,
   "metadata": {
    "collapsed": true
   },
   "outputs": [],
   "source": [
    "ATMPRO = dict(mls=294, saw=257, trp=300)"
   ]
  },
  {
   "cell_type": "code",
   "execution_count": 5,
   "metadata": {
    "collapsed": true
   },
   "outputs": [],
   "source": [
    "COMMITNUMBER = '1013f91'"
   ]
  },
  {
   "cell_type": "code",
   "execution_count": 6,
   "metadata": {
    "collapsed": true
   },
   "outputs": [],
   "source": [
    "client = pymongo.MongoClient('localhost', 27017)"
   ]
  },
  {
   "cell_type": "code",
   "execution_count": 7,
   "metadata": {
    "collapsed": true
   },
   "outputs": [],
   "source": [
    "def show_html(s):\n",
    "    display.display(display.HTML(s))\n",
    "\n",
    "def show_markdown(s):\n",
    "    display.display(display.Markdown(s))"
   ]
  },
  {
   "cell_type": "code",
   "execution_count": 8,
   "metadata": {
    "collapsed": true
   },
   "outputs": [],
   "source": [
    "def to_lblnewparam(param=None):\n",
    "    '''\n",
    "    Convert clirad's input parameter dictionary \n",
    "    into something like lblnew's.\n",
    "    '''\n",
    "    band = param['band'][0]\n",
    "    band = mapband_new2old()[band]\n",
    "    atmpro = param['atmpro']\n",
    "    tsfc = param['tsfc']\n",
    "    \n",
    "    p = {'band': band, \n",
    "         'atmpro': atmpro, 'tsfc': tsfc,\n",
    "         'dv': .001, 'nv': 1000}\n",
    "    \n",
    "    if len(param['molecule']) > 1: p['molecule'] = param['molecule']\n",
    "    else: \n",
    "        molecule, conc = list(param['molecule'].items())[0]\n",
    "        p['molecule'] = molecule\n",
    "        if conc == 'atmpro': p['conc'] = None\n",
    "        else: p['conc'] = conc\n",
    "    return p\n",
    "\n",
    "def make_query(param=None):\n",
    "    molecules = {'h2o', 'co2', 'o3', 'n2o', 'ch4'}\n",
    "    q = {}\n",
    "    for n, v in param.items():\n",
    "        if n == 'molecule' and type(v) == dict:\n",
    "            for mol, conc in v.items():\n",
    "                q[f'param.molecule.{mol}'] = conc\n",
    "            for mol in molecules - set(v.keys()):\n",
    "                q[f'param.molecule.{mol}'] = {'$exists': 0}\n",
    "        else:\n",
    "            q[f'param.{n}'] = v\n",
    "    return q"
   ]
  },
  {
   "cell_type": "code",
   "execution_count": 9,
   "metadata": {
    "collapsed": true
   },
   "outputs": [],
   "source": [
    "def subparam_atm_clirad(atmpro='mls'):\n",
    "    commitnumber = COMMITNUMBER\n",
    "    atm = nongreys_byband()\n",
    "    band = [band for band, molconcs in atm.items() if MOL in molconcs]\n",
    "    molecule = {mol: conc for _, molconcs in atm.items() \n",
    "                for mol, conc in molconcs.items() if mol == MOL}\n",
    "    return dict(commitnumber=commitnumber,\n",
    "                band=band, molecule=molecule, \n",
    "                atmpro=atmpro, tsfc=ATMPRO[atmpro])\n",
    "\n",
    "def clirad_data_atm(params_atm=None):\n",
    "    for p in params_atm:\n",
    "        q = make_query(p)\n",
    "        r = client.cliradnew.lw.find_one(q)\n",
    "        fluxs, cools = [], []\n",
    "        if not r: print('No data found for', p['molecule'], p['band'])\n",
    "        else: \n",
    "            fluxs.append(load_output_file(io.StringIO(r['output_flux'])))\n",
    "            cools.append(load_output_file(io.StringIO(r['output_coolr'])))\n",
    "    return dict(flux=sum(fluxs), cool=sum(cools))"
   ]
  },
  {
   "cell_type": "code",
   "execution_count": 10,
   "metadata": {
    "collapsed": true,
    "scrolled": false
   },
   "outputs": [],
   "source": [
    "def load_lblnew_data(r):\n",
    "    '''\n",
    "    Loads a lblnew-bestfit mongodb document's fluxes and cooling rates.\n",
    "    '''\n",
    "    if 'ng_refs' in r['param']:\n",
    "        ns = {'ds_flux_crd': 'output_flux',\n",
    "              'ds_cool_crd': 'output_coolr',\n",
    "              'ds_flux_wgt': 'output_wfluxg',\n",
    "              'ds_cool_wgt': 'output_wcoolrg'}\n",
    "    else:\n",
    "        ns = {'ds_flux_crd': 'output_flux',\n",
    "              'ds_cool_crd': 'output_coolr',\n",
    "              'ds_flux_wgt': 'output_wflux',\n",
    "              'ds_cool_wgt': 'output_wcoolr'}\n",
    "    return {n: load_output_file(io.StringIO(r[s])) for n, s in ns.items()}\n",
    "\n",
    "def subparams_atm_lblnew(atmpro='mls'):\n",
    "    '''\n",
    "    Returns the list of {band, conc, molecule} dictionaries that\n",
    "    represent the model atmosphere.\n",
    "    '''  \n",
    "    atm = nongreys_byband()\n",
    "    subparams_clirad = [dict(band=[band], \n",
    "                             molecule={mol: conc for mol, conc in molconc.items() if mol == MOL},\n",
    "                             atmpro=atmpro, tsfc=ATMPRO[atmpro]) \n",
    "                        for band, molconc in atm.items() if MOL in molconc]\n",
    "    return [to_lblnewparam(p) for p in subparams_clirad]\n",
    "\n",
    "def crd_data_atm(params_atm=None):\n",
    "    '''\n",
    "    Returns Dataset containing CRD fluxes and cooling rates at\n",
    "    different pressures and spectral bands.\n",
    "    '''\n",
    "    results_atm = {}\n",
    "    for p in params_atm:\n",
    "        if isinstance(p['molecule'], dict): \n",
    "            collection = client.lblnew.overlap_lw\n",
    "        else: \n",
    "            collection = client.lblnew.bestfit_lw\n",
    "        \n",
    "        q = make_query(p)\n",
    "        r = collection.find_one(q)\n",
    "        if not r: print('No data found for', p['molecule'], p['band'])\n",
    "        else: results_atm[r['param']['band']] = load_lblnew_data(r)\n",
    "\n",
    "    bands = [mapband_old2new()[b] for b, _ in results_atm.items()]\n",
    "    fluxs = [d['ds_flux_crd'] for _, d in results_atm.items()]\n",
    "    cools = [d['ds_cool_crd'] for _, d in results_atm.items()]\n",
    "    \n",
    "    d = {}\n",
    "    d['flux'] = xr.concat(fluxs, dim=bands).rename({'concat_dim': 'band'})\n",
    "    d['cool'] = xr.concat(cools, dim=bands).rename({'concat_dim': 'band'})\n",
    "    return d"
   ]
  },
  {
   "cell_type": "code",
   "execution_count": 11,
   "metadata": {
    "collapsed": true
   },
   "outputs": [],
   "source": [
    "import rtmtools.clirad.sw.wrangle as cliradwrangle\n",
    "\n",
    "def oldclirad_data_atm():\n",
    "    '''\n",
    "    Load the OLD clirad's results. mls only.\n",
    "    '''\n",
    "    fpath = os.path.join('/chia_cluster/home/jackyu/radiation',\n",
    "                         'clirad-lw',\n",
    "                         'LW',\n",
    "                         'examples',\n",
    "                         'mls75_h2o_atmpro_co2_.0004_o3_atmpro_n2o_3.2e-7_ch4_1.8e-6_H2012',\n",
    "                         'OUTPUT_CLIRAD.dat')\n",
    "    \n",
    "    ds = cliradwrangle.load_OUTPUT_CLIRAD(readfrom=fpath)\n",
    "    \n",
    "    ds_cool = xr.Dataset()\n",
    "    ds_cool.coords['pressure'] = ('pressure', ds['layer_pressure'])\n",
    "    ds_cool.coords['band'] = ('band', ds['spectral_band'])\n",
    "    ds_cool['coolrg'] = (('band', 'pressure'), - ds['heating_rate'])\n",
    "    \n",
    "    ds_flux = xr.Dataset()\n",
    "    ds_flux.coords['pressure'] = ('pressure', ds['level_pressure'])\n",
    "    ds_flux.coords['band'] = ('band', ds['spectral_band'])\n",
    "    ds_flux['flug'] = (('band', 'pressure'), ds['flux_up'])\n",
    "    ds_flux['fldg'] = (('band', 'pressure'), ds['flux_down'])\n",
    "    ds_flux['fnetg'] = (('band', 'pressure'), ds['net_flux'])\n",
    "    \n",
    "    \n",
    "    d = {}\n",
    "    d['cool'] = ds_cool\n",
    "    d['flux'] = ds_flux\n",
    "    return d"
   ]
  },
  {
   "cell_type": "code",
   "execution_count": 12,
   "metadata": {
    "collapsed": true
   },
   "outputs": [],
   "source": [
    "def show_makeup():\n",
    "    df = pd.DataFrame()\n",
    "\n",
    "    for band, molecule in nongreys_byband().items():\n",
    "        for name, conc in molecule.items():\n",
    "            if name == MOL:\n",
    "                df.loc[name, band] = str(conc)\n",
    "\n",
    "    df = df.fillna(0)\n",
    "    df.columns.name = 'clirad band'\n",
    "    df.index.name = 'molecule'\n",
    "    \n",
    "    display.display(df)\n",
    "    \n",
    "    display.display(\n",
    "        display.Markdown('*TABLE.* Non-grey absorbers in the atmosphere.'))\n",
    "\n",
    "\n",
    "def show_grey_makeup():\n",
    "    df = pd.DataFrame()\n",
    "    \n",
    "    for band, molecule in greyabsorbers_by_band_atm().items():\n",
    "        if molecule == None:\n",
    "            pass\n",
    "        else:\n",
    "            for name, conc in molecule.items():\n",
    "                df.loc[name, band] = str(conc)\n",
    "                \n",
    "    df = df.fillna(0)\n",
    "    df.columns.name = 'clirad band'\n",
    "    df.index.name = 'absorber'\n",
    "    \n",
    "    display.display(df)\n",
    "    display.display(\n",
    "        display.Markdown('*TABLE.* Grey absorbers in the atmosphere.')\n",
    "    )"
   ]
  },
  {
   "cell_type": "code",
   "execution_count": 13,
   "metadata": {
    "collapsed": true
   },
   "outputs": [],
   "source": [
    "def fmt_cool(ds_in):\n",
    "    ds = ds_in.copy(deep=True)\n",
    "    dims = ['igg', 'g', 'i']\n",
    "    for dim in dims:\n",
    "        if dim in ds:\n",
    "            if ds[dim].shape == (1,): ds = ds.squeeze(dim).drop(dim)\n",
    "            elif ds[dim].shape == (): ds = ds.drop(dim)\n",
    "    if 'band' in ds.dims:\n",
    "        try:\n",
    "            ds = ds.squeeze('band')\n",
    "        except ValueError:\n",
    "            ds = ds.sum('band')     \n",
    "    return ds['coolrg']\n",
    "\n",
    "def nice_xlims(pltdata=None, prange=None):\n",
    "    \n",
    "    def get_slice(srs):\n",
    "        return srs.sel(pressure=slice(*prange))\n",
    "    \n",
    "    srss = [d['srs'] for d in pltdata]\n",
    "    vmin = min([get_slice(srs).min() for srs in srss])\n",
    "    vmax = max([get_slice(srs).max() for srs in srss])\n",
    "    dv = (vmax - vmin) * .01\n",
    "    return float(vmin - dv), float(vmax + dv)\n",
    " \n",
    "def plt_cool_bokeh(pltdata=None, \n",
    "                   y_axis_type='linear', prange=(50, 1050)):\n",
    "    \n",
    "    ymin = 1e-2 \n",
    "    ymax = 1020\n",
    "    \n",
    "    p2 = figure(y_axis_type=y_axis_type, plot_width=300)\n",
    "    xmin, xmax = nice_xlims(pltdata, prange=prange)\n",
    "    \n",
    "    rs = []\n",
    "    for d in pltdata:\n",
    "        rd = []\n",
    "        if 'marker' in d:\n",
    "            r_mark = getattr(p2, d['marker'])(d['srs'].values, \n",
    "                        d['srs'].coords['pressure'].values,\n",
    "                        color=d['color'], alpha=.7)\n",
    "            rd.append(r_mark)\n",
    "        r_line = p2.line(d['srs'].values, \n",
    "                         d['srs'].coords['pressure'].values,\n",
    "                         color=d['color'], alpha=d['alpha'], \n",
    "                         line_width=d['line_width'], \n",
    "                         line_dash=d['line_dash'])\n",
    "        rd.append(r_line)\n",
    "      \n",
    "        rs.append(rd)\n",
    "        \n",
    "    p2.y_range = Range1d(ymax, ymin)  \n",
    "    p2.yaxis.axis_label = 'pressure [mb]'\n",
    "    \n",
    "    p2.x_range = Range1d(xmin, xmax)\n",
    "    p2.xaxis.axis_label = 'cooling rate [K/day]'\n",
    "    \n",
    "    items = [(d['label'], r) for r, d in zip(rs, pltdata)]\n",
    "    legend = Legend(items=items, location=(10, 0))\n",
    "    legend.label_text_font_size = '8pt'\n",
    "    p2.add_layout(legend, 'above')\n",
    "    p2.legend.orientation = 'horizontal'\n",
    "    p2.legend.location = 'top_center'\n",
    "    \n",
    "    return p2"
   ]
  },
  {
   "cell_type": "code",
   "execution_count": 14,
   "metadata": {
    "collapsed": true,
    "scrolled": false
   },
   "outputs": [],
   "source": [
    "def pltdata_cool(atmpro='mls'):\n",
    "    ds_clirad = clirad_data_atm(params_atm=[subparam_atm_clirad(atmpro=atmpro)])['cool']\n",
    "    ds_crd = crd_data_atm(params_atm=subparams_atm_lblnew(atmpro=atmpro))['cool']\n",
    "\n",
    "    colors = all_palettes['Set1'][4]\n",
    "    \n",
    "    data = [\n",
    "        {'label': 'CLIRAD',\n",
    "         'srs': fmt_cool(ds_clirad),\n",
    "         'line_dash': 'dashed', 'line_width': 5,\n",
    "         'color': colors[0], 'alpha': .6},\n",
    "        {'label': 'CRD',\n",
    "         'srs': fmt_cool(ds_crd),\n",
    "         'line_dash': 'solid', 'line_width': 1.5,\n",
    "         'marker': 'circle', 'marker_size': 5,\n",
    "         'color': colors[2], 'alpha': 1}\n",
    "    ]\n",
    "    \n",
    "    # include old CLIRAD's results for mls profile\n",
    "#    if atmpro == 'mls':\n",
    "#        d_oldclirad = oldclirad_data_atm()\n",
    "#        ds_oldclirad = d_oldclirad['cool']        \n",
    "#        data.append(\n",
    "#            {'label': 'old CLIRAD (H2012)',\n",
    "#             'srs': fmt_cool(ds_oldclirad),\n",
    "#             'line_dash': 'solid', 'line_width': 1.5,\n",
    "#             'marker': 'square', 'marker_size': 3,\n",
    "#             'color': colors[3], 'alpha': .5})\n",
    "    return data\n",
    "\n",
    "\n",
    "def pltdata_cooldiff(atmpro='mls'):\n",
    "    ds_clirad = clirad_data_atm(params_atm=[subparam_atm_clirad(atmpro=atmpro)])['cool']\n",
    "    ds_crd = crd_data_atm(params_atm=subparams_atm_lblnew(atmpro=atmpro))['cool']    \n",
    "    \n",
    "    ds_diff = ds_clirad - ds_crd\n",
    "    \n",
    "    colors = all_palettes['Set1'][4]\n",
    "    \n",
    "    data = [\n",
    "        {'label': 'CLIRAD - CRD',\n",
    "         'srs': fmt_cool(ds_diff),\n",
    "         'line_dash': 'solid', 'line_width': 1.5, \n",
    "         'marker': 'circle', 'marker_size': 7,\n",
    "         'color': colors[3], 'alpha': .8}\n",
    "    ]\n",
    "    \n",
    "    # include old CLIRAD's results for mls profile\n",
    "#    if atmpro == 'mls':\n",
    "#        d_oldclirad = oldclirad_data_atm()\n",
    "#        ds_oldclirad = d_oldclirad['cool']\n",
    "#        ds_oldclirad.coords['pressure'] = ds_crd.coords['pressure']\n",
    "#        ds_diff_old = ds_oldclirad.sum('band') - ds_crd.sum('band')\n",
    "#        data.append(\n",
    "#            {'label': 'old CLIRAD (H2012) - CRD',\n",
    "#             'srs': fmt_cool(ds_diff_old),\n",
    "#             'line_dash': 'dashed', 'line_width': 4,\n",
    "#             'color': colors[1], 'alpha': .5}\n",
    "#        )\n",
    "    return data\n",
    "\n",
    "\n",
    "def show_cool(atmpro='mls'):\n",
    "    data_cool = pltdata_cool(atmpro=atmpro)\n",
    "    p_cool_liny = plt_cool_bokeh(pltdata=data_cool)\n",
    "    p_cool_logy = plt_cool_bokeh(pltdata=data_cool, \n",
    "                                 y_axis_type='log',\n",
    "                                 prange=(.01, 200))\n",
    "    \n",
    "    data_cooldiff = pltdata_cooldiff(atmpro=atmpro)\n",
    "    p_cooldiff_logy = plt_cool_bokeh(pltdata=data_cooldiff,\n",
    "                                     y_axis_type='log',\n",
    "                                     prange=(.01, 200))\n",
    "    \n",
    "    everything = gridplot(p_cool_liny, p_cool_logy, \n",
    "                          p_cooldiff_logy,\n",
    "                          ncols=3)\n",
    "    show(everything)\n",
    "    display.display(\n",
    "        display.Markdown('*FIGURE.* Cooling rates & difference.'))\n",
    "    "
   ]
  },
  {
   "cell_type": "code",
   "execution_count": 15,
   "metadata": {
    "collapsed": true,
    "scrolled": false
   },
   "outputs": [],
   "source": [
    "def fmt_flux(ds_in):\n",
    "    ds = ds_in.copy(deep=True)\n",
    "    for dim in ['band', 'g']:\n",
    "        if dim in ds: ds = ds.sum(dim)\n",
    "        \n",
    "    for dim in ['i', 'igg', 'g']:\n",
    "        if dim in ds:\n",
    "            if ds[dim].shape == (1,): ds = ds.squeeze(dim).drop(dim)\n",
    "            elif ds[dim].shape == (): ds = ds.drop(dim)\n",
    "    return ds\n",
    "\n",
    "def hist_band_vs_flux(da, title='Title'):\n",
    "    da = da.sel(i=1)\n",
    "    bands = [str(b.values) for b in da['band']]\n",
    "    source = ColumnDataSource(data={'band': bands, 'flux': da.values})\n",
    "    p = figure(x_range=bands, title=title)\n",
    "    p.vbar(source=source, x='band', top='flux', width=.9)\n",
    "    p.yaxis.axis_label = 'flux (W m-2)'\n",
    "    p.xaxis.axis_label = 'spectral band'\n",
    "    return p\n",
    "\n",
    "def show_hist_flux(atmpro='mls'):\n",
    "    ds_crd = crd_data_atm(params_atm=subparams_atm_lblnew(atmpro=atmpro))['flux']\n",
    "    ds_clirad = clirad_data_atm(params_atm=[subparam_atm_clirad(atmpro=atmpro)])['flux']\n",
    "    \n",
    "    ip, varname = 0, 'flug'\n",
    "    da = (ds_clirad - ds_crd).isel(pressure=ip)[varname]\n",
    "    p_toa = hist_band_vs_flux(da, title='TOA flux. CLIRAD - CRD.')\n",
    "\n",
    "    ip, varname = -1, 'fldg'\n",
    "    da = (ds_clirad - ds_crd).isel(pressure=ip)[varname]\n",
    "    p_sfc = hist_band_vs_flux(da, title='SFC flux. CLIRAD - CRD.')    \n",
    "    \n",
    "    atm_crd = (ds_crd.isel(pressure=0) - ds_crd.isel(pressure=-1))['fnetg']\n",
    "    atm_clirad = (ds_clirad.isel(pressure=0) - ds_clirad.isel(pressure=-1))['fnetg']\n",
    "    da = atm_clirad - atm_crd\n",
    "    p_atm = hist_band_vs_flux(da, title='Atmosphere heating. CLIRAD - CRD.')\n",
    "\n",
    "    everything = gridplot(p_toa, p_sfc, p_atm, ncols=3, plot_width=300, plot_height=300)\n",
    "    \n",
    "    show(everything)\n",
    "    display.display(\n",
    "        display.Markdown('*FIGURE.* Difference between CLIRAD and CRD'\n",
    "          ' in TOA, SFC and net atmosphere flux,'\n",
    "          ' in each spectral band.'))\n",
    "\n",
    "def show_tb_flux(atmpro='mls'):\n",
    "    \n",
    "    def fmt(da_in):\n",
    "        da = da_in.copy(deep=True)\n",
    "        if 'igg' in da.dims:\n",
    "            da = da.sel(igg=1)\n",
    "            \n",
    "        if 'g' in da.dims:\n",
    "            da = da.sum('g')\n",
    "        \n",
    "        if 'band' in da.dims:\n",
    "            try:\n",
    "                da = da.squeeze('band')\n",
    "            except ValueError:\n",
    "                da = da.sum('band')\n",
    "                \n",
    "        return da\n",
    "    \n",
    "    ds_crd = crd_data_atm(params_atm=subparams_atm_lblnew(atmpro=atmpro))['flux']\n",
    "    olr_crd = ds_crd['flug'].isel(pressure=0)\n",
    "    sfc_crd = ds_crd['fldg'].isel(pressure=-1)\n",
    "    atm_crd = (ds_crd.isel(pressure=0) - ds_crd.isel(pressure=-1))['fnetg']\n",
    "    \n",
    "    ds_clirad = clirad_data_atm(params_atm=[subparam_atm_clirad(atmpro=atmpro)])['flux']\n",
    "    olr_clirad = ds_clirad['flug'].isel(pressure=0)\n",
    "    sfc_clirad = ds_clirad['fldg'].isel(pressure=-1)\n",
    "    atm_clirad = (ds_clirad.isel(pressure=0) - ds_clirad.isel(pressure=-1))['fnetg']\n",
    "    \n",
    "#    if atmpro == 'mls':\n",
    "#        ds_oldclirad = oldclirad_data_atm()['flux']\n",
    "#        ds_oldclirad['pressure'] = ds_crd['pressure']\n",
    "#        olr_oldclirad = ds_oldclirad['flug'].isel(pressure=0)\n",
    "#        sfc_oldclirad = ds_oldclirad['fldg'].isel(pressure=-1)\n",
    "#        atm_oldclirad = (ds_oldclirad.isel(pressure=0)\n",
    "#                         - ds_oldclirad.isel(pressure=-1))['fnetg']\n",
    "        \n",
    "    df = pd.DataFrame()\n",
    "    df.index.name = 'Sum over bands'\n",
    "    \n",
    "#    if atmpro == 'mls':\n",
    "#        df.loc['old CLIRAD - CRD', 'OLR flux'] = (fmt(olr_oldclirad) - fmt(olr_crd)).values\n",
    "#        df.loc['old CLIRAD - CRD', 'SFC flux'] = (fmt(sfc_oldclirad) - fmt(sfc_crd)).values\n",
    "#        df.loc['old CLIRAD - CRD', 'ATM heating'] = (fmt(atm_oldclirad) - fmt(atm_crd)).values\n",
    "    \n",
    "    df.loc['CLIRAD - CRD', 'OLR flux'] = (fmt(olr_clirad) - fmt(olr_crd)).values\n",
    "    df.loc['CLIRAD - CRD', 'SFC flux'] = (fmt(sfc_clirad) - fmt(sfc_crd)).values\n",
    "    df.loc['CLIRAD - CRD', 'ATM heating'] = (fmt(atm_clirad) - fmt(atm_crd)).values\n",
    "\n",
    "    df.loc['CRD', 'OLR flux'] = fmt(olr_crd).values\n",
    "    df.loc['CRD', 'SFC flux'] = fmt(sfc_crd).values\n",
    "    df.loc['CRD', 'ATM heating'] = fmt(atm_crd).values\n",
    "        \n",
    "    df = df.astype('float').round(2)\n",
    "    \n",
    "    display.display(df)\n",
    "    display.display(\n",
    "        display.Markdown('*TABLE.* Difference between CLIRAD and CRD'\n",
    "          ' in TOA, SFC and net atmosphere flux,'\n",
    "          ' over all spectral bands. CRD\\'s'\n",
    "          ' TOA, SFC and net atmosphere flux,'\n",
    "          ' over all spectral bands.'))"
   ]
  },
  {
   "cell_type": "code",
   "execution_count": 16,
   "metadata": {
    "collapsed": true,
    "scrolled": true
   },
   "outputs": [],
   "source": [
    "def cool_tofile(atmpro=None):\n",
    "    dcli = clirad_data_atm(params_atm=[subparam_atm_clirad(atmpro=atmpro)])\n",
    "    dcrd = crd_data_atm(params_atm=subparams_atm_lblnew(atmpro=atmpro))\n",
    "    \n",
    "    dcli = dcli['cool'].sel(i=1).drop('i').sum('band')\n",
    "    dcrd = dcrd['cool'].sum('band')\n",
    "    \n",
    "    dcli = dcli['coolrg'].to_dataframe()\n",
    "    dcrd = dcrd['coolrg'].to_dataframe()\n",
    "    \n",
    "    dcli = dcli.set_index('layer', append=True)\n",
    "    dcrd = dcrd.set_index('layer', append=True)\n",
    "    \n",
    "    ddif = dcli - dcrd\n",
    "    \n",
    "    df = pd.concat([dcrd, dcli, ddif], axis=1, keys=['CRD', 'CLIRAD', 'CLIRAD - CRD'])\n",
    "    return df\n",
    "\n",
    "\n",
    "def flux_tofile(atmpro=None):\n",
    "    tropopauses = {'mls': 40, 'saw': 45, 'trp': 37}\n",
    "    ilevels = [0, tropopauses[atmpro], -1]\n",
    "    \n",
    "    dcli = clirad_data_atm(params_atm=[subparam_atm_clirad(atmpro=atmpro)])\n",
    "    dcrd = crd_data_atm(params_atm=subparams_atm_lblnew(atmpro=atmpro))\n",
    "    \n",
    "    dcli = dcli['flux'].sel(i=1).drop('i').sum('band').isel(pressure=ilevels)\n",
    "    dcrd = dcrd['flux'].sum('band').isel(pressure=ilevels)\n",
    "    \n",
    "    dcli = dcli.to_dataframe()\n",
    "    dcrd = dcrd.to_dataframe()\n",
    "    \n",
    "    dcli = dcli.set_index('level', append=True)\n",
    "    dcrd = dcrd.set_index('level', append=True)\n",
    "    \n",
    "    ddif = dcli - dcrd\n",
    "    \n",
    "    df = pd.concat([dcrd, dcli, ddif], axis=1, keys=['CRD', 'CLIRAD', 'CLIRAD - CRD'])\n",
    "    return df\n",
    "\n",
    "\n",
    "def script_tofile():\n",
    "    fname = f'results_{MOL}atm_cliradsinglerun.xlsx'\n",
    "    writer = pd.ExcelWriter(fname)\n",
    "    for atmpro in ('mls', 'saw', 'trp'):\n",
    "        dflux = flux_tofile(atmpro=atmpro)\n",
    "        dflux.to_excel(writer, f'flux {atmpro}')\n",
    "        \n",
    "        dcool = cool_tofile(atmpro=atmpro)\n",
    "        dcool.to_excel(writer, f'cool {atmpro}')\n",
    "        \n",
    "    html = f'Download: <a href=\"./{fname}\">{fname}</a>'\n",
    "    show_html(html)\n",
    "\n",
    "        "
   ]
  },
  {
   "cell_type": "code",
   "execution_count": 17,
   "metadata": {
    "scrolled": false
   },
   "outputs": [
    {
     "data": {
      "text/markdown": [
       "## Results over entire range of molecules and spectral bands"
      ],
      "text/plain": [
       "<IPython.core.display.Markdown object>"
      ]
     },
     "metadata": {},
     "output_type": "display_data"
    },
    {
     "data": {
      "text/markdown": [
       "### Table of Contents"
      ],
      "text/plain": [
       "<IPython.core.display.Markdown object>"
      ]
     },
     "metadata": {},
     "output_type": "display_data"
    },
    {
     "data": {
      "text/html": [
       "<a href=\"#Makeup_of_atmosphere.\">Makeup of atmosphere.</a>"
      ],
      "text/plain": [
       "<IPython.core.display.HTML object>"
      ]
     },
     "metadata": {},
     "output_type": "display_data"
    },
    {
     "data": {
      "text/markdown": [
       "**mid-latitude summer**"
      ],
      "text/plain": [
       "<IPython.core.display.Markdown object>"
      ]
     },
     "metadata": {},
     "output_type": "display_data"
    },
    {
     "data": {
      "text/html": [
       "<a href=\"#Cooling_rates._mls.\">Cooling rates. mls.</a>"
      ],
      "text/plain": [
       "<IPython.core.display.HTML object>"
      ]
     },
     "metadata": {},
     "output_type": "display_data"
    },
    {
     "data": {
      "text/html": [
       "<a href=\"#Fluxes._mls.\">Fluxes. mls.</a>"
      ],
      "text/plain": [
       "<IPython.core.display.HTML object>"
      ]
     },
     "metadata": {},
     "output_type": "display_data"
    },
    {
     "data": {
      "text/markdown": [
       "**sub-arctic winter**"
      ],
      "text/plain": [
       "<IPython.core.display.Markdown object>"
      ]
     },
     "metadata": {},
     "output_type": "display_data"
    },
    {
     "data": {
      "text/html": [
       "<a href=\"#Cooling_rates._saw.\">Cooling rates. saw.</a>"
      ],
      "text/plain": [
       "<IPython.core.display.HTML object>"
      ]
     },
     "metadata": {},
     "output_type": "display_data"
    },
    {
     "data": {
      "text/html": [
       "<a href=\"#Fluxes._saw.\">Fluxes. saw.</a>"
      ],
      "text/plain": [
       "<IPython.core.display.HTML object>"
      ]
     },
     "metadata": {},
     "output_type": "display_data"
    },
    {
     "data": {
      "text/markdown": [
       "**tropical**"
      ],
      "text/plain": [
       "<IPython.core.display.Markdown object>"
      ]
     },
     "metadata": {},
     "output_type": "display_data"
    },
    {
     "data": {
      "text/html": [
       "<a href=\"#Cooling_rates._trp.\">Cooling rates. trp.</a>"
      ],
      "text/plain": [
       "<IPython.core.display.HTML object>"
      ]
     },
     "metadata": {},
     "output_type": "display_data"
    },
    {
     "data": {
      "text/html": [
       "<a href=\"#Fluxes._trp.\">Fluxes. trp.</a>"
      ],
      "text/plain": [
       "<IPython.core.display.HTML object>"
      ]
     },
     "metadata": {},
     "output_type": "display_data"
    },
    {
     "data": {
      "text/html": [
       "<a id=\"Makeup_of_atmosphere.\"></a>"
      ],
      "text/plain": [
       "<IPython.core.display.HTML object>"
      ]
     },
     "metadata": {},
     "output_type": "display_data"
    },
    {
     "data": {
      "text/markdown": [
       "# Makeup of atmosphere."
      ],
      "text/plain": [
       "<IPython.core.display.Markdown object>"
      ]
     },
     "metadata": {},
     "output_type": "display_data"
    },
    {
     "data": {
      "text/html": [
       "<div>\n",
       "<style scoped>\n",
       "    .dataframe tbody tr th:only-of-type {\n",
       "        vertical-align: middle;\n",
       "    }\n",
       "\n",
       "    .dataframe tbody tr th {\n",
       "        vertical-align: top;\n",
       "    }\n",
       "\n",
       "    .dataframe thead th {\n",
       "        text-align: right;\n",
       "    }\n",
       "</style>\n",
       "<table border=\"1\" class=\"dataframe\">\n",
       "  <thead>\n",
       "    <tr style=\"text-align: right;\">\n",
       "      <th>clirad band</th>\n",
       "      <th>7</th>\n",
       "    </tr>\n",
       "    <tr>\n",
       "      <th>molecule</th>\n",
       "      <th></th>\n",
       "    </tr>\n",
       "  </thead>\n",
       "  <tbody>\n",
       "    <tr>\n",
       "      <th>o3</th>\n",
       "      <td>atmpro</td>\n",
       "    </tr>\n",
       "  </tbody>\n",
       "</table>\n",
       "</div>"
      ],
      "text/plain": [
       "clirad band       7\n",
       "molecule           \n",
       "o3           atmpro"
      ]
     },
     "metadata": {},
     "output_type": "display_data"
    },
    {
     "data": {
      "text/markdown": [
       "*TABLE.* Non-grey absorbers in the atmosphere."
      ],
      "text/plain": [
       "<IPython.core.display.Markdown object>"
      ]
     },
     "metadata": {},
     "output_type": "display_data"
    },
    {
     "data": {
      "text/html": [
       "<a id=\"Cooling_rates._mls.\"></a>"
      ],
      "text/plain": [
       "<IPython.core.display.HTML object>"
      ]
     },
     "metadata": {},
     "output_type": "display_data"
    },
    {
     "data": {
      "text/markdown": [
       "# Cooling rates. mls."
      ],
      "text/plain": [
       "<IPython.core.display.Markdown object>"
      ]
     },
     "metadata": {},
     "output_type": "display_data"
    },
    {
     "data": {
      "text/html": [
       "\n",
       "<div class=\"bk-root\">\n",
       "    <div class=\"bk-plotdiv\" id=\"7f70eecf-1a78-4303-8bf9-76f4e130f5c8\"></div>\n",
       "</div>"
      ]
     },
     "metadata": {},
     "output_type": "display_data"
    },
    {
     "data": {
      "application/javascript": [
       "(function(root) {\n",
       "  function embed_document(root) {\n",
       "    \n",
       "  var docs_json = {\"980158d2-3d92-467d-a530-95f35c362393\":{\"roots\":{\"references\":[{\"attributes\":{\"callback\":null,\"data\":{\"x\":{\"__ndarray__\":\"/oJPBlb0o78esCxKaTOmv2M98l0DiKq/WxFOboivrr/i63XP3VWxvxG2R4sNP7O/mpeYbt8Rtb8H5LLU8c22v+K4VPG7c7i/UiFoFrIEur8ZxdV1Zoq7v4W171nwBb2/oyLr/B2Cvr9Jl6NsNvu/vzzIwkJzPsC/86KfPjwqvr/3Wq9teuWxv/PrcDzrj6A/8Waqs5x8yT8IDMzpNlHcP3PPX41Y0Og/jsXb7/V68z9niL4WT7j7P3oFs1O95v8/Oq5GdqWl/D9otRvYhfr2PxDbJ5GO/PA/4vNYbd3R5z/7rSFhrbTgPzBjbQD0g9Y/95r1lGLoxj9H7Bj56hqFP8z3QrdNp7u/fkhsNfN9yL+VkeXq6LTQv0W8lgzXFdK/vHloJ5wA0L+VW4OMurXLv6b7MZSwwsm/GyQrXOIKx7/f0EoQZHPCv/XkUHV+QL2/HHvVTr0DuL8BIEpbLCqzvy6fwbP4pa6/8S7k//iMqb9KBg7VhTmlv+jzvuKKOqG/vnWEJ4Klm78Yi+EVgeSVv0MtFzsrs5C/xhpjZB8diL8zb/aDkcl/v+y6sURSkHG/10Er1WHjU78ngvJewMlZP3HzR4FX5XA/St+d1A2Pej8lfAIvkrmBPy36H23X3IU/KlnZNHK6iT9HrF3Ei0aNP2XlVaVGS5A/PwCpTZzckT/HVNv8qE6TP+VXBOMGmpQ/N+tURS3XlT/XmDDKzgOXP92j/zHp+Zc/jhmw/ce2mD+9H+Lfmk2ZP64QWxzD05k/zmdILmJMmj9aAYgyibeaP29SlvYNGZs/\",\"dtype\":\"float64\",\"shape\":[75]},\"y\":{\"__ndarray__\":\"GhExyth1ND/Sv8nbtpRIP2vylNV0PVE/aTum7souWD/At0SJ8fVgPw3Iuahxymc/MSNhhJWvcD/bTfBN02d3P2zb5nxnaoA/CD5h5MAGhz8NmeH1TyaQP+zrCsc9p5Y/LbKd76fGnz/bLW5ISEmmPww9YvTcQq8/JV2OstnstT8Er5Y7M8G+P0c+r3jqkcU/5h99k6ZBzj88bCIzFzjVP4enV8oyxN0//yH99nXg5D8qOpLLf0jtP5kqGJXUifQ/c9cS8kHP/D+/DpwzojQEQIEmwoanVwxA4lgXt9HgE0BSSZ2AJuIbQAMJih9jjiNA5q4l5INuK0AwTKYKRj0zQNv5fmq8/DpAaCJseHrtQkB/+zpwzoxKQM3MzMzMeFJAZmZmZmZqWEAAAAAAAFxeQM3MzMzMJmJAmpmZmZkfZUBmZmZmZhhoQDMzMzMzEWtAAAAAAAAKbkBmZmZmZoFwQM3MzMzM/XFAMzMzMzN6c0CamZmZmfZ0QAAAAAAAc3ZAZmZmZmbvd0DNzMzMzGt5QDMzMzMz6HpAmpmZmZlkfEAAAAAAAOF9QGZmZmZmXX9AZmZmZuZsgECamZmZGSuBQM3MzMxM6YFAAAAAAICngkAzMzMzs2WDQGZmZmbmI4RAmpmZmRnihEDNzMzMTKCFQAAAAACAXoZAMzMzM7Mch0BmZmZm5tqHQJqZmZkZmYhAzczMzExXiUAAAAAAgBWKQDMzMzOz04pAZmZmZuaRi0CamZmZGVCMQM3MzMxMDo1AAAAAAIDMjUAzMzMzs4qOQGZmZmbmSI9A\",\"dtype\":\"float64\",\"shape\":[75]}},\"selected\":{\"id\":\"be825532-a3b1-4618-ab9e-7ae5b82ae06c\",\"type\":\"Selection\"},\"selection_policy\":{\"id\":\"f2ae8567-b19e-423b-9a45-c98df3f41073\",\"type\":\"UnionRenderers\"}},\"id\":\"21ccffaa-f0ad-49f9-99d4-6cd35be5e328\",\"type\":\"ColumnDataSource\"},{\"attributes\":{},\"id\":\"bac54219-3e8c-4419-93b8-f11b8bfc574b\",\"type\":\"UnionRenderers\"},{\"attributes\":{\"line_alpha\":0.1,\"line_color\":\"#1f77b4\",\"line_width\":1.5,\"x\":{\"field\":\"x\"},\"y\":{\"field\":\"y\"}},\"id\":\"d9bad021-e8a6-408e-aabd-e194ac79601c\",\"type\":\"Line\"},{\"attributes\":{\"line_color\":\"#4daf4a\",\"line_width\":1.5,\"x\":{\"field\":\"x\"},\"y\":{\"field\":\"y\"}},\"id\":\"3fcd5846-3d02-4e62-9f2e-f79ac07b514a\",\"type\":\"Line\"},{\"attributes\":{},\"id\":\"57e37449-6527-4542-938d-a9baf31ff7af\",\"type\":\"HelpTool\"},{\"attributes\":{\"data_source\":{\"id\":\"ecaad31b-6815-41e8-9b55-d22cbfe0fe3c\",\"type\":\"ColumnDataSource\"},\"glyph\":{\"id\":\"84006f7c-1986-45b1-b06b-5a311aed0958\",\"type\":\"Line\"},\"hover_glyph\":null,\"muted_glyph\":null,\"nonselection_glyph\":{\"id\":\"d9bad021-e8a6-408e-aabd-e194ac79601c\",\"type\":\"Line\"},\"selection_glyph\":null,\"view\":{\"id\":\"5583c936-6488-4b54-addb-4f390ca9d5e2\",\"type\":\"CDSView\"}},\"id\":\"17ec2889-49a3-4133-a560-68ac272c49bc\",\"type\":\"GlyphRenderer\"},{\"attributes\":{\"num_minor_ticks\":10},\"id\":\"38e9d380-0b81-4f35-a784-36651fa7e3e9\",\"type\":\"LogTicker\"},{\"attributes\":{\"source\":{\"id\":\"ecaad31b-6815-41e8-9b55-d22cbfe0fe3c\",\"type\":\"ColumnDataSource\"}},\"id\":\"5583c936-6488-4b54-addb-4f390ca9d5e2\",\"type\":\"CDSView\"},{\"attributes\":{\"line_alpha\":0.1,\"line_color\":\"#1f77b4\",\"line_width\":1.5,\"x\":{\"field\":\"x\"},\"y\":{\"field\":\"y\"}},\"id\":\"da62d17c-7173-4915-bced-da479dc5ffcf\",\"type\":\"Line\"},{\"attributes\":{\"callback\":null,\"end\":2.0170050285,\"start\":-0.3465520785},\"id\":\"79296d87-e7c8-4525-8d50-bf23da4a5d6e\",\"type\":\"Range1d\"},{\"attributes\":{\"data_source\":{\"id\":\"21ccffaa-f0ad-49f9-99d4-6cd35be5e328\",\"type\":\"ColumnDataSource\"},\"glyph\":{\"id\":\"3fcd5846-3d02-4e62-9f2e-f79ac07b514a\",\"type\":\"Line\"},\"hover_glyph\":null,\"muted_glyph\":null,\"nonselection_glyph\":{\"id\":\"da62d17c-7173-4915-bced-da479dc5ffcf\",\"type\":\"Line\"},\"selection_glyph\":null,\"view\":{\"id\":\"0aa41db5-de7a-4ea7-b4fd-18d2c15c1b0c\",\"type\":\"CDSView\"}},\"id\":\"caee3595-4a42-4735-97a0-1748b0bf3659\",\"type\":\"GlyphRenderer\"},{\"attributes\":{\"active_drag\":\"auto\",\"active_inspect\":\"auto\",\"active_scroll\":\"auto\",\"active_tap\":\"auto\",\"tools\":[{\"id\":\"e711d92d-5d84-4d0c-994b-630eeb2f4552\",\"type\":\"PanTool\"},{\"id\":\"7e6d5f3d-e3af-4082-ba72-712409c50a6b\",\"type\":\"WheelZoomTool\"},{\"id\":\"bd2970bb-e779-4eed-85fb-69876f7c2501\",\"type\":\"BoxZoomTool\"},{\"id\":\"f2e3131e-a3b3-4f84-ae5b-eacb00559f05\",\"type\":\"SaveTool\"},{\"id\":\"d0d64b35-0dcb-48a6-9d1e-4f5720f1ba94\",\"type\":\"ResetTool\"},{\"id\":\"b2077157-9c23-4c2e-a336-197bbdda80f6\",\"type\":\"HelpTool\"}]},\"id\":\"afada0c0-07b2-4b57-ad19-b59a785c1380\",\"type\":\"Toolbar\"},{\"attributes\":{\"source\":{\"id\":\"21ccffaa-f0ad-49f9-99d4-6cd35be5e328\",\"type\":\"ColumnDataSource\"}},\"id\":\"0aa41db5-de7a-4ea7-b4fd-18d2c15c1b0c\",\"type\":\"CDSView\"},{\"attributes\":{},\"id\":\"c2f8d67d-75bf-495e-a6e1-2fd5e0bf8283\",\"type\":\"UnionRenderers\"},{\"attributes\":{},\"id\":\"fbb894eb-9ef9-4273-ab49-aab7971360c6\",\"type\":\"LogScale\"},{\"attributes\":{\"items\":[{\"id\":\"aaafcc67-196f-4d3f-8a33-c654566d6883\",\"type\":\"LegendItem\"},{\"id\":\"9bcb309b-4df1-42a3-b3d1-dd0ae58beb50\",\"type\":\"LegendItem\"}],\"label_text_font_size\":{\"value\":\"8pt\"},\"location\":\"top_center\",\"orientation\":\"horizontal\",\"plot\":{\"id\":\"2c4eef54-6446-4453-8a5f-655aaf81007a\",\"subtype\":\"Figure\",\"type\":\"Plot\"}},\"id\":\"ef681b48-2b32-49a6-bb46-476b6e665d6c\",\"type\":\"Legend\"},{\"attributes\":{\"label\":{\"value\":\"CLIRAD\"},\"renderers\":[{\"id\":\"52d5d82e-9aef-47a7-b702-941799092797\",\"type\":\"GlyphRenderer\"}]},\"id\":\"aaafcc67-196f-4d3f-8a33-c654566d6883\",\"type\":\"LegendItem\"},{\"attributes\":{},\"id\":\"34911067-61aa-41d0-9926-62f11bfbcd6c\",\"type\":\"HelpTool\"},{\"attributes\":{},\"id\":\"12e7878c-c5c5-41df-98a0-7dfa3aa4d3f7\",\"type\":\"LinearScale\"},{\"attributes\":{\"plot\":{\"id\":\"2c4eef54-6446-4453-8a5f-655aaf81007a\",\"subtype\":\"Figure\",\"type\":\"Plot\"},\"ticker\":{\"id\":\"eea825e9-93db-44ca-ad51-501b83299096\",\"type\":\"BasicTicker\"}},\"id\":\"bf67a59b-af10-49a3-b43d-c0542f4dc796\",\"type\":\"Grid\"},{\"attributes\":{\"label\":{\"value\":\"CRD\"},\"renderers\":[{\"id\":\"f1f3cfef-87b3-46ba-90cb-8f8df24a7f83\",\"type\":\"GlyphRenderer\"},{\"id\":\"caee3595-4a42-4735-97a0-1748b0bf3659\",\"type\":\"GlyphRenderer\"}]},\"id\":\"9bcb309b-4df1-42a3-b3d1-dd0ae58beb50\",\"type\":\"LegendItem\"},{\"attributes\":{\"axis_label\":\"cooling rate [K/day]\",\"formatter\":{\"id\":\"82f022bb-7605-43dd-b90f-f3ef1817ef28\",\"type\":\"BasicTickFormatter\"},\"plot\":{\"id\":\"2c4eef54-6446-4453-8a5f-655aaf81007a\",\"subtype\":\"Figure\",\"type\":\"Plot\"},\"ticker\":{\"id\":\"eea825e9-93db-44ca-ad51-501b83299096\",\"type\":\"BasicTicker\"}},\"id\":\"f791e3b2-e279-4d7f-9c1e-3ae990f8c579\",\"type\":\"LinearAxis\"},{\"attributes\":{\"source\":{\"id\":\"4a63a7e4-72a4-4655-bd29-ef7b2a0a75f2\",\"type\":\"ColumnDataSource\"}},\"id\":\"6e55c763-68fc-4680-8fed-819618bd81c4\",\"type\":\"CDSView\"},{\"attributes\":{},\"id\":\"eea825e9-93db-44ca-ad51-501b83299096\",\"type\":\"BasicTicker\"},{\"attributes\":{\"axis_label\":\"pressure [mb]\",\"formatter\":{\"id\":\"9be753e5-060e-4aba-bf82-04b67822f6d6\",\"type\":\"LogTickFormatter\"},\"plot\":{\"id\":\"2c4eef54-6446-4453-8a5f-655aaf81007a\",\"subtype\":\"Figure\",\"type\":\"Plot\"},\"ticker\":{\"id\":\"7a54e71f-25d5-4d58-bf40-1b5171e55b21\",\"type\":\"LogTicker\"}},\"id\":\"0c1f47c8-55e9-4e3c-9c73-d1a588943ebb\",\"type\":\"LogAxis\"},{\"attributes\":{\"num_minor_ticks\":10},\"id\":\"7a54e71f-25d5-4d58-bf40-1b5171e55b21\",\"type\":\"LogTicker\"},{\"attributes\":{\"dimension\":1,\"plot\":{\"id\":\"2c4eef54-6446-4453-8a5f-655aaf81007a\",\"subtype\":\"Figure\",\"type\":\"Plot\"},\"ticker\":{\"id\":\"7a54e71f-25d5-4d58-bf40-1b5171e55b21\",\"type\":\"LogTicker\"}},\"id\":\"3c49515b-72ed-484c-9b3f-46706c734d34\",\"type\":\"Grid\"},{\"attributes\":{\"active_drag\":\"auto\",\"active_inspect\":\"auto\",\"active_scroll\":\"auto\",\"active_tap\":\"auto\",\"tools\":[{\"id\":\"3e822bca-64c5-4e87-a751-6e755d99e717\",\"type\":\"PanTool\"},{\"id\":\"fa6a8aa2-4978-416d-8e11-61d84f56c945\",\"type\":\"WheelZoomTool\"},{\"id\":\"7696da28-8cd5-473f-9958-6c3006725c30\",\"type\":\"BoxZoomTool\"},{\"id\":\"5108e24a-ad8c-4733-ba5f-831dfc3a6024\",\"type\":\"SaveTool\"},{\"id\":\"00cc0505-9168-4724-b1fa-c390e4fd4d95\",\"type\":\"ResetTool\"},{\"id\":\"34911067-61aa-41d0-9926-62f11bfbcd6c\",\"type\":\"HelpTool\"}]},\"id\":\"bdac3183-2ea9-4b3f-bcab-42b9463f4e13\",\"type\":\"Toolbar\"},{\"attributes\":{\"plot\":{\"id\":\"4d1f1ffe-4499-4c74-9db6-99b5d67087ac\",\"subtype\":\"Figure\",\"type\":\"Plot\"},\"ticker\":{\"id\":\"b3034fe3-c788-4847-8d13-cdda1d492810\",\"type\":\"BasicTicker\"}},\"id\":\"ea7de8c6-1c3f-4366-8a99-a5249474966c\",\"type\":\"Grid\"},{\"attributes\":{\"callback\":null,\"data\":{\"x\":{\"__ndarray__\":\"4AyZU0s4gT/Is79EoCCDP9xh8orQnYY/KOCY5M7siT/YkNYdLfyMP+SSXl/h4I8/9OrDSmpAkT+UNpRbDH6SPxymI3FwmJM/8NZnC16tlD9Ya7rOIdGVP+S2hQBDA5c/+I6G+Cx0mD/wdcP9GiWaP9QgxHwW15o/aAgvEPDjlz+M9ebNZ5SIP3QKwHlQ1Hq/APYLVbXNnr9glfGtF1ysv3ivUiioNLS/MJN1k3O9ur+AQXJ8/sW/v1DSYjq+B7W/gHZOs0C7g78AhmkpanpqvwCxjGiWX4G/gP6nbnAagT9ARlpsixmgP9gyXPSAP6c/SNQ8LkcbpT/0U0eHuiGZP2BINx1clX8/IIfambY9gb8gDi3Tq9iavxBcJyZW46S/2DrM8tDSpL/Em8rcWxWhv1BIAHE2oZm/gD14UP1BkL+wFD743EuCv1BUFuiHz3W/YJ3U3nopab/ApE4aTL5Xv4D+Dg3X3zy/AEF2pBvdKD+AygABf7lFP4CFGW5Okk8/oDVIkxvdUj9w3LbqmMVUP6Bus+2+p1U/GHfwBNyiVT/MfVkuYChVP6DIWWejS1Q//qObfVg+Uz/DQ3CJkPRRPxgkyp/uilA/KCUI9ToLTj+wwFgGraxKP2B2U40IDUc/oEthc0hJQz8gtE+uxmU+P4ATp1gKiDY/gBWM/lu/LD8AvxfWwmkXPwDmbXTn7AG/gBol9KKSJL9AnDKpNHExv4Bkg7fNdTa/AJlpneZUOr8A/3PVkkc9vwB9hFVN9D+/YFpNN4aJQb8g2C6iKvxCvyAZIk73n0S/\",\"dtype\":\"float64\",\"shape\":[75]},\"y\":{\"__ndarray__\":\"GhExyth1ND/Sv8nbtpRIP2vylNV0PVE/aTum7souWD/At0SJ8fVgPw3Iuahxymc/MSNhhJWvcD/bTfBN02d3P2zb5nxnaoA/CD5h5MAGhz8NmeH1TyaQP+zrCsc9p5Y/LbKd76fGnz/bLW5ISEmmPww9YvTcQq8/JV2OstnstT8Er5Y7M8G+P0c+r3jqkcU/5h99k6ZBzj88bCIzFzjVP4enV8oyxN0//yH99nXg5D8qOpLLf0jtP5kqGJXUifQ/c9cS8kHP/D+/DpwzojQEQIEmwoanVwxA4lgXt9HgE0BSSZ2AJuIbQAMJih9jjiNA5q4l5INuK0AwTKYKRj0zQNv5fmq8/DpAaCJseHrtQkB/+zpwzoxKQM3MzMzMeFJAZmZmZmZqWEAAAAAAAFxeQM3MzMzMJmJAmpmZmZkfZUBmZmZmZhhoQDMzMzMzEWtAAAAAAAAKbkBmZmZmZoFwQM3MzMzM/XFAMzMzMzN6c0CamZmZmfZ0QAAAAAAAc3ZAZmZmZmbvd0DNzMzMzGt5QDMzMzMz6HpAmpmZmZlkfEAAAAAAAOF9QGZmZmZmXX9AZmZmZuZsgECamZmZGSuBQM3MzMxM6YFAAAAAAICngkAzMzMzs2WDQGZmZmbmI4RAmpmZmRnihEDNzMzMTKCFQAAAAACAXoZAMzMzM7Mch0BmZmZm5tqHQJqZmZkZmYhAzczMzExXiUAAAAAAgBWKQDMzMzOz04pAZmZmZuaRi0CamZmZGVCMQM3MzMxMDo1AAAAAAIDMjUAzMzMzs4qOQGZmZmbmSI9A\",\"dtype\":\"float64\",\"shape\":[75]}},\"selected\":{\"id\":\"bf7fc3cd-67bf-4610-84ad-6f4de9ad08cc\",\"type\":\"Selection\"},\"selection_policy\":{\"id\":\"b167e6f6-f634-4c03-9c14-fbb2e0076642\",\"type\":\"UnionRenderers\"}},\"id\":\"4a63a7e4-72a4-4655-bd29-ef7b2a0a75f2\",\"type\":\"ColumnDataSource\"},{\"attributes\":{},\"id\":\"84cbdfe3-05a5-43de-96c0-8f2e59269fe3\",\"type\":\"LinearScale\"},{\"attributes\":{\"callback\":null,\"end\":0.01,\"start\":1020},\"id\":\"199a13bc-de48-408d-8aed-7016fe2fd446\",\"type\":\"Range1d\"},{\"attributes\":{\"bottom_units\":\"screen\",\"fill_alpha\":{\"value\":0.5},\"fill_color\":{\"value\":\"lightgrey\"},\"left_units\":\"screen\",\"level\":\"overlay\",\"line_alpha\":{\"value\":1.0},\"line_color\":{\"value\":\"black\"},\"line_dash\":[4,4],\"line_width\":{\"value\":2},\"plot\":null,\"render_mode\":\"css\",\"right_units\":\"screen\",\"top_units\":\"screen\"},\"id\":\"7b1a35d5-00b4-414f-9d7f-07bda73a4f82\",\"type\":\"BoxAnnotation\"},{\"attributes\":{\"callback\":null,\"end\":0.04710158269999998,\"start\":-0.12581011270000036},\"id\":\"b29dfc94-360f-4ed7-b78b-97a544f014e3\",\"type\":\"Range1d\"},{\"attributes\":{},\"id\":\"e711d92d-5d84-4d0c-994b-630eeb2f4552\",\"type\":\"PanTool\"},{\"attributes\":{\"items\":[{\"id\":\"80a10b86-687f-46e4-846d-a5e87818c463\",\"type\":\"LegendItem\"}],\"label_text_font_size\":{\"value\":\"8pt\"},\"location\":\"top_center\",\"orientation\":\"horizontal\",\"plot\":{\"id\":\"4d1f1ffe-4499-4c74-9db6-99b5d67087ac\",\"subtype\":\"Figure\",\"type\":\"Plot\"}},\"id\":\"e64c776f-5090-4864-8a48-618081a1602a\",\"type\":\"Legend\"},{\"attributes\":{},\"id\":\"7e6d5f3d-e3af-4082-ba72-712409c50a6b\",\"type\":\"WheelZoomTool\"},{\"attributes\":{},\"id\":\"47a3eb88-8689-43e9-9d5d-3b59cb37a03a\",\"type\":\"ResetTool\"},{\"attributes\":{\"overlay\":{\"id\":\"7b1a35d5-00b4-414f-9d7f-07bda73a4f82\",\"type\":\"BoxAnnotation\"}},\"id\":\"bd2970bb-e779-4eed-85fb-69876f7c2501\",\"type\":\"BoxZoomTool\"},{\"attributes\":{},\"id\":\"f2e3131e-a3b3-4f84-ae5b-eacb00559f05\",\"type\":\"SaveTool\"},{\"attributes\":{\"dimension\":1,\"plot\":{\"id\":\"4d1f1ffe-4499-4c74-9db6-99b5d67087ac\",\"subtype\":\"Figure\",\"type\":\"Plot\"},\"ticker\":{\"id\":\"38e9d380-0b81-4f35-a784-36651fa7e3e9\",\"type\":\"LogTicker\"}},\"id\":\"fc55da64-3bce-45e4-bdb8-8c943a6c5c28\",\"type\":\"Grid\"},{\"attributes\":{},\"id\":\"d0d64b35-0dcb-48a6-9d1e-4f5720f1ba94\",\"type\":\"ResetTool\"},{\"attributes\":{},\"id\":\"6c1ce2d9-7595-4b07-9f11-4a7cfa7cc56e\",\"type\":\"PanTool\"},{\"attributes\":{},\"id\":\"b2077157-9c23-4c2e-a336-197bbdda80f6\",\"type\":\"HelpTool\"},{\"attributes\":{},\"id\":\"b3034fe3-c788-4847-8d13-cdda1d492810\",\"type\":\"BasicTicker\"},{\"attributes\":{},\"id\":\"364fcfc0-45b8-44ae-be7f-df0af36b59f9\",\"type\":\"WheelZoomTool\"},{\"attributes\":{},\"id\":\"00cc0505-9168-4724-b1fa-c390e4fd4d95\",\"type\":\"ResetTool\"},{\"attributes\":{\"line_alpha\":0.6,\"line_color\":\"#e41a1c\",\"line_dash\":[6],\"line_width\":5,\"x\":{\"field\":\"x\"},\"y\":{\"field\":\"y\"}},\"id\":\"176edd78-fe9e-4db7-9794-c1008bb1d233\",\"type\":\"Line\"},{\"attributes\":{\"bottom_units\":\"screen\",\"fill_alpha\":{\"value\":0.5},\"fill_color\":{\"value\":\"lightgrey\"},\"left_units\":\"screen\",\"level\":\"overlay\",\"line_alpha\":{\"value\":1.0},\"line_color\":{\"value\":\"black\"},\"line_dash\":[4,4],\"line_width\":{\"value\":2},\"plot\":null,\"render_mode\":\"css\",\"right_units\":\"screen\",\"top_units\":\"screen\"},\"id\":\"1b043ae0-82a5-41fa-8c3c-119e4c13f594\",\"type\":\"BoxAnnotation\"},{\"attributes\":{},\"id\":\"f648c829-ea73-4551-89ad-78f2ec0589f9\",\"type\":\"Selection\"},{\"attributes\":{},\"id\":\"1590fae9-4878-43d2-814b-58ae48de8352\",\"type\":\"SaveTool\"},{\"attributes\":{},\"id\":\"4cf47968-4776-4023-a159-1359242692b3\",\"type\":\"LogScale\"},{\"attributes\":{\"line_alpha\":0.1,\"line_color\":\"#1f77b4\",\"line_dash\":[6],\"line_width\":5,\"x\":{\"field\":\"x\"},\"y\":{\"field\":\"y\"}},\"id\":\"737d264c-9e3b-4df0-a4d2-80b907493358\",\"type\":\"Line\"},{\"attributes\":{\"overlay\":{\"id\":\"1b043ae0-82a5-41fa-8c3c-119e4c13f594\",\"type\":\"BoxAnnotation\"}},\"id\":\"7696da28-8cd5-473f-9958-6c3006725c30\",\"type\":\"BoxZoomTool\"},{\"attributes\":{\"axis_label\":\"cooling rate [K/day]\",\"formatter\":{\"id\":\"9b8ecac5-ad2c-4d20-b015-4ae2519468b8\",\"type\":\"BasicTickFormatter\"},\"plot\":{\"id\":\"4d1f1ffe-4499-4c74-9db6-99b5d67087ac\",\"subtype\":\"Figure\",\"type\":\"Plot\"},\"ticker\":{\"id\":\"b3034fe3-c788-4847-8d13-cdda1d492810\",\"type\":\"BasicTicker\"}},\"id\":\"b45ddb21-0144-4cd7-8fa6-950061925ac4\",\"type\":\"LinearAxis\"},{\"attributes\":{\"overlay\":{\"id\":\"95c5c71c-e68c-409c-854c-abf9ab392b07\",\"type\":\"BoxAnnotation\"}},\"id\":\"e0414c04-590c-4c68-a01a-b1d5d8f99ab0\",\"type\":\"BoxZoomTool\"},{\"attributes\":{\"plot\":{\"id\":\"3b9e478c-ea94-4ab4-90bd-32d8373ead61\",\"subtype\":\"Figure\",\"type\":\"Plot\"},\"ticker\":{\"id\":\"7c0290f5-7f29-484c-8432-9995c5f8f77d\",\"type\":\"BasicTicker\"}},\"id\":\"dbf4235c-08d1-4809-9ce2-a27d5d4cae64\",\"type\":\"Grid\"},{\"attributes\":{\"above\":[{\"id\":\"e64c776f-5090-4864-8a48-618081a1602a\",\"type\":\"Legend\"}],\"below\":[{\"id\":\"b45ddb21-0144-4cd7-8fa6-950061925ac4\",\"type\":\"LinearAxis\"}],\"left\":[{\"id\":\"5b7c7dfc-f9f0-400a-be54-c72579c4a579\",\"type\":\"LogAxis\"}],\"plot_width\":300,\"renderers\":[{\"id\":\"b45ddb21-0144-4cd7-8fa6-950061925ac4\",\"type\":\"LinearAxis\"},{\"id\":\"ea7de8c6-1c3f-4366-8a99-a5249474966c\",\"type\":\"Grid\"},{\"id\":\"5b7c7dfc-f9f0-400a-be54-c72579c4a579\",\"type\":\"LogAxis\"},{\"id\":\"fc55da64-3bce-45e4-bdb8-8c943a6c5c28\",\"type\":\"Grid\"},{\"id\":\"1b043ae0-82a5-41fa-8c3c-119e4c13f594\",\"type\":\"BoxAnnotation\"},{\"id\":\"5311a567-32cb-4a02-be7c-2408d2280f7a\",\"type\":\"GlyphRenderer\"},{\"id\":\"3ef22e6d-c322-4b8b-9720-93ae29a44016\",\"type\":\"GlyphRenderer\"},{\"id\":\"e64c776f-5090-4864-8a48-618081a1602a\",\"type\":\"Legend\"}],\"title\":{\"id\":\"096b847e-368a-4315-98c4-812e6fc5896c\",\"type\":\"Title\"},\"toolbar\":{\"id\":\"bdac3183-2ea9-4b3f-bcab-42b9463f4e13\",\"type\":\"Toolbar\"},\"toolbar_location\":null,\"x_range\":{\"id\":\"b29dfc94-360f-4ed7-b78b-97a544f014e3\",\"type\":\"Range1d\"},\"x_scale\":{\"id\":\"84cbdfe3-05a5-43de-96c0-8f2e59269fe3\",\"type\":\"LinearScale\"},\"y_range\":{\"id\":\"199a13bc-de48-408d-8aed-7016fe2fd446\",\"type\":\"Range1d\"},\"y_scale\":{\"id\":\"4cf47968-4776-4023-a159-1359242692b3\",\"type\":\"LogScale\"}},\"id\":\"4d1f1ffe-4499-4c74-9db6-99b5d67087ac\",\"subtype\":\"Figure\",\"type\":\"Plot\"},{\"attributes\":{},\"id\":\"fa6a8aa2-4978-416d-8e11-61d84f56c945\",\"type\":\"WheelZoomTool\"},{\"attributes\":{},\"id\":\"f4e48f9f-1b7a-4aec-bdbb-d21388e09a04\",\"type\":\"LinearScale\"},{\"attributes\":{\"label\":{\"value\":\"CRD\"},\"renderers\":[{\"id\":\"bd2befd9-39a5-4632-94a8-c59753283487\",\"type\":\"GlyphRenderer\"},{\"id\":\"17ec2889-49a3-4133-a560-68ac272c49bc\",\"type\":\"GlyphRenderer\"}]},\"id\":\"db6409f4-3e7c-4396-83be-a040fd0a2e30\",\"type\":\"LegendItem\"},{\"attributes\":{\"axis_label\":\"pressure [mb]\",\"formatter\":{\"id\":\"d3d18723-3941-4ab2-afc0-3ee55277e62d\",\"type\":\"BasicTickFormatter\"},\"plot\":{\"id\":\"3b9e478c-ea94-4ab4-90bd-32d8373ead61\",\"subtype\":\"Figure\",\"type\":\"Plot\"},\"ticker\":{\"id\":\"31d6791f-4862-405f-8ff6-5c600b7c0b95\",\"type\":\"BasicTicker\"}},\"id\":\"b18d91ce-b074-46d4-85fa-6da557c2a9b8\",\"type\":\"LinearAxis\"},{\"attributes\":{\"dimension\":1,\"plot\":{\"id\":\"3b9e478c-ea94-4ab4-90bd-32d8373ead61\",\"subtype\":\"Figure\",\"type\":\"Plot\"},\"ticker\":{\"id\":\"31d6791f-4862-405f-8ff6-5c600b7c0b95\",\"type\":\"BasicTicker\"}},\"id\":\"9e8f652a-da97-4fc9-87cf-a0cadb8c8aaa\",\"type\":\"Grid\"},{\"attributes\":{\"source\":{\"id\":\"1619dd9e-c2ca-421f-95a4-582ba58399fb\",\"type\":\"ColumnDataSource\"}},\"id\":\"151fb019-629a-4198-b1b8-9294f36bcac8\",\"type\":\"CDSView\"},{\"attributes\":{},\"id\":\"7c0290f5-7f29-484c-8432-9995c5f8f77d\",\"type\":\"BasicTicker\"},{\"attributes\":{\"ticker\":null},\"id\":\"9be753e5-060e-4aba-bf82-04b67822f6d6\",\"type\":\"LogTickFormatter\"},{\"attributes\":{\"fill_alpha\":{\"value\":0.1},\"fill_color\":{\"value\":\"#1f77b4\"},\"line_alpha\":{\"value\":0.1},\"line_color\":{\"value\":\"#1f77b4\"},\"x\":{\"field\":\"x\"},\"y\":{\"field\":\"y\"}},\"id\":\"a0edc424-fa89-41b8-a031-60441e7b2f4e\",\"type\":\"Circle\"},{\"attributes\":{},\"id\":\"5108e24a-ad8c-4733-ba5f-831dfc3a6024\",\"type\":\"SaveTool\"},{\"attributes\":{\"fill_alpha\":{\"value\":0.7},\"fill_color\":{\"value\":\"#984ea3\"},\"line_alpha\":{\"value\":0.7},\"line_color\":{\"value\":\"#984ea3\"},\"x\":{\"field\":\"x\"},\"y\":{\"field\":\"y\"}},\"id\":\"37ede469-5e87-438e-805f-4aabc31dbf71\",\"type\":\"Circle\"},{\"attributes\":{\"fill_alpha\":{\"value\":0.1},\"fill_color\":{\"value\":\"#1f77b4\"},\"line_alpha\":{\"value\":0.1},\"line_color\":{\"value\":\"#1f77b4\"},\"x\":{\"field\":\"x\"},\"y\":{\"field\":\"y\"}},\"id\":\"6314270c-041c-4026-b442-fbae66196230\",\"type\":\"Circle\"},{\"attributes\":{\"bottom_units\":\"screen\",\"fill_alpha\":{\"value\":0.5},\"fill_color\":{\"value\":\"lightgrey\"},\"left_units\":\"screen\",\"level\":\"overlay\",\"line_alpha\":{\"value\":1.0},\"line_color\":{\"value\":\"black\"},\"line_dash\":[4,4],\"line_width\":{\"value\":2},\"plot\":null,\"render_mode\":\"css\",\"right_units\":\"screen\",\"top_units\":\"screen\"},\"id\":\"95c5c71c-e68c-409c-854c-abf9ab392b07\",\"type\":\"BoxAnnotation\"},{\"attributes\":{\"data_source\":{\"id\":\"4a63a7e4-72a4-4655-bd29-ef7b2a0a75f2\",\"type\":\"ColumnDataSource\"},\"glyph\":{\"id\":\"37ede469-5e87-438e-805f-4aabc31dbf71\",\"type\":\"Circle\"},\"hover_glyph\":null,\"muted_glyph\":null,\"nonselection_glyph\":{\"id\":\"6314270c-041c-4026-b442-fbae66196230\",\"type\":\"Circle\"},\"selection_glyph\":null,\"view\":{\"id\":\"6e55c763-68fc-4680-8fed-819618bd81c4\",\"type\":\"CDSView\"}},\"id\":\"5311a567-32cb-4a02-be7c-2408d2280f7a\",\"type\":\"GlyphRenderer\"},{\"attributes\":{\"axis_label\":\"cooling rate [K/day]\",\"formatter\":{\"id\":\"52a604b4-d5ff-4836-bb22-bce30393cf4a\",\"type\":\"BasicTickFormatter\"},\"plot\":{\"id\":\"3b9e478c-ea94-4ab4-90bd-32d8373ead61\",\"subtype\":\"Figure\",\"type\":\"Plot\"},\"ticker\":{\"id\":\"7c0290f5-7f29-484c-8432-9995c5f8f77d\",\"type\":\"BasicTicker\"}},\"id\":\"1b811517-79a3-4983-b678-01462fa51fb1\",\"type\":\"LinearAxis\"},{\"attributes\":{\"callback\":null,\"data\":{\"x\":{\"__ndarray__\":\"/oJPBlb0o78esCxKaTOmv2M98l0DiKq/WxFOboivrr/i63XP3VWxvxG2R4sNP7O/mpeYbt8Rtb8H5LLU8c22v+K4VPG7c7i/UiFoFrIEur8ZxdV1Zoq7v4W171nwBb2/oyLr/B2Cvr9Jl6NsNvu/vzzIwkJzPsC/86KfPjwqvr/3Wq9teuWxv/PrcDzrj6A/8Waqs5x8yT8IDMzpNlHcP3PPX41Y0Og/jsXb7/V68z9niL4WT7j7P3oFs1O95v8/Oq5GdqWl/D9otRvYhfr2PxDbJ5GO/PA/4vNYbd3R5z/7rSFhrbTgPzBjbQD0g9Y/95r1lGLoxj9H7Bj56hqFP8z3QrdNp7u/fkhsNfN9yL+VkeXq6LTQv0W8lgzXFdK/vHloJ5wA0L+VW4OMurXLv6b7MZSwwsm/GyQrXOIKx7/f0EoQZHPCv/XkUHV+QL2/HHvVTr0DuL8BIEpbLCqzvy6fwbP4pa6/8S7k//iMqb9KBg7VhTmlv+jzvuKKOqG/vnWEJ4Klm78Yi+EVgeSVv0MtFzsrs5C/xhpjZB8diL8zb/aDkcl/v+y6sURSkHG/10Er1WHjU78ngvJewMlZP3HzR4FX5XA/St+d1A2Pej8lfAIvkrmBPy36H23X3IU/KlnZNHK6iT9HrF3Ei0aNP2XlVaVGS5A/PwCpTZzckT/HVNv8qE6TP+VXBOMGmpQ/N+tURS3XlT/XmDDKzgOXP92j/zHp+Zc/jhmw/ce2mD+9H+Lfmk2ZP64QWxzD05k/zmdILmJMmj9aAYgyibeaP29SlvYNGZs/\",\"dtype\":\"float64\",\"shape\":[75]},\"y\":{\"__ndarray__\":\"GhExyth1ND/Sv8nbtpRIP2vylNV0PVE/aTum7souWD/At0SJ8fVgPw3Iuahxymc/MSNhhJWvcD/bTfBN02d3P2zb5nxnaoA/CD5h5MAGhz8NmeH1TyaQP+zrCsc9p5Y/LbKd76fGnz/bLW5ISEmmPww9YvTcQq8/JV2OstnstT8Er5Y7M8G+P0c+r3jqkcU/5h99k6ZBzj88bCIzFzjVP4enV8oyxN0//yH99nXg5D8qOpLLf0jtP5kqGJXUifQ/c9cS8kHP/D+/DpwzojQEQIEmwoanVwxA4lgXt9HgE0BSSZ2AJuIbQAMJih9jjiNA5q4l5INuK0AwTKYKRj0zQNv5fmq8/DpAaCJseHrtQkB/+zpwzoxKQM3MzMzMeFJAZmZmZmZqWEAAAAAAAFxeQM3MzMzMJmJAmpmZmZkfZUBmZmZmZhhoQDMzMzMzEWtAAAAAAAAKbkBmZmZmZoFwQM3MzMzM/XFAMzMzMzN6c0CamZmZmfZ0QAAAAAAAc3ZAZmZmZmbvd0DNzMzMzGt5QDMzMzMz6HpAmpmZmZlkfEAAAAAAAOF9QGZmZmZmXX9AZmZmZuZsgECamZmZGSuBQM3MzMxM6YFAAAAAAICngkAzMzMzs2WDQGZmZmbmI4RAmpmZmRnihEDNzMzMTKCFQAAAAACAXoZAMzMzM7Mch0BmZmZm5tqHQJqZmZkZmYhAzczMzExXiUAAAAAAgBWKQDMzMzOz04pAZmZmZuaRi0CamZmZGVCMQM3MzMxMDo1AAAAAAIDMjUAzMzMzs4qOQGZmZmbmSI9A\",\"dtype\":\"float64\",\"shape\":[75]}},\"selected\":{\"id\":\"f648c829-ea73-4551-89ad-78f2ec0589f9\",\"type\":\"Selection\"},\"selection_policy\":{\"id\":\"c2f8d67d-75bf-495e-a6e1-2fd5e0bf8283\",\"type\":\"UnionRenderers\"}},\"id\":\"1619dd9e-c2ca-421f-95a4-582ba58399fb\",\"type\":\"ColumnDataSource\"},{\"attributes\":{\"axis_label\":\"pressure [mb]\",\"formatter\":{\"id\":\"edb302e0-739d-4cd1-bf23-28115b5fea37\",\"type\":\"LogTickFormatter\"},\"plot\":{\"id\":\"4d1f1ffe-4499-4c74-9db6-99b5d67087ac\",\"subtype\":\"Figure\",\"type\":\"Plot\"},\"ticker\":{\"id\":\"38e9d380-0b81-4f35-a784-36651fa7e3e9\",\"type\":\"LogTicker\"}},\"id\":\"5b7c7dfc-f9f0-400a-be54-c72579c4a579\",\"type\":\"LogAxis\"},{\"attributes\":{},\"id\":\"90139f1d-2158-420b-89ff-d4339f9d1f4b\",\"type\":\"LinearScale\"},{\"attributes\":{\"callback\":null,\"end\":0.029961190129999996,\"start\":-0.32687837713},\"id\":\"7419519a-0def-47fd-bc8e-7743f272d0ab\",\"type\":\"Range1d\"},{\"attributes\":{\"data_source\":{\"id\":\"1619dd9e-c2ca-421f-95a4-582ba58399fb\",\"type\":\"ColumnDataSource\"},\"glyph\":{\"id\":\"093073ec-4152-4469-85ac-e9e78cc8e9cc\",\"type\":\"Circle\"},\"hover_glyph\":null,\"muted_glyph\":null,\"nonselection_glyph\":{\"id\":\"a0edc424-fa89-41b8-a031-60441e7b2f4e\",\"type\":\"Circle\"},\"selection_glyph\":null,\"view\":{\"id\":\"151fb019-629a-4198-b1b8-9294f36bcac8\",\"type\":\"CDSView\"}},\"id\":\"f1f3cfef-87b3-46ba-90cb-8f8df24a7f83\",\"type\":\"GlyphRenderer\"},{\"attributes\":{},\"id\":\"d64a1daf-0ad7-4c79-8528-29d2b0007b7e\",\"type\":\"Selection\"},{\"attributes\":{\"callback\":null,\"end\":0.01,\"start\":1020},\"id\":\"2e8e97d5-a434-4116-81e6-3462fd78fc4e\",\"type\":\"Range1d\"},{\"attributes\":{\"callback\":null,\"data\":{\"x\":{\"__ndarray__\":\"jH/SYoZMn78sw/w4QWuhv+ykNTuP4KS/UdkntVQ0qL+OM3ZXsGyrv2nHt77iha6/3Zzn28TBsL9i1s29bi6yv1vPC9WfjbO/liuOk1rZtL9DKicCHha2v8xHzpkfRbe/5X7JvhJluL/NuTKt73G5v0OIVOYgx7m/2eCTOkAxuL+L+OTn2qWtv0nVcVrCapo/MegICeaixT9c2Q30s8XYP4R5VYjDSeY/W2ykth7P8T9PZPcu77v5P1XYDHBBlv4/TRHg9C5+/D+lAAejSO32P67BVmTP2fA/3JMTL0cW6D9fUucXRrbhP4vp+B7ka9k/CdCEYDQvzD8M5ekBmNehP0aDb/X3rbm/8PAJn86Ryb93Yhioc2LSv8enW9FBstS/FwHCRfaa0r+GAraDEfvPv7AEUmLX9sy/yys6BiITyb8qss7fIZjDvzpK0vN2nb6/ByDMJQnNuL+UWrOLJYmzvyu922G4366/sLg/5Bt0qb8gAwrZn+Kkv9KNBqlBvKC/ZPJPbrB3mr9RHTaHJ5iUv7Lsd5hesY6/4wvF48Nohb/AD2B4eX96v4iRttXS+mi/Ervz8SqhBL/1YjF0KN9lP3d8OikTCHU/7+M+M3VQfj8wCGj/XGSDP5Mx9fWnTYc/5G0PvAbvij/oKdD5uTmOP7OBuM5mpZA/ahimBRsWkj+GbLG/EmaTP/IgSm8QkZQ/AqFs/weulT9mzov3Cb6WP0uWIfsRoJc/KnM6Y3RNmD/BT4yUfNiYP7r+BOfxU5k/+/yN/BXAmT+Zinbdpx+aP6ZBJTwOdJo/\",\"dtype\":\"float64\",\"shape\":[75]},\"y\":{\"__ndarray__\":\"GhExyth1ND/Sv8nbtpRIP2vylNV0PVE/aTum7souWD/At0SJ8fVgPw3Iuahxymc/MSNhhJWvcD/bTfBN02d3P2zb5nxnaoA/CD5h5MAGhz8NmeH1TyaQP+zrCsc9p5Y/LbKd76fGnz/bLW5ISEmmPww9YvTcQq8/JV2OstnstT8Er5Y7M8G+P0c+r3jqkcU/5h99k6ZBzj88bCIzFzjVP4enV8oyxN0//yH99nXg5D8qOpLLf0jtP5kqGJXUifQ/c9cS8kHP/D+/DpwzojQEQIEmwoanVwxA4lgXt9HgE0BSSZ2AJuIbQAMJih9jjiNA5q4l5INuK0AwTKYKRj0zQNv5fmq8/DpAaCJseHrtQkB/+zpwzoxKQM3MzMzMeFJAZmZmZmZqWEAAAAAAAFxeQM3MzMzMJmJAmpmZmZkfZUBmZmZmZhhoQDMzMzMzEWtAAAAAAAAKbkBmZmZmZoFwQM3MzMzM/XFAMzMzMzN6c0CamZmZmfZ0QAAAAAAAc3ZAZmZmZmbvd0DNzMzMzGt5QDMzMzMz6HpAmpmZmZlkfEAAAAAAAOF9QGZmZmZmXX9AZmZmZuZsgECamZmZGSuBQM3MzMxM6YFAAAAAAICngkAzMzMzs2WDQGZmZmbmI4RAmpmZmRnihEDNzMzMTKCFQAAAAACAXoZAMzMzM7Mch0BmZmZm5tqHQJqZmZkZmYhAzczMzExXiUAAAAAAgBWKQDMzMzOz04pAZmZmZuaRi0CamZmZGVCMQM3MzMxMDo1AAAAAAIDMjUAzMzMzs4qOQGZmZmbmSI9A\",\"dtype\":\"float64\",\"shape\":[75]}},\"selected\":{\"id\":\"0f695162-d4af-4460-8dc4-bb96d7c9efb1\",\"type\":\"Selection\"},\"selection_policy\":{\"id\":\"5f68628a-c453-4854-a966-78b7d99a6382\",\"type\":\"UnionRenderers\"}},\"id\":\"cd261094-ae42-4765-81dc-9840bde05ec7\",\"type\":\"ColumnDataSource\"},{\"attributes\":{\"fill_alpha\":{\"value\":0.7},\"fill_color\":{\"value\":\"#4daf4a\"},\"line_alpha\":{\"value\":0.7},\"line_color\":{\"value\":\"#4daf4a\"},\"x\":{\"field\":\"x\"},\"y\":{\"field\":\"y\"}},\"id\":\"093073ec-4152-4469-85ac-e9e78cc8e9cc\",\"type\":\"Circle\"},{\"attributes\":{},\"id\":\"3e822bca-64c5-4e87-a751-6e755d99e717\",\"type\":\"PanTool\"},{\"attributes\":{\"source\":{\"id\":\"c663dc88-50b1-4443-aa4b-af5905811ad5\",\"type\":\"ColumnDataSource\"}},\"id\":\"e93147ba-a041-4ac4-80f4-812bda574727\",\"type\":\"CDSView\"},{\"attributes\":{},\"id\":\"82f022bb-7605-43dd-b90f-f3ef1817ef28\",\"type\":\"BasicTickFormatter\"},{\"attributes\":{\"data_source\":{\"id\":\"c663dc88-50b1-4443-aa4b-af5905811ad5\",\"type\":\"ColumnDataSource\"},\"glyph\":{\"id\":\"176edd78-fe9e-4db7-9794-c1008bb1d233\",\"type\":\"Line\"},\"hover_glyph\":null,\"muted_glyph\":null,\"nonselection_glyph\":{\"id\":\"737d264c-9e3b-4df0-a4d2-80b907493358\",\"type\":\"Line\"},\"selection_glyph\":null,\"view\":{\"id\":\"e93147ba-a041-4ac4-80f4-812bda574727\",\"type\":\"CDSView\"}},\"id\":\"52d5d82e-9aef-47a7-b702-941799092797\",\"type\":\"GlyphRenderer\"},{\"attributes\":{\"callback\":null,\"data\":{\"x\":{\"__ndarray__\":\"jH/SYoZMn78sw/w4QWuhv+ykNTuP4KS/UdkntVQ0qL+OM3ZXsGyrv2nHt77iha6/3Zzn28TBsL9i1s29bi6yv1vPC9WfjbO/liuOk1rZtL9DKicCHha2v8xHzpkfRbe/5X7JvhJluL/NuTKt73G5v0OIVOYgx7m/2eCTOkAxuL+L+OTn2qWtv0nVcVrCapo/MegICeaixT9c2Q30s8XYP4R5VYjDSeY/W2ykth7P8T9PZPcu77v5P1XYDHBBlv4/TRHg9C5+/D+lAAejSO32P67BVmTP2fA/3JMTL0cW6D9fUucXRrbhP4vp+B7ka9k/CdCEYDQvzD8M5ekBmNehP0aDb/X3rbm/8PAJn86Ryb93Yhioc2LSv8enW9FBstS/FwHCRfaa0r+GAraDEfvPv7AEUmLX9sy/yys6BiITyb8qss7fIZjDvzpK0vN2nb6/ByDMJQnNuL+UWrOLJYmzvyu922G4366/sLg/5Bt0qb8gAwrZn+Kkv9KNBqlBvKC/ZPJPbrB3mr9RHTaHJ5iUv7Lsd5hesY6/4wvF48Nohb/AD2B4eX96v4iRttXS+mi/Ervz8SqhBL/1YjF0KN9lP3d8OikTCHU/7+M+M3VQfj8wCGj/XGSDP5Mx9fWnTYc/5G0PvAbvij/oKdD5uTmOP7OBuM5mpZA/ahimBRsWkj+GbLG/EmaTP/IgSm8QkZQ/AqFs/weulT9mzov3Cb6WP0uWIfsRoJc/KnM6Y3RNmD/BT4yUfNiYP7r+BOfxU5k/+/yN/BXAmT+Zinbdpx+aP6ZBJTwOdJo/\",\"dtype\":\"float64\",\"shape\":[75]},\"y\":{\"__ndarray__\":\"GhExyth1ND/Sv8nbtpRIP2vylNV0PVE/aTum7souWD/At0SJ8fVgPw3Iuahxymc/MSNhhJWvcD/bTfBN02d3P2zb5nxnaoA/CD5h5MAGhz8NmeH1TyaQP+zrCsc9p5Y/LbKd76fGnz/bLW5ISEmmPww9YvTcQq8/JV2OstnstT8Er5Y7M8G+P0c+r3jqkcU/5h99k6ZBzj88bCIzFzjVP4enV8oyxN0//yH99nXg5D8qOpLLf0jtP5kqGJXUifQ/c9cS8kHP/D+/DpwzojQEQIEmwoanVwxA4lgXt9HgE0BSSZ2AJuIbQAMJih9jjiNA5q4l5INuK0AwTKYKRj0zQNv5fmq8/DpAaCJseHrtQkB/+zpwzoxKQM3MzMzMeFJAZmZmZmZqWEAAAAAAAFxeQM3MzMzMJmJAmpmZmZkfZUBmZmZmZhhoQDMzMzMzEWtAAAAAAAAKbkBmZmZmZoFwQM3MzMzM/XFAMzMzMzN6c0CamZmZmfZ0QAAAAAAAc3ZAZmZmZmbvd0DNzMzMzGt5QDMzMzMz6HpAmpmZmZlkfEAAAAAAAOF9QGZmZmZmXX9AZmZmZuZsgECamZmZGSuBQM3MzMxM6YFAAAAAAICngkAzMzMzs2WDQGZmZmbmI4RAmpmZmRnihEDNzMzMTKCFQAAAAACAXoZAMzMzM7Mch0BmZmZm5tqHQJqZmZkZmYhAzczMzExXiUAAAAAAgBWKQDMzMzOz04pAZmZmZuaRi0CamZmZGVCMQM3MzMxMDo1AAAAAAIDMjUAzMzMzs4qOQGZmZmbmSI9A\",\"dtype\":\"float64\",\"shape\":[75]}},\"selected\":{\"id\":\"d64a1daf-0ad7-4c79-8528-29d2b0007b7e\",\"type\":\"Selection\"},\"selection_policy\":{\"id\":\"bac54219-3e8c-4419-93b8-f11b8bfc574b\",\"type\":\"UnionRenderers\"}},\"id\":\"c663dc88-50b1-4443-aa4b-af5905811ad5\",\"type\":\"ColumnDataSource\"},{\"attributes\":{},\"id\":\"31d6791f-4862-405f-8ff6-5c600b7c0b95\",\"type\":\"BasicTicker\"},{\"attributes\":{\"data_source\":{\"id\":\"5551ee11-e318-4b73-94ba-d4d653f69a15\",\"type\":\"ColumnDataSource\"},\"glyph\":{\"id\":\"ce93295d-be06-42d8-aac6-146a990345e3\",\"type\":\"Line\"},\"hover_glyph\":null,\"muted_glyph\":null,\"nonselection_glyph\":{\"id\":\"97b6dbb5-b6c3-4a51-a85e-617471535b23\",\"type\":\"Line\"},\"selection_glyph\":null,\"view\":{\"id\":\"c3f88470-6ab1-4d8c-a8ef-d67c2d62d736\",\"type\":\"CDSView\"}},\"id\":\"3ef22e6d-c322-4b8b-9720-93ae29a44016\",\"type\":\"GlyphRenderer\"},{\"attributes\":{\"items\":[{\"id\":\"8950abbd-63ae-4d0d-a2ee-8d0db196267c\",\"type\":\"LegendItem\"},{\"id\":\"db6409f4-3e7c-4396-83be-a040fd0a2e30\",\"type\":\"LegendItem\"}],\"label_text_font_size\":{\"value\":\"8pt\"},\"location\":\"top_center\",\"orientation\":\"horizontal\",\"plot\":{\"id\":\"3b9e478c-ea94-4ab4-90bd-32d8373ead61\",\"subtype\":\"Figure\",\"type\":\"Plot\"}},\"id\":\"4523c140-ac1d-457e-ad9c-13a525e0627d\",\"type\":\"Legend\"},{\"attributes\":{\"line_alpha\":0.8,\"line_color\":\"#984ea3\",\"line_width\":1.5,\"x\":{\"field\":\"x\"},\"y\":{\"field\":\"y\"}},\"id\":\"ce93295d-be06-42d8-aac6-146a990345e3\",\"type\":\"Line\"},{\"attributes\":{\"data_source\":{\"id\":\"6dd19d59-a9d8-44c1-ba62-bae815dd9599\",\"type\":\"ColumnDataSource\"},\"glyph\":{\"id\":\"437dd97d-00dd-4409-b316-5719d91abc6c\",\"type\":\"Circle\"},\"hover_glyph\":null,\"muted_glyph\":null,\"nonselection_glyph\":{\"id\":\"fa17240f-e71a-4af5-b9b2-6ab6f017fb7a\",\"type\":\"Circle\"},\"selection_glyph\":null,\"view\":{\"id\":\"fe2e437d-b579-4acb-b8b6-3ba2b6478282\",\"type\":\"CDSView\"}},\"id\":\"bd2befd9-39a5-4632-94a8-c59753283487\",\"type\":\"GlyphRenderer\"},{\"attributes\":{\"children\":[{\"id\":\"639f7661-9c85-4577-90b0-49aa3511c435\",\"type\":\"Row\"}]},\"id\":\"51a51795-e478-45d9-95df-dc18dbdd4f97\",\"type\":\"Column\"},{\"attributes\":{\"callback\":null,\"end\":0.01,\"start\":1020},\"id\":\"fd8b91c2-fda5-45b5-b158-3df4a8b3f5b5\",\"type\":\"Range1d\"},{\"attributes\":{},\"id\":\"5f68628a-c453-4854-a966-78b7d99a6382\",\"type\":\"UnionRenderers\"},{\"attributes\":{},\"id\":\"7707a5ad-cd06-48ef-ab44-cb47ce2ad8e7\",\"type\":\"UnionRenderers\"},{\"attributes\":{\"label\":{\"value\":\"CLIRAD - CRD\"},\"renderers\":[{\"id\":\"5311a567-32cb-4a02-be7c-2408d2280f7a\",\"type\":\"GlyphRenderer\"},{\"id\":\"3ef22e6d-c322-4b8b-9720-93ae29a44016\",\"type\":\"GlyphRenderer\"}]},\"id\":\"80a10b86-687f-46e4-846d-a5e87818c463\",\"type\":\"LegendItem\"},{\"attributes\":{\"data_source\":{\"id\":\"cd261094-ae42-4765-81dc-9840bde05ec7\",\"type\":\"ColumnDataSource\"},\"glyph\":{\"id\":\"7f940c3b-651e-437a-ada5-acfedd74f473\",\"type\":\"Line\"},\"hover_glyph\":null,\"muted_glyph\":null,\"nonselection_glyph\":{\"id\":\"cb6983d0-ba43-409e-9759-61025db2025c\",\"type\":\"Line\"},\"selection_glyph\":null,\"view\":{\"id\":\"8cd344d8-c1f1-4413-a51e-53ee785acf6f\",\"type\":\"CDSView\"}},\"id\":\"36e5fce4-ae39-4895-ad29-859549c936e8\",\"type\":\"GlyphRenderer\"},{\"attributes\":{},\"id\":\"0f695162-d4af-4460-8dc4-bb96d7c9efb1\",\"type\":\"Selection\"},{\"attributes\":{\"children\":[{\"id\":\"3b9e478c-ea94-4ab4-90bd-32d8373ead61\",\"subtype\":\"Figure\",\"type\":\"Plot\"},{\"id\":\"2c4eef54-6446-4453-8a5f-655aaf81007a\",\"subtype\":\"Figure\",\"type\":\"Plot\"},{\"id\":\"4d1f1ffe-4499-4c74-9db6-99b5d67087ac\",\"subtype\":\"Figure\",\"type\":\"Plot\"}]},\"id\":\"639f7661-9c85-4577-90b0-49aa3511c435\",\"type\":\"Row\"},{\"attributes\":{\"callback\":null,\"data\":{\"x\":{\"__ndarray__\":\"4AyZU0s4gT/Is79EoCCDP9xh8orQnYY/KOCY5M7siT/YkNYdLfyMP+SSXl/h4I8/9OrDSmpAkT+UNpRbDH6SPxymI3FwmJM/8NZnC16tlD9Ya7rOIdGVP+S2hQBDA5c/+I6G+Cx0mD/wdcP9GiWaP9QgxHwW15o/aAgvEPDjlz+M9ebNZ5SIP3QKwHlQ1Hq/APYLVbXNnr9glfGtF1ysv3ivUiioNLS/MJN1k3O9ur+AQXJ8/sW/v1DSYjq+B7W/gHZOs0C7g78AhmkpanpqvwCxjGiWX4G/gP6nbnAagT9ARlpsixmgP9gyXPSAP6c/SNQ8LkcbpT/0U0eHuiGZP2BINx1clX8/IIfambY9gb8gDi3Tq9iavxBcJyZW46S/2DrM8tDSpL/Em8rcWxWhv1BIAHE2oZm/gD14UP1BkL+wFD743EuCv1BUFuiHz3W/YJ3U3nopab/ApE4aTL5Xv4D+Dg3X3zy/AEF2pBvdKD+AygABf7lFP4CFGW5Okk8/oDVIkxvdUj9w3LbqmMVUP6Bus+2+p1U/GHfwBNyiVT/MfVkuYChVP6DIWWejS1Q//qObfVg+Uz/DQ3CJkPRRPxgkyp/uilA/KCUI9ToLTj+wwFgGraxKP2B2U40IDUc/oEthc0hJQz8gtE+uxmU+P4ATp1gKiDY/gBWM/lu/LD8AvxfWwmkXPwDmbXTn7AG/gBol9KKSJL9AnDKpNHExv4Bkg7fNdTa/AJlpneZUOr8A/3PVkkc9vwB9hFVN9D+/YFpNN4aJQb8g2C6iKvxCvyAZIk73n0S/\",\"dtype\":\"float64\",\"shape\":[75]},\"y\":{\"__ndarray__\":\"GhExyth1ND/Sv8nbtpRIP2vylNV0PVE/aTum7souWD/At0SJ8fVgPw3Iuahxymc/MSNhhJWvcD/bTfBN02d3P2zb5nxnaoA/CD5h5MAGhz8NmeH1TyaQP+zrCsc9p5Y/LbKd76fGnz/bLW5ISEmmPww9YvTcQq8/JV2OstnstT8Er5Y7M8G+P0c+r3jqkcU/5h99k6ZBzj88bCIzFzjVP4enV8oyxN0//yH99nXg5D8qOpLLf0jtP5kqGJXUifQ/c9cS8kHP/D+/DpwzojQEQIEmwoanVwxA4lgXt9HgE0BSSZ2AJuIbQAMJih9jjiNA5q4l5INuK0AwTKYKRj0zQNv5fmq8/DpAaCJseHrtQkB/+zpwzoxKQM3MzMzMeFJAZmZmZmZqWEAAAAAAAFxeQM3MzMzMJmJAmpmZmZkfZUBmZmZmZhhoQDMzMzMzEWtAAAAAAAAKbkBmZmZmZoFwQM3MzMzM/XFAMzMzMzN6c0CamZmZmfZ0QAAAAAAAc3ZAZmZmZmbvd0DNzMzMzGt5QDMzMzMz6HpAmpmZmZlkfEAAAAAAAOF9QGZmZmZmXX9AZmZmZuZsgECamZmZGSuBQM3MzMxM6YFAAAAAAICngkAzMzMzs2WDQGZmZmbmI4RAmpmZmRnihEDNzMzMTKCFQAAAAACAXoZAMzMzM7Mch0BmZmZm5tqHQJqZmZkZmYhAzczMzExXiUAAAAAAgBWKQDMzMzOz04pAZmZmZuaRi0CamZmZGVCMQM3MzMxMDo1AAAAAAIDMjUAzMzMzs4qOQGZmZmbmSI9A\",\"dtype\":\"float64\",\"shape\":[75]}},\"selected\":{\"id\":\"4c02f9e4-5d63-4d72-91e3-4ccf6eaf681c\",\"type\":\"Selection\"},\"selection_policy\":{\"id\":\"ee8ca1d6-464f-4267-9235-5010bcbac860\",\"type\":\"UnionRenderers\"}},\"id\":\"5551ee11-e318-4b73-94ba-d4d653f69a15\",\"type\":\"ColumnDataSource\"},{\"attributes\":{\"line_alpha\":0.1,\"line_color\":\"#1f77b4\",\"line_dash\":[6],\"line_width\":5,\"x\":{\"field\":\"x\"},\"y\":{\"field\":\"y\"}},\"id\":\"cb6983d0-ba43-409e-9759-61025db2025c\",\"type\":\"Line\"},{\"attributes\":{\"source\":{\"id\":\"5551ee11-e318-4b73-94ba-d4d653f69a15\",\"type\":\"ColumnDataSource\"}},\"id\":\"c3f88470-6ab1-4d8c-a8ef-d67c2d62d736\",\"type\":\"CDSView\"},{\"attributes\":{\"plot\":null,\"text\":\"\"},\"id\":\"f3cee951-f291-4011-a199-709e23bbe589\",\"type\":\"Title\"},{\"attributes\":{\"line_alpha\":0.1,\"line_color\":\"#1f77b4\",\"line_width\":1.5,\"x\":{\"field\":\"x\"},\"y\":{\"field\":\"y\"}},\"id\":\"97b6dbb5-b6c3-4a51-a85e-617471535b23\",\"type\":\"Line\"},{\"attributes\":{},\"id\":\"52a604b4-d5ff-4836-bb22-bce30393cf4a\",\"type\":\"BasicTickFormatter\"},{\"attributes\":{},\"id\":\"d3d18723-3941-4ab2-afc0-3ee55277e62d\",\"type\":\"BasicTickFormatter\"},{\"attributes\":{\"line_alpha\":0.6,\"line_color\":\"#e41a1c\",\"line_dash\":[6],\"line_width\":5,\"x\":{\"field\":\"x\"},\"y\":{\"field\":\"y\"}},\"id\":\"7f940c3b-651e-437a-ada5-acfedd74f473\",\"type\":\"Line\"},{\"attributes\":{},\"id\":\"7db52444-6b21-4ab8-80b2-25679fc0aab1\",\"type\":\"Selection\"},{\"attributes\":{},\"id\":\"fcd19159-4ce0-4676-8f86-2a992094fe33\",\"type\":\"UnionRenderers\"},{\"attributes\":{},\"id\":\"d9a7bb7b-ac22-4986-8d8b-3f860ccfd3d0\",\"type\":\"Selection\"},{\"attributes\":{\"ticker\":null},\"id\":\"edb302e0-739d-4cd1-bf23-28115b5fea37\",\"type\":\"LogTickFormatter\"},{\"attributes\":{},\"id\":\"be825532-a3b1-4618-ab9e-7ae5b82ae06c\",\"type\":\"Selection\"},{\"attributes\":{\"line_color\":\"#4daf4a\",\"line_width\":1.5,\"x\":{\"field\":\"x\"},\"y\":{\"field\":\"y\"}},\"id\":\"84006f7c-1986-45b1-b06b-5a311aed0958\",\"type\":\"Line\"},{\"attributes\":{},\"id\":\"b167e6f6-f634-4c03-9c14-fbb2e0076642\",\"type\":\"UnionRenderers\"},{\"attributes\":{},\"id\":\"9b8ecac5-ad2c-4d20-b015-4ae2519468b8\",\"type\":\"BasicTickFormatter\"},{\"attributes\":{\"callback\":null,\"data\":{\"x\":{\"__ndarray__\":\"/oJPBlb0o78esCxKaTOmv2M98l0DiKq/WxFOboivrr/i63XP3VWxvxG2R4sNP7O/mpeYbt8Rtb8H5LLU8c22v+K4VPG7c7i/UiFoFrIEur8ZxdV1Zoq7v4W171nwBb2/oyLr/B2Cvr9Jl6NsNvu/vzzIwkJzPsC/86KfPjwqvr/3Wq9teuWxv/PrcDzrj6A/8Waqs5x8yT8IDMzpNlHcP3PPX41Y0Og/jsXb7/V68z9niL4WT7j7P3oFs1O95v8/Oq5GdqWl/D9otRvYhfr2PxDbJ5GO/PA/4vNYbd3R5z/7rSFhrbTgPzBjbQD0g9Y/95r1lGLoxj9H7Bj56hqFP8z3QrdNp7u/fkhsNfN9yL+VkeXq6LTQv0W8lgzXFdK/vHloJ5wA0L+VW4OMurXLv6b7MZSwwsm/GyQrXOIKx7/f0EoQZHPCv/XkUHV+QL2/HHvVTr0DuL8BIEpbLCqzvy6fwbP4pa6/8S7k//iMqb9KBg7VhTmlv+jzvuKKOqG/vnWEJ4Klm78Yi+EVgeSVv0MtFzsrs5C/xhpjZB8diL8zb/aDkcl/v+y6sURSkHG/10Er1WHjU78ngvJewMlZP3HzR4FX5XA/St+d1A2Pej8lfAIvkrmBPy36H23X3IU/KlnZNHK6iT9HrF3Ei0aNP2XlVaVGS5A/PwCpTZzckT/HVNv8qE6TP+VXBOMGmpQ/N+tURS3XlT/XmDDKzgOXP92j/zHp+Zc/jhmw/ce2mD+9H+Lfmk2ZP64QWxzD05k/zmdILmJMmj9aAYgyibeaP29SlvYNGZs/\",\"dtype\":\"float64\",\"shape\":[75]},\"y\":{\"__ndarray__\":\"GhExyth1ND/Sv8nbtpRIP2vylNV0PVE/aTum7souWD/At0SJ8fVgPw3Iuahxymc/MSNhhJWvcD/bTfBN02d3P2zb5nxnaoA/CD5h5MAGhz8NmeH1TyaQP+zrCsc9p5Y/LbKd76fGnz/bLW5ISEmmPww9YvTcQq8/JV2OstnstT8Er5Y7M8G+P0c+r3jqkcU/5h99k6ZBzj88bCIzFzjVP4enV8oyxN0//yH99nXg5D8qOpLLf0jtP5kqGJXUifQ/c9cS8kHP/D+/DpwzojQEQIEmwoanVwxA4lgXt9HgE0BSSZ2AJuIbQAMJih9jjiNA5q4l5INuK0AwTKYKRj0zQNv5fmq8/DpAaCJseHrtQkB/+zpwzoxKQM3MzMzMeFJAZmZmZmZqWEAAAAAAAFxeQM3MzMzMJmJAmpmZmZkfZUBmZmZmZhhoQDMzMzMzEWtAAAAAAAAKbkBmZmZmZoFwQM3MzMzM/XFAMzMzMzN6c0CamZmZmfZ0QAAAAAAAc3ZAZmZmZmbvd0DNzMzMzGt5QDMzMzMz6HpAmpmZmZlkfEAAAAAAAOF9QGZmZmZmXX9AZmZmZuZsgECamZmZGSuBQM3MzMxM6YFAAAAAAICngkAzMzMzs2WDQGZmZmbmI4RAmpmZmRnihEDNzMzMTKCFQAAAAACAXoZAMzMzM7Mch0BmZmZm5tqHQJqZmZkZmYhAzczMzExXiUAAAAAAgBWKQDMzMzOz04pAZmZmZuaRi0CamZmZGVCMQM3MzMxMDo1AAAAAAIDMjUAzMzMzs4qOQGZmZmbmSI9A\",\"dtype\":\"float64\",\"shape\":[75]}},\"selected\":{\"id\":\"7db52444-6b21-4ab8-80b2-25679fc0aab1\",\"type\":\"Selection\"},\"selection_policy\":{\"id\":\"fcd19159-4ce0-4676-8f86-2a992094fe33\",\"type\":\"UnionRenderers\"}},\"id\":\"ecaad31b-6815-41e8-9b55-d22cbfe0fe3c\",\"type\":\"ColumnDataSource\"},{\"attributes\":{\"plot\":null,\"text\":\"\"},\"id\":\"c45fd117-993f-4549-a39d-97587bc0ee2e\",\"type\":\"Title\"},{\"attributes\":{},\"id\":\"f2ae8567-b19e-423b-9a45-c98df3f41073\",\"type\":\"UnionRenderers\"},{\"attributes\":{\"plot\":null,\"text\":\"\"},\"id\":\"096b847e-368a-4315-98c4-812e6fc5896c\",\"type\":\"Title\"},{\"attributes\":{\"tools\":[{\"id\":\"6c1ce2d9-7595-4b07-9f11-4a7cfa7cc56e\",\"type\":\"PanTool\"},{\"id\":\"364fcfc0-45b8-44ae-be7f-df0af36b59f9\",\"type\":\"WheelZoomTool\"},{\"id\":\"e0414c04-590c-4c68-a01a-b1d5d8f99ab0\",\"type\":\"BoxZoomTool\"},{\"id\":\"1590fae9-4878-43d2-814b-58ae48de8352\",\"type\":\"SaveTool\"},{\"id\":\"47a3eb88-8689-43e9-9d5d-3b59cb37a03a\",\"type\":\"ResetTool\"},{\"id\":\"57e37449-6527-4542-938d-a9baf31ff7af\",\"type\":\"HelpTool\"},{\"id\":\"e711d92d-5d84-4d0c-994b-630eeb2f4552\",\"type\":\"PanTool\"},{\"id\":\"7e6d5f3d-e3af-4082-ba72-712409c50a6b\",\"type\":\"WheelZoomTool\"},{\"id\":\"bd2970bb-e779-4eed-85fb-69876f7c2501\",\"type\":\"BoxZoomTool\"},{\"id\":\"f2e3131e-a3b3-4f84-ae5b-eacb00559f05\",\"type\":\"SaveTool\"},{\"id\":\"d0d64b35-0dcb-48a6-9d1e-4f5720f1ba94\",\"type\":\"ResetTool\"},{\"id\":\"b2077157-9c23-4c2e-a336-197bbdda80f6\",\"type\":\"HelpTool\"},{\"id\":\"3e822bca-64c5-4e87-a751-6e755d99e717\",\"type\":\"PanTool\"},{\"id\":\"fa6a8aa2-4978-416d-8e11-61d84f56c945\",\"type\":\"WheelZoomTool\"},{\"id\":\"7696da28-8cd5-473f-9958-6c3006725c30\",\"type\":\"BoxZoomTool\"},{\"id\":\"5108e24a-ad8c-4733-ba5f-831dfc3a6024\",\"type\":\"SaveTool\"},{\"id\":\"00cc0505-9168-4724-b1fa-c390e4fd4d95\",\"type\":\"ResetTool\"},{\"id\":\"34911067-61aa-41d0-9926-62f11bfbcd6c\",\"type\":\"HelpTool\"}]},\"id\":\"8deb9f20-8dc8-496b-ab79-31e087a25319\",\"type\":\"ProxyToolbar\"},{\"attributes\":{},\"id\":\"4c02f9e4-5d63-4d72-91e3-4ccf6eaf681c\",\"type\":\"Selection\"},{\"attributes\":{\"toolbar\":{\"id\":\"8deb9f20-8dc8-496b-ab79-31e087a25319\",\"type\":\"ProxyToolbar\"},\"toolbar_location\":\"above\"},\"id\":\"90e6c9ab-4905-4d2e-90bb-f8d7e8f9b4ca\",\"type\":\"ToolbarBox\"},{\"attributes\":{\"fill_alpha\":{\"value\":0.1},\"fill_color\":{\"value\":\"#1f77b4\"},\"line_alpha\":{\"value\":0.1},\"line_color\":{\"value\":\"#1f77b4\"},\"x\":{\"field\":\"x\"},\"y\":{\"field\":\"y\"}},\"id\":\"fa17240f-e71a-4af5-b9b2-6ab6f017fb7a\",\"type\":\"Circle\"},{\"attributes\":{\"above\":[{\"id\":\"ef681b48-2b32-49a6-bb46-476b6e665d6c\",\"type\":\"Legend\"}],\"below\":[{\"id\":\"f791e3b2-e279-4d7f-9c1e-3ae990f8c579\",\"type\":\"LinearAxis\"}],\"left\":[{\"id\":\"0c1f47c8-55e9-4e3c-9c73-d1a588943ebb\",\"type\":\"LogAxis\"}],\"plot_width\":300,\"renderers\":[{\"id\":\"f791e3b2-e279-4d7f-9c1e-3ae990f8c579\",\"type\":\"LinearAxis\"},{\"id\":\"bf67a59b-af10-49a3-b43d-c0542f4dc796\",\"type\":\"Grid\"},{\"id\":\"0c1f47c8-55e9-4e3c-9c73-d1a588943ebb\",\"type\":\"LogAxis\"},{\"id\":\"3c49515b-72ed-484c-9b3f-46706c734d34\",\"type\":\"Grid\"},{\"id\":\"7b1a35d5-00b4-414f-9d7f-07bda73a4f82\",\"type\":\"BoxAnnotation\"},{\"id\":\"52d5d82e-9aef-47a7-b702-941799092797\",\"type\":\"GlyphRenderer\"},{\"id\":\"f1f3cfef-87b3-46ba-90cb-8f8df24a7f83\",\"type\":\"GlyphRenderer\"},{\"id\":\"caee3595-4a42-4735-97a0-1748b0bf3659\",\"type\":\"GlyphRenderer\"},{\"id\":\"ef681b48-2b32-49a6-bb46-476b6e665d6c\",\"type\":\"Legend\"}],\"title\":{\"id\":\"c45fd117-993f-4549-a39d-97587bc0ee2e\",\"type\":\"Title\"},\"toolbar\":{\"id\":\"afada0c0-07b2-4b57-ad19-b59a785c1380\",\"type\":\"Toolbar\"},\"toolbar_location\":null,\"x_range\":{\"id\":\"79296d87-e7c8-4525-8d50-bf23da4a5d6e\",\"type\":\"Range1d\"},\"x_scale\":{\"id\":\"12e7878c-c5c5-41df-98a0-7dfa3aa4d3f7\",\"type\":\"LinearScale\"},\"y_range\":{\"id\":\"2e8e97d5-a434-4116-81e6-3462fd78fc4e\",\"type\":\"Range1d\"},\"y_scale\":{\"id\":\"fbb894eb-9ef9-4273-ab49-aab7971360c6\",\"type\":\"LogScale\"}},\"id\":\"2c4eef54-6446-4453-8a5f-655aaf81007a\",\"subtype\":\"Figure\",\"type\":\"Plot\"},{\"attributes\":{},\"id\":\"bf7fc3cd-67bf-4610-84ad-6f4de9ad08cc\",\"type\":\"Selection\"},{\"attributes\":{\"source\":{\"id\":\"6dd19d59-a9d8-44c1-ba62-bae815dd9599\",\"type\":\"ColumnDataSource\"}},\"id\":\"fe2e437d-b579-4acb-b8b6-3ba2b6478282\",\"type\":\"CDSView\"},{\"attributes\":{\"children\":[{\"id\":\"90e6c9ab-4905-4d2e-90bb-f8d7e8f9b4ca\",\"type\":\"ToolbarBox\"},{\"id\":\"51a51795-e478-45d9-95df-dc18dbdd4f97\",\"type\":\"Column\"}]},\"id\":\"f38dbbfe-636f-41fc-ba1a-005fb24ea112\",\"type\":\"Column\"},{\"attributes\":{\"callback\":null,\"data\":{\"x\":{\"__ndarray__\":\"/oJPBlb0o78esCxKaTOmv2M98l0DiKq/WxFOboivrr/i63XP3VWxvxG2R4sNP7O/mpeYbt8Rtb8H5LLU8c22v+K4VPG7c7i/UiFoFrIEur8ZxdV1Zoq7v4W171nwBb2/oyLr/B2Cvr9Jl6NsNvu/vzzIwkJzPsC/86KfPjwqvr/3Wq9teuWxv/PrcDzrj6A/8Waqs5x8yT8IDMzpNlHcP3PPX41Y0Og/jsXb7/V68z9niL4WT7j7P3oFs1O95v8/Oq5GdqWl/D9otRvYhfr2PxDbJ5GO/PA/4vNYbd3R5z/7rSFhrbTgPzBjbQD0g9Y/95r1lGLoxj9H7Bj56hqFP8z3QrdNp7u/fkhsNfN9yL+VkeXq6LTQv0W8lgzXFdK/vHloJ5wA0L+VW4OMurXLv6b7MZSwwsm/GyQrXOIKx7/f0EoQZHPCv/XkUHV+QL2/HHvVTr0DuL8BIEpbLCqzvy6fwbP4pa6/8S7k//iMqb9KBg7VhTmlv+jzvuKKOqG/vnWEJ4Klm78Yi+EVgeSVv0MtFzsrs5C/xhpjZB8diL8zb/aDkcl/v+y6sURSkHG/10Er1WHjU78ngvJewMlZP3HzR4FX5XA/St+d1A2Pej8lfAIvkrmBPy36H23X3IU/KlnZNHK6iT9HrF3Ei0aNP2XlVaVGS5A/PwCpTZzckT/HVNv8qE6TP+VXBOMGmpQ/N+tURS3XlT/XmDDKzgOXP92j/zHp+Zc/jhmw/ce2mD+9H+Lfmk2ZP64QWxzD05k/zmdILmJMmj9aAYgyibeaP29SlvYNGZs/\",\"dtype\":\"float64\",\"shape\":[75]},\"y\":{\"__ndarray__\":\"GhExyth1ND/Sv8nbtpRIP2vylNV0PVE/aTum7souWD/At0SJ8fVgPw3Iuahxymc/MSNhhJWvcD/bTfBN02d3P2zb5nxnaoA/CD5h5MAGhz8NmeH1TyaQP+zrCsc9p5Y/LbKd76fGnz/bLW5ISEmmPww9YvTcQq8/JV2OstnstT8Er5Y7M8G+P0c+r3jqkcU/5h99k6ZBzj88bCIzFzjVP4enV8oyxN0//yH99nXg5D8qOpLLf0jtP5kqGJXUifQ/c9cS8kHP/D+/DpwzojQEQIEmwoanVwxA4lgXt9HgE0BSSZ2AJuIbQAMJih9jjiNA5q4l5INuK0AwTKYKRj0zQNv5fmq8/DpAaCJseHrtQkB/+zpwzoxKQM3MzMzMeFJAZmZmZmZqWEAAAAAAAFxeQM3MzMzMJmJAmpmZmZkfZUBmZmZmZhhoQDMzMzMzEWtAAAAAAAAKbkBmZmZmZoFwQM3MzMzM/XFAMzMzMzN6c0CamZmZmfZ0QAAAAAAAc3ZAZmZmZmbvd0DNzMzMzGt5QDMzMzMz6HpAmpmZmZlkfEAAAAAAAOF9QGZmZmZmXX9AZmZmZuZsgECamZmZGSuBQM3MzMxM6YFAAAAAAICngkAzMzMzs2WDQGZmZmbmI4RAmpmZmRnihEDNzMzMTKCFQAAAAACAXoZAMzMzM7Mch0BmZmZm5tqHQJqZmZkZmYhAzczMzExXiUAAAAAAgBWKQDMzMzOz04pAZmZmZuaRi0CamZmZGVCMQM3MzMxMDo1AAAAAAIDMjUAzMzMzs4qOQGZmZmbmSI9A\",\"dtype\":\"float64\",\"shape\":[75]}},\"selected\":{\"id\":\"d9a7bb7b-ac22-4986-8d8b-3f860ccfd3d0\",\"type\":\"Selection\"},\"selection_policy\":{\"id\":\"7707a5ad-cd06-48ef-ab44-cb47ce2ad8e7\",\"type\":\"UnionRenderers\"}},\"id\":\"6dd19d59-a9d8-44c1-ba62-bae815dd9599\",\"type\":\"ColumnDataSource\"},{\"attributes\":{},\"id\":\"ee8ca1d6-464f-4267-9235-5010bcbac860\",\"type\":\"UnionRenderers\"},{\"attributes\":{\"above\":[{\"id\":\"4523c140-ac1d-457e-ad9c-13a525e0627d\",\"type\":\"Legend\"}],\"below\":[{\"id\":\"1b811517-79a3-4983-b678-01462fa51fb1\",\"type\":\"LinearAxis\"}],\"left\":[{\"id\":\"b18d91ce-b074-46d4-85fa-6da557c2a9b8\",\"type\":\"LinearAxis\"}],\"plot_width\":300,\"renderers\":[{\"id\":\"1b811517-79a3-4983-b678-01462fa51fb1\",\"type\":\"LinearAxis\"},{\"id\":\"dbf4235c-08d1-4809-9ce2-a27d5d4cae64\",\"type\":\"Grid\"},{\"id\":\"b18d91ce-b074-46d4-85fa-6da557c2a9b8\",\"type\":\"LinearAxis\"},{\"id\":\"9e8f652a-da97-4fc9-87cf-a0cadb8c8aaa\",\"type\":\"Grid\"},{\"id\":\"95c5c71c-e68c-409c-854c-abf9ab392b07\",\"type\":\"BoxAnnotation\"},{\"id\":\"36e5fce4-ae39-4895-ad29-859549c936e8\",\"type\":\"GlyphRenderer\"},{\"id\":\"bd2befd9-39a5-4632-94a8-c59753283487\",\"type\":\"GlyphRenderer\"},{\"id\":\"17ec2889-49a3-4133-a560-68ac272c49bc\",\"type\":\"GlyphRenderer\"},{\"id\":\"4523c140-ac1d-457e-ad9c-13a525e0627d\",\"type\":\"Legend\"}],\"title\":{\"id\":\"f3cee951-f291-4011-a199-709e23bbe589\",\"type\":\"Title\"},\"toolbar\":{\"id\":\"4bce734e-9cd2-403b-906c-07a9214a59ce\",\"type\":\"Toolbar\"},\"toolbar_location\":null,\"x_range\":{\"id\":\"7419519a-0def-47fd-bc8e-7743f272d0ab\",\"type\":\"Range1d\"},\"x_scale\":{\"id\":\"90139f1d-2158-420b-89ff-d4339f9d1f4b\",\"type\":\"LinearScale\"},\"y_range\":{\"id\":\"fd8b91c2-fda5-45b5-b158-3df4a8b3f5b5\",\"type\":\"Range1d\"},\"y_scale\":{\"id\":\"f4e48f9f-1b7a-4aec-bdbb-d21388e09a04\",\"type\":\"LinearScale\"}},\"id\":\"3b9e478c-ea94-4ab4-90bd-32d8373ead61\",\"subtype\":\"Figure\",\"type\":\"Plot\"},{\"attributes\":{\"active_drag\":\"auto\",\"active_inspect\":\"auto\",\"active_scroll\":\"auto\",\"active_tap\":\"auto\",\"tools\":[{\"id\":\"6c1ce2d9-7595-4b07-9f11-4a7cfa7cc56e\",\"type\":\"PanTool\"},{\"id\":\"364fcfc0-45b8-44ae-be7f-df0af36b59f9\",\"type\":\"WheelZoomTool\"},{\"id\":\"e0414c04-590c-4c68-a01a-b1d5d8f99ab0\",\"type\":\"BoxZoomTool\"},{\"id\":\"1590fae9-4878-43d2-814b-58ae48de8352\",\"type\":\"SaveTool\"},{\"id\":\"47a3eb88-8689-43e9-9d5d-3b59cb37a03a\",\"type\":\"ResetTool\"},{\"id\":\"57e37449-6527-4542-938d-a9baf31ff7af\",\"type\":\"HelpTool\"}]},\"id\":\"4bce734e-9cd2-403b-906c-07a9214a59ce\",\"type\":\"Toolbar\"},{\"attributes\":{\"fill_alpha\":{\"value\":0.7},\"fill_color\":{\"value\":\"#4daf4a\"},\"line_alpha\":{\"value\":0.7},\"line_color\":{\"value\":\"#4daf4a\"},\"x\":{\"field\":\"x\"},\"y\":{\"field\":\"y\"}},\"id\":\"437dd97d-00dd-4409-b316-5719d91abc6c\",\"type\":\"Circle\"},{\"attributes\":{\"label\":{\"value\":\"CLIRAD\"},\"renderers\":[{\"id\":\"36e5fce4-ae39-4895-ad29-859549c936e8\",\"type\":\"GlyphRenderer\"}]},\"id\":\"8950abbd-63ae-4d0d-a2ee-8d0db196267c\",\"type\":\"LegendItem\"},{\"attributes\":{\"source\":{\"id\":\"cd261094-ae42-4765-81dc-9840bde05ec7\",\"type\":\"ColumnDataSource\"}},\"id\":\"8cd344d8-c1f1-4413-a51e-53ee785acf6f\",\"type\":\"CDSView\"}],\"root_ids\":[\"f38dbbfe-636f-41fc-ba1a-005fb24ea112\"]},\"title\":\"Bokeh Application\",\"version\":\"0.12.16\"}};\n",
       "  var render_items = [{\"docid\":\"980158d2-3d92-467d-a530-95f35c362393\",\"elementid\":\"7f70eecf-1a78-4303-8bf9-76f4e130f5c8\",\"modelid\":\"f38dbbfe-636f-41fc-ba1a-005fb24ea112\"}];\n",
       "  root.Bokeh.embed.embed_items_notebook(docs_json, render_items);\n",
       "\n",
       "  }\n",
       "  if (root.Bokeh !== undefined) {\n",
       "    embed_document(root);\n",
       "  } else {\n",
       "    var attempts = 0;\n",
       "    var timer = setInterval(function(root) {\n",
       "      if (root.Bokeh !== undefined) {\n",
       "        embed_document(root);\n",
       "        clearInterval(timer);\n",
       "      }\n",
       "      attempts++;\n",
       "      if (attempts > 100) {\n",
       "        console.log(\"Bokeh: ERROR: Unable to run BokehJS code because BokehJS library is missing\")\n",
       "        clearInterval(timer);\n",
       "      }\n",
       "    }, 10, root)\n",
       "  }\n",
       "})(window);"
      ],
      "application/vnd.bokehjs_exec.v0+json": ""
     },
     "metadata": {
      "application/vnd.bokehjs_exec.v0+json": {
       "id": "f38dbbfe-636f-41fc-ba1a-005fb24ea112"
      }
     },
     "output_type": "display_data"
    },
    {
     "data": {
      "text/markdown": [
       "*FIGURE.* Cooling rates & difference."
      ],
      "text/plain": [
       "<IPython.core.display.Markdown object>"
      ]
     },
     "metadata": {},
     "output_type": "display_data"
    },
    {
     "data": {
      "text/html": [
       "<a id=\"Fluxes._mls.\"></a>"
      ],
      "text/plain": [
       "<IPython.core.display.HTML object>"
      ]
     },
     "metadata": {},
     "output_type": "display_data"
    },
    {
     "data": {
      "text/markdown": [
       "# Fluxes. mls."
      ],
      "text/plain": [
       "<IPython.core.display.Markdown object>"
      ]
     },
     "metadata": {},
     "output_type": "display_data"
    },
    {
     "data": {
      "text/html": [
       "\n",
       "<div class=\"bk-root\">\n",
       "    <div class=\"bk-plotdiv\" id=\"884de82a-ff61-4cba-a717-f96c3732cc1e\"></div>\n",
       "</div>"
      ]
     },
     "metadata": {},
     "output_type": "display_data"
    },
    {
     "data": {
      "application/javascript": [
       "(function(root) {\n",
       "  function embed_document(root) {\n",
       "    \n",
       "  var docs_json = {\"428fc9ad-d8fd-449c-adf4-e6a37bcc8b89\":{\"roots\":{\"references\":[{\"attributes\":{\"source\":{\"id\":\"ca548148-eac2-45d1-bfea-81fceea2ed4b\",\"type\":\"ColumnDataSource\"}},\"id\":\"a1658f36-da8c-4d1c-bee5-139da6c24d51\",\"type\":\"CDSView\"},{\"attributes\":{},\"id\":\"52375ddd-ff10-47f6-ba72-ec4213cefa2a\",\"type\":\"Selection\"},{\"attributes\":{\"plot\":null,\"text\":\"SFC flux. CLIRAD - CRD.\"},\"id\":\"56e550d5-21d0-437e-99bd-8977be0ff2be\",\"type\":\"Title\"},{\"attributes\":{},\"id\":\"4e606289-3104-4db2-bf8d-6f35fef7dab7\",\"type\":\"BasicTickFormatter\"},{\"attributes\":{\"plot\":null,\"text\":\"Atmosphere heating. CLIRAD - CRD.\"},\"id\":\"3ec5dc44-fc42-4860-a149-f59b9e1a1839\",\"type\":\"Title\"},{\"attributes\":{},\"id\":\"a9510dff-fcc4-42ef-a745-13b696b6e7be\",\"type\":\"HelpTool\"},{\"attributes\":{},\"id\":\"206edfc4-3e07-4f7f-9d22-fa0e9c27399e\",\"type\":\"CategoricalScale\"},{\"attributes\":{},\"id\":\"c32725d6-4617-4efc-bdf6-ea50cf84887e\",\"type\":\"LinearScale\"},{\"attributes\":{},\"id\":\"3ddf2a59-d1c7-4671-a070-b3d7bd3a8084\",\"type\":\"ResetTool\"},{\"attributes\":{\"children\":[{\"id\":\"168582a3-1b01-41f2-9b42-97d9216eebc6\",\"type\":\"Row\"}]},\"id\":\"bc3422e7-44b1-4a54-bcca-25588fad6b08\",\"type\":\"Column\"},{\"attributes\":{\"active_drag\":\"auto\",\"active_inspect\":\"auto\",\"active_scroll\":\"auto\",\"active_tap\":\"auto\",\"tools\":[{\"id\":\"f9afa59b-b36a-4ceb-b6fe-3fd9f037d6fd\",\"type\":\"PanTool\"},{\"id\":\"2e3a368a-7d0b-42e3-97ea-be43bbea1a5d\",\"type\":\"WheelZoomTool\"},{\"id\":\"4692eeae-2fbb-4637-8eaf-ca456951cf60\",\"type\":\"BoxZoomTool\"},{\"id\":\"7008e6da-aad9-42e6-9b5c-dbc7b0953831\",\"type\":\"SaveTool\"},{\"id\":\"eac400ad-ac7b-4fee-920e-585092efc703\",\"type\":\"ResetTool\"},{\"id\":\"d348e1d1-2ee6-4842-8fd1-225f8855343f\",\"type\":\"HelpTool\"}]},\"id\":\"5cd5d8c3-d850-42c6-b372-4966fcb1eb72\",\"type\":\"Toolbar\"},{\"attributes\":{},\"id\":\"5a1739a1-786d-489c-8cb8-0e90fe78f345\",\"type\":\"CategoricalScale\"},{\"attributes\":{\"data_source\":{\"id\":\"b54d6fad-f528-4d04-9566-265dc2026a03\",\"type\":\"ColumnDataSource\"},\"glyph\":{\"id\":\"e6a14a75-be6c-480d-b907-4364b5a4666a\",\"type\":\"VBar\"},\"hover_glyph\":null,\"muted_glyph\":null,\"nonselection_glyph\":{\"id\":\"9d7f8943-578b-4752-8fe4-495cfce53264\",\"type\":\"VBar\"},\"selection_glyph\":null,\"view\":{\"id\":\"315fae60-4f9d-4014-95d3-f3848d4c869d\",\"type\":\"CDSView\"}},\"id\":\"0e55a50b-5f15-4b0f-9b40-715bc2f68385\",\"type\":\"GlyphRenderer\"},{\"attributes\":{\"callback\":null},\"id\":\"6ef650b1-1a70-40aa-a57a-6436a8add2a1\",\"type\":\"DataRange1d\"},{\"attributes\":{},\"id\":\"b4266b3a-8f14-481c-be4b-55dbf4eed001\",\"type\":\"SaveTool\"},{\"attributes\":{\"axis_label\":\"flux (W m-2)\",\"formatter\":{\"id\":\"86ad07fb-f484-43bf-9cb5-b2da64741cad\",\"type\":\"BasicTickFormatter\"},\"plot\":{\"id\":\"1e039ceb-cf90-4bd0-8213-276f97cbd389\",\"subtype\":\"Figure\",\"type\":\"Plot\"},\"ticker\":{\"id\":\"f5d8c176-f042-4858-836a-b3e6e986966d\",\"type\":\"BasicTicker\"}},\"id\":\"ea4d9250-800e-4dfb-8ade-8d1cc945bbf8\",\"type\":\"LinearAxis\"},{\"attributes\":{},\"id\":\"9f096909-19e0-4a3e-a175-c891f9a72b4c\",\"type\":\"UnionRenderers\"},{\"attributes\":{\"below\":[{\"id\":\"c8fc2a4a-6dc5-407a-a31a-e3ec758e92ef\",\"type\":\"CategoricalAxis\"}],\"left\":[{\"id\":\"fa11f59b-3b0d-4a57-acf2-23130dccd233\",\"type\":\"LinearAxis\"}],\"plot_height\":300,\"plot_width\":300,\"renderers\":[{\"id\":\"c8fc2a4a-6dc5-407a-a31a-e3ec758e92ef\",\"type\":\"CategoricalAxis\"},{\"id\":\"4a02ee11-ac4c-4249-87c6-84584cceee77\",\"type\":\"Grid\"},{\"id\":\"fa11f59b-3b0d-4a57-acf2-23130dccd233\",\"type\":\"LinearAxis\"},{\"id\":\"32c7e7be-94e3-486c-95bc-77fc5a60cdc1\",\"type\":\"Grid\"},{\"id\":\"d9bf8f9b-354c-4b7f-ae79-0a8cb340d2ae\",\"type\":\"BoxAnnotation\"},{\"id\":\"c4830081-2f8e-4d0f-be3b-0df61138ba56\",\"type\":\"GlyphRenderer\"}],\"title\":{\"id\":\"56e550d5-21d0-437e-99bd-8977be0ff2be\",\"type\":\"Title\"},\"toolbar\":{\"id\":\"b142efbf-071c-4526-80e4-8b39453937cd\",\"type\":\"Toolbar\"},\"toolbar_location\":null,\"x_range\":{\"id\":\"cb854f83-2092-44ab-8b8d-57c698a1f588\",\"type\":\"FactorRange\"},\"x_scale\":{\"id\":\"206edfc4-3e07-4f7f-9d22-fa0e9c27399e\",\"type\":\"CategoricalScale\"},\"y_range\":{\"id\":\"d7afa1b3-d99f-47e2-90d1-41f20d235c9c\",\"type\":\"DataRange1d\"},\"y_scale\":{\"id\":\"7f15bdc6-338e-4491-a122-b4c487690704\",\"type\":\"LinearScale\"}},\"id\":\"54cc25b4-5059-43c6-b387-932012cc6894\",\"subtype\":\"Figure\",\"type\":\"Plot\"},{\"attributes\":{},\"id\":\"f7219c80-10b9-4c20-8939-3ee9c3efded4\",\"type\":\"PanTool\"},{\"attributes\":{\"bottom_units\":\"screen\",\"fill_alpha\":{\"value\":0.5},\"fill_color\":{\"value\":\"lightgrey\"},\"left_units\":\"screen\",\"level\":\"overlay\",\"line_alpha\":{\"value\":1.0},\"line_color\":{\"value\":\"black\"},\"line_dash\":[4,4],\"line_width\":{\"value\":2},\"plot\":null,\"render_mode\":\"css\",\"right_units\":\"screen\",\"top_units\":\"screen\"},\"id\":\"fb7f578f-19b7-4d7b-84f5-bf7f1fd36269\",\"type\":\"BoxAnnotation\"},{\"attributes\":{\"axis_label\":\"spectral band\",\"formatter\":{\"id\":\"1c912389-9525-43f9-b2ef-a82dca43468f\",\"type\":\"CategoricalTickFormatter\"},\"plot\":{\"id\":\"54cc25b4-5059-43c6-b387-932012cc6894\",\"subtype\":\"Figure\",\"type\":\"Plot\"},\"ticker\":{\"id\":\"80ab5fb0-3d31-4ac5-9f04-fbca1b31bed4\",\"type\":\"CategoricalTicker\"}},\"id\":\"c8fc2a4a-6dc5-407a-a31a-e3ec758e92ef\",\"type\":\"CategoricalAxis\"},{\"attributes\":{},\"id\":\"ff2f8dcc-44fa-4764-b59a-6a06bc95622c\",\"type\":\"Selection\"},{\"attributes\":{\"toolbar\":{\"id\":\"ab487752-4800-4676-bfc2-515d0e8c63a8\",\"type\":\"ProxyToolbar\"},\"toolbar_location\":\"above\"},\"id\":\"439f1efd-a32a-4eaf-bcec-f48384d474db\",\"type\":\"ToolbarBox\"},{\"attributes\":{},\"id\":\"af997f23-8b96-40cd-be93-8e5a01af388d\",\"type\":\"ResetTool\"},{\"attributes\":{\"callback\":null,\"data\":{\"band\":[\"7\"],\"flux\":{\"__ndarray__\":\"gBU1mIbh2T8=\",\"dtype\":\"float64\",\"shape\":[1]}},\"selected\":{\"id\":\"52375ddd-ff10-47f6-ba72-ec4213cefa2a\",\"type\":\"Selection\"},\"selection_policy\":{\"id\":\"bbd24055-7387-48ff-8eb5-423d8b4d5259\",\"type\":\"UnionRenderers\"}},\"id\":\"b54d6fad-f528-4d04-9566-265dc2026a03\",\"type\":\"ColumnDataSource\"},{\"attributes\":{},\"id\":\"7d3a56f4-4e2d-4580-af2a-8d8717cd1b5e\",\"type\":\"SaveTool\"},{\"attributes\":{\"callback\":null},\"id\":\"8c9a8ddd-40e1-4ef4-ab3d-0cbb54ec4317\",\"type\":\"DataRange1d\"},{\"attributes\":{},\"id\":\"a4bd985c-7d3c-4daa-ba94-731552173a76\",\"type\":\"BasicTicker\"},{\"attributes\":{\"callback\":null,\"data\":{\"band\":[\"7\"],\"flux\":{\"__ndarray__\":\"wPRpFf2h3T8=\",\"dtype\":\"float64\",\"shape\":[1]}},\"selected\":{\"id\":\"dfd65451-54cb-4671-8112-f2839370239f\",\"type\":\"Selection\"},\"selection_policy\":{\"id\":\"9f096909-19e0-4a3e-a175-c891f9a72b4c\",\"type\":\"UnionRenderers\"}},\"id\":\"f53caf4e-35bf-45f5-94aa-4620382ce120\",\"type\":\"ColumnDataSource\"},{\"attributes\":{\"fill_color\":{\"value\":\"#1f77b4\"},\"line_color\":{\"value\":\"#1f77b4\"},\"top\":{\"field\":\"flux\"},\"width\":{\"value\":0.9},\"x\":{\"field\":\"band\"}},\"id\":\"e6a14a75-be6c-480d-b907-4364b5a4666a\",\"type\":\"VBar\"},{\"attributes\":{\"callback\":null,\"factors\":[\"7\"]},\"id\":\"cb854f83-2092-44ab-8b8d-57c698a1f588\",\"type\":\"FactorRange\"},{\"attributes\":{\"callback\":null,\"data\":{\"band\":[\"7\"],\"flux\":{\"__ndarray__\":\"AIfXmlIDrr8=\",\"dtype\":\"float64\",\"shape\":[1]}},\"selected\":{\"id\":\"ff2f8dcc-44fa-4764-b59a-6a06bc95622c\",\"type\":\"Selection\"},\"selection_policy\":{\"id\":\"770580d5-d831-479f-ac3d-654113c24e2a\",\"type\":\"UnionRenderers\"}},\"id\":\"ca548148-eac2-45d1-bfea-81fceea2ed4b\",\"type\":\"ColumnDataSource\"},{\"attributes\":{\"plot\":{\"id\":\"1e039ceb-cf90-4bd0-8213-276f97cbd389\",\"subtype\":\"Figure\",\"type\":\"Plot\"},\"ticker\":{\"id\":\"1a53ccb3-e2ac-482c-90c9-454017c9ae52\",\"type\":\"CategoricalTicker\"}},\"id\":\"043eb72a-fd79-43d5-9ef4-77ae8f60be00\",\"type\":\"Grid\"},{\"attributes\":{\"below\":[{\"id\":\"9e436888-d65f-4821-8670-437f02094dbe\",\"type\":\"CategoricalAxis\"}],\"left\":[{\"id\":\"37995073-33f7-42fa-bcae-9cf070e2391b\",\"type\":\"LinearAxis\"}],\"plot_height\":300,\"plot_width\":300,\"renderers\":[{\"id\":\"9e436888-d65f-4821-8670-437f02094dbe\",\"type\":\"CategoricalAxis\"},{\"id\":\"3cd733ce-19c7-47f1-a638-c76d6b337187\",\"type\":\"Grid\"},{\"id\":\"37995073-33f7-42fa-bcae-9cf070e2391b\",\"type\":\"LinearAxis\"},{\"id\":\"5eb6ae71-76d4-4ca0-b156-ac6980cb54bf\",\"type\":\"Grid\"},{\"id\":\"92d59e58-5c36-4617-b227-746ec4f694ee\",\"type\":\"BoxAnnotation\"},{\"id\":\"a0aedafb-502a-470e-9211-dd73b4b552e9\",\"type\":\"GlyphRenderer\"}],\"title\":{\"id\":\"3ec5dc44-fc42-4860-a149-f59b9e1a1839\",\"type\":\"Title\"},\"toolbar\":{\"id\":\"5cd5d8c3-d850-42c6-b372-4966fcb1eb72\",\"type\":\"Toolbar\"},\"toolbar_location\":null,\"x_range\":{\"id\":\"7a9e754c-2be9-43a6-94c7-04a9bf1a76dd\",\"type\":\"FactorRange\"},\"x_scale\":{\"id\":\"5a1739a1-786d-489c-8cb8-0e90fe78f345\",\"type\":\"CategoricalScale\"},\"y_range\":{\"id\":\"8c9a8ddd-40e1-4ef4-ab3d-0cbb54ec4317\",\"type\":\"DataRange1d\"},\"y_scale\":{\"id\":\"c32725d6-4617-4efc-bdf6-ea50cf84887e\",\"type\":\"LinearScale\"}},\"id\":\"ec715a61-2dd1-403c-823c-514766af62cf\",\"subtype\":\"Figure\",\"type\":\"Plot\"},{\"attributes\":{},\"id\":\"ff1e4a31-0e35-42dd-bcff-07666be48734\",\"type\":\"PanTool\"},{\"attributes\":{\"dimension\":1,\"plot\":{\"id\":\"54cc25b4-5059-43c6-b387-932012cc6894\",\"subtype\":\"Figure\",\"type\":\"Plot\"},\"ticker\":{\"id\":\"a4bd985c-7d3c-4daa-ba94-731552173a76\",\"type\":\"BasicTicker\"}},\"id\":\"32c7e7be-94e3-486c-95bc-77fc5a60cdc1\",\"type\":\"Grid\"},{\"attributes\":{\"fill_alpha\":{\"value\":0.1},\"fill_color\":{\"value\":\"#1f77b4\"},\"line_alpha\":{\"value\":0.1},\"line_color\":{\"value\":\"#1f77b4\"},\"top\":{\"field\":\"flux\"},\"width\":{\"value\":0.9},\"x\":{\"field\":\"band\"}},\"id\":\"9d7f8943-578b-4752-8fe4-495cfce53264\",\"type\":\"VBar\"},{\"attributes\":{\"fill_color\":{\"value\":\"#1f77b4\"},\"line_color\":{\"value\":\"#1f77b4\"},\"top\":{\"field\":\"flux\"},\"width\":{\"value\":0.9},\"x\":{\"field\":\"band\"}},\"id\":\"ea7c2577-3bf0-4532-a11d-4c4571ecda95\",\"type\":\"VBar\"},{\"attributes\":{},\"id\":\"246029e4-385c-4261-8f7d-0687be3f6dc0\",\"type\":\"CategoricalTickFormatter\"},{\"attributes\":{\"fill_alpha\":{\"value\":0.1},\"fill_color\":{\"value\":\"#1f77b4\"},\"line_alpha\":{\"value\":0.1},\"line_color\":{\"value\":\"#1f77b4\"},\"top\":{\"field\":\"flux\"},\"width\":{\"value\":0.9},\"x\":{\"field\":\"band\"}},\"id\":\"512f8979-c622-40b9-9a77-d3a34f01bfcb\",\"type\":\"VBar\"},{\"attributes\":{},\"id\":\"1c912389-9525-43f9-b2ef-a82dca43468f\",\"type\":\"CategoricalTickFormatter\"},{\"attributes\":{},\"id\":\"f5d8c176-f042-4858-836a-b3e6e986966d\",\"type\":\"BasicTicker\"},{\"attributes\":{\"overlay\":{\"id\":\"fb7f578f-19b7-4d7b-84f5-bf7f1fd36269\",\"type\":\"BoxAnnotation\"}},\"id\":\"609a58e7-a869-462e-b46c-053c6e910e38\",\"type\":\"BoxZoomTool\"},{\"attributes\":{},\"id\":\"1aafd069-dab3-4a36-926e-202eebd9a8a6\",\"type\":\"HelpTool\"},{\"attributes\":{},\"id\":\"7f15bdc6-338e-4491-a122-b4c487690704\",\"type\":\"LinearScale\"},{\"attributes\":{\"axis_label\":\"spectral band\",\"formatter\":{\"id\":\"4905655f-7e1f-4cb8-b69d-513c5f86cfa3\",\"type\":\"CategoricalTickFormatter\"},\"plot\":{\"id\":\"1e039ceb-cf90-4bd0-8213-276f97cbd389\",\"subtype\":\"Figure\",\"type\":\"Plot\"},\"ticker\":{\"id\":\"1a53ccb3-e2ac-482c-90c9-454017c9ae52\",\"type\":\"CategoricalTicker\"}},\"id\":\"1280cb74-44c0-43e4-b79d-d471c5846b34\",\"type\":\"CategoricalAxis\"},{\"attributes\":{\"axis_label\":\"flux (W m-2)\",\"formatter\":{\"id\":\"1f7eebb3-ebf7-4c15-9c91-57ef6a6a9b2e\",\"type\":\"BasicTickFormatter\"},\"plot\":{\"id\":\"54cc25b4-5059-43c6-b387-932012cc6894\",\"subtype\":\"Figure\",\"type\":\"Plot\"},\"ticker\":{\"id\":\"a4bd985c-7d3c-4daa-ba94-731552173a76\",\"type\":\"BasicTicker\"}},\"id\":\"fa11f59b-3b0d-4a57-acf2-23130dccd233\",\"type\":\"LinearAxis\"},{\"attributes\":{\"source\":{\"id\":\"f53caf4e-35bf-45f5-94aa-4620382ce120\",\"type\":\"ColumnDataSource\"}},\"id\":\"e19d93a5-a19c-4bcc-b343-aea555c44201\",\"type\":\"CDSView\"},{\"attributes\":{\"callback\":null,\"factors\":[\"7\"]},\"id\":\"7a9e754c-2be9-43a6-94c7-04a9bf1a76dd\",\"type\":\"FactorRange\"},{\"attributes\":{},\"id\":\"842c7d64-bdac-448e-aa10-55f4b0ac1724\",\"type\":\"WheelZoomTool\"},{\"attributes\":{\"plot\":null,\"text\":\"TOA flux. CLIRAD - CRD.\"},\"id\":\"2861d148-2d29-4122-8c71-ef51dba1bc1c\",\"type\":\"Title\"},{\"attributes\":{},\"id\":\"1a53ccb3-e2ac-482c-90c9-454017c9ae52\",\"type\":\"CategoricalTicker\"},{\"attributes\":{\"tools\":[{\"id\":\"ff1e4a31-0e35-42dd-bcff-07666be48734\",\"type\":\"PanTool\"},{\"id\":\"81b8bdd3-6b6f-48f1-b245-efb438f4064e\",\"type\":\"WheelZoomTool\"},{\"id\":\"609a58e7-a869-462e-b46c-053c6e910e38\",\"type\":\"BoxZoomTool\"},{\"id\":\"7d3a56f4-4e2d-4580-af2a-8d8717cd1b5e\",\"type\":\"SaveTool\"},{\"id\":\"af997f23-8b96-40cd-be93-8e5a01af388d\",\"type\":\"ResetTool\"},{\"id\":\"a9510dff-fcc4-42ef-a745-13b696b6e7be\",\"type\":\"HelpTool\"},{\"id\":\"f7219c80-10b9-4c20-8939-3ee9c3efded4\",\"type\":\"PanTool\"},{\"id\":\"842c7d64-bdac-448e-aa10-55f4b0ac1724\",\"type\":\"WheelZoomTool\"},{\"id\":\"0ef424b3-5f8a-435d-b50b-97d6f3d2d590\",\"type\":\"BoxZoomTool\"},{\"id\":\"b4266b3a-8f14-481c-be4b-55dbf4eed001\",\"type\":\"SaveTool\"},{\"id\":\"3ddf2a59-d1c7-4671-a070-b3d7bd3a8084\",\"type\":\"ResetTool\"},{\"id\":\"1aafd069-dab3-4a36-926e-202eebd9a8a6\",\"type\":\"HelpTool\"},{\"id\":\"f9afa59b-b36a-4ceb-b6fe-3fd9f037d6fd\",\"type\":\"PanTool\"},{\"id\":\"2e3a368a-7d0b-42e3-97ea-be43bbea1a5d\",\"type\":\"WheelZoomTool\"},{\"id\":\"4692eeae-2fbb-4637-8eaf-ca456951cf60\",\"type\":\"BoxZoomTool\"},{\"id\":\"7008e6da-aad9-42e6-9b5c-dbc7b0953831\",\"type\":\"SaveTool\"},{\"id\":\"eac400ad-ac7b-4fee-920e-585092efc703\",\"type\":\"ResetTool\"},{\"id\":\"d348e1d1-2ee6-4842-8fd1-225f8855343f\",\"type\":\"HelpTool\"}]},\"id\":\"ab487752-4800-4676-bfc2-515d0e8c63a8\",\"type\":\"ProxyToolbar\"},{\"attributes\":{},\"id\":\"d348e1d1-2ee6-4842-8fd1-225f8855343f\",\"type\":\"HelpTool\"},{\"attributes\":{},\"id\":\"a4607e05-5e9a-430a-aa9d-ce6ef2efb706\",\"type\":\"CategoricalScale\"},{\"attributes\":{},\"id\":\"770580d5-d831-479f-ac3d-654113c24e2a\",\"type\":\"UnionRenderers\"},{\"attributes\":{},\"id\":\"81b8bdd3-6b6f-48f1-b245-efb438f4064e\",\"type\":\"WheelZoomTool\"},{\"attributes\":{},\"id\":\"7008e6da-aad9-42e6-9b5c-dbc7b0953831\",\"type\":\"SaveTool\"},{\"attributes\":{\"overlay\":{\"id\":\"92d59e58-5c36-4617-b227-746ec4f694ee\",\"type\":\"BoxAnnotation\"}},\"id\":\"4692eeae-2fbb-4637-8eaf-ca456951cf60\",\"type\":\"BoxZoomTool\"},{\"attributes\":{\"active_drag\":\"auto\",\"active_inspect\":\"auto\",\"active_scroll\":\"auto\",\"active_tap\":\"auto\",\"tools\":[{\"id\":\"f7219c80-10b9-4c20-8939-3ee9c3efded4\",\"type\":\"PanTool\"},{\"id\":\"842c7d64-bdac-448e-aa10-55f4b0ac1724\",\"type\":\"WheelZoomTool\"},{\"id\":\"0ef424b3-5f8a-435d-b50b-97d6f3d2d590\",\"type\":\"BoxZoomTool\"},{\"id\":\"b4266b3a-8f14-481c-be4b-55dbf4eed001\",\"type\":\"SaveTool\"},{\"id\":\"3ddf2a59-d1c7-4671-a070-b3d7bd3a8084\",\"type\":\"ResetTool\"},{\"id\":\"1aafd069-dab3-4a36-926e-202eebd9a8a6\",\"type\":\"HelpTool\"}]},\"id\":\"b142efbf-071c-4526-80e4-8b39453937cd\",\"type\":\"Toolbar\"},{\"attributes\":{\"source\":{\"id\":\"b54d6fad-f528-4d04-9566-265dc2026a03\",\"type\":\"ColumnDataSource\"}},\"id\":\"315fae60-4f9d-4014-95d3-f3848d4c869d\",\"type\":\"CDSView\"},{\"attributes\":{},\"id\":\"eac400ad-ac7b-4fee-920e-585092efc703\",\"type\":\"ResetTool\"},{\"attributes\":{\"callback\":null},\"id\":\"d7afa1b3-d99f-47e2-90d1-41f20d235c9c\",\"type\":\"DataRange1d\"},{\"attributes\":{},\"id\":\"dfd65451-54cb-4671-8112-f2839370239f\",\"type\":\"Selection\"},{\"attributes\":{\"data_source\":{\"id\":\"ca548148-eac2-45d1-bfea-81fceea2ed4b\",\"type\":\"ColumnDataSource\"},\"glyph\":{\"id\":\"ea7c2577-3bf0-4532-a11d-4c4571ecda95\",\"type\":\"VBar\"},\"hover_glyph\":null,\"muted_glyph\":null,\"nonselection_glyph\":{\"id\":\"512f8979-c622-40b9-9a77-d3a34f01bfcb\",\"type\":\"VBar\"},\"selection_glyph\":null,\"view\":{\"id\":\"a1658f36-da8c-4d1c-bee5-139da6c24d51\",\"type\":\"CDSView\"}},\"id\":\"c4830081-2f8e-4d0f-be3b-0df61138ba56\",\"type\":\"GlyphRenderer\"},{\"attributes\":{},\"id\":\"2e3a368a-7d0b-42e3-97ea-be43bbea1a5d\",\"type\":\"WheelZoomTool\"},{\"attributes\":{},\"id\":\"bbd24055-7387-48ff-8eb5-423d8b4d5259\",\"type\":\"UnionRenderers\"},{\"attributes\":{},\"id\":\"80ab5fb0-3d31-4ac5-9f04-fbca1b31bed4\",\"type\":\"CategoricalTicker\"},{\"attributes\":{},\"id\":\"257df7ee-836f-42af-a65e-7daa42acd1a9\",\"type\":\"LinearScale\"},{\"attributes\":{\"active_drag\":\"auto\",\"active_inspect\":\"auto\",\"active_scroll\":\"auto\",\"active_tap\":\"auto\",\"tools\":[{\"id\":\"ff1e4a31-0e35-42dd-bcff-07666be48734\",\"type\":\"PanTool\"},{\"id\":\"81b8bdd3-6b6f-48f1-b245-efb438f4064e\",\"type\":\"WheelZoomTool\"},{\"id\":\"609a58e7-a869-462e-b46c-053c6e910e38\",\"type\":\"BoxZoomTool\"},{\"id\":\"7d3a56f4-4e2d-4580-af2a-8d8717cd1b5e\",\"type\":\"SaveTool\"},{\"id\":\"af997f23-8b96-40cd-be93-8e5a01af388d\",\"type\":\"ResetTool\"},{\"id\":\"a9510dff-fcc4-42ef-a745-13b696b6e7be\",\"type\":\"HelpTool\"}]},\"id\":\"f670225d-035d-4374-92ae-3e125bcd70e5\",\"type\":\"Toolbar\"},{\"attributes\":{\"axis_label\":\"flux (W m-2)\",\"formatter\":{\"id\":\"4e606289-3104-4db2-bf8d-6f35fef7dab7\",\"type\":\"BasicTickFormatter\"},\"plot\":{\"id\":\"ec715a61-2dd1-403c-823c-514766af62cf\",\"subtype\":\"Figure\",\"type\":\"Plot\"},\"ticker\":{\"id\":\"22b5445e-26d2-48c6-965e-11c2b3992341\",\"type\":\"BasicTicker\"}},\"id\":\"37995073-33f7-42fa-bcae-9cf070e2391b\",\"type\":\"LinearAxis\"},{\"attributes\":{},\"id\":\"1f7eebb3-ebf7-4c15-9c91-57ef6a6a9b2e\",\"type\":\"BasicTickFormatter\"},{\"attributes\":{},\"id\":\"f9afa59b-b36a-4ceb-b6fe-3fd9f037d6fd\",\"type\":\"PanTool\"},{\"attributes\":{\"data_source\":{\"id\":\"f53caf4e-35bf-45f5-94aa-4620382ce120\",\"type\":\"ColumnDataSource\"},\"glyph\":{\"id\":\"84324925-fe60-469f-83d4-af4bced64e96\",\"type\":\"VBar\"},\"hover_glyph\":null,\"muted_glyph\":null,\"nonselection_glyph\":{\"id\":\"7eb2ce38-ab78-4529-bf5b-c4960958bc6b\",\"type\":\"VBar\"},\"selection_glyph\":null,\"view\":{\"id\":\"e19d93a5-a19c-4bcc-b343-aea555c44201\",\"type\":\"CDSView\"}},\"id\":\"a0aedafb-502a-470e-9211-dd73b4b552e9\",\"type\":\"GlyphRenderer\"},{\"attributes\":{\"overlay\":{\"id\":\"d9bf8f9b-354c-4b7f-ae79-0a8cb340d2ae\",\"type\":\"BoxAnnotation\"}},\"id\":\"0ef424b3-5f8a-435d-b50b-97d6f3d2d590\",\"type\":\"BoxZoomTool\"},{\"attributes\":{\"plot\":{\"id\":\"ec715a61-2dd1-403c-823c-514766af62cf\",\"subtype\":\"Figure\",\"type\":\"Plot\"},\"ticker\":{\"id\":\"5f725504-b8de-4045-a5c1-0645533b10bb\",\"type\":\"CategoricalTicker\"}},\"id\":\"3cd733ce-19c7-47f1-a638-c76d6b337187\",\"type\":\"Grid\"},{\"attributes\":{\"below\":[{\"id\":\"1280cb74-44c0-43e4-b79d-d471c5846b34\",\"type\":\"CategoricalAxis\"}],\"left\":[{\"id\":\"ea4d9250-800e-4dfb-8ade-8d1cc945bbf8\",\"type\":\"LinearAxis\"}],\"plot_height\":300,\"plot_width\":300,\"renderers\":[{\"id\":\"1280cb74-44c0-43e4-b79d-d471c5846b34\",\"type\":\"CategoricalAxis\"},{\"id\":\"043eb72a-fd79-43d5-9ef4-77ae8f60be00\",\"type\":\"Grid\"},{\"id\":\"ea4d9250-800e-4dfb-8ade-8d1cc945bbf8\",\"type\":\"LinearAxis\"},{\"id\":\"5303d0e3-a665-4ea3-b63e-01aa5a1a0f10\",\"type\":\"Grid\"},{\"id\":\"fb7f578f-19b7-4d7b-84f5-bf7f1fd36269\",\"type\":\"BoxAnnotation\"},{\"id\":\"0e55a50b-5f15-4b0f-9b40-715bc2f68385\",\"type\":\"GlyphRenderer\"}],\"title\":{\"id\":\"2861d148-2d29-4122-8c71-ef51dba1bc1c\",\"type\":\"Title\"},\"toolbar\":{\"id\":\"f670225d-035d-4374-92ae-3e125bcd70e5\",\"type\":\"Toolbar\"},\"toolbar_location\":null,\"x_range\":{\"id\":\"7598c287-8745-4e0a-b710-15cc236bf356\",\"type\":\"FactorRange\"},\"x_scale\":{\"id\":\"a4607e05-5e9a-430a-aa9d-ce6ef2efb706\",\"type\":\"CategoricalScale\"},\"y_range\":{\"id\":\"6ef650b1-1a70-40aa-a57a-6436a8add2a1\",\"type\":\"DataRange1d\"},\"y_scale\":{\"id\":\"257df7ee-836f-42af-a65e-7daa42acd1a9\",\"type\":\"LinearScale\"}},\"id\":\"1e039ceb-cf90-4bd0-8213-276f97cbd389\",\"subtype\":\"Figure\",\"type\":\"Plot\"},{\"attributes\":{\"axis_label\":\"spectral band\",\"formatter\":{\"id\":\"246029e4-385c-4261-8f7d-0687be3f6dc0\",\"type\":\"CategoricalTickFormatter\"},\"plot\":{\"id\":\"ec715a61-2dd1-403c-823c-514766af62cf\",\"subtype\":\"Figure\",\"type\":\"Plot\"},\"ticker\":{\"id\":\"5f725504-b8de-4045-a5c1-0645533b10bb\",\"type\":\"CategoricalTicker\"}},\"id\":\"9e436888-d65f-4821-8670-437f02094dbe\",\"type\":\"CategoricalAxis\"},{\"attributes\":{},\"id\":\"5f725504-b8de-4045-a5c1-0645533b10bb\",\"type\":\"CategoricalTicker\"},{\"attributes\":{\"fill_alpha\":{\"value\":0.1},\"fill_color\":{\"value\":\"#1f77b4\"},\"line_alpha\":{\"value\":0.1},\"line_color\":{\"value\":\"#1f77b4\"},\"top\":{\"field\":\"flux\"},\"width\":{\"value\":0.9},\"x\":{\"field\":\"band\"}},\"id\":\"7eb2ce38-ab78-4529-bf5b-c4960958bc6b\",\"type\":\"VBar\"},{\"attributes\":{\"dimension\":1,\"plot\":{\"id\":\"1e039ceb-cf90-4bd0-8213-276f97cbd389\",\"subtype\":\"Figure\",\"type\":\"Plot\"},\"ticker\":{\"id\":\"f5d8c176-f042-4858-836a-b3e6e986966d\",\"type\":\"BasicTicker\"}},\"id\":\"5303d0e3-a665-4ea3-b63e-01aa5a1a0f10\",\"type\":\"Grid\"},{\"attributes\":{\"dimension\":1,\"plot\":{\"id\":\"ec715a61-2dd1-403c-823c-514766af62cf\",\"subtype\":\"Figure\",\"type\":\"Plot\"},\"ticker\":{\"id\":\"22b5445e-26d2-48c6-965e-11c2b3992341\",\"type\":\"BasicTicker\"}},\"id\":\"5eb6ae71-76d4-4ca0-b156-ac6980cb54bf\",\"type\":\"Grid\"},{\"attributes\":{},\"id\":\"4905655f-7e1f-4cb8-b69d-513c5f86cfa3\",\"type\":\"CategoricalTickFormatter\"},{\"attributes\":{\"plot\":{\"id\":\"54cc25b4-5059-43c6-b387-932012cc6894\",\"subtype\":\"Figure\",\"type\":\"Plot\"},\"ticker\":{\"id\":\"80ab5fb0-3d31-4ac5-9f04-fbca1b31bed4\",\"type\":\"CategoricalTicker\"}},\"id\":\"4a02ee11-ac4c-4249-87c6-84584cceee77\",\"type\":\"Grid\"},{\"attributes\":{},\"id\":\"86ad07fb-f484-43bf-9cb5-b2da64741cad\",\"type\":\"BasicTickFormatter\"},{\"attributes\":{},\"id\":\"22b5445e-26d2-48c6-965e-11c2b3992341\",\"type\":\"BasicTicker\"},{\"attributes\":{\"children\":[{\"id\":\"439f1efd-a32a-4eaf-bcec-f48384d474db\",\"type\":\"ToolbarBox\"},{\"id\":\"bc3422e7-44b1-4a54-bcca-25588fad6b08\",\"type\":\"Column\"}]},\"id\":\"c5587d32-948a-4f80-82c7-bb34895e24c9\",\"type\":\"Column\"},{\"attributes\":{\"callback\":null,\"factors\":[\"7\"]},\"id\":\"7598c287-8745-4e0a-b710-15cc236bf356\",\"type\":\"FactorRange\"},{\"attributes\":{\"fill_color\":{\"value\":\"#1f77b4\"},\"line_color\":{\"value\":\"#1f77b4\"},\"top\":{\"field\":\"flux\"},\"width\":{\"value\":0.9},\"x\":{\"field\":\"band\"}},\"id\":\"84324925-fe60-469f-83d4-af4bced64e96\",\"type\":\"VBar\"},{\"attributes\":{\"children\":[{\"id\":\"1e039ceb-cf90-4bd0-8213-276f97cbd389\",\"subtype\":\"Figure\",\"type\":\"Plot\"},{\"id\":\"54cc25b4-5059-43c6-b387-932012cc6894\",\"subtype\":\"Figure\",\"type\":\"Plot\"},{\"id\":\"ec715a61-2dd1-403c-823c-514766af62cf\",\"subtype\":\"Figure\",\"type\":\"Plot\"}]},\"id\":\"168582a3-1b01-41f2-9b42-97d9216eebc6\",\"type\":\"Row\"},{\"attributes\":{\"bottom_units\":\"screen\",\"fill_alpha\":{\"value\":0.5},\"fill_color\":{\"value\":\"lightgrey\"},\"left_units\":\"screen\",\"level\":\"overlay\",\"line_alpha\":{\"value\":1.0},\"line_color\":{\"value\":\"black\"},\"line_dash\":[4,4],\"line_width\":{\"value\":2},\"plot\":null,\"render_mode\":\"css\",\"right_units\":\"screen\",\"top_units\":\"screen\"},\"id\":\"92d59e58-5c36-4617-b227-746ec4f694ee\",\"type\":\"BoxAnnotation\"},{\"attributes\":{\"bottom_units\":\"screen\",\"fill_alpha\":{\"value\":0.5},\"fill_color\":{\"value\":\"lightgrey\"},\"left_units\":\"screen\",\"level\":\"overlay\",\"line_alpha\":{\"value\":1.0},\"line_color\":{\"value\":\"black\"},\"line_dash\":[4,4],\"line_width\":{\"value\":2},\"plot\":null,\"render_mode\":\"css\",\"right_units\":\"screen\",\"top_units\":\"screen\"},\"id\":\"d9bf8f9b-354c-4b7f-ae79-0a8cb340d2ae\",\"type\":\"BoxAnnotation\"}],\"root_ids\":[\"c5587d32-948a-4f80-82c7-bb34895e24c9\"]},\"title\":\"Bokeh Application\",\"version\":\"0.12.16\"}};\n",
       "  var render_items = [{\"docid\":\"428fc9ad-d8fd-449c-adf4-e6a37bcc8b89\",\"elementid\":\"884de82a-ff61-4cba-a717-f96c3732cc1e\",\"modelid\":\"c5587d32-948a-4f80-82c7-bb34895e24c9\"}];\n",
       "  root.Bokeh.embed.embed_items_notebook(docs_json, render_items);\n",
       "\n",
       "  }\n",
       "  if (root.Bokeh !== undefined) {\n",
       "    embed_document(root);\n",
       "  } else {\n",
       "    var attempts = 0;\n",
       "    var timer = setInterval(function(root) {\n",
       "      if (root.Bokeh !== undefined) {\n",
       "        embed_document(root);\n",
       "        clearInterval(timer);\n",
       "      }\n",
       "      attempts++;\n",
       "      if (attempts > 100) {\n",
       "        console.log(\"Bokeh: ERROR: Unable to run BokehJS code because BokehJS library is missing\")\n",
       "        clearInterval(timer);\n",
       "      }\n",
       "    }, 10, root)\n",
       "  }\n",
       "})(window);"
      ],
      "application/vnd.bokehjs_exec.v0+json": ""
     },
     "metadata": {
      "application/vnd.bokehjs_exec.v0+json": {
       "id": "c5587d32-948a-4f80-82c7-bb34895e24c9"
      }
     },
     "output_type": "display_data"
    },
    {
     "data": {
      "text/markdown": [
       "*FIGURE.* Difference between CLIRAD and CRD in TOA, SFC and net atmosphere flux, in each spectral band."
      ],
      "text/plain": [
       "<IPython.core.display.Markdown object>"
      ]
     },
     "metadata": {},
     "output_type": "display_data"
    },
    {
     "data": {
      "text/html": [
       "<div>\n",
       "<style scoped>\n",
       "    .dataframe tbody tr th:only-of-type {\n",
       "        vertical-align: middle;\n",
       "    }\n",
       "\n",
       "    .dataframe tbody tr th {\n",
       "        vertical-align: top;\n",
       "    }\n",
       "\n",
       "    .dataframe thead th {\n",
       "        text-align: right;\n",
       "    }\n",
       "</style>\n",
       "<table border=\"1\" class=\"dataframe\">\n",
       "  <thead>\n",
       "    <tr style=\"text-align: right;\">\n",
       "      <th></th>\n",
       "      <th>OLR flux</th>\n",
       "      <th>SFC flux</th>\n",
       "      <th>ATM heating</th>\n",
       "    </tr>\n",
       "    <tr>\n",
       "      <th>Sum over bands</th>\n",
       "      <th></th>\n",
       "      <th></th>\n",
       "      <th></th>\n",
       "    </tr>\n",
       "  </thead>\n",
       "  <tbody>\n",
       "    <tr>\n",
       "      <th>CLIRAD - CRD</th>\n",
       "      <td>0.40</td>\n",
       "      <td>-0.06</td>\n",
       "      <td>0.46</td>\n",
       "    </tr>\n",
       "    <tr>\n",
       "      <th>CRD</th>\n",
       "      <td>-23.05</td>\n",
       "      <td>4.35</td>\n",
       "      <td>3.96</td>\n",
       "    </tr>\n",
       "  </tbody>\n",
       "</table>\n",
       "</div>"
      ],
      "text/plain": [
       "                OLR flux  SFC flux  ATM heating\n",
       "Sum over bands                                 \n",
       "CLIRAD - CRD        0.40     -0.06         0.46\n",
       "CRD               -23.05      4.35         3.96"
      ]
     },
     "metadata": {},
     "output_type": "display_data"
    },
    {
     "data": {
      "text/markdown": [
       "*TABLE.* Difference between CLIRAD and CRD in TOA, SFC and net atmosphere flux, over all spectral bands. CRD's TOA, SFC and net atmosphere flux, over all spectral bands."
      ],
      "text/plain": [
       "<IPython.core.display.Markdown object>"
      ]
     },
     "metadata": {},
     "output_type": "display_data"
    },
    {
     "data": {
      "text/html": [
       "<a id=\"Cooling_rates._saw.\"></a>"
      ],
      "text/plain": [
       "<IPython.core.display.HTML object>"
      ]
     },
     "metadata": {},
     "output_type": "display_data"
    },
    {
     "data": {
      "text/markdown": [
       "# Cooling rates. saw."
      ],
      "text/plain": [
       "<IPython.core.display.Markdown object>"
      ]
     },
     "metadata": {},
     "output_type": "display_data"
    },
    {
     "data": {
      "text/html": [
       "\n",
       "<div class=\"bk-root\">\n",
       "    <div class=\"bk-plotdiv\" id=\"6ab339bb-648e-4a23-801c-205cbd63bff2\"></div>\n",
       "</div>"
      ]
     },
     "metadata": {},
     "output_type": "display_data"
    },
    {
     "data": {
      "application/javascript": [
       "(function(root) {\n",
       "  function embed_document(root) {\n",
       "    \n",
       "  var docs_json = {\"4250b096-e435-426b-bfa2-3109d68a768e\":{\"roots\":{\"references\":[{\"attributes\":{},\"id\":\"04b2781d-1097-4a7e-82c0-2319f0bbc5c0\",\"type\":\"SaveTool\"},{\"attributes\":{},\"id\":\"acd494f0-7d6d-4401-8c08-5ba107701daf\",\"type\":\"UnionRenderers\"},{\"attributes\":{\"line_alpha\":0.6,\"line_color\":\"#e41a1c\",\"line_dash\":[6],\"line_width\":5,\"x\":{\"field\":\"x\"},\"y\":{\"field\":\"y\"}},\"id\":\"548527d9-debc-4e1d-a6c7-e4869a4eff11\",\"type\":\"Line\"},{\"attributes\":{},\"id\":\"576ce767-7db5-42ca-89eb-a58cae33c5d8\",\"type\":\"Selection\"},{\"attributes\":{},\"id\":\"dde62ff7-ca45-46ea-a3d6-8799947d7758\",\"type\":\"PanTool\"},{\"attributes\":{\"dimension\":1,\"plot\":{\"id\":\"d43b0303-3d2b-4535-ae99-b13bb4c90dac\",\"subtype\":\"Figure\",\"type\":\"Plot\"},\"ticker\":{\"id\":\"2c7edb5e-adba-4bfe-8446-3d4cf6b263c0\",\"type\":\"BasicTicker\"}},\"id\":\"914d9102-8580-4502-8c59-540aa0577770\",\"type\":\"Grid\"},{\"attributes\":{\"fill_alpha\":{\"value\":0.1},\"fill_color\":{\"value\":\"#1f77b4\"},\"line_alpha\":{\"value\":0.1},\"line_color\":{\"value\":\"#1f77b4\"},\"x\":{\"field\":\"x\"},\"y\":{\"field\":\"y\"}},\"id\":\"083002d2-9009-40cb-8711-69693e0835fb\",\"type\":\"Circle\"},{\"attributes\":{},\"id\":\"a27497be-43af-44af-bee6-baa0377a89e3\",\"type\":\"Selection\"},{\"attributes\":{\"callback\":null,\"data\":{\"x\":{\"__ndarray__\":\"5MFnAn3WkL/q6NRvCFCRv6BD1NUBNpC/JoTjOShPh7/JQYYf7rtpv55klnn+P4M/S2j981Vumz9Ybu1tyHmpP6H8hIMiNbQ/lb6MOTp0vT+JvnEIC13EP/rCOysvGss/VOkfK5WD0T8x7FE05qDXPyAc/XlkfeA/KzaDSwkZ5j/Xx56YUFzsP/hfnRmzm/E/FNPgEXBD9T8awFsgQRH5P2WNeohGt/w/Sqwxjctd/j/Q+M/krLn6P4G+iBEdffQ/tPbrDFvs7T9HnW/6adLkP9tVQIgB3ts/6FSux68l0z8iGGrBSaLNP6j3XL/D4cY/DQQazxR4wD+oubSY2n2zP3aL9UqvhqU/nBHBEvHRmD8+hBBPOPRkv88RfWdJuqK/c6/0I0Njsb+NhoTWYG23vzwl7zVn8bu/bfgG9PxIv79hh7UhlDG+v2ah3+/+Fbq/7RbrlV4Ntr8icyM0m6qxv5fAblc2E6u/xWqv4q0jo78EBJ50VbKZv7voCDkfOZK/XecoBbLeib8oZvIKmk+Bv+I5L5vmAHW/F7QO25bAZr/iFaxkDBtRv/Cp+gjq6D4/54VErbPZXT9YwCjrNcloP70HTMVdtHA/zq6rZChwdD+lZI4tWKZ3PxhUmfZNWXo/kH1onfN+fD+Wzy9XsUJ+P3x/Jc4Iun8/oXMDMcxqgD9FUNlSftCAP3teTNe1NIE/gAR+A8WegT/iZkE8HOqBP0KFR3ze/YE/NaWsTw/LgT+Mnxbg00WBP7l1l8GhgoA/258NdeZCfz920CSuNW19P0CJHXbwpns/\",\"dtype\":\"float64\",\"shape\":[75]},\"y\":{\"__ndarray__\":\"GhExyth1ND/Sv8nbtpRIP2vylNV0PVE/aTum7souWD/At0SJ8fVgPw3Iuahxymc/MSNhhJWvcD/bTfBN02d3P2zb5nxnaoA/CD5h5MAGhz8NmeH1TyaQP+zrCsc9p5Y/LbKd76fGnz/bLW5ISEmmPww9YvTcQq8/JV2OstnstT8Er5Y7M8G+P0c+r3jqkcU/5h99k6ZBzj88bCIzFzjVP4enV8oyxN0//yH99nXg5D8qOpLLf0jtP5kqGJXUifQ/c9cS8kHP/D+/DpwzojQEQIEmwoanVwxA4lgXt9HgE0BSSZ2AJuIbQAMJih9jjiNA5q4l5INuK0AwTKYKRj0zQNv5fmq8/DpAaCJseHrtQkB/+zpwzoxKQM3MzMzMeFJAZmZmZmZqWEAAAAAAAFxeQM3MzMzMJmJAmpmZmZkfZUBmZmZmZhhoQDMzMzMzEWtAAAAAAAAKbkBmZmZmZoFwQM3MzMzM/XFAMzMzMzN6c0CamZmZmfZ0QAAAAAAAc3ZAZmZmZmbvd0DNzMzMzGt5QDMzMzMz6HpAmpmZmZlkfEAAAAAAAOF9QGZmZmZmXX9AZmZmZuZsgECamZmZGSuBQM3MzMxM6YFAAAAAAICngkAzMzMzs2WDQGZmZmbmI4RAmpmZmRnihEDNzMzMTKCFQAAAAACAXoZAMzMzM7Mch0BmZmZm5tqHQJqZmZkZmYhAzczMzExXiUAAAAAAgBWKQDMzMzOz04pAZmZmZuaRi0CamZmZGVCMQM3MzMxMDo1AAAAAAIDMjUAzMzMzs4qOQGZmZmbmSI9A\",\"dtype\":\"float64\",\"shape\":[75]}},\"selected\":{\"id\":\"1324acd7-55cd-43ef-bb2d-2a861e069ca6\",\"type\":\"Selection\"},\"selection_policy\":{\"id\":\"d6441733-2908-47e8-9585-d69962aaf1df\",\"type\":\"UnionRenderers\"}},\"id\":\"89cf9127-54a5-4341-ae20-75873989a685\",\"type\":\"ColumnDataSource\"},{\"attributes\":{},\"id\":\"640f7ea5-c5e8-4093-91a4-49bc327b404c\",\"type\":\"UnionRenderers\"},{\"attributes\":{},\"id\":\"d6441733-2908-47e8-9585-d69962aaf1df\",\"type\":\"UnionRenderers\"},{\"attributes\":{},\"id\":\"cfa73742-00da-4c73-aa39-83b9cde590e3\",\"type\":\"Selection\"},{\"attributes\":{\"ticker\":null},\"id\":\"1dda7cd1-01f3-46e5-86c3-61a3ff4cad45\",\"type\":\"LogTickFormatter\"},{\"attributes\":{\"label\":{\"value\":\"CLIRAD - CRD\"},\"renderers\":[{\"id\":\"7f788a2a-d65e-455a-9753-d7d35ad6f03d\",\"type\":\"GlyphRenderer\"},{\"id\":\"6002ae9b-5e3f-4d25-94b4-20e9c3952dd2\",\"type\":\"GlyphRenderer\"}]},\"id\":\"e0a56fb8-3520-4f76-b555-387fea365423\",\"type\":\"LegendItem\"},{\"attributes\":{\"bottom_units\":\"screen\",\"fill_alpha\":{\"value\":0.5},\"fill_color\":{\"value\":\"lightgrey\"},\"left_units\":\"screen\",\"level\":\"overlay\",\"line_alpha\":{\"value\":1.0},\"line_color\":{\"value\":\"black\"},\"line_dash\":[4,4],\"line_width\":{\"value\":2},\"plot\":null,\"render_mode\":\"css\",\"right_units\":\"screen\",\"top_units\":\"screen\"},\"id\":\"50d19262-57cd-4747-b8de-c30288d77fce\",\"type\":\"BoxAnnotation\"},{\"attributes\":{},\"id\":\"b8f01e2d-8c26-495d-a097-1105aace1690\",\"type\":\"BasicTickFormatter\"},{\"attributes\":{\"axis_label\":\"cooling rate [K/day]\",\"formatter\":{\"id\":\"2db9c33c-783f-4e30-9caf-1f102363e1fa\",\"type\":\"BasicTickFormatter\"},\"plot\":{\"id\":\"d43b0303-3d2b-4535-ae99-b13bb4c90dac\",\"subtype\":\"Figure\",\"type\":\"Plot\"},\"ticker\":{\"id\":\"cda94565-21f8-4ebd-93d8-a7c1f4510740\",\"type\":\"BasicTicker\"}},\"id\":\"bdcf2589-2303-41b9-b002-14d9a72fe3c6\",\"type\":\"LinearAxis\"},{\"attributes\":{},\"id\":\"babf3a84-5b53-4c95-ad58-20d73324b5ca\",\"type\":\"BasicTickFormatter\"},{\"attributes\":{},\"id\":\"1b450ba3-37a6-440f-b7e4-b8992bee6b07\",\"type\":\"LinearScale\"},{\"attributes\":{},\"id\":\"259042a0-5865-4558-a67c-7a924f6896a5\",\"type\":\"UnionRenderers\"},{\"attributes\":{},\"id\":\"edef06b7-1c71-43b4-9fcc-5087b11a2744\",\"type\":\"Selection\"},{\"attributes\":{\"plot\":null,\"text\":\"\"},\"id\":\"a00b2d19-4735-4de7-8209-d8a0d5b97f3b\",\"type\":\"Title\"},{\"attributes\":{\"tools\":[{\"id\":\"8a8e78d8-f97f-4fd2-8d31-001c66522067\",\"type\":\"PanTool\"},{\"id\":\"3b94c6cd-ce07-47e7-8c61-1e055233b1bf\",\"type\":\"WheelZoomTool\"},{\"id\":\"422b7547-ba48-4812-969c-74f2f6fd2115\",\"type\":\"BoxZoomTool\"},{\"id\":\"8acebe7a-b429-402b-9b49-a28b7f13c758\",\"type\":\"SaveTool\"},{\"id\":\"adc98c10-c54a-4883-a64b-a3249602337f\",\"type\":\"ResetTool\"},{\"id\":\"1726c515-dc43-4483-ad8a-3d8d7ccd2e4e\",\"type\":\"HelpTool\"},{\"id\":\"07ed3b47-70e1-4c40-acef-fdc513b9c255\",\"type\":\"PanTool\"},{\"id\":\"04c9f413-2708-4e49-b606-fab2e85fa698\",\"type\":\"WheelZoomTool\"},{\"id\":\"d3907d36-dfd2-4ed9-ac3d-b44c1695f764\",\"type\":\"BoxZoomTool\"},{\"id\":\"4b4ba81c-914a-41ee-80f9-b447a6d84adf\",\"type\":\"SaveTool\"},{\"id\":\"e6161187-62a8-415e-8b73-bf97ef4a8a35\",\"type\":\"ResetTool\"},{\"id\":\"d70a11ac-585c-4962-8129-602500772431\",\"type\":\"HelpTool\"},{\"id\":\"dde62ff7-ca45-46ea-a3d6-8799947d7758\",\"type\":\"PanTool\"},{\"id\":\"92c176fd-a8d8-47ee-8916-becb897693cb\",\"type\":\"WheelZoomTool\"},{\"id\":\"a1a69359-7cf5-46cb-9d6d-08dad1a17a8b\",\"type\":\"BoxZoomTool\"},{\"id\":\"04b2781d-1097-4a7e-82c0-2319f0bbc5c0\",\"type\":\"SaveTool\"},{\"id\":\"fd8cb243-cc4e-4e36-b84f-418318417f6c\",\"type\":\"ResetTool\"},{\"id\":\"ecb8177e-0dd1-4d43-ae2e-e540b5c59930\",\"type\":\"HelpTool\"}]},\"id\":\"5903d3a2-a80e-4f1b-8ced-8535310197de\",\"type\":\"ProxyToolbar\"},{\"attributes\":{\"plot\":null,\"text\":\"\"},\"id\":\"5147eed1-5414-4c1b-95f9-7cac3371affb\",\"type\":\"Title\"},{\"attributes\":{\"ticker\":null},\"id\":\"f0b276d6-e418-48ab-aa8b-64e006bab815\",\"type\":\"LogTickFormatter\"},{\"attributes\":{\"callback\":null,\"end\":1.9872840546,\"start\":-0.1430935146},\"id\":\"2481867a-2a4a-45eb-93d4-b0adffb4a2ad\",\"type\":\"Range1d\"},{\"attributes\":{},\"id\":\"e69b1579-4b1f-4ae4-a52b-a7da2171de9a\",\"type\":\"Selection\"},{\"attributes\":{},\"id\":\"6341288c-ef2f-4e47-b093-621acb05a084\",\"type\":\"UnionRenderers\"},{\"attributes\":{\"plot\":null,\"text\":\"\"},\"id\":\"56a4dc9b-7c91-4c32-b4ed-eb6601e865f6\",\"type\":\"Title\"},{\"attributes\":{\"toolbar\":{\"id\":\"5903d3a2-a80e-4f1b-8ced-8535310197de\",\"type\":\"ProxyToolbar\"},\"toolbar_location\":\"above\"},\"id\":\"8139bb07-e5eb-4fae-ab74-d078600efddb\",\"type\":\"ToolbarBox\"},{\"attributes\":{\"source\":{\"id\":\"89cf9127-54a5-4341-ae20-75873989a685\",\"type\":\"ColumnDataSource\"}},\"id\":\"ef301123-f33c-423b-a755-7b6bd67a935d\",\"type\":\"CDSView\"},{\"attributes\":{\"source\":{\"id\":\"1b183dfb-70d2-4b00-bd1f-64ad240bd9ac\",\"type\":\"ColumnDataSource\"}},\"id\":\"c8c52865-0e1c-4165-b319-5911d4c8a912\",\"type\":\"CDSView\"},{\"attributes\":{},\"id\":\"82dbf76a-b28d-44a8-a1ea-7d1607028637\",\"type\":\"Selection\"},{\"attributes\":{},\"id\":\"d70a11ac-585c-4962-8129-602500772431\",\"type\":\"HelpTool\"},{\"attributes\":{\"source\":{\"id\":\"c47129e5-cd8b-48b4-989f-97a848ffd0a2\",\"type\":\"ColumnDataSource\"}},\"id\":\"956da64d-2b82-46d2-9440-d9d03d6a7420\",\"type\":\"CDSView\"},{\"attributes\":{\"children\":[{\"id\":\"8139bb07-e5eb-4fae-ab74-d078600efddb\",\"type\":\"ToolbarBox\"},{\"id\":\"8a059571-fc8e-4258-bdbe-9509e7894701\",\"type\":\"Column\"}]},\"id\":\"9a206754-2447-4de4-9095-186e55a770fb\",\"type\":\"Column\"},{\"attributes\":{},\"id\":\"e6161187-62a8-415e-8b73-bf97ef4a8a35\",\"type\":\"ResetTool\"},{\"attributes\":{\"callback\":null,\"data\":{\"x\":{\"__ndarray__\":\"QGJqNIFuiD+G2FG295KKPz7OteEQp4w/cJ/bnxkxjD9zJv8xuuWIPzar4EQGZYI/BCxK7Wt7cD/Q5yNWaulmvxiTZkJ/4Ie/hM/mo1INl79oJ95cVyeiv7iqoeRA1am/dBbVpto8sb+4F15qAEa3v/C18z/xSr+/2Dgw8/xtw79EMR5KWSvGvxDLVeLwOMe/MLU5KSc1xr8otRfRdkzDv7BY1HFG3r+/4LPQKSOJsb+Ax6E0ipuJPwBURDzIoaA/gInX7ZothD8AxLePYNNoP+A2XnC88YQ/4BA06kqZjj/QdkuTzpeVP5i+1xAcl5U/zMnV2doMkT8w9qgJ7HuGP2DfXpe2v3g/AKhasvqIVz+8tbyRgQxZv1AmBjJPb3W/iMawFuEehr+IBsDdMfOPv4T7NgHc5ZK/WPr5hCZok794cxo3b3uOv5h5tSC3BoK/gBtbTpB4bL8A/f6amm5DP/CnDSHDN2g/EJLCCw5ubD+YOhJ53AFoP9igxLRdC2Q/uF9dZu/EYD9Qjqv5QN5aPwziSMY/KlQ/6BUCQUirTT/SR2gll4FGP3Ml2iL/H0A/vKAbaQt5ND8ASTDeGakjPwBI1GrU89E+wJROgsBMIL+gNzbcu1Yvv3BhfnSPyDW/EGK+eb8DO7/g2LB4w1w/v4DteocpekG/YNF3LsHmQr+wBQehIwVEv/BA2Z14CkW/cPTkkEcGRr/AowUy+7hGv3DIJHE/8Ua/IF3FNxMZRr/gPIFqo0VEvxDq0mLYuEG/MOFjvuhcPb+Q/Iw8ZX03v8CVd4JynDG/\",\"dtype\":\"float64\",\"shape\":[75]},\"y\":{\"__ndarray__\":\"GhExyth1ND/Sv8nbtpRIP2vylNV0PVE/aTum7souWD/At0SJ8fVgPw3Iuahxymc/MSNhhJWvcD/bTfBN02d3P2zb5nxnaoA/CD5h5MAGhz8NmeH1TyaQP+zrCsc9p5Y/LbKd76fGnz/bLW5ISEmmPww9YvTcQq8/JV2OstnstT8Er5Y7M8G+P0c+r3jqkcU/5h99k6ZBzj88bCIzFzjVP4enV8oyxN0//yH99nXg5D8qOpLLf0jtP5kqGJXUifQ/c9cS8kHP/D+/DpwzojQEQIEmwoanVwxA4lgXt9HgE0BSSZ2AJuIbQAMJih9jjiNA5q4l5INuK0AwTKYKRj0zQNv5fmq8/DpAaCJseHrtQkB/+zpwzoxKQM3MzMzMeFJAZmZmZmZqWEAAAAAAAFxeQM3MzMzMJmJAmpmZmZkfZUBmZmZmZhhoQDMzMzMzEWtAAAAAAAAKbkBmZmZmZoFwQM3MzMzM/XFAMzMzMzN6c0CamZmZmfZ0QAAAAAAAc3ZAZmZmZmbvd0DNzMzMzGt5QDMzMzMz6HpAmpmZmZlkfEAAAAAAAOF9QGZmZmZmXX9AZmZmZuZsgECamZmZGSuBQM3MzMxM6YFAAAAAAICngkAzMzMzs2WDQGZmZmbmI4RAmpmZmRnihEDNzMzMTKCFQAAAAACAXoZAMzMzM7Mch0BmZmZm5tqHQJqZmZkZmYhAzczMzExXiUAAAAAAgBWKQDMzMzOz04pAZmZmZuaRi0CamZmZGVCMQM3MzMxMDo1AAAAAAIDMjUAzMzMzs4qOQGZmZmbmSI9A\",\"dtype\":\"float64\",\"shape\":[75]}},\"selected\":{\"id\":\"edef06b7-1c71-43b4-9fcc-5087b11a2744\",\"type\":\"Selection\"},\"selection_policy\":{\"id\":\"d7230c13-bc32-4739-ba1b-bf052d50fa83\",\"type\":\"UnionRenderers\"}},\"id\":\"e3ec59a6-61b8-4e70-b8d9-c6082e2cb25c\",\"type\":\"ColumnDataSource\"},{\"attributes\":{},\"id\":\"d7230c13-bc32-4739-ba1b-bf052d50fa83\",\"type\":\"UnionRenderers\"},{\"attributes\":{\"overlay\":{\"id\":\"0c8c0c3b-ce57-43d1-a24b-7fb6d878836b\",\"type\":\"BoxAnnotation\"}},\"id\":\"d3907d36-dfd2-4ed9-ac3d-b44c1695f764\",\"type\":\"BoxZoomTool\"},{\"attributes\":{},\"id\":\"4b4ba81c-914a-41ee-80f9-b447a6d84adf\",\"type\":\"SaveTool\"},{\"attributes\":{},\"id\":\"07ed3b47-70e1-4c40-acef-fdc513b9c255\",\"type\":\"PanTool\"},{\"attributes\":{\"data_source\":{\"id\":\"262e3191-5367-4a91-a2e7-4ad0a3cc55ba\",\"type\":\"ColumnDataSource\"},\"glyph\":{\"id\":\"6fd3a0c0-e630-4097-b037-d8c48a71cb24\",\"type\":\"Line\"},\"hover_glyph\":null,\"muted_glyph\":null,\"nonselection_glyph\":{\"id\":\"ae15fe7d-598e-4ab6-a206-24a35d475086\",\"type\":\"Line\"},\"selection_glyph\":null,\"view\":{\"id\":\"80beb4b0-dee2-433c-a549-8b1b2a796b64\",\"type\":\"CDSView\"}},\"id\":\"9d64ab18-bf77-43e3-a3aa-ef82e0e73990\",\"type\":\"GlyphRenderer\"},{\"attributes\":{},\"id\":\"cda94565-21f8-4ebd-93d8-a7c1f4510740\",\"type\":\"BasicTicker\"},{\"attributes\":{},\"id\":\"04c9f413-2708-4e49-b606-fab2e85fa698\",\"type\":\"WheelZoomTool\"},{\"attributes\":{\"source\":{\"id\":\"e3ec59a6-61b8-4e70-b8d9-c6082e2cb25c\",\"type\":\"ColumnDataSource\"}},\"id\":\"07ec158f-accf-4df9-8bab-12c1c4aecffa\",\"type\":\"CDSView\"},{\"attributes\":{\"bottom_units\":\"screen\",\"fill_alpha\":{\"value\":0.5},\"fill_color\":{\"value\":\"lightgrey\"},\"left_units\":\"screen\",\"level\":\"overlay\",\"line_alpha\":{\"value\":1.0},\"line_color\":{\"value\":\"black\"},\"line_dash\":[4,4],\"line_width\":{\"value\":2},\"plot\":null,\"render_mode\":\"css\",\"right_units\":\"screen\",\"top_units\":\"screen\"},\"id\":\"0c8c0c3b-ce57-43d1-a24b-7fb6d878836b\",\"type\":\"BoxAnnotation\"},{\"attributes\":{\"line_alpha\":0.1,\"line_color\":\"#1f77b4\",\"line_width\":1.5,\"x\":{\"field\":\"x\"},\"y\":{\"field\":\"y\"}},\"id\":\"57b2c7f2-9257-431e-867c-0b3c3f87fcd2\",\"type\":\"Line\"},{\"attributes\":{\"line_alpha\":0.1,\"line_color\":\"#1f77b4\",\"line_dash\":[6],\"line_width\":5,\"x\":{\"field\":\"x\"},\"y\":{\"field\":\"y\"}},\"id\":\"cbfeb3d2-1121-498b-ad48-c3c712436d6a\",\"type\":\"Line\"},{\"attributes\":{},\"id\":\"92c176fd-a8d8-47ee-8916-becb897693cb\",\"type\":\"WheelZoomTool\"},{\"attributes\":{\"num_minor_ticks\":10},\"id\":\"179005e7-859f-4806-bd10-4dc53d0e83a7\",\"type\":\"LogTicker\"},{\"attributes\":{\"source\":{\"id\":\"262e3191-5367-4a91-a2e7-4ad0a3cc55ba\",\"type\":\"ColumnDataSource\"}},\"id\":\"80beb4b0-dee2-433c-a549-8b1b2a796b64\",\"type\":\"CDSView\"},{\"attributes\":{\"dimension\":1,\"plot\":{\"id\":\"f3610e9b-1397-49c5-b905-f7f50f680e55\",\"subtype\":\"Figure\",\"type\":\"Plot\"},\"ticker\":{\"id\":\"179005e7-859f-4806-bd10-4dc53d0e83a7\",\"type\":\"LogTicker\"}},\"id\":\"eeaccd95-a874-4a66-8205-d77a760bed01\",\"type\":\"Grid\"},{\"attributes\":{\"items\":[{\"id\":\"830c391a-9038-4bb9-b1c3-5181e71612cc\",\"type\":\"LegendItem\"},{\"id\":\"f1dcca3d-415b-47d8-9ba1-266f430232e6\",\"type\":\"LegendItem\"}],\"label_text_font_size\":{\"value\":\"8pt\"},\"location\":\"top_center\",\"orientation\":\"horizontal\",\"plot\":{\"id\":\"d43b0303-3d2b-4535-ae99-b13bb4c90dac\",\"subtype\":\"Figure\",\"type\":\"Plot\"}},\"id\":\"b06fbdce-4f6d-4bab-93d8-40de1afb931b\",\"type\":\"Legend\"},{\"attributes\":{\"items\":[{\"id\":\"f5b0fa18-2b11-4242-ae2d-04a9c95be18d\",\"type\":\"LegendItem\"},{\"id\":\"1793af19-24fb-468d-aedd-57b69d52b824\",\"type\":\"LegendItem\"}],\"label_text_font_size\":{\"value\":\"8pt\"},\"location\":\"top_center\",\"orientation\":\"horizontal\",\"plot\":{\"id\":\"f3610e9b-1397-49c5-b905-f7f50f680e55\",\"subtype\":\"Figure\",\"type\":\"Plot\"}},\"id\":\"2337d724-9424-4d7b-b695-1850cdf4ff6c\",\"type\":\"Legend\"},{\"attributes\":{\"data_source\":{\"id\":\"c47129e5-cd8b-48b4-989f-97a848ffd0a2\",\"type\":\"ColumnDataSource\"},\"glyph\":{\"id\":\"a1475e75-0f76-4279-ba34-4ddc79819317\",\"type\":\"Circle\"},\"hover_glyph\":null,\"muted_glyph\":null,\"nonselection_glyph\":{\"id\":\"9348a2b9-ca0e-4547-ad0e-2db39ef2ffd0\",\"type\":\"Circle\"},\"selection_glyph\":null,\"view\":{\"id\":\"956da64d-2b82-46d2-9440-d9d03d6a7420\",\"type\":\"CDSView\"}},\"id\":\"7a77c745-5b1d-437a-a54b-bbb00ad16804\",\"type\":\"GlyphRenderer\"},{\"attributes\":{},\"id\":\"fdc30418-1a63-465e-be26-05d2a9fb216a\",\"type\":\"BasicTicker\"},{\"attributes\":{\"axis_label\":\"pressure [mb]\",\"formatter\":{\"id\":\"ba12d963-8453-4f60-aa6e-6e9d724e7647\",\"type\":\"BasicTickFormatter\"},\"plot\":{\"id\":\"d43b0303-3d2b-4535-ae99-b13bb4c90dac\",\"subtype\":\"Figure\",\"type\":\"Plot\"},\"ticker\":{\"id\":\"2c7edb5e-adba-4bfe-8446-3d4cf6b263c0\",\"type\":\"BasicTicker\"}},\"id\":\"c2441215-5628-4542-b40f-45f6406d7e3d\",\"type\":\"LinearAxis\"},{\"attributes\":{},\"id\":\"b6d68eec-11d7-42b5-b109-8ffb6586ec44\",\"type\":\"LogScale\"},{\"attributes\":{\"callback\":null,\"data\":{\"x\":{\"__ndarray__\":\"BPOcnL0Nnb8t1f1KhJmev78qr0aKiZ6/y5Hf7CDAmb/ltuC5tVSPv/gst5YGXzs/St2q+HpPlz/VrE8TX+iqPwTP0WsyMbc/OzlDccebwT9jSKnf4ObIP9QWMrK/x9A/8S7V1MvS1T8fculOZnLdP96S+6HCZuQ/YURPiIj06j8UKpN1k/PwP1oZ6DXRgvQ/ugkI9xQK+D+/tn76z3r7P/DSl+8qtf4/iLfOv112/z9BtWbQdYb6P+Gbps8O+PM/jpg0oaSb7T+D5d+ZlrnkPyRkvaRzNts/YbRccOUw0j9IqQDvT+/KP9X/QT3gLsQ/p5W+5/KsvD/imn8XXa6wP4qvCXi4bqI/HGebZ2FZlz/AUmQM79tQvwVNPIFfDKC/RC09As4+rb+8hcya+m6zv1tmoTXwN7e/13nIUvNuur/yONI6JmK6vzPyyAso1be/ET54E5optb8ccVlpeNGxvxabf4mylqy/5pNrw47qpL9XS8ADkbKcv9Z8oe+KupS/Sz/A3u0Pjr/y1ycqYquEv2VywYx2C3q/kTlP62grbr/LOWD311tcv2YPmstDcfW+uJ390nC7WD/Iu0VNpI5nP6tSMdDgr3A/dCO+aI7ydD9iFnAMDqF4Py864e3WtXs/sWMElS8vfj+Sbl3HPhyAP5Zuiv+m9IA/t/DqQziZgT+gwOmM0BCCP4ryKWFdhYI/x1OMfCn/gj8ewWHvq1WDP8nRWXPybIM/B/sog6Asgz9as74WLoqCP1qkxEcvnoE/9+55gFqMgD8/oO0BDOV+P5wCRZ63wHw/\",\"dtype\":\"float64\",\"shape\":[75]},\"y\":{\"__ndarray__\":\"GhExyth1ND/Sv8nbtpRIP2vylNV0PVE/aTum7souWD/At0SJ8fVgPw3Iuahxymc/MSNhhJWvcD/bTfBN02d3P2zb5nxnaoA/CD5h5MAGhz8NmeH1TyaQP+zrCsc9p5Y/LbKd76fGnz/bLW5ISEmmPww9YvTcQq8/JV2OstnstT8Er5Y7M8G+P0c+r3jqkcU/5h99k6ZBzj88bCIzFzjVP4enV8oyxN0//yH99nXg5D8qOpLLf0jtP5kqGJXUifQ/c9cS8kHP/D+/DpwzojQEQIEmwoanVwxA4lgXt9HgE0BSSZ2AJuIbQAMJih9jjiNA5q4l5INuK0AwTKYKRj0zQNv5fmq8/DpAaCJseHrtQkB/+zpwzoxKQM3MzMzMeFJAZmZmZmZqWEAAAAAAAFxeQM3MzMzMJmJAmpmZmZkfZUBmZmZmZhhoQDMzMzMzEWtAAAAAAAAKbkBmZmZmZoFwQM3MzMzM/XFAMzMzMzN6c0CamZmZmfZ0QAAAAAAAc3ZAZmZmZmbvd0DNzMzMzGt5QDMzMzMz6HpAmpmZmZlkfEAAAAAAAOF9QGZmZmZmXX9AZmZmZuZsgECamZmZGSuBQM3MzMxM6YFAAAAAAICngkAzMzMzs2WDQGZmZmbmI4RAmpmZmRnihEDNzMzMTKCFQAAAAACAXoZAMzMzM7Mch0BmZmZm5tqHQJqZmZkZmYhAzczMzExXiUAAAAAAgBWKQDMzMzOz04pAZmZmZuaRi0CamZmZGVCMQM3MzMxMDo1AAAAAAIDMjUAzMzMzs4qOQGZmZmbmSI9A\",\"dtype\":\"float64\",\"shape\":[75]}},\"selected\":{\"id\":\"e69b1579-4b1f-4ae4-a52b-a7da2171de9a\",\"type\":\"Selection\"},\"selection_policy\":{\"id\":\"169d75de-36bc-4ce1-898a-0f6843b2125f\",\"type\":\"UnionRenderers\"}},\"id\":\"262e3191-5367-4a91-a2e7-4ad0a3cc55ba\",\"type\":\"ColumnDataSource\"},{\"attributes\":{\"plot\":{\"id\":\"d43b0303-3d2b-4535-ae99-b13bb4c90dac\",\"subtype\":\"Figure\",\"type\":\"Plot\"},\"ticker\":{\"id\":\"cda94565-21f8-4ebd-93d8-a7c1f4510740\",\"type\":\"BasicTicker\"}},\"id\":\"a6e22e41-557f-41dc-8c52-8ae102815d04\",\"type\":\"Grid\"},{\"attributes\":{\"axis_label\":\"pressure [mb]\",\"formatter\":{\"id\":\"1dda7cd1-01f3-46e5-86c3-61a3ff4cad45\",\"type\":\"LogTickFormatter\"},\"plot\":{\"id\":\"f3610e9b-1397-49c5-b905-f7f50f680e55\",\"subtype\":\"Figure\",\"type\":\"Plot\"},\"ticker\":{\"id\":\"179005e7-859f-4806-bd10-4dc53d0e83a7\",\"type\":\"LogTicker\"}},\"id\":\"5f4b5218-f2a6-4d6f-b5d5-d26314923626\",\"type\":\"LogAxis\"},{\"attributes\":{\"data_source\":{\"id\":\"89cf9127-54a5-4341-ae20-75873989a685\",\"type\":\"ColumnDataSource\"},\"glyph\":{\"id\":\"548527d9-debc-4e1d-a6c7-e4869a4eff11\",\"type\":\"Line\"},\"hover_glyph\":null,\"muted_glyph\":null,\"nonselection_glyph\":{\"id\":\"cbfeb3d2-1121-498b-ad48-c3c712436d6a\",\"type\":\"Line\"},\"selection_glyph\":null,\"view\":{\"id\":\"ef301123-f33c-423b-a755-7b6bd67a935d\",\"type\":\"CDSView\"}},\"id\":\"cb630cbe-19cf-459c-96f1-f5a1d6331770\",\"type\":\"GlyphRenderer\"},{\"attributes\":{\"callback\":null,\"end\":0.010802069838,\"start\":-0.123524386038},\"id\":\"df463f45-a562-4e28-8039-9295073bce35\",\"type\":\"Range1d\"},{\"attributes\":{\"line_alpha\":0.8,\"line_color\":\"#984ea3\",\"line_width\":1.5,\"x\":{\"field\":\"x\"},\"y\":{\"field\":\"y\"}},\"id\":\"99e30bc8-3b4f-4596-a780-17e832f23a77\",\"type\":\"Line\"},{\"attributes\":{},\"id\":\"1a2d0f9f-49dd-43b2-834e-dd62f122bd48\",\"type\":\"LinearScale\"},{\"attributes\":{\"active_drag\":\"auto\",\"active_inspect\":\"auto\",\"active_scroll\":\"auto\",\"active_tap\":\"auto\",\"tools\":[{\"id\":\"8a8e78d8-f97f-4fd2-8d31-001c66522067\",\"type\":\"PanTool\"},{\"id\":\"3b94c6cd-ce07-47e7-8c61-1e055233b1bf\",\"type\":\"WheelZoomTool\"},{\"id\":\"422b7547-ba48-4812-969c-74f2f6fd2115\",\"type\":\"BoxZoomTool\"},{\"id\":\"8acebe7a-b429-402b-9b49-a28b7f13c758\",\"type\":\"SaveTool\"},{\"id\":\"adc98c10-c54a-4883-a64b-a3249602337f\",\"type\":\"ResetTool\"},{\"id\":\"1726c515-dc43-4483-ad8a-3d8d7ccd2e4e\",\"type\":\"HelpTool\"}]},\"id\":\"427130c1-46b3-40ff-a3ca-c9fa6cb5bc68\",\"type\":\"Toolbar\"},{\"attributes\":{\"callback\":null,\"end\":0.01,\"start\":1020},\"id\":\"d0d1c624-0529-46cf-b30e-df5af50c7004\",\"type\":\"Range1d\"},{\"attributes\":{\"children\":[{\"id\":\"d43b0303-3d2b-4535-ae99-b13bb4c90dac\",\"subtype\":\"Figure\",\"type\":\"Plot\"},{\"id\":\"f3610e9b-1397-49c5-b905-f7f50f680e55\",\"subtype\":\"Figure\",\"type\":\"Plot\"},{\"id\":\"149c821a-2150-467f-959e-63ed504f434b\",\"subtype\":\"Figure\",\"type\":\"Plot\"}]},\"id\":\"cdcf4ce7-6c94-44a0-80ec-cfeacff801b6\",\"type\":\"Row\"},{\"attributes\":{},\"id\":\"80679e83-231a-41ae-a241-6cfda4c88623\",\"type\":\"LinearScale\"},{\"attributes\":{\"data_source\":{\"id\":\"1b183dfb-70d2-4b00-bd1f-64ad240bd9ac\",\"type\":\"ColumnDataSource\"},\"glyph\":{\"id\":\"4fb97ded-4697-4c3f-885e-c9a2e5b517f5\",\"type\":\"Circle\"},\"hover_glyph\":null,\"muted_glyph\":null,\"nonselection_glyph\":{\"id\":\"083002d2-9009-40cb-8711-69693e0835fb\",\"type\":\"Circle\"},\"selection_glyph\":null,\"view\":{\"id\":\"c8c52865-0e1c-4165-b319-5911d4c8a912\",\"type\":\"CDSView\"}},\"id\":\"7f788a2a-d65e-455a-9753-d7d35ad6f03d\",\"type\":\"GlyphRenderer\"},{\"attributes\":{},\"id\":\"2c7edb5e-adba-4bfe-8446-3d4cf6b263c0\",\"type\":\"BasicTicker\"},{\"attributes\":{\"callback\":null,\"data\":{\"x\":{\"__ndarray__\":\"5MFnAn3WkL/q6NRvCFCRv6BD1NUBNpC/JoTjOShPh7/JQYYf7rtpv55klnn+P4M/S2j981Vumz9Ybu1tyHmpP6H8hIMiNbQ/lb6MOTp0vT+JvnEIC13EP/rCOysvGss/VOkfK5WD0T8x7FE05qDXPyAc/XlkfeA/KzaDSwkZ5j/Xx56YUFzsP/hfnRmzm/E/FNPgEXBD9T8awFsgQRH5P2WNeohGt/w/Sqwxjctd/j/Q+M/krLn6P4G+iBEdffQ/tPbrDFvs7T9HnW/6adLkP9tVQIgB3ts/6FSux68l0z8iGGrBSaLNP6j3XL/D4cY/DQQazxR4wD+oubSY2n2zP3aL9UqvhqU/nBHBEvHRmD8+hBBPOPRkv88RfWdJuqK/c6/0I0Njsb+NhoTWYG23vzwl7zVn8bu/bfgG9PxIv79hh7UhlDG+v2ah3+/+Fbq/7RbrlV4Ntr8icyM0m6qxv5fAblc2E6u/xWqv4q0jo78EBJ50VbKZv7voCDkfOZK/XecoBbLeib8oZvIKmk+Bv+I5L5vmAHW/F7QO25bAZr/iFaxkDBtRv/Cp+gjq6D4/54VErbPZXT9YwCjrNcloP70HTMVdtHA/zq6rZChwdD+lZI4tWKZ3PxhUmfZNWXo/kH1onfN+fD+Wzy9XsUJ+P3x/Jc4Iun8/oXMDMcxqgD9FUNlSftCAP3teTNe1NIE/gAR+A8WegT/iZkE8HOqBP0KFR3ze/YE/NaWsTw/LgT+Mnxbg00WBP7l1l8GhgoA/258NdeZCfz920CSuNW19P0CJHXbwpns/\",\"dtype\":\"float64\",\"shape\":[75]},\"y\":{\"__ndarray__\":\"GhExyth1ND/Sv8nbtpRIP2vylNV0PVE/aTum7souWD/At0SJ8fVgPw3Iuahxymc/MSNhhJWvcD/bTfBN02d3P2zb5nxnaoA/CD5h5MAGhz8NmeH1TyaQP+zrCsc9p5Y/LbKd76fGnz/bLW5ISEmmPww9YvTcQq8/JV2OstnstT8Er5Y7M8G+P0c+r3jqkcU/5h99k6ZBzj88bCIzFzjVP4enV8oyxN0//yH99nXg5D8qOpLLf0jtP5kqGJXUifQ/c9cS8kHP/D+/DpwzojQEQIEmwoanVwxA4lgXt9HgE0BSSZ2AJuIbQAMJih9jjiNA5q4l5INuK0AwTKYKRj0zQNv5fmq8/DpAaCJseHrtQkB/+zpwzoxKQM3MzMzMeFJAZmZmZmZqWEAAAAAAAFxeQM3MzMzMJmJAmpmZmZkfZUBmZmZmZhhoQDMzMzMzEWtAAAAAAAAKbkBmZmZmZoFwQM3MzMzM/XFAMzMzMzN6c0CamZmZmfZ0QAAAAAAAc3ZAZmZmZmbvd0DNzMzMzGt5QDMzMzMz6HpAmpmZmZlkfEAAAAAAAOF9QGZmZmZmXX9AZmZmZuZsgECamZmZGSuBQM3MzMxM6YFAAAAAAICngkAzMzMzs2WDQGZmZmbmI4RAmpmZmRnihEDNzMzMTKCFQAAAAACAXoZAMzMzM7Mch0BmZmZm5tqHQJqZmZkZmYhAzczMzExXiUAAAAAAgBWKQDMzMzOz04pAZmZmZuaRi0CamZmZGVCMQM3MzMxMDo1AAAAAAIDMjUAzMzMzs4qOQGZmZmbmSI9A\",\"dtype\":\"float64\",\"shape\":[75]}},\"selected\":{\"id\":\"a27497be-43af-44af-bee6-baa0377a89e3\",\"type\":\"Selection\"},\"selection_policy\":{\"id\":\"acd494f0-7d6d-4401-8c08-5ba107701daf\",\"type\":\"UnionRenderers\"}},\"id\":\"7c830882-cf4a-4497-b03c-a20a7a6a6cac\",\"type\":\"ColumnDataSource\"},{\"attributes\":{\"label\":{\"value\":\"CRD\"},\"renderers\":[{\"id\":\"7a77c745-5b1d-437a-a54b-bbb00ad16804\",\"type\":\"GlyphRenderer\"},{\"id\":\"9d64ab18-bf77-43e3-a3aa-ef82e0e73990\",\"type\":\"GlyphRenderer\"}]},\"id\":\"1793af19-24fb-468d-aedd-57b69d52b824\",\"type\":\"LegendItem\"},{\"attributes\":{\"callback\":null,\"end\":0.01,\"start\":1020},\"id\":\"4773c22e-b4cb-406f-9e19-be9be71b948f\",\"type\":\"Range1d\"},{\"attributes\":{\"line_color\":\"#4daf4a\",\"line_width\":1.5,\"x\":{\"field\":\"x\"},\"y\":{\"field\":\"y\"}},\"id\":\"6fd3a0c0-e630-4097-b037-d8c48a71cb24\",\"type\":\"Line\"},{\"attributes\":{\"data_source\":{\"id\":\"e3ec59a6-61b8-4e70-b8d9-c6082e2cb25c\",\"type\":\"ColumnDataSource\"},\"glyph\":{\"id\":\"99e30bc8-3b4f-4596-a780-17e832f23a77\",\"type\":\"Line\"},\"hover_glyph\":null,\"muted_glyph\":null,\"nonselection_glyph\":{\"id\":\"57b2c7f2-9257-431e-867c-0b3c3f87fcd2\",\"type\":\"Line\"},\"selection_glyph\":null,\"view\":{\"id\":\"07ec158f-accf-4df9-8bab-12c1c4aecffa\",\"type\":\"CDSView\"}},\"id\":\"6002ae9b-5e3f-4d25-94b4-20e9c3952dd2\",\"type\":\"GlyphRenderer\"},{\"attributes\":{\"fill_alpha\":{\"value\":0.1},\"fill_color\":{\"value\":\"#1f77b4\"},\"line_alpha\":{\"value\":0.1},\"line_color\":{\"value\":\"#1f77b4\"},\"x\":{\"field\":\"x\"},\"y\":{\"field\":\"y\"}},\"id\":\"9348a2b9-ca0e-4547-ad0e-2db39ef2ffd0\",\"type\":\"Circle\"},{\"attributes\":{\"overlay\":{\"id\":\"50d19262-57cd-4747-b8de-c30288d77fce\",\"type\":\"BoxAnnotation\"}},\"id\":\"a1a69359-7cf5-46cb-9d6d-08dad1a17a8b\",\"type\":\"BoxZoomTool\"},{\"attributes\":{},\"id\":\"fd8cb243-cc4e-4e36-b84f-418318417f6c\",\"type\":\"ResetTool\"},{\"attributes\":{\"plot\":{\"id\":\"f3610e9b-1397-49c5-b905-f7f50f680e55\",\"subtype\":\"Figure\",\"type\":\"Plot\"},\"ticker\":{\"id\":\"fdc30418-1a63-465e-be26-05d2a9fb216a\",\"type\":\"BasicTicker\"}},\"id\":\"8acce8be-7747-4928-8579-b0ec93d254f9\",\"type\":\"Grid\"},{\"attributes\":{},\"id\":\"169d75de-36bc-4ce1-898a-0f6843b2125f\",\"type\":\"UnionRenderers\"},{\"attributes\":{},\"id\":\"2db9c33c-783f-4e30-9caf-1f102363e1fa\",\"type\":\"BasicTickFormatter\"},{\"attributes\":{\"fill_alpha\":{\"value\":0.7},\"fill_color\":{\"value\":\"#4daf4a\"},\"line_alpha\":{\"value\":0.7},\"line_color\":{\"value\":\"#4daf4a\"},\"x\":{\"field\":\"x\"},\"y\":{\"field\":\"y\"}},\"id\":\"a1475e75-0f76-4279-ba34-4ddc79819317\",\"type\":\"Circle\"},{\"attributes\":{},\"id\":\"ecb8177e-0dd1-4d43-ae2e-e540b5c59930\",\"type\":\"HelpTool\"},{\"attributes\":{\"children\":[{\"id\":\"cdcf4ce7-6c94-44a0-80ec-cfeacff801b6\",\"type\":\"Row\"}]},\"id\":\"8a059571-fc8e-4258-bdbe-9509e7894701\",\"type\":\"Column\"},{\"attributes\":{},\"id\":\"f7d3a529-e7ed-4778-8576-70e20b7bf9da\",\"type\":\"Selection\"},{\"attributes\":{\"callback\":null,\"data\":{\"x\":{\"__ndarray__\":\"BPOcnL0Nnb8t1f1KhJmev78qr0aKiZ6/y5Hf7CDAmb/ltuC5tVSPv/gst5YGXzs/St2q+HpPlz/VrE8TX+iqPwTP0WsyMbc/OzlDccebwT9jSKnf4ObIP9QWMrK/x9A/8S7V1MvS1T8fculOZnLdP96S+6HCZuQ/YURPiIj06j8UKpN1k/PwP1oZ6DXRgvQ/ugkI9xQK+D+/tn76z3r7P/DSl+8qtf4/iLfOv112/z9BtWbQdYb6P+Gbps8O+PM/jpg0oaSb7T+D5d+ZlrnkPyRkvaRzNts/YbRccOUw0j9IqQDvT+/KP9X/QT3gLsQ/p5W+5/KsvD/imn8XXa6wP4qvCXi4bqI/HGebZ2FZlz/AUmQM79tQvwVNPIFfDKC/RC09As4+rb+8hcya+m6zv1tmoTXwN7e/13nIUvNuur/yONI6JmK6vzPyyAso1be/ET54E5optb8ccVlpeNGxvxabf4mylqy/5pNrw47qpL9XS8ADkbKcv9Z8oe+KupS/Sz/A3u0Pjr/y1ycqYquEv2VywYx2C3q/kTlP62grbr/LOWD311tcv2YPmstDcfW+uJ390nC7WD/Iu0VNpI5nP6tSMdDgr3A/dCO+aI7ydD9iFnAMDqF4Py864e3WtXs/sWMElS8vfj+Sbl3HPhyAP5Zuiv+m9IA/t/DqQziZgT+gwOmM0BCCP4ryKWFdhYI/x1OMfCn/gj8ewWHvq1WDP8nRWXPybIM/B/sog6Asgz9as74WLoqCP1qkxEcvnoE/9+55gFqMgD8/oO0BDOV+P5wCRZ63wHw/\",\"dtype\":\"float64\",\"shape\":[75]},\"y\":{\"__ndarray__\":\"GhExyth1ND/Sv8nbtpRIP2vylNV0PVE/aTum7souWD/At0SJ8fVgPw3Iuahxymc/MSNhhJWvcD/bTfBN02d3P2zb5nxnaoA/CD5h5MAGhz8NmeH1TyaQP+zrCsc9p5Y/LbKd76fGnz/bLW5ISEmmPww9YvTcQq8/JV2OstnstT8Er5Y7M8G+P0c+r3jqkcU/5h99k6ZBzj88bCIzFzjVP4enV8oyxN0//yH99nXg5D8qOpLLf0jtP5kqGJXUifQ/c9cS8kHP/D+/DpwzojQEQIEmwoanVwxA4lgXt9HgE0BSSZ2AJuIbQAMJih9jjiNA5q4l5INuK0AwTKYKRj0zQNv5fmq8/DpAaCJseHrtQkB/+zpwzoxKQM3MzMzMeFJAZmZmZmZqWEAAAAAAAFxeQM3MzMzMJmJAmpmZmZkfZUBmZmZmZhhoQDMzMzMzEWtAAAAAAAAKbkBmZmZmZoFwQM3MzMzM/XFAMzMzMzN6c0CamZmZmfZ0QAAAAAAAc3ZAZmZmZmbvd0DNzMzMzGt5QDMzMzMz6HpAmpmZmZlkfEAAAAAAAOF9QGZmZmZmXX9AZmZmZuZsgECamZmZGSuBQM3MzMxM6YFAAAAAAICngkAzMzMzs2WDQGZmZmbmI4RAmpmZmRnihEDNzMzMTKCFQAAAAACAXoZAMzMzM7Mch0BmZmZm5tqHQJqZmZkZmYhAzczMzExXiUAAAAAAgBWKQDMzMzOz04pAZmZmZuaRi0CamZmZGVCMQM3MzMxMDo1AAAAAAIDMjUAzMzMzs4qOQGZmZmbmSI9A\",\"dtype\":\"float64\",\"shape\":[75]}},\"selected\":{\"id\":\"f7d3a529-e7ed-4778-8576-70e20b7bf9da\",\"type\":\"Selection\"},\"selection_policy\":{\"id\":\"8183d84a-5def-4f48-88ec-379375d5227a\",\"type\":\"UnionRenderers\"}},\"id\":\"c47129e5-cd8b-48b4-989f-97a848ffd0a2\",\"type\":\"ColumnDataSource\"},{\"attributes\":{},\"id\":\"ba12d963-8453-4f60-aa6e-6e9d724e7647\",\"type\":\"BasicTickFormatter\"},{\"attributes\":{\"axis_label\":\"cooling rate [K/day]\",\"formatter\":{\"id\":\"b8f01e2d-8c26-495d-a097-1105aace1690\",\"type\":\"BasicTickFormatter\"},\"plot\":{\"id\":\"f3610e9b-1397-49c5-b905-f7f50f680e55\",\"subtype\":\"Figure\",\"type\":\"Plot\"},\"ticker\":{\"id\":\"fdc30418-1a63-465e-be26-05d2a9fb216a\",\"type\":\"BasicTicker\"}},\"id\":\"5bacbb2e-3b25-4921-9ee9-aca8a720badc\",\"type\":\"LinearAxis\"},{\"attributes\":{\"line_alpha\":0.1,\"line_color\":\"#1f77b4\",\"line_width\":1.5,\"x\":{\"field\":\"x\"},\"y\":{\"field\":\"y\"}},\"id\":\"ae15fe7d-598e-4ab6-a206-24a35d475086\",\"type\":\"Line\"},{\"attributes\":{\"label\":{\"value\":\"CLIRAD\"},\"renderers\":[{\"id\":\"cb630cbe-19cf-459c-96f1-f5a1d6331770\",\"type\":\"GlyphRenderer\"}]},\"id\":\"f5b0fa18-2b11-4242-ae2d-04a9c95be18d\",\"type\":\"LegendItem\"},{\"attributes\":{\"callback\":null,\"data\":{\"x\":{\"__ndarray__\":\"QGJqNIFuiD+G2FG295KKPz7OteEQp4w/cJ/bnxkxjD9zJv8xuuWIPzar4EQGZYI/BCxK7Wt7cD/Q5yNWaulmvxiTZkJ/4Ie/hM/mo1INl79oJ95cVyeiv7iqoeRA1am/dBbVpto8sb+4F15qAEa3v/C18z/xSr+/2Dgw8/xtw79EMR5KWSvGvxDLVeLwOMe/MLU5KSc1xr8otRfRdkzDv7BY1HFG3r+/4LPQKSOJsb+Ax6E0ipuJPwBURDzIoaA/gInX7ZothD8AxLePYNNoP+A2XnC88YQ/4BA06kqZjj/QdkuTzpeVP5i+1xAcl5U/zMnV2doMkT8w9qgJ7HuGP2DfXpe2v3g/AKhasvqIVz+8tbyRgQxZv1AmBjJPb3W/iMawFuEehr+IBsDdMfOPv4T7NgHc5ZK/WPr5hCZok794cxo3b3uOv5h5tSC3BoK/gBtbTpB4bL8A/f6amm5DP/CnDSHDN2g/EJLCCw5ubD+YOhJ53AFoP9igxLRdC2Q/uF9dZu/EYD9Qjqv5QN5aPwziSMY/KlQ/6BUCQUirTT/SR2gll4FGP3Ml2iL/H0A/vKAbaQt5ND8ASTDeGakjPwBI1GrU89E+wJROgsBMIL+gNzbcu1Yvv3BhfnSPyDW/EGK+eb8DO7/g2LB4w1w/v4DteocpekG/YNF3LsHmQr+wBQehIwVEv/BA2Z14CkW/cPTkkEcGRr/AowUy+7hGv3DIJHE/8Ua/IF3FNxMZRr/gPIFqo0VEvxDq0mLYuEG/MOFjvuhcPb+Q/Iw8ZX03v8CVd4JynDG/\",\"dtype\":\"float64\",\"shape\":[75]},\"y\":{\"__ndarray__\":\"GhExyth1ND/Sv8nbtpRIP2vylNV0PVE/aTum7souWD/At0SJ8fVgPw3Iuahxymc/MSNhhJWvcD/bTfBN02d3P2zb5nxnaoA/CD5h5MAGhz8NmeH1TyaQP+zrCsc9p5Y/LbKd76fGnz/bLW5ISEmmPww9YvTcQq8/JV2OstnstT8Er5Y7M8G+P0c+r3jqkcU/5h99k6ZBzj88bCIzFzjVP4enV8oyxN0//yH99nXg5D8qOpLLf0jtP5kqGJXUifQ/c9cS8kHP/D+/DpwzojQEQIEmwoanVwxA4lgXt9HgE0BSSZ2AJuIbQAMJih9jjiNA5q4l5INuK0AwTKYKRj0zQNv5fmq8/DpAaCJseHrtQkB/+zpwzoxKQM3MzMzMeFJAZmZmZmZqWEAAAAAAAFxeQM3MzMzMJmJAmpmZmZkfZUBmZmZmZhhoQDMzMzMzEWtAAAAAAAAKbkBmZmZmZoFwQM3MzMzM/XFAMzMzMzN6c0CamZmZmfZ0QAAAAAAAc3ZAZmZmZmbvd0DNzMzMzGt5QDMzMzMz6HpAmpmZmZlkfEAAAAAAAOF9QGZmZmZmXX9AZmZmZuZsgECamZmZGSuBQM3MzMxM6YFAAAAAAICngkAzMzMzs2WDQGZmZmbmI4RAmpmZmRnihEDNzMzMTKCFQAAAAACAXoZAMzMzM7Mch0BmZmZm5tqHQJqZmZkZmYhAzczMzExXiUAAAAAAgBWKQDMzMzOz04pAZmZmZuaRi0CamZmZGVCMQM3MzMxMDo1AAAAAAIDMjUAzMzMzs4qOQGZmZmbmSI9A\",\"dtype\":\"float64\",\"shape\":[75]}},\"selected\":{\"id\":\"82dbf76a-b28d-44a8-a1ea-7d1607028637\",\"type\":\"Selection\"},\"selection_policy\":{\"id\":\"6341288c-ef2f-4e47-b093-621acb05a084\",\"type\":\"UnionRenderers\"}},\"id\":\"1b183dfb-70d2-4b00-bd1f-64ad240bd9ac\",\"type\":\"ColumnDataSource\"},{\"attributes\":{},\"id\":\"3b94c6cd-ce07-47e7-8c61-1e055233b1bf\",\"type\":\"WheelZoomTool\"},{\"attributes\":{},\"id\":\"1324acd7-55cd-43ef-bb2d-2a861e069ca6\",\"type\":\"Selection\"},{\"attributes\":{},\"id\":\"8a8e78d8-f97f-4fd2-8d31-001c66522067\",\"type\":\"PanTool\"},{\"attributes\":{\"above\":[{\"id\":\"b06fbdce-4f6d-4bab-93d8-40de1afb931b\",\"type\":\"Legend\"}],\"below\":[{\"id\":\"bdcf2589-2303-41b9-b002-14d9a72fe3c6\",\"type\":\"LinearAxis\"}],\"left\":[{\"id\":\"c2441215-5628-4542-b40f-45f6406d7e3d\",\"type\":\"LinearAxis\"}],\"plot_width\":300,\"renderers\":[{\"id\":\"bdcf2589-2303-41b9-b002-14d9a72fe3c6\",\"type\":\"LinearAxis\"},{\"id\":\"a6e22e41-557f-41dc-8c52-8ae102815d04\",\"type\":\"Grid\"},{\"id\":\"c2441215-5628-4542-b40f-45f6406d7e3d\",\"type\":\"LinearAxis\"},{\"id\":\"914d9102-8580-4502-8c59-540aa0577770\",\"type\":\"Grid\"},{\"id\":\"55921f5e-3077-4395-9cea-a38809e76154\",\"type\":\"BoxAnnotation\"},{\"id\":\"3cf29f9e-c6c9-4c10-940a-2bbf22867b4f\",\"type\":\"GlyphRenderer\"},{\"id\":\"53ffe3ff-2fb1-44ed-9b9b-408b9733a12f\",\"type\":\"GlyphRenderer\"},{\"id\":\"b12286e7-5fac-4688-90ac-29c922f9a1f3\",\"type\":\"GlyphRenderer\"},{\"id\":\"b06fbdce-4f6d-4bab-93d8-40de1afb931b\",\"type\":\"Legend\"}],\"title\":{\"id\":\"5147eed1-5414-4c1b-95f9-7cac3371affb\",\"type\":\"Title\"},\"toolbar\":{\"id\":\"427130c1-46b3-40ff-a3ca-c9fa6cb5bc68\",\"type\":\"Toolbar\"},\"toolbar_location\":null,\"x_range\":{\"id\":\"df463f45-a562-4e28-8039-9295073bce35\",\"type\":\"Range1d\"},\"x_scale\":{\"id\":\"80679e83-231a-41ae-a241-6cfda4c88623\",\"type\":\"LinearScale\"},\"y_range\":{\"id\":\"d0d1c624-0529-46cf-b30e-df5af50c7004\",\"type\":\"Range1d\"},\"y_scale\":{\"id\":\"1b450ba3-37a6-440f-b7e4-b8992bee6b07\",\"type\":\"LinearScale\"}},\"id\":\"d43b0303-3d2b-4535-ae99-b13bb4c90dac\",\"subtype\":\"Figure\",\"type\":\"Plot\"},{\"attributes\":{},\"id\":\"8acebe7a-b429-402b-9b49-a28b7f13c758\",\"type\":\"SaveTool\"},{\"attributes\":{},\"id\":\"3260a6bc-7963-42bd-9a06-f882753f1370\",\"type\":\"LogScale\"},{\"attributes\":{\"items\":[{\"id\":\"e0a56fb8-3520-4f76-b555-387fea365423\",\"type\":\"LegendItem\"}],\"label_text_font_size\":{\"value\":\"8pt\"},\"location\":\"top_center\",\"orientation\":\"horizontal\",\"plot\":{\"id\":\"149c821a-2150-467f-959e-63ed504f434b\",\"subtype\":\"Figure\",\"type\":\"Plot\"}},\"id\":\"a62d56dd-f336-41f5-8da6-22ea94abd8c9\",\"type\":\"Legend\"},{\"attributes\":{\"dimension\":1,\"plot\":{\"id\":\"149c821a-2150-467f-959e-63ed504f434b\",\"subtype\":\"Figure\",\"type\":\"Plot\"},\"ticker\":{\"id\":\"62c0af17-68e9-4470-b38a-854858a10074\",\"type\":\"LogTicker\"}},\"id\":\"2944398d-7bc5-4e2f-a3e2-966b6cb6d056\",\"type\":\"Grid\"},{\"attributes\":{\"callback\":null,\"data\":{\"x\":{\"__ndarray__\":\"BPOcnL0Nnb8t1f1KhJmev78qr0aKiZ6/y5Hf7CDAmb/ltuC5tVSPv/gst5YGXzs/St2q+HpPlz/VrE8TX+iqPwTP0WsyMbc/OzlDccebwT9jSKnf4ObIP9QWMrK/x9A/8S7V1MvS1T8fculOZnLdP96S+6HCZuQ/YURPiIj06j8UKpN1k/PwP1oZ6DXRgvQ/ugkI9xQK+D+/tn76z3r7P/DSl+8qtf4/iLfOv112/z9BtWbQdYb6P+Gbps8O+PM/jpg0oaSb7T+D5d+ZlrnkPyRkvaRzNts/YbRccOUw0j9IqQDvT+/KP9X/QT3gLsQ/p5W+5/KsvD/imn8XXa6wP4qvCXi4bqI/HGebZ2FZlz/AUmQM79tQvwVNPIFfDKC/RC09As4+rb+8hcya+m6zv1tmoTXwN7e/13nIUvNuur/yONI6JmK6vzPyyAso1be/ET54E5optb8ccVlpeNGxvxabf4mylqy/5pNrw47qpL9XS8ADkbKcv9Z8oe+KupS/Sz/A3u0Pjr/y1ycqYquEv2VywYx2C3q/kTlP62grbr/LOWD311tcv2YPmstDcfW+uJ390nC7WD/Iu0VNpI5nP6tSMdDgr3A/dCO+aI7ydD9iFnAMDqF4Py864e3WtXs/sWMElS8vfj+Sbl3HPhyAP5Zuiv+m9IA/t/DqQziZgT+gwOmM0BCCP4ryKWFdhYI/x1OMfCn/gj8ewWHvq1WDP8nRWXPybIM/B/sog6Asgz9as74WLoqCP1qkxEcvnoE/9+55gFqMgD8/oO0BDOV+P5wCRZ63wHw/\",\"dtype\":\"float64\",\"shape\":[75]},\"y\":{\"__ndarray__\":\"GhExyth1ND/Sv8nbtpRIP2vylNV0PVE/aTum7souWD/At0SJ8fVgPw3Iuahxymc/MSNhhJWvcD/bTfBN02d3P2zb5nxnaoA/CD5h5MAGhz8NmeH1TyaQP+zrCsc9p5Y/LbKd76fGnz/bLW5ISEmmPww9YvTcQq8/JV2OstnstT8Er5Y7M8G+P0c+r3jqkcU/5h99k6ZBzj88bCIzFzjVP4enV8oyxN0//yH99nXg5D8qOpLLf0jtP5kqGJXUifQ/c9cS8kHP/D+/DpwzojQEQIEmwoanVwxA4lgXt9HgE0BSSZ2AJuIbQAMJih9jjiNA5q4l5INuK0AwTKYKRj0zQNv5fmq8/DpAaCJseHrtQkB/+zpwzoxKQM3MzMzMeFJAZmZmZmZqWEAAAAAAAFxeQM3MzMzMJmJAmpmZmZkfZUBmZmZmZhhoQDMzMzMzEWtAAAAAAAAKbkBmZmZmZoFwQM3MzMzM/XFAMzMzMzN6c0CamZmZmfZ0QAAAAAAAc3ZAZmZmZmbvd0DNzMzMzGt5QDMzMzMz6HpAmpmZmZlkfEAAAAAAAOF9QGZmZmZmXX9AZmZmZuZsgECamZmZGSuBQM3MzMxM6YFAAAAAAICngkAzMzMzs2WDQGZmZmbmI4RAmpmZmRnihEDNzMzMTKCFQAAAAACAXoZAMzMzM7Mch0BmZmZm5tqHQJqZmZkZmYhAzczMzExXiUAAAAAAgBWKQDMzMzOz04pAZmZmZuaRi0CamZmZGVCMQM3MzMxMDo1AAAAAAIDMjUAzMzMzs4qOQGZmZmbmSI9A\",\"dtype\":\"float64\",\"shape\":[75]}},\"selected\":{\"id\":\"576ce767-7db5-42ca-89eb-a58cae33c5d8\",\"type\":\"Selection\"},\"selection_policy\":{\"id\":\"640f7ea5-c5e8-4093-91a4-49bc327b404c\",\"type\":\"UnionRenderers\"}},\"id\":\"8bb192f7-c60d-4400-ba85-13002ee27196\",\"type\":\"ColumnDataSource\"},{\"attributes\":{\"fill_alpha\":{\"value\":0.7},\"fill_color\":{\"value\":\"#984ea3\"},\"line_alpha\":{\"value\":0.7},\"line_color\":{\"value\":\"#984ea3\"},\"x\":{\"field\":\"x\"},\"y\":{\"field\":\"y\"}},\"id\":\"4fb97ded-4697-4c3f-885e-c9a2e5b517f5\",\"type\":\"Circle\"},{\"attributes\":{\"above\":[{\"id\":\"a62d56dd-f336-41f5-8da6-22ea94abd8c9\",\"type\":\"Legend\"}],\"below\":[{\"id\":\"c6b9a2f0-5612-4121-b2d1-27e25041d421\",\"type\":\"LinearAxis\"}],\"left\":[{\"id\":\"f0a5f316-127c-4eea-9342-b1adb8a6c1fc\",\"type\":\"LogAxis\"}],\"plot_width\":300,\"renderers\":[{\"id\":\"c6b9a2f0-5612-4121-b2d1-27e25041d421\",\"type\":\"LinearAxis\"},{\"id\":\"007498eb-7df4-44c9-a693-ed2430c9b45b\",\"type\":\"Grid\"},{\"id\":\"f0a5f316-127c-4eea-9342-b1adb8a6c1fc\",\"type\":\"LogAxis\"},{\"id\":\"2944398d-7bc5-4e2f-a3e2-966b6cb6d056\",\"type\":\"Grid\"},{\"id\":\"50d19262-57cd-4747-b8de-c30288d77fce\",\"type\":\"BoxAnnotation\"},{\"id\":\"7f788a2a-d65e-455a-9753-d7d35ad6f03d\",\"type\":\"GlyphRenderer\"},{\"id\":\"6002ae9b-5e3f-4d25-94b4-20e9c3952dd2\",\"type\":\"GlyphRenderer\"},{\"id\":\"a62d56dd-f336-41f5-8da6-22ea94abd8c9\",\"type\":\"Legend\"}],\"title\":{\"id\":\"56a4dc9b-7c91-4c32-b4ed-eb6601e865f6\",\"type\":\"Title\"},\"toolbar\":{\"id\":\"00db1046-3d21-4d6c-93af-1e361242c197\",\"type\":\"Toolbar\"},\"toolbar_location\":null,\"x_range\":{\"id\":\"4aa84087-1029-48ac-b299-cdee15013ced\",\"type\":\"Range1d\"},\"x_scale\":{\"id\":\"ff33c3b4-3d3c-41a5-aaab-3fe1d04d64ce\",\"type\":\"LinearScale\"},\"y_range\":{\"id\":\"0322f92e-902f-4563-a803-425c4b99255b\",\"type\":\"Range1d\"},\"y_scale\":{\"id\":\"3260a6bc-7963-42bd-9a06-f882753f1370\",\"type\":\"LogScale\"}},\"id\":\"149c821a-2150-467f-959e-63ed504f434b\",\"subtype\":\"Figure\",\"type\":\"Plot\"},{\"attributes\":{\"callback\":null,\"end\":0.03462339500000013,\"start\":-0.18356429500000007},\"id\":\"4aa84087-1029-48ac-b299-cdee15013ced\",\"type\":\"Range1d\"},{\"attributes\":{\"line_alpha\":0.1,\"line_color\":\"#1f77b4\",\"line_width\":1.5,\"x\":{\"field\":\"x\"},\"y\":{\"field\":\"y\"}},\"id\":\"27a1d7e1-8ee8-438f-a4d9-825e495ec8d7\",\"type\":\"Line\"},{\"attributes\":{\"overlay\":{\"id\":\"55921f5e-3077-4395-9cea-a38809e76154\",\"type\":\"BoxAnnotation\"}},\"id\":\"422b7547-ba48-4812-969c-74f2f6fd2115\",\"type\":\"BoxZoomTool\"},{\"attributes\":{\"plot\":{\"id\":\"149c821a-2150-467f-959e-63ed504f434b\",\"subtype\":\"Figure\",\"type\":\"Plot\"},\"ticker\":{\"id\":\"20865359-8a1a-4c1a-a2df-eb0aeaa8cb8c\",\"type\":\"BasicTicker\"}},\"id\":\"007498eb-7df4-44c9-a693-ed2430c9b45b\",\"type\":\"Grid\"},{\"attributes\":{\"source\":{\"id\":\"7c830882-cf4a-4497-b03c-a20a7a6a6cac\",\"type\":\"ColumnDataSource\"}},\"id\":\"5e981fb0-b85b-4a5f-82c9-e860fc98920a\",\"type\":\"CDSView\"},{\"attributes\":{\"fill_alpha\":{\"value\":0.7},\"fill_color\":{\"value\":\"#4daf4a\"},\"line_alpha\":{\"value\":0.7},\"line_color\":{\"value\":\"#4daf4a\"},\"x\":{\"field\":\"x\"},\"y\":{\"field\":\"y\"}},\"id\":\"e51c8088-9eed-4dfe-b53e-9db45d5515bd\",\"type\":\"Circle\"},{\"attributes\":{\"bottom_units\":\"screen\",\"fill_alpha\":{\"value\":0.5},\"fill_color\":{\"value\":\"lightgrey\"},\"left_units\":\"screen\",\"level\":\"overlay\",\"line_alpha\":{\"value\":1.0},\"line_color\":{\"value\":\"black\"},\"line_dash\":[4,4],\"line_width\":{\"value\":2},\"plot\":null,\"render_mode\":\"css\",\"right_units\":\"screen\",\"top_units\":\"screen\"},\"id\":\"55921f5e-3077-4395-9cea-a38809e76154\",\"type\":\"BoxAnnotation\"},{\"attributes\":{\"above\":[{\"id\":\"2337d724-9424-4d7b-b695-1850cdf4ff6c\",\"type\":\"Legend\"}],\"below\":[{\"id\":\"5bacbb2e-3b25-4921-9ee9-aca8a720badc\",\"type\":\"LinearAxis\"}],\"left\":[{\"id\":\"5f4b5218-f2a6-4d6f-b5d5-d26314923626\",\"type\":\"LogAxis\"}],\"plot_width\":300,\"renderers\":[{\"id\":\"5bacbb2e-3b25-4921-9ee9-aca8a720badc\",\"type\":\"LinearAxis\"},{\"id\":\"8acce8be-7747-4928-8579-b0ec93d254f9\",\"type\":\"Grid\"},{\"id\":\"5f4b5218-f2a6-4d6f-b5d5-d26314923626\",\"type\":\"LogAxis\"},{\"id\":\"eeaccd95-a874-4a66-8205-d77a760bed01\",\"type\":\"Grid\"},{\"id\":\"0c8c0c3b-ce57-43d1-a24b-7fb6d878836b\",\"type\":\"BoxAnnotation\"},{\"id\":\"cb630cbe-19cf-459c-96f1-f5a1d6331770\",\"type\":\"GlyphRenderer\"},{\"id\":\"7a77c745-5b1d-437a-a54b-bbb00ad16804\",\"type\":\"GlyphRenderer\"},{\"id\":\"9d64ab18-bf77-43e3-a3aa-ef82e0e73990\",\"type\":\"GlyphRenderer\"},{\"id\":\"2337d724-9424-4d7b-b695-1850cdf4ff6c\",\"type\":\"Legend\"}],\"title\":{\"id\":\"a00b2d19-4735-4de7-8209-d8a0d5b97f3b\",\"type\":\"Title\"},\"toolbar\":{\"id\":\"14f3bb9e-435a-4a3c-bc30-6466e5ef9af0\",\"type\":\"Toolbar\"},\"toolbar_location\":null,\"x_range\":{\"id\":\"2481867a-2a4a-45eb-93d4-b0adffb4a2ad\",\"type\":\"Range1d\"},\"x_scale\":{\"id\":\"1a2d0f9f-49dd-43b2-834e-dd62f122bd48\",\"type\":\"LinearScale\"},\"y_range\":{\"id\":\"4773c22e-b4cb-406f-9e19-be9be71b948f\",\"type\":\"Range1d\"},\"y_scale\":{\"id\":\"b6d68eec-11d7-42b5-b109-8ffb6586ec44\",\"type\":\"LogScale\"}},\"id\":\"f3610e9b-1397-49c5-b905-f7f50f680e55\",\"subtype\":\"Figure\",\"type\":\"Plot\"},{\"attributes\":{\"num_minor_ticks\":10},\"id\":\"62c0af17-68e9-4470-b38a-854858a10074\",\"type\":\"LogTicker\"},{\"attributes\":{\"line_alpha\":0.6,\"line_color\":\"#e41a1c\",\"line_dash\":[6],\"line_width\":5,\"x\":{\"field\":\"x\"},\"y\":{\"field\":\"y\"}},\"id\":\"53d63c9b-3e35-4013-8d25-76967a0d7c95\",\"type\":\"Line\"},{\"attributes\":{\"label\":{\"value\":\"CRD\"},\"renderers\":[{\"id\":\"53ffe3ff-2fb1-44ed-9b9b-408b9733a12f\",\"type\":\"GlyphRenderer\"},{\"id\":\"b12286e7-5fac-4688-90ac-29c922f9a1f3\",\"type\":\"GlyphRenderer\"}]},\"id\":\"f1dcca3d-415b-47d8-9ba1-266f430232e6\",\"type\":\"LegendItem\"},{\"attributes\":{\"source\":{\"id\":\"8bb192f7-c60d-4400-ba85-13002ee27196\",\"type\":\"ColumnDataSource\"}},\"id\":\"b50f56ef-0711-4dea-9230-3b32ff47f057\",\"type\":\"CDSView\"},{\"attributes\":{\"label\":{\"value\":\"CLIRAD\"},\"renderers\":[{\"id\":\"3cf29f9e-c6c9-4c10-940a-2bbf22867b4f\",\"type\":\"GlyphRenderer\"}]},\"id\":\"830c391a-9038-4bb9-b1c3-5181e71612cc\",\"type\":\"LegendItem\"},{\"attributes\":{},\"id\":\"20865359-8a1a-4c1a-a2df-eb0aeaa8cb8c\",\"type\":\"BasicTicker\"},{\"attributes\":{\"source\":{\"id\":\"ec50bc51-9996-49e0-b768-743d88dc00b1\",\"type\":\"ColumnDataSource\"}},\"id\":\"86dcfb6e-b09c-4935-8893-bc1d94f3328d\",\"type\":\"CDSView\"},{\"attributes\":{},\"id\":\"adc98c10-c54a-4883-a64b-a3249602337f\",\"type\":\"ResetTool\"},{\"attributes\":{},\"id\":\"ff33c3b4-3d3c-41a5-aaab-3fe1d04d64ce\",\"type\":\"LinearScale\"},{\"attributes\":{\"axis_label\":\"pressure [mb]\",\"formatter\":{\"id\":\"f0b276d6-e418-48ab-aa8b-64e006bab815\",\"type\":\"LogTickFormatter\"},\"plot\":{\"id\":\"149c821a-2150-467f-959e-63ed504f434b\",\"subtype\":\"Figure\",\"type\":\"Plot\"},\"ticker\":{\"id\":\"62c0af17-68e9-4470-b38a-854858a10074\",\"type\":\"LogTicker\"}},\"id\":\"f0a5f316-127c-4eea-9342-b1adb8a6c1fc\",\"type\":\"LogAxis\"},{\"attributes\":{\"callback\":null,\"end\":0.01,\"start\":1020},\"id\":\"0322f92e-902f-4563-a803-425c4b99255b\",\"type\":\"Range1d\"},{\"attributes\":{},\"id\":\"8183d84a-5def-4f48-88ec-379375d5227a\",\"type\":\"UnionRenderers\"},{\"attributes\":{\"line_alpha\":0.1,\"line_color\":\"#1f77b4\",\"line_dash\":[6],\"line_width\":5,\"x\":{\"field\":\"x\"},\"y\":{\"field\":\"y\"}},\"id\":\"8044a6fa-953a-46bb-9b01-28575dbaa08b\",\"type\":\"Line\"},{\"attributes\":{\"active_drag\":\"auto\",\"active_inspect\":\"auto\",\"active_scroll\":\"auto\",\"active_tap\":\"auto\",\"tools\":[{\"id\":\"dde62ff7-ca45-46ea-a3d6-8799947d7758\",\"type\":\"PanTool\"},{\"id\":\"92c176fd-a8d8-47ee-8916-becb897693cb\",\"type\":\"WheelZoomTool\"},{\"id\":\"a1a69359-7cf5-46cb-9d6d-08dad1a17a8b\",\"type\":\"BoxZoomTool\"},{\"id\":\"04b2781d-1097-4a7e-82c0-2319f0bbc5c0\",\"type\":\"SaveTool\"},{\"id\":\"fd8cb243-cc4e-4e36-b84f-418318417f6c\",\"type\":\"ResetTool\"},{\"id\":\"ecb8177e-0dd1-4d43-ae2e-e540b5c59930\",\"type\":\"HelpTool\"}]},\"id\":\"00db1046-3d21-4d6c-93af-1e361242c197\",\"type\":\"Toolbar\"},{\"attributes\":{\"data_source\":{\"id\":\"ec50bc51-9996-49e0-b768-743d88dc00b1\",\"type\":\"ColumnDataSource\"},\"glyph\":{\"id\":\"54bacb98-00fa-4896-902c-4779b74a0ea9\",\"type\":\"Line\"},\"hover_glyph\":null,\"muted_glyph\":null,\"nonselection_glyph\":{\"id\":\"27a1d7e1-8ee8-438f-a4d9-825e495ec8d7\",\"type\":\"Line\"},\"selection_glyph\":null,\"view\":{\"id\":\"86dcfb6e-b09c-4935-8893-bc1d94f3328d\",\"type\":\"CDSView\"}},\"id\":\"b12286e7-5fac-4688-90ac-29c922f9a1f3\",\"type\":\"GlyphRenderer\"},{\"attributes\":{\"data_source\":{\"id\":\"7c830882-cf4a-4497-b03c-a20a7a6a6cac\",\"type\":\"ColumnDataSource\"},\"glyph\":{\"id\":\"53d63c9b-3e35-4013-8d25-76967a0d7c95\",\"type\":\"Line\"},\"hover_glyph\":null,\"muted_glyph\":null,\"nonselection_glyph\":{\"id\":\"8044a6fa-953a-46bb-9b01-28575dbaa08b\",\"type\":\"Line\"},\"selection_glyph\":null,\"view\":{\"id\":\"5e981fb0-b85b-4a5f-82c9-e860fc98920a\",\"type\":\"CDSView\"}},\"id\":\"3cf29f9e-c6c9-4c10-940a-2bbf22867b4f\",\"type\":\"GlyphRenderer\"},{\"attributes\":{\"axis_label\":\"cooling rate [K/day]\",\"formatter\":{\"id\":\"babf3a84-5b53-4c95-ad58-20d73324b5ca\",\"type\":\"BasicTickFormatter\"},\"plot\":{\"id\":\"149c821a-2150-467f-959e-63ed504f434b\",\"subtype\":\"Figure\",\"type\":\"Plot\"},\"ticker\":{\"id\":\"20865359-8a1a-4c1a-a2df-eb0aeaa8cb8c\",\"type\":\"BasicTicker\"}},\"id\":\"c6b9a2f0-5612-4121-b2d1-27e25041d421\",\"type\":\"LinearAxis\"},{\"attributes\":{\"callback\":null,\"data\":{\"x\":{\"__ndarray__\":\"BPOcnL0Nnb8t1f1KhJmev78qr0aKiZ6/y5Hf7CDAmb/ltuC5tVSPv/gst5YGXzs/St2q+HpPlz/VrE8TX+iqPwTP0WsyMbc/OzlDccebwT9jSKnf4ObIP9QWMrK/x9A/8S7V1MvS1T8fculOZnLdP96S+6HCZuQ/YURPiIj06j8UKpN1k/PwP1oZ6DXRgvQ/ugkI9xQK+D+/tn76z3r7P/DSl+8qtf4/iLfOv112/z9BtWbQdYb6P+Gbps8O+PM/jpg0oaSb7T+D5d+ZlrnkPyRkvaRzNts/YbRccOUw0j9IqQDvT+/KP9X/QT3gLsQ/p5W+5/KsvD/imn8XXa6wP4qvCXi4bqI/HGebZ2FZlz/AUmQM79tQvwVNPIFfDKC/RC09As4+rb+8hcya+m6zv1tmoTXwN7e/13nIUvNuur/yONI6JmK6vzPyyAso1be/ET54E5optb8ccVlpeNGxvxabf4mylqy/5pNrw47qpL9XS8ADkbKcv9Z8oe+KupS/Sz/A3u0Pjr/y1ycqYquEv2VywYx2C3q/kTlP62grbr/LOWD311tcv2YPmstDcfW+uJ390nC7WD/Iu0VNpI5nP6tSMdDgr3A/dCO+aI7ydD9iFnAMDqF4Py864e3WtXs/sWMElS8vfj+Sbl3HPhyAP5Zuiv+m9IA/t/DqQziZgT+gwOmM0BCCP4ryKWFdhYI/x1OMfCn/gj8ewWHvq1WDP8nRWXPybIM/B/sog6Asgz9as74WLoqCP1qkxEcvnoE/9+55gFqMgD8/oO0BDOV+P5wCRZ63wHw/\",\"dtype\":\"float64\",\"shape\":[75]},\"y\":{\"__ndarray__\":\"GhExyth1ND/Sv8nbtpRIP2vylNV0PVE/aTum7souWD/At0SJ8fVgPw3Iuahxymc/MSNhhJWvcD/bTfBN02d3P2zb5nxnaoA/CD5h5MAGhz8NmeH1TyaQP+zrCsc9p5Y/LbKd76fGnz/bLW5ISEmmPww9YvTcQq8/JV2OstnstT8Er5Y7M8G+P0c+r3jqkcU/5h99k6ZBzj88bCIzFzjVP4enV8oyxN0//yH99nXg5D8qOpLLf0jtP5kqGJXUifQ/c9cS8kHP/D+/DpwzojQEQIEmwoanVwxA4lgXt9HgE0BSSZ2AJuIbQAMJih9jjiNA5q4l5INuK0AwTKYKRj0zQNv5fmq8/DpAaCJseHrtQkB/+zpwzoxKQM3MzMzMeFJAZmZmZmZqWEAAAAAAAFxeQM3MzMzMJmJAmpmZmZkfZUBmZmZmZhhoQDMzMzMzEWtAAAAAAAAKbkBmZmZmZoFwQM3MzMzM/XFAMzMzMzN6c0CamZmZmfZ0QAAAAAAAc3ZAZmZmZmbvd0DNzMzMzGt5QDMzMzMz6HpAmpmZmZlkfEAAAAAAAOF9QGZmZmZmXX9AZmZmZuZsgECamZmZGSuBQM3MzMxM6YFAAAAAAICngkAzMzMzs2WDQGZmZmbmI4RAmpmZmRnihEDNzMzMTKCFQAAAAACAXoZAMzMzM7Mch0BmZmZm5tqHQJqZmZkZmYhAzczMzExXiUAAAAAAgBWKQDMzMzOz04pAZmZmZuaRi0CamZmZGVCMQM3MzMxMDo1AAAAAAIDMjUAzMzMzs4qOQGZmZmbmSI9A\",\"dtype\":\"float64\",\"shape\":[75]}},\"selected\":{\"id\":\"cfa73742-00da-4c73-aa39-83b9cde590e3\",\"type\":\"Selection\"},\"selection_policy\":{\"id\":\"259042a0-5865-4558-a67c-7a924f6896a5\",\"type\":\"UnionRenderers\"}},\"id\":\"ec50bc51-9996-49e0-b768-743d88dc00b1\",\"type\":\"ColumnDataSource\"},{\"attributes\":{\"line_color\":\"#4daf4a\",\"line_width\":1.5,\"x\":{\"field\":\"x\"},\"y\":{\"field\":\"y\"}},\"id\":\"54bacb98-00fa-4896-902c-4779b74a0ea9\",\"type\":\"Line\"},{\"attributes\":{},\"id\":\"1726c515-dc43-4483-ad8a-3d8d7ccd2e4e\",\"type\":\"HelpTool\"},{\"attributes\":{\"active_drag\":\"auto\",\"active_inspect\":\"auto\",\"active_scroll\":\"auto\",\"active_tap\":\"auto\",\"tools\":[{\"id\":\"07ed3b47-70e1-4c40-acef-fdc513b9c255\",\"type\":\"PanTool\"},{\"id\":\"04c9f413-2708-4e49-b606-fab2e85fa698\",\"type\":\"WheelZoomTool\"},{\"id\":\"d3907d36-dfd2-4ed9-ac3d-b44c1695f764\",\"type\":\"BoxZoomTool\"},{\"id\":\"4b4ba81c-914a-41ee-80f9-b447a6d84adf\",\"type\":\"SaveTool\"},{\"id\":\"e6161187-62a8-415e-8b73-bf97ef4a8a35\",\"type\":\"ResetTool\"},{\"id\":\"d70a11ac-585c-4962-8129-602500772431\",\"type\":\"HelpTool\"}]},\"id\":\"14f3bb9e-435a-4a3c-bc30-6466e5ef9af0\",\"type\":\"Toolbar\"},{\"attributes\":{\"data_source\":{\"id\":\"8bb192f7-c60d-4400-ba85-13002ee27196\",\"type\":\"ColumnDataSource\"},\"glyph\":{\"id\":\"e51c8088-9eed-4dfe-b53e-9db45d5515bd\",\"type\":\"Circle\"},\"hover_glyph\":null,\"muted_glyph\":null,\"nonselection_glyph\":{\"id\":\"1ecad8e6-cd1a-4f15-9225-169b953305d6\",\"type\":\"Circle\"},\"selection_glyph\":null,\"view\":{\"id\":\"b50f56ef-0711-4dea-9230-3b32ff47f057\",\"type\":\"CDSView\"}},\"id\":\"53ffe3ff-2fb1-44ed-9b9b-408b9733a12f\",\"type\":\"GlyphRenderer\"},{\"attributes\":{\"fill_alpha\":{\"value\":0.1},\"fill_color\":{\"value\":\"#1f77b4\"},\"line_alpha\":{\"value\":0.1},\"line_color\":{\"value\":\"#1f77b4\"},\"x\":{\"field\":\"x\"},\"y\":{\"field\":\"y\"}},\"id\":\"1ecad8e6-cd1a-4f15-9225-169b953305d6\",\"type\":\"Circle\"}],\"root_ids\":[\"9a206754-2447-4de4-9095-186e55a770fb\"]},\"title\":\"Bokeh Application\",\"version\":\"0.12.16\"}};\n",
       "  var render_items = [{\"docid\":\"4250b096-e435-426b-bfa2-3109d68a768e\",\"elementid\":\"6ab339bb-648e-4a23-801c-205cbd63bff2\",\"modelid\":\"9a206754-2447-4de4-9095-186e55a770fb\"}];\n",
       "  root.Bokeh.embed.embed_items_notebook(docs_json, render_items);\n",
       "\n",
       "  }\n",
       "  if (root.Bokeh !== undefined) {\n",
       "    embed_document(root);\n",
       "  } else {\n",
       "    var attempts = 0;\n",
       "    var timer = setInterval(function(root) {\n",
       "      if (root.Bokeh !== undefined) {\n",
       "        embed_document(root);\n",
       "        clearInterval(timer);\n",
       "      }\n",
       "      attempts++;\n",
       "      if (attempts > 100) {\n",
       "        console.log(\"Bokeh: ERROR: Unable to run BokehJS code because BokehJS library is missing\")\n",
       "        clearInterval(timer);\n",
       "      }\n",
       "    }, 10, root)\n",
       "  }\n",
       "})(window);"
      ],
      "application/vnd.bokehjs_exec.v0+json": ""
     },
     "metadata": {
      "application/vnd.bokehjs_exec.v0+json": {
       "id": "9a206754-2447-4de4-9095-186e55a770fb"
      }
     },
     "output_type": "display_data"
    },
    {
     "data": {
      "text/markdown": [
       "*FIGURE.* Cooling rates & difference."
      ],
      "text/plain": [
       "<IPython.core.display.Markdown object>"
      ]
     },
     "metadata": {},
     "output_type": "display_data"
    },
    {
     "data": {
      "text/html": [
       "<a id=\"Fluxes._saw.\"></a>"
      ],
      "text/plain": [
       "<IPython.core.display.HTML object>"
      ]
     },
     "metadata": {},
     "output_type": "display_data"
    },
    {
     "data": {
      "text/markdown": [
       "# Fluxes. saw."
      ],
      "text/plain": [
       "<IPython.core.display.Markdown object>"
      ]
     },
     "metadata": {},
     "output_type": "display_data"
    },
    {
     "data": {
      "text/html": [
       "\n",
       "<div class=\"bk-root\">\n",
       "    <div class=\"bk-plotdiv\" id=\"9875759b-49d1-4d32-ad3e-035c9d8f77ba\"></div>\n",
       "</div>"
      ]
     },
     "metadata": {},
     "output_type": "display_data"
    },
    {
     "data": {
      "application/javascript": [
       "(function(root) {\n",
       "  function embed_document(root) {\n",
       "    \n",
       "  var docs_json = {\"c3659852-8e97-443b-a7c5-88306e1226c1\":{\"roots\":{\"references\":[{\"attributes\":{\"plot\":null,\"text\":\"Atmosphere heating. CLIRAD - CRD.\"},\"id\":\"fcb8d021-aa62-4c24-bfc7-8fb98f263efc\",\"type\":\"Title\"},{\"attributes\":{\"children\":[{\"id\":\"0a9fffb1-d4d5-4d9d-a992-62dbf59bdbb4\",\"type\":\"ToolbarBox\"},{\"id\":\"bfd1dd1e-2d82-456e-990e-dd3e08b09350\",\"type\":\"Column\"}]},\"id\":\"55cede77-cc6d-474c-8d71-28c9817c512d\",\"type\":\"Column\"},{\"attributes\":{\"overlay\":{\"id\":\"1a6699f2-c4e2-4f71-9bd0-02a558d2ee45\",\"type\":\"BoxAnnotation\"}},\"id\":\"5b3398dd-2f30-46e5-b860-d1592e35ba9b\",\"type\":\"BoxZoomTool\"},{\"attributes\":{\"bottom_units\":\"screen\",\"fill_alpha\":{\"value\":0.5},\"fill_color\":{\"value\":\"lightgrey\"},\"left_units\":\"screen\",\"level\":\"overlay\",\"line_alpha\":{\"value\":1.0},\"line_color\":{\"value\":\"black\"},\"line_dash\":[4,4],\"line_width\":{\"value\":2},\"plot\":null,\"render_mode\":\"css\",\"right_units\":\"screen\",\"top_units\":\"screen\"},\"id\":\"68189543-98a9-4526-bb28-49e1c4566b40\",\"type\":\"BoxAnnotation\"},{\"attributes\":{\"data_source\":{\"id\":\"7cd66a05-e1d6-4ed5-886f-6e257ce23862\",\"type\":\"ColumnDataSource\"},\"glyph\":{\"id\":\"fbb8ea38-1fee-4bd3-913f-d605ee691d60\",\"type\":\"VBar\"},\"hover_glyph\":null,\"muted_glyph\":null,\"nonselection_glyph\":{\"id\":\"5577e189-d5be-4381-b17a-da6054f3c3a9\",\"type\":\"VBar\"},\"selection_glyph\":null,\"view\":{\"id\":\"fc30bad7-b98f-48d9-bee2-76fb7dc1a75a\",\"type\":\"CDSView\"}},\"id\":\"933c730d-ffc5-4fdf-8d87-3633c5da3622\",\"type\":\"GlyphRenderer\"},{\"attributes\":{\"fill_alpha\":{\"value\":0.1},\"fill_color\":{\"value\":\"#1f77b4\"},\"line_alpha\":{\"value\":0.1},\"line_color\":{\"value\":\"#1f77b4\"},\"top\":{\"field\":\"flux\"},\"width\":{\"value\":0.9},\"x\":{\"field\":\"band\"}},\"id\":\"5577e189-d5be-4381-b17a-da6054f3c3a9\",\"type\":\"VBar\"},{\"attributes\":{\"dimension\":1,\"plot\":{\"id\":\"1f87576b-c9fa-4696-acc1-c3f3504e3415\",\"subtype\":\"Figure\",\"type\":\"Plot\"},\"ticker\":{\"id\":\"3d78695a-79cf-4690-a150-1d5f76998206\",\"type\":\"BasicTicker\"}},\"id\":\"c7406e8c-6696-49d9-8ec5-bf6b0e3e4d49\",\"type\":\"Grid\"},{\"attributes\":{},\"id\":\"3d78695a-79cf-4690-a150-1d5f76998206\",\"type\":\"BasicTicker\"},{\"attributes\":{},\"id\":\"30b533cd-b883-4b2e-8d14-71339ff93436\",\"type\":\"WheelZoomTool\"},{\"attributes\":{\"fill_color\":{\"value\":\"#1f77b4\"},\"line_color\":{\"value\":\"#1f77b4\"},\"top\":{\"field\":\"flux\"},\"width\":{\"value\":0.9},\"x\":{\"field\":\"band\"}},\"id\":\"fbb8ea38-1fee-4bd3-913f-d605ee691d60\",\"type\":\"VBar\"},{\"attributes\":{},\"id\":\"e950f424-7d10-4ad2-b29a-3e750696a1fb\",\"type\":\"CategoricalTicker\"},{\"attributes\":{\"axis_label\":\"spectral band\",\"formatter\":{\"id\":\"4ae6daf1-49e8-4138-9653-fd33fcda1e85\",\"type\":\"CategoricalTickFormatter\"},\"plot\":{\"id\":\"1f87576b-c9fa-4696-acc1-c3f3504e3415\",\"subtype\":\"Figure\",\"type\":\"Plot\"},\"ticker\":{\"id\":\"e950f424-7d10-4ad2-b29a-3e750696a1fb\",\"type\":\"CategoricalTicker\"}},\"id\":\"decc12de-88d7-478a-b9ed-e6bb5e3300f7\",\"type\":\"CategoricalAxis\"},{\"attributes\":{\"plot\":{\"id\":\"1f87576b-c9fa-4696-acc1-c3f3504e3415\",\"subtype\":\"Figure\",\"type\":\"Plot\"},\"ticker\":{\"id\":\"e950f424-7d10-4ad2-b29a-3e750696a1fb\",\"type\":\"CategoricalTicker\"}},\"id\":\"9e1f21dc-2a77-4215-ace5-78bc2642b33c\",\"type\":\"Grid\"},{\"attributes\":{},\"id\":\"d5a89d67-2e44-47ca-820a-503e24c85e31\",\"type\":\"LinearScale\"},{\"attributes\":{\"callback\":null},\"id\":\"769c2d63-88de-4880-9279-95fed7f48084\",\"type\":\"DataRange1d\"},{\"attributes\":{},\"id\":\"773524fa-6061-45de-8a87-5081350e78f2\",\"type\":\"CategoricalScale\"},{\"attributes\":{},\"id\":\"0eae5949-91c6-4b80-98ba-4051b35b63ea\",\"type\":\"HelpTool\"},{\"attributes\":{\"active_drag\":\"auto\",\"active_inspect\":\"auto\",\"active_scroll\":\"auto\",\"active_tap\":\"auto\",\"tools\":[{\"id\":\"258a21eb-c2c7-4e0d-b0df-eb3dcd5de82f\",\"type\":\"PanTool\"},{\"id\":\"9594b4a6-9417-458a-99a4-59f40282746a\",\"type\":\"WheelZoomTool\"},{\"id\":\"8f2ba940-b6cd-448d-a0ed-0456e6f4edb3\",\"type\":\"BoxZoomTool\"},{\"id\":\"cbacd69a-005a-4f7e-84af-a61a0d4466ba\",\"type\":\"SaveTool\"},{\"id\":\"b004c4e2-f513-42ee-904f-5dad21cbf7aa\",\"type\":\"ResetTool\"},{\"id\":\"0d38bffe-212c-4f78-a750-8eab00c68168\",\"type\":\"HelpTool\"}]},\"id\":\"add25fa4-7574-43df-9308-333371c08f80\",\"type\":\"Toolbar\"},{\"attributes\":{},\"id\":\"b56b4e7e-98ae-4d0f-be9b-2561b494789a\",\"type\":\"Selection\"},{\"attributes\":{},\"id\":\"7167d0c1-1d99-4e9b-965f-0bcb26bb9bd5\",\"type\":\"ResetTool\"},{\"attributes\":{\"callback\":null,\"factors\":[\"7\"]},\"id\":\"c9853644-0356-4728-82d7-4f0830bc2973\",\"type\":\"FactorRange\"},{\"attributes\":{},\"id\":\"b5735a76-fc05-4adc-9498-a297e4867be7\",\"type\":\"SaveTool\"},{\"attributes\":{\"axis_label\":\"flux (W m-2)\",\"formatter\":{\"id\":\"4f8d462f-5227-447b-a231-93451f18c1c8\",\"type\":\"BasicTickFormatter\"},\"plot\":{\"id\":\"1f87576b-c9fa-4696-acc1-c3f3504e3415\",\"subtype\":\"Figure\",\"type\":\"Plot\"},\"ticker\":{\"id\":\"3d78695a-79cf-4690-a150-1d5f76998206\",\"type\":\"BasicTicker\"}},\"id\":\"e18488b8-4e52-4cc0-8a24-6f975e9be94b\",\"type\":\"LinearAxis\"},{\"attributes\":{\"bottom_units\":\"screen\",\"fill_alpha\":{\"value\":0.5},\"fill_color\":{\"value\":\"lightgrey\"},\"left_units\":\"screen\",\"level\":\"overlay\",\"line_alpha\":{\"value\":1.0},\"line_color\":{\"value\":\"black\"},\"line_dash\":[4,4],\"line_width\":{\"value\":2},\"plot\":null,\"render_mode\":\"css\",\"right_units\":\"screen\",\"top_units\":\"screen\"},\"id\":\"1a6699f2-c4e2-4f71-9bd0-02a558d2ee45\",\"type\":\"BoxAnnotation\"},{\"attributes\":{},\"id\":\"6eaa661e-d80f-4a58-9d34-5885449e1a7b\",\"type\":\"BasicTicker\"},{\"attributes\":{\"callback\":null,\"data\":{\"band\":[\"7\"],\"flux\":{\"__ndarray__\":\"ID1EozuI0j8=\",\"dtype\":\"float64\",\"shape\":[1]}},\"selected\":{\"id\":\"b56b4e7e-98ae-4d0f-be9b-2561b494789a\",\"type\":\"Selection\"},\"selection_policy\":{\"id\":\"674f5e46-fe7c-495f-ba75-e1e9c8713cc7\",\"type\":\"UnionRenderers\"}},\"id\":\"a00d07c7-ccfb-41fa-8d71-e13e282a4681\",\"type\":\"ColumnDataSource\"},{\"attributes\":{},\"id\":\"258a21eb-c2c7-4e0d-b0df-eb3dcd5de82f\",\"type\":\"PanTool\"},{\"attributes\":{\"tools\":[{\"id\":\"a6753d45-8c58-46d5-91d8-88b0e3c87fb5\",\"type\":\"PanTool\"},{\"id\":\"f87b7a31-43ff-4d34-a8b0-0d6ac5f4ad1f\",\"type\":\"WheelZoomTool\"},{\"id\":\"2bd9b1de-4fa4-4751-b66c-f7e4b29fda30\",\"type\":\"BoxZoomTool\"},{\"id\":\"8b2a1b8f-1520-4769-af93-852afe205cca\",\"type\":\"SaveTool\"},{\"id\":\"e08c59fa-c714-474c-a53b-41a7f808f688\",\"type\":\"ResetTool\"},{\"id\":\"e6ba7362-13b4-49c1-a2b2-ff1052b1bb89\",\"type\":\"HelpTool\"},{\"id\":\"c754be4b-08fe-4c61-8ba8-4236b1872698\",\"type\":\"PanTool\"},{\"id\":\"30b533cd-b883-4b2e-8d14-71339ff93436\",\"type\":\"WheelZoomTool\"},{\"id\":\"5b3398dd-2f30-46e5-b860-d1592e35ba9b\",\"type\":\"BoxZoomTool\"},{\"id\":\"b5735a76-fc05-4adc-9498-a297e4867be7\",\"type\":\"SaveTool\"},{\"id\":\"7167d0c1-1d99-4e9b-965f-0bcb26bb9bd5\",\"type\":\"ResetTool\"},{\"id\":\"0eae5949-91c6-4b80-98ba-4051b35b63ea\",\"type\":\"HelpTool\"},{\"id\":\"258a21eb-c2c7-4e0d-b0df-eb3dcd5de82f\",\"type\":\"PanTool\"},{\"id\":\"9594b4a6-9417-458a-99a4-59f40282746a\",\"type\":\"WheelZoomTool\"},{\"id\":\"8f2ba940-b6cd-448d-a0ed-0456e6f4edb3\",\"type\":\"BoxZoomTool\"},{\"id\":\"cbacd69a-005a-4f7e-84af-a61a0d4466ba\",\"type\":\"SaveTool\"},{\"id\":\"b004c4e2-f513-42ee-904f-5dad21cbf7aa\",\"type\":\"ResetTool\"},{\"id\":\"0d38bffe-212c-4f78-a750-8eab00c68168\",\"type\":\"HelpTool\"}]},\"id\":\"4e161120-661b-431e-9ceb-ac0b34e127ae\",\"type\":\"ProxyToolbar\"},{\"attributes\":{\"callback\":null},\"id\":\"7a1efda7-5a96-450b-a439-565ecb2cd40c\",\"type\":\"DataRange1d\"},{\"attributes\":{},\"id\":\"9594b4a6-9417-458a-99a4-59f40282746a\",\"type\":\"WheelZoomTool\"},{\"attributes\":{\"overlay\":{\"id\":\"68189543-98a9-4526-bb28-49e1c4566b40\",\"type\":\"BoxAnnotation\"}},\"id\":\"8f2ba940-b6cd-448d-a0ed-0456e6f4edb3\",\"type\":\"BoxZoomTool\"},{\"attributes\":{},\"id\":\"b004c4e2-f513-42ee-904f-5dad21cbf7aa\",\"type\":\"ResetTool\"},{\"attributes\":{\"source\":{\"id\":\"c5476400-2794-439f-a301-6a7d1c9919e1\",\"type\":\"ColumnDataSource\"}},\"id\":\"f2b8692a-e905-4efa-aa78-442ec0d9ba45\",\"type\":\"CDSView\"},{\"attributes\":{},\"id\":\"cbacd69a-005a-4f7e-84af-a61a0d4466ba\",\"type\":\"SaveTool\"},{\"attributes\":{},\"id\":\"c754be4b-08fe-4c61-8ba8-4236b1872698\",\"type\":\"PanTool\"},{\"attributes\":{},\"id\":\"0d38bffe-212c-4f78-a750-8eab00c68168\",\"type\":\"HelpTool\"},{\"attributes\":{\"children\":[{\"id\":\"9fb9380b-f49f-4809-9264-ba80ce5cd751\",\"type\":\"Row\"}]},\"id\":\"bfd1dd1e-2d82-456e-990e-dd3e08b09350\",\"type\":\"Column\"},{\"attributes\":{\"below\":[{\"id\":\"decc12de-88d7-478a-b9ed-e6bb5e3300f7\",\"type\":\"CategoricalAxis\"}],\"left\":[{\"id\":\"e18488b8-4e52-4cc0-8a24-6f975e9be94b\",\"type\":\"LinearAxis\"}],\"plot_height\":300,\"plot_width\":300,\"renderers\":[{\"id\":\"decc12de-88d7-478a-b9ed-e6bb5e3300f7\",\"type\":\"CategoricalAxis\"},{\"id\":\"9e1f21dc-2a77-4215-ace5-78bc2642b33c\",\"type\":\"Grid\"},{\"id\":\"e18488b8-4e52-4cc0-8a24-6f975e9be94b\",\"type\":\"LinearAxis\"},{\"id\":\"c7406e8c-6696-49d9-8ec5-bf6b0e3e4d49\",\"type\":\"Grid\"},{\"id\":\"68189543-98a9-4526-bb28-49e1c4566b40\",\"type\":\"BoxAnnotation\"},{\"id\":\"933c730d-ffc5-4fdf-8d87-3633c5da3622\",\"type\":\"GlyphRenderer\"}],\"title\":{\"id\":\"fcb8d021-aa62-4c24-bfc7-8fb98f263efc\",\"type\":\"Title\"},\"toolbar\":{\"id\":\"add25fa4-7574-43df-9308-333371c08f80\",\"type\":\"Toolbar\"},\"toolbar_location\":null,\"x_range\":{\"id\":\"c9853644-0356-4728-82d7-4f0830bc2973\",\"type\":\"FactorRange\"},\"x_scale\":{\"id\":\"773524fa-6061-45de-8a87-5081350e78f2\",\"type\":\"CategoricalScale\"},\"y_range\":{\"id\":\"769c2d63-88de-4880-9279-95fed7f48084\",\"type\":\"DataRange1d\"},\"y_scale\":{\"id\":\"d5a89d67-2e44-47ca-820a-503e24c85e31\",\"type\":\"LinearScale\"}},\"id\":\"1f87576b-c9fa-4696-acc1-c3f3504e3415\",\"subtype\":\"Figure\",\"type\":\"Plot\"},{\"attributes\":{},\"id\":\"1b70b4bd-562f-4354-bf50-252ac8953bd5\",\"type\":\"Selection\"},{\"attributes\":{\"source\":{\"id\":\"7cd66a05-e1d6-4ed5-886f-6e257ce23862\",\"type\":\"ColumnDataSource\"}},\"id\":\"fc30bad7-b98f-48d9-bee2-76fb7dc1a75a\",\"type\":\"CDSView\"},{\"attributes\":{\"callback\":null},\"id\":\"2244d369-1b1b-48fa-b36d-ad8f2c644ca1\",\"type\":\"DataRange1d\"},{\"attributes\":{\"dimension\":1,\"plot\":{\"id\":\"012f6a66-d847-4c03-9688-772634664d9d\",\"subtype\":\"Figure\",\"type\":\"Plot\"},\"ticker\":{\"id\":\"6eaa661e-d80f-4a58-9d34-5885449e1a7b\",\"type\":\"BasicTicker\"}},\"id\":\"b3f8d0fc-48b1-46a9-866d-d6d13d8211f5\",\"type\":\"Grid\"},{\"attributes\":{\"toolbar\":{\"id\":\"4e161120-661b-431e-9ceb-ac0b34e127ae\",\"type\":\"ProxyToolbar\"},\"toolbar_location\":\"above\"},\"id\":\"0a9fffb1-d4d5-4d9d-a992-62dbf59bdbb4\",\"type\":\"ToolbarBox\"},{\"attributes\":{\"plot\":{\"id\":\"012f6a66-d847-4c03-9688-772634664d9d\",\"subtype\":\"Figure\",\"type\":\"Plot\"},\"ticker\":{\"id\":\"4db92f7e-de8a-4044-bbf3-f67b91ba8372\",\"type\":\"CategoricalTicker\"}},\"id\":\"49c32214-c883-4ca7-8586-85144259fed0\",\"type\":\"Grid\"},{\"attributes\":{},\"id\":\"2c3b2c1f-177f-44a1-9731-0ee5af95e307\",\"type\":\"BasicTickFormatter\"},{\"attributes\":{},\"id\":\"4f8d462f-5227-447b-a231-93451f18c1c8\",\"type\":\"BasicTickFormatter\"},{\"attributes\":{},\"id\":\"273e92c5-bc93-41d5-9df9-370eb2f0b142\",\"type\":\"Selection\"},{\"attributes\":{\"active_drag\":\"auto\",\"active_inspect\":\"auto\",\"active_scroll\":\"auto\",\"active_tap\":\"auto\",\"tools\":[{\"id\":\"a6753d45-8c58-46d5-91d8-88b0e3c87fb5\",\"type\":\"PanTool\"},{\"id\":\"f87b7a31-43ff-4d34-a8b0-0d6ac5f4ad1f\",\"type\":\"WheelZoomTool\"},{\"id\":\"2bd9b1de-4fa4-4751-b66c-f7e4b29fda30\",\"type\":\"BoxZoomTool\"},{\"id\":\"8b2a1b8f-1520-4769-af93-852afe205cca\",\"type\":\"SaveTool\"},{\"id\":\"e08c59fa-c714-474c-a53b-41a7f808f688\",\"type\":\"ResetTool\"},{\"id\":\"e6ba7362-13b4-49c1-a2b2-ff1052b1bb89\",\"type\":\"HelpTool\"}]},\"id\":\"b2851b86-6a02-4dee-a2a2-dd991e45f79f\",\"type\":\"Toolbar\"},{\"attributes\":{\"callback\":null,\"factors\":[\"7\"]},\"id\":\"3a3656d2-6a19-44c6-a199-2c355a785f91\",\"type\":\"FactorRange\"},{\"attributes\":{},\"id\":\"e010fc4b-ef11-422c-97df-0c9e5d90271a\",\"type\":\"LinearScale\"},{\"attributes\":{},\"id\":\"674f5e46-fe7c-495f-ba75-e1e9c8713cc7\",\"type\":\"UnionRenderers\"},{\"attributes\":{\"plot\":null,\"text\":\"TOA flux. CLIRAD - CRD.\"},\"id\":\"1f88032a-6cbc-461b-813d-0316a90e1bc4\",\"type\":\"Title\"},{\"attributes\":{},\"id\":\"4ae6daf1-49e8-4138-9653-fd33fcda1e85\",\"type\":\"CategoricalTickFormatter\"},{\"attributes\":{\"below\":[{\"id\":\"f87012c2-0baf-4b7c-a3a9-adeb3203d957\",\"type\":\"CategoricalAxis\"}],\"left\":[{\"id\":\"5fecb335-e046-4f2a-8bc4-411c4eb532ee\",\"type\":\"LinearAxis\"}],\"plot_height\":300,\"plot_width\":300,\"renderers\":[{\"id\":\"f87012c2-0baf-4b7c-a3a9-adeb3203d957\",\"type\":\"CategoricalAxis\"},{\"id\":\"5a7a87df-0fc1-40b8-9241-ef655e64224e\",\"type\":\"Grid\"},{\"id\":\"5fecb335-e046-4f2a-8bc4-411c4eb532ee\",\"type\":\"LinearAxis\"},{\"id\":\"9ce8ccc8-66fb-4b2d-b52b-563572d74b79\",\"type\":\"Grid\"},{\"id\":\"e25c1ed1-36ad-4c96-80e2-ab018eca1676\",\"type\":\"BoxAnnotation\"},{\"id\":\"e4a63494-89f4-40de-80fb-be2490677c97\",\"type\":\"GlyphRenderer\"}],\"title\":{\"id\":\"1f88032a-6cbc-461b-813d-0316a90e1bc4\",\"type\":\"Title\"},\"toolbar\":{\"id\":\"b2851b86-6a02-4dee-a2a2-dd991e45f79f\",\"type\":\"Toolbar\"},\"toolbar_location\":null,\"x_range\":{\"id\":\"3a3656d2-6a19-44c6-a199-2c355a785f91\",\"type\":\"FactorRange\"},\"x_scale\":{\"id\":\"40170cac-12c0-40d0-a782-d449feef98af\",\"type\":\"CategoricalScale\"},\"y_range\":{\"id\":\"2244d369-1b1b-48fa-b36d-ad8f2c644ca1\",\"type\":\"DataRange1d\"},\"y_scale\":{\"id\":\"86ea5c50-836e-493c-9b49-05b73048d5ed\",\"type\":\"LinearScale\"}},\"id\":\"43b2d7c3-68c0-48db-8d61-9b47e8ee6eac\",\"subtype\":\"Figure\",\"type\":\"Plot\"},{\"attributes\":{\"fill_color\":{\"value\":\"#1f77b4\"},\"line_color\":{\"value\":\"#1f77b4\"},\"top\":{\"field\":\"flux\"},\"width\":{\"value\":0.9},\"x\":{\"field\":\"band\"}},\"id\":\"d37687b4-ce8b-46d1-a4c5-5e75867e1237\",\"type\":\"VBar\"},{\"attributes\":{\"axis_label\":\"spectral band\",\"formatter\":{\"id\":\"63642adc-552d-42c0-a9e0-6c962072eec0\",\"type\":\"CategoricalTickFormatter\"},\"plot\":{\"id\":\"012f6a66-d847-4c03-9688-772634664d9d\",\"subtype\":\"Figure\",\"type\":\"Plot\"},\"ticker\":{\"id\":\"4db92f7e-de8a-4044-bbf3-f67b91ba8372\",\"type\":\"CategoricalTicker\"}},\"id\":\"e6ceb750-3916-44f4-ada3-b28c4929df58\",\"type\":\"CategoricalAxis\"},{\"attributes\":{},\"id\":\"c923945f-e023-4f5c-a90d-875904743b2a\",\"type\":\"UnionRenderers\"},{\"attributes\":{},\"id\":\"1554036a-2b99-486a-acdf-b65aa8e50214\",\"type\":\"CategoricalTickFormatter\"},{\"attributes\":{},\"id\":\"40170cac-12c0-40d0-a782-d449feef98af\",\"type\":\"CategoricalScale\"},{\"attributes\":{\"axis_label\":\"flux (W m-2)\",\"formatter\":{\"id\":\"c878ba30-f36d-4276-9123-d1017a662d11\",\"type\":\"BasicTickFormatter\"},\"plot\":{\"id\":\"43b2d7c3-68c0-48db-8d61-9b47e8ee6eac\",\"subtype\":\"Figure\",\"type\":\"Plot\"},\"ticker\":{\"id\":\"3f79382b-bcbf-43bc-ad6c-dc8ffda7f9f4\",\"type\":\"BasicTicker\"}},\"id\":\"5fecb335-e046-4f2a-8bc4-411c4eb532ee\",\"type\":\"LinearAxis\"},{\"attributes\":{},\"id\":\"86ea5c50-836e-493c-9b49-05b73048d5ed\",\"type\":\"LinearScale\"},{\"attributes\":{\"plot\":{\"id\":\"43b2d7c3-68c0-48db-8d61-9b47e8ee6eac\",\"subtype\":\"Figure\",\"type\":\"Plot\"},\"ticker\":{\"id\":\"851d57c5-49c6-4c1e-9e06-23c2759d10b6\",\"type\":\"CategoricalTicker\"}},\"id\":\"5a7a87df-0fc1-40b8-9241-ef655e64224e\",\"type\":\"Grid\"},{\"attributes\":{\"axis_label\":\"spectral band\",\"formatter\":{\"id\":\"1554036a-2b99-486a-acdf-b65aa8e50214\",\"type\":\"CategoricalTickFormatter\"},\"plot\":{\"id\":\"43b2d7c3-68c0-48db-8d61-9b47e8ee6eac\",\"subtype\":\"Figure\",\"type\":\"Plot\"},\"ticker\":{\"id\":\"851d57c5-49c6-4c1e-9e06-23c2759d10b6\",\"type\":\"CategoricalTicker\"}},\"id\":\"f87012c2-0baf-4b7c-a3a9-adeb3203d957\",\"type\":\"CategoricalAxis\"},{\"attributes\":{\"callback\":null,\"factors\":[\"7\"]},\"id\":\"00558f84-213f-4352-b06b-524411ee39aa\",\"type\":\"FactorRange\"},{\"attributes\":{},\"id\":\"63642adc-552d-42c0-a9e0-6c962072eec0\",\"type\":\"CategoricalTickFormatter\"},{\"attributes\":{\"data_source\":{\"id\":\"c5476400-2794-439f-a301-6a7d1c9919e1\",\"type\":\"ColumnDataSource\"},\"glyph\":{\"id\":\"d37687b4-ce8b-46d1-a4c5-5e75867e1237\",\"type\":\"VBar\"},\"hover_glyph\":null,\"muted_glyph\":null,\"nonselection_glyph\":{\"id\":\"19c9144a-520b-49ca-af08-9a3154a1493b\",\"type\":\"VBar\"},\"selection_glyph\":null,\"view\":{\"id\":\"f2b8692a-e905-4efa-aa78-442ec0d9ba45\",\"type\":\"CDSView\"}},\"id\":\"92808bfc-a754-4463-a505-7f97d29f213a\",\"type\":\"GlyphRenderer\"},{\"attributes\":{},\"id\":\"851d57c5-49c6-4c1e-9e06-23c2759d10b6\",\"type\":\"CategoricalTicker\"},{\"attributes\":{\"plot\":null,\"text\":\"SFC flux. CLIRAD - CRD.\"},\"id\":\"9b260c9a-6c1c-47ab-918b-370d2a8e0097\",\"type\":\"Title\"},{\"attributes\":{\"fill_color\":{\"value\":\"#1f77b4\"},\"line_color\":{\"value\":\"#1f77b4\"},\"top\":{\"field\":\"flux\"},\"width\":{\"value\":0.9},\"x\":{\"field\":\"band\"}},\"id\":\"0a05e93b-70e5-403a-a3e9-790c3844c1dc\",\"type\":\"VBar\"},{\"attributes\":{},\"id\":\"f6c4f6a8-3380-4dc0-8161-fce0f6b0a782\",\"type\":\"UnionRenderers\"},{\"attributes\":{},\"id\":\"3f79382b-bcbf-43bc-ad6c-dc8ffda7f9f4\",\"type\":\"BasicTicker\"},{\"attributes\":{\"dimension\":1,\"plot\":{\"id\":\"43b2d7c3-68c0-48db-8d61-9b47e8ee6eac\",\"subtype\":\"Figure\",\"type\":\"Plot\"},\"ticker\":{\"id\":\"3f79382b-bcbf-43bc-ad6c-dc8ffda7f9f4\",\"type\":\"BasicTicker\"}},\"id\":\"9ce8ccc8-66fb-4b2d-b52b-563572d74b79\",\"type\":\"Grid\"},{\"attributes\":{\"axis_label\":\"flux (W m-2)\",\"formatter\":{\"id\":\"2c3b2c1f-177f-44a1-9731-0ee5af95e307\",\"type\":\"BasicTickFormatter\"},\"plot\":{\"id\":\"012f6a66-d847-4c03-9688-772634664d9d\",\"subtype\":\"Figure\",\"type\":\"Plot\"},\"ticker\":{\"id\":\"6eaa661e-d80f-4a58-9d34-5885449e1a7b\",\"type\":\"BasicTicker\"}},\"id\":\"acf38f09-5d8d-47c6-b424-41f8b199ef3f\",\"type\":\"LinearAxis\"},{\"attributes\":{},\"id\":\"c878ba30-f36d-4276-9123-d1017a662d11\",\"type\":\"BasicTickFormatter\"},{\"attributes\":{\"fill_alpha\":{\"value\":0.1},\"fill_color\":{\"value\":\"#1f77b4\"},\"line_alpha\":{\"value\":0.1},\"line_color\":{\"value\":\"#1f77b4\"},\"top\":{\"field\":\"flux\"},\"width\":{\"value\":0.9},\"x\":{\"field\":\"band\"}},\"id\":\"0f03fd11-d0ad-41e0-ae8d-5c139f97bf24\",\"type\":\"VBar\"},{\"attributes\":{\"bottom_units\":\"screen\",\"fill_alpha\":{\"value\":0.5},\"fill_color\":{\"value\":\"lightgrey\"},\"left_units\":\"screen\",\"level\":\"overlay\",\"line_alpha\":{\"value\":1.0},\"line_color\":{\"value\":\"black\"},\"line_dash\":[4,4],\"line_width\":{\"value\":2},\"plot\":null,\"render_mode\":\"css\",\"right_units\":\"screen\",\"top_units\":\"screen\"},\"id\":\"e25c1ed1-36ad-4c96-80e2-ab018eca1676\",\"type\":\"BoxAnnotation\"},{\"attributes\":{\"below\":[{\"id\":\"e6ceb750-3916-44f4-ada3-b28c4929df58\",\"type\":\"CategoricalAxis\"}],\"left\":[{\"id\":\"acf38f09-5d8d-47c6-b424-41f8b199ef3f\",\"type\":\"LinearAxis\"}],\"plot_height\":300,\"plot_width\":300,\"renderers\":[{\"id\":\"e6ceb750-3916-44f4-ada3-b28c4929df58\",\"type\":\"CategoricalAxis\"},{\"id\":\"49c32214-c883-4ca7-8586-85144259fed0\",\"type\":\"Grid\"},{\"id\":\"acf38f09-5d8d-47c6-b424-41f8b199ef3f\",\"type\":\"LinearAxis\"},{\"id\":\"b3f8d0fc-48b1-46a9-866d-d6d13d8211f5\",\"type\":\"Grid\"},{\"id\":\"1a6699f2-c4e2-4f71-9bd0-02a558d2ee45\",\"type\":\"BoxAnnotation\"},{\"id\":\"92808bfc-a754-4463-a505-7f97d29f213a\",\"type\":\"GlyphRenderer\"}],\"title\":{\"id\":\"9b260c9a-6c1c-47ab-918b-370d2a8e0097\",\"type\":\"Title\"},\"toolbar\":{\"id\":\"d804302f-25b8-45ad-9969-0578b9bc984a\",\"type\":\"Toolbar\"},\"toolbar_location\":null,\"x_range\":{\"id\":\"00558f84-213f-4352-b06b-524411ee39aa\",\"type\":\"FactorRange\"},\"x_scale\":{\"id\":\"28b9db11-ba92-486a-ba17-8e31842829e5\",\"type\":\"CategoricalScale\"},\"y_range\":{\"id\":\"7a1efda7-5a96-450b-a439-565ecb2cd40c\",\"type\":\"DataRange1d\"},\"y_scale\":{\"id\":\"e010fc4b-ef11-422c-97df-0c9e5d90271a\",\"type\":\"LinearScale\"}},\"id\":\"012f6a66-d847-4c03-9688-772634664d9d\",\"subtype\":\"Figure\",\"type\":\"Plot\"},{\"attributes\":{},\"id\":\"a6753d45-8c58-46d5-91d8-88b0e3c87fb5\",\"type\":\"PanTool\"},{\"attributes\":{\"data_source\":{\"id\":\"a00d07c7-ccfb-41fa-8d71-e13e282a4681\",\"type\":\"ColumnDataSource\"},\"glyph\":{\"id\":\"0a05e93b-70e5-403a-a3e9-790c3844c1dc\",\"type\":\"VBar\"},\"hover_glyph\":null,\"muted_glyph\":null,\"nonselection_glyph\":{\"id\":\"0f03fd11-d0ad-41e0-ae8d-5c139f97bf24\",\"type\":\"VBar\"},\"selection_glyph\":null,\"view\":{\"id\":\"6793cc45-9b59-402b-8467-5a8aa4b3bc71\",\"type\":\"CDSView\"}},\"id\":\"e4a63494-89f4-40de-80fb-be2490677c97\",\"type\":\"GlyphRenderer\"},{\"attributes\":{},\"id\":\"28b9db11-ba92-486a-ba17-8e31842829e5\",\"type\":\"CategoricalScale\"},{\"attributes\":{},\"id\":\"f87b7a31-43ff-4d34-a8b0-0d6ac5f4ad1f\",\"type\":\"WheelZoomTool\"},{\"attributes\":{\"children\":[{\"id\":\"43b2d7c3-68c0-48db-8d61-9b47e8ee6eac\",\"subtype\":\"Figure\",\"type\":\"Plot\"},{\"id\":\"012f6a66-d847-4c03-9688-772634664d9d\",\"subtype\":\"Figure\",\"type\":\"Plot\"},{\"id\":\"1f87576b-c9fa-4696-acc1-c3f3504e3415\",\"subtype\":\"Figure\",\"type\":\"Plot\"}]},\"id\":\"9fb9380b-f49f-4809-9264-ba80ce5cd751\",\"type\":\"Row\"},{\"attributes\":{\"overlay\":{\"id\":\"e25c1ed1-36ad-4c96-80e2-ab018eca1676\",\"type\":\"BoxAnnotation\"}},\"id\":\"2bd9b1de-4fa4-4751-b66c-f7e4b29fda30\",\"type\":\"BoxZoomTool\"},{\"attributes\":{},\"id\":\"8b2a1b8f-1520-4769-af93-852afe205cca\",\"type\":\"SaveTool\"},{\"attributes\":{},\"id\":\"e08c59fa-c714-474c-a53b-41a7f808f688\",\"type\":\"ResetTool\"},{\"attributes\":{\"fill_alpha\":{\"value\":0.1},\"fill_color\":{\"value\":\"#1f77b4\"},\"line_alpha\":{\"value\":0.1},\"line_color\":{\"value\":\"#1f77b4\"},\"top\":{\"field\":\"flux\"},\"width\":{\"value\":0.9},\"x\":{\"field\":\"band\"}},\"id\":\"19c9144a-520b-49ca-af08-9a3154a1493b\",\"type\":\"VBar\"},{\"attributes\":{},\"id\":\"e6ba7362-13b4-49c1-a2b2-ff1052b1bb89\",\"type\":\"HelpTool\"},{\"attributes\":{\"active_drag\":\"auto\",\"active_inspect\":\"auto\",\"active_scroll\":\"auto\",\"active_tap\":\"auto\",\"tools\":[{\"id\":\"c754be4b-08fe-4c61-8ba8-4236b1872698\",\"type\":\"PanTool\"},{\"id\":\"30b533cd-b883-4b2e-8d14-71339ff93436\",\"type\":\"WheelZoomTool\"},{\"id\":\"5b3398dd-2f30-46e5-b860-d1592e35ba9b\",\"type\":\"BoxZoomTool\"},{\"id\":\"b5735a76-fc05-4adc-9498-a297e4867be7\",\"type\":\"SaveTool\"},{\"id\":\"7167d0c1-1d99-4e9b-965f-0bcb26bb9bd5\",\"type\":\"ResetTool\"},{\"id\":\"0eae5949-91c6-4b80-98ba-4051b35b63ea\",\"type\":\"HelpTool\"}]},\"id\":\"d804302f-25b8-45ad-9969-0578b9bc984a\",\"type\":\"Toolbar\"},{\"attributes\":{},\"id\":\"4db92f7e-de8a-4044-bbf3-f67b91ba8372\",\"type\":\"CategoricalTicker\"},{\"attributes\":{\"callback\":null,\"data\":{\"band\":[\"7\"],\"flux\":{\"__ndarray__\":\"wA6FKpA0tT8=\",\"dtype\":\"float64\",\"shape\":[1]}},\"selected\":{\"id\":\"273e92c5-bc93-41d5-9df9-370eb2f0b142\",\"type\":\"Selection\"},\"selection_policy\":{\"id\":\"c923945f-e023-4f5c-a90d-875904743b2a\",\"type\":\"UnionRenderers\"}},\"id\":\"c5476400-2794-439f-a301-6a7d1c9919e1\",\"type\":\"ColumnDataSource\"},{\"attributes\":{\"callback\":null,\"data\":{\"band\":[\"7\"],\"flux\":{\"__ndarray__\":\"QCL430p2yj8=\",\"dtype\":\"float64\",\"shape\":[1]}},\"selected\":{\"id\":\"1b70b4bd-562f-4354-bf50-252ac8953bd5\",\"type\":\"Selection\"},\"selection_policy\":{\"id\":\"f6c4f6a8-3380-4dc0-8161-fce0f6b0a782\",\"type\":\"UnionRenderers\"}},\"id\":\"7cd66a05-e1d6-4ed5-886f-6e257ce23862\",\"type\":\"ColumnDataSource\"},{\"attributes\":{\"source\":{\"id\":\"a00d07c7-ccfb-41fa-8d71-e13e282a4681\",\"type\":\"ColumnDataSource\"}},\"id\":\"6793cc45-9b59-402b-8467-5a8aa4b3bc71\",\"type\":\"CDSView\"}],\"root_ids\":[\"55cede77-cc6d-474c-8d71-28c9817c512d\"]},\"title\":\"Bokeh Application\",\"version\":\"0.12.16\"}};\n",
       "  var render_items = [{\"docid\":\"c3659852-8e97-443b-a7c5-88306e1226c1\",\"elementid\":\"9875759b-49d1-4d32-ad3e-035c9d8f77ba\",\"modelid\":\"55cede77-cc6d-474c-8d71-28c9817c512d\"}];\n",
       "  root.Bokeh.embed.embed_items_notebook(docs_json, render_items);\n",
       "\n",
       "  }\n",
       "  if (root.Bokeh !== undefined) {\n",
       "    embed_document(root);\n",
       "  } else {\n",
       "    var attempts = 0;\n",
       "    var timer = setInterval(function(root) {\n",
       "      if (root.Bokeh !== undefined) {\n",
       "        embed_document(root);\n",
       "        clearInterval(timer);\n",
       "      }\n",
       "      attempts++;\n",
       "      if (attempts > 100) {\n",
       "        console.log(\"Bokeh: ERROR: Unable to run BokehJS code because BokehJS library is missing\")\n",
       "        clearInterval(timer);\n",
       "      }\n",
       "    }, 10, root)\n",
       "  }\n",
       "})(window);"
      ],
      "application/vnd.bokehjs_exec.v0+json": ""
     },
     "metadata": {
      "application/vnd.bokehjs_exec.v0+json": {
       "id": "55cede77-cc6d-474c-8d71-28c9817c512d"
      }
     },
     "output_type": "display_data"
    },
    {
     "data": {
      "text/markdown": [
       "*FIGURE.* Difference between CLIRAD and CRD in TOA, SFC and net atmosphere flux, in each spectral band."
      ],
      "text/plain": [
       "<IPython.core.display.Markdown object>"
      ]
     },
     "metadata": {},
     "output_type": "display_data"
    },
    {
     "data": {
      "text/html": [
       "<div>\n",
       "<style scoped>\n",
       "    .dataframe tbody tr th:only-of-type {\n",
       "        vertical-align: middle;\n",
       "    }\n",
       "\n",
       "    .dataframe tbody tr th {\n",
       "        vertical-align: top;\n",
       "    }\n",
       "\n",
       "    .dataframe thead th {\n",
       "        text-align: right;\n",
       "    }\n",
       "</style>\n",
       "<table border=\"1\" class=\"dataframe\">\n",
       "  <thead>\n",
       "    <tr style=\"text-align: right;\">\n",
       "      <th></th>\n",
       "      <th>OLR flux</th>\n",
       "      <th>SFC flux</th>\n",
       "      <th>ATM heating</th>\n",
       "    </tr>\n",
       "    <tr>\n",
       "      <th>Sum over bands</th>\n",
       "      <th></th>\n",
       "      <th></th>\n",
       "      <th></th>\n",
       "    </tr>\n",
       "  </thead>\n",
       "  <tbody>\n",
       "    <tr>\n",
       "      <th>CLIRAD - CRD</th>\n",
       "      <td>0.29</td>\n",
       "      <td>0.08</td>\n",
       "      <td>0.21</td>\n",
       "    </tr>\n",
       "    <tr>\n",
       "      <th>CRD</th>\n",
       "      <td>-11.00</td>\n",
       "      <td>2.80</td>\n",
       "      <td>1.25</td>\n",
       "    </tr>\n",
       "  </tbody>\n",
       "</table>\n",
       "</div>"
      ],
      "text/plain": [
       "                OLR flux  SFC flux  ATM heating\n",
       "Sum over bands                                 \n",
       "CLIRAD - CRD        0.29      0.08         0.21\n",
       "CRD               -11.00      2.80         1.25"
      ]
     },
     "metadata": {},
     "output_type": "display_data"
    },
    {
     "data": {
      "text/markdown": [
       "*TABLE.* Difference between CLIRAD and CRD in TOA, SFC and net atmosphere flux, over all spectral bands. CRD's TOA, SFC and net atmosphere flux, over all spectral bands."
      ],
      "text/plain": [
       "<IPython.core.display.Markdown object>"
      ]
     },
     "metadata": {},
     "output_type": "display_data"
    },
    {
     "data": {
      "text/html": [
       "<a id=\"Cooling_rates._trp.\"></a>"
      ],
      "text/plain": [
       "<IPython.core.display.HTML object>"
      ]
     },
     "metadata": {},
     "output_type": "display_data"
    },
    {
     "data": {
      "text/markdown": [
       "# Cooling rates. trp."
      ],
      "text/plain": [
       "<IPython.core.display.Markdown object>"
      ]
     },
     "metadata": {},
     "output_type": "display_data"
    },
    {
     "data": {
      "text/html": [
       "\n",
       "<div class=\"bk-root\">\n",
       "    <div class=\"bk-plotdiv\" id=\"ee903bff-d69e-43c8-bec5-6e95b467e208\"></div>\n",
       "</div>"
      ]
     },
     "metadata": {},
     "output_type": "display_data"
    },
    {
     "data": {
      "application/javascript": [
       "(function(root) {\n",
       "  function embed_document(root) {\n",
       "    \n",
       "  var docs_json = {\"e1026dd7-d207-48c3-9212-866804c19963\":{\"roots\":{\"references\":[{\"attributes\":{\"label\":{\"value\":\"CRD\"},\"renderers\":[{\"id\":\"2ce5b458-962f-4774-a25d-a626c77e5e52\",\"type\":\"GlyphRenderer\"},{\"id\":\"81959fd5-6fdc-42ec-aabe-8b0475135937\",\"type\":\"GlyphRenderer\"}]},\"id\":\"e7c9f1f1-220f-44b6-84c7-81b3b217bd2e\",\"type\":\"LegendItem\"},{\"attributes\":{\"overlay\":{\"id\":\"a8db1f3f-f5ad-4144-a49b-de4b0f1d96e1\",\"type\":\"BoxAnnotation\"}},\"id\":\"85d25dfa-5bef-48e7-b51c-8785627362f3\",\"type\":\"BoxZoomTool\"},{\"attributes\":{\"axis_label\":\"pressure [mb]\",\"formatter\":{\"id\":\"a22e9cba-7cf8-41e3-b75c-9137ade16447\",\"type\":\"BasicTickFormatter\"},\"plot\":{\"id\":\"47609bcc-03e7-406d-8e5f-cc6a29bdae0a\",\"subtype\":\"Figure\",\"type\":\"Plot\"},\"ticker\":{\"id\":\"ce72e365-f61e-49e1-a606-601b279a7cf9\",\"type\":\"BasicTicker\"}},\"id\":\"11de1260-88f3-4a95-ae68-db2e4fc81b50\",\"type\":\"LinearAxis\"},{\"attributes\":{\"plot\":{\"id\":\"47609bcc-03e7-406d-8e5f-cc6a29bdae0a\",\"subtype\":\"Figure\",\"type\":\"Plot\"},\"ticker\":{\"id\":\"518f9756-e4a4-40b5-8900-c1fece5aad40\",\"type\":\"BasicTicker\"}},\"id\":\"623315e7-ec09-4363-8f56-5d1a2008107f\",\"type\":\"Grid\"},{\"attributes\":{},\"id\":\"ce72e365-f61e-49e1-a606-601b279a7cf9\",\"type\":\"BasicTicker\"},{\"attributes\":{\"source\":{\"id\":\"1bd06ca1-4871-4dcb-b230-392c3e8ad234\",\"type\":\"ColumnDataSource\"}},\"id\":\"706ca56b-e3e9-455a-9a8f-5f5bf89f6afb\",\"type\":\"CDSView\"},{\"attributes\":{},\"id\":\"54f22d41-98fd-40b3-9876-fa45844b75d2\",\"type\":\"LogScale\"},{\"attributes\":{\"bottom_units\":\"screen\",\"fill_alpha\":{\"value\":0.5},\"fill_color\":{\"value\":\"lightgrey\"},\"left_units\":\"screen\",\"level\":\"overlay\",\"line_alpha\":{\"value\":1.0},\"line_color\":{\"value\":\"black\"},\"line_dash\":[4,4],\"line_width\":{\"value\":2},\"plot\":null,\"render_mode\":\"css\",\"right_units\":\"screen\",\"top_units\":\"screen\"},\"id\":\"a8db1f3f-f5ad-4144-a49b-de4b0f1d96e1\",\"type\":\"BoxAnnotation\"},{\"attributes\":{},\"id\":\"bb1d1ba1-bdbc-4ae3-9481-b2ee5cd724ff\",\"type\":\"HelpTool\"},{\"attributes\":{\"data_source\":{\"id\":\"573baf46-e08e-48ce-a208-978b0d820331\",\"type\":\"ColumnDataSource\"},\"glyph\":{\"id\":\"07560792-55ef-41cc-b6d3-ea118bef0bd5\",\"type\":\"Circle\"},\"hover_glyph\":null,\"muted_glyph\":null,\"nonselection_glyph\":{\"id\":\"8fb386f0-a191-4410-affa-0ff45285999f\",\"type\":\"Circle\"},\"selection_glyph\":null,\"view\":{\"id\":\"8a59be01-b48d-49d3-976c-0ad94cbe91a4\",\"type\":\"CDSView\"}},\"id\":\"3ab3058e-9b2b-4490-95f5-283a203040c0\",\"type\":\"GlyphRenderer\"},{\"attributes\":{\"above\":[{\"id\":\"c67e6b1a-f41f-4db9-910f-6f17985941d5\",\"type\":\"Legend\"}],\"below\":[{\"id\":\"b59f0435-14fc-4e28-b65c-59d2966c7225\",\"type\":\"LinearAxis\"}],\"left\":[{\"id\":\"9b8e443c-4a75-4450-b009-fdf2c0fea29a\",\"type\":\"LogAxis\"}],\"plot_width\":300,\"renderers\":[{\"id\":\"b59f0435-14fc-4e28-b65c-59d2966c7225\",\"type\":\"LinearAxis\"},{\"id\":\"50ab4f75-7428-4e95-bd2b-15a8e55875a3\",\"type\":\"Grid\"},{\"id\":\"9b8e443c-4a75-4450-b009-fdf2c0fea29a\",\"type\":\"LogAxis\"},{\"id\":\"6b2beb62-4584-4162-b2f0-09efcb779779\",\"type\":\"Grid\"},{\"id\":\"206c0213-7ebc-4bb5-9150-1cce475b4bd7\",\"type\":\"BoxAnnotation\"},{\"id\":\"724b976f-0475-4e98-b77b-b21b7172ca2f\",\"type\":\"GlyphRenderer\"},{\"id\":\"2ce5b458-962f-4774-a25d-a626c77e5e52\",\"type\":\"GlyphRenderer\"},{\"id\":\"81959fd5-6fdc-42ec-aabe-8b0475135937\",\"type\":\"GlyphRenderer\"},{\"id\":\"c67e6b1a-f41f-4db9-910f-6f17985941d5\",\"type\":\"Legend\"}],\"title\":{\"id\":\"bc3687f2-362f-4238-88e9-52d3046fa268\",\"type\":\"Title\"},\"toolbar\":{\"id\":\"a37b41f1-d200-4ebb-9a9d-9d6a3fe9142f\",\"type\":\"Toolbar\"},\"toolbar_location\":null,\"x_range\":{\"id\":\"9f8845e9-d863-4828-af08-4f84f1b7294a\",\"type\":\"Range1d\"},\"x_scale\":{\"id\":\"3933a312-647d-4364-b96e-c3c9817de297\",\"type\":\"LinearScale\"},\"y_range\":{\"id\":\"b71776a2-34e1-465d-9147-541d95110ee8\",\"type\":\"Range1d\"},\"y_scale\":{\"id\":\"af8eb1af-a25b-4038-ba98-ad8ed87f7da4\",\"type\":\"LogScale\"}},\"id\":\"9aa3985b-ae47-4e17-b304-c1d2bfe6f8e6\",\"subtype\":\"Figure\",\"type\":\"Plot\"},{\"attributes\":{\"fill_alpha\":{\"value\":0.1},\"fill_color\":{\"value\":\"#1f77b4\"},\"line_alpha\":{\"value\":0.1},\"line_color\":{\"value\":\"#1f77b4\"},\"x\":{\"field\":\"x\"},\"y\":{\"field\":\"y\"}},\"id\":\"d8bba886-0de7-498f-8100-b92757307bdd\",\"type\":\"Circle\"},{\"attributes\":{\"fill_alpha\":{\"value\":0.7},\"fill_color\":{\"value\":\"#4daf4a\"},\"line_alpha\":{\"value\":0.7},\"line_color\":{\"value\":\"#4daf4a\"},\"x\":{\"field\":\"x\"},\"y\":{\"field\":\"y\"}},\"id\":\"07560792-55ef-41cc-b6d3-ea118bef0bd5\",\"type\":\"Circle\"},{\"attributes\":{\"fill_alpha\":{\"value\":0.1},\"fill_color\":{\"value\":\"#1f77b4\"},\"line_alpha\":{\"value\":0.1},\"line_color\":{\"value\":\"#1f77b4\"},\"x\":{\"field\":\"x\"},\"y\":{\"field\":\"y\"}},\"id\":\"8fb386f0-a191-4410-affa-0ff45285999f\",\"type\":\"Circle\"},{\"attributes\":{},\"id\":\"ffa1a852-3b1a-4564-895f-e41eff17a0ec\",\"type\":\"SaveTool\"},{\"attributes\":{},\"id\":\"1a81ede4-e745-4806-8d94-25fba1990201\",\"type\":\"BasicTicker\"},{\"attributes\":{},\"id\":\"d1184790-f4cb-41bd-ab05-87d4eea728e6\",\"type\":\"BasicTicker\"},{\"attributes\":{},\"id\":\"eef9e2e3-acfa-4777-8282-e1a2f876d1d1\",\"type\":\"LinearScale\"},{\"attributes\":{\"line_color\":\"#4daf4a\",\"line_width\":1.5,\"x\":{\"field\":\"x\"},\"y\":{\"field\":\"y\"}},\"id\":\"7b18ecef-ca6c-4d96-b5df-89372c11b604\",\"type\":\"Line\"},{\"attributes\":{\"axis_label\":\"pressure [mb]\",\"formatter\":{\"id\":\"fbe13c7d-93ab-42bf-8c77-88da29345703\",\"type\":\"LogTickFormatter\"},\"plot\":{\"id\":\"9aa3985b-ae47-4e17-b304-c1d2bfe6f8e6\",\"subtype\":\"Figure\",\"type\":\"Plot\"},\"ticker\":{\"id\":\"9a507d2b-fa22-4166-84cc-e127bd5bc97a\",\"type\":\"LogTicker\"}},\"id\":\"9b8e443c-4a75-4450-b009-fdf2c0fea29a\",\"type\":\"LogAxis\"},{\"attributes\":{\"num_minor_ticks\":10},\"id\":\"ec170f3c-513d-42a1-8576-c1a8e54deace\",\"type\":\"LogTicker\"},{\"attributes\":{\"source\":{\"id\":\"a7dca1d9-b402-4905-b138-d52417a9690a\",\"type\":\"ColumnDataSource\"}},\"id\":\"b90ea2ba-0525-4777-a51a-b0f59aa1448d\",\"type\":\"CDSView\"},{\"attributes\":{\"plot\":{\"id\":\"77f90699-dd52-41bf-9867-cd41a957c13e\",\"subtype\":\"Figure\",\"type\":\"Plot\"},\"ticker\":{\"id\":\"d1184790-f4cb-41bd-ab05-87d4eea728e6\",\"type\":\"BasicTicker\"}},\"id\":\"a1cc29f7-b236-4bc0-94af-b3ebe6221062\",\"type\":\"Grid\"},{\"attributes\":{},\"id\":\"2cabaad4-2260-43ab-bd58-263795a48020\",\"type\":\"PanTool\"},{\"attributes\":{\"line_alpha\":0.6,\"line_color\":\"#e41a1c\",\"line_dash\":[6],\"line_width\":5,\"x\":{\"field\":\"x\"},\"y\":{\"field\":\"y\"}},\"id\":\"b9e09495-7c1f-43e1-8660-93dddf9e2188\",\"type\":\"Line\"},{\"attributes\":{\"axis_label\":\"cooling rate [K/day]\",\"formatter\":{\"id\":\"98f19b7a-58b7-48c5-8b92-075d2e6c9562\",\"type\":\"BasicTickFormatter\"},\"plot\":{\"id\":\"9aa3985b-ae47-4e17-b304-c1d2bfe6f8e6\",\"subtype\":\"Figure\",\"type\":\"Plot\"},\"ticker\":{\"id\":\"1a81ede4-e745-4806-8d94-25fba1990201\",\"type\":\"BasicTicker\"}},\"id\":\"b59f0435-14fc-4e28-b65c-59d2966c7225\",\"type\":\"LinearAxis\"},{\"attributes\":{},\"id\":\"af8eb1af-a25b-4038-ba98-ad8ed87f7da4\",\"type\":\"LogScale\"},{\"attributes\":{\"dimension\":1,\"plot\":{\"id\":\"77f90699-dd52-41bf-9867-cd41a957c13e\",\"subtype\":\"Figure\",\"type\":\"Plot\"},\"ticker\":{\"id\":\"ec170f3c-513d-42a1-8576-c1a8e54deace\",\"type\":\"LogTicker\"}},\"id\":\"1e9a93d1-aef6-4339-a409-b165c230cd62\",\"type\":\"Grid\"},{\"attributes\":{\"label\":{\"value\":\"CRD\"},\"renderers\":[{\"id\":\"3ab3058e-9b2b-4490-95f5-283a203040c0\",\"type\":\"GlyphRenderer\"},{\"id\":\"f7a0bb0d-c125-449e-8409-04467b17163a\",\"type\":\"GlyphRenderer\"}]},\"id\":\"311e482b-bb29-459f-a926-ca8c0ad39b2a\",\"type\":\"LegendItem\"},{\"attributes\":{},\"id\":\"094282dc-1fd9-4911-a7a3-722271374480\",\"type\":\"UnionRenderers\"},{\"attributes\":{\"data_source\":{\"id\":\"1bd06ca1-4871-4dcb-b230-392c3e8ad234\",\"type\":\"ColumnDataSource\"},\"glyph\":{\"id\":\"7b18ecef-ca6c-4d96-b5df-89372c11b604\",\"type\":\"Line\"},\"hover_glyph\":null,\"muted_glyph\":null,\"nonselection_glyph\":{\"id\":\"22b1b41e-ffac-42c2-91b7-43f18a563646\",\"type\":\"Line\"},\"selection_glyph\":null,\"view\":{\"id\":\"706ca56b-e3e9-455a-9a8f-5f5bf89f6afb\",\"type\":\"CDSView\"}},\"id\":\"f7a0bb0d-c125-449e-8409-04467b17163a\",\"type\":\"GlyphRenderer\"},{\"attributes\":{},\"id\":\"c46f868b-db1c-408c-a55b-211a5d2d79a4\",\"type\":\"Selection\"},{\"attributes\":{\"plot\":{\"id\":\"9aa3985b-ae47-4e17-b304-c1d2bfe6f8e6\",\"subtype\":\"Figure\",\"type\":\"Plot\"},\"ticker\":{\"id\":\"1a81ede4-e745-4806-8d94-25fba1990201\",\"type\":\"BasicTicker\"}},\"id\":\"50ab4f75-7428-4e95-bd2b-15a8e55875a3\",\"type\":\"Grid\"},{\"attributes\":{},\"id\":\"3933a312-647d-4364-b96e-c3c9817de297\",\"type\":\"LinearScale\"},{\"attributes\":{\"axis_label\":\"cooling rate [K/day]\",\"formatter\":{\"id\":\"7b06c2cf-5bda-4cb1-92c3-498bcf583f97\",\"type\":\"BasicTickFormatter\"},\"plot\":{\"id\":\"77f90699-dd52-41bf-9867-cd41a957c13e\",\"subtype\":\"Figure\",\"type\":\"Plot\"},\"ticker\":{\"id\":\"d1184790-f4cb-41bd-ab05-87d4eea728e6\",\"type\":\"BasicTicker\"}},\"id\":\"cbf77dd0-4741-4c82-a822-4a7922c976ca\",\"type\":\"LinearAxis\"},{\"attributes\":{\"above\":[{\"id\":\"2ad2d269-1bb4-40f3-9252-450af6d884e7\",\"type\":\"Legend\"}],\"below\":[{\"id\":\"cbf77dd0-4741-4c82-a822-4a7922c976ca\",\"type\":\"LinearAxis\"}],\"left\":[{\"id\":\"31cbdf9e-4249-4d80-957e-d40ed489e4d6\",\"type\":\"LogAxis\"}],\"plot_width\":300,\"renderers\":[{\"id\":\"cbf77dd0-4741-4c82-a822-4a7922c976ca\",\"type\":\"LinearAxis\"},{\"id\":\"a1cc29f7-b236-4bc0-94af-b3ebe6221062\",\"type\":\"Grid\"},{\"id\":\"31cbdf9e-4249-4d80-957e-d40ed489e4d6\",\"type\":\"LogAxis\"},{\"id\":\"1e9a93d1-aef6-4339-a409-b165c230cd62\",\"type\":\"Grid\"},{\"id\":\"10f46dbd-dcdd-4d45-8aa3-1d1ddeb1d961\",\"type\":\"BoxAnnotation\"},{\"id\":\"58432738-9142-4911-a592-44cd40804f92\",\"type\":\"GlyphRenderer\"},{\"id\":\"ab7b938c-7590-4b06-aca0-816fef9bf0c3\",\"type\":\"GlyphRenderer\"},{\"id\":\"2ad2d269-1bb4-40f3-9252-450af6d884e7\",\"type\":\"Legend\"}],\"title\":{\"id\":\"b54fac55-330e-4a17-8ab1-647011717a07\",\"type\":\"Title\"},\"toolbar\":{\"id\":\"c121e067-600e-4ff8-9e0c-bb5b1f0625e9\",\"type\":\"Toolbar\"},\"toolbar_location\":null,\"x_range\":{\"id\":\"7501d251-c476-421b-b3ce-7dbcc5010f16\",\"type\":\"Range1d\"},\"x_scale\":{\"id\":\"eef9e2e3-acfa-4777-8282-e1a2f876d1d1\",\"type\":\"LinearScale\"},\"y_range\":{\"id\":\"94b88310-7bf6-42ea-8c72-aa593d694d17\",\"type\":\"Range1d\"},\"y_scale\":{\"id\":\"54f22d41-98fd-40b3-9876-fa45844b75d2\",\"type\":\"LogScale\"}},\"id\":\"77f90699-dd52-41bf-9867-cd41a957c13e\",\"subtype\":\"Figure\",\"type\":\"Plot\"},{\"attributes\":{\"overlay\":{\"id\":\"10f46dbd-dcdd-4d45-8aa3-1d1ddeb1d961\",\"type\":\"BoxAnnotation\"}},\"id\":\"b1f67f2c-43d5-40e9-aa3c-98678730ac47\",\"type\":\"BoxZoomTool\"},{\"attributes\":{},\"id\":\"0ebe4f66-d0ba-4d29-b908-1bcd94e30637\",\"type\":\"Selection\"},{\"attributes\":{\"label\":{\"value\":\"CLIRAD\"},\"renderers\":[{\"id\":\"c788e431-32f3-4bc3-b5e8-c5144a797120\",\"type\":\"GlyphRenderer\"}]},\"id\":\"18bb2ec5-2a79-4468-bbc0-3f0b752c8fb7\",\"type\":\"LegendItem\"},{\"attributes\":{},\"id\":\"bcc1dce5-7934-42c8-beb6-bc9c9c2c8e91\",\"type\":\"ResetTool\"},{\"attributes\":{\"callback\":null,\"data\":{\"x\":{\"__ndarray__\":\"L51n0PYGo7/as8vdBU+lv6Rd+eqysam/VfWIV63arb+cJbyVCeWwv0mGYzBbv7K/auoe1KN7tL8mdjp+Ehm2v4I1ye1pl7e/dumoaIH9uL+/0ERUuFC6v3ju+z+glru/oQFpvefZvL/+pfvvd969v6GXm7nREb2//ieqd+sOtb+E+1N7MOhWv536m6tBc8E/84wBAmvP1T8eEfhoFu3jP9VJz1c93u8/uNyqNd7n9j8eR2I4jUP7P+Mh51g5D/s/W4mKgipf+D+4/gLmxlnzP5rD/2fee+s/QwaPwjdl4j8YU7g3IozXP5OcfhZsn8U/WQn8Mi+/sb8fqkJm26fSv6pqejezKd6/MB1KH4AV4r9xVI+wf+ngv7tK0pBMota/7Agzrxudxr/Jfi/oMYi8v/5VA3F3hre/vs4gGurrs7+vnamJnhGxvzow64ulxKy/GLNnx/QhqL9PEkgSTzmkv6jVDoFOAaG/jtK5YzDNnL9hdQ/Jw1SYv7IL4A86RpS/MWpFO3GwkL9GOjFbGg6Lv6LwveUIHoW/FMdp30/afr/O6IKT2Olzv/lt5z6iyWK/liHw70DNJz/RKwA3GwxlPweDwzjs+HM/fJ3HbaMdfT+rt4zvGfaCP97t1SL9UYc/yrEOqoGkiz/yQPf096OPP3c+/C/phZE/FrgCKwPekj/sKiN8j/2TP4IZwEz1E5U/+2qLjos6lj/n+Z5UpXSXP0adw/n3wJg/Htm6ptARmj8BZN5mzlObPyQo9Zpbd5w/yuuJ+pmEnT/DLZsQpYOeP2o6ltKOdp8/\",\"dtype\":\"float64\",\"shape\":[75]},\"y\":{\"__ndarray__\":\"GhExyth1ND/Sv8nbtpRIP2vylNV0PVE/aTum7souWD/At0SJ8fVgPw3Iuahxymc/MSNhhJWvcD/bTfBN02d3P2zb5nxnaoA/CD5h5MAGhz8NmeH1TyaQP+zrCsc9p5Y/LbKd76fGnz/bLW5ISEmmPww9YvTcQq8/JV2OstnstT8Er5Y7M8G+P0c+r3jqkcU/5h99k6ZBzj88bCIzFzjVP4enV8oyxN0//yH99nXg5D8qOpLLf0jtP5kqGJXUifQ/c9cS8kHP/D+/DpwzojQEQIEmwoanVwxA4lgXt9HgE0BSSZ2AJuIbQAMJih9jjiNA5q4l5INuK0AwTKYKRj0zQNv5fmq8/DpAaCJseHrtQkB/+zpwzoxKQM3MzMzMeFJAZmZmZmZqWEAAAAAAAFxeQM3MzMzMJmJAmpmZmZkfZUBmZmZmZhhoQDMzMzMzEWtAAAAAAAAKbkBmZmZmZoFwQM3MzMzM/XFAMzMzMzN6c0CamZmZmfZ0QAAAAAAAc3ZAZmZmZmbvd0DNzMzMzGt5QDMzMzMz6HpAmpmZmZlkfEAAAAAAAOF9QGZmZmZmXX9AZmZmZuZsgECamZmZGSuBQM3MzMxM6YFAAAAAAICngkAzMzMzs2WDQGZmZmbmI4RAmpmZmRnihEDNzMzMTKCFQAAAAACAXoZAMzMzM7Mch0BmZmZm5tqHQJqZmZkZmYhAzczMzExXiUAAAAAAgBWKQDMzMzOz04pAZmZmZuaRi0CamZmZGVCMQM3MzMxMDo1AAAAAAIDMjUAzMzMzs4qOQGZmZmbmSI9A\",\"dtype\":\"float64\",\"shape\":[75]}},\"selected\":{\"id\":\"972288cb-b322-47b1-96cd-909cdacfe3f1\",\"type\":\"Selection\"},\"selection_policy\":{\"id\":\"7097cd3f-ee4e-4f9a-800a-9c0200cf82e8\",\"type\":\"UnionRenderers\"}},\"id\":\"573baf46-e08e-48ce-a208-978b0d820331\",\"type\":\"ColumnDataSource\"},{\"attributes\":{\"callback\":null,\"data\":{\"x\":{\"__ndarray__\":\"LhhzD71Qnr9+1pIUrP+gv/Ngg2z2k6S/VR1lCdoAqL9wHqcYgkSrv/bwI4Y2Y66/JpcsEgaqsL/AnxK+lA2yv8fiNM0GXLO/1g3UXICTtL//MLuHgbe1v3Irnildwra/i/2VMPu+t7+K+72EcnG4v2lW/eQE+re/ymhjc3VKsr+cbJpuBjWCvwtyQOC7rLo/9eOjg/3w0T8Qex1ISRXhP93X3Cy5Jew/NZvHYTCf9D+9YezOJFv5Px7zpsdbM/o/xRW8jXL19z82M58Y/rjyPxsHA3QENeo/bovw/pGs4T8GamsjIqXXP+elpH8wDcg/Dky/W1jrqr+iP9k5conSv1+UZhRHdd+/q9Cb5Q3L47/Q8fLwdSTjv8OmxjKa6Ni/ZFlyDRqXx78yGjvZtO+8v76qzPcAm7e/BGOqhBrKs794Yh1hLcuwvxx7TF1fD6y/EeFQ2V9fp7//SqeoDHmjvxuYFNMQS6C/oG5PeTx5m781xnI+gR+Xv6sQYYzgMJO/8lD6kw95j7+S47ETHGaJv8ccCGgitYO/JDY5K4uKfL/OIqGXFBJyv2/UJ01MHWC/yagkEXq+OT8JdeOufcBlP4UzQdJ81XM/0txkPqJ1fD/hXSRwyF+CP1Nu3fjTeYY/5viy/uCNij+zuW9X3VqOP32m/kTc0ZA/Ei2LH+knkj9RmEZ/p0qTP8os9CGlYpQ/3yesLIiDlT98h853X7GWP3x8Y4TH6Zc/Rn2SO2wimT+UkY/qL0yaPxGBxxAwVZs/PpRHu/pGnD8yQ7VRNSudPxFZl191AJ4/\",\"dtype\":\"float64\",\"shape\":[75]},\"y\":{\"__ndarray__\":\"GhExyth1ND/Sv8nbtpRIP2vylNV0PVE/aTum7souWD/At0SJ8fVgPw3Iuahxymc/MSNhhJWvcD/bTfBN02d3P2zb5nxnaoA/CD5h5MAGhz8NmeH1TyaQP+zrCsc9p5Y/LbKd76fGnz/bLW5ISEmmPww9YvTcQq8/JV2OstnstT8Er5Y7M8G+P0c+r3jqkcU/5h99k6ZBzj88bCIzFzjVP4enV8oyxN0//yH99nXg5D8qOpLLf0jtP5kqGJXUifQ/c9cS8kHP/D+/DpwzojQEQIEmwoanVwxA4lgXt9HgE0BSSZ2AJuIbQAMJih9jjiNA5q4l5INuK0AwTKYKRj0zQNv5fmq8/DpAaCJseHrtQkB/+zpwzoxKQM3MzMzMeFJAZmZmZmZqWEAAAAAAAFxeQM3MzMzMJmJAmpmZmZkfZUBmZmZmZhhoQDMzMzMzEWtAAAAAAAAKbkBmZmZmZoFwQM3MzMzM/XFAMzMzMzN6c0CamZmZmfZ0QAAAAAAAc3ZAZmZmZmbvd0DNzMzMzGt5QDMzMzMz6HpAmpmZmZlkfEAAAAAAAOF9QGZmZmZmXX9AZmZmZuZsgECamZmZGSuBQM3MzMxM6YFAAAAAAICngkAzMzMzs2WDQGZmZmbmI4RAmpmZmRnihEDNzMzMTKCFQAAAAACAXoZAMzMzM7Mch0BmZmZm5tqHQJqZmZkZmYhAzczMzExXiUAAAAAAgBWKQDMzMzOz04pAZmZmZuaRi0CamZmZGVCMQM3MzMxMDo1AAAAAAIDMjUAzMzMzs4qOQGZmZmbmSI9A\",\"dtype\":\"float64\",\"shape\":[75]}},\"selected\":{\"id\":\"3243675d-3953-4379-b934-6261ae157af5\",\"type\":\"Selection\"},\"selection_policy\":{\"id\":\"b1f5a929-63e0-420a-a682-0c6b9172ab40\",\"type\":\"UnionRenderers\"}},\"id\":\"eaef5e2a-cf1b-4ab4-9ffc-157175d82ccc\",\"type\":\"ColumnDataSource\"},{\"attributes\":{},\"id\":\"3243675d-3953-4379-b934-6261ae157af5\",\"type\":\"Selection\"},{\"attributes\":{\"callback\":null,\"data\":{\"x\":{\"__ndarray__\":\"L51n0PYGo7/as8vdBU+lv6Rd+eqysam/VfWIV63arb+cJbyVCeWwv0mGYzBbv7K/auoe1KN7tL8mdjp+Ehm2v4I1ye1pl7e/dumoaIH9uL+/0ERUuFC6v3ju+z+glru/oQFpvefZvL/+pfvvd969v6GXm7nREb2//ieqd+sOtb+E+1N7MOhWv536m6tBc8E/84wBAmvP1T8eEfhoFu3jP9VJz1c93u8/uNyqNd7n9j8eR2I4jUP7P+Mh51g5D/s/W4mKgipf+D+4/gLmxlnzP5rD/2fee+s/QwaPwjdl4j8YU7g3IozXP5OcfhZsn8U/WQn8Mi+/sb8fqkJm26fSv6pqejezKd6/MB1KH4AV4r9xVI+wf+ngv7tK0pBMota/7Agzrxudxr/Jfi/oMYi8v/5VA3F3hre/vs4gGurrs7+vnamJnhGxvzow64ulxKy/GLNnx/QhqL9PEkgSTzmkv6jVDoFOAaG/jtK5YzDNnL9hdQ/Jw1SYv7IL4A86RpS/MWpFO3GwkL9GOjFbGg6Lv6LwveUIHoW/FMdp30/afr/O6IKT2Olzv/lt5z6iyWK/liHw70DNJz/RKwA3GwxlPweDwzjs+HM/fJ3HbaMdfT+rt4zvGfaCP97t1SL9UYc/yrEOqoGkiz/yQPf096OPP3c+/C/phZE/FrgCKwPekj/sKiN8j/2TP4IZwEz1E5U/+2qLjos6lj/n+Z5UpXSXP0adw/n3wJg/Htm6ptARmj8BZN5mzlObPyQo9Zpbd5w/yuuJ+pmEnT/DLZsQpYOeP2o6ltKOdp8/\",\"dtype\":\"float64\",\"shape\":[75]},\"y\":{\"__ndarray__\":\"GhExyth1ND/Sv8nbtpRIP2vylNV0PVE/aTum7souWD/At0SJ8fVgPw3Iuahxymc/MSNhhJWvcD/bTfBN02d3P2zb5nxnaoA/CD5h5MAGhz8NmeH1TyaQP+zrCsc9p5Y/LbKd76fGnz/bLW5ISEmmPww9YvTcQq8/JV2OstnstT8Er5Y7M8G+P0c+r3jqkcU/5h99k6ZBzj88bCIzFzjVP4enV8oyxN0//yH99nXg5D8qOpLLf0jtP5kqGJXUifQ/c9cS8kHP/D+/DpwzojQEQIEmwoanVwxA4lgXt9HgE0BSSZ2AJuIbQAMJih9jjiNA5q4l5INuK0AwTKYKRj0zQNv5fmq8/DpAaCJseHrtQkB/+zpwzoxKQM3MzMzMeFJAZmZmZmZqWEAAAAAAAFxeQM3MzMzMJmJAmpmZmZkfZUBmZmZmZhhoQDMzMzMzEWtAAAAAAAAKbkBmZmZmZoFwQM3MzMzM/XFAMzMzMzN6c0CamZmZmfZ0QAAAAAAAc3ZAZmZmZmbvd0DNzMzMzGt5QDMzMzMz6HpAmpmZmZlkfEAAAAAAAOF9QGZmZmZmXX9AZmZmZuZsgECamZmZGSuBQM3MzMxM6YFAAAAAAICngkAzMzMzs2WDQGZmZmbmI4RAmpmZmRnihEDNzMzMTKCFQAAAAACAXoZAMzMzM7Mch0BmZmZm5tqHQJqZmZkZmYhAzczMzExXiUAAAAAAgBWKQDMzMzOz04pAZmZmZuaRi0CamZmZGVCMQM3MzMxMDo1AAAAAAIDMjUAzMzMzs4qOQGZmZmbmSI9A\",\"dtype\":\"float64\",\"shape\":[75]}},\"selected\":{\"id\":\"a2cf0f17-05f2-41de-adb8-7bd10b44cf99\",\"type\":\"Selection\"},\"selection_policy\":{\"id\":\"07d80cfa-6d3a-453c-a45c-158d013a0512\",\"type\":\"UnionRenderers\"}},\"id\":\"1bd06ca1-4871-4dcb-b230-392c3e8ad234\",\"type\":\"ColumnDataSource\"},{\"attributes\":{\"source\":{\"id\":\"573baf46-e08e-48ce-a208-978b0d820331\",\"type\":\"ColumnDataSource\"}},\"id\":\"8a59be01-b48d-49d3-976c-0ad94cbe91a4\",\"type\":\"CDSView\"},{\"attributes\":{\"data_source\":{\"id\":\"a7dca1d9-b402-4905-b138-d52417a9690a\",\"type\":\"ColumnDataSource\"},\"glyph\":{\"id\":\"b9e09495-7c1f-43e1-8660-93dddf9e2188\",\"type\":\"Line\"},\"hover_glyph\":null,\"muted_glyph\":null,\"nonselection_glyph\":{\"id\":\"7b708e21-6ab4-40c1-9b72-04c40a7d7114\",\"type\":\"Line\"},\"selection_glyph\":null,\"view\":{\"id\":\"b90ea2ba-0525-4777-a51a-b0f59aa1448d\",\"type\":\"CDSView\"}},\"id\":\"c788e431-32f3-4bc3-b5e8-c5144a797120\",\"type\":\"GlyphRenderer\"},{\"attributes\":{\"items\":[{\"id\":\"861ca474-c0ee-4c5a-b3ef-b3a1181e2fed\",\"type\":\"LegendItem\"},{\"id\":\"e7c9f1f1-220f-44b6-84c7-81b3b217bd2e\",\"type\":\"LegendItem\"}],\"label_text_font_size\":{\"value\":\"8pt\"},\"location\":\"top_center\",\"orientation\":\"horizontal\",\"plot\":{\"id\":\"9aa3985b-ae47-4e17-b304-c1d2bfe6f8e6\",\"subtype\":\"Figure\",\"type\":\"Plot\"}},\"id\":\"c67e6b1a-f41f-4db9-910f-6f17985941d5\",\"type\":\"Legend\"},{\"attributes\":{\"dimension\":1,\"plot\":{\"id\":\"9aa3985b-ae47-4e17-b304-c1d2bfe6f8e6\",\"subtype\":\"Figure\",\"type\":\"Plot\"},\"ticker\":{\"id\":\"9a507d2b-fa22-4166-84cc-e127bd5bc97a\",\"type\":\"LogTicker\"}},\"id\":\"6b2beb62-4584-4162-b2f0-09efcb779779\",\"type\":\"Grid\"},{\"attributes\":{},\"id\":\"2c72fb10-d276-4ae2-b41d-6d2085780851\",\"type\":\"PanTool\"},{\"attributes\":{\"num_minor_ticks\":10},\"id\":\"9a507d2b-fa22-4166-84cc-e127bd5bc97a\",\"type\":\"LogTicker\"},{\"attributes\":{\"callback\":null,\"data\":{\"x\":{\"__ndarray__\":\"wIhwRcL0fj9wdeMkZz2BP8Ty1/nxdoQ/AGCPOE1nhz8gs0RLRBaKP3BujGr/bYw/IJqSD+6Mjj+YWZ8A9y2QP+xKUYKM7ZA/gG5TLwSokT8AfyYy22SSPxgMd1kMUZM/WBBMM7JrlD/QqfasFbSVP+AEeVIzX5Q/oPk1IrAjhj9X2l++ALB+v14G7+2Oc6C/8Eft8mvzrr9wsNQGab62v8CPk1chxL2/GAwan25Fwr8QVl6Xhoa+v6DYBSiye6u/gOWcM/1tmr9AcHmsGRmkv/DHyz+fbaS/oFrPc7gUl78A7haz6/9YP6BKMEkjbpM/SI1xFAwmkT8AfWppLGleP1Cbws49uZS/sDcbZdxYq7/46hwDstexv0Dgog9tMqK/AA/qx8s/f79A2uZCvOBZvwDAVMmGiTS/AN01u8rnQD/AzQ4jSpxRP8Cj1tPFqFY/4EDawp1SWD8A6hg0TQhYP6CxR7+1x1Y/4D6mpj4/VT/A8sqpKFRTP3Cw7zeYVVE/ADcIKS59Tj9Aa/V35H9KP7A9XdtnjkY/gIeEoSV+Qj8AYBy+P3w9P1DM/I2vYjU//C9ZMrOvKz8AJ2n8TowWPwDBJ0GztwG/QBVY7CUAJb9AOQvtL8oyv2DxDz8lBTu/QI67tQpqQb/wc3jYqZFEv0D/sl+dgUa/gGDxbkHDRr9gU5Kb/1xGvwCXfVkFKka/gGPoO2zgRr9gTQ6au2hIv0AZBKwO5kq/AHsLZY3sTb/QJu3E53lQvzBx2qK4IlK/wHgl9PPZU78QqV7u+4ZVv5AV7i+XYVe/\",\"dtype\":\"float64\",\"shape\":[75]},\"y\":{\"__ndarray__\":\"GhExyth1ND/Sv8nbtpRIP2vylNV0PVE/aTum7souWD/At0SJ8fVgPw3Iuahxymc/MSNhhJWvcD/bTfBN02d3P2zb5nxnaoA/CD5h5MAGhz8NmeH1TyaQP+zrCsc9p5Y/LbKd76fGnz/bLW5ISEmmPww9YvTcQq8/JV2OstnstT8Er5Y7M8G+P0c+r3jqkcU/5h99k6ZBzj88bCIzFzjVP4enV8oyxN0//yH99nXg5D8qOpLLf0jtP5kqGJXUifQ/c9cS8kHP/D+/DpwzojQEQIEmwoanVwxA4lgXt9HgE0BSSZ2AJuIbQAMJih9jjiNA5q4l5INuK0AwTKYKRj0zQNv5fmq8/DpAaCJseHrtQkB/+zpwzoxKQM3MzMzMeFJAZmZmZmZqWEAAAAAAAFxeQM3MzMzMJmJAmpmZmZkfZUBmZmZmZhhoQDMzMzMzEWtAAAAAAAAKbkBmZmZmZoFwQM3MzMzM/XFAMzMzMzN6c0CamZmZmfZ0QAAAAAAAc3ZAZmZmZmbvd0DNzMzMzGt5QDMzMzMz6HpAmpmZmZlkfEAAAAAAAOF9QGZmZmZmXX9AZmZmZuZsgECamZmZGSuBQM3MzMxM6YFAAAAAAICngkAzMzMzs2WDQGZmZmbmI4RAmpmZmRnihEDNzMzMTKCFQAAAAACAXoZAMzMzM7Mch0BmZmZm5tqHQJqZmZkZmYhAzczMzExXiUAAAAAAgBWKQDMzMzOz04pAZmZmZuaRi0CamZmZGVCMQM3MzMxMDo1AAAAAAIDMjUAzMzMzs4qOQGZmZmbmSI9A\",\"dtype\":\"float64\",\"shape\":[75]}},\"selected\":{\"id\":\"955c678c-ad2d-4a6d-9d81-88fa14cec149\",\"type\":\"Selection\"},\"selection_policy\":{\"id\":\"24424796-4ab9-4acd-834f-20009d57ea27\",\"type\":\"UnionRenderers\"}},\"id\":\"8792a09d-049f-4d5a-815a-7b2713b78259\",\"type\":\"ColumnDataSource\"},{\"attributes\":{\"callback\":null,\"end\":0.01,\"start\":1020},\"id\":\"418deb08-3370-4e52-9f95-020bda896f39\",\"type\":\"Range1d\"},{\"attributes\":{\"line_alpha\":0.1,\"line_color\":\"#1f77b4\",\"line_width\":1.5,\"x\":{\"field\":\"x\"},\"y\":{\"field\":\"y\"}},\"id\":\"22b1b41e-ffac-42c2-91b7-43f18a563646\",\"type\":\"Line\"},{\"attributes\":{\"axis_label\":\"pressure [mb]\",\"formatter\":{\"id\":\"218cf188-a890-4bc9-b646-1f23e12e9067\",\"type\":\"LogTickFormatter\"},\"plot\":{\"id\":\"77f90699-dd52-41bf-9867-cd41a957c13e\",\"subtype\":\"Figure\",\"type\":\"Plot\"},\"ticker\":{\"id\":\"ec170f3c-513d-42a1-8576-c1a8e54deace\",\"type\":\"LogTicker\"}},\"id\":\"31cbdf9e-4249-4d80-957e-d40ed489e4d6\",\"type\":\"LogAxis\"},{\"attributes\":{},\"id\":\"67519c10-1d10-4c35-8b86-6e38a23bcbfd\",\"type\":\"SaveTool\"},{\"attributes\":{\"active_drag\":\"auto\",\"active_inspect\":\"auto\",\"active_scroll\":\"auto\",\"active_tap\":\"auto\",\"tools\":[{\"id\":\"6a41a924-52be-4dfb-9efc-e058fc9ac308\",\"type\":\"PanTool\"},{\"id\":\"254a0994-33bf-4ccb-af5a-8747287679c5\",\"type\":\"WheelZoomTool\"},{\"id\":\"b7ca630e-1a5c-40c8-9d89-7e8ba2dafbf1\",\"type\":\"BoxZoomTool\"},{\"id\":\"da595ddc-9374-405f-93c3-96a412c4d373\",\"type\":\"SaveTool\"},{\"id\":\"7b0baf5b-2e38-4b4d-8bf1-0d8cda569d66\",\"type\":\"ResetTool\"},{\"id\":\"a5202af9-6799-4d9f-87ff-5f6a8cf3e639\",\"type\":\"HelpTool\"}]},\"id\":\"a37b41f1-d200-4ebb-9a9d-9d6a3fe9142f\",\"type\":\"Toolbar\"},{\"attributes\":{\"line_alpha\":0.1,\"line_color\":\"#1f77b4\",\"line_dash\":[6],\"line_width\":5,\"x\":{\"field\":\"x\"},\"y\":{\"field\":\"y\"}},\"id\":\"7b708e21-6ab4-40c1-9b72-04c40a7d7114\",\"type\":\"Line\"},{\"attributes\":{\"source\":{\"id\":\"eebb32b7-9288-4eed-97bb-6d1dbdab0eb5\",\"type\":\"ColumnDataSource\"}},\"id\":\"25cc4216-5df1-463d-a508-24ed14a273f2\",\"type\":\"CDSView\"},{\"attributes\":{},\"id\":\"f2d1c27b-433e-49d0-b16a-182c0980ce8a\",\"type\":\"WheelZoomTool\"},{\"attributes\":{\"dimension\":1,\"plot\":{\"id\":\"47609bcc-03e7-406d-8e5f-cc6a29bdae0a\",\"subtype\":\"Figure\",\"type\":\"Plot\"},\"ticker\":{\"id\":\"ce72e365-f61e-49e1-a606-601b279a7cf9\",\"type\":\"BasicTicker\"}},\"id\":\"662f2296-0994-4166-8085-c1c756e23b05\",\"type\":\"Grid\"},{\"attributes\":{\"callback\":null,\"end\":0.01,\"start\":1020},\"id\":\"b71776a2-34e1-465d-9147-541d95110ee8\",\"type\":\"Range1d\"},{\"attributes\":{\"above\":[{\"id\":\"fdbe36f0-3496-4ec6-b066-56ddbc90ada8\",\"type\":\"Legend\"}],\"below\":[{\"id\":\"2b6b4903-2a77-4275-99b0-e6742473d8b0\",\"type\":\"LinearAxis\"}],\"left\":[{\"id\":\"11de1260-88f3-4a95-ae68-db2e4fc81b50\",\"type\":\"LinearAxis\"}],\"plot_width\":300,\"renderers\":[{\"id\":\"2b6b4903-2a77-4275-99b0-e6742473d8b0\",\"type\":\"LinearAxis\"},{\"id\":\"623315e7-ec09-4363-8f56-5d1a2008107f\",\"type\":\"Grid\"},{\"id\":\"11de1260-88f3-4a95-ae68-db2e4fc81b50\",\"type\":\"LinearAxis\"},{\"id\":\"662f2296-0994-4166-8085-c1c756e23b05\",\"type\":\"Grid\"},{\"id\":\"a8db1f3f-f5ad-4144-a49b-de4b0f1d96e1\",\"type\":\"BoxAnnotation\"},{\"id\":\"c788e431-32f3-4bc3-b5e8-c5144a797120\",\"type\":\"GlyphRenderer\"},{\"id\":\"3ab3058e-9b2b-4490-95f5-283a203040c0\",\"type\":\"GlyphRenderer\"},{\"id\":\"f7a0bb0d-c125-449e-8409-04467b17163a\",\"type\":\"GlyphRenderer\"},{\"id\":\"fdbe36f0-3496-4ec6-b066-56ddbc90ada8\",\"type\":\"Legend\"}],\"title\":{\"id\":\"26b5873c-1cb8-4828-98e9-d7740d61849c\",\"type\":\"Title\"},\"toolbar\":{\"id\":\"57da9c6f-c31b-4b64-aa4d-7746076b49b0\",\"type\":\"Toolbar\"},\"toolbar_location\":null,\"x_range\":{\"id\":\"9369975e-3a12-4f6d-8c47-411bc2110a3b\",\"type\":\"Range1d\"},\"x_scale\":{\"id\":\"b203b0dc-34cb-40a1-8d3d-8c5d000ca173\",\"type\":\"LinearScale\"},\"y_range\":{\"id\":\"418deb08-3370-4e52-9f95-020bda896f39\",\"type\":\"Range1d\"},\"y_scale\":{\"id\":\"618573bc-598c-45ae-aa30-be1c0a271be1\",\"type\":\"LinearScale\"}},\"id\":\"47609bcc-03e7-406d-8e5f-cc6a29bdae0a\",\"subtype\":\"Figure\",\"type\":\"Plot\"},{\"attributes\":{\"callback\":null,\"data\":{\"x\":{\"__ndarray__\":\"LhhzD71Qnr9+1pIUrP+gv/Ngg2z2k6S/VR1lCdoAqL9wHqcYgkSrv/bwI4Y2Y66/JpcsEgaqsL/AnxK+lA2yv8fiNM0GXLO/1g3UXICTtL//MLuHgbe1v3Irnildwra/i/2VMPu+t7+K+72EcnG4v2lW/eQE+re/ymhjc3VKsr+cbJpuBjWCvwtyQOC7rLo/9eOjg/3w0T8Qex1ISRXhP93X3Cy5Jew/NZvHYTCf9D+9YezOJFv5Px7zpsdbM/o/xRW8jXL19z82M58Y/rjyPxsHA3QENeo/bovw/pGs4T8GamsjIqXXP+elpH8wDcg/Dky/W1jrqr+iP9k5conSv1+UZhRHdd+/q9Cb5Q3L47/Q8fLwdSTjv8OmxjKa6Ni/ZFlyDRqXx78yGjvZtO+8v76qzPcAm7e/BGOqhBrKs794Yh1hLcuwvxx7TF1fD6y/EeFQ2V9fp7//SqeoDHmjvxuYFNMQS6C/oG5PeTx5m781xnI+gR+Xv6sQYYzgMJO/8lD6kw95j7+S47ETHGaJv8ccCGgitYO/JDY5K4uKfL/OIqGXFBJyv2/UJ01MHWC/yagkEXq+OT8JdeOufcBlP4UzQdJ81XM/0txkPqJ1fD/hXSRwyF+CP1Nu3fjTeYY/5viy/uCNij+zuW9X3VqOP32m/kTc0ZA/Ei2LH+knkj9RmEZ/p0qTP8os9CGlYpQ/3yesLIiDlT98h853X7GWP3x8Y4TH6Zc/Rn2SO2wimT+UkY/qL0yaPxGBxxAwVZs/PpRHu/pGnD8yQ7VRNSudPxFZl191AJ4/\",\"dtype\":\"float64\",\"shape\":[75]},\"y\":{\"__ndarray__\":\"GhExyth1ND/Sv8nbtpRIP2vylNV0PVE/aTum7souWD/At0SJ8fVgPw3Iuahxymc/MSNhhJWvcD/bTfBN02d3P2zb5nxnaoA/CD5h5MAGhz8NmeH1TyaQP+zrCsc9p5Y/LbKd76fGnz/bLW5ISEmmPww9YvTcQq8/JV2OstnstT8Er5Y7M8G+P0c+r3jqkcU/5h99k6ZBzj88bCIzFzjVP4enV8oyxN0//yH99nXg5D8qOpLLf0jtP5kqGJXUifQ/c9cS8kHP/D+/DpwzojQEQIEmwoanVwxA4lgXt9HgE0BSSZ2AJuIbQAMJih9jjiNA5q4l5INuK0AwTKYKRj0zQNv5fmq8/DpAaCJseHrtQkB/+zpwzoxKQM3MzMzMeFJAZmZmZmZqWEAAAAAAAFxeQM3MzMzMJmJAmpmZmZkfZUBmZmZmZhhoQDMzMzMzEWtAAAAAAAAKbkBmZmZmZoFwQM3MzMzM/XFAMzMzMzN6c0CamZmZmfZ0QAAAAAAAc3ZAZmZmZmbvd0DNzMzMzGt5QDMzMzMz6HpAmpmZmZlkfEAAAAAAAOF9QGZmZmZmXX9AZmZmZuZsgECamZmZGSuBQM3MzMxM6YFAAAAAAICngkAzMzMzs2WDQGZmZmbmI4RAmpmZmRnihEDNzMzMTKCFQAAAAACAXoZAMzMzM7Mch0BmZmZm5tqHQJqZmZkZmYhAzczMzExXiUAAAAAAgBWKQDMzMzOz04pAZmZmZuaRi0CamZmZGVCMQM3MzMxMDo1AAAAAAIDMjUAzMzMzs4qOQGZmZmbmSI9A\",\"dtype\":\"float64\",\"shape\":[75]}},\"selected\":{\"id\":\"caa52f24-835b-407f-b266-be093eb4c169\",\"type\":\"Selection\"},\"selection_policy\":{\"id\":\"5120f206-32d7-4a7c-95e2-4f5021b32f47\",\"type\":\"UnionRenderers\"}},\"id\":\"a7dca1d9-b402-4905-b138-d52417a9690a\",\"type\":\"ColumnDataSource\"},{\"attributes\":{},\"id\":\"68586712-8248-4a03-ae57-ae633550f681\",\"type\":\"WheelZoomTool\"},{\"attributes\":{},\"id\":\"955c678c-ad2d-4a6d-9d81-88fa14cec149\",\"type\":\"Selection\"},{\"attributes\":{\"children\":[{\"id\":\"7e9f08c2-0544-4cbc-8631-15dc94e7befb\",\"type\":\"ToolbarBox\"},{\"id\":\"28274d05-78fe-415d-a339-ebee04afb15e\",\"type\":\"Column\"}]},\"id\":\"07ea29db-b7a1-4d6e-99b6-781265d9deb2\",\"type\":\"Column\"},{\"attributes\":{\"data_source\":{\"id\":\"d9fc3bfe-8e0c-491c-9e58-e315afaa65cf\",\"type\":\"ColumnDataSource\"},\"glyph\":{\"id\":\"27cdfaba-cd4d-4728-801b-0a48041b58b5\",\"type\":\"Line\"},\"hover_glyph\":null,\"muted_glyph\":null,\"nonselection_glyph\":{\"id\":\"42c7653c-10d9-4ed8-a5a1-1bb48aedea58\",\"type\":\"Line\"},\"selection_glyph\":null,\"view\":{\"id\":\"4e77ac9b-6685-4984-af71-c742971ca777\",\"type\":\"CDSView\"}},\"id\":\"81959fd5-6fdc-42ec-aabe-8b0475135937\",\"type\":\"GlyphRenderer\"},{\"attributes\":{\"source\":{\"id\":\"2a5c6bdf-d422-4048-8ba8-0a96e1f83473\",\"type\":\"ColumnDataSource\"}},\"id\":\"7a7892ff-b19f-4903-bf5e-5c590f3275d1\",\"type\":\"CDSView\"},{\"attributes\":{\"axis_label\":\"cooling rate [K/day]\",\"formatter\":{\"id\":\"303cbebd-e842-443d-a581-7bc0bcfd17b0\",\"type\":\"BasicTickFormatter\"},\"plot\":{\"id\":\"47609bcc-03e7-406d-8e5f-cc6a29bdae0a\",\"subtype\":\"Figure\",\"type\":\"Plot\"},\"ticker\":{\"id\":\"518f9756-e4a4-40b5-8900-c1fece5aad40\",\"type\":\"BasicTicker\"}},\"id\":\"2b6b4903-2a77-4275-99b0-e6742473d8b0\",\"type\":\"LinearAxis\"},{\"attributes\":{},\"id\":\"6a41a924-52be-4dfb-9efc-e058fc9ac308\",\"type\":\"PanTool\"},{\"attributes\":{},\"id\":\"6782123f-4077-4a9c-9c2d-092dad047441\",\"type\":\"Selection\"},{\"attributes\":{},\"id\":\"b203b0dc-34cb-40a1-8d3d-8c5d000ca173\",\"type\":\"LinearScale\"},{\"attributes\":{\"fill_alpha\":{\"value\":0.1},\"fill_color\":{\"value\":\"#1f77b4\"},\"line_alpha\":{\"value\":0.1},\"line_color\":{\"value\":\"#1f77b4\"},\"x\":{\"field\":\"x\"},\"y\":{\"field\":\"y\"}},\"id\":\"5638a0e0-e594-4d33-9ccd-a0f00e99324d\",\"type\":\"Circle\"},{\"attributes\":{},\"id\":\"972288cb-b322-47b1-96cd-909cdacfe3f1\",\"type\":\"Selection\"},{\"attributes\":{\"ticker\":null},\"id\":\"fbe13c7d-93ab-42bf-8c77-88da29345703\",\"type\":\"LogTickFormatter\"},{\"attributes\":{\"data_source\":{\"id\":\"eebb32b7-9288-4eed-97bb-6d1dbdab0eb5\",\"type\":\"ColumnDataSource\"},\"glyph\":{\"id\":\"79b60bde-afc8-45c9-b854-7e297d0b7ffa\",\"type\":\"Circle\"},\"hover_glyph\":null,\"muted_glyph\":null,\"nonselection_glyph\":{\"id\":\"5638a0e0-e594-4d33-9ccd-a0f00e99324d\",\"type\":\"Circle\"},\"selection_glyph\":null,\"view\":{\"id\":\"25cc4216-5df1-463d-a508-24ed14a273f2\",\"type\":\"CDSView\"}},\"id\":\"58432738-9142-4911-a592-44cd40804f92\",\"type\":\"GlyphRenderer\"},{\"attributes\":{},\"id\":\"7097cd3f-ee4e-4f9a-800a-9c0200cf82e8\",\"type\":\"UnionRenderers\"},{\"attributes\":{\"bottom_units\":\"screen\",\"fill_alpha\":{\"value\":0.5},\"fill_color\":{\"value\":\"lightgrey\"},\"left_units\":\"screen\",\"level\":\"overlay\",\"line_alpha\":{\"value\":1.0},\"line_color\":{\"value\":\"black\"},\"line_dash\":[4,4],\"line_width\":{\"value\":2},\"plot\":null,\"render_mode\":\"css\",\"right_units\":\"screen\",\"top_units\":\"screen\"},\"id\":\"206c0213-7ebc-4bb5-9150-1cce475b4bd7\",\"type\":\"BoxAnnotation\"},{\"attributes\":{\"bottom_units\":\"screen\",\"fill_alpha\":{\"value\":0.5},\"fill_color\":{\"value\":\"lightgrey\"},\"left_units\":\"screen\",\"level\":\"overlay\",\"line_alpha\":{\"value\":1.0},\"line_color\":{\"value\":\"black\"},\"line_dash\":[4,4],\"line_width\":{\"value\":2},\"plot\":null,\"render_mode\":\"css\",\"right_units\":\"screen\",\"top_units\":\"screen\"},\"id\":\"10f46dbd-dcdd-4d45-8aa3-1d1ddeb1d961\",\"type\":\"BoxAnnotation\"},{\"attributes\":{\"label\":{\"value\":\"CLIRAD\"},\"renderers\":[{\"id\":\"724b976f-0475-4e98-b77b-b21b7172ca2f\",\"type\":\"GlyphRenderer\"}]},\"id\":\"861ca474-c0ee-4c5a-b3ef-b3a1181e2fed\",\"type\":\"LegendItem\"},{\"attributes\":{\"toolbar\":{\"id\":\"7d4dfc84-a904-4519-bb09-8ee07469d1f3\",\"type\":\"ProxyToolbar\"},\"toolbar_location\":\"above\"},\"id\":\"7e9f08c2-0544-4cbc-8631-15dc94e7befb\",\"type\":\"ToolbarBox\"},{\"attributes\":{},\"id\":\"07d80cfa-6d3a-453c-a45c-158d013a0512\",\"type\":\"UnionRenderers\"},{\"attributes\":{},\"id\":\"caa52f24-835b-407f-b266-be093eb4c169\",\"type\":\"Selection\"},{\"attributes\":{\"overlay\":{\"id\":\"206c0213-7ebc-4bb5-9150-1cce475b4bd7\",\"type\":\"BoxAnnotation\"}},\"id\":\"b7ca630e-1a5c-40c8-9d89-7e8ba2dafbf1\",\"type\":\"BoxZoomTool\"},{\"attributes\":{\"callback\":null,\"end\":0.022834167809999997,\"start\":-0.14438328680999993},\"id\":\"7501d251-c476-421b-b3ce-7dbcc5010f16\",\"type\":\"Range1d\"},{\"attributes\":{},\"id\":\"5120f206-32d7-4a7c-95e2-4f5021b32f47\",\"type\":\"UnionRenderers\"},{\"attributes\":{},\"id\":\"a2cf0f17-05f2-41de-adb8-7bd10b44cf99\",\"type\":\"Selection\"},{\"attributes\":{\"active_drag\":\"auto\",\"active_inspect\":\"auto\",\"active_scroll\":\"auto\",\"active_tap\":\"auto\",\"tools\":[{\"id\":\"2cabaad4-2260-43ab-bd58-263795a48020\",\"type\":\"PanTool\"},{\"id\":\"f2d1c27b-433e-49d0-b16a-182c0980ce8a\",\"type\":\"WheelZoomTool\"},{\"id\":\"85d25dfa-5bef-48e7-b51c-8785627362f3\",\"type\":\"BoxZoomTool\"},{\"id\":\"ffa1a852-3b1a-4564-895f-e41eff17a0ec\",\"type\":\"SaveTool\"},{\"id\":\"bcc1dce5-7934-42c8-beb6-bc9c9c2c8e91\",\"type\":\"ResetTool\"},{\"id\":\"bb1d1ba1-bdbc-4ae3-9481-b2ee5cd724ff\",\"type\":\"HelpTool\"}]},\"id\":\"57da9c6f-c31b-4b64-aa4d-7746076b49b0\",\"type\":\"Toolbar\"},{\"attributes\":{\"plot\":null,\"text\":\"\"},\"id\":\"bc3687f2-362f-4238-88e9-52d3046fa268\",\"type\":\"Title\"},{\"attributes\":{\"data_source\":{\"id\":\"eaef5e2a-cf1b-4ab4-9ffc-157175d82ccc\",\"type\":\"ColumnDataSource\"},\"glyph\":{\"id\":\"b13eb5bc-3c94-4786-84b9-02684b087a72\",\"type\":\"Line\"},\"hover_glyph\":null,\"muted_glyph\":null,\"nonselection_glyph\":{\"id\":\"c7c4a6e1-ebb2-4337-ac18-af9f51f309b2\",\"type\":\"Line\"},\"selection_glyph\":null,\"view\":{\"id\":\"aadf2726-f29d-43e0-a46a-19c7ae0dd41d\",\"type\":\"CDSView\"}},\"id\":\"724b976f-0475-4e98-b77b-b21b7172ca2f\",\"type\":\"GlyphRenderer\"},{\"attributes\":{},\"id\":\"8da1a123-5e8e-4db8-991e-e5fe2e985992\",\"type\":\"ResetTool\"},{\"attributes\":{\"data_source\":{\"id\":\"8792a09d-049f-4d5a-815a-7b2713b78259\",\"type\":\"ColumnDataSource\"},\"glyph\":{\"id\":\"24982c62-bb11-4330-978f-867847a36785\",\"type\":\"Line\"},\"hover_glyph\":null,\"muted_glyph\":null,\"nonselection_glyph\":{\"id\":\"6b68391e-7bdb-4793-8e08-b3d7794bb45c\",\"type\":\"Line\"},\"selection_glyph\":null,\"view\":{\"id\":\"919c3193-e820-446b-8ed8-5720808cef18\",\"type\":\"CDSView\"}},\"id\":\"ab7b938c-7590-4b06-aca0-816fef9bf0c3\",\"type\":\"GlyphRenderer\"},{\"attributes\":{\"callback\":null,\"data\":{\"x\":{\"__ndarray__\":\"L51n0PYGo7/as8vdBU+lv6Rd+eqysam/VfWIV63arb+cJbyVCeWwv0mGYzBbv7K/auoe1KN7tL8mdjp+Ehm2v4I1ye1pl7e/dumoaIH9uL+/0ERUuFC6v3ju+z+glru/oQFpvefZvL/+pfvvd969v6GXm7nREb2//ieqd+sOtb+E+1N7MOhWv536m6tBc8E/84wBAmvP1T8eEfhoFu3jP9VJz1c93u8/uNyqNd7n9j8eR2I4jUP7P+Mh51g5D/s/W4mKgipf+D+4/gLmxlnzP5rD/2fee+s/QwaPwjdl4j8YU7g3IozXP5OcfhZsn8U/WQn8Mi+/sb8fqkJm26fSv6pqejezKd6/MB1KH4AV4r9xVI+wf+ngv7tK0pBMota/7Agzrxudxr/Jfi/oMYi8v/5VA3F3hre/vs4gGurrs7+vnamJnhGxvzow64ulxKy/GLNnx/QhqL9PEkgSTzmkv6jVDoFOAaG/jtK5YzDNnL9hdQ/Jw1SYv7IL4A86RpS/MWpFO3GwkL9GOjFbGg6Lv6LwveUIHoW/FMdp30/afr/O6IKT2Olzv/lt5z6iyWK/liHw70DNJz/RKwA3GwxlPweDwzjs+HM/fJ3HbaMdfT+rt4zvGfaCP97t1SL9UYc/yrEOqoGkiz/yQPf096OPP3c+/C/phZE/FrgCKwPekj/sKiN8j/2TP4IZwEz1E5U/+2qLjos6lj/n+Z5UpXSXP0adw/n3wJg/Htm6ptARmj8BZN5mzlObPyQo9Zpbd5w/yuuJ+pmEnT/DLZsQpYOeP2o6ltKOdp8/\",\"dtype\":\"float64\",\"shape\":[75]},\"y\":{\"__ndarray__\":\"GhExyth1ND/Sv8nbtpRIP2vylNV0PVE/aTum7souWD/At0SJ8fVgPw3Iuahxymc/MSNhhJWvcD/bTfBN02d3P2zb5nxnaoA/CD5h5MAGhz8NmeH1TyaQP+zrCsc9p5Y/LbKd76fGnz/bLW5ISEmmPww9YvTcQq8/JV2OstnstT8Er5Y7M8G+P0c+r3jqkcU/5h99k6ZBzj88bCIzFzjVP4enV8oyxN0//yH99nXg5D8qOpLLf0jtP5kqGJXUifQ/c9cS8kHP/D+/DpwzojQEQIEmwoanVwxA4lgXt9HgE0BSSZ2AJuIbQAMJih9jjiNA5q4l5INuK0AwTKYKRj0zQNv5fmq8/DpAaCJseHrtQkB/+zpwzoxKQM3MzMzMeFJAZmZmZmZqWEAAAAAAAFxeQM3MzMzMJmJAmpmZmZkfZUBmZmZmZhhoQDMzMzMzEWtAAAAAAAAKbkBmZmZmZoFwQM3MzMzM/XFAMzMzMzN6c0CamZmZmfZ0QAAAAAAAc3ZAZmZmZmbvd0DNzMzMzGt5QDMzMzMz6HpAmpmZmZlkfEAAAAAAAOF9QGZmZmZmXX9AZmZmZuZsgECamZmZGSuBQM3MzMxM6YFAAAAAAICngkAzMzMzs2WDQGZmZmbmI4RAmpmZmRnihEDNzMzMTKCFQAAAAACAXoZAMzMzM7Mch0BmZmZm5tqHQJqZmZkZmYhAzczMzExXiUAAAAAAgBWKQDMzMzOz04pAZmZmZuaRi0CamZmZGVCMQM3MzMxMDo1AAAAAAIDMjUAzMzMzs4qOQGZmZmbmSI9A\",\"dtype\":\"float64\",\"shape\":[75]}},\"selected\":{\"id\":\"0ebe4f66-d0ba-4d29-b908-1bcd94e30637\",\"type\":\"Selection\"},\"selection_policy\":{\"id\":\"5505ee9a-2a12-429a-ab29-7310ca5f914f\",\"type\":\"UnionRenderers\"}},\"id\":\"d9fc3bfe-8e0c-491c-9e58-e315afaa65cf\",\"type\":\"ColumnDataSource\"},{\"attributes\":{\"source\":{\"id\":\"8792a09d-049f-4d5a-815a-7b2713b78259\",\"type\":\"ColumnDataSource\"}},\"id\":\"919c3193-e820-446b-8ed8-5720808cef18\",\"type\":\"CDSView\"},{\"attributes\":{\"items\":[{\"id\":\"1e591b2d-49cb-4769-b37e-cae2875dbb04\",\"type\":\"LegendItem\"}],\"label_text_font_size\":{\"value\":\"8pt\"},\"location\":\"top_center\",\"orientation\":\"horizontal\",\"plot\":{\"id\":\"77f90699-dd52-41bf-9867-cd41a957c13e\",\"subtype\":\"Figure\",\"type\":\"Plot\"}},\"id\":\"2ad2d269-1bb4-40f3-9252-450af6d884e7\",\"type\":\"Legend\"},{\"attributes\":{\"callback\":null,\"end\":0.0370149647,\"start\":-0.6044900347000001},\"id\":\"9369975e-3a12-4f6d-8c47-411bc2110a3b\",\"type\":\"Range1d\"},{\"attributes\":{\"plot\":null,\"text\":\"\"},\"id\":\"b54fac55-330e-4a17-8ab1-647011717a07\",\"type\":\"Title\"},{\"attributes\":{},\"id\":\"518f9756-e4a4-40b5-8900-c1fece5aad40\",\"type\":\"BasicTicker\"},{\"attributes\":{},\"id\":\"98f19b7a-58b7-48c5-8b92-075d2e6c9562\",\"type\":\"BasicTickFormatter\"},{\"attributes\":{\"line_alpha\":0.6,\"line_color\":\"#e41a1c\",\"line_dash\":[6],\"line_width\":5,\"x\":{\"field\":\"x\"},\"y\":{\"field\":\"y\"}},\"id\":\"b13eb5bc-3c94-4786-84b9-02684b087a72\",\"type\":\"Line\"},{\"attributes\":{\"line_color\":\"#4daf4a\",\"line_width\":1.5,\"x\":{\"field\":\"x\"},\"y\":{\"field\":\"y\"}},\"id\":\"27cdfaba-cd4d-4728-801b-0a48041b58b5\",\"type\":\"Line\"},{\"attributes\":{\"ticker\":null},\"id\":\"218cf188-a890-4bc9-b646-1f23e12e9067\",\"type\":\"LogTickFormatter\"},{\"attributes\":{},\"id\":\"b1f5a929-63e0-420a-a682-0c6b9172ab40\",\"type\":\"UnionRenderers\"},{\"attributes\":{},\"id\":\"bd09f358-ba7c-47d3-af2a-2baa455464f4\",\"type\":\"UnionRenderers\"},{\"attributes\":{\"fill_alpha\":{\"value\":0.7},\"fill_color\":{\"value\":\"#984ea3\"},\"line_alpha\":{\"value\":0.7},\"line_color\":{\"value\":\"#984ea3\"},\"x\":{\"field\":\"x\"},\"y\":{\"field\":\"y\"}},\"id\":\"79b60bde-afc8-45c9-b854-7e297d0b7ffa\",\"type\":\"Circle\"},{\"attributes\":{\"callback\":null,\"end\":0.01,\"start\":1020},\"id\":\"94b88310-7bf6-42ea-8c72-aa593d694d17\",\"type\":\"Range1d\"},{\"attributes\":{\"line_alpha\":0.1,\"line_color\":\"#1f77b4\",\"line_width\":1.5,\"x\":{\"field\":\"x\"},\"y\":{\"field\":\"y\"}},\"id\":\"6b68391e-7bdb-4793-8e08-b3d7794bb45c\",\"type\":\"Line\"},{\"attributes\":{\"label\":{\"value\":\"CLIRAD - CRD\"},\"renderers\":[{\"id\":\"58432738-9142-4911-a592-44cd40804f92\",\"type\":\"GlyphRenderer\"},{\"id\":\"ab7b938c-7590-4b06-aca0-816fef9bf0c3\",\"type\":\"GlyphRenderer\"}]},\"id\":\"1e591b2d-49cb-4769-b37e-cae2875dbb04\",\"type\":\"LegendItem\"},{\"attributes\":{\"children\":[{\"id\":\"9b6e1802-99be-4caf-acb4-3174c9d3e423\",\"type\":\"Row\"}]},\"id\":\"28274d05-78fe-415d-a339-ebee04afb15e\",\"type\":\"Column\"},{\"attributes\":{},\"id\":\"618573bc-598c-45ae-aa30-be1c0a271be1\",\"type\":\"LinearScale\"},{\"attributes\":{\"plot\":null,\"text\":\"\"},\"id\":\"26b5873c-1cb8-4828-98e9-d7740d61849c\",\"type\":\"Title\"},{\"attributes\":{\"data_source\":{\"id\":\"2a5c6bdf-d422-4048-8ba8-0a96e1f83473\",\"type\":\"ColumnDataSource\"},\"glyph\":{\"id\":\"3c082fd3-e0c6-4967-aae3-19e0a0c1408f\",\"type\":\"Circle\"},\"hover_glyph\":null,\"muted_glyph\":null,\"nonselection_glyph\":{\"id\":\"d8bba886-0de7-498f-8100-b92757307bdd\",\"type\":\"Circle\"},\"selection_glyph\":null,\"view\":{\"id\":\"7a7892ff-b19f-4903-bf5e-5c590f3275d1\",\"type\":\"CDSView\"}},\"id\":\"2ce5b458-962f-4774-a25d-a626c77e5e52\",\"type\":\"GlyphRenderer\"},{\"attributes\":{\"tools\":[{\"id\":\"2cabaad4-2260-43ab-bd58-263795a48020\",\"type\":\"PanTool\"},{\"id\":\"f2d1c27b-433e-49d0-b16a-182c0980ce8a\",\"type\":\"WheelZoomTool\"},{\"id\":\"85d25dfa-5bef-48e7-b51c-8785627362f3\",\"type\":\"BoxZoomTool\"},{\"id\":\"ffa1a852-3b1a-4564-895f-e41eff17a0ec\",\"type\":\"SaveTool\"},{\"id\":\"bcc1dce5-7934-42c8-beb6-bc9c9c2c8e91\",\"type\":\"ResetTool\"},{\"id\":\"bb1d1ba1-bdbc-4ae3-9481-b2ee5cd724ff\",\"type\":\"HelpTool\"},{\"id\":\"6a41a924-52be-4dfb-9efc-e058fc9ac308\",\"type\":\"PanTool\"},{\"id\":\"254a0994-33bf-4ccb-af5a-8747287679c5\",\"type\":\"WheelZoomTool\"},{\"id\":\"b7ca630e-1a5c-40c8-9d89-7e8ba2dafbf1\",\"type\":\"BoxZoomTool\"},{\"id\":\"da595ddc-9374-405f-93c3-96a412c4d373\",\"type\":\"SaveTool\"},{\"id\":\"7b0baf5b-2e38-4b4d-8bf1-0d8cda569d66\",\"type\":\"ResetTool\"},{\"id\":\"a5202af9-6799-4d9f-87ff-5f6a8cf3e639\",\"type\":\"HelpTool\"},{\"id\":\"2c72fb10-d276-4ae2-b41d-6d2085780851\",\"type\":\"PanTool\"},{\"id\":\"68586712-8248-4a03-ae57-ae633550f681\",\"type\":\"WheelZoomTool\"},{\"id\":\"b1f67f2c-43d5-40e9-aa3c-98678730ac47\",\"type\":\"BoxZoomTool\"},{\"id\":\"67519c10-1d10-4c35-8b86-6e38a23bcbfd\",\"type\":\"SaveTool\"},{\"id\":\"8da1a123-5e8e-4db8-991e-e5fe2e985992\",\"type\":\"ResetTool\"},{\"id\":\"0b55da80-9799-464b-88a4-b41360b26204\",\"type\":\"HelpTool\"}]},\"id\":\"7d4dfc84-a904-4519-bb09-8ee07469d1f3\",\"type\":\"ProxyToolbar\"},{\"attributes\":{\"source\":{\"id\":\"d9fc3bfe-8e0c-491c-9e58-e315afaa65cf\",\"type\":\"ColumnDataSource\"}},\"id\":\"4e77ac9b-6685-4984-af71-c742971ca777\",\"type\":\"CDSView\"},{\"attributes\":{\"children\":[{\"id\":\"47609bcc-03e7-406d-8e5f-cc6a29bdae0a\",\"subtype\":\"Figure\",\"type\":\"Plot\"},{\"id\":\"9aa3985b-ae47-4e17-b304-c1d2bfe6f8e6\",\"subtype\":\"Figure\",\"type\":\"Plot\"},{\"id\":\"77f90699-dd52-41bf-9867-cd41a957c13e\",\"subtype\":\"Figure\",\"type\":\"Plot\"}]},\"id\":\"9b6e1802-99be-4caf-acb4-3174c9d3e423\",\"type\":\"Row\"},{\"attributes\":{},\"id\":\"0b55da80-9799-464b-88a4-b41360b26204\",\"type\":\"HelpTool\"},{\"attributes\":{},\"id\":\"5505ee9a-2a12-429a-ab29-7310ca5f914f\",\"type\":\"UnionRenderers\"},{\"attributes\":{\"callback\":null,\"data\":{\"x\":{\"__ndarray__\":\"wIhwRcL0fj9wdeMkZz2BP8Ty1/nxdoQ/AGCPOE1nhz8gs0RLRBaKP3BujGr/bYw/IJqSD+6Mjj+YWZ8A9y2QP+xKUYKM7ZA/gG5TLwSokT8AfyYy22SSPxgMd1kMUZM/WBBMM7JrlD/QqfasFbSVP+AEeVIzX5Q/oPk1IrAjhj9X2l++ALB+v14G7+2Oc6C/8Eft8mvzrr9wsNQGab62v8CPk1chxL2/GAwan25Fwr8QVl6Xhoa+v6DYBSiye6u/gOWcM/1tmr9AcHmsGRmkv/DHyz+fbaS/oFrPc7gUl78A7haz6/9YP6BKMEkjbpM/SI1xFAwmkT8AfWppLGleP1Cbws49uZS/sDcbZdxYq7/46hwDstexv0Dgog9tMqK/AA/qx8s/f79A2uZCvOBZvwDAVMmGiTS/AN01u8rnQD/AzQ4jSpxRP8Cj1tPFqFY/4EDawp1SWD8A6hg0TQhYP6CxR7+1x1Y/4D6mpj4/VT/A8sqpKFRTP3Cw7zeYVVE/ADcIKS59Tj9Aa/V35H9KP7A9XdtnjkY/gIeEoSV+Qj8AYBy+P3w9P1DM/I2vYjU//C9ZMrOvKz8AJ2n8TowWPwDBJ0GztwG/QBVY7CUAJb9AOQvtL8oyv2DxDz8lBTu/QI67tQpqQb/wc3jYqZFEv0D/sl+dgUa/gGDxbkHDRr9gU5Kb/1xGvwCXfVkFKka/gGPoO2zgRr9gTQ6au2hIv0AZBKwO5kq/AHsLZY3sTb/QJu3E53lQvzBx2qK4IlK/wHgl9PPZU78QqV7u+4ZVv5AV7i+XYVe/\",\"dtype\":\"float64\",\"shape\":[75]},\"y\":{\"__ndarray__\":\"GhExyth1ND/Sv8nbtpRIP2vylNV0PVE/aTum7souWD/At0SJ8fVgPw3Iuahxymc/MSNhhJWvcD/bTfBN02d3P2zb5nxnaoA/CD5h5MAGhz8NmeH1TyaQP+zrCsc9p5Y/LbKd76fGnz/bLW5ISEmmPww9YvTcQq8/JV2OstnstT8Er5Y7M8G+P0c+r3jqkcU/5h99k6ZBzj88bCIzFzjVP4enV8oyxN0//yH99nXg5D8qOpLLf0jtP5kqGJXUifQ/c9cS8kHP/D+/DpwzojQEQIEmwoanVwxA4lgXt9HgE0BSSZ2AJuIbQAMJih9jjiNA5q4l5INuK0AwTKYKRj0zQNv5fmq8/DpAaCJseHrtQkB/+zpwzoxKQM3MzMzMeFJAZmZmZmZqWEAAAAAAAFxeQM3MzMzMJmJAmpmZmZkfZUBmZmZmZhhoQDMzMzMzEWtAAAAAAAAKbkBmZmZmZoFwQM3MzMzM/XFAMzMzMzN6c0CamZmZmfZ0QAAAAAAAc3ZAZmZmZmbvd0DNzMzMzGt5QDMzMzMz6HpAmpmZmZlkfEAAAAAAAOF9QGZmZmZmXX9AZmZmZuZsgECamZmZGSuBQM3MzMxM6YFAAAAAAICngkAzMzMzs2WDQGZmZmbmI4RAmpmZmRnihEDNzMzMTKCFQAAAAACAXoZAMzMzM7Mch0BmZmZm5tqHQJqZmZkZmYhAzczMzExXiUAAAAAAgBWKQDMzMzOz04pAZmZmZuaRi0CamZmZGVCMQM3MzMxMDo1AAAAAAIDMjUAzMzMzs4qOQGZmZmbmSI9A\",\"dtype\":\"float64\",\"shape\":[75]}},\"selected\":{\"id\":\"6782123f-4077-4a9c-9c2d-092dad047441\",\"type\":\"Selection\"},\"selection_policy\":{\"id\":\"bd09f358-ba7c-47d3-af2a-2baa455464f4\",\"type\":\"UnionRenderers\"}},\"id\":\"eebb32b7-9288-4eed-97bb-6d1dbdab0eb5\",\"type\":\"ColumnDataSource\"},{\"attributes\":{},\"id\":\"254a0994-33bf-4ccb-af5a-8747287679c5\",\"type\":\"WheelZoomTool\"},{\"attributes\":{\"line_alpha\":0.1,\"line_color\":\"#1f77b4\",\"line_width\":1.5,\"x\":{\"field\":\"x\"},\"y\":{\"field\":\"y\"}},\"id\":\"42c7653c-10d9-4ed8-a5a1-1bb48aedea58\",\"type\":\"Line\"},{\"attributes\":{\"line_alpha\":0.8,\"line_color\":\"#984ea3\",\"line_width\":1.5,\"x\":{\"field\":\"x\"},\"y\":{\"field\":\"y\"}},\"id\":\"24982c62-bb11-4330-978f-867847a36785\",\"type\":\"Line\"},{\"attributes\":{\"source\":{\"id\":\"eaef5e2a-cf1b-4ab4-9ffc-157175d82ccc\",\"type\":\"ColumnDataSource\"}},\"id\":\"aadf2726-f29d-43e0-a46a-19c7ae0dd41d\",\"type\":\"CDSView\"},{\"attributes\":{},\"id\":\"a22e9cba-7cf8-41e3-b75c-9137ade16447\",\"type\":\"BasicTickFormatter\"},{\"attributes\":{\"line_alpha\":0.1,\"line_color\":\"#1f77b4\",\"line_dash\":[6],\"line_width\":5,\"x\":{\"field\":\"x\"},\"y\":{\"field\":\"y\"}},\"id\":\"c7c4a6e1-ebb2-4337-ac18-af9f51f309b2\",\"type\":\"Line\"},{\"attributes\":{\"fill_alpha\":{\"value\":0.7},\"fill_color\":{\"value\":\"#4daf4a\"},\"line_alpha\":{\"value\":0.7},\"line_color\":{\"value\":\"#4daf4a\"},\"x\":{\"field\":\"x\"},\"y\":{\"field\":\"y\"}},\"id\":\"3c082fd3-e0c6-4967-aae3-19e0a0c1408f\",\"type\":\"Circle\"},{\"attributes\":{\"active_drag\":\"auto\",\"active_inspect\":\"auto\",\"active_scroll\":\"auto\",\"active_tap\":\"auto\",\"tools\":[{\"id\":\"2c72fb10-d276-4ae2-b41d-6d2085780851\",\"type\":\"PanTool\"},{\"id\":\"68586712-8248-4a03-ae57-ae633550f681\",\"type\":\"WheelZoomTool\"},{\"id\":\"b1f67f2c-43d5-40e9-aa3c-98678730ac47\",\"type\":\"BoxZoomTool\"},{\"id\":\"67519c10-1d10-4c35-8b86-6e38a23bcbfd\",\"type\":\"SaveTool\"},{\"id\":\"8da1a123-5e8e-4db8-991e-e5fe2e985992\",\"type\":\"ResetTool\"},{\"id\":\"0b55da80-9799-464b-88a4-b41360b26204\",\"type\":\"HelpTool\"}]},\"id\":\"c121e067-600e-4ff8-9e0c-bb5b1f0625e9\",\"type\":\"Toolbar\"},{\"attributes\":{},\"id\":\"7b06c2cf-5bda-4cb1-92c3-498bcf583f97\",\"type\":\"BasicTickFormatter\"},{\"attributes\":{},\"id\":\"a5202af9-6799-4d9f-87ff-5f6a8cf3e639\",\"type\":\"HelpTool\"},{\"attributes\":{\"callback\":null,\"end\":1.7272173900000003,\"start\":-0.6417621899999999},\"id\":\"9f8845e9-d863-4828-af08-4f84f1b7294a\",\"type\":\"Range1d\"},{\"attributes\":{\"callback\":null,\"data\":{\"x\":{\"__ndarray__\":\"L51n0PYGo7/as8vdBU+lv6Rd+eqysam/VfWIV63arb+cJbyVCeWwv0mGYzBbv7K/auoe1KN7tL8mdjp+Ehm2v4I1ye1pl7e/dumoaIH9uL+/0ERUuFC6v3ju+z+glru/oQFpvefZvL/+pfvvd969v6GXm7nREb2//ieqd+sOtb+E+1N7MOhWv536m6tBc8E/84wBAmvP1T8eEfhoFu3jP9VJz1c93u8/uNyqNd7n9j8eR2I4jUP7P+Mh51g5D/s/W4mKgipf+D+4/gLmxlnzP5rD/2fee+s/QwaPwjdl4j8YU7g3IozXP5OcfhZsn8U/WQn8Mi+/sb8fqkJm26fSv6pqejezKd6/MB1KH4AV4r9xVI+wf+ngv7tK0pBMota/7Agzrxudxr/Jfi/oMYi8v/5VA3F3hre/vs4gGurrs7+vnamJnhGxvzow64ulxKy/GLNnx/QhqL9PEkgSTzmkv6jVDoFOAaG/jtK5YzDNnL9hdQ/Jw1SYv7IL4A86RpS/MWpFO3GwkL9GOjFbGg6Lv6LwveUIHoW/FMdp30/afr/O6IKT2Olzv/lt5z6iyWK/liHw70DNJz/RKwA3GwxlPweDwzjs+HM/fJ3HbaMdfT+rt4zvGfaCP97t1SL9UYc/yrEOqoGkiz/yQPf096OPP3c+/C/phZE/FrgCKwPekj/sKiN8j/2TP4IZwEz1E5U/+2qLjos6lj/n+Z5UpXSXP0adw/n3wJg/Htm6ptARmj8BZN5mzlObPyQo9Zpbd5w/yuuJ+pmEnT/DLZsQpYOeP2o6ltKOdp8/\",\"dtype\":\"float64\",\"shape\":[75]},\"y\":{\"__ndarray__\":\"GhExyth1ND/Sv8nbtpRIP2vylNV0PVE/aTum7souWD/At0SJ8fVgPw3Iuahxymc/MSNhhJWvcD/bTfBN02d3P2zb5nxnaoA/CD5h5MAGhz8NmeH1TyaQP+zrCsc9p5Y/LbKd76fGnz/bLW5ISEmmPww9YvTcQq8/JV2OstnstT8Er5Y7M8G+P0c+r3jqkcU/5h99k6ZBzj88bCIzFzjVP4enV8oyxN0//yH99nXg5D8qOpLLf0jtP5kqGJXUifQ/c9cS8kHP/D+/DpwzojQEQIEmwoanVwxA4lgXt9HgE0BSSZ2AJuIbQAMJih9jjiNA5q4l5INuK0AwTKYKRj0zQNv5fmq8/DpAaCJseHrtQkB/+zpwzoxKQM3MzMzMeFJAZmZmZmZqWEAAAAAAAFxeQM3MzMzMJmJAmpmZmZkfZUBmZmZmZhhoQDMzMzMzEWtAAAAAAAAKbkBmZmZmZoFwQM3MzMzM/XFAMzMzMzN6c0CamZmZmfZ0QAAAAAAAc3ZAZmZmZmbvd0DNzMzMzGt5QDMzMzMz6HpAmpmZmZlkfEAAAAAAAOF9QGZmZmZmXX9AZmZmZuZsgECamZmZGSuBQM3MzMxM6YFAAAAAAICngkAzMzMzs2WDQGZmZmbmI4RAmpmZmRnihEDNzMzMTKCFQAAAAACAXoZAMzMzM7Mch0BmZmZm5tqHQJqZmZkZmYhAzczMzExXiUAAAAAAgBWKQDMzMzOz04pAZmZmZuaRi0CamZmZGVCMQM3MzMxMDo1AAAAAAIDMjUAzMzMzs4qOQGZmZmbmSI9A\",\"dtype\":\"float64\",\"shape\":[75]}},\"selected\":{\"id\":\"c46f868b-db1c-408c-a55b-211a5d2d79a4\",\"type\":\"Selection\"},\"selection_policy\":{\"id\":\"094282dc-1fd9-4911-a7a3-722271374480\",\"type\":\"UnionRenderers\"}},\"id\":\"2a5c6bdf-d422-4048-8ba8-0a96e1f83473\",\"type\":\"ColumnDataSource\"},{\"attributes\":{},\"id\":\"da595ddc-9374-405f-93c3-96a412c4d373\",\"type\":\"SaveTool\"},{\"attributes\":{\"items\":[{\"id\":\"18bb2ec5-2a79-4468-bbc0-3f0b752c8fb7\",\"type\":\"LegendItem\"},{\"id\":\"311e482b-bb29-459f-a926-ca8c0ad39b2a\",\"type\":\"LegendItem\"}],\"label_text_font_size\":{\"value\":\"8pt\"},\"location\":\"top_center\",\"orientation\":\"horizontal\",\"plot\":{\"id\":\"47609bcc-03e7-406d-8e5f-cc6a29bdae0a\",\"subtype\":\"Figure\",\"type\":\"Plot\"}},\"id\":\"fdbe36f0-3496-4ec6-b066-56ddbc90ada8\",\"type\":\"Legend\"},{\"attributes\":{},\"id\":\"24424796-4ab9-4acd-834f-20009d57ea27\",\"type\":\"UnionRenderers\"},{\"attributes\":{},\"id\":\"303cbebd-e842-443d-a581-7bc0bcfd17b0\",\"type\":\"BasicTickFormatter\"},{\"attributes\":{},\"id\":\"7b0baf5b-2e38-4b4d-8bf1-0d8cda569d66\",\"type\":\"ResetTool\"}],\"root_ids\":[\"07ea29db-b7a1-4d6e-99b6-781265d9deb2\"]},\"title\":\"Bokeh Application\",\"version\":\"0.12.16\"}};\n",
       "  var render_items = [{\"docid\":\"e1026dd7-d207-48c3-9212-866804c19963\",\"elementid\":\"ee903bff-d69e-43c8-bec5-6e95b467e208\",\"modelid\":\"07ea29db-b7a1-4d6e-99b6-781265d9deb2\"}];\n",
       "  root.Bokeh.embed.embed_items_notebook(docs_json, render_items);\n",
       "\n",
       "  }\n",
       "  if (root.Bokeh !== undefined) {\n",
       "    embed_document(root);\n",
       "  } else {\n",
       "    var attempts = 0;\n",
       "    var timer = setInterval(function(root) {\n",
       "      if (root.Bokeh !== undefined) {\n",
       "        embed_document(root);\n",
       "        clearInterval(timer);\n",
       "      }\n",
       "      attempts++;\n",
       "      if (attempts > 100) {\n",
       "        console.log(\"Bokeh: ERROR: Unable to run BokehJS code because BokehJS library is missing\")\n",
       "        clearInterval(timer);\n",
       "      }\n",
       "    }, 10, root)\n",
       "  }\n",
       "})(window);"
      ],
      "application/vnd.bokehjs_exec.v0+json": ""
     },
     "metadata": {
      "application/vnd.bokehjs_exec.v0+json": {
       "id": "07ea29db-b7a1-4d6e-99b6-781265d9deb2"
      }
     },
     "output_type": "display_data"
    },
    {
     "data": {
      "text/markdown": [
       "*FIGURE.* Cooling rates & difference."
      ],
      "text/plain": [
       "<IPython.core.display.Markdown object>"
      ]
     },
     "metadata": {},
     "output_type": "display_data"
    },
    {
     "data": {
      "text/html": [
       "<a id=\"Fluxes._trp.\"></a>"
      ],
      "text/plain": [
       "<IPython.core.display.HTML object>"
      ]
     },
     "metadata": {},
     "output_type": "display_data"
    },
    {
     "data": {
      "text/markdown": [
       "# Fluxes. trp."
      ],
      "text/plain": [
       "<IPython.core.display.Markdown object>"
      ]
     },
     "metadata": {},
     "output_type": "display_data"
    },
    {
     "data": {
      "text/html": [
       "\n",
       "<div class=\"bk-root\">\n",
       "    <div class=\"bk-plotdiv\" id=\"0eaf7510-e595-4bd2-99ca-185a9b409aa1\"></div>\n",
       "</div>"
      ]
     },
     "metadata": {},
     "output_type": "display_data"
    },
    {
     "data": {
      "application/javascript": [
       "(function(root) {\n",
       "  function embed_document(root) {\n",
       "    \n",
       "  var docs_json = {\"f31ddfa1-f411-4ebb-95ac-f04991c1dd07\":{\"roots\":{\"references\":[{\"attributes\":{},\"id\":\"f2cbaa94-fd1b-41b2-84e2-9cbe3a3bcb05\",\"type\":\"PanTool\"},{\"attributes\":{},\"id\":\"fc058c3c-0f26-44c7-b4ac-7f0c1b129fe0\",\"type\":\"ResetTool\"},{\"attributes\":{\"below\":[{\"id\":\"26f43820-f794-44e5-b73e-0786f0a81b0b\",\"type\":\"CategoricalAxis\"}],\"left\":[{\"id\":\"70bea4a7-4f20-4189-b1d5-daa2c14b6f87\",\"type\":\"LinearAxis\"}],\"plot_height\":300,\"plot_width\":300,\"renderers\":[{\"id\":\"26f43820-f794-44e5-b73e-0786f0a81b0b\",\"type\":\"CategoricalAxis\"},{\"id\":\"90056942-000f-421a-8811-1a6e68d4c6d4\",\"type\":\"Grid\"},{\"id\":\"70bea4a7-4f20-4189-b1d5-daa2c14b6f87\",\"type\":\"LinearAxis\"},{\"id\":\"08c3f097-fb01-4cb5-bbf5-9a9a53628d07\",\"type\":\"Grid\"},{\"id\":\"80e499d7-ada5-4ba6-bcba-7e363b6a4ade\",\"type\":\"BoxAnnotation\"},{\"id\":\"e0168ea7-7ffc-422f-bc29-ce8fbc53fd83\",\"type\":\"GlyphRenderer\"}],\"title\":{\"id\":\"cdfd9010-0f30-4160-93d1-793d350c68b5\",\"type\":\"Title\"},\"toolbar\":{\"id\":\"708b7ede-6fba-42ea-9260-50c3f5e8b496\",\"type\":\"Toolbar\"},\"toolbar_location\":null,\"x_range\":{\"id\":\"2df121de-cdd8-49eb-a355-592747319d3f\",\"type\":\"FactorRange\"},\"x_scale\":{\"id\":\"e8b2fc93-0611-43a9-aa52-eb55462fe7af\",\"type\":\"CategoricalScale\"},\"y_range\":{\"id\":\"40e02e30-0f1e-4edd-89f3-67b11297d6c0\",\"type\":\"DataRange1d\"},\"y_scale\":{\"id\":\"0c327dbe-a74e-4bcc-b3db-127ec212c21d\",\"type\":\"LinearScale\"}},\"id\":\"07809db0-8b35-45c4-b1e8-ff0e42ac6f6f\",\"subtype\":\"Figure\",\"type\":\"Plot\"},{\"attributes\":{\"callback\":null,\"factors\":[\"7\"]},\"id\":\"7a701533-613b-4e6e-a881-68cef6c57d66\",\"type\":\"FactorRange\"},{\"attributes\":{\"fill_color\":{\"value\":\"#1f77b4\"},\"line_color\":{\"value\":\"#1f77b4\"},\"top\":{\"field\":\"flux\"},\"width\":{\"value\":0.9},\"x\":{\"field\":\"band\"}},\"id\":\"2c2aab37-9645-4885-87c2-7dfdd011f1dd\",\"type\":\"VBar\"},{\"attributes\":{\"active_drag\":\"auto\",\"active_inspect\":\"auto\",\"active_scroll\":\"auto\",\"active_tap\":\"auto\",\"tools\":[{\"id\":\"b3e10156-7a0c-4bf9-8bba-723f97aa95b9\",\"type\":\"PanTool\"},{\"id\":\"499fa16b-eba6-4907-85b7-7c58ac2654c2\",\"type\":\"WheelZoomTool\"},{\"id\":\"3923ac2e-3a82-4fea-9b43-b60f81786626\",\"type\":\"BoxZoomTool\"},{\"id\":\"0ad4f633-312c-4d8e-bc89-7419941773ae\",\"type\":\"SaveTool\"},{\"id\":\"fc058c3c-0f26-44c7-b4ac-7f0c1b129fe0\",\"type\":\"ResetTool\"},{\"id\":\"92ea447d-9497-4c94-a5d3-13e4135c0c52\",\"type\":\"HelpTool\"}]},\"id\":\"d9d78526-dbc7-4d24-bbb9-5cee27bb20fa\",\"type\":\"Toolbar\"},{\"attributes\":{\"fill_alpha\":{\"value\":0.1},\"fill_color\":{\"value\":\"#1f77b4\"},\"line_alpha\":{\"value\":0.1},\"line_color\":{\"value\":\"#1f77b4\"},\"top\":{\"field\":\"flux\"},\"width\":{\"value\":0.9},\"x\":{\"field\":\"band\"}},\"id\":\"4fe0bb4f-9975-4e5f-abc0-f0730d5b7418\",\"type\":\"VBar\"},{\"attributes\":{\"source\":{\"id\":\"dc6e2732-0cff-4024-a040-b1235c4700b8\",\"type\":\"ColumnDataSource\"}},\"id\":\"6cb7266f-81ad-46d3-a89a-52474471afcc\",\"type\":\"CDSView\"},{\"attributes\":{},\"id\":\"c57a1580-5d80-4297-bde5-0c6e2f51c899\",\"type\":\"HelpTool\"},{\"attributes\":{},\"id\":\"b3e10156-7a0c-4bf9-8bba-723f97aa95b9\",\"type\":\"PanTool\"},{\"attributes\":{\"plot\":null,\"text\":\"SFC flux. CLIRAD - CRD.\"},\"id\":\"75fe4439-a1cb-4f07-88c5-fe5a0c16ad5d\",\"type\":\"Title\"},{\"attributes\":{},\"id\":\"7fdc64b3-a4e6-4a36-8b31-c1d83fea13ce\",\"type\":\"WheelZoomTool\"},{\"attributes\":{\"below\":[{\"id\":\"8badabb7-c9a2-4057-b60b-673a82bdfebd\",\"type\":\"CategoricalAxis\"}],\"left\":[{\"id\":\"234e78a0-ed35-4a25-8777-33f8af8530f8\",\"type\":\"LinearAxis\"}],\"plot_height\":300,\"plot_width\":300,\"renderers\":[{\"id\":\"8badabb7-c9a2-4057-b60b-673a82bdfebd\",\"type\":\"CategoricalAxis\"},{\"id\":\"a96a34b2-656c-498f-a5ca-ee8d16c49584\",\"type\":\"Grid\"},{\"id\":\"234e78a0-ed35-4a25-8777-33f8af8530f8\",\"type\":\"LinearAxis\"},{\"id\":\"805b8131-20ab-4fab-9299-b30dc8537d78\",\"type\":\"Grid\"},{\"id\":\"dedfac63-4074-4860-a2da-c617d501c3b6\",\"type\":\"BoxAnnotation\"},{\"id\":\"f2a18366-6497-4b65-847b-cc9d0a40342e\",\"type\":\"GlyphRenderer\"}],\"title\":{\"id\":\"75fe4439-a1cb-4f07-88c5-fe5a0c16ad5d\",\"type\":\"Title\"},\"toolbar\":{\"id\":\"d9d78526-dbc7-4d24-bbb9-5cee27bb20fa\",\"type\":\"Toolbar\"},\"toolbar_location\":null,\"x_range\":{\"id\":\"7a701533-613b-4e6e-a881-68cef6c57d66\",\"type\":\"FactorRange\"},\"x_scale\":{\"id\":\"3a817c1e-4d9e-42df-9592-552b727d4280\",\"type\":\"CategoricalScale\"},\"y_range\":{\"id\":\"aacb0e5b-f706-49f2-b140-84fc32919cfd\",\"type\":\"DataRange1d\"},\"y_scale\":{\"id\":\"86a7cce7-830b-4704-9921-d8927bb15388\",\"type\":\"LinearScale\"}},\"id\":\"0e1b192b-3244-4c71-8799-eac88438aefc\",\"subtype\":\"Figure\",\"type\":\"Plot\"},{\"attributes\":{\"plot\":{\"id\":\"0f0322c8-d259-4d3e-8c16-dfe1151ab656\",\"subtype\":\"Figure\",\"type\":\"Plot\"},\"ticker\":{\"id\":\"e697f257-3a69-4ffc-9ace-29735ebaa1a7\",\"type\":\"CategoricalTicker\"}},\"id\":\"3bda834b-49b7-46d1-913e-0d63672c82d1\",\"type\":\"Grid\"},{\"attributes\":{\"callback\":null,\"data\":{\"band\":[\"7\"],\"flux\":{\"__ndarray__\":\"gIE9JlKazz8=\",\"dtype\":\"float64\",\"shape\":[1]}},\"selected\":{\"id\":\"f8a0000a-1047-4a9f-a437-5291ef8d3554\",\"type\":\"Selection\"},\"selection_policy\":{\"id\":\"6d7b796e-180f-4bc3-98b9-845925750924\",\"type\":\"UnionRenderers\"}},\"id\":\"dc6e2732-0cff-4024-a040-b1235c4700b8\",\"type\":\"ColumnDataSource\"},{\"attributes\":{},\"id\":\"bb032acc-ab92-467c-8c8c-a4448a5cbe9b\",\"type\":\"UnionRenderers\"},{\"attributes\":{\"data_source\":{\"id\":\"886ab843-26b9-44d2-a600-95140e6d6328\",\"type\":\"ColumnDataSource\"},\"glyph\":{\"id\":\"79795940-2b44-424d-aee2-6f15f7f2f0f4\",\"type\":\"VBar\"},\"hover_glyph\":null,\"muted_glyph\":null,\"nonselection_glyph\":{\"id\":\"799db6e7-f1fa-4226-a35e-a146c82dc174\",\"type\":\"VBar\"},\"selection_glyph\":null,\"view\":{\"id\":\"f895feac-47f4-453d-abc7-6de4f3a60218\",\"type\":\"CDSView\"}},\"id\":\"f2a18366-6497-4b65-847b-cc9d0a40342e\",\"type\":\"GlyphRenderer\"},{\"attributes\":{\"data_source\":{\"id\":\"8b7a7dd9-9c97-4787-a7ce-8407a0b01281\",\"type\":\"ColumnDataSource\"},\"glyph\":{\"id\":\"46b76cc6-6aa0-4009-96eb-36680111aee9\",\"type\":\"VBar\"},\"hover_glyph\":null,\"muted_glyph\":null,\"nonselection_glyph\":{\"id\":\"ac239c70-a9ed-49de-a4f4-79d866b62ef5\",\"type\":\"VBar\"},\"selection_glyph\":null,\"view\":{\"id\":\"0501c648-6735-48c7-b640-d90127cdeeca\",\"type\":\"CDSView\"}},\"id\":\"e0168ea7-7ffc-422f-bc29-ce8fbc53fd83\",\"type\":\"GlyphRenderer\"},{\"attributes\":{\"toolbar\":{\"id\":\"4ba4a17a-b166-4bb4-9f27-58a865b83008\",\"type\":\"ProxyToolbar\"},\"toolbar_location\":\"above\"},\"id\":\"a7d614e9-24df-4175-9362-bafb38b07e86\",\"type\":\"ToolbarBox\"},{\"attributes\":{\"bottom_units\":\"screen\",\"fill_alpha\":{\"value\":0.5},\"fill_color\":{\"value\":\"lightgrey\"},\"left_units\":\"screen\",\"level\":\"overlay\",\"line_alpha\":{\"value\":1.0},\"line_color\":{\"value\":\"black\"},\"line_dash\":[4,4],\"line_width\":{\"value\":2},\"plot\":null,\"render_mode\":\"css\",\"right_units\":\"screen\",\"top_units\":\"screen\"},\"id\":\"be8e6712-1c53-4e92-8af1-1a67682ae45d\",\"type\":\"BoxAnnotation\"},{\"attributes\":{\"children\":[{\"id\":\"0f0322c8-d259-4d3e-8c16-dfe1151ab656\",\"subtype\":\"Figure\",\"type\":\"Plot\"},{\"id\":\"0e1b192b-3244-4c71-8799-eac88438aefc\",\"subtype\":\"Figure\",\"type\":\"Plot\"},{\"id\":\"07809db0-8b35-45c4-b1e8-ff0e42ac6f6f\",\"subtype\":\"Figure\",\"type\":\"Plot\"}]},\"id\":\"9a20e718-e4a1-4cb8-ba84-e78f2d9c707b\",\"type\":\"Row\"},{\"attributes\":{},\"id\":\"3dc5b654-60f7-498f-8344-26681ced8ec7\",\"type\":\"CategoricalTickFormatter\"},{\"attributes\":{},\"id\":\"499fa16b-eba6-4907-85b7-7c58ac2654c2\",\"type\":\"WheelZoomTool\"},{\"attributes\":{\"callback\":null},\"id\":\"aacb0e5b-f706-49f2-b140-84fc32919cfd\",\"type\":\"DataRange1d\"},{\"attributes\":{\"overlay\":{\"id\":\"be8e6712-1c53-4e92-8af1-1a67682ae45d\",\"type\":\"BoxAnnotation\"}},\"id\":\"f88f3b4d-359f-42fe-8b9b-fcf6d2baa4b8\",\"type\":\"BoxZoomTool\"},{\"attributes\":{\"source\":{\"id\":\"886ab843-26b9-44d2-a600-95140e6d6328\",\"type\":\"ColumnDataSource\"}},\"id\":\"f895feac-47f4-453d-abc7-6de4f3a60218\",\"type\":\"CDSView\"},{\"attributes\":{\"data_source\":{\"id\":\"dc6e2732-0cff-4024-a040-b1235c4700b8\",\"type\":\"ColumnDataSource\"},\"glyph\":{\"id\":\"2c2aab37-9645-4885-87c2-7dfdd011f1dd\",\"type\":\"VBar\"},\"hover_glyph\":null,\"muted_glyph\":null,\"nonselection_glyph\":{\"id\":\"4fe0bb4f-9975-4e5f-abc0-f0730d5b7418\",\"type\":\"VBar\"},\"selection_glyph\":null,\"view\":{\"id\":\"6cb7266f-81ad-46d3-a89a-52474471afcc\",\"type\":\"CDSView\"}},\"id\":\"6f08ea67-37ed-4514-b745-c1de80a6e4f2\",\"type\":\"GlyphRenderer\"},{\"attributes\":{},\"id\":\"b221fbe3-9e24-4ca0-a799-495f778bd2dc\",\"type\":\"SaveTool\"},{\"attributes\":{},\"id\":\"9da0c5d7-9b7c-4e3b-8032-170e0ed51e9a\",\"type\":\"ResetTool\"},{\"attributes\":{\"tools\":[{\"id\":\"f2cbaa94-fd1b-41b2-84e2-9cbe3a3bcb05\",\"type\":\"PanTool\"},{\"id\":\"7fdc64b3-a4e6-4a36-8b31-c1d83fea13ce\",\"type\":\"WheelZoomTool\"},{\"id\":\"f88f3b4d-359f-42fe-8b9b-fcf6d2baa4b8\",\"type\":\"BoxZoomTool\"},{\"id\":\"b221fbe3-9e24-4ca0-a799-495f778bd2dc\",\"type\":\"SaveTool\"},{\"id\":\"9da0c5d7-9b7c-4e3b-8032-170e0ed51e9a\",\"type\":\"ResetTool\"},{\"id\":\"c57a1580-5d80-4297-bde5-0c6e2f51c899\",\"type\":\"HelpTool\"},{\"id\":\"b3e10156-7a0c-4bf9-8bba-723f97aa95b9\",\"type\":\"PanTool\"},{\"id\":\"499fa16b-eba6-4907-85b7-7c58ac2654c2\",\"type\":\"WheelZoomTool\"},{\"id\":\"3923ac2e-3a82-4fea-9b43-b60f81786626\",\"type\":\"BoxZoomTool\"},{\"id\":\"0ad4f633-312c-4d8e-bc89-7419941773ae\",\"type\":\"SaveTool\"},{\"id\":\"fc058c3c-0f26-44c7-b4ac-7f0c1b129fe0\",\"type\":\"ResetTool\"},{\"id\":\"92ea447d-9497-4c94-a5d3-13e4135c0c52\",\"type\":\"HelpTool\"},{\"id\":\"0e48a6c9-2249-43ad-8493-b142aa6b0b66\",\"type\":\"PanTool\"},{\"id\":\"cbba5c53-52e8-42a9-a781-0e1b8b92d6f3\",\"type\":\"WheelZoomTool\"},{\"id\":\"554d3c2e-4b81-46e9-822d-9970220b6260\",\"type\":\"BoxZoomTool\"},{\"id\":\"1b4dcd05-7c1a-4224-b971-646c7b96e48a\",\"type\":\"SaveTool\"},{\"id\":\"24cf6056-fd1f-4a36-b308-b9beea3b6fc5\",\"type\":\"ResetTool\"},{\"id\":\"d650c5d7-ddfb-4efc-9291-e8c13618c898\",\"type\":\"HelpTool\"}]},\"id\":\"4ba4a17a-b166-4bb4-9f27-58a865b83008\",\"type\":\"ProxyToolbar\"},{\"attributes\":{\"plot\":{\"id\":\"0e1b192b-3244-4c71-8799-eac88438aefc\",\"subtype\":\"Figure\",\"type\":\"Plot\"},\"ticker\":{\"id\":\"b1974b1b-2dac-46b7-8fb8-85e3ba028608\",\"type\":\"CategoricalTicker\"}},\"id\":\"a96a34b2-656c-498f-a5ca-ee8d16c49584\",\"type\":\"Grid\"},{\"attributes\":{\"axis_label\":\"flux (W m-2)\",\"formatter\":{\"id\":\"6837f013-f470-400d-8d70-db86caeb7589\",\"type\":\"BasicTickFormatter\"},\"plot\":{\"id\":\"07809db0-8b35-45c4-b1e8-ff0e42ac6f6f\",\"subtype\":\"Figure\",\"type\":\"Plot\"},\"ticker\":{\"id\":\"14756662-6562-4cb7-9f78-2344a5c548dd\",\"type\":\"BasicTicker\"}},\"id\":\"70bea4a7-4f20-4189-b1d5-daa2c14b6f87\",\"type\":\"LinearAxis\"},{\"attributes\":{},\"id\":\"d998b2a9-3723-4c5c-bfda-4ecbb112171f\",\"type\":\"CategoricalScale\"},{\"attributes\":{},\"id\":\"6837f013-f470-400d-8d70-db86caeb7589\",\"type\":\"BasicTickFormatter\"},{\"attributes\":{\"fill_alpha\":{\"value\":0.1},\"fill_color\":{\"value\":\"#1f77b4\"},\"line_alpha\":{\"value\":0.1},\"line_color\":{\"value\":\"#1f77b4\"},\"top\":{\"field\":\"flux\"},\"width\":{\"value\":0.9},\"x\":{\"field\":\"band\"}},\"id\":\"ac239c70-a9ed-49de-a4f4-79d866b62ef5\",\"type\":\"VBar\"},{\"attributes\":{},\"id\":\"90bfbfc3-de3f-4505-9c90-d44dad942934\",\"type\":\"BasicTicker\"},{\"attributes\":{\"active_drag\":\"auto\",\"active_inspect\":\"auto\",\"active_scroll\":\"auto\",\"active_tap\":\"auto\",\"tools\":[{\"id\":\"f2cbaa94-fd1b-41b2-84e2-9cbe3a3bcb05\",\"type\":\"PanTool\"},{\"id\":\"7fdc64b3-a4e6-4a36-8b31-c1d83fea13ce\",\"type\":\"WheelZoomTool\"},{\"id\":\"f88f3b4d-359f-42fe-8b9b-fcf6d2baa4b8\",\"type\":\"BoxZoomTool\"},{\"id\":\"b221fbe3-9e24-4ca0-a799-495f778bd2dc\",\"type\":\"SaveTool\"},{\"id\":\"9da0c5d7-9b7c-4e3b-8032-170e0ed51e9a\",\"type\":\"ResetTool\"},{\"id\":\"c57a1580-5d80-4297-bde5-0c6e2f51c899\",\"type\":\"HelpTool\"}]},\"id\":\"73d16e9b-63af-4dc2-89b5-ba5e112cab23\",\"type\":\"Toolbar\"},{\"attributes\":{\"callback\":null,\"factors\":[\"7\"]},\"id\":\"2df121de-cdd8-49eb-a355-592747319d3f\",\"type\":\"FactorRange\"},{\"attributes\":{\"dimension\":1,\"plot\":{\"id\":\"07809db0-8b35-45c4-b1e8-ff0e42ac6f6f\",\"subtype\":\"Figure\",\"type\":\"Plot\"},\"ticker\":{\"id\":\"14756662-6562-4cb7-9f78-2344a5c548dd\",\"type\":\"BasicTicker\"}},\"id\":\"08c3f097-fb01-4cb5-bbf5-9a9a53628d07\",\"type\":\"Grid\"},{\"attributes\":{},\"id\":\"21ee8147-9c18-4606-9821-f5c2870c7716\",\"type\":\"BasicTickFormatter\"},{\"attributes\":{\"axis_label\":\"spectral band\",\"formatter\":{\"id\":\"3dc5b654-60f7-498f-8344-26681ced8ec7\",\"type\":\"CategoricalTickFormatter\"},\"plot\":{\"id\":\"0e1b192b-3244-4c71-8799-eac88438aefc\",\"subtype\":\"Figure\",\"type\":\"Plot\"},\"ticker\":{\"id\":\"b1974b1b-2dac-46b7-8fb8-85e3ba028608\",\"type\":\"CategoricalTicker\"}},\"id\":\"8badabb7-c9a2-4057-b60b-673a82bdfebd\",\"type\":\"CategoricalAxis\"},{\"attributes\":{\"children\":[{\"id\":\"a7d614e9-24df-4175-9362-bafb38b07e86\",\"type\":\"ToolbarBox\"},{\"id\":\"4c80ea61-15ef-4062-8beb-a4d7b275a34a\",\"type\":\"Column\"}]},\"id\":\"ab143fed-e4ec-436f-9c7d-994b65ed85ff\",\"type\":\"Column\"},{\"attributes\":{\"dimension\":1,\"plot\":{\"id\":\"0e1b192b-3244-4c71-8799-eac88438aefc\",\"subtype\":\"Figure\",\"type\":\"Plot\"},\"ticker\":{\"id\":\"36a723b9-1e56-40c9-9287-af42b481c2c2\",\"type\":\"BasicTicker\"}},\"id\":\"805b8131-20ab-4fab-9299-b30dc8537d78\",\"type\":\"Grid\"},{\"attributes\":{\"bottom_units\":\"screen\",\"fill_alpha\":{\"value\":0.5},\"fill_color\":{\"value\":\"lightgrey\"},\"left_units\":\"screen\",\"level\":\"overlay\",\"line_alpha\":{\"value\":1.0},\"line_color\":{\"value\":\"black\"},\"line_dash\":[4,4],\"line_width\":{\"value\":2},\"plot\":null,\"render_mode\":\"css\",\"right_units\":\"screen\",\"top_units\":\"screen\"},\"id\":\"80e499d7-ada5-4ba6-bcba-7e363b6a4ade\",\"type\":\"BoxAnnotation\"},{\"attributes\":{},\"id\":\"14756662-6562-4cb7-9f78-2344a5c548dd\",\"type\":\"BasicTicker\"},{\"attributes\":{\"dimension\":1,\"plot\":{\"id\":\"0f0322c8-d259-4d3e-8c16-dfe1151ab656\",\"subtype\":\"Figure\",\"type\":\"Plot\"},\"ticker\":{\"id\":\"90bfbfc3-de3f-4505-9c90-d44dad942934\",\"type\":\"BasicTicker\"}},\"id\":\"8d22b412-037d-458f-8cf4-b8862fcccb53\",\"type\":\"Grid\"},{\"attributes\":{},\"id\":\"6d7b796e-180f-4bc3-98b9-845925750924\",\"type\":\"UnionRenderers\"},{\"attributes\":{\"fill_color\":{\"value\":\"#1f77b4\"},\"line_color\":{\"value\":\"#1f77b4\"},\"top\":{\"field\":\"flux\"},\"width\":{\"value\":0.9},\"x\":{\"field\":\"band\"}},\"id\":\"46b76cc6-6aa0-4009-96eb-36680111aee9\",\"type\":\"VBar\"},{\"attributes\":{\"callback\":null,\"data\":{\"band\":[\"7\"],\"flux\":{\"__ndarray__\":\"AFwf1hu12D8=\",\"dtype\":\"float64\",\"shape\":[1]}},\"selected\":{\"id\":\"9fca2c24-1e2b-4e5c-9e11-2a3b1a879d0c\",\"type\":\"Selection\"},\"selection_policy\":{\"id\":\"bb032acc-ab92-467c-8c8c-a4448a5cbe9b\",\"type\":\"UnionRenderers\"}},\"id\":\"8b7a7dd9-9c97-4787-a7ce-8407a0b01281\",\"type\":\"ColumnDataSource\"},{\"attributes\":{\"callback\":null,\"data\":{\"band\":[\"7\"],\"flux\":{\"__ndarray__\":\"IFp7RPHPwb8=\",\"dtype\":\"float64\",\"shape\":[1]}},\"selected\":{\"id\":\"4cbb1954-455a-4fa9-a3fe-fa70b137a8de\",\"type\":\"Selection\"},\"selection_policy\":{\"id\":\"9379c2e6-e85a-41b1-87d1-c46bc8983daa\",\"type\":\"UnionRenderers\"}},\"id\":\"886ab843-26b9-44d2-a600-95140e6d6328\",\"type\":\"ColumnDataSource\"},{\"attributes\":{},\"id\":\"a72b6c19-76d6-40d9-a9e9-0c11187abafd\",\"type\":\"BasicTickFormatter\"},{\"attributes\":{},\"id\":\"0c327dbe-a74e-4bcc-b3db-127ec212c21d\",\"type\":\"LinearScale\"},{\"attributes\":{},\"id\":\"f8a0000a-1047-4a9f-a437-5291ef8d3554\",\"type\":\"Selection\"},{\"attributes\":{},\"id\":\"0b9a1de0-dbab-4b65-88ef-8ef93d4a3ad0\",\"type\":\"CategoricalTicker\"},{\"attributes\":{\"bottom_units\":\"screen\",\"fill_alpha\":{\"value\":0.5},\"fill_color\":{\"value\":\"lightgrey\"},\"left_units\":\"screen\",\"level\":\"overlay\",\"line_alpha\":{\"value\":1.0},\"line_color\":{\"value\":\"black\"},\"line_dash\":[4,4],\"line_width\":{\"value\":2},\"plot\":null,\"render_mode\":\"css\",\"right_units\":\"screen\",\"top_units\":\"screen\"},\"id\":\"dedfac63-4074-4860-a2da-c617d501c3b6\",\"type\":\"BoxAnnotation\"},{\"attributes\":{\"axis_label\":\"spectral band\",\"formatter\":{\"id\":\"8a362220-f040-4dea-a9fd-457bc1ad9b9d\",\"type\":\"CategoricalTickFormatter\"},\"plot\":{\"id\":\"07809db0-8b35-45c4-b1e8-ff0e42ac6f6f\",\"subtype\":\"Figure\",\"type\":\"Plot\"},\"ticker\":{\"id\":\"0b9a1de0-dbab-4b65-88ef-8ef93d4a3ad0\",\"type\":\"CategoricalTicker\"}},\"id\":\"26f43820-f794-44e5-b73e-0786f0a81b0b\",\"type\":\"CategoricalAxis\"},{\"attributes\":{},\"id\":\"0ad4f633-312c-4d8e-bc89-7419941773ae\",\"type\":\"SaveTool\"},{\"attributes\":{\"plot\":{\"id\":\"07809db0-8b35-45c4-b1e8-ff0e42ac6f6f\",\"subtype\":\"Figure\",\"type\":\"Plot\"},\"ticker\":{\"id\":\"0b9a1de0-dbab-4b65-88ef-8ef93d4a3ad0\",\"type\":\"CategoricalTicker\"}},\"id\":\"90056942-000f-421a-8811-1a6e68d4c6d4\",\"type\":\"Grid\"},{\"attributes\":{},\"id\":\"3a817c1e-4d9e-42df-9592-552b727d4280\",\"type\":\"CategoricalScale\"},{\"attributes\":{\"active_drag\":\"auto\",\"active_inspect\":\"auto\",\"active_scroll\":\"auto\",\"active_tap\":\"auto\",\"tools\":[{\"id\":\"0e48a6c9-2249-43ad-8493-b142aa6b0b66\",\"type\":\"PanTool\"},{\"id\":\"cbba5c53-52e8-42a9-a781-0e1b8b92d6f3\",\"type\":\"WheelZoomTool\"},{\"id\":\"554d3c2e-4b81-46e9-822d-9970220b6260\",\"type\":\"BoxZoomTool\"},{\"id\":\"1b4dcd05-7c1a-4224-b971-646c7b96e48a\",\"type\":\"SaveTool\"},{\"id\":\"24cf6056-fd1f-4a36-b308-b9beea3b6fc5\",\"type\":\"ResetTool\"},{\"id\":\"d650c5d7-ddfb-4efc-9291-e8c13618c898\",\"type\":\"HelpTool\"}]},\"id\":\"708b7ede-6fba-42ea-9260-50c3f5e8b496\",\"type\":\"Toolbar\"},{\"attributes\":{\"callback\":null},\"id\":\"40e02e30-0f1e-4edd-89f3-67b11297d6c0\",\"type\":\"DataRange1d\"},{\"attributes\":{},\"id\":\"e8b2fc93-0611-43a9-aa52-eb55462fe7af\",\"type\":\"CategoricalScale\"},{\"attributes\":{},\"id\":\"86a7cce7-830b-4704-9921-d8927bb15388\",\"type\":\"LinearScale\"},{\"attributes\":{},\"id\":\"e071eac7-d5f6-4da3-b411-d447ed8e72e8\",\"type\":\"CategoricalTickFormatter\"},{\"attributes\":{},\"id\":\"8a362220-f040-4dea-a9fd-457bc1ad9b9d\",\"type\":\"CategoricalTickFormatter\"},{\"attributes\":{\"axis_label\":\"flux (W m-2)\",\"formatter\":{\"id\":\"21ee8147-9c18-4606-9821-f5c2870c7716\",\"type\":\"BasicTickFormatter\"},\"plot\":{\"id\":\"0f0322c8-d259-4d3e-8c16-dfe1151ab656\",\"subtype\":\"Figure\",\"type\":\"Plot\"},\"ticker\":{\"id\":\"90bfbfc3-de3f-4505-9c90-d44dad942934\",\"type\":\"BasicTicker\"}},\"id\":\"2e5156ba-35b2-4790-a693-714b9124aa23\",\"type\":\"LinearAxis\"},{\"attributes\":{\"axis_label\":\"flux (W m-2)\",\"formatter\":{\"id\":\"a72b6c19-76d6-40d9-a9e9-0c11187abafd\",\"type\":\"BasicTickFormatter\"},\"plot\":{\"id\":\"0e1b192b-3244-4c71-8799-eac88438aefc\",\"subtype\":\"Figure\",\"type\":\"Plot\"},\"ticker\":{\"id\":\"36a723b9-1e56-40c9-9287-af42b481c2c2\",\"type\":\"BasicTicker\"}},\"id\":\"234e78a0-ed35-4a25-8777-33f8af8530f8\",\"type\":\"LinearAxis\"},{\"attributes\":{},\"id\":\"0e48a6c9-2249-43ad-8493-b142aa6b0b66\",\"type\":\"PanTool\"},{\"attributes\":{\"fill_color\":{\"value\":\"#1f77b4\"},\"line_color\":{\"value\":\"#1f77b4\"},\"top\":{\"field\":\"flux\"},\"width\":{\"value\":0.9},\"x\":{\"field\":\"band\"}},\"id\":\"79795940-2b44-424d-aee2-6f15f7f2f0f4\",\"type\":\"VBar\"},{\"attributes\":{\"plot\":null,\"text\":\"Atmosphere heating. CLIRAD - CRD.\"},\"id\":\"cdfd9010-0f30-4160-93d1-793d350c68b5\",\"type\":\"Title\"},{\"attributes\":{\"callback\":null},\"id\":\"8bd19c7f-9c63-4317-953d-8f0025b0969d\",\"type\":\"DataRange1d\"},{\"attributes\":{\"fill_alpha\":{\"value\":0.1},\"fill_color\":{\"value\":\"#1f77b4\"},\"line_alpha\":{\"value\":0.1},\"line_color\":{\"value\":\"#1f77b4\"},\"top\":{\"field\":\"flux\"},\"width\":{\"value\":0.9},\"x\":{\"field\":\"band\"}},\"id\":\"799db6e7-f1fa-4226-a35e-a146c82dc174\",\"type\":\"VBar\"},{\"attributes\":{},\"id\":\"4cbb1954-455a-4fa9-a3fe-fa70b137a8de\",\"type\":\"Selection\"},{\"attributes\":{},\"id\":\"36a723b9-1e56-40c9-9287-af42b481c2c2\",\"type\":\"BasicTicker\"},{\"attributes\":{},\"id\":\"9379c2e6-e85a-41b1-87d1-c46bc8983daa\",\"type\":\"UnionRenderers\"},{\"attributes\":{\"overlay\":{\"id\":\"80e499d7-ada5-4ba6-bcba-7e363b6a4ade\",\"type\":\"BoxAnnotation\"}},\"id\":\"554d3c2e-4b81-46e9-822d-9970220b6260\",\"type\":\"BoxZoomTool\"},{\"attributes\":{},\"id\":\"92ea447d-9497-4c94-a5d3-13e4135c0c52\",\"type\":\"HelpTool\"},{\"attributes\":{},\"id\":\"44e19798-f2b2-433e-9586-db45079f41cc\",\"type\":\"LinearScale\"},{\"attributes\":{},\"id\":\"cbba5c53-52e8-42a9-a781-0e1b8b92d6f3\",\"type\":\"WheelZoomTool\"},{\"attributes\":{\"below\":[{\"id\":\"b6be607b-621e-4429-a65c-95cfb9264308\",\"type\":\"CategoricalAxis\"}],\"left\":[{\"id\":\"2e5156ba-35b2-4790-a693-714b9124aa23\",\"type\":\"LinearAxis\"}],\"plot_height\":300,\"plot_width\":300,\"renderers\":[{\"id\":\"b6be607b-621e-4429-a65c-95cfb9264308\",\"type\":\"CategoricalAxis\"},{\"id\":\"3bda834b-49b7-46d1-913e-0d63672c82d1\",\"type\":\"Grid\"},{\"id\":\"2e5156ba-35b2-4790-a693-714b9124aa23\",\"type\":\"LinearAxis\"},{\"id\":\"8d22b412-037d-458f-8cf4-b8862fcccb53\",\"type\":\"Grid\"},{\"id\":\"be8e6712-1c53-4e92-8af1-1a67682ae45d\",\"type\":\"BoxAnnotation\"},{\"id\":\"6f08ea67-37ed-4514-b745-c1de80a6e4f2\",\"type\":\"GlyphRenderer\"}],\"title\":{\"id\":\"8e7f32a3-8d76-4b81-83b9-26f9855fc17c\",\"type\":\"Title\"},\"toolbar\":{\"id\":\"73d16e9b-63af-4dc2-89b5-ba5e112cab23\",\"type\":\"Toolbar\"},\"toolbar_location\":null,\"x_range\":{\"id\":\"0ee9ad27-a6c0-4720-9131-dd959583dc8a\",\"type\":\"FactorRange\"},\"x_scale\":{\"id\":\"d998b2a9-3723-4c5c-bfda-4ecbb112171f\",\"type\":\"CategoricalScale\"},\"y_range\":{\"id\":\"8bd19c7f-9c63-4317-953d-8f0025b0969d\",\"type\":\"DataRange1d\"},\"y_scale\":{\"id\":\"44e19798-f2b2-433e-9586-db45079f41cc\",\"type\":\"LinearScale\"}},\"id\":\"0f0322c8-d259-4d3e-8c16-dfe1151ab656\",\"subtype\":\"Figure\",\"type\":\"Plot\"},{\"attributes\":{},\"id\":\"24cf6056-fd1f-4a36-b308-b9beea3b6fc5\",\"type\":\"ResetTool\"},{\"attributes\":{\"callback\":null,\"factors\":[\"7\"]},\"id\":\"0ee9ad27-a6c0-4720-9131-dd959583dc8a\",\"type\":\"FactorRange\"},{\"attributes\":{},\"id\":\"9fca2c24-1e2b-4e5c-9e11-2a3b1a879d0c\",\"type\":\"Selection\"},{\"attributes\":{},\"id\":\"e697f257-3a69-4ffc-9ace-29735ebaa1a7\",\"type\":\"CategoricalTicker\"},{\"attributes\":{},\"id\":\"1b4dcd05-7c1a-4224-b971-646c7b96e48a\",\"type\":\"SaveTool\"},{\"attributes\":{\"source\":{\"id\":\"8b7a7dd9-9c97-4787-a7ce-8407a0b01281\",\"type\":\"ColumnDataSource\"}},\"id\":\"0501c648-6735-48c7-b640-d90127cdeeca\",\"type\":\"CDSView\"},{\"attributes\":{},\"id\":\"b1974b1b-2dac-46b7-8fb8-85e3ba028608\",\"type\":\"CategoricalTicker\"},{\"attributes\":{\"overlay\":{\"id\":\"dedfac63-4074-4860-a2da-c617d501c3b6\",\"type\":\"BoxAnnotation\"}},\"id\":\"3923ac2e-3a82-4fea-9b43-b60f81786626\",\"type\":\"BoxZoomTool\"},{\"attributes\":{\"axis_label\":\"spectral band\",\"formatter\":{\"id\":\"e071eac7-d5f6-4da3-b411-d447ed8e72e8\",\"type\":\"CategoricalTickFormatter\"},\"plot\":{\"id\":\"0f0322c8-d259-4d3e-8c16-dfe1151ab656\",\"subtype\":\"Figure\",\"type\":\"Plot\"},\"ticker\":{\"id\":\"e697f257-3a69-4ffc-9ace-29735ebaa1a7\",\"type\":\"CategoricalTicker\"}},\"id\":\"b6be607b-621e-4429-a65c-95cfb9264308\",\"type\":\"CategoricalAxis\"},{\"attributes\":{\"children\":[{\"id\":\"9a20e718-e4a1-4cb8-ba84-e78f2d9c707b\",\"type\":\"Row\"}]},\"id\":\"4c80ea61-15ef-4062-8beb-a4d7b275a34a\",\"type\":\"Column\"},{\"attributes\":{},\"id\":\"d650c5d7-ddfb-4efc-9291-e8c13618c898\",\"type\":\"HelpTool\"},{\"attributes\":{\"plot\":null,\"text\":\"TOA flux. CLIRAD - CRD.\"},\"id\":\"8e7f32a3-8d76-4b81-83b9-26f9855fc17c\",\"type\":\"Title\"}],\"root_ids\":[\"ab143fed-e4ec-436f-9c7d-994b65ed85ff\"]},\"title\":\"Bokeh Application\",\"version\":\"0.12.16\"}};\n",
       "  var render_items = [{\"docid\":\"f31ddfa1-f411-4ebb-95ac-f04991c1dd07\",\"elementid\":\"0eaf7510-e595-4bd2-99ca-185a9b409aa1\",\"modelid\":\"ab143fed-e4ec-436f-9c7d-994b65ed85ff\"}];\n",
       "  root.Bokeh.embed.embed_items_notebook(docs_json, render_items);\n",
       "\n",
       "  }\n",
       "  if (root.Bokeh !== undefined) {\n",
       "    embed_document(root);\n",
       "  } else {\n",
       "    var attempts = 0;\n",
       "    var timer = setInterval(function(root) {\n",
       "      if (root.Bokeh !== undefined) {\n",
       "        embed_document(root);\n",
       "        clearInterval(timer);\n",
       "      }\n",
       "      attempts++;\n",
       "      if (attempts > 100) {\n",
       "        console.log(\"Bokeh: ERROR: Unable to run BokehJS code because BokehJS library is missing\")\n",
       "        clearInterval(timer);\n",
       "      }\n",
       "    }, 10, root)\n",
       "  }\n",
       "})(window);"
      ],
      "application/vnd.bokehjs_exec.v0+json": ""
     },
     "metadata": {
      "application/vnd.bokehjs_exec.v0+json": {
       "id": "ab143fed-e4ec-436f-9c7d-994b65ed85ff"
      }
     },
     "output_type": "display_data"
    },
    {
     "data": {
      "text/markdown": [
       "*FIGURE.* Difference between CLIRAD and CRD in TOA, SFC and net atmosphere flux, in each spectral band."
      ],
      "text/plain": [
       "<IPython.core.display.Markdown object>"
      ]
     },
     "metadata": {},
     "output_type": "display_data"
    },
    {
     "data": {
      "text/html": [
       "<div>\n",
       "<style scoped>\n",
       "    .dataframe tbody tr th:only-of-type {\n",
       "        vertical-align: middle;\n",
       "    }\n",
       "\n",
       "    .dataframe tbody tr th {\n",
       "        vertical-align: top;\n",
       "    }\n",
       "\n",
       "    .dataframe thead th {\n",
       "        text-align: right;\n",
       "    }\n",
       "</style>\n",
       "<table border=\"1\" class=\"dataframe\">\n",
       "  <thead>\n",
       "    <tr style=\"text-align: right;\">\n",
       "      <th></th>\n",
       "      <th>OLR flux</th>\n",
       "      <th>SFC flux</th>\n",
       "      <th>ATM heating</th>\n",
       "    </tr>\n",
       "    <tr>\n",
       "      <th>Sum over bands</th>\n",
       "      <th></th>\n",
       "      <th></th>\n",
       "      <th></th>\n",
       "    </tr>\n",
       "  </thead>\n",
       "  <tbody>\n",
       "    <tr>\n",
       "      <th>CLIRAD - CRD</th>\n",
       "      <td>0.25</td>\n",
       "      <td>-0.14</td>\n",
       "      <td>0.39</td>\n",
       "    </tr>\n",
       "    <tr>\n",
       "      <th>CRD</th>\n",
       "      <td>-27.01</td>\n",
       "      <td>3.57</td>\n",
       "      <td>4.14</td>\n",
       "    </tr>\n",
       "  </tbody>\n",
       "</table>\n",
       "</div>"
      ],
      "text/plain": [
       "                OLR flux  SFC flux  ATM heating\n",
       "Sum over bands                                 \n",
       "CLIRAD - CRD        0.25     -0.14         0.39\n",
       "CRD               -27.01      3.57         4.14"
      ]
     },
     "metadata": {},
     "output_type": "display_data"
    },
    {
     "data": {
      "text/markdown": [
       "*TABLE.* Difference between CLIRAD and CRD in TOA, SFC and net atmosphere flux, over all spectral bands. CRD's TOA, SFC and net atmosphere flux, over all spectral bands."
      ],
      "text/plain": [
       "<IPython.core.display.Markdown object>"
      ]
     },
     "metadata": {},
     "output_type": "display_data"
    },
    {
     "data": {
      "text/html": [
       "Download: <a href=\"./results_o3atm_cliradsinglerun.xlsx\">results_o3atm_cliradsinglerun.xlsx</a>"
      ],
      "text/plain": [
       "<IPython.core.display.HTML object>"
      ]
     },
     "metadata": {},
     "output_type": "display_data"
    }
   ],
   "source": [
    "def script():\n",
    "    \n",
    "    d_atm = {'mls': 'mid-latitude summer',\n",
    "             'saw': 'sub-arctic winter',\n",
    "             'trp': 'tropical'}\n",
    "    \n",
    "    title = ('## Results over entire range of molecules'\n",
    "             ' and spectral bands')\n",
    "    \n",
    "    s_makeup = 'Makeup of atmosphere.'\n",
    "    s_atmpro = '# {}'\n",
    "    s_cool = 'Cooling rates. {}.'\n",
    "    s_flux = 'Fluxes. {}.'\n",
    "    \n",
    "    atmpros = ['mls', 'saw', 'trp']\n",
    "    \n",
    "    # TOC\n",
    "    show_markdown(title)\n",
    "    show_markdown('### Table of Contents')\n",
    "    show_html(climahtml.getHTML_hrefanchor(s_makeup))\n",
    "    for atmpro in atmpros:\n",
    "        show_markdown('**' + d_atm[atmpro] + '**')\n",
    "        show_html(climahtml.getHTML_hrefanchor(s_cool.format(atmpro)))\n",
    "        show_html(climahtml.getHTML_hrefanchor(s_flux.format(atmpro)))\n",
    "\n",
    "        \n",
    "    # Atmosphere makeup\n",
    "    show_html(climahtml.getHTML_idanchor(s_makeup))\n",
    "    show_markdown(climahtml.getMarkdown_sectitle(s_makeup))\n",
    "    show_makeup()\n",
    "#    show_grey_makeup()\n",
    "        \n",
    "    for atmpro in atmpros:\n",
    "        show_html(climahtml.getHTML_idanchor(s_cool.format(atmpro)))\n",
    "        show_markdown(\n",
    "            climahtml.getMarkdown_sectitle(s_cool.format(atmpro)))\n",
    "        show_cool(atmpro=atmpro)\n",
    "        show_html(climahtml.getHTML_idanchor(s_flux.format(atmpro)))\n",
    "        show_markdown(\n",
    "            climahtml.getMarkdown_sectitle(s_flux.format(atmpro)))\n",
    "        show_hist_flux(atmpro=atmpro)\n",
    "        show_tb_flux(atmpro=atmpro)\n",
    "    \n",
    "    script_tofile()\n",
    "    \n",
    "script()  "
   ]
  },
  {
   "cell_type": "code",
   "execution_count": null,
   "metadata": {
    "collapsed": true
   },
   "outputs": [],
   "source": []
  },
  {
   "cell_type": "code",
   "execution_count": 18,
   "metadata": {},
   "outputs": [
    {
     "data": {
      "text/html": [
       "<script>\n",
       "code_show=true; \n",
       "function code_toggle() {\n",
       " if (code_show){\n",
       " $('div.input').hide();\n",
       " } else {\n",
       " $('div.input').show();\n",
       " }\n",
       " code_show = !code_show\n",
       "} \n",
       "$( document ).ready(code_toggle);\n",
       "</script>\n",
       "<form action=\"javascript:code_toggle()\"><input type=\"submit\" value=\"Click here to toggle on/off the raw code.\"></form>"
      ],
      "text/plain": [
       "<IPython.core.display.HTML object>"
      ]
     },
     "execution_count": 18,
     "metadata": {},
     "output_type": "execute_result"
    }
   ],
   "source": [
    "display.HTML('''<script>\n",
    "code_show=true; \n",
    "function code_toggle() {\n",
    " if (code_show){\n",
    " $('div.input').hide();\n",
    " } else {\n",
    " $('div.input').show();\n",
    " }\n",
    " code_show = !code_show\n",
    "} \n",
    "$( document ).ready(code_toggle);\n",
    "</script>\n",
    "<form action=\"javascript:code_toggle()\"><input type=\"submit\" value=\"Click here to toggle on/off the raw code.\"></form>''')"
   ]
  },
  {
   "cell_type": "code",
   "execution_count": null,
   "metadata": {
    "collapsed": true
   },
   "outputs": [],
   "source": []
  }
 ],
 "metadata": {
  "kernelspec": {
   "display_name": "Python 3",
   "language": "python",
   "name": "python3"
  },
  "language_info": {
   "codemirror_mode": {
    "name": "ipython",
    "version": 3
   },
   "file_extension": ".py",
   "mimetype": "text/x-python",
   "name": "python",
   "nbconvert_exporter": "python",
   "pygments_lexer": "ipython3",
   "version": "3.6.7"
  }
 },
 "nbformat": 4,
 "nbformat_minor": 2
}
