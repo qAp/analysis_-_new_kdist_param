{
 "cells": [
  {
   "cell_type": "code",
   "execution_count": 1,
   "metadata": {
    "collapsed": true
   },
   "outputs": [],
   "source": [
    "%reload_ext autoreload\n",
    "%autoreload 2\n",
    "\n",
    "import os\n",
    "import pprint\n",
    "\n",
    "import pymongo\n",
    "\n",
    "from bokeh.io import output_notebook, show\n",
    "from bokeh.layouts import gridplot\n",
    "from bokeh.plotting import figure\n",
    "from bokeh.models import ColumnDataSource\n",
    "from bokeh.palettes import all_palettes\n",
    "\n",
    "from climatools.atm import *\n",
    "from climatools.dataset import *\n",
    "from climatools.spectrum import *\n",
    "from climatools.html.html import *\n",
    "from climatools.plot.plot import *\n",
    "from climatools.lblnew.bestfit_params import *\n",
    "\n",
    "from IPython import display"
   ]
  },
  {
   "cell_type": "code",
   "execution_count": 2,
   "metadata": {
    "scrolled": true
   },
   "outputs": [
    {
     "data": {
      "text/html": [
       "\n",
       "    <div class=\"bk-root\">\n",
       "        <a href=\"https://bokeh.pydata.org\" target=\"_blank\" class=\"bk-logo bk-logo-small bk-logo-notebook\"></a>\n",
       "        <span id=\"49627f1b-bc51-4a33-b767-e03818712451\">Loading BokehJS ...</span>\n",
       "    </div>"
      ]
     },
     "metadata": {},
     "output_type": "display_data"
    },
    {
     "data": {
      "application/javascript": [
       "\n",
       "(function(root) {\n",
       "  function now() {\n",
       "    return new Date();\n",
       "  }\n",
       "\n",
       "  var force = true;\n",
       "\n",
       "  if (typeof (root._bokeh_onload_callbacks) === \"undefined\" || force === true) {\n",
       "    root._bokeh_onload_callbacks = [];\n",
       "    root._bokeh_is_loading = undefined;\n",
       "  }\n",
       "\n",
       "  var JS_MIME_TYPE = 'application/javascript';\n",
       "  var HTML_MIME_TYPE = 'text/html';\n",
       "  var EXEC_MIME_TYPE = 'application/vnd.bokehjs_exec.v0+json';\n",
       "  var CLASS_NAME = 'output_bokeh rendered_html';\n",
       "\n",
       "  /**\n",
       "   * Render data to the DOM node\n",
       "   */\n",
       "  function render(props, node) {\n",
       "    var script = document.createElement(\"script\");\n",
       "    node.appendChild(script);\n",
       "  }\n",
       "\n",
       "  /**\n",
       "   * Handle when an output is cleared or removed\n",
       "   */\n",
       "  function handleClearOutput(event, handle) {\n",
       "    var cell = handle.cell;\n",
       "\n",
       "    var id = cell.output_area._bokeh_element_id;\n",
       "    var server_id = cell.output_area._bokeh_server_id;\n",
       "    // Clean up Bokeh references\n",
       "    if (id !== undefined) {\n",
       "      Bokeh.index[id].model.document.clear();\n",
       "      delete Bokeh.index[id];\n",
       "    }\n",
       "\n",
       "    if (server_id !== undefined) {\n",
       "      // Clean up Bokeh references\n",
       "      var cmd = \"from bokeh.io.state import curstate; print(curstate().uuid_to_server['\" + server_id + \"'].get_sessions()[0].document.roots[0]._id)\";\n",
       "      cell.notebook.kernel.execute(cmd, {\n",
       "        iopub: {\n",
       "          output: function(msg) {\n",
       "            var element_id = msg.content.text.trim();\n",
       "            Bokeh.index[element_id].model.document.clear();\n",
       "            delete Bokeh.index[element_id];\n",
       "          }\n",
       "        }\n",
       "      });\n",
       "      // Destroy server and session\n",
       "      var cmd = \"import bokeh.io.notebook as ion; ion.destroy_server('\" + server_id + \"')\";\n",
       "      cell.notebook.kernel.execute(cmd);\n",
       "    }\n",
       "  }\n",
       "\n",
       "  /**\n",
       "   * Handle when a new output is added\n",
       "   */\n",
       "  function handleAddOutput(event, handle) {\n",
       "    var output_area = handle.output_area;\n",
       "    var output = handle.output;\n",
       "\n",
       "    // limit handleAddOutput to display_data with EXEC_MIME_TYPE content only\n",
       "    if ((output.output_type != \"display_data\") || (!output.data.hasOwnProperty(EXEC_MIME_TYPE))) {\n",
       "      return\n",
       "    }\n",
       "\n",
       "    var toinsert = output_area.element.find(\".\" + CLASS_NAME.split(' ')[0]);\n",
       "\n",
       "    if (output.metadata[EXEC_MIME_TYPE][\"id\"] !== undefined) {\n",
       "      toinsert[toinsert.length - 1].firstChild.textContent = output.data[JS_MIME_TYPE];\n",
       "      // store reference to embed id on output_area\n",
       "      output_area._bokeh_element_id = output.metadata[EXEC_MIME_TYPE][\"id\"];\n",
       "    }\n",
       "    if (output.metadata[EXEC_MIME_TYPE][\"server_id\"] !== undefined) {\n",
       "      var bk_div = document.createElement(\"div\");\n",
       "      bk_div.innerHTML = output.data[HTML_MIME_TYPE];\n",
       "      var script_attrs = bk_div.children[0].attributes;\n",
       "      for (var i = 0; i < script_attrs.length; i++) {\n",
       "        toinsert[toinsert.length - 1].firstChild.setAttribute(script_attrs[i].name, script_attrs[i].value);\n",
       "      }\n",
       "      // store reference to server id on output_area\n",
       "      output_area._bokeh_server_id = output.metadata[EXEC_MIME_TYPE][\"server_id\"];\n",
       "    }\n",
       "  }\n",
       "\n",
       "  function register_renderer(events, OutputArea) {\n",
       "\n",
       "    function append_mime(data, metadata, element) {\n",
       "      // create a DOM node to render to\n",
       "      var toinsert = this.create_output_subarea(\n",
       "        metadata,\n",
       "        CLASS_NAME,\n",
       "        EXEC_MIME_TYPE\n",
       "      );\n",
       "      this.keyboard_manager.register_events(toinsert);\n",
       "      // Render to node\n",
       "      var props = {data: data, metadata: metadata[EXEC_MIME_TYPE]};\n",
       "      render(props, toinsert[toinsert.length - 1]);\n",
       "      element.append(toinsert);\n",
       "      return toinsert\n",
       "    }\n",
       "\n",
       "    /* Handle when an output is cleared or removed */\n",
       "    events.on('clear_output.CodeCell', handleClearOutput);\n",
       "    events.on('delete.Cell', handleClearOutput);\n",
       "\n",
       "    /* Handle when a new output is added */\n",
       "    events.on('output_added.OutputArea', handleAddOutput);\n",
       "\n",
       "    /**\n",
       "     * Register the mime type and append_mime function with output_area\n",
       "     */\n",
       "    OutputArea.prototype.register_mime_type(EXEC_MIME_TYPE, append_mime, {\n",
       "      /* Is output safe? */\n",
       "      safe: true,\n",
       "      /* Index of renderer in `output_area.display_order` */\n",
       "      index: 0\n",
       "    });\n",
       "  }\n",
       "\n",
       "  // register the mime type if in Jupyter Notebook environment and previously unregistered\n",
       "  if (root.Jupyter !== undefined) {\n",
       "    var events = require('base/js/events');\n",
       "    var OutputArea = require('notebook/js/outputarea').OutputArea;\n",
       "\n",
       "    if (OutputArea.prototype.mime_types().indexOf(EXEC_MIME_TYPE) == -1) {\n",
       "      register_renderer(events, OutputArea);\n",
       "    }\n",
       "  }\n",
       "\n",
       "  \n",
       "  if (typeof (root._bokeh_timeout) === \"undefined\" || force === true) {\n",
       "    root._bokeh_timeout = Date.now() + 5000;\n",
       "    root._bokeh_failed_load = false;\n",
       "  }\n",
       "\n",
       "  var NB_LOAD_WARNING = {'data': {'text/html':\n",
       "     \"<div style='background-color: #fdd'>\\n\"+\n",
       "     \"<p>\\n\"+\n",
       "     \"BokehJS does not appear to have successfully loaded. If loading BokehJS from CDN, this \\n\"+\n",
       "     \"may be due to a slow or bad network connection. Possible fixes:\\n\"+\n",
       "     \"</p>\\n\"+\n",
       "     \"<ul>\\n\"+\n",
       "     \"<li>re-rerun `output_notebook()` to attempt to load from CDN again, or</li>\\n\"+\n",
       "     \"<li>use INLINE resources instead, as so:</li>\\n\"+\n",
       "     \"</ul>\\n\"+\n",
       "     \"<code>\\n\"+\n",
       "     \"from bokeh.resources import INLINE\\n\"+\n",
       "     \"output_notebook(resources=INLINE)\\n\"+\n",
       "     \"</code>\\n\"+\n",
       "     \"</div>\"}};\n",
       "\n",
       "  function display_loaded() {\n",
       "    var el = document.getElementById(\"49627f1b-bc51-4a33-b767-e03818712451\");\n",
       "    if (el != null) {\n",
       "      el.textContent = \"BokehJS is loading...\";\n",
       "    }\n",
       "    if (root.Bokeh !== undefined) {\n",
       "      if (el != null) {\n",
       "        el.textContent = \"BokehJS \" + root.Bokeh.version + \" successfully loaded.\";\n",
       "      }\n",
       "    } else if (Date.now() < root._bokeh_timeout) {\n",
       "      setTimeout(display_loaded, 100)\n",
       "    }\n",
       "  }\n",
       "\n",
       "\n",
       "  function run_callbacks() {\n",
       "    try {\n",
       "      root._bokeh_onload_callbacks.forEach(function(callback) { callback() });\n",
       "    }\n",
       "    finally {\n",
       "      delete root._bokeh_onload_callbacks\n",
       "    }\n",
       "    console.info(\"Bokeh: all callbacks have finished\");\n",
       "  }\n",
       "\n",
       "  function load_libs(js_urls, callback) {\n",
       "    root._bokeh_onload_callbacks.push(callback);\n",
       "    if (root._bokeh_is_loading > 0) {\n",
       "      console.log(\"Bokeh: BokehJS is being loaded, scheduling callback at\", now());\n",
       "      return null;\n",
       "    }\n",
       "    if (js_urls == null || js_urls.length === 0) {\n",
       "      run_callbacks();\n",
       "      return null;\n",
       "    }\n",
       "    console.log(\"Bokeh: BokehJS not loaded, scheduling load and callback at\", now());\n",
       "    root._bokeh_is_loading = js_urls.length;\n",
       "    for (var i = 0; i < js_urls.length; i++) {\n",
       "      var url = js_urls[i];\n",
       "      var s = document.createElement('script');\n",
       "      s.src = url;\n",
       "      s.async = false;\n",
       "      s.onreadystatechange = s.onload = function() {\n",
       "        root._bokeh_is_loading--;\n",
       "        if (root._bokeh_is_loading === 0) {\n",
       "          console.log(\"Bokeh: all BokehJS libraries loaded\");\n",
       "          run_callbacks()\n",
       "        }\n",
       "      };\n",
       "      s.onerror = function() {\n",
       "        console.warn(\"failed to load library \" + url);\n",
       "      };\n",
       "      console.log(\"Bokeh: injecting script tag for BokehJS library: \", url);\n",
       "      document.getElementsByTagName(\"head\")[0].appendChild(s);\n",
       "    }\n",
       "  };var element = document.getElementById(\"49627f1b-bc51-4a33-b767-e03818712451\");\n",
       "  if (element == null) {\n",
       "    console.log(\"Bokeh: ERROR: autoload.js configured with elementid '49627f1b-bc51-4a33-b767-e03818712451' but no matching script tag was found. \")\n",
       "    return false;\n",
       "  }\n",
       "\n",
       "  var js_urls = [\"https://cdn.pydata.org/bokeh/release/bokeh-0.12.16.min.js\", \"https://cdn.pydata.org/bokeh/release/bokeh-widgets-0.12.16.min.js\", \"https://cdn.pydata.org/bokeh/release/bokeh-tables-0.12.16.min.js\", \"https://cdn.pydata.org/bokeh/release/bokeh-gl-0.12.16.min.js\"];\n",
       "\n",
       "  var inline_js = [\n",
       "    function(Bokeh) {\n",
       "      Bokeh.set_log_level(\"info\");\n",
       "    },\n",
       "    \n",
       "    function(Bokeh) {\n",
       "      \n",
       "    },\n",
       "    function(Bokeh) {\n",
       "      console.log(\"Bokeh: injecting CSS: https://cdn.pydata.org/bokeh/release/bokeh-0.12.16.min.css\");\n",
       "      Bokeh.embed.inject_css(\"https://cdn.pydata.org/bokeh/release/bokeh-0.12.16.min.css\");\n",
       "      console.log(\"Bokeh: injecting CSS: https://cdn.pydata.org/bokeh/release/bokeh-widgets-0.12.16.min.css\");\n",
       "      Bokeh.embed.inject_css(\"https://cdn.pydata.org/bokeh/release/bokeh-widgets-0.12.16.min.css\");\n",
       "      console.log(\"Bokeh: injecting CSS: https://cdn.pydata.org/bokeh/release/bokeh-tables-0.12.16.min.css\");\n",
       "      Bokeh.embed.inject_css(\"https://cdn.pydata.org/bokeh/release/bokeh-tables-0.12.16.min.css\");\n",
       "    }\n",
       "  ];\n",
       "\n",
       "  function run_inline_js() {\n",
       "    \n",
       "    if ((root.Bokeh !== undefined) || (force === true)) {\n",
       "      for (var i = 0; i < inline_js.length; i++) {\n",
       "        inline_js[i].call(root, root.Bokeh);\n",
       "      }if (force === true) {\n",
       "        display_loaded();\n",
       "      }} else if (Date.now() < root._bokeh_timeout) {\n",
       "      setTimeout(run_inline_js, 100);\n",
       "    } else if (!root._bokeh_failed_load) {\n",
       "      console.log(\"Bokeh: BokehJS failed to load within specified timeout.\");\n",
       "      root._bokeh_failed_load = true;\n",
       "    } else if (force !== true) {\n",
       "      var cell = $(document.getElementById(\"49627f1b-bc51-4a33-b767-e03818712451\")).parents('.cell').data().cell;\n",
       "      cell.output_area.append_execute_result(NB_LOAD_WARNING)\n",
       "    }\n",
       "\n",
       "  }\n",
       "\n",
       "  if (root._bokeh_is_loading === 0) {\n",
       "    console.log(\"Bokeh: BokehJS loaded, going straight to plotting\");\n",
       "    run_inline_js();\n",
       "  } else {\n",
       "    load_libs(js_urls, function() {\n",
       "      console.log(\"Bokeh: BokehJS plotting callback run at\", now());\n",
       "      run_inline_js();\n",
       "    });\n",
       "  }\n",
       "}(window));"
      ],
      "application/vnd.bokehjs_load.v0+json": "\n(function(root) {\n  function now() {\n    return new Date();\n  }\n\n  var force = true;\n\n  if (typeof (root._bokeh_onload_callbacks) === \"undefined\" || force === true) {\n    root._bokeh_onload_callbacks = [];\n    root._bokeh_is_loading = undefined;\n  }\n\n  \n\n  \n  if (typeof (root._bokeh_timeout) === \"undefined\" || force === true) {\n    root._bokeh_timeout = Date.now() + 5000;\n    root._bokeh_failed_load = false;\n  }\n\n  var NB_LOAD_WARNING = {'data': {'text/html':\n     \"<div style='background-color: #fdd'>\\n\"+\n     \"<p>\\n\"+\n     \"BokehJS does not appear to have successfully loaded. If loading BokehJS from CDN, this \\n\"+\n     \"may be due to a slow or bad network connection. Possible fixes:\\n\"+\n     \"</p>\\n\"+\n     \"<ul>\\n\"+\n     \"<li>re-rerun `output_notebook()` to attempt to load from CDN again, or</li>\\n\"+\n     \"<li>use INLINE resources instead, as so:</li>\\n\"+\n     \"</ul>\\n\"+\n     \"<code>\\n\"+\n     \"from bokeh.resources import INLINE\\n\"+\n     \"output_notebook(resources=INLINE)\\n\"+\n     \"</code>\\n\"+\n     \"</div>\"}};\n\n  function display_loaded() {\n    var el = document.getElementById(\"49627f1b-bc51-4a33-b767-e03818712451\");\n    if (el != null) {\n      el.textContent = \"BokehJS is loading...\";\n    }\n    if (root.Bokeh !== undefined) {\n      if (el != null) {\n        el.textContent = \"BokehJS \" + root.Bokeh.version + \" successfully loaded.\";\n      }\n    } else if (Date.now() < root._bokeh_timeout) {\n      setTimeout(display_loaded, 100)\n    }\n  }\n\n\n  function run_callbacks() {\n    try {\n      root._bokeh_onload_callbacks.forEach(function(callback) { callback() });\n    }\n    finally {\n      delete root._bokeh_onload_callbacks\n    }\n    console.info(\"Bokeh: all callbacks have finished\");\n  }\n\n  function load_libs(js_urls, callback) {\n    root._bokeh_onload_callbacks.push(callback);\n    if (root._bokeh_is_loading > 0) {\n      console.log(\"Bokeh: BokehJS is being loaded, scheduling callback at\", now());\n      return null;\n    }\n    if (js_urls == null || js_urls.length === 0) {\n      run_callbacks();\n      return null;\n    }\n    console.log(\"Bokeh: BokehJS not loaded, scheduling load and callback at\", now());\n    root._bokeh_is_loading = js_urls.length;\n    for (var i = 0; i < js_urls.length; i++) {\n      var url = js_urls[i];\n      var s = document.createElement('script');\n      s.src = url;\n      s.async = false;\n      s.onreadystatechange = s.onload = function() {\n        root._bokeh_is_loading--;\n        if (root._bokeh_is_loading === 0) {\n          console.log(\"Bokeh: all BokehJS libraries loaded\");\n          run_callbacks()\n        }\n      };\n      s.onerror = function() {\n        console.warn(\"failed to load library \" + url);\n      };\n      console.log(\"Bokeh: injecting script tag for BokehJS library: \", url);\n      document.getElementsByTagName(\"head\")[0].appendChild(s);\n    }\n  };var element = document.getElementById(\"49627f1b-bc51-4a33-b767-e03818712451\");\n  if (element == null) {\n    console.log(\"Bokeh: ERROR: autoload.js configured with elementid '49627f1b-bc51-4a33-b767-e03818712451' but no matching script tag was found. \")\n    return false;\n  }\n\n  var js_urls = [\"https://cdn.pydata.org/bokeh/release/bokeh-0.12.16.min.js\", \"https://cdn.pydata.org/bokeh/release/bokeh-widgets-0.12.16.min.js\", \"https://cdn.pydata.org/bokeh/release/bokeh-tables-0.12.16.min.js\", \"https://cdn.pydata.org/bokeh/release/bokeh-gl-0.12.16.min.js\"];\n\n  var inline_js = [\n    function(Bokeh) {\n      Bokeh.set_log_level(\"info\");\n    },\n    \n    function(Bokeh) {\n      \n    },\n    function(Bokeh) {\n      console.log(\"Bokeh: injecting CSS: https://cdn.pydata.org/bokeh/release/bokeh-0.12.16.min.css\");\n      Bokeh.embed.inject_css(\"https://cdn.pydata.org/bokeh/release/bokeh-0.12.16.min.css\");\n      console.log(\"Bokeh: injecting CSS: https://cdn.pydata.org/bokeh/release/bokeh-widgets-0.12.16.min.css\");\n      Bokeh.embed.inject_css(\"https://cdn.pydata.org/bokeh/release/bokeh-widgets-0.12.16.min.css\");\n      console.log(\"Bokeh: injecting CSS: https://cdn.pydata.org/bokeh/release/bokeh-tables-0.12.16.min.css\");\n      Bokeh.embed.inject_css(\"https://cdn.pydata.org/bokeh/release/bokeh-tables-0.12.16.min.css\");\n    }\n  ];\n\n  function run_inline_js() {\n    \n    if ((root.Bokeh !== undefined) || (force === true)) {\n      for (var i = 0; i < inline_js.length; i++) {\n        inline_js[i].call(root, root.Bokeh);\n      }if (force === true) {\n        display_loaded();\n      }} else if (Date.now() < root._bokeh_timeout) {\n      setTimeout(run_inline_js, 100);\n    } else if (!root._bokeh_failed_load) {\n      console.log(\"Bokeh: BokehJS failed to load within specified timeout.\");\n      root._bokeh_failed_load = true;\n    } else if (force !== true) {\n      var cell = $(document.getElementById(\"49627f1b-bc51-4a33-b767-e03818712451\")).parents('.cell').data().cell;\n      cell.output_area.append_execute_result(NB_LOAD_WARNING)\n    }\n\n  }\n\n  if (root._bokeh_is_loading === 0) {\n    console.log(\"Bokeh: BokehJS loaded, going straight to plotting\");\n    run_inline_js();\n  } else {\n    load_libs(js_urls, function() {\n      console.log(\"Bokeh: BokehJS plotting callback run at\", now());\n      run_inline_js();\n    });\n  }\n}(window));"
     },
     "metadata": {},
     "output_type": "display_data"
    }
   ],
   "source": [
    "output_notebook()\n",
    "client = pymongo.MongoClient('localhost', 27017)"
   ]
  },
  {
   "cell_type": "markdown",
   "metadata": {
    "heading_collapsed": true
   },
   "source": [
    "## Data"
   ]
  },
  {
   "cell_type": "code",
   "execution_count": 3,
   "metadata": {
    "collapsed": true,
    "hidden": true
   },
   "outputs": [],
   "source": [
    "MOL = 'o3'\n",
    "COMMITNUMBER = '1013f91'\n",
    "ATMPRO = dict(mls=294, saw=257, trp=300)"
   ]
  },
  {
   "cell_type": "code",
   "execution_count": 4,
   "metadata": {
    "collapsed": true,
    "hidden": true
   },
   "outputs": [],
   "source": [
    "atmcomp = AtmComposition.cliradlw_nongreys(onlygas=MOL)"
   ]
  },
  {
   "cell_type": "code",
   "execution_count": 5,
   "metadata": {
    "collapsed": true,
    "hidden": true
   },
   "outputs": [],
   "source": [
    "DCLI = {}\n",
    "for atmpro, _ in ATMPRO.items():\n",
    "    pcli = atmcomp.to_cliradparam(commitnumber=COMMITNUMBER, atmpro=atmpro, tsfc=ATMPRO[atmpro])\n",
    "    dcli = pcli.modeldata_pymongo(collection=client.cliradnew.lw)\n",
    "    DCLI[atmpro] = dcli"
   ]
  },
  {
   "cell_type": "code",
   "execution_count": 6,
   "metadata": {
    "collapsed": true,
    "hidden": true
   },
   "outputs": [],
   "source": [
    "DCRD = {}"
   ]
  },
  {
   "cell_type": "code",
   "execution_count": 15,
   "metadata": {
    "collapsed": true,
    "hidden": true
   },
   "outputs": [],
   "source": [
    "atmpro = 'trp'\n",
    "pcrds = atmcomp.to_lblnewparam(bestfit_values=True, atmpro=atmpro, tsfc=ATMPRO[atmpro])"
   ]
  },
  {
   "cell_type": "code",
   "execution_count": 16,
   "metadata": {
    "hidden": true,
    "scrolled": true
   },
   "outputs": [
    {
     "data": {
      "text/plain": [
       "[['5014a19']]"
      ]
     },
     "execution_count": 16,
     "metadata": {},
     "output_type": "execute_result"
    }
   ],
   "source": [
    "cmts = [p.avail_commits(client.lblnew.bestfit_lw) for p in pcrds]\n",
    "cmts"
   ]
  },
  {
   "cell_type": "code",
   "execution_count": 17,
   "metadata": {
    "collapsed": true,
    "hidden": true,
    "scrolled": false
   },
   "outputs": [],
   "source": [
    "commits = ['a06b618', '5014a19']\n",
    "dcrds = [p.modeldata_pymongo(collection=client.lblnew.bestfit_lw, commits=commits) for p in pcrds]\n",
    "\n",
    "dcrd = concat(*dcrds)\n",
    "DCRD[atmpro] = dcrd"
   ]
  },
  {
   "cell_type": "code",
   "execution_count": 18,
   "metadata": {
    "hidden": true
   },
   "outputs": [
    {
     "data": {
      "text/plain": [
       "({'mls': <climatools.dataset.CliradnewLWModelData at 0x2b165bcba048>,\n",
       "  'saw': <climatools.dataset.CliradnewLWModelData at 0x2b1660765320>,\n",
       "  'trp': <climatools.dataset.CliradnewLWModelData at 0x2b161ed279e8>},\n",
       " {'mls': <climatools.dataset.LBLnewModelData at 0x2b16609131d0>,\n",
       "  'saw': <climatools.dataset.LBLnewModelData at 0x2b165bcccda0>,\n",
       "  'trp': <climatools.dataset.LBLnewModelData at 0x2b1660913be0>})"
      ]
     },
     "execution_count": 18,
     "metadata": {},
     "output_type": "execute_result"
    }
   ],
   "source": [
    "DCLI, DCRD"
   ]
  },
  {
   "cell_type": "markdown",
   "metadata": {},
   "source": [
    "## Analysis code"
   ]
  },
  {
   "cell_type": "code",
   "execution_count": 19,
   "metadata": {
    "collapsed": true
   },
   "outputs": [],
   "source": [
    "def show_html(s):\n",
    "    display.display(display.HTML(s))\n",
    "\n",
    "def show_markdown(s):\n",
    "    display.display(display.Markdown(s))"
   ]
  },
  {
   "cell_type": "code",
   "execution_count": 20,
   "metadata": {
    "collapsed": true
   },
   "outputs": [],
   "source": [
    "def show_parameters(dcrd, dcli):\n",
    "    srss = [pd.Series(dcli.param, name=':D')]\n",
    "    srss_crd = [pd.Series(p) for p in dcrd.param]\n",
    "    df = pd.concat(srss_crd, axis=1, sort=True, keys=[f\"band{s['band']} {s['molecule']}\" for s in srss_crd])\n",
    "    srss.append(df)\n",
    "    df = pd.concat(srss, axis=1, sort=True, keys=['clirad-lw', 'lblnew-bestfit lw'])\n",
    "    df.fillna('-', inplace=True)\n",
    "    with pd.option_context('display.max_colwidth', 100):\n",
    "        display.display(df)"
   ]
  },
  {
   "cell_type": "code",
   "execution_count": 21,
   "metadata": {
    "collapsed": true
   },
   "outputs": [],
   "source": [
    "import rtmtools.clirad.sw.wrangle as cliradwrangle\n",
    "\n",
    "def oldclirad_data_atm():\n",
    "    '''\n",
    "    Load the OLD clirad's results. mls only.\n",
    "    '''\n",
    "    fpath = os.path.join('/chia_cluster/home/jackyu/radiation',\n",
    "                         'clirad-lw',\n",
    "                         'LW',\n",
    "                         'examples',\n",
    "                         'mls75_h2o_atmpro_co2_.0004_o3_atmpro_n2o_3.2e-7_ch4_1.8e-6_H2012',\n",
    "                         'OUTPUT_CLIRAD.dat')\n",
    "    \n",
    "    ds = cliradwrangle.load_OUTPUT_CLIRAD(readfrom=fpath)\n",
    "    \n",
    "    ds_cool = xr.Dataset()\n",
    "    ds_cool.coords['pressure'] = ('pressure', ds['layer_pressure'])\n",
    "    ds_cool.coords['band'] = ('band', ds['spectral_band'])\n",
    "    ds_cool['coolrg'] = (('band', 'pressure'), - ds['heating_rate'])\n",
    "    \n",
    "    ds_flux = xr.Dataset()\n",
    "    ds_flux.coords['pressure'] = ('pressure', ds['level_pressure'])\n",
    "    ds_flux.coords['band'] = ('band', ds['spectral_band'])\n",
    "    ds_flux['flug'] = (('band', 'pressure'), ds['flux_up'])\n",
    "    ds_flux['fldg'] = (('band', 'pressure'), ds['flux_down'])\n",
    "    ds_flux['fnetg'] = (('band', 'pressure'), ds['net_flux'])\n",
    "    \n",
    "    \n",
    "    d = {}\n",
    "    d['cool'] = ds_cool\n",
    "    d['flux'] = ds_flux\n",
    "    return d"
   ]
  },
  {
   "cell_type": "code",
   "execution_count": 22,
   "metadata": {
    "collapsed": true
   },
   "outputs": [],
   "source": [
    "def show_makeup():\n",
    "    df = pd.DataFrame()\n",
    "    for band, gs in atmcomp.gasinbands.items():\n",
    "        for g in gs:\n",
    "            df.loc[g, band] = str(atmcomp.gasconcs[g])\n",
    "\n",
    "    df = df.fillna(0)\n",
    "    df.columns.name = 'clirad band'\n",
    "    df.index.name = 'molecule'\n",
    "    \n",
    "    display.display(df)\n",
    "    display.display(display.Markdown('*TABLE.* Non-grey absorbers in the atmosphere.'))"
   ]
  },
  {
   "cell_type": "code",
   "execution_count": 23,
   "metadata": {
    "collapsed": true,
    "scrolled": false
   },
   "outputs": [],
   "source": [
    "def pltdata_cool(dcrd=None, dcli=None, atmpro='mls'):\n",
    "    colors = all_palettes['Set1'][4]\n",
    "    cool_cli = dcli.wgt_cool.sel(i=1).sum('band')['coolrg']\n",
    "    cool_crd = dcrd.crd_cool['coolrg'].sum('band').sum('g')\n",
    "    \n",
    "    data = [\n",
    "        {'label': 'CLIRAD',\n",
    "         'srs': cool_cli,\n",
    "         'line_dash': 'dashed', 'line_width': 5,\n",
    "         'color': colors[0], 'alpha': .6},\n",
    "        {'label': 'CRD',\n",
    "         'srs': cool_crd,\n",
    "         'line_dash': 'solid', 'line_width': 1.5,\n",
    "         'marker': 'circle', 'marker_size': 5,\n",
    "         'color': colors[2], 'alpha': 1}\n",
    "    ]\n",
    "    \n",
    "    # include old CLIRAD's results for mls profile\n",
    "#    if atmpro == 'mls':\n",
    "#        d_oldclirad = oldclirad_data_atm()\n",
    "#        ds_oldclirad = d_oldclirad['cool']        \n",
    "#        data.append(\n",
    "#            {'label': 'old CLIRAD (H2012)',\n",
    "#             'srs': fmt_cool(ds_oldclirad),\n",
    "#             'line_dash': 'solid', 'line_width': 1.5,\n",
    "#             'marker': 'square', 'marker_size': 3,\n",
    "#             'color': colors[3], 'alpha': .5})\n",
    "    return data\n",
    "\n",
    "\n",
    "def pltdata_cooldiff(dcrd=None, dcli=None, atmpro='mls'): \n",
    "    colors = all_palettes['Set1'][4]\n",
    "    cool_cli = dcli.wgt_cool.sel(i=1).sum('band')['coolrg']\n",
    "    cool_crd = dcrd.crd_cool['coolrg'].sum('band').sum('g')\n",
    "    cool_dif = cool_cli - cool_crd\n",
    "    \n",
    "    data = [\n",
    "        {'label': 'CLIRAD - CRD',\n",
    "         'srs': cool_dif,\n",
    "         'line_dash': 'solid', 'line_width': 1.5, \n",
    "         'marker': 'circle', 'marker_size': 7,\n",
    "         'color': colors[3], 'alpha': .8}\n",
    "    ]\n",
    "    \n",
    "    # include old CLIRAD's results for mls profile\n",
    "#    if atmpro == 'mls':\n",
    "#        d_oldclirad = oldclirad_data_atm()\n",
    "#        ds_oldclirad = d_oldclirad['cool']\n",
    "#        ds_oldclirad.coords['pressure'] = ds_crd.coords['pressure']\n",
    "#        ds_diff_old = ds_oldclirad.sum('band') - ds_crd.sum('band')\n",
    "#        data.append(\n",
    "#            {'label': 'old CLIRAD (H2012) - CRD',\n",
    "#             'srs': fmt_cool(ds_diff_old),\n",
    "#             'line_dash': 'dashed', 'line_width': 4,\n",
    "#             'color': colors[1], 'alpha': .5}\n",
    "#        )\n",
    "    return data\n",
    "\n",
    "\n",
    "def show_cool(dcrd=None, dcli=None, atmpro='mls'):\n",
    "    data_cool = pltdata_cool(dcrd, dcli, atmpro=atmpro)\n",
    "    p_cool_liny = plt_vert_profile_bokeh(pltdata=data_cool)\n",
    "    p_cool_logy = plt_vert_profile_bokeh(pltdata=data_cool, y_axis_type='log', prange=(.01, 200))\n",
    "    \n",
    "    data_cooldiff = pltdata_cooldiff(dcrd, dcli, atmpro=atmpro)\n",
    "    p_cooldiff_logy = plt_vert_profile_bokeh(pltdata=data_cooldiff, y_axis_type='log', prange=(.01, 200))\n",
    "    \n",
    "    everything = gridplot(p_cool_liny, p_cool_logy, p_cooldiff_logy, ncols=3)\n",
    "    show(everything)\n",
    "    display.display(display.Markdown('*FIGURE.* Cooling rates & difference.'))"
   ]
  },
  {
   "cell_type": "code",
   "execution_count": 24,
   "metadata": {
    "collapsed": true,
    "scrolled": false
   },
   "outputs": [],
   "source": [
    "def hist_band_vs_flux(da, title='Title'):\n",
    "    bands = [str(b.values) for b in da['band']]\n",
    "    source = ColumnDataSource(data={'band': bands, 'flux': da.values})\n",
    "    p = figure(x_range=bands, title=title)\n",
    "    p.vbar(source=source, x='band', top='flux', width=.9)\n",
    "    p.yaxis.axis_label = 'flux (W m-2)'\n",
    "    p.xaxis.axis_label = 'spectral band'\n",
    "    return p\n",
    "\n",
    "def show_hist_flux(dcrd=None, dcli=None, atmpro='mls'):\n",
    "    ds_crd = dcrd.crd_flux.sum('g')\n",
    "    ds_clirad = dcli.wgt_flux.sel(i=1)\n",
    "    \n",
    "    ip, varname = 0, 'flug'\n",
    "    da = (ds_clirad - ds_crd).isel(pressure=ip)[varname]\n",
    "    p_toa = hist_band_vs_flux(da, title='TOA flux. CLIRAD - CRD.')\n",
    "\n",
    "    ip, varname = -1, 'fldg'\n",
    "    da = (ds_clirad - ds_crd).isel(pressure=ip)[varname]\n",
    "    p_sfc = hist_band_vs_flux(da, title='SFC flux. CLIRAD - CRD.')    \n",
    "    \n",
    "    atm_crd = (ds_crd.isel(pressure=0) - ds_crd.isel(pressure=-1))['fnetg']\n",
    "    atm_clirad = (ds_clirad.isel(pressure=0) - ds_clirad.isel(pressure=-1))['fnetg']\n",
    "    da = atm_clirad - atm_crd\n",
    "    p_atm = hist_band_vs_flux(da, title='Atmosphere heating. CLIRAD - CRD.')\n",
    "\n",
    "    everything = gridplot(p_toa, p_sfc, p_atm, ncols=3, plot_width=300, plot_height=300)\n",
    "    \n",
    "    show(everything)\n",
    "    display.display(\n",
    "        display.Markdown('*FIGURE.* Difference between CLIRAD and CRD'\n",
    "          ' in TOA, SFC and net atmosphere flux,'\n",
    "          ' in each spectral band.'))\n",
    "\n",
    "def show_tb_flux(dcrd=None, dcli=None, atmpro='mls'):\n",
    "    fluxcrd = dcrd.crd_flux.sum(['band', 'g'])\n",
    "    olr_crd = fluxcrd['flug'].isel(pressure=0)\n",
    "    sfc_crd = fluxcrd['fldg'].isel(pressure=-1)\n",
    "    atm_crd = (fluxcrd.isel(pressure=0) - fluxcrd.isel(pressure=-1))['fnetg']\n",
    "    \n",
    "    fluxcli = dcli.wgt_flux.sel(i=1).sum('band')\n",
    "    olr_cli = fluxcli['flug'].isel(pressure=0)\n",
    "    sfc_cli = fluxcli['fldg'].isel(pressure=-1)\n",
    "    atm_cli = (fluxcli.isel(pressure=0) - fluxcli.isel(pressure=-1))['fnetg']\n",
    "    \n",
    "#    if atmpro == 'mls':\n",
    "#        ds_oldclirad = oldclirad_data_atm()['flux']\n",
    "#        ds_oldclirad['pressure'] = ds_crd['pressure']\n",
    "#        olr_oldclirad = ds_oldclirad['flug'].isel(pressure=0)\n",
    "#        sfc_oldclirad = ds_oldclirad['fldg'].isel(pressure=-1)\n",
    "#        atm_oldclirad = (ds_oldclirad.isel(pressure=0)\n",
    "#                         - ds_oldclirad.isel(pressure=-1))['fnetg']\n",
    "        \n",
    "    df = pd.DataFrame()\n",
    "    df.index.name = 'Sum over bands'\n",
    "    \n",
    "#    if atmpro == 'mls':\n",
    "#        df.loc['old CLIRAD - CRD', 'OLR flux'] = (fmt(olr_oldclirad) - fmt(olr_crd)).values\n",
    "#        df.loc['old CLIRAD - CRD', 'SFC flux'] = (fmt(sfc_oldclirad) - fmt(sfc_crd)).values\n",
    "#        df.loc['old CLIRAD - CRD', 'ATM heating'] = (fmt(atm_oldclirad) - fmt(atm_crd)).values\n",
    "\n",
    "    df.loc['CLIRAD - CRD', 'OLR flux'] = (olr_cli - olr_crd).values\n",
    "    df.loc['CLIRAD - CRD', 'SFC flux'] = (sfc_cli - sfc_crd).values\n",
    "    df.loc['CLIRAD - CRD', 'ATM heating'] = (atm_cli - atm_crd).values\n",
    "\n",
    "    df.loc['CRD', 'OLR flux'] = olr_crd.values\n",
    "    df.loc['CRD', 'SFC flux'] = sfc_crd.values\n",
    "    df.loc['CRD', 'ATM heating'] = atm_crd.values\n",
    "        \n",
    "    df = df.astype('float').round(2)\n",
    "    \n",
    "    display.display(df)\n",
    "    display.display(\n",
    "        display.Markdown('*TABLE.* Difference between CLIRAD and CRD'\n",
    "          ' in TOA, SFC and net atmosphere flux,'\n",
    "          ' over all spectral bands. CRD\\'s'\n",
    "          ' TOA, SFC and net atmosphere flux,'\n",
    "          ' over all spectral bands.'))\n",
    "    \n",
    "\n",
    "#show_hist_flux(dcrd, dcli, atmpro='mls')\n",
    "#show_tb_flux(DCRD['mls'], DCLI['mls'], atmpro='mls')"
   ]
  },
  {
   "cell_type": "code",
   "execution_count": 25,
   "metadata": {
    "collapsed": true,
    "scrolled": true
   },
   "outputs": [],
   "source": [
    "def cool_tofile(atmpro=None):\n",
    "    dcli = clirad_data_atm(params_atm=[subparam_atm_clirad(atmpro=atmpro)])\n",
    "    dcrd = crd_data_atm(params_atm=subparams_atm_lblnew(atmpro=atmpro))\n",
    "    \n",
    "    dcli = dcli['cool'].sel(i=1).drop('i').sum('band')\n",
    "    dcrd = dcrd['cool'].sum('band')\n",
    "    \n",
    "    dcli = dcli['coolrg'].to_dataframe()\n",
    "    dcrd = dcrd['coolrg'].to_dataframe()\n",
    "    \n",
    "    dcli = dcli.set_index('layer', append=True)\n",
    "    dcrd = dcrd.set_index('layer', append=True)\n",
    "    \n",
    "    ddif = dcli - dcrd\n",
    "    \n",
    "    df = pd.concat([dcrd, dcli, ddif], axis=1, keys=['CRD', 'CLIRAD', 'CLIRAD - CRD'])\n",
    "    return df\n",
    "\n",
    "\n",
    "def flux_tofile(atmpro=None):\n",
    "    tropopauses = {'mls': 40, 'saw': 45, 'trp': 37}\n",
    "    ilevels = [0, tropopauses[atmpro], -1]\n",
    "    \n",
    "    dcli = clirad_data_atm(params_atm=[subparam_atm_clirad(atmpro=atmpro)])\n",
    "    dcrd = crd_data_atm(params_atm=subparams_atm_lblnew(atmpro=atmpro))\n",
    "    \n",
    "    dcli = dcli['flux'].sel(i=1).drop('i').sum('band').isel(pressure=ilevels)\n",
    "    dcrd = dcrd['flux'].sum('band').isel(pressure=ilevels)\n",
    "    \n",
    "    dcli = dcli.to_dataframe()\n",
    "    dcrd = dcrd.to_dataframe()\n",
    "    \n",
    "    dcli = dcli.set_index('level', append=True)\n",
    "    dcrd = dcrd.set_index('level', append=True)\n",
    "    \n",
    "    ddif = dcli - dcrd\n",
    "    \n",
    "    df = pd.concat([dcrd, dcli, ddif], axis=1, keys=['CRD', 'CLIRAD', 'CLIRAD - CRD'])\n",
    "    return df\n",
    "\n",
    "\n",
    "def script_tofile():\n",
    "    fname = f'results_{MOL}atm_cliradsinglerun.xlsx'\n",
    "    writer = pd.ExcelWriter(fname)\n",
    "    for atmpro in ('mls', 'saw', 'trp'):\n",
    "        dflux = flux_tofile(atmpro=atmpro)\n",
    "        dflux.to_excel(writer, f'flux {atmpro}')\n",
    "        \n",
    "        dcool = cool_tofile(atmpro=atmpro)\n",
    "        dcool.to_excel(writer, f'cool {atmpro}')\n",
    "        \n",
    "    html = f'Download: <a href=\"./{fname}\">{fname}</a>'\n",
    "    show_html(html) "
   ]
  },
  {
   "cell_type": "code",
   "execution_count": 26,
   "metadata": {
    "collapsed": true,
    "scrolled": false
   },
   "outputs": [],
   "source": [
    "def script():\n",
    "    \n",
    "    d_atm = {'mls': 'mid-latitude summer', 'saw': 'sub-arctic winter', 'trp': 'tropical'}\n",
    "    \n",
    "    s_makeup = 'Makeup of atmosphere.'\n",
    "    s_parameters = 'Parameters of runs.'\n",
    "    s_atmpro = '# {}'\n",
    "    s_cool = 'Cooling rates. {}.'\n",
    "    s_flux = 'Fluxes. {}.'\n",
    "    \n",
    "    atmpros = ['mls', 'saw', 'trp']\n",
    "    \n",
    "    # TOC\n",
    "    show_markdown('### Table of Contents')\n",
    "    show_html(getHTML_hrefanchor(s_makeup))\n",
    "    \n",
    "    for atmpro in atmpros:\n",
    "        show_markdown('**' + d_atm[atmpro] + '**')\n",
    "        show_html(getHTML_hrefanchor(s_parameters + f' {atmpro}'))\n",
    "        show_html(getHTML_hrefanchor(s_cool.format(atmpro)))\n",
    "        show_html(getHTML_hrefanchor(s_flux.format(atmpro)))\n",
    "\n",
    "    # Atmosphere makeup\n",
    "    show_html(getHTML_idanchor(s_makeup))\n",
    "    show_markdown(getMarkdown_sectitle(s_makeup))\n",
    "    show_makeup()\n",
    "        \n",
    "    for atmpro in atmpros:\n",
    "        dcrd, dcli = DCRD[atmpro], DCLI[atmpro]\n",
    "        \n",
    "        show_html(getHTML_idanchor(s_parameters + f' {atmpro}'))\n",
    "        show_markdown(getMarkdown_sectitle(s_parameters + f' {atmpro}'))\n",
    "        show_parameters(dcrd, dcli)\n",
    "        \n",
    "        show_html(getHTML_idanchor(s_cool.format(atmpro)))\n",
    "        show_markdown(getMarkdown_sectitle(s_cool.format(atmpro)))\n",
    "        show_cool(dcrd, dcli, atmpro=atmpro)\n",
    "        \n",
    "        show_html(getHTML_idanchor(s_flux.format(atmpro)))\n",
    "        show_markdown(getMarkdown_sectitle(s_flux.format(atmpro)))\n",
    "        show_hist_flux(dcrd, dcli, atmpro=atmpro)\n",
    "        show_tb_flux(dcrd, dcli, atmpro=atmpro)\n",
    "    \n",
    "    #script_tofile()"
   ]
  },
  {
   "cell_type": "markdown",
   "metadata": {},
   "source": [
    "## Analysis Result"
   ]
  },
  {
   "cell_type": "code",
   "execution_count": 27,
   "metadata": {
    "scrolled": false
   },
   "outputs": [
    {
     "data": {
      "text/markdown": [
       "### Table of Contents"
      ],
      "text/plain": [
       "<IPython.core.display.Markdown object>"
      ]
     },
     "metadata": {},
     "output_type": "display_data"
    },
    {
     "data": {
      "text/html": [
       "<a href=\"#Makeup_of_atmosphere.\">Makeup of atmosphere.</a>"
      ],
      "text/plain": [
       "<IPython.core.display.HTML object>"
      ]
     },
     "metadata": {},
     "output_type": "display_data"
    },
    {
     "data": {
      "text/markdown": [
       "**mid-latitude summer**"
      ],
      "text/plain": [
       "<IPython.core.display.Markdown object>"
      ]
     },
     "metadata": {},
     "output_type": "display_data"
    },
    {
     "data": {
      "text/html": [
       "<a href=\"#Parameters_of_runs._mls\">Parameters of runs. mls</a>"
      ],
      "text/plain": [
       "<IPython.core.display.HTML object>"
      ]
     },
     "metadata": {},
     "output_type": "display_data"
    },
    {
     "data": {
      "text/html": [
       "<a href=\"#Cooling_rates._mls.\">Cooling rates. mls.</a>"
      ],
      "text/plain": [
       "<IPython.core.display.HTML object>"
      ]
     },
     "metadata": {},
     "output_type": "display_data"
    },
    {
     "data": {
      "text/html": [
       "<a href=\"#Fluxes._mls.\">Fluxes. mls.</a>"
      ],
      "text/plain": [
       "<IPython.core.display.HTML object>"
      ]
     },
     "metadata": {},
     "output_type": "display_data"
    },
    {
     "data": {
      "text/markdown": [
       "**sub-arctic winter**"
      ],
      "text/plain": [
       "<IPython.core.display.Markdown object>"
      ]
     },
     "metadata": {},
     "output_type": "display_data"
    },
    {
     "data": {
      "text/html": [
       "<a href=\"#Parameters_of_runs._saw\">Parameters of runs. saw</a>"
      ],
      "text/plain": [
       "<IPython.core.display.HTML object>"
      ]
     },
     "metadata": {},
     "output_type": "display_data"
    },
    {
     "data": {
      "text/html": [
       "<a href=\"#Cooling_rates._saw.\">Cooling rates. saw.</a>"
      ],
      "text/plain": [
       "<IPython.core.display.HTML object>"
      ]
     },
     "metadata": {},
     "output_type": "display_data"
    },
    {
     "data": {
      "text/html": [
       "<a href=\"#Fluxes._saw.\">Fluxes. saw.</a>"
      ],
      "text/plain": [
       "<IPython.core.display.HTML object>"
      ]
     },
     "metadata": {},
     "output_type": "display_data"
    },
    {
     "data": {
      "text/markdown": [
       "**tropical**"
      ],
      "text/plain": [
       "<IPython.core.display.Markdown object>"
      ]
     },
     "metadata": {},
     "output_type": "display_data"
    },
    {
     "data": {
      "text/html": [
       "<a href=\"#Parameters_of_runs._trp\">Parameters of runs. trp</a>"
      ],
      "text/plain": [
       "<IPython.core.display.HTML object>"
      ]
     },
     "metadata": {},
     "output_type": "display_data"
    },
    {
     "data": {
      "text/html": [
       "<a href=\"#Cooling_rates._trp.\">Cooling rates. trp.</a>"
      ],
      "text/plain": [
       "<IPython.core.display.HTML object>"
      ]
     },
     "metadata": {},
     "output_type": "display_data"
    },
    {
     "data": {
      "text/html": [
       "<a href=\"#Fluxes._trp.\">Fluxes. trp.</a>"
      ],
      "text/plain": [
       "<IPython.core.display.HTML object>"
      ]
     },
     "metadata": {},
     "output_type": "display_data"
    },
    {
     "data": {
      "text/html": [
       "<a id=\"Makeup_of_atmosphere.\"></a>"
      ],
      "text/plain": [
       "<IPython.core.display.HTML object>"
      ]
     },
     "metadata": {},
     "output_type": "display_data"
    },
    {
     "data": {
      "text/markdown": [
       "# Makeup of atmosphere."
      ],
      "text/plain": [
       "<IPython.core.display.Markdown object>"
      ]
     },
     "metadata": {},
     "output_type": "display_data"
    },
    {
     "data": {
      "text/html": [
       "<div>\n",
       "<style scoped>\n",
       "    .dataframe tbody tr th:only-of-type {\n",
       "        vertical-align: middle;\n",
       "    }\n",
       "\n",
       "    .dataframe tbody tr th {\n",
       "        vertical-align: top;\n",
       "    }\n",
       "\n",
       "    .dataframe thead th {\n",
       "        text-align: right;\n",
       "    }\n",
       "</style>\n",
       "<table border=\"1\" class=\"dataframe\">\n",
       "  <thead>\n",
       "    <tr style=\"text-align: right;\">\n",
       "      <th>clirad band</th>\n",
       "      <th>7</th>\n",
       "    </tr>\n",
       "    <tr>\n",
       "      <th>molecule</th>\n",
       "      <th></th>\n",
       "    </tr>\n",
       "  </thead>\n",
       "  <tbody>\n",
       "    <tr>\n",
       "      <th>o3</th>\n",
       "      <td>atmpro</td>\n",
       "    </tr>\n",
       "  </tbody>\n",
       "</table>\n",
       "</div>"
      ],
      "text/plain": [
       "clirad band       7\n",
       "molecule           \n",
       "o3           atmpro"
      ]
     },
     "metadata": {},
     "output_type": "display_data"
    },
    {
     "data": {
      "text/markdown": [
       "*TABLE.* Non-grey absorbers in the atmosphere."
      ],
      "text/plain": [
       "<IPython.core.display.Markdown object>"
      ]
     },
     "metadata": {},
     "output_type": "display_data"
    },
    {
     "data": {
      "text/html": [
       "<a id=\"Parameters_of_runs._mls\"></a>"
      ],
      "text/plain": [
       "<IPython.core.display.HTML object>"
      ]
     },
     "metadata": {},
     "output_type": "display_data"
    },
    {
     "data": {
      "text/markdown": [
       "# Parameters of runs. mls"
      ],
      "text/plain": [
       "<IPython.core.display.Markdown object>"
      ]
     },
     "metadata": {},
     "output_type": "display_data"
    },
    {
     "data": {
      "text/html": [
       "<div>\n",
       "<style scoped>\n",
       "    .dataframe tbody tr th:only-of-type {\n",
       "        vertical-align: middle;\n",
       "    }\n",
       "\n",
       "    .dataframe tbody tr th {\n",
       "        vertical-align: top;\n",
       "    }\n",
       "\n",
       "    .dataframe thead tr th {\n",
       "        text-align: left;\n",
       "    }\n",
       "</style>\n",
       "<table border=\"1\" class=\"dataframe\">\n",
       "  <thead>\n",
       "    <tr>\n",
       "      <th></th>\n",
       "      <th>clirad-lw</th>\n",
       "      <th>lblnew-bestfit lw</th>\n",
       "    </tr>\n",
       "    <tr>\n",
       "      <th></th>\n",
       "      <th>:D</th>\n",
       "      <th>band5 o3</th>\n",
       "    </tr>\n",
       "  </thead>\n",
       "  <tbody>\n",
       "    <tr>\n",
       "      <th>atmpro</th>\n",
       "      <td>mls</td>\n",
       "      <td>mls</td>\n",
       "    </tr>\n",
       "    <tr>\n",
       "      <th>band</th>\n",
       "      <td>[7]</td>\n",
       "      <td>5</td>\n",
       "    </tr>\n",
       "    <tr>\n",
       "      <th>commitnumber</th>\n",
       "      <td>1013f91</td>\n",
       "      <td>a06b618</td>\n",
       "    </tr>\n",
       "    <tr>\n",
       "      <th>conc</th>\n",
       "      <td>-</td>\n",
       "      <td>-</td>\n",
       "    </tr>\n",
       "    <tr>\n",
       "      <th>dv</th>\n",
       "      <td>-</td>\n",
       "      <td>0.001</td>\n",
       "    </tr>\n",
       "    <tr>\n",
       "      <th>klin</th>\n",
       "      <td>-</td>\n",
       "      <td>2e-20</td>\n",
       "    </tr>\n",
       "    <tr>\n",
       "      <th>molecule</th>\n",
       "      <td>{'o3': 'atmpro'}</td>\n",
       "      <td>o3</td>\n",
       "    </tr>\n",
       "    <tr>\n",
       "      <th>ng_adju</th>\n",
       "      <td>-</td>\n",
       "      <td>[0, 0]</td>\n",
       "    </tr>\n",
       "    <tr>\n",
       "      <th>ng_refs</th>\n",
       "      <td>-</td>\n",
       "      <td>[2, 5]</td>\n",
       "    </tr>\n",
       "    <tr>\n",
       "      <th>nv</th>\n",
       "      <td>-</td>\n",
       "      <td>1000</td>\n",
       "    </tr>\n",
       "    <tr>\n",
       "      <th>option_compute_btable</th>\n",
       "      <td>-</td>\n",
       "      <td>0</td>\n",
       "    </tr>\n",
       "    <tr>\n",
       "      <th>option_compute_ktable</th>\n",
       "      <td>-</td>\n",
       "      <td>1</td>\n",
       "    </tr>\n",
       "    <tr>\n",
       "      <th>option_wgt_flux</th>\n",
       "      <td>-</td>\n",
       "      <td>1</td>\n",
       "    </tr>\n",
       "    <tr>\n",
       "      <th>option_wgt_k</th>\n",
       "      <td>-</td>\n",
       "      <td>1</td>\n",
       "    </tr>\n",
       "    <tr>\n",
       "      <th>ref_pts</th>\n",
       "      <td>-</td>\n",
       "      <td>[[1, 250], [50, 250]]</td>\n",
       "    </tr>\n",
       "    <tr>\n",
       "      <th>tsfc</th>\n",
       "      <td>294</td>\n",
       "      <td>294</td>\n",
       "    </tr>\n",
       "    <tr>\n",
       "      <th>vmax</th>\n",
       "      <td>-</td>\n",
       "      <td>1100</td>\n",
       "    </tr>\n",
       "    <tr>\n",
       "      <th>vmin</th>\n",
       "      <td>-</td>\n",
       "      <td>980</td>\n",
       "    </tr>\n",
       "    <tr>\n",
       "      <th>w_diffuse</th>\n",
       "      <td>-</td>\n",
       "      <td>[[1.6, 1.75], [1.55, 1.66, 1.7, 1.75, 1.8]]</td>\n",
       "    </tr>\n",
       "    <tr>\n",
       "      <th>wgt</th>\n",
       "      <td>-</td>\n",
       "      <td>[[0.35, 0.6], [0.5, 0.55, 0.7, 0.9, 1.0]]</td>\n",
       "    </tr>\n",
       "  </tbody>\n",
       "</table>\n",
       "</div>"
      ],
      "text/plain": [
       "                              clirad-lw  \\\n",
       "                                     :D   \n",
       "atmpro                              mls   \n",
       "band                                [7]   \n",
       "commitnumber                    1013f91   \n",
       "conc                                  -   \n",
       "dv                                    -   \n",
       "klin                                  -   \n",
       "molecule               {'o3': 'atmpro'}   \n",
       "ng_adju                               -   \n",
       "ng_refs                               -   \n",
       "nv                                    -   \n",
       "option_compute_btable                 -   \n",
       "option_compute_ktable                 -   \n",
       "option_wgt_flux                       -   \n",
       "option_wgt_k                          -   \n",
       "ref_pts                               -   \n",
       "tsfc                                294   \n",
       "vmax                                  -   \n",
       "vmin                                  -   \n",
       "w_diffuse                             -   \n",
       "wgt                                   -   \n",
       "\n",
       "                                                 lblnew-bestfit lw  \n",
       "                                                          band5 o3  \n",
       "atmpro                                                         mls  \n",
       "band                                                             5  \n",
       "commitnumber                                               a06b618  \n",
       "conc                                                             -  \n",
       "dv                                                           0.001  \n",
       "klin                                                         2e-20  \n",
       "molecule                                                        o3  \n",
       "ng_adju                                                     [0, 0]  \n",
       "ng_refs                                                     [2, 5]  \n",
       "nv                                                            1000  \n",
       "option_compute_btable                                            0  \n",
       "option_compute_ktable                                            1  \n",
       "option_wgt_flux                                                  1  \n",
       "option_wgt_k                                                     1  \n",
       "ref_pts                                      [[1, 250], [50, 250]]  \n",
       "tsfc                                                           294  \n",
       "vmax                                                          1100  \n",
       "vmin                                                           980  \n",
       "w_diffuse              [[1.6, 1.75], [1.55, 1.66, 1.7, 1.75, 1.8]]  \n",
       "wgt                      [[0.35, 0.6], [0.5, 0.55, 0.7, 0.9, 1.0]]  "
      ]
     },
     "metadata": {},
     "output_type": "display_data"
    },
    {
     "data": {
      "text/html": [
       "<a id=\"Cooling_rates._mls.\"></a>"
      ],
      "text/plain": [
       "<IPython.core.display.HTML object>"
      ]
     },
     "metadata": {},
     "output_type": "display_data"
    },
    {
     "data": {
      "text/markdown": [
       "# Cooling rates. mls."
      ],
      "text/plain": [
       "<IPython.core.display.Markdown object>"
      ]
     },
     "metadata": {},
     "output_type": "display_data"
    },
    {
     "data": {
      "text/html": [
       "\n",
       "<div class=\"bk-root\">\n",
       "    <div class=\"bk-plotdiv\" id=\"d3ada454-3508-41d1-8fc6-9c6350db390b\"></div>\n",
       "</div>"
      ]
     },
     "metadata": {},
     "output_type": "display_data"
    },
    {
     "data": {
      "application/javascript": [
       "(function(root) {\n",
       "  function embed_document(root) {\n",
       "    \n",
       "  var docs_json = {\"b9d45139-97f1-4a6c-94ac-13d80f315241\":{\"roots\":{\"references\":[{\"attributes\":{\"bottom_units\":\"screen\",\"fill_alpha\":{\"value\":0.5},\"fill_color\":{\"value\":\"lightgrey\"},\"left_units\":\"screen\",\"level\":\"overlay\",\"line_alpha\":{\"value\":1.0},\"line_color\":{\"value\":\"black\"},\"line_dash\":[4,4],\"line_width\":{\"value\":2},\"plot\":null,\"render_mode\":\"css\",\"right_units\":\"screen\",\"top_units\":\"screen\"},\"id\":\"a79b7652-4a13-49a9-a146-05040acdda0c\",\"type\":\"BoxAnnotation\"},{\"attributes\":{},\"id\":\"588225e7-f710-4b5e-ad86-cd1bd6fd3aaf\",\"type\":\"UnionRenderers\"},{\"attributes\":{\"data_source\":{\"id\":\"3b9ddcee-1a57-4a32-83f1-dadce11bd1aa\",\"type\":\"ColumnDataSource\"},\"glyph\":{\"id\":\"18eda96c-c6ae-4e53-9cc7-9dd0be6fa89e\",\"type\":\"Line\"},\"hover_glyph\":null,\"muted_glyph\":null,\"nonselection_glyph\":{\"id\":\"07e21fbe-9847-47ae-8b80-d8422cea7194\",\"type\":\"Line\"},\"selection_glyph\":null,\"view\":{\"id\":\"099af92e-e7c8-447d-9997-24d52019c5e0\",\"type\":\"CDSView\"}},\"id\":\"9b65d1a0-f958-4f0d-96c1-939819da759f\",\"type\":\"GlyphRenderer\"},{\"attributes\":{\"callback\":null,\"end\":0.01,\"start\":1020},\"id\":\"cd60c860-b743-48d4-b7bc-72f6228e15c3\",\"type\":\"Range1d\"},{\"attributes\":{\"source\":{\"id\":\"3b9ddcee-1a57-4a32-83f1-dadce11bd1aa\",\"type\":\"ColumnDataSource\"}},\"id\":\"099af92e-e7c8-447d-9997-24d52019c5e0\",\"type\":\"CDSView\"},{\"attributes\":{\"active_drag\":\"auto\",\"active_inspect\":\"auto\",\"active_scroll\":\"auto\",\"active_tap\":\"auto\",\"tools\":[{\"id\":\"f26cef6e-79fb-4059-8aac-f42b5971ebb4\",\"type\":\"PanTool\"},{\"id\":\"28db2cbd-ee42-4862-b941-71a6f20fc45f\",\"type\":\"WheelZoomTool\"},{\"id\":\"07efb290-8d76-4066-8b7a-9b7f829e9567\",\"type\":\"BoxZoomTool\"},{\"id\":\"412e4823-00b1-44b4-b911-7b37603aefc6\",\"type\":\"SaveTool\"},{\"id\":\"204b873d-1fbb-42fc-a404-669f298163cb\",\"type\":\"ResetTool\"},{\"id\":\"b735b444-5024-497e-8474-4e2940f8dfcf\",\"type\":\"HelpTool\"}]},\"id\":\"6adc4276-00b0-467a-904c-4290aca617c2\",\"type\":\"Toolbar\"},{\"attributes\":{\"callback\":null,\"end\":0.047101589184,\"start\":-0.1258101147840001},\"id\":\"54c91030-c472-4c31-a149-afe1f30e06bd\",\"type\":\"Range1d\"},{\"attributes\":{\"data_source\":{\"id\":\"af01b77b-5e55-4097-8479-ea385a711256\",\"type\":\"ColumnDataSource\"},\"glyph\":{\"id\":\"b06f2fa0-c625-4dd2-a02f-827a803af91f\",\"type\":\"Circle\"},\"hover_glyph\":null,\"muted_glyph\":null,\"nonselection_glyph\":{\"id\":\"a594d67d-a385-492d-95c1-a2309831050e\",\"type\":\"Circle\"},\"selection_glyph\":null,\"view\":{\"id\":\"2b3f35fa-fc72-4420-8d42-6d6ccdb470ba\",\"type\":\"CDSView\"}},\"id\":\"ed959ecd-d1ac-481a-8e3a-ec6d4573a520\",\"type\":\"GlyphRenderer\"},{\"attributes\":{\"line_alpha\":0.1,\"line_color\":\"#1f77b4\",\"line_width\":1.5,\"x\":{\"field\":\"x\"},\"y\":{\"field\":\"y\"}},\"id\":\"07e21fbe-9847-47ae-8b80-d8422cea7194\",\"type\":\"Line\"},{\"attributes\":{\"source\":{\"id\":\"af01b77b-5e55-4097-8479-ea385a711256\",\"type\":\"ColumnDataSource\"}},\"id\":\"2b3f35fa-fc72-4420-8d42-6d6ccdb470ba\",\"type\":\"CDSView\"},{\"attributes\":{\"data_source\":{\"id\":\"06c51168-2b7e-4249-928a-abd37dd806ee\",\"type\":\"ColumnDataSource\"},\"glyph\":{\"id\":\"ea271bca-00e2-427c-b8ad-012e5d9e268b\",\"type\":\"Line\"},\"hover_glyph\":null,\"muted_glyph\":null,\"nonselection_glyph\":{\"id\":\"50e0529c-ceb0-44d2-b9d3-d46b65457e03\",\"type\":\"Line\"},\"selection_glyph\":null,\"view\":{\"id\":\"947c4155-a030-4bc5-beb2-361e686a2a03\",\"type\":\"CDSView\"}},\"id\":\"ee788c63-a50e-463d-b7e3-bc8895f20659\",\"type\":\"GlyphRenderer\"},{\"attributes\":{\"line_color\":\"#4daf4a\",\"line_width\":1.5,\"x\":{\"field\":\"x\"},\"y\":{\"field\":\"y\"}},\"id\":\"18eda96c-c6ae-4e53-9cc7-9dd0be6fa89e\",\"type\":\"Line\"},{\"attributes\":{\"fill_alpha\":{\"value\":0.1},\"fill_color\":{\"value\":\"#1f77b4\"},\"line_alpha\":{\"value\":0.1},\"line_color\":{\"value\":\"#1f77b4\"},\"x\":{\"field\":\"x\"},\"y\":{\"field\":\"y\"}},\"id\":\"a594d67d-a385-492d-95c1-a2309831050e\",\"type\":\"Circle\"},{\"attributes\":{},\"id\":\"204b873d-1fbb-42fc-a404-669f298163cb\",\"type\":\"ResetTool\"},{\"attributes\":{},\"id\":\"8209946d-734b-4b02-b1a6-700781342c8d\",\"type\":\"LinearScale\"},{\"attributes\":{\"dimension\":1,\"plot\":{\"id\":\"0d1f53c4-434a-4661-8519-73686e227694\",\"subtype\":\"Figure\",\"type\":\"Plot\"},\"ticker\":{\"id\":\"a433c6c7-f534-4b63-a5ca-1236bc8ae6e8\",\"type\":\"BasicTicker\"}},\"id\":\"74da2742-5401-416a-a49b-bfb44c9d5b9e\",\"type\":\"Grid\"},{\"attributes\":{\"label\":{\"value\":\"CLIRAD\"},\"renderers\":[{\"id\":\"e487f3c6-a5ee-483b-ac77-5b31ee210c51\",\"type\":\"GlyphRenderer\"}]},\"id\":\"52764309-3fc8-4421-9aa0-31d5a615e135\",\"type\":\"LegendItem\"},{\"attributes\":{\"label\":{\"value\":\"CRD\"},\"renderers\":[{\"id\":\"db52fba5-bd47-42e3-b0dc-2988041f8697\",\"type\":\"GlyphRenderer\"},{\"id\":\"9b65d1a0-f958-4f0d-96c1-939819da759f\",\"type\":\"GlyphRenderer\"}]},\"id\":\"33925c37-e4b2-49d9-87c0-ead1453a8456\",\"type\":\"LegendItem\"},{\"attributes\":{\"callback\":null,\"end\":0.029961189806799998,\"start\":-0.3268783771268},\"id\":\"8fc07cac-2945-43fa-94ce-416e9628e0ab\",\"type\":\"Range1d\"},{\"attributes\":{\"axis_label\":\"cooling rate [K/day]\",\"formatter\":{\"id\":\"583ea4d7-bcae-4239-a3fb-d492f215e9f9\",\"type\":\"BasicTickFormatter\"},\"plot\":{\"id\":\"0d1f53c4-434a-4661-8519-73686e227694\",\"subtype\":\"Figure\",\"type\":\"Plot\"},\"ticker\":{\"id\":\"d20d96ec-debb-496e-abb5-e8865d653e7b\",\"type\":\"BasicTicker\"}},\"id\":\"2fe1f415-d55b-4aa6-a36e-1a010ae46c11\",\"type\":\"LinearAxis\"},{\"attributes\":{\"axis_label\":\"pressure [mb]\",\"formatter\":{\"id\":\"3266ee88-567b-4236-9f5f-acf70114dd61\",\"type\":\"LogTickFormatter\"},\"plot\":{\"id\":\"3446014d-0746-461b-b8d2-aa84e8ff03d8\",\"subtype\":\"Figure\",\"type\":\"Plot\"},\"ticker\":{\"id\":\"fd12763b-d710-4396-a749-733935025263\",\"type\":\"LogTicker\"}},\"id\":\"c7b25f76-8ff5-434e-8f45-d4eead7bf370\",\"type\":\"LogAxis\"},{\"attributes\":{\"above\":[{\"id\":\"73b6311a-a1c7-4ae2-9dc6-ceae2a48572b\",\"type\":\"Legend\"}],\"below\":[{\"id\":\"c138bb8a-2726-446e-abaf-29b795b67191\",\"type\":\"LinearAxis\"}],\"left\":[{\"id\":\"c7b25f76-8ff5-434e-8f45-d4eead7bf370\",\"type\":\"LogAxis\"}],\"plot_width\":300,\"renderers\":[{\"id\":\"c138bb8a-2726-446e-abaf-29b795b67191\",\"type\":\"LinearAxis\"},{\"id\":\"995f48cf-c863-45fc-b6db-11f141b23fdb\",\"type\":\"Grid\"},{\"id\":\"c7b25f76-8ff5-434e-8f45-d4eead7bf370\",\"type\":\"LogAxis\"},{\"id\":\"f138eda6-686f-40f5-8de1-8845a635b094\",\"type\":\"Grid\"},{\"id\":\"a997ce86-7751-4413-8d7b-904bf153b7fe\",\"type\":\"BoxAnnotation\"},{\"id\":\"e487f3c6-a5ee-483b-ac77-5b31ee210c51\",\"type\":\"GlyphRenderer\"},{\"id\":\"db52fba5-bd47-42e3-b0dc-2988041f8697\",\"type\":\"GlyphRenderer\"},{\"id\":\"9b65d1a0-f958-4f0d-96c1-939819da759f\",\"type\":\"GlyphRenderer\"},{\"id\":\"73b6311a-a1c7-4ae2-9dc6-ceae2a48572b\",\"type\":\"Legend\"}],\"title\":{\"id\":\"19315412-0f48-43e0-80a0-4554a6eab52f\",\"type\":\"Title\"},\"toolbar\":{\"id\":\"be5144cd-ea63-4246-81f2-ea8095caa05b\",\"type\":\"Toolbar\"},\"toolbar_location\":null,\"x_range\":{\"id\":\"f60ae28f-caf5-48fd-a63e-d78fcf6d4fd8\",\"type\":\"Range1d\"},\"x_scale\":{\"id\":\"e6cd3d82-65d2-456e-8e06-b5b3f4f08e99\",\"type\":\"LinearScale\"},\"y_range\":{\"id\":\"3cf2161d-251f-4435-b10d-f4f0ccd6754a\",\"type\":\"Range1d\"},\"y_scale\":{\"id\":\"ccec9713-4598-4882-af56-cded07d7787c\",\"type\":\"LogScale\"}},\"id\":\"3446014d-0746-461b-b8d2-aa84e8ff03d8\",\"subtype\":\"Figure\",\"type\":\"Plot\"},{\"attributes\":{},\"id\":\"41610b74-623a-4aad-a419-62023f8900a1\",\"type\":\"LinearScale\"},{\"attributes\":{\"active_drag\":\"auto\",\"active_inspect\":\"auto\",\"active_scroll\":\"auto\",\"active_tap\":\"auto\",\"tools\":[{\"id\":\"5372c548-8159-4cc1-8381-a436f7e5c789\",\"type\":\"PanTool\"},{\"id\":\"2641581f-80dd-4b0d-8558-818eeac877c9\",\"type\":\"WheelZoomTool\"},{\"id\":\"4c20dd6c-7276-42a0-a854-36b2c2411d68\",\"type\":\"BoxZoomTool\"},{\"id\":\"7e47f316-e28f-4773-a7d9-4f6b304ec06c\",\"type\":\"SaveTool\"},{\"id\":\"24f2b5e3-073e-40d6-8be3-b2a1f74d9b12\",\"type\":\"ResetTool\"},{\"id\":\"052b478a-e8fb-4ae9-a1ee-a8d11ff351d0\",\"type\":\"HelpTool\"}]},\"id\":\"18e4ea6f-2fa0-46f0-ad5f-5aab1b8293b8\",\"type\":\"Toolbar\"},{\"attributes\":{},\"id\":\"a44baf29-dbd6-4cd1-8730-5bb48fdc20bc\",\"type\":\"LinearScale\"},{\"attributes\":{\"callback\":null,\"data\":{\"x\":{\"__ndarray__\":\"dw1ZClb0o78jPF1FaTOmv2Mkzl4DiKq/5f4kZoivrr8i8j7P3VWxvwtXi44NP7O/m7WQbd8Rtb8GvBLW8c22v+UDwe67c7i/ZsrNB7IEur9B5kiGZoq7v9CXKVLwBb2/83wF8R2Cvr+NC6VoNvu/v5OJT0lzPsC/7Vz+OTwqvr+0Dk5weuWxv7YwFDrrj6A/4iHVvpx8yT8KUmTnNlHcPwUqdoxY0Og/EAS27fV68z/F+EcXT7j7P0xNblO95v8/NDGSeqWl/D9LVArihfr2P/6D9IaO/PA/RK9Oa93R5z8x4xpdrbTgPzkrjvnzg9Y/6G5En2Loxj9sqAvh6hqFP0wE1bZNp7u/ykieLPN9yL+PFDHv6LTQv6MT/A3XFdK/onM4I5wA0L+P3s6QurXLv6YUVpOwwsm/2NL1XuIKx7/hG7cNZHPCv+9nnHl+QL2/GDBpUb0DuL+AE7hbLCqzvyKlWLz4pa6/7+N3AvmMqb9KBg7VhTmlv+atJuWKOqG/ws9sJIKlm78ie6INgeSVvz/iqj0rs5C/rhzpdR8diL861B6Gkcl/v/IeQkFSkHG/4OGrz2HjU7+FGBhmwMlZP3qdcHtX5XA/41i31Q2Pej+83PcwkrmBPxc4lnzX3IU/KkWJNXK6iT9MGpbAi0aNP2X5paRGS5A/OYjIUZzckT/HO7f9qE6TP/JvZdkGmpQ/N/X8RC3XlT/SKvjNzgOXP9T+qjfp+Zc/jh6E/ce2mD+8EGbgmk2ZP6mn9h/D05k/0agMLGJMmj9cBlwyibeaP3fyFvENGZs/\",\"dtype\":\"float64\",\"shape\":[75]},\"y\":{\"__ndarray__\":\"GhExyth1ND/Sv8nbtpRIP2vylNV0PVE/aTum7souWD/At0SJ8fVgPw3Iuahxymc/MSNhhJWvcD/bTfBN02d3P2zb5nxnaoA/CD5h5MAGhz8NmeH1TyaQP+zrCsc9p5Y/LbKd76fGnz/bLW5ISEmmPww9YvTcQq8/JV2OstnstT8Er5Y7M8G+P0c+r3jqkcU/5h99k6ZBzj88bCIzFzjVP4enV8oyxN0//yH99nXg5D8qOpLLf0jtP5kqGJXUifQ/c9cS8kHP/D+/DpwzojQEQIEmwoanVwxA4lgXt9HgE0BSSZ2AJuIbQAMJih9jjiNA5q4l5INuK0AwTKYKRj0zQNv5fmq8/DpAaCJseHrtQkB/+zpwzoxKQM3MzMzMeFJAZmZmZmZqWEAAAAAAAFxeQM3MzMzMJmJAmpmZmZkfZUBmZmZmZhhoQDMzMzMzEWtAAAAAAAAKbkBmZmZmZoFwQM3MzMzM/XFAMzMzMzN6c0CamZmZmfZ0QAAAAAAAc3ZAZmZmZmbvd0DNzMzMzGt5QDMzMzMz6HpAmpmZmZlkfEAAAAAAAOF9QGZmZmZmXX9AZmZmZuZsgECamZmZGSuBQM3MzMxM6YFAAAAAAICngkAzMzMzs2WDQGZmZmbmI4RAmpmZmRnihEDNzMzMTKCFQAAAAACAXoZAMzMzM7Mch0BmZmZm5tqHQJqZmZkZmYhAzczMzExXiUAAAAAAgBWKQDMzMzOz04pAZmZmZuaRi0CamZmZGVCMQM3MzMxMDo1AAAAAAIDMjUAzMzMzs4qOQGZmZmbmSI9A\",\"dtype\":\"float64\",\"shape\":[75]}},\"selected\":{\"id\":\"fbace6b5-6b8c-46cf-bfc5-586b10dbb95d\",\"type\":\"Selection\"},\"selection_policy\":{\"id\":\"70cc7163-1a25-4007-b0c1-31b2bed0a303\",\"type\":\"UnionRenderers\"}},\"id\":\"06c51168-2b7e-4249-928a-abd37dd806ee\",\"type\":\"ColumnDataSource\"},{\"attributes\":{},\"id\":\"f26cef6e-79fb-4059-8aac-f42b5971ebb4\",\"type\":\"PanTool\"},{\"attributes\":{\"data_source\":{\"id\":\"7d307e7d-037a-4d85-b4d3-d1008bb5cc97\",\"type\":\"ColumnDataSource\"},\"glyph\":{\"id\":\"11b33679-3b11-40b1-b827-466e077f6fbc\",\"type\":\"Line\"},\"hover_glyph\":null,\"muted_glyph\":null,\"nonselection_glyph\":{\"id\":\"370b09f5-c41b-4666-a612-7f2424c05b62\",\"type\":\"Line\"},\"selection_glyph\":null,\"view\":{\"id\":\"3361a8df-e05c-42ab-bf2d-4190e1afab99\",\"type\":\"CDSView\"}},\"id\":\"ce0ba28c-52b6-4393-a1d2-45f45b12e93e\",\"type\":\"GlyphRenderer\"},{\"attributes\":{\"source\":{\"id\":\"7d307e7d-037a-4d85-b4d3-d1008bb5cc97\",\"type\":\"ColumnDataSource\"}},\"id\":\"3361a8df-e05c-42ab-bf2d-4190e1afab99\",\"type\":\"CDSView\"},{\"attributes\":{\"children\":[{\"id\":\"e26608ab-4853-4520-8097-6afb66103de0\",\"type\":\"Row\"}]},\"id\":\"0e403089-b5c2-49a9-910b-d541482c146e\",\"type\":\"Column\"},{\"attributes\":{\"num_minor_ticks\":10},\"id\":\"14b32f3b-14fa-4cef-9dfa-68e3c1e72be2\",\"type\":\"LogTicker\"},{\"attributes\":{\"axis_label\":\"pressure [mb]\",\"formatter\":{\"id\":\"0e70e245-1170-485d-981d-c5c27636e6e0\",\"type\":\"LogTickFormatter\"},\"plot\":{\"id\":\"b47d9e84-077a-4bba-80c3-ccf7cedf5c46\",\"subtype\":\"Figure\",\"type\":\"Plot\"},\"ticker\":{\"id\":\"14b32f3b-14fa-4cef-9dfa-68e3c1e72be2\",\"type\":\"LogTicker\"}},\"id\":\"a26cd028-572f-4e5d-8d42-ece9a8203c56\",\"type\":\"LogAxis\"},{\"attributes\":{\"num_minor_ticks\":10},\"id\":\"fd12763b-d710-4396-a749-733935025263\",\"type\":\"LogTicker\"},{\"attributes\":{},\"id\":\"5fd470ed-156f-40d8-be40-b87b3b60a613\",\"type\":\"UnionRenderers\"},{\"attributes\":{\"plot\":{\"id\":\"0d1f53c4-434a-4661-8519-73686e227694\",\"subtype\":\"Figure\",\"type\":\"Plot\"},\"ticker\":{\"id\":\"d20d96ec-debb-496e-abb5-e8865d653e7b\",\"type\":\"BasicTicker\"}},\"id\":\"3668db37-e481-4897-92fb-ec17c27c3fa4\",\"type\":\"Grid\"},{\"attributes\":{\"callback\":null,\"data\":{\"x\":{\"__ndarray__\":\"dw1ZClb0o78jPF1FaTOmv2Mkzl4DiKq/5f4kZoivrr8i8j7P3VWxvwtXi44NP7O/m7WQbd8Rtb8GvBLW8c22v+UDwe67c7i/ZsrNB7IEur9B5kiGZoq7v9CXKVLwBb2/83wF8R2Cvr+NC6VoNvu/v5OJT0lzPsC/7Vz+OTwqvr+0Dk5weuWxv7YwFDrrj6A/4iHVvpx8yT8KUmTnNlHcPwUqdoxY0Og/EAS27fV68z/F+EcXT7j7P0xNblO95v8/NDGSeqWl/D9LVArihfr2P/6D9IaO/PA/RK9Oa93R5z8x4xpdrbTgPzkrjvnzg9Y/6G5En2Loxj9sqAvh6hqFP0wE1bZNp7u/ykieLPN9yL+PFDHv6LTQv6MT/A3XFdK/onM4I5wA0L+P3s6QurXLv6YUVpOwwsm/2NL1XuIKx7/hG7cNZHPCv+9nnHl+QL2/GDBpUb0DuL+AE7hbLCqzvyKlWLz4pa6/7+N3AvmMqb9KBg7VhTmlv+atJuWKOqG/ws9sJIKlm78ie6INgeSVvz/iqj0rs5C/rhzpdR8diL861B6Gkcl/v/IeQkFSkHG/4OGrz2HjU7+FGBhmwMlZP3qdcHtX5XA/41i31Q2Pej+83PcwkrmBPxc4lnzX3IU/KkWJNXK6iT9MGpbAi0aNP2X5paRGS5A/OYjIUZzckT/HO7f9qE6TP/JvZdkGmpQ/N/X8RC3XlT/SKvjNzgOXP9T+qjfp+Zc/jh6E/ce2mD+8EGbgmk2ZP6mn9h/D05k/0agMLGJMmj9cBlwyibeaP3fyFvENGZs/\",\"dtype\":\"float64\",\"shape\":[75]},\"y\":{\"__ndarray__\":\"GhExyth1ND/Sv8nbtpRIP2vylNV0PVE/aTum7souWD/At0SJ8fVgPw3Iuahxymc/MSNhhJWvcD/bTfBN02d3P2zb5nxnaoA/CD5h5MAGhz8NmeH1TyaQP+zrCsc9p5Y/LbKd76fGnz/bLW5ISEmmPww9YvTcQq8/JV2OstnstT8Er5Y7M8G+P0c+r3jqkcU/5h99k6ZBzj88bCIzFzjVP4enV8oyxN0//yH99nXg5D8qOpLLf0jtP5kqGJXUifQ/c9cS8kHP/D+/DpwzojQEQIEmwoanVwxA4lgXt9HgE0BSSZ2AJuIbQAMJih9jjiNA5q4l5INuK0AwTKYKRj0zQNv5fmq8/DpAaCJseHrtQkB/+zpwzoxKQM3MzMzMeFJAZmZmZmZqWEAAAAAAAFxeQM3MzMzMJmJAmpmZmZkfZUBmZmZmZhhoQDMzMzMzEWtAAAAAAAAKbkBmZmZmZoFwQM3MzMzM/XFAMzMzMzN6c0CamZmZmfZ0QAAAAAAAc3ZAZmZmZmbvd0DNzMzMzGt5QDMzMzMz6HpAmpmZmZlkfEAAAAAAAOF9QGZmZmZmXX9AZmZmZuZsgECamZmZGSuBQM3MzMxM6YFAAAAAAICngkAzMzMzs2WDQGZmZmbmI4RAmpmZmRnihEDNzMzMTKCFQAAAAACAXoZAMzMzM7Mch0BmZmZm5tqHQJqZmZkZmYhAzczMzExXiUAAAAAAgBWKQDMzMzOz04pAZmZmZuaRi0CamZmZGVCMQM3MzMxMDo1AAAAAAIDMjUAzMzMzs4qOQGZmZmbmSI9A\",\"dtype\":\"float64\",\"shape\":[75]}},\"selected\":{\"id\":\"fbc03c3a-0449-48e0-8887-5317a8dfb953\",\"type\":\"Selection\"},\"selection_policy\":{\"id\":\"2d41341e-f0c6-4084-835b-73ecf3520f01\",\"type\":\"UnionRenderers\"}},\"id\":\"3fce9c57-f2de-4e9e-96f2-28711eebd607\",\"type\":\"ColumnDataSource\"},{\"attributes\":{},\"id\":\"dd9077a5-9b85-4a0d-afbe-2c2429b29fb9\",\"type\":\"UnionRenderers\"},{\"attributes\":{\"children\":[{\"id\":\"0d1f53c4-434a-4661-8519-73686e227694\",\"subtype\":\"Figure\",\"type\":\"Plot\"},{\"id\":\"3446014d-0746-461b-b8d2-aa84e8ff03d8\",\"subtype\":\"Figure\",\"type\":\"Plot\"},{\"id\":\"b47d9e84-077a-4bba-80c3-ccf7cedf5c46\",\"subtype\":\"Figure\",\"type\":\"Plot\"}]},\"id\":\"e26608ab-4853-4520-8097-6afb66103de0\",\"type\":\"Row\"},{\"attributes\":{\"items\":[{\"id\":\"14ab06b1-f6cf-46c6-b58d-33e5a760bd1b\",\"type\":\"LegendItem\"},{\"id\":\"6633c5da-5290-4a13-9d9e-90999ed61272\",\"type\":\"LegendItem\"}],\"label_text_font_size\":{\"value\":\"8pt\"},\"location\":\"top_center\",\"orientation\":\"horizontal\",\"plot\":{\"id\":\"0d1f53c4-434a-4661-8519-73686e227694\",\"subtype\":\"Figure\",\"type\":\"Plot\"}},\"id\":\"a6fdc394-7a0c-4c70-80e4-112aafbdfafa\",\"type\":\"Legend\"},{\"attributes\":{},\"id\":\"4edd6469-8a59-4b46-b584-82c425417443\",\"type\":\"BasicTicker\"},{\"attributes\":{},\"id\":\"0fe9459b-cb56-41da-9541-f2652451a22b\",\"type\":\"LogScale\"},{\"attributes\":{},\"id\":\"98d972e9-c0a9-4cf8-ba12-1136e29e356e\",\"type\":\"Selection\"},{\"attributes\":{},\"id\":\"b735b444-5024-497e-8474-4e2940f8dfcf\",\"type\":\"HelpTool\"},{\"attributes\":{\"dimension\":1,\"plot\":{\"id\":\"b47d9e84-077a-4bba-80c3-ccf7cedf5c46\",\"subtype\":\"Figure\",\"type\":\"Plot\"},\"ticker\":{\"id\":\"14b32f3b-14fa-4cef-9dfa-68e3c1e72be2\",\"type\":\"LogTicker\"}},\"id\":\"90539c9b-bcf2-41f7-ac61-1d494293e4e5\",\"type\":\"Grid\"},{\"attributes\":{\"callback\":null,\"end\":2.01700502749,\"start\":-0.34655207849},\"id\":\"f60ae28f-caf5-48fd-a63e-d78fcf6d4fd8\",\"type\":\"Range1d\"},{\"attributes\":{\"tools\":[{\"id\":\"f26cef6e-79fb-4059-8aac-f42b5971ebb4\",\"type\":\"PanTool\"},{\"id\":\"28db2cbd-ee42-4862-b941-71a6f20fc45f\",\"type\":\"WheelZoomTool\"},{\"id\":\"07efb290-8d76-4066-8b7a-9b7f829e9567\",\"type\":\"BoxZoomTool\"},{\"id\":\"412e4823-00b1-44b4-b911-7b37603aefc6\",\"type\":\"SaveTool\"},{\"id\":\"204b873d-1fbb-42fc-a404-669f298163cb\",\"type\":\"ResetTool\"},{\"id\":\"b735b444-5024-497e-8474-4e2940f8dfcf\",\"type\":\"HelpTool\"},{\"id\":\"5a9cc060-958a-4e3e-81b5-58d0b483995e\",\"type\":\"PanTool\"},{\"id\":\"bbe34e4f-487f-4a44-9bc5-378cf97ed9dd\",\"type\":\"WheelZoomTool\"},{\"id\":\"5eba0268-eede-4569-8275-4ba7af315bed\",\"type\":\"BoxZoomTool\"},{\"id\":\"69a31537-d3f1-47ea-a5bc-c334f467d73e\",\"type\":\"SaveTool\"},{\"id\":\"7da9318b-1ffa-410d-9775-804358fa99f0\",\"type\":\"ResetTool\"},{\"id\":\"25e5e44e-91e9-425f-85b4-6bfaf5a8d7ea\",\"type\":\"HelpTool\"},{\"id\":\"5372c548-8159-4cc1-8381-a436f7e5c789\",\"type\":\"PanTool\"},{\"id\":\"2641581f-80dd-4b0d-8558-818eeac877c9\",\"type\":\"WheelZoomTool\"},{\"id\":\"4c20dd6c-7276-42a0-a854-36b2c2411d68\",\"type\":\"BoxZoomTool\"},{\"id\":\"7e47f316-e28f-4773-a7d9-4f6b304ec06c\",\"type\":\"SaveTool\"},{\"id\":\"24f2b5e3-073e-40d6-8be3-b2a1f74d9b12\",\"type\":\"ResetTool\"},{\"id\":\"052b478a-e8fb-4ae9-a1ee-a8d11ff351d0\",\"type\":\"HelpTool\"}]},\"id\":\"22dbfdd8-a22e-431e-89ed-487aac742afa\",\"type\":\"ProxyToolbar\"},{\"attributes\":{\"axis_label\":\"cooling rate [K/day]\",\"formatter\":{\"id\":\"f6b5e70a-9243-43cd-ad39-4b30c41edd8b\",\"type\":\"BasicTickFormatter\"},\"plot\":{\"id\":\"b47d9e84-077a-4bba-80c3-ccf7cedf5c46\",\"subtype\":\"Figure\",\"type\":\"Plot\"},\"ticker\":{\"id\":\"4edd6469-8a59-4b46-b584-82c425417443\",\"type\":\"BasicTicker\"}},\"id\":\"8f726756-2076-4ff2-8f5d-9c883f21abfe\",\"type\":\"LinearAxis\"},{\"attributes\":{\"line_alpha\":0.6,\"line_color\":\"#e41a1c\",\"line_dash\":[6],\"line_width\":5,\"x\":{\"field\":\"x\"},\"y\":{\"field\":\"y\"}},\"id\":\"c0aeafa8-e2a4-457a-bd79-bcc301005fa5\",\"type\":\"Line\"},{\"attributes\":{},\"id\":\"412e4823-00b1-44b4-b911-7b37603aefc6\",\"type\":\"SaveTool\"},{\"attributes\":{\"above\":[{\"id\":\"e6149eae-f944-4138-8ab9-6d0b1b289919\",\"type\":\"Legend\"}],\"below\":[{\"id\":\"8f726756-2076-4ff2-8f5d-9c883f21abfe\",\"type\":\"LinearAxis\"}],\"left\":[{\"id\":\"a26cd028-572f-4e5d-8d42-ece9a8203c56\",\"type\":\"LogAxis\"}],\"plot_width\":300,\"renderers\":[{\"id\":\"8f726756-2076-4ff2-8f5d-9c883f21abfe\",\"type\":\"LinearAxis\"},{\"id\":\"d245469a-9f21-4975-9d1c-919a608858fd\",\"type\":\"Grid\"},{\"id\":\"a26cd028-572f-4e5d-8d42-ece9a8203c56\",\"type\":\"LogAxis\"},{\"id\":\"90539c9b-bcf2-41f7-ac61-1d494293e4e5\",\"type\":\"Grid\"},{\"id\":\"86300611-e4c6-44a4-8d22-7dc894bff1a0\",\"type\":\"BoxAnnotation\"},{\"id\":\"ed959ecd-d1ac-481a-8e3a-ec6d4573a520\",\"type\":\"GlyphRenderer\"},{\"id\":\"ce0ba28c-52b6-4393-a1d2-45f45b12e93e\",\"type\":\"GlyphRenderer\"},{\"id\":\"e6149eae-f944-4138-8ab9-6d0b1b289919\",\"type\":\"Legend\"}],\"title\":{\"id\":\"eef6d370-721c-4e23-b747-06e14fba6cc0\",\"type\":\"Title\"},\"toolbar\":{\"id\":\"18e4ea6f-2fa0-46f0-ad5f-5aab1b8293b8\",\"type\":\"Toolbar\"},\"toolbar_location\":null,\"x_range\":{\"id\":\"54c91030-c472-4c31-a149-afe1f30e06bd\",\"type\":\"Range1d\"},\"x_scale\":{\"id\":\"8209946d-734b-4b02-b1a6-700781342c8d\",\"type\":\"LinearScale\"},\"y_range\":{\"id\":\"3fd941a9-13d5-4b0e-a222-40ed243ae5d2\",\"type\":\"Range1d\"},\"y_scale\":{\"id\":\"0fe9459b-cb56-41da-9541-f2652451a22b\",\"type\":\"LogScale\"}},\"id\":\"b47d9e84-077a-4bba-80c3-ccf7cedf5c46\",\"subtype\":\"Figure\",\"type\":\"Plot\"},{\"attributes\":{\"bottom_units\":\"screen\",\"fill_alpha\":{\"value\":0.5},\"fill_color\":{\"value\":\"lightgrey\"},\"left_units\":\"screen\",\"level\":\"overlay\",\"line_alpha\":{\"value\":1.0},\"line_color\":{\"value\":\"black\"},\"line_dash\":[4,4],\"line_width\":{\"value\":2},\"plot\":null,\"render_mode\":\"css\",\"right_units\":\"screen\",\"top_units\":\"screen\"},\"id\":\"86300611-e4c6-44a4-8d22-7dc894bff1a0\",\"type\":\"BoxAnnotation\"},{\"attributes\":{\"dimension\":1,\"plot\":{\"id\":\"3446014d-0746-461b-b8d2-aa84e8ff03d8\",\"subtype\":\"Figure\",\"type\":\"Plot\"},\"ticker\":{\"id\":\"fd12763b-d710-4396-a749-733935025263\",\"type\":\"LogTicker\"}},\"id\":\"f138eda6-686f-40f5-8de1-8845a635b094\",\"type\":\"Grid\"},{\"attributes\":{\"active_drag\":\"auto\",\"active_inspect\":\"auto\",\"active_scroll\":\"auto\",\"active_tap\":\"auto\",\"tools\":[{\"id\":\"5a9cc060-958a-4e3e-81b5-58d0b483995e\",\"type\":\"PanTool\"},{\"id\":\"bbe34e4f-487f-4a44-9bc5-378cf97ed9dd\",\"type\":\"WheelZoomTool\"},{\"id\":\"5eba0268-eede-4569-8275-4ba7af315bed\",\"type\":\"BoxZoomTool\"},{\"id\":\"69a31537-d3f1-47ea-a5bc-c334f467d73e\",\"type\":\"SaveTool\"},{\"id\":\"7da9318b-1ffa-410d-9775-804358fa99f0\",\"type\":\"ResetTool\"},{\"id\":\"25e5e44e-91e9-425f-85b4-6bfaf5a8d7ea\",\"type\":\"HelpTool\"}]},\"id\":\"be5144cd-ea63-4246-81f2-ea8095caa05b\",\"type\":\"Toolbar\"},{\"attributes\":{},\"id\":\"2de22ced-6053-4747-8615-1304089a9a37\",\"type\":\"BasicTickFormatter\"},{\"attributes\":{},\"id\":\"f6b5e70a-9243-43cd-ad39-4b30c41edd8b\",\"type\":\"BasicTickFormatter\"},{\"attributes\":{\"line_color\":\"#4daf4a\",\"line_width\":1.5,\"x\":{\"field\":\"x\"},\"y\":{\"field\":\"y\"}},\"id\":\"ea271bca-00e2-427c-b8ad-012e5d9e268b\",\"type\":\"Line\"},{\"attributes\":{\"ticker\":null},\"id\":\"0e70e245-1170-485d-981d-c5c27636e6e0\",\"type\":\"LogTickFormatter\"},{\"attributes\":{\"plot\":{\"id\":\"b47d9e84-077a-4bba-80c3-ccf7cedf5c46\",\"subtype\":\"Figure\",\"type\":\"Plot\"},\"ticker\":{\"id\":\"4edd6469-8a59-4b46-b584-82c425417443\",\"type\":\"BasicTicker\"}},\"id\":\"d245469a-9f21-4975-9d1c-919a608858fd\",\"type\":\"Grid\"},{\"attributes\":{\"source\":{\"id\":\"3fce9c57-f2de-4e9e-96f2-28711eebd607\",\"type\":\"ColumnDataSource\"}},\"id\":\"ef1006e4-a5fb-45f3-9150-6e59c54ab9d6\",\"type\":\"CDSView\"},{\"attributes\":{\"items\":[{\"id\":\"52764309-3fc8-4421-9aa0-31d5a615e135\",\"type\":\"LegendItem\"},{\"id\":\"33925c37-e4b2-49d9-87c0-ead1453a8456\",\"type\":\"LegendItem\"}],\"label_text_font_size\":{\"value\":\"8pt\"},\"location\":\"top_center\",\"orientation\":\"horizontal\",\"plot\":{\"id\":\"3446014d-0746-461b-b8d2-aa84e8ff03d8\",\"subtype\":\"Figure\",\"type\":\"Plot\"}},\"id\":\"73b6311a-a1c7-4ae2-9dc6-ceae2a48572b\",\"type\":\"Legend\"},{\"attributes\":{},\"id\":\"583ea4d7-bcae-4239-a3fb-d492f215e9f9\",\"type\":\"BasicTickFormatter\"},{\"attributes\":{},\"id\":\"2641581f-80dd-4b0d-8558-818eeac877c9\",\"type\":\"WheelZoomTool\"},{\"attributes\":{\"label\":{\"value\":\"CRD\"},\"renderers\":[{\"id\":\"eed8774b-1b4f-4c43-b7e7-475794750e77\",\"type\":\"GlyphRenderer\"},{\"id\":\"ee788c63-a50e-463d-b7e3-bc8895f20659\",\"type\":\"GlyphRenderer\"}]},\"id\":\"6633c5da-5290-4a13-9d9e-90999ed61272\",\"type\":\"LegendItem\"},{\"attributes\":{},\"id\":\"0a7f4692-074d-4171-b709-a031352000ac\",\"type\":\"UnionRenderers\"},{\"attributes\":{\"line_alpha\":0.1,\"line_color\":\"#1f77b4\",\"line_dash\":[6],\"line_width\":5,\"x\":{\"field\":\"x\"},\"y\":{\"field\":\"y\"}},\"id\":\"095399ac-6df2-4e52-970e-ba87c98c255b\",\"type\":\"Line\"},{\"attributes\":{},\"id\":\"28db2cbd-ee42-4862-b941-71a6f20fc45f\",\"type\":\"WheelZoomTool\"},{\"attributes\":{\"children\":[{\"id\":\"cadf7876-6916-4042-8df1-610d00ee7a30\",\"type\":\"ToolbarBox\"},{\"id\":\"0e403089-b5c2-49a9-910b-d541482c146e\",\"type\":\"Column\"}]},\"id\":\"1495ba6f-e9c7-4b76-8966-7d59293321ea\",\"type\":\"Column\"},{\"attributes\":{},\"id\":\"fbc03c3a-0449-48e0-8887-5317a8dfb953\",\"type\":\"Selection\"},{\"attributes\":{\"overlay\":{\"id\":\"a79b7652-4a13-49a9-a146-05040acdda0c\",\"type\":\"BoxAnnotation\"}},\"id\":\"07efb290-8d76-4066-8b7a-9b7f829e9567\",\"type\":\"BoxZoomTool\"},{\"attributes\":{\"callback\":null,\"data\":{\"x\":{\"__ndarray__\":\"jH/SYoZMn78sw/w4QWuhv+ykNTuP4KS/UdkntVQ0qL+OM3ZXsGyrv2nHt77iha6/3Zzn28TBsL9i1s29bi6yv1vPC9WfjbO/liuOk1rZtL9DKicCHha2v8xHzpkfRbe/5X7JvhJluL/NuTKt73G5v0OIVOYgx7m/2eCTOkAxuL+L+OTn2qWtv0nVcVrCapo/MegICeaixT9c2Q30s8XYP4R5VYjDSeY/W2ykth7P8T9PZPcu77v5P1XYDHBBlv4/TRHg9C5+/D+lAAejSO32P67BVmTP2fA/3JMTL0cW6D9fUucXRrbhP4vp+B7ka9k/CdCEYDQvzD8M5ekBmNehP0aDb/X3rbm/8PAJn86Ryb93Yhioc2LSv8enW9FBstS/FwHCRfaa0r+GAraDEfvPv7AEUmLX9sy/yys6BiITyb8qss7fIZjDvzpK0vN2nb6/ByDMJQnNuL+UWrOLJYmzvyu922G4366/sLg/5Bt0qb8gAwrZn+Kkv9KNBqlBvKC/ZPJPbrB3mr9RHTaHJ5iUv7Lsd5hesY6/4wvF48Nohb/AD2B4eX96v4iRttXS+mi/Ervz8SqhBL/1YjF0KN9lP3d8OikTCHU/7+M+M3VQfj8wCGj/XGSDP5Mx9fWnTYc/5G0PvAbvij/oKdD5uTmOP7OBuM5mpZA/ahimBRsWkj+GbLG/EmaTP/IgSm8QkZQ/AqFs/weulT9mzov3Cb6WP0uWIfsRoJc/KnM6Y3RNmD/BT4yUfNiYP7r+BOfxU5k/+/yN/BXAmT+Zinbdpx+aP6ZBJTwOdJo/\",\"dtype\":\"float64\",\"shape\":[75]},\"y\":{\"__ndarray__\":\"GhExyth1ND/Sv8nbtpRIP2vylNV0PVE/aTum7souWD/At0SJ8fVgPw3Iuahxymc/MSNhhJWvcD/bTfBN02d3P2zb5nxnaoA/CD5h5MAGhz8NmeH1TyaQP+zrCsc9p5Y/LbKd76fGnz/bLW5ISEmmPww9YvTcQq8/JV2OstnstT8Er5Y7M8G+P0c+r3jqkcU/5h99k6ZBzj88bCIzFzjVP4enV8oyxN0//yH99nXg5D8qOpLLf0jtP5kqGJXUifQ/c9cS8kHP/D+/DpwzojQEQIEmwoanVwxA4lgXt9HgE0BSSZ2AJuIbQAMJih9jjiNA5q4l5INuK0AwTKYKRj0zQNv5fmq8/DpAaCJseHrtQkB/+zpwzoxKQM3MzMzMeFJAZmZmZmZqWEAAAAAAAFxeQM3MzMzMJmJAmpmZmZkfZUBmZmZmZhhoQDMzMzMzEWtAAAAAAAAKbkBmZmZmZoFwQM3MzMzM/XFAMzMzMzN6c0CamZmZmfZ0QAAAAAAAc3ZAZmZmZmbvd0DNzMzMzGt5QDMzMzMz6HpAmpmZmZlkfEAAAAAAAOF9QGZmZmZmXX9AZmZmZuZsgECamZmZGSuBQM3MzMxM6YFAAAAAAICngkAzMzMzs2WDQGZmZmbmI4RAmpmZmRnihEDNzMzMTKCFQAAAAACAXoZAMzMzM7Mch0BmZmZm5tqHQJqZmZkZmYhAzczMzExXiUAAAAAAgBWKQDMzMzOz04pAZmZmZuaRi0CamZmZGVCMQM3MzMxMDo1AAAAAAIDMjUAzMzMzs4qOQGZmZmbmSI9A\",\"dtype\":\"float64\",\"shape\":[75]}},\"selected\":{\"id\":\"93ad7cf6-1b8c-4148-af76-5b79ebc79faf\",\"type\":\"Selection\"},\"selection_policy\":{\"id\":\"588225e7-f710-4b5e-ad86-cd1bd6fd3aaf\",\"type\":\"UnionRenderers\"}},\"id\":\"1a1dc8ee-a30f-4713-b18d-b7f6a771445e\",\"type\":\"ColumnDataSource\"},{\"attributes\":{\"source\":{\"id\":\"06c51168-2b7e-4249-928a-abd37dd806ee\",\"type\":\"ColumnDataSource\"}},\"id\":\"947c4155-a030-4bc5-beb2-361e686a2a03\",\"type\":\"CDSView\"},{\"attributes\":{},\"id\":\"a57198de-4b1e-4afa-a56a-4129c9a49b38\",\"type\":\"UnionRenderers\"},{\"attributes\":{},\"id\":\"ccec9713-4598-4882-af56-cded07d7787c\",\"type\":\"LogScale\"},{\"attributes\":{\"plot\":null,\"text\":\"\"},\"id\":\"eef6d370-721c-4e23-b747-06e14fba6cc0\",\"type\":\"Title\"},{\"attributes\":{\"callback\":null,\"data\":{\"x\":{\"__ndarray__\":\"xDa/Y0s4gT/c44ExoCCDP9z9YY7QnYY/UJb0w87siT/Ywh4cLfyMP7Sae3nh4I8/+GKkRmpAkT+QlhNhDH6SPyjS1GZwmJM/QHv+0F2tlD/474YQItGVPxBAbeFCA5c/OPjvyCx0mD8AR8ntGiWaP4wrKrEW15o/UPCp/e/jlz90k9ziZ5SIP4ww2mZQ1Hq/iM1hrrXNnr9wxbOaF1ysvwiEBSGoNLS/UHsZcXO9ur9gRwmF/sW/v3BPFza+B7W/gPMP2UK7g78ATKcGfnpqvwAo4U6RX4G/ACY58XAagT/g8sasixmgP5DyVSuBP6c/hIQBBUcbpT/i9U2TuiGZP2AQWBZclX8/YIK6Jrc9gb+A3nSOq9iavyCh/BpW46S/qGtMFNHSpL/cj5zLWxWhv1CA33c2oZm/mMciOv1BkL+QZHkh3UuCv7AkXqOHz3W/4P1djHopab8AxdH+S75Xv4AEjMHS3zy/AD8rOB7dKD+AygABf7lFPwAFCAhPkk8/4NXNYRvdUj8Q3cVmmMVUP2C+7ha/p1U/WIYgkdyiVT/oEfs2YChVP7hYm1mjS1Q/B0QceFg+Uz9lrUqCkPRRP/R7J7fuilA/YFg87DoLTj9AtwLnrKxKP8CX75UHDUc/oItiaEhJQz+A80Enx2U+P4ATooQKiDY/gBjI7lm/LD8AvzD6wWkXPwAAnjbU7AG/gBoqyKKSJL8AGxebNXExv0AiWiLPdTa/ANlqkuZUOr/APnD2kkc9v8A7ajxO9D+/wHrV74WJQb9geK+cKvxCvyAaNp72n0S/\",\"dtype\":\"float64\",\"shape\":[75]},\"y\":{\"__ndarray__\":\"GhExyth1ND/Sv8nbtpRIP2vylNV0PVE/aTum7souWD/At0SJ8fVgPw3Iuahxymc/MSNhhJWvcD/bTfBN02d3P2zb5nxnaoA/CD5h5MAGhz8NmeH1TyaQP+zrCsc9p5Y/LbKd76fGnz/bLW5ISEmmPww9YvTcQq8/JV2OstnstT8Er5Y7M8G+P0c+r3jqkcU/5h99k6ZBzj88bCIzFzjVP4enV8oyxN0//yH99nXg5D8qOpLLf0jtP5kqGJXUifQ/c9cS8kHP/D+/DpwzojQEQIEmwoanVwxA4lgXt9HgE0BSSZ2AJuIbQAMJih9jjiNA5q4l5INuK0AwTKYKRj0zQNv5fmq8/DpAaCJseHrtQkB/+zpwzoxKQM3MzMzMeFJAZmZmZmZqWEAAAAAAAFxeQM3MzMzMJmJAmpmZmZkfZUBmZmZmZhhoQDMzMzMzEWtAAAAAAAAKbkBmZmZmZoFwQM3MzMzM/XFAMzMzMzN6c0CamZmZmfZ0QAAAAAAAc3ZAZmZmZmbvd0DNzMzMzGt5QDMzMzMz6HpAmpmZmZlkfEAAAAAAAOF9QGZmZmZmXX9AZmZmZuZsgECamZmZGSuBQM3MzMxM6YFAAAAAAICngkAzMzMzs2WDQGZmZmbmI4RAmpmZmRnihEDNzMzMTKCFQAAAAACAXoZAMzMzM7Mch0BmZmZm5tqHQJqZmZkZmYhAzczMzExXiUAAAAAAgBWKQDMzMzOz04pAZmZmZuaRi0CamZmZGVCMQM3MzMxMDo1AAAAAAIDMjUAzMzMzs4qOQGZmZmbmSI9A\",\"dtype\":\"float64\",\"shape\":[75]}},\"selected\":{\"id\":\"547b2fe4-1c5f-49e3-8039-e98b3625146d\",\"type\":\"Selection\"},\"selection_policy\":{\"id\":\"0a7f4692-074d-4171-b709-a031352000ac\",\"type\":\"UnionRenderers\"}},\"id\":\"7d307e7d-037a-4d85-b4d3-d1008bb5cc97\",\"type\":\"ColumnDataSource\"},{\"attributes\":{\"source\":{\"id\":\"1a1dc8ee-a30f-4713-b18d-b7f6a771445e\",\"type\":\"ColumnDataSource\"}},\"id\":\"0f5c422c-965b-462c-94cc-34557d09486d\",\"type\":\"CDSView\"},{\"attributes\":{\"label\":{\"value\":\"CLIRAD\"},\"renderers\":[{\"id\":\"b66a3176-8898-4d1e-9812-be5d09e47fcb\",\"type\":\"GlyphRenderer\"}]},\"id\":\"14ab06b1-f6cf-46c6-b58d-33e5a760bd1b\",\"type\":\"LegendItem\"},{\"attributes\":{},\"id\":\"547b2fe4-1c5f-49e3-8039-e98b3625146d\",\"type\":\"Selection\"},{\"attributes\":{},\"id\":\"017b21d4-e2ce-42bb-bd0c-bcda7238ea48\",\"type\":\"BasicTickFormatter\"},{\"attributes\":{},\"id\":\"93ad7cf6-1b8c-4148-af76-5b79ebc79faf\",\"type\":\"Selection\"},{\"attributes\":{},\"id\":\"5372c548-8159-4cc1-8381-a436f7e5c789\",\"type\":\"PanTool\"},{\"attributes\":{\"data_source\":{\"id\":\"1a1dc8ee-a30f-4713-b18d-b7f6a771445e\",\"type\":\"ColumnDataSource\"},\"glyph\":{\"id\":\"c0aeafa8-e2a4-457a-bd79-bcc301005fa5\",\"type\":\"Line\"},\"hover_glyph\":null,\"muted_glyph\":null,\"nonselection_glyph\":{\"id\":\"095399ac-6df2-4e52-970e-ba87c98c255b\",\"type\":\"Line\"},\"selection_glyph\":null,\"view\":{\"id\":\"0f5c422c-965b-462c-94cc-34557d09486d\",\"type\":\"CDSView\"}},\"id\":\"b66a3176-8898-4d1e-9812-be5d09e47fcb\",\"type\":\"GlyphRenderer\"},{\"attributes\":{},\"id\":\"0d18eb37-f8c5-4803-a42f-1e3378665e62\",\"type\":\"Selection\"},{\"attributes\":{\"plot\":null,\"text\":\"\"},\"id\":\"19315412-0f48-43e0-80a0-4554a6eab52f\",\"type\":\"Title\"},{\"attributes\":{},\"id\":\"e6cd3d82-65d2-456e-8e06-b5b3f4f08e99\",\"type\":\"LinearScale\"},{\"attributes\":{\"overlay\":{\"id\":\"86300611-e4c6-44a4-8d22-7dc894bff1a0\",\"type\":\"BoxAnnotation\"}},\"id\":\"4c20dd6c-7276-42a0-a854-36b2c2411d68\",\"type\":\"BoxZoomTool\"},{\"attributes\":{\"ticker\":null},\"id\":\"3266ee88-567b-4236-9f5f-acf70114dd61\",\"type\":\"LogTickFormatter\"},{\"attributes\":{},\"id\":\"24f2b5e3-073e-40d6-8be3-b2a1f74d9b12\",\"type\":\"ResetTool\"},{\"attributes\":{\"axis_label\":\"cooling rate [K/day]\",\"formatter\":{\"id\":\"017b21d4-e2ce-42bb-bd0c-bcda7238ea48\",\"type\":\"BasicTickFormatter\"},\"plot\":{\"id\":\"3446014d-0746-461b-b8d2-aa84e8ff03d8\",\"subtype\":\"Figure\",\"type\":\"Plot\"},\"ticker\":{\"id\":\"9cb3cd8f-e794-4b5c-a234-39de4709b441\",\"type\":\"BasicTicker\"}},\"id\":\"c138bb8a-2726-446e-abaf-29b795b67191\",\"type\":\"LinearAxis\"},{\"attributes\":{\"toolbar\":{\"id\":\"22dbfdd8-a22e-431e-89ed-487aac742afa\",\"type\":\"ProxyToolbar\"},\"toolbar_location\":\"above\"},\"id\":\"cadf7876-6916-4042-8df1-610d00ee7a30\",\"type\":\"ToolbarBox\"},{\"attributes\":{},\"id\":\"7e47f316-e28f-4773-a7d9-4f6b304ec06c\",\"type\":\"SaveTool\"},{\"attributes\":{},\"id\":\"052b478a-e8fb-4ae9-a1ee-a8d11ff351d0\",\"type\":\"HelpTool\"},{\"attributes\":{},\"id\":\"94625bcc-1f6a-4cac-8f74-c0d8a23e04f8\",\"type\":\"Selection\"},{\"attributes\":{},\"id\":\"d20d96ec-debb-496e-abb5-e8865d653e7b\",\"type\":\"BasicTicker\"},{\"attributes\":{\"above\":[{\"id\":\"a6fdc394-7a0c-4c70-80e4-112aafbdfafa\",\"type\":\"Legend\"}],\"below\":[{\"id\":\"2fe1f415-d55b-4aa6-a36e-1a010ae46c11\",\"type\":\"LinearAxis\"}],\"left\":[{\"id\":\"6a8bc340-6188-48a3-a99a-717c3309ac10\",\"type\":\"LinearAxis\"}],\"plot_width\":300,\"renderers\":[{\"id\":\"2fe1f415-d55b-4aa6-a36e-1a010ae46c11\",\"type\":\"LinearAxis\"},{\"id\":\"3668db37-e481-4897-92fb-ec17c27c3fa4\",\"type\":\"Grid\"},{\"id\":\"6a8bc340-6188-48a3-a99a-717c3309ac10\",\"type\":\"LinearAxis\"},{\"id\":\"74da2742-5401-416a-a49b-bfb44c9d5b9e\",\"type\":\"Grid\"},{\"id\":\"a79b7652-4a13-49a9-a146-05040acdda0c\",\"type\":\"BoxAnnotation\"},{\"id\":\"b66a3176-8898-4d1e-9812-be5d09e47fcb\",\"type\":\"GlyphRenderer\"},{\"id\":\"eed8774b-1b4f-4c43-b7e7-475794750e77\",\"type\":\"GlyphRenderer\"},{\"id\":\"ee788c63-a50e-463d-b7e3-bc8895f20659\",\"type\":\"GlyphRenderer\"},{\"id\":\"a6fdc394-7a0c-4c70-80e4-112aafbdfafa\",\"type\":\"Legend\"}],\"title\":{\"id\":\"0507679f-668d-4f95-b0e3-842b2c0162f0\",\"type\":\"Title\"},\"toolbar\":{\"id\":\"6adc4276-00b0-467a-904c-4290aca617c2\",\"type\":\"Toolbar\"},\"toolbar_location\":null,\"x_range\":{\"id\":\"8fc07cac-2945-43fa-94ce-416e9628e0ab\",\"type\":\"Range1d\"},\"x_scale\":{\"id\":\"41610b74-623a-4aad-a419-62023f8900a1\",\"type\":\"LinearScale\"},\"y_range\":{\"id\":\"cd60c860-b743-48d4-b7bc-72f6228e15c3\",\"type\":\"Range1d\"},\"y_scale\":{\"id\":\"a44baf29-dbd6-4cd1-8730-5bb48fdc20bc\",\"type\":\"LinearScale\"}},\"id\":\"0d1f53c4-434a-4661-8519-73686e227694\",\"subtype\":\"Figure\",\"type\":\"Plot\"},{\"attributes\":{\"line_alpha\":0.8,\"line_color\":\"#984ea3\",\"line_width\":1.5,\"x\":{\"field\":\"x\"},\"y\":{\"field\":\"y\"}},\"id\":\"11b33679-3b11-40b1-b827-466e077f6fbc\",\"type\":\"Line\"},{\"attributes\":{},\"id\":\"a433c6c7-f534-4b63-a5ca-1236bc8ae6e8\",\"type\":\"BasicTicker\"},{\"attributes\":{\"line_alpha\":0.1,\"line_color\":\"#1f77b4\",\"line_width\":1.5,\"x\":{\"field\":\"x\"},\"y\":{\"field\":\"y\"}},\"id\":\"50e0529c-ceb0-44d2-b9d3-d46b65457e03\",\"type\":\"Line\"},{\"attributes\":{\"callback\":null,\"data\":{\"x\":{\"__ndarray__\":\"jH/SYoZMn78sw/w4QWuhv+ykNTuP4KS/UdkntVQ0qL+OM3ZXsGyrv2nHt77iha6/3Zzn28TBsL9i1s29bi6yv1vPC9WfjbO/liuOk1rZtL9DKicCHha2v8xHzpkfRbe/5X7JvhJluL/NuTKt73G5v0OIVOYgx7m/2eCTOkAxuL+L+OTn2qWtv0nVcVrCapo/MegICeaixT9c2Q30s8XYP4R5VYjDSeY/W2ykth7P8T9PZPcu77v5P1XYDHBBlv4/TRHg9C5+/D+lAAejSO32P67BVmTP2fA/3JMTL0cW6D9fUucXRrbhP4vp+B7ka9k/CdCEYDQvzD8M5ekBmNehP0aDb/X3rbm/8PAJn86Ryb93Yhioc2LSv8enW9FBstS/FwHCRfaa0r+GAraDEfvPv7AEUmLX9sy/yys6BiITyb8qss7fIZjDvzpK0vN2nb6/ByDMJQnNuL+UWrOLJYmzvyu922G4366/sLg/5Bt0qb8gAwrZn+Kkv9KNBqlBvKC/ZPJPbrB3mr9RHTaHJ5iUv7Lsd5hesY6/4wvF48Nohb/AD2B4eX96v4iRttXS+mi/Ervz8SqhBL/1YjF0KN9lP3d8OikTCHU/7+M+M3VQfj8wCGj/XGSDP5Mx9fWnTYc/5G0PvAbvij/oKdD5uTmOP7OBuM5mpZA/ahimBRsWkj+GbLG/EmaTP/IgSm8QkZQ/AqFs/weulT9mzov3Cb6WP0uWIfsRoJc/KnM6Y3RNmD/BT4yUfNiYP7r+BOfxU5k/+/yN/BXAmT+Zinbdpx+aP6ZBJTwOdJo/\",\"dtype\":\"float64\",\"shape\":[75]},\"y\":{\"__ndarray__\":\"GhExyth1ND/Sv8nbtpRIP2vylNV0PVE/aTum7souWD/At0SJ8fVgPw3Iuahxymc/MSNhhJWvcD/bTfBN02d3P2zb5nxnaoA/CD5h5MAGhz8NmeH1TyaQP+zrCsc9p5Y/LbKd76fGnz/bLW5ISEmmPww9YvTcQq8/JV2OstnstT8Er5Y7M8G+P0c+r3jqkcU/5h99k6ZBzj88bCIzFzjVP4enV8oyxN0//yH99nXg5D8qOpLLf0jtP5kqGJXUifQ/c9cS8kHP/D+/DpwzojQEQIEmwoanVwxA4lgXt9HgE0BSSZ2AJuIbQAMJih9jjiNA5q4l5INuK0AwTKYKRj0zQNv5fmq8/DpAaCJseHrtQkB/+zpwzoxKQM3MzMzMeFJAZmZmZmZqWEAAAAAAAFxeQM3MzMzMJmJAmpmZmZkfZUBmZmZmZhhoQDMzMzMzEWtAAAAAAAAKbkBmZmZmZoFwQM3MzMzM/XFAMzMzMzN6c0CamZmZmfZ0QAAAAAAAc3ZAZmZmZmbvd0DNzMzMzGt5QDMzMzMz6HpAmpmZmZlkfEAAAAAAAOF9QGZmZmZmXX9AZmZmZuZsgECamZmZGSuBQM3MzMxM6YFAAAAAAICngkAzMzMzs2WDQGZmZmbmI4RAmpmZmRnihEDNzMzMTKCFQAAAAACAXoZAMzMzM7Mch0BmZmZm5tqHQJqZmZkZmYhAzczMzExXiUAAAAAAgBWKQDMzMzOz04pAZmZmZuaRi0CamZmZGVCMQM3MzMxMDo1AAAAAAIDMjUAzMzMzs4qOQGZmZmbmSI9A\",\"dtype\":\"float64\",\"shape\":[75]}},\"selected\":{\"id\":\"98d972e9-c0a9-4cf8-ba12-1136e29e356e\",\"type\":\"Selection\"},\"selection_policy\":{\"id\":\"2ff1311f-0a0e-4648-9be2-bf67dd0be571\",\"type\":\"UnionRenderers\"}},\"id\":\"075eb18b-059e-406d-8c41-620919caad24\",\"type\":\"ColumnDataSource\"},{\"attributes\":{\"plot\":null,\"text\":\"\"},\"id\":\"0507679f-668d-4f95-b0e3-842b2c0162f0\",\"type\":\"Title\"},{\"attributes\":{},\"id\":\"068c9072-d3eb-4811-a449-80319666cff3\",\"type\":\"Selection\"},{\"attributes\":{\"plot\":{\"id\":\"3446014d-0746-461b-b8d2-aa84e8ff03d8\",\"subtype\":\"Figure\",\"type\":\"Plot\"},\"ticker\":{\"id\":\"9cb3cd8f-e794-4b5c-a234-39de4709b441\",\"type\":\"BasicTicker\"}},\"id\":\"995f48cf-c863-45fc-b6db-11f141b23fdb\",\"type\":\"Grid\"},{\"attributes\":{\"callback\":null,\"end\":0.01,\"start\":1020},\"id\":\"3cf2161d-251f-4435-b10d-f4f0ccd6754a\",\"type\":\"Range1d\"},{\"attributes\":{\"line_alpha\":0.1,\"line_color\":\"#1f77b4\",\"line_width\":1.5,\"x\":{\"field\":\"x\"},\"y\":{\"field\":\"y\"}},\"id\":\"370b09f5-c41b-4666-a612-7f2424c05b62\",\"type\":\"Line\"},{\"attributes\":{\"axis_label\":\"pressure [mb]\",\"formatter\":{\"id\":\"2de22ced-6053-4747-8615-1304089a9a37\",\"type\":\"BasicTickFormatter\"},\"plot\":{\"id\":\"0d1f53c4-434a-4661-8519-73686e227694\",\"subtype\":\"Figure\",\"type\":\"Plot\"},\"ticker\":{\"id\":\"a433c6c7-f534-4b63-a5ca-1236bc8ae6e8\",\"type\":\"BasicTicker\"}},\"id\":\"6a8bc340-6188-48a3-a99a-717c3309ac10\",\"type\":\"LinearAxis\"},{\"attributes\":{\"data_source\":{\"id\":\"3fce9c57-f2de-4e9e-96f2-28711eebd607\",\"type\":\"ColumnDataSource\"},\"glyph\":{\"id\":\"dcbc5855-d72e-453e-8bdb-5bdede2faa2f\",\"type\":\"Circle\"},\"hover_glyph\":null,\"muted_glyph\":null,\"nonselection_glyph\":{\"id\":\"f070e4ea-cde1-4a7c-a899-43273e13824b\",\"type\":\"Circle\"},\"selection_glyph\":null,\"view\":{\"id\":\"ef1006e4-a5fb-45f3-9150-6e59c54ab9d6\",\"type\":\"CDSView\"}},\"id\":\"eed8774b-1b4f-4c43-b7e7-475794750e77\",\"type\":\"GlyphRenderer\"},{\"attributes\":{\"items\":[{\"id\":\"b85a7907-3e5d-472e-9985-0d284c8eb6d2\",\"type\":\"LegendItem\"}],\"label_text_font_size\":{\"value\":\"8pt\"},\"location\":\"top_center\",\"orientation\":\"horizontal\",\"plot\":{\"id\":\"b47d9e84-077a-4bba-80c3-ccf7cedf5c46\",\"subtype\":\"Figure\",\"type\":\"Plot\"}},\"id\":\"e6149eae-f944-4138-8ab9-6d0b1b289919\",\"type\":\"Legend\"},{\"attributes\":{},\"id\":\"9cb3cd8f-e794-4b5c-a234-39de4709b441\",\"type\":\"BasicTicker\"},{\"attributes\":{\"label\":{\"value\":\"CLIRAD - CRD\"},\"renderers\":[{\"id\":\"ed959ecd-d1ac-481a-8e3a-ec6d4573a520\",\"type\":\"GlyphRenderer\"},{\"id\":\"ce0ba28c-52b6-4393-a1d2-45f45b12e93e\",\"type\":\"GlyphRenderer\"}]},\"id\":\"b85a7907-3e5d-472e-9985-0d284c8eb6d2\",\"type\":\"LegendItem\"},{\"attributes\":{\"fill_alpha\":{\"value\":0.1},\"fill_color\":{\"value\":\"#1f77b4\"},\"line_alpha\":{\"value\":0.1},\"line_color\":{\"value\":\"#1f77b4\"},\"x\":{\"field\":\"x\"},\"y\":{\"field\":\"y\"}},\"id\":\"f070e4ea-cde1-4a7c-a899-43273e13824b\",\"type\":\"Circle\"},{\"attributes\":{\"fill_alpha\":{\"value\":0.7},\"fill_color\":{\"value\":\"#4daf4a\"},\"line_alpha\":{\"value\":0.7},\"line_color\":{\"value\":\"#4daf4a\"},\"x\":{\"field\":\"x\"},\"y\":{\"field\":\"y\"}},\"id\":\"dcbc5855-d72e-453e-8bdb-5bdede2faa2f\",\"type\":\"Circle\"},{\"attributes\":{},\"id\":\"2ff1311f-0a0e-4648-9be2-bf67dd0be571\",\"type\":\"UnionRenderers\"},{\"attributes\":{},\"id\":\"fbace6b5-6b8c-46cf-bfc5-586b10dbb95d\",\"type\":\"Selection\"},{\"attributes\":{\"callback\":null,\"data\":{\"x\":{\"__ndarray__\":\"dw1ZClb0o78jPF1FaTOmv2Mkzl4DiKq/5f4kZoivrr8i8j7P3VWxvwtXi44NP7O/m7WQbd8Rtb8GvBLW8c22v+UDwe67c7i/ZsrNB7IEur9B5kiGZoq7v9CXKVLwBb2/83wF8R2Cvr+NC6VoNvu/v5OJT0lzPsC/7Vz+OTwqvr+0Dk5weuWxv7YwFDrrj6A/4iHVvpx8yT8KUmTnNlHcPwUqdoxY0Og/EAS27fV68z/F+EcXT7j7P0xNblO95v8/NDGSeqWl/D9LVArihfr2P/6D9IaO/PA/RK9Oa93R5z8x4xpdrbTgPzkrjvnzg9Y/6G5En2Loxj9sqAvh6hqFP0wE1bZNp7u/ykieLPN9yL+PFDHv6LTQv6MT/A3XFdK/onM4I5wA0L+P3s6QurXLv6YUVpOwwsm/2NL1XuIKx7/hG7cNZHPCv+9nnHl+QL2/GDBpUb0DuL+AE7hbLCqzvyKlWLz4pa6/7+N3AvmMqb9KBg7VhTmlv+atJuWKOqG/ws9sJIKlm78ie6INgeSVvz/iqj0rs5C/rhzpdR8diL861B6Gkcl/v/IeQkFSkHG/4OGrz2HjU7+FGBhmwMlZP3qdcHtX5XA/41i31Q2Pej+83PcwkrmBPxc4lnzX3IU/KkWJNXK6iT9MGpbAi0aNP2X5paRGS5A/OYjIUZzckT/HO7f9qE6TP/JvZdkGmpQ/N/X8RC3XlT/SKvjNzgOXP9T+qjfp+Zc/jh6E/ce2mD+8EGbgmk2ZP6mn9h/D05k/0agMLGJMmj9cBlwyibeaP3fyFvENGZs/\",\"dtype\":\"float64\",\"shape\":[75]},\"y\":{\"__ndarray__\":\"GhExyth1ND/Sv8nbtpRIP2vylNV0PVE/aTum7souWD/At0SJ8fVgPw3Iuahxymc/MSNhhJWvcD/bTfBN02d3P2zb5nxnaoA/CD5h5MAGhz8NmeH1TyaQP+zrCsc9p5Y/LbKd76fGnz/bLW5ISEmmPww9YvTcQq8/JV2OstnstT8Er5Y7M8G+P0c+r3jqkcU/5h99k6ZBzj88bCIzFzjVP4enV8oyxN0//yH99nXg5D8qOpLLf0jtP5kqGJXUifQ/c9cS8kHP/D+/DpwzojQEQIEmwoanVwxA4lgXt9HgE0BSSZ2AJuIbQAMJih9jjiNA5q4l5INuK0AwTKYKRj0zQNv5fmq8/DpAaCJseHrtQkB/+zpwzoxKQM3MzMzMeFJAZmZmZmZqWEAAAAAAAFxeQM3MzMzMJmJAmpmZmZkfZUBmZmZmZhhoQDMzMzMzEWtAAAAAAAAKbkBmZmZmZoFwQM3MzMzM/XFAMzMzMzN6c0CamZmZmfZ0QAAAAAAAc3ZAZmZmZmbvd0DNzMzMzGt5QDMzMzMz6HpAmpmZmZlkfEAAAAAAAOF9QGZmZmZmXX9AZmZmZuZsgECamZmZGSuBQM3MzMxM6YFAAAAAAICngkAzMzMzs2WDQGZmZmbmI4RAmpmZmRnihEDNzMzMTKCFQAAAAACAXoZAMzMzM7Mch0BmZmZm5tqHQJqZmZkZmYhAzczMzExXiUAAAAAAgBWKQDMzMzOz04pAZmZmZuaRi0CamZmZGVCMQM3MzMxMDo1AAAAAAIDMjUAzMzMzs4qOQGZmZmbmSI9A\",\"dtype\":\"float64\",\"shape\":[75]}},\"selected\":{\"id\":\"0d18eb37-f8c5-4803-a42f-1e3378665e62\",\"type\":\"Selection\"},\"selection_policy\":{\"id\":\"dd9077a5-9b85-4a0d-afbe-2c2429b29fb9\",\"type\":\"UnionRenderers\"}},\"id\":\"3b9ddcee-1a57-4a32-83f1-dadce11bd1aa\",\"type\":\"ColumnDataSource\"},{\"attributes\":{\"callback\":null,\"data\":{\"x\":{\"__ndarray__\":\"dw1ZClb0o78jPF1FaTOmv2Mkzl4DiKq/5f4kZoivrr8i8j7P3VWxvwtXi44NP7O/m7WQbd8Rtb8GvBLW8c22v+UDwe67c7i/ZsrNB7IEur9B5kiGZoq7v9CXKVLwBb2/83wF8R2Cvr+NC6VoNvu/v5OJT0lzPsC/7Vz+OTwqvr+0Dk5weuWxv7YwFDrrj6A/4iHVvpx8yT8KUmTnNlHcPwUqdoxY0Og/EAS27fV68z/F+EcXT7j7P0xNblO95v8/NDGSeqWl/D9LVArihfr2P/6D9IaO/PA/RK9Oa93R5z8x4xpdrbTgPzkrjvnzg9Y/6G5En2Loxj9sqAvh6hqFP0wE1bZNp7u/ykieLPN9yL+PFDHv6LTQv6MT/A3XFdK/onM4I5wA0L+P3s6QurXLv6YUVpOwwsm/2NL1XuIKx7/hG7cNZHPCv+9nnHl+QL2/GDBpUb0DuL+AE7hbLCqzvyKlWLz4pa6/7+N3AvmMqb9KBg7VhTmlv+atJuWKOqG/ws9sJIKlm78ie6INgeSVvz/iqj0rs5C/rhzpdR8diL861B6Gkcl/v/IeQkFSkHG/4OGrz2HjU7+FGBhmwMlZP3qdcHtX5XA/41i31Q2Pej+83PcwkrmBPxc4lnzX3IU/KkWJNXK6iT9MGpbAi0aNP2X5paRGS5A/OYjIUZzckT/HO7f9qE6TP/JvZdkGmpQ/N/X8RC3XlT/SKvjNzgOXP9T+qjfp+Zc/jh6E/ce2mD+8EGbgmk2ZP6mn9h/D05k/0agMLGJMmj9cBlwyibeaP3fyFvENGZs/\",\"dtype\":\"float64\",\"shape\":[75]},\"y\":{\"__ndarray__\":\"GhExyth1ND/Sv8nbtpRIP2vylNV0PVE/aTum7souWD/At0SJ8fVgPw3Iuahxymc/MSNhhJWvcD/bTfBN02d3P2zb5nxnaoA/CD5h5MAGhz8NmeH1TyaQP+zrCsc9p5Y/LbKd76fGnz/bLW5ISEmmPww9YvTcQq8/JV2OstnstT8Er5Y7M8G+P0c+r3jqkcU/5h99k6ZBzj88bCIzFzjVP4enV8oyxN0//yH99nXg5D8qOpLLf0jtP5kqGJXUifQ/c9cS8kHP/D+/DpwzojQEQIEmwoanVwxA4lgXt9HgE0BSSZ2AJuIbQAMJih9jjiNA5q4l5INuK0AwTKYKRj0zQNv5fmq8/DpAaCJseHrtQkB/+zpwzoxKQM3MzMzMeFJAZmZmZmZqWEAAAAAAAFxeQM3MzMzMJmJAmpmZmZkfZUBmZmZmZhhoQDMzMzMzEWtAAAAAAAAKbkBmZmZmZoFwQM3MzMzM/XFAMzMzMzN6c0CamZmZmfZ0QAAAAAAAc3ZAZmZmZmbvd0DNzMzMzGt5QDMzMzMz6HpAmpmZmZlkfEAAAAAAAOF9QGZmZmZmXX9AZmZmZuZsgECamZmZGSuBQM3MzMxM6YFAAAAAAICngkAzMzMzs2WDQGZmZmbmI4RAmpmZmRnihEDNzMzMTKCFQAAAAACAXoZAMzMzM7Mch0BmZmZm5tqHQJqZmZkZmYhAzczMzExXiUAAAAAAgBWKQDMzMzOz04pAZmZmZuaRi0CamZmZGVCMQM3MzMxMDo1AAAAAAIDMjUAzMzMzs4qOQGZmZmbmSI9A\",\"dtype\":\"float64\",\"shape\":[75]}},\"selected\":{\"id\":\"94625bcc-1f6a-4cac-8f74-c0d8a23e04f8\",\"type\":\"Selection\"},\"selection_policy\":{\"id\":\"a57198de-4b1e-4afa-a56a-4129c9a49b38\",\"type\":\"UnionRenderers\"}},\"id\":\"6c47ad9b-153b-4e37-9e61-c5c56c5f294e\",\"type\":\"ColumnDataSource\"},{\"attributes\":{},\"id\":\"2d41341e-f0c6-4084-835b-73ecf3520f01\",\"type\":\"UnionRenderers\"},{\"attributes\":{\"line_alpha\":0.1,\"line_color\":\"#1f77b4\",\"line_dash\":[6],\"line_width\":5,\"x\":{\"field\":\"x\"},\"y\":{\"field\":\"y\"}},\"id\":\"23b162d5-aa29-4760-a24e-a2a5ec0d225d\",\"type\":\"Line\"},{\"attributes\":{},\"id\":\"70cc7163-1a25-4007-b0c1-31b2bed0a303\",\"type\":\"UnionRenderers\"},{\"attributes\":{\"callback\":null,\"end\":0.01,\"start\":1020},\"id\":\"3fd941a9-13d5-4b0e-a222-40ed243ae5d2\",\"type\":\"Range1d\"},{\"attributes\":{\"fill_alpha\":{\"value\":0.1},\"fill_color\":{\"value\":\"#1f77b4\"},\"line_alpha\":{\"value\":0.1},\"line_color\":{\"value\":\"#1f77b4\"},\"x\":{\"field\":\"x\"},\"y\":{\"field\":\"y\"}},\"id\":\"a8fb0fec-165b-4a16-ae93-878880148573\",\"type\":\"Circle\"},{\"attributes\":{\"callback\":null,\"data\":{\"x\":{\"__ndarray__\":\"xDa/Y0s4gT/c44ExoCCDP9z9YY7QnYY/UJb0w87siT/Ywh4cLfyMP7Sae3nh4I8/+GKkRmpAkT+QlhNhDH6SPyjS1GZwmJM/QHv+0F2tlD/474YQItGVPxBAbeFCA5c/OPjvyCx0mD8AR8ntGiWaP4wrKrEW15o/UPCp/e/jlz90k9ziZ5SIP4ww2mZQ1Hq/iM1hrrXNnr9wxbOaF1ysvwiEBSGoNLS/UHsZcXO9ur9gRwmF/sW/v3BPFza+B7W/gPMP2UK7g78ATKcGfnpqvwAo4U6RX4G/ACY58XAagT/g8sasixmgP5DyVSuBP6c/hIQBBUcbpT/i9U2TuiGZP2AQWBZclX8/YIK6Jrc9gb+A3nSOq9iavyCh/BpW46S/qGtMFNHSpL/cj5zLWxWhv1CA33c2oZm/mMciOv1BkL+QZHkh3UuCv7AkXqOHz3W/4P1djHopab8AxdH+S75Xv4AEjMHS3zy/AD8rOB7dKD+AygABf7lFPwAFCAhPkk8/4NXNYRvdUj8Q3cVmmMVUP2C+7ha/p1U/WIYgkdyiVT/oEfs2YChVP7hYm1mjS1Q/B0QceFg+Uz9lrUqCkPRRP/R7J7fuilA/YFg87DoLTj9AtwLnrKxKP8CX75UHDUc/oItiaEhJQz+A80Enx2U+P4ATooQKiDY/gBjI7lm/LD8AvzD6wWkXPwAAnjbU7AG/gBoqyKKSJL8AGxebNXExv0AiWiLPdTa/ANlqkuZUOr/APnD2kkc9v8A7ajxO9D+/wHrV74WJQb9geK+cKvxCvyAaNp72n0S/\",\"dtype\":\"float64\",\"shape\":[75]},\"y\":{\"__ndarray__\":\"GhExyth1ND/Sv8nbtpRIP2vylNV0PVE/aTum7souWD/At0SJ8fVgPw3Iuahxymc/MSNhhJWvcD/bTfBN02d3P2zb5nxnaoA/CD5h5MAGhz8NmeH1TyaQP+zrCsc9p5Y/LbKd76fGnz/bLW5ISEmmPww9YvTcQq8/JV2OstnstT8Er5Y7M8G+P0c+r3jqkcU/5h99k6ZBzj88bCIzFzjVP4enV8oyxN0//yH99nXg5D8qOpLLf0jtP5kqGJXUifQ/c9cS8kHP/D+/DpwzojQEQIEmwoanVwxA4lgXt9HgE0BSSZ2AJuIbQAMJih9jjiNA5q4l5INuK0AwTKYKRj0zQNv5fmq8/DpAaCJseHrtQkB/+zpwzoxKQM3MzMzMeFJAZmZmZmZqWEAAAAAAAFxeQM3MzMzMJmJAmpmZmZkfZUBmZmZmZhhoQDMzMzMzEWtAAAAAAAAKbkBmZmZmZoFwQM3MzMzM/XFAMzMzMzN6c0CamZmZmfZ0QAAAAAAAc3ZAZmZmZmbvd0DNzMzMzGt5QDMzMzMz6HpAmpmZmZlkfEAAAAAAAOF9QGZmZmZmXX9AZmZmZuZsgECamZmZGSuBQM3MzMxM6YFAAAAAAICngkAzMzMzs2WDQGZmZmbmI4RAmpmZmRnihEDNzMzMTKCFQAAAAACAXoZAMzMzM7Mch0BmZmZm5tqHQJqZmZkZmYhAzczMzExXiUAAAAAAgBWKQDMzMzOz04pAZmZmZuaRi0CamZmZGVCMQM3MzMxMDo1AAAAAAIDMjUAzMzMzs4qOQGZmZmbmSI9A\",\"dtype\":\"float64\",\"shape\":[75]}},\"selected\":{\"id\":\"068c9072-d3eb-4811-a449-80319666cff3\",\"type\":\"Selection\"},\"selection_policy\":{\"id\":\"5fd470ed-156f-40d8-be40-b87b3b60a613\",\"type\":\"UnionRenderers\"}},\"id\":\"af01b77b-5e55-4097-8479-ea385a711256\",\"type\":\"ColumnDataSource\"},{\"attributes\":{\"fill_alpha\":{\"value\":0.7},\"fill_color\":{\"value\":\"#984ea3\"},\"line_alpha\":{\"value\":0.7},\"line_color\":{\"value\":\"#984ea3\"},\"x\":{\"field\":\"x\"},\"y\":{\"field\":\"y\"}},\"id\":\"b06f2fa0-c625-4dd2-a02f-827a803af91f\",\"type\":\"Circle\"},{\"attributes\":{\"data_source\":{\"id\":\"075eb18b-059e-406d-8c41-620919caad24\",\"type\":\"ColumnDataSource\"},\"glyph\":{\"id\":\"c9119324-43d5-40c7-95cc-d1b7c0fbabd4\",\"type\":\"Line\"},\"hover_glyph\":null,\"muted_glyph\":null,\"nonselection_glyph\":{\"id\":\"23b162d5-aa29-4760-a24e-a2a5ec0d225d\",\"type\":\"Line\"},\"selection_glyph\":null,\"view\":{\"id\":\"421444f5-f63b-4ff2-a089-62f5ecda9da0\",\"type\":\"CDSView\"}},\"id\":\"e487f3c6-a5ee-483b-ac77-5b31ee210c51\",\"type\":\"GlyphRenderer\"},{\"attributes\":{\"fill_alpha\":{\"value\":0.7},\"fill_color\":{\"value\":\"#4daf4a\"},\"line_alpha\":{\"value\":0.7},\"line_color\":{\"value\":\"#4daf4a\"},\"x\":{\"field\":\"x\"},\"y\":{\"field\":\"y\"}},\"id\":\"e482e0e1-44f8-45c6-8a65-e391db7eb0a2\",\"type\":\"Circle\"},{\"attributes\":{\"data_source\":{\"id\":\"6c47ad9b-153b-4e37-9e61-c5c56c5f294e\",\"type\":\"ColumnDataSource\"},\"glyph\":{\"id\":\"e482e0e1-44f8-45c6-8a65-e391db7eb0a2\",\"type\":\"Circle\"},\"hover_glyph\":null,\"muted_glyph\":null,\"nonselection_glyph\":{\"id\":\"a8fb0fec-165b-4a16-ae93-878880148573\",\"type\":\"Circle\"},\"selection_glyph\":null,\"view\":{\"id\":\"b6f45df3-0fd6-466b-945f-2acfa4bcafe5\",\"type\":\"CDSView\"}},\"id\":\"db52fba5-bd47-42e3-b0dc-2988041f8697\",\"type\":\"GlyphRenderer\"},{\"attributes\":{\"source\":{\"id\":\"075eb18b-059e-406d-8c41-620919caad24\",\"type\":\"ColumnDataSource\"}},\"id\":\"421444f5-f63b-4ff2-a089-62f5ecda9da0\",\"type\":\"CDSView\"},{\"attributes\":{\"bottom_units\":\"screen\",\"fill_alpha\":{\"value\":0.5},\"fill_color\":{\"value\":\"lightgrey\"},\"left_units\":\"screen\",\"level\":\"overlay\",\"line_alpha\":{\"value\":1.0},\"line_color\":{\"value\":\"black\"},\"line_dash\":[4,4],\"line_width\":{\"value\":2},\"plot\":null,\"render_mode\":\"css\",\"right_units\":\"screen\",\"top_units\":\"screen\"},\"id\":\"a997ce86-7751-4413-8d7b-904bf153b7fe\",\"type\":\"BoxAnnotation\"},{\"attributes\":{\"line_alpha\":0.6,\"line_color\":\"#e41a1c\",\"line_dash\":[6],\"line_width\":5,\"x\":{\"field\":\"x\"},\"y\":{\"field\":\"y\"}},\"id\":\"c9119324-43d5-40c7-95cc-d1b7c0fbabd4\",\"type\":\"Line\"},{\"attributes\":{},\"id\":\"5a9cc060-958a-4e3e-81b5-58d0b483995e\",\"type\":\"PanTool\"},{\"attributes\":{},\"id\":\"bbe34e4f-487f-4a44-9bc5-378cf97ed9dd\",\"type\":\"WheelZoomTool\"},{\"attributes\":{},\"id\":\"69a31537-d3f1-47ea-a5bc-c334f467d73e\",\"type\":\"SaveTool\"},{\"attributes\":{\"overlay\":{\"id\":\"a997ce86-7751-4413-8d7b-904bf153b7fe\",\"type\":\"BoxAnnotation\"}},\"id\":\"5eba0268-eede-4569-8275-4ba7af315bed\",\"type\":\"BoxZoomTool\"},{\"attributes\":{\"source\":{\"id\":\"6c47ad9b-153b-4e37-9e61-c5c56c5f294e\",\"type\":\"ColumnDataSource\"}},\"id\":\"b6f45df3-0fd6-466b-945f-2acfa4bcafe5\",\"type\":\"CDSView\"},{\"attributes\":{},\"id\":\"25e5e44e-91e9-425f-85b4-6bfaf5a8d7ea\",\"type\":\"HelpTool\"},{\"attributes\":{},\"id\":\"7da9318b-1ffa-410d-9775-804358fa99f0\",\"type\":\"ResetTool\"}],\"root_ids\":[\"1495ba6f-e9c7-4b76-8966-7d59293321ea\"]},\"title\":\"Bokeh Application\",\"version\":\"0.12.16\"}};\n",
       "  var render_items = [{\"docid\":\"b9d45139-97f1-4a6c-94ac-13d80f315241\",\"elementid\":\"d3ada454-3508-41d1-8fc6-9c6350db390b\",\"modelid\":\"1495ba6f-e9c7-4b76-8966-7d59293321ea\"}];\n",
       "  root.Bokeh.embed.embed_items_notebook(docs_json, render_items);\n",
       "\n",
       "  }\n",
       "  if (root.Bokeh !== undefined) {\n",
       "    embed_document(root);\n",
       "  } else {\n",
       "    var attempts = 0;\n",
       "    var timer = setInterval(function(root) {\n",
       "      if (root.Bokeh !== undefined) {\n",
       "        embed_document(root);\n",
       "        clearInterval(timer);\n",
       "      }\n",
       "      attempts++;\n",
       "      if (attempts > 100) {\n",
       "        console.log(\"Bokeh: ERROR: Unable to run BokehJS code because BokehJS library is missing\")\n",
       "        clearInterval(timer);\n",
       "      }\n",
       "    }, 10, root)\n",
       "  }\n",
       "})(window);"
      ],
      "application/vnd.bokehjs_exec.v0+json": ""
     },
     "metadata": {
      "application/vnd.bokehjs_exec.v0+json": {
       "id": "1495ba6f-e9c7-4b76-8966-7d59293321ea"
      }
     },
     "output_type": "display_data"
    },
    {
     "data": {
      "text/markdown": [
       "*FIGURE.* Cooling rates & difference."
      ],
      "text/plain": [
       "<IPython.core.display.Markdown object>"
      ]
     },
     "metadata": {},
     "output_type": "display_data"
    },
    {
     "data": {
      "text/html": [
       "<a id=\"Fluxes._mls.\"></a>"
      ],
      "text/plain": [
       "<IPython.core.display.HTML object>"
      ]
     },
     "metadata": {},
     "output_type": "display_data"
    },
    {
     "data": {
      "text/markdown": [
       "# Fluxes. mls."
      ],
      "text/plain": [
       "<IPython.core.display.Markdown object>"
      ]
     },
     "metadata": {},
     "output_type": "display_data"
    },
    {
     "data": {
      "text/html": [
       "\n",
       "<div class=\"bk-root\">\n",
       "    <div class=\"bk-plotdiv\" id=\"ecf7732d-60fa-4a47-b2bb-e7d286124216\"></div>\n",
       "</div>"
      ]
     },
     "metadata": {},
     "output_type": "display_data"
    },
    {
     "data": {
      "application/javascript": [
       "(function(root) {\n",
       "  function embed_document(root) {\n",
       "    \n",
       "  var docs_json = {\"249d190c-01ce-469e-ae49-6f6759f9b5fc\":{\"roots\":{\"references\":[{\"attributes\":{},\"id\":\"1cf16365-3e9a-4b68-8bec-5a54c4cb63ae\",\"type\":\"BasicTickFormatter\"},{\"attributes\":{},\"id\":\"f5be50cb-cdae-40d8-9a69-a2fc9643cd74\",\"type\":\"ResetTool\"},{\"attributes\":{},\"id\":\"d3ed2e93-106e-4543-a73b-3134c3ff8b8f\",\"type\":\"UnionRenderers\"},{\"attributes\":{},\"id\":\"5a4e5e81-44d8-4fe1-a3ce-95842f59b14f\",\"type\":\"HelpTool\"},{\"attributes\":{},\"id\":\"0aaeda68-a523-4884-a313-f37694c89414\",\"type\":\"CategoricalTickFormatter\"},{\"attributes\":{\"dimension\":1,\"plot\":{\"id\":\"b9273ee1-75a7-413a-b01f-21e0e537b8dd\",\"subtype\":\"Figure\",\"type\":\"Plot\"},\"ticker\":{\"id\":\"ce446df2-d133-4727-b456-38a625b0f884\",\"type\":\"BasicTicker\"}},\"id\":\"73aacfb2-df3e-41a5-970a-bf511b23f7a6\",\"type\":\"Grid\"},{\"attributes\":{\"plot\":{\"id\":\"a3e959de-131f-4920-a681-878518d268ef\",\"subtype\":\"Figure\",\"type\":\"Plot\"},\"ticker\":{\"id\":\"d3da062b-e13f-4089-99c7-239e30e5f82c\",\"type\":\"CategoricalTicker\"}},\"id\":\"5e52f1d0-c3d3-45a2-868a-9a367bab5d11\",\"type\":\"Grid\"},{\"attributes\":{},\"id\":\"06c209d4-3b70-4efc-b80e-380487c9fe1d\",\"type\":\"UnionRenderers\"},{\"attributes\":{},\"id\":\"56e695f3-3f0e-4df1-b58f-68679fe45979\",\"type\":\"BasicTicker\"},{\"attributes\":{\"toolbar\":{\"id\":\"b49140ab-6afa-4519-ae21-e559e3258470\",\"type\":\"ProxyToolbar\"},\"toolbar_location\":\"above\"},\"id\":\"b4308d84-6e1a-438a-99ce-35407ca256c3\",\"type\":\"ToolbarBox\"},{\"attributes\":{\"children\":[{\"id\":\"b4308d84-6e1a-438a-99ce-35407ca256c3\",\"type\":\"ToolbarBox\"},{\"id\":\"7edb23ac-a643-44bd-976c-fc4ec2d1b84f\",\"type\":\"Column\"}]},\"id\":\"3fc9b7b9-d37c-4e38-bdb4-eb922e60470a\",\"type\":\"Column\"},{\"attributes\":{\"axis_label\":\"flux (W m-2)\",\"formatter\":{\"id\":\"1cf16365-3e9a-4b68-8bec-5a54c4cb63ae\",\"type\":\"BasicTickFormatter\"},\"plot\":{\"id\":\"b9273ee1-75a7-413a-b01f-21e0e537b8dd\",\"subtype\":\"Figure\",\"type\":\"Plot\"},\"ticker\":{\"id\":\"ce446df2-d133-4727-b456-38a625b0f884\",\"type\":\"BasicTicker\"}},\"id\":\"20b67654-9b19-4e31-98be-304077eecd85\",\"type\":\"LinearAxis\"},{\"attributes\":{\"tools\":[{\"id\":\"4eb8dfd5-e573-46be-aaae-10c014cef745\",\"type\":\"PanTool\"},{\"id\":\"c7d814a8-cb43-4680-878b-82b6c29b585f\",\"type\":\"WheelZoomTool\"},{\"id\":\"dd23ce70-1375-4c5f-9638-a0eb8e93540c\",\"type\":\"BoxZoomTool\"},{\"id\":\"eb8e2b90-653c-4fbe-a041-efa519be65bc\",\"type\":\"SaveTool\"},{\"id\":\"f5be50cb-cdae-40d8-9a69-a2fc9643cd74\",\"type\":\"ResetTool\"},{\"id\":\"5a4e5e81-44d8-4fe1-a3ce-95842f59b14f\",\"type\":\"HelpTool\"},{\"id\":\"43b287e3-95a4-4288-9905-0e44f8a91b2e\",\"type\":\"PanTool\"},{\"id\":\"c7c166cc-4741-4520-9617-80ef8e34ef6a\",\"type\":\"WheelZoomTool\"},{\"id\":\"47c18f48-7f24-4ec3-9d3c-82853ea61f8b\",\"type\":\"BoxZoomTool\"},{\"id\":\"4fc047e8-9793-4cda-8516-b26ec8d443ca\",\"type\":\"SaveTool\"},{\"id\":\"45da6ee1-2d68-4e37-abd1-740bdb8e2166\",\"type\":\"ResetTool\"},{\"id\":\"899fff82-fb3d-4f88-b0cc-dbf380feaf57\",\"type\":\"HelpTool\"},{\"id\":\"16ad6ee9-4593-4e38-b945-10b7b35b719f\",\"type\":\"PanTool\"},{\"id\":\"98a2ff58-d0c0-4c16-8a36-2009bb6dbd7d\",\"type\":\"WheelZoomTool\"},{\"id\":\"e6364af6-f7af-4ea7-b375-e4310542d2a8\",\"type\":\"BoxZoomTool\"},{\"id\":\"07520715-a972-4391-afdd-24327b5a50e2\",\"type\":\"SaveTool\"},{\"id\":\"bea484ce-2e8f-450e-b4ca-2043bcfe43b8\",\"type\":\"ResetTool\"},{\"id\":\"99ef5b85-9d65-4fdc-a054-ac0817a4972c\",\"type\":\"HelpTool\"}]},\"id\":\"b49140ab-6afa-4519-ae21-e559e3258470\",\"type\":\"ProxyToolbar\"},{\"attributes\":{},\"id\":\"ce446df2-d133-4727-b456-38a625b0f884\",\"type\":\"BasicTicker\"},{\"attributes\":{},\"id\":\"c7d814a8-cb43-4680-878b-82b6c29b585f\",\"type\":\"WheelZoomTool\"},{\"attributes\":{},\"id\":\"1b191faf-4dac-43e4-ac8c-1c66665e53d8\",\"type\":\"LinearScale\"},{\"attributes\":{\"callback\":null,\"data\":{\"band\":[\"7\"],\"flux\":{\"__ndarray__\":\"wICrZQCi3T8=\",\"dtype\":\"float64\",\"shape\":[1]}},\"selected\":{\"id\":\"287eea96-9203-4731-9904-b8bfb9c162fe\",\"type\":\"Selection\"},\"selection_policy\":{\"id\":\"06c209d4-3b70-4efc-b80e-380487c9fe1d\",\"type\":\"UnionRenderers\"}},\"id\":\"97ddfcda-ecc1-4317-96ad-c43b906ee558\",\"type\":\"ColumnDataSource\"},{\"attributes\":{},\"id\":\"b7e151bc-3ded-46c5-a15f-5362605ac073\",\"type\":\"BasicTickFormatter\"},{\"attributes\":{\"data_source\":{\"id\":\"40414427-7125-4d4e-a724-b6a3922bcfc8\",\"type\":\"ColumnDataSource\"},\"glyph\":{\"id\":\"0ee4b47d-a2f0-46c5-b37b-13da138a093f\",\"type\":\"VBar\"},\"hover_glyph\":null,\"muted_glyph\":null,\"nonselection_glyph\":{\"id\":\"a1c9aeec-adb1-4864-8353-f8985520b0c0\",\"type\":\"VBar\"},\"selection_glyph\":null,\"view\":{\"id\":\"890d5506-1abb-4149-aafe-591365c784c9\",\"type\":\"CDSView\"}},\"id\":\"c15a539c-39a2-427a-9a66-a389adfe587f\",\"type\":\"GlyphRenderer\"},{\"attributes\":{\"fill_alpha\":{\"value\":0.1},\"fill_color\":{\"value\":\"#1f77b4\"},\"line_alpha\":{\"value\":0.1},\"line_color\":{\"value\":\"#1f77b4\"},\"top\":{\"field\":\"flux\"},\"width\":{\"value\":0.9},\"x\":{\"field\":\"band\"}},\"id\":\"a1c9aeec-adb1-4864-8353-f8985520b0c0\",\"type\":\"VBar\"},{\"attributes\":{\"callback\":null,\"factors\":[\"7\"]},\"id\":\"cb22a703-a7b4-4e8b-896d-05acd2702c86\",\"type\":\"FactorRange\"},{\"attributes\":{\"plot\":null,\"text\":\"Atmosphere heating. CLIRAD - CRD.\"},\"id\":\"bfc91989-e16e-4e81-afe0-15e0f5c8f526\",\"type\":\"Title\"},{\"attributes\":{\"active_drag\":\"auto\",\"active_inspect\":\"auto\",\"active_scroll\":\"auto\",\"active_tap\":\"auto\",\"tools\":[{\"id\":\"16ad6ee9-4593-4e38-b945-10b7b35b719f\",\"type\":\"PanTool\"},{\"id\":\"98a2ff58-d0c0-4c16-8a36-2009bb6dbd7d\",\"type\":\"WheelZoomTool\"},{\"id\":\"e6364af6-f7af-4ea7-b375-e4310542d2a8\",\"type\":\"BoxZoomTool\"},{\"id\":\"07520715-a972-4391-afdd-24327b5a50e2\",\"type\":\"SaveTool\"},{\"id\":\"bea484ce-2e8f-450e-b4ca-2043bcfe43b8\",\"type\":\"ResetTool\"},{\"id\":\"99ef5b85-9d65-4fdc-a054-ac0817a4972c\",\"type\":\"HelpTool\"}]},\"id\":\"e50780f8-f1f7-4512-bd08-3e57375dc730\",\"type\":\"Toolbar\"},{\"attributes\":{\"below\":[{\"id\":\"6470a353-c578-4976-bd86-5e4eb0fec26d\",\"type\":\"CategoricalAxis\"}],\"left\":[{\"id\":\"af21e8af-b337-434b-b00f-edbedfaf17b6\",\"type\":\"LinearAxis\"}],\"plot_height\":300,\"plot_width\":300,\"renderers\":[{\"id\":\"6470a353-c578-4976-bd86-5e4eb0fec26d\",\"type\":\"CategoricalAxis\"},{\"id\":\"5e52f1d0-c3d3-45a2-868a-9a367bab5d11\",\"type\":\"Grid\"},{\"id\":\"af21e8af-b337-434b-b00f-edbedfaf17b6\",\"type\":\"LinearAxis\"},{\"id\":\"5ad109c0-40d8-4c8b-b617-963f38cf9d15\",\"type\":\"Grid\"},{\"id\":\"5ac885d6-e1b2-4236-90f3-f68327b98f28\",\"type\":\"BoxAnnotation\"},{\"id\":\"3300fe15-2641-4c95-b0e0-e341e5b612b0\",\"type\":\"GlyphRenderer\"}],\"title\":{\"id\":\"bfc91989-e16e-4e81-afe0-15e0f5c8f526\",\"type\":\"Title\"},\"toolbar\":{\"id\":\"e50780f8-f1f7-4512-bd08-3e57375dc730\",\"type\":\"Toolbar\"},\"toolbar_location\":null,\"x_range\":{\"id\":\"cb22a703-a7b4-4e8b-896d-05acd2702c86\",\"type\":\"FactorRange\"},\"x_scale\":{\"id\":\"f7e9a42b-e832-4c61-89cc-410d14ccba66\",\"type\":\"CategoricalScale\"},\"y_range\":{\"id\":\"05ba9a48-9c11-4a57-98b1-4264ee4bbefb\",\"type\":\"DataRange1d\"},\"y_scale\":{\"id\":\"1b191faf-4dac-43e4-ac8c-1c66665e53d8\",\"type\":\"LinearScale\"}},\"id\":\"a3e959de-131f-4920-a681-878518d268ef\",\"subtype\":\"Figure\",\"type\":\"Plot\"},{\"attributes\":{},\"id\":\"11449a95-9847-4804-b355-f0bf6fb1cd78\",\"type\":\"LinearScale\"},{\"attributes\":{\"plot\":{\"id\":\"6fc90fb0-b2c1-42fc-9030-53e04aa5f68c\",\"subtype\":\"Figure\",\"type\":\"Plot\"},\"ticker\":{\"id\":\"21b7e81c-2463-4068-a2a0-768b72a25a7a\",\"type\":\"CategoricalTicker\"}},\"id\":\"e303fb02-3107-4eea-ab51-487a98640129\",\"type\":\"Grid\"},{\"attributes\":{\"dimension\":1,\"plot\":{\"id\":\"6fc90fb0-b2c1-42fc-9030-53e04aa5f68c\",\"subtype\":\"Figure\",\"type\":\"Plot\"},\"ticker\":{\"id\":\"56e695f3-3f0e-4df1-b58f-68679fe45979\",\"type\":\"BasicTicker\"}},\"id\":\"4e71a512-b5ce-4c7e-bc37-3885283480ae\",\"type\":\"Grid\"},{\"attributes\":{},\"id\":\"f7e9a42b-e832-4c61-89cc-410d14ccba66\",\"type\":\"CategoricalScale\"},{\"attributes\":{\"axis_label\":\"flux (W m-2)\",\"formatter\":{\"id\":\"9b72d6ed-067d-4a26-93f8-166ea6bec926\",\"type\":\"BasicTickFormatter\"},\"plot\":{\"id\":\"6fc90fb0-b2c1-42fc-9030-53e04aa5f68c\",\"subtype\":\"Figure\",\"type\":\"Plot\"},\"ticker\":{\"id\":\"56e695f3-3f0e-4df1-b58f-68679fe45979\",\"type\":\"BasicTicker\"}},\"id\":\"154fc209-d1fb-42fa-9a16-36329e095024\",\"type\":\"LinearAxis\"},{\"attributes\":{},\"id\":\"92b49351-9b4a-42dd-866b-fe294d1441f5\",\"type\":\"CategoricalTickFormatter\"},{\"attributes\":{\"axis_label\":\"flux (W m-2)\",\"formatter\":{\"id\":\"b7e151bc-3ded-46c5-a15f-5362605ac073\",\"type\":\"BasicTickFormatter\"},\"plot\":{\"id\":\"a3e959de-131f-4920-a681-878518d268ef\",\"subtype\":\"Figure\",\"type\":\"Plot\"},\"ticker\":{\"id\":\"e288cfe7-f3be-4299-9533-4f3d1bd07f10\",\"type\":\"BasicTicker\"}},\"id\":\"af21e8af-b337-434b-b00f-edbedfaf17b6\",\"type\":\"LinearAxis\"},{\"attributes\":{},\"id\":\"1cee1b99-ce4a-47e4-8c21-24e44f8ca73c\",\"type\":\"CategoricalScale\"},{\"attributes\":{\"fill_alpha\":{\"value\":0.1},\"fill_color\":{\"value\":\"#1f77b4\"},\"line_alpha\":{\"value\":0.1},\"line_color\":{\"value\":\"#1f77b4\"},\"top\":{\"field\":\"flux\"},\"width\":{\"value\":0.9},\"x\":{\"field\":\"band\"}},\"id\":\"1ee62be0-523f-4b41-9a4d-544965d16a76\",\"type\":\"VBar\"},{\"attributes\":{\"plot\":null,\"text\":\"SFC flux. CLIRAD - CRD.\"},\"id\":\"0e0a6910-d3f5-4cb3-9b84-ec2a5b51aab8\",\"type\":\"Title\"},{\"attributes\":{\"axis_label\":\"spectral band\",\"formatter\":{\"id\":\"92b49351-9b4a-42dd-866b-fe294d1441f5\",\"type\":\"CategoricalTickFormatter\"},\"plot\":{\"id\":\"a3e959de-131f-4920-a681-878518d268ef\",\"subtype\":\"Figure\",\"type\":\"Plot\"},\"ticker\":{\"id\":\"d3da062b-e13f-4089-99c7-239e30e5f82c\",\"type\":\"CategoricalTicker\"}},\"id\":\"6470a353-c578-4976-bd86-5e4eb0fec26d\",\"type\":\"CategoricalAxis\"},{\"attributes\":{\"active_drag\":\"auto\",\"active_inspect\":\"auto\",\"active_scroll\":\"auto\",\"active_tap\":\"auto\",\"tools\":[{\"id\":\"4eb8dfd5-e573-46be-aaae-10c014cef745\",\"type\":\"PanTool\"},{\"id\":\"c7d814a8-cb43-4680-878b-82b6c29b585f\",\"type\":\"WheelZoomTool\"},{\"id\":\"dd23ce70-1375-4c5f-9638-a0eb8e93540c\",\"type\":\"BoxZoomTool\"},{\"id\":\"eb8e2b90-653c-4fbe-a041-efa519be65bc\",\"type\":\"SaveTool\"},{\"id\":\"f5be50cb-cdae-40d8-9a69-a2fc9643cd74\",\"type\":\"ResetTool\"},{\"id\":\"5a4e5e81-44d8-4fe1-a3ce-95842f59b14f\",\"type\":\"HelpTool\"}]},\"id\":\"8f458471-7876-4fa8-b500-0c906d90b9f1\",\"type\":\"Toolbar\"},{\"attributes\":{\"callback\":null},\"id\":\"13c01771-9ade-45e9-a3ea-4cbdb972504d\",\"type\":\"DataRange1d\"},{\"attributes\":{},\"id\":\"21b7e81c-2463-4068-a2a0-768b72a25a7a\",\"type\":\"CategoricalTicker\"},{\"attributes\":{\"axis_label\":\"spectral band\",\"formatter\":{\"id\":\"0aaeda68-a523-4884-a313-f37694c89414\",\"type\":\"CategoricalTickFormatter\"},\"plot\":{\"id\":\"b9273ee1-75a7-413a-b01f-21e0e537b8dd\",\"subtype\":\"Figure\",\"type\":\"Plot\"},\"ticker\":{\"id\":\"d402e62b-9ffb-4297-9fcc-dd6a58cf84bf\",\"type\":\"CategoricalTicker\"}},\"id\":\"c0e7e99a-63a9-4853-ac49-8205c42608e9\",\"type\":\"CategoricalAxis\"},{\"attributes\":{},\"id\":\"d402e62b-9ffb-4297-9fcc-dd6a58cf84bf\",\"type\":\"CategoricalTicker\"},{\"attributes\":{\"source\":{\"id\":\"79146334-801d-472c-b243-8eeb3166d7af\",\"type\":\"ColumnDataSource\"}},\"id\":\"0c69382b-5562-4d92-9b1f-a78756fbcac7\",\"type\":\"CDSView\"},{\"attributes\":{},\"id\":\"71f2a55f-23ca-46f7-b13c-1e938a43a1ca\",\"type\":\"Selection\"},{\"attributes\":{},\"id\":\"5dc399ff-b09f-4b7d-9521-1a784e85a3d3\",\"type\":\"LinearScale\"},{\"attributes\":{},\"id\":\"aba1680f-8ff4-4a5e-95de-64fe33fd05da\",\"type\":\"CategoricalScale\"},{\"attributes\":{},\"id\":\"07520715-a972-4391-afdd-24327b5a50e2\",\"type\":\"SaveTool\"},{\"attributes\":{\"plot\":{\"id\":\"b9273ee1-75a7-413a-b01f-21e0e537b8dd\",\"subtype\":\"Figure\",\"type\":\"Plot\"},\"ticker\":{\"id\":\"d402e62b-9ffb-4297-9fcc-dd6a58cf84bf\",\"type\":\"CategoricalTicker\"}},\"id\":\"fd511663-a05e-4b4a-a06c-ea16bf1aefb7\",\"type\":\"Grid\"},{\"attributes\":{\"fill_color\":{\"value\":\"#1f77b4\"},\"line_color\":{\"value\":\"#1f77b4\"},\"top\":{\"field\":\"flux\"},\"width\":{\"value\":0.9},\"x\":{\"field\":\"band\"}},\"id\":\"0ee4b47d-a2f0-46c5-b37b-13da138a093f\",\"type\":\"VBar\"},{\"attributes\":{\"fill_color\":{\"value\":\"#1f77b4\"},\"line_color\":{\"value\":\"#1f77b4\"},\"top\":{\"field\":\"flux\"},\"width\":{\"value\":0.9},\"x\":{\"field\":\"band\"}},\"id\":\"c60a483c-abae-4b3e-a12e-472fcbf36434\",\"type\":\"VBar\"},{\"attributes\":{},\"id\":\"4eb8dfd5-e573-46be-aaae-10c014cef745\",\"type\":\"PanTool\"},{\"attributes\":{\"active_drag\":\"auto\",\"active_inspect\":\"auto\",\"active_scroll\":\"auto\",\"active_tap\":\"auto\",\"tools\":[{\"id\":\"43b287e3-95a4-4288-9905-0e44f8a91b2e\",\"type\":\"PanTool\"},{\"id\":\"c7c166cc-4741-4520-9617-80ef8e34ef6a\",\"type\":\"WheelZoomTool\"},{\"id\":\"47c18f48-7f24-4ec3-9d3c-82853ea61f8b\",\"type\":\"BoxZoomTool\"},{\"id\":\"4fc047e8-9793-4cda-8516-b26ec8d443ca\",\"type\":\"SaveTool\"},{\"id\":\"45da6ee1-2d68-4e37-abd1-740bdb8e2166\",\"type\":\"ResetTool\"},{\"id\":\"899fff82-fb3d-4f88-b0cc-dbf380feaf57\",\"type\":\"HelpTool\"}]},\"id\":\"5bb15dc6-a004-4707-89ef-6607646401c6\",\"type\":\"Toolbar\"},{\"attributes\":{\"callback\":null,\"factors\":[\"7\"]},\"id\":\"4aa49095-11cb-4b3a-9f93-6ecc4e5ae497\",\"type\":\"FactorRange\"},{\"attributes\":{\"data_source\":{\"id\":\"79146334-801d-472c-b243-8eeb3166d7af\",\"type\":\"ColumnDataSource\"},\"glyph\":{\"id\":\"c60a483c-abae-4b3e-a12e-472fcbf36434\",\"type\":\"VBar\"},\"hover_glyph\":null,\"muted_glyph\":null,\"nonselection_glyph\":{\"id\":\"1ee62be0-523f-4b41-9a4d-544965d16a76\",\"type\":\"VBar\"},\"selection_glyph\":null,\"view\":{\"id\":\"0c69382b-5562-4d92-9b1f-a78756fbcac7\",\"type\":\"CDSView\"}},\"id\":\"6d44dad6-a4c0-42fd-bfd3-3421f53b2dc6\",\"type\":\"GlyphRenderer\"},{\"attributes\":{\"overlay\":{\"id\":\"579434a6-39c2-487a-9fc7-3505ca42c9b4\",\"type\":\"BoxAnnotation\"}},\"id\":\"dd23ce70-1375-4c5f-9638-a0eb8e93540c\",\"type\":\"BoxZoomTool\"},{\"attributes\":{\"overlay\":{\"id\":\"5ac885d6-e1b2-4236-90f3-f68327b98f28\",\"type\":\"BoxAnnotation\"}},\"id\":\"e6364af6-f7af-4ea7-b375-e4310542d2a8\",\"type\":\"BoxZoomTool\"},{\"attributes\":{},\"id\":\"45da6ee1-2d68-4e37-abd1-740bdb8e2166\",\"type\":\"ResetTool\"},{\"attributes\":{\"callback\":null,\"data\":{\"band\":[\"7\"],\"flux\":{\"__ndarray__\":\"gLaP31IDrr8=\",\"dtype\":\"float64\",\"shape\":[1]}},\"selected\":{\"id\":\"71f2a55f-23ca-46f7-b13c-1e938a43a1ca\",\"type\":\"Selection\"},\"selection_policy\":{\"id\":\"d3ed2e93-106e-4543-a73b-3134c3ff8b8f\",\"type\":\"UnionRenderers\"}},\"id\":\"79146334-801d-472c-b243-8eeb3166d7af\",\"type\":\"ColumnDataSource\"},{\"attributes\":{},\"id\":\"bea484ce-2e8f-450e-b4ca-2043bcfe43b8\",\"type\":\"ResetTool\"},{\"attributes\":{},\"id\":\"4fc047e8-9793-4cda-8516-b26ec8d443ca\",\"type\":\"SaveTool\"},{\"attributes\":{\"source\":{\"id\":\"97ddfcda-ecc1-4317-96ad-c43b906ee558\",\"type\":\"ColumnDataSource\"}},\"id\":\"f7a90a4b-aa59-4d6e-810e-82b3ac248e89\",\"type\":\"CDSView\"},{\"attributes\":{\"overlay\":{\"id\":\"5172e4d9-4b83-4fe6-bd5a-ca8e065ee488\",\"type\":\"BoxAnnotation\"}},\"id\":\"47c18f48-7f24-4ec3-9d3c-82853ea61f8b\",\"type\":\"BoxZoomTool\"},{\"attributes\":{},\"id\":\"98a2ff58-d0c0-4c16-8a36-2009bb6dbd7d\",\"type\":\"WheelZoomTool\"},{\"attributes\":{},\"id\":\"c7c166cc-4741-4520-9617-80ef8e34ef6a\",\"type\":\"WheelZoomTool\"},{\"attributes\":{\"data_source\":{\"id\":\"97ddfcda-ecc1-4317-96ad-c43b906ee558\",\"type\":\"ColumnDataSource\"},\"glyph\":{\"id\":\"1f2924e1-d9af-4de8-bff0-1ed86ce1e74a\",\"type\":\"VBar\"},\"hover_glyph\":null,\"muted_glyph\":null,\"nonselection_glyph\":{\"id\":\"5a220dbb-d355-44b3-a8f3-71b827c5e64f\",\"type\":\"VBar\"},\"selection_glyph\":null,\"view\":{\"id\":\"f7a90a4b-aa59-4d6e-810e-82b3ac248e89\",\"type\":\"CDSView\"}},\"id\":\"3300fe15-2641-4c95-b0e0-e341e5b612b0\",\"type\":\"GlyphRenderer\"},{\"attributes\":{},\"id\":\"16ad6ee9-4593-4e38-b945-10b7b35b719f\",\"type\":\"PanTool\"},{\"attributes\":{},\"id\":\"43b287e3-95a4-4288-9905-0e44f8a91b2e\",\"type\":\"PanTool\"},{\"attributes\":{\"bottom_units\":\"screen\",\"fill_alpha\":{\"value\":0.5},\"fill_color\":{\"value\":\"lightgrey\"},\"left_units\":\"screen\",\"level\":\"overlay\",\"line_alpha\":{\"value\":1.0},\"line_color\":{\"value\":\"black\"},\"line_dash\":[4,4],\"line_width\":{\"value\":2},\"plot\":null,\"render_mode\":\"css\",\"right_units\":\"screen\",\"top_units\":\"screen\"},\"id\":\"5ac885d6-e1b2-4236-90f3-f68327b98f28\",\"type\":\"BoxAnnotation\"},{\"attributes\":{\"bottom_units\":\"screen\",\"fill_alpha\":{\"value\":0.5},\"fill_color\":{\"value\":\"lightgrey\"},\"left_units\":\"screen\",\"level\":\"overlay\",\"line_alpha\":{\"value\":1.0},\"line_color\":{\"value\":\"black\"},\"line_dash\":[4,4],\"line_width\":{\"value\":2},\"plot\":null,\"render_mode\":\"css\",\"right_units\":\"screen\",\"top_units\":\"screen\"},\"id\":\"5172e4d9-4b83-4fe6-bd5a-ca8e065ee488\",\"type\":\"BoxAnnotation\"},{\"attributes\":{\"children\":[{\"id\":\"6fc90fb0-b2c1-42fc-9030-53e04aa5f68c\",\"subtype\":\"Figure\",\"type\":\"Plot\"},{\"id\":\"b9273ee1-75a7-413a-b01f-21e0e537b8dd\",\"subtype\":\"Figure\",\"type\":\"Plot\"},{\"id\":\"a3e959de-131f-4920-a681-878518d268ef\",\"subtype\":\"Figure\",\"type\":\"Plot\"}]},\"id\":\"2fc1de7e-ceaf-4c9c-8771-e14d7daf4547\",\"type\":\"Row\"},{\"attributes\":{\"fill_color\":{\"value\":\"#1f77b4\"},\"line_color\":{\"value\":\"#1f77b4\"},\"top\":{\"field\":\"flux\"},\"width\":{\"value\":0.9},\"x\":{\"field\":\"band\"}},\"id\":\"1f2924e1-d9af-4de8-bff0-1ed86ce1e74a\",\"type\":\"VBar\"},{\"attributes\":{},\"id\":\"899fff82-fb3d-4f88-b0cc-dbf380feaf57\",\"type\":\"HelpTool\"},{\"attributes\":{},\"id\":\"4284cae2-6718-41fa-8030-a58012dfb84b\",\"type\":\"CategoricalTickFormatter\"},{\"attributes\":{\"dimension\":1,\"plot\":{\"id\":\"a3e959de-131f-4920-a681-878518d268ef\",\"subtype\":\"Figure\",\"type\":\"Plot\"},\"ticker\":{\"id\":\"e288cfe7-f3be-4299-9533-4f3d1bd07f10\",\"type\":\"BasicTicker\"}},\"id\":\"5ad109c0-40d8-4c8b-b617-963f38cf9d15\",\"type\":\"Grid\"},{\"attributes\":{\"source\":{\"id\":\"40414427-7125-4d4e-a724-b6a3922bcfc8\",\"type\":\"ColumnDataSource\"}},\"id\":\"890d5506-1abb-4149-aafe-591365c784c9\",\"type\":\"CDSView\"},{\"attributes\":{},\"id\":\"e288cfe7-f3be-4299-9533-4f3d1bd07f10\",\"type\":\"BasicTicker\"},{\"attributes\":{},\"id\":\"eb8e2b90-653c-4fbe-a041-efa519be65bc\",\"type\":\"SaveTool\"},{\"attributes\":{},\"id\":\"d3da062b-e13f-4089-99c7-239e30e5f82c\",\"type\":\"CategoricalTicker\"},{\"attributes\":{\"bottom_units\":\"screen\",\"fill_alpha\":{\"value\":0.5},\"fill_color\":{\"value\":\"lightgrey\"},\"left_units\":\"screen\",\"level\":\"overlay\",\"line_alpha\":{\"value\":1.0},\"line_color\":{\"value\":\"black\"},\"line_dash\":[4,4],\"line_width\":{\"value\":2},\"plot\":null,\"render_mode\":\"css\",\"right_units\":\"screen\",\"top_units\":\"screen\"},\"id\":\"579434a6-39c2-487a-9fc7-3505ca42c9b4\",\"type\":\"BoxAnnotation\"},{\"attributes\":{\"callback\":null,\"factors\":[\"7\"]},\"id\":\"a7ffe33a-85dd-4d26-86e2-98369e848a7d\",\"type\":\"FactorRange\"},{\"attributes\":{\"fill_alpha\":{\"value\":0.1},\"fill_color\":{\"value\":\"#1f77b4\"},\"line_alpha\":{\"value\":0.1},\"line_color\":{\"value\":\"#1f77b4\"},\"top\":{\"field\":\"flux\"},\"width\":{\"value\":0.9},\"x\":{\"field\":\"band\"}},\"id\":\"5a220dbb-d355-44b3-a8f3-71b827c5e64f\",\"type\":\"VBar\"},{\"attributes\":{\"below\":[{\"id\":\"c0e7e99a-63a9-4853-ac49-8205c42608e9\",\"type\":\"CategoricalAxis\"}],\"left\":[{\"id\":\"20b67654-9b19-4e31-98be-304077eecd85\",\"type\":\"LinearAxis\"}],\"plot_height\":300,\"plot_width\":300,\"renderers\":[{\"id\":\"c0e7e99a-63a9-4853-ac49-8205c42608e9\",\"type\":\"CategoricalAxis\"},{\"id\":\"fd511663-a05e-4b4a-a06c-ea16bf1aefb7\",\"type\":\"Grid\"},{\"id\":\"20b67654-9b19-4e31-98be-304077eecd85\",\"type\":\"LinearAxis\"},{\"id\":\"73aacfb2-df3e-41a5-970a-bf511b23f7a6\",\"type\":\"Grid\"},{\"id\":\"5172e4d9-4b83-4fe6-bd5a-ca8e065ee488\",\"type\":\"BoxAnnotation\"},{\"id\":\"6d44dad6-a4c0-42fd-bfd3-3421f53b2dc6\",\"type\":\"GlyphRenderer\"}],\"title\":{\"id\":\"0e0a6910-d3f5-4cb3-9b84-ec2a5b51aab8\",\"type\":\"Title\"},\"toolbar\":{\"id\":\"5bb15dc6-a004-4707-89ef-6607646401c6\",\"type\":\"Toolbar\"},\"toolbar_location\":null,\"x_range\":{\"id\":\"4aa49095-11cb-4b3a-9f93-6ecc4e5ae497\",\"type\":\"FactorRange\"},\"x_scale\":{\"id\":\"aba1680f-8ff4-4a5e-95de-64fe33fd05da\",\"type\":\"CategoricalScale\"},\"y_range\":{\"id\":\"13c01771-9ade-45e9-a3ea-4cbdb972504d\",\"type\":\"DataRange1d\"},\"y_scale\":{\"id\":\"5dc399ff-b09f-4b7d-9521-1a784e85a3d3\",\"type\":\"LinearScale\"}},\"id\":\"b9273ee1-75a7-413a-b01f-21e0e537b8dd\",\"subtype\":\"Figure\",\"type\":\"Plot\"},{\"attributes\":{},\"id\":\"287eea96-9203-4731-9904-b8bfb9c162fe\",\"type\":\"Selection\"},{\"attributes\":{\"below\":[{\"id\":\"0fab5e17-b1b4-4273-894d-9a43ecd397c8\",\"type\":\"CategoricalAxis\"}],\"left\":[{\"id\":\"154fc209-d1fb-42fa-9a16-36329e095024\",\"type\":\"LinearAxis\"}],\"plot_height\":300,\"plot_width\":300,\"renderers\":[{\"id\":\"0fab5e17-b1b4-4273-894d-9a43ecd397c8\",\"type\":\"CategoricalAxis\"},{\"id\":\"e303fb02-3107-4eea-ab51-487a98640129\",\"type\":\"Grid\"},{\"id\":\"154fc209-d1fb-42fa-9a16-36329e095024\",\"type\":\"LinearAxis\"},{\"id\":\"4e71a512-b5ce-4c7e-bc37-3885283480ae\",\"type\":\"Grid\"},{\"id\":\"579434a6-39c2-487a-9fc7-3505ca42c9b4\",\"type\":\"BoxAnnotation\"},{\"id\":\"c15a539c-39a2-427a-9a66-a389adfe587f\",\"type\":\"GlyphRenderer\"}],\"title\":{\"id\":\"a6dbb797-8044-4bee-9d72-4e243a1139a6\",\"type\":\"Title\"},\"toolbar\":{\"id\":\"8f458471-7876-4fa8-b500-0c906d90b9f1\",\"type\":\"Toolbar\"},\"toolbar_location\":null,\"x_range\":{\"id\":\"a7ffe33a-85dd-4d26-86e2-98369e848a7d\",\"type\":\"FactorRange\"},\"x_scale\":{\"id\":\"1cee1b99-ce4a-47e4-8c21-24e44f8ca73c\",\"type\":\"CategoricalScale\"},\"y_range\":{\"id\":\"f0ac68bd-1886-4d7f-84c7-177b22d51f99\",\"type\":\"DataRange1d\"},\"y_scale\":{\"id\":\"11449a95-9847-4804-b355-f0bf6fb1cd78\",\"type\":\"LinearScale\"}},\"id\":\"6fc90fb0-b2c1-42fc-9030-53e04aa5f68c\",\"subtype\":\"Figure\",\"type\":\"Plot\"},{\"attributes\":{},\"id\":\"99ef5b85-9d65-4fdc-a054-ac0817a4972c\",\"type\":\"HelpTool\"},{\"attributes\":{},\"id\":\"6774586f-f88f-44dd-8b46-ffc0448a3865\",\"type\":\"UnionRenderers\"},{\"attributes\":{},\"id\":\"a26388f0-65f1-4a6f-9d0a-a3b976dae9da\",\"type\":\"Selection\"},{\"attributes\":{\"plot\":null,\"text\":\"TOA flux. CLIRAD - CRD.\"},\"id\":\"a6dbb797-8044-4bee-9d72-4e243a1139a6\",\"type\":\"Title\"},{\"attributes\":{\"callback\":null},\"id\":\"f0ac68bd-1886-4d7f-84c7-177b22d51f99\",\"type\":\"DataRange1d\"},{\"attributes\":{\"callback\":null},\"id\":\"05ba9a48-9c11-4a57-98b1-4264ee4bbefb\",\"type\":\"DataRange1d\"},{\"attributes\":{\"callback\":null,\"data\":{\"band\":[\"7\"],\"flux\":{\"__ndarray__\":\"AN1cPorh2T8=\",\"dtype\":\"float64\",\"shape\":[1]}},\"selected\":{\"id\":\"a26388f0-65f1-4a6f-9d0a-a3b976dae9da\",\"type\":\"Selection\"},\"selection_policy\":{\"id\":\"6774586f-f88f-44dd-8b46-ffc0448a3865\",\"type\":\"UnionRenderers\"}},\"id\":\"40414427-7125-4d4e-a724-b6a3922bcfc8\",\"type\":\"ColumnDataSource\"},{\"attributes\":{\"axis_label\":\"spectral band\",\"formatter\":{\"id\":\"4284cae2-6718-41fa-8030-a58012dfb84b\",\"type\":\"CategoricalTickFormatter\"},\"plot\":{\"id\":\"6fc90fb0-b2c1-42fc-9030-53e04aa5f68c\",\"subtype\":\"Figure\",\"type\":\"Plot\"},\"ticker\":{\"id\":\"21b7e81c-2463-4068-a2a0-768b72a25a7a\",\"type\":\"CategoricalTicker\"}},\"id\":\"0fab5e17-b1b4-4273-894d-9a43ecd397c8\",\"type\":\"CategoricalAxis\"},{\"attributes\":{\"children\":[{\"id\":\"2fc1de7e-ceaf-4c9c-8771-e14d7daf4547\",\"type\":\"Row\"}]},\"id\":\"7edb23ac-a643-44bd-976c-fc4ec2d1b84f\",\"type\":\"Column\"},{\"attributes\":{},\"id\":\"9b72d6ed-067d-4a26-93f8-166ea6bec926\",\"type\":\"BasicTickFormatter\"}],\"root_ids\":[\"3fc9b7b9-d37c-4e38-bdb4-eb922e60470a\"]},\"title\":\"Bokeh Application\",\"version\":\"0.12.16\"}};\n",
       "  var render_items = [{\"docid\":\"249d190c-01ce-469e-ae49-6f6759f9b5fc\",\"elementid\":\"ecf7732d-60fa-4a47-b2bb-e7d286124216\",\"modelid\":\"3fc9b7b9-d37c-4e38-bdb4-eb922e60470a\"}];\n",
       "  root.Bokeh.embed.embed_items_notebook(docs_json, render_items);\n",
       "\n",
       "  }\n",
       "  if (root.Bokeh !== undefined) {\n",
       "    embed_document(root);\n",
       "  } else {\n",
       "    var attempts = 0;\n",
       "    var timer = setInterval(function(root) {\n",
       "      if (root.Bokeh !== undefined) {\n",
       "        embed_document(root);\n",
       "        clearInterval(timer);\n",
       "      }\n",
       "      attempts++;\n",
       "      if (attempts > 100) {\n",
       "        console.log(\"Bokeh: ERROR: Unable to run BokehJS code because BokehJS library is missing\")\n",
       "        clearInterval(timer);\n",
       "      }\n",
       "    }, 10, root)\n",
       "  }\n",
       "})(window);"
      ],
      "application/vnd.bokehjs_exec.v0+json": ""
     },
     "metadata": {
      "application/vnd.bokehjs_exec.v0+json": {
       "id": "3fc9b7b9-d37c-4e38-bdb4-eb922e60470a"
      }
     },
     "output_type": "display_data"
    },
    {
     "data": {
      "text/markdown": [
       "*FIGURE.* Difference between CLIRAD and CRD in TOA, SFC and net atmosphere flux, in each spectral band."
      ],
      "text/plain": [
       "<IPython.core.display.Markdown object>"
      ]
     },
     "metadata": {},
     "output_type": "display_data"
    },
    {
     "data": {
      "text/html": [
       "<div>\n",
       "<style scoped>\n",
       "    .dataframe tbody tr th:only-of-type {\n",
       "        vertical-align: middle;\n",
       "    }\n",
       "\n",
       "    .dataframe tbody tr th {\n",
       "        vertical-align: top;\n",
       "    }\n",
       "\n",
       "    .dataframe thead th {\n",
       "        text-align: right;\n",
       "    }\n",
       "</style>\n",
       "<table border=\"1\" class=\"dataframe\">\n",
       "  <thead>\n",
       "    <tr style=\"text-align: right;\">\n",
       "      <th></th>\n",
       "      <th>OLR flux</th>\n",
       "      <th>SFC flux</th>\n",
       "      <th>ATM heating</th>\n",
       "    </tr>\n",
       "    <tr>\n",
       "      <th>Sum over bands</th>\n",
       "      <th></th>\n",
       "      <th></th>\n",
       "      <th></th>\n",
       "    </tr>\n",
       "  </thead>\n",
       "  <tbody>\n",
       "    <tr>\n",
       "      <th>CLIRAD - CRD</th>\n",
       "      <td>0.40</td>\n",
       "      <td>-0.06</td>\n",
       "      <td>0.46</td>\n",
       "    </tr>\n",
       "    <tr>\n",
       "      <th>CRD</th>\n",
       "      <td>-23.05</td>\n",
       "      <td>4.35</td>\n",
       "      <td>3.96</td>\n",
       "    </tr>\n",
       "  </tbody>\n",
       "</table>\n",
       "</div>"
      ],
      "text/plain": [
       "                OLR flux  SFC flux  ATM heating\n",
       "Sum over bands                                 \n",
       "CLIRAD - CRD        0.40     -0.06         0.46\n",
       "CRD               -23.05      4.35         3.96"
      ]
     },
     "metadata": {},
     "output_type": "display_data"
    },
    {
     "data": {
      "text/markdown": [
       "*TABLE.* Difference between CLIRAD and CRD in TOA, SFC and net atmosphere flux, over all spectral bands. CRD's TOA, SFC and net atmosphere flux, over all spectral bands."
      ],
      "text/plain": [
       "<IPython.core.display.Markdown object>"
      ]
     },
     "metadata": {},
     "output_type": "display_data"
    },
    {
     "data": {
      "text/html": [
       "<a id=\"Parameters_of_runs._saw\"></a>"
      ],
      "text/plain": [
       "<IPython.core.display.HTML object>"
      ]
     },
     "metadata": {},
     "output_type": "display_data"
    },
    {
     "data": {
      "text/markdown": [
       "# Parameters of runs. saw"
      ],
      "text/plain": [
       "<IPython.core.display.Markdown object>"
      ]
     },
     "metadata": {},
     "output_type": "display_data"
    },
    {
     "data": {
      "text/html": [
       "<div>\n",
       "<style scoped>\n",
       "    .dataframe tbody tr th:only-of-type {\n",
       "        vertical-align: middle;\n",
       "    }\n",
       "\n",
       "    .dataframe tbody tr th {\n",
       "        vertical-align: top;\n",
       "    }\n",
       "\n",
       "    .dataframe thead tr th {\n",
       "        text-align: left;\n",
       "    }\n",
       "</style>\n",
       "<table border=\"1\" class=\"dataframe\">\n",
       "  <thead>\n",
       "    <tr>\n",
       "      <th></th>\n",
       "      <th>clirad-lw</th>\n",
       "      <th>lblnew-bestfit lw</th>\n",
       "    </tr>\n",
       "    <tr>\n",
       "      <th></th>\n",
       "      <th>:D</th>\n",
       "      <th>band5 o3</th>\n",
       "    </tr>\n",
       "  </thead>\n",
       "  <tbody>\n",
       "    <tr>\n",
       "      <th>atmpro</th>\n",
       "      <td>saw</td>\n",
       "      <td>saw</td>\n",
       "    </tr>\n",
       "    <tr>\n",
       "      <th>band</th>\n",
       "      <td>[7]</td>\n",
       "      <td>5</td>\n",
       "    </tr>\n",
       "    <tr>\n",
       "      <th>commitnumber</th>\n",
       "      <td>1013f91</td>\n",
       "      <td>5014a19</td>\n",
       "    </tr>\n",
       "    <tr>\n",
       "      <th>conc</th>\n",
       "      <td>-</td>\n",
       "      <td>-</td>\n",
       "    </tr>\n",
       "    <tr>\n",
       "      <th>dv</th>\n",
       "      <td>-</td>\n",
       "      <td>0.001</td>\n",
       "    </tr>\n",
       "    <tr>\n",
       "      <th>klin</th>\n",
       "      <td>-</td>\n",
       "      <td>2e-20</td>\n",
       "    </tr>\n",
       "    <tr>\n",
       "      <th>molecule</th>\n",
       "      <td>{'o3': 'atmpro'}</td>\n",
       "      <td>o3</td>\n",
       "    </tr>\n",
       "    <tr>\n",
       "      <th>ng_adju</th>\n",
       "      <td>-</td>\n",
       "      <td>[0, 0]</td>\n",
       "    </tr>\n",
       "    <tr>\n",
       "      <th>ng_refs</th>\n",
       "      <td>-</td>\n",
       "      <td>[2, 5]</td>\n",
       "    </tr>\n",
       "    <tr>\n",
       "      <th>nv</th>\n",
       "      <td>-</td>\n",
       "      <td>1000</td>\n",
       "    </tr>\n",
       "    <tr>\n",
       "      <th>option_compute_btable</th>\n",
       "      <td>-</td>\n",
       "      <td>0</td>\n",
       "    </tr>\n",
       "    <tr>\n",
       "      <th>option_compute_ktable</th>\n",
       "      <td>-</td>\n",
       "      <td>0</td>\n",
       "    </tr>\n",
       "    <tr>\n",
       "      <th>option_wgt_flux</th>\n",
       "      <td>-</td>\n",
       "      <td>1</td>\n",
       "    </tr>\n",
       "    <tr>\n",
       "      <th>option_wgt_k</th>\n",
       "      <td>-</td>\n",
       "      <td>1</td>\n",
       "    </tr>\n",
       "    <tr>\n",
       "      <th>ref_pts</th>\n",
       "      <td>-</td>\n",
       "      <td>[[1, 250], [50, 250]]</td>\n",
       "    </tr>\n",
       "    <tr>\n",
       "      <th>tsfc</th>\n",
       "      <td>257</td>\n",
       "      <td>257</td>\n",
       "    </tr>\n",
       "    <tr>\n",
       "      <th>vmax</th>\n",
       "      <td>-</td>\n",
       "      <td>1100</td>\n",
       "    </tr>\n",
       "    <tr>\n",
       "      <th>vmin</th>\n",
       "      <td>-</td>\n",
       "      <td>980</td>\n",
       "    </tr>\n",
       "    <tr>\n",
       "      <th>w_diffuse</th>\n",
       "      <td>-</td>\n",
       "      <td>[[1.6, 1.75], [1.55, 1.66, 1.7, 1.75, 1.8]]</td>\n",
       "    </tr>\n",
       "    <tr>\n",
       "      <th>wgt</th>\n",
       "      <td>-</td>\n",
       "      <td>[[0.35, 0.6], [0.5, 0.55, 0.7, 0.9, 1.0]]</td>\n",
       "    </tr>\n",
       "  </tbody>\n",
       "</table>\n",
       "</div>"
      ],
      "text/plain": [
       "                              clirad-lw  \\\n",
       "                                     :D   \n",
       "atmpro                              saw   \n",
       "band                                [7]   \n",
       "commitnumber                    1013f91   \n",
       "conc                                  -   \n",
       "dv                                    -   \n",
       "klin                                  -   \n",
       "molecule               {'o3': 'atmpro'}   \n",
       "ng_adju                               -   \n",
       "ng_refs                               -   \n",
       "nv                                    -   \n",
       "option_compute_btable                 -   \n",
       "option_compute_ktable                 -   \n",
       "option_wgt_flux                       -   \n",
       "option_wgt_k                          -   \n",
       "ref_pts                               -   \n",
       "tsfc                                257   \n",
       "vmax                                  -   \n",
       "vmin                                  -   \n",
       "w_diffuse                             -   \n",
       "wgt                                   -   \n",
       "\n",
       "                                                 lblnew-bestfit lw  \n",
       "                                                          band5 o3  \n",
       "atmpro                                                         saw  \n",
       "band                                                             5  \n",
       "commitnumber                                               5014a19  \n",
       "conc                                                             -  \n",
       "dv                                                           0.001  \n",
       "klin                                                         2e-20  \n",
       "molecule                                                        o3  \n",
       "ng_adju                                                     [0, 0]  \n",
       "ng_refs                                                     [2, 5]  \n",
       "nv                                                            1000  \n",
       "option_compute_btable                                            0  \n",
       "option_compute_ktable                                            0  \n",
       "option_wgt_flux                                                  1  \n",
       "option_wgt_k                                                     1  \n",
       "ref_pts                                      [[1, 250], [50, 250]]  \n",
       "tsfc                                                           257  \n",
       "vmax                                                          1100  \n",
       "vmin                                                           980  \n",
       "w_diffuse              [[1.6, 1.75], [1.55, 1.66, 1.7, 1.75, 1.8]]  \n",
       "wgt                      [[0.35, 0.6], [0.5, 0.55, 0.7, 0.9, 1.0]]  "
      ]
     },
     "metadata": {},
     "output_type": "display_data"
    },
    {
     "data": {
      "text/html": [
       "<a id=\"Cooling_rates._saw.\"></a>"
      ],
      "text/plain": [
       "<IPython.core.display.HTML object>"
      ]
     },
     "metadata": {},
     "output_type": "display_data"
    },
    {
     "data": {
      "text/markdown": [
       "# Cooling rates. saw."
      ],
      "text/plain": [
       "<IPython.core.display.Markdown object>"
      ]
     },
     "metadata": {},
     "output_type": "display_data"
    },
    {
     "data": {
      "text/html": [
       "\n",
       "<div class=\"bk-root\">\n",
       "    <div class=\"bk-plotdiv\" id=\"cf34bd4d-c58e-4a00-aa46-1b832b70756c\"></div>\n",
       "</div>"
      ]
     },
     "metadata": {},
     "output_type": "display_data"
    },
    {
     "data": {
      "application/javascript": [
       "(function(root) {\n",
       "  function embed_document(root) {\n",
       "    \n",
       "  var docs_json = {\"dc8102c7-0808-4b51-ba12-ba938dae38c8\":{\"roots\":{\"references\":[{\"attributes\":{},\"id\":\"85349205-fb4f-4f1b-a62e-090369f57984\",\"type\":\"Selection\"},{\"attributes\":{},\"id\":\"6ee43099-4768-48b5-a10c-31281051cfe6\",\"type\":\"UnionRenderers\"},{\"attributes\":{},\"id\":\"eb751453-f132-46c7-bfeb-493530f46dba\",\"type\":\"BasicTickFormatter\"},{\"attributes\":{},\"id\":\"f5fb064f-26ef-41c3-8ccc-ae7e6638d93d\",\"type\":\"UnionRenderers\"},{\"attributes\":{\"items\":[{\"id\":\"09bb3f89-7b8b-46c4-9bb6-7b22a70fc32c\",\"type\":\"LegendItem\"},{\"id\":\"0218a07e-1327-4df6-b3ac-483d3e52169a\",\"type\":\"LegendItem\"}],\"label_text_font_size\":{\"value\":\"8pt\"},\"location\":\"top_center\",\"orientation\":\"horizontal\",\"plot\":{\"id\":\"bb017014-cf22-49d8-99c2-2c786fcf89db\",\"subtype\":\"Figure\",\"type\":\"Plot\"}},\"id\":\"e875d762-4547-42cd-8efe-0790651f4708\",\"type\":\"Legend\"},{\"attributes\":{},\"id\":\"5e426b19-bd1e-46c0-a8d7-ff1685bc3265\",\"type\":\"BasicTickFormatter\"},{\"attributes\":{},\"id\":\"c8529e73-8365-487f-8e2f-fd209b1b3682\",\"type\":\"UnionRenderers\"},{\"attributes\":{},\"id\":\"479469e5-0f56-487f-84c5-e5cbf59b80cb\",\"type\":\"Selection\"},{\"attributes\":{},\"id\":\"3a3f7a95-d0f1-4546-ac74-fc3624b2bfb8\",\"type\":\"UnionRenderers\"},{\"attributes\":{},\"id\":\"c97cb9e9-47fb-453c-bed0-05914480f1d8\",\"type\":\"Selection\"},{\"attributes\":{},\"id\":\"de71bfab-4ab3-47dd-9b06-84cf92867110\",\"type\":\"Selection\"},{\"attributes\":{\"line_alpha\":0.1,\"line_color\":\"#1f77b4\",\"line_width\":1.5,\"x\":{\"field\":\"x\"},\"y\":{\"field\":\"y\"}},\"id\":\"16c75846-2842-4ca5-a1c1-37500571feb4\",\"type\":\"Line\"},{\"attributes\":{},\"id\":\"1fb0ffca-d287-44c8-ba5d-84592ef8a17e\",\"type\":\"BasicTickFormatter\"},{\"attributes\":{\"plot\":null,\"text\":\"\"},\"id\":\"8eb1e6f7-fa7c-4d79-a49c-c1235a1b7f5b\",\"type\":\"Title\"},{\"attributes\":{\"label\":{\"value\":\"CRD\"},\"renderers\":[{\"id\":\"2d1c0dfa-6b62-4f47-a8c9-7e9ea026fe8e\",\"type\":\"GlyphRenderer\"},{\"id\":\"aad0417e-400b-4a3d-b991-d9ff3cc3aa5f\",\"type\":\"GlyphRenderer\"}]},\"id\":\"13ea164a-dd9b-443b-a5f8-0076795d385d\",\"type\":\"LegendItem\"},{\"attributes\":{\"ticker\":null},\"id\":\"bd6970f1-0929-4ee6-871a-41b03f60d73c\",\"type\":\"LogTickFormatter\"},{\"attributes\":{},\"id\":\"077efdbc-8de3-40d9-b8d3-68140b747331\",\"type\":\"UnionRenderers\"},{\"attributes\":{},\"id\":\"45b4264e-cabc-4519-addc-d2428af2e8c0\",\"type\":\"UnionRenderers\"},{\"attributes\":{},\"id\":\"2b859ffe-1e82-4c73-a74b-9c22b13afda9\",\"type\":\"UnionRenderers\"},{\"attributes\":{},\"id\":\"9bfc209f-66ca-4d93-b079-59f89780f36d\",\"type\":\"Selection\"},{\"attributes\":{\"ticker\":null},\"id\":\"80355ce9-66c3-4802-a7dd-29bea9fd862c\",\"type\":\"LogTickFormatter\"},{\"attributes\":{\"callback\":null,\"end\":0.010802069959199998,\"start\":-0.1235243860392},\"id\":\"ce1f2053-52a5-46bd-ac6d-353b6350a657\",\"type\":\"Range1d\"},{\"attributes\":{},\"id\":\"e1e993a9-28de-4d48-bb25-505a323c9ee7\",\"type\":\"Selection\"},{\"attributes\":{\"children\":[{\"id\":\"2fbe59dd-4dbf-422d-b0d6-3706e011ec33\",\"type\":\"ToolbarBox\"},{\"id\":\"6189b850-32d5-4cb1-90cc-7434ef5d993f\",\"type\":\"Column\"}]},\"id\":\"3a1c1ecb-1fc6-49cc-a2cd-1329d0fdb817\",\"type\":\"Column\"},{\"attributes\":{\"plot\":null,\"text\":\"\"},\"id\":\"154e3d79-c379-455d-960b-227d74bdbae4\",\"type\":\"Title\"},{\"attributes\":{},\"id\":\"367aa140-7713-4343-bf13-21b032b1c85c\",\"type\":\"Selection\"},{\"attributes\":{},\"id\":\"2ac4c9c6-79ff-4eb3-918b-342227482abd\",\"type\":\"UnionRenderers\"},{\"attributes\":{},\"id\":\"0f77e532-2d2f-48ab-b287-bb3f1e9b0eed\",\"type\":\"Selection\"},{\"attributes\":{\"toolbar\":{\"id\":\"caf30507-6fdd-4773-bf42-b38460bc46ad\",\"type\":\"ProxyToolbar\"},\"toolbar_location\":\"above\"},\"id\":\"2fbe59dd-4dbf-422d-b0d6-3706e011ec33\",\"type\":\"ToolbarBox\"},{\"attributes\":{},\"id\":\"3d643dba-a5d7-4354-b0ff-e246adc7acfc\",\"type\":\"BasicTicker\"},{\"attributes\":{\"tools\":[{\"id\":\"58d83da1-7305-4f65-b316-b8f066f15b84\",\"type\":\"PanTool\"},{\"id\":\"24a80982-098c-46ab-b0eb-333e1cc40398\",\"type\":\"WheelZoomTool\"},{\"id\":\"6ab8b874-cbe4-466f-8823-40366fdcc141\",\"type\":\"BoxZoomTool\"},{\"id\":\"bdb83d3f-4153-4418-9e3b-059adfda4e35\",\"type\":\"SaveTool\"},{\"id\":\"69d1f82a-673b-4fa0-bfb6-be72a0eb9bc4\",\"type\":\"ResetTool\"},{\"id\":\"3767f205-8328-4a01-a177-b1bc27e70fde\",\"type\":\"HelpTool\"},{\"id\":\"2728227a-eab5-4681-a4e5-f9689cacf21c\",\"type\":\"PanTool\"},{\"id\":\"1750a243-42d2-4a2a-a113-3fba02f5655c\",\"type\":\"WheelZoomTool\"},{\"id\":\"7281940f-3835-4841-8eb4-32f05022cfd6\",\"type\":\"BoxZoomTool\"},{\"id\":\"f8634502-532b-4fcc-a54d-e9e0ff15e174\",\"type\":\"SaveTool\"},{\"id\":\"02b504cf-38c9-44a2-a8aa-9eda87808d33\",\"type\":\"ResetTool\"},{\"id\":\"502ddace-f13c-47a4-bfa0-dec50e12abf3\",\"type\":\"HelpTool\"},{\"id\":\"1ce5492b-bd05-4787-82af-c4b00009383c\",\"type\":\"PanTool\"},{\"id\":\"ede4c660-9cc8-4d6e-8fa2-3f7c26093e71\",\"type\":\"WheelZoomTool\"},{\"id\":\"217a40e0-e503-4f81-94b6-2f9c3359ac56\",\"type\":\"BoxZoomTool\"},{\"id\":\"845a114f-d6dd-48f0-bed1-eac85ddf73b2\",\"type\":\"SaveTool\"},{\"id\":\"f4569a6d-5809-4acc-adee-331f91fe5390\",\"type\":\"ResetTool\"},{\"id\":\"097ac57f-6d25-4518-80a7-fb3b78df7a9f\",\"type\":\"HelpTool\"}]},\"id\":\"caf30507-6fdd-4773-bf42-b38460bc46ad\",\"type\":\"ProxyToolbar\"},{\"attributes\":{\"axis_label\":\"cooling rate [K/day]\",\"formatter\":{\"id\":\"47d47986-6604-497a-97e3-be9938652315\",\"type\":\"BasicTickFormatter\"},\"plot\":{\"id\":\"a26e2e99-74f7-4ef4-a056-bbe369be0488\",\"subtype\":\"Figure\",\"type\":\"Plot\"},\"ticker\":{\"id\":\"3d643dba-a5d7-4354-b0ff-e246adc7acfc\",\"type\":\"BasicTicker\"}},\"id\":\"7a4b7d41-16d0-4f24-bdba-6ca0a8d2db43\",\"type\":\"LinearAxis\"},{\"attributes\":{\"above\":[{\"id\":\"e875d762-4547-42cd-8efe-0790651f4708\",\"type\":\"Legend\"}],\"below\":[{\"id\":\"7c0fb502-306f-487c-ae6b-95f6cd2bdfa1\",\"type\":\"LinearAxis\"}],\"left\":[{\"id\":\"c2b12b1b-ae31-4653-a142-79cbd9b0a58d\",\"type\":\"LogAxis\"}],\"plot_width\":300,\"renderers\":[{\"id\":\"7c0fb502-306f-487c-ae6b-95f6cd2bdfa1\",\"type\":\"LinearAxis\"},{\"id\":\"e54d0e94-02a1-4c09-bd77-aa2233830f56\",\"type\":\"Grid\"},{\"id\":\"c2b12b1b-ae31-4653-a142-79cbd9b0a58d\",\"type\":\"LogAxis\"},{\"id\":\"6e4b1c30-357f-4ba6-86c5-3a996416a2df\",\"type\":\"Grid\"},{\"id\":\"47582773-3e39-4472-ac33-b474960dd6ac\",\"type\":\"BoxAnnotation\"},{\"id\":\"a15cd033-dca2-415b-b7df-b4c144d3baa2\",\"type\":\"GlyphRenderer\"},{\"id\":\"a3964833-78b5-4ce1-8047-b8046c026c56\",\"type\":\"GlyphRenderer\"},{\"id\":\"9a4c6c6e-5a28-46d9-94c6-cc928a368266\",\"type\":\"GlyphRenderer\"},{\"id\":\"e875d762-4547-42cd-8efe-0790651f4708\",\"type\":\"Legend\"}],\"title\":{\"id\":\"8eb1e6f7-fa7c-4d79-a49c-c1235a1b7f5b\",\"type\":\"Title\"},\"toolbar\":{\"id\":\"35f92717-d837-48f2-8961-8bbcd019923e\",\"type\":\"Toolbar\"},\"toolbar_location\":null,\"x_range\":{\"id\":\"618612a1-4385-486f-93af-24440ca37151\",\"type\":\"Range1d\"},\"x_scale\":{\"id\":\"1ed064b0-114c-4a36-8e2f-b46cef5b9604\",\"type\":\"LinearScale\"},\"y_range\":{\"id\":\"db15c2b8-921b-4161-a36a-f6858a3c9bf3\",\"type\":\"Range1d\"},\"y_scale\":{\"id\":\"aed582b0-c4e1-491f-a115-90176b0e611b\",\"type\":\"LogScale\"}},\"id\":\"bb017014-cf22-49d8-99c2-2c786fcf89db\",\"subtype\":\"Figure\",\"type\":\"Plot\"},{\"attributes\":{\"children\":[{\"id\":\"a26e2e99-74f7-4ef4-a056-bbe369be0488\",\"subtype\":\"Figure\",\"type\":\"Plot\"},{\"id\":\"bb017014-cf22-49d8-99c2-2c786fcf89db\",\"subtype\":\"Figure\",\"type\":\"Plot\"},{\"id\":\"52e6899f-a609-4a7e-97a8-80d390f3cf5d\",\"subtype\":\"Figure\",\"type\":\"Plot\"}]},\"id\":\"9ec87b3f-e878-4c95-a7b6-0277dd32d7e4\",\"type\":\"Row\"},{\"attributes\":{\"label\":{\"value\":\"CLIRAD\"},\"renderers\":[{\"id\":\"d975f00c-bd12-4978-a212-8f19cd44ced7\",\"type\":\"GlyphRenderer\"}]},\"id\":\"29ded629-6899-43ff-a071-6933c05f6fb6\",\"type\":\"LegendItem\"},{\"attributes\":{\"active_drag\":\"auto\",\"active_inspect\":\"auto\",\"active_scroll\":\"auto\",\"active_tap\":\"auto\",\"tools\":[{\"id\":\"2728227a-eab5-4681-a4e5-f9689cacf21c\",\"type\":\"PanTool\"},{\"id\":\"1750a243-42d2-4a2a-a113-3fba02f5655c\",\"type\":\"WheelZoomTool\"},{\"id\":\"7281940f-3835-4841-8eb4-32f05022cfd6\",\"type\":\"BoxZoomTool\"},{\"id\":\"f8634502-532b-4fcc-a54d-e9e0ff15e174\",\"type\":\"SaveTool\"},{\"id\":\"02b504cf-38c9-44a2-a8aa-9eda87808d33\",\"type\":\"ResetTool\"},{\"id\":\"502ddace-f13c-47a4-bfa0-dec50e12abf3\",\"type\":\"HelpTool\"}]},\"id\":\"35f92717-d837-48f2-8961-8bbcd019923e\",\"type\":\"Toolbar\"},{\"attributes\":{\"items\":[{\"id\":\"29ded629-6899-43ff-a071-6933c05f6fb6\",\"type\":\"LegendItem\"},{\"id\":\"13ea164a-dd9b-443b-a5f8-0076795d385d\",\"type\":\"LegendItem\"}],\"label_text_font_size\":{\"value\":\"8pt\"},\"location\":\"top_center\",\"orientation\":\"horizontal\",\"plot\":{\"id\":\"a26e2e99-74f7-4ef4-a056-bbe369be0488\",\"subtype\":\"Figure\",\"type\":\"Plot\"}},\"id\":\"3b7aeff1-f912-44bc-86e5-bc40c72a7cf0\",\"type\":\"Legend\"},{\"attributes\":{\"source\":{\"id\":\"8d87ad07-0bca-44d9-b79e-d8c04f256f4b\",\"type\":\"ColumnDataSource\"}},\"id\":\"19199e68-63dd-47e0-bfcd-c1a273ecddc5\",\"type\":\"CDSView\"},{\"attributes\":{\"callback\":null,\"end\":0.01,\"start\":1020},\"id\":\"2b32feaa-b5a8-4b1c-b1f1-8e571ef56dfe\",\"type\":\"Range1d\"},{\"attributes\":{},\"id\":\"117dd66f-b7fb-4e83-abbc-0795bf7306c1\",\"type\":\"LinearScale\"},{\"attributes\":{},\"id\":\"997406ed-3d7d-4c3c-946f-29c895773f3a\",\"type\":\"LinearScale\"},{\"attributes\":{\"active_drag\":\"auto\",\"active_inspect\":\"auto\",\"active_scroll\":\"auto\",\"active_tap\":\"auto\",\"tools\":[{\"id\":\"58d83da1-7305-4f65-b316-b8f066f15b84\",\"type\":\"PanTool\"},{\"id\":\"24a80982-098c-46ab-b0eb-333e1cc40398\",\"type\":\"WheelZoomTool\"},{\"id\":\"6ab8b874-cbe4-466f-8823-40366fdcc141\",\"type\":\"BoxZoomTool\"},{\"id\":\"bdb83d3f-4153-4418-9e3b-059adfda4e35\",\"type\":\"SaveTool\"},{\"id\":\"69d1f82a-673b-4fa0-bfb6-be72a0eb9bc4\",\"type\":\"ResetTool\"},{\"id\":\"3767f205-8328-4a01-a177-b1bc27e70fde\",\"type\":\"HelpTool\"}]},\"id\":\"ee02f038-26fb-4828-bad0-00bc461c1b0c\",\"type\":\"Toolbar\"},{\"attributes\":{\"callback\":null,\"end\":0.01,\"start\":1020},\"id\":\"db15c2b8-921b-4161-a36a-f6858a3c9bf3\",\"type\":\"Range1d\"},{\"attributes\":{},\"id\":\"3767f205-8328-4a01-a177-b1bc27e70fde\",\"type\":\"HelpTool\"},{\"attributes\":{},\"id\":\"fc5590a3-bf98-4a13-a400-955b35412cfb\",\"type\":\"LinearScale\"},{\"attributes\":{\"callback\":null,\"data\":{\"x\":{\"__ndarray__\":\"5MFnAn3WkL/q6NRvCFCRv6BD1NUBNpC/JoTjOShPh7/JQYYf7rtpv55klnn+P4M/S2j981Vumz9Ybu1tyHmpP6H8hIMiNbQ/lb6MOTp0vT+JvnEIC13EP/rCOysvGss/VOkfK5WD0T8x7FE05qDXPyAc/XlkfeA/KzaDSwkZ5j/Xx56YUFzsP/hfnRmzm/E/FNPgEXBD9T8awFsgQRH5P2WNeohGt/w/Sqwxjctd/j/Q+M/krLn6P4G+iBEdffQ/tPbrDFvs7T9HnW/6adLkP9tVQIgB3ts/6FSux68l0z8iGGrBSaLNP6j3XL/D4cY/DQQazxR4wD+oubSY2n2zP3aL9UqvhqU/nBHBEvHRmD8+hBBPOPRkv88RfWdJuqK/c6/0I0Njsb+NhoTWYG23vzwl7zVn8bu/bfgG9PxIv79hh7UhlDG+v2ah3+/+Fbq/7RbrlV4Ntr8icyM0m6qxv5fAblc2E6u/xWqv4q0jo78EBJ50VbKZv7voCDkfOZK/XecoBbLeib8oZvIKmk+Bv+I5L5vmAHW/F7QO25bAZr/iFaxkDBtRv/Cp+gjq6D4/54VErbPZXT9YwCjrNcloP70HTMVdtHA/zq6rZChwdD+lZI4tWKZ3PxhUmfZNWXo/kH1onfN+fD+Wzy9XsUJ+P3x/Jc4Iun8/oXMDMcxqgD9FUNlSftCAP3teTNe1NIE/gAR+A8WegT/iZkE8HOqBP0KFR3ze/YE/NaWsTw/LgT+Mnxbg00WBP7l1l8GhgoA/258NdeZCfz920CSuNW19P0CJHXbwpns/\",\"dtype\":\"float64\",\"shape\":[75]},\"y\":{\"__ndarray__\":\"GhExyth1ND/Sv8nbtpRIP2vylNV0PVE/aTum7souWD/At0SJ8fVgPw3Iuahxymc/MSNhhJWvcD/bTfBN02d3P2zb5nxnaoA/CD5h5MAGhz8NmeH1TyaQP+zrCsc9p5Y/LbKd76fGnz/bLW5ISEmmPww9YvTcQq8/JV2OstnstT8Er5Y7M8G+P0c+r3jqkcU/5h99k6ZBzj88bCIzFzjVP4enV8oyxN0//yH99nXg5D8qOpLLf0jtP5kqGJXUifQ/c9cS8kHP/D+/DpwzojQEQIEmwoanVwxA4lgXt9HgE0BSSZ2AJuIbQAMJih9jjiNA5q4l5INuK0AwTKYKRj0zQNv5fmq8/DpAaCJseHrtQkB/+zpwzoxKQM3MzMzMeFJAZmZmZmZqWEAAAAAAAFxeQM3MzMzMJmJAmpmZmZkfZUBmZmZmZhhoQDMzMzMzEWtAAAAAAAAKbkBmZmZmZoFwQM3MzMzM/XFAMzMzMzN6c0CamZmZmfZ0QAAAAAAAc3ZAZmZmZmbvd0DNzMzMzGt5QDMzMzMz6HpAmpmZmZlkfEAAAAAAAOF9QGZmZmZmXX9AZmZmZuZsgECamZmZGSuBQM3MzMxM6YFAAAAAAICngkAzMzMzs2WDQGZmZmbmI4RAmpmZmRnihEDNzMzMTKCFQAAAAACAXoZAMzMzM7Mch0BmZmZm5tqHQJqZmZkZmYhAzczMzExXiUAAAAAAgBWKQDMzMzOz04pAZmZmZuaRi0CamZmZGVCMQM3MzMxMDo1AAAAAAIDMjUAzMzMzs4qOQGZmZmbmSI9A\",\"dtype\":\"float64\",\"shape\":[75]}},\"selected\":{\"id\":\"479469e5-0f56-487f-84c5-e5cbf59b80cb\",\"type\":\"Selection\"},\"selection_policy\":{\"id\":\"077efdbc-8de3-40d9-b8d3-68140b747331\",\"type\":\"UnionRenderers\"}},\"id\":\"32355784-e680-4f67-af58-6ae1296660d8\",\"type\":\"ColumnDataSource\"},{\"attributes\":{\"line_color\":\"#4daf4a\",\"line_width\":1.5,\"x\":{\"field\":\"x\"},\"y\":{\"field\":\"y\"}},\"id\":\"6db752b4-769a-4b8d-87ba-aae1f3f08d7f\",\"type\":\"Line\"},{\"attributes\":{\"line_color\":\"#4daf4a\",\"line_width\":1.5,\"x\":{\"field\":\"x\"},\"y\":{\"field\":\"y\"}},\"id\":\"20305ed2-4673-439b-baf9-5d2b966b4092\",\"type\":\"Line\"},{\"attributes\":{\"source\":{\"id\":\"51d5bfef-9741-454e-81fe-69728b6e9d21\",\"type\":\"ColumnDataSource\"}},\"id\":\"29f17bff-2f31-462d-bd8b-107c3a2fbb8b\",\"type\":\"CDSView\"},{\"attributes\":{},\"id\":\"aed582b0-c4e1-491f-a115-90176b0e611b\",\"type\":\"LogScale\"},{\"attributes\":{\"source\":{\"id\":\"9b9a844e-badf-43fe-a24c-c98534161a9d\",\"type\":\"ColumnDataSource\"}},\"id\":\"b764becf-bbe4-4a2b-920d-f2e20da024ee\",\"type\":\"CDSView\"},{\"attributes\":{\"data_source\":{\"id\":\"51d5bfef-9741-454e-81fe-69728b6e9d21\",\"type\":\"ColumnDataSource\"},\"glyph\":{\"id\":\"6db752b4-769a-4b8d-87ba-aae1f3f08d7f\",\"type\":\"Line\"},\"hover_glyph\":null,\"muted_glyph\":null,\"nonselection_glyph\":{\"id\":\"4b4d2509-1805-4a18-86f1-833f87417392\",\"type\":\"Line\"},\"selection_glyph\":null,\"view\":{\"id\":\"29f17bff-2f31-462d-bd8b-107c3a2fbb8b\",\"type\":\"CDSView\"}},\"id\":\"9a4c6c6e-5a28-46d9-94c6-cc928a368266\",\"type\":\"GlyphRenderer\"},{\"attributes\":{\"line_alpha\":0.1,\"line_color\":\"#1f77b4\",\"line_width\":1.5,\"x\":{\"field\":\"x\"},\"y\":{\"field\":\"y\"}},\"id\":\"a80f6620-8c5e-4e25-a43c-d3fb578bc93c\",\"type\":\"Line\"},{\"attributes\":{\"callback\":null,\"data\":{\"x\":{\"__ndarray__\":\"iuvwqr0Nnb9oqXVFhJmevzOhVj2KiZ6/yDIj8CDAmb+BlIq3tVSPvx6dq74IXzs/Vs1r8HpPlz/Up3sTX+iqP0S3omwyMbc/u0XVcMebwT9iL4Xg4ObIP+4cYra/x9A/LwNW1svS1T+isMNMZnLdP79BX6DCZuQ/cpLTh4j06j9atr97k/PwP6cSVEPRgvQ/0u1k8RQK+D8HQ6sA0Hr7PzdfxPUqtf4/rIUfvV12/z+UK4fZdYb6P9suZ8gO+PM/9IVynaSb7T/iUJWalrnkP8cMWKNzNts/LY7fc+Uw0j+X9J7jT+/KP5hE5TrgLsQ/ij1c/PKsvD9qn3YWXa6wP4h9wXm4bqI/FuUSbGFZlz8wL2pJ79tQv0zkCXxfDKC/vsbCBc4+rb++txSZ+m6zv96LVzTwN7e/xxvPXvNuur/V4G9PJmK6vzhWWQgo1be/DgwwFZoptb+dfetoeNGxvxAey42ylqy/56yPwo7qpL9QzgsIkbKcv8qCOPiKupS/UK342u0Pjr/6i/gjYquEvzAvTo12C3q/9G/17Ggrbr9Tc3gD2Ftcv+BBv0ZEcfW+WMvnzXC7WD+SKJJQpI5nP6cMmdLgr3A/PZqya47ydD9iKsALDqF4PzWywenWtXs/qcODmi8vfj+UjFXGPhyAP5IK+gKn9IA/uRiLQjiZgT+i3uGL0BCCP45Cal5dhYI/x1OMfCn/gj8ewWHvq1WDP8JZeXfybIM/Ao3whqAsgz9WY34ZLoqCP1mQdEgvnoE/8orpg1qMgD86UK0EDOV+P54q5Zy3wHw/\",\"dtype\":\"float64\",\"shape\":[75]},\"y\":{\"__ndarray__\":\"GhExyth1ND/Sv8nbtpRIP2vylNV0PVE/aTum7souWD/At0SJ8fVgPw3Iuahxymc/MSNhhJWvcD/bTfBN02d3P2zb5nxnaoA/CD5h5MAGhz8NmeH1TyaQP+zrCsc9p5Y/LbKd76fGnz/bLW5ISEmmPww9YvTcQq8/JV2OstnstT8Er5Y7M8G+P0c+r3jqkcU/5h99k6ZBzj88bCIzFzjVP4enV8oyxN0//yH99nXg5D8qOpLLf0jtP5kqGJXUifQ/c9cS8kHP/D+/DpwzojQEQIEmwoanVwxA4lgXt9HgE0BSSZ2AJuIbQAMJih9jjiNA5q4l5INuK0AwTKYKRj0zQNv5fmq8/DpAaCJseHrtQkB/+zpwzoxKQM3MzMzMeFJAZmZmZmZqWEAAAAAAAFxeQM3MzMzMJmJAmpmZmZkfZUBmZmZmZhhoQDMzMzMzEWtAAAAAAAAKbkBmZmZmZoFwQM3MzMzM/XFAMzMzMzN6c0CamZmZmfZ0QAAAAAAAc3ZAZmZmZmbvd0DNzMzMzGt5QDMzMzMz6HpAmpmZmZlkfEAAAAAAAOF9QGZmZmZmXX9AZmZmZuZsgECamZmZGSuBQM3MzMxM6YFAAAAAAICngkAzMzMzs2WDQGZmZmbmI4RAmpmZmRnihEDNzMzMTKCFQAAAAACAXoZAMzMzM7Mch0BmZmZm5tqHQJqZmZkZmYhAzczMzExXiUAAAAAAgBWKQDMzMzOz04pAZmZmZuaRi0CamZmZGVCMQM3MzMxMDo1AAAAAAIDMjUAzMzMzs4qOQGZmZmbmSI9A\",\"dtype\":\"float64\",\"shape\":[75]}},\"selected\":{\"id\":\"c97cb9e9-47fb-453c-bed0-05914480f1d8\",\"type\":\"Selection\"},\"selection_policy\":{\"id\":\"c8529e73-8365-487f-8e2f-fd209b1b3682\",\"type\":\"UnionRenderers\"}},\"id\":\"9b9a844e-badf-43fe-a24c-c98534161a9d\",\"type\":\"ColumnDataSource\"},{\"attributes\":{\"source\":{\"id\":\"526940f1-10c5-4ca0-a1bc-c6bb23beb8df\",\"type\":\"ColumnDataSource\"}},\"id\":\"af605d14-7b02-4272-838b-3fb14e2de323\",\"type\":\"CDSView\"},{\"attributes\":{\"axis_label\":\"pressure [mb]\",\"formatter\":{\"id\":\"eb751453-f132-46c7-bfeb-493530f46dba\",\"type\":\"BasicTickFormatter\"},\"plot\":{\"id\":\"a26e2e99-74f7-4ef4-a056-bbe369be0488\",\"subtype\":\"Figure\",\"type\":\"Plot\"},\"ticker\":{\"id\":\"174ea3ed-4274-425e-9a34-9c7e17397aef\",\"type\":\"BasicTicker\"}},\"id\":\"d047fb52-a689-46cb-a355-b9798f126669\",\"type\":\"LinearAxis\"},{\"attributes\":{\"source\":{\"id\":\"0ac019ca-a5e1-40b4-9b2e-eff77a200d13\",\"type\":\"ColumnDataSource\"}},\"id\":\"28c571fb-1f9e-4f69-b83a-013fe4068ff5\",\"type\":\"CDSView\"},{\"attributes\":{\"callback\":null,\"data\":{\"x\":{\"__ndarray__\":\"iuvwqr0Nnb9oqXVFhJmevzOhVj2KiZ6/yDIj8CDAmb+BlIq3tVSPvx6dq74IXzs/Vs1r8HpPlz/Up3sTX+iqP0S3omwyMbc/u0XVcMebwT9iL4Xg4ObIP+4cYra/x9A/LwNW1svS1T+isMNMZnLdP79BX6DCZuQ/cpLTh4j06j9atr97k/PwP6cSVEPRgvQ/0u1k8RQK+D8HQ6sA0Hr7PzdfxPUqtf4/rIUfvV12/z+UK4fZdYb6P9suZ8gO+PM/9IVynaSb7T/iUJWalrnkP8cMWKNzNts/LY7fc+Uw0j+X9J7jT+/KP5hE5TrgLsQ/ij1c/PKsvD9qn3YWXa6wP4h9wXm4bqI/FuUSbGFZlz8wL2pJ79tQv0zkCXxfDKC/vsbCBc4+rb++txSZ+m6zv96LVzTwN7e/xxvPXvNuur/V4G9PJmK6vzhWWQgo1be/DgwwFZoptb+dfetoeNGxvxAey42ylqy/56yPwo7qpL9QzgsIkbKcv8qCOPiKupS/UK342u0Pjr/6i/gjYquEvzAvTo12C3q/9G/17Ggrbr9Tc3gD2Ftcv+BBv0ZEcfW+WMvnzXC7WD+SKJJQpI5nP6cMmdLgr3A/PZqya47ydD9iKsALDqF4PzWywenWtXs/qcODmi8vfj+UjFXGPhyAP5IK+gKn9IA/uRiLQjiZgT+i3uGL0BCCP45Cal5dhYI/x1OMfCn/gj8ewWHvq1WDP8JZeXfybIM/Ao3whqAsgz9WY34ZLoqCP1mQdEgvnoE/8orpg1qMgD86UK0EDOV+P54q5Zy3wHw/\",\"dtype\":\"float64\",\"shape\":[75]},\"y\":{\"__ndarray__\":\"GhExyth1ND/Sv8nbtpRIP2vylNV0PVE/aTum7souWD/At0SJ8fVgPw3Iuahxymc/MSNhhJWvcD/bTfBN02d3P2zb5nxnaoA/CD5h5MAGhz8NmeH1TyaQP+zrCsc9p5Y/LbKd76fGnz/bLW5ISEmmPww9YvTcQq8/JV2OstnstT8Er5Y7M8G+P0c+r3jqkcU/5h99k6ZBzj88bCIzFzjVP4enV8oyxN0//yH99nXg5D8qOpLLf0jtP5kqGJXUifQ/c9cS8kHP/D+/DpwzojQEQIEmwoanVwxA4lgXt9HgE0BSSZ2AJuIbQAMJih9jjiNA5q4l5INuK0AwTKYKRj0zQNv5fmq8/DpAaCJseHrtQkB/+zpwzoxKQM3MzMzMeFJAZmZmZmZqWEAAAAAAAFxeQM3MzMzMJmJAmpmZmZkfZUBmZmZmZhhoQDMzMzMzEWtAAAAAAAAKbkBmZmZmZoFwQM3MzMzM/XFAMzMzMzN6c0CamZmZmfZ0QAAAAAAAc3ZAZmZmZmbvd0DNzMzMzGt5QDMzMzMz6HpAmpmZmZlkfEAAAAAAAOF9QGZmZmZmXX9AZmZmZuZsgECamZmZGSuBQM3MzMxM6YFAAAAAAICngkAzMzMzs2WDQGZmZmbmI4RAmpmZmRnihEDNzMzMTKCFQAAAAACAXoZAMzMzM7Mch0BmZmZm5tqHQJqZmZkZmYhAzczMzExXiUAAAAAAgBWKQDMzMzOz04pAZmZmZuaRi0CamZmZGVCMQM3MzMxMDo1AAAAAAIDMjUAzMzMzs4qOQGZmZmbmSI9A\",\"dtype\":\"float64\",\"shape\":[75]}},\"selected\":{\"id\":\"e1e993a9-28de-4d48-bb25-505a323c9ee7\",\"type\":\"Selection\"},\"selection_policy\":{\"id\":\"45b4264e-cabc-4519-addc-d2428af2e8c0\",\"type\":\"UnionRenderers\"}},\"id\":\"51d5bfef-9741-454e-81fe-69728b6e9d21\",\"type\":\"ColumnDataSource\"},{\"attributes\":{\"label\":{\"value\":\"CLIRAD\"},\"renderers\":[{\"id\":\"a15cd033-dca2-415b-b7df-b4c144d3baa2\",\"type\":\"GlyphRenderer\"}]},\"id\":\"09bb3f89-7b8b-46c4-9bb6-7b22a70fc32c\",\"type\":\"LegendItem\"},{\"attributes\":{\"line_alpha\":0.1,\"line_color\":\"#1f77b4\",\"line_width\":1.5,\"x\":{\"field\":\"x\"},\"y\":{\"field\":\"y\"}},\"id\":\"4b4d2509-1805-4a18-86f1-833f87417392\",\"type\":\"Line\"},{\"attributes\":{},\"id\":\"174ea3ed-4274-425e-9a34-9c7e17397aef\",\"type\":\"BasicTicker\"},{\"attributes\":{\"label\":{\"value\":\"CRD\"},\"renderers\":[{\"id\":\"a3964833-78b5-4ce1-8047-b8046c026c56\",\"type\":\"GlyphRenderer\"},{\"id\":\"9a4c6c6e-5a28-46d9-94c6-cc928a368266\",\"type\":\"GlyphRenderer\"}]},\"id\":\"0218a07e-1327-4df6-b3ac-483d3e52169a\",\"type\":\"LegendItem\"},{\"attributes\":{},\"id\":\"1750a243-42d2-4a2a-a113-3fba02f5655c\",\"type\":\"WheelZoomTool\"},{\"attributes\":{\"fill_alpha\":{\"value\":0.7},\"fill_color\":{\"value\":\"#4daf4a\"},\"line_alpha\":{\"value\":0.7},\"line_color\":{\"value\":\"#4daf4a\"},\"x\":{\"field\":\"x\"},\"y\":{\"field\":\"y\"}},\"id\":\"0ce15939-62db-4e0f-ad8c-d89fa763c302\",\"type\":\"Circle\"},{\"attributes\":{\"bottom_units\":\"screen\",\"fill_alpha\":{\"value\":0.5},\"fill_color\":{\"value\":\"lightgrey\"},\"left_units\":\"screen\",\"level\":\"overlay\",\"line_alpha\":{\"value\":1.0},\"line_color\":{\"value\":\"black\"},\"line_dash\":[4,4],\"line_width\":{\"value\":2},\"plot\":null,\"render_mode\":\"css\",\"right_units\":\"screen\",\"top_units\":\"screen\"},\"id\":\"47582773-3e39-4472-ac33-b474960dd6ac\",\"type\":\"BoxAnnotation\"},{\"attributes\":{\"callback\":null,\"data\":{\"x\":{\"__ndarray__\":\"iuvwqr0Nnb9oqXVFhJmevzOhVj2KiZ6/yDIj8CDAmb+BlIq3tVSPvx6dq74IXzs/Vs1r8HpPlz/Up3sTX+iqP0S3omwyMbc/u0XVcMebwT9iL4Xg4ObIP+4cYra/x9A/LwNW1svS1T+isMNMZnLdP79BX6DCZuQ/cpLTh4j06j9atr97k/PwP6cSVEPRgvQ/0u1k8RQK+D8HQ6sA0Hr7PzdfxPUqtf4/rIUfvV12/z+UK4fZdYb6P9suZ8gO+PM/9IVynaSb7T/iUJWalrnkP8cMWKNzNts/LY7fc+Uw0j+X9J7jT+/KP5hE5TrgLsQ/ij1c/PKsvD9qn3YWXa6wP4h9wXm4bqI/FuUSbGFZlz8wL2pJ79tQv0zkCXxfDKC/vsbCBc4+rb++txSZ+m6zv96LVzTwN7e/xxvPXvNuur/V4G9PJmK6vzhWWQgo1be/DgwwFZoptb+dfetoeNGxvxAey42ylqy/56yPwo7qpL9QzgsIkbKcv8qCOPiKupS/UK342u0Pjr/6i/gjYquEvzAvTo12C3q/9G/17Ggrbr9Tc3gD2Ftcv+BBv0ZEcfW+WMvnzXC7WD+SKJJQpI5nP6cMmdLgr3A/PZqya47ydD9iKsALDqF4PzWywenWtXs/qcODmi8vfj+UjFXGPhyAP5IK+gKn9IA/uRiLQjiZgT+i3uGL0BCCP45Cal5dhYI/x1OMfCn/gj8ewWHvq1WDP8JZeXfybIM/Ao3whqAsgz9WY34ZLoqCP1mQdEgvnoE/8orpg1qMgD86UK0EDOV+P54q5Zy3wHw/\",\"dtype\":\"float64\",\"shape\":[75]},\"y\":{\"__ndarray__\":\"GhExyth1ND/Sv8nbtpRIP2vylNV0PVE/aTum7souWD/At0SJ8fVgPw3Iuahxymc/MSNhhJWvcD/bTfBN02d3P2zb5nxnaoA/CD5h5MAGhz8NmeH1TyaQP+zrCsc9p5Y/LbKd76fGnz/bLW5ISEmmPww9YvTcQq8/JV2OstnstT8Er5Y7M8G+P0c+r3jqkcU/5h99k6ZBzj88bCIzFzjVP4enV8oyxN0//yH99nXg5D8qOpLLf0jtP5kqGJXUifQ/c9cS8kHP/D+/DpwzojQEQIEmwoanVwxA4lgXt9HgE0BSSZ2AJuIbQAMJih9jjiNA5q4l5INuK0AwTKYKRj0zQNv5fmq8/DpAaCJseHrtQkB/+zpwzoxKQM3MzMzMeFJAZmZmZmZqWEAAAAAAAFxeQM3MzMzMJmJAmpmZmZkfZUBmZmZmZhhoQDMzMzMzEWtAAAAAAAAKbkBmZmZmZoFwQM3MzMzM/XFAMzMzMzN6c0CamZmZmfZ0QAAAAAAAc3ZAZmZmZmbvd0DNzMzMzGt5QDMzMzMz6HpAmpmZmZlkfEAAAAAAAOF9QGZmZmZmXX9AZmZmZuZsgECamZmZGSuBQM3MzMxM6YFAAAAAAICngkAzMzMzs2WDQGZmZmbmI4RAmpmZmRnihEDNzMzMTKCFQAAAAACAXoZAMzMzM7Mch0BmZmZm5tqHQJqZmZkZmYhAzczMzExXiUAAAAAAgBWKQDMzMzOz04pAZmZmZuaRi0CamZmZGVCMQM3MzMxMDo1AAAAAAIDMjUAzMzMzs4qOQGZmZmbmSI9A\",\"dtype\":\"float64\",\"shape\":[75]}},\"selected\":{\"id\":\"de71bfab-4ab3-47dd-9b06-84cf92867110\",\"type\":\"Selection\"},\"selection_policy\":{\"id\":\"f5fb064f-26ef-41c3-8ccc-ae7e6638d93d\",\"type\":\"UnionRenderers\"}},\"id\":\"0ac019ca-a5e1-40b4-9b2e-eff77a200d13\",\"type\":\"ColumnDataSource\"},{\"attributes\":{\"fill_alpha\":{\"value\":0.1},\"fill_color\":{\"value\":\"#1f77b4\"},\"line_alpha\":{\"value\":0.1},\"line_color\":{\"value\":\"#1f77b4\"},\"x\":{\"field\":\"x\"},\"y\":{\"field\":\"y\"}},\"id\":\"33296afc-be71-48aa-bed0-3bd3ddeb31d5\",\"type\":\"Circle\"},{\"attributes\":{\"data_source\":{\"id\":\"9b9a844e-badf-43fe-a24c-c98534161a9d\",\"type\":\"ColumnDataSource\"},\"glyph\":{\"id\":\"0ce15939-62db-4e0f-ad8c-d89fa763c302\",\"type\":\"Circle\"},\"hover_glyph\":null,\"muted_glyph\":null,\"nonselection_glyph\":{\"id\":\"017dc22b-81da-431e-843e-b680e9abed40\",\"type\":\"Circle\"},\"selection_glyph\":null,\"view\":{\"id\":\"b764becf-bbe4-4a2b-920d-f2e20da024ee\",\"type\":\"CDSView\"}},\"id\":\"2d1c0dfa-6b62-4f47-a8c9-7e9ea026fe8e\",\"type\":\"GlyphRenderer\"},{\"attributes\":{\"line_alpha\":0.8,\"line_color\":\"#984ea3\",\"line_width\":1.5,\"x\":{\"field\":\"x\"},\"y\":{\"field\":\"y\"}},\"id\":\"42283f6d-673f-4743-b397-84d494c54557\",\"type\":\"Line\"},{\"attributes\":{},\"id\":\"24a80982-098c-46ab-b0eb-333e1cc40398\",\"type\":\"WheelZoomTool\"},{\"attributes\":{\"fill_alpha\":{\"value\":0.1},\"fill_color\":{\"value\":\"#1f77b4\"},\"line_alpha\":{\"value\":0.1},\"line_color\":{\"value\":\"#1f77b4\"},\"x\":{\"field\":\"x\"},\"y\":{\"field\":\"y\"}},\"id\":\"017dc22b-81da-431e-843e-b680e9abed40\",\"type\":\"Circle\"},{\"attributes\":{\"line_alpha\":0.1,\"line_color\":\"#1f77b4\",\"line_dash\":[6],\"line_width\":5,\"x\":{\"field\":\"x\"},\"y\":{\"field\":\"y\"}},\"id\":\"13eb215e-0673-4bde-8db7-d57b6fac0108\",\"type\":\"Line\"},{\"attributes\":{},\"id\":\"2728227a-eab5-4681-a4e5-f9689cacf21c\",\"type\":\"PanTool\"},{\"attributes\":{\"bottom_units\":\"screen\",\"fill_alpha\":{\"value\":0.5},\"fill_color\":{\"value\":\"lightgrey\"},\"left_units\":\"screen\",\"level\":\"overlay\",\"line_alpha\":{\"value\":1.0},\"line_color\":{\"value\":\"black\"},\"line_dash\":[4,4],\"line_width\":{\"value\":2},\"plot\":null,\"render_mode\":\"css\",\"right_units\":\"screen\",\"top_units\":\"screen\"},\"id\":\"68b4bf32-2350-4763-b0e3-12aaaa3a0c03\",\"type\":\"BoxAnnotation\"},{\"attributes\":{\"data_source\":{\"id\":\"0ac019ca-a5e1-40b4-9b2e-eff77a200d13\",\"type\":\"ColumnDataSource\"},\"glyph\":{\"id\":\"20305ed2-4673-439b-baf9-5d2b966b4092\",\"type\":\"Line\"},\"hover_glyph\":null,\"muted_glyph\":null,\"nonselection_glyph\":{\"id\":\"a80f6620-8c5e-4e25-a43c-d3fb578bc93c\",\"type\":\"Line\"},\"selection_glyph\":null,\"view\":{\"id\":\"28c571fb-1f9e-4f69-b83a-013fe4068ff5\",\"type\":\"CDSView\"}},\"id\":\"aad0417e-400b-4a3d-b991-d9ff3cc3aa5f\",\"type\":\"GlyphRenderer\"},{\"attributes\":{\"overlay\":{\"id\":\"47582773-3e39-4472-ac33-b474960dd6ac\",\"type\":\"BoxAnnotation\"}},\"id\":\"7281940f-3835-4841-8eb4-32f05022cfd6\",\"type\":\"BoxZoomTool\"},{\"attributes\":{},\"id\":\"f8634502-532b-4fcc-a54d-e9e0ff15e174\",\"type\":\"SaveTool\"},{\"attributes\":{\"items\":[{\"id\":\"0f7e9cca-924b-44b5-b1ce-c1dc79c31969\",\"type\":\"LegendItem\"}],\"label_text_font_size\":{\"value\":\"8pt\"},\"location\":\"top_center\",\"orientation\":\"horizontal\",\"plot\":{\"id\":\"52e6899f-a609-4a7e-97a8-80d390f3cf5d\",\"subtype\":\"Figure\",\"type\":\"Plot\"}},\"id\":\"aace9efa-4ad2-4707-873f-9dfe06ec7fe2\",\"type\":\"Legend\"},{\"attributes\":{},\"id\":\"02b504cf-38c9-44a2-a8aa-9eda87808d33\",\"type\":\"ResetTool\"},{\"attributes\":{},\"id\":\"502ddace-f13c-47a4-bfa0-dec50e12abf3\",\"type\":\"HelpTool\"},{\"attributes\":{\"axis_label\":\"cooling rate [K/day]\",\"formatter\":{\"id\":\"5e426b19-bd1e-46c0-a8d7-ff1685bc3265\",\"type\":\"BasicTickFormatter\"},\"plot\":{\"id\":\"bb017014-cf22-49d8-99c2-2c786fcf89db\",\"subtype\":\"Figure\",\"type\":\"Plot\"},\"ticker\":{\"id\":\"9a797e00-9d94-4f43-82f8-56613040c488\",\"type\":\"BasicTicker\"}},\"id\":\"7c0fb502-306f-487c-ae6b-95f6cd2bdfa1\",\"type\":\"LinearAxis\"},{\"attributes\":{\"callback\":null,\"data\":{\"x\":{\"__ndarray__\":\"TFMSUYFuiD/8gEGr95KKPya7BM8Qp4w/auFiphkxjD8PBKkvuuWIP7UHoTMGZYI/1GtGDmx7cD/Al+NYaulmvxjV7Uh/4Ie/hDN3oFINl79kw01gVyeiv4jbIQZB1am/bGfYrNo8sb/EEcdhAEa3v/gsETPxSr+/HHFB8fxtw790k4J7WSvGv3iVtU3xOMe/8NUg/CY1xr9oF3wCd0zDvyAdndRG3r+/IJbd/iKJsb8AnmakhZuJP8D0MSTJoaA/ADBc3psthD8AZUzaX9NoP4AiCZ288YQ/YNfYeUqZjj9YHFnuzpeVP4CYvSMcl5U/QCpfh9oMkT/w0fAR7HuGP3BvoIm2v3g/YMjiavqIVz9M2bZUgQxZvxhsmVtPb3W/oGCaCOEehr94dn7rMfOPv3hlXgbc5ZK/mHLfVCZok79gNC2SbnuOv3BZMjy3BoK/4FthF5B4bL+APQVkmm5DP5DXxWXDN2g/ICIE/g1ubD9gUm6b3AFoP3jQfPldC2Q/zBc/V+/EYD+QLjHIQN5aPzjVe8g/KlQ/dO+aR0irTT/iupg9l4FGPwdPsyb/H0A/POpyfQt5ND9gfGmpGakjPwBY7MvK89E+4G3d4MBMIL+gtzjGu1Yvv9DhhTKPyDW/kGG00b8DO78gmbRXw1w/v0CtdL4pekG/gFF6GMHmQr/Q5YiQIwVEvzBB3nF4CkW/cPTkkEcGRr/AowUy+7hGvwBIHbM/8Ua/0Hw+dBMZRr+gPHyWo0VEvwCq0W3YuEG/kGBXLOlcPb9A/IdoZX03v+AVemxynDG/\",\"dtype\":\"float64\",\"shape\":[75]},\"y\":{\"__ndarray__\":\"GhExyth1ND/Sv8nbtpRIP2vylNV0PVE/aTum7souWD/At0SJ8fVgPw3Iuahxymc/MSNhhJWvcD/bTfBN02d3P2zb5nxnaoA/CD5h5MAGhz8NmeH1TyaQP+zrCsc9p5Y/LbKd76fGnz/bLW5ISEmmPww9YvTcQq8/JV2OstnstT8Er5Y7M8G+P0c+r3jqkcU/5h99k6ZBzj88bCIzFzjVP4enV8oyxN0//yH99nXg5D8qOpLLf0jtP5kqGJXUifQ/c9cS8kHP/D+/DpwzojQEQIEmwoanVwxA4lgXt9HgE0BSSZ2AJuIbQAMJih9jjiNA5q4l5INuK0AwTKYKRj0zQNv5fmq8/DpAaCJseHrtQkB/+zpwzoxKQM3MzMzMeFJAZmZmZmZqWEAAAAAAAFxeQM3MzMzMJmJAmpmZmZkfZUBmZmZmZhhoQDMzMzMzEWtAAAAAAAAKbkBmZmZmZoFwQM3MzMzM/XFAMzMzMzN6c0CamZmZmfZ0QAAAAAAAc3ZAZmZmZmbvd0DNzMzMzGt5QDMzMzMz6HpAmpmZmZlkfEAAAAAAAOF9QGZmZmZmXX9AZmZmZuZsgECamZmZGSuBQM3MzMxM6YFAAAAAAICngkAzMzMzs2WDQGZmZmbmI4RAmpmZmRnihEDNzMzMTKCFQAAAAACAXoZAMzMzM7Mch0BmZmZm5tqHQJqZmZkZmYhAzczMzExXiUAAAAAAgBWKQDMzMzOz04pAZmZmZuaRi0CamZmZGVCMQM3MzMxMDo1AAAAAAIDMjUAzMzMzs4qOQGZmZmbmSI9A\",\"dtype\":\"float64\",\"shape\":[75]}},\"selected\":{\"id\":\"0f77e532-2d2f-48ab-b287-bb3f1e9b0eed\",\"type\":\"Selection\"},\"selection_policy\":{\"id\":\"2ac4c9c6-79ff-4eb3-918b-342227482abd\",\"type\":\"UnionRenderers\"}},\"id\":\"526940f1-10c5-4ca0-a1bc-c6bb23beb8df\",\"type\":\"ColumnDataSource\"},{\"attributes\":{\"active_drag\":\"auto\",\"active_inspect\":\"auto\",\"active_scroll\":\"auto\",\"active_tap\":\"auto\",\"tools\":[{\"id\":\"1ce5492b-bd05-4787-82af-c4b00009383c\",\"type\":\"PanTool\"},{\"id\":\"ede4c660-9cc8-4d6e-8fa2-3f7c26093e71\",\"type\":\"WheelZoomTool\"},{\"id\":\"217a40e0-e503-4f81-94b6-2f9c3359ac56\",\"type\":\"BoxZoomTool\"},{\"id\":\"845a114f-d6dd-48f0-bed1-eac85ddf73b2\",\"type\":\"SaveTool\"},{\"id\":\"f4569a6d-5809-4acc-adee-331f91fe5390\",\"type\":\"ResetTool\"},{\"id\":\"097ac57f-6d25-4518-80a7-fb3b78df7a9f\",\"type\":\"HelpTool\"}]},\"id\":\"c2ae02d9-12be-4e29-9d7d-351f2e6001f7\",\"type\":\"Toolbar\"},{\"attributes\":{\"plot\":{\"id\":\"bb017014-cf22-49d8-99c2-2c786fcf89db\",\"subtype\":\"Figure\",\"type\":\"Plot\"},\"ticker\":{\"id\":\"9a797e00-9d94-4f43-82f8-56613040c488\",\"type\":\"BasicTicker\"}},\"id\":\"e54d0e94-02a1-4c09-bd77-aa2233830f56\",\"type\":\"Grid\"},{\"attributes\":{\"children\":[{\"id\":\"9ec87b3f-e878-4c95-a7b6-0277dd32d7e4\",\"type\":\"Row\"}]},\"id\":\"6189b850-32d5-4cb1-90cc-7434ef5d993f\",\"type\":\"Column\"},{\"attributes\":{},\"id\":\"4707e0ac-6b05-47a1-a88f-271911277631\",\"type\":\"LogScale\"},{\"attributes\":{\"callback\":null,\"end\":0.03462342277000015,\"start\":-0.18356434576999997},\"id\":\"76f913e8-0d02-43c2-b8f9-3199855a67dc\",\"type\":\"Range1d\"},{\"attributes\":{\"label\":{\"value\":\"CLIRAD - CRD\"},\"renderers\":[{\"id\":\"08fa5fb5-4bf3-46aa-a259-4961d8853b12\",\"type\":\"GlyphRenderer\"},{\"id\":\"f9b24eff-b1ef-4f23-b64f-b00160a68401\",\"type\":\"GlyphRenderer\"}]},\"id\":\"0f7e9cca-924b-44b5-b1ce-c1dc79c31969\",\"type\":\"LegendItem\"},{\"attributes\":{\"dimension\":1,\"plot\":{\"id\":\"52e6899f-a609-4a7e-97a8-80d390f3cf5d\",\"subtype\":\"Figure\",\"type\":\"Plot\"},\"ticker\":{\"id\":\"0460d4a8-0085-42ef-9719-02d62c3ca9de\",\"type\":\"LogTicker\"}},\"id\":\"f395c1a0-6aee-4fef-9b19-4cf4fee814a4\",\"type\":\"Grid\"},{\"attributes\":{},\"id\":\"9a797e00-9d94-4f43-82f8-56613040c488\",\"type\":\"BasicTicker\"},{\"attributes\":{\"overlay\":{\"id\":\"68b4bf32-2350-4763-b0e3-12aaaa3a0c03\",\"type\":\"BoxAnnotation\"}},\"id\":\"6ab8b874-cbe4-466f-8823-40366fdcc141\",\"type\":\"BoxZoomTool\"},{\"attributes\":{\"num_minor_ticks\":10},\"id\":\"0460d4a8-0085-42ef-9719-02d62c3ca9de\",\"type\":\"LogTicker\"},{\"attributes\":{\"axis_label\":\"pressure [mb]\",\"formatter\":{\"id\":\"80355ce9-66c3-4802-a7dd-29bea9fd862c\",\"type\":\"LogTickFormatter\"},\"plot\":{\"id\":\"52e6899f-a609-4a7e-97a8-80d390f3cf5d\",\"subtype\":\"Figure\",\"type\":\"Plot\"},\"ticker\":{\"id\":\"0460d4a8-0085-42ef-9719-02d62c3ca9de\",\"type\":\"LogTicker\"}},\"id\":\"a4234a8b-26e1-4aa5-960a-e6e01cba13e3\",\"type\":\"LogAxis\"},{\"attributes\":{\"num_minor_ticks\":10},\"id\":\"a34b7807-2186-4c68-8e5b-f7f6b593800e\",\"type\":\"LogTicker\"},{\"attributes\":{\"axis_label\":\"pressure [mb]\",\"formatter\":{\"id\":\"bd6970f1-0929-4ee6-871a-41b03f60d73c\",\"type\":\"LogTickFormatter\"},\"plot\":{\"id\":\"bb017014-cf22-49d8-99c2-2c786fcf89db\",\"subtype\":\"Figure\",\"type\":\"Plot\"},\"ticker\":{\"id\":\"a34b7807-2186-4c68-8e5b-f7f6b593800e\",\"type\":\"LogTicker\"}},\"id\":\"c2b12b1b-ae31-4653-a142-79cbd9b0a58d\",\"type\":\"LogAxis\"},{\"attributes\":{},\"id\":\"1224ffa6-00c4-4bd3-9be8-d378686b26be\",\"type\":\"BasicTicker\"},{\"attributes\":{},\"id\":\"69d1f82a-673b-4fa0-bfb6-be72a0eb9bc4\",\"type\":\"ResetTool\"},{\"attributes\":{\"axis_label\":\"cooling rate [K/day]\",\"formatter\":{\"id\":\"1fb0ffca-d287-44c8-ba5d-84592ef8a17e\",\"type\":\"BasicTickFormatter\"},\"plot\":{\"id\":\"52e6899f-a609-4a7e-97a8-80d390f3cf5d\",\"subtype\":\"Figure\",\"type\":\"Plot\"},\"ticker\":{\"id\":\"1224ffa6-00c4-4bd3-9be8-d378686b26be\",\"type\":\"BasicTicker\"}},\"id\":\"c8ce9b79-f8d5-47c7-9745-8575e304c97b\",\"type\":\"LinearAxis\"},{\"attributes\":{\"line_alpha\":0.6,\"line_color\":\"#e41a1c\",\"line_dash\":[6],\"line_width\":5,\"x\":{\"field\":\"x\"},\"y\":{\"field\":\"y\"}},\"id\":\"c1be75d0-2c0a-4f63-8f63-b8b2eeafdb6c\",\"type\":\"Line\"},{\"attributes\":{\"plot\":{\"id\":\"52e6899f-a609-4a7e-97a8-80d390f3cf5d\",\"subtype\":\"Figure\",\"type\":\"Plot\"},\"ticker\":{\"id\":\"1224ffa6-00c4-4bd3-9be8-d378686b26be\",\"type\":\"BasicTicker\"}},\"id\":\"7ca706b7-8eae-4deb-bc20-28809f663165\",\"type\":\"Grid\"},{\"attributes\":{},\"id\":\"ede4c660-9cc8-4d6e-8fa2-3f7c26093e71\",\"type\":\"WheelZoomTool\"},{\"attributes\":{\"data_source\":{\"id\":\"32355784-e680-4f67-af58-6ae1296660d8\",\"type\":\"ColumnDataSource\"},\"glyph\":{\"id\":\"c1be75d0-2c0a-4f63-8f63-b8b2eeafdb6c\",\"type\":\"Line\"},\"hover_glyph\":null,\"muted_glyph\":null,\"nonselection_glyph\":{\"id\":\"13eb215e-0673-4bde-8db7-d57b6fac0108\",\"type\":\"Line\"},\"selection_glyph\":null,\"view\":{\"id\":\"b7f45cc0-f21f-416a-a51f-64bdcd51b4fa\",\"type\":\"CDSView\"}},\"id\":\"a15cd033-dca2-415b-b7df-b4c144d3baa2\",\"type\":\"GlyphRenderer\"},{\"attributes\":{\"line_alpha\":0.6,\"line_color\":\"#e41a1c\",\"line_dash\":[6],\"line_width\":5,\"x\":{\"field\":\"x\"},\"y\":{\"field\":\"y\"}},\"id\":\"82025a8f-153b-4c14-bdaf-86053d190963\",\"type\":\"Line\"},{\"attributes\":{},\"id\":\"bdb83d3f-4153-4418-9e3b-059adfda4e35\",\"type\":\"SaveTool\"},{\"attributes\":{\"bottom_units\":\"screen\",\"fill_alpha\":{\"value\":0.5},\"fill_color\":{\"value\":\"lightgrey\"},\"left_units\":\"screen\",\"level\":\"overlay\",\"line_alpha\":{\"value\":1.0},\"line_color\":{\"value\":\"black\"},\"line_dash\":[4,4],\"line_width\":{\"value\":2},\"plot\":null,\"render_mode\":\"css\",\"right_units\":\"screen\",\"top_units\":\"screen\"},\"id\":\"be373533-31fb-4c93-9609-93ee34b610db\",\"type\":\"BoxAnnotation\"},{\"attributes\":{\"plot\":null,\"text\":\"\"},\"id\":\"1e892fed-1eb4-434e-95a1-d5044b54b007\",\"type\":\"Title\"},{\"attributes\":{},\"id\":\"58d83da1-7305-4f65-b316-b8f066f15b84\",\"type\":\"PanTool\"},{\"attributes\":{},\"id\":\"1ce5492b-bd05-4787-82af-c4b00009383c\",\"type\":\"PanTool\"},{\"attributes\":{\"callback\":null,\"data\":{\"x\":{\"__ndarray__\":\"5MFnAn3WkL/q6NRvCFCRv6BD1NUBNpC/JoTjOShPh7/JQYYf7rtpv55klnn+P4M/S2j981Vumz9Ybu1tyHmpP6H8hIMiNbQ/lb6MOTp0vT+JvnEIC13EP/rCOysvGss/VOkfK5WD0T8x7FE05qDXPyAc/XlkfeA/KzaDSwkZ5j/Xx56YUFzsP/hfnRmzm/E/FNPgEXBD9T8awFsgQRH5P2WNeohGt/w/Sqwxjctd/j/Q+M/krLn6P4G+iBEdffQ/tPbrDFvs7T9HnW/6adLkP9tVQIgB3ts/6FSux68l0z8iGGrBSaLNP6j3XL/D4cY/DQQazxR4wD+oubSY2n2zP3aL9UqvhqU/nBHBEvHRmD8+hBBPOPRkv88RfWdJuqK/c6/0I0Njsb+NhoTWYG23vzwl7zVn8bu/bfgG9PxIv79hh7UhlDG+v2ah3+/+Fbq/7RbrlV4Ntr8icyM0m6qxv5fAblc2E6u/xWqv4q0jo78EBJ50VbKZv7voCDkfOZK/XecoBbLeib8oZvIKmk+Bv+I5L5vmAHW/F7QO25bAZr/iFaxkDBtRv/Cp+gjq6D4/54VErbPZXT9YwCjrNcloP70HTMVdtHA/zq6rZChwdD+lZI4tWKZ3PxhUmfZNWXo/kH1onfN+fD+Wzy9XsUJ+P3x/Jc4Iun8/oXMDMcxqgD9FUNlSftCAP3teTNe1NIE/gAR+A8WegT/iZkE8HOqBP0KFR3ze/YE/NaWsTw/LgT+Mnxbg00WBP7l1l8GhgoA/258NdeZCfz920CSuNW19P0CJHXbwpns/\",\"dtype\":\"float64\",\"shape\":[75]},\"y\":{\"__ndarray__\":\"GhExyth1ND/Sv8nbtpRIP2vylNV0PVE/aTum7souWD/At0SJ8fVgPw3Iuahxymc/MSNhhJWvcD/bTfBN02d3P2zb5nxnaoA/CD5h5MAGhz8NmeH1TyaQP+zrCsc9p5Y/LbKd76fGnz/bLW5ISEmmPww9YvTcQq8/JV2OstnstT8Er5Y7M8G+P0c+r3jqkcU/5h99k6ZBzj88bCIzFzjVP4enV8oyxN0//yH99nXg5D8qOpLLf0jtP5kqGJXUifQ/c9cS8kHP/D+/DpwzojQEQIEmwoanVwxA4lgXt9HgE0BSSZ2AJuIbQAMJih9jjiNA5q4l5INuK0AwTKYKRj0zQNv5fmq8/DpAaCJseHrtQkB/+zpwzoxKQM3MzMzMeFJAZmZmZmZqWEAAAAAAAFxeQM3MzMzMJmJAmpmZmZkfZUBmZmZmZhhoQDMzMzMzEWtAAAAAAAAKbkBmZmZmZoFwQM3MzMzM/XFAMzMzMzN6c0CamZmZmfZ0QAAAAAAAc3ZAZmZmZmbvd0DNzMzMzGt5QDMzMzMz6HpAmpmZmZlkfEAAAAAAAOF9QGZmZmZmXX9AZmZmZuZsgECamZmZGSuBQM3MzMxM6YFAAAAAAICngkAzMzMzs2WDQGZmZmbmI4RAmpmZmRnihEDNzMzMTKCFQAAAAACAXoZAMzMzM7Mch0BmZmZm5tqHQJqZmZkZmYhAzczMzExXiUAAAAAAgBWKQDMzMzOz04pAZmZmZuaRi0CamZmZGVCMQM3MzMxMDo1AAAAAAIDMjUAzMzMzs4qOQGZmZmbmSI9A\",\"dtype\":\"float64\",\"shape\":[75]}},\"selected\":{\"id\":\"85349205-fb4f-4f1b-a62e-090369f57984\",\"type\":\"Selection\"},\"selection_policy\":{\"id\":\"6ee43099-4768-48b5-a10c-31281051cfe6\",\"type\":\"UnionRenderers\"}},\"id\":\"cdef3362-6030-4149-beb8-db79229c3c76\",\"type\":\"ColumnDataSource\"},{\"attributes\":{\"overlay\":{\"id\":\"be373533-31fb-4c93-9609-93ee34b610db\",\"type\":\"BoxAnnotation\"}},\"id\":\"217a40e0-e503-4f81-94b6-2f9c3359ac56\",\"type\":\"BoxZoomTool\"},{\"attributes\":{\"dimension\":1,\"plot\":{\"id\":\"a26e2e99-74f7-4ef4-a056-bbe369be0488\",\"subtype\":\"Figure\",\"type\":\"Plot\"},\"ticker\":{\"id\":\"174ea3ed-4274-425e-9a34-9c7e17397aef\",\"type\":\"BasicTicker\"}},\"id\":\"0ef3b9a1-04d0-4521-8674-95c4c0d1c3f2\",\"type\":\"Grid\"},{\"attributes\":{},\"id\":\"845a114f-d6dd-48f0-bed1-eac85ddf73b2\",\"type\":\"SaveTool\"},{\"attributes\":{\"dimension\":1,\"plot\":{\"id\":\"bb017014-cf22-49d8-99c2-2c786fcf89db\",\"subtype\":\"Figure\",\"type\":\"Plot\"},\"ticker\":{\"id\":\"a34b7807-2186-4c68-8e5b-f7f6b593800e\",\"type\":\"LogTicker\"}},\"id\":\"6e4b1c30-357f-4ba6-86c5-3a996416a2df\",\"type\":\"Grid\"},{\"attributes\":{},\"id\":\"f4569a6d-5809-4acc-adee-331f91fe5390\",\"type\":\"ResetTool\"},{\"attributes\":{\"plot\":{\"id\":\"a26e2e99-74f7-4ef4-a056-bbe369be0488\",\"subtype\":\"Figure\",\"type\":\"Plot\"},\"ticker\":{\"id\":\"3d643dba-a5d7-4354-b0ff-e246adc7acfc\",\"type\":\"BasicTicker\"}},\"id\":\"a7564a85-3ee6-415a-ad85-e963ab7a41db\",\"type\":\"Grid\"},{\"attributes\":{},\"id\":\"097ac57f-6d25-4518-80a7-fb3b78df7a9f\",\"type\":\"HelpTool\"},{\"attributes\":{\"line_alpha\":0.1,\"line_color\":\"#1f77b4\",\"line_dash\":[6],\"line_width\":5,\"x\":{\"field\":\"x\"},\"y\":{\"field\":\"y\"}},\"id\":\"a2675ffb-8aae-479c-8bd4-2dbb052a5222\",\"type\":\"Line\"},{\"attributes\":{},\"id\":\"1ed064b0-114c-4a36-8e2f-b46cef5b9604\",\"type\":\"LinearScale\"},{\"attributes\":{},\"id\":\"47d47986-6604-497a-97e3-be9938652315\",\"type\":\"BasicTickFormatter\"},{\"attributes\":{\"callback\":null,\"data\":{\"x\":{\"__ndarray__\":\"TFMSUYFuiD/8gEGr95KKPya7BM8Qp4w/auFiphkxjD8PBKkvuuWIP7UHoTMGZYI/1GtGDmx7cD/Al+NYaulmvxjV7Uh/4Ie/hDN3oFINl79kw01gVyeiv4jbIQZB1am/bGfYrNo8sb/EEcdhAEa3v/gsETPxSr+/HHFB8fxtw790k4J7WSvGv3iVtU3xOMe/8NUg/CY1xr9oF3wCd0zDvyAdndRG3r+/IJbd/iKJsb8AnmakhZuJP8D0MSTJoaA/ADBc3psthD8AZUzaX9NoP4AiCZ288YQ/YNfYeUqZjj9YHFnuzpeVP4CYvSMcl5U/QCpfh9oMkT/w0fAR7HuGP3BvoIm2v3g/YMjiavqIVz9M2bZUgQxZvxhsmVtPb3W/oGCaCOEehr94dn7rMfOPv3hlXgbc5ZK/mHLfVCZok79gNC2SbnuOv3BZMjy3BoK/4FthF5B4bL+APQVkmm5DP5DXxWXDN2g/ICIE/g1ubD9gUm6b3AFoP3jQfPldC2Q/zBc/V+/EYD+QLjHIQN5aPzjVe8g/KlQ/dO+aR0irTT/iupg9l4FGPwdPsyb/H0A/POpyfQt5ND9gfGmpGakjPwBY7MvK89E+4G3d4MBMIL+gtzjGu1Yvv9DhhTKPyDW/kGG00b8DO78gmbRXw1w/v0CtdL4pekG/gFF6GMHmQr/Q5YiQIwVEvzBB3nF4CkW/cPTkkEcGRr/AowUy+7hGvwBIHbM/8Ua/0Hw+dBMZRr+gPHyWo0VEvwCq0W3YuEG/kGBXLOlcPb9A/IdoZX03v+AVemxynDG/\",\"dtype\":\"float64\",\"shape\":[75]},\"y\":{\"__ndarray__\":\"GhExyth1ND/Sv8nbtpRIP2vylNV0PVE/aTum7souWD/At0SJ8fVgPw3Iuahxymc/MSNhhJWvcD/bTfBN02d3P2zb5nxnaoA/CD5h5MAGhz8NmeH1TyaQP+zrCsc9p5Y/LbKd76fGnz/bLW5ISEmmPww9YvTcQq8/JV2OstnstT8Er5Y7M8G+P0c+r3jqkcU/5h99k6ZBzj88bCIzFzjVP4enV8oyxN0//yH99nXg5D8qOpLLf0jtP5kqGJXUifQ/c9cS8kHP/D+/DpwzojQEQIEmwoanVwxA4lgXt9HgE0BSSZ2AJuIbQAMJih9jjiNA5q4l5INuK0AwTKYKRj0zQNv5fmq8/DpAaCJseHrtQkB/+zpwzoxKQM3MzMzMeFJAZmZmZmZqWEAAAAAAAFxeQM3MzMzMJmJAmpmZmZkfZUBmZmZmZhhoQDMzMzMzEWtAAAAAAAAKbkBmZmZmZoFwQM3MzMzM/XFAMzMzMzN6c0CamZmZmfZ0QAAAAAAAc3ZAZmZmZmbvd0DNzMzMzGt5QDMzMzMz6HpAmpmZmZlkfEAAAAAAAOF9QGZmZmZmXX9AZmZmZuZsgECamZmZGSuBQM3MzMxM6YFAAAAAAICngkAzMzMzs2WDQGZmZmbmI4RAmpmZmRnihEDNzMzMTKCFQAAAAACAXoZAMzMzM7Mch0BmZmZm5tqHQJqZmZkZmYhAzczMzExXiUAAAAAAgBWKQDMzMzOz04pAZmZmZuaRi0CamZmZGVCMQM3MzMxMDo1AAAAAAIDMjUAzMzMzs4qOQGZmZmbmSI9A\",\"dtype\":\"float64\",\"shape\":[75]}},\"selected\":{\"id\":\"367aa140-7713-4343-bf13-21b032b1c85c\",\"type\":\"Selection\"},\"selection_policy\":{\"id\":\"2b859ffe-1e82-4c73-a74b-9c22b13afda9\",\"type\":\"UnionRenderers\"}},\"id\":\"8d87ad07-0bca-44d9-b79e-d8c04f256f4b\",\"type\":\"ColumnDataSource\"},{\"attributes\":{\"source\":{\"id\":\"8cd03658-5d60-4f31-82b3-925b8d40728f\",\"type\":\"ColumnDataSource\"}},\"id\":\"2db6c756-b4f9-4815-88f0-602df08a5fd1\",\"type\":\"CDSView\"},{\"attributes\":{\"above\":[{\"id\":\"3b7aeff1-f912-44bc-86e5-bc40c72a7cf0\",\"type\":\"Legend\"}],\"below\":[{\"id\":\"7a4b7d41-16d0-4f24-bdba-6ca0a8d2db43\",\"type\":\"LinearAxis\"}],\"left\":[{\"id\":\"d047fb52-a689-46cb-a355-b9798f126669\",\"type\":\"LinearAxis\"}],\"plot_width\":300,\"renderers\":[{\"id\":\"7a4b7d41-16d0-4f24-bdba-6ca0a8d2db43\",\"type\":\"LinearAxis\"},{\"id\":\"a7564a85-3ee6-415a-ad85-e963ab7a41db\",\"type\":\"Grid\"},{\"id\":\"d047fb52-a689-46cb-a355-b9798f126669\",\"type\":\"LinearAxis\"},{\"id\":\"0ef3b9a1-04d0-4521-8674-95c4c0d1c3f2\",\"type\":\"Grid\"},{\"id\":\"68b4bf32-2350-4763-b0e3-12aaaa3a0c03\",\"type\":\"BoxAnnotation\"},{\"id\":\"d975f00c-bd12-4978-a212-8f19cd44ced7\",\"type\":\"GlyphRenderer\"},{\"id\":\"2d1c0dfa-6b62-4f47-a8c9-7e9ea026fe8e\",\"type\":\"GlyphRenderer\"},{\"id\":\"aad0417e-400b-4a3d-b991-d9ff3cc3aa5f\",\"type\":\"GlyphRenderer\"},{\"id\":\"3b7aeff1-f912-44bc-86e5-bc40c72a7cf0\",\"type\":\"Legend\"}],\"title\":{\"id\":\"1e892fed-1eb4-434e-95a1-d5044b54b007\",\"type\":\"Title\"},\"toolbar\":{\"id\":\"ee02f038-26fb-4828-bad0-00bc461c1b0c\",\"type\":\"Toolbar\"},\"toolbar_location\":null,\"x_range\":{\"id\":\"ce1f2053-52a5-46bd-ac6d-353b6350a657\",\"type\":\"Range1d\"},\"x_scale\":{\"id\":\"117dd66f-b7fb-4e83-abbc-0795bf7306c1\",\"type\":\"LinearScale\"},\"y_range\":{\"id\":\"2b32feaa-b5a8-4b1c-b1f1-8e571ef56dfe\",\"type\":\"Range1d\"},\"y_scale\":{\"id\":\"997406ed-3d7d-4c3c-946f-29c895773f3a\",\"type\":\"LinearScale\"}},\"id\":\"a26e2e99-74f7-4ef4-a056-bbe369be0488\",\"subtype\":\"Figure\",\"type\":\"Plot\"},{\"attributes\":{\"data_source\":{\"id\":\"526940f1-10c5-4ca0-a1bc-c6bb23beb8df\",\"type\":\"ColumnDataSource\"},\"glyph\":{\"id\":\"42283f6d-673f-4743-b397-84d494c54557\",\"type\":\"Line\"},\"hover_glyph\":null,\"muted_glyph\":null,\"nonselection_glyph\":{\"id\":\"16c75846-2842-4ca5-a1c1-37500571feb4\",\"type\":\"Line\"},\"selection_glyph\":null,\"view\":{\"id\":\"af605d14-7b02-4272-838b-3fb14e2de323\",\"type\":\"CDSView\"}},\"id\":\"f9b24eff-b1ef-4f23-b64f-b00160a68401\",\"type\":\"GlyphRenderer\"},{\"attributes\":{\"fill_alpha\":{\"value\":0.1},\"fill_color\":{\"value\":\"#1f77b4\"},\"line_alpha\":{\"value\":0.1},\"line_color\":{\"value\":\"#1f77b4\"},\"x\":{\"field\":\"x\"},\"y\":{\"field\":\"y\"}},\"id\":\"6fb6909b-49e7-4f5b-b503-24a98e3ea380\",\"type\":\"Circle\"},{\"attributes\":{\"above\":[{\"id\":\"aace9efa-4ad2-4707-873f-9dfe06ec7fe2\",\"type\":\"Legend\"}],\"below\":[{\"id\":\"c8ce9b79-f8d5-47c7-9745-8575e304c97b\",\"type\":\"LinearAxis\"}],\"left\":[{\"id\":\"a4234a8b-26e1-4aa5-960a-e6e01cba13e3\",\"type\":\"LogAxis\"}],\"plot_width\":300,\"renderers\":[{\"id\":\"c8ce9b79-f8d5-47c7-9745-8575e304c97b\",\"type\":\"LinearAxis\"},{\"id\":\"7ca706b7-8eae-4deb-bc20-28809f663165\",\"type\":\"Grid\"},{\"id\":\"a4234a8b-26e1-4aa5-960a-e6e01cba13e3\",\"type\":\"LogAxis\"},{\"id\":\"f395c1a0-6aee-4fef-9b19-4cf4fee814a4\",\"type\":\"Grid\"},{\"id\":\"be373533-31fb-4c93-9609-93ee34b610db\",\"type\":\"BoxAnnotation\"},{\"id\":\"08fa5fb5-4bf3-46aa-a259-4961d8853b12\",\"type\":\"GlyphRenderer\"},{\"id\":\"f9b24eff-b1ef-4f23-b64f-b00160a68401\",\"type\":\"GlyphRenderer\"},{\"id\":\"aace9efa-4ad2-4707-873f-9dfe06ec7fe2\",\"type\":\"Legend\"}],\"title\":{\"id\":\"154e3d79-c379-455d-960b-227d74bdbae4\",\"type\":\"Title\"},\"toolbar\":{\"id\":\"c2ae02d9-12be-4e29-9d7d-351f2e6001f7\",\"type\":\"Toolbar\"},\"toolbar_location\":null,\"x_range\":{\"id\":\"76f913e8-0d02-43c2-b8f9-3199855a67dc\",\"type\":\"Range1d\"},\"x_scale\":{\"id\":\"fc5590a3-bf98-4a13-a400-955b35412cfb\",\"type\":\"LinearScale\"},\"y_range\":{\"id\":\"d1b02b52-6d50-464f-b99a-ba4b2f279cf6\",\"type\":\"Range1d\"},\"y_scale\":{\"id\":\"4707e0ac-6b05-47a1-a88f-271911277631\",\"type\":\"LogScale\"}},\"id\":\"52e6899f-a609-4a7e-97a8-80d390f3cf5d\",\"subtype\":\"Figure\",\"type\":\"Plot\"},{\"attributes\":{\"source\":{\"id\":\"cdef3362-6030-4149-beb8-db79229c3c76\",\"type\":\"ColumnDataSource\"}},\"id\":\"6974738a-c28d-4a1b-a741-d1ed000a8dc4\",\"type\":\"CDSView\"},{\"attributes\":{\"fill_alpha\":{\"value\":0.7},\"fill_color\":{\"value\":\"#4daf4a\"},\"line_alpha\":{\"value\":0.7},\"line_color\":{\"value\":\"#4daf4a\"},\"x\":{\"field\":\"x\"},\"y\":{\"field\":\"y\"}},\"id\":\"2aa259b9-2d81-4c52-b3df-bf08e690f590\",\"type\":\"Circle\"},{\"attributes\":{\"fill_alpha\":{\"value\":0.7},\"fill_color\":{\"value\":\"#984ea3\"},\"line_alpha\":{\"value\":0.7},\"line_color\":{\"value\":\"#984ea3\"},\"x\":{\"field\":\"x\"},\"y\":{\"field\":\"y\"}},\"id\":\"f814e1f2-d2c6-4fd4-b4ee-652de7083204\",\"type\":\"Circle\"},{\"attributes\":{\"source\":{\"id\":\"32355784-e680-4f67-af58-6ae1296660d8\",\"type\":\"ColumnDataSource\"}},\"id\":\"b7f45cc0-f21f-416a-a51f-64bdcd51b4fa\",\"type\":\"CDSView\"},{\"attributes\":{\"data_source\":{\"id\":\"8d87ad07-0bca-44d9-b79e-d8c04f256f4b\",\"type\":\"ColumnDataSource\"},\"glyph\":{\"id\":\"f814e1f2-d2c6-4fd4-b4ee-652de7083204\",\"type\":\"Circle\"},\"hover_glyph\":null,\"muted_glyph\":null,\"nonselection_glyph\":{\"id\":\"33296afc-be71-48aa-bed0-3bd3ddeb31d5\",\"type\":\"Circle\"},\"selection_glyph\":null,\"view\":{\"id\":\"19199e68-63dd-47e0-bfcd-c1a273ecddc5\",\"type\":\"CDSView\"}},\"id\":\"08fa5fb5-4bf3-46aa-a259-4961d8853b12\",\"type\":\"GlyphRenderer\"},{\"attributes\":{\"callback\":null,\"data\":{\"x\":{\"__ndarray__\":\"iuvwqr0Nnb9oqXVFhJmevzOhVj2KiZ6/yDIj8CDAmb+BlIq3tVSPvx6dq74IXzs/Vs1r8HpPlz/Up3sTX+iqP0S3omwyMbc/u0XVcMebwT9iL4Xg4ObIP+4cYra/x9A/LwNW1svS1T+isMNMZnLdP79BX6DCZuQ/cpLTh4j06j9atr97k/PwP6cSVEPRgvQ/0u1k8RQK+D8HQ6sA0Hr7PzdfxPUqtf4/rIUfvV12/z+UK4fZdYb6P9suZ8gO+PM/9IVynaSb7T/iUJWalrnkP8cMWKNzNts/LY7fc+Uw0j+X9J7jT+/KP5hE5TrgLsQ/ij1c/PKsvD9qn3YWXa6wP4h9wXm4bqI/FuUSbGFZlz8wL2pJ79tQv0zkCXxfDKC/vsbCBc4+rb++txSZ+m6zv96LVzTwN7e/xxvPXvNuur/V4G9PJmK6vzhWWQgo1be/DgwwFZoptb+dfetoeNGxvxAey42ylqy/56yPwo7qpL9QzgsIkbKcv8qCOPiKupS/UK342u0Pjr/6i/gjYquEvzAvTo12C3q/9G/17Ggrbr9Tc3gD2Ftcv+BBv0ZEcfW+WMvnzXC7WD+SKJJQpI5nP6cMmdLgr3A/PZqya47ydD9iKsALDqF4PzWywenWtXs/qcODmi8vfj+UjFXGPhyAP5IK+gKn9IA/uRiLQjiZgT+i3uGL0BCCP45Cal5dhYI/x1OMfCn/gj8ewWHvq1WDP8JZeXfybIM/Ao3whqAsgz9WY34ZLoqCP1mQdEgvnoE/8orpg1qMgD86UK0EDOV+P54q5Zy3wHw/\",\"dtype\":\"float64\",\"shape\":[75]},\"y\":{\"__ndarray__\":\"GhExyth1ND/Sv8nbtpRIP2vylNV0PVE/aTum7souWD/At0SJ8fVgPw3Iuahxymc/MSNhhJWvcD/bTfBN02d3P2zb5nxnaoA/CD5h5MAGhz8NmeH1TyaQP+zrCsc9p5Y/LbKd76fGnz/bLW5ISEmmPww9YvTcQq8/JV2OstnstT8Er5Y7M8G+P0c+r3jqkcU/5h99k6ZBzj88bCIzFzjVP4enV8oyxN0//yH99nXg5D8qOpLLf0jtP5kqGJXUifQ/c9cS8kHP/D+/DpwzojQEQIEmwoanVwxA4lgXt9HgE0BSSZ2AJuIbQAMJih9jjiNA5q4l5INuK0AwTKYKRj0zQNv5fmq8/DpAaCJseHrtQkB/+zpwzoxKQM3MzMzMeFJAZmZmZmZqWEAAAAAAAFxeQM3MzMzMJmJAmpmZmZkfZUBmZmZmZhhoQDMzMzMzEWtAAAAAAAAKbkBmZmZmZoFwQM3MzMzM/XFAMzMzMzN6c0CamZmZmfZ0QAAAAAAAc3ZAZmZmZmbvd0DNzMzMzGt5QDMzMzMz6HpAmpmZmZlkfEAAAAAAAOF9QGZmZmZmXX9AZmZmZuZsgECamZmZGSuBQM3MzMxM6YFAAAAAAICngkAzMzMzs2WDQGZmZmbmI4RAmpmZmRnihEDNzMzMTKCFQAAAAACAXoZAMzMzM7Mch0BmZmZm5tqHQJqZmZkZmYhAzczMzExXiUAAAAAAgBWKQDMzMzOz04pAZmZmZuaRi0CamZmZGVCMQM3MzMxMDo1AAAAAAIDMjUAzMzMzs4qOQGZmZmbmSI9A\",\"dtype\":\"float64\",\"shape\":[75]}},\"selected\":{\"id\":\"9bfc209f-66ca-4d93-b079-59f89780f36d\",\"type\":\"Selection\"},\"selection_policy\":{\"id\":\"3a3f7a95-d0f1-4546-ac74-fc3624b2bfb8\",\"type\":\"UnionRenderers\"}},\"id\":\"8cd03658-5d60-4f31-82b3-925b8d40728f\",\"type\":\"ColumnDataSource\"},{\"attributes\":{\"data_source\":{\"id\":\"cdef3362-6030-4149-beb8-db79229c3c76\",\"type\":\"ColumnDataSource\"},\"glyph\":{\"id\":\"82025a8f-153b-4c14-bdaf-86053d190963\",\"type\":\"Line\"},\"hover_glyph\":null,\"muted_glyph\":null,\"nonselection_glyph\":{\"id\":\"a2675ffb-8aae-479c-8bd4-2dbb052a5222\",\"type\":\"Line\"},\"selection_glyph\":null,\"view\":{\"id\":\"6974738a-c28d-4a1b-a741-d1ed000a8dc4\",\"type\":\"CDSView\"}},\"id\":\"d975f00c-bd12-4978-a212-8f19cd44ced7\",\"type\":\"GlyphRenderer\"},{\"attributes\":{\"data_source\":{\"id\":\"8cd03658-5d60-4f31-82b3-925b8d40728f\",\"type\":\"ColumnDataSource\"},\"glyph\":{\"id\":\"2aa259b9-2d81-4c52-b3df-bf08e690f590\",\"type\":\"Circle\"},\"hover_glyph\":null,\"muted_glyph\":null,\"nonselection_glyph\":{\"id\":\"6fb6909b-49e7-4f5b-b503-24a98e3ea380\",\"type\":\"Circle\"},\"selection_glyph\":null,\"view\":{\"id\":\"2db6c756-b4f9-4815-88f0-602df08a5fd1\",\"type\":\"CDSView\"}},\"id\":\"a3964833-78b5-4ce1-8047-b8046c026c56\",\"type\":\"GlyphRenderer\"},{\"attributes\":{\"callback\":null,\"end\":1.9872840445,\"start\":-0.1430935145},\"id\":\"618612a1-4385-486f-93af-24440ca37151\",\"type\":\"Range1d\"},{\"attributes\":{\"callback\":null,\"end\":0.01,\"start\":1020},\"id\":\"d1b02b52-6d50-464f-b99a-ba4b2f279cf6\",\"type\":\"Range1d\"}],\"root_ids\":[\"3a1c1ecb-1fc6-49cc-a2cd-1329d0fdb817\"]},\"title\":\"Bokeh Application\",\"version\":\"0.12.16\"}};\n",
       "  var render_items = [{\"docid\":\"dc8102c7-0808-4b51-ba12-ba938dae38c8\",\"elementid\":\"cf34bd4d-c58e-4a00-aa46-1b832b70756c\",\"modelid\":\"3a1c1ecb-1fc6-49cc-a2cd-1329d0fdb817\"}];\n",
       "  root.Bokeh.embed.embed_items_notebook(docs_json, render_items);\n",
       "\n",
       "  }\n",
       "  if (root.Bokeh !== undefined) {\n",
       "    embed_document(root);\n",
       "  } else {\n",
       "    var attempts = 0;\n",
       "    var timer = setInterval(function(root) {\n",
       "      if (root.Bokeh !== undefined) {\n",
       "        embed_document(root);\n",
       "        clearInterval(timer);\n",
       "      }\n",
       "      attempts++;\n",
       "      if (attempts > 100) {\n",
       "        console.log(\"Bokeh: ERROR: Unable to run BokehJS code because BokehJS library is missing\")\n",
       "        clearInterval(timer);\n",
       "      }\n",
       "    }, 10, root)\n",
       "  }\n",
       "})(window);"
      ],
      "application/vnd.bokehjs_exec.v0+json": ""
     },
     "metadata": {
      "application/vnd.bokehjs_exec.v0+json": {
       "id": "3a1c1ecb-1fc6-49cc-a2cd-1329d0fdb817"
      }
     },
     "output_type": "display_data"
    },
    {
     "data": {
      "text/markdown": [
       "*FIGURE.* Cooling rates & difference."
      ],
      "text/plain": [
       "<IPython.core.display.Markdown object>"
      ]
     },
     "metadata": {},
     "output_type": "display_data"
    },
    {
     "data": {
      "text/html": [
       "<a id=\"Fluxes._saw.\"></a>"
      ],
      "text/plain": [
       "<IPython.core.display.HTML object>"
      ]
     },
     "metadata": {},
     "output_type": "display_data"
    },
    {
     "data": {
      "text/markdown": [
       "# Fluxes. saw."
      ],
      "text/plain": [
       "<IPython.core.display.Markdown object>"
      ]
     },
     "metadata": {},
     "output_type": "display_data"
    },
    {
     "data": {
      "text/html": [
       "\n",
       "<div class=\"bk-root\">\n",
       "    <div class=\"bk-plotdiv\" id=\"141a4448-6cde-48d7-bc67-30aecab9fad6\"></div>\n",
       "</div>"
      ]
     },
     "metadata": {},
     "output_type": "display_data"
    },
    {
     "data": {
      "application/javascript": [
       "(function(root) {\n",
       "  function embed_document(root) {\n",
       "    \n",
       "  var docs_json = {\"e4711f8e-33f6-447b-bbf3-7279fcd178e2\":{\"roots\":{\"references\":[{\"attributes\":{},\"id\":\"5a9664e6-83ac-47ec-a24d-8776b56ea1ed\",\"type\":\"ResetTool\"},{\"attributes\":{\"active_drag\":\"auto\",\"active_inspect\":\"auto\",\"active_scroll\":\"auto\",\"active_tap\":\"auto\",\"tools\":[{\"id\":\"cb6e74c9-51b0-4fac-b539-57fff6129d65\",\"type\":\"PanTool\"},{\"id\":\"204db03f-571e-461c-aaf1-2c8a88232df4\",\"type\":\"WheelZoomTool\"},{\"id\":\"92fd59dc-3faf-4f46-b1d5-bdddf3681ed7\",\"type\":\"BoxZoomTool\"},{\"id\":\"488a192e-056f-4857-aa91-9e7c94fbdbad\",\"type\":\"SaveTool\"},{\"id\":\"ba847785-a692-4728-8b87-4fb84c03c5e9\",\"type\":\"ResetTool\"},{\"id\":\"f7a8cae9-2f5b-4b9d-ad69-d332dbe8e8b3\",\"type\":\"HelpTool\"}]},\"id\":\"7dbf3e57-d5e9-4621-a996-0f899bc315e5\",\"type\":\"Toolbar\"},{\"attributes\":{},\"id\":\"97c8772a-044a-4c3e-b090-22bde7164048\",\"type\":\"SaveTool\"},{\"attributes\":{\"fill_alpha\":{\"value\":0.1},\"fill_color\":{\"value\":\"#1f77b4\"},\"line_alpha\":{\"value\":0.1},\"line_color\":{\"value\":\"#1f77b4\"},\"top\":{\"field\":\"flux\"},\"width\":{\"value\":0.9},\"x\":{\"field\":\"band\"}},\"id\":\"e710a149-5edd-478d-a4c4-db7d3d6b8cc5\",\"type\":\"VBar\"},{\"attributes\":{\"overlay\":{\"id\":\"4b8ba033-de88-4576-bcb0-f0f87bf4862e\",\"type\":\"BoxAnnotation\"}},\"id\":\"ab7dc909-58ba-44a1-af3c-cc33bcabc312\",\"type\":\"BoxZoomTool\"},{\"attributes\":{\"axis_label\":\"flux (W m-2)\",\"formatter\":{\"id\":\"91f88b2c-5751-4b2a-93fb-fc700d12999b\",\"type\":\"BasicTickFormatter\"},\"plot\":{\"id\":\"76ee402b-e70e-4aea-a7c6-b5c51c4f0fb7\",\"subtype\":\"Figure\",\"type\":\"Plot\"},\"ticker\":{\"id\":\"03e9b791-fe9e-40dc-9b64-dbca397b371e\",\"type\":\"BasicTicker\"}},\"id\":\"146248d2-6068-41b7-b2a0-7e68fe60b41b\",\"type\":\"LinearAxis\"},{\"attributes\":{},\"id\":\"0d7a8564-66af-414e-b35f-72e8b141a7f0\",\"type\":\"WheelZoomTool\"},{\"attributes\":{\"bottom_units\":\"screen\",\"fill_alpha\":{\"value\":0.5},\"fill_color\":{\"value\":\"lightgrey\"},\"left_units\":\"screen\",\"level\":\"overlay\",\"line_alpha\":{\"value\":1.0},\"line_color\":{\"value\":\"black\"},\"line_dash\":[4,4],\"line_width\":{\"value\":2},\"plot\":null,\"render_mode\":\"css\",\"right_units\":\"screen\",\"top_units\":\"screen\"},\"id\":\"4d179849-ea9a-4272-8385-e93669eafe77\",\"type\":\"BoxAnnotation\"},{\"attributes\":{\"callback\":null},\"id\":\"796b1c6e-36cb-447a-98d2-0ebca9d37b83\",\"type\":\"DataRange1d\"},{\"attributes\":{},\"id\":\"cb6e74c9-51b0-4fac-b539-57fff6129d65\",\"type\":\"PanTool\"},{\"attributes\":{\"data_source\":{\"id\":\"779c17bc-c3f1-4d63-941f-22623f1014c2\",\"type\":\"ColumnDataSource\"},\"glyph\":{\"id\":\"8df3450b-9631-40dc-a80e-ffc370e0987e\",\"type\":\"VBar\"},\"hover_glyph\":null,\"muted_glyph\":null,\"nonselection_glyph\":{\"id\":\"7b1e49b3-8768-4b55-a166-405a3326e019\",\"type\":\"VBar\"},\"selection_glyph\":null,\"view\":{\"id\":\"77734ff2-6908-4bdd-bb88-89d8f6554fec\",\"type\":\"CDSView\"}},\"id\":\"4d662c88-4af8-4fe8-90f1-c1b621f8b27f\",\"type\":\"GlyphRenderer\"},{\"attributes\":{},\"id\":\"6d678bff-6522-4056-8670-fd050d21f32e\",\"type\":\"PanTool\"},{\"attributes\":{\"data_source\":{\"id\":\"ce2b4b3b-9f85-4b78-a1ab-79b75b085ad3\",\"type\":\"ColumnDataSource\"},\"glyph\":{\"id\":\"71de3f02-e74b-48ee-aa48-8b75e1898be5\",\"type\":\"VBar\"},\"hover_glyph\":null,\"muted_glyph\":null,\"nonselection_glyph\":{\"id\":\"e710a149-5edd-478d-a4c4-db7d3d6b8cc5\",\"type\":\"VBar\"},\"selection_glyph\":null,\"view\":{\"id\":\"6431dd5a-52e4-481b-acbb-76353a2c1eef\",\"type\":\"CDSView\"}},\"id\":\"baf22e84-fd40-41ec-b16e-5f4e4e63741c\",\"type\":\"GlyphRenderer\"},{\"attributes\":{},\"id\":\"204db03f-571e-461c-aaf1-2c8a88232df4\",\"type\":\"WheelZoomTool\"},{\"attributes\":{\"bottom_units\":\"screen\",\"fill_alpha\":{\"value\":0.5},\"fill_color\":{\"value\":\"lightgrey\"},\"left_units\":\"screen\",\"level\":\"overlay\",\"line_alpha\":{\"value\":1.0},\"line_color\":{\"value\":\"black\"},\"line_dash\":[4,4],\"line_width\":{\"value\":2},\"plot\":null,\"render_mode\":\"css\",\"right_units\":\"screen\",\"top_units\":\"screen\"},\"id\":\"4b8ba033-de88-4576-bcb0-f0f87bf4862e\",\"type\":\"BoxAnnotation\"},{\"attributes\":{\"active_drag\":\"auto\",\"active_inspect\":\"auto\",\"active_scroll\":\"auto\",\"active_tap\":\"auto\",\"tools\":[{\"id\":\"1f11690e-13e4-4170-ac0d-6418499e8cac\",\"type\":\"PanTool\"},{\"id\":\"14768a68-5006-40f5-93ff-acdc8db344af\",\"type\":\"WheelZoomTool\"},{\"id\":\"1a620cdd-0897-4c2b-9480-3cdb24541b98\",\"type\":\"BoxZoomTool\"},{\"id\":\"3b0e2dd6-0e60-4379-a56c-dc890c44722f\",\"type\":\"SaveTool\"},{\"id\":\"c1b841d3-2dfe-4716-80ec-23531995b655\",\"type\":\"ResetTool\"},{\"id\":\"548c95b1-c8dd-4ea2-beb1-36a38c921663\",\"type\":\"HelpTool\"}]},\"id\":\"7d19ec2e-3674-4337-aaa3-320c48b723ad\",\"type\":\"Toolbar\"},{\"attributes\":{\"overlay\":{\"id\":\"4d179849-ea9a-4272-8385-e93669eafe77\",\"type\":\"BoxAnnotation\"}},\"id\":\"92fd59dc-3faf-4f46-b1d5-bdddf3681ed7\",\"type\":\"BoxZoomTool\"},{\"attributes\":{},\"id\":\"62c8ade9-99e9-4ad9-88d8-77ffb1d2b165\",\"type\":\"CategoricalTickFormatter\"},{\"attributes\":{\"callback\":null,\"factors\":[\"7\"]},\"id\":\"58acd8a7-bbad-46af-8fb0-a5f72080c977\",\"type\":\"FactorRange\"},{\"attributes\":{},\"id\":\"488a192e-056f-4857-aa91-9e7c94fbdbad\",\"type\":\"SaveTool\"},{\"attributes\":{\"plot\":null,\"text\":\"TOA flux. CLIRAD - CRD.\"},\"id\":\"f25ad4db-e380-460a-a491-e411497bc781\",\"type\":\"Title\"},{\"attributes\":{\"tools\":[{\"id\":\"1f11690e-13e4-4170-ac0d-6418499e8cac\",\"type\":\"PanTool\"},{\"id\":\"14768a68-5006-40f5-93ff-acdc8db344af\",\"type\":\"WheelZoomTool\"},{\"id\":\"1a620cdd-0897-4c2b-9480-3cdb24541b98\",\"type\":\"BoxZoomTool\"},{\"id\":\"3b0e2dd6-0e60-4379-a56c-dc890c44722f\",\"type\":\"SaveTool\"},{\"id\":\"c1b841d3-2dfe-4716-80ec-23531995b655\",\"type\":\"ResetTool\"},{\"id\":\"548c95b1-c8dd-4ea2-beb1-36a38c921663\",\"type\":\"HelpTool\"},{\"id\":\"cb6e74c9-51b0-4fac-b539-57fff6129d65\",\"type\":\"PanTool\"},{\"id\":\"204db03f-571e-461c-aaf1-2c8a88232df4\",\"type\":\"WheelZoomTool\"},{\"id\":\"92fd59dc-3faf-4f46-b1d5-bdddf3681ed7\",\"type\":\"BoxZoomTool\"},{\"id\":\"488a192e-056f-4857-aa91-9e7c94fbdbad\",\"type\":\"SaveTool\"},{\"id\":\"ba847785-a692-4728-8b87-4fb84c03c5e9\",\"type\":\"ResetTool\"},{\"id\":\"f7a8cae9-2f5b-4b9d-ad69-d332dbe8e8b3\",\"type\":\"HelpTool\"},{\"id\":\"6d678bff-6522-4056-8670-fd050d21f32e\",\"type\":\"PanTool\"},{\"id\":\"0d7a8564-66af-414e-b35f-72e8b141a7f0\",\"type\":\"WheelZoomTool\"},{\"id\":\"ab7dc909-58ba-44a1-af3c-cc33bcabc312\",\"type\":\"BoxZoomTool\"},{\"id\":\"97c8772a-044a-4c3e-b090-22bde7164048\",\"type\":\"SaveTool\"},{\"id\":\"5a9664e6-83ac-47ec-a24d-8776b56ea1ed\",\"type\":\"ResetTool\"},{\"id\":\"d4dee0d2-cc1e-4386-b8cb-a98f695c1cb1\",\"type\":\"HelpTool\"}]},\"id\":\"97d3b6c8-d162-42e2-9e5e-f391c1731edf\",\"type\":\"ProxyToolbar\"},{\"attributes\":{},\"id\":\"ba847785-a692-4728-8b87-4fb84c03c5e9\",\"type\":\"ResetTool\"},{\"attributes\":{},\"id\":\"f7a8cae9-2f5b-4b9d-ad69-d332dbe8e8b3\",\"type\":\"HelpTool\"},{\"attributes\":{},\"id\":\"d4dee0d2-cc1e-4386-b8cb-a98f695c1cb1\",\"type\":\"HelpTool\"},{\"attributes\":{\"source\":{\"id\":\"779c17bc-c3f1-4d63-941f-22623f1014c2\",\"type\":\"ColumnDataSource\"}},\"id\":\"77734ff2-6908-4bdd-bb88-89d8f6554fec\",\"type\":\"CDSView\"},{\"attributes\":{},\"id\":\"3a557c4b-8971-47ad-b5bc-2a7d62665288\",\"type\":\"CategoricalScale\"},{\"attributes\":{},\"id\":\"ca9419db-9412-4b7e-b608-0e77db04209e\",\"type\":\"UnionRenderers\"},{\"attributes\":{\"source\":{\"id\":\"ce2b4b3b-9f85-4b78-a1ab-79b75b085ad3\",\"type\":\"ColumnDataSource\"}},\"id\":\"6431dd5a-52e4-481b-acbb-76353a2c1eef\",\"type\":\"CDSView\"},{\"attributes\":{},\"id\":\"8ad87664-dde7-4d24-b9b2-d5a1a7c2b48e\",\"type\":\"LinearScale\"},{\"attributes\":{\"plot\":{\"id\":\"76ee402b-e70e-4aea-a7c6-b5c51c4f0fb7\",\"subtype\":\"Figure\",\"type\":\"Plot\"},\"ticker\":{\"id\":\"e88dd21a-b443-4bb6-adae-deed6a11c23a\",\"type\":\"CategoricalTicker\"}},\"id\":\"f003e69d-87eb-4c93-a1a9-fb4a86f5e423\",\"type\":\"Grid\"},{\"attributes\":{\"children\":[{\"id\":\"bf4f8dbe-0503-46a0-b81d-7cc11750ec08\",\"type\":\"Row\"}]},\"id\":\"edf800af-1ff3-4b7e-bc97-0e2632b3c7c9\",\"type\":\"Column\"},{\"attributes\":{\"axis_label\":\"spectral band\",\"formatter\":{\"id\":\"62c8ade9-99e9-4ad9-88d8-77ffb1d2b165\",\"type\":\"CategoricalTickFormatter\"},\"plot\":{\"id\":\"76ee402b-e70e-4aea-a7c6-b5c51c4f0fb7\",\"subtype\":\"Figure\",\"type\":\"Plot\"},\"ticker\":{\"id\":\"e88dd21a-b443-4bb6-adae-deed6a11c23a\",\"type\":\"CategoricalTicker\"}},\"id\":\"ed43d3b9-855f-41eb-8d46-b8d63886f51f\",\"type\":\"CategoricalAxis\"},{\"attributes\":{\"axis_label\":\"flux (W m-2)\",\"formatter\":{\"id\":\"9f6ed27b-7e98-4305-9ef6-1dcb2f8d24d6\",\"type\":\"BasicTickFormatter\"},\"plot\":{\"id\":\"db9f83f2-bb8e-456f-9912-f7cff429374d\",\"subtype\":\"Figure\",\"type\":\"Plot\"},\"ticker\":{\"id\":\"b4621302-1d73-488a-914b-502d7a4f37bf\",\"type\":\"BasicTicker\"}},\"id\":\"86cb0193-7876-4aa6-8cb8-e674cf28e775\",\"type\":\"LinearAxis\"},{\"attributes\":{},\"id\":\"4c3cf0cf-db7e-449a-b556-f8d5452f3a8d\",\"type\":\"BasicTickFormatter\"},{\"attributes\":{},\"id\":\"e88dd21a-b443-4bb6-adae-deed6a11c23a\",\"type\":\"CategoricalTicker\"},{\"attributes\":{},\"id\":\"91f88b2c-5751-4b2a-93fb-fc700d12999b\",\"type\":\"BasicTickFormatter\"},{\"attributes\":{\"fill_color\":{\"value\":\"#1f77b4\"},\"line_color\":{\"value\":\"#1f77b4\"},\"top\":{\"field\":\"flux\"},\"width\":{\"value\":0.9},\"x\":{\"field\":\"band\"}},\"id\":\"e6dd1bf2-22e1-4d84-bd7e-93912bedf6a6\",\"type\":\"VBar\"},{\"attributes\":{},\"id\":\"03e9b791-fe9e-40dc-9b64-dbca397b371e\",\"type\":\"BasicTicker\"},{\"attributes\":{\"dimension\":1,\"plot\":{\"id\":\"76ee402b-e70e-4aea-a7c6-b5c51c4f0fb7\",\"subtype\":\"Figure\",\"type\":\"Plot\"},\"ticker\":{\"id\":\"03e9b791-fe9e-40dc-9b64-dbca397b371e\",\"type\":\"BasicTicker\"}},\"id\":\"2986fc4c-4f33-4959-bc06-33cee9cd5104\",\"type\":\"Grid\"},{\"attributes\":{},\"id\":\"2a90a689-b276-42bb-a3ca-fb870dccdf2a\",\"type\":\"Selection\"},{\"attributes\":{\"fill_alpha\":{\"value\":0.1},\"fill_color\":{\"value\":\"#1f77b4\"},\"line_alpha\":{\"value\":0.1},\"line_color\":{\"value\":\"#1f77b4\"},\"top\":{\"field\":\"flux\"},\"width\":{\"value\":0.9},\"x\":{\"field\":\"band\"}},\"id\":\"6603e038-330a-4670-8bf7-656ffbe8f700\",\"type\":\"VBar\"},{\"attributes\":{},\"id\":\"c5941f5d-349e-4dc4-8f0e-1f4c505ecba4\",\"type\":\"Selection\"},{\"attributes\":{},\"id\":\"c00616d6-14f9-43aa-8198-fb5c7972fce2\",\"type\":\"CategoricalTickFormatter\"},{\"attributes\":{},\"id\":\"219c848d-8a72-433d-9374-5d75ca450066\",\"type\":\"UnionRenderers\"},{\"attributes\":{\"bottom_units\":\"screen\",\"fill_alpha\":{\"value\":0.5},\"fill_color\":{\"value\":\"lightgrey\"},\"left_units\":\"screen\",\"level\":\"overlay\",\"line_alpha\":{\"value\":1.0},\"line_color\":{\"value\":\"black\"},\"line_dash\":[4,4],\"line_width\":{\"value\":2},\"plot\":null,\"render_mode\":\"css\",\"right_units\":\"screen\",\"top_units\":\"screen\"},\"id\":\"64b5b5c7-78e0-4fed-b308-1bb7c41efe8a\",\"type\":\"BoxAnnotation\"},{\"attributes\":{},\"id\":\"1f11690e-13e4-4170-ac0d-6418499e8cac\",\"type\":\"PanTool\"},{\"attributes\":{\"toolbar\":{\"id\":\"97d3b6c8-d162-42e2-9e5e-f391c1731edf\",\"type\":\"ProxyToolbar\"},\"toolbar_location\":\"above\"},\"id\":\"f23a6505-7d82-4216-af88-dbd1d60565de\",\"type\":\"ToolbarBox\"},{\"attributes\":{\"data_source\":{\"id\":\"5d19f3b8-f545-4451-a52c-722fb54e5d99\",\"type\":\"ColumnDataSource\"},\"glyph\":{\"id\":\"e6dd1bf2-22e1-4d84-bd7e-93912bedf6a6\",\"type\":\"VBar\"},\"hover_glyph\":null,\"muted_glyph\":null,\"nonselection_glyph\":{\"id\":\"6603e038-330a-4670-8bf7-656ffbe8f700\",\"type\":\"VBar\"},\"selection_glyph\":null,\"view\":{\"id\":\"a1dfc9ec-0d06-4099-a961-0ec3d5f1ce4c\",\"type\":\"CDSView\"}},\"id\":\"71ae6e72-7120-4e94-9c08-95a8a63ed8e5\",\"type\":\"GlyphRenderer\"},{\"attributes\":{\"children\":[{\"id\":\"f23a6505-7d82-4216-af88-dbd1d60565de\",\"type\":\"ToolbarBox\"},{\"id\":\"edf800af-1ff3-4b7e-bc97-0e2632b3c7c9\",\"type\":\"Column\"}]},\"id\":\"44f86b17-53b9-419b-bba7-d9b49d180c81\",\"type\":\"Column\"},{\"attributes\":{},\"id\":\"14768a68-5006-40f5-93ff-acdc8db344af\",\"type\":\"WheelZoomTool\"},{\"attributes\":{},\"id\":\"6f3acfe7-33ae-4df8-917e-2f05530a945d\",\"type\":\"Selection\"},{\"attributes\":{\"overlay\":{\"id\":\"64b5b5c7-78e0-4fed-b308-1bb7c41efe8a\",\"type\":\"BoxAnnotation\"}},\"id\":\"1a620cdd-0897-4c2b-9480-3cdb24541b98\",\"type\":\"BoxZoomTool\"},{\"attributes\":{},\"id\":\"3b0e2dd6-0e60-4379-a56c-dc890c44722f\",\"type\":\"SaveTool\"},{\"attributes\":{\"children\":[{\"id\":\"76ee402b-e70e-4aea-a7c6-b5c51c4f0fb7\",\"subtype\":\"Figure\",\"type\":\"Plot\"},{\"id\":\"5ceb3b52-7d86-4224-a681-a8e49969c112\",\"subtype\":\"Figure\",\"type\":\"Plot\"},{\"id\":\"db9f83f2-bb8e-456f-9912-f7cff429374d\",\"subtype\":\"Figure\",\"type\":\"Plot\"}]},\"id\":\"bf4f8dbe-0503-46a0-b81d-7cc11750ec08\",\"type\":\"Row\"},{\"attributes\":{},\"id\":\"c1b841d3-2dfe-4716-80ec-23531995b655\",\"type\":\"ResetTool\"},{\"attributes\":{},\"id\":\"d286d57a-3060-461a-b718-a430144e9229\",\"type\":\"UnionRenderers\"},{\"attributes\":{},\"id\":\"548c95b1-c8dd-4ea2-beb1-36a38c921663\",\"type\":\"HelpTool\"},{\"attributes\":{\"callback\":null,\"factors\":[\"7\"]},\"id\":\"c61694e0-e949-4969-aa4c-7f07837f1b39\",\"type\":\"FactorRange\"},{\"attributes\":{\"source\":{\"id\":\"5d19f3b8-f545-4451-a52c-722fb54e5d99\",\"type\":\"ColumnDataSource\"}},\"id\":\"a1dfc9ec-0d06-4099-a961-0ec3d5f1ce4c\",\"type\":\"CDSView\"},{\"attributes\":{\"plot\":null,\"text\":\"SFC flux. CLIRAD - CRD.\"},\"id\":\"9c2fe089-6bb5-4a4b-b5db-023d9c34029a\",\"type\":\"Title\"},{\"attributes\":{},\"id\":\"9f6ed27b-7e98-4305-9ef6-1dcb2f8d24d6\",\"type\":\"BasicTickFormatter\"},{\"attributes\":{\"dimension\":1,\"plot\":{\"id\":\"5ceb3b52-7d86-4224-a681-a8e49969c112\",\"subtype\":\"Figure\",\"type\":\"Plot\"},\"ticker\":{\"id\":\"e7818571-ba11-4e92-9396-9c677bb3c4aa\",\"type\":\"BasicTicker\"}},\"id\":\"0660b359-8564-4b90-b280-829664403dd4\",\"type\":\"Grid\"},{\"attributes\":{\"axis_label\":\"spectral band\",\"formatter\":{\"id\":\"008e8bef-4e1e-4085-b05f-133c0fa9e4c0\",\"type\":\"CategoricalTickFormatter\"},\"plot\":{\"id\":\"db9f83f2-bb8e-456f-9912-f7cff429374d\",\"subtype\":\"Figure\",\"type\":\"Plot\"},\"ticker\":{\"id\":\"8eda61da-7d38-40db-b4c7-9b957e21b71a\",\"type\":\"CategoricalTicker\"}},\"id\":\"51e59af0-b607-48fb-a9ab-a56e2c5074b5\",\"type\":\"CategoricalAxis\"},{\"attributes\":{},\"id\":\"f21da687-9fa1-4d09-bba8-c224a0a9cbdd\",\"type\":\"CategoricalTicker\"},{\"attributes\":{\"callback\":null,\"data\":{\"band\":[\"7\"],\"flux\":{\"__ndarray__\":\"QDHjpU92yj8=\",\"dtype\":\"float64\",\"shape\":[1]}},\"selected\":{\"id\":\"2a90a689-b276-42bb-a3ca-fb870dccdf2a\",\"type\":\"Selection\"},\"selection_policy\":{\"id\":\"d286d57a-3060-461a-b718-a430144e9229\",\"type\":\"UnionRenderers\"}},\"id\":\"779c17bc-c3f1-4d63-941f-22623f1014c2\",\"type\":\"ColumnDataSource\"},{\"attributes\":{\"callback\":null,\"factors\":[\"7\"]},\"id\":\"662e2164-048f-437c-9762-b20f74b0a3a3\",\"type\":\"FactorRange\"},{\"attributes\":{\"callback\":null},\"id\":\"aa3549bc-6564-4e0a-9af5-4ceb10e8f360\",\"type\":\"DataRange1d\"},{\"attributes\":{\"below\":[{\"id\":\"51e59af0-b607-48fb-a9ab-a56e2c5074b5\",\"type\":\"CategoricalAxis\"}],\"left\":[{\"id\":\"86cb0193-7876-4aa6-8cb8-e674cf28e775\",\"type\":\"LinearAxis\"}],\"plot_height\":300,\"plot_width\":300,\"renderers\":[{\"id\":\"51e59af0-b607-48fb-a9ab-a56e2c5074b5\",\"type\":\"CategoricalAxis\"},{\"id\":\"5038c1a9-0334-4b21-9b35-821090010aa7\",\"type\":\"Grid\"},{\"id\":\"86cb0193-7876-4aa6-8cb8-e674cf28e775\",\"type\":\"LinearAxis\"},{\"id\":\"5065eac2-d86c-48ea-b5e4-ed6b029adcc1\",\"type\":\"Grid\"},{\"id\":\"4b8ba033-de88-4576-bcb0-f0f87bf4862e\",\"type\":\"BoxAnnotation\"},{\"id\":\"4d662c88-4af8-4fe8-90f1-c1b621f8b27f\",\"type\":\"GlyphRenderer\"}],\"title\":{\"id\":\"ec703a1e-74e9-4b9c-9359-ca4c6da9d929\",\"type\":\"Title\"},\"toolbar\":{\"id\":\"826135c2-1266-467c-9609-0547dd4723cf\",\"type\":\"Toolbar\"},\"toolbar_location\":null,\"x_range\":{\"id\":\"662e2164-048f-437c-9762-b20f74b0a3a3\",\"type\":\"FactorRange\"},\"x_scale\":{\"id\":\"42208ab7-0f35-4d17-a4d3-efdcf39a34dd\",\"type\":\"CategoricalScale\"},\"y_range\":{\"id\":\"aa3549bc-6564-4e0a-9af5-4ceb10e8f360\",\"type\":\"DataRange1d\"},\"y_scale\":{\"id\":\"d56cc354-3fc2-4749-ae48-dd944bb763d6\",\"type\":\"LinearScale\"}},\"id\":\"db9f83f2-bb8e-456f-9912-f7cff429374d\",\"subtype\":\"Figure\",\"type\":\"Plot\"},{\"attributes\":{\"below\":[{\"id\":\"9f9f59ba-ace0-436c-b68b-9e580721f572\",\"type\":\"CategoricalAxis\"}],\"left\":[{\"id\":\"d2f02595-1169-4633-9cc8-3171b99d2c2c\",\"type\":\"LinearAxis\"}],\"plot_height\":300,\"plot_width\":300,\"renderers\":[{\"id\":\"9f9f59ba-ace0-436c-b68b-9e580721f572\",\"type\":\"CategoricalAxis\"},{\"id\":\"84e4d6bf-d6f0-4620-be87-33e6ac802e66\",\"type\":\"Grid\"},{\"id\":\"d2f02595-1169-4633-9cc8-3171b99d2c2c\",\"type\":\"LinearAxis\"},{\"id\":\"0660b359-8564-4b90-b280-829664403dd4\",\"type\":\"Grid\"},{\"id\":\"4d179849-ea9a-4272-8385-e93669eafe77\",\"type\":\"BoxAnnotation\"},{\"id\":\"baf22e84-fd40-41ec-b16e-5f4e4e63741c\",\"type\":\"GlyphRenderer\"}],\"title\":{\"id\":\"9c2fe089-6bb5-4a4b-b5db-023d9c34029a\",\"type\":\"Title\"},\"toolbar\":{\"id\":\"7dbf3e57-d5e9-4621-a996-0f899bc315e5\",\"type\":\"Toolbar\"},\"toolbar_location\":null,\"x_range\":{\"id\":\"c61694e0-e949-4969-aa4c-7f07837f1b39\",\"type\":\"FactorRange\"},\"x_scale\":{\"id\":\"d58d334c-683a-49a5-8c5c-4597d328111c\",\"type\":\"CategoricalScale\"},\"y_range\":{\"id\":\"51285506-aa29-4419-abb5-3d783ca61b77\",\"type\":\"DataRange1d\"},\"y_scale\":{\"id\":\"1d0d1e4e-ec9a-49f6-ba4a-252dbf3390e2\",\"type\":\"LinearScale\"}},\"id\":\"5ceb3b52-7d86-4224-a681-a8e49969c112\",\"subtype\":\"Figure\",\"type\":\"Plot\"},{\"attributes\":{\"callback\":null,\"data\":{\"band\":[\"7\"],\"flux\":{\"__ndarray__\":\"oJN6wzuI0j8=\",\"dtype\":\"float64\",\"shape\":[1]}},\"selected\":{\"id\":\"c5941f5d-349e-4dc4-8f0e-1f4c505ecba4\",\"type\":\"Selection\"},\"selection_policy\":{\"id\":\"ca9419db-9412-4b7e-b608-0e77db04209e\",\"type\":\"UnionRenderers\"}},\"id\":\"5d19f3b8-f545-4451-a52c-722fb54e5d99\",\"type\":\"ColumnDataSource\"},{\"attributes\":{\"plot\":{\"id\":\"db9f83f2-bb8e-456f-9912-f7cff429374d\",\"subtype\":\"Figure\",\"type\":\"Plot\"},\"ticker\":{\"id\":\"8eda61da-7d38-40db-b4c7-9b957e21b71a\",\"type\":\"CategoricalTicker\"}},\"id\":\"5038c1a9-0334-4b21-9b35-821090010aa7\",\"type\":\"Grid\"},{\"attributes\":{},\"id\":\"b4621302-1d73-488a-914b-502d7a4f37bf\",\"type\":\"BasicTicker\"},{\"attributes\":{},\"id\":\"d56cc354-3fc2-4749-ae48-dd944bb763d6\",\"type\":\"LinearScale\"},{\"attributes\":{\"axis_label\":\"spectral band\",\"formatter\":{\"id\":\"c00616d6-14f9-43aa-8198-fb5c7972fce2\",\"type\":\"CategoricalTickFormatter\"},\"plot\":{\"id\":\"5ceb3b52-7d86-4224-a681-a8e49969c112\",\"subtype\":\"Figure\",\"type\":\"Plot\"},\"ticker\":{\"id\":\"f21da687-9fa1-4d09-bba8-c224a0a9cbdd\",\"type\":\"CategoricalTicker\"}},\"id\":\"9f9f59ba-ace0-436c-b68b-9e580721f572\",\"type\":\"CategoricalAxis\"},{\"attributes\":{\"plot\":{\"id\":\"5ceb3b52-7d86-4224-a681-a8e49969c112\",\"subtype\":\"Figure\",\"type\":\"Plot\"},\"ticker\":{\"id\":\"f21da687-9fa1-4d09-bba8-c224a0a9cbdd\",\"type\":\"CategoricalTicker\"}},\"id\":\"84e4d6bf-d6f0-4620-be87-33e6ac802e66\",\"type\":\"Grid\"},{\"attributes\":{},\"id\":\"8eda61da-7d38-40db-b4c7-9b957e21b71a\",\"type\":\"CategoricalTicker\"},{\"attributes\":{},\"id\":\"1d0d1e4e-ec9a-49f6-ba4a-252dbf3390e2\",\"type\":\"LinearScale\"},{\"attributes\":{\"dimension\":1,\"plot\":{\"id\":\"db9f83f2-bb8e-456f-9912-f7cff429374d\",\"subtype\":\"Figure\",\"type\":\"Plot\"},\"ticker\":{\"id\":\"b4621302-1d73-488a-914b-502d7a4f37bf\",\"type\":\"BasicTicker\"}},\"id\":\"5065eac2-d86c-48ea-b5e4-ed6b029adcc1\",\"type\":\"Grid\"},{\"attributes\":{\"plot\":null,\"text\":\"Atmosphere heating. CLIRAD - CRD.\"},\"id\":\"ec703a1e-74e9-4b9c-9359-ca4c6da9d929\",\"type\":\"Title\"},{\"attributes\":{\"fill_alpha\":{\"value\":0.1},\"fill_color\":{\"value\":\"#1f77b4\"},\"line_alpha\":{\"value\":0.1},\"line_color\":{\"value\":\"#1f77b4\"},\"top\":{\"field\":\"flux\"},\"width\":{\"value\":0.9},\"x\":{\"field\":\"band\"}},\"id\":\"7b1e49b3-8768-4b55-a166-405a3326e019\",\"type\":\"VBar\"},{\"attributes\":{\"callback\":null},\"id\":\"51285506-aa29-4419-abb5-3d783ca61b77\",\"type\":\"DataRange1d\"},{\"attributes\":{\"fill_color\":{\"value\":\"#1f77b4\"},\"line_color\":{\"value\":\"#1f77b4\"},\"top\":{\"field\":\"flux\"},\"width\":{\"value\":0.9},\"x\":{\"field\":\"band\"}},\"id\":\"71de3f02-e74b-48ee-aa48-8b75e1898be5\",\"type\":\"VBar\"},{\"attributes\":{\"axis_label\":\"flux (W m-2)\",\"formatter\":{\"id\":\"4c3cf0cf-db7e-449a-b556-f8d5452f3a8d\",\"type\":\"BasicTickFormatter\"},\"plot\":{\"id\":\"5ceb3b52-7d86-4224-a681-a8e49969c112\",\"subtype\":\"Figure\",\"type\":\"Plot\"},\"ticker\":{\"id\":\"e7818571-ba11-4e92-9396-9c677bb3c4aa\",\"type\":\"BasicTicker\"}},\"id\":\"d2f02595-1169-4633-9cc8-3171b99d2c2c\",\"type\":\"LinearAxis\"},{\"attributes\":{\"callback\":null,\"data\":{\"band\":[\"7\"],\"flux\":{\"__ndarray__\":\"gEQlv480tT8=\",\"dtype\":\"float64\",\"shape\":[1]}},\"selected\":{\"id\":\"6f3acfe7-33ae-4df8-917e-2f05530a945d\",\"type\":\"Selection\"},\"selection_policy\":{\"id\":\"219c848d-8a72-433d-9374-5d75ca450066\",\"type\":\"UnionRenderers\"}},\"id\":\"ce2b4b3b-9f85-4b78-a1ab-79b75b085ad3\",\"type\":\"ColumnDataSource\"},{\"attributes\":{\"fill_color\":{\"value\":\"#1f77b4\"},\"line_color\":{\"value\":\"#1f77b4\"},\"top\":{\"field\":\"flux\"},\"width\":{\"value\":0.9},\"x\":{\"field\":\"band\"}},\"id\":\"8df3450b-9631-40dc-a80e-ffc370e0987e\",\"type\":\"VBar\"},{\"attributes\":{},\"id\":\"008e8bef-4e1e-4085-b05f-133c0fa9e4c0\",\"type\":\"CategoricalTickFormatter\"},{\"attributes\":{\"active_drag\":\"auto\",\"active_inspect\":\"auto\",\"active_scroll\":\"auto\",\"active_tap\":\"auto\",\"tools\":[{\"id\":\"6d678bff-6522-4056-8670-fd050d21f32e\",\"type\":\"PanTool\"},{\"id\":\"0d7a8564-66af-414e-b35f-72e8b141a7f0\",\"type\":\"WheelZoomTool\"},{\"id\":\"ab7dc909-58ba-44a1-af3c-cc33bcabc312\",\"type\":\"BoxZoomTool\"},{\"id\":\"97c8772a-044a-4c3e-b090-22bde7164048\",\"type\":\"SaveTool\"},{\"id\":\"5a9664e6-83ac-47ec-a24d-8776b56ea1ed\",\"type\":\"ResetTool\"},{\"id\":\"d4dee0d2-cc1e-4386-b8cb-a98f695c1cb1\",\"type\":\"HelpTool\"}]},\"id\":\"826135c2-1266-467c-9609-0547dd4723cf\",\"type\":\"Toolbar\"},{\"attributes\":{},\"id\":\"d58d334c-683a-49a5-8c5c-4597d328111c\",\"type\":\"CategoricalScale\"},{\"attributes\":{},\"id\":\"42208ab7-0f35-4d17-a4d3-efdcf39a34dd\",\"type\":\"CategoricalScale\"},{\"attributes\":{},\"id\":\"e7818571-ba11-4e92-9396-9c677bb3c4aa\",\"type\":\"BasicTicker\"},{\"attributes\":{\"below\":[{\"id\":\"ed43d3b9-855f-41eb-8d46-b8d63886f51f\",\"type\":\"CategoricalAxis\"}],\"left\":[{\"id\":\"146248d2-6068-41b7-b2a0-7e68fe60b41b\",\"type\":\"LinearAxis\"}],\"plot_height\":300,\"plot_width\":300,\"renderers\":[{\"id\":\"ed43d3b9-855f-41eb-8d46-b8d63886f51f\",\"type\":\"CategoricalAxis\"},{\"id\":\"f003e69d-87eb-4c93-a1a9-fb4a86f5e423\",\"type\":\"Grid\"},{\"id\":\"146248d2-6068-41b7-b2a0-7e68fe60b41b\",\"type\":\"LinearAxis\"},{\"id\":\"2986fc4c-4f33-4959-bc06-33cee9cd5104\",\"type\":\"Grid\"},{\"id\":\"64b5b5c7-78e0-4fed-b308-1bb7c41efe8a\",\"type\":\"BoxAnnotation\"},{\"id\":\"71ae6e72-7120-4e94-9c08-95a8a63ed8e5\",\"type\":\"GlyphRenderer\"}],\"title\":{\"id\":\"f25ad4db-e380-460a-a491-e411497bc781\",\"type\":\"Title\"},\"toolbar\":{\"id\":\"7d19ec2e-3674-4337-aaa3-320c48b723ad\",\"type\":\"Toolbar\"},\"toolbar_location\":null,\"x_range\":{\"id\":\"58acd8a7-bbad-46af-8fb0-a5f72080c977\",\"type\":\"FactorRange\"},\"x_scale\":{\"id\":\"3a557c4b-8971-47ad-b5bc-2a7d62665288\",\"type\":\"CategoricalScale\"},\"y_range\":{\"id\":\"796b1c6e-36cb-447a-98d2-0ebca9d37b83\",\"type\":\"DataRange1d\"},\"y_scale\":{\"id\":\"8ad87664-dde7-4d24-b9b2-d5a1a7c2b48e\",\"type\":\"LinearScale\"}},\"id\":\"76ee402b-e70e-4aea-a7c6-b5c51c4f0fb7\",\"subtype\":\"Figure\",\"type\":\"Plot\"}],\"root_ids\":[\"44f86b17-53b9-419b-bba7-d9b49d180c81\"]},\"title\":\"Bokeh Application\",\"version\":\"0.12.16\"}};\n",
       "  var render_items = [{\"docid\":\"e4711f8e-33f6-447b-bbf3-7279fcd178e2\",\"elementid\":\"141a4448-6cde-48d7-bc67-30aecab9fad6\",\"modelid\":\"44f86b17-53b9-419b-bba7-d9b49d180c81\"}];\n",
       "  root.Bokeh.embed.embed_items_notebook(docs_json, render_items);\n",
       "\n",
       "  }\n",
       "  if (root.Bokeh !== undefined) {\n",
       "    embed_document(root);\n",
       "  } else {\n",
       "    var attempts = 0;\n",
       "    var timer = setInterval(function(root) {\n",
       "      if (root.Bokeh !== undefined) {\n",
       "        embed_document(root);\n",
       "        clearInterval(timer);\n",
       "      }\n",
       "      attempts++;\n",
       "      if (attempts > 100) {\n",
       "        console.log(\"Bokeh: ERROR: Unable to run BokehJS code because BokehJS library is missing\")\n",
       "        clearInterval(timer);\n",
       "      }\n",
       "    }, 10, root)\n",
       "  }\n",
       "})(window);"
      ],
      "application/vnd.bokehjs_exec.v0+json": ""
     },
     "metadata": {
      "application/vnd.bokehjs_exec.v0+json": {
       "id": "44f86b17-53b9-419b-bba7-d9b49d180c81"
      }
     },
     "output_type": "display_data"
    },
    {
     "data": {
      "text/markdown": [
       "*FIGURE.* Difference between CLIRAD and CRD in TOA, SFC and net atmosphere flux, in each spectral band."
      ],
      "text/plain": [
       "<IPython.core.display.Markdown object>"
      ]
     },
     "metadata": {},
     "output_type": "display_data"
    },
    {
     "data": {
      "text/html": [
       "<div>\n",
       "<style scoped>\n",
       "    .dataframe tbody tr th:only-of-type {\n",
       "        vertical-align: middle;\n",
       "    }\n",
       "\n",
       "    .dataframe tbody tr th {\n",
       "        vertical-align: top;\n",
       "    }\n",
       "\n",
       "    .dataframe thead th {\n",
       "        text-align: right;\n",
       "    }\n",
       "</style>\n",
       "<table border=\"1\" class=\"dataframe\">\n",
       "  <thead>\n",
       "    <tr style=\"text-align: right;\">\n",
       "      <th></th>\n",
       "      <th>OLR flux</th>\n",
       "      <th>SFC flux</th>\n",
       "      <th>ATM heating</th>\n",
       "    </tr>\n",
       "    <tr>\n",
       "      <th>Sum over bands</th>\n",
       "      <th></th>\n",
       "      <th></th>\n",
       "      <th></th>\n",
       "    </tr>\n",
       "  </thead>\n",
       "  <tbody>\n",
       "    <tr>\n",
       "      <th>CLIRAD - CRD</th>\n",
       "      <td>0.29</td>\n",
       "      <td>0.08</td>\n",
       "      <td>0.21</td>\n",
       "    </tr>\n",
       "    <tr>\n",
       "      <th>CRD</th>\n",
       "      <td>-11.00</td>\n",
       "      <td>2.80</td>\n",
       "      <td>1.25</td>\n",
       "    </tr>\n",
       "  </tbody>\n",
       "</table>\n",
       "</div>"
      ],
      "text/plain": [
       "                OLR flux  SFC flux  ATM heating\n",
       "Sum over bands                                 \n",
       "CLIRAD - CRD        0.29      0.08         0.21\n",
       "CRD               -11.00      2.80         1.25"
      ]
     },
     "metadata": {},
     "output_type": "display_data"
    },
    {
     "data": {
      "text/markdown": [
       "*TABLE.* Difference between CLIRAD and CRD in TOA, SFC and net atmosphere flux, over all spectral bands. CRD's TOA, SFC and net atmosphere flux, over all spectral bands."
      ],
      "text/plain": [
       "<IPython.core.display.Markdown object>"
      ]
     },
     "metadata": {},
     "output_type": "display_data"
    },
    {
     "data": {
      "text/html": [
       "<a id=\"Parameters_of_runs._trp\"></a>"
      ],
      "text/plain": [
       "<IPython.core.display.HTML object>"
      ]
     },
     "metadata": {},
     "output_type": "display_data"
    },
    {
     "data": {
      "text/markdown": [
       "# Parameters of runs. trp"
      ],
      "text/plain": [
       "<IPython.core.display.Markdown object>"
      ]
     },
     "metadata": {},
     "output_type": "display_data"
    },
    {
     "data": {
      "text/html": [
       "<div>\n",
       "<style scoped>\n",
       "    .dataframe tbody tr th:only-of-type {\n",
       "        vertical-align: middle;\n",
       "    }\n",
       "\n",
       "    .dataframe tbody tr th {\n",
       "        vertical-align: top;\n",
       "    }\n",
       "\n",
       "    .dataframe thead tr th {\n",
       "        text-align: left;\n",
       "    }\n",
       "</style>\n",
       "<table border=\"1\" class=\"dataframe\">\n",
       "  <thead>\n",
       "    <tr>\n",
       "      <th></th>\n",
       "      <th>clirad-lw</th>\n",
       "      <th>lblnew-bestfit lw</th>\n",
       "    </tr>\n",
       "    <tr>\n",
       "      <th></th>\n",
       "      <th>:D</th>\n",
       "      <th>band5 o3</th>\n",
       "    </tr>\n",
       "  </thead>\n",
       "  <tbody>\n",
       "    <tr>\n",
       "      <th>atmpro</th>\n",
       "      <td>trp</td>\n",
       "      <td>trp</td>\n",
       "    </tr>\n",
       "    <tr>\n",
       "      <th>band</th>\n",
       "      <td>[7]</td>\n",
       "      <td>5</td>\n",
       "    </tr>\n",
       "    <tr>\n",
       "      <th>commitnumber</th>\n",
       "      <td>1013f91</td>\n",
       "      <td>5014a19</td>\n",
       "    </tr>\n",
       "    <tr>\n",
       "      <th>conc</th>\n",
       "      <td>-</td>\n",
       "      <td>-</td>\n",
       "    </tr>\n",
       "    <tr>\n",
       "      <th>dv</th>\n",
       "      <td>-</td>\n",
       "      <td>0.001</td>\n",
       "    </tr>\n",
       "    <tr>\n",
       "      <th>klin</th>\n",
       "      <td>-</td>\n",
       "      <td>2e-20</td>\n",
       "    </tr>\n",
       "    <tr>\n",
       "      <th>molecule</th>\n",
       "      <td>{'o3': 'atmpro'}</td>\n",
       "      <td>o3</td>\n",
       "    </tr>\n",
       "    <tr>\n",
       "      <th>ng_adju</th>\n",
       "      <td>-</td>\n",
       "      <td>[0, 0]</td>\n",
       "    </tr>\n",
       "    <tr>\n",
       "      <th>ng_refs</th>\n",
       "      <td>-</td>\n",
       "      <td>[2, 5]</td>\n",
       "    </tr>\n",
       "    <tr>\n",
       "      <th>nv</th>\n",
       "      <td>-</td>\n",
       "      <td>1000</td>\n",
       "    </tr>\n",
       "    <tr>\n",
       "      <th>option_compute_btable</th>\n",
       "      <td>-</td>\n",
       "      <td>0</td>\n",
       "    </tr>\n",
       "    <tr>\n",
       "      <th>option_compute_ktable</th>\n",
       "      <td>-</td>\n",
       "      <td>0</td>\n",
       "    </tr>\n",
       "    <tr>\n",
       "      <th>option_wgt_flux</th>\n",
       "      <td>-</td>\n",
       "      <td>1</td>\n",
       "    </tr>\n",
       "    <tr>\n",
       "      <th>option_wgt_k</th>\n",
       "      <td>-</td>\n",
       "      <td>1</td>\n",
       "    </tr>\n",
       "    <tr>\n",
       "      <th>ref_pts</th>\n",
       "      <td>-</td>\n",
       "      <td>[[1, 250], [50, 250]]</td>\n",
       "    </tr>\n",
       "    <tr>\n",
       "      <th>tsfc</th>\n",
       "      <td>300</td>\n",
       "      <td>300</td>\n",
       "    </tr>\n",
       "    <tr>\n",
       "      <th>vmax</th>\n",
       "      <td>-</td>\n",
       "      <td>1100</td>\n",
       "    </tr>\n",
       "    <tr>\n",
       "      <th>vmin</th>\n",
       "      <td>-</td>\n",
       "      <td>980</td>\n",
       "    </tr>\n",
       "    <tr>\n",
       "      <th>w_diffuse</th>\n",
       "      <td>-</td>\n",
       "      <td>[[1.6, 1.75], [1.55, 1.66, 1.7, 1.75, 1.8]]</td>\n",
       "    </tr>\n",
       "    <tr>\n",
       "      <th>wgt</th>\n",
       "      <td>-</td>\n",
       "      <td>[[0.35, 0.6], [0.5, 0.55, 0.7, 0.9, 1.0]]</td>\n",
       "    </tr>\n",
       "  </tbody>\n",
       "</table>\n",
       "</div>"
      ],
      "text/plain": [
       "                              clirad-lw  \\\n",
       "                                     :D   \n",
       "atmpro                              trp   \n",
       "band                                [7]   \n",
       "commitnumber                    1013f91   \n",
       "conc                                  -   \n",
       "dv                                    -   \n",
       "klin                                  -   \n",
       "molecule               {'o3': 'atmpro'}   \n",
       "ng_adju                               -   \n",
       "ng_refs                               -   \n",
       "nv                                    -   \n",
       "option_compute_btable                 -   \n",
       "option_compute_ktable                 -   \n",
       "option_wgt_flux                       -   \n",
       "option_wgt_k                          -   \n",
       "ref_pts                               -   \n",
       "tsfc                                300   \n",
       "vmax                                  -   \n",
       "vmin                                  -   \n",
       "w_diffuse                             -   \n",
       "wgt                                   -   \n",
       "\n",
       "                                                 lblnew-bestfit lw  \n",
       "                                                          band5 o3  \n",
       "atmpro                                                         trp  \n",
       "band                                                             5  \n",
       "commitnumber                                               5014a19  \n",
       "conc                                                             -  \n",
       "dv                                                           0.001  \n",
       "klin                                                         2e-20  \n",
       "molecule                                                        o3  \n",
       "ng_adju                                                     [0, 0]  \n",
       "ng_refs                                                     [2, 5]  \n",
       "nv                                                            1000  \n",
       "option_compute_btable                                            0  \n",
       "option_compute_ktable                                            0  \n",
       "option_wgt_flux                                                  1  \n",
       "option_wgt_k                                                     1  \n",
       "ref_pts                                      [[1, 250], [50, 250]]  \n",
       "tsfc                                                           300  \n",
       "vmax                                                          1100  \n",
       "vmin                                                           980  \n",
       "w_diffuse              [[1.6, 1.75], [1.55, 1.66, 1.7, 1.75, 1.8]]  \n",
       "wgt                      [[0.35, 0.6], [0.5, 0.55, 0.7, 0.9, 1.0]]  "
      ]
     },
     "metadata": {},
     "output_type": "display_data"
    },
    {
     "data": {
      "text/html": [
       "<a id=\"Cooling_rates._trp.\"></a>"
      ],
      "text/plain": [
       "<IPython.core.display.HTML object>"
      ]
     },
     "metadata": {},
     "output_type": "display_data"
    },
    {
     "data": {
      "text/markdown": [
       "# Cooling rates. trp."
      ],
      "text/plain": [
       "<IPython.core.display.Markdown object>"
      ]
     },
     "metadata": {},
     "output_type": "display_data"
    },
    {
     "data": {
      "text/html": [
       "\n",
       "<div class=\"bk-root\">\n",
       "    <div class=\"bk-plotdiv\" id=\"b43935ba-c961-4858-bd6c-c64faa69ee41\"></div>\n",
       "</div>"
      ]
     },
     "metadata": {},
     "output_type": "display_data"
    },
    {
     "data": {
      "application/javascript": [
       "(function(root) {\n",
       "  function embed_document(root) {\n",
       "    \n",
       "  var docs_json = {\"31743d6e-7ad5-4d36-93a1-a107a460d9cb\":{\"roots\":{\"references\":[{\"attributes\":{\"bottom_units\":\"screen\",\"fill_alpha\":{\"value\":0.5},\"fill_color\":{\"value\":\"lightgrey\"},\"left_units\":\"screen\",\"level\":\"overlay\",\"line_alpha\":{\"value\":1.0},\"line_color\":{\"value\":\"black\"},\"line_dash\":[4,4],\"line_width\":{\"value\":2},\"plot\":null,\"render_mode\":\"css\",\"right_units\":\"screen\",\"top_units\":\"screen\"},\"id\":\"3442210c-b765-45b2-9472-1abca13d2648\",\"type\":\"BoxAnnotation\"},{\"attributes\":{\"fill_alpha\":{\"value\":0.7},\"fill_color\":{\"value\":\"#4daf4a\"},\"line_alpha\":{\"value\":0.7},\"line_color\":{\"value\":\"#4daf4a\"},\"x\":{\"field\":\"x\"},\"y\":{\"field\":\"y\"}},\"id\":\"1286919b-9a4e-4ba7-a405-e4ab64af03e7\",\"type\":\"Circle\"},{\"attributes\":{\"data_source\":{\"id\":\"611bcf50-f67f-49cc-966e-72a19c8ac28c\",\"type\":\"ColumnDataSource\"},\"glyph\":{\"id\":\"8c956e54-ed88-41ee-aa29-e1d4d93b7025\",\"type\":\"Circle\"},\"hover_glyph\":null,\"muted_glyph\":null,\"nonselection_glyph\":{\"id\":\"f702b5df-12ec-4e23-a767-f4eb7374ff84\",\"type\":\"Circle\"},\"selection_glyph\":null,\"view\":{\"id\":\"31f0d078-40f7-465e-9a93-da0aa77ca81a\",\"type\":\"CDSView\"}},\"id\":\"69f760aa-6682-480d-89aa-b59983e7fc35\",\"type\":\"GlyphRenderer\"},{\"attributes\":{},\"id\":\"4b3a0a6d-fb26-4255-8ff4-8b86cbeca852\",\"type\":\"SaveTool\"},{\"attributes\":{},\"id\":\"7ef610e2-c537-4343-8321-179ad2ff644d\",\"type\":\"BasicTicker\"},{\"attributes\":{\"plot\":null,\"text\":\"\"},\"id\":\"cd1319b6-1038-4d69-bc28-de55b5f8212e\",\"type\":\"Title\"},{\"attributes\":{\"callback\":null,\"data\":{\"x\":{\"__ndarray__\":\"LhhzD71Qnr9+1pIUrP+gv/Ngg2z2k6S/VR1lCdoAqL9wHqcYgkSrv/bwI4Y2Y66/JpcsEgaqsL/AnxK+lA2yv8fiNM0GXLO/1g3UXICTtL//MLuHgbe1v3Irnildwra/i/2VMPu+t7+K+72EcnG4v2lW/eQE+re/ymhjc3VKsr+cbJpuBjWCvwtyQOC7rLo/9eOjg/3w0T8Qex1ISRXhP93X3Cy5Jew/NZvHYTCf9D+9YezOJFv5Px7zpsdbM/o/xRW8jXL19z82M58Y/rjyPxsHA3QENeo/bovw/pGs4T8GamsjIqXXP+elpH8wDcg/Dky/W1jrqr+iP9k5conSv1+UZhRHdd+/q9Cb5Q3L47/Q8fLwdSTjv8OmxjKa6Ni/ZFlyDRqXx78yGjvZtO+8v76qzPcAm7e/BGOqhBrKs794Yh1hLcuwvxx7TF1fD6y/EeFQ2V9fp7//SqeoDHmjvxuYFNMQS6C/oG5PeTx5m781xnI+gR+Xv6sQYYzgMJO/8lD6kw95j7+S47ETHGaJv8ccCGgitYO/JDY5K4uKfL/OIqGXFBJyv2/UJ01MHWC/yagkEXq+OT8JdeOufcBlP4UzQdJ81XM/0txkPqJ1fD/hXSRwyF+CP1Nu3fjTeYY/5viy/uCNij+zuW9X3VqOP32m/kTc0ZA/Ei2LH+knkj9RmEZ/p0qTP8os9CGlYpQ/3yesLIiDlT98h853X7GWP3x8Y4TH6Zc/Rn2SO2wimT+UkY/qL0yaPxGBxxAwVZs/PpRHu/pGnD8yQ7VRNSudPxFZl191AJ4/\",\"dtype\":\"float64\",\"shape\":[75]},\"y\":{\"__ndarray__\":\"GhExyth1ND/Sv8nbtpRIP2vylNV0PVE/aTum7souWD/At0SJ8fVgPw3Iuahxymc/MSNhhJWvcD/bTfBN02d3P2zb5nxnaoA/CD5h5MAGhz8NmeH1TyaQP+zrCsc9p5Y/LbKd76fGnz/bLW5ISEmmPww9YvTcQq8/JV2OstnstT8Er5Y7M8G+P0c+r3jqkcU/5h99k6ZBzj88bCIzFzjVP4enV8oyxN0//yH99nXg5D8qOpLLf0jtP5kqGJXUifQ/c9cS8kHP/D+/DpwzojQEQIEmwoanVwxA4lgXt9HgE0BSSZ2AJuIbQAMJih9jjiNA5q4l5INuK0AwTKYKRj0zQNv5fmq8/DpAaCJseHrtQkB/+zpwzoxKQM3MzMzMeFJAZmZmZmZqWEAAAAAAAFxeQM3MzMzMJmJAmpmZmZkfZUBmZmZmZhhoQDMzMzMzEWtAAAAAAAAKbkBmZmZmZoFwQM3MzMzM/XFAMzMzMzN6c0CamZmZmfZ0QAAAAAAAc3ZAZmZmZmbvd0DNzMzMzGt5QDMzMzMz6HpAmpmZmZlkfEAAAAAAAOF9QGZmZmZmXX9AZmZmZuZsgECamZmZGSuBQM3MzMxM6YFAAAAAAICngkAzMzMzs2WDQGZmZmbmI4RAmpmZmRnihEDNzMzMTKCFQAAAAACAXoZAMzMzM7Mch0BmZmZm5tqHQJqZmZkZmYhAzczMzExXiUAAAAAAgBWKQDMzMzOz04pAZmZmZuaRi0CamZmZGVCMQM3MzMxMDo1AAAAAAIDMjUAzMzMzs4qOQGZmZmbmSI9A\",\"dtype\":\"float64\",\"shape\":[75]}},\"selected\":{\"id\":\"b4ec1b69-27e5-463a-8296-a6f5c73a7699\",\"type\":\"Selection\"},\"selection_policy\":{\"id\":\"ea7aaac0-d4b2-49f5-bb92-0eb10bf3cfd5\",\"type\":\"UnionRenderers\"}},\"id\":\"99e5cadf-8afd-4012-85f7-78122f606744\",\"type\":\"ColumnDataSource\"},{\"attributes\":{\"axis_label\":\"cooling rate [K/day]\",\"formatter\":{\"id\":\"d97b5e18-4257-4ca0-b6a2-8dc76f6ba4db\",\"type\":\"BasicTickFormatter\"},\"plot\":{\"id\":\"0802d286-4416-4eca-8a97-498c9af5f4a2\",\"subtype\":\"Figure\",\"type\":\"Plot\"},\"ticker\":{\"id\":\"7ef610e2-c537-4343-8321-179ad2ff644d\",\"type\":\"BasicTicker\"}},\"id\":\"aa73275d-7114-4e5d-9a0a-2110da1878c7\",\"type\":\"LinearAxis\"},{\"attributes\":{},\"id\":\"4e85cc30-e52d-49c5-a516-5c66f5f69627\",\"type\":\"Selection\"},{\"attributes\":{\"plot\":{\"id\":\"0802d286-4416-4eca-8a97-498c9af5f4a2\",\"subtype\":\"Figure\",\"type\":\"Plot\"},\"ticker\":{\"id\":\"7ef610e2-c537-4343-8321-179ad2ff644d\",\"type\":\"BasicTicker\"}},\"id\":\"1e050e83-8814-46ed-97dd-cd2ed983ae6c\",\"type\":\"Grid\"},{\"attributes\":{\"line_color\":\"#4daf4a\",\"line_width\":1.5,\"x\":{\"field\":\"x\"},\"y\":{\"field\":\"y\"}},\"id\":\"2a184882-25f2-4786-94bd-55dab73dc5ea\",\"type\":\"Line\"},{\"attributes\":{\"source\":{\"id\":\"35122d6c-5027-4b89-bd07-72d1fad95e67\",\"type\":\"ColumnDataSource\"}},\"id\":\"896bae8d-f4fc-4f03-8bd0-14fe78983af6\",\"type\":\"CDSView\"},{\"attributes\":{\"line_alpha\":0.8,\"line_color\":\"#984ea3\",\"line_width\":1.5,\"x\":{\"field\":\"x\"},\"y\":{\"field\":\"y\"}},\"id\":\"8b70b709-5265-4bf3-b893-2fd812863e55\",\"type\":\"Line\"},{\"attributes\":{},\"id\":\"4fd4a905-319e-4bcc-890c-aa72f5932459\",\"type\":\"LinearScale\"},{\"attributes\":{\"line_alpha\":0.1,\"line_color\":\"#1f77b4\",\"line_width\":1.5,\"x\":{\"field\":\"x\"},\"y\":{\"field\":\"y\"}},\"id\":\"ef105748-7d2a-4a3b-aed3-ecde6a4b31df\",\"type\":\"Line\"},{\"attributes\":{},\"id\":\"fe72f571-1692-41c7-84dd-eb9ae34b987c\",\"type\":\"ResetTool\"},{\"attributes\":{},\"id\":\"82e71a52-d3ed-4d36-bf8d-2fd9ebc67612\",\"type\":\"BasicTickFormatter\"},{\"attributes\":{\"callback\":null,\"data\":{\"x\":{\"__ndarray__\":\"T+GLyvYGo7/c+WPbBU+lv6NTUeuysam/TVrcXK3arb/fYqGTCeWwv0ZoazFbv7K/6dPk1KN7tL+kN2CAEhm2vzzLb/Fpl7e/MGv/bIH9uL9GQWdQuFC6v4ySjTGglru/rzLusufZvL8RMWnid969vwvOU8nREb2/ATz6dusOtb+E+1N7MOhWv536m6tBc8E/gqwg+GrP1T8xc8xnFu3jPwt/yFM93u8/F9VuMN7n9j99x2AtjUP7P1p2zVM5D/s/ohW3iCpf+D8MhZjjxlnzPxVsAWvee+s/zuPwxTdl4j9Rw6g8IozXP5gyVxFsn8U/XlRoMC+/sb8AQIJl26fSv6hRVjizKd6/KqCVI4AV4r8wNaKxf+ngv/bsCpRMota/tLFmqRudxr/SRlDhMYi8v4KU3W53hre/PcKOGurrs7+nB9GOnhGxvzxJD4ulxKy/C7n+z/QhqL9RRJAQTzmkv6nuMoBOAaG/jbmVZDDNnL9rVlTBw1SYv7mhuAo6RpS/Oh4WNXGwkL9UhNpPGg6Lv6UsruMIHoW/GBeq3E/afr/KrJKV2Olzv/29JzyiyWK/xhQj8kDNJz9LIuxCGwxlPwIzgzvs+HM/rHyqcKMdfT+qmZTwGfaCP+v7jhn9UYc/1r/HoIGkiz/aQn0G+KOPP3lrcC7phZE/Isa7IQPekj/lmR6Bj/2TP3/TJ0/1E5U/+3Qzjos6lj/wvOtNpXSXPzzL+gD4wJg/LPbvnNARmj/60tlrzlObPxpHsKJbd5w/wDe5AJqEnT/FVTsPpYOeP2BZUdqOdp8/\",\"dtype\":\"float64\",\"shape\":[75]},\"y\":{\"__ndarray__\":\"GhExyth1ND/Sv8nbtpRIP2vylNV0PVE/aTum7souWD/At0SJ8fVgPw3Iuahxymc/MSNhhJWvcD/bTfBN02d3P2zb5nxnaoA/CD5h5MAGhz8NmeH1TyaQP+zrCsc9p5Y/LbKd76fGnz/bLW5ISEmmPww9YvTcQq8/JV2OstnstT8Er5Y7M8G+P0c+r3jqkcU/5h99k6ZBzj88bCIzFzjVP4enV8oyxN0//yH99nXg5D8qOpLLf0jtP5kqGJXUifQ/c9cS8kHP/D+/DpwzojQEQIEmwoanVwxA4lgXt9HgE0BSSZ2AJuIbQAMJih9jjiNA5q4l5INuK0AwTKYKRj0zQNv5fmq8/DpAaCJseHrtQkB/+zpwzoxKQM3MzMzMeFJAZmZmZmZqWEAAAAAAAFxeQM3MzMzMJmJAmpmZmZkfZUBmZmZmZhhoQDMzMzMzEWtAAAAAAAAKbkBmZmZmZoFwQM3MzMzM/XFAMzMzMzN6c0CamZmZmfZ0QAAAAAAAc3ZAZmZmZmbvd0DNzMzMzGt5QDMzMzMz6HpAmpmZmZlkfEAAAAAAAOF9QGZmZmZmXX9AZmZmZuZsgECamZmZGSuBQM3MzMxM6YFAAAAAAICngkAzMzMzs2WDQGZmZmbmI4RAmpmZmRnihEDNzMzMTKCFQAAAAACAXoZAMzMzM7Mch0BmZmZm5tqHQJqZmZkZmYhAzczMzExXiUAAAAAAgBWKQDMzMzOz04pAZmZmZuaRi0CamZmZGVCMQM3MzMxMDo1AAAAAAIDMjUAzMzMzs4qOQGZmZmbmSI9A\",\"dtype\":\"float64\",\"shape\":[75]}},\"selected\":{\"id\":\"a74b3a81-334b-4cec-bf5e-d14f46d04d9e\",\"type\":\"Selection\"},\"selection_policy\":{\"id\":\"bccbab88-794f-49e1-924f-2659e06bcfa5\",\"type\":\"UnionRenderers\"}},\"id\":\"35122d6c-5027-4b89-bd07-72d1fad95e67\",\"type\":\"ColumnDataSource\"},{\"attributes\":{},\"id\":\"14d531ea-ab01-4c72-b121-5f250f9ac7a5\",\"type\":\"HelpTool\"},{\"attributes\":{\"source\":{\"id\":\"77d86c12-24b4-4a36-858b-f5b1c16ecbec\",\"type\":\"ColumnDataSource\"}},\"id\":\"7bf7f834-fc66-4929-b5b6-98dc43971760\",\"type\":\"CDSView\"},{\"attributes\":{\"data_source\":{\"id\":\"941b29b2-cea5-4df8-b928-8acbe66986aa\",\"type\":\"ColumnDataSource\"},\"glyph\":{\"id\":\"1286919b-9a4e-4ba7-a405-e4ab64af03e7\",\"type\":\"Circle\"},\"hover_glyph\":null,\"muted_glyph\":null,\"nonselection_glyph\":{\"id\":\"0d23f73b-a344-4ff4-83f6-cd30d57eb190\",\"type\":\"Circle\"},\"selection_glyph\":null,\"view\":{\"id\":\"d89248af-a73d-404a-bb68-aa745b4de902\",\"type\":\"CDSView\"}},\"id\":\"61944ef0-2a15-4a1a-afdf-43e2f402061b\",\"type\":\"GlyphRenderer\"},{\"attributes\":{\"callback\":null,\"end\":0.01,\"start\":1020},\"id\":\"ab310a86-19d2-47e6-8d92-2ade418689f2\",\"type\":\"Range1d\"},{\"attributes\":{},\"id\":\"11533e75-2bcf-40ea-b586-cb403c6b2815\",\"type\":\"UnionRenderers\"},{\"attributes\":{\"source\":{\"id\":\"2e7b6d73-4ec4-472d-be0d-1f260553ecf0\",\"type\":\"ColumnDataSource\"}},\"id\":\"1a1ed2b1-7e20-4eff-8ed4-69b27891eb65\",\"type\":\"CDSView\"},{\"attributes\":{\"label\":{\"value\":\"CLIRAD - CRD\"},\"renderers\":[{\"id\":\"69f760aa-6682-480d-89aa-b59983e7fc35\",\"type\":\"GlyphRenderer\"},{\"id\":\"54b8bdc4-147a-4f5d-baaa-9af1fe6d8ee3\",\"type\":\"GlyphRenderer\"}]},\"id\":\"d4632111-8eb0-43d2-8a5a-c2e428ac8e95\",\"type\":\"LegendItem\"},{\"attributes\":{},\"id\":\"83b367c6-390d-4902-8a18-7ff1ac9040a9\",\"type\":\"LinearScale\"},{\"attributes\":{\"num_minor_ticks\":10},\"id\":\"1aa28418-801a-4930-a9c2-64d40d99aa5f\",\"type\":\"LogTicker\"},{\"attributes\":{\"fill_alpha\":{\"value\":0.7},\"fill_color\":{\"value\":\"#4daf4a\"},\"line_alpha\":{\"value\":0.7},\"line_color\":{\"value\":\"#4daf4a\"},\"x\":{\"field\":\"x\"},\"y\":{\"field\":\"y\"}},\"id\":\"aeaf9840-5ff7-4a06-8657-774c61a7e4a6\",\"type\":\"Circle\"},{\"attributes\":{},\"id\":\"ea7aaac0-d4b2-49f5-bb92-0eb10bf3cfd5\",\"type\":\"UnionRenderers\"},{\"attributes\":{\"line_color\":\"#4daf4a\",\"line_width\":1.5,\"x\":{\"field\":\"x\"},\"y\":{\"field\":\"y\"}},\"id\":\"d73cba5f-c710-4dea-82d0-b124d9243675\",\"type\":\"Line\"},{\"attributes\":{\"callback\":null,\"data\":{\"x\":{\"__ndarray__\":\"T+GLyvYGo7/c+WPbBU+lv6NTUeuysam/TVrcXK3arb/fYqGTCeWwv0ZoazFbv7K/6dPk1KN7tL+kN2CAEhm2vzzLb/Fpl7e/MGv/bIH9uL9GQWdQuFC6v4ySjTGglru/rzLusufZvL8RMWnid969vwvOU8nREb2/ATz6dusOtb+E+1N7MOhWv536m6tBc8E/gqwg+GrP1T8xc8xnFu3jPwt/yFM93u8/F9VuMN7n9j99x2AtjUP7P1p2zVM5D/s/ohW3iCpf+D8MhZjjxlnzPxVsAWvee+s/zuPwxTdl4j9Rw6g8IozXP5gyVxFsn8U/XlRoMC+/sb8AQIJl26fSv6hRVjizKd6/KqCVI4AV4r8wNaKxf+ngv/bsCpRMota/tLFmqRudxr/SRlDhMYi8v4KU3W53hre/PcKOGurrs7+nB9GOnhGxvzxJD4ulxKy/C7n+z/QhqL9RRJAQTzmkv6nuMoBOAaG/jbmVZDDNnL9rVlTBw1SYv7mhuAo6RpS/Oh4WNXGwkL9UhNpPGg6Lv6UsruMIHoW/GBeq3E/afr/KrJKV2Olzv/29JzyiyWK/xhQj8kDNJz9LIuxCGwxlPwIzgzvs+HM/rHyqcKMdfT+qmZTwGfaCP+v7jhn9UYc/1r/HoIGkiz/aQn0G+KOPP3lrcC7phZE/Isa7IQPekj/lmR6Bj/2TP3/TJ0/1E5U/+3Qzjos6lj/wvOtNpXSXPzzL+gD4wJg/LPbvnNARmj/60tlrzlObPxpHsKJbd5w/wDe5AJqEnT/FVTsPpYOeP2BZUdqOdp8/\",\"dtype\":\"float64\",\"shape\":[75]},\"y\":{\"__ndarray__\":\"GhExyth1ND/Sv8nbtpRIP2vylNV0PVE/aTum7souWD/At0SJ8fVgPw3Iuahxymc/MSNhhJWvcD/bTfBN02d3P2zb5nxnaoA/CD5h5MAGhz8NmeH1TyaQP+zrCsc9p5Y/LbKd76fGnz/bLW5ISEmmPww9YvTcQq8/JV2OstnstT8Er5Y7M8G+P0c+r3jqkcU/5h99k6ZBzj88bCIzFzjVP4enV8oyxN0//yH99nXg5D8qOpLLf0jtP5kqGJXUifQ/c9cS8kHP/D+/DpwzojQEQIEmwoanVwxA4lgXt9HgE0BSSZ2AJuIbQAMJih9jjiNA5q4l5INuK0AwTKYKRj0zQNv5fmq8/DpAaCJseHrtQkB/+zpwzoxKQM3MzMzMeFJAZmZmZmZqWEAAAAAAAFxeQM3MzMzMJmJAmpmZmZkfZUBmZmZmZhhoQDMzMzMzEWtAAAAAAAAKbkBmZmZmZoFwQM3MzMzM/XFAMzMzMzN6c0CamZmZmfZ0QAAAAAAAc3ZAZmZmZmbvd0DNzMzMzGt5QDMzMzMz6HpAmpmZmZlkfEAAAAAAAOF9QGZmZmZmXX9AZmZmZuZsgECamZmZGSuBQM3MzMxM6YFAAAAAAICngkAzMzMzs2WDQGZmZmbmI4RAmpmZmRnihEDNzMzMTKCFQAAAAACAXoZAMzMzM7Mch0BmZmZm5tqHQJqZmZkZmYhAzczMzExXiUAAAAAAgBWKQDMzMzOz04pAZmZmZuaRi0CamZmZGVCMQM3MzMxMDo1AAAAAAIDMjUAzMzMzs4qOQGZmZmbmSI9A\",\"dtype\":\"float64\",\"shape\":[75]}},\"selected\":{\"id\":\"6f8e3745-484f-4fd1-b266-e31357b75c8f\",\"type\":\"Selection\"},\"selection_policy\":{\"id\":\"2c5b1dcb-8167-4896-a0a8-13484978a561\",\"type\":\"UnionRenderers\"}},\"id\":\"77d86c12-24b4-4a36-858b-f5b1c16ecbec\",\"type\":\"ColumnDataSource\"},{\"attributes\":{\"active_drag\":\"auto\",\"active_inspect\":\"auto\",\"active_scroll\":\"auto\",\"active_tap\":\"auto\",\"tools\":[{\"id\":\"e62c02ca-3f30-44df-9613-9c5ace83e971\",\"type\":\"PanTool\"},{\"id\":\"cfc442ba-2064-4792-82f0-10e2c1fcda4c\",\"type\":\"WheelZoomTool\"},{\"id\":\"8253c62e-c8be-4f3a-ba26-e88920024df7\",\"type\":\"BoxZoomTool\"},{\"id\":\"f5d35d18-0fb5-4433-a7d3-017143371897\",\"type\":\"SaveTool\"},{\"id\":\"3a039f2b-765a-4eb3-b7ed-dc9b6477008f\",\"type\":\"ResetTool\"},{\"id\":\"14d531ea-ab01-4c72-b121-5f250f9ac7a5\",\"type\":\"HelpTool\"}]},\"id\":\"f7966b52-4c01-4f70-9e38-46248f81b729\",\"type\":\"Toolbar\"},{\"attributes\":{\"data_source\":{\"id\":\"35122d6c-5027-4b89-bd07-72d1fad95e67\",\"type\":\"ColumnDataSource\"},\"glyph\":{\"id\":\"aeaf9840-5ff7-4a06-8657-774c61a7e4a6\",\"type\":\"Circle\"},\"hover_glyph\":null,\"muted_glyph\":null,\"nonselection_glyph\":{\"id\":\"59839bd8-423b-4b00-9eae-2b1d8f56161c\",\"type\":\"Circle\"},\"selection_glyph\":null,\"view\":{\"id\":\"896bae8d-f4fc-4f03-8bd0-14fe78983af6\",\"type\":\"CDSView\"}},\"id\":\"e24406f1-7291-4dd1-878e-689635002d5e\",\"type\":\"GlyphRenderer\"},{\"attributes\":{\"callback\":null,\"data\":{\"x\":{\"__ndarray__\":\"T+GLyvYGo7/c+WPbBU+lv6NTUeuysam/TVrcXK3arb/fYqGTCeWwv0ZoazFbv7K/6dPk1KN7tL+kN2CAEhm2vzzLb/Fpl7e/MGv/bIH9uL9GQWdQuFC6v4ySjTGglru/rzLusufZvL8RMWnid969vwvOU8nREb2/ATz6dusOtb+E+1N7MOhWv536m6tBc8E/gqwg+GrP1T8xc8xnFu3jPwt/yFM93u8/F9VuMN7n9j99x2AtjUP7P1p2zVM5D/s/ohW3iCpf+D8MhZjjxlnzPxVsAWvee+s/zuPwxTdl4j9Rw6g8IozXP5gyVxFsn8U/XlRoMC+/sb8AQIJl26fSv6hRVjizKd6/KqCVI4AV4r8wNaKxf+ngv/bsCpRMota/tLFmqRudxr/SRlDhMYi8v4KU3W53hre/PcKOGurrs7+nB9GOnhGxvzxJD4ulxKy/C7n+z/QhqL9RRJAQTzmkv6nuMoBOAaG/jbmVZDDNnL9rVlTBw1SYv7mhuAo6RpS/Oh4WNXGwkL9UhNpPGg6Lv6UsruMIHoW/GBeq3E/afr/KrJKV2Olzv/29JzyiyWK/xhQj8kDNJz9LIuxCGwxlPwIzgzvs+HM/rHyqcKMdfT+qmZTwGfaCP+v7jhn9UYc/1r/HoIGkiz/aQn0G+KOPP3lrcC7phZE/Isa7IQPekj/lmR6Bj/2TP3/TJ0/1E5U/+3Qzjos6lj/wvOtNpXSXPzzL+gD4wJg/LPbvnNARmj/60tlrzlObPxpHsKJbd5w/wDe5AJqEnT/FVTsPpYOeP2BZUdqOdp8/\",\"dtype\":\"float64\",\"shape\":[75]},\"y\":{\"__ndarray__\":\"GhExyth1ND/Sv8nbtpRIP2vylNV0PVE/aTum7souWD/At0SJ8fVgPw3Iuahxymc/MSNhhJWvcD/bTfBN02d3P2zb5nxnaoA/CD5h5MAGhz8NmeH1TyaQP+zrCsc9p5Y/LbKd76fGnz/bLW5ISEmmPww9YvTcQq8/JV2OstnstT8Er5Y7M8G+P0c+r3jqkcU/5h99k6ZBzj88bCIzFzjVP4enV8oyxN0//yH99nXg5D8qOpLLf0jtP5kqGJXUifQ/c9cS8kHP/D+/DpwzojQEQIEmwoanVwxA4lgXt9HgE0BSSZ2AJuIbQAMJih9jjiNA5q4l5INuK0AwTKYKRj0zQNv5fmq8/DpAaCJseHrtQkB/+zpwzoxKQM3MzMzMeFJAZmZmZmZqWEAAAAAAAFxeQM3MzMzMJmJAmpmZmZkfZUBmZmZmZhhoQDMzMzMzEWtAAAAAAAAKbkBmZmZmZoFwQM3MzMzM/XFAMzMzMzN6c0CamZmZmfZ0QAAAAAAAc3ZAZmZmZmbvd0DNzMzMzGt5QDMzMzMz6HpAmpmZmZlkfEAAAAAAAOF9QGZmZmZmXX9AZmZmZuZsgECamZmZGSuBQM3MzMxM6YFAAAAAAICngkAzMzMzs2WDQGZmZmbmI4RAmpmZmRnihEDNzMzMTKCFQAAAAACAXoZAMzMzM7Mch0BmZmZm5tqHQJqZmZkZmYhAzczMzExXiUAAAAAAgBWKQDMzMzOz04pAZmZmZuaRi0CamZmZGVCMQM3MzMxMDo1AAAAAAIDMjUAzMzMzs4qOQGZmZmbmSI9A\",\"dtype\":\"float64\",\"shape\":[75]}},\"selected\":{\"id\":\"c84d11ee-d275-4e91-a60e-2f4351c3daec\",\"type\":\"Selection\"},\"selection_policy\":{\"id\":\"11533e75-2bcf-40ea-b586-cb403c6b2815\",\"type\":\"UnionRenderers\"}},\"id\":\"fb767ab0-1262-4d59-b698-183cadc8cf7d\",\"type\":\"ColumnDataSource\"},{\"attributes\":{\"data_source\":{\"id\":\"fb767ab0-1262-4d59-b698-183cadc8cf7d\",\"type\":\"ColumnDataSource\"},\"glyph\":{\"id\":\"d73cba5f-c710-4dea-82d0-b124d9243675\",\"type\":\"Line\"},\"hover_glyph\":null,\"muted_glyph\":null,\"nonselection_glyph\":{\"id\":\"7e22df81-1365-4c53-9722-207fe1ee2910\",\"type\":\"Line\"},\"selection_glyph\":null,\"view\":{\"id\":\"475cde74-86fd-4b15-b327-170220fe3a4a\",\"type\":\"CDSView\"}},\"id\":\"c1f335ff-d897-4efd-8285-f906930229db\",\"type\":\"GlyphRenderer\"},{\"attributes\":{\"fill_alpha\":{\"value\":0.1},\"fill_color\":{\"value\":\"#1f77b4\"},\"line_alpha\":{\"value\":0.1},\"line_color\":{\"value\":\"#1f77b4\"},\"x\":{\"field\":\"x\"},\"y\":{\"field\":\"y\"}},\"id\":\"59839bd8-423b-4b00-9eae-2b1d8f56161c\",\"type\":\"Circle\"},{\"attributes\":{\"fill_alpha\":{\"value\":0.1},\"fill_color\":{\"value\":\"#1f77b4\"},\"line_alpha\":{\"value\":0.1},\"line_color\":{\"value\":\"#1f77b4\"},\"x\":{\"field\":\"x\"},\"y\":{\"field\":\"y\"}},\"id\":\"f702b5df-12ec-4e23-a767-f4eb7374ff84\",\"type\":\"Circle\"},{\"attributes\":{\"line_alpha\":0.1,\"line_color\":\"#1f77b4\",\"line_width\":1.5,\"x\":{\"field\":\"x\"},\"y\":{\"field\":\"y\"}},\"id\":\"77fee0cd-c85c-447f-9cfc-4d80a7f13f0f\",\"type\":\"Line\"},{\"attributes\":{},\"id\":\"d97b5e18-4257-4ca0-b6a2-8dc76f6ba4db\",\"type\":\"BasicTickFormatter\"},{\"attributes\":{\"callback\":null,\"data\":{\"x\":{\"__ndarray__\":\"T+GLyvYGo7/c+WPbBU+lv6NTUeuysam/TVrcXK3arb/fYqGTCeWwv0ZoazFbv7K/6dPk1KN7tL+kN2CAEhm2vzzLb/Fpl7e/MGv/bIH9uL9GQWdQuFC6v4ySjTGglru/rzLusufZvL8RMWnid969vwvOU8nREb2/ATz6dusOtb+E+1N7MOhWv536m6tBc8E/gqwg+GrP1T8xc8xnFu3jPwt/yFM93u8/F9VuMN7n9j99x2AtjUP7P1p2zVM5D/s/ohW3iCpf+D8MhZjjxlnzPxVsAWvee+s/zuPwxTdl4j9Rw6g8IozXP5gyVxFsn8U/XlRoMC+/sb8AQIJl26fSv6hRVjizKd6/KqCVI4AV4r8wNaKxf+ngv/bsCpRMota/tLFmqRudxr/SRlDhMYi8v4KU3W53hre/PcKOGurrs7+nB9GOnhGxvzxJD4ulxKy/C7n+z/QhqL9RRJAQTzmkv6nuMoBOAaG/jbmVZDDNnL9rVlTBw1SYv7mhuAo6RpS/Oh4WNXGwkL9UhNpPGg6Lv6UsruMIHoW/GBeq3E/afr/KrJKV2Olzv/29JzyiyWK/xhQj8kDNJz9LIuxCGwxlPwIzgzvs+HM/rHyqcKMdfT+qmZTwGfaCP+v7jhn9UYc/1r/HoIGkiz/aQn0G+KOPP3lrcC7phZE/Isa7IQPekj/lmR6Bj/2TP3/TJ0/1E5U/+3Qzjos6lj/wvOtNpXSXPzzL+gD4wJg/LPbvnNARmj/60tlrzlObPxpHsKJbd5w/wDe5AJqEnT/FVTsPpYOeP2BZUdqOdp8/\",\"dtype\":\"float64\",\"shape\":[75]},\"y\":{\"__ndarray__\":\"GhExyth1ND/Sv8nbtpRIP2vylNV0PVE/aTum7souWD/At0SJ8fVgPw3Iuahxymc/MSNhhJWvcD/bTfBN02d3P2zb5nxnaoA/CD5h5MAGhz8NmeH1TyaQP+zrCsc9p5Y/LbKd76fGnz/bLW5ISEmmPww9YvTcQq8/JV2OstnstT8Er5Y7M8G+P0c+r3jqkcU/5h99k6ZBzj88bCIzFzjVP4enV8oyxN0//yH99nXg5D8qOpLLf0jtP5kqGJXUifQ/c9cS8kHP/D+/DpwzojQEQIEmwoanVwxA4lgXt9HgE0BSSZ2AJuIbQAMJih9jjiNA5q4l5INuK0AwTKYKRj0zQNv5fmq8/DpAaCJseHrtQkB/+zpwzoxKQM3MzMzMeFJAZmZmZmZqWEAAAAAAAFxeQM3MzMzMJmJAmpmZmZkfZUBmZmZmZhhoQDMzMzMzEWtAAAAAAAAKbkBmZmZmZoFwQM3MzMzM/XFAMzMzMzN6c0CamZmZmfZ0QAAAAAAAc3ZAZmZmZmbvd0DNzMzMzGt5QDMzMzMz6HpAmpmZmZlkfEAAAAAAAOF9QGZmZmZmXX9AZmZmZuZsgECamZmZGSuBQM3MzMxM6YFAAAAAAICngkAzMzMzs2WDQGZmZmbmI4RAmpmZmRnihEDNzMzMTKCFQAAAAACAXoZAMzMzM7Mch0BmZmZm5tqHQJqZmZkZmYhAzczMzExXiUAAAAAAgBWKQDMzMzOz04pAZmZmZuaRi0CamZmZGVCMQM3MzMxMDo1AAAAAAIDMjUAzMzMzs4qOQGZmZmbmSI9A\",\"dtype\":\"float64\",\"shape\":[75]}},\"selected\":{\"id\":\"4e85cc30-e52d-49c5-a516-5c66f5f69627\",\"type\":\"Selection\"},\"selection_policy\":{\"id\":\"9536d052-92e0-4517-ac64-a8dab69c76df\",\"type\":\"UnionRenderers\"}},\"id\":\"941b29b2-cea5-4df8-b928-8acbe66986aa\",\"type\":\"ColumnDataSource\"},{\"attributes\":{\"source\":{\"id\":\"611bcf50-f67f-49cc-966e-72a19c8ac28c\",\"type\":\"ColumnDataSource\"}},\"id\":\"31f0d078-40f7-465e-9a93-da0aa77ca81a\",\"type\":\"CDSView\"},{\"attributes\":{\"overlay\":{\"id\":\"73bef75f-be77-4e23-b5b1-5600ce3f442c\",\"type\":\"BoxAnnotation\"}},\"id\":\"8253c62e-c8be-4f3a-ba26-e88920024df7\",\"type\":\"BoxZoomTool\"},{\"attributes\":{\"callback\":null,\"end\":0.03701496515450001,\"start\":-0.6044900347045},\"id\":\"5f15c78c-d84a-4783-b8ee-3832a486a2f0\",\"type\":\"Range1d\"},{\"attributes\":{\"source\":{\"id\":\"941b29b2-cea5-4df8-b928-8acbe66986aa\",\"type\":\"ColumnDataSource\"}},\"id\":\"d89248af-a73d-404a-bb68-aa745b4de902\",\"type\":\"CDSView\"},{\"attributes\":{},\"id\":\"a1798a0e-05c6-453c-96d3-cbf0d28eb691\",\"type\":\"Selection\"},{\"attributes\":{\"label\":{\"value\":\"CLIRAD\"},\"renderers\":[{\"id\":\"63ac12f1-d1fc-4953-94a2-7509abcfa538\",\"type\":\"GlyphRenderer\"}]},\"id\":\"77f161fd-a8df-4a9b-b0a1-9b19256b08d0\",\"type\":\"LegendItem\"},{\"attributes\":{},\"id\":\"9536d052-92e0-4517-ac64-a8dab69c76df\",\"type\":\"UnionRenderers\"},{\"attributes\":{\"data_source\":{\"id\":\"77d86c12-24b4-4a36-858b-f5b1c16ecbec\",\"type\":\"ColumnDataSource\"},\"glyph\":{\"id\":\"2a184882-25f2-4786-94bd-55dab73dc5ea\",\"type\":\"Line\"},\"hover_glyph\":null,\"muted_glyph\":null,\"nonselection_glyph\":{\"id\":\"ef105748-7d2a-4a3b-aed3-ecde6a4b31df\",\"type\":\"Line\"},\"selection_glyph\":null,\"view\":{\"id\":\"7bf7f834-fc66-4929-b5b6-98dc43971760\",\"type\":\"CDSView\"}},\"id\":\"8901d403-cda8-47cb-a09d-004b412722f5\",\"type\":\"GlyphRenderer\"},{\"attributes\":{\"data_source\":{\"id\":\"2e7b6d73-4ec4-472d-be0d-1f260553ecf0\",\"type\":\"ColumnDataSource\"},\"glyph\":{\"id\":\"8b70b709-5265-4bf3-b893-2fd812863e55\",\"type\":\"Line\"},\"hover_glyph\":null,\"muted_glyph\":null,\"nonselection_glyph\":{\"id\":\"77fee0cd-c85c-447f-9cfc-4d80a7f13f0f\",\"type\":\"Line\"},\"selection_glyph\":null,\"view\":{\"id\":\"1a1ed2b1-7e20-4eff-8ed4-69b27891eb65\",\"type\":\"CDSView\"}},\"id\":\"54b8bdc4-147a-4f5d-baaa-9af1fe6d8ee3\",\"type\":\"GlyphRenderer\"},{\"attributes\":{\"ticker\":null},\"id\":\"541ff1e7-251e-4687-8450-d3c7607ebec1\",\"type\":\"LogTickFormatter\"},{\"attributes\":{\"label\":{\"value\":\"CRD\"},\"renderers\":[{\"id\":\"e24406f1-7291-4dd1-878e-689635002d5e\",\"type\":\"GlyphRenderer\"},{\"id\":\"8901d403-cda8-47cb-a09d-004b412722f5\",\"type\":\"GlyphRenderer\"}]},\"id\":\"eb046e6b-5a5f-4e01-8525-cd9a0f5b8fca\",\"type\":\"LegendItem\"},{\"attributes\":{},\"id\":\"e62c02ca-3f30-44df-9613-9c5ace83e971\",\"type\":\"PanTool\"},{\"attributes\":{},\"id\":\"46a83f31-7be7-4197-a079-8f9d8731eb24\",\"type\":\"WheelZoomTool\"},{\"attributes\":{},\"id\":\"bccbab88-794f-49e1-924f-2659e06bcfa5\",\"type\":\"UnionRenderers\"},{\"attributes\":{},\"id\":\"f5d35d18-0fb5-4433-a7d3-017143371897\",\"type\":\"SaveTool\"},{\"attributes\":{\"callback\":null,\"data\":{\"x\":{\"__ndarray__\":\"wKmSFsL0fj94jUQbZz2BP8DKN/vxdoQ/4PPcTU1nhz84nW46RBaKP1h+y3L/bYw/GObBFe6Mjj+QXzYJ9y2QP9Sh65CM7ZA/aHWtQASokT8cQbAi22SSP2icvR8MUZM/kNRgCbJrlD8c1qx2FbSVP4jeWZEzX5Q/uJm2HLAjhj9X2l++ALB+v14G7+2Oc6C/aETmo2vzrr8IwXf9aL62v3A5XTchxL2/EM85dW5Fwr8AXEbnhYa+v4Bn0ISxe6u/QPe/vv5tmr/AOipfGRmkv6BP5m+fbaS/AAwL4LgUl78AtabC5v9YP3iaa3IjbpM/XLkiCgwmkT8AXgCpK2leP3ArBME9uZS/EAhjINxYq78A5YX6sdexv2jO3fVsMqK/APZ0gcw/f78A2LT6veBZvwA8Fu+IiTS/gJwv8srnQD/AS+lsS5xRPwDEWbjFqFY/QP+61Z5SWD9AKh/9TAhYP8DRyqO1x1Y/0K5ktD4/VT9gAxkuKFRTP+AQeeWXVVE/ILgeYy19Tj8gDIrC439KP+D9YLpnjkY/oAeHiyV+Qj/AnxjfP3w9P3BM/3evYjU/zDwmMLOvKz/AV+p+TYwWP4C+/6C0twG/QPuzSCYAJb8geQcOMMoyvwCzMRYkBTu/AG9MIQpqQb9wktjwqpFEv4CfOC6dgUa/ACITRkDDRr+AMgA7AF1Gv6DWdKYFKka/gKPpMGzgRr+ArqbDumhIvwDY6ZIP5kq/wByvK4zsTb9gFqQU6HlQv5BgjB65IlK/IDgaV/TZU78wKWHY+4ZVv/AEoKuXYVe/\",\"dtype\":\"float64\",\"shape\":[75]},\"y\":{\"__ndarray__\":\"GhExyth1ND/Sv8nbtpRIP2vylNV0PVE/aTum7souWD/At0SJ8fVgPw3Iuahxymc/MSNhhJWvcD/bTfBN02d3P2zb5nxnaoA/CD5h5MAGhz8NmeH1TyaQP+zrCsc9p5Y/LbKd76fGnz/bLW5ISEmmPww9YvTcQq8/JV2OstnstT8Er5Y7M8G+P0c+r3jqkcU/5h99k6ZBzj88bCIzFzjVP4enV8oyxN0//yH99nXg5D8qOpLLf0jtP5kqGJXUifQ/c9cS8kHP/D+/DpwzojQEQIEmwoanVwxA4lgXt9HgE0BSSZ2AJuIbQAMJih9jjiNA5q4l5INuK0AwTKYKRj0zQNv5fmq8/DpAaCJseHrtQkB/+zpwzoxKQM3MzMzMeFJAZmZmZmZqWEAAAAAAAFxeQM3MzMzMJmJAmpmZmZkfZUBmZmZmZhhoQDMzMzMzEWtAAAAAAAAKbkBmZmZmZoFwQM3MzMzM/XFAMzMzMzN6c0CamZmZmfZ0QAAAAAAAc3ZAZmZmZmbvd0DNzMzMzGt5QDMzMzMz6HpAmpmZmZlkfEAAAAAAAOF9QGZmZmZmXX9AZmZmZuZsgECamZmZGSuBQM3MzMxM6YFAAAAAAICngkAzMzMzs2WDQGZmZmbmI4RAmpmZmRnihEDNzMzMTKCFQAAAAACAXoZAMzMzM7Mch0BmZmZm5tqHQJqZmZkZmYhAzczMzExXiUAAAAAAgBWKQDMzMzOz04pAZmZmZuaRi0CamZmZGVCMQM3MzMxMDo1AAAAAAIDMjUAzMzMzs4qOQGZmZmbmSI9A\",\"dtype\":\"float64\",\"shape\":[75]}},\"selected\":{\"id\":\"3e174525-f73c-46d6-b424-b4c034b04d34\",\"type\":\"Selection\"},\"selection_policy\":{\"id\":\"fb200052-ca16-425b-820d-b8fa27fe7ad2\",\"type\":\"UnionRenderers\"}},\"id\":\"2e7b6d73-4ec4-472d-be0d-1f260553ecf0\",\"type\":\"ColumnDataSource\"},{\"attributes\":{},\"id\":\"7ad2aabc-ec4e-47ca-8ed4-8ced87291ab2\",\"type\":\"BasicTickFormatter\"},{\"attributes\":{\"plot\":null,\"text\":\"\"},\"id\":\"1e652ae6-f5e0-4673-a2d8-e84e46bedf73\",\"type\":\"Title\"},{\"attributes\":{\"data_source\":{\"id\":\"99e5cadf-8afd-4012-85f7-78122f606744\",\"type\":\"ColumnDataSource\"},\"glyph\":{\"id\":\"579d94c8-39c5-4cd9-af34-894ca8828669\",\"type\":\"Line\"},\"hover_glyph\":null,\"muted_glyph\":null,\"nonselection_glyph\":{\"id\":\"91c80f6d-50ed-4d02-8753-f5129aa8a3ee\",\"type\":\"Line\"},\"selection_glyph\":null,\"view\":{\"id\":\"46fba453-0ebf-4058-bafc-15920254f845\",\"type\":\"CDSView\"}},\"id\":\"37d7d5e6-7c5f-4cb8-abc7-6dd8e14cdbb8\",\"type\":\"GlyphRenderer\"},{\"attributes\":{\"callback\":null,\"data\":{\"x\":{\"__ndarray__\":\"LhhzD71Qnr9+1pIUrP+gv/Ngg2z2k6S/VR1lCdoAqL9wHqcYgkSrv/bwI4Y2Y66/JpcsEgaqsL/AnxK+lA2yv8fiNM0GXLO/1g3UXICTtL//MLuHgbe1v3Irnildwra/i/2VMPu+t7+K+72EcnG4v2lW/eQE+re/ymhjc3VKsr+cbJpuBjWCvwtyQOC7rLo/9eOjg/3w0T8Qex1ISRXhP93X3Cy5Jew/NZvHYTCf9D+9YezOJFv5Px7zpsdbM/o/xRW8jXL19z82M58Y/rjyPxsHA3QENeo/bovw/pGs4T8GamsjIqXXP+elpH8wDcg/Dky/W1jrqr+iP9k5conSv1+UZhRHdd+/q9Cb5Q3L47/Q8fLwdSTjv8OmxjKa6Ni/ZFlyDRqXx78yGjvZtO+8v76qzPcAm7e/BGOqhBrKs794Yh1hLcuwvxx7TF1fD6y/EeFQ2V9fp7//SqeoDHmjvxuYFNMQS6C/oG5PeTx5m781xnI+gR+Xv6sQYYzgMJO/8lD6kw95j7+S47ETHGaJv8ccCGgitYO/JDY5K4uKfL/OIqGXFBJyv2/UJ01MHWC/yagkEXq+OT8JdeOufcBlP4UzQdJ81XM/0txkPqJ1fD/hXSRwyF+CP1Nu3fjTeYY/5viy/uCNij+zuW9X3VqOP32m/kTc0ZA/Ei2LH+knkj9RmEZ/p0qTP8os9CGlYpQ/3yesLIiDlT98h853X7GWP3x8Y4TH6Zc/Rn2SO2wimT+UkY/qL0yaPxGBxxAwVZs/PpRHu/pGnD8yQ7VRNSudPxFZl191AJ4/\",\"dtype\":\"float64\",\"shape\":[75]},\"y\":{\"__ndarray__\":\"GhExyth1ND/Sv8nbtpRIP2vylNV0PVE/aTum7souWD/At0SJ8fVgPw3Iuahxymc/MSNhhJWvcD/bTfBN02d3P2zb5nxnaoA/CD5h5MAGhz8NmeH1TyaQP+zrCsc9p5Y/LbKd76fGnz/bLW5ISEmmPww9YvTcQq8/JV2OstnstT8Er5Y7M8G+P0c+r3jqkcU/5h99k6ZBzj88bCIzFzjVP4enV8oyxN0//yH99nXg5D8qOpLLf0jtP5kqGJXUifQ/c9cS8kHP/D+/DpwzojQEQIEmwoanVwxA4lgXt9HgE0BSSZ2AJuIbQAMJih9jjiNA5q4l5INuK0AwTKYKRj0zQNv5fmq8/DpAaCJseHrtQkB/+zpwzoxKQM3MzMzMeFJAZmZmZmZqWEAAAAAAAFxeQM3MzMzMJmJAmpmZmZkfZUBmZmZmZhhoQDMzMzMzEWtAAAAAAAAKbkBmZmZmZoFwQM3MzMzM/XFAMzMzMzN6c0CamZmZmfZ0QAAAAAAAc3ZAZmZmZmbvd0DNzMzMzGt5QDMzMzMz6HpAmpmZmZlkfEAAAAAAAOF9QGZmZmZmXX9AZmZmZuZsgECamZmZGSuBQM3MzMxM6YFAAAAAAICngkAzMzMzs2WDQGZmZmbmI4RAmpmZmRnihEDNzMzMTKCFQAAAAACAXoZAMzMzM7Mch0BmZmZm5tqHQJqZmZkZmYhAzczMzExXiUAAAAAAgBWKQDMzMzOz04pAZmZmZuaRi0CamZmZGVCMQM3MzMxMDo1AAAAAAIDMjUAzMzMzs4qOQGZmZmbmSI9A\",\"dtype\":\"float64\",\"shape\":[75]}},\"selected\":{\"id\":\"a1798a0e-05c6-453c-96d3-cbf0d28eb691\",\"type\":\"Selection\"},\"selection_policy\":{\"id\":\"bdf0737c-6888-4716-aa5a-a7b30a5d659e\",\"type\":\"UnionRenderers\"}},\"id\":\"92898cdc-633e-424e-8635-3aefe28bafad\",\"type\":\"ColumnDataSource\"},{\"attributes\":{},\"id\":\"c84d11ee-d275-4e91-a60e-2f4351c3daec\",\"type\":\"Selection\"},{\"attributes\":{\"source\":{\"id\":\"99e5cadf-8afd-4012-85f7-78122f606744\",\"type\":\"ColumnDataSource\"}},\"id\":\"46fba453-0ebf-4058-bafc-15920254f845\",\"type\":\"CDSView\"},{\"attributes\":{\"callback\":null,\"data\":{\"x\":{\"__ndarray__\":\"wKmSFsL0fj94jUQbZz2BP8DKN/vxdoQ/4PPcTU1nhz84nW46RBaKP1h+y3L/bYw/GObBFe6Mjj+QXzYJ9y2QP9Sh65CM7ZA/aHWtQASokT8cQbAi22SSP2icvR8MUZM/kNRgCbJrlD8c1qx2FbSVP4jeWZEzX5Q/uJm2HLAjhj9X2l++ALB+v14G7+2Oc6C/aETmo2vzrr8IwXf9aL62v3A5XTchxL2/EM85dW5Fwr8AXEbnhYa+v4Bn0ISxe6u/QPe/vv5tmr/AOipfGRmkv6BP5m+fbaS/AAwL4LgUl78AtabC5v9YP3iaa3IjbpM/XLkiCgwmkT8AXgCpK2leP3ArBME9uZS/EAhjINxYq78A5YX6sdexv2jO3fVsMqK/APZ0gcw/f78A2LT6veBZvwA8Fu+IiTS/gJwv8srnQD/AS+lsS5xRPwDEWbjFqFY/QP+61Z5SWD9AKh/9TAhYP8DRyqO1x1Y/0K5ktD4/VT9gAxkuKFRTP+AQeeWXVVE/ILgeYy19Tj8gDIrC439KP+D9YLpnjkY/oAeHiyV+Qj/AnxjfP3w9P3BM/3evYjU/zDwmMLOvKz/AV+p+TYwWP4C+/6C0twG/QPuzSCYAJb8geQcOMMoyvwCzMRYkBTu/AG9MIQpqQb9wktjwqpFEv4CfOC6dgUa/ACITRkDDRr+AMgA7AF1Gv6DWdKYFKka/gKPpMGzgRr+ArqbDumhIvwDY6ZIP5kq/wByvK4zsTb9gFqQU6HlQv5BgjB65IlK/IDgaV/TZU78wKWHY+4ZVv/AEoKuXYVe/\",\"dtype\":\"float64\",\"shape\":[75]},\"y\":{\"__ndarray__\":\"GhExyth1ND/Sv8nbtpRIP2vylNV0PVE/aTum7souWD/At0SJ8fVgPw3Iuahxymc/MSNhhJWvcD/bTfBN02d3P2zb5nxnaoA/CD5h5MAGhz8NmeH1TyaQP+zrCsc9p5Y/LbKd76fGnz/bLW5ISEmmPww9YvTcQq8/JV2OstnstT8Er5Y7M8G+P0c+r3jqkcU/5h99k6ZBzj88bCIzFzjVP4enV8oyxN0//yH99nXg5D8qOpLLf0jtP5kqGJXUifQ/c9cS8kHP/D+/DpwzojQEQIEmwoanVwxA4lgXt9HgE0BSSZ2AJuIbQAMJih9jjiNA5q4l5INuK0AwTKYKRj0zQNv5fmq8/DpAaCJseHrtQkB/+zpwzoxKQM3MzMzMeFJAZmZmZmZqWEAAAAAAAFxeQM3MzMzMJmJAmpmZmZkfZUBmZmZmZhhoQDMzMzMzEWtAAAAAAAAKbkBmZmZmZoFwQM3MzMzM/XFAMzMzMzN6c0CamZmZmfZ0QAAAAAAAc3ZAZmZmZmbvd0DNzMzMzGt5QDMzMzMz6HpAmpmZmZlkfEAAAAAAAOF9QGZmZmZmXX9AZmZmZuZsgECamZmZGSuBQM3MzMxM6YFAAAAAAICngkAzMzMzs2WDQGZmZmbmI4RAmpmZmRnihEDNzMzMTKCFQAAAAACAXoZAMzMzM7Mch0BmZmZm5tqHQJqZmZkZmYhAzczMzExXiUAAAAAAgBWKQDMzMzOz04pAZmZmZuaRi0CamZmZGVCMQM3MzMxMDo1AAAAAAIDMjUAzMzMzs4qOQGZmZmbmSI9A\",\"dtype\":\"float64\",\"shape\":[75]}},\"selected\":{\"id\":\"046183a8-25d2-49ce-8d36-cae20db48e94\",\"type\":\"Selection\"},\"selection_policy\":{\"id\":\"5868ce5c-e59d-49d9-8451-c30773336ea5\",\"type\":\"UnionRenderers\"}},\"id\":\"611bcf50-f67f-49cc-966e-72a19c8ac28c\",\"type\":\"ColumnDataSource\"},{\"attributes\":{},\"id\":\"bdf0737c-6888-4716-aa5a-a7b30a5d659e\",\"type\":\"UnionRenderers\"},{\"attributes\":{\"callback\":null,\"end\":0.01,\"start\":1020},\"id\":\"43c74fb4-b86f-4187-9bbe-92c555a10c6f\",\"type\":\"Range1d\"},{\"attributes\":{\"line_alpha\":0.1,\"line_color\":\"#1f77b4\",\"line_width\":1.5,\"x\":{\"field\":\"x\"},\"y\":{\"field\":\"y\"}},\"id\":\"7e22df81-1365-4c53-9722-207fe1ee2910\",\"type\":\"Line\"},{\"attributes\":{},\"id\":\"2c5b1dcb-8167-4896-a0a8-13484978a561\",\"type\":\"UnionRenderers\"},{\"attributes\":{},\"id\":\"cfc442ba-2064-4792-82f0-10e2c1fcda4c\",\"type\":\"WheelZoomTool\"},{\"attributes\":{},\"id\":\"250a0e9e-e396-4905-9121-21114dff799a\",\"type\":\"PanTool\"},{\"attributes\":{},\"id\":\"5868ce5c-e59d-49d9-8451-c30773336ea5\",\"type\":\"UnionRenderers\"},{\"attributes\":{\"bottom_units\":\"screen\",\"fill_alpha\":{\"value\":0.5},\"fill_color\":{\"value\":\"lightgrey\"},\"left_units\":\"screen\",\"level\":\"overlay\",\"line_alpha\":{\"value\":1.0},\"line_color\":{\"value\":\"black\"},\"line_dash\":[4,4],\"line_width\":{\"value\":2},\"plot\":null,\"render_mode\":\"css\",\"right_units\":\"screen\",\"top_units\":\"screen\"},\"id\":\"8596808c-78b5-443c-a67f-389f9d8499cf\",\"type\":\"BoxAnnotation\"},{\"attributes\":{},\"id\":\"a74b3a81-334b-4cec-bf5e-d14f46d04d9e\",\"type\":\"Selection\"},{\"attributes\":{\"fill_alpha\":{\"value\":0.1},\"fill_color\":{\"value\":\"#1f77b4\"},\"line_alpha\":{\"value\":0.1},\"line_color\":{\"value\":\"#1f77b4\"},\"x\":{\"field\":\"x\"},\"y\":{\"field\":\"y\"}},\"id\":\"0d23f73b-a344-4ff4-83f6-cd30d57eb190\",\"type\":\"Circle\"},{\"attributes\":{\"ticker\":null},\"id\":\"c465e51b-037b-426c-ae9d-c8f19deada2e\",\"type\":\"LogTickFormatter\"},{\"attributes\":{\"bottom_units\":\"screen\",\"fill_alpha\":{\"value\":0.5},\"fill_color\":{\"value\":\"lightgrey\"},\"left_units\":\"screen\",\"level\":\"overlay\",\"line_alpha\":{\"value\":1.0},\"line_color\":{\"value\":\"black\"},\"line_dash\":[4,4],\"line_width\":{\"value\":2},\"plot\":null,\"render_mode\":\"css\",\"right_units\":\"screen\",\"top_units\":\"screen\"},\"id\":\"73bef75f-be77-4e23-b5b1-5600ce3f442c\",\"type\":\"BoxAnnotation\"},{\"attributes\":{\"label\":{\"value\":\"CLIRAD\"},\"renderers\":[{\"id\":\"37d7d5e6-7c5f-4cb8-abc7-6dd8e14cdbb8\",\"type\":\"GlyphRenderer\"}]},\"id\":\"c890a66f-adc9-4679-b6bf-a20987292f69\",\"type\":\"LegendItem\"},{\"attributes\":{},\"id\":\"6f8e3745-484f-4fd1-b266-e31357b75c8f\",\"type\":\"Selection\"},{\"attributes\":{\"children\":[{\"id\":\"51eb3a2c-6dcd-4b2f-8c7b-5f88a8140b31\",\"type\":\"ToolbarBox\"},{\"id\":\"7399e938-95e4-4025-bdb1-a2492a8d908d\",\"type\":\"Column\"}]},\"id\":\"a79ab6ff-2cc5-4894-b9ef-eba920ee9516\",\"type\":\"Column\"},{\"attributes\":{\"source\":{\"id\":\"fb767ab0-1262-4d59-b698-183cadc8cf7d\",\"type\":\"ColumnDataSource\"}},\"id\":\"475cde74-86fd-4b15-b327-170220fe3a4a\",\"type\":\"CDSView\"},{\"attributes\":{\"plot\":null,\"text\":\"\"},\"id\":\"2f67b681-5b23-4fb4-9ac2-cb91010ceb0c\",\"type\":\"Title\"},{\"attributes\":{\"label\":{\"value\":\"CRD\"},\"renderers\":[{\"id\":\"61944ef0-2a15-4a1a-afdf-43e2f402061b\",\"type\":\"GlyphRenderer\"},{\"id\":\"c1f335ff-d897-4efd-8285-f906930229db\",\"type\":\"GlyphRenderer\"}]},\"id\":\"ceba7e4f-4016-413d-bcbb-f7b7c4530e39\",\"type\":\"LegendItem\"},{\"attributes\":{},\"id\":\"346592d1-8313-4841-8fcc-26afe470baf6\",\"type\":\"HelpTool\"},{\"attributes\":{\"callback\":null,\"end\":0.022834164423399996,\"start\":-0.14438326708339985},\"id\":\"31f57cb4-47ef-48df-a3e8-c9f493f50e07\",\"type\":\"Range1d\"},{\"attributes\":{\"line_alpha\":0.1,\"line_color\":\"#1f77b4\",\"line_dash\":[6],\"line_width\":5,\"x\":{\"field\":\"x\"},\"y\":{\"field\":\"y\"}},\"id\":\"91c80f6d-50ed-4d02-8753-f5129aa8a3ee\",\"type\":\"Line\"},{\"attributes\":{\"children\":[{\"id\":\"61362469-c22a-4bca-9e9c-8203132f8b44\",\"type\":\"Row\"}]},\"id\":\"7399e938-95e4-4025-bdb1-a2492a8d908d\",\"type\":\"Column\"},{\"attributes\":{},\"id\":\"046183a8-25d2-49ce-8d36-cae20db48e94\",\"type\":\"Selection\"},{\"attributes\":{},\"id\":\"fb200052-ca16-425b-820d-b8fa27fe7ad2\",\"type\":\"UnionRenderers\"},{\"attributes\":{\"overlay\":{\"id\":\"8596808c-78b5-443c-a67f-389f9d8499cf\",\"type\":\"BoxAnnotation\"}},\"id\":\"1e181b7c-bced-4528-974f-83164eb4479f\",\"type\":\"BoxZoomTool\"},{\"attributes\":{},\"id\":\"646a737b-6419-4047-a0e2-2ca42e9b017d\",\"type\":\"LinearScale\"},{\"attributes\":{\"fill_alpha\":{\"value\":0.7},\"fill_color\":{\"value\":\"#984ea3\"},\"line_alpha\":{\"value\":0.7},\"line_color\":{\"value\":\"#984ea3\"},\"x\":{\"field\":\"x\"},\"y\":{\"field\":\"y\"}},\"id\":\"8c956e54-ed88-41ee-aa29-e1d4d93b7025\",\"type\":\"Circle\"},{\"attributes\":{},\"id\":\"3e174525-f73c-46d6-b424-b4c034b04d34\",\"type\":\"Selection\"},{\"attributes\":{\"toolbar\":{\"id\":\"5ce075c6-572f-4aea-8df8-2b4b9c77619f\",\"type\":\"ProxyToolbar\"},\"toolbar_location\":\"above\"},\"id\":\"51eb3a2c-6dcd-4b2f-8c7b-5f88a8140b31\",\"type\":\"ToolbarBox\"},{\"attributes\":{\"axis_label\":\"pressure [mb]\",\"formatter\":{\"id\":\"2bce288e-7e1d-43bf-93f5-b58adc2e3fe3\",\"type\":\"BasicTickFormatter\"},\"plot\":{\"id\":\"0802d286-4416-4eca-8a97-498c9af5f4a2\",\"subtype\":\"Figure\",\"type\":\"Plot\"},\"ticker\":{\"id\":\"ea454c29-79f7-4526-8e41-a4de58cd69a7\",\"type\":\"BasicTicker\"}},\"id\":\"94acf2cc-70dc-4879-9e78-f0df3facc441\",\"type\":\"LinearAxis\"},{\"attributes\":{\"active_drag\":\"auto\",\"active_inspect\":\"auto\",\"active_scroll\":\"auto\",\"active_tap\":\"auto\",\"tools\":[{\"id\":\"91a2be61-ad6c-4693-8a0b-c42866cdd75c\",\"type\":\"PanTool\"},{\"id\":\"e2c9c7c2-68a5-40a4-a49b-1a90ea15b0c0\",\"type\":\"WheelZoomTool\"},{\"id\":\"b07dfee0-c6ef-48ce-ad44-5b3e007a791f\",\"type\":\"BoxZoomTool\"},{\"id\":\"37710261-987a-46fa-832e-1b289ec4de60\",\"type\":\"SaveTool\"},{\"id\":\"0e818116-c753-4cc1-a5da-727c37c4709e\",\"type\":\"ResetTool\"},{\"id\":\"7a3a354f-d9d0-478a-8c54-53e16c875890\",\"type\":\"HelpTool\"}]},\"id\":\"cb1636ca-daee-4110-87f2-3b27651a8eb3\",\"type\":\"Toolbar\"},{\"attributes\":{\"tools\":[{\"id\":\"e62c02ca-3f30-44df-9613-9c5ace83e971\",\"type\":\"PanTool\"},{\"id\":\"cfc442ba-2064-4792-82f0-10e2c1fcda4c\",\"type\":\"WheelZoomTool\"},{\"id\":\"8253c62e-c8be-4f3a-ba26-e88920024df7\",\"type\":\"BoxZoomTool\"},{\"id\":\"f5d35d18-0fb5-4433-a7d3-017143371897\",\"type\":\"SaveTool\"},{\"id\":\"3a039f2b-765a-4eb3-b7ed-dc9b6477008f\",\"type\":\"ResetTool\"},{\"id\":\"14d531ea-ab01-4c72-b121-5f250f9ac7a5\",\"type\":\"HelpTool\"},{\"id\":\"250a0e9e-e396-4905-9121-21114dff799a\",\"type\":\"PanTool\"},{\"id\":\"46a83f31-7be7-4197-a079-8f9d8731eb24\",\"type\":\"WheelZoomTool\"},{\"id\":\"1e181b7c-bced-4528-974f-83164eb4479f\",\"type\":\"BoxZoomTool\"},{\"id\":\"4b3a0a6d-fb26-4255-8ff4-8b86cbeca852\",\"type\":\"SaveTool\"},{\"id\":\"fe72f571-1692-41c7-84dd-eb9ae34b987c\",\"type\":\"ResetTool\"},{\"id\":\"346592d1-8313-4841-8fcc-26afe470baf6\",\"type\":\"HelpTool\"},{\"id\":\"91a2be61-ad6c-4693-8a0b-c42866cdd75c\",\"type\":\"PanTool\"},{\"id\":\"e2c9c7c2-68a5-40a4-a49b-1a90ea15b0c0\",\"type\":\"WheelZoomTool\"},{\"id\":\"b07dfee0-c6ef-48ce-ad44-5b3e007a791f\",\"type\":\"BoxZoomTool\"},{\"id\":\"37710261-987a-46fa-832e-1b289ec4de60\",\"type\":\"SaveTool\"},{\"id\":\"0e818116-c753-4cc1-a5da-727c37c4709e\",\"type\":\"ResetTool\"},{\"id\":\"7a3a354f-d9d0-478a-8c54-53e16c875890\",\"type\":\"HelpTool\"}]},\"id\":\"5ce075c6-572f-4aea-8df8-2b4b9c77619f\",\"type\":\"ProxyToolbar\"},{\"attributes\":{\"items\":[{\"id\":\"77f161fd-a8df-4a9b-b0a1-9b19256b08d0\",\"type\":\"LegendItem\"},{\"id\":\"eb046e6b-5a5f-4e01-8525-cd9a0f5b8fca\",\"type\":\"LegendItem\"}],\"label_text_font_size\":{\"value\":\"8pt\"},\"location\":\"top_center\",\"orientation\":\"horizontal\",\"plot\":{\"id\":\"827c25c8-816b-46d0-9fd8-36adce05276a\",\"subtype\":\"Figure\",\"type\":\"Plot\"}},\"id\":\"ce0a5d70-c0b3-4ac5-b50b-466f20306864\",\"type\":\"Legend\"},{\"attributes\":{\"items\":[{\"id\":\"d4632111-8eb0-43d2-8a5a-c2e428ac8e95\",\"type\":\"LegendItem\"}],\"label_text_font_size\":{\"value\":\"8pt\"},\"location\":\"top_center\",\"orientation\":\"horizontal\",\"plot\":{\"id\":\"74e725ec-98b9-42f6-9f2f-c36bf965c7e0\",\"subtype\":\"Figure\",\"type\":\"Plot\"}},\"id\":\"1b4733eb-95a2-427a-bba3-aa119f80bdc8\",\"type\":\"Legend\"},{\"attributes\":{},\"id\":\"588a533c-04a7-4ace-b905-bd64e498c2a7\",\"type\":\"LogScale\"},{\"attributes\":{\"children\":[{\"id\":\"0802d286-4416-4eca-8a97-498c9af5f4a2\",\"subtype\":\"Figure\",\"type\":\"Plot\"},{\"id\":\"827c25c8-816b-46d0-9fd8-36adce05276a\",\"subtype\":\"Figure\",\"type\":\"Plot\"},{\"id\":\"74e725ec-98b9-42f6-9f2f-c36bf965c7e0\",\"subtype\":\"Figure\",\"type\":\"Plot\"}]},\"id\":\"61362469-c22a-4bca-9e9c-8203132f8b44\",\"type\":\"Row\"},{\"attributes\":{},\"id\":\"b4ec1b69-27e5-463a-8296-a6f5c73a7699\",\"type\":\"Selection\"},{\"attributes\":{},\"id\":\"58a9f5cc-59fb-4a74-a020-db3b5f15cb60\",\"type\":\"LogScale\"},{\"attributes\":{\"active_drag\":\"auto\",\"active_inspect\":\"auto\",\"active_scroll\":\"auto\",\"active_tap\":\"auto\",\"tools\":[{\"id\":\"250a0e9e-e396-4905-9121-21114dff799a\",\"type\":\"PanTool\"},{\"id\":\"46a83f31-7be7-4197-a079-8f9d8731eb24\",\"type\":\"WheelZoomTool\"},{\"id\":\"1e181b7c-bced-4528-974f-83164eb4479f\",\"type\":\"BoxZoomTool\"},{\"id\":\"4b3a0a6d-fb26-4255-8ff4-8b86cbeca852\",\"type\":\"SaveTool\"},{\"id\":\"fe72f571-1692-41c7-84dd-eb9ae34b987c\",\"type\":\"ResetTool\"},{\"id\":\"346592d1-8313-4841-8fcc-26afe470baf6\",\"type\":\"HelpTool\"}]},\"id\":\"eccf9f39-69d6-4ac5-9763-df6b5f795388\",\"type\":\"Toolbar\"},{\"attributes\":{\"dimension\":1,\"plot\":{\"id\":\"74e725ec-98b9-42f6-9f2f-c36bf965c7e0\",\"subtype\":\"Figure\",\"type\":\"Plot\"},\"ticker\":{\"id\":\"f6eb1f58-8d23-43bb-b470-a38fdc148008\",\"type\":\"LogTicker\"}},\"id\":\"63d3f566-c0e3-4303-ad3a-bd165a38f5e8\",\"type\":\"Grid\"},{\"attributes\":{},\"id\":\"c42e029c-7238-4a9b-93a9-3a1ee83333ab\",\"type\":\"LinearScale\"},{\"attributes\":{\"callback\":null,\"end\":1.7272173485900002,\"start\":-0.64176218959},\"id\":\"22041180-70d4-44cc-b203-cd8a8fb9a344\",\"type\":\"Range1d\"},{\"attributes\":{\"num_minor_ticks\":10},\"id\":\"f6eb1f58-8d23-43bb-b470-a38fdc148008\",\"type\":\"LogTicker\"},{\"attributes\":{\"axis_label\":\"cooling rate [K/day]\",\"formatter\":{\"id\":\"82e71a52-d3ed-4d36-bf8d-2fd9ebc67612\",\"type\":\"BasicTickFormatter\"},\"plot\":{\"id\":\"827c25c8-816b-46d0-9fd8-36adce05276a\",\"subtype\":\"Figure\",\"type\":\"Plot\"},\"ticker\":{\"id\":\"62c2ef23-7f6e-4d94-905b-fe5d16025967\",\"type\":\"BasicTicker\"}},\"id\":\"a5f4091a-25ce-43c3-bae7-951a80343892\",\"type\":\"LinearAxis\"},{\"attributes\":{\"axis_label\":\"pressure [mb]\",\"formatter\":{\"id\":\"c465e51b-037b-426c-ae9d-c8f19deada2e\",\"type\":\"LogTickFormatter\"},\"plot\":{\"id\":\"74e725ec-98b9-42f6-9f2f-c36bf965c7e0\",\"subtype\":\"Figure\",\"type\":\"Plot\"},\"ticker\":{\"id\":\"f6eb1f58-8d23-43bb-b470-a38fdc148008\",\"type\":\"LogTicker\"}},\"id\":\"7feca802-961f-4a67-afb4-8fec228a4682\",\"type\":\"LogAxis\"},{\"attributes\":{\"plot\":{\"id\":\"827c25c8-816b-46d0-9fd8-36adce05276a\",\"subtype\":\"Figure\",\"type\":\"Plot\"},\"ticker\":{\"id\":\"62c2ef23-7f6e-4d94-905b-fe5d16025967\",\"type\":\"BasicTicker\"}},\"id\":\"18d2b6b0-cb17-491e-99f7-1593e2153993\",\"type\":\"Grid\"},{\"attributes\":{},\"id\":\"aedbc786-4fd8-4ed4-834d-3ec7e54610da\",\"type\":\"BasicTicker\"},{\"attributes\":{},\"id\":\"3a039f2b-765a-4eb3-b7ed-dc9b6477008f\",\"type\":\"ResetTool\"},{\"attributes\":{\"axis_label\":\"cooling rate [K/day]\",\"formatter\":{\"id\":\"7ad2aabc-ec4e-47ca-8ed4-8ced87291ab2\",\"type\":\"BasicTickFormatter\"},\"plot\":{\"id\":\"74e725ec-98b9-42f6-9f2f-c36bf965c7e0\",\"subtype\":\"Figure\",\"type\":\"Plot\"},\"ticker\":{\"id\":\"aedbc786-4fd8-4ed4-834d-3ec7e54610da\",\"type\":\"BasicTicker\"}},\"id\":\"3505433a-eccc-4e53-990f-e79a57bdba86\",\"type\":\"LinearAxis\"},{\"attributes\":{\"line_alpha\":0.1,\"line_color\":\"#1f77b4\",\"line_dash\":[6],\"line_width\":5,\"x\":{\"field\":\"x\"},\"y\":{\"field\":\"y\"}},\"id\":\"2190ba84-cf89-47b9-8436-10a001aae018\",\"type\":\"Line\"},{\"attributes\":{\"plot\":{\"id\":\"74e725ec-98b9-42f6-9f2f-c36bf965c7e0\",\"subtype\":\"Figure\",\"type\":\"Plot\"},\"ticker\":{\"id\":\"aedbc786-4fd8-4ed4-834d-3ec7e54610da\",\"type\":\"BasicTicker\"}},\"id\":\"71a7c782-48a2-43cd-8495-07074740daa1\",\"type\":\"Grid\"},{\"attributes\":{},\"id\":\"e2c9c7c2-68a5-40a4-a49b-1a90ea15b0c0\",\"type\":\"WheelZoomTool\"},{\"attributes\":{\"dimension\":1,\"plot\":{\"id\":\"0802d286-4416-4eca-8a97-498c9af5f4a2\",\"subtype\":\"Figure\",\"type\":\"Plot\"},\"ticker\":{\"id\":\"ea454c29-79f7-4526-8e41-a4de58cd69a7\",\"type\":\"BasicTicker\"}},\"id\":\"c7b83966-5cbb-4077-9573-d58113f357a7\",\"type\":\"Grid\"},{\"attributes\":{\"line_alpha\":0.6,\"line_color\":\"#e41a1c\",\"line_dash\":[6],\"line_width\":5,\"x\":{\"field\":\"x\"},\"y\":{\"field\":\"y\"}},\"id\":\"273aa62d-e201-4d6e-b2fd-acd5397d7b9b\",\"type\":\"Line\"},{\"attributes\":{\"callback\":null,\"end\":0.01,\"start\":1020},\"id\":\"31d282e6-b137-4b91-8695-873d91e6c428\",\"type\":\"Range1d\"},{\"attributes\":{},\"id\":\"2bce288e-7e1d-43bf-93f5-b58adc2e3fe3\",\"type\":\"BasicTickFormatter\"},{\"attributes\":{},\"id\":\"7a3a354f-d9d0-478a-8c54-53e16c875890\",\"type\":\"HelpTool\"},{\"attributes\":{},\"id\":\"62c2ef23-7f6e-4d94-905b-fe5d16025967\",\"type\":\"BasicTicker\"},{\"attributes\":{},\"id\":\"91a2be61-ad6c-4693-8a0b-c42866cdd75c\",\"type\":\"PanTool\"},{\"attributes\":{},\"id\":\"ea454c29-79f7-4526-8e41-a4de58cd69a7\",\"type\":\"BasicTicker\"},{\"attributes\":{\"line_alpha\":0.6,\"line_color\":\"#e41a1c\",\"line_dash\":[6],\"line_width\":5,\"x\":{\"field\":\"x\"},\"y\":{\"field\":\"y\"}},\"id\":\"579d94c8-39c5-4cd9-af34-894ca8828669\",\"type\":\"Line\"},{\"attributes\":{\"overlay\":{\"id\":\"3442210c-b765-45b2-9472-1abca13d2648\",\"type\":\"BoxAnnotation\"}},\"id\":\"b07dfee0-c6ef-48ce-ad44-5b3e007a791f\",\"type\":\"BoxZoomTool\"},{\"attributes\":{\"axis_label\":\"pressure [mb]\",\"formatter\":{\"id\":\"541ff1e7-251e-4687-8450-d3c7607ebec1\",\"type\":\"LogTickFormatter\"},\"plot\":{\"id\":\"827c25c8-816b-46d0-9fd8-36adce05276a\",\"subtype\":\"Figure\",\"type\":\"Plot\"},\"ticker\":{\"id\":\"1aa28418-801a-4930-a9c2-64d40d99aa5f\",\"type\":\"LogTicker\"}},\"id\":\"f2184a44-7b01-47a7-9c66-5ee4cfec5d4b\",\"type\":\"LogAxis\"},{\"attributes\":{},\"id\":\"37710261-987a-46fa-832e-1b289ec4de60\",\"type\":\"SaveTool\"},{\"attributes\":{},\"id\":\"0e818116-c753-4cc1-a5da-727c37c4709e\",\"type\":\"ResetTool\"},{\"attributes\":{\"data_source\":{\"id\":\"92898cdc-633e-424e-8635-3aefe28bafad\",\"type\":\"ColumnDataSource\"},\"glyph\":{\"id\":\"273aa62d-e201-4d6e-b2fd-acd5397d7b9b\",\"type\":\"Line\"},\"hover_glyph\":null,\"muted_glyph\":null,\"nonselection_glyph\":{\"id\":\"2190ba84-cf89-47b9-8436-10a001aae018\",\"type\":\"Line\"},\"selection_glyph\":null,\"view\":{\"id\":\"6eb9d300-f2ff-4a65-b38c-4fd229a842c4\",\"type\":\"CDSView\"}},\"id\":\"63ac12f1-d1fc-4953-94a2-7509abcfa538\",\"type\":\"GlyphRenderer\"},{\"attributes\":{\"above\":[{\"id\":\"ce0a5d70-c0b3-4ac5-b50b-466f20306864\",\"type\":\"Legend\"}],\"below\":[{\"id\":\"a5f4091a-25ce-43c3-bae7-951a80343892\",\"type\":\"LinearAxis\"}],\"left\":[{\"id\":\"f2184a44-7b01-47a7-9c66-5ee4cfec5d4b\",\"type\":\"LogAxis\"}],\"plot_width\":300,\"renderers\":[{\"id\":\"a5f4091a-25ce-43c3-bae7-951a80343892\",\"type\":\"LinearAxis\"},{\"id\":\"18d2b6b0-cb17-491e-99f7-1593e2153993\",\"type\":\"Grid\"},{\"id\":\"f2184a44-7b01-47a7-9c66-5ee4cfec5d4b\",\"type\":\"LogAxis\"},{\"id\":\"5c42f9c5-17b9-425f-b828-9c6c5352566a\",\"type\":\"Grid\"},{\"id\":\"8596808c-78b5-443c-a67f-389f9d8499cf\",\"type\":\"BoxAnnotation\"},{\"id\":\"63ac12f1-d1fc-4953-94a2-7509abcfa538\",\"type\":\"GlyphRenderer\"},{\"id\":\"e24406f1-7291-4dd1-878e-689635002d5e\",\"type\":\"GlyphRenderer\"},{\"id\":\"8901d403-cda8-47cb-a09d-004b412722f5\",\"type\":\"GlyphRenderer\"},{\"id\":\"ce0a5d70-c0b3-4ac5-b50b-466f20306864\",\"type\":\"Legend\"}],\"title\":{\"id\":\"1e652ae6-f5e0-4673-a2d8-e84e46bedf73\",\"type\":\"Title\"},\"toolbar\":{\"id\":\"eccf9f39-69d6-4ac5-9763-df6b5f795388\",\"type\":\"Toolbar\"},\"toolbar_location\":null,\"x_range\":{\"id\":\"22041180-70d4-44cc-b203-cd8a8fb9a344\",\"type\":\"Range1d\"},\"x_scale\":{\"id\":\"646a737b-6419-4047-a0e2-2ca42e9b017d\",\"type\":\"LinearScale\"},\"y_range\":{\"id\":\"31d282e6-b137-4b91-8695-873d91e6c428\",\"type\":\"Range1d\"},\"y_scale\":{\"id\":\"58a9f5cc-59fb-4a74-a020-db3b5f15cb60\",\"type\":\"LogScale\"}},\"id\":\"827c25c8-816b-46d0-9fd8-36adce05276a\",\"subtype\":\"Figure\",\"type\":\"Plot\"},{\"attributes\":{\"dimension\":1,\"plot\":{\"id\":\"827c25c8-816b-46d0-9fd8-36adce05276a\",\"subtype\":\"Figure\",\"type\":\"Plot\"},\"ticker\":{\"id\":\"1aa28418-801a-4930-a9c2-64d40d99aa5f\",\"type\":\"LogTicker\"}},\"id\":\"5c42f9c5-17b9-425f-b828-9c6c5352566a\",\"type\":\"Grid\"},{\"attributes\":{\"source\":{\"id\":\"92898cdc-633e-424e-8635-3aefe28bafad\",\"type\":\"ColumnDataSource\"}},\"id\":\"6eb9d300-f2ff-4a65-b38c-4fd229a842c4\",\"type\":\"CDSView\"},{\"attributes\":{\"items\":[{\"id\":\"c890a66f-adc9-4679-b6bf-a20987292f69\",\"type\":\"LegendItem\"},{\"id\":\"ceba7e4f-4016-413d-bcbb-f7b7c4530e39\",\"type\":\"LegendItem\"}],\"label_text_font_size\":{\"value\":\"8pt\"},\"location\":\"top_center\",\"orientation\":\"horizontal\",\"plot\":{\"id\":\"0802d286-4416-4eca-8a97-498c9af5f4a2\",\"subtype\":\"Figure\",\"type\":\"Plot\"}},\"id\":\"ea68a76d-6dc7-4881-b59e-fde5de339bac\",\"type\":\"Legend\"},{\"attributes\":{\"above\":[{\"id\":\"ea68a76d-6dc7-4881-b59e-fde5de339bac\",\"type\":\"Legend\"}],\"below\":[{\"id\":\"aa73275d-7114-4e5d-9a0a-2110da1878c7\",\"type\":\"LinearAxis\"}],\"left\":[{\"id\":\"94acf2cc-70dc-4879-9e78-f0df3facc441\",\"type\":\"LinearAxis\"}],\"plot_width\":300,\"renderers\":[{\"id\":\"aa73275d-7114-4e5d-9a0a-2110da1878c7\",\"type\":\"LinearAxis\"},{\"id\":\"1e050e83-8814-46ed-97dd-cd2ed983ae6c\",\"type\":\"Grid\"},{\"id\":\"94acf2cc-70dc-4879-9e78-f0df3facc441\",\"type\":\"LinearAxis\"},{\"id\":\"c7b83966-5cbb-4077-9573-d58113f357a7\",\"type\":\"Grid\"},{\"id\":\"73bef75f-be77-4e23-b5b1-5600ce3f442c\",\"type\":\"BoxAnnotation\"},{\"id\":\"37d7d5e6-7c5f-4cb8-abc7-6dd8e14cdbb8\",\"type\":\"GlyphRenderer\"},{\"id\":\"61944ef0-2a15-4a1a-afdf-43e2f402061b\",\"type\":\"GlyphRenderer\"},{\"id\":\"c1f335ff-d897-4efd-8285-f906930229db\",\"type\":\"GlyphRenderer\"},{\"id\":\"ea68a76d-6dc7-4881-b59e-fde5de339bac\",\"type\":\"Legend\"}],\"title\":{\"id\":\"cd1319b6-1038-4d69-bc28-de55b5f8212e\",\"type\":\"Title\"},\"toolbar\":{\"id\":\"f7966b52-4c01-4f70-9e38-46248f81b729\",\"type\":\"Toolbar\"},\"toolbar_location\":null,\"x_range\":{\"id\":\"5f15c78c-d84a-4783-b8ee-3832a486a2f0\",\"type\":\"Range1d\"},\"x_scale\":{\"id\":\"c42e029c-7238-4a9b-93a9-3a1ee83333ab\",\"type\":\"LinearScale\"},\"y_range\":{\"id\":\"ab310a86-19d2-47e6-8d92-2ade418689f2\",\"type\":\"Range1d\"},\"y_scale\":{\"id\":\"4fd4a905-319e-4bcc-890c-aa72f5932459\",\"type\":\"LinearScale\"}},\"id\":\"0802d286-4416-4eca-8a97-498c9af5f4a2\",\"subtype\":\"Figure\",\"type\":\"Plot\"},{\"attributes\":{\"above\":[{\"id\":\"1b4733eb-95a2-427a-bba3-aa119f80bdc8\",\"type\":\"Legend\"}],\"below\":[{\"id\":\"3505433a-eccc-4e53-990f-e79a57bdba86\",\"type\":\"LinearAxis\"}],\"left\":[{\"id\":\"7feca802-961f-4a67-afb4-8fec228a4682\",\"type\":\"LogAxis\"}],\"plot_width\":300,\"renderers\":[{\"id\":\"3505433a-eccc-4e53-990f-e79a57bdba86\",\"type\":\"LinearAxis\"},{\"id\":\"71a7c782-48a2-43cd-8495-07074740daa1\",\"type\":\"Grid\"},{\"id\":\"7feca802-961f-4a67-afb4-8fec228a4682\",\"type\":\"LogAxis\"},{\"id\":\"63d3f566-c0e3-4303-ad3a-bd165a38f5e8\",\"type\":\"Grid\"},{\"id\":\"3442210c-b765-45b2-9472-1abca13d2648\",\"type\":\"BoxAnnotation\"},{\"id\":\"69f760aa-6682-480d-89aa-b59983e7fc35\",\"type\":\"GlyphRenderer\"},{\"id\":\"54b8bdc4-147a-4f5d-baaa-9af1fe6d8ee3\",\"type\":\"GlyphRenderer\"},{\"id\":\"1b4733eb-95a2-427a-bba3-aa119f80bdc8\",\"type\":\"Legend\"}],\"title\":{\"id\":\"2f67b681-5b23-4fb4-9ac2-cb91010ceb0c\",\"type\":\"Title\"},\"toolbar\":{\"id\":\"cb1636ca-daee-4110-87f2-3b27651a8eb3\",\"type\":\"Toolbar\"},\"toolbar_location\":null,\"x_range\":{\"id\":\"31f57cb4-47ef-48df-a3e8-c9f493f50e07\",\"type\":\"Range1d\"},\"x_scale\":{\"id\":\"83b367c6-390d-4902-8a18-7ff1ac9040a9\",\"type\":\"LinearScale\"},\"y_range\":{\"id\":\"43c74fb4-b86f-4187-9bbe-92c555a10c6f\",\"type\":\"Range1d\"},\"y_scale\":{\"id\":\"588a533c-04a7-4ace-b905-bd64e498c2a7\",\"type\":\"LogScale\"}},\"id\":\"74e725ec-98b9-42f6-9f2f-c36bf965c7e0\",\"subtype\":\"Figure\",\"type\":\"Plot\"}],\"root_ids\":[\"a79ab6ff-2cc5-4894-b9ef-eba920ee9516\"]},\"title\":\"Bokeh Application\",\"version\":\"0.12.16\"}};\n",
       "  var render_items = [{\"docid\":\"31743d6e-7ad5-4d36-93a1-a107a460d9cb\",\"elementid\":\"b43935ba-c961-4858-bd6c-c64faa69ee41\",\"modelid\":\"a79ab6ff-2cc5-4894-b9ef-eba920ee9516\"}];\n",
       "  root.Bokeh.embed.embed_items_notebook(docs_json, render_items);\n",
       "\n",
       "  }\n",
       "  if (root.Bokeh !== undefined) {\n",
       "    embed_document(root);\n",
       "  } else {\n",
       "    var attempts = 0;\n",
       "    var timer = setInterval(function(root) {\n",
       "      if (root.Bokeh !== undefined) {\n",
       "        embed_document(root);\n",
       "        clearInterval(timer);\n",
       "      }\n",
       "      attempts++;\n",
       "      if (attempts > 100) {\n",
       "        console.log(\"Bokeh: ERROR: Unable to run BokehJS code because BokehJS library is missing\")\n",
       "        clearInterval(timer);\n",
       "      }\n",
       "    }, 10, root)\n",
       "  }\n",
       "})(window);"
      ],
      "application/vnd.bokehjs_exec.v0+json": ""
     },
     "metadata": {
      "application/vnd.bokehjs_exec.v0+json": {
       "id": "a79ab6ff-2cc5-4894-b9ef-eba920ee9516"
      }
     },
     "output_type": "display_data"
    },
    {
     "data": {
      "text/markdown": [
       "*FIGURE.* Cooling rates & difference."
      ],
      "text/plain": [
       "<IPython.core.display.Markdown object>"
      ]
     },
     "metadata": {},
     "output_type": "display_data"
    },
    {
     "data": {
      "text/html": [
       "<a id=\"Fluxes._trp.\"></a>"
      ],
      "text/plain": [
       "<IPython.core.display.HTML object>"
      ]
     },
     "metadata": {},
     "output_type": "display_data"
    },
    {
     "data": {
      "text/markdown": [
       "# Fluxes. trp."
      ],
      "text/plain": [
       "<IPython.core.display.Markdown object>"
      ]
     },
     "metadata": {},
     "output_type": "display_data"
    },
    {
     "data": {
      "text/html": [
       "\n",
       "<div class=\"bk-root\">\n",
       "    <div class=\"bk-plotdiv\" id=\"790c8710-11a5-48cd-893f-477725777753\"></div>\n",
       "</div>"
      ]
     },
     "metadata": {},
     "output_type": "display_data"
    },
    {
     "data": {
      "application/javascript": [
       "(function(root) {\n",
       "  function embed_document(root) {\n",
       "    \n",
       "  var docs_json = {\"3e30ad48-7125-4e47-b875-0e1e1afe7262\":{\"roots\":{\"references\":[{\"attributes\":{\"plot\":{\"id\":\"33b369b0-c7b0-4aca-b257-5efabd7907cd\",\"subtype\":\"Figure\",\"type\":\"Plot\"},\"ticker\":{\"id\":\"50fc41bb-e9da-40bc-890d-ad466fdbe4d3\",\"type\":\"CategoricalTicker\"}},\"id\":\"8a06fa20-91d0-41e7-a374-9eb1011a3441\",\"type\":\"Grid\"},{\"attributes\":{\"axis_label\":\"flux (W m-2)\",\"formatter\":{\"id\":\"56b4838b-4205-43f0-96bd-0d7e5901b730\",\"type\":\"BasicTickFormatter\"},\"plot\":{\"id\":\"97e0331e-52fa-4c1b-8a96-aa48c38cddab\",\"subtype\":\"Figure\",\"type\":\"Plot\"},\"ticker\":{\"id\":\"5d1949d4-2492-4efa-ba08-fd5ea4cfa84f\",\"type\":\"BasicTicker\"}},\"id\":\"3623a0a0-bf9d-4f19-8335-12c2e21d14c7\",\"type\":\"LinearAxis\"},{\"attributes\":{\"plot\":null,\"text\":\"SFC flux. CLIRAD - CRD.\"},\"id\":\"6bdede8e-91d0-4d33-8e61-d91e6b7bccf9\",\"type\":\"Title\"},{\"attributes\":{},\"id\":\"2562f86a-e251-45c0-a504-e4837b88eea3\",\"type\":\"CategoricalScale\"},{\"attributes\":{\"plot\":null,\"text\":\"Atmosphere heating. CLIRAD - CRD.\"},\"id\":\"3ec52a7a-effb-4a92-be74-286971ed6104\",\"type\":\"Title\"},{\"attributes\":{\"dimension\":1,\"plot\":{\"id\":\"0ba7e578-223c-4194-a208-a674f057cfed\",\"subtype\":\"Figure\",\"type\":\"Plot\"},\"ticker\":{\"id\":\"cf218c6c-ccac-427d-a482-3d19aa4298bf\",\"type\":\"BasicTicker\"}},\"id\":\"65ef6800-afb2-47a8-bbe7-8062f26f7521\",\"type\":\"Grid\"},{\"attributes\":{\"callback\":null,\"data\":{\"band\":[\"7\"],\"flux\":{\"__ndarray__\":\"AGzvFvLPwb8=\",\"dtype\":\"float64\",\"shape\":[1]}},\"selected\":{\"id\":\"2319d340-8e64-4f48-918a-965454cd52ef\",\"type\":\"Selection\"},\"selection_policy\":{\"id\":\"b1744e94-1992-470e-bcc5-754c017498a3\",\"type\":\"UnionRenderers\"}},\"id\":\"f5677baa-9e32-440e-82c4-ca29fff7c261\",\"type\":\"ColumnDataSource\"},{\"attributes\":{},\"id\":\"cf218c6c-ccac-427d-a482-3d19aa4298bf\",\"type\":\"BasicTicker\"},{\"attributes\":{},\"id\":\"b329b59c-4ba1-4b86-a08e-7d6030ec40d4\",\"type\":\"SaveTool\"},{\"attributes\":{\"fill_alpha\":{\"value\":0.1},\"fill_color\":{\"value\":\"#1f77b4\"},\"line_alpha\":{\"value\":0.1},\"line_color\":{\"value\":\"#1f77b4\"},\"top\":{\"field\":\"flux\"},\"width\":{\"value\":0.9},\"x\":{\"field\":\"band\"}},\"id\":\"3849999a-1e14-44af-8643-c997968bbbdb\",\"type\":\"VBar\"},{\"attributes\":{},\"id\":\"231996b0-d4b4-42d7-9cab-3612249efede\",\"type\":\"BasicTickFormatter\"},{\"attributes\":{},\"id\":\"e640c469-bb8d-44e1-b9bd-61eb73c785a1\",\"type\":\"LinearScale\"},{\"attributes\":{},\"id\":\"91eb939b-ac3e-47a6-8e74-32dcef48f2ff\",\"type\":\"LinearScale\"},{\"attributes\":{\"plot\":{\"id\":\"0ba7e578-223c-4194-a208-a674f057cfed\",\"subtype\":\"Figure\",\"type\":\"Plot\"},\"ticker\":{\"id\":\"a5005f72-fa88-44c6-b167-8df7a829c5fb\",\"type\":\"CategoricalTicker\"}},\"id\":\"d7656936-4872-4ca2-9d4f-ad18f547ca8e\",\"type\":\"Grid\"},{\"attributes\":{\"axis_label\":\"flux (W m-2)\",\"formatter\":{\"id\":\"231996b0-d4b4-42d7-9cab-3612249efede\",\"type\":\"BasicTickFormatter\"},\"plot\":{\"id\":\"33b369b0-c7b0-4aca-b257-5efabd7907cd\",\"subtype\":\"Figure\",\"type\":\"Plot\"},\"ticker\":{\"id\":\"675278e4-33a3-48fc-b719-ff53c1c59187\",\"type\":\"BasicTicker\"}},\"id\":\"05805b9a-1c76-46f7-acf7-b1f8f3c076db\",\"type\":\"LinearAxis\"},{\"attributes\":{\"axis_label\":\"spectral band\",\"formatter\":{\"id\":\"cd408279-b82d-41c4-a2d5-8e2349ad04c7\",\"type\":\"CategoricalTickFormatter\"},\"plot\":{\"id\":\"0ba7e578-223c-4194-a208-a674f057cfed\",\"subtype\":\"Figure\",\"type\":\"Plot\"},\"ticker\":{\"id\":\"a5005f72-fa88-44c6-b167-8df7a829c5fb\",\"type\":\"CategoricalTicker\"}},\"id\":\"e643466e-31fd-49b2-a06a-e27b7fb81490\",\"type\":\"CategoricalAxis\"},{\"attributes\":{\"toolbar\":{\"id\":\"16898234-54d0-403e-8669-463bb0ee63d9\",\"type\":\"ProxyToolbar\"},\"toolbar_location\":\"above\"},\"id\":\"d18a279d-0e54-451c-8558-ea711b3547f2\",\"type\":\"ToolbarBox\"},{\"attributes\":{\"overlay\":{\"id\":\"de74c963-f87f-451e-9c44-6a150a027ecd\",\"type\":\"BoxAnnotation\"}},\"id\":\"038ef5e4-f460-443b-9ef5-d31784a28bb0\",\"type\":\"BoxZoomTool\"},{\"attributes\":{},\"id\":\"a5005f72-fa88-44c6-b167-8df7a829c5fb\",\"type\":\"CategoricalTicker\"},{\"attributes\":{},\"id\":\"dea72195-0a9b-4545-add4-08d874c936f7\",\"type\":\"ResetTool\"},{\"attributes\":{\"source\":{\"id\":\"dc0dbe97-a190-4276-be81-721e384b1c61\",\"type\":\"ColumnDataSource\"}},\"id\":\"bf4ee40b-869e-4ba4-abe3-659d62490f67\",\"type\":\"CDSView\"},{\"attributes\":{\"axis_label\":\"flux (W m-2)\",\"formatter\":{\"id\":\"753e33e7-7ece-4bf2-88cd-24dbda29e7c1\",\"type\":\"BasicTickFormatter\"},\"plot\":{\"id\":\"0ba7e578-223c-4194-a208-a674f057cfed\",\"subtype\":\"Figure\",\"type\":\"Plot\"},\"ticker\":{\"id\":\"cf218c6c-ccac-427d-a482-3d19aa4298bf\",\"type\":\"BasicTicker\"}},\"id\":\"1913a366-2a8f-4ef4-9b09-0f5150cfcea1\",\"type\":\"LinearAxis\"},{\"attributes\":{},\"id\":\"ad2912f4-5143-436c-b96a-e964c1066837\",\"type\":\"WheelZoomTool\"},{\"attributes\":{\"callback\":null,\"factors\":[\"7\"]},\"id\":\"ba76b508-5801-4cde-b70f-69da71f5fdb2\",\"type\":\"FactorRange\"},{\"attributes\":{\"callback\":null},\"id\":\"ba222bb9-bbb1-4461-a5fd-e2f2f7889418\",\"type\":\"DataRange1d\"},{\"attributes\":{\"data_source\":{\"id\":\"dc0dbe97-a190-4276-be81-721e384b1c61\",\"type\":\"ColumnDataSource\"},\"glyph\":{\"id\":\"e8d7e7a0-5038-43b9-a6f2-0057ff93cfb5\",\"type\":\"VBar\"},\"hover_glyph\":null,\"muted_glyph\":null,\"nonselection_glyph\":{\"id\":\"555a631d-80da-4d09-a506-f805400a27a6\",\"type\":\"VBar\"},\"selection_glyph\":null,\"view\":{\"id\":\"bf4ee40b-869e-4ba4-abe3-659d62490f67\",\"type\":\"CDSView\"}},\"id\":\"bcf3910a-f3e2-4b55-9c55-b0443a1b4b77\",\"type\":\"GlyphRenderer\"},{\"attributes\":{\"fill_color\":{\"value\":\"#1f77b4\"},\"line_color\":{\"value\":\"#1f77b4\"},\"top\":{\"field\":\"flux\"},\"width\":{\"value\":0.9},\"x\":{\"field\":\"band\"}},\"id\":\"907094a3-3f66-4160-9d3a-3cf6738cfbf4\",\"type\":\"VBar\"},{\"attributes\":{},\"id\":\"4f6173e6-54dc-4b2d-9073-8b5c63151859\",\"type\":\"PanTool\"},{\"attributes\":{\"bottom_units\":\"screen\",\"fill_alpha\":{\"value\":0.5},\"fill_color\":{\"value\":\"lightgrey\"},\"left_units\":\"screen\",\"level\":\"overlay\",\"line_alpha\":{\"value\":1.0},\"line_color\":{\"value\":\"black\"},\"line_dash\":[4,4],\"line_width\":{\"value\":2},\"plot\":null,\"render_mode\":\"css\",\"right_units\":\"screen\",\"top_units\":\"screen\"},\"id\":\"de74c963-f87f-451e-9c44-6a150a027ecd\",\"type\":\"BoxAnnotation\"},{\"attributes\":{\"bottom_units\":\"screen\",\"fill_alpha\":{\"value\":0.5},\"fill_color\":{\"value\":\"lightgrey\"},\"left_units\":\"screen\",\"level\":\"overlay\",\"line_alpha\":{\"value\":1.0},\"line_color\":{\"value\":\"black\"},\"line_dash\":[4,4],\"line_width\":{\"value\":2},\"plot\":null,\"render_mode\":\"css\",\"right_units\":\"screen\",\"top_units\":\"screen\"},\"id\":\"dbbf3144-f569-4819-b5a7-2f612d32583e\",\"type\":\"BoxAnnotation\"},{\"attributes\":{},\"id\":\"37fcef36-172b-450a-bfb3-e16a0a4136a7\",\"type\":\"CategoricalScale\"},{\"attributes\":{\"tools\":[{\"id\":\"8c561ad0-77f9-43e0-b4d2-7038002b99a7\",\"type\":\"PanTool\"},{\"id\":\"6d03d755-0a49-43a5-91e3-b136dd07cdd5\",\"type\":\"WheelZoomTool\"},{\"id\":\"d374989f-efe7-4c4d-a395-eb9236cfcfbf\",\"type\":\"BoxZoomTool\"},{\"id\":\"60490393-a09e-4de8-987f-b94d61dc6aae\",\"type\":\"SaveTool\"},{\"id\":\"113a3dbc-f093-4270-a23c-423ac29c559d\",\"type\":\"ResetTool\"},{\"id\":\"fe6e93a4-745b-4f2b-ba20-090f78f02437\",\"type\":\"HelpTool\"},{\"id\":\"24cba78a-cb65-4eb2-8d3a-c0545f260789\",\"type\":\"PanTool\"},{\"id\":\"b9a6ac59-9ea6-4b25-a90e-12f9d45f081a\",\"type\":\"WheelZoomTool\"},{\"id\":\"e7fef36b-ca22-4a67-ac80-87e4583b8513\",\"type\":\"BoxZoomTool\"},{\"id\":\"bfd79d72-c1f7-4eba-8908-898c0bee7e22\",\"type\":\"SaveTool\"},{\"id\":\"f0af892a-cafa-424e-b564-6c7b77bcddd1\",\"type\":\"ResetTool\"},{\"id\":\"ffefed47-3d98-46b9-8885-cfb9da2e69b2\",\"type\":\"HelpTool\"},{\"id\":\"4f6173e6-54dc-4b2d-9073-8b5c63151859\",\"type\":\"PanTool\"},{\"id\":\"ad2912f4-5143-436c-b96a-e964c1066837\",\"type\":\"WheelZoomTool\"},{\"id\":\"038ef5e4-f460-443b-9ef5-d31784a28bb0\",\"type\":\"BoxZoomTool\"},{\"id\":\"b329b59c-4ba1-4b86-a08e-7d6030ec40d4\",\"type\":\"SaveTool\"},{\"id\":\"dea72195-0a9b-4545-add4-08d874c936f7\",\"type\":\"ResetTool\"},{\"id\":\"bea81af5-8164-438b-bbb0-ebe838a71f72\",\"type\":\"HelpTool\"}]},\"id\":\"16898234-54d0-403e-8669-463bb0ee63d9\",\"type\":\"ProxyToolbar\"},{\"attributes\":{},\"id\":\"24cba78a-cb65-4eb2-8d3a-c0545f260789\",\"type\":\"PanTool\"},{\"attributes\":{\"fill_color\":{\"value\":\"#1f77b4\"},\"line_color\":{\"value\":\"#1f77b4\"},\"top\":{\"field\":\"flux\"},\"width\":{\"value\":0.9},\"x\":{\"field\":\"band\"}},\"id\":\"e8d7e7a0-5038-43b9-a6f2-0057ff93cfb5\",\"type\":\"VBar\"},{\"attributes\":{\"data_source\":{\"id\":\"f5677baa-9e32-440e-82c4-ca29fff7c261\",\"type\":\"ColumnDataSource\"},\"glyph\":{\"id\":\"907094a3-3f66-4160-9d3a-3cf6738cfbf4\",\"type\":\"VBar\"},\"hover_glyph\":null,\"muted_glyph\":null,\"nonselection_glyph\":{\"id\":\"3849999a-1e14-44af-8643-c997968bbbdb\",\"type\":\"VBar\"},\"selection_glyph\":null,\"view\":{\"id\":\"4dca2e98-b0f8-4b0b-837e-a5aa7418cd75\",\"type\":\"CDSView\"}},\"id\":\"f83e49d1-e5e8-488a-938e-ada831f977f2\",\"type\":\"GlyphRenderer\"},{\"attributes\":{},\"id\":\"18282b2c-9b26-405f-a907-13cd8574f6b4\",\"type\":\"CategoricalTickFormatter\"},{\"attributes\":{},\"id\":\"b9a6ac59-9ea6-4b25-a90e-12f9d45f081a\",\"type\":\"WheelZoomTool\"},{\"attributes\":{\"dimension\":1,\"plot\":{\"id\":\"33b369b0-c7b0-4aca-b257-5efabd7907cd\",\"subtype\":\"Figure\",\"type\":\"Plot\"},\"ticker\":{\"id\":\"675278e4-33a3-48fc-b719-ff53c1c59187\",\"type\":\"BasicTicker\"}},\"id\":\"97d74393-43c9-40f9-8f1a-39b1e0b50cd3\",\"type\":\"Grid\"},{\"attributes\":{\"overlay\":{\"id\":\"dbbf3144-f569-4819-b5a7-2f612d32583e\",\"type\":\"BoxAnnotation\"}},\"id\":\"e7fef36b-ca22-4a67-ac80-87e4583b8513\",\"type\":\"BoxZoomTool\"},{\"attributes\":{},\"id\":\"675278e4-33a3-48fc-b719-ff53c1c59187\",\"type\":\"BasicTicker\"},{\"attributes\":{},\"id\":\"bfd79d72-c1f7-4eba-8908-898c0bee7e22\",\"type\":\"SaveTool\"},{\"attributes\":{\"active_drag\":\"auto\",\"active_inspect\":\"auto\",\"active_scroll\":\"auto\",\"active_tap\":\"auto\",\"tools\":[{\"id\":\"8c561ad0-77f9-43e0-b4d2-7038002b99a7\",\"type\":\"PanTool\"},{\"id\":\"6d03d755-0a49-43a5-91e3-b136dd07cdd5\",\"type\":\"WheelZoomTool\"},{\"id\":\"d374989f-efe7-4c4d-a395-eb9236cfcfbf\",\"type\":\"BoxZoomTool\"},{\"id\":\"60490393-a09e-4de8-987f-b94d61dc6aae\",\"type\":\"SaveTool\"},{\"id\":\"113a3dbc-f093-4270-a23c-423ac29c559d\",\"type\":\"ResetTool\"},{\"id\":\"fe6e93a4-745b-4f2b-ba20-090f78f02437\",\"type\":\"HelpTool\"}]},\"id\":\"9cfb6ab5-25c9-4472-9ce4-deba414f00d4\",\"type\":\"Toolbar\"},{\"attributes\":{},\"id\":\"50fc41bb-e9da-40bc-890d-ad466fdbe4d3\",\"type\":\"CategoricalTicker\"},{\"attributes\":{},\"id\":\"f0af892a-cafa-424e-b564-6c7b77bcddd1\",\"type\":\"ResetTool\"},{\"attributes\":{\"callback\":null,\"factors\":[\"7\"]},\"id\":\"6ee109c6-4a74-452d-8c49-20ecea3385e9\",\"type\":\"FactorRange\"},{\"attributes\":{\"below\":[{\"id\":\"47bb0cf7-a88d-442b-bc2a-e85202a41b5b\",\"type\":\"CategoricalAxis\"}],\"left\":[{\"id\":\"3623a0a0-bf9d-4f19-8335-12c2e21d14c7\",\"type\":\"LinearAxis\"}],\"plot_height\":300,\"plot_width\":300,\"renderers\":[{\"id\":\"47bb0cf7-a88d-442b-bc2a-e85202a41b5b\",\"type\":\"CategoricalAxis\"},{\"id\":\"917c83e6-92c7-4765-b281-0021f90b2810\",\"type\":\"Grid\"},{\"id\":\"3623a0a0-bf9d-4f19-8335-12c2e21d14c7\",\"type\":\"LinearAxis\"},{\"id\":\"174e39f7-43e5-4e10-bbcd-7c1a86f5b125\",\"type\":\"Grid\"},{\"id\":\"5f2e94ed-a16a-4b02-81cd-e80860cec4ee\",\"type\":\"BoxAnnotation\"},{\"id\":\"0719f0cc-5e54-4410-8d44-014f7ef32448\",\"type\":\"GlyphRenderer\"}],\"title\":{\"id\":\"35af203b-69fd-45b1-83c8-bdf81f5aeb8b\",\"type\":\"Title\"},\"toolbar\":{\"id\":\"9cfb6ab5-25c9-4472-9ce4-deba414f00d4\",\"type\":\"Toolbar\"},\"toolbar_location\":null,\"x_range\":{\"id\":\"6ee109c6-4a74-452d-8c49-20ecea3385e9\",\"type\":\"FactorRange\"},\"x_scale\":{\"id\":\"37fcef36-172b-450a-bfb3-e16a0a4136a7\",\"type\":\"CategoricalScale\"},\"y_range\":{\"id\":\"d62d9c95-283c-462e-b16e-0d3f88acbe17\",\"type\":\"DataRange1d\"},\"y_scale\":{\"id\":\"78da0158-bf27-4ae8-b17f-965015c42a09\",\"type\":\"LinearScale\"}},\"id\":\"97e0331e-52fa-4c1b-8a96-aa48c38cddab\",\"subtype\":\"Figure\",\"type\":\"Plot\"},{\"attributes\":{},\"id\":\"ffefed47-3d98-46b9-8885-cfb9da2e69b2\",\"type\":\"HelpTool\"},{\"attributes\":{\"plot\":null,\"text\":\"TOA flux. CLIRAD - CRD.\"},\"id\":\"35af203b-69fd-45b1-83c8-bdf81f5aeb8b\",\"type\":\"Title\"},{\"attributes\":{\"fill_alpha\":{\"value\":0.1},\"fill_color\":{\"value\":\"#1f77b4\"},\"line_alpha\":{\"value\":0.1},\"line_color\":{\"value\":\"#1f77b4\"},\"top\":{\"field\":\"flux\"},\"width\":{\"value\":0.9},\"x\":{\"field\":\"band\"}},\"id\":\"555a631d-80da-4d09-a506-f805400a27a6\",\"type\":\"VBar\"},{\"attributes\":{\"source\":{\"id\":\"f5677baa-9e32-440e-82c4-ca29fff7c261\",\"type\":\"ColumnDataSource\"}},\"id\":\"4dca2e98-b0f8-4b0b-837e-a5aa7418cd75\",\"type\":\"CDSView\"},{\"attributes\":{\"axis_label\":\"spectral band\",\"formatter\":{\"id\":\"564cbbd5-23b9-4202-b457-2e98d6780a9c\",\"type\":\"CategoricalTickFormatter\"},\"plot\":{\"id\":\"33b369b0-c7b0-4aca-b257-5efabd7907cd\",\"subtype\":\"Figure\",\"type\":\"Plot\"},\"ticker\":{\"id\":\"50fc41bb-e9da-40bc-890d-ad466fdbe4d3\",\"type\":\"CategoricalTicker\"}},\"id\":\"8a34de41-48ac-45c5-b644-96a0e25bf5aa\",\"type\":\"CategoricalAxis\"},{\"attributes\":{\"callback\":null},\"id\":\"d62d9c95-283c-462e-b16e-0d3f88acbe17\",\"type\":\"DataRange1d\"},{\"attributes\":{},\"id\":\"78da0158-bf27-4ae8-b17f-965015c42a09\",\"type\":\"LinearScale\"},{\"attributes\":{},\"id\":\"bea81af5-8164-438b-bbb0-ebe838a71f72\",\"type\":\"HelpTool\"},{\"attributes\":{\"plot\":{\"id\":\"97e0331e-52fa-4c1b-8a96-aa48c38cddab\",\"subtype\":\"Figure\",\"type\":\"Plot\"},\"ticker\":{\"id\":\"325568d0-1943-44d3-a501-2868f2946f75\",\"type\":\"CategoricalTicker\"}},\"id\":\"917c83e6-92c7-4765-b281-0021f90b2810\",\"type\":\"Grid\"},{\"attributes\":{},\"id\":\"f7a8dd57-9d6b-49d5-b5b0-9c28579fb318\",\"type\":\"CategoricalScale\"},{\"attributes\":{\"axis_label\":\"spectral band\",\"formatter\":{\"id\":\"18282b2c-9b26-405f-a907-13cd8574f6b4\",\"type\":\"CategoricalTickFormatter\"},\"plot\":{\"id\":\"97e0331e-52fa-4c1b-8a96-aa48c38cddab\",\"subtype\":\"Figure\",\"type\":\"Plot\"},\"ticker\":{\"id\":\"325568d0-1943-44d3-a501-2868f2946f75\",\"type\":\"CategoricalTicker\"}},\"id\":\"47bb0cf7-a88d-442b-bc2a-e85202a41b5b\",\"type\":\"CategoricalAxis\"},{\"attributes\":{},\"id\":\"34274c1a-5ae2-477a-bcaa-2d79982f06bb\",\"type\":\"UnionRenderers\"},{\"attributes\":{},\"id\":\"325568d0-1943-44d3-a501-2868f2946f75\",\"type\":\"CategoricalTicker\"},{\"attributes\":{\"fill_color\":{\"value\":\"#1f77b4\"},\"line_color\":{\"value\":\"#1f77b4\"},\"top\":{\"field\":\"flux\"},\"width\":{\"value\":0.9},\"x\":{\"field\":\"band\"}},\"id\":\"b3ae09e7-58ec-4912-944b-ef1e08130d47\",\"type\":\"VBar\"},{\"attributes\":{},\"id\":\"5d1949d4-2492-4efa-ba08-fd5ea4cfa84f\",\"type\":\"BasicTicker\"},{\"attributes\":{\"dimension\":1,\"plot\":{\"id\":\"97e0331e-52fa-4c1b-8a96-aa48c38cddab\",\"subtype\":\"Figure\",\"type\":\"Plot\"},\"ticker\":{\"id\":\"5d1949d4-2492-4efa-ba08-fd5ea4cfa84f\",\"type\":\"BasicTicker\"}},\"id\":\"174e39f7-43e5-4e10-bbcd-7c1a86f5b125\",\"type\":\"Grid\"},{\"attributes\":{},\"id\":\"851d7307-67ea-4477-9a38-85962f7d721f\",\"type\":\"UnionRenderers\"},{\"attributes\":{\"fill_alpha\":{\"value\":0.1},\"fill_color\":{\"value\":\"#1f77b4\"},\"line_alpha\":{\"value\":0.1},\"line_color\":{\"value\":\"#1f77b4\"},\"top\":{\"field\":\"flux\"},\"width\":{\"value\":0.9},\"x\":{\"field\":\"band\"}},\"id\":\"4c9d40d0-a346-469d-99fb-8ddd38cd920f\",\"type\":\"VBar\"},{\"attributes\":{\"children\":[{\"id\":\"94697743-94e7-4ccb-855f-18f0d41d65ea\",\"type\":\"Row\"}]},\"id\":\"63f586a9-d631-42a9-9006-b1f9ac38bb1f\",\"type\":\"Column\"},{\"attributes\":{},\"id\":\"753e33e7-7ece-4bf2-88cd-24dbda29e7c1\",\"type\":\"BasicTickFormatter\"},{\"attributes\":{},\"id\":\"56b4838b-4205-43f0-96bd-0d7e5901b730\",\"type\":\"BasicTickFormatter\"},{\"attributes\":{\"bottom_units\":\"screen\",\"fill_alpha\":{\"value\":0.5},\"fill_color\":{\"value\":\"lightgrey\"},\"left_units\":\"screen\",\"level\":\"overlay\",\"line_alpha\":{\"value\":1.0},\"line_color\":{\"value\":\"black\"},\"line_dash\":[4,4],\"line_width\":{\"value\":2},\"plot\":null,\"render_mode\":\"css\",\"right_units\":\"screen\",\"top_units\":\"screen\"},\"id\":\"5f2e94ed-a16a-4b02-81cd-e80860cec4ee\",\"type\":\"BoxAnnotation\"},{\"attributes\":{},\"id\":\"8c561ad0-77f9-43e0-b4d2-7038002b99a7\",\"type\":\"PanTool\"},{\"attributes\":{\"data_source\":{\"id\":\"8dd02227-8f6e-405a-86c5-27a15f601bbf\",\"type\":\"ColumnDataSource\"},\"glyph\":{\"id\":\"b3ae09e7-58ec-4912-944b-ef1e08130d47\",\"type\":\"VBar\"},\"hover_glyph\":null,\"muted_glyph\":null,\"nonselection_glyph\":{\"id\":\"4c9d40d0-a346-469d-99fb-8ddd38cd920f\",\"type\":\"VBar\"},\"selection_glyph\":null,\"view\":{\"id\":\"4dc56030-7450-4506-982c-b433f089a887\",\"type\":\"CDSView\"}},\"id\":\"0719f0cc-5e54-4410-8d44-014f7ef32448\",\"type\":\"GlyphRenderer\"},{\"attributes\":{},\"id\":\"6d03d755-0a49-43a5-91e3-b136dd07cdd5\",\"type\":\"WheelZoomTool\"},{\"attributes\":{},\"id\":\"7ab607ad-22d6-41c6-b7ad-2aa00d6bf8f5\",\"type\":\"Selection\"},{\"attributes\":{\"overlay\":{\"id\":\"5f2e94ed-a16a-4b02-81cd-e80860cec4ee\",\"type\":\"BoxAnnotation\"}},\"id\":\"d374989f-efe7-4c4d-a395-eb9236cfcfbf\",\"type\":\"BoxZoomTool\"},{\"attributes\":{},\"id\":\"cd408279-b82d-41c4-a2d5-8e2349ad04c7\",\"type\":\"CategoricalTickFormatter\"},{\"attributes\":{},\"id\":\"60490393-a09e-4de8-987f-b94d61dc6aae\",\"type\":\"SaveTool\"},{\"attributes\":{},\"id\":\"b1744e94-1992-470e-bcc5-754c017498a3\",\"type\":\"UnionRenderers\"},{\"attributes\":{},\"id\":\"113a3dbc-f093-4270-a23c-423ac29c559d\",\"type\":\"ResetTool\"},{\"attributes\":{\"children\":[{\"id\":\"d18a279d-0e54-451c-8558-ea711b3547f2\",\"type\":\"ToolbarBox\"},{\"id\":\"63f586a9-d631-42a9-9006-b1f9ac38bb1f\",\"type\":\"Column\"}]},\"id\":\"78d565be-a9bd-425a-8422-ba886c6f94ff\",\"type\":\"Column\"},{\"attributes\":{},\"id\":\"fe6e93a4-745b-4f2b-ba20-090f78f02437\",\"type\":\"HelpTool\"},{\"attributes\":{},\"id\":\"564cbbd5-23b9-4202-b457-2e98d6780a9c\",\"type\":\"CategoricalTickFormatter\"},{\"attributes\":{},\"id\":\"2319d340-8e64-4f48-918a-965454cd52ef\",\"type\":\"Selection\"},{\"attributes\":{\"source\":{\"id\":\"8dd02227-8f6e-405a-86c5-27a15f601bbf\",\"type\":\"ColumnDataSource\"}},\"id\":\"4dc56030-7450-4506-982c-b433f089a887\",\"type\":\"CDSView\"},{\"attributes\":{},\"id\":\"7bdcc8f2-0418-4202-a7fe-d20a18dc7c24\",\"type\":\"Selection\"},{\"attributes\":{\"below\":[{\"id\":\"8a34de41-48ac-45c5-b644-96a0e25bf5aa\",\"type\":\"CategoricalAxis\"}],\"left\":[{\"id\":\"05805b9a-1c76-46f7-acf7-b1f8f3c076db\",\"type\":\"LinearAxis\"}],\"plot_height\":300,\"plot_width\":300,\"renderers\":[{\"id\":\"8a34de41-48ac-45c5-b644-96a0e25bf5aa\",\"type\":\"CategoricalAxis\"},{\"id\":\"8a06fa20-91d0-41e7-a374-9eb1011a3441\",\"type\":\"Grid\"},{\"id\":\"05805b9a-1c76-46f7-acf7-b1f8f3c076db\",\"type\":\"LinearAxis\"},{\"id\":\"97d74393-43c9-40f9-8f1a-39b1e0b50cd3\",\"type\":\"Grid\"},{\"id\":\"de74c963-f87f-451e-9c44-6a150a027ecd\",\"type\":\"BoxAnnotation\"},{\"id\":\"bcf3910a-f3e2-4b55-9c55-b0443a1b4b77\",\"type\":\"GlyphRenderer\"}],\"title\":{\"id\":\"3ec52a7a-effb-4a92-be74-286971ed6104\",\"type\":\"Title\"},\"toolbar\":{\"id\":\"d8653cf6-01b7-40e0-8aea-e4e1d545ccce\",\"type\":\"Toolbar\"},\"toolbar_location\":null,\"x_range\":{\"id\":\"be5c7126-8bc4-454e-85c5-2c925d2d51f4\",\"type\":\"FactorRange\"},\"x_scale\":{\"id\":\"f7a8dd57-9d6b-49d5-b5b0-9c28579fb318\",\"type\":\"CategoricalScale\"},\"y_range\":{\"id\":\"674071a8-7e03-4eed-8b23-09ffff309ae2\",\"type\":\"DataRange1d\"},\"y_scale\":{\"id\":\"e640c469-bb8d-44e1-b9bd-61eb73c785a1\",\"type\":\"LinearScale\"}},\"id\":\"33b369b0-c7b0-4aca-b257-5efabd7907cd\",\"subtype\":\"Figure\",\"type\":\"Plot\"},{\"attributes\":{\"callback\":null,\"data\":{\"band\":[\"7\"],\"flux\":{\"__ndarray__\":\"ADuJShu12D8=\",\"dtype\":\"float64\",\"shape\":[1]}},\"selected\":{\"id\":\"7bdcc8f2-0418-4202-a7fe-d20a18dc7c24\",\"type\":\"Selection\"},\"selection_policy\":{\"id\":\"851d7307-67ea-4477-9a38-85962f7d721f\",\"type\":\"UnionRenderers\"}},\"id\":\"dc0dbe97-a190-4276-be81-721e384b1c61\",\"type\":\"ColumnDataSource\"},{\"attributes\":{\"callback\":null},\"id\":\"674071a8-7e03-4eed-8b23-09ffff309ae2\",\"type\":\"DataRange1d\"},{\"attributes\":{\"below\":[{\"id\":\"e643466e-31fd-49b2-a06a-e27b7fb81490\",\"type\":\"CategoricalAxis\"}],\"left\":[{\"id\":\"1913a366-2a8f-4ef4-9b09-0f5150cfcea1\",\"type\":\"LinearAxis\"}],\"plot_height\":300,\"plot_width\":300,\"renderers\":[{\"id\":\"e643466e-31fd-49b2-a06a-e27b7fb81490\",\"type\":\"CategoricalAxis\"},{\"id\":\"d7656936-4872-4ca2-9d4f-ad18f547ca8e\",\"type\":\"Grid\"},{\"id\":\"1913a366-2a8f-4ef4-9b09-0f5150cfcea1\",\"type\":\"LinearAxis\"},{\"id\":\"65ef6800-afb2-47a8-bbe7-8062f26f7521\",\"type\":\"Grid\"},{\"id\":\"dbbf3144-f569-4819-b5a7-2f612d32583e\",\"type\":\"BoxAnnotation\"},{\"id\":\"f83e49d1-e5e8-488a-938e-ada831f977f2\",\"type\":\"GlyphRenderer\"}],\"title\":{\"id\":\"6bdede8e-91d0-4d33-8e61-d91e6b7bccf9\",\"type\":\"Title\"},\"toolbar\":{\"id\":\"028701b2-301b-4301-ad0c-547ada56dda3\",\"type\":\"Toolbar\"},\"toolbar_location\":null,\"x_range\":{\"id\":\"ba76b508-5801-4cde-b70f-69da71f5fdb2\",\"type\":\"FactorRange\"},\"x_scale\":{\"id\":\"2562f86a-e251-45c0-a504-e4837b88eea3\",\"type\":\"CategoricalScale\"},\"y_range\":{\"id\":\"ba222bb9-bbb1-4461-a5fd-e2f2f7889418\",\"type\":\"DataRange1d\"},\"y_scale\":{\"id\":\"91eb939b-ac3e-47a6-8e74-32dcef48f2ff\",\"type\":\"LinearScale\"}},\"id\":\"0ba7e578-223c-4194-a208-a674f057cfed\",\"subtype\":\"Figure\",\"type\":\"Plot\"},{\"attributes\":{\"active_drag\":\"auto\",\"active_inspect\":\"auto\",\"active_scroll\":\"auto\",\"active_tap\":\"auto\",\"tools\":[{\"id\":\"4f6173e6-54dc-4b2d-9073-8b5c63151859\",\"type\":\"PanTool\"},{\"id\":\"ad2912f4-5143-436c-b96a-e964c1066837\",\"type\":\"WheelZoomTool\"},{\"id\":\"038ef5e4-f460-443b-9ef5-d31784a28bb0\",\"type\":\"BoxZoomTool\"},{\"id\":\"b329b59c-4ba1-4b86-a08e-7d6030ec40d4\",\"type\":\"SaveTool\"},{\"id\":\"dea72195-0a9b-4545-add4-08d874c936f7\",\"type\":\"ResetTool\"},{\"id\":\"bea81af5-8164-438b-bbb0-ebe838a71f72\",\"type\":\"HelpTool\"}]},\"id\":\"d8653cf6-01b7-40e0-8aea-e4e1d545ccce\",\"type\":\"Toolbar\"},{\"attributes\":{\"callback\":null,\"data\":{\"band\":[\"7\"],\"flux\":{\"__ndarray__\":\"gCIe5FCazz8=\",\"dtype\":\"float64\",\"shape\":[1]}},\"selected\":{\"id\":\"7ab607ad-22d6-41c6-b7ad-2aa00d6bf8f5\",\"type\":\"Selection\"},\"selection_policy\":{\"id\":\"34274c1a-5ae2-477a-bcaa-2d79982f06bb\",\"type\":\"UnionRenderers\"}},\"id\":\"8dd02227-8f6e-405a-86c5-27a15f601bbf\",\"type\":\"ColumnDataSource\"},{\"attributes\":{\"active_drag\":\"auto\",\"active_inspect\":\"auto\",\"active_scroll\":\"auto\",\"active_tap\":\"auto\",\"tools\":[{\"id\":\"24cba78a-cb65-4eb2-8d3a-c0545f260789\",\"type\":\"PanTool\"},{\"id\":\"b9a6ac59-9ea6-4b25-a90e-12f9d45f081a\",\"type\":\"WheelZoomTool\"},{\"id\":\"e7fef36b-ca22-4a67-ac80-87e4583b8513\",\"type\":\"BoxZoomTool\"},{\"id\":\"bfd79d72-c1f7-4eba-8908-898c0bee7e22\",\"type\":\"SaveTool\"},{\"id\":\"f0af892a-cafa-424e-b564-6c7b77bcddd1\",\"type\":\"ResetTool\"},{\"id\":\"ffefed47-3d98-46b9-8885-cfb9da2e69b2\",\"type\":\"HelpTool\"}]},\"id\":\"028701b2-301b-4301-ad0c-547ada56dda3\",\"type\":\"Toolbar\"},{\"attributes\":{\"callback\":null,\"factors\":[\"7\"]},\"id\":\"be5c7126-8bc4-454e-85c5-2c925d2d51f4\",\"type\":\"FactorRange\"},{\"attributes\":{\"children\":[{\"id\":\"97e0331e-52fa-4c1b-8a96-aa48c38cddab\",\"subtype\":\"Figure\",\"type\":\"Plot\"},{\"id\":\"0ba7e578-223c-4194-a208-a674f057cfed\",\"subtype\":\"Figure\",\"type\":\"Plot\"},{\"id\":\"33b369b0-c7b0-4aca-b257-5efabd7907cd\",\"subtype\":\"Figure\",\"type\":\"Plot\"}]},\"id\":\"94697743-94e7-4ccb-855f-18f0d41d65ea\",\"type\":\"Row\"}],\"root_ids\":[\"78d565be-a9bd-425a-8422-ba886c6f94ff\"]},\"title\":\"Bokeh Application\",\"version\":\"0.12.16\"}};\n",
       "  var render_items = [{\"docid\":\"3e30ad48-7125-4e47-b875-0e1e1afe7262\",\"elementid\":\"790c8710-11a5-48cd-893f-477725777753\",\"modelid\":\"78d565be-a9bd-425a-8422-ba886c6f94ff\"}];\n",
       "  root.Bokeh.embed.embed_items_notebook(docs_json, render_items);\n",
       "\n",
       "  }\n",
       "  if (root.Bokeh !== undefined) {\n",
       "    embed_document(root);\n",
       "  } else {\n",
       "    var attempts = 0;\n",
       "    var timer = setInterval(function(root) {\n",
       "      if (root.Bokeh !== undefined) {\n",
       "        embed_document(root);\n",
       "        clearInterval(timer);\n",
       "      }\n",
       "      attempts++;\n",
       "      if (attempts > 100) {\n",
       "        console.log(\"Bokeh: ERROR: Unable to run BokehJS code because BokehJS library is missing\")\n",
       "        clearInterval(timer);\n",
       "      }\n",
       "    }, 10, root)\n",
       "  }\n",
       "})(window);"
      ],
      "application/vnd.bokehjs_exec.v0+json": ""
     },
     "metadata": {
      "application/vnd.bokehjs_exec.v0+json": {
       "id": "78d565be-a9bd-425a-8422-ba886c6f94ff"
      }
     },
     "output_type": "display_data"
    },
    {
     "data": {
      "text/markdown": [
       "*FIGURE.* Difference between CLIRAD and CRD in TOA, SFC and net atmosphere flux, in each spectral band."
      ],
      "text/plain": [
       "<IPython.core.display.Markdown object>"
      ]
     },
     "metadata": {},
     "output_type": "display_data"
    },
    {
     "data": {
      "text/html": [
       "<div>\n",
       "<style scoped>\n",
       "    .dataframe tbody tr th:only-of-type {\n",
       "        vertical-align: middle;\n",
       "    }\n",
       "\n",
       "    .dataframe tbody tr th {\n",
       "        vertical-align: top;\n",
       "    }\n",
       "\n",
       "    .dataframe thead th {\n",
       "        text-align: right;\n",
       "    }\n",
       "</style>\n",
       "<table border=\"1\" class=\"dataframe\">\n",
       "  <thead>\n",
       "    <tr style=\"text-align: right;\">\n",
       "      <th></th>\n",
       "      <th>OLR flux</th>\n",
       "      <th>SFC flux</th>\n",
       "      <th>ATM heating</th>\n",
       "    </tr>\n",
       "    <tr>\n",
       "      <th>Sum over bands</th>\n",
       "      <th></th>\n",
       "      <th></th>\n",
       "      <th></th>\n",
       "    </tr>\n",
       "  </thead>\n",
       "  <tbody>\n",
       "    <tr>\n",
       "      <th>CLIRAD - CRD</th>\n",
       "      <td>0.25</td>\n",
       "      <td>-0.14</td>\n",
       "      <td>0.39</td>\n",
       "    </tr>\n",
       "    <tr>\n",
       "      <th>CRD</th>\n",
       "      <td>-27.01</td>\n",
       "      <td>3.57</td>\n",
       "      <td>4.14</td>\n",
       "    </tr>\n",
       "  </tbody>\n",
       "</table>\n",
       "</div>"
      ],
      "text/plain": [
       "                OLR flux  SFC flux  ATM heating\n",
       "Sum over bands                                 \n",
       "CLIRAD - CRD        0.25     -0.14         0.39\n",
       "CRD               -27.01      3.57         4.14"
      ]
     },
     "metadata": {},
     "output_type": "display_data"
    },
    {
     "data": {
      "text/markdown": [
       "*TABLE.* Difference between CLIRAD and CRD in TOA, SFC and net atmosphere flux, over all spectral bands. CRD's TOA, SFC and net atmosphere flux, over all spectral bands."
      ],
      "text/plain": [
       "<IPython.core.display.Markdown object>"
      ]
     },
     "metadata": {},
     "output_type": "display_data"
    }
   ],
   "source": [
    "script()"
   ]
  },
  {
   "cell_type": "markdown",
   "metadata": {},
   "source": [
    "## --"
   ]
  },
  {
   "cell_type": "code",
   "execution_count": 28,
   "metadata": {},
   "outputs": [
    {
     "data": {
      "text/html": [
       "<script>\n",
       "code_show=true; \n",
       "function code_toggle() {\n",
       " if (code_show){\n",
       " $('div.input').hide();\n",
       " } else {\n",
       " $('div.input').show();\n",
       " }\n",
       " code_show = !code_show\n",
       "} \n",
       "$( document ).ready(code_toggle);\n",
       "</script>\n",
       "<form action=\"javascript:code_toggle()\"><input type=\"submit\" value=\"Click here to toggle on/off the raw code.\"></form>"
      ],
      "text/plain": [
       "<IPython.core.display.HTML object>"
      ]
     },
     "execution_count": 28,
     "metadata": {},
     "output_type": "execute_result"
    }
   ],
   "source": [
    "display.HTML('''<script>\n",
    "code_show=true; \n",
    "function code_toggle() {\n",
    " if (code_show){\n",
    " $('div.input').hide();\n",
    " } else {\n",
    " $('div.input').show();\n",
    " }\n",
    " code_show = !code_show\n",
    "} \n",
    "$( document ).ready(code_toggle);\n",
    "</script>\n",
    "<form action=\"javascript:code_toggle()\"><input type=\"submit\" value=\"Click here to toggle on/off the raw code.\"></form>''')"
   ]
  },
  {
   "cell_type": "code",
   "execution_count": null,
   "metadata": {
    "collapsed": true
   },
   "outputs": [],
   "source": []
  }
 ],
 "metadata": {
  "kernelspec": {
   "display_name": "Python 3",
   "language": "python",
   "name": "python3"
  },
  "language_info": {
   "codemirror_mode": {
    "name": "ipython",
    "version": 3
   },
   "file_extension": ".py",
   "mimetype": "text/x-python",
   "name": "python",
   "nbconvert_exporter": "python",
   "pygments_lexer": "ipython3",
   "version": "3.6.7"
  }
 },
 "nbformat": 4,
 "nbformat_minor": 2
}
