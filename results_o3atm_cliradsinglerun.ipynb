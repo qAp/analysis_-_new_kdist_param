{
 "cells": [
  {
   "cell_type": "code",
   "execution_count": 1,
   "metadata": {
    "collapsed": true
   },
   "outputs": [],
   "source": [
    "%reload_ext autoreload\n",
    "%autoreload 2\n",
    "\n",
    "import os\n",
    "import io\n",
    "import ast\n",
    "import json\n",
    "import importlib \n",
    "import itertools\n",
    "import collections\n",
    "import pprint\n",
    "\n",
    "import pymongo\n",
    "\n",
    "from bokeh.io import output_notebook, show\n",
    "from bokeh.layouts import gridplot\n",
    "from bokeh.plotting import figure\n",
    "from bokeh.models import Range1d, Legend, ColumnDataSource, FactorRange\n",
    "from bokeh.palettes import all_palettes\n",
    "from bokeh.transform import factor_cmap\n",
    "\n",
    "import matplotlib\n",
    "import matplotlib.pyplot as plt\n",
    "import numpy as np\n",
    "import pandas as pd\n",
    "import xarray as xr\n",
    "\n",
    "from climatools.atm.absorbers import *\n",
    "\n",
    "import climatools.lblnew.bestfit_params as bestfits\n",
    "from climatools.lblnew import setup_bestfit, setup_overlap\n",
    "import climatools.lblnew.pipeline as pipe_lblnew\n",
    "\n",
    "from climatools.cliradlw.utils import *\n",
    "import climatools.cliradlw.setup as setup_cliradlw\n",
    "import climatools.cliradlw.pipeline as pipe_cliradlw\n",
    "from climatools.cliradlw.dataset import *\n",
    "\n",
    "import climatools.html.html as climahtml\n",
    "from climatools.lblnew.dataio import *\n",
    "from climatools.plot.plot import *\n",
    "\n",
    "from IPython import display"
   ]
  },
  {
   "cell_type": "code",
   "execution_count": 2,
   "metadata": {
    "scrolled": true
   },
   "outputs": [
    {
     "data": {
      "text/html": [
       "\n",
       "    <div class=\"bk-root\">\n",
       "        <a href=\"https://bokeh.pydata.org\" target=\"_blank\" class=\"bk-logo bk-logo-small bk-logo-notebook\"></a>\n",
       "        <span id=\"319c5ece-3a57-4230-afea-bd626d6cd113\">Loading BokehJS ...</span>\n",
       "    </div>"
      ]
     },
     "metadata": {},
     "output_type": "display_data"
    },
    {
     "data": {
      "application/javascript": [
       "\n",
       "(function(root) {\n",
       "  function now() {\n",
       "    return new Date();\n",
       "  }\n",
       "\n",
       "  var force = true;\n",
       "\n",
       "  if (typeof (root._bokeh_onload_callbacks) === \"undefined\" || force === true) {\n",
       "    root._bokeh_onload_callbacks = [];\n",
       "    root._bokeh_is_loading = undefined;\n",
       "  }\n",
       "\n",
       "  var JS_MIME_TYPE = 'application/javascript';\n",
       "  var HTML_MIME_TYPE = 'text/html';\n",
       "  var EXEC_MIME_TYPE = 'application/vnd.bokehjs_exec.v0+json';\n",
       "  var CLASS_NAME = 'output_bokeh rendered_html';\n",
       "\n",
       "  /**\n",
       "   * Render data to the DOM node\n",
       "   */\n",
       "  function render(props, node) {\n",
       "    var script = document.createElement(\"script\");\n",
       "    node.appendChild(script);\n",
       "  }\n",
       "\n",
       "  /**\n",
       "   * Handle when an output is cleared or removed\n",
       "   */\n",
       "  function handleClearOutput(event, handle) {\n",
       "    var cell = handle.cell;\n",
       "\n",
       "    var id = cell.output_area._bokeh_element_id;\n",
       "    var server_id = cell.output_area._bokeh_server_id;\n",
       "    // Clean up Bokeh references\n",
       "    if (id !== undefined) {\n",
       "      Bokeh.index[id].model.document.clear();\n",
       "      delete Bokeh.index[id];\n",
       "    }\n",
       "\n",
       "    if (server_id !== undefined) {\n",
       "      // Clean up Bokeh references\n",
       "      var cmd = \"from bokeh.io.state import curstate; print(curstate().uuid_to_server['\" + server_id + \"'].get_sessions()[0].document.roots[0]._id)\";\n",
       "      cell.notebook.kernel.execute(cmd, {\n",
       "        iopub: {\n",
       "          output: function(msg) {\n",
       "            var element_id = msg.content.text.trim();\n",
       "            Bokeh.index[element_id].model.document.clear();\n",
       "            delete Bokeh.index[element_id];\n",
       "          }\n",
       "        }\n",
       "      });\n",
       "      // Destroy server and session\n",
       "      var cmd = \"import bokeh.io.notebook as ion; ion.destroy_server('\" + server_id + \"')\";\n",
       "      cell.notebook.kernel.execute(cmd);\n",
       "    }\n",
       "  }\n",
       "\n",
       "  /**\n",
       "   * Handle when a new output is added\n",
       "   */\n",
       "  function handleAddOutput(event, handle) {\n",
       "    var output_area = handle.output_area;\n",
       "    var output = handle.output;\n",
       "\n",
       "    // limit handleAddOutput to display_data with EXEC_MIME_TYPE content only\n",
       "    if ((output.output_type != \"display_data\") || (!output.data.hasOwnProperty(EXEC_MIME_TYPE))) {\n",
       "      return\n",
       "    }\n",
       "\n",
       "    var toinsert = output_area.element.find(\".\" + CLASS_NAME.split(' ')[0]);\n",
       "\n",
       "    if (output.metadata[EXEC_MIME_TYPE][\"id\"] !== undefined) {\n",
       "      toinsert[toinsert.length - 1].firstChild.textContent = output.data[JS_MIME_TYPE];\n",
       "      // store reference to embed id on output_area\n",
       "      output_area._bokeh_element_id = output.metadata[EXEC_MIME_TYPE][\"id\"];\n",
       "    }\n",
       "    if (output.metadata[EXEC_MIME_TYPE][\"server_id\"] !== undefined) {\n",
       "      var bk_div = document.createElement(\"div\");\n",
       "      bk_div.innerHTML = output.data[HTML_MIME_TYPE];\n",
       "      var script_attrs = bk_div.children[0].attributes;\n",
       "      for (var i = 0; i < script_attrs.length; i++) {\n",
       "        toinsert[toinsert.length - 1].firstChild.setAttribute(script_attrs[i].name, script_attrs[i].value);\n",
       "      }\n",
       "      // store reference to server id on output_area\n",
       "      output_area._bokeh_server_id = output.metadata[EXEC_MIME_TYPE][\"server_id\"];\n",
       "    }\n",
       "  }\n",
       "\n",
       "  function register_renderer(events, OutputArea) {\n",
       "\n",
       "    function append_mime(data, metadata, element) {\n",
       "      // create a DOM node to render to\n",
       "      var toinsert = this.create_output_subarea(\n",
       "        metadata,\n",
       "        CLASS_NAME,\n",
       "        EXEC_MIME_TYPE\n",
       "      );\n",
       "      this.keyboard_manager.register_events(toinsert);\n",
       "      // Render to node\n",
       "      var props = {data: data, metadata: metadata[EXEC_MIME_TYPE]};\n",
       "      render(props, toinsert[toinsert.length - 1]);\n",
       "      element.append(toinsert);\n",
       "      return toinsert\n",
       "    }\n",
       "\n",
       "    /* Handle when an output is cleared or removed */\n",
       "    events.on('clear_output.CodeCell', handleClearOutput);\n",
       "    events.on('delete.Cell', handleClearOutput);\n",
       "\n",
       "    /* Handle when a new output is added */\n",
       "    events.on('output_added.OutputArea', handleAddOutput);\n",
       "\n",
       "    /**\n",
       "     * Register the mime type and append_mime function with output_area\n",
       "     */\n",
       "    OutputArea.prototype.register_mime_type(EXEC_MIME_TYPE, append_mime, {\n",
       "      /* Is output safe? */\n",
       "      safe: true,\n",
       "      /* Index of renderer in `output_area.display_order` */\n",
       "      index: 0\n",
       "    });\n",
       "  }\n",
       "\n",
       "  // register the mime type if in Jupyter Notebook environment and previously unregistered\n",
       "  if (root.Jupyter !== undefined) {\n",
       "    var events = require('base/js/events');\n",
       "    var OutputArea = require('notebook/js/outputarea').OutputArea;\n",
       "\n",
       "    if (OutputArea.prototype.mime_types().indexOf(EXEC_MIME_TYPE) == -1) {\n",
       "      register_renderer(events, OutputArea);\n",
       "    }\n",
       "  }\n",
       "\n",
       "  \n",
       "  if (typeof (root._bokeh_timeout) === \"undefined\" || force === true) {\n",
       "    root._bokeh_timeout = Date.now() + 5000;\n",
       "    root._bokeh_failed_load = false;\n",
       "  }\n",
       "\n",
       "  var NB_LOAD_WARNING = {'data': {'text/html':\n",
       "     \"<div style='background-color: #fdd'>\\n\"+\n",
       "     \"<p>\\n\"+\n",
       "     \"BokehJS does not appear to have successfully loaded. If loading BokehJS from CDN, this \\n\"+\n",
       "     \"may be due to a slow or bad network connection. Possible fixes:\\n\"+\n",
       "     \"</p>\\n\"+\n",
       "     \"<ul>\\n\"+\n",
       "     \"<li>re-rerun `output_notebook()` to attempt to load from CDN again, or</li>\\n\"+\n",
       "     \"<li>use INLINE resources instead, as so:</li>\\n\"+\n",
       "     \"</ul>\\n\"+\n",
       "     \"<code>\\n\"+\n",
       "     \"from bokeh.resources import INLINE\\n\"+\n",
       "     \"output_notebook(resources=INLINE)\\n\"+\n",
       "     \"</code>\\n\"+\n",
       "     \"</div>\"}};\n",
       "\n",
       "  function display_loaded() {\n",
       "    var el = document.getElementById(\"319c5ece-3a57-4230-afea-bd626d6cd113\");\n",
       "    if (el != null) {\n",
       "      el.textContent = \"BokehJS is loading...\";\n",
       "    }\n",
       "    if (root.Bokeh !== undefined) {\n",
       "      if (el != null) {\n",
       "        el.textContent = \"BokehJS \" + root.Bokeh.version + \" successfully loaded.\";\n",
       "      }\n",
       "    } else if (Date.now() < root._bokeh_timeout) {\n",
       "      setTimeout(display_loaded, 100)\n",
       "    }\n",
       "  }\n",
       "\n",
       "\n",
       "  function run_callbacks() {\n",
       "    try {\n",
       "      root._bokeh_onload_callbacks.forEach(function(callback) { callback() });\n",
       "    }\n",
       "    finally {\n",
       "      delete root._bokeh_onload_callbacks\n",
       "    }\n",
       "    console.info(\"Bokeh: all callbacks have finished\");\n",
       "  }\n",
       "\n",
       "  function load_libs(js_urls, callback) {\n",
       "    root._bokeh_onload_callbacks.push(callback);\n",
       "    if (root._bokeh_is_loading > 0) {\n",
       "      console.log(\"Bokeh: BokehJS is being loaded, scheduling callback at\", now());\n",
       "      return null;\n",
       "    }\n",
       "    if (js_urls == null || js_urls.length === 0) {\n",
       "      run_callbacks();\n",
       "      return null;\n",
       "    }\n",
       "    console.log(\"Bokeh: BokehJS not loaded, scheduling load and callback at\", now());\n",
       "    root._bokeh_is_loading = js_urls.length;\n",
       "    for (var i = 0; i < js_urls.length; i++) {\n",
       "      var url = js_urls[i];\n",
       "      var s = document.createElement('script');\n",
       "      s.src = url;\n",
       "      s.async = false;\n",
       "      s.onreadystatechange = s.onload = function() {\n",
       "        root._bokeh_is_loading--;\n",
       "        if (root._bokeh_is_loading === 0) {\n",
       "          console.log(\"Bokeh: all BokehJS libraries loaded\");\n",
       "          run_callbacks()\n",
       "        }\n",
       "      };\n",
       "      s.onerror = function() {\n",
       "        console.warn(\"failed to load library \" + url);\n",
       "      };\n",
       "      console.log(\"Bokeh: injecting script tag for BokehJS library: \", url);\n",
       "      document.getElementsByTagName(\"head\")[0].appendChild(s);\n",
       "    }\n",
       "  };var element = document.getElementById(\"319c5ece-3a57-4230-afea-bd626d6cd113\");\n",
       "  if (element == null) {\n",
       "    console.log(\"Bokeh: ERROR: autoload.js configured with elementid '319c5ece-3a57-4230-afea-bd626d6cd113' but no matching script tag was found. \")\n",
       "    return false;\n",
       "  }\n",
       "\n",
       "  var js_urls = [\"https://cdn.pydata.org/bokeh/release/bokeh-0.12.16.min.js\", \"https://cdn.pydata.org/bokeh/release/bokeh-widgets-0.12.16.min.js\", \"https://cdn.pydata.org/bokeh/release/bokeh-tables-0.12.16.min.js\", \"https://cdn.pydata.org/bokeh/release/bokeh-gl-0.12.16.min.js\"];\n",
       "\n",
       "  var inline_js = [\n",
       "    function(Bokeh) {\n",
       "      Bokeh.set_log_level(\"info\");\n",
       "    },\n",
       "    \n",
       "    function(Bokeh) {\n",
       "      \n",
       "    },\n",
       "    function(Bokeh) {\n",
       "      console.log(\"Bokeh: injecting CSS: https://cdn.pydata.org/bokeh/release/bokeh-0.12.16.min.css\");\n",
       "      Bokeh.embed.inject_css(\"https://cdn.pydata.org/bokeh/release/bokeh-0.12.16.min.css\");\n",
       "      console.log(\"Bokeh: injecting CSS: https://cdn.pydata.org/bokeh/release/bokeh-widgets-0.12.16.min.css\");\n",
       "      Bokeh.embed.inject_css(\"https://cdn.pydata.org/bokeh/release/bokeh-widgets-0.12.16.min.css\");\n",
       "      console.log(\"Bokeh: injecting CSS: https://cdn.pydata.org/bokeh/release/bokeh-tables-0.12.16.min.css\");\n",
       "      Bokeh.embed.inject_css(\"https://cdn.pydata.org/bokeh/release/bokeh-tables-0.12.16.min.css\");\n",
       "    }\n",
       "  ];\n",
       "\n",
       "  function run_inline_js() {\n",
       "    \n",
       "    if ((root.Bokeh !== undefined) || (force === true)) {\n",
       "      for (var i = 0; i < inline_js.length; i++) {\n",
       "        inline_js[i].call(root, root.Bokeh);\n",
       "      }if (force === true) {\n",
       "        display_loaded();\n",
       "      }} else if (Date.now() < root._bokeh_timeout) {\n",
       "      setTimeout(run_inline_js, 100);\n",
       "    } else if (!root._bokeh_failed_load) {\n",
       "      console.log(\"Bokeh: BokehJS failed to load within specified timeout.\");\n",
       "      root._bokeh_failed_load = true;\n",
       "    } else if (force !== true) {\n",
       "      var cell = $(document.getElementById(\"319c5ece-3a57-4230-afea-bd626d6cd113\")).parents('.cell').data().cell;\n",
       "      cell.output_area.append_execute_result(NB_LOAD_WARNING)\n",
       "    }\n",
       "\n",
       "  }\n",
       "\n",
       "  if (root._bokeh_is_loading === 0) {\n",
       "    console.log(\"Bokeh: BokehJS loaded, going straight to plotting\");\n",
       "    run_inline_js();\n",
       "  } else {\n",
       "    load_libs(js_urls, function() {\n",
       "      console.log(\"Bokeh: BokehJS plotting callback run at\", now());\n",
       "      run_inline_js();\n",
       "    });\n",
       "  }\n",
       "}(window));"
      ],
      "application/vnd.bokehjs_load.v0+json": "\n(function(root) {\n  function now() {\n    return new Date();\n  }\n\n  var force = true;\n\n  if (typeof (root._bokeh_onload_callbacks) === \"undefined\" || force === true) {\n    root._bokeh_onload_callbacks = [];\n    root._bokeh_is_loading = undefined;\n  }\n\n  \n\n  \n  if (typeof (root._bokeh_timeout) === \"undefined\" || force === true) {\n    root._bokeh_timeout = Date.now() + 5000;\n    root._bokeh_failed_load = false;\n  }\n\n  var NB_LOAD_WARNING = {'data': {'text/html':\n     \"<div style='background-color: #fdd'>\\n\"+\n     \"<p>\\n\"+\n     \"BokehJS does not appear to have successfully loaded. If loading BokehJS from CDN, this \\n\"+\n     \"may be due to a slow or bad network connection. Possible fixes:\\n\"+\n     \"</p>\\n\"+\n     \"<ul>\\n\"+\n     \"<li>re-rerun `output_notebook()` to attempt to load from CDN again, or</li>\\n\"+\n     \"<li>use INLINE resources instead, as so:</li>\\n\"+\n     \"</ul>\\n\"+\n     \"<code>\\n\"+\n     \"from bokeh.resources import INLINE\\n\"+\n     \"output_notebook(resources=INLINE)\\n\"+\n     \"</code>\\n\"+\n     \"</div>\"}};\n\n  function display_loaded() {\n    var el = document.getElementById(\"319c5ece-3a57-4230-afea-bd626d6cd113\");\n    if (el != null) {\n      el.textContent = \"BokehJS is loading...\";\n    }\n    if (root.Bokeh !== undefined) {\n      if (el != null) {\n        el.textContent = \"BokehJS \" + root.Bokeh.version + \" successfully loaded.\";\n      }\n    } else if (Date.now() < root._bokeh_timeout) {\n      setTimeout(display_loaded, 100)\n    }\n  }\n\n\n  function run_callbacks() {\n    try {\n      root._bokeh_onload_callbacks.forEach(function(callback) { callback() });\n    }\n    finally {\n      delete root._bokeh_onload_callbacks\n    }\n    console.info(\"Bokeh: all callbacks have finished\");\n  }\n\n  function load_libs(js_urls, callback) {\n    root._bokeh_onload_callbacks.push(callback);\n    if (root._bokeh_is_loading > 0) {\n      console.log(\"Bokeh: BokehJS is being loaded, scheduling callback at\", now());\n      return null;\n    }\n    if (js_urls == null || js_urls.length === 0) {\n      run_callbacks();\n      return null;\n    }\n    console.log(\"Bokeh: BokehJS not loaded, scheduling load and callback at\", now());\n    root._bokeh_is_loading = js_urls.length;\n    for (var i = 0; i < js_urls.length; i++) {\n      var url = js_urls[i];\n      var s = document.createElement('script');\n      s.src = url;\n      s.async = false;\n      s.onreadystatechange = s.onload = function() {\n        root._bokeh_is_loading--;\n        if (root._bokeh_is_loading === 0) {\n          console.log(\"Bokeh: all BokehJS libraries loaded\");\n          run_callbacks()\n        }\n      };\n      s.onerror = function() {\n        console.warn(\"failed to load library \" + url);\n      };\n      console.log(\"Bokeh: injecting script tag for BokehJS library: \", url);\n      document.getElementsByTagName(\"head\")[0].appendChild(s);\n    }\n  };var element = document.getElementById(\"319c5ece-3a57-4230-afea-bd626d6cd113\");\n  if (element == null) {\n    console.log(\"Bokeh: ERROR: autoload.js configured with elementid '319c5ece-3a57-4230-afea-bd626d6cd113' but no matching script tag was found. \")\n    return false;\n  }\n\n  var js_urls = [\"https://cdn.pydata.org/bokeh/release/bokeh-0.12.16.min.js\", \"https://cdn.pydata.org/bokeh/release/bokeh-widgets-0.12.16.min.js\", \"https://cdn.pydata.org/bokeh/release/bokeh-tables-0.12.16.min.js\", \"https://cdn.pydata.org/bokeh/release/bokeh-gl-0.12.16.min.js\"];\n\n  var inline_js = [\n    function(Bokeh) {\n      Bokeh.set_log_level(\"info\");\n    },\n    \n    function(Bokeh) {\n      \n    },\n    function(Bokeh) {\n      console.log(\"Bokeh: injecting CSS: https://cdn.pydata.org/bokeh/release/bokeh-0.12.16.min.css\");\n      Bokeh.embed.inject_css(\"https://cdn.pydata.org/bokeh/release/bokeh-0.12.16.min.css\");\n      console.log(\"Bokeh: injecting CSS: https://cdn.pydata.org/bokeh/release/bokeh-widgets-0.12.16.min.css\");\n      Bokeh.embed.inject_css(\"https://cdn.pydata.org/bokeh/release/bokeh-widgets-0.12.16.min.css\");\n      console.log(\"Bokeh: injecting CSS: https://cdn.pydata.org/bokeh/release/bokeh-tables-0.12.16.min.css\");\n      Bokeh.embed.inject_css(\"https://cdn.pydata.org/bokeh/release/bokeh-tables-0.12.16.min.css\");\n    }\n  ];\n\n  function run_inline_js() {\n    \n    if ((root.Bokeh !== undefined) || (force === true)) {\n      for (var i = 0; i < inline_js.length; i++) {\n        inline_js[i].call(root, root.Bokeh);\n      }if (force === true) {\n        display_loaded();\n      }} else if (Date.now() < root._bokeh_timeout) {\n      setTimeout(run_inline_js, 100);\n    } else if (!root._bokeh_failed_load) {\n      console.log(\"Bokeh: BokehJS failed to load within specified timeout.\");\n      root._bokeh_failed_load = true;\n    } else if (force !== true) {\n      var cell = $(document.getElementById(\"319c5ece-3a57-4230-afea-bd626d6cd113\")).parents('.cell').data().cell;\n      cell.output_area.append_execute_result(NB_LOAD_WARNING)\n    }\n\n  }\n\n  if (root._bokeh_is_loading === 0) {\n    console.log(\"Bokeh: BokehJS loaded, going straight to plotting\");\n    run_inline_js();\n  } else {\n    load_libs(js_urls, function() {\n      console.log(\"Bokeh: BokehJS plotting callback run at\", now());\n      run_inline_js();\n    });\n  }\n}(window));"
     },
     "metadata": {},
     "output_type": "display_data"
    }
   ],
   "source": [
    "output_notebook()"
   ]
  },
  {
   "cell_type": "code",
   "execution_count": 3,
   "metadata": {
    "collapsed": true
   },
   "outputs": [],
   "source": [
    "MOL = 'o3'"
   ]
  },
  {
   "cell_type": "code",
   "execution_count": 4,
   "metadata": {
    "collapsed": true
   },
   "outputs": [],
   "source": [
    "ATMPRO = dict(mls=294, saw=257, trp=300)"
   ]
  },
  {
   "cell_type": "code",
   "execution_count": 5,
   "metadata": {
    "collapsed": true
   },
   "outputs": [],
   "source": [
    "COMMITNUMBER = '1013f91'"
   ]
  },
  {
   "cell_type": "code",
   "execution_count": 6,
   "metadata": {
    "collapsed": true
   },
   "outputs": [],
   "source": [
    "client = pymongo.MongoClient('localhost', 27017)"
   ]
  },
  {
   "cell_type": "code",
   "execution_count": 7,
   "metadata": {
    "collapsed": true
   },
   "outputs": [],
   "source": [
    "def show_html(s):\n",
    "    display.display(display.HTML(s))\n",
    "\n",
    "def show_markdown(s):\n",
    "    display.display(display.Markdown(s))"
   ]
  },
  {
   "cell_type": "code",
   "execution_count": 8,
   "metadata": {
    "collapsed": true
   },
   "outputs": [],
   "source": [
    "def to_lblnewparam(param=None):\n",
    "    '''\n",
    "    Convert clirad's input parameter dictionary \n",
    "    into something like lblnew's.\n",
    "    '''\n",
    "    band = param['band'][0]\n",
    "    band = mapband_new2old()[band]\n",
    "    atmpro = param['atmpro']\n",
    "    tsfc = param['tsfc']\n",
    "    \n",
    "    p = {'band': band, \n",
    "         'atmpro': atmpro, 'tsfc': tsfc,\n",
    "         'dv': .001, 'nv': 1000}\n",
    "    \n",
    "    if len(param['molecule']) > 1: p['molecule'] = param['molecule']\n",
    "    else: \n",
    "        molecule, conc = list(param['molecule'].items())[0]\n",
    "        p['molecule'] = molecule\n",
    "        if conc == 'atmpro': p['conc'] = None\n",
    "        else: p['conc'] = conc\n",
    "    return p\n",
    "\n",
    "def make_query(param=None):\n",
    "    molecules = {'h2o', 'co2', 'o3', 'n2o', 'ch4'}\n",
    "    q = {}\n",
    "    for n, v in param.items():\n",
    "        if n == 'molecule' and type(v) == dict:\n",
    "            for mol, conc in v.items():\n",
    "                q[f'param.molecule.{mol}'] = conc\n",
    "            for mol in molecules - set(v.keys()):\n",
    "                q[f'param.molecule.{mol}'] = {'$exists': 0}\n",
    "        else:\n",
    "            q[f'param.{n}'] = v\n",
    "    return q"
   ]
  },
  {
   "cell_type": "code",
   "execution_count": 9,
   "metadata": {
    "collapsed": true
   },
   "outputs": [],
   "source": [
    "def subparam_atm_clirad(atmpro='mls'):\n",
    "    commitnumber = COMMITNUMBER\n",
    "    atm = nongreys_byband()\n",
    "    band = list(atm.keys())\n",
    "    molecule = {mol: conc for _, molconcs in atm.items() \n",
    "                for mol, conc in molconcs.items() if mol == MOL}\n",
    "    return dict(commitnumber=commitnumber,\n",
    "                band=band, molecule=molecule, \n",
    "                atmpro=atmpro, tsfc=ATMPRO[atmpro])\n",
    "\n",
    "def clirad_data_atm(params_atm=None):\n",
    "    for p in params_atm:\n",
    "        q = make_query(p)\n",
    "        r = client.cliradnew.lw.find_one(q)\n",
    "        fluxs, cools = [], []\n",
    "        if not r: print('No data found for', p['molecule'], p['band'])\n",
    "        else: \n",
    "            fluxs.append(load_output_file(io.StringIO(r['output_flux'])))\n",
    "            cools.append(load_output_file(io.StringIO(r['output_coolr'])))\n",
    "    return dict(flux=sum(fluxs), cool=sum(cools))"
   ]
  },
  {
   "cell_type": "code",
   "execution_count": 10,
   "metadata": {
    "collapsed": true,
    "scrolled": false
   },
   "outputs": [],
   "source": [
    "def load_lblnew_data(r):\n",
    "    '''\n",
    "    Loads a lblnew-bestfit mongodb document's fluxes and cooling rates.\n",
    "    '''\n",
    "    if 'ng_refs' in r['param']:\n",
    "        ns = {'ds_flux_crd': 'output_flux',\n",
    "              'ds_cool_crd': 'output_coolr',\n",
    "              'ds_flux_wgt': 'output_wfluxg',\n",
    "              'ds_cool_wgt': 'output_wcoolrg'}\n",
    "    else:\n",
    "        ns = {'ds_flux_crd': 'output_flux',\n",
    "              'ds_cool_crd': 'output_coolr',\n",
    "              'ds_flux_wgt': 'output_wflux',\n",
    "              'ds_cool_wgt': 'output_wcoolr'}\n",
    "    return {n: load_output_file(io.StringIO(r[s])) for n, s in ns.items()}\n",
    "\n",
    "def subparams_atm_lblnew(atmpro='mls'):\n",
    "    '''\n",
    "    Returns the list of {band, conc, molecule} dictionaries that\n",
    "    represent the model atmosphere.\n",
    "    '''  \n",
    "    atm = nongreys_byband()\n",
    "    subparams_clirad = [dict(band=[band], \n",
    "                             molecule={mol: conc for mol, conc in molconc.items() if mol == MOL},\n",
    "                             atmpro=atmpro, tsfc=ATMPRO[atmpro]) \n",
    "                        for band, molconc in atm.items() if MOL in molconc]\n",
    "    return [to_lblnewparam(p) for p in subparams_clirad]\n",
    "\n",
    "def crd_data_atm(params_atm=None):\n",
    "    '''\n",
    "    Returns Dataset containing CRD fluxes and cooling rates at\n",
    "    different pressures and spectral bands.\n",
    "    '''\n",
    "    results_atm = {}\n",
    "    for p in params_atm:\n",
    "        if isinstance(p['molecule'], dict): \n",
    "            collection = client.lblnew.overlap_lw\n",
    "        else: \n",
    "            collection = client.lblnew.bestfit_lw\n",
    "        \n",
    "        q = make_query(p)\n",
    "        r = collection.find_one(q)\n",
    "        if not r: print('No data found for', p['molecule'], p['band'])\n",
    "        else: results_atm[r['param']['band']] = load_lblnew_data(r)\n",
    "\n",
    "    bands = [mapband_old2new()[b] for b, _ in results_atm.items()]\n",
    "    fluxs = [d['ds_flux_crd'] for _, d in results_atm.items()]\n",
    "    cools = [d['ds_cool_crd'] for _, d in results_atm.items()]\n",
    "    \n",
    "    d = {}\n",
    "    d['flux'] = xr.concat(fluxs, dim=bands).rename({'concat_dim': 'band'})\n",
    "    d['cool'] = xr.concat(cools, dim=bands).rename({'concat_dim': 'band'})\n",
    "    return d"
   ]
  },
  {
   "cell_type": "code",
   "execution_count": 11,
   "metadata": {
    "collapsed": true
   },
   "outputs": [],
   "source": [
    "import rtmtools.clirad.sw.wrangle as cliradwrangle\n",
    "\n",
    "def oldclirad_data_atm():\n",
    "    '''\n",
    "    Load the OLD clirad's results. mls only.\n",
    "    '''\n",
    "    fpath = os.path.join('/chia_cluster/home/jackyu/radiation',\n",
    "                         'clirad-lw',\n",
    "                         'LW',\n",
    "                         'examples',\n",
    "                         'mls75_h2o_atmpro_co2_.0004_o3_atmpro_n2o_3.2e-7_ch4_1.8e-6_H2012',\n",
    "                         'OUTPUT_CLIRAD.dat')\n",
    "    \n",
    "    ds = cliradwrangle.load_OUTPUT_CLIRAD(readfrom=fpath)\n",
    "    \n",
    "    ds_cool = xr.Dataset()\n",
    "    ds_cool.coords['pressure'] = ('pressure', ds['layer_pressure'])\n",
    "    ds_cool.coords['band'] = ('band', ds['spectral_band'])\n",
    "    ds_cool['coolrg'] = (('band', 'pressure'), - ds['heating_rate'])\n",
    "    \n",
    "    ds_flux = xr.Dataset()\n",
    "    ds_flux.coords['pressure'] = ('pressure', ds['level_pressure'])\n",
    "    ds_flux.coords['band'] = ('band', ds['spectral_band'])\n",
    "    ds_flux['flug'] = (('band', 'pressure'), ds['flux_up'])\n",
    "    ds_flux['fldg'] = (('band', 'pressure'), ds['flux_down'])\n",
    "    ds_flux['fnetg'] = (('band', 'pressure'), ds['net_flux'])\n",
    "    \n",
    "    \n",
    "    d = {}\n",
    "    d['cool'] = ds_cool\n",
    "    d['flux'] = ds_flux\n",
    "    return d"
   ]
  },
  {
   "cell_type": "code",
   "execution_count": 12,
   "metadata": {
    "collapsed": true
   },
   "outputs": [],
   "source": [
    "def show_makeup():\n",
    "    df = pd.DataFrame()\n",
    "\n",
    "    for band, molecule in nongreys_byband().items():\n",
    "        for name, conc in molecule.items():\n",
    "            if name == MOL:\n",
    "                df.loc[name, band] = str(conc)\n",
    "\n",
    "    df = df.fillna(0)\n",
    "    df.columns.name = 'clirad band'\n",
    "    df.index.name = 'molecule'\n",
    "    \n",
    "    display.display(df)\n",
    "    \n",
    "    display.display(\n",
    "        display.Markdown('*TABLE.* Non-grey absorbers in the atmosphere.'))\n",
    "\n",
    "\n",
    "def show_grey_makeup():\n",
    "    df = pd.DataFrame()\n",
    "    \n",
    "    for band, molecule in greyabsorbers_by_band_atm().items():\n",
    "        if molecule == None:\n",
    "            pass\n",
    "        else:\n",
    "            for name, conc in molecule.items():\n",
    "                df.loc[name, band] = str(conc)\n",
    "                \n",
    "    df = df.fillna(0)\n",
    "    df.columns.name = 'clirad band'\n",
    "    df.index.name = 'absorber'\n",
    "    \n",
    "    display.display(df)\n",
    "    display.display(\n",
    "        display.Markdown('*TABLE.* Grey absorbers in the atmosphere.')\n",
    "    )"
   ]
  },
  {
   "cell_type": "code",
   "execution_count": 13,
   "metadata": {
    "collapsed": true
   },
   "outputs": [],
   "source": [
    "def fmt_cool(ds_in):\n",
    "    ds = ds_in.copy(deep=True)\n",
    "    dims = ['igg', 'g', 'i']\n",
    "    for dim in dims:\n",
    "        if dim in ds:\n",
    "            if ds[dim].shape == (1,): ds = ds.squeeze(dim).drop(dim)\n",
    "            elif ds[dim].shape == (): ds = ds.drop(dim)\n",
    "    if 'band' in ds.dims:\n",
    "        try:\n",
    "            ds = ds.squeeze('band')\n",
    "        except ValueError:\n",
    "            ds = ds.sum('band')     \n",
    "    return ds['coolrg']\n",
    "\n",
    "def nice_xlims(pltdata=None, prange=None):\n",
    "    \n",
    "    def get_slice(srs):\n",
    "        return srs.sel(pressure=slice(*prange))\n",
    "    \n",
    "    srss = [d['srs'] for d in pltdata]\n",
    "    vmin = min([get_slice(srs).min() for srs in srss])\n",
    "    vmax = max([get_slice(srs).max() for srs in srss])\n",
    "    dv = (vmax - vmin) * .01\n",
    "    return float(vmin - dv), float(vmax + dv)\n",
    " \n",
    "def plt_cool_bokeh(pltdata=None, \n",
    "                   y_axis_type='linear', prange=(50, 1050)):\n",
    "    \n",
    "    ymin = 1e-2 \n",
    "    ymax = 1020\n",
    "    \n",
    "    p2 = figure(y_axis_type=y_axis_type, plot_width=300)\n",
    "    xmin, xmax = nice_xlims(pltdata, prange=prange)\n",
    "    \n",
    "    rs = []\n",
    "    for d in pltdata:\n",
    "        rd = []\n",
    "        if 'marker' in d:\n",
    "            r_mark = getattr(p2, d['marker'])(d['srs'].values, \n",
    "                        d['srs'].coords['pressure'].values,\n",
    "                        color=d['color'], alpha=.7)\n",
    "            rd.append(r_mark)\n",
    "        r_line = p2.line(d['srs'].values, \n",
    "                         d['srs'].coords['pressure'].values,\n",
    "                         color=d['color'], alpha=d['alpha'], \n",
    "                         line_width=d['line_width'], \n",
    "                         line_dash=d['line_dash'])\n",
    "        rd.append(r_line)\n",
    "      \n",
    "        rs.append(rd)\n",
    "        \n",
    "    p2.y_range = Range1d(ymax, ymin)  \n",
    "    p2.yaxis.axis_label = 'pressure [mb]'\n",
    "    \n",
    "    p2.x_range = Range1d(xmin, xmax)\n",
    "    p2.xaxis.axis_label = 'cooling rate [K/day]'\n",
    "    \n",
    "    items = [(d['label'], r) for r, d in zip(rs, pltdata)]\n",
    "    legend = Legend(items=items, location=(10, 0))\n",
    "    legend.label_text_font_size = '8pt'\n",
    "    p2.add_layout(legend, 'above')\n",
    "    p2.legend.orientation = 'horizontal'\n",
    "    p2.legend.location = 'top_center'\n",
    "    \n",
    "    return p2"
   ]
  },
  {
   "cell_type": "code",
   "execution_count": 14,
   "metadata": {
    "collapsed": true,
    "scrolled": false
   },
   "outputs": [],
   "source": [
    "def pltdata_cool(atmpro='mls'):\n",
    "    ds_clirad = clirad_data_atm(params_atm=[subparam_atm_clirad(atmpro=atmpro)])['cool']\n",
    "    ds_crd = crd_data_atm(params_atm=subparams_atm_lblnew(atmpro=atmpro))['cool']\n",
    "\n",
    "    colors = all_palettes['Set1'][4]\n",
    "    \n",
    "    data = [\n",
    "        {'label': 'CLIRAD',\n",
    "         'srs': fmt_cool(ds_clirad),\n",
    "         'line_dash': 'dashed', 'line_width': 5,\n",
    "         'color': colors[0], 'alpha': .6},\n",
    "        {'label': 'CRD',\n",
    "         'srs': fmt_cool(ds_crd),\n",
    "         'line_dash': 'solid', 'line_width': 1.5,\n",
    "         'marker': 'circle', 'marker_size': 5,\n",
    "         'color': colors[2], 'alpha': 1}\n",
    "    ]\n",
    "    \n",
    "    # include old CLIRAD's results for mls profile\n",
    "#    if atmpro == 'mls':\n",
    "#        d_oldclirad = oldclirad_data_atm()\n",
    "#        ds_oldclirad = d_oldclirad['cool']        \n",
    "#        data.append(\n",
    "#            {'label': 'old CLIRAD (H2012)',\n",
    "#             'srs': fmt_cool(ds_oldclirad),\n",
    "#             'line_dash': 'solid', 'line_width': 1.5,\n",
    "#             'marker': 'square', 'marker_size': 3,\n",
    "#             'color': colors[3], 'alpha': .5})\n",
    "    return data\n",
    "\n",
    "\n",
    "def pltdata_cooldiff(atmpro='mls'):\n",
    "    ds_clirad = clirad_data_atm(params_atm=[subparam_atm_clirad(atmpro=atmpro)])['cool']\n",
    "    ds_crd = crd_data_atm(params_atm=subparams_atm_lblnew(atmpro=atmpro))['cool']    \n",
    "    \n",
    "    ds_diff = ds_clirad - ds_crd\n",
    "    \n",
    "    colors = all_palettes['Set1'][4]\n",
    "    \n",
    "    data = [\n",
    "        {'label': 'CLIRAD - CRD',\n",
    "         'srs': fmt_cool(ds_diff),\n",
    "         'line_dash': 'solid', 'line_width': 1.5, \n",
    "         'marker': 'circle', 'marker_size': 7,\n",
    "         'color': colors[3], 'alpha': .8}\n",
    "    ]\n",
    "    \n",
    "    # include old CLIRAD's results for mls profile\n",
    "#    if atmpro == 'mls':\n",
    "#        d_oldclirad = oldclirad_data_atm()\n",
    "#        ds_oldclirad = d_oldclirad['cool']\n",
    "#        ds_oldclirad.coords['pressure'] = ds_crd.coords['pressure']\n",
    "#        ds_diff_old = ds_oldclirad.sum('band') - ds_crd.sum('band')\n",
    "#        data.append(\n",
    "#            {'label': 'old CLIRAD (H2012) - CRD',\n",
    "#             'srs': fmt_cool(ds_diff_old),\n",
    "#             'line_dash': 'dashed', 'line_width': 4,\n",
    "#             'color': colors[1], 'alpha': .5}\n",
    "#        )\n",
    "    return data\n",
    "\n",
    "\n",
    "def show_cool(atmpro='mls'):\n",
    "    data_cool = pltdata_cool(atmpro=atmpro)\n",
    "    p_cool_liny = plt_cool_bokeh(pltdata=data_cool)\n",
    "    p_cool_logy = plt_cool_bokeh(pltdata=data_cool, \n",
    "                                 y_axis_type='log',\n",
    "                                 prange=(.01, 200))\n",
    "    \n",
    "    data_cooldiff = pltdata_cooldiff(atmpro=atmpro)\n",
    "    p_cooldiff_logy = plt_cool_bokeh(pltdata=data_cooldiff,\n",
    "                                     y_axis_type='log',\n",
    "                                     prange=(.01, 200))\n",
    "    \n",
    "    everything = gridplot(p_cool_liny, p_cool_logy, \n",
    "                          p_cooldiff_logy,\n",
    "                          ncols=3)\n",
    "    show(everything)\n",
    "    display.display(\n",
    "        display.Markdown('*FIGURE.* Cooling rates & difference.'))\n",
    "    "
   ]
  },
  {
   "cell_type": "code",
   "execution_count": 15,
   "metadata": {
    "collapsed": true,
    "scrolled": false
   },
   "outputs": [],
   "source": [
    "def fmt_flux(ds_in):\n",
    "    ds = ds_in.copy(deep=True)\n",
    "    for dim in ['band', 'g']:\n",
    "        if dim in ds: ds = ds.sum(dim)\n",
    "        \n",
    "    for dim in ['i', 'igg', 'g']:\n",
    "        if dim in ds:\n",
    "            if ds[dim].shape == (1,): ds = ds.squeeze(dim).drop(dim)\n",
    "            elif ds[dim].shape == (): ds = ds.drop(dim)\n",
    "    return ds\n",
    "\n",
    "def hist_band_vs_flux(da, title='Title'):\n",
    "    da = da.sel(i=1)\n",
    "    bands = [str(b.values) for b in da['band']]\n",
    "    source = ColumnDataSource(data={'band': bands, 'flux': da.values})\n",
    "    p = figure(x_range=bands, title=title)\n",
    "    p.vbar(source=source, x='band', top='flux', width=.9)\n",
    "    p.yaxis.axis_label = 'flux (W m-2)'\n",
    "    p.xaxis.axis_label = 'spectral band'\n",
    "    return p\n",
    "\n",
    "def show_hist_flux(atmpro='mls'):\n",
    "    ds_crd = crd_data_atm(params_atm=subparams_atm_lblnew(atmpro=atmpro))['flux']\n",
    "    ds_clirad = clirad_data_atm(params_atm=[subparam_atm_clirad(atmpro=atmpro)])['flux']\n",
    "    \n",
    "    ip, varname = 0, 'flug'\n",
    "    da = (ds_clirad - ds_crd).isel(pressure=ip)[varname]\n",
    "    p_toa = hist_band_vs_flux(da, title='TOA flux. CLIRAD - CRD.')\n",
    "\n",
    "    ip, varname = -1, 'fldg'\n",
    "    da = (ds_clirad - ds_crd).isel(pressure=ip)[varname]\n",
    "    p_sfc = hist_band_vs_flux(da, title='SFC flux. CLIRAD - CRD.')    \n",
    "    \n",
    "    atm_crd = (ds_crd.isel(pressure=0) - ds_crd.isel(pressure=-1))['fnetg']\n",
    "    atm_clirad = (ds_clirad.isel(pressure=0) - ds_clirad.isel(pressure=-1))['fnetg']\n",
    "    da = atm_clirad - atm_crd\n",
    "    p_atm = hist_band_vs_flux(da, title='Atmosphere heating. CLIRAD - CRD.')\n",
    "\n",
    "    everything = gridplot(p_toa, p_sfc, p_atm, ncols=3, plot_width=300, plot_height=300)\n",
    "    \n",
    "    show(everything)\n",
    "    display.display(\n",
    "        display.Markdown('*FIGURE.* Difference between CLIRAD and CRD'\n",
    "          ' in TOA, SFC and net atmosphere flux,'\n",
    "          ' in each spectral band.'))\n",
    "\n",
    "def show_tb_flux(atmpro='mls'):\n",
    "    \n",
    "    def fmt(da_in):\n",
    "        da = da_in.copy(deep=True)\n",
    "        if 'igg' in da.dims:\n",
    "            da = da.sel(igg=1)\n",
    "            \n",
    "        if 'g' in da.dims:\n",
    "            da = da.sum('g')\n",
    "        \n",
    "        if 'band' in da.dims:\n",
    "            try:\n",
    "                da = da.squeeze('band')\n",
    "            except ValueError:\n",
    "                da = da.sum('band')\n",
    "                \n",
    "        return da\n",
    "    \n",
    "    ds_crd = crd_data_atm(params_atm=subparams_atm_lblnew(atmpro=atmpro))['flux']\n",
    "    olr_crd = ds_crd['flug'].isel(pressure=0)\n",
    "    sfc_crd = ds_crd['fldg'].isel(pressure=-1)\n",
    "    atm_crd = (ds_crd.isel(pressure=0) - ds_crd.isel(pressure=-1))['fnetg']\n",
    "    \n",
    "    ds_clirad = clirad_data_atm(params_atm=[subparam_atm_clirad(atmpro=atmpro)])['flux']\n",
    "    olr_clirad = ds_clirad['flug'].isel(pressure=0)\n",
    "    sfc_clirad = ds_clirad['fldg'].isel(pressure=-1)\n",
    "    atm_clirad = (ds_clirad.isel(pressure=0) - ds_clirad.isel(pressure=-1))['fnetg']\n",
    "    \n",
    "#    if atmpro == 'mls':\n",
    "#        ds_oldclirad = oldclirad_data_atm()['flux']\n",
    "#        ds_oldclirad['pressure'] = ds_crd['pressure']\n",
    "#        olr_oldclirad = ds_oldclirad['flug'].isel(pressure=0)\n",
    "#        sfc_oldclirad = ds_oldclirad['fldg'].isel(pressure=-1)\n",
    "#        atm_oldclirad = (ds_oldclirad.isel(pressure=0)\n",
    "#                         - ds_oldclirad.isel(pressure=-1))['fnetg']\n",
    "        \n",
    "    df = pd.DataFrame()\n",
    "    df.index.name = 'Sum over bands'\n",
    "    \n",
    "#    if atmpro == 'mls':\n",
    "#        df.loc['old CLIRAD - CRD', 'OLR flux'] = (fmt(olr_oldclirad) - fmt(olr_crd)).values\n",
    "#        df.loc['old CLIRAD - CRD', 'SFC flux'] = (fmt(sfc_oldclirad) - fmt(sfc_crd)).values\n",
    "#        df.loc['old CLIRAD - CRD', 'ATM heating'] = (fmt(atm_oldclirad) - fmt(atm_crd)).values\n",
    "    \n",
    "    df.loc['CLIRAD - CRD', 'OLR flux'] = (fmt(olr_clirad) - fmt(olr_crd)).values\n",
    "    df.loc['CLIRAD - CRD', 'SFC flux'] = (fmt(sfc_clirad) - fmt(sfc_crd)).values\n",
    "    df.loc['CLIRAD - CRD', 'ATM heating'] = (fmt(atm_clirad) - fmt(atm_crd)).values\n",
    "\n",
    "    df.loc['CRD', 'OLR flux'] = fmt(olr_crd).values\n",
    "    df.loc['CRD', 'SFC flux'] = fmt(sfc_crd).values\n",
    "    df.loc['CRD', 'ATM heating'] = fmt(atm_crd).values\n",
    "        \n",
    "    df = df.astype('float').round(2)\n",
    "    \n",
    "    display.display(df)\n",
    "    display.display(\n",
    "        display.Markdown('*TABLE.* Difference between CLIRAD and CRD'\n",
    "          ' in TOA, SFC and net atmosphere flux,'\n",
    "          ' over all spectral bands. CRD\\'s'\n",
    "          ' TOA, SFC and net atmosphere flux,'\n",
    "          ' over all spectral bands.'))"
   ]
  },
  {
   "cell_type": "code",
   "execution_count": 16,
   "metadata": {
    "collapsed": true,
    "scrolled": true
   },
   "outputs": [],
   "source": [
    "def cool_tofile(atmpro=None):\n",
    "    dcli = clirad_data_atm(params_atm=[subparam_atm_clirad(atmpro=atmpro)])\n",
    "    dcrd = crd_data_atm(params_atm=subparams_atm_lblnew(atmpro=atmpro))\n",
    "    \n",
    "    dcli = dcli['cool'].sel(i=1).drop('i').sum('band')\n",
    "    dcrd = dcrd['cool'].sum('band')\n",
    "    \n",
    "    dcli = dcli['coolrg'].to_dataframe()\n",
    "    dcrd = dcrd['coolrg'].to_dataframe()\n",
    "    \n",
    "    dcli = dcli.set_index('layer', append=True)\n",
    "    dcrd = dcrd.set_index('layer', append=True)\n",
    "    \n",
    "    ddif = dcli - dcrd\n",
    "    \n",
    "    df = pd.concat([dcrd, dcli, ddif], axis=1, keys=['CRD', 'CLIRAD', 'CLIRAD - CRD'])\n",
    "    return df\n",
    "\n",
    "\n",
    "def flux_tofile(atmpro=None):\n",
    "    tropopauses = {'mls': 40, 'saw': 45, 'trp': 37}\n",
    "    ilevels = [0, tropopauses[atmpro], -1]\n",
    "    \n",
    "    dcli = clirad_data_atm(params_atm=[subparam_atm_clirad(atmpro=atmpro)])\n",
    "    dcrd = crd_data_atm(params_atm=subparams_atm_lblnew(atmpro=atmpro))\n",
    "    \n",
    "    dcli = dcli['flux'].sel(i=1).drop('i').sum('band').isel(pressure=ilevels)\n",
    "    dcrd = dcrd['flux'].sum('band').isel(pressure=ilevels)\n",
    "    \n",
    "    dcli = dcli.to_dataframe()\n",
    "    dcrd = dcrd.to_dataframe()\n",
    "    \n",
    "    dcli = dcli.set_index('level', append=True)\n",
    "    dcrd = dcrd.set_index('level', append=True)\n",
    "    \n",
    "    ddif = dcli - dcrd\n",
    "    \n",
    "    df = pd.concat([dcrd, dcli, ddif], axis=1, keys=['CRD', 'CLIRAD', 'CLIRAD - CRD'])\n",
    "    return df\n",
    "\n",
    "\n",
    "def script_tofile():\n",
    "    fname = f'results_{MOL}atm_cliradsinglerun-Copy2.xlsx'\n",
    "    writer = pd.ExcelWriter(fname)\n",
    "    for atmpro in ('mls', 'saw', 'trp'):\n",
    "        dflux = flux_tofile(atmpro=atmpro)\n",
    "        dflux.to_excel(writer, f'flux {atmpro}')\n",
    "        \n",
    "        dcool = cool_tofile(atmpro=atmpro)\n",
    "        dcool.to_excel(writer, f'cool {atmpro}')\n",
    "        \n",
    "    html = f'Download: <a href=\"./{fname}\">{fname}</a>'\n",
    "    show_html(html)\n",
    "\n",
    "        "
   ]
  },
  {
   "cell_type": "code",
   "execution_count": 17,
   "metadata": {
    "scrolled": false
   },
   "outputs": [
    {
     "data": {
      "text/markdown": [
       "## Results over entire range of molecules and spectral bands"
      ],
      "text/plain": [
       "<IPython.core.display.Markdown object>"
      ]
     },
     "metadata": {},
     "output_type": "display_data"
    },
    {
     "data": {
      "text/markdown": [
       "### Table of Contents"
      ],
      "text/plain": [
       "<IPython.core.display.Markdown object>"
      ]
     },
     "metadata": {},
     "output_type": "display_data"
    },
    {
     "data": {
      "text/html": [
       "<a href=\"#Makeup_of_atmosphere.\">Makeup of atmosphere.</a>"
      ],
      "text/plain": [
       "<IPython.core.display.HTML object>"
      ]
     },
     "metadata": {},
     "output_type": "display_data"
    },
    {
     "data": {
      "text/markdown": [
       "**mid-latitude summer**"
      ],
      "text/plain": [
       "<IPython.core.display.Markdown object>"
      ]
     },
     "metadata": {},
     "output_type": "display_data"
    },
    {
     "data": {
      "text/html": [
       "<a href=\"#Cooling_rates._mls.\">Cooling rates. mls.</a>"
      ],
      "text/plain": [
       "<IPython.core.display.HTML object>"
      ]
     },
     "metadata": {},
     "output_type": "display_data"
    },
    {
     "data": {
      "text/html": [
       "<a href=\"#Fluxes._mls.\">Fluxes. mls.</a>"
      ],
      "text/plain": [
       "<IPython.core.display.HTML object>"
      ]
     },
     "metadata": {},
     "output_type": "display_data"
    },
    {
     "data": {
      "text/markdown": [
       "**sub-arctic winter**"
      ],
      "text/plain": [
       "<IPython.core.display.Markdown object>"
      ]
     },
     "metadata": {},
     "output_type": "display_data"
    },
    {
     "data": {
      "text/html": [
       "<a href=\"#Cooling_rates._saw.\">Cooling rates. saw.</a>"
      ],
      "text/plain": [
       "<IPython.core.display.HTML object>"
      ]
     },
     "metadata": {},
     "output_type": "display_data"
    },
    {
     "data": {
      "text/html": [
       "<a href=\"#Fluxes._saw.\">Fluxes. saw.</a>"
      ],
      "text/plain": [
       "<IPython.core.display.HTML object>"
      ]
     },
     "metadata": {},
     "output_type": "display_data"
    },
    {
     "data": {
      "text/markdown": [
       "**tropical**"
      ],
      "text/plain": [
       "<IPython.core.display.Markdown object>"
      ]
     },
     "metadata": {},
     "output_type": "display_data"
    },
    {
     "data": {
      "text/html": [
       "<a href=\"#Cooling_rates._trp.\">Cooling rates. trp.</a>"
      ],
      "text/plain": [
       "<IPython.core.display.HTML object>"
      ]
     },
     "metadata": {},
     "output_type": "display_data"
    },
    {
     "data": {
      "text/html": [
       "<a href=\"#Fluxes._trp.\">Fluxes. trp.</a>"
      ],
      "text/plain": [
       "<IPython.core.display.HTML object>"
      ]
     },
     "metadata": {},
     "output_type": "display_data"
    },
    {
     "data": {
      "text/html": [
       "<a id=\"Makeup_of_atmosphere.\"></a>"
      ],
      "text/plain": [
       "<IPython.core.display.HTML object>"
      ]
     },
     "metadata": {},
     "output_type": "display_data"
    },
    {
     "data": {
      "text/markdown": [
       "# Makeup of atmosphere."
      ],
      "text/plain": [
       "<IPython.core.display.Markdown object>"
      ]
     },
     "metadata": {},
     "output_type": "display_data"
    },
    {
     "data": {
      "text/html": [
       "<div>\n",
       "<style scoped>\n",
       "    .dataframe tbody tr th:only-of-type {\n",
       "        vertical-align: middle;\n",
       "    }\n",
       "\n",
       "    .dataframe tbody tr th {\n",
       "        vertical-align: top;\n",
       "    }\n",
       "\n",
       "    .dataframe thead th {\n",
       "        text-align: right;\n",
       "    }\n",
       "</style>\n",
       "<table border=\"1\" class=\"dataframe\">\n",
       "  <thead>\n",
       "    <tr style=\"text-align: right;\">\n",
       "      <th>clirad band</th>\n",
       "      <th>7</th>\n",
       "    </tr>\n",
       "    <tr>\n",
       "      <th>molecule</th>\n",
       "      <th></th>\n",
       "    </tr>\n",
       "  </thead>\n",
       "  <tbody>\n",
       "    <tr>\n",
       "      <th>o3</th>\n",
       "      <td>atmpro</td>\n",
       "    </tr>\n",
       "  </tbody>\n",
       "</table>\n",
       "</div>"
      ],
      "text/plain": [
       "clirad band       7\n",
       "molecule           \n",
       "o3           atmpro"
      ]
     },
     "metadata": {},
     "output_type": "display_data"
    },
    {
     "data": {
      "text/markdown": [
       "*TABLE.* Non-grey absorbers in the atmosphere."
      ],
      "text/plain": [
       "<IPython.core.display.Markdown object>"
      ]
     },
     "metadata": {},
     "output_type": "display_data"
    },
    {
     "data": {
      "text/html": [
       "<a id=\"Cooling_rates._mls.\"></a>"
      ],
      "text/plain": [
       "<IPython.core.display.HTML object>"
      ]
     },
     "metadata": {},
     "output_type": "display_data"
    },
    {
     "data": {
      "text/markdown": [
       "# Cooling rates. mls."
      ],
      "text/plain": [
       "<IPython.core.display.Markdown object>"
      ]
     },
     "metadata": {},
     "output_type": "display_data"
    },
    {
     "data": {
      "text/html": [
       "\n",
       "<div class=\"bk-root\">\n",
       "    <div class=\"bk-plotdiv\" id=\"a6cb0459-79be-4deb-9db2-e69e569295a9\"></div>\n",
       "</div>"
      ]
     },
     "metadata": {},
     "output_type": "display_data"
    },
    {
     "data": {
      "application/javascript": [
       "(function(root) {\n",
       "  function embed_document(root) {\n",
       "    \n",
       "  var docs_json = {\"266d58c9-4263-4828-9e7d-78f25cbf188e\":{\"roots\":{\"references\":[{\"attributes\":{\"axis_label\":\"pressure [mb]\",\"formatter\":{\"id\":\"bc4918f0-8f2c-409a-ba2f-bb753b507500\",\"type\":\"LogTickFormatter\"},\"plot\":{\"id\":\"15922ba3-d54b-4549-8d78-459a7b64d1d9\",\"subtype\":\"Figure\",\"type\":\"Plot\"},\"ticker\":{\"id\":\"aea873fb-49f7-47cf-8e26-89af986ba0f9\",\"type\":\"LogTicker\"}},\"id\":\"c4683729-5ace-4ab0-8fd6-c31b29af3450\",\"type\":\"LogAxis\"},{\"attributes\":{\"data_source\":{\"id\":\"3b306f4d-ae25-4d38-b4de-3fdb0e2efdce\",\"type\":\"ColumnDataSource\"},\"glyph\":{\"id\":\"df92f4cb-61b3-48c3-a81a-0f4ee2c90d5a\",\"type\":\"Line\"},\"hover_glyph\":null,\"muted_glyph\":null,\"nonselection_glyph\":{\"id\":\"f3eff3e5-86a7-4f3c-9784-6fe330ec5009\",\"type\":\"Line\"},\"selection_glyph\":null,\"view\":{\"id\":\"7001add9-dc5b-41bb-93ad-60adbcb28903\",\"type\":\"CDSView\"}},\"id\":\"f3e4792e-9aa6-4449-909a-8d760b190ed8\",\"type\":\"GlyphRenderer\"},{\"attributes\":{\"fill_alpha\":{\"value\":0.7},\"fill_color\":{\"value\":\"#984ea3\"},\"line_alpha\":{\"value\":0.7},\"line_color\":{\"value\":\"#984ea3\"},\"x\":{\"field\":\"x\"},\"y\":{\"field\":\"y\"}},\"id\":\"8e4876c0-2525-426f-b558-d88f21ec2e39\",\"type\":\"Circle\"},{\"attributes\":{},\"id\":\"15d93edf-f966-4be5-a386-8db31275af38\",\"type\":\"HelpTool\"},{\"attributes\":{\"source\":{\"id\":\"3b306f4d-ae25-4d38-b4de-3fdb0e2efdce\",\"type\":\"ColumnDataSource\"}},\"id\":\"7001add9-dc5b-41bb-93ad-60adbcb28903\",\"type\":\"CDSView\"},{\"attributes\":{},\"id\":\"16415238-630a-4a2f-bb0b-b5b3a1fab83e\",\"type\":\"LinearScale\"},{\"attributes\":{\"active_drag\":\"auto\",\"active_inspect\":\"auto\",\"active_scroll\":\"auto\",\"active_tap\":\"auto\",\"tools\":[{\"id\":\"b6344a3c-d5b7-4906-9cc1-80eee9d96be3\",\"type\":\"PanTool\"},{\"id\":\"9bb56477-3ba7-4b19-b392-936a8727c355\",\"type\":\"WheelZoomTool\"},{\"id\":\"70e234a4-5b38-4dbf-b2d4-22c8e581d61e\",\"type\":\"BoxZoomTool\"},{\"id\":\"ce7aa8eb-1449-4aea-b69f-059c8b89e295\",\"type\":\"SaveTool\"},{\"id\":\"07540113-02d3-4e07-9591-ba69b9a908b6\",\"type\":\"ResetTool\"},{\"id\":\"ef944bbc-4ba6-45d4-932a-4e3e7e22eaa7\",\"type\":\"HelpTool\"}]},\"id\":\"b09bfd44-5705-4d27-8d0b-e5e2eaf43025\",\"type\":\"Toolbar\"},{\"attributes\":{},\"id\":\"8b6c8a02-e058-4bcc-93c2-b8f3c88c5e38\",\"type\":\"BasicTickFormatter\"},{\"attributes\":{},\"id\":\"d6a56cae-f1eb-4b53-a47d-a8e9e76ae1a2\",\"type\":\"UnionRenderers\"},{\"attributes\":{\"plot\":{\"id\":\"dd484aef-ad0d-4c7d-a193-675d06440b56\",\"subtype\":\"Figure\",\"type\":\"Plot\"},\"ticker\":{\"id\":\"0b10dac9-7515-48a7-9143-91ccfad4db21\",\"type\":\"BasicTicker\"}},\"id\":\"ef9c1420-359a-4fe4-bb52-a9b24d2bc0aa\",\"type\":\"Grid\"},{\"attributes\":{},\"id\":\"3c9f25d0-2796-411d-8151-245d437e1f50\",\"type\":\"Selection\"},{\"attributes\":{},\"id\":\"628dd09b-14fc-4861-b9b8-112cc7f832a4\",\"type\":\"Selection\"},{\"attributes\":{\"callback\":null,\"end\":2.0170050286463543,\"start\":-0.3465520932818362},\"id\":\"80f0f0db-41d8-412c-b6c2-83364fe23071\",\"type\":\"Range1d\"},{\"attributes\":{\"line_alpha\":0.1,\"line_color\":\"#1f77b4\",\"line_width\":1.5,\"x\":{\"field\":\"x\"},\"y\":{\"field\":\"y\"}},\"id\":\"14b66be9-f6ef-4c78-bf51-73c8ee9a424b\",\"type\":\"Line\"},{\"attributes\":{\"children\":[{\"id\":\"847fcf12-bef2-42f5-a6c5-37392083b53c\",\"subtype\":\"Figure\",\"type\":\"Plot\"},{\"id\":\"dd484aef-ad0d-4c7d-a193-675d06440b56\",\"subtype\":\"Figure\",\"type\":\"Plot\"},{\"id\":\"15922ba3-d54b-4549-8d78-459a7b64d1d9\",\"subtype\":\"Figure\",\"type\":\"Plot\"}]},\"id\":\"283303c0-7e1e-4938-a1dc-ab2cc12f8b16\",\"type\":\"Row\"},{\"attributes\":{},\"id\":\"95e89c53-77c8-4d96-92fa-645c40a8eee2\",\"type\":\"LogScale\"},{\"attributes\":{\"axis_label\":\"cooling rate [K/day]\",\"formatter\":{\"id\":\"b4ff4c28-7d42-456f-9508-4f94a3c57c2c\",\"type\":\"BasicTickFormatter\"},\"plot\":{\"id\":\"dd484aef-ad0d-4c7d-a193-675d06440b56\",\"subtype\":\"Figure\",\"type\":\"Plot\"},\"ticker\":{\"id\":\"0b10dac9-7515-48a7-9143-91ccfad4db21\",\"type\":\"BasicTicker\"}},\"id\":\"08d9c057-72fd-4c6e-a998-96f7b7e8a02d\",\"type\":\"LinearAxis\"},{\"attributes\":{\"data_source\":{\"id\":\"e2258883-4738-4641-9be4-c029f13d3550\",\"type\":\"ColumnDataSource\"},\"glyph\":{\"id\":\"b3fc49d9-29cd-4808-8809-700436f4328b\",\"type\":\"Line\"},\"hover_glyph\":null,\"muted_glyph\":null,\"nonselection_glyph\":{\"id\":\"14b66be9-f6ef-4c78-bf51-73c8ee9a424b\",\"type\":\"Line\"},\"selection_glyph\":null,\"view\":{\"id\":\"7e48f0ab-4171-427c-95db-cc96df9a7df4\",\"type\":\"CDSView\"}},\"id\":\"433f56ff-792e-4836-8e2a-d2c837e3d075\",\"type\":\"GlyphRenderer\"},{\"attributes\":{},\"id\":\"0b10dac9-7515-48a7-9143-91ccfad4db21\",\"type\":\"BasicTicker\"},{\"attributes\":{},\"id\":\"b3e3131d-e999-4f75-b850-dfa0d2b9b34f\",\"type\":\"BasicTicker\"},{\"attributes\":{\"axis_label\":\"pressure [mb]\",\"formatter\":{\"id\":\"2c15ceb2-dd7b-4690-a829-1d35920a9016\",\"type\":\"LogTickFormatter\"},\"plot\":{\"id\":\"dd484aef-ad0d-4c7d-a193-675d06440b56\",\"subtype\":\"Figure\",\"type\":\"Plot\"},\"ticker\":{\"id\":\"a70f0818-6dd4-4b72-a4bd-72e546fa6db7\",\"type\":\"LogTicker\"}},\"id\":\"051a157b-8bb5-4c7b-bd99-797632801ed8\",\"type\":\"LogAxis\"},{\"attributes\":{\"callback\":null,\"data\":{\"x\":{\"__ndarray__\":\"4AyZU0s4gT/Is79EoCCDP9xh8orQnYY/KOCY5M7siT/YkNYdLfyMP+SSXl/h4I8/9OrDSmpAkT+UNpRbDH6SPxymI3FwmJM/8NZnC16tlD9Ya7rOIdGVP+S2hQBDA5c/+I6G+Cx0mD/wdcP9GiWaP9QgxHwW15o/aAgvEPDjlz+M9ebNZ5SIP3QKwHlQ1Hq/APYLVbXNnr9glfGtF1ysv3ivUiioNLS/MJN1k3O9ur+AQXJ8/sW/v1DSYjq+B7W/gHZOs0C7g78AhmkpanpqvwCxjGiWX4G/gP6nbnAagT9ARlpsixmgP9gyXPSAP6c/SNQ8LkcbpT/0U0eHuiGZP2BINx1clX8/IIfambY9gb8gDi3Tq9iavxBcJyZW46S/2DrM8tDSpL/Em8rcWxWhv1BIAHE2oZm/gD14UP1BkL+wFD743EuCv1BUFuiHz3W/YJ3U3nopab/ApE4aTL5Xv4D+Dg3X3zy/AEF2pBvdKD+AygABf7lFP4CFGW5Okk8/oDVIkxvdUj9w3LbqmMVUP6Bus+2+p1U/GHfwBNyiVT/MfVkuYChVP6DIWWejS1Q//qObfVg+Uz/DQ3CJkPRRPxgkyp/uilA/KCUI9ToLTj+wwFgGraxKP2B2U40IDUc/oEthc0hJQz8gtE+uxmU+P4ATp1gKiDY/gBWM/lu/LD8AvxfWwmkXPwDmbXTn7AG/gBol9KKSJL9AnDKpNHExv4Bkg7fNdTa/AJlpneZUOr8A/3PVkkc9vwB9hFVN9D+/YFpNN4aJQb8g2C6iKvxCvyAZIk73n0S/\",\"dtype\":\"float64\",\"shape\":[75]},\"y\":{\"__ndarray__\":\"GhExyth1ND/Sv8nbtpRIP2vylNV0PVE/aTum7souWD/At0SJ8fVgPw3Iuahxymc/MSNhhJWvcD/bTfBN02d3P2zb5nxnaoA/CD5h5MAGhz8NmeH1TyaQP+zrCsc9p5Y/LbKd76fGnz/bLW5ISEmmPww9YvTcQq8/JV2OstnstT8Er5Y7M8G+P0c+r3jqkcU/5h99k6ZBzj88bCIzFzjVP4enV8oyxN0//yH99nXg5D8qOpLLf0jtP5kqGJXUifQ/c9cS8kHP/D+/DpwzojQEQIEmwoanVwxA4lgXt9HgE0BSSZ2AJuIbQAMJih9jjiNA5q4l5INuK0AwTKYKRj0zQNv5fmq8/DpAaCJseHrtQkB/+zpwzoxKQM3MzMzMeFJAZmZmZmZqWEAAAAAAAFxeQM3MzMzMJmJAmpmZmZkfZUBmZmZmZhhoQDMzMzMzEWtAAAAAAAAKbkBmZmZmZoFwQM3MzMzM/XFAMzMzMzN6c0CamZmZmfZ0QAAAAAAAc3ZAZmZmZmbvd0DNzMzMzGt5QDMzMzMz6HpAmpmZmZlkfEAAAAAAAOF9QGZmZmZmXX9AZmZmZuZsgECamZmZGSuBQM3MzMxM6YFAAAAAAICngkAzMzMzs2WDQGZmZmbmI4RAmpmZmRnihEDNzMzMTKCFQAAAAACAXoZAMzMzM7Mch0BmZmZm5tqHQJqZmZkZmYhAzczMzExXiUAAAAAAgBWKQDMzMzOz04pAZmZmZuaRi0CamZmZGVCMQM3MzMxMDo1AAAAAAIDMjUAzMzMzs4qOQGZmZmbmSI9A\",\"dtype\":\"float64\",\"shape\":[75]}},\"selected\":{\"id\":\"68957fc7-3820-4f34-b209-7aa94e7d47d4\",\"type\":\"Selection\"},\"selection_policy\":{\"id\":\"de0d1b6b-9ad4-439b-957d-5b8eab4eb6b5\",\"type\":\"UnionRenderers\"}},\"id\":\"93ca44ba-877e-4812-8f72-0fad999d1c48\",\"type\":\"ColumnDataSource\"},{\"attributes\":{\"source\":{\"id\":\"e2258883-4738-4641-9be4-c029f13d3550\",\"type\":\"ColumnDataSource\"}},\"id\":\"7e48f0ab-4171-427c-95db-cc96df9a7df4\",\"type\":\"CDSView\"},{\"attributes\":{\"callback\":null,\"data\":{\"x\":{\"__ndarray__\":\"/oJPBlb0o78esCxKaTOmv2M98l0DiKq/WxFOboivrr/i63XP3VWxvxG2R4sNP7O/mpeYbt8Rtb8H5LLU8c22v+K4VPG7c7i/UiFoFrIEur8ZxdV1Zoq7v4W171nwBb2/oyLr/B2Cvr9Jl6NsNvu/vzzIwkJzPsC/86KfPjwqvr/3Wq9teuWxv/PrcDzrj6A/8Waqs5x8yT8IDMzpNlHcP3PPX41Y0Og/jsXb7/V68z9niL4WT7j7P3oFs1O95v8/Oq5GdqWl/D9otRvYhfr2PxDbJ5GO/PA/4vNYbd3R5z/7rSFhrbTgPzBjbQD0g9Y/95r1lGLoxj9H7Bj56hqFP8z3QrdNp7u/fkhsNfN9yL+VkeXq6LTQv0W8lgzXFdK/vHloJ5wA0L+VW4OMurXLv6b7MZSwwsm/GyQrXOIKx7/f0EoQZHPCv/XkUHV+QL2/HHvVTr0DuL8BIEpbLCqzvy6fwbP4pa6/8S7k//iMqb9KBg7VhTmlv+jzvuKKOqG/vnWEJ4Klm78Yi+EVgeSVv0MtFzsrs5C/xhpjZB8diL8zb/aDkcl/v+y6sURSkHG/10Er1WHjU78ngvJewMlZP3HzR4FX5XA/St+d1A2Pej8lfAIvkrmBPy36H23X3IU/KlnZNHK6iT9HrF3Ei0aNP2XlVaVGS5A/PwCpTZzckT/HVNv8qE6TP+VXBOMGmpQ/N+tURS3XlT/XmDDKzgOXP92j/zHp+Zc/jhmw/ce2mD+9H+Lfmk2ZP64QWxzD05k/zmdILmJMmj9aAYgyibeaP29SlvYNGZs/\",\"dtype\":\"float64\",\"shape\":[75]},\"y\":{\"__ndarray__\":\"GhExyth1ND/Sv8nbtpRIP2vylNV0PVE/aTum7souWD/At0SJ8fVgPw3Iuahxymc/MSNhhJWvcD/bTfBN02d3P2zb5nxnaoA/CD5h5MAGhz8NmeH1TyaQP+zrCsc9p5Y/LbKd76fGnz/bLW5ISEmmPww9YvTcQq8/JV2OstnstT8Er5Y7M8G+P0c+r3jqkcU/5h99k6ZBzj88bCIzFzjVP4enV8oyxN0//yH99nXg5D8qOpLLf0jtP5kqGJXUifQ/c9cS8kHP/D+/DpwzojQEQIEmwoanVwxA4lgXt9HgE0BSSZ2AJuIbQAMJih9jjiNA5q4l5INuK0AwTKYKRj0zQNv5fmq8/DpAaCJseHrtQkB/+zpwzoxKQM3MzMzMeFJAZmZmZmZqWEAAAAAAAFxeQM3MzMzMJmJAmpmZmZkfZUBmZmZmZhhoQDMzMzMzEWtAAAAAAAAKbkBmZmZmZoFwQM3MzMzM/XFAMzMzMzN6c0CamZmZmfZ0QAAAAAAAc3ZAZmZmZmbvd0DNzMzMzGt5QDMzMzMz6HpAmpmZmZlkfEAAAAAAAOF9QGZmZmZmXX9AZmZmZuZsgECamZmZGSuBQM3MzMxM6YFAAAAAAICngkAzMzMzs2WDQGZmZmbmI4RAmpmZmRnihEDNzMzMTKCFQAAAAACAXoZAMzMzM7Mch0BmZmZm5tqHQJqZmZkZmYhAzczMzExXiUAAAAAAgBWKQDMzMzOz04pAZmZmZuaRi0CamZmZGVCMQM3MzMxMDo1AAAAAAIDMjUAzMzMzs4qOQGZmZmbmSI9A\",\"dtype\":\"float64\",\"shape\":[75]}},\"selected\":{\"id\":\"f65c6a62-32fa-4ea0-9961-1a63f4645715\",\"type\":\"Selection\"},\"selection_policy\":{\"id\":\"5227e99b-c5f4-4d76-ac6e-2e972f7eba28\",\"type\":\"UnionRenderers\"}},\"id\":\"3b306f4d-ae25-4d38-b4de-3fdb0e2efdce\",\"type\":\"ColumnDataSource\"},{\"attributes\":{\"num_minor_ticks\":10},\"id\":\"a70f0818-6dd4-4b72-a4bd-72e546fa6db7\",\"type\":\"LogTicker\"},{\"attributes\":{\"callback\":null,\"data\":{\"x\":{\"__ndarray__\":\"4AyZU0s4gT/Is79EoCCDP9xh8orQnYY/KOCY5M7siT/YkNYdLfyMP+SSXl/h4I8/9OrDSmpAkT+UNpRbDH6SPxymI3FwmJM/8NZnC16tlD9Ya7rOIdGVP+S2hQBDA5c/+I6G+Cx0mD/wdcP9GiWaP9QgxHwW15o/aAgvEPDjlz+M9ebNZ5SIP3QKwHlQ1Hq/APYLVbXNnr9glfGtF1ysv3ivUiioNLS/MJN1k3O9ur+AQXJ8/sW/v1DSYjq+B7W/gHZOs0C7g78AhmkpanpqvwCxjGiWX4G/gP6nbnAagT9ARlpsixmgP9gyXPSAP6c/SNQ8LkcbpT/0U0eHuiGZP2BINx1clX8/IIfambY9gb8gDi3Tq9iavxBcJyZW46S/2DrM8tDSpL/Em8rcWxWhv1BIAHE2oZm/gD14UP1BkL+wFD743EuCv1BUFuiHz3W/YJ3U3nopab/ApE4aTL5Xv4D+Dg3X3zy/AEF2pBvdKD+AygABf7lFP4CFGW5Okk8/oDVIkxvdUj9w3LbqmMVUP6Bus+2+p1U/GHfwBNyiVT/MfVkuYChVP6DIWWejS1Q//qObfVg+Uz/DQ3CJkPRRPxgkyp/uilA/KCUI9ToLTj+wwFgGraxKP2B2U40IDUc/oEthc0hJQz8gtE+uxmU+P4ATp1gKiDY/gBWM/lu/LD8AvxfWwmkXPwDmbXTn7AG/gBol9KKSJL9AnDKpNHExv4Bkg7fNdTa/AJlpneZUOr8A/3PVkkc9vwB9hFVN9D+/YFpNN4aJQb8g2C6iKvxCvyAZIk73n0S/\",\"dtype\":\"float64\",\"shape\":[75]},\"y\":{\"__ndarray__\":\"GhExyth1ND/Sv8nbtpRIP2vylNV0PVE/aTum7souWD/At0SJ8fVgPw3Iuahxymc/MSNhhJWvcD/bTfBN02d3P2zb5nxnaoA/CD5h5MAGhz8NmeH1TyaQP+zrCsc9p5Y/LbKd76fGnz/bLW5ISEmmPww9YvTcQq8/JV2OstnstT8Er5Y7M8G+P0c+r3jqkcU/5h99k6ZBzj88bCIzFzjVP4enV8oyxN0//yH99nXg5D8qOpLLf0jtP5kqGJXUifQ/c9cS8kHP/D+/DpwzojQEQIEmwoanVwxA4lgXt9HgE0BSSZ2AJuIbQAMJih9jjiNA5q4l5INuK0AwTKYKRj0zQNv5fmq8/DpAaCJseHrtQkB/+zpwzoxKQM3MzMzMeFJAZmZmZmZqWEAAAAAAAFxeQM3MzMzMJmJAmpmZmZkfZUBmZmZmZhhoQDMzMzMzEWtAAAAAAAAKbkBmZmZmZoFwQM3MzMzM/XFAMzMzMzN6c0CamZmZmfZ0QAAAAAAAc3ZAZmZmZmbvd0DNzMzMzGt5QDMzMzMz6HpAmpmZmZlkfEAAAAAAAOF9QGZmZmZmXX9AZmZmZuZsgECamZmZGSuBQM3MzMxM6YFAAAAAAICngkAzMzMzs2WDQGZmZmbmI4RAmpmZmRnihEDNzMzMTKCFQAAAAACAXoZAMzMzM7Mch0BmZmZm5tqHQJqZmZkZmYhAzczMzExXiUAAAAAAgBWKQDMzMzOz04pAZmZmZuaRi0CamZmZGVCMQM3MzMxMDo1AAAAAAIDMjUAzMzMzs4qOQGZmZmbmSI9A\",\"dtype\":\"float64\",\"shape\":[75]}},\"selected\":{\"id\":\"f4421952-47ff-4568-aeaf-62e77c4230c1\",\"type\":\"Selection\"},\"selection_policy\":{\"id\":\"e02da52b-2643-4704-9867-58de50e3bffb\",\"type\":\"UnionRenderers\"}},\"id\":\"e2258883-4738-4641-9be4-c029f13d3550\",\"type\":\"ColumnDataSource\"},{\"attributes\":{\"dimension\":1,\"plot\":{\"id\":\"dd484aef-ad0d-4c7d-a193-675d06440b56\",\"subtype\":\"Figure\",\"type\":\"Plot\"},\"ticker\":{\"id\":\"a70f0818-6dd4-4b72-a4bd-72e546fa6db7\",\"type\":\"LogTicker\"}},\"id\":\"fb7b88cb-5bae-47e9-a5ed-dcfa3c506dcb\",\"type\":\"Grid\"},{\"attributes\":{\"items\":[{\"id\":\"57e4a9b3-a506-47cd-b07f-827ce021bc8e\",\"type\":\"LegendItem\"}],\"label_text_font_size\":{\"value\":\"8pt\"},\"location\":\"top_center\",\"orientation\":\"horizontal\",\"plot\":{\"id\":\"15922ba3-d54b-4549-8d78-459a7b64d1d9\",\"subtype\":\"Figure\",\"type\":\"Plot\"}},\"id\":\"ec4bb3e9-e1df-4ea6-b396-d117115def31\",\"type\":\"Legend\"},{\"attributes\":{\"callback\":null,\"end\":0.01,\"start\":1020},\"id\":\"7094d37f-2ab5-49cc-a3a0-e2128337095d\",\"type\":\"Range1d\"},{\"attributes\":{},\"id\":\"b4b0be5e-6f90-4ffe-9ab5-9a4de7efe10c\",\"type\":\"Selection\"},{\"attributes\":{\"dimension\":1,\"plot\":{\"id\":\"15922ba3-d54b-4549-8d78-459a7b64d1d9\",\"subtype\":\"Figure\",\"type\":\"Plot\"},\"ticker\":{\"id\":\"aea873fb-49f7-47cf-8e26-89af986ba0f9\",\"type\":\"LogTicker\"}},\"id\":\"1a910ba6-03dc-42b8-bda7-ad643213b9e5\",\"type\":\"Grid\"},{\"attributes\":{\"label\":{\"value\":\"CLIRAD - CRD\"},\"renderers\":[{\"id\":\"89405402-52ae-4417-8dd3-8d4540a16476\",\"type\":\"GlyphRenderer\"},{\"id\":\"433f56ff-792e-4836-8e2a-d2c837e3d075\",\"type\":\"GlyphRenderer\"}]},\"id\":\"57e4a9b3-a506-47cd-b07f-827ce021bc8e\",\"type\":\"LegendItem\"},{\"attributes\":{\"above\":[{\"id\":\"ec4bb3e9-e1df-4ea6-b396-d117115def31\",\"type\":\"Legend\"}],\"below\":[{\"id\":\"c8a1d65d-9c2c-45ff-8ec8-f275c8980326\",\"type\":\"LinearAxis\"}],\"left\":[{\"id\":\"c4683729-5ace-4ab0-8fd6-c31b29af3450\",\"type\":\"LogAxis\"}],\"plot_width\":300,\"renderers\":[{\"id\":\"c8a1d65d-9c2c-45ff-8ec8-f275c8980326\",\"type\":\"LinearAxis\"},{\"id\":\"abf72417-498e-449f-ae4f-f1c5289aa551\",\"type\":\"Grid\"},{\"id\":\"c4683729-5ace-4ab0-8fd6-c31b29af3450\",\"type\":\"LogAxis\"},{\"id\":\"1a910ba6-03dc-42b8-bda7-ad643213b9e5\",\"type\":\"Grid\"},{\"id\":\"95b4d6d0-62e9-4948-ab03-466d8ebb5e33\",\"type\":\"BoxAnnotation\"},{\"id\":\"89405402-52ae-4417-8dd3-8d4540a16476\",\"type\":\"GlyphRenderer\"},{\"id\":\"433f56ff-792e-4836-8e2a-d2c837e3d075\",\"type\":\"GlyphRenderer\"},{\"id\":\"ec4bb3e9-e1df-4ea6-b396-d117115def31\",\"type\":\"Legend\"}],\"title\":{\"id\":\"40dcc694-2634-4eaf-85cf-11825649632d\",\"type\":\"Title\"},\"toolbar\":{\"id\":\"3773d9eb-85a5-406e-87a0-8c43f82d6ca2\",\"type\":\"Toolbar\"},\"toolbar_location\":null,\"x_range\":{\"id\":\"0418aeb0-f08c-4f7f-920e-7c3b463ef565\",\"type\":\"Range1d\"},\"x_scale\":{\"id\":\"1cf8dfb2-c129-4c6a-8389-eaa290cc98d5\",\"type\":\"LinearScale\"},\"y_range\":{\"id\":\"7094d37f-2ab5-49cc-a3a0-e2128337095d\",\"type\":\"Range1d\"},\"y_scale\":{\"id\":\"48a1a872-f5bb-476e-b3ab-c328b49bcd90\",\"type\":\"LogScale\"}},\"id\":\"15922ba3-d54b-4549-8d78-459a7b64d1d9\",\"subtype\":\"Figure\",\"type\":\"Plot\"},{\"attributes\":{\"plot\":null,\"text\":\"\"},\"id\":\"6ca217d3-4935-4273-88eb-7872ab30542f\",\"type\":\"Title\"},{\"attributes\":{},\"id\":\"1cf8dfb2-c129-4c6a-8389-eaa290cc98d5\",\"type\":\"LinearScale\"},{\"attributes\":{\"bottom_units\":\"screen\",\"fill_alpha\":{\"value\":0.5},\"fill_color\":{\"value\":\"lightgrey\"},\"left_units\":\"screen\",\"level\":\"overlay\",\"line_alpha\":{\"value\":1.0},\"line_color\":{\"value\":\"black\"},\"line_dash\":[4,4],\"line_width\":{\"value\":2},\"plot\":null,\"render_mode\":\"css\",\"right_units\":\"screen\",\"top_units\":\"screen\"},\"id\":\"2b1a5093-4ad4-4d3b-b1bc-f805d21f7279\",\"type\":\"BoxAnnotation\"},{\"attributes\":{},\"id\":\"b6344a3c-d5b7-4906-9cc1-80eee9d96be3\",\"type\":\"PanTool\"},{\"attributes\":{},\"id\":\"9bb56477-3ba7-4b19-b392-936a8727c355\",\"type\":\"WheelZoomTool\"},{\"attributes\":{\"fill_alpha\":{\"value\":0.7},\"fill_color\":{\"value\":\"#4daf4a\"},\"line_alpha\":{\"value\":0.7},\"line_color\":{\"value\":\"#4daf4a\"},\"x\":{\"field\":\"x\"},\"y\":{\"field\":\"y\"}},\"id\":\"40478fd8-fd55-4441-b552-196a79cfc361\",\"type\":\"Circle\"},{\"attributes\":{\"overlay\":{\"id\":\"2b1a5093-4ad4-4d3b-b1bc-f805d21f7279\",\"type\":\"BoxAnnotation\"}},\"id\":\"70e234a4-5b38-4dbf-b2d4-22c8e581d61e\",\"type\":\"BoxZoomTool\"},{\"attributes\":{},\"id\":\"7270d986-792b-4cc2-a811-20036009fc0f\",\"type\":\"UnionRenderers\"},{\"attributes\":{},\"id\":\"ce7aa8eb-1449-4aea-b69f-059c8b89e295\",\"type\":\"SaveTool\"},{\"attributes\":{\"num_minor_ticks\":10},\"id\":\"aea873fb-49f7-47cf-8e26-89af986ba0f9\",\"type\":\"LogTicker\"},{\"attributes\":{\"line_alpha\":0.8,\"line_color\":\"#984ea3\",\"line_width\":1.5,\"x\":{\"field\":\"x\"},\"y\":{\"field\":\"y\"}},\"id\":\"b3fc49d9-29cd-4808-8809-700436f4328b\",\"type\":\"Line\"},{\"attributes\":{},\"id\":\"0ed5c4b0-3a76-402a-aa42-c58a2bb5a123\",\"type\":\"ResetTool\"},{\"attributes\":{},\"id\":\"07540113-02d3-4e07-9591-ba69b9a908b6\",\"type\":\"ResetTool\"},{\"attributes\":{},\"id\":\"5227e99b-c5f4-4d76-ac6e-2e972f7eba28\",\"type\":\"UnionRenderers\"},{\"attributes\":{},\"id\":\"ef944bbc-4ba6-45d4-932a-4e3e7e22eaa7\",\"type\":\"HelpTool\"},{\"attributes\":{},\"id\":\"f65c6a62-32fa-4ea0-9961-1a63f4645715\",\"type\":\"Selection\"},{\"attributes\":{},\"id\":\"517bfe55-b8ae-4754-859b-164575e554be\",\"type\":\"PanTool\"},{\"attributes\":{\"children\":[{\"id\":\"283303c0-7e1e-4938-a1dc-ab2cc12f8b16\",\"type\":\"Row\"}]},\"id\":\"2f9c14eb-1a63-4fea-ad4a-630497c8a0f6\",\"type\":\"Column\"},{\"attributes\":{},\"id\":\"74236131-62e3-48b2-af97-96fab8d85c85\",\"type\":\"BasicTickFormatter\"},{\"attributes\":{},\"id\":\"2598e718-80d5-43a8-a873-2e328be5d752\",\"type\":\"Selection\"},{\"attributes\":{\"plot\":{\"id\":\"15922ba3-d54b-4549-8d78-459a7b64d1d9\",\"subtype\":\"Figure\",\"type\":\"Plot\"},\"ticker\":{\"id\":\"b3e3131d-e999-4f75-b850-dfa0d2b9b34f\",\"type\":\"BasicTicker\"}},\"id\":\"abf72417-498e-449f-ae4f-f1c5289aa551\",\"type\":\"Grid\"},{\"attributes\":{},\"id\":\"68957fc7-3820-4f34-b209-7aa94e7d47d4\",\"type\":\"Selection\"},{\"attributes\":{},\"id\":\"fb61ff82-ef9c-4238-88e6-7a52569cbf5e\",\"type\":\"UnionRenderers\"},{\"attributes\":{},\"id\":\"f4421952-47ff-4568-aeaf-62e77c4230c1\",\"type\":\"Selection\"},{\"attributes\":{},\"id\":\"de0d1b6b-9ad4-439b-957d-5b8eab4eb6b5\",\"type\":\"UnionRenderers\"},{\"attributes\":{\"callback\":null,\"end\":0.01,\"start\":1020},\"id\":\"d316d555-c391-43a2-8a63-2d4f66bd38c0\",\"type\":\"Range1d\"},{\"attributes\":{\"plot\":null,\"text\":\"\"},\"id\":\"970e72e1-4ca7-48da-adc5-fee97feb0a2d\",\"type\":\"Title\"},{\"attributes\":{},\"id\":\"455f4f34-a3d1-4c7a-a0da-5263a234285c\",\"type\":\"BasicTicker\"},{\"attributes\":{},\"id\":\"04b53f33-bb69-4623-9148-832391feba90\",\"type\":\"WheelZoomTool\"},{\"attributes\":{},\"id\":\"9d252737-2cda-498d-9824-da55a7ab2e9a\",\"type\":\"UnionRenderers\"},{\"attributes\":{\"line_alpha\":0.1,\"line_color\":\"#1f77b4\",\"line_width\":1.5,\"x\":{\"field\":\"x\"},\"y\":{\"field\":\"y\"}},\"id\":\"f3eff3e5-86a7-4f3c-9784-6fe330ec5009\",\"type\":\"Line\"},{\"attributes\":{},\"id\":\"64da3719-93ee-474d-a1ef-a277cb997447\",\"type\":\"BasicTickFormatter\"},{\"attributes\":{\"line_alpha\":0.1,\"line_color\":\"#1f77b4\",\"line_dash\":[6],\"line_width\":5,\"x\":{\"field\":\"x\"},\"y\":{\"field\":\"y\"}},\"id\":\"952b4068-ce23-4909-a36c-8620f2209397\",\"type\":\"Line\"},{\"attributes\":{\"plot\":null,\"text\":\"\"},\"id\":\"40dcc694-2634-4eaf-85cf-11825649632d\",\"type\":\"Title\"},{\"attributes\":{\"data_source\":{\"id\":\"a4593799-054e-44df-9ee8-ad18271ac6bf\",\"type\":\"ColumnDataSource\"},\"glyph\":{\"id\":\"da85231c-a3c6-4fad-88d8-88442f1b710d\",\"type\":\"Line\"},\"hover_glyph\":null,\"muted_glyph\":null,\"nonselection_glyph\":{\"id\":\"952b4068-ce23-4909-a36c-8620f2209397\",\"type\":\"Line\"},\"selection_glyph\":null,\"view\":{\"id\":\"e9eb7838-faf5-46d3-a458-6101776d3709\",\"type\":\"CDSView\"}},\"id\":\"dcbaa1c1-9e73-4681-98c7-ef8b4f78a0b2\",\"type\":\"GlyphRenderer\"},{\"attributes\":{},\"id\":\"682fdaaf-553f-4062-a56f-700761597550\",\"type\":\"Selection\"},{\"attributes\":{\"toolbar\":{\"id\":\"919ff786-75a7-42a8-b894-13baf27733ef\",\"type\":\"ProxyToolbar\"},\"toolbar_location\":\"above\"},\"id\":\"a7ca372e-b923-40b3-9cde-8821837fdffe\",\"type\":\"ToolbarBox\"},{\"attributes\":{\"children\":[{\"id\":\"a7ca372e-b923-40b3-9cde-8821837fdffe\",\"type\":\"ToolbarBox\"},{\"id\":\"2f9c14eb-1a63-4fea-ad4a-630497c8a0f6\",\"type\":\"Column\"}]},\"id\":\"7c7962cc-a8cd-48b4-b1c9-727836a00323\",\"type\":\"Column\"},{\"attributes\":{},\"id\":\"ef41ffad-d7be-45f0-8b7d-7aae5982b8ac\",\"type\":\"SaveTool\"},{\"attributes\":{},\"id\":\"2fd28ecc-0231-4fbf-a1f7-8a1f864bcce1\",\"type\":\"LinearScale\"},{\"attributes\":{\"active_drag\":\"auto\",\"active_inspect\":\"auto\",\"active_scroll\":\"auto\",\"active_tap\":\"auto\",\"tools\":[{\"id\":\"02b25e0d-e3ff-495b-a348-b8b16bdefa94\",\"type\":\"PanTool\"},{\"id\":\"13f0c428-134b-40d1-aee2-9d1d3706bfe7\",\"type\":\"WheelZoomTool\"},{\"id\":\"5710da43-d977-401f-8b7d-836caccd4429\",\"type\":\"BoxZoomTool\"},{\"id\":\"8afa5d0d-41ea-48de-a0bd-3cc951a21c66\",\"type\":\"SaveTool\"},{\"id\":\"56e32a7a-cd26-4a93-9312-4895ffb7cd72\",\"type\":\"ResetTool\"},{\"id\":\"a2ec0998-27e5-4d2e-b7dc-3543296b2cba\",\"type\":\"HelpTool\"}]},\"id\":\"3773d9eb-85a5-406e-87a0-8c43f82d6ca2\",\"type\":\"Toolbar\"},{\"attributes\":{\"line_alpha\":0.1,\"line_color\":\"#1f77b4\",\"line_dash\":[6],\"line_width\":5,\"x\":{\"field\":\"x\"},\"y\":{\"field\":\"y\"}},\"id\":\"2243456e-5b49-48ba-b0da-24c5bc566736\",\"type\":\"Line\"},{\"attributes\":{\"ticker\":null},\"id\":\"bc4918f0-8f2c-409a-ba2f-bb753b507500\",\"type\":\"LogTickFormatter\"},{\"attributes\":{},\"id\":\"164f803e-0106-4e43-a0ce-f3a0a3e2409a\",\"type\":\"UnionRenderers\"},{\"attributes\":{\"overlay\":{\"id\":\"e0924e68-f24d-42a3-91fa-ac7166406470\",\"type\":\"BoxAnnotation\"}},\"id\":\"1ad052d7-30c5-4346-953a-772cd27ae2f2\",\"type\":\"BoxZoomTool\"},{\"attributes\":{\"axis_label\":\"cooling rate [K/day]\",\"formatter\":{\"id\":\"8b6c8a02-e058-4bcc-93c2-b8f3c88c5e38\",\"type\":\"BasicTickFormatter\"},\"plot\":{\"id\":\"847fcf12-bef2-42f5-a6c5-37392083b53c\",\"subtype\":\"Figure\",\"type\":\"Plot\"},\"ticker\":{\"id\":\"f1df3fb1-6abc-494b-8277-808c35d047a4\",\"type\":\"BasicTicker\"}},\"id\":\"42a6c414-4de8-4d51-9e4c-641ebeecd4be\",\"type\":\"LinearAxis\"},{\"attributes\":{},\"id\":\"e02da52b-2643-4704-9867-58de50e3bffb\",\"type\":\"UnionRenderers\"},{\"attributes\":{\"tools\":[{\"id\":\"517bfe55-b8ae-4754-859b-164575e554be\",\"type\":\"PanTool\"},{\"id\":\"04b53f33-bb69-4623-9148-832391feba90\",\"type\":\"WheelZoomTool\"},{\"id\":\"1ad052d7-30c5-4346-953a-772cd27ae2f2\",\"type\":\"BoxZoomTool\"},{\"id\":\"ef41ffad-d7be-45f0-8b7d-7aae5982b8ac\",\"type\":\"SaveTool\"},{\"id\":\"0ed5c4b0-3a76-402a-aa42-c58a2bb5a123\",\"type\":\"ResetTool\"},{\"id\":\"15d93edf-f966-4be5-a386-8db31275af38\",\"type\":\"HelpTool\"},{\"id\":\"b6344a3c-d5b7-4906-9cc1-80eee9d96be3\",\"type\":\"PanTool\"},{\"id\":\"9bb56477-3ba7-4b19-b392-936a8727c355\",\"type\":\"WheelZoomTool\"},{\"id\":\"70e234a4-5b38-4dbf-b2d4-22c8e581d61e\",\"type\":\"BoxZoomTool\"},{\"id\":\"ce7aa8eb-1449-4aea-b69f-059c8b89e295\",\"type\":\"SaveTool\"},{\"id\":\"07540113-02d3-4e07-9591-ba69b9a908b6\",\"type\":\"ResetTool\"},{\"id\":\"ef944bbc-4ba6-45d4-932a-4e3e7e22eaa7\",\"type\":\"HelpTool\"},{\"id\":\"02b25e0d-e3ff-495b-a348-b8b16bdefa94\",\"type\":\"PanTool\"},{\"id\":\"13f0c428-134b-40d1-aee2-9d1d3706bfe7\",\"type\":\"WheelZoomTool\"},{\"id\":\"5710da43-d977-401f-8b7d-836caccd4429\",\"type\":\"BoxZoomTool\"},{\"id\":\"8afa5d0d-41ea-48de-a0bd-3cc951a21c66\",\"type\":\"SaveTool\"},{\"id\":\"56e32a7a-cd26-4a93-9312-4895ffb7cd72\",\"type\":\"ResetTool\"},{\"id\":\"a2ec0998-27e5-4d2e-b7dc-3543296b2cba\",\"type\":\"HelpTool\"}]},\"id\":\"919ff786-75a7-42a8-b894-13baf27733ef\",\"type\":\"ProxyToolbar\"},{\"attributes\":{\"axis_label\":\"pressure [mb]\",\"formatter\":{\"id\":\"74236131-62e3-48b2-af97-96fab8d85c85\",\"type\":\"BasicTickFormatter\"},\"plot\":{\"id\":\"847fcf12-bef2-42f5-a6c5-37392083b53c\",\"subtype\":\"Figure\",\"type\":\"Plot\"},\"ticker\":{\"id\":\"455f4f34-a3d1-4c7a-a0da-5263a234285c\",\"type\":\"BasicTicker\"}},\"id\":\"333b1f10-ab08-4b89-b312-34e1f7fbcbb0\",\"type\":\"LinearAxis\"},{\"attributes\":{},\"id\":\"48a1a872-f5bb-476e-b3ab-c328b49bcd90\",\"type\":\"LogScale\"},{\"attributes\":{\"data_source\":{\"id\":\"b6fb96af-297c-463c-8a18-a3c44f6e4321\",\"type\":\"ColumnDataSource\"},\"glyph\":{\"id\":\"40478fd8-fd55-4441-b552-196a79cfc361\",\"type\":\"Circle\"},\"hover_glyph\":null,\"muted_glyph\":null,\"nonselection_glyph\":{\"id\":\"30aa0bb0-c8ef-43b0-83f2-fdaaa38d93eb\",\"type\":\"Circle\"},\"selection_glyph\":null,\"view\":{\"id\":\"8393ac33-3c35-4197-a814-7c6464c0afa3\",\"type\":\"CDSView\"}},\"id\":\"ff4c0044-e0b6-416b-9595-3a9708453f47\",\"type\":\"GlyphRenderer\"},{\"attributes\":{\"data_source\":{\"id\":\"8c4f2b6b-d26b-4c81-a11b-5c3e290c9a19\",\"type\":\"ColumnDataSource\"},\"glyph\":{\"id\":\"835efd84-cd6f-4671-9e87-3958134c9d43\",\"type\":\"Line\"},\"hover_glyph\":null,\"muted_glyph\":null,\"nonselection_glyph\":{\"id\":\"2243456e-5b49-48ba-b0da-24c5bc566736\",\"type\":\"Line\"},\"selection_glyph\":null,\"view\":{\"id\":\"9f4de595-5956-4167-9a85-7fbd9927e71e\",\"type\":\"CDSView\"}},\"id\":\"7e08f3b1-16e9-41d9-ae1f-99a03666ff64\",\"type\":\"GlyphRenderer\"},{\"attributes\":{\"above\":[{\"id\":\"658fe7e1-6dac-4ca5-af0f-7c0c1404a60d\",\"type\":\"Legend\"}],\"below\":[{\"id\":\"08d9c057-72fd-4c6e-a998-96f7b7e8a02d\",\"type\":\"LinearAxis\"}],\"left\":[{\"id\":\"051a157b-8bb5-4c7b-bd99-797632801ed8\",\"type\":\"LogAxis\"}],\"plot_width\":300,\"renderers\":[{\"id\":\"08d9c057-72fd-4c6e-a998-96f7b7e8a02d\",\"type\":\"LinearAxis\"},{\"id\":\"ef9c1420-359a-4fe4-bb52-a9b24d2bc0aa\",\"type\":\"Grid\"},{\"id\":\"051a157b-8bb5-4c7b-bd99-797632801ed8\",\"type\":\"LogAxis\"},{\"id\":\"fb7b88cb-5bae-47e9-a5ed-dcfa3c506dcb\",\"type\":\"Grid\"},{\"id\":\"2b1a5093-4ad4-4d3b-b1bc-f805d21f7279\",\"type\":\"BoxAnnotation\"},{\"id\":\"dcbaa1c1-9e73-4681-98c7-ef8b4f78a0b2\",\"type\":\"GlyphRenderer\"},{\"id\":\"baeda092-c8f6-44d8-9b12-b5942668cb90\",\"type\":\"GlyphRenderer\"},{\"id\":\"3f1a247a-df3f-4128-bafc-fa243d6db2a4\",\"type\":\"GlyphRenderer\"},{\"id\":\"658fe7e1-6dac-4ca5-af0f-7c0c1404a60d\",\"type\":\"Legend\"}],\"title\":{\"id\":\"970e72e1-4ca7-48da-adc5-fee97feb0a2d\",\"type\":\"Title\"},\"toolbar\":{\"id\":\"b09bfd44-5705-4d27-8d0b-e5e2eaf43025\",\"type\":\"Toolbar\"},\"toolbar_location\":null,\"x_range\":{\"id\":\"80f0f0db-41d8-412c-b6c2-83364fe23071\",\"type\":\"Range1d\"},\"x_scale\":{\"id\":\"16415238-630a-4a2f-bb0b-b5b3a1fab83e\",\"type\":\"LinearScale\"},\"y_range\":{\"id\":\"c35b67d3-1164-4549-b2e0-398466057f61\",\"type\":\"Range1d\"},\"y_scale\":{\"id\":\"95e89c53-77c8-4d96-92fa-645c40a8eee2\",\"type\":\"LogScale\"}},\"id\":\"dd484aef-ad0d-4c7d-a193-675d06440b56\",\"subtype\":\"Figure\",\"type\":\"Plot\"},{\"attributes\":{\"callback\":null,\"end\":0.029961190276354813,\"start\":-0.3268783919118362},\"id\":\"7372a67f-22bd-41e2-9d99-94a90fd4a631\",\"type\":\"Range1d\"},{\"attributes\":{\"fill_alpha\":{\"value\":0.1},\"fill_color\":{\"value\":\"#1f77b4\"},\"line_alpha\":{\"value\":0.1},\"line_color\":{\"value\":\"#1f77b4\"},\"x\":{\"field\":\"x\"},\"y\":{\"field\":\"y\"}},\"id\":\"8934dc92-ea85-489a-b0e6-eb59aae6c697\",\"type\":\"Circle\"},{\"attributes\":{\"source\":{\"id\":\"8c4f2b6b-d26b-4c81-a11b-5c3e290c9a19\",\"type\":\"ColumnDataSource\"}},\"id\":\"9f4de595-5956-4167-9a85-7fbd9927e71e\",\"type\":\"CDSView\"},{\"attributes\":{\"bottom_units\":\"screen\",\"fill_alpha\":{\"value\":0.5},\"fill_color\":{\"value\":\"lightgrey\"},\"left_units\":\"screen\",\"level\":\"overlay\",\"line_alpha\":{\"value\":1.0},\"line_color\":{\"value\":\"black\"},\"line_dash\":[4,4],\"line_width\":{\"value\":2},\"plot\":null,\"render_mode\":\"css\",\"right_units\":\"screen\",\"top_units\":\"screen\"},\"id\":\"e0924e68-f24d-42a3-91fa-ac7166406470\",\"type\":\"BoxAnnotation\"},{\"attributes\":{\"data_source\":{\"id\":\"6d4e4258-b1de-42b6-98eb-aa1fef988cd1\",\"type\":\"ColumnDataSource\"},\"glyph\":{\"id\":\"5de8788b-09ba-4f07-93e5-4487adaa23c3\",\"type\":\"Circle\"},\"hover_glyph\":null,\"muted_glyph\":null,\"nonselection_glyph\":{\"id\":\"8934dc92-ea85-489a-b0e6-eb59aae6c697\",\"type\":\"Circle\"},\"selection_glyph\":null,\"view\":{\"id\":\"7527733a-9817-4517-ae3e-d70d1ecea608\",\"type\":\"CDSView\"}},\"id\":\"baeda092-c8f6-44d8-9b12-b5942668cb90\",\"type\":\"GlyphRenderer\"},{\"attributes\":{\"callback\":null,\"end\":0.04710158269999998,\"start\":-0.12581011270000036},\"id\":\"0418aeb0-f08c-4f7f-920e-7c3b463ef565\",\"type\":\"Range1d\"},{\"attributes\":{},\"id\":\"f1df3fb1-6abc-494b-8277-808c35d047a4\",\"type\":\"BasicTicker\"},{\"attributes\":{\"active_drag\":\"auto\",\"active_inspect\":\"auto\",\"active_scroll\":\"auto\",\"active_tap\":\"auto\",\"tools\":[{\"id\":\"517bfe55-b8ae-4754-859b-164575e554be\",\"type\":\"PanTool\"},{\"id\":\"04b53f33-bb69-4623-9148-832391feba90\",\"type\":\"WheelZoomTool\"},{\"id\":\"1ad052d7-30c5-4346-953a-772cd27ae2f2\",\"type\":\"BoxZoomTool\"},{\"id\":\"ef41ffad-d7be-45f0-8b7d-7aae5982b8ac\",\"type\":\"SaveTool\"},{\"id\":\"0ed5c4b0-3a76-402a-aa42-c58a2bb5a123\",\"type\":\"ResetTool\"},{\"id\":\"15d93edf-f966-4be5-a386-8db31275af38\",\"type\":\"HelpTool\"}]},\"id\":\"5d5b3bb2-4488-470f-9d2f-e5906e7d17c1\",\"type\":\"Toolbar\"},{\"attributes\":{\"callback\":null,\"data\":{\"x\":{\"__ndarray__\":\"0tsO3yFmn7+9VDut342hvyOiI00N5KS/kV0mlE00qL8/ZWcFF22rv+S526DUha6/KAm1VOHBsL8bsSrKaS6yv0qxtqyvjbO/vcATkFzZtL/Xr9fKHha2v4oPE9EjRbe/gXKYHyJluL+dkFXVUnO5vyBtcO7Dybm/pSjK2MEyuL+s4L96kqatv1wrul3UaZo/KcvpQs6ixT/eLk9YqsXYP3o86+2/SeY/0sBp2iDP8T8MJnKR97v5P6X7/hJHlv4/tOXOvi9+/D/fMhyJSO32PwpFQjfP2fA/mRdt1kYW6D+sX5zhRbbhPxlMy/Xja9k/U0u7IzQvzD9Li49PltehPzNkT5f4rbm/APWZsc6Ryb9K4Byuc2LSvzmgEuFBstS/qALrUfaa0r888j+FEfvPv/1h/3HX9sy/WnoKOiITyb/uJrwLIpjDvzWixvx2nb6/hfCKHAnNuL98DeyCJYmzv7Fq9lG4366/a+E91xt0qb/5XDDMn+Kkv5B6hJ1BvKC/JtewV7B3mr+ywXpvJ5iUv2V2ZmVesY6/HdMhtcNohb8S23geeX96v/bnZUXS+mi/+LfV2Q2hBL/lkifVKN9lP6UEFlMTCHU/sKiQWHVQfj+/uJYQXWSDP/1J+QWoTYc/iePHzAbvij+ipQoFujmOPzR0PNZmpZA/bKuoDhsWkj/qXrXJEmaTP0ZqU4IQkZQ/ymolHQiulT+Gxi8dCr6WP8se3yQSoJc/QT0DgnRNmD+pCLWnfNiYPxhs7/PxU5k/YRDXARbAmT9+Uszipx+aPzG4HdkOdJo/\",\"dtype\":\"float64\",\"shape\":[75]},\"y\":{\"__ndarray__\":\"GhExyth1ND/Sv8nbtpRIP2vylNV0PVE/aTum7souWD/At0SJ8fVgPw3Iuahxymc/MSNhhJWvcD/bTfBN02d3P2zb5nxnaoA/CD5h5MAGhz8NmeH1TyaQP+zrCsc9p5Y/LbKd76fGnz/bLW5ISEmmPww9YvTcQq8/JV2OstnstT8Er5Y7M8G+P0c+r3jqkcU/5h99k6ZBzj88bCIzFzjVP4enV8oyxN0//yH99nXg5D8qOpLLf0jtP5kqGJXUifQ/c9cS8kHP/D+/DpwzojQEQIEmwoanVwxA4lgXt9HgE0BSSZ2AJuIbQAMJih9jjiNA5q4l5INuK0AwTKYKRj0zQNv5fmq8/DpAaCJseHrtQkB/+zpwzoxKQM3MzMzMeFJAZmZmZmZqWEAAAAAAAFxeQM3MzMzMJmJAmpmZmZkfZUBmZmZmZhhoQDMzMzMzEWtAAAAAAAAKbkBmZmZmZoFwQM3MzMzM/XFAMzMzMzN6c0CamZmZmfZ0QAAAAAAAc3ZAZmZmZmbvd0DNzMzMzGt5QDMzMzMz6HpAmpmZmZlkfEAAAAAAAOF9QGZmZmZmXX9AZmZmZuZsgECamZmZGSuBQM3MzMxM6YFAAAAAAICngkAzMzMzs2WDQGZmZmbmI4RAmpmZmRnihEDNzMzMTKCFQAAAAACAXoZAMzMzM7Mch0BmZmZm5tqHQJqZmZkZmYhAzczMzExXiUAAAAAAgBWKQDMzMzOz04pAZmZmZuaRi0CamZmZGVCMQM3MzMxMDo1AAAAAAIDMjUAzMzMzs4qOQGZmZmbmSI9A\",\"dtype\":\"float64\",\"shape\":[75]}},\"selected\":{\"id\":\"2598e718-80d5-43a8-a873-2e328be5d752\",\"type\":\"Selection\"},\"selection_policy\":{\"id\":\"7270d986-792b-4cc2-a811-20036009fc0f\",\"type\":\"UnionRenderers\"}},\"id\":\"8c4f2b6b-d26b-4c81-a11b-5c3e290c9a19\",\"type\":\"ColumnDataSource\"},{\"attributes\":{\"label\":{\"value\":\"CRD\"},\"renderers\":[{\"id\":\"ff4c0044-e0b6-416b-9595-3a9708453f47\",\"type\":\"GlyphRenderer\"},{\"id\":\"f3e4792e-9aa6-4449-909a-8d760b190ed8\",\"type\":\"GlyphRenderer\"}]},\"id\":\"0a81f408-66a5-4471-8467-3bb702048044\",\"type\":\"LegendItem\"},{\"attributes\":{\"callback\":null,\"data\":{\"x\":{\"__ndarray__\":\"/oJPBlb0o78esCxKaTOmv2M98l0DiKq/WxFOboivrr/i63XP3VWxvxG2R4sNP7O/mpeYbt8Rtb8H5LLU8c22v+K4VPG7c7i/UiFoFrIEur8ZxdV1Zoq7v4W171nwBb2/oyLr/B2Cvr9Jl6NsNvu/vzzIwkJzPsC/86KfPjwqvr/3Wq9teuWxv/PrcDzrj6A/8Waqs5x8yT8IDMzpNlHcP3PPX41Y0Og/jsXb7/V68z9niL4WT7j7P3oFs1O95v8/Oq5GdqWl/D9otRvYhfr2PxDbJ5GO/PA/4vNYbd3R5z/7rSFhrbTgPzBjbQD0g9Y/95r1lGLoxj9H7Bj56hqFP8z3QrdNp7u/fkhsNfN9yL+VkeXq6LTQv0W8lgzXFdK/vHloJ5wA0L+VW4OMurXLv6b7MZSwwsm/GyQrXOIKx7/f0EoQZHPCv/XkUHV+QL2/HHvVTr0DuL8BIEpbLCqzvy6fwbP4pa6/8S7k//iMqb9KBg7VhTmlv+jzvuKKOqG/vnWEJ4Klm78Yi+EVgeSVv0MtFzsrs5C/xhpjZB8diL8zb/aDkcl/v+y6sURSkHG/10Er1WHjU78ngvJewMlZP3HzR4FX5XA/St+d1A2Pej8lfAIvkrmBPy36H23X3IU/KlnZNHK6iT9HrF3Ei0aNP2XlVaVGS5A/PwCpTZzckT/HVNv8qE6TP+VXBOMGmpQ/N+tURS3XlT/XmDDKzgOXP92j/zHp+Zc/jhmw/ce2mD+9H+Lfmk2ZP64QWxzD05k/zmdILmJMmj9aAYgyibeaP29SlvYNGZs/\",\"dtype\":\"float64\",\"shape\":[75]},\"y\":{\"__ndarray__\":\"GhExyth1ND/Sv8nbtpRIP2vylNV0PVE/aTum7souWD/At0SJ8fVgPw3Iuahxymc/MSNhhJWvcD/bTfBN02d3P2zb5nxnaoA/CD5h5MAGhz8NmeH1TyaQP+zrCsc9p5Y/LbKd76fGnz/bLW5ISEmmPww9YvTcQq8/JV2OstnstT8Er5Y7M8G+P0c+r3jqkcU/5h99k6ZBzj88bCIzFzjVP4enV8oyxN0//yH99nXg5D8qOpLLf0jtP5kqGJXUifQ/c9cS8kHP/D+/DpwzojQEQIEmwoanVwxA4lgXt9HgE0BSSZ2AJuIbQAMJih9jjiNA5q4l5INuK0AwTKYKRj0zQNv5fmq8/DpAaCJseHrtQkB/+zpwzoxKQM3MzMzMeFJAZmZmZmZqWEAAAAAAAFxeQM3MzMzMJmJAmpmZmZkfZUBmZmZmZhhoQDMzMzMzEWtAAAAAAAAKbkBmZmZmZoFwQM3MzMzM/XFAMzMzMzN6c0CamZmZmfZ0QAAAAAAAc3ZAZmZmZmbvd0DNzMzMzGt5QDMzMzMz6HpAmpmZmZlkfEAAAAAAAOF9QGZmZmZmXX9AZmZmZuZsgECamZmZGSuBQM3MzMxM6YFAAAAAAICngkAzMzMzs2WDQGZmZmbmI4RAmpmZmRnihEDNzMzMTKCFQAAAAACAXoZAMzMzM7Mch0BmZmZm5tqHQJqZmZkZmYhAzczMzExXiUAAAAAAgBWKQDMzMzOz04pAZmZmZuaRi0CamZmZGVCMQM3MzMxMDo1AAAAAAIDMjUAzMzMzs4qOQGZmZmbmSI9A\",\"dtype\":\"float64\",\"shape\":[75]}},\"selected\":{\"id\":\"628dd09b-14fc-4861-b9b8-112cc7f832a4\",\"type\":\"Selection\"},\"selection_policy\":{\"id\":\"164f803e-0106-4e43-a0ce-f3a0a3e2409a\",\"type\":\"UnionRenderers\"}},\"id\":\"6d4e4258-b1de-42b6-98eb-aa1fef988cd1\",\"type\":\"ColumnDataSource\"},{\"attributes\":{},\"id\":\"0e6b3e9f-7260-42b9-9078-01719bf18598\",\"type\":\"LinearScale\"},{\"attributes\":{\"items\":[{\"id\":\"76bfacb9-5174-4cd7-92b2-6967a601da5c\",\"type\":\"LegendItem\"},{\"id\":\"22de67a8-9e97-43c3-be6a-e93833a09bdb\",\"type\":\"LegendItem\"}],\"label_text_font_size\":{\"value\":\"8pt\"},\"location\":\"top_center\",\"orientation\":\"horizontal\",\"plot\":{\"id\":\"dd484aef-ad0d-4c7d-a193-675d06440b56\",\"subtype\":\"Figure\",\"type\":\"Plot\"}},\"id\":\"658fe7e1-6dac-4ca5-af0f-7c0c1404a60d\",\"type\":\"Legend\"},{\"attributes\":{\"source\":{\"id\":\"6d4e4258-b1de-42b6-98eb-aa1fef988cd1\",\"type\":\"ColumnDataSource\"}},\"id\":\"7527733a-9817-4517-ae3e-d70d1ecea608\",\"type\":\"CDSView\"},{\"attributes\":{\"fill_alpha\":{\"value\":0.7},\"fill_color\":{\"value\":\"#4daf4a\"},\"line_alpha\":{\"value\":0.7},\"line_color\":{\"value\":\"#4daf4a\"},\"x\":{\"field\":\"x\"},\"y\":{\"field\":\"y\"}},\"id\":\"5de8788b-09ba-4f07-93e5-4487adaa23c3\",\"type\":\"Circle\"},{\"attributes\":{\"callback\":null,\"end\":0.01,\"start\":1020},\"id\":\"c35b67d3-1164-4549-b2e0-398466057f61\",\"type\":\"Range1d\"},{\"attributes\":{\"line_color\":\"#4daf4a\",\"line_width\":1.5,\"x\":{\"field\":\"x\"},\"y\":{\"field\":\"y\"}},\"id\":\"df92f4cb-61b3-48c3-a81a-0f4ee2c90d5a\",\"type\":\"Line\"},{\"attributes\":{\"line_color\":\"#4daf4a\",\"line_width\":1.5,\"x\":{\"field\":\"x\"},\"y\":{\"field\":\"y\"}},\"id\":\"d754e24d-b975-447a-9c00-a5269f19f4b5\",\"type\":\"Line\"},{\"attributes\":{\"above\":[{\"id\":\"61d0aaef-5a7a-4164-b706-be4f8fb8a665\",\"type\":\"Legend\"}],\"below\":[{\"id\":\"42a6c414-4de8-4d51-9e4c-641ebeecd4be\",\"type\":\"LinearAxis\"}],\"left\":[{\"id\":\"333b1f10-ab08-4b89-b312-34e1f7fbcbb0\",\"type\":\"LinearAxis\"}],\"plot_width\":300,\"renderers\":[{\"id\":\"42a6c414-4de8-4d51-9e4c-641ebeecd4be\",\"type\":\"LinearAxis\"},{\"id\":\"388c0242-56dd-4f72-b725-2850f7cf833e\",\"type\":\"Grid\"},{\"id\":\"333b1f10-ab08-4b89-b312-34e1f7fbcbb0\",\"type\":\"LinearAxis\"},{\"id\":\"90f7b430-bcb2-4d24-80fb-df066f3f572b\",\"type\":\"Grid\"},{\"id\":\"e0924e68-f24d-42a3-91fa-ac7166406470\",\"type\":\"BoxAnnotation\"},{\"id\":\"7e08f3b1-16e9-41d9-ae1f-99a03666ff64\",\"type\":\"GlyphRenderer\"},{\"id\":\"ff4c0044-e0b6-416b-9595-3a9708453f47\",\"type\":\"GlyphRenderer\"},{\"id\":\"f3e4792e-9aa6-4449-909a-8d760b190ed8\",\"type\":\"GlyphRenderer\"},{\"id\":\"61d0aaef-5a7a-4164-b706-be4f8fb8a665\",\"type\":\"Legend\"}],\"title\":{\"id\":\"6ca217d3-4935-4273-88eb-7872ab30542f\",\"type\":\"Title\"},\"toolbar\":{\"id\":\"5d5b3bb2-4488-470f-9d2f-e5906e7d17c1\",\"type\":\"Toolbar\"},\"toolbar_location\":null,\"x_range\":{\"id\":\"7372a67f-22bd-41e2-9d99-94a90fd4a631\",\"type\":\"Range1d\"},\"x_scale\":{\"id\":\"0e6b3e9f-7260-42b9-9078-01719bf18598\",\"type\":\"LinearScale\"},\"y_range\":{\"id\":\"d316d555-c391-43a2-8a63-2d4f66bd38c0\",\"type\":\"Range1d\"},\"y_scale\":{\"id\":\"2fd28ecc-0231-4fbf-a1f7-8a1f864bcce1\",\"type\":\"LinearScale\"}},\"id\":\"847fcf12-bef2-42f5-a6c5-37392083b53c\",\"subtype\":\"Figure\",\"type\":\"Plot\"},{\"attributes\":{\"axis_label\":\"cooling rate [K/day]\",\"formatter\":{\"id\":\"64da3719-93ee-474d-a1ef-a277cb997447\",\"type\":\"BasicTickFormatter\"},\"plot\":{\"id\":\"15922ba3-d54b-4549-8d78-459a7b64d1d9\",\"subtype\":\"Figure\",\"type\":\"Plot\"},\"ticker\":{\"id\":\"b3e3131d-e999-4f75-b850-dfa0d2b9b34f\",\"type\":\"BasicTicker\"}},\"id\":\"c8a1d65d-9c2c-45ff-8ec8-f275c8980326\",\"type\":\"LinearAxis\"},{\"attributes\":{\"fill_alpha\":{\"value\":0.1},\"fill_color\":{\"value\":\"#1f77b4\"},\"line_alpha\":{\"value\":0.1},\"line_color\":{\"value\":\"#1f77b4\"},\"x\":{\"field\":\"x\"},\"y\":{\"field\":\"y\"}},\"id\":\"30aa0bb0-c8ef-43b0-83f2-fdaaa38d93eb\",\"type\":\"Circle\"},{\"attributes\":{\"items\":[{\"id\":\"4384d8d5-4a6b-4e05-91b3-16f7c3c42c95\",\"type\":\"LegendItem\"},{\"id\":\"0a81f408-66a5-4471-8467-3bb702048044\",\"type\":\"LegendItem\"}],\"label_text_font_size\":{\"value\":\"8pt\"},\"location\":\"top_center\",\"orientation\":\"horizontal\",\"plot\":{\"id\":\"847fcf12-bef2-42f5-a6c5-37392083b53c\",\"subtype\":\"Figure\",\"type\":\"Plot\"}},\"id\":\"61d0aaef-5a7a-4164-b706-be4f8fb8a665\",\"type\":\"Legend\"},{\"attributes\":{\"label\":{\"value\":\"CLIRAD\"},\"renderers\":[{\"id\":\"7e08f3b1-16e9-41d9-ae1f-99a03666ff64\",\"type\":\"GlyphRenderer\"}]},\"id\":\"4384d8d5-4a6b-4e05-91b3-16f7c3c42c95\",\"type\":\"LegendItem\"},{\"attributes\":{\"plot\":{\"id\":\"847fcf12-bef2-42f5-a6c5-37392083b53c\",\"subtype\":\"Figure\",\"type\":\"Plot\"},\"ticker\":{\"id\":\"f1df3fb1-6abc-494b-8277-808c35d047a4\",\"type\":\"BasicTicker\"}},\"id\":\"388c0242-56dd-4f72-b725-2850f7cf833e\",\"type\":\"Grid\"},{\"attributes\":{\"callback\":null,\"data\":{\"x\":{\"__ndarray__\":\"/oJPBlb0o78esCxKaTOmv2M98l0DiKq/WxFOboivrr/i63XP3VWxvxG2R4sNP7O/mpeYbt8Rtb8H5LLU8c22v+K4VPG7c7i/UiFoFrIEur8ZxdV1Zoq7v4W171nwBb2/oyLr/B2Cvr9Jl6NsNvu/vzzIwkJzPsC/86KfPjwqvr/3Wq9teuWxv/PrcDzrj6A/8Waqs5x8yT8IDMzpNlHcP3PPX41Y0Og/jsXb7/V68z9niL4WT7j7P3oFs1O95v8/Oq5GdqWl/D9otRvYhfr2PxDbJ5GO/PA/4vNYbd3R5z/7rSFhrbTgPzBjbQD0g9Y/95r1lGLoxj9H7Bj56hqFP8z3QrdNp7u/fkhsNfN9yL+VkeXq6LTQv0W8lgzXFdK/vHloJ5wA0L+VW4OMurXLv6b7MZSwwsm/GyQrXOIKx7/f0EoQZHPCv/XkUHV+QL2/HHvVTr0DuL8BIEpbLCqzvy6fwbP4pa6/8S7k//iMqb9KBg7VhTmlv+jzvuKKOqG/vnWEJ4Klm78Yi+EVgeSVv0MtFzsrs5C/xhpjZB8diL8zb/aDkcl/v+y6sURSkHG/10Er1WHjU78ngvJewMlZP3HzR4FX5XA/St+d1A2Pej8lfAIvkrmBPy36H23X3IU/KlnZNHK6iT9HrF3Ei0aNP2XlVaVGS5A/PwCpTZzckT/HVNv8qE6TP+VXBOMGmpQ/N+tURS3XlT/XmDDKzgOXP92j/zHp+Zc/jhmw/ce2mD+9H+Lfmk2ZP64QWxzD05k/zmdILmJMmj9aAYgyibeaP29SlvYNGZs/\",\"dtype\":\"float64\",\"shape\":[75]},\"y\":{\"__ndarray__\":\"GhExyth1ND/Sv8nbtpRIP2vylNV0PVE/aTum7souWD/At0SJ8fVgPw3Iuahxymc/MSNhhJWvcD/bTfBN02d3P2zb5nxnaoA/CD5h5MAGhz8NmeH1TyaQP+zrCsc9p5Y/LbKd76fGnz/bLW5ISEmmPww9YvTcQq8/JV2OstnstT8Er5Y7M8G+P0c+r3jqkcU/5h99k6ZBzj88bCIzFzjVP4enV8oyxN0//yH99nXg5D8qOpLLf0jtP5kqGJXUifQ/c9cS8kHP/D+/DpwzojQEQIEmwoanVwxA4lgXt9HgE0BSSZ2AJuIbQAMJih9jjiNA5q4l5INuK0AwTKYKRj0zQNv5fmq8/DpAaCJseHrtQkB/+zpwzoxKQM3MzMzMeFJAZmZmZmZqWEAAAAAAAFxeQM3MzMzMJmJAmpmZmZkfZUBmZmZmZhhoQDMzMzMzEWtAAAAAAAAKbkBmZmZmZoFwQM3MzMzM/XFAMzMzMzN6c0CamZmZmfZ0QAAAAAAAc3ZAZmZmZmbvd0DNzMzMzGt5QDMzMzMz6HpAmpmZmZlkfEAAAAAAAOF9QGZmZmZmXX9AZmZmZuZsgECamZmZGSuBQM3MzMxM6YFAAAAAAICngkAzMzMzs2WDQGZmZmbmI4RAmpmZmRnihEDNzMzMTKCFQAAAAACAXoZAMzMzM7Mch0BmZmZm5tqHQJqZmZkZmYhAzczMzExXiUAAAAAAgBWKQDMzMzOz04pAZmZmZuaRi0CamZmZGVCMQM3MzMxMDo1AAAAAAIDMjUAzMzMzs4qOQGZmZmbmSI9A\",\"dtype\":\"float64\",\"shape\":[75]}},\"selected\":{\"id\":\"3c9f25d0-2796-411d-8151-245d437e1f50\",\"type\":\"Selection\"},\"selection_policy\":{\"id\":\"fb61ff82-ef9c-4238-88e6-7a52569cbf5e\",\"type\":\"UnionRenderers\"}},\"id\":\"b6fb96af-297c-463c-8a18-a3c44f6e4321\",\"type\":\"ColumnDataSource\"},{\"attributes\":{\"source\":{\"id\":\"a4593799-054e-44df-9ee8-ad18271ac6bf\",\"type\":\"ColumnDataSource\"}},\"id\":\"e9eb7838-faf5-46d3-a458-6101776d3709\",\"type\":\"CDSView\"},{\"attributes\":{\"source\":{\"id\":\"b6fb96af-297c-463c-8a18-a3c44f6e4321\",\"type\":\"ColumnDataSource\"}},\"id\":\"8393ac33-3c35-4197-a814-7c6464c0afa3\",\"type\":\"CDSView\"},{\"attributes\":{\"callback\":null,\"data\":{\"x\":{\"__ndarray__\":\"0tsO3yFmn7+9VDut342hvyOiI00N5KS/kV0mlE00qL8/ZWcFF22rv+S526DUha6/KAm1VOHBsL8bsSrKaS6yv0qxtqyvjbO/vcATkFzZtL/Xr9fKHha2v4oPE9EjRbe/gXKYHyJluL+dkFXVUnO5vyBtcO7Dybm/pSjK2MEyuL+s4L96kqatv1wrul3UaZo/KcvpQs6ixT/eLk9YqsXYP3o86+2/SeY/0sBp2iDP8T8MJnKR97v5P6X7/hJHlv4/tOXOvi9+/D/fMhyJSO32PwpFQjfP2fA/mRdt1kYW6D+sX5zhRbbhPxlMy/Xja9k/U0u7IzQvzD9Li49PltehPzNkT5f4rbm/APWZsc6Ryb9K4Byuc2LSvzmgEuFBstS/qALrUfaa0r888j+FEfvPv/1h/3HX9sy/WnoKOiITyb/uJrwLIpjDvzWixvx2nb6/hfCKHAnNuL98DeyCJYmzv7Fq9lG4366/a+E91xt0qb/5XDDMn+Kkv5B6hJ1BvKC/JtewV7B3mr+ywXpvJ5iUv2V2ZmVesY6/HdMhtcNohb8S23geeX96v/bnZUXS+mi/+LfV2Q2hBL/lkifVKN9lP6UEFlMTCHU/sKiQWHVQfj+/uJYQXWSDP/1J+QWoTYc/iePHzAbvij+ipQoFujmOPzR0PNZmpZA/bKuoDhsWkj/qXrXJEmaTP0ZqU4IQkZQ/ymolHQiulT+Gxi8dCr6WP8se3yQSoJc/QT0DgnRNmD+pCLWnfNiYPxhs7/PxU5k/YRDXARbAmT9+Uszipx+aPzG4HdkOdJo/\",\"dtype\":\"float64\",\"shape\":[75]},\"y\":{\"__ndarray__\":\"GhExyth1ND/Sv8nbtpRIP2vylNV0PVE/aTum7souWD/At0SJ8fVgPw3Iuahxymc/MSNhhJWvcD/bTfBN02d3P2zb5nxnaoA/CD5h5MAGhz8NmeH1TyaQP+zrCsc9p5Y/LbKd76fGnz/bLW5ISEmmPww9YvTcQq8/JV2OstnstT8Er5Y7M8G+P0c+r3jqkcU/5h99k6ZBzj88bCIzFzjVP4enV8oyxN0//yH99nXg5D8qOpLLf0jtP5kqGJXUifQ/c9cS8kHP/D+/DpwzojQEQIEmwoanVwxA4lgXt9HgE0BSSZ2AJuIbQAMJih9jjiNA5q4l5INuK0AwTKYKRj0zQNv5fmq8/DpAaCJseHrtQkB/+zpwzoxKQM3MzMzMeFJAZmZmZmZqWEAAAAAAAFxeQM3MzMzMJmJAmpmZmZkfZUBmZmZmZhhoQDMzMzMzEWtAAAAAAAAKbkBmZmZmZoFwQM3MzMzM/XFAMzMzMzN6c0CamZmZmfZ0QAAAAAAAc3ZAZmZmZmbvd0DNzMzMzGt5QDMzMzMz6HpAmpmZmZlkfEAAAAAAAOF9QGZmZmZmXX9AZmZmZuZsgECamZmZGSuBQM3MzMxM6YFAAAAAAICngkAzMzMzs2WDQGZmZmbmI4RAmpmZmRnihEDNzMzMTKCFQAAAAACAXoZAMzMzM7Mch0BmZmZm5tqHQJqZmZkZmYhAzczMzExXiUAAAAAAgBWKQDMzMzOz04pAZmZmZuaRi0CamZmZGVCMQM3MzMxMDo1AAAAAAIDMjUAzMzMzs4qOQGZmZmbmSI9A\",\"dtype\":\"float64\",\"shape\":[75]}},\"selected\":{\"id\":\"b4b0be5e-6f90-4ffe-9ab5-9a4de7efe10c\",\"type\":\"Selection\"},\"selection_policy\":{\"id\":\"d6a56cae-f1eb-4b53-a47d-a8e9e76ae1a2\",\"type\":\"UnionRenderers\"}},\"id\":\"a4593799-054e-44df-9ee8-ad18271ac6bf\",\"type\":\"ColumnDataSource\"},{\"attributes\":{\"ticker\":null},\"id\":\"2c15ceb2-dd7b-4690-a829-1d35920a9016\",\"type\":\"LogTickFormatter\"},{\"attributes\":{\"dimension\":1,\"plot\":{\"id\":\"847fcf12-bef2-42f5-a6c5-37392083b53c\",\"subtype\":\"Figure\",\"type\":\"Plot\"},\"ticker\":{\"id\":\"455f4f34-a3d1-4c7a-a0da-5263a234285c\",\"type\":\"BasicTicker\"}},\"id\":\"90f7b430-bcb2-4d24-80fb-df066f3f572b\",\"type\":\"Grid\"},{\"attributes\":{\"line_alpha\":0.6,\"line_color\":\"#e41a1c\",\"line_dash\":[6],\"line_width\":5,\"x\":{\"field\":\"x\"},\"y\":{\"field\":\"y\"}},\"id\":\"da85231c-a3c6-4fad-88d8-88442f1b710d\",\"type\":\"Line\"},{\"attributes\":{\"callback\":null,\"data\":{\"x\":{\"__ndarray__\":\"/oJPBlb0o78esCxKaTOmv2M98l0DiKq/WxFOboivrr/i63XP3VWxvxG2R4sNP7O/mpeYbt8Rtb8H5LLU8c22v+K4VPG7c7i/UiFoFrIEur8ZxdV1Zoq7v4W171nwBb2/oyLr/B2Cvr9Jl6NsNvu/vzzIwkJzPsC/86KfPjwqvr/3Wq9teuWxv/PrcDzrj6A/8Waqs5x8yT8IDMzpNlHcP3PPX41Y0Og/jsXb7/V68z9niL4WT7j7P3oFs1O95v8/Oq5GdqWl/D9otRvYhfr2PxDbJ5GO/PA/4vNYbd3R5z/7rSFhrbTgPzBjbQD0g9Y/95r1lGLoxj9H7Bj56hqFP8z3QrdNp7u/fkhsNfN9yL+VkeXq6LTQv0W8lgzXFdK/vHloJ5wA0L+VW4OMurXLv6b7MZSwwsm/GyQrXOIKx7/f0EoQZHPCv/XkUHV+QL2/HHvVTr0DuL8BIEpbLCqzvy6fwbP4pa6/8S7k//iMqb9KBg7VhTmlv+jzvuKKOqG/vnWEJ4Klm78Yi+EVgeSVv0MtFzsrs5C/xhpjZB8diL8zb/aDkcl/v+y6sURSkHG/10Er1WHjU78ngvJewMlZP3HzR4FX5XA/St+d1A2Pej8lfAIvkrmBPy36H23X3IU/KlnZNHK6iT9HrF3Ei0aNP2XlVaVGS5A/PwCpTZzckT/HVNv8qE6TP+VXBOMGmpQ/N+tURS3XlT/XmDDKzgOXP92j/zHp+Zc/jhmw/ce2mD+9H+Lfmk2ZP64QWxzD05k/zmdILmJMmj9aAYgyibeaP29SlvYNGZs/\",\"dtype\":\"float64\",\"shape\":[75]},\"y\":{\"__ndarray__\":\"GhExyth1ND/Sv8nbtpRIP2vylNV0PVE/aTum7souWD/At0SJ8fVgPw3Iuahxymc/MSNhhJWvcD/bTfBN02d3P2zb5nxnaoA/CD5h5MAGhz8NmeH1TyaQP+zrCsc9p5Y/LbKd76fGnz/bLW5ISEmmPww9YvTcQq8/JV2OstnstT8Er5Y7M8G+P0c+r3jqkcU/5h99k6ZBzj88bCIzFzjVP4enV8oyxN0//yH99nXg5D8qOpLLf0jtP5kqGJXUifQ/c9cS8kHP/D+/DpwzojQEQIEmwoanVwxA4lgXt9HgE0BSSZ2AJuIbQAMJih9jjiNA5q4l5INuK0AwTKYKRj0zQNv5fmq8/DpAaCJseHrtQkB/+zpwzoxKQM3MzMzMeFJAZmZmZmZqWEAAAAAAAFxeQM3MzMzMJmJAmpmZmZkfZUBmZmZmZhhoQDMzMzMzEWtAAAAAAAAKbkBmZmZmZoFwQM3MzMzM/XFAMzMzMzN6c0CamZmZmfZ0QAAAAAAAc3ZAZmZmZmbvd0DNzMzMzGt5QDMzMzMz6HpAmpmZmZlkfEAAAAAAAOF9QGZmZmZmXX9AZmZmZuZsgECamZmZGSuBQM3MzMxM6YFAAAAAAICngkAzMzMzs2WDQGZmZmbmI4RAmpmZmRnihEDNzMzMTKCFQAAAAACAXoZAMzMzM7Mch0BmZmZm5tqHQJqZmZkZmYhAzczMzExXiUAAAAAAgBWKQDMzMzOz04pAZmZmZuaRi0CamZmZGVCMQM3MzMxMDo1AAAAAAIDMjUAzMzMzs4qOQGZmZmbmSI9A\",\"dtype\":\"float64\",\"shape\":[75]}},\"selected\":{\"id\":\"682fdaaf-553f-4062-a56f-700761597550\",\"type\":\"Selection\"},\"selection_policy\":{\"id\":\"9d252737-2cda-498d-9824-da55a7ab2e9a\",\"type\":\"UnionRenderers\"}},\"id\":\"b761a789-f5d7-4517-84bf-c8aa48f1409f\",\"type\":\"ColumnDataSource\"},{\"attributes\":{\"line_alpha\":0.1,\"line_color\":\"#1f77b4\",\"line_width\":1.5,\"x\":{\"field\":\"x\"},\"y\":{\"field\":\"y\"}},\"id\":\"932cc44f-4a43-4b11-b9ee-bc1cc88ed697\",\"type\":\"Line\"},{\"attributes\":{\"data_source\":{\"id\":\"b761a789-f5d7-4517-84bf-c8aa48f1409f\",\"type\":\"ColumnDataSource\"},\"glyph\":{\"id\":\"d754e24d-b975-447a-9c00-a5269f19f4b5\",\"type\":\"Line\"},\"hover_glyph\":null,\"muted_glyph\":null,\"nonselection_glyph\":{\"id\":\"932cc44f-4a43-4b11-b9ee-bc1cc88ed697\",\"type\":\"Line\"},\"selection_glyph\":null,\"view\":{\"id\":\"0241d6c7-415c-492e-bfbd-f53ffa02211d\",\"type\":\"CDSView\"}},\"id\":\"3f1a247a-df3f-4128-bafc-fa243d6db2a4\",\"type\":\"GlyphRenderer\"},{\"attributes\":{\"source\":{\"id\":\"b761a789-f5d7-4517-84bf-c8aa48f1409f\",\"type\":\"ColumnDataSource\"}},\"id\":\"0241d6c7-415c-492e-bfbd-f53ffa02211d\",\"type\":\"CDSView\"},{\"attributes\":{\"label\":{\"value\":\"CLIRAD\"},\"renderers\":[{\"id\":\"dcbaa1c1-9e73-4681-98c7-ef8b4f78a0b2\",\"type\":\"GlyphRenderer\"}]},\"id\":\"76bfacb9-5174-4cd7-92b2-6967a601da5c\",\"type\":\"LegendItem\"},{\"attributes\":{\"label\":{\"value\":\"CRD\"},\"renderers\":[{\"id\":\"baeda092-c8f6-44d8-9b12-b5942668cb90\",\"type\":\"GlyphRenderer\"},{\"id\":\"3f1a247a-df3f-4128-bafc-fa243d6db2a4\",\"type\":\"GlyphRenderer\"}]},\"id\":\"22de67a8-9e97-43c3-be6a-e93833a09bdb\",\"type\":\"LegendItem\"},{\"attributes\":{\"bottom_units\":\"screen\",\"fill_alpha\":{\"value\":0.5},\"fill_color\":{\"value\":\"lightgrey\"},\"left_units\":\"screen\",\"level\":\"overlay\",\"line_alpha\":{\"value\":1.0},\"line_color\":{\"value\":\"black\"},\"line_dash\":[4,4],\"line_width\":{\"value\":2},\"plot\":null,\"render_mode\":\"css\",\"right_units\":\"screen\",\"top_units\":\"screen\"},\"id\":\"95b4d6d0-62e9-4948-ab03-466d8ebb5e33\",\"type\":\"BoxAnnotation\"},{\"attributes\":{},\"id\":\"02b25e0d-e3ff-495b-a348-b8b16bdefa94\",\"type\":\"PanTool\"},{\"attributes\":{},\"id\":\"8afa5d0d-41ea-48de-a0bd-3cc951a21c66\",\"type\":\"SaveTool\"},{\"attributes\":{},\"id\":\"b4ff4c28-7d42-456f-9508-4f94a3c57c2c\",\"type\":\"BasicTickFormatter\"},{\"attributes\":{\"data_source\":{\"id\":\"93ca44ba-877e-4812-8f72-0fad999d1c48\",\"type\":\"ColumnDataSource\"},\"glyph\":{\"id\":\"8e4876c0-2525-426f-b558-d88f21ec2e39\",\"type\":\"Circle\"},\"hover_glyph\":null,\"muted_glyph\":null,\"nonselection_glyph\":{\"id\":\"46cbdea1-acae-42cc-8940-31faf4d75de4\",\"type\":\"Circle\"},\"selection_glyph\":null,\"view\":{\"id\":\"64f2abca-fd33-46ae-b794-f200c55c1c6b\",\"type\":\"CDSView\"}},\"id\":\"89405402-52ae-4417-8dd3-8d4540a16476\",\"type\":\"GlyphRenderer\"},{\"attributes\":{\"line_alpha\":0.6,\"line_color\":\"#e41a1c\",\"line_dash\":[6],\"line_width\":5,\"x\":{\"field\":\"x\"},\"y\":{\"field\":\"y\"}},\"id\":\"835efd84-cd6f-4671-9e87-3958134c9d43\",\"type\":\"Line\"},{\"attributes\":{},\"id\":\"56e32a7a-cd26-4a93-9312-4895ffb7cd72\",\"type\":\"ResetTool\"},{\"attributes\":{},\"id\":\"a2ec0998-27e5-4d2e-b7dc-3543296b2cba\",\"type\":\"HelpTool\"},{\"attributes\":{\"overlay\":{\"id\":\"95b4d6d0-62e9-4948-ab03-466d8ebb5e33\",\"type\":\"BoxAnnotation\"}},\"id\":\"5710da43-d977-401f-8b7d-836caccd4429\",\"type\":\"BoxZoomTool\"},{\"attributes\":{},\"id\":\"13f0c428-134b-40d1-aee2-9d1d3706bfe7\",\"type\":\"WheelZoomTool\"},{\"attributes\":{\"fill_alpha\":{\"value\":0.1},\"fill_color\":{\"value\":\"#1f77b4\"},\"line_alpha\":{\"value\":0.1},\"line_color\":{\"value\":\"#1f77b4\"},\"x\":{\"field\":\"x\"},\"y\":{\"field\":\"y\"}},\"id\":\"46cbdea1-acae-42cc-8940-31faf4d75de4\",\"type\":\"Circle\"},{\"attributes\":{\"source\":{\"id\":\"93ca44ba-877e-4812-8f72-0fad999d1c48\",\"type\":\"ColumnDataSource\"}},\"id\":\"64f2abca-fd33-46ae-b794-f200c55c1c6b\",\"type\":\"CDSView\"}],\"root_ids\":[\"7c7962cc-a8cd-48b4-b1c9-727836a00323\"]},\"title\":\"Bokeh Application\",\"version\":\"0.12.16\"}};\n",
       "  var render_items = [{\"docid\":\"266d58c9-4263-4828-9e7d-78f25cbf188e\",\"elementid\":\"a6cb0459-79be-4deb-9db2-e69e569295a9\",\"modelid\":\"7c7962cc-a8cd-48b4-b1c9-727836a00323\"}];\n",
       "  root.Bokeh.embed.embed_items_notebook(docs_json, render_items);\n",
       "\n",
       "  }\n",
       "  if (root.Bokeh !== undefined) {\n",
       "    embed_document(root);\n",
       "  } else {\n",
       "    var attempts = 0;\n",
       "    var timer = setInterval(function(root) {\n",
       "      if (root.Bokeh !== undefined) {\n",
       "        embed_document(root);\n",
       "        clearInterval(timer);\n",
       "      }\n",
       "      attempts++;\n",
       "      if (attempts > 100) {\n",
       "        console.log(\"Bokeh: ERROR: Unable to run BokehJS code because BokehJS library is missing\")\n",
       "        clearInterval(timer);\n",
       "      }\n",
       "    }, 10, root)\n",
       "  }\n",
       "})(window);"
      ],
      "application/vnd.bokehjs_exec.v0+json": ""
     },
     "metadata": {
      "application/vnd.bokehjs_exec.v0+json": {
       "id": "7c7962cc-a8cd-48b4-b1c9-727836a00323"
      }
     },
     "output_type": "display_data"
    },
    {
     "data": {
      "text/markdown": [
       "*FIGURE.* Cooling rates & difference."
      ],
      "text/plain": [
       "<IPython.core.display.Markdown object>"
      ]
     },
     "metadata": {},
     "output_type": "display_data"
    },
    {
     "data": {
      "text/html": [
       "<a id=\"Fluxes._mls.\"></a>"
      ],
      "text/plain": [
       "<IPython.core.display.HTML object>"
      ]
     },
     "metadata": {},
     "output_type": "display_data"
    },
    {
     "data": {
      "text/markdown": [
       "# Fluxes. mls."
      ],
      "text/plain": [
       "<IPython.core.display.Markdown object>"
      ]
     },
     "metadata": {},
     "output_type": "display_data"
    },
    {
     "data": {
      "text/html": [
       "\n",
       "<div class=\"bk-root\">\n",
       "    <div class=\"bk-plotdiv\" id=\"b6add89b-3687-4677-bd24-faefab75049c\"></div>\n",
       "</div>"
      ]
     },
     "metadata": {},
     "output_type": "display_data"
    },
    {
     "data": {
      "application/javascript": [
       "(function(root) {\n",
       "  function embed_document(root) {\n",
       "    \n",
       "  var docs_json = {\"103397ea-9c8c-4c76-9473-5fd18f619552\":{\"roots\":{\"references\":[{\"attributes\":{\"active_drag\":\"auto\",\"active_inspect\":\"auto\",\"active_scroll\":\"auto\",\"active_tap\":\"auto\",\"tools\":[{\"id\":\"6c3909fe-047d-44b5-9c03-810ebc89a862\",\"type\":\"PanTool\"},{\"id\":\"87ca4ee1-77bd-406b-a52b-85354c613c51\",\"type\":\"WheelZoomTool\"},{\"id\":\"dc0e39fb-544f-4f03-8f3b-ba31bc2c9fe7\",\"type\":\"BoxZoomTool\"},{\"id\":\"30faa62c-ba24-433b-af68-0ec5354d5e21\",\"type\":\"SaveTool\"},{\"id\":\"4dd475a8-82ac-4a6e-a64f-167b5345d87b\",\"type\":\"ResetTool\"},{\"id\":\"ba89ac2f-e19d-4376-80ba-82e2d7532fd6\",\"type\":\"HelpTool\"}]},\"id\":\"f31ebf8d-b72d-44e6-8d08-7a924715fbbd\",\"type\":\"Toolbar\"},{\"attributes\":{\"plot\":null,\"text\":\"Atmosphere heating. CLIRAD - CRD.\"},\"id\":\"e1c84ad4-63ee-4d8a-bb8f-cbf900aa16a7\",\"type\":\"Title\"},{\"attributes\":{\"plot\":{\"id\":\"c518b51e-22de-4d5d-aef8-9c02f343569c\",\"subtype\":\"Figure\",\"type\":\"Plot\"},\"ticker\":{\"id\":\"227db385-a51c-4339-acc0-094e2042bba6\",\"type\":\"CategoricalTicker\"}},\"id\":\"84226be8-a355-40b9-945e-5b90177aa4d8\",\"type\":\"Grid\"},{\"attributes\":{\"active_drag\":\"auto\",\"active_inspect\":\"auto\",\"active_scroll\":\"auto\",\"active_tap\":\"auto\",\"tools\":[{\"id\":\"58747a6f-8980-4e20-8a86-d255d8bdfeee\",\"type\":\"PanTool\"},{\"id\":\"e5ff09bd-ac47-41c9-ab53-43c467ff74bc\",\"type\":\"WheelZoomTool\"},{\"id\":\"c91eeb71-91dd-4c7b-a56c-070b90afdbcb\",\"type\":\"BoxZoomTool\"},{\"id\":\"6407a2c9-3322-4f0c-afec-60fddca95233\",\"type\":\"SaveTool\"},{\"id\":\"cc52bf10-819e-4870-8fd0-bdd717ca5d92\",\"type\":\"ResetTool\"},{\"id\":\"c2d22c07-a9a9-438c-9b61-88cba5ab9929\",\"type\":\"HelpTool\"}]},\"id\":\"75c716da-3905-47b9-875f-d54ea8c37dff\",\"type\":\"Toolbar\"},{\"attributes\":{\"callback\":null,\"data\":{\"band\":[\"7\"],\"flux\":{\"__ndarray__\":\"AIfXmlIDrr8=\",\"dtype\":\"float64\",\"shape\":[1]}},\"selected\":{\"id\":\"b4b5be14-0850-41e7-921d-7ee227a3e29c\",\"type\":\"Selection\"},\"selection_policy\":{\"id\":\"c6044be2-79c7-4fac-8b07-ab4c9427cfc1\",\"type\":\"UnionRenderers\"}},\"id\":\"73a26de9-cb26-43dd-a950-94f01e84ae78\",\"type\":\"ColumnDataSource\"},{\"attributes\":{},\"id\":\"d70e4efe-4557-44fd-858d-df7b60f0fa51\",\"type\":\"CategoricalTicker\"},{\"attributes\":{\"below\":[{\"id\":\"dbffdc65-089c-4a19-ad42-44c502e060cf\",\"type\":\"CategoricalAxis\"}],\"left\":[{\"id\":\"6c005a50-4198-4106-904b-fa86935e8e49\",\"type\":\"LinearAxis\"}],\"plot_height\":300,\"plot_width\":300,\"renderers\":[{\"id\":\"dbffdc65-089c-4a19-ad42-44c502e060cf\",\"type\":\"CategoricalAxis\"},{\"id\":\"a78c2639-602c-46ef-b22e-0dd87469d35b\",\"type\":\"Grid\"},{\"id\":\"6c005a50-4198-4106-904b-fa86935e8e49\",\"type\":\"LinearAxis\"},{\"id\":\"d596ecf0-9143-4556-b944-779734ade026\",\"type\":\"Grid\"},{\"id\":\"9ea9a129-980c-4c34-b484-27a038da45c0\",\"type\":\"BoxAnnotation\"},{\"id\":\"ed55ac1f-ea07-43c1-893c-d4528681fce6\",\"type\":\"GlyphRenderer\"}],\"title\":{\"id\":\"e1c84ad4-63ee-4d8a-bb8f-cbf900aa16a7\",\"type\":\"Title\"},\"toolbar\":{\"id\":\"75c716da-3905-47b9-875f-d54ea8c37dff\",\"type\":\"Toolbar\"},\"toolbar_location\":null,\"x_range\":{\"id\":\"c386fa44-2d22-42ca-afda-1cdb8d34066e\",\"type\":\"FactorRange\"},\"x_scale\":{\"id\":\"231e5b93-9a4d-4360-8cdd-4ff8b51bd334\",\"type\":\"CategoricalScale\"},\"y_range\":{\"id\":\"c6d4c824-1ed4-4e5b-abef-daddbf8d2e9d\",\"type\":\"DataRange1d\"},\"y_scale\":{\"id\":\"d5a4cd99-c67b-4edb-8410-2af0816f4d26\",\"type\":\"LinearScale\"}},\"id\":\"4b4a47be-f293-460a-80a8-dd83fe2ef7ef\",\"subtype\":\"Figure\",\"type\":\"Plot\"},{\"attributes\":{\"callback\":null,\"factors\":[\"7\"]},\"id\":\"c386fa44-2d22-42ca-afda-1cdb8d34066e\",\"type\":\"FactorRange\"},{\"attributes\":{},\"id\":\"6fdf00b2-34b9-4da6-b2d6-3264ccdcaadb\",\"type\":\"BasicTickFormatter\"},{\"attributes\":{\"below\":[{\"id\":\"4fc41e21-4a39-4816-8d13-581057d7a272\",\"type\":\"CategoricalAxis\"}],\"left\":[{\"id\":\"bf430df8-55df-443c-ae33-4eaa2c12fad9\",\"type\":\"LinearAxis\"}],\"plot_height\":300,\"plot_width\":300,\"renderers\":[{\"id\":\"4fc41e21-4a39-4816-8d13-581057d7a272\",\"type\":\"CategoricalAxis\"},{\"id\":\"82d0f4a9-3657-47c4-aa00-b8640f9f1a68\",\"type\":\"Grid\"},{\"id\":\"bf430df8-55df-443c-ae33-4eaa2c12fad9\",\"type\":\"LinearAxis\"},{\"id\":\"d0c86641-3ce4-42d6-bae3-ba484cd752bc\",\"type\":\"Grid\"},{\"id\":\"0c67da37-1024-4a37-a2ea-d2ff702cee14\",\"type\":\"BoxAnnotation\"},{\"id\":\"dcf30631-6ed7-460f-97ce-ef1e214089ea\",\"type\":\"GlyphRenderer\"}],\"title\":{\"id\":\"c9e16833-0025-44ae-a8dd-4a685bbb700b\",\"type\":\"Title\"},\"toolbar\":{\"id\":\"f31ebf8d-b72d-44e6-8d08-7a924715fbbd\",\"type\":\"Toolbar\"},\"toolbar_location\":null,\"x_range\":{\"id\":\"f923ff25-aa52-4c6e-8b97-53942e4f6729\",\"type\":\"FactorRange\"},\"x_scale\":{\"id\":\"903fe97c-8cde-47fc-a55d-eff565ef2d3c\",\"type\":\"CategoricalScale\"},\"y_range\":{\"id\":\"53e50cab-2291-46ed-b897-2f9d4540c736\",\"type\":\"DataRange1d\"},\"y_scale\":{\"id\":\"48c7de96-7ee9-4673-a1d4-72246c599c02\",\"type\":\"LinearScale\"}},\"id\":\"dcec0303-ed9e-461a-8d27-d12dbe9ce612\",\"subtype\":\"Figure\",\"type\":\"Plot\"},{\"attributes\":{},\"id\":\"ae7e27ab-dadc-4609-972c-6f69999147e3\",\"type\":\"HelpTool\"},{\"attributes\":{\"callback\":null,\"factors\":[\"7\"]},\"id\":\"76f1827e-bbbd-4a08-bf3c-7942e62b46d3\",\"type\":\"FactorRange\"},{\"attributes\":{},\"id\":\"6509247b-261f-4163-a2c3-b93eff132102\",\"type\":\"CategoricalTickFormatter\"},{\"attributes\":{\"callback\":null},\"id\":\"53e50cab-2291-46ed-b897-2f9d4540c736\",\"type\":\"DataRange1d\"},{\"attributes\":{},\"id\":\"c6044be2-79c7-4fac-8b07-ab4c9427cfc1\",\"type\":\"UnionRenderers\"},{\"attributes\":{\"dimension\":1,\"plot\":{\"id\":\"c518b51e-22de-4d5d-aef8-9c02f343569c\",\"subtype\":\"Figure\",\"type\":\"Plot\"},\"ticker\":{\"id\":\"0f1b0103-8dab-4b3b-91d6-456f283dcd63\",\"type\":\"BasicTicker\"}},\"id\":\"5bcb8ca3-953d-4752-af86-9fee7023302d\",\"type\":\"Grid\"},{\"attributes\":{},\"id\":\"7370b50f-87d8-4fa8-a5ed-fc22d0ead8d6\",\"type\":\"Selection\"},{\"attributes\":{},\"id\":\"4dd475a8-82ac-4a6e-a64f-167b5345d87b\",\"type\":\"ResetTool\"},{\"attributes\":{},\"id\":\"ba89ac2f-e19d-4376-80ba-82e2d7532fd6\",\"type\":\"HelpTool\"},{\"attributes\":{},\"id\":\"d5a4cd99-c67b-4edb-8410-2af0816f4d26\",\"type\":\"LinearScale\"},{\"attributes\":{\"source\":{\"id\":\"73a26de9-cb26-43dd-a950-94f01e84ae78\",\"type\":\"ColumnDataSource\"}},\"id\":\"418390b0-0e4f-41c7-98a9-d2aac2b8bf86\",\"type\":\"CDSView\"},{\"attributes\":{},\"id\":\"cb1348a1-bf23-45d5-962b-4101f2578c57\",\"type\":\"WheelZoomTool\"},{\"attributes\":{},\"id\":\"30faa62c-ba24-433b-af68-0ec5354d5e21\",\"type\":\"SaveTool\"},{\"attributes\":{},\"id\":\"0f1b0103-8dab-4b3b-91d6-456f283dcd63\",\"type\":\"BasicTicker\"},{\"attributes\":{\"fill_color\":{\"value\":\"#1f77b4\"},\"line_color\":{\"value\":\"#1f77b4\"},\"top\":{\"field\":\"flux\"},\"width\":{\"value\":0.9},\"x\":{\"field\":\"band\"}},\"id\":\"be24b7ad-8b0a-4f86-ad86-741d51e84414\",\"type\":\"VBar\"},{\"attributes\":{\"tools\":[{\"id\":\"6c3909fe-047d-44b5-9c03-810ebc89a862\",\"type\":\"PanTool\"},{\"id\":\"87ca4ee1-77bd-406b-a52b-85354c613c51\",\"type\":\"WheelZoomTool\"},{\"id\":\"dc0e39fb-544f-4f03-8f3b-ba31bc2c9fe7\",\"type\":\"BoxZoomTool\"},{\"id\":\"30faa62c-ba24-433b-af68-0ec5354d5e21\",\"type\":\"SaveTool\"},{\"id\":\"4dd475a8-82ac-4a6e-a64f-167b5345d87b\",\"type\":\"ResetTool\"},{\"id\":\"ba89ac2f-e19d-4376-80ba-82e2d7532fd6\",\"type\":\"HelpTool\"},{\"id\":\"cf8c0925-e657-41b7-8460-f703f2ac1967\",\"type\":\"PanTool\"},{\"id\":\"cb1348a1-bf23-45d5-962b-4101f2578c57\",\"type\":\"WheelZoomTool\"},{\"id\":\"eaf7079b-9c27-4816-b44f-d17cecfb3dd6\",\"type\":\"BoxZoomTool\"},{\"id\":\"0153d223-45dd-4361-86fd-954d231e7157\",\"type\":\"SaveTool\"},{\"id\":\"c8d95f1d-b20e-41a6-8387-87c1de6d98a3\",\"type\":\"ResetTool\"},{\"id\":\"ae7e27ab-dadc-4609-972c-6f69999147e3\",\"type\":\"HelpTool\"},{\"id\":\"58747a6f-8980-4e20-8a86-d255d8bdfeee\",\"type\":\"PanTool\"},{\"id\":\"e5ff09bd-ac47-41c9-ab53-43c467ff74bc\",\"type\":\"WheelZoomTool\"},{\"id\":\"c91eeb71-91dd-4c7b-a56c-070b90afdbcb\",\"type\":\"BoxZoomTool\"},{\"id\":\"6407a2c9-3322-4f0c-afec-60fddca95233\",\"type\":\"SaveTool\"},{\"id\":\"cc52bf10-819e-4870-8fd0-bdd717ca5d92\",\"type\":\"ResetTool\"},{\"id\":\"c2d22c07-a9a9-438c-9b61-88cba5ab9929\",\"type\":\"HelpTool\"}]},\"id\":\"c31651de-46ab-44b8-911d-6a859aaef7a3\",\"type\":\"ProxyToolbar\"},{\"attributes\":{\"callback\":null,\"data\":{\"band\":[\"7\"],\"flux\":{\"__ndarray__\":\"gBU1mIbh2T8=\",\"dtype\":\"float64\",\"shape\":[1]}},\"selected\":{\"id\":\"8b96c6e5-3f2b-4704-ab04-9ec62c5a1bc4\",\"type\":\"Selection\"},\"selection_policy\":{\"id\":\"ac63d1d1-6f45-4931-8001-8e01f6ee00fc\",\"type\":\"UnionRenderers\"}},\"id\":\"c1984ea9-6046-44a4-8ebd-ff4324537527\",\"type\":\"ColumnDataSource\"},{\"attributes\":{\"data_source\":{\"id\":\"c1984ea9-6046-44a4-8ebd-ff4324537527\",\"type\":\"ColumnDataSource\"},\"glyph\":{\"id\":\"d69137c8-1cc4-4ffb-9e1f-0fbf37e1b08c\",\"type\":\"VBar\"},\"hover_glyph\":null,\"muted_glyph\":null,\"nonselection_glyph\":{\"id\":\"17a29844-d1ff-41fa-b768-63aebc34495c\",\"type\":\"VBar\"},\"selection_glyph\":null,\"view\":{\"id\":\"dc4f227c-e145-414c-92d3-203f6b351736\",\"type\":\"CDSView\"}},\"id\":\"dcf30631-6ed7-460f-97ce-ef1e214089ea\",\"type\":\"GlyphRenderer\"},{\"attributes\":{\"children\":[{\"id\":\"475b3afc-3e2f-4b64-a463-def9b6c0e7ef\",\"type\":\"Row\"}]},\"id\":\"ff4fa08f-f5b3-4eb0-8cd8-459a98306049\",\"type\":\"Column\"},{\"attributes\":{},\"id\":\"6c3909fe-047d-44b5-9c03-810ebc89a862\",\"type\":\"PanTool\"},{\"attributes\":{},\"id\":\"231e5b93-9a4d-4360-8cdd-4ff8b51bd334\",\"type\":\"CategoricalScale\"},{\"attributes\":{},\"id\":\"87ca4ee1-77bd-406b-a52b-85354c613c51\",\"type\":\"WheelZoomTool\"},{\"attributes\":{\"axis_label\":\"spectral band\",\"formatter\":{\"id\":\"849f8085-d589-4721-8e76-c3b4490afb75\",\"type\":\"CategoricalTickFormatter\"},\"plot\":{\"id\":\"c518b51e-22de-4d5d-aef8-9c02f343569c\",\"subtype\":\"Figure\",\"type\":\"Plot\"},\"ticker\":{\"id\":\"227db385-a51c-4339-acc0-094e2042bba6\",\"type\":\"CategoricalTicker\"}},\"id\":\"c3c35367-3afa-4320-a124-a2778695d8b6\",\"type\":\"CategoricalAxis\"},{\"attributes\":{},\"id\":\"227db385-a51c-4339-acc0-094e2042bba6\",\"type\":\"CategoricalTicker\"},{\"attributes\":{},\"id\":\"b4b5be14-0850-41e7-921d-7ee227a3e29c\",\"type\":\"Selection\"},{\"attributes\":{\"axis_label\":\"spectral band\",\"formatter\":{\"id\":\"b323bffd-d59f-4b41-b7f9-b77eef15475d\",\"type\":\"CategoricalTickFormatter\"},\"plot\":{\"id\":\"dcec0303-ed9e-461a-8d27-d12dbe9ce612\",\"subtype\":\"Figure\",\"type\":\"Plot\"},\"ticker\":{\"id\":\"05eed8e0-206f-44a8-8194-211c6e2f1583\",\"type\":\"CategoricalTicker\"}},\"id\":\"4fc41e21-4a39-4816-8d13-581057d7a272\",\"type\":\"CategoricalAxis\"},{\"attributes\":{},\"id\":\"05eed8e0-206f-44a8-8194-211c6e2f1583\",\"type\":\"CategoricalTicker\"},{\"attributes\":{},\"id\":\"48c7de96-7ee9-4673-a1d4-72246c599c02\",\"type\":\"LinearScale\"},{\"attributes\":{\"axis_label\":\"flux (W m-2)\",\"formatter\":{\"id\":\"43967e5a-74c4-479a-808d-da396c1fda2f\",\"type\":\"BasicTickFormatter\"},\"plot\":{\"id\":\"c518b51e-22de-4d5d-aef8-9c02f343569c\",\"subtype\":\"Figure\",\"type\":\"Plot\"},\"ticker\":{\"id\":\"0f1b0103-8dab-4b3b-91d6-456f283dcd63\",\"type\":\"BasicTicker\"}},\"id\":\"18656110-ef25-49ee-ae5e-8670b8815903\",\"type\":\"LinearAxis\"},{\"attributes\":{\"axis_label\":\"spectral band\",\"formatter\":{\"id\":\"6509247b-261f-4163-a2c3-b93eff132102\",\"type\":\"CategoricalTickFormatter\"},\"plot\":{\"id\":\"4b4a47be-f293-460a-80a8-dd83fe2ef7ef\",\"subtype\":\"Figure\",\"type\":\"Plot\"},\"ticker\":{\"id\":\"d70e4efe-4557-44fd-858d-df7b60f0fa51\",\"type\":\"CategoricalTicker\"}},\"id\":\"dbffdc65-089c-4a19-ad42-44c502e060cf\",\"type\":\"CategoricalAxis\"},{\"attributes\":{\"dimension\":1,\"plot\":{\"id\":\"dcec0303-ed9e-461a-8d27-d12dbe9ce612\",\"subtype\":\"Figure\",\"type\":\"Plot\"},\"ticker\":{\"id\":\"8d123b9b-246f-4d94-9e02-1e9a449dcb92\",\"type\":\"BasicTicker\"}},\"id\":\"d0c86641-3ce4-42d6-bae3-ba484cd752bc\",\"type\":\"Grid\"},{\"attributes\":{\"fill_alpha\":{\"value\":0.1},\"fill_color\":{\"value\":\"#1f77b4\"},\"line_alpha\":{\"value\":0.1},\"line_color\":{\"value\":\"#1f77b4\"},\"top\":{\"field\":\"flux\"},\"width\":{\"value\":0.9},\"x\":{\"field\":\"band\"}},\"id\":\"abd406ea-afa1-462b-aeef-711fe911353b\",\"type\":\"VBar\"},{\"attributes\":{\"callback\":null},\"id\":\"c6d4c824-1ed4-4e5b-abef-daddbf8d2e9d\",\"type\":\"DataRange1d\"},{\"attributes\":{},\"id\":\"849f8085-d589-4721-8e76-c3b4490afb75\",\"type\":\"CategoricalTickFormatter\"},{\"attributes\":{\"fill_color\":{\"value\":\"#1f77b4\"},\"line_color\":{\"value\":\"#1f77b4\"},\"top\":{\"field\":\"flux\"},\"width\":{\"value\":0.9},\"x\":{\"field\":\"band\"}},\"id\":\"110f21c2-868b-448f-9e05-423d15ee9ac6\",\"type\":\"VBar\"},{\"attributes\":{\"source\":{\"id\":\"2efafa68-b8e9-443f-ae7e-fa47ab7575a7\",\"type\":\"ColumnDataSource\"}},\"id\":\"f93863f7-9fd2-485f-a26a-20c8532bffe2\",\"type\":\"CDSView\"},{\"attributes\":{\"toolbar\":{\"id\":\"c31651de-46ab-44b8-911d-6a859aaef7a3\",\"type\":\"ProxyToolbar\"},\"toolbar_location\":\"above\"},\"id\":\"02324daa-7038-4ca6-89d9-36418f0762b3\",\"type\":\"ToolbarBox\"},{\"attributes\":{\"fill_color\":{\"value\":\"#1f77b4\"},\"line_color\":{\"value\":\"#1f77b4\"},\"top\":{\"field\":\"flux\"},\"width\":{\"value\":0.9},\"x\":{\"field\":\"band\"}},\"id\":\"d69137c8-1cc4-4ffb-9e1f-0fbf37e1b08c\",\"type\":\"VBar\"},{\"attributes\":{\"plot\":null,\"text\":\"SFC flux. CLIRAD - CRD.\"},\"id\":\"def72b6d-3541-455f-a3d3-7f81d9a01439\",\"type\":\"Title\"},{\"attributes\":{\"active_drag\":\"auto\",\"active_inspect\":\"auto\",\"active_scroll\":\"auto\",\"active_tap\":\"auto\",\"tools\":[{\"id\":\"cf8c0925-e657-41b7-8460-f703f2ac1967\",\"type\":\"PanTool\"},{\"id\":\"cb1348a1-bf23-45d5-962b-4101f2578c57\",\"type\":\"WheelZoomTool\"},{\"id\":\"eaf7079b-9c27-4816-b44f-d17cecfb3dd6\",\"type\":\"BoxZoomTool\"},{\"id\":\"0153d223-45dd-4361-86fd-954d231e7157\",\"type\":\"SaveTool\"},{\"id\":\"c8d95f1d-b20e-41a6-8387-87c1de6d98a3\",\"type\":\"ResetTool\"},{\"id\":\"ae7e27ab-dadc-4609-972c-6f69999147e3\",\"type\":\"HelpTool\"}]},\"id\":\"1c4c81e8-ba62-40e8-b06d-f9c75112cbde\",\"type\":\"Toolbar\"},{\"attributes\":{},\"id\":\"8d123b9b-246f-4d94-9e02-1e9a449dcb92\",\"type\":\"BasicTicker\"},{\"attributes\":{},\"id\":\"6407a2c9-3322-4f0c-afec-60fddca95233\",\"type\":\"SaveTool\"},{\"attributes\":{},\"id\":\"b323bffd-d59f-4b41-b7f9-b77eef15475d\",\"type\":\"CategoricalTickFormatter\"},{\"attributes\":{},\"id\":\"c2d22c07-a9a9-438c-9b61-88cba5ab9929\",\"type\":\"HelpTool\"},{\"attributes\":{\"plot\":null,\"text\":\"TOA flux. CLIRAD - CRD.\"},\"id\":\"c9e16833-0025-44ae-a8dd-4a685bbb700b\",\"type\":\"Title\"},{\"attributes\":{\"callback\":null,\"data\":{\"band\":[\"7\"],\"flux\":{\"__ndarray__\":\"wPRpFf2h3T8=\",\"dtype\":\"float64\",\"shape\":[1]}},\"selected\":{\"id\":\"7370b50f-87d8-4fa8-a5ed-fc22d0ead8d6\",\"type\":\"Selection\"},\"selection_policy\":{\"id\":\"083c79cd-573b-41a3-8501-4e3856613555\",\"type\":\"UnionRenderers\"}},\"id\":\"2efafa68-b8e9-443f-ae7e-fa47ab7575a7\",\"type\":\"ColumnDataSource\"},{\"attributes\":{\"axis_label\":\"flux (W m-2)\",\"formatter\":{\"id\":\"6fdf00b2-34b9-4da6-b2d6-3264ccdcaadb\",\"type\":\"BasicTickFormatter\"},\"plot\":{\"id\":\"dcec0303-ed9e-461a-8d27-d12dbe9ce612\",\"subtype\":\"Figure\",\"type\":\"Plot\"},\"ticker\":{\"id\":\"8d123b9b-246f-4d94-9e02-1e9a449dcb92\",\"type\":\"BasicTicker\"}},\"id\":\"bf430df8-55df-443c-ae33-4eaa2c12fad9\",\"type\":\"LinearAxis\"},{\"attributes\":{\"below\":[{\"id\":\"c3c35367-3afa-4320-a124-a2778695d8b6\",\"type\":\"CategoricalAxis\"}],\"left\":[{\"id\":\"18656110-ef25-49ee-ae5e-8670b8815903\",\"type\":\"LinearAxis\"}],\"plot_height\":300,\"plot_width\":300,\"renderers\":[{\"id\":\"c3c35367-3afa-4320-a124-a2778695d8b6\",\"type\":\"CategoricalAxis\"},{\"id\":\"84226be8-a355-40b9-945e-5b90177aa4d8\",\"type\":\"Grid\"},{\"id\":\"18656110-ef25-49ee-ae5e-8670b8815903\",\"type\":\"LinearAxis\"},{\"id\":\"5bcb8ca3-953d-4752-af86-9fee7023302d\",\"type\":\"Grid\"},{\"id\":\"0177b64c-0483-45db-b8b6-d7063bd437b8\",\"type\":\"BoxAnnotation\"},{\"id\":\"0353d19d-e446-44b3-a00c-f8f3cdcdf8ef\",\"type\":\"GlyphRenderer\"}],\"title\":{\"id\":\"def72b6d-3541-455f-a3d3-7f81d9a01439\",\"type\":\"Title\"},\"toolbar\":{\"id\":\"1c4c81e8-ba62-40e8-b06d-f9c75112cbde\",\"type\":\"Toolbar\"},\"toolbar_location\":null,\"x_range\":{\"id\":\"76f1827e-bbbd-4a08-bf3c-7942e62b46d3\",\"type\":\"FactorRange\"},\"x_scale\":{\"id\":\"43f45e89-8495-4871-84f1-837ecf20fe93\",\"type\":\"CategoricalScale\"},\"y_range\":{\"id\":\"0c8c23b4-56d4-4970-94b3-e5c190ac6528\",\"type\":\"DataRange1d\"},\"y_scale\":{\"id\":\"0c7ab187-2aa4-458b-bb92-e6b3312e571c\",\"type\":\"LinearScale\"}},\"id\":\"c518b51e-22de-4d5d-aef8-9c02f343569c\",\"subtype\":\"Figure\",\"type\":\"Plot\"},{\"attributes\":{\"plot\":{\"id\":\"dcec0303-ed9e-461a-8d27-d12dbe9ce612\",\"subtype\":\"Figure\",\"type\":\"Plot\"},\"ticker\":{\"id\":\"05eed8e0-206f-44a8-8194-211c6e2f1583\",\"type\":\"CategoricalTicker\"}},\"id\":\"82d0f4a9-3657-47c4-aa00-b8640f9f1a68\",\"type\":\"Grid\"},{\"attributes\":{},\"id\":\"ac63d1d1-6f45-4931-8001-8e01f6ee00fc\",\"type\":\"UnionRenderers\"},{\"attributes\":{\"bottom_units\":\"screen\",\"fill_alpha\":{\"value\":0.5},\"fill_color\":{\"value\":\"lightgrey\"},\"left_units\":\"screen\",\"level\":\"overlay\",\"line_alpha\":{\"value\":1.0},\"line_color\":{\"value\":\"black\"},\"line_dash\":[4,4],\"line_width\":{\"value\":2},\"plot\":null,\"render_mode\":\"css\",\"right_units\":\"screen\",\"top_units\":\"screen\"},\"id\":\"0c67da37-1024-4a37-a2ea-d2ff702cee14\",\"type\":\"BoxAnnotation\"},{\"attributes\":{\"overlay\":{\"id\":\"0c67da37-1024-4a37-a2ea-d2ff702cee14\",\"type\":\"BoxAnnotation\"}},\"id\":\"dc0e39fb-544f-4f03-8f3b-ba31bc2c9fe7\",\"type\":\"BoxZoomTool\"},{\"attributes\":{\"overlay\":{\"id\":\"9ea9a129-980c-4c34-b484-27a038da45c0\",\"type\":\"BoxAnnotation\"}},\"id\":\"c91eeb71-91dd-4c7b-a56c-070b90afdbcb\",\"type\":\"BoxZoomTool\"},{\"attributes\":{},\"id\":\"cc52bf10-819e-4870-8fd0-bdd717ca5d92\",\"type\":\"ResetTool\"},{\"attributes\":{},\"id\":\"903fe97c-8cde-47fc-a55d-eff565ef2d3c\",\"type\":\"CategoricalScale\"},{\"attributes\":{},\"id\":\"083c79cd-573b-41a3-8501-4e3856613555\",\"type\":\"UnionRenderers\"},{\"attributes\":{},\"id\":\"e5ff09bd-ac47-41c9-ab53-43c467ff74bc\",\"type\":\"WheelZoomTool\"},{\"attributes\":{\"callback\":null},\"id\":\"0c8c23b4-56d4-4970-94b3-e5c190ac6528\",\"type\":\"DataRange1d\"},{\"attributes\":{},\"id\":\"8b96c6e5-3f2b-4704-ab04-9ec62c5a1bc4\",\"type\":\"Selection\"},{\"attributes\":{\"plot\":{\"id\":\"4b4a47be-f293-460a-80a8-dd83fe2ef7ef\",\"subtype\":\"Figure\",\"type\":\"Plot\"},\"ticker\":{\"id\":\"d70e4efe-4557-44fd-858d-df7b60f0fa51\",\"type\":\"CategoricalTicker\"}},\"id\":\"a78c2639-602c-46ef-b22e-0dd87469d35b\",\"type\":\"Grid\"},{\"attributes\":{},\"id\":\"84ff588b-7910-45fd-9ba3-bc734fddb73a\",\"type\":\"BasicTickFormatter\"},{\"attributes\":{},\"id\":\"cf8c0925-e657-41b7-8460-f703f2ac1967\",\"type\":\"PanTool\"},{\"attributes\":{},\"id\":\"58747a6f-8980-4e20-8a86-d255d8bdfeee\",\"type\":\"PanTool\"},{\"attributes\":{\"children\":[{\"id\":\"dcec0303-ed9e-461a-8d27-d12dbe9ce612\",\"subtype\":\"Figure\",\"type\":\"Plot\"},{\"id\":\"c518b51e-22de-4d5d-aef8-9c02f343569c\",\"subtype\":\"Figure\",\"type\":\"Plot\"},{\"id\":\"4b4a47be-f293-460a-80a8-dd83fe2ef7ef\",\"subtype\":\"Figure\",\"type\":\"Plot\"}]},\"id\":\"475b3afc-3e2f-4b64-a463-def9b6c0e7ef\",\"type\":\"Row\"},{\"attributes\":{},\"id\":\"0153d223-45dd-4361-86fd-954d231e7157\",\"type\":\"SaveTool\"},{\"attributes\":{\"fill_alpha\":{\"value\":0.1},\"fill_color\":{\"value\":\"#1f77b4\"},\"line_alpha\":{\"value\":0.1},\"line_color\":{\"value\":\"#1f77b4\"},\"top\":{\"field\":\"flux\"},\"width\":{\"value\":0.9},\"x\":{\"field\":\"band\"}},\"id\":\"17a29844-d1ff-41fa-b768-63aebc34495c\",\"type\":\"VBar\"},{\"attributes\":{\"data_source\":{\"id\":\"2efafa68-b8e9-443f-ae7e-fa47ab7575a7\",\"type\":\"ColumnDataSource\"},\"glyph\":{\"id\":\"be24b7ad-8b0a-4f86-ad86-741d51e84414\",\"type\":\"VBar\"},\"hover_glyph\":null,\"muted_glyph\":null,\"nonselection_glyph\":{\"id\":\"39ffbf31-0ac6-432f-9f35-325b7cd450f6\",\"type\":\"VBar\"},\"selection_glyph\":null,\"view\":{\"id\":\"f93863f7-9fd2-485f-a26a-20c8532bffe2\",\"type\":\"CDSView\"}},\"id\":\"ed55ac1f-ea07-43c1-893c-d4528681fce6\",\"type\":\"GlyphRenderer\"},{\"attributes\":{\"data_source\":{\"id\":\"73a26de9-cb26-43dd-a950-94f01e84ae78\",\"type\":\"ColumnDataSource\"},\"glyph\":{\"id\":\"110f21c2-868b-448f-9e05-423d15ee9ac6\",\"type\":\"VBar\"},\"hover_glyph\":null,\"muted_glyph\":null,\"nonselection_glyph\":{\"id\":\"abd406ea-afa1-462b-aeef-711fe911353b\",\"type\":\"VBar\"},\"selection_glyph\":null,\"view\":{\"id\":\"418390b0-0e4f-41c7-98a9-d2aac2b8bf86\",\"type\":\"CDSView\"}},\"id\":\"0353d19d-e446-44b3-a00c-f8f3cdcdf8ef\",\"type\":\"GlyphRenderer\"},{\"attributes\":{\"axis_label\":\"flux (W m-2)\",\"formatter\":{\"id\":\"84ff588b-7910-45fd-9ba3-bc734fddb73a\",\"type\":\"BasicTickFormatter\"},\"plot\":{\"id\":\"4b4a47be-f293-460a-80a8-dd83fe2ef7ef\",\"subtype\":\"Figure\",\"type\":\"Plot\"},\"ticker\":{\"id\":\"a9021384-eee8-45db-b482-f3f07d27ce17\",\"type\":\"BasicTicker\"}},\"id\":\"6c005a50-4198-4106-904b-fa86935e8e49\",\"type\":\"LinearAxis\"},{\"attributes\":{\"source\":{\"id\":\"c1984ea9-6046-44a4-8ebd-ff4324537527\",\"type\":\"ColumnDataSource\"}},\"id\":\"dc4f227c-e145-414c-92d3-203f6b351736\",\"type\":\"CDSView\"},{\"attributes\":{},\"id\":\"c8d95f1d-b20e-41a6-8387-87c1de6d98a3\",\"type\":\"ResetTool\"},{\"attributes\":{},\"id\":\"43f45e89-8495-4871-84f1-837ecf20fe93\",\"type\":\"CategoricalScale\"},{\"attributes\":{},\"id\":\"a9021384-eee8-45db-b482-f3f07d27ce17\",\"type\":\"BasicTicker\"},{\"attributes\":{\"fill_alpha\":{\"value\":0.1},\"fill_color\":{\"value\":\"#1f77b4\"},\"line_alpha\":{\"value\":0.1},\"line_color\":{\"value\":\"#1f77b4\"},\"top\":{\"field\":\"flux\"},\"width\":{\"value\":0.9},\"x\":{\"field\":\"band\"}},\"id\":\"39ffbf31-0ac6-432f-9f35-325b7cd450f6\",\"type\":\"VBar\"},{\"attributes\":{\"dimension\":1,\"plot\":{\"id\":\"4b4a47be-f293-460a-80a8-dd83fe2ef7ef\",\"subtype\":\"Figure\",\"type\":\"Plot\"},\"ticker\":{\"id\":\"a9021384-eee8-45db-b482-f3f07d27ce17\",\"type\":\"BasicTicker\"}},\"id\":\"d596ecf0-9143-4556-b944-779734ade026\",\"type\":\"Grid\"},{\"attributes\":{\"children\":[{\"id\":\"02324daa-7038-4ca6-89d9-36418f0762b3\",\"type\":\"ToolbarBox\"},{\"id\":\"ff4fa08f-f5b3-4eb0-8cd8-459a98306049\",\"type\":\"Column\"}]},\"id\":\"100163ec-fec1-4ce5-9ce4-5e707a178207\",\"type\":\"Column\"},{\"attributes\":{\"callback\":null,\"factors\":[\"7\"]},\"id\":\"f923ff25-aa52-4c6e-8b97-53942e4f6729\",\"type\":\"FactorRange\"},{\"attributes\":{\"overlay\":{\"id\":\"0177b64c-0483-45db-b8b6-d7063bd437b8\",\"type\":\"BoxAnnotation\"}},\"id\":\"eaf7079b-9c27-4816-b44f-d17cecfb3dd6\",\"type\":\"BoxZoomTool\"},{\"attributes\":{\"bottom_units\":\"screen\",\"fill_alpha\":{\"value\":0.5},\"fill_color\":{\"value\":\"lightgrey\"},\"left_units\":\"screen\",\"level\":\"overlay\",\"line_alpha\":{\"value\":1.0},\"line_color\":{\"value\":\"black\"},\"line_dash\":[4,4],\"line_width\":{\"value\":2},\"plot\":null,\"render_mode\":\"css\",\"right_units\":\"screen\",\"top_units\":\"screen\"},\"id\":\"9ea9a129-980c-4c34-b484-27a038da45c0\",\"type\":\"BoxAnnotation\"},{\"attributes\":{},\"id\":\"0c7ab187-2aa4-458b-bb92-e6b3312e571c\",\"type\":\"LinearScale\"},{\"attributes\":{},\"id\":\"43967e5a-74c4-479a-808d-da396c1fda2f\",\"type\":\"BasicTickFormatter\"},{\"attributes\":{\"bottom_units\":\"screen\",\"fill_alpha\":{\"value\":0.5},\"fill_color\":{\"value\":\"lightgrey\"},\"left_units\":\"screen\",\"level\":\"overlay\",\"line_alpha\":{\"value\":1.0},\"line_color\":{\"value\":\"black\"},\"line_dash\":[4,4],\"line_width\":{\"value\":2},\"plot\":null,\"render_mode\":\"css\",\"right_units\":\"screen\",\"top_units\":\"screen\"},\"id\":\"0177b64c-0483-45db-b8b6-d7063bd437b8\",\"type\":\"BoxAnnotation\"}],\"root_ids\":[\"100163ec-fec1-4ce5-9ce4-5e707a178207\"]},\"title\":\"Bokeh Application\",\"version\":\"0.12.16\"}};\n",
       "  var render_items = [{\"docid\":\"103397ea-9c8c-4c76-9473-5fd18f619552\",\"elementid\":\"b6add89b-3687-4677-bd24-faefab75049c\",\"modelid\":\"100163ec-fec1-4ce5-9ce4-5e707a178207\"}];\n",
       "  root.Bokeh.embed.embed_items_notebook(docs_json, render_items);\n",
       "\n",
       "  }\n",
       "  if (root.Bokeh !== undefined) {\n",
       "    embed_document(root);\n",
       "  } else {\n",
       "    var attempts = 0;\n",
       "    var timer = setInterval(function(root) {\n",
       "      if (root.Bokeh !== undefined) {\n",
       "        embed_document(root);\n",
       "        clearInterval(timer);\n",
       "      }\n",
       "      attempts++;\n",
       "      if (attempts > 100) {\n",
       "        console.log(\"Bokeh: ERROR: Unable to run BokehJS code because BokehJS library is missing\")\n",
       "        clearInterval(timer);\n",
       "      }\n",
       "    }, 10, root)\n",
       "  }\n",
       "})(window);"
      ],
      "application/vnd.bokehjs_exec.v0+json": ""
     },
     "metadata": {
      "application/vnd.bokehjs_exec.v0+json": {
       "id": "100163ec-fec1-4ce5-9ce4-5e707a178207"
      }
     },
     "output_type": "display_data"
    },
    {
     "data": {
      "text/markdown": [
       "*FIGURE.* Difference between CLIRAD and CRD in TOA, SFC and net atmosphere flux, in each spectral band."
      ],
      "text/plain": [
       "<IPython.core.display.Markdown object>"
      ]
     },
     "metadata": {},
     "output_type": "display_data"
    },
    {
     "data": {
      "text/html": [
       "<div>\n",
       "<style scoped>\n",
       "    .dataframe tbody tr th:only-of-type {\n",
       "        vertical-align: middle;\n",
       "    }\n",
       "\n",
       "    .dataframe tbody tr th {\n",
       "        vertical-align: top;\n",
       "    }\n",
       "\n",
       "    .dataframe thead th {\n",
       "        text-align: right;\n",
       "    }\n",
       "</style>\n",
       "<table border=\"1\" class=\"dataframe\">\n",
       "  <thead>\n",
       "    <tr style=\"text-align: right;\">\n",
       "      <th></th>\n",
       "      <th>OLR flux</th>\n",
       "      <th>SFC flux</th>\n",
       "      <th>ATM heating</th>\n",
       "    </tr>\n",
       "    <tr>\n",
       "      <th>Sum over bands</th>\n",
       "      <th></th>\n",
       "      <th></th>\n",
       "      <th></th>\n",
       "    </tr>\n",
       "  </thead>\n",
       "  <tbody>\n",
       "    <tr>\n",
       "      <th>CLIRAD - CRD</th>\n",
       "      <td>-391.88</td>\n",
       "      <td>-0.06</td>\n",
       "      <td>0.46</td>\n",
       "    </tr>\n",
       "    <tr>\n",
       "      <th>CRD</th>\n",
       "      <td>-23.05</td>\n",
       "      <td>4.35</td>\n",
       "      <td>3.96</td>\n",
       "    </tr>\n",
       "  </tbody>\n",
       "</table>\n",
       "</div>"
      ],
      "text/plain": [
       "                OLR flux  SFC flux  ATM heating\n",
       "Sum over bands                                 \n",
       "CLIRAD - CRD     -391.88     -0.06         0.46\n",
       "CRD               -23.05      4.35         3.96"
      ]
     },
     "metadata": {},
     "output_type": "display_data"
    },
    {
     "data": {
      "text/markdown": [
       "*TABLE.* Difference between CLIRAD and CRD in TOA, SFC and net atmosphere flux, over all spectral bands. CRD's TOA, SFC and net atmosphere flux, over all spectral bands."
      ],
      "text/plain": [
       "<IPython.core.display.Markdown object>"
      ]
     },
     "metadata": {},
     "output_type": "display_data"
    },
    {
     "data": {
      "text/html": [
       "<a id=\"Cooling_rates._saw.\"></a>"
      ],
      "text/plain": [
       "<IPython.core.display.HTML object>"
      ]
     },
     "metadata": {},
     "output_type": "display_data"
    },
    {
     "data": {
      "text/markdown": [
       "# Cooling rates. saw."
      ],
      "text/plain": [
       "<IPython.core.display.Markdown object>"
      ]
     },
     "metadata": {},
     "output_type": "display_data"
    },
    {
     "data": {
      "text/html": [
       "\n",
       "<div class=\"bk-root\">\n",
       "    <div class=\"bk-plotdiv\" id=\"9629959b-2c09-4919-8603-ac19b5fecd75\"></div>\n",
       "</div>"
      ]
     },
     "metadata": {},
     "output_type": "display_data"
    },
    {
     "data": {
      "application/javascript": [
       "(function(root) {\n",
       "  function embed_document(root) {\n",
       "    \n",
       "  var docs_json = {\"37f7086b-18c3-4342-870c-d84b120ef710\":{\"roots\":{\"references\":[{\"attributes\":{\"active_drag\":\"auto\",\"active_inspect\":\"auto\",\"active_scroll\":\"auto\",\"active_tap\":\"auto\",\"tools\":[{\"id\":\"8baebfc5-f1c1-42fb-a4b1-46fd0e2a4b34\",\"type\":\"PanTool\"},{\"id\":\"702b803d-5882-40db-abf3-c3942e8e0556\",\"type\":\"WheelZoomTool\"},{\"id\":\"e9953962-5a57-4402-a37e-8fe8734293f3\",\"type\":\"BoxZoomTool\"},{\"id\":\"181796fa-d72f-4c70-a38b-95a256c7bf4b\",\"type\":\"SaveTool\"},{\"id\":\"97d39bc6-7d22-447a-8bb5-af1f98fa569b\",\"type\":\"ResetTool\"},{\"id\":\"bf41e8f8-6cb9-4bd3-b513-f3bfd34c8e74\",\"type\":\"HelpTool\"}]},\"id\":\"905b2164-5ecc-42e1-be0b-f7714b5787c0\",\"type\":\"Toolbar\"},{\"attributes\":{\"source\":{\"id\":\"10e59fbc-9cdf-4272-9acc-7d94be54be9c\",\"type\":\"ColumnDataSource\"}},\"id\":\"d85ab568-4eef-49ec-a79f-12db18ede01b\",\"type\":\"CDSView\"},{\"attributes\":{\"callback\":null,\"data\":{\"x\":{\"__ndarray__\":\"rMG3ZXJekb/2+QBbo7qSv/41DUhVTZC/D8kaNFNqh7/lSC4nEQhqv5fxY8ZuMoM/OcLuudVomz/iIKFc23epPwazq6VqNLQ/W3f+srFzvT9upiI+2FzEPxcHX0MOGss/EilAlraD0T/IWMARGqHXP2CBTL5sfeA/QGFziggZ5j9MVEvnT1zsPyakCN6ym/E/qyHV3W9D9T8jVGSkQRH5Py+HGtZNt/w/boygQ9Jd/j9Apozfrbn6PwLL27AcffQ/R45Si1rs7T9iyiKfadLkP/dDRFgA3ts/E2DVoq4l0z90Y37rSKLNPxJrSInD4cY/rBSpmRR4wD+v+eWl2X2zP20trOWthqU/oekYnfDRmD9BDBZPOPRkv55RSEtJuqK/eb0uB0Njsb/+N2DGYG23v0plSzVn8bu/KL0F9PxIv78Gh7UhlDG+v0Us3e/+Fbq/mxsrll4Ntr8K9Vg7m6qxv/w4Z7s2E6u/FZHEaq4jo7/+zBLaVbKZv92k8zAfOZK/bprv5LHeib/xBgvrmU+BvwQMLlrmAHW/+ngoY5bAZr8hfU5UCxtRv0cWRILu6D4/j3Be6rTZXT95p5mcNsloP8u7jChetHA/VCFX0yhwdD9o5qubWKZ3PzpBDWxOWXo/gHyrC/R+fD/WYf+7sUJ+P7OMHicJun8/x13sV8xqgD+3azt2ftCAP8obW/y1NIE/EDQtNsWegT+yJXmTHOqBP0x6JgLf/YE/qcer9w/LgT/Gy8xt1EWBPzNa1BCigoA/sNN7v+ZCfz+4F5a8NW19P54HGdDvpns/\",\"dtype\":\"float64\",\"shape\":[75]},\"y\":{\"__ndarray__\":\"GhExyth1ND/Sv8nbtpRIP2vylNV0PVE/aTum7souWD/At0SJ8fVgPw3Iuahxymc/MSNhhJWvcD/bTfBN02d3P2zb5nxnaoA/CD5h5MAGhz8NmeH1TyaQP+zrCsc9p5Y/LbKd76fGnz/bLW5ISEmmPww9YvTcQq8/JV2OstnstT8Er5Y7M8G+P0c+r3jqkcU/5h99k6ZBzj88bCIzFzjVP4enV8oyxN0//yH99nXg5D8qOpLLf0jtP5kqGJXUifQ/c9cS8kHP/D+/DpwzojQEQIEmwoanVwxA4lgXt9HgE0BSSZ2AJuIbQAMJih9jjiNA5q4l5INuK0AwTKYKRj0zQNv5fmq8/DpAaCJseHrtQkB/+zpwzoxKQM3MzMzMeFJAZmZmZmZqWEAAAAAAAFxeQM3MzMzMJmJAmpmZmZkfZUBmZmZmZhhoQDMzMzMzEWtAAAAAAAAKbkBmZmZmZoFwQM3MzMzM/XFAMzMzMzN6c0CamZmZmfZ0QAAAAAAAc3ZAZmZmZmbvd0DNzMzMzGt5QDMzMzMz6HpAmpmZmZlkfEAAAAAAAOF9QGZmZmZmXX9AZmZmZuZsgECamZmZGSuBQM3MzMxM6YFAAAAAAICngkAzMzMzs2WDQGZmZmbmI4RAmpmZmRnihEDNzMzMTKCFQAAAAACAXoZAMzMzM7Mch0BmZmZm5tqHQJqZmZkZmYhAzczMzExXiUAAAAAAgBWKQDMzMzOz04pAZmZmZuaRi0CamZmZGVCMQM3MzMxMDo1AAAAAAIDMjUAzMzMzs4qOQGZmZmbmSI9A\",\"dtype\":\"float64\",\"shape\":[75]}},\"selected\":{\"id\":\"986b8463-e8b2-48ce-82b6-a1eb020e8bfe\",\"type\":\"Selection\"},\"selection_policy\":{\"id\":\"421ccb10-c645-441b-b6c0-9b22863065ef\",\"type\":\"UnionRenderers\"}},\"id\":\"56d275d8-4d58-4d06-8511-5270135e3bef\",\"type\":\"ColumnDataSource\"},{\"attributes\":{\"line_alpha\":0.6,\"line_color\":\"#e41a1c\",\"line_dash\":[6],\"line_width\":5,\"x\":{\"field\":\"x\"},\"y\":{\"field\":\"y\"}},\"id\":\"93383001-79f4-4ede-9a7d-b745b080db56\",\"type\":\"Line\"},{\"attributes\":{\"line_alpha\":0.1,\"line_color\":\"#1f77b4\",\"line_width\":1.5,\"x\":{\"field\":\"x\"},\"y\":{\"field\":\"y\"}},\"id\":\"3c8e2b65-9eda-449b-a9a3-d56129604c9b\",\"type\":\"Line\"},{\"attributes\":{\"data_source\":{\"id\":\"b310fbdc-3863-4fac-871c-3bd47c0e3150\",\"type\":\"ColumnDataSource\"},\"glyph\":{\"id\":\"d3ff8015-6f3c-4297-99bb-68d1241531dd\",\"type\":\"Line\"},\"hover_glyph\":null,\"muted_glyph\":null,\"nonselection_glyph\":{\"id\":\"3c8e2b65-9eda-449b-a9a3-d56129604c9b\",\"type\":\"Line\"},\"selection_glyph\":null,\"view\":{\"id\":\"40da7e02-aa7d-4e31-8663-2359cff54429\",\"type\":\"CDSView\"}},\"id\":\"e2ced9b7-a4d7-452c-ad68-5c3e44bbf381\",\"type\":\"GlyphRenderer\"},{\"attributes\":{\"callback\":null,\"end\":1.9872840545999886,\"start\":-0.14309351459886874},\"id\":\"be97422c-56c3-4c4c-9364-c5f0346dc910\",\"type\":\"Range1d\"},{\"attributes\":{},\"id\":\"109c5674-36d3-4894-95aa-31ec5aacebe0\",\"type\":\"HelpTool\"},{\"attributes\":{},\"id\":\"df9776a8-3866-4a5d-b935-09c1240f15ba\",\"type\":\"ResetTool\"},{\"attributes\":{\"overlay\":{\"id\":\"c40430b6-9a5b-4421-bd91-2eae493f106a\",\"type\":\"BoxAnnotation\"}},\"id\":\"3d7cea8e-37b8-4a36-b95b-40ac2f9d0cdd\",\"type\":\"BoxZoomTool\"},{\"attributes\":{},\"id\":\"328acc1f-5e41-4532-a608-f0d9e466a73e\",\"type\":\"WheelZoomTool\"},{\"attributes\":{},\"id\":\"51e0559c-888f-467e-9b64-a987bf14c902\",\"type\":\"SaveTool\"},{\"attributes\":{},\"id\":\"0329f0ca-e604-4cab-8202-fecba3c58610\",\"type\":\"PanTool\"},{\"attributes\":{\"bottom_units\":\"screen\",\"fill_alpha\":{\"value\":0.5},\"fill_color\":{\"value\":\"lightgrey\"},\"left_units\":\"screen\",\"level\":\"overlay\",\"line_alpha\":{\"value\":1.0},\"line_color\":{\"value\":\"black\"},\"line_dash\":[4,4],\"line_width\":{\"value\":2},\"plot\":null,\"render_mode\":\"css\",\"right_units\":\"screen\",\"top_units\":\"screen\"},\"id\":\"5d2084d1-a69e-4381-8b77-8ac7e944531f\",\"type\":\"BoxAnnotation\"},{\"attributes\":{\"bottom_units\":\"screen\",\"fill_alpha\":{\"value\":0.5},\"fill_color\":{\"value\":\"lightgrey\"},\"left_units\":\"screen\",\"level\":\"overlay\",\"line_alpha\":{\"value\":1.0},\"line_color\":{\"value\":\"black\"},\"line_dash\":[4,4],\"line_width\":{\"value\":2},\"plot\":null,\"render_mode\":\"css\",\"right_units\":\"screen\",\"top_units\":\"screen\"},\"id\":\"c40430b6-9a5b-4421-bd91-2eae493f106a\",\"type\":\"BoxAnnotation\"},{\"attributes\":{\"callback\":null,\"end\":0.01,\"start\":1020},\"id\":\"d3d8f8dd-8e2e-4258-a680-bba714213760\",\"type\":\"Range1d\"},{\"attributes\":{\"dimension\":1,\"plot\":{\"id\":\"4a782051-7408-4d10-96ff-6f38530ca685\",\"subtype\":\"Figure\",\"type\":\"Plot\"},\"ticker\":{\"id\":\"c29f5936-5d17-41ec-969e-539236438ec2\",\"type\":\"LogTicker\"}},\"id\":\"4287527d-ceba-443c-8325-33582c42eb5f\",\"type\":\"Grid\"},{\"attributes\":{\"line_alpha\":0.1,\"line_color\":\"#1f77b4\",\"line_dash\":[6],\"line_width\":5,\"x\":{\"field\":\"x\"},\"y\":{\"field\":\"y\"}},\"id\":\"166b41f7-3aaf-44f4-80dd-75d1b350f70a\",\"type\":\"Line\"},{\"attributes\":{\"num_minor_ticks\":10},\"id\":\"c29f5936-5d17-41ec-969e-539236438ec2\",\"type\":\"LogTicker\"},{\"attributes\":{},\"id\":\"173a7934-783a-4c49-8c28-7f9609529d15\",\"type\":\"LinearScale\"},{\"attributes\":{},\"id\":\"638a29c2-f652-435a-b393-9054c760be41\",\"type\":\"LogScale\"},{\"attributes\":{\"axis_label\":\"pressure [mb]\",\"formatter\":{\"id\":\"a094a93d-bdd1-41cb-b6c5-3318ea148bae\",\"type\":\"LogTickFormatter\"},\"plot\":{\"id\":\"4a782051-7408-4d10-96ff-6f38530ca685\",\"subtype\":\"Figure\",\"type\":\"Plot\"},\"ticker\":{\"id\":\"c29f5936-5d17-41ec-969e-539236438ec2\",\"type\":\"LogTicker\"}},\"id\":\"f133f220-3929-4b2a-88f8-e1a8234ce17a\",\"type\":\"LogAxis\"},{\"attributes\":{\"axis_label\":\"cooling rate [K/day]\",\"formatter\":{\"id\":\"eac8a046-8178-4db4-a5b3-56f0fc0d5aa8\",\"type\":\"BasicTickFormatter\"},\"plot\":{\"id\":\"4a782051-7408-4d10-96ff-6f38530ca685\",\"subtype\":\"Figure\",\"type\":\"Plot\"},\"ticker\":{\"id\":\"ccb84c56-c9ad-499b-b6fb-3d8ea88553c5\",\"type\":\"BasicTicker\"}},\"id\":\"e4b4fabf-0228-4e27-bc2e-9944f1605ec6\",\"type\":\"LinearAxis\"},{\"attributes\":{},\"id\":\"a6196fbb-ef6d-4308-97c9-9b6d1c952793\",\"type\":\"LinearScale\"},{\"attributes\":{\"callback\":null,\"end\":0.01,\"start\":1020},\"id\":\"92dfa940-0a8a-4c04-9150-d3049300040c\",\"type\":\"Range1d\"},{\"attributes\":{},\"id\":\"7fa6b6f4-2e55-451c-8387-32a49e21bad3\",\"type\":\"LinearScale\"},{\"attributes\":{\"items\":[{\"id\":\"d6365416-e474-4fdb-b4f8-804139645cff\",\"type\":\"LegendItem\"},{\"id\":\"8803dac6-a300-4c60-b417-582c66ab53f4\",\"type\":\"LegendItem\"}],\"label_text_font_size\":{\"value\":\"8pt\"},\"location\":\"top_center\",\"orientation\":\"horizontal\",\"plot\":{\"id\":\"4a782051-7408-4d10-96ff-6f38530ca685\",\"subtype\":\"Figure\",\"type\":\"Plot\"}},\"id\":\"43bc1bfe-5e92-434a-b9f9-147c5f847ebc\",\"type\":\"Legend\"},{\"attributes\":{\"above\":[{\"id\":\"c0ac0db8-e380-4d25-95f9-9cb80e403b0e\",\"type\":\"Legend\"}],\"below\":[{\"id\":\"2cf00a52-3236-4732-931a-3a978f18e702\",\"type\":\"LinearAxis\"}],\"left\":[{\"id\":\"dddc50d0-e3d8-43ce-a332-3af2218404cf\",\"type\":\"LinearAxis\"}],\"plot_width\":300,\"renderers\":[{\"id\":\"2cf00a52-3236-4732-931a-3a978f18e702\",\"type\":\"LinearAxis\"},{\"id\":\"c4f82dcd-289d-462c-8bf8-b01929700dd3\",\"type\":\"Grid\"},{\"id\":\"dddc50d0-e3d8-43ce-a332-3af2218404cf\",\"type\":\"LinearAxis\"},{\"id\":\"969d1fd1-ccac-4806-b648-736cd28809cf\",\"type\":\"Grid\"},{\"id\":\"5d2084d1-a69e-4381-8b77-8ac7e944531f\",\"type\":\"BoxAnnotation\"},{\"id\":\"76652b89-328d-4697-8658-c9b4b0186bda\",\"type\":\"GlyphRenderer\"},{\"id\":\"f9041980-8bb6-43ee-8087-959f183783fc\",\"type\":\"GlyphRenderer\"},{\"id\":\"6d105dc8-245a-4b04-a0db-27ddf1f006a6\",\"type\":\"GlyphRenderer\"},{\"id\":\"c0ac0db8-e380-4d25-95f9-9cb80e403b0e\",\"type\":\"Legend\"}],\"title\":{\"id\":\"4df13f17-4f54-4986-abf8-1a6143d85b48\",\"type\":\"Title\"},\"toolbar\":{\"id\":\"905b2164-5ecc-42e1-be0b-f7714b5787c0\",\"type\":\"Toolbar\"},\"toolbar_location\":null,\"x_range\":{\"id\":\"e8263982-fa38-49d3-8a4b-96521c8d7d88\",\"type\":\"Range1d\"},\"x_scale\":{\"id\":\"7fa6b6f4-2e55-451c-8387-32a49e21bad3\",\"type\":\"LinearScale\"},\"y_range\":{\"id\":\"d3d8f8dd-8e2e-4258-a680-bba714213760\",\"type\":\"Range1d\"},\"y_scale\":{\"id\":\"a6196fbb-ef6d-4308-97c9-9b6d1c952793\",\"type\":\"LinearScale\"}},\"id\":\"9b9f5b35-600d-4e1e-9d48-4c83962e6429\",\"subtype\":\"Figure\",\"type\":\"Plot\"},{\"attributes\":{\"plot\":{\"id\":\"4a782051-7408-4d10-96ff-6f38530ca685\",\"subtype\":\"Figure\",\"type\":\"Plot\"},\"ticker\":{\"id\":\"ccb84c56-c9ad-499b-b6fb-3d8ea88553c5\",\"type\":\"BasicTicker\"}},\"id\":\"806c0e5d-e861-4528-bbd7-5e114f2ec04f\",\"type\":\"Grid\"},{\"attributes\":{\"above\":[{\"id\":\"47369b37-c74c-4c3b-b3a3-d8725a1474a1\",\"type\":\"Legend\"}],\"below\":[{\"id\":\"54b73fbc-3c6e-4799-8e86-0a99d10fa81d\",\"type\":\"LinearAxis\"}],\"left\":[{\"id\":\"9ed07e67-a04a-4421-a357-8ee7dbcf4af1\",\"type\":\"LogAxis\"}],\"plot_width\":300,\"renderers\":[{\"id\":\"54b73fbc-3c6e-4799-8e86-0a99d10fa81d\",\"type\":\"LinearAxis\"},{\"id\":\"1adff8c4-a66e-441d-960b-ef1c3a3e2312\",\"type\":\"Grid\"},{\"id\":\"9ed07e67-a04a-4421-a357-8ee7dbcf4af1\",\"type\":\"LogAxis\"},{\"id\":\"62d1dbe5-714c-4f0e-886c-5701b15892b7\",\"type\":\"Grid\"},{\"id\":\"29e66a65-3460-48f8-9e12-b310e2ab4644\",\"type\":\"BoxAnnotation\"},{\"id\":\"5527014f-7f0c-4452-8297-a4e8da727495\",\"type\":\"GlyphRenderer\"},{\"id\":\"e2ced9b7-a4d7-452c-ad68-5c3e44bbf381\",\"type\":\"GlyphRenderer\"},{\"id\":\"47369b37-c74c-4c3b-b3a3-d8725a1474a1\",\"type\":\"Legend\"}],\"title\":{\"id\":\"72310306-cf28-4b27-a003-287c8e40c91d\",\"type\":\"Title\"},\"toolbar\":{\"id\":\"3eb090d2-f525-4b10-9801-5007a303b24b\",\"type\":\"Toolbar\"},\"toolbar_location\":null,\"x_range\":{\"id\":\"ec34d96b-f139-4004-8a1d-e26856d65530\",\"type\":\"Range1d\"},\"x_scale\":{\"id\":\"ce1ea59c-2355-484e-8077-efe0110f8372\",\"type\":\"LinearScale\"},\"y_range\":{\"id\":\"6504b5d3-6af6-4d66-bbc1-90441e0d0317\",\"type\":\"Range1d\"},\"y_scale\":{\"id\":\"d28a5881-0454-4ee8-9c59-241cef2f2eba\",\"type\":\"LogScale\"}},\"id\":\"38683a90-1665-4ea7-854c-46154064bff9\",\"subtype\":\"Figure\",\"type\":\"Plot\"},{\"attributes\":{},\"id\":\"ccb84c56-c9ad-499b-b6fb-3d8ea88553c5\",\"type\":\"BasicTicker\"},{\"attributes\":{},\"id\":\"03f4e692-5c3d-4ea1-ada9-3481732ee7ce\",\"type\":\"UnionRenderers\"},{\"attributes\":{\"source\":{\"id\":\"c56394c7-bfa1-49ca-b5a8-51c029f590d3\",\"type\":\"ColumnDataSource\"}},\"id\":\"733dd55e-e8d3-4712-90cb-8d3b636af83a\",\"type\":\"CDSView\"},{\"attributes\":{},\"id\":\"b952fbf2-9bce-4e8d-b99a-acdfd5f086a5\",\"type\":\"Selection\"},{\"attributes\":{},\"id\":\"e7e1ff98-8c6b-4855-a03e-45549dd47a14\",\"type\":\"UnionRenderers\"},{\"attributes\":{},\"id\":\"94942b48-8b63-4488-bffc-5d3e0de2259b\",\"type\":\"Selection\"},{\"attributes\":{},\"id\":\"702b803d-5882-40db-abf3-c3942e8e0556\",\"type\":\"WheelZoomTool\"},{\"attributes\":{\"label\":{\"value\":\"CLIRAD - CRD\"},\"renderers\":[{\"id\":\"5527014f-7f0c-4452-8297-a4e8da727495\",\"type\":\"GlyphRenderer\"},{\"id\":\"e2ced9b7-a4d7-452c-ad68-5c3e44bbf381\",\"type\":\"GlyphRenderer\"}]},\"id\":\"dac38cfe-77f3-4f25-8ec9-eac4bb745196\",\"type\":\"LegendItem\"},{\"attributes\":{},\"id\":\"dec34b2e-076e-4629-8732-5b072f13593f\",\"type\":\"UnionRenderers\"},{\"attributes\":{\"overlay\":{\"id\":\"29e66a65-3460-48f8-9e12-b310e2ab4644\",\"type\":\"BoxAnnotation\"}},\"id\":\"b566104a-2b0b-4183-8796-9b78ea1d6124\",\"type\":\"BoxZoomTool\"},{\"attributes\":{\"bottom_units\":\"screen\",\"fill_alpha\":{\"value\":0.5},\"fill_color\":{\"value\":\"lightgrey\"},\"left_units\":\"screen\",\"level\":\"overlay\",\"line_alpha\":{\"value\":1.0},\"line_color\":{\"value\":\"black\"},\"line_dash\":[4,4],\"line_width\":{\"value\":2},\"plot\":null,\"render_mode\":\"css\",\"right_units\":\"screen\",\"top_units\":\"screen\"},\"id\":\"29e66a65-3460-48f8-9e12-b310e2ab4644\",\"type\":\"BoxAnnotation\"},{\"attributes\":{},\"id\":\"b26c0300-3bac-4722-accd-dce5506d0b79\",\"type\":\"Selection\"},{\"attributes\":{},\"id\":\"24c5a9dc-6d07-4c77-a27e-dd235f9f4e79\",\"type\":\"BasicTickFormatter\"},{\"attributes\":{\"data_source\":{\"id\":\"10e59fbc-9cdf-4272-9acc-7d94be54be9c\",\"type\":\"ColumnDataSource\"},\"glyph\":{\"id\":\"d170ab11-d977-433c-94fa-4fd8eb0294d2\",\"type\":\"Line\"},\"hover_glyph\":null,\"muted_glyph\":null,\"nonselection_glyph\":{\"id\":\"b813528d-91c1-4752-887c-d8b22b2b106e\",\"type\":\"Line\"},\"selection_glyph\":null,\"view\":{\"id\":\"d85ab568-4eef-49ec-a79f-12db18ede01b\",\"type\":\"CDSView\"}},\"id\":\"729bfbb3-5cfb-4f23-a78f-078243772b1f\",\"type\":\"GlyphRenderer\"},{\"attributes\":{},\"id\":\"755f7e72-fcf5-4056-9059-cbcb3b6fa90e\",\"type\":\"Selection\"},{\"attributes\":{\"plot\":null,\"text\":\"\"},\"id\":\"b1ce792d-ba07-43f7-860e-b6d7f07d238b\",\"type\":\"Title\"},{\"attributes\":{},\"id\":\"51d4d5ea-8109-4843-8edb-8eb1ad3e0d2a\",\"type\":\"PanTool\"},{\"attributes\":{\"axis_label\":\"cooling rate [K/day]\",\"formatter\":{\"id\":\"2144c694-7b2f-4a0f-a17e-1e70e0a98602\",\"type\":\"BasicTickFormatter\"},\"plot\":{\"id\":\"9b9f5b35-600d-4e1e-9d48-4c83962e6429\",\"subtype\":\"Figure\",\"type\":\"Plot\"},\"ticker\":{\"id\":\"cda32014-64fe-48e7-bf45-a30b316d82c5\",\"type\":\"BasicTicker\"}},\"id\":\"2cf00a52-3236-4732-931a-3a978f18e702\",\"type\":\"LinearAxis\"},{\"attributes\":{\"dimension\":1,\"plot\":{\"id\":\"9b9f5b35-600d-4e1e-9d48-4c83962e6429\",\"subtype\":\"Figure\",\"type\":\"Plot\"},\"ticker\":{\"id\":\"c54944e9-51c3-4694-a65a-aab88efa4636\",\"type\":\"BasicTicker\"}},\"id\":\"969d1fd1-ccac-4806-b648-736cd28809cf\",\"type\":\"Grid\"},{\"attributes\":{\"toolbar\":{\"id\":\"772eceac-3f99-429c-95d8-d9806932209c\",\"type\":\"ProxyToolbar\"},\"toolbar_location\":\"above\"},\"id\":\"6f3364a4-05cf-472a-bcbb-8a1b8dbe13d1\",\"type\":\"ToolbarBox\"},{\"attributes\":{\"plot\":null,\"text\":\"\"},\"id\":\"4df13f17-4f54-4986-abf8-1a6143d85b48\",\"type\":\"Title\"},{\"attributes\":{},\"id\":\"eac8a046-8178-4db4-a5b3-56f0fc0d5aa8\",\"type\":\"BasicTickFormatter\"},{\"attributes\":{\"fill_alpha\":{\"value\":0.7},\"fill_color\":{\"value\":\"#984ea3\"},\"line_alpha\":{\"value\":0.7},\"line_color\":{\"value\":\"#984ea3\"},\"x\":{\"field\":\"x\"},\"y\":{\"field\":\"y\"}},\"id\":\"f77c3bc1-0684-487a-bd6e-5891d0c619ca\",\"type\":\"Circle\"},{\"attributes\":{},\"id\":\"c54944e9-51c3-4694-a65a-aab88efa4636\",\"type\":\"BasicTicker\"},{\"attributes\":{},\"id\":\"dfa858c4-5677-4045-a5ca-b318fa81d27a\",\"type\":\"Selection\"},{\"attributes\":{\"source\":{\"id\":\"9e2e23de-68d1-435d-a019-083b56f71778\",\"type\":\"ColumnDataSource\"}},\"id\":\"c04bbd0d-735c-4a6e-bd39-ae38bc0b2083\",\"type\":\"CDSView\"},{\"attributes\":{\"label\":{\"value\":\"CLIRAD\"},\"renderers\":[{\"id\":\"e042a362-87d6-43ed-942e-1350e15bd6d5\",\"type\":\"GlyphRenderer\"}]},\"id\":\"d6365416-e474-4fdb-b4f8-804139645cff\",\"type\":\"LegendItem\"},{\"attributes\":{\"fill_alpha\":{\"value\":0.7},\"fill_color\":{\"value\":\"#4daf4a\"},\"line_alpha\":{\"value\":0.7},\"line_color\":{\"value\":\"#4daf4a\"},\"x\":{\"field\":\"x\"},\"y\":{\"field\":\"y\"}},\"id\":\"6e124c41-d3d4-4f56-9480-a34f1a62352f\",\"type\":\"Circle\"},{\"attributes\":{\"ticker\":null},\"id\":\"a094a93d-bdd1-41cb-b6c5-3318ea148bae\",\"type\":\"LogTickFormatter\"},{\"attributes\":{},\"id\":\"421ccb10-c645-441b-b6c0-9b22863065ef\",\"type\":\"UnionRenderers\"},{\"attributes\":{},\"id\":\"9734e989-f023-4461-b0e3-2995c4cc9a69\",\"type\":\"SaveTool\"},{\"attributes\":{\"plot\":null,\"text\":\"\"},\"id\":\"72310306-cf28-4b27-a003-287c8e40c91d\",\"type\":\"Title\"},{\"attributes\":{\"callback\":null,\"data\":{\"x\":{\"__ndarray__\":\"QGJqNIFuiD+G2FG295KKPz7OteEQp4w/cJ/bnxkxjD9zJv8xuuWIPzar4EQGZYI/BCxK7Wt7cD/Q5yNWaulmvxiTZkJ/4Ie/hM/mo1INl79oJ95cVyeiv7iqoeRA1am/dBbVpto8sb+4F15qAEa3v/C18z/xSr+/2Dgw8/xtw79EMR5KWSvGvxDLVeLwOMe/MLU5KSc1xr8otRfRdkzDv7BY1HFG3r+/4LPQKSOJsb+Ax6E0ipuJPwBURDzIoaA/gInX7ZothD8AxLePYNNoP+A2XnC88YQ/4BA06kqZjj/QdkuTzpeVP5i+1xAcl5U/zMnV2doMkT8w9qgJ7HuGP2DfXpe2v3g/AKhasvqIVz+8tbyRgQxZv1AmBjJPb3W/iMawFuEehr+IBsDdMfOPv4T7NgHc5ZK/WPr5hCZok794cxo3b3uOv5h5tSC3BoK/gBtbTpB4bL8A/f6amm5DP/CnDSHDN2g/EJLCCw5ubD+YOhJ53AFoP9igxLRdC2Q/uF9dZu/EYD9Qjqv5QN5aPwziSMY/KlQ/6BUCQUirTT/SR2gll4FGP3Ml2iL/H0A/vKAbaQt5ND8ASTDeGakjPwBI1GrU89E+wJROgsBMIL+gNzbcu1Yvv3BhfnSPyDW/EGK+eb8DO7/g2LB4w1w/v4DteocpekG/YNF3LsHmQr+wBQehIwVEv/BA2Z14CkW/cPTkkEcGRr/AowUy+7hGv3DIJHE/8Ua/IF3FNxMZRr/gPIFqo0VEvxDq0mLYuEG/MOFjvuhcPb+Q/Iw8ZX03v8CVd4JynDG/\",\"dtype\":\"float64\",\"shape\":[75]},\"y\":{\"__ndarray__\":\"GhExyth1ND/Sv8nbtpRIP2vylNV0PVE/aTum7souWD/At0SJ8fVgPw3Iuahxymc/MSNhhJWvcD/bTfBN02d3P2zb5nxnaoA/CD5h5MAGhz8NmeH1TyaQP+zrCsc9p5Y/LbKd76fGnz/bLW5ISEmmPww9YvTcQq8/JV2OstnstT8Er5Y7M8G+P0c+r3jqkcU/5h99k6ZBzj88bCIzFzjVP4enV8oyxN0//yH99nXg5D8qOpLLf0jtP5kqGJXUifQ/c9cS8kHP/D+/DpwzojQEQIEmwoanVwxA4lgXt9HgE0BSSZ2AJuIbQAMJih9jjiNA5q4l5INuK0AwTKYKRj0zQNv5fmq8/DpAaCJseHrtQkB/+zpwzoxKQM3MzMzMeFJAZmZmZmZqWEAAAAAAAFxeQM3MzMzMJmJAmpmZmZkfZUBmZmZmZhhoQDMzMzMzEWtAAAAAAAAKbkBmZmZmZoFwQM3MzMzM/XFAMzMzMzN6c0CamZmZmfZ0QAAAAAAAc3ZAZmZmZmbvd0DNzMzMzGt5QDMzMzMz6HpAmpmZmZlkfEAAAAAAAOF9QGZmZmZmXX9AZmZmZuZsgECamZmZGSuBQM3MzMxM6YFAAAAAAICngkAzMzMzs2WDQGZmZmbmI4RAmpmZmRnihEDNzMzMTKCFQAAAAACAXoZAMzMzM7Mch0BmZmZm5tqHQJqZmZkZmYhAzczMzExXiUAAAAAAgBWKQDMzMzOz04pAZmZmZuaRi0CamZmZGVCMQM3MzMxMDo1AAAAAAIDMjUAzMzMzs4qOQGZmZmbmSI9A\",\"dtype\":\"float64\",\"shape\":[75]}},\"selected\":{\"id\":\"755f7e72-fcf5-4056-9059-cbcb3b6fa90e\",\"type\":\"Selection\"},\"selection_policy\":{\"id\":\"03f4e692-5c3d-4ea1-ada9-3481732ee7ce\",\"type\":\"UnionRenderers\"}},\"id\":\"c56394c7-bfa1-49ca-b5a8-51c029f590d3\",\"type\":\"ColumnDataSource\"},{\"attributes\":{\"children\":[{\"id\":\"6f3364a4-05cf-472a-bcbb-8a1b8dbe13d1\",\"type\":\"ToolbarBox\"},{\"id\":\"492e6705-59a5-48dd-bc9b-17e182e01a5d\",\"type\":\"Column\"}]},\"id\":\"41b5b8e8-fdb0-4f7c-b2d0-f2295fcb3d8f\",\"type\":\"Column\"},{\"attributes\":{\"callback\":null,\"end\":0.03462339500000013,\"start\":-0.18356429500000007},\"id\":\"ec34d96b-f139-4004-8a1d-e26856d65530\",\"type\":\"Range1d\"},{\"attributes\":{\"ticker\":null},\"id\":\"29259471-c8ea-4571-bf83-f9fcef6fbc44\",\"type\":\"LogTickFormatter\"},{\"attributes\":{\"source\":{\"id\":\"56d275d8-4d58-4d06-8511-5270135e3bef\",\"type\":\"ColumnDataSource\"}},\"id\":\"67e0b2e9-1a99-4cb3-af2f-dc2925f58c37\",\"type\":\"CDSView\"},{\"attributes\":{},\"id\":\"5e6b6a6a-9476-4ae3-89f9-e21fdbf2a9e6\",\"type\":\"UnionRenderers\"},{\"attributes\":{},\"id\":\"972265eb-d125-4552-a3a4-c215659c4d40\",\"type\":\"UnionRenderers\"},{\"attributes\":{\"tools\":[{\"id\":\"8baebfc5-f1c1-42fb-a4b1-46fd0e2a4b34\",\"type\":\"PanTool\"},{\"id\":\"702b803d-5882-40db-abf3-c3942e8e0556\",\"type\":\"WheelZoomTool\"},{\"id\":\"e9953962-5a57-4402-a37e-8fe8734293f3\",\"type\":\"BoxZoomTool\"},{\"id\":\"181796fa-d72f-4c70-a38b-95a256c7bf4b\",\"type\":\"SaveTool\"},{\"id\":\"97d39bc6-7d22-447a-8bb5-af1f98fa569b\",\"type\":\"ResetTool\"},{\"id\":\"bf41e8f8-6cb9-4bd3-b513-f3bfd34c8e74\",\"type\":\"HelpTool\"},{\"id\":\"0329f0ca-e604-4cab-8202-fecba3c58610\",\"type\":\"PanTool\"},{\"id\":\"328acc1f-5e41-4532-a608-f0d9e466a73e\",\"type\":\"WheelZoomTool\"},{\"id\":\"3d7cea8e-37b8-4a36-b95b-40ac2f9d0cdd\",\"type\":\"BoxZoomTool\"},{\"id\":\"51e0559c-888f-467e-9b64-a987bf14c902\",\"type\":\"SaveTool\"},{\"id\":\"df9776a8-3866-4a5d-b935-09c1240f15ba\",\"type\":\"ResetTool\"},{\"id\":\"109c5674-36d3-4894-95aa-31ec5aacebe0\",\"type\":\"HelpTool\"},{\"id\":\"51d4d5ea-8109-4843-8edb-8eb1ad3e0d2a\",\"type\":\"PanTool\"},{\"id\":\"818559c7-4a01-463e-9a0d-4c23e7c9d9b2\",\"type\":\"WheelZoomTool\"},{\"id\":\"b566104a-2b0b-4183-8796-9b78ea1d6124\",\"type\":\"BoxZoomTool\"},{\"id\":\"9734e989-f023-4461-b0e3-2995c4cc9a69\",\"type\":\"SaveTool\"},{\"id\":\"8d50f601-0794-4fe1-b1fb-4c3d125146d7\",\"type\":\"ResetTool\"},{\"id\":\"373e67bc-cd1c-4755-848e-53b847633565\",\"type\":\"HelpTool\"}]},\"id\":\"772eceac-3f99-429c-95d8-d9806932209c\",\"type\":\"ProxyToolbar\"},{\"attributes\":{\"line_color\":\"#4daf4a\",\"line_width\":1.5,\"x\":{\"field\":\"x\"},\"y\":{\"field\":\"y\"}},\"id\":\"d170ab11-d977-433c-94fa-4fd8eb0294d2\",\"type\":\"Line\"},{\"attributes\":{\"callback\":null,\"data\":{\"x\":{\"__ndarray__\":\"QGJqNIFuiD+G2FG295KKPz7OteEQp4w/cJ/bnxkxjD9zJv8xuuWIPzar4EQGZYI/BCxK7Wt7cD/Q5yNWaulmvxiTZkJ/4Ie/hM/mo1INl79oJ95cVyeiv7iqoeRA1am/dBbVpto8sb+4F15qAEa3v/C18z/xSr+/2Dgw8/xtw79EMR5KWSvGvxDLVeLwOMe/MLU5KSc1xr8otRfRdkzDv7BY1HFG3r+/4LPQKSOJsb+Ax6E0ipuJPwBURDzIoaA/gInX7ZothD8AxLePYNNoP+A2XnC88YQ/4BA06kqZjj/QdkuTzpeVP5i+1xAcl5U/zMnV2doMkT8w9qgJ7HuGP2DfXpe2v3g/AKhasvqIVz+8tbyRgQxZv1AmBjJPb3W/iMawFuEehr+IBsDdMfOPv4T7NgHc5ZK/WPr5hCZok794cxo3b3uOv5h5tSC3BoK/gBtbTpB4bL8A/f6amm5DP/CnDSHDN2g/EJLCCw5ubD+YOhJ53AFoP9igxLRdC2Q/uF9dZu/EYD9Qjqv5QN5aPwziSMY/KlQ/6BUCQUirTT/SR2gll4FGP3Ml2iL/H0A/vKAbaQt5ND8ASTDeGakjPwBI1GrU89E+wJROgsBMIL+gNzbcu1Yvv3BhfnSPyDW/EGK+eb8DO7/g2LB4w1w/v4DteocpekG/YNF3LsHmQr+wBQehIwVEv/BA2Z14CkW/cPTkkEcGRr/AowUy+7hGv3DIJHE/8Ua/IF3FNxMZRr/gPIFqo0VEvxDq0mLYuEG/MOFjvuhcPb+Q/Iw8ZX03v8CVd4JynDG/\",\"dtype\":\"float64\",\"shape\":[75]},\"y\":{\"__ndarray__\":\"GhExyth1ND/Sv8nbtpRIP2vylNV0PVE/aTum7souWD/At0SJ8fVgPw3Iuahxymc/MSNhhJWvcD/bTfBN02d3P2zb5nxnaoA/CD5h5MAGhz8NmeH1TyaQP+zrCsc9p5Y/LbKd76fGnz/bLW5ISEmmPww9YvTcQq8/JV2OstnstT8Er5Y7M8G+P0c+r3jqkcU/5h99k6ZBzj88bCIzFzjVP4enV8oyxN0//yH99nXg5D8qOpLLf0jtP5kqGJXUifQ/c9cS8kHP/D+/DpwzojQEQIEmwoanVwxA4lgXt9HgE0BSSZ2AJuIbQAMJih9jjiNA5q4l5INuK0AwTKYKRj0zQNv5fmq8/DpAaCJseHrtQkB/+zpwzoxKQM3MzMzMeFJAZmZmZmZqWEAAAAAAAFxeQM3MzMzMJmJAmpmZmZkfZUBmZmZmZhhoQDMzMzMzEWtAAAAAAAAKbkBmZmZmZoFwQM3MzMzM/XFAMzMzMzN6c0CamZmZmfZ0QAAAAAAAc3ZAZmZmZmbvd0DNzMzMzGt5QDMzMzMz6HpAmpmZmZlkfEAAAAAAAOF9QGZmZmZmXX9AZmZmZuZsgECamZmZGSuBQM3MzMxM6YFAAAAAAICngkAzMzMzs2WDQGZmZmbmI4RAmpmZmRnihEDNzMzMTKCFQAAAAACAXoZAMzMzM7Mch0BmZmZm5tqHQJqZmZkZmYhAzczMzExXiUAAAAAAgBWKQDMzMzOz04pAZmZmZuaRi0CamZmZGVCMQM3MzMxMDo1AAAAAAIDMjUAzMzMzs4qOQGZmZmbmSI9A\",\"dtype\":\"float64\",\"shape\":[75]}},\"selected\":{\"id\":\"dfa858c4-5677-4045-a5ca-b318fa81d27a\",\"type\":\"Selection\"},\"selection_policy\":{\"id\":\"972265eb-d125-4552-a3a4-c215659c4d40\",\"type\":\"UnionRenderers\"}},\"id\":\"b310fbdc-3863-4fac-871c-3bd47c0e3150\",\"type\":\"ColumnDataSource\"},{\"attributes\":{},\"id\":\"dbedbbed-4fac-4148-8a9a-a61a8ab48cb3\",\"type\":\"Selection\"},{\"attributes\":{},\"id\":\"cda32014-64fe-48e7-bf45-a30b316d82c5\",\"type\":\"BasicTicker\"},{\"attributes\":{\"fill_alpha\":{\"value\":0.1},\"fill_color\":{\"value\":\"#1f77b4\"},\"line_alpha\":{\"value\":0.1},\"line_color\":{\"value\":\"#1f77b4\"},\"x\":{\"field\":\"x\"},\"y\":{\"field\":\"y\"}},\"id\":\"5379fe5d-a841-4994-8838-9a2352b3b39c\",\"type\":\"Circle\"},{\"attributes\":{\"source\":{\"id\":\"b310fbdc-3863-4fac-871c-3bd47c0e3150\",\"type\":\"ColumnDataSource\"}},\"id\":\"40da7e02-aa7d-4e31-8663-2359cff54429\",\"type\":\"CDSView\"},{\"attributes\":{},\"id\":\"a043772b-1ce2-48a4-9584-e55fdbf8edd6\",\"type\":\"UnionRenderers\"},{\"attributes\":{\"line_alpha\":0.8,\"line_color\":\"#984ea3\",\"line_width\":1.5,\"x\":{\"field\":\"x\"},\"y\":{\"field\":\"y\"}},\"id\":\"d3ff8015-6f3c-4297-99bb-68d1241531dd\",\"type\":\"Line\"},{\"attributes\":{\"data_source\":{\"id\":\"c56394c7-bfa1-49ca-b5a8-51c029f590d3\",\"type\":\"ColumnDataSource\"},\"glyph\":{\"id\":\"f77c3bc1-0684-487a-bd6e-5891d0c619ca\",\"type\":\"Circle\"},\"hover_glyph\":null,\"muted_glyph\":null,\"nonselection_glyph\":{\"id\":\"5379fe5d-a841-4994-8838-9a2352b3b39c\",\"type\":\"Circle\"},\"selection_glyph\":null,\"view\":{\"id\":\"733dd55e-e8d3-4712-90cb-8d3b636af83a\",\"type\":\"CDSView\"}},\"id\":\"5527014f-7f0c-4452-8297-a4e8da727495\",\"type\":\"GlyphRenderer\"},{\"attributes\":{\"active_drag\":\"auto\",\"active_inspect\":\"auto\",\"active_scroll\":\"auto\",\"active_tap\":\"auto\",\"tools\":[{\"id\":\"51d4d5ea-8109-4843-8edb-8eb1ad3e0d2a\",\"type\":\"PanTool\"},{\"id\":\"818559c7-4a01-463e-9a0d-4c23e7c9d9b2\",\"type\":\"WheelZoomTool\"},{\"id\":\"b566104a-2b0b-4183-8796-9b78ea1d6124\",\"type\":\"BoxZoomTool\"},{\"id\":\"9734e989-f023-4461-b0e3-2995c4cc9a69\",\"type\":\"SaveTool\"},{\"id\":\"8d50f601-0794-4fe1-b1fb-4c3d125146d7\",\"type\":\"ResetTool\"},{\"id\":\"373e67bc-cd1c-4755-848e-53b847633565\",\"type\":\"HelpTool\"}]},\"id\":\"3eb090d2-f525-4b10-9801-5007a303b24b\",\"type\":\"Toolbar\"},{\"attributes\":{},\"id\":\"8d50f601-0794-4fe1-b1fb-4c3d125146d7\",\"type\":\"ResetTool\"},{\"attributes\":{\"fill_alpha\":{\"value\":0.1},\"fill_color\":{\"value\":\"#1f77b4\"},\"line_alpha\":{\"value\":0.1},\"line_color\":{\"value\":\"#1f77b4\"},\"x\":{\"field\":\"x\"},\"y\":{\"field\":\"y\"}},\"id\":\"c827f23d-76fd-4679-95cb-ed3845624d50\",\"type\":\"Circle\"},{\"attributes\":{},\"id\":\"986b8463-e8b2-48ce-82b6-a1eb020e8bfe\",\"type\":\"Selection\"},{\"attributes\":{\"data_source\":{\"id\":\"9e2e23de-68d1-435d-a019-083b56f71778\",\"type\":\"ColumnDataSource\"},\"glyph\":{\"id\":\"fa8e4c14-5843-448f-b85c-a719622dadfb\",\"type\":\"Circle\"},\"hover_glyph\":null,\"muted_glyph\":null,\"nonselection_glyph\":{\"id\":\"c827f23d-76fd-4679-95cb-ed3845624d50\",\"type\":\"Circle\"},\"selection_glyph\":null,\"view\":{\"id\":\"c04bbd0d-735c-4a6e-bd39-ae38bc0b2083\",\"type\":\"CDSView\"}},\"id\":\"22e2669b-c450-4ed8-b229-5eb18848146c\",\"type\":\"GlyphRenderer\"},{\"attributes\":{},\"id\":\"818559c7-4a01-463e-9a0d-4c23e7c9d9b2\",\"type\":\"WheelZoomTool\"},{\"attributes\":{\"plot\":{\"id\":\"38683a90-1665-4ea7-854c-46154064bff9\",\"subtype\":\"Figure\",\"type\":\"Plot\"},\"ticker\":{\"id\":\"a4eda33d-b8cf-4230-bf04-cdf1517f9050\",\"type\":\"BasicTicker\"}},\"id\":\"1adff8c4-a66e-441d-960b-ef1c3a3e2312\",\"type\":\"Grid\"},{\"attributes\":{\"callback\":null,\"data\":{\"x\":{\"__ndarray__\":\"BPOcnL0Nnb8t1f1KhJmev78qr0aKiZ6/y5Hf7CDAmb/ltuC5tVSPv/gst5YGXzs/St2q+HpPlz/VrE8TX+iqPwTP0WsyMbc/OzlDccebwT9jSKnf4ObIP9QWMrK/x9A/8S7V1MvS1T8fculOZnLdP96S+6HCZuQ/YURPiIj06j8UKpN1k/PwP1oZ6DXRgvQ/ugkI9xQK+D+/tn76z3r7P/DSl+8qtf4/iLfOv112/z9BtWbQdYb6P+Gbps8O+PM/jpg0oaSb7T+D5d+ZlrnkPyRkvaRzNts/YbRccOUw0j9IqQDvT+/KP9X/QT3gLsQ/p5W+5/KsvD/imn8XXa6wP4qvCXi4bqI/HGebZ2FZlz/AUmQM79tQvwVNPIFfDKC/RC09As4+rb+8hcya+m6zv1tmoTXwN7e/13nIUvNuur/yONI6JmK6vzPyyAso1be/ET54E5optb8ccVlpeNGxvxabf4mylqy/5pNrw47qpL9XS8ADkbKcv9Z8oe+KupS/Sz/A3u0Pjr/y1ycqYquEv2VywYx2C3q/kTlP62grbr/LOWD311tcv2YPmstDcfW+uJ390nC7WD/Iu0VNpI5nP6tSMdDgr3A/dCO+aI7ydD9iFnAMDqF4Py864e3WtXs/sWMElS8vfj+Sbl3HPhyAP5Zuiv+m9IA/t/DqQziZgT+gwOmM0BCCP4ryKWFdhYI/x1OMfCn/gj8ewWHvq1WDP8nRWXPybIM/B/sog6Asgz9as74WLoqCP1qkxEcvnoE/9+55gFqMgD8/oO0BDOV+P5wCRZ63wHw/\",\"dtype\":\"float64\",\"shape\":[75]},\"y\":{\"__ndarray__\":\"GhExyth1ND/Sv8nbtpRIP2vylNV0PVE/aTum7souWD/At0SJ8fVgPw3Iuahxymc/MSNhhJWvcD/bTfBN02d3P2zb5nxnaoA/CD5h5MAGhz8NmeH1TyaQP+zrCsc9p5Y/LbKd76fGnz/bLW5ISEmmPww9YvTcQq8/JV2OstnstT8Er5Y7M8G+P0c+r3jqkcU/5h99k6ZBzj88bCIzFzjVP4enV8oyxN0//yH99nXg5D8qOpLLf0jtP5kqGJXUifQ/c9cS8kHP/D+/DpwzojQEQIEmwoanVwxA4lgXt9HgE0BSSZ2AJuIbQAMJih9jjiNA5q4l5INuK0AwTKYKRj0zQNv5fmq8/DpAaCJseHrtQkB/+zpwzoxKQM3MzMzMeFJAZmZmZmZqWEAAAAAAAFxeQM3MzMzMJmJAmpmZmZkfZUBmZmZmZhhoQDMzMzMzEWtAAAAAAAAKbkBmZmZmZoFwQM3MzMzM/XFAMzMzMzN6c0CamZmZmfZ0QAAAAAAAc3ZAZmZmZmbvd0DNzMzMzGt5QDMzMzMz6HpAmpmZmZlkfEAAAAAAAOF9QGZmZmZmXX9AZmZmZuZsgECamZmZGSuBQM3MzMxM6YFAAAAAAICngkAzMzMzs2WDQGZmZmbmI4RAmpmZmRnihEDNzMzMTKCFQAAAAACAXoZAMzMzM7Mch0BmZmZm5tqHQJqZmZkZmYhAzczMzExXiUAAAAAAgBWKQDMzMzOz04pAZmZmZuaRi0CamZmZGVCMQM3MzMxMDo1AAAAAAIDMjUAzMzMzs4qOQGZmZmbmSI9A\",\"dtype\":\"float64\",\"shape\":[75]}},\"selected\":{\"id\":\"14d1fe54-7784-4a2a-b7ef-b02afcb08257\",\"type\":\"Selection\"},\"selection_policy\":{\"id\":\"5e6b6a6a-9476-4ae3-89f9-e21fdbf2a9e6\",\"type\":\"UnionRenderers\"}},\"id\":\"9e2e23de-68d1-435d-a019-083b56f71778\",\"type\":\"ColumnDataSource\"},{\"attributes\":{\"above\":[{\"id\":\"43bc1bfe-5e92-434a-b9f9-147c5f847ebc\",\"type\":\"Legend\"}],\"below\":[{\"id\":\"e4b4fabf-0228-4e27-bc2e-9944f1605ec6\",\"type\":\"LinearAxis\"}],\"left\":[{\"id\":\"f133f220-3929-4b2a-88f8-e1a8234ce17a\",\"type\":\"LogAxis\"}],\"plot_width\":300,\"renderers\":[{\"id\":\"e4b4fabf-0228-4e27-bc2e-9944f1605ec6\",\"type\":\"LinearAxis\"},{\"id\":\"806c0e5d-e861-4528-bbd7-5e114f2ec04f\",\"type\":\"Grid\"},{\"id\":\"f133f220-3929-4b2a-88f8-e1a8234ce17a\",\"type\":\"LogAxis\"},{\"id\":\"4287527d-ceba-443c-8325-33582c42eb5f\",\"type\":\"Grid\"},{\"id\":\"c40430b6-9a5b-4421-bd91-2eae493f106a\",\"type\":\"BoxAnnotation\"},{\"id\":\"e042a362-87d6-43ed-942e-1350e15bd6d5\",\"type\":\"GlyphRenderer\"},{\"id\":\"22e2669b-c450-4ed8-b229-5eb18848146c\",\"type\":\"GlyphRenderer\"},{\"id\":\"729bfbb3-5cfb-4f23-a78f-078243772b1f\",\"type\":\"GlyphRenderer\"},{\"id\":\"43bc1bfe-5e92-434a-b9f9-147c5f847ebc\",\"type\":\"Legend\"}],\"title\":{\"id\":\"b1ce792d-ba07-43f7-860e-b6d7f07d238b\",\"type\":\"Title\"},\"toolbar\":{\"id\":\"8e3a6965-9db7-434f-ac09-2ba2500003b8\",\"type\":\"Toolbar\"},\"toolbar_location\":null,\"x_range\":{\"id\":\"be97422c-56c3-4c4c-9364-c5f0346dc910\",\"type\":\"Range1d\"},\"x_scale\":{\"id\":\"173a7934-783a-4c49-8c28-7f9609529d15\",\"type\":\"LinearScale\"},\"y_range\":{\"id\":\"92dfa940-0a8a-4c04-9150-d3049300040c\",\"type\":\"Range1d\"},\"y_scale\":{\"id\":\"638a29c2-f652-435a-b393-9054c760be41\",\"type\":\"LogScale\"}},\"id\":\"4a782051-7408-4d10-96ff-6f38530ca685\",\"subtype\":\"Figure\",\"type\":\"Plot\"},{\"attributes\":{\"items\":[{\"id\":\"7bf6d25d-4527-4337-aeb2-d581314cba82\",\"type\":\"LegendItem\"},{\"id\":\"dba58ea9-61cf-4cb9-a3e8-b40aabfce774\",\"type\":\"LegendItem\"}],\"label_text_font_size\":{\"value\":\"8pt\"},\"location\":\"top_center\",\"orientation\":\"horizontal\",\"plot\":{\"id\":\"9b9f5b35-600d-4e1e-9d48-4c83962e6429\",\"subtype\":\"Figure\",\"type\":\"Plot\"}},\"id\":\"c0ac0db8-e380-4d25-95f9-9cb80e403b0e\",\"type\":\"Legend\"},{\"attributes\":{\"callback\":null,\"end\":0.010802069837988799,\"start\":-0.12352438603686874},\"id\":\"e8263982-fa38-49d3-8a4b-96521c8d7d88\",\"type\":\"Range1d\"},{\"attributes\":{\"source\":{\"id\":\"d32e210f-ccc9-4657-be87-bb9b3a92db71\",\"type\":\"ColumnDataSource\"}},\"id\":\"7ad59886-4a54-4e85-a55e-16c3b71580a7\",\"type\":\"CDSView\"},{\"attributes\":{\"children\":[{\"id\":\"9b9f5b35-600d-4e1e-9d48-4c83962e6429\",\"subtype\":\"Figure\",\"type\":\"Plot\"},{\"id\":\"4a782051-7408-4d10-96ff-6f38530ca685\",\"subtype\":\"Figure\",\"type\":\"Plot\"},{\"id\":\"38683a90-1665-4ea7-854c-46154064bff9\",\"subtype\":\"Figure\",\"type\":\"Plot\"}]},\"id\":\"b4e06a7a-80db-4cdf-ab4a-c45af72fa21e\",\"type\":\"Row\"},{\"attributes\":{\"label\":{\"value\":\"CRD\"},\"renderers\":[{\"id\":\"f9041980-8bb6-43ee-8087-959f183783fc\",\"type\":\"GlyphRenderer\"},{\"id\":\"6d105dc8-245a-4b04-a0db-27ddf1f006a6\",\"type\":\"GlyphRenderer\"}]},\"id\":\"dba58ea9-61cf-4cb9-a3e8-b40aabfce774\",\"type\":\"LegendItem\"},{\"attributes\":{\"callback\":null,\"end\":0.01,\"start\":1020},\"id\":\"6504b5d3-6af6-4d66-bbc1-90441e0d0317\",\"type\":\"Range1d\"},{\"attributes\":{\"source\":{\"id\":\"2265533e-fb5d-4ec8-a6ca-e9ccc72cae62\",\"type\":\"ColumnDataSource\"}},\"id\":\"dcaba8ab-3fa4-45f0-aaaa-9059daa1f32e\",\"type\":\"CDSView\"},{\"attributes\":{\"line_alpha\":0.1,\"line_color\":\"#1f77b4\",\"line_width\":1.5,\"x\":{\"field\":\"x\"},\"y\":{\"field\":\"y\"}},\"id\":\"b813528d-91c1-4752-887c-d8b22b2b106e\",\"type\":\"Line\"},{\"attributes\":{\"children\":[{\"id\":\"b4e06a7a-80db-4cdf-ab4a-c45af72fa21e\",\"type\":\"Row\"}]},\"id\":\"492e6705-59a5-48dd-bc9b-17e182e01a5d\",\"type\":\"Column\"},{\"attributes\":{\"line_alpha\":0.1,\"line_color\":\"#1f77b4\",\"line_width\":1.5,\"x\":{\"field\":\"x\"},\"y\":{\"field\":\"y\"}},\"id\":\"ec4106bb-8b46-41f9-b1d9-3da78c6bf9c8\",\"type\":\"Line\"},{\"attributes\":{\"plot\":{\"id\":\"9b9f5b35-600d-4e1e-9d48-4c83962e6429\",\"subtype\":\"Figure\",\"type\":\"Plot\"},\"ticker\":{\"id\":\"cda32014-64fe-48e7-bf45-a30b316d82c5\",\"type\":\"BasicTicker\"}},\"id\":\"c4f82dcd-289d-462c-8bf8-b01929700dd3\",\"type\":\"Grid\"},{\"attributes\":{\"callback\":null,\"data\":{\"x\":{\"__ndarray__\":\"BPOcnL0Nnb8t1f1KhJmev78qr0aKiZ6/y5Hf7CDAmb/ltuC5tVSPv/gst5YGXzs/St2q+HpPlz/VrE8TX+iqPwTP0WsyMbc/OzlDccebwT9jSKnf4ObIP9QWMrK/x9A/8S7V1MvS1T8fculOZnLdP96S+6HCZuQ/YURPiIj06j8UKpN1k/PwP1oZ6DXRgvQ/ugkI9xQK+D+/tn76z3r7P/DSl+8qtf4/iLfOv112/z9BtWbQdYb6P+Gbps8O+PM/jpg0oaSb7T+D5d+ZlrnkPyRkvaRzNts/YbRccOUw0j9IqQDvT+/KP9X/QT3gLsQ/p5W+5/KsvD/imn8XXa6wP4qvCXi4bqI/HGebZ2FZlz/AUmQM79tQvwVNPIFfDKC/RC09As4+rb+8hcya+m6zv1tmoTXwN7e/13nIUvNuur/yONI6JmK6vzPyyAso1be/ET54E5optb8ccVlpeNGxvxabf4mylqy/5pNrw47qpL9XS8ADkbKcv9Z8oe+KupS/Sz/A3u0Pjr/y1ycqYquEv2VywYx2C3q/kTlP62grbr/LOWD311tcv2YPmstDcfW+uJ390nC7WD/Iu0VNpI5nP6tSMdDgr3A/dCO+aI7ydD9iFnAMDqF4Py864e3WtXs/sWMElS8vfj+Sbl3HPhyAP5Zuiv+m9IA/t/DqQziZgT+gwOmM0BCCP4ryKWFdhYI/x1OMfCn/gj8ewWHvq1WDP8nRWXPybIM/B/sog6Asgz9as74WLoqCP1qkxEcvnoE/9+55gFqMgD8/oO0BDOV+P5wCRZ63wHw/\",\"dtype\":\"float64\",\"shape\":[75]},\"y\":{\"__ndarray__\":\"GhExyth1ND/Sv8nbtpRIP2vylNV0PVE/aTum7souWD/At0SJ8fVgPw3Iuahxymc/MSNhhJWvcD/bTfBN02d3P2zb5nxnaoA/CD5h5MAGhz8NmeH1TyaQP+zrCsc9p5Y/LbKd76fGnz/bLW5ISEmmPww9YvTcQq8/JV2OstnstT8Er5Y7M8G+P0c+r3jqkcU/5h99k6ZBzj88bCIzFzjVP4enV8oyxN0//yH99nXg5D8qOpLLf0jtP5kqGJXUifQ/c9cS8kHP/D+/DpwzojQEQIEmwoanVwxA4lgXt9HgE0BSSZ2AJuIbQAMJih9jjiNA5q4l5INuK0AwTKYKRj0zQNv5fmq8/DpAaCJseHrtQkB/+zpwzoxKQM3MzMzMeFJAZmZmZmZqWEAAAAAAAFxeQM3MzMzMJmJAmpmZmZkfZUBmZmZmZhhoQDMzMzMzEWtAAAAAAAAKbkBmZmZmZoFwQM3MzMzM/XFAMzMzMzN6c0CamZmZmfZ0QAAAAAAAc3ZAZmZmZmbvd0DNzMzMzGt5QDMzMzMz6HpAmpmZmZlkfEAAAAAAAOF9QGZmZmZmXX9AZmZmZuZsgECamZmZGSuBQM3MzMxM6YFAAAAAAICngkAzMzMzs2WDQGZmZmbmI4RAmpmZmRnihEDNzMzMTKCFQAAAAACAXoZAMzMzM7Mch0BmZmZm5tqHQJqZmZkZmYhAzczMzExXiUAAAAAAgBWKQDMzMzOz04pAZmZmZuaRi0CamZmZGVCMQM3MzMxMDo1AAAAAAIDMjUAzMzMzs4qOQGZmZmbmSI9A\",\"dtype\":\"float64\",\"shape\":[75]}},\"selected\":{\"id\":\"dbedbbed-4fac-4148-8a9a-a61a8ab48cb3\",\"type\":\"Selection\"},\"selection_policy\":{\"id\":\"a043772b-1ce2-48a4-9584-e55fdbf8edd6\",\"type\":\"UnionRenderers\"}},\"id\":\"10e59fbc-9cdf-4272-9acc-7d94be54be9c\",\"type\":\"ColumnDataSource\"},{\"attributes\":{\"dimension\":1,\"plot\":{\"id\":\"38683a90-1665-4ea7-854c-46154064bff9\",\"subtype\":\"Figure\",\"type\":\"Plot\"},\"ticker\":{\"id\":\"2cdf8cfc-35cb-42eb-965e-b4059a0b6cc1\",\"type\":\"LogTicker\"}},\"id\":\"62d1dbe5-714c-4f0e-886c-5701b15892b7\",\"type\":\"Grid\"},{\"attributes\":{\"data_source\":{\"id\":\"d32e210f-ccc9-4657-be87-bb9b3a92db71\",\"type\":\"ColumnDataSource\"},\"glyph\":{\"id\":\"7bce36b9-27bf-4193-a20a-3293cb175dd0\",\"type\":\"Line\"},\"hover_glyph\":null,\"muted_glyph\":null,\"nonselection_glyph\":{\"id\":\"2e2530cd-a324-4057-ae9e-6079540d9a85\",\"type\":\"Line\"},\"selection_glyph\":null,\"view\":{\"id\":\"7ad59886-4a54-4e85-a55e-16c3b71580a7\",\"type\":\"CDSView\"}},\"id\":\"76652b89-328d-4697-8658-c9b4b0186bda\",\"type\":\"GlyphRenderer\"},{\"attributes\":{},\"id\":\"a4eda33d-b8cf-4230-bf04-cdf1517f9050\",\"type\":\"BasicTicker\"},{\"attributes\":{\"callback\":null,\"data\":{\"x\":{\"__ndarray__\":\"BPOcnL0Nnb8t1f1KhJmev78qr0aKiZ6/y5Hf7CDAmb/ltuC5tVSPv/gst5YGXzs/St2q+HpPlz/VrE8TX+iqPwTP0WsyMbc/OzlDccebwT9jSKnf4ObIP9QWMrK/x9A/8S7V1MvS1T8fculOZnLdP96S+6HCZuQ/YURPiIj06j8UKpN1k/PwP1oZ6DXRgvQ/ugkI9xQK+D+/tn76z3r7P/DSl+8qtf4/iLfOv112/z9BtWbQdYb6P+Gbps8O+PM/jpg0oaSb7T+D5d+ZlrnkPyRkvaRzNts/YbRccOUw0j9IqQDvT+/KP9X/QT3gLsQ/p5W+5/KsvD/imn8XXa6wP4qvCXi4bqI/HGebZ2FZlz/AUmQM79tQvwVNPIFfDKC/RC09As4+rb+8hcya+m6zv1tmoTXwN7e/13nIUvNuur/yONI6JmK6vzPyyAso1be/ET54E5optb8ccVlpeNGxvxabf4mylqy/5pNrw47qpL9XS8ADkbKcv9Z8oe+KupS/Sz/A3u0Pjr/y1ycqYquEv2VywYx2C3q/kTlP62grbr/LOWD311tcv2YPmstDcfW+uJ390nC7WD/Iu0VNpI5nP6tSMdDgr3A/dCO+aI7ydD9iFnAMDqF4Py864e3WtXs/sWMElS8vfj+Sbl3HPhyAP5Zuiv+m9IA/t/DqQziZgT+gwOmM0BCCP4ryKWFdhYI/x1OMfCn/gj8ewWHvq1WDP8nRWXPybIM/B/sog6Asgz9as74WLoqCP1qkxEcvnoE/9+55gFqMgD8/oO0BDOV+P5wCRZ63wHw/\",\"dtype\":\"float64\",\"shape\":[75]},\"y\":{\"__ndarray__\":\"GhExyth1ND/Sv8nbtpRIP2vylNV0PVE/aTum7souWD/At0SJ8fVgPw3Iuahxymc/MSNhhJWvcD/bTfBN02d3P2zb5nxnaoA/CD5h5MAGhz8NmeH1TyaQP+zrCsc9p5Y/LbKd76fGnz/bLW5ISEmmPww9YvTcQq8/JV2OstnstT8Er5Y7M8G+P0c+r3jqkcU/5h99k6ZBzj88bCIzFzjVP4enV8oyxN0//yH99nXg5D8qOpLLf0jtP5kqGJXUifQ/c9cS8kHP/D+/DpwzojQEQIEmwoanVwxA4lgXt9HgE0BSSZ2AJuIbQAMJih9jjiNA5q4l5INuK0AwTKYKRj0zQNv5fmq8/DpAaCJseHrtQkB/+zpwzoxKQM3MzMzMeFJAZmZmZmZqWEAAAAAAAFxeQM3MzMzMJmJAmpmZmZkfZUBmZmZmZhhoQDMzMzMzEWtAAAAAAAAKbkBmZmZmZoFwQM3MzMzM/XFAMzMzMzN6c0CamZmZmfZ0QAAAAAAAc3ZAZmZmZmbvd0DNzMzMzGt5QDMzMzMz6HpAmpmZmZlkfEAAAAAAAOF9QGZmZmZmXX9AZmZmZuZsgECamZmZGSuBQM3MzMxM6YFAAAAAAICngkAzMzMzs2WDQGZmZmbmI4RAmpmZmRnihEDNzMzMTKCFQAAAAACAXoZAMzMzM7Mch0BmZmZm5tqHQJqZmZkZmYhAzczMzExXiUAAAAAAgBWKQDMzMzOz04pAZmZmZuaRi0CamZmZGVCMQM3MzMxMDo1AAAAAAIDMjUAzMzMzs4qOQGZmZmbmSI9A\",\"dtype\":\"float64\",\"shape\":[75]}},\"selected\":{\"id\":\"94942b48-8b63-4488-bffc-5d3e0de2259b\",\"type\":\"Selection\"},\"selection_policy\":{\"id\":\"e7e1ff98-8c6b-4855-a03e-45549dd47a14\",\"type\":\"UnionRenderers\"}},\"id\":\"60094fc0-0b4d-47bd-b255-4d2a41001d0a\",\"type\":\"ColumnDataSource\"},{\"attributes\":{\"num_minor_ticks\":10},\"id\":\"2cdf8cfc-35cb-42eb-965e-b4059a0b6cc1\",\"type\":\"LogTicker\"},{\"attributes\":{},\"id\":\"d28a5881-0454-4ee8-9c59-241cef2f2eba\",\"type\":\"LogScale\"},{\"attributes\":{\"line_alpha\":0.1,\"line_color\":\"#1f77b4\",\"line_dash\":[6],\"line_width\":5,\"x\":{\"field\":\"x\"},\"y\":{\"field\":\"y\"}},\"id\":\"2e2530cd-a324-4057-ae9e-6079540d9a85\",\"type\":\"Line\"},{\"attributes\":{},\"id\":\"14d1fe54-7784-4a2a-b7ef-b02afcb08257\",\"type\":\"Selection\"},{\"attributes\":{},\"id\":\"bf41e8f8-6cb9-4bd3-b513-f3bfd34c8e74\",\"type\":\"HelpTool\"},{\"attributes\":{\"callback\":null,\"data\":{\"x\":{\"__ndarray__\":\"rMG3ZXJekb/2+QBbo7qSv/41DUhVTZC/D8kaNFNqh7/lSC4nEQhqv5fxY8ZuMoM/OcLuudVomz/iIKFc23epPwazq6VqNLQ/W3f+srFzvT9upiI+2FzEPxcHX0MOGss/EilAlraD0T/IWMARGqHXP2CBTL5sfeA/QGFziggZ5j9MVEvnT1zsPyakCN6ym/E/qyHV3W9D9T8jVGSkQRH5Py+HGtZNt/w/boygQ9Jd/j9Apozfrbn6PwLL27AcffQ/R45Si1rs7T9iyiKfadLkP/dDRFgA3ts/E2DVoq4l0z90Y37rSKLNPxJrSInD4cY/rBSpmRR4wD+v+eWl2X2zP20trOWthqU/oekYnfDRmD9BDBZPOPRkv55RSEtJuqK/eb0uB0Njsb/+N2DGYG23v0plSzVn8bu/KL0F9PxIv78Gh7UhlDG+v0Us3e/+Fbq/mxsrll4Ntr8K9Vg7m6qxv/w4Z7s2E6u/FZHEaq4jo7/+zBLaVbKZv92k8zAfOZK/bprv5LHeib/xBgvrmU+BvwQMLlrmAHW/+ngoY5bAZr8hfU5UCxtRv0cWRILu6D4/j3Be6rTZXT95p5mcNsloP8u7jChetHA/VCFX0yhwdD9o5qubWKZ3PzpBDWxOWXo/gHyrC/R+fD/WYf+7sUJ+P7OMHicJun8/x13sV8xqgD+3azt2ftCAP8obW/y1NIE/EDQtNsWegT+yJXmTHOqBP0x6JgLf/YE/qcer9w/LgT/Gy8xt1EWBPzNa1BCigoA/sNN7v+ZCfz+4F5a8NW19P54HGdDvpns/\",\"dtype\":\"float64\",\"shape\":[75]},\"y\":{\"__ndarray__\":\"GhExyth1ND/Sv8nbtpRIP2vylNV0PVE/aTum7souWD/At0SJ8fVgPw3Iuahxymc/MSNhhJWvcD/bTfBN02d3P2zb5nxnaoA/CD5h5MAGhz8NmeH1TyaQP+zrCsc9p5Y/LbKd76fGnz/bLW5ISEmmPww9YvTcQq8/JV2OstnstT8Er5Y7M8G+P0c+r3jqkcU/5h99k6ZBzj88bCIzFzjVP4enV8oyxN0//yH99nXg5D8qOpLLf0jtP5kqGJXUifQ/c9cS8kHP/D+/DpwzojQEQIEmwoanVwxA4lgXt9HgE0BSSZ2AJuIbQAMJih9jjiNA5q4l5INuK0AwTKYKRj0zQNv5fmq8/DpAaCJseHrtQkB/+zpwzoxKQM3MzMzMeFJAZmZmZmZqWEAAAAAAAFxeQM3MzMzMJmJAmpmZmZkfZUBmZmZmZhhoQDMzMzMzEWtAAAAAAAAKbkBmZmZmZoFwQM3MzMzM/XFAMzMzMzN6c0CamZmZmfZ0QAAAAAAAc3ZAZmZmZmbvd0DNzMzMzGt5QDMzMzMz6HpAmpmZmZlkfEAAAAAAAOF9QGZmZmZmXX9AZmZmZuZsgECamZmZGSuBQM3MzMxM6YFAAAAAAICngkAzMzMzs2WDQGZmZmbmI4RAmpmZmRnihEDNzMzMTKCFQAAAAACAXoZAMzMzM7Mch0BmZmZm5tqHQJqZmZkZmYhAzczMzExXiUAAAAAAgBWKQDMzMzOz04pAZmZmZuaRi0CamZmZGVCMQM3MzMxMDo1AAAAAAIDMjUAzMzMzs4qOQGZmZmbmSI9A\",\"dtype\":\"float64\",\"shape\":[75]}},\"selected\":{\"id\":\"b952fbf2-9bce-4e8d-b99a-acdfd5f086a5\",\"type\":\"Selection\"},\"selection_policy\":{\"id\":\"bef3e78d-3946-499b-82af-fbb321f34fcf\",\"type\":\"UnionRenderers\"}},\"id\":\"d32e210f-ccc9-4657-be87-bb9b3a92db71\",\"type\":\"ColumnDataSource\"},{\"attributes\":{\"source\":{\"id\":\"60094fc0-0b4d-47bd-b255-4d2a41001d0a\",\"type\":\"ColumnDataSource\"}},\"id\":\"7dacc56a-e180-422e-a126-69995b8112d8\",\"type\":\"CDSView\"},{\"attributes\":{},\"id\":\"2144c694-7b2f-4a0f-a17e-1e70e0a98602\",\"type\":\"BasicTickFormatter\"},{\"attributes\":{},\"id\":\"97d39bc6-7d22-447a-8bb5-af1f98fa569b\",\"type\":\"ResetTool\"},{\"attributes\":{\"axis_label\":\"pressure [mb]\",\"formatter\":{\"id\":\"29259471-c8ea-4571-bf83-f9fcef6fbc44\",\"type\":\"LogTickFormatter\"},\"plot\":{\"id\":\"38683a90-1665-4ea7-854c-46154064bff9\",\"subtype\":\"Figure\",\"type\":\"Plot\"},\"ticker\":{\"id\":\"2cdf8cfc-35cb-42eb-965e-b4059a0b6cc1\",\"type\":\"LogTicker\"}},\"id\":\"9ed07e67-a04a-4421-a357-8ee7dbcf4af1\",\"type\":\"LogAxis\"},{\"attributes\":{},\"id\":\"8baebfc5-f1c1-42fb-a4b1-46fd0e2a4b34\",\"type\":\"PanTool\"},{\"attributes\":{},\"id\":\"373e67bc-cd1c-4755-848e-53b847633565\",\"type\":\"HelpTool\"},{\"attributes\":{\"data_source\":{\"id\":\"56d275d8-4d58-4d06-8511-5270135e3bef\",\"type\":\"ColumnDataSource\"},\"glyph\":{\"id\":\"93383001-79f4-4ede-9a7d-b745b080db56\",\"type\":\"Line\"},\"hover_glyph\":null,\"muted_glyph\":null,\"nonselection_glyph\":{\"id\":\"166b41f7-3aaf-44f4-80dd-75d1b350f70a\",\"type\":\"Line\"},\"selection_glyph\":null,\"view\":{\"id\":\"67e0b2e9-1a99-4cb3-af2f-dc2925f58c37\",\"type\":\"CDSView\"}},\"id\":\"e042a362-87d6-43ed-942e-1350e15bd6d5\",\"type\":\"GlyphRenderer\"},{\"attributes\":{},\"id\":\"ce1ea59c-2355-484e-8077-efe0110f8372\",\"type\":\"LinearScale\"},{\"attributes\":{\"axis_label\":\"pressure [mb]\",\"formatter\":{\"id\":\"38f8057e-f11f-44f3-b97e-c53e14540cf3\",\"type\":\"BasicTickFormatter\"},\"plot\":{\"id\":\"9b9f5b35-600d-4e1e-9d48-4c83962e6429\",\"subtype\":\"Figure\",\"type\":\"Plot\"},\"ticker\":{\"id\":\"c54944e9-51c3-4694-a65a-aab88efa4636\",\"type\":\"BasicTicker\"}},\"id\":\"dddc50d0-e3d8-43ce-a332-3af2218404cf\",\"type\":\"LinearAxis\"},{\"attributes\":{\"label\":{\"value\":\"CRD\"},\"renderers\":[{\"id\":\"22e2669b-c450-4ed8-b229-5eb18848146c\",\"type\":\"GlyphRenderer\"},{\"id\":\"729bfbb3-5cfb-4f23-a78f-078243772b1f\",\"type\":\"GlyphRenderer\"}]},\"id\":\"8803dac6-a300-4c60-b417-582c66ab53f4\",\"type\":\"LegendItem\"},{\"attributes\":{\"callback\":null,\"data\":{\"x\":{\"__ndarray__\":\"BPOcnL0Nnb8t1f1KhJmev78qr0aKiZ6/y5Hf7CDAmb/ltuC5tVSPv/gst5YGXzs/St2q+HpPlz/VrE8TX+iqPwTP0WsyMbc/OzlDccebwT9jSKnf4ObIP9QWMrK/x9A/8S7V1MvS1T8fculOZnLdP96S+6HCZuQ/YURPiIj06j8UKpN1k/PwP1oZ6DXRgvQ/ugkI9xQK+D+/tn76z3r7P/DSl+8qtf4/iLfOv112/z9BtWbQdYb6P+Gbps8O+PM/jpg0oaSb7T+D5d+ZlrnkPyRkvaRzNts/YbRccOUw0j9IqQDvT+/KP9X/QT3gLsQ/p5W+5/KsvD/imn8XXa6wP4qvCXi4bqI/HGebZ2FZlz/AUmQM79tQvwVNPIFfDKC/RC09As4+rb+8hcya+m6zv1tmoTXwN7e/13nIUvNuur/yONI6JmK6vzPyyAso1be/ET54E5optb8ccVlpeNGxvxabf4mylqy/5pNrw47qpL9XS8ADkbKcv9Z8oe+KupS/Sz/A3u0Pjr/y1ycqYquEv2VywYx2C3q/kTlP62grbr/LOWD311tcv2YPmstDcfW+uJ390nC7WD/Iu0VNpI5nP6tSMdDgr3A/dCO+aI7ydD9iFnAMDqF4Py864e3WtXs/sWMElS8vfj+Sbl3HPhyAP5Zuiv+m9IA/t/DqQziZgT+gwOmM0BCCP4ryKWFdhYI/x1OMfCn/gj8ewWHvq1WDP8nRWXPybIM/B/sog6Asgz9as74WLoqCP1qkxEcvnoE/9+55gFqMgD8/oO0BDOV+P5wCRZ63wHw/\",\"dtype\":\"float64\",\"shape\":[75]},\"y\":{\"__ndarray__\":\"GhExyth1ND/Sv8nbtpRIP2vylNV0PVE/aTum7souWD/At0SJ8fVgPw3Iuahxymc/MSNhhJWvcD/bTfBN02d3P2zb5nxnaoA/CD5h5MAGhz8NmeH1TyaQP+zrCsc9p5Y/LbKd76fGnz/bLW5ISEmmPww9YvTcQq8/JV2OstnstT8Er5Y7M8G+P0c+r3jqkcU/5h99k6ZBzj88bCIzFzjVP4enV8oyxN0//yH99nXg5D8qOpLLf0jtP5kqGJXUifQ/c9cS8kHP/D+/DpwzojQEQIEmwoanVwxA4lgXt9HgE0BSSZ2AJuIbQAMJih9jjiNA5q4l5INuK0AwTKYKRj0zQNv5fmq8/DpAaCJseHrtQkB/+zpwzoxKQM3MzMzMeFJAZmZmZmZqWEAAAAAAAFxeQM3MzMzMJmJAmpmZmZkfZUBmZmZmZhhoQDMzMzMzEWtAAAAAAAAKbkBmZmZmZoFwQM3MzMzM/XFAMzMzMzN6c0CamZmZmfZ0QAAAAAAAc3ZAZmZmZmbvd0DNzMzMzGt5QDMzMzMz6HpAmpmZmZlkfEAAAAAAAOF9QGZmZmZmXX9AZmZmZuZsgECamZmZGSuBQM3MzMxM6YFAAAAAAICngkAzMzMzs2WDQGZmZmbmI4RAmpmZmRnihEDNzMzMTKCFQAAAAACAXoZAMzMzM7Mch0BmZmZm5tqHQJqZmZkZmYhAzczMzExXiUAAAAAAgBWKQDMzMzOz04pAZmZmZuaRi0CamZmZGVCMQM3MzMxMDo1AAAAAAIDMjUAzMzMzs4qOQGZmZmbmSI9A\",\"dtype\":\"float64\",\"shape\":[75]}},\"selected\":{\"id\":\"b26c0300-3bac-4722-accd-dce5506d0b79\",\"type\":\"Selection\"},\"selection_policy\":{\"id\":\"dec34b2e-076e-4629-8732-5b072f13593f\",\"type\":\"UnionRenderers\"}},\"id\":\"2265533e-fb5d-4ec8-a6ca-e9ccc72cae62\",\"type\":\"ColumnDataSource\"},{\"attributes\":{\"fill_alpha\":{\"value\":0.7},\"fill_color\":{\"value\":\"#4daf4a\"},\"line_alpha\":{\"value\":0.7},\"line_color\":{\"value\":\"#4daf4a\"},\"x\":{\"field\":\"x\"},\"y\":{\"field\":\"y\"}},\"id\":\"fa8e4c14-5843-448f-b85c-a719622dadfb\",\"type\":\"Circle\"},{\"attributes\":{},\"id\":\"bef3e78d-3946-499b-82af-fbb321f34fcf\",\"type\":\"UnionRenderers\"},{\"attributes\":{\"line_alpha\":0.6,\"line_color\":\"#e41a1c\",\"line_dash\":[6],\"line_width\":5,\"x\":{\"field\":\"x\"},\"y\":{\"field\":\"y\"}},\"id\":\"7bce36b9-27bf-4193-a20a-3293cb175dd0\",\"type\":\"Line\"},{\"attributes\":{},\"id\":\"181796fa-d72f-4c70-a38b-95a256c7bf4b\",\"type\":\"SaveTool\"},{\"attributes\":{\"data_source\":{\"id\":\"2265533e-fb5d-4ec8-a6ca-e9ccc72cae62\",\"type\":\"ColumnDataSource\"},\"glyph\":{\"id\":\"7a0b4d38-a1f2-4162-9a63-afabe93f4a5b\",\"type\":\"Line\"},\"hover_glyph\":null,\"muted_glyph\":null,\"nonselection_glyph\":{\"id\":\"ec4106bb-8b46-41f9-b1d9-3da78c6bf9c8\",\"type\":\"Line\"},\"selection_glyph\":null,\"view\":{\"id\":\"dcaba8ab-3fa4-45f0-aaaa-9059daa1f32e\",\"type\":\"CDSView\"}},\"id\":\"6d105dc8-245a-4b04-a0db-27ddf1f006a6\",\"type\":\"GlyphRenderer\"},{\"attributes\":{\"axis_label\":\"cooling rate [K/day]\",\"formatter\":{\"id\":\"24c5a9dc-6d07-4c77-a27e-dd235f9f4e79\",\"type\":\"BasicTickFormatter\"},\"plot\":{\"id\":\"38683a90-1665-4ea7-854c-46154064bff9\",\"subtype\":\"Figure\",\"type\":\"Plot\"},\"ticker\":{\"id\":\"a4eda33d-b8cf-4230-bf04-cdf1517f9050\",\"type\":\"BasicTicker\"}},\"id\":\"54b73fbc-3c6e-4799-8e86-0a99d10fa81d\",\"type\":\"LinearAxis\"},{\"attributes\":{\"line_color\":\"#4daf4a\",\"line_width\":1.5,\"x\":{\"field\":\"x\"},\"y\":{\"field\":\"y\"}},\"id\":\"7a0b4d38-a1f2-4162-9a63-afabe93f4a5b\",\"type\":\"Line\"},{\"attributes\":{\"label\":{\"value\":\"CLIRAD\"},\"renderers\":[{\"id\":\"76652b89-328d-4697-8658-c9b4b0186bda\",\"type\":\"GlyphRenderer\"}]},\"id\":\"7bf6d25d-4527-4337-aeb2-d581314cba82\",\"type\":\"LegendItem\"},{\"attributes\":{\"overlay\":{\"id\":\"5d2084d1-a69e-4381-8b77-8ac7e944531f\",\"type\":\"BoxAnnotation\"}},\"id\":\"e9953962-5a57-4402-a37e-8fe8734293f3\",\"type\":\"BoxZoomTool\"},{\"attributes\":{\"active_drag\":\"auto\",\"active_inspect\":\"auto\",\"active_scroll\":\"auto\",\"active_tap\":\"auto\",\"tools\":[{\"id\":\"0329f0ca-e604-4cab-8202-fecba3c58610\",\"type\":\"PanTool\"},{\"id\":\"328acc1f-5e41-4532-a608-f0d9e466a73e\",\"type\":\"WheelZoomTool\"},{\"id\":\"3d7cea8e-37b8-4a36-b95b-40ac2f9d0cdd\",\"type\":\"BoxZoomTool\"},{\"id\":\"51e0559c-888f-467e-9b64-a987bf14c902\",\"type\":\"SaveTool\"},{\"id\":\"df9776a8-3866-4a5d-b935-09c1240f15ba\",\"type\":\"ResetTool\"},{\"id\":\"109c5674-36d3-4894-95aa-31ec5aacebe0\",\"type\":\"HelpTool\"}]},\"id\":\"8e3a6965-9db7-434f-ac09-2ba2500003b8\",\"type\":\"Toolbar\"},{\"attributes\":{},\"id\":\"38f8057e-f11f-44f3-b97e-c53e14540cf3\",\"type\":\"BasicTickFormatter\"},{\"attributes\":{\"data_source\":{\"id\":\"60094fc0-0b4d-47bd-b255-4d2a41001d0a\",\"type\":\"ColumnDataSource\"},\"glyph\":{\"id\":\"6e124c41-d3d4-4f56-9480-a34f1a62352f\",\"type\":\"Circle\"},\"hover_glyph\":null,\"muted_glyph\":null,\"nonselection_glyph\":{\"id\":\"a808a62b-0b03-4ca8-af4a-424cc6070118\",\"type\":\"Circle\"},\"selection_glyph\":null,\"view\":{\"id\":\"7dacc56a-e180-422e-a126-69995b8112d8\",\"type\":\"CDSView\"}},\"id\":\"f9041980-8bb6-43ee-8087-959f183783fc\",\"type\":\"GlyphRenderer\"},{\"attributes\":{\"fill_alpha\":{\"value\":0.1},\"fill_color\":{\"value\":\"#1f77b4\"},\"line_alpha\":{\"value\":0.1},\"line_color\":{\"value\":\"#1f77b4\"},\"x\":{\"field\":\"x\"},\"y\":{\"field\":\"y\"}},\"id\":\"a808a62b-0b03-4ca8-af4a-424cc6070118\",\"type\":\"Circle\"},{\"attributes\":{\"items\":[{\"id\":\"dac38cfe-77f3-4f25-8ec9-eac4bb745196\",\"type\":\"LegendItem\"}],\"label_text_font_size\":{\"value\":\"8pt\"},\"location\":\"top_center\",\"orientation\":\"horizontal\",\"plot\":{\"id\":\"38683a90-1665-4ea7-854c-46154064bff9\",\"subtype\":\"Figure\",\"type\":\"Plot\"}},\"id\":\"47369b37-c74c-4c3b-b3a3-d8725a1474a1\",\"type\":\"Legend\"}],\"root_ids\":[\"41b5b8e8-fdb0-4f7c-b2d0-f2295fcb3d8f\"]},\"title\":\"Bokeh Application\",\"version\":\"0.12.16\"}};\n",
       "  var render_items = [{\"docid\":\"37f7086b-18c3-4342-870c-d84b120ef710\",\"elementid\":\"9629959b-2c09-4919-8603-ac19b5fecd75\",\"modelid\":\"41b5b8e8-fdb0-4f7c-b2d0-f2295fcb3d8f\"}];\n",
       "  root.Bokeh.embed.embed_items_notebook(docs_json, render_items);\n",
       "\n",
       "  }\n",
       "  if (root.Bokeh !== undefined) {\n",
       "    embed_document(root);\n",
       "  } else {\n",
       "    var attempts = 0;\n",
       "    var timer = setInterval(function(root) {\n",
       "      if (root.Bokeh !== undefined) {\n",
       "        embed_document(root);\n",
       "        clearInterval(timer);\n",
       "      }\n",
       "      attempts++;\n",
       "      if (attempts > 100) {\n",
       "        console.log(\"Bokeh: ERROR: Unable to run BokehJS code because BokehJS library is missing\")\n",
       "        clearInterval(timer);\n",
       "      }\n",
       "    }, 10, root)\n",
       "  }\n",
       "})(window);"
      ],
      "application/vnd.bokehjs_exec.v0+json": ""
     },
     "metadata": {
      "application/vnd.bokehjs_exec.v0+json": {
       "id": "41b5b8e8-fdb0-4f7c-b2d0-f2295fcb3d8f"
      }
     },
     "output_type": "display_data"
    },
    {
     "data": {
      "text/markdown": [
       "*FIGURE.* Cooling rates & difference."
      ],
      "text/plain": [
       "<IPython.core.display.Markdown object>"
      ]
     },
     "metadata": {},
     "output_type": "display_data"
    },
    {
     "data": {
      "text/html": [
       "<a id=\"Fluxes._saw.\"></a>"
      ],
      "text/plain": [
       "<IPython.core.display.HTML object>"
      ]
     },
     "metadata": {},
     "output_type": "display_data"
    },
    {
     "data": {
      "text/markdown": [
       "# Fluxes. saw."
      ],
      "text/plain": [
       "<IPython.core.display.Markdown object>"
      ]
     },
     "metadata": {},
     "output_type": "display_data"
    },
    {
     "data": {
      "text/html": [
       "\n",
       "<div class=\"bk-root\">\n",
       "    <div class=\"bk-plotdiv\" id=\"8310bca8-fc7a-4a49-a050-755547c46560\"></div>\n",
       "</div>"
      ]
     },
     "metadata": {},
     "output_type": "display_data"
    },
    {
     "data": {
      "application/javascript": [
       "(function(root) {\n",
       "  function embed_document(root) {\n",
       "    \n",
       "  var docs_json = {\"3adb79ee-84bf-4c70-bcc9-42cc6bc51ee4\":{\"roots\":{\"references\":[{\"attributes\":{\"plot\":null,\"text\":\"Atmosphere heating. CLIRAD - CRD.\"},\"id\":\"3140d40b-2db5-4887-8e88-3c5fba663ae9\",\"type\":\"Title\"},{\"attributes\":{\"bottom_units\":\"screen\",\"fill_alpha\":{\"value\":0.5},\"fill_color\":{\"value\":\"lightgrey\"},\"left_units\":\"screen\",\"level\":\"overlay\",\"line_alpha\":{\"value\":1.0},\"line_color\":{\"value\":\"black\"},\"line_dash\":[4,4],\"line_width\":{\"value\":2},\"plot\":null,\"render_mode\":\"css\",\"right_units\":\"screen\",\"top_units\":\"screen\"},\"id\":\"22350a20-78fc-4e44-aca3-2a8a134b9121\",\"type\":\"BoxAnnotation\"},{\"attributes\":{\"data_source\":{\"id\":\"3f6cde96-b23c-4f90-9dbc-66492dbf29c4\",\"type\":\"ColumnDataSource\"},\"glyph\":{\"id\":\"7782c001-8907-427c-9699-b13acb314349\",\"type\":\"VBar\"},\"hover_glyph\":null,\"muted_glyph\":null,\"nonselection_glyph\":{\"id\":\"7f180fcf-7bec-4f9b-83a9-3588c2dd3eb6\",\"type\":\"VBar\"},\"selection_glyph\":null,\"view\":{\"id\":\"4a8b3a67-e76d-4800-9e03-118009a82bbb\",\"type\":\"CDSView\"}},\"id\":\"ac6f3e1f-2e66-4af7-8189-76948454eb37\",\"type\":\"GlyphRenderer\"},{\"attributes\":{\"fill_alpha\":{\"value\":0.1},\"fill_color\":{\"value\":\"#1f77b4\"},\"line_alpha\":{\"value\":0.1},\"line_color\":{\"value\":\"#1f77b4\"},\"top\":{\"field\":\"flux\"},\"width\":{\"value\":0.9},\"x\":{\"field\":\"band\"}},\"id\":\"7f180fcf-7bec-4f9b-83a9-3588c2dd3eb6\",\"type\":\"VBar\"},{\"attributes\":{\"children\":[{\"id\":\"80c766b3-3183-4fbe-b576-79431facd51d\",\"subtype\":\"Figure\",\"type\":\"Plot\"},{\"id\":\"407da393-17a2-4d27-8607-fe344c8356e7\",\"subtype\":\"Figure\",\"type\":\"Plot\"},{\"id\":\"97d78915-112c-4367-8080-be8c99034501\",\"subtype\":\"Figure\",\"type\":\"Plot\"}]},\"id\":\"314e536e-75d1-422b-8754-fe659bd8c26b\",\"type\":\"Row\"},{\"attributes\":{\"dimension\":1,\"plot\":{\"id\":\"97d78915-112c-4367-8080-be8c99034501\",\"subtype\":\"Figure\",\"type\":\"Plot\"},\"ticker\":{\"id\":\"bb61325c-97cc-44a1-8688-72554fe99233\",\"type\":\"BasicTicker\"}},\"id\":\"026d6e23-d579-4e4f-9308-16a8816173a3\",\"type\":\"Grid\"},{\"attributes\":{},\"id\":\"bb61325c-97cc-44a1-8688-72554fe99233\",\"type\":\"BasicTicker\"},{\"attributes\":{\"fill_color\":{\"value\":\"#1f77b4\"},\"line_color\":{\"value\":\"#1f77b4\"},\"top\":{\"field\":\"flux\"},\"width\":{\"value\":0.9},\"x\":{\"field\":\"band\"}},\"id\":\"7782c001-8907-427c-9699-b13acb314349\",\"type\":\"VBar\"},{\"attributes\":{\"overlay\":{\"id\":\"5912423c-41cb-4348-802a-9c288bb107b2\",\"type\":\"BoxAnnotation\"}},\"id\":\"a1542106-93fe-45b8-9594-b8adbc4ce302\",\"type\":\"BoxZoomTool\"},{\"attributes\":{},\"id\":\"bc232e49-9318-48f6-810d-a4b8a1ce3a9c\",\"type\":\"CategoricalTicker\"},{\"attributes\":{\"axis_label\":\"spectral band\",\"formatter\":{\"id\":\"aa4de0f7-6804-461c-a3f4-322edd073a00\",\"type\":\"CategoricalTickFormatter\"},\"plot\":{\"id\":\"97d78915-112c-4367-8080-be8c99034501\",\"subtype\":\"Figure\",\"type\":\"Plot\"},\"ticker\":{\"id\":\"bc232e49-9318-48f6-810d-a4b8a1ce3a9c\",\"type\":\"CategoricalTicker\"}},\"id\":\"1bd5efb6-30dc-4d9c-8622-7e4c138fd5e9\",\"type\":\"CategoricalAxis\"},{\"attributes\":{\"plot\":{\"id\":\"97d78915-112c-4367-8080-be8c99034501\",\"subtype\":\"Figure\",\"type\":\"Plot\"},\"ticker\":{\"id\":\"bc232e49-9318-48f6-810d-a4b8a1ce3a9c\",\"type\":\"CategoricalTicker\"}},\"id\":\"d2a50e33-8912-4172-a715-5054d844be9d\",\"type\":\"Grid\"},{\"attributes\":{},\"id\":\"1f596482-274f-4f3f-96ca-225ccccea633\",\"type\":\"LinearScale\"},{\"attributes\":{\"callback\":null},\"id\":\"818de8b5-9351-4c37-9510-9ea7365f82b6\",\"type\":\"DataRange1d\"},{\"attributes\":{},\"id\":\"a27e8ddd-544a-482b-9a4b-cf056bfe550f\",\"type\":\"CategoricalScale\"},{\"attributes\":{},\"id\":\"f084d7b2-9d72-4f19-ad67-060156b792aa\",\"type\":\"UnionRenderers\"},{\"attributes\":{\"active_drag\":\"auto\",\"active_inspect\":\"auto\",\"active_scroll\":\"auto\",\"active_tap\":\"auto\",\"tools\":[{\"id\":\"99f272fa-3bee-4dc3-9bb0-3ca7158a75cd\",\"type\":\"PanTool\"},{\"id\":\"486aa979-1498-4e8a-8d9d-158557e112d6\",\"type\":\"WheelZoomTool\"},{\"id\":\"1ceee5d5-c2eb-43ed-93c8-78c32c733671\",\"type\":\"BoxZoomTool\"},{\"id\":\"d26e55b1-b41d-41ff-9fa9-877ea0409afa\",\"type\":\"SaveTool\"},{\"id\":\"2acb606e-3570-48a8-b9fa-3a3c5e8ceae0\",\"type\":\"ResetTool\"},{\"id\":\"3e43e549-51ae-403e-9e72-9835a573b401\",\"type\":\"HelpTool\"}]},\"id\":\"03c5e359-1b93-43da-8e85-6e0a51fb92b2\",\"type\":\"Toolbar\"},{\"attributes\":{},\"id\":\"47246af6-7a52-4b76-8ca0-c35185c12cbf\",\"type\":\"HelpTool\"},{\"attributes\":{\"callback\":null,\"factors\":[\"7\"]},\"id\":\"5438615c-eb7c-403b-9c7f-139aac9cc134\",\"type\":\"FactorRange\"},{\"attributes\":{},\"id\":\"e1bc9205-a569-4cc7-b1bc-9d079e179ca3\",\"type\":\"ResetTool\"},{\"attributes\":{\"axis_label\":\"flux (W m-2)\",\"formatter\":{\"id\":\"29988717-b887-4a60-aa64-c9d47b9f82f6\",\"type\":\"BasicTickFormatter\"},\"plot\":{\"id\":\"97d78915-112c-4367-8080-be8c99034501\",\"subtype\":\"Figure\",\"type\":\"Plot\"},\"ticker\":{\"id\":\"bb61325c-97cc-44a1-8688-72554fe99233\",\"type\":\"BasicTicker\"}},\"id\":\"954601a6-2c7f-4a8a-a439-218acbf3bdc5\",\"type\":\"LinearAxis\"},{\"attributes\":{},\"id\":\"00657727-09ba-46bb-9cae-389b087fd9a3\",\"type\":\"SaveTool\"},{\"attributes\":{\"bottom_units\":\"screen\",\"fill_alpha\":{\"value\":0.5},\"fill_color\":{\"value\":\"lightgrey\"},\"left_units\":\"screen\",\"level\":\"overlay\",\"line_alpha\":{\"value\":1.0},\"line_color\":{\"value\":\"black\"},\"line_dash\":[4,4],\"line_width\":{\"value\":2},\"plot\":null,\"render_mode\":\"css\",\"right_units\":\"screen\",\"top_units\":\"screen\"},\"id\":\"5912423c-41cb-4348-802a-9c288bb107b2\",\"type\":\"BoxAnnotation\"},{\"attributes\":{\"fill_color\":{\"value\":\"#1f77b4\"},\"line_color\":{\"value\":\"#1f77b4\"},\"top\":{\"field\":\"flux\"},\"width\":{\"value\":0.9},\"x\":{\"field\":\"band\"}},\"id\":\"8fca77c6-4299-4a3b-9758-2255da06f5ca\",\"type\":\"VBar\"},{\"attributes\":{},\"id\":\"99f272fa-3bee-4dc3-9bb0-3ca7158a75cd\",\"type\":\"PanTool\"},{\"attributes\":{},\"id\":\"02597fec-4f00-4603-8ab2-9d3b7907f5e9\",\"type\":\"LinearScale\"},{\"attributes\":{\"below\":[{\"id\":\"1bd5efb6-30dc-4d9c-8622-7e4c138fd5e9\",\"type\":\"CategoricalAxis\"}],\"left\":[{\"id\":\"954601a6-2c7f-4a8a-a439-218acbf3bdc5\",\"type\":\"LinearAxis\"}],\"plot_height\":300,\"plot_width\":300,\"renderers\":[{\"id\":\"1bd5efb6-30dc-4d9c-8622-7e4c138fd5e9\",\"type\":\"CategoricalAxis\"},{\"id\":\"d2a50e33-8912-4172-a715-5054d844be9d\",\"type\":\"Grid\"},{\"id\":\"954601a6-2c7f-4a8a-a439-218acbf3bdc5\",\"type\":\"LinearAxis\"},{\"id\":\"026d6e23-d579-4e4f-9308-16a8816173a3\",\"type\":\"Grid\"},{\"id\":\"22350a20-78fc-4e44-aca3-2a8a134b9121\",\"type\":\"BoxAnnotation\"},{\"id\":\"ac6f3e1f-2e66-4af7-8189-76948454eb37\",\"type\":\"GlyphRenderer\"}],\"title\":{\"id\":\"3140d40b-2db5-4887-8e88-3c5fba663ae9\",\"type\":\"Title\"},\"toolbar\":{\"id\":\"03c5e359-1b93-43da-8e85-6e0a51fb92b2\",\"type\":\"Toolbar\"},\"toolbar_location\":null,\"x_range\":{\"id\":\"5438615c-eb7c-403b-9c7f-139aac9cc134\",\"type\":\"FactorRange\"},\"x_scale\":{\"id\":\"a27e8ddd-544a-482b-9a4b-cf056bfe550f\",\"type\":\"CategoricalScale\"},\"y_range\":{\"id\":\"818de8b5-9351-4c37-9510-9ea7365f82b6\",\"type\":\"DataRange1d\"},\"y_scale\":{\"id\":\"1f596482-274f-4f3f-96ca-225ccccea633\",\"type\":\"LinearScale\"}},\"id\":\"97d78915-112c-4367-8080-be8c99034501\",\"subtype\":\"Figure\",\"type\":\"Plot\"},{\"attributes\":{},\"id\":\"de53e154-65e4-4b39-b26e-f17e226d2bdc\",\"type\":\"Selection\"},{\"attributes\":{},\"id\":\"486aa979-1498-4e8a-8d9d-158557e112d6\",\"type\":\"WheelZoomTool\"},{\"attributes\":{\"overlay\":{\"id\":\"22350a20-78fc-4e44-aca3-2a8a134b9121\",\"type\":\"BoxAnnotation\"}},\"id\":\"1ceee5d5-c2eb-43ed-93c8-78c32c733671\",\"type\":\"BoxZoomTool\"},{\"attributes\":{},\"id\":\"2acb606e-3570-48a8-b9fa-3a3c5e8ceae0\",\"type\":\"ResetTool\"},{\"attributes\":{\"dimension\":1,\"plot\":{\"id\":\"407da393-17a2-4d27-8607-fe344c8356e7\",\"subtype\":\"Figure\",\"type\":\"Plot\"},\"ticker\":{\"id\":\"7e22ccc7-f41a-4dc3-83fe-ba1f97c89c57\",\"type\":\"BasicTicker\"}},\"id\":\"04369177-8a3e-435b-bded-b32e800d801d\",\"type\":\"Grid\"},{\"attributes\":{},\"id\":\"d26e55b1-b41d-41ff-9fa9-877ea0409afa\",\"type\":\"SaveTool\"},{\"attributes\":{\"callback\":null},\"id\":\"5bcc027f-fd96-4327-8005-64ec66cc3c2f\",\"type\":\"DataRange1d\"},{\"attributes\":{},\"id\":\"3e43e549-51ae-403e-9e72-9835a573b401\",\"type\":\"HelpTool\"},{\"attributes\":{\"children\":[{\"id\":\"9f0a7a18-ba3f-4d6e-8848-4b4be90c11bf\",\"type\":\"ToolbarBox\"},{\"id\":\"9b7eb627-6b92-4471-9984-ec5aea770a3f\",\"type\":\"Column\"}]},\"id\":\"234dd479-b214-4729-b5d1-b5e949e5eb2b\",\"type\":\"Column\"},{\"attributes\":{},\"id\":\"e8a1aff8-f53c-44ef-af42-bb14383cd2c5\",\"type\":\"Selection\"},{\"attributes\":{\"plot\":{\"id\":\"407da393-17a2-4d27-8607-fe344c8356e7\",\"subtype\":\"Figure\",\"type\":\"Plot\"},\"ticker\":{\"id\":\"0063e9e9-e780-4227-b02e-53657a47eeba\",\"type\":\"CategoricalTicker\"}},\"id\":\"f79b472d-0a95-45dc-a0a7-5c6f43aaa6a6\",\"type\":\"Grid\"},{\"attributes\":{\"source\":{\"id\":\"3f6cde96-b23c-4f90-9dbc-66492dbf29c4\",\"type\":\"ColumnDataSource\"}},\"id\":\"4a8b3a67-e76d-4800-9e03-118009a82bbb\",\"type\":\"CDSView\"},{\"attributes\":{},\"id\":\"aa4de0f7-6804-461c-a3f4-322edd073a00\",\"type\":\"CategoricalTickFormatter\"},{\"attributes\":{\"tools\":[{\"id\":\"47c51a49-cbc9-413c-94f0-a8dcbe67ab49\",\"type\":\"PanTool\"},{\"id\":\"cfe2da6d-236c-49d1-9fd1-0d9053ff94ce\",\"type\":\"WheelZoomTool\"},{\"id\":\"11cec94e-479e-4579-8fe7-1519ed0ca439\",\"type\":\"BoxZoomTool\"},{\"id\":\"ad703d75-c189-4606-8edb-253833381cf3\",\"type\":\"SaveTool\"},{\"id\":\"063de842-765a-437d-8c21-182f11526c66\",\"type\":\"ResetTool\"},{\"id\":\"b084c35f-5cdf-4eec-a5be-b60a34e76dc0\",\"type\":\"HelpTool\"},{\"id\":\"fbcd9685-3820-4419-bb5e-2476d91805b1\",\"type\":\"PanTool\"},{\"id\":\"c0a061eb-8428-4146-8a62-a30b5197eab1\",\"type\":\"WheelZoomTool\"},{\"id\":\"a1542106-93fe-45b8-9594-b8adbc4ce302\",\"type\":\"BoxZoomTool\"},{\"id\":\"00657727-09ba-46bb-9cae-389b087fd9a3\",\"type\":\"SaveTool\"},{\"id\":\"e1bc9205-a569-4cc7-b1bc-9d079e179ca3\",\"type\":\"ResetTool\"},{\"id\":\"47246af6-7a52-4b76-8ca0-c35185c12cbf\",\"type\":\"HelpTool\"},{\"id\":\"99f272fa-3bee-4dc3-9bb0-3ca7158a75cd\",\"type\":\"PanTool\"},{\"id\":\"486aa979-1498-4e8a-8d9d-158557e112d6\",\"type\":\"WheelZoomTool\"},{\"id\":\"1ceee5d5-c2eb-43ed-93c8-78c32c733671\",\"type\":\"BoxZoomTool\"},{\"id\":\"d26e55b1-b41d-41ff-9fa9-877ea0409afa\",\"type\":\"SaveTool\"},{\"id\":\"2acb606e-3570-48a8-b9fa-3a3c5e8ceae0\",\"type\":\"ResetTool\"},{\"id\":\"3e43e549-51ae-403e-9e72-9835a573b401\",\"type\":\"HelpTool\"}]},\"id\":\"235eefe4-df12-4af7-9c42-bc0d8a4cb0f9\",\"type\":\"ProxyToolbar\"},{\"attributes\":{\"callback\":null},\"id\":\"e2343249-3300-419c-9205-1da18297dd07\",\"type\":\"DataRange1d\"},{\"attributes\":{},\"id\":\"82e33759-a2a2-425f-9f60-e9201b70c1c4\",\"type\":\"Selection\"},{\"attributes\":{\"axis_label\":\"flux (W m-2)\",\"formatter\":{\"id\":\"65fd6bdf-3e0f-44f2-a55a-0716384e2cce\",\"type\":\"BasicTickFormatter\"},\"plot\":{\"id\":\"407da393-17a2-4d27-8607-fe344c8356e7\",\"subtype\":\"Figure\",\"type\":\"Plot\"},\"ticker\":{\"id\":\"7e22ccc7-f41a-4dc3-83fe-ba1f97c89c57\",\"type\":\"BasicTicker\"}},\"id\":\"88617033-d5d7-4224-9d10-d7bb8c22ef66\",\"type\":\"LinearAxis\"},{\"attributes\":{\"callback\":null,\"factors\":[\"7\"]},\"id\":\"12746f6f-fe82-4931-85b4-2efbf519dad0\",\"type\":\"FactorRange\"},{\"attributes\":{\"toolbar\":{\"id\":\"235eefe4-df12-4af7-9c42-bc0d8a4cb0f9\",\"type\":\"ProxyToolbar\"},\"toolbar_location\":\"above\"},\"id\":\"9f0a7a18-ba3f-4d6e-8848-4b4be90c11bf\",\"type\":\"ToolbarBox\"},{\"attributes\":{\"active_drag\":\"auto\",\"active_inspect\":\"auto\",\"active_scroll\":\"auto\",\"active_tap\":\"auto\",\"tools\":[{\"id\":\"fbcd9685-3820-4419-bb5e-2476d91805b1\",\"type\":\"PanTool\"},{\"id\":\"c0a061eb-8428-4146-8a62-a30b5197eab1\",\"type\":\"WheelZoomTool\"},{\"id\":\"a1542106-93fe-45b8-9594-b8adbc4ce302\",\"type\":\"BoxZoomTool\"},{\"id\":\"00657727-09ba-46bb-9cae-389b087fd9a3\",\"type\":\"SaveTool\"},{\"id\":\"e1bc9205-a569-4cc7-b1bc-9d079e179ca3\",\"type\":\"ResetTool\"},{\"id\":\"47246af6-7a52-4b76-8ca0-c35185c12cbf\",\"type\":\"HelpTool\"}]},\"id\":\"49313a1a-f66e-47ee-883b-48b8f13b8ea0\",\"type\":\"Toolbar\"},{\"attributes\":{\"active_drag\":\"auto\",\"active_inspect\":\"auto\",\"active_scroll\":\"auto\",\"active_tap\":\"auto\",\"tools\":[{\"id\":\"47c51a49-cbc9-413c-94f0-a8dcbe67ab49\",\"type\":\"PanTool\"},{\"id\":\"cfe2da6d-236c-49d1-9fd1-0d9053ff94ce\",\"type\":\"WheelZoomTool\"},{\"id\":\"11cec94e-479e-4579-8fe7-1519ed0ca439\",\"type\":\"BoxZoomTool\"},{\"id\":\"ad703d75-c189-4606-8edb-253833381cf3\",\"type\":\"SaveTool\"},{\"id\":\"063de842-765a-437d-8c21-182f11526c66\",\"type\":\"ResetTool\"},{\"id\":\"b084c35f-5cdf-4eec-a5be-b60a34e76dc0\",\"type\":\"HelpTool\"}]},\"id\":\"dbae6931-a70d-4f18-8fa0-7f9cfc36c51c\",\"type\":\"Toolbar\"},{\"attributes\":{},\"id\":\"fbcd9685-3820-4419-bb5e-2476d91805b1\",\"type\":\"PanTool\"},{\"attributes\":{\"callback\":null,\"factors\":[\"7\"]},\"id\":\"89c34096-aca1-41ee-bbd9-3aa384aab8b0\",\"type\":\"FactorRange\"},{\"attributes\":{\"source\":{\"id\":\"b9aa6a0e-e9d0-494e-8e9a-5059bfa88f32\",\"type\":\"ColumnDataSource\"}},\"id\":\"0b253bf5-19d7-49b2-9d23-c4647c56e310\",\"type\":\"CDSView\"},{\"attributes\":{\"plot\":null,\"text\":\"TOA flux. CLIRAD - CRD.\"},\"id\":\"692cef43-8eff-4ae1-8723-c6366ed2eef6\",\"type\":\"Title\"},{\"attributes\":{},\"id\":\"0063e9e9-e780-4227-b02e-53657a47eeba\",\"type\":\"CategoricalTicker\"},{\"attributes\":{\"below\":[{\"id\":\"abb3d6b3-83cb-4b2d-bbf2-3b4dedb9d19e\",\"type\":\"CategoricalAxis\"}],\"left\":[{\"id\":\"fab8350c-2ef4-4a3b-a7c1-11496c03ff1a\",\"type\":\"LinearAxis\"}],\"plot_height\":300,\"plot_width\":300,\"renderers\":[{\"id\":\"abb3d6b3-83cb-4b2d-bbf2-3b4dedb9d19e\",\"type\":\"CategoricalAxis\"},{\"id\":\"bab865e2-cd57-4e8c-b18b-3fe7f73937e5\",\"type\":\"Grid\"},{\"id\":\"fab8350c-2ef4-4a3b-a7c1-11496c03ff1a\",\"type\":\"LinearAxis\"},{\"id\":\"42f35743-69af-4200-8d7f-834d83def845\",\"type\":\"Grid\"},{\"id\":\"8d702a4c-3e0c-46ad-a04d-c84b1f7f8f95\",\"type\":\"BoxAnnotation\"},{\"id\":\"c7ba49e5-3dcd-4b07-a443-49d7f9f5bdce\",\"type\":\"GlyphRenderer\"}],\"title\":{\"id\":\"692cef43-8eff-4ae1-8723-c6366ed2eef6\",\"type\":\"Title\"},\"toolbar\":{\"id\":\"dbae6931-a70d-4f18-8fa0-7f9cfc36c51c\",\"type\":\"Toolbar\"},\"toolbar_location\":null,\"x_range\":{\"id\":\"89c34096-aca1-41ee-bbd9-3aa384aab8b0\",\"type\":\"FactorRange\"},\"x_scale\":{\"id\":\"ca792102-4c78-40ce-bcb0-1c2216fd080e\",\"type\":\"CategoricalScale\"},\"y_range\":{\"id\":\"e2343249-3300-419c-9205-1da18297dd07\",\"type\":\"DataRange1d\"},\"y_scale\":{\"id\":\"a266318b-b9fd-4af0-9bdb-b23e1240433b\",\"type\":\"LinearScale\"}},\"id\":\"80c766b3-3183-4fbe-b576-79431facd51d\",\"subtype\":\"Figure\",\"type\":\"Plot\"},{\"attributes\":{},\"id\":\"29988717-b887-4a60-aa64-c9d47b9f82f6\",\"type\":\"BasicTickFormatter\"},{\"attributes\":{},\"id\":\"31cb525d-a627-4ac0-affb-ade57fda7632\",\"type\":\"CategoricalScale\"},{\"attributes\":{},\"id\":\"ca792102-4c78-40ce-bcb0-1c2216fd080e\",\"type\":\"CategoricalScale\"},{\"attributes\":{\"axis_label\":\"flux (W m-2)\",\"formatter\":{\"id\":\"37335dcd-30be-450d-a4c5-3fbef677e769\",\"type\":\"BasicTickFormatter\"},\"plot\":{\"id\":\"80c766b3-3183-4fbe-b576-79431facd51d\",\"subtype\":\"Figure\",\"type\":\"Plot\"},\"ticker\":{\"id\":\"db8b30c3-d719-49c7-8db6-5663aa770868\",\"type\":\"BasicTicker\"}},\"id\":\"fab8350c-2ef4-4a3b-a7c1-11496c03ff1a\",\"type\":\"LinearAxis\"},{\"attributes\":{\"callback\":null,\"data\":{\"band\":[\"7\"],\"flux\":{\"__ndarray__\":\"wA6FKpA0tT8=\",\"dtype\":\"float64\",\"shape\":[1]}},\"selected\":{\"id\":\"82e33759-a2a2-425f-9f60-e9201b70c1c4\",\"type\":\"Selection\"},\"selection_policy\":{\"id\":\"f084d7b2-9d72-4f19-ad67-060156b792aa\",\"type\":\"UnionRenderers\"}},\"id\":\"15f78191-ecec-46c8-b678-1baaf387df6f\",\"type\":\"ColumnDataSource\"},{\"attributes\":{},\"id\":\"94a48ec3-9e90-441c-a61b-9b5713f88701\",\"type\":\"CategoricalTickFormatter\"},{\"attributes\":{\"source\":{\"id\":\"15f78191-ecec-46c8-b678-1baaf387df6f\",\"type\":\"ColumnDataSource\"}},\"id\":\"09b61e58-acae-4d7d-adfc-e045550a3ce8\",\"type\":\"CDSView\"},{\"attributes\":{},\"id\":\"37335dcd-30be-450d-a4c5-3fbef677e769\",\"type\":\"BasicTickFormatter\"},{\"attributes\":{},\"id\":\"a266318b-b9fd-4af0-9bdb-b23e1240433b\",\"type\":\"LinearScale\"},{\"attributes\":{\"plot\":{\"id\":\"80c766b3-3183-4fbe-b576-79431facd51d\",\"subtype\":\"Figure\",\"type\":\"Plot\"},\"ticker\":{\"id\":\"b2c20fbb-cb02-40f3-90fe-0b7f5511fa64\",\"type\":\"CategoricalTicker\"}},\"id\":\"bab865e2-cd57-4e8c-b18b-3fe7f73937e5\",\"type\":\"Grid\"},{\"attributes\":{\"axis_label\":\"spectral band\",\"formatter\":{\"id\":\"7c86db4f-f696-4fb7-a727-c4afc7866326\",\"type\":\"CategoricalTickFormatter\"},\"plot\":{\"id\":\"80c766b3-3183-4fbe-b576-79431facd51d\",\"subtype\":\"Figure\",\"type\":\"Plot\"},\"ticker\":{\"id\":\"b2c20fbb-cb02-40f3-90fe-0b7f5511fa64\",\"type\":\"CategoricalTicker\"}},\"id\":\"abb3d6b3-83cb-4b2d-bbf2-3b4dedb9d19e\",\"type\":\"CategoricalAxis\"},{\"attributes\":{\"callback\":null,\"data\":{\"band\":[\"7\"],\"flux\":{\"__ndarray__\":\"QCL430p2yj8=\",\"dtype\":\"float64\",\"shape\":[1]}},\"selected\":{\"id\":\"e8a1aff8-f53c-44ef-af42-bb14383cd2c5\",\"type\":\"Selection\"},\"selection_policy\":{\"id\":\"249f05c4-39d6-47cc-ab67-cb430ac83229\",\"type\":\"UnionRenderers\"}},\"id\":\"3f6cde96-b23c-4f90-9dbc-66492dbf29c4\",\"type\":\"ColumnDataSource\"},{\"attributes\":{},\"id\":\"b2c20fbb-cb02-40f3-90fe-0b7f5511fa64\",\"type\":\"CategoricalTicker\"},{\"attributes\":{},\"id\":\"c0a061eb-8428-4146-8a62-a30b5197eab1\",\"type\":\"WheelZoomTool\"},{\"attributes\":{\"fill_color\":{\"value\":\"#1f77b4\"},\"line_color\":{\"value\":\"#1f77b4\"},\"top\":{\"field\":\"flux\"},\"width\":{\"value\":0.9},\"x\":{\"field\":\"band\"}},\"id\":\"fc0785ee-cead-4817-b1c4-328fdd9b9380\",\"type\":\"VBar\"},{\"attributes\":{},\"id\":\"249f05c4-39d6-47cc-ab67-cb430ac83229\",\"type\":\"UnionRenderers\"},{\"attributes\":{},\"id\":\"db8b30c3-d719-49c7-8db6-5663aa770868\",\"type\":\"BasicTicker\"},{\"attributes\":{},\"id\":\"6f4417fc-5bf7-4087-8c99-af385f2ad00d\",\"type\":\"UnionRenderers\"},{\"attributes\":{\"dimension\":1,\"plot\":{\"id\":\"80c766b3-3183-4fbe-b576-79431facd51d\",\"subtype\":\"Figure\",\"type\":\"Plot\"},\"ticker\":{\"id\":\"db8b30c3-d719-49c7-8db6-5663aa770868\",\"type\":\"BasicTicker\"}},\"id\":\"42f35743-69af-4200-8d7f-834d83def845\",\"type\":\"Grid\"},{\"attributes\":{\"data_source\":{\"id\":\"15f78191-ecec-46c8-b678-1baaf387df6f\",\"type\":\"ColumnDataSource\"},\"glyph\":{\"id\":\"8fca77c6-4299-4a3b-9758-2255da06f5ca\",\"type\":\"VBar\"},\"hover_glyph\":null,\"muted_glyph\":null,\"nonselection_glyph\":{\"id\":\"d7f6ea18-4b50-420c-b0dc-20867d0af756\",\"type\":\"VBar\"},\"selection_glyph\":null,\"view\":{\"id\":\"09b61e58-acae-4d7d-adfc-e045550a3ce8\",\"type\":\"CDSView\"}},\"id\":\"7c2ff80f-c1c7-43d8-91f5-ce396313d598\",\"type\":\"GlyphRenderer\"},{\"attributes\":{\"fill_alpha\":{\"value\":0.1},\"fill_color\":{\"value\":\"#1f77b4\"},\"line_alpha\":{\"value\":0.1},\"line_color\":{\"value\":\"#1f77b4\"},\"top\":{\"field\":\"flux\"},\"width\":{\"value\":0.9},\"x\":{\"field\":\"band\"}},\"id\":\"1ea320dd-b9df-42a7-a5b9-ef41d2016693\",\"type\":\"VBar\"},{\"attributes\":{\"axis_label\":\"spectral band\",\"formatter\":{\"id\":\"94a48ec3-9e90-441c-a61b-9b5713f88701\",\"type\":\"CategoricalTickFormatter\"},\"plot\":{\"id\":\"407da393-17a2-4d27-8607-fe344c8356e7\",\"subtype\":\"Figure\",\"type\":\"Plot\"},\"ticker\":{\"id\":\"0063e9e9-e780-4227-b02e-53657a47eeba\",\"type\":\"CategoricalTicker\"}},\"id\":\"58a4b1d2-d8dc-457b-89c4-4385c02edbcc\",\"type\":\"CategoricalAxis\"},{\"attributes\":{\"plot\":null,\"text\":\"SFC flux. CLIRAD - CRD.\"},\"id\":\"29b3b855-a97b-4ca1-b022-87efa473e2ee\",\"type\":\"Title\"},{\"attributes\":{\"bottom_units\":\"screen\",\"fill_alpha\":{\"value\":0.5},\"fill_color\":{\"value\":\"lightgrey\"},\"left_units\":\"screen\",\"level\":\"overlay\",\"line_alpha\":{\"value\":1.0},\"line_color\":{\"value\":\"black\"},\"line_dash\":[4,4],\"line_width\":{\"value\":2},\"plot\":null,\"render_mode\":\"css\",\"right_units\":\"screen\",\"top_units\":\"screen\"},\"id\":\"8d702a4c-3e0c-46ad-a04d-c84b1f7f8f95\",\"type\":\"BoxAnnotation\"},{\"attributes\":{\"fill_alpha\":{\"value\":0.1},\"fill_color\":{\"value\":\"#1f77b4\"},\"line_alpha\":{\"value\":0.1},\"line_color\":{\"value\":\"#1f77b4\"},\"top\":{\"field\":\"flux\"},\"width\":{\"value\":0.9},\"x\":{\"field\":\"band\"}},\"id\":\"d7f6ea18-4b50-420c-b0dc-20867d0af756\",\"type\":\"VBar\"},{\"attributes\":{},\"id\":\"47c51a49-cbc9-413c-94f0-a8dcbe67ab49\",\"type\":\"PanTool\"},{\"attributes\":{\"below\":[{\"id\":\"58a4b1d2-d8dc-457b-89c4-4385c02edbcc\",\"type\":\"CategoricalAxis\"}],\"left\":[{\"id\":\"88617033-d5d7-4224-9d10-d7bb8c22ef66\",\"type\":\"LinearAxis\"}],\"plot_height\":300,\"plot_width\":300,\"renderers\":[{\"id\":\"58a4b1d2-d8dc-457b-89c4-4385c02edbcc\",\"type\":\"CategoricalAxis\"},{\"id\":\"f79b472d-0a95-45dc-a0a7-5c6f43aaa6a6\",\"type\":\"Grid\"},{\"id\":\"88617033-d5d7-4224-9d10-d7bb8c22ef66\",\"type\":\"LinearAxis\"},{\"id\":\"04369177-8a3e-435b-bded-b32e800d801d\",\"type\":\"Grid\"},{\"id\":\"5912423c-41cb-4348-802a-9c288bb107b2\",\"type\":\"BoxAnnotation\"},{\"id\":\"7c2ff80f-c1c7-43d8-91f5-ce396313d598\",\"type\":\"GlyphRenderer\"}],\"title\":{\"id\":\"29b3b855-a97b-4ca1-b022-87efa473e2ee\",\"type\":\"Title\"},\"toolbar\":{\"id\":\"49313a1a-f66e-47ee-883b-48b8f13b8ea0\",\"type\":\"Toolbar\"},\"toolbar_location\":null,\"x_range\":{\"id\":\"12746f6f-fe82-4931-85b4-2efbf519dad0\",\"type\":\"FactorRange\"},\"x_scale\":{\"id\":\"31cb525d-a627-4ac0-affb-ade57fda7632\",\"type\":\"CategoricalScale\"},\"y_range\":{\"id\":\"5bcc027f-fd96-4327-8005-64ec66cc3c2f\",\"type\":\"DataRange1d\"},\"y_scale\":{\"id\":\"02597fec-4f00-4603-8ab2-9d3b7907f5e9\",\"type\":\"LinearScale\"}},\"id\":\"407da393-17a2-4d27-8607-fe344c8356e7\",\"subtype\":\"Figure\",\"type\":\"Plot\"},{\"attributes\":{\"children\":[{\"id\":\"314e536e-75d1-422b-8754-fe659bd8c26b\",\"type\":\"Row\"}]},\"id\":\"9b7eb627-6b92-4471-9984-ec5aea770a3f\",\"type\":\"Column\"},{\"attributes\":{\"data_source\":{\"id\":\"b9aa6a0e-e9d0-494e-8e9a-5059bfa88f32\",\"type\":\"ColumnDataSource\"},\"glyph\":{\"id\":\"fc0785ee-cead-4817-b1c4-328fdd9b9380\",\"type\":\"VBar\"},\"hover_glyph\":null,\"muted_glyph\":null,\"nonselection_glyph\":{\"id\":\"1ea320dd-b9df-42a7-a5b9-ef41d2016693\",\"type\":\"VBar\"},\"selection_glyph\":null,\"view\":{\"id\":\"0b253bf5-19d7-49b2-9d23-c4647c56e310\",\"type\":\"CDSView\"}},\"id\":\"c7ba49e5-3dcd-4b07-a443-49d7f9f5bdce\",\"type\":\"GlyphRenderer\"},{\"attributes\":{},\"id\":\"7e22ccc7-f41a-4dc3-83fe-ba1f97c89c57\",\"type\":\"BasicTicker\"},{\"attributes\":{},\"id\":\"cfe2da6d-236c-49d1-9fd1-0d9053ff94ce\",\"type\":\"WheelZoomTool\"},{\"attributes\":{\"overlay\":{\"id\":\"8d702a4c-3e0c-46ad-a04d-c84b1f7f8f95\",\"type\":\"BoxAnnotation\"}},\"id\":\"11cec94e-479e-4579-8fe7-1519ed0ca439\",\"type\":\"BoxZoomTool\"},{\"attributes\":{},\"id\":\"ad703d75-c189-4606-8edb-253833381cf3\",\"type\":\"SaveTool\"},{\"attributes\":{},\"id\":\"063de842-765a-437d-8c21-182f11526c66\",\"type\":\"ResetTool\"},{\"attributes\":{},\"id\":\"b084c35f-5cdf-4eec-a5be-b60a34e76dc0\",\"type\":\"HelpTool\"},{\"attributes\":{},\"id\":\"65fd6bdf-3e0f-44f2-a55a-0716384e2cce\",\"type\":\"BasicTickFormatter\"},{\"attributes\":{\"callback\":null,\"data\":{\"band\":[\"7\"],\"flux\":{\"__ndarray__\":\"ID1EozuI0j8=\",\"dtype\":\"float64\",\"shape\":[1]}},\"selected\":{\"id\":\"de53e154-65e4-4b39-b26e-f17e226d2bdc\",\"type\":\"Selection\"},\"selection_policy\":{\"id\":\"6f4417fc-5bf7-4087-8c99-af385f2ad00d\",\"type\":\"UnionRenderers\"}},\"id\":\"b9aa6a0e-e9d0-494e-8e9a-5059bfa88f32\",\"type\":\"ColumnDataSource\"},{\"attributes\":{},\"id\":\"7c86db4f-f696-4fb7-a727-c4afc7866326\",\"type\":\"CategoricalTickFormatter\"}],\"root_ids\":[\"234dd479-b214-4729-b5d1-b5e949e5eb2b\"]},\"title\":\"Bokeh Application\",\"version\":\"0.12.16\"}};\n",
       "  var render_items = [{\"docid\":\"3adb79ee-84bf-4c70-bcc9-42cc6bc51ee4\",\"elementid\":\"8310bca8-fc7a-4a49-a050-755547c46560\",\"modelid\":\"234dd479-b214-4729-b5d1-b5e949e5eb2b\"}];\n",
       "  root.Bokeh.embed.embed_items_notebook(docs_json, render_items);\n",
       "\n",
       "  }\n",
       "  if (root.Bokeh !== undefined) {\n",
       "    embed_document(root);\n",
       "  } else {\n",
       "    var attempts = 0;\n",
       "    var timer = setInterval(function(root) {\n",
       "      if (root.Bokeh !== undefined) {\n",
       "        embed_document(root);\n",
       "        clearInterval(timer);\n",
       "      }\n",
       "      attempts++;\n",
       "      if (attempts > 100) {\n",
       "        console.log(\"Bokeh: ERROR: Unable to run BokehJS code because BokehJS library is missing\")\n",
       "        clearInterval(timer);\n",
       "      }\n",
       "    }, 10, root)\n",
       "  }\n",
       "})(window);"
      ],
      "application/vnd.bokehjs_exec.v0+json": ""
     },
     "metadata": {
      "application/vnd.bokehjs_exec.v0+json": {
       "id": "234dd479-b214-4729-b5d1-b5e949e5eb2b"
      }
     },
     "output_type": "display_data"
    },
    {
     "data": {
      "text/markdown": [
       "*FIGURE.* Difference between CLIRAD and CRD in TOA, SFC and net atmosphere flux, in each spectral band."
      ],
      "text/plain": [
       "<IPython.core.display.Markdown object>"
      ]
     },
     "metadata": {},
     "output_type": "display_data"
    },
    {
     "data": {
      "text/html": [
       "<div>\n",
       "<style scoped>\n",
       "    .dataframe tbody tr th:only-of-type {\n",
       "        vertical-align: middle;\n",
       "    }\n",
       "\n",
       "    .dataframe tbody tr th {\n",
       "        vertical-align: top;\n",
       "    }\n",
       "\n",
       "    .dataframe thead th {\n",
       "        text-align: right;\n",
       "    }\n",
       "</style>\n",
       "<table border=\"1\" class=\"dataframe\">\n",
       "  <thead>\n",
       "    <tr style=\"text-align: right;\">\n",
       "      <th></th>\n",
       "      <th>OLR flux</th>\n",
       "      <th>SFC flux</th>\n",
       "      <th>ATM heating</th>\n",
       "    </tr>\n",
       "    <tr>\n",
       "      <th>Sum over bands</th>\n",
       "      <th></th>\n",
       "      <th></th>\n",
       "      <th></th>\n",
       "    </tr>\n",
       "  </thead>\n",
       "  <tbody>\n",
       "    <tr>\n",
       "      <th>CLIRAD - CRD</th>\n",
       "      <td>-232.07</td>\n",
       "      <td>0.08</td>\n",
       "      <td>0.21</td>\n",
       "    </tr>\n",
       "    <tr>\n",
       "      <th>CRD</th>\n",
       "      <td>-11.00</td>\n",
       "      <td>2.80</td>\n",
       "      <td>1.25</td>\n",
       "    </tr>\n",
       "  </tbody>\n",
       "</table>\n",
       "</div>"
      ],
      "text/plain": [
       "                OLR flux  SFC flux  ATM heating\n",
       "Sum over bands                                 \n",
       "CLIRAD - CRD     -232.07      0.08         0.21\n",
       "CRD               -11.00      2.80         1.25"
      ]
     },
     "metadata": {},
     "output_type": "display_data"
    },
    {
     "data": {
      "text/markdown": [
       "*TABLE.* Difference between CLIRAD and CRD in TOA, SFC and net atmosphere flux, over all spectral bands. CRD's TOA, SFC and net atmosphere flux, over all spectral bands."
      ],
      "text/plain": [
       "<IPython.core.display.Markdown object>"
      ]
     },
     "metadata": {},
     "output_type": "display_data"
    },
    {
     "data": {
      "text/html": [
       "<a id=\"Cooling_rates._trp.\"></a>"
      ],
      "text/plain": [
       "<IPython.core.display.HTML object>"
      ]
     },
     "metadata": {},
     "output_type": "display_data"
    },
    {
     "data": {
      "text/markdown": [
       "# Cooling rates. trp."
      ],
      "text/plain": [
       "<IPython.core.display.Markdown object>"
      ]
     },
     "metadata": {},
     "output_type": "display_data"
    },
    {
     "data": {
      "text/html": [
       "\n",
       "<div class=\"bk-root\">\n",
       "    <div class=\"bk-plotdiv\" id=\"079d6b19-3717-46af-94e8-fecd32099c1f\"></div>\n",
       "</div>"
      ]
     },
     "metadata": {},
     "output_type": "display_data"
    },
    {
     "data": {
      "application/javascript": [
       "(function(root) {\n",
       "  function embed_document(root) {\n",
       "    \n",
       "  var docs_json = {\"78518470-db91-4002-9b0a-ad0c1b6b5ced\":{\"roots\":{\"references\":[{\"attributes\":{\"active_drag\":\"auto\",\"active_inspect\":\"auto\",\"active_scroll\":\"auto\",\"active_tap\":\"auto\",\"tools\":[{\"id\":\"81aebfc9-fbb0-4850-b91e-25eea11e36d6\",\"type\":\"PanTool\"},{\"id\":\"7c3cb715-cffe-4aed-af62-0ca9a5cb6d9e\",\"type\":\"WheelZoomTool\"},{\"id\":\"b54a1de5-e5a1-42c0-a312-784037a7be10\",\"type\":\"BoxZoomTool\"},{\"id\":\"b9d550c7-93c7-4ad9-bb40-52073eb4dbd7\",\"type\":\"SaveTool\"},{\"id\":\"4618db58-cae2-4099-a170-676c5a95de0f\",\"type\":\"ResetTool\"},{\"id\":\"fe0286d9-551f-41e9-a413-1715660393bd\",\"type\":\"HelpTool\"}]},\"id\":\"cc7ad803-6813-499a-a1e7-19389a8c3fc0\",\"type\":\"Toolbar\"},{\"attributes\":{\"line_alpha\":0.1,\"line_color\":\"#1f77b4\",\"line_dash\":[6],\"line_width\":5,\"x\":{\"field\":\"x\"},\"y\":{\"field\":\"y\"}},\"id\":\"236f5d21-1e2a-4c30-949c-0db9d9cd5801\",\"type\":\"Line\"},{\"attributes\":{\"fill_alpha\":{\"value\":0.7},\"fill_color\":{\"value\":\"#4daf4a\"},\"line_alpha\":{\"value\":0.7},\"line_color\":{\"value\":\"#4daf4a\"},\"x\":{\"field\":\"x\"},\"y\":{\"field\":\"y\"}},\"id\":\"2a066f94-0ee0-4dab-bccd-39f695e244bd\",\"type\":\"Circle\"},{\"attributes\":{},\"id\":\"1ba96dbb-fbad-47f5-bb3d-e6657aa04200\",\"type\":\"HelpTool\"},{\"attributes\":{\"axis_label\":\"pressure [mb]\",\"formatter\":{\"id\":\"f236b764-331f-4413-a56d-a69649fc704b\",\"type\":\"BasicTickFormatter\"},\"plot\":{\"id\":\"8f89f031-421f-4abb-b1fc-86fc6d089585\",\"subtype\":\"Figure\",\"type\":\"Plot\"},\"ticker\":{\"id\":\"45e93840-abe3-40b4-81b2-35fcb53e8b7e\",\"type\":\"BasicTicker\"}},\"id\":\"52ca78a0-b5fa-419d-9097-a9ea0dcd4142\",\"type\":\"LinearAxis\"},{\"attributes\":{\"plot\":{\"id\":\"8f89f031-421f-4abb-b1fc-86fc6d089585\",\"subtype\":\"Figure\",\"type\":\"Plot\"},\"ticker\":{\"id\":\"c579879f-e43f-44c8-8f27-495c70677630\",\"type\":\"BasicTicker\"}},\"id\":\"31bb5c91-c9c0-4835-96ec-e8b165edc1d6\",\"type\":\"Grid\"},{\"attributes\":{},\"id\":\"d11bb496-dff5-4dc0-b565-895dcb94a259\",\"type\":\"Selection\"},{\"attributes\":{},\"id\":\"c579879f-e43f-44c8-8f27-495c70677630\",\"type\":\"BasicTicker\"},{\"attributes\":{},\"id\":\"7560e67c-8298-45eb-91a8-2dab4c780e32\",\"type\":\"ResetTool\"},{\"attributes\":{\"overlay\":{\"id\":\"50f26f6b-afde-46d0-a855-5923e3c62182\",\"type\":\"BoxAnnotation\"}},\"id\":\"080095b7-b18a-441a-8532-809c141b6db4\",\"type\":\"BoxZoomTool\"},{\"attributes\":{},\"id\":\"d1c4a37c-084c-45ce-9196-9427fe1acfbb\",\"type\":\"Selection\"},{\"attributes\":{\"callback\":null,\"data\":{\"x\":{\"__ndarray__\":\"L51n0PYGo7/as8vdBU+lv6Rd+eqysam/VfWIV63arb+cJbyVCeWwv0mGYzBbv7K/auoe1KN7tL8mdjp+Ehm2v4I1ye1pl7e/dumoaIH9uL+/0ERUuFC6v3ju+z+glru/oQFpvefZvL/+pfvvd969v6GXm7nREb2//ieqd+sOtb+E+1N7MOhWv536m6tBc8E/84wBAmvP1T8eEfhoFu3jP9VJz1c93u8/uNyqNd7n9j8eR2I4jUP7P+Mh51g5D/s/W4mKgipf+D+4/gLmxlnzP5rD/2fee+s/QwaPwjdl4j8YU7g3IozXP5OcfhZsn8U/WQn8Mi+/sb8fqkJm26fSv6pqejezKd6/MB1KH4AV4r9xVI+wf+ngv7tK0pBMota/7Agzrxudxr/Jfi/oMYi8v/5VA3F3hre/vs4gGurrs7+vnamJnhGxvzow64ulxKy/GLNnx/QhqL9PEkgSTzmkv6jVDoFOAaG/jtK5YzDNnL9hdQ/Jw1SYv7IL4A86RpS/MWpFO3GwkL9GOjFbGg6Lv6LwveUIHoW/FMdp30/afr/O6IKT2Olzv/lt5z6iyWK/liHw70DNJz/RKwA3GwxlPweDwzjs+HM/fJ3HbaMdfT+rt4zvGfaCP97t1SL9UYc/yrEOqoGkiz/yQPf096OPP3c+/C/phZE/FrgCKwPekj/sKiN8j/2TP4IZwEz1E5U/+2qLjos6lj/n+Z5UpXSXP0adw/n3wJg/Htm6ptARmj8BZN5mzlObPyQo9Zpbd5w/yuuJ+pmEnT/DLZsQpYOeP2o6ltKOdp8/\",\"dtype\":\"float64\",\"shape\":[75]},\"y\":{\"__ndarray__\":\"GhExyth1ND/Sv8nbtpRIP2vylNV0PVE/aTum7souWD/At0SJ8fVgPw3Iuahxymc/MSNhhJWvcD/bTfBN02d3P2zb5nxnaoA/CD5h5MAGhz8NmeH1TyaQP+zrCsc9p5Y/LbKd76fGnz/bLW5ISEmmPww9YvTcQq8/JV2OstnstT8Er5Y7M8G+P0c+r3jqkcU/5h99k6ZBzj88bCIzFzjVP4enV8oyxN0//yH99nXg5D8qOpLLf0jtP5kqGJXUifQ/c9cS8kHP/D+/DpwzojQEQIEmwoanVwxA4lgXt9HgE0BSSZ2AJuIbQAMJih9jjiNA5q4l5INuK0AwTKYKRj0zQNv5fmq8/DpAaCJseHrtQkB/+zpwzoxKQM3MzMzMeFJAZmZmZmZqWEAAAAAAAFxeQM3MzMzMJmJAmpmZmZkfZUBmZmZmZhhoQDMzMzMzEWtAAAAAAAAKbkBmZmZmZoFwQM3MzMzM/XFAMzMzMzN6c0CamZmZmfZ0QAAAAAAAc3ZAZmZmZmbvd0DNzMzMzGt5QDMzMzMz6HpAmpmZmZlkfEAAAAAAAOF9QGZmZmZmXX9AZmZmZuZsgECamZmZGSuBQM3MzMxM6YFAAAAAAICngkAzMzMzs2WDQGZmZmbmI4RAmpmZmRnihEDNzMzMTKCFQAAAAACAXoZAMzMzM7Mch0BmZmZm5tqHQJqZmZkZmYhAzczMzExXiUAAAAAAgBWKQDMzMzOz04pAZmZmZuaRi0CamZmZGVCMQM3MzMxMDo1AAAAAAIDMjUAzMzMzs4qOQGZmZmbmSI9A\",\"dtype\":\"float64\",\"shape\":[75]}},\"selected\":{\"id\":\"a1ef22a8-b0b2-4aad-b985-e155fa6c47b6\",\"type\":\"Selection\"},\"selection_policy\":{\"id\":\"fff3caee-59ea-4094-bbf1-bd4310133ae3\",\"type\":\"UnionRenderers\"}},\"id\":\"6b709c18-0295-40dc-8138-558c0305f757\",\"type\":\"ColumnDataSource\"},{\"attributes\":{\"callback\":null,\"data\":{\"x\":{\"__ndarray__\":\"cDErRoFunr+EZWAccCahv3PNGQvRlKS/pF6h42UBqL8srf5EfUSrv7M9g2aIY66/zv1teQ+qsL+BwQBjmA2yvyjY0bwSXLO/WNSGjYCTtL9bScEMibe1v8ipw6Fdwra/IXe7dEa/t78BEGxQznO4v1FMCgOK/Le/ldHnC1tLsr91VV11OjeCv0m3GqKGrLo/VfbBzvLw0T/r40gBRRXhP818wsC5Jew/Ii24lTif9D+nHFoWK1v5P1c2KWpdM/o/8yV5YnP19z+TPPoY/rjyP6pIajYENeo/Ix7z1ZGs4T9oyPvuIaXXP+TFMTkwDcg/RUOWElnrqr8w4/lIconSv6SqDxpHdd+/pU4s1w3L478kTlfqdSTjv+TGWFqa6Ni/JlLDqhqXx79h4OKJte+8v+EYJOQAm7e/TKFIcxrKs7+woZRSLcuwv5D7NEVfD6y/SnKCxF9fp7+Z8PmWDHmjv/U1t8MQS6C/gGOMXTx5m78e2okngR+Xv1gjfHbgMJO/FZIbbg95j7+gJZ7xG2aJv5i4hkcitYO/+1XW+IqKfL/QetVeFBJyvyLO8ABMHWC/8e10Gn2+OT/bem/yfcBlP0g/Yvp81XM/1BufZKJ1fD80c5CHyF+CP7EM2R/UeYY/+/6GSOGNij+kqdXP3VqOP3xWpITc0ZA/ZetXSuknkj/bT12Fp0qTP+8kegylYpQ/DCeODIiDlT/rdpliX7GWP9goXnrH6Zc/jmbqNmwimT8pFEjtL0yaP3VL2xMwVZs/V98kvPpGnD9Ano5WNSudP1ZASFt2AJ4/\",\"dtype\":\"float64\",\"shape\":[75]},\"y\":{\"__ndarray__\":\"GhExyth1ND/Sv8nbtpRIP2vylNV0PVE/aTum7souWD/At0SJ8fVgPw3Iuahxymc/MSNhhJWvcD/bTfBN02d3P2zb5nxnaoA/CD5h5MAGhz8NmeH1TyaQP+zrCsc9p5Y/LbKd76fGnz/bLW5ISEmmPww9YvTcQq8/JV2OstnstT8Er5Y7M8G+P0c+r3jqkcU/5h99k6ZBzj88bCIzFzjVP4enV8oyxN0//yH99nXg5D8qOpLLf0jtP5kqGJXUifQ/c9cS8kHP/D+/DpwzojQEQIEmwoanVwxA4lgXt9HgE0BSSZ2AJuIbQAMJih9jjiNA5q4l5INuK0AwTKYKRj0zQNv5fmq8/DpAaCJseHrtQkB/+zpwzoxKQM3MzMzMeFJAZmZmZmZqWEAAAAAAAFxeQM3MzMzMJmJAmpmZmZkfZUBmZmZmZhhoQDMzMzMzEWtAAAAAAAAKbkBmZmZmZoFwQM3MzMzM/XFAMzMzMzN6c0CamZmZmfZ0QAAAAAAAc3ZAZmZmZmbvd0DNzMzMzGt5QDMzMzMz6HpAmpmZmZlkfEAAAAAAAOF9QGZmZmZmXX9AZmZmZuZsgECamZmZGSuBQM3MzMxM6YFAAAAAAICngkAzMzMzs2WDQGZmZmbmI4RAmpmZmRnihEDNzMzMTKCFQAAAAACAXoZAMzMzM7Mch0BmZmZm5tqHQJqZmZkZmYhAzczMzExXiUAAAAAAgBWKQDMzMzOz04pAZmZmZuaRi0CamZmZGVCMQM3MzMxMDo1AAAAAAIDMjUAzMzMzs4qOQGZmZmbmSI9A\",\"dtype\":\"float64\",\"shape\":[75]}},\"selected\":{\"id\":\"99b5df80-a7fb-4857-907d-48301476819f\",\"type\":\"Selection\"},\"selection_policy\":{\"id\":\"7b86d542-ade9-4028-bee4-75107c1c7c29\",\"type\":\"UnionRenderers\"}},\"id\":\"45d3ba07-0878-4cea-b054-7df621186fd3\",\"type\":\"ColumnDataSource\"},{\"attributes\":{\"data_source\":{\"id\":\"0882216d-c5d0-40c0-831b-3e43ea5ab75e\",\"type\":\"ColumnDataSource\"},\"glyph\":{\"id\":\"6a2b1033-bf00-4de4-aa5c-8f66d7f9a154\",\"type\":\"Line\"},\"hover_glyph\":null,\"muted_glyph\":null,\"nonselection_glyph\":{\"id\":\"d426e32c-0328-4222-a998-e0a17a317d99\",\"type\":\"Line\"},\"selection_glyph\":null,\"view\":{\"id\":\"05a9f86f-0e82-47ba-9275-786c21159cb9\",\"type\":\"CDSView\"}},\"id\":\"5797393f-9a4c-4392-9c64-deeb06c2e522\",\"type\":\"GlyphRenderer\"},{\"attributes\":{\"source\":{\"id\":\"45d3ba07-0878-4cea-b054-7df621186fd3\",\"type\":\"ColumnDataSource\"}},\"id\":\"a5eaabc9-9039-4241-9792-6507ae1ed60d\",\"type\":\"CDSView\"},{\"attributes\":{\"callback\":null,\"data\":{\"x\":{\"__ndarray__\":\"L51n0PYGo7/as8vdBU+lv6Rd+eqysam/VfWIV63arb+cJbyVCeWwv0mGYzBbv7K/auoe1KN7tL8mdjp+Ehm2v4I1ye1pl7e/dumoaIH9uL+/0ERUuFC6v3ju+z+glru/oQFpvefZvL/+pfvvd969v6GXm7nREb2//ieqd+sOtb+E+1N7MOhWv536m6tBc8E/84wBAmvP1T8eEfhoFu3jP9VJz1c93u8/uNyqNd7n9j8eR2I4jUP7P+Mh51g5D/s/W4mKgipf+D+4/gLmxlnzP5rD/2fee+s/QwaPwjdl4j8YU7g3IozXP5OcfhZsn8U/WQn8Mi+/sb8fqkJm26fSv6pqejezKd6/MB1KH4AV4r9xVI+wf+ngv7tK0pBMota/7Agzrxudxr/Jfi/oMYi8v/5VA3F3hre/vs4gGurrs7+vnamJnhGxvzow64ulxKy/GLNnx/QhqL9PEkgSTzmkv6jVDoFOAaG/jtK5YzDNnL9hdQ/Jw1SYv7IL4A86RpS/MWpFO3GwkL9GOjFbGg6Lv6LwveUIHoW/FMdp30/afr/O6IKT2Olzv/lt5z6iyWK/liHw70DNJz/RKwA3GwxlPweDwzjs+HM/fJ3HbaMdfT+rt4zvGfaCP97t1SL9UYc/yrEOqoGkiz/yQPf096OPP3c+/C/phZE/FrgCKwPekj/sKiN8j/2TP4IZwEz1E5U/+2qLjos6lj/n+Z5UpXSXP0adw/n3wJg/Htm6ptARmj8BZN5mzlObPyQo9Zpbd5w/yuuJ+pmEnT/DLZsQpYOeP2o6ltKOdp8/\",\"dtype\":\"float64\",\"shape\":[75]},\"y\":{\"__ndarray__\":\"GhExyth1ND/Sv8nbtpRIP2vylNV0PVE/aTum7souWD/At0SJ8fVgPw3Iuahxymc/MSNhhJWvcD/bTfBN02d3P2zb5nxnaoA/CD5h5MAGhz8NmeH1TyaQP+zrCsc9p5Y/LbKd76fGnz/bLW5ISEmmPww9YvTcQq8/JV2OstnstT8Er5Y7M8G+P0c+r3jqkcU/5h99k6ZBzj88bCIzFzjVP4enV8oyxN0//yH99nXg5D8qOpLLf0jtP5kqGJXUifQ/c9cS8kHP/D+/DpwzojQEQIEmwoanVwxA4lgXt9HgE0BSSZ2AJuIbQAMJih9jjiNA5q4l5INuK0AwTKYKRj0zQNv5fmq8/DpAaCJseHrtQkB/+zpwzoxKQM3MzMzMeFJAZmZmZmZqWEAAAAAAAFxeQM3MzMzMJmJAmpmZmZkfZUBmZmZmZhhoQDMzMzMzEWtAAAAAAAAKbkBmZmZmZoFwQM3MzMzM/XFAMzMzMzN6c0CamZmZmfZ0QAAAAAAAc3ZAZmZmZmbvd0DNzMzMzGt5QDMzMzMz6HpAmpmZmZlkfEAAAAAAAOF9QGZmZmZmXX9AZmZmZuZsgECamZmZGSuBQM3MzMxM6YFAAAAAAICngkAzMzMzs2WDQGZmZmbmI4RAmpmZmRnihEDNzMzMTKCFQAAAAACAXoZAMzMzM7Mch0BmZmZm5tqHQJqZmZkZmYhAzczMzExXiUAAAAAAgBWKQDMzMzOz04pAZmZmZuaRi0CamZmZGVCMQM3MzMxMDo1AAAAAAIDMjUAzMzMzs4qOQGZmZmbmSI9A\",\"dtype\":\"float64\",\"shape\":[75]}},\"selected\":{\"id\":\"d1c4a37c-084c-45ce-9196-9427fe1acfbb\",\"type\":\"Selection\"},\"selection_policy\":{\"id\":\"adbca9f8-ffe8-42da-8b57-a3a3d14636ab\",\"type\":\"UnionRenderers\"}},\"id\":\"55e72781-acf2-4542-a6cd-6e8db3101ff1\",\"type\":\"ColumnDataSource\"},{\"attributes\":{\"line_color\":\"#4daf4a\",\"line_width\":1.5,\"x\":{\"field\":\"x\"},\"y\":{\"field\":\"y\"}},\"id\":\"b7f41d9a-f6e1-42fe-8bea-b7132dd49077\",\"type\":\"Line\"},{\"attributes\":{\"items\":[{\"id\":\"c7558342-3526-4be1-bda6-89eb942758fa\",\"type\":\"LegendItem\"}],\"label_text_font_size\":{\"value\":\"8pt\"},\"location\":\"top_center\",\"orientation\":\"horizontal\",\"plot\":{\"id\":\"cd6fcfa6-0873-42e5-bfdf-2cb87a205673\",\"subtype\":\"Figure\",\"type\":\"Plot\"}},\"id\":\"cc58a565-a8b3-4a2f-85d6-9dd0cff999dd\",\"type\":\"Legend\"},{\"attributes\":{},\"id\":\"1366b0bd-e060-4dca-bd69-198a057b9d53\",\"type\":\"SaveTool\"},{\"attributes\":{\"axis_label\":\"cooling rate [K/day]\",\"formatter\":{\"id\":\"42fe7d8c-a7a2-425d-8077-6d023a54a42c\",\"type\":\"BasicTickFormatter\"},\"plot\":{\"id\":\"cd6fcfa6-0873-42e5-bfdf-2cb87a205673\",\"subtype\":\"Figure\",\"type\":\"Plot\"},\"ticker\":{\"id\":\"66d73308-1f07-4000-9d2f-7cfb9f2dd00f\",\"type\":\"BasicTicker\"}},\"id\":\"e8a4831a-12c5-4ae1-9a69-2df20578966d\",\"type\":\"LinearAxis\"},{\"attributes\":{},\"id\":\"1a674d35-3c55-4d13-9b95-c733ded60787\",\"type\":\"PanTool\"},{\"attributes\":{},\"id\":\"45e93840-abe3-40b4-81b2-35fcb53e8b7e\",\"type\":\"BasicTicker\"},{\"attributes\":{\"callback\":null,\"end\":0.01,\"start\":1020},\"id\":\"2f658fe6-463a-4f3e-ae21-45818cc9d759\",\"type\":\"Range1d\"},{\"attributes\":{},\"id\":\"8f2cb8b6-7ee9-4283-8a2b-63384caa84a5\",\"type\":\"WheelZoomTool\"},{\"attributes\":{\"plot\":{\"id\":\"cd6fcfa6-0873-42e5-bfdf-2cb87a205673\",\"subtype\":\"Figure\",\"type\":\"Plot\"},\"ticker\":{\"id\":\"66d73308-1f07-4000-9d2f-7cfb9f2dd00f\",\"type\":\"BasicTicker\"}},\"id\":\"f105a576-ee87-49f7-acf1-15b5d10e9858\",\"type\":\"Grid\"},{\"attributes\":{\"num_minor_ticks\":10},\"id\":\"71d3cb56-ae47-4b71-ac04-03c8e994fda1\",\"type\":\"LogTicker\"},{\"attributes\":{\"fill_alpha\":{\"value\":0.1},\"fill_color\":{\"value\":\"#1f77b4\"},\"line_alpha\":{\"value\":0.1},\"line_color\":{\"value\":\"#1f77b4\"},\"x\":{\"field\":\"x\"},\"y\":{\"field\":\"y\"}},\"id\":\"eae04d7e-34e6-4248-ae7a-6e15d057139e\",\"type\":\"Circle\"},{\"attributes\":{\"source\":{\"id\":\"0882216d-c5d0-40c0-831b-3e43ea5ab75e\",\"type\":\"ColumnDataSource\"}},\"id\":\"05a9f86f-0e82-47ba-9275-786c21159cb9\",\"type\":\"CDSView\"},{\"attributes\":{\"source\":{\"id\":\"6b709c18-0295-40dc-8138-558c0305f757\",\"type\":\"ColumnDataSource\"}},\"id\":\"63948d32-5d9f-4e79-ae0f-046082a9df98\",\"type\":\"CDSView\"},{\"attributes\":{\"callback\":null,\"data\":{\"x\":{\"__ndarray__\":\"L51n0PYGo7/as8vdBU+lv6Rd+eqysam/VfWIV63arb+cJbyVCeWwv0mGYzBbv7K/auoe1KN7tL8mdjp+Ehm2v4I1ye1pl7e/dumoaIH9uL+/0ERUuFC6v3ju+z+glru/oQFpvefZvL/+pfvvd969v6GXm7nREb2//ieqd+sOtb+E+1N7MOhWv536m6tBc8E/84wBAmvP1T8eEfhoFu3jP9VJz1c93u8/uNyqNd7n9j8eR2I4jUP7P+Mh51g5D/s/W4mKgipf+D+4/gLmxlnzP5rD/2fee+s/QwaPwjdl4j8YU7g3IozXP5OcfhZsn8U/WQn8Mi+/sb8fqkJm26fSv6pqejezKd6/MB1KH4AV4r9xVI+wf+ngv7tK0pBMota/7Agzrxudxr/Jfi/oMYi8v/5VA3F3hre/vs4gGurrs7+vnamJnhGxvzow64ulxKy/GLNnx/QhqL9PEkgSTzmkv6jVDoFOAaG/jtK5YzDNnL9hdQ/Jw1SYv7IL4A86RpS/MWpFO3GwkL9GOjFbGg6Lv6LwveUIHoW/FMdp30/afr/O6IKT2Olzv/lt5z6iyWK/liHw70DNJz/RKwA3GwxlPweDwzjs+HM/fJ3HbaMdfT+rt4zvGfaCP97t1SL9UYc/yrEOqoGkiz/yQPf096OPP3c+/C/phZE/FrgCKwPekj/sKiN8j/2TP4IZwEz1E5U/+2qLjos6lj/n+Z5UpXSXP0adw/n3wJg/Htm6ptARmj8BZN5mzlObPyQo9Zpbd5w/yuuJ+pmEnT/DLZsQpYOeP2o6ltKOdp8/\",\"dtype\":\"float64\",\"shape\":[75]},\"y\":{\"__ndarray__\":\"GhExyth1ND/Sv8nbtpRIP2vylNV0PVE/aTum7souWD/At0SJ8fVgPw3Iuahxymc/MSNhhJWvcD/bTfBN02d3P2zb5nxnaoA/CD5h5MAGhz8NmeH1TyaQP+zrCsc9p5Y/LbKd76fGnz/bLW5ISEmmPww9YvTcQq8/JV2OstnstT8Er5Y7M8G+P0c+r3jqkcU/5h99k6ZBzj88bCIzFzjVP4enV8oyxN0//yH99nXg5D8qOpLLf0jtP5kqGJXUifQ/c9cS8kHP/D+/DpwzojQEQIEmwoanVwxA4lgXt9HgE0BSSZ2AJuIbQAMJih9jjiNA5q4l5INuK0AwTKYKRj0zQNv5fmq8/DpAaCJseHrtQkB/+zpwzoxKQM3MzMzMeFJAZmZmZmZqWEAAAAAAAFxeQM3MzMzMJmJAmpmZmZkfZUBmZmZmZhhoQDMzMzMzEWtAAAAAAAAKbkBmZmZmZoFwQM3MzMzM/XFAMzMzMzN6c0CamZmZmfZ0QAAAAAAAc3ZAZmZmZmbvd0DNzMzMzGt5QDMzMzMz6HpAmpmZmZlkfEAAAAAAAOF9QGZmZmZmXX9AZmZmZuZsgECamZmZGSuBQM3MzMxM6YFAAAAAAICngkAzMzMzs2WDQGZmZmbmI4RAmpmZmRnihEDNzMzMTKCFQAAAAACAXoZAMzMzM7Mch0BmZmZm5tqHQJqZmZkZmYhAzczMzExXiUAAAAAAgBWKQDMzMzOz04pAZmZmZuaRi0CamZmZGVCMQM3MzMxMDo1AAAAAAIDMjUAzMzMzs4qOQGZmZmbmSI9A\",\"dtype\":\"float64\",\"shape\":[75]}},\"selected\":{\"id\":\"575c8924-b9fb-4f8a-8097-29a8ae899717\",\"type\":\"Selection\"},\"selection_policy\":{\"id\":\"e0ad3207-d10f-4879-a170-e83d13a29a08\",\"type\":\"UnionRenderers\"}},\"id\":\"10684386-82d7-4e8f-b682-0da44941d9ee\",\"type\":\"ColumnDataSource\"},{\"attributes\":{\"line_alpha\":0.1,\"line_color\":\"#1f77b4\",\"line_width\":1.5,\"x\":{\"field\":\"x\"},\"y\":{\"field\":\"y\"}},\"id\":\"bdc17d8a-e531-45e9-9ed7-2fdd5db1aa97\",\"type\":\"Line\"},{\"attributes\":{\"data_source\":{\"id\":\"45d3ba07-0878-4cea-b054-7df621186fd3\",\"type\":\"ColumnDataSource\"},\"glyph\":{\"id\":\"d06c59ba-e65c-4d19-8cf8-4dc9362256f3\",\"type\":\"Line\"},\"hover_glyph\":null,\"muted_glyph\":null,\"nonselection_glyph\":{\"id\":\"236f5d21-1e2a-4c30-949c-0db9d9cd5801\",\"type\":\"Line\"},\"selection_glyph\":null,\"view\":{\"id\":\"a5eaabc9-9039-4241-9792-6507ae1ed60d\",\"type\":\"CDSView\"}},\"id\":\"b1bc5057-edf5-4024-b968-1eac6a080b7c\",\"type\":\"GlyphRenderer\"},{\"attributes\":{\"data_source\":{\"id\":\"6b709c18-0295-40dc-8138-558c0305f757\",\"type\":\"ColumnDataSource\"},\"glyph\":{\"id\":\"2a066f94-0ee0-4dab-bccd-39f695e244bd\",\"type\":\"Circle\"},\"hover_glyph\":null,\"muted_glyph\":null,\"nonselection_glyph\":{\"id\":\"eae04d7e-34e6-4248-ae7a-6e15d057139e\",\"type\":\"Circle\"},\"selection_glyph\":null,\"view\":{\"id\":\"63948d32-5d9f-4e79-ae0f-046082a9df98\",\"type\":\"CDSView\"}},\"id\":\"57593c5d-ab92-4032-a3bc-df4f576933a7\",\"type\":\"GlyphRenderer\"},{\"attributes\":{\"callback\":null,\"end\":0.01,\"start\":1020},\"id\":\"8de10e8c-9b4c-44a8-a346-e5b78de113ac\",\"type\":\"Range1d\"},{\"attributes\":{\"children\":[{\"id\":\"7064260a-8a80-4d91-bfb9-2350f0e4e445\",\"type\":\"ToolbarBox\"},{\"id\":\"4ac8a0ea-2af0-470a-9b88-8e6d54e58808\",\"type\":\"Column\"}]},\"id\":\"b41fb490-e659-4cd7-9d7a-e696099fd5b0\",\"type\":\"Column\"},{\"attributes\":{\"callback\":null,\"end\":0.01,\"start\":1020},\"id\":\"83a661b6-079c-46c2-b4a3-fce83d1f15bb\",\"type\":\"Range1d\"},{\"attributes\":{},\"id\":\"66d73308-1f07-4000-9d2f-7cfb9f2dd00f\",\"type\":\"BasicTicker\"},{\"attributes\":{\"axis_label\":\"cooling rate [K/day]\",\"formatter\":{\"id\":\"2e0f97b9-0756-4b2b-9596-ca489688d68d\",\"type\":\"BasicTickFormatter\"},\"plot\":{\"id\":\"8f89f031-421f-4abb-b1fc-86fc6d089585\",\"subtype\":\"Figure\",\"type\":\"Plot\"},\"ticker\":{\"id\":\"c579879f-e43f-44c8-8f27-495c70677630\",\"type\":\"BasicTicker\"}},\"id\":\"15521709-3db6-429b-bdb8-9bf55a0efb50\",\"type\":\"LinearAxis\"},{\"attributes\":{\"fill_alpha\":{\"value\":0.1},\"fill_color\":{\"value\":\"#1f77b4\"},\"line_alpha\":{\"value\":0.1},\"line_color\":{\"value\":\"#1f77b4\"},\"x\":{\"field\":\"x\"},\"y\":{\"field\":\"y\"}},\"id\":\"5e4597f7-4e36-4a3a-b7d6-76b09d33635d\",\"type\":\"Circle\"},{\"attributes\":{},\"id\":\"fff3caee-59ea-4094-bbf1-bd4310133ae3\",\"type\":\"UnionRenderers\"},{\"attributes\":{\"source\":{\"id\":\"10684386-82d7-4e8f-b682-0da44941d9ee\",\"type\":\"ColumnDataSource\"}},\"id\":\"6332c6f6-d1a5-423a-8c32-0e3fb715e451\",\"type\":\"CDSView\"},{\"attributes\":{\"above\":[{\"id\":\"cc58a565-a8b3-4a2f-85d6-9dd0cff999dd\",\"type\":\"Legend\"}],\"below\":[{\"id\":\"e8a4831a-12c5-4ae1-9a69-2df20578966d\",\"type\":\"LinearAxis\"}],\"left\":[{\"id\":\"8681b9e7-0330-4404-a13a-81c36303c7ad\",\"type\":\"LogAxis\"}],\"plot_width\":300,\"renderers\":[{\"id\":\"e8a4831a-12c5-4ae1-9a69-2df20578966d\",\"type\":\"LinearAxis\"},{\"id\":\"f105a576-ee87-49f7-acf1-15b5d10e9858\",\"type\":\"Grid\"},{\"id\":\"8681b9e7-0330-4404-a13a-81c36303c7ad\",\"type\":\"LogAxis\"},{\"id\":\"e4b201ce-11f1-48b9-b709-0fd65b33936b\",\"type\":\"Grid\"},{\"id\":\"f8eea6e6-87c2-488b-ac4c-d4892046fb0b\",\"type\":\"BoxAnnotation\"},{\"id\":\"f7b8f6b4-9e94-455a-b9c1-6c9a144f3eaa\",\"type\":\"GlyphRenderer\"},{\"id\":\"fd211a7b-9188-4d1e-9ebc-59645fffd0a9\",\"type\":\"GlyphRenderer\"},{\"id\":\"cc58a565-a8b3-4a2f-85d6-9dd0cff999dd\",\"type\":\"Legend\"}],\"title\":{\"id\":\"cffa4f8f-3b27-4ea6-8c03-7da04001e633\",\"type\":\"Title\"},\"toolbar\":{\"id\":\"cc7ad803-6813-499a-a1e7-19389a8c3fc0\",\"type\":\"Toolbar\"},\"toolbar_location\":null,\"x_range\":{\"id\":\"6d7229d2-5753-4d52-9759-4f8610f8c2ba\",\"type\":\"Range1d\"},\"x_scale\":{\"id\":\"4a5b4b87-2d4e-4955-ae08-447990f3fb0a\",\"type\":\"LinearScale\"},\"y_range\":{\"id\":\"2f658fe6-463a-4f3e-ae21-45818cc9d759\",\"type\":\"Range1d\"},\"y_scale\":{\"id\":\"c9a282ea-6dd6-43ca-b2ae-669becee2220\",\"type\":\"LogScale\"}},\"id\":\"cd6fcfa6-0873-42e5-bfdf-2cb87a205673\",\"subtype\":\"Figure\",\"type\":\"Plot\"},{\"attributes\":{\"fill_alpha\":{\"value\":0.7},\"fill_color\":{\"value\":\"#4daf4a\"},\"line_alpha\":{\"value\":0.7},\"line_color\":{\"value\":\"#4daf4a\"},\"x\":{\"field\":\"x\"},\"y\":{\"field\":\"y\"}},\"id\":\"2c226a34-40ff-4cfa-b709-19608888ec0d\",\"type\":\"Circle\"},{\"attributes\":{},\"id\":\"a1ef22a8-b0b2-4aad-b985-e155fa6c47b6\",\"type\":\"Selection\"},{\"attributes\":{\"data_source\":{\"id\":\"10684386-82d7-4e8f-b682-0da44941d9ee\",\"type\":\"ColumnDataSource\"},\"glyph\":{\"id\":\"2c226a34-40ff-4cfa-b709-19608888ec0d\",\"type\":\"Circle\"},\"hover_glyph\":null,\"muted_glyph\":null,\"nonselection_glyph\":{\"id\":\"5e4597f7-4e36-4a3a-b7d6-76b09d33635d\",\"type\":\"Circle\"},\"selection_glyph\":null,\"view\":{\"id\":\"6332c6f6-d1a5-423a-8c32-0e3fb715e451\",\"type\":\"CDSView\"}},\"id\":\"1c91bf54-b024-4dd8-b371-5d71e1bfdf35\",\"type\":\"GlyphRenderer\"},{\"attributes\":{\"axis_label\":\"pressure [mb]\",\"formatter\":{\"id\":\"f6f48065-9bf2-4dc7-83b1-6316215154ba\",\"type\":\"LogTickFormatter\"},\"plot\":{\"id\":\"cd6fcfa6-0873-42e5-bfdf-2cb87a205673\",\"subtype\":\"Figure\",\"type\":\"Plot\"},\"ticker\":{\"id\":\"71d3cb56-ae47-4b71-ac04-03c8e994fda1\",\"type\":\"LogTicker\"}},\"id\":\"8681b9e7-0330-4404-a13a-81c36303c7ad\",\"type\":\"LogAxis\"},{\"attributes\":{\"callback\":null,\"end\":0.022834167809999997,\"start\":-0.14438328680999993},\"id\":\"6d7229d2-5753-4d52-9759-4f8610f8c2ba\",\"type\":\"Range1d\"},{\"attributes\":{\"ticker\":null},\"id\":\"f6f48065-9bf2-4dc7-83b1-6316215154ba\",\"type\":\"LogTickFormatter\"},{\"attributes\":{\"callback\":null,\"data\":{\"x\":{\"__ndarray__\":\"L51n0PYGo7/as8vdBU+lv6Rd+eqysam/VfWIV63arb+cJbyVCeWwv0mGYzBbv7K/auoe1KN7tL8mdjp+Ehm2v4I1ye1pl7e/dumoaIH9uL+/0ERUuFC6v3ju+z+glru/oQFpvefZvL/+pfvvd969v6GXm7nREb2//ieqd+sOtb+E+1N7MOhWv536m6tBc8E/84wBAmvP1T8eEfhoFu3jP9VJz1c93u8/uNyqNd7n9j8eR2I4jUP7P+Mh51g5D/s/W4mKgipf+D+4/gLmxlnzP5rD/2fee+s/QwaPwjdl4j8YU7g3IozXP5OcfhZsn8U/WQn8Mi+/sb8fqkJm26fSv6pqejezKd6/MB1KH4AV4r9xVI+wf+ngv7tK0pBMota/7Agzrxudxr/Jfi/oMYi8v/5VA3F3hre/vs4gGurrs7+vnamJnhGxvzow64ulxKy/GLNnx/QhqL9PEkgSTzmkv6jVDoFOAaG/jtK5YzDNnL9hdQ/Jw1SYv7IL4A86RpS/MWpFO3GwkL9GOjFbGg6Lv6LwveUIHoW/FMdp30/afr/O6IKT2Olzv/lt5z6iyWK/liHw70DNJz/RKwA3GwxlPweDwzjs+HM/fJ3HbaMdfT+rt4zvGfaCP97t1SL9UYc/yrEOqoGkiz/yQPf096OPP3c+/C/phZE/FrgCKwPekj/sKiN8j/2TP4IZwEz1E5U/+2qLjos6lj/n+Z5UpXSXP0adw/n3wJg/Htm6ptARmj8BZN5mzlObPyQo9Zpbd5w/yuuJ+pmEnT/DLZsQpYOeP2o6ltKOdp8/\",\"dtype\":\"float64\",\"shape\":[75]},\"y\":{\"__ndarray__\":\"GhExyth1ND/Sv8nbtpRIP2vylNV0PVE/aTum7souWD/At0SJ8fVgPw3Iuahxymc/MSNhhJWvcD/bTfBN02d3P2zb5nxnaoA/CD5h5MAGhz8NmeH1TyaQP+zrCsc9p5Y/LbKd76fGnz/bLW5ISEmmPww9YvTcQq8/JV2OstnstT8Er5Y7M8G+P0c+r3jqkcU/5h99k6ZBzj88bCIzFzjVP4enV8oyxN0//yH99nXg5D8qOpLLf0jtP5kqGJXUifQ/c9cS8kHP/D+/DpwzojQEQIEmwoanVwxA4lgXt9HgE0BSSZ2AJuIbQAMJih9jjiNA5q4l5INuK0AwTKYKRj0zQNv5fmq8/DpAaCJseHrtQkB/+zpwzoxKQM3MzMzMeFJAZmZmZmZqWEAAAAAAAFxeQM3MzMzMJmJAmpmZmZkfZUBmZmZmZhhoQDMzMzMzEWtAAAAAAAAKbkBmZmZmZoFwQM3MzMzM/XFAMzMzMzN6c0CamZmZmfZ0QAAAAAAAc3ZAZmZmZmbvd0DNzMzMzGt5QDMzMzMz6HpAmpmZmZlkfEAAAAAAAOF9QGZmZmZmXX9AZmZmZuZsgECamZmZGSuBQM3MzMxM6YFAAAAAAICngkAzMzMzs2WDQGZmZmbmI4RAmpmZmRnihEDNzMzMTKCFQAAAAACAXoZAMzMzM7Mch0BmZmZm5tqHQJqZmZkZmYhAzczMzExXiUAAAAAAgBWKQDMzMzOz04pAZmZmZuaRi0CamZmZGVCMQM3MzMxMDo1AAAAAAIDMjUAzMzMzs4qOQGZmZmbmSI9A\",\"dtype\":\"float64\",\"shape\":[75]}},\"selected\":{\"id\":\"adcc7d04-792d-4f1b-88ea-23d5f2f1850b\",\"type\":\"Selection\"},\"selection_policy\":{\"id\":\"577ebf4f-8de3-4e65-a581-c11472d0a274\",\"type\":\"UnionRenderers\"}},\"id\":\"bb04fdf7-0ff9-4483-b186-3251c21fa69f\",\"type\":\"ColumnDataSource\"},{\"attributes\":{\"label\":{\"value\":\"CLIRAD - CRD\"},\"renderers\":[{\"id\":\"f7b8f6b4-9e94-455a-b9c1-6c9a144f3eaa\",\"type\":\"GlyphRenderer\"},{\"id\":\"fd211a7b-9188-4d1e-9ebc-59645fffd0a9\",\"type\":\"GlyphRenderer\"}]},\"id\":\"c7558342-3526-4be1-bda6-89eb942758fa\",\"type\":\"LegendItem\"},{\"attributes\":{\"plot\":null,\"text\":\"\"},\"id\":\"6658e8f2-cf25-4c86-bc89-6cb1f903559f\",\"type\":\"Title\"},{\"attributes\":{},\"id\":\"c8a18956-7951-491d-b2f1-6e8a2a9214b4\",\"type\":\"BasicTickFormatter\"},{\"attributes\":{},\"id\":\"b9d550c7-93c7-4ad9-bb40-52073eb4dbd7\",\"type\":\"SaveTool\"},{\"attributes\":{\"above\":[{\"id\":\"cfa367f3-53ca-424c-8ace-63d49402e74f\",\"type\":\"Legend\"}],\"below\":[{\"id\":\"ca068ccc-1b92-465b-8c5f-8a4d34e34ac2\",\"type\":\"LinearAxis\"}],\"left\":[{\"id\":\"0065e2ac-9060-46ac-93ed-ea267e6603a0\",\"type\":\"LogAxis\"}],\"plot_width\":300,\"renderers\":[{\"id\":\"ca068ccc-1b92-465b-8c5f-8a4d34e34ac2\",\"type\":\"LinearAxis\"},{\"id\":\"3d188994-5f46-4346-8d35-8deeadc3c9dd\",\"type\":\"Grid\"},{\"id\":\"0065e2ac-9060-46ac-93ed-ea267e6603a0\",\"type\":\"LogAxis\"},{\"id\":\"00e33acb-aafd-4c2d-a163-f8fc2e58a21d\",\"type\":\"Grid\"},{\"id\":\"5e149972-6fe3-41f9-853e-9371596bac11\",\"type\":\"BoxAnnotation\"},{\"id\":\"5797393f-9a4c-4392-9c64-deeb06c2e522\",\"type\":\"GlyphRenderer\"},{\"id\":\"57593c5d-ab92-4032-a3bc-df4f576933a7\",\"type\":\"GlyphRenderer\"},{\"id\":\"43169787-5558-4a1f-b626-ed931ddcbf83\",\"type\":\"GlyphRenderer\"},{\"id\":\"cfa367f3-53ca-424c-8ace-63d49402e74f\",\"type\":\"Legend\"}],\"title\":{\"id\":\"6658e8f2-cf25-4c86-bc89-6cb1f903559f\",\"type\":\"Title\"},\"toolbar\":{\"id\":\"f6ed5ef9-a2cc-484a-bbc1-eda24a304b69\",\"type\":\"Toolbar\"},\"toolbar_location\":null,\"x_range\":{\"id\":\"cf486082-933d-4a7a-a326-25091e42c11f\",\"type\":\"Range1d\"},\"x_scale\":{\"id\":\"93115205-665e-4feb-b28e-96b79ea2ee43\",\"type\":\"LinearScale\"},\"y_range\":{\"id\":\"8de10e8c-9b4c-44a8-a346-e5b78de113ac\",\"type\":\"Range1d\"},\"y_scale\":{\"id\":\"3e3289dc-1ea2-4db4-aa79-a67ff46c1430\",\"type\":\"LogScale\"}},\"id\":\"ad47492e-a4a5-4abe-a666-18e0c5818062\",\"subtype\":\"Figure\",\"type\":\"Plot\"},{\"attributes\":{\"dimension\":1,\"plot\":{\"id\":\"cd6fcfa6-0873-42e5-bfdf-2cb87a205673\",\"subtype\":\"Figure\",\"type\":\"Plot\"},\"ticker\":{\"id\":\"71d3cb56-ae47-4b71-ac04-03c8e994fda1\",\"type\":\"LogTicker\"}},\"id\":\"e4b201ce-11f1-48b9-b709-0fd65b33936b\",\"type\":\"Grid\"},{\"attributes\":{\"line_alpha\":0.1,\"line_color\":\"#1f77b4\",\"line_width\":1.5,\"x\":{\"field\":\"x\"},\"y\":{\"field\":\"y\"}},\"id\":\"52632dd0-06f7-4197-8898-fa41bf8aae8b\",\"type\":\"Line\"},{\"attributes\":{\"label\":{\"value\":\"CLIRAD\"},\"renderers\":[{\"id\":\"5797393f-9a4c-4392-9c64-deeb06c2e522\",\"type\":\"GlyphRenderer\"}]},\"id\":\"a559ed53-6bb4-40d3-8fb6-dd78729192fa\",\"type\":\"LegendItem\"},{\"attributes\":{\"callback\":null,\"end\":0.03701496457691704,\"start\":-0.6044900222686209},\"id\":\"ece82eab-2cff-4cfe-a48c-7eb2d4b55e4c\",\"type\":\"Range1d\"},{\"attributes\":{\"label\":{\"value\":\"CLIRAD\"},\"renderers\":[{\"id\":\"b1bc5057-edf5-4024-b968-1eac6a080b7c\",\"type\":\"GlyphRenderer\"}]},\"id\":\"c10ee2bf-0b4d-470a-84cd-32682ed2b7a7\",\"type\":\"LegendItem\"},{\"attributes\":{},\"id\":\"4618db58-cae2-4099-a170-676c5a95de0f\",\"type\":\"ResetTool\"},{\"attributes\":{},\"id\":\"93115205-665e-4feb-b28e-96b79ea2ee43\",\"type\":\"LinearScale\"},{\"attributes\":{\"callback\":null,\"data\":{\"x\":{\"__ndarray__\":\"wIhwRcL0fj9wdeMkZz2BP8Ty1/nxdoQ/AGCPOE1nhz8gs0RLRBaKP3BujGr/bYw/IJqSD+6Mjj+YWZ8A9y2QP+xKUYKM7ZA/gG5TLwSokT8AfyYy22SSPxgMd1kMUZM/WBBMM7JrlD/QqfasFbSVP+AEeVIzX5Q/oPk1IrAjhj9X2l++ALB+v14G7+2Oc6C/8Eft8mvzrr9wsNQGab62v8CPk1chxL2/GAwan25Fwr8QVl6Xhoa+v6DYBSiye6u/gOWcM/1tmr9AcHmsGRmkv/DHyz+fbaS/oFrPc7gUl78A7haz6/9YP6BKMEkjbpM/SI1xFAwmkT8AfWppLGleP1Cbws49uZS/sDcbZdxYq7/46hwDstexv0Dgog9tMqK/AA/qx8s/f79A2uZCvOBZvwDAVMmGiTS/AN01u8rnQD/AzQ4jSpxRP8Cj1tPFqFY/4EDawp1SWD8A6hg0TQhYP6CxR7+1x1Y/4D6mpj4/VT/A8sqpKFRTP3Cw7zeYVVE/ADcIKS59Tj9Aa/V35H9KP7A9XdtnjkY/gIeEoSV+Qj8AYBy+P3w9P1DM/I2vYjU//C9ZMrOvKz8AJ2n8TowWPwDBJ0GztwG/QBVY7CUAJb9AOQvtL8oyv2DxDz8lBTu/QI67tQpqQb/wc3jYqZFEv0D/sl+dgUa/gGDxbkHDRr9gU5Kb/1xGvwCXfVkFKka/gGPoO2zgRr9gTQ6au2hIv0AZBKwO5kq/AHsLZY3sTb/QJu3E53lQvzBx2qK4IlK/wHgl9PPZU78QqV7u+4ZVv5AV7i+XYVe/\",\"dtype\":\"float64\",\"shape\":[75]},\"y\":{\"__ndarray__\":\"GhExyth1ND/Sv8nbtpRIP2vylNV0PVE/aTum7souWD/At0SJ8fVgPw3Iuahxymc/MSNhhJWvcD/bTfBN02d3P2zb5nxnaoA/CD5h5MAGhz8NmeH1TyaQP+zrCsc9p5Y/LbKd76fGnz/bLW5ISEmmPww9YvTcQq8/JV2OstnstT8Er5Y7M8G+P0c+r3jqkcU/5h99k6ZBzj88bCIzFzjVP4enV8oyxN0//yH99nXg5D8qOpLLf0jtP5kqGJXUifQ/c9cS8kHP/D+/DpwzojQEQIEmwoanVwxA4lgXt9HgE0BSSZ2AJuIbQAMJih9jjiNA5q4l5INuK0AwTKYKRj0zQNv5fmq8/DpAaCJseHrtQkB/+zpwzoxKQM3MzMzMeFJAZmZmZmZqWEAAAAAAAFxeQM3MzMzMJmJAmpmZmZkfZUBmZmZmZhhoQDMzMzMzEWtAAAAAAAAKbkBmZmZmZoFwQM3MzMzM/XFAMzMzMzN6c0CamZmZmfZ0QAAAAAAAc3ZAZmZmZmbvd0DNzMzMzGt5QDMzMzMz6HpAmpmZmZlkfEAAAAAAAOF9QGZmZmZmXX9AZmZmZuZsgECamZmZGSuBQM3MzMxM6YFAAAAAAICngkAzMzMzs2WDQGZmZmbmI4RAmpmZmRnihEDNzMzMTKCFQAAAAACAXoZAMzMzM7Mch0BmZmZm5tqHQJqZmZkZmYhAzczMzExXiUAAAAAAgBWKQDMzMzOz04pAZmZmZuaRi0CamZmZGVCMQM3MzMxMDo1AAAAAAIDMjUAzMzMzs4qOQGZmZmbmSI9A\",\"dtype\":\"float64\",\"shape\":[75]}},\"selected\":{\"id\":\"631a2a8f-764d-4c00-892b-f62d9d817cc0\",\"type\":\"Selection\"},\"selection_policy\":{\"id\":\"7633ee94-4b5d-42bf-8aae-19fb72cd18d5\",\"type\":\"UnionRenderers\"}},\"id\":\"7d989d24-0b4b-403e-8d57-0d1af1b7f1ee\",\"type\":\"ColumnDataSource\"},{\"attributes\":{\"label\":{\"value\":\"CRD\"},\"renderers\":[{\"id\":\"1c91bf54-b024-4dd8-b371-5d71e1bfdf35\",\"type\":\"GlyphRenderer\"},{\"id\":\"0df2947a-1636-4da3-8733-680676ef2d8e\",\"type\":\"GlyphRenderer\"}]},\"id\":\"f028633e-ff9e-4429-8fb5-b0767f9e49e4\",\"type\":\"LegendItem\"},{\"attributes\":{},\"id\":\"42fe7d8c-a7a2-425d-8077-6d023a54a42c\",\"type\":\"BasicTickFormatter\"},{\"attributes\":{\"data_source\":{\"id\":\"bb04fdf7-0ff9-4483-b186-3251c21fa69f\",\"type\":\"ColumnDataSource\"},\"glyph\":{\"id\":\"0a0ade21-902b-4382-a28f-60e1d578ab71\",\"type\":\"Line\"},\"hover_glyph\":null,\"muted_glyph\":null,\"nonselection_glyph\":{\"id\":\"52632dd0-06f7-4197-8898-fa41bf8aae8b\",\"type\":\"Line\"},\"selection_glyph\":null,\"view\":{\"id\":\"2430b3c0-536a-4df5-b110-28a97f79a06b\",\"type\":\"CDSView\"}},\"id\":\"0df2947a-1636-4da3-8733-680676ef2d8e\",\"type\":\"GlyphRenderer\"},{\"attributes\":{},\"id\":\"575c8924-b9fb-4f8a-8097-29a8ae899717\",\"type\":\"Selection\"},{\"attributes\":{\"line_alpha\":0.8,\"line_color\":\"#984ea3\",\"line_width\":1.5,\"x\":{\"field\":\"x\"},\"y\":{\"field\":\"y\"}},\"id\":\"364a2d8e-588c-4076-97a1-8e6ac181b7e5\",\"type\":\"Line\"},{\"attributes\":{},\"id\":\"577ebf4f-8de3-4e65-a581-c11472d0a274\",\"type\":\"UnionRenderers\"},{\"attributes\":{\"axis_label\":\"pressure [mb]\",\"formatter\":{\"id\":\"657de2bb-13cd-4793-ab26-614ca2b454af\",\"type\":\"LogTickFormatter\"},\"plot\":{\"id\":\"ad47492e-a4a5-4abe-a666-18e0c5818062\",\"subtype\":\"Figure\",\"type\":\"Plot\"},\"ticker\":{\"id\":\"a547aaf3-c70e-46f7-91dc-b9ddd44de09e\",\"type\":\"LogTicker\"}},\"id\":\"0065e2ac-9060-46ac-93ed-ea267e6603a0\",\"type\":\"LogAxis\"},{\"attributes\":{\"data_source\":{\"id\":\"a550207f-8de4-44d6-a323-b0ca84c60ac1\",\"type\":\"ColumnDataSource\"},\"glyph\":{\"id\":\"1db1aa44-67b9-44ab-9ce9-cece5c9e3b57\",\"type\":\"Circle\"},\"hover_glyph\":null,\"muted_glyph\":null,\"nonselection_glyph\":{\"id\":\"86d2f794-255c-4f8d-ad4b-648924e7ed1d\",\"type\":\"Circle\"},\"selection_glyph\":null,\"view\":{\"id\":\"43842b80-fa38-48c4-aa8b-0c664c0b2428\",\"type\":\"CDSView\"}},\"id\":\"f7b8f6b4-9e94-455a-b9c1-6c9a144f3eaa\",\"type\":\"GlyphRenderer\"},{\"attributes\":{\"num_minor_ticks\":10},\"id\":\"a547aaf3-c70e-46f7-91dc-b9ddd44de09e\",\"type\":\"LogTicker\"},{\"attributes\":{},\"id\":\"db157d6b-e4bd-4d2a-8846-8938516f16a7\",\"type\":\"UnionRenderers\"},{\"attributes\":{},\"id\":\"631a2a8f-764d-4c00-892b-f62d9d817cc0\",\"type\":\"Selection\"},{\"attributes\":{},\"id\":\"c9a282ea-6dd6-43ca-b2ae-669becee2220\",\"type\":\"LogScale\"},{\"attributes\":{\"tools\":[{\"id\":\"1a674d35-3c55-4d13-9b95-c733ded60787\",\"type\":\"PanTool\"},{\"id\":\"8f2cb8b6-7ee9-4283-8a2b-63384caa84a5\",\"type\":\"WheelZoomTool\"},{\"id\":\"080095b7-b18a-441a-8532-809c141b6db4\",\"type\":\"BoxZoomTool\"},{\"id\":\"1366b0bd-e060-4dca-bd69-198a057b9d53\",\"type\":\"SaveTool\"},{\"id\":\"7560e67c-8298-45eb-91a8-2dab4c780e32\",\"type\":\"ResetTool\"},{\"id\":\"1ba96dbb-fbad-47f5-bb3d-e6657aa04200\",\"type\":\"HelpTool\"},{\"id\":\"42ef15f3-e312-450d-a687-2bd1f1d5c087\",\"type\":\"PanTool\"},{\"id\":\"56607b41-bb6d-4e38-a882-32bffff24a28\",\"type\":\"WheelZoomTool\"},{\"id\":\"bff086c6-5252-49f0-b373-da0b017a219b\",\"type\":\"BoxZoomTool\"},{\"id\":\"732d5589-574e-43eb-bf97-4952f978ab13\",\"type\":\"SaveTool\"},{\"id\":\"cf62079e-eebb-4d84-b059-24b57289ca2c\",\"type\":\"ResetTool\"},{\"id\":\"e4b04279-342c-48b0-afed-3a3733ef89b4\",\"type\":\"HelpTool\"},{\"id\":\"81aebfc9-fbb0-4850-b91e-25eea11e36d6\",\"type\":\"PanTool\"},{\"id\":\"7c3cb715-cffe-4aed-af62-0ca9a5cb6d9e\",\"type\":\"WheelZoomTool\"},{\"id\":\"b54a1de5-e5a1-42c0-a312-784037a7be10\",\"type\":\"BoxZoomTool\"},{\"id\":\"b9d550c7-93c7-4ad9-bb40-52073eb4dbd7\",\"type\":\"SaveTool\"},{\"id\":\"4618db58-cae2-4099-a170-676c5a95de0f\",\"type\":\"ResetTool\"},{\"id\":\"fe0286d9-551f-41e9-a413-1715660393bd\",\"type\":\"HelpTool\"}]},\"id\":\"33995af8-459e-4883-8b3a-9571ca60bc30\",\"type\":\"ProxyToolbar\"},{\"attributes\":{},\"id\":\"56607b41-bb6d-4e38-a882-32bffff24a28\",\"type\":\"WheelZoomTool\"},{\"attributes\":{\"items\":[{\"id\":\"a559ed53-6bb4-40d3-8fb6-dd78729192fa\",\"type\":\"LegendItem\"},{\"id\":\"499a550f-a5e4-407c-8c31-22439eac7f32\",\"type\":\"LegendItem\"}],\"label_text_font_size\":{\"value\":\"8pt\"},\"location\":\"top_center\",\"orientation\":\"horizontal\",\"plot\":{\"id\":\"ad47492e-a4a5-4abe-a666-18e0c5818062\",\"subtype\":\"Figure\",\"type\":\"Plot\"}},\"id\":\"cfa367f3-53ca-424c-8ace-63d49402e74f\",\"type\":\"Legend\"},{\"attributes\":{},\"id\":\"cc3364f3-eb11-4b79-96f1-a1f1dfaa846c\",\"type\":\"UnionRenderers\"},{\"attributes\":{},\"id\":\"4a825e48-66a1-46d7-a3c5-95286f107349\",\"type\":\"LinearScale\"},{\"attributes\":{},\"id\":\"c9eee284-d6c4-4d5a-b194-e53c23ac3011\",\"type\":\"BasicTicker\"},{\"attributes\":{},\"id\":\"6b229313-d75b-4e4a-99b6-4ea067503b06\",\"type\":\"Selection\"},{\"attributes\":{\"active_drag\":\"auto\",\"active_inspect\":\"auto\",\"active_scroll\":\"auto\",\"active_tap\":\"auto\",\"tools\":[{\"id\":\"1a674d35-3c55-4d13-9b95-c733ded60787\",\"type\":\"PanTool\"},{\"id\":\"8f2cb8b6-7ee9-4283-8a2b-63384caa84a5\",\"type\":\"WheelZoomTool\"},{\"id\":\"080095b7-b18a-441a-8532-809c141b6db4\",\"type\":\"BoxZoomTool\"},{\"id\":\"1366b0bd-e060-4dca-bd69-198a057b9d53\",\"type\":\"SaveTool\"},{\"id\":\"7560e67c-8298-45eb-91a8-2dab4c780e32\",\"type\":\"ResetTool\"},{\"id\":\"1ba96dbb-fbad-47f5-bb3d-e6657aa04200\",\"type\":\"HelpTool\"}]},\"id\":\"1f0dc58f-3201-4ef0-bb98-e5cf10747954\",\"type\":\"Toolbar\"},{\"attributes\":{\"data_source\":{\"id\":\"55e72781-acf2-4542-a6cd-6e8db3101ff1\",\"type\":\"ColumnDataSource\"},\"glyph\":{\"id\":\"b7f41d9a-f6e1-42fe-8bea-b7132dd49077\",\"type\":\"Line\"},\"hover_glyph\":null,\"muted_glyph\":null,\"nonselection_glyph\":{\"id\":\"bdc17d8a-e531-45e9-9ed7-2fdd5db1aa97\",\"type\":\"Line\"},\"selection_glyph\":null,\"view\":{\"id\":\"32b5c085-06c8-4dc3-9d08-d70e791221d2\",\"type\":\"CDSView\"}},\"id\":\"43169787-5558-4a1f-b626-ed931ddcbf83\",\"type\":\"GlyphRenderer\"},{\"attributes\":{\"ticker\":null},\"id\":\"657de2bb-13cd-4793-ab26-614ca2b454af\",\"type\":\"LogTickFormatter\"},{\"attributes\":{},\"id\":\"4a5b4b87-2d4e-4955-ae08-447990f3fb0a\",\"type\":\"LinearScale\"},{\"attributes\":{\"callback\":null,\"data\":{\"x\":{\"__ndarray__\":\"wIhwRcL0fj9wdeMkZz2BP8Ty1/nxdoQ/AGCPOE1nhz8gs0RLRBaKP3BujGr/bYw/IJqSD+6Mjj+YWZ8A9y2QP+xKUYKM7ZA/gG5TLwSokT8AfyYy22SSPxgMd1kMUZM/WBBMM7JrlD/QqfasFbSVP+AEeVIzX5Q/oPk1IrAjhj9X2l++ALB+v14G7+2Oc6C/8Eft8mvzrr9wsNQGab62v8CPk1chxL2/GAwan25Fwr8QVl6Xhoa+v6DYBSiye6u/gOWcM/1tmr9AcHmsGRmkv/DHyz+fbaS/oFrPc7gUl78A7haz6/9YP6BKMEkjbpM/SI1xFAwmkT8AfWppLGleP1Cbws49uZS/sDcbZdxYq7/46hwDstexv0Dgog9tMqK/AA/qx8s/f79A2uZCvOBZvwDAVMmGiTS/AN01u8rnQD/AzQ4jSpxRP8Cj1tPFqFY/4EDawp1SWD8A6hg0TQhYP6CxR7+1x1Y/4D6mpj4/VT/A8sqpKFRTP3Cw7zeYVVE/ADcIKS59Tj9Aa/V35H9KP7A9XdtnjkY/gIeEoSV+Qj8AYBy+P3w9P1DM/I2vYjU//C9ZMrOvKz8AJ2n8TowWPwDBJ0GztwG/QBVY7CUAJb9AOQvtL8oyv2DxDz8lBTu/QI67tQpqQb/wc3jYqZFEv0D/sl+dgUa/gGDxbkHDRr9gU5Kb/1xGvwCXfVkFKka/gGPoO2zgRr9gTQ6au2hIv0AZBKwO5kq/AHsLZY3sTb/QJu3E53lQvzBx2qK4IlK/wHgl9PPZU78QqV7u+4ZVv5AV7i+XYVe/\",\"dtype\":\"float64\",\"shape\":[75]},\"y\":{\"__ndarray__\":\"GhExyth1ND/Sv8nbtpRIP2vylNV0PVE/aTum7souWD/At0SJ8fVgPw3Iuahxymc/MSNhhJWvcD/bTfBN02d3P2zb5nxnaoA/CD5h5MAGhz8NmeH1TyaQP+zrCsc9p5Y/LbKd76fGnz/bLW5ISEmmPww9YvTcQq8/JV2OstnstT8Er5Y7M8G+P0c+r3jqkcU/5h99k6ZBzj88bCIzFzjVP4enV8oyxN0//yH99nXg5D8qOpLLf0jtP5kqGJXUifQ/c9cS8kHP/D+/DpwzojQEQIEmwoanVwxA4lgXt9HgE0BSSZ2AJuIbQAMJih9jjiNA5q4l5INuK0AwTKYKRj0zQNv5fmq8/DpAaCJseHrtQkB/+zpwzoxKQM3MzMzMeFJAZmZmZmZqWEAAAAAAAFxeQM3MzMzMJmJAmpmZmZkfZUBmZmZmZhhoQDMzMzMzEWtAAAAAAAAKbkBmZmZmZoFwQM3MzMzM/XFAMzMzMzN6c0CamZmZmfZ0QAAAAAAAc3ZAZmZmZmbvd0DNzMzMzGt5QDMzMzMz6HpAmpmZmZlkfEAAAAAAAOF9QGZmZmZmXX9AZmZmZuZsgECamZmZGSuBQM3MzMxM6YFAAAAAAICngkAzMzMzs2WDQGZmZmbmI4RAmpmZmRnihEDNzMzMTKCFQAAAAACAXoZAMzMzM7Mch0BmZmZm5tqHQJqZmZkZmYhAzczMzExXiUAAAAAAgBWKQDMzMzOz04pAZmZmZuaRi0CamZmZGVCMQM3MzMxMDo1AAAAAAIDMjUAzMzMzs4qOQGZmZmbmSI9A\",\"dtype\":\"float64\",\"shape\":[75]}},\"selected\":{\"id\":\"6b229313-d75b-4e4a-99b6-4ea067503b06\",\"type\":\"Selection\"},\"selection_policy\":{\"id\":\"cc3364f3-eb11-4b79-96f1-a1f1dfaa846c\",\"type\":\"UnionRenderers\"}},\"id\":\"a550207f-8de4-44d6-a323-b0ca84c60ac1\",\"type\":\"ColumnDataSource\"},{\"attributes\":{\"children\":[{\"id\":\"8f89f031-421f-4abb-b1fc-86fc6d089585\",\"subtype\":\"Figure\",\"type\":\"Plot\"},{\"id\":\"ad47492e-a4a5-4abe-a666-18e0c5818062\",\"subtype\":\"Figure\",\"type\":\"Plot\"},{\"id\":\"cd6fcfa6-0873-42e5-bfdf-2cb87a205673\",\"subtype\":\"Figure\",\"type\":\"Plot\"}]},\"id\":\"cacbad3e-34e0-48fb-baa6-8d46004b4685\",\"type\":\"Row\"},{\"attributes\":{\"toolbar\":{\"id\":\"33995af8-459e-4883-8b3a-9571ca60bc30\",\"type\":\"ProxyToolbar\"},\"toolbar_location\":\"above\"},\"id\":\"7064260a-8a80-4d91-bfb9-2350f0e4e445\",\"type\":\"ToolbarBox\"},{\"attributes\":{\"data_source\":{\"id\":\"7d989d24-0b4b-403e-8d57-0d1af1b7f1ee\",\"type\":\"ColumnDataSource\"},\"glyph\":{\"id\":\"364a2d8e-588c-4076-97a1-8e6ac181b7e5\",\"type\":\"Line\"},\"hover_glyph\":null,\"muted_glyph\":null,\"nonselection_glyph\":{\"id\":\"3edb17b9-3c13-4e01-9e77-9ac1e93cac38\",\"type\":\"Line\"},\"selection_glyph\":null,\"view\":{\"id\":\"45ca153a-cc7c-4097-b609-cdbf2921d117\",\"type\":\"CDSView\"}},\"id\":\"fd211a7b-9188-4d1e-9ebc-59645fffd0a9\",\"type\":\"GlyphRenderer\"},{\"attributes\":{\"callback\":null,\"data\":{\"x\":{\"__ndarray__\":\"cDErRoFunr+EZWAccCahv3PNGQvRlKS/pF6h42UBqL8srf5EfUSrv7M9g2aIY66/zv1teQ+qsL+BwQBjmA2yvyjY0bwSXLO/WNSGjYCTtL9bScEMibe1v8ipw6Fdwra/IXe7dEa/t78BEGxQznO4v1FMCgOK/Le/ldHnC1tLsr91VV11OjeCv0m3GqKGrLo/VfbBzvLw0T/r40gBRRXhP818wsC5Jew/Ii24lTif9D+nHFoWK1v5P1c2KWpdM/o/8yV5YnP19z+TPPoY/rjyP6pIajYENeo/Ix7z1ZGs4T9oyPvuIaXXP+TFMTkwDcg/RUOWElnrqr8w4/lIconSv6SqDxpHdd+/pU4s1w3L478kTlfqdSTjv+TGWFqa6Ni/JlLDqhqXx79h4OKJte+8v+EYJOQAm7e/TKFIcxrKs7+woZRSLcuwv5D7NEVfD6y/SnKCxF9fp7+Z8PmWDHmjv/U1t8MQS6C/gGOMXTx5m78e2okngR+Xv1gjfHbgMJO/FZIbbg95j7+gJZ7xG2aJv5i4hkcitYO/+1XW+IqKfL/QetVeFBJyvyLO8ABMHWC/8e10Gn2+OT/bem/yfcBlP0g/Yvp81XM/1BufZKJ1fD80c5CHyF+CP7EM2R/UeYY/+/6GSOGNij+kqdXP3VqOP3xWpITc0ZA/ZetXSuknkj/bT12Fp0qTP+8kegylYpQ/DCeODIiDlT/rdpliX7GWP9goXnrH6Zc/jmbqNmwimT8pFEjtL0yaP3VL2xMwVZs/V98kvPpGnD9Ano5WNSudP1ZASFt2AJ4/\",\"dtype\":\"float64\",\"shape\":[75]},\"y\":{\"__ndarray__\":\"GhExyth1ND/Sv8nbtpRIP2vylNV0PVE/aTum7souWD/At0SJ8fVgPw3Iuahxymc/MSNhhJWvcD/bTfBN02d3P2zb5nxnaoA/CD5h5MAGhz8NmeH1TyaQP+zrCsc9p5Y/LbKd76fGnz/bLW5ISEmmPww9YvTcQq8/JV2OstnstT8Er5Y7M8G+P0c+r3jqkcU/5h99k6ZBzj88bCIzFzjVP4enV8oyxN0//yH99nXg5D8qOpLLf0jtP5kqGJXUifQ/c9cS8kHP/D+/DpwzojQEQIEmwoanVwxA4lgXt9HgE0BSSZ2AJuIbQAMJih9jjiNA5q4l5INuK0AwTKYKRj0zQNv5fmq8/DpAaCJseHrtQkB/+zpwzoxKQM3MzMzMeFJAZmZmZmZqWEAAAAAAAFxeQM3MzMzMJmJAmpmZmZkfZUBmZmZmZhhoQDMzMzMzEWtAAAAAAAAKbkBmZmZmZoFwQM3MzMzM/XFAMzMzMzN6c0CamZmZmfZ0QAAAAAAAc3ZAZmZmZmbvd0DNzMzMzGt5QDMzMzMz6HpAmpmZmZlkfEAAAAAAAOF9QGZmZmZmXX9AZmZmZuZsgECamZmZGSuBQM3MzMxM6YFAAAAAAICngkAzMzMzs2WDQGZmZmbmI4RAmpmZmRnihEDNzMzMTKCFQAAAAACAXoZAMzMzM7Mch0BmZmZm5tqHQJqZmZkZmYhAzczMzExXiUAAAAAAgBWKQDMzMzOz04pAZmZmZuaRi0CamZmZGVCMQM3MzMxMDo1AAAAAAIDMjUAzMzMzs4qOQGZmZmbmSI9A\",\"dtype\":\"float64\",\"shape\":[75]}},\"selected\":{\"id\":\"d11bb496-dff5-4dc0-b565-895dcb94a259\",\"type\":\"Selection\"},\"selection_policy\":{\"id\":\"db157d6b-e4bd-4d2a-8846-8938516f16a7\",\"type\":\"UnionRenderers\"}},\"id\":\"0882216d-c5d0-40c0-831b-3e43ea5ab75e\",\"type\":\"ColumnDataSource\"},{\"attributes\":{},\"id\":\"2e0f97b9-0756-4b2b-9596-ca489688d68d\",\"type\":\"BasicTickFormatter\"},{\"attributes\":{},\"id\":\"fe0286d9-551f-41e9-a413-1715660393bd\",\"type\":\"HelpTool\"},{\"attributes\":{\"source\":{\"id\":\"bb04fdf7-0ff9-4483-b186-3251c21fa69f\",\"type\":\"ColumnDataSource\"}},\"id\":\"2430b3c0-536a-4df5-b110-28a97f79a06b\",\"type\":\"CDSView\"},{\"attributes\":{\"plot\":{\"id\":\"ad47492e-a4a5-4abe-a666-18e0c5818062\",\"subtype\":\"Figure\",\"type\":\"Plot\"},\"ticker\":{\"id\":\"c9eee284-d6c4-4d5a-b194-e53c23ac3011\",\"type\":\"BasicTicker\"}},\"id\":\"3d188994-5f46-4346-8d35-8deeadc3c9dd\",\"type\":\"Grid\"},{\"attributes\":{},\"id\":\"cf62079e-eebb-4d84-b059-24b57289ca2c\",\"type\":\"ResetTool\"},{\"attributes\":{\"plot\":null,\"text\":\"\"},\"id\":\"cffa4f8f-3b27-4ea6-8c03-7da04001e633\",\"type\":\"Title\"},{\"attributes\":{},\"id\":\"42ef15f3-e312-450d-a687-2bd1f1d5c087\",\"type\":\"PanTool\"},{\"attributes\":{\"line_alpha\":0.1,\"line_color\":\"#1f77b4\",\"line_width\":1.5,\"x\":{\"field\":\"x\"},\"y\":{\"field\":\"y\"}},\"id\":\"3edb17b9-3c13-4e01-9e77-9ac1e93cac38\",\"type\":\"Line\"},{\"attributes\":{},\"id\":\"99b5df80-a7fb-4857-907d-48301476819f\",\"type\":\"Selection\"},{\"attributes\":{},\"id\":\"732d5589-574e-43eb-bf97-4952f978ab13\",\"type\":\"SaveTool\"},{\"attributes\":{},\"id\":\"7633ee94-4b5d-42bf-8aae-19fb72cd18d5\",\"type\":\"UnionRenderers\"},{\"attributes\":{},\"id\":\"e4b04279-342c-48b0-afed-3a3733ef89b4\",\"type\":\"HelpTool\"},{\"attributes\":{},\"id\":\"adcc7d04-792d-4f1b-88ea-23d5f2f1850b\",\"type\":\"Selection\"},{\"attributes\":{},\"id\":\"81aebfc9-fbb0-4850-b91e-25eea11e36d6\",\"type\":\"PanTool\"},{\"attributes\":{\"active_drag\":\"auto\",\"active_inspect\":\"auto\",\"active_scroll\":\"auto\",\"active_tap\":\"auto\",\"tools\":[{\"id\":\"42ef15f3-e312-450d-a687-2bd1f1d5c087\",\"type\":\"PanTool\"},{\"id\":\"56607b41-bb6d-4e38-a882-32bffff24a28\",\"type\":\"WheelZoomTool\"},{\"id\":\"bff086c6-5252-49f0-b373-da0b017a219b\",\"type\":\"BoxZoomTool\"},{\"id\":\"732d5589-574e-43eb-bf97-4952f978ab13\",\"type\":\"SaveTool\"},{\"id\":\"cf62079e-eebb-4d84-b059-24b57289ca2c\",\"type\":\"ResetTool\"},{\"id\":\"e4b04279-342c-48b0-afed-3a3733ef89b4\",\"type\":\"HelpTool\"}]},\"id\":\"f6ed5ef9-a2cc-484a-bbc1-eda24a304b69\",\"type\":\"Toolbar\"},{\"attributes\":{\"label\":{\"value\":\"CRD\"},\"renderers\":[{\"id\":\"57593c5d-ab92-4032-a3bc-df4f576933a7\",\"type\":\"GlyphRenderer\"},{\"id\":\"43169787-5558-4a1f-b626-ed931ddcbf83\",\"type\":\"GlyphRenderer\"}]},\"id\":\"499a550f-a5e4-407c-8c31-22439eac7f32\",\"type\":\"LegendItem\"},{\"attributes\":{\"above\":[{\"id\":\"48be8dca-f3ab-4d43-a3e3-01704c817399\",\"type\":\"Legend\"}],\"below\":[{\"id\":\"15521709-3db6-429b-bdb8-9bf55a0efb50\",\"type\":\"LinearAxis\"}],\"left\":[{\"id\":\"52ca78a0-b5fa-419d-9097-a9ea0dcd4142\",\"type\":\"LinearAxis\"}],\"plot_width\":300,\"renderers\":[{\"id\":\"15521709-3db6-429b-bdb8-9bf55a0efb50\",\"type\":\"LinearAxis\"},{\"id\":\"31bb5c91-c9c0-4835-96ec-e8b165edc1d6\",\"type\":\"Grid\"},{\"id\":\"52ca78a0-b5fa-419d-9097-a9ea0dcd4142\",\"type\":\"LinearAxis\"},{\"id\":\"c4470b87-873f-4634-9089-ef4f3636f069\",\"type\":\"Grid\"},{\"id\":\"50f26f6b-afde-46d0-a855-5923e3c62182\",\"type\":\"BoxAnnotation\"},{\"id\":\"b1bc5057-edf5-4024-b968-1eac6a080b7c\",\"type\":\"GlyphRenderer\"},{\"id\":\"1c91bf54-b024-4dd8-b371-5d71e1bfdf35\",\"type\":\"GlyphRenderer\"},{\"id\":\"0df2947a-1636-4da3-8733-680676ef2d8e\",\"type\":\"GlyphRenderer\"},{\"id\":\"48be8dca-f3ab-4d43-a3e3-01704c817399\",\"type\":\"Legend\"}],\"title\":{\"id\":\"0e6cc85d-9ef5-4e58-88bf-4ba4ad392885\",\"type\":\"Title\"},\"toolbar\":{\"id\":\"1f0dc58f-3201-4ef0-bb98-e5cf10747954\",\"type\":\"Toolbar\"},\"toolbar_location\":null,\"x_range\":{\"id\":\"ece82eab-2cff-4cfe-a48c-7eb2d4b55e4c\",\"type\":\"Range1d\"},\"x_scale\":{\"id\":\"78a658ba-fa8d-4c4b-9043-aa574b0d26ae\",\"type\":\"LinearScale\"},\"y_range\":{\"id\":\"83a661b6-079c-46c2-b4a3-fce83d1f15bb\",\"type\":\"Range1d\"},\"y_scale\":{\"id\":\"4a825e48-66a1-46d7-a3c5-95286f107349\",\"type\":\"LinearScale\"}},\"id\":\"8f89f031-421f-4abb-b1fc-86fc6d089585\",\"subtype\":\"Figure\",\"type\":\"Plot\"},{\"attributes\":{\"line_alpha\":0.6,\"line_color\":\"#e41a1c\",\"line_dash\":[6],\"line_width\":5,\"x\":{\"field\":\"x\"},\"y\":{\"field\":\"y\"}},\"id\":\"6a2b1033-bf00-4de4-aa5c-8f66d7f9a154\",\"type\":\"Line\"},{\"attributes\":{},\"id\":\"e0ad3207-d10f-4879-a170-e83d13a29a08\",\"type\":\"UnionRenderers\"},{\"attributes\":{\"bottom_units\":\"screen\",\"fill_alpha\":{\"value\":0.5},\"fill_color\":{\"value\":\"lightgrey\"},\"left_units\":\"screen\",\"level\":\"overlay\",\"line_alpha\":{\"value\":1.0},\"line_color\":{\"value\":\"black\"},\"line_dash\":[4,4],\"line_width\":{\"value\":2},\"plot\":null,\"render_mode\":\"css\",\"right_units\":\"screen\",\"top_units\":\"screen\"},\"id\":\"50f26f6b-afde-46d0-a855-5923e3c62182\",\"type\":\"BoxAnnotation\"},{\"attributes\":{\"line_alpha\":0.6,\"line_color\":\"#e41a1c\",\"line_dash\":[6],\"line_width\":5,\"x\":{\"field\":\"x\"},\"y\":{\"field\":\"y\"}},\"id\":\"d06c59ba-e65c-4d19-8cf8-4dc9362256f3\",\"type\":\"Line\"},{\"attributes\":{\"fill_alpha\":{\"value\":0.7},\"fill_color\":{\"value\":\"#984ea3\"},\"line_alpha\":{\"value\":0.7},\"line_color\":{\"value\":\"#984ea3\"},\"x\":{\"field\":\"x\"},\"y\":{\"field\":\"y\"}},\"id\":\"1db1aa44-67b9-44ab-9ce9-cece5c9e3b57\",\"type\":\"Circle\"},{\"attributes\":{\"source\":{\"id\":\"7d989d24-0b4b-403e-8d57-0d1af1b7f1ee\",\"type\":\"ColumnDataSource\"}},\"id\":\"45ca153a-cc7c-4097-b609-cdbf2921d117\",\"type\":\"CDSView\"},{\"attributes\":{\"fill_alpha\":{\"value\":0.1},\"fill_color\":{\"value\":\"#1f77b4\"},\"line_alpha\":{\"value\":0.1},\"line_color\":{\"value\":\"#1f77b4\"},\"x\":{\"field\":\"x\"},\"y\":{\"field\":\"y\"}},\"id\":\"86d2f794-255c-4f8d-ad4b-648924e7ed1d\",\"type\":\"Circle\"},{\"attributes\":{\"overlay\":{\"id\":\"f8eea6e6-87c2-488b-ac4c-d4892046fb0b\",\"type\":\"BoxAnnotation\"}},\"id\":\"b54a1de5-e5a1-42c0-a312-784037a7be10\",\"type\":\"BoxZoomTool\"},{\"attributes\":{\"axis_label\":\"cooling rate [K/day]\",\"formatter\":{\"id\":\"c8a18956-7951-491d-b2f1-6e8a2a9214b4\",\"type\":\"BasicTickFormatter\"},\"plot\":{\"id\":\"ad47492e-a4a5-4abe-a666-18e0c5818062\",\"subtype\":\"Figure\",\"type\":\"Plot\"},\"ticker\":{\"id\":\"c9eee284-d6c4-4d5a-b194-e53c23ac3011\",\"type\":\"BasicTicker\"}},\"id\":\"ca068ccc-1b92-465b-8c5f-8a4d34e34ac2\",\"type\":\"LinearAxis\"},{\"attributes\":{\"source\":{\"id\":\"55e72781-acf2-4542-a6cd-6e8db3101ff1\",\"type\":\"ColumnDataSource\"}},\"id\":\"32b5c085-06c8-4dc3-9d08-d70e791221d2\",\"type\":\"CDSView\"},{\"attributes\":{},\"id\":\"7b86d542-ade9-4028-bee4-75107c1c7c29\",\"type\":\"UnionRenderers\"},{\"attributes\":{\"line_color\":\"#4daf4a\",\"line_width\":1.5,\"x\":{\"field\":\"x\"},\"y\":{\"field\":\"y\"}},\"id\":\"0a0ade21-902b-4382-a28f-60e1d578ab71\",\"type\":\"Line\"},{\"attributes\":{\"source\":{\"id\":\"a550207f-8de4-44d6-a323-b0ca84c60ac1\",\"type\":\"ColumnDataSource\"}},\"id\":\"43842b80-fa38-48c4-aa8b-0c664c0b2428\",\"type\":\"CDSView\"},{\"attributes\":{\"dimension\":1,\"plot\":{\"id\":\"ad47492e-a4a5-4abe-a666-18e0c5818062\",\"subtype\":\"Figure\",\"type\":\"Plot\"},\"ticker\":{\"id\":\"a547aaf3-c70e-46f7-91dc-b9ddd44de09e\",\"type\":\"LogTicker\"}},\"id\":\"00e33acb-aafd-4c2d-a163-f8fc2e58a21d\",\"type\":\"Grid\"},{\"attributes\":{},\"id\":\"f236b764-331f-4413-a56d-a69649fc704b\",\"type\":\"BasicTickFormatter\"},{\"attributes\":{\"bottom_units\":\"screen\",\"fill_alpha\":{\"value\":0.5},\"fill_color\":{\"value\":\"lightgrey\"},\"left_units\":\"screen\",\"level\":\"overlay\",\"line_alpha\":{\"value\":1.0},\"line_color\":{\"value\":\"black\"},\"line_dash\":[4,4],\"line_width\":{\"value\":2},\"plot\":null,\"render_mode\":\"css\",\"right_units\":\"screen\",\"top_units\":\"screen\"},\"id\":\"f8eea6e6-87c2-488b-ac4c-d4892046fb0b\",\"type\":\"BoxAnnotation\"},{\"attributes\":{\"dimension\":1,\"plot\":{\"id\":\"8f89f031-421f-4abb-b1fc-86fc6d089585\",\"subtype\":\"Figure\",\"type\":\"Plot\"},\"ticker\":{\"id\":\"45e93840-abe3-40b4-81b2-35fcb53e8b7e\",\"type\":\"BasicTicker\"}},\"id\":\"c4470b87-873f-4634-9089-ef4f3636f069\",\"type\":\"Grid\"},{\"attributes\":{\"plot\":null,\"text\":\"\"},\"id\":\"0e6cc85d-9ef5-4e58-88bf-4ba4ad392885\",\"type\":\"Title\"},{\"attributes\":{},\"id\":\"7c3cb715-cffe-4aed-af62-0ca9a5cb6d9e\",\"type\":\"WheelZoomTool\"},{\"attributes\":{},\"id\":\"78a658ba-fa8d-4c4b-9043-aa574b0d26ae\",\"type\":\"LinearScale\"},{\"attributes\":{\"children\":[{\"id\":\"cacbad3e-34e0-48fb-baa6-8d46004b4685\",\"type\":\"Row\"}]},\"id\":\"4ac8a0ea-2af0-470a-9b88-8e6d54e58808\",\"type\":\"Column\"},{\"attributes\":{},\"id\":\"adbca9f8-ffe8-42da-8b57-a3a3d14636ab\",\"type\":\"UnionRenderers\"},{\"attributes\":{\"line_alpha\":0.1,\"line_color\":\"#1f77b4\",\"line_dash\":[6],\"line_width\":5,\"x\":{\"field\":\"x\"},\"y\":{\"field\":\"y\"}},\"id\":\"d426e32c-0328-4222-a998-e0a17a317d99\",\"type\":\"Line\"},{\"attributes\":{\"callback\":null,\"end\":1.7272173897311167,\"start\":-0.6417621628427574},\"id\":\"cf486082-933d-4a7a-a326-25091e42c11f\",\"type\":\"Range1d\"},{\"attributes\":{\"overlay\":{\"id\":\"5e149972-6fe3-41f9-853e-9371596bac11\",\"type\":\"BoxAnnotation\"}},\"id\":\"bff086c6-5252-49f0-b373-da0b017a219b\",\"type\":\"BoxZoomTool\"},{\"attributes\":{\"items\":[{\"id\":\"c10ee2bf-0b4d-470a-84cd-32682ed2b7a7\",\"type\":\"LegendItem\"},{\"id\":\"f028633e-ff9e-4429-8fb5-b0767f9e49e4\",\"type\":\"LegendItem\"}],\"label_text_font_size\":{\"value\":\"8pt\"},\"location\":\"top_center\",\"orientation\":\"horizontal\",\"plot\":{\"id\":\"8f89f031-421f-4abb-b1fc-86fc6d089585\",\"subtype\":\"Figure\",\"type\":\"Plot\"}},\"id\":\"48be8dca-f3ab-4d43-a3e3-01704c817399\",\"type\":\"Legend\"},{\"attributes\":{},\"id\":\"3e3289dc-1ea2-4db4-aa79-a67ff46c1430\",\"type\":\"LogScale\"},{\"attributes\":{\"bottom_units\":\"screen\",\"fill_alpha\":{\"value\":0.5},\"fill_color\":{\"value\":\"lightgrey\"},\"left_units\":\"screen\",\"level\":\"overlay\",\"line_alpha\":{\"value\":1.0},\"line_color\":{\"value\":\"black\"},\"line_dash\":[4,4],\"line_width\":{\"value\":2},\"plot\":null,\"render_mode\":\"css\",\"right_units\":\"screen\",\"top_units\":\"screen\"},\"id\":\"5e149972-6fe3-41f9-853e-9371596bac11\",\"type\":\"BoxAnnotation\"}],\"root_ids\":[\"b41fb490-e659-4cd7-9d7a-e696099fd5b0\"]},\"title\":\"Bokeh Application\",\"version\":\"0.12.16\"}};\n",
       "  var render_items = [{\"docid\":\"78518470-db91-4002-9b0a-ad0c1b6b5ced\",\"elementid\":\"079d6b19-3717-46af-94e8-fecd32099c1f\",\"modelid\":\"b41fb490-e659-4cd7-9d7a-e696099fd5b0\"}];\n",
       "  root.Bokeh.embed.embed_items_notebook(docs_json, render_items);\n",
       "\n",
       "  }\n",
       "  if (root.Bokeh !== undefined) {\n",
       "    embed_document(root);\n",
       "  } else {\n",
       "    var attempts = 0;\n",
       "    var timer = setInterval(function(root) {\n",
       "      if (root.Bokeh !== undefined) {\n",
       "        embed_document(root);\n",
       "        clearInterval(timer);\n",
       "      }\n",
       "      attempts++;\n",
       "      if (attempts > 100) {\n",
       "        console.log(\"Bokeh: ERROR: Unable to run BokehJS code because BokehJS library is missing\")\n",
       "        clearInterval(timer);\n",
       "      }\n",
       "    }, 10, root)\n",
       "  }\n",
       "})(window);"
      ],
      "application/vnd.bokehjs_exec.v0+json": ""
     },
     "metadata": {
      "application/vnd.bokehjs_exec.v0+json": {
       "id": "b41fb490-e659-4cd7-9d7a-e696099fd5b0"
      }
     },
     "output_type": "display_data"
    },
    {
     "data": {
      "text/markdown": [
       "*FIGURE.* Cooling rates & difference."
      ],
      "text/plain": [
       "<IPython.core.display.Markdown object>"
      ]
     },
     "metadata": {},
     "output_type": "display_data"
    },
    {
     "data": {
      "text/html": [
       "<a id=\"Fluxes._trp.\"></a>"
      ],
      "text/plain": [
       "<IPython.core.display.HTML object>"
      ]
     },
     "metadata": {},
     "output_type": "display_data"
    },
    {
     "data": {
      "text/markdown": [
       "# Fluxes. trp."
      ],
      "text/plain": [
       "<IPython.core.display.Markdown object>"
      ]
     },
     "metadata": {},
     "output_type": "display_data"
    },
    {
     "data": {
      "text/html": [
       "\n",
       "<div class=\"bk-root\">\n",
       "    <div class=\"bk-plotdiv\" id=\"d6414ea6-3b95-4aa9-981b-c617922d4469\"></div>\n",
       "</div>"
      ]
     },
     "metadata": {},
     "output_type": "display_data"
    },
    {
     "data": {
      "application/javascript": [
       "(function(root) {\n",
       "  function embed_document(root) {\n",
       "    \n",
       "  var docs_json = {\"f400449d-53d0-42fc-95c7-ec2d1b48fd6b\":{\"roots\":{\"references\":[{\"attributes\":{\"callback\":null,\"data\":{\"band\":[\"7\"],\"flux\":{\"__ndarray__\":\"gIE9JlKazz8=\",\"dtype\":\"float64\",\"shape\":[1]}},\"selected\":{\"id\":\"480557bb-eee1-4268-a915-d70cd39614e4\",\"type\":\"Selection\"},\"selection_policy\":{\"id\":\"99ff10a9-5603-4ed6-a3e5-89ca53293a64\",\"type\":\"UnionRenderers\"}},\"id\":\"8a3d53b8-4cc6-466a-8291-c286e6409927\",\"type\":\"ColumnDataSource\"},{\"attributes\":{\"plot\":null,\"text\":\"SFC flux. CLIRAD - CRD.\"},\"id\":\"c70f3d9d-0569-4632-aea9-a88909c2e221\",\"type\":\"Title\"},{\"attributes\":{},\"id\":\"9b1e8c41-845b-4d61-9c4c-ef1df265ff53\",\"type\":\"Selection\"},{\"attributes\":{\"plot\":{\"id\":\"f25b1475-1b4e-46f2-bd3a-b2389ce2b5e4\",\"subtype\":\"Figure\",\"type\":\"Plot\"},\"ticker\":{\"id\":\"daa84f1d-527d-476a-8ddb-623c0d318395\",\"type\":\"CategoricalTicker\"}},\"id\":\"2ca59288-4fde-44c3-bcd9-e37614511912\",\"type\":\"Grid\"},{\"attributes\":{},\"id\":\"c29d2908-a03b-4ed1-8712-1f5efc6667a9\",\"type\":\"SaveTool\"},{\"attributes\":{},\"id\":\"2b3e9eb8-d091-4c47-8641-c77155397234\",\"type\":\"CategoricalScale\"},{\"attributes\":{},\"id\":\"a3f33c59-704d-42cd-a0d2-34b7ef20a423\",\"type\":\"CategoricalTickFormatter\"},{\"attributes\":{\"axis_label\":\"flux (W m-2)\",\"formatter\":{\"id\":\"ad4347b8-5b9b-44c1-9da8-fe25b5e28db6\",\"type\":\"BasicTickFormatter\"},\"plot\":{\"id\":\"8f5b27c3-c56c-4842-b411-ada34c0d0bdc\",\"subtype\":\"Figure\",\"type\":\"Plot\"},\"ticker\":{\"id\":\"432c9eee-7cfe-4797-8969-8ba6d5e98e5f\",\"type\":\"BasicTicker\"}},\"id\":\"cee5bb36-de92-4208-b6fa-38f0cfab04c5\",\"type\":\"LinearAxis\"},{\"attributes\":{},\"id\":\"41689fc0-f21d-49c3-b40d-45ba27aeb8b1\",\"type\":\"SaveTool\"},{\"attributes\":{},\"id\":\"1c2d7b9c-f4ec-425d-b9d8-48719bf1a5cd\",\"type\":\"WheelZoomTool\"},{\"attributes\":{},\"id\":\"a8d2c3ef-7113-4cba-957a-cd6a8b6fd8ae\",\"type\":\"CategoricalTicker\"},{\"attributes\":{\"fill_alpha\":{\"value\":0.1},\"fill_color\":{\"value\":\"#1f77b4\"},\"line_alpha\":{\"value\":0.1},\"line_color\":{\"value\":\"#1f77b4\"},\"top\":{\"field\":\"flux\"},\"width\":{\"value\":0.9},\"x\":{\"field\":\"band\"}},\"id\":\"3a34a534-5066-4254-adc5-3312833a490f\",\"type\":\"VBar\"},{\"attributes\":{},\"id\":\"480557bb-eee1-4268-a915-d70cd39614e4\",\"type\":\"Selection\"},{\"attributes\":{\"overlay\":{\"id\":\"2aadbfc6-37d5-4e18-bd76-0688818638b4\",\"type\":\"BoxAnnotation\"}},\"id\":\"0cbfc7c3-2389-4efa-9d22-234adfc8e04d\",\"type\":\"BoxZoomTool\"},{\"attributes\":{},\"id\":\"1bc2fc3d-7816-4143-b252-fc4a2ece80dc\",\"type\":\"HelpTool\"},{\"attributes\":{\"bottom_units\":\"screen\",\"fill_alpha\":{\"value\":0.5},\"fill_color\":{\"value\":\"lightgrey\"},\"left_units\":\"screen\",\"level\":\"overlay\",\"line_alpha\":{\"value\":1.0},\"line_color\":{\"value\":\"black\"},\"line_dash\":[4,4],\"line_width\":{\"value\":2},\"plot\":null,\"render_mode\":\"css\",\"right_units\":\"screen\",\"top_units\":\"screen\"},\"id\":\"ecb815fc-6eb4-4cd5-a2b7-6360a32cd3bc\",\"type\":\"BoxAnnotation\"},{\"attributes\":{\"source\":{\"id\":\"9cf46c08-0e99-4862-bca1-1a48f9263c60\",\"type\":\"ColumnDataSource\"}},\"id\":\"95975d49-10c6-4345-b280-38acc3af724a\",\"type\":\"CDSView\"},{\"attributes\":{\"tools\":[{\"id\":\"81348b4d-de4f-4349-9a67-30403ee61d59\",\"type\":\"PanTool\"},{\"id\":\"73aa310a-b25d-4f31-a536-54427f34e58a\",\"type\":\"WheelZoomTool\"},{\"id\":\"0cbfc7c3-2389-4efa-9d22-234adfc8e04d\",\"type\":\"BoxZoomTool\"},{\"id\":\"41689fc0-f21d-49c3-b40d-45ba27aeb8b1\",\"type\":\"SaveTool\"},{\"id\":\"3fde629b-734c-428c-86a0-fb9e94c914ae\",\"type\":\"ResetTool\"},{\"id\":\"1bc2fc3d-7816-4143-b252-fc4a2ece80dc\",\"type\":\"HelpTool\"},{\"id\":\"a65d0afe-7560-4537-a58a-d47611700c85\",\"type\":\"PanTool\"},{\"id\":\"1c2d7b9c-f4ec-425d-b9d8-48719bf1a5cd\",\"type\":\"WheelZoomTool\"},{\"id\":\"ce835aa1-fa85-43c2-b05b-4fcf146d1304\",\"type\":\"BoxZoomTool\"},{\"id\":\"c29d2908-a03b-4ed1-8712-1f5efc6667a9\",\"type\":\"SaveTool\"},{\"id\":\"0e5d7cab-a659-43cd-a336-b69e6c019f4b\",\"type\":\"ResetTool\"},{\"id\":\"bc5dd655-06b0-40a0-b79d-4f7eca4ed405\",\"type\":\"HelpTool\"},{\"id\":\"654c0d50-4cc6-48d9-b1e6-cfa23aefe705\",\"type\":\"PanTool\"},{\"id\":\"68c56779-5228-44b5-a420-da75b677e17b\",\"type\":\"WheelZoomTool\"},{\"id\":\"022f3ce7-9341-459b-a41a-023d14fc7fb6\",\"type\":\"BoxZoomTool\"},{\"id\":\"f789cf3a-8266-48a8-a235-4da609deee58\",\"type\":\"SaveTool\"},{\"id\":\"8a6279b4-9651-4184-b38c-5dc5f394a04c\",\"type\":\"ResetTool\"},{\"id\":\"7f21ef69-0fbd-4060-ad38-aa4f19ce6f7e\",\"type\":\"HelpTool\"}]},\"id\":\"fed8a62a-6302-46df-a9a9-ad4dfbd6863d\",\"type\":\"ProxyToolbar\"},{\"attributes\":{\"callback\":null,\"factors\":[\"7\"]},\"id\":\"4dd6b065-8354-46a8-af8e-175d59d754aa\",\"type\":\"FactorRange\"},{\"attributes\":{},\"id\":\"4bbb3f00-aa60-4def-bb0e-65aa4ca4c894\",\"type\":\"CategoricalTickFormatter\"},{\"attributes\":{\"axis_label\":\"flux (W m-2)\",\"formatter\":{\"id\":\"4104ae82-ff82-4948-b9fe-43f9a70508ff\",\"type\":\"BasicTickFormatter\"},\"plot\":{\"id\":\"f25b1475-1b4e-46f2-bd3a-b2389ce2b5e4\",\"subtype\":\"Figure\",\"type\":\"Plot\"},\"ticker\":{\"id\":\"9496e24a-8ebd-41a6-9572-592d79d8cd90\",\"type\":\"BasicTicker\"}},\"id\":\"f5729821-f723-410c-a201-e8bd77b3ae60\",\"type\":\"LinearAxis\"},{\"attributes\":{\"dimension\":1,\"plot\":{\"id\":\"8f5b27c3-c56c-4842-b411-ada34c0d0bdc\",\"subtype\":\"Figure\",\"type\":\"Plot\"},\"ticker\":{\"id\":\"432c9eee-7cfe-4797-8969-8ba6d5e98e5f\",\"type\":\"BasicTicker\"}},\"id\":\"08a2d9ed-b9d1-4bcf-a321-9cb528471cb2\",\"type\":\"Grid\"},{\"attributes\":{\"callback\":null,\"data\":{\"band\":[\"7\"],\"flux\":{\"__ndarray__\":\"AFwf1hu12D8=\",\"dtype\":\"float64\",\"shape\":[1]}},\"selected\":{\"id\":\"bed1f258-1864-45de-b491-86c953882094\",\"type\":\"Selection\"},\"selection_policy\":{\"id\":\"e0ce0306-d22a-4d7c-8508-e22d4bdb3b22\",\"type\":\"UnionRenderers\"}},\"id\":\"df17b6f9-f95d-46a0-be81-2841da35bf82\",\"type\":\"ColumnDataSource\"},{\"attributes\":{},\"id\":\"3fde629b-734c-428c-86a0-fb9e94c914ae\",\"type\":\"ResetTool\"},{\"attributes\":{\"data_source\":{\"id\":\"df17b6f9-f95d-46a0-be81-2841da35bf82\",\"type\":\"ColumnDataSource\"},\"glyph\":{\"id\":\"a5037e43-29b3-40b8-866f-de9f07658925\",\"type\":\"VBar\"},\"hover_glyph\":null,\"muted_glyph\":null,\"nonselection_glyph\":{\"id\":\"3a34a534-5066-4254-adc5-3312833a490f\",\"type\":\"VBar\"},\"selection_glyph\":null,\"view\":{\"id\":\"130b1f7a-57bb-4056-9adc-d01572dec992\",\"type\":\"CDSView\"}},\"id\":\"56337388-45cf-434e-9bca-7cfb456d385b\",\"type\":\"GlyphRenderer\"},{\"attributes\":{\"fill_color\":{\"value\":\"#1f77b4\"},\"line_color\":{\"value\":\"#1f77b4\"},\"top\":{\"field\":\"flux\"},\"width\":{\"value\":0.9},\"x\":{\"field\":\"band\"}},\"id\":\"a5037e43-29b3-40b8-866f-de9f07658925\",\"type\":\"VBar\"},{\"attributes\":{\"source\":{\"id\":\"8a3d53b8-4cc6-466a-8291-c286e6409927\",\"type\":\"ColumnDataSource\"}},\"id\":\"13f91aad-86c2-418b-967a-db78b14d2a89\",\"type\":\"CDSView\"},{\"attributes\":{\"callback\":null,\"data\":{\"band\":[\"7\"],\"flux\":{\"__ndarray__\":\"IFp7RPHPwb8=\",\"dtype\":\"float64\",\"shape\":[1]}},\"selected\":{\"id\":\"9b1e8c41-845b-4d61-9c4c-ef1df265ff53\",\"type\":\"Selection\"},\"selection_policy\":{\"id\":\"b32d51ec-44de-40dc-9625-9ca5f29a428c\",\"type\":\"UnionRenderers\"}},\"id\":\"9cf46c08-0e99-4862-bca1-1a48f9263c60\",\"type\":\"ColumnDataSource\"},{\"attributes\":{},\"id\":\"432c9eee-7cfe-4797-8969-8ba6d5e98e5f\",\"type\":\"BasicTicker\"},{\"attributes\":{},\"id\":\"0e5d7cab-a659-43cd-a336-b69e6c019f4b\",\"type\":\"ResetTool\"},{\"attributes\":{\"axis_label\":\"spectral band\",\"formatter\":{\"id\":\"a3f33c59-704d-42cd-a0d2-34b7ef20a423\",\"type\":\"CategoricalTickFormatter\"},\"plot\":{\"id\":\"8f5b27c3-c56c-4842-b411-ada34c0d0bdc\",\"subtype\":\"Figure\",\"type\":\"Plot\"},\"ticker\":{\"id\":\"a8d2c3ef-7113-4cba-957a-cd6a8b6fd8ae\",\"type\":\"CategoricalTicker\"}},\"id\":\"c31cddba-330b-44d2-88ff-84d278de4bfb\",\"type\":\"CategoricalAxis\"},{\"attributes\":{\"plot\":null,\"text\":\"Atmosphere heating. CLIRAD - CRD.\"},\"id\":\"3e36e509-3ce1-4f89-951d-4660e46a45c2\",\"type\":\"Title\"},{\"attributes\":{},\"id\":\"c17727c6-dea2-43dd-96fa-d79e332cce3b\",\"type\":\"CategoricalTicker\"},{\"attributes\":{},\"id\":\"daa84f1d-527d-476a-8ddb-623c0d318395\",\"type\":\"CategoricalTicker\"},{\"attributes\":{\"fill_color\":{\"value\":\"#1f77b4\"},\"line_color\":{\"value\":\"#1f77b4\"},\"top\":{\"field\":\"flux\"},\"width\":{\"value\":0.9},\"x\":{\"field\":\"band\"}},\"id\":\"f3ccf1c3-236a-450c-bc05-e06f9d575a91\",\"type\":\"VBar\"},{\"attributes\":{},\"id\":\"b7a8f663-926b-4314-8834-8bef2ee9ab91\",\"type\":\"LinearScale\"},{\"attributes\":{\"dimension\":1,\"plot\":{\"id\":\"f25b1475-1b4e-46f2-bd3a-b2389ce2b5e4\",\"subtype\":\"Figure\",\"type\":\"Plot\"},\"ticker\":{\"id\":\"9496e24a-8ebd-41a6-9572-592d79d8cd90\",\"type\":\"BasicTicker\"}},\"id\":\"489733f2-a72d-4b88-8bd6-22b4047a9e84\",\"type\":\"Grid\"},{\"attributes\":{},\"id\":\"73aa310a-b25d-4f31-a536-54427f34e58a\",\"type\":\"WheelZoomTool\"},{\"attributes\":{\"plot\":{\"id\":\"8f5b27c3-c56c-4842-b411-ada34c0d0bdc\",\"subtype\":\"Figure\",\"type\":\"Plot\"},\"ticker\":{\"id\":\"a8d2c3ef-7113-4cba-957a-cd6a8b6fd8ae\",\"type\":\"CategoricalTicker\"}},\"id\":\"19bef662-3c34-4e82-a866-a268b2ab254c\",\"type\":\"Grid\"},{\"attributes\":{\"fill_alpha\":{\"value\":0.1},\"fill_color\":{\"value\":\"#1f77b4\"},\"line_alpha\":{\"value\":0.1},\"line_color\":{\"value\":\"#1f77b4\"},\"top\":{\"field\":\"flux\"},\"width\":{\"value\":0.9},\"x\":{\"field\":\"band\"}},\"id\":\"bd6fb358-5e66-43b7-aed4-1d041984833d\",\"type\":\"VBar\"},{\"attributes\":{\"plot\":{\"id\":\"d61fba23-5b45-4e52-abed-3f8f7345a92c\",\"subtype\":\"Figure\",\"type\":\"Plot\"},\"ticker\":{\"id\":\"c17727c6-dea2-43dd-96fa-d79e332cce3b\",\"type\":\"CategoricalTicker\"}},\"id\":\"764be336-378d-4d4f-9687-20ff2208bd6d\",\"type\":\"Grid\"},{\"attributes\":{},\"id\":\"e0ce0306-d22a-4d7c-8508-e22d4bdb3b22\",\"type\":\"UnionRenderers\"},{\"attributes\":{},\"id\":\"29d3778c-3ac6-4d88-8991-176f93643b17\",\"type\":\"LinearScale\"},{\"attributes\":{},\"id\":\"68c56779-5228-44b5-a420-da75b677e17b\",\"type\":\"WheelZoomTool\"},{\"attributes\":{},\"id\":\"a65d0afe-7560-4537-a58a-d47611700c85\",\"type\":\"PanTool\"},{\"attributes\":{\"below\":[{\"id\":\"4326644c-77a8-4438-b246-9fd2b5ba4bf4\",\"type\":\"CategoricalAxis\"}],\"left\":[{\"id\":\"bff9a21e-a4e8-4f9f-a18e-3e822baef644\",\"type\":\"LinearAxis\"}],\"plot_height\":300,\"plot_width\":300,\"renderers\":[{\"id\":\"4326644c-77a8-4438-b246-9fd2b5ba4bf4\",\"type\":\"CategoricalAxis\"},{\"id\":\"764be336-378d-4d4f-9687-20ff2208bd6d\",\"type\":\"Grid\"},{\"id\":\"bff9a21e-a4e8-4f9f-a18e-3e822baef644\",\"type\":\"LinearAxis\"},{\"id\":\"9ebea2ed-4717-481e-8dc9-4fdd0865d635\",\"type\":\"Grid\"},{\"id\":\"2aadbfc6-37d5-4e18-bd76-0688818638b4\",\"type\":\"BoxAnnotation\"},{\"id\":\"98e00e0c-a31e-4bef-9d17-788169c353fe\",\"type\":\"GlyphRenderer\"}],\"title\":{\"id\":\"6be1aae2-f267-4a9b-ad95-bea5fb03c2fa\",\"type\":\"Title\"},\"toolbar\":{\"id\":\"b08ac6b4-dafd-4117-a3be-24c23b6642ce\",\"type\":\"Toolbar\"},\"toolbar_location\":null,\"x_range\":{\"id\":\"40f3ac35-11ca-49ac-ad28-a12356e1ea3b\",\"type\":\"FactorRange\"},\"x_scale\":{\"id\":\"4339a808-2ee3-459f-b1c9-9398c03a43fb\",\"type\":\"CategoricalScale\"},\"y_range\":{\"id\":\"755a3693-3974-4f29-b70e-258df4caa633\",\"type\":\"DataRange1d\"},\"y_scale\":{\"id\":\"d60ff4a2-a60a-4f55-a452-65902eba9315\",\"type\":\"LinearScale\"}},\"id\":\"d61fba23-5b45-4e52-abed-3f8f7345a92c\",\"subtype\":\"Figure\",\"type\":\"Plot\"},{\"attributes\":{\"callback\":null},\"id\":\"d012a42d-80a1-4447-b796-3c9ea009942a\",\"type\":\"DataRange1d\"},{\"attributes\":{},\"id\":\"459ce147-ebf2-493d-b6be-0da529e26a4c\",\"type\":\"BasicTickFormatter\"},{\"attributes\":{\"active_drag\":\"auto\",\"active_inspect\":\"auto\",\"active_scroll\":\"auto\",\"active_tap\":\"auto\",\"tools\":[{\"id\":\"654c0d50-4cc6-48d9-b1e6-cfa23aefe705\",\"type\":\"PanTool\"},{\"id\":\"68c56779-5228-44b5-a420-da75b677e17b\",\"type\":\"WheelZoomTool\"},{\"id\":\"022f3ce7-9341-459b-a41a-023d14fc7fb6\",\"type\":\"BoxZoomTool\"},{\"id\":\"f789cf3a-8266-48a8-a235-4da609deee58\",\"type\":\"SaveTool\"},{\"id\":\"8a6279b4-9651-4184-b38c-5dc5f394a04c\",\"type\":\"ResetTool\"},{\"id\":\"7f21ef69-0fbd-4060-ad38-aa4f19ce6f7e\",\"type\":\"HelpTool\"}]},\"id\":\"c029c09a-055c-4619-8913-4e18b12d045e\",\"type\":\"Toolbar\"},{\"attributes\":{\"overlay\":{\"id\":\"c175059a-8fac-4525-b84e-31b098e5117a\",\"type\":\"BoxAnnotation\"}},\"id\":\"ce835aa1-fa85-43c2-b05b-4fcf146d1304\",\"type\":\"BoxZoomTool\"},{\"attributes\":{\"active_drag\":\"auto\",\"active_inspect\":\"auto\",\"active_scroll\":\"auto\",\"active_tap\":\"auto\",\"tools\":[{\"id\":\"a65d0afe-7560-4537-a58a-d47611700c85\",\"type\":\"PanTool\"},{\"id\":\"1c2d7b9c-f4ec-425d-b9d8-48719bf1a5cd\",\"type\":\"WheelZoomTool\"},{\"id\":\"ce835aa1-fa85-43c2-b05b-4fcf146d1304\",\"type\":\"BoxZoomTool\"},{\"id\":\"c29d2908-a03b-4ed1-8712-1f5efc6667a9\",\"type\":\"SaveTool\"},{\"id\":\"0e5d7cab-a659-43cd-a336-b69e6c019f4b\",\"type\":\"ResetTool\"},{\"id\":\"bc5dd655-06b0-40a0-b79d-4f7eca4ed405\",\"type\":\"HelpTool\"}]},\"id\":\"642396e7-d0b9-48e3-8c77-508b5a293649\",\"type\":\"Toolbar\"},{\"attributes\":{},\"id\":\"d67e268b-ccfa-43d1-bd08-04c9b66817e7\",\"type\":\"CategoricalScale\"},{\"attributes\":{},\"id\":\"7f21ef69-0fbd-4060-ad38-aa4f19ce6f7e\",\"type\":\"HelpTool\"},{\"attributes\":{\"callback\":null,\"factors\":[\"7\"]},\"id\":\"a706f0b7-840b-447f-ac8c-e08d6c8bde63\",\"type\":\"FactorRange\"},{\"attributes\":{\"below\":[{\"id\":\"ba86e332-9b2f-4102-b462-2d18ea3fb5cd\",\"type\":\"CategoricalAxis\"}],\"left\":[{\"id\":\"f5729821-f723-410c-a201-e8bd77b3ae60\",\"type\":\"LinearAxis\"}],\"plot_height\":300,\"plot_width\":300,\"renderers\":[{\"id\":\"ba86e332-9b2f-4102-b462-2d18ea3fb5cd\",\"type\":\"CategoricalAxis\"},{\"id\":\"2ca59288-4fde-44c3-bcd9-e37614511912\",\"type\":\"Grid\"},{\"id\":\"f5729821-f723-410c-a201-e8bd77b3ae60\",\"type\":\"LinearAxis\"},{\"id\":\"489733f2-a72d-4b88-8bd6-22b4047a9e84\",\"type\":\"Grid\"},{\"id\":\"c175059a-8fac-4525-b84e-31b098e5117a\",\"type\":\"BoxAnnotation\"},{\"id\":\"f5cd80dd-c39f-4ac5-9ea3-bc605a76ffd6\",\"type\":\"GlyphRenderer\"}],\"title\":{\"id\":\"c70f3d9d-0569-4632-aea9-a88909c2e221\",\"type\":\"Title\"},\"toolbar\":{\"id\":\"642396e7-d0b9-48e3-8c77-508b5a293649\",\"type\":\"Toolbar\"},\"toolbar_location\":null,\"x_range\":{\"id\":\"4dd6b065-8354-46a8-af8e-175d59d754aa\",\"type\":\"FactorRange\"},\"x_scale\":{\"id\":\"2b3e9eb8-d091-4c47-8641-c77155397234\",\"type\":\"CategoricalScale\"},\"y_range\":{\"id\":\"dba0ac06-1a0c-42a8-b778-4f7e5eb2e443\",\"type\":\"DataRange1d\"},\"y_scale\":{\"id\":\"29d3778c-3ac6-4d88-8991-176f93643b17\",\"type\":\"LinearScale\"}},\"id\":\"f25b1475-1b4e-46f2-bd3a-b2389ce2b5e4\",\"subtype\":\"Figure\",\"type\":\"Plot\"},{\"attributes\":{\"below\":[{\"id\":\"c31cddba-330b-44d2-88ff-84d278de4bfb\",\"type\":\"CategoricalAxis\"}],\"left\":[{\"id\":\"cee5bb36-de92-4208-b6fa-38f0cfab04c5\",\"type\":\"LinearAxis\"}],\"plot_height\":300,\"plot_width\":300,\"renderers\":[{\"id\":\"c31cddba-330b-44d2-88ff-84d278de4bfb\",\"type\":\"CategoricalAxis\"},{\"id\":\"19bef662-3c34-4e82-a866-a268b2ab254c\",\"type\":\"Grid\"},{\"id\":\"cee5bb36-de92-4208-b6fa-38f0cfab04c5\",\"type\":\"LinearAxis\"},{\"id\":\"08a2d9ed-b9d1-4bcf-a321-9cb528471cb2\",\"type\":\"Grid\"},{\"id\":\"ecb815fc-6eb4-4cd5-a2b7-6360a32cd3bc\",\"type\":\"BoxAnnotation\"},{\"id\":\"56337388-45cf-434e-9bca-7cfb456d385b\",\"type\":\"GlyphRenderer\"}],\"title\":{\"id\":\"3e36e509-3ce1-4f89-951d-4660e46a45c2\",\"type\":\"Title\"},\"toolbar\":{\"id\":\"c029c09a-055c-4619-8913-4e18b12d045e\",\"type\":\"Toolbar\"},\"toolbar_location\":null,\"x_range\":{\"id\":\"a706f0b7-840b-447f-ac8c-e08d6c8bde63\",\"type\":\"FactorRange\"},\"x_scale\":{\"id\":\"d67e268b-ccfa-43d1-bd08-04c9b66817e7\",\"type\":\"CategoricalScale\"},\"y_range\":{\"id\":\"d012a42d-80a1-4447-b796-3c9ea009942a\",\"type\":\"DataRange1d\"},\"y_scale\":{\"id\":\"b7a8f663-926b-4314-8834-8bef2ee9ab91\",\"type\":\"LinearScale\"}},\"id\":\"8f5b27c3-c56c-4842-b411-ada34c0d0bdc\",\"subtype\":\"Figure\",\"type\":\"Plot\"},{\"attributes\":{},\"id\":\"4339a808-2ee3-459f-b1c9-9398c03a43fb\",\"type\":\"CategoricalScale\"},{\"attributes\":{},\"id\":\"9ab5cc83-da52-44a2-8a22-58bb5d7992d6\",\"type\":\"CategoricalTickFormatter\"},{\"attributes\":{\"axis_label\":\"spectral band\",\"formatter\":{\"id\":\"9ab5cc83-da52-44a2-8a22-58bb5d7992d6\",\"type\":\"CategoricalTickFormatter\"},\"plot\":{\"id\":\"f25b1475-1b4e-46f2-bd3a-b2389ce2b5e4\",\"subtype\":\"Figure\",\"type\":\"Plot\"},\"ticker\":{\"id\":\"daa84f1d-527d-476a-8ddb-623c0d318395\",\"type\":\"CategoricalTicker\"}},\"id\":\"ba86e332-9b2f-4102-b462-2d18ea3fb5cd\",\"type\":\"CategoricalAxis\"},{\"attributes\":{},\"id\":\"654c0d50-4cc6-48d9-b1e6-cfa23aefe705\",\"type\":\"PanTool\"},{\"attributes\":{\"bottom_units\":\"screen\",\"fill_alpha\":{\"value\":0.5},\"fill_color\":{\"value\":\"lightgrey\"},\"left_units\":\"screen\",\"level\":\"overlay\",\"line_alpha\":{\"value\":1.0},\"line_color\":{\"value\":\"black\"},\"line_dash\":[4,4],\"line_width\":{\"value\":2},\"plot\":null,\"render_mode\":\"css\",\"right_units\":\"screen\",\"top_units\":\"screen\"},\"id\":\"c175059a-8fac-4525-b84e-31b098e5117a\",\"type\":\"BoxAnnotation\"},{\"attributes\":{},\"id\":\"bc5dd655-06b0-40a0-b79d-4f7eca4ed405\",\"type\":\"HelpTool\"},{\"attributes\":{\"axis_label\":\"spectral band\",\"formatter\":{\"id\":\"4bbb3f00-aa60-4def-bb0e-65aa4ca4c894\",\"type\":\"CategoricalTickFormatter\"},\"plot\":{\"id\":\"d61fba23-5b45-4e52-abed-3f8f7345a92c\",\"subtype\":\"Figure\",\"type\":\"Plot\"},\"ticker\":{\"id\":\"c17727c6-dea2-43dd-96fa-d79e332cce3b\",\"type\":\"CategoricalTicker\"}},\"id\":\"4326644c-77a8-4438-b246-9fd2b5ba4bf4\",\"type\":\"CategoricalAxis\"},{\"attributes\":{\"overlay\":{\"id\":\"ecb815fc-6eb4-4cd5-a2b7-6360a32cd3bc\",\"type\":\"BoxAnnotation\"}},\"id\":\"022f3ce7-9341-459b-a41a-023d14fc7fb6\",\"type\":\"BoxZoomTool\"},{\"attributes\":{\"axis_label\":\"flux (W m-2)\",\"formatter\":{\"id\":\"459ce147-ebf2-493d-b6be-0da529e26a4c\",\"type\":\"BasicTickFormatter\"},\"plot\":{\"id\":\"d61fba23-5b45-4e52-abed-3f8f7345a92c\",\"subtype\":\"Figure\",\"type\":\"Plot\"},\"ticker\":{\"id\":\"d3f35b6d-ff23-4d05-bbac-488c8fe27cd1\",\"type\":\"BasicTicker\"}},\"id\":\"bff9a21e-a4e8-4f9f-a18e-3e822baef644\",\"type\":\"LinearAxis\"},{\"attributes\":{},\"id\":\"8a6279b4-9651-4184-b38c-5dc5f394a04c\",\"type\":\"ResetTool\"},{\"attributes\":{\"fill_color\":{\"value\":\"#1f77b4\"},\"line_color\":{\"value\":\"#1f77b4\"},\"top\":{\"field\":\"flux\"},\"width\":{\"value\":0.9},\"x\":{\"field\":\"band\"}},\"id\":\"9e242601-d0bc-4d0f-b94a-0819b1382d91\",\"type\":\"VBar\"},{\"attributes\":{\"data_source\":{\"id\":\"8a3d53b8-4cc6-466a-8291-c286e6409927\",\"type\":\"ColumnDataSource\"},\"glyph\":{\"id\":\"9e242601-d0bc-4d0f-b94a-0819b1382d91\",\"type\":\"VBar\"},\"hover_glyph\":null,\"muted_glyph\":null,\"nonselection_glyph\":{\"id\":\"66abb40c-ecbe-4218-83e6-d9a51e0b69af\",\"type\":\"VBar\"},\"selection_glyph\":null,\"view\":{\"id\":\"13f91aad-86c2-418b-967a-db78b14d2a89\",\"type\":\"CDSView\"}},\"id\":\"98e00e0c-a31e-4bef-9d17-788169c353fe\",\"type\":\"GlyphRenderer\"},{\"attributes\":{\"children\":[{\"id\":\"d61fba23-5b45-4e52-abed-3f8f7345a92c\",\"subtype\":\"Figure\",\"type\":\"Plot\"},{\"id\":\"f25b1475-1b4e-46f2-bd3a-b2389ce2b5e4\",\"subtype\":\"Figure\",\"type\":\"Plot\"},{\"id\":\"8f5b27c3-c56c-4842-b411-ada34c0d0bdc\",\"subtype\":\"Figure\",\"type\":\"Plot\"}]},\"id\":\"878ee405-5bc5-4dcb-95e3-4bb267c70548\",\"type\":\"Row\"},{\"attributes\":{},\"id\":\"b32d51ec-44de-40dc-9625-9ca5f29a428c\",\"type\":\"UnionRenderers\"},{\"attributes\":{},\"id\":\"81348b4d-de4f-4349-9a67-30403ee61d59\",\"type\":\"PanTool\"},{\"attributes\":{},\"id\":\"ad4347b8-5b9b-44c1-9da8-fe25b5e28db6\",\"type\":\"BasicTickFormatter\"},{\"attributes\":{\"data_source\":{\"id\":\"9cf46c08-0e99-4862-bca1-1a48f9263c60\",\"type\":\"ColumnDataSource\"},\"glyph\":{\"id\":\"f3ccf1c3-236a-450c-bc05-e06f9d575a91\",\"type\":\"VBar\"},\"hover_glyph\":null,\"muted_glyph\":null,\"nonselection_glyph\":{\"id\":\"bd6fb358-5e66-43b7-aed4-1d041984833d\",\"type\":\"VBar\"},\"selection_glyph\":null,\"view\":{\"id\":\"95975d49-10c6-4345-b280-38acc3af724a\",\"type\":\"CDSView\"}},\"id\":\"f5cd80dd-c39f-4ac5-9ea3-bc605a76ffd6\",\"type\":\"GlyphRenderer\"},{\"attributes\":{},\"id\":\"f789cf3a-8266-48a8-a235-4da609deee58\",\"type\":\"SaveTool\"},{\"attributes\":{\"plot\":null,\"text\":\"TOA flux. CLIRAD - CRD.\"},\"id\":\"6be1aae2-f267-4a9b-ad95-bea5fb03c2fa\",\"type\":\"Title\"},{\"attributes\":{\"children\":[{\"id\":\"878ee405-5bc5-4dcb-95e3-4bb267c70548\",\"type\":\"Row\"}]},\"id\":\"01cd2c89-bf8a-4c73-ace3-f52c7a33c89b\",\"type\":\"Column\"},{\"attributes\":{\"callback\":null},\"id\":\"dba0ac06-1a0c-42a8-b778-4f7e5eb2e443\",\"type\":\"DataRange1d\"},{\"attributes\":{\"bottom_units\":\"screen\",\"fill_alpha\":{\"value\":0.5},\"fill_color\":{\"value\":\"lightgrey\"},\"left_units\":\"screen\",\"level\":\"overlay\",\"line_alpha\":{\"value\":1.0},\"line_color\":{\"value\":\"black\"},\"line_dash\":[4,4],\"line_width\":{\"value\":2},\"plot\":null,\"render_mode\":\"css\",\"right_units\":\"screen\",\"top_units\":\"screen\"},\"id\":\"2aadbfc6-37d5-4e18-bd76-0688818638b4\",\"type\":\"BoxAnnotation\"},{\"attributes\":{\"fill_alpha\":{\"value\":0.1},\"fill_color\":{\"value\":\"#1f77b4\"},\"line_alpha\":{\"value\":0.1},\"line_color\":{\"value\":\"#1f77b4\"},\"top\":{\"field\":\"flux\"},\"width\":{\"value\":0.9},\"x\":{\"field\":\"band\"}},\"id\":\"66abb40c-ecbe-4218-83e6-d9a51e0b69af\",\"type\":\"VBar\"},{\"attributes\":{},\"id\":\"99ff10a9-5603-4ed6-a3e5-89ca53293a64\",\"type\":\"UnionRenderers\"},{\"attributes\":{\"children\":[{\"id\":\"6a8f4170-90be-4baf-b720-7345017c8a31\",\"type\":\"ToolbarBox\"},{\"id\":\"01cd2c89-bf8a-4c73-ace3-f52c7a33c89b\",\"type\":\"Column\"}]},\"id\":\"51ec41e7-ff2c-4dde-95df-bf442fc1746f\",\"type\":\"Column\"},{\"attributes\":{},\"id\":\"bed1f258-1864-45de-b491-86c953882094\",\"type\":\"Selection\"},{\"attributes\":{},\"id\":\"d3f35b6d-ff23-4d05-bbac-488c8fe27cd1\",\"type\":\"BasicTicker\"},{\"attributes\":{\"source\":{\"id\":\"df17b6f9-f95d-46a0-be81-2841da35bf82\",\"type\":\"ColumnDataSource\"}},\"id\":\"130b1f7a-57bb-4056-9adc-d01572dec992\",\"type\":\"CDSView\"},{\"attributes\":{\"active_drag\":\"auto\",\"active_inspect\":\"auto\",\"active_scroll\":\"auto\",\"active_tap\":\"auto\",\"tools\":[{\"id\":\"81348b4d-de4f-4349-9a67-30403ee61d59\",\"type\":\"PanTool\"},{\"id\":\"73aa310a-b25d-4f31-a536-54427f34e58a\",\"type\":\"WheelZoomTool\"},{\"id\":\"0cbfc7c3-2389-4efa-9d22-234adfc8e04d\",\"type\":\"BoxZoomTool\"},{\"id\":\"41689fc0-f21d-49c3-b40d-45ba27aeb8b1\",\"type\":\"SaveTool\"},{\"id\":\"3fde629b-734c-428c-86a0-fb9e94c914ae\",\"type\":\"ResetTool\"},{\"id\":\"1bc2fc3d-7816-4143-b252-fc4a2ece80dc\",\"type\":\"HelpTool\"}]},\"id\":\"b08ac6b4-dafd-4117-a3be-24c23b6642ce\",\"type\":\"Toolbar\"},{\"attributes\":{\"dimension\":1,\"plot\":{\"id\":\"d61fba23-5b45-4e52-abed-3f8f7345a92c\",\"subtype\":\"Figure\",\"type\":\"Plot\"},\"ticker\":{\"id\":\"d3f35b6d-ff23-4d05-bbac-488c8fe27cd1\",\"type\":\"BasicTicker\"}},\"id\":\"9ebea2ed-4717-481e-8dc9-4fdd0865d635\",\"type\":\"Grid\"},{\"attributes\":{},\"id\":\"d60ff4a2-a60a-4f55-a452-65902eba9315\",\"type\":\"LinearScale\"},{\"attributes\":{\"toolbar\":{\"id\":\"fed8a62a-6302-46df-a9a9-ad4dfbd6863d\",\"type\":\"ProxyToolbar\"},\"toolbar_location\":\"above\"},\"id\":\"6a8f4170-90be-4baf-b720-7345017c8a31\",\"type\":\"ToolbarBox\"},{\"attributes\":{\"callback\":null,\"factors\":[\"7\"]},\"id\":\"40f3ac35-11ca-49ac-ad28-a12356e1ea3b\",\"type\":\"FactorRange\"},{\"attributes\":{},\"id\":\"4104ae82-ff82-4948-b9fe-43f9a70508ff\",\"type\":\"BasicTickFormatter\"},{\"attributes\":{},\"id\":\"9496e24a-8ebd-41a6-9572-592d79d8cd90\",\"type\":\"BasicTicker\"},{\"attributes\":{\"callback\":null},\"id\":\"755a3693-3974-4f29-b70e-258df4caa633\",\"type\":\"DataRange1d\"}],\"root_ids\":[\"51ec41e7-ff2c-4dde-95df-bf442fc1746f\"]},\"title\":\"Bokeh Application\",\"version\":\"0.12.16\"}};\n",
       "  var render_items = [{\"docid\":\"f400449d-53d0-42fc-95c7-ec2d1b48fd6b\",\"elementid\":\"d6414ea6-3b95-4aa9-981b-c617922d4469\",\"modelid\":\"51ec41e7-ff2c-4dde-95df-bf442fc1746f\"}];\n",
       "  root.Bokeh.embed.embed_items_notebook(docs_json, render_items);\n",
       "\n",
       "  }\n",
       "  if (root.Bokeh !== undefined) {\n",
       "    embed_document(root);\n",
       "  } else {\n",
       "    var attempts = 0;\n",
       "    var timer = setInterval(function(root) {\n",
       "      if (root.Bokeh !== undefined) {\n",
       "        embed_document(root);\n",
       "        clearInterval(timer);\n",
       "      }\n",
       "      attempts++;\n",
       "      if (attempts > 100) {\n",
       "        console.log(\"Bokeh: ERROR: Unable to run BokehJS code because BokehJS library is missing\")\n",
       "        clearInterval(timer);\n",
       "      }\n",
       "    }, 10, root)\n",
       "  }\n",
       "})(window);"
      ],
      "application/vnd.bokehjs_exec.v0+json": ""
     },
     "metadata": {
      "application/vnd.bokehjs_exec.v0+json": {
       "id": "51ec41e7-ff2c-4dde-95df-bf442fc1746f"
      }
     },
     "output_type": "display_data"
    },
    {
     "data": {
      "text/markdown": [
       "*FIGURE.* Difference between CLIRAD and CRD in TOA, SFC and net atmosphere flux, in each spectral band."
      ],
      "text/plain": [
       "<IPython.core.display.Markdown object>"
      ]
     },
     "metadata": {},
     "output_type": "display_data"
    },
    {
     "data": {
      "text/html": [
       "<div>\n",
       "<style scoped>\n",
       "    .dataframe tbody tr th:only-of-type {\n",
       "        vertical-align: middle;\n",
       "    }\n",
       "\n",
       "    .dataframe tbody tr th {\n",
       "        vertical-align: top;\n",
       "    }\n",
       "\n",
       "    .dataframe thead th {\n",
       "        text-align: right;\n",
       "    }\n",
       "</style>\n",
       "<table border=\"1\" class=\"dataframe\">\n",
       "  <thead>\n",
       "    <tr style=\"text-align: right;\">\n",
       "      <th></th>\n",
       "      <th>OLR flux</th>\n",
       "      <th>SFC flux</th>\n",
       "      <th>ATM heating</th>\n",
       "    </tr>\n",
       "    <tr>\n",
       "      <th>Sum over bands</th>\n",
       "      <th></th>\n",
       "      <th></th>\n",
       "      <th></th>\n",
       "    </tr>\n",
       "  </thead>\n",
       "  <tbody>\n",
       "    <tr>\n",
       "      <th>CLIRAD - CRD</th>\n",
       "      <td>-424.29</td>\n",
       "      <td>-0.14</td>\n",
       "      <td>0.39</td>\n",
       "    </tr>\n",
       "    <tr>\n",
       "      <th>CRD</th>\n",
       "      <td>-27.01</td>\n",
       "      <td>3.57</td>\n",
       "      <td>4.14</td>\n",
       "    </tr>\n",
       "  </tbody>\n",
       "</table>\n",
       "</div>"
      ],
      "text/plain": [
       "                OLR flux  SFC flux  ATM heating\n",
       "Sum over bands                                 \n",
       "CLIRAD - CRD     -424.29     -0.14         0.39\n",
       "CRD               -27.01      3.57         4.14"
      ]
     },
     "metadata": {},
     "output_type": "display_data"
    },
    {
     "data": {
      "text/markdown": [
       "*TABLE.* Difference between CLIRAD and CRD in TOA, SFC and net atmosphere flux, over all spectral bands. CRD's TOA, SFC and net atmosphere flux, over all spectral bands."
      ],
      "text/plain": [
       "<IPython.core.display.Markdown object>"
      ]
     },
     "metadata": {},
     "output_type": "display_data"
    },
    {
     "data": {
      "text/html": [
       "Download: <a href=\"./results_o3atm_cliradsinglerun-Copy2.xlsx\">results_o3atm_cliradsinglerun-Copy2.xlsx</a>"
      ],
      "text/plain": [
       "<IPython.core.display.HTML object>"
      ]
     },
     "metadata": {},
     "output_type": "display_data"
    }
   ],
   "source": [
    "def script():\n",
    "    \n",
    "    d_atm = {'mls': 'mid-latitude summer',\n",
    "             'saw': 'sub-arctic winter',\n",
    "             'trp': 'tropical'}\n",
    "    \n",
    "    title = ('## Results over entire range of molecules'\n",
    "             ' and spectral bands')\n",
    "    \n",
    "    s_makeup = 'Makeup of atmosphere.'\n",
    "    s_atmpro = '# {}'\n",
    "    s_cool = 'Cooling rates. {}.'\n",
    "    s_flux = 'Fluxes. {}.'\n",
    "    \n",
    "    atmpros = ['mls', 'saw', 'trp']\n",
    "    \n",
    "    # TOC\n",
    "    show_markdown(title)\n",
    "    show_markdown('### Table of Contents')\n",
    "    show_html(climahtml.getHTML_hrefanchor(s_makeup))\n",
    "    for atmpro in atmpros:\n",
    "        show_markdown('**' + d_atm[atmpro] + '**')\n",
    "        show_html(climahtml.getHTML_hrefanchor(s_cool.format(atmpro)))\n",
    "        show_html(climahtml.getHTML_hrefanchor(s_flux.format(atmpro)))\n",
    "\n",
    "        \n",
    "    # Atmosphere makeup\n",
    "    show_html(climahtml.getHTML_idanchor(s_makeup))\n",
    "    show_markdown(climahtml.getMarkdown_sectitle(s_makeup))\n",
    "    show_makeup()\n",
    "#    show_grey_makeup()\n",
    "        \n",
    "    for atmpro in atmpros:\n",
    "        show_html(climahtml.getHTML_idanchor(s_cool.format(atmpro)))\n",
    "        show_markdown(\n",
    "            climahtml.getMarkdown_sectitle(s_cool.format(atmpro)))\n",
    "        show_cool(atmpro=atmpro)\n",
    "        show_html(climahtml.getHTML_idanchor(s_flux.format(atmpro)))\n",
    "        show_markdown(\n",
    "            climahtml.getMarkdown_sectitle(s_flux.format(atmpro)))\n",
    "        show_hist_flux(atmpro=atmpro)\n",
    "        show_tb_flux(atmpro=atmpro)\n",
    "    \n",
    "    script_tofile()\n",
    "    \n",
    "script()  "
   ]
  },
  {
   "cell_type": "code",
   "execution_count": null,
   "metadata": {
    "collapsed": true
   },
   "outputs": [],
   "source": []
  },
  {
   "cell_type": "code",
   "execution_count": 18,
   "metadata": {},
   "outputs": [
    {
     "data": {
      "text/html": [
       "<script>\n",
       "code_show=true; \n",
       "function code_toggle() {\n",
       " if (code_show){\n",
       " $('div.input').hide();\n",
       " } else {\n",
       " $('div.input').show();\n",
       " }\n",
       " code_show = !code_show\n",
       "} \n",
       "$( document ).ready(code_toggle);\n",
       "</script>\n",
       "<form action=\"javascript:code_toggle()\"><input type=\"submit\" value=\"Click here to toggle on/off the raw code.\"></form>"
      ],
      "text/plain": [
       "<IPython.core.display.HTML object>"
      ]
     },
     "execution_count": 18,
     "metadata": {},
     "output_type": "execute_result"
    }
   ],
   "source": [
    "display.HTML('''<script>\n",
    "code_show=true; \n",
    "function code_toggle() {\n",
    " if (code_show){\n",
    " $('div.input').hide();\n",
    " } else {\n",
    " $('div.input').show();\n",
    " }\n",
    " code_show = !code_show\n",
    "} \n",
    "$( document ).ready(code_toggle);\n",
    "</script>\n",
    "<form action=\"javascript:code_toggle()\"><input type=\"submit\" value=\"Click here to toggle on/off the raw code.\"></form>''')"
   ]
  },
  {
   "cell_type": "code",
   "execution_count": null,
   "metadata": {
    "collapsed": true
   },
   "outputs": [],
   "source": []
  }
 ],
 "metadata": {
  "kernelspec": {
   "display_name": "Python 3",
   "language": "python",
   "name": "python3"
  },
  "language_info": {
   "codemirror_mode": {
    "name": "ipython",
    "version": 3
   },
   "file_extension": ".py",
   "mimetype": "text/x-python",
   "name": "python",
   "nbconvert_exporter": "python",
   "pygments_lexer": "ipython3",
   "version": "3.6.7"
  }
 },
 "nbformat": 4,
 "nbformat_minor": 2
}
