{
 "cells": [
  {
   "cell_type": "code",
   "execution_count": 47,
   "metadata": {
    "collapsed": true
   },
   "outputs": [],
   "source": [
    "%reload_ext autoreload\n",
    "%autoreload 2\n",
    "\n",
    "import os\n",
    "import ast\n",
    "import json\n",
    "import importlib \n",
    "import itertools\n",
    "import collections\n",
    "import pprint\n",
    "import pandas as pd\n",
    "import pymongo\n",
    "\n",
    "import climatools.atm.absorbers as absorbers\n",
    "import climatools.lblnew.bestfit_params as bestfits\n",
    "from climatools.lblnew import setup_bestfit, setup_overlap\n",
    "import climatools.lblnew.pipeline as pipe_lblnew\n",
    "import climatools.cliradlw.setup as setup_cliradlw\n",
    "import climatools.cliradlw.pipeline as pipe_cliradlw\n",
    "import climatools.cliradlw.runrecord as runrecord\n",
    "import climatools.cliradlw.utils as utils_cliradlw\n",
    "\n",
    "\n",
    "from IPython import display"
   ]
  },
  {
   "cell_type": "code",
   "execution_count": 48,
   "metadata": {
    "collapsed": true
   },
   "outputs": [],
   "source": [
    "pd.set_option('max_colwidth', -1)"
   ]
  },
  {
   "cell_type": "code",
   "execution_count": 49,
   "metadata": {
    "collapsed": true
   },
   "outputs": [],
   "source": [
    "client = pymongo.MongoClient('localhost', 27017)"
   ]
  },
  {
   "cell_type": "code",
   "execution_count": 50,
   "metadata": {
    "collapsed": true
   },
   "outputs": [],
   "source": [
    "ATMPROS = [('mls', 294), ('saw', 257), ('trp', 300)]"
   ]
  },
  {
   "cell_type": "code",
   "execution_count": 51,
   "metadata": {
    "collapsed": true
   },
   "outputs": [],
   "source": [
    "COMMITNUMBER = '1013f91' #'523cbb7'"
   ]
  },
  {
   "cell_type": "code",
   "execution_count": 52,
   "metadata": {
    "collapsed": true
   },
   "outputs": [],
   "source": [
    "def make_query(param):\n",
    "    return {f'param.{n}': v for n, v in param.items()}\n",
    "\n",
    "def get_nonoverlap_params():\n",
    "    return [{'commitnumber': COMMITNUMBER,\n",
    "             'molecule': {molecule: conc},\n",
    "             'band': [band],\n",
    "             'atmpro': atmpro, 'tsfc': tsfc}\n",
    "            for band, molconc in absorbers.nongreys_byband().items()\n",
    "            for molecule, conc in molconc.items()\n",
    "            for atmpro, tsfc in ATMPROS]\n",
    "\n",
    "def get_overlap_params():\n",
    "    return [{'commitnumber': COMMITNUMBER,\n",
    "             'molecule': molconc,\n",
    "             'band': [band],\n",
    "             'atmpro': atmpro, 'tsfc': tsfc}\n",
    "            for band, molconc in absorbers.nongreys_byband().items() if len(molconc) > 1\n",
    "            for atmpro, tsfc in ATMPROS]\n",
    " \n",
    "def cnt_docs(param=None):\n",
    "    return client.cliradnew.lw.count(make_query(param))\n",
    "\n",
    "def notebook_exists(param=None):\n",
    "    d = pipe_cliradlw.get_analysis_dir(param=param, setup=setup_cliradlw)\n",
    "    try:\n",
    "        return 'results_cliradlw.ipynb' in os.listdir(d)\n",
    "    except FileNotFoundError:\n",
    "        return False"
   ]
  },
  {
   "cell_type": "code",
   "execution_count": 53,
   "metadata": {
    "collapsed": true
   },
   "outputs": [],
   "source": [
    "def all_mls_params():\n",
    "    '''\n",
    "    All clirad-lw input parameter dictionaries the\n",
    "    results for which will be displayed in the weblink\n",
    "    table.\n",
    "    '''\n",
    "    params = get_nonoverlap_params() + get_overlap_params()\n",
    "    params = [p for p in params if p['atmpro'] == 'mls']\n",
    "    return params"
   ]
  },
  {
   "cell_type": "code",
   "execution_count": null,
   "metadata": {
    "collapsed": true
   },
   "outputs": [],
   "source": []
  },
  {
   "cell_type": "code",
   "execution_count": 54,
   "metadata": {
    "collapsed": true
   },
   "outputs": [],
   "source": [
    "def get_hrefs_clirad(param=None):\n",
    "    hrefs = []\n",
    "    for atmpro, _ in ATMPROS:\n",
    "        p = param.copy()\n",
    "        p['atmpro'] = atmpro\n",
    "        if notebook_exists(param=p):\n",
    "            url = pipe_cliradlw.nbviewer_url(param=p, \n",
    "                                             setup=setup_cliradlw)\n",
    "            s = f'''<a href=\"{url}\">{atmpro}</a>'''\n",
    "            hrefs.append(s)\n",
    "    s_hrefs = ' '.join(hrefs)\n",
    "    return s_hrefs\n",
    "\n",
    "def tb_hrefs_clirad():\n",
    "    df = pd.DataFrame()   \n",
    "    for param in all_mls_params():\n",
    "        hrefs = get_hrefs_clirad(param=param)\n",
    "        bands = [str(b) for b in param['band']]\n",
    "        df.loc['+'.join(param['molecule']), \n",
    "               '+'.join(bands)] = hrefs\n",
    "        \n",
    "    df = df.fillna('')\n",
    "    \n",
    "    bmap = utils_cliradlw.mapband_new2old()\n",
    "    lblnew_bands = [bmap[int(b)] for b in df.columns]\n",
    "    columns = pd.MultiIndex.from_arrays([lblnew_bands, df.columns],\n",
    "                                        names=['lblnew', 'clirad'])\n",
    "    df.columns = columns\n",
    "    return df"
   ]
  },
  {
   "cell_type": "code",
   "execution_count": 55,
   "metadata": {
    "collapsed": true
   },
   "outputs": [],
   "source": [
    "def script():\n",
    "    df = tb_hrefs_clirad()\n",
    "    \n",
    "    s_html = df.to_html(escape=False)\n",
    "    display.display(display.HTML(s_html))"
   ]
  },
  {
   "cell_type": "code",
   "execution_count": 56,
   "metadata": {},
   "outputs": [
    {
     "data": {
      "text/html": [
       "<table border=\"1\" class=\"dataframe\">\n",
       "  <thead>\n",
       "    <tr>\n",
       "      <th>lblnew</th>\n",
       "      <th>1</th>\n",
       "      <th>2</th>\n",
       "      <th>3a</th>\n",
       "      <th>3b</th>\n",
       "      <th>3c</th>\n",
       "      <th>4</th>\n",
       "      <th>5</th>\n",
       "      <th>6</th>\n",
       "      <th>7</th>\n",
       "      <th>8</th>\n",
       "      <th>9</th>\n",
       "    </tr>\n",
       "    <tr>\n",
       "      <th>clirad</th>\n",
       "      <th>1</th>\n",
       "      <th>2</th>\n",
       "      <th>3</th>\n",
       "      <th>4</th>\n",
       "      <th>5</th>\n",
       "      <th>6</th>\n",
       "      <th>7</th>\n",
       "      <th>8</th>\n",
       "      <th>9</th>\n",
       "      <th>10</th>\n",
       "      <th>11</th>\n",
       "    </tr>\n",
       "  </thead>\n",
       "  <tbody>\n",
       "    <tr>\n",
       "      <th>h2o</th>\n",
       "      <td><a href=\"http://nbviewer.jupyter.org/github/qap/analysis_-_new_kdist_param/blob/master/clirad/h2o_mls/band_1/atmpro_mls/cliradlw_1013f91/results_cliradlw.ipynb\">mls</a> <a href=\"http://nbviewer.jupyter.org/github/qap/analysis_-_new_kdist_param/blob/master/clirad/h2o_saw/band_1/atmpro_saw/cliradlw_1013f91/results_cliradlw.ipynb\">saw</a> <a href=\"http://nbviewer.jupyter.org/github/qap/analysis_-_new_kdist_param/blob/master/clirad/h2o_trp/band_1/atmpro_trp/cliradlw_1013f91/results_cliradlw.ipynb\">trp</a></td>\n",
       "      <td><a href=\"http://nbviewer.jupyter.org/github/qap/analysis_-_new_kdist_param/blob/master/clirad/h2o_mls/band_2/atmpro_mls/cliradlw_1013f91/results_cliradlw.ipynb\">mls</a> <a href=\"http://nbviewer.jupyter.org/github/qap/analysis_-_new_kdist_param/blob/master/clirad/h2o_saw/band_2/atmpro_saw/cliradlw_1013f91/results_cliradlw.ipynb\">saw</a> <a href=\"http://nbviewer.jupyter.org/github/qap/analysis_-_new_kdist_param/blob/master/clirad/h2o_trp/band_2/atmpro_trp/cliradlw_1013f91/results_cliradlw.ipynb\">trp</a></td>\n",
       "      <td><a href=\"http://nbviewer.jupyter.org/github/qap/analysis_-_new_kdist_param/blob/master/clirad/h2o_mls/band_3/atmpro_mls/cliradlw_1013f91/results_cliradlw.ipynb\">mls</a> <a href=\"http://nbviewer.jupyter.org/github/qap/analysis_-_new_kdist_param/blob/master/clirad/h2o_saw/band_3/atmpro_saw/cliradlw_1013f91/results_cliradlw.ipynb\">saw</a> <a href=\"http://nbviewer.jupyter.org/github/qap/analysis_-_new_kdist_param/blob/master/clirad/h2o_trp/band_3/atmpro_trp/cliradlw_1013f91/results_cliradlw.ipynb\">trp</a></td>\n",
       "      <td><a href=\"http://nbviewer.jupyter.org/github/qap/analysis_-_new_kdist_param/blob/master/clirad/h2o_mls/band_4/atmpro_mls/cliradlw_1013f91/results_cliradlw.ipynb\">mls</a> <a href=\"http://nbviewer.jupyter.org/github/qap/analysis_-_new_kdist_param/blob/master/clirad/h2o_saw/band_4/atmpro_saw/cliradlw_1013f91/results_cliradlw.ipynb\">saw</a> <a href=\"http://nbviewer.jupyter.org/github/qap/analysis_-_new_kdist_param/blob/master/clirad/h2o_trp/band_4/atmpro_trp/cliradlw_1013f91/results_cliradlw.ipynb\">trp</a></td>\n",
       "      <td><a href=\"http://nbviewer.jupyter.org/github/qap/analysis_-_new_kdist_param/blob/master/clirad/h2o_mls/band_5/atmpro_mls/cliradlw_1013f91/results_cliradlw.ipynb\">mls</a> <a href=\"http://nbviewer.jupyter.org/github/qap/analysis_-_new_kdist_param/blob/master/clirad/h2o_saw/band_5/atmpro_saw/cliradlw_1013f91/results_cliradlw.ipynb\">saw</a> <a href=\"http://nbviewer.jupyter.org/github/qap/analysis_-_new_kdist_param/blob/master/clirad/h2o_trp/band_5/atmpro_trp/cliradlw_1013f91/results_cliradlw.ipynb\">trp</a></td>\n",
       "      <td><a href=\"http://nbviewer.jupyter.org/github/qap/analysis_-_new_kdist_param/blob/master/clirad/h2o_mls/band_6/atmpro_mls/cliradlw_1013f91/results_cliradlw.ipynb\">mls</a> <a href=\"http://nbviewer.jupyter.org/github/qap/analysis_-_new_kdist_param/blob/master/clirad/h2o_saw/band_6/atmpro_saw/cliradlw_1013f91/results_cliradlw.ipynb\">saw</a> <a href=\"http://nbviewer.jupyter.org/github/qap/analysis_-_new_kdist_param/blob/master/clirad/h2o_trp/band_6/atmpro_trp/cliradlw_1013f91/results_cliradlw.ipynb\">trp</a></td>\n",
       "      <td><a href=\"http://nbviewer.jupyter.org/github/qap/analysis_-_new_kdist_param/blob/master/clirad/h2o_mls/band_7/atmpro_mls/cliradlw_1013f91/results_cliradlw.ipynb\">mls</a> <a href=\"http://nbviewer.jupyter.org/github/qap/analysis_-_new_kdist_param/blob/master/clirad/h2o_saw/band_7/atmpro_saw/cliradlw_1013f91/results_cliradlw.ipynb\">saw</a> <a href=\"http://nbviewer.jupyter.org/github/qap/analysis_-_new_kdist_param/blob/master/clirad/h2o_trp/band_7/atmpro_trp/cliradlw_1013f91/results_cliradlw.ipynb\">trp</a></td>\n",
       "      <td><a href=\"http://nbviewer.jupyter.org/github/qap/analysis_-_new_kdist_param/blob/master/clirad/h2o_mls/band_8/atmpro_mls/cliradlw_1013f91/results_cliradlw.ipynb\">mls</a> <a href=\"http://nbviewer.jupyter.org/github/qap/analysis_-_new_kdist_param/blob/master/clirad/h2o_saw/band_8/atmpro_saw/cliradlw_1013f91/results_cliradlw.ipynb\">saw</a> <a href=\"http://nbviewer.jupyter.org/github/qap/analysis_-_new_kdist_param/blob/master/clirad/h2o_trp/band_8/atmpro_trp/cliradlw_1013f91/results_cliradlw.ipynb\">trp</a></td>\n",
       "      <td><a href=\"http://nbviewer.jupyter.org/github/qap/analysis_-_new_kdist_param/blob/master/clirad/h2o_mls/band_9/atmpro_mls/cliradlw_1013f91/results_cliradlw.ipynb\">mls</a> <a href=\"http://nbviewer.jupyter.org/github/qap/analysis_-_new_kdist_param/blob/master/clirad/h2o_saw/band_9/atmpro_saw/cliradlw_1013f91/results_cliradlw.ipynb\">saw</a> <a href=\"http://nbviewer.jupyter.org/github/qap/analysis_-_new_kdist_param/blob/master/clirad/h2o_trp/band_9/atmpro_trp/cliradlw_1013f91/results_cliradlw.ipynb\">trp</a></td>\n",
       "      <td><a href=\"http://nbviewer.jupyter.org/github/qap/analysis_-_new_kdist_param/blob/master/clirad/h2o_mls/band_10/atmpro_mls/cliradlw_1013f91/results_cliradlw.ipynb\">mls</a> <a href=\"http://nbviewer.jupyter.org/github/qap/analysis_-_new_kdist_param/blob/master/clirad/h2o_saw/band_10/atmpro_saw/cliradlw_1013f91/results_cliradlw.ipynb\">saw</a> <a href=\"http://nbviewer.jupyter.org/github/qap/analysis_-_new_kdist_param/blob/master/clirad/h2o_trp/band_10/atmpro_trp/cliradlw_1013f91/results_cliradlw.ipynb\">trp</a></td>\n",
       "      <td><a href=\"http://nbviewer.jupyter.org/github/qap/analysis_-_new_kdist_param/blob/master/clirad/h2o_mls/band_11/atmpro_mls/cliradlw_1013f91/results_cliradlw.ipynb\">mls</a> <a href=\"http://nbviewer.jupyter.org/github/qap/analysis_-_new_kdist_param/blob/master/clirad/h2o_saw/band_11/atmpro_saw/cliradlw_1013f91/results_cliradlw.ipynb\">saw</a> <a href=\"http://nbviewer.jupyter.org/github/qap/analysis_-_new_kdist_param/blob/master/clirad/h2o_trp/band_11/atmpro_trp/cliradlw_1013f91/results_cliradlw.ipynb\">trp</a></td>\n",
       "    </tr>\n",
       "    <tr>\n",
       "      <th>co2</th>\n",
       "      <td></td>\n",
       "      <td></td>\n",
       "      <td><a href=\"http://nbviewer.jupyter.org/github/qap/analysis_-_new_kdist_param/blob/master/clirad/co2_0.0004/band_3/atmpro_mls/cliradlw_1013f91/results_cliradlw.ipynb\">mls</a> <a href=\"http://nbviewer.jupyter.org/github/qap/analysis_-_new_kdist_param/blob/master/clirad/co2_0.0004/band_3/atmpro_saw/cliradlw_1013f91/results_cliradlw.ipynb\">saw</a> <a href=\"http://nbviewer.jupyter.org/github/qap/analysis_-_new_kdist_param/blob/master/clirad/co2_0.0004/band_3/atmpro_trp/cliradlw_1013f91/results_cliradlw.ipynb\">trp</a></td>\n",
       "      <td><a href=\"http://nbviewer.jupyter.org/github/qap/analysis_-_new_kdist_param/blob/master/clirad/co2_0.0004/band_4/atmpro_mls/cliradlw_1013f91/results_cliradlw.ipynb\">mls</a> <a href=\"http://nbviewer.jupyter.org/github/qap/analysis_-_new_kdist_param/blob/master/clirad/co2_0.0004/band_4/atmpro_saw/cliradlw_1013f91/results_cliradlw.ipynb\">saw</a> <a href=\"http://nbviewer.jupyter.org/github/qap/analysis_-_new_kdist_param/blob/master/clirad/co2_0.0004/band_4/atmpro_trp/cliradlw_1013f91/results_cliradlw.ipynb\">trp</a></td>\n",
       "      <td><a href=\"http://nbviewer.jupyter.org/github/qap/analysis_-_new_kdist_param/blob/master/clirad/co2_0.0004/band_5/atmpro_mls/cliradlw_1013f91/results_cliradlw.ipynb\">mls</a> <a href=\"http://nbviewer.jupyter.org/github/qap/analysis_-_new_kdist_param/blob/master/clirad/co2_0.0004/band_5/atmpro_saw/cliradlw_1013f91/results_cliradlw.ipynb\">saw</a> <a href=\"http://nbviewer.jupyter.org/github/qap/analysis_-_new_kdist_param/blob/master/clirad/co2_0.0004/band_5/atmpro_trp/cliradlw_1013f91/results_cliradlw.ipynb\">trp</a></td>\n",
       "      <td><a href=\"http://nbviewer.jupyter.org/github/qap/analysis_-_new_kdist_param/blob/master/clirad/co2_0.0004/band_6/atmpro_mls/cliradlw_1013f91/results_cliradlw.ipynb\">mls</a> <a href=\"http://nbviewer.jupyter.org/github/qap/analysis_-_new_kdist_param/blob/master/clirad/co2_0.0004/band_6/atmpro_saw/cliradlw_1013f91/results_cliradlw.ipynb\">saw</a> <a href=\"http://nbviewer.jupyter.org/github/qap/analysis_-_new_kdist_param/blob/master/clirad/co2_0.0004/band_6/atmpro_trp/cliradlw_1013f91/results_cliradlw.ipynb\">trp</a></td>\n",
       "      <td><a href=\"http://nbviewer.jupyter.org/github/qap/analysis_-_new_kdist_param/blob/master/clirad/co2_0.0004/band_7/atmpro_mls/cliradlw_1013f91/results_cliradlw.ipynb\">mls</a> <a href=\"http://nbviewer.jupyter.org/github/qap/analysis_-_new_kdist_param/blob/master/clirad/co2_0.0004/band_7/atmpro_saw/cliradlw_1013f91/results_cliradlw.ipynb\">saw</a> <a href=\"http://nbviewer.jupyter.org/github/qap/analysis_-_new_kdist_param/blob/master/clirad/co2_0.0004/band_7/atmpro_trp/cliradlw_1013f91/results_cliradlw.ipynb\">trp</a></td>\n",
       "      <td></td>\n",
       "      <td></td>\n",
       "      <td></td>\n",
       "      <td><a href=\"http://nbviewer.jupyter.org/github/qap/analysis_-_new_kdist_param/blob/master/clirad/co2_0.0004/band_11/atmpro_mls/cliradlw_1013f91/results_cliradlw.ipynb\">mls</a> <a href=\"http://nbviewer.jupyter.org/github/qap/analysis_-_new_kdist_param/blob/master/clirad/co2_0.0004/band_11/atmpro_saw/cliradlw_1013f91/results_cliradlw.ipynb\">saw</a> <a href=\"http://nbviewer.jupyter.org/github/qap/analysis_-_new_kdist_param/blob/master/clirad/co2_0.0004/band_11/atmpro_trp/cliradlw_1013f91/results_cliradlw.ipynb\">trp</a></td>\n",
       "    </tr>\n",
       "    <tr>\n",
       "      <th>n2o</th>\n",
       "      <td></td>\n",
       "      <td></td>\n",
       "      <td><a href=\"http://nbviewer.jupyter.org/github/qap/analysis_-_new_kdist_param/blob/master/clirad/n2o_3.2e-07/band_3/atmpro_mls/cliradlw_1013f91/results_cliradlw.ipynb\">mls</a> <a href=\"http://nbviewer.jupyter.org/github/qap/analysis_-_new_kdist_param/blob/master/clirad/n2o_3.2e-07/band_3/atmpro_saw/cliradlw_1013f91/results_cliradlw.ipynb\">saw</a> <a href=\"http://nbviewer.jupyter.org/github/qap/analysis_-_new_kdist_param/blob/master/clirad/n2o_3.2e-07/band_3/atmpro_trp/cliradlw_1013f91/results_cliradlw.ipynb\">trp</a></td>\n",
       "      <td></td>\n",
       "      <td></td>\n",
       "      <td></td>\n",
       "      <td></td>\n",
       "      <td></td>\n",
       "      <td><a href=\"http://nbviewer.jupyter.org/github/qap/analysis_-_new_kdist_param/blob/master/clirad/n2o_3.2e-07/band_9/atmpro_mls/cliradlw_1013f91/results_cliradlw.ipynb\">mls</a> <a href=\"http://nbviewer.jupyter.org/github/qap/analysis_-_new_kdist_param/blob/master/clirad/n2o_3.2e-07/band_9/atmpro_saw/cliradlw_1013f91/results_cliradlw.ipynb\">saw</a> <a href=\"http://nbviewer.jupyter.org/github/qap/analysis_-_new_kdist_param/blob/master/clirad/n2o_3.2e-07/band_9/atmpro_trp/cliradlw_1013f91/results_cliradlw.ipynb\">trp</a></td>\n",
       "      <td></td>\n",
       "      <td></td>\n",
       "    </tr>\n",
       "    <tr>\n",
       "      <th>o3</th>\n",
       "      <td></td>\n",
       "      <td></td>\n",
       "      <td></td>\n",
       "      <td></td>\n",
       "      <td></td>\n",
       "      <td></td>\n",
       "      <td><a href=\"http://nbviewer.jupyter.org/github/qap/analysis_-_new_kdist_param/blob/master/clirad/o3_mls/band_7/atmpro_mls/cliradlw_1013f91/results_cliradlw.ipynb\">mls</a> <a href=\"http://nbviewer.jupyter.org/github/qap/analysis_-_new_kdist_param/blob/master/clirad/o3_saw/band_7/atmpro_saw/cliradlw_1013f91/results_cliradlw.ipynb\">saw</a> <a href=\"http://nbviewer.jupyter.org/github/qap/analysis_-_new_kdist_param/blob/master/clirad/o3_trp/band_7/atmpro_trp/cliradlw_1013f91/results_cliradlw.ipynb\">trp</a></td>\n",
       "      <td></td>\n",
       "      <td></td>\n",
       "      <td></td>\n",
       "      <td></td>\n",
       "    </tr>\n",
       "    <tr>\n",
       "      <th>ch4</th>\n",
       "      <td></td>\n",
       "      <td></td>\n",
       "      <td></td>\n",
       "      <td></td>\n",
       "      <td></td>\n",
       "      <td></td>\n",
       "      <td></td>\n",
       "      <td></td>\n",
       "      <td><a href=\"http://nbviewer.jupyter.org/github/qap/analysis_-_new_kdist_param/blob/master/clirad/ch4_1.8e-06/band_9/atmpro_mls/cliradlw_1013f91/results_cliradlw.ipynb\">mls</a> <a href=\"http://nbviewer.jupyter.org/github/qap/analysis_-_new_kdist_param/blob/master/clirad/ch4_1.8e-06/band_9/atmpro_saw/cliradlw_1013f91/results_cliradlw.ipynb\">saw</a> <a href=\"http://nbviewer.jupyter.org/github/qap/analysis_-_new_kdist_param/blob/master/clirad/ch4_1.8e-06/band_9/atmpro_trp/cliradlw_1013f91/results_cliradlw.ipynb\">trp</a></td>\n",
       "      <td></td>\n",
       "      <td></td>\n",
       "    </tr>\n",
       "    <tr>\n",
       "      <th>co2+h2o+n2o</th>\n",
       "      <td></td>\n",
       "      <td></td>\n",
       "      <td><a href=\"http://nbviewer.jupyter.org/github/qap/analysis_-_new_kdist_param/blob/master/clirad/h2o_mls_co2_0.0004_n2o_3.2e-07/band_3/atmpro_mls/cliradlw_1013f91/results_cliradlw.ipynb\">mls</a> <a href=\"http://nbviewer.jupyter.org/github/qap/analysis_-_new_kdist_param/blob/master/clirad/h2o_saw_co2_0.0004_n2o_3.2e-07/band_3/atmpro_saw/cliradlw_1013f91/results_cliradlw.ipynb\">saw</a> <a href=\"http://nbviewer.jupyter.org/github/qap/analysis_-_new_kdist_param/blob/master/clirad/h2o_trp_co2_0.0004_n2o_3.2e-07/band_3/atmpro_trp/cliradlw_1013f91/results_cliradlw.ipynb\">trp</a></td>\n",
       "      <td></td>\n",
       "      <td></td>\n",
       "      <td></td>\n",
       "      <td></td>\n",
       "      <td></td>\n",
       "      <td></td>\n",
       "      <td></td>\n",
       "      <td></td>\n",
       "    </tr>\n",
       "    <tr>\n",
       "      <th>co2+h2o</th>\n",
       "      <td></td>\n",
       "      <td></td>\n",
       "      <td></td>\n",
       "      <td></td>\n",
       "      <td></td>\n",
       "      <td></td>\n",
       "      <td></td>\n",
       "      <td></td>\n",
       "      <td></td>\n",
       "      <td></td>\n",
       "      <td></td>\n",
       "    </tr>\n",
       "    <tr>\n",
       "      <th>co2+h2o+o3</th>\n",
       "      <td></td>\n",
       "      <td></td>\n",
       "      <td></td>\n",
       "      <td></td>\n",
       "      <td></td>\n",
       "      <td></td>\n",
       "      <td></td>\n",
       "      <td></td>\n",
       "      <td></td>\n",
       "      <td></td>\n",
       "      <td></td>\n",
       "    </tr>\n",
       "    <tr>\n",
       "      <th>ch4+h2o+n2o</th>\n",
       "      <td></td>\n",
       "      <td></td>\n",
       "      <td></td>\n",
       "      <td></td>\n",
       "      <td></td>\n",
       "      <td></td>\n",
       "      <td></td>\n",
       "      <td></td>\n",
       "      <td></td>\n",
       "      <td></td>\n",
       "      <td></td>\n",
       "    </tr>\n",
       "  </tbody>\n",
       "</table>"
      ],
      "text/plain": [
       "<IPython.core.display.HTML object>"
      ]
     },
     "metadata": {},
     "output_type": "display_data"
    }
   ],
   "source": [
    "script()"
   ]
  },
  {
   "cell_type": "code",
   "execution_count": 57,
   "metadata": {
    "scrolled": true
   },
   "outputs": [
    {
     "data": {
      "text/html": [
       "<script>\n",
       "code_show=true; \n",
       "function code_toggle() {\n",
       " if (code_show){\n",
       " $('div.input').hide();\n",
       " } else {\n",
       " $('div.input').show();\n",
       " }\n",
       " code_show = !code_show\n",
       "} \n",
       "$( document ).ready(code_toggle);\n",
       "</script>\n",
       "<form action=\"javascript:code_toggle()\"><input type=\"submit\" value=\"Click here to toggle on/off the raw code.\"></form>"
      ],
      "text/plain": [
       "<IPython.core.display.HTML object>"
      ]
     },
     "execution_count": 57,
     "metadata": {},
     "output_type": "execute_result"
    }
   ],
   "source": [
    "display.HTML('''<script>\n",
    "code_show=true; \n",
    "function code_toggle() {\n",
    " if (code_show){\n",
    " $('div.input').hide();\n",
    " } else {\n",
    " $('div.input').show();\n",
    " }\n",
    " code_show = !code_show\n",
    "} \n",
    "$( document ).ready(code_toggle);\n",
    "</script>\n",
    "<form action=\"javascript:code_toggle()\"><input type=\"submit\" value=\"Click here to toggle on/off the raw code.\"></form>''')"
   ]
  },
  {
   "cell_type": "code",
   "execution_count": null,
   "metadata": {
    "collapsed": true
   },
   "outputs": [],
   "source": []
  }
 ],
 "metadata": {
  "kernelspec": {
   "display_name": "Python 3",
   "language": "python",
   "name": "python3"
  },
  "language_info": {
   "codemirror_mode": {
    "name": "ipython",
    "version": 3
   },
   "file_extension": ".py",
   "mimetype": "text/x-python",
   "name": "python",
   "nbconvert_exporter": "python",
   "pygments_lexer": "ipython3",
   "version": "3.6.1"
  }
 },
 "nbformat": 4,
 "nbformat_minor": 2
}
