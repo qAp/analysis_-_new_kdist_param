{
 "cells": [
  {
   "cell_type": "code",
   "execution_count": 21,
   "metadata": {},
   "outputs": [
    {
     "data": {
      "text/plain": [
       "<module 'climatools.cliradlw.pipeline' from '/chia_cluster/home/jackyu/climatools/climatools/cliradlw/pipeline.py'>"
      ]
     },
     "execution_count": 21,
     "metadata": {},
     "output_type": "execute_result"
    }
   ],
   "source": [
    "import importlib \n",
    "import itertools\n",
    "import collections\n",
    "import pprint\n",
    "\n",
    "import pandas as pd\n",
    "\n",
    "from climatools.lblnew import (setup_bestfit, \n",
    "                               setup_overlap,\n",
    "                               pipeline,\n",
    "                               bestfit_params)\n",
    "\n",
    "import climatools.cliradlw.setup as setup_clirad\n",
    "import climatools.cliradlw.pipeline as pipeline_clirad\n",
    "\n",
    "\n",
    "\n",
    "from IPython import display\n",
    "\n",
    "importlib.reload(bestfit_params)\n",
    "importlib.reload(setup_bestfit)\n",
    "importlib.reload(setup_overlap)\n",
    "importlib.reload(pipeline)\n",
    "importlib.reload(bestfit_params)\n",
    "importlib.reload(setup_clirad)\n",
    "importlib.reload(pipeline_clirad)"
   ]
  },
  {
   "cell_type": "code",
   "execution_count": 22,
   "metadata": {
    "collapsed": true
   },
   "outputs": [],
   "source": [
    "pd.set_option('max_colwidth', -1)"
   ]
  },
  {
   "cell_type": "code",
   "execution_count": 17,
   "metadata": {
    "collapsed": true
   },
   "outputs": [],
   "source": [
    "def gas_names():\n",
    "    return ('h2o', 'co2', 'o3', 'n2o', 'ch4')\n",
    "\n",
    "\n",
    "def band_names():\n",
    "    return ('1', '2', \n",
    "            '3a', '3b', '3c',\n",
    "            '4', '5', '6', '7', '8', '9')\n",
    "\n",
    "\n",
    "def bestfit_cases_byband():\n",
    "    d = {}\n",
    "    \n",
    "    d['1'] = ['h2o']\n",
    "    d['2'] = ['h2o']\n",
    "    d['3a'] = ['h2o', 'co2', 'n2o']\n",
    "    d['3b'] = ['h2o', 'co2']\n",
    "    d['3c'] = ['h2o', 'co2']\n",
    "    d['4'] = ['h2o', 'co2']\n",
    "    d['5'] = ['h2o', 'co2', 'o3']\n",
    "    d['6'] = ['h2o', 'ch4']\n",
    "    d['7'] = ['h2o', 'n2o', 'ch4']\n",
    "    d['8'] = ['h2o']\n",
    "    d['9'] = ['h2o', 'co2', 'o3']\n",
    "    return d\n",
    "\n",
    "\n"
   ]
  },
  {
   "cell_type": "code",
   "execution_count": 55,
   "metadata": {
    "collapsed": true
   },
   "outputs": [],
   "source": [
    "def get_hrefs_clirad(param=None):\n",
    "    atmpros = ('mls', 'saw', 'trp')\n",
    "        \n",
    "    hrefs = []\n",
    "    for atmpro in atmpros:\n",
    "        p = param.copy()\n",
    "        p['atmpro'] = atmpro\n",
    "        url = pipeline_clirad.nbviewer_url(param=p, setup=setup_clirad)\n",
    "        \n",
    "        s = '''<a href=\"{}\">{}</a>'''\n",
    "        s = s.format(url, atmpro)\n",
    "        hrefs.append(s)\n",
    "    s_hrefs = ' '.join(hrefs)\n",
    "    return s_hrefs\n",
    "\n",
    "\n",
    "\n",
    "def tb_hrefs_clirad():\n",
    "    df = pd.DataFrame()\n",
    "    \n",
    "    for param in setup_clirad.test_cases():\n",
    "        \n",
    "        hrefs = get_hrefs_clirad(param=param)\n",
    "        \n",
    "        bands = [str(b) for b in param['band']]\n",
    "        \n",
    "        df.loc['+'.join(param['molecule']), \n",
    "               '+'.join(bands)] = hrefs\n",
    "        \n",
    "        print(param)\n",
    "        print()\n",
    "        print(hrefs)\n",
    "        print()\n",
    "        print(bands)\n",
    "        print()\n",
    "        \n",
    "    df = df.fillna('')\n",
    "    return df\n",
    "        \n"
   ]
  },
  {
   "cell_type": "code",
   "execution_count": 56,
   "metadata": {
    "collapsed": true
   },
   "outputs": [],
   "source": [
    "def script():\n",
    "    df = tb_hrefs_clirad()\n",
    "    \n",
    "    s_html = df.to_html(escape=False)\n",
    "    display.display(display.HTML(s_html))"
   ]
  },
  {
   "cell_type": "code",
   "execution_count": 57,
   "metadata": {
    "scrolled": false
   },
   "outputs": [
    {
     "name": "stdout",
     "output_type": "stream",
     "text": [
      "{'atmpro': 'mls', 'band': [1], 'commitnumber': '4198f95', 'molecule': {'h2o': 'atmpro'}, 'tsfc': 294}\n",
      "\n",
      "<a href=\"http://nbviewer.jupyter.org/github/qap/analysis_-_new_kdist_param/blob/master/clirad/h2o_mls/band_1/atmpro_mls/cliradlw_4198f95/results_cliradlw.ipynb\">mls</a> <a href=\"http://nbviewer.jupyter.org/github/qap/analysis_-_new_kdist_param/blob/master/clirad/h2o_saw/band_1/atmpro_saw/cliradlw_4198f95/results_cliradlw.ipynb\">saw</a> <a href=\"http://nbviewer.jupyter.org/github/qap/analysis_-_new_kdist_param/blob/master/clirad/h2o_trp/band_1/atmpro_trp/cliradlw_4198f95/results_cliradlw.ipynb\">trp</a>\n",
      "\n",
      "['1']\n",
      "\n",
      "{'atmpro': 'mls', 'band': [2], 'commitnumber': '4198f95', 'molecule': {'h2o': 'atmpro'}, 'tsfc': 294}\n",
      "\n",
      "<a href=\"http://nbviewer.jupyter.org/github/qap/analysis_-_new_kdist_param/blob/master/clirad/h2o_mls/band_2/atmpro_mls/cliradlw_4198f95/results_cliradlw.ipynb\">mls</a> <a href=\"http://nbviewer.jupyter.org/github/qap/analysis_-_new_kdist_param/blob/master/clirad/h2o_saw/band_2/atmpro_saw/cliradlw_4198f95/results_cliradlw.ipynb\">saw</a> <a href=\"http://nbviewer.jupyter.org/github/qap/analysis_-_new_kdist_param/blob/master/clirad/h2o_trp/band_2/atmpro_trp/cliradlw_4198f95/results_cliradlw.ipynb\">trp</a>\n",
      "\n",
      "['2']\n",
      "\n",
      "{'atmpro': 'mls', 'band': [10], 'commitnumber': 'de5d43e', 'molecule': {'h2o': 'atmpro'}, 'tsfc': 294}\n",
      "\n",
      "<a href=\"http://nbviewer.jupyter.org/github/qap/analysis_-_new_kdist_param/blob/master/clirad/h2o_mls/band_10/atmpro_mls/cliradlw_de5d43e/results_cliradlw.ipynb\">mls</a> <a href=\"http://nbviewer.jupyter.org/github/qap/analysis_-_new_kdist_param/blob/master/clirad/h2o_saw/band_10/atmpro_saw/cliradlw_de5d43e/results_cliradlw.ipynb\">saw</a> <a href=\"http://nbviewer.jupyter.org/github/qap/analysis_-_new_kdist_param/blob/master/clirad/h2o_trp/band_10/atmpro_trp/cliradlw_de5d43e/results_cliradlw.ipynb\">trp</a>\n",
      "\n",
      "['10']\n",
      "\n"
     ]
    },
    {
     "data": {
      "text/html": [
       "<table border=\"1\" class=\"dataframe\">\n",
       "  <thead>\n",
       "    <tr style=\"text-align: right;\">\n",
       "      <th></th>\n",
       "      <th>1</th>\n",
       "      <th>2</th>\n",
       "      <th>10</th>\n",
       "    </tr>\n",
       "  </thead>\n",
       "  <tbody>\n",
       "    <tr>\n",
       "      <th>h2o</th>\n",
       "      <td><a href=\"http://nbviewer.jupyter.org/github/qap/analysis_-_new_kdist_param/blob/master/clirad/h2o_mls/band_1/atmpro_mls/cliradlw_4198f95/results_cliradlw.ipynb\">mls</a> <a href=\"http://nbviewer.jupyter.org/github/qap/analysis_-_new_kdist_param/blob/master/clirad/h2o_saw/band_1/atmpro_saw/cliradlw_4198f95/results_cliradlw.ipynb\">saw</a> <a href=\"http://nbviewer.jupyter.org/github/qap/analysis_-_new_kdist_param/blob/master/clirad/h2o_trp/band_1/atmpro_trp/cliradlw_4198f95/results_cliradlw.ipynb\">trp</a></td>\n",
       "      <td><a href=\"http://nbviewer.jupyter.org/github/qap/analysis_-_new_kdist_param/blob/master/clirad/h2o_mls/band_2/atmpro_mls/cliradlw_4198f95/results_cliradlw.ipynb\">mls</a> <a href=\"http://nbviewer.jupyter.org/github/qap/analysis_-_new_kdist_param/blob/master/clirad/h2o_saw/band_2/atmpro_saw/cliradlw_4198f95/results_cliradlw.ipynb\">saw</a> <a href=\"http://nbviewer.jupyter.org/github/qap/analysis_-_new_kdist_param/blob/master/clirad/h2o_trp/band_2/atmpro_trp/cliradlw_4198f95/results_cliradlw.ipynb\">trp</a></td>\n",
       "      <td><a href=\"http://nbviewer.jupyter.org/github/qap/analysis_-_new_kdist_param/blob/master/clirad/h2o_mls/band_10/atmpro_mls/cliradlw_de5d43e/results_cliradlw.ipynb\">mls</a> <a href=\"http://nbviewer.jupyter.org/github/qap/analysis_-_new_kdist_param/blob/master/clirad/h2o_saw/band_10/atmpro_saw/cliradlw_de5d43e/results_cliradlw.ipynb\">saw</a> <a href=\"http://nbviewer.jupyter.org/github/qap/analysis_-_new_kdist_param/blob/master/clirad/h2o_trp/band_10/atmpro_trp/cliradlw_de5d43e/results_cliradlw.ipynb\">trp</a></td>\n",
       "    </tr>\n",
       "  </tbody>\n",
       "</table>"
      ],
      "text/plain": [
       "<IPython.core.display.HTML object>"
      ]
     },
     "metadata": {},
     "output_type": "display_data"
    }
   ],
   "source": [
    "script()"
   ]
  },
  {
   "cell_type": "code",
   "execution_count": 58,
   "metadata": {},
   "outputs": [
    {
     "data": {
      "text/html": [
       "<script>\n",
       "code_show=true; \n",
       "function code_toggle() {\n",
       " if (code_show){\n",
       " $('div.input').hide();\n",
       " } else {\n",
       " $('div.input').show();\n",
       " }\n",
       " code_show = !code_show\n",
       "} \n",
       "$( document ).ready(code_toggle);\n",
       "</script>\n",
       "<form action=\"javascript:code_toggle()\"><input type=\"submit\" value=\"Click here to toggle on/off the raw code.\"></form>"
      ],
      "text/plain": [
       "<IPython.core.display.HTML object>"
      ]
     },
     "execution_count": 58,
     "metadata": {},
     "output_type": "execute_result"
    }
   ],
   "source": [
    "display.HTML('''<script>\n",
    "code_show=true; \n",
    "function code_toggle() {\n",
    " if (code_show){\n",
    " $('div.input').hide();\n",
    " } else {\n",
    " $('div.input').show();\n",
    " }\n",
    " code_show = !code_show\n",
    "} \n",
    "$( document ).ready(code_toggle);\n",
    "</script>\n",
    "<form action=\"javascript:code_toggle()\"><input type=\"submit\" value=\"Click here to toggle on/off the raw code.\"></form>''')"
   ]
  },
  {
   "cell_type": "code",
   "execution_count": null,
   "metadata": {
    "collapsed": true
   },
   "outputs": [],
   "source": []
  }
 ],
 "metadata": {
  "kernelspec": {
   "display_name": "Python 3",
   "language": "python",
   "name": "python3"
  },
  "language_info": {
   "codemirror_mode": {
    "name": "ipython",
    "version": 3
   },
   "file_extension": ".py",
   "mimetype": "text/x-python",
   "name": "python",
   "nbconvert_exporter": "python",
   "pygments_lexer": "ipython3",
   "version": "3.6.1"
  }
 },
 "nbformat": 4,
 "nbformat_minor": 2
}
